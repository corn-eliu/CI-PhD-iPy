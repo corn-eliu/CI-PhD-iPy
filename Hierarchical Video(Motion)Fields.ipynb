{
 "metadata": {
  "name": ""
 },
 "nbformat": 3,
 "nbformat_minor": 0,
 "worksheets": [
  {
   "cells": [
    {
     "cell_type": "code",
     "collapsed": false,
     "input": [
      "## Imports and defines\n",
      "%pylab \n",
      "\n",
      "from PIL import Image\n",
      "from PySide import QtCore, QtGui\n",
      "\n",
      "import numpy as np\n",
      "import scipy as sp\n",
      "import scipy.io as sio\n",
      "import cv2\n",
      "import cv\n",
      "import glob\n",
      "import time\n",
      "\n",
      "\n",
      "import sys\n",
      "import os\n",
      "from scipy import ndimage\n",
      "from scipy import stats\n",
      "\n",
      "from tsne import tsne\n",
      "\n",
      "from _emd import emd\n",
      "\n",
      "import GraphWithValues as gwv\n",
      "import VideoTexturesUtils as vtu\n",
      "import ComputeGridFeatures as cgf\n",
      "\n",
      "from pygraph.classes.digraph import digraph\n",
      "from pygraph.classes.graph import graph\n",
      "from pygraph.readwrite.dot import write\n",
      "from pygraph.algorithms.minmax import shortest_path\n",
      "\n",
      "dataFolder = \"/home/ilisescu/PhD/data/\"\n",
      "POSE = 0\n",
      "VELOCITY = 1\n",
      "FUT_VELOCITY = 2\n",
      "\n",
      "app = QtGui.QApplication(sys.argv)"
     ],
     "language": "python",
     "metadata": {},
     "outputs": [
      {
       "output_type": "stream",
       "stream": "stdout",
       "text": [
        "Using matplotlib backend: TkAgg\n",
        "Populating the interactive namespace from numpy and matplotlib\n",
        "Couldn't import dot_parser, loading of dot files will not be possible."
       ]
      },
      {
       "output_type": "stream",
       "stream": "stdout",
       "text": [
        "\n"
       ]
      }
     ],
     "prompt_number": 1
    },
    {
     "cell_type": "code",
     "collapsed": false,
     "input": [
      "## read frames from sequence of images\n",
      "# sampleData = \"pendulum/\"\n",
      "sampleData = \"ribbon2/\"\n",
      "# sampleData = \"flag_blender/\"\n",
      "# sampleData = \"ribbon1_matted/\"\n",
      "# sampleData = \"little_palm1_cropped/\"\n",
      "# sampleData = \"ballAnimation/\"\n",
      "outputData = dataFolder+sampleData\n",
      "\n",
      "## Find pngs in sample data\n",
      "frames = glob.glob(dataFolder + sampleData + \"frame-*.png\")\n",
      "mattes = glob.glob(dataFolder + sampleData + \"matte-*.png\")\n",
      "frames = np.sort(frames)\n",
      "mattes = np.sort(mattes)#[0:len(frames)-10]\n",
      "numFrames = len(frames)\n",
      "frameSize = cv2.imread(frames[0]).shape\n",
      "print numFrames, len(mattes)"
     ],
     "language": "python",
     "metadata": {},
     "outputs": [
      {
       "output_type": "stream",
       "stream": "stdout",
       "text": [
        "1280 1280\n"
       ]
      }
     ],
     "prompt_number": 2
    },
    {
     "cell_type": "code",
     "collapsed": false,
     "input": [
      "############# GETTING FEATURES FROM FRAMES ###############\n",
      "\n",
      "## compute features for image\n",
      "blocksPerWidth = 4#16#32\n",
      "blocksPerHeight = 4#16#48\n",
      "subDivisions = blocksPerWidth*blocksPerHeight\n",
      "\n",
      "## given block sizes and img sizes build indices representing each block\n",
      "imageSize = np.array(cv2.cvtColor(cv2.imread(frames[0]), cv2.COLOR_BGR2RGB)).shape\n",
      "stencils = cgf.stencil2D(blocksPerWidth, blocksPerHeight, imageSize)\n",
      "\n",
      "# features = cgf.histFgFeatures(stencils, subDivisions, frames, mattes)\n",
      "features = np.load(\"tmpfeat.npy\")\n",
      "figure(); imshow(features.T, interpolation='nearest')\n",
      "\n",
      "# np.save(\"tmpfeat.npy\", features)"
     ],
     "language": "python",
     "metadata": {},
     "outputs": [
      {
       "metadata": {},
       "output_type": "pyout",
       "prompt_number": 3,
       "text": [
        "<matplotlib.image.AxesImage at 0x7ffa11959650>"
       ]
      }
     ],
     "prompt_number": 3
    },
    {
     "cell_type": "code",
     "collapsed": false,
     "input": [
      "np.save(\"tmpfeat.npy\", features)\n",
      "np.save(\"tmpv.npy\", v)"
     ],
     "language": "python",
     "metadata": {},
     "outputs": [],
     "prompt_number": 25
    },
    {
     "cell_type": "code",
     "collapsed": false,
     "input": [
      "############# INITIALIZING FRAME STATES AND DISTANCE MATRIX ###############\n",
      "\n",
      "## video field data\n",
      "print \"fg histogram features: \", features.shape\n",
      "numStates = features.shape[0]-2\n",
      "descriptorSize = features.shape[1]\n",
      "## fs contains all the f's, i.e. frame states\n",
      "## f = (x, v, y), x is pixel data/fg features, v = x'-x ('=i+1), y = x\"-x'\n",
      "## compute x's\n",
      "fs = np.copy(np.reshape(features[0:numStates, :], (numStates, descriptorSize, 1)))\n",
      "## compute v's\n",
      "fs = np.concatenate((fs, (features[1:-1, :]-features[0:-2, :]).reshape((numStates, descriptorSize, 1))), axis=-1)\n",
      "## compute y's\n",
      "fs = np.concatenate((fs, (features[2:, :]-features[1:-1, :]).reshape((numStates, descriptorSize, 1))), axis=-1)\n",
      "print fs.shape[0], \"frame states(lost\", features.shape[0]-numStates, \"because I need extra frames at\",\n",
      "print \"the end for computing v and y),\", \"features size is\", fs.shape[1]\n",
      "\n",
      "## load distance matrix as dissimilarity matrix d\n",
      "## d(f, f') says how dissimilar states f and f' are from each other\n",
      "# distanceMatrix = np.array(np.load(outputData + \"hist2demd_16x16_distMat\" + \".npy\"), dtype=np.float)\n",
      "# distanceMatrix = np.array(np.load(outputData + \"hog_distMat\" + \".npy\"), dtype=np.float)\n",
      "distanceMatrix = np.array(np.load(outputData + \"appearance_hog_L2_set150_distMat\" + \".npy\"), dtype=np.float)\n",
      "# distanceMatrix = np.array(np.load(outputData + \"semantics_hog_set150_distMat\" + \".npy\"), dtype=np.float)\n",
      "# distanceMatrix = np.array(np.load(outputData + \"appearance_set150_grid16x16_ABS_distMat\" + \".npy\"), dtype=np.float)\n",
      "# distanceMatrix = np.array(np.load(outputData + \"appearance_hog_set150_fisher_distMat\" + \".npy\"), dtype=np.float)\n",
      "# distanceMatrix = np.array(np.load(outputData + \"vanilla_distMat\" + \".npy\"), dtype=np.float)\n",
      "distanceMatrix /= np.max(distanceMatrix)\n",
      "if True :\n",
      "    filterSize = 4\n",
      "    distMat = vtu.filterDistanceMatrix(distanceMatrix, filterSize, True)\n",
      "    ## troncate fs to match indices in d to indices in fs\n",
      "    fs = np.copy(fs[filterSize:numStates-(filterSize-2), :, :])\n",
      "    print fs.shape[0], \"frame states(lost\", numStates-fs.shape[0], \"because I had to filter 8 frames out for \",\n",
      "    print \"dynamicism preservation),\", \"features size is\", fs.shape[1]\n",
      "else :\n",
      "    filterSize = 0\n",
      "    distMat = np.copy(distanceMatrix[0:-2, 0:-2])\n",
      "    \n",
      "figure(); imshow(distMat, interpolation='nearest')\n",
      "d = np.copy(distMat)\n",
      "numStates = fs.shape[0]"
     ],
     "language": "python",
     "metadata": {},
     "outputs": [
      {
       "output_type": "stream",
       "stream": "stdout",
       "text": [
        "fg histogram features:  (1280, 16)\n",
        "1278 frame states(lost 2 because I need extra frames at the end for computing v and y), features size is 16\n",
        "1272 frame states(lost 6 because I had to filter 8 frames out for  dynamicism preservation), features size is 16\n"
       ]
      }
     ],
     "prompt_number": 29
    },
    {
     "cell_type": "code",
     "collapsed": false,
     "input": [
      "############# INITIALIZING TRANSITIONS COST MATRIX ###############\n",
      "\n",
      "## transition cost based on appearance are the shifted up distance matrix\n",
      "t = np.copy(d[1:d.shape[1], 0:-1])\n",
      "## this is used to compute appearance reward\n",
      "transProbs = vtu.dist2prob(t, 0.5, True)\n",
      "d = np.copy(d[0:-1, 0:-1])\n",
      "## troncate fs to match indices in d to indices in fs\n",
      "fs = np.copy(fs[0:-1, :, :])\n",
      "print fs.shape[0], \"frame states(lost\", numStates-fs.shape[0], \"because transition cost does not\",\n",
      "print \"have info about last frame),\", \"features size is\", fs.shape[1]\n",
      "numStates = fs.shape[0]"
     ],
     "language": "python",
     "metadata": {},
     "outputs": [
      {
       "output_type": "stream",
       "stream": "stdout",
       "text": [
        "sigma 3.65404758824\n",
        "1271"
       ]
      },
      {
       "output_type": "stream",
       "stream": "stdout",
       "text": [
        " frame states(lost 1 because transition cost does not have info about last frame), features size is 16\n"
       ]
      }
     ],
     "prompt_number": 30
    },
    {
     "cell_type": "code",
     "collapsed": false,
     "input": [
      "############# COMPUTING FRAME STATES NEIGHBOURS AND SIMILARITY WEIGHTS ###############\n",
      "\n",
      "## find k-nearest neighbors based on transition costs\n",
      "k = 15\n",
      "neighbours = np.argsort(t+(np.eye(d.shape[0])*np.max(d)+1))[:, 0:k] #np.argsort(d)[:, 0:k] # we don't want ourselves as neighbour\n",
      "# figure(); imshow(neighbours)\n",
      "\n",
      "# w are similarity weights\n",
      "w = 1/(0.01 + d[np.reshape(range(d.shape[0]), (d.shape[0], 1)).repeat(k, axis=-1), neighbours]**2)#(np.sort(d)[:, 1:k+1]**2)\n",
      "# normalize to make weights sum to 1\n",
      "w /= np.repeat(np.reshape(np.sum(w, axis=-1), (numStates, 1)), k, axis=-1)"
     ],
     "language": "python",
     "metadata": {},
     "outputs": [],
     "prompt_number": 31
    },
    {
     "cell_type": "code",
     "collapsed": false,
     "input": [
      "print np.argwhere(d[np.reshape(range(d.shape[0]), (d.shape[0], 1)).repeat(k, axis=-1), neighbours]**2 == 0)\n",
      "print w[23, :]\n",
      "print neighbours[23, :]"
     ],
     "language": "python",
     "metadata": {},
     "outputs": [
      {
       "output_type": "stream",
       "stream": "stdout",
       "text": [
        "[]\n",
        "[ 0.1004307   0.07613367  0.05198213  0.0692525   0.04713922  0.07930677\n",
        "  0.09859188  0.07613367  0.05563737  0.04899175  0.05680927  0.07257097\n",
        "  0.06012163  0.05884636  0.0480521 ]\n",
        "[ 22  32 813  30 722  31  34  25  28 422  26  33  35  27 720]\n"
       ]
      }
     ],
     "prompt_number": 7
    },
    {
     "cell_type": "code",
     "collapsed": false,
     "input": [
      "############# LOADING LABELS AND INITIALIZING VIDEO FIELD A ###############\n",
      "\n",
      "# load labels to use as taskParamsValues\n",
      "# labels = np.load(outputData + \"hist2demd_mult0.02_16x16_labels.npy\")[()]['labelProbs']\n",
      "# labels = np.load(outputData + \"appearance_hog_L2_set150_userex80_mult0.048_labels.npy\")[()]['labelProbs']\n",
      "labels = np.load(outputData + \"semantics_hog_L2_set150_userex80_mult0.035_labels.npy\")[()]['labelProbs']\n",
      "# labels = np.load(outputData + \"l2dist_guiex_set60_mult0.045_labels.npy\")[()]['labelProbs']\n",
      "possibleLabelTasks = np.eye(labels.shape[-1])\n",
      "\n",
      "# compute video field A value at each state, i.e. compute possible actions at each state as defined in section 4.1\n",
      "# A[i, :, :] gives KxK matrix where each row is an action that favors the neighbour corresponding to row idx\n",
      "A = np.zeros((numStates, k , k))\n",
      "for fIdx in range(numStates) :\n",
      "    tmp = np.repeat(np.reshape(w[fIdx, :], (1, k)), k, axis=0)\n",
      "    ## set action corresponding to ith neighbour to 1\n",
      "    tmp[np.where(np.eye(k)==1)] = 1\n",
      "    ## and renormalize\n",
      "    tmp /= np.repeat(np.reshape(np.sum(tmp, axis=-1), (k, 1)), k, axis=-1) #np.repeat(np.reshape(np.sum(tmp, axis=0), (1, k)), k, axis=0)\n",
      "    A[fIdx, :, :] = np.copy(tmp)"
     ],
     "language": "python",
     "metadata": {},
     "outputs": [],
     "prompt_number": 36
    },
    {
     "cell_type": "code",
     "collapsed": false,
     "input": [
      "clrs = ['r', 'g', 'b', 'm']\n",
      "fig1 = figure()\n",
      "xlabel('all points')\n",
      "\n",
      "for i in xrange(0, 4) :\n",
      "    figure(fig1.number); plot(labels[:, i], clrs[i])"
     ],
     "language": "python",
     "metadata": {},
     "outputs": [],
     "prompt_number": 37
    },
    {
     "cell_type": "code",
     "collapsed": false,
     "input": [
      "############# INITIALIZING THE SET OF TASK STATES ###############\n",
      "\n",
      "## ss contains all the s's, i.e. task states\n",
      "ss = []\n",
      "for i in xrange(numStates) :\n",
      "    ss.append({'frameState': fs[i, :, :], 'taskParams': (labels[i, :], i)})"
     ],
     "language": "python",
     "metadata": {},
     "outputs": [],
     "prompt_number": 38
    },
    {
     "cell_type": "code",
     "collapsed": false,
     "input": [
      "print len(ss)\n",
      "print ss[0]\n",
      "print np.argsort(t[0, :])[0:15]\n",
      "print np.sort(t[0, :])[0:15]\n",
      "print np.max(t[0, :]), np.max(t)\n",
      "print 1/((np.sort(t[0, :])+1)**2)[0:15], np.min(1/((np.sort(t[0, :])+1)**2))\n",
      "print distMat.shape\n",
      "print neighbours[0, :]\n",
      "print w[0, :]"
     ],
     "language": "python",
     "metadata": {},
     "outputs": [
      {
       "output_type": "stream",
       "stream": "stdout",
       "text": [
        "1271\n",
        "{'frameState': array([[    0.,     0.,     0.],\n",
        "       [    0.,     0.,     0.],\n",
        "       [  164.,   -15.,   -35.],\n",
        "       [    0.,     0.,     0.],\n",
        "       [    0.,     0.,     0.],\n",
        "       [ 3759.,  -493., -1072.],\n",
        "       [ 2678.,   340.,   572.],\n",
        "       [    0.,     0.,     0.],\n",
        "       [    0.,     0.,     0.],\n",
        "       [   94.,   -22.,   -72.],\n",
        "       [ 6424.,  1102.,   944.],\n",
        "       [    0.,     0.,     0.],\n",
        "       [    0.,     0.,     0.],\n",
        "       [    0.,     0.,     0.],\n",
        "       [    0.,    29.,   477.],\n",
        "       [    0.,     0.,     0.]]), 'taskParams': (array([ 0.49502881,  0.48232676,  0.02181433,  0.0008301 ]), 0)}\n",
        "[126 128 127 124   0 122 125   2  91 129  97  95 121 123  92]\n",
        "[ 1.76  1.8   1.84  1.85  1.88  1.92  2.    2.06  2.12  2.14  2.19  2.21\n",
        "  2.21  2.23  2.24]\n",
        "9.0 9.0\n",
        "[ 0.13127494  0.12755102  0.12398334  0.1231148   0.12056327  0.11728279\n",
        "  0.11111111  0.10679653  0.10272847  0.10142399  0.09826947  0.09704875\n",
        "  0.09704875  0.09585063  0.09525987] 0.01\n",
        "(1272, 1272)\n",
        "[126 128 127 124 122 125   2  91 129  97  95 121 123  92  94]\n",
        "[ 0.09016827  0.06865501  0.1118606   0.07422109  0.04419293  0.08593526\n",
        "  0.05924813  0.04542326  0.06807546  0.06116388  0.05089628  0.05525338\n",
        "  0.09016827  0.04770344  0.04703475]\n"
       ]
      }
     ],
     "prompt_number": 10
    },
    {
     "cell_type": "code",
     "collapsed": false,
     "input": [
      "def integrateFrameState(frameState, action, neighbours, delta, neighboursIndices) :\n",
      "    \"\"\"Computes a new frame state from frameState given action weights and neighbours to interpolate from.\n",
      "    \n",
      "           frameState: Nx3 array containing (x, v, y), with N the descriptor size\n",
      "           action: 1xK array of weights\n",
      "           neighbours: 1xK frame states\n",
      "           delta: tugging parameter in [0, 1]\n",
      "           neighboursIndices: contains the indices in fs of the given neighbours\n",
      "           \n",
      "        return: newFrameState\"\"\"\n",
      "    if len(action) != neighbours.shape[0] :\n",
      "        raise Exception(\"Number of action weights and neighbours does not match\")\n",
      "    \n",
      "    newFrameState = np.zeros(frameState.shape)\n",
      "    \n",
      "    descriptorSize = neighbours.shape[1]\n",
      "    k = len(action)\n",
      "    actionWeights = np.repeat(np.reshape(action, (k, 1)), descriptorSize, axis=-1)\n",
      "    closestFrameState = neighbours[0, :, :]\n",
      "    \n",
      "    ## interpolate new pose based on velocities v (equation 5)\n",
      "    newFrameState[:, POSE] = frameState[:, POSE] + (1-delta)*np.sum(actionWeights*neighbours[:, :, VELOCITY], axis=0) + delta*(closestFrameState[:, POSE]+closestFrameState[:, VELOCITY]-frameState[:, POSE])\n",
      "    ## interpolate new velocity based on future velocities y (equation 6)\n",
      "    newFrameState[:, VELOCITY] = (1-delta)*np.sum(actionWeights*neighbours[:, :, FUT_VELOCITY], axis=0) + delta*closestFrameState[:, FUT_VELOCITY]\n",
      "    ## hack to avoid the interpolation thing\n",
      "    return np.copy(neighbours[np.argmax(action), :, :]), neighboursIndices[np.argmax(action)] #newFrameState\n",
      "\n",
      "def integrateTaskState(taskState, action, delta, neighboursIndices, taskStates, frameStates) :\n",
      "    \"\"\"Computes a new task state with a newly integrated frame state and update task parameters.\n",
      "    \n",
      "           taskState: dict {'frameState':a frame state, 'taskParams': theta task parameters}\n",
      "           action: 1xK array of weights\n",
      "           neighbours: 1xK frame states\n",
      "           delta: tugging parameter in [0, 1]\n",
      "           neighboursIndices: contains the indices in fs of the given neighbours\n",
      "           taskStates: contains the full set of N task states\n",
      "           frameStates: contains the full set of N frame states\n",
      "           \n",
      "        return: newTaskState\"\"\"\n",
      "    newFrameState, newIdx = integrateFrameState(taskState['frameState'], action, frameStates[neighboursIndices, :, :], delta, neighboursIndices)\n",
      "#     newTaskState = {'frameState':newFrameState, 'taskParams':taskParamsValues[newIdx, :]}\n",
      "    newTaskState = taskStates[newIdx]\n",
      "    \n",
      "    return newTaskState, newIdx\n",
      "    "
     ],
     "language": "python",
     "metadata": {},
     "outputs": [],
     "prompt_number": 11
    },
    {
     "cell_type": "code",
     "collapsed": false,
     "input": [
      "## test integration function\n",
      "fIdx = 234\n",
      "newTaskState, newIdx = integrateTaskState(ss[fIdx], A[fIdx, 8, :], 1.0, neighbours[fIdx, :], ss, fs)\n",
      "print neighbours[fIdx]\n",
      "print labels[newIdx, :]\n",
      "print newTaskState\n",
      "print np.sum(newTaskState['taskParams'][0])\n",
      "print newIdx"
     ],
     "language": "python",
     "metadata": {},
     "outputs": [
      {
       "output_type": "stream",
       "stream": "stdout",
       "text": [
        "[237 236 232 233 238 180 240 181 231 239 228 230 229 246 179]\n",
        "[ 0.10945747  0.13679089  0.49765614  0.2560955 ]\n",
        "{'frameState': array([[    0.,     0.,     0.],\n",
        "       [    0.,     0.,     0.],\n",
        "       [   79.,   -25.,    46.],\n",
        "       [    0.,     0.,     0.],\n",
        "       [    0.,     0.,     0.],\n",
        "       [  214.,   -65.,   -43.],\n",
        "       [ 6381.,   613.,   189.],\n",
        "       [    0.,     0.,     0.],\n",
        "       [    0.,     0.,     0.],\n",
        "       [    0.,     0.,     0.],\n",
        "       [  658.,   232.,  -128.],\n",
        "       [    0.,     0.,     0.],\n",
        "       [    0.,     0.,     0.],\n",
        "       [    0.,     0.,     0.],\n",
        "       [    0.,     0.,     0.],\n",
        "       [    0.,     0.,     0.]]), 'taskParams': (array([ 0.10945747,  0.13679089,  0.49765614,  0.2560955 ]), 231)}\n",
        "1.00000000481\n",
        "231\n"
       ]
      }
     ],
     "prompt_number": 12
    },
    {
     "cell_type": "code",
     "collapsed": false,
     "input": [
      "def semanticLabelsTask(currentLabels, goalLabels) :\n",
      "    \"\"\"Computes the distance in [0.0, 1.0] between currentLabels and goalLabels\n",
      "            \n",
      "            currentLabels: the semantic labels of current state\n",
      "            goalLabels: the semantic labels of goal task\n",
      "        \n",
      "        return: distance d\"\"\"\n",
      "    d = (2.0-np.sum(np.abs(currentLabels-goalLabels)))/2.0\n",
      "    return d\n",
      "\n",
      "def idxTask(currentIdx, goalIdx, numFrames) :\n",
      "    \"\"\"Computes the distance in [0.0, 1.0] between currentIdx and goalIdx given the total number of frames\n",
      "        Distance defined as 1-(current - goal)/total\n",
      "            \n",
      "            currentIdx: the index of the current state\n",
      "            goalIdx: the index of the goal state\n",
      "            numFrames: total number of frames\n",
      "        \n",
      "        return: distance d\"\"\"\n",
      "    tot = np.max((goalIdx, np.abs(goalIdx-numFrames)))\n",
      "    d = 1.0-(float(np.abs(currentIdx-goalIdx))/float(tot))\n",
      "    return d\n",
      "\n",
      "def idxStepTask(currentIdx, goalIdx, numFrames) : \n",
      "    \"\"\"Computes the distance in [0.0, 1.0] between currentIdx and goalIdx given the total number of frames\n",
      "        Distance defined as a smoothstep function\n",
      "            \n",
      "            currentIdx: the index of the current state\n",
      "            goalIdx: the index of the goal state\n",
      "            numFrames: total number of frames\n",
      "        \n",
      "        return: distance d\"\"\"\n",
      "    stepReward = smoothStep(arange(0.0, numFrames), 0.0, 80.0*2, 0.3)\n",
      "    d = stepReward[np.abs(currentIdx-goalIdx)]\n",
      "    return d\n",
      "\n",
      "def idxRangeTask(currentIdx, goalIdx, numFrames) : \n",
      "    \"\"\"Computes the distance in [0.0, 1.0] between currentIdx and goalIdx given the total number of frames\n",
      "        Distance defined as a smoothstep function\n",
      "            \n",
      "            currentIdx: the index of the current state\n",
      "            goalIdx: the index of the goal state\n",
      "            numFrames: total number of frames\n",
      "        \n",
      "        return: distance d\"\"\"\n",
      "    rangeSize = 10.0\n",
      "#     tot = np.max((goalIdx, np.abs(goalIdx-numFrames)))\n",
      "#     d = 1.0-np.floor((float(np.abs(currentIdx-goalIdx))+rangeSize/2.0)/rangeSize)*float(rangeSize/tot)\n",
      "    d = np.exp(-np.floor((np.abs(currentIdx-goalIdx)+rangeSize/2)/rangeSize)/(numFrames/(rangeSize*10)))\n",
      "    return d\n",
      "\n",
      "\n",
      "def r_t(taskState, neighboursTaskParamsValues, action, taskToPerform) :\n",
      "    \"\"\"Computes the task reward [0.0, 1.0] of performing action at taskState given the taskToPerform\n",
      "            \n",
      "            taskState: dict {'frameState':a frame state, 'taskParams': theta task parameters}\n",
      "            neighboursTaskParamsValues: kxN array containing the N task labels of the k neighbours of taskState\n",
      "            action: action performed at taskState\n",
      "            taskToPerform: task that needs to be performed\n",
      "        \n",
      "        return: reward r\n",
      "        \n",
      "        NOTE: since the action is not actually used for interpolation, only the neighbour corresponding to the heighest action weight are considered\"\"\"\n",
      "    \n",
      "    r = (2.0-np.sum(np.abs(neighboursTaskParamsValues[np.argmax(action)]-taskToPerform)))/2.0\n",
      "    return r\n",
      "\n",
      "def r_ht(tiers, tierFunctions, tierImportance) :\n",
      "    \"\"\"Computes the hierarchical task reward [0.0, 1.0] given the state values at the various tiers, the functions to call for each tier and the importance of each tier\n",
      "            \n",
      "            tiers: for each tier contains the values of the parameters the corresponding tier function needs\n",
      "            tierFunctions: pointers to functions for each tier\n",
      "            tierImportance: how much each tier contributes to final reward\n",
      "        \n",
      "        return: reward r\n",
      "        \n",
      "        NOTE: since the action is not actually used for interpolation, only the neighbour corresponding to the heighest action weight are considered\"\"\"\n",
      "    \n",
      "    if len(tierImportance) != len(tiers) or len(tierImportance) != len(tierFunctions) :\n",
      "        raise Exception(\"length mismatch in hierarchical task reward\")\n",
      "        \n",
      "#     print \"la\", tiers\n",
      "    r = 0\n",
      "    for i in xrange(len(tierImportance)) :\n",
      "#         print \"la\", tierImportance[i], tierFunctions[i](*tiers[i]), \n",
      "        r += tierImportance[i]*tierFunctions[i](*tiers[i])\n",
      "#     print\n",
      "    return r\n",
      "\n",
      "def getTaskHierarchyTiers(taskState, neighboursIdxs, action, taskToPerform, taskStates) :\n",
      "    \"\"\"Returns the tiers used to compute the hierachical task reward\n",
      "            \n",
      "            taskState: dict {'frameState':a frame state, 'taskParams': theta task parameters}\n",
      "            neighboursIdxs: indices of neighbours of taskState in the set of task states\n",
      "            action: action performed at taskState\n",
      "            taskToPerform: hierarchical task that needs to be performed\n",
      "            taskStates: full list of task states\n",
      "        \n",
      "        return: tiers\n",
      "        \n",
      "        NOTE: since the action is not actually used for interpolation, only the neighbour corresponding to the heighest action weight are considered\"\"\"\n",
      "    \n",
      "    tiers = ((taskStates[neighboursIdxs[np.argmax(action)]]['taskParams'][0], taskToPerform[0]), \n",
      "             (taskStates[neighboursIdxs[np.argmax(action)]]['taskParams'][1], taskToPerform[1], len(taskStates)))\n",
      "    return tiers\n",
      "    \n",
      "\n",
      "def r_a(taskState, stateIdx, neighboursIdxs, action, transitionsCost, p) :\n",
      "    \"\"\"Computes the apperance reward [0.0, 1.0] of performing action at taskState given the appearance-based transition cost\n",
      "            \n",
      "            taskState: dict {'frameState':a frame state, 'taskParams': theta task parameters}\n",
      "            stateIdx: index of taskState in the set of task states\n",
      "            neighboursIdxs: indices of neighbours of taskState in the set of task states\n",
      "            action: action performed at taskState\n",
      "            transitionsCost: NxN matrix continaing transition costs from frame i to frame j\n",
      "            p: controls the tradeoff between taking multiple good transitions versus a single poorer one\n",
      "        \n",
      "        return: reward r\n",
      "        \n",
      "        NOTE: since the action is not actually used for interpolation, only the neighbour corresponding to the heighest action weight are considered\"\"\"\n",
      "    \n",
      "#     costs = 1.0/(transitionsCost[stateIdx, neighboursIdxs]**p)\n",
      "#     costs /= np.max(costs)\n",
      "    costs = transProbs[stateIdx, neighboursIdxs]/np.max(transProbs[stateIdx, :])\n",
      "    r = costs[np.argmax(action)]\n",
      "    return r\n",
      "    \n",
      "def pi_l(taskState, actions, valueFunction, stateIdx, neighboursIndices, taskToPerform, transitionsCost, l, p, tierFunctions, tierImportance, taskStates, frameStates, verbose=False):\n",
      "    \"\"\"Gives the next best action based on a lookahead policy to maximize reward.\n",
      "    \n",
      "            taskState: dict {'frameState':a frame state, 'taskParams': theta task parameters}\n",
      "            actions: possible actions from state KxK matrix where each row is an action\n",
      "            valueFunction: 1xN precomputed value function that represents future reward\n",
      "            stateIdx: is the idx of state in states\n",
      "            neighboursIndices: list of neighbour states indices for each state\n",
      "            taskToPerform: task that needs to be performed\n",
      "            transitionsCost: NxN matrix continaing transition costs from frame i to frame j\n",
      "            l: controls the tradeoff between favouring good looking transitions versus task-wise good transitions\n",
      "            p: controls the tradeoff between taking multiple good transitions versus a single poorer one\n",
      "            tierFunctions: kxN array containing the N task labels of the k neighbours of taskState\n",
      "            tierImportance: how much each tier contributes to final reward\n",
      "            taskStates: contains the full set of N task states\n",
      "            frameStates: contains the full set of N frame states\n",
      "            verbose: print additional information\n",
      "        \n",
      "        return: bestAction, bestActionIdx\"\"\"\n",
      "    \n",
      "    rewards = np.zeros(len(actions))\n",
      "    immediateRewards = np.zeros(len(actions))\n",
      "    individualImmediateRewards = np.zeros((2, len(actions)))\n",
      "    for idx in range(len(actions)) :\n",
      "        newTaskState, newIdx = integrateTaskState(taskState, actions[idx, :], 1.0, neighboursIndices[stateIdx, :], taskStates, frameStates)\n",
      "        \n",
      "        tiers = getTaskHierarchyTiers(taskState, neighboursIndices[stateIdx, :], actions[idx, :], taskToPerform, taskStates)\n",
      "        taskReward = r_ht(tiers, tierFunctions, tierImportance)\n",
      "#         taskReward = r_t(taskState, taskParamsValues[neighboursIndices[stateIdx, :], :], actions[idx, :], taskToPerform)\n",
      "        appearanceReward = r_a(taskState, stateIdx, neighboursIndices[stateIdx, :], actions[idx, :], transitionsCost, p)\n",
      "        \n",
      "        amount = l*taskReward + (1.0-l)*appearanceReward + valueFunction[newIdx]\n",
      "        rewards[idx] = amount\n",
      "        immediateRewards[idx] = l*taskReward + (1.0-l)*appearanceReward\n",
      "        individualImmediateRewards[0, idx] = taskReward\n",
      "        individualImmediateRewards[1, idx] = appearanceReward\n",
      "        if verbose :\n",
      "            print \"current amount for action in pi_l\", amount, np.sum(actions[idx, :]), immediateRewards[idx], taskReward, appearanceReward, valueFunction[newIdx], newIdx\n",
      "    \n",
      "    ## get best action index\n",
      "    bestActionIdx = np.argmax(rewards)\n",
      "    \n",
      "    bestAction = np.copy(actions[bestActionIdx, :])\n",
      "    return bestAction, bestActionIdx, immediateRewards, individualImmediateRewards\n"
     ],
     "language": "python",
     "metadata": {},
     "outputs": [],
     "prompt_number": 13
    },
    {
     "cell_type": "code",
     "collapsed": false,
     "input": [
      "def smoothStep(x, mean, interval, steepness) :\n",
      "    a = mean-np.floor(interval/2.0)\n",
      "    b = mean-np.floor((interval*steepness)/2.0)\n",
      "    c = mean+np.ceil((interval*steepness)/2.0)\n",
      "    d = mean+np.ceil(interval/2.0)\n",
      "#     print a, b, c, d\n",
      "    \n",
      "    ## find step from 0 to 1\n",
      "    step1 = np.clip((x - a)/(b - a), 0.0, 1.0);\n",
      "    step1 = step1*step1*step1*(step1*(step1*6 - 15) + 10);\n",
      "    \n",
      "    ## find step from 1 to 0\n",
      "    step2 = np.clip((x - d)/(c - d), 0.0, 1.0);\n",
      "    step2 = step2*step2*step2*(step2*(step2*6 - 15) + 10);\n",
      "    \n",
      "    ## combine the two steps together\n",
      "    result = np.zeros(x.shape)\n",
      "    result += step1\n",
      "    result[np.argwhere(step2 != 1.0)] = step2[np.argwhere(step2 != 1.0)]\n",
      "    return result;\n",
      "\n",
      "stepReward = smoothStep(arange(0.0, numFrames), 0.0, 30.0*2, 0.3)"
     ],
     "language": "python",
     "metadata": {},
     "outputs": [],
     "prompt_number": 14
    },
    {
     "cell_type": "code",
     "collapsed": false,
     "input": [
      "## test pi_l function\n",
      "## amount, np.sum(actions[idx, :]), taskReward, appearanceReward, valueFunction[newIdx], newIdx\n",
      "trackingState = 906\n",
      "taskState = {'frameState': fs[trackingState, :, :], 'taskParams': labels[trackingState, :]}\n",
      "neighboursTaskParamsValues = labels[neighbours[trackingState, :], :]\n",
      "action = A[trackingState, 5, :]\n",
      "task = 2\n",
      "p = 2.0\n",
      "l = 0.65\n",
      "taskToPerform = possibleLabelTasks[task, :]\n",
      "# v = np.zeros((fs.shape[0], possibleTasksToPerform.shape[0]))\n",
      "\n",
      "print \"neighbours\", neighbours[trackingState, :]\n",
      "print \"neighbours' labels\", neighboursTaskParamsValues\n",
      "print \"chosen action\", action, np.sum(action)\n",
      "print \"task to perform\", taskToPerform\n",
      "print \"rewards for given neighbours\", (2.0-np.sum(np.abs(neighboursTaskParamsValues-np.reshape(taskToPerform, (1, 4)).repeat(k, axis=0)), axis = -1))/2.0\n",
      "\n",
      "print \"total task reward computed by method\", r_t(taskState, neighboursTaskParamsValues, action, taskToPerform)\n",
      "print \"total apperance reward computed by method\", r_a(taskState, trackingState, neighbours[trackingState, :], action, 1.0+t, 2.0)\n",
      "\n",
      "tiers = getTaskHierarchyTiers(taskState, neighbours[trackingState, :], action, (taskToPerform, 0), ss)\n",
      "print tiers\n",
      "print r_ht(tiers, (semanticLabelsTask, idxTask), (1.0, 0.0))\n",
      "print\n",
      "bestA, bestIdx, immediateRewards, individualImmediateRewards = pi_l(taskState, A[trackingState, :, :], np.zeros(numFrames), trackingState, neighbours, (taskToPerform, 230), 1.0+t, l, p, (semanticLabelsTask, idxTask), (1.0, 0.0), ss, fs, True)\n",
      "print \"best A and idx\", bestA, bestIdx\n",
      "print \n",
      "bestA, bestIdx, immediateRewards, individualImmediateRewards = pi_l(taskState, A[trackingState, :, :], np.zeros(numFrames), trackingState, neighbours, (taskToPerform, 230), 1.0+t, l, p, (semanticLabelsTask, idxStepTask), (1.0, 0.0), ss, fs, True)\n",
      "print \"step best A and idx\", bestA, bestIdx\n",
      "\n",
      "\n",
      "\n",
      "\n"
     ],
     "language": "python",
     "metadata": {},
     "outputs": [
      {
       "output_type": "stream",
       "stream": "stdout",
       "text": [
        "neighbours [907 895 908  69 873 905 870 869 197 872 790 196  71  70 195]\n",
        "neighbours' labels [[  7.29767085e-02   2.59037627e-05   9.26992687e-01   4.70084133e-06]\n",
        " [  2.35339511e-02   4.46594431e-06   1.56553041e-01   8.19908542e-01]\n",
        " [  1.11347669e-01   2.70613534e-05   8.88514918e-01   1.10351457e-04]\n",
        " [  1.00000000e+00   0.00000000e+00   0.00000000e+00   0.00000000e+00]\n",
        " [  6.85164117e-01   1.07349075e-05   3.14792087e-01   3.30612206e-05]\n",
        " [  0.00000000e+00   0.00000000e+00   1.00000000e+00   0.00000000e+00]\n",
        " [  1.22592076e-01   2.07976260e-05   8.77381356e-01   5.76997592e-06]\n",
        " [  6.86355062e-02   2.12116342e-05   9.31340539e-01   2.74364115e-06]\n",
        " [  9.94575156e-01   8.98448567e-07   5.42355776e-03   3.87700214e-07]\n",
        " [  0.00000000e+00   0.00000000e+00   1.00000000e+00   0.00000000e+00]\n",
        " [  3.55608052e-03   1.71228620e-04   9.96272471e-01   2.20157864e-07]\n",
        " [  9.94586382e-01   8.92110414e-07   5.41231978e-03   4.06505003e-07]\n",
        " [  9.94428442e-01   8.93914989e-07   5.57030248e-03   3.61449392e-07]\n",
        " [  9.94095750e-01   9.24317586e-07   5.90296885e-03   3.56655924e-07]\n",
        " [  9.94650998e-01   8.78853286e-07   5.34768112e-03   4.42349227e-07]]\n",
        "chosen action [ 0.04499389  0.02695249  0.03132726  0.03576133  0.02356112  0.52855015\n",
        "  0.03853952  0.04619668  0.03018499  0.03027777  0.03132726  0.03295396\n",
        "  0.03182242  0.03661179  0.0309394 ] 1.0\n",
        "task to perform [ 0.  0.  1.  0.]\n",
        "rewards for given neighbours [ 0.92699269  0.15655304  0.88851492  0.          0.31479209  1.\n",
        "  0.87738136  0.93134054  0.00542356  1.          0.99627247  0.00541232\n",
        "  0.0055703   0.00590297  0.00534768]\n",
        "total task reward computed by method 1.0\n",
        "total apperance reward computed by method 0.213049542443\n",
        "((array([ 0.,  0.,  1.,  0.]), array([ 0.,  0.,  1.,  0.])), (905, 0, 1271))\n",
        "1.0\n",
        "\n",
        "current amount for action in pi_l 0.952545246457 1.0 0.952545246457 0.926992686858 1.0 0.0 907\n",
        "current amount for action in pi_l 0.190600706964 1.0 0.190600706964 0.156553041118 0.253832086391 0.0 895\n",
        "current amount for action in pi_l 0.661874482907 1.0 0.661874482907 0.888514918017 0.240970817701 0.0 908\n",
        "current amount for action in pi_l 0.0796293861441 1.0 0.0796293861441 0.0 0.22751253184 0.0 69\n",
        "current amount for action in pi_l 0.279796919945 1.0 0.279796919945 0.314792087269 0.214805894914 0.0 873\n",
        "current amount for action in pi_l 0.724567339855 1.0 0.724567339855 1.0 0.213049542443 0.0 905\n",
        "current amount for action in pi_l 0.644458200802 1.0 0.644458200802 0.877381356325 0.211886626259 0.0 870\n",
        "current amount for action in pi_l 0.679328992795 1.0 0.679328992795 0.931340538526 0.211307550723 0.0 869\n",
        "current amount for action in pi_l 0.0764778514642 1.0 0.0764778514642 0.00542355776004 0.208435825486 0.0 197\n",
        "current amount for action in pi_l 0.722554332535 1.0 0.722554332535 1.0 0.207298092957 0.0 872\n",
        "current amount for action in pi_l 0.718172773977 1.0 0.718172773977 0.996272470702 0.20170190863 0.0 790\n",
        "current amount for action in pi_l 0.0735364530061 1.0 0.0735364530061 0.00541231978384 0.200052700419 0.0 196\n",
        "current amount for action in pi_l 0.0721228498976 1.0 0.0721228498976 0.0055703024834 0.195720437953 0.0 71\n",
        "current amount for action in pi_l 0.0719651687723 1.0 0.0719651687723 0.00590296884956 0.194652111486 0.0 70\n",
        "current amount for action in pi_l 0.0714180406832 1.0 0.0714180406832 0.00534768111943 0.194120137016 0.0 195\n",
        "best A and idx [ 0.52222784  0.0266301   0.03095253  0.03533357  0.02327929  0.05641729\n",
        "  0.03807852  0.04564409  0.02982392  0.0299156   0.03095253  0.03255978\n",
        "  0.03144177  0.03617386  0.03056931] 0\n",
        "\n",
        "current amount for action in pi_l 0.952545246457 1.0 0.952545246457 0.926992686858 1.0 0.0 907\n",
        "current amount for action in pi_l 0.190600706964 1.0 0.190600706964 0.156553041118 0.253832086391 0.0 895\n",
        "current amount for action in pi_l 0.661874482907 1.0 0.661874482907 0.888514918017 0.240970817701 0.0 908\n",
        "current amount for action in pi_l 0.0796293861441 1.0 0.0796293861441 0.0 0.22751253184 0.0 69\n",
        "current amount for action in pi_l 0.279796919945 1.0 0.279796919945 0.314792087269 0.214805894914 0.0 873\n",
        "current amount for action in pi_l 0.724567339855 1.0 0.724567339855 1.0 0.213049542443 0.0 905\n",
        "current amount for action in pi_l 0.644458200802 1.0 0.644458200802 0.877381356325 0.211886626259 0.0 870\n",
        "current amount for action in pi_l 0.679328992795 1.0 0.679328992795 0.931340538526 0.211307550723 0.0 869\n",
        "current amount for action in pi_l 0.0764778514642 1.0 0.0764778514642 0.00542355776004 0.208435825486 0.0 197\n",
        "current amount for action in pi_l 0.722554332535 1.0 0.722554332535 1.0 0.207298092957 0.0 872\n",
        "current amount for action in pi_l 0.718172773977 1.0 0.718172773977 0.996272470702 0.20170190863 0.0 790\n",
        "current amount for action in pi_l 0.0735364530061 1.0 0.0735364530061 0.00541231978384 0.200052700419 0.0 196\n",
        "current amount for action in pi_l 0.0721228498976 1.0 0.0721228498976 0.0055703024834 0.195720437953 0.0 71\n",
        "current amount for action in pi_l 0.0719651687723 1.0 0.0719651687723 0.00590296884956 0.194652111486 0.0 70\n",
        "current amount for action in pi_l 0.0714180406832 1.0 0.0714180406832 0.00534768111943 0.194120137016 0.0 195\n",
        "step best A and idx [ 0.52222784  0.0266301   0.03095253  0.03533357  0.02327929  0.05641729\n",
        "  0.03807852  0.04564409  0.02982392  0.0299156   0.03095253  0.03255978\n",
        "  0.03144177  0.03617386  0.03056931] 0\n"
       ]
      }
     ],
     "prompt_number": 39
    },
    {
     "cell_type": "code",
     "collapsed": false,
     "input": [
      "## let's try interpolation yay\n",
      "print trackingState\n",
      "print neighbours[trackingState, :]\n",
      "\n",
      "stencils = cgf.stencil2D(4, 4, imageSize)\n",
      "tmpAlpha = np.zeros(imageSize[0:2])\n",
      "tmpImg = np.zeros(imageSize)\n",
      "for i, n in zip(np.arange(len(neighbours)), neighbours[trackingState]+filterSize) :\n",
      "    img = np.array(cv2.cvtColor(cv2.imread(frames[n]), cv2.COLOR_BGR2RGB))/255.0\n",
      "    alpha = np.zeros(img.shape[0:-1])\n",
      "    if os.path.isfile(mattes[i]) :\n",
      "        alpha = np.array(cv2.cvtColor(cv2.imread(mattes[n]), cv2.COLOR_BGR2GRAY))/255.0\n",
      "        img *= np.repeat(np.reshape(alpha, (alpha.shape[0], alpha.shape[1], 1)), 3, axis=-1)\n",
      "\n",
      "    ## use stencils to divide the image into blocks and count number of foreground pixels\n",
      "    for s in xrange(0, len(stencils)) :\n",
      "#         index = s + idx*len(stencils)\n",
      "        print len(np.argwhere(alpha[stencils[s]] != 0)),\n",
      "    print\n",
      "    tmpAlpha += bestA[i]*alpha\n",
      "    tmpImg += bestA[i]*img\n",
      "    "
     ],
     "language": "python",
     "metadata": {},
     "outputs": [
      {
       "output_type": "stream",
       "stream": "stdout",
       "text": [
        "906\n",
        "[907 826 908 791 827 792 825 828 793 909 884 883 762 790 905]\n",
        "0"
       ]
      },
      {
       "output_type": "stream",
       "stream": "stdout",
       "text": [
        " 579 428 0 0 2769 1251 0 0 0 15 0 0 0 0 0\n",
        "0"
       ]
      },
      {
       "output_type": "stream",
       "stream": "stdout",
       "text": [
        " 0 184 0 0 0 5876 0 0 0 48 0 0 0 0 0\n",
        "0"
       ]
      },
      {
       "output_type": "stream",
       "stream": "stdout",
       "text": [
        " 204 308 0 0 4476 1427 0 0 0 10 0 0 0 0 0\n",
        "0"
       ]
      },
      {
       "output_type": "stream",
       "stream": "stdout",
       "text": [
        " 0 124 0 0 0 8309 0 0 0 5 0 0 0 0 0\n",
        "0"
       ]
      },
      {
       "output_type": "stream",
       "stream": "stdout",
       "text": [
        " 0 210 0 0 144 5161 0 0 0 48 0 0 0 0 0\n",
        "0"
       ]
      },
      {
       "output_type": "stream",
       "stream": "stdout",
       "text": [
        " 0 184 0 0 757 8893 0 0 0 45 0 0 0 0 0\n",
        "0"
       ]
      },
      {
       "output_type": "stream",
       "stream": "stdout",
       "text": [
        " 0 207 0 0 0 5036 0 0 0 15 0 0 0 0 0\n",
        "0"
       ]
      },
      {
       "output_type": "stream",
       "stream": "stdout",
       "text": [
        " 0 226 0 0 1823 4761 0 0 0 42 0 0 0 0 0\n",
        "0"
       ]
      },
      {
       "output_type": "stream",
       "stream": "stdout",
       "text": [
        " 0 161 0 0 2518 6213 0 0 0 40 0 0 0 0 0\n",
        "0"
       ]
      },
      {
       "output_type": "stream",
       "stream": "stdout",
       "text": [
        " 29 255 0 0 8514 1915 0 0 0 45 0 0 0 0 0\n",
        "0"
       ]
      },
      {
       "output_type": "stream",
       "stream": "stdout",
       "text": [
        " 0 255 0 0 318 6785 0 0 0 881 0 0 0 0 0\n",
        "0"
       ]
      },
      {
       "output_type": "stream",
       "stream": "stdout",
       "text": [
        " 0 295 0 0 0 6966 0 0 0 114 0 0 0 0 0\n",
        "0"
       ]
      },
      {
       "output_type": "stream",
       "stream": "stdout",
       "text": [
        " 0 456 0 0 0 5634 0 0 0 110 0 0 0 0 0\n",
        "0"
       ]
      },
      {
       "output_type": "stream",
       "stream": "stdout",
       "text": [
        " 0 164 0 0 0 6322 0 0 0 5 0 0 0 0 0\n",
        "0"
       ]
      },
      {
       "output_type": "stream",
       "stream": "stdout",
       "text": [
        " 59 818 0 0 833 2345 0 0 0 16 0 0 0 0 0\n"
       ]
      }
     ],
     "prompt_number": 16
    },
    {
     "cell_type": "code",
     "collapsed": false,
     "input": [
      "figure(); imshow(np.array(cv2.cvtColor(cv2.imread(frames[neighbours[trackingState, bestIdx]+filterSize]), cv2.COLOR_BGR2RGB))/255.0, interpolation='nearest')"
     ],
     "language": "python",
     "metadata": {},
     "outputs": [
      {
       "metadata": {},
       "output_type": "pyout",
       "prompt_number": 17,
       "text": [
        "<matplotlib.image.AxesImage at 0x7f14273beb90>"
       ]
      }
     ],
     "prompt_number": 17
    },
    {
     "cell_type": "code",
     "collapsed": false,
     "input": [
      "figure(); imshow(tmpAlpha/k, interpolation='nearest')"
     ],
     "language": "python",
     "metadata": {},
     "outputs": [
      {
       "metadata": {},
       "output_type": "pyout",
       "prompt_number": 18,
       "text": [
        "<matplotlib.image.AxesImage at 0x7f142711fa10>"
       ]
      }
     ],
     "prompt_number": 18
    },
    {
     "cell_type": "code",
     "collapsed": false,
     "input": [
      "matte = np.reshape(np.array(tmpAlpha*255, dtype=np.uint8), (tmpAlpha.shape[0], tmpAlpha.shape[1], 1))\n",
      "print matte.shape\n",
      "fullResoFrame = np.array(tmpImg, dtype=np.uint8)\n",
      "print fullResoFrame.shape\n",
      "Image.frombytes(\"RGBA\", (fullResoFrame.shape[1], fullResoFrame.shape[0]), np.concatenate((fullResoFrame, matte), axis=-1).tostring()).save(\"interpolated3.png\")"
     ],
     "language": "python",
     "metadata": {},
     "outputs": [
      {
       "output_type": "stream",
       "stream": "stdout",
       "text": [
        "(720, 1280, 1)\n",
        "(720, 1280, 3)\n"
       ]
      }
     ],
     "prompt_number": 19
    },
    {
     "cell_type": "code",
     "collapsed": false,
     "input": [
      "print np.max(tmpAlpha)"
     ],
     "language": "python",
     "metadata": {},
     "outputs": [
      {
       "output_type": "stream",
       "stream": "stdout",
       "text": [
        "0.92348451347\n"
       ]
      }
     ],
     "prompt_number": 20
    },
    {
     "cell_type": "code",
     "collapsed": false,
     "input": [
      "############# FIND THE BEST FRAMES FOR EACH LABEL S.T. THEY ARE THE FURTHEST FROM EACH OTHER ###############\n",
      "\n",
      "framesPerTask = 6\n",
      "bestFramesPerTask = []\n",
      "for i in xrange(len(possibleLabelTasks)) :\n",
      "    rewardsFromTask = (2.0-np.sum(np.abs(labels[0:numStates, :]-np.reshape(possibleLabelTasks[i, :], (1, len(possibleLabelTasks)), numStates)), axis=1))/2.0\n",
      "#     print np.argsort(rewardsFromTask)[-50:]\n",
      "    bestFrames = np.ndarray.flatten(np.argwhere(rewardsFromTask > 0.9))\n",
      "    idxDiffs = np.abs(bestFrames[0:-1]-bestFrames[1:])\n",
      "    print idxDiffs, len(bestFrames), np.sum(idxDiffs)\n",
      "    chosenIdxs = np.arange(0, len(bestFrames), (len(bestFrames)-1)/(framesPerTask-1), dtype=int)\n",
      "#     chosenIdxs = np.array([0, 41, 80, 87])\n",
      "    print chosenIdxs, \n",
      "    \n",
      "    frameDists = np.zeros(framesPerTask-1, dtype=int)\n",
      "    for x in xrange(framesPerTask-1) :\n",
      "        frameDists[x] = np.sum(idxDiffs[chosenIdxs[x]:chosenIdxs[x+1]])\n",
      "    chosenScore = np.sum(np.abs(np.diff(frameDists))) + np.sum(idxDiffs)-np.sum(frameDists)\n",
      "    terminationScore = np.copy(chosenScore/15)\n",
      "    print chosenScore\n",
      "    \n",
      "    for j in xrange(100000):#while chosenScore > terminationScore :\n",
      "        randIdxs = np.sort(np.random.randint(0, len(bestFrames), framesPerTask))\n",
      "#         print randIdxs, \n",
      "        frameDists = np.zeros(framesPerTask-1, dtype=int)\n",
      "        for x in xrange(framesPerTask-1) :\n",
      "            frameDists[x] = np.sum(idxDiffs[randIdxs[x]:randIdxs[x+1]])\n",
      "        \n",
      "        ## score has to be minimized and is difference in frame idx difference between chosen indices and how\n",
      "        ## high these frame index differences\n",
      "        score = np.sum(np.abs(np.diff(frameDists))) + np.sum(idxDiffs)-np.sum(frameDists)\n",
      "#         print score\n",
      "        if score < chosenScore :\n",
      "            print \"better indices\", randIdxs, score\n",
      "            chosenScore = np.copy(score)\n",
      "            chosenIdxs = np.copy(randIdxs)\n",
      "            \n",
      "#     print np.abs(chosenIdxs[0:-1]-chosenIdxs[1:])\n",
      "#     for j in xrange(len(bestFrames))\n",
      "    print \"chosen frames for task\", i, chosenIdxs, bestFrames[chosenIdxs]\n",
      "    bestFramesPerTask.append(bestFrames[chosenIdxs])\n"
     ],
     "language": "python",
     "metadata": {},
     "outputs": [
      {
       "output_type": "stream",
       "stream": "stdout",
       "text": [
        "[ 1  1  1  1  1 41 22  1  1  1  1  1  1  1  1  1  1  1  1  1  1  1  1  1  1\n",
        "  1  1  1  1  1  1  1  1  1  1  1  1  1  1  1  1  1  1  1  1  1  1  1  1  1\n",
        "  1  1  1  1  1  1  1  1  1  1  1  1  1  1  1  1  1  1  1  1  1  1  1  1  1\n",
        "  1  1  1  1  1  1  1  1  1  1  1  1  1  1  1  1  1  1  1  1  1  1  1  1  1\n",
        "  1  1  1  1  1  1  1  1  1  1  1  1  1  1  1  1  1  1  1  1  1  1  1  1  1\n",
        "  1  1  1  1  1  1  1  1  1  1  1  1  1  1  1  1  1  1  1  1  1  1  1  1  1\n",
        "  1  1  1  1  1  1  1  1  1  1  1  1  1  1  1  1  1  1  1  1  1  1  1  1  1\n",
        "  1  1  1  1  1  1  1  1  1  4  2  1  1  1  1  1  1  1  1  1  1  1  1  1  1\n",
        "  1  1  1  2] 205 270\n",
        "[  0  40  80 120 160 200] 70\n",
        "better indices"
       ]
      },
      {
       "output_type": "stream",
       "stream": "stdout",
       "text": [
        " [  5  13  75 127 158 202] 63\n",
        "better indices"
       ]
      },
      {
       "output_type": "stream",
       "stream": "stdout",
       "text": [
        " [  4  13  60  98 151 204] 56\n",
        "better indices"
       ]
      },
      {
       "output_type": "stream",
       "stream": "stdout",
       "text": [
        " [  4  18  86 123 163 204] 51\n",
        "better indices"
       ]
      },
      {
       "output_type": "stream",
       "stream": "stdout",
       "text": [
        " [  0   6  39  94 149 204] 14\n",
        "chosen frames for task"
       ]
      },
      {
       "output_type": "stream",
       "stream": "stdout",
       "text": [
        " 0 [  0   6  39  94 149 204] [  0  46 100 155 210 270]\n",
        "[  1   1   1   1   1   1   1   1   1   1   1   1   1   1   1   1   1   1\n",
        "   1   1   1   1   1 239   1   1   1   1   1   1   1   1   1   1   1   1\n",
        "   1   1   1   1   1   1   1   1   1   1   1   1   1   1   1   1   1   1\n",
        "   1   1   1   1   1   1   1   1   1   1   1   1   1   1   1   1   1   1\n",
        "   6   1   1   1   1   1   1   1   1   1   1   1   1   1   1   1   1   1\n",
        "   1   1   1   1   1   1   1   1   1   1   1   1   1   1   1   1   1   1\n",
        "   1   1   1   1   1   1   1   1   1   1   1   1   1   1   1   1   1   1\n",
        "   1   1   1   1   1   1   1   1   1   1   1   1   1   1   1   1   1   1\n",
        "   1   1   1   1   1   1   1   1   1   1   1   1   1   1   1   1   1   1\n",
        "   1   1   1   1   1   1   1   1   1   1   1   1   1   1   1   1   1   1\n",
        "   1   1   1   1   1   1   1   1   1   1   1   1   1   1   1   1   1   1\n",
        "   1   1   1   1   1   1   1   1   1   1   1   1   1   1   1   1   1   1\n",
        "   1   1   1   1   1   1   1   1   1   1   1   1   1   1   1   1   1   1\n",
        "   1   1   1   1   1   1   1   1   1   1   1   1   1   1   1   1   1   1\n",
        "   1   1   1   1   1   1   1   1   1   1   1   1   1   1   1   1   1   1\n",
        "   1   1   1   1   1   1   1   1   1   1   1   1   1   1   1   1   1   1\n",
        "   1   1   1   1   1   1   1   1   1   1   1   1   1   1   1   1   1   1\n",
        "   1   1   1   1   1   1   1   1   1   1   1   1   1   1   1   1   1   1\n",
        "   1   1   1   1   1   1   1   1   1   1   1   1   1   1   1   1   1   1\n",
        "   1   1   1   1   1   1   1   1   1   1   1   1   1   1   1   1   1   1\n",
        "   1   1   1   1   1   1   1   1   1   1   1   1   1   1   1   1   1   1\n",
        "   1   1   1   1   1   1   1   1   1   1   1   1   1   1   1   1   1   1\n",
        "   1   1   1   1   1   1   1   1   1   1   1   1   1   1   1   1   1   1\n",
        "   1   1   1   1   1   1   1   1   1   1   1   1   1   1   1   1   1   1\n",
        "   1   1   1   1   1   1   1   1   1   1   1   1   1   1   1   1   1   1\n",
        "   1   1   1   1   1   1   1   1   1   1   1   1   1   1   1   1   1   1\n",
        "   1   1   1   4   1   1   1   1   1   1   1   1   1   1   1   1   1   1\n",
        "   1   1   1   1   1   1   1   1   1  19   1   1   1  32   1   1   1   1\n",
        "   1   1   1] 508 802\n",
        "[  0 101 202 303 404 505] 297\n",
        "better indices"
       ]
      },
      {
       "output_type": "stream",
       "stream": "stdout",
       "text": [
        " [  7  31 288 396 493 507] 206\n",
        "better indices"
       ]
      },
      {
       "output_type": "stream",
       "stream": "stdout",
       "text": [
        " [ 14  65 203 316 432 501] 204\n",
        "better indices"
       ]
      },
      {
       "output_type": "stream",
       "stream": "stdout",
       "text": [
        " [ 11  36 229 333 448 507] 185\n",
        "chosen frames for task"
       ]
      },
      {
       "output_type": "stream",
       "stream": "stdout",
       "text": [
        " 1 [ 11  36 229 333 448 507] [ 24 287 485 589 704 815]\n",
        "[  1 694   1   1   1   1   1   1   1   1   1   5   9   1   1   1   1   1\n",
        "   1   1   1   1   1   1   1   1   1   1   1   1   1   1   1   1   5  12\n",
        "   1   1   1   1   1   1   1   1   1   1   1   1   1   1   1   1   1   1\n",
        "   1   1   1   1   1   1   1   1   1   1   1   1   1   1   1   1   1   1\n",
        "   1   1   1   1   1   1   1   1   1   1   1   1   1   1   2   1   5   1\n",
        "   1   1   1   1   1   1   1   1   1   1   1   1   1   7   1   1   1   1\n",
        "   1   1   1   1   1   2   1   1   1   1   1   1   1   1   1   8   1   1\n",
        "   1   1   1   2] 131 870\n",
        "[  0  26  52  78 104 130] 718\n",
        "better indices [  1  30  71  93 113 129] 713\n",
        "better indices"
       ]
      },
      {
       "output_type": "stream",
       "stream": "stdout",
       "text": [
        " [  0  21  44  74 100 125] 711\n",
        "better indices [  1   5  51  85 106 129] 669\n",
        "chosen frames for task"
       ]
      },
      {
       "output_type": "stream",
       "stream": "stdout",
       "text": [
        " 2 [  1   5  51  85 106 129] [ 64 761 834 868 900 931]\n",
        "[40  1  1  1  1  1  1  1  1  1  1  1  1  1  1  1  1  1  1  1  1  1  1  1  1\n",
        "  1  1  1  1  1  1  1  1  1  1  1  1  1  1  1  1  1  1  1  1  1  1  1  1  1\n",
        "  1  1  1  1  1  1  1  1  1  1  1  1  1  1  1  1  1  1  1  1  1  1  1  1  1\n",
        "  1  1  1  1  1  1  1  1  1  1  1  1  1  1  1  1  1  1  1  1  1  1  1  1  1\n",
        "  1  1  1  1  1  1  1  1  1  1  1  1  1  1  1  1  1  1  1  1  1  1  1  1  1\n",
        "  1  1  1  1  1  1  1  1  1  1  1  1  1  1  1  1  1  1  1  1  1  1  1  1  1\n",
        "  1  1  1  1  1  1  1  1  1  1  1  1  1  1  1  1  1  1  1  1  1  1  1  1  1\n",
        "  1  1  1  1  1  1  1  1  1  1  1  1  1  1  1  1  1  1  1  1  1  1  1  1  1\n",
        "  1  1  1  1  1  1  1  1  1  1  1  1  1  1  1  1  1  1  1  1  1  1  1  1  1\n",
        "  1  1  1  1  1  1  1  1  1  1  1  1  1  1  1  1  1  1  1  1  1  1  1  1  1\n",
        "  1  1  1  1  1  1  1  1  1  1  1  1  1  1  1  1  1  1  1  1  1  1  1  1  1\n",
        "  1  1  1  1  1  1  1  1  1  1  1  1  1  1  1  1  1  1  1  1  1  1  1  1  1\n",
        "  1  1  1  1  1  1  1  1  1  1  1  1  1  1  1  1  1  1  1  1  1  1  1  1  1\n",
        "  1  1  1  1  1  1  1  1  1  1  1  1] 338 376\n",
        "[  0  67 134 201 268 335] 41\n",
        "chosen frames for task"
       ]
      },
      {
       "output_type": "stream",
       "stream": "stdout",
       "text": [
        " 3 [  0  67 134 201 268 335] [ 894 1000 1067 1134 1201 1268]\n"
       ]
      }
     ],
     "prompt_number": 40
    },
    {
     "cell_type": "code",
     "collapsed": false,
     "input": [
      "print bestFramesPerTask"
     ],
     "language": "python",
     "metadata": {},
     "outputs": [
      {
       "output_type": "stream",
       "stream": "stdout",
       "text": [
        "[array([  0,  46, 100, 155, 210, 270]), array([ 24, 287, 485, 589, 704, 815]), array([ 64, 761, 834, 868, 900, 931]), array([ 894, 1000, 1067, 1134, 1201, 1268])]\n"
       ]
      }
     ],
     "prompt_number": 41
    },
    {
     "cell_type": "code",
     "collapsed": false,
     "input": [
      "############# OPTIMIZING FUTURE REWARDS TO GET VALUE FUNCTION V ###############\n",
      "\n",
      "v = np.zeros((fs.shape[0], possibleLabelTasks.shape[0]))\n",
      "possibleIdxTasks = np.zeros(4)#np.array([95, 496, 906, 1158])\n",
      "vTmp = np.copy(v)\n",
      "prevAdditionalReward = 0\n",
      "alpha = 0.999\n",
      "p = 2.0\n",
      "l = 0.75\n",
      "gamma = 0.99 #1.0\n",
      "\n",
      "maxIterations = 20\n",
      "trackingState = 234\n",
      "print \"tracking progression of state\", trackingState\n",
      "print \"neighbours\", neighbours[trackingState, :]\n",
      "\n",
      "# v = np.load(\"tmpv.npy\")\n",
      "for i in range(maxIterations) :\n",
      "    ## for each possible task\n",
      "    print \"best actions\",\n",
      "    for task in range(possibleLabelTasks.shape[0]) :\n",
      "        ## for each frame state\n",
      "        for fIdx in range(numStates) :\n",
      "#             si = {'frameState': fs[fIdx, :, :], 'taskParams': labels[fIdx, :]}\n",
      "\n",
      "            bestA, bestIdx, immediateRewards, individualImmediateRewards = pi_l(ss[fIdx], A[fIdx, :, :], v[:, task], fIdx, neighbours, (possibleLabelTasks[task, :], 0), 1.0+t, l, p, (semanticLabelsTask, idxTask), (1.0, 0.0), ss, fs)\n",
      "            \n",
      "            newTaskState, newIdx = integrateTaskState(ss[fIdx], bestA, 1.0, neighbours[fIdx, :], ss, fs)\n",
      "            \n",
      "            tiers = getTaskHierarchyTiers(ss[fIdx], neighbours[fIdx, :], bestA, (possibleLabelTasks[task, :], possibleIdxTasks[task]), ss)\n",
      "            taskReward = r_ht(tiers, (semanticLabelsTask, idxTask), (1.0, 0.0))\n",
      "            appearanceReward = r_a(ss[fIdx], fIdx, neighbours[fIdx, :], bestA, 1.0+t, 2.0)\n",
      "            \n",
      "            vTmp[fIdx, task] = l*taskReward + (1.0-l)*appearanceReward + gamma*v[newIdx, task]\n",
      "            \n",
      "            if fIdx == trackingState :\n",
      "                print bestIdx, \"(\", newIdx, \"),\",\n",
      "    additionalReward = np.linalg.norm(vTmp-v)\n",
      "    print\n",
      "    print i, np.sum(np.linalg.norm(vTmp-v, axis=-1)), np.sum(np.abs(vTmp-v)), additionalReward, additionalReward-prevAdditionalReward, np.min(vTmp), np.max(vTmp), np.sum(vTmp)\n",
      "    print vTmp[trackingState, :]\n",
      "    sys.stdout.flush()\n",
      "    v = np.copy(vTmp)\n",
      "    if additionalReward-prevAdditionalReward == 0.0 :\n",
      "        break\n",
      "    prevAdditionalReward = additionalReward\n",
      "\n",
      "    \n",
      "# np.save(\"tmpv.npy\", v)"
     ],
     "language": "python",
     "metadata": {},
     "outputs": [
      {
       "output_type": "stream",
       "stream": "stdout",
       "text": [
        "tracking progression of state 234\n",
        "neighbours [235 236 233 181 232 237 247 246 182 180 231 183 245 238 248]\n",
        "best actions "
       ]
      }
     ],
     "prompt_number": "*"
    },
    {
     "cell_type": "code",
     "collapsed": false,
     "input": [
      "figure(); plot(np.cumsum(v[:, 1]/np.sum(v[:, 1])))\n",
      "figure(); plot(v[:, 1]/np.max(v[:, 1]))\n",
      "figure(); plot(np.cumsum(labels[0:-1, 1])/np.sum(np.cumsum(labels[0:-1, 1])))\n",
      "figure(); plot(labels[0:-1, 1]/np.sum(labels[0:-1, 1]))"
     ],
     "language": "python",
     "metadata": {},
     "outputs": [
      {
       "metadata": {},
       "output_type": "pyout",
       "prompt_number": 23,
       "text": [
        "[<matplotlib.lines.Line2D at 0x7f1426d871d0>]"
       ]
      }
     ],
     "prompt_number": 23
    },
    {
     "cell_type": "code",
     "collapsed": false,
     "input": [
      "print np.random.choice(arange(1271), size=10, p=labels[0:-1, 1]/np.sum(labels[0:-1, 1]))\n",
      "print bestFramesPerTask[1]"
     ],
     "language": "python",
     "metadata": {},
     "outputs": [
      {
       "ename": "SyntaxError",
       "evalue": "invalid syntax (<ipython-input-1-79dfdd141fe4>, line 3)",
       "output_type": "pyerr",
       "traceback": [
        "\u001b[0;36m  File \u001b[0;32m\"<ipython-input-1-79dfdd141fe4>\"\u001b[0;36m, line \u001b[0;32m3\u001b[0m\n\u001b[0;31m    %%timeit\u001b[0m\n\u001b[0m    ^\u001b[0m\n\u001b[0;31mSyntaxError\u001b[0m\u001b[0;31m:\u001b[0m invalid syntax\n"
       ]
      }
     ],
     "prompt_number": 1
    },
    {
     "cell_type": "code",
     "collapsed": false,
     "input": [
      "############# INITIALIZE GRAPH AS DEFINED BY MOTION FIELDS AND USE TO COMPUTE SHORTEST PATHS ###############\n",
      "\n",
      "labelTaskToPerform = possibleLabelTasks[2, :]\n",
      "\n",
      "gr = digraph()\n",
      "gr.add_nodes(arange(numStates, dtype=int))\n",
      "print neighbours.shape, len(gr.nodes())\n",
      "for i in xrange(numStates) :\n",
      "    for n in xrange(k):\n",
      "        taskReward = semanticLabelsTask(labels[neighbours[i, n], :], labelTaskToPerform)\n",
      "        appearanceReward = r_a(ss[i], i, neighbours[i, :], A[i, n, :], 1.0+t, 2.0)\n",
      "#         tmp = 1.0-(l*taskReward + (1.0-l)*appearanceReward)+0.01\n",
      "        tmp = 0.1 + (1.0-appearanceReward)\n",
      "#         tmp = 0.05 + t[i, neighbours[i, n]]\n",
      "#         tmp = 0.05 + eucT[i, neighbours[i, n]]\n",
      "        gr.add_edge((i, neighbours[i, n]), wt=tmp)\n",
      "    sys.stdout.write('\\r' + \"Added node \" + np.string_(i) + \" of \" + np.string_(numStates) + \" and its neighbours \")\n",
      "    sys.stdout.flush()\n",
      "print \n",
      "## precomputed shortest paths costs\n",
      "precomputedSPCosts = np.zeros((numStates, numStates))\n",
      "precomputedSPLengths = np.zeros((numStates, numStates), dtype=int)\n",
      "for i in xrange(numStates) :\n",
      "    shortestPaths = shortest_path(gr, i)\n",
      "    ## costs\n",
      "    if len(shortestPaths[1]) < numStates :\n",
      "        print \"state\", i, \"does not have a shortest path to all other states\"\n",
      "        precomputedSPCosts[i, :] = 200.0 ## high value for costs for path to all states\n",
      "        precomputedSPCosts[i, shortestPaths[1].keys()] = np.array(shortestPaths[1].values()) ## actual value for eachable states\n",
      "    else :\n",
      "        precomputedSPCosts[i, :] = np.array(shortestPaths[1].values())\n",
      "    ## lengths\n",
      "    for j in xrange(len(shortestPaths[0])) :\n",
      "        curr = j\n",
      "        path = []\n",
      "        \n",
      "        ## no path from start to end\n",
      "        if curr not in shortestPaths[0] :\n",
      "            precomputedSPLengths[i, j] = -1\n",
      "            continue\n",
      "        \n",
      "        path.append(curr)\n",
      "        while curr != i :\n",
      "            curr = shortestPaths[0][curr]\n",
      "            path.append(curr)\n",
      "            \n",
      "        path = np.array(path)[::-1]\n",
      "        precomputedSPLengths[i, j] = len(path)-1\n",
      "        \n",
      "    sys.stdout.write('\\r' + \"Computed shortest paths from node \" + np.string_(i) + \" of \" + np.string_(numStates))\n",
      "    sys.stdout.flush()"
     ],
     "language": "python",
     "metadata": {},
     "outputs": [
      {
       "output_type": "stream",
       "stream": "stdout",
       "text": [
        "(1271, 15) 1271\n",
        "\r",
        "Added node 0 of 1271 and its neighbours "
       ]
      },
      {
       "output_type": "stream",
       "stream": "stdout",
       "text": [
        "\r",
        "Added node 1 of 1271 and its neighbours "
       ]
      },
      {
       "output_type": "stream",
       "stream": "stdout",
       "text": [
        "\r",
        "Added node 2 of 1271 and its neighbours "
       ]
      },
      {
       "output_type": "stream",
       "stream": "stdout",
       "text": [
        "\r",
        "Added node 3 of 1271 and its neighbours "
       ]
      },
      {
       "output_type": "stream",
       "stream": "stdout",
       "text": [
        "\r",
        "Added node 4 of 1271 and its neighbours "
       ]
      },
      {
       "output_type": "stream",
       "stream": "stdout",
       "text": [
        "\r",
        "Added node 5 of 1271 and its neighbours "
       ]
      },
      {
       "output_type": "stream",
       "stream": "stdout",
       "text": [
        "\r",
        "Added node 6 of 1271 and its neighbours "
       ]
      },
      {
       "output_type": "stream",
       "stream": "stdout",
       "text": [
        "\r",
        "Added node 7 of 1271 and its neighbours "
       ]
      },
      {
       "output_type": "stream",
       "stream": "stdout",
       "text": [
        "\r",
        "Added node 8 of 1271 and its neighbours "
       ]
      },
      {
       "output_type": "stream",
       "stream": "stdout",
       "text": [
        "\r",
        "Added node 9 of 1271 and its neighbours "
       ]
      },
      {
       "output_type": "stream",
       "stream": "stdout",
       "text": [
        "\r",
        "Added node 10 of 1271 and its neighbours "
       ]
      },
      {
       "output_type": "stream",
       "stream": "stdout",
       "text": [
        "\r",
        "Added node 11 of 1271 and its neighbours "
       ]
      },
      {
       "output_type": "stream",
       "stream": "stdout",
       "text": [
        "\r",
        "Added node 12 of 1271 and its neighbours "
       ]
      },
      {
       "output_type": "stream",
       "stream": "stdout",
       "text": [
        "\r",
        "Added node 13 of 1271 and its neighbours "
       ]
      },
      {
       "output_type": "stream",
       "stream": "stdout",
       "text": [
        "\r",
        "Added node 14 of 1271 and its neighbours "
       ]
      },
      {
       "output_type": "stream",
       "stream": "stdout",
       "text": [
        "\r",
        "Added node 15 of 1271 and its neighbours "
       ]
      },
      {
       "output_type": "stream",
       "stream": "stdout",
       "text": [
        "\r",
        "Added node 16 of 1271 and its neighbours "
       ]
      },
      {
       "output_type": "stream",
       "stream": "stdout",
       "text": [
        "\r",
        "Added node 17 of 1271 and its neighbours "
       ]
      },
      {
       "output_type": "stream",
       "stream": "stdout",
       "text": [
        "\r",
        "Added node 18 of 1271 and its neighbours "
       ]
      },
      {
       "output_type": "stream",
       "stream": "stdout",
       "text": [
        "\r",
        "Added node 19 of 1271 and its neighbours "
       ]
      },
      {
       "output_type": "stream",
       "stream": "stdout",
       "text": [
        "\r",
        "Added node 20 of 1271 and its neighbours "
       ]
      },
      {
       "output_type": "stream",
       "stream": "stdout",
       "text": [
        "\r",
        "Added node 21 of 1271 and its neighbours "
       ]
      },
      {
       "output_type": "stream",
       "stream": "stdout",
       "text": [
        "\r",
        "Added node 22 of 1271 and its neighbours "
       ]
      },
      {
       "output_type": "stream",
       "stream": "stdout",
       "text": [
        "\r",
        "Added node 23 of 1271 and its neighbours "
       ]
      },
      {
       "output_type": "stream",
       "stream": "stdout",
       "text": [
        "\r",
        "Added node 24 of 1271 and its neighbours "
       ]
      },
      {
       "output_type": "stream",
       "stream": "stdout",
       "text": [
        "\r",
        "Added node 25 of 1271 and its neighbours "
       ]
      },
      {
       "output_type": "stream",
       "stream": "stdout",
       "text": [
        "\r",
        "Added node 26 of 1271 and its neighbours "
       ]
      },
      {
       "output_type": "stream",
       "stream": "stdout",
       "text": [
        "\r",
        "Added node 27 of 1271 and its neighbours "
       ]
      },
      {
       "output_type": "stream",
       "stream": "stdout",
       "text": [
        "\r",
        "Added node 28 of 1271 and its neighbours "
       ]
      },
      {
       "output_type": "stream",
       "stream": "stdout",
       "text": [
        "\r",
        "Added node 29 of 1271 and its neighbours "
       ]
      },
      {
       "output_type": "stream",
       "stream": "stdout",
       "text": [
        "\r",
        "Added node 30 of 1271 and its neighbours "
       ]
      },
      {
       "output_type": "stream",
       "stream": "stdout",
       "text": [
        "\r",
        "Added node 31 of 1271 and its neighbours "
       ]
      },
      {
       "output_type": "stream",
       "stream": "stdout",
       "text": [
        "\r",
        "Added node 32 of 1271 and its neighbours "
       ]
      },
      {
       "output_type": "stream",
       "stream": "stdout",
       "text": [
        "\r",
        "Added node 33 of 1271 and its neighbours "
       ]
      },
      {
       "output_type": "stream",
       "stream": "stdout",
       "text": [
        "\r",
        "Added node 34 of 1271 and its neighbours "
       ]
      },
      {
       "output_type": "stream",
       "stream": "stdout",
       "text": [
        "\r",
        "Added node 35 of 1271 and its neighbours "
       ]
      },
      {
       "output_type": "stream",
       "stream": "stdout",
       "text": [
        "\r",
        "Added node 36 of 1271 and its neighbours "
       ]
      },
      {
       "output_type": "stream",
       "stream": "stdout",
       "text": [
        "\r",
        "Added node 37 of 1271 and its neighbours "
       ]
      },
      {
       "output_type": "stream",
       "stream": "stdout",
       "text": [
        "\r",
        "Added node 38 of 1271 and its neighbours "
       ]
      },
      {
       "output_type": "stream",
       "stream": "stdout",
       "text": [
        "\r",
        "Added node 39 of 1271 and its neighbours "
       ]
      },
      {
       "output_type": "stream",
       "stream": "stdout",
       "text": [
        "\r",
        "Added node 40 of 1271 and its neighbours "
       ]
      },
      {
       "output_type": "stream",
       "stream": "stdout",
       "text": [
        "\r",
        "Added node 41 of 1271 and its neighbours "
       ]
      },
      {
       "output_type": "stream",
       "stream": "stdout",
       "text": [
        "\r",
        "Added node 42 of 1271 and its neighbours "
       ]
      },
      {
       "output_type": "stream",
       "stream": "stdout",
       "text": [
        "\r",
        "Added node 43 of 1271 and its neighbours "
       ]
      },
      {
       "output_type": "stream",
       "stream": "stdout",
       "text": [
        "\r",
        "Added node 44 of 1271 and its neighbours "
       ]
      },
      {
       "output_type": "stream",
       "stream": "stdout",
       "text": [
        "\r",
        "Added node 45 of 1271 and its neighbours "
       ]
      },
      {
       "output_type": "stream",
       "stream": "stdout",
       "text": [
        "\r",
        "Added node 46 of 1271 and its neighbours "
       ]
      },
      {
       "output_type": "stream",
       "stream": "stdout",
       "text": [
        "\r",
        "Added node 47 of 1271 and its neighbours "
       ]
      },
      {
       "output_type": "stream",
       "stream": "stdout",
       "text": [
        "\r",
        "Added node 48 of 1271 and its neighbours "
       ]
      },
      {
       "output_type": "stream",
       "stream": "stdout",
       "text": [
        "\r",
        "Added node 49 of 1271 and its neighbours "
       ]
      },
      {
       "output_type": "stream",
       "stream": "stdout",
       "text": [
        "\r",
        "Added node 50 of 1271 and its neighbours "
       ]
      },
      {
       "output_type": "stream",
       "stream": "stdout",
       "text": [
        "\r",
        "Added node 51 of 1271 and its neighbours "
       ]
      },
      {
       "output_type": "stream",
       "stream": "stdout",
       "text": [
        "\r",
        "Added node 52 of 1271 and its neighbours "
       ]
      },
      {
       "output_type": "stream",
       "stream": "stdout",
       "text": [
        "\r",
        "Added node 53 of 1271 and its neighbours "
       ]
      },
      {
       "output_type": "stream",
       "stream": "stdout",
       "text": [
        "\r",
        "Added node 54 of 1271 and its neighbours "
       ]
      },
      {
       "output_type": "stream",
       "stream": "stdout",
       "text": [
        "\r",
        "Added node 55 of 1271 and its neighbours "
       ]
      },
      {
       "output_type": "stream",
       "stream": "stdout",
       "text": [
        "\r",
        "Added node 56 of 1271 and its neighbours "
       ]
      },
      {
       "output_type": "stream",
       "stream": "stdout",
       "text": [
        "\r",
        "Added node 57 of 1271 and its neighbours "
       ]
      },
      {
       "output_type": "stream",
       "stream": "stdout",
       "text": [
        "\r",
        "Added node 58 of 1271 and its neighbours "
       ]
      },
      {
       "output_type": "stream",
       "stream": "stdout",
       "text": [
        "\r",
        "Added node 59 of 1271 and its neighbours "
       ]
      },
      {
       "output_type": "stream",
       "stream": "stdout",
       "text": [
        "\r",
        "Added node 60 of 1271 and its neighbours "
       ]
      },
      {
       "output_type": "stream",
       "stream": "stdout",
       "text": [
        "\r",
        "Added node 61 of 1271 and its neighbours "
       ]
      },
      {
       "output_type": "stream",
       "stream": "stdout",
       "text": [
        "\r",
        "Added node 62 of 1271 and its neighbours "
       ]
      },
      {
       "output_type": "stream",
       "stream": "stdout",
       "text": [
        "\r",
        "Added node 63 of 1271 and its neighbours "
       ]
      },
      {
       "output_type": "stream",
       "stream": "stdout",
       "text": [
        "\r",
        "Added node 64 of 1271 and its neighbours "
       ]
      },
      {
       "output_type": "stream",
       "stream": "stdout",
       "text": [
        "\r",
        "Added node 65 of 1271 and its neighbours "
       ]
      },
      {
       "output_type": "stream",
       "stream": "stdout",
       "text": [
        "\r",
        "Added node 66 of 1271 and its neighbours "
       ]
      },
      {
       "output_type": "stream",
       "stream": "stdout",
       "text": [
        "\r",
        "Added node 67 of 1271 and its neighbours "
       ]
      },
      {
       "output_type": "stream",
       "stream": "stdout",
       "text": [
        "\r",
        "Added node 68 of 1271 and its neighbours "
       ]
      },
      {
       "output_type": "stream",
       "stream": "stdout",
       "text": [
        "\r",
        "Added node 69 of 1271 and its neighbours "
       ]
      },
      {
       "output_type": "stream",
       "stream": "stdout",
       "text": [
        "\r",
        "Added node 70 of 1271 and its neighbours "
       ]
      },
      {
       "output_type": "stream",
       "stream": "stdout",
       "text": [
        "\r",
        "Added node 71 of 1271 and its neighbours "
       ]
      },
      {
       "output_type": "stream",
       "stream": "stdout",
       "text": [
        "\r",
        "Added node 72 of 1271 and its neighbours "
       ]
      },
      {
       "output_type": "stream",
       "stream": "stdout",
       "text": [
        "\r",
        "Added node 73 of 1271 and its neighbours "
       ]
      },
      {
       "output_type": "stream",
       "stream": "stdout",
       "text": [
        "\r",
        "Added node 74 of 1271 and its neighbours "
       ]
      },
      {
       "output_type": "stream",
       "stream": "stdout",
       "text": [
        "\r",
        "Added node 75 of 1271 and its neighbours "
       ]
      },
      {
       "output_type": "stream",
       "stream": "stdout",
       "text": [
        "\r",
        "Added node 76 of 1271 and its neighbours "
       ]
      },
      {
       "output_type": "stream",
       "stream": "stdout",
       "text": [
        "\r",
        "Added node 77 of 1271 and its neighbours "
       ]
      },
      {
       "output_type": "stream",
       "stream": "stdout",
       "text": [
        "\r",
        "Added node 78 of 1271 and its neighbours "
       ]
      },
      {
       "output_type": "stream",
       "stream": "stdout",
       "text": [
        "\r",
        "Added node 79 of 1271 and its neighbours "
       ]
      },
      {
       "output_type": "stream",
       "stream": "stdout",
       "text": [
        "\r",
        "Added node 80 of 1271 and its neighbours "
       ]
      },
      {
       "output_type": "stream",
       "stream": "stdout",
       "text": [
        "\r",
        "Added node 81 of 1271 and its neighbours "
       ]
      },
      {
       "output_type": "stream",
       "stream": "stdout",
       "text": [
        "\r",
        "Added node 82 of 1271 and its neighbours "
       ]
      },
      {
       "output_type": "stream",
       "stream": "stdout",
       "text": [
        "\r",
        "Added node 83 of 1271 and its neighbours "
       ]
      },
      {
       "output_type": "stream",
       "stream": "stdout",
       "text": [
        "\r",
        "Added node 84 of 1271 and its neighbours "
       ]
      },
      {
       "output_type": "stream",
       "stream": "stdout",
       "text": [
        "\r",
        "Added node 85 of 1271 and its neighbours "
       ]
      },
      {
       "output_type": "stream",
       "stream": "stdout",
       "text": [
        "\r",
        "Added node 86 of 1271 and its neighbours "
       ]
      },
      {
       "output_type": "stream",
       "stream": "stdout",
       "text": [
        "\r",
        "Added node 87 of 1271 and its neighbours "
       ]
      },
      {
       "output_type": "stream",
       "stream": "stdout",
       "text": [
        "\r",
        "Added node 88 of 1271 and its neighbours "
       ]
      },
      {
       "output_type": "stream",
       "stream": "stdout",
       "text": [
        "\r",
        "Added node 89 of 1271 and its neighbours "
       ]
      },
      {
       "output_type": "stream",
       "stream": "stdout",
       "text": [
        "\r",
        "Added node 90 of 1271 and its neighbours "
       ]
      },
      {
       "output_type": "stream",
       "stream": "stdout",
       "text": [
        "\r",
        "Added node 91 of 1271 and its neighbours "
       ]
      },
      {
       "output_type": "stream",
       "stream": "stdout",
       "text": [
        "\r",
        "Added node 92 of 1271 and its neighbours "
       ]
      },
      {
       "output_type": "stream",
       "stream": "stdout",
       "text": [
        "\r",
        "Added node 93 of 1271 and its neighbours "
       ]
      },
      {
       "output_type": "stream",
       "stream": "stdout",
       "text": [
        "\r",
        "Added node 94 of 1271 and its neighbours "
       ]
      },
      {
       "output_type": "stream",
       "stream": "stdout",
       "text": [
        "\r",
        "Added node 95 of 1271 and its neighbours "
       ]
      },
      {
       "output_type": "stream",
       "stream": "stdout",
       "text": [
        "\r",
        "Added node 96 of 1271 and its neighbours "
       ]
      },
      {
       "output_type": "stream",
       "stream": "stdout",
       "text": [
        "\r",
        "Added node 97 of 1271 and its neighbours "
       ]
      },
      {
       "output_type": "stream",
       "stream": "stdout",
       "text": [
        "\r",
        "Added node 98 of 1271 and its neighbours "
       ]
      },
      {
       "output_type": "stream",
       "stream": "stdout",
       "text": [
        "\r",
        "Added node 99 of 1271 and its neighbours "
       ]
      },
      {
       "output_type": "stream",
       "stream": "stdout",
       "text": [
        "\r",
        "Added node 100 of 1271 and its neighbours "
       ]
      },
      {
       "output_type": "stream",
       "stream": "stdout",
       "text": [
        "\r",
        "Added node 101 of 1271 and its neighbours "
       ]
      },
      {
       "output_type": "stream",
       "stream": "stdout",
       "text": [
        "\r",
        "Added node 102 of 1271 and its neighbours "
       ]
      },
      {
       "output_type": "stream",
       "stream": "stdout",
       "text": [
        "\r",
        "Added node 103 of 1271 and its neighbours "
       ]
      },
      {
       "output_type": "stream",
       "stream": "stdout",
       "text": [
        "\r",
        "Added node 104 of 1271 and its neighbours "
       ]
      },
      {
       "output_type": "stream",
       "stream": "stdout",
       "text": [
        "\r",
        "Added node 105 of 1271 and its neighbours "
       ]
      },
      {
       "output_type": "stream",
       "stream": "stdout",
       "text": [
        "\r",
        "Added node 106 of 1271 and its neighbours "
       ]
      },
      {
       "output_type": "stream",
       "stream": "stdout",
       "text": [
        "\r",
        "Added node 107 of 1271 and its neighbours "
       ]
      },
      {
       "output_type": "stream",
       "stream": "stdout",
       "text": [
        "\r",
        "Added node 108 of 1271 and its neighbours "
       ]
      },
      {
       "output_type": "stream",
       "stream": "stdout",
       "text": [
        "\r",
        "Added node 109 of 1271 and its neighbours "
       ]
      },
      {
       "output_type": "stream",
       "stream": "stdout",
       "text": [
        "\r",
        "Added node 110 of 1271 and its neighbours "
       ]
      },
      {
       "output_type": "stream",
       "stream": "stdout",
       "text": [
        "\r",
        "Added node 111 of 1271 and its neighbours "
       ]
      },
      {
       "output_type": "stream",
       "stream": "stdout",
       "text": [
        "\r",
        "Added node 112 of 1271 and its neighbours "
       ]
      },
      {
       "output_type": "stream",
       "stream": "stdout",
       "text": [
        "\r",
        "Added node 113 of 1271 and its neighbours "
       ]
      },
      {
       "output_type": "stream",
       "stream": "stdout",
       "text": [
        "\r",
        "Added node 114 of 1271 and its neighbours "
       ]
      },
      {
       "output_type": "stream",
       "stream": "stdout",
       "text": [
        "\r",
        "Added node 115 of 1271 and its neighbours "
       ]
      },
      {
       "output_type": "stream",
       "stream": "stdout",
       "text": [
        "\r",
        "Added node 116 of 1271 and its neighbours "
       ]
      },
      {
       "output_type": "stream",
       "stream": "stdout",
       "text": [
        "\r",
        "Added node 117 of 1271 and its neighbours "
       ]
      },
      {
       "output_type": "stream",
       "stream": "stdout",
       "text": [
        "\r",
        "Added node 118 of 1271 and its neighbours "
       ]
      },
      {
       "output_type": "stream",
       "stream": "stdout",
       "text": [
        "\r",
        "Added node 119 of 1271 and its neighbours "
       ]
      },
      {
       "output_type": "stream",
       "stream": "stdout",
       "text": [
        "\r",
        "Added node 120 of 1271 and its neighbours "
       ]
      },
      {
       "output_type": "stream",
       "stream": "stdout",
       "text": [
        "\r",
        "Added node 121 of 1271 and its neighbours "
       ]
      },
      {
       "output_type": "stream",
       "stream": "stdout",
       "text": [
        "\r",
        "Added node 122 of 1271 and its neighbours "
       ]
      },
      {
       "output_type": "stream",
       "stream": "stdout",
       "text": [
        "\r",
        "Added node 123 of 1271 and its neighbours "
       ]
      },
      {
       "output_type": "stream",
       "stream": "stdout",
       "text": [
        "\r",
        "Added node 124 of 1271 and its neighbours "
       ]
      },
      {
       "output_type": "stream",
       "stream": "stdout",
       "text": [
        "\r",
        "Added node 125 of 1271 and its neighbours "
       ]
      },
      {
       "output_type": "stream",
       "stream": "stdout",
       "text": [
        "\r",
        "Added node 126 of 1271 and its neighbours "
       ]
      },
      {
       "output_type": "stream",
       "stream": "stdout",
       "text": [
        "\r",
        "Added node 127 of 1271 and its neighbours "
       ]
      },
      {
       "output_type": "stream",
       "stream": "stdout",
       "text": [
        "\r",
        "Added node 128 of 1271 and its neighbours "
       ]
      },
      {
       "output_type": "stream",
       "stream": "stdout",
       "text": [
        "\r",
        "Added node 129 of 1271 and its neighbours "
       ]
      },
      {
       "output_type": "stream",
       "stream": "stdout",
       "text": [
        "\r",
        "Added node 130 of 1271 and its neighbours "
       ]
      },
      {
       "output_type": "stream",
       "stream": "stdout",
       "text": [
        "\r",
        "Added node 131 of 1271 and its neighbours "
       ]
      },
      {
       "output_type": "stream",
       "stream": "stdout",
       "text": [
        "\r",
        "Added node 132 of 1271 and its neighbours "
       ]
      },
      {
       "output_type": "stream",
       "stream": "stdout",
       "text": [
        "\r",
        "Added node 133 of 1271 and its neighbours "
       ]
      },
      {
       "output_type": "stream",
       "stream": "stdout",
       "text": [
        "\r",
        "Added node 134 of 1271 and its neighbours "
       ]
      },
      {
       "output_type": "stream",
       "stream": "stdout",
       "text": [
        "\r",
        "Added node 135 of 1271 and its neighbours "
       ]
      },
      {
       "output_type": "stream",
       "stream": "stdout",
       "text": [
        "\r",
        "Added node 136 of 1271 and its neighbours "
       ]
      },
      {
       "output_type": "stream",
       "stream": "stdout",
       "text": [
        "\r",
        "Added node 137 of 1271 and its neighbours "
       ]
      },
      {
       "output_type": "stream",
       "stream": "stdout",
       "text": [
        "\r",
        "Added node 138 of 1271 and its neighbours "
       ]
      },
      {
       "output_type": "stream",
       "stream": "stdout",
       "text": [
        "\r",
        "Added node 139 of 1271 and its neighbours "
       ]
      },
      {
       "output_type": "stream",
       "stream": "stdout",
       "text": [
        "\r",
        "Added node 140 of 1271 and its neighbours "
       ]
      },
      {
       "output_type": "stream",
       "stream": "stdout",
       "text": [
        "\r",
        "Added node 141 of 1271 and its neighbours "
       ]
      },
      {
       "output_type": "stream",
       "stream": "stdout",
       "text": [
        "\r",
        "Added node 142 of 1271 and its neighbours "
       ]
      },
      {
       "output_type": "stream",
       "stream": "stdout",
       "text": [
        "\r",
        "Added node 143 of 1271 and its neighbours "
       ]
      },
      {
       "output_type": "stream",
       "stream": "stdout",
       "text": [
        "\r",
        "Added node 144 of 1271 and its neighbours "
       ]
      },
      {
       "output_type": "stream",
       "stream": "stdout",
       "text": [
        "\r",
        "Added node 145 of 1271 and its neighbours "
       ]
      },
      {
       "output_type": "stream",
       "stream": "stdout",
       "text": [
        "\r",
        "Added node 146 of 1271 and its neighbours "
       ]
      },
      {
       "output_type": "stream",
       "stream": "stdout",
       "text": [
        "\r",
        "Added node 147 of 1271 and its neighbours "
       ]
      },
      {
       "output_type": "stream",
       "stream": "stdout",
       "text": [
        "\r",
        "Added node 148 of 1271 and its neighbours "
       ]
      },
      {
       "output_type": "stream",
       "stream": "stdout",
       "text": [
        "\r",
        "Added node 149 of 1271 and its neighbours "
       ]
      },
      {
       "output_type": "stream",
       "stream": "stdout",
       "text": [
        "\r",
        "Added node 150 of 1271 and its neighbours "
       ]
      },
      {
       "output_type": "stream",
       "stream": "stdout",
       "text": [
        "\r",
        "Added node 151 of 1271 and its neighbours "
       ]
      },
      {
       "output_type": "stream",
       "stream": "stdout",
       "text": [
        "\r",
        "Added node 152 of 1271 and its neighbours "
       ]
      },
      {
       "output_type": "stream",
       "stream": "stdout",
       "text": [
        "\r",
        "Added node 153 of 1271 and its neighbours "
       ]
      },
      {
       "output_type": "stream",
       "stream": "stdout",
       "text": [
        "\r",
        "Added node 154 of 1271 and its neighbours "
       ]
      },
      {
       "output_type": "stream",
       "stream": "stdout",
       "text": [
        "\r",
        "Added node 155 of 1271 and its neighbours "
       ]
      },
      {
       "output_type": "stream",
       "stream": "stdout",
       "text": [
        "\r",
        "Added node 156 of 1271 and its neighbours "
       ]
      },
      {
       "output_type": "stream",
       "stream": "stdout",
       "text": [
        "\r",
        "Added node 157 of 1271 and its neighbours "
       ]
      },
      {
       "output_type": "stream",
       "stream": "stdout",
       "text": [
        "\r",
        "Added node 158 of 1271 and its neighbours "
       ]
      },
      {
       "output_type": "stream",
       "stream": "stdout",
       "text": [
        "\r",
        "Added node 159 of 1271 and its neighbours "
       ]
      },
      {
       "output_type": "stream",
       "stream": "stdout",
       "text": [
        "\r",
        "Added node 160 of 1271 and its neighbours "
       ]
      },
      {
       "output_type": "stream",
       "stream": "stdout",
       "text": [
        "\r",
        "Added node 161 of 1271 and its neighbours "
       ]
      },
      {
       "output_type": "stream",
       "stream": "stdout",
       "text": [
        "\r",
        "Added node 162 of 1271 and its neighbours "
       ]
      },
      {
       "output_type": "stream",
       "stream": "stdout",
       "text": [
        "\r",
        "Added node 163 of 1271 and its neighbours "
       ]
      },
      {
       "output_type": "stream",
       "stream": "stdout",
       "text": [
        "\r",
        "Added node 164 of 1271 and its neighbours "
       ]
      },
      {
       "output_type": "stream",
       "stream": "stdout",
       "text": [
        "\r",
        "Added node 165 of 1271 and its neighbours "
       ]
      },
      {
       "output_type": "stream",
       "stream": "stdout",
       "text": [
        "\r",
        "Added node 166 of 1271 and its neighbours "
       ]
      },
      {
       "output_type": "stream",
       "stream": "stdout",
       "text": [
        "\r",
        "Added node 167 of 1271 and its neighbours "
       ]
      },
      {
       "output_type": "stream",
       "stream": "stdout",
       "text": [
        "\r",
        "Added node 168 of 1271 and its neighbours "
       ]
      },
      {
       "output_type": "stream",
       "stream": "stdout",
       "text": [
        "\r",
        "Added node 169 of 1271 and its neighbours "
       ]
      },
      {
       "output_type": "stream",
       "stream": "stdout",
       "text": [
        "\r",
        "Added node 170 of 1271 and its neighbours "
       ]
      },
      {
       "output_type": "stream",
       "stream": "stdout",
       "text": [
        "\r",
        "Added node 171 of 1271 and its neighbours "
       ]
      },
      {
       "output_type": "stream",
       "stream": "stdout",
       "text": [
        "\r",
        "Added node 172 of 1271 and its neighbours "
       ]
      },
      {
       "output_type": "stream",
       "stream": "stdout",
       "text": [
        "\r",
        "Added node 173 of 1271 and its neighbours "
       ]
      },
      {
       "output_type": "stream",
       "stream": "stdout",
       "text": [
        "\r",
        "Added node 174 of 1271 and its neighbours "
       ]
      },
      {
       "output_type": "stream",
       "stream": "stdout",
       "text": [
        "\r",
        "Added node 175 of 1271 and its neighbours "
       ]
      },
      {
       "output_type": "stream",
       "stream": "stdout",
       "text": [
        "\r",
        "Added node 176 of 1271 and its neighbours "
       ]
      },
      {
       "output_type": "stream",
       "stream": "stdout",
       "text": [
        "\r",
        "Added node 177 of 1271 and its neighbours "
       ]
      },
      {
       "output_type": "stream",
       "stream": "stdout",
       "text": [
        "\r",
        "Added node 178 of 1271 and its neighbours "
       ]
      },
      {
       "output_type": "stream",
       "stream": "stdout",
       "text": [
        "\r",
        "Added node 179 of 1271 and its neighbours "
       ]
      },
      {
       "output_type": "stream",
       "stream": "stdout",
       "text": [
        "\r",
        "Added node 180 of 1271 and its neighbours "
       ]
      },
      {
       "output_type": "stream",
       "stream": "stdout",
       "text": [
        "\r",
        "Added node 181 of 1271 and its neighbours "
       ]
      },
      {
       "output_type": "stream",
       "stream": "stdout",
       "text": [
        "\r",
        "Added node 182 of 1271 and its neighbours "
       ]
      },
      {
       "output_type": "stream",
       "stream": "stdout",
       "text": [
        "\r",
        "Added node 183 of 1271 and its neighbours "
       ]
      },
      {
       "output_type": "stream",
       "stream": "stdout",
       "text": [
        "\r",
        "Added node 184 of 1271 and its neighbours "
       ]
      },
      {
       "output_type": "stream",
       "stream": "stdout",
       "text": [
        "\r",
        "Added node 185 of 1271 and its neighbours "
       ]
      },
      {
       "output_type": "stream",
       "stream": "stdout",
       "text": [
        "\r",
        "Added node 186 of 1271 and its neighbours "
       ]
      },
      {
       "output_type": "stream",
       "stream": "stdout",
       "text": [
        "\r",
        "Added node 187 of 1271 and its neighbours "
       ]
      },
      {
       "output_type": "stream",
       "stream": "stdout",
       "text": [
        "\r",
        "Added node 188 of 1271 and its neighbours "
       ]
      },
      {
       "output_type": "stream",
       "stream": "stdout",
       "text": [
        "\r",
        "Added node 189 of 1271 and its neighbours "
       ]
      },
      {
       "output_type": "stream",
       "stream": "stdout",
       "text": [
        "\r",
        "Added node 190 of 1271 and its neighbours "
       ]
      },
      {
       "output_type": "stream",
       "stream": "stdout",
       "text": [
        "\r",
        "Added node 191 of 1271 and its neighbours "
       ]
      },
      {
       "output_type": "stream",
       "stream": "stdout",
       "text": [
        "\r",
        "Added node 192 of 1271 and its neighbours "
       ]
      },
      {
       "output_type": "stream",
       "stream": "stdout",
       "text": [
        "\r",
        "Added node 193 of 1271 and its neighbours "
       ]
      },
      {
       "output_type": "stream",
       "stream": "stdout",
       "text": [
        "\r",
        "Added node 194 of 1271 and its neighbours "
       ]
      },
      {
       "output_type": "stream",
       "stream": "stdout",
       "text": [
        "\r",
        "Added node 195 of 1271 and its neighbours "
       ]
      },
      {
       "output_type": "stream",
       "stream": "stdout",
       "text": [
        "\r",
        "Added node 196 of 1271 and its neighbours "
       ]
      },
      {
       "output_type": "stream",
       "stream": "stdout",
       "text": [
        "\r",
        "Added node 197 of 1271 and its neighbours "
       ]
      },
      {
       "output_type": "stream",
       "stream": "stdout",
       "text": [
        "\r",
        "Added node 198 of 1271 and its neighbours "
       ]
      },
      {
       "output_type": "stream",
       "stream": "stdout",
       "text": [
        "\r",
        "Added node 199 of 1271 and its neighbours "
       ]
      },
      {
       "output_type": "stream",
       "stream": "stdout",
       "text": [
        "\r",
        "Added node 200 of 1271 and its neighbours "
       ]
      },
      {
       "output_type": "stream",
       "stream": "stdout",
       "text": [
        "\r",
        "Added node 201 of 1271 and its neighbours "
       ]
      },
      {
       "output_type": "stream",
       "stream": "stdout",
       "text": [
        "\r",
        "Added node 202 of 1271 and its neighbours "
       ]
      },
      {
       "output_type": "stream",
       "stream": "stdout",
       "text": [
        "\r",
        "Added node 203 of 1271 and its neighbours "
       ]
      },
      {
       "output_type": "stream",
       "stream": "stdout",
       "text": [
        "\r",
        "Added node 204 of 1271 and its neighbours "
       ]
      },
      {
       "output_type": "stream",
       "stream": "stdout",
       "text": [
        "\r",
        "Added node 205 of 1271 and its neighbours "
       ]
      },
      {
       "output_type": "stream",
       "stream": "stdout",
       "text": [
        "\r",
        "Added node 206 of 1271 and its neighbours "
       ]
      },
      {
       "output_type": "stream",
       "stream": "stdout",
       "text": [
        "\r",
        "Added node 207 of 1271 and its neighbours "
       ]
      },
      {
       "output_type": "stream",
       "stream": "stdout",
       "text": [
        "\r",
        "Added node 208 of 1271 and its neighbours "
       ]
      },
      {
       "output_type": "stream",
       "stream": "stdout",
       "text": [
        "\r",
        "Added node 209 of 1271 and its neighbours "
       ]
      },
      {
       "output_type": "stream",
       "stream": "stdout",
       "text": [
        "\r",
        "Added node 210 of 1271 and its neighbours "
       ]
      },
      {
       "output_type": "stream",
       "stream": "stdout",
       "text": [
        "\r",
        "Added node 211 of 1271 and its neighbours "
       ]
      },
      {
       "output_type": "stream",
       "stream": "stdout",
       "text": [
        "\r",
        "Added node 212 of 1271 and its neighbours "
       ]
      },
      {
       "output_type": "stream",
       "stream": "stdout",
       "text": [
        "\r",
        "Added node 213 of 1271 and its neighbours "
       ]
      },
      {
       "output_type": "stream",
       "stream": "stdout",
       "text": [
        "\r",
        "Added node 214 of 1271 and its neighbours "
       ]
      },
      {
       "output_type": "stream",
       "stream": "stdout",
       "text": [
        "\r",
        "Added node 215 of 1271 and its neighbours "
       ]
      },
      {
       "output_type": "stream",
       "stream": "stdout",
       "text": [
        "\r",
        "Added node 216 of 1271 and its neighbours "
       ]
      },
      {
       "output_type": "stream",
       "stream": "stdout",
       "text": [
        "\r",
        "Added node 217 of 1271 and its neighbours "
       ]
      },
      {
       "output_type": "stream",
       "stream": "stdout",
       "text": [
        "\r",
        "Added node 218 of 1271 and its neighbours "
       ]
      },
      {
       "output_type": "stream",
       "stream": "stdout",
       "text": [
        "\r",
        "Added node 219 of 1271 and its neighbours "
       ]
      },
      {
       "output_type": "stream",
       "stream": "stdout",
       "text": [
        "\r",
        "Added node 220 of 1271 and its neighbours "
       ]
      },
      {
       "output_type": "stream",
       "stream": "stdout",
       "text": [
        "\r",
        "Added node 221 of 1271 and its neighbours "
       ]
      },
      {
       "output_type": "stream",
       "stream": "stdout",
       "text": [
        "\r",
        "Added node 222 of 1271 and its neighbours "
       ]
      },
      {
       "output_type": "stream",
       "stream": "stdout",
       "text": [
        "\r",
        "Added node 223 of 1271 and its neighbours "
       ]
      },
      {
       "output_type": "stream",
       "stream": "stdout",
       "text": [
        "\r",
        "Added node 224 of 1271 and its neighbours "
       ]
      },
      {
       "output_type": "stream",
       "stream": "stdout",
       "text": [
        "\r",
        "Added node 225 of 1271 and its neighbours "
       ]
      },
      {
       "output_type": "stream",
       "stream": "stdout",
       "text": [
        "\r",
        "Added node 226 of 1271 and its neighbours "
       ]
      },
      {
       "output_type": "stream",
       "stream": "stdout",
       "text": [
        "\r",
        "Added node 227 of 1271 and its neighbours "
       ]
      },
      {
       "output_type": "stream",
       "stream": "stdout",
       "text": [
        "\r",
        "Added node 228 of 1271 and its neighbours "
       ]
      },
      {
       "output_type": "stream",
       "stream": "stdout",
       "text": [
        "\r",
        "Added node 229 of 1271 and its neighbours "
       ]
      },
      {
       "output_type": "stream",
       "stream": "stdout",
       "text": [
        "\r",
        "Added node 230 of 1271 and its neighbours "
       ]
      },
      {
       "output_type": "stream",
       "stream": "stdout",
       "text": [
        "\r",
        "Added node 231 of 1271 and its neighbours "
       ]
      },
      {
       "output_type": "stream",
       "stream": "stdout",
       "text": [
        "\r",
        "Added node 232 of 1271 and its neighbours "
       ]
      },
      {
       "output_type": "stream",
       "stream": "stdout",
       "text": [
        "\r",
        "Added node 233 of 1271 and its neighbours "
       ]
      },
      {
       "output_type": "stream",
       "stream": "stdout",
       "text": [
        "\r",
        "Added node 234 of 1271 and its neighbours "
       ]
      },
      {
       "output_type": "stream",
       "stream": "stdout",
       "text": [
        "\r",
        "Added node 235 of 1271 and its neighbours "
       ]
      },
      {
       "output_type": "stream",
       "stream": "stdout",
       "text": [
        "\r",
        "Added node 236 of 1271 and its neighbours "
       ]
      },
      {
       "output_type": "stream",
       "stream": "stdout",
       "text": [
        "\r",
        "Added node 237 of 1271 and its neighbours "
       ]
      },
      {
       "output_type": "stream",
       "stream": "stdout",
       "text": [
        "\r",
        "Added node 238 of 1271 and its neighbours "
       ]
      },
      {
       "output_type": "stream",
       "stream": "stdout",
       "text": [
        "\r",
        "Added node 239 of 1271 and its neighbours "
       ]
      },
      {
       "output_type": "stream",
       "stream": "stdout",
       "text": [
        "\r",
        "Added node 240 of 1271 and its neighbours "
       ]
      },
      {
       "output_type": "stream",
       "stream": "stdout",
       "text": [
        "\r",
        "Added node 241 of 1271 and its neighbours "
       ]
      },
      {
       "output_type": "stream",
       "stream": "stdout",
       "text": [
        "\r",
        "Added node 242 of 1271 and its neighbours "
       ]
      },
      {
       "output_type": "stream",
       "stream": "stdout",
       "text": [
        "\r",
        "Added node 243 of 1271 and its neighbours "
       ]
      },
      {
       "output_type": "stream",
       "stream": "stdout",
       "text": [
        "\r",
        "Added node 244 of 1271 and its neighbours "
       ]
      },
      {
       "output_type": "stream",
       "stream": "stdout",
       "text": [
        "\r",
        "Added node 245 of 1271 and its neighbours "
       ]
      },
      {
       "output_type": "stream",
       "stream": "stdout",
       "text": [
        "\r",
        "Added node 246 of 1271 and its neighbours "
       ]
      },
      {
       "output_type": "stream",
       "stream": "stdout",
       "text": [
        "\r",
        "Added node 247 of 1271 and its neighbours "
       ]
      },
      {
       "output_type": "stream",
       "stream": "stdout",
       "text": [
        "\r",
        "Added node 248 of 1271 and its neighbours "
       ]
      },
      {
       "output_type": "stream",
       "stream": "stdout",
       "text": [
        "\r",
        "Added node 249 of 1271 and its neighbours "
       ]
      },
      {
       "output_type": "stream",
       "stream": "stdout",
       "text": [
        "\r",
        "Added node 250 of 1271 and its neighbours "
       ]
      },
      {
       "output_type": "stream",
       "stream": "stdout",
       "text": [
        "\r",
        "Added node 251 of 1271 and its neighbours "
       ]
      },
      {
       "output_type": "stream",
       "stream": "stdout",
       "text": [
        "\r",
        "Added node 252 of 1271 and its neighbours "
       ]
      },
      {
       "output_type": "stream",
       "stream": "stdout",
       "text": [
        "\r",
        "Added node 253 of 1271 and its neighbours "
       ]
      },
      {
       "output_type": "stream",
       "stream": "stdout",
       "text": [
        "\r",
        "Added node 254 of 1271 and its neighbours "
       ]
      },
      {
       "output_type": "stream",
       "stream": "stdout",
       "text": [
        "\r",
        "Added node 255 of 1271 and its neighbours "
       ]
      },
      {
       "output_type": "stream",
       "stream": "stdout",
       "text": [
        "\r",
        "Added node 256 of 1271 and its neighbours "
       ]
      },
      {
       "output_type": "stream",
       "stream": "stdout",
       "text": [
        "\r",
        "Added node 257 of 1271 and its neighbours "
       ]
      },
      {
       "output_type": "stream",
       "stream": "stdout",
       "text": [
        "\r",
        "Added node 258 of 1271 and its neighbours "
       ]
      },
      {
       "output_type": "stream",
       "stream": "stdout",
       "text": [
        "\r",
        "Added node 259 of 1271 and its neighbours "
       ]
      },
      {
       "output_type": "stream",
       "stream": "stdout",
       "text": [
        "\r",
        "Added node 260 of 1271 and its neighbours "
       ]
      },
      {
       "output_type": "stream",
       "stream": "stdout",
       "text": [
        "\r",
        "Added node 261 of 1271 and its neighbours "
       ]
      },
      {
       "output_type": "stream",
       "stream": "stdout",
       "text": [
        "\r",
        "Added node 262 of 1271 and its neighbours "
       ]
      },
      {
       "output_type": "stream",
       "stream": "stdout",
       "text": [
        "\r",
        "Added node 263 of 1271 and its neighbours "
       ]
      },
      {
       "output_type": "stream",
       "stream": "stdout",
       "text": [
        "\r",
        "Added node 264 of 1271 and its neighbours "
       ]
      },
      {
       "output_type": "stream",
       "stream": "stdout",
       "text": [
        "\r",
        "Added node 265 of 1271 and its neighbours "
       ]
      },
      {
       "output_type": "stream",
       "stream": "stdout",
       "text": [
        "\r",
        "Added node 266 of 1271 and its neighbours "
       ]
      },
      {
       "output_type": "stream",
       "stream": "stdout",
       "text": [
        "\r",
        "Added node 267 of 1271 and its neighbours "
       ]
      },
      {
       "output_type": "stream",
       "stream": "stdout",
       "text": [
        "\r",
        "Added node 268 of 1271 and its neighbours "
       ]
      },
      {
       "output_type": "stream",
       "stream": "stdout",
       "text": [
        "\r",
        "Added node 269 of 1271 and its neighbours "
       ]
      },
      {
       "output_type": "stream",
       "stream": "stdout",
       "text": [
        "\r",
        "Added node 270 of 1271 and its neighbours "
       ]
      },
      {
       "output_type": "stream",
       "stream": "stdout",
       "text": [
        "\r",
        "Added node 271 of 1271 and its neighbours "
       ]
      },
      {
       "output_type": "stream",
       "stream": "stdout",
       "text": [
        "\r",
        "Added node 272 of 1271 and its neighbours "
       ]
      },
      {
       "output_type": "stream",
       "stream": "stdout",
       "text": [
        "\r",
        "Added node 273 of 1271 and its neighbours "
       ]
      },
      {
       "output_type": "stream",
       "stream": "stdout",
       "text": [
        "\r",
        "Added node 274 of 1271 and its neighbours "
       ]
      },
      {
       "output_type": "stream",
       "stream": "stdout",
       "text": [
        "\r",
        "Added node 275 of 1271 and its neighbours "
       ]
      },
      {
       "output_type": "stream",
       "stream": "stdout",
       "text": [
        "\r",
        "Added node 276 of 1271 and its neighbours "
       ]
      },
      {
       "output_type": "stream",
       "stream": "stdout",
       "text": [
        "\r",
        "Added node 277 of 1271 and its neighbours "
       ]
      },
      {
       "output_type": "stream",
       "stream": "stdout",
       "text": [
        "\r",
        "Added node 278 of 1271 and its neighbours "
       ]
      },
      {
       "output_type": "stream",
       "stream": "stdout",
       "text": [
        "\r",
        "Added node 279 of 1271 and its neighbours "
       ]
      },
      {
       "output_type": "stream",
       "stream": "stdout",
       "text": [
        "\r",
        "Added node 280 of 1271 and its neighbours "
       ]
      },
      {
       "output_type": "stream",
       "stream": "stdout",
       "text": [
        "\r",
        "Added node 281 of 1271 and its neighbours "
       ]
      },
      {
       "output_type": "stream",
       "stream": "stdout",
       "text": [
        "\r",
        "Added node 282 of 1271 and its neighbours "
       ]
      },
      {
       "output_type": "stream",
       "stream": "stdout",
       "text": [
        "\r",
        "Added node 283 of 1271 and its neighbours "
       ]
      },
      {
       "output_type": "stream",
       "stream": "stdout",
       "text": [
        "\r",
        "Added node 284 of 1271 and its neighbours "
       ]
      },
      {
       "output_type": "stream",
       "stream": "stdout",
       "text": [
        "\r",
        "Added node 285 of 1271 and its neighbours "
       ]
      },
      {
       "output_type": "stream",
       "stream": "stdout",
       "text": [
        "\r",
        "Added node 286 of 1271 and its neighbours "
       ]
      },
      {
       "output_type": "stream",
       "stream": "stdout",
       "text": [
        "\r",
        "Added node 287 of 1271 and its neighbours "
       ]
      },
      {
       "output_type": "stream",
       "stream": "stdout",
       "text": [
        "\r",
        "Added node 288 of 1271 and its neighbours "
       ]
      },
      {
       "output_type": "stream",
       "stream": "stdout",
       "text": [
        "\r",
        "Added node 289 of 1271 and its neighbours "
       ]
      },
      {
       "output_type": "stream",
       "stream": "stdout",
       "text": [
        "\r",
        "Added node 290 of 1271 and its neighbours "
       ]
      },
      {
       "output_type": "stream",
       "stream": "stdout",
       "text": [
        "\r",
        "Added node 291 of 1271 and its neighbours "
       ]
      },
      {
       "output_type": "stream",
       "stream": "stdout",
       "text": [
        "\r",
        "Added node 292 of 1271 and its neighbours "
       ]
      },
      {
       "output_type": "stream",
       "stream": "stdout",
       "text": [
        "\r",
        "Added node 293 of 1271 and its neighbours "
       ]
      },
      {
       "output_type": "stream",
       "stream": "stdout",
       "text": [
        "\r",
        "Added node 294 of 1271 and its neighbours "
       ]
      },
      {
       "output_type": "stream",
       "stream": "stdout",
       "text": [
        "\r",
        "Added node 295 of 1271 and its neighbours "
       ]
      },
      {
       "output_type": "stream",
       "stream": "stdout",
       "text": [
        "\r",
        "Added node 296 of 1271 and its neighbours "
       ]
      },
      {
       "output_type": "stream",
       "stream": "stdout",
       "text": [
        "\r",
        "Added node 297 of 1271 and its neighbours "
       ]
      },
      {
       "output_type": "stream",
       "stream": "stdout",
       "text": [
        "\r",
        "Added node 298 of 1271 and its neighbours "
       ]
      },
      {
       "output_type": "stream",
       "stream": "stdout",
       "text": [
        "\r",
        "Added node 299 of 1271 and its neighbours "
       ]
      },
      {
       "output_type": "stream",
       "stream": "stdout",
       "text": [
        "\r",
        "Added node 300 of 1271 and its neighbours "
       ]
      },
      {
       "output_type": "stream",
       "stream": "stdout",
       "text": [
        "\r",
        "Added node 301 of 1271 and its neighbours "
       ]
      },
      {
       "output_type": "stream",
       "stream": "stdout",
       "text": [
        "\r",
        "Added node 302 of 1271 and its neighbours "
       ]
      },
      {
       "output_type": "stream",
       "stream": "stdout",
       "text": [
        "\r",
        "Added node 303 of 1271 and its neighbours "
       ]
      },
      {
       "output_type": "stream",
       "stream": "stdout",
       "text": [
        "\r",
        "Added node 304 of 1271 and its neighbours "
       ]
      },
      {
       "output_type": "stream",
       "stream": "stdout",
       "text": [
        "\r",
        "Added node 305 of 1271 and its neighbours "
       ]
      },
      {
       "output_type": "stream",
       "stream": "stdout",
       "text": [
        "\r",
        "Added node 306 of 1271 and its neighbours "
       ]
      },
      {
       "output_type": "stream",
       "stream": "stdout",
       "text": [
        "\r",
        "Added node 307 of 1271 and its neighbours "
       ]
      },
      {
       "output_type": "stream",
       "stream": "stdout",
       "text": [
        "\r",
        "Added node 308 of 1271 and its neighbours "
       ]
      },
      {
       "output_type": "stream",
       "stream": "stdout",
       "text": [
        "\r",
        "Added node 309 of 1271 and its neighbours "
       ]
      },
      {
       "output_type": "stream",
       "stream": "stdout",
       "text": [
        "\r",
        "Added node 310 of 1271 and its neighbours "
       ]
      },
      {
       "output_type": "stream",
       "stream": "stdout",
       "text": [
        "\r",
        "Added node 311 of 1271 and its neighbours "
       ]
      },
      {
       "output_type": "stream",
       "stream": "stdout",
       "text": [
        "\r",
        "Added node 312 of 1271 and its neighbours "
       ]
      },
      {
       "output_type": "stream",
       "stream": "stdout",
       "text": [
        "\r",
        "Added node 313 of 1271 and its neighbours "
       ]
      },
      {
       "output_type": "stream",
       "stream": "stdout",
       "text": [
        "\r",
        "Added node 314 of 1271 and its neighbours "
       ]
      },
      {
       "output_type": "stream",
       "stream": "stdout",
       "text": [
        "\r",
        "Added node 315 of 1271 and its neighbours "
       ]
      },
      {
       "output_type": "stream",
       "stream": "stdout",
       "text": [
        "\r",
        "Added node 316 of 1271 and its neighbours "
       ]
      },
      {
       "output_type": "stream",
       "stream": "stdout",
       "text": [
        "\r",
        "Added node 317 of 1271 and its neighbours "
       ]
      },
      {
       "output_type": "stream",
       "stream": "stdout",
       "text": [
        "\r",
        "Added node 318 of 1271 and its neighbours "
       ]
      },
      {
       "output_type": "stream",
       "stream": "stdout",
       "text": [
        "\r",
        "Added node 319 of 1271 and its neighbours "
       ]
      },
      {
       "output_type": "stream",
       "stream": "stdout",
       "text": [
        "\r",
        "Added node 320 of 1271 and its neighbours "
       ]
      },
      {
       "output_type": "stream",
       "stream": "stdout",
       "text": [
        "\r",
        "Added node 321 of 1271 and its neighbours "
       ]
      },
      {
       "output_type": "stream",
       "stream": "stdout",
       "text": [
        "\r",
        "Added node 322 of 1271 and its neighbours "
       ]
      },
      {
       "output_type": "stream",
       "stream": "stdout",
       "text": [
        "\r",
        "Added node 323 of 1271 and its neighbours "
       ]
      },
      {
       "output_type": "stream",
       "stream": "stdout",
       "text": [
        "\r",
        "Added node 324 of 1271 and its neighbours "
       ]
      },
      {
       "output_type": "stream",
       "stream": "stdout",
       "text": [
        "\r",
        "Added node 325 of 1271 and its neighbours "
       ]
      },
      {
       "output_type": "stream",
       "stream": "stdout",
       "text": [
        "\r",
        "Added node 326 of 1271 and its neighbours "
       ]
      },
      {
       "output_type": "stream",
       "stream": "stdout",
       "text": [
        "\r",
        "Added node 327 of 1271 and its neighbours "
       ]
      },
      {
       "output_type": "stream",
       "stream": "stdout",
       "text": [
        "\r",
        "Added node 328 of 1271 and its neighbours "
       ]
      },
      {
       "output_type": "stream",
       "stream": "stdout",
       "text": [
        "\r",
        "Added node 329 of 1271 and its neighbours "
       ]
      },
      {
       "output_type": "stream",
       "stream": "stdout",
       "text": [
        "\r",
        "Added node 330 of 1271 and its neighbours "
       ]
      },
      {
       "output_type": "stream",
       "stream": "stdout",
       "text": [
        "\r",
        "Added node 331 of 1271 and its neighbours "
       ]
      },
      {
       "output_type": "stream",
       "stream": "stdout",
       "text": [
        "\r",
        "Added node 332 of 1271 and its neighbours "
       ]
      },
      {
       "output_type": "stream",
       "stream": "stdout",
       "text": [
        "\r",
        "Added node 333 of 1271 and its neighbours "
       ]
      },
      {
       "output_type": "stream",
       "stream": "stdout",
       "text": [
        "\r",
        "Added node 334 of 1271 and its neighbours "
       ]
      },
      {
       "output_type": "stream",
       "stream": "stdout",
       "text": [
        "\r",
        "Added node 335 of 1271 and its neighbours "
       ]
      },
      {
       "output_type": "stream",
       "stream": "stdout",
       "text": [
        "\r",
        "Added node 336 of 1271 and its neighbours "
       ]
      },
      {
       "output_type": "stream",
       "stream": "stdout",
       "text": [
        "\r",
        "Added node 337 of 1271 and its neighbours "
       ]
      },
      {
       "output_type": "stream",
       "stream": "stdout",
       "text": [
        "\r",
        "Added node 338 of 1271 and its neighbours "
       ]
      },
      {
       "output_type": "stream",
       "stream": "stdout",
       "text": [
        "\r",
        "Added node 339 of 1271 and its neighbours "
       ]
      },
      {
       "output_type": "stream",
       "stream": "stdout",
       "text": [
        "\r",
        "Added node 340 of 1271 and its neighbours "
       ]
      },
      {
       "output_type": "stream",
       "stream": "stdout",
       "text": [
        "\r",
        "Added node 341 of 1271 and its neighbours "
       ]
      },
      {
       "output_type": "stream",
       "stream": "stdout",
       "text": [
        "\r",
        "Added node 342 of 1271 and its neighbours "
       ]
      },
      {
       "output_type": "stream",
       "stream": "stdout",
       "text": [
        "\r",
        "Added node 343 of 1271 and its neighbours "
       ]
      },
      {
       "output_type": "stream",
       "stream": "stdout",
       "text": [
        "\r",
        "Added node 344 of 1271 and its neighbours "
       ]
      },
      {
       "output_type": "stream",
       "stream": "stdout",
       "text": [
        "\r",
        "Added node 345 of 1271 and its neighbours "
       ]
      },
      {
       "output_type": "stream",
       "stream": "stdout",
       "text": [
        "\r",
        "Added node 346 of 1271 and its neighbours "
       ]
      },
      {
       "output_type": "stream",
       "stream": "stdout",
       "text": [
        "\r",
        "Added node 347 of 1271 and its neighbours "
       ]
      },
      {
       "output_type": "stream",
       "stream": "stdout",
       "text": [
        "\r",
        "Added node 348 of 1271 and its neighbours "
       ]
      },
      {
       "output_type": "stream",
       "stream": "stdout",
       "text": [
        "\r",
        "Added node 349 of 1271 and its neighbours "
       ]
      },
      {
       "output_type": "stream",
       "stream": "stdout",
       "text": [
        "\r",
        "Added node 350 of 1271 and its neighbours "
       ]
      },
      {
       "output_type": "stream",
       "stream": "stdout",
       "text": [
        "\r",
        "Added node 351 of 1271 and its neighbours "
       ]
      },
      {
       "output_type": "stream",
       "stream": "stdout",
       "text": [
        "\r",
        "Added node 352 of 1271 and its neighbours "
       ]
      },
      {
       "output_type": "stream",
       "stream": "stdout",
       "text": [
        "\r",
        "Added node 353 of 1271 and its neighbours "
       ]
      },
      {
       "output_type": "stream",
       "stream": "stdout",
       "text": [
        "\r",
        "Added node 354 of 1271 and its neighbours "
       ]
      },
      {
       "output_type": "stream",
       "stream": "stdout",
       "text": [
        "\r",
        "Added node 355 of 1271 and its neighbours "
       ]
      },
      {
       "output_type": "stream",
       "stream": "stdout",
       "text": [
        "\r",
        "Added node 356 of 1271 and its neighbours "
       ]
      },
      {
       "output_type": "stream",
       "stream": "stdout",
       "text": [
        "\r",
        "Added node 357 of 1271 and its neighbours "
       ]
      },
      {
       "output_type": "stream",
       "stream": "stdout",
       "text": [
        "\r",
        "Added node 358 of 1271 and its neighbours "
       ]
      },
      {
       "output_type": "stream",
       "stream": "stdout",
       "text": [
        "\r",
        "Added node 359 of 1271 and its neighbours "
       ]
      },
      {
       "output_type": "stream",
       "stream": "stdout",
       "text": [
        "\r",
        "Added node 360 of 1271 and its neighbours "
       ]
      },
      {
       "output_type": "stream",
       "stream": "stdout",
       "text": [
        "\r",
        "Added node 361 of 1271 and its neighbours "
       ]
      },
      {
       "output_type": "stream",
       "stream": "stdout",
       "text": [
        "\r",
        "Added node 362 of 1271 and its neighbours "
       ]
      },
      {
       "output_type": "stream",
       "stream": "stdout",
       "text": [
        "\r",
        "Added node 363 of 1271 and its neighbours "
       ]
      },
      {
       "output_type": "stream",
       "stream": "stdout",
       "text": [
        "\r",
        "Added node 364 of 1271 and its neighbours "
       ]
      },
      {
       "output_type": "stream",
       "stream": "stdout",
       "text": [
        "\r",
        "Added node 365 of 1271 and its neighbours "
       ]
      },
      {
       "output_type": "stream",
       "stream": "stdout",
       "text": [
        "\r",
        "Added node 366 of 1271 and its neighbours "
       ]
      },
      {
       "output_type": "stream",
       "stream": "stdout",
       "text": [
        "\r",
        "Added node 367 of 1271 and its neighbours "
       ]
      },
      {
       "output_type": "stream",
       "stream": "stdout",
       "text": [
        "\r",
        "Added node 368 of 1271 and its neighbours "
       ]
      },
      {
       "output_type": "stream",
       "stream": "stdout",
       "text": [
        "\r",
        "Added node 369 of 1271 and its neighbours "
       ]
      },
      {
       "output_type": "stream",
       "stream": "stdout",
       "text": [
        "\r",
        "Added node 370 of 1271 and its neighbours "
       ]
      },
      {
       "output_type": "stream",
       "stream": "stdout",
       "text": [
        "\r",
        "Added node 371 of 1271 and its neighbours "
       ]
      },
      {
       "output_type": "stream",
       "stream": "stdout",
       "text": [
        "\r",
        "Added node 372 of 1271 and its neighbours "
       ]
      },
      {
       "output_type": "stream",
       "stream": "stdout",
       "text": [
        "\r",
        "Added node 373 of 1271 and its neighbours "
       ]
      },
      {
       "output_type": "stream",
       "stream": "stdout",
       "text": [
        "\r",
        "Added node 374 of 1271 and its neighbours "
       ]
      },
      {
       "output_type": "stream",
       "stream": "stdout",
       "text": [
        "\r",
        "Added node 375 of 1271 and its neighbours "
       ]
      },
      {
       "output_type": "stream",
       "stream": "stdout",
       "text": [
        "\r",
        "Added node 376 of 1271 and its neighbours "
       ]
      },
      {
       "output_type": "stream",
       "stream": "stdout",
       "text": [
        "\r",
        "Added node 377 of 1271 and its neighbours "
       ]
      },
      {
       "output_type": "stream",
       "stream": "stdout",
       "text": [
        "\r",
        "Added node 378 of 1271 and its neighbours "
       ]
      },
      {
       "output_type": "stream",
       "stream": "stdout",
       "text": [
        "\r",
        "Added node 379 of 1271 and its neighbours "
       ]
      },
      {
       "output_type": "stream",
       "stream": "stdout",
       "text": [
        "\r",
        "Added node 380 of 1271 and its neighbours "
       ]
      },
      {
       "output_type": "stream",
       "stream": "stdout",
       "text": [
        "\r",
        "Added node 381 of 1271 and its neighbours "
       ]
      },
      {
       "output_type": "stream",
       "stream": "stdout",
       "text": [
        "\r",
        "Added node 382 of 1271 and its neighbours "
       ]
      },
      {
       "output_type": "stream",
       "stream": "stdout",
       "text": [
        "\r",
        "Added node 383 of 1271 and its neighbours "
       ]
      },
      {
       "output_type": "stream",
       "stream": "stdout",
       "text": [
        "\r",
        "Added node 384 of 1271 and its neighbours "
       ]
      },
      {
       "output_type": "stream",
       "stream": "stdout",
       "text": [
        "\r",
        "Added node 385 of 1271 and its neighbours "
       ]
      },
      {
       "output_type": "stream",
       "stream": "stdout",
       "text": [
        "\r",
        "Added node 386 of 1271 and its neighbours "
       ]
      },
      {
       "output_type": "stream",
       "stream": "stdout",
       "text": [
        "\r",
        "Added node 387 of 1271 and its neighbours "
       ]
      },
      {
       "output_type": "stream",
       "stream": "stdout",
       "text": [
        "\r",
        "Added node 388 of 1271 and its neighbours "
       ]
      },
      {
       "output_type": "stream",
       "stream": "stdout",
       "text": [
        "\r",
        "Added node 389 of 1271 and its neighbours "
       ]
      },
      {
       "output_type": "stream",
       "stream": "stdout",
       "text": [
        "\r",
        "Added node 390 of 1271 and its neighbours "
       ]
      },
      {
       "output_type": "stream",
       "stream": "stdout",
       "text": [
        "\r",
        "Added node 391 of 1271 and its neighbours "
       ]
      },
      {
       "output_type": "stream",
       "stream": "stdout",
       "text": [
        "\r",
        "Added node 392 of 1271 and its neighbours "
       ]
      },
      {
       "output_type": "stream",
       "stream": "stdout",
       "text": [
        "\r",
        "Added node 393 of 1271 and its neighbours "
       ]
      },
      {
       "output_type": "stream",
       "stream": "stdout",
       "text": [
        "\r",
        "Added node 394 of 1271 and its neighbours "
       ]
      },
      {
       "output_type": "stream",
       "stream": "stdout",
       "text": [
        "\r",
        "Added node 395 of 1271 and its neighbours "
       ]
      },
      {
       "output_type": "stream",
       "stream": "stdout",
       "text": [
        "\r",
        "Added node 396 of 1271 and its neighbours "
       ]
      },
      {
       "output_type": "stream",
       "stream": "stdout",
       "text": [
        "\r",
        "Added node 397 of 1271 and its neighbours "
       ]
      },
      {
       "output_type": "stream",
       "stream": "stdout",
       "text": [
        "\r",
        "Added node 398 of 1271 and its neighbours "
       ]
      },
      {
       "output_type": "stream",
       "stream": "stdout",
       "text": [
        "\r",
        "Added node 399 of 1271 and its neighbours "
       ]
      },
      {
       "output_type": "stream",
       "stream": "stdout",
       "text": [
        "\r",
        "Added node 400 of 1271 and its neighbours "
       ]
      },
      {
       "output_type": "stream",
       "stream": "stdout",
       "text": [
        "\r",
        "Added node 401 of 1271 and its neighbours "
       ]
      },
      {
       "output_type": "stream",
       "stream": "stdout",
       "text": [
        "\r",
        "Added node 402 of 1271 and its neighbours "
       ]
      },
      {
       "output_type": "stream",
       "stream": "stdout",
       "text": [
        "\r",
        "Added node 403 of 1271 and its neighbours "
       ]
      },
      {
       "output_type": "stream",
       "stream": "stdout",
       "text": [
        "\r",
        "Added node 404 of 1271 and its neighbours "
       ]
      },
      {
       "output_type": "stream",
       "stream": "stdout",
       "text": [
        "\r",
        "Added node 405 of 1271 and its neighbours "
       ]
      },
      {
       "output_type": "stream",
       "stream": "stdout",
       "text": [
        "\r",
        "Added node 406 of 1271 and its neighbours "
       ]
      },
      {
       "output_type": "stream",
       "stream": "stdout",
       "text": [
        "\r",
        "Added node 407 of 1271 and its neighbours "
       ]
      },
      {
       "output_type": "stream",
       "stream": "stdout",
       "text": [
        "\r",
        "Added node 408 of 1271 and its neighbours "
       ]
      },
      {
       "output_type": "stream",
       "stream": "stdout",
       "text": [
        "\r",
        "Added node 409 of 1271 and its neighbours "
       ]
      },
      {
       "output_type": "stream",
       "stream": "stdout",
       "text": [
        "\r",
        "Added node 410 of 1271 and its neighbours "
       ]
      },
      {
       "output_type": "stream",
       "stream": "stdout",
       "text": [
        "\r",
        "Added node 411 of 1271 and its neighbours "
       ]
      },
      {
       "output_type": "stream",
       "stream": "stdout",
       "text": [
        "\r",
        "Added node 412 of 1271 and its neighbours "
       ]
      },
      {
       "output_type": "stream",
       "stream": "stdout",
       "text": [
        "\r",
        "Added node 413 of 1271 and its neighbours "
       ]
      },
      {
       "output_type": "stream",
       "stream": "stdout",
       "text": [
        "\r",
        "Added node 414 of 1271 and its neighbours "
       ]
      },
      {
       "output_type": "stream",
       "stream": "stdout",
       "text": [
        "\r",
        "Added node 415 of 1271 and its neighbours "
       ]
      },
      {
       "output_type": "stream",
       "stream": "stdout",
       "text": [
        "\r",
        "Added node 416 of 1271 and its neighbours "
       ]
      },
      {
       "output_type": "stream",
       "stream": "stdout",
       "text": [
        "\r",
        "Added node 417 of 1271 and its neighbours "
       ]
      },
      {
       "output_type": "stream",
       "stream": "stdout",
       "text": [
        "\r",
        "Added node 418 of 1271 and its neighbours "
       ]
      },
      {
       "output_type": "stream",
       "stream": "stdout",
       "text": [
        "\r",
        "Added node 419 of 1271 and its neighbours "
       ]
      },
      {
       "output_type": "stream",
       "stream": "stdout",
       "text": [
        "\r",
        "Added node 420 of 1271 and its neighbours "
       ]
      },
      {
       "output_type": "stream",
       "stream": "stdout",
       "text": [
        "\r",
        "Added node 421 of 1271 and its neighbours "
       ]
      },
      {
       "output_type": "stream",
       "stream": "stdout",
       "text": [
        "\r",
        "Added node 422 of 1271 and its neighbours "
       ]
      },
      {
       "output_type": "stream",
       "stream": "stdout",
       "text": [
        "\r",
        "Added node 423 of 1271 and its neighbours "
       ]
      },
      {
       "output_type": "stream",
       "stream": "stdout",
       "text": [
        "\r",
        "Added node 424 of 1271 and its neighbours "
       ]
      },
      {
       "output_type": "stream",
       "stream": "stdout",
       "text": [
        "\r",
        "Added node 425 of 1271 and its neighbours "
       ]
      },
      {
       "output_type": "stream",
       "stream": "stdout",
       "text": [
        "\r",
        "Added node 426 of 1271 and its neighbours "
       ]
      },
      {
       "output_type": "stream",
       "stream": "stdout",
       "text": [
        "\r",
        "Added node 427 of 1271 and its neighbours "
       ]
      },
      {
       "output_type": "stream",
       "stream": "stdout",
       "text": [
        "\r",
        "Added node 428 of 1271 and its neighbours "
       ]
      },
      {
       "output_type": "stream",
       "stream": "stdout",
       "text": [
        "\r",
        "Added node 429 of 1271 and its neighbours "
       ]
      },
      {
       "output_type": "stream",
       "stream": "stdout",
       "text": [
        "\r",
        "Added node 430 of 1271 and its neighbours "
       ]
      },
      {
       "output_type": "stream",
       "stream": "stdout",
       "text": [
        "\r",
        "Added node 431 of 1271 and its neighbours "
       ]
      },
      {
       "output_type": "stream",
       "stream": "stdout",
       "text": [
        "\r",
        "Added node 432 of 1271 and its neighbours "
       ]
      },
      {
       "output_type": "stream",
       "stream": "stdout",
       "text": [
        "\r",
        "Added node 433 of 1271 and its neighbours "
       ]
      },
      {
       "output_type": "stream",
       "stream": "stdout",
       "text": [
        "\r",
        "Added node 434 of 1271 and its neighbours "
       ]
      },
      {
       "output_type": "stream",
       "stream": "stdout",
       "text": [
        "\r",
        "Added node 435 of 1271 and its neighbours "
       ]
      },
      {
       "output_type": "stream",
       "stream": "stdout",
       "text": [
        "\r",
        "Added node 436 of 1271 and its neighbours "
       ]
      },
      {
       "output_type": "stream",
       "stream": "stdout",
       "text": [
        "\r",
        "Added node 437 of 1271 and its neighbours "
       ]
      },
      {
       "output_type": "stream",
       "stream": "stdout",
       "text": [
        "\r",
        "Added node 438 of 1271 and its neighbours "
       ]
      },
      {
       "output_type": "stream",
       "stream": "stdout",
       "text": [
        "\r",
        "Added node 439 of 1271 and its neighbours "
       ]
      },
      {
       "output_type": "stream",
       "stream": "stdout",
       "text": [
        "\r",
        "Added node 440 of 1271 and its neighbours "
       ]
      },
      {
       "output_type": "stream",
       "stream": "stdout",
       "text": [
        "\r",
        "Added node 441 of 1271 and its neighbours "
       ]
      },
      {
       "output_type": "stream",
       "stream": "stdout",
       "text": [
        "\r",
        "Added node 442 of 1271 and its neighbours "
       ]
      },
      {
       "output_type": "stream",
       "stream": "stdout",
       "text": [
        "\r",
        "Added node 443 of 1271 and its neighbours "
       ]
      },
      {
       "output_type": "stream",
       "stream": "stdout",
       "text": [
        "\r",
        "Added node 444 of 1271 and its neighbours "
       ]
      },
      {
       "output_type": "stream",
       "stream": "stdout",
       "text": [
        "\r",
        "Added node 445 of 1271 and its neighbours "
       ]
      },
      {
       "output_type": "stream",
       "stream": "stdout",
       "text": [
        "\r",
        "Added node 446 of 1271 and its neighbours "
       ]
      },
      {
       "output_type": "stream",
       "stream": "stdout",
       "text": [
        "\r",
        "Added node 447 of 1271 and its neighbours "
       ]
      },
      {
       "output_type": "stream",
       "stream": "stdout",
       "text": [
        "\r",
        "Added node 448 of 1271 and its neighbours "
       ]
      },
      {
       "output_type": "stream",
       "stream": "stdout",
       "text": [
        "\r",
        "Added node 449 of 1271 and its neighbours "
       ]
      },
      {
       "output_type": "stream",
       "stream": "stdout",
       "text": [
        "\r",
        "Added node 450 of 1271 and its neighbours "
       ]
      },
      {
       "output_type": "stream",
       "stream": "stdout",
       "text": [
        "\r",
        "Added node 451 of 1271 and its neighbours "
       ]
      },
      {
       "output_type": "stream",
       "stream": "stdout",
       "text": [
        "\r",
        "Added node 452 of 1271 and its neighbours "
       ]
      },
      {
       "output_type": "stream",
       "stream": "stdout",
       "text": [
        "\r",
        "Added node 453 of 1271 and its neighbours "
       ]
      },
      {
       "output_type": "stream",
       "stream": "stdout",
       "text": [
        "\r",
        "Added node 454 of 1271 and its neighbours "
       ]
      },
      {
       "output_type": "stream",
       "stream": "stdout",
       "text": [
        "\r",
        "Added node 455 of 1271 and its neighbours "
       ]
      },
      {
       "output_type": "stream",
       "stream": "stdout",
       "text": [
        "\r",
        "Added node 456 of 1271 and its neighbours "
       ]
      },
      {
       "output_type": "stream",
       "stream": "stdout",
       "text": [
        "\r",
        "Added node 457 of 1271 and its neighbours "
       ]
      },
      {
       "output_type": "stream",
       "stream": "stdout",
       "text": [
        "\r",
        "Added node 458 of 1271 and its neighbours "
       ]
      },
      {
       "output_type": "stream",
       "stream": "stdout",
       "text": [
        "\r",
        "Added node 459 of 1271 and its neighbours "
       ]
      },
      {
       "output_type": "stream",
       "stream": "stdout",
       "text": [
        "\r",
        "Added node 460 of 1271 and its neighbours "
       ]
      },
      {
       "output_type": "stream",
       "stream": "stdout",
       "text": [
        "\r",
        "Added node 461 of 1271 and its neighbours "
       ]
      },
      {
       "output_type": "stream",
       "stream": "stdout",
       "text": [
        "\r",
        "Added node 462 of 1271 and its neighbours "
       ]
      },
      {
       "output_type": "stream",
       "stream": "stdout",
       "text": [
        "\r",
        "Added node 463 of 1271 and its neighbours "
       ]
      },
      {
       "output_type": "stream",
       "stream": "stdout",
       "text": [
        "\r",
        "Added node 464 of 1271 and its neighbours "
       ]
      },
      {
       "output_type": "stream",
       "stream": "stdout",
       "text": [
        "\r",
        "Added node 465 of 1271 and its neighbours "
       ]
      },
      {
       "output_type": "stream",
       "stream": "stdout",
       "text": [
        "\r",
        "Added node 466 of 1271 and its neighbours "
       ]
      },
      {
       "output_type": "stream",
       "stream": "stdout",
       "text": [
        "\r",
        "Added node 467 of 1271 and its neighbours "
       ]
      },
      {
       "output_type": "stream",
       "stream": "stdout",
       "text": [
        "\r",
        "Added node 468 of 1271 and its neighbours "
       ]
      },
      {
       "output_type": "stream",
       "stream": "stdout",
       "text": [
        "\r",
        "Added node 469 of 1271 and its neighbours "
       ]
      },
      {
       "output_type": "stream",
       "stream": "stdout",
       "text": [
        "\r",
        "Added node 470 of 1271 and its neighbours "
       ]
      },
      {
       "output_type": "stream",
       "stream": "stdout",
       "text": [
        "\r",
        "Added node 471 of 1271 and its neighbours "
       ]
      },
      {
       "output_type": "stream",
       "stream": "stdout",
       "text": [
        "\r",
        "Added node 472 of 1271 and its neighbours "
       ]
      },
      {
       "output_type": "stream",
       "stream": "stdout",
       "text": [
        "\r",
        "Added node 473 of 1271 and its neighbours "
       ]
      },
      {
       "output_type": "stream",
       "stream": "stdout",
       "text": [
        "\r",
        "Added node 474 of 1271 and its neighbours "
       ]
      },
      {
       "output_type": "stream",
       "stream": "stdout",
       "text": [
        "\r",
        "Added node 475 of 1271 and its neighbours "
       ]
      },
      {
       "output_type": "stream",
       "stream": "stdout",
       "text": [
        "\r",
        "Added node 476 of 1271 and its neighbours "
       ]
      },
      {
       "output_type": "stream",
       "stream": "stdout",
       "text": [
        "\r",
        "Added node 477 of 1271 and its neighbours "
       ]
      },
      {
       "output_type": "stream",
       "stream": "stdout",
       "text": [
        "\r",
        "Added node 478 of 1271 and its neighbours "
       ]
      },
      {
       "output_type": "stream",
       "stream": "stdout",
       "text": [
        "\r",
        "Added node 479 of 1271 and its neighbours "
       ]
      },
      {
       "output_type": "stream",
       "stream": "stdout",
       "text": [
        "\r",
        "Added node 480 of 1271 and its neighbours "
       ]
      },
      {
       "output_type": "stream",
       "stream": "stdout",
       "text": [
        "\r",
        "Added node 481 of 1271 and its neighbours "
       ]
      },
      {
       "output_type": "stream",
       "stream": "stdout",
       "text": [
        "\r",
        "Added node 482 of 1271 and its neighbours "
       ]
      },
      {
       "output_type": "stream",
       "stream": "stdout",
       "text": [
        "\r",
        "Added node 483 of 1271 and its neighbours "
       ]
      },
      {
       "output_type": "stream",
       "stream": "stdout",
       "text": [
        "\r",
        "Added node 484 of 1271 and its neighbours "
       ]
      },
      {
       "output_type": "stream",
       "stream": "stdout",
       "text": [
        "\r",
        "Added node 485 of 1271 and its neighbours "
       ]
      },
      {
       "output_type": "stream",
       "stream": "stdout",
       "text": [
        "\r",
        "Added node 486 of 1271 and its neighbours "
       ]
      },
      {
       "output_type": "stream",
       "stream": "stdout",
       "text": [
        "\r",
        "Added node 487 of 1271 and its neighbours "
       ]
      },
      {
       "output_type": "stream",
       "stream": "stdout",
       "text": [
        "\r",
        "Added node 488 of 1271 and its neighbours "
       ]
      },
      {
       "output_type": "stream",
       "stream": "stdout",
       "text": [
        "\r",
        "Added node 489 of 1271 and its neighbours "
       ]
      },
      {
       "output_type": "stream",
       "stream": "stdout",
       "text": [
        "\r",
        "Added node 490 of 1271 and its neighbours "
       ]
      },
      {
       "output_type": "stream",
       "stream": "stdout",
       "text": [
        "\r",
        "Added node 491 of 1271 and its neighbours "
       ]
      },
      {
       "output_type": "stream",
       "stream": "stdout",
       "text": [
        "\r",
        "Added node 492 of 1271 and its neighbours "
       ]
      },
      {
       "output_type": "stream",
       "stream": "stdout",
       "text": [
        "\r",
        "Added node 493 of 1271 and its neighbours "
       ]
      },
      {
       "output_type": "stream",
       "stream": "stdout",
       "text": [
        "\r",
        "Added node 494 of 1271 and its neighbours "
       ]
      },
      {
       "output_type": "stream",
       "stream": "stdout",
       "text": [
        "\r",
        "Added node 495 of 1271 and its neighbours "
       ]
      },
      {
       "output_type": "stream",
       "stream": "stdout",
       "text": [
        "\r",
        "Added node 496 of 1271 and its neighbours "
       ]
      },
      {
       "output_type": "stream",
       "stream": "stdout",
       "text": [
        "\r",
        "Added node 497 of 1271 and its neighbours "
       ]
      },
      {
       "output_type": "stream",
       "stream": "stdout",
       "text": [
        "\r",
        "Added node 498 of 1271 and its neighbours "
       ]
      },
      {
       "output_type": "stream",
       "stream": "stdout",
       "text": [
        "\r",
        "Added node 499 of 1271 and its neighbours "
       ]
      },
      {
       "output_type": "stream",
       "stream": "stdout",
       "text": [
        "\r",
        "Added node 500 of 1271 and its neighbours "
       ]
      },
      {
       "output_type": "stream",
       "stream": "stdout",
       "text": [
        "\r",
        "Added node 501 of 1271 and its neighbours "
       ]
      },
      {
       "output_type": "stream",
       "stream": "stdout",
       "text": [
        "\r",
        "Added node 502 of 1271 and its neighbours "
       ]
      },
      {
       "output_type": "stream",
       "stream": "stdout",
       "text": [
        "\r",
        "Added node 503 of 1271 and its neighbours "
       ]
      },
      {
       "output_type": "stream",
       "stream": "stdout",
       "text": [
        "\r",
        "Added node 504 of 1271 and its neighbours "
       ]
      },
      {
       "output_type": "stream",
       "stream": "stdout",
       "text": [
        "\r",
        "Added node 505 of 1271 and its neighbours "
       ]
      },
      {
       "output_type": "stream",
       "stream": "stdout",
       "text": [
        "\r",
        "Added node 506 of 1271 and its neighbours "
       ]
      },
      {
       "output_type": "stream",
       "stream": "stdout",
       "text": [
        "\r",
        "Added node 507 of 1271 and its neighbours "
       ]
      },
      {
       "output_type": "stream",
       "stream": "stdout",
       "text": [
        "\r",
        "Added node 508 of 1271 and its neighbours "
       ]
      },
      {
       "output_type": "stream",
       "stream": "stdout",
       "text": [
        "\r",
        "Added node 509 of 1271 and its neighbours "
       ]
      },
      {
       "output_type": "stream",
       "stream": "stdout",
       "text": [
        "\r",
        "Added node 510 of 1271 and its neighbours "
       ]
      },
      {
       "output_type": "stream",
       "stream": "stdout",
       "text": [
        "\r",
        "Added node 511 of 1271 and its neighbours "
       ]
      },
      {
       "output_type": "stream",
       "stream": "stdout",
       "text": [
        "\r",
        "Added node 512 of 1271 and its neighbours "
       ]
      },
      {
       "output_type": "stream",
       "stream": "stdout",
       "text": [
        "\r",
        "Added node 513 of 1271 and its neighbours "
       ]
      },
      {
       "output_type": "stream",
       "stream": "stdout",
       "text": [
        "\r",
        "Added node 514 of 1271 and its neighbours "
       ]
      },
      {
       "output_type": "stream",
       "stream": "stdout",
       "text": [
        "\r",
        "Added node 515 of 1271 and its neighbours "
       ]
      },
      {
       "output_type": "stream",
       "stream": "stdout",
       "text": [
        "\r",
        "Added node 516 of 1271 and its neighbours "
       ]
      },
      {
       "output_type": "stream",
       "stream": "stdout",
       "text": [
        "\r",
        "Added node 517 of 1271 and its neighbours "
       ]
      },
      {
       "output_type": "stream",
       "stream": "stdout",
       "text": [
        "\r",
        "Added node 518 of 1271 and its neighbours "
       ]
      },
      {
       "output_type": "stream",
       "stream": "stdout",
       "text": [
        "\r",
        "Added node 519 of 1271 and its neighbours "
       ]
      },
      {
       "output_type": "stream",
       "stream": "stdout",
       "text": [
        "\r",
        "Added node 520 of 1271 and its neighbours "
       ]
      },
      {
       "output_type": "stream",
       "stream": "stdout",
       "text": [
        "\r",
        "Added node 521 of 1271 and its neighbours "
       ]
      },
      {
       "output_type": "stream",
       "stream": "stdout",
       "text": [
        "\r",
        "Added node 522 of 1271 and its neighbours "
       ]
      },
      {
       "output_type": "stream",
       "stream": "stdout",
       "text": [
        "\r",
        "Added node 523 of 1271 and its neighbours "
       ]
      },
      {
       "output_type": "stream",
       "stream": "stdout",
       "text": [
        "\r",
        "Added node 524 of 1271 and its neighbours "
       ]
      },
      {
       "output_type": "stream",
       "stream": "stdout",
       "text": [
        "\r",
        "Added node 525 of 1271 and its neighbours "
       ]
      },
      {
       "output_type": "stream",
       "stream": "stdout",
       "text": [
        "\r",
        "Added node 526 of 1271 and its neighbours "
       ]
      },
      {
       "output_type": "stream",
       "stream": "stdout",
       "text": [
        "\r",
        "Added node 527 of 1271 and its neighbours "
       ]
      },
      {
       "output_type": "stream",
       "stream": "stdout",
       "text": [
        "\r",
        "Added node 528 of 1271 and its neighbours "
       ]
      },
      {
       "output_type": "stream",
       "stream": "stdout",
       "text": [
        "\r",
        "Added node 529 of 1271 and its neighbours "
       ]
      },
      {
       "output_type": "stream",
       "stream": "stdout",
       "text": [
        "\r",
        "Added node 530 of 1271 and its neighbours "
       ]
      },
      {
       "output_type": "stream",
       "stream": "stdout",
       "text": [
        "\r",
        "Added node 531 of 1271 and its neighbours "
       ]
      },
      {
       "output_type": "stream",
       "stream": "stdout",
       "text": [
        "\r",
        "Added node 532 of 1271 and its neighbours "
       ]
      },
      {
       "output_type": "stream",
       "stream": "stdout",
       "text": [
        "\r",
        "Added node 533 of 1271 and its neighbours "
       ]
      },
      {
       "output_type": "stream",
       "stream": "stdout",
       "text": [
        "\r",
        "Added node 534 of 1271 and its neighbours "
       ]
      },
      {
       "output_type": "stream",
       "stream": "stdout",
       "text": [
        "\r",
        "Added node 535 of 1271 and its neighbours "
       ]
      },
      {
       "output_type": "stream",
       "stream": "stdout",
       "text": [
        "\r",
        "Added node 536 of 1271 and its neighbours "
       ]
      },
      {
       "output_type": "stream",
       "stream": "stdout",
       "text": [
        "\r",
        "Added node 537 of 1271 and its neighbours "
       ]
      },
      {
       "output_type": "stream",
       "stream": "stdout",
       "text": [
        "\r",
        "Added node 538 of 1271 and its neighbours "
       ]
      },
      {
       "output_type": "stream",
       "stream": "stdout",
       "text": [
        "\r",
        "Added node 539 of 1271 and its neighbours "
       ]
      },
      {
       "output_type": "stream",
       "stream": "stdout",
       "text": [
        "\r",
        "Added node 540 of 1271 and its neighbours "
       ]
      },
      {
       "output_type": "stream",
       "stream": "stdout",
       "text": [
        "\r",
        "Added node 541 of 1271 and its neighbours "
       ]
      },
      {
       "output_type": "stream",
       "stream": "stdout",
       "text": [
        "\r",
        "Added node 542 of 1271 and its neighbours "
       ]
      },
      {
       "output_type": "stream",
       "stream": "stdout",
       "text": [
        "\r",
        "Added node 543 of 1271 and its neighbours "
       ]
      },
      {
       "output_type": "stream",
       "stream": "stdout",
       "text": [
        "\r",
        "Added node 544 of 1271 and its neighbours "
       ]
      },
      {
       "output_type": "stream",
       "stream": "stdout",
       "text": [
        "\r",
        "Added node 545 of 1271 and its neighbours "
       ]
      },
      {
       "output_type": "stream",
       "stream": "stdout",
       "text": [
        "\r",
        "Added node 546 of 1271 and its neighbours "
       ]
      },
      {
       "output_type": "stream",
       "stream": "stdout",
       "text": [
        "\r",
        "Added node 547 of 1271 and its neighbours "
       ]
      },
      {
       "output_type": "stream",
       "stream": "stdout",
       "text": [
        "\r",
        "Added node 548 of 1271 and its neighbours "
       ]
      },
      {
       "output_type": "stream",
       "stream": "stdout",
       "text": [
        "\r",
        "Added node 549 of 1271 and its neighbours "
       ]
      },
      {
       "output_type": "stream",
       "stream": "stdout",
       "text": [
        "\r",
        "Added node 550 of 1271 and its neighbours "
       ]
      },
      {
       "output_type": "stream",
       "stream": "stdout",
       "text": [
        "\r",
        "Added node 551 of 1271 and its neighbours "
       ]
      },
      {
       "output_type": "stream",
       "stream": "stdout",
       "text": [
        "\r",
        "Added node 552 of 1271 and its neighbours "
       ]
      },
      {
       "output_type": "stream",
       "stream": "stdout",
       "text": [
        "\r",
        "Added node 553 of 1271 and its neighbours "
       ]
      },
      {
       "output_type": "stream",
       "stream": "stdout",
       "text": [
        "\r",
        "Added node 554 of 1271 and its neighbours "
       ]
      },
      {
       "output_type": "stream",
       "stream": "stdout",
       "text": [
        "\r",
        "Added node 555 of 1271 and its neighbours "
       ]
      },
      {
       "output_type": "stream",
       "stream": "stdout",
       "text": [
        "\r",
        "Added node 556 of 1271 and its neighbours "
       ]
      },
      {
       "output_type": "stream",
       "stream": "stdout",
       "text": [
        "\r",
        "Added node 557 of 1271 and its neighbours "
       ]
      },
      {
       "output_type": "stream",
       "stream": "stdout",
       "text": [
        "\r",
        "Added node 558 of 1271 and its neighbours "
       ]
      },
      {
       "output_type": "stream",
       "stream": "stdout",
       "text": [
        "\r",
        "Added node 559 of 1271 and its neighbours "
       ]
      },
      {
       "output_type": "stream",
       "stream": "stdout",
       "text": [
        "\r",
        "Added node 560 of 1271 and its neighbours "
       ]
      },
      {
       "output_type": "stream",
       "stream": "stdout",
       "text": [
        "\r",
        "Added node 561 of 1271 and its neighbours "
       ]
      },
      {
       "output_type": "stream",
       "stream": "stdout",
       "text": [
        "\r",
        "Added node 562 of 1271 and its neighbours "
       ]
      },
      {
       "output_type": "stream",
       "stream": "stdout",
       "text": [
        "\r",
        "Added node 563 of 1271 and its neighbours "
       ]
      },
      {
       "output_type": "stream",
       "stream": "stdout",
       "text": [
        "\r",
        "Added node 564 of 1271 and its neighbours "
       ]
      },
      {
       "output_type": "stream",
       "stream": "stdout",
       "text": [
        "\r",
        "Added node 565 of 1271 and its neighbours "
       ]
      },
      {
       "output_type": "stream",
       "stream": "stdout",
       "text": [
        "\r",
        "Added node 566 of 1271 and its neighbours "
       ]
      },
      {
       "output_type": "stream",
       "stream": "stdout",
       "text": [
        "\r",
        "Added node 567 of 1271 and its neighbours "
       ]
      },
      {
       "output_type": "stream",
       "stream": "stdout",
       "text": [
        "\r",
        "Added node 568 of 1271 and its neighbours "
       ]
      },
      {
       "output_type": "stream",
       "stream": "stdout",
       "text": [
        "\r",
        "Added node 569 of 1271 and its neighbours "
       ]
      },
      {
       "output_type": "stream",
       "stream": "stdout",
       "text": [
        "\r",
        "Added node 570 of 1271 and its neighbours "
       ]
      },
      {
       "output_type": "stream",
       "stream": "stdout",
       "text": [
        "\r",
        "Added node 571 of 1271 and its neighbours "
       ]
      },
      {
       "output_type": "stream",
       "stream": "stdout",
       "text": [
        "\r",
        "Added node 572 of 1271 and its neighbours "
       ]
      },
      {
       "output_type": "stream",
       "stream": "stdout",
       "text": [
        "\r",
        "Added node 573 of 1271 and its neighbours "
       ]
      },
      {
       "output_type": "stream",
       "stream": "stdout",
       "text": [
        "\r",
        "Added node 574 of 1271 and its neighbours "
       ]
      },
      {
       "output_type": "stream",
       "stream": "stdout",
       "text": [
        "\r",
        "Added node 575 of 1271 and its neighbours "
       ]
      },
      {
       "output_type": "stream",
       "stream": "stdout",
       "text": [
        "\r",
        "Added node 576 of 1271 and its neighbours "
       ]
      },
      {
       "output_type": "stream",
       "stream": "stdout",
       "text": [
        "\r",
        "Added node 577 of 1271 and its neighbours "
       ]
      },
      {
       "output_type": "stream",
       "stream": "stdout",
       "text": [
        "\r",
        "Added node 578 of 1271 and its neighbours "
       ]
      },
      {
       "output_type": "stream",
       "stream": "stdout",
       "text": [
        "\r",
        "Added node 579 of 1271 and its neighbours "
       ]
      },
      {
       "output_type": "stream",
       "stream": "stdout",
       "text": [
        "\r",
        "Added node 580 of 1271 and its neighbours "
       ]
      },
      {
       "output_type": "stream",
       "stream": "stdout",
       "text": [
        "\r",
        "Added node 581 of 1271 and its neighbours "
       ]
      },
      {
       "output_type": "stream",
       "stream": "stdout",
       "text": [
        "\r",
        "Added node 582 of 1271 and its neighbours "
       ]
      },
      {
       "output_type": "stream",
       "stream": "stdout",
       "text": [
        "\r",
        "Added node 583 of 1271 and its neighbours "
       ]
      },
      {
       "output_type": "stream",
       "stream": "stdout",
       "text": [
        "\r",
        "Added node 584 of 1271 and its neighbours "
       ]
      },
      {
       "output_type": "stream",
       "stream": "stdout",
       "text": [
        "\r",
        "Added node 585 of 1271 and its neighbours "
       ]
      },
      {
       "output_type": "stream",
       "stream": "stdout",
       "text": [
        "\r",
        "Added node 586 of 1271 and its neighbours "
       ]
      },
      {
       "output_type": "stream",
       "stream": "stdout",
       "text": [
        "\r",
        "Added node 587 of 1271 and its neighbours "
       ]
      },
      {
       "output_type": "stream",
       "stream": "stdout",
       "text": [
        "\r",
        "Added node 588 of 1271 and its neighbours "
       ]
      },
      {
       "output_type": "stream",
       "stream": "stdout",
       "text": [
        "\r",
        "Added node 589 of 1271 and its neighbours "
       ]
      },
      {
       "output_type": "stream",
       "stream": "stdout",
       "text": [
        "\r",
        "Added node 590 of 1271 and its neighbours "
       ]
      },
      {
       "output_type": "stream",
       "stream": "stdout",
       "text": [
        "\r",
        "Added node 591 of 1271 and its neighbours "
       ]
      },
      {
       "output_type": "stream",
       "stream": "stdout",
       "text": [
        "\r",
        "Added node 592 of 1271 and its neighbours "
       ]
      },
      {
       "output_type": "stream",
       "stream": "stdout",
       "text": [
        "\r",
        "Added node 593 of 1271 and its neighbours "
       ]
      },
      {
       "output_type": "stream",
       "stream": "stdout",
       "text": [
        "\r",
        "Added node 594 of 1271 and its neighbours "
       ]
      },
      {
       "output_type": "stream",
       "stream": "stdout",
       "text": [
        "\r",
        "Added node 595 of 1271 and its neighbours "
       ]
      },
      {
       "output_type": "stream",
       "stream": "stdout",
       "text": [
        "\r",
        "Added node 596 of 1271 and its neighbours "
       ]
      },
      {
       "output_type": "stream",
       "stream": "stdout",
       "text": [
        "\r",
        "Added node 597 of 1271 and its neighbours "
       ]
      },
      {
       "output_type": "stream",
       "stream": "stdout",
       "text": [
        "\r",
        "Added node 598 of 1271 and its neighbours "
       ]
      },
      {
       "output_type": "stream",
       "stream": "stdout",
       "text": [
        "\r",
        "Added node 599 of 1271 and its neighbours "
       ]
      },
      {
       "output_type": "stream",
       "stream": "stdout",
       "text": [
        "\r",
        "Added node 600 of 1271 and its neighbours "
       ]
      },
      {
       "output_type": "stream",
       "stream": "stdout",
       "text": [
        "\r",
        "Added node 601 of 1271 and its neighbours "
       ]
      },
      {
       "output_type": "stream",
       "stream": "stdout",
       "text": [
        "\r",
        "Added node 602 of 1271 and its neighbours "
       ]
      },
      {
       "output_type": "stream",
       "stream": "stdout",
       "text": [
        "\r",
        "Added node 603 of 1271 and its neighbours "
       ]
      },
      {
       "output_type": "stream",
       "stream": "stdout",
       "text": [
        "\r",
        "Added node 604 of 1271 and its neighbours "
       ]
      },
      {
       "output_type": "stream",
       "stream": "stdout",
       "text": [
        "\r",
        "Added node 605 of 1271 and its neighbours "
       ]
      },
      {
       "output_type": "stream",
       "stream": "stdout",
       "text": [
        "\r",
        "Added node 606 of 1271 and its neighbours "
       ]
      },
      {
       "output_type": "stream",
       "stream": "stdout",
       "text": [
        "\r",
        "Added node 607 of 1271 and its neighbours "
       ]
      },
      {
       "output_type": "stream",
       "stream": "stdout",
       "text": [
        "\r",
        "Added node 608 of 1271 and its neighbours "
       ]
      },
      {
       "output_type": "stream",
       "stream": "stdout",
       "text": [
        "\r",
        "Added node 609 of 1271 and its neighbours "
       ]
      },
      {
       "output_type": "stream",
       "stream": "stdout",
       "text": [
        "\r",
        "Added node 610 of 1271 and its neighbours "
       ]
      },
      {
       "output_type": "stream",
       "stream": "stdout",
       "text": [
        "\r",
        "Added node 611 of 1271 and its neighbours "
       ]
      },
      {
       "output_type": "stream",
       "stream": "stdout",
       "text": [
        "\r",
        "Added node 612 of 1271 and its neighbours "
       ]
      },
      {
       "output_type": "stream",
       "stream": "stdout",
       "text": [
        "\r",
        "Added node 613 of 1271 and its neighbours "
       ]
      },
      {
       "output_type": "stream",
       "stream": "stdout",
       "text": [
        "\r",
        "Added node 614 of 1271 and its neighbours "
       ]
      },
      {
       "output_type": "stream",
       "stream": "stdout",
       "text": [
        "\r",
        "Added node 615 of 1271 and its neighbours "
       ]
      },
      {
       "output_type": "stream",
       "stream": "stdout",
       "text": [
        "\r",
        "Added node 616 of 1271 and its neighbours "
       ]
      },
      {
       "output_type": "stream",
       "stream": "stdout",
       "text": [
        "\r",
        "Added node 617 of 1271 and its neighbours "
       ]
      },
      {
       "output_type": "stream",
       "stream": "stdout",
       "text": [
        "\r",
        "Added node 618 of 1271 and its neighbours "
       ]
      },
      {
       "output_type": "stream",
       "stream": "stdout",
       "text": [
        "\r",
        "Added node 619 of 1271 and its neighbours "
       ]
      },
      {
       "output_type": "stream",
       "stream": "stdout",
       "text": [
        "\r",
        "Added node 620 of 1271 and its neighbours "
       ]
      },
      {
       "output_type": "stream",
       "stream": "stdout",
       "text": [
        "\r",
        "Added node 621 of 1271 and its neighbours "
       ]
      },
      {
       "output_type": "stream",
       "stream": "stdout",
       "text": [
        "\r",
        "Added node 622 of 1271 and its neighbours "
       ]
      },
      {
       "output_type": "stream",
       "stream": "stdout",
       "text": [
        "\r",
        "Added node 623 of 1271 and its neighbours "
       ]
      },
      {
       "output_type": "stream",
       "stream": "stdout",
       "text": [
        "\r",
        "Added node 624 of 1271 and its neighbours "
       ]
      },
      {
       "output_type": "stream",
       "stream": "stdout",
       "text": [
        "\r",
        "Added node 625 of 1271 and its neighbours "
       ]
      },
      {
       "output_type": "stream",
       "stream": "stdout",
       "text": [
        "\r",
        "Added node 626 of 1271 and its neighbours "
       ]
      },
      {
       "output_type": "stream",
       "stream": "stdout",
       "text": [
        "\r",
        "Added node 627 of 1271 and its neighbours "
       ]
      },
      {
       "output_type": "stream",
       "stream": "stdout",
       "text": [
        "\r",
        "Added node 628 of 1271 and its neighbours "
       ]
      },
      {
       "output_type": "stream",
       "stream": "stdout",
       "text": [
        "\r",
        "Added node 629 of 1271 and its neighbours "
       ]
      },
      {
       "output_type": "stream",
       "stream": "stdout",
       "text": [
        "\r",
        "Added node 630 of 1271 and its neighbours "
       ]
      },
      {
       "output_type": "stream",
       "stream": "stdout",
       "text": [
        "\r",
        "Added node 631 of 1271 and its neighbours "
       ]
      },
      {
       "output_type": "stream",
       "stream": "stdout",
       "text": [
        "\r",
        "Added node 632 of 1271 and its neighbours "
       ]
      },
      {
       "output_type": "stream",
       "stream": "stdout",
       "text": [
        "\r",
        "Added node 633 of 1271 and its neighbours "
       ]
      },
      {
       "output_type": "stream",
       "stream": "stdout",
       "text": [
        "\r",
        "Added node 634 of 1271 and its neighbours "
       ]
      },
      {
       "output_type": "stream",
       "stream": "stdout",
       "text": [
        "\r",
        "Added node 635 of 1271 and its neighbours "
       ]
      },
      {
       "output_type": "stream",
       "stream": "stdout",
       "text": [
        "\r",
        "Added node 636 of 1271 and its neighbours "
       ]
      },
      {
       "output_type": "stream",
       "stream": "stdout",
       "text": [
        "\r",
        "Added node 637 of 1271 and its neighbours "
       ]
      },
      {
       "output_type": "stream",
       "stream": "stdout",
       "text": [
        "\r",
        "Added node 638 of 1271 and its neighbours "
       ]
      },
      {
       "output_type": "stream",
       "stream": "stdout",
       "text": [
        "\r",
        "Added node 639 of 1271 and its neighbours "
       ]
      },
      {
       "output_type": "stream",
       "stream": "stdout",
       "text": [
        "\r",
        "Added node 640 of 1271 and its neighbours "
       ]
      },
      {
       "output_type": "stream",
       "stream": "stdout",
       "text": [
        "\r",
        "Added node 641 of 1271 and its neighbours "
       ]
      },
      {
       "output_type": "stream",
       "stream": "stdout",
       "text": [
        "\r",
        "Added node 642 of 1271 and its neighbours "
       ]
      },
      {
       "output_type": "stream",
       "stream": "stdout",
       "text": [
        "\r",
        "Added node 643 of 1271 and its neighbours "
       ]
      },
      {
       "output_type": "stream",
       "stream": "stdout",
       "text": [
        "\r",
        "Added node 644 of 1271 and its neighbours "
       ]
      },
      {
       "output_type": "stream",
       "stream": "stdout",
       "text": [
        "\r",
        "Added node 645 of 1271 and its neighbours "
       ]
      },
      {
       "output_type": "stream",
       "stream": "stdout",
       "text": [
        "\r",
        "Added node 646 of 1271 and its neighbours "
       ]
      },
      {
       "output_type": "stream",
       "stream": "stdout",
       "text": [
        "\r",
        "Added node 647 of 1271 and its neighbours "
       ]
      },
      {
       "output_type": "stream",
       "stream": "stdout",
       "text": [
        "\r",
        "Added node 648 of 1271 and its neighbours "
       ]
      },
      {
       "output_type": "stream",
       "stream": "stdout",
       "text": [
        "\r",
        "Added node 649 of 1271 and its neighbours "
       ]
      },
      {
       "output_type": "stream",
       "stream": "stdout",
       "text": [
        "\r",
        "Added node 650 of 1271 and its neighbours "
       ]
      },
      {
       "output_type": "stream",
       "stream": "stdout",
       "text": [
        "\r",
        "Added node 651 of 1271 and its neighbours "
       ]
      },
      {
       "output_type": "stream",
       "stream": "stdout",
       "text": [
        "\r",
        "Added node 652 of 1271 and its neighbours "
       ]
      },
      {
       "output_type": "stream",
       "stream": "stdout",
       "text": [
        "\r",
        "Added node 653 of 1271 and its neighbours "
       ]
      },
      {
       "output_type": "stream",
       "stream": "stdout",
       "text": [
        "\r",
        "Added node 654 of 1271 and its neighbours "
       ]
      },
      {
       "output_type": "stream",
       "stream": "stdout",
       "text": [
        "\r",
        "Added node 655 of 1271 and its neighbours "
       ]
      },
      {
       "output_type": "stream",
       "stream": "stdout",
       "text": [
        "\r",
        "Added node 656 of 1271 and its neighbours "
       ]
      },
      {
       "output_type": "stream",
       "stream": "stdout",
       "text": [
        "\r",
        "Added node 657 of 1271 and its neighbours "
       ]
      },
      {
       "output_type": "stream",
       "stream": "stdout",
       "text": [
        "\r",
        "Added node 658 of 1271 and its neighbours "
       ]
      },
      {
       "output_type": "stream",
       "stream": "stdout",
       "text": [
        "\r",
        "Added node 659 of 1271 and its neighbours "
       ]
      },
      {
       "output_type": "stream",
       "stream": "stdout",
       "text": [
        "\r",
        "Added node 660 of 1271 and its neighbours "
       ]
      },
      {
       "output_type": "stream",
       "stream": "stdout",
       "text": [
        "\r",
        "Added node 661 of 1271 and its neighbours "
       ]
      },
      {
       "output_type": "stream",
       "stream": "stdout",
       "text": [
        "\r",
        "Added node 662 of 1271 and its neighbours "
       ]
      },
      {
       "output_type": "stream",
       "stream": "stdout",
       "text": [
        "\r",
        "Added node 663 of 1271 and its neighbours "
       ]
      },
      {
       "output_type": "stream",
       "stream": "stdout",
       "text": [
        "\r",
        "Added node 664 of 1271 and its neighbours "
       ]
      },
      {
       "output_type": "stream",
       "stream": "stdout",
       "text": [
        "\r",
        "Added node 665 of 1271 and its neighbours "
       ]
      },
      {
       "output_type": "stream",
       "stream": "stdout",
       "text": [
        "\r",
        "Added node 666 of 1271 and its neighbours "
       ]
      },
      {
       "output_type": "stream",
       "stream": "stdout",
       "text": [
        "\r",
        "Added node 667 of 1271 and its neighbours "
       ]
      },
      {
       "output_type": "stream",
       "stream": "stdout",
       "text": [
        "\r",
        "Added node 668 of 1271 and its neighbours "
       ]
      },
      {
       "output_type": "stream",
       "stream": "stdout",
       "text": [
        "\r",
        "Added node 669 of 1271 and its neighbours "
       ]
      },
      {
       "output_type": "stream",
       "stream": "stdout",
       "text": [
        "\r",
        "Added node 670 of 1271 and its neighbours "
       ]
      },
      {
       "output_type": "stream",
       "stream": "stdout",
       "text": [
        "\r",
        "Added node 671 of 1271 and its neighbours "
       ]
      },
      {
       "output_type": "stream",
       "stream": "stdout",
       "text": [
        "\r",
        "Added node 672 of 1271 and its neighbours "
       ]
      },
      {
       "output_type": "stream",
       "stream": "stdout",
       "text": [
        "\r",
        "Added node 673 of 1271 and its neighbours "
       ]
      },
      {
       "output_type": "stream",
       "stream": "stdout",
       "text": [
        "\r",
        "Added node 674 of 1271 and its neighbours "
       ]
      },
      {
       "output_type": "stream",
       "stream": "stdout",
       "text": [
        "\r",
        "Added node 675 of 1271 and its neighbours "
       ]
      },
      {
       "output_type": "stream",
       "stream": "stdout",
       "text": [
        "\r",
        "Added node 676 of 1271 and its neighbours "
       ]
      },
      {
       "output_type": "stream",
       "stream": "stdout",
       "text": [
        "\r",
        "Added node 677 of 1271 and its neighbours "
       ]
      },
      {
       "output_type": "stream",
       "stream": "stdout",
       "text": [
        "\r",
        "Added node 678 of 1271 and its neighbours "
       ]
      },
      {
       "output_type": "stream",
       "stream": "stdout",
       "text": [
        "\r",
        "Added node 679 of 1271 and its neighbours "
       ]
      },
      {
       "output_type": "stream",
       "stream": "stdout",
       "text": [
        "\r",
        "Added node 680 of 1271 and its neighbours "
       ]
      },
      {
       "output_type": "stream",
       "stream": "stdout",
       "text": [
        "\r",
        "Added node 681 of 1271 and its neighbours "
       ]
      },
      {
       "output_type": "stream",
       "stream": "stdout",
       "text": [
        "\r",
        "Added node 682 of 1271 and its neighbours "
       ]
      },
      {
       "output_type": "stream",
       "stream": "stdout",
       "text": [
        "\r",
        "Added node 683 of 1271 and its neighbours "
       ]
      },
      {
       "output_type": "stream",
       "stream": "stdout",
       "text": [
        "\r",
        "Added node 684 of 1271 and its neighbours "
       ]
      },
      {
       "output_type": "stream",
       "stream": "stdout",
       "text": [
        "\r",
        "Added node 685 of 1271 and its neighbours "
       ]
      },
      {
       "output_type": "stream",
       "stream": "stdout",
       "text": [
        "\r",
        "Added node 686 of 1271 and its neighbours "
       ]
      },
      {
       "output_type": "stream",
       "stream": "stdout",
       "text": [
        "\r",
        "Added node 687 of 1271 and its neighbours "
       ]
      },
      {
       "output_type": "stream",
       "stream": "stdout",
       "text": [
        "\r",
        "Added node 688 of 1271 and its neighbours "
       ]
      },
      {
       "output_type": "stream",
       "stream": "stdout",
       "text": [
        "\r",
        "Added node 689 of 1271 and its neighbours "
       ]
      },
      {
       "output_type": "stream",
       "stream": "stdout",
       "text": [
        "\r",
        "Added node 690 of 1271 and its neighbours "
       ]
      },
      {
       "output_type": "stream",
       "stream": "stdout",
       "text": [
        "\r",
        "Added node 691 of 1271 and its neighbours "
       ]
      },
      {
       "output_type": "stream",
       "stream": "stdout",
       "text": [
        "\r",
        "Added node 692 of 1271 and its neighbours "
       ]
      },
      {
       "output_type": "stream",
       "stream": "stdout",
       "text": [
        "\r",
        "Added node 693 of 1271 and its neighbours "
       ]
      },
      {
       "output_type": "stream",
       "stream": "stdout",
       "text": [
        "\r",
        "Added node 694 of 1271 and its neighbours "
       ]
      },
      {
       "output_type": "stream",
       "stream": "stdout",
       "text": [
        "\r",
        "Added node 695 of 1271 and its neighbours "
       ]
      },
      {
       "output_type": "stream",
       "stream": "stdout",
       "text": [
        "\r",
        "Added node 696 of 1271 and its neighbours "
       ]
      },
      {
       "output_type": "stream",
       "stream": "stdout",
       "text": [
        "\r",
        "Added node 697 of 1271 and its neighbours "
       ]
      },
      {
       "output_type": "stream",
       "stream": "stdout",
       "text": [
        "\r",
        "Added node 698 of 1271 and its neighbours "
       ]
      },
      {
       "output_type": "stream",
       "stream": "stdout",
       "text": [
        "\r",
        "Added node 699 of 1271 and its neighbours "
       ]
      },
      {
       "output_type": "stream",
       "stream": "stdout",
       "text": [
        "\r",
        "Added node 700 of 1271 and its neighbours "
       ]
      },
      {
       "output_type": "stream",
       "stream": "stdout",
       "text": [
        "\r",
        "Added node 701 of 1271 and its neighbours "
       ]
      },
      {
       "output_type": "stream",
       "stream": "stdout",
       "text": [
        "\r",
        "Added node 702 of 1271 and its neighbours "
       ]
      },
      {
       "output_type": "stream",
       "stream": "stdout",
       "text": [
        "\r",
        "Added node 703 of 1271 and its neighbours "
       ]
      },
      {
       "output_type": "stream",
       "stream": "stdout",
       "text": [
        "\r",
        "Added node 704 of 1271 and its neighbours "
       ]
      },
      {
       "output_type": "stream",
       "stream": "stdout",
       "text": [
        "\r",
        "Added node 705 of 1271 and its neighbours "
       ]
      },
      {
       "output_type": "stream",
       "stream": "stdout",
       "text": [
        "\r",
        "Added node 706 of 1271 and its neighbours "
       ]
      },
      {
       "output_type": "stream",
       "stream": "stdout",
       "text": [
        "\r",
        "Added node 707 of 1271 and its neighbours "
       ]
      },
      {
       "output_type": "stream",
       "stream": "stdout",
       "text": [
        "\r",
        "Added node 708 of 1271 and its neighbours "
       ]
      },
      {
       "output_type": "stream",
       "stream": "stdout",
       "text": [
        "\r",
        "Added node 709 of 1271 and its neighbours "
       ]
      },
      {
       "output_type": "stream",
       "stream": "stdout",
       "text": [
        "\r",
        "Added node 710 of 1271 and its neighbours "
       ]
      },
      {
       "output_type": "stream",
       "stream": "stdout",
       "text": [
        "\r",
        "Added node 711 of 1271 and its neighbours "
       ]
      },
      {
       "output_type": "stream",
       "stream": "stdout",
       "text": [
        "\r",
        "Added node 712 of 1271 and its neighbours "
       ]
      },
      {
       "output_type": "stream",
       "stream": "stdout",
       "text": [
        "\r",
        "Added node 713 of 1271 and its neighbours "
       ]
      },
      {
       "output_type": "stream",
       "stream": "stdout",
       "text": [
        "\r",
        "Added node 714 of 1271 and its neighbours "
       ]
      },
      {
       "output_type": "stream",
       "stream": "stdout",
       "text": [
        "\r",
        "Added node 715 of 1271 and its neighbours "
       ]
      },
      {
       "output_type": "stream",
       "stream": "stdout",
       "text": [
        "\r",
        "Added node 716 of 1271 and its neighbours "
       ]
      },
      {
       "output_type": "stream",
       "stream": "stdout",
       "text": [
        "\r",
        "Added node 717 of 1271 and its neighbours "
       ]
      },
      {
       "output_type": "stream",
       "stream": "stdout",
       "text": [
        "\r",
        "Added node 718 of 1271 and its neighbours "
       ]
      },
      {
       "output_type": "stream",
       "stream": "stdout",
       "text": [
        "\r",
        "Added node 719 of 1271 and its neighbours "
       ]
      },
      {
       "output_type": "stream",
       "stream": "stdout",
       "text": [
        "\r",
        "Added node 720 of 1271 and its neighbours "
       ]
      },
      {
       "output_type": "stream",
       "stream": "stdout",
       "text": [
        "\r",
        "Added node 721 of 1271 and its neighbours "
       ]
      },
      {
       "output_type": "stream",
       "stream": "stdout",
       "text": [
        "\r",
        "Added node 722 of 1271 and its neighbours "
       ]
      },
      {
       "output_type": "stream",
       "stream": "stdout",
       "text": [
        "\r",
        "Added node 723 of 1271 and its neighbours "
       ]
      },
      {
       "output_type": "stream",
       "stream": "stdout",
       "text": [
        "\r",
        "Added node 724 of 1271 and its neighbours "
       ]
      },
      {
       "output_type": "stream",
       "stream": "stdout",
       "text": [
        "\r",
        "Added node 725 of 1271 and its neighbours "
       ]
      },
      {
       "output_type": "stream",
       "stream": "stdout",
       "text": [
        "\r",
        "Added node 726 of 1271 and its neighbours "
       ]
      },
      {
       "output_type": "stream",
       "stream": "stdout",
       "text": [
        "\r",
        "Added node 727 of 1271 and its neighbours "
       ]
      },
      {
       "output_type": "stream",
       "stream": "stdout",
       "text": [
        "\r",
        "Added node 728 of 1271 and its neighbours "
       ]
      },
      {
       "output_type": "stream",
       "stream": "stdout",
       "text": [
        "\r",
        "Added node 729 of 1271 and its neighbours "
       ]
      },
      {
       "output_type": "stream",
       "stream": "stdout",
       "text": [
        "\r",
        "Added node 730 of 1271 and its neighbours "
       ]
      },
      {
       "output_type": "stream",
       "stream": "stdout",
       "text": [
        "\r",
        "Added node 731 of 1271 and its neighbours "
       ]
      },
      {
       "output_type": "stream",
       "stream": "stdout",
       "text": [
        "\r",
        "Added node 732 of 1271 and its neighbours "
       ]
      },
      {
       "output_type": "stream",
       "stream": "stdout",
       "text": [
        "\r",
        "Added node 733 of 1271 and its neighbours "
       ]
      },
      {
       "output_type": "stream",
       "stream": "stdout",
       "text": [
        "\r",
        "Added node 734 of 1271 and its neighbours "
       ]
      },
      {
       "output_type": "stream",
       "stream": "stdout",
       "text": [
        "\r",
        "Added node 735 of 1271 and its neighbours "
       ]
      },
      {
       "output_type": "stream",
       "stream": "stdout",
       "text": [
        "\r",
        "Added node 736 of 1271 and its neighbours "
       ]
      },
      {
       "output_type": "stream",
       "stream": "stdout",
       "text": [
        "\r",
        "Added node 737 of 1271 and its neighbours "
       ]
      },
      {
       "output_type": "stream",
       "stream": "stdout",
       "text": [
        "\r",
        "Added node 738 of 1271 and its neighbours "
       ]
      },
      {
       "output_type": "stream",
       "stream": "stdout",
       "text": [
        "\r",
        "Added node 739 of 1271 and its neighbours "
       ]
      },
      {
       "output_type": "stream",
       "stream": "stdout",
       "text": [
        "\r",
        "Added node 740 of 1271 and its neighbours "
       ]
      },
      {
       "output_type": "stream",
       "stream": "stdout",
       "text": [
        "\r",
        "Added node 741 of 1271 and its neighbours "
       ]
      },
      {
       "output_type": "stream",
       "stream": "stdout",
       "text": [
        "\r",
        "Added node 742 of 1271 and its neighbours "
       ]
      },
      {
       "output_type": "stream",
       "stream": "stdout",
       "text": [
        "\r",
        "Added node 743 of 1271 and its neighbours "
       ]
      },
      {
       "output_type": "stream",
       "stream": "stdout",
       "text": [
        "\r",
        "Added node 744 of 1271 and its neighbours "
       ]
      },
      {
       "output_type": "stream",
       "stream": "stdout",
       "text": [
        "\r",
        "Added node 745 of 1271 and its neighbours "
       ]
      },
      {
       "output_type": "stream",
       "stream": "stdout",
       "text": [
        "\r",
        "Added node 746 of 1271 and its neighbours "
       ]
      },
      {
       "output_type": "stream",
       "stream": "stdout",
       "text": [
        "\r",
        "Added node 747 of 1271 and its neighbours "
       ]
      },
      {
       "output_type": "stream",
       "stream": "stdout",
       "text": [
        "\r",
        "Added node 748 of 1271 and its neighbours "
       ]
      },
      {
       "output_type": "stream",
       "stream": "stdout",
       "text": [
        "\r",
        "Added node 749 of 1271 and its neighbours "
       ]
      },
      {
       "output_type": "stream",
       "stream": "stdout",
       "text": [
        "\r",
        "Added node 750 of 1271 and its neighbours "
       ]
      },
      {
       "output_type": "stream",
       "stream": "stdout",
       "text": [
        "\r",
        "Added node 751 of 1271 and its neighbours "
       ]
      },
      {
       "output_type": "stream",
       "stream": "stdout",
       "text": [
        "\r",
        "Added node 752 of 1271 and its neighbours "
       ]
      },
      {
       "output_type": "stream",
       "stream": "stdout",
       "text": [
        "\r",
        "Added node 753 of 1271 and its neighbours "
       ]
      },
      {
       "output_type": "stream",
       "stream": "stdout",
       "text": [
        "\r",
        "Added node 754 of 1271 and its neighbours "
       ]
      },
      {
       "output_type": "stream",
       "stream": "stdout",
       "text": [
        "\r",
        "Added node 755 of 1271 and its neighbours "
       ]
      },
      {
       "output_type": "stream",
       "stream": "stdout",
       "text": [
        "\r",
        "Added node 756 of 1271 and its neighbours "
       ]
      },
      {
       "output_type": "stream",
       "stream": "stdout",
       "text": [
        "\r",
        "Added node 757 of 1271 and its neighbours "
       ]
      },
      {
       "output_type": "stream",
       "stream": "stdout",
       "text": [
        "\r",
        "Added node 758 of 1271 and its neighbours "
       ]
      },
      {
       "output_type": "stream",
       "stream": "stdout",
       "text": [
        "\r",
        "Added node 759 of 1271 and its neighbours "
       ]
      },
      {
       "output_type": "stream",
       "stream": "stdout",
       "text": [
        "\r",
        "Added node 760 of 1271 and its neighbours "
       ]
      },
      {
       "output_type": "stream",
       "stream": "stdout",
       "text": [
        "\r",
        "Added node 761 of 1271 and its neighbours "
       ]
      },
      {
       "output_type": "stream",
       "stream": "stdout",
       "text": [
        "\r",
        "Added node 762 of 1271 and its neighbours "
       ]
      },
      {
       "output_type": "stream",
       "stream": "stdout",
       "text": [
        "\r",
        "Added node 763 of 1271 and its neighbours "
       ]
      },
      {
       "output_type": "stream",
       "stream": "stdout",
       "text": [
        "\r",
        "Added node 764 of 1271 and its neighbours "
       ]
      },
      {
       "output_type": "stream",
       "stream": "stdout",
       "text": [
        "\r",
        "Added node 765 of 1271 and its neighbours "
       ]
      },
      {
       "output_type": "stream",
       "stream": "stdout",
       "text": [
        "\r",
        "Added node 766 of 1271 and its neighbours "
       ]
      },
      {
       "output_type": "stream",
       "stream": "stdout",
       "text": [
        "\r",
        "Added node 767 of 1271 and its neighbours "
       ]
      },
      {
       "output_type": "stream",
       "stream": "stdout",
       "text": [
        "\r",
        "Added node 768 of 1271 and its neighbours "
       ]
      },
      {
       "output_type": "stream",
       "stream": "stdout",
       "text": [
        "\r",
        "Added node 769 of 1271 and its neighbours "
       ]
      },
      {
       "output_type": "stream",
       "stream": "stdout",
       "text": [
        "\r",
        "Added node 770 of 1271 and its neighbours "
       ]
      },
      {
       "output_type": "stream",
       "stream": "stdout",
       "text": [
        "\r",
        "Added node 771 of 1271 and its neighbours "
       ]
      },
      {
       "output_type": "stream",
       "stream": "stdout",
       "text": [
        "\r",
        "Added node 772 of 1271 and its neighbours "
       ]
      },
      {
       "output_type": "stream",
       "stream": "stdout",
       "text": [
        "\r",
        "Added node 773 of 1271 and its neighbours "
       ]
      },
      {
       "output_type": "stream",
       "stream": "stdout",
       "text": [
        "\r",
        "Added node 774 of 1271 and its neighbours "
       ]
      },
      {
       "output_type": "stream",
       "stream": "stdout",
       "text": [
        "\r",
        "Added node 775 of 1271 and its neighbours "
       ]
      },
      {
       "output_type": "stream",
       "stream": "stdout",
       "text": [
        "\r",
        "Added node 776 of 1271 and its neighbours "
       ]
      },
      {
       "output_type": "stream",
       "stream": "stdout",
       "text": [
        "\r",
        "Added node 777 of 1271 and its neighbours "
       ]
      },
      {
       "output_type": "stream",
       "stream": "stdout",
       "text": [
        "\r",
        "Added node 778 of 1271 and its neighbours "
       ]
      },
      {
       "output_type": "stream",
       "stream": "stdout",
       "text": [
        "\r",
        "Added node 779 of 1271 and its neighbours "
       ]
      },
      {
       "output_type": "stream",
       "stream": "stdout",
       "text": [
        "\r",
        "Added node 780 of 1271 and its neighbours "
       ]
      },
      {
       "output_type": "stream",
       "stream": "stdout",
       "text": [
        "\r",
        "Added node 781 of 1271 and its neighbours "
       ]
      },
      {
       "output_type": "stream",
       "stream": "stdout",
       "text": [
        "\r",
        "Added node 782 of 1271 and its neighbours "
       ]
      },
      {
       "output_type": "stream",
       "stream": "stdout",
       "text": [
        "\r",
        "Added node 783 of 1271 and its neighbours "
       ]
      },
      {
       "output_type": "stream",
       "stream": "stdout",
       "text": [
        "\r",
        "Added node 784 of 1271 and its neighbours "
       ]
      },
      {
       "output_type": "stream",
       "stream": "stdout",
       "text": [
        "\r",
        "Added node 785 of 1271 and its neighbours "
       ]
      },
      {
       "output_type": "stream",
       "stream": "stdout",
       "text": [
        "\r",
        "Added node 786 of 1271 and its neighbours "
       ]
      },
      {
       "output_type": "stream",
       "stream": "stdout",
       "text": [
        "\r",
        "Added node 787 of 1271 and its neighbours "
       ]
      },
      {
       "output_type": "stream",
       "stream": "stdout",
       "text": [
        "\r",
        "Added node 788 of 1271 and its neighbours "
       ]
      },
      {
       "output_type": "stream",
       "stream": "stdout",
       "text": [
        "\r",
        "Added node 789 of 1271 and its neighbours "
       ]
      },
      {
       "output_type": "stream",
       "stream": "stdout",
       "text": [
        "\r",
        "Added node 790 of 1271 and its neighbours "
       ]
      },
      {
       "output_type": "stream",
       "stream": "stdout",
       "text": [
        "\r",
        "Added node 791 of 1271 and its neighbours "
       ]
      },
      {
       "output_type": "stream",
       "stream": "stdout",
       "text": [
        "\r",
        "Added node 792 of 1271 and its neighbours "
       ]
      },
      {
       "output_type": "stream",
       "stream": "stdout",
       "text": [
        "\r",
        "Added node 793 of 1271 and its neighbours "
       ]
      },
      {
       "output_type": "stream",
       "stream": "stdout",
       "text": [
        "\r",
        "Added node 794 of 1271 and its neighbours "
       ]
      },
      {
       "output_type": "stream",
       "stream": "stdout",
       "text": [
        "\r",
        "Added node 795 of 1271 and its neighbours "
       ]
      },
      {
       "output_type": "stream",
       "stream": "stdout",
       "text": [
        "\r",
        "Added node 796 of 1271 and its neighbours "
       ]
      },
      {
       "output_type": "stream",
       "stream": "stdout",
       "text": [
        "\r",
        "Added node 797 of 1271 and its neighbours "
       ]
      },
      {
       "output_type": "stream",
       "stream": "stdout",
       "text": [
        "\r",
        "Added node 798 of 1271 and its neighbours "
       ]
      },
      {
       "output_type": "stream",
       "stream": "stdout",
       "text": [
        "\r",
        "Added node 799 of 1271 and its neighbours "
       ]
      },
      {
       "output_type": "stream",
       "stream": "stdout",
       "text": [
        "\r",
        "Added node 800 of 1271 and its neighbours "
       ]
      },
      {
       "output_type": "stream",
       "stream": "stdout",
       "text": [
        "\r",
        "Added node 801 of 1271 and its neighbours "
       ]
      },
      {
       "output_type": "stream",
       "stream": "stdout",
       "text": [
        "\r",
        "Added node 802 of 1271 and its neighbours "
       ]
      },
      {
       "output_type": "stream",
       "stream": "stdout",
       "text": [
        "\r",
        "Added node 803 of 1271 and its neighbours "
       ]
      },
      {
       "output_type": "stream",
       "stream": "stdout",
       "text": [
        "\r",
        "Added node 804 of 1271 and its neighbours "
       ]
      },
      {
       "output_type": "stream",
       "stream": "stdout",
       "text": [
        "\r",
        "Added node 805 of 1271 and its neighbours "
       ]
      },
      {
       "output_type": "stream",
       "stream": "stdout",
       "text": [
        "\r",
        "Added node 806 of 1271 and its neighbours "
       ]
      },
      {
       "output_type": "stream",
       "stream": "stdout",
       "text": [
        "\r",
        "Added node 807 of 1271 and its neighbours "
       ]
      },
      {
       "output_type": "stream",
       "stream": "stdout",
       "text": [
        "\r",
        "Added node 808 of 1271 and its neighbours "
       ]
      },
      {
       "output_type": "stream",
       "stream": "stdout",
       "text": [
        "\r",
        "Added node 809 of 1271 and its neighbours "
       ]
      },
      {
       "output_type": "stream",
       "stream": "stdout",
       "text": [
        "\r",
        "Added node 810 of 1271 and its neighbours "
       ]
      },
      {
       "output_type": "stream",
       "stream": "stdout",
       "text": [
        "\r",
        "Added node 811 of 1271 and its neighbours "
       ]
      },
      {
       "output_type": "stream",
       "stream": "stdout",
       "text": [
        "\r",
        "Added node 812 of 1271 and its neighbours "
       ]
      },
      {
       "output_type": "stream",
       "stream": "stdout",
       "text": [
        "\r",
        "Added node 813 of 1271 and its neighbours "
       ]
      },
      {
       "output_type": "stream",
       "stream": "stdout",
       "text": [
        "\r",
        "Added node 814 of 1271 and its neighbours "
       ]
      },
      {
       "output_type": "stream",
       "stream": "stdout",
       "text": [
        "\r",
        "Added node 815 of 1271 and its neighbours "
       ]
      },
      {
       "output_type": "stream",
       "stream": "stdout",
       "text": [
        "\r",
        "Added node 816 of 1271 and its neighbours "
       ]
      },
      {
       "output_type": "stream",
       "stream": "stdout",
       "text": [
        "\r",
        "Added node 817 of 1271 and its neighbours "
       ]
      },
      {
       "output_type": "stream",
       "stream": "stdout",
       "text": [
        "\r",
        "Added node 818 of 1271 and its neighbours "
       ]
      },
      {
       "output_type": "stream",
       "stream": "stdout",
       "text": [
        "\r",
        "Added node 819 of 1271 and its neighbours "
       ]
      },
      {
       "output_type": "stream",
       "stream": "stdout",
       "text": [
        "\r",
        "Added node 820 of 1271 and its neighbours "
       ]
      },
      {
       "output_type": "stream",
       "stream": "stdout",
       "text": [
        "\r",
        "Added node 821 of 1271 and its neighbours "
       ]
      },
      {
       "output_type": "stream",
       "stream": "stdout",
       "text": [
        "\r",
        "Added node 822 of 1271 and its neighbours "
       ]
      },
      {
       "output_type": "stream",
       "stream": "stdout",
       "text": [
        "\r",
        "Added node 823 of 1271 and its neighbours "
       ]
      },
      {
       "output_type": "stream",
       "stream": "stdout",
       "text": [
        "\r",
        "Added node 824 of 1271 and its neighbours "
       ]
      },
      {
       "output_type": "stream",
       "stream": "stdout",
       "text": [
        "\r",
        "Added node 825 of 1271 and its neighbours "
       ]
      },
      {
       "output_type": "stream",
       "stream": "stdout",
       "text": [
        "\r",
        "Added node 826 of 1271 and its neighbours "
       ]
      },
      {
       "output_type": "stream",
       "stream": "stdout",
       "text": [
        "\r",
        "Added node 827 of 1271 and its neighbours "
       ]
      },
      {
       "output_type": "stream",
       "stream": "stdout",
       "text": [
        "\r",
        "Added node 828 of 1271 and its neighbours "
       ]
      },
      {
       "output_type": "stream",
       "stream": "stdout",
       "text": [
        "\r",
        "Added node 829 of 1271 and its neighbours "
       ]
      },
      {
       "output_type": "stream",
       "stream": "stdout",
       "text": [
        "\r",
        "Added node 830 of 1271 and its neighbours "
       ]
      },
      {
       "output_type": "stream",
       "stream": "stdout",
       "text": [
        "\r",
        "Added node 831 of 1271 and its neighbours "
       ]
      },
      {
       "output_type": "stream",
       "stream": "stdout",
       "text": [
        "\r",
        "Added node 832 of 1271 and its neighbours "
       ]
      },
      {
       "output_type": "stream",
       "stream": "stdout",
       "text": [
        "\r",
        "Added node 833 of 1271 and its neighbours "
       ]
      },
      {
       "output_type": "stream",
       "stream": "stdout",
       "text": [
        "\r",
        "Added node 834 of 1271 and its neighbours "
       ]
      },
      {
       "output_type": "stream",
       "stream": "stdout",
       "text": [
        "\r",
        "Added node 835 of 1271 and its neighbours "
       ]
      },
      {
       "output_type": "stream",
       "stream": "stdout",
       "text": [
        "\r",
        "Added node 836 of 1271 and its neighbours "
       ]
      },
      {
       "output_type": "stream",
       "stream": "stdout",
       "text": [
        "\r",
        "Added node 837 of 1271 and its neighbours "
       ]
      },
      {
       "output_type": "stream",
       "stream": "stdout",
       "text": [
        "\r",
        "Added node 838 of 1271 and its neighbours "
       ]
      },
      {
       "output_type": "stream",
       "stream": "stdout",
       "text": [
        "\r",
        "Added node 839 of 1271 and its neighbours "
       ]
      },
      {
       "output_type": "stream",
       "stream": "stdout",
       "text": [
        "\r",
        "Added node 840 of 1271 and its neighbours "
       ]
      },
      {
       "output_type": "stream",
       "stream": "stdout",
       "text": [
        "\r",
        "Added node 841 of 1271 and its neighbours "
       ]
      },
      {
       "output_type": "stream",
       "stream": "stdout",
       "text": [
        "\r",
        "Added node 842 of 1271 and its neighbours "
       ]
      },
      {
       "output_type": "stream",
       "stream": "stdout",
       "text": [
        "\r",
        "Added node 843 of 1271 and its neighbours "
       ]
      },
      {
       "output_type": "stream",
       "stream": "stdout",
       "text": [
        "\r",
        "Added node 844 of 1271 and its neighbours "
       ]
      },
      {
       "output_type": "stream",
       "stream": "stdout",
       "text": [
        "\r",
        "Added node 845 of 1271 and its neighbours "
       ]
      },
      {
       "output_type": "stream",
       "stream": "stdout",
       "text": [
        "\r",
        "Added node 846 of 1271 and its neighbours "
       ]
      },
      {
       "output_type": "stream",
       "stream": "stdout",
       "text": [
        "\r",
        "Added node 847 of 1271 and its neighbours "
       ]
      },
      {
       "output_type": "stream",
       "stream": "stdout",
       "text": [
        "\r",
        "Added node 848 of 1271 and its neighbours "
       ]
      },
      {
       "output_type": "stream",
       "stream": "stdout",
       "text": [
        "\r",
        "Added node 849 of 1271 and its neighbours "
       ]
      },
      {
       "output_type": "stream",
       "stream": "stdout",
       "text": [
        "\r",
        "Added node 850 of 1271 and its neighbours "
       ]
      },
      {
       "output_type": "stream",
       "stream": "stdout",
       "text": [
        "\r",
        "Added node 851 of 1271 and its neighbours "
       ]
      },
      {
       "output_type": "stream",
       "stream": "stdout",
       "text": [
        "\r",
        "Added node 852 of 1271 and its neighbours "
       ]
      },
      {
       "output_type": "stream",
       "stream": "stdout",
       "text": [
        "\r",
        "Added node 853 of 1271 and its neighbours "
       ]
      },
      {
       "output_type": "stream",
       "stream": "stdout",
       "text": [
        "\r",
        "Added node 854 of 1271 and its neighbours "
       ]
      },
      {
       "output_type": "stream",
       "stream": "stdout",
       "text": [
        "\r",
        "Added node 855 of 1271 and its neighbours "
       ]
      },
      {
       "output_type": "stream",
       "stream": "stdout",
       "text": [
        "\r",
        "Added node 856 of 1271 and its neighbours "
       ]
      },
      {
       "output_type": "stream",
       "stream": "stdout",
       "text": [
        "\r",
        "Added node 857 of 1271 and its neighbours "
       ]
      },
      {
       "output_type": "stream",
       "stream": "stdout",
       "text": [
        "\r",
        "Added node 858 of 1271 and its neighbours "
       ]
      },
      {
       "output_type": "stream",
       "stream": "stdout",
       "text": [
        "\r",
        "Added node 859 of 1271 and its neighbours "
       ]
      },
      {
       "output_type": "stream",
       "stream": "stdout",
       "text": [
        "\r",
        "Added node 860 of 1271 and its neighbours "
       ]
      },
      {
       "output_type": "stream",
       "stream": "stdout",
       "text": [
        "\r",
        "Added node 861 of 1271 and its neighbours "
       ]
      },
      {
       "output_type": "stream",
       "stream": "stdout",
       "text": [
        "\r",
        "Added node 862 of 1271 and its neighbours "
       ]
      },
      {
       "output_type": "stream",
       "stream": "stdout",
       "text": [
        "\r",
        "Added node 863 of 1271 and its neighbours "
       ]
      },
      {
       "output_type": "stream",
       "stream": "stdout",
       "text": [
        "\r",
        "Added node 864 of 1271 and its neighbours "
       ]
      },
      {
       "output_type": "stream",
       "stream": "stdout",
       "text": [
        "\r",
        "Added node 865 of 1271 and its neighbours "
       ]
      },
      {
       "output_type": "stream",
       "stream": "stdout",
       "text": [
        "\r",
        "Added node 866 of 1271 and its neighbours "
       ]
      },
      {
       "output_type": "stream",
       "stream": "stdout",
       "text": [
        "\r",
        "Added node 867 of 1271 and its neighbours "
       ]
      },
      {
       "output_type": "stream",
       "stream": "stdout",
       "text": [
        "\r",
        "Added node 868 of 1271 and its neighbours "
       ]
      },
      {
       "output_type": "stream",
       "stream": "stdout",
       "text": [
        "\r",
        "Added node 869 of 1271 and its neighbours "
       ]
      },
      {
       "output_type": "stream",
       "stream": "stdout",
       "text": [
        "\r",
        "Added node 870 of 1271 and its neighbours "
       ]
      },
      {
       "output_type": "stream",
       "stream": "stdout",
       "text": [
        "\r",
        "Added node 871 of 1271 and its neighbours "
       ]
      },
      {
       "output_type": "stream",
       "stream": "stdout",
       "text": [
        "\r",
        "Added node 872 of 1271 and its neighbours "
       ]
      },
      {
       "output_type": "stream",
       "stream": "stdout",
       "text": [
        "\r",
        "Added node 873 of 1271 and its neighbours "
       ]
      },
      {
       "output_type": "stream",
       "stream": "stdout",
       "text": [
        "\r",
        "Added node 874 of 1271 and its neighbours "
       ]
      },
      {
       "output_type": "stream",
       "stream": "stdout",
       "text": [
        "\r",
        "Added node 875 of 1271 and its neighbours "
       ]
      },
      {
       "output_type": "stream",
       "stream": "stdout",
       "text": [
        "\r",
        "Added node 876 of 1271 and its neighbours "
       ]
      },
      {
       "output_type": "stream",
       "stream": "stdout",
       "text": [
        "\r",
        "Added node 877 of 1271 and its neighbours "
       ]
      },
      {
       "output_type": "stream",
       "stream": "stdout",
       "text": [
        "\r",
        "Added node 878 of 1271 and its neighbours "
       ]
      },
      {
       "output_type": "stream",
       "stream": "stdout",
       "text": [
        "\r",
        "Added node 879 of 1271 and its neighbours "
       ]
      },
      {
       "output_type": "stream",
       "stream": "stdout",
       "text": [
        "\r",
        "Added node 880 of 1271 and its neighbours "
       ]
      },
      {
       "output_type": "stream",
       "stream": "stdout",
       "text": [
        "\r",
        "Added node 881 of 1271 and its neighbours "
       ]
      },
      {
       "output_type": "stream",
       "stream": "stdout",
       "text": [
        "\r",
        "Added node 882 of 1271 and its neighbours "
       ]
      },
      {
       "output_type": "stream",
       "stream": "stdout",
       "text": [
        "\r",
        "Added node 883 of 1271 and its neighbours "
       ]
      },
      {
       "output_type": "stream",
       "stream": "stdout",
       "text": [
        "\r",
        "Added node 884 of 1271 and its neighbours "
       ]
      },
      {
       "output_type": "stream",
       "stream": "stdout",
       "text": [
        "\r",
        "Added node 885 of 1271 and its neighbours "
       ]
      },
      {
       "output_type": "stream",
       "stream": "stdout",
       "text": [
        "\r",
        "Added node 886 of 1271 and its neighbours "
       ]
      },
      {
       "output_type": "stream",
       "stream": "stdout",
       "text": [
        "\r",
        "Added node 887 of 1271 and its neighbours "
       ]
      },
      {
       "output_type": "stream",
       "stream": "stdout",
       "text": [
        "\r",
        "Added node 888 of 1271 and its neighbours "
       ]
      },
      {
       "output_type": "stream",
       "stream": "stdout",
       "text": [
        "\r",
        "Added node 889 of 1271 and its neighbours "
       ]
      },
      {
       "output_type": "stream",
       "stream": "stdout",
       "text": [
        "\r",
        "Added node 890 of 1271 and its neighbours "
       ]
      },
      {
       "output_type": "stream",
       "stream": "stdout",
       "text": [
        "\r",
        "Added node 891 of 1271 and its neighbours "
       ]
      },
      {
       "output_type": "stream",
       "stream": "stdout",
       "text": [
        "\r",
        "Added node 892 of 1271 and its neighbours "
       ]
      },
      {
       "output_type": "stream",
       "stream": "stdout",
       "text": [
        "\r",
        "Added node 893 of 1271 and its neighbours "
       ]
      },
      {
       "output_type": "stream",
       "stream": "stdout",
       "text": [
        "\r",
        "Added node 894 of 1271 and its neighbours "
       ]
      },
      {
       "output_type": "stream",
       "stream": "stdout",
       "text": [
        "\r",
        "Added node 895 of 1271 and its neighbours "
       ]
      },
      {
       "output_type": "stream",
       "stream": "stdout",
       "text": [
        "\r",
        "Added node 896 of 1271 and its neighbours "
       ]
      },
      {
       "output_type": "stream",
       "stream": "stdout",
       "text": [
        "\r",
        "Added node 897 of 1271 and its neighbours "
       ]
      },
      {
       "output_type": "stream",
       "stream": "stdout",
       "text": [
        "\r",
        "Added node 898 of 1271 and its neighbours "
       ]
      },
      {
       "output_type": "stream",
       "stream": "stdout",
       "text": [
        "\r",
        "Added node 899 of 1271 and its neighbours "
       ]
      },
      {
       "output_type": "stream",
       "stream": "stdout",
       "text": [
        "\r",
        "Added node 900 of 1271 and its neighbours "
       ]
      },
      {
       "output_type": "stream",
       "stream": "stdout",
       "text": [
        "\r",
        "Added node 901 of 1271 and its neighbours "
       ]
      },
      {
       "output_type": "stream",
       "stream": "stdout",
       "text": [
        "\r",
        "Added node 902 of 1271 and its neighbours "
       ]
      },
      {
       "output_type": "stream",
       "stream": "stdout",
       "text": [
        "\r",
        "Added node 903 of 1271 and its neighbours "
       ]
      },
      {
       "output_type": "stream",
       "stream": "stdout",
       "text": [
        "\r",
        "Added node 904 of 1271 and its neighbours "
       ]
      },
      {
       "output_type": "stream",
       "stream": "stdout",
       "text": [
        "\r",
        "Added node 905 of 1271 and its neighbours "
       ]
      },
      {
       "output_type": "stream",
       "stream": "stdout",
       "text": [
        "\r",
        "Added node 906 of 1271 and its neighbours "
       ]
      },
      {
       "output_type": "stream",
       "stream": "stdout",
       "text": [
        "\r",
        "Added node 907 of 1271 and its neighbours "
       ]
      },
      {
       "output_type": "stream",
       "stream": "stdout",
       "text": [
        "\r",
        "Added node 908 of 1271 and its neighbours "
       ]
      },
      {
       "output_type": "stream",
       "stream": "stdout",
       "text": [
        "\r",
        "Added node 909 of 1271 and its neighbours "
       ]
      },
      {
       "output_type": "stream",
       "stream": "stdout",
       "text": [
        "\r",
        "Added node 910 of 1271 and its neighbours "
       ]
      },
      {
       "output_type": "stream",
       "stream": "stdout",
       "text": [
        "\r",
        "Added node 911 of 1271 and its neighbours "
       ]
      },
      {
       "output_type": "stream",
       "stream": "stdout",
       "text": [
        "\r",
        "Added node 912 of 1271 and its neighbours "
       ]
      },
      {
       "output_type": "stream",
       "stream": "stdout",
       "text": [
        "\r",
        "Added node 913 of 1271 and its neighbours "
       ]
      },
      {
       "output_type": "stream",
       "stream": "stdout",
       "text": [
        "\r",
        "Added node 914 of 1271 and its neighbours "
       ]
      },
      {
       "output_type": "stream",
       "stream": "stdout",
       "text": [
        "\r",
        "Added node 915 of 1271 and its neighbours "
       ]
      },
      {
       "output_type": "stream",
       "stream": "stdout",
       "text": [
        "\r",
        "Added node 916 of 1271 and its neighbours "
       ]
      },
      {
       "output_type": "stream",
       "stream": "stdout",
       "text": [
        "\r",
        "Added node 917 of 1271 and its neighbours "
       ]
      },
      {
       "output_type": "stream",
       "stream": "stdout",
       "text": [
        "\r",
        "Added node 918 of 1271 and its neighbours "
       ]
      },
      {
       "output_type": "stream",
       "stream": "stdout",
       "text": [
        "\r",
        "Added node 919 of 1271 and its neighbours "
       ]
      },
      {
       "output_type": "stream",
       "stream": "stdout",
       "text": [
        "\r",
        "Added node 920 of 1271 and its neighbours "
       ]
      },
      {
       "output_type": "stream",
       "stream": "stdout",
       "text": [
        "\r",
        "Added node 921 of 1271 and its neighbours "
       ]
      },
      {
       "output_type": "stream",
       "stream": "stdout",
       "text": [
        "\r",
        "Added node 922 of 1271 and its neighbours "
       ]
      },
      {
       "output_type": "stream",
       "stream": "stdout",
       "text": [
        "\r",
        "Added node 923 of 1271 and its neighbours "
       ]
      },
      {
       "output_type": "stream",
       "stream": "stdout",
       "text": [
        "\r",
        "Added node 924 of 1271 and its neighbours "
       ]
      },
      {
       "output_type": "stream",
       "stream": "stdout",
       "text": [
        "\r",
        "Added node 925 of 1271 and its neighbours "
       ]
      },
      {
       "output_type": "stream",
       "stream": "stdout",
       "text": [
        "\r",
        "Added node 926 of 1271 and its neighbours "
       ]
      },
      {
       "output_type": "stream",
       "stream": "stdout",
       "text": [
        "\r",
        "Added node 927 of 1271 and its neighbours "
       ]
      },
      {
       "output_type": "stream",
       "stream": "stdout",
       "text": [
        "\r",
        "Added node 928 of 1271 and its neighbours "
       ]
      },
      {
       "output_type": "stream",
       "stream": "stdout",
       "text": [
        "\r",
        "Added node 929 of 1271 and its neighbours "
       ]
      },
      {
       "output_type": "stream",
       "stream": "stdout",
       "text": [
        "\r",
        "Added node 930 of 1271 and its neighbours "
       ]
      },
      {
       "output_type": "stream",
       "stream": "stdout",
       "text": [
        "\r",
        "Added node 931 of 1271 and its neighbours "
       ]
      },
      {
       "output_type": "stream",
       "stream": "stdout",
       "text": [
        "\r",
        "Added node 932 of 1271 and its neighbours "
       ]
      },
      {
       "output_type": "stream",
       "stream": "stdout",
       "text": [
        "\r",
        "Added node 933 of 1271 and its neighbours "
       ]
      },
      {
       "output_type": "stream",
       "stream": "stdout",
       "text": [
        "\r",
        "Added node 934 of 1271 and its neighbours "
       ]
      },
      {
       "output_type": "stream",
       "stream": "stdout",
       "text": [
        "\r",
        "Added node 935 of 1271 and its neighbours "
       ]
      },
      {
       "output_type": "stream",
       "stream": "stdout",
       "text": [
        "\r",
        "Added node 936 of 1271 and its neighbours "
       ]
      },
      {
       "output_type": "stream",
       "stream": "stdout",
       "text": [
        "\r",
        "Added node 937 of 1271 and its neighbours "
       ]
      },
      {
       "output_type": "stream",
       "stream": "stdout",
       "text": [
        "\r",
        "Added node 938 of 1271 and its neighbours "
       ]
      },
      {
       "output_type": "stream",
       "stream": "stdout",
       "text": [
        "\r",
        "Added node 939 of 1271 and its neighbours "
       ]
      },
      {
       "output_type": "stream",
       "stream": "stdout",
       "text": [
        "\r",
        "Added node 940 of 1271 and its neighbours "
       ]
      },
      {
       "output_type": "stream",
       "stream": "stdout",
       "text": [
        "\r",
        "Added node 941 of 1271 and its neighbours "
       ]
      },
      {
       "output_type": "stream",
       "stream": "stdout",
       "text": [
        "\r",
        "Added node 942 of 1271 and its neighbours "
       ]
      },
      {
       "output_type": "stream",
       "stream": "stdout",
       "text": [
        "\r",
        "Added node 943 of 1271 and its neighbours "
       ]
      },
      {
       "output_type": "stream",
       "stream": "stdout",
       "text": [
        "\r",
        "Added node 944 of 1271 and its neighbours "
       ]
      },
      {
       "output_type": "stream",
       "stream": "stdout",
       "text": [
        "\r",
        "Added node 945 of 1271 and its neighbours "
       ]
      },
      {
       "output_type": "stream",
       "stream": "stdout",
       "text": [
        "\r",
        "Added node 946 of 1271 and its neighbours "
       ]
      },
      {
       "output_type": "stream",
       "stream": "stdout",
       "text": [
        "\r",
        "Added node 947 of 1271 and its neighbours "
       ]
      },
      {
       "output_type": "stream",
       "stream": "stdout",
       "text": [
        "\r",
        "Added node 948 of 1271 and its neighbours "
       ]
      },
      {
       "output_type": "stream",
       "stream": "stdout",
       "text": [
        "\r",
        "Added node 949 of 1271 and its neighbours "
       ]
      },
      {
       "output_type": "stream",
       "stream": "stdout",
       "text": [
        "\r",
        "Added node 950 of 1271 and its neighbours "
       ]
      },
      {
       "output_type": "stream",
       "stream": "stdout",
       "text": [
        "\r",
        "Added node 951 of 1271 and its neighbours "
       ]
      },
      {
       "output_type": "stream",
       "stream": "stdout",
       "text": [
        "\r",
        "Added node 952 of 1271 and its neighbours "
       ]
      },
      {
       "output_type": "stream",
       "stream": "stdout",
       "text": [
        "\r",
        "Added node 953 of 1271 and its neighbours "
       ]
      },
      {
       "output_type": "stream",
       "stream": "stdout",
       "text": [
        "\r",
        "Added node 954 of 1271 and its neighbours "
       ]
      },
      {
       "output_type": "stream",
       "stream": "stdout",
       "text": [
        "\r",
        "Added node 955 of 1271 and its neighbours "
       ]
      },
      {
       "output_type": "stream",
       "stream": "stdout",
       "text": [
        "\r",
        "Added node 956 of 1271 and its neighbours "
       ]
      },
      {
       "output_type": "stream",
       "stream": "stdout",
       "text": [
        "\r",
        "Added node 957 of 1271 and its neighbours "
       ]
      },
      {
       "output_type": "stream",
       "stream": "stdout",
       "text": [
        "\r",
        "Added node 958 of 1271 and its neighbours "
       ]
      },
      {
       "output_type": "stream",
       "stream": "stdout",
       "text": [
        "\r",
        "Added node 959 of 1271 and its neighbours "
       ]
      },
      {
       "output_type": "stream",
       "stream": "stdout",
       "text": [
        "\r",
        "Added node 960 of 1271 and its neighbours "
       ]
      },
      {
       "output_type": "stream",
       "stream": "stdout",
       "text": [
        "\r",
        "Added node 961 of 1271 and its neighbours "
       ]
      },
      {
       "output_type": "stream",
       "stream": "stdout",
       "text": [
        "\r",
        "Added node 962 of 1271 and its neighbours "
       ]
      },
      {
       "output_type": "stream",
       "stream": "stdout",
       "text": [
        "\r",
        "Added node 963 of 1271 and its neighbours "
       ]
      },
      {
       "output_type": "stream",
       "stream": "stdout",
       "text": [
        "\r",
        "Added node 964 of 1271 and its neighbours "
       ]
      },
      {
       "output_type": "stream",
       "stream": "stdout",
       "text": [
        "\r",
        "Added node 965 of 1271 and its neighbours "
       ]
      },
      {
       "output_type": "stream",
       "stream": "stdout",
       "text": [
        "\r",
        "Added node 966 of 1271 and its neighbours "
       ]
      },
      {
       "output_type": "stream",
       "stream": "stdout",
       "text": [
        "\r",
        "Added node 967 of 1271 and its neighbours "
       ]
      },
      {
       "output_type": "stream",
       "stream": "stdout",
       "text": [
        "\r",
        "Added node 968 of 1271 and its neighbours "
       ]
      },
      {
       "output_type": "stream",
       "stream": "stdout",
       "text": [
        "\r",
        "Added node 969 of 1271 and its neighbours "
       ]
      },
      {
       "output_type": "stream",
       "stream": "stdout",
       "text": [
        "\r",
        "Added node 970 of 1271 and its neighbours "
       ]
      },
      {
       "output_type": "stream",
       "stream": "stdout",
       "text": [
        "\r",
        "Added node 971 of 1271 and its neighbours "
       ]
      },
      {
       "output_type": "stream",
       "stream": "stdout",
       "text": [
        "\r",
        "Added node 972 of 1271 and its neighbours "
       ]
      },
      {
       "output_type": "stream",
       "stream": "stdout",
       "text": [
        "\r",
        "Added node 973 of 1271 and its neighbours "
       ]
      },
      {
       "output_type": "stream",
       "stream": "stdout",
       "text": [
        "\r",
        "Added node 974 of 1271 and its neighbours "
       ]
      },
      {
       "output_type": "stream",
       "stream": "stdout",
       "text": [
        "\r",
        "Added node 975 of 1271 and its neighbours "
       ]
      },
      {
       "output_type": "stream",
       "stream": "stdout",
       "text": [
        "\r",
        "Added node 976 of 1271 and its neighbours "
       ]
      },
      {
       "output_type": "stream",
       "stream": "stdout",
       "text": [
        "\r",
        "Added node 977 of 1271 and its neighbours "
       ]
      },
      {
       "output_type": "stream",
       "stream": "stdout",
       "text": [
        "\r",
        "Added node 978 of 1271 and its neighbours "
       ]
      },
      {
       "output_type": "stream",
       "stream": "stdout",
       "text": [
        "\r",
        "Added node 979 of 1271 and its neighbours "
       ]
      },
      {
       "output_type": "stream",
       "stream": "stdout",
       "text": [
        "\r",
        "Added node 980 of 1271 and its neighbours "
       ]
      },
      {
       "output_type": "stream",
       "stream": "stdout",
       "text": [
        "\r",
        "Added node 981 of 1271 and its neighbours "
       ]
      },
      {
       "output_type": "stream",
       "stream": "stdout",
       "text": [
        "\r",
        "Added node 982 of 1271 and its neighbours "
       ]
      },
      {
       "output_type": "stream",
       "stream": "stdout",
       "text": [
        "\r",
        "Added node 983 of 1271 and its neighbours "
       ]
      },
      {
       "output_type": "stream",
       "stream": "stdout",
       "text": [
        "\r",
        "Added node 984 of 1271 and its neighbours "
       ]
      },
      {
       "output_type": "stream",
       "stream": "stdout",
       "text": [
        "\r",
        "Added node 985 of 1271 and its neighbours "
       ]
      },
      {
       "output_type": "stream",
       "stream": "stdout",
       "text": [
        "\r",
        "Added node 986 of 1271 and its neighbours "
       ]
      },
      {
       "output_type": "stream",
       "stream": "stdout",
       "text": [
        "\r",
        "Added node 987 of 1271 and its neighbours "
       ]
      },
      {
       "output_type": "stream",
       "stream": "stdout",
       "text": [
        "\r",
        "Added node 988 of 1271 and its neighbours "
       ]
      },
      {
       "output_type": "stream",
       "stream": "stdout",
       "text": [
        "\r",
        "Added node 989 of 1271 and its neighbours "
       ]
      },
      {
       "output_type": "stream",
       "stream": "stdout",
       "text": [
        "\r",
        "Added node 990 of 1271 and its neighbours "
       ]
      },
      {
       "output_type": "stream",
       "stream": "stdout",
       "text": [
        "\r",
        "Added node 991 of 1271 and its neighbours "
       ]
      },
      {
       "output_type": "stream",
       "stream": "stdout",
       "text": [
        "\r",
        "Added node 992 of 1271 and its neighbours "
       ]
      },
      {
       "output_type": "stream",
       "stream": "stdout",
       "text": [
        "\r",
        "Added node 993 of 1271 and its neighbours "
       ]
      },
      {
       "output_type": "stream",
       "stream": "stdout",
       "text": [
        "\r",
        "Added node 994 of 1271 and its neighbours "
       ]
      },
      {
       "output_type": "stream",
       "stream": "stdout",
       "text": [
        "\r",
        "Added node 995 of 1271 and its neighbours "
       ]
      },
      {
       "output_type": "stream",
       "stream": "stdout",
       "text": [
        "\r",
        "Added node 996 of 1271 and its neighbours "
       ]
      },
      {
       "output_type": "stream",
       "stream": "stdout",
       "text": [
        "\r",
        "Added node 997 of 1271 and its neighbours "
       ]
      },
      {
       "output_type": "stream",
       "stream": "stdout",
       "text": [
        "\r",
        "Added node 998 of 1271 and its neighbours "
       ]
      },
      {
       "output_type": "stream",
       "stream": "stdout",
       "text": [
        "\r",
        "Added node 999 of 1271 and its neighbours "
       ]
      },
      {
       "output_type": "stream",
       "stream": "stdout",
       "text": [
        "\r",
        "Added node 1000 of 1271 and its neighbours "
       ]
      },
      {
       "output_type": "stream",
       "stream": "stdout",
       "text": [
        "\r",
        "Added node 1001 of 1271 and its neighbours "
       ]
      },
      {
       "output_type": "stream",
       "stream": "stdout",
       "text": [
        "\r",
        "Added node 1002 of 1271 and its neighbours "
       ]
      },
      {
       "output_type": "stream",
       "stream": "stdout",
       "text": [
        "\r",
        "Added node 1003 of 1271 and its neighbours "
       ]
      },
      {
       "output_type": "stream",
       "stream": "stdout",
       "text": [
        "\r",
        "Added node 1004 of 1271 and its neighbours "
       ]
      },
      {
       "output_type": "stream",
       "stream": "stdout",
       "text": [
        "\r",
        "Added node 1005 of 1271 and its neighbours "
       ]
      },
      {
       "output_type": "stream",
       "stream": "stdout",
       "text": [
        "\r",
        "Added node 1006 of 1271 and its neighbours "
       ]
      },
      {
       "output_type": "stream",
       "stream": "stdout",
       "text": [
        "\r",
        "Added node 1007 of 1271 and its neighbours "
       ]
      },
      {
       "output_type": "stream",
       "stream": "stdout",
       "text": [
        "\r",
        "Added node 1008 of 1271 and its neighbours "
       ]
      },
      {
       "output_type": "stream",
       "stream": "stdout",
       "text": [
        "\r",
        "Added node 1009 of 1271 and its neighbours "
       ]
      },
      {
       "output_type": "stream",
       "stream": "stdout",
       "text": [
        "\r",
        "Added node 1010 of 1271 and its neighbours "
       ]
      },
      {
       "output_type": "stream",
       "stream": "stdout",
       "text": [
        "\r",
        "Added node 1011 of 1271 and its neighbours "
       ]
      },
      {
       "output_type": "stream",
       "stream": "stdout",
       "text": [
        "\r",
        "Added node 1012 of 1271 and its neighbours "
       ]
      },
      {
       "output_type": "stream",
       "stream": "stdout",
       "text": [
        "\r",
        "Added node 1013 of 1271 and its neighbours "
       ]
      },
      {
       "output_type": "stream",
       "stream": "stdout",
       "text": [
        "\r",
        "Added node 1014 of 1271 and its neighbours "
       ]
      },
      {
       "output_type": "stream",
       "stream": "stdout",
       "text": [
        "\r",
        "Added node 1015 of 1271 and its neighbours "
       ]
      },
      {
       "output_type": "stream",
       "stream": "stdout",
       "text": [
        "\r",
        "Added node 1016 of 1271 and its neighbours "
       ]
      },
      {
       "output_type": "stream",
       "stream": "stdout",
       "text": [
        "\r",
        "Added node 1017 of 1271 and its neighbours "
       ]
      },
      {
       "output_type": "stream",
       "stream": "stdout",
       "text": [
        "\r",
        "Added node 1018 of 1271 and its neighbours "
       ]
      },
      {
       "output_type": "stream",
       "stream": "stdout",
       "text": [
        "\r",
        "Added node 1019 of 1271 and its neighbours "
       ]
      },
      {
       "output_type": "stream",
       "stream": "stdout",
       "text": [
        "\r",
        "Added node 1020 of 1271 and its neighbours "
       ]
      },
      {
       "output_type": "stream",
       "stream": "stdout",
       "text": [
        "\r",
        "Added node 1021 of 1271 and its neighbours "
       ]
      },
      {
       "output_type": "stream",
       "stream": "stdout",
       "text": [
        "\r",
        "Added node 1022 of 1271 and its neighbours "
       ]
      },
      {
       "output_type": "stream",
       "stream": "stdout",
       "text": [
        "\r",
        "Added node 1023 of 1271 and its neighbours "
       ]
      },
      {
       "output_type": "stream",
       "stream": "stdout",
       "text": [
        "\r",
        "Added node 1024 of 1271 and its neighbours "
       ]
      },
      {
       "output_type": "stream",
       "stream": "stdout",
       "text": [
        "\r",
        "Added node 1025 of 1271 and its neighbours "
       ]
      },
      {
       "output_type": "stream",
       "stream": "stdout",
       "text": [
        "\r",
        "Added node 1026 of 1271 and its neighbours "
       ]
      },
      {
       "output_type": "stream",
       "stream": "stdout",
       "text": [
        "\r",
        "Added node 1027 of 1271 and its neighbours "
       ]
      },
      {
       "output_type": "stream",
       "stream": "stdout",
       "text": [
        "\r",
        "Added node 1028 of 1271 and its neighbours "
       ]
      },
      {
       "output_type": "stream",
       "stream": "stdout",
       "text": [
        "\r",
        "Added node 1029 of 1271 and its neighbours "
       ]
      },
      {
       "output_type": "stream",
       "stream": "stdout",
       "text": [
        "\r",
        "Added node 1030 of 1271 and its neighbours "
       ]
      },
      {
       "output_type": "stream",
       "stream": "stdout",
       "text": [
        "\r",
        "Added node 1031 of 1271 and its neighbours "
       ]
      },
      {
       "output_type": "stream",
       "stream": "stdout",
       "text": [
        "\r",
        "Added node 1032 of 1271 and its neighbours "
       ]
      },
      {
       "output_type": "stream",
       "stream": "stdout",
       "text": [
        "\r",
        "Added node 1033 of 1271 and its neighbours "
       ]
      },
      {
       "output_type": "stream",
       "stream": "stdout",
       "text": [
        "\r",
        "Added node 1034 of 1271 and its neighbours "
       ]
      },
      {
       "output_type": "stream",
       "stream": "stdout",
       "text": [
        "\r",
        "Added node 1035 of 1271 and its neighbours "
       ]
      },
      {
       "output_type": "stream",
       "stream": "stdout",
       "text": [
        "\r",
        "Added node 1036 of 1271 and its neighbours "
       ]
      },
      {
       "output_type": "stream",
       "stream": "stdout",
       "text": [
        "\r",
        "Added node 1037 of 1271 and its neighbours "
       ]
      },
      {
       "output_type": "stream",
       "stream": "stdout",
       "text": [
        "\r",
        "Added node 1038 of 1271 and its neighbours "
       ]
      },
      {
       "output_type": "stream",
       "stream": "stdout",
       "text": [
        "\r",
        "Added node 1039 of 1271 and its neighbours "
       ]
      },
      {
       "output_type": "stream",
       "stream": "stdout",
       "text": [
        "\r",
        "Added node 1040 of 1271 and its neighbours "
       ]
      },
      {
       "output_type": "stream",
       "stream": "stdout",
       "text": [
        "\r",
        "Added node 1041 of 1271 and its neighbours "
       ]
      },
      {
       "output_type": "stream",
       "stream": "stdout",
       "text": [
        "\r",
        "Added node 1042 of 1271 and its neighbours "
       ]
      },
      {
       "output_type": "stream",
       "stream": "stdout",
       "text": [
        "\r",
        "Added node 1043 of 1271 and its neighbours "
       ]
      },
      {
       "output_type": "stream",
       "stream": "stdout",
       "text": [
        "\r",
        "Added node 1044 of 1271 and its neighbours "
       ]
      },
      {
       "output_type": "stream",
       "stream": "stdout",
       "text": [
        "\r",
        "Added node 1045 of 1271 and its neighbours "
       ]
      },
      {
       "output_type": "stream",
       "stream": "stdout",
       "text": [
        "\r",
        "Added node 1046 of 1271 and its neighbours "
       ]
      },
      {
       "output_type": "stream",
       "stream": "stdout",
       "text": [
        "\r",
        "Added node 1047 of 1271 and its neighbours "
       ]
      },
      {
       "output_type": "stream",
       "stream": "stdout",
       "text": [
        "\r",
        "Added node 1048 of 1271 and its neighbours "
       ]
      },
      {
       "output_type": "stream",
       "stream": "stdout",
       "text": [
        "\r",
        "Added node 1049 of 1271 and its neighbours "
       ]
      },
      {
       "output_type": "stream",
       "stream": "stdout",
       "text": [
        "\r",
        "Added node 1050 of 1271 and its neighbours "
       ]
      },
      {
       "output_type": "stream",
       "stream": "stdout",
       "text": [
        "\r",
        "Added node 1051 of 1271 and its neighbours "
       ]
      },
      {
       "output_type": "stream",
       "stream": "stdout",
       "text": [
        "\r",
        "Added node 1052 of 1271 and its neighbours "
       ]
      },
      {
       "output_type": "stream",
       "stream": "stdout",
       "text": [
        "\r",
        "Added node 1053 of 1271 and its neighbours "
       ]
      },
      {
       "output_type": "stream",
       "stream": "stdout",
       "text": [
        "\r",
        "Added node 1054 of 1271 and its neighbours "
       ]
      },
      {
       "output_type": "stream",
       "stream": "stdout",
       "text": [
        "\r",
        "Added node 1055 of 1271 and its neighbours "
       ]
      },
      {
       "output_type": "stream",
       "stream": "stdout",
       "text": [
        "\r",
        "Added node 1056 of 1271 and its neighbours "
       ]
      },
      {
       "output_type": "stream",
       "stream": "stdout",
       "text": [
        "\r",
        "Added node 1057 of 1271 and its neighbours "
       ]
      },
      {
       "output_type": "stream",
       "stream": "stdout",
       "text": [
        "\r",
        "Added node 1058 of 1271 and its neighbours "
       ]
      },
      {
       "output_type": "stream",
       "stream": "stdout",
       "text": [
        "\r",
        "Added node 1059 of 1271 and its neighbours "
       ]
      },
      {
       "output_type": "stream",
       "stream": "stdout",
       "text": [
        "\r",
        "Added node 1060 of 1271 and its neighbours "
       ]
      },
      {
       "output_type": "stream",
       "stream": "stdout",
       "text": [
        "\r",
        "Added node 1061 of 1271 and its neighbours "
       ]
      },
      {
       "output_type": "stream",
       "stream": "stdout",
       "text": [
        "\r",
        "Added node 1062 of 1271 and its neighbours "
       ]
      },
      {
       "output_type": "stream",
       "stream": "stdout",
       "text": [
        "\r",
        "Added node 1063 of 1271 and its neighbours "
       ]
      },
      {
       "output_type": "stream",
       "stream": "stdout",
       "text": [
        "\r",
        "Added node 1064 of 1271 and its neighbours "
       ]
      },
      {
       "output_type": "stream",
       "stream": "stdout",
       "text": [
        "\r",
        "Added node 1065 of 1271 and its neighbours "
       ]
      },
      {
       "output_type": "stream",
       "stream": "stdout",
       "text": [
        "\r",
        "Added node 1066 of 1271 and its neighbours "
       ]
      },
      {
       "output_type": "stream",
       "stream": "stdout",
       "text": [
        "\r",
        "Added node 1067 of 1271 and its neighbours "
       ]
      },
      {
       "output_type": "stream",
       "stream": "stdout",
       "text": [
        "\r",
        "Added node 1068 of 1271 and its neighbours "
       ]
      },
      {
       "output_type": "stream",
       "stream": "stdout",
       "text": [
        "\r",
        "Added node 1069 of 1271 and its neighbours "
       ]
      },
      {
       "output_type": "stream",
       "stream": "stdout",
       "text": [
        "\r",
        "Added node 1070 of 1271 and its neighbours "
       ]
      },
      {
       "output_type": "stream",
       "stream": "stdout",
       "text": [
        "\r",
        "Added node 1071 of 1271 and its neighbours "
       ]
      },
      {
       "output_type": "stream",
       "stream": "stdout",
       "text": [
        "\r",
        "Added node 1072 of 1271 and its neighbours "
       ]
      },
      {
       "output_type": "stream",
       "stream": "stdout",
       "text": [
        "\r",
        "Added node 1073 of 1271 and its neighbours "
       ]
      },
      {
       "output_type": "stream",
       "stream": "stdout",
       "text": [
        "\r",
        "Added node 1074 of 1271 and its neighbours "
       ]
      },
      {
       "output_type": "stream",
       "stream": "stdout",
       "text": [
        "\r",
        "Added node 1075 of 1271 and its neighbours "
       ]
      },
      {
       "output_type": "stream",
       "stream": "stdout",
       "text": [
        "\r",
        "Added node 1076 of 1271 and its neighbours "
       ]
      },
      {
       "output_type": "stream",
       "stream": "stdout",
       "text": [
        "\r",
        "Added node 1077 of 1271 and its neighbours "
       ]
      },
      {
       "output_type": "stream",
       "stream": "stdout",
       "text": [
        "\r",
        "Added node 1078 of 1271 and its neighbours "
       ]
      },
      {
       "output_type": "stream",
       "stream": "stdout",
       "text": [
        "\r",
        "Added node 1079 of 1271 and its neighbours "
       ]
      },
      {
       "output_type": "stream",
       "stream": "stdout",
       "text": [
        "\r",
        "Added node 1080 of 1271 and its neighbours "
       ]
      },
      {
       "output_type": "stream",
       "stream": "stdout",
       "text": [
        "\r",
        "Added node 1081 of 1271 and its neighbours "
       ]
      },
      {
       "output_type": "stream",
       "stream": "stdout",
       "text": [
        "\r",
        "Added node 1082 of 1271 and its neighbours "
       ]
      },
      {
       "output_type": "stream",
       "stream": "stdout",
       "text": [
        "\r",
        "Added node 1083 of 1271 and its neighbours "
       ]
      },
      {
       "output_type": "stream",
       "stream": "stdout",
       "text": [
        "\r",
        "Added node 1084 of 1271 and its neighbours "
       ]
      },
      {
       "output_type": "stream",
       "stream": "stdout",
       "text": [
        "\r",
        "Added node 1085 of 1271 and its neighbours "
       ]
      },
      {
       "output_type": "stream",
       "stream": "stdout",
       "text": [
        "\r",
        "Added node 1086 of 1271 and its neighbours "
       ]
      },
      {
       "output_type": "stream",
       "stream": "stdout",
       "text": [
        "\r",
        "Added node 1087 of 1271 and its neighbours "
       ]
      },
      {
       "output_type": "stream",
       "stream": "stdout",
       "text": [
        "\r",
        "Added node 1088 of 1271 and its neighbours "
       ]
      },
      {
       "output_type": "stream",
       "stream": "stdout",
       "text": [
        "\r",
        "Added node 1089 of 1271 and its neighbours "
       ]
      },
      {
       "output_type": "stream",
       "stream": "stdout",
       "text": [
        "\r",
        "Added node 1090 of 1271 and its neighbours "
       ]
      },
      {
       "output_type": "stream",
       "stream": "stdout",
       "text": [
        "\r",
        "Added node 1091 of 1271 and its neighbours "
       ]
      },
      {
       "output_type": "stream",
       "stream": "stdout",
       "text": [
        "\r",
        "Added node 1092 of 1271 and its neighbours "
       ]
      },
      {
       "output_type": "stream",
       "stream": "stdout",
       "text": [
        "\r",
        "Added node 1093 of 1271 and its neighbours "
       ]
      },
      {
       "output_type": "stream",
       "stream": "stdout",
       "text": [
        "\r",
        "Added node 1094 of 1271 and its neighbours "
       ]
      },
      {
       "output_type": "stream",
       "stream": "stdout",
       "text": [
        "\r",
        "Added node 1095 of 1271 and its neighbours "
       ]
      },
      {
       "output_type": "stream",
       "stream": "stdout",
       "text": [
        "\r",
        "Added node 1096 of 1271 and its neighbours "
       ]
      },
      {
       "output_type": "stream",
       "stream": "stdout",
       "text": [
        "\r",
        "Added node 1097 of 1271 and its neighbours "
       ]
      },
      {
       "output_type": "stream",
       "stream": "stdout",
       "text": [
        "\r",
        "Added node 1098 of 1271 and its neighbours "
       ]
      },
      {
       "output_type": "stream",
       "stream": "stdout",
       "text": [
        "\r",
        "Added node 1099 of 1271 and its neighbours "
       ]
      },
      {
       "output_type": "stream",
       "stream": "stdout",
       "text": [
        "\r",
        "Added node 1100 of 1271 and its neighbours "
       ]
      },
      {
       "output_type": "stream",
       "stream": "stdout",
       "text": [
        "\r",
        "Added node 1101 of 1271 and its neighbours "
       ]
      },
      {
       "output_type": "stream",
       "stream": "stdout",
       "text": [
        "\r",
        "Added node 1102 of 1271 and its neighbours "
       ]
      },
      {
       "output_type": "stream",
       "stream": "stdout",
       "text": [
        "\r",
        "Added node 1103 of 1271 and its neighbours "
       ]
      },
      {
       "output_type": "stream",
       "stream": "stdout",
       "text": [
        "\r",
        "Added node 1104 of 1271 and its neighbours "
       ]
      },
      {
       "output_type": "stream",
       "stream": "stdout",
       "text": [
        "\r",
        "Added node 1105 of 1271 and its neighbours "
       ]
      },
      {
       "output_type": "stream",
       "stream": "stdout",
       "text": [
        "\r",
        "Added node 1106 of 1271 and its neighbours "
       ]
      },
      {
       "output_type": "stream",
       "stream": "stdout",
       "text": [
        "\r",
        "Added node 1107 of 1271 and its neighbours "
       ]
      },
      {
       "output_type": "stream",
       "stream": "stdout",
       "text": [
        "\r",
        "Added node 1108 of 1271 and its neighbours "
       ]
      },
      {
       "output_type": "stream",
       "stream": "stdout",
       "text": [
        "\r",
        "Added node 1109 of 1271 and its neighbours "
       ]
      },
      {
       "output_type": "stream",
       "stream": "stdout",
       "text": [
        "\r",
        "Added node 1110 of 1271 and its neighbours "
       ]
      },
      {
       "output_type": "stream",
       "stream": "stdout",
       "text": [
        "\r",
        "Added node 1111 of 1271 and its neighbours "
       ]
      },
      {
       "output_type": "stream",
       "stream": "stdout",
       "text": [
        "\r",
        "Added node 1112 of 1271 and its neighbours "
       ]
      },
      {
       "output_type": "stream",
       "stream": "stdout",
       "text": [
        "\r",
        "Added node 1113 of 1271 and its neighbours "
       ]
      },
      {
       "output_type": "stream",
       "stream": "stdout",
       "text": [
        "\r",
        "Added node 1114 of 1271 and its neighbours "
       ]
      },
      {
       "output_type": "stream",
       "stream": "stdout",
       "text": [
        "\r",
        "Added node 1115 of 1271 and its neighbours "
       ]
      },
      {
       "output_type": "stream",
       "stream": "stdout",
       "text": [
        "\r",
        "Added node 1116 of 1271 and its neighbours "
       ]
      },
      {
       "output_type": "stream",
       "stream": "stdout",
       "text": [
        "\r",
        "Added node 1117 of 1271 and its neighbours "
       ]
      },
      {
       "output_type": "stream",
       "stream": "stdout",
       "text": [
        "\r",
        "Added node 1118 of 1271 and its neighbours "
       ]
      },
      {
       "output_type": "stream",
       "stream": "stdout",
       "text": [
        "\r",
        "Added node 1119 of 1271 and its neighbours "
       ]
      },
      {
       "output_type": "stream",
       "stream": "stdout",
       "text": [
        "\r",
        "Added node 1120 of 1271 and its neighbours "
       ]
      },
      {
       "output_type": "stream",
       "stream": "stdout",
       "text": [
        "\r",
        "Added node 1121 of 1271 and its neighbours "
       ]
      },
      {
       "output_type": "stream",
       "stream": "stdout",
       "text": [
        "\r",
        "Added node 1122 of 1271 and its neighbours "
       ]
      },
      {
       "output_type": "stream",
       "stream": "stdout",
       "text": [
        "\r",
        "Added node 1123 of 1271 and its neighbours "
       ]
      },
      {
       "output_type": "stream",
       "stream": "stdout",
       "text": [
        "\r",
        "Added node 1124 of 1271 and its neighbours "
       ]
      },
      {
       "output_type": "stream",
       "stream": "stdout",
       "text": [
        "\r",
        "Added node 1125 of 1271 and its neighbours "
       ]
      },
      {
       "output_type": "stream",
       "stream": "stdout",
       "text": [
        "\r",
        "Added node 1126 of 1271 and its neighbours "
       ]
      },
      {
       "output_type": "stream",
       "stream": "stdout",
       "text": [
        "\r",
        "Added node 1127 of 1271 and its neighbours "
       ]
      },
      {
       "output_type": "stream",
       "stream": "stdout",
       "text": [
        "\r",
        "Added node 1128 of 1271 and its neighbours "
       ]
      },
      {
       "output_type": "stream",
       "stream": "stdout",
       "text": [
        "\r",
        "Added node 1129 of 1271 and its neighbours "
       ]
      },
      {
       "output_type": "stream",
       "stream": "stdout",
       "text": [
        "\r",
        "Added node 1130 of 1271 and its neighbours "
       ]
      },
      {
       "output_type": "stream",
       "stream": "stdout",
       "text": [
        "\r",
        "Added node 1131 of 1271 and its neighbours "
       ]
      },
      {
       "output_type": "stream",
       "stream": "stdout",
       "text": [
        "\r",
        "Added node 1132 of 1271 and its neighbours "
       ]
      },
      {
       "output_type": "stream",
       "stream": "stdout",
       "text": [
        "\r",
        "Added node 1133 of 1271 and its neighbours "
       ]
      },
      {
       "output_type": "stream",
       "stream": "stdout",
       "text": [
        "\r",
        "Added node 1134 of 1271 and its neighbours "
       ]
      },
      {
       "output_type": "stream",
       "stream": "stdout",
       "text": [
        "\r",
        "Added node 1135 of 1271 and its neighbours "
       ]
      },
      {
       "output_type": "stream",
       "stream": "stdout",
       "text": [
        "\r",
        "Added node 1136 of 1271 and its neighbours "
       ]
      },
      {
       "output_type": "stream",
       "stream": "stdout",
       "text": [
        "\r",
        "Added node 1137 of 1271 and its neighbours "
       ]
      },
      {
       "output_type": "stream",
       "stream": "stdout",
       "text": [
        "\r",
        "Added node 1138 of 1271 and its neighbours "
       ]
      },
      {
       "output_type": "stream",
       "stream": "stdout",
       "text": [
        "\r",
        "Added node 1139 of 1271 and its neighbours "
       ]
      },
      {
       "output_type": "stream",
       "stream": "stdout",
       "text": [
        "\r",
        "Added node 1140 of 1271 and its neighbours "
       ]
      },
      {
       "output_type": "stream",
       "stream": "stdout",
       "text": [
        "\r",
        "Added node 1141 of 1271 and its neighbours "
       ]
      },
      {
       "output_type": "stream",
       "stream": "stdout",
       "text": [
        "\r",
        "Added node 1142 of 1271 and its neighbours "
       ]
      },
      {
       "output_type": "stream",
       "stream": "stdout",
       "text": [
        "\r",
        "Added node 1143 of 1271 and its neighbours "
       ]
      },
      {
       "output_type": "stream",
       "stream": "stdout",
       "text": [
        "\r",
        "Added node 1144 of 1271 and its neighbours "
       ]
      },
      {
       "output_type": "stream",
       "stream": "stdout",
       "text": [
        "\r",
        "Added node 1145 of 1271 and its neighbours "
       ]
      },
      {
       "output_type": "stream",
       "stream": "stdout",
       "text": [
        "\r",
        "Added node 1146 of 1271 and its neighbours "
       ]
      },
      {
       "output_type": "stream",
       "stream": "stdout",
       "text": [
        "\r",
        "Added node 1147 of 1271 and its neighbours "
       ]
      },
      {
       "output_type": "stream",
       "stream": "stdout",
       "text": [
        "\r",
        "Added node 1148 of 1271 and its neighbours "
       ]
      },
      {
       "output_type": "stream",
       "stream": "stdout",
       "text": [
        "\r",
        "Added node 1149 of 1271 and its neighbours "
       ]
      },
      {
       "output_type": "stream",
       "stream": "stdout",
       "text": [
        "\r",
        "Added node 1150 of 1271 and its neighbours "
       ]
      },
      {
       "output_type": "stream",
       "stream": "stdout",
       "text": [
        "\r",
        "Added node 1151 of 1271 and its neighbours "
       ]
      },
      {
       "output_type": "stream",
       "stream": "stdout",
       "text": [
        "\r",
        "Added node 1152 of 1271 and its neighbours "
       ]
      },
      {
       "output_type": "stream",
       "stream": "stdout",
       "text": [
        "\r",
        "Added node 1153 of 1271 and its neighbours "
       ]
      },
      {
       "output_type": "stream",
       "stream": "stdout",
       "text": [
        "\r",
        "Added node 1154 of 1271 and its neighbours "
       ]
      },
      {
       "output_type": "stream",
       "stream": "stdout",
       "text": [
        "\r",
        "Added node 1155 of 1271 and its neighbours "
       ]
      },
      {
       "output_type": "stream",
       "stream": "stdout",
       "text": [
        "\r",
        "Added node 1156 of 1271 and its neighbours "
       ]
      },
      {
       "output_type": "stream",
       "stream": "stdout",
       "text": [
        "\r",
        "Added node 1157 of 1271 and its neighbours "
       ]
      },
      {
       "output_type": "stream",
       "stream": "stdout",
       "text": [
        "\r",
        "Added node 1158 of 1271 and its neighbours "
       ]
      },
      {
       "output_type": "stream",
       "stream": "stdout",
       "text": [
        "\r",
        "Added node 1159 of 1271 and its neighbours "
       ]
      },
      {
       "output_type": "stream",
       "stream": "stdout",
       "text": [
        "\r",
        "Added node 1160 of 1271 and its neighbours "
       ]
      },
      {
       "output_type": "stream",
       "stream": "stdout",
       "text": [
        "\r",
        "Added node 1161 of 1271 and its neighbours "
       ]
      },
      {
       "output_type": "stream",
       "stream": "stdout",
       "text": [
        "\r",
        "Added node 1162 of 1271 and its neighbours "
       ]
      },
      {
       "output_type": "stream",
       "stream": "stdout",
       "text": [
        "\r",
        "Added node 1163 of 1271 and its neighbours "
       ]
      },
      {
       "output_type": "stream",
       "stream": "stdout",
       "text": [
        "\r",
        "Added node 1164 of 1271 and its neighbours "
       ]
      },
      {
       "output_type": "stream",
       "stream": "stdout",
       "text": [
        "\r",
        "Added node 1165 of 1271 and its neighbours "
       ]
      },
      {
       "output_type": "stream",
       "stream": "stdout",
       "text": [
        "\r",
        "Added node 1166 of 1271 and its neighbours "
       ]
      },
      {
       "output_type": "stream",
       "stream": "stdout",
       "text": [
        "\r",
        "Added node 1167 of 1271 and its neighbours "
       ]
      },
      {
       "output_type": "stream",
       "stream": "stdout",
       "text": [
        "\r",
        "Added node 1168 of 1271 and its neighbours "
       ]
      },
      {
       "output_type": "stream",
       "stream": "stdout",
       "text": [
        "\r",
        "Added node 1169 of 1271 and its neighbours "
       ]
      },
      {
       "output_type": "stream",
       "stream": "stdout",
       "text": [
        "\r",
        "Added node 1170 of 1271 and its neighbours "
       ]
      },
      {
       "output_type": "stream",
       "stream": "stdout",
       "text": [
        "\r",
        "Added node 1171 of 1271 and its neighbours "
       ]
      },
      {
       "output_type": "stream",
       "stream": "stdout",
       "text": [
        "\r",
        "Added node 1172 of 1271 and its neighbours "
       ]
      },
      {
       "output_type": "stream",
       "stream": "stdout",
       "text": [
        "\r",
        "Added node 1173 of 1271 and its neighbours "
       ]
      },
      {
       "output_type": "stream",
       "stream": "stdout",
       "text": [
        "\r",
        "Added node 1174 of 1271 and its neighbours "
       ]
      },
      {
       "output_type": "stream",
       "stream": "stdout",
       "text": [
        "\r",
        "Added node 1175 of 1271 and its neighbours "
       ]
      },
      {
       "output_type": "stream",
       "stream": "stdout",
       "text": [
        "\r",
        "Added node 1176 of 1271 and its neighbours "
       ]
      },
      {
       "output_type": "stream",
       "stream": "stdout",
       "text": [
        "\r",
        "Added node 1177 of 1271 and its neighbours "
       ]
      },
      {
       "output_type": "stream",
       "stream": "stdout",
       "text": [
        "\r",
        "Added node 1178 of 1271 and its neighbours "
       ]
      },
      {
       "output_type": "stream",
       "stream": "stdout",
       "text": [
        "\r",
        "Added node 1179 of 1271 and its neighbours "
       ]
      },
      {
       "output_type": "stream",
       "stream": "stdout",
       "text": [
        "\r",
        "Added node 1180 of 1271 and its neighbours "
       ]
      },
      {
       "output_type": "stream",
       "stream": "stdout",
       "text": [
        "\r",
        "Added node 1181 of 1271 and its neighbours "
       ]
      },
      {
       "output_type": "stream",
       "stream": "stdout",
       "text": [
        "\r",
        "Added node 1182 of 1271 and its neighbours "
       ]
      },
      {
       "output_type": "stream",
       "stream": "stdout",
       "text": [
        "\r",
        "Added node 1183 of 1271 and its neighbours "
       ]
      },
      {
       "output_type": "stream",
       "stream": "stdout",
       "text": [
        "\r",
        "Added node 1184 of 1271 and its neighbours "
       ]
      },
      {
       "output_type": "stream",
       "stream": "stdout",
       "text": [
        "\r",
        "Added node 1185 of 1271 and its neighbours "
       ]
      },
      {
       "output_type": "stream",
       "stream": "stdout",
       "text": [
        "\r",
        "Added node 1186 of 1271 and its neighbours "
       ]
      },
      {
       "output_type": "stream",
       "stream": "stdout",
       "text": [
        "\r",
        "Added node 1187 of 1271 and its neighbours "
       ]
      },
      {
       "output_type": "stream",
       "stream": "stdout",
       "text": [
        "\r",
        "Added node 1188 of 1271 and its neighbours "
       ]
      },
      {
       "output_type": "stream",
       "stream": "stdout",
       "text": [
        "\r",
        "Added node 1189 of 1271 and its neighbours "
       ]
      },
      {
       "output_type": "stream",
       "stream": "stdout",
       "text": [
        "\r",
        "Added node 1190 of 1271 and its neighbours "
       ]
      },
      {
       "output_type": "stream",
       "stream": "stdout",
       "text": [
        "\r",
        "Added node 1191 of 1271 and its neighbours "
       ]
      },
      {
       "output_type": "stream",
       "stream": "stdout",
       "text": [
        "\r",
        "Added node 1192 of 1271 and its neighbours "
       ]
      },
      {
       "output_type": "stream",
       "stream": "stdout",
       "text": [
        "\r",
        "Added node 1193 of 1271 and its neighbours "
       ]
      },
      {
       "output_type": "stream",
       "stream": "stdout",
       "text": [
        "\r",
        "Added node 1194 of 1271 and its neighbours "
       ]
      },
      {
       "output_type": "stream",
       "stream": "stdout",
       "text": [
        "\r",
        "Added node 1195 of 1271 and its neighbours "
       ]
      },
      {
       "output_type": "stream",
       "stream": "stdout",
       "text": [
        "\r",
        "Added node 1196 of 1271 and its neighbours "
       ]
      },
      {
       "output_type": "stream",
       "stream": "stdout",
       "text": [
        "\r",
        "Added node 1197 of 1271 and its neighbours "
       ]
      },
      {
       "output_type": "stream",
       "stream": "stdout",
       "text": [
        "\r",
        "Added node 1198 of 1271 and its neighbours "
       ]
      },
      {
       "output_type": "stream",
       "stream": "stdout",
       "text": [
        "\r",
        "Added node 1199 of 1271 and its neighbours "
       ]
      },
      {
       "output_type": "stream",
       "stream": "stdout",
       "text": [
        "\r",
        "Added node 1200 of 1271 and its neighbours "
       ]
      },
      {
       "output_type": "stream",
       "stream": "stdout",
       "text": [
        "\r",
        "Added node 1201 of 1271 and its neighbours "
       ]
      },
      {
       "output_type": "stream",
       "stream": "stdout",
       "text": [
        "\r",
        "Added node 1202 of 1271 and its neighbours "
       ]
      },
      {
       "output_type": "stream",
       "stream": "stdout",
       "text": [
        "\r",
        "Added node 1203 of 1271 and its neighbours "
       ]
      },
      {
       "output_type": "stream",
       "stream": "stdout",
       "text": [
        "\r",
        "Added node 1204 of 1271 and its neighbours "
       ]
      },
      {
       "output_type": "stream",
       "stream": "stdout",
       "text": [
        "\r",
        "Added node 1205 of 1271 and its neighbours "
       ]
      },
      {
       "output_type": "stream",
       "stream": "stdout",
       "text": [
        "\r",
        "Added node 1206 of 1271 and its neighbours "
       ]
      },
      {
       "output_type": "stream",
       "stream": "stdout",
       "text": [
        "\r",
        "Added node 1207 of 1271 and its neighbours "
       ]
      },
      {
       "output_type": "stream",
       "stream": "stdout",
       "text": [
        "\r",
        "Added node 1208 of 1271 and its neighbours "
       ]
      },
      {
       "output_type": "stream",
       "stream": "stdout",
       "text": [
        "\r",
        "Added node 1209 of 1271 and its neighbours "
       ]
      },
      {
       "output_type": "stream",
       "stream": "stdout",
       "text": [
        "\r",
        "Added node 1210 of 1271 and its neighbours "
       ]
      },
      {
       "output_type": "stream",
       "stream": "stdout",
       "text": [
        "\r",
        "Added node 1211 of 1271 and its neighbours "
       ]
      },
      {
       "output_type": "stream",
       "stream": "stdout",
       "text": [
        "\r",
        "Added node 1212 of 1271 and its neighbours "
       ]
      },
      {
       "output_type": "stream",
       "stream": "stdout",
       "text": [
        "\r",
        "Added node 1213 of 1271 and its neighbours "
       ]
      },
      {
       "output_type": "stream",
       "stream": "stdout",
       "text": [
        "\r",
        "Added node 1214 of 1271 and its neighbours "
       ]
      },
      {
       "output_type": "stream",
       "stream": "stdout",
       "text": [
        "\r",
        "Added node 1215 of 1271 and its neighbours "
       ]
      },
      {
       "output_type": "stream",
       "stream": "stdout",
       "text": [
        "\r",
        "Added node 1216 of 1271 and its neighbours "
       ]
      },
      {
       "output_type": "stream",
       "stream": "stdout",
       "text": [
        "\r",
        "Added node 1217 of 1271 and its neighbours "
       ]
      },
      {
       "output_type": "stream",
       "stream": "stdout",
       "text": [
        "\r",
        "Added node 1218 of 1271 and its neighbours "
       ]
      },
      {
       "output_type": "stream",
       "stream": "stdout",
       "text": [
        "\r",
        "Added node 1219 of 1271 and its neighbours "
       ]
      },
      {
       "output_type": "stream",
       "stream": "stdout",
       "text": [
        "\r",
        "Added node 1220 of 1271 and its neighbours "
       ]
      },
      {
       "output_type": "stream",
       "stream": "stdout",
       "text": [
        "\r",
        "Added node 1221 of 1271 and its neighbours "
       ]
      },
      {
       "output_type": "stream",
       "stream": "stdout",
       "text": [
        "\r",
        "Added node 1222 of 1271 and its neighbours "
       ]
      },
      {
       "output_type": "stream",
       "stream": "stdout",
       "text": [
        "\r",
        "Added node 1223 of 1271 and its neighbours "
       ]
      },
      {
       "output_type": "stream",
       "stream": "stdout",
       "text": [
        "\r",
        "Added node 1224 of 1271 and its neighbours "
       ]
      },
      {
       "output_type": "stream",
       "stream": "stdout",
       "text": [
        "\r",
        "Added node 1225 of 1271 and its neighbours "
       ]
      },
      {
       "output_type": "stream",
       "stream": "stdout",
       "text": [
        "\r",
        "Added node 1226 of 1271 and its neighbours "
       ]
      },
      {
       "output_type": "stream",
       "stream": "stdout",
       "text": [
        "\r",
        "Added node 1227 of 1271 and its neighbours "
       ]
      },
      {
       "output_type": "stream",
       "stream": "stdout",
       "text": [
        "\r",
        "Added node 1228 of 1271 and its neighbours "
       ]
      },
      {
       "output_type": "stream",
       "stream": "stdout",
       "text": [
        "\r",
        "Added node 1229 of 1271 and its neighbours "
       ]
      },
      {
       "output_type": "stream",
       "stream": "stdout",
       "text": [
        "\r",
        "Added node 1230 of 1271 and its neighbours "
       ]
      },
      {
       "output_type": "stream",
       "stream": "stdout",
       "text": [
        "\r",
        "Added node 1231 of 1271 and its neighbours "
       ]
      },
      {
       "output_type": "stream",
       "stream": "stdout",
       "text": [
        "\r",
        "Added node 1232 of 1271 and its neighbours "
       ]
      },
      {
       "output_type": "stream",
       "stream": "stdout",
       "text": [
        "\r",
        "Added node 1233 of 1271 and its neighbours "
       ]
      },
      {
       "output_type": "stream",
       "stream": "stdout",
       "text": [
        "\r",
        "Added node 1234 of 1271 and its neighbours "
       ]
      },
      {
       "output_type": "stream",
       "stream": "stdout",
       "text": [
        "\r",
        "Added node 1235 of 1271 and its neighbours "
       ]
      },
      {
       "output_type": "stream",
       "stream": "stdout",
       "text": [
        "\r",
        "Added node 1236 of 1271 and its neighbours "
       ]
      },
      {
       "output_type": "stream",
       "stream": "stdout",
       "text": [
        "\r",
        "Added node 1237 of 1271 and its neighbours "
       ]
      },
      {
       "output_type": "stream",
       "stream": "stdout",
       "text": [
        "\r",
        "Added node 1238 of 1271 and its neighbours "
       ]
      },
      {
       "output_type": "stream",
       "stream": "stdout",
       "text": [
        "\r",
        "Added node 1239 of 1271 and its neighbours "
       ]
      },
      {
       "output_type": "stream",
       "stream": "stdout",
       "text": [
        "\r",
        "Added node 1240 of 1271 and its neighbours "
       ]
      },
      {
       "output_type": "stream",
       "stream": "stdout",
       "text": [
        "\r",
        "Added node 1241 of 1271 and its neighbours "
       ]
      },
      {
       "output_type": "stream",
       "stream": "stdout",
       "text": [
        "\r",
        "Added node 1242 of 1271 and its neighbours "
       ]
      },
      {
       "output_type": "stream",
       "stream": "stdout",
       "text": [
        "\r",
        "Added node 1243 of 1271 and its neighbours "
       ]
      },
      {
       "output_type": "stream",
       "stream": "stdout",
       "text": [
        "\r",
        "Added node 1244 of 1271 and its neighbours "
       ]
      },
      {
       "output_type": "stream",
       "stream": "stdout",
       "text": [
        "\r",
        "Added node 1245 of 1271 and its neighbours "
       ]
      },
      {
       "output_type": "stream",
       "stream": "stdout",
       "text": [
        "\r",
        "Added node 1246 of 1271 and its neighbours "
       ]
      },
      {
       "output_type": "stream",
       "stream": "stdout",
       "text": [
        "\r",
        "Added node 1247 of 1271 and its neighbours "
       ]
      },
      {
       "output_type": "stream",
       "stream": "stdout",
       "text": [
        "\r",
        "Added node 1248 of 1271 and its neighbours "
       ]
      },
      {
       "output_type": "stream",
       "stream": "stdout",
       "text": [
        "\r",
        "Added node 1249 of 1271 and its neighbours "
       ]
      },
      {
       "output_type": "stream",
       "stream": "stdout",
       "text": [
        "\r",
        "Added node 1250 of 1271 and its neighbours "
       ]
      },
      {
       "output_type": "stream",
       "stream": "stdout",
       "text": [
        "\r",
        "Added node 1251 of 1271 and its neighbours "
       ]
      },
      {
       "output_type": "stream",
       "stream": "stdout",
       "text": [
        "\r",
        "Added node 1252 of 1271 and its neighbours "
       ]
      },
      {
       "output_type": "stream",
       "stream": "stdout",
       "text": [
        "\r",
        "Added node 1253 of 1271 and its neighbours "
       ]
      },
      {
       "output_type": "stream",
       "stream": "stdout",
       "text": [
        "\r",
        "Added node 1254 of 1271 and its neighbours "
       ]
      },
      {
       "output_type": "stream",
       "stream": "stdout",
       "text": [
        "\r",
        "Added node 1255 of 1271 and its neighbours "
       ]
      },
      {
       "output_type": "stream",
       "stream": "stdout",
       "text": [
        "\r",
        "Added node 1256 of 1271 and its neighbours "
       ]
      },
      {
       "output_type": "stream",
       "stream": "stdout",
       "text": [
        "\r",
        "Added node 1257 of 1271 and its neighbours "
       ]
      },
      {
       "output_type": "stream",
       "stream": "stdout",
       "text": [
        "\r",
        "Added node 1258 of 1271 and its neighbours "
       ]
      },
      {
       "output_type": "stream",
       "stream": "stdout",
       "text": [
        "\r",
        "Added node 1259 of 1271 and its neighbours "
       ]
      },
      {
       "output_type": "stream",
       "stream": "stdout",
       "text": [
        "\r",
        "Added node 1260 of 1271 and its neighbours "
       ]
      },
      {
       "output_type": "stream",
       "stream": "stdout",
       "text": [
        "\r",
        "Added node 1261 of 1271 and its neighbours "
       ]
      },
      {
       "output_type": "stream",
       "stream": "stdout",
       "text": [
        "\r",
        "Added node 1262 of 1271 and its neighbours "
       ]
      },
      {
       "output_type": "stream",
       "stream": "stdout",
       "text": [
        "\r",
        "Added node 1263 of 1271 and its neighbours "
       ]
      },
      {
       "output_type": "stream",
       "stream": "stdout",
       "text": [
        "\r",
        "Added node 1264 of 1271 and its neighbours "
       ]
      },
      {
       "output_type": "stream",
       "stream": "stdout",
       "text": [
        "\r",
        "Added node 1265 of 1271 and its neighbours "
       ]
      },
      {
       "output_type": "stream",
       "stream": "stdout",
       "text": [
        "\r",
        "Added node 1266 of 1271 and its neighbours "
       ]
      },
      {
       "output_type": "stream",
       "stream": "stdout",
       "text": [
        "\r",
        "Added node 1267 of 1271 and its neighbours "
       ]
      },
      {
       "output_type": "stream",
       "stream": "stdout",
       "text": [
        "\r",
        "Added node 1268 of 1271 and its neighbours "
       ]
      },
      {
       "output_type": "stream",
       "stream": "stdout",
       "text": [
        "\r",
        "Added node 1269 of 1271 and its neighbours "
       ]
      },
      {
       "output_type": "stream",
       "stream": "stdout",
       "text": [
        "\r",
        "Added node 1270 of 1271 and its neighbours "
       ]
      },
      {
       "output_type": "stream",
       "stream": "stdout",
       "text": [
        "\n",
        "\r",
        "Computed shortest paths from node 0 of 1271"
       ]
      },
      {
       "output_type": "stream",
       "stream": "stdout",
       "text": [
        "\r",
        "Computed shortest paths from node 1 of 1271"
       ]
      },
      {
       "output_type": "stream",
       "stream": "stdout",
       "text": [
        "\r",
        "Computed shortest paths from node 2 of 1271"
       ]
      },
      {
       "output_type": "stream",
       "stream": "stdout",
       "text": [
        "\r",
        "Computed shortest paths from node 3 of 1271"
       ]
      },
      {
       "output_type": "stream",
       "stream": "stdout",
       "text": [
        "\r",
        "Computed shortest paths from node 4 of 1271"
       ]
      },
      {
       "output_type": "stream",
       "stream": "stdout",
       "text": [
        "\r",
        "Computed shortest paths from node 5 of 1271"
       ]
      },
      {
       "output_type": "stream",
       "stream": "stdout",
       "text": [
        "\r",
        "Computed shortest paths from node 6 of 1271"
       ]
      },
      {
       "output_type": "stream",
       "stream": "stdout",
       "text": [
        "\r",
        "Computed shortest paths from node 7 of 1271"
       ]
      },
      {
       "output_type": "stream",
       "stream": "stdout",
       "text": [
        "\r",
        "Computed shortest paths from node 8 of 1271"
       ]
      },
      {
       "output_type": "stream",
       "stream": "stdout",
       "text": [
        "\r",
        "Computed shortest paths from node 9 of 1271"
       ]
      },
      {
       "output_type": "stream",
       "stream": "stdout",
       "text": [
        "\r",
        "Computed shortest paths from node 10 of 1271"
       ]
      },
      {
       "output_type": "stream",
       "stream": "stdout",
       "text": [
        "\r",
        "Computed shortest paths from node 11 of 1271"
       ]
      },
      {
       "output_type": "stream",
       "stream": "stdout",
       "text": [
        "\r",
        "Computed shortest paths from node 12 of 1271"
       ]
      },
      {
       "output_type": "stream",
       "stream": "stdout",
       "text": [
        "\r",
        "Computed shortest paths from node 13 of 1271"
       ]
      },
      {
       "output_type": "stream",
       "stream": "stdout",
       "text": [
        "\r",
        "Computed shortest paths from node 14 of 1271"
       ]
      },
      {
       "output_type": "stream",
       "stream": "stdout",
       "text": [
        "\r",
        "Computed shortest paths from node 15 of 1271"
       ]
      },
      {
       "output_type": "stream",
       "stream": "stdout",
       "text": [
        "\r",
        "Computed shortest paths from node 16 of 1271"
       ]
      },
      {
       "output_type": "stream",
       "stream": "stdout",
       "text": [
        "\r",
        "Computed shortest paths from node 17 of 1271"
       ]
      },
      {
       "output_type": "stream",
       "stream": "stdout",
       "text": [
        "\r",
        "Computed shortest paths from node 18 of 1271"
       ]
      },
      {
       "output_type": "stream",
       "stream": "stdout",
       "text": [
        "\r",
        "Computed shortest paths from node 19 of 1271"
       ]
      },
      {
       "output_type": "stream",
       "stream": "stdout",
       "text": [
        "\r",
        "Computed shortest paths from node 20 of 1271"
       ]
      },
      {
       "output_type": "stream",
       "stream": "stdout",
       "text": [
        "\r",
        "Computed shortest paths from node 21 of 1271"
       ]
      },
      {
       "output_type": "stream",
       "stream": "stdout",
       "text": [
        "\r",
        "Computed shortest paths from node 22 of 1271"
       ]
      },
      {
       "output_type": "stream",
       "stream": "stdout",
       "text": [
        "\r",
        "Computed shortest paths from node 23 of 1271"
       ]
      },
      {
       "output_type": "stream",
       "stream": "stdout",
       "text": [
        "\r",
        "Computed shortest paths from node 24 of 1271"
       ]
      },
      {
       "output_type": "stream",
       "stream": "stdout",
       "text": [
        "\r",
        "Computed shortest paths from node 25 of 1271"
       ]
      },
      {
       "output_type": "stream",
       "stream": "stdout",
       "text": [
        "\r",
        "Computed shortest paths from node 26 of 1271"
       ]
      },
      {
       "output_type": "stream",
       "stream": "stdout",
       "text": [
        "\r",
        "Computed shortest paths from node 27 of 1271"
       ]
      },
      {
       "output_type": "stream",
       "stream": "stdout",
       "text": [
        "\r",
        "Computed shortest paths from node 28 of 1271"
       ]
      },
      {
       "output_type": "stream",
       "stream": "stdout",
       "text": [
        "\r",
        "Computed shortest paths from node 29 of 1271"
       ]
      },
      {
       "output_type": "stream",
       "stream": "stdout",
       "text": [
        "\r",
        "Computed shortest paths from node 30 of 1271"
       ]
      },
      {
       "output_type": "stream",
       "stream": "stdout",
       "text": [
        "\r",
        "Computed shortest paths from node 31 of 1271"
       ]
      },
      {
       "output_type": "stream",
       "stream": "stdout",
       "text": [
        "\r",
        "Computed shortest paths from node 32 of 1271"
       ]
      },
      {
       "output_type": "stream",
       "stream": "stdout",
       "text": [
        "\r",
        "Computed shortest paths from node 33 of 1271"
       ]
      },
      {
       "output_type": "stream",
       "stream": "stdout",
       "text": [
        "\r",
        "Computed shortest paths from node 34 of 1271"
       ]
      },
      {
       "output_type": "stream",
       "stream": "stdout",
       "text": [
        "\r",
        "Computed shortest paths from node 35 of 1271"
       ]
      },
      {
       "output_type": "stream",
       "stream": "stdout",
       "text": [
        "\r",
        "Computed shortest paths from node 36 of 1271"
       ]
      },
      {
       "output_type": "stream",
       "stream": "stdout",
       "text": [
        "\r",
        "Computed shortest paths from node 37 of 1271"
       ]
      },
      {
       "output_type": "stream",
       "stream": "stdout",
       "text": [
        "\r",
        "Computed shortest paths from node 38 of 1271"
       ]
      },
      {
       "output_type": "stream",
       "stream": "stdout",
       "text": [
        "\r",
        "Computed shortest paths from node 39 of 1271"
       ]
      },
      {
       "output_type": "stream",
       "stream": "stdout",
       "text": [
        "\r",
        "Computed shortest paths from node 40 of 1271"
       ]
      },
      {
       "output_type": "stream",
       "stream": "stdout",
       "text": [
        "\r",
        "Computed shortest paths from node 41 of 1271"
       ]
      },
      {
       "output_type": "stream",
       "stream": "stdout",
       "text": [
        "\r",
        "Computed shortest paths from node 42 of 1271"
       ]
      },
      {
       "output_type": "stream",
       "stream": "stdout",
       "text": [
        "\r",
        "Computed shortest paths from node 43 of 1271"
       ]
      },
      {
       "output_type": "stream",
       "stream": "stdout",
       "text": [
        "\r",
        "Computed shortest paths from node 44 of 1271"
       ]
      },
      {
       "output_type": "stream",
       "stream": "stdout",
       "text": [
        "\r",
        "Computed shortest paths from node 45 of 1271"
       ]
      },
      {
       "output_type": "stream",
       "stream": "stdout",
       "text": [
        "\r",
        "Computed shortest paths from node 46 of 1271"
       ]
      },
      {
       "output_type": "stream",
       "stream": "stdout",
       "text": [
        "\r",
        "Computed shortest paths from node 47 of 1271"
       ]
      },
      {
       "output_type": "stream",
       "stream": "stdout",
       "text": [
        "\r",
        "Computed shortest paths from node 48 of 1271"
       ]
      },
      {
       "output_type": "stream",
       "stream": "stdout",
       "text": [
        "\r",
        "Computed shortest paths from node 49 of 1271"
       ]
      },
      {
       "output_type": "stream",
       "stream": "stdout",
       "text": [
        "\r",
        "Computed shortest paths from node 50 of 1271"
       ]
      },
      {
       "output_type": "stream",
       "stream": "stdout",
       "text": [
        "\r",
        "Computed shortest paths from node 51 of 1271"
       ]
      },
      {
       "output_type": "stream",
       "stream": "stdout",
       "text": [
        "\r",
        "Computed shortest paths from node 52 of 1271"
       ]
      },
      {
       "output_type": "stream",
       "stream": "stdout",
       "text": [
        "\r",
        "Computed shortest paths from node 53 of 1271"
       ]
      },
      {
       "output_type": "stream",
       "stream": "stdout",
       "text": [
        "\r",
        "Computed shortest paths from node 54 of 1271"
       ]
      },
      {
       "output_type": "stream",
       "stream": "stdout",
       "text": [
        "\r",
        "Computed shortest paths from node 55 of 1271"
       ]
      },
      {
       "output_type": "stream",
       "stream": "stdout",
       "text": [
        "\r",
        "Computed shortest paths from node 56 of 1271"
       ]
      },
      {
       "output_type": "stream",
       "stream": "stdout",
       "text": [
        "\r",
        "Computed shortest paths from node 57 of 1271"
       ]
      },
      {
       "output_type": "stream",
       "stream": "stdout",
       "text": [
        "\r",
        "Computed shortest paths from node 58 of 1271"
       ]
      },
      {
       "output_type": "stream",
       "stream": "stdout",
       "text": [
        "\r",
        "Computed shortest paths from node 59 of 1271"
       ]
      },
      {
       "output_type": "stream",
       "stream": "stdout",
       "text": [
        "\r",
        "Computed shortest paths from node 60 of 1271"
       ]
      },
      {
       "output_type": "stream",
       "stream": "stdout",
       "text": [
        "\r",
        "Computed shortest paths from node 61 of 1271"
       ]
      },
      {
       "output_type": "stream",
       "stream": "stdout",
       "text": [
        "\r",
        "Computed shortest paths from node 62 of 1271"
       ]
      },
      {
       "output_type": "stream",
       "stream": "stdout",
       "text": [
        "\r",
        "Computed shortest paths from node 63 of 1271"
       ]
      },
      {
       "output_type": "stream",
       "stream": "stdout",
       "text": [
        "\r",
        "Computed shortest paths from node 64 of 1271"
       ]
      },
      {
       "output_type": "stream",
       "stream": "stdout",
       "text": [
        "\r",
        "Computed shortest paths from node 65 of 1271"
       ]
      },
      {
       "output_type": "stream",
       "stream": "stdout",
       "text": [
        "\r",
        "Computed shortest paths from node 66 of 1271"
       ]
      },
      {
       "output_type": "stream",
       "stream": "stdout",
       "text": [
        "\r",
        "Computed shortest paths from node 67 of 1271"
       ]
      },
      {
       "output_type": "stream",
       "stream": "stdout",
       "text": [
        "\r",
        "Computed shortest paths from node 68 of 1271"
       ]
      },
      {
       "output_type": "stream",
       "stream": "stdout",
       "text": [
        "\r",
        "Computed shortest paths from node 69 of 1271"
       ]
      },
      {
       "output_type": "stream",
       "stream": "stdout",
       "text": [
        "\r",
        "Computed shortest paths from node 70 of 1271"
       ]
      },
      {
       "output_type": "stream",
       "stream": "stdout",
       "text": [
        "\r",
        "Computed shortest paths from node 71 of 1271"
       ]
      },
      {
       "output_type": "stream",
       "stream": "stdout",
       "text": [
        "\r",
        "Computed shortest paths from node 72 of 1271"
       ]
      },
      {
       "output_type": "stream",
       "stream": "stdout",
       "text": [
        "\r",
        "Computed shortest paths from node 73 of 1271"
       ]
      },
      {
       "output_type": "stream",
       "stream": "stdout",
       "text": [
        "\r",
        "Computed shortest paths from node 74 of 1271"
       ]
      },
      {
       "output_type": "stream",
       "stream": "stdout",
       "text": [
        "\r",
        "Computed shortest paths from node 75 of 1271"
       ]
      },
      {
       "output_type": "stream",
       "stream": "stdout",
       "text": [
        "\r",
        "Computed shortest paths from node 76 of 1271"
       ]
      },
      {
       "output_type": "stream",
       "stream": "stdout",
       "text": [
        "\r",
        "Computed shortest paths from node 77 of 1271"
       ]
      },
      {
       "output_type": "stream",
       "stream": "stdout",
       "text": [
        "\r",
        "Computed shortest paths from node 78 of 1271"
       ]
      },
      {
       "output_type": "stream",
       "stream": "stdout",
       "text": [
        "\r",
        "Computed shortest paths from node 79 of 1271"
       ]
      },
      {
       "output_type": "stream",
       "stream": "stdout",
       "text": [
        "\r",
        "Computed shortest paths from node 80 of 1271"
       ]
      },
      {
       "output_type": "stream",
       "stream": "stdout",
       "text": [
        "\r",
        "Computed shortest paths from node 81 of 1271"
       ]
      },
      {
       "output_type": "stream",
       "stream": "stdout",
       "text": [
        "\r",
        "Computed shortest paths from node 82 of 1271"
       ]
      },
      {
       "output_type": "stream",
       "stream": "stdout",
       "text": [
        "\r",
        "Computed shortest paths from node 83 of 1271"
       ]
      },
      {
       "output_type": "stream",
       "stream": "stdout",
       "text": [
        "\r",
        "Computed shortest paths from node 84 of 1271"
       ]
      },
      {
       "output_type": "stream",
       "stream": "stdout",
       "text": [
        "\r",
        "Computed shortest paths from node 85 of 1271"
       ]
      },
      {
       "output_type": "stream",
       "stream": "stdout",
       "text": [
        "\r",
        "Computed shortest paths from node 86 of 1271"
       ]
      },
      {
       "output_type": "stream",
       "stream": "stdout",
       "text": [
        "\r",
        "Computed shortest paths from node 87 of 1271"
       ]
      },
      {
       "output_type": "stream",
       "stream": "stdout",
       "text": [
        "\r",
        "Computed shortest paths from node 88 of 1271"
       ]
      },
      {
       "output_type": "stream",
       "stream": "stdout",
       "text": [
        "\r",
        "Computed shortest paths from node 89 of 1271"
       ]
      },
      {
       "output_type": "stream",
       "stream": "stdout",
       "text": [
        "\r",
        "Computed shortest paths from node 90 of 1271"
       ]
      },
      {
       "output_type": "stream",
       "stream": "stdout",
       "text": [
        "\r",
        "Computed shortest paths from node 91 of 1271"
       ]
      },
      {
       "output_type": "stream",
       "stream": "stdout",
       "text": [
        "\r",
        "Computed shortest paths from node 92 of 1271"
       ]
      },
      {
       "output_type": "stream",
       "stream": "stdout",
       "text": [
        "\r",
        "Computed shortest paths from node 93 of 1271"
       ]
      },
      {
       "output_type": "stream",
       "stream": "stdout",
       "text": [
        "\r",
        "Computed shortest paths from node 94 of 1271"
       ]
      },
      {
       "output_type": "stream",
       "stream": "stdout",
       "text": [
        "\r",
        "Computed shortest paths from node 95 of 1271"
       ]
      },
      {
       "output_type": "stream",
       "stream": "stdout",
       "text": [
        "\r",
        "Computed shortest paths from node 96 of 1271"
       ]
      },
      {
       "output_type": "stream",
       "stream": "stdout",
       "text": [
        "\r",
        "Computed shortest paths from node 97 of 1271"
       ]
      },
      {
       "output_type": "stream",
       "stream": "stdout",
       "text": [
        "\r",
        "Computed shortest paths from node 98 of 1271"
       ]
      },
      {
       "output_type": "stream",
       "stream": "stdout",
       "text": [
        "\r",
        "Computed shortest paths from node 99 of 1271"
       ]
      },
      {
       "output_type": "stream",
       "stream": "stdout",
       "text": [
        "\r",
        "Computed shortest paths from node 100 of 1271"
       ]
      },
      {
       "output_type": "stream",
       "stream": "stdout",
       "text": [
        "\r",
        "Computed shortest paths from node 101 of 1271"
       ]
      },
      {
       "output_type": "stream",
       "stream": "stdout",
       "text": [
        "\r",
        "Computed shortest paths from node 102 of 1271"
       ]
      },
      {
       "output_type": "stream",
       "stream": "stdout",
       "text": [
        "\r",
        "Computed shortest paths from node 103 of 1271"
       ]
      },
      {
       "output_type": "stream",
       "stream": "stdout",
       "text": [
        "\r",
        "Computed shortest paths from node 104 of 1271"
       ]
      },
      {
       "output_type": "stream",
       "stream": "stdout",
       "text": [
        "\r",
        "Computed shortest paths from node 105 of 1271"
       ]
      },
      {
       "output_type": "stream",
       "stream": "stdout",
       "text": [
        "\r",
        "Computed shortest paths from node 106 of 1271"
       ]
      },
      {
       "output_type": "stream",
       "stream": "stdout",
       "text": [
        "\r",
        "Computed shortest paths from node 107 of 1271"
       ]
      },
      {
       "output_type": "stream",
       "stream": "stdout",
       "text": [
        "\r",
        "Computed shortest paths from node 108 of 1271"
       ]
      },
      {
       "output_type": "stream",
       "stream": "stdout",
       "text": [
        "\r",
        "Computed shortest paths from node 109 of 1271"
       ]
      },
      {
       "output_type": "stream",
       "stream": "stdout",
       "text": [
        "\r",
        "Computed shortest paths from node 110 of 1271"
       ]
      },
      {
       "output_type": "stream",
       "stream": "stdout",
       "text": [
        "\r",
        "Computed shortest paths from node 111 of 1271"
       ]
      },
      {
       "output_type": "stream",
       "stream": "stdout",
       "text": [
        "\r",
        "Computed shortest paths from node 112 of 1271"
       ]
      },
      {
       "output_type": "stream",
       "stream": "stdout",
       "text": [
        "\r",
        "Computed shortest paths from node 113 of 1271"
       ]
      },
      {
       "output_type": "stream",
       "stream": "stdout",
       "text": [
        "\r",
        "Computed shortest paths from node 114 of 1271"
       ]
      },
      {
       "output_type": "stream",
       "stream": "stdout",
       "text": [
        "\r",
        "Computed shortest paths from node 115 of 1271"
       ]
      },
      {
       "output_type": "stream",
       "stream": "stdout",
       "text": [
        "\r",
        "Computed shortest paths from node 116 of 1271"
       ]
      },
      {
       "output_type": "stream",
       "stream": "stdout",
       "text": [
        "\r",
        "Computed shortest paths from node 117 of 1271"
       ]
      },
      {
       "output_type": "stream",
       "stream": "stdout",
       "text": [
        "\r",
        "Computed shortest paths from node 118 of 1271"
       ]
      },
      {
       "output_type": "stream",
       "stream": "stdout",
       "text": [
        "\r",
        "Computed shortest paths from node 119 of 1271"
       ]
      },
      {
       "output_type": "stream",
       "stream": "stdout",
       "text": [
        "\r",
        "Computed shortest paths from node 120 of 1271"
       ]
      },
      {
       "output_type": "stream",
       "stream": "stdout",
       "text": [
        "\r",
        "Computed shortest paths from node 121 of 1271"
       ]
      },
      {
       "output_type": "stream",
       "stream": "stdout",
       "text": [
        "\r",
        "Computed shortest paths from node 122 of 1271"
       ]
      },
      {
       "output_type": "stream",
       "stream": "stdout",
       "text": [
        "\r",
        "Computed shortest paths from node 123 of 1271"
       ]
      },
      {
       "output_type": "stream",
       "stream": "stdout",
       "text": [
        "\r",
        "Computed shortest paths from node 124 of 1271"
       ]
      },
      {
       "output_type": "stream",
       "stream": "stdout",
       "text": [
        "\r",
        "Computed shortest paths from node 125 of 1271"
       ]
      },
      {
       "output_type": "stream",
       "stream": "stdout",
       "text": [
        "\r",
        "Computed shortest paths from node 126 of 1271"
       ]
      },
      {
       "output_type": "stream",
       "stream": "stdout",
       "text": [
        "\r",
        "Computed shortest paths from node 127 of 1271"
       ]
      },
      {
       "output_type": "stream",
       "stream": "stdout",
       "text": [
        "\r",
        "Computed shortest paths from node 128 of 1271"
       ]
      },
      {
       "output_type": "stream",
       "stream": "stdout",
       "text": [
        "\r",
        "Computed shortest paths from node 129 of 1271"
       ]
      },
      {
       "output_type": "stream",
       "stream": "stdout",
       "text": [
        "\r",
        "Computed shortest paths from node 130 of 1271"
       ]
      },
      {
       "output_type": "stream",
       "stream": "stdout",
       "text": [
        "\r",
        "Computed shortest paths from node 131 of 1271"
       ]
      },
      {
       "output_type": "stream",
       "stream": "stdout",
       "text": [
        "\r",
        "Computed shortest paths from node 132 of 1271"
       ]
      },
      {
       "output_type": "stream",
       "stream": "stdout",
       "text": [
        "\r",
        "Computed shortest paths from node 133 of 1271"
       ]
      },
      {
       "output_type": "stream",
       "stream": "stdout",
       "text": [
        "\r",
        "Computed shortest paths from node 134 of 1271"
       ]
      },
      {
       "output_type": "stream",
       "stream": "stdout",
       "text": [
        "\r",
        "Computed shortest paths from node 135 of 1271"
       ]
      },
      {
       "output_type": "stream",
       "stream": "stdout",
       "text": [
        "\r",
        "Computed shortest paths from node 136 of 1271"
       ]
      },
      {
       "output_type": "stream",
       "stream": "stdout",
       "text": [
        "\r",
        "Computed shortest paths from node 137 of 1271"
       ]
      },
      {
       "output_type": "stream",
       "stream": "stdout",
       "text": [
        "\r",
        "Computed shortest paths from node 138 of 1271"
       ]
      },
      {
       "output_type": "stream",
       "stream": "stdout",
       "text": [
        "\r",
        "Computed shortest paths from node 139 of 1271"
       ]
      },
      {
       "output_type": "stream",
       "stream": "stdout",
       "text": [
        "\r",
        "Computed shortest paths from node 140 of 1271"
       ]
      },
      {
       "output_type": "stream",
       "stream": "stdout",
       "text": [
        "\r",
        "Computed shortest paths from node 141 of 1271"
       ]
      },
      {
       "output_type": "stream",
       "stream": "stdout",
       "text": [
        "\r",
        "Computed shortest paths from node 142 of 1271"
       ]
      },
      {
       "output_type": "stream",
       "stream": "stdout",
       "text": [
        "\r",
        "Computed shortest paths from node 143 of 1271"
       ]
      },
      {
       "output_type": "stream",
       "stream": "stdout",
       "text": [
        "\r",
        "Computed shortest paths from node 144 of 1271"
       ]
      },
      {
       "output_type": "stream",
       "stream": "stdout",
       "text": [
        "\r",
        "Computed shortest paths from node 145 of 1271"
       ]
      },
      {
       "output_type": "stream",
       "stream": "stdout",
       "text": [
        "\r",
        "Computed shortest paths from node 146 of 1271"
       ]
      },
      {
       "output_type": "stream",
       "stream": "stdout",
       "text": [
        "\r",
        "Computed shortest paths from node 147 of 1271"
       ]
      },
      {
       "output_type": "stream",
       "stream": "stdout",
       "text": [
        "\r",
        "Computed shortest paths from node 148 of 1271"
       ]
      },
      {
       "output_type": "stream",
       "stream": "stdout",
       "text": [
        "\r",
        "Computed shortest paths from node 149 of 1271"
       ]
      },
      {
       "output_type": "stream",
       "stream": "stdout",
       "text": [
        "\r",
        "Computed shortest paths from node 150 of 1271"
       ]
      },
      {
       "output_type": "stream",
       "stream": "stdout",
       "text": [
        "\r",
        "Computed shortest paths from node 151 of 1271"
       ]
      },
      {
       "output_type": "stream",
       "stream": "stdout",
       "text": [
        "\r",
        "Computed shortest paths from node 152 of 1271"
       ]
      },
      {
       "output_type": "stream",
       "stream": "stdout",
       "text": [
        "\r",
        "Computed shortest paths from node 153 of 1271"
       ]
      },
      {
       "output_type": "stream",
       "stream": "stdout",
       "text": [
        "\r",
        "Computed shortest paths from node 154 of 1271"
       ]
      },
      {
       "output_type": "stream",
       "stream": "stdout",
       "text": [
        "\r",
        "Computed shortest paths from node 155 of 1271"
       ]
      },
      {
       "output_type": "stream",
       "stream": "stdout",
       "text": [
        "\r",
        "Computed shortest paths from node 156 of 1271"
       ]
      },
      {
       "output_type": "stream",
       "stream": "stdout",
       "text": [
        "\r",
        "Computed shortest paths from node 157 of 1271"
       ]
      },
      {
       "output_type": "stream",
       "stream": "stdout",
       "text": [
        "\r",
        "Computed shortest paths from node 158 of 1271"
       ]
      },
      {
       "output_type": "stream",
       "stream": "stdout",
       "text": [
        "\r",
        "Computed shortest paths from node 159 of 1271"
       ]
      },
      {
       "output_type": "stream",
       "stream": "stdout",
       "text": [
        "\r",
        "Computed shortest paths from node 160 of 1271"
       ]
      },
      {
       "output_type": "stream",
       "stream": "stdout",
       "text": [
        "\r",
        "Computed shortest paths from node 161 of 1271"
       ]
      },
      {
       "output_type": "stream",
       "stream": "stdout",
       "text": [
        "\r",
        "Computed shortest paths from node 162 of 1271"
       ]
      },
      {
       "output_type": "stream",
       "stream": "stdout",
       "text": [
        "\r",
        "Computed shortest paths from node 163 of 1271"
       ]
      },
      {
       "output_type": "stream",
       "stream": "stdout",
       "text": [
        "\r",
        "Computed shortest paths from node 164 of 1271"
       ]
      },
      {
       "output_type": "stream",
       "stream": "stdout",
       "text": [
        "\r",
        "Computed shortest paths from node 165 of 1271"
       ]
      },
      {
       "output_type": "stream",
       "stream": "stdout",
       "text": [
        "\r",
        "Computed shortest paths from node 166 of 1271"
       ]
      },
      {
       "output_type": "stream",
       "stream": "stdout",
       "text": [
        "\r",
        "Computed shortest paths from node 167 of 1271"
       ]
      },
      {
       "output_type": "stream",
       "stream": "stdout",
       "text": [
        "\r",
        "Computed shortest paths from node 168 of 1271"
       ]
      },
      {
       "output_type": "stream",
       "stream": "stdout",
       "text": [
        "\r",
        "Computed shortest paths from node 169 of 1271"
       ]
      },
      {
       "output_type": "stream",
       "stream": "stdout",
       "text": [
        "\r",
        "Computed shortest paths from node 170 of 1271"
       ]
      },
      {
       "output_type": "stream",
       "stream": "stdout",
       "text": [
        "\r",
        "Computed shortest paths from node 171 of 1271"
       ]
      },
      {
       "output_type": "stream",
       "stream": "stdout",
       "text": [
        "\r",
        "Computed shortest paths from node 172 of 1271"
       ]
      },
      {
       "output_type": "stream",
       "stream": "stdout",
       "text": [
        "\r",
        "Computed shortest paths from node 173 of 1271"
       ]
      },
      {
       "output_type": "stream",
       "stream": "stdout",
       "text": [
        "\r",
        "Computed shortest paths from node 174 of 1271"
       ]
      },
      {
       "output_type": "stream",
       "stream": "stdout",
       "text": [
        "\r",
        "Computed shortest paths from node 175 of 1271"
       ]
      },
      {
       "output_type": "stream",
       "stream": "stdout",
       "text": [
        "\r",
        "Computed shortest paths from node 176 of 1271"
       ]
      },
      {
       "output_type": "stream",
       "stream": "stdout",
       "text": [
        "\r",
        "Computed shortest paths from node 177 of 1271"
       ]
      },
      {
       "output_type": "stream",
       "stream": "stdout",
       "text": [
        "\r",
        "Computed shortest paths from node 178 of 1271"
       ]
      },
      {
       "output_type": "stream",
       "stream": "stdout",
       "text": [
        "\r",
        "Computed shortest paths from node 179 of 1271"
       ]
      },
      {
       "output_type": "stream",
       "stream": "stdout",
       "text": [
        "\r",
        "Computed shortest paths from node 180 of 1271"
       ]
      },
      {
       "output_type": "stream",
       "stream": "stdout",
       "text": [
        "\r",
        "Computed shortest paths from node 181 of 1271"
       ]
      },
      {
       "output_type": "stream",
       "stream": "stdout",
       "text": [
        "\r",
        "Computed shortest paths from node 182 of 1271"
       ]
      },
      {
       "output_type": "stream",
       "stream": "stdout",
       "text": [
        "\r",
        "Computed shortest paths from node 183 of 1271"
       ]
      },
      {
       "output_type": "stream",
       "stream": "stdout",
       "text": [
        "\r",
        "Computed shortest paths from node 184 of 1271"
       ]
      },
      {
       "output_type": "stream",
       "stream": "stdout",
       "text": [
        "\r",
        "Computed shortest paths from node 185 of 1271"
       ]
      },
      {
       "output_type": "stream",
       "stream": "stdout",
       "text": [
        "\r",
        "Computed shortest paths from node 186 of 1271"
       ]
      },
      {
       "output_type": "stream",
       "stream": "stdout",
       "text": [
        "\r",
        "Computed shortest paths from node 187 of 1271"
       ]
      },
      {
       "output_type": "stream",
       "stream": "stdout",
       "text": [
        "\r",
        "Computed shortest paths from node 188 of 1271"
       ]
      },
      {
       "output_type": "stream",
       "stream": "stdout",
       "text": [
        "\r",
        "Computed shortest paths from node 189 of 1271"
       ]
      },
      {
       "output_type": "stream",
       "stream": "stdout",
       "text": [
        "\r",
        "Computed shortest paths from node 190 of 1271"
       ]
      },
      {
       "output_type": "stream",
       "stream": "stdout",
       "text": [
        "\r",
        "Computed shortest paths from node 191 of 1271"
       ]
      },
      {
       "output_type": "stream",
       "stream": "stdout",
       "text": [
        "\r",
        "Computed shortest paths from node 192 of 1271"
       ]
      },
      {
       "output_type": "stream",
       "stream": "stdout",
       "text": [
        "\r",
        "Computed shortest paths from node 193 of 1271"
       ]
      },
      {
       "output_type": "stream",
       "stream": "stdout",
       "text": [
        "\r",
        "Computed shortest paths from node 194 of 1271"
       ]
      },
      {
       "output_type": "stream",
       "stream": "stdout",
       "text": [
        "\r",
        "Computed shortest paths from node 195 of 1271"
       ]
      },
      {
       "output_type": "stream",
       "stream": "stdout",
       "text": [
        "\r",
        "Computed shortest paths from node 196 of 1271"
       ]
      },
      {
       "output_type": "stream",
       "stream": "stdout",
       "text": [
        "\r",
        "Computed shortest paths from node 197 of 1271"
       ]
      },
      {
       "output_type": "stream",
       "stream": "stdout",
       "text": [
        "\r",
        "Computed shortest paths from node 198 of 1271"
       ]
      },
      {
       "output_type": "stream",
       "stream": "stdout",
       "text": [
        "\r",
        "Computed shortest paths from node 199 of 1271"
       ]
      },
      {
       "output_type": "stream",
       "stream": "stdout",
       "text": [
        "\r",
        "Computed shortest paths from node 200 of 1271"
       ]
      },
      {
       "output_type": "stream",
       "stream": "stdout",
       "text": [
        "\r",
        "Computed shortest paths from node 201 of 1271"
       ]
      },
      {
       "output_type": "stream",
       "stream": "stdout",
       "text": [
        "\r",
        "Computed shortest paths from node 202 of 1271"
       ]
      },
      {
       "output_type": "stream",
       "stream": "stdout",
       "text": [
        "\r",
        "Computed shortest paths from node 203 of 1271"
       ]
      },
      {
       "output_type": "stream",
       "stream": "stdout",
       "text": [
        "\r",
        "Computed shortest paths from node 204 of 1271"
       ]
      },
      {
       "output_type": "stream",
       "stream": "stdout",
       "text": [
        "\r",
        "Computed shortest paths from node 205 of 1271"
       ]
      },
      {
       "output_type": "stream",
       "stream": "stdout",
       "text": [
        "\r",
        "Computed shortest paths from node 206 of 1271"
       ]
      },
      {
       "output_type": "stream",
       "stream": "stdout",
       "text": [
        "\r",
        "Computed shortest paths from node 207 of 1271"
       ]
      },
      {
       "output_type": "stream",
       "stream": "stdout",
       "text": [
        "\r",
        "Computed shortest paths from node 208 of 1271"
       ]
      },
      {
       "output_type": "stream",
       "stream": "stdout",
       "text": [
        "\r",
        "Computed shortest paths from node 209 of 1271"
       ]
      },
      {
       "output_type": "stream",
       "stream": "stdout",
       "text": [
        "\r",
        "Computed shortest paths from node 210 of 1271"
       ]
      },
      {
       "output_type": "stream",
       "stream": "stdout",
       "text": [
        "\r",
        "Computed shortest paths from node 211 of 1271"
       ]
      },
      {
       "output_type": "stream",
       "stream": "stdout",
       "text": [
        "\r",
        "Computed shortest paths from node 212 of 1271"
       ]
      },
      {
       "output_type": "stream",
       "stream": "stdout",
       "text": [
        "\r",
        "Computed shortest paths from node 213 of 1271"
       ]
      },
      {
       "output_type": "stream",
       "stream": "stdout",
       "text": [
        "\r",
        "Computed shortest paths from node 214 of 1271"
       ]
      },
      {
       "output_type": "stream",
       "stream": "stdout",
       "text": [
        "\r",
        "Computed shortest paths from node 215 of 1271"
       ]
      },
      {
       "output_type": "stream",
       "stream": "stdout",
       "text": [
        "\r",
        "Computed shortest paths from node 216 of 1271"
       ]
      },
      {
       "output_type": "stream",
       "stream": "stdout",
       "text": [
        "\r",
        "Computed shortest paths from node 217 of 1271"
       ]
      },
      {
       "output_type": "stream",
       "stream": "stdout",
       "text": [
        "\r",
        "Computed shortest paths from node 218 of 1271"
       ]
      },
      {
       "output_type": "stream",
       "stream": "stdout",
       "text": [
        "\r",
        "Computed shortest paths from node 219 of 1271"
       ]
      },
      {
       "output_type": "stream",
       "stream": "stdout",
       "text": [
        "\r",
        "Computed shortest paths from node 220 of 1271"
       ]
      },
      {
       "output_type": "stream",
       "stream": "stdout",
       "text": [
        "\r",
        "Computed shortest paths from node 221 of 1271"
       ]
      },
      {
       "output_type": "stream",
       "stream": "stdout",
       "text": [
        "\r",
        "Computed shortest paths from node 222 of 1271"
       ]
      },
      {
       "output_type": "stream",
       "stream": "stdout",
       "text": [
        "\r",
        "Computed shortest paths from node 223 of 1271"
       ]
      },
      {
       "output_type": "stream",
       "stream": "stdout",
       "text": [
        "\r",
        "Computed shortest paths from node 224 of 1271"
       ]
      },
      {
       "output_type": "stream",
       "stream": "stdout",
       "text": [
        "\r",
        "Computed shortest paths from node 225 of 1271"
       ]
      },
      {
       "output_type": "stream",
       "stream": "stdout",
       "text": [
        "\r",
        "Computed shortest paths from node 226 of 1271"
       ]
      },
      {
       "output_type": "stream",
       "stream": "stdout",
       "text": [
        "\r",
        "Computed shortest paths from node 227 of 1271"
       ]
      },
      {
       "output_type": "stream",
       "stream": "stdout",
       "text": [
        "\r",
        "Computed shortest paths from node 228 of 1271"
       ]
      },
      {
       "output_type": "stream",
       "stream": "stdout",
       "text": [
        "\r",
        "Computed shortest paths from node 229 of 1271"
       ]
      },
      {
       "output_type": "stream",
       "stream": "stdout",
       "text": [
        "\r",
        "Computed shortest paths from node 230 of 1271"
       ]
      },
      {
       "output_type": "stream",
       "stream": "stdout",
       "text": [
        "\r",
        "Computed shortest paths from node 231 of 1271"
       ]
      },
      {
       "output_type": "stream",
       "stream": "stdout",
       "text": [
        "\r",
        "Computed shortest paths from node 232 of 1271"
       ]
      },
      {
       "output_type": "stream",
       "stream": "stdout",
       "text": [
        "\r",
        "Computed shortest paths from node 233 of 1271"
       ]
      },
      {
       "output_type": "stream",
       "stream": "stdout",
       "text": [
        "\r",
        "Computed shortest paths from node 234 of 1271"
       ]
      },
      {
       "output_type": "stream",
       "stream": "stdout",
       "text": [
        "\r",
        "Computed shortest paths from node 235 of 1271"
       ]
      },
      {
       "output_type": "stream",
       "stream": "stdout",
       "text": [
        "\r",
        "Computed shortest paths from node 236 of 1271"
       ]
      },
      {
       "output_type": "stream",
       "stream": "stdout",
       "text": [
        "\r",
        "Computed shortest paths from node 237 of 1271"
       ]
      },
      {
       "output_type": "stream",
       "stream": "stdout",
       "text": [
        "\r",
        "Computed shortest paths from node 238 of 1271"
       ]
      },
      {
       "output_type": "stream",
       "stream": "stdout",
       "text": [
        "\r",
        "Computed shortest paths from node 239 of 1271"
       ]
      },
      {
       "output_type": "stream",
       "stream": "stdout",
       "text": [
        "\r",
        "Computed shortest paths from node 240 of 1271"
       ]
      },
      {
       "output_type": "stream",
       "stream": "stdout",
       "text": [
        "\r",
        "Computed shortest paths from node 241 of 1271"
       ]
      },
      {
       "output_type": "stream",
       "stream": "stdout",
       "text": [
        "\r",
        "Computed shortest paths from node 242 of 1271"
       ]
      },
      {
       "output_type": "stream",
       "stream": "stdout",
       "text": [
        "\r",
        "Computed shortest paths from node 243 of 1271"
       ]
      },
      {
       "output_type": "stream",
       "stream": "stdout",
       "text": [
        "\r",
        "Computed shortest paths from node 244 of 1271"
       ]
      },
      {
       "output_type": "stream",
       "stream": "stdout",
       "text": [
        "\r",
        "Computed shortest paths from node 245 of 1271"
       ]
      },
      {
       "output_type": "stream",
       "stream": "stdout",
       "text": [
        "\r",
        "Computed shortest paths from node 246 of 1271"
       ]
      },
      {
       "output_type": "stream",
       "stream": "stdout",
       "text": [
        "\r",
        "Computed shortest paths from node 247 of 1271"
       ]
      },
      {
       "output_type": "stream",
       "stream": "stdout",
       "text": [
        "\r",
        "Computed shortest paths from node 248 of 1271"
       ]
      },
      {
       "output_type": "stream",
       "stream": "stdout",
       "text": [
        "\r",
        "Computed shortest paths from node 249 of 1271"
       ]
      },
      {
       "output_type": "stream",
       "stream": "stdout",
       "text": [
        "\r",
        "Computed shortest paths from node 250 of 1271"
       ]
      },
      {
       "output_type": "stream",
       "stream": "stdout",
       "text": [
        "\r",
        "Computed shortest paths from node 251 of 1271"
       ]
      },
      {
       "output_type": "stream",
       "stream": "stdout",
       "text": [
        "\r",
        "Computed shortest paths from node 252 of 1271"
       ]
      },
      {
       "output_type": "stream",
       "stream": "stdout",
       "text": [
        "\r",
        "Computed shortest paths from node 253 of 1271"
       ]
      },
      {
       "output_type": "stream",
       "stream": "stdout",
       "text": [
        "\r",
        "Computed shortest paths from node 254 of 1271"
       ]
      },
      {
       "output_type": "stream",
       "stream": "stdout",
       "text": [
        "\r",
        "Computed shortest paths from node 255 of 1271"
       ]
      },
      {
       "output_type": "stream",
       "stream": "stdout",
       "text": [
        "\r",
        "Computed shortest paths from node 256 of 1271"
       ]
      },
      {
       "output_type": "stream",
       "stream": "stdout",
       "text": [
        "\r",
        "Computed shortest paths from node 257 of 1271"
       ]
      },
      {
       "output_type": "stream",
       "stream": "stdout",
       "text": [
        "\r",
        "Computed shortest paths from node 258 of 1271"
       ]
      },
      {
       "output_type": "stream",
       "stream": "stdout",
       "text": [
        "\r",
        "Computed shortest paths from node 259 of 1271"
       ]
      },
      {
       "output_type": "stream",
       "stream": "stdout",
       "text": [
        "\r",
        "Computed shortest paths from node 260 of 1271"
       ]
      },
      {
       "output_type": "stream",
       "stream": "stdout",
       "text": [
        "\r",
        "Computed shortest paths from node 261 of 1271"
       ]
      },
      {
       "output_type": "stream",
       "stream": "stdout",
       "text": [
        "\r",
        "Computed shortest paths from node 262 of 1271"
       ]
      },
      {
       "output_type": "stream",
       "stream": "stdout",
       "text": [
        "\r",
        "Computed shortest paths from node 263 of 1271"
       ]
      },
      {
       "output_type": "stream",
       "stream": "stdout",
       "text": [
        "\r",
        "Computed shortest paths from node 264 of 1271"
       ]
      },
      {
       "output_type": "stream",
       "stream": "stdout",
       "text": [
        "\r",
        "Computed shortest paths from node 265 of 1271"
       ]
      },
      {
       "output_type": "stream",
       "stream": "stdout",
       "text": [
        "\r",
        "Computed shortest paths from node 266 of 1271"
       ]
      },
      {
       "output_type": "stream",
       "stream": "stdout",
       "text": [
        "\r",
        "Computed shortest paths from node 267 of 1271"
       ]
      },
      {
       "output_type": "stream",
       "stream": "stdout",
       "text": [
        "\r",
        "Computed shortest paths from node 268 of 1271"
       ]
      },
      {
       "output_type": "stream",
       "stream": "stdout",
       "text": [
        "\r",
        "Computed shortest paths from node 269 of 1271"
       ]
      },
      {
       "output_type": "stream",
       "stream": "stdout",
       "text": [
        "\r",
        "Computed shortest paths from node 270 of 1271"
       ]
      },
      {
       "output_type": "stream",
       "stream": "stdout",
       "text": [
        "\r",
        "Computed shortest paths from node 271 of 1271"
       ]
      },
      {
       "output_type": "stream",
       "stream": "stdout",
       "text": [
        "\r",
        "Computed shortest paths from node 272 of 1271"
       ]
      },
      {
       "output_type": "stream",
       "stream": "stdout",
       "text": [
        "\r",
        "Computed shortest paths from node 273 of 1271"
       ]
      },
      {
       "output_type": "stream",
       "stream": "stdout",
       "text": [
        "\r",
        "Computed shortest paths from node 274 of 1271"
       ]
      },
      {
       "output_type": "stream",
       "stream": "stdout",
       "text": [
        "\r",
        "Computed shortest paths from node 275 of 1271"
       ]
      },
      {
       "output_type": "stream",
       "stream": "stdout",
       "text": [
        "\r",
        "Computed shortest paths from node 276 of 1271"
       ]
      },
      {
       "output_type": "stream",
       "stream": "stdout",
       "text": [
        "\r",
        "Computed shortest paths from node 277 of 1271"
       ]
      },
      {
       "output_type": "stream",
       "stream": "stdout",
       "text": [
        "\r",
        "Computed shortest paths from node 278 of 1271"
       ]
      },
      {
       "output_type": "stream",
       "stream": "stdout",
       "text": [
        "\r",
        "Computed shortest paths from node 279 of 1271"
       ]
      },
      {
       "output_type": "stream",
       "stream": "stdout",
       "text": [
        "\r",
        "Computed shortest paths from node 280 of 1271"
       ]
      },
      {
       "output_type": "stream",
       "stream": "stdout",
       "text": [
        "\r",
        "Computed shortest paths from node 281 of 1271"
       ]
      },
      {
       "output_type": "stream",
       "stream": "stdout",
       "text": [
        "\r",
        "Computed shortest paths from node 282 of 1271"
       ]
      },
      {
       "output_type": "stream",
       "stream": "stdout",
       "text": [
        "\r",
        "Computed shortest paths from node 283 of 1271"
       ]
      },
      {
       "output_type": "stream",
       "stream": "stdout",
       "text": [
        "\r",
        "Computed shortest paths from node 284 of 1271"
       ]
      },
      {
       "output_type": "stream",
       "stream": "stdout",
       "text": [
        "\r",
        "Computed shortest paths from node 285 of 1271"
       ]
      },
      {
       "output_type": "stream",
       "stream": "stdout",
       "text": [
        "\r",
        "Computed shortest paths from node 286 of 1271"
       ]
      },
      {
       "output_type": "stream",
       "stream": "stdout",
       "text": [
        "\r",
        "Computed shortest paths from node 287 of 1271"
       ]
      },
      {
       "output_type": "stream",
       "stream": "stdout",
       "text": [
        "\r",
        "Computed shortest paths from node 288 of 1271"
       ]
      },
      {
       "output_type": "stream",
       "stream": "stdout",
       "text": [
        "\r",
        "Computed shortest paths from node 289 of 1271"
       ]
      },
      {
       "output_type": "stream",
       "stream": "stdout",
       "text": [
        "\r",
        "Computed shortest paths from node 290 of 1271"
       ]
      },
      {
       "output_type": "stream",
       "stream": "stdout",
       "text": [
        "\r",
        "Computed shortest paths from node 291 of 1271"
       ]
      },
      {
       "output_type": "stream",
       "stream": "stdout",
       "text": [
        "\r",
        "Computed shortest paths from node 292 of 1271"
       ]
      },
      {
       "output_type": "stream",
       "stream": "stdout",
       "text": [
        "\r",
        "Computed shortest paths from node 293 of 1271"
       ]
      },
      {
       "output_type": "stream",
       "stream": "stdout",
       "text": [
        "\r",
        "Computed shortest paths from node 294 of 1271"
       ]
      },
      {
       "output_type": "stream",
       "stream": "stdout",
       "text": [
        "\r",
        "Computed shortest paths from node 295 of 1271"
       ]
      },
      {
       "output_type": "stream",
       "stream": "stdout",
       "text": [
        "\r",
        "Computed shortest paths from node 296 of 1271"
       ]
      },
      {
       "output_type": "stream",
       "stream": "stdout",
       "text": [
        "\r",
        "Computed shortest paths from node 297 of 1271"
       ]
      },
      {
       "output_type": "stream",
       "stream": "stdout",
       "text": [
        "\r",
        "Computed shortest paths from node 298 of 1271"
       ]
      },
      {
       "output_type": "stream",
       "stream": "stdout",
       "text": [
        "\r",
        "Computed shortest paths from node 299 of 1271"
       ]
      },
      {
       "output_type": "stream",
       "stream": "stdout",
       "text": [
        "\r",
        "Computed shortest paths from node 300 of 1271"
       ]
      },
      {
       "output_type": "stream",
       "stream": "stdout",
       "text": [
        "\r",
        "Computed shortest paths from node 301 of 1271"
       ]
      },
      {
       "output_type": "stream",
       "stream": "stdout",
       "text": [
        "\r",
        "Computed shortest paths from node 302 of 1271"
       ]
      },
      {
       "output_type": "stream",
       "stream": "stdout",
       "text": [
        "\r",
        "Computed shortest paths from node 303 of 1271"
       ]
      },
      {
       "output_type": "stream",
       "stream": "stdout",
       "text": [
        "\r",
        "Computed shortest paths from node 304 of 1271"
       ]
      },
      {
       "output_type": "stream",
       "stream": "stdout",
       "text": [
        "\r",
        "Computed shortest paths from node 305 of 1271"
       ]
      },
      {
       "output_type": "stream",
       "stream": "stdout",
       "text": [
        "\r",
        "Computed shortest paths from node 306 of 1271"
       ]
      },
      {
       "output_type": "stream",
       "stream": "stdout",
       "text": [
        "\r",
        "Computed shortest paths from node 307 of 1271"
       ]
      },
      {
       "output_type": "stream",
       "stream": "stdout",
       "text": [
        "\r",
        "Computed shortest paths from node 308 of 1271"
       ]
      },
      {
       "output_type": "stream",
       "stream": "stdout",
       "text": [
        "\r",
        "Computed shortest paths from node 309 of 1271"
       ]
      },
      {
       "output_type": "stream",
       "stream": "stdout",
       "text": [
        "\r",
        "Computed shortest paths from node 310 of 1271"
       ]
      },
      {
       "output_type": "stream",
       "stream": "stdout",
       "text": [
        "\r",
        "Computed shortest paths from node 311 of 1271"
       ]
      },
      {
       "output_type": "stream",
       "stream": "stdout",
       "text": [
        "\r",
        "Computed shortest paths from node 312 of 1271"
       ]
      },
      {
       "output_type": "stream",
       "stream": "stdout",
       "text": [
        "\r",
        "Computed shortest paths from node 313 of 1271"
       ]
      },
      {
       "output_type": "stream",
       "stream": "stdout",
       "text": [
        "\r",
        "Computed shortest paths from node 314 of 1271"
       ]
      },
      {
       "output_type": "stream",
       "stream": "stdout",
       "text": [
        "\r",
        "Computed shortest paths from node 315 of 1271"
       ]
      },
      {
       "output_type": "stream",
       "stream": "stdout",
       "text": [
        "\r",
        "Computed shortest paths from node 316 of 1271"
       ]
      },
      {
       "output_type": "stream",
       "stream": "stdout",
       "text": [
        "\r",
        "Computed shortest paths from node 317 of 1271"
       ]
      },
      {
       "output_type": "stream",
       "stream": "stdout",
       "text": [
        "\r",
        "Computed shortest paths from node 318 of 1271"
       ]
      },
      {
       "output_type": "stream",
       "stream": "stdout",
       "text": [
        "\r",
        "Computed shortest paths from node 319 of 1271"
       ]
      },
      {
       "output_type": "stream",
       "stream": "stdout",
       "text": [
        "\r",
        "Computed shortest paths from node 320 of 1271"
       ]
      },
      {
       "output_type": "stream",
       "stream": "stdout",
       "text": [
        "\r",
        "Computed shortest paths from node 321 of 1271"
       ]
      },
      {
       "output_type": "stream",
       "stream": "stdout",
       "text": [
        "\r",
        "Computed shortest paths from node 322 of 1271"
       ]
      },
      {
       "output_type": "stream",
       "stream": "stdout",
       "text": [
        "\r",
        "Computed shortest paths from node 323 of 1271"
       ]
      },
      {
       "output_type": "stream",
       "stream": "stdout",
       "text": [
        "\r",
        "Computed shortest paths from node 324 of 1271"
       ]
      },
      {
       "output_type": "stream",
       "stream": "stdout",
       "text": [
        "\r",
        "Computed shortest paths from node 325 of 1271"
       ]
      },
      {
       "output_type": "stream",
       "stream": "stdout",
       "text": [
        "\r",
        "Computed shortest paths from node 326 of 1271"
       ]
      },
      {
       "output_type": "stream",
       "stream": "stdout",
       "text": [
        "\r",
        "Computed shortest paths from node 327 of 1271"
       ]
      },
      {
       "output_type": "stream",
       "stream": "stdout",
       "text": [
        "\r",
        "Computed shortest paths from node 328 of 1271"
       ]
      },
      {
       "output_type": "stream",
       "stream": "stdout",
       "text": [
        "\r",
        "Computed shortest paths from node 329 of 1271"
       ]
      },
      {
       "output_type": "stream",
       "stream": "stdout",
       "text": [
        "\r",
        "Computed shortest paths from node 330 of 1271"
       ]
      },
      {
       "output_type": "stream",
       "stream": "stdout",
       "text": [
        "\r",
        "Computed shortest paths from node 331 of 1271"
       ]
      },
      {
       "output_type": "stream",
       "stream": "stdout",
       "text": [
        "\r",
        "Computed shortest paths from node 332 of 1271"
       ]
      },
      {
       "output_type": "stream",
       "stream": "stdout",
       "text": [
        "\r",
        "Computed shortest paths from node 333 of 1271"
       ]
      },
      {
       "output_type": "stream",
       "stream": "stdout",
       "text": [
        "\r",
        "Computed shortest paths from node 334 of 1271"
       ]
      },
      {
       "output_type": "stream",
       "stream": "stdout",
       "text": [
        "\r",
        "Computed shortest paths from node 335 of 1271"
       ]
      },
      {
       "output_type": "stream",
       "stream": "stdout",
       "text": [
        "\r",
        "Computed shortest paths from node 336 of 1271"
       ]
      },
      {
       "output_type": "stream",
       "stream": "stdout",
       "text": [
        "\r",
        "Computed shortest paths from node 337 of 1271"
       ]
      },
      {
       "output_type": "stream",
       "stream": "stdout",
       "text": [
        "\r",
        "Computed shortest paths from node 338 of 1271"
       ]
      },
      {
       "output_type": "stream",
       "stream": "stdout",
       "text": [
        "\r",
        "Computed shortest paths from node 339 of 1271"
       ]
      },
      {
       "output_type": "stream",
       "stream": "stdout",
       "text": [
        "\r",
        "Computed shortest paths from node 340 of 1271"
       ]
      },
      {
       "output_type": "stream",
       "stream": "stdout",
       "text": [
        "\r",
        "Computed shortest paths from node 341 of 1271"
       ]
      },
      {
       "output_type": "stream",
       "stream": "stdout",
       "text": [
        "\r",
        "Computed shortest paths from node 342 of 1271"
       ]
      },
      {
       "output_type": "stream",
       "stream": "stdout",
       "text": [
        "\r",
        "Computed shortest paths from node 343 of 1271"
       ]
      },
      {
       "output_type": "stream",
       "stream": "stdout",
       "text": [
        "\r",
        "Computed shortest paths from node 344 of 1271"
       ]
      },
      {
       "output_type": "stream",
       "stream": "stdout",
       "text": [
        "\r",
        "Computed shortest paths from node 345 of 1271"
       ]
      },
      {
       "output_type": "stream",
       "stream": "stdout",
       "text": [
        "\r",
        "Computed shortest paths from node 346 of 1271"
       ]
      },
      {
       "output_type": "stream",
       "stream": "stdout",
       "text": [
        "\r",
        "Computed shortest paths from node 347 of 1271"
       ]
      },
      {
       "output_type": "stream",
       "stream": "stdout",
       "text": [
        "\r",
        "Computed shortest paths from node 348 of 1271"
       ]
      },
      {
       "output_type": "stream",
       "stream": "stdout",
       "text": [
        "\r",
        "Computed shortest paths from node 349 of 1271"
       ]
      },
      {
       "output_type": "stream",
       "stream": "stdout",
       "text": [
        "\r",
        "Computed shortest paths from node 350 of 1271"
       ]
      },
      {
       "output_type": "stream",
       "stream": "stdout",
       "text": [
        "\r",
        "Computed shortest paths from node 351 of 1271"
       ]
      },
      {
       "output_type": "stream",
       "stream": "stdout",
       "text": [
        "\r",
        "Computed shortest paths from node 352 of 1271"
       ]
      },
      {
       "output_type": "stream",
       "stream": "stdout",
       "text": [
        "\r",
        "Computed shortest paths from node 353 of 1271"
       ]
      },
      {
       "output_type": "stream",
       "stream": "stdout",
       "text": [
        "\r",
        "Computed shortest paths from node 354 of 1271"
       ]
      },
      {
       "output_type": "stream",
       "stream": "stdout",
       "text": [
        "\r",
        "Computed shortest paths from node 355 of 1271"
       ]
      },
      {
       "output_type": "stream",
       "stream": "stdout",
       "text": [
        "\r",
        "Computed shortest paths from node 356 of 1271"
       ]
      },
      {
       "output_type": "stream",
       "stream": "stdout",
       "text": [
        "\r",
        "Computed shortest paths from node 357 of 1271"
       ]
      },
      {
       "output_type": "stream",
       "stream": "stdout",
       "text": [
        "\r",
        "Computed shortest paths from node 358 of 1271"
       ]
      },
      {
       "output_type": "stream",
       "stream": "stdout",
       "text": [
        "\r",
        "Computed shortest paths from node 359 of 1271"
       ]
      },
      {
       "output_type": "stream",
       "stream": "stdout",
       "text": [
        "\r",
        "Computed shortest paths from node 360 of 1271"
       ]
      },
      {
       "output_type": "stream",
       "stream": "stdout",
       "text": [
        "\r",
        "Computed shortest paths from node 361 of 1271"
       ]
      },
      {
       "output_type": "stream",
       "stream": "stdout",
       "text": [
        "\r",
        "Computed shortest paths from node 362 of 1271"
       ]
      },
      {
       "output_type": "stream",
       "stream": "stdout",
       "text": [
        "\r",
        "Computed shortest paths from node 363 of 1271"
       ]
      },
      {
       "output_type": "stream",
       "stream": "stdout",
       "text": [
        "\r",
        "Computed shortest paths from node 364 of 1271"
       ]
      },
      {
       "output_type": "stream",
       "stream": "stdout",
       "text": [
        "\r",
        "Computed shortest paths from node 365 of 1271"
       ]
      },
      {
       "output_type": "stream",
       "stream": "stdout",
       "text": [
        "\r",
        "Computed shortest paths from node 366 of 1271"
       ]
      },
      {
       "output_type": "stream",
       "stream": "stdout",
       "text": [
        "\r",
        "Computed shortest paths from node 367 of 1271"
       ]
      },
      {
       "output_type": "stream",
       "stream": "stdout",
       "text": [
        "\r",
        "Computed shortest paths from node 368 of 1271"
       ]
      },
      {
       "output_type": "stream",
       "stream": "stdout",
       "text": [
        "\r",
        "Computed shortest paths from node 369 of 1271"
       ]
      },
      {
       "output_type": "stream",
       "stream": "stdout",
       "text": [
        "\r",
        "Computed shortest paths from node 370 of 1271"
       ]
      },
      {
       "output_type": "stream",
       "stream": "stdout",
       "text": [
        "\r",
        "Computed shortest paths from node 371 of 1271"
       ]
      },
      {
       "output_type": "stream",
       "stream": "stdout",
       "text": [
        "\r",
        "Computed shortest paths from node 372 of 1271"
       ]
      },
      {
       "output_type": "stream",
       "stream": "stdout",
       "text": [
        "\r",
        "Computed shortest paths from node 373 of 1271"
       ]
      },
      {
       "output_type": "stream",
       "stream": "stdout",
       "text": [
        "\r",
        "Computed shortest paths from node 374 of 1271"
       ]
      },
      {
       "output_type": "stream",
       "stream": "stdout",
       "text": [
        "\r",
        "Computed shortest paths from node 375 of 1271"
       ]
      },
      {
       "output_type": "stream",
       "stream": "stdout",
       "text": [
        "\r",
        "Computed shortest paths from node 376 of 1271"
       ]
      },
      {
       "output_type": "stream",
       "stream": "stdout",
       "text": [
        "\r",
        "Computed shortest paths from node 377 of 1271"
       ]
      },
      {
       "output_type": "stream",
       "stream": "stdout",
       "text": [
        "\r",
        "Computed shortest paths from node 378 of 1271"
       ]
      },
      {
       "output_type": "stream",
       "stream": "stdout",
       "text": [
        "\r",
        "Computed shortest paths from node 379 of 1271"
       ]
      },
      {
       "output_type": "stream",
       "stream": "stdout",
       "text": [
        "\r",
        "Computed shortest paths from node 380 of 1271"
       ]
      },
      {
       "output_type": "stream",
       "stream": "stdout",
       "text": [
        "\r",
        "Computed shortest paths from node 381 of 1271"
       ]
      },
      {
       "output_type": "stream",
       "stream": "stdout",
       "text": [
        "\r",
        "Computed shortest paths from node 382 of 1271"
       ]
      },
      {
       "output_type": "stream",
       "stream": "stdout",
       "text": [
        "\r",
        "Computed shortest paths from node 383 of 1271"
       ]
      },
      {
       "output_type": "stream",
       "stream": "stdout",
       "text": [
        "\r",
        "Computed shortest paths from node 384 of 1271"
       ]
      },
      {
       "output_type": "stream",
       "stream": "stdout",
       "text": [
        "\r",
        "Computed shortest paths from node 385 of 1271"
       ]
      },
      {
       "output_type": "stream",
       "stream": "stdout",
       "text": [
        "\r",
        "Computed shortest paths from node 386 of 1271"
       ]
      },
      {
       "output_type": "stream",
       "stream": "stdout",
       "text": [
        "\r",
        "Computed shortest paths from node 387 of 1271"
       ]
      },
      {
       "output_type": "stream",
       "stream": "stdout",
       "text": [
        "\r",
        "Computed shortest paths from node 388 of 1271"
       ]
      },
      {
       "output_type": "stream",
       "stream": "stdout",
       "text": [
        "\r",
        "Computed shortest paths from node 389 of 1271"
       ]
      },
      {
       "output_type": "stream",
       "stream": "stdout",
       "text": [
        "\r",
        "Computed shortest paths from node 390 of 1271"
       ]
      },
      {
       "output_type": "stream",
       "stream": "stdout",
       "text": [
        "\r",
        "Computed shortest paths from node 391 of 1271"
       ]
      },
      {
       "output_type": "stream",
       "stream": "stdout",
       "text": [
        "\r",
        "Computed shortest paths from node 392 of 1271"
       ]
      },
      {
       "output_type": "stream",
       "stream": "stdout",
       "text": [
        "\r",
        "Computed shortest paths from node 393 of 1271"
       ]
      },
      {
       "output_type": "stream",
       "stream": "stdout",
       "text": [
        "\r",
        "Computed shortest paths from node 394 of 1271"
       ]
      },
      {
       "output_type": "stream",
       "stream": "stdout",
       "text": [
        "\r",
        "Computed shortest paths from node 395 of 1271"
       ]
      },
      {
       "output_type": "stream",
       "stream": "stdout",
       "text": [
        "\r",
        "Computed shortest paths from node 396 of 1271"
       ]
      },
      {
       "output_type": "stream",
       "stream": "stdout",
       "text": [
        "\r",
        "Computed shortest paths from node 397 of 1271"
       ]
      },
      {
       "output_type": "stream",
       "stream": "stdout",
       "text": [
        "\r",
        "Computed shortest paths from node 398 of 1271"
       ]
      },
      {
       "output_type": "stream",
       "stream": "stdout",
       "text": [
        "\r",
        "Computed shortest paths from node 399 of 1271"
       ]
      },
      {
       "output_type": "stream",
       "stream": "stdout",
       "text": [
        "\r",
        "Computed shortest paths from node 400 of 1271"
       ]
      },
      {
       "output_type": "stream",
       "stream": "stdout",
       "text": [
        "\r",
        "Computed shortest paths from node 401 of 1271"
       ]
      },
      {
       "output_type": "stream",
       "stream": "stdout",
       "text": [
        "\r",
        "Computed shortest paths from node 402 of 1271"
       ]
      },
      {
       "output_type": "stream",
       "stream": "stdout",
       "text": [
        "\r",
        "Computed shortest paths from node 403 of 1271"
       ]
      },
      {
       "output_type": "stream",
       "stream": "stdout",
       "text": [
        "\r",
        "Computed shortest paths from node 404 of 1271"
       ]
      },
      {
       "output_type": "stream",
       "stream": "stdout",
       "text": [
        "\r",
        "Computed shortest paths from node 405 of 1271"
       ]
      },
      {
       "output_type": "stream",
       "stream": "stdout",
       "text": [
        "\r",
        "Computed shortest paths from node 406 of 1271"
       ]
      },
      {
       "output_type": "stream",
       "stream": "stdout",
       "text": [
        "\r",
        "Computed shortest paths from node 407 of 1271"
       ]
      },
      {
       "output_type": "stream",
       "stream": "stdout",
       "text": [
        "\r",
        "Computed shortest paths from node 408 of 1271"
       ]
      },
      {
       "output_type": "stream",
       "stream": "stdout",
       "text": [
        "\r",
        "Computed shortest paths from node 409 of 1271"
       ]
      },
      {
       "output_type": "stream",
       "stream": "stdout",
       "text": [
        "\r",
        "Computed shortest paths from node 410 of 1271"
       ]
      },
      {
       "output_type": "stream",
       "stream": "stdout",
       "text": [
        "\r",
        "Computed shortest paths from node 411 of 1271"
       ]
      },
      {
       "output_type": "stream",
       "stream": "stdout",
       "text": [
        "\r",
        "Computed shortest paths from node 412 of 1271"
       ]
      },
      {
       "output_type": "stream",
       "stream": "stdout",
       "text": [
        "\r",
        "Computed shortest paths from node 413 of 1271"
       ]
      },
      {
       "output_type": "stream",
       "stream": "stdout",
       "text": [
        "\r",
        "Computed shortest paths from node 414 of 1271"
       ]
      },
      {
       "output_type": "stream",
       "stream": "stdout",
       "text": [
        "\r",
        "Computed shortest paths from node 415 of 1271"
       ]
      },
      {
       "output_type": "stream",
       "stream": "stdout",
       "text": [
        "\r",
        "Computed shortest paths from node 416 of 1271"
       ]
      },
      {
       "output_type": "stream",
       "stream": "stdout",
       "text": [
        "\r",
        "Computed shortest paths from node 417 of 1271"
       ]
      },
      {
       "output_type": "stream",
       "stream": "stdout",
       "text": [
        "\r",
        "Computed shortest paths from node 418 of 1271"
       ]
      },
      {
       "output_type": "stream",
       "stream": "stdout",
       "text": [
        "\r",
        "Computed shortest paths from node 419 of 1271"
       ]
      },
      {
       "output_type": "stream",
       "stream": "stdout",
       "text": [
        "\r",
        "Computed shortest paths from node 420 of 1271"
       ]
      },
      {
       "output_type": "stream",
       "stream": "stdout",
       "text": [
        "\r",
        "Computed shortest paths from node 421 of 1271"
       ]
      },
      {
       "output_type": "stream",
       "stream": "stdout",
       "text": [
        "\r",
        "Computed shortest paths from node 422 of 1271"
       ]
      },
      {
       "output_type": "stream",
       "stream": "stdout",
       "text": [
        "\r",
        "Computed shortest paths from node 423 of 1271"
       ]
      },
      {
       "output_type": "stream",
       "stream": "stdout",
       "text": [
        "\r",
        "Computed shortest paths from node 424 of 1271"
       ]
      },
      {
       "output_type": "stream",
       "stream": "stdout",
       "text": [
        "\r",
        "Computed shortest paths from node 425 of 1271"
       ]
      },
      {
       "output_type": "stream",
       "stream": "stdout",
       "text": [
        "\r",
        "Computed shortest paths from node 426 of 1271"
       ]
      },
      {
       "output_type": "stream",
       "stream": "stdout",
       "text": [
        "\r",
        "Computed shortest paths from node 427 of 1271"
       ]
      },
      {
       "output_type": "stream",
       "stream": "stdout",
       "text": [
        "\r",
        "Computed shortest paths from node 428 of 1271"
       ]
      },
      {
       "output_type": "stream",
       "stream": "stdout",
       "text": [
        "\r",
        "Computed shortest paths from node 429 of 1271"
       ]
      },
      {
       "output_type": "stream",
       "stream": "stdout",
       "text": [
        "\r",
        "Computed shortest paths from node 430 of 1271"
       ]
      },
      {
       "output_type": "stream",
       "stream": "stdout",
       "text": [
        "\r",
        "Computed shortest paths from node 431 of 1271"
       ]
      },
      {
       "output_type": "stream",
       "stream": "stdout",
       "text": [
        "\r",
        "Computed shortest paths from node 432 of 1271"
       ]
      },
      {
       "output_type": "stream",
       "stream": "stdout",
       "text": [
        "\r",
        "Computed shortest paths from node 433 of 1271"
       ]
      },
      {
       "output_type": "stream",
       "stream": "stdout",
       "text": [
        "\r",
        "Computed shortest paths from node 434 of 1271"
       ]
      },
      {
       "output_type": "stream",
       "stream": "stdout",
       "text": [
        "\r",
        "Computed shortest paths from node 435 of 1271"
       ]
      },
      {
       "output_type": "stream",
       "stream": "stdout",
       "text": [
        "\r",
        "Computed shortest paths from node 436 of 1271"
       ]
      },
      {
       "output_type": "stream",
       "stream": "stdout",
       "text": [
        "\r",
        "Computed shortest paths from node 437 of 1271"
       ]
      },
      {
       "output_type": "stream",
       "stream": "stdout",
       "text": [
        "\r",
        "Computed shortest paths from node 438 of 1271"
       ]
      },
      {
       "output_type": "stream",
       "stream": "stdout",
       "text": [
        "\r",
        "Computed shortest paths from node 439 of 1271"
       ]
      },
      {
       "output_type": "stream",
       "stream": "stdout",
       "text": [
        "\r",
        "Computed shortest paths from node 440 of 1271"
       ]
      },
      {
       "output_type": "stream",
       "stream": "stdout",
       "text": [
        "\r",
        "Computed shortest paths from node 441 of 1271"
       ]
      },
      {
       "output_type": "stream",
       "stream": "stdout",
       "text": [
        "\r",
        "Computed shortest paths from node 442 of 1271"
       ]
      },
      {
       "output_type": "stream",
       "stream": "stdout",
       "text": [
        "\r",
        "Computed shortest paths from node 443 of 1271"
       ]
      },
      {
       "output_type": "stream",
       "stream": "stdout",
       "text": [
        "\r",
        "Computed shortest paths from node 444 of 1271"
       ]
      },
      {
       "output_type": "stream",
       "stream": "stdout",
       "text": [
        "\r",
        "Computed shortest paths from node 445 of 1271"
       ]
      },
      {
       "output_type": "stream",
       "stream": "stdout",
       "text": [
        "\r",
        "Computed shortest paths from node 446 of 1271"
       ]
      },
      {
       "output_type": "stream",
       "stream": "stdout",
       "text": [
        "\r",
        "Computed shortest paths from node 447 of 1271"
       ]
      },
      {
       "output_type": "stream",
       "stream": "stdout",
       "text": [
        "\r",
        "Computed shortest paths from node 448 of 1271"
       ]
      },
      {
       "output_type": "stream",
       "stream": "stdout",
       "text": [
        "\r",
        "Computed shortest paths from node 449 of 1271"
       ]
      },
      {
       "output_type": "stream",
       "stream": "stdout",
       "text": [
        "\r",
        "Computed shortest paths from node 450 of 1271"
       ]
      },
      {
       "output_type": "stream",
       "stream": "stdout",
       "text": [
        "\r",
        "Computed shortest paths from node 451 of 1271"
       ]
      },
      {
       "output_type": "stream",
       "stream": "stdout",
       "text": [
        "\r",
        "Computed shortest paths from node 452 of 1271"
       ]
      },
      {
       "output_type": "stream",
       "stream": "stdout",
       "text": [
        "\r",
        "Computed shortest paths from node 453 of 1271"
       ]
      },
      {
       "output_type": "stream",
       "stream": "stdout",
       "text": [
        "\r",
        "Computed shortest paths from node 454 of 1271"
       ]
      },
      {
       "output_type": "stream",
       "stream": "stdout",
       "text": [
        "\r",
        "Computed shortest paths from node 455 of 1271"
       ]
      },
      {
       "output_type": "stream",
       "stream": "stdout",
       "text": [
        "\r",
        "Computed shortest paths from node 456 of 1271"
       ]
      },
      {
       "output_type": "stream",
       "stream": "stdout",
       "text": [
        "\r",
        "Computed shortest paths from node 457 of 1271"
       ]
      },
      {
       "output_type": "stream",
       "stream": "stdout",
       "text": [
        "\r",
        "Computed shortest paths from node 458 of 1271"
       ]
      },
      {
       "output_type": "stream",
       "stream": "stdout",
       "text": [
        "\r",
        "Computed shortest paths from node 459 of 1271"
       ]
      },
      {
       "output_type": "stream",
       "stream": "stdout",
       "text": [
        "\r",
        "Computed shortest paths from node 460 of 1271"
       ]
      },
      {
       "output_type": "stream",
       "stream": "stdout",
       "text": [
        "\r",
        "Computed shortest paths from node 461 of 1271"
       ]
      },
      {
       "output_type": "stream",
       "stream": "stdout",
       "text": [
        "\r",
        "Computed shortest paths from node 462 of 1271"
       ]
      },
      {
       "output_type": "stream",
       "stream": "stdout",
       "text": [
        "\r",
        "Computed shortest paths from node 463 of 1271"
       ]
      },
      {
       "output_type": "stream",
       "stream": "stdout",
       "text": [
        "\r",
        "Computed shortest paths from node 464 of 1271"
       ]
      },
      {
       "output_type": "stream",
       "stream": "stdout",
       "text": [
        "\r",
        "Computed shortest paths from node 465 of 1271"
       ]
      },
      {
       "output_type": "stream",
       "stream": "stdout",
       "text": [
        "\r",
        "Computed shortest paths from node 466 of 1271"
       ]
      },
      {
       "output_type": "stream",
       "stream": "stdout",
       "text": [
        "\r",
        "Computed shortest paths from node 467 of 1271"
       ]
      },
      {
       "output_type": "stream",
       "stream": "stdout",
       "text": [
        "\r",
        "Computed shortest paths from node 468 of 1271"
       ]
      },
      {
       "output_type": "stream",
       "stream": "stdout",
       "text": [
        "\r",
        "Computed shortest paths from node 469 of 1271"
       ]
      },
      {
       "output_type": "stream",
       "stream": "stdout",
       "text": [
        "\r",
        "Computed shortest paths from node 470 of 1271"
       ]
      },
      {
       "output_type": "stream",
       "stream": "stdout",
       "text": [
        "\r",
        "Computed shortest paths from node 471 of 1271"
       ]
      },
      {
       "output_type": "stream",
       "stream": "stdout",
       "text": [
        "\r",
        "Computed shortest paths from node 472 of 1271"
       ]
      },
      {
       "output_type": "stream",
       "stream": "stdout",
       "text": [
        "\r",
        "Computed shortest paths from node 473 of 1271"
       ]
      },
      {
       "output_type": "stream",
       "stream": "stdout",
       "text": [
        "\r",
        "Computed shortest paths from node 474 of 1271"
       ]
      },
      {
       "output_type": "stream",
       "stream": "stdout",
       "text": [
        "\r",
        "Computed shortest paths from node 475 of 1271"
       ]
      },
      {
       "output_type": "stream",
       "stream": "stdout",
       "text": [
        "\r",
        "Computed shortest paths from node 476 of 1271"
       ]
      },
      {
       "output_type": "stream",
       "stream": "stdout",
       "text": [
        "\r",
        "Computed shortest paths from node 477 of 1271"
       ]
      },
      {
       "output_type": "stream",
       "stream": "stdout",
       "text": [
        "\r",
        "Computed shortest paths from node 478 of 1271"
       ]
      },
      {
       "output_type": "stream",
       "stream": "stdout",
       "text": [
        "\r",
        "Computed shortest paths from node 479 of 1271"
       ]
      },
      {
       "output_type": "stream",
       "stream": "stdout",
       "text": [
        "\r",
        "Computed shortest paths from node 480 of 1271"
       ]
      },
      {
       "output_type": "stream",
       "stream": "stdout",
       "text": [
        "\r",
        "Computed shortest paths from node 481 of 1271"
       ]
      },
      {
       "output_type": "stream",
       "stream": "stdout",
       "text": [
        "\r",
        "Computed shortest paths from node 482 of 1271"
       ]
      },
      {
       "output_type": "stream",
       "stream": "stdout",
       "text": [
        "\r",
        "Computed shortest paths from node 483 of 1271"
       ]
      },
      {
       "output_type": "stream",
       "stream": "stdout",
       "text": [
        "\r",
        "Computed shortest paths from node 484 of 1271"
       ]
      },
      {
       "output_type": "stream",
       "stream": "stdout",
       "text": [
        "\r",
        "Computed shortest paths from node 485 of 1271"
       ]
      },
      {
       "output_type": "stream",
       "stream": "stdout",
       "text": [
        "\r",
        "Computed shortest paths from node 486 of 1271"
       ]
      },
      {
       "output_type": "stream",
       "stream": "stdout",
       "text": [
        "\r",
        "Computed shortest paths from node 487 of 1271"
       ]
      },
      {
       "output_type": "stream",
       "stream": "stdout",
       "text": [
        "\r",
        "Computed shortest paths from node 488 of 1271"
       ]
      },
      {
       "output_type": "stream",
       "stream": "stdout",
       "text": [
        "\r",
        "Computed shortest paths from node 489 of 1271"
       ]
      },
      {
       "output_type": "stream",
       "stream": "stdout",
       "text": [
        "\r",
        "Computed shortest paths from node 490 of 1271"
       ]
      },
      {
       "output_type": "stream",
       "stream": "stdout",
       "text": [
        "\r",
        "Computed shortest paths from node 491 of 1271"
       ]
      },
      {
       "output_type": "stream",
       "stream": "stdout",
       "text": [
        "\r",
        "Computed shortest paths from node 492 of 1271"
       ]
      },
      {
       "output_type": "stream",
       "stream": "stdout",
       "text": [
        "\r",
        "Computed shortest paths from node 493 of 1271"
       ]
      },
      {
       "output_type": "stream",
       "stream": "stdout",
       "text": [
        "\r",
        "Computed shortest paths from node 494 of 1271"
       ]
      },
      {
       "output_type": "stream",
       "stream": "stdout",
       "text": [
        "\r",
        "Computed shortest paths from node 495 of 1271"
       ]
      },
      {
       "output_type": "stream",
       "stream": "stdout",
       "text": [
        "\r",
        "Computed shortest paths from node 496 of 1271"
       ]
      },
      {
       "output_type": "stream",
       "stream": "stdout",
       "text": [
        "\r",
        "Computed shortest paths from node 497 of 1271"
       ]
      },
      {
       "output_type": "stream",
       "stream": "stdout",
       "text": [
        "\r",
        "Computed shortest paths from node 498 of 1271"
       ]
      },
      {
       "output_type": "stream",
       "stream": "stdout",
       "text": [
        "\r",
        "Computed shortest paths from node 499 of 1271"
       ]
      },
      {
       "output_type": "stream",
       "stream": "stdout",
       "text": [
        "\r",
        "Computed shortest paths from node 500 of 1271"
       ]
      },
      {
       "output_type": "stream",
       "stream": "stdout",
       "text": [
        "\r",
        "Computed shortest paths from node 501 of 1271"
       ]
      },
      {
       "output_type": "stream",
       "stream": "stdout",
       "text": [
        "\r",
        "Computed shortest paths from node 502 of 1271"
       ]
      },
      {
       "output_type": "stream",
       "stream": "stdout",
       "text": [
        "\r",
        "Computed shortest paths from node 503 of 1271"
       ]
      },
      {
       "output_type": "stream",
       "stream": "stdout",
       "text": [
        "\r",
        "Computed shortest paths from node 504 of 1271"
       ]
      },
      {
       "output_type": "stream",
       "stream": "stdout",
       "text": [
        "\r",
        "Computed shortest paths from node 505 of 1271"
       ]
      },
      {
       "output_type": "stream",
       "stream": "stdout",
       "text": [
        "\r",
        "Computed shortest paths from node 506 of 1271"
       ]
      },
      {
       "output_type": "stream",
       "stream": "stdout",
       "text": [
        "\r",
        "Computed shortest paths from node 507 of 1271"
       ]
      },
      {
       "output_type": "stream",
       "stream": "stdout",
       "text": [
        "\r",
        "Computed shortest paths from node 508 of 1271"
       ]
      },
      {
       "output_type": "stream",
       "stream": "stdout",
       "text": [
        "\r",
        "Computed shortest paths from node 509 of 1271"
       ]
      },
      {
       "output_type": "stream",
       "stream": "stdout",
       "text": [
        "\r",
        "Computed shortest paths from node 510 of 1271"
       ]
      },
      {
       "output_type": "stream",
       "stream": "stdout",
       "text": [
        "\r",
        "Computed shortest paths from node 511 of 1271"
       ]
      },
      {
       "output_type": "stream",
       "stream": "stdout",
       "text": [
        "\r",
        "Computed shortest paths from node 512 of 1271"
       ]
      },
      {
       "output_type": "stream",
       "stream": "stdout",
       "text": [
        "\r",
        "Computed shortest paths from node 513 of 1271"
       ]
      },
      {
       "output_type": "stream",
       "stream": "stdout",
       "text": [
        "\r",
        "Computed shortest paths from node 514 of 1271"
       ]
      },
      {
       "output_type": "stream",
       "stream": "stdout",
       "text": [
        "\r",
        "Computed shortest paths from node 515 of 1271"
       ]
      },
      {
       "output_type": "stream",
       "stream": "stdout",
       "text": [
        "\r",
        "Computed shortest paths from node 516 of 1271"
       ]
      },
      {
       "output_type": "stream",
       "stream": "stdout",
       "text": [
        "\r",
        "Computed shortest paths from node 517 of 1271"
       ]
      },
      {
       "output_type": "stream",
       "stream": "stdout",
       "text": [
        "\r",
        "Computed shortest paths from node 518 of 1271"
       ]
      },
      {
       "output_type": "stream",
       "stream": "stdout",
       "text": [
        "\r",
        "Computed shortest paths from node 519 of 1271"
       ]
      },
      {
       "output_type": "stream",
       "stream": "stdout",
       "text": [
        "\r",
        "Computed shortest paths from node 520 of 1271"
       ]
      },
      {
       "output_type": "stream",
       "stream": "stdout",
       "text": [
        "\r",
        "Computed shortest paths from node 521 of 1271"
       ]
      },
      {
       "output_type": "stream",
       "stream": "stdout",
       "text": [
        "\r",
        "Computed shortest paths from node 522 of 1271"
       ]
      },
      {
       "output_type": "stream",
       "stream": "stdout",
       "text": [
        "\r",
        "Computed shortest paths from node 523 of 1271"
       ]
      },
      {
       "output_type": "stream",
       "stream": "stdout",
       "text": [
        "\r",
        "Computed shortest paths from node 524 of 1271"
       ]
      },
      {
       "output_type": "stream",
       "stream": "stdout",
       "text": [
        "\r",
        "Computed shortest paths from node 525 of 1271"
       ]
      },
      {
       "output_type": "stream",
       "stream": "stdout",
       "text": [
        "\r",
        "Computed shortest paths from node 526 of 1271"
       ]
      },
      {
       "output_type": "stream",
       "stream": "stdout",
       "text": [
        "\r",
        "Computed shortest paths from node 527 of 1271"
       ]
      },
      {
       "output_type": "stream",
       "stream": "stdout",
       "text": [
        "\r",
        "Computed shortest paths from node 528 of 1271"
       ]
      },
      {
       "output_type": "stream",
       "stream": "stdout",
       "text": [
        "\r",
        "Computed shortest paths from node 529 of 1271"
       ]
      },
      {
       "output_type": "stream",
       "stream": "stdout",
       "text": [
        "\r",
        "Computed shortest paths from node 530 of 1271"
       ]
      },
      {
       "output_type": "stream",
       "stream": "stdout",
       "text": [
        "\r",
        "Computed shortest paths from node 531 of 1271"
       ]
      },
      {
       "output_type": "stream",
       "stream": "stdout",
       "text": [
        "\r",
        "Computed shortest paths from node 532 of 1271"
       ]
      },
      {
       "output_type": "stream",
       "stream": "stdout",
       "text": [
        "\r",
        "Computed shortest paths from node 533 of 1271"
       ]
      },
      {
       "output_type": "stream",
       "stream": "stdout",
       "text": [
        "\r",
        "Computed shortest paths from node 534 of 1271"
       ]
      },
      {
       "output_type": "stream",
       "stream": "stdout",
       "text": [
        "\r",
        "Computed shortest paths from node 535 of 1271"
       ]
      },
      {
       "output_type": "stream",
       "stream": "stdout",
       "text": [
        "\r",
        "Computed shortest paths from node 536 of 1271"
       ]
      },
      {
       "output_type": "stream",
       "stream": "stdout",
       "text": [
        "\r",
        "Computed shortest paths from node 537 of 1271"
       ]
      },
      {
       "output_type": "stream",
       "stream": "stdout",
       "text": [
        "\r",
        "Computed shortest paths from node 538 of 1271"
       ]
      },
      {
       "output_type": "stream",
       "stream": "stdout",
       "text": [
        "\r",
        "Computed shortest paths from node 539 of 1271"
       ]
      },
      {
       "output_type": "stream",
       "stream": "stdout",
       "text": [
        "\r",
        "Computed shortest paths from node 540 of 1271"
       ]
      },
      {
       "output_type": "stream",
       "stream": "stdout",
       "text": [
        "\r",
        "Computed shortest paths from node 541 of 1271"
       ]
      },
      {
       "output_type": "stream",
       "stream": "stdout",
       "text": [
        "\r",
        "Computed shortest paths from node 542 of 1271"
       ]
      },
      {
       "output_type": "stream",
       "stream": "stdout",
       "text": [
        "\r",
        "Computed shortest paths from node 543 of 1271"
       ]
      },
      {
       "output_type": "stream",
       "stream": "stdout",
       "text": [
        "\r",
        "Computed shortest paths from node 544 of 1271"
       ]
      },
      {
       "output_type": "stream",
       "stream": "stdout",
       "text": [
        "\r",
        "Computed shortest paths from node 545 of 1271"
       ]
      },
      {
       "output_type": "stream",
       "stream": "stdout",
       "text": [
        "\r",
        "Computed shortest paths from node 546 of 1271"
       ]
      },
      {
       "output_type": "stream",
       "stream": "stdout",
       "text": [
        "\r",
        "Computed shortest paths from node 547 of 1271"
       ]
      },
      {
       "output_type": "stream",
       "stream": "stdout",
       "text": [
        "\r",
        "Computed shortest paths from node 548 of 1271"
       ]
      },
      {
       "output_type": "stream",
       "stream": "stdout",
       "text": [
        "\r",
        "Computed shortest paths from node 549 of 1271"
       ]
      },
      {
       "output_type": "stream",
       "stream": "stdout",
       "text": [
        "\r",
        "Computed shortest paths from node 550 of 1271"
       ]
      },
      {
       "output_type": "stream",
       "stream": "stdout",
       "text": [
        "\r",
        "Computed shortest paths from node 551 of 1271"
       ]
      },
      {
       "output_type": "stream",
       "stream": "stdout",
       "text": [
        "\r",
        "Computed shortest paths from node 552 of 1271"
       ]
      },
      {
       "output_type": "stream",
       "stream": "stdout",
       "text": [
        "\r",
        "Computed shortest paths from node 553 of 1271"
       ]
      },
      {
       "output_type": "stream",
       "stream": "stdout",
       "text": [
        "\r",
        "Computed shortest paths from node 554 of 1271"
       ]
      },
      {
       "output_type": "stream",
       "stream": "stdout",
       "text": [
        "\r",
        "Computed shortest paths from node 555 of 1271"
       ]
      },
      {
       "output_type": "stream",
       "stream": "stdout",
       "text": [
        "\r",
        "Computed shortest paths from node 556 of 1271"
       ]
      },
      {
       "output_type": "stream",
       "stream": "stdout",
       "text": [
        "\r",
        "Computed shortest paths from node 557 of 1271"
       ]
      },
      {
       "output_type": "stream",
       "stream": "stdout",
       "text": [
        "\r",
        "Computed shortest paths from node 558 of 1271"
       ]
      },
      {
       "output_type": "stream",
       "stream": "stdout",
       "text": [
        "\r",
        "Computed shortest paths from node 559 of 1271"
       ]
      },
      {
       "output_type": "stream",
       "stream": "stdout",
       "text": [
        "\r",
        "Computed shortest paths from node 560 of 1271"
       ]
      },
      {
       "output_type": "stream",
       "stream": "stdout",
       "text": [
        "\r",
        "Computed shortest paths from node 561 of 1271"
       ]
      },
      {
       "output_type": "stream",
       "stream": "stdout",
       "text": [
        "\r",
        "Computed shortest paths from node 562 of 1271"
       ]
      },
      {
       "output_type": "stream",
       "stream": "stdout",
       "text": [
        "\r",
        "Computed shortest paths from node 563 of 1271"
       ]
      },
      {
       "output_type": "stream",
       "stream": "stdout",
       "text": [
        "\r",
        "Computed shortest paths from node 564 of 1271"
       ]
      },
      {
       "output_type": "stream",
       "stream": "stdout",
       "text": [
        "\r",
        "Computed shortest paths from node 565 of 1271"
       ]
      },
      {
       "output_type": "stream",
       "stream": "stdout",
       "text": [
        "\r",
        "Computed shortest paths from node 566 of 1271"
       ]
      },
      {
       "output_type": "stream",
       "stream": "stdout",
       "text": [
        "\r",
        "Computed shortest paths from node 567 of 1271"
       ]
      },
      {
       "output_type": "stream",
       "stream": "stdout",
       "text": [
        "\r",
        "Computed shortest paths from node 568 of 1271"
       ]
      },
      {
       "output_type": "stream",
       "stream": "stdout",
       "text": [
        "\r",
        "Computed shortest paths from node 569 of 1271"
       ]
      },
      {
       "output_type": "stream",
       "stream": "stdout",
       "text": [
        "\r",
        "Computed shortest paths from node 570 of 1271"
       ]
      },
      {
       "output_type": "stream",
       "stream": "stdout",
       "text": [
        "\r",
        "Computed shortest paths from node 571 of 1271"
       ]
      },
      {
       "output_type": "stream",
       "stream": "stdout",
       "text": [
        "\r",
        "Computed shortest paths from node 572 of 1271"
       ]
      },
      {
       "output_type": "stream",
       "stream": "stdout",
       "text": [
        "\r",
        "Computed shortest paths from node 573 of 1271"
       ]
      },
      {
       "output_type": "stream",
       "stream": "stdout",
       "text": [
        "\r",
        "Computed shortest paths from node 574 of 1271"
       ]
      },
      {
       "output_type": "stream",
       "stream": "stdout",
       "text": [
        "\r",
        "Computed shortest paths from node 575 of 1271"
       ]
      },
      {
       "output_type": "stream",
       "stream": "stdout",
       "text": [
        "\r",
        "Computed shortest paths from node 576 of 1271"
       ]
      },
      {
       "output_type": "stream",
       "stream": "stdout",
       "text": [
        "\r",
        "Computed shortest paths from node 577 of 1271"
       ]
      },
      {
       "output_type": "stream",
       "stream": "stdout",
       "text": [
        "\r",
        "Computed shortest paths from node 578 of 1271"
       ]
      },
      {
       "output_type": "stream",
       "stream": "stdout",
       "text": [
        "\r",
        "Computed shortest paths from node 579 of 1271"
       ]
      },
      {
       "output_type": "stream",
       "stream": "stdout",
       "text": [
        "\r",
        "Computed shortest paths from node 580 of 1271"
       ]
      },
      {
       "output_type": "stream",
       "stream": "stdout",
       "text": [
        "\r",
        "Computed shortest paths from node 581 of 1271"
       ]
      },
      {
       "output_type": "stream",
       "stream": "stdout",
       "text": [
        "\r",
        "Computed shortest paths from node 582 of 1271"
       ]
      },
      {
       "output_type": "stream",
       "stream": "stdout",
       "text": [
        "\r",
        "Computed shortest paths from node 583 of 1271"
       ]
      },
      {
       "output_type": "stream",
       "stream": "stdout",
       "text": [
        "\r",
        "Computed shortest paths from node 584 of 1271"
       ]
      },
      {
       "output_type": "stream",
       "stream": "stdout",
       "text": [
        "\r",
        "Computed shortest paths from node 585 of 1271"
       ]
      },
      {
       "output_type": "stream",
       "stream": "stdout",
       "text": [
        "\r",
        "Computed shortest paths from node 586 of 1271"
       ]
      },
      {
       "output_type": "stream",
       "stream": "stdout",
       "text": [
        "\r",
        "Computed shortest paths from node 587 of 1271"
       ]
      },
      {
       "output_type": "stream",
       "stream": "stdout",
       "text": [
        "\r",
        "Computed shortest paths from node 588 of 1271"
       ]
      },
      {
       "output_type": "stream",
       "stream": "stdout",
       "text": [
        "\r",
        "Computed shortest paths from node 589 of 1271"
       ]
      },
      {
       "output_type": "stream",
       "stream": "stdout",
       "text": [
        "\r",
        "Computed shortest paths from node 590 of 1271"
       ]
      },
      {
       "output_type": "stream",
       "stream": "stdout",
       "text": [
        "\r",
        "Computed shortest paths from node 591 of 1271"
       ]
      },
      {
       "output_type": "stream",
       "stream": "stdout",
       "text": [
        "\r",
        "Computed shortest paths from node 592 of 1271"
       ]
      },
      {
       "output_type": "stream",
       "stream": "stdout",
       "text": [
        "\r",
        "Computed shortest paths from node 593 of 1271"
       ]
      },
      {
       "output_type": "stream",
       "stream": "stdout",
       "text": [
        "\r",
        "Computed shortest paths from node 594 of 1271"
       ]
      },
      {
       "output_type": "stream",
       "stream": "stdout",
       "text": [
        "\r",
        "Computed shortest paths from node 595 of 1271"
       ]
      },
      {
       "output_type": "stream",
       "stream": "stdout",
       "text": [
        "\r",
        "Computed shortest paths from node 596 of 1271"
       ]
      },
      {
       "output_type": "stream",
       "stream": "stdout",
       "text": [
        "\r",
        "Computed shortest paths from node 597 of 1271"
       ]
      },
      {
       "output_type": "stream",
       "stream": "stdout",
       "text": [
        "\r",
        "Computed shortest paths from node 598 of 1271"
       ]
      },
      {
       "output_type": "stream",
       "stream": "stdout",
       "text": [
        "\r",
        "Computed shortest paths from node 599 of 1271"
       ]
      },
      {
       "output_type": "stream",
       "stream": "stdout",
       "text": [
        "\r",
        "Computed shortest paths from node 600 of 1271"
       ]
      },
      {
       "output_type": "stream",
       "stream": "stdout",
       "text": [
        "\r",
        "Computed shortest paths from node 601 of 1271"
       ]
      },
      {
       "output_type": "stream",
       "stream": "stdout",
       "text": [
        "\r",
        "Computed shortest paths from node 602 of 1271"
       ]
      },
      {
       "output_type": "stream",
       "stream": "stdout",
       "text": [
        "\r",
        "Computed shortest paths from node 603 of 1271"
       ]
      },
      {
       "output_type": "stream",
       "stream": "stdout",
       "text": [
        "\r",
        "Computed shortest paths from node 604 of 1271"
       ]
      },
      {
       "output_type": "stream",
       "stream": "stdout",
       "text": [
        "\r",
        "Computed shortest paths from node 605 of 1271"
       ]
      },
      {
       "output_type": "stream",
       "stream": "stdout",
       "text": [
        "\r",
        "Computed shortest paths from node 606 of 1271"
       ]
      },
      {
       "output_type": "stream",
       "stream": "stdout",
       "text": [
        "\r",
        "Computed shortest paths from node 607 of 1271"
       ]
      },
      {
       "output_type": "stream",
       "stream": "stdout",
       "text": [
        "\r",
        "Computed shortest paths from node 608 of 1271"
       ]
      },
      {
       "output_type": "stream",
       "stream": "stdout",
       "text": [
        "\r",
        "Computed shortest paths from node 609 of 1271"
       ]
      },
      {
       "output_type": "stream",
       "stream": "stdout",
       "text": [
        "\r",
        "Computed shortest paths from node 610 of 1271"
       ]
      },
      {
       "output_type": "stream",
       "stream": "stdout",
       "text": [
        "\r",
        "Computed shortest paths from node 611 of 1271"
       ]
      },
      {
       "output_type": "stream",
       "stream": "stdout",
       "text": [
        "\r",
        "Computed shortest paths from node 612 of 1271"
       ]
      },
      {
       "output_type": "stream",
       "stream": "stdout",
       "text": [
        "\r",
        "Computed shortest paths from node 613 of 1271"
       ]
      },
      {
       "output_type": "stream",
       "stream": "stdout",
       "text": [
        "\r",
        "Computed shortest paths from node 614 of 1271"
       ]
      },
      {
       "output_type": "stream",
       "stream": "stdout",
       "text": [
        "\r",
        "Computed shortest paths from node 615 of 1271"
       ]
      },
      {
       "output_type": "stream",
       "stream": "stdout",
       "text": [
        "\r",
        "Computed shortest paths from node 616 of 1271"
       ]
      },
      {
       "output_type": "stream",
       "stream": "stdout",
       "text": [
        "\r",
        "Computed shortest paths from node 617 of 1271"
       ]
      },
      {
       "output_type": "stream",
       "stream": "stdout",
       "text": [
        "\r",
        "Computed shortest paths from node 618 of 1271"
       ]
      },
      {
       "output_type": "stream",
       "stream": "stdout",
       "text": [
        "\r",
        "Computed shortest paths from node 619 of 1271"
       ]
      },
      {
       "output_type": "stream",
       "stream": "stdout",
       "text": [
        "\r",
        "Computed shortest paths from node 620 of 1271"
       ]
      },
      {
       "output_type": "stream",
       "stream": "stdout",
       "text": [
        "\r",
        "Computed shortest paths from node 621 of 1271"
       ]
      },
      {
       "output_type": "stream",
       "stream": "stdout",
       "text": [
        "\r",
        "Computed shortest paths from node 622 of 1271"
       ]
      },
      {
       "output_type": "stream",
       "stream": "stdout",
       "text": [
        "\r",
        "Computed shortest paths from node 623 of 1271"
       ]
      },
      {
       "output_type": "stream",
       "stream": "stdout",
       "text": [
        "\r",
        "Computed shortest paths from node 624 of 1271"
       ]
      },
      {
       "output_type": "stream",
       "stream": "stdout",
       "text": [
        "\r",
        "Computed shortest paths from node 625 of 1271"
       ]
      },
      {
       "output_type": "stream",
       "stream": "stdout",
       "text": [
        "\r",
        "Computed shortest paths from node 626 of 1271"
       ]
      },
      {
       "output_type": "stream",
       "stream": "stdout",
       "text": [
        "\r",
        "Computed shortest paths from node 627 of 1271"
       ]
      },
      {
       "output_type": "stream",
       "stream": "stdout",
       "text": [
        "\r",
        "Computed shortest paths from node 628 of 1271"
       ]
      },
      {
       "output_type": "stream",
       "stream": "stdout",
       "text": [
        "\r",
        "Computed shortest paths from node 629 of 1271"
       ]
      },
      {
       "output_type": "stream",
       "stream": "stdout",
       "text": [
        "\r",
        "Computed shortest paths from node 630 of 1271"
       ]
      },
      {
       "output_type": "stream",
       "stream": "stdout",
       "text": [
        "\r",
        "Computed shortest paths from node 631 of 1271"
       ]
      },
      {
       "output_type": "stream",
       "stream": "stdout",
       "text": [
        "\r",
        "Computed shortest paths from node 632 of 1271"
       ]
      },
      {
       "output_type": "stream",
       "stream": "stdout",
       "text": [
        "\r",
        "Computed shortest paths from node 633 of 1271"
       ]
      },
      {
       "output_type": "stream",
       "stream": "stdout",
       "text": [
        "\r",
        "Computed shortest paths from node 634 of 1271"
       ]
      },
      {
       "output_type": "stream",
       "stream": "stdout",
       "text": [
        "\r",
        "Computed shortest paths from node 635 of 1271"
       ]
      },
      {
       "output_type": "stream",
       "stream": "stdout",
       "text": [
        "\r",
        "Computed shortest paths from node 636 of 1271"
       ]
      },
      {
       "output_type": "stream",
       "stream": "stdout",
       "text": [
        "\r",
        "Computed shortest paths from node 637 of 1271"
       ]
      },
      {
       "output_type": "stream",
       "stream": "stdout",
       "text": [
        "\r",
        "Computed shortest paths from node 638 of 1271"
       ]
      },
      {
       "output_type": "stream",
       "stream": "stdout",
       "text": [
        "\r",
        "Computed shortest paths from node 639 of 1271"
       ]
      },
      {
       "output_type": "stream",
       "stream": "stdout",
       "text": [
        "\r",
        "Computed shortest paths from node 640 of 1271"
       ]
      },
      {
       "output_type": "stream",
       "stream": "stdout",
       "text": [
        "\r",
        "Computed shortest paths from node 641 of 1271"
       ]
      },
      {
       "output_type": "stream",
       "stream": "stdout",
       "text": [
        "\r",
        "Computed shortest paths from node 642 of 1271"
       ]
      },
      {
       "output_type": "stream",
       "stream": "stdout",
       "text": [
        "\r",
        "Computed shortest paths from node 643 of 1271"
       ]
      },
      {
       "output_type": "stream",
       "stream": "stdout",
       "text": [
        "\r",
        "Computed shortest paths from node 644 of 1271"
       ]
      },
      {
       "output_type": "stream",
       "stream": "stdout",
       "text": [
        "\r",
        "Computed shortest paths from node 645 of 1271"
       ]
      },
      {
       "output_type": "stream",
       "stream": "stdout",
       "text": [
        "\r",
        "Computed shortest paths from node 646 of 1271"
       ]
      },
      {
       "output_type": "stream",
       "stream": "stdout",
       "text": [
        "\r",
        "Computed shortest paths from node 647 of 1271"
       ]
      },
      {
       "output_type": "stream",
       "stream": "stdout",
       "text": [
        "\r",
        "Computed shortest paths from node 648 of 1271"
       ]
      },
      {
       "output_type": "stream",
       "stream": "stdout",
       "text": [
        "\r",
        "Computed shortest paths from node 649 of 1271"
       ]
      },
      {
       "output_type": "stream",
       "stream": "stdout",
       "text": [
        "\r",
        "Computed shortest paths from node 650 of 1271"
       ]
      },
      {
       "output_type": "stream",
       "stream": "stdout",
       "text": [
        "\r",
        "Computed shortest paths from node 651 of 1271"
       ]
      },
      {
       "output_type": "stream",
       "stream": "stdout",
       "text": [
        "\r",
        "Computed shortest paths from node 652 of 1271"
       ]
      },
      {
       "output_type": "stream",
       "stream": "stdout",
       "text": [
        "\r",
        "Computed shortest paths from node 653 of 1271"
       ]
      },
      {
       "output_type": "stream",
       "stream": "stdout",
       "text": [
        "\r",
        "Computed shortest paths from node 654 of 1271"
       ]
      },
      {
       "output_type": "stream",
       "stream": "stdout",
       "text": [
        "\r",
        "Computed shortest paths from node 655 of 1271"
       ]
      },
      {
       "output_type": "stream",
       "stream": "stdout",
       "text": [
        "\r",
        "Computed shortest paths from node 656 of 1271"
       ]
      },
      {
       "output_type": "stream",
       "stream": "stdout",
       "text": [
        "\r",
        "Computed shortest paths from node 657 of 1271"
       ]
      },
      {
       "output_type": "stream",
       "stream": "stdout",
       "text": [
        "\r",
        "Computed shortest paths from node 658 of 1271"
       ]
      },
      {
       "output_type": "stream",
       "stream": "stdout",
       "text": [
        "\r",
        "Computed shortest paths from node 659 of 1271"
       ]
      },
      {
       "output_type": "stream",
       "stream": "stdout",
       "text": [
        "\r",
        "Computed shortest paths from node 660 of 1271"
       ]
      },
      {
       "output_type": "stream",
       "stream": "stdout",
       "text": [
        "\r",
        "Computed shortest paths from node 661 of 1271"
       ]
      },
      {
       "output_type": "stream",
       "stream": "stdout",
       "text": [
        "\r",
        "Computed shortest paths from node 662 of 1271"
       ]
      },
      {
       "output_type": "stream",
       "stream": "stdout",
       "text": [
        "\r",
        "Computed shortest paths from node 663 of 1271"
       ]
      },
      {
       "output_type": "stream",
       "stream": "stdout",
       "text": [
        "\r",
        "Computed shortest paths from node 664 of 1271"
       ]
      },
      {
       "output_type": "stream",
       "stream": "stdout",
       "text": [
        "\r",
        "Computed shortest paths from node 665 of 1271"
       ]
      },
      {
       "output_type": "stream",
       "stream": "stdout",
       "text": [
        "\r",
        "Computed shortest paths from node 666 of 1271"
       ]
      },
      {
       "output_type": "stream",
       "stream": "stdout",
       "text": [
        "\r",
        "Computed shortest paths from node 667 of 1271"
       ]
      },
      {
       "output_type": "stream",
       "stream": "stdout",
       "text": [
        "\r",
        "Computed shortest paths from node 668 of 1271"
       ]
      },
      {
       "output_type": "stream",
       "stream": "stdout",
       "text": [
        "\r",
        "Computed shortest paths from node 669 of 1271"
       ]
      },
      {
       "output_type": "stream",
       "stream": "stdout",
       "text": [
        "\r",
        "Computed shortest paths from node 670 of 1271"
       ]
      },
      {
       "output_type": "stream",
       "stream": "stdout",
       "text": [
        "\r",
        "Computed shortest paths from node 671 of 1271"
       ]
      },
      {
       "output_type": "stream",
       "stream": "stdout",
       "text": [
        "\r",
        "Computed shortest paths from node 672 of 1271"
       ]
      },
      {
       "output_type": "stream",
       "stream": "stdout",
       "text": [
        "\r",
        "Computed shortest paths from node 673 of 1271"
       ]
      },
      {
       "output_type": "stream",
       "stream": "stdout",
       "text": [
        "\r",
        "Computed shortest paths from node 674 of 1271"
       ]
      },
      {
       "output_type": "stream",
       "stream": "stdout",
       "text": [
        "\r",
        "Computed shortest paths from node 675 of 1271"
       ]
      },
      {
       "output_type": "stream",
       "stream": "stdout",
       "text": [
        "\r",
        "Computed shortest paths from node 676 of 1271"
       ]
      },
      {
       "output_type": "stream",
       "stream": "stdout",
       "text": [
        "\r",
        "Computed shortest paths from node 677 of 1271"
       ]
      },
      {
       "output_type": "stream",
       "stream": "stdout",
       "text": [
        "\r",
        "Computed shortest paths from node 678 of 1271"
       ]
      },
      {
       "output_type": "stream",
       "stream": "stdout",
       "text": [
        "\r",
        "Computed shortest paths from node 679 of 1271"
       ]
      },
      {
       "output_type": "stream",
       "stream": "stdout",
       "text": [
        "\r",
        "Computed shortest paths from node 680 of 1271"
       ]
      },
      {
       "output_type": "stream",
       "stream": "stdout",
       "text": [
        "\r",
        "Computed shortest paths from node 681 of 1271"
       ]
      },
      {
       "output_type": "stream",
       "stream": "stdout",
       "text": [
        "\r",
        "Computed shortest paths from node 682 of 1271"
       ]
      },
      {
       "output_type": "stream",
       "stream": "stdout",
       "text": [
        "\r",
        "Computed shortest paths from node 683 of 1271"
       ]
      },
      {
       "output_type": "stream",
       "stream": "stdout",
       "text": [
        "\r",
        "Computed shortest paths from node 684 of 1271"
       ]
      },
      {
       "output_type": "stream",
       "stream": "stdout",
       "text": [
        "\r",
        "Computed shortest paths from node 685 of 1271"
       ]
      },
      {
       "output_type": "stream",
       "stream": "stdout",
       "text": [
        "\r",
        "Computed shortest paths from node 686 of 1271"
       ]
      },
      {
       "output_type": "stream",
       "stream": "stdout",
       "text": [
        "\r",
        "Computed shortest paths from node 687 of 1271"
       ]
      },
      {
       "output_type": "stream",
       "stream": "stdout",
       "text": [
        "\r",
        "Computed shortest paths from node 688 of 1271"
       ]
      },
      {
       "output_type": "stream",
       "stream": "stdout",
       "text": [
        "\r",
        "Computed shortest paths from node 689 of 1271"
       ]
      },
      {
       "output_type": "stream",
       "stream": "stdout",
       "text": [
        "\r",
        "Computed shortest paths from node 690 of 1271"
       ]
      },
      {
       "output_type": "stream",
       "stream": "stdout",
       "text": [
        "\r",
        "Computed shortest paths from node 691 of 1271"
       ]
      },
      {
       "output_type": "stream",
       "stream": "stdout",
       "text": [
        "\r",
        "Computed shortest paths from node 692 of 1271"
       ]
      },
      {
       "output_type": "stream",
       "stream": "stdout",
       "text": [
        "\r",
        "Computed shortest paths from node 693 of 1271"
       ]
      },
      {
       "output_type": "stream",
       "stream": "stdout",
       "text": [
        "\r",
        "Computed shortest paths from node 694 of 1271"
       ]
      },
      {
       "output_type": "stream",
       "stream": "stdout",
       "text": [
        "\r",
        "Computed shortest paths from node 695 of 1271"
       ]
      },
      {
       "output_type": "stream",
       "stream": "stdout",
       "text": [
        "\r",
        "Computed shortest paths from node 696 of 1271"
       ]
      },
      {
       "output_type": "stream",
       "stream": "stdout",
       "text": [
        "\r",
        "Computed shortest paths from node 697 of 1271"
       ]
      },
      {
       "output_type": "stream",
       "stream": "stdout",
       "text": [
        "\r",
        "Computed shortest paths from node 698 of 1271"
       ]
      },
      {
       "output_type": "stream",
       "stream": "stdout",
       "text": [
        "\r",
        "Computed shortest paths from node 699 of 1271"
       ]
      },
      {
       "output_type": "stream",
       "stream": "stdout",
       "text": [
        "\r",
        "Computed shortest paths from node 700 of 1271"
       ]
      },
      {
       "output_type": "stream",
       "stream": "stdout",
       "text": [
        "\r",
        "Computed shortest paths from node 701 of 1271"
       ]
      },
      {
       "output_type": "stream",
       "stream": "stdout",
       "text": [
        "\r",
        "Computed shortest paths from node 702 of 1271"
       ]
      },
      {
       "output_type": "stream",
       "stream": "stdout",
       "text": [
        "\r",
        "Computed shortest paths from node 703 of 1271"
       ]
      },
      {
       "output_type": "stream",
       "stream": "stdout",
       "text": [
        "\r",
        "Computed shortest paths from node 704 of 1271"
       ]
      },
      {
       "output_type": "stream",
       "stream": "stdout",
       "text": [
        "\r",
        "Computed shortest paths from node 705 of 1271"
       ]
      },
      {
       "output_type": "stream",
       "stream": "stdout",
       "text": [
        "\r",
        "Computed shortest paths from node 706 of 1271"
       ]
      },
      {
       "output_type": "stream",
       "stream": "stdout",
       "text": [
        "\r",
        "Computed shortest paths from node 707 of 1271"
       ]
      },
      {
       "output_type": "stream",
       "stream": "stdout",
       "text": [
        "\r",
        "Computed shortest paths from node 708 of 1271"
       ]
      },
      {
       "output_type": "stream",
       "stream": "stdout",
       "text": [
        "\r",
        "Computed shortest paths from node 709 of 1271"
       ]
      },
      {
       "output_type": "stream",
       "stream": "stdout",
       "text": [
        "\r",
        "Computed shortest paths from node 710 of 1271"
       ]
      },
      {
       "output_type": "stream",
       "stream": "stdout",
       "text": [
        "\r",
        "Computed shortest paths from node 711 of 1271"
       ]
      },
      {
       "output_type": "stream",
       "stream": "stdout",
       "text": [
        "\r",
        "Computed shortest paths from node 712 of 1271"
       ]
      },
      {
       "output_type": "stream",
       "stream": "stdout",
       "text": [
        "\r",
        "Computed shortest paths from node 713 of 1271"
       ]
      },
      {
       "output_type": "stream",
       "stream": "stdout",
       "text": [
        "\r",
        "Computed shortest paths from node 714 of 1271"
       ]
      },
      {
       "output_type": "stream",
       "stream": "stdout",
       "text": [
        "\r",
        "Computed shortest paths from node 715 of 1271"
       ]
      },
      {
       "output_type": "stream",
       "stream": "stdout",
       "text": [
        "\r",
        "Computed shortest paths from node 716 of 1271"
       ]
      },
      {
       "output_type": "stream",
       "stream": "stdout",
       "text": [
        "\r",
        "Computed shortest paths from node 717 of 1271"
       ]
      },
      {
       "output_type": "stream",
       "stream": "stdout",
       "text": [
        "\r",
        "Computed shortest paths from node 718 of 1271"
       ]
      },
      {
       "output_type": "stream",
       "stream": "stdout",
       "text": [
        "\r",
        "Computed shortest paths from node 719 of 1271"
       ]
      },
      {
       "output_type": "stream",
       "stream": "stdout",
       "text": [
        "\r",
        "Computed shortest paths from node 720 of 1271"
       ]
      },
      {
       "output_type": "stream",
       "stream": "stdout",
       "text": [
        "\r",
        "Computed shortest paths from node 721 of 1271"
       ]
      },
      {
       "output_type": "stream",
       "stream": "stdout",
       "text": [
        "\r",
        "Computed shortest paths from node 722 of 1271"
       ]
      },
      {
       "output_type": "stream",
       "stream": "stdout",
       "text": [
        "\r",
        "Computed shortest paths from node 723 of 1271"
       ]
      },
      {
       "output_type": "stream",
       "stream": "stdout",
       "text": [
        "\r",
        "Computed shortest paths from node 724 of 1271"
       ]
      },
      {
       "output_type": "stream",
       "stream": "stdout",
       "text": [
        "\r",
        "Computed shortest paths from node 725 of 1271"
       ]
      },
      {
       "output_type": "stream",
       "stream": "stdout",
       "text": [
        "\r",
        "Computed shortest paths from node 726 of 1271"
       ]
      },
      {
       "output_type": "stream",
       "stream": "stdout",
       "text": [
        "\r",
        "Computed shortest paths from node 727 of 1271"
       ]
      },
      {
       "output_type": "stream",
       "stream": "stdout",
       "text": [
        "\r",
        "Computed shortest paths from node 728 of 1271"
       ]
      },
      {
       "output_type": "stream",
       "stream": "stdout",
       "text": [
        "\r",
        "Computed shortest paths from node 729 of 1271"
       ]
      },
      {
       "output_type": "stream",
       "stream": "stdout",
       "text": [
        "\r",
        "Computed shortest paths from node 730 of 1271"
       ]
      },
      {
       "output_type": "stream",
       "stream": "stdout",
       "text": [
        "\r",
        "Computed shortest paths from node 731 of 1271"
       ]
      },
      {
       "output_type": "stream",
       "stream": "stdout",
       "text": [
        "\r",
        "Computed shortest paths from node 732 of 1271"
       ]
      },
      {
       "output_type": "stream",
       "stream": "stdout",
       "text": [
        "\r",
        "Computed shortest paths from node 733 of 1271"
       ]
      },
      {
       "output_type": "stream",
       "stream": "stdout",
       "text": [
        "\r",
        "Computed shortest paths from node 734 of 1271"
       ]
      },
      {
       "output_type": "stream",
       "stream": "stdout",
       "text": [
        "\r",
        "Computed shortest paths from node 735 of 1271"
       ]
      },
      {
       "output_type": "stream",
       "stream": "stdout",
       "text": [
        "\r",
        "Computed shortest paths from node 736 of 1271"
       ]
      },
      {
       "output_type": "stream",
       "stream": "stdout",
       "text": [
        "\r",
        "Computed shortest paths from node 737 of 1271"
       ]
      },
      {
       "output_type": "stream",
       "stream": "stdout",
       "text": [
        "\r",
        "Computed shortest paths from node 738 of 1271"
       ]
      },
      {
       "output_type": "stream",
       "stream": "stdout",
       "text": [
        "\r",
        "Computed shortest paths from node 739 of 1271"
       ]
      },
      {
       "output_type": "stream",
       "stream": "stdout",
       "text": [
        "\r",
        "Computed shortest paths from node 740 of 1271"
       ]
      },
      {
       "output_type": "stream",
       "stream": "stdout",
       "text": [
        "\r",
        "Computed shortest paths from node 741 of 1271"
       ]
      },
      {
       "output_type": "stream",
       "stream": "stdout",
       "text": [
        "\r",
        "Computed shortest paths from node 742 of 1271"
       ]
      },
      {
       "output_type": "stream",
       "stream": "stdout",
       "text": [
        "\r",
        "Computed shortest paths from node 743 of 1271"
       ]
      },
      {
       "output_type": "stream",
       "stream": "stdout",
       "text": [
        "\r",
        "Computed shortest paths from node 744 of 1271"
       ]
      },
      {
       "output_type": "stream",
       "stream": "stdout",
       "text": [
        "\r",
        "Computed shortest paths from node 745 of 1271"
       ]
      },
      {
       "output_type": "stream",
       "stream": "stdout",
       "text": [
        "\r",
        "Computed shortest paths from node 746 of 1271"
       ]
      },
      {
       "output_type": "stream",
       "stream": "stdout",
       "text": [
        "\r",
        "Computed shortest paths from node 747 of 1271"
       ]
      },
      {
       "output_type": "stream",
       "stream": "stdout",
       "text": [
        "\r",
        "Computed shortest paths from node 748 of 1271"
       ]
      },
      {
       "output_type": "stream",
       "stream": "stdout",
       "text": [
        "\r",
        "Computed shortest paths from node 749 of 1271"
       ]
      },
      {
       "output_type": "stream",
       "stream": "stdout",
       "text": [
        "\r",
        "Computed shortest paths from node 750 of 1271"
       ]
      },
      {
       "output_type": "stream",
       "stream": "stdout",
       "text": [
        "\r",
        "Computed shortest paths from node 751 of 1271"
       ]
      },
      {
       "output_type": "stream",
       "stream": "stdout",
       "text": [
        "\r",
        "Computed shortest paths from node 752 of 1271"
       ]
      },
      {
       "output_type": "stream",
       "stream": "stdout",
       "text": [
        "\r",
        "Computed shortest paths from node 753 of 1271"
       ]
      },
      {
       "output_type": "stream",
       "stream": "stdout",
       "text": [
        "\r",
        "Computed shortest paths from node 754 of 1271"
       ]
      },
      {
       "output_type": "stream",
       "stream": "stdout",
       "text": [
        "\r",
        "Computed shortest paths from node 755 of 1271"
       ]
      },
      {
       "output_type": "stream",
       "stream": "stdout",
       "text": [
        "\r",
        "Computed shortest paths from node 756 of 1271"
       ]
      },
      {
       "output_type": "stream",
       "stream": "stdout",
       "text": [
        "\r",
        "Computed shortest paths from node 757 of 1271"
       ]
      },
      {
       "output_type": "stream",
       "stream": "stdout",
       "text": [
        "\r",
        "Computed shortest paths from node 758 of 1271"
       ]
      },
      {
       "output_type": "stream",
       "stream": "stdout",
       "text": [
        "\r",
        "Computed shortest paths from node 759 of 1271"
       ]
      },
      {
       "output_type": "stream",
       "stream": "stdout",
       "text": [
        "\r",
        "Computed shortest paths from node 760 of 1271"
       ]
      },
      {
       "output_type": "stream",
       "stream": "stdout",
       "text": [
        "\r",
        "Computed shortest paths from node 761 of 1271"
       ]
      },
      {
       "output_type": "stream",
       "stream": "stdout",
       "text": [
        "\r",
        "Computed shortest paths from node 762 of 1271"
       ]
      },
      {
       "output_type": "stream",
       "stream": "stdout",
       "text": [
        "\r",
        "Computed shortest paths from node 763 of 1271"
       ]
      },
      {
       "output_type": "stream",
       "stream": "stdout",
       "text": [
        "\r",
        "Computed shortest paths from node 764 of 1271"
       ]
      },
      {
       "output_type": "stream",
       "stream": "stdout",
       "text": [
        "\r",
        "Computed shortest paths from node 765 of 1271"
       ]
      },
      {
       "output_type": "stream",
       "stream": "stdout",
       "text": [
        "\r",
        "Computed shortest paths from node 766 of 1271"
       ]
      },
      {
       "output_type": "stream",
       "stream": "stdout",
       "text": [
        "\r",
        "Computed shortest paths from node 767 of 1271"
       ]
      },
      {
       "output_type": "stream",
       "stream": "stdout",
       "text": [
        "\r",
        "Computed shortest paths from node 768 of 1271"
       ]
      },
      {
       "output_type": "stream",
       "stream": "stdout",
       "text": [
        "\r",
        "Computed shortest paths from node 769 of 1271"
       ]
      },
      {
       "output_type": "stream",
       "stream": "stdout",
       "text": [
        "\r",
        "Computed shortest paths from node 770 of 1271"
       ]
      },
      {
       "output_type": "stream",
       "stream": "stdout",
       "text": [
        "\r",
        "Computed shortest paths from node 771 of 1271"
       ]
      },
      {
       "output_type": "stream",
       "stream": "stdout",
       "text": [
        "\r",
        "Computed shortest paths from node 772 of 1271"
       ]
      },
      {
       "output_type": "stream",
       "stream": "stdout",
       "text": [
        "\r",
        "Computed shortest paths from node 773 of 1271"
       ]
      },
      {
       "output_type": "stream",
       "stream": "stdout",
       "text": [
        "\r",
        "Computed shortest paths from node 774 of 1271"
       ]
      },
      {
       "output_type": "stream",
       "stream": "stdout",
       "text": [
        "\r",
        "Computed shortest paths from node 775 of 1271"
       ]
      },
      {
       "output_type": "stream",
       "stream": "stdout",
       "text": [
        "\r",
        "Computed shortest paths from node 776 of 1271"
       ]
      },
      {
       "output_type": "stream",
       "stream": "stdout",
       "text": [
        "\r",
        "Computed shortest paths from node 777 of 1271"
       ]
      },
      {
       "output_type": "stream",
       "stream": "stdout",
       "text": [
        "\r",
        "Computed shortest paths from node 778 of 1271"
       ]
      },
      {
       "output_type": "stream",
       "stream": "stdout",
       "text": [
        "\r",
        "Computed shortest paths from node 779 of 1271"
       ]
      },
      {
       "output_type": "stream",
       "stream": "stdout",
       "text": [
        "\r",
        "Computed shortest paths from node 780 of 1271"
       ]
      },
      {
       "output_type": "stream",
       "stream": "stdout",
       "text": [
        "\r",
        "Computed shortest paths from node 781 of 1271"
       ]
      },
      {
       "output_type": "stream",
       "stream": "stdout",
       "text": [
        "\r",
        "Computed shortest paths from node 782 of 1271"
       ]
      },
      {
       "output_type": "stream",
       "stream": "stdout",
       "text": [
        "\r",
        "Computed shortest paths from node 783 of 1271"
       ]
      },
      {
       "output_type": "stream",
       "stream": "stdout",
       "text": [
        "\r",
        "Computed shortest paths from node 784 of 1271"
       ]
      },
      {
       "output_type": "stream",
       "stream": "stdout",
       "text": [
        "\r",
        "Computed shortest paths from node 785 of 1271"
       ]
      },
      {
       "output_type": "stream",
       "stream": "stdout",
       "text": [
        "\r",
        "Computed shortest paths from node 786 of 1271"
       ]
      },
      {
       "output_type": "stream",
       "stream": "stdout",
       "text": [
        "\r",
        "Computed shortest paths from node 787 of 1271"
       ]
      },
      {
       "output_type": "stream",
       "stream": "stdout",
       "text": [
        "\r",
        "Computed shortest paths from node 788 of 1271"
       ]
      },
      {
       "output_type": "stream",
       "stream": "stdout",
       "text": [
        "\r",
        "Computed shortest paths from node 789 of 1271"
       ]
      },
      {
       "output_type": "stream",
       "stream": "stdout",
       "text": [
        "\r",
        "Computed shortest paths from node 790 of 1271"
       ]
      },
      {
       "output_type": "stream",
       "stream": "stdout",
       "text": [
        "\r",
        "Computed shortest paths from node 791 of 1271"
       ]
      },
      {
       "output_type": "stream",
       "stream": "stdout",
       "text": [
        "\r",
        "Computed shortest paths from node 792 of 1271"
       ]
      },
      {
       "output_type": "stream",
       "stream": "stdout",
       "text": [
        "\r",
        "Computed shortest paths from node 793 of 1271"
       ]
      },
      {
       "output_type": "stream",
       "stream": "stdout",
       "text": [
        "\r",
        "Computed shortest paths from node 794 of 1271"
       ]
      },
      {
       "output_type": "stream",
       "stream": "stdout",
       "text": [
        "\r",
        "Computed shortest paths from node 795 of 1271"
       ]
      },
      {
       "output_type": "stream",
       "stream": "stdout",
       "text": [
        "\r",
        "Computed shortest paths from node 796 of 1271"
       ]
      },
      {
       "output_type": "stream",
       "stream": "stdout",
       "text": [
        "\r",
        "Computed shortest paths from node 797 of 1271"
       ]
      },
      {
       "output_type": "stream",
       "stream": "stdout",
       "text": [
        "\r",
        "Computed shortest paths from node 798 of 1271"
       ]
      },
      {
       "output_type": "stream",
       "stream": "stdout",
       "text": [
        "\r",
        "Computed shortest paths from node 799 of 1271"
       ]
      },
      {
       "output_type": "stream",
       "stream": "stdout",
       "text": [
        "\r",
        "Computed shortest paths from node 800 of 1271"
       ]
      },
      {
       "output_type": "stream",
       "stream": "stdout",
       "text": [
        "\r",
        "Computed shortest paths from node 801 of 1271"
       ]
      },
      {
       "output_type": "stream",
       "stream": "stdout",
       "text": [
        "\r",
        "Computed shortest paths from node 802 of 1271"
       ]
      },
      {
       "output_type": "stream",
       "stream": "stdout",
       "text": [
        "\r",
        "Computed shortest paths from node 803 of 1271"
       ]
      },
      {
       "output_type": "stream",
       "stream": "stdout",
       "text": [
        "\r",
        "Computed shortest paths from node 804 of 1271"
       ]
      },
      {
       "output_type": "stream",
       "stream": "stdout",
       "text": [
        "\r",
        "Computed shortest paths from node 805 of 1271"
       ]
      },
      {
       "output_type": "stream",
       "stream": "stdout",
       "text": [
        "\r",
        "Computed shortest paths from node 806 of 1271"
       ]
      },
      {
       "output_type": "stream",
       "stream": "stdout",
       "text": [
        "\r",
        "Computed shortest paths from node 807 of 1271"
       ]
      },
      {
       "output_type": "stream",
       "stream": "stdout",
       "text": [
        "\r",
        "Computed shortest paths from node 808 of 1271"
       ]
      },
      {
       "output_type": "stream",
       "stream": "stdout",
       "text": [
        "\r",
        "Computed shortest paths from node 809 of 1271"
       ]
      },
      {
       "output_type": "stream",
       "stream": "stdout",
       "text": [
        "\r",
        "Computed shortest paths from node 810 of 1271"
       ]
      },
      {
       "output_type": "stream",
       "stream": "stdout",
       "text": [
        "\r",
        "Computed shortest paths from node 811 of 1271"
       ]
      },
      {
       "output_type": "stream",
       "stream": "stdout",
       "text": [
        "\r",
        "Computed shortest paths from node 812 of 1271"
       ]
      },
      {
       "output_type": "stream",
       "stream": "stdout",
       "text": [
        "\r",
        "Computed shortest paths from node 813 of 1271"
       ]
      },
      {
       "output_type": "stream",
       "stream": "stdout",
       "text": [
        "\r",
        "Computed shortest paths from node 814 of 1271"
       ]
      },
      {
       "output_type": "stream",
       "stream": "stdout",
       "text": [
        "\r",
        "Computed shortest paths from node 815 of 1271"
       ]
      },
      {
       "output_type": "stream",
       "stream": "stdout",
       "text": [
        "\r",
        "Computed shortest paths from node 816 of 1271"
       ]
      },
      {
       "output_type": "stream",
       "stream": "stdout",
       "text": [
        "\r",
        "Computed shortest paths from node 817 of 1271"
       ]
      },
      {
       "output_type": "stream",
       "stream": "stdout",
       "text": [
        "\r",
        "Computed shortest paths from node 818 of 1271"
       ]
      },
      {
       "output_type": "stream",
       "stream": "stdout",
       "text": [
        "\r",
        "Computed shortest paths from node 819 of 1271"
       ]
      },
      {
       "output_type": "stream",
       "stream": "stdout",
       "text": [
        "\r",
        "Computed shortest paths from node 820 of 1271"
       ]
      },
      {
       "output_type": "stream",
       "stream": "stdout",
       "text": [
        "\r",
        "Computed shortest paths from node 821 of 1271"
       ]
      },
      {
       "output_type": "stream",
       "stream": "stdout",
       "text": [
        "\r",
        "Computed shortest paths from node 822 of 1271"
       ]
      },
      {
       "output_type": "stream",
       "stream": "stdout",
       "text": [
        "\r",
        "Computed shortest paths from node 823 of 1271"
       ]
      },
      {
       "output_type": "stream",
       "stream": "stdout",
       "text": [
        "\r",
        "Computed shortest paths from node 824 of 1271"
       ]
      },
      {
       "output_type": "stream",
       "stream": "stdout",
       "text": [
        "\r",
        "Computed shortest paths from node 825 of 1271"
       ]
      },
      {
       "output_type": "stream",
       "stream": "stdout",
       "text": [
        "\r",
        "Computed shortest paths from node 826 of 1271"
       ]
      },
      {
       "output_type": "stream",
       "stream": "stdout",
       "text": [
        "\r",
        "Computed shortest paths from node 827 of 1271"
       ]
      },
      {
       "output_type": "stream",
       "stream": "stdout",
       "text": [
        "\r",
        "Computed shortest paths from node 828 of 1271"
       ]
      },
      {
       "output_type": "stream",
       "stream": "stdout",
       "text": [
        "\r",
        "Computed shortest paths from node 829 of 1271"
       ]
      },
      {
       "output_type": "stream",
       "stream": "stdout",
       "text": [
        "\r",
        "Computed shortest paths from node 830 of 1271"
       ]
      },
      {
       "output_type": "stream",
       "stream": "stdout",
       "text": [
        "\r",
        "Computed shortest paths from node 831 of 1271"
       ]
      },
      {
       "output_type": "stream",
       "stream": "stdout",
       "text": [
        "\r",
        "Computed shortest paths from node 832 of 1271"
       ]
      },
      {
       "output_type": "stream",
       "stream": "stdout",
       "text": [
        "\r",
        "Computed shortest paths from node 833 of 1271"
       ]
      },
      {
       "output_type": "stream",
       "stream": "stdout",
       "text": [
        "\r",
        "Computed shortest paths from node 834 of 1271"
       ]
      },
      {
       "output_type": "stream",
       "stream": "stdout",
       "text": [
        "\r",
        "Computed shortest paths from node 835 of 1271"
       ]
      },
      {
       "output_type": "stream",
       "stream": "stdout",
       "text": [
        "\r",
        "Computed shortest paths from node 836 of 1271"
       ]
      },
      {
       "output_type": "stream",
       "stream": "stdout",
       "text": [
        "\r",
        "Computed shortest paths from node 837 of 1271"
       ]
      },
      {
       "output_type": "stream",
       "stream": "stdout",
       "text": [
        "\r",
        "Computed shortest paths from node 838 of 1271"
       ]
      },
      {
       "output_type": "stream",
       "stream": "stdout",
       "text": [
        "\r",
        "Computed shortest paths from node 839 of 1271"
       ]
      },
      {
       "output_type": "stream",
       "stream": "stdout",
       "text": [
        "\r",
        "Computed shortest paths from node 840 of 1271"
       ]
      },
      {
       "output_type": "stream",
       "stream": "stdout",
       "text": [
        "\r",
        "Computed shortest paths from node 841 of 1271"
       ]
      },
      {
       "output_type": "stream",
       "stream": "stdout",
       "text": [
        "\r",
        "Computed shortest paths from node 842 of 1271"
       ]
      },
      {
       "output_type": "stream",
       "stream": "stdout",
       "text": [
        "\r",
        "Computed shortest paths from node 843 of 1271"
       ]
      },
      {
       "output_type": "stream",
       "stream": "stdout",
       "text": [
        "\r",
        "Computed shortest paths from node 844 of 1271"
       ]
      },
      {
       "output_type": "stream",
       "stream": "stdout",
       "text": [
        "\r",
        "Computed shortest paths from node 845 of 1271"
       ]
      },
      {
       "output_type": "stream",
       "stream": "stdout",
       "text": [
        "\r",
        "Computed shortest paths from node 846 of 1271"
       ]
      },
      {
       "output_type": "stream",
       "stream": "stdout",
       "text": [
        "\r",
        "Computed shortest paths from node 847 of 1271"
       ]
      },
      {
       "output_type": "stream",
       "stream": "stdout",
       "text": [
        "\r",
        "Computed shortest paths from node 848 of 1271"
       ]
      },
      {
       "output_type": "stream",
       "stream": "stdout",
       "text": [
        "\r",
        "Computed shortest paths from node 849 of 1271"
       ]
      },
      {
       "output_type": "stream",
       "stream": "stdout",
       "text": [
        "\r",
        "Computed shortest paths from node 850 of 1271"
       ]
      },
      {
       "output_type": "stream",
       "stream": "stdout",
       "text": [
        "\r",
        "Computed shortest paths from node 851 of 1271"
       ]
      },
      {
       "output_type": "stream",
       "stream": "stdout",
       "text": [
        "\r",
        "Computed shortest paths from node 852 of 1271"
       ]
      },
      {
       "output_type": "stream",
       "stream": "stdout",
       "text": [
        "\r",
        "Computed shortest paths from node 853 of 1271"
       ]
      },
      {
       "output_type": "stream",
       "stream": "stdout",
       "text": [
        "\r",
        "Computed shortest paths from node 854 of 1271"
       ]
      },
      {
       "output_type": "stream",
       "stream": "stdout",
       "text": [
        "\r",
        "Computed shortest paths from node 855 of 1271"
       ]
      },
      {
       "output_type": "stream",
       "stream": "stdout",
       "text": [
        "\r",
        "Computed shortest paths from node 856 of 1271"
       ]
      },
      {
       "output_type": "stream",
       "stream": "stdout",
       "text": [
        "\r",
        "Computed shortest paths from node 857 of 1271"
       ]
      },
      {
       "output_type": "stream",
       "stream": "stdout",
       "text": [
        "\r",
        "Computed shortest paths from node 858 of 1271"
       ]
      },
      {
       "output_type": "stream",
       "stream": "stdout",
       "text": [
        "\r",
        "Computed shortest paths from node 859 of 1271"
       ]
      },
      {
       "output_type": "stream",
       "stream": "stdout",
       "text": [
        "\r",
        "Computed shortest paths from node 860 of 1271"
       ]
      },
      {
       "output_type": "stream",
       "stream": "stdout",
       "text": [
        "\r",
        "Computed shortest paths from node 861 of 1271"
       ]
      },
      {
       "output_type": "stream",
       "stream": "stdout",
       "text": [
        "\r",
        "Computed shortest paths from node 862 of 1271"
       ]
      },
      {
       "output_type": "stream",
       "stream": "stdout",
       "text": [
        "\r",
        "Computed shortest paths from node 863 of 1271"
       ]
      },
      {
       "output_type": "stream",
       "stream": "stdout",
       "text": [
        "\r",
        "Computed shortest paths from node 864 of 1271"
       ]
      },
      {
       "output_type": "stream",
       "stream": "stdout",
       "text": [
        "\r",
        "Computed shortest paths from node 865 of 1271"
       ]
      },
      {
       "output_type": "stream",
       "stream": "stdout",
       "text": [
        "\r",
        "Computed shortest paths from node 866 of 1271"
       ]
      },
      {
       "output_type": "stream",
       "stream": "stdout",
       "text": [
        "\r",
        "Computed shortest paths from node 867 of 1271"
       ]
      },
      {
       "output_type": "stream",
       "stream": "stdout",
       "text": [
        "\r",
        "Computed shortest paths from node 868 of 1271"
       ]
      },
      {
       "output_type": "stream",
       "stream": "stdout",
       "text": [
        "\r",
        "Computed shortest paths from node 869 of 1271"
       ]
      },
      {
       "output_type": "stream",
       "stream": "stdout",
       "text": [
        "\r",
        "Computed shortest paths from node 870 of 1271"
       ]
      },
      {
       "output_type": "stream",
       "stream": "stdout",
       "text": [
        "\r",
        "Computed shortest paths from node 871 of 1271"
       ]
      },
      {
       "output_type": "stream",
       "stream": "stdout",
       "text": [
        "\r",
        "Computed shortest paths from node 872 of 1271"
       ]
      },
      {
       "output_type": "stream",
       "stream": "stdout",
       "text": [
        "\r",
        "Computed shortest paths from node 873 of 1271"
       ]
      },
      {
       "output_type": "stream",
       "stream": "stdout",
       "text": [
        "\r",
        "Computed shortest paths from node 874 of 1271"
       ]
      },
      {
       "output_type": "stream",
       "stream": "stdout",
       "text": [
        "\r",
        "Computed shortest paths from node 875 of 1271"
       ]
      },
      {
       "output_type": "stream",
       "stream": "stdout",
       "text": [
        "\r",
        "Computed shortest paths from node 876 of 1271"
       ]
      },
      {
       "output_type": "stream",
       "stream": "stdout",
       "text": [
        "\r",
        "Computed shortest paths from node 877 of 1271"
       ]
      },
      {
       "output_type": "stream",
       "stream": "stdout",
       "text": [
        "\r",
        "Computed shortest paths from node 878 of 1271"
       ]
      },
      {
       "output_type": "stream",
       "stream": "stdout",
       "text": [
        "\r",
        "Computed shortest paths from node 879 of 1271"
       ]
      },
      {
       "output_type": "stream",
       "stream": "stdout",
       "text": [
        "\r",
        "Computed shortest paths from node 880 of 1271"
       ]
      },
      {
       "output_type": "stream",
       "stream": "stdout",
       "text": [
        "\r",
        "Computed shortest paths from node 881 of 1271"
       ]
      },
      {
       "output_type": "stream",
       "stream": "stdout",
       "text": [
        "\r",
        "Computed shortest paths from node 882 of 1271"
       ]
      },
      {
       "output_type": "stream",
       "stream": "stdout",
       "text": [
        "\r",
        "Computed shortest paths from node 883 of 1271"
       ]
      },
      {
       "output_type": "stream",
       "stream": "stdout",
       "text": [
        "\r",
        "Computed shortest paths from node 884 of 1271"
       ]
      },
      {
       "output_type": "stream",
       "stream": "stdout",
       "text": [
        "\r",
        "Computed shortest paths from node 885 of 1271"
       ]
      },
      {
       "output_type": "stream",
       "stream": "stdout",
       "text": [
        "\r",
        "Computed shortest paths from node 886 of 1271"
       ]
      },
      {
       "output_type": "stream",
       "stream": "stdout",
       "text": [
        "\r",
        "Computed shortest paths from node 887 of 1271"
       ]
      },
      {
       "output_type": "stream",
       "stream": "stdout",
       "text": [
        "\r",
        "Computed shortest paths from node 888 of 1271"
       ]
      },
      {
       "output_type": "stream",
       "stream": "stdout",
       "text": [
        "\r",
        "Computed shortest paths from node 889 of 1271"
       ]
      },
      {
       "output_type": "stream",
       "stream": "stdout",
       "text": [
        "\r",
        "Computed shortest paths from node 890 of 1271"
       ]
      },
      {
       "output_type": "stream",
       "stream": "stdout",
       "text": [
        "\r",
        "Computed shortest paths from node 891 of 1271"
       ]
      },
      {
       "output_type": "stream",
       "stream": "stdout",
       "text": [
        "\r",
        "Computed shortest paths from node 892 of 1271"
       ]
      },
      {
       "output_type": "stream",
       "stream": "stdout",
       "text": [
        "\r",
        "Computed shortest paths from node 893 of 1271"
       ]
      },
      {
       "output_type": "stream",
       "stream": "stdout",
       "text": [
        "\r",
        "Computed shortest paths from node 894 of 1271"
       ]
      },
      {
       "output_type": "stream",
       "stream": "stdout",
       "text": [
        "\r",
        "Computed shortest paths from node 895 of 1271"
       ]
      },
      {
       "output_type": "stream",
       "stream": "stdout",
       "text": [
        "\r",
        "Computed shortest paths from node 896 of 1271"
       ]
      },
      {
       "output_type": "stream",
       "stream": "stdout",
       "text": [
        "\r",
        "Computed shortest paths from node 897 of 1271"
       ]
      },
      {
       "output_type": "stream",
       "stream": "stdout",
       "text": [
        "\r",
        "Computed shortest paths from node 898 of 1271"
       ]
      },
      {
       "output_type": "stream",
       "stream": "stdout",
       "text": [
        "\r",
        "Computed shortest paths from node 899 of 1271"
       ]
      },
      {
       "output_type": "stream",
       "stream": "stdout",
       "text": [
        "\r",
        "Computed shortest paths from node 900 of 1271"
       ]
      },
      {
       "output_type": "stream",
       "stream": "stdout",
       "text": [
        "\r",
        "Computed shortest paths from node 901 of 1271"
       ]
      },
      {
       "output_type": "stream",
       "stream": "stdout",
       "text": [
        "\r",
        "Computed shortest paths from node 902 of 1271"
       ]
      },
      {
       "output_type": "stream",
       "stream": "stdout",
       "text": [
        "\r",
        "Computed shortest paths from node 903 of 1271"
       ]
      },
      {
       "output_type": "stream",
       "stream": "stdout",
       "text": [
        "\r",
        "Computed shortest paths from node 904 of 1271"
       ]
      },
      {
       "output_type": "stream",
       "stream": "stdout",
       "text": [
        "\r",
        "Computed shortest paths from node 905 of 1271"
       ]
      },
      {
       "output_type": "stream",
       "stream": "stdout",
       "text": [
        "\r",
        "Computed shortest paths from node 906 of 1271"
       ]
      },
      {
       "output_type": "stream",
       "stream": "stdout",
       "text": [
        "\r",
        "Computed shortest paths from node 907 of 1271"
       ]
      },
      {
       "output_type": "stream",
       "stream": "stdout",
       "text": [
        "\r",
        "Computed shortest paths from node 908 of 1271"
       ]
      },
      {
       "output_type": "stream",
       "stream": "stdout",
       "text": [
        "\r",
        "Computed shortest paths from node 909 of 1271"
       ]
      },
      {
       "output_type": "stream",
       "stream": "stdout",
       "text": [
        "\r",
        "Computed shortest paths from node 910 of 1271"
       ]
      },
      {
       "output_type": "stream",
       "stream": "stdout",
       "text": [
        "\r",
        "Computed shortest paths from node 911 of 1271"
       ]
      },
      {
       "output_type": "stream",
       "stream": "stdout",
       "text": [
        "\r",
        "Computed shortest paths from node 912 of 1271"
       ]
      },
      {
       "output_type": "stream",
       "stream": "stdout",
       "text": [
        "\r",
        "Computed shortest paths from node 913 of 1271"
       ]
      },
      {
       "output_type": "stream",
       "stream": "stdout",
       "text": [
        "\r",
        "Computed shortest paths from node 914 of 1271"
       ]
      },
      {
       "output_type": "stream",
       "stream": "stdout",
       "text": [
        "\r",
        "Computed shortest paths from node 915 of 1271"
       ]
      },
      {
       "output_type": "stream",
       "stream": "stdout",
       "text": [
        "\r",
        "Computed shortest paths from node 916 of 1271"
       ]
      },
      {
       "output_type": "stream",
       "stream": "stdout",
       "text": [
        "\r",
        "Computed shortest paths from node 917 of 1271"
       ]
      },
      {
       "output_type": "stream",
       "stream": "stdout",
       "text": [
        "\r",
        "Computed shortest paths from node 918 of 1271"
       ]
      },
      {
       "output_type": "stream",
       "stream": "stdout",
       "text": [
        "\r",
        "Computed shortest paths from node 919 of 1271"
       ]
      },
      {
       "output_type": "stream",
       "stream": "stdout",
       "text": [
        "\r",
        "Computed shortest paths from node 920 of 1271"
       ]
      },
      {
       "output_type": "stream",
       "stream": "stdout",
       "text": [
        "\r",
        "Computed shortest paths from node 921 of 1271"
       ]
      },
      {
       "output_type": "stream",
       "stream": "stdout",
       "text": [
        "\r",
        "Computed shortest paths from node 922 of 1271"
       ]
      },
      {
       "output_type": "stream",
       "stream": "stdout",
       "text": [
        "\r",
        "Computed shortest paths from node 923 of 1271"
       ]
      },
      {
       "output_type": "stream",
       "stream": "stdout",
       "text": [
        "\r",
        "Computed shortest paths from node 924 of 1271"
       ]
      },
      {
       "output_type": "stream",
       "stream": "stdout",
       "text": [
        "\r",
        "Computed shortest paths from node 925 of 1271"
       ]
      },
      {
       "output_type": "stream",
       "stream": "stdout",
       "text": [
        "\r",
        "Computed shortest paths from node 926 of 1271"
       ]
      },
      {
       "output_type": "stream",
       "stream": "stdout",
       "text": [
        "\r",
        "Computed shortest paths from node 927 of 1271"
       ]
      },
      {
       "output_type": "stream",
       "stream": "stdout",
       "text": [
        "\r",
        "Computed shortest paths from node 928 of 1271"
       ]
      },
      {
       "output_type": "stream",
       "stream": "stdout",
       "text": [
        "\r",
        "Computed shortest paths from node 929 of 1271"
       ]
      },
      {
       "output_type": "stream",
       "stream": "stdout",
       "text": [
        "\r",
        "Computed shortest paths from node 930 of 1271"
       ]
      },
      {
       "output_type": "stream",
       "stream": "stdout",
       "text": [
        "\r",
        "Computed shortest paths from node 931 of 1271"
       ]
      },
      {
       "output_type": "stream",
       "stream": "stdout",
       "text": [
        "\r",
        "Computed shortest paths from node 932 of 1271"
       ]
      },
      {
       "output_type": "stream",
       "stream": "stdout",
       "text": [
        "\r",
        "Computed shortest paths from node 933 of 1271"
       ]
      },
      {
       "output_type": "stream",
       "stream": "stdout",
       "text": [
        "\r",
        "Computed shortest paths from node 934 of 1271"
       ]
      },
      {
       "output_type": "stream",
       "stream": "stdout",
       "text": [
        "\r",
        "Computed shortest paths from node 935 of 1271"
       ]
      },
      {
       "output_type": "stream",
       "stream": "stdout",
       "text": [
        "\r",
        "Computed shortest paths from node 936 of 1271"
       ]
      },
      {
       "output_type": "stream",
       "stream": "stdout",
       "text": [
        "\r",
        "Computed shortest paths from node 937 of 1271"
       ]
      },
      {
       "output_type": "stream",
       "stream": "stdout",
       "text": [
        "\r",
        "Computed shortest paths from node 938 of 1271"
       ]
      },
      {
       "output_type": "stream",
       "stream": "stdout",
       "text": [
        "\r",
        "Computed shortest paths from node 939 of 1271"
       ]
      },
      {
       "output_type": "stream",
       "stream": "stdout",
       "text": [
        "\r",
        "Computed shortest paths from node 940 of 1271"
       ]
      },
      {
       "output_type": "stream",
       "stream": "stdout",
       "text": [
        "\r",
        "Computed shortest paths from node 941 of 1271"
       ]
      },
      {
       "output_type": "stream",
       "stream": "stdout",
       "text": [
        "\r",
        "Computed shortest paths from node 942 of 1271"
       ]
      },
      {
       "output_type": "stream",
       "stream": "stdout",
       "text": [
        "\r",
        "Computed shortest paths from node 943 of 1271"
       ]
      },
      {
       "output_type": "stream",
       "stream": "stdout",
       "text": [
        "\r",
        "Computed shortest paths from node 944 of 1271"
       ]
      },
      {
       "output_type": "stream",
       "stream": "stdout",
       "text": [
        "\r",
        "Computed shortest paths from node 945 of 1271"
       ]
      },
      {
       "output_type": "stream",
       "stream": "stdout",
       "text": [
        "\r",
        "Computed shortest paths from node 946 of 1271"
       ]
      },
      {
       "output_type": "stream",
       "stream": "stdout",
       "text": [
        "\r",
        "Computed shortest paths from node 947 of 1271"
       ]
      },
      {
       "output_type": "stream",
       "stream": "stdout",
       "text": [
        "\r",
        "Computed shortest paths from node 948 of 1271"
       ]
      },
      {
       "output_type": "stream",
       "stream": "stdout",
       "text": [
        "\r",
        "Computed shortest paths from node 949 of 1271"
       ]
      },
      {
       "output_type": "stream",
       "stream": "stdout",
       "text": [
        "\r",
        "Computed shortest paths from node 950 of 1271"
       ]
      },
      {
       "output_type": "stream",
       "stream": "stdout",
       "text": [
        "\r",
        "Computed shortest paths from node 951 of 1271"
       ]
      },
      {
       "output_type": "stream",
       "stream": "stdout",
       "text": [
        "\r",
        "Computed shortest paths from node 952 of 1271"
       ]
      },
      {
       "output_type": "stream",
       "stream": "stdout",
       "text": [
        "\r",
        "Computed shortest paths from node 953 of 1271"
       ]
      },
      {
       "output_type": "stream",
       "stream": "stdout",
       "text": [
        "\r",
        "Computed shortest paths from node 954 of 1271"
       ]
      },
      {
       "output_type": "stream",
       "stream": "stdout",
       "text": [
        "\r",
        "Computed shortest paths from node 955 of 1271"
       ]
      },
      {
       "output_type": "stream",
       "stream": "stdout",
       "text": [
        "\r",
        "Computed shortest paths from node 956 of 1271"
       ]
      },
      {
       "output_type": "stream",
       "stream": "stdout",
       "text": [
        "\r",
        "Computed shortest paths from node 957 of 1271"
       ]
      },
      {
       "output_type": "stream",
       "stream": "stdout",
       "text": [
        "\r",
        "Computed shortest paths from node 958 of 1271"
       ]
      },
      {
       "output_type": "stream",
       "stream": "stdout",
       "text": [
        "\r",
        "Computed shortest paths from node 959 of 1271"
       ]
      },
      {
       "output_type": "stream",
       "stream": "stdout",
       "text": [
        "\r",
        "Computed shortest paths from node 960 of 1271"
       ]
      },
      {
       "output_type": "stream",
       "stream": "stdout",
       "text": [
        "\r",
        "Computed shortest paths from node 961 of 1271"
       ]
      },
      {
       "output_type": "stream",
       "stream": "stdout",
       "text": [
        "\r",
        "Computed shortest paths from node 962 of 1271"
       ]
      },
      {
       "output_type": "stream",
       "stream": "stdout",
       "text": [
        "\r",
        "Computed shortest paths from node 963 of 1271"
       ]
      },
      {
       "output_type": "stream",
       "stream": "stdout",
       "text": [
        "\r",
        "Computed shortest paths from node 964 of 1271"
       ]
      },
      {
       "output_type": "stream",
       "stream": "stdout",
       "text": [
        "\r",
        "Computed shortest paths from node 965 of 1271"
       ]
      },
      {
       "output_type": "stream",
       "stream": "stdout",
       "text": [
        "\r",
        "Computed shortest paths from node 966 of 1271"
       ]
      },
      {
       "output_type": "stream",
       "stream": "stdout",
       "text": [
        "\r",
        "Computed shortest paths from node 967 of 1271"
       ]
      },
      {
       "output_type": "stream",
       "stream": "stdout",
       "text": [
        "\r",
        "Computed shortest paths from node 968 of 1271"
       ]
      },
      {
       "output_type": "stream",
       "stream": "stdout",
       "text": [
        "\r",
        "Computed shortest paths from node 969 of 1271"
       ]
      },
      {
       "output_type": "stream",
       "stream": "stdout",
       "text": [
        "\r",
        "Computed shortest paths from node 970 of 1271"
       ]
      },
      {
       "output_type": "stream",
       "stream": "stdout",
       "text": [
        "\r",
        "Computed shortest paths from node 971 of 1271"
       ]
      },
      {
       "output_type": "stream",
       "stream": "stdout",
       "text": [
        "\r",
        "Computed shortest paths from node 972 of 1271"
       ]
      },
      {
       "output_type": "stream",
       "stream": "stdout",
       "text": [
        "\r",
        "Computed shortest paths from node 973 of 1271"
       ]
      },
      {
       "output_type": "stream",
       "stream": "stdout",
       "text": [
        "\r",
        "Computed shortest paths from node 974 of 1271"
       ]
      },
      {
       "output_type": "stream",
       "stream": "stdout",
       "text": [
        "\r",
        "Computed shortest paths from node 975 of 1271"
       ]
      },
      {
       "output_type": "stream",
       "stream": "stdout",
       "text": [
        "\r",
        "Computed shortest paths from node 976 of 1271"
       ]
      },
      {
       "output_type": "stream",
       "stream": "stdout",
       "text": [
        "\r",
        "Computed shortest paths from node 977 of 1271"
       ]
      },
      {
       "output_type": "stream",
       "stream": "stdout",
       "text": [
        "\r",
        "Computed shortest paths from node 978 of 1271"
       ]
      },
      {
       "output_type": "stream",
       "stream": "stdout",
       "text": [
        "\r",
        "Computed shortest paths from node 979 of 1271"
       ]
      },
      {
       "output_type": "stream",
       "stream": "stdout",
       "text": [
        "\r",
        "Computed shortest paths from node 980 of 1271"
       ]
      },
      {
       "output_type": "stream",
       "stream": "stdout",
       "text": [
        "\r",
        "Computed shortest paths from node 981 of 1271"
       ]
      },
      {
       "output_type": "stream",
       "stream": "stdout",
       "text": [
        "\r",
        "Computed shortest paths from node 982 of 1271"
       ]
      },
      {
       "output_type": "stream",
       "stream": "stdout",
       "text": [
        "\r",
        "Computed shortest paths from node 983 of 1271"
       ]
      },
      {
       "output_type": "stream",
       "stream": "stdout",
       "text": [
        "\r",
        "Computed shortest paths from node 984 of 1271"
       ]
      },
      {
       "output_type": "stream",
       "stream": "stdout",
       "text": [
        "\r",
        "Computed shortest paths from node 985 of 1271"
       ]
      },
      {
       "output_type": "stream",
       "stream": "stdout",
       "text": [
        "\r",
        "Computed shortest paths from node 986 of 1271"
       ]
      },
      {
       "output_type": "stream",
       "stream": "stdout",
       "text": [
        "\r",
        "Computed shortest paths from node 987 of 1271"
       ]
      },
      {
       "output_type": "stream",
       "stream": "stdout",
       "text": [
        "\r",
        "Computed shortest paths from node 988 of 1271"
       ]
      },
      {
       "output_type": "stream",
       "stream": "stdout",
       "text": [
        "\r",
        "Computed shortest paths from node 989 of 1271"
       ]
      },
      {
       "output_type": "stream",
       "stream": "stdout",
       "text": [
        "\r",
        "Computed shortest paths from node 990 of 1271"
       ]
      },
      {
       "output_type": "stream",
       "stream": "stdout",
       "text": [
        "\r",
        "Computed shortest paths from node 991 of 1271"
       ]
      },
      {
       "output_type": "stream",
       "stream": "stdout",
       "text": [
        "\r",
        "Computed shortest paths from node 992 of 1271"
       ]
      },
      {
       "output_type": "stream",
       "stream": "stdout",
       "text": [
        "\r",
        "Computed shortest paths from node 993 of 1271"
       ]
      },
      {
       "output_type": "stream",
       "stream": "stdout",
       "text": [
        "\r",
        "Computed shortest paths from node 994 of 1271"
       ]
      },
      {
       "output_type": "stream",
       "stream": "stdout",
       "text": [
        "\r",
        "Computed shortest paths from node 995 of 1271"
       ]
      },
      {
       "output_type": "stream",
       "stream": "stdout",
       "text": [
        "\r",
        "Computed shortest paths from node 996 of 1271"
       ]
      },
      {
       "output_type": "stream",
       "stream": "stdout",
       "text": [
        "\r",
        "Computed shortest paths from node 997 of 1271"
       ]
      },
      {
       "output_type": "stream",
       "stream": "stdout",
       "text": [
        "\r",
        "Computed shortest paths from node 998 of 1271"
       ]
      },
      {
       "output_type": "stream",
       "stream": "stdout",
       "text": [
        "\r",
        "Computed shortest paths from node 999 of 1271"
       ]
      },
      {
       "output_type": "stream",
       "stream": "stdout",
       "text": [
        "\r",
        "Computed shortest paths from node 1000 of 1271"
       ]
      },
      {
       "output_type": "stream",
       "stream": "stdout",
       "text": [
        "\r",
        "Computed shortest paths from node 1001 of 1271"
       ]
      },
      {
       "output_type": "stream",
       "stream": "stdout",
       "text": [
        "\r",
        "Computed shortest paths from node 1002 of 1271"
       ]
      },
      {
       "output_type": "stream",
       "stream": "stdout",
       "text": [
        "\r",
        "Computed shortest paths from node 1003 of 1271"
       ]
      },
      {
       "output_type": "stream",
       "stream": "stdout",
       "text": [
        "\r",
        "Computed shortest paths from node 1004 of 1271"
       ]
      },
      {
       "output_type": "stream",
       "stream": "stdout",
       "text": [
        "\r",
        "Computed shortest paths from node 1005 of 1271"
       ]
      },
      {
       "output_type": "stream",
       "stream": "stdout",
       "text": [
        "\r",
        "Computed shortest paths from node 1006 of 1271"
       ]
      },
      {
       "output_type": "stream",
       "stream": "stdout",
       "text": [
        "\r",
        "Computed shortest paths from node 1007 of 1271"
       ]
      },
      {
       "output_type": "stream",
       "stream": "stdout",
       "text": [
        "\r",
        "Computed shortest paths from node 1008 of 1271"
       ]
      },
      {
       "output_type": "stream",
       "stream": "stdout",
       "text": [
        "\r",
        "Computed shortest paths from node 1009 of 1271"
       ]
      },
      {
       "output_type": "stream",
       "stream": "stdout",
       "text": [
        "\r",
        "Computed shortest paths from node 1010 of 1271"
       ]
      },
      {
       "output_type": "stream",
       "stream": "stdout",
       "text": [
        "\r",
        "Computed shortest paths from node 1011 of 1271"
       ]
      },
      {
       "output_type": "stream",
       "stream": "stdout",
       "text": [
        "\r",
        "Computed shortest paths from node 1012 of 1271"
       ]
      },
      {
       "output_type": "stream",
       "stream": "stdout",
       "text": [
        "\r",
        "Computed shortest paths from node 1013 of 1271"
       ]
      },
      {
       "output_type": "stream",
       "stream": "stdout",
       "text": [
        "\r",
        "Computed shortest paths from node 1014 of 1271"
       ]
      },
      {
       "output_type": "stream",
       "stream": "stdout",
       "text": [
        "\r",
        "Computed shortest paths from node 1015 of 1271"
       ]
      },
      {
       "output_type": "stream",
       "stream": "stdout",
       "text": [
        "\r",
        "Computed shortest paths from node 1016 of 1271"
       ]
      },
      {
       "output_type": "stream",
       "stream": "stdout",
       "text": [
        "\r",
        "Computed shortest paths from node 1017 of 1271"
       ]
      },
      {
       "output_type": "stream",
       "stream": "stdout",
       "text": [
        "\r",
        "Computed shortest paths from node 1018 of 1271"
       ]
      },
      {
       "output_type": "stream",
       "stream": "stdout",
       "text": [
        "\r",
        "Computed shortest paths from node 1019 of 1271"
       ]
      },
      {
       "output_type": "stream",
       "stream": "stdout",
       "text": [
        "\r",
        "Computed shortest paths from node 1020 of 1271"
       ]
      },
      {
       "output_type": "stream",
       "stream": "stdout",
       "text": [
        "\r",
        "Computed shortest paths from node 1021 of 1271"
       ]
      },
      {
       "output_type": "stream",
       "stream": "stdout",
       "text": [
        "\r",
        "Computed shortest paths from node 1022 of 1271"
       ]
      },
      {
       "output_type": "stream",
       "stream": "stdout",
       "text": [
        "\r",
        "Computed shortest paths from node 1023 of 1271"
       ]
      },
      {
       "output_type": "stream",
       "stream": "stdout",
       "text": [
        "\r",
        "Computed shortest paths from node 1024 of 1271"
       ]
      },
      {
       "output_type": "stream",
       "stream": "stdout",
       "text": [
        "\r",
        "Computed shortest paths from node 1025 of 1271"
       ]
      },
      {
       "output_type": "stream",
       "stream": "stdout",
       "text": [
        "\r",
        "Computed shortest paths from node 1026 of 1271"
       ]
      },
      {
       "output_type": "stream",
       "stream": "stdout",
       "text": [
        "\r",
        "Computed shortest paths from node 1027 of 1271"
       ]
      },
      {
       "output_type": "stream",
       "stream": "stdout",
       "text": [
        "\r",
        "Computed shortest paths from node 1028 of 1271"
       ]
      },
      {
       "output_type": "stream",
       "stream": "stdout",
       "text": [
        "\r",
        "Computed shortest paths from node 1029 of 1271"
       ]
      },
      {
       "output_type": "stream",
       "stream": "stdout",
       "text": [
        "\r",
        "Computed shortest paths from node 1030 of 1271"
       ]
      },
      {
       "output_type": "stream",
       "stream": "stdout",
       "text": [
        "\r",
        "Computed shortest paths from node 1031 of 1271"
       ]
      },
      {
       "output_type": "stream",
       "stream": "stdout",
       "text": [
        "\r",
        "Computed shortest paths from node 1032 of 1271"
       ]
      },
      {
       "output_type": "stream",
       "stream": "stdout",
       "text": [
        "\r",
        "Computed shortest paths from node 1033 of 1271"
       ]
      },
      {
       "output_type": "stream",
       "stream": "stdout",
       "text": [
        "\r",
        "Computed shortest paths from node 1034 of 1271"
       ]
      },
      {
       "output_type": "stream",
       "stream": "stdout",
       "text": [
        "\r",
        "Computed shortest paths from node 1035 of 1271"
       ]
      },
      {
       "output_type": "stream",
       "stream": "stdout",
       "text": [
        "\r",
        "Computed shortest paths from node 1036 of 1271"
       ]
      },
      {
       "output_type": "stream",
       "stream": "stdout",
       "text": [
        "\r",
        "Computed shortest paths from node 1037 of 1271"
       ]
      },
      {
       "output_type": "stream",
       "stream": "stdout",
       "text": [
        "\r",
        "Computed shortest paths from node 1038 of 1271"
       ]
      },
      {
       "output_type": "stream",
       "stream": "stdout",
       "text": [
        "\r",
        "Computed shortest paths from node 1039 of 1271"
       ]
      },
      {
       "output_type": "stream",
       "stream": "stdout",
       "text": [
        "\r",
        "Computed shortest paths from node 1040 of 1271"
       ]
      },
      {
       "output_type": "stream",
       "stream": "stdout",
       "text": [
        "\r",
        "Computed shortest paths from node 1041 of 1271"
       ]
      },
      {
       "output_type": "stream",
       "stream": "stdout",
       "text": [
        "\r",
        "Computed shortest paths from node 1042 of 1271"
       ]
      },
      {
       "output_type": "stream",
       "stream": "stdout",
       "text": [
        "\r",
        "Computed shortest paths from node 1043 of 1271"
       ]
      },
      {
       "output_type": "stream",
       "stream": "stdout",
       "text": [
        "\r",
        "Computed shortest paths from node 1044 of 1271"
       ]
      },
      {
       "output_type": "stream",
       "stream": "stdout",
       "text": [
        "\r",
        "Computed shortest paths from node 1045 of 1271"
       ]
      },
      {
       "output_type": "stream",
       "stream": "stdout",
       "text": [
        "\r",
        "Computed shortest paths from node 1046 of 1271"
       ]
      },
      {
       "output_type": "stream",
       "stream": "stdout",
       "text": [
        "\r",
        "Computed shortest paths from node 1047 of 1271"
       ]
      },
      {
       "output_type": "stream",
       "stream": "stdout",
       "text": [
        "\r",
        "Computed shortest paths from node 1048 of 1271"
       ]
      },
      {
       "output_type": "stream",
       "stream": "stdout",
       "text": [
        "\r",
        "Computed shortest paths from node 1049 of 1271"
       ]
      },
      {
       "output_type": "stream",
       "stream": "stdout",
       "text": [
        "\r",
        "Computed shortest paths from node 1050 of 1271"
       ]
      },
      {
       "output_type": "stream",
       "stream": "stdout",
       "text": [
        "\r",
        "Computed shortest paths from node 1051 of 1271"
       ]
      },
      {
       "output_type": "stream",
       "stream": "stdout",
       "text": [
        "\r",
        "Computed shortest paths from node 1052 of 1271"
       ]
      },
      {
       "output_type": "stream",
       "stream": "stdout",
       "text": [
        "\r",
        "Computed shortest paths from node 1053 of 1271"
       ]
      },
      {
       "output_type": "stream",
       "stream": "stdout",
       "text": [
        "\r",
        "Computed shortest paths from node 1054 of 1271"
       ]
      },
      {
       "output_type": "stream",
       "stream": "stdout",
       "text": [
        "\r",
        "Computed shortest paths from node 1055 of 1271"
       ]
      },
      {
       "output_type": "stream",
       "stream": "stdout",
       "text": [
        "\r",
        "Computed shortest paths from node 1056 of 1271"
       ]
      },
      {
       "output_type": "stream",
       "stream": "stdout",
       "text": [
        "\r",
        "Computed shortest paths from node 1057 of 1271"
       ]
      },
      {
       "output_type": "stream",
       "stream": "stdout",
       "text": [
        "\r",
        "Computed shortest paths from node 1058 of 1271"
       ]
      },
      {
       "output_type": "stream",
       "stream": "stdout",
       "text": [
        "\r",
        "Computed shortest paths from node 1059 of 1271"
       ]
      },
      {
       "output_type": "stream",
       "stream": "stdout",
       "text": [
        "\r",
        "Computed shortest paths from node 1060 of 1271"
       ]
      },
      {
       "output_type": "stream",
       "stream": "stdout",
       "text": [
        "\r",
        "Computed shortest paths from node 1061 of 1271"
       ]
      },
      {
       "output_type": "stream",
       "stream": "stdout",
       "text": [
        "\r",
        "Computed shortest paths from node 1062 of 1271"
       ]
      },
      {
       "output_type": "stream",
       "stream": "stdout",
       "text": [
        "\r",
        "Computed shortest paths from node 1063 of 1271"
       ]
      },
      {
       "output_type": "stream",
       "stream": "stdout",
       "text": [
        "\r",
        "Computed shortest paths from node 1064 of 1271"
       ]
      },
      {
       "output_type": "stream",
       "stream": "stdout",
       "text": [
        "\r",
        "Computed shortest paths from node 1065 of 1271"
       ]
      },
      {
       "output_type": "stream",
       "stream": "stdout",
       "text": [
        "\r",
        "Computed shortest paths from node 1066 of 1271"
       ]
      },
      {
       "output_type": "stream",
       "stream": "stdout",
       "text": [
        "\r",
        "Computed shortest paths from node 1067 of 1271"
       ]
      },
      {
       "output_type": "stream",
       "stream": "stdout",
       "text": [
        "\r",
        "Computed shortest paths from node 1068 of 1271"
       ]
      },
      {
       "output_type": "stream",
       "stream": "stdout",
       "text": [
        "\r",
        "Computed shortest paths from node 1069 of 1271"
       ]
      },
      {
       "output_type": "stream",
       "stream": "stdout",
       "text": [
        "\r",
        "Computed shortest paths from node 1070 of 1271"
       ]
      },
      {
       "output_type": "stream",
       "stream": "stdout",
       "text": [
        "\r",
        "Computed shortest paths from node 1071 of 1271"
       ]
      },
      {
       "output_type": "stream",
       "stream": "stdout",
       "text": [
        "\r",
        "Computed shortest paths from node 1072 of 1271"
       ]
      },
      {
       "output_type": "stream",
       "stream": "stdout",
       "text": [
        "\r",
        "Computed shortest paths from node 1073 of 1271"
       ]
      },
      {
       "output_type": "stream",
       "stream": "stdout",
       "text": [
        "\r",
        "Computed shortest paths from node 1074 of 1271"
       ]
      },
      {
       "output_type": "stream",
       "stream": "stdout",
       "text": [
        "\r",
        "Computed shortest paths from node 1075 of 1271"
       ]
      },
      {
       "output_type": "stream",
       "stream": "stdout",
       "text": [
        "\r",
        "Computed shortest paths from node 1076 of 1271"
       ]
      },
      {
       "output_type": "stream",
       "stream": "stdout",
       "text": [
        "\r",
        "Computed shortest paths from node 1077 of 1271"
       ]
      },
      {
       "output_type": "stream",
       "stream": "stdout",
       "text": [
        "\r",
        "Computed shortest paths from node 1078 of 1271"
       ]
      },
      {
       "output_type": "stream",
       "stream": "stdout",
       "text": [
        "\r",
        "Computed shortest paths from node 1079 of 1271"
       ]
      },
      {
       "output_type": "stream",
       "stream": "stdout",
       "text": [
        "\r",
        "Computed shortest paths from node 1080 of 1271"
       ]
      },
      {
       "output_type": "stream",
       "stream": "stdout",
       "text": [
        "\r",
        "Computed shortest paths from node 1081 of 1271"
       ]
      },
      {
       "output_type": "stream",
       "stream": "stdout",
       "text": [
        "\r",
        "Computed shortest paths from node 1082 of 1271"
       ]
      },
      {
       "output_type": "stream",
       "stream": "stdout",
       "text": [
        "\r",
        "Computed shortest paths from node 1083 of 1271"
       ]
      },
      {
       "output_type": "stream",
       "stream": "stdout",
       "text": [
        "\r",
        "Computed shortest paths from node 1084 of 1271"
       ]
      },
      {
       "output_type": "stream",
       "stream": "stdout",
       "text": [
        "\r",
        "Computed shortest paths from node 1085 of 1271"
       ]
      },
      {
       "output_type": "stream",
       "stream": "stdout",
       "text": [
        "\r",
        "Computed shortest paths from node 1086 of 1271"
       ]
      },
      {
       "output_type": "stream",
       "stream": "stdout",
       "text": [
        "\r",
        "Computed shortest paths from node 1087 of 1271"
       ]
      },
      {
       "output_type": "stream",
       "stream": "stdout",
       "text": [
        "\r",
        "Computed shortest paths from node 1088 of 1271"
       ]
      },
      {
       "output_type": "stream",
       "stream": "stdout",
       "text": [
        "\r",
        "Computed shortest paths from node 1089 of 1271"
       ]
      },
      {
       "output_type": "stream",
       "stream": "stdout",
       "text": [
        "\r",
        "Computed shortest paths from node 1090 of 1271"
       ]
      },
      {
       "output_type": "stream",
       "stream": "stdout",
       "text": [
        "\r",
        "Computed shortest paths from node 1091 of 1271"
       ]
      },
      {
       "output_type": "stream",
       "stream": "stdout",
       "text": [
        "\r",
        "Computed shortest paths from node 1092 of 1271"
       ]
      },
      {
       "output_type": "stream",
       "stream": "stdout",
       "text": [
        "\r",
        "Computed shortest paths from node 1093 of 1271"
       ]
      },
      {
       "output_type": "stream",
       "stream": "stdout",
       "text": [
        "\r",
        "Computed shortest paths from node 1094 of 1271"
       ]
      },
      {
       "output_type": "stream",
       "stream": "stdout",
       "text": [
        "\r",
        "Computed shortest paths from node 1095 of 1271"
       ]
      },
      {
       "output_type": "stream",
       "stream": "stdout",
       "text": [
        "\r",
        "Computed shortest paths from node 1096 of 1271"
       ]
      },
      {
       "output_type": "stream",
       "stream": "stdout",
       "text": [
        "\r",
        "Computed shortest paths from node 1097 of 1271"
       ]
      },
      {
       "output_type": "stream",
       "stream": "stdout",
       "text": [
        "\r",
        "Computed shortest paths from node 1098 of 1271"
       ]
      },
      {
       "output_type": "stream",
       "stream": "stdout",
       "text": [
        "\r",
        "Computed shortest paths from node 1099 of 1271"
       ]
      },
      {
       "output_type": "stream",
       "stream": "stdout",
       "text": [
        "\r",
        "Computed shortest paths from node 1100 of 1271"
       ]
      },
      {
       "output_type": "stream",
       "stream": "stdout",
       "text": [
        "\r",
        "Computed shortest paths from node 1101 of 1271"
       ]
      },
      {
       "output_type": "stream",
       "stream": "stdout",
       "text": [
        "\r",
        "Computed shortest paths from node 1102 of 1271"
       ]
      },
      {
       "output_type": "stream",
       "stream": "stdout",
       "text": [
        "\r",
        "Computed shortest paths from node 1103 of 1271"
       ]
      },
      {
       "output_type": "stream",
       "stream": "stdout",
       "text": [
        "\r",
        "Computed shortest paths from node 1104 of 1271"
       ]
      },
      {
       "output_type": "stream",
       "stream": "stdout",
       "text": [
        "\r",
        "Computed shortest paths from node 1105 of 1271"
       ]
      },
      {
       "output_type": "stream",
       "stream": "stdout",
       "text": [
        "\r",
        "Computed shortest paths from node 1106 of 1271"
       ]
      },
      {
       "output_type": "stream",
       "stream": "stdout",
       "text": [
        "\r",
        "Computed shortest paths from node 1107 of 1271"
       ]
      },
      {
       "output_type": "stream",
       "stream": "stdout",
       "text": [
        "\r",
        "Computed shortest paths from node 1108 of 1271"
       ]
      },
      {
       "output_type": "stream",
       "stream": "stdout",
       "text": [
        "\r",
        "Computed shortest paths from node 1109 of 1271"
       ]
      },
      {
       "output_type": "stream",
       "stream": "stdout",
       "text": [
        "\r",
        "Computed shortest paths from node 1110 of 1271"
       ]
      },
      {
       "output_type": "stream",
       "stream": "stdout",
       "text": [
        "\r",
        "Computed shortest paths from node 1111 of 1271"
       ]
      },
      {
       "output_type": "stream",
       "stream": "stdout",
       "text": [
        "\r",
        "Computed shortest paths from node 1112 of 1271"
       ]
      },
      {
       "output_type": "stream",
       "stream": "stdout",
       "text": [
        "\r",
        "Computed shortest paths from node 1113 of 1271"
       ]
      },
      {
       "output_type": "stream",
       "stream": "stdout",
       "text": [
        "\r",
        "Computed shortest paths from node 1114 of 1271"
       ]
      },
      {
       "output_type": "stream",
       "stream": "stdout",
       "text": [
        "\r",
        "Computed shortest paths from node 1115 of 1271"
       ]
      },
      {
       "output_type": "stream",
       "stream": "stdout",
       "text": [
        "\r",
        "Computed shortest paths from node 1116 of 1271"
       ]
      },
      {
       "output_type": "stream",
       "stream": "stdout",
       "text": [
        "\r",
        "Computed shortest paths from node 1117 of 1271"
       ]
      },
      {
       "output_type": "stream",
       "stream": "stdout",
       "text": [
        "\r",
        "Computed shortest paths from node 1118 of 1271"
       ]
      },
      {
       "output_type": "stream",
       "stream": "stdout",
       "text": [
        "\r",
        "Computed shortest paths from node 1119 of 1271"
       ]
      },
      {
       "output_type": "stream",
       "stream": "stdout",
       "text": [
        "\r",
        "Computed shortest paths from node 1120 of 1271"
       ]
      },
      {
       "output_type": "stream",
       "stream": "stdout",
       "text": [
        "\r",
        "Computed shortest paths from node 1121 of 1271"
       ]
      },
      {
       "output_type": "stream",
       "stream": "stdout",
       "text": [
        "\r",
        "Computed shortest paths from node 1122 of 1271"
       ]
      },
      {
       "output_type": "stream",
       "stream": "stdout",
       "text": [
        "\r",
        "Computed shortest paths from node 1123 of 1271"
       ]
      },
      {
       "output_type": "stream",
       "stream": "stdout",
       "text": [
        "\r",
        "Computed shortest paths from node 1124 of 1271"
       ]
      },
      {
       "output_type": "stream",
       "stream": "stdout",
       "text": [
        "\r",
        "Computed shortest paths from node 1125 of 1271"
       ]
      },
      {
       "output_type": "stream",
       "stream": "stdout",
       "text": [
        "\r",
        "Computed shortest paths from node 1126 of 1271"
       ]
      },
      {
       "output_type": "stream",
       "stream": "stdout",
       "text": [
        "\r",
        "Computed shortest paths from node 1127 of 1271"
       ]
      },
      {
       "output_type": "stream",
       "stream": "stdout",
       "text": [
        "\r",
        "Computed shortest paths from node 1128 of 1271"
       ]
      },
      {
       "output_type": "stream",
       "stream": "stdout",
       "text": [
        "\r",
        "Computed shortest paths from node 1129 of 1271"
       ]
      },
      {
       "output_type": "stream",
       "stream": "stdout",
       "text": [
        "\r",
        "Computed shortest paths from node 1130 of 1271"
       ]
      },
      {
       "output_type": "stream",
       "stream": "stdout",
       "text": [
        "\r",
        "Computed shortest paths from node 1131 of 1271"
       ]
      },
      {
       "output_type": "stream",
       "stream": "stdout",
       "text": [
        "\r",
        "Computed shortest paths from node 1132 of 1271"
       ]
      },
      {
       "output_type": "stream",
       "stream": "stdout",
       "text": [
        "\r",
        "Computed shortest paths from node 1133 of 1271"
       ]
      },
      {
       "output_type": "stream",
       "stream": "stdout",
       "text": [
        "\r",
        "Computed shortest paths from node 1134 of 1271"
       ]
      },
      {
       "output_type": "stream",
       "stream": "stdout",
       "text": [
        "\r",
        "Computed shortest paths from node 1135 of 1271"
       ]
      },
      {
       "output_type": "stream",
       "stream": "stdout",
       "text": [
        "\r",
        "Computed shortest paths from node 1136 of 1271"
       ]
      },
      {
       "output_type": "stream",
       "stream": "stdout",
       "text": [
        "\r",
        "Computed shortest paths from node 1137 of 1271"
       ]
      },
      {
       "output_type": "stream",
       "stream": "stdout",
       "text": [
        "\r",
        "Computed shortest paths from node 1138 of 1271"
       ]
      },
      {
       "output_type": "stream",
       "stream": "stdout",
       "text": [
        "\r",
        "Computed shortest paths from node 1139 of 1271"
       ]
      },
      {
       "output_type": "stream",
       "stream": "stdout",
       "text": [
        "\r",
        "Computed shortest paths from node 1140 of 1271"
       ]
      },
      {
       "output_type": "stream",
       "stream": "stdout",
       "text": [
        "\r",
        "Computed shortest paths from node 1141 of 1271"
       ]
      },
      {
       "output_type": "stream",
       "stream": "stdout",
       "text": [
        "\r",
        "Computed shortest paths from node 1142 of 1271"
       ]
      },
      {
       "output_type": "stream",
       "stream": "stdout",
       "text": [
        "\r",
        "Computed shortest paths from node 1143 of 1271"
       ]
      },
      {
       "output_type": "stream",
       "stream": "stdout",
       "text": [
        "\r",
        "Computed shortest paths from node 1144 of 1271"
       ]
      },
      {
       "output_type": "stream",
       "stream": "stdout",
       "text": [
        "\r",
        "Computed shortest paths from node 1145 of 1271"
       ]
      },
      {
       "output_type": "stream",
       "stream": "stdout",
       "text": [
        "\r",
        "Computed shortest paths from node 1146 of 1271"
       ]
      },
      {
       "output_type": "stream",
       "stream": "stdout",
       "text": [
        "\r",
        "Computed shortest paths from node 1147 of 1271"
       ]
      },
      {
       "output_type": "stream",
       "stream": "stdout",
       "text": [
        "\r",
        "Computed shortest paths from node 1148 of 1271"
       ]
      },
      {
       "output_type": "stream",
       "stream": "stdout",
       "text": [
        "\r",
        "Computed shortest paths from node 1149 of 1271"
       ]
      },
      {
       "output_type": "stream",
       "stream": "stdout",
       "text": [
        "\r",
        "Computed shortest paths from node 1150 of 1271"
       ]
      },
      {
       "output_type": "stream",
       "stream": "stdout",
       "text": [
        "\r",
        "Computed shortest paths from node 1151 of 1271"
       ]
      },
      {
       "output_type": "stream",
       "stream": "stdout",
       "text": [
        "\r",
        "Computed shortest paths from node 1152 of 1271"
       ]
      },
      {
       "output_type": "stream",
       "stream": "stdout",
       "text": [
        "\r",
        "Computed shortest paths from node 1153 of 1271"
       ]
      },
      {
       "output_type": "stream",
       "stream": "stdout",
       "text": [
        "\r",
        "Computed shortest paths from node 1154 of 1271"
       ]
      },
      {
       "output_type": "stream",
       "stream": "stdout",
       "text": [
        "\r",
        "Computed shortest paths from node 1155 of 1271"
       ]
      },
      {
       "output_type": "stream",
       "stream": "stdout",
       "text": [
        "\r",
        "Computed shortest paths from node 1156 of 1271"
       ]
      },
      {
       "output_type": "stream",
       "stream": "stdout",
       "text": [
        "\r",
        "Computed shortest paths from node 1157 of 1271"
       ]
      },
      {
       "output_type": "stream",
       "stream": "stdout",
       "text": [
        "\r",
        "Computed shortest paths from node 1158 of 1271"
       ]
      },
      {
       "output_type": "stream",
       "stream": "stdout",
       "text": [
        "\r",
        "Computed shortest paths from node 1159 of 1271"
       ]
      },
      {
       "output_type": "stream",
       "stream": "stdout",
       "text": [
        "\r",
        "Computed shortest paths from node 1160 of 1271"
       ]
      },
      {
       "output_type": "stream",
       "stream": "stdout",
       "text": [
        "\r",
        "Computed shortest paths from node 1161 of 1271"
       ]
      },
      {
       "output_type": "stream",
       "stream": "stdout",
       "text": [
        "\r",
        "Computed shortest paths from node 1162 of 1271"
       ]
      },
      {
       "output_type": "stream",
       "stream": "stdout",
       "text": [
        "\r",
        "Computed shortest paths from node 1163 of 1271"
       ]
      },
      {
       "output_type": "stream",
       "stream": "stdout",
       "text": [
        "\r",
        "Computed shortest paths from node 1164 of 1271"
       ]
      },
      {
       "output_type": "stream",
       "stream": "stdout",
       "text": [
        "\r",
        "Computed shortest paths from node 1165 of 1271"
       ]
      },
      {
       "output_type": "stream",
       "stream": "stdout",
       "text": [
        "\r",
        "Computed shortest paths from node 1166 of 1271"
       ]
      },
      {
       "output_type": "stream",
       "stream": "stdout",
       "text": [
        "\r",
        "Computed shortest paths from node 1167 of 1271"
       ]
      },
      {
       "output_type": "stream",
       "stream": "stdout",
       "text": [
        "\r",
        "Computed shortest paths from node 1168 of 1271"
       ]
      },
      {
       "output_type": "stream",
       "stream": "stdout",
       "text": [
        "\r",
        "Computed shortest paths from node 1169 of 1271"
       ]
      },
      {
       "output_type": "stream",
       "stream": "stdout",
       "text": [
        "\r",
        "Computed shortest paths from node 1170 of 1271"
       ]
      },
      {
       "output_type": "stream",
       "stream": "stdout",
       "text": [
        "\r",
        "Computed shortest paths from node 1171 of 1271"
       ]
      },
      {
       "output_type": "stream",
       "stream": "stdout",
       "text": [
        "\r",
        "Computed shortest paths from node 1172 of 1271"
       ]
      },
      {
       "output_type": "stream",
       "stream": "stdout",
       "text": [
        "\r",
        "Computed shortest paths from node 1173 of 1271"
       ]
      },
      {
       "output_type": "stream",
       "stream": "stdout",
       "text": [
        "\r",
        "Computed shortest paths from node 1174 of 1271"
       ]
      },
      {
       "output_type": "stream",
       "stream": "stdout",
       "text": [
        "\r",
        "Computed shortest paths from node 1175 of 1271"
       ]
      },
      {
       "output_type": "stream",
       "stream": "stdout",
       "text": [
        "\r",
        "Computed shortest paths from node 1176 of 1271"
       ]
      },
      {
       "output_type": "stream",
       "stream": "stdout",
       "text": [
        "\r",
        "Computed shortest paths from node 1177 of 1271"
       ]
      },
      {
       "output_type": "stream",
       "stream": "stdout",
       "text": [
        "\r",
        "Computed shortest paths from node 1178 of 1271"
       ]
      },
      {
       "output_type": "stream",
       "stream": "stdout",
       "text": [
        "\r",
        "Computed shortest paths from node 1179 of 1271"
       ]
      },
      {
       "output_type": "stream",
       "stream": "stdout",
       "text": [
        "\r",
        "Computed shortest paths from node 1180 of 1271"
       ]
      },
      {
       "output_type": "stream",
       "stream": "stdout",
       "text": [
        "\r",
        "Computed shortest paths from node 1181 of 1271"
       ]
      },
      {
       "output_type": "stream",
       "stream": "stdout",
       "text": [
        "\r",
        "Computed shortest paths from node 1182 of 1271"
       ]
      },
      {
       "output_type": "stream",
       "stream": "stdout",
       "text": [
        "\r",
        "Computed shortest paths from node 1183 of 1271"
       ]
      },
      {
       "output_type": "stream",
       "stream": "stdout",
       "text": [
        "\r",
        "Computed shortest paths from node 1184 of 1271"
       ]
      },
      {
       "output_type": "stream",
       "stream": "stdout",
       "text": [
        "\r",
        "Computed shortest paths from node 1185 of 1271"
       ]
      },
      {
       "output_type": "stream",
       "stream": "stdout",
       "text": [
        "\r",
        "Computed shortest paths from node 1186 of 1271"
       ]
      },
      {
       "output_type": "stream",
       "stream": "stdout",
       "text": [
        "\r",
        "Computed shortest paths from node 1187 of 1271"
       ]
      },
      {
       "output_type": "stream",
       "stream": "stdout",
       "text": [
        "\r",
        "Computed shortest paths from node 1188 of 1271"
       ]
      },
      {
       "output_type": "stream",
       "stream": "stdout",
       "text": [
        "\r",
        "Computed shortest paths from node 1189 of 1271"
       ]
      },
      {
       "output_type": "stream",
       "stream": "stdout",
       "text": [
        "\r",
        "Computed shortest paths from node 1190 of 1271"
       ]
      },
      {
       "output_type": "stream",
       "stream": "stdout",
       "text": [
        "\r",
        "Computed shortest paths from node 1191 of 1271"
       ]
      },
      {
       "output_type": "stream",
       "stream": "stdout",
       "text": [
        "\r",
        "Computed shortest paths from node 1192 of 1271"
       ]
      },
      {
       "output_type": "stream",
       "stream": "stdout",
       "text": [
        "\r",
        "Computed shortest paths from node 1193 of 1271"
       ]
      },
      {
       "output_type": "stream",
       "stream": "stdout",
       "text": [
        "\r",
        "Computed shortest paths from node 1194 of 1271"
       ]
      },
      {
       "output_type": "stream",
       "stream": "stdout",
       "text": [
        "\r",
        "Computed shortest paths from node 1195 of 1271"
       ]
      },
      {
       "output_type": "stream",
       "stream": "stdout",
       "text": [
        "\r",
        "Computed shortest paths from node 1196 of 1271"
       ]
      },
      {
       "output_type": "stream",
       "stream": "stdout",
       "text": [
        "\r",
        "Computed shortest paths from node 1197 of 1271"
       ]
      },
      {
       "output_type": "stream",
       "stream": "stdout",
       "text": [
        "\r",
        "Computed shortest paths from node 1198 of 1271"
       ]
      },
      {
       "output_type": "stream",
       "stream": "stdout",
       "text": [
        "\r",
        "Computed shortest paths from node 1199 of 1271"
       ]
      },
      {
       "output_type": "stream",
       "stream": "stdout",
       "text": [
        "\r",
        "Computed shortest paths from node 1200 of 1271"
       ]
      },
      {
       "output_type": "stream",
       "stream": "stdout",
       "text": [
        "\r",
        "Computed shortest paths from node 1201 of 1271"
       ]
      },
      {
       "output_type": "stream",
       "stream": "stdout",
       "text": [
        "\r",
        "Computed shortest paths from node 1202 of 1271"
       ]
      },
      {
       "output_type": "stream",
       "stream": "stdout",
       "text": [
        "\r",
        "Computed shortest paths from node 1203 of 1271"
       ]
      },
      {
       "output_type": "stream",
       "stream": "stdout",
       "text": [
        "\r",
        "Computed shortest paths from node 1204 of 1271"
       ]
      },
      {
       "output_type": "stream",
       "stream": "stdout",
       "text": [
        "\r",
        "Computed shortest paths from node 1205 of 1271"
       ]
      },
      {
       "output_type": "stream",
       "stream": "stdout",
       "text": [
        "\r",
        "Computed shortest paths from node 1206 of 1271"
       ]
      },
      {
       "output_type": "stream",
       "stream": "stdout",
       "text": [
        "\r",
        "Computed shortest paths from node 1207 of 1271"
       ]
      },
      {
       "output_type": "stream",
       "stream": "stdout",
       "text": [
        "\r",
        "Computed shortest paths from node 1208 of 1271"
       ]
      },
      {
       "output_type": "stream",
       "stream": "stdout",
       "text": [
        "\r",
        "Computed shortest paths from node 1209 of 1271"
       ]
      },
      {
       "output_type": "stream",
       "stream": "stdout",
       "text": [
        "\r",
        "Computed shortest paths from node 1210 of 1271"
       ]
      },
      {
       "output_type": "stream",
       "stream": "stdout",
       "text": [
        "\r",
        "Computed shortest paths from node 1211 of 1271"
       ]
      },
      {
       "output_type": "stream",
       "stream": "stdout",
       "text": [
        "\r",
        "Computed shortest paths from node 1212 of 1271"
       ]
      },
      {
       "output_type": "stream",
       "stream": "stdout",
       "text": [
        "\r",
        "Computed shortest paths from node 1213 of 1271"
       ]
      },
      {
       "output_type": "stream",
       "stream": "stdout",
       "text": [
        "\r",
        "Computed shortest paths from node 1214 of 1271"
       ]
      },
      {
       "output_type": "stream",
       "stream": "stdout",
       "text": [
        "\r",
        "Computed shortest paths from node 1215 of 1271"
       ]
      },
      {
       "output_type": "stream",
       "stream": "stdout",
       "text": [
        "\r",
        "Computed shortest paths from node 1216 of 1271"
       ]
      },
      {
       "output_type": "stream",
       "stream": "stdout",
       "text": [
        "\r",
        "Computed shortest paths from node 1217 of 1271"
       ]
      },
      {
       "output_type": "stream",
       "stream": "stdout",
       "text": [
        "\r",
        "Computed shortest paths from node 1218 of 1271"
       ]
      },
      {
       "output_type": "stream",
       "stream": "stdout",
       "text": [
        "\r",
        "Computed shortest paths from node 1219 of 1271"
       ]
      },
      {
       "output_type": "stream",
       "stream": "stdout",
       "text": [
        "\r",
        "Computed shortest paths from node 1220 of 1271"
       ]
      },
      {
       "output_type": "stream",
       "stream": "stdout",
       "text": [
        "\r",
        "Computed shortest paths from node 1221 of 1271"
       ]
      },
      {
       "output_type": "stream",
       "stream": "stdout",
       "text": [
        "\r",
        "Computed shortest paths from node 1222 of 1271"
       ]
      },
      {
       "output_type": "stream",
       "stream": "stdout",
       "text": [
        "\r",
        "Computed shortest paths from node 1223 of 1271"
       ]
      },
      {
       "output_type": "stream",
       "stream": "stdout",
       "text": [
        "\r",
        "Computed shortest paths from node 1224 of 1271"
       ]
      },
      {
       "output_type": "stream",
       "stream": "stdout",
       "text": [
        "\r",
        "Computed shortest paths from node 1225 of 1271"
       ]
      },
      {
       "output_type": "stream",
       "stream": "stdout",
       "text": [
        "\r",
        "Computed shortest paths from node 1226 of 1271"
       ]
      },
      {
       "output_type": "stream",
       "stream": "stdout",
       "text": [
        "\r",
        "Computed shortest paths from node 1227 of 1271"
       ]
      },
      {
       "output_type": "stream",
       "stream": "stdout",
       "text": [
        "\r",
        "Computed shortest paths from node 1228 of 1271"
       ]
      },
      {
       "output_type": "stream",
       "stream": "stdout",
       "text": [
        "\r",
        "Computed shortest paths from node 1229 of 1271"
       ]
      },
      {
       "output_type": "stream",
       "stream": "stdout",
       "text": [
        "\r",
        "Computed shortest paths from node 1230 of 1271"
       ]
      },
      {
       "output_type": "stream",
       "stream": "stdout",
       "text": [
        "\r",
        "Computed shortest paths from node 1231 of 1271"
       ]
      },
      {
       "output_type": "stream",
       "stream": "stdout",
       "text": [
        "\r",
        "Computed shortest paths from node 1232 of 1271"
       ]
      },
      {
       "output_type": "stream",
       "stream": "stdout",
       "text": [
        "\r",
        "Computed shortest paths from node 1233 of 1271"
       ]
      },
      {
       "output_type": "stream",
       "stream": "stdout",
       "text": [
        "\r",
        "Computed shortest paths from node 1234 of 1271"
       ]
      },
      {
       "output_type": "stream",
       "stream": "stdout",
       "text": [
        "\r",
        "Computed shortest paths from node 1235 of 1271"
       ]
      },
      {
       "output_type": "stream",
       "stream": "stdout",
       "text": [
        "\r",
        "Computed shortest paths from node 1236 of 1271"
       ]
      },
      {
       "output_type": "stream",
       "stream": "stdout",
       "text": [
        "\r",
        "Computed shortest paths from node 1237 of 1271"
       ]
      },
      {
       "output_type": "stream",
       "stream": "stdout",
       "text": [
        "\r",
        "Computed shortest paths from node 1238 of 1271"
       ]
      },
      {
       "output_type": "stream",
       "stream": "stdout",
       "text": [
        "\r",
        "Computed shortest paths from node 1239 of 1271"
       ]
      },
      {
       "output_type": "stream",
       "stream": "stdout",
       "text": [
        "\r",
        "Computed shortest paths from node 1240 of 1271"
       ]
      },
      {
       "output_type": "stream",
       "stream": "stdout",
       "text": [
        "\r",
        "Computed shortest paths from node 1241 of 1271"
       ]
      },
      {
       "output_type": "stream",
       "stream": "stdout",
       "text": [
        "\r",
        "Computed shortest paths from node 1242 of 1271"
       ]
      },
      {
       "output_type": "stream",
       "stream": "stdout",
       "text": [
        "\r",
        "Computed shortest paths from node 1243 of 1271"
       ]
      },
      {
       "output_type": "stream",
       "stream": "stdout",
       "text": [
        "\r",
        "Computed shortest paths from node 1244 of 1271"
       ]
      },
      {
       "output_type": "stream",
       "stream": "stdout",
       "text": [
        "\r",
        "Computed shortest paths from node 1245 of 1271"
       ]
      },
      {
       "output_type": "stream",
       "stream": "stdout",
       "text": [
        "\r",
        "Computed shortest paths from node 1246 of 1271"
       ]
      },
      {
       "output_type": "stream",
       "stream": "stdout",
       "text": [
        "\r",
        "Computed shortest paths from node 1247 of 1271"
       ]
      },
      {
       "output_type": "stream",
       "stream": "stdout",
       "text": [
        "\r",
        "Computed shortest paths from node 1248 of 1271"
       ]
      },
      {
       "output_type": "stream",
       "stream": "stdout",
       "text": [
        "\r",
        "Computed shortest paths from node 1249 of 1271"
       ]
      },
      {
       "output_type": "stream",
       "stream": "stdout",
       "text": [
        "\r",
        "Computed shortest paths from node 1250 of 1271"
       ]
      },
      {
       "output_type": "stream",
       "stream": "stdout",
       "text": [
        "\r",
        "Computed shortest paths from node 1251 of 1271"
       ]
      },
      {
       "output_type": "stream",
       "stream": "stdout",
       "text": [
        "\r",
        "Computed shortest paths from node 1252 of 1271"
       ]
      },
      {
       "output_type": "stream",
       "stream": "stdout",
       "text": [
        "\r",
        "Computed shortest paths from node 1253 of 1271"
       ]
      },
      {
       "output_type": "stream",
       "stream": "stdout",
       "text": [
        "\r",
        "Computed shortest paths from node 1254 of 1271"
       ]
      },
      {
       "output_type": "stream",
       "stream": "stdout",
       "text": [
        "\r",
        "Computed shortest paths from node 1255 of 1271"
       ]
      },
      {
       "output_type": "stream",
       "stream": "stdout",
       "text": [
        "\r",
        "Computed shortest paths from node 1256 of 1271"
       ]
      },
      {
       "output_type": "stream",
       "stream": "stdout",
       "text": [
        "\r",
        "Computed shortest paths from node 1257 of 1271"
       ]
      },
      {
       "output_type": "stream",
       "stream": "stdout",
       "text": [
        "\r",
        "Computed shortest paths from node 1258 of 1271"
       ]
      },
      {
       "output_type": "stream",
       "stream": "stdout",
       "text": [
        "\r",
        "Computed shortest paths from node 1259 of 1271"
       ]
      },
      {
       "output_type": "stream",
       "stream": "stdout",
       "text": [
        "\r",
        "Computed shortest paths from node 1260 of 1271"
       ]
      },
      {
       "output_type": "stream",
       "stream": "stdout",
       "text": [
        "\r",
        "Computed shortest paths from node 1261 of 1271"
       ]
      },
      {
       "output_type": "stream",
       "stream": "stdout",
       "text": [
        "\r",
        "Computed shortest paths from node 1262 of 1271"
       ]
      },
      {
       "output_type": "stream",
       "stream": "stdout",
       "text": [
        "\r",
        "Computed shortest paths from node 1263 of 1271"
       ]
      },
      {
       "output_type": "stream",
       "stream": "stdout",
       "text": [
        "\r",
        "Computed shortest paths from node 1264 of 1271"
       ]
      },
      {
       "output_type": "stream",
       "stream": "stdout",
       "text": [
        "\r",
        "Computed shortest paths from node 1265 of 1271"
       ]
      },
      {
       "output_type": "stream",
       "stream": "stdout",
       "text": [
        "\r",
        "Computed shortest paths from node 1266 of 1271"
       ]
      },
      {
       "output_type": "stream",
       "stream": "stdout",
       "text": [
        "\r",
        "Computed shortest paths from node 1267 of 1271"
       ]
      },
      {
       "output_type": "stream",
       "stream": "stdout",
       "text": [
        "\r",
        "Computed shortest paths from node 1268 of 1271"
       ]
      },
      {
       "output_type": "stream",
       "stream": "stdout",
       "text": [
        "\r",
        "Computed shortest paths from node 1269 of 1271"
       ]
      },
      {
       "output_type": "stream",
       "stream": "stdout",
       "text": [
        "\r",
        "Computed shortest paths from node 1270 of 1271"
       ]
      }
     ],
     "prompt_number": 43
    },
    {
     "cell_type": "code",
     "collapsed": false,
     "input": [
      "print len(shortestPaths[1]), numStates"
     ],
     "language": "python",
     "metadata": {},
     "outputs": [
      {
       "output_type": "stream",
       "stream": "stdout",
       "text": [
        "1253 1271\n"
       ]
      }
     ],
     "prompt_number": 27
    },
    {
     "cell_type": "code",
     "collapsed": false,
     "input": [
      "print precomputedSPCosts[i, :]"
     ],
     "language": "python",
     "metadata": {},
     "outputs": [
      {
       "output_type": "stream",
       "stream": "stdout",
       "text": [
        "[ 200.          200.          200.         ...,    0.98348039    0.93354377\n",
        "    0.95241454]\n"
       ]
      }
     ],
     "prompt_number": 75
    },
    {
     "cell_type": "code",
     "collapsed": false,
     "input": [
      "i = 400\n",
      "shortestPaths = shortest_path(gr, i)[0]\n",
      "shortestPathsLengths = np.zeros(len(shortestPaths))\n",
      "for j in xrange(len(shortestPaths)) :\n",
      "    curr = j\n",
      "    path = []\n",
      "    \n",
      "    ## no path from start to end\n",
      "    if curr not in shortestPaths :\n",
      "        shortestPathsLengths[j] = -1\n",
      "        continue\n",
      "    \n",
      "    path.append(curr)\n",
      "    while curr != i :\n",
      "        curr = shortestPaths[curr]\n",
      "        path.append(curr)\n",
      "        \n",
      "    path = np.array(path)[::-1]\n",
      "    shortestPathsLengths[j] = len(path)-1"
     ],
     "language": "python",
     "metadata": {},
     "outputs": [],
     "prompt_number": 22
    },
    {
     "cell_type": "code",
     "collapsed": false,
     "input": [
      "print shortestPathsLengths[340]\n",
      "print len(getShortestPath(gr, 400, 340)[0])-1\n",
      "print precomputedSPLengths"
     ],
     "language": "python",
     "metadata": {},
     "outputs": [
      {
       "output_type": "stream",
       "stream": "stdout",
       "text": [
        "6.0\n",
        "6\n",
        "[[ 0  1  2 ...,  5  7  8]\n",
        " [ 1  0  1 ..., 13  7  8]\n",
        " [ 2  1  0 ..., 13  7  8]\n",
        " ..., \n",
        " [ 7  7  8 ...,  0  1  2]\n",
        " [ 6  6  7 ...,  6  0  1]\n",
        " [ 5  5  6 ...,  5  6  0]]\n"
       ]
      }
     ],
     "prompt_number": 49
    },
    {
     "cell_type": "code",
     "collapsed": false,
     "input": [
      "print precomputedSPLengths[neighbours[449, :], 789]\n",
      "print precomputedSPCosts[neighbours[449, :], 789]"
     ],
     "language": "python",
     "metadata": {},
     "outputs": [
      {
       "output_type": "stream",
       "stream": "stdout",
       "text": [
        "[23 23 25 24 23 23 22 23 22 18 24 11 23 24 26]\n",
        "[ 3.58422432  3.5430282   3.74187563  3.69351067  3.56331492  3.50303132\n",
        "  3.48422432  3.56684487  3.98607658  3.03210489  3.70675075  3.1197008\n",
        "  3.732163    3.63882458  3.84187563]\n"
       ]
      }
     ],
     "prompt_number": 51
    },
    {
     "cell_type": "code",
     "collapsed": false,
     "input": [
      "# figure(); imshow(precomputedSPCosts, interpolation='nearest')\n",
      "print getShortestPath(gr, 450, 789)\n",
      "print 1.1*(len(getShortestPath(gr, 450, 789)[0])-1)-getShortestPath(gr, 450, 789)[1]\n",
      "print getShortestPath(gr, 601, 789)\n",
      "print 1.1*(len(getShortestPath(gr, 601, 789)[0])-1)-getShortestPath(gr, 601, 789)[1]\n",
      "print neighbours[449, :]\n",
      "print \n",
      "currentIdx = 115\n",
      "goalIdx = 130\n",
      "for i in xrange(k) :\n",
      "    print neighbours[currentIdx, i], getShortestPath(gr, neighbours[currentIdx, i], goalIdx)[1], len(getShortestPath(gr, neighbours[currentIdx, i], goalIdx)[0])-1, 1.2*(len(getShortestPath(gr, neighbours[currentIdx, i], goalIdx)[0])-1)-getShortestPath(gr, neighbours[currentIdx, i], goalIdx)[1]"
     ],
     "language": "python",
     "metadata": {},
     "outputs": [
      {
       "output_type": "stream",
       "stream": "stdout",
       "text": [
        "(array([450, 451, 452, 453, 380, 744, 745, 746, 747, 748, 749, 750, 751,\n",
        "       752, 753, 754, 755, 756, 789]), 5.7387368737648723)\n",
        "14.0612631262"
       ]
      },
      {
       "output_type": "stream",
       "stream": "stdout",
       "text": [
        "\n",
        "(array([601, 339, 332, 781, 782, 783, 784, 785, 786, 787, 788, 789]), 4.2197007999484928)\n",
        "7.88029920005"
       ]
      },
      {
       "output_type": "stream",
       "stream": "stdout",
       "text": [
        "\n",
        "[450 622 504 563 481 555 451 540 515 600 692 601 382 492 503]\n",
        "\n",
        "116 1.94517513994 4 "
       ]
      },
      {
       "output_type": "stream",
       "stream": "stdout",
       "text": [
        "2.85482486006\n",
        "117 1.81468698281 3 "
       ]
      },
      {
       "output_type": "stream",
       "stream": "stdout",
       "text": [
        "1.78531301719\n",
        "170 1.9494105951 4 "
       ]
      },
      {
       "output_type": "stream",
       "stream": "stdout",
       "text": [
        "2.8505894049\n",
        "169 2.1494105951 5 "
       ]
      },
      {
       "output_type": "stream",
       "stream": "stdout",
       "text": [
        "3.8505894049\n",
        "171 1.7494105951 3 "
       ]
      },
      {
       "output_type": "stream",
       "stream": "stdout",
       "text": [
        "1.8505894049\n",
        "118 1.80216534944 3 "
       ]
      },
      {
       "output_type": "stream",
       "stream": "stdout",
       "text": [
        "1.79783465056\n",
        "112 2.21089068705 3 "
       ]
      },
      {
       "output_type": "stream",
       "stream": "stdout",
       "text": [
        "1.38910931295\n",
        "113 2.03199970952 3 "
       ]
      },
      {
       "output_type": "stream",
       "stream": "stdout",
       "text": [
        "1.56800029048\n",
        "114 2.06450018813 3 "
       ]
      },
      {
       "output_type": "stream",
       "stream": "stdout",
       "text": [
        "1.53549981187\n",
        "89 1.37640327445 2 "
       ]
      },
      {
       "output_type": "stream",
       "stream": "stdout",
       "text": [
        "1.02359672555\n",
        "168 2.27551988659 4 "
       ]
      },
      {
       "output_type": "stream",
       "stream": "stdout",
       "text": [
        "2.52448011341\n",
        "156 1.29339213355 2 "
       ]
      },
      {
       "output_type": "stream",
       "stream": "stdout",
       "text": [
        "1.10660786645\n",
        "111 2.41089068705 4 "
       ]
      },
      {
       "output_type": "stream",
       "stream": "stdout",
       "text": [
        "2.38910931295\n",
        "119 1.60362781978 2 "
       ]
      },
      {
       "output_type": "stream",
       "stream": "stdout",
       "text": [
        "0.796372180215\n",
        "167 2.21844294555 3 "
       ]
      },
      {
       "output_type": "stream",
       "stream": "stdout",
       "text": [
        "1.38155705445\n"
       ]
      }
     ],
     "prompt_number": 89
    },
    {
     "cell_type": "code",
     "collapsed": false,
     "input": [
      "print getShortestPath(gr, 115, 130)\n",
      "print getShortestPath(gr, 148, 145)"
     ],
     "language": "python",
     "metadata": {},
     "outputs": [
      {
       "output_type": "stream",
       "stream": "stdout",
       "text": [
        "(array([115, 116, 117, 118, 119, 120, 121, 122, 123, 124, 125, 126, 127,\n",
        "       128, 129, 130]), 1.5000000000000002)\n",
        "(array([148, 147, 145]), 1.3171077005097149)\n"
       ]
      }
     ],
     "prompt_number": 33
    },
    {
     "cell_type": "code",
     "collapsed": false,
     "input": [
      "## try and sample, see what happens....\n",
      "\n",
      "taskIdx = 0\n",
      "labelTaskToPerform = possibleLabelTasks[taskIdx, :]\n",
      "idxTaskToPerform = 130#possibleIdxTasks[taskIdx]\n",
      "# taskToPerform = np.array([1, 0, 0, 0])\n",
      "print \"task to perform:\", labelTaskToPerform, idxTaskToPerform\n",
      "startIdx = 115\n",
      "print \"starting from\", startIdx, \"with task params\", labels[startIdx, :]\n",
      "# extraRewards = np.zeros((numStates, numStates))\n",
      "\n",
      "rewardsFromTask = (2.0-np.sum(np.abs(labels[0:numStates, :]-np.reshape(possibleLabelTasks[taskIdx, :], (1, len(possibleLabelTasks)), numStates)), axis=1))/2.0\n",
      "bestFrames = np.ndarray.flatten(np.argwhere(rewardsFromTask > 0.9))#[1:]\n",
      "bestProbs = rewardsFromTask[bestFrames]/np.sum(rewardsFromTask[bestFrames])\n",
      "\n",
      "## these are to check for loops\n",
      "framesSoFar = []\n",
      "framesSoFar.append(startIdx)\n",
      "loopDetected = False\n",
      "idxTaskWhenLoopBroken = -1#np.copy(idxTaskToPerform)\n",
      "\n",
      "# l = 0.35\n",
      "currentVFunc = np.sum(np.repeat(labelTaskToPerform.reshape((1, len(labelTaskToPerform))), numStates, axis=0)*v, axis=-1)\n",
      "totalFrames = 150\n",
      "currentIdx = startIdx\n",
      "for i in range(totalFrames) :\n",
      "    bestA, bestAIdx, immediateRewards, individualImmediateRewards = pi_l(ss[currentIdx], A[currentIdx, :, :], currentVFunc, currentIdx, neighbours, (labelTaskToPerform, idxTaskToPerform), 1.0+t, l, p, (semanticLabelsTask, idxRangeTask), (1.0, 0.0), ss, fs)#, True)\n",
      "#     print immediateRewards\n",
      "    if loopDetected :\n",
      "#         bestProbs = rewardsFromTask[bestFramesPerTask[taskIdx]]/np.sum(rewardsFromTask[bestFramesPerTask[taskIdx]])\n",
      "        bestProbs = np.ones(len(bestFramesPerTask[taskIdx]))\n",
      "        bestProbs[np.argwhere(bestFramesPerTask[taskIdx]==idxTaskToPerform)] = 0\n",
      "        bestProbs /= np.sum(bestProbs)\n",
      "#         print \"gna\", bestProbs\n",
      "        idxTaskToPerform = np.random.choice(bestFramesPerTask[taskIdx], p=bestProbs)#bestFrames, p=bestProbs)\n",
      "        framesSoFar = []\n",
      "        print \"[loop detected] new goal idx is\", idxTaskToPerform\n",
      "        loopDetected = False\n",
      "    elif semanticLabelsTask(labels[currentIdx, :], labelTaskToPerform) >= 0.85 :\n",
      "#         print currentIdx, semanticLabelsTask(labels[currentIdx, :], labelTaskToPerform)\n",
      "        if idxTaskToPerform != currentIdx :#not in neighbours[currentIdx, :] :\n",
      "    #         idxRewards = np.zeros(k)\n",
      "    #         for neighbour, idx in zip(neighbours[currentIdx, :], xrange(k)) :\n",
      "    #             taskReward = semanticLabelsTask(labels[neighbour, :], labelTaskToPerform)\n",
      "    #             appearanceReward = r_a(ss[currentIdx], currentIdx, neighbours[currentIdx, :], A[currentIdx, idx, :], 1.0+t, 2.0)\n",
      "    #             path, pathCost = getShortestPath(gr, neighbour, idxTaskToPerform)\n",
      "    #             print neighbour, pathCost, np.exp(1/pathCost), idxRewards[idx], taskReward, appearanceReward, l*taskReward + (1.0-l)*appearanceReward\n",
      "    #             idxRewards[idx] = l*taskReward + (1.0-l)*appearanceReward + np.exp(1/pathCost)\n",
      "    #         print idxRewards, np.argmax(idxRewards), bestAIdx\n",
      "    #         print \"la\", immediateRewards + np.exp(1/precomputedSPCosts[neighbours[currentIdx, :], idxTaskToPerform])\n",
      "            neighbourWeights = np.zeros(k)\n",
      "            idxCosts = np.zeros(k)\n",
      "            for neighbourIdx in xrange(k) :\n",
      "                neighbourWeights[neighbourIdx] = gr.edge_weight((int(currentIdx), int(neighbours[currentIdx, neighbourIdx])))\n",
      "                idxCosts[neighbourIdx] = (1.0-l)*(1.0-individualImmediateRewards[0, neighbourIdx]) + l*(1.0-individualImmediateRewards[1, neighbourIdx])\n",
      "#             print neighbourWeights\n",
      "            idxRewards = immediateRewards + np.exp(1/(neighbourWeights+precomputedSPCosts[neighbours[currentIdx, :], idxTaskToPerform]))\n",
      "#             idxRewards = immediateRewards + np.exp(1/(precomputedSPCosts[neighbours[currentIdx, :], idxTaskToPerform]))\n",
      "#             idxRewards = immediateRewards + np.exp((neighbourWeights+precomputedSPCosts[neighbours[currentIdx, :], idxTaskToPerform])/5)\n",
      "#             idxRewards = immediateRewards + 3/(neighbourWeights+precomputedSPCosts[neighbours[currentIdx, :], idxTaskToPerform])\n",
      "#             idxRewards = immediateRewards + (precomputedSPLengths[neighbours[currentIdx, :], idxTaskToPerform]+1)*1.1 - (neighbourWeights+precomputedSPCosts[neighbours[currentIdx, :], idxTaskToPerform])\n",
      "#             idxRewards = immediateRewards + (precomputedSPLengths[neighbours[currentIdx, :], idxTaskToPerform])*1.1 - (precomputedSPCosts[neighbours[currentIdx, :], idxTaskToPerform])\n",
      "#             idxRewards = (precomputedSPLengths[neighbours[currentIdx, :], idxTaskToPerform]+1)*1.1 - (neighbourWeights+precomputedSPCosts[neighbours[currentIdx, :], idxTaskToPerform])\n",
      "#             print immediateRewards\n",
      "#             print idxCosts\n",
      "            idxCosts = neighbourWeights + precomputedSPCosts[neighbours[currentIdx, :], idxTaskToPerform]\n",
      "#             idxCosts += precomputedSPLengths[neighbours[currentIdx, :], idxTaskToPerform]\n",
      "#             idxRewards = immediateRewards + precomputedSPLengths[neighbours[currentIdx, :], idxTaskToPerform]\n",
      "#             print precomputedSPLengths[neighbours[currentIdx, :], idxTaskToPerform]\n",
      "#             print idxCosts\n",
      "#             print idxRewards\n",
      "#             print idxCosts\n",
      "#             print \"idxRewards\", currentIdx, idxRewards-immediateRewards\n",
      "#             print \"NEW-noneighs-idxRewards\", currentIdx, (precomputedSPLengths[neighbours[currentIdx, :], idxTaskToPerform])*1.1 - (precomputedSPCosts[neighbours[currentIdx, :], idxTaskToPerform])\n",
      "#             print \"NEWidxRewards\", currentIdx, (precomputedSPLengths[neighbours[currentIdx, :], idxTaskToPerform]+1)*1.1 - (neighbourWeights+precomputedSPCosts[neighbours[currentIdx, :], idxTaskToPerform])\n",
      "#             print neighbours[currentIdx, :]\n",
      "#             print idxRewards-immediateRewards\n",
      "#             print 3/(neighbourWeights+precomputedSPCosts[neighbours[currentIdx, :], idxTaskToPerform])\n",
      "#             print np.exp(-precomputedSPCosts[neighbours[currentIdx, :], idxTaskToPerform]/4)\n",
      "#             print immediateRewards\n",
      "#             bestAIdx = np.argmin(idxCosts)\n",
      "            bestAIdx = np.argmax(idxRewards)\n",
      "            bestA = A[currentIdx, bestAIdx, :]\n",
      "        else :\n",
      "#             bestProbs = rewardsFromTask[bestFramesPerTask[taskIdx]]/np.sum(rewardsFromTask[bestFramesPerTask[taskIdx]])\n",
      "            bestProbs = np.ones(len(bestFramesPerTask[taskIdx]))\n",
      "            bestProbs[np.argwhere(bestFramesPerTask[taskIdx]==idxTaskToPerform)] = 0\n",
      "            bestProbs /= np.sum(bestProbs)\n",
      "#             print \"gna\", bestProbs\n",
      "            idxTaskToPerform = np.random.choice(bestFramesPerTask[taskIdx], p=bestProbs)#bestFrames, p=bestProbs)\n",
      "            framesSoFar = []\n",
      "            print \"[goal idx reached] new goal idx is\", idxTaskToPerform\n",
      "    else :\n",
      "        print \"semantic label reward is less than 0.9 for\", currentIdx, semanticLabelsTask(labels[currentIdx, :], labelTaskToPerform)\n",
      "    \n",
      "    newTaskState, newIdx = integrateTaskState(ss[currentIdx], bestA, 1.0, neighbours[currentIdx, :], ss, fs)\n",
      "    \n",
      "    if newIdx in framesSoFar :\n",
      "        loopDetected = False#True\n",
      "        \n",
      "    framesSoFar.append(newIdx)\n",
      "    \n",
      "    print newIdx, newTaskState['taskParams'][0]\n",
      "    currentIdx = np.copy(newIdx)"
     ],
     "language": "python",
     "metadata": {},
     "outputs": [
      {
       "output_type": "stream",
       "stream": "stdout",
       "text": [
        "task to perform: [ 1.  0.  0.  0.] 130\n",
        "starting from 115 with task params [  9.94662971e-01   8.99457486e-07   5.33577002e-03   3.59633364e-07]\n",
        "116 [  9.94599411e-01   9.16134373e-07   5.39931351e-03   3.59747418e-07]\n",
        "117 [  9.94467526e-01   9.47142089e-07   5.53116703e-03   3.59634069e-07]\n",
        "118 [  9.94512927e-01   9.53615789e-07   5.48576010e-03   3.59435412e-07]\n",
        "119 [ 1.  0.  0.  0.]\n",
        "120 [  9.94211312e-01   9.96181716e-07   5.78734311e-03   3.48888290e-07]\n",
        "121 [  9.94151101e-01   1.10347081e-06   5.84744080e-03   3.54909645e-07]\n",
        "122 [  9.94306199e-01   1.13505683e-06   5.69231850e-03   3.47553097e-07]\n",
        "123 [  9.94177512e-01   1.17639567e-06   5.82096418e-03   3.46964734e-07]\n",
        "124 [  9.94474107e-01   1.26799098e-06   5.52431582e-03   3.08855391e-07]\n",
        "125 [ 1.  0.  0.  0.]\n",
        "126"
       ]
      },
      {
       "output_type": "stream",
       "stream": "stdout",
       "text": [
        " [  9.93815766e-01   1.76917086e-06   6.18217099e-03   2.94103408e-07]\n",
        "127 [  9.92242466e-01   2.73598778e-06   7.75447739e-03   3.20178910e-07]\n",
        "128 [  9.91241605e-01   3.67417038e-06   8.75440442e-03   3.16095711e-07]\n",
        "129 [  9.90182841e-01   4.79803163e-06   9.81205866e-03   3.02687014e-07]\n",
        "130 [  9.88127737e-01   6.92189605e-06   1.18650682e-02   2.73306643e-07]\n",
        "[goal idx reached] new goal idx is 270\n",
        "131 [  9.86174658e-01   8.60065464e-06   1.38164914e-02   2.50183989e-07]\n",
        "132 [  9.85555930e-01   8.87259067e-06   1.44349459e-02   2.51151723e-07]\n",
        "133 [  9.87425010e-01   7.10463572e-06   1.25676122e-02   2.73143158e-07]\n",
        "134 [  9.89729726e-01   5.11947831e-06   1.02648503e-02   3.04414437e-07]\n",
        "135 [  9.91337762e-01   3.35435453e-06   8.65855712e-03   3.26231926e-07]\n",
        "136"
       ]
      },
      {
       "output_type": "stream",
       "stream": "stdout",
       "text": [
        " [  9.92542198e-01   2.58874864e-06   7.45489595e-03   3.17749809e-07]\n",
        "137 [  9.93653011e-01   1.81843229e-06   6.34486060e-03   3.09674910e-07]\n",
        "138 [ 1.  0.  0.  0.]\n",
        "139 [  9.94669360e-01   9.51398097e-07   5.32934788e-03   3.40871154e-07]\n",
        "140 [  9.94687889e-01   8.93176145e-07   5.31086778e-03   3.50083319e-07]\n",
        "141 [  9.94891998e-01   8.49953266e-07   5.10680357e-03   3.48308098e-07]\n",
        "142 [  9.94874730e-01   8.45407524e-07   5.12406223e-03   3.62363612e-07]\n",
        "143 [  9.95070019e-01   8.11112739e-07   4.92880630e-03   3.63350182e-07]\n",
        "144 [  9.95228899e-01   7.84208120e-07   4.76994436e-03   3.72223128e-07]\n",
        "145 [  9.95134862e-01   7.98417207e-07   4.86392587e-03   4.13932551e-07]\n",
        "146 [  9.95092338e-01   8.05339166e-07   4.90638364e-03   4.72998742e-07]"
       ]
      },
      {
       "output_type": "stream",
       "stream": "stdout",
       "text": [
        "\n",
        "147 [  9.94977975e-01   8.20579646e-07   5.02070294e-03   5.01712808e-07]\n",
        "148 [  9.94912622e-01   8.35624464e-07   5.08599904e-03   5.43763684e-07]\n",
        "149 [  9.94839517e-01   8.54275717e-07   5.15906344e-03   5.65145819e-07]\n",
        "150 [  9.94834545e-01   8.58296654e-07   5.16407591e-03   5.21084063e-07]\n",
        "151 [  9.94724386e-01   8.76319520e-07   5.27429060e-03   4.46691322e-07]\n",
        "152 [  9.94634181e-01   8.95695080e-07   5.36451305e-03   4.10241824e-07]\n",
        "153 [  9.94654584e-01   8.92504890e-07   5.34414007e-03   3.83396033e-07]\n",
        "154 [  9.94634795e-01   8.99645490e-07   5.36393207e-03   3.73752124e-07]\n",
        "155 [  9.94641604e-01   8.96700292e-07   5.35712998e-03   3.69335168e-07]\n",
        "156 [  9.94665788e-01   8.92595161e-07   5.33295592e-03   3.63181718e-07]\n",
        "157"
       ]
      },
      {
       "output_type": "stream",
       "stream": "stdout",
       "text": [
        " [  9.94647047e-01   8.97207928e-07   5.35169159e-03   3.64070530e-07]\n",
        "158 [  9.94627303e-01   8.98543090e-07   5.37143578e-03   3.62575393e-07]\n",
        "159 [  9.94640499e-01   8.97493937e-07   5.35824184e-03   3.62017167e-07]\n",
        "160 [  9.94654378e-01   8.96662116e-07   5.34436360e-03   3.61876792e-07]\n",
        "161 [  9.94710987e-01   8.88081640e-07   5.28776621e-03   3.58912902e-07]\n",
        "162 [  9.94667514e-01   8.93681268e-07   5.33123105e-03   3.61490462e-07]\n",
        "163 [  9.94662542e-01   8.95907830e-07   5.33620037e-03   3.61905050e-07]\n",
        "164 [  9.94681750e-01   8.93210523e-07   5.31699606e-03   3.61115824e-07]\n",
        "165 [  9.94704746e-01   8.89898539e-07   5.29400347e-03   3.60889340e-07]\n",
        "166 [  9.94664814e-01   9.02102094e-07   5.33392119e-03   3.63193886e-07]\n",
        "167"
       ]
      },
      {
       "output_type": "stream",
       "stream": "stdout",
       "text": [
        " [  9.94623267e-01   9.29762549e-07   5.37543920e-03   3.64254786e-07]\n",
        "168 [  9.94615977e-01   9.29431309e-07   5.38272867e-03   3.64596073e-07]\n",
        "169 [  9.94576428e-01   9.38800764e-07   5.42226732e-03   3.65950492e-07]\n",
        "170 [  9.94618308e-01   9.30194249e-07   5.38040072e-03   3.61269562e-07]\n",
        "171 [  9.94635649e-01   9.57324780e-07   5.36303837e-03   3.55613206e-07]\n",
        "172 [  9.94479627e-01   1.05548229e-06   5.51895958e-03   3.58389393e-07]\n",
        "173 [  9.94307618e-01   1.17302276e-06   5.69085418e-03   3.54644817e-07]\n",
        "174 [  9.93895620e-01   1.48632869e-06   6.10253790e-03   3.56259505e-07]\n",
        "175 [  9.92946430e-01   2.22849548e-06   7.05099278e-03   3.48955219e-07]\n",
        "176 [  9.92769450e-01   2.46098331e-06   7.22773897e-03   3.50013366e-07]\n",
        "177"
       ]
      },
      {
       "output_type": "stream",
       "stream": "stdout",
       "text": [
        " [  9.89253146e-01   6.10529017e-06   1.07404338e-02   3.15369802e-07]\n",
        "178 [ 1.  0.  0.  0.]\n",
        "179 [  9.64844323e-01   2.95899095e-05   3.51259640e-02   1.23339372e-07]\n",
        "180 [  9.57750347e-01   3.40368972e-05   4.22155134e-02   1.02390680e-07]\n",
        "181 [  9.58388697e-01   3.41682712e-05   4.15770306e-02   1.03765251e-07]\n",
        "182 [  9.59585256e-01   2.97458601e-05   4.03848627e-02   1.35363928e-07]\n",
        "183 [  9.56881522e-01   2.51048988e-05   4.30931806e-02   1.92419137e-07]\n",
        "184 [  9.70621049e-01   1.32879201e-05   2.93653992e-02   2.63671412e-07]\n",
        "185 [  9.79462734e-01   7.04856002e-06   2.05299309e-02   2.86107807e-07]\n",
        "186 [  9.88165475e-01   2.68814677e-06   1.18315340e-02   3.02835747e-07]\n",
        "187"
       ]
      },
      {
       "output_type": "stream",
       "stream": "stdout",
       "text": [
        " [  9.90919795e-01   1.47489663e-06   9.07839222e-03   3.37426288e-07]\n",
        "188 [  9.93668546e-01   1.02684818e-06   6.33007343e-03   3.53223381e-07]\n",
        "189 [  9.94526719e-01   8.81662448e-07   5.47203219e-03   3.67387201e-07]\n",
        "190 [  9.94866421e-01   8.32557536e-07   5.13238014e-03   3.65983907e-07]\n",
        "191 [  9.95029513e-01   8.09501979e-07   4.96930305e-03   3.74737918e-07]\n",
        "192 [  9.95026981e-01   8.12988739e-07   4.97180770e-03   3.98292847e-07]\n",
        "193 [  9.94858294e-01   8.43228171e-07   5.14041584e-03   4.46526499e-07]\n",
        "194 [  9.94621486e-01   8.75306245e-07   5.37714336e-03   4.95534822e-07]\n",
        "195 [  9.94650998e-01   8.78853286e-07   5.34768112e-03   4.42349227e-07]\n",
        "196 [  9.94586382e-01   8.92110414e-07   5.41231978e-03   4.06505003e-07]\n",
        "197"
       ]
      },
      {
       "output_type": "stream",
       "stream": "stdout",
       "text": [
        " [  9.94575156e-01   8.98448567e-07   5.42355776e-03   3.87700214e-07]\n",
        "198 [  9.94533247e-01   9.16431082e-07   5.46546101e-03   3.75203063e-07]\n",
        "199 [  9.94563938e-01   9.12805870e-07   5.43478116e-03   3.67843243e-07]\n",
        "200 [  9.94514973e-01   9.10728292e-07   5.48375323e-03   3.62546464e-07]\n",
        "201 [  9.94541755e-01   9.04697914e-07   5.45697960e-03   3.60677091e-07]\n",
        "202 [  9.94545828e-01   8.91766355e-07   5.45292147e-03   3.59161218e-07]\n",
        "203 [  9.94440496e-01   8.90782850e-07   5.55825244e-03   3.60647757e-07]\n",
        "204 [  9.94475315e-01   8.74267670e-07   5.52345098e-03   3.59645239e-07]\n",
        "205 [  9.94721634e-01   8.37350158e-07   5.27717369e-03   3.54503479e-07]\n",
        "206 [  9.95143441e-01   7.79764487e-07   4.85543808e-03   3.40859485e-07]\n",
        "207 [  9.95502305e-01   7.30473992e-07   4.49663414e-03   3.30750508e-07]\n",
        "208"
       ]
      },
      {
       "output_type": "stream",
       "stream": "stdout",
       "text": [
        " [ 1.  0.  0.  0.]\n",
        "209 [  9.95396405e-01   7.51619952e-07   4.60248568e-03   3.57607391e-07]\n",
        "210 [  9.95218315e-01   7.79139381e-07   4.78052693e-03   3.78617915e-07]\n",
        "211 [  9.95022637e-01   8.09738935e-07   4.97615166e-03   4.01212627e-07]\n",
        "212 [  9.94849085e-01   8.40614388e-07   5.14964927e-03   4.25191107e-07]\n",
        "213 [  9.94704262e-01   8.54245650e-07   5.29445791e-03   4.26220484e-07]\n",
        "214 [  9.94681309e-01   8.72118596e-07   5.31739183e-03   4.27119135e-07]\n",
        "215 [  9.94621685e-01   8.79974377e-07   5.37702700e-03   4.07955579e-07]\n",
        "216 [  9.94602158e-01   8.88432410e-07   5.39656102e-03   3.92623136e-07]\n",
        "217 [  9.94653726e-01   8.92141658e-07   5.34500660e-03   3.75178783e-07]\n",
        "218 [  9.94676456e-01   8.93701218e-07   5.32228398e-03   3.65862148e-07]\n",
        "219"
       ]
      },
      {
       "output_type": "stream",
       "stream": "stdout",
       "text": [
        " [  9.94652349e-01   8.98635106e-07   5.34638946e-03   3.63151144e-07]\n",
        "220 [  9.94671309e-01   8.96512489e-07   5.32743544e-03   3.58813534e-07]\n",
        "221 [  9.94709488e-01   8.96463324e-07   5.28925939e-03   3.56183589e-07]\n",
        "222 [  9.94686812e-01   9.11962608e-07   5.31192090e-03   3.54942331e-07]\n",
        "223 [  9.94535394e-01   9.76205778e-07   5.46327562e-03   3.54059608e-07]\n",
        "224 [  9.94290336e-01   1.15294561e-06   5.70816288e-03   3.48209520e-07]\n",
        "225 [  9.93448889e-01   1.72562773e-06   6.54903879e-03   3.46827927e-07]\n",
        "226 [  9.91432872e-01   3.38554940e-06   8.56342585e-03   3.16935530e-07]\n",
        "227 [  9.88322636e-01   6.46875178e-06   1.16706657e-02   2.29984052e-07]\n",
        "4 [  9.58160133e-01   2.89927542e-05   4.18106051e-02   2.69203105e-07]\n",
        "5 [  9.24417991e-01   6.95481412e-05   7.55122319e-02   2.29135073e-07]\n",
        "6"
       ]
      },
      {
       "output_type": "stream",
       "stream": "stdout",
       "text": [
        " [  8.45314447e-01   2.40311767e-04   1.54445064e-01   1.76874330e-07]\n",
        "semantic label reward is less than 0.9 for 6 0.845314446926\n",
        "180 [  9.57750347e-01   3.40368972e-05   4.22155134e-02   1.02390680e-07]\n",
        "181 [  9.58388697e-01   3.41682712e-05   4.15770306e-02   1.03765251e-07]\n",
        "182 [  9.59585256e-01   2.97458601e-05   4.03848627e-02   1.35363928e-07]\n",
        "183 [  9.56881522e-01   2.51048988e-05   4.30931806e-02   1.92419137e-07]\n",
        "184 [  9.70621049e-01   1.32879201e-05   2.93653992e-02   2.63671412e-07]\n",
        "185 [  9.79462734e-01   7.04856002e-06   2.05299309e-02   2.86107807e-07]\n",
        "186 [  9.88165475e-01   2.68814677e-06   1.18315340e-02   3.02835747e-07]\n",
        "187 [  9.90919795e-01   1.47489663e-06   9.07839222e-03   3.37426288e-07]\n",
        "188 [  9.93668546e-01   1.02684818e-06   6.33007343e-03   3.53223381e-07]\n",
        "189 [  9.94526719e-01   8.81662448e-07   5.47203219e-03   3.67387201e-07]\n",
        "190"
       ]
      },
      {
       "output_type": "stream",
       "stream": "stdout",
       "text": [
        " [  9.94866421e-01   8.32557536e-07   5.13238014e-03   3.65983907e-07]\n",
        "191 [  9.95029513e-01   8.09501979e-07   4.96930305e-03   3.74737918e-07]\n",
        "192 [  9.95026981e-01   8.12988739e-07   4.97180770e-03   3.98292847e-07]\n",
        "193 [  9.94858294e-01   8.43228171e-07   5.14041584e-03   4.46526499e-07]\n",
        "194 [  9.94621486e-01   8.75306245e-07   5.37714336e-03   4.95534822e-07]\n",
        "195 [  9.94650998e-01   8.78853286e-07   5.34768112e-03   4.42349227e-07]\n",
        "196 [  9.94586382e-01   8.92110414e-07   5.41231978e-03   4.06505003e-07]\n",
        "197 [  9.94575156e-01   8.98448567e-07   5.42355776e-03   3.87700214e-07]\n",
        "198 [  9.94533247e-01   9.16431082e-07   5.46546101e-03   3.75203063e-07]\n",
        "199 [  9.94563938e-01   9.12805870e-07   5.43478116e-03   3.67843243e-07]\n",
        "200 [  9.94514973e-01   9.10728292e-07   5.48375323e-03   3.62546464e-07]\n",
        "201"
       ]
      },
      {
       "output_type": "stream",
       "stream": "stdout",
       "text": [
        " [  9.94541755e-01   9.04697914e-07   5.45697960e-03   3.60677091e-07]\n",
        "202 [  9.94545828e-01   8.91766355e-07   5.45292147e-03   3.59161218e-07]\n",
        "203 [  9.94440496e-01   8.90782850e-07   5.55825244e-03   3.60647757e-07]\n",
        "204 [  9.94475315e-01   8.74267670e-07   5.52345098e-03   3.59645239e-07]\n",
        "205 [  9.94721634e-01   8.37350158e-07   5.27717369e-03   3.54503479e-07]\n",
        "206 [  9.95143441e-01   7.79764487e-07   4.85543808e-03   3.40859485e-07]\n",
        "207 [  9.95502305e-01   7.30473992e-07   4.49663414e-03   3.30750508e-07]\n",
        "208 [ 1.  0.  0.  0.]\n",
        "209 [  9.95396405e-01   7.51619952e-07   4.60248568e-03   3.57607391e-07]\n",
        "210 [  9.95218315e-01   7.79139381e-07   4.78052693e-03   3.78617915e-07]\n",
        "211"
       ]
      },
      {
       "output_type": "stream",
       "stream": "stdout",
       "text": [
        " [  9.95022637e-01   8.09738935e-07   4.97615166e-03   4.01212627e-07]\n",
        "212 [  9.94849085e-01   8.40614388e-07   5.14964927e-03   4.25191107e-07]\n",
        "213 [  9.94704262e-01   8.54245650e-07   5.29445791e-03   4.26220484e-07]\n",
        "214 [  9.94681309e-01   8.72118596e-07   5.31739183e-03   4.27119135e-07]\n"
       ]
      }
     ],
     "prompt_number": 44
    },
    {
     "cell_type": "code",
     "collapsed": false,
     "input": [
      "print getShortestPath(gr, 121, 190)\n",
      "print gr.edge_weight((345, 346))\n",
      "print neighbourIdx, currentIdx\n",
      "print int(neighbours[currentIdx, neighbourIdx])\n",
      "print gr.edge_weight((int(currentIdx), int(neighbours[currentIdx, neighbourIdx])))"
     ],
     "language": "python",
     "metadata": {},
     "outputs": [
      {
       "output_type": "stream",
       "stream": "stdout",
       "text": [
        "(array([121, 172, 173, 174, 175, 176, 177, 178, 179, 180, 181, 182, 183,\n",
        "       184, 185, 186, 187, 188, 189, 190]), 2.5071301904624415)\n",
        "0.1\n",
        "14 146\n",
        "2\n",
        "0.77621746865\n"
       ]
      }
     ],
     "prompt_number": 62
    },
    {
     "cell_type": "code",
     "collapsed": false,
     "input": [
      "print \"neighs of 345\", neighbours[345, :]\n",
      "print precomputedSPCosts[neighbours[345, :], 779]\n",
      "print getShortestPath(gr, 345, 779)\n",
      "print \"neighs of 346\", neighbours[346, :]\n",
      "print precomputedSPCosts[neighbours[346, :], 779]\n",
      "print getShortestPath(gr, 346, 779)\n",
      "print getShortestPath(gr, 301, 779)\n",
      "print\n",
      "print gr.edge_weight((345, 346))\n",
      "print gr.edge_weight((346, 301))\n",
      "print gr.edge_weight((301, 302))\n",
      "print gr.edge_weight((302, 303))\n",
      "print gr.edge_weight((303, 778))"
     ],
     "language": "python",
     "metadata": {},
     "outputs": [
      {
       "output_type": "stream",
       "stream": "stdout",
       "text": [
        "neighs of 345 [346 347 422 419 409 418 420 423 408 421 417 326 407 410 344]\n",
        "[ 1.7752244   1.6752244   2.99707612  2.77200032  2.60981265  2.54977471\n",
        "  2.75336045  2.93161937  2.19811257  2.74121127  2.5281254   1.66373674\n",
        "  2.20723037  2.83634315  1.9752244 ]\n",
        "(array([345, 346, 347, 770, 771, 772, 773, 774, 775, 776, 777, 778, 779]), 1.8752244013054109)\n",
        "neighs of 346 [347 348 327 326 423 527 335 301 422 409 410 300 328 424 421]\n",
        "[ 1.6752244   1.59110147  1.56373674  1.66373674  2.93161937  1.85342292\n",
        "  1.70835792  1.11559535  2.99707612  2.60981265  2.83634315  1.21559535\n",
        "  1.46794253  2.92892263  2.74121127]\n",
        "(array([346, 347, 770, 771, 772, 773, 774, 775, 776, 777, 778, 779]), 1.7752244013054106)"
       ]
      },
      {
       "output_type": "stream",
       "stream": "stdout",
       "text": [
        "\n",
        "(array([301, 302, 303, 778, 779]), 1.1155953477346341)\n",
        "\n",
        "0.1\n",
        "0.783767465316\n",
        "0.1\n",
        "0.1\n",
        "0.815595347735\n"
       ]
      }
     ],
     "prompt_number": 111
    },
    {
     "cell_type": "code",
     "collapsed": false,
     "input": [
      "currentIdx = 847\n",
      "bestA, bestAIdx, immediateRewards = pi_l(ss[currentIdx], A[currentIdx, :, :], currentVFunc, currentIdx, neighbours, (labelTaskToPerform, idxTaskToPerform), 1.0+t, l, p, (semanticLabelsTask, idxRangeTask), (1.0, 0.0), ss, fs)#, True)\n",
      "print immediateRewards + np.exp(1/precomputedSPCosts[neighbours[currentIdx, :], idxTaskToPerform])\n",
      "print neighbours[currentIdx, :]"
     ],
     "language": "python",
     "metadata": {},
     "outputs": [
      {
       "output_type": "stream",
       "stream": "stdout",
       "text": [
        "[ 3.20644793  2.81981717  2.3049469   2.71517101  1.95808783  2.1109978\n",
        "  1.95448011  1.86162684  2.66541192  3.41540451  2.4637055   2.61970426\n",
        "  4.77230294  2.29576958  2.2756    ]\n",
        "[848 849 802 846 803 230 231 804 845 786 879 900 787 878 801]\n"
       ]
      }
     ],
     "prompt_number": 49
    },
    {
     "cell_type": "code",
     "collapsed": false,
     "input": [
      "print neighbours[840, :]\n",
      "print tmp[neighbours[840, :]]\n",
      "print tmp[820:920]\n",
      "print idxRangeTask(841, 907, 1271)\n",
      "print labels[840, :]\n",
      "print tmp[841]\n",
      "print np.exp(-np.floor((np.abs(841-907)+rangeSize/2)/rangeSize)/(1271/(rangeSize*10)))\n",
      "print np.exp(-np.floor((np.abs(arange(numFrames)-907)+rangeSize/2)/rangeSize)/(numFrames/(rangeSize*10)))[841]\n",
      "print numFrames, numStates\n",
      "taskReward = 0.57651873443\n",
      "appearanceReward = 1.0\n",
      "print l*taskReward + (1.0-l)*appearanceReward"
     ],
     "language": "python",
     "metadata": {},
     "outputs": [
      {
       "output_type": "stream",
       "stream": "stdout",
       "text": [
        "[841 842 839 843 838 844 837 836 799 835 182 183 800 834 184]\n",
        "[ 0.57651873  0.57651873  0.57651873  0.62371033  0.57651873  0.62371033\n",
        "  0.57651873  0.57651873  0.4208578   0.57651873  0.00320351  0.00346573\n",
        "  0.4208578   0.57651873  0.00346573]\n",
        "[ 0.49257731  0.49257731  0.49257731  0.53289778  0.53289778  0.53289778\n",
        "  0.53289778  0.53289778  0.53289778  0.53289778  0.53289778  0.53289778\n",
        "  0.53289778  0.57651873  0.57651873  0.57651873  0.57651873  0.57651873\n",
        "  0.57651873  0.57651873  0.57651873  0.57651873  0.57651873  0.62371033\n",
        "  0.62371033  0.62371033  0.62371033  0.62371033  0.62371033  0.62371033\n",
        "  0.62371033  0.62371033  0.62371033  0.67476484  0.67476484  0.67476484\n",
        "  0.67476484  0.67476484  0.67476484  0.67476484  0.67476484  0.67476484\n",
        "  0.67476484  0.72999848  0.72999848  0.72999848  0.72999848  0.72999848\n",
        "  0.72999848  0.72999848  0.72999848  0.72999848  0.72999848  0.78975333\n",
        "  0.78975333  0.78975333  0.78975333  0.78975333  0.78975333  0.78975333\n",
        "  0.78975333  0.78975333  0.78975333  0.85439949  0.85439949  0.85439949\n",
        "  0.85439949  0.85439949  0.85439949  0.85439949  0.85439949  0.85439949\n",
        "  0.85439949  0.92433732  0.92433732  0.92433732  0.92433732  0.92433732\n",
        "  0.92433732  0.92433732  0.92433732  0.92433732  0.92433732  1.          1.\n",
        "  1.          1.          1.          1.          1.          1.          1.\n",
        "  0.92433732  0.92433732  0.92433732  0.92433732  0.92433732  0.92433732\n",
        "  0.92433732  0.92433732]\n",
        "0.57651873443\n",
        "[ 0.  0.  1.  0.]\n",
        "0.57651873443\n",
        "0.57651873443\n",
        "0.578755598612\n",
        "1280 1271\n",
        "0.851781557051\n"
       ]
      }
     ],
     "prompt_number": 49
    },
    {
     "cell_type": "code",
     "collapsed": false,
     "input": [
      "goal = 907\n",
      "tot = np.max((goal, np.abs(goal-numStates)))\n",
      "rangeSize = 10.0\n",
      "absDiff = 1.0-np.abs(arange(numStates)-goal)/float(tot)\n",
      "rangeAbsDiff =1.0-np.floor((np.abs(arange(numStates)-goal)+rangeSize/2.0)/rangeSize)*float(rangeSize/tot)\n",
      "tmp = np.exp(-np.floor((np.abs(arange(numStates)-907)+rangeSize/2)/rangeSize)/(numStates/(rangeSize*10)))\n",
      "figure(); plot(xrange(numStates), absDiff, xrange(numStates), rangeAbsDiff, xrange(numStates), tmp)"
     ],
     "language": "python",
     "metadata": {},
     "outputs": [
      {
       "metadata": {},
       "output_type": "pyout",
       "prompt_number": 47,
       "text": [
        "[<matplotlib.lines.Line2D at 0x7f43a49cb350>,\n",
        " <matplotlib.lines.Line2D at 0x7f43a49cb5d0>,\n",
        " <matplotlib.lines.Line2D at 0x7f43a49cbc90>]"
       ]
      }
     ],
     "prompt_number": 47
    },
    {
     "cell_type": "code",
     "collapsed": false,
     "input": [
      "# amount, np.sum(actions[idx, :]), taskReward, appearanceReward, taskValueFunction[newIdx], appValueFunction[newIdx], newIdx\n",
      "idx1 = 208\n",
      "idx2 = 207\n",
      "print taskToPerform\n",
      "print\n",
      "print v_a[idx1, :]\n",
      "print v_t[idx1, :]\n",
      "print labels[idx1, :], (2.0-np.sum(np.abs(labels[idx1, :]-taskToPerform)))/2.0\n",
      "print neighbours[idx1, :]\n",
      "print pi_l(s, A[idx1, :, :], np.sum(np.repeat(taskToPerform.reshape((1, len(taskToPerform))), numStates, axis=0)*v_t, axis=-1), v_a[:, task], idx1, fs, neighbours, labels, taskToPerform, 1.0+t, l, p, True)\n",
      "print\n",
      "print v_a[idx2, :]\n",
      "print v_t[idx2, :]\n",
      "print labels[idx2, :], (2.0-np.sum(np.abs(labels[idx2, :]-taskToPerform)))/2.0\n",
      "print neighbours[idx2, :]\n",
      "print pi_l(s, A[idx2, :, :], np.sum(np.repeat(taskToPerform.reshape((1, len(taskToPerform))), numStates, axis=0)*v_t, axis=-1), v_a[:, task], idx2, fs, neighbours, labels, taskToPerform, 1.0+t, l, p, True)\n",
      "print\n",
      "print v_a[idx1+1, :]\n",
      "print v_t[idx1+1, :]\n",
      "print labels[idx1+1, :], (2.0-np.sum(np.abs(labels[idx1+1, :]-taskToPerform)))/2.0"
     ],
     "language": "python",
     "metadata": {},
     "outputs": []
    },
    {
     "cell_type": "code",
     "collapsed": false,
     "input": [
      "eucDist = np.array(np.load(outputData + \"vanilla_distMat\" + \".npy\"), dtype=np.float)\n",
      "eucDist /= np.max(eucDist)\n",
      "eucDist = np.copy(vtu.filterDistanceMatrix(np.copy(eucDist), 4, True))\n",
      "eucT = np.copy(eucDist[1:eucDist.shape[1], 0:-1])\n",
      "figure(); imshow(eucT, interpolation='nearest')"
     ],
     "language": "python",
     "metadata": {},
     "outputs": [
      {
       "metadata": {},
       "output_type": "pyout",
       "prompt_number": 15,
       "text": [
        "<matplotlib.image.AxesImage at 0x7f7149692710>"
       ]
      }
     ],
     "prompt_number": 15
    },
    {
     "cell_type": "code",
     "collapsed": false,
     "input": [
      "print np.max(eucT), np.max(t)"
     ],
     "language": "python",
     "metadata": {},
     "outputs": [
      {
       "output_type": "stream",
       "stream": "stdout",
       "text": [
        "8.30978778692 6.38647691501\n"
       ]
      }
     ],
     "prompt_number": 16
    },
    {
     "cell_type": "code",
     "collapsed": false,
     "input": [
      "print neighbours[840, :]\n",
      "tic =time.time()\n",
      "for neighbour, i in zip(neighbours[840, :], xrange(k)) :\n",
      "    taskReward = semanticLabelsTask(labels[neighbour, :], labelTaskToPerform)\n",
      "    appearanceReward = r_a(ss[840], 840, neighbours[840, :], A[840, i, :], 1.0+t, 2.0)\n",
      "    path, pathCost = getShortestPath(gr, neighbour, 906)\n",
      "    print taskReward, appearanceReward, l*taskReward + (1.0-l)*appearanceReward\n",
      "    print path, pathCost, np.exp(1/pathCost)\n",
      "    print \"la\", l*taskReward + (1.0-l)*appearanceReward + np.exp(1/pathCost)\n",
      "print time.time()-tic"
     ],
     "language": "python",
     "metadata": {},
     "outputs": [
      {
       "output_type": "stream",
       "stream": "stdout",
       "text": [
        "[841 842 839 843 838 844 837 836 799 835 182 183 800 834 184]\n",
        "1.0 1.0 1.0\n",
        "[841 842 843 844 845 846 847 848 901 902 903 904 905 906] 2.07170810024 1.62043313962\n",
        "la 2.62043313962\n",
        "1.0"
       ]
      },
      {
       "output_type": "stream",
       "stream": "stdout",
       "text": [
        " 0.709062952867 0.810890919364\n",
        "[842 843 844 845 846 847 848 901 902 903 904 905 906] 1.97170810024 1.66059249695\n",
        "la 2.47148341631\n",
        "1.0 0.640335913916 0.766218344046\n",
        "[839 840 841 842 843 844 845 846 847 848 901 902 903 904 905 906] 2.27170810024 1.55301375366\n",
        "la 2.31923209771\n",
        "0.99993751682"
       ]
      },
      {
       "output_type": "stream",
       "stream": "stdout",
       "text": [
        " 0.597392337904 0.738283150525\n",
        "[843 844 845 846 847 848 901 902 903 904 905 906] 1.87170810024 1.70620455093\n",
        "la 2.44448770145\n",
        "1.0 0.544920713682 0.704198463893\n",
        "[838 839 840 841 842 843 844 845 846 847 848 901 902 903 904 905 906] 2.37170810024 1.52445511887\n",
        "la 2.22865358277\n",
        "0.999888317628"
       ]
      },
      {
       "output_type": "stream",
       "stream": "stdout",
       "text": [
        " 0.507073287465 0.679558548022\n",
        "[844 845 846 847 848 901 902 903 904 905 906] 1.77170810024 1.75844001919\n",
        "la 2.43799856722\n",
        "1.0 0.457146754508 0.64714539043\n",
        "[837 838 839 840 841 842 843 844 845 846 847 848 901 902 903 904 905 906] 2.47170810024 1.49867070412\n",
        "la 2.14581609455\n",
        "1.0"
       ]
      },
      {
       "output_type": "stream",
       "stream": "stdout",
       "text": [
        " 0.415473323018 0.620057659962\n",
        "[836 837 838 839 840 841 842 843 844 845 846 847 848 901 902 903 904 905\n",
        " 906] 2.57170810024 1.47527825442\n",
        "la 2.09533591438\n",
        "0.979015250911 0.394912583192 0.599348516893\n",
        "[799 846 847 848 901 902 903 904 905 906] 2.33372466436 1.5349526958\n",
        "la 2.13430121269\n",
        "1.0"
       ]
      },
      {
       "output_type": "stream",
       "stream": "stdout",
       "text": [
        " 0.383263042522 0.599120977639\n",
        "[835 836 837 838 839 840 841 842 843 844 845 846 847 848 901 902 903 904\n",
        " 905 906] 2.67170810024 1.45396220676\n",
        "la 2.0530831844\n",
        "0.672229538215 0.381278993866 0.483111684388\n",
        "[182 844 845 846 847 848 901 902 903 904 905 906] 2.54082709023 1.48226693671\n",
        "la 1.9653786211\n",
        "0.693603246728"
       ]
      },
      {
       "output_type": "stream",
       "stream": "stdout",
       "text": [
        " 0.376749471441 0.487648292791\n",
        "[183 844 845 846 847 848 901 902 903 904 905 906] 2.5575182411 1.47846450684\n",
        "la 1.96611279963\n",
        "0.972272465876 0.37656754743 0.585064268886\n",
        "[800 847 848 901 902 903 904 905 906] 2.2424933993 1.56194555256\n",
        "la 2.14700982145\n",
        "1.0"
       ]
      },
      {
       "output_type": "stream",
       "stream": "stdout",
       "text": [
        " 0.37439469867 0.593356554135\n",
        "[834 842 843 844 845 846 847 848 901 902 903 904 905 906] 2.72655071843 1.4430569746\n",
        "la 2.03641352874\n",
        "0.715444009158 0.370223202542 0.491050484858\n",
        "[184 845 846 847 848 901 902 903 904 905 906] 2.46891030053 1.49935796228\n",
        "la 1.99040844714\n",
        "0.424221038818\n"
       ]
      }
     ],
     "prompt_number": 37
    },
    {
     "cell_type": "code",
     "collapsed": false,
     "input": [
      "print gr.edge_weight((841, 842))"
     ],
     "language": "python",
     "metadata": {},
     "outputs": [
      {
       "output_type": "stream",
       "stream": "stdout",
       "text": [
        "0.0\n"
       ]
      }
     ],
     "prompt_number": 30
    },
    {
     "cell_type": "code",
     "collapsed": false,
     "input": [
      "def getShortestPath(graph, start, end) :\n",
      "    paths = shortest_path(graph, start)[0]\n",
      "#     print paths\n",
      "    curr = end\n",
      "    path = []\n",
      "    \n",
      "    ## no path from start to end\n",
      "    if curr not in paths :\n",
      "        return np.array(path), -1\n",
      "    \n",
      "    path.append(curr)\n",
      "    while curr != start :\n",
      "        curr = paths[curr]\n",
      "        path.append(curr)\n",
      "        \n",
      "    path = np.array(path)[::-1]\n",
      "    distance = 0\n",
      "    for i in xrange(1, len(path)) :\n",
      "        distance += graph.edge_weight((path[i-1], path[i]))\n",
      "    return path, distance\n",
      "\n",
      "print np.ndarray.flatten(getShortestPath(gr, 0, 1200)[0])\n",
      "frameQueue = list(np.ndarray.flatten(getShortestPath(gr, 0, 1200)[0]))\n",
      "print frameQueue.pop(0)\n",
      "print frameQueue.pop(0)\n",
      "# print list(np.ndarray.flatten(getShortestPath(gr, currentIdx, random)[0]))"
     ],
     "language": "python",
     "metadata": {},
     "outputs": [
      {
       "output_type": "stream",
       "stream": "stdout",
       "text": [
        "[   0  223  913  914  929  930  931  932 1270 1199 1200]\n",
        "0\n",
        "223\n"
       ]
      }
     ],
     "prompt_number": 27
    },
    {
     "cell_type": "code",
     "collapsed": false,
     "input": [
      "## use shortest path to get to traverse graph\n",
      "startIdx = 835\n",
      "totalFrames = 100\n",
      "currentIdx = startIdx\n",
      "taskIdx = 2\n",
      "\n",
      "bestFramesPerTask = []\n",
      "for i in xrange(len(possibleLabelTasks)) :\n",
      "    bestFramesPerTask.append(np.ndarray.flatten(np.argwhere(labels[:, i] > 0.9)))\n",
      "    \n",
      "# print bestFramesPerTask\n",
      "frameQueue = []\n",
      "frameQueue.append(currentIdx)\n",
      "\n",
      "for i in range(totalFrames) :\n",
      "    while len(frameQueue) == 0 :\n",
      "        randomChoice = random.choice(bestFramesPerTask[taskIdx])\n",
      "        print \"going to\", randomChoice\n",
      "        frameQueue = list(np.ndarray.flatten(getShortestPath(gr, currentIdx, randomChoice)[0][1:]))\n",
      "        \n",
      "    currentIdx = frameQueue.pop(0)\n",
      "    print currentIdx\n",
      "\n",
      "# print random.choice(bestFramesPerTask[taskIdx])"
     ],
     "language": "python",
     "metadata": {},
     "outputs": [
      {
       "output_type": "stream",
       "stream": "stdout",
       "text": [
        "835\n",
        "going to 911\n",
        "836\n",
        "837\n",
        "838\n",
        "839\n",
        "840\n",
        "841\n",
        "842\n",
        "843\n",
        "844\n",
        "845\n",
        "846\n",
        "847\n",
        "848\n",
        "849\n",
        "789\n",
        "906\n",
        "907\n",
        "908\n",
        "909\n",
        "910\n",
        "911\n",
        "going to 827\n",
        "831\n",
        "832\n",
        "833\n",
        "834\n",
        "835\n",
        "836\n",
        "837\n",
        "838\n",
        "839\n",
        "840\n",
        "841\n",
        "842\n",
        "843\n",
        "844\n",
        "845\n",
        "846\n",
        "847\n",
        "848\n",
        "849\n",
        "761\n",
        "826\n",
        "827\n",
        "going to 795\n",
        "794"
       ]
      },
      {
       "output_type": "stream",
       "stream": "stdout",
       "text": [
        "\n",
        "795\n",
        "going to 825\n",
        "796\n",
        "797\n",
        "798\n",
        "845\n",
        "846\n",
        "847\n",
        "848\n",
        "788\n",
        "825\n",
        "going to 834\n",
        "826\n",
        "827\n",
        "828\n",
        "829\n",
        "830\n",
        "831\n",
        "832\n",
        "833\n",
        "834\n",
        "going to 846\n",
        "835"
       ]
      },
      {
       "output_type": "stream",
       "stream": "stdout",
       "text": [
        "\n",
        "836\n",
        "837\n",
        "838\n",
        "839\n",
        "840\n",
        "841\n",
        "842\n",
        "843\n",
        "844\n",
        "845\n",
        "846\n",
        "going to 799\n",
        "844\n",
        "799\n",
        "going to 834\n",
        "835\n",
        "834\n",
        "going to 798\n",
        "835"
       ]
      },
      {
       "output_type": "stream",
       "stream": "stdout",
       "text": [
        "\n",
        "836\n",
        "837\n",
        "838\n",
        "839\n",
        "840\n",
        "841\n",
        "842\n",
        "843\n",
        "844\n",
        "845\n",
        "846\n",
        "847\n",
        "848\n",
        "849\n",
        "789\n",
        "790\n",
        "791\n",
        "792\n",
        "793\n"
       ]
      }
     ],
     "prompt_number": 22
    },
    {
     "cell_type": "code",
     "collapsed": false,
     "input": [
      "possibleTasksToPerform = np.eye(4)"
     ],
     "language": "python",
     "metadata": {},
     "outputs": [],
     "prompt_number": 21
    },
    {
     "cell_type": "code",
     "collapsed": false,
     "input": [
      "class ImageLabel(QtGui.QLabel) :\n",
      "    \n",
      "    def __init__(self, text, parent=None):\n",
      "        super(ImageLabel, self).__init__(text, parent)\n",
      "        \n",
      "    def setPixmap(self, pixmap) :\n",
      "        if pixmap.width() > self.width() :\n",
      "            super(ImageLabel, self).setPixmap(pixmap.scaledToWidth(self.width()))\n",
      "        else :\n",
      "            super(ImageLabel, self).setPixmap(pixmap)\n",
      "        \n",
      "    def resizeEvent(self, event) :\n",
      "        if self.pixmap() != None :\n",
      "            if self.pixmap().width() > self.width() :\n",
      "                self.setPixmap(self.pixmap().scaledToWidth(self.width()))\n",
      "                \n",
      "class Window(QtGui.QWidget):\n",
      "    def __init__(self):\n",
      "        super(Window, self).__init__()\n",
      "        \n",
      "        self.createGUI()\n",
      "        \n",
      "        self.setWindowTitle(\"Video Fields Visualizer\")\n",
      "        self.resize(1280, 720)\n",
      "        \n",
      "        self.textureTimer = QtCore.QTimer(self)\n",
      "        self.textureTimer.setInterval(1000/30)\n",
      "        self.textureTimer.start()\n",
      "        self.textureTimer.timeout.connect(self.renderOneFrame)\n",
      "        \n",
      "        self.taskIdx = 0\n",
      "        self.labelTaskToPerform = possibleLabelTasks[self.taskIdx, :]\n",
      "        \n",
      "        rewardsFromTask = (2.0-np.sum(np.abs(labels[0:numStates, :]-np.reshape(self.labelTaskToPerform, (1, len(possibleLabelTasks)), numStates)), axis=1))/2.0\n",
      "        self.bestFrames = np.ndarray.flatten(np.argwhere(rewardsFromTask > 0.9))#[1:]\n",
      "        self.bestProbs = rewardsFromTask[self.bestFrames]/np.sum(rewardsFromTask[self.bestFrames])\n",
      "        print \"task set to\", self.taskIdx, self.bestFrames\n",
      "        \n",
      "#         self.taskToPerform = np.array([0, 0.5, 0.0, 0.5])\n",
      "        self.frameRenderedBeforeIdx = 0\n",
      "        self.currentIdx = 115\n",
      "        self.renderedFrames = []; self.renderedFrames.append(self.currentIdx)\n",
      "        self.frameQueue = [self.currentIdx]\n",
      "        self.idxTaskToPerform = 130#np.random.choice(self.bestFrames, p=self.bestProbs)\n",
      "        print \"goal idx is\", self.idxTaskToPerform\n",
      "        \n",
      "        \n",
      "        ## these are to check for loops\n",
      "        self.framesSoFar = []\n",
      "        self.framesSoFar.append(self.currentIdx)\n",
      "        self.loopDetected = False\n",
      "        \n",
      "        \n",
      "        ## HACK ##\n",
      "        im = np.ascontiguousarray(Image.open(frames[self.currentIdx+filterSize]))\n",
      "        qim = QtGui.QImage(im.data, im.shape[1], im.shape[0], im.strides[0], QtGui.QImage.Format_RGB888);\n",
      "        self.frameLabel.setPixmap(QtGui.QPixmap.fromImage(qim))\n",
      "        \n",
      "        infoText = \"Frame idx: \"+np.string_(self.currentIdx)+\"\\t\"+np.string_(labels[self.currentIdx, :])\n",
      "        self.infoLabel.setText(infoText)\n",
      "        print self.currentIdx, labels[self.currentIdx, :]\n",
      "        \n",
      "        self.labelJumpStyle = \"QLabel {border: 1px solid black; background: #aa0000; color: white; padding-left: 5px; padding-right: 5px;}\"\n",
      "        self.labelNoJumpStyle = \"QLabel {border: 1px solid gray; background: #eeeeee; color: black; padding-left: 5px; padding-right: 5px;}\"\n",
      "        self.infoLabel.setStyleSheet(self.labelNoJumpStyle)\n",
      "        \n",
      "    def changeTaskLabel(self, index) :\n",
      "        self.taskIdx = index\n",
      "        self.labelTaskToPerform = possibleLabelTasks[self.taskIdx, :]\n",
      "        \n",
      "        rewardsFromTask = (2.0-np.sum(np.abs(labels[0:numStates, :]-np.reshape(self.labelTaskToPerform, (1, len(possibleLabelTasks)), numStates)), axis=1))/2.0\n",
      "        self.bestFrames = np.ndarray.flatten(np.argwhere(rewardsFromTask > 0.9))#[1:]\n",
      "        self.bestProbs = rewardsFromTask[self.bestFrames]/np.sum(rewardsFromTask[self.bestFrames])\n",
      "        self.idxTaskToPerform = np.random.choice(self.bestFrames, p=self.bestProbs)\n",
      "        print \"changed task to\", self.taskIdx, self.bestFrames\n",
      "        print \"new goal idx is\", self.idxTaskToPerform\n",
      "        \n",
      "    def renderOneFrame(self) :\n",
      "        \n",
      "        s = {'frameState': fs[self.currentIdx, :, :], 'taskParams': labels[self.currentIdx, :]}\n",
      "        neighsProbs = np.zeros(k)#probs[self.currentIdx, neighbours[self.currentIdx, :]]/np.sum(probs[self.currentIdx, neighbours[self.currentIdx, :]])\n",
      "#         bestA, bestAIdx = pi_l(s, A[self.currentIdx, :, :], v[:, self.taskIdx], self.currentIdx, fs, neighbours, labels, self.taskToPerform)\n",
      "#         bestA, bestAIdx = pi_l(s, A[self.currentIdx, :, :], np.sum(np.repeat(self.taskToPerform.reshape((1, len(self.taskToPerform))), numStates, axis=0)*v, axis=-1), self.currentIdx, fs, neighbours, labels, self.taskToPerform, neighsProbs, w[self.currentIdx, :])\n",
      "#         bestA, bestAIdx = pi_l(s, A[self.currentIdx, :, :], np.sum(np.repeat(self.taskToPerform.reshape((1, len(self.taskToPerform))), numStates, axis=0)*v, axis=-1), self.currentIdx, fs, neighbours, labels, self.taskToPerform, 1.0+t, l, p, 0.1)\n",
      "        bestA, bestAIdx, immediateRewards, individualImmediateRewards = pi_l(ss[self.currentIdx], A[self.currentIdx, :, :], np.sum(np.repeat(self.labelTaskToPerform.reshape((1, len(self.labelTaskToPerform))), numStates, axis=0)*v, axis=-1), self.currentIdx, neighbours, (self.labelTaskToPerform, self.idxTaskToPerform), 1.0+t, l, p, (semanticLabelsTask, idxRangeTask), (1.0, 0.0), ss, fs)#, True)\n",
      "        \n",
      "        if self.loopDetected :\n",
      "            bestProbs = np.ones(len(bestFramesPerTask[self.taskIdx]))\n",
      "            bestProbs[np.argwhere(bestFramesPerTask[self.taskIdx]==self.idxTaskToPerform)] = 0\n",
      "            bestProbs /= np.sum(bestProbs)\n",
      "            self.idxTaskToPerform = np.random.choice(bestFramesPerTask[self.taskIdx], p=bestProbs)\n",
      "#             self.idxTaskToPerform = np.random.choice(self.bestFrames, p=self.bestProbs)\n",
      "            self.framesSoFar = []\n",
      "            print \"[loop detected] new goal idx is\", self.idxTaskToPerform\n",
      "            self.loopDetected = False\n",
      "        elif semanticLabelsTask(labels[self.currentIdx, :], self.labelTaskToPerform) >= 0.9 :\n",
      "            ## randomly try to reach a certain frame\n",
      "            if self.idxTaskToPerform != self.currentIdx :# not in neighbours[self.currentIdx, :] :\n",
      "#                 idxRewards = np.zeros(k)\n",
      "#                 for neighbour, i in zip(neighbours[self.currentIdx, :], xrange(k)) :\n",
      "#                     taskReward = semanticLabelsTask(labels[neighbour, :], self.labelTaskToPerform)\n",
      "#                     appearanceReward = r_a(ss[self.currentIdx], self.currentIdx, neighbours[self.currentIdx, :], A[self.currentIdx, i, :], 1.0+t, 2.0)\n",
      "#                     path, pathCost = getShortestPath(gr, neighbour, self.idxTaskToPerform)\n",
      "#                     if pathCost > 0 :\n",
      "#                         idxRewards[i] = l*taskReward + (1.0-l)*appearanceReward + np.exp(1/pathCost)\n",
      "#     #                     print neighbour, pathCost, np.exp(1/pathCost), idxRewards[idx], taskReward, appearanceReward\n",
      "#                     else :\n",
      "#                         idxRewards[i] = 0.0\n",
      "#     #                     print \"zero path cost\", neighbour, pathCost, idxRewards[idx], taskReward, appearanceReward\n",
      "#     #             print idxRewards, np.argmax(idxRewards), bestAIdx\n",
      "\n",
      "#                 idxRewards = immediateRewards + np.exp(1/precomputedSPCosts[neighbours[self.currentIdx, :], self.idxTaskToPerform])\n",
      "\n",
      "                neighbourWeights = np.zeros(k)\n",
      "                idxCosts = np.zeros(k)\n",
      "                for neighbourIdx in xrange(k) :\n",
      "                    neighbourWeights[neighbourIdx] = gr.edge_weight((int(self.currentIdx), int(neighbours[self.currentIdx, neighbourIdx])))\n",
      "                    idxCosts[neighbourIdx] = (1.0-l)*(1.0-individualImmediateRewards[0, neighbourIdx]) + l*(1.0-individualImmediateRewards[1, neighbourIdx])\n",
      "#                 idxRewards = immediateRewards + (precomputedSPLengths[neighbours[self.currentIdx, :], self.idxTaskToPerform]+1)*1.1 - (neighbourWeights+precomputedSPCosts[neighbours[self.currentIdx, :], self.idxTaskToPerform])\n",
      "                idxRewards = immediateRewards + np.exp(1/(neighbourWeights+precomputedSPCosts[neighbours[self.currentIdx, :], self.idxTaskToPerform]))\n",
      "                \n",
      "                idxCosts = neighbourWeights + precomputedSPCosts[neighbours[self.currentIdx, :], self.idxTaskToPerform]\n",
      "#                 print idxRewards\n",
      "#                 bestAIdx = np.argmin(idxCosts)\n",
      "                bestAIdx = np.argmax(idxRewards)\n",
      "                bestA = A[self.currentIdx, bestAIdx, :]\n",
      "            else :\n",
      "                bestProbs = np.ones(len(bestFramesPerTask[self.taskIdx]))\n",
      "                bestProbs[np.argwhere(bestFramesPerTask[self.taskIdx]==self.idxTaskToPerform)] = 0\n",
      "                bestProbs /= np.sum(bestProbs)\n",
      "                self.idxTaskToPerform = np.random.choice(bestFramesPerTask[self.taskIdx], p=bestProbs)\n",
      "#                 self.idxTaskToPerform = np.random.choice(self.bestFrames, p=self.bestProbs)\n",
      "                self.framesSoFar = []\n",
      "                print \"[goal idx reached] new goal idx is\", self.idxTaskToPerform\n",
      "        else :\n",
      "            print \"semantic label reward is less than 0.9 for\", self.currentIdx, semanticLabelsTask(labels[self.currentIdx, :], self.labelTaskToPerform),\n",
      "        \n",
      "#         newTaskState, newIdx = integrateTaskState(s, bestA, fs[neighbours[self.currentIdx, :], :, :], 1.0, neighbours[self.currentIdx, :], labels)\n",
      "        newTaskState, newIdx = integrateTaskState(ss[self.currentIdx], bestA, 1.0, neighbours[self.currentIdx, :], ss, fs)\n",
      "        \n",
      "            \n",
      "        if newIdx in self.framesSoFar :\n",
      "            self.loopDetected = True\n",
      "        self.framesSoFar.append(newIdx)\n",
      "        \n",
      "        isJump = self.currentIdx != newIdx-1\n",
      "        self.currentIdx = np.copy(newIdx)\n",
      "        self.renderedFrames.append(self.currentIdx)\n",
      "        \n",
      "        print self.currentIdx\n",
      "  \n",
      "        ## randomly p[ick a frame and pick shortest path to it\n",
      "#         while len(self.frameQueue) == 0 :\n",
      "#             randomChoice = random.choice(bestFramesPerTask[self.taskIdx])\n",
      "#             print \"going to\", randomChoice\n",
      "#             self.frameQueue = list(np.ndarray.flatten(getShortestPath(gr, self.currentIdx, randomChoice)[0][1:]))\n",
      "        \n",
      "#         isJump = self.currentIdx != self.frameQueue[0]-1\n",
      "#         self.currentIdx = self.frameQueue.pop(0)\n",
      "        \n",
      "#         self.currentIdx = totalFramesRenderedBefore[np.mod(self.frameRenderedBeforeIdx, len(totalFramesRenderedBefore))]\n",
      "#         isJump = self.currentIdx != totalFramesRenderedBefore[np.mod(self.frameRenderedBeforeIdx-1, len(totalFramesRenderedBefore))]\n",
      "#         self.frameRenderedBeforeIdx += 1\n",
      "        \n",
      "        ## HACK ##\n",
      "        im = np.ascontiguousarray(Image.open(frames[self.currentIdx+filterSize]))\n",
      "        qim = QtGui.QImage(im.data, im.shape[1], im.shape[0], im.strides[0], QtGui.QImage.Format_RGB888);\n",
      "        self.frameLabel.setPixmap(QtGui.QPixmap.fromImage(qim))\n",
      "        \n",
      "        infoText = \"Frame idx: \"+np.string_(self.currentIdx)+\"\\t\"+np.string_(labels[self.currentIdx, :])\n",
      "        if isJump :\n",
      "            self.infoLabel.setStyleSheet(self.labelJumpStyle)\n",
      "        else :\n",
      "            self.infoLabel.setStyleSheet(self.labelNoJumpStyle)\n",
      "        self.infoLabel.setText(infoText)\n",
      "#         print newIdx, newTaskState['taskParams']\n",
      "        \n",
      "    def createGUI(self) :\n",
      "        \n",
      "        ## WIDGETS ##\n",
      "        \n",
      "        self.frameLabel = ImageLabel(\"Frame\")\n",
      "        self.frameLabel.setSizePolicy(QtGui.QSizePolicy.MinimumExpanding, QtGui.QSizePolicy.MinimumExpanding)\n",
      "        self.frameLabel.setAlignment(QtCore.Qt.AlignCenter | QtCore.Qt.AlignHCenter)\n",
      "        \n",
      "        self.infoLabel = QtGui.QLabel(\"Info text\")\n",
      "        \n",
      "        self.labelComboBox = QtGui.QComboBox()\n",
      "        self.labelComboBox.addItem(\"Away\")\n",
      "        self.labelComboBox.addItem(\"Right\")\n",
      "        self.labelComboBox.addItem(\"Towards\")\n",
      "        self.labelComboBox.addItem(\"Left\")\n",
      "        \n",
      "        ## SIGNALS ##\n",
      "        \n",
      "        self.labelComboBox.currentIndexChanged[int].connect(self.changeTaskLabel)\n",
      "#         self.openSequenceButton.clicked.connect(self.openSequence)\n",
      "        \n",
      "#         self.tabWidget.currentChanged.connect(self.tabChanged)\n",
      "        \n",
      "        ## LAYOUTS ##\n",
      "        \n",
      "        mainLayout = QtGui.QVBoxLayout()\n",
      "        mainLayout.addWidget(self.frameLabel)\n",
      "        mainLayout.addWidget(self.infoLabel)\n",
      "        mainLayout.addWidget(self.labelComboBox)\n",
      "        self.setLayout(mainLayout)"
     ],
     "language": "python",
     "metadata": {},
     "outputs": [],
     "prompt_number": 45
    },
    {
     "cell_type": "code",
     "collapsed": false,
     "input": [
      "currentIdx = 537\n",
      "labelTaskToPerform = np.array([0, 0, 0, 1], dtype=float)\n",
      "idxTaskToPerform = 1228\n",
      "bestA, bestAIdx, immediateRewards, individualImmediateRewards = pi_l(ss[currentIdx], A[currentIdx, :, :], np.sum(np.repeat(labelTaskToPerform.reshape((1, len(labelTaskToPerform))), numStates, axis=0)*v, axis=-1), currentIdx, neighbours, (labelTaskToPerform, idxTaskToPerform), 1.0+t, l, p, (semanticLabelsTask, idxRangeTask), (1.0, 0.0), ss, fs)#, True)\n",
      "\n",
      "print l\n",
      "print immediateRewards\n",
      "print individualImmediateRewards\n",
      "print v[neighbours[currentIdx, :], 3]\n",
      "print neighbours[currentIdx, :]\n",
      "print bestAIdx, bestA"
     ],
     "language": "python",
     "metadata": {},
     "outputs": [
      {
       "output_type": "stream",
       "stream": "stdout",
       "text": [
        "0.2\n",
        "[ 0.80006478  0.45858778  0.43440473  0.42803388  0.42803292  0.42175807\n",
        "  0.42175782  0.42175558  0.41968441  0.41968809  0.41968794  0.41762178\n",
        "  0.41557052  0.41557004  0.41557996]\n",
        "[[  3.23917377e-04   3.03933701e-04   3.02050129e-04   3.02909067e-04\n",
        "    2.98104804e-04   3.11778075e-04   3.10494080e-04   2.99326805e-04\n",
        "    3.03442265e-04   3.21831390e-04   3.21115624e-04   2.99352420e-04\n",
        "    3.01492295e-04   2.99098113e-04   3.48709603e-04]\n",
        " [  1.00000000e+00   5.73158744e-01   5.42930404e-01   5.34966618e-01\n",
        "    5.34966618e-01   5.27119646e-01   5.27119646e-01   5.27119646e-01\n",
        "    5.24529650e-01   5.24529650e-01   5.24529650e-01   5.21952381e-01\n",
        "    5.19387775e-01   5.19387775e-01   5.19387775e-01]]\n",
        "[ 16.00127056  16.00127391  16.03411735  16.00127037  16.03412067\n",
        "  16.00281337  16.00280908  16.001185    16.00123421  16.00123938\n",
        "  16.00122214  16.0012752   16.03412371  16.00128286  16.0012239 ]\n",
        "[538 530 295 529 296 622 621 493 547 541 384 531 297 497 548]\n",
        "0 [ 0.51333988  0.03513822  0.04264044  0.04206877  0.0369327   0.03886804\n",
        "  0.03118452  0.03347126  0.03513822  0.03647143  0.0304741   0.03154907\n",
        "  0.02912413  0.03012795  0.03347126]\n"
       ]
      }
     ],
     "prompt_number": 91
    },
    {
     "cell_type": "code",
     "collapsed": false,
     "input": [
      "bob = 1126\n",
      "print distMat[901, 1126], np.max(distMat[901, :])\n",
      "print distanceMatrix[901, 1126], np.max(distanceMatrix[901, :])\n",
      "print neighbours[bob, :]\n",
      "print v[neighbours[bob, :], 2]"
     ],
     "language": "python",
     "metadata": {},
     "outputs": [
      {
       "output_type": "stream",
       "stream": "stdout",
       "text": [
        "7.52 8.72\n",
        "0.0 1.0\n",
        "[1127 1175 1174 1097 1215 1114 1204 1027 1026 1098 1191 1070 1203 1176 1246]\n",
        "[ 11.00148456  11.07999385  11.00121279  11.00114221  11.00117951\n",
        "  11.0666507   11.00119761  11.00113147  11.0011336   11.00115066\n",
        "  11.00103187  11.00115199  11.00118386  11.00120935  11.27501874]\n"
       ]
      }
     ],
     "prompt_number": 36
    },
    {
     "cell_type": "code",
     "collapsed": false,
     "input": [
      "window = Window()\n",
      "window.show()\n",
      "app.exec_()"
     ],
     "language": "python",
     "metadata": {},
     "outputs": [
      {
       "output_type": "stream",
       "stream": "stdout",
       "text": [
        "task set to 0 [  0   1   2   3   4   5  46  68  69  70  71  72  73  74  75  76  77  78\n",
        "  79  80  81  82  83  84  85  86  87  88  89  90  91  92  93  94  95  96\n",
        "  97  98  99 100 101 102 103 104 105 106 107 108 109 110 111 112 113 114\n",
        " 115 116 117 118 119 120 121 122 123 124 125 126 127 128 129 130 131 132\n",
        " 133 134 135 136 137 138 139 140 141 142 143 144 145 146 147 148 149 150\n",
        " 151 152 153 154 155 156 157 158 159 160 161 162 163 164 165 166 167 168\n",
        " 169 170 171 172 173 174 175 176 177 178 179 180 181 182 183 184 185 186\n",
        " 187 188 189 190 191 192 193 194 195 196 197 198 199 200 201 202 203 204\n",
        " 205 206 207 208 209 210 211 212 213 214 215 216 217 218 219 220 221 222\n",
        " 223 224 225 226 227 228 229 230 231 232 233 234 235 236 237 238 239 240\n",
        " 241 242 243 244 245 249 251 252 253 254 255 256 257 258 259 260 261 262\n",
        " 263 264 265 266 267 268 270]\n",
        "goal idx is 130\n",
        "115 [  9.94662971e-01   8.99457486e-07   5.33577002e-03   3.59633364e-07]\n",
        "116\n",
        "117"
       ]
      },
      {
       "output_type": "stream",
       "stream": "stdout",
       "text": [
        "\n",
        "118\n",
        "119"
       ]
      },
      {
       "output_type": "stream",
       "stream": "stdout",
       "text": [
        "\n",
        "120\n",
        "121"
       ]
      },
      {
       "output_type": "stream",
       "stream": "stdout",
       "text": [
        "\n",
        "122\n",
        "123"
       ]
      },
      {
       "output_type": "stream",
       "stream": "stdout",
       "text": [
        "\n",
        "124\n",
        "125"
       ]
      },
      {
       "output_type": "stream",
       "stream": "stdout",
       "text": [
        "\n",
        "126\n",
        "127"
       ]
      },
      {
       "output_type": "stream",
       "stream": "stdout",
       "text": [
        "\n",
        "128\n",
        "129"
       ]
      },
      {
       "output_type": "stream",
       "stream": "stdout",
       "text": [
        "\n",
        "130\n",
        "[goal idx reached] new goal idx is"
       ]
      },
      {
       "output_type": "stream",
       "stream": "stdout",
       "text": [
        " 270\n",
        "131\n",
        "132\n",
        "133"
       ]
      },
      {
       "output_type": "stream",
       "stream": "stdout",
       "text": [
        "\n",
        "134\n",
        "135"
       ]
      },
      {
       "output_type": "stream",
       "stream": "stdout",
       "text": [
        "\n",
        "136\n",
        "137"
       ]
      },
      {
       "output_type": "stream",
       "stream": "stdout",
       "text": [
        "\n",
        "138\n",
        "139"
       ]
      },
      {
       "output_type": "stream",
       "stream": "stdout",
       "text": [
        "\n",
        "140\n",
        "141"
       ]
      },
      {
       "output_type": "stream",
       "stream": "stdout",
       "text": [
        "\n",
        "142\n",
        "143"
       ]
      },
      {
       "output_type": "stream",
       "stream": "stdout",
       "text": [
        "\n",
        "144\n",
        "145"
       ]
      },
      {
       "output_type": "stream",
       "stream": "stdout",
       "text": [
        "\n",
        "146\n",
        "147"
       ]
      },
      {
       "output_type": "stream",
       "stream": "stdout",
       "text": [
        "\n",
        "148\n",
        "149"
       ]
      },
      {
       "output_type": "stream",
       "stream": "stdout",
       "text": [
        "\n",
        "150\n",
        "151"
       ]
      },
      {
       "output_type": "stream",
       "stream": "stdout",
       "text": [
        "\n",
        "152\n",
        "153"
       ]
      },
      {
       "output_type": "stream",
       "stream": "stdout",
       "text": [
        "\n",
        "154\n",
        "155"
       ]
      },
      {
       "output_type": "stream",
       "stream": "stdout",
       "text": [
        "\n",
        "156\n",
        "157"
       ]
      },
      {
       "output_type": "stream",
       "stream": "stdout",
       "text": [
        "\n",
        "158\n",
        "159"
       ]
      },
      {
       "output_type": "stream",
       "stream": "stdout",
       "text": [
        "\n",
        "160\n",
        "161"
       ]
      },
      {
       "output_type": "stream",
       "stream": "stdout",
       "text": [
        "\n",
        "162\n",
        "163"
       ]
      },
      {
       "output_type": "stream",
       "stream": "stdout",
       "text": [
        "\n",
        "164\n",
        "165"
       ]
      },
      {
       "output_type": "stream",
       "stream": "stdout",
       "text": [
        "\n",
        "166\n",
        "167"
       ]
      },
      {
       "output_type": "stream",
       "stream": "stdout",
       "text": [
        "\n",
        "168\n",
        "169"
       ]
      },
      {
       "output_type": "stream",
       "stream": "stdout",
       "text": [
        "\n",
        "170\n",
        "171"
       ]
      },
      {
       "output_type": "stream",
       "stream": "stdout",
       "text": [
        "\n",
        "172\n",
        "173"
       ]
      },
      {
       "output_type": "stream",
       "stream": "stdout",
       "text": [
        "\n",
        "174\n",
        "175"
       ]
      },
      {
       "output_type": "stream",
       "stream": "stdout",
       "text": [
        "\n",
        "176\n",
        "177"
       ]
      },
      {
       "output_type": "stream",
       "stream": "stdout",
       "text": [
        "\n",
        "178\n",
        "179"
       ]
      },
      {
       "output_type": "stream",
       "stream": "stdout",
       "text": [
        "\n",
        "180\n",
        "181"
       ]
      },
      {
       "output_type": "stream",
       "stream": "stdout",
       "text": [
        "\n",
        "182\n",
        "183"
       ]
      },
      {
       "output_type": "stream",
       "stream": "stdout",
       "text": [
        "\n",
        "184\n",
        "185"
       ]
      },
      {
       "output_type": "stream",
       "stream": "stdout",
       "text": [
        "\n",
        "186\n",
        "187"
       ]
      },
      {
       "output_type": "stream",
       "stream": "stdout",
       "text": [
        "\n",
        "188\n",
        "189"
       ]
      },
      {
       "output_type": "stream",
       "stream": "stdout",
       "text": [
        "\n",
        "190\n",
        "191"
       ]
      },
      {
       "output_type": "stream",
       "stream": "stdout",
       "text": [
        "\n",
        "192\n",
        "193"
       ]
      },
      {
       "output_type": "stream",
       "stream": "stdout",
       "text": [
        "\n",
        "194\n",
        "195"
       ]
      },
      {
       "output_type": "stream",
       "stream": "stdout",
       "text": [
        "\n",
        "196\n",
        "197"
       ]
      },
      {
       "output_type": "stream",
       "stream": "stdout",
       "text": [
        "\n",
        "198\n",
        "199"
       ]
      },
      {
       "output_type": "stream",
       "stream": "stdout",
       "text": [
        "\n",
        "200\n",
        "201"
       ]
      },
      {
       "output_type": "stream",
       "stream": "stdout",
       "text": [
        "\n",
        "202\n",
        "203"
       ]
      },
      {
       "output_type": "stream",
       "stream": "stdout",
       "text": [
        "\n",
        "204\n",
        "205"
       ]
      },
      {
       "output_type": "stream",
       "stream": "stdout",
       "text": [
        "\n",
        "206\n",
        "207"
       ]
      },
      {
       "output_type": "stream",
       "stream": "stdout",
       "text": [
        "\n",
        "208\n",
        "209"
       ]
      },
      {
       "output_type": "stream",
       "stream": "stdout",
       "text": [
        "\n",
        "210\n",
        "211"
       ]
      },
      {
       "output_type": "stream",
       "stream": "stdout",
       "text": [
        "\n",
        "212\n",
        "213"
       ]
      },
      {
       "output_type": "stream",
       "stream": "stdout",
       "text": [
        "\n",
        "214\n",
        "215"
       ]
      },
      {
       "output_type": "stream",
       "stream": "stdout",
       "text": [
        "\n",
        "216\n",
        "217"
       ]
      },
      {
       "output_type": "stream",
       "stream": "stdout",
       "text": [
        "\n",
        "218\n",
        "219"
       ]
      },
      {
       "output_type": "stream",
       "stream": "stdout",
       "text": [
        "\n",
        "220\n",
        "221"
       ]
      },
      {
       "output_type": "stream",
       "stream": "stdout",
       "text": [
        "\n",
        "222\n",
        "223"
       ]
      },
      {
       "output_type": "stream",
       "stream": "stdout",
       "text": [
        "\n",
        "224\n",
        "225"
       ]
      },
      {
       "output_type": "stream",
       "stream": "stdout",
       "text": [
        "\n",
        "226\n",
        "227"
       ]
      },
      {
       "output_type": "stream",
       "stream": "stdout",
       "text": [
        "\n",
        "4\n",
        "5"
       ]
      },
      {
       "output_type": "stream",
       "stream": "stdout",
       "text": [
        "\n",
        "6\n",
        "semantic label reward is less than 0.9 for"
       ]
      },
      {
       "output_type": "stream",
       "stream": "stdout",
       "text": [
        " 6 0.845314446926 180\n",
        "[loop detected] new goal idx is 100\n",
        "181\n",
        "182"
       ]
      },
      {
       "output_type": "stream",
       "stream": "stdout",
       "text": [
        "\n",
        "183\n",
        "184"
       ]
      },
      {
       "output_type": "stream",
       "stream": "stdout",
       "text": [
        "\n",
        "185\n",
        "186"
       ]
      },
      {
       "output_type": "stream",
       "stream": "stdout",
       "text": [
        "\n",
        "187\n",
        "188"
       ]
      },
      {
       "output_type": "stream",
       "stream": "stdout",
       "text": [
        "\n",
        "86\n",
        "87"
       ]
      },
      {
       "output_type": "stream",
       "stream": "stdout",
       "text": [
        "\n",
        "88\n",
        "89"
       ]
      },
      {
       "output_type": "stream",
       "stream": "stdout",
       "text": [
        "\n",
        "90\n",
        "91"
       ]
      },
      {
       "output_type": "stream",
       "stream": "stdout",
       "text": [
        "\n",
        "92\n",
        "93"
       ]
      },
      {
       "output_type": "stream",
       "stream": "stdout",
       "text": [
        "\n",
        "94\n",
        "95"
       ]
      },
      {
       "output_type": "stream",
       "stream": "stdout",
       "text": [
        "\n",
        "96\n",
        "97"
       ]
      },
      {
       "output_type": "stream",
       "stream": "stdout",
       "text": [
        "\n",
        "98\n",
        "99"
       ]
      },
      {
       "output_type": "stream",
       "stream": "stdout",
       "text": [
        "\n",
        "100\n",
        "[goal idx reached] new goal idx is"
       ]
      },
      {
       "output_type": "stream",
       "stream": "stdout",
       "text": [
        " 46\n",
        "101\n",
        "102\n",
        "103"
       ]
      },
      {
       "output_type": "stream",
       "stream": "stdout",
       "text": [
        "\n",
        "104\n",
        "105"
       ]
      },
      {
       "output_type": "stream",
       "stream": "stdout",
       "text": [
        "\n",
        "106\n",
        "107"
       ]
      },
      {
       "output_type": "stream",
       "stream": "stdout",
       "text": [
        "\n",
        "108\n",
        "109"
       ]
      },
      {
       "output_type": "stream",
       "stream": "stdout",
       "text": [
        "\n",
        "110\n",
        "111"
       ]
      },
      {
       "output_type": "stream",
       "stream": "stdout",
       "text": [
        "\n",
        "112\n",
        "113"
       ]
      },
      {
       "output_type": "stream",
       "stream": "stdout",
       "text": [
        "\n",
        "114\n",
        "115"
       ]
      },
      {
       "output_type": "stream",
       "stream": "stdout",
       "text": [
        "\n",
        "116\n",
        "117"
       ]
      },
      {
       "output_type": "stream",
       "stream": "stdout",
       "text": [
        "\n",
        "118\n",
        "119"
       ]
      },
      {
       "output_type": "stream",
       "stream": "stdout",
       "text": [
        "\n",
        "120\n",
        "121"
       ]
      },
      {
       "output_type": "stream",
       "stream": "stdout",
       "text": [
        "\n",
        "122\n",
        "123"
       ]
      },
      {
       "output_type": "stream",
       "stream": "stdout",
       "text": [
        "\n",
        "124\n",
        "125"
       ]
      },
      {
       "output_type": "stream",
       "stream": "stdout",
       "text": [
        "\n",
        "126\n",
        "127"
       ]
      },
      {
       "output_type": "stream",
       "stream": "stdout",
       "text": [
        "\n",
        "128\n",
        "129"
       ]
      },
      {
       "output_type": "stream",
       "stream": "stdout",
       "text": [
        "\n",
        "130\n",
        "131"
       ]
      },
      {
       "output_type": "stream",
       "stream": "stdout",
       "text": [
        "\n",
        "132\n",
        "133"
       ]
      },
      {
       "output_type": "stream",
       "stream": "stdout",
       "text": [
        "\n",
        "134\n",
        "135\n",
        "136"
       ]
      },
      {
       "output_type": "stream",
       "stream": "stdout",
       "text": [
        "\n",
        "137\n",
        "138"
       ]
      },
      {
       "output_type": "stream",
       "stream": "stdout",
       "text": [
        "\n",
        "139\n",
        "140"
       ]
      },
      {
       "output_type": "stream",
       "stream": "stdout",
       "text": [
        "\n",
        "141\n",
        "142"
       ]
      },
      {
       "output_type": "stream",
       "stream": "stdout",
       "text": [
        "\n",
        "143\n",
        "144"
       ]
      },
      {
       "output_type": "stream",
       "stream": "stdout",
       "text": [
        "\n",
        "145\n",
        "146"
       ]
      },
      {
       "output_type": "stream",
       "stream": "stdout",
       "text": [
        "\n",
        "147\n",
        "148"
       ]
      },
      {
       "output_type": "stream",
       "stream": "stdout",
       "text": [
        "\n",
        "149\n",
        "150"
       ]
      },
      {
       "output_type": "stream",
       "stream": "stdout",
       "text": [
        "\n",
        "151\n",
        "152"
       ]
      },
      {
       "output_type": "stream",
       "stream": "stdout",
       "text": [
        "\n",
        "153\n",
        "154"
       ]
      },
      {
       "output_type": "stream",
       "stream": "stdout",
       "text": [
        "\n",
        "155\n",
        "156"
       ]
      },
      {
       "output_type": "stream",
       "stream": "stdout",
       "text": [
        "\n",
        "157\n",
        "158"
       ]
      },
      {
       "output_type": "stream",
       "stream": "stdout",
       "text": [
        "\n",
        "159\n",
        "160"
       ]
      },
      {
       "output_type": "stream",
       "stream": "stdout",
       "text": [
        "\n",
        "161\n",
        "162"
       ]
      },
      {
       "output_type": "stream",
       "stream": "stdout",
       "text": [
        "\n",
        "163\n",
        "164"
       ]
      },
      {
       "output_type": "stream",
       "stream": "stdout",
       "text": [
        "\n",
        "165\n",
        "166"
       ]
      },
      {
       "output_type": "stream",
       "stream": "stdout",
       "text": [
        "\n",
        "167\n",
        "168"
       ]
      },
      {
       "output_type": "stream",
       "stream": "stdout",
       "text": [
        "\n",
        "169\n",
        "170"
       ]
      },
      {
       "output_type": "stream",
       "stream": "stdout",
       "text": [
        "\n",
        "171\n",
        "172"
       ]
      },
      {
       "output_type": "stream",
       "stream": "stdout",
       "text": [
        "\n",
        "173\n",
        "174"
       ]
      },
      {
       "output_type": "stream",
       "stream": "stdout",
       "text": [
        "\n",
        "175\n",
        "176"
       ]
      },
      {
       "output_type": "stream",
       "stream": "stdout",
       "text": [
        "\n",
        "177\n",
        "178"
       ]
      },
      {
       "output_type": "stream",
       "stream": "stdout",
       "text": [
        "\n",
        "179\n",
        "180"
       ]
      },
      {
       "output_type": "stream",
       "stream": "stdout",
       "text": [
        "\n",
        "181\n",
        "182"
       ]
      },
      {
       "output_type": "stream",
       "stream": "stdout",
       "text": [
        "\n",
        "183\n",
        "184"
       ]
      },
      {
       "output_type": "stream",
       "stream": "stdout",
       "text": [
        "\n",
        "185\n",
        "186"
       ]
      },
      {
       "output_type": "stream",
       "stream": "stdout",
       "text": [
        "\n",
        "187\n",
        "188"
       ]
      },
      {
       "output_type": "stream",
       "stream": "stdout",
       "text": [
        "\n",
        "189\n",
        "190"
       ]
      },
      {
       "output_type": "stream",
       "stream": "stdout",
       "text": [
        "\n",
        "191\n",
        "192"
       ]
      },
      {
       "output_type": "stream",
       "stream": "stdout",
       "text": [
        "\n",
        "193\n",
        "194"
       ]
      },
      {
       "output_type": "stream",
       "stream": "stdout",
       "text": [
        "\n",
        "195\n",
        "196"
       ]
      },
      {
       "output_type": "stream",
       "stream": "stdout",
       "text": [
        "\n",
        "197\n",
        "198"
       ]
      },
      {
       "output_type": "stream",
       "stream": "stdout",
       "text": [
        "\n",
        "199\n",
        "200"
       ]
      },
      {
       "output_type": "stream",
       "stream": "stdout",
       "text": [
        "\n",
        "201\n",
        "202"
       ]
      },
      {
       "output_type": "stream",
       "stream": "stdout",
       "text": [
        "\n",
        "203\n",
        "204"
       ]
      },
      {
       "output_type": "stream",
       "stream": "stdout",
       "text": [
        "\n",
        "205\n",
        "206"
       ]
      },
      {
       "output_type": "stream",
       "stream": "stdout",
       "text": [
        "\n",
        "207\n",
        "208"
       ]
      },
      {
       "output_type": "stream",
       "stream": "stdout",
       "text": [
        "\n",
        "209\n",
        "210"
       ]
      },
      {
       "output_type": "stream",
       "stream": "stdout",
       "text": [
        "\n",
        "211\n",
        "212"
       ]
      },
      {
       "output_type": "stream",
       "stream": "stdout",
       "text": [
        "\n",
        "213\n",
        "214"
       ]
      },
      {
       "output_type": "stream",
       "stream": "stdout",
       "text": [
        "\n",
        "215\n",
        "216"
       ]
      },
      {
       "output_type": "stream",
       "stream": "stdout",
       "text": [
        "\n",
        "217\n",
        "218"
       ]
      },
      {
       "output_type": "stream",
       "stream": "stdout",
       "text": [
        "\n",
        "219\n",
        "220"
       ]
      },
      {
       "output_type": "stream",
       "stream": "stdout",
       "text": [
        "\n",
        "221\n",
        "222"
       ]
      },
      {
       "output_type": "stream",
       "stream": "stdout",
       "text": [
        "\n",
        "223\n",
        "224"
       ]
      },
      {
       "output_type": "stream",
       "stream": "stdout",
       "text": [
        "\n",
        "225\n",
        "226"
       ]
      },
      {
       "output_type": "stream",
       "stream": "stdout",
       "text": [
        "\n",
        "227\n",
        "228"
       ]
      },
      {
       "output_type": "stream",
       "stream": "stdout",
       "text": [
        "\n",
        "229\n",
        "230"
       ]
      },
      {
       "output_type": "stream",
       "stream": "stdout",
       "text": [
        "\n",
        "231\n",
        "232"
       ]
      },
      {
       "output_type": "stream",
       "stream": "stdout",
       "text": [
        "\n",
        "233\n",
        "234"
       ]
      },
      {
       "output_type": "stream",
       "stream": "stdout",
       "text": [
        "\n",
        "235\n",
        "236"
       ]
      },
      {
       "output_type": "stream",
       "stream": "stdout",
       "text": [
        "\n",
        "237"
       ]
      },
      {
       "output_type": "stream",
       "stream": "stdout",
       "text": [
        "\n",
        "238\n",
        "239"
       ]
      },
      {
       "output_type": "stream",
       "stream": "stdout",
       "text": [
        "\n",
        "240\n",
        "241"
       ]
      },
      {
       "output_type": "stream",
       "stream": "stdout",
       "text": [
        "\n",
        "242\n",
        "243"
       ]
      },
      {
       "output_type": "stream",
       "stream": "stdout",
       "text": [
        "\n",
        "244\n",
        "245"
       ]
      },
      {
       "output_type": "stream",
       "stream": "stdout",
       "text": [
        "\n",
        "246\n",
        "semantic label reward is less than 0.9 for"
       ]
      },
      {
       "output_type": "stream",
       "stream": "stdout",
       "text": [
        " 246 0.892329510576 182\n",
        "[loop detected] new goal idx is 155\n",
        "183\n",
        "184"
       ]
      },
      {
       "output_type": "stream",
       "stream": "stdout",
       "text": [
        "\n",
        "185\n",
        "186"
       ]
      },
      {
       "output_type": "stream",
       "stream": "stdout",
       "text": [
        "\n",
        "187\n",
        "188"
       ]
      },
      {
       "output_type": "stream",
       "stream": "stdout",
       "text": [
        "\n",
        "189\n",
        "190"
       ]
      },
      {
       "output_type": "stream",
       "stream": "stdout",
       "text": [
        "\n",
        "191\n",
        "192"
       ]
      },
      {
       "output_type": "stream",
       "stream": "stdout",
       "text": [
        "\n",
        "193\n",
        "194"
       ]
      },
      {
       "output_type": "stream",
       "stream": "stdout",
       "text": [
        "\n",
        "195\n",
        "155"
       ]
      },
      {
       "output_type": "stream",
       "stream": "stdout",
       "text": [
        "\n",
        "[goal idx reached] new goal idx is 270\n",
        "156\n",
        "157"
       ]
      },
      {
       "output_type": "stream",
       "stream": "stdout",
       "text": [
        "\n",
        "158\n",
        "159"
       ]
      },
      {
       "output_type": "stream",
       "stream": "stdout",
       "text": [
        "\n",
        "160\n",
        "161"
       ]
      },
      {
       "output_type": "stream",
       "stream": "stdout",
       "text": [
        "\n",
        "162\n",
        "163"
       ]
      },
      {
       "output_type": "stream",
       "stream": "stdout",
       "text": [
        "\n",
        "164\n",
        "165"
       ]
      },
      {
       "output_type": "stream",
       "stream": "stdout",
       "text": [
        "\n",
        "166\n",
        "167"
       ]
      },
      {
       "output_type": "stream",
       "stream": "stdout",
       "text": [
        "\n",
        "168\n",
        "169"
       ]
      },
      {
       "output_type": "stream",
       "stream": "stdout",
       "text": [
        "\n",
        "170\n",
        "171"
       ]
      },
      {
       "output_type": "stream",
       "stream": "stdout",
       "text": [
        "\n",
        "172\n",
        "173"
       ]
      },
      {
       "output_type": "stream",
       "stream": "stdout",
       "text": [
        "\n",
        "174\n",
        "175"
       ]
      },
      {
       "output_type": "stream",
       "stream": "stdout",
       "text": [
        "\n",
        "176\n",
        "177"
       ]
      },
      {
       "output_type": "stream",
       "stream": "stdout",
       "text": [
        "\n",
        "178\n",
        "179"
       ]
      },
      {
       "output_type": "stream",
       "stream": "stdout",
       "text": [
        "\n",
        "180\n",
        "181"
       ]
      },
      {
       "output_type": "stream",
       "stream": "stdout",
       "text": [
        "\n",
        "182\n",
        "183"
       ]
      },
      {
       "output_type": "stream",
       "stream": "stdout",
       "text": [
        "\n",
        "184\n",
        "185"
       ]
      },
      {
       "output_type": "stream",
       "stream": "stdout",
       "text": [
        "\n",
        "186\n",
        "187"
       ]
      },
      {
       "output_type": "stream",
       "stream": "stdout",
       "text": [
        "\n",
        "188\n",
        "189"
       ]
      },
      {
       "output_type": "stream",
       "stream": "stdout",
       "text": [
        "\n",
        "190"
       ]
      },
      {
       "output_type": "stream",
       "stream": "stdout",
       "text": [
        "\n",
        "191\n",
        "192\n",
        "193"
       ]
      },
      {
       "output_type": "stream",
       "stream": "stdout",
       "text": [
        "\n",
        "194\n",
        "195"
       ]
      },
      {
       "output_type": "stream",
       "stream": "stdout",
       "text": [
        "\n",
        "196\n",
        "197"
       ]
      },
      {
       "output_type": "stream",
       "stream": "stdout",
       "text": [
        "\n",
        "198\n",
        "199"
       ]
      },
      {
       "output_type": "stream",
       "stream": "stdout",
       "text": [
        "\n",
        "200\n",
        "201"
       ]
      },
      {
       "output_type": "stream",
       "stream": "stdout",
       "text": [
        "\n",
        "202\n",
        "203"
       ]
      },
      {
       "output_type": "stream",
       "stream": "stdout",
       "text": [
        "\n",
        "204\n",
        "205"
       ]
      },
      {
       "output_type": "stream",
       "stream": "stdout",
       "text": [
        "\n",
        "206\n",
        "207"
       ]
      },
      {
       "output_type": "stream",
       "stream": "stdout",
       "text": [
        "\n",
        "208\n",
        "209"
       ]
      },
      {
       "output_type": "stream",
       "stream": "stdout",
       "text": [
        "\n",
        "210\n",
        "211"
       ]
      },
      {
       "output_type": "stream",
       "stream": "stdout",
       "text": [
        "\n",
        "212\n",
        "213"
       ]
      },
      {
       "output_type": "stream",
       "stream": "stdout",
       "text": [
        "\n",
        "214\n",
        "215"
       ]
      },
      {
       "output_type": "stream",
       "stream": "stdout",
       "text": [
        "\n",
        "216\n",
        "217"
       ]
      },
      {
       "output_type": "stream",
       "stream": "stdout",
       "text": [
        "\n",
        "218\n",
        "219"
       ]
      },
      {
       "output_type": "stream",
       "stream": "stdout",
       "text": [
        "\n",
        "220\n",
        "221"
       ]
      },
      {
       "output_type": "stream",
       "stream": "stdout",
       "text": [
        "\n",
        "222\n",
        "223"
       ]
      },
      {
       "output_type": "stream",
       "stream": "stdout",
       "text": [
        "\n",
        "224\n",
        "225"
       ]
      },
      {
       "output_type": "stream",
       "stream": "stdout",
       "text": [
        "\n",
        "226\n",
        "227"
       ]
      },
      {
       "output_type": "stream",
       "stream": "stdout",
       "text": [
        "\n",
        "4\n",
        "5"
       ]
      },
      {
       "output_type": "stream",
       "stream": "stdout",
       "text": [
        "\n",
        "6\n",
        "semantic label reward is less than 0.9 for"
       ]
      },
      {
       "output_type": "stream",
       "stream": "stdout",
       "text": [
        " 6 0.845314446926 180\n",
        "[loop detected] new goal idx is 46\n",
        "181\n",
        "182"
       ]
      },
      {
       "output_type": "stream",
       "stream": "stdout",
       "text": [
        "\n",
        "183\n",
        "184"
       ]
      },
      {
       "output_type": "stream",
       "stream": "stdout",
       "text": [
        "\n",
        "185\n",
        "186"
       ]
      },
      {
       "output_type": "stream",
       "stream": "stdout",
       "text": [
        "\n",
        "187\n",
        "188"
       ]
      },
      {
       "output_type": "stream",
       "stream": "stdout",
       "text": [
        "\n",
        "189\n",
        "190"
       ]
      },
      {
       "output_type": "stream",
       "stream": "stdout",
       "text": [
        "\n",
        "191\n",
        "192"
       ]
      },
      {
       "output_type": "stream",
       "stream": "stdout",
       "text": [
        "\n",
        "193\n",
        "194"
       ]
      },
      {
       "output_type": "stream",
       "stream": "stdout",
       "text": [
        "\n",
        "195\n",
        "196"
       ]
      },
      {
       "output_type": "stream",
       "stream": "stdout",
       "text": [
        "\n",
        "197\n",
        "198"
       ]
      },
      {
       "output_type": "stream",
       "stream": "stdout",
       "text": [
        "\n",
        "199\n",
        "200"
       ]
      },
      {
       "output_type": "stream",
       "stream": "stdout",
       "text": [
        "\n",
        "201\n",
        "202"
       ]
      },
      {
       "output_type": "stream",
       "stream": "stdout",
       "text": [
        "\n",
        "203\n",
        "204"
       ]
      },
      {
       "output_type": "stream",
       "stream": "stdout",
       "text": [
        "\n",
        "205\n",
        "206"
       ]
      },
      {
       "output_type": "stream",
       "stream": "stdout",
       "text": [
        "\n",
        "207\n",
        "208"
       ]
      },
      {
       "output_type": "stream",
       "stream": "stdout",
       "text": [
        "\n",
        "209\n",
        "210"
       ]
      },
      {
       "output_type": "stream",
       "stream": "stdout",
       "text": [
        "\n",
        "211\n",
        "212"
       ]
      },
      {
       "output_type": "stream",
       "stream": "stdout",
       "text": [
        "\n",
        "213\n",
        "214"
       ]
      },
      {
       "output_type": "stream",
       "stream": "stdout",
       "text": [
        "\n",
        "215\n",
        "216"
       ]
      },
      {
       "output_type": "stream",
       "stream": "stdout",
       "text": [
        "\n",
        "217\n",
        "218"
       ]
      },
      {
       "output_type": "stream",
       "stream": "stdout",
       "text": [
        "\n",
        "219\n",
        "220"
       ]
      },
      {
       "output_type": "stream",
       "stream": "stdout",
       "text": [
        "\n",
        "221\n",
        "222"
       ]
      },
      {
       "output_type": "stream",
       "stream": "stdout",
       "text": [
        "\n",
        "223\n",
        "224"
       ]
      },
      {
       "output_type": "stream",
       "stream": "stdout",
       "text": [
        "\n",
        "225\n",
        "226"
       ]
      },
      {
       "output_type": "stream",
       "stream": "stdout",
       "text": [
        "\n",
        "227\n",
        "228"
       ]
      },
      {
       "output_type": "stream",
       "stream": "stdout",
       "text": [
        "\n",
        "229\n",
        "230"
       ]
      },
      {
       "output_type": "stream",
       "stream": "stdout",
       "text": [
        "\n",
        "231\n",
        "232"
       ]
      },
      {
       "output_type": "stream",
       "stream": "stdout",
       "text": [
        "\n",
        "233\n",
        "234"
       ]
      },
      {
       "output_type": "stream",
       "stream": "stdout",
       "text": [
        "\n",
        "235\n",
        "236"
       ]
      },
      {
       "output_type": "stream",
       "stream": "stdout",
       "text": [
        "\n",
        "237\n",
        "238"
       ]
      },
      {
       "output_type": "stream",
       "stream": "stdout",
       "text": [
        "\n",
        "239\n",
        "240"
       ]
      },
      {
       "output_type": "stream",
       "stream": "stdout",
       "text": [
        "\n",
        "241\n",
        "242"
       ]
      },
      {
       "output_type": "stream",
       "stream": "stdout",
       "text": [
        "\n",
        "243\n",
        "244"
       ]
      },
      {
       "output_type": "stream",
       "stream": "stdout",
       "text": [
        "\n",
        "245\n",
        "246"
       ]
      },
      {
       "output_type": "stream",
       "stream": "stdout",
       "text": [
        "\n",
        "semantic label reward is less than 0.9 for 246 0.892329510576 182\n",
        "[loop detected] new goal idx is"
       ]
      },
      {
       "output_type": "stream",
       "stream": "stdout",
       "text": [
        " 210\n",
        "183\n",
        "184\n",
        "185"
       ]
      },
      {
       "output_type": "stream",
       "stream": "stdout",
       "text": [
        "\n",
        "186\n",
        "changed task to"
       ]
      },
      {
       "output_type": "stream",
       "stream": "stdout",
       "text": [
        " 1 [ 13  14  15  16  17  18  19  20  21  22  23  24  25  26  27  28  29  30\n",
        "  31  32  33  34  35  36 275 276 277 278 279 280 281 282 283 284 285 286\n",
        " 287 288 289 290 291 292 293 294 295 296 297 298 299 300 301 302 303 304\n",
        " 305 306 307 308 309 310 311 312 313 314 315 316 317 318 319 320 321 322\n",
        " 323 329 330 331 332 333 334 335 336 337 338 339 340 341 342 343 344 345\n",
        " 346 347 348 349 350 351 352 353 354 355 356 357 358 359 360 361 362 363\n",
        " 364 365 366 367 368 369 370 371 372 373 374 375 376 377 378 379 380 381\n",
        " 382 383 384 385 386 387 388 389 390 391 392 393 394 395 396 397 398 399\n",
        " 400 401 402 403 404 405 406 407 408 409 410 411 412 413 414 415 416 417\n",
        " 418 419 420 421 422 423 424 425 426 427 428 429 430 431 432 433 434 435\n",
        " 436 437 438 439 440 441 442 443 444 445 446 447 448 449 450 451 452 453\n",
        " 454 455 456 457 458 459 460 461 462 463 464 465 466 467 468 469 470 471\n",
        " 472 473 474 475 476 477 478 479 480 481 482 483 484 485 486 487 488 489\n",
        " 490 491 492 493 494 495 496 497 498 499 500 501 502 503 504 505 506 507\n",
        " 508 509 510 511 512 513 514 515 516 517 518 519 520 521 522 523 524 525\n",
        " 526 527 528 529 530 531 532 533 534 535 536 537 538 539 540 541 542 543\n",
        " 544 545 546 547 548 549 550 551 552 553 554 555 556 557 558 559 560 561\n",
        " 562 563 564 565 566 567 568 569 570 571 572 573 574 575 576 577 578 579\n",
        " 580 581 582 583 584 585 586 587 588 589 590 591 592 593 594 595 596 597\n",
        " 598 599 600 601 602 603 604 605 606 607 608 609 610 611 612 613 614 615\n",
        " 616 617 618 619 620 621 622 623 624 625 626 627 628 629 630 631 632 633\n",
        " 634 635 636 637 638 639 640 641 642 643 644 645 646 647 648 649 650 651\n",
        " 652 653 654 655 656 657 658 659 660 661 662 663 664 665 666 667 668 669\n",
        " 670 671 672 673 674 675 676 677 678 679 680 681 682 683 684 685 686 687\n",
        " 688 689 690 691 692 693 694 695 696 697 698 699 700 701 702 703 704 705\n",
        " 706 707 708 709 710 711 712 713 714 715 716 717 718 719 720 721 722 723\n",
        " 724 725 726 727 731 732 733 734 735 736 737 738 739 740 741 742 743 744\n",
        " 745 746 747 748 749 750 751 752 753 754 773 774 775 776 808 809 810 811\n",
        " 812 813 814 815]\n",
        "new goal idx is 725\n",
        "semantic label reward is less than 0.9 for 186 2.68814676807e-06 185\n",
        "[loop detected] new goal idx is 24\n",
        "184\n",
        "semantic label reward is less than 0.9 for"
       ]
      },
      {
       "output_type": "stream",
       "stream": "stdout",
       "text": [
        " 184 1.32879200646e-05 239\n",
        "semantic label reward is less than 0.9 for 239 2.5767982591e-05 247\n",
        "semantic label reward is less than 0.9 for"
       ]
      },
      {
       "output_type": "stream",
       "stream": "stdout",
       "text": [
        " 247 0.000112351544705 9\n",
        "semantic label reward is less than 0.9 for 9 0.0295395839468 11\n",
        "semantic label reward is less than 0.9 for"
       ]
      },
      {
       "output_type": "stream",
       "stream": "stdout",
       "text": [
        " 11 0.525618981843 12\n",
        "semantic label reward is less than 0.9 for 12 0.81241477271 13\n",
        "14"
       ]
      },
      {
       "output_type": "stream",
       "stream": "stdout",
       "text": [
        "\n",
        "15\n",
        "16"
       ]
      },
      {
       "output_type": "stream",
       "stream": "stdout",
       "text": [
        "\n",
        "17\n",
        "18"
       ]
      },
      {
       "output_type": "stream",
       "stream": "stdout",
       "text": [
        "\n",
        "19\n",
        "20"
       ]
      },
      {
       "output_type": "stream",
       "stream": "stdout",
       "text": [
        "\n",
        "21\n",
        "22"
       ]
      },
      {
       "output_type": "stream",
       "stream": "stdout",
       "text": [
        "\n",
        "23\n",
        "24"
       ]
      },
      {
       "output_type": "stream",
       "stream": "stdout",
       "text": [
        "\n",
        "[goal idx reached] new goal idx is 287\n",
        "25\n",
        "26"
       ]
      },
      {
       "output_type": "stream",
       "stream": "stdout",
       "text": [
        "\n",
        "27\n",
        "28"
       ]
      },
      {
       "output_type": "stream",
       "stream": "stdout",
       "text": [
        "\n",
        "29\n",
        "30"
       ]
      },
      {
       "output_type": "stream",
       "stream": "stdout",
       "text": [
        "\n",
        "31\n",
        "32"
       ]
      },
      {
       "output_type": "stream",
       "stream": "stdout",
       "text": [
        "\n",
        "33\n",
        "34"
       ]
      },
      {
       "output_type": "stream",
       "stream": "stdout",
       "text": [
        "\n",
        "35\n",
        "36"
       ]
      },
      {
       "output_type": "stream",
       "stream": "stdout",
       "text": [
        "\n",
        "37\n",
        "semantic label reward is less than 0.9 for"
       ]
      },
      {
       "output_type": "stream",
       "stream": "stdout",
       "text": [
        " 37 0.872194299665 300\n",
        "301\n",
        "302"
       ]
      },
      {
       "output_type": "stream",
       "stream": "stdout",
       "text": [
        "\n",
        "303\n",
        "304"
       ]
      },
      {
       "output_type": "stream",
       "stream": "stdout",
       "text": [
        "\n",
        "305\n",
        "306"
       ]
      },
      {
       "output_type": "stream",
       "stream": "stdout",
       "text": [
        "\n",
        "307\n",
        "308"
       ]
      },
      {
       "output_type": "stream",
       "stream": "stdout",
       "text": [
        "\n",
        "309\n",
        "310"
       ]
      },
      {
       "output_type": "stream",
       "stream": "stdout",
       "text": [
        "\n",
        "311\n",
        "312"
       ]
      },
      {
       "output_type": "stream",
       "stream": "stdout",
       "text": [
        "\n",
        "287\n",
        "[goal idx reached] new goal idx is"
       ]
      },
      {
       "output_type": "stream",
       "stream": "stdout",
       "text": [
        " 485\n",
        "288\n",
        "289\n",
        "290"
       ]
      },
      {
       "output_type": "stream",
       "stream": "stdout",
       "text": [
        "\n",
        "291\n",
        "292"
       ]
      },
      {
       "output_type": "stream",
       "stream": "stdout",
       "text": [
        "\n",
        "293\n",
        "384"
       ]
      },
      {
       "output_type": "stream",
       "stream": "stdout",
       "text": [
        "\n",
        "385\n",
        "386"
       ]
      },
      {
       "output_type": "stream",
       "stream": "stdout",
       "text": [
        "\n",
        "387\n",
        "388"
       ]
      },
      {
       "output_type": "stream",
       "stream": "stdout",
       "text": [
        "\n",
        "465\n",
        "485"
       ]
      },
      {
       "output_type": "stream",
       "stream": "stdout",
       "text": [
        "\n",
        "[goal idx reached] new goal idx is 287\n",
        "486\n",
        "487"
       ]
      },
      {
       "output_type": "stream",
       "stream": "stdout",
       "text": [
        "\n",
        "488\n",
        "523"
       ]
      },
      {
       "output_type": "stream",
       "stream": "stdout",
       "text": [
        "\n",
        "287\n",
        "[goal idx reached] new goal idx is"
       ]
      },
      {
       "output_type": "stream",
       "stream": "stdout",
       "text": [
        " 815\n",
        "288\n",
        "289\n",
        "290"
       ]
      },
      {
       "output_type": "stream",
       "stream": "stdout",
       "text": [
        "\n",
        "291\n",
        "292"
       ]
      },
      {
       "output_type": "stream",
       "stream": "stdout",
       "text": [
        "\n",
        "293\n",
        "294"
       ]
      },
      {
       "output_type": "stream",
       "stream": "stdout",
       "text": [
        "\n",
        "295\n",
        "296"
       ]
      },
      {
       "output_type": "stream",
       "stream": "stdout",
       "text": [
        "\n",
        "297\n",
        "298"
       ]
      },
      {
       "output_type": "stream",
       "stream": "stdout",
       "text": [
        "\n",
        "299\n",
        "300"
       ]
      },
      {
       "output_type": "stream",
       "stream": "stdout",
       "text": [
        "\n",
        "301\n",
        "302"
       ]
      },
      {
       "output_type": "stream",
       "stream": "stdout",
       "text": [
        "\n",
        "303\n",
        "304"
       ]
      },
      {
       "output_type": "stream",
       "stream": "stdout",
       "text": [
        "\n",
        "305\n",
        "306"
       ]
      },
      {
       "output_type": "stream",
       "stream": "stdout",
       "text": [
        "\n",
        "307\n",
        "308"
       ]
      },
      {
       "output_type": "stream",
       "stream": "stdout",
       "text": [
        "\n",
        "309\n",
        "310"
       ]
      },
      {
       "output_type": "stream",
       "stream": "stdout",
       "text": [
        "\n",
        "311\n",
        "312"
       ]
      },
      {
       "output_type": "stream",
       "stream": "stdout",
       "text": [
        "\n",
        "313\n",
        "314"
       ]
      },
      {
       "output_type": "stream",
       "stream": "stdout",
       "text": [
        "\n",
        "315\n",
        "316"
       ]
      },
      {
       "output_type": "stream",
       "stream": "stdout",
       "text": [
        "\n",
        "317\n",
        "318"
       ]
      },
      {
       "output_type": "stream",
       "stream": "stdout",
       "text": [
        "\n",
        "319\n",
        "320"
       ]
      },
      {
       "output_type": "stream",
       "stream": "stdout",
       "text": [
        "\n",
        "321\n",
        "322"
       ]
      },
      {
       "output_type": "stream",
       "stream": "stdout",
       "text": [
        "\n",
        "323\n",
        "changed task to"
       ]
      },
      {
       "output_type": "stream",
       "stream": "stdout",
       "text": [
        " 3 [ 894  934  935  936  937  938  939  940  941  942  943  944  945  946  947\n",
        "  948  949  950  951  952  953  954  955  956  957  958  959  960  961  962\n",
        "  963  964  965  966  967  968  969  970  971  972  973  974  975  976  977\n",
        "  978  979  980  981  982  983  984  985  986  987  988  989  990  991  992\n",
        "  993  994  995  996  997  998  999 1000 1001 1002 1003 1004 1005 1006 1007\n",
        " 1008 1009 1010 1011 1012 1013 1014 1015 1016 1017 1018 1019 1020 1021 1022\n",
        " 1023 1024 1025 1026 1027 1028 1029 1030 1031 1032 1033 1034 1035 1036 1037\n",
        " 1038 1039 1040 1041 1042 1043 1044 1045 1046 1047 1048 1049 1050 1051 1052\n",
        " 1053 1054 1055 1056 1057 1058 1059 1060 1061 1062 1063 1064 1065 1066 1067\n",
        " 1068 1069 1070 1071 1072 1073 1074 1075 1076 1077 1078 1079 1080 1081 1082\n",
        " 1083 1084 1085 1086 1087 1088 1089 1090 1091 1092 1093 1094 1095 1096 1097\n",
        " 1098 1099 1100 1101 1102 1103 1104 1105 1106 1107 1108 1109 1110 1111 1112\n",
        " 1113 1114 1115 1116 1117 1118 1119 1120 1121 1122 1123 1124 1125 1126 1127\n",
        " 1128 1129 1130 1131 1132 1133 1134 1135 1136 1137 1138 1139 1140 1141 1142\n",
        " 1143 1144 1145 1146 1147 1148 1149 1150 1151 1152 1153 1154 1155 1156 1157\n",
        " 1158 1159 1160 1161 1162 1163 1164 1165 1166 1167 1168 1169 1170 1171 1172\n",
        " 1173 1174 1175 1176 1177 1178 1179 1180 1181 1182 1183 1184 1185 1186 1187\n",
        " 1188 1189 1190 1191 1192 1193 1194 1195 1196 1197 1198 1199 1200 1201 1202\n",
        " 1203 1204 1205 1206 1207 1208 1209 1210 1211 1212 1213 1214 1215 1216 1217\n",
        " 1218 1219 1220 1221 1222 1223 1224 1225 1226 1227 1228 1229 1230 1231 1232\n",
        " 1233 1234 1235 1236 1237 1238 1239 1240 1241 1242 1243 1244 1245 1246 1247\n",
        " 1248 1249 1250 1251 1252 1253 1254 1255 1256 1257 1258 1259 1260 1261 1262\n",
        " 1263 1264 1265 1266 1267 1268 1269 1270]\n",
        "new goal idx is 1187\n",
        "semantic label reward is less than 0.9 for 323 7.28219484714e-09 60\n",
        "semantic label reward is less than 0.9 for 60 1.33327184626e-07 63\n",
        "semantic label reward is less than 0.9 for"
       ]
      },
      {
       "output_type": "stream",
       "stream": "stdout",
       "text": [
        " 63 1.90139950784e-07 65\n",
        "semantic label reward is less than 0.9 for 65 2.25394279352e-07 904\n",
        "semantic label reward is less than 0.9 for"
       ]
      },
      {
       "output_type": "stream",
       "stream": "stdout",
       "text": [
        " 904 3.39071704825e-07 905\n",
        "semantic label reward is less than 0.9 for 905 0.0 894\n",
        "1120\n",
        "1121"
       ]
      },
      {
       "output_type": "stream",
       "stream": "stdout",
       "text": [
        "\n",
        "1122\n",
        "1184"
       ]
      },
      {
       "output_type": "stream",
       "stream": "stdout",
       "text": [
        "\n",
        "1185\n",
        "1186"
       ]
      },
      {
       "output_type": "stream",
       "stream": "stdout",
       "text": [
        "\n",
        "1187\n",
        "[goal idx reached] new goal idx is"
       ]
      },
      {
       "output_type": "stream",
       "stream": "stdout",
       "text": [
        " 1134\n",
        "1188\n",
        "1189\n",
        "1190"
       ]
      },
      {
       "output_type": "stream",
       "stream": "stdout",
       "text": [
        "\n",
        "1191\n",
        "1192"
       ]
      },
      {
       "output_type": "stream",
       "stream": "stdout",
       "text": [
        "\n",
        "1193\n",
        "1194"
       ]
      },
      {
       "output_type": "stream",
       "stream": "stdout",
       "text": [
        "\n",
        "1195\n",
        "1196"
       ]
      },
      {
       "output_type": "stream",
       "stream": "stdout",
       "text": [
        "\n",
        "1197\n",
        "1198"
       ]
      },
      {
       "output_type": "stream",
       "stream": "stdout",
       "text": [
        "\n",
        "1199\n",
        "1200"
       ]
      },
      {
       "output_type": "stream",
       "stream": "stdout",
       "text": [
        "\n",
        "1201\n",
        "1202"
       ]
      },
      {
       "output_type": "stream",
       "stream": "stdout",
       "text": [
        "\n",
        "1203\n",
        "1204"
       ]
      },
      {
       "output_type": "stream",
       "stream": "stdout",
       "text": [
        "\n",
        "1205\n",
        "1206"
       ]
      },
      {
       "output_type": "stream",
       "stream": "stdout",
       "text": [
        "\n",
        "1207\n",
        "1208"
       ]
      },
      {
       "output_type": "stream",
       "stream": "stdout",
       "text": [
        "\n",
        "1209\n",
        "1210"
       ]
      },
      {
       "output_type": "stream",
       "stream": "stdout",
       "text": [
        "\n",
        "1122\n",
        "1123"
       ]
      },
      {
       "output_type": "stream",
       "stream": "stdout",
       "text": [
        "\n",
        "1124\n",
        "1125"
       ]
      },
      {
       "output_type": "stream",
       "stream": "stdout",
       "text": [
        "\n",
        "1126\n",
        "1127"
       ]
      },
      {
       "output_type": "stream",
       "stream": "stdout",
       "text": [
        "\n",
        "1128\n",
        "1129"
       ]
      },
      {
       "output_type": "stream",
       "stream": "stdout",
       "text": [
        "\n",
        "1130\n",
        "1131"
       ]
      },
      {
       "output_type": "stream",
       "stream": "stdout",
       "text": [
        "\n",
        "1132\n",
        "1133"
       ]
      },
      {
       "output_type": "stream",
       "stream": "stdout",
       "text": [
        "\n",
        "1134\n",
        "[goal idx reached] new goal idx is"
       ]
      },
      {
       "output_type": "stream",
       "stream": "stdout",
       "text": [
        " 1067\n",
        "1135\n",
        "1136\n",
        "1137"
       ]
      },
      {
       "output_type": "stream",
       "stream": "stdout",
       "text": [
        "\n",
        "1138\n",
        "changed task to"
       ]
      },
      {
       "output_type": "stream",
       "stream": "stdout",
       "text": [
        " 2 [ 63  64 758 759 760 761 762 763 764 765 766 767 772 781 782 783 784 785\n",
        " 786 787 788 789 790 791 792 793 794 795 796 797 798 799 800 801 802 807\n",
        " 819 820 821 822 823 824 825 826 827 828 829 830 831 832 833 834 835 836\n",
        " 837 838 839 840 841 842 843 844 845 846 847 848 849 850 851 852 853 854\n",
        " 855 856 857 858 859 860 861 862 863 864 865 866 867 868 869 871 872 877\n",
        " 878 879 880 881 882 883 884 885 886 887 888 889 890 891 898 899 900 901\n",
        " 902 903 904 905 906 907 909 910 911 912 913 914 915 916 917 918 926 927\n",
        " 928 929 930 931 933]\n",
        "new goal idx is 836\n",
        "semantic label reward is less than 0.9 for 1138 2.8140993602e-07 1139\n",
        "semantic label reward is less than 0.9 for"
       ]
      },
      {
       "output_type": "stream",
       "stream": "stdout",
       "text": [
        " 1139 2.83725788197e-07 1114\n",
        "semantic label reward is less than 0.9 for 1114 2.81056608209e-07 1247\n",
        "semantic label reward is less than 0.9 for"
       ]
      },
      {
       "output_type": "stream",
       "stream": "stdout",
       "text": [
        " 1247 2.86967169805e-07 1248\n",
        "semantic label reward is less than 0.9 for 1248 2.84061172806e-07 1249\n",
        "semantic label reward is less than 0.9 for"
       ]
      },
      {
       "output_type": "stream",
       "stream": "stdout",
       "text": [
        " 1249 2.8244309358e-07 1250\n",
        "semantic label reward is less than 0.9 for 1250 2.86830334706e-07 1251\n",
        "semantic label reward is less than 0.9 for"
       ]
      },
      {
       "output_type": "stream",
       "stream": "stdout",
       "text": [
        " 1251 2.93219074354e-07 1253\n",
        "semantic label reward is less than 0.9 for 1253 0.0 1255\n",
        "semantic label reward is less than 0.9 for"
       ]
      },
      {
       "output_type": "stream",
       "stream": "stdout",
       "text": [
        " 1255 4.95963918157e-07 1257\n",
        "semantic label reward is less than 0.9 for 1257 1.00639235256e-06 1259\n",
        "semantic label reward is less than 0.9 for"
       ]
      },
      {
       "output_type": "stream",
       "stream": "stdout",
       "text": [
        " 1259 1.06202664796e-06 1261\n",
        "semantic label reward is less than 0.9 for 1261 1.77085326891e-06 935\n",
        "semantic label reward is less than 0.9 for"
       ]
      },
      {
       "output_type": "stream",
       "stream": "stdout",
       "text": [
        " 935 0.0170256857489 933\n",
        "932\n",
        "semantic label reward is less than 0.9 for"
       ]
      },
      {
       "output_type": "stream",
       "stream": "stdout",
       "text": [
        " 932 0.673354373037 933\n",
        "[loop detected] new goal idx is 931\n",
        "894\n",
        "semantic label reward is less than 0.9 for"
       ]
      },
      {
       "output_type": "stream",
       "stream": "stdout",
       "text": [
        " 894 0.0806132701838 907\n",
        "908\n",
        "semantic label reward is less than 0.9 for"
       ]
      },
      {
       "output_type": "stream",
       "stream": "stdout",
       "text": [
        " 908 0.888514918017 909\n",
        "910\n",
        "911"
       ]
      },
      {
       "output_type": "stream",
       "stream": "stdout",
       "text": [
        "\n",
        "912\n",
        "913"
       ]
      },
      {
       "output_type": "stream",
       "stream": "stdout",
       "text": [
        "\n",
        "914\n",
        "915"
       ]
      },
      {
       "output_type": "stream",
       "stream": "stdout",
       "text": [
        "\n",
        "916\n",
        "917"
       ]
      },
      {
       "output_type": "stream",
       "stream": "stdout",
       "text": [
        "\n",
        "918\n",
        "919"
       ]
      },
      {
       "output_type": "stream",
       "stream": "stdout",
       "text": [
        "\n",
        "semantic label reward is less than 0.9 for 919 0.848433709356 915\n",
        "[loop detected] new goal idx is"
       ]
      },
      {
       "output_type": "stream",
       "stream": "stdout",
       "text": [
        " 64\n",
        "867\n",
        "868\n",
        "869"
       ]
      },
      {
       "output_type": "stream",
       "stream": "stdout",
       "text": [
        "\n",
        "870\n",
        "semantic label reward is less than 0.9 for"
       ]
      },
      {
       "output_type": "stream",
       "stream": "stdout",
       "text": [
        " 870 0.877381356325 871\n",
        "872\n",
        "910"
       ]
      },
      {
       "output_type": "stream",
       "stream": "stdout",
       "text": [
        "\n",
        "911\n",
        "912"
       ]
      },
      {
       "output_type": "stream",
       "stream": "stdout",
       "text": [
        "\n",
        "913\n",
        "914"
       ]
      },
      {
       "output_type": "stream",
       "stream": "stdout",
       "text": [
        "\n",
        "915\n",
        "916"
       ]
      },
      {
       "output_type": "stream",
       "stream": "stdout",
       "text": [
        "\n",
        "917\n",
        "918"
       ]
      },
      {
       "output_type": "stream",
       "stream": "stdout",
       "text": [
        "\n",
        "919\n",
        "semantic label reward is less than 0.9 for"
       ]
      },
      {
       "output_type": "stream",
       "stream": "stdout",
       "text": [
        " 919 0.848433709356 915\n",
        "[loop detected] new goal idx is 900\n",
        "867\n",
        "868"
       ]
      },
      {
       "output_type": "stream",
       "stream": "stdout",
       "text": [
        "\n",
        "869\n",
        "870"
       ]
      },
      {
       "output_type": "stream",
       "stream": "stdout",
       "text": [
        "\n",
        "semantic label reward is less than 0.9 for 870 0.877381356325 871\n",
        "872"
       ]
      },
      {
       "output_type": "stream",
       "stream": "stdout",
       "text": [
        "\n",
        "873\n",
        "semantic label reward is less than 0.9 for"
       ]
      },
      {
       "output_type": "stream",
       "stream": "stdout",
       "text": [
        " 873 0.314792087269 876\n",
        "semantic label reward is less than 0.9 for 876 0.764563608731 877\n",
        "900"
       ]
      },
      {
       "output_type": "stream",
       "stream": "stdout",
       "text": [
        "\n",
        "[goal idx reached] new goal idx is 834\n",
        "830\n",
        "831"
       ]
      },
      {
       "output_type": "stream",
       "stream": "stdout",
       "text": [
        "\n",
        "832\n",
        "833"
       ]
      },
      {
       "output_type": "stream",
       "stream": "stdout",
       "text": [
        "\n",
        "834\n",
        "[goal idx reached] new goal idx is"
       ]
      },
      {
       "output_type": "stream",
       "stream": "stdout",
       "text": [
        " 931\n",
        "835\n",
        "836\n",
        "837"
       ]
      },
      {
       "output_type": "stream",
       "stream": "stdout",
       "text": [
        "\n",
        "838\n",
        "839"
       ]
      },
      {
       "output_type": "stream",
       "stream": "stdout",
       "text": [
        "\n",
        "840\n",
        "841"
       ]
      },
      {
       "output_type": "stream",
       "stream": "stdout",
       "text": [
        "\n",
        "changed task to 1 [ 13  14  15  16  17  18  19  20  21  22  23  24  25  26  27  28  29  30\n",
        "  31  32  33  34  35  36 275 276 277 278 279 280 281 282 283 284 285 286\n",
        " 287 288 289 290 291 292 293 294 295 296 297 298 299 300 301 302 303 304\n",
        " 305 306 307 308 309 310 311 312 313 314 315 316 317 318 319 320 321 322\n",
        " 323 329 330 331 332 333 334 335 336 337 338 339 340 341 342 343 344 345\n",
        " 346 347 348 349 350 351 352 353 354 355 356 357 358 359 360 361 362 363\n",
        " 364 365 366 367 368 369 370 371 372 373 374 375 376 377 378 379 380 381\n",
        " 382 383 384 385 386 387 388 389 390 391 392 393 394 395 396 397 398 399\n",
        " 400 401 402 403 404 405 406 407 408 409 410 411 412 413 414 415 416 417\n",
        " 418 419 420 421 422 423 424 425 426 427 428 429 430 431 432 433 434 435\n",
        " 436 437 438 439 440 441 442 443 444 445 446 447 448 449 450 451 452 453\n",
        " 454 455 456 457 458 459 460 461 462 463 464 465 466 467 468 469 470 471\n",
        " 472 473 474 475 476 477 478 479 480 481 482 483 484 485 486 487 488 489\n",
        " 490 491 492 493 494 495 496 497 498 499 500 501 502 503 504 505 506 507\n",
        " 508 509 510 511 512 513 514 515 516 517 518 519 520 521 522 523 524 525\n",
        " 526 527 528 529 530 531 532 533 534 535 536 537 538 539 540 541 542 543\n",
        " 544 545 546 547 548 549 550 551 552 553 554 555 556 557 558 559 560 561\n",
        " 562 563 564 565 566 567 568 569 570 571 572 573 574 575 576 577 578 579\n",
        " 580 581 582 583 584 585 586 587 588 589 590 591 592 593 594 595 596 597\n",
        " 598 599 600 601 602 603 604 605 606 607 608 609 610 611 612 613 614 615\n",
        " 616 617 618 619 620 621 622 623 624 625 626 627 628 629 630 631 632 633\n",
        " 634 635 636 637 638 639 640 641 642 643 644 645 646 647 648 649 650 651\n",
        " 652 653 654 655 656 657 658 659 660 661 662 663 664 665 666 667 668 669\n",
        " 670 671 672 673 674 675 676 677 678 679 680 681 682 683 684 685 686 687\n",
        " 688 689 690 691 692 693 694 695 696 697 698 699 700 701 702 703 704 705\n",
        " 706 707 708 709 710 711 712 713 714 715 716 717 718 719 720 721 722 723\n",
        " 724 725 726 727 731 732 733 734 735 736 737 738 739 740 741 742 743 744\n",
        " 745 746 747 748 749 750 751 752 753 754 773 774 775 776 808 809 810 811\n",
        " 812 813 814 815]\n",
        "new goal idx is 470\n",
        "semantic label reward is less than 0.9 for 841 2.81492948422e-05 847\n",
        "semantic label reward is less than 0.9 for"
       ]
      },
      {
       "output_type": "stream",
       "stream": "stdout",
       "text": [
        " 847 0.000382457624366 801\n",
        "semantic label reward is less than 0.9 for 801 0.00902923415503 804\n",
        "semantic label reward is less than 0.9 for"
       ]
      },
      {
       "output_type": "stream",
       "stream": "stdout",
       "text": [
        " 804 0.535128503724 554\n",
        "561\n",
        "562\n",
        "563"
       ]
      },
      {
       "output_type": "stream",
       "stream": "stdout",
       "text": [
        "\n",
        "564\n",
        "467"
       ]
      },
      {
       "output_type": "stream",
       "stream": "stdout",
       "text": [
        "\n",
        "468\n",
        "469"
       ]
      },
      {
       "output_type": "stream",
       "stream": "stdout",
       "text": [
        "\n",
        "470\n",
        "[goal idx reached] new goal idx is"
       ]
      },
      {
       "output_type": "stream",
       "stream": "stdout",
       "text": [
        " 485\n",
        "471\n",
        "472\n",
        "473"
       ]
      },
      {
       "output_type": "stream",
       "stream": "stdout",
       "text": [
        "\n",
        "474\n",
        "475"
       ]
      },
      {
       "output_type": "stream",
       "stream": "stdout",
       "text": [
        "\n",
        "476\n",
        "477"
       ]
      },
      {
       "output_type": "stream",
       "stream": "stdout",
       "text": [
        "\n",
        "478\n",
        "479"
       ]
      },
      {
       "output_type": "stream",
       "stream": "stdout",
       "text": [
        "\n",
        "480\n",
        "481"
       ]
      },
      {
       "output_type": "stream",
       "stream": "stdout",
       "text": [
        "\n",
        "482\n",
        "483"
       ]
      },
      {
       "output_type": "stream",
       "stream": "stdout",
       "text": [
        "\n",
        "484\n",
        "485"
       ]
      },
      {
       "output_type": "stream",
       "stream": "stdout",
       "text": [
        "\n",
        "[goal idx reached] new goal idx is 815\n",
        "486\n",
        "487"
       ]
      },
      {
       "output_type": "stream",
       "stream": "stdout",
       "text": [
        "\n",
        "488\n",
        "489"
       ]
      },
      {
       "output_type": "stream",
       "stream": "stdout",
       "text": [
        "\n",
        "490\n",
        "491"
       ]
      },
      {
       "output_type": "stream",
       "stream": "stdout",
       "text": [
        "\n",
        "492\n",
        "493"
       ]
      },
      {
       "output_type": "stream",
       "stream": "stdout",
       "text": [
        "\n",
        "494\n",
        "495"
       ]
      },
      {
       "output_type": "stream",
       "stream": "stdout",
       "text": [
        "\n",
        "496\n",
        "497"
       ]
      },
      {
       "output_type": "stream",
       "stream": "stdout",
       "text": [
        "\n",
        "498\n",
        "499"
       ]
      },
      {
       "output_type": "stream",
       "stream": "stdout",
       "text": [
        "\n",
        "500\n",
        "501"
       ]
      },
      {
       "output_type": "stream",
       "stream": "stdout",
       "text": [
        "\n",
        "502\n",
        "503"
       ]
      },
      {
       "output_type": "stream",
       "stream": "stdout",
       "text": [
        "\n",
        "504\n",
        "505"
       ]
      },
      {
       "output_type": "stream",
       "stream": "stdout",
       "text": [
        "\n",
        "506\n",
        "507"
       ]
      },
      {
       "output_type": "stream",
       "stream": "stdout",
       "text": [
        "\n",
        "508\n",
        "509"
       ]
      },
      {
       "output_type": "stream",
       "stream": "stdout",
       "text": [
        "\n",
        "510\n",
        "511"
       ]
      },
      {
       "output_type": "stream",
       "stream": "stdout",
       "text": [
        "\n",
        "512\n",
        "513"
       ]
      },
      {
       "output_type": "stream",
       "stream": "stdout",
       "text": [
        "\n",
        "514\n",
        "515"
       ]
      },
      {
       "output_type": "stream",
       "stream": "stdout",
       "text": [
        "\n",
        "516\n",
        "517"
       ]
      },
      {
       "output_type": "stream",
       "stream": "stdout",
       "text": [
        "\n",
        "518\n",
        "519"
       ]
      },
      {
       "output_type": "stream",
       "stream": "stdout",
       "text": [
        "\n",
        "520\n",
        "521"
       ]
      },
      {
       "output_type": "stream",
       "stream": "stdout",
       "text": [
        "\n",
        "522\n",
        "523"
       ]
      },
      {
       "output_type": "stream",
       "stream": "stdout",
       "text": [
        "\n",
        "changed task to 3 [ 894  934  935  936  937  938  939  940  941  942  943  944  945  946  947\n",
        "  948  949  950  951  952  953  954  955  956  957  958  959  960  961  962\n",
        "  963  964  965  966  967  968  969  970  971  972  973  974  975  976  977\n",
        "  978  979  980  981  982  983  984  985  986  987  988  989  990  991  992\n",
        "  993  994  995  996  997  998  999 1000 1001 1002 1003 1004 1005 1006 1007\n",
        " 1008 1009 1010 1011 1012 1013 1014 1015 1016 1017 1018 1019 1020 1021 1022\n",
        " 1023 1024 1025 1026 1027 1028 1029 1030 1031 1032 1033 1034 1035 1036 1037\n",
        " 1038 1039 1040 1041 1042 1043 1044 1045 1046 1047 1048 1049 1050 1051 1052\n",
        " 1053 1054 1055 1056 1057 1058 1059 1060 1061 1062 1063 1064 1065 1066 1067\n",
        " 1068 1069 1070 1071 1072 1073 1074 1075 1076 1077 1078 1079 1080 1081 1082\n",
        " 1083 1084 1085 1086 1087 1088 1089 1090 1091 1092 1093 1094 1095 1096 1097\n",
        " 1098 1099 1100 1101 1102 1103 1104 1105 1106 1107 1108 1109 1110 1111 1112\n",
        " 1113 1114 1115 1116 1117 1118 1119 1120 1121 1122 1123 1124 1125 1126 1127\n",
        " 1128 1129 1130 1131 1132 1133 1134 1135 1136 1137 1138 1139 1140 1141 1142\n",
        " 1143 1144 1145 1146 1147 1148 1149 1150 1151 1152 1153 1154 1155 1156 1157\n",
        " 1158 1159 1160 1161 1162 1163 1164 1165 1166 1167 1168 1169 1170 1171 1172\n",
        " 1173 1174 1175 1176 1177 1178 1179 1180 1181 1182 1183 1184 1185 1186 1187\n",
        " 1188 1189 1190 1191 1192 1193 1194 1195 1196 1197 1198 1199 1200 1201 1202\n",
        " 1203 1204 1205 1206 1207 1208 1209 1210 1211 1212 1213 1214 1215 1216 1217\n",
        " 1218 1219 1220 1221 1222 1223 1224 1225 1226 1227 1228 1229 1230 1231 1232\n",
        " 1233 1234 1235 1236 1237 1238 1239 1240 1241 1242 1243 1244 1245 1246 1247\n",
        " 1248 1249 1250 1251 1252 1253 1254 1255 1256 1257 1258 1259 1260 1261 1262\n",
        " 1263 1264 1265 1266 1267 1268 1269 1270]\n",
        "new goal idx is 1265\n",
        "semantic label reward is less than 0.9 for"
       ]
      },
      {
       "output_type": "stream",
       "stream": "stdout",
       "text": [
        " 523 1.3933298959e-13 526\n",
        "semantic label reward is less than 0.9 for 526 1.43329792479e-13 294\n",
        "semantic label reward is less than 0.9 for"
       ]
      },
      {
       "output_type": "stream",
       "stream": "stdout",
       "text": [
        " 294 1.42663658664e-13 296\n",
        "semantic label reward is less than 0.9 for 296 1.49769086022e-13 298\n",
        "semantic label reward is less than 0.9 for"
       ]
      },
      {
       "output_type": "stream",
       "stream": "stdout",
       "text": [
        " 298 4.44311254455e-13 300\n",
        "semantic label reward is less than 0.9 for 300 3.58594265393e-11 323\n",
        "semantic label reward is less than 0.9 for"
       ]
      },
      {
       "output_type": "stream",
       "stream": "stdout",
       "text": [
        " 323 7.28219484714e-09 60\n",
        "semantic label reward is less than 0.9 for 60 1.33327184626e-07 63\n",
        "semantic label reward is less than 0.9 for"
       ]
      },
      {
       "output_type": "stream",
       "stream": "stdout",
       "text": [
        " 63 1.90139950784e-07 65\n",
        "semantic label reward is less than 0.9 for 65 2.25394279352e-07 904\n",
        "semantic label reward is less than 0.9 for"
       ]
      },
      {
       "output_type": "stream",
       "stream": "stdout",
       "text": [
        " 904 3.39071704825e-07 905\n",
        "semantic label reward is less than 0.9 for 905 0.0 894\n",
        "895"
       ]
      },
      {
       "output_type": "stream",
       "stream": "stdout",
       "text": [
        "\n",
        "semantic label reward is less than 0.9 for 895 0.819908541794 969\n",
        "970"
       ]
      },
      {
       "output_type": "stream",
       "stream": "stdout",
       "text": [
        "\n",
        "971\n",
        "972"
       ]
      },
      {
       "output_type": "stream",
       "stream": "stdout",
       "text": [
        "\n",
        "950\n",
        "1265"
       ]
      },
      {
       "output_type": "stream",
       "stream": "stdout",
       "text": [
        "\n",
        "[goal idx reached] new goal idx is 1000\n",
        "1266\n",
        "1267"
       ]
      },
      {
       "output_type": "stream",
       "stream": "stdout",
       "text": [
        "\n",
        "1268\n",
        "1015"
       ]
      },
      {
       "output_type": "stream",
       "stream": "stdout",
       "text": [
        "\n",
        "1000\n",
        "[goal idx reached] new goal idx is"
       ]
      },
      {
       "output_type": "stream",
       "stream": "stdout",
       "text": [
        " 894\n",
        "1001\n",
        "1002\n",
        "1003"
       ]
      },
      {
       "output_type": "stream",
       "stream": "stdout",
       "text": [
        "\n",
        "1004\n",
        "1005"
       ]
      },
      {
       "output_type": "stream",
       "stream": "stdout",
       "text": [
        "\n",
        "1006\n",
        "1007"
       ]
      },
      {
       "output_type": "stream",
       "stream": "stdout",
       "text": [
        "\n",
        "1008\n",
        "1009"
       ]
      },
      {
       "output_type": "stream",
       "stream": "stdout",
       "text": [
        "\n",
        "1010\n",
        "1011"
       ]
      },
      {
       "output_type": "stream",
       "stream": "stdout",
       "text": [
        "\n",
        "1012"
       ]
      },
      {
       "output_type": "stream",
       "stream": "stdout",
       "text": [
        "\n",
        "1013\n",
        "1014"
       ]
      },
      {
       "output_type": "stream",
       "stream": "stdout",
       "text": [
        "\n",
        "1015\n",
        "1016"
       ]
      },
      {
       "output_type": "stream",
       "stream": "stdout",
       "text": [
        "\n",
        "1017\n",
        "1018"
       ]
      },
      {
       "output_type": "stream",
       "stream": "stdout",
       "text": [
        "\n",
        "1019\n",
        "1020"
       ]
      },
      {
       "output_type": "stream",
       "stream": "stdout",
       "text": [
        "\n",
        "1021\n",
        "1022"
       ]
      },
      {
       "output_type": "stream",
       "stream": "stdout",
       "text": [
        "\n",
        "1023\n",
        "1024"
       ]
      },
      {
       "output_type": "stream",
       "stream": "stdout",
       "text": [
        "\n",
        "1025\n",
        "1026"
       ]
      },
      {
       "output_type": "stream",
       "stream": "stdout",
       "text": [
        "\n",
        "1027\n",
        "1028"
       ]
      },
      {
       "output_type": "stream",
       "stream": "stdout",
       "text": [
        "\n",
        "1029\n",
        "1030"
       ]
      },
      {
       "output_type": "stream",
       "stream": "stdout",
       "text": [
        "\n",
        "1031\n",
        "1032"
       ]
      },
      {
       "output_type": "stream",
       "stream": "stdout",
       "text": [
        "\n",
        "1033\n",
        "1034"
       ]
      },
      {
       "output_type": "stream",
       "stream": "stdout",
       "text": [
        "\n",
        "1035\n",
        "1036"
       ]
      },
      {
       "output_type": "stream",
       "stream": "stdout",
       "text": [
        "\n",
        "1037\n",
        "1038"
       ]
      },
      {
       "output_type": "stream",
       "stream": "stdout",
       "text": [
        "\n",
        "1039\n",
        "1040"
       ]
      },
      {
       "output_type": "stream",
       "stream": "stdout",
       "text": [
        "\n",
        "1041\n",
        "1042"
       ]
      },
      {
       "output_type": "stream",
       "stream": "stdout",
       "text": [
        "\n",
        "changed task to 1 [ 13  14  15  16  17  18  19  20  21  22  23  24  25  26  27  28  29  30\n",
        "  31  32  33  34  35  36 275 276 277 278 279 280 281 282 283 284 285 286\n",
        " 287 288 289 290 291 292 293 294 295 296 297 298 299 300 301 302 303 304\n",
        " 305 306 307 308 309 310 311 312 313 314 315 316 317 318 319 320 321 322\n",
        " 323 329 330 331 332 333 334 335 336 337 338 339 340 341 342 343 344 345\n",
        " 346 347 348 349 350 351 352 353 354 355 356 357 358 359 360 361 362 363\n",
        " 364 365 366 367 368 369 370 371 372 373 374 375 376 377 378 379 380 381\n",
        " 382 383 384 385 386 387 388 389 390 391 392 393 394 395 396 397 398 399\n",
        " 400 401 402 403 404 405 406 407 408 409 410 411 412 413 414 415 416 417\n",
        " 418 419 420 421 422 423 424 425 426 427 428 429 430 431 432 433 434 435\n",
        " 436 437 438 439 440 441 442 443 444 445 446 447 448 449 450 451 452 453\n",
        " 454 455 456 457 458 459 460 461 462 463 464 465 466 467 468 469 470 471\n",
        " 472 473 474 475 476 477 478 479 480 481 482 483 484 485 486 487 488 489\n",
        " 490 491 492 493 494 495 496 497 498 499 500 501 502 503 504 505 506 507\n",
        " 508 509 510 511 512 513 514 515 516 517 518 519 520 521 522 523 524 525\n",
        " 526 527 528 529 530 531 532 533 534 535 536 537 538 539 540 541 542 543\n",
        " 544 545 546 547 548 549 550 551 552 553 554 555 556 557 558 559 560 561\n",
        " 562 563 564 565 566 567 568 569 570 571 572 573 574 575 576 577 578 579\n",
        " 580 581 582 583 584 585 586 587 588 589 590 591 592 593 594 595 596 597\n",
        " 598 599 600 601 602 603 604 605 606 607 608 609 610 611 612 613 614 615\n",
        " 616 617 618 619 620 621 622 623 624 625 626 627 628 629 630 631 632 633\n",
        " 634 635 636 637 638 639 640 641 642 643 644 645 646 647 648 649 650 651\n",
        " 652 653 654 655 656 657 658 659 660 661 662 663 664 665 666 667 668 669\n",
        " 670 671 672 673 674 675 676 677 678 679 680 681 682 683 684 685 686 687\n",
        " 688 689 690 691 692 693 694 695 696 697 698 699 700 701 702 703 704 705\n",
        " 706 707 708 709 710 711 712 713 714 715 716 717 718 719 720 721 722 723\n",
        " 724 725 726 727 731 732 733 734 735 736 737 738 739 740 741 742 743 744\n",
        " 745 746 747 748 749 750 751 752 753 754 773 774 775 776 808 809 810 811\n",
        " 812 813 814 815]\n",
        "new goal idx is 706\n",
        "semantic label reward is less than 0.9 for 1042 2.28705943073e-14 1043\n",
        "semantic label reward is less than 0.9 for"
       ]
      },
      {
       "output_type": "stream",
       "stream": "stdout",
       "text": [
        " 1043 2.27595720048e-14 1044\n",
        "semantic label reward is less than 0.9 for"
       ]
      },
      {
       "output_type": "stream",
       "stream": "stdout",
       "text": [
        " 1044 2.30926389122e-14 1045\n",
        "semantic label reward is less than 0.9 for 1045 0.0 1046\n",
        "semantic label reward is less than 0.9 for"
       ]
      },
      {
       "output_type": "stream",
       "stream": "stdout",
       "text": [
        " 1046 2.26485497024e-14 1047\n",
        "semantic label reward is less than 0.9 for 1047 2.17603712827e-14 1048\n",
        "semantic label reward is less than 0.9 for 1048 0.0 "
       ]
      },
      {
       "output_type": "stream",
       "stream": "stdout",
       "text": [
        "1049\n",
        "semantic label reward is less than 0.9 for 1049 0.0 1050\n",
        "semantic label reward is less than 0.9 for"
       ]
      },
      {
       "output_type": "stream",
       "stream": "stdout",
       "text": [
        " 1050 2.0872192863e-14 1051\n",
        "semantic label reward is less than 0.9 for 1051 2.0872192863e-14 1052\n",
        "semantic label reward is less than 0.9 for"
       ]
      },
      {
       "output_type": "stream",
       "stream": "stdout",
       "text": [
        " 1052 2.04281036531e-14 1053\n",
        "semantic label reward is less than 0.9 for 1053 2.0872192863e-14 1054\n",
        "semantic label reward is less than 0.9 for"
       ]
      },
      {
       "output_type": "stream",
       "stream": "stdout",
       "text": [
        " 1054 2.05391259556e-14 1055\n",
        "semantic label reward is less than 0.9 for 1055 2.10942374679e-14 1056\n",
        "semantic label reward is less than 0.9 for"
       ]
      },
      {
       "output_type": "stream",
       "stream": "stdout",
       "text": [
        " 1056 2.12052597703e-14 1057\n",
        "semantic label reward is less than 0.9 for 1057 2.14273043753e-14 1058\n",
        "semantic label reward is less than 0.9 for"
       ]
      },
      {
       "output_type": "stream",
       "stream": "stdout",
       "text": [
        " 1058 2.13162820728e-14 1059\n",
        "semantic label reward is less than 0.9 for 1059 2.17603712827e-14 1060\n",
        "semantic label reward is less than 0.9 for"
       ]
      },
      {
       "output_type": "stream",
       "stream": "stdout",
       "text": [
        " 1060 2.0872192863e-14 1061\n",
        "semantic label reward is less than 0.9 for 1061 2.16493489802e-14 1062\n",
        "semantic label reward is less than 0.9 for"
       ]
      },
      {
       "output_type": "stream",
       "stream": "stdout",
       "text": [
        " 1062 2.10942374679e-14 1063\n",
        "semantic label reward is less than 0.9 for 1063 2.0872192863e-14 1064\n",
        "semantic label reward is less than 0.9 for"
       ]
      },
      {
       "output_type": "stream",
       "stream": "stdout",
       "text": [
        " 1064 2.19824158876e-14 1065\n",
        "semantic label reward is less than 0.9 for 1065 2.19824158876e-14 1066\n",
        "semantic label reward is less than 0.9 for"
       ]
      },
      {
       "output_type": "stream",
       "stream": "stdout",
       "text": [
        " 1066 2.15383266777e-14 1067\n",
        "semantic label reward is less than 0.9 for 1067 2.0872192863e-14 1068\n",
        "semantic label reward is less than 0.9 for"
       ]
      },
      {
       "output_type": "stream",
       "stream": "stdout",
       "text": [
        " 1068 2.209343819e-14 1069\n",
        "semantic label reward is less than 0.9 for 1069 2.17603712827e-14 1070\n",
        "semantic label reward is less than 0.9 for"
       ]
      },
      {
       "output_type": "stream",
       "stream": "stdout",
       "text": [
        " 1070 2.19824158876e-14 1071\n",
        "semantic label reward is less than 0.9 for 1071 2.15383266777e-14 1072\n",
        "semantic label reward is less than 0.9 for"
       ]
      },
      {
       "output_type": "stream",
       "stream": "stdout",
       "text": [
        " 1072 2.28705943073e-14 1073\n",
        "semantic label reward is less than 0.9 for 1073 2.5202062659e-14 1074\n",
        "semantic label reward is less than 0.9 for"
       ]
      },
      {
       "output_type": "stream",
       "stream": "stdout",
       "text": [
        " 1074 2.48689957516e-14 1075\n",
        "semantic label reward is less than 0.9 for 1075 2.68673971959e-14 1076\n",
        "semantic label reward is less than 0.9 for"
       ]
      },
      {
       "output_type": "stream",
       "stream": "stdout",
       "text": [
        " 1076 2.56461518688e-14 1077\n",
        "semantic label reward is less than 0.9 for 1077 2.6645352591e-14 1078\n",
        "semantic label reward is less than 0.9 for"
       ]
      },
      {
       "output_type": "stream",
       "stream": "stdout",
       "text": [
        " 1078 2.74225087082e-14 1079\n",
        "semantic label reward is less than 0.9 for 1079 2.68673971959e-14 1080\n",
        "semantic label reward is less than 0.9 for"
       ]
      },
      {
       "output_type": "stream",
       "stream": "stdout",
       "text": [
        " 1080 2.67563748935e-14 1081\n",
        "semantic label reward is less than 0.9 for 1081 2.30926389122e-14 1082\n",
        "semantic label reward is less than 0.9 for"
       ]
      },
      {
       "output_type": "stream",
       "stream": "stdout",
       "text": [
        " 1082 2.10942374679e-14 1083\n",
        "semantic label reward is less than 0.9 for 1083 2.13162820728e-14 1084\n",
        "semantic label reward is less than 0.9 for"
       ]
      },
      {
       "output_type": "stream",
       "stream": "stdout",
       "text": [
        " 1084 2.02060590482e-14 1085\n",
        "semantic label reward is less than 0.9 for 1085 2.0872192863e-14 1086\n",
        "semantic label reward is less than 0.9 for"
       ]
      },
      {
       "output_type": "stream",
       "stream": "stdout",
       "text": [
        " 1086 2.13162820728e-14 1087\n",
        "semantic label reward is less than 0.9 for 1087 2.07611705605e-14 1088\n",
        "semantic label reward is less than 0.9 for"
       ]
      },
      {
       "output_type": "stream",
       "stream": "stdout",
       "text": [
        " 1088 2.0872192863e-14 1089\n",
        "semantic label reward is less than 0.9 for 1089 2.0650148258e-14 1090\n",
        "semantic label reward is less than 0.9 for"
       ]
      },
      {
       "output_type": "stream",
       "stream": "stdout",
       "text": [
        " 1090 2.13162820728e-14 1091\n",
        "semantic label reward is less than 0.9 for 1091 2.0872192863e-14 1092\n",
        "semantic label reward is less than 0.9 for"
       ]
      },
      {
       "output_type": "stream",
       "stream": "stdout",
       "text": [
        " 1092 0.0 1093\n",
        "semantic label reward is less than 0.9 for 1093 2.05391259556e-14 1094\n",
        "semantic label reward is less than 0.9 for"
       ]
      },
      {
       "output_type": "stream",
       "stream": "stdout",
       "text": [
        " 1094 2.09832151654e-14 1095\n",
        "semantic label reward is less than 0.9 for 1095 2.12052597703e-14 1096\n",
        "semantic label reward is less than 0.9 for"
       ]
      },
      {
       "output_type": "stream",
       "stream": "stdout",
       "text": [
        " 1096 2.07611705605e-14 1097\n",
        "semantic label reward is less than 0.9 for 1097 2.12052597703e-14 1098\n",
        "semantic label reward is less than 0.9 for"
       ]
      },
      {
       "output_type": "stream",
       "stream": "stdout",
       "text": [
        " 1098 2.22044604925e-14 1099\n",
        "semantic label reward is less than 0.9 for 1099 2.0650148258e-14 1100\n",
        "semantic label reward is less than 0.9 for"
       ]
      },
      {
       "output_type": "stream",
       "stream": "stdout",
       "text": [
        " 1100 2.10942374679e-14 1101\n",
        "semantic label reward is less than 0.9 for 1101 2.09832151654e-14 1102\n",
        "semantic label reward is less than 0.9 for"
       ]
      },
      {
       "output_type": "stream",
       "stream": "stdout",
       "text": [
        " 1102 2.0872192863e-14 1103\n",
        "semantic label reward is less than 0.9 for 1103 1.97619698383e-14 1104\n",
        "semantic label reward is less than 0.9 for"
       ]
      },
      {
       "output_type": "stream",
       "stream": "stdout",
       "text": [
        " 1104 2.05391259556e-14 1105\n",
        "semantic label reward is less than 0.9 for 1105 2.0872192863e-14 1106\n",
        "semantic label reward is less than 0.9 for"
       ]
      },
      {
       "output_type": "stream",
       "stream": "stdout",
       "text": [
        " 1106 2.14273043753e-14 1107\n",
        "semantic label reward is less than 0.9 for 1107 2.0872192863e-14 1108\n",
        "semantic label reward is less than 0.9 for"
       ]
      },
      {
       "output_type": "stream",
       "stream": "stdout",
       "text": [
        " 1108 2.17603712827e-14 1109\n",
        "semantic label reward is less than 0.9 for 1109 2.15383266777e-14 1110\n",
        "semantic label reward is less than 0.9 for"
       ]
      },
      {
       "output_type": "stream",
       "stream": "stdout",
       "text": [
        " 1110 2.0650148258e-14 1111\n",
        "semantic label reward is less than 0.9 for 1111 2.10942374679e-14 1112\n",
        "semantic label reward is less than 0.9 for"
       ]
      },
      {
       "output_type": "stream",
       "stream": "stdout",
       "text": [
        " 1112 2.0650148258e-14 1113\n",
        "semantic label reward is less than 0.9 for 1113 2.10942374679e-14 1114\n",
        "semantic label reward is less than 0.9 for"
       ]
      },
      {
       "output_type": "stream",
       "stream": "stdout",
       "text": [
        " 1114 2.13162820728e-14 1115\n",
        "semantic label reward is less than 0.9 for 1115 2.15383266777e-14 1116\n",
        "semantic label reward is less than 0.9 for"
       ]
      },
      {
       "output_type": "stream",
       "stream": "stdout",
       "text": [
        " 1116 2.0650148258e-14 1117\n",
        "semantic label reward is less than 0.9 for 1117 2.17603712827e-14 1118\n",
        "semantic label reward is less than 0.9 for"
       ]
      },
      {
       "output_type": "stream",
       "stream": "stdout",
       "text": [
        " 1118 2.07611705605e-14 1119\n",
        "semantic label reward is less than 0.9 for 1119 2.0872192863e-14 1120\n",
        "semantic label reward is less than 0.9 for"
       ]
      },
      {
       "output_type": "stream",
       "stream": "stdout",
       "text": [
        " 1120 2.10942374679e-14 1121\n",
        "semantic label reward is less than 0.9 for 1121 1.99840144433e-14 1122\n",
        "semantic label reward is less than 0.9 for"
       ]
      },
      {
       "output_type": "stream",
       "stream": "stdout",
       "text": [
        " 1122 2.12052597703e-14 1123\n",
        "semantic label reward is less than 0.9 for 1123 2.04281036531e-14 1124\n",
        "semantic label reward is less than 0.9 for"
       ]
      },
      {
       "output_type": "stream",
       "stream": "stdout",
       "text": [
        " 1124 0.0 1125\n",
        "semantic label reward is less than 0.9 for 1125 2.12052597703e-14 1126\n",
        "semantic label reward is less than 0.9 for"
       ]
      },
      {
       "output_type": "stream",
       "stream": "stdout",
       "text": [
        " 1126 2.0872192863e-14 1127\n",
        "semantic label reward is less than 0.9 for 1127 2.12052597703e-14 1128\n",
        "semantic label reward is less than 0.9 for"
       ]
      },
      {
       "output_type": "stream",
       "stream": "stdout",
       "text": [
        " 1128 0.0 1129\n",
        "semantic label reward is less than 0.9 for 1129 2.10942374679e-14 1130\n",
        "semantic label reward is less than 0.9 for"
       ]
      },
      {
       "output_type": "stream",
       "stream": "stdout",
       "text": [
        " 1130 2.04281036531e-14 1131\n",
        "semantic label reward is less than 0.9 for 1131 2.04281036531e-14 1132\n",
        "semantic label reward is less than 0.9 for"
       ]
      },
      {
       "output_type": "stream",
       "stream": "stdout",
       "text": [
        " 1132 2.0872192863e-14 1133\n",
        "semantic label reward is less than 0.9 for 1133 2.09832151654e-14 1134\n",
        "semantic label reward is less than 0.9 for"
       ]
      },
      {
       "output_type": "stream",
       "stream": "stdout",
       "text": [
        " 1134 2.02060590482e-14 1135\n",
        "semantic label reward is less than 0.9 for 1135 2.15383266777e-14 1136\n",
        "semantic label reward is less than 0.9 for"
       ]
      },
      {
       "output_type": "stream",
       "stream": "stdout",
       "text": [
        " 1136 2.09832151654e-14 1137\n",
        "semantic label reward is less than 0.9 for 1137 1.96509475359e-14 1138\n",
        "semantic label reward is less than 0.9 for"
       ]
      },
      {
       "output_type": "stream",
       "stream": "stdout",
       "text": [
        " 1138 2.14273043753e-14 1139\n",
        "semantic label reward is less than 0.9 for 1139 2.0650148258e-14 1140\n",
        "semantic label reward is less than 0.9 for"
       ]
      },
      {
       "output_type": "stream",
       "stream": "stdout",
       "text": [
        " 1140 2.0872192863e-14 1141\n",
        "semantic label reward is less than 0.9 for 1141 2.16493489802e-14 1142\n",
        "semantic label reward is less than 0.9 for"
       ]
      },
      {
       "output_type": "stream",
       "stream": "stdout",
       "text": [
        " 1142 2.18713935851e-14 1143\n",
        "semantic label reward is less than 0.9 for 1143 2.18713935851e-14 1144\n",
        "semantic label reward is less than 0.9 for"
       ]
      },
      {
       "output_type": "stream",
       "stream": "stdout",
       "text": [
        " 1144 2.13162820728e-14 1145\n",
        "semantic label reward is less than 0.9 for 1145 2.15383266777e-14 1146\n",
        "semantic label reward is less than 0.9 for"
       ]
      },
      {
       "output_type": "stream",
       "stream": "stdout",
       "text": [
        " 1146 2.28705943073e-14 1147\n",
        "semantic label reward is less than 0.9 for 1147 2.22044604925e-14 1148\n",
        "semantic label reward is less than 0.9 for"
       ]
      },
      {
       "output_type": "stream",
       "stream": "stdout",
       "text": [
        " 1148 2.16493489802e-14 1149\n",
        "semantic label reward is less than 0.9 for 1149 2.15383266777e-14 1150\n",
        "semantic label reward is less than 0.9 for"
       ]
      },
      {
       "output_type": "stream",
       "stream": "stdout",
       "text": [
        " 1150 2.15383266777e-14 1151\n",
        "semantic label reward is less than 0.9 for 1151 2.12052597703e-14 1152\n",
        "semantic label reward is less than 0.9 for"
       ]
      },
      {
       "output_type": "stream",
       "stream": "stdout",
       "text": [
        " 1152 2.19824158876e-14 1153\n",
        "semantic label reward is less than 0.9 for 1153 2.0872192863e-14 1154\n",
        "semantic label reward is less than 0.9 for"
       ]
      },
      {
       "output_type": "stream",
       "stream": "stdout",
       "text": [
        " 1154 2.0650148258e-14 1155\n",
        "semantic label reward is less than 0.9 for 1155 2.05391259556e-14 1156\n",
        "semantic label reward is less than 0.9 for"
       ]
      },
      {
       "output_type": "stream",
       "stream": "stdout",
       "text": [
        " 1156 2.07611705605e-14 1157\n",
        "semantic label reward is less than 0.9 for 1157 2.09832151654e-14 1158\n",
        "semantic label reward is less than 0.9 for"
       ]
      },
      {
       "output_type": "stream",
       "stream": "stdout",
       "text": [
        " 1158 2.02060590482e-14 1159\n",
        "semantic label reward is less than 0.9 for 1159 2.0650148258e-14 1160\n",
        "semantic label reward is less than 0.9 for"
       ]
      },
      {
       "output_type": "stream",
       "stream": "stdout",
       "text": [
        " 1160 2.04281036531e-14 1161\n",
        "semantic label reward is less than 0.9 for 1161 2.02060590482e-14 1162\n",
        "semantic label reward is less than 0.9 for"
       ]
      },
      {
       "output_type": "stream",
       "stream": "stdout",
       "text": [
        " 1162 2.0650148258e-14 1163\n",
        "semantic label reward is less than 0.9 for 1163 2.04281036531e-14 1164\n",
        "semantic label reward is less than 0.9 for"
       ]
      },
      {
       "output_type": "stream",
       "stream": "stdout",
       "text": [
        " 1164 2.10942374679e-14 1165\n",
        "semantic label reward is less than 0.9 for 1165 2.0872192863e-14 1166\n",
        "semantic label reward is less than 0.9 for"
       ]
      },
      {
       "output_type": "stream",
       "stream": "stdout",
       "text": [
        " 1166 1.95399252334e-14 1167\n",
        "semantic label reward is less than 0.9 for 1167 2.10942374679e-14 1168\n",
        "semantic label reward is less than 0.9 for"
       ]
      },
      {
       "output_type": "stream",
       "stream": "stdout",
       "text": [
        " 1168 2.09832151654e-14 1169\n",
        "semantic label reward is less than 0.9 for 1169 2.03170813506e-14 1170\n",
        "semantic label reward is less than 0.9 for"
       ]
      },
      {
       "output_type": "stream",
       "stream": "stdout",
       "text": [
        " 1170 2.03170813506e-14 1171\n",
        "semantic label reward is less than 0.9 for 1171 2.22044604925e-14 1172\n",
        "semantic label reward is less than 0.9 for"
       ]
      },
      {
       "output_type": "stream",
       "stream": "stdout",
       "text": [
        " 1172 2.19824158876e-14 1173\n",
        "semantic label reward is less than 0.9 for 1173 2.14273043753e-14 1174\n",
        "semantic label reward is less than 0.9 for"
       ]
      },
      {
       "output_type": "stream",
       "stream": "stdout",
       "text": [
        " 1174 2.19824158876e-14 1175\n",
        "semantic label reward is less than 0.9 for 1175 2.0872192863e-14 1176\n",
        "semantic label reward is less than 0.9 for"
       ]
      },
      {
       "output_type": "stream",
       "stream": "stdout",
       "text": [
        " 1176 2.0872192863e-14 1177\n",
        "semantic label reward is less than 0.9 for 1177 2.13162820728e-14 1178\n",
        "semantic label reward is less than 0.9 for"
       ]
      },
      {
       "output_type": "stream",
       "stream": "stdout",
       "text": [
        " 1178 2.04281036531e-14 1179\n",
        "semantic label reward is less than 0.9 for 1179 2.07611705605e-14 1180\n",
        "semantic label reward is less than 0.9 for"
       ]
      },
      {
       "output_type": "stream",
       "stream": "stdout",
       "text": [
        " 1180 2.04281036531e-14 1181\n",
        "semantic label reward is less than 0.9 for 1181 2.0872192863e-14 1182\n",
        "semantic label reward is less than 0.9 for"
       ]
      },
      {
       "output_type": "stream",
       "stream": "stdout",
       "text": [
        " 1182 2.0872192863e-14 1183\n",
        "semantic label reward is less than 0.9 for 1183 2.0650148258e-14 1184\n",
        "semantic label reward is less than 0.9 for"
       ]
      },
      {
       "output_type": "stream",
       "stream": "stdout",
       "text": [
        " 1184 2.10942374679e-14 1185\n",
        "semantic label reward is less than 0.9 for 1185 2.22044604925e-14 1186\n",
        "semantic label reward is less than 0.9 for"
       ]
      },
      {
       "output_type": "stream",
       "stream": "stdout",
       "text": [
        " 1186 2.10942374679e-14 1187\n",
        "semantic label reward is less than 0.9 for 1187 2.24265050974e-14 1188\n",
        "semantic label reward is less than 0.9 for"
       ]
      },
      {
       "output_type": "stream",
       "stream": "stdout",
       "text": [
        " 1188 2.13162820728e-14 1189\n",
        "semantic label reward is less than 0.9 for 1189 2.22044604925e-14 1190\n",
        "semantic label reward is less than 0.9 for"
       ]
      },
      {
       "output_type": "stream",
       "stream": "stdout",
       "text": [
        " 1190 2.24265050974e-14 1191\n",
        "semantic label reward is less than 0.9 for 1191 2.26485497024e-14 1192\n",
        "semantic label reward is less than 0.9 for"
       ]
      },
      {
       "output_type": "stream",
       "stream": "stdout",
       "text": [
        " 1192 2.28705943073e-14 1193\n",
        "semantic label reward is less than 0.9 for 1193 2.2315482795e-14 1194\n",
        "semantic label reward is less than 0.9 for"
       ]
      },
      {
       "output_type": "stream",
       "stream": "stdout",
       "text": [
        " 1194 2.14273043753e-14 1195\n",
        "semantic label reward is less than 0.9 for 1195 2.17603712827e-14 1196\n",
        "semantic label reward is less than 0.9 for"
       ]
      },
      {
       "output_type": "stream",
       "stream": "stdout",
       "text": [
        " 1196 2.26485497024e-14 1197\n",
        "semantic label reward is less than 0.9 for 1197 2.22044604925e-14 1198\n",
        "semantic label reward is less than 0.9 for"
       ]
      },
      {
       "output_type": "stream",
       "stream": "stdout",
       "text": [
        " 1198 2.16493489802e-14 1199\n",
        "semantic label reward is less than 0.9 for 1199 2.15383266777e-14 1200\n",
        "semantic label reward is less than 0.9 for"
       ]
      },
      {
       "output_type": "stream",
       "stream": "stdout",
       "text": [
        " 1200 2.15383266777e-14 1201\n",
        "semantic label reward is less than 0.9 for 1201 2.07611705605e-14 1202\n",
        "semantic label reward is less than 0.9 for"
       ]
      },
      {
       "output_type": "stream",
       "stream": "stdout",
       "text": [
        " 1202 2.15383266777e-14 1203\n",
        "semantic label reward is less than 0.9 for 1203 2.14273043753e-14 1204\n",
        "semantic label reward is less than 0.9 for"
       ]
      },
      {
       "output_type": "stream",
       "stream": "stdout",
       "text": [
        " 1204 2.10942374679e-14 1205\n",
        "semantic label reward is less than 0.9 for 1205 2.13162820728e-14 1206\n",
        "semantic label reward is less than 0.9 for"
       ]
      },
      {
       "output_type": "stream",
       "stream": "stdout",
       "text": [
        " 1206 0.0 1207\n",
        "semantic label reward is less than 0.9 for 1207 2.13162820728e-14 1208\n",
        "semantic label reward is less than 0.9 for"
       ]
      },
      {
       "output_type": "stream",
       "stream": "stdout",
       "text": [
        " 1208 2.0872192863e-14 1209\n",
        "semantic label reward is less than 0.9 for 1209 2.0872192863e-14 1210\n",
        "semantic label reward is less than 0.9 for"
       ]
      },
      {
       "output_type": "stream",
       "stream": "stdout",
       "text": [
        " 1210 2.02060590482e-14 1211\n",
        "semantic label reward is less than 0.9 for 1211 2.10942374679e-14 1212\n",
        "semantic label reward is less than 0.9 for"
       ]
      },
      {
       "output_type": "stream",
       "stream": "stdout",
       "text": [
        " 1212 0.0 1213\n",
        "semantic label reward is less than 0.9 for 1213 2.0872192863e-14 1214\n",
        "semantic label reward is less than 0.9 for"
       ]
      },
      {
       "output_type": "stream",
       "stream": "stdout",
       "text": [
        " 1214 2.13162820728e-14 1215\n",
        "semantic label reward is less than 0.9 for 1215 2.15383266777e-14 1216\n",
        "semantic label reward is less than 0.9 for"
       ]
      },
      {
       "output_type": "stream",
       "stream": "stdout",
       "text": [
        " 1216 1.99840144433e-14 1217\n",
        "semantic label reward is less than 0.9 for 1217 2.02060590482e-14 1218\n",
        "semantic label reward is less than 0.9 for"
       ]
      },
      {
       "output_type": "stream",
       "stream": "stdout",
       "text": [
        " 1218 2.04281036531e-14 1219\n",
        "semantic label reward is less than 0.9 for 1219 2.09832151654e-14 1220\n",
        "semantic label reward is less than 0.9 for"
       ]
      },
      {
       "output_type": "stream",
       "stream": "stdout",
       "text": [
        " 1220 2.0872192863e-14 1221\n",
        "semantic label reward is less than 0.9 for 1221 2.0872192863e-14 1222\n",
        "semantic label reward is less than 0.9 for"
       ]
      },
      {
       "output_type": "stream",
       "stream": "stdout",
       "text": [
        " 1222 2.0872192863e-14 1223\n",
        "semantic label reward is less than 0.9 for 1223 2.02060590482e-14 1224\n",
        "semantic label reward is less than 0.9 for"
       ]
      },
      {
       "output_type": "stream",
       "stream": "stdout",
       "text": [
        " 1224 2.25375273999e-14 1225\n",
        "semantic label reward is less than 0.9 for 1225 2.33146835171e-14 1226\n",
        "semantic label reward is less than 0.9 for"
       ]
      },
      {
       "output_type": "stream",
       "stream": "stdout",
       "text": [
        " 1226 2.26485497024e-14 1227\n",
        "semantic label reward is less than 0.9 for 1227 0.0 1228\n",
        "semantic label reward is less than 0.9 for"
       ]
      },
      {
       "output_type": "stream",
       "stream": "stdout",
       "text": [
        " 1228 2.30926389122e-14 1229\n",
        "semantic label reward is less than 0.9 for 1229 2.42028619368e-14 1230\n",
        "semantic label reward is less than 0.9 for"
       ]
      },
      {
       "output_type": "stream",
       "stream": "stdout",
       "text": [
        " 1230 2.39808173319e-14 1231\n",
        "semantic label reward is less than 0.9 for 1231 2.3758772727e-14 1232\n",
        "semantic label reward is less than 0.9 for"
       ]
      },
      {
       "output_type": "stream",
       "stream": "stdout",
       "text": [
        " 1232 2.27595720048e-14 1233\n",
        "semantic label reward is less than 0.9 for 1233 0.0 1234\n",
        "semantic label reward is less than 0.9 for"
       ]
      },
      {
       "output_type": "stream",
       "stream": "stdout",
       "text": [
        " 1234 2.0872192863e-14 1235\n",
        "semantic label reward is less than 0.9 for 1235 2.02060590482e-14 1236\n",
        "semantic label reward is less than 0.9 for"
       ]
      },
      {
       "output_type": "stream",
       "stream": "stdout",
       "text": [
        " 1236 2.03170813506e-14 1237\n",
        "semantic label reward is less than 0.9 for 1237 2.07611705605e-14 1238\n",
        "semantic label reward is less than 0.9 for"
       ]
      },
      {
       "output_type": "stream",
       "stream": "stdout",
       "text": [
        " 1238 2.13162820728e-14 1239\n",
        "semantic label reward is less than 0.9 for 1239 2.19824158876e-14 1240\n",
        "semantic label reward is less than 0.9 for"
       ]
      },
      {
       "output_type": "stream",
       "stream": "stdout",
       "text": [
        " 1240 2.17603712827e-14 1241\n",
        "semantic label reward is less than 0.9 for 1241 2.17603712827e-14 1242\n",
        "semantic label reward is less than 0.9 for"
       ]
      },
      {
       "output_type": "stream",
       "stream": "stdout",
       "text": [
        " 1242 2.26485497024e-14 1243\n",
        "semantic label reward is less than 0.9 for 1243 2.35367281221e-14 1244\n",
        "semantic label reward is less than 0.9 for"
       ]
      },
      {
       "output_type": "stream",
       "stream": "stdout",
       "text": [
        " 1244 2.33146835171e-14 1245\n",
        "semantic label reward is less than 0.9 for 1245 2.28705943073e-14 1246\n",
        "semantic label reward is less than 0.9 for"
       ]
      },
      {
       "output_type": "stream",
       "stream": "stdout",
       "text": [
        " 1246 2.15383266777e-14 1247\n",
        "semantic label reward is less than 0.9 for 1247 2.16493489802e-14 1248\n",
        "semantic label reward is less than 0.9 for"
       ]
      },
      {
       "output_type": "stream",
       "stream": "stdout",
       "text": [
        " 1248 2.04281036531e-14 1249\n",
        "semantic label reward is less than 0.9 for 1249 2.10942374679e-14 1250\n",
        "semantic label reward is less than 0.9 for"
       ]
      },
      {
       "output_type": "stream",
       "stream": "stdout",
       "text": [
        " 1250 2.17603712827e-14 1251\n",
        "semantic label reward is less than 0.9 for 1251 2.13162820728e-14 1253\n",
        "semantic label reward is less than 0.9 for"
       ]
      },
      {
       "output_type": "stream",
       "stream": "stdout",
       "text": [
        " 1253 0.0 1255\n",
        "semantic label reward is less than 0.9 for 1255 2.93098878501e-14 1257\n",
        "semantic label reward is less than 0.9 for"
       ]
      },
      {
       "output_type": "stream",
       "stream": "stdout",
       "text": [
        " 1257 4.81836792687e-14 1259\n",
        "semantic label reward is less than 0.9 for 1259 5.66213742559e-14 1261\n",
        "semantic label reward is less than 0.9 for"
       ]
      },
      {
       "output_type": "stream",
       "stream": "stdout",
       "text": [
        " 1261 8.82627304577e-14 935\n",
        "semantic label reward is less than 0.9 for 935 3.42982087176e-10 933\n",
        "semantic label reward is less than 0.9 for"
       ]
      },
      {
       "output_type": "stream",
       "stream": "stdout",
       "text": [
        " 933 0.0 894\n",
        "semantic label reward is less than 0.9 for 894 1.62233461887e-07 895\n",
        "semantic label reward is less than 0.9 for"
       ]
      },
      {
       "output_type": "stream",
       "stream": "stdout",
       "text": [
        " 895 4.46603149906e-06 897\n",
        "semantic label reward is less than 0.9 for 897 2.39720188104e-05 828\n",
        "semantic label reward is less than 0.9 for"
       ]
      },
      {
       "output_type": "stream",
       "stream": "stdout",
       "text": [
        " 828 4.95617412164e-05 845\n",
        "semantic label reward is less than 0.9 for 845 8.88058730818e-05 800\n",
        "semantic label reward is less than 0.9 for"
       ]
      },
      {
       "output_type": "stream",
       "stream": "stdout",
       "text": [
        " 800 0.000860976026212 803\n",
        "semantic label reward is less than 0.9 for 803 0.319966682689 734\n",
        "735"
       ]
      },
      {
       "output_type": "stream",
       "stream": "stdout",
       "text": [
        "\n",
        "736\n",
        "704"
       ]
      },
      {
       "output_type": "stream",
       "stream": "stdout",
       "text": [
        "\n",
        "705\n",
        "706"
       ]
      },
      {
       "output_type": "stream",
       "stream": "stdout",
       "text": [
        "\n",
        "[goal idx reached] new goal idx is 589\n",
        "707\n",
        "708"
       ]
      },
      {
       "output_type": "stream",
       "stream": "stdout",
       "text": [
        "\n",
        "709\n",
        "710"
       ]
      },
      {
       "output_type": "stream",
       "stream": "stdout",
       "text": [
        "\n",
        "711\n",
        "712"
       ]
      },
      {
       "output_type": "stream",
       "stream": "stdout",
       "text": [
        "\n",
        "713\n",
        "714"
       ]
      },
      {
       "output_type": "stream",
       "stream": "stdout",
       "text": [
        "\n",
        "715\n",
        "716"
       ]
      },
      {
       "output_type": "stream",
       "stream": "stdout",
       "text": [
        "\n",
        "717\n",
        "718"
       ]
      },
      {
       "output_type": "stream",
       "stream": "stdout",
       "text": [
        "\n",
        "588\n",
        "589"
       ]
      },
      {
       "output_type": "stream",
       "stream": "stdout",
       "text": [
        "\n",
        "[goal idx reached] new goal idx is 815\n",
        "590\n",
        "591"
       ]
      },
      {
       "output_type": "stream",
       "stream": "stdout",
       "text": [
        "\n",
        "592\n",
        "593"
       ]
      },
      {
       "output_type": "stream",
       "stream": "stdout",
       "text": [
        "\n",
        "594\n",
        "595"
       ]
      },
      {
       "output_type": "stream",
       "stream": "stdout",
       "text": [
        "\n",
        "596\n",
        "597"
       ]
      },
      {
       "output_type": "stream",
       "stream": "stdout",
       "text": [
        "\n",
        "598\n",
        "599"
       ]
      },
      {
       "output_type": "stream",
       "stream": "stdout",
       "text": [
        "\n",
        "600\n",
        "601"
       ]
      },
      {
       "output_type": "stream",
       "stream": "stdout",
       "text": [
        "\n",
        "602\n",
        "603"
       ]
      },
      {
       "output_type": "stream",
       "stream": "stdout",
       "text": [
        "\n",
        "604\n",
        "605"
       ]
      },
      {
       "output_type": "stream",
       "stream": "stdout",
       "text": [
        "\n",
        "606\n",
        "607"
       ]
      },
      {
       "output_type": "stream",
       "stream": "stdout",
       "text": [
        "\n",
        "608\n",
        "609"
       ]
      },
      {
       "output_type": "stream",
       "stream": "stdout",
       "text": [
        "\n",
        "610\n",
        "611"
       ]
      },
      {
       "output_type": "stream",
       "stream": "stdout",
       "text": [
        "\n",
        "612\n",
        "613"
       ]
      },
      {
       "output_type": "stream",
       "stream": "stdout",
       "text": [
        "\n",
        "614\n",
        "615"
       ]
      },
      {
       "output_type": "stream",
       "stream": "stdout",
       "text": [
        "\n",
        "616\n",
        "617"
       ]
      },
      {
       "output_type": "stream",
       "stream": "stdout",
       "text": [
        "\n",
        "618\n",
        "619"
       ]
      },
      {
       "output_type": "stream",
       "stream": "stdout",
       "text": [
        "\n",
        "620\n",
        "621"
       ]
      },
      {
       "output_type": "stream",
       "stream": "stdout",
       "text": [
        "\n",
        "622\n",
        "623"
       ]
      },
      {
       "output_type": "stream",
       "stream": "stdout",
       "text": [
        "\n",
        "624\n",
        "625"
       ]
      },
      {
       "output_type": "stream",
       "stream": "stdout",
       "text": [
        "\n",
        "626\n",
        "627"
       ]
      },
      {
       "output_type": "stream",
       "stream": "stdout",
       "text": [
        "\n",
        "628\n",
        "629"
       ]
      },
      {
       "output_type": "stream",
       "stream": "stdout",
       "text": [
        "\n",
        "630\n",
        "631"
       ]
      },
      {
       "output_type": "stream",
       "stream": "stdout",
       "text": [
        "\n",
        "632\n",
        "633"
       ]
      },
      {
       "output_type": "stream",
       "stream": "stdout",
       "text": [
        "\n",
        "634\n",
        "635"
       ]
      },
      {
       "output_type": "stream",
       "stream": "stdout",
       "text": [
        "\n",
        "636\n",
        "637"
       ]
      },
      {
       "output_type": "stream",
       "stream": "stdout",
       "text": [
        "\n",
        "638\n",
        "639"
       ]
      },
      {
       "output_type": "stream",
       "stream": "stdout",
       "text": [
        "\n",
        "640\n",
        "641"
       ]
      },
      {
       "output_type": "stream",
       "stream": "stdout",
       "text": [
        "\n",
        "642\n",
        "643"
       ]
      },
      {
       "output_type": "stream",
       "stream": "stdout",
       "text": [
        "\n",
        "644\n",
        "645"
       ]
      },
      {
       "output_type": "stream",
       "stream": "stdout",
       "text": [
        "\n",
        "646\n",
        "647"
       ]
      },
      {
       "output_type": "stream",
       "stream": "stdout",
       "text": [
        "\n",
        "648\n",
        "649"
       ]
      },
      {
       "output_type": "stream",
       "stream": "stdout",
       "text": [
        "\n",
        "650\n",
        "651"
       ]
      },
      {
       "output_type": "stream",
       "stream": "stdout",
       "text": [
        "\n",
        "652\n",
        "653"
       ]
      },
      {
       "output_type": "stream",
       "stream": "stdout",
       "text": [
        "\n",
        "654\n",
        "655"
       ]
      },
      {
       "output_type": "stream",
       "stream": "stdout",
       "text": [
        "\n",
        "656\n",
        "657"
       ]
      },
      {
       "output_type": "stream",
       "stream": "stdout",
       "text": [
        "\n",
        "658\n",
        "659"
       ]
      },
      {
       "output_type": "stream",
       "stream": "stdout",
       "text": [
        "\n",
        "660\n",
        "661"
       ]
      },
      {
       "output_type": "stream",
       "stream": "stdout",
       "text": [
        "\n",
        "662\n",
        "663"
       ]
      },
      {
       "output_type": "stream",
       "stream": "stdout",
       "text": [
        "\n",
        "664\n",
        "665"
       ]
      },
      {
       "output_type": "stream",
       "stream": "stdout",
       "text": [
        "\n",
        "666\n",
        "667"
       ]
      },
      {
       "output_type": "stream",
       "stream": "stdout",
       "text": [
        "\n",
        "668\n",
        "669"
       ]
      },
      {
       "output_type": "stream",
       "stream": "stdout",
       "text": [
        "\n",
        "670\n",
        "671"
       ]
      },
      {
       "output_type": "stream",
       "stream": "stdout",
       "text": [
        "\n",
        "672\n",
        "673"
       ]
      },
      {
       "output_type": "stream",
       "stream": "stdout",
       "text": [
        "\n",
        "674\n",
        "675"
       ]
      },
      {
       "output_type": "stream",
       "stream": "stdout",
       "text": [
        "\n",
        "676\n",
        "677"
       ]
      },
      {
       "output_type": "stream",
       "stream": "stdout",
       "text": [
        "\n",
        "678\n",
        "679"
       ]
      },
      {
       "output_type": "stream",
       "stream": "stdout",
       "text": [
        "\n",
        "680\n",
        "681"
       ]
      },
      {
       "output_type": "stream",
       "stream": "stdout",
       "text": [
        "\n",
        "682\n",
        "683"
       ]
      },
      {
       "output_type": "stream",
       "stream": "stdout",
       "text": [
        "\n",
        "684\n",
        "685"
       ]
      },
      {
       "output_type": "stream",
       "stream": "stdout",
       "text": [
        "\n",
        "686\n",
        "687"
       ]
      },
      {
       "output_type": "stream",
       "stream": "stdout",
       "text": [
        "\n",
        "688\n",
        "689"
       ]
      },
      {
       "output_type": "stream",
       "stream": "stdout",
       "text": [
        "\n",
        "690\n",
        "691"
       ]
      },
      {
       "output_type": "stream",
       "stream": "stdout",
       "text": [
        "\n",
        "692\n",
        "693"
       ]
      },
      {
       "output_type": "stream",
       "stream": "stdout",
       "text": [
        "\n",
        "694\n",
        "695"
       ]
      },
      {
       "output_type": "stream",
       "stream": "stdout",
       "text": [
        "\n",
        "696\n",
        "697"
       ]
      },
      {
       "output_type": "stream",
       "stream": "stdout",
       "text": [
        "\n",
        "698\n",
        "699"
       ]
      },
      {
       "output_type": "stream",
       "stream": "stdout",
       "text": [
        "\n",
        "700\n",
        "701"
       ]
      },
      {
       "output_type": "stream",
       "stream": "stdout",
       "text": [
        "\n",
        "702\n",
        "703"
       ]
      },
      {
       "output_type": "stream",
       "stream": "stdout",
       "text": [
        "\n",
        "704\n",
        "705"
       ]
      },
      {
       "output_type": "stream",
       "stream": "stdout",
       "text": [
        "\n",
        "706\n",
        "707"
       ]
      },
      {
       "output_type": "stream",
       "stream": "stdout",
       "text": [
        "\n",
        "708\n",
        "709"
       ]
      },
      {
       "output_type": "stream",
       "stream": "stdout",
       "text": [
        "\n",
        "710\n",
        "711"
       ]
      },
      {
       "output_type": "stream",
       "stream": "stdout",
       "text": [
        "\n",
        "712\n",
        "713"
       ]
      },
      {
       "output_type": "stream",
       "stream": "stdout",
       "text": [
        "\n",
        "714\n",
        "715"
       ]
      },
      {
       "output_type": "stream",
       "stream": "stdout",
       "text": [
        "\n",
        "716\n",
        "717"
       ]
      },
      {
       "output_type": "stream",
       "stream": "stdout",
       "text": [
        "\n",
        "718\n",
        "719"
       ]
      },
      {
       "output_type": "stream",
       "stream": "stdout",
       "text": [
        "\n",
        "720\n",
        "721"
       ]
      },
      {
       "output_type": "stream",
       "stream": "stdout",
       "text": [
        "\n",
        "722\n",
        "723"
       ]
      },
      {
       "output_type": "stream",
       "stream": "stdout",
       "text": [
        "\n",
        "724\n",
        "725"
       ]
      },
      {
       "output_type": "stream",
       "stream": "stdout",
       "text": [
        "\n",
        "726\n",
        "727"
       ]
      },
      {
       "output_type": "stream",
       "stream": "stdout",
       "text": [
        "\n"
       ]
      },
      {
       "metadata": {},
       "output_type": "pyout",
       "prompt_number": 50,
       "text": [
        "0"
       ]
      }
     ],
     "prompt_number": 50
    },
    {
     "cell_type": "code",
     "collapsed": false,
     "input": [
      "print window.currentIdx, window.labelTaskToPerform, window.idxTaskToPerform\n",
      "print semanticLabelsTask(labels[852, :], window.labelTaskToPerform)\n",
      "print np.array(window.renderedFrames)[-500:]\n",
      "currentIdx = 882\n",
      "print window.idxTaskToPerform not in neighbours[currentIdx, :]\n",
      "bestA, bestAIdx, immediateRewards = pi_l(ss[currentIdx], A[currentIdx, :, :], np.sum(np.repeat(window.labelTaskToPerform.reshape((1, len(window.labelTaskToPerform))), numStates, axis=0)*v, axis=-1), currentIdx, neighbours, (window.labelTaskToPerform, window.idxTaskToPerform), 1.0+t, l, p, (semanticLabelsTask, idxRangeTask), (1.0, 0.0), ss, fs)#, True)\n",
      "print immediateRewards + np.exp(1/precomputedSPCosts[neighbours[currentIdx, :], window.idxTaskToPerform])\n",
      "print neighbours[currentIdx, :]\n",
      "print window.framesSoFar"
     ],
     "language": "python",
     "metadata": {},
     "outputs": [
      {
       "output_type": "stream",
       "stream": "stdout",
       "text": [
        "299 [ 0.  1.  0.  0.] 58\n",
        "0.292340719708\n",
        "[740 776 303 778 304 305 650 379 435 436 437 612 291 293 295 296 297 298\n",
        " 299 300 301 302 772 352 353 740 776 303 778 304 305 650 379 435 436 437\n",
        " 612 291 293 295 296 298 299 300 301 302 303 682 684 686 687 688 689 299\n",
        " 300 301 302 772 352 353 740 776 303 778 304 305 306 625 567 568 569 570\n",
        " 571 572 573 574 575 301 302 772 352 353 740 776 303 778 304 305 616 685\n",
        " 687 688 361 362 363 364 365 366 367 294 295 296 298 299 300 301 302 303\n",
        " 304 615 294 296 297 299 300 301 302 303 304 615 294 296 297 299 300 301\n",
        " 302 772 352 353 740 776 303 778 304 305 616 685 687 688 298 299 300 301\n",
        " 302 303 304 615 294 296 297 526 527 300 301 302 772 352 353 740 776 303\n",
        " 778 304 305 616 685 687 688 501 561 562 564 566 568 569 570 571 572 573\n",
        " 362 363 364 493 293 295 296 297 526 527 300 301 302 772 352 353 740 776\n",
        " 303 778 304 305 294 296 297 526 527 300 301 302 303 304 615 294 296 297\n",
        " 298 299 300 301 302 772 352 353 740 776 303 778 304 305 306  52  53  55\n",
        " 478 299 300 301 302 303 304 615 294 296 297 573 362 363 364 365 494 565\n",
        " 567 568 569 570 571 572 573 362 363 364 681 683 685 687 688 361 362 363\n",
        " 364 493 293 295 296 297 298 299 300 301 302 772 352 353 740 776 303 778\n",
        " 304 305 616 685 687 688 298 299 300 301 302 303 682 683 465 567 568 569\n",
        " 570 571 572 573 574 575 301 302 772 352 353 740 776 303 778 304 305 306\n",
        "  52  53  55 478 299 300 301 302 303 304 615 294 296 297 526 527 300 301\n",
        " 302 303 304 615 294 296 297 573 362 363 364 681 683 685 687 688 361 362\n",
        " 363 364 365 494 565 567 568 569 570 571 572 573 574 575 301 302 772 352\n",
        " 353 740 776 303 778 304 305 306  52  53  55 478 299 300 301 302 772 352\n",
        " 353 740 776 303 778 304 305 294 296 297 561 562 564 566 568 569 570 571\n",
        " 572 573 362 363 364 365 494 565 567 568 397 476 477 561 562 564 566 568\n",
        " 569 473 475 476 477 298 299 300 301 302 772 352 353 740 776 303 778 304\n",
        " 305 616 685 687 688 689 299 300 301 302 772 352 353 740 776 303 778 304\n",
        " 305 294 296 297 526 527 301 302 772 352 353 740 776 303 778 304 305 294\n",
        " 296 297 573 362 363 364 365 366 367 294 295 296 298 299]\n",
        "True\n",
        "[ 2.25149361  1.76633876  1.78551349  2.3334352   1.96959464  1.8179566\n",
        "  1.77603801  2.12819743  1.87460868  1.75115524  1.74721632  1.85566554\n",
        "  1.92509679  1.71453844  2.43350897]\n",
        "[883 791 827 763 758 793 790 246 234 884 908 852 757 826 764]\n",
        "[363, 364, 365, 366, 367, 294, 295, 296, 298, 299]\n"
       ]
      }
     ],
     "prompt_number": 46
    },
    {
     "cell_type": "code",
     "collapsed": false,
     "input": [
      "# totalFramesRenderedBefore = np.copy(np.ndarray.flatten(np.array(window.renderedFrames)))\n",
      "print len(totalFramesRenderedBefore)\n",
      "print np.mod(-1, len(totalFramesRenderedBefore))"
     ],
     "language": "python",
     "metadata": {},
     "outputs": [
      {
       "output_type": "stream",
       "stream": "stdout",
       "text": [
        "466\n",
        "465\n"
       ]
      }
     ],
     "prompt_number": 49
    }
   ],
   "metadata": {}
  }
 ]
}