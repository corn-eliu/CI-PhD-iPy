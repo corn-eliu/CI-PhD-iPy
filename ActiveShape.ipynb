{
 "metadata": {
  "name": ""
 },
 "nbformat": 3,
 "nbformat_minor": 0,
 "worksheets": [
  {
   "cells": [
    {
     "cell_type": "code",
     "collapsed": false,
     "input": [
      "## Imports and defines\n",
      "%pylab\n",
      "import numpy as np\n",
      "import scipy as sp\n",
      "from scipy import io\n",
      "from scipy import ndimage\n",
      "import re\n",
      "import cv2\n",
      "import sys\n",
      "import glob\n",
      "import Image \n",
      "\n",
      "from mpl_toolkits.mplot3d import Axes3D\n",
      "import matplotlib.animation as animation\n",
      "\n",
      "import MazeSequenceUtils as msu\n",
      "\n",
      "dataLoc = \"/home/ilisescu/PhD/iPy/data/flower/\"\n",
      "nameLength = len(filter(None, re.split('/',dataLoc)))\n",
      "\n",
      "colVals = ['0', '1', '2', '3', '4', '5', '6', '7', '8', '9', 'a', 'b', 'c', 'd', 'e', 'f']"
     ],
     "language": "python",
     "metadata": {},
     "outputs": [
      {
       "output_type": "stream",
       "stream": "stdout",
       "text": [
        "Using matplotlib backend: TkAgg\n",
        "Populating the interactive namespace from numpy and matplotlib\n"
       ]
      }
     ],
     "prompt_number": 1
    },
    {
     "cell_type": "code",
     "collapsed": false,
     "input": [
      "def insideRect(point, rectSize) :\n",
      "    width = rectSize[1]\n",
      "    height = rectSize[0]\n",
      "    result = point[0] >= 0 and point[1] >= 0 and point[0] <= width and point[1] <= height\n",
      "#     print \"inside rect\", result\n",
      "    return result\n",
      "    \n",
      "    \n",
      "def findSplitSegment(line, rectSize) :\n",
      "    points = []\n",
      "    ## line-line intersection using cramer's rule\n",
      "    a = line[2:4]\n",
      "    u = line[0:2]\n",
      "    width = rectSize[1]\n",
      "    height = rectSize[0]\n",
      "#     print rectSize\n",
      "    \n",
      "    \n",
      "    # check intersection with x axis\n",
      "    b = np.array([0, 0])\n",
      "    v = np.array([1, 0])\n",
      "    \n",
      "    A = np.array([[u[0], -v[0]], [u[1], -v[1]]])\n",
      "    c = np.array([[b[0]-a[0]], [b[1]-a[1]]])\n",
      "    x = np.linalg.det(np.array([c, A[:, 1]]))/np.linalg.det(A)\n",
      "    point = np.array(np.round(a+x*u), dtype=int)\n",
      "#     print point\n",
      "    \n",
      "    if insideRect(point, rectSize) :\n",
      "        points.append(point)\n",
      "        \n",
      "        \n",
      "    ## check intersection with height axis\n",
      "    b = np.array([0, height])\n",
      "    A = np.array([[u[0], -v[0]], [u[1], -v[1]]])\n",
      "    c = np.array([[b[0]-a[0]], [b[1]-a[1]]])\n",
      "    x = np.linalg.det(np.array([c, A[:, 1]]))/np.linalg.det(A)\n",
      "    point = np.array(np.round(a+x*u), dtype=int)\n",
      "#     print point\n",
      "    \n",
      "    if insideRect(point, rectSize) :\n",
      "        isNew = True\n",
      "        for p in points :\n",
      "            if (point == p).all() :\n",
      "                isNew = False\n",
      "                break\n",
      "        if isNew :\n",
      "            points.append(point)\n",
      "        \n",
      "        \n",
      "    # check instersection with y axis\n",
      "    b = np.array([0, 0])\n",
      "    v = np.array([0, 1])\n",
      "    \n",
      "    A = np.array([[u[0], -v[0]], [u[1], -v[1]]])\n",
      "    c = np.array([[b[0]-a[0]], [b[1]-a[1]]])\n",
      "    x = np.linalg.det(np.array([c, A[:, 1]]))/np.linalg.det(A)\n",
      "    point = np.array(np.round(a+x*u), dtype=int)\n",
      "#     print point\n",
      "    \n",
      "    if insideRect(point, rectSize) :\n",
      "        isNew = True\n",
      "        for p in points :\n",
      "            if (point == p).all() :\n",
      "                isNew = False\n",
      "                break\n",
      "        if isNew :\n",
      "            points.append(point)\n",
      "        \n",
      "    \n",
      "    ## check intersection with width axis\n",
      "    b = np.array([width, 0])\n",
      "    A = np.array([[u[0], -v[0]], [u[1], -v[1]]])\n",
      "    c = np.array([[b[0]-a[0]], [b[1]-a[1]]])\n",
      "    x = np.linalg.det(np.array([c, A[:, 1]]))/np.linalg.det(A)\n",
      "    point = np.array(np.round(a+x*u), dtype=int)\n",
      "#     print point\n",
      "    \n",
      "    if insideRect(point, rectSize) :\n",
      "        isNew = True\n",
      "        for p in points :\n",
      "            if (point == p).all() :\n",
      "                isNew = False\n",
      "                break\n",
      "        if isNew :\n",
      "            points.append(point)\n",
      "    \n",
      "    if len(points) != 2 :\n",
      "        print \"Incorrect number of points in split segment:\", len(points) \n",
      "        raise BaseException\n",
      "    return np.array(points)\n",
      "    \n",
      "    "
     ],
     "language": "python",
     "metadata": {},
     "outputs": [],
     "prompt_number": 2
    },
    {
     "cell_type": "code",
     "collapsed": false,
     "input": [
      "def discretizeLine(segmentExtremes) :\n",
      "    ## discretize line segment\n",
      "    lN = np.int(np.linalg.norm(segmentExtremes[1, :]-segmentExtremes[0, :]))\n",
      "    lDir = (segmentExtremes[1, :]-segmentExtremes[0, :])/np.float(lN)\n",
      "    discretizedSegment = np.array(np.round(np.repeat(np.reshape(np.array(segmentExtremes[1, :], dtype=int), [len(segmentExtremes[1, :]), 1]), lN+1, axis=1)-np.arange(0, lN+1)*np.reshape(lDir,[len(lDir), 1])), dtype=np.int).T\n",
      "    return discretizedSegment"
     ],
     "language": "python",
     "metadata": {},
     "outputs": [],
     "prompt_number": 3
    },
    {
     "cell_type": "code",
     "collapsed": false,
     "input": [
      "def positiveHalfspaceMask(segmentExtremes, rectSize, inclusive) :\n",
      "    hsMask = np.zeros(rectSize)\n",
      "    A = segmentExtremes[0, :]\n",
      "    B = segmentExtremes[1, :]\n",
      "    Xs = np.repeat(np.reshape(np.arange(0, rectSize[1], 1), [1, rectSize[1]]), rectSize[0], axis=0)\n",
      "    Ys = np.repeat(np.reshape(np.arange(0, rectSize[0], 1), [rectSize[0], 1]), rectSize[1], axis=1)\n",
      "    distances = (B[0]-A[0])*(Ys-A[1])-(B[1]-A[1])*(Xs-A[0])\n",
      "    \n",
      "    if inclusive :\n",
      "        hsMask[np.where(distances>=0)] = 1\n",
      "    else :\n",
      "        hsMask[np.where(distances>0)] = 1\n",
      "    return hsMask"
     ],
     "language": "python",
     "metadata": {},
     "outputs": [],
     "prompt_number": 4
    },
    {
     "cell_type": "code",
     "collapsed": false,
     "input": [
      "## load frames\n",
      "frameNames = np.sort(glob.glob(dataLoc + \"*.png\"))\n",
      "frameSize = cv2.imread(frameNames[0]).shape\n",
      "movie = np.zeros(np.hstack([frameSize, len(frameNames)]), dtype=uint8)\n",
      "print movie.shape\n",
      "for i in xrange(0, len(frameNames)):\n",
      "#     im = np.array(cv2.imread(location+frames[i]))/255.0\n",
      "#     movie[:, :, i] = np.dot(im[:,:,:3], [0.0722, 0.7152, 0.2126])   # matlab RGB2GRAY multiplies [0.299, 0.587, 0.144] but cv2 is BGR\n",
      "#     movie[:, :, :, i] = np.array(cv2.imread(frameNames[i]))/255.0\n",
      "    movie[:, :, :, i] = cv2.imread(frameNames[i])\n",
      "    sys.stdout.write('\\r' + \"Loading frame \" + np.string_(i) + \" of \" + np.string_(len(frameNames)))\n",
      "    sys.stdout.flush()"
     ],
     "language": "python",
     "metadata": {},
     "outputs": [
      {
       "output_type": "stream",
       "stream": "stdout",
       "text": [
        "(720, 1280, 3, 236)\n",
        "\r",
        "Loading frame 0 of 236"
       ]
      },
      {
       "output_type": "stream",
       "stream": "stdout",
       "text": [
        "\r",
        "Loading frame 1 of 236"
       ]
      },
      {
       "output_type": "stream",
       "stream": "stdout",
       "text": [
        "\r",
        "Loading frame 2 of 236"
       ]
      },
      {
       "output_type": "stream",
       "stream": "stdout",
       "text": [
        "\r",
        "Loading frame 3 of 236"
       ]
      },
      {
       "output_type": "stream",
       "stream": "stdout",
       "text": [
        "\r",
        "Loading frame 4 of 236"
       ]
      },
      {
       "output_type": "stream",
       "stream": "stdout",
       "text": [
        "\r",
        "Loading frame 5 of 236"
       ]
      },
      {
       "output_type": "stream",
       "stream": "stdout",
       "text": [
        "\r",
        "Loading frame 6 of 236"
       ]
      },
      {
       "output_type": "stream",
       "stream": "stdout",
       "text": [
        "\r",
        "Loading frame 7 of 236"
       ]
      },
      {
       "output_type": "stream",
       "stream": "stdout",
       "text": [
        "\r",
        "Loading frame 8 of 236"
       ]
      },
      {
       "output_type": "stream",
       "stream": "stdout",
       "text": [
        "\r",
        "Loading frame 9 of 236"
       ]
      },
      {
       "output_type": "stream",
       "stream": "stdout",
       "text": [
        "\r",
        "Loading frame 10 of 236"
       ]
      },
      {
       "output_type": "stream",
       "stream": "stdout",
       "text": [
        "\r",
        "Loading frame 11 of 236"
       ]
      },
      {
       "output_type": "stream",
       "stream": "stdout",
       "text": [
        "\r",
        "Loading frame 12 of 236"
       ]
      },
      {
       "output_type": "stream",
       "stream": "stdout",
       "text": [
        "\r",
        "Loading frame 13 of 236"
       ]
      },
      {
       "output_type": "stream",
       "stream": "stdout",
       "text": [
        "\r",
        "Loading frame 14 of 236"
       ]
      },
      {
       "output_type": "stream",
       "stream": "stdout",
       "text": [
        "\r",
        "Loading frame 15 of 236"
       ]
      },
      {
       "output_type": "stream",
       "stream": "stdout",
       "text": [
        "\r",
        "Loading frame 16 of 236"
       ]
      },
      {
       "output_type": "stream",
       "stream": "stdout",
       "text": [
        "\r",
        "Loading frame 17 of 236"
       ]
      },
      {
       "output_type": "stream",
       "stream": "stdout",
       "text": [
        "\r",
        "Loading frame 18 of 236"
       ]
      },
      {
       "output_type": "stream",
       "stream": "stdout",
       "text": [
        "\r",
        "Loading frame 19 of 236"
       ]
      },
      {
       "output_type": "stream",
       "stream": "stdout",
       "text": [
        "\r",
        "Loading frame 20 of 236"
       ]
      },
      {
       "output_type": "stream",
       "stream": "stdout",
       "text": [
        "\r",
        "Loading frame 21 of 236"
       ]
      },
      {
       "output_type": "stream",
       "stream": "stdout",
       "text": [
        "\r",
        "Loading frame 22 of 236"
       ]
      },
      {
       "output_type": "stream",
       "stream": "stdout",
       "text": [
        "\r",
        "Loading frame 23 of 236"
       ]
      },
      {
       "output_type": "stream",
       "stream": "stdout",
       "text": [
        "\r",
        "Loading frame 24 of 236"
       ]
      },
      {
       "output_type": "stream",
       "stream": "stdout",
       "text": [
        "\r",
        "Loading frame 25 of 236"
       ]
      },
      {
       "output_type": "stream",
       "stream": "stdout",
       "text": [
        "\r",
        "Loading frame 26 of 236"
       ]
      },
      {
       "output_type": "stream",
       "stream": "stdout",
       "text": [
        "\r",
        "Loading frame 27 of 236"
       ]
      },
      {
       "output_type": "stream",
       "stream": "stdout",
       "text": [
        "\r",
        "Loading frame 28 of 236"
       ]
      },
      {
       "output_type": "stream",
       "stream": "stdout",
       "text": [
        "\r",
        "Loading frame 29 of 236"
       ]
      },
      {
       "output_type": "stream",
       "stream": "stdout",
       "text": [
        "\r",
        "Loading frame 30 of 236"
       ]
      },
      {
       "output_type": "stream",
       "stream": "stdout",
       "text": [
        "\r",
        "Loading frame 31 of 236"
       ]
      },
      {
       "output_type": "stream",
       "stream": "stdout",
       "text": [
        "\r",
        "Loading frame 32 of 236"
       ]
      },
      {
       "output_type": "stream",
       "stream": "stdout",
       "text": [
        "\r",
        "Loading frame 33 of 236"
       ]
      },
      {
       "output_type": "stream",
       "stream": "stdout",
       "text": [
        "\r",
        "Loading frame 34 of 236"
       ]
      },
      {
       "output_type": "stream",
       "stream": "stdout",
       "text": [
        "\r",
        "Loading frame 35 of 236"
       ]
      },
      {
       "output_type": "stream",
       "stream": "stdout",
       "text": [
        "\r",
        "Loading frame 36 of 236"
       ]
      },
      {
       "output_type": "stream",
       "stream": "stdout",
       "text": [
        "\r",
        "Loading frame 37 of 236"
       ]
      },
      {
       "output_type": "stream",
       "stream": "stdout",
       "text": [
        "\r",
        "Loading frame 38 of 236"
       ]
      },
      {
       "output_type": "stream",
       "stream": "stdout",
       "text": [
        "\r",
        "Loading frame 39 of 236"
       ]
      },
      {
       "output_type": "stream",
       "stream": "stdout",
       "text": [
        "\r",
        "Loading frame 40 of 236"
       ]
      },
      {
       "output_type": "stream",
       "stream": "stdout",
       "text": [
        "\r",
        "Loading frame 41 of 236"
       ]
      },
      {
       "output_type": "stream",
       "stream": "stdout",
       "text": [
        "\r",
        "Loading frame 42 of 236"
       ]
      },
      {
       "output_type": "stream",
       "stream": "stdout",
       "text": [
        "\r",
        "Loading frame 43 of 236"
       ]
      },
      {
       "output_type": "stream",
       "stream": "stdout",
       "text": [
        "\r",
        "Loading frame 44 of 236"
       ]
      },
      {
       "output_type": "stream",
       "stream": "stdout",
       "text": [
        "\r",
        "Loading frame 45 of 236"
       ]
      },
      {
       "output_type": "stream",
       "stream": "stdout",
       "text": [
        "\r",
        "Loading frame 46 of 236"
       ]
      },
      {
       "output_type": "stream",
       "stream": "stdout",
       "text": [
        "\r",
        "Loading frame 47 of 236"
       ]
      },
      {
       "output_type": "stream",
       "stream": "stdout",
       "text": [
        "\r",
        "Loading frame 48 of 236"
       ]
      },
      {
       "output_type": "stream",
       "stream": "stdout",
       "text": [
        "\r",
        "Loading frame 49 of 236"
       ]
      },
      {
       "output_type": "stream",
       "stream": "stdout",
       "text": [
        "\r",
        "Loading frame 50 of 236"
       ]
      },
      {
       "output_type": "stream",
       "stream": "stdout",
       "text": [
        "\r",
        "Loading frame 51 of 236"
       ]
      },
      {
       "output_type": "stream",
       "stream": "stdout",
       "text": [
        "\r",
        "Loading frame 52 of 236"
       ]
      },
      {
       "output_type": "stream",
       "stream": "stdout",
       "text": [
        "\r",
        "Loading frame 53 of 236"
       ]
      },
      {
       "output_type": "stream",
       "stream": "stdout",
       "text": [
        "\r",
        "Loading frame 54 of 236"
       ]
      },
      {
       "output_type": "stream",
       "stream": "stdout",
       "text": [
        "\r",
        "Loading frame 55 of 236"
       ]
      },
      {
       "output_type": "stream",
       "stream": "stdout",
       "text": [
        "\r",
        "Loading frame 56 of 236"
       ]
      },
      {
       "output_type": "stream",
       "stream": "stdout",
       "text": [
        "\r",
        "Loading frame 57 of 236"
       ]
      },
      {
       "output_type": "stream",
       "stream": "stdout",
       "text": [
        "\r",
        "Loading frame 58 of 236"
       ]
      },
      {
       "output_type": "stream",
       "stream": "stdout",
       "text": [
        "\r",
        "Loading frame 59 of 236"
       ]
      },
      {
       "output_type": "stream",
       "stream": "stdout",
       "text": [
        "\r",
        "Loading frame 60 of 236"
       ]
      },
      {
       "output_type": "stream",
       "stream": "stdout",
       "text": [
        "\r",
        "Loading frame 61 of 236"
       ]
      },
      {
       "output_type": "stream",
       "stream": "stdout",
       "text": [
        "\r",
        "Loading frame 62 of 236"
       ]
      },
      {
       "output_type": "stream",
       "stream": "stdout",
       "text": [
        "\r",
        "Loading frame 63 of 236"
       ]
      },
      {
       "output_type": "stream",
       "stream": "stdout",
       "text": [
        "\r",
        "Loading frame 64 of 236"
       ]
      },
      {
       "output_type": "stream",
       "stream": "stdout",
       "text": [
        "\r",
        "Loading frame 65 of 236"
       ]
      },
      {
       "output_type": "stream",
       "stream": "stdout",
       "text": [
        "\r",
        "Loading frame 66 of 236"
       ]
      },
      {
       "output_type": "stream",
       "stream": "stdout",
       "text": [
        "\r",
        "Loading frame 67 of 236"
       ]
      },
      {
       "output_type": "stream",
       "stream": "stdout",
       "text": [
        "\r",
        "Loading frame 68 of 236"
       ]
      },
      {
       "output_type": "stream",
       "stream": "stdout",
       "text": [
        "\r",
        "Loading frame 69 of 236"
       ]
      },
      {
       "output_type": "stream",
       "stream": "stdout",
       "text": [
        "\r",
        "Loading frame 70 of 236"
       ]
      },
      {
       "output_type": "stream",
       "stream": "stdout",
       "text": [
        "\r",
        "Loading frame 71 of 236"
       ]
      },
      {
       "output_type": "stream",
       "stream": "stdout",
       "text": [
        "\r",
        "Loading frame 72 of 236"
       ]
      },
      {
       "output_type": "stream",
       "stream": "stdout",
       "text": [
        "\r",
        "Loading frame 73 of 236"
       ]
      },
      {
       "output_type": "stream",
       "stream": "stdout",
       "text": [
        "\r",
        "Loading frame 74 of 236"
       ]
      },
      {
       "output_type": "stream",
       "stream": "stdout",
       "text": [
        "\r",
        "Loading frame 75 of 236"
       ]
      },
      {
       "output_type": "stream",
       "stream": "stdout",
       "text": [
        "\r",
        "Loading frame 76 of 236"
       ]
      },
      {
       "output_type": "stream",
       "stream": "stdout",
       "text": [
        "\r",
        "Loading frame 77 of 236"
       ]
      },
      {
       "output_type": "stream",
       "stream": "stdout",
       "text": [
        "\r",
        "Loading frame 78 of 236"
       ]
      },
      {
       "output_type": "stream",
       "stream": "stdout",
       "text": [
        "\r",
        "Loading frame 79 of 236"
       ]
      },
      {
       "output_type": "stream",
       "stream": "stdout",
       "text": [
        "\r",
        "Loading frame 80 of 236"
       ]
      },
      {
       "output_type": "stream",
       "stream": "stdout",
       "text": [
        "\r",
        "Loading frame 81 of 236"
       ]
      },
      {
       "output_type": "stream",
       "stream": "stdout",
       "text": [
        "\r",
        "Loading frame 82 of 236"
       ]
      },
      {
       "output_type": "stream",
       "stream": "stdout",
       "text": [
        "\r",
        "Loading frame 83 of 236"
       ]
      },
      {
       "output_type": "stream",
       "stream": "stdout",
       "text": [
        "\r",
        "Loading frame 84 of 236"
       ]
      },
      {
       "output_type": "stream",
       "stream": "stdout",
       "text": [
        "\r",
        "Loading frame 85 of 236"
       ]
      },
      {
       "output_type": "stream",
       "stream": "stdout",
       "text": [
        "\r",
        "Loading frame 86 of 236"
       ]
      },
      {
       "output_type": "stream",
       "stream": "stdout",
       "text": [
        "\r",
        "Loading frame 87 of 236"
       ]
      },
      {
       "output_type": "stream",
       "stream": "stdout",
       "text": [
        "\r",
        "Loading frame 88 of 236"
       ]
      },
      {
       "output_type": "stream",
       "stream": "stdout",
       "text": [
        "\r",
        "Loading frame 89 of 236"
       ]
      },
      {
       "output_type": "stream",
       "stream": "stdout",
       "text": [
        "\r",
        "Loading frame 90 of 236"
       ]
      },
      {
       "output_type": "stream",
       "stream": "stdout",
       "text": [
        "\r",
        "Loading frame 91 of 236"
       ]
      },
      {
       "output_type": "stream",
       "stream": "stdout",
       "text": [
        "\r",
        "Loading frame 92 of 236"
       ]
      },
      {
       "output_type": "stream",
       "stream": "stdout",
       "text": [
        "\r",
        "Loading frame 93 of 236"
       ]
      },
      {
       "output_type": "stream",
       "stream": "stdout",
       "text": [
        "\r",
        "Loading frame 94 of 236"
       ]
      },
      {
       "output_type": "stream",
       "stream": "stdout",
       "text": [
        "\r",
        "Loading frame 95 of 236"
       ]
      },
      {
       "output_type": "stream",
       "stream": "stdout",
       "text": [
        "\r",
        "Loading frame 96 of 236"
       ]
      },
      {
       "output_type": "stream",
       "stream": "stdout",
       "text": [
        "\r",
        "Loading frame 97 of 236"
       ]
      },
      {
       "output_type": "stream",
       "stream": "stdout",
       "text": [
        "\r",
        "Loading frame 98 of 236"
       ]
      },
      {
       "output_type": "stream",
       "stream": "stdout",
       "text": [
        "\r",
        "Loading frame 99 of 236"
       ]
      },
      {
       "output_type": "stream",
       "stream": "stdout",
       "text": [
        "\r",
        "Loading frame 100 of 236"
       ]
      },
      {
       "output_type": "stream",
       "stream": "stdout",
       "text": [
        "\r",
        "Loading frame 101 of 236"
       ]
      },
      {
       "output_type": "stream",
       "stream": "stdout",
       "text": [
        "\r",
        "Loading frame 102 of 236"
       ]
      },
      {
       "output_type": "stream",
       "stream": "stdout",
       "text": [
        "\r",
        "Loading frame 103 of 236"
       ]
      },
      {
       "output_type": "stream",
       "stream": "stdout",
       "text": [
        "\r",
        "Loading frame 104 of 236"
       ]
      },
      {
       "output_type": "stream",
       "stream": "stdout",
       "text": [
        "\r",
        "Loading frame 105 of 236"
       ]
      },
      {
       "output_type": "stream",
       "stream": "stdout",
       "text": [
        "\r",
        "Loading frame 106 of 236"
       ]
      },
      {
       "output_type": "stream",
       "stream": "stdout",
       "text": [
        "\r",
        "Loading frame 107 of 236"
       ]
      },
      {
       "output_type": "stream",
       "stream": "stdout",
       "text": [
        "\r",
        "Loading frame 108 of 236"
       ]
      },
      {
       "output_type": "stream",
       "stream": "stdout",
       "text": [
        "\r",
        "Loading frame 109 of 236"
       ]
      },
      {
       "output_type": "stream",
       "stream": "stdout",
       "text": [
        "\r",
        "Loading frame 110 of 236"
       ]
      },
      {
       "output_type": "stream",
       "stream": "stdout",
       "text": [
        "\r",
        "Loading frame 111 of 236"
       ]
      },
      {
       "output_type": "stream",
       "stream": "stdout",
       "text": [
        "\r",
        "Loading frame 112 of 236"
       ]
      },
      {
       "output_type": "stream",
       "stream": "stdout",
       "text": [
        "\r",
        "Loading frame 113 of 236"
       ]
      },
      {
       "output_type": "stream",
       "stream": "stdout",
       "text": [
        "\r",
        "Loading frame 114 of 236"
       ]
      },
      {
       "output_type": "stream",
       "stream": "stdout",
       "text": [
        "\r",
        "Loading frame 115 of 236"
       ]
      },
      {
       "output_type": "stream",
       "stream": "stdout",
       "text": [
        "\r",
        "Loading frame 116 of 236"
       ]
      },
      {
       "output_type": "stream",
       "stream": "stdout",
       "text": [
        "\r",
        "Loading frame 117 of 236"
       ]
      },
      {
       "output_type": "stream",
       "stream": "stdout",
       "text": [
        "\r",
        "Loading frame 118 of 236"
       ]
      },
      {
       "output_type": "stream",
       "stream": "stdout",
       "text": [
        "\r",
        "Loading frame 119 of 236"
       ]
      },
      {
       "output_type": "stream",
       "stream": "stdout",
       "text": [
        "\r",
        "Loading frame 120 of 236"
       ]
      },
      {
       "output_type": "stream",
       "stream": "stdout",
       "text": [
        "\r",
        "Loading frame 121 of 236"
       ]
      },
      {
       "output_type": "stream",
       "stream": "stdout",
       "text": [
        "\r",
        "Loading frame 122 of 236"
       ]
      },
      {
       "output_type": "stream",
       "stream": "stdout",
       "text": [
        "\r",
        "Loading frame 123 of 236"
       ]
      },
      {
       "output_type": "stream",
       "stream": "stdout",
       "text": [
        "\r",
        "Loading frame 124 of 236"
       ]
      },
      {
       "output_type": "stream",
       "stream": "stdout",
       "text": [
        "\r",
        "Loading frame 125 of 236"
       ]
      },
      {
       "output_type": "stream",
       "stream": "stdout",
       "text": [
        "\r",
        "Loading frame 126 of 236"
       ]
      },
      {
       "output_type": "stream",
       "stream": "stdout",
       "text": [
        "\r",
        "Loading frame 127 of 236"
       ]
      },
      {
       "output_type": "stream",
       "stream": "stdout",
       "text": [
        "\r",
        "Loading frame 128 of 236"
       ]
      },
      {
       "output_type": "stream",
       "stream": "stdout",
       "text": [
        "\r",
        "Loading frame 129 of 236"
       ]
      },
      {
       "output_type": "stream",
       "stream": "stdout",
       "text": [
        "\r",
        "Loading frame 130 of 236"
       ]
      },
      {
       "output_type": "stream",
       "stream": "stdout",
       "text": [
        "\r",
        "Loading frame 131 of 236"
       ]
      },
      {
       "output_type": "stream",
       "stream": "stdout",
       "text": [
        "\r",
        "Loading frame 132 of 236"
       ]
      },
      {
       "output_type": "stream",
       "stream": "stdout",
       "text": [
        "\r",
        "Loading frame 133 of 236"
       ]
      },
      {
       "output_type": "stream",
       "stream": "stdout",
       "text": [
        "\r",
        "Loading frame 134 of 236"
       ]
      },
      {
       "output_type": "stream",
       "stream": "stdout",
       "text": [
        "\r",
        "Loading frame 135 of 236"
       ]
      },
      {
       "output_type": "stream",
       "stream": "stdout",
       "text": [
        "\r",
        "Loading frame 136 of 236"
       ]
      },
      {
       "output_type": "stream",
       "stream": "stdout",
       "text": [
        "\r",
        "Loading frame 137 of 236"
       ]
      },
      {
       "output_type": "stream",
       "stream": "stdout",
       "text": [
        "\r",
        "Loading frame 138 of 236"
       ]
      },
      {
       "output_type": "stream",
       "stream": "stdout",
       "text": [
        "\r",
        "Loading frame 139 of 236"
       ]
      },
      {
       "output_type": "stream",
       "stream": "stdout",
       "text": [
        "\r",
        "Loading frame 140 of 236"
       ]
      },
      {
       "output_type": "stream",
       "stream": "stdout",
       "text": [
        "\r",
        "Loading frame 141 of 236"
       ]
      },
      {
       "output_type": "stream",
       "stream": "stdout",
       "text": [
        "\r",
        "Loading frame 142 of 236"
       ]
      },
      {
       "output_type": "stream",
       "stream": "stdout",
       "text": [
        "\r",
        "Loading frame 143 of 236"
       ]
      },
      {
       "output_type": "stream",
       "stream": "stdout",
       "text": [
        "\r",
        "Loading frame 144 of 236"
       ]
      },
      {
       "output_type": "stream",
       "stream": "stdout",
       "text": [
        "\r",
        "Loading frame 145 of 236"
       ]
      },
      {
       "output_type": "stream",
       "stream": "stdout",
       "text": [
        "\r",
        "Loading frame 146 of 236"
       ]
      },
      {
       "output_type": "stream",
       "stream": "stdout",
       "text": [
        "\r",
        "Loading frame 147 of 236"
       ]
      },
      {
       "output_type": "stream",
       "stream": "stdout",
       "text": [
        "\r",
        "Loading frame 148 of 236"
       ]
      },
      {
       "output_type": "stream",
       "stream": "stdout",
       "text": [
        "\r",
        "Loading frame 149 of 236"
       ]
      },
      {
       "output_type": "stream",
       "stream": "stdout",
       "text": [
        "\r",
        "Loading frame 150 of 236"
       ]
      },
      {
       "output_type": "stream",
       "stream": "stdout",
       "text": [
        "\r",
        "Loading frame 151 of 236"
       ]
      },
      {
       "output_type": "stream",
       "stream": "stdout",
       "text": [
        "\r",
        "Loading frame 152 of 236"
       ]
      },
      {
       "output_type": "stream",
       "stream": "stdout",
       "text": [
        "\r",
        "Loading frame 153 of 236"
       ]
      },
      {
       "output_type": "stream",
       "stream": "stdout",
       "text": [
        "\r",
        "Loading frame 154 of 236"
       ]
      },
      {
       "output_type": "stream",
       "stream": "stdout",
       "text": [
        "\r",
        "Loading frame 155 of 236"
       ]
      },
      {
       "output_type": "stream",
       "stream": "stdout",
       "text": [
        "\r",
        "Loading frame 156 of 236"
       ]
      },
      {
       "output_type": "stream",
       "stream": "stdout",
       "text": [
        "\r",
        "Loading frame 157 of 236"
       ]
      },
      {
       "output_type": "stream",
       "stream": "stdout",
       "text": [
        "\r",
        "Loading frame 158 of 236"
       ]
      },
      {
       "output_type": "stream",
       "stream": "stdout",
       "text": [
        "\r",
        "Loading frame 159 of 236"
       ]
      },
      {
       "output_type": "stream",
       "stream": "stdout",
       "text": [
        "\r",
        "Loading frame 160 of 236"
       ]
      },
      {
       "output_type": "stream",
       "stream": "stdout",
       "text": [
        "\r",
        "Loading frame 161 of 236"
       ]
      },
      {
       "output_type": "stream",
       "stream": "stdout",
       "text": [
        "\r",
        "Loading frame 162 of 236"
       ]
      },
      {
       "output_type": "stream",
       "stream": "stdout",
       "text": [
        "\r",
        "Loading frame 163 of 236"
       ]
      },
      {
       "output_type": "stream",
       "stream": "stdout",
       "text": [
        "\r",
        "Loading frame 164 of 236"
       ]
      },
      {
       "output_type": "stream",
       "stream": "stdout",
       "text": [
        "\r",
        "Loading frame 165 of 236"
       ]
      },
      {
       "output_type": "stream",
       "stream": "stdout",
       "text": [
        "\r",
        "Loading frame 166 of 236"
       ]
      },
      {
       "output_type": "stream",
       "stream": "stdout",
       "text": [
        "\r",
        "Loading frame 167 of 236"
       ]
      },
      {
       "output_type": "stream",
       "stream": "stdout",
       "text": [
        "\r",
        "Loading frame 168 of 236"
       ]
      },
      {
       "output_type": "stream",
       "stream": "stdout",
       "text": [
        "\r",
        "Loading frame 169 of 236"
       ]
      },
      {
       "output_type": "stream",
       "stream": "stdout",
       "text": [
        "\r",
        "Loading frame 170 of 236"
       ]
      },
      {
       "output_type": "stream",
       "stream": "stdout",
       "text": [
        "\r",
        "Loading frame 171 of 236"
       ]
      },
      {
       "output_type": "stream",
       "stream": "stdout",
       "text": [
        "\r",
        "Loading frame 172 of 236"
       ]
      },
      {
       "output_type": "stream",
       "stream": "stdout",
       "text": [
        "\r",
        "Loading frame 173 of 236"
       ]
      },
      {
       "output_type": "stream",
       "stream": "stdout",
       "text": [
        "\r",
        "Loading frame 174 of 236"
       ]
      },
      {
       "output_type": "stream",
       "stream": "stdout",
       "text": [
        "\r",
        "Loading frame 175 of 236"
       ]
      },
      {
       "output_type": "stream",
       "stream": "stdout",
       "text": [
        "\r",
        "Loading frame 176 of 236"
       ]
      },
      {
       "output_type": "stream",
       "stream": "stdout",
       "text": [
        "\r",
        "Loading frame 177 of 236"
       ]
      },
      {
       "output_type": "stream",
       "stream": "stdout",
       "text": [
        "\r",
        "Loading frame 178 of 236"
       ]
      },
      {
       "output_type": "stream",
       "stream": "stdout",
       "text": [
        "\r",
        "Loading frame 179 of 236"
       ]
      },
      {
       "output_type": "stream",
       "stream": "stdout",
       "text": [
        "\r",
        "Loading frame 180 of 236"
       ]
      },
      {
       "output_type": "stream",
       "stream": "stdout",
       "text": [
        "\r",
        "Loading frame 181 of 236"
       ]
      },
      {
       "output_type": "stream",
       "stream": "stdout",
       "text": [
        "\r",
        "Loading frame 182 of 236"
       ]
      },
      {
       "output_type": "stream",
       "stream": "stdout",
       "text": [
        "\r",
        "Loading frame 183 of 236"
       ]
      },
      {
       "output_type": "stream",
       "stream": "stdout",
       "text": [
        "\r",
        "Loading frame 184 of 236"
       ]
      },
      {
       "output_type": "stream",
       "stream": "stdout",
       "text": [
        "\r",
        "Loading frame 185 of 236"
       ]
      },
      {
       "output_type": "stream",
       "stream": "stdout",
       "text": [
        "\r",
        "Loading frame 186 of 236"
       ]
      },
      {
       "output_type": "stream",
       "stream": "stdout",
       "text": [
        "\r",
        "Loading frame 187 of 236"
       ]
      },
      {
       "output_type": "stream",
       "stream": "stdout",
       "text": [
        "\r",
        "Loading frame 188 of 236"
       ]
      },
      {
       "output_type": "stream",
       "stream": "stdout",
       "text": [
        "\r",
        "Loading frame 189 of 236"
       ]
      },
      {
       "output_type": "stream",
       "stream": "stdout",
       "text": [
        "\r",
        "Loading frame 190 of 236"
       ]
      },
      {
       "output_type": "stream",
       "stream": "stdout",
       "text": [
        "\r",
        "Loading frame 191 of 236"
       ]
      },
      {
       "output_type": "stream",
       "stream": "stdout",
       "text": [
        "\r",
        "Loading frame 192 of 236"
       ]
      },
      {
       "output_type": "stream",
       "stream": "stdout",
       "text": [
        "\r",
        "Loading frame 193 of 236"
       ]
      },
      {
       "output_type": "stream",
       "stream": "stdout",
       "text": [
        "\r",
        "Loading frame 194 of 236"
       ]
      },
      {
       "output_type": "stream",
       "stream": "stdout",
       "text": [
        "\r",
        "Loading frame 195 of 236"
       ]
      },
      {
       "output_type": "stream",
       "stream": "stdout",
       "text": [
        "\r",
        "Loading frame 196 of 236"
       ]
      },
      {
       "output_type": "stream",
       "stream": "stdout",
       "text": [
        "\r",
        "Loading frame 197 of 236"
       ]
      },
      {
       "output_type": "stream",
       "stream": "stdout",
       "text": [
        "\r",
        "Loading frame 198 of 236"
       ]
      },
      {
       "output_type": "stream",
       "stream": "stdout",
       "text": [
        "\r",
        "Loading frame 199 of 236"
       ]
      },
      {
       "output_type": "stream",
       "stream": "stdout",
       "text": [
        "\r",
        "Loading frame 200 of 236"
       ]
      },
      {
       "output_type": "stream",
       "stream": "stdout",
       "text": [
        "\r",
        "Loading frame 201 of 236"
       ]
      },
      {
       "output_type": "stream",
       "stream": "stdout",
       "text": [
        "\r",
        "Loading frame 202 of 236"
       ]
      },
      {
       "output_type": "stream",
       "stream": "stdout",
       "text": [
        "\r",
        "Loading frame 203 of 236"
       ]
      },
      {
       "output_type": "stream",
       "stream": "stdout",
       "text": [
        "\r",
        "Loading frame 204 of 236"
       ]
      },
      {
       "output_type": "stream",
       "stream": "stdout",
       "text": [
        "\r",
        "Loading frame 205 of 236"
       ]
      },
      {
       "output_type": "stream",
       "stream": "stdout",
       "text": [
        "\r",
        "Loading frame 206 of 236"
       ]
      },
      {
       "output_type": "stream",
       "stream": "stdout",
       "text": [
        "\r",
        "Loading frame 207 of 236"
       ]
      },
      {
       "output_type": "stream",
       "stream": "stdout",
       "text": [
        "\r",
        "Loading frame 208 of 236"
       ]
      },
      {
       "output_type": "stream",
       "stream": "stdout",
       "text": [
        "\r",
        "Loading frame 209 of 236"
       ]
      },
      {
       "output_type": "stream",
       "stream": "stdout",
       "text": [
        "\r",
        "Loading frame 210 of 236"
       ]
      },
      {
       "output_type": "stream",
       "stream": "stdout",
       "text": [
        "\r",
        "Loading frame 211 of 236"
       ]
      },
      {
       "output_type": "stream",
       "stream": "stdout",
       "text": [
        "\r",
        "Loading frame 212 of 236"
       ]
      },
      {
       "output_type": "stream",
       "stream": "stdout",
       "text": [
        "\r",
        "Loading frame 213 of 236"
       ]
      },
      {
       "output_type": "stream",
       "stream": "stdout",
       "text": [
        "\r",
        "Loading frame 214 of 236"
       ]
      },
      {
       "output_type": "stream",
       "stream": "stdout",
       "text": [
        "\r",
        "Loading frame 215 of 236"
       ]
      },
      {
       "output_type": "stream",
       "stream": "stdout",
       "text": [
        "\r",
        "Loading frame 216 of 236"
       ]
      },
      {
       "output_type": "stream",
       "stream": "stdout",
       "text": [
        "\r",
        "Loading frame 217 of 236"
       ]
      },
      {
       "output_type": "stream",
       "stream": "stdout",
       "text": [
        "\r",
        "Loading frame 218 of 236"
       ]
      },
      {
       "output_type": "stream",
       "stream": "stdout",
       "text": [
        "\r",
        "Loading frame 219 of 236"
       ]
      },
      {
       "output_type": "stream",
       "stream": "stdout",
       "text": [
        "\r",
        "Loading frame 220 of 236"
       ]
      },
      {
       "output_type": "stream",
       "stream": "stdout",
       "text": [
        "\r",
        "Loading frame 221 of 236"
       ]
      },
      {
       "output_type": "stream",
       "stream": "stdout",
       "text": [
        "\r",
        "Loading frame 222 of 236"
       ]
      },
      {
       "output_type": "stream",
       "stream": "stdout",
       "text": [
        "\r",
        "Loading frame 223 of 236"
       ]
      },
      {
       "output_type": "stream",
       "stream": "stdout",
       "text": [
        "\r",
        "Loading frame 224 of 236"
       ]
      },
      {
       "output_type": "stream",
       "stream": "stdout",
       "text": [
        "\r",
        "Loading frame 225 of 236"
       ]
      },
      {
       "output_type": "stream",
       "stream": "stdout",
       "text": [
        "\r",
        "Loading frame 226 of 236"
       ]
      },
      {
       "output_type": "stream",
       "stream": "stdout",
       "text": [
        "\r",
        "Loading frame 227 of 236"
       ]
      },
      {
       "output_type": "stream",
       "stream": "stdout",
       "text": [
        "\r",
        "Loading frame 228 of 236"
       ]
      },
      {
       "output_type": "stream",
       "stream": "stdout",
       "text": [
        "\r",
        "Loading frame 229 of 236"
       ]
      },
      {
       "output_type": "stream",
       "stream": "stdout",
       "text": [
        "\r",
        "Loading frame 230 of 236"
       ]
      },
      {
       "output_type": "stream",
       "stream": "stdout",
       "text": [
        "\r",
        "Loading frame 231 of 236"
       ]
      },
      {
       "output_type": "stream",
       "stream": "stdout",
       "text": [
        "\r",
        "Loading frame 232 of 236"
       ]
      },
      {
       "output_type": "stream",
       "stream": "stdout",
       "text": [
        "\r",
        "Loading frame 233 of 236"
       ]
      },
      {
       "output_type": "stream",
       "stream": "stdout",
       "text": [
        "\r",
        "Loading frame 234 of 236"
       ]
      },
      {
       "output_type": "stream",
       "stream": "stdout",
       "text": [
        "\r",
        "Loading frame 235 of 236"
       ]
      }
     ],
     "prompt_number": 5
    },
    {
     "cell_type": "code",
     "collapsed": false,
     "input": [
      "close('all')\n",
      "## show first image and let user draw some points\n",
      "fig = plt.figure()\n",
      "ax = fig.add_subplot(111)\n",
      "firstFrame = cv2.cvtColor(movie[:, :, :, 0], cv2.COLOR_BGR2RGB)\n",
      "ax.imshow(firstFrame)\n",
      "ax.set_autoscale_on(False)\n",
      "# ax.set_xlim(firstFrame.shape[1])\n",
      "# ax.set_ylim(firstFrame.shape[0])\n",
      "\n",
      "userPoints = list()\n",
      "line, = ax.plot(0, 0, color='b', lw=4.0)\n",
      "buttonClicked = False\n",
      "\n",
      "def onclick(event):\n",
      "    global buttonClicked\n",
      "    global userPoints\n",
      "    if event.button == 1 :\n",
      "        buttonClicked = True\n",
      "        userPoints = list()\n",
      "        userPoints.append(np.array([event.xdata, event.ydata]))\n",
      "\n",
      "def onmove(event):\n",
      "    global buttonClicked\n",
      "    global userPoints\n",
      "    global line\n",
      "    if buttonClicked == True :\n",
      "        userPoints.append(np.array([event.xdata, event.ydata]))\n",
      "        line.set_ydata(np.array(userPoints)[:, 1])\n",
      "        line.set_xdata(np.array(userPoints)[:, 0])\n",
      "        draw()\n",
      "        \n",
      "def onrelease(event):\n",
      "    global buttonClicked\n",
      "    global userPoints\n",
      "    global line\n",
      "    if buttonClicked == True and event.button == 1 :\n",
      "        buttonClicked = False\n",
      "        userPoints.append(np.array([event.xdata, event.ydata]))\n",
      "        line.set_ydata(np.array(userPoints)[:, 1])\n",
      "        line.set_xdata(np.array(userPoints)[:, 0])\n",
      "        draw()\n",
      "    \n",
      "cid = fig.canvas.mpl_connect('button_press_event', onclick)\n",
      "cid = fig.canvas.mpl_connect('motion_notify_event', onmove)\n",
      "cid = fig.canvas.mpl_connect('button_release_event', onrelease)"
     ],
     "language": "python",
     "metadata": {},
     "outputs": [],
     "prompt_number": 6
    },
    {
     "cell_type": "code",
     "collapsed": false,
     "input": [
      "## find bestFitLine that best fits user given points and that will be the skeleton --> one line for now\n",
      "userPoints = np.round(np.array(userPoints))\n",
      "line = msu.fitLine2D(userPoints)\n",
      "## project first and last userPoint onto line\n",
      "u = line[0:2]\n",
      "a = line[2:4]\n",
      "\n",
      "## first row is first point, second row is last point (project first and last user points onto fitted line)\n",
      "bestFitLine = ((np.dot(userPoints[[0, -1], :], u)/np.dot(u, u))*np.reshape(u, [len(u), 1])).T\n",
      "\n",
      "## normalized vector from projected point to user point is line normal\n",
      "lineNormal = (bestFitLine[0, :]-userPoints[0, :])/np.linalg.norm(bestFitLine[0, :]-userPoints[0, :])\n",
      "## the fitted line is moved along normal by a certain scalar (i.e. distanceToLine)\n",
      "distanceToLine = np.linalg.norm(a - bestFitLine[0, :] - np.dot(np.dot(a-bestFitLine[0, :], u), u))\n",
      "## correct for that certain scalar found above\n",
      "bestFitLine =  bestFitLine - distanceToLine*lineNormal\n",
      "\n",
      "## show\n",
      "fig = plt.figure()\n",
      "ax = fig.add_subplot(111)\n",
      "ax.imshow(firstFrame)\n",
      "ax.set_autoscale_on(False)\n",
      "ax.plot(userPoints[:, 0], userPoints[:, 1], color=\"b\") ## plot user points\n",
      "ax.plot(bestFitLine[:, 0],bestFitLine[:, 1], color=\"g\") ## plot fitted line segment\n",
      "\n",
      "\n",
      "# print userPoints"
     ],
     "language": "python",
     "metadata": {},
     "outputs": [
      {
       "metadata": {},
       "output_type": "pyout",
       "prompt_number": 7,
       "text": [
        "[<matplotlib.lines.Line2D at 0x7f309803a150>]"
       ]
      }
     ],
     "prompt_number": 7
    },
    {
     "cell_type": "code",
     "collapsed": false,
     "input": [
      "## compute canny edge for first frame\n",
      "frame = cv2.cvtColor(movie[:, :, :, 0],cv2.COLOR_BGR2GRAY)\n",
      "\n",
      "edges = cv2.Canny(frame, 100, 200)\n",
      "\n",
      "figure(); imshow(edges, interpolation='nearest')\n",
      "\n",
      "# dilEdges1 = sp.ndimage.morphology.binary_dilation(edges1, iterations=5)\n",
      "# dilEdges2 = sp.ndimage.morphology.binary_dilation(edges2, iterations=5)\n",
      "\n",
      "discreteLine = discretizeLine(bestFitLine)\n",
      "distanceMatrix = np.ones(firstFrame.shape[0:-1], dtype=np.uint)\n",
      "distanceMatrix[discreteLine[:, 1], discreteLine[:, 0]] = 0\n",
      "distanceMatrix = ndimage.distance_transform_edt(distanceMatrix)\n",
      "\n",
      "figure(); imshow(distanceMatrix*edges, interpolation='nearest')"
     ],
     "language": "python",
     "metadata": {},
     "outputs": [
      {
       "metadata": {},
       "output_type": "pyout",
       "prompt_number": 8,
       "text": [
        "<matplotlib.image.AxesImage at 0x7f3091728090>"
       ]
      }
     ],
     "prompt_number": 8
    },
    {
     "cell_type": "code",
     "collapsed": false,
     "input": [
      "## now check for each discrete point on line segment what's the closest canny edge in both positive and negative half space\n",
      "\n",
      "posHalfSpaceClosestEdges = np.zeros_like(discreteLine)\n",
      "negHalfSpaceClosestEdges = np.zeros_like(discreteLine)\n",
      "\n",
      "positiveMask = positiveHalfspaceMask(np.vstack((discreteLine[0, :], discreteLine[-1, :])), firstFrame.shape[0:2], True)\n",
      "figure(); imshow(positiveMask, interpolation='nearest')\n",
      "\n",
      "dCoords = discreteLine[0, :] - discreteLine[-1, :] ## delta coordinates, dX and dY\n",
      "discreteNormals = np.array([[-dCoords[1], dCoords[0]],[dCoords[1], -dCoords[0]]])\n",
      "\n",
      "fig = plt.figure(figsize=(10, 10))\n",
      "\n",
      "ax = fig.add_subplot(111)\n",
      "ax.set_xlabel('X')\n",
      "ax.set_ylabel('Y')\n",
      "ax.imshow(distanceMatrix*edges, interpolation='nearest')\n",
      "\n",
      "ax.plot(bestFitLine[:, 0], bestFitLine[:, 1], c='r')\n",
      "\n",
      "for i in xrange(0, len(discreteLine)) :\n",
      "    print i, \n",
      "    currentPoint = discreteLine[i, :]\n",
      "    splitPoints = findSplitSegment(np.hstack((discreteNormals[0, :], currentPoint)), [firstFrame.shape[0]-1,firstFrame.shape[1]-1])\n",
      "    seg = np.vstack((splitPoints[0, :], splitPoints[1, :]))\n",
      "    dSeg = discretizeLine(seg)\n",
      "    \n",
      "    mask = np.zeros(firstFrame.shape[0:-1], dtype=np.uint)\n",
      "    mask[dSeg[:, 1], dSeg[:, 0]] = 1\n",
      "    \n",
      "    filteredDistMat = distanceMatrix*edges*mask*positiveMask\n",
      "    posHalfSpaceClosestEdges[i, :] = np.argwhere(filteredDistMat == np.min(filteredDistMat[np.where(filteredDistMat > 0)]))[0]\n",
      "    \n",
      "    filteredDistMat = distanceMatrix*edges*mask*(1-positiveMask)\n",
      "    negHalfSpaceClosestEdges[i, :] = np.argwhere(filteredDistMat == np.min(filteredDistMat[np.where(filteredDistMat > 0)]))[0]\n",
      "    \n",
      "    ax.scatter(splitPoints[:, 0], splitPoints[:, 1], c='r')\n",
      "    draw()\n",
      "\n",
      "ax.scatter(negHalfSpaceClosestEdges[:, 1], negHalfSpaceClosestEdges[:, 0], c='y')\n",
      "\n",
      "ax.scatter(posHalfSpaceClosestEdges[:, 1], posHalfSpaceClosestEdges[:, 0], c='g')\n",
      "draw()"
     ],
     "language": "python",
     "metadata": {},
     "outputs": [
      {
       "output_type": "stream",
       "stream": "stdout",
       "text": [
        "0 "
       ]
      },
      {
       "output_type": "stream",
       "stream": "stdout",
       "text": [
        "1 "
       ]
      },
      {
       "output_type": "stream",
       "stream": "stdout",
       "text": [
        "2 "
       ]
      },
      {
       "output_type": "stream",
       "stream": "stdout",
       "text": [
        "3 "
       ]
      },
      {
       "output_type": "stream",
       "stream": "stdout",
       "text": [
        "4 "
       ]
      },
      {
       "output_type": "stream",
       "stream": "stdout",
       "text": [
        "5 "
       ]
      },
      {
       "output_type": "stream",
       "stream": "stdout",
       "text": [
        "6 "
       ]
      },
      {
       "output_type": "stream",
       "stream": "stdout",
       "text": [
        "7 "
       ]
      },
      {
       "output_type": "stream",
       "stream": "stdout",
       "text": [
        "8 "
       ]
      },
      {
       "output_type": "stream",
       "stream": "stdout",
       "text": [
        "9 "
       ]
      },
      {
       "output_type": "stream",
       "stream": "stdout",
       "text": [
        "10 "
       ]
      },
      {
       "output_type": "stream",
       "stream": "stdout",
       "text": [
        "11 "
       ]
      },
      {
       "output_type": "stream",
       "stream": "stdout",
       "text": [
        "12 "
       ]
      },
      {
       "output_type": "stream",
       "stream": "stdout",
       "text": [
        "13 "
       ]
      },
      {
       "output_type": "stream",
       "stream": "stdout",
       "text": [
        "14 "
       ]
      },
      {
       "output_type": "stream",
       "stream": "stdout",
       "text": [
        "15 "
       ]
      },
      {
       "output_type": "stream",
       "stream": "stdout",
       "text": [
        "16 "
       ]
      },
      {
       "output_type": "stream",
       "stream": "stdout",
       "text": [
        "17 "
       ]
      },
      {
       "output_type": "stream",
       "stream": "stdout",
       "text": [
        "18 "
       ]
      },
      {
       "output_type": "stream",
       "stream": "stdout",
       "text": [
        "19 "
       ]
      },
      {
       "output_type": "stream",
       "stream": "stdout",
       "text": [
        "20 "
       ]
      },
      {
       "output_type": "stream",
       "stream": "stdout",
       "text": [
        "21 "
       ]
      },
      {
       "output_type": "stream",
       "stream": "stdout",
       "text": [
        "22 "
       ]
      },
      {
       "output_type": "stream",
       "stream": "stdout",
       "text": [
        "23 "
       ]
      },
      {
       "output_type": "stream",
       "stream": "stdout",
       "text": [
        "24 "
       ]
      },
      {
       "output_type": "stream",
       "stream": "stdout",
       "text": [
        "25 "
       ]
      },
      {
       "output_type": "stream",
       "stream": "stdout",
       "text": [
        "26 "
       ]
      },
      {
       "output_type": "stream",
       "stream": "stdout",
       "text": [
        "27 "
       ]
      },
      {
       "output_type": "stream",
       "stream": "stdout",
       "text": [
        "28 "
       ]
      },
      {
       "output_type": "stream",
       "stream": "stdout",
       "text": [
        "29 "
       ]
      },
      {
       "output_type": "stream",
       "stream": "stdout",
       "text": [
        "30 "
       ]
      },
      {
       "output_type": "stream",
       "stream": "stdout",
       "text": [
        "31 "
       ]
      },
      {
       "output_type": "stream",
       "stream": "stdout",
       "text": [
        "32 "
       ]
      },
      {
       "output_type": "stream",
       "stream": "stdout",
       "text": [
        "33 "
       ]
      },
      {
       "output_type": "stream",
       "stream": "stdout",
       "text": [
        "34 "
       ]
      },
      {
       "output_type": "stream",
       "stream": "stdout",
       "text": [
        "35 "
       ]
      },
      {
       "output_type": "stream",
       "stream": "stdout",
       "text": [
        "36 "
       ]
      },
      {
       "output_type": "stream",
       "stream": "stdout",
       "text": [
        "37 "
       ]
      },
      {
       "output_type": "stream",
       "stream": "stdout",
       "text": [
        "38 "
       ]
      },
      {
       "output_type": "stream",
       "stream": "stdout",
       "text": [
        "39 "
       ]
      },
      {
       "output_type": "stream",
       "stream": "stdout",
       "text": [
        "40 "
       ]
      },
      {
       "output_type": "stream",
       "stream": "stdout",
       "text": [
        "41 "
       ]
      },
      {
       "output_type": "stream",
       "stream": "stdout",
       "text": [
        "42 "
       ]
      },
      {
       "output_type": "stream",
       "stream": "stdout",
       "text": [
        "43 "
       ]
      },
      {
       "output_type": "stream",
       "stream": "stdout",
       "text": [
        "44 "
       ]
      },
      {
       "output_type": "stream",
       "stream": "stdout",
       "text": [
        "45 "
       ]
      },
      {
       "output_type": "stream",
       "stream": "stdout",
       "text": [
        "46 "
       ]
      },
      {
       "output_type": "stream",
       "stream": "stdout",
       "text": [
        "47 "
       ]
      },
      {
       "output_type": "stream",
       "stream": "stdout",
       "text": [
        "48 "
       ]
      },
      {
       "output_type": "stream",
       "stream": "stdout",
       "text": [
        "49 "
       ]
      },
      {
       "output_type": "stream",
       "stream": "stdout",
       "text": [
        "50 "
       ]
      },
      {
       "output_type": "stream",
       "stream": "stdout",
       "text": [
        "51 "
       ]
      },
      {
       "output_type": "stream",
       "stream": "stdout",
       "text": [
        "52 "
       ]
      },
      {
       "output_type": "stream",
       "stream": "stdout",
       "text": [
        "53 "
       ]
      },
      {
       "output_type": "stream",
       "stream": "stdout",
       "text": [
        "54 "
       ]
      },
      {
       "output_type": "stream",
       "stream": "stdout",
       "text": [
        "55 "
       ]
      },
      {
       "output_type": "stream",
       "stream": "stdout",
       "text": [
        "56 "
       ]
      },
      {
       "output_type": "stream",
       "stream": "stdout",
       "text": [
        "57 "
       ]
      },
      {
       "output_type": "stream",
       "stream": "stdout",
       "text": [
        "58 "
       ]
      },
      {
       "output_type": "stream",
       "stream": "stdout",
       "text": [
        "59 "
       ]
      },
      {
       "output_type": "stream",
       "stream": "stdout",
       "text": [
        "60 "
       ]
      },
      {
       "output_type": "stream",
       "stream": "stdout",
       "text": [
        "61 "
       ]
      },
      {
       "output_type": "stream",
       "stream": "stdout",
       "text": [
        "62 "
       ]
      },
      {
       "output_type": "stream",
       "stream": "stdout",
       "text": [
        "63 "
       ]
      },
      {
       "output_type": "stream",
       "stream": "stdout",
       "text": [
        "64 "
       ]
      },
      {
       "output_type": "stream",
       "stream": "stdout",
       "text": [
        "65 "
       ]
      },
      {
       "output_type": "stream",
       "stream": "stdout",
       "text": [
        "66 "
       ]
      },
      {
       "output_type": "stream",
       "stream": "stdout",
       "text": [
        "67 "
       ]
      },
      {
       "output_type": "stream",
       "stream": "stdout",
       "text": [
        "68 "
       ]
      },
      {
       "output_type": "stream",
       "stream": "stdout",
       "text": [
        "69 "
       ]
      },
      {
       "output_type": "stream",
       "stream": "stdout",
       "text": [
        "70 "
       ]
      },
      {
       "output_type": "stream",
       "stream": "stdout",
       "text": [
        "71 "
       ]
      },
      {
       "output_type": "stream",
       "stream": "stdout",
       "text": [
        "72 "
       ]
      },
      {
       "output_type": "stream",
       "stream": "stdout",
       "text": [
        "73 "
       ]
      },
      {
       "output_type": "stream",
       "stream": "stdout",
       "text": [
        "74 "
       ]
      },
      {
       "output_type": "stream",
       "stream": "stdout",
       "text": [
        "75 "
       ]
      },
      {
       "output_type": "stream",
       "stream": "stdout",
       "text": [
        "76 "
       ]
      },
      {
       "output_type": "stream",
       "stream": "stdout",
       "text": [
        "77 "
       ]
      },
      {
       "output_type": "stream",
       "stream": "stdout",
       "text": [
        "78 "
       ]
      },
      {
       "output_type": "stream",
       "stream": "stdout",
       "text": [
        "79 "
       ]
      },
      {
       "output_type": "stream",
       "stream": "stdout",
       "text": [
        "80 "
       ]
      },
      {
       "output_type": "stream",
       "stream": "stdout",
       "text": [
        "81 "
       ]
      },
      {
       "output_type": "stream",
       "stream": "stdout",
       "text": [
        "82 "
       ]
      },
      {
       "output_type": "stream",
       "stream": "stdout",
       "text": [
        "83 "
       ]
      },
      {
       "output_type": "stream",
       "stream": "stdout",
       "text": [
        "84 "
       ]
      },
      {
       "output_type": "stream",
       "stream": "stdout",
       "text": [
        "85 "
       ]
      },
      {
       "output_type": "stream",
       "stream": "stdout",
       "text": [
        "86 "
       ]
      },
      {
       "output_type": "stream",
       "stream": "stdout",
       "text": [
        "87 "
       ]
      },
      {
       "output_type": "stream",
       "stream": "stdout",
       "text": [
        "88 "
       ]
      },
      {
       "output_type": "stream",
       "stream": "stdout",
       "text": [
        "89 "
       ]
      },
      {
       "output_type": "stream",
       "stream": "stdout",
       "text": [
        "90 "
       ]
      },
      {
       "output_type": "stream",
       "stream": "stdout",
       "text": [
        "91 "
       ]
      },
      {
       "output_type": "stream",
       "stream": "stdout",
       "text": [
        "92 "
       ]
      },
      {
       "output_type": "stream",
       "stream": "stdout",
       "text": [
        "93 "
       ]
      },
      {
       "output_type": "stream",
       "stream": "stdout",
       "text": [
        "94 "
       ]
      },
      {
       "output_type": "stream",
       "stream": "stdout",
       "text": [
        "95 "
       ]
      },
      {
       "output_type": "stream",
       "stream": "stdout",
       "text": [
        "96 "
       ]
      },
      {
       "output_type": "stream",
       "stream": "stdout",
       "text": [
        "97 "
       ]
      },
      {
       "output_type": "stream",
       "stream": "stdout",
       "text": [
        "98 "
       ]
      },
      {
       "output_type": "stream",
       "stream": "stdout",
       "text": [
        "99 "
       ]
      },
      {
       "output_type": "stream",
       "stream": "stdout",
       "text": [
        "100 "
       ]
      },
      {
       "output_type": "stream",
       "stream": "stdout",
       "text": [
        "101 "
       ]
      },
      {
       "output_type": "stream",
       "stream": "stdout",
       "text": [
        "102 "
       ]
      },
      {
       "output_type": "stream",
       "stream": "stdout",
       "text": [
        "103 "
       ]
      },
      {
       "output_type": "stream",
       "stream": "stdout",
       "text": [
        "104 "
       ]
      },
      {
       "output_type": "stream",
       "stream": "stdout",
       "text": [
        "105 "
       ]
      },
      {
       "output_type": "stream",
       "stream": "stdout",
       "text": [
        "106 "
       ]
      },
      {
       "output_type": "stream",
       "stream": "stdout",
       "text": [
        "107 "
       ]
      },
      {
       "output_type": "stream",
       "stream": "stdout",
       "text": [
        "108 "
       ]
      },
      {
       "output_type": "stream",
       "stream": "stdout",
       "text": [
        "109 "
       ]
      },
      {
       "output_type": "stream",
       "stream": "stdout",
       "text": [
        "110 "
       ]
      },
      {
       "output_type": "stream",
       "stream": "stdout",
       "text": [
        "111 "
       ]
      },
      {
       "output_type": "stream",
       "stream": "stdout",
       "text": [
        "112 "
       ]
      },
      {
       "output_type": "stream",
       "stream": "stdout",
       "text": [
        "113 "
       ]
      },
      {
       "output_type": "stream",
       "stream": "stdout",
       "text": [
        "114 "
       ]
      },
      {
       "output_type": "stream",
       "stream": "stdout",
       "text": [
        "115 "
       ]
      },
      {
       "output_type": "stream",
       "stream": "stdout",
       "text": [
        "116 "
       ]
      },
      {
       "output_type": "stream",
       "stream": "stdout",
       "text": [
        "117 "
       ]
      },
      {
       "output_type": "stream",
       "stream": "stdout",
       "text": [
        "118 "
       ]
      },
      {
       "output_type": "stream",
       "stream": "stdout",
       "text": [
        "119 "
       ]
      },
      {
       "output_type": "stream",
       "stream": "stdout",
       "text": [
        "120 "
       ]
      },
      {
       "output_type": "stream",
       "stream": "stdout",
       "text": [
        "121 "
       ]
      },
      {
       "output_type": "stream",
       "stream": "stdout",
       "text": [
        "122 "
       ]
      },
      {
       "output_type": "stream",
       "stream": "stdout",
       "text": [
        "123 "
       ]
      },
      {
       "output_type": "stream",
       "stream": "stdout",
       "text": [
        "124 "
       ]
      },
      {
       "output_type": "stream",
       "stream": "stdout",
       "text": [
        "125 "
       ]
      },
      {
       "output_type": "stream",
       "stream": "stdout",
       "text": [
        "126 "
       ]
      },
      {
       "output_type": "stream",
       "stream": "stdout",
       "text": [
        "127 "
       ]
      },
      {
       "output_type": "stream",
       "stream": "stdout",
       "text": [
        "128 "
       ]
      },
      {
       "output_type": "stream",
       "stream": "stdout",
       "text": [
        "129 "
       ]
      },
      {
       "output_type": "stream",
       "stream": "stdout",
       "text": [
        "130 "
       ]
      },
      {
       "output_type": "stream",
       "stream": "stdout",
       "text": [
        "131 "
       ]
      },
      {
       "output_type": "stream",
       "stream": "stdout",
       "text": [
        "132 "
       ]
      },
      {
       "output_type": "stream",
       "stream": "stdout",
       "text": [
        "133 "
       ]
      },
      {
       "output_type": "stream",
       "stream": "stdout",
       "text": [
        "134 "
       ]
      },
      {
       "output_type": "stream",
       "stream": "stdout",
       "text": [
        "135 "
       ]
      },
      {
       "output_type": "stream",
       "stream": "stdout",
       "text": [
        "136 "
       ]
      },
      {
       "output_type": "stream",
       "stream": "stdout",
       "text": [
        "137 "
       ]
      },
      {
       "output_type": "stream",
       "stream": "stdout",
       "text": [
        "138 "
       ]
      },
      {
       "output_type": "stream",
       "stream": "stdout",
       "text": [
        "139 "
       ]
      },
      {
       "output_type": "stream",
       "stream": "stdout",
       "text": [
        "140 "
       ]
      },
      {
       "output_type": "stream",
       "stream": "stdout",
       "text": [
        "141 "
       ]
      },
      {
       "output_type": "stream",
       "stream": "stdout",
       "text": [
        "142 "
       ]
      },
      {
       "output_type": "stream",
       "stream": "stdout",
       "text": [
        "143 "
       ]
      },
      {
       "output_type": "stream",
       "stream": "stdout",
       "text": [
        "144 "
       ]
      },
      {
       "output_type": "stream",
       "stream": "stdout",
       "text": [
        "145 "
       ]
      },
      {
       "output_type": "stream",
       "stream": "stdout",
       "text": [
        "146 "
       ]
      },
      {
       "output_type": "stream",
       "stream": "stdout",
       "text": [
        "147 "
       ]
      },
      {
       "output_type": "stream",
       "stream": "stdout",
       "text": [
        "148 "
       ]
      },
      {
       "output_type": "stream",
       "stream": "stdout",
       "text": [
        "149 "
       ]
      },
      {
       "output_type": "stream",
       "stream": "stdout",
       "text": [
        "150 "
       ]
      },
      {
       "output_type": "stream",
       "stream": "stdout",
       "text": [
        "151 "
       ]
      },
      {
       "output_type": "stream",
       "stream": "stdout",
       "text": [
        "152 "
       ]
      },
      {
       "output_type": "stream",
       "stream": "stdout",
       "text": [
        "153 "
       ]
      },
      {
       "output_type": "stream",
       "stream": "stdout",
       "text": [
        "154 "
       ]
      },
      {
       "output_type": "stream",
       "stream": "stdout",
       "text": [
        "155 "
       ]
      },
      {
       "output_type": "stream",
       "stream": "stdout",
       "text": [
        "156 "
       ]
      },
      {
       "output_type": "stream",
       "stream": "stdout",
       "text": [
        "157 "
       ]
      },
      {
       "output_type": "stream",
       "stream": "stdout",
       "text": [
        "158 "
       ]
      },
      {
       "output_type": "stream",
       "stream": "stdout",
       "text": [
        "159 "
       ]
      },
      {
       "output_type": "stream",
       "stream": "stdout",
       "text": [
        "160 "
       ]
      },
      {
       "output_type": "stream",
       "stream": "stdout",
       "text": [
        "161 "
       ]
      },
      {
       "output_type": "stream",
       "stream": "stdout",
       "text": [
        "162 "
       ]
      },
      {
       "output_type": "stream",
       "stream": "stdout",
       "text": [
        "163 "
       ]
      },
      {
       "output_type": "stream",
       "stream": "stdout",
       "text": [
        "164 "
       ]
      },
      {
       "output_type": "stream",
       "stream": "stdout",
       "text": [
        "165 "
       ]
      },
      {
       "output_type": "stream",
       "stream": "stdout",
       "text": [
        "166 "
       ]
      },
      {
       "output_type": "stream",
       "stream": "stdout",
       "text": [
        "167 "
       ]
      },
      {
       "output_type": "stream",
       "stream": "stdout",
       "text": [
        "168 "
       ]
      },
      {
       "output_type": "stream",
       "stream": "stdout",
       "text": [
        "169 "
       ]
      },
      {
       "output_type": "stream",
       "stream": "stdout",
       "text": [
        "170 "
       ]
      },
      {
       "output_type": "stream",
       "stream": "stdout",
       "text": [
        "171 "
       ]
      },
      {
       "output_type": "stream",
       "stream": "stdout",
       "text": [
        "172 "
       ]
      },
      {
       "output_type": "stream",
       "stream": "stdout",
       "text": [
        "173 "
       ]
      },
      {
       "output_type": "stream",
       "stream": "stdout",
       "text": [
        "174 "
       ]
      },
      {
       "output_type": "stream",
       "stream": "stdout",
       "text": [
        "175 "
       ]
      },
      {
       "output_type": "stream",
       "stream": "stdout",
       "text": [
        "176 "
       ]
      },
      {
       "output_type": "stream",
       "stream": "stdout",
       "text": [
        "177 "
       ]
      },
      {
       "output_type": "stream",
       "stream": "stdout",
       "text": [
        "178 "
       ]
      },
      {
       "output_type": "stream",
       "stream": "stdout",
       "text": [
        "179 "
       ]
      },
      {
       "output_type": "stream",
       "stream": "stdout",
       "text": [
        "180 "
       ]
      },
      {
       "output_type": "stream",
       "stream": "stdout",
       "text": [
        "181 "
       ]
      },
      {
       "output_type": "stream",
       "stream": "stdout",
       "text": [
        "182 "
       ]
      },
      {
       "output_type": "stream",
       "stream": "stdout",
       "text": [
        "183 "
       ]
      },
      {
       "output_type": "stream",
       "stream": "stdout",
       "text": [
        "184 "
       ]
      },
      {
       "output_type": "stream",
       "stream": "stdout",
       "text": [
        "185 "
       ]
      },
      {
       "output_type": "stream",
       "stream": "stdout",
       "text": [
        "186 "
       ]
      },
      {
       "output_type": "stream",
       "stream": "stdout",
       "text": [
        "187 "
       ]
      },
      {
       "output_type": "stream",
       "stream": "stdout",
       "text": [
        "188 "
       ]
      },
      {
       "output_type": "stream",
       "stream": "stdout",
       "text": [
        "189 "
       ]
      },
      {
       "output_type": "stream",
       "stream": "stdout",
       "text": [
        "190 "
       ]
      },
      {
       "output_type": "stream",
       "stream": "stdout",
       "text": [
        "191 "
       ]
      },
      {
       "output_type": "stream",
       "stream": "stdout",
       "text": [
        "192 "
       ]
      },
      {
       "output_type": "stream",
       "stream": "stdout",
       "text": [
        "193 "
       ]
      },
      {
       "output_type": "stream",
       "stream": "stdout",
       "text": [
        "194 "
       ]
      },
      {
       "output_type": "stream",
       "stream": "stdout",
       "text": [
        "195 "
       ]
      },
      {
       "output_type": "stream",
       "stream": "stdout",
       "text": [
        "196 "
       ]
      },
      {
       "output_type": "stream",
       "stream": "stdout",
       "text": [
        "197 "
       ]
      },
      {
       "output_type": "stream",
       "stream": "stdout",
       "text": [
        "198 "
       ]
      },
      {
       "output_type": "stream",
       "stream": "stdout",
       "text": [
        "199 "
       ]
      },
      {
       "output_type": "stream",
       "stream": "stdout",
       "text": [
        "200 "
       ]
      },
      {
       "output_type": "stream",
       "stream": "stdout",
       "text": [
        "201 "
       ]
      },
      {
       "output_type": "stream",
       "stream": "stdout",
       "text": [
        "202 "
       ]
      },
      {
       "output_type": "stream",
       "stream": "stdout",
       "text": [
        "203 "
       ]
      },
      {
       "output_type": "stream",
       "stream": "stdout",
       "text": [
        "204 "
       ]
      },
      {
       "output_type": "stream",
       "stream": "stdout",
       "text": [
        "205 "
       ]
      },
      {
       "output_type": "stream",
       "stream": "stdout",
       "text": [
        "206 "
       ]
      },
      {
       "output_type": "stream",
       "stream": "stdout",
       "text": [
        "207 "
       ]
      },
      {
       "output_type": "stream",
       "stream": "stdout",
       "text": [
        "208 "
       ]
      },
      {
       "output_type": "stream",
       "stream": "stdout",
       "text": [
        "209 "
       ]
      },
      {
       "output_type": "stream",
       "stream": "stdout",
       "text": [
        "210 "
       ]
      },
      {
       "output_type": "stream",
       "stream": "stdout",
       "text": [
        "211 "
       ]
      },
      {
       "output_type": "stream",
       "stream": "stdout",
       "text": [
        "212 "
       ]
      },
      {
       "output_type": "stream",
       "stream": "stdout",
       "text": [
        "213 "
       ]
      },
      {
       "output_type": "stream",
       "stream": "stdout",
       "text": [
        "214 "
       ]
      },
      {
       "output_type": "stream",
       "stream": "stdout",
       "text": [
        "215 "
       ]
      },
      {
       "output_type": "stream",
       "stream": "stdout",
       "text": [
        "216 "
       ]
      },
      {
       "output_type": "stream",
       "stream": "stdout",
       "text": [
        "217 "
       ]
      },
      {
       "output_type": "stream",
       "stream": "stdout",
       "text": [
        "218 "
       ]
      },
      {
       "output_type": "stream",
       "stream": "stdout",
       "text": [
        "219 "
       ]
      },
      {
       "output_type": "stream",
       "stream": "stdout",
       "text": [
        "220 "
       ]
      },
      {
       "output_type": "stream",
       "stream": "stdout",
       "text": [
        "221 "
       ]
      },
      {
       "output_type": "stream",
       "stream": "stdout",
       "text": [
        "222 "
       ]
      },
      {
       "output_type": "stream",
       "stream": "stdout",
       "text": [
        "223 "
       ]
      },
      {
       "output_type": "stream",
       "stream": "stdout",
       "text": [
        "224 "
       ]
      },
      {
       "output_type": "stream",
       "stream": "stdout",
       "text": [
        "225 "
       ]
      },
      {
       "output_type": "stream",
       "stream": "stdout",
       "text": [
        "226 "
       ]
      },
      {
       "output_type": "stream",
       "stream": "stdout",
       "text": [
        "227 "
       ]
      },
      {
       "output_type": "stream",
       "stream": "stdout",
       "text": [
        "228 "
       ]
      },
      {
       "output_type": "stream",
       "stream": "stdout",
       "text": [
        "229 "
       ]
      },
      {
       "output_type": "stream",
       "stream": "stdout",
       "text": [
        "230 "
       ]
      },
      {
       "output_type": "stream",
       "stream": "stdout",
       "text": [
        "231 "
       ]
      },
      {
       "output_type": "stream",
       "stream": "stdout",
       "text": [
        "232 "
       ]
      },
      {
       "output_type": "stream",
       "stream": "stdout",
       "text": [
        "233 "
       ]
      },
      {
       "output_type": "stream",
       "stream": "stdout",
       "text": [
        "234 "
       ]
      },
      {
       "output_type": "stream",
       "stream": "stdout",
       "text": [
        "235 "
       ]
      },
      {
       "output_type": "stream",
       "stream": "stdout",
       "text": [
        "236 "
       ]
      },
      {
       "output_type": "stream",
       "stream": "stdout",
       "text": [
        "237 "
       ]
      },
      {
       "output_type": "stream",
       "stream": "stdout",
       "text": [
        "238 "
       ]
      },
      {
       "output_type": "stream",
       "stream": "stdout",
       "text": [
        "239 "
       ]
      },
      {
       "output_type": "stream",
       "stream": "stdout",
       "text": [
        "240 "
       ]
      },
      {
       "output_type": "stream",
       "stream": "stdout",
       "text": [
        "241 "
       ]
      },
      {
       "output_type": "stream",
       "stream": "stdout",
       "text": [
        "242 "
       ]
      },
      {
       "output_type": "stream",
       "stream": "stdout",
       "text": [
        "243 "
       ]
      },
      {
       "output_type": "stream",
       "stream": "stdout",
       "text": [
        "244 "
       ]
      },
      {
       "output_type": "stream",
       "stream": "stdout",
       "text": [
        "245 "
       ]
      },
      {
       "output_type": "stream",
       "stream": "stdout",
       "text": [
        "246 "
       ]
      },
      {
       "output_type": "stream",
       "stream": "stdout",
       "text": [
        "247 "
       ]
      },
      {
       "output_type": "stream",
       "stream": "stdout",
       "text": [
        "248 "
       ]
      },
      {
       "output_type": "stream",
       "stream": "stdout",
       "text": [
        "249 "
       ]
      },
      {
       "output_type": "stream",
       "stream": "stdout",
       "text": [
        "250 "
       ]
      },
      {
       "output_type": "stream",
       "stream": "stdout",
       "text": [
        "251 "
       ]
      },
      {
       "output_type": "stream",
       "stream": "stdout",
       "text": [
        "252 "
       ]
      },
      {
       "output_type": "stream",
       "stream": "stdout",
       "text": [
        "253 "
       ]
      },
      {
       "output_type": "stream",
       "stream": "stdout",
       "text": [
        "254 "
       ]
      },
      {
       "output_type": "stream",
       "stream": "stdout",
       "text": [
        "255 "
       ]
      },
      {
       "output_type": "stream",
       "stream": "stdout",
       "text": [
        "256 "
       ]
      },
      {
       "output_type": "stream",
       "stream": "stdout",
       "text": [
        "257 "
       ]
      },
      {
       "output_type": "stream",
       "stream": "stdout",
       "text": [
        "258 "
       ]
      },
      {
       "output_type": "stream",
       "stream": "stdout",
       "text": [
        "259 "
       ]
      },
      {
       "output_type": "stream",
       "stream": "stdout",
       "text": [
        "260 "
       ]
      },
      {
       "output_type": "stream",
       "stream": "stdout",
       "text": [
        "261 "
       ]
      },
      {
       "output_type": "stream",
       "stream": "stdout",
       "text": [
        "262 "
       ]
      },
      {
       "output_type": "stream",
       "stream": "stdout",
       "text": [
        "263 "
       ]
      },
      {
       "output_type": "stream",
       "stream": "stdout",
       "text": [
        "264 "
       ]
      },
      {
       "output_type": "stream",
       "stream": "stdout",
       "text": [
        "265 "
       ]
      },
      {
       "output_type": "stream",
       "stream": "stdout",
       "text": [
        "266 "
       ]
      },
      {
       "output_type": "stream",
       "stream": "stdout",
       "text": [
        "267 "
       ]
      },
      {
       "output_type": "stream",
       "stream": "stdout",
       "text": [
        "268 "
       ]
      },
      {
       "output_type": "stream",
       "stream": "stdout",
       "text": [
        "269 "
       ]
      },
      {
       "output_type": "stream",
       "stream": "stdout",
       "text": [
        "270 "
       ]
      },
      {
       "output_type": "stream",
       "stream": "stdout",
       "text": [
        "271 "
       ]
      },
      {
       "output_type": "stream",
       "stream": "stdout",
       "text": [
        "272 "
       ]
      },
      {
       "output_type": "stream",
       "stream": "stdout",
       "text": [
        "273 "
       ]
      },
      {
       "output_type": "stream",
       "stream": "stdout",
       "text": [
        "274 "
       ]
      },
      {
       "output_type": "stream",
       "stream": "stdout",
       "text": [
        "275 "
       ]
      },
      {
       "output_type": "stream",
       "stream": "stdout",
       "text": [
        "276 "
       ]
      },
      {
       "output_type": "stream",
       "stream": "stdout",
       "text": [
        "277 "
       ]
      },
      {
       "output_type": "stream",
       "stream": "stdout",
       "text": [
        "278 "
       ]
      },
      {
       "output_type": "stream",
       "stream": "stdout",
       "text": [
        "279 "
       ]
      },
      {
       "output_type": "stream",
       "stream": "stdout",
       "text": [
        "280 "
       ]
      },
      {
       "output_type": "stream",
       "stream": "stdout",
       "text": [
        "281 "
       ]
      },
      {
       "output_type": "stream",
       "stream": "stdout",
       "text": [
        "282 "
       ]
      },
      {
       "output_type": "stream",
       "stream": "stdout",
       "text": [
        "283 "
       ]
      },
      {
       "output_type": "stream",
       "stream": "stdout",
       "text": [
        "284 "
       ]
      },
      {
       "output_type": "stream",
       "stream": "stdout",
       "text": [
        "285 "
       ]
      },
      {
       "output_type": "stream",
       "stream": "stdout",
       "text": [
        "286 "
       ]
      },
      {
       "output_type": "stream",
       "stream": "stdout",
       "text": [
        "287 "
       ]
      },
      {
       "output_type": "stream",
       "stream": "stdout",
       "text": [
        "288 "
       ]
      },
      {
       "output_type": "stream",
       "stream": "stdout",
       "text": [
        "289 "
       ]
      },
      {
       "output_type": "stream",
       "stream": "stdout",
       "text": [
        "290 "
       ]
      },
      {
       "output_type": "stream",
       "stream": "stdout",
       "text": [
        "291 "
       ]
      },
      {
       "output_type": "stream",
       "stream": "stdout",
       "text": [
        "292 "
       ]
      },
      {
       "output_type": "stream",
       "stream": "stdout",
       "text": [
        "293 "
       ]
      },
      {
       "output_type": "stream",
       "stream": "stdout",
       "text": [
        "294 "
       ]
      },
      {
       "output_type": "stream",
       "stream": "stdout",
       "text": [
        "295 "
       ]
      },
      {
       "output_type": "stream",
       "stream": "stdout",
       "text": [
        "296 "
       ]
      },
      {
       "output_type": "stream",
       "stream": "stdout",
       "text": [
        "297 "
       ]
      },
      {
       "output_type": "stream",
       "stream": "stdout",
       "text": [
        "298 "
       ]
      },
      {
       "output_type": "stream",
       "stream": "stdout",
       "text": [
        "299 "
       ]
      },
      {
       "output_type": "stream",
       "stream": "stdout",
       "text": [
        "300 "
       ]
      },
      {
       "output_type": "stream",
       "stream": "stdout",
       "text": [
        "301 "
       ]
      },
      {
       "output_type": "stream",
       "stream": "stdout",
       "text": [
        "302 "
       ]
      },
      {
       "output_type": "stream",
       "stream": "stdout",
       "text": [
        "303 "
       ]
      },
      {
       "output_type": "stream",
       "stream": "stdout",
       "text": [
        "304 "
       ]
      },
      {
       "output_type": "stream",
       "stream": "stdout",
       "text": [
        "305 "
       ]
      },
      {
       "output_type": "stream",
       "stream": "stdout",
       "text": [
        "306 "
       ]
      },
      {
       "output_type": "stream",
       "stream": "stdout",
       "text": [
        "307 "
       ]
      },
      {
       "output_type": "stream",
       "stream": "stdout",
       "text": [
        "308 "
       ]
      },
      {
       "output_type": "stream",
       "stream": "stdout",
       "text": [
        "309 "
       ]
      },
      {
       "output_type": "stream",
       "stream": "stdout",
       "text": [
        "310 "
       ]
      },
      {
       "output_type": "stream",
       "stream": "stdout",
       "text": [
        "311 "
       ]
      },
      {
       "output_type": "stream",
       "stream": "stdout",
       "text": [
        "312 "
       ]
      },
      {
       "output_type": "stream",
       "stream": "stdout",
       "text": [
        "313 "
       ]
      },
      {
       "output_type": "stream",
       "stream": "stdout",
       "text": [
        "314 "
       ]
      },
      {
       "output_type": "stream",
       "stream": "stdout",
       "text": [
        "315 "
       ]
      },
      {
       "output_type": "stream",
       "stream": "stdout",
       "text": [
        "316 "
       ]
      },
      {
       "output_type": "stream",
       "stream": "stdout",
       "text": [
        "317 "
       ]
      },
      {
       "output_type": "stream",
       "stream": "stdout",
       "text": [
        "318 "
       ]
      },
      {
       "output_type": "stream",
       "stream": "stdout",
       "text": [
        "319 "
       ]
      },
      {
       "output_type": "stream",
       "stream": "stdout",
       "text": [
        "320 "
       ]
      },
      {
       "output_type": "stream",
       "stream": "stdout",
       "text": [
        "321 "
       ]
      },
      {
       "output_type": "stream",
       "stream": "stdout",
       "text": [
        "322 "
       ]
      },
      {
       "output_type": "stream",
       "stream": "stdout",
       "text": [
        "323 "
       ]
      },
      {
       "output_type": "stream",
       "stream": "stdout",
       "text": [
        "324 "
       ]
      },
      {
       "output_type": "stream",
       "stream": "stdout",
       "text": [
        "325 "
       ]
      },
      {
       "output_type": "stream",
       "stream": "stdout",
       "text": [
        "326 "
       ]
      },
      {
       "output_type": "stream",
       "stream": "stdout",
       "text": [
        "327 "
       ]
      },
      {
       "output_type": "stream",
       "stream": "stdout",
       "text": [
        "328 "
       ]
      },
      {
       "output_type": "stream",
       "stream": "stdout",
       "text": [
        "329 "
       ]
      },
      {
       "output_type": "stream",
       "stream": "stdout",
       "text": [
        "330 "
       ]
      },
      {
       "output_type": "stream",
       "stream": "stdout",
       "text": [
        "331 "
       ]
      },
      {
       "output_type": "stream",
       "stream": "stdout",
       "text": [
        "332 "
       ]
      },
      {
       "output_type": "stream",
       "stream": "stdout",
       "text": [
        "333 "
       ]
      },
      {
       "output_type": "stream",
       "stream": "stdout",
       "text": [
        "334 "
       ]
      },
      {
       "output_type": "stream",
       "stream": "stdout",
       "text": [
        "335 "
       ]
      },
      {
       "output_type": "stream",
       "stream": "stdout",
       "text": [
        "336 "
       ]
      },
      {
       "output_type": "stream",
       "stream": "stdout",
       "text": [
        "337 "
       ]
      },
      {
       "output_type": "stream",
       "stream": "stdout",
       "text": [
        "338 "
       ]
      },
      {
       "output_type": "stream",
       "stream": "stdout",
       "text": [
        "339 "
       ]
      },
      {
       "output_type": "stream",
       "stream": "stdout",
       "text": [
        "340 "
       ]
      },
      {
       "output_type": "stream",
       "stream": "stdout",
       "text": [
        "341 "
       ]
      },
      {
       "output_type": "stream",
       "stream": "stdout",
       "text": [
        "342 "
       ]
      },
      {
       "output_type": "stream",
       "stream": "stdout",
       "text": [
        "343 "
       ]
      },
      {
       "output_type": "stream",
       "stream": "stdout",
       "text": [
        "344 "
       ]
      },
      {
       "output_type": "stream",
       "stream": "stdout",
       "text": [
        "345 "
       ]
      },
      {
       "output_type": "stream",
       "stream": "stdout",
       "text": [
        "346 "
       ]
      },
      {
       "output_type": "stream",
       "stream": "stdout",
       "text": [
        "347 "
       ]
      },
      {
       "output_type": "stream",
       "stream": "stdout",
       "text": [
        "348 "
       ]
      },
      {
       "output_type": "stream",
       "stream": "stdout",
       "text": [
        "349 "
       ]
      },
      {
       "output_type": "stream",
       "stream": "stdout",
       "text": [
        "350 "
       ]
      },
      {
       "output_type": "stream",
       "stream": "stdout",
       "text": [
        "351 "
       ]
      },
      {
       "output_type": "stream",
       "stream": "stdout",
       "text": [
        "352 "
       ]
      },
      {
       "output_type": "stream",
       "stream": "stdout",
       "text": [
        "353 "
       ]
      },
      {
       "output_type": "stream",
       "stream": "stdout",
       "text": [
        "354 "
       ]
      },
      {
       "output_type": "stream",
       "stream": "stdout",
       "text": [
        "355 "
       ]
      },
      {
       "output_type": "stream",
       "stream": "stdout",
       "text": [
        "356 "
       ]
      },
      {
       "output_type": "stream",
       "stream": "stdout",
       "text": [
        "357 "
       ]
      },
      {
       "output_type": "stream",
       "stream": "stdout",
       "text": [
        "358 "
       ]
      },
      {
       "output_type": "stream",
       "stream": "stdout",
       "text": [
        "359 "
       ]
      },
      {
       "output_type": "stream",
       "stream": "stdout",
       "text": [
        "360 "
       ]
      },
      {
       "output_type": "stream",
       "stream": "stdout",
       "text": [
        "361 "
       ]
      },
      {
       "output_type": "stream",
       "stream": "stdout",
       "text": [
        "362 "
       ]
      },
      {
       "output_type": "stream",
       "stream": "stdout",
       "text": [
        "363 "
       ]
      },
      {
       "output_type": "stream",
       "stream": "stdout",
       "text": [
        "364 "
       ]
      },
      {
       "output_type": "stream",
       "stream": "stdout",
       "text": [
        "365 "
       ]
      },
      {
       "output_type": "stream",
       "stream": "stdout",
       "text": [
        "366 "
       ]
      },
      {
       "output_type": "stream",
       "stream": "stdout",
       "text": [
        "367 "
       ]
      },
      {
       "output_type": "stream",
       "stream": "stdout",
       "text": [
        "368 "
       ]
      },
      {
       "output_type": "stream",
       "stream": "stdout",
       "text": [
        "369 "
       ]
      },
      {
       "output_type": "stream",
       "stream": "stdout",
       "text": [
        "370 "
       ]
      },
      {
       "output_type": "stream",
       "stream": "stdout",
       "text": [
        "371 "
       ]
      },
      {
       "output_type": "stream",
       "stream": "stdout",
       "text": [
        "372 "
       ]
      },
      {
       "output_type": "stream",
       "stream": "stdout",
       "text": [
        "373 "
       ]
      },
      {
       "output_type": "stream",
       "stream": "stdout",
       "text": [
        "374 "
       ]
      },
      {
       "output_type": "stream",
       "stream": "stdout",
       "text": [
        "375 "
       ]
      },
      {
       "output_type": "stream",
       "stream": "stdout",
       "text": [
        "376 "
       ]
      },
      {
       "output_type": "stream",
       "stream": "stdout",
       "text": [
        "377 "
       ]
      },
      {
       "output_type": "stream",
       "stream": "stdout",
       "text": [
        "378 "
       ]
      },
      {
       "output_type": "stream",
       "stream": "stdout",
       "text": [
        "379 "
       ]
      },
      {
       "output_type": "stream",
       "stream": "stdout",
       "text": [
        "380 "
       ]
      },
      {
       "output_type": "stream",
       "stream": "stdout",
       "text": [
        "381 "
       ]
      },
      {
       "output_type": "stream",
       "stream": "stdout",
       "text": [
        "382 "
       ]
      },
      {
       "output_type": "stream",
       "stream": "stdout",
       "text": [
        "383 "
       ]
      },
      {
       "output_type": "stream",
       "stream": "stdout",
       "text": [
        "384 "
       ]
      },
      {
       "output_type": "stream",
       "stream": "stdout",
       "text": [
        "385 "
       ]
      },
      {
       "output_type": "stream",
       "stream": "stdout",
       "text": [
        "386 "
       ]
      },
      {
       "output_type": "stream",
       "stream": "stdout",
       "text": [
        "387 "
       ]
      },
      {
       "output_type": "stream",
       "stream": "stdout",
       "text": [
        "388 "
       ]
      },
      {
       "output_type": "stream",
       "stream": "stdout",
       "text": [
        "389 "
       ]
      },
      {
       "output_type": "stream",
       "stream": "stdout",
       "text": [
        "390 "
       ]
      },
      {
       "output_type": "stream",
       "stream": "stdout",
       "text": [
        "391 "
       ]
      },
      {
       "output_type": "stream",
       "stream": "stdout",
       "text": [
        "392 "
       ]
      },
      {
       "output_type": "stream",
       "stream": "stdout",
       "text": [
        "393 "
       ]
      },
      {
       "output_type": "stream",
       "stream": "stdout",
       "text": [
        "394 "
       ]
      },
      {
       "output_type": "stream",
       "stream": "stdout",
       "text": [
        "395 "
       ]
      },
      {
       "output_type": "stream",
       "stream": "stdout",
       "text": [
        "396 "
       ]
      },
      {
       "output_type": "stream",
       "stream": "stdout",
       "text": [
        "397 "
       ]
      },
      {
       "output_type": "stream",
       "stream": "stdout",
       "text": [
        "398 "
       ]
      },
      {
       "output_type": "stream",
       "stream": "stdout",
       "text": [
        "399 "
       ]
      },
      {
       "output_type": "stream",
       "stream": "stdout",
       "text": [
        "400 "
       ]
      },
      {
       "output_type": "stream",
       "stream": "stdout",
       "text": [
        "401 "
       ]
      },
      {
       "output_type": "stream",
       "stream": "stdout",
       "text": [
        "402 "
       ]
      },
      {
       "output_type": "stream",
       "stream": "stdout",
       "text": [
        "403 "
       ]
      },
      {
       "output_type": "stream",
       "stream": "stdout",
       "text": [
        "404 "
       ]
      },
      {
       "output_type": "stream",
       "stream": "stdout",
       "text": [
        "405 "
       ]
      },
      {
       "output_type": "stream",
       "stream": "stdout",
       "text": [
        "406 "
       ]
      },
      {
       "output_type": "stream",
       "stream": "stdout",
       "text": [
        "407 "
       ]
      },
      {
       "output_type": "stream",
       "stream": "stdout",
       "text": [
        "408 "
       ]
      },
      {
       "output_type": "stream",
       "stream": "stdout",
       "text": [
        "409 "
       ]
      },
      {
       "output_type": "stream",
       "stream": "stdout",
       "text": [
        "410 "
       ]
      },
      {
       "output_type": "stream",
       "stream": "stdout",
       "text": [
        "411 "
       ]
      },
      {
       "output_type": "stream",
       "stream": "stdout",
       "text": [
        "412 "
       ]
      },
      {
       "output_type": "stream",
       "stream": "stdout",
       "text": [
        "413 "
       ]
      },
      {
       "output_type": "stream",
       "stream": "stdout",
       "text": [
        "414 "
       ]
      },
      {
       "output_type": "stream",
       "stream": "stdout",
       "text": [
        "415"
       ]
      },
      {
       "metadata": {},
       "output_type": "pyout",
       "prompt_number": 12,
       "text": [
        "<matplotlib.collections.PathCollection at 0x7f3090b73290>"
       ]
      },
      {
       "output_type": "stream",
       "stream": "stdout",
       "text": [
        "\n"
       ]
      }
     ],
     "prompt_number": 12
    },
    {
     "cell_type": "code",
     "collapsed": false,
     "input": [
      "## find distances between closest edges and best fit line\n",
      "As = np.repeat(np.reshape(line[2:4], [1, 2]), len(testPoints), axis=0)\n",
      "Ns = np.repeat(np.reshape(line[0:2], [1, 2]), len(testPoints), axis=0)\n",
      "\n",
      "# remember that negHalfSpaceClosestEdges and posHalfSpaceClosestEdges contain row, column indices not x, y coords\n",
      "closestEdges = np.array([negHalfSpaceClosestEdges[:, 1], negHalfSpaceClosestEdges[:, 0]]).T \n",
      "negHSEdgeDists = np.linalg.norm(As-closestEdges - Ns*np.repeat(np.reshape(np.dot(As-closestEdges, line[0:2]), [len(Ns), 1]), 1, axis=1), axis=1)\n",
      "\n",
      "closestEdges = np.array([posHalfSpaceClosestEdges[:, 1], posHalfSpaceClosestEdges[:, 0]]).T\n",
      "posHSEdgeDists = np.linalg.norm(As-closestEdges - Ns*np.repeat(np.reshape(np.dot(As-closestEdges, line[0:2]), [len(Ns), 1]), 1, axis=1), axis=1)\n",
      "\n",
      "\n",
      "figure(); plot(negHSEdgeDists, 'r', posHSEdgeDists, 'b')"
     ],
     "language": "python",
     "metadata": {},
     "outputs": [
      {
       "metadata": {},
       "output_type": "pyout",
       "prompt_number": 78,
       "text": [
        "[<matplotlib.lines.Line2D at 0x7f3090874810>,\n",
        " <matplotlib.lines.Line2D at 0x7f3090874a90>]"
       ]
      }
     ],
     "prompt_number": 78
    },
    {
     "cell_type": "code",
     "collapsed": false,
     "input": [
      "## compute histogram\n",
      "negHist, negBins = np.histogram(negHSEdgeDists)\n",
      "posHist, posBins = np.histogram(posHSEdgeDists)\n",
      "\n",
      "figure()\n",
      "plt.bar(negBins[:-1], negHist, color='yellow', width=2)\n",
      "plt.bar(posBins[:-1], posHist, color='green', width=2)\n",
      "plt.xlim(min(np.hstack((negBins, posBins))), max(np.hstack((negBins, posBins))))\n",
      "plt.show()   "
     ],
     "language": "python",
     "metadata": {},
     "outputs": [],
     "prompt_number": 122
    },
    {
     "cell_type": "code",
     "collapsed": false,
     "input": [
      "testSortNeg = np.argsort(negHist)\n",
      "print testSortNeg\n",
      "print negHist\n",
      "print negBins\n",
      "print negHist[testSortNeg]\n",
      "print negBins[testSortNeg+1]\n",
      "print negBins[np.argmax(negHist+1)]\n",
      "print np.sum(negBins[1:len(negBins)]*np.array(negHist, dtype=float)/np.max(negHist))/(len(negBins)-1)\n",
      "print np.sum((negBins[testSortNeg+1])[-3:]*np.array((negHist[testSortNeg])[-3:], dtype=float)/np.max(negHist))/3.0\n",
      "print np.sum((negBins[testSortNeg+1])[-3:])/3.0\n",
      "print np.mean((negBins[testSortNeg+1])[-3:])\n",
      "\n"
     ],
     "language": "python",
     "metadata": {},
     "outputs": [
      {
       "output_type": "stream",
       "stream": "stdout",
       "text": [
        "[4 5 6 7 8 9 3 2 1 0]\n",
        "[253 121  37   4   0   0   0   0   0   1]\n",
        "[   3.77725321   17.92757393   32.07789466   46.22821539   60.37853611\n",
        "   74.52885684   88.67917756  102.82949829  116.97981902  131.13013974\n",
        "  145.28046047]\n",
        "[  0   0   0   0   0   1   4  37 121 253]\n",
        "[  74.52885684   88.67917756  102.82949829  116.97981902  131.13013974\n",
        "  145.28046047   60.37853611   46.22821539   32.07789466   17.92757393]\n",
        "3.7772532077\n",
        "4.15586562578\n",
        "13.3432746091\n",
        "32.0778946596\n",
        "32.0778946596\n"
       ]
      }
     ],
     "prompt_number": 139
    },
    {
     "cell_type": "code",
     "collapsed": false,
     "input": [
      "## compute histogram\n",
      "negHist, negBins = np.histogram(negHSEdgeDists)\n",
      "posHist, posBins = np.histogram(posHSEdgeDists)\n",
      "\n",
      "figure()\n",
      "plt.bar(negBins[:-1], negHist, color='yellow', width=2)\n",
      "plt.bar(posBins[:-1], posHist, color='green', width=2)\n",
      "plt.xlim(min(np.hstack((negBins, posBins))), max(np.hstack((negBins, posBins))))\n",
      "plt.show()\n",
      "\n",
      "## find 4 corners of box around bone to use as active shape input\n",
      "# the bbox is aligned to the bestFitLine\n",
      "bbox = np.zeros([4, 2])\n",
      "\n",
      "# distance from bestFitLine to edge of bbox in positive and negative halfspace respectively\n",
      "\n",
      "distType = 2\n",
      "\n",
      "if distType == 0 :\n",
      "    ## distance is given by mean distance to closest edge points\n",
      "    posDist = np.mean(posHSEdgeDists)\n",
      "    negDist = np.mean(negHSEdgeDists)\n",
      "elif distType == 1:\n",
      "    ## distance is given by the right boundary of highest value bin in distance to edge histogram\n",
      "    posDist = posBins[np.argmax(posHist)+1]\n",
      "    negDist = negBins[np.argmax(negHist)+1]\n",
      "elif distType == 2:\n",
      "    ## distance is the mean of right boundary of top 3 highest value bins in distance to edge histogram\n",
      "    posDist = np.mean((posBins[np.argsort(posHist)+1])[-3:])\n",
      "    negDist = np.mean((negBins[np.argsort(negHist)+1])[-3:])\n",
      "\n",
      "print posDist\n",
      "print negDist\n",
      "\n",
      "## HACK:::HACK\n",
      "inflation = 0.5\n",
      "inflatedStart = discreteLine[0, :] + (discreteLine[-1, :]-discreteLine[0, :])*(1+inflation*0.1)\n",
      "print discreteLine[0, :], inflatedStart\n",
      "inflatedEnd = discreteLine[-1, :] + (discreteLine[0, :]-discreteLine[-1, :])*(1+inflation*0.1)\n",
      "print discreteLine[1, :], inflatedEnd\n",
      "\n",
      "bbox[0, :] = inflatedStart + posDist*(1+inflation)*discreteNormals[1, :]/np.linalg.norm(discreteNormals[1, :])\n",
      "bbox[1, :] = inflatedEnd + posDist*(1+inflation)*discreteNormals[1, :]/np.linalg.norm(discreteNormals[1, :])\n",
      "bbox[2, :] = inflatedEnd + negDist*(1+inflation)*discreteNormals[0, :]/np.linalg.norm(discreteNormals[0, :])\n",
      "bbox[3, :] = inflatedStart + negDist*(1+inflation)*discreteNormals[0, :]/np.linalg.norm(discreteNormals[0, :])\n",
      "print bbox\n",
      "\n",
      "## inflate bbox\n",
      "\n",
      "\n",
      "fig = plt.figure(figsize=(10, 10))\n",
      "\n",
      "ax = fig.add_subplot(111)\n",
      "ax.set_xlabel('X')\n",
      "ax.set_ylabel('Y')\n",
      "ax.imshow(distanceMatrix*edges, interpolation='nearest')\n",
      "ax.autoscale(False)\n",
      "ax.plot(bestFitLine[:, 0], bestFitLine[:, 1], c='r')\n",
      "ax.plot(bbox[:, 0], bbox[:, 1], c='y')\n",
      "draw()\n",
      "\n",
      "# discreteLine[-1, :]"
     ],
     "language": "python",
     "metadata": {},
     "outputs": [
      {
       "output_type": "stream",
       "stream": "stdout",
       "text": [
        "42.9385249172\n",
        "32.0778946596\n",
        "[506 294] [ 720.2  674.1]\n",
        "[506 295] [ 495.8  275.9]\n",
        "[[ 664.0886029   705.72078731]\n",
        " [ 439.6886029   307.52078731]\n",
        " [ 537.71889425  252.27719771]\n",
        " [ 762.11889425  650.47719771]]\n"
       ]
      }
     ],
     "prompt_number": 158
    },
    {
     "cell_type": "code",
     "collapsed": false,
     "input": [
      "## build the snake initialization by supersampling the bbox\n",
      "numOfPoints = 100\n",
      "interval = (np.linalg.norm(bbox[0, :]-bbox[1, :])+np.linalg.norm(bbox[1, :]-bbox[2, :]))/(numOfPoints*0.5)\n",
      "snake = []\n",
      "for i, j in zip(arange(0, len(bbox)), np.hstack((arange(1, len(bbox)), 0))):\n",
      "    currentPoint = bbox[i, :]\n",
      "#     snake.append(currentPoint)\n",
      "    currentDir = (bbox[j, :]-bbox[i, :])/np.linalg.norm(bbox[j, :]-bbox[i, :])\n",
      "    while np.linalg.norm(currentPoint-bbox[j, :]) > interval :\n",
      "        snake.append(currentPoint)\n",
      "        currentPoint = currentPoint + interval*currentDir\n",
      "    \n",
      "    ##divide last remaining bit into half\n",
      "    snake.append((snake[-1]+bbox[j, :])/2)\n",
      "\n",
      "snake = np.array(snake)\n",
      "print snake.shape"
     ],
     "language": "python",
     "metadata": {},
     "outputs": [
      {
       "output_type": "stream",
       "stream": "stdout",
       "text": [
        "(102, 2)\n"
       ]
      }
     ],
     "prompt_number": 180
    },
    {
     "cell_type": "code",
     "collapsed": false,
     "input": [
      "fig = plt.figure(figsize=(10, 10))\n",
      "\n",
      "ax = fig.add_subplot(111)\n",
      "ax.set_xlabel('X')\n",
      "ax.set_ylabel('Y')\n",
      "ax.imshow(distanceMatrix*edges, interpolation='nearest')\n",
      "ax.autoscale(False)\n",
      "ax.plot(bestFitLine[:, 0], bestFitLine[:, 1], c='r')\n",
      "ax.scatter(snake[:, 0], snake[:, 1], c='y')\n",
      "draw()"
     ],
     "language": "python",
     "metadata": {},
     "outputs": [],
     "prompt_number": 181
    },
    {
     "cell_type": "code",
     "collapsed": false,
     "input": [
      "testBox = np.copy(bbox)\n",
      "print testBox\n",
      "testMidPoint = (discreteLine[0, :]+discreteLine[-1, :])/2\n",
      "testMidPoint = np.repeat(np.reshape(testMidPoint, [1, len(testMidPoint)]), len(testBox), axis=0)\n",
      "print testMidPoint\n",
      "testInflated = ((testBox-testMidPoint)*1.2)+testMidPoint\n",
      "\n",
      "fig = plt.figure(figsize=(10, 10))\n",
      "\n",
      "ax = fig.add_subplot(111)\n",
      "ax.set_xlabel('X')\n",
      "ax.set_ylabel('Y')\n",
      "ax.imshow(distanceMatrix*edges, interpolation='nearest')\n",
      "ax.autoscale(False)\n",
      "ax.plot(bestFitLine[:, 0], bestFitLine[:, 1], c='r')\n",
      "ax.plot(testBox[:, 0], testBox[:, 1], c='y')\n",
      "ax.plot(testInflated[:, 0], testInflated[:, 1], c='g')\n",
      "draw()"
     ],
     "language": "python",
     "metadata": {},
     "outputs": [
      {
       "output_type": "stream",
       "stream": "stdout",
       "text": [
        "[[ 468.59240193  315.08052488]\n",
        " [ 672.59240193  677.08052488]\n",
        " [ 737.9459295   640.25146514]\n",
        " [ 533.9459295   278.25146514]]\n",
        "[[608 475]\n",
        " [608 475]\n",
        " [608 475]\n",
        " [608 475]]\n"
       ]
      }
     ],
     "prompt_number": 148
    },
    {
     "cell_type": "code",
     "collapsed": false,
     "input": [
      "points = []\n",
      "points.append(np.array([0, 1]))\n",
      "points.append(np.array([0, 2]))\n",
      "points.append(np.array([0, 3]))\n",
      "if any(np.array([0, 5]) == p for p in points):\n",
      "    print \"yay\""
     ],
     "language": "python",
     "metadata": {},
     "outputs": [
      {
       "output_type": "stream",
       "stream": "stdout",
       "text": [
        "yay\n"
       ]
      }
     ],
     "prompt_number": 101
    },
    {
     "cell_type": "code",
     "collapsed": false,
     "input": [
      "#sign( (Bx-Ax)*(Y-Ay) - (By-Ay)*(X-Ax) )\n",
      "print np.vstack((discreteLine[0, :], discreteLine[-1, :]))\n",
      "positiveMask = positiveHalfspaceMask(np.vstack((discreteLine[0, :], discreteLine[-1, :])), firstFrame.shape[0:2], True)\n",
      "figure(); imshow(positiveMask, interpolation='nearest')"
     ],
     "language": "python",
     "metadata": {},
     "outputs": [
      {
       "output_type": "stream",
       "stream": "stdout",
       "text": [
        "[[509 286]\n",
        " [704 665]]\n"
       ]
      },
      {
       "metadata": {},
       "output_type": "pyout",
       "prompt_number": 58,
       "text": [
        "<matplotlib.image.AxesImage at 0x7fec3e623e50>"
       ]
      }
     ],
     "prompt_number": 58
    },
    {
     "cell_type": "code",
     "collapsed": false,
     "input": [
      "print discreteLine"
     ],
     "language": "python",
     "metadata": {},
     "outputs": [
      {
       "output_type": "stream",
       "stream": "stdout",
       "text": [
        "[[509 286]\n",
        " [509 287]\n",
        " [510 288]\n",
        " [510 289]\n",
        " [511 290]\n",
        " [511 290]\n",
        " [512 291]\n",
        " [512 292]\n",
        " [513 293]\n",
        " [513 294]\n",
        " [514 295]\n",
        " [514 296]\n",
        " [515 297]\n",
        " [515 298]\n",
        " [515 298]\n",
        " [516 299]\n",
        " [516 300]\n",
        " [517 301]\n",
        " [517 302]\n",
        " [518 303]\n",
        " [518 304]\n",
        " [519 305]\n",
        " [519 306]\n",
        " [520 306]\n",
        " [520 307]\n",
        " [520 308]\n",
        " [521 309]\n",
        " [521 310]\n",
        " [522 311]\n",
        " [522 312]\n",
        " [523 313]\n",
        " [523 314]\n",
        " [524 315]\n",
        " [524 315]\n",
        " [525 316]\n",
        " [525 317]\n",
        " [526 318]\n",
        " [526 319]\n",
        " [526 320]\n",
        " [527 321]\n",
        " [527 322]\n",
        " [528 323]\n",
        " [528 323]\n",
        " [529 324]\n",
        " [529 325]\n",
        " [530 326]\n",
        " [530 327]\n",
        " [531 328]\n",
        " [531 329]\n",
        " [532 330]\n",
        " [532 331]\n",
        " [532 331]\n",
        " [533 332]\n",
        " [533 333]\n",
        " [534 334]\n",
        " [534 335]\n",
        " [535 336]\n",
        " [535 337]\n",
        " [536 338]\n",
        " [536 339]\n",
        " [537 339]\n",
        " [537 340]\n",
        " [538 341]\n",
        " [538 342]\n",
        " [538 343]\n",
        " [539 344]\n",
        " [539 345]\n",
        " [540 346]\n",
        " [540 347]\n",
        " [541 347]\n",
        " [541 348]\n",
        " [542 349]\n",
        " [542 350]\n",
        " [543 351]\n",
        " [543 352]\n",
        " [543 353]\n",
        " [544 354]\n",
        " [544 355]\n",
        " [545 355]\n",
        " [545 356]\n",
        " [546 357]\n",
        " [546 358]\n",
        " [547 359]\n",
        " [547 360]\n",
        " [548 361]\n",
        " [548 362]\n",
        " [549 363]\n",
        " [549 363]\n",
        " [549 364]\n",
        " [550 365]\n",
        " [550 366]\n",
        " [551 367]\n",
        " [551 368]\n",
        " [552 369]\n",
        " [552 370]\n",
        " [553 371]\n",
        " [553 372]\n",
        " [554 372]\n",
        " [554 373]\n",
        " [555 374]\n",
        " [555 375]\n",
        " [555 376]\n",
        " [556 377]\n",
        " [556 378]\n",
        " [557 379]\n",
        " [557 380]\n",
        " [558 380]\n",
        " [558 381]\n",
        " [559 382]\n",
        " [559 383]\n",
        " [560 384]\n",
        " [560 385]\n",
        " [560 386]\n",
        " [561 387]\n",
        " [561 388]\n",
        " [562 388]\n",
        " [562 389]\n",
        " [563 390]\n",
        " [563 391]\n",
        " [564 392]\n",
        " [564 393]\n",
        " [565 394]\n",
        " [565 395]\n",
        " [566 396]\n",
        " [566 396]\n",
        " [566 397]\n",
        " [567 398]\n",
        " [567 399]\n",
        " [568 400]\n",
        " [568 401]\n",
        " [569 402]\n",
        " [569 403]\n",
        " [570 404]\n",
        " [570 404]\n",
        " [571 405]\n",
        " [571 406]\n",
        " [572 407]\n",
        " [572 408]\n",
        " [572 409]\n",
        " [573 410]\n",
        " [573 411]\n",
        " [574 412]\n",
        " [574 412]\n",
        " [575 413]\n",
        " [575 414]\n",
        " [576 415]\n",
        " [576 416]\n",
        " [577 417]\n",
        " [577 418]\n",
        " [578 419]\n",
        " [578 420]\n",
        " [578 420]\n",
        " [579 421]\n",
        " [579 422]\n",
        " [580 423]\n",
        " [580 424]\n",
        " [581 425]\n",
        " [581 426]\n",
        " [582 427]\n",
        " [582 428]\n",
        " [583 429]\n",
        " [583 429]\n",
        " [583 430]\n",
        " [584 431]\n",
        " [584 432]\n",
        " [585 433]\n",
        " [585 434]\n",
        " [586 435]\n",
        " [586 436]\n",
        " [587 437]\n",
        " [587 437]\n",
        " [588 438]\n",
        " [588 439]\n",
        " [589 440]\n",
        " [589 441]\n",
        " [589 442]\n",
        " [590 443]\n",
        " [590 444]\n",
        " [591 445]\n",
        " [591 445]\n",
        " [592 446]\n",
        " [592 447]\n",
        " [593 448]\n",
        " [593 449]\n",
        " [594 450]\n",
        " [594 451]\n",
        " [595 452]\n",
        " [595 453]\n",
        " [595 453]\n",
        " [596 454]\n",
        " [596 455]\n",
        " [597 456]\n",
        " [597 457]\n",
        " [598 458]\n",
        " [598 459]\n",
        " [599 460]\n",
        " [599 461]\n",
        " [600 461]\n",
        " [600 462]\n",
        " [600 463]\n",
        " [601 464]\n",
        " [601 465]\n",
        " [602 466]\n",
        " [602 467]\n",
        " [603 468]\n",
        " [603 469]\n",
        " [604 469]\n",
        " [604 470]\n",
        " [605 471]\n",
        " [605 472]\n",
        " [606 473]\n",
        " [606 474]\n",
        " [606 475]\n",
        " [607 476]\n",
        " [607 477]\n",
        " [608 477]\n",
        " [608 478]\n",
        " [609 479]\n",
        " [609 480]\n",
        " [610 481]\n",
        " [610 482]\n",
        " [611 483]\n",
        " [611 484]\n",
        " [612 485]\n",
        " [612 486]\n",
        " [612 486]\n",
        " [613 487]\n",
        " [613 488]\n",
        " [614 489]\n",
        " [614 490]\n",
        " [615 491]\n",
        " [615 492]\n",
        " [616 493]\n",
        " [616 494]\n",
        " [617 494]\n",
        " [617 495]\n",
        " [618 496]\n",
        " [618 497]\n",
        " [618 498]\n",
        " [619 499]\n",
        " [619 500]\n",
        " [620 501]\n",
        " [620 502]\n",
        " [621 502]\n",
        " [621 503]\n",
        " [622 504]\n",
        " [622 505]\n",
        " [623 506]\n",
        " [623 507]\n",
        " [623 508]\n",
        " [624 509]\n",
        " [624 510]\n",
        " [625 510]\n",
        " [625 511]\n",
        " [626 512]\n",
        " [626 513]\n",
        " [627 514]\n",
        " [627 515]\n",
        " [628 516]\n",
        " [628 517]\n",
        " [629 518]\n",
        " [629 518]\n",
        " [629 519]\n",
        " [630 520]\n",
        " [630 521]\n",
        " [631 522]\n",
        " [631 523]\n",
        " [632 524]\n",
        " [632 525]\n",
        " [633 526]\n",
        " [633 526]\n",
        " [634 527]\n",
        " [634 528]\n",
        " [635 529]\n",
        " [635 530]\n",
        " [635 531]\n",
        " [636 532]\n",
        " [636 533]\n",
        " [637 534]\n",
        " [637 534]\n",
        " [638 535]\n",
        " [638 536]\n",
        " [639 537]\n",
        " [639 538]\n",
        " [640 539]\n",
        " [640 540]\n",
        " [641 541]\n",
        " [641 542]\n",
        " [641 543]\n",
        " [642 543]\n",
        " [642 544]\n",
        " [643 545]\n",
        " [643 546]\n",
        " [644 547]\n",
        " [644 548]\n",
        " [645 549]\n",
        " [645 550]\n",
        " [646 551]\n",
        " [646 551]\n",
        " [646 552]\n",
        " [647 553]\n",
        " [647 554]\n",
        " [648 555]\n",
        " [648 556]\n",
        " [649 557]\n",
        " [649 558]\n",
        " [650 559]\n",
        " [650 559]\n",
        " [651 560]\n",
        " [651 561]\n",
        " [652 562]\n",
        " [652 563]\n",
        " [652 564]\n",
        " [653 565]\n",
        " [653 566]\n",
        " [654 567]\n",
        " [654 567]\n",
        " [655 568]\n",
        " [655 569]\n",
        " [656 570]\n",
        " [656 571]\n",
        " [657 572]\n",
        " [657 573]\n",
        " [658 574]\n",
        " [658 575]\n",
        " [658 575]\n",
        " [659 576]\n",
        " [659 577]\n",
        " [660 578]\n",
        " [660 579]\n",
        " [661 580]\n",
        " [661 581]\n",
        " [662 582]\n",
        " [662 583]\n",
        " [663 583]\n",
        " [663 584]\n",
        " [663 585]\n",
        " [664 586]\n",
        " [664 587]\n",
        " [665 588]\n",
        " [665 589]\n",
        " [666 590]\n",
        " [666 591]\n",
        " [667 591]\n",
        " [667 592]\n",
        " [668 593]\n",
        " [668 594]\n",
        " [669 595]\n",
        " [669 596]\n",
        " [669 597]\n",
        " [670 598]\n",
        " [670 599]\n",
        " [671 600]\n",
        " [671 600]\n",
        " [672 601]\n",
        " [672 602]\n",
        " [673 603]\n",
        " [673 604]\n",
        " [674 605]\n",
        " [674 606]\n",
        " [675 607]\n",
        " [675 608]\n",
        " [675 608]\n",
        " [676 609]\n",
        " [676 610]\n",
        " [677 611]\n",
        " [677 612]\n",
        " [678 613]\n",
        " [678 614]\n",
        " [679 615]\n",
        " [679 616]\n",
        " [680 616]\n",
        " [680 617]\n",
        " [681 618]\n",
        " [681 619]\n",
        " [681 620]\n",
        " [682 621]\n",
        " [682 622]\n",
        " [683 623]\n",
        " [683 624]\n",
        " [684 624]\n",
        " [684 625]\n",
        " [685 626]\n",
        " [685 627]\n",
        " [686 628]\n",
        " [686 629]\n",
        " [686 630]\n",
        " [687 631]\n",
        " [687 632]\n",
        " [688 632]\n",
        " [688 633]\n",
        " [689 634]\n",
        " [689 635]\n",
        " [690 636]\n",
        " [690 637]\n",
        " [691 638]\n",
        " [691 639]\n",
        " [692 640]\n",
        " [692 640]\n",
        " [692 641]\n",
        " [693 642]\n",
        " [693 643]\n",
        " [694 644]\n",
        " [694 645]\n",
        " [695 646]\n",
        " [695 647]\n",
        " [696 648]\n",
        " [696 648]\n",
        " [697 649]\n",
        " [697 650]\n",
        " [698 651]\n",
        " [698 652]\n",
        " [698 653]\n",
        " [699 654]\n",
        " [699 655]\n",
        " [700 656]\n",
        " [700 657]\n",
        " [701 657]\n",
        " [701 658]\n",
        " [702 659]\n",
        " [702 660]\n",
        " [703 661]\n",
        " [703 662]\n",
        " [703 663]\n",
        " [704 664]\n",
        " [704 665]]\n"
       ]
      }
     ],
     "prompt_number": 52
    },
    {
     "cell_type": "code",
     "collapsed": false,
     "input": [
      "tmp = np.where((distanceMatrix*edges) == np.min((distanceMatrix*edges)[np.nonzero(distanceMatrix*edges)]))\n",
      "print tmp\n",
      "ax.scatter(tmp[1], tmp[0], c='g')"
     ],
     "language": "python",
     "metadata": {},
     "outputs": [
      {
       "output_type": "stream",
       "stream": "stdout",
       "text": [
        "(array([537, 537, 538, 540]), array([641, 643, 643, 642]))\n"
       ]
      },
      {
       "metadata": {},
       "output_type": "pyout",
       "prompt_number": 38,
       "text": [
        "<matplotlib.collections.PathCollection at 0x7f4ef1694090>"
       ]
      }
     ],
     "prompt_number": 38
    },
    {
     "cell_type": "code",
     "collapsed": false,
     "input": [
      "points = findSplitSegment(line, [firstFrame.shape[0]-1,firstFrame.shape[1]-1])\n",
      "\n",
      "\n",
      "fig = plt.figure(figsize=(10, 10))\n",
      "\n",
      "ax = fig.add_subplot(111)\n",
      "ax.set_xlabel('X')\n",
      "ax.set_ylabel('Y')\n",
      "ax.imshow(distanceMatrix*edges, interpolation='nearest')\n",
      "\n",
      "ax.scatter(points[:, 0], points[:, 1], c='r')\n",
      "#     ax.scatter(point2[0], point2[1], c='b')\n",
      "ax.plot(bestFitLine[:, 0], bestFitLine[:, 1], c='r')"
     ],
     "language": "python",
     "metadata": {},
     "outputs": [
      {
       "metadata": {},
       "output_type": "pyout",
       "prompt_number": 9,
       "text": [
        "[<matplotlib.lines.Line2D at 0x7f3091663bd0>]"
       ]
      }
     ],
     "prompt_number": 9
    }
   ],
   "metadata": {}
  }
 ]
}