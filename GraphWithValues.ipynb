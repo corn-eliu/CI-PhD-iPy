{
 "metadata": {
  "name": "",
  "signature": "sha256:c26c05f78e6c66405bdedcb3198f273e0ff7f7d90f420e2cbac97facb8994714"
 },
 "nbformat": 3,
 "nbformat_minor": 0,
 "worksheets": [
  {
   "cells": [
    {
     "cell_type": "code",
     "collapsed": false,
     "input": [
      "import matplotlib.pyplot as plt\n",
      "\n",
      "import numpy as np"
     ],
     "language": "python",
     "metadata": {},
     "outputs": [],
     "prompt_number": 1
    },
    {
     "cell_type": "code",
     "collapsed": false,
     "input": [
      "def showCustomGraph(img, title = None, showColorbar = False, integerAxes = True) :\n",
      "    \n",
      "    if title != None :\n",
      "        fig = plt.figure(title)\n",
      "    else :\n",
      "        fig = plt.figure()\n",
      "    \n",
      "    ax = fig.add_subplot(111)\n",
      "    cax = ax.imshow(img, interpolation='nearest')\n",
      "    \n",
      "    numrows, numcols = img.shape\n",
      "    def format_coord(x, y):\n",
      "        col = int(x+0.5)\n",
      "        row = int(y+0.5)\n",
      "        if col>=0 and col<numcols and row>=0 and row<numrows:\n",
      "            z = img[row,col]\n",
      "            if integerAxes :\n",
      "                return 'x=%d, y=%d, z=%1.4f'%(x+0.5, y+0.5, z)\n",
      "            else :\n",
      "                return 'x=%1.4f, y=%1.4f, z=%1.4f'%(x, y, z)\n",
      "        else:\n",
      "            if integerAxes :\n",
      "                return 'x=%d, y=%d'%(x+0.5, y+0.5)\n",
      "            else :\n",
      "                return 'x=%1.4f, y=%1.4f'%(x, y)\n",
      "    \n",
      "    ax.format_coord = format_coord\n",
      "    \n",
      "    if showColorbar :\n",
      "        cax = fig.colorbar(cax)\n",
      "    \n",
      "    plt.show()"
     ],
     "language": "python",
     "metadata": {},
     "outputs": [],
     "prompt_number": 2
    }
   ],
   "metadata": {}
  }
 ]
}