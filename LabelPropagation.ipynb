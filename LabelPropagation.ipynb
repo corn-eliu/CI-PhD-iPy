{
 "metadata": {
  "name": ""
 },
 "nbformat": 3,
 "nbformat_minor": 0,
 "worksheets": [
  {
   "cells": [
    {
     "cell_type": "code",
     "collapsed": false,
     "input": [
      "## Imports and defines\n",
      "%pylab \n",
      "\n",
      "from PIL import Image\n",
      "from PySide import QtCore, QtGui\n",
      "\n",
      "import numpy as np\n",
      "import scipy as sp\n",
      "import scipy.io as sio\n",
      "import cv2\n",
      "import cv\n",
      "import glob\n",
      "import time\n",
      "import sys\n",
      "import os\n",
      "import re\n",
      "from scipy import ndimage\n",
      "from scipy import stats\n",
      "\n",
      "from tsne import tsne\n",
      "\n",
      "from _emd import emd\n",
      "\n",
      "import GraphWithValues as gwv\n",
      "import VideoTexturesUtils as vtu\n",
      "import ComputeGridFeatures as cgf\n",
      "\n",
      "dataFolder = \"/home/ilisescu/PhD/data/\"\n",
      "\n",
      "app = QtGui.QApplication(sys.argv)"
     ],
     "language": "python",
     "metadata": {},
     "outputs": [
      {
       "output_type": "stream",
       "stream": "stdout",
       "text": [
        "Using matplotlib backend: TkAgg\n",
        "Populating the interactive namespace from numpy and matplotlib\n"
       ]
      }
     ],
     "prompt_number": 1
    },
    {
     "cell_type": "code",
     "collapsed": false,
     "input": [
      "## read frames from sequence of images\n",
      "# sampleData = \"pendulum/\"\n",
      "sampleData = \"ribbon2/\"\n",
      "# sampleData = \"flag_blender/\"\n",
      "# sampleData = \"ribbon1_matted/\"\n",
      "# sampleData = \"little_palm1_cropped/\"\n",
      "# sampleData = \"ballAnimation/\"\n",
      "# sampleData = \"eu_flag_ph_left/\"\n",
      "outputData = dataFolder+sampleData\n",
      "\n",
      "## Find pngs in sample data\n",
      "frames = glob.glob(dataFolder + sampleData + \"frame-*.png\")\n",
      "mattes = glob.glob(dataFolder + sampleData + \"matte-*.png\")\n",
      "frames = np.sort(frames)\n",
      "mattes = np.sort(mattes)#[0:len(frames)-10]\n",
      "numFrames = len(frames)\n",
      "frameSize = cv2.imread(frames[0]).shape\n",
      "print numFrames, len(mattes)"
     ],
     "language": "python",
     "metadata": {},
     "outputs": [
      {
       "output_type": "stream",
       "stream": "stdout",
       "text": [
        "1280 1280\n"
       ]
      }
     ],
     "prompt_number": 2
    },
    {
     "cell_type": "code",
     "collapsed": false,
     "input": [
      "## compute features for image\n",
      "blocksPerWidth = 16\n",
      "blocksPerHeight = 16\n",
      "subDivisions = blocksPerWidth*blocksPerHeight\n",
      "\n",
      "## given block sizes and img sizes build indices representing each block\n",
      "imageSize = np.array(cv2.cvtColor(cv2.imread(frames[0]), cv2.COLOR_BGR2RGB)).shape\n",
      "stencils = cgf.stencil2D(blocksPerWidth, blocksPerHeight, imageSize)\n",
      "\n",
      "features = cgf.histFgFeatures(stencils, subDivisions, frames, mattes)\n",
      "figure(); imshow(features.T, interpolation='nearest')"
     ],
     "language": "python",
     "metadata": {},
     "outputs": [
      {
       "output_type": "stream",
       "stream": "stdout",
       "text": [
        "\r",
        "Computed features for frame 0 of 1280 in 0.0831739902496"
       ]
      },
      {
       "output_type": "stream",
       "stream": "stdout",
       "text": [
        "\r",
        "Computed features for frame 1 of 1280 in 0.073664188385"
       ]
      },
      {
       "output_type": "stream",
       "stream": "stdout",
       "text": [
        "\r",
        "Computed features for frame 2 of 1280 in 0.0755949020386"
       ]
      },
      {
       "output_type": "stream",
       "stream": "stdout",
       "text": [
        "\r",
        "Computed features for frame 3 of 1280 in 0.073930978775"
       ]
      },
      {
       "output_type": "stream",
       "stream": "stdout",
       "text": [
        "\r",
        "Computed features for frame 4 of 1280 in 0.0767428874969"
       ]
      },
      {
       "output_type": "stream",
       "stream": "stdout",
       "text": [
        "\r",
        "Computed features for frame 5 of 1280 in 0.0747010707855"
       ]
      },
      {
       "output_type": "stream",
       "stream": "stdout",
       "text": [
        "\r",
        "Computed features for frame 6 of 1280 in 0.0793609619141"
       ]
      },
      {
       "output_type": "stream",
       "stream": "stdout",
       "text": [
        "\r",
        "Computed features for frame 7 of 1280 in 0.0787410736084"
       ]
      },
      {
       "output_type": "stream",
       "stream": "stdout",
       "text": [
        "\r",
        "Computed features for frame 8 of 1280 in 0.0771698951721"
       ]
      },
      {
       "output_type": "stream",
       "stream": "stdout",
       "text": [
        "\r",
        "Computed features for frame 9 of 1280 in 0.0745930671692"
       ]
      },
      {
       "output_type": "stream",
       "stream": "stdout",
       "text": [
        "\r",
        "Computed features for frame 10 of 1280 in 0.0762419700623"
       ]
      },
      {
       "output_type": "stream",
       "stream": "stdout",
       "text": [
        "\r",
        "Computed features for frame 11 of 1280 in 0.0746729373932"
       ]
      },
      {
       "output_type": "stream",
       "stream": "stdout",
       "text": [
        "\r",
        "Computed features for frame 12 of 1280 in 0.0751569271088"
       ]
      },
      {
       "output_type": "stream",
       "stream": "stdout",
       "text": [
        "\r",
        "Computed features for frame 13 of 1280 in 0.0748040676117"
       ]
      },
      {
       "output_type": "stream",
       "stream": "stdout",
       "text": [
        "\r",
        "Computed features for frame 14 of 1280 in 0.0753700733185"
       ]
      },
      {
       "output_type": "stream",
       "stream": "stdout",
       "text": [
        "\r",
        "Computed features for frame 15 of 1280 in 0.0778968334198"
       ]
      },
      {
       "output_type": "stream",
       "stream": "stdout",
       "text": [
        "\r",
        "Computed features for frame 16 of 1280 in 0.0752019882202"
       ]
      },
      {
       "output_type": "stream",
       "stream": "stdout",
       "text": [
        "\r",
        "Computed features for frame 17 of 1280 in 0.0759420394897"
       ]
      },
      {
       "output_type": "stream",
       "stream": "stdout",
       "text": [
        "\r",
        "Computed features for frame 18 of 1280 in 0.0748560428619"
       ]
      },
      {
       "output_type": "stream",
       "stream": "stdout",
       "text": [
        "\r",
        "Computed features for frame 19 of 1280 in 0.0754690170288"
       ]
      },
      {
       "output_type": "stream",
       "stream": "stdout",
       "text": [
        "\r",
        "Computed features for frame 20 of 1280 in 0.0748791694641"
       ]
      },
      {
       "output_type": "stream",
       "stream": "stdout",
       "text": [
        "\r",
        "Computed features for frame 21 of 1280 in 0.0780100822449"
       ]
      },
      {
       "output_type": "stream",
       "stream": "stdout",
       "text": [
        "\r",
        "Computed features for frame 22 of 1280 in 0.0746750831604"
       ]
      },
      {
       "output_type": "stream",
       "stream": "stdout",
       "text": [
        "\r",
        "Computed features for frame 23 of 1280 in 0.0782959461212"
       ]
      },
      {
       "output_type": "stream",
       "stream": "stdout",
       "text": [
        "\r",
        "Computed features for frame 24 of 1280 in 0.0746920108795"
       ]
      },
      {
       "output_type": "stream",
       "stream": "stdout",
       "text": [
        "\r",
        "Computed features for frame 25 of 1280 in 0.0755779743195"
       ]
      },
      {
       "output_type": "stream",
       "stream": "stdout",
       "text": [
        "\r",
        "Computed features for frame 26 of 1280 in 0.0748860836029"
       ]
      },
      {
       "output_type": "stream",
       "stream": "stdout",
       "text": [
        "\r",
        "Computed features for frame 27 of 1280 in 0.074826002121"
       ]
      },
      {
       "output_type": "stream",
       "stream": "stdout",
       "text": [
        "\r",
        "Computed features for frame 28 of 1280 in 0.0749320983887"
       ]
      },
      {
       "output_type": "stream",
       "stream": "stdout",
       "text": [
        "\r",
        "Computed features for frame 29 of 1280 in 0.0776469707489"
       ]
      },
      {
       "output_type": "stream",
       "stream": "stdout",
       "text": [
        "\r",
        "Computed features for frame 30 of 1280 in 0.0763018131256"
       ]
      },
      {
       "output_type": "stream",
       "stream": "stdout",
       "text": [
        "\r",
        "Computed features for frame 31 of 1280 in 0.0753901004791"
       ]
      },
      {
       "output_type": "stream",
       "stream": "stdout",
       "text": [
        "\r",
        "Computed features for frame 32 of 1280 in 0.0731480121613"
       ]
      },
      {
       "output_type": "stream",
       "stream": "stdout",
       "text": [
        "\r",
        "Computed features for frame 33 of 1280 in 0.0750138759613"
       ]
      },
      {
       "output_type": "stream",
       "stream": "stdout",
       "text": [
        "\r",
        "Computed features for frame 34 of 1280 in 0.0738861560822"
       ]
      },
      {
       "output_type": "stream",
       "stream": "stdout",
       "text": [
        "\r",
        "Computed features for frame 35 of 1280 in 0.0725321769714"
       ]
      },
      {
       "output_type": "stream",
       "stream": "stdout",
       "text": [
        "\r",
        "Computed features for frame 36 of 1280 in 0.0739669799805"
       ]
      },
      {
       "output_type": "stream",
       "stream": "stdout",
       "text": [
        "\r",
        "Computed features for frame 37 of 1280 in 0.0736651420593"
       ]
      },
      {
       "output_type": "stream",
       "stream": "stdout",
       "text": [
        "\r",
        "Computed features for frame 38 of 1280 in 0.0732560157776"
       ]
      },
      {
       "output_type": "stream",
       "stream": "stdout",
       "text": [
        "\r",
        "Computed features for frame 39 of 1280 in 0.0739588737488"
       ]
      },
      {
       "output_type": "stream",
       "stream": "stdout",
       "text": [
        "\r",
        "Computed features for frame 40 of 1280 in 0.0736939907074"
       ]
      },
      {
       "output_type": "stream",
       "stream": "stdout",
       "text": [
        "\r",
        "Computed features for frame 41 of 1280 in 0.0753769874573"
       ]
      },
      {
       "output_type": "stream",
       "stream": "stdout",
       "text": [
        "\r",
        "Computed features for frame 42 of 1280 in 0.0755140781403"
       ]
      },
      {
       "output_type": "stream",
       "stream": "stdout",
       "text": [
        "\r",
        "Computed features for frame 43 of 1280 in 0.07386302948"
       ]
      },
      {
       "output_type": "stream",
       "stream": "stdout",
       "text": [
        "\r",
        "Computed features for frame 44 of 1280 in 0.0774550437927"
       ]
      },
      {
       "output_type": "stream",
       "stream": "stdout",
       "text": [
        "\r",
        "Computed features for frame 45 of 1280 in 0.0967271327972"
       ]
      },
      {
       "output_type": "stream",
       "stream": "stdout",
       "text": [
        "\r",
        "Computed features for frame 46 of 1280 in 0.10511302948"
       ]
      },
      {
       "output_type": "stream",
       "stream": "stdout",
       "text": [
        "\r",
        "Computed features for frame 47 of 1280 in 0.0981299877167"
       ]
      },
      {
       "output_type": "stream",
       "stream": "stdout",
       "text": [
        "\r",
        "Computed features for frame 48 of 1280 in 0.078428030014"
       ]
      },
      {
       "output_type": "stream",
       "stream": "stdout",
       "text": [
        "\r",
        "Computed features for frame 49 of 1280 in 0.080304145813"
       ]
      },
      {
       "output_type": "stream",
       "stream": "stdout",
       "text": [
        "\r",
        "Computed features for frame 50 of 1280 in 0.0748670101166"
       ]
      },
      {
       "output_type": "stream",
       "stream": "stdout",
       "text": [
        "\r",
        "Computed features for frame 51 of 1280 in 0.0783610343933"
       ]
      },
      {
       "output_type": "stream",
       "stream": "stdout",
       "text": [
        "\r",
        "Computed features for frame 52 of 1280 in 0.0856909751892"
       ]
      },
      {
       "output_type": "stream",
       "stream": "stdout",
       "text": [
        "\r",
        "Computed features for frame 53 of 1280 in 0.0755760669708"
       ]
      },
      {
       "output_type": "stream",
       "stream": "stdout",
       "text": [
        "\r",
        "Computed features for frame 54 of 1280 in 0.0768938064575"
       ]
      },
      {
       "output_type": "stream",
       "stream": "stdout",
       "text": [
        "\r",
        "Computed features for frame 55 of 1280 in 0.074117898941"
       ]
      },
      {
       "output_type": "stream",
       "stream": "stdout",
       "text": [
        "\r",
        "Computed features for frame 56 of 1280 in 0.0747129917145"
       ]
      },
      {
       "output_type": "stream",
       "stream": "stdout",
       "text": [
        "\r",
        "Computed features for frame 57 of 1280 in 0.0748131275177"
       ]
      },
      {
       "output_type": "stream",
       "stream": "stdout",
       "text": [
        "\r",
        "Computed features for frame 58 of 1280 in 0.0743660926819"
       ]
      },
      {
       "output_type": "stream",
       "stream": "stdout",
       "text": [
        "\r",
        "Computed features for frame 59 of 1280 in 0.0753059387207"
       ]
      },
      {
       "output_type": "stream",
       "stream": "stdout",
       "text": [
        "\r",
        "Computed features for frame 60 of 1280 in 0.0763468742371"
       ]
      },
      {
       "output_type": "stream",
       "stream": "stdout",
       "text": [
        "\r",
        "Computed features for frame 61 of 1280 in 0.0741889476776"
       ]
      },
      {
       "output_type": "stream",
       "stream": "stdout",
       "text": [
        "\r",
        "Computed features for frame 62 of 1280 in 0.0747601985931"
       ]
      },
      {
       "output_type": "stream",
       "stream": "stdout",
       "text": [
        "\r",
        "Computed features for frame 63 of 1280 in 0.0743269920349"
       ]
      },
      {
       "output_type": "stream",
       "stream": "stdout",
       "text": [
        "\r",
        "Computed features for frame 64 of 1280 in 0.0769231319427"
       ]
      },
      {
       "output_type": "stream",
       "stream": "stdout",
       "text": [
        "\r",
        "Computed features for frame 65 of 1280 in 0.0752120018005"
       ]
      },
      {
       "output_type": "stream",
       "stream": "stdout",
       "text": [
        "\r",
        "Computed features for frame 66 of 1280 in 0.0758330821991"
       ]
      },
      {
       "output_type": "stream",
       "stream": "stdout",
       "text": [
        "\r",
        "Computed features for frame 67 of 1280 in 0.0775821208954"
       ]
      },
      {
       "output_type": "stream",
       "stream": "stdout",
       "text": [
        "\r",
        "Computed features for frame 68 of 1280 in 0.0749769210815"
       ]
      },
      {
       "output_type": "stream",
       "stream": "stdout",
       "text": [
        "\r",
        "Computed features for frame 69 of 1280 in 0.0742449760437"
       ]
      },
      {
       "output_type": "stream",
       "stream": "stdout",
       "text": [
        "\r",
        "Computed features for frame 70 of 1280 in 0.0756340026855"
       ]
      },
      {
       "output_type": "stream",
       "stream": "stdout",
       "text": [
        "\r",
        "Computed features for frame 71 of 1280 in 0.077064037323"
       ]
      },
      {
       "output_type": "stream",
       "stream": "stdout",
       "text": [
        "\r",
        "Computed features for frame 72 of 1280 in 0.0752000808716"
       ]
      },
      {
       "output_type": "stream",
       "stream": "stdout",
       "text": [
        "\r",
        "Computed features for frame 73 of 1280 in 0.075366973877"
       ]
      },
      {
       "output_type": "stream",
       "stream": "stdout",
       "text": [
        "\r",
        "Computed features for frame 74 of 1280 in 0.0774772167206"
       ]
      },
      {
       "output_type": "stream",
       "stream": "stdout",
       "text": [
        "\r",
        "Computed features for frame 75 of 1280 in 0.0755150318146"
       ]
      },
      {
       "output_type": "stream",
       "stream": "stdout",
       "text": [
        "\r",
        "Computed features for frame 76 of 1280 in 0.0740270614624"
       ]
      },
      {
       "output_type": "stream",
       "stream": "stdout",
       "text": [
        "\r",
        "Computed features for frame 77 of 1280 in 0.0749859809875"
       ]
      },
      {
       "output_type": "stream",
       "stream": "stdout",
       "text": [
        "\r",
        "Computed features for frame 78 of 1280 in 0.076495885849"
       ]
      },
      {
       "output_type": "stream",
       "stream": "stdout",
       "text": [
        "\r",
        "Computed features for frame 79 of 1280 in 0.0783839225769"
       ]
      },
      {
       "output_type": "stream",
       "stream": "stdout",
       "text": [
        "\r",
        "Computed features for frame 80 of 1280 in 0.07608294487"
       ]
      },
      {
       "output_type": "stream",
       "stream": "stdout",
       "text": [
        "\r",
        "Computed features for frame 81 of 1280 in 0.075868844986"
       ]
      },
      {
       "output_type": "stream",
       "stream": "stdout",
       "text": [
        "\r",
        "Computed features for frame 82 of 1280 in 0.0743799209595"
       ]
      },
      {
       "output_type": "stream",
       "stream": "stdout",
       "text": [
        "\r",
        "Computed features for frame 83 of 1280 in 0.0751440525055"
       ]
      },
      {
       "output_type": "stream",
       "stream": "stdout",
       "text": [
        "\r",
        "Computed features for frame 84 of 1280 in 0.0740358829498"
       ]
      },
      {
       "output_type": "stream",
       "stream": "stdout",
       "text": [
        "\r",
        "Computed features for frame 85 of 1280 in 0.0771791934967"
       ]
      },
      {
       "output_type": "stream",
       "stream": "stdout",
       "text": [
        "\r",
        "Computed features for frame 86 of 1280 in 0.0772299766541"
       ]
      },
      {
       "output_type": "stream",
       "stream": "stdout",
       "text": [
        "\r",
        "Computed features for frame 87 of 1280 in 0.0739150047302"
       ]
      },
      {
       "output_type": "stream",
       "stream": "stdout",
       "text": [
        "\r",
        "Computed features for frame 88 of 1280 in 0.0754840373993"
       ]
      },
      {
       "output_type": "stream",
       "stream": "stdout",
       "text": [
        "\r",
        "Computed features for frame 89 of 1280 in 0.0753710269928"
       ]
      },
      {
       "output_type": "stream",
       "stream": "stdout",
       "text": [
        "\r",
        "Computed features for frame 90 of 1280 in 0.0775520801544"
       ]
      },
      {
       "output_type": "stream",
       "stream": "stdout",
       "text": [
        "\r",
        "Computed features for frame 91 of 1280 in 0.0754890441895"
       ]
      },
      {
       "output_type": "stream",
       "stream": "stdout",
       "text": [
        "\r",
        "Computed features for frame 92 of 1280 in 0.073548078537"
       ]
      },
      {
       "output_type": "stream",
       "stream": "stdout",
       "text": [
        "\r",
        "Computed features for frame 93 of 1280 in 0.0756988525391"
       ]
      },
      {
       "output_type": "stream",
       "stream": "stdout",
       "text": [
        "\r",
        "Computed features for frame 94 of 1280 in 0.0749001502991"
       ]
      },
      {
       "output_type": "stream",
       "stream": "stdout",
       "text": [
        "\r",
        "Computed features for frame 95 of 1280 in 0.0747120380402"
       ]
      },
      {
       "output_type": "stream",
       "stream": "stdout",
       "text": [
        "\r",
        "Computed features for frame 96 of 1280 in 0.075101852417"
       ]
      },
      {
       "output_type": "stream",
       "stream": "stdout",
       "text": [
        "\r",
        "Computed features for frame 97 of 1280 in 0.0756239891052"
       ]
      },
      {
       "output_type": "stream",
       "stream": "stdout",
       "text": [
        "\r",
        "Computed features for frame 98 of 1280 in 0.0758149623871"
       ]
      },
      {
       "output_type": "stream",
       "stream": "stdout",
       "text": [
        "\r",
        "Computed features for frame 99 of 1280 in 0.0756227970123"
       ]
      },
      {
       "output_type": "stream",
       "stream": "stdout",
       "text": [
        "\r",
        "Computed features for frame 100 of 1280 in 0.07408618927"
       ]
      },
      {
       "output_type": "stream",
       "stream": "stdout",
       "text": [
        "\r",
        "Computed features for frame 101 of 1280 in 0.0773479938507"
       ]
      },
      {
       "output_type": "stream",
       "stream": "stdout",
       "text": [
        "\r",
        "Computed features for frame 102 of 1280 in 0.0750999450684"
       ]
      },
      {
       "output_type": "stream",
       "stream": "stdout",
       "text": [
        "\r",
        "Computed features for frame 103 of 1280 in 0.0753607749939"
       ]
      },
      {
       "output_type": "stream",
       "stream": "stdout",
       "text": [
        "\r",
        "Computed features for frame 104 of 1280 in 0.0750980377197"
       ]
      },
      {
       "output_type": "stream",
       "stream": "stdout",
       "text": [
        "\r",
        "Computed features for frame 105 of 1280 in 0.0766410827637"
       ]
      },
      {
       "output_type": "stream",
       "stream": "stdout",
       "text": [
        "\r",
        "Computed features for frame 106 of 1280 in 0.0766389369965"
       ]
      },
      {
       "output_type": "stream",
       "stream": "stdout",
       "text": [
        "\r",
        "Computed features for frame 107 of 1280 in 0.0767168998718"
       ]
      },
      {
       "output_type": "stream",
       "stream": "stdout",
       "text": [
        "\r",
        "Computed features for frame 108 of 1280 in 0.074177980423"
       ]
      },
      {
       "output_type": "stream",
       "stream": "stdout",
       "text": [
        "\r",
        "Computed features for frame 109 of 1280 in 0.0740120410919"
       ]
      },
      {
       "output_type": "stream",
       "stream": "stdout",
       "text": [
        "\r",
        "Computed features for frame 110 of 1280 in 0.0734570026398"
       ]
      },
      {
       "output_type": "stream",
       "stream": "stdout",
       "text": [
        "\r",
        "Computed features for frame 111 of 1280 in 0.0738570690155"
       ]
      },
      {
       "output_type": "stream",
       "stream": "stdout",
       "text": [
        "\r",
        "Computed features for frame 112 of 1280 in 0.0739860534668"
       ]
      },
      {
       "output_type": "stream",
       "stream": "stdout",
       "text": [
        "\r",
        "Computed features for frame 113 of 1280 in 0.073606967926"
       ]
      },
      {
       "output_type": "stream",
       "stream": "stdout",
       "text": [
        "\r",
        "Computed features for frame 114 of 1280 in 0.074863910675"
       ]
      },
      {
       "output_type": "stream",
       "stream": "stdout",
       "text": [
        "\r",
        "Computed features for frame 115 of 1280 in 0.0734121799469"
       ]
      },
      {
       "output_type": "stream",
       "stream": "stdout",
       "text": [
        "\r",
        "Computed features for frame 116 of 1280 in 0.0742039680481"
       ]
      },
      {
       "output_type": "stream",
       "stream": "stdout",
       "text": [
        "\r",
        "Computed features for frame 117 of 1280 in 0.0744621753693"
       ]
      },
      {
       "output_type": "stream",
       "stream": "stdout",
       "text": [
        "\r",
        "Computed features for frame 118 of 1280 in 0.0752151012421"
       ]
      },
      {
       "output_type": "stream",
       "stream": "stdout",
       "text": [
        "\r",
        "Computed features for frame 119 of 1280 in 0.0740580558777"
       ]
      },
      {
       "output_type": "stream",
       "stream": "stdout",
       "text": [
        "\r",
        "Computed features for frame 120 of 1280 in 0.076858997345"
       ]
      },
      {
       "output_type": "stream",
       "stream": "stdout",
       "text": [
        "\r",
        "Computed features for frame 121 of 1280 in 0.0739858150482"
       ]
      },
      {
       "output_type": "stream",
       "stream": "stdout",
       "text": [
        "\r",
        "Computed features for frame 122 of 1280 in 0.073518037796"
       ]
      },
      {
       "output_type": "stream",
       "stream": "stdout",
       "text": [
        "\r",
        "Computed features for frame 123 of 1280 in 0.0748040676117"
       ]
      },
      {
       "output_type": "stream",
       "stream": "stdout",
       "text": [
        "\r",
        "Computed features for frame 124 of 1280 in 0.073333978653"
       ]
      },
      {
       "output_type": "stream",
       "stream": "stdout",
       "text": [
        "\r",
        "Computed features for frame 125 of 1280 in 0.0742092132568"
       ]
      },
      {
       "output_type": "stream",
       "stream": "stdout",
       "text": [
        "\r",
        "Computed features for frame 126 of 1280 in 0.0770809650421"
       ]
      },
      {
       "output_type": "stream",
       "stream": "stdout",
       "text": [
        "\r",
        "Computed features for frame 127 of 1280 in 0.0746910572052"
       ]
      },
      {
       "output_type": "stream",
       "stream": "stdout",
       "text": [
        "\r",
        "Computed features for frame 128 of 1280 in 0.0774369239807"
       ]
      },
      {
       "output_type": "stream",
       "stream": "stdout",
       "text": [
        "\r",
        "Computed features for frame 129 of 1280 in 0.0763790607452"
       ]
      },
      {
       "output_type": "stream",
       "stream": "stdout",
       "text": [
        "\r",
        "Computed features for frame 130 of 1280 in 0.0752069950104"
       ]
      },
      {
       "output_type": "stream",
       "stream": "stdout",
       "text": [
        "\r",
        "Computed features for frame 131 of 1280 in 0.0756831169128"
       ]
      },
      {
       "output_type": "stream",
       "stream": "stdout",
       "text": [
        "\r",
        "Computed features for frame 132 of 1280 in 0.0765070915222"
       ]
      },
      {
       "output_type": "stream",
       "stream": "stdout",
       "text": [
        "\r",
        "Computed features for frame 133 of 1280 in 0.0783259868622"
       ]
      },
      {
       "output_type": "stream",
       "stream": "stdout",
       "text": [
        "\r",
        "Computed features for frame 134 of 1280 in 0.0748519897461"
       ]
      },
      {
       "output_type": "stream",
       "stream": "stdout",
       "text": [
        "\r",
        "Computed features for frame 135 of 1280 in 0.0760588645935"
       ]
      },
      {
       "output_type": "stream",
       "stream": "stdout",
       "text": [
        "\r",
        "Computed features for frame 136 of 1280 in 0.0753362178802"
       ]
      },
      {
       "output_type": "stream",
       "stream": "stdout",
       "text": [
        "\r",
        "Computed features for frame 137 of 1280 in 0.0743720531464"
       ]
      },
      {
       "output_type": "stream",
       "stream": "stdout",
       "text": [
        "\r",
        "Computed features for frame 138 of 1280 in 0.0733439922333"
       ]
      },
      {
       "output_type": "stream",
       "stream": "stdout",
       "text": [
        "\r",
        "Computed features for frame 139 of 1280 in 0.0745439529419"
       ]
      },
      {
       "output_type": "stream",
       "stream": "stdout",
       "text": [
        "\r",
        "Computed features for frame 140 of 1280 in 0.0746140480042"
       ]
      },
      {
       "output_type": "stream",
       "stream": "stdout",
       "text": [
        "\r",
        "Computed features for frame 141 of 1280 in 0.0796859264374"
       ]
      },
      {
       "output_type": "stream",
       "stream": "stdout",
       "text": [
        "\r",
        "Computed features for frame 142 of 1280 in 0.0779960155487"
       ]
      },
      {
       "output_type": "stream",
       "stream": "stdout",
       "text": [
        "\r",
        "Computed features for frame 143 of 1280 in 0.0777018070221"
       ]
      },
      {
       "output_type": "stream",
       "stream": "stdout",
       "text": [
        "\r",
        "Computed features for frame 144 of 1280 in 0.0836319923401"
       ]
      },
      {
       "output_type": "stream",
       "stream": "stdout",
       "text": [
        "\r",
        "Computed features for frame 145 of 1280 in 0.0776789188385"
       ]
      },
      {
       "output_type": "stream",
       "stream": "stdout",
       "text": [
        "\r",
        "Computed features for frame 146 of 1280 in 0.0798819065094"
       ]
      },
      {
       "output_type": "stream",
       "stream": "stdout",
       "text": [
        "\r",
        "Computed features for frame 147 of 1280 in 0.0745120048523"
       ]
      },
      {
       "output_type": "stream",
       "stream": "stdout",
       "text": [
        "\r",
        "Computed features for frame 148 of 1280 in 0.0731320381165"
       ]
      },
      {
       "output_type": "stream",
       "stream": "stdout",
       "text": [
        "\r",
        "Computed features for frame 149 of 1280 in 0.076700925827"
       ]
      },
      {
       "output_type": "stream",
       "stream": "stdout",
       "text": [
        "\r",
        "Computed features for frame 150 of 1280 in 0.0773661136627"
       ]
      },
      {
       "output_type": "stream",
       "stream": "stdout",
       "text": [
        "\r",
        "Computed features for frame 151 of 1280 in 0.0744841098785"
       ]
      },
      {
       "output_type": "stream",
       "stream": "stdout",
       "text": [
        "\r",
        "Computed features for frame 152 of 1280 in 0.0759799480438"
       ]
      },
      {
       "output_type": "stream",
       "stream": "stdout",
       "text": [
        "\r",
        "Computed features for frame 153 of 1280 in 0.0762400627136"
       ]
      },
      {
       "output_type": "stream",
       "stream": "stdout",
       "text": [
        "\r",
        "Computed features for frame 154 of 1280 in 0.0767397880554"
       ]
      },
      {
       "output_type": "stream",
       "stream": "stdout",
       "text": [
        "\r",
        "Computed features for frame 155 of 1280 in 0.0766499042511"
       ]
      },
      {
       "output_type": "stream",
       "stream": "stdout",
       "text": [
        "\r",
        "Computed features for frame 156 of 1280 in 0.0779180526733"
       ]
      },
      {
       "output_type": "stream",
       "stream": "stdout",
       "text": [
        "\r",
        "Computed features for frame 157 of 1280 in 0.0766251087189"
       ]
      },
      {
       "output_type": "stream",
       "stream": "stdout",
       "text": [
        "\r",
        "Computed features for frame 158 of 1280 in 0.076229095459"
       ]
      },
      {
       "output_type": "stream",
       "stream": "stdout",
       "text": [
        "\r",
        "Computed features for frame 159 of 1280 in 0.0778260231018"
       ]
      },
      {
       "output_type": "stream",
       "stream": "stdout",
       "text": [
        "\r",
        "Computed features for frame 160 of 1280 in 0.0758371353149"
       ]
      },
      {
       "output_type": "stream",
       "stream": "stdout",
       "text": [
        "\r",
        "Computed features for frame 161 of 1280 in 0.077574968338"
       ]
      },
      {
       "output_type": "stream",
       "stream": "stdout",
       "text": [
        "\r",
        "Computed features for frame 162 of 1280 in 0.0757188796997"
       ]
      },
      {
       "output_type": "stream",
       "stream": "stdout",
       "text": [
        "\r",
        "Computed features for frame 163 of 1280 in 0.0754070281982"
       ]
      },
      {
       "output_type": "stream",
       "stream": "stdout",
       "text": [
        "\r",
        "Computed features for frame 164 of 1280 in 0.0749449729919"
       ]
      },
      {
       "output_type": "stream",
       "stream": "stdout",
       "text": [
        "\r",
        "Computed features for frame 165 of 1280 in 0.0791661739349"
       ]
      },
      {
       "output_type": "stream",
       "stream": "stdout",
       "text": [
        "\r",
        "Computed features for frame 166 of 1280 in 0.0765368938446"
       ]
      },
      {
       "output_type": "stream",
       "stream": "stdout",
       "text": [
        "\r",
        "Computed features for frame 167 of 1280 in 0.0750110149384"
       ]
      },
      {
       "output_type": "stream",
       "stream": "stdout",
       "text": [
        "\r",
        "Computed features for frame 168 of 1280 in 0.075052022934"
       ]
      },
      {
       "output_type": "stream",
       "stream": "stdout",
       "text": [
        "\r",
        "Computed features for frame 169 of 1280 in 0.0755240917206"
       ]
      },
      {
       "output_type": "stream",
       "stream": "stdout",
       "text": [
        "\r",
        "Computed features for frame 170 of 1280 in 0.0785479545593"
       ]
      },
      {
       "output_type": "stream",
       "stream": "stdout",
       "text": [
        "\r",
        "Computed features for frame 171 of 1280 in 0.0747859477997"
       ]
      },
      {
       "output_type": "stream",
       "stream": "stdout",
       "text": [
        "\r",
        "Computed features for frame 172 of 1280 in 0.0809381008148"
       ]
      },
      {
       "output_type": "stream",
       "stream": "stdout",
       "text": [
        "\r",
        "Computed features for frame 173 of 1280 in 0.0761511325836"
       ]
      },
      {
       "output_type": "stream",
       "stream": "stdout",
       "text": [
        "\r",
        "Computed features for frame 174 of 1280 in 0.0751421451569"
       ]
      },
      {
       "output_type": "stream",
       "stream": "stdout",
       "text": [
        "\r",
        "Computed features for frame 175 of 1280 in 0.0759079456329"
       ]
      },
      {
       "output_type": "stream",
       "stream": "stdout",
       "text": [
        "\r",
        "Computed features for frame 176 of 1280 in 0.0745069980621"
       ]
      },
      {
       "output_type": "stream",
       "stream": "stdout",
       "text": [
        "\r",
        "Computed features for frame 177 of 1280 in 0.0748789310455"
       ]
      },
      {
       "output_type": "stream",
       "stream": "stdout",
       "text": [
        "\r",
        "Computed features for frame 178 of 1280 in 0.075404882431"
       ]
      },
      {
       "output_type": "stream",
       "stream": "stdout",
       "text": [
        "\r",
        "Computed features for frame 179 of 1280 in 0.0746309757233"
       ]
      },
      {
       "output_type": "stream",
       "stream": "stdout",
       "text": [
        "\r",
        "Computed features for frame 180 of 1280 in 0.0776560306549"
       ]
      },
      {
       "output_type": "stream",
       "stream": "stdout",
       "text": [
        "\r",
        "Computed features for frame 181 of 1280 in 0.0745830535889"
       ]
      },
      {
       "output_type": "stream",
       "stream": "stdout",
       "text": [
        "\r",
        "Computed features for frame 182 of 1280 in 0.0741639137268"
       ]
      },
      {
       "output_type": "stream",
       "stream": "stdout",
       "text": [
        "\r",
        "Computed features for frame 183 of 1280 in 0.0771021842957"
       ]
      },
      {
       "output_type": "stream",
       "stream": "stdout",
       "text": [
        "\r",
        "Computed features for frame 184 of 1280 in 0.0747129917145"
       ]
      },
      {
       "output_type": "stream",
       "stream": "stdout",
       "text": [
        "\r",
        "Computed features for frame 185 of 1280 in 0.079803943634"
       ]
      },
      {
       "output_type": "stream",
       "stream": "stdout",
       "text": [
        "\r",
        "Computed features for frame 186 of 1280 in 0.075651884079"
       ]
      },
      {
       "output_type": "stream",
       "stream": "stdout",
       "text": [
        "\r",
        "Computed features for frame 187 of 1280 in 0.0754880905151"
       ]
      },
      {
       "output_type": "stream",
       "stream": "stdout",
       "text": [
        "\r",
        "Computed features for frame 188 of 1280 in 0.0750749111176"
       ]
      },
      {
       "output_type": "stream",
       "stream": "stdout",
       "text": [
        "\r",
        "Computed features for frame 189 of 1280 in 0.0759069919586"
       ]
      },
      {
       "output_type": "stream",
       "stream": "stdout",
       "text": [
        "\r",
        "Computed features for frame 190 of 1280 in 0.0740878582001"
       ]
      },
      {
       "output_type": "stream",
       "stream": "stdout",
       "text": [
        "\r",
        "Computed features for frame 191 of 1280 in 0.0753118991852"
       ]
      },
      {
       "output_type": "stream",
       "stream": "stdout",
       "text": [
        "\r",
        "Computed features for frame 192 of 1280 in 0.0744280815125"
       ]
      },
      {
       "output_type": "stream",
       "stream": "stdout",
       "text": [
        "\r",
        "Computed features for frame 193 of 1280 in 0.0752320289612"
       ]
      },
      {
       "output_type": "stream",
       "stream": "stdout",
       "text": [
        "\r",
        "Computed features for frame 194 of 1280 in 0.0739598274231"
       ]
      },
      {
       "output_type": "stream",
       "stream": "stdout",
       "text": [
        "\r",
        "Computed features for frame 195 of 1280 in 0.0796329975128"
       ]
      },
      {
       "output_type": "stream",
       "stream": "stdout",
       "text": [
        "\r",
        "Computed features for frame 196 of 1280 in 0.0755000114441"
       ]
      },
      {
       "output_type": "stream",
       "stream": "stdout",
       "text": [
        "\r",
        "Computed features for frame 197 of 1280 in 0.0733680725098"
       ]
      },
      {
       "output_type": "stream",
       "stream": "stdout",
       "text": [
        "\r",
        "Computed features for frame 198 of 1280 in 0.0741322040558"
       ]
      },
      {
       "output_type": "stream",
       "stream": "stdout",
       "text": [
        "\r",
        "Computed features for frame 199 of 1280 in 0.0771939754486"
       ]
      },
      {
       "output_type": "stream",
       "stream": "stdout",
       "text": [
        "\r",
        "Computed features for frame 200 of 1280 in 0.07461810112"
       ]
      },
      {
       "output_type": "stream",
       "stream": "stdout",
       "text": [
        "\r",
        "Computed features for frame 201 of 1280 in 0.074786901474"
       ]
      },
      {
       "output_type": "stream",
       "stream": "stdout",
       "text": [
        "\r",
        "Computed features for frame 202 of 1280 in 0.0739870071411"
       ]
      },
      {
       "output_type": "stream",
       "stream": "stdout",
       "text": [
        "\r",
        "Computed features for frame 203 of 1280 in 0.073438167572"
       ]
      },
      {
       "output_type": "stream",
       "stream": "stdout",
       "text": [
        "\r",
        "Computed features for frame 204 of 1280 in 0.0746209621429"
       ]
      },
      {
       "output_type": "stream",
       "stream": "stdout",
       "text": [
        "\r",
        "Computed features for frame 205 of 1280 in 0.0735790729523"
       ]
      },
      {
       "output_type": "stream",
       "stream": "stdout",
       "text": [
        "\r",
        "Computed features for frame 206 of 1280 in 0.074501991272"
       ]
      },
      {
       "output_type": "stream",
       "stream": "stdout",
       "text": [
        "\r",
        "Computed features for frame 207 of 1280 in 0.0743370056152"
       ]
      },
      {
       "output_type": "stream",
       "stream": "stdout",
       "text": [
        "\r",
        "Computed features for frame 208 of 1280 in 0.0759429931641"
       ]
      },
      {
       "output_type": "stream",
       "stream": "stdout",
       "text": [
        "\r",
        "Computed features for frame 209 of 1280 in 0.0758819580078"
       ]
      },
      {
       "output_type": "stream",
       "stream": "stdout",
       "text": [
        "\r",
        "Computed features for frame 210 of 1280 in 0.0788109302521"
       ]
      },
      {
       "output_type": "stream",
       "stream": "stdout",
       "text": [
        "\r",
        "Computed features for frame 211 of 1280 in 0.0749988555908"
       ]
      },
      {
       "output_type": "stream",
       "stream": "stdout",
       "text": [
        "\r",
        "Computed features for frame 212 of 1280 in 0.0763680934906"
       ]
      },
      {
       "output_type": "stream",
       "stream": "stdout",
       "text": [
        "\r",
        "Computed features for frame 213 of 1280 in 0.0772440433502"
       ]
      },
      {
       "output_type": "stream",
       "stream": "stdout",
       "text": [
        "\r",
        "Computed features for frame 214 of 1280 in 0.0894861221313"
       ]
      },
      {
       "output_type": "stream",
       "stream": "stdout",
       "text": [
        "\r",
        "Computed features for frame 215 of 1280 in 0.0753519535065"
       ]
      },
      {
       "output_type": "stream",
       "stream": "stdout",
       "text": [
        "\r",
        "Computed features for frame 216 of 1280 in 0.0755209922791"
       ]
      },
      {
       "output_type": "stream",
       "stream": "stdout",
       "text": [
        "\r",
        "Computed features for frame 217 of 1280 in 0.0768048763275"
       ]
      },
      {
       "output_type": "stream",
       "stream": "stdout",
       "text": [
        "\r",
        "Computed features for frame 218 of 1280 in 0.0752511024475"
       ]
      },
      {
       "output_type": "stream",
       "stream": "stdout",
       "text": [
        "\r",
        "Computed features for frame 219 of 1280 in 0.0759160518646"
       ]
      },
      {
       "output_type": "stream",
       "stream": "stdout",
       "text": [
        "\r",
        "Computed features for frame 220 of 1280 in 0.0788488388062"
       ]
      },
      {
       "output_type": "stream",
       "stream": "stdout",
       "text": [
        "\r",
        "Computed features for frame 221 of 1280 in 0.0875959396362"
       ]
      },
      {
       "output_type": "stream",
       "stream": "stdout",
       "text": [
        "\r",
        "Computed features for frame 222 of 1280 in 0.0793039798737"
       ]
      },
      {
       "output_type": "stream",
       "stream": "stdout",
       "text": [
        "\r",
        "Computed features for frame 223 of 1280 in 0.0816421508789"
       ]
      },
      {
       "output_type": "stream",
       "stream": "stdout",
       "text": [
        "\r",
        "Computed features for frame 224 of 1280 in 0.0781400203705"
       ]
      },
      {
       "output_type": "stream",
       "stream": "stdout",
       "text": [
        "\r",
        "Computed features for frame 225 of 1280 in 0.0808229446411"
       ]
      },
      {
       "output_type": "stream",
       "stream": "stdout",
       "text": [
        "\r",
        "Computed features for frame 226 of 1280 in 0.0781099796295"
       ]
      },
      {
       "output_type": "stream",
       "stream": "stdout",
       "text": [
        "\r",
        "Computed features for frame 227 of 1280 in 0.077418088913"
       ]
      },
      {
       "output_type": "stream",
       "stream": "stdout",
       "text": [
        "\r",
        "Computed features for frame 228 of 1280 in 0.0825800895691"
       ]
      },
      {
       "output_type": "stream",
       "stream": "stdout",
       "text": [
        "\r",
        "Computed features for frame 229 of 1280 in 0.0782279968262"
       ]
      },
      {
       "output_type": "stream",
       "stream": "stdout",
       "text": [
        "\r",
        "Computed features for frame 230 of 1280 in 0.0871489048004"
       ]
      },
      {
       "output_type": "stream",
       "stream": "stdout",
       "text": [
        "\r",
        "Computed features for frame 231 of 1280 in 0.0779948234558"
       ]
      },
      {
       "output_type": "stream",
       "stream": "stdout",
       "text": [
        "\r",
        "Computed features for frame 232 of 1280 in 0.0803160667419"
       ]
      },
      {
       "output_type": "stream",
       "stream": "stdout",
       "text": [
        "\r",
        "Computed features for frame 233 of 1280 in 0.0773739814758"
       ]
      },
      {
       "output_type": "stream",
       "stream": "stdout",
       "text": [
        "\r",
        "Computed features for frame 234 of 1280 in 0.0835230350494"
       ]
      },
      {
       "output_type": "stream",
       "stream": "stdout",
       "text": [
        "\r",
        "Computed features for frame 235 of 1280 in 0.0798299312592"
       ]
      },
      {
       "output_type": "stream",
       "stream": "stdout",
       "text": [
        "\r",
        "Computed features for frame 236 of 1280 in 0.0792379379272"
       ]
      },
      {
       "output_type": "stream",
       "stream": "stdout",
       "text": [
        "\r",
        "Computed features for frame 237 of 1280 in 0.0789000988007"
       ]
      },
      {
       "output_type": "stream",
       "stream": "stdout",
       "text": [
        "\r",
        "Computed features for frame 238 of 1280 in 0.0812530517578"
       ]
      },
      {
       "output_type": "stream",
       "stream": "stdout",
       "text": [
        "\r",
        "Computed features for frame 239 of 1280 in 0.0766458511353"
       ]
      },
      {
       "output_type": "stream",
       "stream": "stdout",
       "text": [
        "\r",
        "Computed features for frame 240 of 1280 in 0.080885887146"
       ]
      },
      {
       "output_type": "stream",
       "stream": "stdout",
       "text": [
        "\r",
        "Computed features for frame 241 of 1280 in 0.0751039981842"
       ]
      },
      {
       "output_type": "stream",
       "stream": "stdout",
       "text": [
        "\r",
        "Computed features for frame 242 of 1280 in 0.0765910148621"
       ]
      },
      {
       "output_type": "stream",
       "stream": "stdout",
       "text": [
        "\r",
        "Computed features for frame 243 of 1280 in 0.0783569812775"
       ]
      },
      {
       "output_type": "stream",
       "stream": "stdout",
       "text": [
        "\r",
        "Computed features for frame 244 of 1280 in 0.0751287937164"
       ]
      },
      {
       "output_type": "stream",
       "stream": "stdout",
       "text": [
        "\r",
        "Computed features for frame 245 of 1280 in 0.0760469436646"
       ]
      },
      {
       "output_type": "stream",
       "stream": "stdout",
       "text": [
        "\r",
        "Computed features for frame 246 of 1280 in 0.0736751556396"
       ]
      },
      {
       "output_type": "stream",
       "stream": "stdout",
       "text": [
        "\r",
        "Computed features for frame 247 of 1280 in 0.0765910148621"
       ]
      },
      {
       "output_type": "stream",
       "stream": "stdout",
       "text": [
        "\r",
        "Computed features for frame 248 of 1280 in 0.0746130943298"
       ]
      },
      {
       "output_type": "stream",
       "stream": "stdout",
       "text": [
        "\r",
        "Computed features for frame 249 of 1280 in 0.0764148235321"
       ]
      },
      {
       "output_type": "stream",
       "stream": "stdout",
       "text": [
        "\r",
        "Computed features for frame 250 of 1280 in 0.0741209983826"
       ]
      },
      {
       "output_type": "stream",
       "stream": "stdout",
       "text": [
        "\r",
        "Computed features for frame 251 of 1280 in 0.075028181076"
       ]
      },
      {
       "output_type": "stream",
       "stream": "stdout",
       "text": [
        "\r",
        "Computed features for frame 252 of 1280 in 0.0744750499725"
       ]
      },
      {
       "output_type": "stream",
       "stream": "stdout",
       "text": [
        "\r",
        "Computed features for frame 253 of 1280 in 0.0770449638367"
       ]
      },
      {
       "output_type": "stream",
       "stream": "stdout",
       "text": [
        "\r",
        "Computed features for frame 254 of 1280 in 0.0743019580841"
       ]
      },
      {
       "output_type": "stream",
       "stream": "stdout",
       "text": [
        "\r",
        "Computed features for frame 255 of 1280 in 0.0784270763397"
       ]
      },
      {
       "output_type": "stream",
       "stream": "stdout",
       "text": [
        "\r",
        "Computed features for frame 256 of 1280 in 0.076504945755"
       ]
      },
      {
       "output_type": "stream",
       "stream": "stdout",
       "text": [
        "\r",
        "Computed features for frame 257 of 1280 in 0.0757448673248"
       ]
      },
      {
       "output_type": "stream",
       "stream": "stdout",
       "text": [
        "\r",
        "Computed features for frame 258 of 1280 in 0.0751249790192"
       ]
      },
      {
       "output_type": "stream",
       "stream": "stdout",
       "text": [
        "\r",
        "Computed features for frame 259 of 1280 in 0.0746910572052"
       ]
      },
      {
       "output_type": "stream",
       "stream": "stdout",
       "text": [
        "\r",
        "Computed features for frame 260 of 1280 in 0.0772149562836"
       ]
      },
      {
       "output_type": "stream",
       "stream": "stdout",
       "text": [
        "\r",
        "Computed features for frame 261 of 1280 in 0.0761108398438"
       ]
      },
      {
       "output_type": "stream",
       "stream": "stdout",
       "text": [
        "\r",
        "Computed features for frame 262 of 1280 in 0.0759332180023"
       ]
      },
      {
       "output_type": "stream",
       "stream": "stdout",
       "text": [
        "\r",
        "Computed features for frame 263 of 1280 in 0.0767810344696"
       ]
      },
      {
       "output_type": "stream",
       "stream": "stdout",
       "text": [
        "\r",
        "Computed features for frame 264 of 1280 in 0.0767548084259"
       ]
      },
      {
       "output_type": "stream",
       "stream": "stdout",
       "text": [
        "\r",
        "Computed features for frame 265 of 1280 in 0.07621717453"
       ]
      },
      {
       "output_type": "stream",
       "stream": "stdout",
       "text": [
        "\r",
        "Computed features for frame 266 of 1280 in 0.074177980423"
       ]
      },
      {
       "output_type": "stream",
       "stream": "stdout",
       "text": [
        "\r",
        "Computed features for frame 267 of 1280 in 0.0766758918762"
       ]
      },
      {
       "output_type": "stream",
       "stream": "stdout",
       "text": [
        "\r",
        "Computed features for frame 268 of 1280 in 0.0762920379639"
       ]
      },
      {
       "output_type": "stream",
       "stream": "stdout",
       "text": [
        "\r",
        "Computed features for frame 269 of 1280 in 0.074450969696"
       ]
      },
      {
       "output_type": "stream",
       "stream": "stdout",
       "text": [
        "\r",
        "Computed features for frame 270 of 1280 in 0.0784149169922"
       ]
      },
      {
       "output_type": "stream",
       "stream": "stdout",
       "text": [
        "\r",
        "Computed features for frame 271 of 1280 in 0.0776319503784"
       ]
      },
      {
       "output_type": "stream",
       "stream": "stdout",
       "text": [
        "\r",
        "Computed features for frame 272 of 1280 in 0.076131105423"
       ]
      },
      {
       "output_type": "stream",
       "stream": "stdout",
       "text": [
        "\r",
        "Computed features for frame 273 of 1280 in 0.076014995575"
       ]
      },
      {
       "output_type": "stream",
       "stream": "stdout",
       "text": [
        "\r",
        "Computed features for frame 274 of 1280 in 0.076532125473"
       ]
      },
      {
       "output_type": "stream",
       "stream": "stdout",
       "text": [
        "\r",
        "Computed features for frame 275 of 1280 in 0.0752220153809"
       ]
      },
      {
       "output_type": "stream",
       "stream": "stdout",
       "text": [
        "\r",
        "Computed features for frame 276 of 1280 in 0.0770230293274"
       ]
      },
      {
       "output_type": "stream",
       "stream": "stdout",
       "text": [
        "\r",
        "Computed features for frame 277 of 1280 in 0.0790059566498"
       ]
      },
      {
       "output_type": "stream",
       "stream": "stdout",
       "text": [
        "\r",
        "Computed features for frame 278 of 1280 in 0.0748789310455"
       ]
      },
      {
       "output_type": "stream",
       "stream": "stdout",
       "text": [
        "\r",
        "Computed features for frame 279 of 1280 in 0.0756919384003"
       ]
      },
      {
       "output_type": "stream",
       "stream": "stdout",
       "text": [
        "\r",
        "Computed features for frame 280 of 1280 in 0.0742309093475"
       ]
      },
      {
       "output_type": "stream",
       "stream": "stdout",
       "text": [
        "\r",
        "Computed features for frame 281 of 1280 in 0.0769670009613"
       ]
      },
      {
       "output_type": "stream",
       "stream": "stdout",
       "text": [
        "\r",
        "Computed features for frame 282 of 1280 in 0.0748279094696"
       ]
      },
      {
       "output_type": "stream",
       "stream": "stdout",
       "text": [
        "\r",
        "Computed features for frame 283 of 1280 in 0.0738780498505"
       ]
      },
      {
       "output_type": "stream",
       "stream": "stdout",
       "text": [
        "\r",
        "Computed features for frame 284 of 1280 in 0.0793521404266"
       ]
      },
      {
       "output_type": "stream",
       "stream": "stdout",
       "text": [
        "\r",
        "Computed features for frame 285 of 1280 in 0.0791571140289"
       ]
      },
      {
       "output_type": "stream",
       "stream": "stdout",
       "text": [
        "\r",
        "Computed features for frame 286 of 1280 in 0.0764009952545"
       ]
      },
      {
       "output_type": "stream",
       "stream": "stdout",
       "text": [
        "\r",
        "Computed features for frame 287 of 1280 in 0.079430103302"
       ]
      },
      {
       "output_type": "stream",
       "stream": "stdout",
       "text": [
        "\r",
        "Computed features for frame 288 of 1280 in 0.0762598514557"
       ]
      },
      {
       "output_type": "stream",
       "stream": "stdout",
       "text": [
        "\r",
        "Computed features for frame 289 of 1280 in 0.0797588825226"
       ]
      },
      {
       "output_type": "stream",
       "stream": "stdout",
       "text": [
        "\r",
        "Computed features for frame 290 of 1280 in 0.0757300853729"
       ]
      },
      {
       "output_type": "stream",
       "stream": "stdout",
       "text": [
        "\r",
        "Computed features for frame 291 of 1280 in 0.0758938789368"
       ]
      },
      {
       "output_type": "stream",
       "stream": "stdout",
       "text": [
        "\r",
        "Computed features for frame 292 of 1280 in 0.0785241127014"
       ]
      },
      {
       "output_type": "stream",
       "stream": "stdout",
       "text": [
        "\r",
        "Computed features for frame 293 of 1280 in 0.0761780738831"
       ]
      },
      {
       "output_type": "stream",
       "stream": "stdout",
       "text": [
        "\r",
        "Computed features for frame 294 of 1280 in 0.0776081085205"
       ]
      },
      {
       "output_type": "stream",
       "stream": "stdout",
       "text": [
        "\r",
        "Computed features for frame 295 of 1280 in 0.0757460594177"
       ]
      },
      {
       "output_type": "stream",
       "stream": "stdout",
       "text": [
        "\r",
        "Computed features for frame 296 of 1280 in 0.0743141174316"
       ]
      },
      {
       "output_type": "stream",
       "stream": "stdout",
       "text": [
        "\r",
        "Computed features for frame 297 of 1280 in 0.077446937561"
       ]
      },
      {
       "output_type": "stream",
       "stream": "stdout",
       "text": [
        "\r",
        "Computed features for frame 298 of 1280 in 0.0745468139648"
       ]
      },
      {
       "output_type": "stream",
       "stream": "stdout",
       "text": [
        "\r",
        "Computed features for frame 299 of 1280 in 0.0743510723114"
       ]
      },
      {
       "output_type": "stream",
       "stream": "stdout",
       "text": [
        "\r",
        "Computed features for frame 300 of 1280 in 0.0773389339447"
       ]
      },
      {
       "output_type": "stream",
       "stream": "stdout",
       "text": [
        "\r",
        "Computed features for frame 301 of 1280 in 0.0753259658813"
       ]
      },
      {
       "output_type": "stream",
       "stream": "stdout",
       "text": [
        "\r",
        "Computed features for frame 302 of 1280 in 0.0762000083923"
       ]
      },
      {
       "output_type": "stream",
       "stream": "stdout",
       "text": [
        "\r",
        "Computed features for frame 303 of 1280 in 0.0755960941315"
       ]
      },
      {
       "output_type": "stream",
       "stream": "stdout",
       "text": [
        "\r",
        "Computed features for frame 304 of 1280 in 0.0753219127655"
       ]
      },
      {
       "output_type": "stream",
       "stream": "stdout",
       "text": [
        "\r",
        "Computed features for frame 305 of 1280 in 0.0740699768066"
       ]
      },
      {
       "output_type": "stream",
       "stream": "stdout",
       "text": [
        "\r",
        "Computed features for frame 306 of 1280 in 0.0773990154266"
       ]
      },
      {
       "output_type": "stream",
       "stream": "stdout",
       "text": [
        "\r",
        "Computed features for frame 307 of 1280 in 0.0754880905151"
       ]
      },
      {
       "output_type": "stream",
       "stream": "stdout",
       "text": [
        "\r",
        "Computed features for frame 308 of 1280 in 0.0789089202881"
       ]
      },
      {
       "output_type": "stream",
       "stream": "stdout",
       "text": [
        "\r",
        "Computed features for frame 309 of 1280 in 0.075245141983"
       ]
      },
      {
       "output_type": "stream",
       "stream": "stdout",
       "text": [
        "\r",
        "Computed features for frame 310 of 1280 in 0.0782070159912"
       ]
      },
      {
       "output_type": "stream",
       "stream": "stdout",
       "text": [
        "\r",
        "Computed features for frame 311 of 1280 in 0.078330039978"
       ]
      },
      {
       "output_type": "stream",
       "stream": "stdout",
       "text": [
        "\r",
        "Computed features for frame 312 of 1280 in 0.0810189247131"
       ]
      },
      {
       "output_type": "stream",
       "stream": "stdout",
       "text": [
        "\r",
        "Computed features for frame 313 of 1280 in 0.077752828598"
       ]
      },
      {
       "output_type": "stream",
       "stream": "stdout",
       "text": [
        "\r",
        "Computed features for frame 314 of 1280 in 0.0745949745178"
       ]
      },
      {
       "output_type": "stream",
       "stream": "stdout",
       "text": [
        "\r",
        "Computed features for frame 315 of 1280 in 0.0785799026489"
       ]
      },
      {
       "output_type": "stream",
       "stream": "stdout",
       "text": [
        "\r",
        "Computed features for frame 316 of 1280 in 0.0767660140991"
       ]
      },
      {
       "output_type": "stream",
       "stream": "stdout",
       "text": [
        "\r",
        "Computed features for frame 317 of 1280 in 0.0766110420227"
       ]
      },
      {
       "output_type": "stream",
       "stream": "stdout",
       "text": [
        "\r",
        "Computed features for frame 318 of 1280 in 0.0753598213196"
       ]
      },
      {
       "output_type": "stream",
       "stream": "stdout",
       "text": [
        "\r",
        "Computed features for frame 319 of 1280 in 0.0759139060974"
       ]
      },
      {
       "output_type": "stream",
       "stream": "stdout",
       "text": [
        "\r",
        "Computed features for frame 320 of 1280 in 0.0767350196838"
       ]
      },
      {
       "output_type": "stream",
       "stream": "stdout",
       "text": [
        "\r",
        "Computed features for frame 321 of 1280 in 0.0749430656433"
       ]
      },
      {
       "output_type": "stream",
       "stream": "stdout",
       "text": [
        "\r",
        "Computed features for frame 322 of 1280 in 0.0755078792572"
       ]
      },
      {
       "output_type": "stream",
       "stream": "stdout",
       "text": [
        "\r",
        "Computed features for frame 323 of 1280 in 0.0753579139709"
       ]
      },
      {
       "output_type": "stream",
       "stream": "stdout",
       "text": [
        "\r",
        "Computed features for frame 324 of 1280 in 0.0764050483704"
       ]
      },
      {
       "output_type": "stream",
       "stream": "stdout",
       "text": [
        "\r",
        "Computed features for frame 325 of 1280 in 0.0753870010376"
       ]
      },
      {
       "output_type": "stream",
       "stream": "stdout",
       "text": [
        "\r",
        "Computed features for frame 326 of 1280 in 0.0772299766541"
       ]
      },
      {
       "output_type": "stream",
       "stream": "stdout",
       "text": [
        "\r",
        "Computed features for frame 327 of 1280 in 0.0739741325378"
       ]
      },
      {
       "output_type": "stream",
       "stream": "stdout",
       "text": [
        "\r",
        "Computed features for frame 328 of 1280 in 0.0760009288788"
       ]
      },
      {
       "output_type": "stream",
       "stream": "stdout",
       "text": [
        "\r",
        "Computed features for frame 329 of 1280 in 0.0745210647583"
       ]
      },
      {
       "output_type": "stream",
       "stream": "stdout",
       "text": [
        "\r",
        "Computed features for frame 330 of 1280 in 0.0782179832458"
       ]
      },
      {
       "output_type": "stream",
       "stream": "stdout",
       "text": [
        "\r",
        "Computed features for frame 331 of 1280 in 0.0753839015961"
       ]
      },
      {
       "output_type": "stream",
       "stream": "stdout",
       "text": [
        "\r",
        "Computed features for frame 332 of 1280 in 0.0751769542694"
       ]
      },
      {
       "output_type": "stream",
       "stream": "stdout",
       "text": [
        "\r",
        "Computed features for frame 333 of 1280 in 0.07488489151"
       ]
      },
      {
       "output_type": "stream",
       "stream": "stdout",
       "text": [
        "\r",
        "Computed features for frame 334 of 1280 in 0.0738170146942"
       ]
      },
      {
       "output_type": "stream",
       "stream": "stdout",
       "text": [
        "\r",
        "Computed features for frame 335 of 1280 in 0.074422121048"
       ]
      },
      {
       "output_type": "stream",
       "stream": "stdout",
       "text": [
        "\r",
        "Computed features for frame 336 of 1280 in 0.0749039649963"
       ]
      },
      {
       "output_type": "stream",
       "stream": "stdout",
       "text": [
        "\r",
        "Computed features for frame 337 of 1280 in 0.0785250663757"
       ]
      },
      {
       "output_type": "stream",
       "stream": "stdout",
       "text": [
        "\r",
        "Computed features for frame 338 of 1280 in 0.0776329040527"
       ]
      },
      {
       "output_type": "stream",
       "stream": "stdout",
       "text": [
        "\r",
        "Computed features for frame 339 of 1280 in 0.0763947963715"
       ]
      },
      {
       "output_type": "stream",
       "stream": "stdout",
       "text": [
        "\r",
        "Computed features for frame 340 of 1280 in 0.0752158164978"
       ]
      },
      {
       "output_type": "stream",
       "stream": "stdout",
       "text": [
        "\r",
        "Computed features for frame 341 of 1280 in 0.0781691074371"
       ]
      },
      {
       "output_type": "stream",
       "stream": "stdout",
       "text": [
        "\r",
        "Computed features for frame 342 of 1280 in 0.0756690502167"
       ]
      },
      {
       "output_type": "stream",
       "stream": "stdout",
       "text": [
        "\r",
        "Computed features for frame 343 of 1280 in 0.0746929645538"
       ]
      },
      {
       "output_type": "stream",
       "stream": "stdout",
       "text": [
        "\r",
        "Computed features for frame 344 of 1280 in 0.075101852417"
       ]
      },
      {
       "output_type": "stream",
       "stream": "stdout",
       "text": [
        "\r",
        "Computed features for frame 345 of 1280 in 0.0782318115234"
       ]
      },
      {
       "output_type": "stream",
       "stream": "stdout",
       "text": [
        "\r",
        "Computed features for frame 346 of 1280 in 0.0784080028534"
       ]
      },
      {
       "output_type": "stream",
       "stream": "stdout",
       "text": [
        "\r",
        "Computed features for frame 347 of 1280 in 0.075562953949"
       ]
      },
      {
       "output_type": "stream",
       "stream": "stdout",
       "text": [
        "\r",
        "Computed features for frame 348 of 1280 in 0.0745561122894"
       ]
      },
      {
       "output_type": "stream",
       "stream": "stdout",
       "text": [
        "\r",
        "Computed features for frame 349 of 1280 in 0.075697183609"
       ]
      },
      {
       "output_type": "stream",
       "stream": "stdout",
       "text": [
        "\r",
        "Computed features for frame 350 of 1280 in 0.0742778778076"
       ]
      },
      {
       "output_type": "stream",
       "stream": "stdout",
       "text": [
        "\r",
        "Computed features for frame 351 of 1280 in 0.0748398303986"
       ]
      },
      {
       "output_type": "stream",
       "stream": "stdout",
       "text": [
        "\r",
        "Computed features for frame 352 of 1280 in 0.0750689506531"
       ]
      },
      {
       "output_type": "stream",
       "stream": "stdout",
       "text": [
        "\r",
        "Computed features for frame 353 of 1280 in 0.0757551193237"
       ]
      },
      {
       "output_type": "stream",
       "stream": "stdout",
       "text": [
        "\r",
        "Computed features for frame 354 of 1280 in 0.0746309757233"
       ]
      },
      {
       "output_type": "stream",
       "stream": "stdout",
       "text": [
        "\r",
        "Computed features for frame 355 of 1280 in 0.0755341053009"
       ]
      },
      {
       "output_type": "stream",
       "stream": "stdout",
       "text": [
        "\r",
        "Computed features for frame 356 of 1280 in 0.0737268924713"
       ]
      },
      {
       "output_type": "stream",
       "stream": "stdout",
       "text": [
        "\r",
        "Computed features for frame 357 of 1280 in 0.0755729675293"
       ]
      },
      {
       "output_type": "stream",
       "stream": "stdout",
       "text": [
        "\r",
        "Computed features for frame 358 of 1280 in 0.0740671157837"
       ]
      },
      {
       "output_type": "stream",
       "stream": "stdout",
       "text": [
        "\r",
        "Computed features for frame 359 of 1280 in 0.0744268894196"
       ]
      },
      {
       "output_type": "stream",
       "stream": "stdout",
       "text": [
        "\r",
        "Computed features for frame 360 of 1280 in 0.076623916626"
       ]
      },
      {
       "output_type": "stream",
       "stream": "stdout",
       "text": [
        "\r",
        "Computed features for frame 361 of 1280 in 0.0762491226196"
       ]
      },
      {
       "output_type": "stream",
       "stream": "stdout",
       "text": [
        "\r",
        "Computed features for frame 362 of 1280 in 0.0758829116821"
       ]
      },
      {
       "output_type": "stream",
       "stream": "stdout",
       "text": [
        "\r",
        "Computed features for frame 363 of 1280 in 0.0760281085968"
       ]
      },
      {
       "output_type": "stream",
       "stream": "stdout",
       "text": [
        "\r",
        "Computed features for frame 364 of 1280 in 0.0769281387329"
       ]
      },
      {
       "output_type": "stream",
       "stream": "stdout",
       "text": [
        "\r",
        "Computed features for frame 365 of 1280 in 0.0765559673309"
       ]
      },
      {
       "output_type": "stream",
       "stream": "stdout",
       "text": [
        "\r",
        "Computed features for frame 366 of 1280 in 0.0752880573273"
       ]
      },
      {
       "output_type": "stream",
       "stream": "stdout",
       "text": [
        "\r",
        "Computed features for frame 367 of 1280 in 0.0768640041351"
       ]
      },
      {
       "output_type": "stream",
       "stream": "stdout",
       "text": [
        "\r",
        "Computed features for frame 368 of 1280 in 0.075434923172"
       ]
      },
      {
       "output_type": "stream",
       "stream": "stdout",
       "text": [
        "\r",
        "Computed features for frame 369 of 1280 in 0.0744369029999"
       ]
      },
      {
       "output_type": "stream",
       "stream": "stdout",
       "text": [
        "\r",
        "Computed features for frame 370 of 1280 in 0.0760707855225"
       ]
      },
      {
       "output_type": "stream",
       "stream": "stdout",
       "text": [
        "\r",
        "Computed features for frame 371 of 1280 in 0.0739030838013"
       ]
      },
      {
       "output_type": "stream",
       "stream": "stdout",
       "text": [
        "\r",
        "Computed features for frame 372 of 1280 in 0.074951171875"
       ]
      },
      {
       "output_type": "stream",
       "stream": "stdout",
       "text": [
        "\r",
        "Computed features for frame 373 of 1280 in 0.0758881568909"
       ]
      },
      {
       "output_type": "stream",
       "stream": "stdout",
       "text": [
        "\r",
        "Computed features for frame 374 of 1280 in 0.075737953186"
       ]
      },
      {
       "output_type": "stream",
       "stream": "stdout",
       "text": [
        "\r",
        "Computed features for frame 375 of 1280 in 0.0818200111389"
       ]
      },
      {
       "output_type": "stream",
       "stream": "stdout",
       "text": [
        "\r",
        "Computed features for frame 376 of 1280 in 0.0760478973389"
       ]
      },
      {
       "output_type": "stream",
       "stream": "stdout",
       "text": [
        "\r",
        "Computed features for frame 377 of 1280 in 0.0742411613464"
       ]
      },
      {
       "output_type": "stream",
       "stream": "stdout",
       "text": [
        "\r",
        "Computed features for frame 378 of 1280 in 0.0764818191528"
       ]
      },
      {
       "output_type": "stream",
       "stream": "stdout",
       "text": [
        "\r",
        "Computed features for frame 379 of 1280 in 0.0753989219666"
       ]
      },
      {
       "output_type": "stream",
       "stream": "stdout",
       "text": [
        "\r",
        "Computed features for frame 380 of 1280 in 0.0767300128937"
       ]
      },
      {
       "output_type": "stream",
       "stream": "stdout",
       "text": [
        "\r",
        "Computed features for frame 381 of 1280 in 0.0759189128876"
       ]
      },
      {
       "output_type": "stream",
       "stream": "stdout",
       "text": [
        "\r",
        "Computed features for frame 382 of 1280 in 0.0758230686188"
       ]
      },
      {
       "output_type": "stream",
       "stream": "stdout",
       "text": [
        "\r",
        "Computed features for frame 383 of 1280 in 0.0775609016418"
       ]
      },
      {
       "output_type": "stream",
       "stream": "stdout",
       "text": [
        "\r",
        "Computed features for frame 384 of 1280 in 0.0772550106049"
       ]
      },
      {
       "output_type": "stream",
       "stream": "stdout",
       "text": [
        "\r",
        "Computed features for frame 385 of 1280 in 0.0755848884583"
       ]
      },
      {
       "output_type": "stream",
       "stream": "stdout",
       "text": [
        "\r",
        "Computed features for frame 386 of 1280 in 0.0761859416962"
       ]
      },
      {
       "output_type": "stream",
       "stream": "stdout",
       "text": [
        "\r",
        "Computed features for frame 387 of 1280 in 0.0743191242218"
       ]
      },
      {
       "output_type": "stream",
       "stream": "stdout",
       "text": [
        "\r",
        "Computed features for frame 388 of 1280 in 0.0751349925995"
       ]
      },
      {
       "output_type": "stream",
       "stream": "stdout",
       "text": [
        "\r",
        "Computed features for frame 389 of 1280 in 0.0741281509399"
       ]
      },
      {
       "output_type": "stream",
       "stream": "stdout",
       "text": [
        "\r",
        "Computed features for frame 390 of 1280 in 0.0764210224152"
       ]
      },
      {
       "output_type": "stream",
       "stream": "stdout",
       "text": [
        "\r",
        "Computed features for frame 391 of 1280 in 0.0754170417786"
       ]
      },
      {
       "output_type": "stream",
       "stream": "stdout",
       "text": [
        "\r",
        "Computed features for frame 392 of 1280 in 0.0745339393616"
       ]
      },
      {
       "output_type": "stream",
       "stream": "stdout",
       "text": [
        "\r",
        "Computed features for frame 393 of 1280 in 0.0747430324554"
       ]
      },
      {
       "output_type": "stream",
       "stream": "stdout",
       "text": [
        "\r",
        "Computed features for frame 394 of 1280 in 0.0812392234802"
       ]
      },
      {
       "output_type": "stream",
       "stream": "stdout",
       "text": [
        "\r",
        "Computed features for frame 395 of 1280 in 0.0751252174377"
       ]
      },
      {
       "output_type": "stream",
       "stream": "stdout",
       "text": [
        "\r",
        "Computed features for frame 396 of 1280 in 0.0767710208893"
       ]
      },
      {
       "output_type": "stream",
       "stream": "stdout",
       "text": [
        "\r",
        "Computed features for frame 397 of 1280 in 0.0752880573273"
       ]
      },
      {
       "output_type": "stream",
       "stream": "stdout",
       "text": [
        "\r",
        "Computed features for frame 398 of 1280 in 0.0753920078278"
       ]
      },
      {
       "output_type": "stream",
       "stream": "stdout",
       "text": [
        "\r",
        "Computed features for frame 399 of 1280 in 0.0759019851685"
       ]
      },
      {
       "output_type": "stream",
       "stream": "stdout",
       "text": [
        "\r",
        "Computed features for frame 400 of 1280 in 0.0748150348663"
       ]
      },
      {
       "output_type": "stream",
       "stream": "stdout",
       "text": [
        "\r",
        "Computed features for frame 401 of 1280 in 0.0745449066162"
       ]
      },
      {
       "output_type": "stream",
       "stream": "stdout",
       "text": [
        "\r",
        "Computed features for frame 402 of 1280 in 0.0754227638245"
       ]
      },
      {
       "output_type": "stream",
       "stream": "stdout",
       "text": [
        "\r",
        "Computed features for frame 403 of 1280 in 0.0748600959778"
       ]
      },
      {
       "output_type": "stream",
       "stream": "stdout",
       "text": [
        "\r",
        "Computed features for frame 404 of 1280 in 0.0758690834045"
       ]
      },
      {
       "output_type": "stream",
       "stream": "stdout",
       "text": [
        "\r",
        "Computed features for frame 405 of 1280 in 0.0776200294495"
       ]
      },
      {
       "output_type": "stream",
       "stream": "stdout",
       "text": [
        "\r",
        "Computed features for frame 406 of 1280 in 0.0755200386047"
       ]
      },
      {
       "output_type": "stream",
       "stream": "stdout",
       "text": [
        "\r",
        "Computed features for frame 407 of 1280 in 0.0761768817902"
       ]
      },
      {
       "output_type": "stream",
       "stream": "stdout",
       "text": [
        "\r",
        "Computed features for frame 408 of 1280 in 0.0745549201965"
       ]
      },
      {
       "output_type": "stream",
       "stream": "stdout",
       "text": [
        "\r",
        "Computed features for frame 409 of 1280 in 0.0763299465179"
       ]
      },
      {
       "output_type": "stream",
       "stream": "stdout",
       "text": [
        "\r",
        "Computed features for frame 410 of 1280 in 0.0772790908813"
       ]
      },
      {
       "output_type": "stream",
       "stream": "stdout",
       "text": [
        "\r",
        "Computed features for frame 411 of 1280 in 0.0774409770966"
       ]
      },
      {
       "output_type": "stream",
       "stream": "stdout",
       "text": [
        "\r",
        "Computed features for frame 412 of 1280 in 0.0784590244293"
       ]
      },
      {
       "output_type": "stream",
       "stream": "stdout",
       "text": [
        "\r",
        "Computed features for frame 413 of 1280 in 0.0750238895416"
       ]
      },
      {
       "output_type": "stream",
       "stream": "stdout",
       "text": [
        "\r",
        "Computed features for frame 414 of 1280 in 0.0774948596954"
       ]
      },
      {
       "output_type": "stream",
       "stream": "stdout",
       "text": [
        "\r",
        "Computed features for frame 415 of 1280 in 0.0757899284363"
       ]
      },
      {
       "output_type": "stream",
       "stream": "stdout",
       "text": [
        "\r",
        "Computed features for frame 416 of 1280 in 0.0749440193176"
       ]
      },
      {
       "output_type": "stream",
       "stream": "stdout",
       "text": [
        "\r",
        "Computed features for frame 417 of 1280 in 0.0758159160614"
       ]
      },
      {
       "output_type": "stream",
       "stream": "stdout",
       "text": [
        "\r",
        "Computed features for frame 418 of 1280 in 0.0764498710632"
       ]
      },
      {
       "output_type": "stream",
       "stream": "stdout",
       "text": [
        "\r",
        "Computed features for frame 419 of 1280 in 0.0754189491272"
       ]
      },
      {
       "output_type": "stream",
       "stream": "stdout",
       "text": [
        "\r",
        "Computed features for frame 420 of 1280 in 0.077073097229"
       ]
      },
      {
       "output_type": "stream",
       "stream": "stdout",
       "text": [
        "\r",
        "Computed features for frame 421 of 1280 in 0.0756039619446"
       ]
      },
      {
       "output_type": "stream",
       "stream": "stdout",
       "text": [
        "\r",
        "Computed features for frame 422 of 1280 in 0.0736758708954"
       ]
      },
      {
       "output_type": "stream",
       "stream": "stdout",
       "text": [
        "\r",
        "Computed features for frame 423 of 1280 in 0.0745091438293"
       ]
      },
      {
       "output_type": "stream",
       "stream": "stdout",
       "text": [
        "\r",
        "Computed features for frame 424 of 1280 in 0.0890259742737"
       ]
      },
      {
       "output_type": "stream",
       "stream": "stdout",
       "text": [
        "\r",
        "Computed features for frame 425 of 1280 in 0.0754420757294"
       ]
      },
      {
       "output_type": "stream",
       "stream": "stdout",
       "text": [
        "\r",
        "Computed features for frame 426 of 1280 in 0.0747129917145"
       ]
      },
      {
       "output_type": "stream",
       "stream": "stdout",
       "text": [
        "\r",
        "Computed features for frame 427 of 1280 in 0.0750591754913"
       ]
      },
      {
       "output_type": "stream",
       "stream": "stdout",
       "text": [
        "\r",
        "Computed features for frame 428 of 1280 in 0.0738871097565"
       ]
      },
      {
       "output_type": "stream",
       "stream": "stdout",
       "text": [
        "\r",
        "Computed features for frame 429 of 1280 in 0.0746929645538"
       ]
      },
      {
       "output_type": "stream",
       "stream": "stdout",
       "text": [
        "\r",
        "Computed features for frame 430 of 1280 in 0.0747861862183"
       ]
      },
      {
       "output_type": "stream",
       "stream": "stdout",
       "text": [
        "\r",
        "Computed features for frame 431 of 1280 in 0.0749170780182"
       ]
      },
      {
       "output_type": "stream",
       "stream": "stdout",
       "text": [
        "\r",
        "Computed features for frame 432 of 1280 in 0.074923992157"
       ]
      },
      {
       "output_type": "stream",
       "stream": "stdout",
       "text": [
        "\r",
        "Computed features for frame 433 of 1280 in 0.0761032104492"
       ]
      },
      {
       "output_type": "stream",
       "stream": "stdout",
       "text": [
        "\r",
        "Computed features for frame 434 of 1280 in 0.0886201858521"
       ]
      },
      {
       "output_type": "stream",
       "stream": "stdout",
       "text": [
        "\r",
        "Computed features for frame 435 of 1280 in 0.0877368450165"
       ]
      },
      {
       "output_type": "stream",
       "stream": "stdout",
       "text": [
        "\r",
        "Computed features for frame 436 of 1280 in 0.0774269104004"
       ]
      },
      {
       "output_type": "stream",
       "stream": "stdout",
       "text": [
        "\r",
        "Computed features for frame 437 of 1280 in 0.0767548084259"
       ]
      },
      {
       "output_type": "stream",
       "stream": "stdout",
       "text": [
        "\r",
        "Computed features for frame 438 of 1280 in 0.077409029007"
       ]
      },
      {
       "output_type": "stream",
       "stream": "stdout",
       "text": [
        "\r",
        "Computed features for frame 439 of 1280 in 0.0765459537506"
       ]
      },
      {
       "output_type": "stream",
       "stream": "stdout",
       "text": [
        "\r",
        "Computed features for frame 440 of 1280 in 0.074826002121"
       ]
      },
      {
       "output_type": "stream",
       "stream": "stdout",
       "text": [
        "\r",
        "Computed features for frame 441 of 1280 in 0.103251934052"
       ]
      },
      {
       "output_type": "stream",
       "stream": "stdout",
       "text": [
        "\r",
        "Computed features for frame 442 of 1280 in 0.0959079265594"
       ]
      },
      {
       "output_type": "stream",
       "stream": "stdout",
       "text": [
        "\r",
        "Computed features for frame 443 of 1280 in 0.0762870311737"
       ]
      },
      {
       "output_type": "stream",
       "stream": "stdout",
       "text": [
        "\r",
        "Computed features for frame 444 of 1280 in 0.0739510059357"
       ]
      },
      {
       "output_type": "stream",
       "stream": "stdout",
       "text": [
        "\r",
        "Computed features for frame 445 of 1280 in 0.0747880935669"
       ]
      },
      {
       "output_type": "stream",
       "stream": "stdout",
       "text": [
        "\r",
        "Computed features for frame 446 of 1280 in 0.075266122818"
       ]
      },
      {
       "output_type": "stream",
       "stream": "stdout",
       "text": [
        "\r",
        "Computed features for frame 447 of 1280 in 0.0753970146179"
       ]
      },
      {
       "output_type": "stream",
       "stream": "stdout",
       "text": [
        "\r",
        "Computed features for frame 448 of 1280 in 0.0776669979095"
       ]
      },
      {
       "output_type": "stream",
       "stream": "stdout",
       "text": [
        "\r",
        "Computed features for frame 449 of 1280 in 0.0800831317902"
       ]
      },
      {
       "output_type": "stream",
       "stream": "stdout",
       "text": [
        "\r",
        "Computed features for frame 450 of 1280 in 0.0826389789581"
       ]
      },
      {
       "output_type": "stream",
       "stream": "stdout",
       "text": [
        "\r",
        "Computed features for frame 451 of 1280 in 0.078882932663"
       ]
      },
      {
       "output_type": "stream",
       "stream": "stdout",
       "text": [
        "\r",
        "Computed features for frame 452 of 1280 in 0.0785698890686"
       ]
      },
      {
       "output_type": "stream",
       "stream": "stdout",
       "text": [
        "\r",
        "Computed features for frame 453 of 1280 in 0.0787599086761"
       ]
      },
      {
       "output_type": "stream",
       "stream": "stdout",
       "text": [
        "\r",
        "Computed features for frame 454 of 1280 in 0.0801889896393"
       ]
      },
      {
       "output_type": "stream",
       "stream": "stdout",
       "text": [
        "\r",
        "Computed features for frame 455 of 1280 in 0.0762600898743"
       ]
      },
      {
       "output_type": "stream",
       "stream": "stdout",
       "text": [
        "\r",
        "Computed features for frame 456 of 1280 in 0.0763700008392"
       ]
      },
      {
       "output_type": "stream",
       "stream": "stdout",
       "text": [
        "\r",
        "Computed features for frame 457 of 1280 in 0.076523065567"
       ]
      },
      {
       "output_type": "stream",
       "stream": "stdout",
       "text": [
        "\r",
        "Computed features for frame 458 of 1280 in 0.0759129524231"
       ]
      },
      {
       "output_type": "stream",
       "stream": "stdout",
       "text": [
        "\r",
        "Computed features for frame 459 of 1280 in 0.0761950016022"
       ]
      },
      {
       "output_type": "stream",
       "stream": "stdout",
       "text": [
        "\r",
        "Computed features for frame 460 of 1280 in 0.077663898468"
       ]
      },
      {
       "output_type": "stream",
       "stream": "stdout",
       "text": [
        "\r",
        "Computed features for frame 461 of 1280 in 0.0755960941315"
       ]
      },
      {
       "output_type": "stream",
       "stream": "stdout",
       "text": [
        "\r",
        "Computed features for frame 462 of 1280 in 0.0748400688171"
       ]
      },
      {
       "output_type": "stream",
       "stream": "stdout",
       "text": [
        "\r",
        "Computed features for frame 463 of 1280 in 0.0768020153046"
       ]
      },
      {
       "output_type": "stream",
       "stream": "stdout",
       "text": [
        "\r",
        "Computed features for frame 464 of 1280 in 0.0740141868591"
       ]
      },
      {
       "output_type": "stream",
       "stream": "stdout",
       "text": [
        "\r",
        "Computed features for frame 465 of 1280 in 0.0770380496979"
       ]
      },
      {
       "output_type": "stream",
       "stream": "stdout",
       "text": [
        "\r",
        "Computed features for frame 466 of 1280 in 0.076728105545"
       ]
      },
      {
       "output_type": "stream",
       "stream": "stdout",
       "text": [
        "\r",
        "Computed features for frame 467 of 1280 in 0.0750339031219"
       ]
      },
      {
       "output_type": "stream",
       "stream": "stdout",
       "text": [
        "\r",
        "Computed features for frame 468 of 1280 in 0.0751550197601"
       ]
      },
      {
       "output_type": "stream",
       "stream": "stdout",
       "text": [
        "\r",
        "Computed features for frame 469 of 1280 in 0.0754618644714"
       ]
      },
      {
       "output_type": "stream",
       "stream": "stdout",
       "text": [
        "\r",
        "Computed features for frame 470 of 1280 in 0.0759909152985"
       ]
      },
      {
       "output_type": "stream",
       "stream": "stdout",
       "text": [
        "\r",
        "Computed features for frame 471 of 1280 in 0.0794451236725"
       ]
      },
      {
       "output_type": "stream",
       "stream": "stdout",
       "text": [
        "\r",
        "Computed features for frame 472 of 1280 in 0.0747599601746"
       ]
      },
      {
       "output_type": "stream",
       "stream": "stdout",
       "text": [
        "\r",
        "Computed features for frame 473 of 1280 in 0.075502872467"
       ]
      },
      {
       "output_type": "stream",
       "stream": "stdout",
       "text": [
        "\r",
        "Computed features for frame 474 of 1280 in 0.0755639076233"
       ]
      },
      {
       "output_type": "stream",
       "stream": "stdout",
       "text": [
        "\r",
        "Computed features for frame 475 of 1280 in 0.0746719837189"
       ]
      },
      {
       "output_type": "stream",
       "stream": "stdout",
       "text": [
        "\r",
        "Computed features for frame 476 of 1280 in 0.0752539634705"
       ]
      },
      {
       "output_type": "stream",
       "stream": "stdout",
       "text": [
        "\r",
        "Computed features for frame 477 of 1280 in 0.0747561454773"
       ]
      },
      {
       "output_type": "stream",
       "stream": "stdout",
       "text": [
        "\r",
        "Computed features for frame 478 of 1280 in 0.0746150016785"
       ]
      },
      {
       "output_type": "stream",
       "stream": "stdout",
       "text": [
        "\r",
        "Computed features for frame 479 of 1280 in 0.0749809741974"
       ]
      },
      {
       "output_type": "stream",
       "stream": "stdout",
       "text": [
        "\r",
        "Computed features for frame 480 of 1280 in 0.076858997345"
       ]
      },
      {
       "output_type": "stream",
       "stream": "stdout",
       "text": [
        "\r",
        "Computed features for frame 481 of 1280 in 0.0741920471191"
       ]
      },
      {
       "output_type": "stream",
       "stream": "stdout",
       "text": [
        "\r",
        "Computed features for frame 482 of 1280 in 0.0748298168182"
       ]
      },
      {
       "output_type": "stream",
       "stream": "stdout",
       "text": [
        "\r",
        "Computed features for frame 483 of 1280 in 0.0753400325775"
       ]
      },
      {
       "output_type": "stream",
       "stream": "stdout",
       "text": [
        "\r",
        "Computed features for frame 484 of 1280 in 0.0762500762939"
       ]
      },
      {
       "output_type": "stream",
       "stream": "stdout",
       "text": [
        "\r",
        "Computed features for frame 485 of 1280 in 0.0745480060577"
       ]
      },
      {
       "output_type": "stream",
       "stream": "stdout",
       "text": [
        "\r",
        "Computed features for frame 486 of 1280 in 0.0772581100464"
       ]
      },
      {
       "output_type": "stream",
       "stream": "stdout",
       "text": [
        "\r",
        "Computed features for frame 487 of 1280 in 0.0771098136902"
       ]
      },
      {
       "output_type": "stream",
       "stream": "stdout",
       "text": [
        "\r",
        "Computed features for frame 488 of 1280 in 0.077141046524"
       ]
      },
      {
       "output_type": "stream",
       "stream": "stdout",
       "text": [
        "\r",
        "Computed features for frame 489 of 1280 in 0.077358007431"
       ]
      },
      {
       "output_type": "stream",
       "stream": "stdout",
       "text": [
        "\r",
        "Computed features for frame 490 of 1280 in 0.0754759311676"
       ]
      },
      {
       "output_type": "stream",
       "stream": "stdout",
       "text": [
        "\r",
        "Computed features for frame 491 of 1280 in 0.0775198936462"
       ]
      },
      {
       "output_type": "stream",
       "stream": "stdout",
       "text": [
        "\r",
        "Computed features for frame 492 of 1280 in 0.0764000415802"
       ]
      },
      {
       "output_type": "stream",
       "stream": "stdout",
       "text": [
        "\r",
        "Computed features for frame 493 of 1280 in 0.0760478973389"
       ]
      },
      {
       "output_type": "stream",
       "stream": "stdout",
       "text": [
        "\r",
        "Computed features for frame 494 of 1280 in 0.0754561424255"
       ]
      },
      {
       "output_type": "stream",
       "stream": "stdout",
       "text": [
        "\r",
        "Computed features for frame 495 of 1280 in 0.0776472091675"
       ]
      },
      {
       "output_type": "stream",
       "stream": "stdout",
       "text": [
        "\r",
        "Computed features for frame 496 of 1280 in 0.0744919776917"
       ]
      },
      {
       "output_type": "stream",
       "stream": "stdout",
       "text": [
        "\r",
        "Computed features for frame 497 of 1280 in 0.0758080482483"
       ]
      },
      {
       "output_type": "stream",
       "stream": "stdout",
       "text": [
        "\r",
        "Computed features for frame 498 of 1280 in 0.0773730278015"
       ]
      },
      {
       "output_type": "stream",
       "stream": "stdout",
       "text": [
        "\r",
        "Computed features for frame 499 of 1280 in 0.0744919776917"
       ]
      },
      {
       "output_type": "stream",
       "stream": "stdout",
       "text": [
        "\r",
        "Computed features for frame 500 of 1280 in 0.0749521255493"
       ]
      },
      {
       "output_type": "stream",
       "stream": "stdout",
       "text": [
        "\r",
        "Computed features for frame 501 of 1280 in 0.0745010375977"
       ]
      },
      {
       "output_type": "stream",
       "stream": "stdout",
       "text": [
        "\r",
        "Computed features for frame 502 of 1280 in 0.0750651359558"
       ]
      },
      {
       "output_type": "stream",
       "stream": "stdout",
       "text": [
        "\r",
        "Computed features for frame 503 of 1280 in 0.074853181839"
       ]
      },
      {
       "output_type": "stream",
       "stream": "stdout",
       "text": [
        "\r",
        "Computed features for frame 504 of 1280 in 0.0748879909515"
       ]
      },
      {
       "output_type": "stream",
       "stream": "stdout",
       "text": [
        "\r",
        "Computed features for frame 505 of 1280 in 0.0744471549988"
       ]
      },
      {
       "output_type": "stream",
       "stream": "stdout",
       "text": [
        "\r",
        "Computed features for frame 506 of 1280 in 0.074453830719"
       ]
      },
      {
       "output_type": "stream",
       "stream": "stdout",
       "text": [
        "\r",
        "Computed features for frame 507 of 1280 in 0.0747509002686"
       ]
      },
      {
       "output_type": "stream",
       "stream": "stdout",
       "text": [
        "\r",
        "Computed features for frame 508 of 1280 in 0.0753898620605"
       ]
      },
      {
       "output_type": "stream",
       "stream": "stdout",
       "text": [
        "\r",
        "Computed features for frame 509 of 1280 in 0.074254989624"
       ]
      },
      {
       "output_type": "stream",
       "stream": "stdout",
       "text": [
        "\r",
        "Computed features for frame 510 of 1280 in 0.0791790485382"
       ]
      },
      {
       "output_type": "stream",
       "stream": "stdout",
       "text": [
        "\r",
        "Computed features for frame 511 of 1280 in 0.0750410556793"
       ]
      },
      {
       "output_type": "stream",
       "stream": "stdout",
       "text": [
        "\r",
        "Computed features for frame 512 of 1280 in 0.0750908851624"
       ]
      },
      {
       "output_type": "stream",
       "stream": "stdout",
       "text": [
        "\r",
        "Computed features for frame 513 of 1280 in 0.0758469104767"
       ]
      },
      {
       "output_type": "stream",
       "stream": "stdout",
       "text": [
        "\r",
        "Computed features for frame 514 of 1280 in 0.0753929615021"
       ]
      },
      {
       "output_type": "stream",
       "stream": "stdout",
       "text": [
        "\r",
        "Computed features for frame 515 of 1280 in 0.0759420394897"
       ]
      },
      {
       "output_type": "stream",
       "stream": "stdout",
       "text": [
        "\r",
        "Computed features for frame 516 of 1280 in 0.0756449699402"
       ]
      },
      {
       "output_type": "stream",
       "stream": "stdout",
       "text": [
        "\r",
        "Computed features for frame 517 of 1280 in 0.0748488903046"
       ]
      },
      {
       "output_type": "stream",
       "stream": "stdout",
       "text": [
        "\r",
        "Computed features for frame 518 of 1280 in 0.0748071670532"
       ]
      },
      {
       "output_type": "stream",
       "stream": "stdout",
       "text": [
        "\r",
        "Computed features for frame 519 of 1280 in 0.0764131546021"
       ]
      },
      {
       "output_type": "stream",
       "stream": "stdout",
       "text": [
        "\r",
        "Computed features for frame 520 of 1280 in 0.0751791000366"
       ]
      },
      {
       "output_type": "stream",
       "stream": "stdout",
       "text": [
        "\r",
        "Computed features for frame 521 of 1280 in 0.074923992157"
       ]
      },
      {
       "output_type": "stream",
       "stream": "stdout",
       "text": [
        "\r",
        "Computed features for frame 522 of 1280 in 0.0748448371887"
       ]
      },
      {
       "output_type": "stream",
       "stream": "stdout",
       "text": [
        "\r",
        "Computed features for frame 523 of 1280 in 0.075413942337"
       ]
      },
      {
       "output_type": "stream",
       "stream": "stdout",
       "text": [
        "\r",
        "Computed features for frame 524 of 1280 in 0.0791130065918"
       ]
      },
      {
       "output_type": "stream",
       "stream": "stdout",
       "text": [
        "\r",
        "Computed features for frame 525 of 1280 in 0.0767500400543"
       ]
      },
      {
       "output_type": "stream",
       "stream": "stdout",
       "text": [
        "\r",
        "Computed features for frame 526 of 1280 in 0.0763030052185"
       ]
      },
      {
       "output_type": "stream",
       "stream": "stdout",
       "text": [
        "\r",
        "Computed features for frame 527 of 1280 in 0.0758349895477"
       ]
      },
      {
       "output_type": "stream",
       "stream": "stdout",
       "text": [
        "\r",
        "Computed features for frame 528 of 1280 in 0.0755748748779"
       ]
      },
      {
       "output_type": "stream",
       "stream": "stdout",
       "text": [
        "\r",
        "Computed features for frame 529 of 1280 in 0.0759258270264"
       ]
      },
      {
       "output_type": "stream",
       "stream": "stdout",
       "text": [
        "\r",
        "Computed features for frame 530 of 1280 in 0.078241109848"
       ]
      },
      {
       "output_type": "stream",
       "stream": "stdout",
       "text": [
        "\r",
        "Computed features for frame 531 of 1280 in 0.0754771232605"
       ]
      },
      {
       "output_type": "stream",
       "stream": "stdout",
       "text": [
        "\r",
        "Computed features for frame 532 of 1280 in 0.0762238502502"
       ]
      },
      {
       "output_type": "stream",
       "stream": "stdout",
       "text": [
        "\r",
        "Computed features for frame 533 of 1280 in 0.0762820243835"
       ]
      },
      {
       "output_type": "stream",
       "stream": "stdout",
       "text": [
        "\r",
        "Computed features for frame 534 of 1280 in 0.0763881206512"
       ]
      },
      {
       "output_type": "stream",
       "stream": "stdout",
       "text": [
        "\r",
        "Computed features for frame 535 of 1280 in 0.0775551795959"
       ]
      },
      {
       "output_type": "stream",
       "stream": "stdout",
       "text": [
        "\r",
        "Computed features for frame 536 of 1280 in 0.0746409893036"
       ]
      },
      {
       "output_type": "stream",
       "stream": "stdout",
       "text": [
        "\r",
        "Computed features for frame 537 of 1280 in 0.0759010314941"
       ]
      },
      {
       "output_type": "stream",
       "stream": "stdout",
       "text": [
        "\r",
        "Computed features for frame 538 of 1280 in 0.0751161575317"
       ]
      },
      {
       "output_type": "stream",
       "stream": "stdout",
       "text": [
        "\r",
        "Computed features for frame 539 of 1280 in 0.0758438110352"
       ]
      },
      {
       "output_type": "stream",
       "stream": "stdout",
       "text": [
        "\r",
        "Computed features for frame 540 of 1280 in 0.0771241188049"
       ]
      },
      {
       "output_type": "stream",
       "stream": "stdout",
       "text": [
        "\r",
        "Computed features for frame 541 of 1280 in 0.0752589702606"
       ]
      },
      {
       "output_type": "stream",
       "stream": "stdout",
       "text": [
        "\r",
        "Computed features for frame 542 of 1280 in 0.0741109848022"
       ]
      },
      {
       "output_type": "stream",
       "stream": "stdout",
       "text": [
        "\r",
        "Computed features for frame 543 of 1280 in 0.0755441188812"
       ]
      },
      {
       "output_type": "stream",
       "stream": "stdout",
       "text": [
        "\r",
        "Computed features for frame 544 of 1280 in 0.0745160579681"
       ]
      },
      {
       "output_type": "stream",
       "stream": "stdout",
       "text": [
        "\r",
        "Computed features for frame 545 of 1280 in 0.0745170116425"
       ]
      },
      {
       "output_type": "stream",
       "stream": "stdout",
       "text": [
        "\r",
        "Computed features for frame 546 of 1280 in 0.0746347904205"
       ]
      },
      {
       "output_type": "stream",
       "stream": "stdout",
       "text": [
        "\r",
        "Computed features for frame 547 of 1280 in 0.0743579864502"
       ]
      },
      {
       "output_type": "stream",
       "stream": "stdout",
       "text": [
        "\r",
        "Computed features for frame 548 of 1280 in 0.0749840736389"
       ]
      },
      {
       "output_type": "stream",
       "stream": "stdout",
       "text": [
        "\r",
        "Computed features for frame 549 of 1280 in 0.0748131275177"
       ]
      },
      {
       "output_type": "stream",
       "stream": "stdout",
       "text": [
        "\r",
        "Computed features for frame 550 of 1280 in 0.0758080482483"
       ]
      },
      {
       "output_type": "stream",
       "stream": "stdout",
       "text": [
        "\r",
        "Computed features for frame 551 of 1280 in 0.0746688842773"
       ]
      },
      {
       "output_type": "stream",
       "stream": "stdout",
       "text": [
        "\r",
        "Computed features for frame 552 of 1280 in 0.0741930007935"
       ]
      },
      {
       "output_type": "stream",
       "stream": "stdout",
       "text": [
        "\r",
        "Computed features for frame 553 of 1280 in 0.0751891136169"
       ]
      },
      {
       "output_type": "stream",
       "stream": "stdout",
       "text": [
        "\r",
        "Computed features for frame 554 of 1280 in 0.0745329856873"
       ]
      },
      {
       "output_type": "stream",
       "stream": "stdout",
       "text": [
        "\r",
        "Computed features for frame 555 of 1280 in 0.0772140026093"
       ]
      },
      {
       "output_type": "stream",
       "stream": "stdout",
       "text": [
        "\r",
        "Computed features for frame 556 of 1280 in 0.0741958618164"
       ]
      },
      {
       "output_type": "stream",
       "stream": "stdout",
       "text": [
        "\r",
        "Computed features for frame 557 of 1280 in 0.0753259658813"
       ]
      },
      {
       "output_type": "stream",
       "stream": "stdout",
       "text": [
        "\r",
        "Computed features for frame 558 of 1280 in 0.0738661289215"
       ]
      },
      {
       "output_type": "stream",
       "stream": "stdout",
       "text": [
        "\r",
        "Computed features for frame 559 of 1280 in 0.0737099647522"
       ]
      },
      {
       "output_type": "stream",
       "stream": "stdout",
       "text": [
        "\r",
        "Computed features for frame 560 of 1280 in 0.0775549411774"
       ]
      },
      {
       "output_type": "stream",
       "stream": "stdout",
       "text": [
        "\r",
        "Computed features for frame 561 of 1280 in 0.0747787952423"
       ]
      },
      {
       "output_type": "stream",
       "stream": "stdout",
       "text": [
        "\r",
        "Computed features for frame 562 of 1280 in 0.0740759372711"
       ]
      },
      {
       "output_type": "stream",
       "stream": "stdout",
       "text": [
        "\r",
        "Computed features for frame 563 of 1280 in 0.0750451087952"
       ]
      },
      {
       "output_type": "stream",
       "stream": "stdout",
       "text": [
        "\r",
        "Computed features for frame 564 of 1280 in 0.0752000808716"
       ]
      },
      {
       "output_type": "stream",
       "stream": "stdout",
       "text": [
        "\r",
        "Computed features for frame 565 of 1280 in 0.0746619701385"
       ]
      },
      {
       "output_type": "stream",
       "stream": "stdout",
       "text": [
        "\r",
        "Computed features for frame 566 of 1280 in 0.0747239589691"
       ]
      },
      {
       "output_type": "stream",
       "stream": "stdout",
       "text": [
        "\r",
        "Computed features for frame 567 of 1280 in 0.0748801231384"
       ]
      },
      {
       "output_type": "stream",
       "stream": "stdout",
       "text": [
        "\r",
        "Computed features for frame 568 of 1280 in 0.0747590065002"
       ]
      },
      {
       "output_type": "stream",
       "stream": "stdout",
       "text": [
        "\r",
        "Computed features for frame 569 of 1280 in 0.0750570297241"
       ]
      },
      {
       "output_type": "stream",
       "stream": "stdout",
       "text": [
        "\r",
        "Computed features for frame 570 of 1280 in 0.0765209197998"
       ]
      },
      {
       "output_type": "stream",
       "stream": "stdout",
       "text": [
        "\r",
        "Computed features for frame 571 of 1280 in 0.0765838623047"
       ]
      },
      {
       "output_type": "stream",
       "stream": "stdout",
       "text": [
        "\r",
        "Computed features for frame 572 of 1280 in 0.0753769874573"
       ]
      },
      {
       "output_type": "stream",
       "stream": "stdout",
       "text": [
        "\r",
        "Computed features for frame 573 of 1280 in 0.075159072876"
       ]
      },
      {
       "output_type": "stream",
       "stream": "stdout",
       "text": [
        "\r",
        "Computed features for frame 574 of 1280 in 0.0752890110016"
       ]
      },
      {
       "output_type": "stream",
       "stream": "stdout",
       "text": [
        "\r",
        "Computed features for frame 575 of 1280 in 0.0752930641174"
       ]
      },
      {
       "output_type": "stream",
       "stream": "stdout",
       "text": [
        "\r",
        "Computed features for frame 576 of 1280 in 0.079833984375"
       ]
      },
      {
       "output_type": "stream",
       "stream": "stdout",
       "text": [
        "\r",
        "Computed features for frame 577 of 1280 in 0.0780501365662"
       ]
      },
      {
       "output_type": "stream",
       "stream": "stdout",
       "text": [
        "\r",
        "Computed features for frame 578 of 1280 in 0.0757839679718"
       ]
      },
      {
       "output_type": "stream",
       "stream": "stdout",
       "text": [
        "\r",
        "Computed features for frame 579 of 1280 in 0.074609041214"
       ]
      },
      {
       "output_type": "stream",
       "stream": "stdout",
       "text": [
        "\r",
        "Computed features for frame 580 of 1280 in 0.0737860202789"
       ]
      },
      {
       "output_type": "stream",
       "stream": "stdout",
       "text": [
        "\r",
        "Computed features for frame 581 of 1280 in 0.0754342079163"
       ]
      },
      {
       "output_type": "stream",
       "stream": "stdout",
       "text": [
        "\r",
        "Computed features for frame 582 of 1280 in 0.0733358860016"
       ]
      },
      {
       "output_type": "stream",
       "stream": "stdout",
       "text": [
        "\r",
        "Computed features for frame 583 of 1280 in 0.0736241340637"
       ]
      },
      {
       "output_type": "stream",
       "stream": "stdout",
       "text": [
        "\r",
        "Computed features for frame 584 of 1280 in 0.0739390850067"
       ]
      },
      {
       "output_type": "stream",
       "stream": "stdout",
       "text": [
        "\r",
        "Computed features for frame 585 of 1280 in 0.0762190818787"
       ]
      },
      {
       "output_type": "stream",
       "stream": "stdout",
       "text": [
        "\r",
        "Computed features for frame 586 of 1280 in 0.0739340782166"
       ]
      },
      {
       "output_type": "stream",
       "stream": "stdout",
       "text": [
        "\r",
        "Computed features for frame 587 of 1280 in 0.077889919281"
       ]
      },
      {
       "output_type": "stream",
       "stream": "stdout",
       "text": [
        "\r",
        "Computed features for frame 588 of 1280 in 0.0742659568787"
       ]
      },
      {
       "output_type": "stream",
       "stream": "stdout",
       "text": [
        "\r",
        "Computed features for frame 589 of 1280 in 0.0746448040009"
       ]
      },
      {
       "output_type": "stream",
       "stream": "stdout",
       "text": [
        "\r",
        "Computed features for frame 590 of 1280 in 0.0750050544739"
       ]
      },
      {
       "output_type": "stream",
       "stream": "stdout",
       "text": [
        "\r",
        "Computed features for frame 591 of 1280 in 0.0750319957733"
       ]
      },
      {
       "output_type": "stream",
       "stream": "stdout",
       "text": [
        "\r",
        "Computed features for frame 592 of 1280 in 0.0741190910339"
       ]
      },
      {
       "output_type": "stream",
       "stream": "stdout",
       "text": [
        "\r",
        "Computed features for frame 593 of 1280 in 0.0753679275513"
       ]
      },
      {
       "output_type": "stream",
       "stream": "stdout",
       "text": [
        "\r",
        "Computed features for frame 594 of 1280 in 0.0741548538208"
       ]
      },
      {
       "output_type": "stream",
       "stream": "stdout",
       "text": [
        "\r",
        "Computed features for frame 595 of 1280 in 0.0765991210938"
       ]
      },
      {
       "output_type": "stream",
       "stream": "stdout",
       "text": [
        "\r",
        "Computed features for frame 596 of 1280 in 0.0746741294861"
       ]
      },
      {
       "output_type": "stream",
       "stream": "stdout",
       "text": [
        "\r",
        "Computed features for frame 597 of 1280 in 0.0747148990631"
       ]
      },
      {
       "output_type": "stream",
       "stream": "stdout",
       "text": [
        "\r",
        "Computed features for frame 598 of 1280 in 0.0756161212921"
       ]
      },
      {
       "output_type": "stream",
       "stream": "stdout",
       "text": [
        "\r",
        "Computed features for frame 599 of 1280 in 0.0753481388092"
       ]
      },
      {
       "output_type": "stream",
       "stream": "stdout",
       "text": [
        "\r",
        "Computed features for frame 600 of 1280 in 0.0799670219421"
       ]
      },
      {
       "output_type": "stream",
       "stream": "stdout",
       "text": [
        "\r",
        "Computed features for frame 601 of 1280 in 0.0750031471252"
       ]
      },
      {
       "output_type": "stream",
       "stream": "stdout",
       "text": [
        "\r",
        "Computed features for frame 602 of 1280 in 0.0753149986267"
       ]
      },
      {
       "output_type": "stream",
       "stream": "stdout",
       "text": [
        "\r",
        "Computed features for frame 603 of 1280 in 0.0756921768188"
       ]
      },
      {
       "output_type": "stream",
       "stream": "stdout",
       "text": [
        "\r",
        "Computed features for frame 604 of 1280 in 0.0753438472748"
       ]
      },
      {
       "output_type": "stream",
       "stream": "stdout",
       "text": [
        "\r",
        "Computed features for frame 605 of 1280 in 0.0751349925995"
       ]
      },
      {
       "output_type": "stream",
       "stream": "stdout",
       "text": [
        "\r",
        "Computed features for frame 606 of 1280 in 0.0765988826752"
       ]
      },
      {
       "output_type": "stream",
       "stream": "stdout",
       "text": [
        "\r",
        "Computed features for frame 607 of 1280 in 0.0749831199646"
       ]
      },
      {
       "output_type": "stream",
       "stream": "stdout",
       "text": [
        "\r",
        "Computed features for frame 608 of 1280 in 0.0764961242676"
       ]
      },
      {
       "output_type": "stream",
       "stream": "stdout",
       "text": [
        "\r",
        "Computed features for frame 609 of 1280 in 0.0739278793335"
       ]
      },
      {
       "output_type": "stream",
       "stream": "stdout",
       "text": [
        "\r",
        "Computed features for frame 610 of 1280 in 0.0741310119629"
       ]
      },
      {
       "output_type": "stream",
       "stream": "stdout",
       "text": [
        "\r",
        "Computed features for frame 611 of 1280 in 0.0776920318604"
       ]
      },
      {
       "output_type": "stream",
       "stream": "stdout",
       "text": [
        "\r",
        "Computed features for frame 612 of 1280 in 0.0751519203186"
       ]
      },
      {
       "output_type": "stream",
       "stream": "stdout",
       "text": [
        "\r",
        "Computed features for frame 613 of 1280 in 0.0772230625153"
       ]
      },
      {
       "output_type": "stream",
       "stream": "stdout",
       "text": [
        "\r",
        "Computed features for frame 614 of 1280 in 0.0756390094757"
       ]
      },
      {
       "output_type": "stream",
       "stream": "stdout",
       "text": [
        "\r",
        "Computed features for frame 615 of 1280 in 0.076101064682"
       ]
      },
      {
       "output_type": "stream",
       "stream": "stdout",
       "text": [
        "\r",
        "Computed features for frame 616 of 1280 in 0.0755679607391"
       ]
      },
      {
       "output_type": "stream",
       "stream": "stdout",
       "text": [
        "\r",
        "Computed features for frame 617 of 1280 in 0.0760979652405"
       ]
      },
      {
       "output_type": "stream",
       "stream": "stdout",
       "text": [
        "\r",
        "Computed features for frame 618 of 1280 in 0.077388048172"
       ]
      },
      {
       "output_type": "stream",
       "stream": "stdout",
       "text": [
        "\r",
        "Computed features for frame 619 of 1280 in 0.0752100944519"
       ]
      },
      {
       "output_type": "stream",
       "stream": "stdout",
       "text": [
        "\r",
        "Computed features for frame 620 of 1280 in 0.0748698711395"
       ]
      },
      {
       "output_type": "stream",
       "stream": "stdout",
       "text": [
        "\r",
        "Computed features for frame 621 of 1280 in 0.0784411430359"
       ]
      },
      {
       "output_type": "stream",
       "stream": "stdout",
       "text": [
        "\r",
        "Computed features for frame 622 of 1280 in 0.075178861618"
       ]
      },
      {
       "output_type": "stream",
       "stream": "stdout",
       "text": [
        "\r",
        "Computed features for frame 623 of 1280 in 0.0773320198059"
       ]
      },
      {
       "output_type": "stream",
       "stream": "stdout",
       "text": [
        "\r",
        "Computed features for frame 624 of 1280 in 0.0756108760834"
       ]
      },
      {
       "output_type": "stream",
       "stream": "stdout",
       "text": [
        "\r",
        "Computed features for frame 625 of 1280 in 0.0747768878937"
       ]
      },
      {
       "output_type": "stream",
       "stream": "stdout",
       "text": [
        "\r",
        "Computed features for frame 626 of 1280 in 0.0747761726379"
       ]
      },
      {
       "output_type": "stream",
       "stream": "stdout",
       "text": [
        "\r",
        "Computed features for frame 627 of 1280 in 0.0752930641174"
       ]
      },
      {
       "output_type": "stream",
       "stream": "stdout",
       "text": [
        "\r",
        "Computed features for frame 628 of 1280 in 0.0759680271149"
       ]
      },
      {
       "output_type": "stream",
       "stream": "stdout",
       "text": [
        "\r",
        "Computed features for frame 629 of 1280 in 0.0755479335785"
       ]
      },
      {
       "output_type": "stream",
       "stream": "stdout",
       "text": [
        "\r",
        "Computed features for frame 630 of 1280 in 0.0801270008087"
       ]
      },
      {
       "output_type": "stream",
       "stream": "stdout",
       "text": [
        "\r",
        "Computed features for frame 631 of 1280 in 0.0750119686127"
       ]
      },
      {
       "output_type": "stream",
       "stream": "stdout",
       "text": [
        "\r",
        "Computed features for frame 632 of 1280 in 0.0746228694916"
       ]
      },
      {
       "output_type": "stream",
       "stream": "stdout",
       "text": [
        "\r",
        "Computed features for frame 633 of 1280 in 0.0746030807495"
       ]
      },
      {
       "output_type": "stream",
       "stream": "stdout",
       "text": [
        "\r",
        "Computed features for frame 634 of 1280 in 0.0744729042053"
       ]
      },
      {
       "output_type": "stream",
       "stream": "stdout",
       "text": [
        "\r",
        "Computed features for frame 635 of 1280 in 0.0756180286407"
       ]
      },
      {
       "output_type": "stream",
       "stream": "stdout",
       "text": [
        "\r",
        "Computed features for frame 636 of 1280 in 0.0746438503265"
       ]
      },
      {
       "output_type": "stream",
       "stream": "stdout",
       "text": [
        "\r",
        "Computed features for frame 637 of 1280 in 0.0740389823914"
       ]
      },
      {
       "output_type": "stream",
       "stream": "stdout",
       "text": [
        "\r",
        "Computed features for frame 638 of 1280 in 0.0743699073792"
       ]
      },
      {
       "output_type": "stream",
       "stream": "stdout",
       "text": [
        "\r",
        "Computed features for frame 639 of 1280 in 0.075266122818"
       ]
      },
      {
       "output_type": "stream",
       "stream": "stdout",
       "text": [
        "\r",
        "Computed features for frame 640 of 1280 in 0.0746359825134"
       ]
      },
      {
       "output_type": "stream",
       "stream": "stdout",
       "text": [
        "\r",
        "Computed features for frame 641 of 1280 in 0.0782308578491"
       ]
      },
      {
       "output_type": "stream",
       "stream": "stdout",
       "text": [
        "\r",
        "Computed features for frame 642 of 1280 in 0.0754489898682"
       ]
      },
      {
       "output_type": "stream",
       "stream": "stdout",
       "text": [
        "\r",
        "Computed features for frame 643 of 1280 in 0.0751268863678"
       ]
      },
      {
       "output_type": "stream",
       "stream": "stdout",
       "text": [
        "\r",
        "Computed features for frame 644 of 1280 in 0.0753979682922"
       ]
      },
      {
       "output_type": "stream",
       "stream": "stdout",
       "text": [
        "\r",
        "Computed features for frame 645 of 1280 in 0.0783121585846"
       ]
      },
      {
       "output_type": "stream",
       "stream": "stdout",
       "text": [
        "\r",
        "Computed features for frame 646 of 1280 in 0.0754868984222"
       ]
      },
      {
       "output_type": "stream",
       "stream": "stdout",
       "text": [
        "\r",
        "Computed features for frame 647 of 1280 in 0.0752689838409"
       ]
      },
      {
       "output_type": "stream",
       "stream": "stdout",
       "text": [
        "\r",
        "Computed features for frame 648 of 1280 in 0.0746190547943"
       ]
      },
      {
       "output_type": "stream",
       "stream": "stdout",
       "text": [
        "\r",
        "Computed features for frame 649 of 1280 in 0.0755620002747"
       ]
      },
      {
       "output_type": "stream",
       "stream": "stdout",
       "text": [
        "\r",
        "Computed features for frame 650 of 1280 in 0.0766730308533"
       ]
      },
      {
       "output_type": "stream",
       "stream": "stdout",
       "text": [
        "\r",
        "Computed features for frame 651 of 1280 in 0.0740749835968"
       ]
      },
      {
       "output_type": "stream",
       "stream": "stdout",
       "text": [
        "\r",
        "Computed features for frame 652 of 1280 in 0.0761921405792"
       ]
      },
      {
       "output_type": "stream",
       "stream": "stdout",
       "text": [
        "\r",
        "Computed features for frame 653 of 1280 in 0.0737869739532"
       ]
      },
      {
       "output_type": "stream",
       "stream": "stdout",
       "text": [
        "\r",
        "Computed features for frame 654 of 1280 in 0.0763549804688"
       ]
      },
      {
       "output_type": "stream",
       "stream": "stdout",
       "text": [
        "\r",
        "Computed features for frame 655 of 1280 in 0.0745048522949"
       ]
      },
      {
       "output_type": "stream",
       "stream": "stdout",
       "text": [
        "\r",
        "Computed features for frame 656 of 1280 in 0.0761389732361"
       ]
      },
      {
       "output_type": "stream",
       "stream": "stdout",
       "text": [
        "\r",
        "Computed features for frame 657 of 1280 in 0.077338218689"
       ]
      },
      {
       "output_type": "stream",
       "stream": "stdout",
       "text": [
        "\r",
        "Computed features for frame 658 of 1280 in 0.078654050827"
       ]
      },
      {
       "output_type": "stream",
       "stream": "stdout",
       "text": [
        "\r",
        "Computed features for frame 659 of 1280 in 0.074070930481"
       ]
      },
      {
       "output_type": "stream",
       "stream": "stdout",
       "text": [
        "\r",
        "Computed features for frame 660 of 1280 in 0.076966047287"
       ]
      },
      {
       "output_type": "stream",
       "stream": "stdout",
       "text": [
        "\r",
        "Computed features for frame 661 of 1280 in 0.0738060474396"
       ]
      },
      {
       "output_type": "stream",
       "stream": "stdout",
       "text": [
        "\r",
        "Computed features for frame 662 of 1280 in 0.0752990245819"
       ]
      },
      {
       "output_type": "stream",
       "stream": "stdout",
       "text": [
        "\r",
        "Computed features for frame 663 of 1280 in 0.0742900371552"
       ]
      },
      {
       "output_type": "stream",
       "stream": "stdout",
       "text": [
        "\r",
        "Computed features for frame 664 of 1280 in 0.0747787952423"
       ]
      },
      {
       "output_type": "stream",
       "stream": "stdout",
       "text": [
        "\r",
        "Computed features for frame 665 of 1280 in 0.0744609832764"
       ]
      },
      {
       "output_type": "stream",
       "stream": "stdout",
       "text": [
        "\r",
        "Computed features for frame 666 of 1280 in 0.0747737884521"
       ]
      },
      {
       "output_type": "stream",
       "stream": "stdout",
       "text": [
        "\r",
        "Computed features for frame 667 of 1280 in 0.0746970176697"
       ]
      },
      {
       "output_type": "stream",
       "stream": "stdout",
       "text": [
        "\r",
        "Computed features for frame 668 of 1280 in 0.0748431682587"
       ]
      },
      {
       "output_type": "stream",
       "stream": "stdout",
       "text": [
        "\r",
        "Computed features for frame 669 of 1280 in 0.0751750469208"
       ]
      },
      {
       "output_type": "stream",
       "stream": "stdout",
       "text": [
        "\r",
        "Computed features for frame 670 of 1280 in 0.0765378475189"
       ]
      },
      {
       "output_type": "stream",
       "stream": "stdout",
       "text": [
        "\r",
        "Computed features for frame 671 of 1280 in 0.0739579200745"
       ]
      },
      {
       "output_type": "stream",
       "stream": "stdout",
       "text": [
        "\r",
        "Computed features for frame 672 of 1280 in 0.0738761425018"
       ]
      },
      {
       "output_type": "stream",
       "stream": "stdout",
       "text": [
        "\r",
        "Computed features for frame 673 of 1280 in 0.0755250453949"
       ]
      },
      {
       "output_type": "stream",
       "stream": "stdout",
       "text": [
        "\r",
        "Computed features for frame 674 of 1280 in 0.075826883316"
       ]
      },
      {
       "output_type": "stream",
       "stream": "stdout",
       "text": [
        "\r",
        "Computed features for frame 675 of 1280 in 0.0776150226593"
       ]
      },
      {
       "output_type": "stream",
       "stream": "stdout",
       "text": [
        "\r",
        "Computed features for frame 676 of 1280 in 0.0748200416565"
       ]
      },
      {
       "output_type": "stream",
       "stream": "stdout",
       "text": [
        "\r",
        "Computed features for frame 677 of 1280 in 0.0747060775757"
       ]
      },
      {
       "output_type": "stream",
       "stream": "stdout",
       "text": [
        "\r",
        "Computed features for frame 678 of 1280 in 0.0764479637146"
       ]
      },
      {
       "output_type": "stream",
       "stream": "stdout",
       "text": [
        "\r",
        "Computed features for frame 679 of 1280 in 0.0745339393616"
       ]
      },
      {
       "output_type": "stream",
       "stream": "stdout",
       "text": [
        "\r",
        "Computed features for frame 680 of 1280 in 0.075991153717"
       ]
      },
      {
       "output_type": "stream",
       "stream": "stdout",
       "text": [
        "\r",
        "Computed features for frame 681 of 1280 in 0.0744500160217"
       ]
      },
      {
       "output_type": "stream",
       "stream": "stdout",
       "text": [
        "\r",
        "Computed features for frame 682 of 1280 in 0.0740261077881"
       ]
      },
      {
       "output_type": "stream",
       "stream": "stdout",
       "text": [
        "\r",
        "Computed features for frame 683 of 1280 in 0.0763928890228"
       ]
      },
      {
       "output_type": "stream",
       "stream": "stdout",
       "text": [
        "\r",
        "Computed features for frame 684 of 1280 in 0.0754330158234"
       ]
      },
      {
       "output_type": "stream",
       "stream": "stdout",
       "text": [
        "\r",
        "Computed features for frame 685 of 1280 in 0.0766270160675"
       ]
      },
      {
       "output_type": "stream",
       "stream": "stdout",
       "text": [
        "\r",
        "Computed features for frame 686 of 1280 in 0.0737919807434"
       ]
      },
      {
       "output_type": "stream",
       "stream": "stdout",
       "text": [
        "\r",
        "Computed features for frame 687 of 1280 in 0.0748090744019"
       ]
      },
      {
       "output_type": "stream",
       "stream": "stdout",
       "text": [
        "\r",
        "Computed features for frame 688 of 1280 in 0.0739030838013"
       ]
      },
      {
       "output_type": "stream",
       "stream": "stdout",
       "text": [
        "\r",
        "Computed features for frame 689 of 1280 in 0.0765359401703"
       ]
      },
      {
       "output_type": "stream",
       "stream": "stdout",
       "text": [
        "\r",
        "Computed features for frame 690 of 1280 in 0.0775818824768"
       ]
      },
      {
       "output_type": "stream",
       "stream": "stdout",
       "text": [
        "\r",
        "Computed features for frame 691 of 1280 in 0.074404001236"
       ]
      },
      {
       "output_type": "stream",
       "stream": "stdout",
       "text": [
        "\r",
        "Computed features for frame 692 of 1280 in 0.076210975647"
       ]
      },
      {
       "output_type": "stream",
       "stream": "stdout",
       "text": [
        "\r",
        "Computed features for frame 693 of 1280 in 0.0749819278717"
       ]
      },
      {
       "output_type": "stream",
       "stream": "stdout",
       "text": [
        "\r",
        "Computed features for frame 694 of 1280 in 0.0768780708313"
       ]
      },
      {
       "output_type": "stream",
       "stream": "stdout",
       "text": [
        "\r",
        "Computed features for frame 695 of 1280 in 0.0746321678162"
       ]
      },
      {
       "output_type": "stream",
       "stream": "stdout",
       "text": [
        "\r",
        "Computed features for frame 696 of 1280 in 0.0757429599762"
       ]
      },
      {
       "output_type": "stream",
       "stream": "stdout",
       "text": [
        "\r",
        "Computed features for frame 697 of 1280 in 0.0763590335846"
       ]
      },
      {
       "output_type": "stream",
       "stream": "stdout",
       "text": [
        "\r",
        "Computed features for frame 698 of 1280 in 0.0746431350708"
       ]
      },
      {
       "output_type": "stream",
       "stream": "stdout",
       "text": [
        "\r",
        "Computed features for frame 699 of 1280 in 0.0754637718201"
       ]
      },
      {
       "output_type": "stream",
       "stream": "stdout",
       "text": [
        "\r",
        "Computed features for frame 700 of 1280 in 0.0768210887909"
       ]
      },
      {
       "output_type": "stream",
       "stream": "stdout",
       "text": [
        "\r",
        "Computed features for frame 701 of 1280 in 0.0764999389648"
       ]
      },
      {
       "output_type": "stream",
       "stream": "stdout",
       "text": [
        "\r",
        "Computed features for frame 702 of 1280 in 0.0784571170807"
       ]
      },
      {
       "output_type": "stream",
       "stream": "stdout",
       "text": [
        "\r",
        "Computed features for frame 703 of 1280 in 0.0753619670868"
       ]
      },
      {
       "output_type": "stream",
       "stream": "stdout",
       "text": [
        "\r",
        "Computed features for frame 704 of 1280 in 0.0748898983002"
       ]
      },
      {
       "output_type": "stream",
       "stream": "stdout",
       "text": [
        "\r",
        "Computed features for frame 705 of 1280 in 0.0764610767365"
       ]
      },
      {
       "output_type": "stream",
       "stream": "stdout",
       "text": [
        "\r",
        "Computed features for frame 706 of 1280 in 0.0736558437347"
       ]
      },
      {
       "output_type": "stream",
       "stream": "stdout",
       "text": [
        "\r",
        "Computed features for frame 707 of 1280 in 0.0743789672852"
       ]
      },
      {
       "output_type": "stream",
       "stream": "stdout",
       "text": [
        "\r",
        "Computed features for frame 708 of 1280 in 0.0737869739532"
       ]
      },
      {
       "output_type": "stream",
       "stream": "stdout",
       "text": [
        "\r",
        "Computed features for frame 709 of 1280 in 0.075257062912"
       ]
      },
      {
       "output_type": "stream",
       "stream": "stdout",
       "text": [
        "\r",
        "Computed features for frame 710 of 1280 in 0.0745530128479"
       ]
      },
      {
       "output_type": "stream",
       "stream": "stdout",
       "text": [
        "\r",
        "Computed features for frame 711 of 1280 in 0.0767390727997"
       ]
      },
      {
       "output_type": "stream",
       "stream": "stdout",
       "text": [
        "\r",
        "Computed features for frame 712 of 1280 in 0.0746221542358"
       ]
      },
      {
       "output_type": "stream",
       "stream": "stdout",
       "text": [
        "\r",
        "Computed features for frame 713 of 1280 in 0.0756239891052"
       ]
      },
      {
       "output_type": "stream",
       "stream": "stdout",
       "text": [
        "\r",
        "Computed features for frame 714 of 1280 in 0.0766909122467"
       ]
      },
      {
       "output_type": "stream",
       "stream": "stdout",
       "text": [
        "\r",
        "Computed features for frame 715 of 1280 in 0.0757100582123"
       ]
      },
      {
       "output_type": "stream",
       "stream": "stdout",
       "text": [
        "\r",
        "Computed features for frame 716 of 1280 in 0.0745041370392"
       ]
      },
      {
       "output_type": "stream",
       "stream": "stdout",
       "text": [
        "\r",
        "Computed features for frame 717 of 1280 in 0.0793340206146"
       ]
      },
      {
       "output_type": "stream",
       "stream": "stdout",
       "text": [
        "\r",
        "Computed features for frame 718 of 1280 in 0.0748019218445"
       ]
      },
      {
       "output_type": "stream",
       "stream": "stdout",
       "text": [
        "\r",
        "Computed features for frame 719 of 1280 in 0.0748569965363"
       ]
      },
      {
       "output_type": "stream",
       "stream": "stdout",
       "text": [
        "\r",
        "Computed features for frame 720 of 1280 in 0.078507900238"
       ]
      },
      {
       "output_type": "stream",
       "stream": "stdout",
       "text": [
        "\r",
        "Computed features for frame 721 of 1280 in 0.0745949745178"
       ]
      },
      {
       "output_type": "stream",
       "stream": "stdout",
       "text": [
        "\r",
        "Computed features for frame 722 of 1280 in 0.0764029026031"
       ]
      },
      {
       "output_type": "stream",
       "stream": "stdout",
       "text": [
        "\r",
        "Computed features for frame 723 of 1280 in 0.0743548870087"
       ]
      },
      {
       "output_type": "stream",
       "stream": "stdout",
       "text": [
        "\r",
        "Computed features for frame 724 of 1280 in 0.0778918266296"
       ]
      },
      {
       "output_type": "stream",
       "stream": "stdout",
       "text": [
        "\r",
        "Computed features for frame 725 of 1280 in 0.0748429298401"
       ]
      },
      {
       "output_type": "stream",
       "stream": "stdout",
       "text": [
        "\r",
        "Computed features for frame 726 of 1280 in 0.0737390518188"
       ]
      },
      {
       "output_type": "stream",
       "stream": "stdout",
       "text": [
        "\r",
        "Computed features for frame 727 of 1280 in 0.074550151825"
       ]
      },
      {
       "output_type": "stream",
       "stream": "stdout",
       "text": [
        "\r",
        "Computed features for frame 728 of 1280 in 0.0748851299286"
       ]
      },
      {
       "output_type": "stream",
       "stream": "stdout",
       "text": [
        "\r",
        "Computed features for frame 729 of 1280 in 0.0740280151367"
       ]
      },
      {
       "output_type": "stream",
       "stream": "stdout",
       "text": [
        "\r",
        "Computed features for frame 730 of 1280 in 0.0742411613464"
       ]
      },
      {
       "output_type": "stream",
       "stream": "stdout",
       "text": [
        "\r",
        "Computed features for frame 731 of 1280 in 0.0742199420929"
       ]
      },
      {
       "output_type": "stream",
       "stream": "stdout",
       "text": [
        "\r",
        "Computed features for frame 732 of 1280 in 0.0750110149384"
       ]
      },
      {
       "output_type": "stream",
       "stream": "stdout",
       "text": [
        "\r",
        "Computed features for frame 733 of 1280 in 0.0755281448364"
       ]
      },
      {
       "output_type": "stream",
       "stream": "stdout",
       "text": [
        "\r",
        "Computed features for frame 734 of 1280 in 0.0771169662476"
       ]
      },
      {
       "output_type": "stream",
       "stream": "stdout",
       "text": [
        "\r",
        "Computed features for frame 735 of 1280 in 0.0787279605865"
       ]
      },
      {
       "output_type": "stream",
       "stream": "stdout",
       "text": [
        "\r",
        "Computed features for frame 736 of 1280 in 0.074450969696"
       ]
      },
      {
       "output_type": "stream",
       "stream": "stdout",
       "text": [
        "\r",
        "Computed features for frame 737 of 1280 in 0.0752949714661"
       ]
      },
      {
       "output_type": "stream",
       "stream": "stdout",
       "text": [
        "\r",
        "Computed features for frame 738 of 1280 in 0.0738060474396"
       ]
      },
      {
       "output_type": "stream",
       "stream": "stdout",
       "text": [
        "\r",
        "Computed features for frame 739 of 1280 in 0.0771989822388"
       ]
      },
      {
       "output_type": "stream",
       "stream": "stdout",
       "text": [
        "\r",
        "Computed features for frame 740 of 1280 in 0.0735650062561"
       ]
      },
      {
       "output_type": "stream",
       "stream": "stdout",
       "text": [
        "\r",
        "Computed features for frame 741 of 1280 in 0.0747029781342"
       ]
      },
      {
       "output_type": "stream",
       "stream": "stdout",
       "text": [
        "\r",
        "Computed features for frame 742 of 1280 in 0.0742268562317"
       ]
      },
      {
       "output_type": "stream",
       "stream": "stdout",
       "text": [
        "\r",
        "Computed features for frame 743 of 1280 in 0.0762639045715"
       ]
      },
      {
       "output_type": "stream",
       "stream": "stdout",
       "text": [
        "\r",
        "Computed features for frame 744 of 1280 in 0.0746989250183"
       ]
      },
      {
       "output_type": "stream",
       "stream": "stdout",
       "text": [
        "\r",
        "Computed features for frame 745 of 1280 in 0.0741090774536"
       ]
      },
      {
       "output_type": "stream",
       "stream": "stdout",
       "text": [
        "\r",
        "Computed features for frame 746 of 1280 in 0.0751709938049"
       ]
      },
      {
       "output_type": "stream",
       "stream": "stdout",
       "text": [
        "\r",
        "Computed features for frame 747 of 1280 in 0.0749800205231"
       ]
      },
      {
       "output_type": "stream",
       "stream": "stdout",
       "text": [
        "\r",
        "Computed features for frame 748 of 1280 in 0.0740468502045"
       ]
      },
      {
       "output_type": "stream",
       "stream": "stdout",
       "text": [
        "\r",
        "Computed features for frame 749 of 1280 in 0.0756621360779"
       ]
      },
      {
       "output_type": "stream",
       "stream": "stdout",
       "text": [
        "\r",
        "Computed features for frame 750 of 1280 in 0.0772550106049"
       ]
      },
      {
       "output_type": "stream",
       "stream": "stdout",
       "text": [
        "\r",
        "Computed features for frame 751 of 1280 in 0.075343132019"
       ]
      },
      {
       "output_type": "stream",
       "stream": "stdout",
       "text": [
        "\r",
        "Computed features for frame 752 of 1280 in 0.0753359794617"
       ]
      },
      {
       "output_type": "stream",
       "stream": "stdout",
       "text": [
        "\r",
        "Computed features for frame 753 of 1280 in 0.0752940177917"
       ]
      },
      {
       "output_type": "stream",
       "stream": "stdout",
       "text": [
        "\r",
        "Computed features for frame 754 of 1280 in 0.0745439529419"
       ]
      },
      {
       "output_type": "stream",
       "stream": "stdout",
       "text": [
        "\r",
        "Computed features for frame 755 of 1280 in 0.0750589370728"
       ]
      },
      {
       "output_type": "stream",
       "stream": "stdout",
       "text": [
        "\r",
        "Computed features for frame 756 of 1280 in 0.0747509002686"
       ]
      },
      {
       "output_type": "stream",
       "stream": "stdout",
       "text": [
        "\r",
        "Computed features for frame 757 of 1280 in 0.0753269195557"
       ]
      },
      {
       "output_type": "stream",
       "stream": "stdout",
       "text": [
        "\r",
        "Computed features for frame 758 of 1280 in 0.0743091106415"
       ]
      },
      {
       "output_type": "stream",
       "stream": "stdout",
       "text": [
        "\r",
        "Computed features for frame 759 of 1280 in 0.0741009712219"
       ]
      },
      {
       "output_type": "stream",
       "stream": "stdout",
       "text": [
        "\r",
        "Computed features for frame 760 of 1280 in 0.0739629268646"
       ]
      },
      {
       "output_type": "stream",
       "stream": "stdout",
       "text": [
        "\r",
        "Computed features for frame 761 of 1280 in 0.0739479064941"
       ]
      },
      {
       "output_type": "stream",
       "stream": "stdout",
       "text": [
        "\r",
        "Computed features for frame 762 of 1280 in 0.0740168094635"
       ]
      },
      {
       "output_type": "stream",
       "stream": "stdout",
       "text": [
        "\r",
        "Computed features for frame 763 of 1280 in 0.075569152832"
       ]
      },
      {
       "output_type": "stream",
       "stream": "stdout",
       "text": [
        "\r",
        "Computed features for frame 764 of 1280 in 0.0774729251862"
       ]
      },
      {
       "output_type": "stream",
       "stream": "stdout",
       "text": [
        "\r",
        "Computed features for frame 765 of 1280 in 0.0762917995453"
       ]
      },
      {
       "output_type": "stream",
       "stream": "stdout",
       "text": [
        "\r",
        "Computed features for frame 766 of 1280 in 0.0738220214844"
       ]
      },
      {
       "output_type": "stream",
       "stream": "stdout",
       "text": [
        "\r",
        "Computed features for frame 767 of 1280 in 0.07310795784"
       ]
      },
      {
       "output_type": "stream",
       "stream": "stdout",
       "text": [
        "\r",
        "Computed features for frame 768 of 1280 in 0.0744860172272"
       ]
      },
      {
       "output_type": "stream",
       "stream": "stdout",
       "text": [
        "\r",
        "Computed features for frame 769 of 1280 in 0.0728890895844"
       ]
      },
      {
       "output_type": "stream",
       "stream": "stdout",
       "text": [
        "\r",
        "Computed features for frame 770 of 1280 in 0.0744831562042"
       ]
      },
      {
       "output_type": "stream",
       "stream": "stdout",
       "text": [
        "\r",
        "Computed features for frame 771 of 1280 in 0.0732679367065"
       ]
      },
      {
       "output_type": "stream",
       "stream": "stdout",
       "text": [
        "\r",
        "Computed features for frame 772 of 1280 in 0.0739729404449"
       ]
      },
      {
       "output_type": "stream",
       "stream": "stdout",
       "text": [
        "\r",
        "Computed features for frame 773 of 1280 in 0.0734298229218"
       ]
      },
      {
       "output_type": "stream",
       "stream": "stdout",
       "text": [
        "\r",
        "Computed features for frame 774 of 1280 in 0.0741629600525"
       ]
      },
      {
       "output_type": "stream",
       "stream": "stdout",
       "text": [
        "\r",
        "Computed features for frame 775 of 1280 in 0.073725938797"
       ]
      },
      {
       "output_type": "stream",
       "stream": "stdout",
       "text": [
        "\r",
        "Computed features for frame 776 of 1280 in 0.07266497612"
       ]
      },
      {
       "output_type": "stream",
       "stream": "stdout",
       "text": [
        "\r",
        "Computed features for frame 777 of 1280 in 0.0742809772491"
       ]
      },
      {
       "output_type": "stream",
       "stream": "stdout",
       "text": [
        "\r",
        "Computed features for frame 778 of 1280 in 0.0739729404449"
       ]
      },
      {
       "output_type": "stream",
       "stream": "stdout",
       "text": [
        "\r",
        "Computed features for frame 779 of 1280 in 0.0734450817108"
       ]
      },
      {
       "output_type": "stream",
       "stream": "stdout",
       "text": [
        "\r",
        "Computed features for frame 780 of 1280 in 0.0752198696136"
       ]
      },
      {
       "output_type": "stream",
       "stream": "stdout",
       "text": [
        "\r",
        "Computed features for frame 781 of 1280 in 0.0735981464386"
       ]
      },
      {
       "output_type": "stream",
       "stream": "stdout",
       "text": [
        "\r",
        "Computed features for frame 782 of 1280 in 0.0726118087769"
       ]
      },
      {
       "output_type": "stream",
       "stream": "stdout",
       "text": [
        "\r",
        "Computed features for frame 783 of 1280 in 0.073390007019"
       ]
      },
      {
       "output_type": "stream",
       "stream": "stdout",
       "text": [
        "\r",
        "Computed features for frame 784 of 1280 in 0.0736880302429"
       ]
      },
      {
       "output_type": "stream",
       "stream": "stdout",
       "text": [
        "\r",
        "Computed features for frame 785 of 1280 in 0.0734519958496"
       ]
      },
      {
       "output_type": "stream",
       "stream": "stdout",
       "text": [
        "\r",
        "Computed features for frame 786 of 1280 in 0.0736207962036"
       ]
      },
      {
       "output_type": "stream",
       "stream": "stdout",
       "text": [
        "\r",
        "Computed features for frame 787 of 1280 in 0.0749309062958"
       ]
      },
      {
       "output_type": "stream",
       "stream": "stdout",
       "text": [
        "\r",
        "Computed features for frame 788 of 1280 in 0.0752449035645"
       ]
      },
      {
       "output_type": "stream",
       "stream": "stdout",
       "text": [
        "\r",
        "Computed features for frame 789 of 1280 in 0.0743880271912"
       ]
      },
      {
       "output_type": "stream",
       "stream": "stdout",
       "text": [
        "\r",
        "Computed features for frame 790 of 1280 in 0.0749409198761"
       ]
      },
      {
       "output_type": "stream",
       "stream": "stdout",
       "text": [
        "\r",
        "Computed features for frame 791 of 1280 in 0.0728809833527"
       ]
      },
      {
       "output_type": "stream",
       "stream": "stdout",
       "text": [
        "\r",
        "Computed features for frame 792 of 1280 in 0.073637008667"
       ]
      },
      {
       "output_type": "stream",
       "stream": "stdout",
       "text": [
        "\r",
        "Computed features for frame 793 of 1280 in 0.0732710361481"
       ]
      },
      {
       "output_type": "stream",
       "stream": "stdout",
       "text": [
        "\r",
        "Computed features for frame 794 of 1280 in 0.0732939243317"
       ]
      },
      {
       "output_type": "stream",
       "stream": "stdout",
       "text": [
        "\r",
        "Computed features for frame 795 of 1280 in 0.0750820636749"
       ]
      },
      {
       "output_type": "stream",
       "stream": "stdout",
       "text": [
        "\r",
        "Computed features for frame 796 of 1280 in 0.0726289749146"
       ]
      },
      {
       "output_type": "stream",
       "stream": "stdout",
       "text": [
        "\r",
        "Computed features for frame 797 of 1280 in 0.0736491680145"
       ]
      },
      {
       "output_type": "stream",
       "stream": "stdout",
       "text": [
        "\r",
        "Computed features for frame 798 of 1280 in 0.0743000507355"
       ]
      },
      {
       "output_type": "stream",
       "stream": "stdout",
       "text": [
        "\r",
        "Computed features for frame 799 of 1280 in 0.0742971897125"
       ]
      },
      {
       "output_type": "stream",
       "stream": "stdout",
       "text": [
        "\r",
        "Computed features for frame 800 of 1280 in 0.0745470523834"
       ]
      },
      {
       "output_type": "stream",
       "stream": "stdout",
       "text": [
        "\r",
        "Computed features for frame 801 of 1280 in 0.0753829479218"
       ]
      },
      {
       "output_type": "stream",
       "stream": "stdout",
       "text": [
        "\r",
        "Computed features for frame 802 of 1280 in 0.0741939544678"
       ]
      },
      {
       "output_type": "stream",
       "stream": "stdout",
       "text": [
        "\r",
        "Computed features for frame 803 of 1280 in 0.0756900310516"
       ]
      },
      {
       "output_type": "stream",
       "stream": "stdout",
       "text": [
        "\r",
        "Computed features for frame 804 of 1280 in 0.0749177932739"
       ]
      },
      {
       "output_type": "stream",
       "stream": "stdout",
       "text": [
        "\r",
        "Computed features for frame 805 of 1280 in 0.0753450393677"
       ]
      },
      {
       "output_type": "stream",
       "stream": "stdout",
       "text": [
        "\r",
        "Computed features for frame 806 of 1280 in 0.0747931003571"
       ]
      },
      {
       "output_type": "stream",
       "stream": "stdout",
       "text": [
        "\r",
        "Computed features for frame 807 of 1280 in 0.0751399993896"
       ]
      },
      {
       "output_type": "stream",
       "stream": "stdout",
       "text": [
        "\r",
        "Computed features for frame 808 of 1280 in 0.0751130580902"
       ]
      },
      {
       "output_type": "stream",
       "stream": "stdout",
       "text": [
        "\r",
        "Computed features for frame 809 of 1280 in 0.075670003891"
       ]
      },
      {
       "output_type": "stream",
       "stream": "stdout",
       "text": [
        "\r",
        "Computed features for frame 810 of 1280 in 0.0754950046539"
       ]
      },
      {
       "output_type": "stream",
       "stream": "stdout",
       "text": [
        "\r",
        "Computed features for frame 811 of 1280 in 0.0742027759552"
       ]
      },
      {
       "output_type": "stream",
       "stream": "stdout",
       "text": [
        "\r",
        "Computed features for frame 812 of 1280 in 0.0744230747223"
       ]
      },
      {
       "output_type": "stream",
       "stream": "stdout",
       "text": [
        "\r",
        "Computed features for frame 813 of 1280 in 0.0736329555511"
       ]
      },
      {
       "output_type": "stream",
       "stream": "stdout",
       "text": [
        "\r",
        "Computed features for frame 814 of 1280 in 0.0762491226196"
       ]
      },
      {
       "output_type": "stream",
       "stream": "stdout",
       "text": [
        "\r",
        "Computed features for frame 815 of 1280 in 0.0731699466705"
       ]
      },
      {
       "output_type": "stream",
       "stream": "stdout",
       "text": [
        "\r",
        "Computed features for frame 816 of 1280 in 0.0740098953247"
       ]
      },
      {
       "output_type": "stream",
       "stream": "stdout",
       "text": [
        "\r",
        "Computed features for frame 817 of 1280 in 0.0732290744781"
       ]
      },
      {
       "output_type": "stream",
       "stream": "stdout",
       "text": [
        "\r",
        "Computed features for frame 818 of 1280 in 0.0747110843658"
       ]
      },
      {
       "output_type": "stream",
       "stream": "stdout",
       "text": [
        "\r",
        "Computed features for frame 819 of 1280 in 0.0789248943329"
       ]
      },
      {
       "output_type": "stream",
       "stream": "stdout",
       "text": [
        "\r",
        "Computed features for frame 820 of 1280 in 0.0742938518524"
       ]
      },
      {
       "output_type": "stream",
       "stream": "stdout",
       "text": [
        "\r",
        "Computed features for frame 821 of 1280 in 0.0752799510956"
       ]
      },
      {
       "output_type": "stream",
       "stream": "stdout",
       "text": [
        "\r",
        "Computed features for frame 822 of 1280 in 0.0740540027618"
       ]
      },
      {
       "output_type": "stream",
       "stream": "stdout",
       "text": [
        "\r",
        "Computed features for frame 823 of 1280 in 0.0745749473572"
       ]
      },
      {
       "output_type": "stream",
       "stream": "stdout",
       "text": [
        "\r",
        "Computed features for frame 824 of 1280 in 0.0744490623474"
       ]
      },
      {
       "output_type": "stream",
       "stream": "stdout",
       "text": [
        "\r",
        "Computed features for frame 825 of 1280 in 0.0760810375214"
       ]
      },
      {
       "output_type": "stream",
       "stream": "stdout",
       "text": [
        "\r",
        "Computed features for frame 826 of 1280 in 0.0735960006714"
       ]
      },
      {
       "output_type": "stream",
       "stream": "stdout",
       "text": [
        "\r",
        "Computed features for frame 827 of 1280 in 0.0722749233246"
       ]
      },
      {
       "output_type": "stream",
       "stream": "stdout",
       "text": [
        "\r",
        "Computed features for frame 828 of 1280 in 0.073970079422"
       ]
      },
      {
       "output_type": "stream",
       "stream": "stdout",
       "text": [
        "\r",
        "Computed features for frame 829 of 1280 in 0.0724859237671"
       ]
      },
      {
       "output_type": "stream",
       "stream": "stdout",
       "text": [
        "\r",
        "Computed features for frame 830 of 1280 in 0.073882818222"
       ]
      },
      {
       "output_type": "stream",
       "stream": "stdout",
       "text": [
        "\r",
        "Computed features for frame 831 of 1280 in 0.0747418403625"
       ]
      },
      {
       "output_type": "stream",
       "stream": "stdout",
       "text": [
        "\r",
        "Computed features for frame 832 of 1280 in 0.0736351013184"
       ]
      },
      {
       "output_type": "stream",
       "stream": "stdout",
       "text": [
        "\r",
        "Computed features for frame 833 of 1280 in 0.0741739273071"
       ]
      },
      {
       "output_type": "stream",
       "stream": "stdout",
       "text": [
        "\r",
        "Computed features for frame 834 of 1280 in 0.0752780437469"
       ]
      },
      {
       "output_type": "stream",
       "stream": "stdout",
       "text": [
        "\r",
        "Computed features for frame 835 of 1280 in 0.0750949382782"
       ]
      },
      {
       "output_type": "stream",
       "stream": "stdout",
       "text": [
        "\r",
        "Computed features for frame 836 of 1280 in 0.0750250816345"
       ]
      },
      {
       "output_type": "stream",
       "stream": "stdout",
       "text": [
        "\r",
        "Computed features for frame 837 of 1280 in 0.0751938819885"
       ]
      },
      {
       "output_type": "stream",
       "stream": "stdout",
       "text": [
        "\r",
        "Computed features for frame 838 of 1280 in 0.0753750801086"
       ]
      },
      {
       "output_type": "stream",
       "stream": "stdout",
       "text": [
        "\r",
        "Computed features for frame 839 of 1280 in 0.0765469074249"
       ]
      },
      {
       "output_type": "stream",
       "stream": "stdout",
       "text": [
        "\r",
        "Computed features for frame 840 of 1280 in 0.0768291950226"
       ]
      },
      {
       "output_type": "stream",
       "stream": "stdout",
       "text": [
        "\r",
        "Computed features for frame 841 of 1280 in 0.074579000473"
       ]
      },
      {
       "output_type": "stream",
       "stream": "stdout",
       "text": [
        "\r",
        "Computed features for frame 842 of 1280 in 0.0746650695801"
       ]
      },
      {
       "output_type": "stream",
       "stream": "stdout",
       "text": [
        "\r",
        "Computed features for frame 843 of 1280 in 0.0744051933289"
       ]
      },
      {
       "output_type": "stream",
       "stream": "stdout",
       "text": [
        "\r",
        "Computed features for frame 844 of 1280 in 0.0752069950104"
       ]
      },
      {
       "output_type": "stream",
       "stream": "stdout",
       "text": [
        "\r",
        "Computed features for frame 845 of 1280 in 0.0746059417725"
       ]
      },
      {
       "output_type": "stream",
       "stream": "stdout",
       "text": [
        "\r",
        "Computed features for frame 846 of 1280 in 0.0800919532776"
       ]
      },
      {
       "output_type": "stream",
       "stream": "stdout",
       "text": [
        "\r",
        "Computed features for frame 847 of 1280 in 0.0744650363922"
       ]
      },
      {
       "output_type": "stream",
       "stream": "stdout",
       "text": [
        "\r",
        "Computed features for frame 848 of 1280 in 0.0741150379181"
       ]
      },
      {
       "output_type": "stream",
       "stream": "stdout",
       "text": [
        "\r",
        "Computed features for frame 849 of 1280 in 0.0751461982727"
       ]
      },
      {
       "output_type": "stream",
       "stream": "stdout",
       "text": [
        "\r",
        "Computed features for frame 850 of 1280 in 0.0743520259857"
       ]
      },
      {
       "output_type": "stream",
       "stream": "stdout",
       "text": [
        "\r",
        "Computed features for frame 851 of 1280 in 0.075835943222"
       ]
      },
      {
       "output_type": "stream",
       "stream": "stdout",
       "text": [
        "\r",
        "Computed features for frame 852 of 1280 in 0.0753328800201"
       ]
      },
      {
       "output_type": "stream",
       "stream": "stdout",
       "text": [
        "\r",
        "Computed features for frame 853 of 1280 in 0.0761427879333"
       ]
      },
      {
       "output_type": "stream",
       "stream": "stdout",
       "text": [
        "\r",
        "Computed features for frame 854 of 1280 in 0.0747208595276"
       ]
      },
      {
       "output_type": "stream",
       "stream": "stdout",
       "text": [
        "\r",
        "Computed features for frame 855 of 1280 in 0.0797009468079"
       ]
      },
      {
       "output_type": "stream",
       "stream": "stdout",
       "text": [
        "\r",
        "Computed features for frame 856 of 1280 in 0.077290058136"
       ]
      },
      {
       "output_type": "stream",
       "stream": "stdout",
       "text": [
        "\r",
        "Computed features for frame 857 of 1280 in 0.0752649307251"
       ]
      },
      {
       "output_type": "stream",
       "stream": "stdout",
       "text": [
        "\r",
        "Computed features for frame 858 of 1280 in 0.0735290050507"
       ]
      },
      {
       "output_type": "stream",
       "stream": "stdout",
       "text": [
        "\r",
        "Computed features for frame 859 of 1280 in 0.0762131214142"
       ]
      },
      {
       "output_type": "stream",
       "stream": "stdout",
       "text": [
        "\r",
        "Computed features for frame 860 of 1280 in 0.0745310783386"
       ]
      },
      {
       "output_type": "stream",
       "stream": "stdout",
       "text": [
        "\r",
        "Computed features for frame 861 of 1280 in 0.0745759010315"
       ]
      },
      {
       "output_type": "stream",
       "stream": "stdout",
       "text": [
        "\r",
        "Computed features for frame 862 of 1280 in 0.0746550559998"
       ]
      },
      {
       "output_type": "stream",
       "stream": "stdout",
       "text": [
        "\r",
        "Computed features for frame 863 of 1280 in 0.075119972229"
       ]
      },
      {
       "output_type": "stream",
       "stream": "stdout",
       "text": [
        "\r",
        "Computed features for frame 864 of 1280 in 0.0748438835144"
       ]
      },
      {
       "output_type": "stream",
       "stream": "stdout",
       "text": [
        "\r",
        "Computed features for frame 865 of 1280 in 0.074373960495"
       ]
      },
      {
       "output_type": "stream",
       "stream": "stdout",
       "text": [
        "\r",
        "Computed features for frame 866 of 1280 in 0.0747489929199"
       ]
      },
      {
       "output_type": "stream",
       "stream": "stdout",
       "text": [
        "\r",
        "Computed features for frame 867 of 1280 in 0.0737009048462"
       ]
      },
      {
       "output_type": "stream",
       "stream": "stdout",
       "text": [
        "\r",
        "Computed features for frame 868 of 1280 in 0.0762259960175"
       ]
      },
      {
       "output_type": "stream",
       "stream": "stdout",
       "text": [
        "\r",
        "Computed features for frame 869 of 1280 in 0.0735518932343"
       ]
      },
      {
       "output_type": "stream",
       "stream": "stdout",
       "text": [
        "\r",
        "Computed features for frame 870 of 1280 in 0.0755410194397"
       ]
      },
      {
       "output_type": "stream",
       "stream": "stdout",
       "text": [
        "\r",
        "Computed features for frame 871 of 1280 in 0.0725810527802"
       ]
      },
      {
       "output_type": "stream",
       "stream": "stdout",
       "text": [
        "\r",
        "Computed features for frame 872 of 1280 in 0.0726778507233"
       ]
      },
      {
       "output_type": "stream",
       "stream": "stdout",
       "text": [
        "\r",
        "Computed features for frame 873 of 1280 in 0.0729119777679"
       ]
      },
      {
       "output_type": "stream",
       "stream": "stdout",
       "text": [
        "\r",
        "Computed features for frame 874 of 1280 in 0.072897195816"
       ]
      },
      {
       "output_type": "stream",
       "stream": "stdout",
       "text": [
        "\r",
        "Computed features for frame 875 of 1280 in 0.0733032226562"
       ]
      },
      {
       "output_type": "stream",
       "stream": "stdout",
       "text": [
        "\r",
        "Computed features for frame 876 of 1280 in 0.0728678703308"
       ]
      },
      {
       "output_type": "stream",
       "stream": "stdout",
       "text": [
        "\r",
        "Computed features for frame 877 of 1280 in 0.0744168758392"
       ]
      },
      {
       "output_type": "stream",
       "stream": "stdout",
       "text": [
        "\r",
        "Computed features for frame 878 of 1280 in 0.0738928318024"
       ]
      },
      {
       "output_type": "stream",
       "stream": "stdout",
       "text": [
        "\r",
        "Computed features for frame 879 of 1280 in 0.0749809741974"
       ]
      },
      {
       "output_type": "stream",
       "stream": "stdout",
       "text": [
        "\r",
        "Computed features for frame 880 of 1280 in 0.0738179683685"
       ]
      },
      {
       "output_type": "stream",
       "stream": "stdout",
       "text": [
        "\r",
        "Computed features for frame 881 of 1280 in 0.0739328861237"
       ]
      },
      {
       "output_type": "stream",
       "stream": "stdout",
       "text": [
        "\r",
        "Computed features for frame 882 of 1280 in 0.0737729072571"
       ]
      },
      {
       "output_type": "stream",
       "stream": "stdout",
       "text": [
        "\r",
        "Computed features for frame 883 of 1280 in 0.072517156601"
       ]
      },
      {
       "output_type": "stream",
       "stream": "stdout",
       "text": [
        "\r",
        "Computed features for frame 884 of 1280 in 0.0731370449066"
       ]
      },
      {
       "output_type": "stream",
       "stream": "stdout",
       "text": [
        "\r",
        "Computed features for frame 885 of 1280 in 0.0762720108032"
       ]
      },
      {
       "output_type": "stream",
       "stream": "stdout",
       "text": [
        "\r",
        "Computed features for frame 886 of 1280 in 0.072466135025"
       ]
      },
      {
       "output_type": "stream",
       "stream": "stdout",
       "text": [
        "\r",
        "Computed features for frame 887 of 1280 in 0.0729541778564"
       ]
      },
      {
       "output_type": "stream",
       "stream": "stdout",
       "text": [
        "\r",
        "Computed features for frame 888 of 1280 in 0.076632976532"
       ]
      },
      {
       "output_type": "stream",
       "stream": "stdout",
       "text": [
        "\r",
        "Computed features for frame 889 of 1280 in 0.0741190910339"
       ]
      },
      {
       "output_type": "stream",
       "stream": "stdout",
       "text": [
        "\r",
        "Computed features for frame 890 of 1280 in 0.0739240646362"
       ]
      },
      {
       "output_type": "stream",
       "stream": "stdout",
       "text": [
        "\r",
        "Computed features for frame 891 of 1280 in 0.0751810073853"
       ]
      },
      {
       "output_type": "stream",
       "stream": "stdout",
       "text": [
        "\r",
        "Computed features for frame 892 of 1280 in 0.075621843338"
       ]
      },
      {
       "output_type": "stream",
       "stream": "stdout",
       "text": [
        "\r",
        "Computed features for frame 893 of 1280 in 0.0745677947998"
       ]
      },
      {
       "output_type": "stream",
       "stream": "stdout",
       "text": [
        "\r",
        "Computed features for frame 894 of 1280 in 0.0753588676453"
       ]
      },
      {
       "output_type": "stream",
       "stream": "stdout",
       "text": [
        "\r",
        "Computed features for frame 895 of 1280 in 0.0745899677277"
       ]
      },
      {
       "output_type": "stream",
       "stream": "stdout",
       "text": [
        "\r",
        "Computed features for frame 896 of 1280 in 0.0752439498901"
       ]
      },
      {
       "output_type": "stream",
       "stream": "stdout",
       "text": [
        "\r",
        "Computed features for frame 897 of 1280 in 0.0742981433868"
       ]
      },
      {
       "output_type": "stream",
       "stream": "stdout",
       "text": [
        "\r",
        "Computed features for frame 898 of 1280 in 0.0758860111237"
       ]
      },
      {
       "output_type": "stream",
       "stream": "stdout",
       "text": [
        "\r",
        "Computed features for frame 899 of 1280 in 0.0748789310455"
       ]
      },
      {
       "output_type": "stream",
       "stream": "stdout",
       "text": [
        "\r",
        "Computed features for frame 900 of 1280 in 0.0765669345856"
       ]
      },
      {
       "output_type": "stream",
       "stream": "stdout",
       "text": [
        "\r",
        "Computed features for frame 901 of 1280 in 0.0736219882965"
       ]
      },
      {
       "output_type": "stream",
       "stream": "stdout",
       "text": [
        "\r",
        "Computed features for frame 902 of 1280 in 0.0740790367126"
       ]
      },
      {
       "output_type": "stream",
       "stream": "stdout",
       "text": [
        "\r",
        "Computed features for frame 903 of 1280 in 0.0752289295197"
       ]
      },
      {
       "output_type": "stream",
       "stream": "stdout",
       "text": [
        "\r",
        "Computed features for frame 904 of 1280 in 0.0745179653168"
       ]
      },
      {
       "output_type": "stream",
       "stream": "stdout",
       "text": [
        "\r",
        "Computed features for frame 905 of 1280 in 0.0753390789032"
       ]
      },
      {
       "output_type": "stream",
       "stream": "stdout",
       "text": [
        "\r",
        "Computed features for frame 906 of 1280 in 0.0747630596161"
       ]
      },
      {
       "output_type": "stream",
       "stream": "stdout",
       "text": [
        "\r",
        "Computed features for frame 907 of 1280 in 0.0744249820709"
       ]
      },
      {
       "output_type": "stream",
       "stream": "stdout",
       "text": [
        "\r",
        "Computed features for frame 908 of 1280 in 0.0731701850891"
       ]
      },
      {
       "output_type": "stream",
       "stream": "stdout",
       "text": [
        "\r",
        "Computed features for frame 909 of 1280 in 0.0763671398163"
       ]
      },
      {
       "output_type": "stream",
       "stream": "stdout",
       "text": [
        "\r",
        "Computed features for frame 910 of 1280 in 0.0798699855804"
       ]
      },
      {
       "output_type": "stream",
       "stream": "stdout",
       "text": [
        "\r",
        "Computed features for frame 911 of 1280 in 0.0739960670471"
       ]
      },
      {
       "output_type": "stream",
       "stream": "stdout",
       "text": [
        "\r",
        "Computed features for frame 912 of 1280 in 0.0732429027557"
       ]
      },
      {
       "output_type": "stream",
       "stream": "stdout",
       "text": [
        "\r",
        "Computed features for frame 913 of 1280 in 0.0763339996338"
       ]
      },
      {
       "output_type": "stream",
       "stream": "stdout",
       "text": [
        "\r",
        "Computed features for frame 914 of 1280 in 0.0733170509338"
       ]
      },
      {
       "output_type": "stream",
       "stream": "stdout",
       "text": [
        "\r",
        "Computed features for frame 915 of 1280 in 0.076719045639"
       ]
      },
      {
       "output_type": "stream",
       "stream": "stdout",
       "text": [
        "\r",
        "Computed features for frame 916 of 1280 in 0.076110124588"
       ]
      },
      {
       "output_type": "stream",
       "stream": "stdout",
       "text": [
        "\r",
        "Computed features for frame 917 of 1280 in 0.0747079849243"
       ]
      },
      {
       "output_type": "stream",
       "stream": "stdout",
       "text": [
        "\r",
        "Computed features for frame 918 of 1280 in 0.0748801231384"
       ]
      },
      {
       "output_type": "stream",
       "stream": "stdout",
       "text": [
        "\r",
        "Computed features for frame 919 of 1280 in 0.0749490261078"
       ]
      },
      {
       "output_type": "stream",
       "stream": "stdout",
       "text": [
        "\r",
        "Computed features for frame 920 of 1280 in 0.0758399963379"
       ]
      },
      {
       "output_type": "stream",
       "stream": "stdout",
       "text": [
        "\r",
        "Computed features for frame 921 of 1280 in 0.0750930309296"
       ]
      },
      {
       "output_type": "stream",
       "stream": "stdout",
       "text": [
        "\r",
        "Computed features for frame 922 of 1280 in 0.0754380226135"
       ]
      },
      {
       "output_type": "stream",
       "stream": "stdout",
       "text": [
        "\r",
        "Computed features for frame 923 of 1280 in 0.0749399662018"
       ]
      },
      {
       "output_type": "stream",
       "stream": "stdout",
       "text": [
        "\r",
        "Computed features for frame 924 of 1280 in 0.0750889778137"
       ]
      },
      {
       "output_type": "stream",
       "stream": "stdout",
       "text": [
        "\r",
        "Computed features for frame 925 of 1280 in 0.0747380256653"
       ]
      },
      {
       "output_type": "stream",
       "stream": "stdout",
       "text": [
        "\r",
        "Computed features for frame 926 of 1280 in 0.0744512081146"
       ]
      },
      {
       "output_type": "stream",
       "stream": "stdout",
       "text": [
        "\r",
        "Computed features for frame 927 of 1280 in 0.074630022049"
       ]
      },
      {
       "output_type": "stream",
       "stream": "stdout",
       "text": [
        "\r",
        "Computed features for frame 928 of 1280 in 0.0751249790192"
       ]
      },
      {
       "output_type": "stream",
       "stream": "stdout",
       "text": [
        "\r",
        "Computed features for frame 929 of 1280 in 0.0753149986267"
       ]
      },
      {
       "output_type": "stream",
       "stream": "stdout",
       "text": [
        "\r",
        "Computed features for frame 930 of 1280 in 0.0768551826477"
       ]
      },
      {
       "output_type": "stream",
       "stream": "stdout",
       "text": [
        "\r",
        "Computed features for frame 931 of 1280 in 0.0743811130524"
       ]
      },
      {
       "output_type": "stream",
       "stream": "stdout",
       "text": [
        "\r",
        "Computed features for frame 932 of 1280 in 0.0747718811035"
       ]
      },
      {
       "output_type": "stream",
       "stream": "stdout",
       "text": [
        "\r",
        "Computed features for frame 933 of 1280 in 0.0730299949646"
       ]
      },
      {
       "output_type": "stream",
       "stream": "stdout",
       "text": [
        "\r",
        "Computed features for frame 934 of 1280 in 0.0744340419769"
       ]
      },
      {
       "output_type": "stream",
       "stream": "stdout",
       "text": [
        "\r",
        "Computed features for frame 935 of 1280 in 0.0768468379974"
       ]
      },
      {
       "output_type": "stream",
       "stream": "stdout",
       "text": [
        "\r",
        "Computed features for frame 936 of 1280 in 0.0742499828339"
       ]
      },
      {
       "output_type": "stream",
       "stream": "stdout",
       "text": [
        "\r",
        "Computed features for frame 937 of 1280 in 0.0730841159821"
       ]
      },
      {
       "output_type": "stream",
       "stream": "stdout",
       "text": [
        "\r",
        "Computed features for frame 938 of 1280 in 0.0737490653992"
       ]
      },
      {
       "output_type": "stream",
       "stream": "stdout",
       "text": [
        "\r",
        "Computed features for frame 939 of 1280 in 0.0748989582062"
       ]
      },
      {
       "output_type": "stream",
       "stream": "stdout",
       "text": [
        "\r",
        "Computed features for frame 940 of 1280 in 0.0740950107574"
       ]
      },
      {
       "output_type": "stream",
       "stream": "stdout",
       "text": [
        "\r",
        "Computed features for frame 941 of 1280 in 0.0739660263062"
       ]
      },
      {
       "output_type": "stream",
       "stream": "stdout",
       "text": [
        "\r",
        "Computed features for frame 942 of 1280 in 0.0734820365906"
       ]
      },
      {
       "output_type": "stream",
       "stream": "stdout",
       "text": [
        "\r",
        "Computed features for frame 943 of 1280 in 0.0738279819489"
       ]
      },
      {
       "output_type": "stream",
       "stream": "stdout",
       "text": [
        "\r",
        "Computed features for frame 944 of 1280 in 0.0735859870911"
       ]
      },
      {
       "output_type": "stream",
       "stream": "stdout",
       "text": [
        "\r",
        "Computed features for frame 945 of 1280 in 0.078047990799"
       ]
      },
      {
       "output_type": "stream",
       "stream": "stdout",
       "text": [
        "\r",
        "Computed features for frame 946 of 1280 in 0.0729320049286"
       ]
      },
      {
       "output_type": "stream",
       "stream": "stdout",
       "text": [
        "\r",
        "Computed features for frame 947 of 1280 in 0.0739679336548"
       ]
      },
      {
       "output_type": "stream",
       "stream": "stdout",
       "text": [
        "\r",
        "Computed features for frame 948 of 1280 in 0.0757999420166"
       ]
      },
      {
       "output_type": "stream",
       "stream": "stdout",
       "text": [
        "\r",
        "Computed features for frame 949 of 1280 in 0.0755100250244"
       ]
      },
      {
       "output_type": "stream",
       "stream": "stdout",
       "text": [
        "\r",
        "Computed features for frame 950 of 1280 in 0.0754210948944"
       ]
      },
      {
       "output_type": "stream",
       "stream": "stdout",
       "text": [
        "\r",
        "Computed features for frame 951 of 1280 in 0.074903011322"
       ]
      },
      {
       "output_type": "stream",
       "stream": "stdout",
       "text": [
        "\r",
        "Computed features for frame 952 of 1280 in 0.0743579864502"
       ]
      },
      {
       "output_type": "stream",
       "stream": "stdout",
       "text": [
        "\r",
        "Computed features for frame 953 of 1280 in 0.0757279396057"
       ]
      },
      {
       "output_type": "stream",
       "stream": "stdout",
       "text": [
        "\r",
        "Computed features for frame 954 of 1280 in 0.0749731063843"
       ]
      },
      {
       "output_type": "stream",
       "stream": "stdout",
       "text": [
        "\r",
        "Computed features for frame 955 of 1280 in 0.0761399269104"
       ]
      },
      {
       "output_type": "stream",
       "stream": "stdout",
       "text": [
        "\r",
        "Computed features for frame 956 of 1280 in 0.0751001834869"
       ]
      },
      {
       "output_type": "stream",
       "stream": "stdout",
       "text": [
        "\r",
        "Computed features for frame 957 of 1280 in 0.0754160881042"
       ]
      },
      {
       "output_type": "stream",
       "stream": "stdout",
       "text": [
        "\r",
        "Computed features for frame 958 of 1280 in 0.0765337944031"
       ]
      },
      {
       "output_type": "stream",
       "stream": "stdout",
       "text": [
        "\r",
        "Computed features for frame 959 of 1280 in 0.0744199752808"
       ]
      },
      {
       "output_type": "stream",
       "stream": "stdout",
       "text": [
        "\r",
        "Computed features for frame 960 of 1280 in 0.0777809619904"
       ]
      },
      {
       "output_type": "stream",
       "stream": "stdout",
       "text": [
        "\r",
        "Computed features for frame 961 of 1280 in 0.0742530822754"
       ]
      },
      {
       "output_type": "stream",
       "stream": "stdout",
       "text": [
        "\r",
        "Computed features for frame 962 of 1280 in 0.0798940658569"
       ]
      },
      {
       "output_type": "stream",
       "stream": "stdout",
       "text": [
        "\r",
        "Computed features for frame 963 of 1280 in 0.075101852417"
       ]
      },
      {
       "output_type": "stream",
       "stream": "stdout",
       "text": [
        "\r",
        "Computed features for frame 964 of 1280 in 0.076140165329"
       ]
      },
      {
       "output_type": "stream",
       "stream": "stdout",
       "text": [
        "\r",
        "Computed features for frame 965 of 1280 in 0.0744380950928"
       ]
      },
      {
       "output_type": "stream",
       "stream": "stdout",
       "text": [
        "\r",
        "Computed features for frame 966 of 1280 in 0.0752160549164"
       ]
      },
      {
       "output_type": "stream",
       "stream": "stdout",
       "text": [
        "\r",
        "Computed features for frame 967 of 1280 in 0.0752420425415"
       ]
      },
      {
       "output_type": "stream",
       "stream": "stdout",
       "text": [
        "\r",
        "Computed features for frame 968 of 1280 in 0.0745601654053"
       ]
      },
      {
       "output_type": "stream",
       "stream": "stdout",
       "text": [
        "\r",
        "Computed features for frame 969 of 1280 in 0.0734980106354"
       ]
      },
      {
       "output_type": "stream",
       "stream": "stdout",
       "text": [
        "\r",
        "Computed features for frame 970 of 1280 in 0.0742638111115"
       ]
      },
      {
       "output_type": "stream",
       "stream": "stdout",
       "text": [
        "\r",
        "Computed features for frame 971 of 1280 in 0.0742061138153"
       ]
      },
      {
       "output_type": "stream",
       "stream": "stdout",
       "text": [
        "\r",
        "Computed features for frame 972 of 1280 in 0.0765371322632"
       ]
      },
      {
       "output_type": "stream",
       "stream": "stdout",
       "text": [
        "\r",
        "Computed features for frame 973 of 1280 in 0.0742130279541"
       ]
      },
      {
       "output_type": "stream",
       "stream": "stdout",
       "text": [
        "\r",
        "Computed features for frame 974 of 1280 in 0.0750901699066"
       ]
      },
      {
       "output_type": "stream",
       "stream": "stdout",
       "text": [
        "\r",
        "Computed features for frame 975 of 1280 in 0.0769050121307"
       ]
      },
      {
       "output_type": "stream",
       "stream": "stdout",
       "text": [
        "\r",
        "Computed features for frame 976 of 1280 in 0.0735039710999"
       ]
      },
      {
       "output_type": "stream",
       "stream": "stdout",
       "text": [
        "\r",
        "Computed features for frame 977 of 1280 in 0.0760269165039"
       ]
      },
      {
       "output_type": "stream",
       "stream": "stdout",
       "text": [
        "\r",
        "Computed features for frame 978 of 1280 in 0.0751450061798"
       ]
      },
      {
       "output_type": "stream",
       "stream": "stdout",
       "text": [
        "\r",
        "Computed features for frame 979 of 1280 in 0.0748028755188"
       ]
      },
      {
       "output_type": "stream",
       "stream": "stdout",
       "text": [
        "\r",
        "Computed features for frame 980 of 1280 in 0.0740571022034"
       ]
      },
      {
       "output_type": "stream",
       "stream": "stdout",
       "text": [
        "\r",
        "Computed features for frame 981 of 1280 in 0.075119972229"
       ]
      },
      {
       "output_type": "stream",
       "stream": "stdout",
       "text": [
        "\r",
        "Computed features for frame 982 of 1280 in 0.07736992836"
       ]
      },
      {
       "output_type": "stream",
       "stream": "stdout",
       "text": [
        "\r",
        "Computed features for frame 983 of 1280 in 0.0738849639893"
       ]
      },
      {
       "output_type": "stream",
       "stream": "stdout",
       "text": [
        "\r",
        "Computed features for frame 984 of 1280 in 0.0742299556732"
       ]
      },
      {
       "output_type": "stream",
       "stream": "stdout",
       "text": [
        "\r",
        "Computed features for frame 985 of 1280 in 0.0740559101105"
       ]
      },
      {
       "output_type": "stream",
       "stream": "stdout",
       "text": [
        "\r",
        "Computed features for frame 986 of 1280 in 0.079094171524"
       ]
      },
      {
       "output_type": "stream",
       "stream": "stdout",
       "text": [
        "\r",
        "Computed features for frame 987 of 1280 in 0.0745530128479"
       ]
      },
      {
       "output_type": "stream",
       "stream": "stdout",
       "text": [
        "\r",
        "Computed features for frame 988 of 1280 in 0.0757989883423"
       ]
      },
      {
       "output_type": "stream",
       "stream": "stdout",
       "text": [
        "\r",
        "Computed features for frame 989 of 1280 in 0.0762159824371"
       ]
      },
      {
       "output_type": "stream",
       "stream": "stdout",
       "text": [
        "\r",
        "Computed features for frame 990 of 1280 in 0.076318025589"
       ]
      },
      {
       "output_type": "stream",
       "stream": "stdout",
       "text": [
        "\r",
        "Computed features for frame 991 of 1280 in 0.0746660232544"
       ]
      },
      {
       "output_type": "stream",
       "stream": "stdout",
       "text": [
        "\r",
        "Computed features for frame 992 of 1280 in 0.0747509002686"
       ]
      },
      {
       "output_type": "stream",
       "stream": "stdout",
       "text": [
        "\r",
        "Computed features for frame 993 of 1280 in 0.075049161911"
       ]
      },
      {
       "output_type": "stream",
       "stream": "stdout",
       "text": [
        "\r",
        "Computed features for frame 994 of 1280 in 0.0739951133728"
       ]
      },
      {
       "output_type": "stream",
       "stream": "stdout",
       "text": [
        "\r",
        "Computed features for frame 995 of 1280 in 0.0749189853668"
       ]
      },
      {
       "output_type": "stream",
       "stream": "stdout",
       "text": [
        "\r",
        "Computed features for frame 996 of 1280 in 0.0749590396881"
       ]
      },
      {
       "output_type": "stream",
       "stream": "stdout",
       "text": [
        "\r",
        "Computed features for frame 997 of 1280 in 0.0771279335022"
       ]
      },
      {
       "output_type": "stream",
       "stream": "stdout",
       "text": [
        "\r",
        "Computed features for frame 998 of 1280 in 0.075474023819"
       ]
      },
      {
       "output_type": "stream",
       "stream": "stdout",
       "text": [
        "\r",
        "Computed features for frame 999 of 1280 in 0.0746250152588"
       ]
      },
      {
       "output_type": "stream",
       "stream": "stdout",
       "text": [
        "\r",
        "Computed features for frame 1000 of 1280 in 0.074462890625"
       ]
      },
      {
       "output_type": "stream",
       "stream": "stdout",
       "text": [
        "\r",
        "Computed features for frame 1001 of 1280 in 0.0743761062622"
       ]
      },
      {
       "output_type": "stream",
       "stream": "stdout",
       "text": [
        "\r",
        "Computed features for frame 1002 of 1280 in 0.0753839015961"
       ]
      },
      {
       "output_type": "stream",
       "stream": "stdout",
       "text": [
        "\r",
        "Computed features for frame 1003 of 1280 in 0.0739059448242"
       ]
      },
      {
       "output_type": "stream",
       "stream": "stdout",
       "text": [
        "\r",
        "Computed features for frame 1004 of 1280 in 0.0741090774536"
       ]
      },
      {
       "output_type": "stream",
       "stream": "stdout",
       "text": [
        "\r",
        "Computed features for frame 1005 of 1280 in 0.0774757862091"
       ]
      },
      {
       "output_type": "stream",
       "stream": "stdout",
       "text": [
        "\r",
        "Computed features for frame 1006 of 1280 in 0.0742959976196"
       ]
      },
      {
       "output_type": "stream",
       "stream": "stdout",
       "text": [
        "\r",
        "Computed features for frame 1007 of 1280 in 0.0771310329437"
       ]
      },
      {
       "output_type": "stream",
       "stream": "stdout",
       "text": [
        "\r",
        "Computed features for frame 1008 of 1280 in 0.0764648914337"
       ]
      },
      {
       "output_type": "stream",
       "stream": "stdout",
       "text": [
        "\r",
        "Computed features for frame 1009 of 1280 in 0.076367855072"
       ]
      },
      {
       "output_type": "stream",
       "stream": "stdout",
       "text": [
        "\r",
        "Computed features for frame 1010 of 1280 in 0.0744819641113"
       ]
      },
      {
       "output_type": "stream",
       "stream": "stdout",
       "text": [
        "\r",
        "Computed features for frame 1011 of 1280 in 0.0768270492554"
       ]
      },
      {
       "output_type": "stream",
       "stream": "stdout",
       "text": [
        "\r",
        "Computed features for frame 1012 of 1280 in 0.0768799781799"
       ]
      },
      {
       "output_type": "stream",
       "stream": "stdout",
       "text": [
        "\r",
        "Computed features for frame 1013 of 1280 in 0.0760109424591"
       ]
      },
      {
       "output_type": "stream",
       "stream": "stdout",
       "text": [
        "\r",
        "Computed features for frame 1014 of 1280 in 0.073746919632"
       ]
      },
      {
       "output_type": "stream",
       "stream": "stdout",
       "text": [
        "\r",
        "Computed features for frame 1015 of 1280 in 0.0748238563538"
       ]
      },
      {
       "output_type": "stream",
       "stream": "stdout",
       "text": [
        "\r",
        "Computed features for frame 1016 of 1280 in 0.0742599964142"
       ]
      },
      {
       "output_type": "stream",
       "stream": "stdout",
       "text": [
        "\r",
        "Computed features for frame 1017 of 1280 in 0.0748679637909"
       ]
      },
      {
       "output_type": "stream",
       "stream": "stdout",
       "text": [
        "\r",
        "Computed features for frame 1018 of 1280 in 0.0741949081421"
       ]
      },
      {
       "output_type": "stream",
       "stream": "stdout",
       "text": [
        "\r",
        "Computed features for frame 1019 of 1280 in 0.0753061771393"
       ]
      },
      {
       "output_type": "stream",
       "stream": "stdout",
       "text": [
        "\r",
        "Computed features for frame 1020 of 1280 in 0.0771651268005"
       ]
      },
      {
       "output_type": "stream",
       "stream": "stdout",
       "text": [
        "\r",
        "Computed features for frame 1021 of 1280 in 0.0778660774231"
       ]
      },
      {
       "output_type": "stream",
       "stream": "stdout",
       "text": [
        "\r",
        "Computed features for frame 1022 of 1280 in 0.0752410888672"
       ]
      },
      {
       "output_type": "stream",
       "stream": "stdout",
       "text": [
        "\r",
        "Computed features for frame 1023 of 1280 in 0.0757820606232"
       ]
      },
      {
       "output_type": "stream",
       "stream": "stdout",
       "text": [
        "\r",
        "Computed features for frame 1024 of 1280 in 0.074648141861"
       ]
      },
      {
       "output_type": "stream",
       "stream": "stdout",
       "text": [
        "\r",
        "Computed features for frame 1025 of 1280 in 0.0756969451904"
       ]
      },
      {
       "output_type": "stream",
       "stream": "stdout",
       "text": [
        "\r",
        "Computed features for frame 1026 of 1280 in 0.0745089054108"
       ]
      },
      {
       "output_type": "stream",
       "stream": "stdout",
       "text": [
        "\r",
        "Computed features for frame 1027 of 1280 in 0.0749349594116"
       ]
      },
      {
       "output_type": "stream",
       "stream": "stdout",
       "text": [
        "\r",
        "Computed features for frame 1028 of 1280 in 0.0755071640015"
       ]
      },
      {
       "output_type": "stream",
       "stream": "stdout",
       "text": [
        "\r",
        "Computed features for frame 1029 of 1280 in 0.0751960277557"
       ]
      },
      {
       "output_type": "stream",
       "stream": "stdout",
       "text": [
        "\r",
        "Computed features for frame 1030 of 1280 in 0.0745940208435"
       ]
      },
      {
       "output_type": "stream",
       "stream": "stdout",
       "text": [
        "\r",
        "Computed features for frame 1031 of 1280 in 0.0762491226196"
       ]
      },
      {
       "output_type": "stream",
       "stream": "stdout",
       "text": [
        "\r",
        "Computed features for frame 1032 of 1280 in 0.0759661197662"
       ]
      },
      {
       "output_type": "stream",
       "stream": "stdout",
       "text": [
        "\r",
        "Computed features for frame 1033 of 1280 in 0.0754311084747"
       ]
      },
      {
       "output_type": "stream",
       "stream": "stdout",
       "text": [
        "\r",
        "Computed features for frame 1034 of 1280 in 0.0759890079498"
       ]
      },
      {
       "output_type": "stream",
       "stream": "stdout",
       "text": [
        "\r",
        "Computed features for frame 1035 of 1280 in 0.0772631168365"
       ]
      },
      {
       "output_type": "stream",
       "stream": "stdout",
       "text": [
        "\r",
        "Computed features for frame 1036 of 1280 in 0.0746641159058"
       ]
      },
      {
       "output_type": "stream",
       "stream": "stdout",
       "text": [
        "\r",
        "Computed features for frame 1037 of 1280 in 0.0746219158173"
       ]
      },
      {
       "output_type": "stream",
       "stream": "stdout",
       "text": [
        "\r",
        "Computed features for frame 1038 of 1280 in 0.0748980045319"
       ]
      },
      {
       "output_type": "stream",
       "stream": "stdout",
       "text": [
        "\r",
        "Computed features for frame 1039 of 1280 in 0.0764269828796"
       ]
      },
      {
       "output_type": "stream",
       "stream": "stdout",
       "text": [
        "\r",
        "Computed features for frame 1040 of 1280 in 0.0753960609436"
       ]
      },
      {
       "output_type": "stream",
       "stream": "stdout",
       "text": [
        "\r",
        "Computed features for frame 1041 of 1280 in 0.0758399963379"
       ]
      },
      {
       "output_type": "stream",
       "stream": "stdout",
       "text": [
        "\r",
        "Computed features for frame 1042 of 1280 in 0.0762588977814"
       ]
      },
      {
       "output_type": "stream",
       "stream": "stdout",
       "text": [
        "\r",
        "Computed features for frame 1043 of 1280 in 0.0756180286407"
       ]
      },
      {
       "output_type": "stream",
       "stream": "stdout",
       "text": [
        "\r",
        "Computed features for frame 1044 of 1280 in 0.0760059356689"
       ]
      },
      {
       "output_type": "stream",
       "stream": "stdout",
       "text": [
        "\r",
        "Computed features for frame 1045 of 1280 in 0.0748600959778"
       ]
      },
      {
       "output_type": "stream",
       "stream": "stdout",
       "text": [
        "\r",
        "Computed features for frame 1046 of 1280 in 0.0749850273132"
       ]
      },
      {
       "output_type": "stream",
       "stream": "stdout",
       "text": [
        "\r",
        "Computed features for frame 1047 of 1280 in 0.0755300521851"
       ]
      },
      {
       "output_type": "stream",
       "stream": "stdout",
       "text": [
        "\r",
        "Computed features for frame 1048 of 1280 in 0.0750548839569"
       ]
      },
      {
       "output_type": "stream",
       "stream": "stdout",
       "text": [
        "\r",
        "Computed features for frame 1049 of 1280 in 0.0750198364258"
       ]
      },
      {
       "output_type": "stream",
       "stream": "stdout",
       "text": [
        "\r",
        "Computed features for frame 1050 of 1280 in 0.0781319141388"
       ]
      },
      {
       "output_type": "stream",
       "stream": "stdout",
       "text": [
        "\r",
        "Computed features for frame 1051 of 1280 in 0.0775601863861"
       ]
      },
      {
       "output_type": "stream",
       "stream": "stdout",
       "text": [
        "\r",
        "Computed features for frame 1052 of 1280 in 0.0760459899902"
       ]
      },
      {
       "output_type": "stream",
       "stream": "stdout",
       "text": [
        "\r",
        "Computed features for frame 1053 of 1280 in 0.0754070281982"
       ]
      },
      {
       "output_type": "stream",
       "stream": "stdout",
       "text": [
        "\r",
        "Computed features for frame 1054 of 1280 in 0.0770061016083"
       ]
      },
      {
       "output_type": "stream",
       "stream": "stdout",
       "text": [
        "\r",
        "Computed features for frame 1055 of 1280 in 0.0759370326996"
       ]
      },
      {
       "output_type": "stream",
       "stream": "stdout",
       "text": [
        "\r",
        "Computed features for frame 1056 of 1280 in 0.0810551643372"
       ]
      },
      {
       "output_type": "stream",
       "stream": "stdout",
       "text": [
        "\r",
        "Computed features for frame 1057 of 1280 in 0.0807731151581"
       ]
      },
      {
       "output_type": "stream",
       "stream": "stdout",
       "text": [
        "\r",
        "Computed features for frame 1058 of 1280 in 0.0798819065094"
       ]
      },
      {
       "output_type": "stream",
       "stream": "stdout",
       "text": [
        "\r",
        "Computed features for frame 1059 of 1280 in 0.078202009201"
       ]
      },
      {
       "output_type": "stream",
       "stream": "stdout",
       "text": [
        "\r",
        "Computed features for frame 1060 of 1280 in 0.0805249214172"
       ]
      },
      {
       "output_type": "stream",
       "stream": "stdout",
       "text": [
        "\r",
        "Computed features for frame 1061 of 1280 in 0.0769779682159"
       ]
      },
      {
       "output_type": "stream",
       "stream": "stdout",
       "text": [
        "\r",
        "Computed features for frame 1062 of 1280 in 0.0827240943909"
       ]
      },
      {
       "output_type": "stream",
       "stream": "stdout",
       "text": [
        "\r",
        "Computed features for frame 1063 of 1280 in 0.0781638622284"
       ]
      },
      {
       "output_type": "stream",
       "stream": "stdout",
       "text": [
        "\r",
        "Computed features for frame 1064 of 1280 in 0.0755360126495"
       ]
      },
      {
       "output_type": "stream",
       "stream": "stdout",
       "text": [
        "\r",
        "Computed features for frame 1065 of 1280 in 0.0769510269165"
       ]
      },
      {
       "output_type": "stream",
       "stream": "stdout",
       "text": [
        "\r",
        "Computed features for frame 1066 of 1280 in 0.0743148326874"
       ]
      },
      {
       "output_type": "stream",
       "stream": "stdout",
       "text": [
        "\r",
        "Computed features for frame 1067 of 1280 in 0.0751531124115"
       ]
      },
      {
       "output_type": "stream",
       "stream": "stdout",
       "text": [
        "\r",
        "Computed features for frame 1068 of 1280 in 0.0745921134949"
       ]
      },
      {
       "output_type": "stream",
       "stream": "stdout",
       "text": [
        "\r",
        "Computed features for frame 1069 of 1280 in 0.0744400024414"
       ]
      },
      {
       "output_type": "stream",
       "stream": "stdout",
       "text": [
        "\r",
        "Computed features for frame 1070 of 1280 in 0.0739841461182"
       ]
      },
      {
       "output_type": "stream",
       "stream": "stdout",
       "text": [
        "\r",
        "Computed features for frame 1071 of 1280 in 0.073616027832"
       ]
      },
      {
       "output_type": "stream",
       "stream": "stdout",
       "text": [
        "\r",
        "Computed features for frame 1072 of 1280 in 0.0750911235809"
       ]
      },
      {
       "output_type": "stream",
       "stream": "stdout",
       "text": [
        "\r",
        "Computed features for frame 1073 of 1280 in 0.077036857605"
       ]
      },
      {
       "output_type": "stream",
       "stream": "stdout",
       "text": [
        "\r",
        "Computed features for frame 1074 of 1280 in 0.0741260051727"
       ]
      },
      {
       "output_type": "stream",
       "stream": "stdout",
       "text": [
        "\r",
        "Computed features for frame 1075 of 1280 in 0.0756068229675"
       ]
      },
      {
       "output_type": "stream",
       "stream": "stdout",
       "text": [
        "\r",
        "Computed features for frame 1076 of 1280 in 0.075856924057"
       ]
      },
      {
       "output_type": "stream",
       "stream": "stdout",
       "text": [
        "\r",
        "Computed features for frame 1077 of 1280 in 0.0748491287231"
       ]
      },
      {
       "output_type": "stream",
       "stream": "stdout",
       "text": [
        "\r",
        "Computed features for frame 1078 of 1280 in 0.0750250816345"
       ]
      },
      {
       "output_type": "stream",
       "stream": "stdout",
       "text": [
        "\r",
        "Computed features for frame 1079 of 1280 in 0.0785310268402"
       ]
      },
      {
       "output_type": "stream",
       "stream": "stdout",
       "text": [
        "\r",
        "Computed features for frame 1080 of 1280 in 0.0761570930481"
       ]
      },
      {
       "output_type": "stream",
       "stream": "stdout",
       "text": [
        "\r",
        "Computed features for frame 1081 of 1280 in 0.0741350650787"
       ]
      },
      {
       "output_type": "stream",
       "stream": "stdout",
       "text": [
        "\r",
        "Computed features for frame 1082 of 1280 in 0.0746569633484"
       ]
      },
      {
       "output_type": "stream",
       "stream": "stdout",
       "text": [
        "\r",
        "Computed features for frame 1083 of 1280 in 0.0745949745178"
       ]
      },
      {
       "output_type": "stream",
       "stream": "stdout",
       "text": [
        "\r",
        "Computed features for frame 1084 of 1280 in 0.0760941505432"
       ]
      },
      {
       "output_type": "stream",
       "stream": "stdout",
       "text": [
        "\r",
        "Computed features for frame 1085 of 1280 in 0.0750291347504"
       ]
      },
      {
       "output_type": "stream",
       "stream": "stdout",
       "text": [
        "\r",
        "Computed features for frame 1086 of 1280 in 0.075896024704"
       ]
      },
      {
       "output_type": "stream",
       "stream": "stdout",
       "text": [
        "\r",
        "Computed features for frame 1087 of 1280 in 0.0759329795837"
       ]
      },
      {
       "output_type": "stream",
       "stream": "stdout",
       "text": [
        "\r",
        "Computed features for frame 1088 of 1280 in 0.0756449699402"
       ]
      },
      {
       "output_type": "stream",
       "stream": "stdout",
       "text": [
        "\r",
        "Computed features for frame 1089 of 1280 in 0.0756449699402"
       ]
      },
      {
       "output_type": "stream",
       "stream": "stdout",
       "text": [
        "\r",
        "Computed features for frame 1090 of 1280 in 0.0758290290833"
       ]
      },
      {
       "output_type": "stream",
       "stream": "stdout",
       "text": [
        "\r",
        "Computed features for frame 1091 of 1280 in 0.0748610496521"
       ]
      },
      {
       "output_type": "stream",
       "stream": "stdout",
       "text": [
        "\r",
        "Computed features for frame 1092 of 1280 in 0.0751211643219"
       ]
      },
      {
       "output_type": "stream",
       "stream": "stdout",
       "text": [
        "\r",
        "Computed features for frame 1093 of 1280 in 0.0758600234985"
       ]
      },
      {
       "output_type": "stream",
       "stream": "stdout",
       "text": [
        "\r",
        "Computed features for frame 1094 of 1280 in 0.0742380619049"
       ]
      },
      {
       "output_type": "stream",
       "stream": "stdout",
       "text": [
        "\r",
        "Computed features for frame 1095 of 1280 in 0.0785100460052"
       ]
      },
      {
       "output_type": "stream",
       "stream": "stdout",
       "text": [
        "\r",
        "Computed features for frame 1096 of 1280 in 0.0751881599426"
       ]
      },
      {
       "output_type": "stream",
       "stream": "stdout",
       "text": [
        "\r",
        "Computed features for frame 1097 of 1280 in 0.0740451812744"
       ]
      },
      {
       "output_type": "stream",
       "stream": "stdout",
       "text": [
        "\r",
        "Computed features for frame 1098 of 1280 in 0.0754871368408"
       ]
      },
      {
       "output_type": "stream",
       "stream": "stdout",
       "text": [
        "\r",
        "Computed features for frame 1099 of 1280 in 0.0741879940033"
       ]
      },
      {
       "output_type": "stream",
       "stream": "stdout",
       "text": [
        "\r",
        "Computed features for frame 1100 of 1280 in 0.0745260715485"
       ]
      },
      {
       "output_type": "stream",
       "stream": "stdout",
       "text": [
        "\r",
        "Computed features for frame 1101 of 1280 in 0.0750679969788"
       ]
      },
      {
       "output_type": "stream",
       "stream": "stdout",
       "text": [
        "\r",
        "Computed features for frame 1102 of 1280 in 0.0753378868103"
       ]
      },
      {
       "output_type": "stream",
       "stream": "stdout",
       "text": [
        "\r",
        "Computed features for frame 1103 of 1280 in 0.0760128498077"
       ]
      },
      {
       "output_type": "stream",
       "stream": "stdout",
       "text": [
        "\r",
        "Computed features for frame 1104 of 1280 in 0.075336933136"
       ]
      },
      {
       "output_type": "stream",
       "stream": "stdout",
       "text": [
        "\r",
        "Computed features for frame 1105 of 1280 in 0.0777390003204"
       ]
      },
      {
       "output_type": "stream",
       "stream": "stdout",
       "text": [
        "\r",
        "Computed features for frame 1106 of 1280 in 0.0761790275574"
       ]
      },
      {
       "output_type": "stream",
       "stream": "stdout",
       "text": [
        "\r",
        "Computed features for frame 1107 of 1280 in 0.0756659507751"
       ]
      },
      {
       "output_type": "stream",
       "stream": "stdout",
       "text": [
        "\r",
        "Computed features for frame 1108 of 1280 in 0.0750699043274"
       ]
      },
      {
       "output_type": "stream",
       "stream": "stdout",
       "text": [
        "\r",
        "Computed features for frame 1109 of 1280 in 0.0771598815918"
       ]
      },
      {
       "output_type": "stream",
       "stream": "stdout",
       "text": [
        "\r",
        "Computed features for frame 1110 of 1280 in 0.0770139694214"
       ]
      },
      {
       "output_type": "stream",
       "stream": "stdout",
       "text": [
        "\r",
        "Computed features for frame 1111 of 1280 in 0.0741190910339"
       ]
      },
      {
       "output_type": "stream",
       "stream": "stdout",
       "text": [
        "\r",
        "Computed features for frame 1112 of 1280 in 0.075098991394"
       ]
      },
      {
       "output_type": "stream",
       "stream": "stdout",
       "text": [
        "\r",
        "Computed features for frame 1113 of 1280 in 0.076210975647"
       ]
      },
      {
       "output_type": "stream",
       "stream": "stdout",
       "text": [
        "\r",
        "Computed features for frame 1114 of 1280 in 0.0755989551544"
       ]
      },
      {
       "output_type": "stream",
       "stream": "stdout",
       "text": [
        "\r",
        "Computed features for frame 1115 of 1280 in 0.0744688510895"
       ]
      },
      {
       "output_type": "stream",
       "stream": "stdout",
       "text": [
        "\r",
        "Computed features for frame 1116 of 1280 in 0.0752658843994"
       ]
      },
      {
       "output_type": "stream",
       "stream": "stdout",
       "text": [
        "\r",
        "Computed features for frame 1117 of 1280 in 0.0779900550842"
       ]
      },
      {
       "output_type": "stream",
       "stream": "stdout",
       "text": [
        "\r",
        "Computed features for frame 1118 of 1280 in 0.0759489536285"
       ]
      },
      {
       "output_type": "stream",
       "stream": "stdout",
       "text": [
        "\r",
        "Computed features for frame 1119 of 1280 in 0.0749981403351"
       ]
      },
      {
       "output_type": "stream",
       "stream": "stdout",
       "text": [
        "\r",
        "Computed features for frame 1120 of 1280 in 0.0762591362"
       ]
      },
      {
       "output_type": "stream",
       "stream": "stdout",
       "text": [
        "\r",
        "Computed features for frame 1121 of 1280 in 0.0758528709412"
       ]
      },
      {
       "output_type": "stream",
       "stream": "stdout",
       "text": [
        "\r",
        "Computed features for frame 1122 of 1280 in 0.0750830173492"
       ]
      },
      {
       "output_type": "stream",
       "stream": "stdout",
       "text": [
        "\r",
        "Computed features for frame 1123 of 1280 in 0.0754179954529"
       ]
      },
      {
       "output_type": "stream",
       "stream": "stdout",
       "text": [
        "\r",
        "Computed features for frame 1124 of 1280 in 0.0747148990631"
       ]
      },
      {
       "output_type": "stream",
       "stream": "stdout",
       "text": [
        "\r",
        "Computed features for frame 1125 of 1280 in 0.0766868591309"
       ]
      },
      {
       "output_type": "stream",
       "stream": "stdout",
       "text": [
        "\r",
        "Computed features for frame 1126 of 1280 in 0.0753889083862"
       ]
      },
      {
       "output_type": "stream",
       "stream": "stdout",
       "text": [
        "\r",
        "Computed features for frame 1127 of 1280 in 0.0743350982666"
       ]
      },
      {
       "output_type": "stream",
       "stream": "stdout",
       "text": [
        "\r",
        "Computed features for frame 1128 of 1280 in 0.0746569633484"
       ]
      },
      {
       "output_type": "stream",
       "stream": "stdout",
       "text": [
        "\r",
        "Computed features for frame 1129 of 1280 in 0.0752840042114"
       ]
      },
      {
       "output_type": "stream",
       "stream": "stdout",
       "text": [
        "\r",
        "Computed features for frame 1130 of 1280 in 0.075325012207"
       ]
      },
      {
       "output_type": "stream",
       "stream": "stdout",
       "text": [
        "\r",
        "Computed features for frame 1131 of 1280 in 0.0748698711395"
       ]
      },
      {
       "output_type": "stream",
       "stream": "stdout",
       "text": [
        "\r",
        "Computed features for frame 1132 of 1280 in 0.0758199691772"
       ]
      },
      {
       "output_type": "stream",
       "stream": "stdout",
       "text": [
        "\r",
        "Computed features for frame 1133 of 1280 in 0.0766141414642"
       ]
      },
      {
       "output_type": "stream",
       "stream": "stdout",
       "text": [
        "\r",
        "Computed features for frame 1134 of 1280 in 0.0761299133301"
       ]
      },
      {
       "output_type": "stream",
       "stream": "stdout",
       "text": [
        "\r",
        "Computed features for frame 1135 of 1280 in 0.0748128890991"
       ]
      },
      {
       "output_type": "stream",
       "stream": "stdout",
       "text": [
        "\r",
        "Computed features for frame 1136 of 1280 in 0.0763330459595"
       ]
      },
      {
       "output_type": "stream",
       "stream": "stdout",
       "text": [
        "\r",
        "Computed features for frame 1137 of 1280 in 0.0754759311676"
       ]
      },
      {
       "output_type": "stream",
       "stream": "stdout",
       "text": [
        "\r",
        "Computed features for frame 1138 of 1280 in 0.0739738941193"
       ]
      },
      {
       "output_type": "stream",
       "stream": "stdout",
       "text": [
        "\r",
        "Computed features for frame 1139 of 1280 in 0.0774028301239"
       ]
      },
      {
       "output_type": "stream",
       "stream": "stdout",
       "text": [
        "\r",
        "Computed features for frame 1140 of 1280 in 0.0768110752106"
       ]
      },
      {
       "output_type": "stream",
       "stream": "stdout",
       "text": [
        "\r",
        "Computed features for frame 1141 of 1280 in 0.074453830719"
       ]
      },
      {
       "output_type": "stream",
       "stream": "stdout",
       "text": [
        "\r",
        "Computed features for frame 1142 of 1280 in 0.0755760669708"
       ]
      },
      {
       "output_type": "stream",
       "stream": "stdout",
       "text": [
        "\r",
        "Computed features for frame 1143 of 1280 in 0.0753259658813"
       ]
      },
      {
       "output_type": "stream",
       "stream": "stdout",
       "text": [
        "\r",
        "Computed features for frame 1144 of 1280 in 0.0744090080261"
       ]
      },
      {
       "output_type": "stream",
       "stream": "stdout",
       "text": [
        "\r",
        "Computed features for frame 1145 of 1280 in 0.0771420001984"
       ]
      },
      {
       "output_type": "stream",
       "stream": "stdout",
       "text": [
        "\r",
        "Computed features for frame 1146 of 1280 in 0.0768668651581"
       ]
      },
      {
       "output_type": "stream",
       "stream": "stdout",
       "text": [
        "\r",
        "Computed features for frame 1147 of 1280 in 0.0758678913116"
       ]
      },
      {
       "output_type": "stream",
       "stream": "stdout",
       "text": [
        "\r",
        "Computed features for frame 1148 of 1280 in 0.0765271186829"
       ]
      },
      {
       "output_type": "stream",
       "stream": "stdout",
       "text": [
        "\r",
        "Computed features for frame 1149 of 1280 in 0.0779678821564"
       ]
      },
      {
       "output_type": "stream",
       "stream": "stdout",
       "text": [
        "\r",
        "Computed features for frame 1150 of 1280 in 0.0763289928436"
       ]
      },
      {
       "output_type": "stream",
       "stream": "stdout",
       "text": [
        "\r",
        "Computed features for frame 1151 of 1280 in 0.0796399116516"
       ]
      },
      {
       "output_type": "stream",
       "stream": "stdout",
       "text": [
        "\r",
        "Computed features for frame 1152 of 1280 in 0.0759978294373"
       ]
      },
      {
       "output_type": "stream",
       "stream": "stdout",
       "text": [
        "\r",
        "Computed features for frame 1153 of 1280 in 0.0753998756409"
       ]
      },
      {
       "output_type": "stream",
       "stream": "stdout",
       "text": [
        "\r",
        "Computed features for frame 1154 of 1280 in 0.0762841701508"
       ]
      },
      {
       "output_type": "stream",
       "stream": "stdout",
       "text": [
        "\r",
        "Computed features for frame 1155 of 1280 in 0.0770809650421"
       ]
      },
      {
       "output_type": "stream",
       "stream": "stdout",
       "text": [
        "\r",
        "Computed features for frame 1156 of 1280 in 0.0759317874908"
       ]
      },
      {
       "output_type": "stream",
       "stream": "stdout",
       "text": [
        "\r",
        "Computed features for frame 1157 of 1280 in 0.0750060081482"
       ]
      },
      {
       "output_type": "stream",
       "stream": "stdout",
       "text": [
        "\r",
        "Computed features for frame 1158 of 1280 in 0.0755808353424"
       ]
      },
      {
       "output_type": "stream",
       "stream": "stdout",
       "text": [
        "\r",
        "Computed features for frame 1159 of 1280 in 0.0771338939667"
       ]
      },
      {
       "output_type": "stream",
       "stream": "stdout",
       "text": [
        "\r",
        "Computed features for frame 1160 of 1280 in 0.0784289836884"
       ]
      },
      {
       "output_type": "stream",
       "stream": "stdout",
       "text": [
        "\r",
        "Computed features for frame 1161 of 1280 in 0.0763258934021"
       ]
      },
      {
       "output_type": "stream",
       "stream": "stdout",
       "text": [
        "\r",
        "Computed features for frame 1162 of 1280 in 0.0782239437103"
       ]
      },
      {
       "output_type": "stream",
       "stream": "stdout",
       "text": [
        "\r",
        "Computed features for frame 1163 of 1280 in 0.0765628814697"
       ]
      },
      {
       "output_type": "stream",
       "stream": "stdout",
       "text": [
        "\r",
        "Computed features for frame 1164 of 1280 in 0.0760250091553"
       ]
      },
      {
       "output_type": "stream",
       "stream": "stdout",
       "text": [
        "\r",
        "Computed features for frame 1165 of 1280 in 0.0766890048981"
       ]
      },
      {
       "output_type": "stream",
       "stream": "stdout",
       "text": [
        "\r",
        "Computed features for frame 1166 of 1280 in 0.0757250785828"
       ]
      },
      {
       "output_type": "stream",
       "stream": "stdout",
       "text": [
        "\r",
        "Computed features for frame 1167 of 1280 in 0.0756261348724"
       ]
      },
      {
       "output_type": "stream",
       "stream": "stdout",
       "text": [
        "\r",
        "Computed features for frame 1168 of 1280 in 0.0747618675232"
       ]
      },
      {
       "output_type": "stream",
       "stream": "stdout",
       "text": [
        "\r",
        "Computed features for frame 1169 of 1280 in 0.0780940055847"
       ]
      },
      {
       "output_type": "stream",
       "stream": "stdout",
       "text": [
        "\r",
        "Computed features for frame 1170 of 1280 in 0.078115940094"
       ]
      },
      {
       "output_type": "stream",
       "stream": "stdout",
       "text": [
        "\r",
        "Computed features for frame 1171 of 1280 in 0.0752620697021"
       ]
      },
      {
       "output_type": "stream",
       "stream": "stdout",
       "text": [
        "\r",
        "Computed features for frame 1172 of 1280 in 0.0757901668549"
       ]
      },
      {
       "output_type": "stream",
       "stream": "stdout",
       "text": [
        "\r",
        "Computed features for frame 1173 of 1280 in 0.0756158828735"
       ]
      },
      {
       "output_type": "stream",
       "stream": "stdout",
       "text": [
        "\r",
        "Computed features for frame 1174 of 1280 in 0.0765490531921"
       ]
      },
      {
       "output_type": "stream",
       "stream": "stdout",
       "text": [
        "\r",
        "Computed features for frame 1175 of 1280 in 0.0762431621552"
       ]
      },
      {
       "output_type": "stream",
       "stream": "stdout",
       "text": [
        "\r",
        "Computed features for frame 1176 of 1280 in 0.0763778686523"
       ]
      },
      {
       "output_type": "stream",
       "stream": "stdout",
       "text": [
        "\r",
        "Computed features for frame 1177 of 1280 in 0.0774130821228"
       ]
      },
      {
       "output_type": "stream",
       "stream": "stdout",
       "text": [
        "\r",
        "Computed features for frame 1178 of 1280 in 0.0788488388062"
       ]
      },
      {
       "output_type": "stream",
       "stream": "stdout",
       "text": [
        "\r",
        "Computed features for frame 1179 of 1280 in 0.0776391029358"
       ]
      },
      {
       "output_type": "stream",
       "stream": "stdout",
       "text": [
        "\r",
        "Computed features for frame 1180 of 1280 in 0.0747621059418"
       ]
      },
      {
       "output_type": "stream",
       "stream": "stdout",
       "text": [
        "\r",
        "Computed features for frame 1181 of 1280 in 0.075560092926"
       ]
      },
      {
       "output_type": "stream",
       "stream": "stdout",
       "text": [
        "\r",
        "Computed features for frame 1182 of 1280 in 0.0748031139374"
       ]
      },
      {
       "output_type": "stream",
       "stream": "stdout",
       "text": [
        "\r",
        "Computed features for frame 1183 of 1280 in 0.0749609470367"
       ]
      },
      {
       "output_type": "stream",
       "stream": "stdout",
       "text": [
        "\r",
        "Computed features for frame 1184 of 1280 in 0.0756199359894"
       ]
      },
      {
       "output_type": "stream",
       "stream": "stdout",
       "text": [
        "\r",
        "Computed features for frame 1185 of 1280 in 0.0792088508606"
       ]
      },
      {
       "output_type": "stream",
       "stream": "stdout",
       "text": [
        "\r",
        "Computed features for frame 1186 of 1280 in 0.0737900733948"
       ]
      },
      {
       "output_type": "stream",
       "stream": "stdout",
       "text": [
        "\r",
        "Computed features for frame 1187 of 1280 in 0.0747570991516"
       ]
      },
      {
       "output_type": "stream",
       "stream": "stdout",
       "text": [
        "\r",
        "Computed features for frame 1188 of 1280 in 0.0751769542694"
       ]
      },
      {
       "output_type": "stream",
       "stream": "stdout",
       "text": [
        "\r",
        "Computed features for frame 1189 of 1280 in 0.0748670101166"
       ]
      },
      {
       "output_type": "stream",
       "stream": "stdout",
       "text": [
        "\r",
        "Computed features for frame 1190 of 1280 in 0.0803298950195"
       ]
      },
      {
       "output_type": "stream",
       "stream": "stdout",
       "text": [
        "\r",
        "Computed features for frame 1191 of 1280 in 0.0792820453644"
       ]
      },
      {
       "output_type": "stream",
       "stream": "stdout",
       "text": [
        "\r",
        "Computed features for frame 1192 of 1280 in 0.0792999267578"
       ]
      },
      {
       "output_type": "stream",
       "stream": "stdout",
       "text": [
        "\r",
        "Computed features for frame 1193 of 1280 in 0.0806138515472"
       ]
      },
      {
       "output_type": "stream",
       "stream": "stdout",
       "text": [
        "\r",
        "Computed features for frame 1194 of 1280 in 0.077868938446"
       ]
      },
      {
       "output_type": "stream",
       "stream": "stdout",
       "text": [
        "\r",
        "Computed features for frame 1195 of 1280 in 0.0828828811646"
       ]
      },
      {
       "output_type": "stream",
       "stream": "stdout",
       "text": [
        "\r",
        "Computed features for frame 1196 of 1280 in 0.0793499946594"
       ]
      },
      {
       "output_type": "stream",
       "stream": "stdout",
       "text": [
        "\r",
        "Computed features for frame 1197 of 1280 in 0.0792939662933"
       ]
      },
      {
       "output_type": "stream",
       "stream": "stdout",
       "text": [
        "\r",
        "Computed features for frame 1198 of 1280 in 0.0798740386963"
       ]
      },
      {
       "output_type": "stream",
       "stream": "stdout",
       "text": [
        "\r",
        "Computed features for frame 1199 of 1280 in 0.0827438831329"
       ]
      },
      {
       "output_type": "stream",
       "stream": "stdout",
       "text": [
        "\r",
        "Computed features for frame 1200 of 1280 in 0.0816910266876"
       ]
      },
      {
       "output_type": "stream",
       "stream": "stdout",
       "text": [
        "\r",
        "Computed features for frame 1201 of 1280 in 0.0848178863525"
       ]
      },
      {
       "output_type": "stream",
       "stream": "stdout",
       "text": [
        "\r",
        "Computed features for frame 1202 of 1280 in 0.0774490833282"
       ]
      },
      {
       "output_type": "stream",
       "stream": "stdout",
       "text": [
        "\r",
        "Computed features for frame 1203 of 1280 in 0.0748841762543"
       ]
      },
      {
       "output_type": "stream",
       "stream": "stdout",
       "text": [
        "\r",
        "Computed features for frame 1204 of 1280 in 0.0745160579681"
       ]
      },
      {
       "output_type": "stream",
       "stream": "stdout",
       "text": [
        "\r",
        "Computed features for frame 1205 of 1280 in 0.0764889717102"
       ]
      },
      {
       "output_type": "stream",
       "stream": "stdout",
       "text": [
        "\r",
        "Computed features for frame 1206 of 1280 in 0.0751149654388"
       ]
      },
      {
       "output_type": "stream",
       "stream": "stdout",
       "text": [
        "\r",
        "Computed features for frame 1207 of 1280 in 0.0752220153809"
       ]
      },
      {
       "output_type": "stream",
       "stream": "stdout",
       "text": [
        "\r",
        "Computed features for frame 1208 of 1280 in 0.0747129917145"
       ]
      },
      {
       "output_type": "stream",
       "stream": "stdout",
       "text": [
        "\r",
        "Computed features for frame 1209 of 1280 in 0.0758619308472"
       ]
      },
      {
       "output_type": "stream",
       "stream": "stdout",
       "text": [
        "\r",
        "Computed features for frame 1210 of 1280 in 0.075229883194"
       ]
      },
      {
       "output_type": "stream",
       "stream": "stdout",
       "text": [
        "\r",
        "Computed features for frame 1211 of 1280 in 0.0760788917542"
       ]
      },
      {
       "output_type": "stream",
       "stream": "stdout",
       "text": [
        "\r",
        "Computed features for frame 1212 of 1280 in 0.0745918750763"
       ]
      },
      {
       "output_type": "stream",
       "stream": "stdout",
       "text": [
        "\r",
        "Computed features for frame 1213 of 1280 in 0.0745170116425"
       ]
      },
      {
       "output_type": "stream",
       "stream": "stdout",
       "text": [
        "\r",
        "Computed features for frame 1214 of 1280 in 0.0749800205231"
       ]
      },
      {
       "output_type": "stream",
       "stream": "stdout",
       "text": [
        "\r",
        "Computed features for frame 1215 of 1280 in 0.0783131122589"
       ]
      },
      {
       "output_type": "stream",
       "stream": "stdout",
       "text": [
        "\r",
        "Computed features for frame 1216 of 1280 in 0.0755500793457"
       ]
      },
      {
       "output_type": "stream",
       "stream": "stdout",
       "text": [
        "\r",
        "Computed features for frame 1217 of 1280 in 0.0751719474792"
       ]
      },
      {
       "output_type": "stream",
       "stream": "stdout",
       "text": [
        "\r",
        "Computed features for frame 1218 of 1280 in 0.0762219429016"
       ]
      },
      {
       "output_type": "stream",
       "stream": "stdout",
       "text": [
        "\r",
        "Computed features for frame 1219 of 1280 in 0.0761919021606"
       ]
      },
      {
       "output_type": "stream",
       "stream": "stdout",
       "text": [
        "\r",
        "Computed features for frame 1220 of 1280 in 0.0753509998322"
       ]
      },
      {
       "output_type": "stream",
       "stream": "stdout",
       "text": [
        "\r",
        "Computed features for frame 1221 of 1280 in 0.0749559402466"
       ]
      },
      {
       "output_type": "stream",
       "stream": "stdout",
       "text": [
        "\r",
        "Computed features for frame 1222 of 1280 in 0.0762701034546"
       ]
      },
      {
       "output_type": "stream",
       "stream": "stdout",
       "text": [
        "\r",
        "Computed features for frame 1223 of 1280 in 0.0771918296814"
       ]
      },
      {
       "output_type": "stream",
       "stream": "stdout",
       "text": [
        "\r",
        "Computed features for frame 1224 of 1280 in 0.0760951042175"
       ]
      },
      {
       "output_type": "stream",
       "stream": "stdout",
       "text": [
        "\r",
        "Computed features for frame 1225 of 1280 in 0.0751221179962"
       ]
      },
      {
       "output_type": "stream",
       "stream": "stdout",
       "text": [
        "\r",
        "Computed features for frame 1226 of 1280 in 0.0752170085907"
       ]
      },
      {
       "output_type": "stream",
       "stream": "stdout",
       "text": [
        "\r",
        "Computed features for frame 1227 of 1280 in 0.0747058391571"
       ]
      },
      {
       "output_type": "stream",
       "stream": "stdout",
       "text": [
        "\r",
        "Computed features for frame 1228 of 1280 in 0.0775141716003"
       ]
      },
      {
       "output_type": "stream",
       "stream": "stdout",
       "text": [
        "\r",
        "Computed features for frame 1229 of 1280 in 0.0747201442719"
       ]
      },
      {
       "output_type": "stream",
       "stream": "stdout",
       "text": [
        "\r",
        "Computed features for frame 1230 of 1280 in 0.0764820575714"
       ]
      },
      {
       "output_type": "stream",
       "stream": "stdout",
       "text": [
        "\r",
        "Computed features for frame 1231 of 1280 in 0.0738060474396"
       ]
      },
      {
       "output_type": "stream",
       "stream": "stdout",
       "text": [
        "\r",
        "Computed features for frame 1232 of 1280 in 0.0738260746002"
       ]
      },
      {
       "output_type": "stream",
       "stream": "stdout",
       "text": [
        "\r",
        "Computed features for frame 1233 of 1280 in 0.0730268955231"
       ]
      },
      {
       "output_type": "stream",
       "stream": "stdout",
       "text": [
        "\r",
        "Computed features for frame 1234 of 1280 in 0.0754950046539"
       ]
      },
      {
       "output_type": "stream",
       "stream": "stdout",
       "text": [
        "\r",
        "Computed features for frame 1235 of 1280 in 0.0745811462402"
       ]
      },
      {
       "output_type": "stream",
       "stream": "stdout",
       "text": [
        "\r",
        "Computed features for frame 1236 of 1280 in 0.0742900371552"
       ]
      },
      {
       "output_type": "stream",
       "stream": "stdout",
       "text": [
        "\r",
        "Computed features for frame 1237 of 1280 in 0.0757670402527"
       ]
      },
      {
       "output_type": "stream",
       "stream": "stdout",
       "text": [
        "\r",
        "Computed features for frame 1238 of 1280 in 0.0747900009155"
       ]
      },
      {
       "output_type": "stream",
       "stream": "stdout",
       "text": [
        "\r",
        "Computed features for frame 1239 of 1280 in 0.0750048160553"
       ]
      },
      {
       "output_type": "stream",
       "stream": "stdout",
       "text": [
        "\r",
        "Computed features for frame 1240 of 1280 in 0.0800859928131"
       ]
      },
      {
       "output_type": "stream",
       "stream": "stdout",
       "text": [
        "\r",
        "Computed features for frame 1241 of 1280 in 0.0762729644775"
       ]
      },
      {
       "output_type": "stream",
       "stream": "stdout",
       "text": [
        "\r",
        "Computed features for frame 1242 of 1280 in 0.0744550228119"
       ]
      },
      {
       "output_type": "stream",
       "stream": "stdout",
       "text": [
        "\r",
        "Computed features for frame 1243 of 1280 in 0.0751779079437"
       ]
      },
      {
       "output_type": "stream",
       "stream": "stdout",
       "text": [
        "\r",
        "Computed features for frame 1244 of 1280 in 0.074481010437"
       ]
      },
      {
       "output_type": "stream",
       "stream": "stdout",
       "text": [
        "\r",
        "Computed features for frame 1245 of 1280 in 0.0755178928375"
       ]
      },
      {
       "output_type": "stream",
       "stream": "stdout",
       "text": [
        "\r",
        "Computed features for frame 1246 of 1280 in 0.0767090320587"
       ]
      },
      {
       "output_type": "stream",
       "stream": "stdout",
       "text": [
        "\r",
        "Computed features for frame 1247 of 1280 in 0.0752799510956"
       ]
      },
      {
       "output_type": "stream",
       "stream": "stdout",
       "text": [
        "\r",
        "Computed features for frame 1248 of 1280 in 0.0770950317383"
       ]
      },
      {
       "output_type": "stream",
       "stream": "stdout",
       "text": [
        "\r",
        "Computed features for frame 1249 of 1280 in 0.0743601322174"
       ]
      },
      {
       "output_type": "stream",
       "stream": "stdout",
       "text": [
        "\r",
        "Computed features for frame 1250 of 1280 in 0.0754289627075"
       ]
      },
      {
       "output_type": "stream",
       "stream": "stdout",
       "text": [
        "\r",
        "Computed features for frame 1251 of 1280 in 0.0748209953308"
       ]
      },
      {
       "output_type": "stream",
       "stream": "stdout",
       "text": [
        "\r",
        "Computed features for frame 1252 of 1280 in 0.0758318901062"
       ]
      },
      {
       "output_type": "stream",
       "stream": "stdout",
       "text": [
        "\r",
        "Computed features for frame 1253 of 1280 in 0.0750839710236"
       ]
      },
      {
       "output_type": "stream",
       "stream": "stdout",
       "text": [
        "\r",
        "Computed features for frame 1254 of 1280 in 0.0752339363098"
       ]
      },
      {
       "output_type": "stream",
       "stream": "stdout",
       "text": [
        "\r",
        "Computed features for frame 1255 of 1280 in 0.0736360549927"
       ]
      },
      {
       "output_type": "stream",
       "stream": "stdout",
       "text": [
        "\r",
        "Computed features for frame 1256 of 1280 in 0.0739569664001"
       ]
      },
      {
       "output_type": "stream",
       "stream": "stdout",
       "text": [
        "\r",
        "Computed features for frame 1257 of 1280 in 0.0749518871307"
       ]
      },
      {
       "output_type": "stream",
       "stream": "stdout",
       "text": [
        "\r",
        "Computed features for frame 1258 of 1280 in 0.0744159221649"
       ]
      },
      {
       "output_type": "stream",
       "stream": "stdout",
       "text": [
        "\r",
        "Computed features for frame 1259 of 1280 in 0.0753719806671"
       ]
      },
      {
       "output_type": "stream",
       "stream": "stdout",
       "text": [
        "\r",
        "Computed features for frame 1260 of 1280 in 0.0766050815582"
       ]
      },
      {
       "output_type": "stream",
       "stream": "stdout",
       "text": [
        "\r",
        "Computed features for frame 1261 of 1280 in 0.0743811130524"
       ]
      },
      {
       "output_type": "stream",
       "stream": "stdout",
       "text": [
        "\r",
        "Computed features for frame 1262 of 1280 in 0.0758130550385"
       ]
      },
      {
       "output_type": "stream",
       "stream": "stdout",
       "text": [
        "\r",
        "Computed features for frame 1263 of 1280 in 0.073117017746"
       ]
      },
      {
       "output_type": "stream",
       "stream": "stdout",
       "text": [
        "\r",
        "Computed features for frame 1264 of 1280 in 0.074844121933"
       ]
      },
      {
       "output_type": "stream",
       "stream": "stdout",
       "text": [
        "\r",
        "Computed features for frame 1265 of 1280 in 0.0742428302765"
       ]
      },
      {
       "output_type": "stream",
       "stream": "stdout",
       "text": [
        "\r",
        "Computed features for frame 1266 of 1280 in 0.0742039680481"
       ]
      },
      {
       "output_type": "stream",
       "stream": "stdout",
       "text": [
        "\r",
        "Computed features for frame 1267 of 1280 in 0.0731990337372"
       ]
      },
      {
       "output_type": "stream",
       "stream": "stdout",
       "text": [
        "\r",
        "Computed features for frame 1268 of 1280 in 0.075767993927"
       ]
      },
      {
       "output_type": "stream",
       "stream": "stdout",
       "text": [
        "\r",
        "Computed features for frame 1269 of 1280 in 0.0751299858093"
       ]
      },
      {
       "output_type": "stream",
       "stream": "stdout",
       "text": [
        "\r",
        "Computed features for frame 1270 of 1280 in 0.0742511749268"
       ]
      },
      {
       "output_type": "stream",
       "stream": "stdout",
       "text": [
        "\r",
        "Computed features for frame 1271 of 1280 in 0.0739760398865"
       ]
      },
      {
       "output_type": "stream",
       "stream": "stdout",
       "text": [
        "\r",
        "Computed features for frame 1272 of 1280 in 0.076210975647"
       ]
      },
      {
       "output_type": "stream",
       "stream": "stdout",
       "text": [
        "\r",
        "Computed features for frame 1273 of 1280 in 0.0744590759277"
       ]
      },
      {
       "output_type": "stream",
       "stream": "stdout",
       "text": [
        "\r",
        "Computed features for frame 1274 of 1280 in 0.0741190910339"
       ]
      },
      {
       "output_type": "stream",
       "stream": "stdout",
       "text": [
        "\r",
        "Computed features for frame 1275 of 1280 in 0.0764379501343"
       ]
      },
      {
       "output_type": "stream",
       "stream": "stdout",
       "text": [
        "\r",
        "Computed features for frame 1276 of 1280 in 0.0754001140594"
       ]
      },
      {
       "output_type": "stream",
       "stream": "stdout",
       "text": [
        "\r",
        "Computed features for frame 1277 of 1280 in 0.0754280090332"
       ]
      },
      {
       "output_type": "stream",
       "stream": "stdout",
       "text": [
        "\r",
        "Computed features for frame 1278 of 1280 in 0.0763578414917"
       ]
      },
      {
       "output_type": "stream",
       "stream": "stdout",
       "text": [
        "\r",
        "Computed features for frame 1279 of 1280 in 0.0753231048584"
       ]
      },
      {
       "output_type": "stream",
       "stream": "stdout",
       "text": [
        "\n",
        "finished in 97.4267890453\n"
       ]
      },
      {
       "metadata": {},
       "output_type": "pyout",
       "prompt_number": 17,
       "text": [
        "<matplotlib.image.AxesImage at 0x7fa33628bcd0>"
       ]
      }
     ],
     "prompt_number": 17
    },
    {
     "cell_type": "code",
     "collapsed": false,
     "input": [
      "figure(); imshow(features[462, :].reshape((blocksPerHeight, blocksPerWidth)), interpolation='nearest')"
     ],
     "language": "python",
     "metadata": {},
     "outputs": [
      {
       "metadata": {},
       "output_type": "pyout",
       "prompt_number": 18,
       "text": [
        "<matplotlib.image.AxesImage at 0x7fa33634eb90>"
       ]
      }
     ],
     "prompt_number": 18
    },
    {
     "cell_type": "code",
     "collapsed": false,
     "input": [
      "figure(); \n",
      "xlim(0, blocksPerHeight*blocksPerWidth);\n",
      "bar(xrange(blocksPerHeight*blocksPerWidth), features[462, :]/np.sum(features[462, :]));"
     ],
     "language": "python",
     "metadata": {},
     "outputs": [],
     "prompt_number": 23
    },
    {
     "cell_type": "code",
     "collapsed": false,
     "input": [
      "print features[0, :]\n",
      "print np.sum(features[0, :]/np.linalg.norm(features[0, :]))\n",
      "print np.sum(features[0, :]/((1280/16)*(720/16)))\n",
      "np.sum(features[0, :])/np.sum(features[99, :])"
     ],
     "language": "python",
     "metadata": {},
     "outputs": [
      {
       "output_type": "stream",
       "stream": "stdout",
       "text": [
        "[ 0.  0.  0. ...,  0.  0.  0.]\n",
        "16.9798584816\n",
        "45.6533333333\n"
       ]
      },
      {
       "metadata": {},
       "output_type": "pyout",
       "prompt_number": 57,
       "text": [
        "0.96333679157361651"
       ]
      }
     ],
     "prompt_number": 57
    },
    {
     "cell_type": "code",
     "collapsed": false,
     "input": [
      "sio.savemat(\"features.mat\", {\"features\":features})"
     ],
     "language": "python",
     "metadata": {},
     "outputs": [],
     "prompt_number": 58
    },
    {
     "cell_type": "code",
     "collapsed": false,
     "input": [
      "hist2demdDistMat = np.array(sio.loadmat(dataFolder + sampleData + \"hist2demd_32x48_distMat.mat\")['distMat'], dtype=float)\n",
      "print hist2demdDistMat"
     ],
     "language": "python",
     "metadata": {},
     "outputs": [
      {
       "output_type": "stream",
       "stream": "stdout",
       "text": [
        "[[      0.  274563.  534626. ...,  460015.  342315.  271465.]\n",
        " [ 274563.       0.  265817. ...,  216427.  102268.  119699.]\n",
        " [ 534626.  265817.       0. ...,  171707.  271569.  343106.]\n",
        " ..., \n",
        " [ 460015.  216427.  171707. ...,       0.  124832.  209397.]\n",
        " [ 342315.  102268.  271569. ...,  124832.       0.   85613.]\n",
        " [ 271465.  119699.  343106. ...,  209397.   85613.       0.]]\n"
       ]
      }
     ],
     "prompt_number": 12
    },
    {
     "cell_type": "code",
     "collapsed": false,
     "input": [
      "figure(); imshow(np.array(sio.loadmat(dataFolder + sampleData + \"hist2demd_32x48_distMat.mat\")['distMat'], dtype=float), interpolation='nearest')"
     ],
     "language": "python",
     "metadata": {},
     "outputs": [
      {
       "metadata": {},
       "output_type": "pyout",
       "prompt_number": 9,
       "text": [
        "<matplotlib.image.AxesImage at 0x7f0d3c0ff990>"
       ]
      }
     ],
     "prompt_number": 9
    },
    {
     "cell_type": "code",
     "collapsed": false,
     "input": [
      "def estimateFutureCost(alpha, p, distanceMatrixFilt, weights) :\n",
      "\n",
      "    distMatFilt = distanceMatrixFilt[1:distanceMatrixFilt.shape[1], 0:-1]\n",
      "    distMat = distMatFilt ** p\n",
      "    \n",
      "    last = np.copy(distMat)\n",
      "    current = np.zeros(distMat.shape)\n",
      "    \n",
      "    ## while distance between last and current is larger than threshold\n",
      "    iterations = 0 \n",
      "    while np.linalg.norm(last - current) > 0.1 : \n",
      "        for i in range(distMat.shape[0]-1, -1, -1) :\n",
      "            m = np.min(distMat*weights[1:distanceMatrixFilt.shape[1], 0:-1], axis=1)\n",
      "            distMat[i, :] = (distMatFilt[i, :] ** p) + alpha*m\n",
      "            \n",
      "        last = np.copy(current)\n",
      "        current = np.copy(distMat)\n",
      "        \n",
      "        sys.stdout.write('\\r' + \"Iteration \" + np.string_(iterations) + \"; distance \" + np.string_(np.linalg.norm(last - current)))\n",
      "        sys.stdout.flush()\n",
      "        iterations += 1\n",
      "    \n",
      "    print\n",
      "    print 'finished in', iterations, 'iterations'\n",
      "    \n",
      "    return distMat"
     ],
     "language": "python",
     "metadata": {},
     "outputs": [],
     "prompt_number": 13
    },
    {
     "cell_type": "code",
     "collapsed": false,
     "input": [
      "optimizedDistMat = estimateFutureCost(0.999, 2.0, vtu.filterDistanceMatrix(hist2demdDistMat/np.max(hist2demdDistMat), 4, True), np.ones((1200, 1200)))"
     ],
     "language": "python",
     "metadata": {},
     "outputs": [
      {
       "output_type": "stream",
       "stream": "stdout",
       "text": [
        "\r",
        "Iteration 0; distance 9683.88879858"
       ]
      },
      {
       "output_type": "stream",
       "stream": "stdout",
       "text": [
        "\r",
        "Iteration 1; distance 6.93336906863"
       ]
      },
      {
       "output_type": "stream",
       "stream": "stdout",
       "text": [
        "\r",
        "Iteration 2; distance 6.13129222678"
       ]
      },
      {
       "output_type": "stream",
       "stream": "stdout",
       "text": [
        "\r",
        "Iteration 3; distance 6.12237119033"
       ]
      },
      {
       "output_type": "stream",
       "stream": "stdout",
       "text": [
        "\r",
        "Iteration 4; distance 6.10658138877"
       ]
      },
      {
       "output_type": "stream",
       "stream": "stdout",
       "text": [
        "\r",
        "Iteration 5; distance 6.08996579444"
       ]
      },
      {
       "output_type": "stream",
       "stream": "stdout",
       "text": [
        "\r",
        "Iteration 6; distance 6.08029655"
       ]
      },
      {
       "output_type": "stream",
       "stream": "stdout",
       "text": [
        "\r",
        "Iteration 7; distance 5.10300409133"
       ]
      },
      {
       "output_type": "stream",
       "stream": "stdout",
       "text": [
        "\r",
        "Iteration 8; distance 3.23156663381"
       ]
      },
      {
       "output_type": "stream",
       "stream": "stdout",
       "text": [
        "\r",
        "Iteration 9; distance 1.68803844"
       ]
      },
      {
       "output_type": "stream",
       "stream": "stdout",
       "text": [
        "\r",
        "Iteration 10; distance 0.878175771417"
       ]
      },
      {
       "output_type": "stream",
       "stream": "stdout",
       "text": [
        "\r",
        "Iteration 11; distance 0.456923928346"
       ]
      },
      {
       "output_type": "stream",
       "stream": "stdout",
       "text": [
        "\r",
        "Iteration 12; distance 0.237742986246"
       ]
      },
      {
       "output_type": "stream",
       "stream": "stdout",
       "text": [
        "\r",
        "Iteration 13; distance 0.123700519939"
       ]
      },
      {
       "output_type": "stream",
       "stream": "stdout",
       "text": [
        "\r",
        "Iteration 14; distance 0.0643628603933"
       ]
      },
      {
       "output_type": "stream",
       "stream": "stdout",
       "text": [
        "\n",
        "finished in 15 iterations\n"
       ]
      }
     ],
     "prompt_number": 14
    },
    {
     "cell_type": "code",
     "collapsed": false,
     "input": [
      "np.save(dataFolder + sampleData + \"proc_hist2demd_32x48_distMat.npy\", optimizedDistMat)"
     ],
     "language": "python",
     "metadata": {},
     "outputs": [],
     "prompt_number": 17
    },
    {
     "cell_type": "code",
     "collapsed": false,
     "input": [
      "figure(); imshow(vtu.filterDistanceMatrix(hist2demdDistMat/np.max(hist2demdDistMat), 4, True), interpolation='nearest')\n",
      "figure(); imshow(optimizedDistMat, interpolation='nearest')\n",
      "figure(); imshow(np.load(dataFolder + sampleData + \"proc_distMat.npy\"), interpolation='nearest')"
     ],
     "language": "python",
     "metadata": {},
     "outputs": [
      {
       "metadata": {},
       "output_type": "pyout",
       "prompt_number": 15,
       "text": [
        "<matplotlib.image.AxesImage at 0x7f0d37bc2c10>"
       ]
      }
     ],
     "prompt_number": 15
    },
    {
     "cell_type": "code",
     "collapsed": false,
     "input": [
      "tmp3248 = np.load(dataFolder + sampleData + \"proc_hist2demd_32x48_distMat.npy\")\n",
      "tmp1616 = np.load(dataFolder + sampleData + \"proc_hist2demd_16x16_distMat.npy\")\n",
      "figure(); imshow((np.abs(tmp3248/np.max(tmp3248)-tmp1616/np.max(tmp1616)))[500:600, 500:600], interpolation='nearest')\n",
      "figure(); imshow((tmp3248/np.max(tmp3248))[500:600, 500:600], interpolation='nearest')\n",
      "figure(); imshow((tmp1616/np.max(tmp1616))[500:600, 500:600], interpolation='nearest')\n",
      "print np.max((np.abs(tmp3248/np.max(tmp3248)-tmp1616/np.max(tmp1616))))"
     ],
     "language": "python",
     "metadata": {},
     "outputs": [
      {
       "output_type": "stream",
       "stream": "stdout",
       "text": [
        "0.0079776011141\n"
       ]
      }
     ],
     "prompt_number": 32
    },
    {
     "cell_type": "code",
     "collapsed": false,
     "input": [
      "## load precomputed distance matrix and filter for label propagation\n",
      "# name = \"vanilla_distMat\"\n",
      "# name = \"histcos_16x16_distMat\"\n",
      "# name = \"hist2demd_32x48_distMat\"\n",
      "# name = \"hist2demd_16x16_distMat\"\n",
      "# name = \"semantics_hog_rand50_distMat\"\n",
      "# name = \"semantics_hog_rand50_encodedfirst_distMat\"\n",
      "# name = \"semantics_hog_rand50_encodedlast_distMat\"\n",
      "# name = \"semantics_hog_set50_distMat\"\n",
      "# name = \"semantics_hog_set50_encodedlast_distMat\"\n",
      "# name = \"semantics_hog_set150_distMat\"\n",
      "# name = \"semantics_hog_L2_set150_distMat\"\n",
      "# name = \"appearance_hog_rand150_distMat\"\n",
      "# name = \"appearance_hog_L2_rand150_distMat\"\n",
      "# name = \"appearance_hog_set150_distMat\"\n",
      "name = \"appearance_hog_L2_set150_distMat\"\n",
      "distanceMatrix = np.array(np.load(outputData + name + \".npy\"), dtype=np.float)\n",
      "distanceMatrix /= np.max(distanceMatrix)\n",
      "if True :\n",
      "    distMat = vtu.filterDistanceMatrix(distanceMatrix, 2, True)\n",
      "else :\n",
      "    distMat = np.copy(distanceMatrix)\n",
      "figure(); imshow(distMat, interpolation='nearest')\n",
      "## save for matlab to compute isomap\n",
      "# sio.savemat(name + \".mat\", {\"distMat\":distMat})\n",
      "distances = np.array(np.copy(distMat), dtype=float)"
     ],
     "language": "python",
     "metadata": {},
     "outputs": [],
     "prompt_number": 9
    },
    {
     "cell_type": "code",
     "collapsed": false,
     "input": [
      "print distMat.shape\n",
      "figure(); imshow(distanceMatrix, interpolation='nearest')"
     ],
     "language": "python",
     "metadata": {},
     "outputs": [
      {
       "output_type": "stream",
       "stream": "stdout",
       "text": [
        "(1272, 1272)\n"
       ]
      },
      {
       "metadata": {},
       "output_type": "pyout",
       "prompt_number": 15,
       "text": [
        "<matplotlib.image.AxesImage at 0x7fb013554350>"
       ]
      }
     ],
     "prompt_number": 15
    },
    {
     "cell_type": "code",
     "collapsed": false,
     "input": [
      "close('all')"
     ],
     "language": "python",
     "metadata": {},
     "outputs": [],
     "prompt_number": 17
    },
    {
     "cell_type": "code",
     "collapsed": false,
     "input": [
      "# distances = np.copy(distanceMatrix)\n",
      "#/np.max(distMat)\n",
      "# distances = np.copy(distMat[1:distMat.shape[1], 0:-1])\n",
      "# distances = np.copy(distMatFut)\n",
      "\n",
      "if False :\n",
      "    ## use dotstar\n",
      "    numClasses = 2\n",
      "    ## init labeled points\n",
      "    labelledPoints = np.array([[9], [21]])-1\n",
      "    fl = np.zeros((len(labelledPoints), numClasses))\n",
      "    fl = np.eye(numClasses)\n",
      "else :\n",
      "    ## use ribbon2\n",
      "    numClasses = 4\n",
      "    ## init labeled points\n",
      "    labelledPoints = np.array([[122], [501], [838], [1106]]) -4\n",
      "    fl = np.eye(numClasses)\n",
      "    \n",
      "#     labelledPoints = np.array([[22, 122, 222], [281, 501, 721], [754, 838, 922], [956, 1106, 1256]]) -4\n",
      "#     fl = np.zeros((np.prod(labelledPoints.shape), numClasses))\n",
      "#     fl[0:3, 0] = 1\n",
      "#     fl[3:6, 1] = 1\n",
      "#     fl[6:9, 2] = 1\n",
      "#     fl[9:, 3] = 1\n",
      "\n",
      "    initPoints = np.array([122, 501, 838, 1106]) -4\n",
      "    extraPoints = 16\n",
      "    labelledPoints = np.zeros((numClasses, extraPoints+1), dtype=np.int)\n",
      "    for i in xrange(0, len(initPoints)) :\n",
      "        labelledPoints[i, :] = range(initPoints[i]-extraPoints/2, initPoints[i]+extraPoints/2+1)\n",
      "\n",
      "    fl = np.zeros((np.prod(labelledPoints.shape), numClasses))\n",
      "    for i in xrange(0, numClasses) :\n",
      "        fl[i*(extraPoints+1):(i+1)*(extraPoints+1), i] = 1\n",
      "    \n",
      "print numClasses, labelledPoints\n",
      "print fl\n",
      "\n",
      "## order w to have labeled nodes at the top-left corner\n",
      "flatLabelled = np.ndarray.flatten(labelledPoints)"
     ],
     "language": "python",
     "metadata": {},
     "outputs": [
      {
       "output_type": "stream",
       "stream": "stdout",
       "text": [
        "4 [[ 110  111  112  113  114  115  116  117  118  119  120  121  122  123\n",
        "   124  125  126]\n",
        " [ 489  490  491  492  493  494  495  496  497  498  499  500  501  502\n",
        "   503  504  505]\n",
        " [ 826  827  828  829  830  831  832  833  834  835  836  837  838  839\n",
        "   840  841  842]\n",
        " [1094 1095 1096 1097 1098 1099 1100 1101 1102 1103 1104 1105 1106 1107\n",
        "  1108 1109 1110]]\n",
        "[[ 1.  0.  0.  0.]\n",
        " [ 1.  0.  0.  0.]\n",
        " [ 1.  0.  0.  0.]\n",
        " [ 1.  0.  0.  0.]\n",
        " [ 1.  0.  0.  0.]\n",
        " [ 1.  0.  0.  0.]\n",
        " [ 1.  0.  0.  0.]\n",
        " [ 1.  0.  0.  0.]\n",
        " [ 1.  0.  0.  0.]\n",
        " [ 1.  0.  0.  0.]\n",
        " [ 1.  0.  0.  0.]\n",
        " [ 1.  0.  0.  0.]\n",
        " [ 1.  0.  0.  0.]\n",
        " [ 1.  0.  0.  0.]\n",
        " [ 1.  0.  0.  0.]\n",
        " [ 1.  0.  0.  0.]\n",
        " [ 1.  0.  0.  0.]\n",
        " [ 0.  1.  0.  0.]\n",
        " [ 0.  1.  0.  0.]\n",
        " [ 0.  1.  0.  0.]\n",
        " [ 0.  1.  0.  0.]\n",
        " [ 0.  1.  0.  0.]\n",
        " [ 0.  1.  0.  0.]\n",
        " [ 0.  1.  0.  0.]\n",
        " [ 0.  1.  0.  0.]\n",
        " [ 0.  1.  0.  0.]\n",
        " [ 0.  1.  0.  0.]\n",
        " [ 0.  1.  0.  0.]\n",
        " [ 0.  1.  0.  0.]\n",
        " [ 0.  1.  0.  0.]\n",
        " [ 0.  1.  0.  0.]\n",
        " [ 0.  1.  0.  0.]\n",
        " [ 0.  1.  0.  0.]\n",
        " [ 0.  1.  0.  0.]\n",
        " [ 0.  0.  1.  0.]\n",
        " [ 0.  0.  1.  0.]\n",
        " [ 0.  0.  1.  0.]\n",
        " [ 0.  0.  1.  0.]\n",
        " [ 0.  0.  1.  0.]\n",
        " [ 0.  0.  1.  0.]\n",
        " [ 0.  0.  1.  0.]\n",
        " [ 0.  0.  1.  0.]\n",
        " [ 0.  0.  1.  0.]\n",
        " [ 0.  0.  1.  0.]\n",
        " [ 0.  0.  1.  0.]\n",
        " [ 0.  0.  1.  0.]\n",
        " [ 0.  0.  1.  0.]\n",
        " [ 0.  0.  1.  0.]\n",
        " [ 0.  0.  1.  0.]\n",
        " [ 0.  0.  1.  0.]\n",
        " [ 0.  0.  1.  0.]\n",
        " [ 0.  0.  0.  1.]\n",
        " [ 0.  0.  0.  1.]\n",
        " [ 0.  0.  0.  1.]\n",
        " [ 0.  0.  0.  1.]\n",
        " [ 0.  0.  0.  1.]\n",
        " [ 0.  0.  0.  1.]\n",
        " [ 0.  0.  0.  1.]\n",
        " [ 0.  0.  0.  1.]\n",
        " [ 0.  0.  0.  1.]\n",
        " [ 0.  0.  0.  1.]\n",
        " [ 0.  0.  0.  1.]\n",
        " [ 0.  0.  0.  1.]\n",
        " [ 0.  0.  0.  1.]\n",
        " [ 0.  0.  0.  1.]\n",
        " [ 0.  0.  0.  1.]\n",
        " [ 0.  0.  0.  1.]\n",
        " [ 0.  0.  0.  1.]]\n"
       ]
      }
     ],
     "prompt_number": 4
    },
    {
     "cell_type": "code",
     "collapsed": false,
     "input": [
      "## do label propagation as zhu 2003\n",
      "orderedDist = np.copy(distances)\n",
      "sortedFlatLabelled = flatLabelled[np.argsort(flatLabelled)]\n",
      "sortedFl = fl[np.argsort(flatLabelled), :]\n",
      "print sortedFlatLabelled\n",
      "for i in xrange(0, len(sortedFlatLabelled)) :\n",
      "    #shift sortedFlatLabelled[i]-th row up to i-th row and adapt remaining rows\n",
      "    tmp = np.copy(orderedDist)\n",
      "    orderedDist[i, :] = tmp[sortedFlatLabelled[i], :]\n",
      "    orderedDist[i+1:, :] = np.vstack((tmp[i:sortedFlatLabelled[i], :], tmp[sortedFlatLabelled[i]+1:, :]))\n",
      "    #shift sortedFlatLabelled[i]-th column left to i-th column and adapt remaining columns\n",
      "    tmp = np.copy(orderedDist)\n",
      "    orderedDist[:, i] = tmp[:, sortedFlatLabelled[i]]\n",
      "    orderedDist[:, i+1:] = np.hstack((tmp[:, i:sortedFlatLabelled[i]], tmp[:, sortedFlatLabelled[i]+1:]))\n",
      "#     print len(sortedFlatLabelled)+sortedFlatLabelled[i]\n",
      "    \n",
      "gwv.showCustomGraph(distances)\n",
      "gwv.showCustomGraph(orderedDist)\n",
      "\n",
      "## compute weights\n",
      "w, cumW = vtu.getProbabilities(orderedDist, 0.06, None, False)\n",
      "gwv.showCustomGraph(w)\n",
      "# gwv.showCustomGraph(cumW)\n",
      "\n",
      "l = len(sortedFlatLabelled)\n",
      "n = orderedDist.shape[0]\n",
      "## compute graph laplacian\n",
      "L = np.diag(np.sum(w, axis=0)) - w\n",
      "# gwv.showCustomGraph(L)\n",
      "\n",
      "## propagate labels\n",
      "fu = np.dot(np.dot(-np.linalg.inv(L[l:, l:]), L[l:, 0:l]), sortedFl)\n",
      "\n",
      "## use class mass normalization to normalize label probabilities\n",
      "q = np.sum(sortedFl)+1\n",
      "fu_CMN = fu*(np.ones(fu.shape)*(q/np.sum(fu)))"
     ],
     "language": "python",
     "metadata": {},
     "outputs": [
      {
       "output_type": "stream",
       "stream": "stdout",
       "text": [
        "[ 110  111  112  113  114  115  116  117  118  119  120  121  122  123  124\n",
        "  125  126  489  490  491  492  493  494  495  496  497  498  499  500  501\n",
        "  502  503  504  505  826  827  828  829  830  831  832  833  834  835  836\n",
        "  837  838  839  840  841  842 1094 1095 1096 1097 1098 1099 1100 1101 1102\n",
        " 1103 1104 1105 1106 1107 1108 1109 1110]\n",
        "sigma"
       ]
      },
      {
       "output_type": "stream",
       "stream": "stdout",
       "text": [
        " 0.24361041853\n",
        "(1276, 1276) (1276, 1276)\n"
       ]
      }
     ],
     "prompt_number": 14
    },
    {
     "cell_type": "code",
     "collapsed": false,
     "input": [
      "## add labeled points to propagated labels (as labelProbs) and plot\n",
      "print fu.shape\n",
      "# print fu_CMN\n",
      "\n",
      "print flatLabelled\n",
      "numClasses = fl.shape[-1]\n",
      "\n",
      "if False :\n",
      "################ this bit doesn't work anymore since using #################\n",
      "    ## add labeled frames to fu and plot\n",
      "    labelProbs = np.array(fu[0:flatLabelled[0]])\n",
      "    print labelProbs.shape\n",
      "    for i in xrange(1, len(flatLabelled)) :\n",
      "    #     print flatLabelled[i]+i, flatLabelled[i+1]-i\n",
      "    #     print fu[flatLabelled[i]+i:flatLabelled[i+1]-i, :]\n",
      "    \n",
      "        labelProbs = np.vstack((labelProbs, fl[i-1, :]))\n",
      "        print labelProbs.shape, flatLabelled[i-1]-(i-1), flatLabelled[i]-i\n",
      "        labelProbs = np.vstack((labelProbs, fu[flatLabelled[i-1]-(i-1):flatLabelled[i]-i, :]))\n",
      "        print labelProbs.shape\n",
      "        \n",
      "    \n",
      "    \n",
      "    labelProbs = np.vstack((labelProbs, fl[-1, :]))\n",
      "    labelProbs = np.vstack((labelProbs, fu[flatLabelled[-1]-len(flatLabelled)+1:, :]))\n",
      "    # labelProbs = labelProbs[1:, :]\n",
      "    print labelProbs, labelProbs.shape\n",
      "else :\n",
      "    labelProbs = np.copy(np.array(fu))\n",
      "    print labelProbs.shape\n",
      "    for frame, i in zip(sortedFlatLabelled, np.arange(len(sortedFlatLabelled))) :\n",
      "        labelProbs = np.vstack((labelProbs[0:frame, :], sortedFl[i, :], labelProbs[frame:, :]))\n",
      "        \n",
      "    print labelProbs.shape\n",
      "\n",
      "clrs = ['r', 'g', 'b', 'm']\n",
      "fig1 = figure()\n",
      "xlabel('all points')\n",
      "fig2 = figure()\n",
      "xlabel('only unlabeled')\n",
      "fig3 = figure()\n",
      "xlabel('only unlabeled + CMN')\n",
      "\n",
      "for i in xrange(0, numClasses) :\n",
      "    figure(fig1.number); plot(labelProbs[:, i], clrs[i])\n",
      "    figure(fig2.number); plot(fu[:, i], clrs[i])\n",
      "    figure(fig3.number); plot(fu_CMN[:, i], clrs[i])\n",
      "    \n",
      "    for node in labelledPoints[i] :\n",
      "        figure(fig1.number); plot(np.repeat(node, 2), [0, 1.1], clrs[i])\n",
      "        figure(fig2.number); plot(np.repeat(node, 2), [0, 1.1], clrs[i])\n",
      "        figure(fig3.number); plot(np.repeat(node, 2), [0, np.max(fu_CMN)], clrs[i])"
     ],
     "language": "python",
     "metadata": {},
     "outputs": [
      {
       "output_type": "stream",
       "stream": "stdout",
       "text": [
        "(1208, 4)\n",
        "[ 110  111  112  113  114  115  116  117  118  119  120  121  122  123  124\n",
        "  125  126  489  490  491  492  493  494  495  496  497  498  499  500  501\n",
        "  502  503  504  505  826  827  828  829  830  831  832  833  834  835  836\n",
        "  837  838  839  840  841  842 1094 1095 1096 1097 1098 1099 1100 1101 1102\n",
        " 1103 1104 1105 1106 1107 1108 1109 1110]\n",
        "(1208, 4)\n",
        "(1276, 4)\n"
       ]
      }
     ],
     "prompt_number": 15
    },
    {
     "cell_type": "code",
     "collapsed": false,
     "input": [
      "print labelProbs.shape\n",
      "print np.sum(labelProbs)"
     ],
     "language": "python",
     "metadata": {},
     "outputs": [
      {
       "output_type": "stream",
       "stream": "stdout",
       "text": [
        "(1244, 4)\n",
        "1244.0\n"
       ]
      }
     ],
     "prompt_number": 20
    },
    {
     "cell_type": "code",
     "collapsed": false,
     "input": [
      "## save label propagation for visualizing within videotextgui\n",
      "# np.save(outputData + \"labeledPoints.npy\", labeledPoints)\n",
      "# np.save(outputData + \"labelProbs.npy\", labelProbs)\n",
      "np.save(outputData + \"l2dist_guiex60_mult0.045_labels.npy\", {\"labeledPoints\": np.array(labelledPoints), \"labelProbs\": labelProbs})\n",
      "## save label propagation for visualizing isomaps in matlab\n",
      "# sio.savemat(\"labeledPoints.mat\", {\"labeledPoints\":labeledPoints})\n",
      "# sio.savemat(\"l2dist_mult0.05_labelProbs.mat\", {\"labelProbs\":labelProbs})"
     ],
     "language": "python",
     "metadata": {},
     "outputs": []
    },
    {
     "cell_type": "code",
     "collapsed": false,
     "input": [
      "## save label propagation for visualizing within videotextgui\n",
      "# np.save(outputData + \"labeledPoints.npy\", labeledPoints)\n",
      "# np.save(outputData + \"labelProbs.npy\", labelProbs)\n",
      "np.save(outputData + \"learned_appereance_hog_set150_mult0.06_labels.npy\", {\"labeledPoints\": np.array(labelledPoints), \"labelProbs\": labelProbs})\n",
      "## save label propagation for visualizing isomaps in matlab\n",
      "# sio.savemat(\"labeledPoints.mat\", {\"labeledPoints\":labeledPoints})\n",
      "# sio.savemat(\"l2dist_mult0.05_labelProbs.mat\", {\"labelProbs\":labelProbs})"
     ],
     "language": "python",
     "metadata": {},
     "outputs": [],
     "prompt_number": 16
    },
    {
     "cell_type": "code",
     "collapsed": false,
     "input": [
      "## save label propagation for visualizing within videotextgui\n",
      "# np.save(outputData + \"labeledPoints.npy\", labeledPoints)\n",
      "# np.save(outputData + \"labelProbs.npy\", labelProbs)\n",
      "np.save(outputData + \"l2dist_mult0.05_labels.npy\", {\"labeledPoints\": labeledPoints, \"labelProbs\": labelProbs})\n",
      "## save label propagation for visualizing isomaps in matlab\n",
      "sio.savemat(\"labeledPoints.mat\", {\"labeledPoints\":labeledPoints})\n",
      "sio.savemat(\"l2dist_mult0.05_labelProbs.mat\", {\"labelProbs\":labelProbs})"
     ],
     "language": "python",
     "metadata": {},
     "outputs": [],
     "prompt_number": 42
    },
    {
     "cell_type": "code",
     "collapsed": false,
     "input": [
      "## load isomap from .mat and save as .npy\n",
      "## it automatically loads the output from PhD/MATLAB so run this after running ComputeIsomap.m\n",
      "mapPoints = sio.loadmat(\"../MATLAB/mapPoints.mat\")[\"mapPoints\"]\n",
      "tmp = sio.loadmat(\"../MATLAB/predictedLabels.mat\")[\"predictedLabels\"]\n",
      "predictedLabels = []\n",
      "for i in xrange(0,len(np.ndarray.flatten(tmp)[0])) :\n",
      "    predictedLabels.append(np.ndarray.flatten(np.ndarray.flatten(tmp)[0][i])-1)\n",
      "\n",
      "np.save(outputData + \"l2dist_mult0.05_isomap.npy\", {\"mapPoints\": mapPoints, \"predictedLabels\": predictedLabels})"
     ],
     "language": "python",
     "metadata": {},
     "outputs": [],
     "prompt_number": 70
    },
    {
     "cell_type": "code",
     "collapsed": false,
     "input": [
      "## check that orderedDist is still symmetric\n",
      "print np.sum(orderedDist[4, :] - orderedDist[:, 4])\n",
      "print np.sum(orderedDist[10, :] - orderedDist[:, 10])\n",
      "print np.sum(orderedDist[250, :] - orderedDist[:, 250])\n",
      "## check that orderedDist has been ordered the right way\n",
      "print orderedDist[0, 0:50]\n",
      "print distances[117, list(flatLabelled)]\n",
      "print distances[117, 0:50]\n",
      "print \n",
      "print orderedDist[3, 0:50]\n",
      "print distances[496, list(flatLabelled)]\n",
      "print distances[496, 0:50]\n",
      "print \n",
      "print orderedDist[10, 0:50]\n",
      "print distances[1102, list(flatLabelled)]\n",
      "print distances[1102, 0:50]"
     ],
     "language": "python",
     "metadata": {},
     "outputs": [
      {
       "output_type": "stream",
       "stream": "stdout",
       "text": [
        "0.0\n",
        "0.0\n",
        "0.0\n",
        "[ 0.          0.31636936  0.41500525  0.39362539  0.39152676  0.50878804\n",
        "  0.66677597  0.67740031  0.69425498  0.73498164  0.78029906  0.77341291\n",
        "  0.7931532   0.7589192   0.69779643  0.70625656  0.68684418  2.36975341\n",
        "  2.40818468  2.44668153  2.43920514  2.4784234   2.54026758  2.52019937\n",
        "  2.44281217  2.29046432  2.21766789  2.17084208  2.1953043   2.22665268\n",
        "  2.24973767  2.27295383  2.29643232  2.32456716  4.74468783  4.25511542\n",
        "  3.82653463  3.28266002  2.7511149   2.29905561  1.92110441  1.62237671\n",
        "  1.49193337  1.46897954  1.52105194  1.58066632  1.69438615  1.7883001\n",
        "  1.85866999  1.91507083]\n",
        "[ 0.67740031  0.65693861  0.58066632  0.49272036  0.50432844  0.43874607\n",
        "  0.26652676  0.          0.261149    0.43966422  0.58348636  0.67825289\n",
        "  0.77741343  0.84083158  0.83820829  0.84181532  0.8158447   2.54361228\n",
        "  2.66959601  2.75793547  2.74599948  2.68841815  2.66159496  2.59627492\n",
        "  2.50944386  2.3954617   2.36758919  2.3162382   2.35729276  2.46012592\n",
        "  2.54741605  2.56230325  2.54964586  2.50124607  4.99980325  4.51259182\n",
        "  4.09109391  3.55961438  3.02190451  2.54590766  2.12827912  1.80017051\n",
        "  1.670383    1.65956191  1.7206191   1.78770986  1.92254722  2.04354669\n",
        "  2.13109916  2.19353358  2.28154512  3.27282267  3.21340504  3.13372246\n",
        "  3.08420776  2.97422613  2.79177597  2.65483998  2.66775971  2.67392445\n",
        "  2.74717996  2.78443075  2.86758919  2.98727702  3.07397692  3.13929696\n",
        "  3.15051154  3.11201469]\n",
        "[ 1.55082634  1.43343389  1.31748426  1.2444255   1.24770462  1.21668416\n",
        "  1.20179696  1.21917629  1.28462749  1.32194386  1.35650577  1.40693861\n",
        "  1.40182319  1.43572928  1.48517838  1.6082765   1.67995803  1.7626574\n",
        "  1.87460651  2.02144544  2.096734    2.21445435  2.45251836  2.57771511\n",
        "  2.67687566  2.81269675  3.02118311  3.20186254  3.32410808  3.49822928\n",
        "  3.54708814  3.41225079  3.27393757  3.17720357  3.21733998  3.11260493\n",
        "  2.80508919  2.4921957   2.16172613  1.98104669  1.97166842  1.91015215\n",
        "  1.80633526  1.51947796  1.33919203  1.4159234   1.69045121  1.85637461\n",
        "  1.80443337  1.61686779]\n",
        "\n",
        "[ 0.39362539  0.3954617   0.28370934  0.          0.26580535  0.39683893\n",
        "  0.4352702   0.49272036  0.64159234  0.70855194  0.68245016  0.71478227\n",
        "  0.76744491  0.81217209  0.81072928  0.8080404   0.78974292  2.33578174\n",
        "  2.42740031  2.52577387  2.48799843  2.44359916  2.45048531  2.40857817\n",
        "  2.31781217  2.15503673  2.13227964  2.09365163  2.17713799  2.25072141\n",
        "  2.31564795  2.32692812  2.28928384  2.27767576  4.69032004  4.20009182\n",
        "  3.77918416  3.24383526  2.70592865  2.22809549  1.81053253  1.49468783\n",
        "  1.37172088  1.37296695  1.43848374  1.51108342  1.64972455  1.76187041\n",
        "  1.83578174  1.88641133]\n",
        "[ 2.44281217  2.40877492  2.36129328  2.31781217  2.34909496  2.46629066\n",
        "  2.49245803  2.50944386  2.60047219  2.61017838  2.59437303  2.60762067\n",
        "  2.64513379  2.65543022  2.60316107  2.55003935  2.45612539  1.67903987\n",
        "  1.87421301  1.81702518  1.57259969  1.24370409  0.81866474  0.61522823\n",
        "  0.          0.5089192   0.71674974  1.10296432  1.43225341  1.60158709\n",
        "  1.62001574  1.46681532  1.20960126  0.89480588  4.21124082  3.8660808\n",
        "  3.59063484  3.18874607  2.7660021   2.41402151  2.18979538  2.03482424\n",
        "  2.21570042  2.31282791  2.35919465  2.38109916  2.30325289  2.28915268\n",
        "  2.33840504  2.37506558  2.40241343  3.03069255  2.90792235  2.85388248\n",
        "  2.86726128  3.05574502  3.12782004  3.34647167  3.43251574  3.38916579\n",
        "  3.4248426   3.43238458  3.4806532   3.46983211  3.39565845  3.30240031\n",
        "  3.06761542  3.1116212 ]\n",
        "[ 2.          1.91021773  1.88778856  1.91552991  2.0353489   2.0818468\n",
        "  2.00983736  1.89952781  1.77695435  1.54584208  1.45553515  1.46819255\n",
        "  1.45947009  1.50465635  1.55633526  1.59024134  1.60394806  1.60447272\n",
        "  1.65956191  1.72429171  1.71543809  1.73045645  1.90483998  1.96438877\n",
        "  1.9761936   1.95048531  2.11581847  2.13759182  2.28167629  2.36017838\n",
        "  2.26665792  2.21904512  2.13477177  1.98629328  2.02524921  1.93553253\n",
        "  1.71635624  1.57482949  1.50872246  1.52997114  1.49029381  1.5316107\n",
        "  1.6841553   1.87099948  2.09312697  2.05010493  2.07666579  2.1748426\n",
        "  2.11640871  2.23098111]\n",
        "\n",
        "[ 0.78029906  0.7444255   0.69176285  0.68245016  0.67792497  0.66434942\n",
        "  0.64808499  0.58348636  0.47029119  0.29046432  0.          0.29774397\n",
        "  0.45776495  0.65333158  0.78220094  0.79026758  0.77997114  2.59516002\n",
        "  2.77400315  2.81617261  2.77551154  2.74914743  2.75996852  2.70225603\n",
        "  2.59437303  2.40005247  2.34470094  2.30003935  2.41408709  2.53508657\n",
        "  2.59653725  2.61004722  2.57246852  2.58774921  5.10145593  4.62322928\n",
        "  4.21215897  3.68369622  3.14421563  2.66507083  2.24731112  1.91651364\n",
        "  1.77518363  1.74842602  1.79780955  1.86817943  2.00747639  2.12913169\n",
        "  2.21897954  2.28128279]\n",
        "[ 2.24062172  2.19333683  2.18140084  2.20881427  2.27957765  2.38975603\n",
        "  2.52229801  2.67392445  2.78213536  2.81505771  2.82410808  2.89578961\n",
        "  2.88667366  2.85663694  2.74304827  2.62309811  2.54853095  3.08683106\n",
        "  3.12204879  3.09253673  3.13805089  3.26495278  3.3485703   3.38293547\n",
        "  3.38916579  3.3247639   3.24324502  3.06938615  2.99560598  2.9929171\n",
        "  3.02564271  3.06505771  3.10952256  3.18435205  4.62191763  4.24062172\n",
        "  3.92871196  3.65490556  3.29544858  2.8489638   2.5487277   2.36883526\n",
        "  2.31532004  2.32751836  2.3694255   2.40464323  2.48380115  2.54361228\n",
        "  2.57620672  2.59424187  2.6465766   1.61398216  1.55364638  1.36555614\n",
        "  1.15602046  1.00616474  0.83053515  0.57155037  0.25400052  0.          0.3816894\n",
        "  0.5945042   0.76947796  0.9679958   1.10604669  1.23071878  1.40982424\n",
        "  1.53875918]\n",
        "[ 2.79748164  2.74593389  2.65647954  2.61181794  2.61503148  2.670383\n",
        "  2.74783578  2.77072403  2.79466159  2.87867261  2.89454355  2.92333421\n",
        "  2.94228751  2.90759444  2.85998164  2.76993704  2.71261805  2.70665005\n",
        "  2.6770724   2.6491999   2.68645068  2.75236097  2.89847849  2.97711175\n",
        "  3.04131689  3.12801679  3.25321354  3.36758919  3.44117261  3.5420383\n",
        "  3.56131952  3.47875131  3.43763116  3.35591553  3.35584995  3.28515215\n",
        "  3.25144281  3.23878541  3.13916579  3.02360965  2.85716159  2.82692812\n",
        "  2.91002099  2.8351915   2.75308237  2.62906611  2.61503148  2.69143494\n",
        "  2.82227177  2.9735703 ]\n"
       ]
      }
     ],
     "prompt_number": 5
    },
    {
     "cell_type": "code",
     "collapsed": false,
     "input": [
      "## compute tsne representation for given distMat\n",
      "\n",
      "Y = tsne(np.zeros((distMat.shape[0], 10)), distMat)"
     ],
     "language": "python",
     "metadata": {},
     "outputs": [
      {
       "output_type": "stream",
       "stream": "stdout",
       "text": [
        "Preprocessing the data using PCA...\n",
        "Using provided distances... (1272, 1272)\n",
        "Computing P-values for point "
       ]
      },
      {
       "output_type": "stream",
       "stream": "stdout",
       "text": [
        " 0  of  1272 ...\n",
        "Computing P-values for point "
       ]
      },
      {
       "output_type": "stream",
       "stream": "stdout",
       "text": [
        " 500  of  1272 ...\n",
        "Computing P-values for point "
       ]
      },
      {
       "output_type": "stream",
       "stream": "stdout",
       "text": [
        " 1000  of  1272 ...\n",
        "Mean value of sigma: "
       ]
      },
      {
       "output_type": "stream",
       "stream": "stdout",
       "text": [
        " 0.360733996167\n",
        "Iteration "
       ]
      },
      {
       "output_type": "stream",
       "stream": "stdout",
       "text": [
        " 10 : error is  22.9891648219\n",
        "Iteration "
       ]
      },
      {
       "output_type": "stream",
       "stream": "stdout",
       "text": [
        " 20 : error is  20.4159682995\n",
        "Iteration "
       ]
      },
      {
       "output_type": "stream",
       "stream": "stdout",
       "text": [
        " 30 : error is  17.9862871211\n",
        "Iteration "
       ]
      },
      {
       "output_type": "stream",
       "stream": "stdout",
       "text": [
        " 40 : error is  16.707608377\n",
        "Iteration "
       ]
      },
      {
       "output_type": "stream",
       "stream": "stdout",
       "text": [
        " 50 : error is  16.304177513\n",
        "Iteration "
       ]
      },
      {
       "output_type": "stream",
       "stream": "stdout",
       "text": [
        " 60 : error is  16.1334830424\n",
        "Iteration "
       ]
      },
      {
       "output_type": "stream",
       "stream": "stdout",
       "text": [
        " 70 : error is  16.0379996681\n",
        "Iteration "
       ]
      },
      {
       "output_type": "stream",
       "stream": "stdout",
       "text": [
        " 80 : error is  15.9596731875\n",
        "Iteration "
       ]
      },
      {
       "output_type": "stream",
       "stream": "stdout",
       "text": [
        " 90 : error is  15.8880864772\n",
        "Iteration "
       ]
      },
      {
       "output_type": "stream",
       "stream": "stdout",
       "text": [
        " 100 : error is  15.8362191907\n",
        "Iteration "
       ]
      },
      {
       "output_type": "stream",
       "stream": "stdout",
       "text": [
        " 110 : error is  2.21613181223\n",
        "Iteration "
       ]
      },
      {
       "output_type": "stream",
       "stream": "stdout",
       "text": [
        " 120 : error is  1.95764815049\n",
        "Iteration "
       ]
      },
      {
       "output_type": "stream",
       "stream": "stdout",
       "text": [
        " 130 : error is  1.74465125069\n",
        "Iteration "
       ]
      },
      {
       "output_type": "stream",
       "stream": "stdout",
       "text": [
        " 140 : error is  1.58119608576\n",
        "Iteration "
       ]
      },
      {
       "output_type": "stream",
       "stream": "stdout",
       "text": [
        " 150 : error is  1.46163005429\n",
        "Iteration "
       ]
      },
      {
       "output_type": "stream",
       "stream": "stdout",
       "text": [
        " 160 : error is  1.37475512937\n",
        "Iteration "
       ]
      },
      {
       "output_type": "stream",
       "stream": "stdout",
       "text": [
        " 170 : error is  1.30695199366\n",
        "Iteration "
       ]
      },
      {
       "output_type": "stream",
       "stream": "stdout",
       "text": [
        " 180 : error is  1.25199576285\n",
        "Iteration "
       ]
      },
      {
       "output_type": "stream",
       "stream": "stdout",
       "text": [
        " 190 : error is  1.20720564926\n",
        "Iteration "
       ]
      },
      {
       "output_type": "stream",
       "stream": "stdout",
       "text": [
        " 200 : error is  1.17026052313\n",
        "Iteration "
       ]
      },
      {
       "output_type": "stream",
       "stream": "stdout",
       "text": [
        " 210 : error is  1.13863732331\n",
        "Iteration "
       ]
      },
      {
       "output_type": "stream",
       "stream": "stdout",
       "text": [
        " 220 : error is  1.11111718486\n",
        "Iteration "
       ]
      },
      {
       "output_type": "stream",
       "stream": "stdout",
       "text": [
        " 230 : error is  1.08741287711\n",
        "Iteration "
       ]
      },
      {
       "output_type": "stream",
       "stream": "stdout",
       "text": [
        " 240 : error is  1.06674880269\n",
        "Iteration "
       ]
      },
      {
       "output_type": "stream",
       "stream": "stdout",
       "text": [
        " 250 : error is  1.04825185527\n",
        "Iteration "
       ]
      },
      {
       "output_type": "stream",
       "stream": "stdout",
       "text": [
        " 260 : error is  1.03176299042\n",
        "Iteration "
       ]
      },
      {
       "output_type": "stream",
       "stream": "stdout",
       "text": [
        " 270 : error is  1.0169182201\n",
        "Iteration "
       ]
      },
      {
       "output_type": "stream",
       "stream": "stdout",
       "text": [
        " 280 : error is  1.00349469671\n",
        "Iteration "
       ]
      },
      {
       "output_type": "stream",
       "stream": "stdout",
       "text": [
        " 290 : error is  0.991219431805\n",
        "Iteration "
       ]
      },
      {
       "output_type": "stream",
       "stream": "stdout",
       "text": [
        " 300 : error is  0.979950766985\n",
        "Iteration "
       ]
      },
      {
       "output_type": "stream",
       "stream": "stdout",
       "text": [
        " 310 : error is  0.969598489359\n",
        "Iteration "
       ]
      },
      {
       "output_type": "stream",
       "stream": "stdout",
       "text": [
        " 320 : error is  0.960231877724\n",
        "Iteration "
       ]
      },
      {
       "output_type": "stream",
       "stream": "stdout",
       "text": [
        " 330 : error is  0.951659944847\n",
        "Iteration "
       ]
      },
      {
       "output_type": "stream",
       "stream": "stdout",
       "text": [
        " 340 : error is  0.943580038225\n",
        "Iteration "
       ]
      },
      {
       "output_type": "stream",
       "stream": "stdout",
       "text": [
        " 350 : error is  0.936108378862\n",
        "Iteration "
       ]
      },
      {
       "output_type": "stream",
       "stream": "stdout",
       "text": [
        " 360 : error is  0.929309936104\n",
        "Iteration "
       ]
      },
      {
       "output_type": "stream",
       "stream": "stdout",
       "text": [
        " 370 : error is  0.923032589502\n",
        "Iteration "
       ]
      },
      {
       "output_type": "stream",
       "stream": "stdout",
       "text": [
        " 380 : error is  0.917197230592\n",
        "Iteration "
       ]
      },
      {
       "output_type": "stream",
       "stream": "stdout",
       "text": [
        " 390 : error is  0.91178012372\n",
        "Iteration "
       ]
      },
      {
       "output_type": "stream",
       "stream": "stdout",
       "text": [
        " 400 : error is  0.90676541981\n",
        "Iteration "
       ]
      },
      {
       "output_type": "stream",
       "stream": "stdout",
       "text": [
        " 410 : error is  0.902069598702\n",
        "Iteration "
       ]
      },
      {
       "output_type": "stream",
       "stream": "stdout",
       "text": [
        " 420 : error is  0.897657020084\n",
        "Iteration "
       ]
      },
      {
       "output_type": "stream",
       "stream": "stdout",
       "text": [
        " 430 : error is  0.893467616804\n",
        "Iteration "
       ]
      },
      {
       "output_type": "stream",
       "stream": "stdout",
       "text": [
        " 440 : error is  0.889540114421\n",
        "Iteration "
       ]
      },
      {
       "output_type": "stream",
       "stream": "stdout",
       "text": [
        " 450 : error is  0.885847818024\n",
        "Iteration "
       ]
      },
      {
       "output_type": "stream",
       "stream": "stdout",
       "text": [
        " 460 : error is  0.882333242687\n",
        "Iteration "
       ]
      },
      {
       "output_type": "stream",
       "stream": "stdout",
       "text": [
        " 470 : error is  0.878965989822\n",
        "Iteration "
       ]
      },
      {
       "output_type": "stream",
       "stream": "stdout",
       "text": [
        " 480 : error is  0.875742479264\n",
        "Iteration "
       ]
      },
      {
       "output_type": "stream",
       "stream": "stdout",
       "text": [
        " 490 : error is  0.872717444357\n",
        "Iteration "
       ]
      },
      {
       "output_type": "stream",
       "stream": "stdout",
       "text": [
        " 500 : error is  0.869865500823\n",
        "Iteration "
       ]
      },
      {
       "output_type": "stream",
       "stream": "stdout",
       "text": [
        " 510 : error is  0.867142022526\n",
        "Iteration "
       ]
      },
      {
       "output_type": "stream",
       "stream": "stdout",
       "text": [
        " 520 : error is  0.864541602751\n",
        "Iteration "
       ]
      },
      {
       "output_type": "stream",
       "stream": "stdout",
       "text": [
        " 530 : error is  0.862072251904\n",
        "Iteration "
       ]
      },
      {
       "output_type": "stream",
       "stream": "stdout",
       "text": [
        " 540 : error is  0.859694500262\n",
        "Iteration "
       ]
      },
      {
       "output_type": "stream",
       "stream": "stdout",
       "text": [
        " 550 : error is  0.857422544108\n",
        "Iteration "
       ]
      },
      {
       "output_type": "stream",
       "stream": "stdout",
       "text": [
        " 560 : error is  0.855176430876\n",
        "Iteration "
       ]
      },
      {
       "output_type": "stream",
       "stream": "stdout",
       "text": [
        " 570 : error is  0.852988469839\n",
        "Iteration "
       ]
      },
      {
       "output_type": "stream",
       "stream": "stdout",
       "text": [
        " 580 : error is  0.850941576238\n",
        "Iteration "
       ]
      },
      {
       "output_type": "stream",
       "stream": "stdout",
       "text": [
        " 590 : error is  0.849006961411\n",
        "Iteration "
       ]
      },
      {
       "output_type": "stream",
       "stream": "stdout",
       "text": [
        " 600 : error is  0.847178430202\n",
        "Iteration "
       ]
      },
      {
       "output_type": "stream",
       "stream": "stdout",
       "text": [
        " 610 : error is  0.845426980252\n",
        "Iteration "
       ]
      },
      {
       "output_type": "stream",
       "stream": "stdout",
       "text": [
        " 620 : error is  0.843712334037\n",
        "Iteration "
       ]
      },
      {
       "output_type": "stream",
       "stream": "stdout",
       "text": [
        " 630 : error is  0.842033379386\n",
        "Iteration "
       ]
      },
      {
       "output_type": "stream",
       "stream": "stdout",
       "text": [
        " 640 : error is  0.840410525751\n",
        "Iteration "
       ]
      },
      {
       "output_type": "stream",
       "stream": "stdout",
       "text": [
        " 650 : error is  0.838855581112\n",
        "Iteration "
       ]
      },
      {
       "output_type": "stream",
       "stream": "stdout",
       "text": [
        " 660 : error is  0.837350065329\n",
        "Iteration "
       ]
      },
      {
       "output_type": "stream",
       "stream": "stdout",
       "text": [
        " 670 : error is  0.835894552283\n",
        "Iteration "
       ]
      },
      {
       "output_type": "stream",
       "stream": "stdout",
       "text": [
        " 680 : error is  0.834490202499\n",
        "Iteration "
       ]
      },
      {
       "output_type": "stream",
       "stream": "stdout",
       "text": [
        " 690 : error is  0.833131196085\n",
        "Iteration "
       ]
      },
      {
       "output_type": "stream",
       "stream": "stdout",
       "text": [
        " 700 : error is  0.831800492053\n",
        "Iteration "
       ]
      },
      {
       "output_type": "stream",
       "stream": "stdout",
       "text": [
        " 710 : error is  0.830489282744\n",
        "Iteration "
       ]
      },
      {
       "output_type": "stream",
       "stream": "stdout",
       "text": [
        " 720 : error is  0.829227670827\n",
        "Iteration "
       ]
      },
      {
       "output_type": "stream",
       "stream": "stdout",
       "text": [
        " 730 : error is  0.82803014024\n",
        "Iteration "
       ]
      },
      {
       "output_type": "stream",
       "stream": "stdout",
       "text": [
        " 740 : error is  0.826872691142\n",
        "Iteration "
       ]
      },
      {
       "output_type": "stream",
       "stream": "stdout",
       "text": [
        " 750 : error is  0.82573927548\n",
        "Iteration "
       ]
      },
      {
       "output_type": "stream",
       "stream": "stdout",
       "text": [
        " 760 : error is  0.824625805103\n",
        "Iteration "
       ]
      },
      {
       "output_type": "stream",
       "stream": "stdout",
       "text": [
        " 770 : error is  0.823539769796\n",
        "Iteration "
       ]
      },
      {
       "output_type": "stream",
       "stream": "stdout",
       "text": [
        " 780 : error is  0.822481642837\n",
        "Iteration "
       ]
      },
      {
       "output_type": "stream",
       "stream": "stdout",
       "text": [
        " 790 : error is  0.821457912512\n",
        "Iteration "
       ]
      },
      {
       "output_type": "stream",
       "stream": "stdout",
       "text": [
        " 800 : error is  0.820459808051\n",
        "Iteration "
       ]
      },
      {
       "output_type": "stream",
       "stream": "stdout",
       "text": [
        " 810 : error is  0.81948160173\n",
        "Iteration "
       ]
      },
      {
       "output_type": "stream",
       "stream": "stdout",
       "text": [
        " 820 : error is  0.818525517675\n",
        "Iteration "
       ]
      },
      {
       "output_type": "stream",
       "stream": "stdout",
       "text": [
        " 830 : error is  0.817596907064\n",
        "Iteration "
       ]
      },
      {
       "output_type": "stream",
       "stream": "stdout",
       "text": [
        " 840 : error is  0.816696145407\n",
        "Iteration "
       ]
      },
      {
       "output_type": "stream",
       "stream": "stdout",
       "text": [
        " 850 : error is  0.815813227965\n",
        "Iteration "
       ]
      },
      {
       "output_type": "stream",
       "stream": "stdout",
       "text": [
        " 860 : error is  0.814959992687\n",
        "Iteration "
       ]
      },
      {
       "output_type": "stream",
       "stream": "stdout",
       "text": [
        " 870 : error is  0.814125246068\n",
        "Iteration "
       ]
      },
      {
       "output_type": "stream",
       "stream": "stdout",
       "text": [
        " 880 : error is  0.813312035961\n",
        "Iteration "
       ]
      },
      {
       "output_type": "stream",
       "stream": "stdout",
       "text": [
        " 890 : error is  0.812511489703\n",
        "Iteration "
       ]
      },
      {
       "output_type": "stream",
       "stream": "stdout",
       "text": [
        " 900 : error is  0.811731260642\n",
        "Iteration "
       ]
      },
      {
       "output_type": "stream",
       "stream": "stdout",
       "text": [
        " 910 : error is  0.810963517779\n",
        "Iteration "
       ]
      },
      {
       "output_type": "stream",
       "stream": "stdout",
       "text": [
        " 920 : error is  0.810207808797\n",
        "Iteration "
       ]
      },
      {
       "output_type": "stream",
       "stream": "stdout",
       "text": [
        " 930 : error is  0.809468336432\n",
        "Iteration "
       ]
      },
      {
       "output_type": "stream",
       "stream": "stdout",
       "text": [
        " 940 : error is  0.808758275366\n",
        "Iteration "
       ]
      },
      {
       "output_type": "stream",
       "stream": "stdout",
       "text": [
        " 950 : error is  0.808067090192\n",
        "Iteration "
       ]
      },
      {
       "output_type": "stream",
       "stream": "stdout",
       "text": [
        " 960 : error is  0.807385558189\n",
        "Iteration "
       ]
      },
      {
       "output_type": "stream",
       "stream": "stdout",
       "text": [
        " 970 : error is  0.806709840858\n",
        "Iteration "
       ]
      },
      {
       "output_type": "stream",
       "stream": "stdout",
       "text": [
        " 980 : error is  0.8060456295\n",
        "Iteration "
       ]
      },
      {
       "output_type": "stream",
       "stream": "stdout",
       "text": [
        " 990 : error is  0.805398519864\n",
        "Iteration "
       ]
      },
      {
       "output_type": "stream",
       "stream": "stdout",
       "text": [
        " 1000 : error is  0.804769014551\n"
       ]
      }
     ],
     "prompt_number": 32
    },
    {
     "cell_type": "code",
     "collapsed": false,
     "input": [
      "## show result of tsne\n",
      "print labelProbs.shape\n",
      "labels = np.argmax(labelProbs, axis=-1)\n",
      "reds = np.argwhere(labels == 0)\n",
      "greens = np.argwhere(labels == 1)\n",
      "blues = np.argwhere(labels == 2)\n",
      "magentas = np.argwhere(labels == 3)\n",
      "# labels = np.loadtxt(\"mnist2500_labels.txt\");\n",
      "print labels, labels.shape\n",
      "print reds.shape, greens.shape, blues.shape, magentas.shape\n",
      "\n",
      "## normalize and fit to interval [0, 1]\n",
      "Y = (Y-np.min(Y))/(np.max(Y)-np.min(Y))\n",
      "\n",
      "figure();\n",
      "scatter(Y[reds,0], Y[reds,1], 20, '#ff0000');\n",
      "scatter(Y[greens,0], Y[greens,1], 20, '#00ff00');\n",
      "scatter(Y[blues,0], Y[blues,1], 20, '#0000ff');\n",
      "scatter(Y[magentas,0], Y[magentas,1], 20, '#ff00ff');\n",
      "\n",
      "## save results to use with videotextgui\n",
      "np.save(outputData + \"l2dist_mult0.05_tsnemap.npy\", {\"mapPoints\": Y.T, \"predictedLabels\": [np.ndarray.flatten(reds), np.ndarray.flatten(greens), np.ndarray.flatten(blues), np.ndarray.flatten(magentas)]})"
     ],
     "language": "python",
     "metadata": {},
     "outputs": [
      {
       "output_type": "stream",
       "stream": "stdout",
       "text": [
        "(1272, 4)\n",
        "[0 0 0 ..., 3 3 3] (1272,)\n",
        "(455, 1) (443, 1) (28, 1) (346, 1)\n"
       ]
      }
     ],
     "prompt_number": 33
    },
    {
     "cell_type": "code",
     "collapsed": false,
     "input": [
      "## show stencil\n",
      "im = np.zeros(img.shape)\n",
      "im[stencils[5][0], stencils[5][1]] = 1\n",
      "figure(); imshow(im)"
     ],
     "language": "python",
     "metadata": {},
     "outputs": [
      {
       "metadata": {},
       "output_type": "pyout",
       "prompt_number": 25,
       "text": [
        "<matplotlib.image.AxesImage at 0x7f944cf26150>"
       ]
      }
     ],
     "prompt_number": 25
    },
    {
     "cell_type": "code",
     "collapsed": false,
     "input": [
      "## show features\n",
      "gwv.showCustomGraph(features[717, :].reshape((blocksPerDim, blocksPerDim)))\n",
      "gwv.showCustomGraph(features[1165, :].reshape((blocksPerDim, blocksPerDim)))\n",
      "gwv.showCustomGraph(features[1166, :].reshape((blocksPerDim, blocksPerDim)))\n",
      "print np.dot(features[717, :], features[1166, :])\n",
      "print np.dot(features[1165, :], features[1166, :])"
     ],
     "language": "python",
     "metadata": {},
     "outputs": [
      {
       "output_type": "stream",
       "stream": "stdout",
       "text": [
        "0.0537339956253\n",
        "0.928568257189\n"
       ]
      }
     ],
     "prompt_number": 4
    },
    {
     "cell_type": "code",
     "collapsed": false,
     "input": [
      "## compute the distance matrix where distance is dot product between feature vectors\n",
      "distanceMatrix = np.ones((numFrames, numFrames))\n",
      "\n",
      "for r in xrange(0, numFrames) :\n",
      "    for c in xrange(r+1, numFrames) :\n",
      "        distanceMatrix[r, c] = distanceMatrix[c, r] = np.dot(features[r, :], features[c, :])\n",
      "    print r, \n",
      "\n",
      "distanceMatrix = 1 - distanceMatrix\n",
      "figure(); imshow(distanceMatrix, interpolation='nearest')"
     ],
     "language": "python",
     "metadata": {},
     "outputs": [
      {
       "output_type": "stream",
       "stream": "stdout",
       "text": [
        "0 1 2 3 4 5 6 7 8 9 10 11 12 13 14 15 "
       ]
      },
      {
       "output_type": "stream",
       "stream": "stdout",
       "text": [
        "16 17 18 19 20 21 22 23 24 25 26 27 28 29 30 31 "
       ]
      },
      {
       "output_type": "stream",
       "stream": "stdout",
       "text": [
        "32 33 34 35 36 37 38 39 40 41 42 43 44 45 46 47 "
       ]
      },
      {
       "output_type": "stream",
       "stream": "stdout",
       "text": [
        "48 49 50 51 52 53 54 55 56 57 58 59 60 61 62 "
       ]
      },
      {
       "output_type": "stream",
       "stream": "stdout",
       "text": [
        "63 64 65 66 67 68 69 70 71 72 73 74 75 76 77 78 79 "
       ]
      },
      {
       "output_type": "stream",
       "stream": "stdout",
       "text": [
        "80 81 82 83 84 85 86 87 88 89 90 91 92 93 94 95 96 97 "
       ]
      },
      {
       "output_type": "stream",
       "stream": "stdout",
       "text": [
        "98 99 100 101 102 103 104 105 106 107 108 109 110 111 112 113 114 "
       ]
      },
      {
       "output_type": "stream",
       "stream": "stdout",
       "text": [
        "115 116 117 118 119 120 121 122 123 124 125 126 127 128 129 130 131 132 "
       ]
      },
      {
       "output_type": "stream",
       "stream": "stdout",
       "text": [
        "133 134 135 136 137 138 139 140 141 142 143 144 145 146 147 148 149 150 "
       ]
      },
      {
       "output_type": "stream",
       "stream": "stdout",
       "text": [
        "151 152 153 154 155 156 157 158 159 160 161 162 163 164 165 166 167 168 "
       ]
      },
      {
       "output_type": "stream",
       "stream": "stdout",
       "text": [
        "169 170 171 172 173 174 175 176 177 178 179 180 181 182 183 184 185 186 "
       ]
      },
      {
       "output_type": "stream",
       "stream": "stdout",
       "text": [
        "187 188 189 190 191 192 193 194 195 196 197 198 199 200 201 202 "
       ]
      },
      {
       "output_type": "stream",
       "stream": "stdout",
       "text": [
        "203 204 205 206 207 208 209 210 211 212 213 214 215 216 217 218 219 220 221 222 "
       ]
      },
      {
       "output_type": "stream",
       "stream": "stdout",
       "text": [
        "223 224 225 226 227 228 229 230 231 232 233 234 235 236 237 238 239 240 241 242 "
       ]
      },
      {
       "output_type": "stream",
       "stream": "stdout",
       "text": [
        "243 244 245 246 247 248 249 250 251 252 253 254 255 256 257 258 259 "
       ]
      },
      {
       "output_type": "stream",
       "stream": "stdout",
       "text": [
        "260 261 262 263 264 265 266 267 268 269 270 271 272 273 274 275 276 277 278 279 280 "
       ]
      },
      {
       "output_type": "stream",
       "stream": "stdout",
       "text": [
        "281 282 283 284 285 286 287 288 289 290 291 292 293 294 295 296 297 298 299 300 301 "
       ]
      },
      {
       "output_type": "stream",
       "stream": "stdout",
       "text": [
        "302 303 304 305 306 307 308 309 310 311 312 313 314 315 316 317 318 319 320 321 322 "
       ]
      },
      {
       "output_type": "stream",
       "stream": "stdout",
       "text": [
        "323 324 325 326 327 328 329 330 331 332 333 334 335 336 337 338 339 340 341 "
       ]
      },
      {
       "output_type": "stream",
       "stream": "stdout",
       "text": [
        "342 343 344 345 346 347 348 349 350 351 352 353 354 355 356 357 358 359 360 361 362 "
       ]
      },
      {
       "output_type": "stream",
       "stream": "stdout",
       "text": [
        "363 364 365 366 367 368 369 370 371 372 373 374 375 376 377 378 379 380 381 382 383 384 385 "
       ]
      },
      {
       "output_type": "stream",
       "stream": "stdout",
       "text": [
        "386 387 388 389 390 391 392 393 394 395 396 397 398 399 400 401 402 403 404 405 406 407 408 "
       ]
      },
      {
       "output_type": "stream",
       "stream": "stdout",
       "text": [
        "409 410 411 412 413 414 415 416 417 418 419 420 421 422 423 424 425 426 427 428 "
       ]
      },
      {
       "output_type": "stream",
       "stream": "stdout",
       "text": [
        "429 430 431 432 433 434 435 436 437 438 439 440 441 442 443 444 445 446 447 448 449 450 451 452 "
       ]
      },
      {
       "output_type": "stream",
       "stream": "stdout",
       "text": [
        "453 454 455 456 457 458 459 460 461 462 463 464 465 466 467 468 469 470 471 472 473 474 475 "
       ]
      },
      {
       "output_type": "stream",
       "stream": "stdout",
       "text": [
        "476 477 478 479 480 481 482 483 484 485 486 487 488 489 490 491 492 493 494 495 496 497 498 "
       ]
      },
      {
       "output_type": "stream",
       "stream": "stdout",
       "text": [
        "499 500 501 502 503 504 505 506 507 508 509 510 511 512 513 514 515 516 517 518 519 "
       ]
      },
      {
       "output_type": "stream",
       "stream": "stdout",
       "text": [
        "520 521 522 523 524 525 526 527 528 529 530 531 532 533 534 535 536 537 538 539 540 541 542 543 544 545 546 "
       ]
      },
      {
       "output_type": "stream",
       "stream": "stdout",
       "text": [
        "547 548 549 550 551 552 553 554 555 556 557 558 559 560 561 562 563 564 565 566 567 568 569 570 571 572 573 574 "
       ]
      },
      {
       "output_type": "stream",
       "stream": "stdout",
       "text": [
        "575 576 577 578 579 580 581 582 583 584 585 586 587 588 589 590 591 592 593 594 595 596 597 598 599 600 601 602 "
       ]
      },
      {
       "output_type": "stream",
       "stream": "stdout",
       "text": [
        "603 604 605 606 607 608 609 610 611 612 613 614 615 616 617 618 619 620 621 622 623 624 625 626 627 628 629 630 631 632 "
       ]
      },
      {
       "output_type": "stream",
       "stream": "stdout",
       "text": [
        "633 634 635 636 637 638 639 640 641 642 643 644 645 646 647 648 649 650 651 652 653 654 655 656 657 658 659 660 661 662 "
       ]
      },
      {
       "output_type": "stream",
       "stream": "stdout",
       "text": [
        "663 664 665 666 667 668 669 670 671 672 673 674 675 676 677 678 679 680 681 682 683 684 685 686 687 688 689 690 691 692 693 694 695 696 "
       ]
      },
      {
       "output_type": "stream",
       "stream": "stdout",
       "text": [
        "697 698 699 700 701 702 703 704 705 706 707 708 709 710 711 712 713 714 715 716 717 718 719 720 721 722 723 724 725 726 727 728 729 730 731 732 733 "
       ]
      },
      {
       "output_type": "stream",
       "stream": "stdout",
       "text": [
        "734 735 736 737 738 739 740 741 742 743 744 745 746 747 748 749 750 751 752 753 754 755 756 757 758 759 760 761 762 763 764 765 "
       ]
      },
      {
       "output_type": "stream",
       "stream": "stdout",
       "text": [
        "766 767 768 769 770 771 772 773 774 775 776 777 778 779 780 781 782 783 784 785 786 787 788 789 790 791 792 793 794 795 796 797 798 799 800 801 802 803 804 805 806 "
       ]
      },
      {
       "output_type": "stream",
       "stream": "stdout",
       "text": [
        "807 808 809 810 811 812 813 814 815 816 817 818 819 820 821 822 823 824 825 826 827 828 829 830 831 832 833 834 835 836 837 838 839 840 841 842 843 844 845 846 847 848 849 850 "
       ]
      },
      {
       "output_type": "stream",
       "stream": "stdout",
       "text": [
        "851 852 853 854 855 856 857 858 859 860 861 862 863 864 865 866 867 868 869 870 871 872 873 874 875 876 877 878 879 880 881 882 883 884 885 886 887 888 889 890 891 892 893 894 895 896 897 898 "
       ]
      },
      {
       "output_type": "stream",
       "stream": "stdout",
       "text": [
        "899 900 901 902 903 904 905 906 907 908 909 910 911 912 913 914 915 916 917 918 919 920 921 922 923 924 925 926 927 928 929 930 931 932 933 934 935 936 937 938 939 940 941 942 943 944 945 946 947 "
       ]
      },
      {
       "output_type": "stream",
       "stream": "stdout",
       "text": [
        "948 949 950 951 952 953 954 955 956 957 958 959 960 961 962 963 964 965 966 967 968 969 970 971 972 973 974 975 976 977 978 979 980 981 982 983 984 985 986 987 988 989 990 991 992 993 994 995 996 997 998 999 1000 1001 1002 1003 1004 1005 1006 1007 1008 1009 1010 1011 1012 1013 "
       ]
      },
      {
       "output_type": "stream",
       "stream": "stdout",
       "text": [
        "1014 1015 1016 1017 1018 1019 1020 1021 1022 1023 1024 1025 1026 1027 1028 1029 1030 1031 1032 1033 1034 1035 1036 1037 1038 1039 1040 1041 1042 1043 1044 1045 1046 1047 1048 1049 1050 1051 1052 1053 1054 1055 1056 1057 1058 1059 1060 1061 1062 1063 1064 1065 1066 1067 1068 1069 1070 1071 1072 1073 1074 1075 1076 1077 1078 1079 1080 1081 1082 1083 1084 1085 1086 1087 1088 1089 1090 1091 1092 1093 1094 1095 1096 1097 1098 1099 1100 1101 1102 1103 "
       ]
      },
      {
       "output_type": "stream",
       "stream": "stdout",
       "text": [
        "1104 1105 1106 1107 1108 1109 1110 1111 1112 1113 1114 1115 1116 1117 1118 1119 1120 1121 1122 1123 1124 1125 1126 1127 1128 1129 1130 1131 1132 1133 1134 1135 1136 1137 1138 1139 1140 1141 1142 1143 1144 1145 1146 1147 1148 1149 1150 1151 1152 1153 1154 1155 1156 1157 1158 1159 1160 1161 1162 1163 1164 1165 1166 1167 1168 1169 1170 1171 1172 1173 1174 1175 1176 1177 1178 1179 1180 1181 1182 1183 1184 1185 1186 1187 1188 1189 1190 1191 1192 1193 1194 1195 1196 1197 1198 1199 1200 1201 1202 1203 1204 1205 1206 1207 1208 1209 1210 1211 1212 1213 1214 1215 1216 1217 1218 1219 1220 1221 1222 1223 1224 1225 1226 1227 1228 1229 1230 1231 1232 1233 1234 1235 1236 1237 1238 1239 1240 1241 1242 1243 1244 1245 1246 1247 1248 1249 1250 1251 1252 1253 1254 1255 1256 1257 1258 1259 1260 1261 1262 1263 1264 1265 1266 1267 1268 1269 1270 1271 1272 1273 1274 1275 1276 1277 1278 1279"
       ]
      },
      {
       "metadata": {},
       "output_type": "pyout",
       "prompt_number": 5,
       "text": [
        "<matplotlib.image.AxesImage at 0x7f36fed09750>"
       ]
      },
      {
       "output_type": "stream",
       "stream": "stdout",
       "text": [
        "\n"
       ]
      }
     ],
     "prompt_number": 5
    },
    {
     "cell_type": "code",
     "collapsed": false,
     "input": [
      "## compute 1D emd\n",
      "def distance(f1, f2):\n",
      "#     return np.sqrt( (f1.x - f2.x)**2  + (f1.y - f2.y)**2 + (f1.z - f2.z)**2 )\n",
      "    return np.sqrt((f1 - f2)**2)#np.sqrt( (f1[0] - f2[0])**2  + (f1[1] - f2[1])**2 + (f1[2] - f2[2])**2 )\n",
      "\n",
      "print emd((list(features[1165, :]), list(arange(0.0, subDivisions))), (list(features[1166, :]), list(arange(0.0, subDivisions))), distance)\n",
      "print emd((list(features[717, :]), list(arange(0.0, subDivisions))), (list(features[1166, :]), list(arange(0.0, subDivisions))), distance)"
     ],
     "language": "python",
     "metadata": {},
     "outputs": [
      {
       "output_type": "stream",
       "stream": "stdout",
       "text": [
        "0.00160235865042\n",
        "0.00272237346508\n"
       ]
      }
     ],
     "prompt_number": 9
    },
    {
     "cell_type": "code",
     "collapsed": false,
     "input": [
      "class ImageLabel(QtGui.QLabel) :\n",
      "    \n",
      "    def __init__(self, text, parent=None):\n",
      "        super(ImageLabel, self).__init__(text, parent)\n",
      "        \n",
      "    def setPixmap(self, pixmap) :\n",
      "        if pixmap.width() > self.width() :\n",
      "            super(ImageLabel, self).setPixmap(pixmap.scaledToWidth(self.width()))\n",
      "        else :\n",
      "            super(ImageLabel, self).setPixmap(pixmap)\n",
      "        \n",
      "    def resizeEvent(self, event) :\n",
      "        if self.pixmap() != None :\n",
      "            if self.pixmap().width() > self.width() :\n",
      "                self.setPixmap(self.pixmap().scaledToWidth(self.width()))\n",
      "                \n",
      "class Window(QtGui.QWidget):\n",
      "    def __init__(self):\n",
      "        super(Window, self).__init__()\n",
      "        \n",
      "        self.createGUI()\n",
      "        \n",
      "        self.setWindowTitle(\"Semantic Labelling\")\n",
      "        self.resize(1280, 720)\n",
      "        \n",
      "        self.labelledFrames = []\n",
      "#         self.labelledPairs.append([1234, 234, 0.5])\n",
      "#         self.setLabelledFramesListTable()\n",
      "\n",
      "        self.RANDOM_CHOICE = 0\n",
      "        self.SET_CHOICE = 1\n",
      "        self.choiceMode = self.RANDOM_CHOICE\n",
      "        \n",
      "        self.choiceSet = arange(100)\n",
      "        \n",
      "        self.getNewFrame()\n",
      "        \n",
      "        self.setFocus()\n",
      "        \n",
      "    def setLabelledFramesListTable(self) :\n",
      "        \n",
      "        if len(self.labelledFrames) > 0 :\n",
      "            self.labelledFramesListTable.setRowCount(len(self.labelledFrames))\n",
      "            \n",
      "            for labelledFrame, i in zip(self.labelledFrames, arange(len(self.labelledFrames))) :\n",
      "                self.labelledFramesListTable.setItem(i, 0, QtGui.QTableWidgetItem(np.string_(labelledFrame[0])))\n",
      "                self.labelledFramesListTable.setItem(i, 1, QtGui.QTableWidgetItem(np.string_(labelledFrame[1])))\n",
      "        else :\n",
      "            self.labelledFramesListTable.setRowCount(0)\n",
      "    \n",
      "    def getNewFrame(self) :\n",
      "        if self.choiceMode == self.RANDOM_CHOICE :\n",
      "            self.getNewRandomFrame()\n",
      "        elif self.choiceMode == self.SET_CHOICE :\n",
      "            self.getNewFrameFromSet()\n",
      "    \n",
      "    def getNewFrameFromSet(self) :\n",
      "        self.frameIdx = np.random.choice(self.choiceSet)\n",
      "        \n",
      "        while len(self.labelledFrames) > 0 and self.frameIdx in np.array(self.labelledFrames)[:, 0] :\n",
      "            print \"stuck\"\n",
      "            self.frameIdx = np.random.choice(self.choiceSet)\n",
      "        \n",
      "        self.setFrameImage()\n",
      "            \n",
      "    def getNewRandomFrame(self) :\n",
      "        self.frameIdx = np.random.randint(0, len(frames))\n",
      "        \n",
      "        while len(self.labelledFrames) > 0 and self.frameIdx in np.array(self.labelledFrames)[:, 0] :\n",
      "            print \"stuck\"\n",
      "            self.frameIdx = np.random.randint(0, len(frames))\n",
      "        \n",
      "        self.setFrameImage()\n",
      "        \n",
      "    def setFrameImage(self) :\n",
      "        ## HACK ##\n",
      "        im = np.ascontiguousarray(Image.open(frames[self.frameIdx]))\n",
      "        qim = QtGui.QImage(im.data, im.shape[1], im.shape[0], im.strides[0], QtGui.QImage.Format_RGB888);\n",
      "        self.frameLabel.setPixmap(QtGui.QPixmap.fromImage(qim))\n",
      "        self.frameInfo.setText(frames[self.frameIdx])\n",
      "        \n",
      "    def labelledFrameSelected(self) :\n",
      "        selectedRow = self.labelledFramesListTable.currentRow()\n",
      "        if selectedRow >= 0 and selectedRow < len(self.labelledFrames):\n",
      "            ## HACK ##\n",
      "            im = np.ascontiguousarray(Image.open(frames[self.labelledFrames[selectedRow][0]]))\n",
      "            qim = QtGui.QImage(im.data, im.shape[1], im.shape[0], im.strides[0], QtGui.QImage.Format_RGB888);\n",
      "            self.frameLabel.setPixmap(QtGui.QPixmap.fromImage(qim))\n",
      "            self.frameInfo.setText(frames[self.labelledFrames[selectedRow][0]])\n",
      "        \n",
      "    def keyPressEvent(self, e) :\n",
      "        if e.key() == e.key() >= QtCore.Qt.Key_0 and e.key() <= QtCore.Qt.Key_9 :\n",
      "            self.setFrameLabel(np.mod(e.key()-int(QtCore.Qt.Key_0), int(QtCore.Qt.Key_9)))\n",
      "        elif e.key() == QtCore.Qt.Key_Space : ## Get new frame\n",
      "            self.getNewFrame()\n",
      "            \n",
      "    def setFrameLabel(self, label) :\n",
      "        if self.labelledFramesListTable.currentRow() >= 0 : ## I'm modifying label of existing frame\n",
      "            self.labelledFrames[self.labelledFramesListTable.currentRow()][1] = label\n",
      "        else :\n",
      "            self.labelledFrames.append([self.frameIdx, label])\n",
      "            \n",
      "        self.labelledFramesListTable.clearSelection()\n",
      "        self.labelledFramesListTable.setCurrentCell(-1, -1)\n",
      "        self.setLabelledFramesListTable()\n",
      "        \n",
      "        self.getNewFrame()\n",
      "        \n",
      "    def changeChoiceMode(self, index) :\n",
      "        if index == self.RANDOM_CHOICE :\n",
      "            self.choiceMode = self.RANDOM_CHOICE\n",
      "            self.choiceSetInterval.setEnabled(False)\n",
      "            self.choiceSetInterval.setVisible(False)\n",
      "        elif index == self.SET_CHOICE :\n",
      "            self.choiceMode = self.SET_CHOICE\n",
      "            self.choiceSetInterval.setEnabled(True)\n",
      "            self.choiceSetInterval.setVisible(True)\n",
      "        \n",
      "        self.getNewFrame()\n",
      "        \n",
      "    def changeChoiceSet(self) :\n",
      "        choiceSetText = self.choiceSetInterval.text()\n",
      "        interval = np.array(re.split(\"-|:\", choiceSetText), dtype=int)\n",
      "        if len(interval) == 2 :\n",
      "            self.choiceSet = arange(interval[0], interval[1]+1)\n",
      "            \n",
      "        self.setFocus()\n",
      "        self.getNewFrame()\n",
      "        \n",
      "    def createGUI(self) :\n",
      "        \n",
      "        ## WIDGETS ##\n",
      "        \n",
      "        self.frameLabel = ImageLabel(\"Frame\")\n",
      "        self.frameLabel.setSizePolicy(QtGui.QSizePolicy.MinimumExpanding, QtGui.QSizePolicy.MinimumExpanding)\n",
      "        self.frameLabel.setAlignment(QtCore.Qt.AlignCenter | QtCore.Qt.AlignHCenter)\n",
      "        \n",
      "        self.frameInfo = QtGui.QLabel(\"Info text\")\n",
      "        self.frameInfo.setAlignment(QtCore.Qt.AlignCenter | QtCore.Qt.AlignHCenter)\n",
      "        \n",
      "        self.labelledFramesListTable = QtGui.QTableWidget(0, 2)\n",
      "        self.labelledFramesListTable.horizontalHeader().setStretchLastSection(True)\n",
      "        self.labelledFramesListTable.setHorizontalHeaderItem(0, QtGui.QTableWidgetItem(\"Frame Index\"))\n",
      "        self.labelledFramesListTable.setHorizontalHeaderItem(1, QtGui.QTableWidgetItem(\"Label\"))\n",
      "        self.labelledFramesListTable.horizontalHeader().setResizeMode(QtGui.QHeaderView.ResizeToContents)\n",
      "#         self.labelledFramesListTable.setItem(0, 0, QtGui.QTableWidgetItem(\"No Labelled Frames\"))\n",
      "        self.labelledFramesListTable.setSizePolicy(QtGui.QSizePolicy.Minimum, QtGui.QSizePolicy.Minimum)\n",
      "        self.labelledFramesListTable.setEditTriggers(QtGui.QAbstractItemView.NoEditTriggers)\n",
      "        self.labelledFramesListTable.setSelectionBehavior(QtGui.QAbstractItemView.SelectRows)\n",
      "        self.labelledFramesListTable.setSelectionMode(QtGui.QAbstractItemView.SingleSelection)\n",
      "        self.labelledFramesListTable.setFocusPolicy(QtCore.Qt.NoFocus)\n",
      "        \n",
      "        self.choiceModeComboBox = QtGui.QComboBox()\n",
      "        self.choiceModeComboBox.addItem(\"Random\")\n",
      "        self.choiceModeComboBox.addItem(\"Set\")\n",
      "        self.choiceModeComboBox.setFocusPolicy(QtCore.Qt.NoFocus)\n",
      "        \n",
      "        self.choiceSetInterval = QtGui.QLineEdit()\n",
      "        self.choiceSetInterval.setEnabled(False)\n",
      "        self.choiceSetInterval.setVisible(False)\n",
      "        \n",
      "        \n",
      "        ## SIGNALS ##\n",
      "        \n",
      "        self.labelledFramesListTable.cellPressed.connect(self.labelledFrameSelected)\n",
      "        self.choiceModeComboBox.currentIndexChanged[int].connect(self.changeChoiceMode)\n",
      "        self.choiceSetInterval.returnPressed.connect(self.changeChoiceSet)\n",
      "        \n",
      "        ## LAYOUTS ##\n",
      "        \n",
      "        mainLayout = QtGui.QHBoxLayout()\n",
      "        controlsLayout = QtGui.QVBoxLayout()\n",
      "        controlsLayout.addWidget(self.labelledFramesListTable)\n",
      "        controlsLayout.addWidget(self.choiceModeComboBox)\n",
      "        controlsLayout.addWidget(self.choiceSetInterval)\n",
      "        frameLayout = QtGui.QVBoxLayout()\n",
      "        frameLayout.addWidget(self.frameLabel)\n",
      "        frameLayout.addWidget(self.frameInfo)\n",
      "        mainLayout.addLayout(controlsLayout)\n",
      "        mainLayout.addLayout(frameLayout)\n",
      "        self.setLayout(mainLayout)"
     ],
     "language": "python",
     "metadata": {},
     "outputs": [],
     "prompt_number": 4
    },
    {
     "cell_type": "code",
     "collapsed": false,
     "input": [
      "window = Window()\n",
      "window.show()\n",
      "app.exec_()"
     ],
     "language": "python",
     "metadata": {},
     "outputs": [
      {
       "output_type": "stream",
       "stream": "stdout",
       "text": [
        "stuck\n"
       ]
      },
      {
       "metadata": {},
       "output_type": "pyout",
       "prompt_number": 11,
       "text": [
        "0"
       ]
      }
     ],
     "prompt_number": 11
    },
    {
     "cell_type": "code",
     "collapsed": false,
     "input": [
      "# labelledFramesRand = np.copy(labelledFrames)\n",
      "labelledFramesSet = np.copy(labelledFrames)"
     ],
     "language": "python",
     "metadata": {},
     "outputs": [],
     "prompt_number": 13
    },
    {
     "cell_type": "code",
     "collapsed": false,
     "input": [
      "labelledFrames = np.copy(labelledFramesRand)"
     ],
     "language": "python",
     "metadata": {},
     "outputs": [],
     "prompt_number": 21
    },
    {
     "cell_type": "code",
     "collapsed": false,
     "input": [
      "# labelledFrames = np.array(window.labelledFrames)\n",
      "print labelledFrames\n",
      "# labelledFrames = labelledFrames[]\n",
      "# print len(np.argwhere(labelledFrames[:, 1]==0))"
     ],
     "language": "python",
     "metadata": {},
     "outputs": [
      {
       "output_type": "stream",
       "stream": "stdout",
       "text": [
        "[[  24    1]\n",
        " [ 478    1]\n",
        " [ 215    0]\n",
        " [ 170    0]\n",
        " [1127    3]\n",
        " [1165    3]\n",
        " [1241    3]\n",
        " [ 798    2]\n",
        " [  91    0]\n",
        " [ 282    1]\n",
        " [ 444    1]\n",
        " [ 166    0]\n",
        " [ 919    2]\n",
        " [ 679    1]\n",
        " [ 612    1]\n",
        " [  44    1]\n",
        " [1042    3]\n",
        " [1125    3]\n",
        " [ 860    2]\n",
        " [ 828    2]\n",
        " [ 167    0]\n",
        " [ 808    2]\n",
        " [ 829    2]\n",
        " [ 115    0]\n",
        " [ 901    2]\n",
        " [ 605    1]\n",
        " [ 498    1]\n",
        " [ 417    1]\n",
        " [ 297    1]\n",
        " [ 131    0]\n",
        " [1137    3]\n",
        " [ 250    0]\n",
        " [ 275    0]\n",
        " [ 501    1]\n",
        " [ 524    1]\n",
        " [ 164    0]\n",
        " [  40    1]\n",
        " [ 150    0]\n",
        " [ 391    1]\n",
        " [ 875    2]]\n"
       ]
      }
     ],
     "prompt_number": 22
    },
    {
     "cell_type": "code",
     "collapsed": false,
     "input": [
      "labelledFrames = np.array([[ 119,    0],\n",
      " [ 270,    0],\n",
      " [ 178,    0],\n",
      " [  82,   0],\n",
      " [  46,    0],\n",
      " [ 243,    0],\n",
      " [ 256,    0],\n",
      " [  36,    1],\n",
      " [ 242,    0],\n",
      " [  30,    1],\n",
      " [  21,    1],\n",
      " [ 257,    0],\n",
      " [ 104,    0],\n",
      " [ 240,    0],\n",
      " [ 138,    0],\n",
      " [ 265,    0],\n",
      " [ 254,    0],\n",
      " [ 106,    0],\n",
      " [ 208,    0],\n",
      " [ 125,    0],\n",
      " [  69,    0],\n",
      " [ 102,    0],\n",
      " [ 249,    0],\n",
      " [ 720,    1],\n",
      " [ 494,    1],\n",
      " [ 430,    1],\n",
      " [ 335,    1],\n",
      " [ 692,    1],\n",
      " [ 440,    1],\n",
      " [ 357,    1],\n",
      " [ 616,    1],\n",
      " [ 587,    1],\n",
      " [ 287,    1],\n",
      " [ 688,    1],\n",
      " [ 437,    1],\n",
      " [ 753,    1],\n",
      " [ 358,    1],\n",
      " [ 482,    1],\n",
      " [ 671,    1],\n",
      " [ 644,    1],\n",
      " [ 887,    2],\n",
      " [ 879,    2],\n",
      " [ 930,    2],\n",
      " [ 837,    2],\n",
      " [ 871,    2],\n",
      " [ 856,    2],\n",
      " [ 866,    2],\n",
      " [ 902,    2],\n",
      " [ 890,    2],\n",
      " [ 772,    2],\n",
      " [ 888,    2],\n",
      " [ 759,    2],\n",
      " [ 891,    2],\n",
      " [ 765,    2],\n",
      " [ 835,    2],\n",
      " [ 933,    2],\n",
      " [ 872,    2],\n",
      " [ 807,    2],\n",
      " [ 915,    2],\n",
      " [ 905,    2],\n",
      " [1268,    3],\n",
      " [ 954,    3],\n",
      " [1212,    3],\n",
      " [1206,    3],\n",
      " [1045,    3],\n",
      " [1128,    3],\n",
      " [ 987,    3],\n",
      " [ 970,    3],\n",
      " [ 965,    3],\n",
      " [1124,    3],\n",
      " [1092,    3],\n",
      " [1049,    3],\n",
      " [ 960,    3],\n",
      " [ 946,    3],\n",
      " [1048,    3],\n",
      " [1227,    3],\n",
      " [1253,    3],\n",
      " [1233,    3],\n",
      " [1019,    3],\n",
      " [ 953,    3]])"
     ],
     "language": "python",
     "metadata": {},
     "outputs": [],
     "prompt_number": 7
    },
    {
     "cell_type": "code",
     "collapsed": false,
     "input": [
      "np.save(dataFolder + sampleData + \"semantic_labels_gui_set60.npy\", labelledFrames)"
     ],
     "language": "python",
     "metadata": {},
     "outputs": [],
     "prompt_number": 6
    },
    {
     "cell_type": "code",
     "collapsed": false,
     "input": [
      "labelledFrames = np.array(window.labelledFrames)\n",
      "# np.save(dataFolder + sampleData + \"semantic_labels_prop_rand50.npy\", labelledFrames)"
     ],
     "language": "python",
     "metadata": {},
     "outputs": [],
     "prompt_number": 124
    },
    {
     "cell_type": "code",
     "collapsed": false,
     "input": [
      "## get flatLabelled and fl\n",
      "# labelledFrames = np.array(window.labelledFrames)\n",
      "# labelledFrames = np.load(dataFolder + sampleData + \"semantic_labels_gui_set60.npy\")\n",
      "usedLabels = np.unique(np.ndarray.flatten(labelledFrames[:, 1]))\n",
      "fl = np.zeros((len(labelledFrames), len(usedLabels)))\n",
      "prevIdx = 0\n",
      "flatLabelled = np.empty(0, dtype=int)\n",
      "labelledPoints = []\n",
      "print \"used labels\", usedLabels\n",
      "for i in usedLabels :\n",
      "    iLabels = labelledFrames[np.ndarray.flatten(np.argwhere(labelledFrames[:, 1] == i)), :][:, 0]\n",
      "    labelledPoints.append(iLabels)\n",
      "    flatLabelled = np.concatenate((flatLabelled, iLabels))\n",
      "    fl[prevIdx:prevIdx+len(iLabels), i] = 1\n",
      "    prevIdx += len(iLabels)\n",
      "    print i, iLabels\n",
      "print flatLabelled\n",
      "print fl"
     ],
     "language": "python",
     "metadata": {},
     "outputs": [
      {
       "output_type": "stream",
       "stream": "stdout",
       "text": [
        "used labels [0 1 2 3]\n",
        "0 [215 170  91 166 167 115 131 250 275 164 150]\n",
        "1 [ 24 478 282 444 679 612  44 605 498 417 297 501 524  40 391]\n",
        "2 [798 919 860 828 808 829 901 875]\n",
        "3 [1127 1165 1241 1042 1125 1137]\n",
        "[ 215  170   91  166  167  115  131  250  275  164  150   24  478  282  444\n",
        "  679  612   44  605  498  417  297  501  524   40  391  798  919  860  828\n",
        "  808  829  901  875 1127 1165 1241 1042 1125 1137]\n",
        "[[ 1.  0.  0.  0.]\n",
        " [ 1.  0.  0.  0.]\n",
        " [ 1.  0.  0.  0.]\n",
        " [ 1.  0.  0.  0.]\n",
        " [ 1.  0.  0.  0.]\n",
        " [ 1.  0.  0.  0.]\n",
        " [ 1.  0.  0.  0.]\n",
        " [ 1.  0.  0.  0.]\n",
        " [ 1.  0.  0.  0.]\n",
        " [ 1.  0.  0.  0.]\n",
        " [ 1.  0.  0.  0.]\n",
        " [ 0.  1.  0.  0.]\n",
        " [ 0.  1.  0.  0.]\n",
        " [ 0.  1.  0.  0.]\n",
        " [ 0.  1.  0.  0.]\n",
        " [ 0.  1.  0.  0.]\n",
        " [ 0.  1.  0.  0.]\n",
        " [ 0.  1.  0.  0.]\n",
        " [ 0.  1.  0.  0.]\n",
        " [ 0.  1.  0.  0.]\n",
        " [ 0.  1.  0.  0.]\n",
        " [ 0.  1.  0.  0.]\n",
        " [ 0.  1.  0.  0.]\n",
        " [ 0.  1.  0.  0.]\n",
        " [ 0.  1.  0.  0.]\n",
        " [ 0.  1.  0.  0.]\n",
        " [ 0.  0.  1.  0.]\n",
        " [ 0.  0.  1.  0.]\n",
        " [ 0.  0.  1.  0.]\n",
        " [ 0.  0.  1.  0.]\n",
        " [ 0.  0.  1.  0.]\n",
        " [ 0.  0.  1.  0.]\n",
        " [ 0.  0.  1.  0.]\n",
        " [ 0.  0.  1.  0.]\n",
        " [ 0.  0.  0.  1.]\n",
        " [ 0.  0.  0.  1.]\n",
        " [ 0.  0.  0.  1.]\n",
        " [ 0.  0.  0.  1.]\n",
        " [ 0.  0.  0.  1.]\n",
        " [ 0.  0.  0.  1.]]\n"
       ]
      }
     ],
     "prompt_number": 23
    }
   ],
   "metadata": {}
  }
 ]
}