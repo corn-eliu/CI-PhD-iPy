{
 "metadata": {
  "name": ""
 },
 "nbformat": 3,
 "nbformat_minor": 0,
 "worksheets": [
  {
   "cells": [
    {
     "cell_type": "code",
     "collapsed": false,
     "input": [
      "## Imports and defines\n",
      "%pylab \n",
      "\n",
      "from PIL import Image\n",
      "from PySide import QtCore, QtGui\n",
      "\n",
      "import numpy as np\n",
      "import scipy as sp\n",
      "import scipy.io as sio\n",
      "import cv2\n",
      "import cv\n",
      "import glob\n",
      "import time\n",
      "import sys\n",
      "import os\n",
      "import re\n",
      "from scipy import ndimage\n",
      "from scipy import stats\n",
      "\n",
      "from tsne import tsne\n",
      "\n",
      "from _emd import emd\n",
      "\n",
      "import GraphWithValues as gwv\n",
      "import VideoTexturesUtils as vtu\n",
      "import ComputeGridFeatures as cgf\n",
      "\n",
      "dataFolder = \"/home/ilisescu/PhD/data/\"\n",
      "\n",
      "app = QtGui.QApplication(sys.argv)"
     ],
     "language": "python",
     "metadata": {},
     "outputs": [
      {
       "output_type": "stream",
       "stream": "stdout",
       "text": [
        "Using matplotlib backend: TkAgg\n",
        "Populating the interactive namespace from numpy and matplotlib\n"
       ]
      }
     ],
     "prompt_number": 1
    },
    {
     "cell_type": "code",
     "collapsed": false,
     "input": [
      "## read frames from sequence of images\n",
      "# sampleData = \"pendulum/\"\n",
      "# sampleData = \"ribbon2/\"\n",
      "sampleData = \"flag_blender/\"\n",
      "# sampleData = \"ribbon1_matted/\"\n",
      "# sampleData = \"little_palm1_cropped/\"\n",
      "# sampleData = \"ballAnimation/\"\n",
      "# sampleData = \"eu_flag_ph_left/\"\n",
      "outputData = dataFolder+sampleData\n",
      "\n",
      "## Find pngs in sample data\n",
      "frames = glob.glob(dataFolder + sampleData + \"frame-*.png\")\n",
      "mattes = glob.glob(dataFolder + sampleData + \"matte-*.png\")\n",
      "frames = np.sort(frames)\n",
      "mattes = np.sort(mattes)#[0:len(frames)-10]\n",
      "numFrames = len(frames)\n",
      "frameSize = cv2.imread(frames[0]).shape\n",
      "print numFrames, len(mattes)"
     ],
     "language": "python",
     "metadata": {},
     "outputs": [
      {
       "output_type": "stream",
       "stream": "stdout",
       "text": [
        "1248 1248\n"
       ]
      }
     ],
     "prompt_number": 2
    },
    {
     "cell_type": "code",
     "collapsed": false,
     "input": [
      "## compute features for image\n",
      "blocksPerWidth = 32\n",
      "blocksPerHeight = 48\n",
      "subDivisions = blocksPerWidth*blocksPerHeight\n",
      "\n",
      "## given block sizes and img sizes build indices representing each block\n",
      "imageSize = np.array(cv2.cvtColor(cv2.imread(frames[0]), cv2.COLOR_BGR2RGB)).shape\n",
      "stencils = cgf.stencil2D(blocksPerWidth, blocksPerHeight, imageSize)\n",
      "\n",
      "features = cgf.histFgFeatures(stencils, subDivisions, frames, mattes)\n",
      "figure(); imshow(features.T, interpolation='nearest')"
     ],
     "language": "python",
     "metadata": {},
     "outputs": [
      {
       "output_type": "stream",
       "stream": "stdout",
       "text": [
        "\r",
        "Computed features for frame 0 of 1208 in 0.124952077866"
       ]
      },
      {
       "output_type": "stream",
       "stream": "stdout",
       "text": [
        "\r",
        "Computed features for frame 1 of 1208 in 0.116130828857"
       ]
      },
      {
       "output_type": "stream",
       "stream": "stdout",
       "text": [
        "\r",
        "Computed features for frame 2 of 1208 in 0.105181932449"
       ]
      },
      {
       "output_type": "stream",
       "stream": "stdout",
       "text": [
        "\r",
        "Computed features for frame 3 of 1208 in 0.107363939285"
       ]
      },
      {
       "output_type": "stream",
       "stream": "stdout",
       "text": [
        "\r",
        "Computed features for frame 4 of 1208 in 0.106209039688"
       ]
      },
      {
       "output_type": "stream",
       "stream": "stdout",
       "text": [
        "\r",
        "Computed features for frame 5 of 1208 in 0.109105825424"
       ]
      },
      {
       "output_type": "stream",
       "stream": "stdout",
       "text": [
        "\r",
        "Computed features for frame 6 of 1208 in 0.117029905319"
       ]
      },
      {
       "output_type": "stream",
       "stream": "stdout",
       "text": [
        "\r",
        "Computed features for frame 7 of 1208 in 0.111419916153"
       ]
      },
      {
       "output_type": "stream",
       "stream": "stdout",
       "text": [
        "\r",
        "Computed features for frame 8 of 1208 in 0.106981039047"
       ]
      },
      {
       "output_type": "stream",
       "stream": "stdout",
       "text": [
        "\r",
        "Computed features for frame 9 of 1208 in 0.112882137299"
       ]
      },
      {
       "output_type": "stream",
       "stream": "stdout",
       "text": [
        "\r",
        "Computed features for frame 10 of 1208 in 0.106498003006"
       ]
      },
      {
       "output_type": "stream",
       "stream": "stdout",
       "text": [
        "\r",
        "Computed features for frame 11 of 1208 in 0.109433889389"
       ]
      },
      {
       "output_type": "stream",
       "stream": "stdout",
       "text": [
        "\r",
        "Computed features for frame 12 of 1208 in 0.106979131699"
       ]
      },
      {
       "output_type": "stream",
       "stream": "stdout",
       "text": [
        "\r",
        "Computed features for frame 13 of 1208 in 0.105821847916"
       ]
      },
      {
       "output_type": "stream",
       "stream": "stdout",
       "text": [
        "\r",
        "Computed features for frame 14 of 1208 in 0.131577968597"
       ]
      },
      {
       "output_type": "stream",
       "stream": "stdout",
       "text": [
        "\r",
        "Computed features for frame 15 of 1208 in 0.10551404953"
       ]
      },
      {
       "output_type": "stream",
       "stream": "stdout",
       "text": [
        "\r",
        "Computed features for frame 16 of 1208 in 0.10387301445"
       ]
      },
      {
       "output_type": "stream",
       "stream": "stdout",
       "text": [
        "\r",
        "Computed features for frame 17 of 1208 in 0.10688996315"
       ]
      },
      {
       "output_type": "stream",
       "stream": "stdout",
       "text": [
        "\r",
        "Computed features for frame 18 of 1208 in 0.107589006424"
       ]
      },
      {
       "output_type": "stream",
       "stream": "stdout",
       "text": [
        "\r",
        "Computed features for frame 19 of 1208 in 0.105358123779"
       ]
      },
      {
       "output_type": "stream",
       "stream": "stdout",
       "text": [
        "\r",
        "Computed features for frame 20 of 1208 in 0.111355066299"
       ]
      },
      {
       "output_type": "stream",
       "stream": "stdout",
       "text": [
        "\r",
        "Computed features for frame 21 of 1208 in 0.106389045715"
       ]
      },
      {
       "output_type": "stream",
       "stream": "stdout",
       "text": [
        "\r",
        "Computed features for frame 22 of 1208 in 0.105025053024"
       ]
      },
      {
       "output_type": "stream",
       "stream": "stdout",
       "text": [
        "\r",
        "Computed features for frame 23 of 1208 in 0.105988025665"
       ]
      },
      {
       "output_type": "stream",
       "stream": "stdout",
       "text": [
        "\r",
        "Computed features for frame 24 of 1208 in 0.106523990631"
       ]
      },
      {
       "output_type": "stream",
       "stream": "stdout",
       "text": [
        "\r",
        "Computed features for frame 25 of 1208 in 0.106361865997"
       ]
      },
      {
       "output_type": "stream",
       "stream": "stdout",
       "text": [
        "\r",
        "Computed features for frame 26 of 1208 in 0.103708028793"
       ]
      },
      {
       "output_type": "stream",
       "stream": "stdout",
       "text": [
        "\r",
        "Computed features for frame 27 of 1208 in 0.10955286026"
       ]
      },
      {
       "output_type": "stream",
       "stream": "stdout",
       "text": [
        "\r",
        "Computed features for frame 28 of 1208 in 0.102233886719"
       ]
      },
      {
       "output_type": "stream",
       "stream": "stdout",
       "text": [
        "\r",
        "Computed features for frame 29 of 1208 in 0.103815078735"
       ]
      },
      {
       "output_type": "stream",
       "stream": "stdout",
       "text": [
        "\r",
        "Computed features for frame 30 of 1208 in 0.103760957718"
       ]
      },
      {
       "output_type": "stream",
       "stream": "stdout",
       "text": [
        "\r",
        "Computed features for frame 31 of 1208 in 0.106184959412"
       ]
      },
      {
       "output_type": "stream",
       "stream": "stdout",
       "text": [
        "\r",
        "Computed features for frame 32 of 1208 in 0.102928161621"
       ]
      },
      {
       "output_type": "stream",
       "stream": "stdout",
       "text": [
        "\r",
        "Computed features for frame 33 of 1208 in 0.111406087875"
       ]
      },
      {
       "output_type": "stream",
       "stream": "stdout",
       "text": [
        "\r",
        "Computed features for frame 34 of 1208 in 0.11438202858"
       ]
      },
      {
       "output_type": "stream",
       "stream": "stdout",
       "text": [
        "\r",
        "Computed features for frame 35 of 1208 in 0.106407165527"
       ]
      },
      {
       "output_type": "stream",
       "stream": "stdout",
       "text": [
        "\r",
        "Computed features for frame 36 of 1208 in 0.107413053513"
       ]
      },
      {
       "output_type": "stream",
       "stream": "stdout",
       "text": [
        "\r",
        "Computed features for frame 37 of 1208 in 0.10822892189"
       ]
      },
      {
       "output_type": "stream",
       "stream": "stdout",
       "text": [
        "\r",
        "Computed features for frame 38 of 1208 in 0.104573965073"
       ]
      },
      {
       "output_type": "stream",
       "stream": "stdout",
       "text": [
        "\r",
        "Computed features for frame 39 of 1208 in 0.103215932846"
       ]
      },
      {
       "output_type": "stream",
       "stream": "stdout",
       "text": [
        "\r",
        "Computed features for frame 40 of 1208 in 0.10592007637"
       ]
      },
      {
       "output_type": "stream",
       "stream": "stdout",
       "text": [
        "\r",
        "Computed features for frame 41 of 1208 in 0.102408885956"
       ]
      },
      {
       "output_type": "stream",
       "stream": "stdout",
       "text": [
        "\r",
        "Computed features for frame 42 of 1208 in 0.103541851044"
       ]
      },
      {
       "output_type": "stream",
       "stream": "stdout",
       "text": [
        "\r",
        "Computed features for frame 43 of 1208 in 0.103360891342"
       ]
      },
      {
       "output_type": "stream",
       "stream": "stdout",
       "text": [
        "\r",
        "Computed features for frame 44 of 1208 in 0.102796792984"
       ]
      },
      {
       "output_type": "stream",
       "stream": "stdout",
       "text": [
        "\r",
        "Computed features for frame 45 of 1208 in 0.102420806885"
       ]
      },
      {
       "output_type": "stream",
       "stream": "stdout",
       "text": [
        "\r",
        "Computed features for frame 46 of 1208 in 0.112863063812"
       ]
      },
      {
       "output_type": "stream",
       "stream": "stdout",
       "text": [
        "\r",
        "Computed features for frame 47 of 1208 in 0.103219032288"
       ]
      },
      {
       "output_type": "stream",
       "stream": "stdout",
       "text": [
        "\r",
        "Computed features for frame 48 of 1208 in 0.104263067245"
       ]
      },
      {
       "output_type": "stream",
       "stream": "stdout",
       "text": [
        "\r",
        "Computed features for frame 49 of 1208 in 0.105100870132"
       ]
      },
      {
       "output_type": "stream",
       "stream": "stdout",
       "text": [
        "\r",
        "Computed features for frame 50 of 1208 in 0.103832006454"
       ]
      },
      {
       "output_type": "stream",
       "stream": "stdout",
       "text": [
        "\r",
        "Computed features for frame 51 of 1208 in 0.110460996628"
       ]
      },
      {
       "output_type": "stream",
       "stream": "stdout",
       "text": [
        "\r",
        "Computed features for frame 52 of 1208 in 0.111721992493"
       ]
      },
      {
       "output_type": "stream",
       "stream": "stdout",
       "text": [
        "\r",
        "Computed features for frame 53 of 1208 in 0.101557016373"
       ]
      },
      {
       "output_type": "stream",
       "stream": "stdout",
       "text": [
        "\r",
        "Computed features for frame 54 of 1208 in 0.102010011673"
       ]
      },
      {
       "output_type": "stream",
       "stream": "stdout",
       "text": [
        "\r",
        "Computed features for frame 55 of 1208 in 0.155944824219"
       ]
      },
      {
       "output_type": "stream",
       "stream": "stdout",
       "text": [
        "\r",
        "Computed features for frame 56 of 1208 in 0.163463830948"
       ]
      },
      {
       "output_type": "stream",
       "stream": "stdout",
       "text": [
        "\r",
        "Computed features for frame 57 of 1208 in 0.167022943497"
       ]
      },
      {
       "output_type": "stream",
       "stream": "stdout",
       "text": [
        "\r",
        "Computed features for frame 58 of 1208 in 0.165916919708"
       ]
      },
      {
       "output_type": "stream",
       "stream": "stdout",
       "text": [
        "\r",
        "Computed features for frame 59 of 1208 in 0.165822029114"
       ]
      },
      {
       "output_type": "stream",
       "stream": "stdout",
       "text": [
        "\r",
        "Computed features for frame 60 of 1208 in 0.113847017288"
       ]
      },
      {
       "output_type": "stream",
       "stream": "stdout",
       "text": [
        "\r",
        "Computed features for frame 61 of 1208 in 0.16301202774"
       ]
      },
      {
       "output_type": "stream",
       "stream": "stdout",
       "text": [
        "\r",
        "Computed features for frame 62 of 1208 in 0.116680145264"
       ]
      },
      {
       "output_type": "stream",
       "stream": "stdout",
       "text": [
        "\r",
        "Computed features for frame 63 of 1208 in 0.113985061646"
       ]
      },
      {
       "output_type": "stream",
       "stream": "stdout",
       "text": [
        "\r",
        "Computed features for frame 64 of 1208 in 0.120325803757"
       ]
      },
      {
       "output_type": "stream",
       "stream": "stdout",
       "text": [
        "\r",
        "Computed features for frame 65 of 1208 in 0.161538124084"
       ]
      },
      {
       "output_type": "stream",
       "stream": "stdout",
       "text": [
        "\r",
        "Computed features for frame 66 of 1208 in 0.16788315773"
       ]
      },
      {
       "output_type": "stream",
       "stream": "stdout",
       "text": [
        "\r",
        "Computed features for frame 67 of 1208 in 0.168164014816"
       ]
      },
      {
       "output_type": "stream",
       "stream": "stdout",
       "text": [
        "\r",
        "Computed features for frame 68 of 1208 in 0.113310098648"
       ]
      },
      {
       "output_type": "stream",
       "stream": "stdout",
       "text": [
        "\r",
        "Computed features for frame 69 of 1208 in 0.104322910309"
       ]
      },
      {
       "output_type": "stream",
       "stream": "stdout",
       "text": [
        "\r",
        "Computed features for frame 70 of 1208 in 0.104475021362"
       ]
      },
      {
       "output_type": "stream",
       "stream": "stdout",
       "text": [
        "\r",
        "Computed features for frame 71 of 1208 in 0.106443881989"
       ]
      },
      {
       "output_type": "stream",
       "stream": "stdout",
       "text": [
        "\r",
        "Computed features for frame 72 of 1208 in 0.106156110764"
       ]
      },
      {
       "output_type": "stream",
       "stream": "stdout",
       "text": [
        "\r",
        "Computed features for frame 73 of 1208 in 0.11427283287"
       ]
      },
      {
       "output_type": "stream",
       "stream": "stdout",
       "text": [
        "\r",
        "Computed features for frame 74 of 1208 in 0.112113952637"
       ]
      },
      {
       "output_type": "stream",
       "stream": "stdout",
       "text": [
        "\r",
        "Computed features for frame 75 of 1208 in 0.111582040787"
       ]
      },
      {
       "output_type": "stream",
       "stream": "stdout",
       "text": [
        "\r",
        "Computed features for frame 76 of 1208 in 0.107950925827"
       ]
      },
      {
       "output_type": "stream",
       "stream": "stdout",
       "text": [
        "\r",
        "Computed features for frame 77 of 1208 in 0.107146024704"
       ]
      },
      {
       "output_type": "stream",
       "stream": "stdout",
       "text": [
        "\r",
        "Computed features for frame 78 of 1208 in 0.10803103447"
       ]
      },
      {
       "output_type": "stream",
       "stream": "stdout",
       "text": [
        "\r",
        "Computed features for frame 79 of 1208 in 0.106825828552"
       ]
      },
      {
       "output_type": "stream",
       "stream": "stdout",
       "text": [
        "\r",
        "Computed features for frame 80 of 1208 in 0.107252836227"
       ]
      },
      {
       "output_type": "stream",
       "stream": "stdout",
       "text": [
        "\r",
        "Computed features for frame 81 of 1208 in 0.11208486557"
       ]
      },
      {
       "output_type": "stream",
       "stream": "stdout",
       "text": [
        "\r",
        "Computed features for frame 82 of 1208 in 0.107709884644"
       ]
      },
      {
       "output_type": "stream",
       "stream": "stdout",
       "text": [
        "\r",
        "Computed features for frame 83 of 1208 in 0.107484102249"
       ]
      },
      {
       "output_type": "stream",
       "stream": "stdout",
       "text": [
        "\r",
        "Computed features for frame 84 of 1208 in 0.109041929245"
       ]
      },
      {
       "output_type": "stream",
       "stream": "stdout",
       "text": [
        "\r",
        "Computed features for frame 85 of 1208 in 0.114948987961"
       ]
      },
      {
       "output_type": "stream",
       "stream": "stdout",
       "text": [
        "\r",
        "Computed features for frame 86 of 1208 in 0.106150150299"
       ]
      },
      {
       "output_type": "stream",
       "stream": "stdout",
       "text": [
        "\r",
        "Computed features for frame 87 of 1208 in 0.114971160889"
       ]
      },
      {
       "output_type": "stream",
       "stream": "stdout",
       "text": [
        "\r",
        "Computed features for frame 88 of 1208 in 0.107403993607"
       ]
      },
      {
       "output_type": "stream",
       "stream": "stdout",
       "text": [
        "\r",
        "Computed features for frame 89 of 1208 in 0.107907056808"
       ]
      },
      {
       "output_type": "stream",
       "stream": "stdout",
       "text": [
        "\r",
        "Computed features for frame 90 of 1208 in 0.108995914459"
       ]
      },
      {
       "output_type": "stream",
       "stream": "stdout",
       "text": [
        "\r",
        "Computed features for frame 91 of 1208 in 0.108484983444"
       ]
      },
      {
       "output_type": "stream",
       "stream": "stdout",
       "text": [
        "\r",
        "Computed features for frame 92 of 1208 in 0.110380172729"
       ]
      },
      {
       "output_type": "stream",
       "stream": "stdout",
       "text": [
        "\r",
        "Computed features for frame 93 of 1208 in 0.11016201973"
       ]
      },
      {
       "output_type": "stream",
       "stream": "stdout",
       "text": [
        "\r",
        "Computed features for frame 94 of 1208 in 0.109032869339"
       ]
      },
      {
       "output_type": "stream",
       "stream": "stdout",
       "text": [
        "\r",
        "Computed features for frame 95 of 1208 in 0.107847929001"
       ]
      },
      {
       "output_type": "stream",
       "stream": "stdout",
       "text": [
        "\r",
        "Computed features for frame 96 of 1208 in 0.109956026077"
       ]
      },
      {
       "output_type": "stream",
       "stream": "stdout",
       "text": [
        "\r",
        "Computed features for frame 97 of 1208 in 0.109305143356"
       ]
      },
      {
       "output_type": "stream",
       "stream": "stdout",
       "text": [
        "\r",
        "Computed features for frame 98 of 1208 in 0.109977960587"
       ]
      },
      {
       "output_type": "stream",
       "stream": "stdout",
       "text": [
        "\r",
        "Computed features for frame 99 of 1208 in 0.111755132675"
       ]
      },
      {
       "output_type": "stream",
       "stream": "stdout",
       "text": [
        "\r",
        "Computed features for frame 100 of 1208 in 0.113190889359"
       ]
      },
      {
       "output_type": "stream",
       "stream": "stdout",
       "text": [
        "\r",
        "Computed features for frame 101 of 1208 in 0.109961032867"
       ]
      },
      {
       "output_type": "stream",
       "stream": "stdout",
       "text": [
        "\r",
        "Computed features for frame 102 of 1208 in 0.109503984451"
       ]
      },
      {
       "output_type": "stream",
       "stream": "stdout",
       "text": [
        "\r",
        "Computed features for frame 103 of 1208 in 0.108783960342"
       ]
      },
      {
       "output_type": "stream",
       "stream": "stdout",
       "text": [
        "\r",
        "Computed features for frame 104 of 1208 in 0.109006166458"
       ]
      },
      {
       "output_type": "stream",
       "stream": "stdout",
       "text": [
        "\r",
        "Computed features for frame 105 of 1208 in 0.106902122498"
       ]
      },
      {
       "output_type": "stream",
       "stream": "stdout",
       "text": [
        "\r",
        "Computed features for frame 106 of 1208 in 0.112505912781"
       ]
      },
      {
       "output_type": "stream",
       "stream": "stdout",
       "text": [
        "\r",
        "Computed features for frame 107 of 1208 in 0.113163948059"
       ]
      },
      {
       "output_type": "stream",
       "stream": "stdout",
       "text": [
        "\r",
        "Computed features for frame 108 of 1208 in 0.105437994003"
       ]
      },
      {
       "output_type": "stream",
       "stream": "stdout",
       "text": [
        "\r",
        "Computed features for frame 109 of 1208 in 0.113239049911"
       ]
      },
      {
       "output_type": "stream",
       "stream": "stdout",
       "text": [
        "\r",
        "Computed features for frame 110 of 1208 in 0.110726833344"
       ]
      },
      {
       "output_type": "stream",
       "stream": "stdout",
       "text": [
        "\r",
        "Computed features for frame 111 of 1208 in 0.121607065201"
       ]
      },
      {
       "output_type": "stream",
       "stream": "stdout",
       "text": [
        "\r",
        "Computed features for frame 112 of 1208 in 0.11695599556"
       ]
      },
      {
       "output_type": "stream",
       "stream": "stdout",
       "text": [
        "\r",
        "Computed features for frame 113 of 1208 in 0.110398054123"
       ]
      },
      {
       "output_type": "stream",
       "stream": "stdout",
       "text": [
        "\r",
        "Computed features for frame 114 of 1208 in 0.108748912811"
       ]
      },
      {
       "output_type": "stream",
       "stream": "stdout",
       "text": [
        "\r",
        "Computed features for frame 115 of 1208 in 0.113966226578"
       ]
      },
      {
       "output_type": "stream",
       "stream": "stdout",
       "text": [
        "\r",
        "Computed features for frame 116 of 1208 in 0.107452869415"
       ]
      },
      {
       "output_type": "stream",
       "stream": "stdout",
       "text": [
        "\r",
        "Computed features for frame 117 of 1208 in 0.107141017914"
       ]
      },
      {
       "output_type": "stream",
       "stream": "stdout",
       "text": [
        "\r",
        "Computed features for frame 118 of 1208 in 0.105476140976"
       ]
      },
      {
       "output_type": "stream",
       "stream": "stdout",
       "text": [
        "\r",
        "Computed features for frame 119 of 1208 in 0.105726003647"
       ]
      },
      {
       "output_type": "stream",
       "stream": "stdout",
       "text": [
        "\r",
        "Computed features for frame 120 of 1208 in 0.10529589653"
       ]
      },
      {
       "output_type": "stream",
       "stream": "stdout",
       "text": [
        "\r",
        "Computed features for frame 121 of 1208 in 0.1071870327"
       ]
      },
      {
       "output_type": "stream",
       "stream": "stdout",
       "text": [
        "\r",
        "Computed features for frame 122 of 1208 in 0.109152078629"
       ]
      },
      {
       "output_type": "stream",
       "stream": "stdout",
       "text": [
        "\r",
        "Computed features for frame 123 of 1208 in 0.126017093658"
       ]
      },
      {
       "output_type": "stream",
       "stream": "stdout",
       "text": [
        "\r",
        "Computed features for frame 124 of 1208 in 0.115032196045"
       ]
      },
      {
       "output_type": "stream",
       "stream": "stdout",
       "text": [
        "\r",
        "Computed features for frame 125 of 1208 in 0.117735862732"
       ]
      },
      {
       "output_type": "stream",
       "stream": "stdout",
       "text": [
        "\r",
        "Computed features for frame 126 of 1208 in 0.113853931427"
       ]
      },
      {
       "output_type": "stream",
       "stream": "stdout",
       "text": [
        "\r",
        "Computed features for frame 127 of 1208 in 0.106071949005"
       ]
      },
      {
       "output_type": "stream",
       "stream": "stdout",
       "text": [
        "\r",
        "Computed features for frame 128 of 1208 in 0.106593132019"
       ]
      },
      {
       "output_type": "stream",
       "stream": "stdout",
       "text": [
        "\r",
        "Computed features for frame 129 of 1208 in 0.113157987595"
       ]
      },
      {
       "output_type": "stream",
       "stream": "stdout",
       "text": [
        "\r",
        "Computed features for frame 130 of 1208 in 0.107135057449"
       ]
      },
      {
       "output_type": "stream",
       "stream": "stdout",
       "text": [
        "\r",
        "Computed features for frame 131 of 1208 in 0.108240127563"
       ]
      },
      {
       "output_type": "stream",
       "stream": "stdout",
       "text": [
        "\r",
        "Computed features for frame 132 of 1208 in 0.115788936615"
       ]
      },
      {
       "output_type": "stream",
       "stream": "stdout",
       "text": [
        "\r",
        "Computed features for frame 133 of 1208 in 0.112061977386"
       ]
      },
      {
       "output_type": "stream",
       "stream": "stdout",
       "text": [
        "\r",
        "Computed features for frame 134 of 1208 in 0.111535072327"
       ]
      },
      {
       "output_type": "stream",
       "stream": "stdout",
       "text": [
        "\r",
        "Computed features for frame 135 of 1208 in 0.158117055893"
       ]
      },
      {
       "output_type": "stream",
       "stream": "stdout",
       "text": [
        "\r",
        "Computed features for frame 136 of 1208 in 0.161427974701"
       ]
      },
      {
       "output_type": "stream",
       "stream": "stdout",
       "text": [
        "\r",
        "Computed features for frame 137 of 1208 in 0.119994163513"
       ]
      },
      {
       "output_type": "stream",
       "stream": "stdout",
       "text": [
        "\r",
        "Computed features for frame 138 of 1208 in 0.161843061447"
       ]
      },
      {
       "output_type": "stream",
       "stream": "stdout",
       "text": [
        "\r",
        "Computed features for frame 139 of 1208 in 0.140774011612"
       ]
      },
      {
       "output_type": "stream",
       "stream": "stdout",
       "text": [
        "\r",
        "Computed features for frame 140 of 1208 in 0.123677015305"
       ]
      },
      {
       "output_type": "stream",
       "stream": "stdout",
       "text": [
        "\r",
        "Computed features for frame 141 of 1208 in 0.113583087921"
       ]
      },
      {
       "output_type": "stream",
       "stream": "stdout",
       "text": [
        "\r",
        "Computed features for frame 142 of 1208 in 0.111409902573"
       ]
      },
      {
       "output_type": "stream",
       "stream": "stdout",
       "text": [
        "\r",
        "Computed features for frame 143 of 1208 in 0.113997936249"
       ]
      },
      {
       "output_type": "stream",
       "stream": "stdout",
       "text": [
        "\r",
        "Computed features for frame 144 of 1208 in 0.116122961044"
       ]
      },
      {
       "output_type": "stream",
       "stream": "stdout",
       "text": [
        "\r",
        "Computed features for frame 145 of 1208 in 0.112374067307"
       ]
      },
      {
       "output_type": "stream",
       "stream": "stdout",
       "text": [
        "\r",
        "Computed features for frame 146 of 1208 in 0.109696149826"
       ]
      },
      {
       "output_type": "stream",
       "stream": "stdout",
       "text": [
        "\r",
        "Computed features for frame 147 of 1208 in 0.110644102097"
       ]
      },
      {
       "output_type": "stream",
       "stream": "stdout",
       "text": [
        "\r",
        "Computed features for frame 148 of 1208 in 0.122381925583"
       ]
      },
      {
       "output_type": "stream",
       "stream": "stdout",
       "text": [
        "\r",
        "Computed features for frame 149 of 1208 in 0.116301059723"
       ]
      },
      {
       "output_type": "stream",
       "stream": "stdout",
       "text": [
        "\r",
        "Computed features for frame 150 of 1208 in 0.111117124557"
       ]
      },
      {
       "output_type": "stream",
       "stream": "stdout",
       "text": [
        "\r",
        "Computed features for frame 151 of 1208 in 0.114836931229"
       ]
      },
      {
       "output_type": "stream",
       "stream": "stdout",
       "text": [
        "\r",
        "Computed features for frame 152 of 1208 in 0.110749006271"
       ]
      },
      {
       "output_type": "stream",
       "stream": "stdout",
       "text": [
        "\r",
        "Computed features for frame 153 of 1208 in 0.125233888626"
       ]
      },
      {
       "output_type": "stream",
       "stream": "stdout",
       "text": [
        "\r",
        "Computed features for frame 154 of 1208 in 0.113520860672"
       ]
      },
      {
       "output_type": "stream",
       "stream": "stdout",
       "text": [
        "\r",
        "Computed features for frame 155 of 1208 in 0.112320184708"
       ]
      },
      {
       "output_type": "stream",
       "stream": "stdout",
       "text": [
        "\r",
        "Computed features for frame 156 of 1208 in 0.108967781067"
       ]
      },
      {
       "output_type": "stream",
       "stream": "stdout",
       "text": [
        "\r",
        "Computed features for frame 157 of 1208 in 0.116213083267"
       ]
      },
      {
       "output_type": "stream",
       "stream": "stdout",
       "text": [
        "\r",
        "Computed features for frame 158 of 1208 in 0.109196186066"
       ]
      },
      {
       "output_type": "stream",
       "stream": "stdout",
       "text": [
        "\r",
        "Computed features for frame 159 of 1208 in 0.10679101944"
       ]
      },
      {
       "output_type": "stream",
       "stream": "stdout",
       "text": [
        "\r",
        "Computed features for frame 160 of 1208 in 0.107085943222"
       ]
      },
      {
       "output_type": "stream",
       "stream": "stdout",
       "text": [
        "\r",
        "Computed features for frame 161 of 1208 in 0.106353998184"
       ]
      },
      {
       "output_type": "stream",
       "stream": "stdout",
       "text": [
        "\r",
        "Computed features for frame 162 of 1208 in 0.128602027893"
       ]
      },
      {
       "output_type": "stream",
       "stream": "stdout",
       "text": [
        "\r",
        "Computed features for frame 163 of 1208 in 0.112073898315"
       ]
      },
      {
       "output_type": "stream",
       "stream": "stdout",
       "text": [
        "\r",
        "Computed features for frame 164 of 1208 in 0.114550828934"
       ]
      },
      {
       "output_type": "stream",
       "stream": "stdout",
       "text": [
        "\r",
        "Computed features for frame 165 of 1208 in 0.108211040497"
       ]
      },
      {
       "output_type": "stream",
       "stream": "stdout",
       "text": [
        "\r",
        "Computed features for frame 166 of 1208 in 0.107747077942"
       ]
      },
      {
       "output_type": "stream",
       "stream": "stdout",
       "text": [
        "\r",
        "Computed features for frame 167 of 1208 in 0.108539104462"
       ]
      },
      {
       "output_type": "stream",
       "stream": "stdout",
       "text": [
        "\r",
        "Computed features for frame 168 of 1208 in 0.110930919647"
       ]
      },
      {
       "output_type": "stream",
       "stream": "stdout",
       "text": [
        "\r",
        "Computed features for frame 169 of 1208 in 0.107978105545"
       ]
      },
      {
       "output_type": "stream",
       "stream": "stdout",
       "text": [
        "\r",
        "Computed features for frame 170 of 1208 in 0.108402967453"
       ]
      },
      {
       "output_type": "stream",
       "stream": "stdout",
       "text": [
        "\r",
        "Computed features for frame 171 of 1208 in 0.108960151672"
       ]
      },
      {
       "output_type": "stream",
       "stream": "stdout",
       "text": [
        "\r",
        "Computed features for frame 172 of 1208 in 0.110038995743"
       ]
      },
      {
       "output_type": "stream",
       "stream": "stdout",
       "text": [
        "\r",
        "Computed features for frame 173 of 1208 in 0.109412908554"
       ]
      },
      {
       "output_type": "stream",
       "stream": "stdout",
       "text": [
        "\r",
        "Computed features for frame 174 of 1208 in 0.108030080795"
       ]
      },
      {
       "output_type": "stream",
       "stream": "stdout",
       "text": [
        "\r",
        "Computed features for frame 175 of 1208 in 0.105378866196"
       ]
      },
      {
       "output_type": "stream",
       "stream": "stdout",
       "text": [
        "\r",
        "Computed features for frame 176 of 1208 in 0.107210159302"
       ]
      },
      {
       "output_type": "stream",
       "stream": "stdout",
       "text": [
        "\r",
        "Computed features for frame 177 of 1208 in 0.108946084976"
       ]
      },
      {
       "output_type": "stream",
       "stream": "stdout",
       "text": [
        "\r",
        "Computed features for frame 178 of 1208 in 0.113164901733"
       ]
      },
      {
       "output_type": "stream",
       "stream": "stdout",
       "text": [
        "\r",
        "Computed features for frame 179 of 1208 in 0.105565071106"
       ]
      },
      {
       "output_type": "stream",
       "stream": "stdout",
       "text": [
        "\r",
        "Computed features for frame 180 of 1208 in 0.119975090027"
       ]
      },
      {
       "output_type": "stream",
       "stream": "stdout",
       "text": [
        "\r",
        "Computed features for frame 181 of 1208 in 0.113178014755"
       ]
      },
      {
       "output_type": "stream",
       "stream": "stdout",
       "text": [
        "\r",
        "Computed features for frame 182 of 1208 in 0.108802080154"
       ]
      },
      {
       "output_type": "stream",
       "stream": "stdout",
       "text": [
        "\r",
        "Computed features for frame 183 of 1208 in 0.109056949615"
       ]
      },
      {
       "output_type": "stream",
       "stream": "stdout",
       "text": [
        "\r",
        "Computed features for frame 184 of 1208 in 0.10484290123"
       ]
      },
      {
       "output_type": "stream",
       "stream": "stdout",
       "text": [
        "\r",
        "Computed features for frame 185 of 1208 in 0.105171918869"
       ]
      },
      {
       "output_type": "stream",
       "stream": "stdout",
       "text": [
        "\r",
        "Computed features for frame 186 of 1208 in 0.108113050461"
       ]
      },
      {
       "output_type": "stream",
       "stream": "stdout",
       "text": [
        "\r",
        "Computed features for frame 187 of 1208 in 0.107923030853"
       ]
      },
      {
       "output_type": "stream",
       "stream": "stdout",
       "text": [
        "\r",
        "Computed features for frame 188 of 1208 in 0.1087038517"
       ]
      },
      {
       "output_type": "stream",
       "stream": "stdout",
       "text": [
        "\r",
        "Computed features for frame 189 of 1208 in 0.108271121979"
       ]
      },
      {
       "output_type": "stream",
       "stream": "stdout",
       "text": [
        "\r",
        "Computed features for frame 190 of 1208 in 0.115141153336"
       ]
      },
      {
       "output_type": "stream",
       "stream": "stdout",
       "text": [
        "\r",
        "Computed features for frame 191 of 1208 in 0.118384122849"
       ]
      },
      {
       "output_type": "stream",
       "stream": "stdout",
       "text": [
        "\r",
        "Computed features for frame 192 of 1208 in 0.106164932251"
       ]
      },
      {
       "output_type": "stream",
       "stream": "stdout",
       "text": [
        "\r",
        "Computed features for frame 193 of 1208 in 0.105736017227"
       ]
      },
      {
       "output_type": "stream",
       "stream": "stdout",
       "text": [
        "\r",
        "Computed features for frame 194 of 1208 in 0.105736970901"
       ]
      },
      {
       "output_type": "stream",
       "stream": "stdout",
       "text": [
        "\r",
        "Computed features for frame 195 of 1208 in 0.107935905457"
       ]
      },
      {
       "output_type": "stream",
       "stream": "stdout",
       "text": [
        "\r",
        "Computed features for frame 196 of 1208 in 0.108368873596"
       ]
      },
      {
       "output_type": "stream",
       "stream": "stdout",
       "text": [
        "\r",
        "Computed features for frame 197 of 1208 in 0.107003927231"
       ]
      },
      {
       "output_type": "stream",
       "stream": "stdout",
       "text": [
        "\r",
        "Computed features for frame 198 of 1208 in 0.103842020035"
       ]
      },
      {
       "output_type": "stream",
       "stream": "stdout",
       "text": [
        "\r",
        "Computed features for frame 199 of 1208 in 0.108141183853"
       ]
      },
      {
       "output_type": "stream",
       "stream": "stdout",
       "text": [
        "\r",
        "Computed features for frame 200 of 1208 in 0.12553191185"
       ]
      },
      {
       "output_type": "stream",
       "stream": "stdout",
       "text": [
        "\r",
        "Computed features for frame 201 of 1208 in 0.109896183014"
       ]
      },
      {
       "output_type": "stream",
       "stream": "stdout",
       "text": [
        "\r",
        "Computed features for frame 202 of 1208 in 0.10734295845"
       ]
      },
      {
       "output_type": "stream",
       "stream": "stdout",
       "text": [
        "\r",
        "Computed features for frame 203 of 1208 in 0.107211112976"
       ]
      },
      {
       "output_type": "stream",
       "stream": "stdout",
       "text": [
        "\r",
        "Computed features for frame 204 of 1208 in 0.109267950058"
       ]
      },
      {
       "output_type": "stream",
       "stream": "stdout",
       "text": [
        "\r",
        "Computed features for frame 205 of 1208 in 0.121484041214"
       ]
      },
      {
       "output_type": "stream",
       "stream": "stdout",
       "text": [
        "\r",
        "Computed features for frame 206 of 1208 in 0.108359098434"
       ]
      },
      {
       "output_type": "stream",
       "stream": "stdout",
       "text": [
        "\r",
        "Computed features for frame 207 of 1208 in 0.109287023544"
       ]
      },
      {
       "output_type": "stream",
       "stream": "stdout",
       "text": [
        "\r",
        "Computed features for frame 208 of 1208 in 0.123131990433"
       ]
      },
      {
       "output_type": "stream",
       "stream": "stdout",
       "text": [
        "\r",
        "Computed features for frame 209 of 1208 in 0.114910125732"
       ]
      },
      {
       "output_type": "stream",
       "stream": "stdout",
       "text": [
        "\r",
        "Computed features for frame 210 of 1208 in 0.108559131622"
       ]
      },
      {
       "output_type": "stream",
       "stream": "stdout",
       "text": [
        "\r",
        "Computed features for frame 211 of 1208 in 0.109302997589"
       ]
      },
      {
       "output_type": "stream",
       "stream": "stdout",
       "text": [
        "\r",
        "Computed features for frame 212 of 1208 in 0.107992887497"
       ]
      },
      {
       "output_type": "stream",
       "stream": "stdout",
       "text": [
        "\r",
        "Computed features for frame 213 of 1208 in 0.110350847244"
       ]
      },
      {
       "output_type": "stream",
       "stream": "stdout",
       "text": [
        "\r",
        "Computed features for frame 214 of 1208 in 0.117224931717"
       ]
      },
      {
       "output_type": "stream",
       "stream": "stdout",
       "text": [
        "\r",
        "Computed features for frame 215 of 1208 in 0.110961198807"
       ]
      },
      {
       "output_type": "stream",
       "stream": "stdout",
       "text": [
        "\r",
        "Computed features for frame 216 of 1208 in 0.118665933609"
       ]
      },
      {
       "output_type": "stream",
       "stream": "stdout",
       "text": [
        "\r",
        "Computed features for frame 217 of 1208 in 0.116222858429"
       ]
      },
      {
       "output_type": "stream",
       "stream": "stdout",
       "text": [
        "\r",
        "Computed features for frame 218 of 1208 in 0.122333049774"
       ]
      },
      {
       "output_type": "stream",
       "stream": "stdout",
       "text": [
        "\r",
        "Computed features for frame 219 of 1208 in 0.108783960342"
       ]
      },
      {
       "output_type": "stream",
       "stream": "stdout",
       "text": [
        "\r",
        "Computed features for frame 220 of 1208 in 0.109230995178"
       ]
      },
      {
       "output_type": "stream",
       "stream": "stdout",
       "text": [
        "\r",
        "Computed features for frame 221 of 1208 in 0.110081911087"
       ]
      },
      {
       "output_type": "stream",
       "stream": "stdout",
       "text": [
        "\r",
        "Computed features for frame 222 of 1208 in 0.117597103119"
       ]
      },
      {
       "output_type": "stream",
       "stream": "stdout",
       "text": [
        "\r",
        "Computed features for frame 223 of 1208 in 0.11242389679"
       ]
      },
      {
       "output_type": "stream",
       "stream": "stdout",
       "text": [
        "\r",
        "Computed features for frame 224 of 1208 in 0.109118938446"
       ]
      },
      {
       "output_type": "stream",
       "stream": "stdout",
       "text": [
        "\r",
        "Computed features for frame 225 of 1208 in 0.109616041183"
       ]
      },
      {
       "output_type": "stream",
       "stream": "stdout",
       "text": [
        "\r",
        "Computed features for frame 226 of 1208 in 0.113125085831"
       ]
      },
      {
       "output_type": "stream",
       "stream": "stdout",
       "text": [
        "\r",
        "Computed features for frame 227 of 1208 in 0.114099025726"
       ]
      },
      {
       "output_type": "stream",
       "stream": "stdout",
       "text": [
        "\r",
        "Computed features for frame 228 of 1208 in 0.109391212463"
       ]
      },
      {
       "output_type": "stream",
       "stream": "stdout",
       "text": [
        "\r",
        "Computed features for frame 229 of 1208 in 0.105310916901"
       ]
      },
      {
       "output_type": "stream",
       "stream": "stdout",
       "text": [
        "\r",
        "Computed features for frame 230 of 1208 in 0.108681917191"
       ]
      },
      {
       "output_type": "stream",
       "stream": "stdout",
       "text": [
        "\r",
        "Computed features for frame 231 of 1208 in 0.109903097153"
       ]
      },
      {
       "output_type": "stream",
       "stream": "stdout",
       "text": [
        "\r",
        "Computed features for frame 232 of 1208 in 0.114075899124"
       ]
      },
      {
       "output_type": "stream",
       "stream": "stdout",
       "text": [
        "\r",
        "Computed features for frame 233 of 1208 in 0.110188961029"
       ]
      },
      {
       "output_type": "stream",
       "stream": "stdout",
       "text": [
        "\r",
        "Computed features for frame 234 of 1208 in 0.132076025009"
       ]
      },
      {
       "output_type": "stream",
       "stream": "stdout",
       "text": [
        "\r",
        "Computed features for frame 235 of 1208 in 0.116211175919"
       ]
      },
      {
       "output_type": "stream",
       "stream": "stdout",
       "text": [
        "\r",
        "Computed features for frame 236 of 1208 in 0.119116067886"
       ]
      },
      {
       "output_type": "stream",
       "stream": "stdout",
       "text": [
        "\r",
        "Computed features for frame 237 of 1208 in 0.10725903511"
       ]
      },
      {
       "output_type": "stream",
       "stream": "stdout",
       "text": [
        "\r",
        "Computed features for frame 238 of 1208 in 0.1069419384"
       ]
      },
      {
       "output_type": "stream",
       "stream": "stdout",
       "text": [
        "\r",
        "Computed features for frame 239 of 1208 in 0.109519004822"
       ]
      },
      {
       "output_type": "stream",
       "stream": "stdout",
       "text": [
        "\r",
        "Computed features for frame 240 of 1208 in 0.108579158783"
       ]
      },
      {
       "output_type": "stream",
       "stream": "stdout",
       "text": [
        "\r",
        "Computed features for frame 241 of 1208 in 0.108319997787"
       ]
      },
      {
       "output_type": "stream",
       "stream": "stdout",
       "text": [
        "\r",
        "Computed features for frame 242 of 1208 in 0.10638999939"
       ]
      },
      {
       "output_type": "stream",
       "stream": "stdout",
       "text": [
        "\r",
        "Computed features for frame 243 of 1208 in 0.129096031189"
       ]
      },
      {
       "output_type": "stream",
       "stream": "stdout",
       "text": [
        "\r",
        "Computed features for frame 244 of 1208 in 0.115577220917"
       ]
      },
      {
       "output_type": "stream",
       "stream": "stdout",
       "text": [
        "\r",
        "Computed features for frame 245 of 1208 in 0.109307050705"
       ]
      },
      {
       "output_type": "stream",
       "stream": "stdout",
       "text": [
        "\r",
        "Computed features for frame 246 of 1208 in 0.10564994812"
       ]
      },
      {
       "output_type": "stream",
       "stream": "stdout",
       "text": [
        "\r",
        "Computed features for frame 247 of 1208 in 0.10866689682"
       ]
      },
      {
       "output_type": "stream",
       "stream": "stdout",
       "text": [
        "\r",
        "Computed features for frame 248 of 1208 in 0.105679988861"
       ]
      },
      {
       "output_type": "stream",
       "stream": "stdout",
       "text": [
        "\r",
        "Computed features for frame 249 of 1208 in 0.107795953751"
       ]
      },
      {
       "output_type": "stream",
       "stream": "stdout",
       "text": [
        "\r",
        "Computed features for frame 250 of 1208 in 0.108695030212"
       ]
      },
      {
       "output_type": "stream",
       "stream": "stdout",
       "text": [
        "\r",
        "Computed features for frame 251 of 1208 in 0.105746030807"
       ]
      },
      {
       "output_type": "stream",
       "stream": "stdout",
       "text": [
        "\r",
        "Computed features for frame 252 of 1208 in 0.105080842972"
       ]
      },
      {
       "output_type": "stream",
       "stream": "stdout",
       "text": [
        "\r",
        "Computed features for frame 253 of 1208 in 0.110352039337"
       ]
      },
      {
       "output_type": "stream",
       "stream": "stdout",
       "text": [
        "\r",
        "Computed features for frame 254 of 1208 in 0.109894990921"
       ]
      },
      {
       "output_type": "stream",
       "stream": "stdout",
       "text": [
        "\r",
        "Computed features for frame 255 of 1208 in 0.107264041901"
       ]
      },
      {
       "output_type": "stream",
       "stream": "stdout",
       "text": [
        "\r",
        "Computed features for frame 256 of 1208 in 0.106400966644"
       ]
      },
      {
       "output_type": "stream",
       "stream": "stdout",
       "text": [
        "\r",
        "Computed features for frame 257 of 1208 in 0.109175920486"
       ]
      },
      {
       "output_type": "stream",
       "stream": "stdout",
       "text": [
        "\r",
        "Computed features for frame 258 of 1208 in 0.11172413826"
       ]
      },
      {
       "output_type": "stream",
       "stream": "stdout",
       "text": [
        "\r",
        "Computed features for frame 259 of 1208 in 0.116185903549"
       ]
      },
      {
       "output_type": "stream",
       "stream": "stdout",
       "text": [
        "\r",
        "Computed features for frame 260 of 1208 in 0.10887503624"
       ]
      },
      {
       "output_type": "stream",
       "stream": "stdout",
       "text": [
        "\r",
        "Computed features for frame 261 of 1208 in 0.133212804794"
       ]
      },
      {
       "output_type": "stream",
       "stream": "stdout",
       "text": [
        "\r",
        "Computed features for frame 262 of 1208 in 0.111347913742"
       ]
      },
      {
       "output_type": "stream",
       "stream": "stdout",
       "text": [
        "\r",
        "Computed features for frame 263 of 1208 in 0.126368045807"
       ]
      },
      {
       "output_type": "stream",
       "stream": "stdout",
       "text": [
        "\r",
        "Computed features for frame 264 of 1208 in 0.11408996582"
       ]
      },
      {
       "output_type": "stream",
       "stream": "stdout",
       "text": [
        "\r",
        "Computed features for frame 265 of 1208 in 0.124526977539"
       ]
      },
      {
       "output_type": "stream",
       "stream": "stdout",
       "text": [
        "\r",
        "Computed features for frame 266 of 1208 in 0.109956026077"
       ]
      },
      {
       "output_type": "stream",
       "stream": "stdout",
       "text": [
        "\r",
        "Computed features for frame 267 of 1208 in 0.106982946396"
       ]
      },
      {
       "output_type": "stream",
       "stream": "stdout",
       "text": [
        "\r",
        "Computed features for frame 268 of 1208 in 0.112326860428"
       ]
      },
      {
       "output_type": "stream",
       "stream": "stdout",
       "text": [
        "\r",
        "Computed features for frame 269 of 1208 in 0.119171142578"
       ]
      },
      {
       "output_type": "stream",
       "stream": "stdout",
       "text": [
        "\r",
        "Computed features for frame 270 of 1208 in 0.124516010284"
       ]
      },
      {
       "output_type": "stream",
       "stream": "stdout",
       "text": [
        "\r",
        "Computed features for frame 271 of 1208 in 0.119481086731"
       ]
      },
      {
       "output_type": "stream",
       "stream": "stdout",
       "text": [
        "\r",
        "Computed features for frame 272 of 1208 in 0.114974021912"
       ]
      },
      {
       "output_type": "stream",
       "stream": "stdout",
       "text": [
        "\r",
        "Computed features for frame 273 of 1208 in 0.109345912933"
       ]
      },
      {
       "output_type": "stream",
       "stream": "stdout",
       "text": [
        "\r",
        "Computed features for frame 274 of 1208 in 0.109607934952"
       ]
      },
      {
       "output_type": "stream",
       "stream": "stdout",
       "text": [
        "\r",
        "Computed features for frame 275 of 1208 in 0.124361038208"
       ]
      },
      {
       "output_type": "stream",
       "stream": "stdout",
       "text": [
        "\r",
        "Computed features for frame 276 of 1208 in 0.11231303215"
       ]
      },
      {
       "output_type": "stream",
       "stream": "stdout",
       "text": [
        "\r",
        "Computed features for frame 277 of 1208 in 0.11786198616"
       ]
      },
      {
       "output_type": "stream",
       "stream": "stdout",
       "text": [
        "\r",
        "Computed features for frame 278 of 1208 in 0.10795712471"
       ]
      },
      {
       "output_type": "stream",
       "stream": "stdout",
       "text": [
        "\r",
        "Computed features for frame 279 of 1208 in 0.108337879181"
       ]
      },
      {
       "output_type": "stream",
       "stream": "stdout",
       "text": [
        "\r",
        "Computed features for frame 280 of 1208 in 0.110716104507"
       ]
      },
      {
       "output_type": "stream",
       "stream": "stdout",
       "text": [
        "\r",
        "Computed features for frame 281 of 1208 in 0.112313985825"
       ]
      },
      {
       "output_type": "stream",
       "stream": "stdout",
       "text": [
        "\r",
        "Computed features for frame 282 of 1208 in 0.109498977661"
       ]
      },
      {
       "output_type": "stream",
       "stream": "stdout",
       "text": [
        "\r",
        "Computed features for frame 283 of 1208 in 0.105838060379"
       ]
      },
      {
       "output_type": "stream",
       "stream": "stdout",
       "text": [
        "\r",
        "Computed features for frame 284 of 1208 in 0.106772184372"
       ]
      },
      {
       "output_type": "stream",
       "stream": "stdout",
       "text": [
        "\r",
        "Computed features for frame 285 of 1208 in 0.121479034424"
       ]
      },
      {
       "output_type": "stream",
       "stream": "stdout",
       "text": [
        "\r",
        "Computed features for frame 286 of 1208 in 0.106930971146"
       ]
      },
      {
       "output_type": "stream",
       "stream": "stdout",
       "text": [
        "\r",
        "Computed features for frame 287 of 1208 in 0.131318807602"
       ]
      },
      {
       "output_type": "stream",
       "stream": "stdout",
       "text": [
        "\r",
        "Computed features for frame 288 of 1208 in 0.111647844315"
       ]
      },
      {
       "output_type": "stream",
       "stream": "stdout",
       "text": [
        "\r",
        "Computed features for frame 289 of 1208 in 0.106872081757"
       ]
      },
      {
       "output_type": "stream",
       "stream": "stdout",
       "text": [
        "\r",
        "Computed features for frame 290 of 1208 in 0.107034921646"
       ]
      },
      {
       "output_type": "stream",
       "stream": "stdout",
       "text": [
        "\r",
        "Computed features for frame 291 of 1208 in 0.107069015503"
       ]
      },
      {
       "output_type": "stream",
       "stream": "stdout",
       "text": [
        "\r",
        "Computed features for frame 292 of 1208 in 0.108462095261"
       ]
      },
      {
       "output_type": "stream",
       "stream": "stdout",
       "text": [
        "\r",
        "Computed features for frame 293 of 1208 in 0.105679035187"
       ]
      },
      {
       "output_type": "stream",
       "stream": "stdout",
       "text": [
        "\r",
        "Computed features for frame 294 of 1208 in 0.110049962997"
       ]
      },
      {
       "output_type": "stream",
       "stream": "stdout",
       "text": [
        "\r",
        "Computed features for frame 295 of 1208 in 0.107531070709"
       ]
      },
      {
       "output_type": "stream",
       "stream": "stdout",
       "text": [
        "\r",
        "Computed features for frame 296 of 1208 in 0.109033107758"
       ]
      },
      {
       "output_type": "stream",
       "stream": "stdout",
       "text": [
        "\r",
        "Computed features for frame 297 of 1208 in 0.108406066895"
       ]
      },
      {
       "output_type": "stream",
       "stream": "stdout",
       "text": [
        "\r",
        "Computed features for frame 298 of 1208 in 0.110322952271"
       ]
      },
      {
       "output_type": "stream",
       "stream": "stdout",
       "text": [
        "\r",
        "Computed features for frame 299 of 1208 in 0.108248949051"
       ]
      },
      {
       "output_type": "stream",
       "stream": "stdout",
       "text": [
        "\r",
        "Computed features for frame 300 of 1208 in 0.109129190445"
       ]
      },
      {
       "output_type": "stream",
       "stream": "stdout",
       "text": [
        "\r",
        "Computed features for frame 301 of 1208 in 0.110853910446"
       ]
      },
      {
       "output_type": "stream",
       "stream": "stdout",
       "text": [
        "\r",
        "Computed features for frame 302 of 1208 in 0.108972072601"
       ]
      },
      {
       "output_type": "stream",
       "stream": "stdout",
       "text": [
        "\r",
        "Computed features for frame 303 of 1208 in 0.10991692543"
       ]
      },
      {
       "output_type": "stream",
       "stream": "stdout",
       "text": [
        "\r",
        "Computed features for frame 304 of 1208 in 0.108118057251"
       ]
      },
      {
       "output_type": "stream",
       "stream": "stdout",
       "text": [
        "\r",
        "Computed features for frame 305 of 1208 in 0.108201980591"
       ]
      },
      {
       "output_type": "stream",
       "stream": "stdout",
       "text": [
        "\r",
        "Computed features for frame 306 of 1208 in 0.106285095215"
       ]
      },
      {
       "output_type": "stream",
       "stream": "stdout",
       "text": [
        "\r",
        "Computed features for frame 307 of 1208 in 0.109334945679"
       ]
      },
      {
       "output_type": "stream",
       "stream": "stdout",
       "text": [
        "\r",
        "Computed features for frame 308 of 1208 in 0.111230134964"
       ]
      },
      {
       "output_type": "stream",
       "stream": "stdout",
       "text": [
        "\r",
        "Computed features for frame 309 of 1208 in 0.108471870422"
       ]
      },
      {
       "output_type": "stream",
       "stream": "stdout",
       "text": [
        "\r",
        "Computed features for frame 310 of 1208 in 0.107026815414"
       ]
      },
      {
       "output_type": "stream",
       "stream": "stdout",
       "text": [
        "\r",
        "Computed features for frame 311 of 1208 in 0.108222007751"
       ]
      },
      {
       "output_type": "stream",
       "stream": "stdout",
       "text": [
        "\r",
        "Computed features for frame 312 of 1208 in 0.11235499382"
       ]
      },
      {
       "output_type": "stream",
       "stream": "stdout",
       "text": [
        "\r",
        "Computed features for frame 313 of 1208 in 0.107558965683"
       ]
      },
      {
       "output_type": "stream",
       "stream": "stdout",
       "text": [
        "\r",
        "Computed features for frame 314 of 1208 in 0.105961084366"
       ]
      },
      {
       "output_type": "stream",
       "stream": "stdout",
       "text": [
        "\r",
        "Computed features for frame 315 of 1208 in 0.110627889633"
       ]
      },
      {
       "output_type": "stream",
       "stream": "stdout",
       "text": [
        "\r",
        "Computed features for frame 316 of 1208 in 0.108085870743"
       ]
      },
      {
       "output_type": "stream",
       "stream": "stdout",
       "text": [
        "\r",
        "Computed features for frame 317 of 1208 in 0.108212947845"
       ]
      },
      {
       "output_type": "stream",
       "stream": "stdout",
       "text": [
        "\r",
        "Computed features for frame 318 of 1208 in 0.110714912415"
       ]
      },
      {
       "output_type": "stream",
       "stream": "stdout",
       "text": [
        "\r",
        "Computed features for frame 319 of 1208 in 0.106366872787"
       ]
      },
      {
       "output_type": "stream",
       "stream": "stdout",
       "text": [
        "\r",
        "Computed features for frame 320 of 1208 in 0.107583999634"
       ]
      },
      {
       "output_type": "stream",
       "stream": "stdout",
       "text": [
        "\r",
        "Computed features for frame 321 of 1208 in 0.109143018723"
       ]
      },
      {
       "output_type": "stream",
       "stream": "stdout",
       "text": [
        "\r",
        "Computed features for frame 322 of 1208 in 0.108237028122"
       ]
      },
      {
       "output_type": "stream",
       "stream": "stdout",
       "text": [
        "\r",
        "Computed features for frame 323 of 1208 in 0.109750032425"
       ]
      },
      {
       "output_type": "stream",
       "stream": "stdout",
       "text": [
        "\r",
        "Computed features for frame 324 of 1208 in 0.129702806473"
       ]
      },
      {
       "output_type": "stream",
       "stream": "stdout",
       "text": [
        "\r",
        "Computed features for frame 325 of 1208 in 0.106036186218"
       ]
      },
      {
       "output_type": "stream",
       "stream": "stdout",
       "text": [
        "\r",
        "Computed features for frame 326 of 1208 in 0.11417388916"
       ]
      },
      {
       "output_type": "stream",
       "stream": "stdout",
       "text": [
        "\r",
        "Computed features for frame 327 of 1208 in 0.107537031174"
       ]
      },
      {
       "output_type": "stream",
       "stream": "stdout",
       "text": [
        "\r",
        "Computed features for frame 328 of 1208 in 0.106666088104"
       ]
      },
      {
       "output_type": "stream",
       "stream": "stdout",
       "text": [
        "\r",
        "Computed features for frame 329 of 1208 in 0.109235048294"
       ]
      },
      {
       "output_type": "stream",
       "stream": "stdout",
       "text": [
        "\r",
        "Computed features for frame 330 of 1208 in 0.108702898026"
       ]
      },
      {
       "output_type": "stream",
       "stream": "stdout",
       "text": [
        "\r",
        "Computed features for frame 331 of 1208 in 0.108387947083"
       ]
      },
      {
       "output_type": "stream",
       "stream": "stdout",
       "text": [
        "\r",
        "Computed features for frame 332 of 1208 in 0.10755109787"
       ]
      },
      {
       "output_type": "stream",
       "stream": "stdout",
       "text": [
        "\r",
        "Computed features for frame 333 of 1208 in 0.11102604866"
       ]
      },
      {
       "output_type": "stream",
       "stream": "stdout",
       "text": [
        "\r",
        "Computed features for frame 334 of 1208 in 0.108874797821"
       ]
      },
      {
       "output_type": "stream",
       "stream": "stdout",
       "text": [
        "\r",
        "Computed features for frame 335 of 1208 in 0.108529090881"
       ]
      },
      {
       "output_type": "stream",
       "stream": "stdout",
       "text": [
        "\r",
        "Computed features for frame 336 of 1208 in 0.106672048569"
       ]
      },
      {
       "output_type": "stream",
       "stream": "stdout",
       "text": [
        "\r",
        "Computed features for frame 337 of 1208 in 0.111819982529"
       ]
      },
      {
       "output_type": "stream",
       "stream": "stdout",
       "text": [
        "\r",
        "Computed features for frame 338 of 1208 in 0.106376171112"
       ]
      },
      {
       "output_type": "stream",
       "stream": "stdout",
       "text": [
        "\r",
        "Computed features for frame 339 of 1208 in 0.108497858047"
       ]
      },
      {
       "output_type": "stream",
       "stream": "stdout",
       "text": [
        "\r",
        "Computed features for frame 340 of 1208 in 0.113151073456"
       ]
      },
      {
       "output_type": "stream",
       "stream": "stdout",
       "text": [
        "\r",
        "Computed features for frame 341 of 1208 in 0.11017203331"
       ]
      },
      {
       "output_type": "stream",
       "stream": "stdout",
       "text": [
        "\r",
        "Computed features for frame 342 of 1208 in 0.11260008812"
       ]
      },
      {
       "output_type": "stream",
       "stream": "stdout",
       "text": [
        "\r",
        "Computed features for frame 343 of 1208 in 0.108109951019"
       ]
      },
      {
       "output_type": "stream",
       "stream": "stdout",
       "text": [
        "\r",
        "Computed features for frame 344 of 1208 in 0.108124017715"
       ]
      },
      {
       "output_type": "stream",
       "stream": "stdout",
       "text": [
        "\r",
        "Computed features for frame 345 of 1208 in 0.109084129333"
       ]
      },
      {
       "output_type": "stream",
       "stream": "stdout",
       "text": [
        "\r",
        "Computed features for frame 346 of 1208 in 0.110503911972"
       ]
      },
      {
       "output_type": "stream",
       "stream": "stdout",
       "text": [
        "\r",
        "Computed features for frame 347 of 1208 in 0.110149145126"
       ]
      },
      {
       "output_type": "stream",
       "stream": "stdout",
       "text": [
        "\r",
        "Computed features for frame 348 of 1208 in 0.1098549366"
       ]
      },
      {
       "output_type": "stream",
       "stream": "stdout",
       "text": [
        "\r",
        "Computed features for frame 349 of 1208 in 0.111658096313"
       ]
      },
      {
       "output_type": "stream",
       "stream": "stdout",
       "text": [
        "\r",
        "Computed features for frame 350 of 1208 in 0.110691070557"
       ]
      },
      {
       "output_type": "stream",
       "stream": "stdout",
       "text": [
        "\r",
        "Computed features for frame 351 of 1208 in 0.109842061996"
       ]
      },
      {
       "output_type": "stream",
       "stream": "stdout",
       "text": [
        "\r",
        "Computed features for frame 352 of 1208 in 0.108872890472"
       ]
      },
      {
       "output_type": "stream",
       "stream": "stdout",
       "text": [
        "\r",
        "Computed features for frame 353 of 1208 in 0.105625152588"
       ]
      },
      {
       "output_type": "stream",
       "stream": "stdout",
       "text": [
        "\r",
        "Computed features for frame 354 of 1208 in 0.107152938843"
       ]
      },
      {
       "output_type": "stream",
       "stream": "stdout",
       "text": [
        "\r",
        "Computed features for frame 355 of 1208 in 0.109410047531"
       ]
      },
      {
       "output_type": "stream",
       "stream": "stdout",
       "text": [
        "\r",
        "Computed features for frame 356 of 1208 in 0.110008001328"
       ]
      },
      {
       "output_type": "stream",
       "stream": "stdout",
       "text": [
        "\r",
        "Computed features for frame 357 of 1208 in 0.106803178787"
       ]
      },
      {
       "output_type": "stream",
       "stream": "stdout",
       "text": [
        "\r",
        "Computed features for frame 358 of 1208 in 0.108007907867"
       ]
      },
      {
       "output_type": "stream",
       "stream": "stdout",
       "text": [
        "\r",
        "Computed features for frame 359 of 1208 in 0.106000185013"
       ]
      },
      {
       "output_type": "stream",
       "stream": "stdout",
       "text": [
        "\r",
        "Computed features for frame 360 of 1208 in 0.107172012329"
       ]
      },
      {
       "output_type": "stream",
       "stream": "stdout",
       "text": [
        "\r",
        "Computed features for frame 361 of 1208 in 0.108497142792"
       ]
      },
      {
       "output_type": "stream",
       "stream": "stdout",
       "text": [
        "\r",
        "Computed features for frame 362 of 1208 in 0.107033967972"
       ]
      },
      {
       "output_type": "stream",
       "stream": "stdout",
       "text": [
        "\r",
        "Computed features for frame 363 of 1208 in 0.107858181"
       ]
      },
      {
       "output_type": "stream",
       "stream": "stdout",
       "text": [
        "\r",
        "Computed features for frame 364 of 1208 in 0.109128952026"
       ]
      },
      {
       "output_type": "stream",
       "stream": "stdout",
       "text": [
        "\r",
        "Computed features for frame 365 of 1208 in 0.109222888947"
       ]
      },
      {
       "output_type": "stream",
       "stream": "stdout",
       "text": [
        "\r",
        "Computed features for frame 366 of 1208 in 0.111590147018"
       ]
      },
      {
       "output_type": "stream",
       "stream": "stdout",
       "text": [
        "\r",
        "Computed features for frame 367 of 1208 in 0.116482019424"
       ]
      },
      {
       "output_type": "stream",
       "stream": "stdout",
       "text": [
        "\r",
        "Computed features for frame 368 of 1208 in 0.11021900177"
       ]
      },
      {
       "output_type": "stream",
       "stream": "stdout",
       "text": [
        "\r",
        "Computed features for frame 369 of 1208 in 0.109801054001"
       ]
      },
      {
       "output_type": "stream",
       "stream": "stdout",
       "text": [
        "\r",
        "Computed features for frame 370 of 1208 in 0.109889984131"
       ]
      },
      {
       "output_type": "stream",
       "stream": "stdout",
       "text": [
        "\r",
        "Computed features for frame 371 of 1208 in 0.109487056732"
       ]
      },
      {
       "output_type": "stream",
       "stream": "stdout",
       "text": [
        "\r",
        "Computed features for frame 372 of 1208 in 0.109467029572"
       ]
      },
      {
       "output_type": "stream",
       "stream": "stdout",
       "text": [
        "\r",
        "Computed features for frame 373 of 1208 in 0.110519170761"
       ]
      },
      {
       "output_type": "stream",
       "stream": "stdout",
       "text": [
        "\r",
        "Computed features for frame 374 of 1208 in 0.117229938507"
       ]
      },
      {
       "output_type": "stream",
       "stream": "stdout",
       "text": [
        "\r",
        "Computed features for frame 375 of 1208 in 0.108973026276"
       ]
      },
      {
       "output_type": "stream",
       "stream": "stdout",
       "text": [
        "\r",
        "Computed features for frame 376 of 1208 in 0.112294912338"
       ]
      },
      {
       "output_type": "stream",
       "stream": "stdout",
       "text": [
        "\r",
        "Computed features for frame 377 of 1208 in 0.112538099289"
       ]
      },
      {
       "output_type": "stream",
       "stream": "stdout",
       "text": [
        "\r",
        "Computed features for frame 378 of 1208 in 0.110704898834"
       ]
      },
      {
       "output_type": "stream",
       "stream": "stdout",
       "text": [
        "\r",
        "Computed features for frame 379 of 1208 in 0.111328840256"
       ]
      },
      {
       "output_type": "stream",
       "stream": "stdout",
       "text": [
        "\r",
        "Computed features for frame 380 of 1208 in 0.109467029572"
       ]
      },
      {
       "output_type": "stream",
       "stream": "stdout",
       "text": [
        "\r",
        "Computed features for frame 381 of 1208 in 0.1126101017"
       ]
      },
      {
       "output_type": "stream",
       "stream": "stdout",
       "text": [
        "\r",
        "Computed features for frame 382 of 1208 in 0.111162185669"
       ]
      },
      {
       "output_type": "stream",
       "stream": "stdout",
       "text": [
        "\r",
        "Computed features for frame 383 of 1208 in 0.109710216522"
       ]
      },
      {
       "output_type": "stream",
       "stream": "stdout",
       "text": [
        "\r",
        "Computed features for frame 384 of 1208 in 0.108061075211"
       ]
      },
      {
       "output_type": "stream",
       "stream": "stdout",
       "text": [
        "\r",
        "Computed features for frame 385 of 1208 in 0.108505964279"
       ]
      },
      {
       "output_type": "stream",
       "stream": "stdout",
       "text": [
        "\r",
        "Computed features for frame 386 of 1208 in 0.109668016434"
       ]
      },
      {
       "output_type": "stream",
       "stream": "stdout",
       "text": [
        "\r",
        "Computed features for frame 387 of 1208 in 0.115186929703"
       ]
      },
      {
       "output_type": "stream",
       "stream": "stdout",
       "text": [
        "\r",
        "Computed features for frame 388 of 1208 in 0.116307020187"
       ]
      },
      {
       "output_type": "stream",
       "stream": "stdout",
       "text": [
        "\r",
        "Computed features for frame 389 of 1208 in 0.110106945038"
       ]
      },
      {
       "output_type": "stream",
       "stream": "stdout",
       "text": [
        "\r",
        "Computed features for frame 390 of 1208 in 0.105989933014"
       ]
      },
      {
       "output_type": "stream",
       "stream": "stdout",
       "text": [
        "\r",
        "Computed features for frame 391 of 1208 in 0.104160785675"
       ]
      },
      {
       "output_type": "stream",
       "stream": "stdout",
       "text": [
        "\r",
        "Computed features for frame 392 of 1208 in 0.108593940735"
       ]
      },
      {
       "output_type": "stream",
       "stream": "stdout",
       "text": [
        "\r",
        "Computed features for frame 393 of 1208 in 0.107816934586"
       ]
      },
      {
       "output_type": "stream",
       "stream": "stdout",
       "text": [
        "\r",
        "Computed features for frame 394 of 1208 in 0.114421129227"
       ]
      },
      {
       "output_type": "stream",
       "stream": "stdout",
       "text": [
        "\r",
        "Computed features for frame 395 of 1208 in 0.105594873428"
       ]
      },
      {
       "output_type": "stream",
       "stream": "stdout",
       "text": [
        "\r",
        "Computed features for frame 396 of 1208 in 0.106770992279"
       ]
      },
      {
       "output_type": "stream",
       "stream": "stdout",
       "text": [
        "\r",
        "Computed features for frame 397 of 1208 in 0.108282089233"
       ]
      },
      {
       "output_type": "stream",
       "stream": "stdout",
       "text": [
        "\r",
        "Computed features for frame 398 of 1208 in 0.107373952866"
       ]
      },
      {
       "output_type": "stream",
       "stream": "stdout",
       "text": [
        "\r",
        "Computed features for frame 399 of 1208 in 0.109559059143"
       ]
      },
      {
       "output_type": "stream",
       "stream": "stdout",
       "text": [
        "\r",
        "Computed features for frame 400 of 1208 in 0.125660896301"
       ]
      },
      {
       "output_type": "stream",
       "stream": "stdout",
       "text": [
        "\r",
        "Computed features for frame 401 of 1208 in 0.106508016586"
       ]
      },
      {
       "output_type": "stream",
       "stream": "stdout",
       "text": [
        "\r",
        "Computed features for frame 402 of 1208 in 0.117186069489"
       ]
      },
      {
       "output_type": "stream",
       "stream": "stdout",
       "text": [
        "\r",
        "Computed features for frame 403 of 1208 in 0.109266042709"
       ]
      },
      {
       "output_type": "stream",
       "stream": "stdout",
       "text": [
        "\r",
        "Computed features for frame 404 of 1208 in 0.106999158859"
       ]
      },
      {
       "output_type": "stream",
       "stream": "stdout",
       "text": [
        "\r",
        "Computed features for frame 405 of 1208 in 0.113698959351"
       ]
      },
      {
       "output_type": "stream",
       "stream": "stdout",
       "text": [
        "\r",
        "Computed features for frame 406 of 1208 in 0.106801986694"
       ]
      },
      {
       "output_type": "stream",
       "stream": "stdout",
       "text": [
        "\r",
        "Computed features for frame 407 of 1208 in 0.108757972717"
       ]
      },
      {
       "output_type": "stream",
       "stream": "stdout",
       "text": [
        "\r",
        "Computed features for frame 408 of 1208 in 0.115612030029"
       ]
      },
      {
       "output_type": "stream",
       "stream": "stdout",
       "text": [
        "\r",
        "Computed features for frame 409 of 1208 in 0.109082937241"
       ]
      },
      {
       "output_type": "stream",
       "stream": "stdout",
       "text": [
        "\r",
        "Computed features for frame 410 of 1208 in 0.113390922546"
       ]
      },
      {
       "output_type": "stream",
       "stream": "stdout",
       "text": [
        "\r",
        "Computed features for frame 411 of 1208 in 0.109470129013"
       ]
      },
      {
       "output_type": "stream",
       "stream": "stdout",
       "text": [
        "\r",
        "Computed features for frame 412 of 1208 in 0.109525918961"
       ]
      },
      {
       "output_type": "stream",
       "stream": "stdout",
       "text": [
        "\r",
        "Computed features for frame 413 of 1208 in 0.113651037216"
       ]
      },
      {
       "output_type": "stream",
       "stream": "stdout",
       "text": [
        "\r",
        "Computed features for frame 414 of 1208 in 0.113955020905"
       ]
      },
      {
       "output_type": "stream",
       "stream": "stdout",
       "text": [
        "\r",
        "Computed features for frame 415 of 1208 in 0.106660842896"
       ]
      },
      {
       "output_type": "stream",
       "stream": "stdout",
       "text": [
        "\r",
        "Computed features for frame 416 of 1208 in 0.111643075943"
       ]
      },
      {
       "output_type": "stream",
       "stream": "stdout",
       "text": [
        "\r",
        "Computed features for frame 417 of 1208 in 0.107949018478"
       ]
      },
      {
       "output_type": "stream",
       "stream": "stdout",
       "text": [
        "\r",
        "Computed features for frame 418 of 1208 in 0.107553958893"
       ]
      },
      {
       "output_type": "stream",
       "stream": "stdout",
       "text": [
        "\r",
        "Computed features for frame 419 of 1208 in 0.11253118515"
       ]
      },
      {
       "output_type": "stream",
       "stream": "stdout",
       "text": [
        "\r",
        "Computed features for frame 420 of 1208 in 0.105032920837"
       ]
      },
      {
       "output_type": "stream",
       "stream": "stdout",
       "text": [
        "\r",
        "Computed features for frame 421 of 1208 in 0.107555866241"
       ]
      },
      {
       "output_type": "stream",
       "stream": "stdout",
       "text": [
        "\r",
        "Computed features for frame 422 of 1208 in 0.113515853882"
       ]
      },
      {
       "output_type": "stream",
       "stream": "stdout",
       "text": [
        "\r",
        "Computed features for frame 423 of 1208 in 0.107229948044"
       ]
      },
      {
       "output_type": "stream",
       "stream": "stdout",
       "text": [
        "\r",
        "Computed features for frame 424 of 1208 in 0.10595703125"
       ]
      },
      {
       "output_type": "stream",
       "stream": "stdout",
       "text": [
        "\r",
        "Computed features for frame 425 of 1208 in 0.108856201172"
       ]
      },
      {
       "output_type": "stream",
       "stream": "stdout",
       "text": [
        "\r",
        "Computed features for frame 426 of 1208 in 0.110316991806"
       ]
      },
      {
       "output_type": "stream",
       "stream": "stdout",
       "text": [
        "\r",
        "Computed features for frame 427 of 1208 in 0.112113952637"
       ]
      },
      {
       "output_type": "stream",
       "stream": "stdout",
       "text": [
        "\r",
        "Computed features for frame 428 of 1208 in 0.115015983582"
       ]
      },
      {
       "output_type": "stream",
       "stream": "stdout",
       "text": [
        "\r",
        "Computed features for frame 429 of 1208 in 0.106607913971"
       ]
      },
      {
       "output_type": "stream",
       "stream": "stdout",
       "text": [
        "\r",
        "Computed features for frame 430 of 1208 in 0.117566823959"
       ]
      },
      {
       "output_type": "stream",
       "stream": "stdout",
       "text": [
        "\r",
        "Computed features for frame 431 of 1208 in 0.130607128143"
       ]
      },
      {
       "output_type": "stream",
       "stream": "stdout",
       "text": [
        "\r",
        "Computed features for frame 432 of 1208 in 0.106731891632"
       ]
      },
      {
       "output_type": "stream",
       "stream": "stdout",
       "text": [
        "\r",
        "Computed features for frame 433 of 1208 in 0.111744880676"
       ]
      },
      {
       "output_type": "stream",
       "stream": "stdout",
       "text": [
        "\r",
        "Computed features for frame 434 of 1208 in 0.136030912399"
       ]
      },
      {
       "output_type": "stream",
       "stream": "stdout",
       "text": [
        "\r",
        "Computed features for frame 435 of 1208 in 0.150349140167"
       ]
      },
      {
       "output_type": "stream",
       "stream": "stdout",
       "text": [
        "\r",
        "Computed features for frame 436 of 1208 in 0.111461162567"
       ]
      },
      {
       "output_type": "stream",
       "stream": "stdout",
       "text": [
        "\r",
        "Computed features for frame 437 of 1208 in 0.106270074844"
       ]
      },
      {
       "output_type": "stream",
       "stream": "stdout",
       "text": [
        "\r",
        "Computed features for frame 438 of 1208 in 0.10891699791"
       ]
      },
      {
       "output_type": "stream",
       "stream": "stdout",
       "text": [
        "\r",
        "Computed features for frame 439 of 1208 in 0.114812850952"
       ]
      },
      {
       "output_type": "stream",
       "stream": "stdout",
       "text": [
        "\r",
        "Computed features for frame 440 of 1208 in 0.109516859055"
       ]
      },
      {
       "output_type": "stream",
       "stream": "stdout",
       "text": [
        "\r",
        "Computed features for frame 441 of 1208 in 0.118767976761"
       ]
      },
      {
       "output_type": "stream",
       "stream": "stdout",
       "text": [
        "\r",
        "Computed features for frame 442 of 1208 in 0.117730855942"
       ]
      },
      {
       "output_type": "stream",
       "stream": "stdout",
       "text": [
        "\r",
        "Computed features for frame 443 of 1208 in 0.108529090881"
       ]
      },
      {
       "output_type": "stream",
       "stream": "stdout",
       "text": [
        "\r",
        "Computed features for frame 444 of 1208 in 0.107897996902"
       ]
      },
      {
       "output_type": "stream",
       "stream": "stdout",
       "text": [
        "\r",
        "Computed features for frame 445 of 1208 in 0.105779886246"
       ]
      },
      {
       "output_type": "stream",
       "stream": "stdout",
       "text": [
        "\r",
        "Computed features for frame 446 of 1208 in 0.109862089157"
       ]
      },
      {
       "output_type": "stream",
       "stream": "stdout",
       "text": [
        "\r",
        "Computed features for frame 447 of 1208 in 0.110805034637"
       ]
      },
      {
       "output_type": "stream",
       "stream": "stdout",
       "text": [
        "\r",
        "Computed features for frame 448 of 1208 in 0.116098165512"
       ]
      },
      {
       "output_type": "stream",
       "stream": "stdout",
       "text": [
        "\r",
        "Computed features for frame 449 of 1208 in 0.10861492157"
       ]
      },
      {
       "output_type": "stream",
       "stream": "stdout",
       "text": [
        "\r",
        "Computed features for frame 450 of 1208 in 0.108957052231"
       ]
      },
      {
       "output_type": "stream",
       "stream": "stdout",
       "text": [
        "\r",
        "Computed features for frame 451 of 1208 in 0.110054016113"
       ]
      },
      {
       "output_type": "stream",
       "stream": "stdout",
       "text": [
        "\r",
        "Computed features for frame 452 of 1208 in 0.106683015823"
       ]
      },
      {
       "output_type": "stream",
       "stream": "stdout",
       "text": [
        "\r",
        "Computed features for frame 453 of 1208 in 0.105541944504"
       ]
      },
      {
       "output_type": "stream",
       "stream": "stdout",
       "text": [
        "\r",
        "Computed features for frame 454 of 1208 in 0.107247114182"
       ]
      },
      {
       "output_type": "stream",
       "stream": "stdout",
       "text": [
        "\r",
        "Computed features for frame 455 of 1208 in 0.116913080215"
       ]
      },
      {
       "output_type": "stream",
       "stream": "stdout",
       "text": [
        "\r",
        "Computed features for frame 456 of 1208 in 0.107455968857"
       ]
      },
      {
       "output_type": "stream",
       "stream": "stdout",
       "text": [
        "\r",
        "Computed features for frame 457 of 1208 in 0.107408046722"
       ]
      },
      {
       "output_type": "stream",
       "stream": "stdout",
       "text": [
        "\r",
        "Computed features for frame 458 of 1208 in 0.107596158981"
       ]
      },
      {
       "output_type": "stream",
       "stream": "stdout",
       "text": [
        "\r",
        "Computed features for frame 459 of 1208 in 0.114018917084"
       ]
      },
      {
       "output_type": "stream",
       "stream": "stdout",
       "text": [
        "\r",
        "Computed features for frame 460 of 1208 in 0.108623027802"
       ]
      },
      {
       "output_type": "stream",
       "stream": "stdout",
       "text": [
        "\r",
        "Computed features for frame 461 of 1208 in 0.111351966858"
       ]
      },
      {
       "output_type": "stream",
       "stream": "stdout",
       "text": [
        "\r",
        "Computed features for frame 462 of 1208 in 0.109880924225"
       ]
      },
      {
       "output_type": "stream",
       "stream": "stdout",
       "text": [
        "\r",
        "Computed features for frame 463 of 1208 in 0.111119031906"
       ]
      },
      {
       "output_type": "stream",
       "stream": "stdout",
       "text": [
        "\r",
        "Computed features for frame 464 of 1208 in 0.115949869156"
       ]
      },
      {
       "output_type": "stream",
       "stream": "stdout",
       "text": [
        "\r",
        "Computed features for frame 465 of 1208 in 0.106967926025"
       ]
      },
      {
       "output_type": "stream",
       "stream": "stdout",
       "text": [
        "\r",
        "Computed features for frame 466 of 1208 in 0.105692148209"
       ]
      },
      {
       "output_type": "stream",
       "stream": "stdout",
       "text": [
        "\r",
        "Computed features for frame 467 of 1208 in 0.105484962463"
       ]
      },
      {
       "output_type": "stream",
       "stream": "stdout",
       "text": [
        "\r",
        "Computed features for frame 468 of 1208 in 0.109876155853"
       ]
      },
      {
       "output_type": "stream",
       "stream": "stdout",
       "text": [
        "\r",
        "Computed features for frame 469 of 1208 in 0.126661062241"
       ]
      },
      {
       "output_type": "stream",
       "stream": "stdout",
       "text": [
        "\r",
        "Computed features for frame 470 of 1208 in 0.110357046127"
       ]
      },
      {
       "output_type": "stream",
       "stream": "stdout",
       "text": [
        "\r",
        "Computed features for frame 471 of 1208 in 0.105801820755"
       ]
      },
      {
       "output_type": "stream",
       "stream": "stdout",
       "text": [
        "\r",
        "Computed features for frame 472 of 1208 in 0.107134819031"
       ]
      },
      {
       "output_type": "stream",
       "stream": "stdout",
       "text": [
        "\r",
        "Computed features for frame 473 of 1208 in 0.108865022659"
       ]
      },
      {
       "output_type": "stream",
       "stream": "stdout",
       "text": [
        "\r",
        "Computed features for frame 474 of 1208 in 0.109517097473"
       ]
      },
      {
       "output_type": "stream",
       "stream": "stdout",
       "text": [
        "\r",
        "Computed features for frame 475 of 1208 in 0.11260008812"
       ]
      },
      {
       "output_type": "stream",
       "stream": "stdout",
       "text": [
        "\r",
        "Computed features for frame 476 of 1208 in 0.107674837112"
       ]
      },
      {
       "output_type": "stream",
       "stream": "stdout",
       "text": [
        "\r",
        "Computed features for frame 477 of 1208 in 0.107089996338"
       ]
      },
      {
       "output_type": "stream",
       "stream": "stdout",
       "text": [
        "\r",
        "Computed features for frame 478 of 1208 in 0.109516143799"
       ]
      },
      {
       "output_type": "stream",
       "stream": "stdout",
       "text": [
        "\r",
        "Computed features for frame 479 of 1208 in 0.106348991394"
       ]
      },
      {
       "output_type": "stream",
       "stream": "stdout",
       "text": [
        "\r",
        "Computed features for frame 480 of 1208 in 0.115477800369"
       ]
      },
      {
       "output_type": "stream",
       "stream": "stdout",
       "text": [
        "\r",
        "Computed features for frame 481 of 1208 in 0.111399888992"
       ]
      },
      {
       "output_type": "stream",
       "stream": "stdout",
       "text": [
        "\r",
        "Computed features for frame 482 of 1208 in 0.113035917282"
       ]
      },
      {
       "output_type": "stream",
       "stream": "stdout",
       "text": [
        "\r",
        "Computed features for frame 483 of 1208 in 0.106462001801"
       ]
      },
      {
       "output_type": "stream",
       "stream": "stdout",
       "text": [
        "\r",
        "Computed features for frame 484 of 1208 in 0.107221126556"
       ]
      },
      {
       "output_type": "stream",
       "stream": "stdout",
       "text": [
        "\r",
        "Computed features for frame 485 of 1208 in 0.108731985092"
       ]
      },
      {
       "output_type": "stream",
       "stream": "stdout",
       "text": [
        "\r",
        "Computed features for frame 486 of 1208 in 0.115449905396"
       ]
      },
      {
       "output_type": "stream",
       "stream": "stdout",
       "text": [
        "\r",
        "Computed features for frame 487 of 1208 in 0.113980054855"
       ]
      },
      {
       "output_type": "stream",
       "stream": "stdout",
       "text": [
        "\r",
        "Computed features for frame 488 of 1208 in 0.104938983917"
       ]
      },
      {
       "output_type": "stream",
       "stream": "stdout",
       "text": [
        "\r",
        "Computed features for frame 489 of 1208 in 0.117782115936"
       ]
      },
      {
       "output_type": "stream",
       "stream": "stdout",
       "text": [
        "\r",
        "Computed features for frame 490 of 1208 in 0.108100891113"
       ]
      },
      {
       "output_type": "stream",
       "stream": "stdout",
       "text": [
        "\r",
        "Computed features for frame 491 of 1208 in 0.106221914291"
       ]
      },
      {
       "output_type": "stream",
       "stream": "stdout",
       "text": [
        "\r",
        "Computed features for frame 492 of 1208 in 0.104759931564"
       ]
      },
      {
       "output_type": "stream",
       "stream": "stdout",
       "text": [
        "\r",
        "Computed features for frame 493 of 1208 in 0.104553937912"
       ]
      },
      {
       "output_type": "stream",
       "stream": "stdout",
       "text": [
        "\r",
        "Computed features for frame 494 of 1208 in 0.116309165955"
       ]
      },
      {
       "output_type": "stream",
       "stream": "stdout",
       "text": [
        "\r",
        "Computed features for frame 495 of 1208 in 0.10929608345"
       ]
      },
      {
       "output_type": "stream",
       "stream": "stdout",
       "text": [
        "\r",
        "Computed features for frame 496 of 1208 in 0.105484008789"
       ]
      },
      {
       "output_type": "stream",
       "stream": "stdout",
       "text": [
        "\r",
        "Computed features for frame 497 of 1208 in 0.10422205925"
       ]
      },
      {
       "output_type": "stream",
       "stream": "stdout",
       "text": [
        "\r",
        "Computed features for frame 498 of 1208 in 0.105094909668"
       ]
      },
      {
       "output_type": "stream",
       "stream": "stdout",
       "text": [
        "\r",
        "Computed features for frame 499 of 1208 in 0.106648921967"
       ]
      },
      {
       "output_type": "stream",
       "stream": "stdout",
       "text": [
        "\r",
        "Computed features for frame 500 of 1208 in 0.109076976776"
       ]
      },
      {
       "output_type": "stream",
       "stream": "stdout",
       "text": [
        "\r",
        "Computed features for frame 501 of 1208 in 0.103020906448"
       ]
      },
      {
       "output_type": "stream",
       "stream": "stdout",
       "text": [
        "\r",
        "Computed features for frame 502 of 1208 in 0.104517936707"
       ]
      },
      {
       "output_type": "stream",
       "stream": "stdout",
       "text": [
        "\r",
        "Computed features for frame 503 of 1208 in 0.116875886917"
       ]
      },
      {
       "output_type": "stream",
       "stream": "stdout",
       "text": [
        "\r",
        "Computed features for frame 504 of 1208 in 0.107187986374"
       ]
      },
      {
       "output_type": "stream",
       "stream": "stdout",
       "text": [
        "\r",
        "Computed features for frame 505 of 1208 in 0.103269100189"
       ]
      },
      {
       "output_type": "stream",
       "stream": "stdout",
       "text": [
        "\r",
        "Computed features for frame 506 of 1208 in 0.104830026627"
       ]
      },
      {
       "output_type": "stream",
       "stream": "stdout",
       "text": [
        "\r",
        "Computed features for frame 507 of 1208 in 0.104125976562"
       ]
      },
      {
       "output_type": "stream",
       "stream": "stdout",
       "text": [
        "\r",
        "Computed features for frame 508 of 1208 in 0.107088088989"
       ]
      },
      {
       "output_type": "stream",
       "stream": "stdout",
       "text": [
        "\r",
        "Computed features for frame 509 of 1208 in 0.115130901337"
       ]
      },
      {
       "output_type": "stream",
       "stream": "stdout",
       "text": [
        "\r",
        "Computed features for frame 510 of 1208 in 0.103229999542"
       ]
      },
      {
       "output_type": "stream",
       "stream": "stdout",
       "text": [
        "\r",
        "Computed features for frame 511 of 1208 in 0.104661941528"
       ]
      },
      {
       "output_type": "stream",
       "stream": "stdout",
       "text": [
        "\r",
        "Computed features for frame 512 of 1208 in 0.108137845993"
       ]
      },
      {
       "output_type": "stream",
       "stream": "stdout",
       "text": [
        "\r",
        "Computed features for frame 513 of 1208 in 0.109940052032"
       ]
      },
      {
       "output_type": "stream",
       "stream": "stdout",
       "text": [
        "\r",
        "Computed features for frame 514 of 1208 in 0.10728597641"
       ]
      },
      {
       "output_type": "stream",
       "stream": "stdout",
       "text": [
        "\r",
        "Computed features for frame 515 of 1208 in 0.107262849808"
       ]
      },
      {
       "output_type": "stream",
       "stream": "stdout",
       "text": [
        "\r",
        "Computed features for frame 516 of 1208 in 0.10325884819"
       ]
      },
      {
       "output_type": "stream",
       "stream": "stdout",
       "text": [
        "\r",
        "Computed features for frame 517 of 1208 in 0.111124992371"
       ]
      },
      {
       "output_type": "stream",
       "stream": "stdout",
       "text": [
        "\r",
        "Computed features for frame 518 of 1208 in 0.11038684845"
       ]
      },
      {
       "output_type": "stream",
       "stream": "stdout",
       "text": [
        "\r",
        "Computed features for frame 519 of 1208 in 0.10933804512"
       ]
      },
      {
       "output_type": "stream",
       "stream": "stdout",
       "text": [
        "\r",
        "Computed features for frame 520 of 1208 in 0.107091903687"
       ]
      },
      {
       "output_type": "stream",
       "stream": "stdout",
       "text": [
        "\r",
        "Computed features for frame 521 of 1208 in 0.104458093643"
       ]
      },
      {
       "output_type": "stream",
       "stream": "stdout",
       "text": [
        "\r",
        "Computed features for frame 522 of 1208 in 0.10559797287"
       ]
      },
      {
       "output_type": "stream",
       "stream": "stdout",
       "text": [
        "\r",
        "Computed features for frame 523 of 1208 in 0.111048936844"
       ]
      },
      {
       "output_type": "stream",
       "stream": "stdout",
       "text": [
        "\r",
        "Computed features for frame 524 of 1208 in 0.104929924011"
       ]
      },
      {
       "output_type": "stream",
       "stream": "stdout",
       "text": [
        "\r",
        "Computed features for frame 525 of 1208 in 0.105839014053"
       ]
      },
      {
       "output_type": "stream",
       "stream": "stdout",
       "text": [
        "\r",
        "Computed features for frame 526 of 1208 in 0.111621141434"
       ]
      },
      {
       "output_type": "stream",
       "stream": "stdout",
       "text": [
        "\r",
        "Computed features for frame 527 of 1208 in 0.106967926025"
       ]
      },
      {
       "output_type": "stream",
       "stream": "stdout",
       "text": [
        "\r",
        "Computed features for frame 528 of 1208 in 0.106747150421"
       ]
      },
      {
       "output_type": "stream",
       "stream": "stdout",
       "text": [
        "\r",
        "Computed features for frame 529 of 1208 in 0.10622382164"
       ]
      },
      {
       "output_type": "stream",
       "stream": "stdout",
       "text": [
        "\r",
        "Computed features for frame 530 of 1208 in 0.10581111908"
       ]
      },
      {
       "output_type": "stream",
       "stream": "stdout",
       "text": [
        "\r",
        "Computed features for frame 531 of 1208 in 0.106330871582"
       ]
      },
      {
       "output_type": "stream",
       "stream": "stdout",
       "text": [
        "\r",
        "Computed features for frame 532 of 1208 in 0.110538959503"
       ]
      },
      {
       "output_type": "stream",
       "stream": "stdout",
       "text": [
        "\r",
        "Computed features for frame 533 of 1208 in 0.105661869049"
       ]
      },
      {
       "output_type": "stream",
       "stream": "stdout",
       "text": [
        "\r",
        "Computed features for frame 534 of 1208 in 0.10861992836"
       ]
      },
      {
       "output_type": "stream",
       "stream": "stdout",
       "text": [
        "\r",
        "Computed features for frame 535 of 1208 in 0.106044054031"
       ]
      },
      {
       "output_type": "stream",
       "stream": "stdout",
       "text": [
        "\r",
        "Computed features for frame 536 of 1208 in 0.10692191124"
       ]
      },
      {
       "output_type": "stream",
       "stream": "stdout",
       "text": [
        "\r",
        "Computed features for frame 537 of 1208 in 0.108104944229"
       ]
      },
      {
       "output_type": "stream",
       "stream": "stdout",
       "text": [
        "\r",
        "Computed features for frame 538 of 1208 in 0.112637042999"
       ]
      },
      {
       "output_type": "stream",
       "stream": "stdout",
       "text": [
        "\r",
        "Computed features for frame 539 of 1208 in 0.105473041534"
       ]
      },
      {
       "output_type": "stream",
       "stream": "stdout",
       "text": [
        "\r",
        "Computed features for frame 540 of 1208 in 0.108154058456"
       ]
      },
      {
       "output_type": "stream",
       "stream": "stdout",
       "text": [
        "\r",
        "Computed features for frame 541 of 1208 in 0.106985092163"
       ]
      },
      {
       "output_type": "stream",
       "stream": "stdout",
       "text": [
        "\r",
        "Computed features for frame 542 of 1208 in 0.108130931854"
       ]
      },
      {
       "output_type": "stream",
       "stream": "stdout",
       "text": [
        "\r",
        "Computed features for frame 543 of 1208 in 0.106292963028"
       ]
      },
      {
       "output_type": "stream",
       "stream": "stdout",
       "text": [
        "\r",
        "Computed features for frame 544 of 1208 in 0.107031822205"
       ]
      },
      {
       "output_type": "stream",
       "stream": "stdout",
       "text": [
        "\r",
        "Computed features for frame 545 of 1208 in 0.105365037918"
       ]
      },
      {
       "output_type": "stream",
       "stream": "stdout",
       "text": [
        "\r",
        "Computed features for frame 546 of 1208 in 0.109209775925"
       ]
      },
      {
       "output_type": "stream",
       "stream": "stdout",
       "text": [
        "\r",
        "Computed features for frame 547 of 1208 in 0.110780954361"
       ]
      },
      {
       "output_type": "stream",
       "stream": "stdout",
       "text": [
        "\r",
        "Computed features for frame 548 of 1208 in 0.107469081879"
       ]
      },
      {
       "output_type": "stream",
       "stream": "stdout",
       "text": [
        "\r",
        "Computed features for frame 549 of 1208 in 0.10587310791"
       ]
      },
      {
       "output_type": "stream",
       "stream": "stdout",
       "text": [
        "\r",
        "Computed features for frame 550 of 1208 in 0.107264995575"
       ]
      },
      {
       "output_type": "stream",
       "stream": "stdout",
       "text": [
        "\r",
        "Computed features for frame 551 of 1208 in 0.108489990234"
       ]
      },
      {
       "output_type": "stream",
       "stream": "stdout",
       "text": [
        "\r",
        "Computed features for frame 552 of 1208 in 0.107899188995"
       ]
      },
      {
       "output_type": "stream",
       "stream": "stdout",
       "text": [
        "\r",
        "Computed features for frame 553 of 1208 in 0.112924098969"
       ]
      },
      {
       "output_type": "stream",
       "stream": "stdout",
       "text": [
        "\r",
        "Computed features for frame 554 of 1208 in 0.117779016495"
       ]
      },
      {
       "output_type": "stream",
       "stream": "stdout",
       "text": [
        "\r",
        "Computed features for frame 555 of 1208 in 0.108021020889"
       ]
      },
      {
       "output_type": "stream",
       "stream": "stdout",
       "text": [
        "\r",
        "Computed features for frame 556 of 1208 in 0.110277891159"
       ]
      },
      {
       "output_type": "stream",
       "stream": "stdout",
       "text": [
        "\r",
        "Computed features for frame 557 of 1208 in 0.111845016479"
       ]
      },
      {
       "output_type": "stream",
       "stream": "stdout",
       "text": [
        "\r",
        "Computed features for frame 558 of 1208 in 0.113111972809"
       ]
      },
      {
       "output_type": "stream",
       "stream": "stdout",
       "text": [
        "\r",
        "Computed features for frame 559 of 1208 in 0.110626935959"
       ]
      },
      {
       "output_type": "stream",
       "stream": "stdout",
       "text": [
        "\r",
        "Computed features for frame 560 of 1208 in 0.105892896652"
       ]
      },
      {
       "output_type": "stream",
       "stream": "stdout",
       "text": [
        "\r",
        "Computed features for frame 561 of 1208 in 0.11034488678"
       ]
      },
      {
       "output_type": "stream",
       "stream": "stdout",
       "text": [
        "\r",
        "Computed features for frame 562 of 1208 in 0.108789920807"
       ]
      },
      {
       "output_type": "stream",
       "stream": "stdout",
       "text": [
        "\r",
        "Computed features for frame 563 of 1208 in 0.112090826035"
       ]
      },
      {
       "output_type": "stream",
       "stream": "stdout",
       "text": [
        "\r",
        "Computed features for frame 564 of 1208 in 0.10543012619"
       ]
      },
      {
       "output_type": "stream",
       "stream": "stdout",
       "text": [
        "\r",
        "Computed features for frame 565 of 1208 in 0.106705904007"
       ]
      },
      {
       "output_type": "stream",
       "stream": "stdout",
       "text": [
        "\r",
        "Computed features for frame 566 of 1208 in 0.107860088348"
       ]
      },
      {
       "output_type": "stream",
       "stream": "stdout",
       "text": [
        "\r",
        "Computed features for frame 567 of 1208 in 0.110090970993"
       ]
      },
      {
       "output_type": "stream",
       "stream": "stdout",
       "text": [
        "\r",
        "Computed features for frame 568 of 1208 in 0.106801986694"
       ]
      },
      {
       "output_type": "stream",
       "stream": "stdout",
       "text": [
        "\r",
        "Computed features for frame 569 of 1208 in 0.110857009888"
       ]
      },
      {
       "output_type": "stream",
       "stream": "stdout",
       "text": [
        "\r",
        "Computed features for frame 570 of 1208 in 0.105412006378"
       ]
      },
      {
       "output_type": "stream",
       "stream": "stdout",
       "text": [
        "\r",
        "Computed features for frame 571 of 1208 in 0.108324050903"
       ]
      },
      {
       "output_type": "stream",
       "stream": "stdout",
       "text": [
        "\r",
        "Computed features for frame 572 of 1208 in 0.11604309082"
       ]
      },
      {
       "output_type": "stream",
       "stream": "stdout",
       "text": [
        "\r",
        "Computed features for frame 573 of 1208 in 0.106235027313"
       ]
      },
      {
       "output_type": "stream",
       "stream": "stdout",
       "text": [
        "\r",
        "Computed features for frame 574 of 1208 in 0.11862206459"
       ]
      },
      {
       "output_type": "stream",
       "stream": "stdout",
       "text": [
        "\r",
        "Computed features for frame 575 of 1208 in 0.109304904938"
       ]
      },
      {
       "output_type": "stream",
       "stream": "stdout",
       "text": [
        "\r",
        "Computed features for frame 576 of 1208 in 0.11070394516"
       ]
      },
      {
       "output_type": "stream",
       "stream": "stdout",
       "text": [
        "\r",
        "Computed features for frame 577 of 1208 in 0.1098549366"
       ]
      },
      {
       "output_type": "stream",
       "stream": "stdout",
       "text": [
        "\r",
        "Computed features for frame 578 of 1208 in 0.109200954437"
       ]
      },
      {
       "output_type": "stream",
       "stream": "stdout",
       "text": [
        "\r",
        "Computed features for frame 579 of 1208 in 0.107439041138"
       ]
      },
      {
       "output_type": "stream",
       "stream": "stdout",
       "text": [
        "\r",
        "Computed features for frame 580 of 1208 in 0.112055063248"
       ]
      },
      {
       "output_type": "stream",
       "stream": "stdout",
       "text": [
        "\r",
        "Computed features for frame 581 of 1208 in 0.111084938049"
       ]
      },
      {
       "output_type": "stream",
       "stream": "stdout",
       "text": [
        "\r",
        "Computed features for frame 582 of 1208 in 0.106616973877"
       ]
      },
      {
       "output_type": "stream",
       "stream": "stdout",
       "text": [
        "\r",
        "Computed features for frame 583 of 1208 in 0.107370853424"
       ]
      },
      {
       "output_type": "stream",
       "stream": "stdout",
       "text": [
        "\r",
        "Computed features for frame 584 of 1208 in 0.106632947922"
       ]
      },
      {
       "output_type": "stream",
       "stream": "stdout",
       "text": [
        "\r",
        "Computed features for frame 585 of 1208 in 0.107952833176"
       ]
      },
      {
       "output_type": "stream",
       "stream": "stdout",
       "text": [
        "\r",
        "Computed features for frame 586 of 1208 in 0.123857021332"
       ]
      },
      {
       "output_type": "stream",
       "stream": "stdout",
       "text": [
        "\r",
        "Computed features for frame 587 of 1208 in 0.107586145401"
       ]
      },
      {
       "output_type": "stream",
       "stream": "stdout",
       "text": [
        "\r",
        "Computed features for frame 588 of 1208 in 0.106519937515"
       ]
      },
      {
       "output_type": "stream",
       "stream": "stdout",
       "text": [
        "\r",
        "Computed features for frame 589 of 1208 in 0.115722894669"
       ]
      },
      {
       "output_type": "stream",
       "stream": "stdout",
       "text": [
        "\r",
        "Computed features for frame 590 of 1208 in 0.114058017731"
       ]
      },
      {
       "output_type": "stream",
       "stream": "stdout",
       "text": [
        "\r",
        "Computed features for frame 591 of 1208 in 0.11129283905"
       ]
      },
      {
       "output_type": "stream",
       "stream": "stdout",
       "text": [
        "\r",
        "Computed features for frame 592 of 1208 in 0.112025022507"
       ]
      },
      {
       "output_type": "stream",
       "stream": "stdout",
       "text": [
        "\r",
        "Computed features for frame 593 of 1208 in 0.108309030533"
       ]
      },
      {
       "output_type": "stream",
       "stream": "stdout",
       "text": [
        "\r",
        "Computed features for frame 594 of 1208 in 0.112977027893"
       ]
      },
      {
       "output_type": "stream",
       "stream": "stdout",
       "text": [
        "\r",
        "Computed features for frame 595 of 1208 in 0.10976099968"
       ]
      },
      {
       "output_type": "stream",
       "stream": "stdout",
       "text": [
        "\r",
        "Computed features for frame 596 of 1208 in 0.107203960419"
       ]
      },
      {
       "output_type": "stream",
       "stream": "stdout",
       "text": [
        "\r",
        "Computed features for frame 597 of 1208 in 0.108232021332"
       ]
      },
      {
       "output_type": "stream",
       "stream": "stdout",
       "text": [
        "\r",
        "Computed features for frame 598 of 1208 in 0.1080930233"
       ]
      },
      {
       "output_type": "stream",
       "stream": "stdout",
       "text": [
        "\r",
        "Computed features for frame 599 of 1208 in 0.108972072601"
       ]
      },
      {
       "output_type": "stream",
       "stream": "stdout",
       "text": [
        "\r",
        "Computed features for frame 600 of 1208 in 0.112529039383"
       ]
      },
      {
       "output_type": "stream",
       "stream": "stdout",
       "text": [
        "\r",
        "Computed features for frame 601 of 1208 in 0.106689929962"
       ]
      },
      {
       "output_type": "stream",
       "stream": "stdout",
       "text": [
        "\r",
        "Computed features for frame 602 of 1208 in 0.106426000595"
       ]
      },
      {
       "output_type": "stream",
       "stream": "stdout",
       "text": [
        "\r",
        "Computed features for frame 603 of 1208 in 0.11754989624"
       ]
      },
      {
       "output_type": "stream",
       "stream": "stdout",
       "text": [
        "\r",
        "Computed features for frame 604 of 1208 in 0.108543157578"
       ]
      },
      {
       "output_type": "stream",
       "stream": "stdout",
       "text": [
        "\r",
        "Computed features for frame 605 of 1208 in 0.108518123627"
       ]
      },
      {
       "output_type": "stream",
       "stream": "stdout",
       "text": [
        "\r",
        "Computed features for frame 606 of 1208 in 0.107602834702"
       ]
      },
      {
       "output_type": "stream",
       "stream": "stdout",
       "text": [
        "\r",
        "Computed features for frame 607 of 1208 in 0.111538887024"
       ]
      },
      {
       "output_type": "stream",
       "stream": "stdout",
       "text": [
        "\r",
        "Computed features for frame 608 of 1208 in 0.112770080566"
       ]
      },
      {
       "output_type": "stream",
       "stream": "stdout",
       "text": [
        "\r",
        "Computed features for frame 609 of 1208 in 0.108043193817"
       ]
      },
      {
       "output_type": "stream",
       "stream": "stdout",
       "text": [
        "\r",
        "Computed features for frame 610 of 1208 in 0.111247062683"
       ]
      },
      {
       "output_type": "stream",
       "stream": "stdout",
       "text": [
        "\r",
        "Computed features for frame 611 of 1208 in 0.109102964401"
       ]
      },
      {
       "output_type": "stream",
       "stream": "stdout",
       "text": [
        "\r",
        "Computed features for frame 612 of 1208 in 0.109305143356"
       ]
      },
      {
       "output_type": "stream",
       "stream": "stdout",
       "text": [
        "\r",
        "Computed features for frame 613 of 1208 in 0.108923912048"
       ]
      },
      {
       "output_type": "stream",
       "stream": "stdout",
       "text": [
        "\r",
        "Computed features for frame 614 of 1208 in 0.113396883011"
       ]
      },
      {
       "output_type": "stream",
       "stream": "stdout",
       "text": [
        "\r",
        "Computed features for frame 615 of 1208 in 0.107648849487"
       ]
      },
      {
       "output_type": "stream",
       "stream": "stdout",
       "text": [
        "\r",
        "Computed features for frame 616 of 1208 in 0.111483097076"
       ]
      },
      {
       "output_type": "stream",
       "stream": "stdout",
       "text": [
        "\r",
        "Computed features for frame 617 of 1208 in 0.117691040039"
       ]
      },
      {
       "output_type": "stream",
       "stream": "stdout",
       "text": [
        "\r",
        "Computed features for frame 618 of 1208 in 0.108692884445"
       ]
      },
      {
       "output_type": "stream",
       "stream": "stdout",
       "text": [
        "\r",
        "Computed features for frame 619 of 1208 in 0.10728597641"
       ]
      },
      {
       "output_type": "stream",
       "stream": "stdout",
       "text": [
        "\r",
        "Computed features for frame 620 of 1208 in 0.107096910477"
       ]
      },
      {
       "output_type": "stream",
       "stream": "stdout",
       "text": [
        "\r",
        "Computed features for frame 621 of 1208 in 0.109097957611"
       ]
      },
      {
       "output_type": "stream",
       "stream": "stdout",
       "text": [
        "\r",
        "Computed features for frame 622 of 1208 in 0.107401132584"
       ]
      },
      {
       "output_type": "stream",
       "stream": "stdout",
       "text": [
        "\r",
        "Computed features for frame 623 of 1208 in 0.105661153793"
       ]
      },
      {
       "output_type": "stream",
       "stream": "stdout",
       "text": [
        "\r",
        "Computed features for frame 624 of 1208 in 0.105886936188"
       ]
      },
      {
       "output_type": "stream",
       "stream": "stdout",
       "text": [
        "\r",
        "Computed features for frame 625 of 1208 in 0.109946966171"
       ]
      },
      {
       "output_type": "stream",
       "stream": "stdout",
       "text": [
        "\r",
        "Computed features for frame 626 of 1208 in 0.110843896866"
       ]
      },
      {
       "output_type": "stream",
       "stream": "stdout",
       "text": [
        "\r",
        "Computed features for frame 627 of 1208 in 0.114004135132"
       ]
      },
      {
       "output_type": "stream",
       "stream": "stdout",
       "text": [
        "\r",
        "Computed features for frame 628 of 1208 in 0.10769200325"
       ]
      },
      {
       "output_type": "stream",
       "stream": "stdout",
       "text": [
        "\r",
        "Computed features for frame 629 of 1208 in 0.10745716095"
       ]
      },
      {
       "output_type": "stream",
       "stream": "stdout",
       "text": [
        "\r",
        "Computed features for frame 630 of 1208 in 0.108027935028"
       ]
      },
      {
       "output_type": "stream",
       "stream": "stdout",
       "text": [
        "\r",
        "Computed features for frame 631 of 1208 in 0.113126993179"
       ]
      },
      {
       "output_type": "stream",
       "stream": "stdout",
       "text": [
        "\r",
        "Computed features for frame 632 of 1208 in 0.106752157211"
       ]
      },
      {
       "output_type": "stream",
       "stream": "stdout",
       "text": [
        "\r",
        "Computed features for frame 633 of 1208 in 0.107480049133"
       ]
      },
      {
       "output_type": "stream",
       "stream": "stdout",
       "text": [
        "\r",
        "Computed features for frame 634 of 1208 in 0.110218048096"
       ]
      },
      {
       "output_type": "stream",
       "stream": "stdout",
       "text": [
        "\r",
        "Computed features for frame 635 of 1208 in 0.112346887589"
       ]
      },
      {
       "output_type": "stream",
       "stream": "stdout",
       "text": [
        "\r",
        "Computed features for frame 636 of 1208 in 0.110602855682"
       ]
      },
      {
       "output_type": "stream",
       "stream": "stdout",
       "text": [
        "\r",
        "Computed features for frame 637 of 1208 in 0.109909772873"
       ]
      },
      {
       "output_type": "stream",
       "stream": "stdout",
       "text": [
        "\r",
        "Computed features for frame 638 of 1208 in 0.107704877853"
       ]
      },
      {
       "output_type": "stream",
       "stream": "stdout",
       "text": [
        "\r",
        "Computed features for frame 639 of 1208 in 0.113950967789"
       ]
      },
      {
       "output_type": "stream",
       "stream": "stdout",
       "text": [
        "\r",
        "Computed features for frame 640 of 1208 in 0.111331939697"
       ]
      },
      {
       "output_type": "stream",
       "stream": "stdout",
       "text": [
        "\r",
        "Computed features for frame 641 of 1208 in 0.116180896759"
       ]
      },
      {
       "output_type": "stream",
       "stream": "stdout",
       "text": [
        "\r",
        "Computed features for frame 642 of 1208 in 0.110843896866"
       ]
      },
      {
       "output_type": "stream",
       "stream": "stdout",
       "text": [
        "\r",
        "Computed features for frame 643 of 1208 in 0.110736131668"
       ]
      },
      {
       "output_type": "stream",
       "stream": "stdout",
       "text": [
        "\r",
        "Computed features for frame 644 of 1208 in 0.112016916275"
       ]
      },
      {
       "output_type": "stream",
       "stream": "stdout",
       "text": [
        "\r",
        "Computed features for frame 645 of 1208 in 0.110911130905"
       ]
      },
      {
       "output_type": "stream",
       "stream": "stdout",
       "text": [
        "\r",
        "Computed features for frame 646 of 1208 in 0.108865022659"
       ]
      },
      {
       "output_type": "stream",
       "stream": "stdout",
       "text": [
        "\r",
        "Computed features for frame 647 of 1208 in 0.1087911129"
       ]
      },
      {
       "output_type": "stream",
       "stream": "stdout",
       "text": [
        "\r",
        "Computed features for frame 648 of 1208 in 0.110635042191"
       ]
      },
      {
       "output_type": "stream",
       "stream": "stdout",
       "text": [
        "\r",
        "Computed features for frame 649 of 1208 in 0.111546039581"
       ]
      },
      {
       "output_type": "stream",
       "stream": "stdout",
       "text": [
        "\r",
        "Computed features for frame 650 of 1208 in 0.108144044876"
       ]
      },
      {
       "output_type": "stream",
       "stream": "stdout",
       "text": [
        "\r",
        "Computed features for frame 651 of 1208 in 0.108710050583"
       ]
      },
      {
       "output_type": "stream",
       "stream": "stdout",
       "text": [
        "\r",
        "Computed features for frame 652 of 1208 in 0.107907056808"
       ]
      },
      {
       "output_type": "stream",
       "stream": "stdout",
       "text": [
        "\r",
        "Computed features for frame 653 of 1208 in 0.112720012665"
       ]
      },
      {
       "output_type": "stream",
       "stream": "stdout",
       "text": [
        "\r",
        "Computed features for frame 654 of 1208 in 0.111653089523"
       ]
      },
      {
       "output_type": "stream",
       "stream": "stdout",
       "text": [
        "\r",
        "Computed features for frame 655 of 1208 in 0.16721701622"
       ]
      },
      {
       "output_type": "stream",
       "stream": "stdout",
       "text": [
        "\r",
        "Computed features for frame 656 of 1208 in 0.170163154602"
       ]
      },
      {
       "output_type": "stream",
       "stream": "stdout",
       "text": [
        "\r",
        "Computed features for frame 657 of 1208 in 0.144786119461"
       ]
      },
      {
       "output_type": "stream",
       "stream": "stdout",
       "text": [
        "\r",
        "Computed features for frame 658 of 1208 in 0.107676029205"
       ]
      },
      {
       "output_type": "stream",
       "stream": "stdout",
       "text": [
        "\r",
        "Computed features for frame 659 of 1208 in 0.107485055923"
       ]
      },
      {
       "output_type": "stream",
       "stream": "stdout",
       "text": [
        "\r",
        "Computed features for frame 660 of 1208 in 0.108345985413"
       ]
      },
      {
       "output_type": "stream",
       "stream": "stdout",
       "text": [
        "\r",
        "Computed features for frame 661 of 1208 in 0.111173152924"
       ]
      },
      {
       "output_type": "stream",
       "stream": "stdout",
       "text": [
        "\r",
        "Computed features for frame 662 of 1208 in 0.107243061066"
       ]
      },
      {
       "output_type": "stream",
       "stream": "stdout",
       "text": [
        "\r",
        "Computed features for frame 663 of 1208 in 0.105583906174"
       ]
      },
      {
       "output_type": "stream",
       "stream": "stdout",
       "text": [
        "\r",
        "Computed features for frame 664 of 1208 in 0.108419179916"
       ]
      },
      {
       "output_type": "stream",
       "stream": "stdout",
       "text": [
        "\r",
        "Computed features for frame 665 of 1208 in 0.107733011246"
       ]
      },
      {
       "output_type": "stream",
       "stream": "stdout",
       "text": [
        "\r",
        "Computed features for frame 666 of 1208 in 0.112664937973"
       ]
      },
      {
       "output_type": "stream",
       "stream": "stdout",
       "text": [
        "\r",
        "Computed features for frame 667 of 1208 in 0.113087892532"
       ]
      },
      {
       "output_type": "stream",
       "stream": "stdout",
       "text": [
        "\r",
        "Computed features for frame 668 of 1208 in 0.106011867523"
       ]
      },
      {
       "output_type": "stream",
       "stream": "stdout",
       "text": [
        "\r",
        "Computed features for frame 669 of 1208 in 0.106930971146"
       ]
      },
      {
       "output_type": "stream",
       "stream": "stdout",
       "text": [
        "\r",
        "Computed features for frame 670 of 1208 in 0.107023000717"
       ]
      },
      {
       "output_type": "stream",
       "stream": "stdout",
       "text": [
        "\r",
        "Computed features for frame 671 of 1208 in 0.110064983368"
       ]
      },
      {
       "output_type": "stream",
       "stream": "stdout",
       "text": [
        "\r",
        "Computed features for frame 672 of 1208 in 0.105636835098"
       ]
      },
      {
       "output_type": "stream",
       "stream": "stdout",
       "text": [
        "\r",
        "Computed features for frame 673 of 1208 in 0.105242013931"
       ]
      },
      {
       "output_type": "stream",
       "stream": "stdout",
       "text": [
        "\r",
        "Computed features for frame 674 of 1208 in 0.149327039719"
       ]
      },
      {
       "output_type": "stream",
       "stream": "stdout",
       "text": [
        "\r",
        "Computed features for frame 675 of 1208 in 0.137486934662"
       ]
      },
      {
       "output_type": "stream",
       "stream": "stdout",
       "text": [
        "\r",
        "Computed features for frame 676 of 1208 in 0.106787204742"
       ]
      },
      {
       "output_type": "stream",
       "stream": "stdout",
       "text": [
        "\r",
        "Computed features for frame 677 of 1208 in 0.106387138367"
       ]
      },
      {
       "output_type": "stream",
       "stream": "stdout",
       "text": [
        "\r",
        "Computed features for frame 678 of 1208 in 0.15255188942"
       ]
      },
      {
       "output_type": "stream",
       "stream": "stdout",
       "text": [
        "\r",
        "Computed features for frame 679 of 1208 in 0.136354207993"
       ]
      },
      {
       "output_type": "stream",
       "stream": "stdout",
       "text": [
        "\r",
        "Computed features for frame 680 of 1208 in 0.110877990723"
       ]
      },
      {
       "output_type": "stream",
       "stream": "stdout",
       "text": [
        "\r",
        "Computed features for frame 681 of 1208 in 0.108365058899"
       ]
      },
      {
       "output_type": "stream",
       "stream": "stdout",
       "text": [
        "\r",
        "Computed features for frame 682 of 1208 in 0.12922000885"
       ]
      },
      {
       "output_type": "stream",
       "stream": "stdout",
       "text": [
        "\r",
        "Computed features for frame 683 of 1208 in 0.120694875717"
       ]
      },
      {
       "output_type": "stream",
       "stream": "stdout",
       "text": [
        "\r",
        "Computed features for frame 684 of 1208 in 0.108454942703"
       ]
      },
      {
       "output_type": "stream",
       "stream": "stdout",
       "text": [
        "\r",
        "Computed features for frame 685 of 1208 in 0.107255935669"
       ]
      },
      {
       "output_type": "stream",
       "stream": "stdout",
       "text": [
        "\r",
        "Computed features for frame 686 of 1208 in 0.107637882233"
       ]
      },
      {
       "output_type": "stream",
       "stream": "stdout",
       "text": [
        "\r",
        "Computed features for frame 687 of 1208 in 0.117615938187"
       ]
      },
      {
       "output_type": "stream",
       "stream": "stdout",
       "text": [
        "\r",
        "Computed features for frame 688 of 1208 in 0.111423015594"
       ]
      },
      {
       "output_type": "stream",
       "stream": "stdout",
       "text": [
        "\r",
        "Computed features for frame 689 of 1208 in 0.104718923569"
       ]
      },
      {
       "output_type": "stream",
       "stream": "stdout",
       "text": [
        "\r",
        "Computed features for frame 690 of 1208 in 0.122550964355"
       ]
      },
      {
       "output_type": "stream",
       "stream": "stdout",
       "text": [
        "\r",
        "Computed features for frame 691 of 1208 in 0.109647035599"
       ]
      },
      {
       "output_type": "stream",
       "stream": "stdout",
       "text": [
        "\r",
        "Computed features for frame 692 of 1208 in 0.107057094574"
       ]
      },
      {
       "output_type": "stream",
       "stream": "stdout",
       "text": [
        "\r",
        "Computed features for frame 693 of 1208 in 0.11141204834"
       ]
      },
      {
       "output_type": "stream",
       "stream": "stdout",
       "text": [
        "\r",
        "Computed features for frame 694 of 1208 in 0.106108903885"
       ]
      },
      {
       "output_type": "stream",
       "stream": "stdout",
       "text": [
        "\r",
        "Computed features for frame 695 of 1208 in 0.107851982117"
       ]
      },
      {
       "output_type": "stream",
       "stream": "stdout",
       "text": [
        "\r",
        "Computed features for frame 696 of 1208 in 0.12060713768"
       ]
      },
      {
       "output_type": "stream",
       "stream": "stdout",
       "text": [
        "\r",
        "Computed features for frame 697 of 1208 in 0.107653141022"
       ]
      },
      {
       "output_type": "stream",
       "stream": "stdout",
       "text": [
        "\r",
        "Computed features for frame 698 of 1208 in 0.105881929398"
       ]
      },
      {
       "output_type": "stream",
       "stream": "stdout",
       "text": [
        "\r",
        "Computed features for frame 699 of 1208 in 0.107501983643"
       ]
      },
      {
       "output_type": "stream",
       "stream": "stdout",
       "text": [
        "\r",
        "Computed features for frame 700 of 1208 in 0.109418869019"
       ]
      },
      {
       "output_type": "stream",
       "stream": "stdout",
       "text": [
        "\r",
        "Computed features for frame 701 of 1208 in 0.109928131104"
       ]
      },
      {
       "output_type": "stream",
       "stream": "stdout",
       "text": [
        "\r",
        "Computed features for frame 702 of 1208 in 0.10732793808"
       ]
      },
      {
       "output_type": "stream",
       "stream": "stdout",
       "text": [
        "\r",
        "Computed features for frame 703 of 1208 in 0.106997966766"
       ]
      },
      {
       "output_type": "stream",
       "stream": "stdout",
       "text": [
        "\r",
        "Computed features for frame 704 of 1208 in 0.109261035919"
       ]
      },
      {
       "output_type": "stream",
       "stream": "stdout",
       "text": [
        "\r",
        "Computed features for frame 705 of 1208 in 0.112905979156"
       ]
      },
      {
       "output_type": "stream",
       "stream": "stdout",
       "text": [
        "\r",
        "Computed features for frame 706 of 1208 in 0.107222080231"
       ]
      },
      {
       "output_type": "stream",
       "stream": "stdout",
       "text": [
        "\r",
        "Computed features for frame 707 of 1208 in 0.106610059738"
       ]
      },
      {
       "output_type": "stream",
       "stream": "stdout",
       "text": [
        "\r",
        "Computed features for frame 708 of 1208 in 0.105135917664"
       ]
      },
      {
       "output_type": "stream",
       "stream": "stdout",
       "text": [
        "\r",
        "Computed features for frame 709 of 1208 in 0.108808994293"
       ]
      },
      {
       "output_type": "stream",
       "stream": "stdout",
       "text": [
        "\r",
        "Computed features for frame 710 of 1208 in 0.126451969147"
       ]
      },
      {
       "output_type": "stream",
       "stream": "stdout",
       "text": [
        "\r",
        "Computed features for frame 711 of 1208 in 0.110237121582"
       ]
      },
      {
       "output_type": "stream",
       "stream": "stdout",
       "text": [
        "\r",
        "Computed features for frame 712 of 1208 in 0.103775978088"
       ]
      },
      {
       "output_type": "stream",
       "stream": "stdout",
       "text": [
        "\r",
        "Computed features for frame 713 of 1208 in 0.105404853821"
       ]
      },
      {
       "output_type": "stream",
       "stream": "stdout",
       "text": [
        "\r",
        "Computed features for frame 714 of 1208 in 0.112057924271"
       ]
      },
      {
       "output_type": "stream",
       "stream": "stdout",
       "text": [
        "\r",
        "Computed features for frame 715 of 1208 in 0.106647014618"
       ]
      },
      {
       "output_type": "stream",
       "stream": "stdout",
       "text": [
        "\r",
        "Computed features for frame 716 of 1208 in 0.10585808754"
       ]
      },
      {
       "output_type": "stream",
       "stream": "stdout",
       "text": [
        "\r",
        "Computed features for frame 717 of 1208 in 0.111220836639"
       ]
      },
      {
       "output_type": "stream",
       "stream": "stdout",
       "text": [
        "\r",
        "Computed features for frame 718 of 1208 in 0.107261896133"
       ]
      },
      {
       "output_type": "stream",
       "stream": "stdout",
       "text": [
        "\r",
        "Computed features for frame 719 of 1208 in 0.112927913666"
       ]
      },
      {
       "output_type": "stream",
       "stream": "stdout",
       "text": [
        "\r",
        "Computed features for frame 720 of 1208 in 0.105720996857"
       ]
      },
      {
       "output_type": "stream",
       "stream": "stdout",
       "text": [
        "\r",
        "Computed features for frame 721 of 1208 in 0.109373092651"
       ]
      },
      {
       "output_type": "stream",
       "stream": "stdout",
       "text": [
        "\r",
        "Computed features for frame 722 of 1208 in 0.105166196823"
       ]
      },
      {
       "output_type": "stream",
       "stream": "stdout",
       "text": [
        "\r",
        "Computed features for frame 723 of 1208 in 0.1065928936"
       ]
      },
      {
       "output_type": "stream",
       "stream": "stdout",
       "text": [
        "\r",
        "Computed features for frame 724 of 1208 in 0.10849905014"
       ]
      },
      {
       "output_type": "stream",
       "stream": "stdout",
       "text": [
        "\r",
        "Computed features for frame 725 of 1208 in 0.104051113129"
       ]
      },
      {
       "output_type": "stream",
       "stream": "stdout",
       "text": [
        "\r",
        "Computed features for frame 726 of 1208 in 0.101493120193"
       ]
      },
      {
       "output_type": "stream",
       "stream": "stdout",
       "text": [
        "\r",
        "Computed features for frame 727 of 1208 in 0.106028079987"
       ]
      },
      {
       "output_type": "stream",
       "stream": "stdout",
       "text": [
        "\r",
        "Computed features for frame 728 of 1208 in 0.106657028198"
       ]
      },
      {
       "output_type": "stream",
       "stream": "stdout",
       "text": [
        "\r",
        "Computed features for frame 729 of 1208 in 0.108310937881"
       ]
      },
      {
       "output_type": "stream",
       "stream": "stdout",
       "text": [
        "\r",
        "Computed features for frame 730 of 1208 in 0.105555057526"
       ]
      },
      {
       "output_type": "stream",
       "stream": "stdout",
       "text": [
        "\r",
        "Computed features for frame 731 of 1208 in 0.106552124023"
       ]
      },
      {
       "output_type": "stream",
       "stream": "stdout",
       "text": [
        "\r",
        "Computed features for frame 732 of 1208 in 0.105471849442"
       ]
      },
      {
       "output_type": "stream",
       "stream": "stdout",
       "text": [
        "\r",
        "Computed features for frame 733 of 1208 in 0.108787059784"
       ]
      },
      {
       "output_type": "stream",
       "stream": "stdout",
       "text": [
        "\r",
        "Computed features for frame 734 of 1208 in 0.113289117813"
       ]
      },
      {
       "output_type": "stream",
       "stream": "stdout",
       "text": [
        "\r",
        "Computed features for frame 735 of 1208 in 0.107040166855"
       ]
      },
      {
       "output_type": "stream",
       "stream": "stdout",
       "text": [
        "\r",
        "Computed features for frame 736 of 1208 in 0.124366998672"
       ]
      },
      {
       "output_type": "stream",
       "stream": "stdout",
       "text": [
        "\r",
        "Computed features for frame 737 of 1208 in 0.150381088257"
       ]
      },
      {
       "output_type": "stream",
       "stream": "stdout",
       "text": [
        "\r",
        "Computed features for frame 738 of 1208 in 0.11937379837"
       ]
      },
      {
       "output_type": "stream",
       "stream": "stdout",
       "text": [
        "\r",
        "Computed features for frame 739 of 1208 in 0.106544971466"
       ]
      },
      {
       "output_type": "stream",
       "stream": "stdout",
       "text": [
        "\r",
        "Computed features for frame 740 of 1208 in 0.120522975922"
       ]
      },
      {
       "output_type": "stream",
       "stream": "stdout",
       "text": [
        "\r",
        "Computed features for frame 741 of 1208 in 0.151166915894"
       ]
      },
      {
       "output_type": "stream",
       "stream": "stdout",
       "text": [
        "\r",
        "Computed features for frame 742 of 1208 in 0.120776176453"
       ]
      },
      {
       "output_type": "stream",
       "stream": "stdout",
       "text": [
        "\r",
        "Computed features for frame 743 of 1208 in 0.106503009796"
       ]
      },
      {
       "output_type": "stream",
       "stream": "stdout",
       "text": [
        "\r",
        "Computed features for frame 744 of 1208 in 0.121308088303"
       ]
      },
      {
       "output_type": "stream",
       "stream": "stdout",
       "text": [
        "\r",
        "Computed features for frame 745 of 1208 in 0.151440858841"
       ]
      },
      {
       "output_type": "stream",
       "stream": "stdout",
       "text": [
        "\r",
        "Computed features for frame 746 of 1208 in 0.122312068939"
       ]
      },
      {
       "output_type": "stream",
       "stream": "stdout",
       "text": [
        "\r",
        "Computed features for frame 747 of 1208 in 0.105554103851"
       ]
      },
      {
       "output_type": "stream",
       "stream": "stdout",
       "text": [
        "\r",
        "Computed features for frame 748 of 1208 in 0.105156898499"
       ]
      },
      {
       "output_type": "stream",
       "stream": "stdout",
       "text": [
        "\r",
        "Computed features for frame 749 of 1208 in 0.108906030655"
       ]
      },
      {
       "output_type": "stream",
       "stream": "stdout",
       "text": [
        "\r",
        "Computed features for frame 750 of 1208 in 0.107367992401"
       ]
      },
      {
       "output_type": "stream",
       "stream": "stdout",
       "text": [
        "\r",
        "Computed features for frame 751 of 1208 in 0.10497713089"
       ]
      },
      {
       "output_type": "stream",
       "stream": "stdout",
       "text": [
        "\r",
        "Computed features for frame 752 of 1208 in 0.110611915588"
       ]
      },
      {
       "output_type": "stream",
       "stream": "stdout",
       "text": [
        "\r",
        "Computed features for frame 753 of 1208 in 0.10492515564"
       ]
      },
      {
       "output_type": "stream",
       "stream": "stdout",
       "text": [
        "\r",
        "Computed features for frame 754 of 1208 in 0.10791182518"
       ]
      },
      {
       "output_type": "stream",
       "stream": "stdout",
       "text": [
        "\r",
        "Computed features for frame 755 of 1208 in 0.106157779694"
       ]
      },
      {
       "output_type": "stream",
       "stream": "stdout",
       "text": [
        "\r",
        "Computed features for frame 756 of 1208 in 0.107181072235"
       ]
      },
      {
       "output_type": "stream",
       "stream": "stdout",
       "text": [
        "\r",
        "Computed features for frame 757 of 1208 in 0.104508876801"
       ]
      },
      {
       "output_type": "stream",
       "stream": "stdout",
       "text": [
        "\r",
        "Computed features for frame 758 of 1208 in 0.107801198959"
       ]
      },
      {
       "output_type": "stream",
       "stream": "stdout",
       "text": [
        "\r",
        "Computed features for frame 759 of 1208 in 0.108728885651"
       ]
      },
      {
       "output_type": "stream",
       "stream": "stdout",
       "text": [
        "\r",
        "Computed features for frame 760 of 1208 in 0.106650114059"
       ]
      },
      {
       "output_type": "stream",
       "stream": "stdout",
       "text": [
        "\r",
        "Computed features for frame 761 of 1208 in 0.106245994568"
       ]
      },
      {
       "output_type": "stream",
       "stream": "stdout",
       "text": [
        "\r",
        "Computed features for frame 762 of 1208 in 0.106642961502"
       ]
      },
      {
       "output_type": "stream",
       "stream": "stdout",
       "text": [
        "\r",
        "Computed features for frame 763 of 1208 in 0.110196113586"
       ]
      },
      {
       "output_type": "stream",
       "stream": "stdout",
       "text": [
        "\r",
        "Computed features for frame 764 of 1208 in 0.110199928284"
       ]
      },
      {
       "output_type": "stream",
       "stream": "stdout",
       "text": [
        "\r",
        "Computed features for frame 765 of 1208 in 0.110877990723"
       ]
      },
      {
       "output_type": "stream",
       "stream": "stdout",
       "text": [
        "\r",
        "Computed features for frame 766 of 1208 in 0.105739831924"
       ]
      },
      {
       "output_type": "stream",
       "stream": "stdout",
       "text": [
        "\r",
        "Computed features for frame 767 of 1208 in 0.108149051666"
       ]
      },
      {
       "output_type": "stream",
       "stream": "stdout",
       "text": [
        "\r",
        "Computed features for frame 768 of 1208 in 0.111322879791"
       ]
      },
      {
       "output_type": "stream",
       "stream": "stdout",
       "text": [
        "\r",
        "Computed features for frame 769 of 1208 in 0.111541032791"
       ]
      },
      {
       "output_type": "stream",
       "stream": "stdout",
       "text": [
        "\r",
        "Computed features for frame 770 of 1208 in 0.10648393631"
       ]
      },
      {
       "output_type": "stream",
       "stream": "stdout",
       "text": [
        "\r",
        "Computed features for frame 771 of 1208 in 0.112549066544"
       ]
      },
      {
       "output_type": "stream",
       "stream": "stdout",
       "text": [
        "\r",
        "Computed features for frame 772 of 1208 in 0.109041929245"
       ]
      },
      {
       "output_type": "stream",
       "stream": "stdout",
       "text": [
        "\r",
        "Computed features for frame 773 of 1208 in 0.109848976135"
       ]
      },
      {
       "output_type": "stream",
       "stream": "stdout",
       "text": [
        "\r",
        "Computed features for frame 774 of 1208 in 0.110257148743"
       ]
      },
      {
       "output_type": "stream",
       "stream": "stdout",
       "text": [
        "\r",
        "Computed features for frame 775 of 1208 in 0.107285022736"
       ]
      },
      {
       "output_type": "stream",
       "stream": "stdout",
       "text": [
        "\r",
        "Computed features for frame 776 of 1208 in 0.10556101799"
       ]
      },
      {
       "output_type": "stream",
       "stream": "stdout",
       "text": [
        "\r",
        "Computed features for frame 777 of 1208 in 0.10876584053"
       ]
      },
      {
       "output_type": "stream",
       "stream": "stdout",
       "text": [
        "\r",
        "Computed features for frame 778 of 1208 in 0.108367919922"
       ]
      },
      {
       "output_type": "stream",
       "stream": "stdout",
       "text": [
        "\r",
        "Computed features for frame 779 of 1208 in 0.105480909348"
       ]
      },
      {
       "output_type": "stream",
       "stream": "stdout",
       "text": [
        "\r",
        "Computed features for frame 780 of 1208 in 0.104535102844"
       ]
      },
      {
       "output_type": "stream",
       "stream": "stdout",
       "text": [
        "\r",
        "Computed features for frame 781 of 1208 in 0.107542037964"
       ]
      },
      {
       "output_type": "stream",
       "stream": "stdout",
       "text": [
        "\r",
        "Computed features for frame 782 of 1208 in 0.10501909256"
       ]
      },
      {
       "output_type": "stream",
       "stream": "stdout",
       "text": [
        "\r",
        "Computed features for frame 783 of 1208 in 0.110881090164"
       ]
      },
      {
       "output_type": "stream",
       "stream": "stdout",
       "text": [
        "\r",
        "Computed features for frame 784 of 1208 in 0.141696929932"
       ]
      },
      {
       "output_type": "stream",
       "stream": "stdout",
       "text": [
        "\r",
        "Computed features for frame 785 of 1208 in 0.152487039566"
       ]
      },
      {
       "output_type": "stream",
       "stream": "stdout",
       "text": [
        "\r",
        "Computed features for frame 786 of 1208 in 0.152308940887"
       ]
      },
      {
       "output_type": "stream",
       "stream": "stdout",
       "text": [
        "\r",
        "Computed features for frame 787 of 1208 in 0.16558098793"
       ]
      },
      {
       "output_type": "stream",
       "stream": "stdout",
       "text": [
        "\r",
        "Computed features for frame 788 of 1208 in 0.168018102646"
       ]
      },
      {
       "output_type": "stream",
       "stream": "stdout",
       "text": [
        "\r",
        "Computed features for frame 789 of 1208 in 0.167152166367"
       ]
      },
      {
       "output_type": "stream",
       "stream": "stdout",
       "text": [
        "\r",
        "Computed features for frame 790 of 1208 in 0.16573381424"
       ]
      },
      {
       "output_type": "stream",
       "stream": "stdout",
       "text": [
        "\r",
        "Computed features for frame 791 of 1208 in 0.166887998581"
       ]
      },
      {
       "output_type": "stream",
       "stream": "stdout",
       "text": [
        "\r",
        "Computed features for frame 792 of 1208 in 0.164869070053"
       ]
      },
      {
       "output_type": "stream",
       "stream": "stdout",
       "text": [
        "\r",
        "Computed features for frame 793 of 1208 in 0.164453983307"
       ]
      },
      {
       "output_type": "stream",
       "stream": "stdout",
       "text": [
        "\r",
        "Computed features for frame 794 of 1208 in 0.165371894836"
       ]
      },
      {
       "output_type": "stream",
       "stream": "stdout",
       "text": [
        "\r",
        "Computed features for frame 795 of 1208 in 0.144023895264"
       ]
      },
      {
       "output_type": "stream",
       "stream": "stdout",
       "text": [
        "\r",
        "Computed features for frame 796 of 1208 in 0.111388921738"
       ]
      },
      {
       "output_type": "stream",
       "stream": "stdout",
       "text": [
        "\r",
        "Computed features for frame 797 of 1208 in 0.108726024628"
       ]
      },
      {
       "output_type": "stream",
       "stream": "stdout",
       "text": [
        "\r",
        "Computed features for frame 798 of 1208 in 0.111160039902"
       ]
      },
      {
       "output_type": "stream",
       "stream": "stdout",
       "text": [
        "\r",
        "Computed features for frame 799 of 1208 in 0.10898399353"
       ]
      },
      {
       "output_type": "stream",
       "stream": "stdout",
       "text": [
        "\r",
        "Computed features for frame 800 of 1208 in 0.109062194824"
       ]
      },
      {
       "output_type": "stream",
       "stream": "stdout",
       "text": [
        "\r",
        "Computed features for frame 801 of 1208 in 0.110170841217"
       ]
      },
      {
       "output_type": "stream",
       "stream": "stdout",
       "text": [
        "\r",
        "Computed features for frame 802 of 1208 in 0.113696098328"
       ]
      },
      {
       "output_type": "stream",
       "stream": "stdout",
       "text": [
        "\r",
        "Computed features for frame 803 of 1208 in 0.109714984894"
       ]
      },
      {
       "output_type": "stream",
       "stream": "stdout",
       "text": [
        "\r",
        "Computed features for frame 804 of 1208 in 0.120990037918"
       ]
      },
      {
       "output_type": "stream",
       "stream": "stdout",
       "text": [
        "\r",
        "Computed features for frame 805 of 1208 in 0.14549612999"
       ]
      },
      {
       "output_type": "stream",
       "stream": "stdout",
       "text": [
        "\r",
        "Computed features for frame 806 of 1208 in 0.11200094223"
       ]
      },
      {
       "output_type": "stream",
       "stream": "stdout",
       "text": [
        "\r",
        "Computed features for frame 807 of 1208 in 0.107682943344"
       ]
      },
      {
       "output_type": "stream",
       "stream": "stdout",
       "text": [
        "\r",
        "Computed features for frame 808 of 1208 in 0.146489143372"
       ]
      },
      {
       "output_type": "stream",
       "stream": "stdout",
       "text": [
        "\r",
        "Computed features for frame 809 of 1208 in 0.16322016716"
       ]
      },
      {
       "output_type": "stream",
       "stream": "stdout",
       "text": [
        "\r",
        "Computed features for frame 810 of 1208 in 0.159327030182"
       ]
      },
      {
       "output_type": "stream",
       "stream": "stdout",
       "text": [
        "\r",
        "Computed features for frame 811 of 1208 in 0.142851114273"
       ]
      },
      {
       "output_type": "stream",
       "stream": "stdout",
       "text": [
        "\r",
        "Computed features for frame 812 of 1208 in 0.110459089279"
       ]
      },
      {
       "output_type": "stream",
       "stream": "stdout",
       "text": [
        "\r",
        "Computed features for frame 813 of 1208 in 0.106470823288"
       ]
      },
      {
       "output_type": "stream",
       "stream": "stdout",
       "text": [
        "\r",
        "Computed features for frame 814 of 1208 in 0.106703042984"
       ]
      },
      {
       "output_type": "stream",
       "stream": "stdout",
       "text": [
        "\r",
        "Computed features for frame 815 of 1208 in 0.111301183701"
       ]
      },
      {
       "output_type": "stream",
       "stream": "stdout",
       "text": [
        "\r",
        "Computed features for frame 816 of 1208 in 0.118506908417"
       ]
      },
      {
       "output_type": "stream",
       "stream": "stdout",
       "text": [
        "\r",
        "Computed features for frame 817 of 1208 in 0.108236789703"
       ]
      },
      {
       "output_type": "stream",
       "stream": "stdout",
       "text": [
        "\r",
        "Computed features for frame 818 of 1208 in 0.107789993286"
       ]
      },
      {
       "output_type": "stream",
       "stream": "stdout",
       "text": [
        "\r",
        "Computed features for frame 819 of 1208 in 0.109039783478"
       ]
      },
      {
       "output_type": "stream",
       "stream": "stdout",
       "text": [
        "\r",
        "Computed features for frame 820 of 1208 in 0.107357025146"
       ]
      },
      {
       "output_type": "stream",
       "stream": "stdout",
       "text": [
        "\r",
        "Computed features for frame 821 of 1208 in 0.107918977737"
       ]
      },
      {
       "output_type": "stream",
       "stream": "stdout",
       "text": [
        "\r",
        "Computed features for frame 822 of 1208 in 0.111229896545"
       ]
      },
      {
       "output_type": "stream",
       "stream": "stdout",
       "text": [
        "\r",
        "Computed features for frame 823 of 1208 in 0.151168107986"
       ]
      },
      {
       "output_type": "stream",
       "stream": "stdout",
       "text": [
        "\r",
        "Computed features for frame 824 of 1208 in 0.116370916367"
       ]
      },
      {
       "output_type": "stream",
       "stream": "stdout",
       "text": [
        "\r",
        "Computed features for frame 825 of 1208 in 0.106791973114"
       ]
      },
      {
       "output_type": "stream",
       "stream": "stdout",
       "text": [
        "\r",
        "Computed features for frame 826 of 1208 in 0.109498023987"
       ]
      },
      {
       "output_type": "stream",
       "stream": "stdout",
       "text": [
        "\r",
        "Computed features for frame 827 of 1208 in 0.105829000473"
       ]
      },
      {
       "output_type": "stream",
       "stream": "stdout",
       "text": [
        "\r",
        "Computed features for frame 828 of 1208 in 0.107863903046"
       ]
      },
      {
       "output_type": "stream",
       "stream": "stdout",
       "text": [
        "\r",
        "Computed features for frame 829 of 1208 in 0.109532117844"
       ]
      },
      {
       "output_type": "stream",
       "stream": "stdout",
       "text": [
        "\r",
        "Computed features for frame 830 of 1208 in 0.106445074081"
       ]
      },
      {
       "output_type": "stream",
       "stream": "stdout",
       "text": [
        "\r",
        "Computed features for frame 831 of 1208 in 0.105779886246"
       ]
      },
      {
       "output_type": "stream",
       "stream": "stdout",
       "text": [
        "\r",
        "Computed features for frame 832 of 1208 in 0.105905056"
       ]
      },
      {
       "output_type": "stream",
       "stream": "stdout",
       "text": [
        "\r",
        "Computed features for frame 833 of 1208 in 0.104253053665"
       ]
      },
      {
       "output_type": "stream",
       "stream": "stdout",
       "text": [
        "\r",
        "Computed features for frame 834 of 1208 in 0.10631608963"
       ]
      },
      {
       "output_type": "stream",
       "stream": "stdout",
       "text": [
        "\r",
        "Computed features for frame 835 of 1208 in 0.109797000885"
       ]
      },
      {
       "output_type": "stream",
       "stream": "stdout",
       "text": [
        "\r",
        "Computed features for frame 836 of 1208 in 0.116065979004"
       ]
      },
      {
       "output_type": "stream",
       "stream": "stdout",
       "text": [
        "\r",
        "Computed features for frame 837 of 1208 in 0.112284898758"
       ]
      },
      {
       "output_type": "stream",
       "stream": "stdout",
       "text": [
        "\r",
        "Computed features for frame 838 of 1208 in 0.10817193985"
       ]
      },
      {
       "output_type": "stream",
       "stream": "stdout",
       "text": [
        "\r",
        "Computed features for frame 839 of 1208 in 0.107111215591"
       ]
      },
      {
       "output_type": "stream",
       "stream": "stdout",
       "text": [
        "\r",
        "Computed features for frame 840 of 1208 in 0.108059883118"
       ]
      },
      {
       "output_type": "stream",
       "stream": "stdout",
       "text": [
        "\r",
        "Computed features for frame 841 of 1208 in 0.108102083206"
       ]
      },
      {
       "output_type": "stream",
       "stream": "stdout",
       "text": [
        "\r",
        "Computed features for frame 842 of 1208 in 0.106580972672"
       ]
      },
      {
       "output_type": "stream",
       "stream": "stdout",
       "text": [
        "\r",
        "Computed features for frame 843 of 1208 in 0.111397981644"
       ]
      },
      {
       "output_type": "stream",
       "stream": "stdout",
       "text": [
        "\r",
        "Computed features for frame 844 of 1208 in 0.109714984894"
       ]
      },
      {
       "output_type": "stream",
       "stream": "stdout",
       "text": [
        "\r",
        "Computed features for frame 845 of 1208 in 0.109494924545"
       ]
      },
      {
       "output_type": "stream",
       "stream": "stdout",
       "text": [
        "\r",
        "Computed features for frame 846 of 1208 in 0.108433961868"
       ]
      },
      {
       "output_type": "stream",
       "stream": "stdout",
       "text": [
        "\r",
        "Computed features for frame 847 of 1208 in 0.108751058578"
       ]
      },
      {
       "output_type": "stream",
       "stream": "stdout",
       "text": [
        "\r",
        "Computed features for frame 848 of 1208 in 0.107955932617"
       ]
      },
      {
       "output_type": "stream",
       "stream": "stdout",
       "text": [
        "\r",
        "Computed features for frame 849 of 1208 in 0.112030982971"
       ]
      },
      {
       "output_type": "stream",
       "stream": "stdout",
       "text": [
        "\r",
        "Computed features for frame 850 of 1208 in 0.111601114273"
       ]
      },
      {
       "output_type": "stream",
       "stream": "stdout",
       "text": [
        "\r",
        "Computed features for frame 851 of 1208 in 0.109616994858"
       ]
      },
      {
       "output_type": "stream",
       "stream": "stdout",
       "text": [
        "\r",
        "Computed features for frame 852 of 1208 in 0.106692075729"
       ]
      },
      {
       "output_type": "stream",
       "stream": "stdout",
       "text": [
        "\r",
        "Computed features for frame 853 of 1208 in 0.109205007553"
       ]
      },
      {
       "output_type": "stream",
       "stream": "stdout",
       "text": [
        "\r",
        "Computed features for frame 854 of 1208 in 0.121164083481"
       ]
      },
      {
       "output_type": "stream",
       "stream": "stdout",
       "text": [
        "\r",
        "Computed features for frame 855 of 1208 in 0.114750862122"
       ]
      },
      {
       "output_type": "stream",
       "stream": "stdout",
       "text": [
        "\r",
        "Computed features for frame 856 of 1208 in 0.107749938965"
       ]
      },
      {
       "output_type": "stream",
       "stream": "stdout",
       "text": [
        "\r",
        "Computed features for frame 857 of 1208 in 0.116749048233"
       ]
      },
      {
       "output_type": "stream",
       "stream": "stdout",
       "text": [
        "\r",
        "Computed features for frame 858 of 1208 in 0.115648984909"
       ]
      },
      {
       "output_type": "stream",
       "stream": "stdout",
       "text": [
        "\r",
        "Computed features for frame 859 of 1208 in 0.107077121735"
       ]
      },
      {
       "output_type": "stream",
       "stream": "stdout",
       "text": [
        "\r",
        "Computed features for frame 860 of 1208 in 0.10706114769"
       ]
      },
      {
       "output_type": "stream",
       "stream": "stdout",
       "text": [
        "\r",
        "Computed features for frame 861 of 1208 in 0.106150865555"
       ]
      },
      {
       "output_type": "stream",
       "stream": "stdout",
       "text": [
        "\r",
        "Computed features for frame 862 of 1208 in 0.105046987534"
       ]
      },
      {
       "output_type": "stream",
       "stream": "stdout",
       "text": [
        "\r",
        "Computed features for frame 863 of 1208 in 0.107753992081"
       ]
      },
      {
       "output_type": "stream",
       "stream": "stdout",
       "text": [
        "\r",
        "Computed features for frame 864 of 1208 in 0.104004859924"
       ]
      },
      {
       "output_type": "stream",
       "stream": "stdout",
       "text": [
        "\r",
        "Computed features for frame 865 of 1208 in 0.108983039856"
       ]
      },
      {
       "output_type": "stream",
       "stream": "stdout",
       "text": [
        "\r",
        "Computed features for frame 866 of 1208 in 0.105315923691"
       ]
      },
      {
       "output_type": "stream",
       "stream": "stdout",
       "text": [
        "\r",
        "Computed features for frame 867 of 1208 in 0.106813907623"
       ]
      },
      {
       "output_type": "stream",
       "stream": "stdout",
       "text": [
        "\r",
        "Computed features for frame 868 of 1208 in 0.10596203804"
       ]
      },
      {
       "output_type": "stream",
       "stream": "stdout",
       "text": [
        "\r",
        "Computed features for frame 869 of 1208 in 0.106396913528"
       ]
      },
      {
       "output_type": "stream",
       "stream": "stdout",
       "text": [
        "\r",
        "Computed features for frame 870 of 1208 in 0.108415126801"
       ]
      },
      {
       "output_type": "stream",
       "stream": "stdout",
       "text": [
        "\r",
        "Computed features for frame 871 of 1208 in 0.10516500473"
       ]
      },
      {
       "output_type": "stream",
       "stream": "stdout",
       "text": [
        "\r",
        "Computed features for frame 872 of 1208 in 0.107156038284"
       ]
      },
      {
       "output_type": "stream",
       "stream": "stdout",
       "text": [
        "\r",
        "Computed features for frame 873 of 1208 in 0.111176967621"
       ]
      },
      {
       "output_type": "stream",
       "stream": "stdout",
       "text": [
        "\r",
        "Computed features for frame 874 of 1208 in 0.108376026154"
       ]
      },
      {
       "output_type": "stream",
       "stream": "stdout",
       "text": [
        "\r",
        "Computed features for frame 875 of 1208 in 0.105714082718"
       ]
      },
      {
       "output_type": "stream",
       "stream": "stdout",
       "text": [
        "\r",
        "Computed features for frame 876 of 1208 in 0.108791828156"
       ]
      },
      {
       "output_type": "stream",
       "stream": "stdout",
       "text": [
        "\r",
        "Computed features for frame 877 of 1208 in 0.171113014221"
       ]
      },
      {
       "output_type": "stream",
       "stream": "stdout",
       "text": [
        "\r",
        "Computed features for frame 878 of 1208 in 0.166172027588"
       ]
      },
      {
       "output_type": "stream",
       "stream": "stdout",
       "text": [
        "\r",
        "Computed features for frame 879 of 1208 in 0.166543006897"
       ]
      },
      {
       "output_type": "stream",
       "stream": "stdout",
       "text": [
        "\r",
        "Computed features for frame 880 of 1208 in 0.167675971985"
       ]
      },
      {
       "output_type": "stream",
       "stream": "stdout",
       "text": [
        "\r",
        "Computed features for frame 881 of 1208 in 0.16467499733"
       ]
      },
      {
       "output_type": "stream",
       "stream": "stdout",
       "text": [
        "\r",
        "Computed features for frame 882 of 1208 in 0.107795953751"
       ]
      },
      {
       "output_type": "stream",
       "stream": "stdout",
       "text": [
        "\r",
        "Computed features for frame 883 of 1208 in 0.112749099731"
       ]
      },
      {
       "output_type": "stream",
       "stream": "stdout",
       "text": [
        "\r",
        "Computed features for frame 884 of 1208 in 0.105744123459"
       ]
      },
      {
       "output_type": "stream",
       "stream": "stdout",
       "text": [
        "\r",
        "Computed features for frame 885 of 1208 in 0.105642795563"
       ]
      },
      {
       "output_type": "stream",
       "stream": "stdout",
       "text": [
        "\r",
        "Computed features for frame 886 of 1208 in 0.104984045029"
       ]
      },
      {
       "output_type": "stream",
       "stream": "stdout",
       "text": [
        "\r",
        "Computed features for frame 887 of 1208 in 0.105252027512"
       ]
      },
      {
       "output_type": "stream",
       "stream": "stdout",
       "text": [
        "\r",
        "Computed features for frame 888 of 1208 in 0.106462001801"
       ]
      },
      {
       "output_type": "stream",
       "stream": "stdout",
       "text": [
        "\r",
        "Computed features for frame 889 of 1208 in 0.110156059265"
       ]
      },
      {
       "output_type": "stream",
       "stream": "stdout",
       "text": [
        "\r",
        "Computed features for frame 890 of 1208 in 0.106961965561"
       ]
      },
      {
       "output_type": "stream",
       "stream": "stdout",
       "text": [
        "\r",
        "Computed features for frame 891 of 1208 in 0.105657815933"
       ]
      },
      {
       "output_type": "stream",
       "stream": "stdout",
       "text": [
        "\r",
        "Computed features for frame 892 of 1208 in 0.107414007187"
       ]
      },
      {
       "output_type": "stream",
       "stream": "stdout",
       "text": [
        "\r",
        "Computed features for frame 893 of 1208 in 0.145706892014"
       ]
      },
      {
       "output_type": "stream",
       "stream": "stdout",
       "text": [
        "\r",
        "Computed features for frame 894 of 1208 in 0.134403944016"
       ]
      },
      {
       "output_type": "stream",
       "stream": "stdout",
       "text": [
        "\r",
        "Computed features for frame 895 of 1208 in 0.110941886902"
       ]
      },
      {
       "output_type": "stream",
       "stream": "stdout",
       "text": [
        "\r",
        "Computed features for frame 896 of 1208 in 0.107393980026"
       ]
      },
      {
       "output_type": "stream",
       "stream": "stdout",
       "text": [
        "\r",
        "Computed features for frame 897 of 1208 in 0.108824968338"
       ]
      },
      {
       "output_type": "stream",
       "stream": "stdout",
       "text": [
        "\r",
        "Computed features for frame 898 of 1208 in 0.109256029129"
       ]
      },
      {
       "output_type": "stream",
       "stream": "stdout",
       "text": [
        "\r",
        "Computed features for frame 899 of 1208 in 0.10830783844"
       ]
      },
      {
       "output_type": "stream",
       "stream": "stdout",
       "text": [
        "\r",
        "Computed features for frame 900 of 1208 in 0.111815929413"
       ]
      },
      {
       "output_type": "stream",
       "stream": "stdout",
       "text": [
        "\r",
        "Computed features for frame 901 of 1208 in 0.107182979584"
       ]
      },
      {
       "output_type": "stream",
       "stream": "stdout",
       "text": [
        "\r",
        "Computed features for frame 902 of 1208 in 0.108583927155"
       ]
      },
      {
       "output_type": "stream",
       "stream": "stdout",
       "text": [
        "\r",
        "Computed features for frame 903 of 1208 in 0.106473922729"
       ]
      },
      {
       "output_type": "stream",
       "stream": "stdout",
       "text": [
        "\r",
        "Computed features for frame 904 of 1208 in 0.10674905777"
       ]
      },
      {
       "output_type": "stream",
       "stream": "stdout",
       "text": [
        "\r",
        "Computed features for frame 905 of 1208 in 0.107719898224"
       ]
      },
      {
       "output_type": "stream",
       "stream": "stdout",
       "text": [
        "\r",
        "Computed features for frame 906 of 1208 in 0.107576847076"
       ]
      },
      {
       "output_type": "stream",
       "stream": "stdout",
       "text": [
        "\r",
        "Computed features for frame 907 of 1208 in 0.111684799194"
       ]
      },
      {
       "output_type": "stream",
       "stream": "stdout",
       "text": [
        "\r",
        "Computed features for frame 908 of 1208 in 0.107501983643"
       ]
      },
      {
       "output_type": "stream",
       "stream": "stdout",
       "text": [
        "\r",
        "Computed features for frame 909 of 1208 in 0.1076130867"
       ]
      },
      {
       "output_type": "stream",
       "stream": "stdout",
       "text": [
        "\r",
        "Computed features for frame 910 of 1208 in 0.111963033676"
       ]
      },
      {
       "output_type": "stream",
       "stream": "stdout",
       "text": [
        "\r",
        "Computed features for frame 911 of 1208 in 0.107070922852"
       ]
      },
      {
       "output_type": "stream",
       "stream": "stdout",
       "text": [
        "\r",
        "Computed features for frame 912 of 1208 in 0.110524892807"
       ]
      },
      {
       "output_type": "stream",
       "stream": "stdout",
       "text": [
        "\r",
        "Computed features for frame 913 of 1208 in 0.106676101685"
       ]
      },
      {
       "output_type": "stream",
       "stream": "stdout",
       "text": [
        "\r",
        "Computed features for frame 914 of 1208 in 0.108202934265"
       ]
      },
      {
       "output_type": "stream",
       "stream": "stdout",
       "text": [
        "\r",
        "Computed features for frame 915 of 1208 in 0.107463121414"
       ]
      },
      {
       "output_type": "stream",
       "stream": "stdout",
       "text": [
        "\r",
        "Computed features for frame 916 of 1208 in 0.107403993607"
       ]
      },
      {
       "output_type": "stream",
       "stream": "stdout",
       "text": [
        "\r",
        "Computed features for frame 917 of 1208 in 0.106422901154"
       ]
      },
      {
       "output_type": "stream",
       "stream": "stdout",
       "text": [
        "\r",
        "Computed features for frame 918 of 1208 in 0.110754013062"
       ]
      },
      {
       "output_type": "stream",
       "stream": "stdout",
       "text": [
        "\r",
        "Computed features for frame 919 of 1208 in 0.119085788727"
       ]
      },
      {
       "output_type": "stream",
       "stream": "stdout",
       "text": [
        "\r",
        "Computed features for frame 920 of 1208 in 0.123276948929"
       ]
      },
      {
       "output_type": "stream",
       "stream": "stdout",
       "text": [
        "\r",
        "Computed features for frame 921 of 1208 in 0.114104986191"
       ]
      },
      {
       "output_type": "stream",
       "stream": "stdout",
       "text": [
        "\r",
        "Computed features for frame 922 of 1208 in 0.106645822525"
       ]
      },
      {
       "output_type": "stream",
       "stream": "stdout",
       "text": [
        "\r",
        "Computed features for frame 923 of 1208 in 0.107537984848"
       ]
      },
      {
       "output_type": "stream",
       "stream": "stdout",
       "text": [
        "\r",
        "Computed features for frame 924 of 1208 in 0.106925964355"
       ]
      },
      {
       "output_type": "stream",
       "stream": "stdout",
       "text": [
        "\r",
        "Computed features for frame 925 of 1208 in 0.11269402504"
       ]
      },
      {
       "output_type": "stream",
       "stream": "stdout",
       "text": [
        "\r",
        "Computed features for frame 926 of 1208 in 0.107139825821"
       ]
      },
      {
       "output_type": "stream",
       "stream": "stdout",
       "text": [
        "\r",
        "Computed features for frame 927 of 1208 in 0.105574846268"
       ]
      },
      {
       "output_type": "stream",
       "stream": "stdout",
       "text": [
        "\r",
        "Computed features for frame 928 of 1208 in 0.109652042389"
       ]
      },
      {
       "output_type": "stream",
       "stream": "stdout",
       "text": [
        "\r",
        "Computed features for frame 929 of 1208 in 0.121802091599"
       ]
      },
      {
       "output_type": "stream",
       "stream": "stdout",
       "text": [
        "\r",
        "Computed features for frame 930 of 1208 in 0.119544029236"
       ]
      },
      {
       "output_type": "stream",
       "stream": "stdout",
       "text": [
        "\r",
        "Computed features for frame 931 of 1208 in 0.114775896072"
       ]
      },
      {
       "output_type": "stream",
       "stream": "stdout",
       "text": [
        "\r",
        "Computed features for frame 932 of 1208 in 0.121783971786"
       ]
      },
      {
       "output_type": "stream",
       "stream": "stdout",
       "text": [
        "\r",
        "Computed features for frame 933 of 1208 in 0.157178878784"
       ]
      },
      {
       "output_type": "stream",
       "stream": "stdout",
       "text": [
        "\r",
        "Computed features for frame 934 of 1208 in 0.115358829498"
       ]
      },
      {
       "output_type": "stream",
       "stream": "stdout",
       "text": [
        "\r",
        "Computed features for frame 935 of 1208 in 0.110387086868"
       ]
      },
      {
       "output_type": "stream",
       "stream": "stdout",
       "text": [
        "\r",
        "Computed features for frame 936 of 1208 in 0.131900072098"
       ]
      },
      {
       "output_type": "stream",
       "stream": "stdout",
       "text": [
        "\r",
        "Computed features for frame 937 of 1208 in 0.12171792984"
       ]
      },
      {
       "output_type": "stream",
       "stream": "stdout",
       "text": [
        "\r",
        "Computed features for frame 938 of 1208 in 0.119245052338"
       ]
      },
      {
       "output_type": "stream",
       "stream": "stdout",
       "text": [
        "\r",
        "Computed features for frame 939 of 1208 in 0.108127117157"
       ]
      },
      {
       "output_type": "stream",
       "stream": "stdout",
       "text": [
        "\r",
        "Computed features for frame 940 of 1208 in 0.106679916382"
       ]
      },
      {
       "output_type": "stream",
       "stream": "stdout",
       "text": [
        "\r",
        "Computed features for frame 941 of 1208 in 0.110707998276"
       ]
      },
      {
       "output_type": "stream",
       "stream": "stdout",
       "text": [
        "\r",
        "Computed features for frame 942 of 1208 in 0.113885164261"
       ]
      },
      {
       "output_type": "stream",
       "stream": "stdout",
       "text": [
        "\r",
        "Computed features for frame 943 of 1208 in 0.106251955032"
       ]
      },
      {
       "output_type": "stream",
       "stream": "stdout",
       "text": [
        "\r",
        "Computed features for frame 944 of 1208 in 0.111855983734"
       ]
      },
      {
       "output_type": "stream",
       "stream": "stdout",
       "text": [
        "\r",
        "Computed features for frame 945 of 1208 in 0.122475862503"
       ]
      },
      {
       "output_type": "stream",
       "stream": "stdout",
       "text": [
        "\r",
        "Computed features for frame 946 of 1208 in 0.107777118683"
       ]
      },
      {
       "output_type": "stream",
       "stream": "stdout",
       "text": [
        "\r",
        "Computed features for frame 947 of 1208 in 0.107367992401"
       ]
      },
      {
       "output_type": "stream",
       "stream": "stdout",
       "text": [
        "\r",
        "Computed features for frame 948 of 1208 in 0.111468076706"
       ]
      },
      {
       "output_type": "stream",
       "stream": "stdout",
       "text": [
        "\r",
        "Computed features for frame 949 of 1208 in 0.108808040619"
       ]
      },
      {
       "output_type": "stream",
       "stream": "stdout",
       "text": [
        "\r",
        "Computed features for frame 950 of 1208 in 0.131235122681"
       ]
      },
      {
       "output_type": "stream",
       "stream": "stdout",
       "text": [
        "\r",
        "Computed features for frame 951 of 1208 in 0.116607189178"
       ]
      },
      {
       "output_type": "stream",
       "stream": "stdout",
       "text": [
        "\r",
        "Computed features for frame 952 of 1208 in 0.1087911129"
       ]
      },
      {
       "output_type": "stream",
       "stream": "stdout",
       "text": [
        "\r",
        "Computed features for frame 953 of 1208 in 0.109907150269"
       ]
      },
      {
       "output_type": "stream",
       "stream": "stdout",
       "text": [
        "\r",
        "Computed features for frame 954 of 1208 in 0.109532117844"
       ]
      },
      {
       "output_type": "stream",
       "stream": "stdout",
       "text": [
        "\r",
        "Computed features for frame 955 of 1208 in 0.119690179825"
       ]
      },
      {
       "output_type": "stream",
       "stream": "stdout",
       "text": [
        "\r",
        "Computed features for frame 956 of 1208 in 0.115261077881"
       ]
      },
      {
       "output_type": "stream",
       "stream": "stdout",
       "text": [
        "\r",
        "Computed features for frame 957 of 1208 in 0.110137939453"
       ]
      },
      {
       "output_type": "stream",
       "stream": "stdout",
       "text": [
        "\r",
        "Computed features for frame 958 of 1208 in 0.108453035355"
       ]
      },
      {
       "output_type": "stream",
       "stream": "stdout",
       "text": [
        "\r",
        "Computed features for frame 959 of 1208 in 0.108355045319"
       ]
      },
      {
       "output_type": "stream",
       "stream": "stdout",
       "text": [
        "\r",
        "Computed features for frame 960 of 1208 in 0.111968040466"
       ]
      },
      {
       "output_type": "stream",
       "stream": "stdout",
       "text": [
        "\r",
        "Computed features for frame 961 of 1208 in 0.109572172165"
       ]
      },
      {
       "output_type": "stream",
       "stream": "stdout",
       "text": [
        "\r",
        "Computed features for frame 962 of 1208 in 0.114855051041"
       ]
      },
      {
       "output_type": "stream",
       "stream": "stdout",
       "text": [
        "\r",
        "Computed features for frame 963 of 1208 in 0.108728170395"
       ]
      },
      {
       "output_type": "stream",
       "stream": "stdout",
       "text": [
        "\r",
        "Computed features for frame 964 of 1208 in 0.150280952454"
       ]
      },
      {
       "output_type": "stream",
       "stream": "stdout",
       "text": [
        "\r",
        "Computed features for frame 965 of 1208 in 0.142247915268"
       ]
      },
      {
       "output_type": "stream",
       "stream": "stdout",
       "text": [
        "\r",
        "Computed features for frame 966 of 1208 in 0.110064029694"
       ]
      },
      {
       "output_type": "stream",
       "stream": "stdout",
       "text": [
        "\r",
        "Computed features for frame 967 of 1208 in 0.1065928936"
       ]
      },
      {
       "output_type": "stream",
       "stream": "stdout",
       "text": [
        "\r",
        "Computed features for frame 968 of 1208 in 0.103822946548"
       ]
      },
      {
       "output_type": "stream",
       "stream": "stdout",
       "text": [
        "\r",
        "Computed features for frame 969 of 1208 in 0.104079008102"
       ]
      },
      {
       "output_type": "stream",
       "stream": "stdout",
       "text": [
        "\r",
        "Computed features for frame 970 of 1208 in 0.105916976929"
       ]
      },
      {
       "output_type": "stream",
       "stream": "stdout",
       "text": [
        "\r",
        "Computed features for frame 971 of 1208 in 0.108132123947"
       ]
      },
      {
       "output_type": "stream",
       "stream": "stdout",
       "text": [
        "\r",
        "Computed features for frame 972 of 1208 in 0.108565807343"
       ]
      },
      {
       "output_type": "stream",
       "stream": "stdout",
       "text": [
        "\r",
        "Computed features for frame 973 of 1208 in 0.106080055237"
       ]
      },
      {
       "output_type": "stream",
       "stream": "stdout",
       "text": [
        "\r",
        "Computed features for frame 974 of 1208 in 0.105354070663"
       ]
      },
      {
       "output_type": "stream",
       "stream": "stdout",
       "text": [
        "\r",
        "Computed features for frame 975 of 1208 in 0.108839035034"
       ]
      },
      {
       "output_type": "stream",
       "stream": "stdout",
       "text": [
        "\r",
        "Computed features for frame 976 of 1208 in 0.109249830246"
       ]
      },
      {
       "output_type": "stream",
       "stream": "stdout",
       "text": [
        "\r",
        "Computed features for frame 977 of 1208 in 0.110254049301"
       ]
      },
      {
       "output_type": "stream",
       "stream": "stdout",
       "text": [
        "\r",
        "Computed features for frame 978 of 1208 in 0.110373973846"
       ]
      },
      {
       "output_type": "stream",
       "stream": "stdout",
       "text": [
        "\r",
        "Computed features for frame 979 of 1208 in 0.107886791229"
       ]
      },
      {
       "output_type": "stream",
       "stream": "stdout",
       "text": [
        "\r",
        "Computed features for frame 980 of 1208 in 0.108221054077"
       ]
      },
      {
       "output_type": "stream",
       "stream": "stdout",
       "text": [
        "\r",
        "Computed features for frame 981 of 1208 in 0.111503124237"
       ]
      },
      {
       "output_type": "stream",
       "stream": "stdout",
       "text": [
        "\r",
        "Computed features for frame 982 of 1208 in 0.115654945374"
       ]
      },
      {
       "output_type": "stream",
       "stream": "stdout",
       "text": [
        "\r",
        "Computed features for frame 983 of 1208 in 0.107522010803"
       ]
      },
      {
       "output_type": "stream",
       "stream": "stdout",
       "text": [
        "\r",
        "Computed features for frame 984 of 1208 in 0.105823040009"
       ]
      },
      {
       "output_type": "stream",
       "stream": "stdout",
       "text": [
        "\r",
        "Computed features for frame 985 of 1208 in 0.150325059891"
       ]
      },
      {
       "output_type": "stream",
       "stream": "stdout",
       "text": [
        "\r",
        "Computed features for frame 986 of 1208 in 0.155179977417"
       ]
      },
      {
       "output_type": "stream",
       "stream": "stdout",
       "text": [
        "\r",
        "Computed features for frame 987 of 1208 in 0.120146989822"
       ]
      },
      {
       "output_type": "stream",
       "stream": "stdout",
       "text": [
        "\r",
        "Computed features for frame 988 of 1208 in 0.11144900322"
       ]
      },
      {
       "output_type": "stream",
       "stream": "stdout",
       "text": [
        "\r",
        "Computed features for frame 989 of 1208 in 0.10684800148"
       ]
      },
      {
       "output_type": "stream",
       "stream": "stdout",
       "text": [
        "\r",
        "Computed features for frame 990 of 1208 in 0.111629009247"
       ]
      },
      {
       "output_type": "stream",
       "stream": "stdout",
       "text": [
        "\r",
        "Computed features for frame 991 of 1208 in 0.14573097229"
       ]
      },
      {
       "output_type": "stream",
       "stream": "stdout",
       "text": [
        "\r",
        "Computed features for frame 992 of 1208 in 0.106402158737"
       ]
      },
      {
       "output_type": "stream",
       "stream": "stdout",
       "text": [
        "\r",
        "Computed features for frame 993 of 1208 in 0.104094028473"
       ]
      },
      {
       "output_type": "stream",
       "stream": "stdout",
       "text": [
        "\r",
        "Computed features for frame 994 of 1208 in 0.106418132782"
       ]
      },
      {
       "output_type": "stream",
       "stream": "stdout",
       "text": [
        "\r",
        "Computed features for frame 995 of 1208 in 0.11443901062"
       ]
      },
      {
       "output_type": "stream",
       "stream": "stdout",
       "text": [
        "\r",
        "Computed features for frame 996 of 1208 in 0.107080936432"
       ]
      },
      {
       "output_type": "stream",
       "stream": "stdout",
       "text": [
        "\r",
        "Computed features for frame 997 of 1208 in 0.107026815414"
       ]
      },
      {
       "output_type": "stream",
       "stream": "stdout",
       "text": [
        "\r",
        "Computed features for frame 998 of 1208 in 0.106829881668"
       ]
      },
      {
       "output_type": "stream",
       "stream": "stdout",
       "text": [
        "\r",
        "Computed features for frame 999 of 1208 in 0.109037876129"
       ]
      },
      {
       "output_type": "stream",
       "stream": "stdout",
       "text": [
        "\r",
        "Computed features for frame 1000 of 1208 in 0.109723091125"
       ]
      },
      {
       "output_type": "stream",
       "stream": "stdout",
       "text": [
        "\r",
        "Computed features for frame 1001 of 1208 in 0.107367992401"
       ]
      },
      {
       "output_type": "stream",
       "stream": "stdout",
       "text": [
        "\r",
        "Computed features for frame 1002 of 1208 in 0.107716083527"
       ]
      },
      {
       "output_type": "stream",
       "stream": "stdout",
       "text": [
        "\r",
        "Computed features for frame 1003 of 1208 in 0.107992887497"
       ]
      },
      {
       "output_type": "stream",
       "stream": "stdout",
       "text": [
        "\r",
        "Computed features for frame 1004 of 1208 in 0.109003067017"
       ]
      },
      {
       "output_type": "stream",
       "stream": "stdout",
       "text": [
        "\r",
        "Computed features for frame 1005 of 1208 in 0.115272045135"
       ]
      },
      {
       "output_type": "stream",
       "stream": "stdout",
       "text": [
        "\r",
        "Computed features for frame 1006 of 1208 in 0.113983869553"
       ]
      },
      {
       "output_type": "stream",
       "stream": "stdout",
       "text": [
        "\r",
        "Computed features for frame 1007 of 1208 in 0.108719110489"
       ]
      },
      {
       "output_type": "stream",
       "stream": "stdout",
       "text": [
        "\r",
        "Computed features for frame 1008 of 1208 in 0.118670940399"
       ]
      },
      {
       "output_type": "stream",
       "stream": "stdout",
       "text": [
        "\r",
        "Computed features for frame 1009 of 1208 in 0.108980894089"
       ]
      },
      {
       "output_type": "stream",
       "stream": "stdout",
       "text": [
        "\r",
        "Computed features for frame 1010 of 1208 in 0.109996080399"
       ]
      },
      {
       "output_type": "stream",
       "stream": "stdout",
       "text": [
        "\r",
        "Computed features for frame 1011 of 1208 in 0.110395908356"
       ]
      },
      {
       "output_type": "stream",
       "stream": "stdout",
       "text": [
        "\r",
        "Computed features for frame 1012 of 1208 in 0.109580993652"
       ]
      },
      {
       "output_type": "stream",
       "stream": "stdout",
       "text": [
        "\r",
        "Computed features for frame 1013 of 1208 in 0.11615896225"
       ]
      },
      {
       "output_type": "stream",
       "stream": "stdout",
       "text": [
        "\r",
        "Computed features for frame 1014 of 1208 in 0.109763860703"
       ]
      },
      {
       "output_type": "stream",
       "stream": "stdout",
       "text": [
        "\r",
        "Computed features for frame 1015 of 1208 in 0.109162092209"
       ]
      },
      {
       "output_type": "stream",
       "stream": "stdout",
       "text": [
        "\r",
        "Computed features for frame 1016 of 1208 in 0.108198165894"
       ]
      },
      {
       "output_type": "stream",
       "stream": "stdout",
       "text": [
        "\r",
        "Computed features for frame 1017 of 1208 in 0.10807299614"
       ]
      },
      {
       "output_type": "stream",
       "stream": "stdout",
       "text": [
        "\r",
        "Computed features for frame 1018 of 1208 in 0.134297847748"
       ]
      },
      {
       "output_type": "stream",
       "stream": "stdout",
       "text": [
        "\r",
        "Computed features for frame 1019 of 1208 in 0.108125925064"
       ]
      },
      {
       "output_type": "stream",
       "stream": "stdout",
       "text": [
        "\r",
        "Computed features for frame 1020 of 1208 in 0.116957187653"
       ]
      },
      {
       "output_type": "stream",
       "stream": "stdout",
       "text": [
        "\r",
        "Computed features for frame 1021 of 1208 in 0.10638999939"
       ]
      },
      {
       "output_type": "stream",
       "stream": "stdout",
       "text": [
        "\r",
        "Computed features for frame 1022 of 1208 in 0.108649015427"
       ]
      },
      {
       "output_type": "stream",
       "stream": "stdout",
       "text": [
        "\r",
        "Computed features for frame 1023 of 1208 in 0.107409954071"
       ]
      },
      {
       "output_type": "stream",
       "stream": "stdout",
       "text": [
        "\r",
        "Computed features for frame 1024 of 1208 in 0.112497091293"
       ]
      },
      {
       "output_type": "stream",
       "stream": "stdout",
       "text": [
        "\r",
        "Computed features for frame 1025 of 1208 in 0.107889890671"
       ]
      },
      {
       "output_type": "stream",
       "stream": "stdout",
       "text": [
        "\r",
        "Computed features for frame 1026 of 1208 in 0.106110095978"
       ]
      },
      {
       "output_type": "stream",
       "stream": "stdout",
       "text": [
        "\r",
        "Computed features for frame 1027 of 1208 in 0.114010810852"
       ]
      },
      {
       "output_type": "stream",
       "stream": "stdout",
       "text": [
        "\r",
        "Computed features for frame 1028 of 1208 in 0.107630968094"
       ]
      },
      {
       "output_type": "stream",
       "stream": "stdout",
       "text": [
        "\r",
        "Computed features for frame 1029 of 1208 in 0.107028007507"
       ]
      },
      {
       "output_type": "stream",
       "stream": "stdout",
       "text": [
        "\r",
        "Computed features for frame 1030 of 1208 in 0.107997894287"
       ]
      },
      {
       "output_type": "stream",
       "stream": "stdout",
       "text": [
        "\r",
        "Computed features for frame 1031 of 1208 in 0.112774133682"
       ]
      },
      {
       "output_type": "stream",
       "stream": "stdout",
       "text": [
        "\r",
        "Computed features for frame 1032 of 1208 in 0.108603954315"
       ]
      },
      {
       "output_type": "stream",
       "stream": "stdout",
       "text": [
        "\r",
        "Computed features for frame 1033 of 1208 in 0.113279104233"
       ]
      },
      {
       "output_type": "stream",
       "stream": "stdout",
       "text": [
        "\r",
        "Computed features for frame 1034 of 1208 in 0.111371994019"
       ]
      },
      {
       "output_type": "stream",
       "stream": "stdout",
       "text": [
        "\r",
        "Computed features for frame 1035 of 1208 in 0.115313053131"
       ]
      },
      {
       "output_type": "stream",
       "stream": "stdout",
       "text": [
        "\r",
        "Computed features for frame 1036 of 1208 in 0.110198020935"
       ]
      },
      {
       "output_type": "stream",
       "stream": "stdout",
       "text": [
        "\r",
        "Computed features for frame 1037 of 1208 in 0.106826066971"
       ]
      },
      {
       "output_type": "stream",
       "stream": "stdout",
       "text": [
        "\r",
        "Computed features for frame 1038 of 1208 in 0.106325149536"
       ]
      },
      {
       "output_type": "stream",
       "stream": "stdout",
       "text": [
        "\r",
        "Computed features for frame 1039 of 1208 in 0.10563492775"
       ]
      },
      {
       "output_type": "stream",
       "stream": "stdout",
       "text": [
        "\r",
        "Computed features for frame 1040 of 1208 in 0.111176013947"
       ]
      },
      {
       "output_type": "stream",
       "stream": "stdout",
       "text": [
        "\r",
        "Computed features for frame 1041 of 1208 in 0.107774972916"
       ]
      },
      {
       "output_type": "stream",
       "stream": "stdout",
       "text": [
        "\r",
        "Computed features for frame 1042 of 1208 in 0.124477148056"
       ]
      },
      {
       "output_type": "stream",
       "stream": "stdout",
       "text": [
        "\r",
        "Computed features for frame 1043 of 1208 in 0.114711999893"
       ]
      },
      {
       "output_type": "stream",
       "stream": "stdout",
       "text": [
        "\r",
        "Computed features for frame 1044 of 1208 in 0.109884977341"
       ]
      },
      {
       "output_type": "stream",
       "stream": "stdout",
       "text": [
        "\r",
        "Computed features for frame 1045 of 1208 in 0.106374025345"
       ]
      },
      {
       "output_type": "stream",
       "stream": "stdout",
       "text": [
        "\r",
        "Computed features for frame 1046 of 1208 in 0.10786485672"
       ]
      },
      {
       "output_type": "stream",
       "stream": "stdout",
       "text": [
        "\r",
        "Computed features for frame 1047 of 1208 in 0.108281135559"
       ]
      },
      {
       "output_type": "stream",
       "stream": "stdout",
       "text": [
        "\r",
        "Computed features for frame 1048 of 1208 in 0.106045007706"
       ]
      },
      {
       "output_type": "stream",
       "stream": "stdout",
       "text": [
        "\r",
        "Computed features for frame 1049 of 1208 in 0.110525846481"
       ]
      },
      {
       "output_type": "stream",
       "stream": "stdout",
       "text": [
        "\r",
        "Computed features for frame 1050 of 1208 in 0.108607053757"
       ]
      },
      {
       "output_type": "stream",
       "stream": "stdout",
       "text": [
        "\r",
        "Computed features for frame 1051 of 1208 in 0.122935056686"
       ]
      },
      {
       "output_type": "stream",
       "stream": "stdout",
       "text": [
        "\r",
        "Computed features for frame 1052 of 1208 in 0.136153936386"
       ]
      },
      {
       "output_type": "stream",
       "stream": "stdout",
       "text": [
        "\r",
        "Computed features for frame 1053 of 1208 in 0.109224081039"
       ]
      },
      {
       "output_type": "stream",
       "stream": "stdout",
       "text": [
        "\r",
        "Computed features for frame 1054 of 1208 in 0.106840133667"
       ]
      },
      {
       "output_type": "stream",
       "stream": "stdout",
       "text": [
        "\r",
        "Computed features for frame 1055 of 1208 in 0.110839128494"
       ]
      },
      {
       "output_type": "stream",
       "stream": "stdout",
       "text": [
        "\r",
        "Computed features for frame 1056 of 1208 in 0.107774972916"
       ]
      },
      {
       "output_type": "stream",
       "stream": "stdout",
       "text": [
        "\r",
        "Computed features for frame 1057 of 1208 in 0.109485864639"
       ]
      },
      {
       "output_type": "stream",
       "stream": "stdout",
       "text": [
        "\r",
        "Computed features for frame 1058 of 1208 in 0.109115123749"
       ]
      },
      {
       "output_type": "stream",
       "stream": "stdout",
       "text": [
        "\r",
        "Computed features for frame 1059 of 1208 in 0.109720945358"
       ]
      },
      {
       "output_type": "stream",
       "stream": "stdout",
       "text": [
        "\r",
        "Computed features for frame 1060 of 1208 in 0.111056804657"
       ]
      },
      {
       "output_type": "stream",
       "stream": "stdout",
       "text": [
        "\r",
        "Computed features for frame 1061 of 1208 in 0.114656925201"
       ]
      },
      {
       "output_type": "stream",
       "stream": "stdout",
       "text": [
        "\r",
        "Computed features for frame 1062 of 1208 in 0.114582061768"
       ]
      },
      {
       "output_type": "stream",
       "stream": "stdout",
       "text": [
        "\r",
        "Computed features for frame 1063 of 1208 in 0.156069040298"
       ]
      },
      {
       "output_type": "stream",
       "stream": "stdout",
       "text": [
        "\r",
        "Computed features for frame 1064 of 1208 in 0.153930902481"
       ]
      },
      {
       "output_type": "stream",
       "stream": "stdout",
       "text": [
        "\r",
        "Computed features for frame 1065 of 1208 in 0.115176916122"
       ]
      },
      {
       "output_type": "stream",
       "stream": "stdout",
       "text": [
        "\r",
        "Computed features for frame 1066 of 1208 in 0.112663984299"
       ]
      },
      {
       "output_type": "stream",
       "stream": "stdout",
       "text": [
        "\r",
        "Computed features for frame 1067 of 1208 in 0.117230892181"
       ]
      },
      {
       "output_type": "stream",
       "stream": "stdout",
       "text": [
        "\r",
        "Computed features for frame 1068 of 1208 in 0.142863988876"
       ]
      },
      {
       "output_type": "stream",
       "stream": "stdout",
       "text": [
        "\r",
        "Computed features for frame 1069 of 1208 in 0.129540920258"
       ]
      },
      {
       "output_type": "stream",
       "stream": "stdout",
       "text": [
        "\r",
        "Computed features for frame 1070 of 1208 in 0.111135005951"
       ]
      },
      {
       "output_type": "stream",
       "stream": "stdout",
       "text": [
        "\r",
        "Computed features for frame 1071 of 1208 in 0.108986139297"
       ]
      },
      {
       "output_type": "stream",
       "stream": "stdout",
       "text": [
        "\r",
        "Computed features for frame 1072 of 1208 in 0.108091831207"
       ]
      },
      {
       "output_type": "stream",
       "stream": "stdout",
       "text": [
        "\r",
        "Computed features for frame 1073 of 1208 in 0.106893062592"
       ]
      },
      {
       "output_type": "stream",
       "stream": "stdout",
       "text": [
        "\r",
        "Computed features for frame 1074 of 1208 in 0.107798099518"
       ]
      },
      {
       "output_type": "stream",
       "stream": "stdout",
       "text": [
        "\r",
        "Computed features for frame 1075 of 1208 in 0.105445861816"
       ]
      },
      {
       "output_type": "stream",
       "stream": "stdout",
       "text": [
        "\r",
        "Computed features for frame 1076 of 1208 in 0.106457948685"
       ]
      },
      {
       "output_type": "stream",
       "stream": "stdout",
       "text": [
        "\r",
        "Computed features for frame 1077 of 1208 in 0.11171412468"
       ]
      },
      {
       "output_type": "stream",
       "stream": "stdout",
       "text": [
        "\r",
        "Computed features for frame 1078 of 1208 in 0.108174085617"
       ]
      },
      {
       "output_type": "stream",
       "stream": "stdout",
       "text": [
        "\r",
        "Computed features for frame 1079 of 1208 in 0.113219022751"
       ]
      },
      {
       "output_type": "stream",
       "stream": "stdout",
       "text": [
        "\r",
        "Computed features for frame 1080 of 1208 in 0.106899023056"
       ]
      },
      {
       "output_type": "stream",
       "stream": "stdout",
       "text": [
        "\r",
        "Computed features for frame 1081 of 1208 in 0.107336044312"
       ]
      },
      {
       "output_type": "stream",
       "stream": "stdout",
       "text": [
        "\r",
        "Computed features for frame 1082 of 1208 in 0.109292030334"
       ]
      },
      {
       "output_type": "stream",
       "stream": "stdout",
       "text": [
        "\r",
        "Computed features for frame 1083 of 1208 in 0.107841014862"
       ]
      },
      {
       "output_type": "stream",
       "stream": "stdout",
       "text": [
        "\r",
        "Computed features for frame 1084 of 1208 in 0.106333971024"
       ]
      },
      {
       "output_type": "stream",
       "stream": "stdout",
       "text": [
        "\r",
        "Computed features for frame 1085 of 1208 in 0.167289018631"
       ]
      },
      {
       "output_type": "stream",
       "stream": "stdout",
       "text": [
        "\r",
        "Computed features for frame 1086 of 1208 in 0.109051942825"
       ]
      },
      {
       "output_type": "stream",
       "stream": "stdout",
       "text": [
        "\r",
        "Computed features for frame 1087 of 1208 in 0.111768960953"
       ]
      },
      {
       "output_type": "stream",
       "stream": "stdout",
       "text": [
        "\r",
        "Computed features for frame 1088 of 1208 in 0.114407062531"
       ]
      },
      {
       "output_type": "stream",
       "stream": "stdout",
       "text": [
        "\r",
        "Computed features for frame 1089 of 1208 in 0.108651161194"
       ]
      },
      {
       "output_type": "stream",
       "stream": "stdout",
       "text": [
        "\r",
        "Computed features for frame 1090 of 1208 in 0.121165037155"
       ]
      },
      {
       "output_type": "stream",
       "stream": "stdout",
       "text": [
        "\r",
        "Computed features for frame 1091 of 1208 in 0.11191701889"
       ]
      },
      {
       "output_type": "stream",
       "stream": "stdout",
       "text": [
        "\r",
        "Computed features for frame 1092 of 1208 in 0.107743024826"
       ]
      },
      {
       "output_type": "stream",
       "stream": "stdout",
       "text": [
        "\r",
        "Computed features for frame 1093 of 1208 in 0.109288930893"
       ]
      },
      {
       "output_type": "stream",
       "stream": "stdout",
       "text": [
        "\r",
        "Computed features for frame 1094 of 1208 in 0.109512805939"
       ]
      },
      {
       "output_type": "stream",
       "stream": "stdout",
       "text": [
        "\r",
        "Computed features for frame 1095 of 1208 in 0.116637945175"
       ]
      },
      {
       "output_type": "stream",
       "stream": "stdout",
       "text": [
        "\r",
        "Computed features for frame 1096 of 1208 in 0.11169719696"
       ]
      },
      {
       "output_type": "stream",
       "stream": "stdout",
       "text": [
        "\r",
        "Computed features for frame 1097 of 1208 in 0.111994028091"
       ]
      },
      {
       "output_type": "stream",
       "stream": "stdout",
       "text": [
        "\r",
        "Computed features for frame 1098 of 1208 in 0.109392166138"
       ]
      },
      {
       "output_type": "stream",
       "stream": "stdout",
       "text": [
        "\r",
        "Computed features for frame 1099 of 1208 in 0.109755039215"
       ]
      },
      {
       "output_type": "stream",
       "stream": "stdout",
       "text": [
        "\r",
        "Computed features for frame 1100 of 1208 in 0.108698129654"
       ]
      },
      {
       "output_type": "stream",
       "stream": "stdout",
       "text": [
        "\r",
        "Computed features for frame 1101 of 1208 in 0.11584687233"
       ]
      },
      {
       "output_type": "stream",
       "stream": "stdout",
       "text": [
        "\r",
        "Computed features for frame 1102 of 1208 in 0.11057806015"
       ]
      },
      {
       "output_type": "stream",
       "stream": "stdout",
       "text": [
        "\r",
        "Computed features for frame 1103 of 1208 in 0.108894824982"
       ]
      },
      {
       "output_type": "stream",
       "stream": "stdout",
       "text": [
        "\r",
        "Computed features for frame 1104 of 1208 in 0.107720851898"
       ]
      },
      {
       "output_type": "stream",
       "stream": "stdout",
       "text": [
        "\r",
        "Computed features for frame 1105 of 1208 in 0.112040996552"
       ]
      },
      {
       "output_type": "stream",
       "stream": "stdout",
       "text": [
        "\r",
        "Computed features for frame 1106 of 1208 in 0.107767105103"
       ]
      },
      {
       "output_type": "stream",
       "stream": "stdout",
       "text": [
        "\r",
        "Computed features for frame 1107 of 1208 in 0.118360996246"
       ]
      },
      {
       "output_type": "stream",
       "stream": "stdout",
       "text": [
        "\r",
        "Computed features for frame 1108 of 1208 in 0.109988212585"
       ]
      },
      {
       "output_type": "stream",
       "stream": "stdout",
       "text": [
        "\r",
        "Computed features for frame 1109 of 1208 in 0.109678030014"
       ]
      },
      {
       "output_type": "stream",
       "stream": "stdout",
       "text": [
        "\r",
        "Computed features for frame 1110 of 1208 in 0.108599185944"
       ]
      },
      {
       "output_type": "stream",
       "stream": "stdout",
       "text": [
        "\r",
        "Computed features for frame 1111 of 1208 in 0.110455036163"
       ]
      },
      {
       "output_type": "stream",
       "stream": "stdout",
       "text": [
        "\r",
        "Computed features for frame 1112 of 1208 in 0.112856864929"
       ]
      },
      {
       "output_type": "stream",
       "stream": "stdout",
       "text": [
        "\r",
        "Computed features for frame 1113 of 1208 in 0.108570098877"
       ]
      },
      {
       "output_type": "stream",
       "stream": "stdout",
       "text": [
        "\r",
        "Computed features for frame 1114 of 1208 in 0.108355045319"
       ]
      },
      {
       "output_type": "stream",
       "stream": "stdout",
       "text": [
        "\r",
        "Computed features for frame 1115 of 1208 in 0.114945173264"
       ]
      },
      {
       "output_type": "stream",
       "stream": "stdout",
       "text": [
        "\r",
        "Computed features for frame 1116 of 1208 in 0.10894203186"
       ]
      },
      {
       "output_type": "stream",
       "stream": "stdout",
       "text": [
        "\r",
        "Computed features for frame 1117 of 1208 in 0.110263824463"
       ]
      },
      {
       "output_type": "stream",
       "stream": "stdout",
       "text": [
        "\r",
        "Computed features for frame 1118 of 1208 in 0.109803915024"
       ]
      },
      {
       "output_type": "stream",
       "stream": "stdout",
       "text": [
        "\r",
        "Computed features for frame 1119 of 1208 in 0.110360145569"
       ]
      },
      {
       "output_type": "stream",
       "stream": "stdout",
       "text": [
        "\r",
        "Computed features for frame 1120 of 1208 in 0.109558820724"
       ]
      },
      {
       "output_type": "stream",
       "stream": "stdout",
       "text": [
        "\r",
        "Computed features for frame 1121 of 1208 in 0.114207983017"
       ]
      },
      {
       "output_type": "stream",
       "stream": "stdout",
       "text": [
        "\r",
        "Computed features for frame 1122 of 1208 in 0.114301919937"
       ]
      },
      {
       "output_type": "stream",
       "stream": "stdout",
       "text": [
        "\r",
        "Computed features for frame 1123 of 1208 in 0.115522861481"
       ]
      },
      {
       "output_type": "stream",
       "stream": "stdout",
       "text": [
        "\r",
        "Computed features for frame 1124 of 1208 in 0.113644123077"
       ]
      },
      {
       "output_type": "stream",
       "stream": "stdout",
       "text": [
        "\r",
        "Computed features for frame 1125 of 1208 in 0.109997987747"
       ]
      },
      {
       "output_type": "stream",
       "stream": "stdout",
       "text": [
        "\r",
        "Computed features for frame 1126 of 1208 in 0.110306024551"
       ]
      },
      {
       "output_type": "stream",
       "stream": "stdout",
       "text": [
        "\r",
        "Computed features for frame 1127 of 1208 in 0.111739873886"
       ]
      },
      {
       "output_type": "stream",
       "stream": "stdout",
       "text": [
        "\r",
        "Computed features for frame 1128 of 1208 in 0.107697963715"
       ]
      },
      {
       "output_type": "stream",
       "stream": "stdout",
       "text": [
        "\r",
        "Computed features for frame 1129 of 1208 in 0.105570077896"
       ]
      },
      {
       "output_type": "stream",
       "stream": "stdout",
       "text": [
        "\r",
        "Computed features for frame 1130 of 1208 in 0.107956171036"
       ]
      },
      {
       "output_type": "stream",
       "stream": "stdout",
       "text": [
        "\r",
        "Computed features for frame 1131 of 1208 in 0.108694076538"
       ]
      },
      {
       "output_type": "stream",
       "stream": "stdout",
       "text": [
        "\r",
        "Computed features for frame 1132 of 1208 in 0.107937097549"
       ]
      },
      {
       "output_type": "stream",
       "stream": "stdout",
       "text": [
        "\r",
        "Computed features for frame 1133 of 1208 in 0.108645200729"
       ]
      },
      {
       "output_type": "stream",
       "stream": "stdout",
       "text": [
        "\r",
        "Computed features for frame 1134 of 1208 in 0.108047962189"
       ]
      },
      {
       "output_type": "stream",
       "stream": "stdout",
       "text": [
        "\r",
        "Computed features for frame 1135 of 1208 in 0.113291978836"
       ]
      },
      {
       "output_type": "stream",
       "stream": "stdout",
       "text": [
        "\r",
        "Computed features for frame 1136 of 1208 in 0.105581998825"
       ]
      },
      {
       "output_type": "stream",
       "stream": "stdout",
       "text": [
        "\r",
        "Computed features for frame 1137 of 1208 in 0.106528997421"
       ]
      },
      {
       "output_type": "stream",
       "stream": "stdout",
       "text": [
        "\r",
        "Computed features for frame 1138 of 1208 in 0.139641046524"
       ]
      },
      {
       "output_type": "stream",
       "stream": "stdout",
       "text": [
        "\r",
        "Computed features for frame 1139 of 1208 in 0.116427898407"
       ]
      },
      {
       "output_type": "stream",
       "stream": "stdout",
       "text": [
        "\r",
        "Computed features for frame 1140 of 1208 in 0.112342834473"
       ]
      },
      {
       "output_type": "stream",
       "stream": "stdout",
       "text": [
        "\r",
        "Computed features for frame 1141 of 1208 in 0.110864877701"
       ]
      },
      {
       "output_type": "stream",
       "stream": "stdout",
       "text": [
        "\r",
        "Computed features for frame 1142 of 1208 in 0.116341114044"
       ]
      },
      {
       "output_type": "stream",
       "stream": "stdout",
       "text": [
        "\r",
        "Computed features for frame 1143 of 1208 in 0.113144159317"
       ]
      },
      {
       "output_type": "stream",
       "stream": "stdout",
       "text": [
        "\r",
        "Computed features for frame 1144 of 1208 in 0.109320163727"
       ]
      },
      {
       "output_type": "stream",
       "stream": "stdout",
       "text": [
        "\r",
        "Computed features for frame 1145 of 1208 in 0.109459877014"
       ]
      },
      {
       "output_type": "stream",
       "stream": "stdout",
       "text": [
        "\r",
        "Computed features for frame 1146 of 1208 in 0.111254930496"
       ]
      },
      {
       "output_type": "stream",
       "stream": "stdout",
       "text": [
        "\r",
        "Computed features for frame 1147 of 1208 in 0.111682891846"
       ]
      },
      {
       "output_type": "stream",
       "stream": "stdout",
       "text": [
        "\r",
        "Computed features for frame 1148 of 1208 in 0.121210098267"
       ]
      },
      {
       "output_type": "stream",
       "stream": "stdout",
       "text": [
        "\r",
        "Computed features for frame 1149 of 1208 in 0.109145879745"
       ]
      },
      {
       "output_type": "stream",
       "stream": "stdout",
       "text": [
        "\r",
        "Computed features for frame 1150 of 1208 in 0.107681035995"
       ]
      },
      {
       "output_type": "stream",
       "stream": "stdout",
       "text": [
        "\r",
        "Computed features for frame 1151 of 1208 in 0.107350111008"
       ]
      },
      {
       "output_type": "stream",
       "stream": "stdout",
       "text": [
        "\r",
        "Computed features for frame 1152 of 1208 in 0.110472917557"
       ]
      },
      {
       "output_type": "stream",
       "stream": "stdout",
       "text": [
        "\r",
        "Computed features for frame 1153 of 1208 in 0.109531879425"
       ]
      },
      {
       "output_type": "stream",
       "stream": "stdout",
       "text": [
        "\r",
        "Computed features for frame 1154 of 1208 in 0.107714891434"
       ]
      },
      {
       "output_type": "stream",
       "stream": "stdout",
       "text": [
        "\r",
        "Computed features for frame 1155 of 1208 in 0.119228124619"
       ]
      },
      {
       "output_type": "stream",
       "stream": "stdout",
       "text": [
        "\r",
        "Computed features for frame 1156 of 1208 in 0.108258008957"
       ]
      },
      {
       "output_type": "stream",
       "stream": "stdout",
       "text": [
        "\r",
        "Computed features for frame 1157 of 1208 in 0.106163024902"
       ]
      },
      {
       "output_type": "stream",
       "stream": "stdout",
       "text": [
        "\r",
        "Computed features for frame 1158 of 1208 in 0.105656147003"
       ]
      },
      {
       "output_type": "stream",
       "stream": "stdout",
       "text": [
        "\r",
        "Computed features for frame 1159 of 1208 in 0.108006954193"
       ]
      },
      {
       "output_type": "stream",
       "stream": "stdout",
       "text": [
        "\r",
        "Computed features for frame 1160 of 1208 in 0.110801935196"
       ]
      },
      {
       "output_type": "stream",
       "stream": "stdout",
       "text": [
        "\r",
        "Computed features for frame 1161 of 1208 in 0.108644962311"
       ]
      },
      {
       "output_type": "stream",
       "stream": "stdout",
       "text": [
        "\r",
        "Computed features for frame 1162 of 1208 in 0.110175848007"
       ]
      },
      {
       "output_type": "stream",
       "stream": "stdout",
       "text": [
        "\r",
        "Computed features for frame 1163 of 1208 in 0.119280099869"
       ]
      },
      {
       "output_type": "stream",
       "stream": "stdout",
       "text": [
        "\r",
        "Computed features for frame 1164 of 1208 in 0.112525939941"
       ]
      },
      {
       "output_type": "stream",
       "stream": "stdout",
       "text": [
        "\r",
        "Computed features for frame 1165 of 1208 in 0.111715078354"
       ]
      },
      {
       "output_type": "stream",
       "stream": "stdout",
       "text": [
        "\r",
        "Computed features for frame 1166 of 1208 in 0.134952068329"
       ]
      },
      {
       "output_type": "stream",
       "stream": "stdout",
       "text": [
        "\r",
        "Computed features for frame 1167 of 1208 in 0.107109069824"
       ]
      },
      {
       "output_type": "stream",
       "stream": "stdout",
       "text": [
        "\r",
        "Computed features for frame 1168 of 1208 in 0.113618850708"
       ]
      },
      {
       "output_type": "stream",
       "stream": "stdout",
       "text": [
        "\r",
        "Computed features for frame 1169 of 1208 in 0.114557981491"
       ]
      },
      {
       "output_type": "stream",
       "stream": "stdout",
       "text": [
        "\r",
        "Computed features for frame 1170 of 1208 in 0.111104011536"
       ]
      },
      {
       "output_type": "stream",
       "stream": "stdout",
       "text": [
        "\r",
        "Computed features for frame 1171 of 1208 in 0.108014822006"
       ]
      },
      {
       "output_type": "stream",
       "stream": "stdout",
       "text": [
        "\r",
        "Computed features for frame 1172 of 1208 in 0.10874414444"
       ]
      },
      {
       "output_type": "stream",
       "stream": "stdout",
       "text": [
        "\r",
        "Computed features for frame 1173 of 1208 in 0.110800027847"
       ]
      },
      {
       "output_type": "stream",
       "stream": "stdout",
       "text": [
        "\r",
        "Computed features for frame 1174 of 1208 in 0.109163999557"
       ]
      },
      {
       "output_type": "stream",
       "stream": "stdout",
       "text": [
        "\r",
        "Computed features for frame 1175 of 1208 in 0.138631820679"
       ]
      },
      {
       "output_type": "stream",
       "stream": "stdout",
       "text": [
        "\r",
        "Computed features for frame 1176 of 1208 in 0.109037876129"
       ]
      },
      {
       "output_type": "stream",
       "stream": "stdout",
       "text": [
        "\r",
        "Computed features for frame 1177 of 1208 in 0.111853122711"
       ]
      },
      {
       "output_type": "stream",
       "stream": "stdout",
       "text": [
        "\r",
        "Computed features for frame 1178 of 1208 in 0.108498096466"
       ]
      },
      {
       "output_type": "stream",
       "stream": "stdout",
       "text": [
        "\r",
        "Computed features for frame 1179 of 1208 in 0.109990119934"
       ]
      },
      {
       "output_type": "stream",
       "stream": "stdout",
       "text": [
        "\r",
        "Computed features for frame 1180 of 1208 in 0.110870838165"
       ]
      },
      {
       "output_type": "stream",
       "stream": "stdout",
       "text": [
        "\r",
        "Computed features for frame 1181 of 1208 in 0.110772132874"
       ]
      },
      {
       "output_type": "stream",
       "stream": "stdout",
       "text": [
        "\r",
        "Computed features for frame 1182 of 1208 in 0.112128973007"
       ]
      },
      {
       "output_type": "stream",
       "stream": "stdout",
       "text": [
        "\r",
        "Computed features for frame 1183 of 1208 in 0.1079890728"
       ]
      },
      {
       "output_type": "stream",
       "stream": "stdout",
       "text": [
        "\r",
        "Computed features for frame 1184 of 1208 in 0.135161161423"
       ]
      },
      {
       "output_type": "stream",
       "stream": "stdout",
       "text": [
        "\r",
        "Computed features for frame 1185 of 1208 in 0.104696989059"
       ]
      },
      {
       "output_type": "stream",
       "stream": "stdout",
       "text": [
        "\r",
        "Computed features for frame 1186 of 1208 in 0.106835842133"
       ]
      },
      {
       "output_type": "stream",
       "stream": "stdout",
       "text": [
        "\r",
        "Computed features for frame 1187 of 1208 in 0.107439041138"
       ]
      },
      {
       "output_type": "stream",
       "stream": "stdout",
       "text": [
        "\r",
        "Computed features for frame 1188 of 1208 in 0.105726003647"
       ]
      },
      {
       "output_type": "stream",
       "stream": "stdout",
       "text": [
        "\r",
        "Computed features for frame 1189 of 1208 in 0.105209112167"
       ]
      },
      {
       "output_type": "stream",
       "stream": "stdout",
       "text": [
        "\r",
        "Computed features for frame 1190 of 1208 in 0.124452829361"
       ]
      },
      {
       "output_type": "stream",
       "stream": "stdout",
       "text": [
        "\r",
        "Computed features for frame 1191 of 1208 in 0.109923124313"
       ]
      },
      {
       "output_type": "stream",
       "stream": "stdout",
       "text": [
        "\r",
        "Computed features for frame 1192 of 1208 in 0.10294008255"
       ]
      },
      {
       "output_type": "stream",
       "stream": "stdout",
       "text": [
        "\r",
        "Computed features for frame 1193 of 1208 in 0.110769987106"
       ]
      },
      {
       "output_type": "stream",
       "stream": "stdout",
       "text": [
        "\r",
        "Computed features for frame 1194 of 1208 in 0.108631849289"
       ]
      },
      {
       "output_type": "stream",
       "stream": "stdout",
       "text": [
        "\r",
        "Computed features for frame 1195 of 1208 in 0.106709957123"
       ]
      },
      {
       "output_type": "stream",
       "stream": "stdout",
       "text": [
        "\r",
        "Computed features for frame 1196 of 1208 in 0.111399888992"
       ]
      },
      {
       "output_type": "stream",
       "stream": "stdout",
       "text": [
        "\r",
        "Computed features for frame 1197 of 1208 in 0.105453014374"
       ]
      },
      {
       "output_type": "stream",
       "stream": "stdout",
       "text": [
        "\r",
        "Computed features for frame 1198 of 1208 in 0.107014894485"
       ]
      },
      {
       "output_type": "stream",
       "stream": "stdout",
       "text": [
        "\r",
        "Computed features for frame 1199 of 1208 in 0.109580993652"
       ]
      },
      {
       "output_type": "stream",
       "stream": "stdout",
       "text": [
        "\r",
        "Computed features for frame 1200 of 1208 in 0.106106996536"
       ]
      },
      {
       "output_type": "stream",
       "stream": "stdout",
       "text": [
        "\r",
        "Computed features for frame 1201 of 1208 in 0.108378171921"
       ]
      },
      {
       "output_type": "stream",
       "stream": "stdout",
       "text": [
        "\r",
        "Computed features for frame 1202 of 1208 in 0.106903076172"
       ]
      },
      {
       "output_type": "stream",
       "stream": "stdout",
       "text": [
        "\r",
        "Computed features for frame 1203 of 1208 in 0.10814499855"
       ]
      },
      {
       "output_type": "stream",
       "stream": "stdout",
       "text": [
        "\r",
        "Computed features for frame 1204 of 1208 in 0.114066839218"
       ]
      },
      {
       "output_type": "stream",
       "stream": "stdout",
       "text": [
        "\r",
        "Computed features for frame 1205 of 1208 in 0.106397867203"
       ]
      },
      {
       "output_type": "stream",
       "stream": "stdout",
       "text": [
        "\r",
        "Computed features for frame 1206 of 1208 in 0.107054948807"
       ]
      },
      {
       "output_type": "stream",
       "stream": "stdout",
       "text": [
        "\r",
        "Computed features for frame 1207 of 1208 in 0.108202934265"
       ]
      },
      {
       "output_type": "stream",
       "stream": "stdout",
       "text": [
        "\n",
        "finished in 136.210095882\n"
       ]
      },
      {
       "metadata": {},
       "output_type": "pyout",
       "prompt_number": 55,
       "text": [
        "<matplotlib.image.AxesImage at 0x7f194926e790>"
       ]
      }
     ],
     "prompt_number": 55
    },
    {
     "cell_type": "code",
     "collapsed": false,
     "input": [
      "print features[0, :]\n",
      "print np.sum(features[0, :]/np.linalg.norm(features[0, :]))\n",
      "print np.sum(features[0, :]/((1280/16)*(720/16)))\n",
      "np.sum(features[0, :])/np.sum(features[99, :])"
     ],
     "language": "python",
     "metadata": {},
     "outputs": [
      {
       "output_type": "stream",
       "stream": "stdout",
       "text": [
        "[ 0.  0.  0. ...,  0.  0.  0.]\n",
        "16.9798584816\n",
        "45.6533333333\n"
       ]
      },
      {
       "metadata": {},
       "output_type": "pyout",
       "prompt_number": 57,
       "text": [
        "0.96333679157361651"
       ]
      }
     ],
     "prompt_number": 57
    },
    {
     "cell_type": "code",
     "collapsed": false,
     "input": [
      "sio.savemat(\"features.mat\", {\"features\":features})"
     ],
     "language": "python",
     "metadata": {},
     "outputs": [],
     "prompt_number": 58
    },
    {
     "cell_type": "code",
     "collapsed": false,
     "input": [
      "hist2demdDistMat = np.array(sio.loadmat(dataFolder + sampleData + \"hist2demd_32x48_distMat.mat\")['distMat'], dtype=float)\n",
      "print hist2demdDistMat"
     ],
     "language": "python",
     "metadata": {},
     "outputs": [
      {
       "output_type": "stream",
       "stream": "stdout",
       "text": [
        "[[      0.  274563.  534626. ...,  460015.  342315.  271465.]\n",
        " [ 274563.       0.  265817. ...,  216427.  102268.  119699.]\n",
        " [ 534626.  265817.       0. ...,  171707.  271569.  343106.]\n",
        " ..., \n",
        " [ 460015.  216427.  171707. ...,       0.  124832.  209397.]\n",
        " [ 342315.  102268.  271569. ...,  124832.       0.   85613.]\n",
        " [ 271465.  119699.  343106. ...,  209397.   85613.       0.]]\n"
       ]
      }
     ],
     "prompt_number": 12
    },
    {
     "cell_type": "code",
     "collapsed": false,
     "input": [
      "figure(); imshow(np.array(sio.loadmat(dataFolder + sampleData + \"hist2demd_32x48_distMat.mat\")['distMat'], dtype=float), interpolation='nearest')"
     ],
     "language": "python",
     "metadata": {},
     "outputs": [
      {
       "metadata": {},
       "output_type": "pyout",
       "prompt_number": 9,
       "text": [
        "<matplotlib.image.AxesImage at 0x7f0d3c0ff990>"
       ]
      }
     ],
     "prompt_number": 9
    },
    {
     "cell_type": "code",
     "collapsed": false,
     "input": [
      "def estimateFutureCost(alpha, p, distanceMatrixFilt, weights) :\n",
      "\n",
      "    distMatFilt = distanceMatrixFilt[1:distanceMatrixFilt.shape[1], 0:-1]\n",
      "    distMat = distMatFilt ** p\n",
      "    \n",
      "    last = np.copy(distMat)\n",
      "    current = np.zeros(distMat.shape)\n",
      "    \n",
      "    ## while distance between last and current is larger than threshold\n",
      "    iterations = 0 \n",
      "    while np.linalg.norm(last - current) > 0.1 : \n",
      "        for i in range(distMat.shape[0]-1, -1, -1) :\n",
      "            m = np.min(distMat*weights[1:distanceMatrixFilt.shape[1], 0:-1], axis=1)\n",
      "            distMat[i, :] = (distMatFilt[i, :] ** p) + alpha*m\n",
      "            \n",
      "        last = np.copy(current)\n",
      "        current = np.copy(distMat)\n",
      "        \n",
      "        sys.stdout.write('\\r' + \"Iteration \" + np.string_(iterations) + \"; distance \" + np.string_(np.linalg.norm(last - current)))\n",
      "        sys.stdout.flush()\n",
      "        iterations += 1\n",
      "    \n",
      "    print\n",
      "    print 'finished in', iterations, 'iterations'\n",
      "    \n",
      "    return distMat"
     ],
     "language": "python",
     "metadata": {},
     "outputs": [],
     "prompt_number": 13
    },
    {
     "cell_type": "code",
     "collapsed": false,
     "input": [
      "optimizedDistMat = estimateFutureCost(0.999, 2.0, vtu.filterDistanceMatrix(hist2demdDistMat/np.max(hist2demdDistMat), 4, True), np.ones((1200, 1200)))"
     ],
     "language": "python",
     "metadata": {},
     "outputs": [
      {
       "output_type": "stream",
       "stream": "stdout",
       "text": [
        "\r",
        "Iteration 0; distance 9683.88879858"
       ]
      },
      {
       "output_type": "stream",
       "stream": "stdout",
       "text": [
        "\r",
        "Iteration 1; distance 6.93336906863"
       ]
      },
      {
       "output_type": "stream",
       "stream": "stdout",
       "text": [
        "\r",
        "Iteration 2; distance 6.13129222678"
       ]
      },
      {
       "output_type": "stream",
       "stream": "stdout",
       "text": [
        "\r",
        "Iteration 3; distance 6.12237119033"
       ]
      },
      {
       "output_type": "stream",
       "stream": "stdout",
       "text": [
        "\r",
        "Iteration 4; distance 6.10658138877"
       ]
      },
      {
       "output_type": "stream",
       "stream": "stdout",
       "text": [
        "\r",
        "Iteration 5; distance 6.08996579444"
       ]
      },
      {
       "output_type": "stream",
       "stream": "stdout",
       "text": [
        "\r",
        "Iteration 6; distance 6.08029655"
       ]
      },
      {
       "output_type": "stream",
       "stream": "stdout",
       "text": [
        "\r",
        "Iteration 7; distance 5.10300409133"
       ]
      },
      {
       "output_type": "stream",
       "stream": "stdout",
       "text": [
        "\r",
        "Iteration 8; distance 3.23156663381"
       ]
      },
      {
       "output_type": "stream",
       "stream": "stdout",
       "text": [
        "\r",
        "Iteration 9; distance 1.68803844"
       ]
      },
      {
       "output_type": "stream",
       "stream": "stdout",
       "text": [
        "\r",
        "Iteration 10; distance 0.878175771417"
       ]
      },
      {
       "output_type": "stream",
       "stream": "stdout",
       "text": [
        "\r",
        "Iteration 11; distance 0.456923928346"
       ]
      },
      {
       "output_type": "stream",
       "stream": "stdout",
       "text": [
        "\r",
        "Iteration 12; distance 0.237742986246"
       ]
      },
      {
       "output_type": "stream",
       "stream": "stdout",
       "text": [
        "\r",
        "Iteration 13; distance 0.123700519939"
       ]
      },
      {
       "output_type": "stream",
       "stream": "stdout",
       "text": [
        "\r",
        "Iteration 14; distance 0.0643628603933"
       ]
      },
      {
       "output_type": "stream",
       "stream": "stdout",
       "text": [
        "\n",
        "finished in 15 iterations\n"
       ]
      }
     ],
     "prompt_number": 14
    },
    {
     "cell_type": "code",
     "collapsed": false,
     "input": [
      "np.save(dataFolder + sampleData + \"proc_hist2demd_32x48_distMat.npy\", optimizedDistMat)"
     ],
     "language": "python",
     "metadata": {},
     "outputs": [],
     "prompt_number": 17
    },
    {
     "cell_type": "code",
     "collapsed": false,
     "input": [
      "figure(); imshow(vtu.filterDistanceMatrix(hist2demdDistMat/np.max(hist2demdDistMat), 4, True), interpolation='nearest')\n",
      "figure(); imshow(optimizedDistMat, interpolation='nearest')\n",
      "figure(); imshow(np.load(dataFolder + sampleData + \"proc_distMat.npy\"), interpolation='nearest')"
     ],
     "language": "python",
     "metadata": {},
     "outputs": [
      {
       "metadata": {},
       "output_type": "pyout",
       "prompt_number": 15,
       "text": [
        "<matplotlib.image.AxesImage at 0x7f0d37bc2c10>"
       ]
      }
     ],
     "prompt_number": 15
    },
    {
     "cell_type": "code",
     "collapsed": false,
     "input": [
      "tmp3248 = np.load(dataFolder + sampleData + \"proc_hist2demd_32x48_distMat.npy\")\n",
      "tmp1616 = np.load(dataFolder + sampleData + \"proc_hist2demd_16x16_distMat.npy\")\n",
      "figure(); imshow((np.abs(tmp3248/np.max(tmp3248)-tmp1616/np.max(tmp1616)))[500:600, 500:600], interpolation='nearest')\n",
      "figure(); imshow((tmp3248/np.max(tmp3248))[500:600, 500:600], interpolation='nearest')\n",
      "figure(); imshow((tmp1616/np.max(tmp1616))[500:600, 500:600], interpolation='nearest')\n",
      "print np.max((np.abs(tmp3248/np.max(tmp3248)-tmp1616/np.max(tmp1616))))"
     ],
     "language": "python",
     "metadata": {},
     "outputs": [
      {
       "output_type": "stream",
       "stream": "stdout",
       "text": [
        "0.0079776011141\n"
       ]
      }
     ],
     "prompt_number": 32
    },
    {
     "cell_type": "code",
     "collapsed": false,
     "input": [
      "## load precomputed distance matrix and filter for label propagation\n",
      "name = \"vanilla_distMat\"\n",
      "# name = \"histcos_16x16_distMat\"\n",
      "# name = \"hist2demd_32x48_distMat\"\n",
      "# name = \"hist2demd_16x16_distMat\"\n",
      "# name = \"semantics_hog_rand50_distMat\"\n",
      "# name = \"semantics_hog_rand50_encodedfirst_distMat\"\n",
      "# name = \"semantics_hog_rand50_encodedlast_distMat\"\n",
      "# name = \"semantics_hog_set50_distMat\"\n",
      "# name = \"semantics_hog_set50_encodedlast_distMat\"\n",
      "# name = \"semantics_hog_set150_distMat\"\n",
      "# name = \"semantics_hog_L2_set150_distMat\"\n",
      "# name = \"appearance_hog_rand150_distMat\"\n",
      "# name = \"appearance_hog_L2_rand150_distMat\"\n",
      "# name = \"appearance_hog_set150_distMat\"\n",
      "# name = \"appearance_hog_L2_set150_distMat\"\n",
      "distanceMatrix = np.array(np.load(outputData + name + \".npy\"), dtype=np.float)\n",
      "distanceMatrix /= np.max(distanceMatrix)\n",
      "if True :\n",
      "    distMat = vtu.filterDistanceMatrix(distanceMatrix, 2, True)\n",
      "else :\n",
      "    distMat = np.copy(distanceMatrix)\n",
      "figure(); imshow(distMat, interpolation='nearest')\n",
      "## save for matlab to compute isomap\n",
      "# sio.savemat(name + \".mat\", {\"distMat\":distMat})\n",
      "distances = np.array(np.copy(distMat), dtype=float)"
     ],
     "language": "python",
     "metadata": {},
     "outputs": [],
     "prompt_number": 10
    },
    {
     "cell_type": "code",
     "collapsed": false,
     "input": [
      "print distMat.shape\n",
      "figure(); imshow(distanceMatrix, interpolation='nearest')"
     ],
     "language": "python",
     "metadata": {},
     "outputs": [
      {
       "output_type": "stream",
       "stream": "stdout",
       "text": [
        "(1272, 1272)\n"
       ]
      },
      {
       "metadata": {},
       "output_type": "pyout",
       "prompt_number": 15,
       "text": [
        "<matplotlib.image.AxesImage at 0x7fb013554350>"
       ]
      }
     ],
     "prompt_number": 15
    },
    {
     "cell_type": "code",
     "collapsed": false,
     "input": [
      "print labelledPoints"
     ],
     "language": "python",
     "metadata": {},
     "outputs": [
      {
       "output_type": "stream",
       "stream": "stdout",
       "text": [
        "[[ 110  111  112  113  114  115  116  117  118  119  120  121  122  123\n",
        "   124  125  126]\n",
        " [ 489  490  491  492  493  494  495  496  497  498  499  500  501  502\n",
        "   503  504  505]\n",
        " [ 826  827  828  829  830  831  832  833  834  835  836  837  838  839\n",
        "   840  841  842]\n",
        " [1094 1095 1096 1097 1098 1099 1100 1101 1102 1103 1104 1105 1106 1107\n",
        "  1108 1109 1110]]\n"
       ]
      }
     ],
     "prompt_number": 73
    },
    {
     "cell_type": "code",
     "collapsed": false,
     "input": [
      "# distances = np.copy(distanceMatrix)\n",
      "#/np.max(distMat)\n",
      "# distances = np.copy(distMat[1:distMat.shape[1], 0:-1])\n",
      "# distances = np.copy(distMatFut)\n",
      "\n",
      "if False :\n",
      "    ## use dotstar\n",
      "    numClasses = 2\n",
      "    ## init labeled points\n",
      "    labelledPoints = np.array([[9], [21]])-1\n",
      "    fl = np.zeros((len(labelledPoints), numClasses))\n",
      "    fl = np.eye(numClasses)\n",
      "else :\n",
      "    ## use ribbon2\n",
      "    numClasses = 4\n",
      "    ## init labeled points\n",
      "    labelledPoints = np.array([[122], [501], [838], [1106]]) -4\n",
      "    fl = np.eye(numClasses)\n",
      "    \n",
      "#     labelledPoints = np.array([[22, 122, 222], [281, 501, 721], [754, 838, 922], [956, 1106, 1256]]) -4\n",
      "#     fl = np.zeros((np.prod(labelledPoints.shape), numClasses))\n",
      "#     fl[0:3, 0] = 1\n",
      "#     fl[3:6, 1] = 1\n",
      "#     fl[6:9, 2] = 1\n",
      "#     fl[9:, 3] = 1\n",
      "\n",
      "    initPoints = np.array([122, 501, 838, 1106]) -4\n",
      "    extraPoints = 16\n",
      "    labelledPoints = np.zeros((numClasses, extraPoints+1), dtype=np.int)\n",
      "    for i in xrange(0, len(initPoints)) :\n",
      "        labelledPoints[i, :] = range(initPoints[i]-extraPoints/2, initPoints[i]+extraPoints/2+1)\n",
      "\n",
      "    fl = np.zeros((np.prod(labelledPoints.shape), numClasses))\n",
      "    for i in xrange(0, numClasses) :\n",
      "        fl[i*(extraPoints+1):(i+1)*(extraPoints+1), i] = 1\n",
      "    \n",
      "print numClasses, labelledPoints\n",
      "print fl\n",
      "\n",
      "## order w to have labeled nodes at the top-left corner\n",
      "flatLabelled = np.ndarray.flatten(labelledPoints)"
     ],
     "language": "python",
     "metadata": {},
     "outputs": [
      {
       "output_type": "stream",
       "stream": "stdout",
       "text": [
        "4 [[ 110  111  112  113  114  115  116  117  118  119  120  121  122  123\n",
        "   124  125  126]\n",
        " [ 489  490  491  492  493  494  495  496  497  498  499  500  501  502\n",
        "   503  504  505]\n",
        " [ 826  827  828  829  830  831  832  833  834  835  836  837  838  839\n",
        "   840  841  842]\n",
        " [1094 1095 1096 1097 1098 1099 1100 1101 1102 1103 1104 1105 1106 1107\n",
        "  1108 1109 1110]]\n",
        "[[ 1.  0.  0.  0.]\n",
        " [ 1.  0.  0.  0.]\n",
        " [ 1.  0.  0.  0.]\n",
        " [ 1.  0.  0.  0.]\n",
        " [ 1.  0.  0.  0.]\n",
        " [ 1.  0.  0.  0.]\n",
        " [ 1.  0.  0.  0.]\n",
        " [ 1.  0.  0.  0.]\n",
        " [ 1.  0.  0.  0.]\n",
        " [ 1.  0.  0.  0.]\n",
        " [ 1.  0.  0.  0.]\n",
        " [ 1.  0.  0.  0.]\n",
        " [ 1.  0.  0.  0.]\n",
        " [ 1.  0.  0.  0.]\n",
        " [ 1.  0.  0.  0.]\n",
        " [ 1.  0.  0.  0.]\n",
        " [ 1.  0.  0.  0.]\n",
        " [ 0.  1.  0.  0.]\n",
        " [ 0.  1.  0.  0.]\n",
        " [ 0.  1.  0.  0.]\n",
        " [ 0.  1.  0.  0.]\n",
        " [ 0.  1.  0.  0.]\n",
        " [ 0.  1.  0.  0.]\n",
        " [ 0.  1.  0.  0.]\n",
        " [ 0.  1.  0.  0.]\n",
        " [ 0.  1.  0.  0.]\n",
        " [ 0.  1.  0.  0.]\n",
        " [ 0.  1.  0.  0.]\n",
        " [ 0.  1.  0.  0.]\n",
        " [ 0.  1.  0.  0.]\n",
        " [ 0.  1.  0.  0.]\n",
        " [ 0.  1.  0.  0.]\n",
        " [ 0.  1.  0.  0.]\n",
        " [ 0.  1.  0.  0.]\n",
        " [ 0.  0.  1.  0.]\n",
        " [ 0.  0.  1.  0.]\n",
        " [ 0.  0.  1.  0.]\n",
        " [ 0.  0.  1.  0.]\n",
        " [ 0.  0.  1.  0.]\n",
        " [ 0.  0.  1.  0.]\n",
        " [ 0.  0.  1.  0.]\n",
        " [ 0.  0.  1.  0.]\n",
        " [ 0.  0.  1.  0.]\n",
        " [ 0.  0.  1.  0.]\n",
        " [ 0.  0.  1.  0.]\n",
        " [ 0.  0.  1.  0.]\n",
        " [ 0.  0.  1.  0.]\n",
        " [ 0.  0.  1.  0.]\n",
        " [ 0.  0.  1.  0.]\n",
        " [ 0.  0.  1.  0.]\n",
        " [ 0.  0.  1.  0.]\n",
        " [ 0.  0.  0.  1.]\n",
        " [ 0.  0.  0.  1.]\n",
        " [ 0.  0.  0.  1.]\n",
        " [ 0.  0.  0.  1.]\n",
        " [ 0.  0.  0.  1.]\n",
        " [ 0.  0.  0.  1.]\n",
        " [ 0.  0.  0.  1.]\n",
        " [ 0.  0.  0.  1.]\n",
        " [ 0.  0.  0.  1.]\n",
        " [ 0.  0.  0.  1.]\n",
        " [ 0.  0.  0.  1.]\n",
        " [ 0.  0.  0.  1.]\n",
        " [ 0.  0.  0.  1.]\n",
        " [ 0.  0.  0.  1.]\n",
        " [ 0.  0.  0.  1.]\n",
        " [ 0.  0.  0.  1.]\n",
        " [ 0.  0.  0.  1.]]\n"
       ]
      }
     ],
     "prompt_number": 147
    },
    {
     "cell_type": "code",
     "collapsed": false,
     "input": [
      "## do label propagation as zhu 2003\n",
      "orderedDist = np.copy(distances)\n",
      "sortedFlatLabelled = flatLabelled[np.argsort(flatLabelled)]\n",
      "sortedFl = fl[np.argsort(flatLabelled), :]\n",
      "print sortedFlatLabelled\n",
      "for i in xrange(0, len(sortedFlatLabelled)) :\n",
      "    #shift sortedFlatLabelled[i]-th row up to i-th row and adapt remaining rows\n",
      "    tmp = np.copy(orderedDist)\n",
      "    orderedDist[i, :] = tmp[sortedFlatLabelled[i], :]\n",
      "    orderedDist[i+1:, :] = np.vstack((tmp[i:sortedFlatLabelled[i], :], tmp[sortedFlatLabelled[i]+1:, :]))\n",
      "    #shift sortedFlatLabelled[i]-th column left to i-th column and adapt remaining columns\n",
      "    tmp = np.copy(orderedDist)\n",
      "    orderedDist[:, i] = tmp[:, sortedFlatLabelled[i]]\n",
      "    orderedDist[:, i+1:] = np.hstack((tmp[:, i:sortedFlatLabelled[i]], tmp[:, sortedFlatLabelled[i]+1:]))\n",
      "#     print len(sortedFlatLabelled)+sortedFlatLabelled[i]\n",
      "    \n",
      "gwv.showCustomGraph(distances)\n",
      "gwv.showCustomGraph(orderedDist)\n",
      "\n",
      "## compute weights\n",
      "w, cumW = vtu.getProbabilities(orderedDist, 0.045, None, False)\n",
      "gwv.showCustomGraph(w)\n",
      "# gwv.showCustomGraph(cumW)\n",
      "\n",
      "l = len(sortedFlatLabelled)\n",
      "n = orderedDist.shape[0]\n",
      "## compute graph laplacian\n",
      "L = np.diag(np.sum(w, axis=0)) - w\n",
      "# gwv.showCustomGraph(L)\n",
      "\n",
      "## propagate labels\n",
      "fu = np.dot(np.dot(-np.linalg.inv(L[l:, l:]), L[l:, 0:l]), sortedFl)\n",
      "\n",
      "## use class mass normalization to normalize label probabilities\n",
      "q = np.sum(sortedFl)+1\n",
      "fu_CMN = fu*(np.ones(fu.shape)*(q/np.sum(fu)))"
     ],
     "language": "python",
     "metadata": {},
     "outputs": [
      {
       "output_type": "stream",
       "stream": "stdout",
       "text": [
        "[   2   15   17   36   77  106  107  132  140  147  204  219  230  280  286\n",
        "  403  406  435  437  459  471  474  480  494  499  505  512  539  544  545\n",
        "  630  637  641  677  747  750  753  772  774  781  784  791  811  827  845\n",
        "  926  935  945  984 1012 1013 1029 1036 1067 1073 1084 1088 1122 1124 1139]\n",
        "sigma"
       ]
      },
      {
       "output_type": "stream",
       "stream": "stdout",
       "text": [
        " 0.123581187393\n",
        "(1244, 1244) (1244, 1244)\n"
       ]
      }
     ],
     "prompt_number": 18
    },
    {
     "cell_type": "code",
     "collapsed": false,
     "input": [
      "## add labeled points to propagated labels (as labelProbs) and plot\n",
      "print fu.shape\n",
      "# print fu_CMN\n",
      "\n",
      "print flatLabelled\n",
      "numClasses = fl.shape[-1]\n",
      "\n",
      "if False :\n",
      "################ this bit doesn't work anymore since using #################\n",
      "    ## add labeled frames to fu and plot\n",
      "    labelProbs = np.array(fu[0:flatLabelled[0]])\n",
      "    print labelProbs.shape\n",
      "    for i in xrange(1, len(flatLabelled)) :\n",
      "    #     print flatLabelled[i]+i, flatLabelled[i+1]-i\n",
      "    #     print fu[flatLabelled[i]+i:flatLabelled[i+1]-i, :]\n",
      "    \n",
      "        labelProbs = np.vstack((labelProbs, fl[i-1, :]))\n",
      "        print labelProbs.shape, flatLabelled[i-1]-(i-1), flatLabelled[i]-i\n",
      "        labelProbs = np.vstack((labelProbs, fu[flatLabelled[i-1]-(i-1):flatLabelled[i]-i, :]))\n",
      "        print labelProbs.shape\n",
      "        \n",
      "    \n",
      "    \n",
      "    labelProbs = np.vstack((labelProbs, fl[-1, :]))\n",
      "    labelProbs = np.vstack((labelProbs, fu[flatLabelled[-1]-len(flatLabelled)+1:, :]))\n",
      "    # labelProbs = labelProbs[1:, :]\n",
      "    print labelProbs, labelProbs.shape\n",
      "else :\n",
      "    labelProbs = np.copy(np.array(fu))\n",
      "    print labelProbs.shape\n",
      "    for frame, i in zip(sortedFlatLabelled, np.arange(len(sortedFlatLabelled))) :\n",
      "        labelProbs = np.vstack((labelProbs[0:frame, :], sortedFl[i, :], labelProbs[frame:, :]))\n",
      "        \n",
      "    print labelProbs.shape\n",
      "\n",
      "clrs = ['r', 'g', 'b', 'm']\n",
      "fig1 = figure()\n",
      "xlabel('all points')\n",
      "fig2 = figure()\n",
      "xlabel('only unlabeled')\n",
      "fig3 = figure()\n",
      "xlabel('only unlabeled + CMN')\n",
      "\n",
      "for i in xrange(0, numClasses) :\n",
      "    figure(fig1.number); plot(labelProbs[:, i], clrs[i])\n",
      "    figure(fig2.number); plot(fu[:, i], clrs[i])\n",
      "    figure(fig3.number); plot(fu_CMN[:, i], clrs[i])\n",
      "    \n",
      "    for node in labelledPoints[i] :\n",
      "        figure(fig1.number); plot(np.repeat(node, 2), [0, 1.1], clrs[i])\n",
      "        figure(fig2.number); plot(np.repeat(node, 2), [0, 1.1], clrs[i])\n",
      "        figure(fig3.number); plot(np.repeat(node, 2), [0, np.max(fu_CMN)], clrs[i])"
     ],
     "language": "python",
     "metadata": {},
     "outputs": [
      {
       "output_type": "stream",
       "stream": "stdout",
       "text": [
        "(1184, 4)\n",
        "[1122  984 1012  926  945  935 1036 1088 1067 1073 1084 1013 1029 1124 1139\n",
        "  107  204  140   36   15  147  286   77  230  132    2   17  219  106  280\n",
        "  406  544  435  474  545  505  539  471  480  459  437  403  494  512  499\n",
        "  630  641  811  781  637  750  791  784  747  827  845  753  677  772  774]\n",
        "(1184, 4)\n",
        "(1244, 4)\n"
       ]
      }
     ],
     "prompt_number": 23
    },
    {
     "cell_type": "code",
     "collapsed": false,
     "input": [
      "print labelProbs.shape\n",
      "print np.sum(labelProbs)"
     ],
     "language": "python",
     "metadata": {},
     "outputs": [
      {
       "output_type": "stream",
       "stream": "stdout",
       "text": [
        "(1244, 4)\n",
        "1244.0\n"
       ]
      }
     ],
     "prompt_number": 20
    },
    {
     "cell_type": "code",
     "collapsed": false,
     "input": [
      "## save label propagation for visualizing within videotextgui\n",
      "# np.save(outputData + \"labeledPoints.npy\", labeledPoints)\n",
      "# np.save(outputData + \"labelProbs.npy\", labelProbs)\n",
      "np.save(outputData + \"l2dist_guiex60_mult0.045_labels.npy\", {\"labeledPoints\": np.array(labelledPoints), \"labelProbs\": labelProbs})\n",
      "## save label propagation for visualizing isomaps in matlab\n",
      "# sio.savemat(\"labeledPoints.mat\", {\"labeledPoints\":labeledPoints})\n",
      "# sio.savemat(\"l2dist_mult0.05_labelProbs.mat\", {\"labelProbs\":labelProbs})"
     ],
     "language": "python",
     "metadata": {},
     "outputs": [],
     "prompt_number": 22
    },
    {
     "cell_type": "code",
     "collapsed": false,
     "input": [
      "## save label propagation for visualizing within videotextgui\n",
      "# np.save(outputData + \"labeledPoints.npy\", labeledPoints)\n",
      "# np.save(outputData + \"labelProbs.npy\", labelProbs)\n",
      "np.save(outputData + \"l2dist_mult0.05_labels.npy\", {\"labeledPoints\": labeledPoints, \"labelProbs\": labelProbs})\n",
      "## save label propagation for visualizing isomaps in matlab\n",
      "sio.savemat(\"labeledPoints.mat\", {\"labeledPoints\":labeledPoints})\n",
      "sio.savemat(\"l2dist_mult0.05_labelProbs.mat\", {\"labelProbs\":labelProbs})"
     ],
     "language": "python",
     "metadata": {},
     "outputs": [],
     "prompt_number": 42
    },
    {
     "cell_type": "code",
     "collapsed": false,
     "input": [
      "## load isomap from .mat and save as .npy\n",
      "## it automatically loads the output from PhD/MATLAB so run this after running ComputeIsomap.m\n",
      "mapPoints = sio.loadmat(\"../MATLAB/mapPoints.mat\")[\"mapPoints\"]\n",
      "tmp = sio.loadmat(\"../MATLAB/predictedLabels.mat\")[\"predictedLabels\"]\n",
      "predictedLabels = []\n",
      "for i in xrange(0,len(np.ndarray.flatten(tmp)[0])) :\n",
      "    predictedLabels.append(np.ndarray.flatten(np.ndarray.flatten(tmp)[0][i])-1)\n",
      "\n",
      "np.save(outputData + \"l2dist_mult0.05_isomap.npy\", {\"mapPoints\": mapPoints, \"predictedLabels\": predictedLabels})"
     ],
     "language": "python",
     "metadata": {},
     "outputs": [],
     "prompt_number": 70
    },
    {
     "cell_type": "code",
     "collapsed": false,
     "input": [
      "## check that orderedDist is still symmetric\n",
      "print np.sum(orderedDist[4, :] - orderedDist[:, 4])\n",
      "print np.sum(orderedDist[10, :] - orderedDist[:, 10])\n",
      "print np.sum(orderedDist[250, :] - orderedDist[:, 250])\n",
      "## check that orderedDist has been ordered the right way\n",
      "print orderedDist[0, 0:50]\n",
      "print distances[117, list(flatLabelled)]\n",
      "print distances[117, 0:50]\n",
      "print \n",
      "print orderedDist[3, 0:50]\n",
      "print distances[496, list(flatLabelled)]\n",
      "print distances[496, 0:50]\n",
      "print \n",
      "print orderedDist[10, 0:50]\n",
      "print distances[1102, list(flatLabelled)]\n",
      "print distances[1102, 0:50]"
     ],
     "language": "python",
     "metadata": {},
     "outputs": [
      {
       "output_type": "stream",
       "stream": "stdout",
       "text": [
        "0.0\n",
        "0.0\n",
        "0.0\n",
        "[ 0.          0.31636936  0.41500525  0.39362539  0.39152676  0.50878804\n",
        "  0.66677597  0.67740031  0.69425498  0.73498164  0.78029906  0.77341291\n",
        "  0.7931532   0.7589192   0.69779643  0.70625656  0.68684418  2.36975341\n",
        "  2.40818468  2.44668153  2.43920514  2.4784234   2.54026758  2.52019937\n",
        "  2.44281217  2.29046432  2.21766789  2.17084208  2.1953043   2.22665268\n",
        "  2.24973767  2.27295383  2.29643232  2.32456716  4.74468783  4.25511542\n",
        "  3.82653463  3.28266002  2.7511149   2.29905561  1.92110441  1.62237671\n",
        "  1.49193337  1.46897954  1.52105194  1.58066632  1.69438615  1.7883001\n",
        "  1.85866999  1.91507083]\n",
        "[ 0.67740031  0.65693861  0.58066632  0.49272036  0.50432844  0.43874607\n",
        "  0.26652676  0.          0.261149    0.43966422  0.58348636  0.67825289\n",
        "  0.77741343  0.84083158  0.83820829  0.84181532  0.8158447   2.54361228\n",
        "  2.66959601  2.75793547  2.74599948  2.68841815  2.66159496  2.59627492\n",
        "  2.50944386  2.3954617   2.36758919  2.3162382   2.35729276  2.46012592\n",
        "  2.54741605  2.56230325  2.54964586  2.50124607  4.99980325  4.51259182\n",
        "  4.09109391  3.55961438  3.02190451  2.54590766  2.12827912  1.80017051\n",
        "  1.670383    1.65956191  1.7206191   1.78770986  1.92254722  2.04354669\n",
        "  2.13109916  2.19353358  2.28154512  3.27282267  3.21340504  3.13372246\n",
        "  3.08420776  2.97422613  2.79177597  2.65483998  2.66775971  2.67392445\n",
        "  2.74717996  2.78443075  2.86758919  2.98727702  3.07397692  3.13929696\n",
        "  3.15051154  3.11201469]\n",
        "[ 1.55082634  1.43343389  1.31748426  1.2444255   1.24770462  1.21668416\n",
        "  1.20179696  1.21917629  1.28462749  1.32194386  1.35650577  1.40693861\n",
        "  1.40182319  1.43572928  1.48517838  1.6082765   1.67995803  1.7626574\n",
        "  1.87460651  2.02144544  2.096734    2.21445435  2.45251836  2.57771511\n",
        "  2.67687566  2.81269675  3.02118311  3.20186254  3.32410808  3.49822928\n",
        "  3.54708814  3.41225079  3.27393757  3.17720357  3.21733998  3.11260493\n",
        "  2.80508919  2.4921957   2.16172613  1.98104669  1.97166842  1.91015215\n",
        "  1.80633526  1.51947796  1.33919203  1.4159234   1.69045121  1.85637461\n",
        "  1.80443337  1.61686779]\n",
        "\n",
        "[ 0.39362539  0.3954617   0.28370934  0.          0.26580535  0.39683893\n",
        "  0.4352702   0.49272036  0.64159234  0.70855194  0.68245016  0.71478227\n",
        "  0.76744491  0.81217209  0.81072928  0.8080404   0.78974292  2.33578174\n",
        "  2.42740031  2.52577387  2.48799843  2.44359916  2.45048531  2.40857817\n",
        "  2.31781217  2.15503673  2.13227964  2.09365163  2.17713799  2.25072141\n",
        "  2.31564795  2.32692812  2.28928384  2.27767576  4.69032004  4.20009182\n",
        "  3.77918416  3.24383526  2.70592865  2.22809549  1.81053253  1.49468783\n",
        "  1.37172088  1.37296695  1.43848374  1.51108342  1.64972455  1.76187041\n",
        "  1.83578174  1.88641133]\n",
        "[ 2.44281217  2.40877492  2.36129328  2.31781217  2.34909496  2.46629066\n",
        "  2.49245803  2.50944386  2.60047219  2.61017838  2.59437303  2.60762067\n",
        "  2.64513379  2.65543022  2.60316107  2.55003935  2.45612539  1.67903987\n",
        "  1.87421301  1.81702518  1.57259969  1.24370409  0.81866474  0.61522823\n",
        "  0.          0.5089192   0.71674974  1.10296432  1.43225341  1.60158709\n",
        "  1.62001574  1.46681532  1.20960126  0.89480588  4.21124082  3.8660808\n",
        "  3.59063484  3.18874607  2.7660021   2.41402151  2.18979538  2.03482424\n",
        "  2.21570042  2.31282791  2.35919465  2.38109916  2.30325289  2.28915268\n",
        "  2.33840504  2.37506558  2.40241343  3.03069255  2.90792235  2.85388248\n",
        "  2.86726128  3.05574502  3.12782004  3.34647167  3.43251574  3.38916579\n",
        "  3.4248426   3.43238458  3.4806532   3.46983211  3.39565845  3.30240031\n",
        "  3.06761542  3.1116212 ]\n",
        "[ 2.          1.91021773  1.88778856  1.91552991  2.0353489   2.0818468\n",
        "  2.00983736  1.89952781  1.77695435  1.54584208  1.45553515  1.46819255\n",
        "  1.45947009  1.50465635  1.55633526  1.59024134  1.60394806  1.60447272\n",
        "  1.65956191  1.72429171  1.71543809  1.73045645  1.90483998  1.96438877\n",
        "  1.9761936   1.95048531  2.11581847  2.13759182  2.28167629  2.36017838\n",
        "  2.26665792  2.21904512  2.13477177  1.98629328  2.02524921  1.93553253\n",
        "  1.71635624  1.57482949  1.50872246  1.52997114  1.49029381  1.5316107\n",
        "  1.6841553   1.87099948  2.09312697  2.05010493  2.07666579  2.1748426\n",
        "  2.11640871  2.23098111]\n",
        "\n",
        "[ 0.78029906  0.7444255   0.69176285  0.68245016  0.67792497  0.66434942\n",
        "  0.64808499  0.58348636  0.47029119  0.29046432  0.          0.29774397\n",
        "  0.45776495  0.65333158  0.78220094  0.79026758  0.77997114  2.59516002\n",
        "  2.77400315  2.81617261  2.77551154  2.74914743  2.75996852  2.70225603\n",
        "  2.59437303  2.40005247  2.34470094  2.30003935  2.41408709  2.53508657\n",
        "  2.59653725  2.61004722  2.57246852  2.58774921  5.10145593  4.62322928\n",
        "  4.21215897  3.68369622  3.14421563  2.66507083  2.24731112  1.91651364\n",
        "  1.77518363  1.74842602  1.79780955  1.86817943  2.00747639  2.12913169\n",
        "  2.21897954  2.28128279]\n",
        "[ 2.24062172  2.19333683  2.18140084  2.20881427  2.27957765  2.38975603\n",
        "  2.52229801  2.67392445  2.78213536  2.81505771  2.82410808  2.89578961\n",
        "  2.88667366  2.85663694  2.74304827  2.62309811  2.54853095  3.08683106\n",
        "  3.12204879  3.09253673  3.13805089  3.26495278  3.3485703   3.38293547\n",
        "  3.38916579  3.3247639   3.24324502  3.06938615  2.99560598  2.9929171\n",
        "  3.02564271  3.06505771  3.10952256  3.18435205  4.62191763  4.24062172\n",
        "  3.92871196  3.65490556  3.29544858  2.8489638   2.5487277   2.36883526\n",
        "  2.31532004  2.32751836  2.3694255   2.40464323  2.48380115  2.54361228\n",
        "  2.57620672  2.59424187  2.6465766   1.61398216  1.55364638  1.36555614\n",
        "  1.15602046  1.00616474  0.83053515  0.57155037  0.25400052  0.          0.3816894\n",
        "  0.5945042   0.76947796  0.9679958   1.10604669  1.23071878  1.40982424\n",
        "  1.53875918]\n",
        "[ 2.79748164  2.74593389  2.65647954  2.61181794  2.61503148  2.670383\n",
        "  2.74783578  2.77072403  2.79466159  2.87867261  2.89454355  2.92333421\n",
        "  2.94228751  2.90759444  2.85998164  2.76993704  2.71261805  2.70665005\n",
        "  2.6770724   2.6491999   2.68645068  2.75236097  2.89847849  2.97711175\n",
        "  3.04131689  3.12801679  3.25321354  3.36758919  3.44117261  3.5420383\n",
        "  3.56131952  3.47875131  3.43763116  3.35591553  3.35584995  3.28515215\n",
        "  3.25144281  3.23878541  3.13916579  3.02360965  2.85716159  2.82692812\n",
        "  2.91002099  2.8351915   2.75308237  2.62906611  2.61503148  2.69143494\n",
        "  2.82227177  2.9735703 ]\n"
       ]
      }
     ],
     "prompt_number": 5
    },
    {
     "cell_type": "code",
     "collapsed": false,
     "input": [
      "## compute tsne representation for given distMat\n",
      "\n",
      "Y = tsne(np.zeros((distMat.shape[0], 10)), distMat)"
     ],
     "language": "python",
     "metadata": {},
     "outputs": [
      {
       "output_type": "stream",
       "stream": "stdout",
       "text": [
        "Preprocessing the data using PCA...\n",
        "Using provided distances... (1272, 1272)\n",
        "Computing P-values for point "
       ]
      },
      {
       "output_type": "stream",
       "stream": "stdout",
       "text": [
        " 0  of  1272 ...\n",
        "Computing P-values for point "
       ]
      },
      {
       "output_type": "stream",
       "stream": "stdout",
       "text": [
        " 500  of  1272 ...\n",
        "Computing P-values for point "
       ]
      },
      {
       "output_type": "stream",
       "stream": "stdout",
       "text": [
        " 1000  of  1272 ...\n",
        "Mean value of sigma: "
       ]
      },
      {
       "output_type": "stream",
       "stream": "stdout",
       "text": [
        " 0.360733996167\n",
        "Iteration "
       ]
      },
      {
       "output_type": "stream",
       "stream": "stdout",
       "text": [
        " 10 : error is  22.9891648219\n",
        "Iteration "
       ]
      },
      {
       "output_type": "stream",
       "stream": "stdout",
       "text": [
        " 20 : error is  20.4159682995\n",
        "Iteration "
       ]
      },
      {
       "output_type": "stream",
       "stream": "stdout",
       "text": [
        " 30 : error is  17.9862871211\n",
        "Iteration "
       ]
      },
      {
       "output_type": "stream",
       "stream": "stdout",
       "text": [
        " 40 : error is  16.707608377\n",
        "Iteration "
       ]
      },
      {
       "output_type": "stream",
       "stream": "stdout",
       "text": [
        " 50 : error is  16.304177513\n",
        "Iteration "
       ]
      },
      {
       "output_type": "stream",
       "stream": "stdout",
       "text": [
        " 60 : error is  16.1334830424\n",
        "Iteration "
       ]
      },
      {
       "output_type": "stream",
       "stream": "stdout",
       "text": [
        " 70 : error is  16.0379996681\n",
        "Iteration "
       ]
      },
      {
       "output_type": "stream",
       "stream": "stdout",
       "text": [
        " 80 : error is  15.9596731875\n",
        "Iteration "
       ]
      },
      {
       "output_type": "stream",
       "stream": "stdout",
       "text": [
        " 90 : error is  15.8880864772\n",
        "Iteration "
       ]
      },
      {
       "output_type": "stream",
       "stream": "stdout",
       "text": [
        " 100 : error is  15.8362191907\n",
        "Iteration "
       ]
      },
      {
       "output_type": "stream",
       "stream": "stdout",
       "text": [
        " 110 : error is  2.21613181223\n",
        "Iteration "
       ]
      },
      {
       "output_type": "stream",
       "stream": "stdout",
       "text": [
        " 120 : error is  1.95764815049\n",
        "Iteration "
       ]
      },
      {
       "output_type": "stream",
       "stream": "stdout",
       "text": [
        " 130 : error is  1.74465125069\n",
        "Iteration "
       ]
      },
      {
       "output_type": "stream",
       "stream": "stdout",
       "text": [
        " 140 : error is  1.58119608576\n",
        "Iteration "
       ]
      },
      {
       "output_type": "stream",
       "stream": "stdout",
       "text": [
        " 150 : error is  1.46163005429\n",
        "Iteration "
       ]
      },
      {
       "output_type": "stream",
       "stream": "stdout",
       "text": [
        " 160 : error is  1.37475512937\n",
        "Iteration "
       ]
      },
      {
       "output_type": "stream",
       "stream": "stdout",
       "text": [
        " 170 : error is  1.30695199366\n",
        "Iteration "
       ]
      },
      {
       "output_type": "stream",
       "stream": "stdout",
       "text": [
        " 180 : error is  1.25199576285\n",
        "Iteration "
       ]
      },
      {
       "output_type": "stream",
       "stream": "stdout",
       "text": [
        " 190 : error is  1.20720564926\n",
        "Iteration "
       ]
      },
      {
       "output_type": "stream",
       "stream": "stdout",
       "text": [
        " 200 : error is  1.17026052313\n",
        "Iteration "
       ]
      },
      {
       "output_type": "stream",
       "stream": "stdout",
       "text": [
        " 210 : error is  1.13863732331\n",
        "Iteration "
       ]
      },
      {
       "output_type": "stream",
       "stream": "stdout",
       "text": [
        " 220 : error is  1.11111718486\n",
        "Iteration "
       ]
      },
      {
       "output_type": "stream",
       "stream": "stdout",
       "text": [
        " 230 : error is  1.08741287711\n",
        "Iteration "
       ]
      },
      {
       "output_type": "stream",
       "stream": "stdout",
       "text": [
        " 240 : error is  1.06674880269\n",
        "Iteration "
       ]
      },
      {
       "output_type": "stream",
       "stream": "stdout",
       "text": [
        " 250 : error is  1.04825185527\n",
        "Iteration "
       ]
      },
      {
       "output_type": "stream",
       "stream": "stdout",
       "text": [
        " 260 : error is  1.03176299042\n",
        "Iteration "
       ]
      },
      {
       "output_type": "stream",
       "stream": "stdout",
       "text": [
        " 270 : error is  1.0169182201\n",
        "Iteration "
       ]
      },
      {
       "output_type": "stream",
       "stream": "stdout",
       "text": [
        " 280 : error is  1.00349469671\n",
        "Iteration "
       ]
      },
      {
       "output_type": "stream",
       "stream": "stdout",
       "text": [
        " 290 : error is  0.991219431805\n",
        "Iteration "
       ]
      },
      {
       "output_type": "stream",
       "stream": "stdout",
       "text": [
        " 300 : error is  0.979950766985\n",
        "Iteration "
       ]
      },
      {
       "output_type": "stream",
       "stream": "stdout",
       "text": [
        " 310 : error is  0.969598489359\n",
        "Iteration "
       ]
      },
      {
       "output_type": "stream",
       "stream": "stdout",
       "text": [
        " 320 : error is  0.960231877724\n",
        "Iteration "
       ]
      },
      {
       "output_type": "stream",
       "stream": "stdout",
       "text": [
        " 330 : error is  0.951659944847\n",
        "Iteration "
       ]
      },
      {
       "output_type": "stream",
       "stream": "stdout",
       "text": [
        " 340 : error is  0.943580038225\n",
        "Iteration "
       ]
      },
      {
       "output_type": "stream",
       "stream": "stdout",
       "text": [
        " 350 : error is  0.936108378862\n",
        "Iteration "
       ]
      },
      {
       "output_type": "stream",
       "stream": "stdout",
       "text": [
        " 360 : error is  0.929309936104\n",
        "Iteration "
       ]
      },
      {
       "output_type": "stream",
       "stream": "stdout",
       "text": [
        " 370 : error is  0.923032589502\n",
        "Iteration "
       ]
      },
      {
       "output_type": "stream",
       "stream": "stdout",
       "text": [
        " 380 : error is  0.917197230592\n",
        "Iteration "
       ]
      },
      {
       "output_type": "stream",
       "stream": "stdout",
       "text": [
        " 390 : error is  0.91178012372\n",
        "Iteration "
       ]
      },
      {
       "output_type": "stream",
       "stream": "stdout",
       "text": [
        " 400 : error is  0.90676541981\n",
        "Iteration "
       ]
      },
      {
       "output_type": "stream",
       "stream": "stdout",
       "text": [
        " 410 : error is  0.902069598702\n",
        "Iteration "
       ]
      },
      {
       "output_type": "stream",
       "stream": "stdout",
       "text": [
        " 420 : error is  0.897657020084\n",
        "Iteration "
       ]
      },
      {
       "output_type": "stream",
       "stream": "stdout",
       "text": [
        " 430 : error is  0.893467616804\n",
        "Iteration "
       ]
      },
      {
       "output_type": "stream",
       "stream": "stdout",
       "text": [
        " 440 : error is  0.889540114421\n",
        "Iteration "
       ]
      },
      {
       "output_type": "stream",
       "stream": "stdout",
       "text": [
        " 450 : error is  0.885847818024\n",
        "Iteration "
       ]
      },
      {
       "output_type": "stream",
       "stream": "stdout",
       "text": [
        " 460 : error is  0.882333242687\n",
        "Iteration "
       ]
      },
      {
       "output_type": "stream",
       "stream": "stdout",
       "text": [
        " 470 : error is  0.878965989822\n",
        "Iteration "
       ]
      },
      {
       "output_type": "stream",
       "stream": "stdout",
       "text": [
        " 480 : error is  0.875742479264\n",
        "Iteration "
       ]
      },
      {
       "output_type": "stream",
       "stream": "stdout",
       "text": [
        " 490 : error is  0.872717444357\n",
        "Iteration "
       ]
      },
      {
       "output_type": "stream",
       "stream": "stdout",
       "text": [
        " 500 : error is  0.869865500823\n",
        "Iteration "
       ]
      },
      {
       "output_type": "stream",
       "stream": "stdout",
       "text": [
        " 510 : error is  0.867142022526\n",
        "Iteration "
       ]
      },
      {
       "output_type": "stream",
       "stream": "stdout",
       "text": [
        " 520 : error is  0.864541602751\n",
        "Iteration "
       ]
      },
      {
       "output_type": "stream",
       "stream": "stdout",
       "text": [
        " 530 : error is  0.862072251904\n",
        "Iteration "
       ]
      },
      {
       "output_type": "stream",
       "stream": "stdout",
       "text": [
        " 540 : error is  0.859694500262\n",
        "Iteration "
       ]
      },
      {
       "output_type": "stream",
       "stream": "stdout",
       "text": [
        " 550 : error is  0.857422544108\n",
        "Iteration "
       ]
      },
      {
       "output_type": "stream",
       "stream": "stdout",
       "text": [
        " 560 : error is  0.855176430876\n",
        "Iteration "
       ]
      },
      {
       "output_type": "stream",
       "stream": "stdout",
       "text": [
        " 570 : error is  0.852988469839\n",
        "Iteration "
       ]
      },
      {
       "output_type": "stream",
       "stream": "stdout",
       "text": [
        " 580 : error is  0.850941576238\n",
        "Iteration "
       ]
      },
      {
       "output_type": "stream",
       "stream": "stdout",
       "text": [
        " 590 : error is  0.849006961411\n",
        "Iteration "
       ]
      },
      {
       "output_type": "stream",
       "stream": "stdout",
       "text": [
        " 600 : error is  0.847178430202\n",
        "Iteration "
       ]
      },
      {
       "output_type": "stream",
       "stream": "stdout",
       "text": [
        " 610 : error is  0.845426980252\n",
        "Iteration "
       ]
      },
      {
       "output_type": "stream",
       "stream": "stdout",
       "text": [
        " 620 : error is  0.843712334037\n",
        "Iteration "
       ]
      },
      {
       "output_type": "stream",
       "stream": "stdout",
       "text": [
        " 630 : error is  0.842033379386\n",
        "Iteration "
       ]
      },
      {
       "output_type": "stream",
       "stream": "stdout",
       "text": [
        " 640 : error is  0.840410525751\n",
        "Iteration "
       ]
      },
      {
       "output_type": "stream",
       "stream": "stdout",
       "text": [
        " 650 : error is  0.838855581112\n",
        "Iteration "
       ]
      },
      {
       "output_type": "stream",
       "stream": "stdout",
       "text": [
        " 660 : error is  0.837350065329\n",
        "Iteration "
       ]
      },
      {
       "output_type": "stream",
       "stream": "stdout",
       "text": [
        " 670 : error is  0.835894552283\n",
        "Iteration "
       ]
      },
      {
       "output_type": "stream",
       "stream": "stdout",
       "text": [
        " 680 : error is  0.834490202499\n",
        "Iteration "
       ]
      },
      {
       "output_type": "stream",
       "stream": "stdout",
       "text": [
        " 690 : error is  0.833131196085\n",
        "Iteration "
       ]
      },
      {
       "output_type": "stream",
       "stream": "stdout",
       "text": [
        " 700 : error is  0.831800492053\n",
        "Iteration "
       ]
      },
      {
       "output_type": "stream",
       "stream": "stdout",
       "text": [
        " 710 : error is  0.830489282744\n",
        "Iteration "
       ]
      },
      {
       "output_type": "stream",
       "stream": "stdout",
       "text": [
        " 720 : error is  0.829227670827\n",
        "Iteration "
       ]
      },
      {
       "output_type": "stream",
       "stream": "stdout",
       "text": [
        " 730 : error is  0.82803014024\n",
        "Iteration "
       ]
      },
      {
       "output_type": "stream",
       "stream": "stdout",
       "text": [
        " 740 : error is  0.826872691142\n",
        "Iteration "
       ]
      },
      {
       "output_type": "stream",
       "stream": "stdout",
       "text": [
        " 750 : error is  0.82573927548\n",
        "Iteration "
       ]
      },
      {
       "output_type": "stream",
       "stream": "stdout",
       "text": [
        " 760 : error is  0.824625805103\n",
        "Iteration "
       ]
      },
      {
       "output_type": "stream",
       "stream": "stdout",
       "text": [
        " 770 : error is  0.823539769796\n",
        "Iteration "
       ]
      },
      {
       "output_type": "stream",
       "stream": "stdout",
       "text": [
        " 780 : error is  0.822481642837\n",
        "Iteration "
       ]
      },
      {
       "output_type": "stream",
       "stream": "stdout",
       "text": [
        " 790 : error is  0.821457912512\n",
        "Iteration "
       ]
      },
      {
       "output_type": "stream",
       "stream": "stdout",
       "text": [
        " 800 : error is  0.820459808051\n",
        "Iteration "
       ]
      },
      {
       "output_type": "stream",
       "stream": "stdout",
       "text": [
        " 810 : error is  0.81948160173\n",
        "Iteration "
       ]
      },
      {
       "output_type": "stream",
       "stream": "stdout",
       "text": [
        " 820 : error is  0.818525517675\n",
        "Iteration "
       ]
      },
      {
       "output_type": "stream",
       "stream": "stdout",
       "text": [
        " 830 : error is  0.817596907064\n",
        "Iteration "
       ]
      },
      {
       "output_type": "stream",
       "stream": "stdout",
       "text": [
        " 840 : error is  0.816696145407\n",
        "Iteration "
       ]
      },
      {
       "output_type": "stream",
       "stream": "stdout",
       "text": [
        " 850 : error is  0.815813227965\n",
        "Iteration "
       ]
      },
      {
       "output_type": "stream",
       "stream": "stdout",
       "text": [
        " 860 : error is  0.814959992687\n",
        "Iteration "
       ]
      },
      {
       "output_type": "stream",
       "stream": "stdout",
       "text": [
        " 870 : error is  0.814125246068\n",
        "Iteration "
       ]
      },
      {
       "output_type": "stream",
       "stream": "stdout",
       "text": [
        " 880 : error is  0.813312035961\n",
        "Iteration "
       ]
      },
      {
       "output_type": "stream",
       "stream": "stdout",
       "text": [
        " 890 : error is  0.812511489703\n",
        "Iteration "
       ]
      },
      {
       "output_type": "stream",
       "stream": "stdout",
       "text": [
        " 900 : error is  0.811731260642\n",
        "Iteration "
       ]
      },
      {
       "output_type": "stream",
       "stream": "stdout",
       "text": [
        " 910 : error is  0.810963517779\n",
        "Iteration "
       ]
      },
      {
       "output_type": "stream",
       "stream": "stdout",
       "text": [
        " 920 : error is  0.810207808797\n",
        "Iteration "
       ]
      },
      {
       "output_type": "stream",
       "stream": "stdout",
       "text": [
        " 930 : error is  0.809468336432\n",
        "Iteration "
       ]
      },
      {
       "output_type": "stream",
       "stream": "stdout",
       "text": [
        " 940 : error is  0.808758275366\n",
        "Iteration "
       ]
      },
      {
       "output_type": "stream",
       "stream": "stdout",
       "text": [
        " 950 : error is  0.808067090192\n",
        "Iteration "
       ]
      },
      {
       "output_type": "stream",
       "stream": "stdout",
       "text": [
        " 960 : error is  0.807385558189\n",
        "Iteration "
       ]
      },
      {
       "output_type": "stream",
       "stream": "stdout",
       "text": [
        " 970 : error is  0.806709840858\n",
        "Iteration "
       ]
      },
      {
       "output_type": "stream",
       "stream": "stdout",
       "text": [
        " 980 : error is  0.8060456295\n",
        "Iteration "
       ]
      },
      {
       "output_type": "stream",
       "stream": "stdout",
       "text": [
        " 990 : error is  0.805398519864\n",
        "Iteration "
       ]
      },
      {
       "output_type": "stream",
       "stream": "stdout",
       "text": [
        " 1000 : error is  0.804769014551\n"
       ]
      }
     ],
     "prompt_number": 32
    },
    {
     "cell_type": "code",
     "collapsed": false,
     "input": [
      "## show result of tsne\n",
      "print labelProbs.shape\n",
      "labels = np.argmax(labelProbs, axis=-1)\n",
      "reds = np.argwhere(labels == 0)\n",
      "greens = np.argwhere(labels == 1)\n",
      "blues = np.argwhere(labels == 2)\n",
      "magentas = np.argwhere(labels == 3)\n",
      "# labels = np.loadtxt(\"mnist2500_labels.txt\");\n",
      "print labels, labels.shape\n",
      "print reds.shape, greens.shape, blues.shape, magentas.shape\n",
      "\n",
      "## normalize and fit to interval [0, 1]\n",
      "Y = (Y-np.min(Y))/(np.max(Y)-np.min(Y))\n",
      "\n",
      "figure();\n",
      "scatter(Y[reds,0], Y[reds,1], 20, '#ff0000');\n",
      "scatter(Y[greens,0], Y[greens,1], 20, '#00ff00');\n",
      "scatter(Y[blues,0], Y[blues,1], 20, '#0000ff');\n",
      "scatter(Y[magentas,0], Y[magentas,1], 20, '#ff00ff');\n",
      "\n",
      "## save results to use with videotextgui\n",
      "np.save(outputData + \"l2dist_mult0.05_tsnemap.npy\", {\"mapPoints\": Y.T, \"predictedLabels\": [np.ndarray.flatten(reds), np.ndarray.flatten(greens), np.ndarray.flatten(blues), np.ndarray.flatten(magentas)]})"
     ],
     "language": "python",
     "metadata": {},
     "outputs": [
      {
       "output_type": "stream",
       "stream": "stdout",
       "text": [
        "(1272, 4)\n",
        "[0 0 0 ..., 3 3 3] (1272,)\n",
        "(455, 1) (443, 1) (28, 1) (346, 1)\n"
       ]
      }
     ],
     "prompt_number": 33
    },
    {
     "cell_type": "code",
     "collapsed": false,
     "input": [
      "## show stencil\n",
      "im = np.zeros(img.shape)\n",
      "im[stencils[5][0], stencils[5][1]] = 1\n",
      "figure(); imshow(im)"
     ],
     "language": "python",
     "metadata": {},
     "outputs": [
      {
       "metadata": {},
       "output_type": "pyout",
       "prompt_number": 25,
       "text": [
        "<matplotlib.image.AxesImage at 0x7f944cf26150>"
       ]
      }
     ],
     "prompt_number": 25
    },
    {
     "cell_type": "code",
     "collapsed": false,
     "input": [
      "## show features\n",
      "gwv.showCustomGraph(features[717, :].reshape((blocksPerDim, blocksPerDim)))\n",
      "gwv.showCustomGraph(features[1165, :].reshape((blocksPerDim, blocksPerDim)))\n",
      "gwv.showCustomGraph(features[1166, :].reshape((blocksPerDim, blocksPerDim)))\n",
      "print np.dot(features[717, :], features[1166, :])\n",
      "print np.dot(features[1165, :], features[1166, :])"
     ],
     "language": "python",
     "metadata": {},
     "outputs": [
      {
       "output_type": "stream",
       "stream": "stdout",
       "text": [
        "0.0537339956253\n",
        "0.928568257189\n"
       ]
      }
     ],
     "prompt_number": 4
    },
    {
     "cell_type": "code",
     "collapsed": false,
     "input": [
      "## compute the distance matrix where distance is dot product between feature vectors\n",
      "distanceMatrix = np.ones((numFrames, numFrames))\n",
      "\n",
      "for r in xrange(0, numFrames) :\n",
      "    for c in xrange(r+1, numFrames) :\n",
      "        distanceMatrix[r, c] = distanceMatrix[c, r] = np.dot(features[r, :], features[c, :])\n",
      "    print r, \n",
      "\n",
      "distanceMatrix = 1 - distanceMatrix\n",
      "figure(); imshow(distanceMatrix, interpolation='nearest')"
     ],
     "language": "python",
     "metadata": {},
     "outputs": [
      {
       "output_type": "stream",
       "stream": "stdout",
       "text": [
        "0 1 2 3 4 5 6 7 8 9 10 11 12 13 14 15 "
       ]
      },
      {
       "output_type": "stream",
       "stream": "stdout",
       "text": [
        "16 17 18 19 20 21 22 23 24 25 26 27 28 29 30 31 "
       ]
      },
      {
       "output_type": "stream",
       "stream": "stdout",
       "text": [
        "32 33 34 35 36 37 38 39 40 41 42 43 44 45 46 47 "
       ]
      },
      {
       "output_type": "stream",
       "stream": "stdout",
       "text": [
        "48 49 50 51 52 53 54 55 56 57 58 59 60 61 62 "
       ]
      },
      {
       "output_type": "stream",
       "stream": "stdout",
       "text": [
        "63 64 65 66 67 68 69 70 71 72 73 74 75 76 77 78 79 "
       ]
      },
      {
       "output_type": "stream",
       "stream": "stdout",
       "text": [
        "80 81 82 83 84 85 86 87 88 89 90 91 92 93 94 95 96 97 "
       ]
      },
      {
       "output_type": "stream",
       "stream": "stdout",
       "text": [
        "98 99 100 101 102 103 104 105 106 107 108 109 110 111 112 113 114 "
       ]
      },
      {
       "output_type": "stream",
       "stream": "stdout",
       "text": [
        "115 116 117 118 119 120 121 122 123 124 125 126 127 128 129 130 131 132 "
       ]
      },
      {
       "output_type": "stream",
       "stream": "stdout",
       "text": [
        "133 134 135 136 137 138 139 140 141 142 143 144 145 146 147 148 149 150 "
       ]
      },
      {
       "output_type": "stream",
       "stream": "stdout",
       "text": [
        "151 152 153 154 155 156 157 158 159 160 161 162 163 164 165 166 167 168 "
       ]
      },
      {
       "output_type": "stream",
       "stream": "stdout",
       "text": [
        "169 170 171 172 173 174 175 176 177 178 179 180 181 182 183 184 185 186 "
       ]
      },
      {
       "output_type": "stream",
       "stream": "stdout",
       "text": [
        "187 188 189 190 191 192 193 194 195 196 197 198 199 200 201 202 "
       ]
      },
      {
       "output_type": "stream",
       "stream": "stdout",
       "text": [
        "203 204 205 206 207 208 209 210 211 212 213 214 215 216 217 218 219 220 221 222 "
       ]
      },
      {
       "output_type": "stream",
       "stream": "stdout",
       "text": [
        "223 224 225 226 227 228 229 230 231 232 233 234 235 236 237 238 239 240 241 242 "
       ]
      },
      {
       "output_type": "stream",
       "stream": "stdout",
       "text": [
        "243 244 245 246 247 248 249 250 251 252 253 254 255 256 257 258 259 "
       ]
      },
      {
       "output_type": "stream",
       "stream": "stdout",
       "text": [
        "260 261 262 263 264 265 266 267 268 269 270 271 272 273 274 275 276 277 278 279 280 "
       ]
      },
      {
       "output_type": "stream",
       "stream": "stdout",
       "text": [
        "281 282 283 284 285 286 287 288 289 290 291 292 293 294 295 296 297 298 299 300 301 "
       ]
      },
      {
       "output_type": "stream",
       "stream": "stdout",
       "text": [
        "302 303 304 305 306 307 308 309 310 311 312 313 314 315 316 317 318 319 320 321 322 "
       ]
      },
      {
       "output_type": "stream",
       "stream": "stdout",
       "text": [
        "323 324 325 326 327 328 329 330 331 332 333 334 335 336 337 338 339 340 341 "
       ]
      },
      {
       "output_type": "stream",
       "stream": "stdout",
       "text": [
        "342 343 344 345 346 347 348 349 350 351 352 353 354 355 356 357 358 359 360 361 362 "
       ]
      },
      {
       "output_type": "stream",
       "stream": "stdout",
       "text": [
        "363 364 365 366 367 368 369 370 371 372 373 374 375 376 377 378 379 380 381 382 383 384 385 "
       ]
      },
      {
       "output_type": "stream",
       "stream": "stdout",
       "text": [
        "386 387 388 389 390 391 392 393 394 395 396 397 398 399 400 401 402 403 404 405 406 407 408 "
       ]
      },
      {
       "output_type": "stream",
       "stream": "stdout",
       "text": [
        "409 410 411 412 413 414 415 416 417 418 419 420 421 422 423 424 425 426 427 428 "
       ]
      },
      {
       "output_type": "stream",
       "stream": "stdout",
       "text": [
        "429 430 431 432 433 434 435 436 437 438 439 440 441 442 443 444 445 446 447 448 449 450 451 452 "
       ]
      },
      {
       "output_type": "stream",
       "stream": "stdout",
       "text": [
        "453 454 455 456 457 458 459 460 461 462 463 464 465 466 467 468 469 470 471 472 473 474 475 "
       ]
      },
      {
       "output_type": "stream",
       "stream": "stdout",
       "text": [
        "476 477 478 479 480 481 482 483 484 485 486 487 488 489 490 491 492 493 494 495 496 497 498 "
       ]
      },
      {
       "output_type": "stream",
       "stream": "stdout",
       "text": [
        "499 500 501 502 503 504 505 506 507 508 509 510 511 512 513 514 515 516 517 518 519 "
       ]
      },
      {
       "output_type": "stream",
       "stream": "stdout",
       "text": [
        "520 521 522 523 524 525 526 527 528 529 530 531 532 533 534 535 536 537 538 539 540 541 542 543 544 545 546 "
       ]
      },
      {
       "output_type": "stream",
       "stream": "stdout",
       "text": [
        "547 548 549 550 551 552 553 554 555 556 557 558 559 560 561 562 563 564 565 566 567 568 569 570 571 572 573 574 "
       ]
      },
      {
       "output_type": "stream",
       "stream": "stdout",
       "text": [
        "575 576 577 578 579 580 581 582 583 584 585 586 587 588 589 590 591 592 593 594 595 596 597 598 599 600 601 602 "
       ]
      },
      {
       "output_type": "stream",
       "stream": "stdout",
       "text": [
        "603 604 605 606 607 608 609 610 611 612 613 614 615 616 617 618 619 620 621 622 623 624 625 626 627 628 629 630 631 632 "
       ]
      },
      {
       "output_type": "stream",
       "stream": "stdout",
       "text": [
        "633 634 635 636 637 638 639 640 641 642 643 644 645 646 647 648 649 650 651 652 653 654 655 656 657 658 659 660 661 662 "
       ]
      },
      {
       "output_type": "stream",
       "stream": "stdout",
       "text": [
        "663 664 665 666 667 668 669 670 671 672 673 674 675 676 677 678 679 680 681 682 683 684 685 686 687 688 689 690 691 692 693 694 695 696 "
       ]
      },
      {
       "output_type": "stream",
       "stream": "stdout",
       "text": [
        "697 698 699 700 701 702 703 704 705 706 707 708 709 710 711 712 713 714 715 716 717 718 719 720 721 722 723 724 725 726 727 728 729 730 731 732 733 "
       ]
      },
      {
       "output_type": "stream",
       "stream": "stdout",
       "text": [
        "734 735 736 737 738 739 740 741 742 743 744 745 746 747 748 749 750 751 752 753 754 755 756 757 758 759 760 761 762 763 764 765 "
       ]
      },
      {
       "output_type": "stream",
       "stream": "stdout",
       "text": [
        "766 767 768 769 770 771 772 773 774 775 776 777 778 779 780 781 782 783 784 785 786 787 788 789 790 791 792 793 794 795 796 797 798 799 800 801 802 803 804 805 806 "
       ]
      },
      {
       "output_type": "stream",
       "stream": "stdout",
       "text": [
        "807 808 809 810 811 812 813 814 815 816 817 818 819 820 821 822 823 824 825 826 827 828 829 830 831 832 833 834 835 836 837 838 839 840 841 842 843 844 845 846 847 848 849 850 "
       ]
      },
      {
       "output_type": "stream",
       "stream": "stdout",
       "text": [
        "851 852 853 854 855 856 857 858 859 860 861 862 863 864 865 866 867 868 869 870 871 872 873 874 875 876 877 878 879 880 881 882 883 884 885 886 887 888 889 890 891 892 893 894 895 896 897 898 "
       ]
      },
      {
       "output_type": "stream",
       "stream": "stdout",
       "text": [
        "899 900 901 902 903 904 905 906 907 908 909 910 911 912 913 914 915 916 917 918 919 920 921 922 923 924 925 926 927 928 929 930 931 932 933 934 935 936 937 938 939 940 941 942 943 944 945 946 947 "
       ]
      },
      {
       "output_type": "stream",
       "stream": "stdout",
       "text": [
        "948 949 950 951 952 953 954 955 956 957 958 959 960 961 962 963 964 965 966 967 968 969 970 971 972 973 974 975 976 977 978 979 980 981 982 983 984 985 986 987 988 989 990 991 992 993 994 995 996 997 998 999 1000 1001 1002 1003 1004 1005 1006 1007 1008 1009 1010 1011 1012 1013 "
       ]
      },
      {
       "output_type": "stream",
       "stream": "stdout",
       "text": [
        "1014 1015 1016 1017 1018 1019 1020 1021 1022 1023 1024 1025 1026 1027 1028 1029 1030 1031 1032 1033 1034 1035 1036 1037 1038 1039 1040 1041 1042 1043 1044 1045 1046 1047 1048 1049 1050 1051 1052 1053 1054 1055 1056 1057 1058 1059 1060 1061 1062 1063 1064 1065 1066 1067 1068 1069 1070 1071 1072 1073 1074 1075 1076 1077 1078 1079 1080 1081 1082 1083 1084 1085 1086 1087 1088 1089 1090 1091 1092 1093 1094 1095 1096 1097 1098 1099 1100 1101 1102 1103 "
       ]
      },
      {
       "output_type": "stream",
       "stream": "stdout",
       "text": [
        "1104 1105 1106 1107 1108 1109 1110 1111 1112 1113 1114 1115 1116 1117 1118 1119 1120 1121 1122 1123 1124 1125 1126 1127 1128 1129 1130 1131 1132 1133 1134 1135 1136 1137 1138 1139 1140 1141 1142 1143 1144 1145 1146 1147 1148 1149 1150 1151 1152 1153 1154 1155 1156 1157 1158 1159 1160 1161 1162 1163 1164 1165 1166 1167 1168 1169 1170 1171 1172 1173 1174 1175 1176 1177 1178 1179 1180 1181 1182 1183 1184 1185 1186 1187 1188 1189 1190 1191 1192 1193 1194 1195 1196 1197 1198 1199 1200 1201 1202 1203 1204 1205 1206 1207 1208 1209 1210 1211 1212 1213 1214 1215 1216 1217 1218 1219 1220 1221 1222 1223 1224 1225 1226 1227 1228 1229 1230 1231 1232 1233 1234 1235 1236 1237 1238 1239 1240 1241 1242 1243 1244 1245 1246 1247 1248 1249 1250 1251 1252 1253 1254 1255 1256 1257 1258 1259 1260 1261 1262 1263 1264 1265 1266 1267 1268 1269 1270 1271 1272 1273 1274 1275 1276 1277 1278 1279"
       ]
      },
      {
       "metadata": {},
       "output_type": "pyout",
       "prompt_number": 5,
       "text": [
        "<matplotlib.image.AxesImage at 0x7f36fed09750>"
       ]
      },
      {
       "output_type": "stream",
       "stream": "stdout",
       "text": [
        "\n"
       ]
      }
     ],
     "prompt_number": 5
    },
    {
     "cell_type": "code",
     "collapsed": false,
     "input": [
      "## compute 1D emd\n",
      "def distance(f1, f2):\n",
      "#     return np.sqrt( (f1.x - f2.x)**2  + (f1.y - f2.y)**2 + (f1.z - f2.z)**2 )\n",
      "    return np.sqrt((f1 - f2)**2)#np.sqrt( (f1[0] - f2[0])**2  + (f1[1] - f2[1])**2 + (f1[2] - f2[2])**2 )\n",
      "\n",
      "print emd((list(features[1165, :]), list(arange(0.0, subDivisions))), (list(features[1166, :]), list(arange(0.0, subDivisions))), distance)\n",
      "print emd((list(features[717, :]), list(arange(0.0, subDivisions))), (list(features[1166, :]), list(arange(0.0, subDivisions))), distance)"
     ],
     "language": "python",
     "metadata": {},
     "outputs": [
      {
       "output_type": "stream",
       "stream": "stdout",
       "text": [
        "0.00160235865042\n",
        "0.00272237346508\n"
       ]
      }
     ],
     "prompt_number": 9
    },
    {
     "cell_type": "code",
     "collapsed": false,
     "input": [
      "class ImageLabel(QtGui.QLabel) :\n",
      "    \n",
      "    def __init__(self, text, parent=None):\n",
      "        super(ImageLabel, self).__init__(text, parent)\n",
      "        \n",
      "    def setPixmap(self, pixmap) :\n",
      "        if pixmap.width() > self.width() :\n",
      "            super(ImageLabel, self).setPixmap(pixmap.scaledToWidth(self.width()))\n",
      "        else :\n",
      "            super(ImageLabel, self).setPixmap(pixmap)\n",
      "        \n",
      "    def resizeEvent(self, event) :\n",
      "        if self.pixmap() != None :\n",
      "            if self.pixmap().width() > self.width() :\n",
      "                self.setPixmap(self.pixmap().scaledToWidth(self.width()))\n",
      "                \n",
      "class Window(QtGui.QWidget):\n",
      "    def __init__(self):\n",
      "        super(Window, self).__init__()\n",
      "        \n",
      "        self.createGUI()\n",
      "        \n",
      "        self.setWindowTitle(\"Semantic Labelling\")\n",
      "        self.resize(1280, 720)\n",
      "        \n",
      "        self.labelledFrames = []\n",
      "#         self.labelledPairs.append([1234, 234, 0.5])\n",
      "#         self.setLabelledFramesListTable()\n",
      "\n",
      "        self.RANDOM_CHOICE = 0\n",
      "        self.SET_CHOICE = 1\n",
      "        self.choiceMode = self.RANDOM_CHOICE\n",
      "        \n",
      "        self.choiceSet = arange(100)\n",
      "        \n",
      "        self.getNewFrame()\n",
      "        \n",
      "        self.setFocus()\n",
      "        \n",
      "    def setLabelledFramesListTable(self) :\n",
      "        \n",
      "        if len(self.labelledFrames) > 0 :\n",
      "            self.labelledFramesListTable.setRowCount(len(self.labelledFrames))\n",
      "            \n",
      "            for labelledFrame, i in zip(self.labelledFrames, arange(len(self.labelledFrames))) :\n",
      "                self.labelledFramesListTable.setItem(i, 0, QtGui.QTableWidgetItem(np.string_(labelledFrame[0])))\n",
      "                self.labelledFramesListTable.setItem(i, 1, QtGui.QTableWidgetItem(np.string_(labelledFrame[1])))\n",
      "        else :\n",
      "            self.labelledFramesListTable.setRowCount(0)\n",
      "    \n",
      "    def getNewFrame(self) :\n",
      "        if self.choiceMode == self.RANDOM_CHOICE :\n",
      "            self.getNewRandomFrame()\n",
      "        elif self.choiceMode == self.SET_CHOICE :\n",
      "            self.getNewFrameFromSet()\n",
      "    \n",
      "    def getNewFrameFromSet(self) :\n",
      "        self.frameIdx = np.random.choice(self.choiceSet)\n",
      "        \n",
      "        while len(self.labelledFrames) > 0 and self.frameIdx in np.array(self.labelledFrames)[:, 0] :\n",
      "            print \"stuck\"\n",
      "            self.frameIdx = np.random.choice(self.choiceSet)\n",
      "        \n",
      "        self.setFrameImage()\n",
      "            \n",
      "    def getNewRandomFrame(self) :\n",
      "        self.frameIdx = np.random.randint(0, len(frames))\n",
      "        \n",
      "        while len(self.labelledFrames) > 0 and self.frameIdx in np.array(self.labelledFrames)[:, 0] :\n",
      "            print \"stuck\"\n",
      "            self.frameIdx = np.random.randint(0, len(frames))\n",
      "        \n",
      "        self.setFrameImage()\n",
      "        \n",
      "    def setFrameImage(self) :\n",
      "        ## HACK ##\n",
      "        im = np.ascontiguousarray(Image.open(frames[self.frameIdx]))\n",
      "        qim = QtGui.QImage(im.data, im.shape[1], im.shape[0], im.strides[0], QtGui.QImage.Format_RGB888);\n",
      "        self.frameLabel.setPixmap(QtGui.QPixmap.fromImage(qim))\n",
      "        self.frameInfo.setText(frames[self.frameIdx])\n",
      "        \n",
      "    def labelledFrameSelected(self) :\n",
      "        selectedRow = self.labelledFramesListTable.currentRow()\n",
      "        if selectedRow >= 0 and selectedRow < len(self.labelledFrames):\n",
      "            ## HACK ##\n",
      "            im = np.ascontiguousarray(Image.open(frames[self.labelledFrames[selectedRow][0]]))\n",
      "            qim = QtGui.QImage(im.data, im.shape[1], im.shape[0], im.strides[0], QtGui.QImage.Format_RGB888);\n",
      "            self.frameLabel.setPixmap(QtGui.QPixmap.fromImage(qim))\n",
      "            self.frameInfo.setText(frames[self.labelledFrames[selectedRow][0]])\n",
      "        \n",
      "    def keyPressEvent(self, e) :\n",
      "        if e.key() == e.key() >= QtCore.Qt.Key_0 and e.key() <= QtCore.Qt.Key_9 :\n",
      "            self.setFrameLabel(np.mod(e.key()-int(QtCore.Qt.Key_0), int(QtCore.Qt.Key_9)))\n",
      "        elif e.key() == QtCore.Qt.Key_Space : ## Get new frame\n",
      "            self.getNewFrame()\n",
      "            \n",
      "    def setFrameLabel(self, label) :\n",
      "        if self.labelledFramesListTable.currentRow() >= 0 : ## I'm modifying label of existing frame\n",
      "            self.labelledFrames[self.labelledFramesListTable.currentRow()][1] = label\n",
      "        else :\n",
      "            self.labelledFrames.append([self.frameIdx, label])\n",
      "            \n",
      "        self.labelledFramesListTable.clearSelection()\n",
      "        self.labelledFramesListTable.setCurrentCell(-1, -1)\n",
      "        self.setLabelledFramesListTable()\n",
      "        \n",
      "        self.getNewFrame()\n",
      "        \n",
      "    def changeChoiceMode(self, index) :\n",
      "        if index == self.RANDOM_CHOICE :\n",
      "            self.choiceMode = self.RANDOM_CHOICE\n",
      "            self.choiceSetInterval.setEnabled(False)\n",
      "            self.choiceSetInterval.setVisible(False)\n",
      "        elif index == self.SET_CHOICE :\n",
      "            self.choiceMode = self.SET_CHOICE\n",
      "            self.choiceSetInterval.setEnabled(True)\n",
      "            self.choiceSetInterval.setVisible(True)\n",
      "        \n",
      "        self.getNewFrame()\n",
      "        \n",
      "    def changeChoiceSet(self) :\n",
      "        choiceSetText = self.choiceSetInterval.text()\n",
      "        interval = np.array(re.split(\"-|:\", choiceSetText), dtype=int)\n",
      "        if len(interval) == 2 :\n",
      "            self.choiceSet = arange(interval[0], interval[1]+1)\n",
      "            \n",
      "        self.setFocus()\n",
      "        self.getNewFrame()\n",
      "        \n",
      "    def createGUI(self) :\n",
      "        \n",
      "        ## WIDGETS ##\n",
      "        \n",
      "        self.frameLabel = ImageLabel(\"Frame\")\n",
      "        self.frameLabel.setSizePolicy(QtGui.QSizePolicy.MinimumExpanding, QtGui.QSizePolicy.MinimumExpanding)\n",
      "        self.frameLabel.setAlignment(QtCore.Qt.AlignCenter | QtCore.Qt.AlignHCenter)\n",
      "        \n",
      "        self.frameInfo = QtGui.QLabel(\"Info text\")\n",
      "        self.frameInfo.setAlignment(QtCore.Qt.AlignCenter | QtCore.Qt.AlignHCenter)\n",
      "        \n",
      "        self.labelledFramesListTable = QtGui.QTableWidget(0, 2)\n",
      "        self.labelledFramesListTable.horizontalHeader().setStretchLastSection(True)\n",
      "        self.labelledFramesListTable.setHorizontalHeaderItem(0, QtGui.QTableWidgetItem(\"Frame Index\"))\n",
      "        self.labelledFramesListTable.setHorizontalHeaderItem(1, QtGui.QTableWidgetItem(\"Label\"))\n",
      "        self.labelledFramesListTable.horizontalHeader().setResizeMode(QtGui.QHeaderView.ResizeToContents)\n",
      "#         self.labelledFramesListTable.setItem(0, 0, QtGui.QTableWidgetItem(\"No Labelled Frames\"))\n",
      "        self.labelledFramesListTable.setSizePolicy(QtGui.QSizePolicy.Minimum, QtGui.QSizePolicy.Minimum)\n",
      "        self.labelledFramesListTable.setEditTriggers(QtGui.QAbstractItemView.NoEditTriggers)\n",
      "        self.labelledFramesListTable.setSelectionBehavior(QtGui.QAbstractItemView.SelectRows)\n",
      "        self.labelledFramesListTable.setSelectionMode(QtGui.QAbstractItemView.SingleSelection)\n",
      "        self.labelledFramesListTable.setFocusPolicy(QtCore.Qt.NoFocus)\n",
      "        \n",
      "        self.choiceModeComboBox = QtGui.QComboBox()\n",
      "        self.choiceModeComboBox.addItem(\"Random\")\n",
      "        self.choiceModeComboBox.addItem(\"Set\")\n",
      "        self.choiceModeComboBox.setFocusPolicy(QtCore.Qt.NoFocus)\n",
      "        \n",
      "        self.choiceSetInterval = QtGui.QLineEdit()\n",
      "        self.choiceSetInterval.setEnabled(False)\n",
      "        self.choiceSetInterval.setVisible(False)\n",
      "        \n",
      "        \n",
      "        ## SIGNALS ##\n",
      "        \n",
      "        self.labelledFramesListTable.cellPressed.connect(self.labelledFrameSelected)\n",
      "        self.choiceModeComboBox.currentIndexChanged[int].connect(self.changeChoiceMode)\n",
      "        self.choiceSetInterval.returnPressed.connect(self.changeChoiceSet)\n",
      "        \n",
      "        ## LAYOUTS ##\n",
      "        \n",
      "        mainLayout = QtGui.QHBoxLayout()\n",
      "        controlsLayout = QtGui.QVBoxLayout()\n",
      "        controlsLayout.addWidget(self.labelledFramesListTable)\n",
      "        controlsLayout.addWidget(self.choiceModeComboBox)\n",
      "        controlsLayout.addWidget(self.choiceSetInterval)\n",
      "        frameLayout = QtGui.QVBoxLayout()\n",
      "        frameLayout.addWidget(self.frameLabel)\n",
      "        frameLayout.addWidget(self.frameInfo)\n",
      "        mainLayout.addLayout(controlsLayout)\n",
      "        mainLayout.addLayout(frameLayout)\n",
      "        self.setLayout(mainLayout)"
     ],
     "language": "python",
     "metadata": {},
     "outputs": [],
     "prompt_number": 3
    },
    {
     "cell_type": "code",
     "collapsed": false,
     "input": [
      "window = Window()\n",
      "window.show()\n",
      "app.exec_()"
     ],
     "language": "python",
     "metadata": {},
     "outputs": [
      {
       "output_type": "stream",
       "stream": "stdout",
       "text": [
        "stuck\n",
        "stuck"
       ]
      },
      {
       "output_type": "stream",
       "stream": "stdout",
       "text": [
        "\n",
        "stuck"
       ]
      },
      {
       "output_type": "stream",
       "stream": "stdout",
       "text": [
        "\n"
       ]
      },
      {
       "metadata": {},
       "output_type": "pyout",
       "prompt_number": 4,
       "text": [
        "0"
       ]
      }
     ],
     "prompt_number": 4
    },
    {
     "cell_type": "code",
     "collapsed": false,
     "input": [
      "labelledFrames = np.array(window.labelledFrames)\n",
      "print labelledFrames\n",
      "# labelledFrames = labelledFrames[]\n",
      "# print len(np.argwhere(labelledFrames[:, 1]==0))"
     ],
     "language": "python",
     "metadata": {},
     "outputs": [
      {
       "output_type": "stream",
       "stream": "stdout",
       "text": [
        "[[1122    0]\n",
        " [ 984    0]\n",
        " [1012    0]\n",
        " [ 926    0]\n",
        " [ 945    0]\n",
        " [ 935    0]\n",
        " [1036    0]\n",
        " [1088    0]\n",
        " [1067    0]\n",
        " [1073    0]\n",
        " [1084    0]\n",
        " [1013    0]\n",
        " [1029    0]\n",
        " [1124    0]\n",
        " [1139    0]\n",
        " [ 107    1]\n",
        " [ 204    1]\n",
        " [ 140    1]\n",
        " [  36    1]\n",
        " [  15    1]\n",
        " [ 147    1]\n",
        " [ 286    1]\n",
        " [  77    1]\n",
        " [ 230    1]\n",
        " [ 132    1]\n",
        " [   2    1]\n",
        " [  17    1]\n",
        " [ 219    1]\n",
        " [ 106    1]\n",
        " [ 280    1]\n",
        " [ 406    2]\n",
        " [ 544    2]\n",
        " [ 435    2]\n",
        " [ 474    2]\n",
        " [ 545    2]\n",
        " [ 505    2]\n",
        " [ 539    2]\n",
        " [ 471    2]\n",
        " [ 480    2]\n",
        " [ 459    2]\n",
        " [ 437    2]\n",
        " [ 403    2]\n",
        " [ 494    2]\n",
        " [ 512    2]\n",
        " [ 499    2]\n",
        " [ 630    3]\n",
        " [ 641    3]\n",
        " [ 811    3]\n",
        " [ 781    3]\n",
        " [ 637    3]\n",
        " [ 750    3]\n",
        " [ 791    3]\n",
        " [ 784    3]\n",
        " [ 747    3]\n",
        " [ 827    3]\n",
        " [ 845    3]\n",
        " [ 753    3]\n",
        " [ 677    3]\n",
        " [ 772    3]\n",
        " [ 774    3]]\n"
       ]
      }
     ],
     "prompt_number": 5
    },
    {
     "cell_type": "code",
     "collapsed": false,
     "input": [
      "labelledFrames = np.array([[ 119,    0],\n",
      " [ 270,    0],\n",
      " [ 178,    0],\n",
      " [  82,   0],\n",
      " [  46,    0],\n",
      " [ 243,    0],\n",
      " [ 256,    0],\n",
      " [  36,    1],\n",
      " [ 242,    0],\n",
      " [  30,    1],\n",
      " [  21,    1],\n",
      " [ 257,    0],\n",
      " [ 104,    0],\n",
      " [ 240,    0],\n",
      " [ 138,    0],\n",
      " [ 265,    0],\n",
      " [ 254,    0],\n",
      " [ 106,    0],\n",
      " [ 208,    0],\n",
      " [ 125,    0],\n",
      " [  69,    0],\n",
      " [ 102,    0],\n",
      " [ 249,    0],\n",
      " [ 720,    1],\n",
      " [ 494,    1],\n",
      " [ 430,    1],\n",
      " [ 335,    1],\n",
      " [ 692,    1],\n",
      " [ 440,    1],\n",
      " [ 357,    1],\n",
      " [ 616,    1],\n",
      " [ 587,    1],\n",
      " [ 287,    1],\n",
      " [ 688,    1],\n",
      " [ 437,    1],\n",
      " [ 753,    1],\n",
      " [ 358,    1],\n",
      " [ 482,    1],\n",
      " [ 671,    1],\n",
      " [ 644,    1],\n",
      " [ 887,    2],\n",
      " [ 879,    2],\n",
      " [ 930,    2],\n",
      " [ 837,    2],\n",
      " [ 871,    2],\n",
      " [ 856,    2],\n",
      " [ 866,    2],\n",
      " [ 902,    2],\n",
      " [ 890,    2],\n",
      " [ 772,    2],\n",
      " [ 888,    2],\n",
      " [ 759,    2],\n",
      " [ 891,    2],\n",
      " [ 765,    2],\n",
      " [ 835,    2],\n",
      " [ 933,    2],\n",
      " [ 872,    2],\n",
      " [ 807,    2],\n",
      " [ 915,    2],\n",
      " [ 905,    2],\n",
      " [1268,    3],\n",
      " [ 954,    3],\n",
      " [1212,    3],\n",
      " [1206,    3],\n",
      " [1045,    3],\n",
      " [1128,    3],\n",
      " [ 987,    3],\n",
      " [ 970,    3],\n",
      " [ 965,    3],\n",
      " [1124,    3],\n",
      " [1092,    3],\n",
      " [1049,    3],\n",
      " [ 960,    3],\n",
      " [ 946,    3],\n",
      " [1048,    3],\n",
      " [1227,    3],\n",
      " [1253,    3],\n",
      " [1233,    3],\n",
      " [1019,    3],\n",
      " [ 953,    3]])"
     ],
     "language": "python",
     "metadata": {},
     "outputs": [],
     "prompt_number": 7
    },
    {
     "cell_type": "code",
     "collapsed": false,
     "input": [
      "np.save(dataFolder + sampleData + \"semantic_labels_gui_set60.npy\", labelledFrames)"
     ],
     "language": "python",
     "metadata": {},
     "outputs": [],
     "prompt_number": 6
    },
    {
     "cell_type": "code",
     "collapsed": false,
     "input": [
      "labelledFrames = np.array(window.labelledFrames)\n",
      "# np.save(dataFolder + sampleData + \"semantic_labels_prop_rand50.npy\", labelledFrames)"
     ],
     "language": "python",
     "metadata": {},
     "outputs": [],
     "prompt_number": 124
    },
    {
     "cell_type": "code",
     "collapsed": false,
     "input": [
      "print labelledFrames"
     ],
     "language": "python",
     "metadata": {},
     "outputs": [
      {
       "output_type": "stream",
       "stream": "stdout",
       "text": [
        "[[  2.71000000e+02   3.57000000e+02   1.00000000e+00]\n",
        " [  2.04000000e+02   6.56000000e+02   1.00000000e+00]\n",
        " [  6.70000000e+01   7.16000000e+02   1.00000000e+00]\n",
        " [  1.39000000e+02   4.98000000e+02   1.00000000e+00]\n",
        " [  9.90000000e+01   4.69000000e+02   1.00000000e+00]\n",
        " [  4.70000000e+01   5.17000000e+02   1.00000000e+00]\n",
        " [  2.30000000e+01   7.04000000e+02   0.00000000e+00]\n",
        " [  4.40000000e+01   7.55000000e+02   1.00000000e+00]\n",
        " [  1.77000000e+02   6.71000000e+02   1.00000000e+00]\n",
        " [  5.90000000e+01   7.33000000e+02   1.00000000e+00]\n",
        " [  4.50000000e+01   3.50000000e+02   0.00000000e+00]\n",
        " [  1.70000000e+01   3.08000000e+02   1.00000000e+00]\n",
        " [  2.23000000e+02   4.70000000e+02   1.00000000e+00]\n",
        " [  1.31000000e+02   6.92000000e+02   1.00000000e+00]\n",
        " [  2.71000000e+02   6.51000000e+02   1.00000000e+00]\n",
        " [  1.35000000e+02   8.09000000e+02   1.00000000e+00]\n",
        " [  1.93000000e+02   7.66000000e+02   1.00000000e+00]\n",
        " [  2.61000000e+02   8.23000000e+02   1.00000000e+00]\n",
        " [  8.30000000e+01   8.04000000e+02   1.00000000e+00]\n",
        " [  2.61000000e+02   9.34000000e+02   1.00000000e+00]\n",
        " [  1.17000000e+02   8.44000000e+02   1.00000000e+00]\n",
        " [  1.51000000e+02   9.07000000e+02   1.00000000e+00]\n",
        " [  2.22000000e+02   8.92000000e+02   1.00000000e+00]\n",
        " [  1.95000000e+02   9.14000000e+02   1.00000000e+00]\n",
        " [  2.66000000e+02   8.79000000e+02   1.00000000e+00]\n",
        " [  1.47000000e+02   8.67000000e+02   1.00000000e+00]\n",
        " [  6.20000000e+01   8.93000000e+02   1.00000000e+00]\n",
        " [  4.70000000e+01   8.85000000e+02   1.00000000e+00]\n",
        " [  1.80000000e+02   7.94000000e+02   1.00000000e+00]\n",
        " [  1.03000000e+02   8.05000000e+02   1.00000000e+00]\n",
        " [  1.14000000e+02   1.25000000e+03   1.00000000e+00]\n",
        " [  1.16000000e+02   1.18300000e+03   1.00000000e+00]\n",
        " [  2.33000000e+02   1.13900000e+03   1.00000000e+00]\n",
        " [  2.70000000e+02   1.12900000e+03   1.00000000e+00]\n",
        " [  1.02000000e+02   1.19900000e+03   1.00000000e+00]\n",
        " [  1.32000000e+02   1.10700000e+03   1.00000000e+00]\n",
        " [  6.70000000e+01   1.04900000e+03   1.00000000e+00]\n",
        " [  2.47000000e+02   1.23400000e+03   1.00000000e+00]\n",
        " [  1.32000000e+02   1.05800000e+03   1.00000000e+00]\n",
        " [  9.10000000e+01   1.26400000e+03   1.00000000e+00]\n",
        " [  1.82000000e+02   1.17600000e+03   1.00000000e+00]\n",
        " [  1.83000000e+02   1.09600000e+03   1.00000000e+00]\n",
        " [  2.12000000e+02   1.05900000e+03   1.00000000e+00]\n",
        " [  2.61000000e+02   1.02800000e+03   1.00000000e+00]\n",
        " [  2.30000000e+02   1.20300000e+03   1.00000000e+00]\n",
        " [  6.09000000e+02   9.04000000e+02   1.00000000e+00]\n",
        " [  3.35000000e+02   8.25000000e+02   1.00000000e+00]\n",
        " [  5.11000000e+02   7.83000000e+02   1.00000000e+00]\n",
        " [  5.01000000e+02   8.82000000e+02   1.00000000e+00]\n",
        " [  4.00000000e+02   7.93000000e+02   1.00000000e+00]\n",
        " [  6.68000000e+02   8.07000000e+02   1.00000000e+00]\n",
        " [  6.58000000e+02   9.00000000e+02   1.00000000e+00]\n",
        " [  4.83000000e+02   7.93000000e+02   1.00000000e+00]\n",
        " [  6.57000000e+02   7.80000000e+02   0.00000000e+00]\n",
        " [  3.09000000e+02   7.76000000e+02   1.00000000e+00]\n",
        " [  4.03000000e+02   7.78000000e+02   0.00000000e+00]\n",
        " [  4.82000000e+02   9.21000000e+02   1.00000000e+00]\n",
        " [  5.83000000e+02   8.71000000e+02   1.00000000e+00]\n",
        " [  5.44000000e+02   9.29000000e+02   1.00000000e+00]\n",
        " [  6.20000000e+02   8.65000000e+02   1.00000000e+00]\n",
        " [  5.04000000e+02   1.01700000e+03   1.00000000e+00]\n",
        " [  3.47000000e+02   1.16500000e+03   1.00000000e+00]\n",
        " [  4.40000000e+02   1.12400000e+03   1.00000000e+00]\n",
        " [  3.75000000e+02   1.20400000e+03   1.00000000e+00]\n",
        " [  3.83000000e+02   1.13800000e+03   1.00000000e+00]\n",
        " [  2.86000000e+02   1.11400000e+03   1.00000000e+00]\n",
        " [  6.91000000e+02   1.25100000e+03   1.00000000e+00]\n",
        " [  5.97000000e+02   1.03200000e+03   1.00000000e+00]\n",
        " [  6.05000000e+02   1.01100000e+03   1.00000000e+00]\n",
        " [  3.07000000e+02   1.18800000e+03   1.00000000e+00]\n",
        " [  3.86000000e+02   1.04000000e+03   1.00000000e+00]\n",
        " [  6.54000000e+02   1.25600000e+03   1.00000000e+00]\n",
        " [  4.50000000e+02   1.06000000e+03   1.00000000e+00]\n",
        " [  4.65000000e+02   1.26500000e+03   1.00000000e+00]\n",
        " [  6.97000000e+02   1.02200000e+03   1.00000000e+00]\n",
        " [  7.61000000e+02   9.78000000e+02   1.00000000e+00]\n",
        " [  7.58000000e+02   1.23000000e+03   1.00000000e+00]\n",
        " [  8.56000000e+02   9.89000000e+02   1.00000000e+00]\n",
        " [  8.87000000e+02   1.10300000e+03   1.00000000e+00]\n",
        " [  9.04000000e+02   9.57000000e+02   1.00000000e+00]\n",
        " [  7.60000000e+02   1.20000000e+03   1.00000000e+00]\n",
        " [  7.71000000e+02   1.05000000e+03   1.00000000e+00]\n",
        " [  8.38000000e+02   1.24000000e+03   1.00000000e+00]\n",
        " [  9.13000000e+02   1.22700000e+03   1.00000000e+00]\n",
        " [  7.75000000e+02   1.11100000e+03   1.00000000e+00]\n",
        " [  7.57000000e+02   1.22500000e+03   1.00000000e+00]\n",
        " [  9.14000000e+02   1.00600000e+03   1.00000000e+00]\n",
        " [  7.60000000e+02   1.24600000e+03   1.00000000e+00]\n",
        " [  8.58000000e+02   1.13300000e+03   1.00000000e+00]\n",
        " [  9.01000000e+02   1.12600000e+03   0.00000000e+00]\n",
        " [  2.80000000e+01   2.20000000e+02   1.00000000e+00]\n",
        " [  2.02000000e+02   1.19000000e+02   0.00000000e+00]\n",
        " [  2.20000000e+01   7.00000000e+00   1.00000000e+00]\n",
        " [  2.74000000e+02   2.49000000e+02   1.00000000e+00]\n",
        " [  1.70000000e+02   1.40000000e+02   1.00000000e+00]\n",
        " [  2.66000000e+02   4.80000000e+01   0.00000000e+00]\n",
        " [  2.00000000e+02   1.64000000e+02   0.00000000e+00]\n",
        " [  1.71000000e+02   1.94000000e+02   0.00000000e+00]\n",
        " [  7.00000000e+01   2.41000000e+02   0.00000000e+00]\n",
        " [  1.47000000e+02   2.42000000e+02   1.00000000e+00]\n",
        " [  1.92000000e+02   6.60000000e+01   1.00000000e+00]\n",
        " [  1.79000000e+02   2.02000000e+02   0.00000000e+00]\n",
        " [  7.80000000e+01   1.78000000e+02   1.00000000e+00]\n",
        " [  1.42000000e+02   9.90000000e+01   0.00000000e+00]\n",
        " [  1.41000000e+02   2.72000000e+02   1.00000000e+00]\n",
        " [  2.88000000e+02   3.05000000e+02   1.00000000e+00]\n",
        " [  2.95000000e+02   4.57000000e+02   0.00000000e+00]\n",
        " [  7.07000000e+02   6.99000000e+02   0.00000000e+00]\n",
        " [  3.13000000e+02   3.33000000e+02   1.00000000e+00]\n",
        " [  7.48000000e+02   6.20000000e+02   1.00000000e+00]\n",
        " [  7.40000000e+02   2.96000000e+02   0.00000000e+00]\n",
        " [  3.39000000e+02   4.62000000e+02   0.00000000e+00]\n",
        " [  4.86000000e+02   5.20000000e+02   0.00000000e+00]\n",
        " [  7.16000000e+02   4.70000000e+02   0.00000000e+00]\n",
        " [  7.17000000e+02   3.51000000e+02   1.00000000e+00]\n",
        " [  3.81000000e+02   5.81000000e+02   1.00000000e+00]\n",
        " [  4.97000000e+02   4.42000000e+02   0.00000000e+00]\n",
        " [  3.47000000e+02   3.50000000e+02   1.00000000e+00]\n",
        " [  5.07000000e+02   3.57000000e+02   1.00000000e+00]\n",
        " [  5.28000000e+02   6.63000000e+02   1.00000000e+00]\n",
        " [  7.63000000e+02   7.79000000e+02   1.00000000e+00]\n",
        " [  9.01000000e+02   8.57000000e+02   1.00000000e+00]\n",
        " [  7.86000000e+02   7.65000000e+02   0.00000000e+00]\n",
        " [  9.11000000e+02   7.74000000e+02   1.00000000e+00]\n",
        " [  7.95000000e+02   7.63000000e+02   0.00000000e+00]\n",
        " [  8.39000000e+02   8.79000000e+02   1.00000000e+00]\n",
        " [  7.64000000e+02   7.66000000e+02   0.00000000e+00]\n",
        " [  8.62000000e+02   8.65000000e+02   0.00000000e+00]\n",
        " [  8.77000000e+02   8.57000000e+02   1.00000000e+00]\n",
        " [  8.53000000e+02   8.05000000e+02   0.00000000e+00]\n",
        " [  8.24000000e+02   8.39000000e+02   1.00000000e+00]\n",
        " [  9.30000000e+02   9.20000000e+02   0.00000000e+00]\n",
        " [  8.59000000e+02   8.34000000e+02   1.00000000e+00]\n",
        " [  9.16000000e+02   8.53000000e+02   1.00000000e+00]\n",
        " [  8.35000000e+02   8.51000000e+02   0.00000000e+00]\n",
        " [  1.12700000e+03   1.21100000e+03   1.00000000e+00]\n",
        " [  1.14300000e+03   1.07800000e+03   0.00000000e+00]\n",
        " [  1.08700000e+03   1.20500000e+03   0.00000000e+00]\n",
        " [  1.22200000e+03   9.38000000e+02   0.00000000e+00]\n",
        " [  9.42000000e+02   1.20400000e+03   1.00000000e+00]\n",
        " [  1.24700000e+03   1.04400000e+03   0.00000000e+00]\n",
        " [  1.09400000e+03   1.01100000e+03   0.00000000e+00]\n",
        " [  1.07300000e+03   1.15500000e+03   1.00000000e+00]\n",
        " [  1.14700000e+03   1.07600000e+03   0.00000000e+00]\n",
        " [  1.18700000e+03   1.16600000e+03   1.00000000e+00]\n",
        " [  1.24000000e+03   1.14300000e+03   0.00000000e+00]\n",
        " [  9.50000000e+02   1.17200000e+03   1.00000000e+00]\n",
        " [  1.19200000e+03   1.03100000e+03   0.00000000e+00]\n",
        " [  1.13700000e+03   1.25500000e+03   1.00000000e+00]\n",
        " [  1.19900000e+03   1.26200000e+03   1.00000000e+00]]\n"
       ]
      }
     ],
     "prompt_number": 5
    },
    {
     "cell_type": "code",
     "collapsed": false,
     "input": [
      "## get flatLabelled and fl\n",
      "# labelledFrames = np.array(window.labelledFrames)\n",
      "labelledFrames = np.load(dataFolder + sampleData + \"semantic_labels_gui_set60.npy\")\n",
      "usedLabels = np.unique(np.ndarray.flatten(labelledFrames[:, 1]))\n",
      "fl = np.zeros((len(labelledFrames), len(usedLabels)))\n",
      "prevIdx = 0\n",
      "flatLabelled = np.empty(0, dtype=int)\n",
      "labelledPoints = []\n",
      "print \"used labels\", usedLabels\n",
      "for i in usedLabels :\n",
      "    iLabels = labelledFrames[np.ndarray.flatten(np.argwhere(labelledFrames[:, 1] == i)), :][:, 0]\n",
      "    labelledPoints.append(iLabels)\n",
      "    flatLabelled = np.concatenate((flatLabelled, iLabels))\n",
      "    fl[prevIdx:prevIdx+len(iLabels), i] = 1\n",
      "    prevIdx += len(iLabels)\n",
      "    print i, iLabels\n",
      "print flatLabelled\n",
      "print fl"
     ],
     "language": "python",
     "metadata": {},
     "outputs": [
      {
       "output_type": "stream",
       "stream": "stdout",
       "text": [
        "used labels [0 1 2 3]\n",
        "0 [1122  984 1012  926  945  935 1036 1088 1067 1073 1084 1013 1029 1124 1139]\n",
        "1 [107 204 140  36  15 147 286  77 230 132   2  17 219 106 280]\n",
        "2 [406 544 435 474 545 505 539 471 480 459 437 403 494 512 499]\n",
        "3 [630 641 811 781 637 750 791 784 747 827 845 753 677 772 774]\n",
        "[1122  984 1012  926  945  935 1036 1088 1067 1073 1084 1013 1029 1124 1139\n",
        "  107  204  140   36   15  147  286   77  230  132    2   17  219  106  280\n",
        "  406  544  435  474  545  505  539  471  480  459  437  403  494  512  499\n",
        "  630  641  811  781  637  750  791  784  747  827  845  753  677  772  774]\n",
        "[[ 1.  0.  0.  0.]\n",
        " [ 1.  0.  0.  0.]\n",
        " [ 1.  0.  0.  0.]\n",
        " [ 1.  0.  0.  0.]\n",
        " [ 1.  0.  0.  0.]\n",
        " [ 1.  0.  0.  0.]\n",
        " [ 1.  0.  0.  0.]\n",
        " [ 1.  0.  0.  0.]\n",
        " [ 1.  0.  0.  0.]\n",
        " [ 1.  0.  0.  0.]\n",
        " [ 1.  0.  0.  0.]\n",
        " [ 1.  0.  0.  0.]\n",
        " [ 1.  0.  0.  0.]\n",
        " [ 1.  0.  0.  0.]\n",
        " [ 1.  0.  0.  0.]\n",
        " [ 0.  1.  0.  0.]\n",
        " [ 0.  1.  0.  0.]\n",
        " [ 0.  1.  0.  0.]\n",
        " [ 0.  1.  0.  0.]\n",
        " [ 0.  1.  0.  0.]\n",
        " [ 0.  1.  0.  0.]\n",
        " [ 0.  1.  0.  0.]\n",
        " [ 0.  1.  0.  0.]\n",
        " [ 0.  1.  0.  0.]\n",
        " [ 0.  1.  0.  0.]\n",
        " [ 0.  1.  0.  0.]\n",
        " [ 0.  1.  0.  0.]\n",
        " [ 0.  1.  0.  0.]\n",
        " [ 0.  1.  0.  0.]\n",
        " [ 0.  1.  0.  0.]\n",
        " [ 0.  0.  1.  0.]\n",
        " [ 0.  0.  1.  0.]\n",
        " [ 0.  0.  1.  0.]\n",
        " [ 0.  0.  1.  0.]\n",
        " [ 0.  0.  1.  0.]\n",
        " [ 0.  0.  1.  0.]\n",
        " [ 0.  0.  1.  0.]\n",
        " [ 0.  0.  1.  0.]\n",
        " [ 0.  0.  1.  0.]\n",
        " [ 0.  0.  1.  0.]\n",
        " [ 0.  0.  1.  0.]\n",
        " [ 0.  0.  1.  0.]\n",
        " [ 0.  0.  1.  0.]\n",
        " [ 0.  0.  1.  0.]\n",
        " [ 0.  0.  1.  0.]\n",
        " [ 0.  0.  0.  1.]\n",
        " [ 0.  0.  0.  1.]\n",
        " [ 0.  0.  0.  1.]\n",
        " [ 0.  0.  0.  1.]\n",
        " [ 0.  0.  0.  1.]\n",
        " [ 0.  0.  0.  1.]\n",
        " [ 0.  0.  0.  1.]\n",
        " [ 0.  0.  0.  1.]\n",
        " [ 0.  0.  0.  1.]\n",
        " [ 0.  0.  0.  1.]\n",
        " [ 0.  0.  0.  1.]\n",
        " [ 0.  0.  0.  1.]\n",
        " [ 0.  0.  0.  1.]\n",
        " [ 0.  0.  0.  1.]\n",
        " [ 0.  0.  0.  1.]]\n"
       ]
      }
     ],
     "prompt_number": 8
    }
   ],
   "metadata": {}
  }
 ]
}