{
 "metadata": {
<<<<<<< HEAD
  "name": "",
  "signature": "sha256:67a9a17da291780d5ff7c5e0edebb9826d0a9dcf05e21a209529dbdf4828bd2e"
=======
  "name": ""
>>>>>>> fe1b005d2ec4d7eb0bc61da731ff4fa25b905e36
 },
 "nbformat": 3,
 "nbformat_minor": 0,
 "worksheets": [
  {
   "cells": [
    {
     "cell_type": "code",
     "collapsed": false,
     "input": [
      "%pylab\n",
      "import numpy as np\n",
      "import scipy.sparse\n",
      "import PIL.Image\n",
      "import pyamg\n",
      "import glob\n",
      "import os\n",
      "import sys\n",
      "\n",
      "DICT_SPRITE_NAME = 'sprite_name'\n",
      "DICT_BBOXES = 'bboxes'\n",
      "DICT_BBOX_ROTATIONS = 'bbox_rotations'\n",
      "DICT_BBOX_CENTERS = 'bbox_centers'\n",
      "DICT_FRAMES_LOCATIONS = 'frame_locs'\n",
      "DICT_SEQUENCE_FRAMES = 'sequence_frames'\n",
      "DICT_SPRITE_IDX = 'sprite_idx' # stores the index in the self.trackedSprites array of the sprite used in the generated sequence\n",
      "DICT_DESIRED_SEMANTICS = 'desired_semantics' # stores what the desired semantics are for a certain sprite \n",
      "#(I could index them by the frame when the toggle happened instead of using the below but maybe ordering is important and I would lose that using a dict)\n",
      "DICT_FRAME_SEMANTIC_TOGGLE = 'frame_semantic_toggle'# stores the frame index in the generated sequence when the desired semantics have changed"
     ],
     "language": "python",
     "metadata": {},
     "outputs": [
      {
       "output_type": "stream",
       "stream": "stdout",
       "text": [
        "Using matplotlib backend: TkAgg\n",
        "Populating the interactive namespace from numpy and matplotlib\n"
       ]
      }
     ],
     "prompt_number": 1
    },
    {
     "cell_type": "code",
     "collapsed": false,
     "input": [
      "# dataPath = \"/home/ilisescu/PhD/data/\"\n",
      "# dataSet = \"havana/\"\n",
      "dataPath = \"/media/ilisescu/Data1/PhD/data/\"\n",
      "# dataSet = \"clouds_subsample10/\"\n",
      "# dataSet = \"theme_park_cloudy/\"\n",
<<<<<<< HEAD
      "# dataSet = \"theme_park_sunny/\"\n",
      "dataSet = \"wave1/\"\n",
      "# preloadedSpritePatches = list(np.load(dataPath + dataSet + \"preloadedSpritePatches.npy\"))"
=======
      "dataSet = \"theme_park_sunny/\"\n",
      "preloadedSpritePatches = list(np.load(dataPath + dataSet + \"preloadedSpritePatches.npy\"))"
>>>>>>> fe1b005d2ec4d7eb0bc61da731ff4fa25b905e36
     ],
     "language": "python",
     "metadata": {},
     "outputs": [],
<<<<<<< HEAD
     "prompt_number": 2
=======
     "prompt_number": 7
>>>>>>> fe1b005d2ec4d7eb0bc61da731ff4fa25b905e36
    },
    {
     "cell_type": "code",
     "collapsed": false,
     "input": [
      "## load \n",
<<<<<<< HEAD
      "# trackedSprites = []\n",
      "# for sprite in np.sort(glob.glob(dataPath + dataSet + \"sprite*.npy\")) :\n",
      "#     trackedSprites.append(np.load(sprite).item())\n",
      "#     print trackedSprites[-1][DICT_SPRITE_NAME]\n",
      "    \n",
      "## load \n",
      "trackedSprites = []\n",
      "for sprite in np.sort(glob.glob(dataPath + dataSet + \"semantic_sequence*.npy\")) :\n",
      "    trackedSprites.append(np.load(sprite).item())\n",
      "    print trackedSprites[-1]['semantic_sequence_name']"
=======
      "trackedSprites = []\n",
      "for sprite in np.sort(glob.glob(dataPath + dataSet + \"sprite*.npy\")) :\n",
      "    trackedSprites.append(np.load(sprite).item())\n",
      "    print trackedSprites[-1][DICT_SPRITE_NAME]"
>>>>>>> fe1b005d2ec4d7eb0bc61da731ff4fa25b905e36
     ],
     "language": "python",
     "metadata": {},
     "outputs": [
      {
       "output_type": "stream",
       "stream": "stdout",
       "text": [
<<<<<<< HEAD
        "aron1\n",
        "daniel1"
       ]
      },
      {
       "output_type": "stream",
       "stream": "stdout",
       "text": [
        "\n",
        "ferran1\n",
        "james1\n",
        "moos1"
       ]
      },
      {
       "output_type": "stream",
       "stream": "stdout",
       "text": [
        "\n",
        "peter1\n",
        "sara1\n",
        "tara1\n"
       ]
      }
     ],
     "prompt_number": 5
=======
        "roller_coaster1\n"
       ]
      }
     ],
     "prompt_number": 8
>>>>>>> fe1b005d2ec4d7eb0bc61da731ff4fa25b905e36
    },
    {
     "cell_type": "code",
     "collapsed": false,
     "input": [
      "## from https://github.com/fbessho/PyPoi/blob/master/pypoi/poissonblending.py\n",
      "def blend(img_target, img_source, img_mask, offset=(0, 0)):\n",
      "    # compute regions to be blended\n",
      "    region_source = (\n",
      "        max(-offset[0], 0),\n",
      "        max(-offset[1], 0),\n",
      "        min(img_target.shape[0] - offset[0], img_source.shape[0]),\n",
      "        min(img_target.shape[1] - offset[1], img_source.shape[1]))\n",
      "    region_target = (\n",
      "        max(offset[0], 0),\n",
      "        max(offset[1], 0),\n",
      "        min(img_target.shape[0], img_source.shape[0] + offset[0]),\n",
      "        min(img_target.shape[1], img_source.shape[1] + offset[1]))\n",
      "    region_size = (region_source[2] - region_source[0], region_source[3] - region_source[1])\n",
      "\n",
      "    # clip and normalize mask image\n",
      "    img_mask = img_mask[region_source[0]:region_source[2], region_source[1]:region_source[3]]\n",
      "    img_mask[img_mask == 0] = False\n",
      "    img_mask[img_mask != False] = True\n",
      "\n",
      "    # create coefficient matrix\n",
      "    A = scipy.sparse.identity(np.prod(region_size), format='lil')\n",
      "    for y in range(region_size[0]):\n",
      "        for x in range(region_size[1]):\n",
      "            if img_mask[y, x]:\n",
      "                index = x + y * region_size[1]\n",
      "                A[index, index] = 4\n",
      "                if index + 1 < np.prod(region_size):\n",
      "                    A[index, index + 1] = -1\n",
      "                if index - 1 >= 0:\n",
      "                    A[index, index - 1] = -1\n",
      "                if index + region_size[1] < np.prod(region_size):\n",
      "                    A[index, index + region_size[1]] = -1\n",
      "                if index - region_size[1] >= 0:\n",
      "                    A[index, index - region_size[1]] = -1\n",
      "    A = A.tocsr()\n",
      "\n",
      "    # create poisson matrix for b\n",
      "    P = pyamg.gallery.poisson(img_mask.shape)\n",
      "\n",
      "    # for each layer (ex. RGB)\n",
      "    for num_layer in range(img_target.shape[2]):\n",
      "        # get subimages\n",
      "        t = img_target[region_target[0]:region_target[2], region_target[1]:region_target[3], num_layer]\n",
      "        s = img_source[region_source[0]:region_source[2], region_source[1]:region_source[3], num_layer]\n",
      "        t = t.flatten()\n",
      "        s = s.flatten()\n",
      "\n",
      "        # create b\n",
      "        b = P * s\n",
      "        for y in range(region_size[0]):\n",
      "            for x in range(region_size[1]):\n",
      "                if not img_mask[y, x]:\n",
      "                    index = x + y * region_size[1]\n",
      "                    b[index] = t[index]\n",
      "\n",
      "        # solve Ax = b\n",
      "        x = pyamg.solve(A, b, verb=False, tol=1e-10)\n",
      "\n",
      "        # assign x to target image\n",
      "        x = np.reshape(x, region_size)\n",
      "        x[x > 255] = 255\n",
      "        x[x < 0] = 0\n",
      "        x = np.array(x, img_target.dtype)\n",
      "        img_target[region_target[0]:region_target[2], region_target[1]:region_target[3], num_layer] = x\n",
      "\n",
      "    return img_target\n"
     ],
     "language": "python",
     "metadata": {},
     "outputs": [],
<<<<<<< HEAD
     "prompt_number": 15
=======
     "prompt_number": 9
>>>>>>> fe1b005d2ec4d7eb0bc61da731ff4fa25b905e36
    },
    {
     "cell_type": "code",
     "collapsed": false,
     "input": [
      "imgSize = np.array(np.asarray(PIL.Image.open(dataPath+dataSet+\"median.png\")).shape[0:2])\n",
<<<<<<< HEAD
      "# inputFolderSuffix = \"-masked\"#-blended/\"\n",
      "inputFolderSuffix = \"-maskedFlow\"#-blended/\"\n",
      "for spriteIdx in arange(len(trackedSprites))[-1:] :\n",
      "    sortedKeys = np.sort(trackedSprites[spriteIdx][DICT_FRAMES_LOCATIONS].keys())\n",
      "#     spriteName = trackedSprites[spriteIdx][DICT_SPRITE_NAME]\n",
      "    spriteName = trackedSprites[spriteIdx]['semantic_sequence_name']\n",
      "    \n",
      "    if not os.path.isdir(dataPath+dataSet+spriteName+inputFolderSuffix+\"-blended/\"):\n",
      "        os.makedirs(dataPath+dataSet+spriteName+inputFolderSuffix+\"-blended/\")\n",
=======
      "for spriteIdx in arange(len(trackedSprites)) :\n",
      "    sortedKeys = np.sort(trackedSprites[spriteIdx][DICT_FRAMES_LOCATIONS].keys())\n",
      "    spriteName = trackedSprites[spriteIdx][DICT_SPRITE_NAME]\n",
      "    \n",
      "    if not os.path.isdir(dataPath+dataSet+spriteName+\"-masked-blended/\"):\n",
      "        os.makedirs(dataPath+dataSet+spriteName+\"-masked-blended/\")\n",
>>>>>>> fe1b005d2ec4d7eb0bc61da731ff4fa25b905e36
      "        \n",
      "    for frameIdx in arange(len(sortedKeys)) :\n",
      "        frameName = trackedSprites[spriteIdx][DICT_FRAMES_LOCATIONS][sortedKeys[frameIdx]].split(os.sep)[-1]\n",
      "        \n",
      "        \n",
<<<<<<< HEAD
      "        im = np.array(PIL.Image.open(dataPath+dataSet+spriteName+inputFolderSuffix+\"/\"+frameName))\n",
      "        \n",
      "        visiblePixelsGlobalIndices = np.argwhere(im[:, :, -1] != 0)\n",
      "        topLeftPos = np.min(visiblePixelsGlobalIndices, axis=0)\n",
      "        patchSize = np.max(visiblePixelsGlobalIndices, axis=0) - topLeftPos + 1\n",
      "#         topLeftPos = np.copy(preloadedSpritePatches[spriteIdx][frameIdx]['top_left_pos'])\n",
      "#         patchSize = np.copy(preloadedSpritePatches[spriteIdx][frameIdx]['patch_size'])\n",
      "#         visiblePixelsGlobalIndices = preloadedSpritePatches[spriteIdx][frameIdx]['visible_indices']+topLeftPos\n",
=======
      "        topLeftPos = np.copy(preloadedSpritePatches[spriteIdx][frameIdx]['top_left_pos'])\n",
      "        patchSize = np.copy(preloadedSpritePatches[spriteIdx][frameIdx]['patch_size'])\n",
      "        visiblePixelsGlobalIndices = preloadedSpritePatches[spriteIdx][frameIdx]['visible_indices']+topLeftPos\n",
>>>>>>> fe1b005d2ec4d7eb0bc61da731ff4fa25b905e36
      "        \n",
      "        ## when the mask touches the border of the patch there's some weird white halos going on so I enlarge the patch slightly\n",
      "        ## not sure what happens when the patch goes outside of the bounds of the original image...\n",
      "        topLeftPos -= 1\n",
      "        patchSize += 2\n",
      "        ## make sure we're within bounds\n",
      "        topLeftPos[np.argwhere(topLeftPos < 0)] = 0\n",
      "        patchSize[(topLeftPos+patchSize) > imgSize] += (imgSize-(topLeftPos+patchSize))[(topLeftPos+patchSize) > imgSize]\n",
      "        \n",
      "        \n",
<<<<<<< HEAD
      "        img_target = np.asarray(PIL.Image.open(dataPath+dataSet+\"median.png\"))[:, :, 0:3]\n",
      "        img_target.flags.writeable = True\n",
      "        \n",
      "        img_mask = np.asarray(PIL.Image.open(dataPath+dataSet+spriteName+inputFolderSuffix+\"/\"+frameName))[topLeftPos[0]:topLeftPos[0]+patchSize[0], \n",
      "                                                                                                           topLeftPos[1]:topLeftPos[1]+patchSize[1], -1]\n",
=======
      "        img_target = np.asarray(PIL.Image.open(dataPath+dataSet+\"median.png\"))\n",
      "        img_target.flags.writeable = True\n",
      "        \n",
      "        img_mask = np.asarray(PIL.Image.open(dataPath+dataSet+spriteName+\"-masked/\"+frameName))[topLeftPos[0]:topLeftPos[0]+patchSize[0], topLeftPos[1]:topLeftPos[1]+patchSize[1], -1]\n",
>>>>>>> fe1b005d2ec4d7eb0bc61da731ff4fa25b905e36
      "        img_mask.flags.writeable = True\n",
      "        ## make sure that borders of mask are assigned to bg\n",
      "        img_mask[0, :] = 0; img_mask[-1, :] = 0; img_mask[:, 0] = 0; img_mask[:, -1] = 0\n",
      "        \n",
<<<<<<< HEAD
      "        img_source = np.asarray(PIL.Image.open(trackedSprites[spriteIdx][DICT_FRAMES_LOCATIONS][sortedKeys[frameIdx]]))[topLeftPos[0]:topLeftPos[0]+patchSize[0], \n",
      "                                                                                                                        topLeftPos[1]:topLeftPos[1]+patchSize[1], :]\n",
      "        \n",
      "#         sourceImg = np.asarray(PIL.Image.open(dataPath+dataSet+spriteName+inputFolderSuffix+\"/\"+frameName))[topLeftPos[0]:topLeftPos[0]+patchSize[0], \n",
      "#                                                                                                             topLeftPos[1]:topLeftPos[1]+patchSize[1], :-1]\n",
      "#         mask = np.copy(img_mask.reshape((patchSize[0], patchSize[1], 1)))/255.0\n",
      "        \n",
      "#         img_source = np.array(sourceImg*mask + np.asarray(PIL.Image.open(dataPath+dataSet+\"median.png\"))[topLeftPos[0]:topLeftPos[0]+patchSize[0], \n",
      "#                                                                                                          topLeftPos[1]:topLeftPos[1]+patchSize[1], :]*(1.0-mask), dtype=uint8)\n",
      "        \n",
      "            \n",
=======
      "        img_source = np.asarray(PIL.Image.open(trackedSprites[spriteIdx][DICT_FRAMES_LOCATIONS][sortedKeys[frameIdx]]))[topLeftPos[0]:topLeftPos[0]+patchSize[0], topLeftPos[1]:topLeftPos[1]+patchSize[1], :]\n",
>>>>>>> fe1b005d2ec4d7eb0bc61da731ff4fa25b905e36
      "        img_source.flags.writeable = True\n",
      "        \n",
      "        \n",
      "        img_ret = blend(img_target, img_source, img_mask, offset=(topLeftPos[0], topLeftPos[1]))\n",
      "        \n",
      "        \n",
      "        maskedFinal = np.zeros((img_target.shape[0], img_target.shape[1], 4), dtype=np.uint8)\n",
<<<<<<< HEAD
      "        maskedFinal[visiblePixelsGlobalIndices[:, 0], visiblePixelsGlobalIndices[:, 1], :-1] = img_ret[visiblePixelsGlobalIndices[:, 0], \n",
      "                                                                                                       visiblePixelsGlobalIndices[:, 1], :]\n",
      "        maskedFinal[visiblePixelsGlobalIndices[:, 0], visiblePixelsGlobalIndices[:, 1], -1] = 255\n",
      "        \n",
      "        PIL.Image.fromarray(np.uint8(maskedFinal)).save(dataPath+dataSet+spriteName+inputFolderSuffix+\"-blended/\"+frameName)\n",
      "#         figure(); imshow(maskedFinal)\n",
=======
      "        maskedFinal[visiblePixelsGlobalIndices[:, 0], visiblePixelsGlobalIndices[:, 1], :-1] = img_ret[visiblePixelsGlobalIndices[:, 0], visiblePixelsGlobalIndices[:, 1], :]\n",
      "        maskedFinal[visiblePixelsGlobalIndices[:, 0], visiblePixelsGlobalIndices[:, 1], -1] = 255\n",
      "        \n",
      "        PIL.Image.fromarray(np.uint8(maskedFinal)).save(dataPath+dataSet+spriteName+\"-masked-blended/\"+frameName)\n",
>>>>>>> fe1b005d2ec4d7eb0bc61da731ff4fa25b905e36
      "        del img_mask\n",
      "        del img_source\n",
      "        del img_target\n",
      "        del maskedFinal\n",
      "        del img_ret\n",
<<<<<<< HEAD
      "#         del sourceImg\n",
      "#         del mask\n",
=======
>>>>>>> fe1b005d2ec4d7eb0bc61da731ff4fa25b905e36
      "        \n",
      "        sys.stdout.write('\\r' + \"Processed image \" + np.string_(frameIdx) + \" (\" + np.string_(len(sortedKeys)) + \")\")\n",
      "        sys.stdout.flush()\n",
      "    print\n",
<<<<<<< HEAD
      "    print \"done with sprite\", trackedSprites[spriteIdx]['semantic_sequence_name']"
=======
      "    print \"done with sprite\", trackedSprites[spriteIdx][DICT_SPRITE_NAME]"
>>>>>>> fe1b005d2ec4d7eb0bc61da731ff4fa25b905e36
     ],
     "language": "python",
     "metadata": {},
     "outputs": [
      {
       "output_type": "stream",
       "stream": "stdout",
       "text": [
        "\r",
<<<<<<< HEAD
        "Processed image 0 (1176)"
       ]
      },
      {
       "output_type": "stream",
       "stream": "stdout",
       "text": [
        "\r",
        "Processed image 1 (1176)"
       ]
      },
      {
       "output_type": "stream",
       "stream": "stdout",
       "text": [
        "\r",
        "Processed image 2 (1176)"
       ]
      },
      {
       "output_type": "stream",
       "stream": "stdout",
       "text": [
        "\r",
        "Processed image 3 (1176)"
       ]
      },
      {
       "output_type": "stream",
       "stream": "stdout",
       "text": [
        "\r",
        "Processed image 4 (1176)"
       ]
      },
      {
       "output_type": "stream",
       "stream": "stdout",
       "text": [
        "\r",
        "Processed image 5 (1176)"
       ]
      },
      {
       "output_type": "stream",
       "stream": "stdout",
       "text": [
        "\r",
        "Processed image 6 (1176)"
       ]
      },
      {
       "output_type": "stream",
       "stream": "stdout",
       "text": [
        "\r",
        "Processed image 7 (1176)"
       ]
      },
      {
       "output_type": "stream",
       "stream": "stdout",
       "text": [
        "\r",
        "Processed image 8 (1176)"
       ]
      },
      {
       "output_type": "stream",
       "stream": "stdout",
       "text": [
        "\r",
        "Processed image 9 (1176)"
       ]
      },
      {
       "output_type": "stream",
       "stream": "stdout",
       "text": [
        "\r",
        "Processed image 10 (1176)"
       ]
      },
      {
       "output_type": "stream",
       "stream": "stdout",
       "text": [
        "\r",
        "Processed image 11 (1176)"
       ]
      },
      {
       "output_type": "stream",
       "stream": "stdout",
       "text": [
        "\r",
        "Processed image 12 (1176)"
       ]
      },
      {
       "output_type": "stream",
       "stream": "stdout",
       "text": [
        "\r",
        "Processed image 13 (1176)"
       ]
      },
      {
       "output_type": "stream",
       "stream": "stdout",
       "text": [
        "\r",
        "Processed image 14 (1176)"
       ]
      },
      {
       "output_type": "stream",
       "stream": "stdout",
       "text": [
        "\r",
        "Processed image 15 (1176)"
       ]
      },
      {
       "output_type": "stream",
       "stream": "stdout",
       "text": [
        "\r",
        "Processed image 16 (1176)"
       ]
      },
      {
       "output_type": "stream",
       "stream": "stdout",
       "text": [
        "\r",
        "Processed image 17 (1176)"
       ]
      },
      {
       "output_type": "stream",
       "stream": "stdout",
       "text": [
        "\r",
        "Processed image 18 (1176)"
       ]
      },
      {
       "output_type": "stream",
       "stream": "stdout",
       "text": [
        "\r",
        "Processed image 19 (1176)"
       ]
      },
      {
       "output_type": "stream",
       "stream": "stdout",
       "text": [
        "\r",
        "Processed image 20 (1176)"
       ]
      },
      {
       "output_type": "stream",
       "stream": "stdout",
       "text": [
        "\r",
        "Processed image 21 (1176)"
       ]
      },
      {
       "output_type": "stream",
       "stream": "stdout",
       "text": [
        "\r",
        "Processed image 22 (1176)"
       ]
      },
      {
       "output_type": "stream",
       "stream": "stdout",
       "text": [
        "\r",
        "Processed image 23 (1176)"
       ]
      },
      {
       "output_type": "stream",
       "stream": "stdout",
       "text": [
        "\r",
        "Processed image 24 (1176)"
       ]
      },
      {
       "output_type": "stream",
       "stream": "stdout",
       "text": [
        "\r",
        "Processed image 25 (1176)"
       ]
      },
      {
       "output_type": "stream",
       "stream": "stdout",
       "text": [
        "\r",
        "Processed image 26 (1176)"
       ]
      },
      {
       "output_type": "stream",
       "stream": "stdout",
       "text": [
        "\r",
        "Processed image 27 (1176)"
       ]
      },
      {
       "output_type": "stream",
       "stream": "stdout",
       "text": [
        "\r",
        "Processed image 28 (1176)"
       ]
      },
      {
       "output_type": "stream",
       "stream": "stdout",
       "text": [
        "\r",
        "Processed image 29 (1176)"
       ]
      },
      {
       "output_type": "stream",
       "stream": "stdout",
       "text": [
        "\r",
        "Processed image 30 (1176)"
       ]
      },
      {
       "output_type": "stream",
       "stream": "stdout",
       "text": [
        "\r",
        "Processed image 31 (1176)"
       ]
      },
      {
       "output_type": "stream",
       "stream": "stdout",
       "text": [
        "\r",
        "Processed image 32 (1176)"
       ]
      },
      {
       "output_type": "stream",
       "stream": "stdout",
       "text": [
        "\r",
        "Processed image 33 (1176)"
=======
        "Processed image 0 (714)"
>>>>>>> fe1b005d2ec4d7eb0bc61da731ff4fa25b905e36
       ]
      },
      {
       "output_type": "stream",
       "stream": "stdout",
       "text": [
        "\r",
<<<<<<< HEAD
        "Processed image 34 (1176)"
=======
        "Processed image 1 (714)"
>>>>>>> fe1b005d2ec4d7eb0bc61da731ff4fa25b905e36
       ]
      },
      {
       "output_type": "stream",
       "stream": "stdout",
       "text": [
        "\r",
<<<<<<< HEAD
        "Processed image 35 (1176)"
=======
        "Processed image 2 (714)"
>>>>>>> fe1b005d2ec4d7eb0bc61da731ff4fa25b905e36
       ]
      },
      {
       "output_type": "stream",
       "stream": "stdout",
       "text": [
        "\r",
<<<<<<< HEAD
        "Processed image 36 (1176)"
=======
        "Processed image 3 (714)"
>>>>>>> fe1b005d2ec4d7eb0bc61da731ff4fa25b905e36
       ]
      },
      {
       "output_type": "stream",
       "stream": "stdout",
       "text": [
        "\r",
<<<<<<< HEAD
        "Processed image 37 (1176)"
=======
        "Processed image 4 (714)"
>>>>>>> fe1b005d2ec4d7eb0bc61da731ff4fa25b905e36
       ]
      },
      {
       "output_type": "stream",
       "stream": "stdout",
       "text": [
        "\r",
<<<<<<< HEAD
        "Processed image 38 (1176)"
=======
        "Processed image 5 (714)"
>>>>>>> fe1b005d2ec4d7eb0bc61da731ff4fa25b905e36
       ]
      },
      {
       "output_type": "stream",
       "stream": "stdout",
       "text": [
        "\r",
<<<<<<< HEAD
        "Processed image 39 (1176)"
=======
        "Processed image 6 (714)"
>>>>>>> fe1b005d2ec4d7eb0bc61da731ff4fa25b905e36
       ]
      },
      {
       "output_type": "stream",
       "stream": "stdout",
       "text": [
        "\r",
<<<<<<< HEAD
        "Processed image 40 (1176)"
=======
        "Processed image 7 (714)"
>>>>>>> fe1b005d2ec4d7eb0bc61da731ff4fa25b905e36
       ]
      },
      {
       "output_type": "stream",
       "stream": "stdout",
       "text": [
        "\r",
<<<<<<< HEAD
        "Processed image 41 (1176)"
=======
        "Processed image 8 (714)"
>>>>>>> fe1b005d2ec4d7eb0bc61da731ff4fa25b905e36
       ]
      },
      {
       "output_type": "stream",
       "stream": "stdout",
       "text": [
        "\r",
<<<<<<< HEAD
        "Processed image 42 (1176)"
=======
        "Processed image 9 (714)"
>>>>>>> fe1b005d2ec4d7eb0bc61da731ff4fa25b905e36
       ]
      },
      {
       "output_type": "stream",
       "stream": "stdout",
       "text": [
        "\r",
<<<<<<< HEAD
        "Processed image 43 (1176)"
=======
        "Processed image 10 (714)"
>>>>>>> fe1b005d2ec4d7eb0bc61da731ff4fa25b905e36
       ]
      },
      {
       "output_type": "stream",
       "stream": "stdout",
       "text": [
        "\r",
<<<<<<< HEAD
        "Processed image 44 (1176)"
=======
        "Processed image 11 (714)"
>>>>>>> fe1b005d2ec4d7eb0bc61da731ff4fa25b905e36
       ]
      },
      {
       "output_type": "stream",
       "stream": "stdout",
       "text": [
        "\r",
<<<<<<< HEAD
        "Processed image 45 (1176)"
=======
        "Processed image 12 (714)"
>>>>>>> fe1b005d2ec4d7eb0bc61da731ff4fa25b905e36
       ]
      },
      {
       "output_type": "stream",
       "stream": "stdout",
       "text": [
        "\r",
<<<<<<< HEAD
        "Processed image 46 (1176)"
=======
        "Processed image 13 (714)"
>>>>>>> fe1b005d2ec4d7eb0bc61da731ff4fa25b905e36
       ]
      },
      {
       "output_type": "stream",
       "stream": "stdout",
       "text": [
        "\r",
<<<<<<< HEAD
        "Processed image 47 (1176)"
=======
        "Processed image 14 (714)"
>>>>>>> fe1b005d2ec4d7eb0bc61da731ff4fa25b905e36
       ]
      },
      {
       "output_type": "stream",
       "stream": "stdout",
       "text": [
        "\r",
<<<<<<< HEAD
        "Processed image 48 (1176)"
=======
        "Processed image 15 (714)"
>>>>>>> fe1b005d2ec4d7eb0bc61da731ff4fa25b905e36
       ]
      },
      {
       "output_type": "stream",
       "stream": "stdout",
       "text": [
        "\r",
<<<<<<< HEAD
        "Processed image 49 (1176)"
=======
        "Processed image 16 (714)"
>>>>>>> fe1b005d2ec4d7eb0bc61da731ff4fa25b905e36
       ]
      },
      {
       "output_type": "stream",
       "stream": "stdout",
       "text": [
        "\r",
<<<<<<< HEAD
        "Processed image 50 (1176)"
=======
        "Processed image 17 (714)"
>>>>>>> fe1b005d2ec4d7eb0bc61da731ff4fa25b905e36
       ]
      },
      {
       "output_type": "stream",
       "stream": "stdout",
       "text": [
        "\r",
<<<<<<< HEAD
        "Processed image 51 (1176)"
=======
        "Processed image 18 (714)"
>>>>>>> fe1b005d2ec4d7eb0bc61da731ff4fa25b905e36
       ]
      },
      {
       "output_type": "stream",
       "stream": "stdout",
       "text": [
        "\r",
<<<<<<< HEAD
        "Processed image 52 (1176)"
=======
        "Processed image 19 (714)"
>>>>>>> fe1b005d2ec4d7eb0bc61da731ff4fa25b905e36
       ]
      },
      {
       "output_type": "stream",
       "stream": "stdout",
       "text": [
        "\r",
<<<<<<< HEAD
        "Processed image 53 (1176)"
=======
        "Processed image 20 (714)"
>>>>>>> fe1b005d2ec4d7eb0bc61da731ff4fa25b905e36
       ]
      },
      {
       "output_type": "stream",
       "stream": "stdout",
       "text": [
        "\r",
<<<<<<< HEAD
        "Processed image 54 (1176)"
=======
        "Processed image 21 (714)"
>>>>>>> fe1b005d2ec4d7eb0bc61da731ff4fa25b905e36
       ]
      },
      {
       "output_type": "stream",
       "stream": "stdout",
       "text": [
        "\r",
<<<<<<< HEAD
        "Processed image 55 (1176)"
=======
        "Processed image 22 (714)"
>>>>>>> fe1b005d2ec4d7eb0bc61da731ff4fa25b905e36
       ]
      },
      {
       "output_type": "stream",
       "stream": "stdout",
       "text": [
        "\r",
<<<<<<< HEAD
        "Processed image 56 (1176)"
=======
        "Processed image 23 (714)"
>>>>>>> fe1b005d2ec4d7eb0bc61da731ff4fa25b905e36
       ]
      },
      {
       "output_type": "stream",
       "stream": "stdout",
       "text": [
        "\r",
<<<<<<< HEAD
        "Processed image 57 (1176)"
=======
        "Processed image 24 (714)"
>>>>>>> fe1b005d2ec4d7eb0bc61da731ff4fa25b905e36
       ]
      },
      {
       "output_type": "stream",
       "stream": "stdout",
       "text": [
        "\r",
<<<<<<< HEAD
        "Processed image 58 (1176)"
=======
        "Processed image 25 (714)"
>>>>>>> fe1b005d2ec4d7eb0bc61da731ff4fa25b905e36
       ]
      },
      {
       "output_type": "stream",
       "stream": "stdout",
       "text": [
        "\r",
<<<<<<< HEAD
        "Processed image 59 (1176)"
=======
        "Processed image 26 (714)"
>>>>>>> fe1b005d2ec4d7eb0bc61da731ff4fa25b905e36
       ]
      },
      {
       "output_type": "stream",
       "stream": "stdout",
       "text": [
        "\r",
<<<<<<< HEAD
        "Processed image 60 (1176)"
=======
        "Processed image 27 (714)"
>>>>>>> fe1b005d2ec4d7eb0bc61da731ff4fa25b905e36
       ]
      },
      {
       "output_type": "stream",
       "stream": "stdout",
       "text": [
        "\r",
<<<<<<< HEAD
        "Processed image 61 (1176)"
=======
        "Processed image 28 (714)"
>>>>>>> fe1b005d2ec4d7eb0bc61da731ff4fa25b905e36
       ]
      },
      {
       "output_type": "stream",
       "stream": "stdout",
       "text": [
        "\r",
<<<<<<< HEAD
        "Processed image 62 (1176)"
=======
        "Processed image 29 (714)"
>>>>>>> fe1b005d2ec4d7eb0bc61da731ff4fa25b905e36
       ]
      },
      {
       "output_type": "stream",
       "stream": "stdout",
       "text": [
        "\r",
<<<<<<< HEAD
        "Processed image 63 (1176)"
=======
        "Processed image 30 (714)"
>>>>>>> fe1b005d2ec4d7eb0bc61da731ff4fa25b905e36
       ]
      },
      {
       "output_type": "stream",
       "stream": "stdout",
       "text": [
        "\r",
<<<<<<< HEAD
        "Processed image 64 (1176)"
=======
        "Processed image 31 (714)"
>>>>>>> fe1b005d2ec4d7eb0bc61da731ff4fa25b905e36
       ]
      },
      {
       "output_type": "stream",
       "stream": "stdout",
       "text": [
        "\r",
<<<<<<< HEAD
        "Processed image 65 (1176)"
=======
        "Processed image 32 (714)"
>>>>>>> fe1b005d2ec4d7eb0bc61da731ff4fa25b905e36
       ]
      },
      {
       "output_type": "stream",
       "stream": "stdout",
       "text": [
        "\r",
<<<<<<< HEAD
        "Processed image 66 (1176)"
=======
        "Processed image 33 (714)"
>>>>>>> fe1b005d2ec4d7eb0bc61da731ff4fa25b905e36
       ]
      },
      {
       "output_type": "stream",
       "stream": "stdout",
       "text": [
        "\r",
<<<<<<< HEAD
        "Processed image 67 (1176)"
=======
        "Processed image 34 (714)"
>>>>>>> fe1b005d2ec4d7eb0bc61da731ff4fa25b905e36
       ]
      },
      {
       "output_type": "stream",
       "stream": "stdout",
       "text": [
        "\r",
<<<<<<< HEAD
        "Processed image 68 (1176)"
=======
        "Processed image 35 (714)"
>>>>>>> fe1b005d2ec4d7eb0bc61da731ff4fa25b905e36
       ]
      },
      {
       "output_type": "stream",
       "stream": "stdout",
       "text": [
        "\r",
<<<<<<< HEAD
        "Processed image 69 (1176)"
=======
        "Processed image 36 (714)"
>>>>>>> fe1b005d2ec4d7eb0bc61da731ff4fa25b905e36
       ]
      },
      {
       "output_type": "stream",
       "stream": "stdout",
       "text": [
        "\r",
<<<<<<< HEAD
        "Processed image 70 (1176)"
=======
        "Processed image 37 (714)"
>>>>>>> fe1b005d2ec4d7eb0bc61da731ff4fa25b905e36
       ]
      },
      {
       "output_type": "stream",
       "stream": "stdout",
       "text": [
        "\r",
<<<<<<< HEAD
        "Processed image 71 (1176)"
=======
        "Processed image 38 (714)"
>>>>>>> fe1b005d2ec4d7eb0bc61da731ff4fa25b905e36
       ]
      },
      {
       "output_type": "stream",
       "stream": "stdout",
       "text": [
        "\r",
<<<<<<< HEAD
        "Processed image 72 (1176)"
=======
        "Processed image 39 (714)"
>>>>>>> fe1b005d2ec4d7eb0bc61da731ff4fa25b905e36
       ]
      },
      {
       "output_type": "stream",
       "stream": "stdout",
       "text": [
        "\r",
<<<<<<< HEAD
        "Processed image 73 (1176)"
=======
        "Processed image 40 (714)"
>>>>>>> fe1b005d2ec4d7eb0bc61da731ff4fa25b905e36
       ]
      },
      {
       "output_type": "stream",
       "stream": "stdout",
       "text": [
        "\r",
<<<<<<< HEAD
        "Processed image 74 (1176)"
=======
        "Processed image 41 (714)"
>>>>>>> fe1b005d2ec4d7eb0bc61da731ff4fa25b905e36
       ]
      },
      {
       "output_type": "stream",
       "stream": "stdout",
       "text": [
        "\r",
<<<<<<< HEAD
        "Processed image 75 (1176)"
=======
        "Processed image 42 (714)"
>>>>>>> fe1b005d2ec4d7eb0bc61da731ff4fa25b905e36
       ]
      },
      {
       "output_type": "stream",
       "stream": "stdout",
       "text": [
        "\r",
<<<<<<< HEAD
        "Processed image 76 (1176)"
=======
        "Processed image 43 (714)"
>>>>>>> fe1b005d2ec4d7eb0bc61da731ff4fa25b905e36
       ]
      },
      {
       "output_type": "stream",
       "stream": "stdout",
       "text": [
        "\r",
<<<<<<< HEAD
        "Processed image 77 (1176)"
=======
        "Processed image 44 (714)"
>>>>>>> fe1b005d2ec4d7eb0bc61da731ff4fa25b905e36
       ]
      },
      {
       "output_type": "stream",
       "stream": "stdout",
       "text": [
        "\r",
<<<<<<< HEAD
        "Processed image 78 (1176)"
=======
        "Processed image 45 (714)"
>>>>>>> fe1b005d2ec4d7eb0bc61da731ff4fa25b905e36
       ]
      },
      {
       "output_type": "stream",
       "stream": "stdout",
       "text": [
        "\r",
<<<<<<< HEAD
        "Processed image 79 (1176)"
=======
        "Processed image 46 (714)"
>>>>>>> fe1b005d2ec4d7eb0bc61da731ff4fa25b905e36
       ]
      },
      {
       "output_type": "stream",
       "stream": "stdout",
       "text": [
        "\r",
<<<<<<< HEAD
        "Processed image 80 (1176)"
=======
        "Processed image 47 (714)"
>>>>>>> fe1b005d2ec4d7eb0bc61da731ff4fa25b905e36
       ]
      },
      {
       "output_type": "stream",
       "stream": "stdout",
       "text": [
        "\r",
<<<<<<< HEAD
        "Processed image 81 (1176)"
=======
        "Processed image 48 (714)"
>>>>>>> fe1b005d2ec4d7eb0bc61da731ff4fa25b905e36
       ]
      },
      {
       "output_type": "stream",
       "stream": "stdout",
       "text": [
        "\r",
<<<<<<< HEAD
        "Processed image 82 (1176)"
=======
        "Processed image 49 (714)"
>>>>>>> fe1b005d2ec4d7eb0bc61da731ff4fa25b905e36
       ]
      },
      {
       "output_type": "stream",
       "stream": "stdout",
       "text": [
        "\r",
<<<<<<< HEAD
        "Processed image 83 (1176)"
=======
        "Processed image 50 (714)"
>>>>>>> fe1b005d2ec4d7eb0bc61da731ff4fa25b905e36
       ]
      },
      {
       "output_type": "stream",
       "stream": "stdout",
       "text": [
        "\r",
<<<<<<< HEAD
        "Processed image 84 (1176)"
=======
        "Processed image 51 (714)"
>>>>>>> fe1b005d2ec4d7eb0bc61da731ff4fa25b905e36
       ]
      },
      {
       "output_type": "stream",
       "stream": "stdout",
       "text": [
        "\r",
<<<<<<< HEAD
        "Processed image 85 (1176)"
=======
        "Processed image 52 (714)"
>>>>>>> fe1b005d2ec4d7eb0bc61da731ff4fa25b905e36
       ]
      },
      {
       "output_type": "stream",
       "stream": "stdout",
       "text": [
        "\r",
<<<<<<< HEAD
        "Processed image 86 (1176)"
=======
        "Processed image 53 (714)"
>>>>>>> fe1b005d2ec4d7eb0bc61da731ff4fa25b905e36
       ]
      },
      {
       "output_type": "stream",
       "stream": "stdout",
       "text": [
        "\r",
<<<<<<< HEAD
        "Processed image 87 (1176)"
=======
        "Processed image 54 (714)"
>>>>>>> fe1b005d2ec4d7eb0bc61da731ff4fa25b905e36
       ]
      },
      {
       "output_type": "stream",
       "stream": "stdout",
       "text": [
        "\r",
<<<<<<< HEAD
        "Processed image 88 (1176)"
=======
        "Processed image 55 (714)"
>>>>>>> fe1b005d2ec4d7eb0bc61da731ff4fa25b905e36
       ]
      },
      {
       "output_type": "stream",
       "stream": "stdout",
       "text": [
        "\r",
<<<<<<< HEAD
        "Processed image 89 (1176)"
=======
        "Processed image 56 (714)"
>>>>>>> fe1b005d2ec4d7eb0bc61da731ff4fa25b905e36
       ]
      },
      {
       "output_type": "stream",
       "stream": "stdout",
       "text": [
        "\r",
<<<<<<< HEAD
        "Processed image 90 (1176)"
=======
        "Processed image 57 (714)"
>>>>>>> fe1b005d2ec4d7eb0bc61da731ff4fa25b905e36
       ]
      },
      {
       "output_type": "stream",
       "stream": "stdout",
       "text": [
        "\r",
<<<<<<< HEAD
        "Processed image 91 (1176)"
=======
        "Processed image 58 (714)"
>>>>>>> fe1b005d2ec4d7eb0bc61da731ff4fa25b905e36
       ]
      },
      {
       "output_type": "stream",
       "stream": "stdout",
       "text": [
        "\r",
<<<<<<< HEAD
        "Processed image 92 (1176)"
=======
        "Processed image 59 (714)"
>>>>>>> fe1b005d2ec4d7eb0bc61da731ff4fa25b905e36
       ]
      },
      {
       "output_type": "stream",
       "stream": "stdout",
       "text": [
        "\r",
<<<<<<< HEAD
        "Processed image 93 (1176)"
=======
        "Processed image 60 (714)"
>>>>>>> fe1b005d2ec4d7eb0bc61da731ff4fa25b905e36
       ]
      },
      {
       "output_type": "stream",
       "stream": "stdout",
       "text": [
        "\r",
<<<<<<< HEAD
        "Processed image 94 (1176)"
=======
        "Processed image 61 (714)"
>>>>>>> fe1b005d2ec4d7eb0bc61da731ff4fa25b905e36
       ]
      },
      {
       "output_type": "stream",
       "stream": "stdout",
       "text": [
        "\r",
<<<<<<< HEAD
        "Processed image 95 (1176)"
=======
        "Processed image 62 (714)"
>>>>>>> fe1b005d2ec4d7eb0bc61da731ff4fa25b905e36
       ]
      },
      {
       "output_type": "stream",
       "stream": "stdout",
       "text": [
        "\r",
<<<<<<< HEAD
        "Processed image 96 (1176)"
=======
        "Processed image 63 (714)"
>>>>>>> fe1b005d2ec4d7eb0bc61da731ff4fa25b905e36
       ]
      },
      {
       "output_type": "stream",
       "stream": "stdout",
       "text": [
        "\r",
<<<<<<< HEAD
        "Processed image 97 (1176)"
=======
        "Processed image 64 (714)"
>>>>>>> fe1b005d2ec4d7eb0bc61da731ff4fa25b905e36
       ]
      },
      {
       "output_type": "stream",
       "stream": "stdout",
       "text": [
        "\r",
<<<<<<< HEAD
        "Processed image 98 (1176)"
=======
        "Processed image 65 (714)"
>>>>>>> fe1b005d2ec4d7eb0bc61da731ff4fa25b905e36
       ]
      },
      {
       "output_type": "stream",
       "stream": "stdout",
       "text": [
        "\r",
<<<<<<< HEAD
        "Processed image 99 (1176)"
=======
        "Processed image 66 (714)"
>>>>>>> fe1b005d2ec4d7eb0bc61da731ff4fa25b905e36
       ]
      },
      {
       "output_type": "stream",
       "stream": "stdout",
       "text": [
        "\r",
<<<<<<< HEAD
        "Processed image 100 (1176)"
=======
        "Processed image 67 (714)"
>>>>>>> fe1b005d2ec4d7eb0bc61da731ff4fa25b905e36
       ]
      },
      {
       "output_type": "stream",
       "stream": "stdout",
       "text": [
        "\r",
<<<<<<< HEAD
        "Processed image 101 (1176)"
=======
        "Processed image 68 (714)"
>>>>>>> fe1b005d2ec4d7eb0bc61da731ff4fa25b905e36
       ]
      },
      {
       "output_type": "stream",
       "stream": "stdout",
       "text": [
        "\r",
<<<<<<< HEAD
        "Processed image 102 (1176)"
=======
        "Processed image 69 (714)"
>>>>>>> fe1b005d2ec4d7eb0bc61da731ff4fa25b905e36
       ]
      },
      {
       "output_type": "stream",
       "stream": "stdout",
       "text": [
        "\r",
<<<<<<< HEAD
        "Processed image 103 (1176)"
=======
        "Processed image 70 (714)"
>>>>>>> fe1b005d2ec4d7eb0bc61da731ff4fa25b905e36
       ]
      },
      {
       "output_type": "stream",
       "stream": "stdout",
       "text": [
        "\r",
<<<<<<< HEAD
        "Processed image 104 (1176)"
=======
        "Processed image 71 (714)"
>>>>>>> fe1b005d2ec4d7eb0bc61da731ff4fa25b905e36
       ]
      },
      {
       "output_type": "stream",
       "stream": "stdout",
       "text": [
        "\r",
<<<<<<< HEAD
        "Processed image 105 (1176)"
=======
        "Processed image 72 (714)"
>>>>>>> fe1b005d2ec4d7eb0bc61da731ff4fa25b905e36
       ]
      },
      {
       "output_type": "stream",
       "stream": "stdout",
       "text": [
        "\r",
<<<<<<< HEAD
        "Processed image 106 (1176)"
=======
        "Processed image 73 (714)"
>>>>>>> fe1b005d2ec4d7eb0bc61da731ff4fa25b905e36
       ]
      },
      {
       "output_type": "stream",
       "stream": "stdout",
       "text": [
        "\r",
<<<<<<< HEAD
        "Processed image 107 (1176)"
=======
        "Processed image 74 (714)"
>>>>>>> fe1b005d2ec4d7eb0bc61da731ff4fa25b905e36
       ]
      },
      {
       "output_type": "stream",
       "stream": "stdout",
       "text": [
        "\r",
<<<<<<< HEAD
        "Processed image 108 (1176)"
=======
        "Processed image 75 (714)"
>>>>>>> fe1b005d2ec4d7eb0bc61da731ff4fa25b905e36
       ]
      },
      {
       "output_type": "stream",
       "stream": "stdout",
       "text": [
        "\r",
<<<<<<< HEAD
        "Processed image 109 (1176)"
=======
        "Processed image 76 (714)"
>>>>>>> fe1b005d2ec4d7eb0bc61da731ff4fa25b905e36
       ]
      },
      {
       "output_type": "stream",
       "stream": "stdout",
       "text": [
        "\r",
<<<<<<< HEAD
        "Processed image 110 (1176)"
=======
        "Processed image 77 (714)"
>>>>>>> fe1b005d2ec4d7eb0bc61da731ff4fa25b905e36
       ]
      },
      {
       "output_type": "stream",
       "stream": "stdout",
       "text": [
        "\r",
<<<<<<< HEAD
        "Processed image 111 (1176)"
=======
        "Processed image 78 (714)"
>>>>>>> fe1b005d2ec4d7eb0bc61da731ff4fa25b905e36
       ]
      },
      {
       "output_type": "stream",
       "stream": "stdout",
       "text": [
        "\r",
<<<<<<< HEAD
        "Processed image 112 (1176)"
=======
        "Processed image 79 (714)"
>>>>>>> fe1b005d2ec4d7eb0bc61da731ff4fa25b905e36
       ]
      },
      {
       "output_type": "stream",
       "stream": "stdout",
       "text": [
        "\r",
<<<<<<< HEAD
        "Processed image 113 (1176)"
=======
        "Processed image 80 (714)"
>>>>>>> fe1b005d2ec4d7eb0bc61da731ff4fa25b905e36
       ]
      },
      {
       "output_type": "stream",
       "stream": "stdout",
       "text": [
        "\r",
<<<<<<< HEAD
        "Processed image 114 (1176)"
=======
        "Processed image 81 (714)"
>>>>>>> fe1b005d2ec4d7eb0bc61da731ff4fa25b905e36
       ]
      },
      {
       "output_type": "stream",
       "stream": "stdout",
       "text": [
        "\r",
<<<<<<< HEAD
        "Processed image 115 (1176)"
=======
        "Processed image 82 (714)"
>>>>>>> fe1b005d2ec4d7eb0bc61da731ff4fa25b905e36
       ]
      },
      {
       "output_type": "stream",
       "stream": "stdout",
       "text": [
        "\r",
<<<<<<< HEAD
        "Processed image 116 (1176)"
=======
        "Processed image 83 (714)"
>>>>>>> fe1b005d2ec4d7eb0bc61da731ff4fa25b905e36
       ]
      },
      {
       "output_type": "stream",
       "stream": "stdout",
       "text": [
        "\r",
<<<<<<< HEAD
        "Processed image 117 (1176)"
=======
        "Processed image 84 (714)"
>>>>>>> fe1b005d2ec4d7eb0bc61da731ff4fa25b905e36
       ]
      },
      {
       "output_type": "stream",
       "stream": "stdout",
       "text": [
        "\r",
<<<<<<< HEAD
        "Processed image 118 (1176)"
=======
        "Processed image 85 (714)"
>>>>>>> fe1b005d2ec4d7eb0bc61da731ff4fa25b905e36
       ]
      },
      {
       "output_type": "stream",
       "stream": "stdout",
       "text": [
        "\r",
<<<<<<< HEAD
        "Processed image 119 (1176)"
=======
        "Processed image 86 (714)"
>>>>>>> fe1b005d2ec4d7eb0bc61da731ff4fa25b905e36
       ]
      },
      {
       "output_type": "stream",
       "stream": "stdout",
       "text": [
        "\r",
<<<<<<< HEAD
        "Processed image 120 (1176)"
=======
        "Processed image 87 (714)"
>>>>>>> fe1b005d2ec4d7eb0bc61da731ff4fa25b905e36
       ]
      },
      {
       "output_type": "stream",
       "stream": "stdout",
       "text": [
        "\r",
<<<<<<< HEAD
        "Processed image 121 (1176)"
=======
        "Processed image 88 (714)"
>>>>>>> fe1b005d2ec4d7eb0bc61da731ff4fa25b905e36
       ]
      },
      {
       "output_type": "stream",
       "stream": "stdout",
       "text": [
        "\r",
<<<<<<< HEAD
        "Processed image 122 (1176)"
=======
        "Processed image 89 (714)"
>>>>>>> fe1b005d2ec4d7eb0bc61da731ff4fa25b905e36
       ]
      },
      {
       "output_type": "stream",
       "stream": "stdout",
       "text": [
        "\r",
<<<<<<< HEAD
        "Processed image 123 (1176)"
=======
        "Processed image 90 (714)"
>>>>>>> fe1b005d2ec4d7eb0bc61da731ff4fa25b905e36
       ]
      },
      {
       "output_type": "stream",
       "stream": "stdout",
       "text": [
        "\r",
<<<<<<< HEAD
        "Processed image 124 (1176)"
=======
        "Processed image 91 (714)"
>>>>>>> fe1b005d2ec4d7eb0bc61da731ff4fa25b905e36
       ]
      },
      {
       "output_type": "stream",
       "stream": "stdout",
       "text": [
        "\r",
<<<<<<< HEAD
        "Processed image 125 (1176)"
=======
        "Processed image 92 (714)"
>>>>>>> fe1b005d2ec4d7eb0bc61da731ff4fa25b905e36
       ]
      },
      {
       "output_type": "stream",
       "stream": "stdout",
       "text": [
        "\r",
<<<<<<< HEAD
        "Processed image 126 (1176)"
=======
        "Processed image 93 (714)"
>>>>>>> fe1b005d2ec4d7eb0bc61da731ff4fa25b905e36
       ]
      },
      {
       "output_type": "stream",
       "stream": "stdout",
       "text": [
        "\r",
<<<<<<< HEAD
        "Processed image 127 (1176)"
=======
        "Processed image 94 (714)"
>>>>>>> fe1b005d2ec4d7eb0bc61da731ff4fa25b905e36
       ]
      },
      {
       "output_type": "stream",
       "stream": "stdout",
       "text": [
        "\r",
<<<<<<< HEAD
        "Processed image 128 (1176)"
=======
        "Processed image 95 (714)"
>>>>>>> fe1b005d2ec4d7eb0bc61da731ff4fa25b905e36
       ]
      },
      {
       "output_type": "stream",
       "stream": "stdout",
       "text": [
        "\r",
<<<<<<< HEAD
        "Processed image 129 (1176)"
=======
        "Processed image 96 (714)"
>>>>>>> fe1b005d2ec4d7eb0bc61da731ff4fa25b905e36
       ]
      },
      {
       "output_type": "stream",
       "stream": "stdout",
       "text": [
        "\r",
<<<<<<< HEAD
        "Processed image 130 (1176)"
=======
        "Processed image 97 (714)"
>>>>>>> fe1b005d2ec4d7eb0bc61da731ff4fa25b905e36
       ]
      },
      {
       "output_type": "stream",
       "stream": "stdout",
       "text": [
        "\r",
<<<<<<< HEAD
        "Processed image 131 (1176)"
=======
        "Processed image 98 (714)"
>>>>>>> fe1b005d2ec4d7eb0bc61da731ff4fa25b905e36
       ]
      },
      {
       "output_type": "stream",
       "stream": "stdout",
       "text": [
        "\r",
<<<<<<< HEAD
        "Processed image 132 (1176)"
=======
        "Processed image 99 (714)"
>>>>>>> fe1b005d2ec4d7eb0bc61da731ff4fa25b905e36
       ]
      },
      {
       "output_type": "stream",
       "stream": "stdout",
       "text": [
        "\r",
<<<<<<< HEAD
        "Processed image 133 (1176)"
=======
        "Processed image 100 (714)"
>>>>>>> fe1b005d2ec4d7eb0bc61da731ff4fa25b905e36
       ]
      },
      {
       "output_type": "stream",
       "stream": "stdout",
       "text": [
        "\r",
<<<<<<< HEAD
        "Processed image 134 (1176)"
=======
        "Processed image 101 (714)"
>>>>>>> fe1b005d2ec4d7eb0bc61da731ff4fa25b905e36
       ]
      },
      {
       "output_type": "stream",
       "stream": "stdout",
       "text": [
        "\r",
<<<<<<< HEAD
        "Processed image 135 (1176)"
=======
        "Processed image 102 (714)"
>>>>>>> fe1b005d2ec4d7eb0bc61da731ff4fa25b905e36
       ]
      },
      {
       "output_type": "stream",
       "stream": "stdout",
       "text": [
        "\r",
<<<<<<< HEAD
        "Processed image 136 (1176)"
=======
        "Processed image 103 (714)"
>>>>>>> fe1b005d2ec4d7eb0bc61da731ff4fa25b905e36
       ]
      },
      {
       "output_type": "stream",
       "stream": "stdout",
       "text": [
        "\r",
<<<<<<< HEAD
        "Processed image 137 (1176)"
=======
        "Processed image 104 (714)"
>>>>>>> fe1b005d2ec4d7eb0bc61da731ff4fa25b905e36
       ]
      },
      {
       "output_type": "stream",
       "stream": "stdout",
       "text": [
        "\r",
<<<<<<< HEAD
        "Processed image 138 (1176)"
=======
        "Processed image 105 (714)"
>>>>>>> fe1b005d2ec4d7eb0bc61da731ff4fa25b905e36
       ]
      },
      {
       "output_type": "stream",
       "stream": "stdout",
       "text": [
        "\r",
<<<<<<< HEAD
        "Processed image 139 (1176)"
=======
        "Processed image 106 (714)"
>>>>>>> fe1b005d2ec4d7eb0bc61da731ff4fa25b905e36
       ]
      },
      {
       "output_type": "stream",
       "stream": "stdout",
       "text": [
        "\r",
<<<<<<< HEAD
        "Processed image 140 (1176)"
=======
        "Processed image 107 (714)"
>>>>>>> fe1b005d2ec4d7eb0bc61da731ff4fa25b905e36
       ]
      },
      {
       "output_type": "stream",
       "stream": "stdout",
       "text": [
        "\r",
<<<<<<< HEAD
        "Processed image 141 (1176)"
=======
        "Processed image 108 (714)"
>>>>>>> fe1b005d2ec4d7eb0bc61da731ff4fa25b905e36
       ]
      },
      {
       "output_type": "stream",
       "stream": "stdout",
       "text": [
        "\r",
<<<<<<< HEAD
        "Processed image 142 (1176)"
=======
        "Processed image 109 (714)"
>>>>>>> fe1b005d2ec4d7eb0bc61da731ff4fa25b905e36
       ]
      },
      {
       "output_type": "stream",
       "stream": "stdout",
       "text": [
        "\r",
<<<<<<< HEAD
        "Processed image 143 (1176)"
=======
        "Processed image 110 (714)"
>>>>>>> fe1b005d2ec4d7eb0bc61da731ff4fa25b905e36
       ]
      },
      {
       "output_type": "stream",
       "stream": "stdout",
       "text": [
        "\r",
<<<<<<< HEAD
        "Processed image 144 (1176)"
=======
        "Processed image 111 (714)"
>>>>>>> fe1b005d2ec4d7eb0bc61da731ff4fa25b905e36
       ]
      },
      {
       "output_type": "stream",
       "stream": "stdout",
       "text": [
        "\r",
<<<<<<< HEAD
        "Processed image 145 (1176)"
=======
        "Processed image 112 (714)"
>>>>>>> fe1b005d2ec4d7eb0bc61da731ff4fa25b905e36
       ]
      },
      {
       "output_type": "stream",
       "stream": "stdout",
       "text": [
        "\r",
<<<<<<< HEAD
        "Processed image 146 (1176)"
=======
        "Processed image 113 (714)"
>>>>>>> fe1b005d2ec4d7eb0bc61da731ff4fa25b905e36
       ]
      },
      {
       "output_type": "stream",
       "stream": "stdout",
       "text": [
        "\r",
<<<<<<< HEAD
        "Processed image 147 (1176)"
=======
        "Processed image 114 (714)"
>>>>>>> fe1b005d2ec4d7eb0bc61da731ff4fa25b905e36
       ]
      },
      {
       "output_type": "stream",
       "stream": "stdout",
       "text": [
        "\r",
<<<<<<< HEAD
        "Processed image 148 (1176)"
=======
        "Processed image 115 (714)"
>>>>>>> fe1b005d2ec4d7eb0bc61da731ff4fa25b905e36
       ]
      },
      {
       "output_type": "stream",
       "stream": "stdout",
       "text": [
        "\r",
<<<<<<< HEAD
        "Processed image 149 (1176)"
=======
        "Processed image 116 (714)"
>>>>>>> fe1b005d2ec4d7eb0bc61da731ff4fa25b905e36
       ]
      },
      {
       "output_type": "stream",
       "stream": "stdout",
       "text": [
        "\r",
<<<<<<< HEAD
        "Processed image 150 (1176)"
=======
        "Processed image 117 (714)"
>>>>>>> fe1b005d2ec4d7eb0bc61da731ff4fa25b905e36
       ]
      },
      {
       "output_type": "stream",
       "stream": "stdout",
       "text": [
        "\r",
<<<<<<< HEAD
        "Processed image 151 (1176)"
=======
        "Processed image 118 (714)"
>>>>>>> fe1b005d2ec4d7eb0bc61da731ff4fa25b905e36
       ]
      },
      {
       "output_type": "stream",
       "stream": "stdout",
       "text": [
        "\r",
<<<<<<< HEAD
        "Processed image 152 (1176)"
=======
        "Processed image 119 (714)"
>>>>>>> fe1b005d2ec4d7eb0bc61da731ff4fa25b905e36
       ]
      },
      {
       "output_type": "stream",
       "stream": "stdout",
       "text": [
        "\r",
<<<<<<< HEAD
        "Processed image 153 (1176)"
=======
        "Processed image 120 (714)"
>>>>>>> fe1b005d2ec4d7eb0bc61da731ff4fa25b905e36
       ]
      },
      {
       "output_type": "stream",
       "stream": "stdout",
       "text": [
        "\r",
<<<<<<< HEAD
        "Processed image 154 (1176)"
=======
        "Processed image 121 (714)"
>>>>>>> fe1b005d2ec4d7eb0bc61da731ff4fa25b905e36
       ]
      },
      {
       "output_type": "stream",
       "stream": "stdout",
       "text": [
        "\r",
<<<<<<< HEAD
        "Processed image 155 (1176)"
=======
        "Processed image 122 (714)"
>>>>>>> fe1b005d2ec4d7eb0bc61da731ff4fa25b905e36
       ]
      },
      {
       "output_type": "stream",
       "stream": "stdout",
       "text": [
        "\r",
<<<<<<< HEAD
        "Processed image 156 (1176)"
=======
        "Processed image 123 (714)"
>>>>>>> fe1b005d2ec4d7eb0bc61da731ff4fa25b905e36
       ]
      },
      {
       "output_type": "stream",
       "stream": "stdout",
       "text": [
        "\r",
<<<<<<< HEAD
        "Processed image 157 (1176)"
=======
        "Processed image 124 (714)"
>>>>>>> fe1b005d2ec4d7eb0bc61da731ff4fa25b905e36
       ]
      },
      {
       "output_type": "stream",
       "stream": "stdout",
       "text": [
        "\r",
<<<<<<< HEAD
        "Processed image 158 (1176)"
=======
        "Processed image 125 (714)"
>>>>>>> fe1b005d2ec4d7eb0bc61da731ff4fa25b905e36
       ]
      },
      {
       "output_type": "stream",
       "stream": "stdout",
       "text": [
        "\r",
<<<<<<< HEAD
        "Processed image 159 (1176)"
=======
        "Processed image 126 (714)"
>>>>>>> fe1b005d2ec4d7eb0bc61da731ff4fa25b905e36
       ]
      },
      {
       "output_type": "stream",
       "stream": "stdout",
       "text": [
        "\r",
<<<<<<< HEAD
        "Processed image 160 (1176)"
=======
        "Processed image 127 (714)"
>>>>>>> fe1b005d2ec4d7eb0bc61da731ff4fa25b905e36
       ]
      },
      {
       "output_type": "stream",
       "stream": "stdout",
       "text": [
        "\r",
<<<<<<< HEAD
        "Processed image 161 (1176)"
=======
        "Processed image 128 (714)"
>>>>>>> fe1b005d2ec4d7eb0bc61da731ff4fa25b905e36
       ]
      },
      {
       "output_type": "stream",
       "stream": "stdout",
       "text": [
        "\r",
<<<<<<< HEAD
        "Processed image 162 (1176)"
=======
        "Processed image 129 (714)"
>>>>>>> fe1b005d2ec4d7eb0bc61da731ff4fa25b905e36
       ]
      },
      {
       "output_type": "stream",
       "stream": "stdout",
       "text": [
        "\r",
<<<<<<< HEAD
        "Processed image 163 (1176)"
=======
        "Processed image 130 (714)"
>>>>>>> fe1b005d2ec4d7eb0bc61da731ff4fa25b905e36
       ]
      },
      {
       "output_type": "stream",
       "stream": "stdout",
       "text": [
        "\r",
<<<<<<< HEAD
        "Processed image 164 (1176)"
=======
        "Processed image 131 (714)"
>>>>>>> fe1b005d2ec4d7eb0bc61da731ff4fa25b905e36
       ]
      },
      {
       "output_type": "stream",
       "stream": "stdout",
       "text": [
        "\r",
<<<<<<< HEAD
        "Processed image 165 (1176)"
=======
        "Processed image 132 (714)"
>>>>>>> fe1b005d2ec4d7eb0bc61da731ff4fa25b905e36
       ]
      },
      {
       "output_type": "stream",
       "stream": "stdout",
       "text": [
        "\r",
<<<<<<< HEAD
        "Processed image 166 (1176)"
=======
        "Processed image 133 (714)"
>>>>>>> fe1b005d2ec4d7eb0bc61da731ff4fa25b905e36
       ]
      },
      {
       "output_type": "stream",
       "stream": "stdout",
       "text": [
        "\r",
<<<<<<< HEAD
        "Processed image 167 (1176)"
=======
        "Processed image 134 (714)"
>>>>>>> fe1b005d2ec4d7eb0bc61da731ff4fa25b905e36
       ]
      },
      {
       "output_type": "stream",
       "stream": "stdout",
       "text": [
        "\r",
<<<<<<< HEAD
        "Processed image 168 (1176)"
=======
        "Processed image 135 (714)"
>>>>>>> fe1b005d2ec4d7eb0bc61da731ff4fa25b905e36
       ]
      },
      {
       "output_type": "stream",
       "stream": "stdout",
       "text": [
        "\r",
<<<<<<< HEAD
        "Processed image 169 (1176)"
=======
        "Processed image 136 (714)"
>>>>>>> fe1b005d2ec4d7eb0bc61da731ff4fa25b905e36
       ]
      },
      {
       "output_type": "stream",
       "stream": "stdout",
       "text": [
        "\r",
<<<<<<< HEAD
        "Processed image 170 (1176)"
=======
        "Processed image 137 (714)"
>>>>>>> fe1b005d2ec4d7eb0bc61da731ff4fa25b905e36
       ]
      },
      {
       "output_type": "stream",
       "stream": "stdout",
       "text": [
        "\r",
<<<<<<< HEAD
        "Processed image 171 (1176)"
=======
        "Processed image 138 (714)"
>>>>>>> fe1b005d2ec4d7eb0bc61da731ff4fa25b905e36
       ]
      },
      {
       "output_type": "stream",
       "stream": "stdout",
       "text": [
        "\r",
<<<<<<< HEAD
        "Processed image 172 (1176)"
=======
        "Processed image 139 (714)"
>>>>>>> fe1b005d2ec4d7eb0bc61da731ff4fa25b905e36
       ]
      },
      {
       "output_type": "stream",
       "stream": "stdout",
       "text": [
        "\r",
<<<<<<< HEAD
        "Processed image 173 (1176)"
=======
        "Processed image 140 (714)"
>>>>>>> fe1b005d2ec4d7eb0bc61da731ff4fa25b905e36
       ]
      },
      {
       "output_type": "stream",
       "stream": "stdout",
       "text": [
        "\r",
<<<<<<< HEAD
        "Processed image 174 (1176)"
=======
        "Processed image 141 (714)"
>>>>>>> fe1b005d2ec4d7eb0bc61da731ff4fa25b905e36
       ]
      },
      {
       "output_type": "stream",
       "stream": "stdout",
       "text": [
        "\r",
<<<<<<< HEAD
        "Processed image 175 (1176)"
=======
        "Processed image 142 (714)"
>>>>>>> fe1b005d2ec4d7eb0bc61da731ff4fa25b905e36
       ]
      },
      {
       "output_type": "stream",
       "stream": "stdout",
       "text": [
        "\r",
<<<<<<< HEAD
        "Processed image 176 (1176)"
=======
        "Processed image 143 (714)"
>>>>>>> fe1b005d2ec4d7eb0bc61da731ff4fa25b905e36
       ]
      },
      {
       "output_type": "stream",
       "stream": "stdout",
       "text": [
        "\r",
<<<<<<< HEAD
        "Processed image 177 (1176)"
=======
        "Processed image 144 (714)"
>>>>>>> fe1b005d2ec4d7eb0bc61da731ff4fa25b905e36
       ]
      },
      {
       "output_type": "stream",
       "stream": "stdout",
       "text": [
        "\r",
<<<<<<< HEAD
        "Processed image 178 (1176)"
=======
        "Processed image 145 (714)"
>>>>>>> fe1b005d2ec4d7eb0bc61da731ff4fa25b905e36
       ]
      },
      {
       "output_type": "stream",
       "stream": "stdout",
       "text": [
        "\r",
<<<<<<< HEAD
        "Processed image 179 (1176)"
=======
        "Processed image 146 (714)"
>>>>>>> fe1b005d2ec4d7eb0bc61da731ff4fa25b905e36
       ]
      },
      {
       "output_type": "stream",
       "stream": "stdout",
       "text": [
        "\r",
<<<<<<< HEAD
        "Processed image 180 (1176)"
=======
        "Processed image 147 (714)"
>>>>>>> fe1b005d2ec4d7eb0bc61da731ff4fa25b905e36
       ]
      },
      {
       "output_type": "stream",
       "stream": "stdout",
       "text": [
        "\r",
<<<<<<< HEAD
        "Processed image 181 (1176)"
=======
        "Processed image 148 (714)"
>>>>>>> fe1b005d2ec4d7eb0bc61da731ff4fa25b905e36
       ]
      },
      {
       "output_type": "stream",
       "stream": "stdout",
       "text": [
        "\r",
<<<<<<< HEAD
        "Processed image 182 (1176)"
=======
        "Processed image 149 (714)"
>>>>>>> fe1b005d2ec4d7eb0bc61da731ff4fa25b905e36
       ]
      },
      {
       "output_type": "stream",
       "stream": "stdout",
       "text": [
        "\r",
<<<<<<< HEAD
        "Processed image 183 (1176)"
=======
        "Processed image 150 (714)"
>>>>>>> fe1b005d2ec4d7eb0bc61da731ff4fa25b905e36
       ]
      },
      {
       "output_type": "stream",
       "stream": "stdout",
       "text": [
        "\r",
<<<<<<< HEAD
        "Processed image 184 (1176)"
=======
        "Processed image 151 (714)"
>>>>>>> fe1b005d2ec4d7eb0bc61da731ff4fa25b905e36
       ]
      },
      {
       "output_type": "stream",
       "stream": "stdout",
       "text": [
        "\r",
<<<<<<< HEAD
        "Processed image 185 (1176)"
=======
        "Processed image 152 (714)"
>>>>>>> fe1b005d2ec4d7eb0bc61da731ff4fa25b905e36
       ]
      },
      {
       "output_type": "stream",
       "stream": "stdout",
       "text": [
        "\r",
<<<<<<< HEAD
        "Processed image 186 (1176)"
=======
        "Processed image 153 (714)"
>>>>>>> fe1b005d2ec4d7eb0bc61da731ff4fa25b905e36
       ]
      },
      {
       "output_type": "stream",
       "stream": "stdout",
       "text": [
        "\r",
<<<<<<< HEAD
        "Processed image 187 (1176)"
=======
        "Processed image 154 (714)"
>>>>>>> fe1b005d2ec4d7eb0bc61da731ff4fa25b905e36
       ]
      },
      {
       "output_type": "stream",
       "stream": "stdout",
       "text": [
        "\r",
<<<<<<< HEAD
        "Processed image 188 (1176)"
=======
        "Processed image 155 (714)"
>>>>>>> fe1b005d2ec4d7eb0bc61da731ff4fa25b905e36
       ]
      },
      {
       "output_type": "stream",
       "stream": "stdout",
       "text": [
        "\r",
<<<<<<< HEAD
        "Processed image 189 (1176)"
=======
        "Processed image 156 (714)"
>>>>>>> fe1b005d2ec4d7eb0bc61da731ff4fa25b905e36
       ]
      },
      {
       "output_type": "stream",
       "stream": "stdout",
       "text": [
        "\r",
<<<<<<< HEAD
        "Processed image 190 (1176)"
=======
        "Processed image 157 (714)"
>>>>>>> fe1b005d2ec4d7eb0bc61da731ff4fa25b905e36
       ]
      },
      {
       "output_type": "stream",
       "stream": "stdout",
       "text": [
        "\r",
<<<<<<< HEAD
        "Processed image 191 (1176)"
=======
        "Processed image 158 (714)"
>>>>>>> fe1b005d2ec4d7eb0bc61da731ff4fa25b905e36
       ]
      },
      {
       "output_type": "stream",
       "stream": "stdout",
       "text": [
        "\r",
<<<<<<< HEAD
        "Processed image 192 (1176)"
=======
        "Processed image 159 (714)"
>>>>>>> fe1b005d2ec4d7eb0bc61da731ff4fa25b905e36
       ]
      },
      {
       "output_type": "stream",
       "stream": "stdout",
       "text": [
        "\r",
<<<<<<< HEAD
        "Processed image 193 (1176)"
=======
        "Processed image 160 (714)"
>>>>>>> fe1b005d2ec4d7eb0bc61da731ff4fa25b905e36
       ]
      },
      {
       "output_type": "stream",
       "stream": "stdout",
       "text": [
        "\r",
<<<<<<< HEAD
        "Processed image 194 (1176)"
=======
        "Processed image 161 (714)"
>>>>>>> fe1b005d2ec4d7eb0bc61da731ff4fa25b905e36
       ]
      },
      {
       "output_type": "stream",
       "stream": "stdout",
       "text": [
        "\r",
<<<<<<< HEAD
        "Processed image 195 (1176)"
=======
        "Processed image 162 (714)"
>>>>>>> fe1b005d2ec4d7eb0bc61da731ff4fa25b905e36
       ]
      },
      {
       "output_type": "stream",
       "stream": "stdout",
       "text": [
        "\r",
<<<<<<< HEAD
        "Processed image 196 (1176)"
=======
        "Processed image 163 (714)"
>>>>>>> fe1b005d2ec4d7eb0bc61da731ff4fa25b905e36
       ]
      },
      {
       "output_type": "stream",
       "stream": "stdout",
       "text": [
        "\r",
<<<<<<< HEAD
        "Processed image 197 (1176)"
=======
        "Processed image 164 (714)"
>>>>>>> fe1b005d2ec4d7eb0bc61da731ff4fa25b905e36
       ]
      },
      {
       "output_type": "stream",
       "stream": "stdout",
       "text": [
        "\r",
<<<<<<< HEAD
        "Processed image 198 (1176)"
=======
        "Processed image 165 (714)"
>>>>>>> fe1b005d2ec4d7eb0bc61da731ff4fa25b905e36
       ]
      },
      {
       "output_type": "stream",
       "stream": "stdout",
       "text": [
        "\r",
<<<<<<< HEAD
        "Processed image 199 (1176)"
=======
        "Processed image 166 (714)"
>>>>>>> fe1b005d2ec4d7eb0bc61da731ff4fa25b905e36
       ]
      },
      {
       "output_type": "stream",
       "stream": "stdout",
       "text": [
        "\r",
<<<<<<< HEAD
        "Processed image 200 (1176)"
=======
        "Processed image 167 (714)"
>>>>>>> fe1b005d2ec4d7eb0bc61da731ff4fa25b905e36
       ]
      },
      {
       "output_type": "stream",
       "stream": "stdout",
       "text": [
        "\r",
<<<<<<< HEAD
        "Processed image 201 (1176)"
=======
        "Processed image 168 (714)"
>>>>>>> fe1b005d2ec4d7eb0bc61da731ff4fa25b905e36
       ]
      },
      {
       "output_type": "stream",
       "stream": "stdout",
       "text": [
        "\r",
<<<<<<< HEAD
        "Processed image 202 (1176)"
=======
        "Processed image 169 (714)"
>>>>>>> fe1b005d2ec4d7eb0bc61da731ff4fa25b905e36
       ]
      },
      {
       "output_type": "stream",
       "stream": "stdout",
       "text": [
        "\r",
<<<<<<< HEAD
        "Processed image 203 (1176)"
=======
        "Processed image 170 (714)"
>>>>>>> fe1b005d2ec4d7eb0bc61da731ff4fa25b905e36
       ]
      },
      {
       "output_type": "stream",
       "stream": "stdout",
       "text": [
        "\r",
<<<<<<< HEAD
        "Processed image 204 (1176)"
=======
        "Processed image 171 (714)"
>>>>>>> fe1b005d2ec4d7eb0bc61da731ff4fa25b905e36
       ]
      },
      {
       "output_type": "stream",
       "stream": "stdout",
       "text": [
        "\r",
<<<<<<< HEAD
        "Processed image 205 (1176)"
=======
        "Processed image 172 (714)"
>>>>>>> fe1b005d2ec4d7eb0bc61da731ff4fa25b905e36
       ]
      },
      {
       "output_type": "stream",
       "stream": "stdout",
       "text": [
        "\r",
<<<<<<< HEAD
        "Processed image 206 (1176)"
=======
        "Processed image 173 (714)"
>>>>>>> fe1b005d2ec4d7eb0bc61da731ff4fa25b905e36
       ]
      },
      {
       "output_type": "stream",
       "stream": "stdout",
       "text": [
        "\r",
<<<<<<< HEAD
        "Processed image 207 (1176)"
=======
        "Processed image 174 (714)"
>>>>>>> fe1b005d2ec4d7eb0bc61da731ff4fa25b905e36
       ]
      },
      {
       "output_type": "stream",
       "stream": "stdout",
       "text": [
        "\r",
<<<<<<< HEAD
        "Processed image 208 (1176)"
=======
        "Processed image 175 (714)"
>>>>>>> fe1b005d2ec4d7eb0bc61da731ff4fa25b905e36
       ]
      },
      {
       "output_type": "stream",
       "stream": "stdout",
       "text": [
        "\r",
<<<<<<< HEAD
        "Processed image 209 (1176)"
=======
        "Processed image 176 (714)"
>>>>>>> fe1b005d2ec4d7eb0bc61da731ff4fa25b905e36
       ]
      },
      {
       "output_type": "stream",
       "stream": "stdout",
       "text": [
        "\r",
<<<<<<< HEAD
        "Processed image 210 (1176)"
=======
        "Processed image 177 (714)"
>>>>>>> fe1b005d2ec4d7eb0bc61da731ff4fa25b905e36
       ]
      },
      {
       "output_type": "stream",
       "stream": "stdout",
       "text": [
        "\r",
<<<<<<< HEAD
        "Processed image 211 (1176)"
=======
        "Processed image 178 (714)"
>>>>>>> fe1b005d2ec4d7eb0bc61da731ff4fa25b905e36
       ]
      },
      {
       "output_type": "stream",
       "stream": "stdout",
       "text": [
        "\r",
<<<<<<< HEAD
        "Processed image 212 (1176)"
=======
        "Processed image 179 (714)"
>>>>>>> fe1b005d2ec4d7eb0bc61da731ff4fa25b905e36
       ]
      },
      {
       "output_type": "stream",
       "stream": "stdout",
       "text": [
        "\r",
<<<<<<< HEAD
        "Processed image 213 (1176)"
=======
        "Processed image 180 (714)"
>>>>>>> fe1b005d2ec4d7eb0bc61da731ff4fa25b905e36
       ]
      },
      {
       "output_type": "stream",
       "stream": "stdout",
       "text": [
        "\r",
<<<<<<< HEAD
        "Processed image 214 (1176)"
=======
        "Processed image 181 (714)"
>>>>>>> fe1b005d2ec4d7eb0bc61da731ff4fa25b905e36
       ]
      },
      {
       "output_type": "stream",
       "stream": "stdout",
       "text": [
        "\r",
<<<<<<< HEAD
        "Processed image 215 (1176)"
=======
        "Processed image 182 (714)"
>>>>>>> fe1b005d2ec4d7eb0bc61da731ff4fa25b905e36
       ]
      },
      {
       "output_type": "stream",
       "stream": "stdout",
       "text": [
        "\r",
<<<<<<< HEAD
        "Processed image 216 (1176)"
=======
        "Processed image 183 (714)"
>>>>>>> fe1b005d2ec4d7eb0bc61da731ff4fa25b905e36
       ]
      },
      {
       "output_type": "stream",
       "stream": "stdout",
       "text": [
        "\r",
<<<<<<< HEAD
        "Processed image 217 (1176)"
=======
        "Processed image 184 (714)"
>>>>>>> fe1b005d2ec4d7eb0bc61da731ff4fa25b905e36
       ]
      },
      {
       "output_type": "stream",
       "stream": "stdout",
       "text": [
        "\r",
<<<<<<< HEAD
        "Processed image 218 (1176)"
=======
        "Processed image 185 (714)"
>>>>>>> fe1b005d2ec4d7eb0bc61da731ff4fa25b905e36
       ]
      },
      {
       "output_type": "stream",
       "stream": "stdout",
       "text": [
        "\r",
<<<<<<< HEAD
        "Processed image 219 (1176)"
=======
        "Processed image 186 (714)"
>>>>>>> fe1b005d2ec4d7eb0bc61da731ff4fa25b905e36
       ]
      },
      {
       "output_type": "stream",
       "stream": "stdout",
       "text": [
        "\r",
<<<<<<< HEAD
        "Processed image 220 (1176)"
=======
        "Processed image 187 (714)"
>>>>>>> fe1b005d2ec4d7eb0bc61da731ff4fa25b905e36
       ]
      },
      {
       "output_type": "stream",
       "stream": "stdout",
       "text": [
        "\r",
<<<<<<< HEAD
        "Processed image 221 (1176)"
=======
        "Processed image 188 (714)"
>>>>>>> fe1b005d2ec4d7eb0bc61da731ff4fa25b905e36
       ]
      },
      {
       "output_type": "stream",
       "stream": "stdout",
       "text": [
        "\r",
<<<<<<< HEAD
        "Processed image 222 (1176)"
=======
        "Processed image 189 (714)"
>>>>>>> fe1b005d2ec4d7eb0bc61da731ff4fa25b905e36
       ]
      },
      {
       "output_type": "stream",
       "stream": "stdout",
       "text": [
        "\r",
<<<<<<< HEAD
        "Processed image 223 (1176)"
=======
        "Processed image 190 (714)"
>>>>>>> fe1b005d2ec4d7eb0bc61da731ff4fa25b905e36
       ]
      },
      {
       "output_type": "stream",
       "stream": "stdout",
       "text": [
        "\r",
<<<<<<< HEAD
        "Processed image 224 (1176)"
=======
        "Processed image 191 (714)"
>>>>>>> fe1b005d2ec4d7eb0bc61da731ff4fa25b905e36
       ]
      },
      {
       "output_type": "stream",
       "stream": "stdout",
       "text": [
        "\r",
<<<<<<< HEAD
        "Processed image 225 (1176)"
=======
        "Processed image 192 (714)"
>>>>>>> fe1b005d2ec4d7eb0bc61da731ff4fa25b905e36
       ]
      },
      {
       "output_type": "stream",
       "stream": "stdout",
       "text": [
        "\r",
<<<<<<< HEAD
        "Processed image 226 (1176)"
=======
        "Processed image 193 (714)"
>>>>>>> fe1b005d2ec4d7eb0bc61da731ff4fa25b905e36
       ]
      },
      {
       "output_type": "stream",
       "stream": "stdout",
       "text": [
        "\r",
<<<<<<< HEAD
        "Processed image 227 (1176)"
=======
        "Processed image 194 (714)"
>>>>>>> fe1b005d2ec4d7eb0bc61da731ff4fa25b905e36
       ]
      },
      {
       "output_type": "stream",
       "stream": "stdout",
       "text": [
        "\r",
<<<<<<< HEAD
        "Processed image 228 (1176)"
=======
        "Processed image 195 (714)"
>>>>>>> fe1b005d2ec4d7eb0bc61da731ff4fa25b905e36
       ]
      },
      {
       "output_type": "stream",
       "stream": "stdout",
       "text": [
        "\r",
<<<<<<< HEAD
        "Processed image 229 (1176)"
=======
        "Processed image 196 (714)"
>>>>>>> fe1b005d2ec4d7eb0bc61da731ff4fa25b905e36
       ]
      },
      {
       "output_type": "stream",
       "stream": "stdout",
       "text": [
        "\r",
<<<<<<< HEAD
        "Processed image 230 (1176)"
=======
        "Processed image 197 (714)"
>>>>>>> fe1b005d2ec4d7eb0bc61da731ff4fa25b905e36
       ]
      },
      {
       "output_type": "stream",
       "stream": "stdout",
       "text": [
        "\r",
<<<<<<< HEAD
        "Processed image 231 (1176)"
=======
        "Processed image 198 (714)"
>>>>>>> fe1b005d2ec4d7eb0bc61da731ff4fa25b905e36
       ]
      },
      {
       "output_type": "stream",
       "stream": "stdout",
       "text": [
        "\r",
<<<<<<< HEAD
        "Processed image 232 (1176)"
=======
        "Processed image 199 (714)"
>>>>>>> fe1b005d2ec4d7eb0bc61da731ff4fa25b905e36
       ]
      },
      {
       "output_type": "stream",
       "stream": "stdout",
       "text": [
        "\r",
<<<<<<< HEAD
        "Processed image 233 (1176)"
=======
        "Processed image 200 (714)"
>>>>>>> fe1b005d2ec4d7eb0bc61da731ff4fa25b905e36
       ]
      },
      {
       "output_type": "stream",
       "stream": "stdout",
       "text": [
        "\r",
<<<<<<< HEAD
        "Processed image 234 (1176)"
=======
        "Processed image 201 (714)"
>>>>>>> fe1b005d2ec4d7eb0bc61da731ff4fa25b905e36
       ]
      },
      {
       "output_type": "stream",
       "stream": "stdout",
       "text": [
        "\r",
<<<<<<< HEAD
        "Processed image 235 (1176)"
=======
        "Processed image 202 (714)"
>>>>>>> fe1b005d2ec4d7eb0bc61da731ff4fa25b905e36
       ]
      },
      {
       "output_type": "stream",
       "stream": "stdout",
       "text": [
        "\r",
<<<<<<< HEAD
        "Processed image 236 (1176)"
=======
        "Processed image 203 (714)"
>>>>>>> fe1b005d2ec4d7eb0bc61da731ff4fa25b905e36
       ]
      },
      {
       "output_type": "stream",
       "stream": "stdout",
       "text": [
        "\r",
<<<<<<< HEAD
        "Processed image 237 (1176)"
=======
        "Processed image 204 (714)"
>>>>>>> fe1b005d2ec4d7eb0bc61da731ff4fa25b905e36
       ]
      },
      {
       "output_type": "stream",
       "stream": "stdout",
       "text": [
        "\r",
<<<<<<< HEAD
        "Processed image 238 (1176)"
=======
        "Processed image 205 (714)"
>>>>>>> fe1b005d2ec4d7eb0bc61da731ff4fa25b905e36
       ]
      },
      {
       "output_type": "stream",
       "stream": "stdout",
       "text": [
        "\r",
<<<<<<< HEAD
        "Processed image 239 (1176)"
=======
        "Processed image 206 (714)"
>>>>>>> fe1b005d2ec4d7eb0bc61da731ff4fa25b905e36
       ]
      },
      {
       "output_type": "stream",
       "stream": "stdout",
       "text": [
        "\r",
<<<<<<< HEAD
        "Processed image 240 (1176)"
=======
        "Processed image 207 (714)"
>>>>>>> fe1b005d2ec4d7eb0bc61da731ff4fa25b905e36
       ]
      },
      {
       "output_type": "stream",
       "stream": "stdout",
       "text": [
        "\r",
<<<<<<< HEAD
        "Processed image 241 (1176)"
=======
        "Processed image 208 (714)"
>>>>>>> fe1b005d2ec4d7eb0bc61da731ff4fa25b905e36
       ]
      },
      {
       "output_type": "stream",
       "stream": "stdout",
       "text": [
        "\r",
<<<<<<< HEAD
        "Processed image 242 (1176)"
=======
        "Processed image 209 (714)"
>>>>>>> fe1b005d2ec4d7eb0bc61da731ff4fa25b905e36
       ]
      },
      {
       "output_type": "stream",
       "stream": "stdout",
       "text": [
        "\r",
<<<<<<< HEAD
        "Processed image 243 (1176)"
=======
        "Processed image 210 (714)"
>>>>>>> fe1b005d2ec4d7eb0bc61da731ff4fa25b905e36
       ]
      },
      {
       "output_type": "stream",
       "stream": "stdout",
       "text": [
        "\r",
<<<<<<< HEAD
        "Processed image 244 (1176)"
=======
        "Processed image 211 (714)"
>>>>>>> fe1b005d2ec4d7eb0bc61da731ff4fa25b905e36
       ]
      },
      {
       "output_type": "stream",
       "stream": "stdout",
       "text": [
        "\r",
<<<<<<< HEAD
        "Processed image 245 (1176)"
=======
        "Processed image 212 (714)"
>>>>>>> fe1b005d2ec4d7eb0bc61da731ff4fa25b905e36
       ]
      },
      {
       "output_type": "stream",
       "stream": "stdout",
       "text": [
        "\r",
<<<<<<< HEAD
        "Processed image 246 (1176)"
=======
        "Processed image 213 (714)"
>>>>>>> fe1b005d2ec4d7eb0bc61da731ff4fa25b905e36
       ]
      },
      {
       "output_type": "stream",
       "stream": "stdout",
       "text": [
        "\r",
<<<<<<< HEAD
        "Processed image 247 (1176)"
=======
        "Processed image 214 (714)"
>>>>>>> fe1b005d2ec4d7eb0bc61da731ff4fa25b905e36
       ]
      },
      {
       "output_type": "stream",
       "stream": "stdout",
       "text": [
        "\r",
<<<<<<< HEAD
        "Processed image 248 (1176)"
=======
        "Processed image 215 (714)"
>>>>>>> fe1b005d2ec4d7eb0bc61da731ff4fa25b905e36
       ]
      },
      {
       "output_type": "stream",
       "stream": "stdout",
       "text": [
        "\r",
<<<<<<< HEAD
        "Processed image 249 (1176)"
=======
        "Processed image 216 (714)"
>>>>>>> fe1b005d2ec4d7eb0bc61da731ff4fa25b905e36
       ]
      },
      {
       "output_type": "stream",
       "stream": "stdout",
       "text": [
        "\r",
<<<<<<< HEAD
        "Processed image 250 (1176)"
=======
        "Processed image 217 (714)"
>>>>>>> fe1b005d2ec4d7eb0bc61da731ff4fa25b905e36
       ]
      },
      {
       "output_type": "stream",
       "stream": "stdout",
       "text": [
        "\r",
<<<<<<< HEAD
        "Processed image 251 (1176)"
=======
        "Processed image 218 (714)"
>>>>>>> fe1b005d2ec4d7eb0bc61da731ff4fa25b905e36
       ]
      },
      {
       "output_type": "stream",
       "stream": "stdout",
       "text": [
        "\r",
<<<<<<< HEAD
        "Processed image 252 (1176)"
=======
        "Processed image 219 (714)"
>>>>>>> fe1b005d2ec4d7eb0bc61da731ff4fa25b905e36
       ]
      },
      {
       "output_type": "stream",
       "stream": "stdout",
       "text": [
        "\r",
<<<<<<< HEAD
        "Processed image 253 (1176)"
=======
        "Processed image 220 (714)"
>>>>>>> fe1b005d2ec4d7eb0bc61da731ff4fa25b905e36
       ]
      },
      {
       "output_type": "stream",
       "stream": "stdout",
       "text": [
        "\r",
<<<<<<< HEAD
        "Processed image 254 (1176)"
=======
        "Processed image 221 (714)"
>>>>>>> fe1b005d2ec4d7eb0bc61da731ff4fa25b905e36
       ]
      },
      {
       "output_type": "stream",
       "stream": "stdout",
       "text": [
        "\r",
<<<<<<< HEAD
        "Processed image 255 (1176)"
=======
        "Processed image 222 (714)"
>>>>>>> fe1b005d2ec4d7eb0bc61da731ff4fa25b905e36
       ]
      },
      {
       "output_type": "stream",
       "stream": "stdout",
       "text": [
        "\r",
<<<<<<< HEAD
        "Processed image 256 (1176)"
=======
        "Processed image 223 (714)"
>>>>>>> fe1b005d2ec4d7eb0bc61da731ff4fa25b905e36
       ]
      },
      {
       "output_type": "stream",
       "stream": "stdout",
       "text": [
        "\r",
<<<<<<< HEAD
        "Processed image 257 (1176)"
=======
        "Processed image 224 (714)"
>>>>>>> fe1b005d2ec4d7eb0bc61da731ff4fa25b905e36
       ]
      },
      {
       "output_type": "stream",
       "stream": "stdout",
       "text": [
        "\r",
<<<<<<< HEAD
        "Processed image 258 (1176)"
=======
        "Processed image 225 (714)"
>>>>>>> fe1b005d2ec4d7eb0bc61da731ff4fa25b905e36
       ]
      },
      {
       "output_type": "stream",
       "stream": "stdout",
       "text": [
        "\r",
<<<<<<< HEAD
        "Processed image 259 (1176)"
=======
        "Processed image 226 (714)"
>>>>>>> fe1b005d2ec4d7eb0bc61da731ff4fa25b905e36
       ]
      },
      {
       "output_type": "stream",
       "stream": "stdout",
       "text": [
        "\r",
<<<<<<< HEAD
        "Processed image 260 (1176)"
=======
        "Processed image 227 (714)"
>>>>>>> fe1b005d2ec4d7eb0bc61da731ff4fa25b905e36
       ]
      },
      {
       "output_type": "stream",
       "stream": "stdout",
       "text": [
        "\r",
<<<<<<< HEAD
        "Processed image 261 (1176)"
=======
        "Processed image 228 (714)"
>>>>>>> fe1b005d2ec4d7eb0bc61da731ff4fa25b905e36
       ]
      },
      {
       "output_type": "stream",
       "stream": "stdout",
       "text": [
        "\r",
<<<<<<< HEAD
        "Processed image 262 (1176)"
=======
        "Processed image 229 (714)"
>>>>>>> fe1b005d2ec4d7eb0bc61da731ff4fa25b905e36
       ]
      },
      {
       "output_type": "stream",
       "stream": "stdout",
       "text": [
        "\r",
<<<<<<< HEAD
        "Processed image 263 (1176)"
=======
        "Processed image 230 (714)"
>>>>>>> fe1b005d2ec4d7eb0bc61da731ff4fa25b905e36
       ]
      },
      {
       "output_type": "stream",
       "stream": "stdout",
       "text": [
        "\r",
<<<<<<< HEAD
        "Processed image 264 (1176)"
=======
        "Processed image 231 (714)"
>>>>>>> fe1b005d2ec4d7eb0bc61da731ff4fa25b905e36
       ]
      },
      {
       "output_type": "stream",
       "stream": "stdout",
       "text": [
        "\r",
<<<<<<< HEAD
        "Processed image 265 (1176)"
=======
        "Processed image 232 (714)"
>>>>>>> fe1b005d2ec4d7eb0bc61da731ff4fa25b905e36
       ]
      },
      {
       "output_type": "stream",
       "stream": "stdout",
       "text": [
        "\r",
<<<<<<< HEAD
        "Processed image 266 (1176)"
=======
        "Processed image 233 (714)"
>>>>>>> fe1b005d2ec4d7eb0bc61da731ff4fa25b905e36
       ]
      },
      {
       "output_type": "stream",
       "stream": "stdout",
       "text": [
        "\r",
<<<<<<< HEAD
        "Processed image 267 (1176)"
=======
        "Processed image 234 (714)"
>>>>>>> fe1b005d2ec4d7eb0bc61da731ff4fa25b905e36
       ]
      },
      {
       "output_type": "stream",
       "stream": "stdout",
       "text": [
        "\r",
<<<<<<< HEAD
        "Processed image 268 (1176)"
=======
        "Processed image 235 (714)"
>>>>>>> fe1b005d2ec4d7eb0bc61da731ff4fa25b905e36
       ]
      },
      {
       "output_type": "stream",
       "stream": "stdout",
       "text": [
        "\r",
<<<<<<< HEAD
        "Processed image 269 (1176)"
=======
        "Processed image 236 (714)"
>>>>>>> fe1b005d2ec4d7eb0bc61da731ff4fa25b905e36
       ]
      },
      {
       "output_type": "stream",
       "stream": "stdout",
       "text": [
        "\r",
<<<<<<< HEAD
        "Processed image 270 (1176)"
=======
        "Processed image 237 (714)"
>>>>>>> fe1b005d2ec4d7eb0bc61da731ff4fa25b905e36
       ]
      },
      {
       "output_type": "stream",
       "stream": "stdout",
       "text": [
        "\r",
<<<<<<< HEAD
        "Processed image 271 (1176)"
=======
        "Processed image 238 (714)"
>>>>>>> fe1b005d2ec4d7eb0bc61da731ff4fa25b905e36
       ]
      },
      {
       "output_type": "stream",
       "stream": "stdout",
       "text": [
        "\r",
<<<<<<< HEAD
        "Processed image 272 (1176)"
=======
        "Processed image 239 (714)"
>>>>>>> fe1b005d2ec4d7eb0bc61da731ff4fa25b905e36
       ]
      },
      {
       "output_type": "stream",
       "stream": "stdout",
       "text": [
        "\r",
<<<<<<< HEAD
        "Processed image 273 (1176)"
=======
        "Processed image 240 (714)"
>>>>>>> fe1b005d2ec4d7eb0bc61da731ff4fa25b905e36
       ]
      },
      {
       "output_type": "stream",
       "stream": "stdout",
       "text": [
        "\r",
<<<<<<< HEAD
        "Processed image 274 (1176)"
=======
        "Processed image 241 (714)"
>>>>>>> fe1b005d2ec4d7eb0bc61da731ff4fa25b905e36
       ]
      },
      {
       "output_type": "stream",
       "stream": "stdout",
       "text": [
        "\r",
<<<<<<< HEAD
        "Processed image 275 (1176)"
=======
        "Processed image 242 (714)"
>>>>>>> fe1b005d2ec4d7eb0bc61da731ff4fa25b905e36
       ]
      },
      {
       "output_type": "stream",
       "stream": "stdout",
       "text": [
        "\r",
<<<<<<< HEAD
        "Processed image 276 (1176)"
=======
        "Processed image 243 (714)"
>>>>>>> fe1b005d2ec4d7eb0bc61da731ff4fa25b905e36
       ]
      },
      {
       "output_type": "stream",
       "stream": "stdout",
       "text": [
        "\r",
<<<<<<< HEAD
        "Processed image 277 (1176)"
=======
        "Processed image 244 (714)"
>>>>>>> fe1b005d2ec4d7eb0bc61da731ff4fa25b905e36
       ]
      },
      {
       "output_type": "stream",
       "stream": "stdout",
       "text": [
        "\r",
<<<<<<< HEAD
        "Processed image 278 (1176)"
=======
        "Processed image 245 (714)"
>>>>>>> fe1b005d2ec4d7eb0bc61da731ff4fa25b905e36
       ]
      },
      {
       "output_type": "stream",
       "stream": "stdout",
       "text": [
        "\r",
<<<<<<< HEAD
        "Processed image 279 (1176)"
=======
        "Processed image 246 (714)"
>>>>>>> fe1b005d2ec4d7eb0bc61da731ff4fa25b905e36
       ]
      },
      {
       "output_type": "stream",
       "stream": "stdout",
       "text": [
        "\r",
<<<<<<< HEAD
        "Processed image 280 (1176)"
=======
        "Processed image 247 (714)"
>>>>>>> fe1b005d2ec4d7eb0bc61da731ff4fa25b905e36
       ]
      },
      {
       "output_type": "stream",
       "stream": "stdout",
       "text": [
        "\r",
<<<<<<< HEAD
        "Processed image 281 (1176)"
=======
        "Processed image 248 (714)"
>>>>>>> fe1b005d2ec4d7eb0bc61da731ff4fa25b905e36
       ]
      },
      {
       "output_type": "stream",
       "stream": "stdout",
       "text": [
        "\r",
<<<<<<< HEAD
        "Processed image 282 (1176)"
=======
        "Processed image 249 (714)"
>>>>>>> fe1b005d2ec4d7eb0bc61da731ff4fa25b905e36
       ]
      },
      {
       "output_type": "stream",
       "stream": "stdout",
       "text": [
        "\r",
<<<<<<< HEAD
        "Processed image 283 (1176)"
=======
        "Processed image 250 (714)"
>>>>>>> fe1b005d2ec4d7eb0bc61da731ff4fa25b905e36
       ]
      },
      {
       "output_type": "stream",
       "stream": "stdout",
       "text": [
        "\r",
<<<<<<< HEAD
        "Processed image 284 (1176)"
=======
        "Processed image 251 (714)"
>>>>>>> fe1b005d2ec4d7eb0bc61da731ff4fa25b905e36
       ]
      },
      {
       "output_type": "stream",
       "stream": "stdout",
       "text": [
        "\r",
<<<<<<< HEAD
        "Processed image 285 (1176)"
=======
        "Processed image 252 (714)"
>>>>>>> fe1b005d2ec4d7eb0bc61da731ff4fa25b905e36
       ]
      },
      {
       "output_type": "stream",
       "stream": "stdout",
       "text": [
        "\r",
<<<<<<< HEAD
        "Processed image 286 (1176)"
=======
        "Processed image 253 (714)"
>>>>>>> fe1b005d2ec4d7eb0bc61da731ff4fa25b905e36
       ]
      },
      {
       "output_type": "stream",
       "stream": "stdout",
       "text": [
        "\r",
<<<<<<< HEAD
        "Processed image 287 (1176)"
=======
        "Processed image 254 (714)"
>>>>>>> fe1b005d2ec4d7eb0bc61da731ff4fa25b905e36
       ]
      },
      {
       "output_type": "stream",
       "stream": "stdout",
       "text": [
        "\r",
<<<<<<< HEAD
        "Processed image 288 (1176)"
=======
        "Processed image 255 (714)"
>>>>>>> fe1b005d2ec4d7eb0bc61da731ff4fa25b905e36
       ]
      },
      {
       "output_type": "stream",
       "stream": "stdout",
       "text": [
        "\r",
<<<<<<< HEAD
        "Processed image 289 (1176)"
=======
        "Processed image 256 (714)"
>>>>>>> fe1b005d2ec4d7eb0bc61da731ff4fa25b905e36
       ]
      },
      {
       "output_type": "stream",
       "stream": "stdout",
       "text": [
        "\r",
<<<<<<< HEAD
        "Processed image 290 (1176)"
=======
        "Processed image 257 (714)"
>>>>>>> fe1b005d2ec4d7eb0bc61da731ff4fa25b905e36
       ]
      },
      {
       "output_type": "stream",
       "stream": "stdout",
       "text": [
        "\r",
<<<<<<< HEAD
        "Processed image 291 (1176)"
=======
        "Processed image 258 (714)"
>>>>>>> fe1b005d2ec4d7eb0bc61da731ff4fa25b905e36
       ]
      },
      {
       "output_type": "stream",
       "stream": "stdout",
       "text": [
        "\r",
<<<<<<< HEAD
        "Processed image 292 (1176)"
=======
        "Processed image 259 (714)"
>>>>>>> fe1b005d2ec4d7eb0bc61da731ff4fa25b905e36
       ]
      },
      {
       "output_type": "stream",
       "stream": "stdout",
       "text": [
        "\r",
<<<<<<< HEAD
        "Processed image 293 (1176)"
=======
        "Processed image 260 (714)"
>>>>>>> fe1b005d2ec4d7eb0bc61da731ff4fa25b905e36
       ]
      },
      {
       "output_type": "stream",
       "stream": "stdout",
       "text": [
        "\r",
<<<<<<< HEAD
        "Processed image 294 (1176)"
=======
        "Processed image 261 (714)"
>>>>>>> fe1b005d2ec4d7eb0bc61da731ff4fa25b905e36
       ]
      },
      {
       "output_type": "stream",
       "stream": "stdout",
       "text": [
        "\r",
<<<<<<< HEAD
        "Processed image 295 (1176)"
=======
        "Processed image 262 (714)"
>>>>>>> fe1b005d2ec4d7eb0bc61da731ff4fa25b905e36
       ]
      },
      {
       "output_type": "stream",
       "stream": "stdout",
       "text": [
        "\r",
<<<<<<< HEAD
        "Processed image 296 (1176)"
=======
        "Processed image 263 (714)"
>>>>>>> fe1b005d2ec4d7eb0bc61da731ff4fa25b905e36
       ]
      },
      {
       "output_type": "stream",
       "stream": "stdout",
       "text": [
        "\r",
<<<<<<< HEAD
        "Processed image 297 (1176)"
=======
        "Processed image 264 (714)"
>>>>>>> fe1b005d2ec4d7eb0bc61da731ff4fa25b905e36
       ]
      },
      {
       "output_type": "stream",
       "stream": "stdout",
       "text": [
        "\r",
<<<<<<< HEAD
        "Processed image 298 (1176)"
=======
        "Processed image 265 (714)"
>>>>>>> fe1b005d2ec4d7eb0bc61da731ff4fa25b905e36
       ]
      },
      {
       "output_type": "stream",
       "stream": "stdout",
       "text": [
        "\r",
<<<<<<< HEAD
        "Processed image 299 (1176)"
=======
        "Processed image 266 (714)"
>>>>>>> fe1b005d2ec4d7eb0bc61da731ff4fa25b905e36
       ]
      },
      {
       "output_type": "stream",
       "stream": "stdout",
       "text": [
        "\r",
<<<<<<< HEAD
        "Processed image 300 (1176)"
=======
        "Processed image 267 (714)"
>>>>>>> fe1b005d2ec4d7eb0bc61da731ff4fa25b905e36
       ]
      },
      {
       "output_type": "stream",
       "stream": "stdout",
       "text": [
        "\r",
<<<<<<< HEAD
        "Processed image 301 (1176)"
=======
        "Processed image 268 (714)"
>>>>>>> fe1b005d2ec4d7eb0bc61da731ff4fa25b905e36
       ]
      },
      {
       "output_type": "stream",
       "stream": "stdout",
       "text": [
        "\r",
<<<<<<< HEAD
        "Processed image 302 (1176)"
=======
        "Processed image 269 (714)"
>>>>>>> fe1b005d2ec4d7eb0bc61da731ff4fa25b905e36
       ]
      },
      {
       "output_type": "stream",
       "stream": "stdout",
       "text": [
        "\r",
<<<<<<< HEAD
        "Processed image 303 (1176)"
=======
        "Processed image 270 (714)"
>>>>>>> fe1b005d2ec4d7eb0bc61da731ff4fa25b905e36
       ]
      },
      {
       "output_type": "stream",
       "stream": "stdout",
       "text": [
        "\r",
<<<<<<< HEAD
        "Processed image 304 (1176)"
=======
        "Processed image 271 (714)"
>>>>>>> fe1b005d2ec4d7eb0bc61da731ff4fa25b905e36
       ]
      },
      {
       "output_type": "stream",
       "stream": "stdout",
       "text": [
        "\r",
<<<<<<< HEAD
        "Processed image 305 (1176)"
=======
        "Processed image 272 (714)"
>>>>>>> fe1b005d2ec4d7eb0bc61da731ff4fa25b905e36
       ]
      },
      {
       "output_type": "stream",
       "stream": "stdout",
       "text": [
        "\r",
<<<<<<< HEAD
        "Processed image 306 (1176)"
=======
        "Processed image 273 (714)"
>>>>>>> fe1b005d2ec4d7eb0bc61da731ff4fa25b905e36
       ]
      },
      {
       "output_type": "stream",
       "stream": "stdout",
       "text": [
        "\r",
<<<<<<< HEAD
        "Processed image 307 (1176)"
=======
        "Processed image 274 (714)"
>>>>>>> fe1b005d2ec4d7eb0bc61da731ff4fa25b905e36
       ]
      },
      {
       "output_type": "stream",
       "stream": "stdout",
       "text": [
        "\r",
<<<<<<< HEAD
        "Processed image 308 (1176)"
=======
        "Processed image 275 (714)"
>>>>>>> fe1b005d2ec4d7eb0bc61da731ff4fa25b905e36
       ]
      },
      {
       "output_type": "stream",
       "stream": "stdout",
       "text": [
        "\r",
<<<<<<< HEAD
        "Processed image 309 (1176)"
=======
        "Processed image 276 (714)"
>>>>>>> fe1b005d2ec4d7eb0bc61da731ff4fa25b905e36
       ]
      },
      {
       "output_type": "stream",
       "stream": "stdout",
       "text": [
        "\r",
<<<<<<< HEAD
        "Processed image 310 (1176)"
=======
        "Processed image 277 (714)"
>>>>>>> fe1b005d2ec4d7eb0bc61da731ff4fa25b905e36
       ]
      },
      {
       "output_type": "stream",
       "stream": "stdout",
       "text": [
        "\r",
<<<<<<< HEAD
        "Processed image 311 (1176)"
=======
        "Processed image 278 (714)"
>>>>>>> fe1b005d2ec4d7eb0bc61da731ff4fa25b905e36
       ]
      },
      {
       "output_type": "stream",
       "stream": "stdout",
       "text": [
        "\r",
<<<<<<< HEAD
        "Processed image 312 (1176)"
=======
        "Processed image 279 (714)"
>>>>>>> fe1b005d2ec4d7eb0bc61da731ff4fa25b905e36
       ]
      },
      {
       "output_type": "stream",
       "stream": "stdout",
       "text": [
        "\r",
<<<<<<< HEAD
        "Processed image 313 (1176)"
=======
        "Processed image 280 (714)"
>>>>>>> fe1b005d2ec4d7eb0bc61da731ff4fa25b905e36
       ]
      },
      {
       "output_type": "stream",
       "stream": "stdout",
       "text": [
        "\r",
<<<<<<< HEAD
        "Processed image 314 (1176)"
=======
        "Processed image 281 (714)"
>>>>>>> fe1b005d2ec4d7eb0bc61da731ff4fa25b905e36
       ]
      },
      {
       "output_type": "stream",
       "stream": "stdout",
       "text": [
        "\r",
<<<<<<< HEAD
        "Processed image 315 (1176)"
=======
        "Processed image 282 (714)"
>>>>>>> fe1b005d2ec4d7eb0bc61da731ff4fa25b905e36
       ]
      },
      {
       "output_type": "stream",
       "stream": "stdout",
       "text": [
        "\r",
<<<<<<< HEAD
        "Processed image 316 (1176)"
=======
        "Processed image 283 (714)"
>>>>>>> fe1b005d2ec4d7eb0bc61da731ff4fa25b905e36
       ]
      },
      {
       "output_type": "stream",
       "stream": "stdout",
       "text": [
        "\r",
<<<<<<< HEAD
        "Processed image 317 (1176)"
=======
        "Processed image 284 (714)"
>>>>>>> fe1b005d2ec4d7eb0bc61da731ff4fa25b905e36
       ]
      },
      {
       "output_type": "stream",
       "stream": "stdout",
       "text": [
        "\r",
<<<<<<< HEAD
        "Processed image 318 (1176)"
=======
        "Processed image 285 (714)"
>>>>>>> fe1b005d2ec4d7eb0bc61da731ff4fa25b905e36
       ]
      },
      {
       "output_type": "stream",
       "stream": "stdout",
       "text": [
        "\r",
<<<<<<< HEAD
        "Processed image 319 (1176)"
=======
        "Processed image 286 (714)"
>>>>>>> fe1b005d2ec4d7eb0bc61da731ff4fa25b905e36
       ]
      },
      {
       "output_type": "stream",
       "stream": "stdout",
       "text": [
        "\r",
<<<<<<< HEAD
        "Processed image 320 (1176)"
=======
        "Processed image 287 (714)"
>>>>>>> fe1b005d2ec4d7eb0bc61da731ff4fa25b905e36
       ]
      },
      {
       "output_type": "stream",
       "stream": "stdout",
       "text": [
        "\r",
<<<<<<< HEAD
        "Processed image 321 (1176)"
=======
        "Processed image 288 (714)"
>>>>>>> fe1b005d2ec4d7eb0bc61da731ff4fa25b905e36
       ]
      },
      {
       "output_type": "stream",
       "stream": "stdout",
       "text": [
        "\r",
<<<<<<< HEAD
        "Processed image 322 (1176)"
=======
        "Processed image 289 (714)"
>>>>>>> fe1b005d2ec4d7eb0bc61da731ff4fa25b905e36
       ]
      },
      {
       "output_type": "stream",
       "stream": "stdout",
       "text": [
        "\r",
<<<<<<< HEAD
        "Processed image 323 (1176)"
=======
        "Processed image 290 (714)"
>>>>>>> fe1b005d2ec4d7eb0bc61da731ff4fa25b905e36
       ]
      },
      {
       "output_type": "stream",
       "stream": "stdout",
       "text": [
        "\r",
<<<<<<< HEAD
        "Processed image 324 (1176)"
=======
        "Processed image 291 (714)"
>>>>>>> fe1b005d2ec4d7eb0bc61da731ff4fa25b905e36
       ]
      },
      {
       "output_type": "stream",
       "stream": "stdout",
       "text": [
        "\r",
<<<<<<< HEAD
        "Processed image 325 (1176)"
=======
        "Processed image 292 (714)"
>>>>>>> fe1b005d2ec4d7eb0bc61da731ff4fa25b905e36
       ]
      },
      {
       "output_type": "stream",
       "stream": "stdout",
       "text": [
        "\r",
<<<<<<< HEAD
        "Processed image 326 (1176)"
=======
        "Processed image 293 (714)"
>>>>>>> fe1b005d2ec4d7eb0bc61da731ff4fa25b905e36
       ]
      },
      {
       "output_type": "stream",
       "stream": "stdout",
       "text": [
        "\r",
<<<<<<< HEAD
        "Processed image 327 (1176)"
=======
        "Processed image 294 (714)"
>>>>>>> fe1b005d2ec4d7eb0bc61da731ff4fa25b905e36
       ]
      },
      {
       "output_type": "stream",
       "stream": "stdout",
       "text": [
        "\r",
<<<<<<< HEAD
        "Processed image 328 (1176)"
=======
        "Processed image 295 (714)"
>>>>>>> fe1b005d2ec4d7eb0bc61da731ff4fa25b905e36
       ]
      },
      {
       "output_type": "stream",
       "stream": "stdout",
       "text": [
        "\r",
<<<<<<< HEAD
        "Processed image 329 (1176)"
=======
        "Processed image 296 (714)"
>>>>>>> fe1b005d2ec4d7eb0bc61da731ff4fa25b905e36
       ]
      },
      {
       "output_type": "stream",
       "stream": "stdout",
       "text": [
        "\r",
<<<<<<< HEAD
        "Processed image 330 (1176)"
=======
        "Processed image 297 (714)"
>>>>>>> fe1b005d2ec4d7eb0bc61da731ff4fa25b905e36
       ]
      },
      {
       "output_type": "stream",
       "stream": "stdout",
       "text": [
        "\r",
<<<<<<< HEAD
        "Processed image 331 (1176)"
=======
        "Processed image 298 (714)"
>>>>>>> fe1b005d2ec4d7eb0bc61da731ff4fa25b905e36
       ]
      },
      {
       "output_type": "stream",
       "stream": "stdout",
       "text": [
        "\r",
<<<<<<< HEAD
        "Processed image 332 (1176)"
=======
        "Processed image 299 (714)"
>>>>>>> fe1b005d2ec4d7eb0bc61da731ff4fa25b905e36
       ]
      },
      {
       "output_type": "stream",
       "stream": "stdout",
       "text": [
        "\r",
<<<<<<< HEAD
        "Processed image 333 (1176)"
=======
        "Processed image 300 (714)"
>>>>>>> fe1b005d2ec4d7eb0bc61da731ff4fa25b905e36
       ]
      },
      {
       "output_type": "stream",
       "stream": "stdout",
       "text": [
        "\r",
<<<<<<< HEAD
        "Processed image 334 (1176)"
=======
        "Processed image 301 (714)"
>>>>>>> fe1b005d2ec4d7eb0bc61da731ff4fa25b905e36
       ]
      },
      {
       "output_type": "stream",
       "stream": "stdout",
       "text": [
        "\r",
<<<<<<< HEAD
        "Processed image 335 (1176)"
=======
        "Processed image 302 (714)"
>>>>>>> fe1b005d2ec4d7eb0bc61da731ff4fa25b905e36
       ]
      },
      {
       "output_type": "stream",
       "stream": "stdout",
       "text": [
        "\r",
<<<<<<< HEAD
        "Processed image 336 (1176)"
=======
        "Processed image 303 (714)"
>>>>>>> fe1b005d2ec4d7eb0bc61da731ff4fa25b905e36
       ]
      },
      {
       "output_type": "stream",
       "stream": "stdout",
       "text": [
        "\r",
<<<<<<< HEAD
        "Processed image 337 (1176)"
=======
        "Processed image 304 (714)"
>>>>>>> fe1b005d2ec4d7eb0bc61da731ff4fa25b905e36
       ]
      },
      {
       "output_type": "stream",
       "stream": "stdout",
       "text": [
        "\r",
<<<<<<< HEAD
        "Processed image 338 (1176)"
=======
        "Processed image 305 (714)"
>>>>>>> fe1b005d2ec4d7eb0bc61da731ff4fa25b905e36
       ]
      },
      {
       "output_type": "stream",
       "stream": "stdout",
       "text": [
        "\r",
<<<<<<< HEAD
        "Processed image 339 (1176)"
=======
        "Processed image 306 (714)"
>>>>>>> fe1b005d2ec4d7eb0bc61da731ff4fa25b905e36
       ]
      },
      {
       "output_type": "stream",
       "stream": "stdout",
       "text": [
        "\r",
<<<<<<< HEAD
        "Processed image 340 (1176)"
=======
        "Processed image 307 (714)"
>>>>>>> fe1b005d2ec4d7eb0bc61da731ff4fa25b905e36
       ]
      },
      {
       "output_type": "stream",
       "stream": "stdout",
       "text": [
        "\r",
<<<<<<< HEAD
        "Processed image 341 (1176)"
=======
        "Processed image 308 (714)"
>>>>>>> fe1b005d2ec4d7eb0bc61da731ff4fa25b905e36
       ]
      },
      {
       "output_type": "stream",
       "stream": "stdout",
       "text": [
        "\r",
<<<<<<< HEAD
        "Processed image 342 (1176)"
=======
        "Processed image 309 (714)"
>>>>>>> fe1b005d2ec4d7eb0bc61da731ff4fa25b905e36
       ]
      },
      {
       "output_type": "stream",
       "stream": "stdout",
       "text": [
        "\r",
<<<<<<< HEAD
        "Processed image 343 (1176)"
=======
        "Processed image 310 (714)"
>>>>>>> fe1b005d2ec4d7eb0bc61da731ff4fa25b905e36
       ]
      },
      {
       "output_type": "stream",
       "stream": "stdout",
       "text": [
        "\r",
<<<<<<< HEAD
        "Processed image 344 (1176)"
=======
        "Processed image 311 (714)"
>>>>>>> fe1b005d2ec4d7eb0bc61da731ff4fa25b905e36
       ]
      },
      {
       "output_type": "stream",
       "stream": "stdout",
       "text": [
        "\r",
<<<<<<< HEAD
        "Processed image 345 (1176)"
=======
        "Processed image 312 (714)"
>>>>>>> fe1b005d2ec4d7eb0bc61da731ff4fa25b905e36
       ]
      },
      {
       "output_type": "stream",
       "stream": "stdout",
       "text": [
        "\r",
<<<<<<< HEAD
        "Processed image 346 (1176)"
=======
        "Processed image 313 (714)"
>>>>>>> fe1b005d2ec4d7eb0bc61da731ff4fa25b905e36
       ]
      },
      {
       "output_type": "stream",
       "stream": "stdout",
       "text": [
        "\r",
<<<<<<< HEAD
        "Processed image 347 (1176)"
=======
        "Processed image 314 (714)"
>>>>>>> fe1b005d2ec4d7eb0bc61da731ff4fa25b905e36
       ]
      },
      {
       "output_type": "stream",
       "stream": "stdout",
       "text": [
        "\r",
<<<<<<< HEAD
        "Processed image 348 (1176)"
=======
        "Processed image 315 (714)"
>>>>>>> fe1b005d2ec4d7eb0bc61da731ff4fa25b905e36
       ]
      },
      {
       "output_type": "stream",
       "stream": "stdout",
       "text": [
        "\r",
<<<<<<< HEAD
        "Processed image 349 (1176)"
=======
        "Processed image 316 (714)"
>>>>>>> fe1b005d2ec4d7eb0bc61da731ff4fa25b905e36
       ]
      },
      {
       "output_type": "stream",
       "stream": "stdout",
       "text": [
        "\r",
<<<<<<< HEAD
        "Processed image 350 (1176)"
=======
        "Processed image 317 (714)"
>>>>>>> fe1b005d2ec4d7eb0bc61da731ff4fa25b905e36
       ]
      },
      {
       "output_type": "stream",
       "stream": "stdout",
       "text": [
        "\r",
<<<<<<< HEAD
        "Processed image 351 (1176)"
=======
        "Processed image 318 (714)"
>>>>>>> fe1b005d2ec4d7eb0bc61da731ff4fa25b905e36
       ]
      },
      {
       "output_type": "stream",
       "stream": "stdout",
       "text": [
        "\r",
<<<<<<< HEAD
        "Processed image 352 (1176)"
=======
        "Processed image 319 (714)"
>>>>>>> fe1b005d2ec4d7eb0bc61da731ff4fa25b905e36
       ]
      },
      {
       "output_type": "stream",
       "stream": "stdout",
       "text": [
        "\r",
<<<<<<< HEAD
        "Processed image 353 (1176)"
=======
        "Processed image 320 (714)"
>>>>>>> fe1b005d2ec4d7eb0bc61da731ff4fa25b905e36
       ]
      },
      {
       "output_type": "stream",
       "stream": "stdout",
       "text": [
        "\r",
<<<<<<< HEAD
        "Processed image 354 (1176)"
=======
        "Processed image 321 (714)"
>>>>>>> fe1b005d2ec4d7eb0bc61da731ff4fa25b905e36
       ]
      },
      {
       "output_type": "stream",
       "stream": "stdout",
       "text": [
        "\r",
<<<<<<< HEAD
        "Processed image 355 (1176)"
=======
        "Processed image 322 (714)"
>>>>>>> fe1b005d2ec4d7eb0bc61da731ff4fa25b905e36
       ]
      },
      {
       "output_type": "stream",
       "stream": "stdout",
       "text": [
        "\r",
<<<<<<< HEAD
        "Processed image 356 (1176)"
=======
        "Processed image 323 (714)"
>>>>>>> fe1b005d2ec4d7eb0bc61da731ff4fa25b905e36
       ]
      },
      {
       "output_type": "stream",
       "stream": "stdout",
       "text": [
        "\r",
<<<<<<< HEAD
        "Processed image 357 (1176)"
=======
        "Processed image 324 (714)"
>>>>>>> fe1b005d2ec4d7eb0bc61da731ff4fa25b905e36
       ]
      },
      {
       "output_type": "stream",
       "stream": "stdout",
       "text": [
        "\r",
<<<<<<< HEAD
        "Processed image 358 (1176)"
=======
        "Processed image 325 (714)"
>>>>>>> fe1b005d2ec4d7eb0bc61da731ff4fa25b905e36
       ]
      },
      {
       "output_type": "stream",
       "stream": "stdout",
       "text": [
        "\r",
<<<<<<< HEAD
        "Processed image 359 (1176)"
=======
        "Processed image 326 (714)"
>>>>>>> fe1b005d2ec4d7eb0bc61da731ff4fa25b905e36
       ]
      },
      {
       "output_type": "stream",
       "stream": "stdout",
       "text": [
        "\r",
<<<<<<< HEAD
        "Processed image 360 (1176)"
=======
        "Processed image 327 (714)"
>>>>>>> fe1b005d2ec4d7eb0bc61da731ff4fa25b905e36
       ]
      },
      {
       "output_type": "stream",
       "stream": "stdout",
       "text": [
        "\r",
<<<<<<< HEAD
        "Processed image 361 (1176)"
=======
        "Processed image 328 (714)"
>>>>>>> fe1b005d2ec4d7eb0bc61da731ff4fa25b905e36
       ]
      },
      {
       "output_type": "stream",
       "stream": "stdout",
       "text": [
        "\r",
<<<<<<< HEAD
        "Processed image 362 (1176)"
=======
        "Processed image 329 (714)"
>>>>>>> fe1b005d2ec4d7eb0bc61da731ff4fa25b905e36
       ]
      },
      {
       "output_type": "stream",
       "stream": "stdout",
       "text": [
        "\r",
<<<<<<< HEAD
        "Processed image 363 (1176)"
=======
        "Processed image 330 (714)"
>>>>>>> fe1b005d2ec4d7eb0bc61da731ff4fa25b905e36
       ]
      },
      {
       "output_type": "stream",
       "stream": "stdout",
       "text": [
        "\r",
<<<<<<< HEAD
        "Processed image 364 (1176)"
=======
        "Processed image 331 (714)"
>>>>>>> fe1b005d2ec4d7eb0bc61da731ff4fa25b905e36
       ]
      },
      {
       "output_type": "stream",
       "stream": "stdout",
       "text": [
        "\r",
<<<<<<< HEAD
        "Processed image 365 (1176)"
=======
        "Processed image 332 (714)"
>>>>>>> fe1b005d2ec4d7eb0bc61da731ff4fa25b905e36
       ]
      },
      {
       "output_type": "stream",
       "stream": "stdout",
       "text": [
        "\r",
<<<<<<< HEAD
        "Processed image 366 (1176)"
=======
        "Processed image 333 (714)"
>>>>>>> fe1b005d2ec4d7eb0bc61da731ff4fa25b905e36
       ]
      },
      {
       "output_type": "stream",
       "stream": "stdout",
       "text": [
        "\r",
<<<<<<< HEAD
        "Processed image 367 (1176)"
=======
        "Processed image 334 (714)"
>>>>>>> fe1b005d2ec4d7eb0bc61da731ff4fa25b905e36
       ]
      },
      {
       "output_type": "stream",
       "stream": "stdout",
       "text": [
        "\r",
<<<<<<< HEAD
        "Processed image 368 (1176)"
=======
        "Processed image 335 (714)"
>>>>>>> fe1b005d2ec4d7eb0bc61da731ff4fa25b905e36
       ]
      },
      {
       "output_type": "stream",
       "stream": "stdout",
       "text": [
        "\r",
<<<<<<< HEAD
        "Processed image 369 (1176)"
=======
        "Processed image 336 (714)"
>>>>>>> fe1b005d2ec4d7eb0bc61da731ff4fa25b905e36
       ]
      },
      {
       "output_type": "stream",
       "stream": "stdout",
       "text": [
        "\r",
<<<<<<< HEAD
        "Processed image 370 (1176)"
=======
        "Processed image 337 (714)"
>>>>>>> fe1b005d2ec4d7eb0bc61da731ff4fa25b905e36
       ]
      },
      {
       "output_type": "stream",
       "stream": "stdout",
       "text": [
        "\r",
<<<<<<< HEAD
        "Processed image 371 (1176)"
=======
        "Processed image 338 (714)"
>>>>>>> fe1b005d2ec4d7eb0bc61da731ff4fa25b905e36
       ]
      },
      {
       "output_type": "stream",
       "stream": "stdout",
       "text": [
        "\r",
<<<<<<< HEAD
        "Processed image 372 (1176)"
=======
        "Processed image 339 (714)"
>>>>>>> fe1b005d2ec4d7eb0bc61da731ff4fa25b905e36
       ]
      },
      {
       "output_type": "stream",
       "stream": "stdout",
       "text": [
        "\r",
<<<<<<< HEAD
        "Processed image 373 (1176)"
=======
        "Processed image 340 (714)"
>>>>>>> fe1b005d2ec4d7eb0bc61da731ff4fa25b905e36
       ]
      },
      {
       "output_type": "stream",
       "stream": "stdout",
       "text": [
        "\r",
<<<<<<< HEAD
        "Processed image 374 (1176)"
=======
        "Processed image 341 (714)"
>>>>>>> fe1b005d2ec4d7eb0bc61da731ff4fa25b905e36
       ]
      },
      {
       "output_type": "stream",
       "stream": "stdout",
       "text": [
        "\r",
<<<<<<< HEAD
        "Processed image 375 (1176)"
=======
        "Processed image 342 (714)"
>>>>>>> fe1b005d2ec4d7eb0bc61da731ff4fa25b905e36
       ]
      },
      {
       "output_type": "stream",
       "stream": "stdout",
       "text": [
        "\r",
<<<<<<< HEAD
        "Processed image 376 (1176)"
=======
        "Processed image 343 (714)"
>>>>>>> fe1b005d2ec4d7eb0bc61da731ff4fa25b905e36
       ]
      },
      {
       "output_type": "stream",
       "stream": "stdout",
       "text": [
        "\r",
<<<<<<< HEAD
        "Processed image 377 (1176)"
=======
        "Processed image 344 (714)"
>>>>>>> fe1b005d2ec4d7eb0bc61da731ff4fa25b905e36
       ]
      },
      {
       "output_type": "stream",
       "stream": "stdout",
       "text": [
        "\r",
<<<<<<< HEAD
        "Processed image 378 (1176)"
=======
        "Processed image 345 (714)"
>>>>>>> fe1b005d2ec4d7eb0bc61da731ff4fa25b905e36
       ]
      },
      {
       "output_type": "stream",
       "stream": "stdout",
       "text": [
        "\r",
<<<<<<< HEAD
        "Processed image 379 (1176)"
=======
        "Processed image 346 (714)"
>>>>>>> fe1b005d2ec4d7eb0bc61da731ff4fa25b905e36
       ]
      },
      {
       "output_type": "stream",
       "stream": "stdout",
       "text": [
        "\r",
<<<<<<< HEAD
        "Processed image 380 (1176)"
=======
        "Processed image 347 (714)"
>>>>>>> fe1b005d2ec4d7eb0bc61da731ff4fa25b905e36
       ]
      },
      {
       "output_type": "stream",
       "stream": "stdout",
       "text": [
        "\r",
<<<<<<< HEAD
        "Processed image 381 (1176)"
=======
        "Processed image 348 (714)"
>>>>>>> fe1b005d2ec4d7eb0bc61da731ff4fa25b905e36
       ]
      },
      {
       "output_type": "stream",
       "stream": "stdout",
       "text": [
        "\r",
<<<<<<< HEAD
        "Processed image 382 (1176)"
=======
        "Processed image 349 (714)"
>>>>>>> fe1b005d2ec4d7eb0bc61da731ff4fa25b905e36
       ]
      },
      {
       "output_type": "stream",
       "stream": "stdout",
       "text": [
        "\r",
<<<<<<< HEAD
        "Processed image 383 (1176)"
=======
        "Processed image 350 (714)"
>>>>>>> fe1b005d2ec4d7eb0bc61da731ff4fa25b905e36
       ]
      },
      {
       "output_type": "stream",
       "stream": "stdout",
       "text": [
        "\r",
<<<<<<< HEAD
        "Processed image 384 (1176)"
=======
        "Processed image 351 (714)"
>>>>>>> fe1b005d2ec4d7eb0bc61da731ff4fa25b905e36
       ]
      },
      {
       "output_type": "stream",
       "stream": "stdout",
       "text": [
        "\r",
<<<<<<< HEAD
        "Processed image 385 (1176)"
=======
        "Processed image 352 (714)"
>>>>>>> fe1b005d2ec4d7eb0bc61da731ff4fa25b905e36
       ]
      },
      {
       "output_type": "stream",
       "stream": "stdout",
       "text": [
        "\r",
<<<<<<< HEAD
        "Processed image 386 (1176)"
=======
        "Processed image 353 (714)"
>>>>>>> fe1b005d2ec4d7eb0bc61da731ff4fa25b905e36
       ]
      },
      {
       "output_type": "stream",
       "stream": "stdout",
       "text": [
        "\r",
<<<<<<< HEAD
        "Processed image 387 (1176)"
=======
        "Processed image 354 (714)"
>>>>>>> fe1b005d2ec4d7eb0bc61da731ff4fa25b905e36
       ]
      },
      {
       "output_type": "stream",
       "stream": "stdout",
       "text": [
        "\r",
<<<<<<< HEAD
        "Processed image 388 (1176)"
=======
        "Processed image 355 (714)"
>>>>>>> fe1b005d2ec4d7eb0bc61da731ff4fa25b905e36
       ]
      },
      {
       "output_type": "stream",
       "stream": "stdout",
       "text": [
        "\r",
<<<<<<< HEAD
        "Processed image 389 (1176)"
=======
        "Processed image 356 (714)"
>>>>>>> fe1b005d2ec4d7eb0bc61da731ff4fa25b905e36
       ]
      },
      {
       "output_type": "stream",
       "stream": "stdout",
       "text": [
        "\r",
<<<<<<< HEAD
        "Processed image 390 (1176)"
=======
        "Processed image 357 (714)"
>>>>>>> fe1b005d2ec4d7eb0bc61da731ff4fa25b905e36
       ]
      },
      {
       "output_type": "stream",
       "stream": "stdout",
       "text": [
        "\r",
<<<<<<< HEAD
        "Processed image 391 (1176)"
=======
        "Processed image 358 (714)"
>>>>>>> fe1b005d2ec4d7eb0bc61da731ff4fa25b905e36
       ]
      },
      {
       "output_type": "stream",
       "stream": "stdout",
       "text": [
        "\r",
<<<<<<< HEAD
        "Processed image 392 (1176)"
=======
        "Processed image 359 (714)"
>>>>>>> fe1b005d2ec4d7eb0bc61da731ff4fa25b905e36
       ]
      },
      {
       "output_type": "stream",
       "stream": "stdout",
       "text": [
        "\r",
<<<<<<< HEAD
        "Processed image 393 (1176)"
=======
        "Processed image 360 (714)"
>>>>>>> fe1b005d2ec4d7eb0bc61da731ff4fa25b905e36
       ]
      },
      {
       "output_type": "stream",
       "stream": "stdout",
       "text": [
        "\r",
<<<<<<< HEAD
        "Processed image 394 (1176)"
=======
        "Processed image 361 (714)"
>>>>>>> fe1b005d2ec4d7eb0bc61da731ff4fa25b905e36
       ]
      },
      {
       "output_type": "stream",
       "stream": "stdout",
       "text": [
        "\r",
<<<<<<< HEAD
        "Processed image 395 (1176)"
=======
        "Processed image 362 (714)"
>>>>>>> fe1b005d2ec4d7eb0bc61da731ff4fa25b905e36
       ]
      },
      {
       "output_type": "stream",
       "stream": "stdout",
       "text": [
        "\r",
<<<<<<< HEAD
        "Processed image 396 (1176)"
=======
        "Processed image 363 (714)"
>>>>>>> fe1b005d2ec4d7eb0bc61da731ff4fa25b905e36
       ]
      },
      {
       "output_type": "stream",
       "stream": "stdout",
       "text": [
        "\r",
<<<<<<< HEAD
        "Processed image 397 (1176)"
=======
        "Processed image 364 (714)"
>>>>>>> fe1b005d2ec4d7eb0bc61da731ff4fa25b905e36
       ]
      },
      {
       "output_type": "stream",
       "stream": "stdout",
       "text": [
        "\r",
<<<<<<< HEAD
        "Processed image 398 (1176)"
=======
        "Processed image 365 (714)"
>>>>>>> fe1b005d2ec4d7eb0bc61da731ff4fa25b905e36
       ]
      },
      {
       "output_type": "stream",
       "stream": "stdout",
       "text": [
        "\r",
<<<<<<< HEAD
        "Processed image 399 (1176)"
=======
        "Processed image 366 (714)"
>>>>>>> fe1b005d2ec4d7eb0bc61da731ff4fa25b905e36
       ]
      },
      {
       "output_type": "stream",
       "stream": "stdout",
       "text": [
        "\r",
<<<<<<< HEAD
        "Processed image 400 (1176)"
=======
        "Processed image 367 (714)"
>>>>>>> fe1b005d2ec4d7eb0bc61da731ff4fa25b905e36
       ]
      },
      {
       "output_type": "stream",
       "stream": "stdout",
       "text": [
        "\r",
<<<<<<< HEAD
        "Processed image 401 (1176)"
=======
        "Processed image 368 (714)"
>>>>>>> fe1b005d2ec4d7eb0bc61da731ff4fa25b905e36
       ]
      },
      {
       "output_type": "stream",
       "stream": "stdout",
       "text": [
        "\r",
<<<<<<< HEAD
        "Processed image 402 (1176)"
=======
        "Processed image 369 (714)"
>>>>>>> fe1b005d2ec4d7eb0bc61da731ff4fa25b905e36
       ]
      },
      {
       "output_type": "stream",
       "stream": "stdout",
       "text": [
        "\r",
<<<<<<< HEAD
        "Processed image 403 (1176)"
=======
        "Processed image 370 (714)"
>>>>>>> fe1b005d2ec4d7eb0bc61da731ff4fa25b905e36
       ]
      },
      {
       "output_type": "stream",
       "stream": "stdout",
       "text": [
        "\r",
<<<<<<< HEAD
        "Processed image 404 (1176)"
=======
        "Processed image 371 (714)"
>>>>>>> fe1b005d2ec4d7eb0bc61da731ff4fa25b905e36
       ]
      },
      {
       "output_type": "stream",
       "stream": "stdout",
       "text": [
        "\r",
<<<<<<< HEAD
        "Processed image 405 (1176)"
=======
        "Processed image 372 (714)"
>>>>>>> fe1b005d2ec4d7eb0bc61da731ff4fa25b905e36
       ]
      },
      {
       "output_type": "stream",
       "stream": "stdout",
       "text": [
        "\r",
<<<<<<< HEAD
        "Processed image 406 (1176)"
=======
        "Processed image 373 (714)"
>>>>>>> fe1b005d2ec4d7eb0bc61da731ff4fa25b905e36
       ]
      },
      {
       "output_type": "stream",
       "stream": "stdout",
       "text": [
        "\r",
<<<<<<< HEAD
        "Processed image 407 (1176)"
=======
        "Processed image 374 (714)"
>>>>>>> fe1b005d2ec4d7eb0bc61da731ff4fa25b905e36
       ]
      },
      {
       "output_type": "stream",
       "stream": "stdout",
       "text": [
        "\r",
<<<<<<< HEAD
        "Processed image 408 (1176)"
=======
        "Processed image 375 (714)"
>>>>>>> fe1b005d2ec4d7eb0bc61da731ff4fa25b905e36
       ]
      },
      {
       "output_type": "stream",
       "stream": "stdout",
       "text": [
        "\r",
<<<<<<< HEAD
        "Processed image 409 (1176)"
=======
        "Processed image 376 (714)"
>>>>>>> fe1b005d2ec4d7eb0bc61da731ff4fa25b905e36
       ]
      },
      {
       "output_type": "stream",
       "stream": "stdout",
       "text": [
        "\r",
<<<<<<< HEAD
        "Processed image 410 (1176)"
=======
        "Processed image 377 (714)"
>>>>>>> fe1b005d2ec4d7eb0bc61da731ff4fa25b905e36
       ]
      },
      {
       "output_type": "stream",
       "stream": "stdout",
       "text": [
        "\r",
<<<<<<< HEAD
        "Processed image 411 (1176)"
=======
        "Processed image 378 (714)"
>>>>>>> fe1b005d2ec4d7eb0bc61da731ff4fa25b905e36
       ]
      },
      {
       "output_type": "stream",
       "stream": "stdout",
       "text": [
        "\r",
<<<<<<< HEAD
        "Processed image 412 (1176)"
=======
        "Processed image 379 (714)"
>>>>>>> fe1b005d2ec4d7eb0bc61da731ff4fa25b905e36
       ]
      },
      {
       "output_type": "stream",
       "stream": "stdout",
       "text": [
        "\r",
<<<<<<< HEAD
        "Processed image 413 (1176)"
=======
        "Processed image 380 (714)"
>>>>>>> fe1b005d2ec4d7eb0bc61da731ff4fa25b905e36
       ]
      },
      {
       "output_type": "stream",
       "stream": "stdout",
       "text": [
        "\r",
<<<<<<< HEAD
        "Processed image 414 (1176)"
=======
        "Processed image 381 (714)"
>>>>>>> fe1b005d2ec4d7eb0bc61da731ff4fa25b905e36
       ]
      },
      {
       "output_type": "stream",
       "stream": "stdout",
       "text": [
        "\r",
<<<<<<< HEAD
        "Processed image 415 (1176)"
=======
        "Processed image 382 (714)"
>>>>>>> fe1b005d2ec4d7eb0bc61da731ff4fa25b905e36
       ]
      },
      {
       "output_type": "stream",
       "stream": "stdout",
       "text": [
        "\r",
<<<<<<< HEAD
        "Processed image 416 (1176)"
=======
        "Processed image 383 (714)"
>>>>>>> fe1b005d2ec4d7eb0bc61da731ff4fa25b905e36
       ]
      },
      {
       "output_type": "stream",
       "stream": "stdout",
       "text": [
        "\r",
<<<<<<< HEAD
        "Processed image 417 (1176)"
=======
        "Processed image 384 (714)"
>>>>>>> fe1b005d2ec4d7eb0bc61da731ff4fa25b905e36
       ]
      },
      {
       "output_type": "stream",
       "stream": "stdout",
       "text": [
        "\r",
<<<<<<< HEAD
        "Processed image 418 (1176)"
=======
        "Processed image 385 (714)"
>>>>>>> fe1b005d2ec4d7eb0bc61da731ff4fa25b905e36
       ]
      },
      {
       "output_type": "stream",
       "stream": "stdout",
       "text": [
        "\r",
<<<<<<< HEAD
        "Processed image 419 (1176)"
=======
        "Processed image 386 (714)"
>>>>>>> fe1b005d2ec4d7eb0bc61da731ff4fa25b905e36
       ]
      },
      {
       "output_type": "stream",
       "stream": "stdout",
       "text": [
        "\r",
<<<<<<< HEAD
        "Processed image 420 (1176)"
=======
        "Processed image 387 (714)"
>>>>>>> fe1b005d2ec4d7eb0bc61da731ff4fa25b905e36
       ]
      },
      {
       "output_type": "stream",
       "stream": "stdout",
       "text": [
        "\r",
<<<<<<< HEAD
        "Processed image 421 (1176)"
=======
        "Processed image 388 (714)"
>>>>>>> fe1b005d2ec4d7eb0bc61da731ff4fa25b905e36
       ]
      },
      {
       "output_type": "stream",
       "stream": "stdout",
       "text": [
        "\r",
<<<<<<< HEAD
        "Processed image 422 (1176)"
=======
        "Processed image 389 (714)"
>>>>>>> fe1b005d2ec4d7eb0bc61da731ff4fa25b905e36
       ]
      },
      {
       "output_type": "stream",
       "stream": "stdout",
       "text": [
        "\r",
<<<<<<< HEAD
        "Processed image 423 (1176)"
=======
        "Processed image 390 (714)"
>>>>>>> fe1b005d2ec4d7eb0bc61da731ff4fa25b905e36
       ]
      },
      {
       "output_type": "stream",
       "stream": "stdout",
       "text": [
        "\r",
<<<<<<< HEAD
        "Processed image 424 (1176)"
=======
        "Processed image 391 (714)"
>>>>>>> fe1b005d2ec4d7eb0bc61da731ff4fa25b905e36
       ]
      },
      {
       "output_type": "stream",
       "stream": "stdout",
       "text": [
        "\r",
<<<<<<< HEAD
        "Processed image 425 (1176)"
=======
        "Processed image 392 (714)"
>>>>>>> fe1b005d2ec4d7eb0bc61da731ff4fa25b905e36
       ]
      },
      {
       "output_type": "stream",
       "stream": "stdout",
       "text": [
        "\r",
<<<<<<< HEAD
        "Processed image 426 (1176)"
=======
        "Processed image 393 (714)"
>>>>>>> fe1b005d2ec4d7eb0bc61da731ff4fa25b905e36
       ]
      },
      {
       "output_type": "stream",
       "stream": "stdout",
       "text": [
        "\r",
<<<<<<< HEAD
        "Processed image 427 (1176)"
=======
        "Processed image 394 (714)"
>>>>>>> fe1b005d2ec4d7eb0bc61da731ff4fa25b905e36
       ]
      },
      {
       "output_type": "stream",
       "stream": "stdout",
       "text": [
        "\r",
<<<<<<< HEAD
        "Processed image 428 (1176)"
=======
        "Processed image 395 (714)"
>>>>>>> fe1b005d2ec4d7eb0bc61da731ff4fa25b905e36
       ]
      },
      {
       "output_type": "stream",
       "stream": "stdout",
       "text": [
        "\r",
<<<<<<< HEAD
        "Processed image 429 (1176)"
=======
        "Processed image 396 (714)"
>>>>>>> fe1b005d2ec4d7eb0bc61da731ff4fa25b905e36
       ]
      },
      {
       "output_type": "stream",
       "stream": "stdout",
       "text": [
        "\r",
<<<<<<< HEAD
        "Processed image 430 (1176)"
=======
        "Processed image 397 (714)"
>>>>>>> fe1b005d2ec4d7eb0bc61da731ff4fa25b905e36
       ]
      },
      {
       "output_type": "stream",
       "stream": "stdout",
       "text": [
        "\r",
<<<<<<< HEAD
        "Processed image 431 (1176)"
=======
        "Processed image 398 (714)"
>>>>>>> fe1b005d2ec4d7eb0bc61da731ff4fa25b905e36
       ]
      },
      {
       "output_type": "stream",
       "stream": "stdout",
       "text": [
        "\r",
<<<<<<< HEAD
        "Processed image 432 (1176)"
=======
        "Processed image 399 (714)"
>>>>>>> fe1b005d2ec4d7eb0bc61da731ff4fa25b905e36
       ]
      },
      {
       "output_type": "stream",
       "stream": "stdout",
       "text": [
        "\r",
<<<<<<< HEAD
        "Processed image 433 (1176)"
=======
        "Processed image 400 (714)"
>>>>>>> fe1b005d2ec4d7eb0bc61da731ff4fa25b905e36
       ]
      },
      {
       "output_type": "stream",
       "stream": "stdout",
       "text": [
        "\r",
<<<<<<< HEAD
        "Processed image 434 (1176)"
=======
        "Processed image 401 (714)"
>>>>>>> fe1b005d2ec4d7eb0bc61da731ff4fa25b905e36
       ]
      },
      {
       "output_type": "stream",
       "stream": "stdout",
       "text": [
        "\r",
<<<<<<< HEAD
        "Processed image 435 (1176)"
=======
        "Processed image 402 (714)"
>>>>>>> fe1b005d2ec4d7eb0bc61da731ff4fa25b905e36
       ]
      },
      {
       "output_type": "stream",
       "stream": "stdout",
       "text": [
        "\r",
<<<<<<< HEAD
        "Processed image 436 (1176)"
=======
        "Processed image 403 (714)"
>>>>>>> fe1b005d2ec4d7eb0bc61da731ff4fa25b905e36
       ]
      },
      {
       "output_type": "stream",
       "stream": "stdout",
       "text": [
        "\r",
<<<<<<< HEAD
        "Processed image 437 (1176)"
=======
        "Processed image 404 (714)"
>>>>>>> fe1b005d2ec4d7eb0bc61da731ff4fa25b905e36
       ]
      },
      {
       "output_type": "stream",
       "stream": "stdout",
       "text": [
        "\r",
<<<<<<< HEAD
        "Processed image 438 (1176)"
=======
        "Processed image 405 (714)"
>>>>>>> fe1b005d2ec4d7eb0bc61da731ff4fa25b905e36
       ]
      },
      {
       "output_type": "stream",
       "stream": "stdout",
       "text": [
        "\r",
<<<<<<< HEAD
        "Processed image 439 (1176)"
=======
        "Processed image 406 (714)"
>>>>>>> fe1b005d2ec4d7eb0bc61da731ff4fa25b905e36
       ]
      },
      {
       "output_type": "stream",
       "stream": "stdout",
       "text": [
        "\r",
<<<<<<< HEAD
        "Processed image 440 (1176)"
=======
        "Processed image 407 (714)"
>>>>>>> fe1b005d2ec4d7eb0bc61da731ff4fa25b905e36
       ]
      },
      {
       "output_type": "stream",
       "stream": "stdout",
       "text": [
        "\r",
<<<<<<< HEAD
        "Processed image 441 (1176)"
=======
        "Processed image 408 (714)"
>>>>>>> fe1b005d2ec4d7eb0bc61da731ff4fa25b905e36
       ]
      },
      {
       "output_type": "stream",
       "stream": "stdout",
       "text": [
        "\r",
<<<<<<< HEAD
        "Processed image 442 (1176)"
=======
        "Processed image 409 (714)"
>>>>>>> fe1b005d2ec4d7eb0bc61da731ff4fa25b905e36
       ]
      },
      {
       "output_type": "stream",
       "stream": "stdout",
       "text": [
        "\r",
<<<<<<< HEAD
        "Processed image 443 (1176)"
=======
        "Processed image 410 (714)"
>>>>>>> fe1b005d2ec4d7eb0bc61da731ff4fa25b905e36
       ]
      },
      {
       "output_type": "stream",
       "stream": "stdout",
       "text": [
        "\r",
<<<<<<< HEAD
        "Processed image 444 (1176)"
=======
        "Processed image 411 (714)"
>>>>>>> fe1b005d2ec4d7eb0bc61da731ff4fa25b905e36
       ]
      },
      {
       "output_type": "stream",
       "stream": "stdout",
       "text": [
        "\r",
<<<<<<< HEAD
        "Processed image 445 (1176)"
=======
        "Processed image 412 (714)"
>>>>>>> fe1b005d2ec4d7eb0bc61da731ff4fa25b905e36
       ]
      },
      {
       "output_type": "stream",
       "stream": "stdout",
       "text": [
        "\r",
<<<<<<< HEAD
        "Processed image 446 (1176)"
=======
        "Processed image 413 (714)"
>>>>>>> fe1b005d2ec4d7eb0bc61da731ff4fa25b905e36
       ]
      },
      {
       "output_type": "stream",
       "stream": "stdout",
       "text": [
        "\r",
<<<<<<< HEAD
        "Processed image 447 (1176)"
=======
        "Processed image 414 (714)"
>>>>>>> fe1b005d2ec4d7eb0bc61da731ff4fa25b905e36
       ]
      },
      {
       "output_type": "stream",
       "stream": "stdout",
       "text": [
        "\r",
<<<<<<< HEAD
        "Processed image 448 (1176)"
=======
        "Processed image 415 (714)"
>>>>>>> fe1b005d2ec4d7eb0bc61da731ff4fa25b905e36
       ]
      },
      {
       "output_type": "stream",
       "stream": "stdout",
       "text": [
        "\r",
<<<<<<< HEAD
        "Processed image 449 (1176)"
=======
        "Processed image 416 (714)"
>>>>>>> fe1b005d2ec4d7eb0bc61da731ff4fa25b905e36
       ]
      },
      {
       "output_type": "stream",
       "stream": "stdout",
       "text": [
        "\r",
<<<<<<< HEAD
        "Processed image 450 (1176)"
=======
        "Processed image 417 (714)"
>>>>>>> fe1b005d2ec4d7eb0bc61da731ff4fa25b905e36
       ]
      },
      {
       "output_type": "stream",
       "stream": "stdout",
       "text": [
        "\r",
<<<<<<< HEAD
        "Processed image 451 (1176)"
=======
        "Processed image 418 (714)"
>>>>>>> fe1b005d2ec4d7eb0bc61da731ff4fa25b905e36
       ]
      },
      {
       "output_type": "stream",
       "stream": "stdout",
       "text": [
        "\r",
<<<<<<< HEAD
        "Processed image 452 (1176)"
=======
        "Processed image 419 (714)"
>>>>>>> fe1b005d2ec4d7eb0bc61da731ff4fa25b905e36
       ]
      },
      {
       "output_type": "stream",
       "stream": "stdout",
       "text": [
        "\r",
<<<<<<< HEAD
        "Processed image 453 (1176)"
=======
        "Processed image 420 (714)"
>>>>>>> fe1b005d2ec4d7eb0bc61da731ff4fa25b905e36
       ]
      },
      {
       "output_type": "stream",
       "stream": "stdout",
       "text": [
        "\r",
<<<<<<< HEAD
        "Processed image 454 (1176)"
=======
        "Processed image 421 (714)"
>>>>>>> fe1b005d2ec4d7eb0bc61da731ff4fa25b905e36
       ]
      },
      {
       "output_type": "stream",
       "stream": "stdout",
       "text": [
        "\r",
<<<<<<< HEAD
        "Processed image 455 (1176)"
=======
        "Processed image 422 (714)"
>>>>>>> fe1b005d2ec4d7eb0bc61da731ff4fa25b905e36
       ]
      },
      {
       "output_type": "stream",
       "stream": "stdout",
       "text": [
        "\r",
<<<<<<< HEAD
        "Processed image 456 (1176)"
=======
        "Processed image 423 (714)"
>>>>>>> fe1b005d2ec4d7eb0bc61da731ff4fa25b905e36
       ]
      },
      {
       "output_type": "stream",
       "stream": "stdout",
       "text": [
        "\r",
<<<<<<< HEAD
        "Processed image 457 (1176)"
=======
        "Processed image 424 (714)"
>>>>>>> fe1b005d2ec4d7eb0bc61da731ff4fa25b905e36
       ]
      },
      {
       "output_type": "stream",
       "stream": "stdout",
       "text": [
        "\r",
<<<<<<< HEAD
        "Processed image 458 (1176)"
=======
        "Processed image 425 (714)"
>>>>>>> fe1b005d2ec4d7eb0bc61da731ff4fa25b905e36
       ]
      },
      {
       "output_type": "stream",
       "stream": "stdout",
       "text": [
        "\r",
<<<<<<< HEAD
        "Processed image 459 (1176)"
=======
        "Processed image 426 (714)"
>>>>>>> fe1b005d2ec4d7eb0bc61da731ff4fa25b905e36
       ]
      },
      {
       "output_type": "stream",
       "stream": "stdout",
       "text": [
        "\r",
<<<<<<< HEAD
        "Processed image 460 (1176)"
=======
        "Processed image 427 (714)"
>>>>>>> fe1b005d2ec4d7eb0bc61da731ff4fa25b905e36
       ]
      },
      {
       "output_type": "stream",
       "stream": "stdout",
       "text": [
        "\r",
<<<<<<< HEAD
        "Processed image 461 (1176)"
=======
        "Processed image 428 (714)"
>>>>>>> fe1b005d2ec4d7eb0bc61da731ff4fa25b905e36
       ]
      },
      {
       "output_type": "stream",
       "stream": "stdout",
       "text": [
        "\r",
<<<<<<< HEAD
        "Processed image 462 (1176)"
=======
        "Processed image 429 (714)"
>>>>>>> fe1b005d2ec4d7eb0bc61da731ff4fa25b905e36
       ]
      },
      {
       "output_type": "stream",
       "stream": "stdout",
       "text": [
        "\r",
<<<<<<< HEAD
        "Processed image 463 (1176)"
=======
        "Processed image 430 (714)"
>>>>>>> fe1b005d2ec4d7eb0bc61da731ff4fa25b905e36
       ]
      },
      {
       "output_type": "stream",
       "stream": "stdout",
       "text": [
        "\r",
<<<<<<< HEAD
        "Processed image 464 (1176)"
=======
        "Processed image 431 (714)"
>>>>>>> fe1b005d2ec4d7eb0bc61da731ff4fa25b905e36
       ]
      },
      {
       "output_type": "stream",
       "stream": "stdout",
       "text": [
        "\r",
<<<<<<< HEAD
        "Processed image 465 (1176)"
=======
        "Processed image 432 (714)"
>>>>>>> fe1b005d2ec4d7eb0bc61da731ff4fa25b905e36
       ]
      },
      {
       "output_type": "stream",
       "stream": "stdout",
       "text": [
        "\r",
<<<<<<< HEAD
        "Processed image 466 (1176)"
=======
        "Processed image 433 (714)"
>>>>>>> fe1b005d2ec4d7eb0bc61da731ff4fa25b905e36
       ]
      },
      {
       "output_type": "stream",
       "stream": "stdout",
       "text": [
        "\r",
<<<<<<< HEAD
        "Processed image 467 (1176)"
=======
        "Processed image 434 (714)"
>>>>>>> fe1b005d2ec4d7eb0bc61da731ff4fa25b905e36
       ]
      },
      {
       "output_type": "stream",
       "stream": "stdout",
       "text": [
        "\r",
<<<<<<< HEAD
        "Processed image 468 (1176)"
=======
        "Processed image 435 (714)"
>>>>>>> fe1b005d2ec4d7eb0bc61da731ff4fa25b905e36
       ]
      },
      {
       "output_type": "stream",
       "stream": "stdout",
       "text": [
        "\r",
<<<<<<< HEAD
        "Processed image 469 (1176)"
=======
        "Processed image 436 (714)"
>>>>>>> fe1b005d2ec4d7eb0bc61da731ff4fa25b905e36
       ]
      },
      {
       "output_type": "stream",
       "stream": "stdout",
       "text": [
        "\r",
<<<<<<< HEAD
        "Processed image 470 (1176)"
=======
        "Processed image 437 (714)"
>>>>>>> fe1b005d2ec4d7eb0bc61da731ff4fa25b905e36
       ]
      },
      {
       "output_type": "stream",
       "stream": "stdout",
       "text": [
        "\r",
<<<<<<< HEAD
        "Processed image 471 (1176)"
=======
        "Processed image 438 (714)"
>>>>>>> fe1b005d2ec4d7eb0bc61da731ff4fa25b905e36
       ]
      },
      {
       "output_type": "stream",
       "stream": "stdout",
       "text": [
        "\r",
<<<<<<< HEAD
        "Processed image 472 (1176)"
=======
        "Processed image 439 (714)"
>>>>>>> fe1b005d2ec4d7eb0bc61da731ff4fa25b905e36
       ]
      },
      {
       "output_type": "stream",
       "stream": "stdout",
       "text": [
        "\r",
<<<<<<< HEAD
        "Processed image 473 (1176)"
=======
        "Processed image 440 (714)"
>>>>>>> fe1b005d2ec4d7eb0bc61da731ff4fa25b905e36
       ]
      },
      {
       "output_type": "stream",
       "stream": "stdout",
       "text": [
        "\r",
<<<<<<< HEAD
        "Processed image 474 (1176)"
=======
        "Processed image 441 (714)"
>>>>>>> fe1b005d2ec4d7eb0bc61da731ff4fa25b905e36
       ]
      },
      {
       "output_type": "stream",
       "stream": "stdout",
       "text": [
        "\r",
<<<<<<< HEAD
        "Processed image 475 (1176)"
=======
        "Processed image 442 (714)"
>>>>>>> fe1b005d2ec4d7eb0bc61da731ff4fa25b905e36
       ]
      },
      {
       "output_type": "stream",
       "stream": "stdout",
       "text": [
        "\r",
<<<<<<< HEAD
        "Processed image 476 (1176)"
=======
        "Processed image 443 (714)"
>>>>>>> fe1b005d2ec4d7eb0bc61da731ff4fa25b905e36
       ]
      },
      {
       "output_type": "stream",
       "stream": "stdout",
       "text": [
        "\r",
<<<<<<< HEAD
        "Processed image 477 (1176)"
=======
        "Processed image 444 (714)"
>>>>>>> fe1b005d2ec4d7eb0bc61da731ff4fa25b905e36
       ]
      },
      {
       "output_type": "stream",
       "stream": "stdout",
       "text": [
        "\r",
<<<<<<< HEAD
        "Processed image 478 (1176)"
=======
        "Processed image 445 (714)"
>>>>>>> fe1b005d2ec4d7eb0bc61da731ff4fa25b905e36
       ]
      },
      {
       "output_type": "stream",
       "stream": "stdout",
       "text": [
        "\r",
<<<<<<< HEAD
        "Processed image 479 (1176)"
=======
        "Processed image 446 (714)"
>>>>>>> fe1b005d2ec4d7eb0bc61da731ff4fa25b905e36
       ]
      },
      {
       "output_type": "stream",
       "stream": "stdout",
       "text": [
        "\r",
<<<<<<< HEAD
        "Processed image 480 (1176)"
=======
        "Processed image 447 (714)"
>>>>>>> fe1b005d2ec4d7eb0bc61da731ff4fa25b905e36
       ]
      },
      {
       "output_type": "stream",
       "stream": "stdout",
       "text": [
        "\r",
<<<<<<< HEAD
        "Processed image 481 (1176)"
=======
        "Processed image 448 (714)"
>>>>>>> fe1b005d2ec4d7eb0bc61da731ff4fa25b905e36
       ]
      },
      {
       "output_type": "stream",
       "stream": "stdout",
       "text": [
        "\r",
<<<<<<< HEAD
        "Processed image 482 (1176)"
=======
        "Processed image 449 (714)"
>>>>>>> fe1b005d2ec4d7eb0bc61da731ff4fa25b905e36
       ]
      },
      {
       "output_type": "stream",
       "stream": "stdout",
       "text": [
        "\r",
<<<<<<< HEAD
        "Processed image 483 (1176)"
=======
        "Processed image 450 (714)"
>>>>>>> fe1b005d2ec4d7eb0bc61da731ff4fa25b905e36
       ]
      },
      {
       "output_type": "stream",
       "stream": "stdout",
       "text": [
        "\r",
<<<<<<< HEAD
        "Processed image 484 (1176)"
=======
        "Processed image 451 (714)"
>>>>>>> fe1b005d2ec4d7eb0bc61da731ff4fa25b905e36
       ]
      },
      {
       "output_type": "stream",
       "stream": "stdout",
       "text": [
        "\r",
<<<<<<< HEAD
        "Processed image 485 (1176)"
=======
        "Processed image 452 (714)"
>>>>>>> fe1b005d2ec4d7eb0bc61da731ff4fa25b905e36
       ]
      },
      {
       "output_type": "stream",
       "stream": "stdout",
       "text": [
        "\r",
<<<<<<< HEAD
        "Processed image 486 (1176)"
=======
        "Processed image 453 (714)"
>>>>>>> fe1b005d2ec4d7eb0bc61da731ff4fa25b905e36
       ]
      },
      {
       "output_type": "stream",
       "stream": "stdout",
       "text": [
        "\r",
<<<<<<< HEAD
        "Processed image 487 (1176)"
=======
        "Processed image 454 (714)"
>>>>>>> fe1b005d2ec4d7eb0bc61da731ff4fa25b905e36
       ]
      },
      {
       "output_type": "stream",
       "stream": "stdout",
       "text": [
        "\r",
<<<<<<< HEAD
        "Processed image 488 (1176)"
=======
        "Processed image 455 (714)"
>>>>>>> fe1b005d2ec4d7eb0bc61da731ff4fa25b905e36
       ]
      },
      {
       "output_type": "stream",
       "stream": "stdout",
       "text": [
        "\r",
<<<<<<< HEAD
        "Processed image 489 (1176)"
=======
        "Processed image 456 (714)"
>>>>>>> fe1b005d2ec4d7eb0bc61da731ff4fa25b905e36
       ]
      },
      {
       "output_type": "stream",
       "stream": "stdout",
       "text": [
        "\r",
<<<<<<< HEAD
        "Processed image 490 (1176)"
=======
        "Processed image 457 (714)"
>>>>>>> fe1b005d2ec4d7eb0bc61da731ff4fa25b905e36
       ]
      },
      {
       "output_type": "stream",
       "stream": "stdout",
       "text": [
        "\r",
<<<<<<< HEAD
        "Processed image 491 (1176)"
=======
        "Processed image 458 (714)"
>>>>>>> fe1b005d2ec4d7eb0bc61da731ff4fa25b905e36
       ]
      },
      {
       "output_type": "stream",
       "stream": "stdout",
       "text": [
        "\r",
<<<<<<< HEAD
        "Processed image 492 (1176)"
=======
        "Processed image 459 (714)"
>>>>>>> fe1b005d2ec4d7eb0bc61da731ff4fa25b905e36
       ]
      },
      {
       "output_type": "stream",
       "stream": "stdout",
       "text": [
        "\r",
<<<<<<< HEAD
        "Processed image 493 (1176)"
=======
        "Processed image 460 (714)"
>>>>>>> fe1b005d2ec4d7eb0bc61da731ff4fa25b905e36
       ]
      },
      {
       "output_type": "stream",
       "stream": "stdout",
       "text": [
        "\r",
<<<<<<< HEAD
        "Processed image 494 (1176)"
=======
        "Processed image 461 (714)"
>>>>>>> fe1b005d2ec4d7eb0bc61da731ff4fa25b905e36
       ]
      },
      {
       "output_type": "stream",
       "stream": "stdout",
       "text": [
        "\r",
<<<<<<< HEAD
        "Processed image 495 (1176)"
=======
        "Processed image 462 (714)"
>>>>>>> fe1b005d2ec4d7eb0bc61da731ff4fa25b905e36
       ]
      },
      {
       "output_type": "stream",
       "stream": "stdout",
       "text": [
        "\r",
<<<<<<< HEAD
        "Processed image 496 (1176)"
=======
        "Processed image 463 (714)"
>>>>>>> fe1b005d2ec4d7eb0bc61da731ff4fa25b905e36
       ]
      },
      {
       "output_type": "stream",
       "stream": "stdout",
       "text": [
        "\r",
<<<<<<< HEAD
        "Processed image 497 (1176)"
=======
        "Processed image 464 (714)"
>>>>>>> fe1b005d2ec4d7eb0bc61da731ff4fa25b905e36
       ]
      },
      {
       "output_type": "stream",
       "stream": "stdout",
       "text": [
        "\r",
<<<<<<< HEAD
        "Processed image 498 (1176)"
=======
        "Processed image 465 (714)"
>>>>>>> fe1b005d2ec4d7eb0bc61da731ff4fa25b905e36
       ]
      },
      {
       "output_type": "stream",
       "stream": "stdout",
       "text": [
        "\r",
<<<<<<< HEAD
        "Processed image 499 (1176)"
=======
        "Processed image 466 (714)"
>>>>>>> fe1b005d2ec4d7eb0bc61da731ff4fa25b905e36
       ]
      },
      {
       "output_type": "stream",
       "stream": "stdout",
       "text": [
        "\r",
<<<<<<< HEAD
        "Processed image 500 (1176)"
=======
        "Processed image 467 (714)"
>>>>>>> fe1b005d2ec4d7eb0bc61da731ff4fa25b905e36
       ]
      },
      {
       "output_type": "stream",
       "stream": "stdout",
       "text": [
        "\r",
<<<<<<< HEAD
        "Processed image 501 (1176)"
=======
        "Processed image 468 (714)"
>>>>>>> fe1b005d2ec4d7eb0bc61da731ff4fa25b905e36
       ]
      },
      {
       "output_type": "stream",
       "stream": "stdout",
       "text": [
        "\r",
<<<<<<< HEAD
        "Processed image 502 (1176)"
=======
        "Processed image 469 (714)"
>>>>>>> fe1b005d2ec4d7eb0bc61da731ff4fa25b905e36
       ]
      },
      {
       "output_type": "stream",
       "stream": "stdout",
       "text": [
        "\r",
<<<<<<< HEAD
        "Processed image 503 (1176)"
=======
        "Processed image 470 (714)"
>>>>>>> fe1b005d2ec4d7eb0bc61da731ff4fa25b905e36
       ]
      },
      {
       "output_type": "stream",
       "stream": "stdout",
       "text": [
        "\r",
<<<<<<< HEAD
        "Processed image 504 (1176)"
=======
        "Processed image 471 (714)"
>>>>>>> fe1b005d2ec4d7eb0bc61da731ff4fa25b905e36
       ]
      },
      {
       "output_type": "stream",
       "stream": "stdout",
       "text": [
        "\r",
<<<<<<< HEAD
        "Processed image 505 (1176)"
=======
        "Processed image 472 (714)"
>>>>>>> fe1b005d2ec4d7eb0bc61da731ff4fa25b905e36
       ]
      },
      {
       "output_type": "stream",
       "stream": "stdout",
       "text": [
        "\r",
<<<<<<< HEAD
        "Processed image 506 (1176)"
=======
        "Processed image 473 (714)"
>>>>>>> fe1b005d2ec4d7eb0bc61da731ff4fa25b905e36
       ]
      },
      {
       "output_type": "stream",
       "stream": "stdout",
       "text": [
        "\r",
<<<<<<< HEAD
        "Processed image 507 (1176)"
=======
        "Processed image 474 (714)"
>>>>>>> fe1b005d2ec4d7eb0bc61da731ff4fa25b905e36
       ]
      },
      {
       "output_type": "stream",
       "stream": "stdout",
       "text": [
        "\r",
<<<<<<< HEAD
        "Processed image 508 (1176)"
=======
        "Processed image 475 (714)"
>>>>>>> fe1b005d2ec4d7eb0bc61da731ff4fa25b905e36
       ]
      },
      {
       "output_type": "stream",
       "stream": "stdout",
       "text": [
        "\r",
<<<<<<< HEAD
        "Processed image 509 (1176)"
=======
        "Processed image 476 (714)"
>>>>>>> fe1b005d2ec4d7eb0bc61da731ff4fa25b905e36
       ]
      },
      {
       "output_type": "stream",
       "stream": "stdout",
       "text": [
        "\r",
<<<<<<< HEAD
        "Processed image 510 (1176)"
=======
        "Processed image 477 (714)"
>>>>>>> fe1b005d2ec4d7eb0bc61da731ff4fa25b905e36
       ]
      },
      {
       "output_type": "stream",
       "stream": "stdout",
       "text": [
        "\r",
<<<<<<< HEAD
        "Processed image 511 (1176)"
=======
        "Processed image 478 (714)"
>>>>>>> fe1b005d2ec4d7eb0bc61da731ff4fa25b905e36
       ]
      },
      {
       "output_type": "stream",
       "stream": "stdout",
       "text": [
        "\r",
<<<<<<< HEAD
        "Processed image 512 (1176)"
=======
        "Processed image 479 (714)"
>>>>>>> fe1b005d2ec4d7eb0bc61da731ff4fa25b905e36
       ]
      },
      {
       "output_type": "stream",
       "stream": "stdout",
       "text": [
        "\r",
<<<<<<< HEAD
        "Processed image 513 (1176)"
=======
        "Processed image 480 (714)"
>>>>>>> fe1b005d2ec4d7eb0bc61da731ff4fa25b905e36
       ]
      },
      {
       "output_type": "stream",
       "stream": "stdout",
       "text": [
        "\r",
<<<<<<< HEAD
        "Processed image 514 (1176)"
=======
        "Processed image 481 (714)"
>>>>>>> fe1b005d2ec4d7eb0bc61da731ff4fa25b905e36
       ]
      },
      {
       "output_type": "stream",
       "stream": "stdout",
       "text": [
        "\r",
<<<<<<< HEAD
        "Processed image 515 (1176)"
=======
        "Processed image 482 (714)"
>>>>>>> fe1b005d2ec4d7eb0bc61da731ff4fa25b905e36
       ]
      },
      {
       "output_type": "stream",
       "stream": "stdout",
       "text": [
        "\r",
<<<<<<< HEAD
        "Processed image 516 (1176)"
=======
        "Processed image 483 (714)"
>>>>>>> fe1b005d2ec4d7eb0bc61da731ff4fa25b905e36
       ]
      },
      {
       "output_type": "stream",
       "stream": "stdout",
       "text": [
        "\r",
<<<<<<< HEAD
        "Processed image 517 (1176)"
=======
        "Processed image 484 (714)"
>>>>>>> fe1b005d2ec4d7eb0bc61da731ff4fa25b905e36
       ]
      },
      {
       "output_type": "stream",
       "stream": "stdout",
       "text": [
        "\r",
<<<<<<< HEAD
        "Processed image 518 (1176)"
=======
        "Processed image 485 (714)"
>>>>>>> fe1b005d2ec4d7eb0bc61da731ff4fa25b905e36
       ]
      },
      {
       "output_type": "stream",
       "stream": "stdout",
       "text": [
        "\r",
<<<<<<< HEAD
        "Processed image 519 (1176)"
=======
        "Processed image 486 (714)"
>>>>>>> fe1b005d2ec4d7eb0bc61da731ff4fa25b905e36
       ]
      },
      {
       "output_type": "stream",
       "stream": "stdout",
       "text": [
        "\r",
<<<<<<< HEAD
        "Processed image 520 (1176)"
=======
        "Processed image 487 (714)"
>>>>>>> fe1b005d2ec4d7eb0bc61da731ff4fa25b905e36
       ]
      },
      {
       "output_type": "stream",
       "stream": "stdout",
       "text": [
        "\r",
<<<<<<< HEAD
        "Processed image 521 (1176)"
=======
        "Processed image 488 (714)"
>>>>>>> fe1b005d2ec4d7eb0bc61da731ff4fa25b905e36
       ]
      },
      {
       "output_type": "stream",
       "stream": "stdout",
       "text": [
        "\r",
<<<<<<< HEAD
        "Processed image 522 (1176)"
=======
        "Processed image 489 (714)"
>>>>>>> fe1b005d2ec4d7eb0bc61da731ff4fa25b905e36
       ]
      },
      {
       "output_type": "stream",
       "stream": "stdout",
       "text": [
        "\r",
<<<<<<< HEAD
        "Processed image 523 (1176)"
=======
        "Processed image 490 (714)"
>>>>>>> fe1b005d2ec4d7eb0bc61da731ff4fa25b905e36
       ]
      },
      {
       "output_type": "stream",
       "stream": "stdout",
       "text": [
        "\r",
<<<<<<< HEAD
        "Processed image 524 (1176)"
=======
        "Processed image 491 (714)"
>>>>>>> fe1b005d2ec4d7eb0bc61da731ff4fa25b905e36
       ]
      },
      {
       "output_type": "stream",
       "stream": "stdout",
       "text": [
        "\r",
<<<<<<< HEAD
        "Processed image 525 (1176)"
=======
        "Processed image 492 (714)"
>>>>>>> fe1b005d2ec4d7eb0bc61da731ff4fa25b905e36
       ]
      },
      {
       "output_type": "stream",
       "stream": "stdout",
       "text": [
        "\r",
<<<<<<< HEAD
        "Processed image 526 (1176)"
=======
        "Processed image 493 (714)"
>>>>>>> fe1b005d2ec4d7eb0bc61da731ff4fa25b905e36
       ]
      },
      {
       "output_type": "stream",
       "stream": "stdout",
       "text": [
        "\r",
<<<<<<< HEAD
        "Processed image 527 (1176)"
=======
        "Processed image 494 (714)"
>>>>>>> fe1b005d2ec4d7eb0bc61da731ff4fa25b905e36
       ]
      },
      {
       "output_type": "stream",
       "stream": "stdout",
       "text": [
        "\r",
<<<<<<< HEAD
        "Processed image 528 (1176)"
=======
        "Processed image 495 (714)"
>>>>>>> fe1b005d2ec4d7eb0bc61da731ff4fa25b905e36
       ]
      },
      {
       "output_type": "stream",
       "stream": "stdout",
       "text": [
        "\r",
<<<<<<< HEAD
        "Processed image 529 (1176)"
=======
        "Processed image 496 (714)"
>>>>>>> fe1b005d2ec4d7eb0bc61da731ff4fa25b905e36
       ]
      },
      {
       "output_type": "stream",
       "stream": "stdout",
       "text": [
        "\r",
<<<<<<< HEAD
        "Processed image 530 (1176)"
=======
        "Processed image 497 (714)"
>>>>>>> fe1b005d2ec4d7eb0bc61da731ff4fa25b905e36
       ]
      },
      {
       "output_type": "stream",
       "stream": "stdout",
       "text": [
        "\r",
<<<<<<< HEAD
        "Processed image 531 (1176)"
=======
        "Processed image 498 (714)"
>>>>>>> fe1b005d2ec4d7eb0bc61da731ff4fa25b905e36
       ]
      },
      {
       "output_type": "stream",
       "stream": "stdout",
       "text": [
        "\r",
<<<<<<< HEAD
        "Processed image 532 (1176)"
=======
        "Processed image 499 (714)"
>>>>>>> fe1b005d2ec4d7eb0bc61da731ff4fa25b905e36
       ]
      },
      {
       "output_type": "stream",
       "stream": "stdout",
       "text": [
        "\r",
<<<<<<< HEAD
        "Processed image 533 (1176)"
=======
        "Processed image 500 (714)"
>>>>>>> fe1b005d2ec4d7eb0bc61da731ff4fa25b905e36
       ]
      },
      {
       "output_type": "stream",
       "stream": "stdout",
       "text": [
        "\r",
<<<<<<< HEAD
        "Processed image 534 (1176)"
=======
        "Processed image 501 (714)"
>>>>>>> fe1b005d2ec4d7eb0bc61da731ff4fa25b905e36
       ]
      },
      {
       "output_type": "stream",
       "stream": "stdout",
       "text": [
        "\r",
<<<<<<< HEAD
        "Processed image 535 (1176)"
=======
        "Processed image 502 (714)"
>>>>>>> fe1b005d2ec4d7eb0bc61da731ff4fa25b905e36
       ]
      },
      {
       "output_type": "stream",
       "stream": "stdout",
       "text": [
        "\r",
<<<<<<< HEAD
        "Processed image 536 (1176)"
=======
        "Processed image 503 (714)"
>>>>>>> fe1b005d2ec4d7eb0bc61da731ff4fa25b905e36
       ]
      },
      {
       "output_type": "stream",
       "stream": "stdout",
       "text": [
        "\r",
<<<<<<< HEAD
        "Processed image 537 (1176)"
=======
        "Processed image 504 (714)"
>>>>>>> fe1b005d2ec4d7eb0bc61da731ff4fa25b905e36
       ]
      },
      {
       "output_type": "stream",
       "stream": "stdout",
       "text": [
        "\r",
<<<<<<< HEAD
        "Processed image 538 (1176)"
=======
        "Processed image 505 (714)"
>>>>>>> fe1b005d2ec4d7eb0bc61da731ff4fa25b905e36
       ]
      },
      {
       "output_type": "stream",
       "stream": "stdout",
       "text": [
        "\r",
<<<<<<< HEAD
        "Processed image 539 (1176)"
=======
        "Processed image 506 (714)"
>>>>>>> fe1b005d2ec4d7eb0bc61da731ff4fa25b905e36
       ]
      },
      {
       "output_type": "stream",
       "stream": "stdout",
       "text": [
        "\r",
<<<<<<< HEAD
        "Processed image 540 (1176)"
=======
        "Processed image 507 (714)"
>>>>>>> fe1b005d2ec4d7eb0bc61da731ff4fa25b905e36
       ]
      },
      {
       "output_type": "stream",
       "stream": "stdout",
       "text": [
        "\r",
<<<<<<< HEAD
        "Processed image 541 (1176)"
=======
        "Processed image 508 (714)"
>>>>>>> fe1b005d2ec4d7eb0bc61da731ff4fa25b905e36
       ]
      },
      {
       "output_type": "stream",
       "stream": "stdout",
       "text": [
        "\r",
<<<<<<< HEAD
        "Processed image 542 (1176)"
=======
        "Processed image 509 (714)"
>>>>>>> fe1b005d2ec4d7eb0bc61da731ff4fa25b905e36
       ]
      },
      {
       "output_type": "stream",
       "stream": "stdout",
       "text": [
        "\r",
<<<<<<< HEAD
        "Processed image 543 (1176)"
=======
        "Processed image 510 (714)"
>>>>>>> fe1b005d2ec4d7eb0bc61da731ff4fa25b905e36
       ]
      },
      {
       "output_type": "stream",
       "stream": "stdout",
       "text": [
        "\r",
<<<<<<< HEAD
        "Processed image 544 (1176)"
=======
        "Processed image 511 (714)"
>>>>>>> fe1b005d2ec4d7eb0bc61da731ff4fa25b905e36
       ]
      },
      {
       "output_type": "stream",
       "stream": "stdout",
       "text": [
        "\r",
<<<<<<< HEAD
        "Processed image 545 (1176)"
=======
        "Processed image 512 (714)"
>>>>>>> fe1b005d2ec4d7eb0bc61da731ff4fa25b905e36
       ]
      },
      {
       "output_type": "stream",
       "stream": "stdout",
       "text": [
        "\r",
<<<<<<< HEAD
        "Processed image 546 (1176)"
=======
        "Processed image 513 (714)"
>>>>>>> fe1b005d2ec4d7eb0bc61da731ff4fa25b905e36
       ]
      },
      {
       "output_type": "stream",
       "stream": "stdout",
       "text": [
        "\r",
<<<<<<< HEAD
        "Processed image 547 (1176)"
=======
        "Processed image 514 (714)"
>>>>>>> fe1b005d2ec4d7eb0bc61da731ff4fa25b905e36
       ]
      },
      {
       "output_type": "stream",
       "stream": "stdout",
       "text": [
        "\r",
<<<<<<< HEAD
        "Processed image 548 (1176)"
=======
        "Processed image 515 (714)"
>>>>>>> fe1b005d2ec4d7eb0bc61da731ff4fa25b905e36
       ]
      },
      {
       "output_type": "stream",
       "stream": "stdout",
       "text": [
        "\r",
<<<<<<< HEAD
        "Processed image 549 (1176)"
=======
        "Processed image 516 (714)"
>>>>>>> fe1b005d2ec4d7eb0bc61da731ff4fa25b905e36
       ]
      },
      {
       "output_type": "stream",
       "stream": "stdout",
       "text": [
        "\r",
<<<<<<< HEAD
        "Processed image 550 (1176)"
=======
        "Processed image 517 (714)"
>>>>>>> fe1b005d2ec4d7eb0bc61da731ff4fa25b905e36
       ]
      },
      {
       "output_type": "stream",
       "stream": "stdout",
       "text": [
        "\r",
<<<<<<< HEAD
        "Processed image 551 (1176)"
=======
        "Processed image 518 (714)"
>>>>>>> fe1b005d2ec4d7eb0bc61da731ff4fa25b905e36
       ]
      },
      {
       "output_type": "stream",
       "stream": "stdout",
       "text": [
        "\r",
<<<<<<< HEAD
        "Processed image 552 (1176)"
=======
        "Processed image 519 (714)"
>>>>>>> fe1b005d2ec4d7eb0bc61da731ff4fa25b905e36
       ]
      },
      {
       "output_type": "stream",
       "stream": "stdout",
       "text": [
        "\r",
<<<<<<< HEAD
        "Processed image 553 (1176)"
=======
        "Processed image 520 (714)"
>>>>>>> fe1b005d2ec4d7eb0bc61da731ff4fa25b905e36
       ]
      },
      {
       "output_type": "stream",
       "stream": "stdout",
       "text": [
        "\r",
<<<<<<< HEAD
        "Processed image 554 (1176)"
=======
        "Processed image 521 (714)"
>>>>>>> fe1b005d2ec4d7eb0bc61da731ff4fa25b905e36
       ]
      },
      {
       "output_type": "stream",
       "stream": "stdout",
       "text": [
        "\r",
<<<<<<< HEAD
        "Processed image 555 (1176)"
=======
        "Processed image 522 (714)"
>>>>>>> fe1b005d2ec4d7eb0bc61da731ff4fa25b905e36
       ]
      },
      {
       "output_type": "stream",
       "stream": "stdout",
       "text": [
        "\r",
<<<<<<< HEAD
        "Processed image 556 (1176)"
=======
        "Processed image 523 (714)"
>>>>>>> fe1b005d2ec4d7eb0bc61da731ff4fa25b905e36
       ]
      },
      {
       "output_type": "stream",
       "stream": "stdout",
       "text": [
        "\r",
<<<<<<< HEAD
        "Processed image 557 (1176)"
=======
        "Processed image 524 (714)"
>>>>>>> fe1b005d2ec4d7eb0bc61da731ff4fa25b905e36
       ]
      },
      {
       "output_type": "stream",
       "stream": "stdout",
       "text": [
        "\r",
<<<<<<< HEAD
        "Processed image 558 (1176)"
=======
        "Processed image 525 (714)"
>>>>>>> fe1b005d2ec4d7eb0bc61da731ff4fa25b905e36
       ]
      },
      {
       "output_type": "stream",
       "stream": "stdout",
       "text": [
        "\r",
<<<<<<< HEAD
        "Processed image 559 (1176)"
=======
        "Processed image 526 (714)"
>>>>>>> fe1b005d2ec4d7eb0bc61da731ff4fa25b905e36
       ]
      },
      {
       "output_type": "stream",
       "stream": "stdout",
       "text": [
        "\r",
<<<<<<< HEAD
        "Processed image 560 (1176)"
=======
        "Processed image 527 (714)"
>>>>>>> fe1b005d2ec4d7eb0bc61da731ff4fa25b905e36
       ]
      },
      {
       "output_type": "stream",
       "stream": "stdout",
       "text": [
        "\r",
<<<<<<< HEAD
        "Processed image 561 (1176)"
=======
        "Processed image 528 (714)"
>>>>>>> fe1b005d2ec4d7eb0bc61da731ff4fa25b905e36
       ]
      },
      {
       "output_type": "stream",
       "stream": "stdout",
       "text": [
        "\r",
<<<<<<< HEAD
        "Processed image 562 (1176)"
=======
        "Processed image 529 (714)"
>>>>>>> fe1b005d2ec4d7eb0bc61da731ff4fa25b905e36
       ]
      },
      {
       "output_type": "stream",
       "stream": "stdout",
       "text": [
        "\r",
<<<<<<< HEAD
        "Processed image 563 (1176)"
=======
        "Processed image 530 (714)"
>>>>>>> fe1b005d2ec4d7eb0bc61da731ff4fa25b905e36
       ]
      },
      {
       "output_type": "stream",
       "stream": "stdout",
       "text": [
        "\r",
<<<<<<< HEAD
        "Processed image 564 (1176)"
=======
        "Processed image 531 (714)"
>>>>>>> fe1b005d2ec4d7eb0bc61da731ff4fa25b905e36
       ]
      },
      {
       "output_type": "stream",
       "stream": "stdout",
       "text": [
        "\r",
<<<<<<< HEAD
        "Processed image 565 (1176)"
=======
        "Processed image 532 (714)"
>>>>>>> fe1b005d2ec4d7eb0bc61da731ff4fa25b905e36
       ]
      },
      {
       "output_type": "stream",
       "stream": "stdout",
       "text": [
        "\r",
<<<<<<< HEAD
        "Processed image 566 (1176)"
=======
        "Processed image 533 (714)"
>>>>>>> fe1b005d2ec4d7eb0bc61da731ff4fa25b905e36
       ]
      },
      {
       "output_type": "stream",
       "stream": "stdout",
       "text": [
        "\r",
<<<<<<< HEAD
        "Processed image 567 (1176)"
=======
        "Processed image 534 (714)"
>>>>>>> fe1b005d2ec4d7eb0bc61da731ff4fa25b905e36
       ]
      },
      {
       "output_type": "stream",
       "stream": "stdout",
       "text": [
        "\r",
<<<<<<< HEAD
        "Processed image 568 (1176)"
=======
        "Processed image 535 (714)"
>>>>>>> fe1b005d2ec4d7eb0bc61da731ff4fa25b905e36
       ]
      },
      {
       "output_type": "stream",
       "stream": "stdout",
       "text": [
        "\r",
<<<<<<< HEAD
        "Processed image 569 (1176)"
=======
        "Processed image 536 (714)"
>>>>>>> fe1b005d2ec4d7eb0bc61da731ff4fa25b905e36
       ]
      },
      {
       "output_type": "stream",
       "stream": "stdout",
       "text": [
        "\r",
<<<<<<< HEAD
        "Processed image 570 (1176)"
=======
        "Processed image 537 (714)"
>>>>>>> fe1b005d2ec4d7eb0bc61da731ff4fa25b905e36
       ]
      },
      {
       "output_type": "stream",
       "stream": "stdout",
       "text": [
        "\r",
<<<<<<< HEAD
        "Processed image 571 (1176)"
=======
        "Processed image 538 (714)"
>>>>>>> fe1b005d2ec4d7eb0bc61da731ff4fa25b905e36
       ]
      },
      {
       "output_type": "stream",
       "stream": "stdout",
       "text": [
        "\r",
<<<<<<< HEAD
        "Processed image 572 (1176)"
=======
        "Processed image 539 (714)"
>>>>>>> fe1b005d2ec4d7eb0bc61da731ff4fa25b905e36
       ]
      },
      {
       "output_type": "stream",
       "stream": "stdout",
       "text": [
        "\r",
<<<<<<< HEAD
        "Processed image 573 (1176)"
=======
        "Processed image 540 (714)"
>>>>>>> fe1b005d2ec4d7eb0bc61da731ff4fa25b905e36
       ]
      },
      {
       "output_type": "stream",
       "stream": "stdout",
       "text": [
        "\r",
<<<<<<< HEAD
        "Processed image 574 (1176)"
=======
        "Processed image 541 (714)"
>>>>>>> fe1b005d2ec4d7eb0bc61da731ff4fa25b905e36
       ]
      },
      {
       "output_type": "stream",
       "stream": "stdout",
       "text": [
        "\r",
<<<<<<< HEAD
        "Processed image 575 (1176)"
=======
        "Processed image 542 (714)"
>>>>>>> fe1b005d2ec4d7eb0bc61da731ff4fa25b905e36
       ]
      },
      {
       "output_type": "stream",
       "stream": "stdout",
       "text": [
        "\r",
<<<<<<< HEAD
        "Processed image 576 (1176)"
=======
        "Processed image 543 (714)"
>>>>>>> fe1b005d2ec4d7eb0bc61da731ff4fa25b905e36
       ]
      },
      {
       "output_type": "stream",
       "stream": "stdout",
       "text": [
        "\r",
<<<<<<< HEAD
        "Processed image 577 (1176)"
=======
        "Processed image 544 (714)"
>>>>>>> fe1b005d2ec4d7eb0bc61da731ff4fa25b905e36
       ]
      },
      {
       "output_type": "stream",
       "stream": "stdout",
       "text": [
        "\r",
<<<<<<< HEAD
        "Processed image 578 (1176)"
=======
        "Processed image 545 (714)"
>>>>>>> fe1b005d2ec4d7eb0bc61da731ff4fa25b905e36
       ]
      },
      {
       "output_type": "stream",
       "stream": "stdout",
       "text": [
        "\r",
<<<<<<< HEAD
        "Processed image 579 (1176)"
=======
        "Processed image 546 (714)"
>>>>>>> fe1b005d2ec4d7eb0bc61da731ff4fa25b905e36
       ]
      },
      {
       "output_type": "stream",
       "stream": "stdout",
       "text": [
        "\r",
<<<<<<< HEAD
        "Processed image 580 (1176)"
=======
        "Processed image 547 (714)"
>>>>>>> fe1b005d2ec4d7eb0bc61da731ff4fa25b905e36
       ]
      },
      {
       "output_type": "stream",
       "stream": "stdout",
       "text": [
        "\r",
<<<<<<< HEAD
        "Processed image 581 (1176)"
=======
        "Processed image 548 (714)"
>>>>>>> fe1b005d2ec4d7eb0bc61da731ff4fa25b905e36
       ]
      },
      {
       "output_type": "stream",
       "stream": "stdout",
       "text": [
        "\r",
<<<<<<< HEAD
        "Processed image 582 (1176)"
=======
        "Processed image 549 (714)"
>>>>>>> fe1b005d2ec4d7eb0bc61da731ff4fa25b905e36
       ]
      },
      {
       "output_type": "stream",
       "stream": "stdout",
       "text": [
        "\r",
<<<<<<< HEAD
        "Processed image 583 (1176)"
=======
        "Processed image 550 (714)"
>>>>>>> fe1b005d2ec4d7eb0bc61da731ff4fa25b905e36
       ]
      },
      {
       "output_type": "stream",
       "stream": "stdout",
       "text": [
        "\r",
<<<<<<< HEAD
        "Processed image 584 (1176)"
=======
        "Processed image 551 (714)"
>>>>>>> fe1b005d2ec4d7eb0bc61da731ff4fa25b905e36
       ]
      },
      {
       "output_type": "stream",
       "stream": "stdout",
       "text": [
        "\r",
<<<<<<< HEAD
        "Processed image 585 (1176)"
=======
        "Processed image 552 (714)"
>>>>>>> fe1b005d2ec4d7eb0bc61da731ff4fa25b905e36
       ]
      },
      {
       "output_type": "stream",
       "stream": "stdout",
       "text": [
        "\r",
<<<<<<< HEAD
        "Processed image 586 (1176)"
=======
        "Processed image 553 (714)"
>>>>>>> fe1b005d2ec4d7eb0bc61da731ff4fa25b905e36
       ]
      },
      {
       "output_type": "stream",
       "stream": "stdout",
       "text": [
        "\r",
<<<<<<< HEAD
        "Processed image 587 (1176)"
=======
        "Processed image 554 (714)"
>>>>>>> fe1b005d2ec4d7eb0bc61da731ff4fa25b905e36
       ]
      },
      {
       "output_type": "stream",
       "stream": "stdout",
       "text": [
        "\r",
<<<<<<< HEAD
        "Processed image 588 (1176)"
=======
        "Processed image 555 (714)"
>>>>>>> fe1b005d2ec4d7eb0bc61da731ff4fa25b905e36
       ]
      },
      {
       "output_type": "stream",
       "stream": "stdout",
       "text": [
        "\r",
<<<<<<< HEAD
        "Processed image 589 (1176)"
=======
        "Processed image 556 (714)"
>>>>>>> fe1b005d2ec4d7eb0bc61da731ff4fa25b905e36
       ]
      },
      {
       "output_type": "stream",
       "stream": "stdout",
       "text": [
        "\r",
<<<<<<< HEAD
        "Processed image 590 (1176)"
=======
        "Processed image 557 (714)"
>>>>>>> fe1b005d2ec4d7eb0bc61da731ff4fa25b905e36
       ]
      },
      {
       "output_type": "stream",
       "stream": "stdout",
       "text": [
        "\r",
<<<<<<< HEAD
        "Processed image 591 (1176)"
=======
        "Processed image 558 (714)"
>>>>>>> fe1b005d2ec4d7eb0bc61da731ff4fa25b905e36
       ]
      },
      {
       "output_type": "stream",
       "stream": "stdout",
       "text": [
        "\r",
<<<<<<< HEAD
        "Processed image 592 (1176)"
=======
        "Processed image 559 (714)"
>>>>>>> fe1b005d2ec4d7eb0bc61da731ff4fa25b905e36
       ]
      },
      {
       "output_type": "stream",
       "stream": "stdout",
       "text": [
        "\r",
<<<<<<< HEAD
        "Processed image 593 (1176)"
=======
        "Processed image 560 (714)"
>>>>>>> fe1b005d2ec4d7eb0bc61da731ff4fa25b905e36
       ]
      },
      {
       "output_type": "stream",
       "stream": "stdout",
       "text": [
        "\r",
<<<<<<< HEAD
        "Processed image 594 (1176)"
=======
        "Processed image 561 (714)"
>>>>>>> fe1b005d2ec4d7eb0bc61da731ff4fa25b905e36
       ]
      },
      {
       "output_type": "stream",
       "stream": "stdout",
       "text": [
        "\r",
<<<<<<< HEAD
        "Processed image 595 (1176)"
=======
        "Processed image 562 (714)"
>>>>>>> fe1b005d2ec4d7eb0bc61da731ff4fa25b905e36
       ]
      },
      {
       "output_type": "stream",
       "stream": "stdout",
       "text": [
        "\r",
<<<<<<< HEAD
        "Processed image 596 (1176)"
=======
        "Processed image 563 (714)"
>>>>>>> fe1b005d2ec4d7eb0bc61da731ff4fa25b905e36
       ]
      },
      {
       "output_type": "stream",
       "stream": "stdout",
       "text": [
        "\r",
<<<<<<< HEAD
        "Processed image 597 (1176)"
=======
        "Processed image 564 (714)"
>>>>>>> fe1b005d2ec4d7eb0bc61da731ff4fa25b905e36
       ]
      },
      {
       "output_type": "stream",
       "stream": "stdout",
       "text": [
        "\r",
<<<<<<< HEAD
        "Processed image 598 (1176)"
=======
        "Processed image 565 (714)"
>>>>>>> fe1b005d2ec4d7eb0bc61da731ff4fa25b905e36
       ]
      },
      {
       "output_type": "stream",
       "stream": "stdout",
       "text": [
        "\r",
<<<<<<< HEAD
        "Processed image 599 (1176)"
=======
        "Processed image 566 (714)"
>>>>>>> fe1b005d2ec4d7eb0bc61da731ff4fa25b905e36
       ]
      },
      {
       "output_type": "stream",
       "stream": "stdout",
       "text": [
        "\r",
<<<<<<< HEAD
        "Processed image 600 (1176)"
=======
        "Processed image 567 (714)"
>>>>>>> fe1b005d2ec4d7eb0bc61da731ff4fa25b905e36
       ]
      },
      {
       "output_type": "stream",
       "stream": "stdout",
       "text": [
        "\r",
<<<<<<< HEAD
        "Processed image 601 (1176)"
=======
        "Processed image 568 (714)"
>>>>>>> fe1b005d2ec4d7eb0bc61da731ff4fa25b905e36
       ]
      },
      {
       "output_type": "stream",
       "stream": "stdout",
       "text": [
        "\r",
<<<<<<< HEAD
        "Processed image 602 (1176)"
=======
        "Processed image 569 (714)"
>>>>>>> fe1b005d2ec4d7eb0bc61da731ff4fa25b905e36
       ]
      },
      {
       "output_type": "stream",
       "stream": "stdout",
       "text": [
        "\r",
<<<<<<< HEAD
        "Processed image 603 (1176)"
=======
        "Processed image 570 (714)"
>>>>>>> fe1b005d2ec4d7eb0bc61da731ff4fa25b905e36
       ]
      },
      {
       "output_type": "stream",
       "stream": "stdout",
       "text": [
        "\r",
<<<<<<< HEAD
        "Processed image 604 (1176)"
=======
        "Processed image 571 (714)"
>>>>>>> fe1b005d2ec4d7eb0bc61da731ff4fa25b905e36
       ]
      },
      {
       "output_type": "stream",
       "stream": "stdout",
       "text": [
        "\r",
<<<<<<< HEAD
        "Processed image 605 (1176)"
=======
        "Processed image 572 (714)"
>>>>>>> fe1b005d2ec4d7eb0bc61da731ff4fa25b905e36
       ]
      },
      {
       "output_type": "stream",
       "stream": "stdout",
       "text": [
        "\r",
<<<<<<< HEAD
        "Processed image 606 (1176)"
=======
        "Processed image 573 (714)"
>>>>>>> fe1b005d2ec4d7eb0bc61da731ff4fa25b905e36
       ]
      },
      {
       "output_type": "stream",
       "stream": "stdout",
       "text": [
        "\r",
<<<<<<< HEAD
        "Processed image 607 (1176)"
=======
        "Processed image 574 (714)"
>>>>>>> fe1b005d2ec4d7eb0bc61da731ff4fa25b905e36
       ]
      },
      {
       "output_type": "stream",
       "stream": "stdout",
       "text": [
        "\r",
<<<<<<< HEAD
        "Processed image 608 (1176)"
=======
        "Processed image 575 (714)"
>>>>>>> fe1b005d2ec4d7eb0bc61da731ff4fa25b905e36
       ]
      },
      {
       "output_type": "stream",
       "stream": "stdout",
       "text": [
        "\r",
<<<<<<< HEAD
        "Processed image 609 (1176)"
=======
        "Processed image 576 (714)"
>>>>>>> fe1b005d2ec4d7eb0bc61da731ff4fa25b905e36
       ]
      },
      {
       "output_type": "stream",
       "stream": "stdout",
       "text": [
        "\r",
<<<<<<< HEAD
        "Processed image 610 (1176)"
=======
        "Processed image 577 (714)"
>>>>>>> fe1b005d2ec4d7eb0bc61da731ff4fa25b905e36
       ]
      },
      {
       "output_type": "stream",
       "stream": "stdout",
       "text": [
        "\r",
<<<<<<< HEAD
        "Processed image 611 (1176)"
=======
        "Processed image 578 (714)"
>>>>>>> fe1b005d2ec4d7eb0bc61da731ff4fa25b905e36
       ]
      },
      {
       "output_type": "stream",
       "stream": "stdout",
       "text": [
        "\r",
<<<<<<< HEAD
        "Processed image 612 (1176)"
=======
        "Processed image 579 (714)"
>>>>>>> fe1b005d2ec4d7eb0bc61da731ff4fa25b905e36
       ]
      },
      {
       "output_type": "stream",
       "stream": "stdout",
       "text": [
        "\r",
<<<<<<< HEAD
        "Processed image 613 (1176)"
=======
        "Processed image 580 (714)"
>>>>>>> fe1b005d2ec4d7eb0bc61da731ff4fa25b905e36
       ]
      },
      {
       "output_type": "stream",
       "stream": "stdout",
       "text": [
        "\r",
<<<<<<< HEAD
        "Processed image 614 (1176)"
=======
        "Processed image 581 (714)"
>>>>>>> fe1b005d2ec4d7eb0bc61da731ff4fa25b905e36
       ]
      },
      {
       "output_type": "stream",
       "stream": "stdout",
       "text": [
        "\r",
<<<<<<< HEAD
        "Processed image 615 (1176)"
=======
        "Processed image 582 (714)"
>>>>>>> fe1b005d2ec4d7eb0bc61da731ff4fa25b905e36
       ]
      },
      {
       "output_type": "stream",
       "stream": "stdout",
       "text": [
        "\r",
<<<<<<< HEAD
        "Processed image 616 (1176)"
=======
        "Processed image 583 (714)"
>>>>>>> fe1b005d2ec4d7eb0bc61da731ff4fa25b905e36
       ]
      },
      {
       "output_type": "stream",
       "stream": "stdout",
       "text": [
        "\r",
<<<<<<< HEAD
        "Processed image 617 (1176)"
=======
        "Processed image 584 (714)"
>>>>>>> fe1b005d2ec4d7eb0bc61da731ff4fa25b905e36
       ]
      },
      {
       "output_type": "stream",
       "stream": "stdout",
       "text": [
        "\r",
<<<<<<< HEAD
        "Processed image 618 (1176)"
=======
        "Processed image 585 (714)"
>>>>>>> fe1b005d2ec4d7eb0bc61da731ff4fa25b905e36
       ]
      },
      {
       "output_type": "stream",
       "stream": "stdout",
       "text": [
        "\r",
<<<<<<< HEAD
        "Processed image 619 (1176)"
=======
        "Processed image 586 (714)"
>>>>>>> fe1b005d2ec4d7eb0bc61da731ff4fa25b905e36
       ]
      },
      {
       "output_type": "stream",
       "stream": "stdout",
       "text": [
        "\r",
<<<<<<< HEAD
        "Processed image 620 (1176)"
=======
        "Processed image 587 (714)"
>>>>>>> fe1b005d2ec4d7eb0bc61da731ff4fa25b905e36
       ]
      },
      {
       "output_type": "stream",
       "stream": "stdout",
       "text": [
        "\r",
<<<<<<< HEAD
        "Processed image 621 (1176)"
=======
        "Processed image 588 (714)"
>>>>>>> fe1b005d2ec4d7eb0bc61da731ff4fa25b905e36
       ]
      },
      {
       "output_type": "stream",
       "stream": "stdout",
       "text": [
        "\r",
<<<<<<< HEAD
        "Processed image 622 (1176)"
=======
        "Processed image 589 (714)"
>>>>>>> fe1b005d2ec4d7eb0bc61da731ff4fa25b905e36
       ]
      },
      {
       "output_type": "stream",
       "stream": "stdout",
       "text": [
        "\r",
<<<<<<< HEAD
        "Processed image 623 (1176)"
=======
        "Processed image 590 (714)"
>>>>>>> fe1b005d2ec4d7eb0bc61da731ff4fa25b905e36
       ]
      },
      {
       "output_type": "stream",
       "stream": "stdout",
       "text": [
        "\r",
<<<<<<< HEAD
        "Processed image 624 (1176)"
=======
        "Processed image 591 (714)"
>>>>>>> fe1b005d2ec4d7eb0bc61da731ff4fa25b905e36
       ]
      },
      {
       "output_type": "stream",
       "stream": "stdout",
       "text": [
        "\r",
<<<<<<< HEAD
        "Processed image 625 (1176)"
=======
        "Processed image 592 (714)"
>>>>>>> fe1b005d2ec4d7eb0bc61da731ff4fa25b905e36
       ]
      },
      {
       "output_type": "stream",
       "stream": "stdout",
       "text": [
        "\r",
<<<<<<< HEAD
        "Processed image 626 (1176)"
=======
        "Processed image 593 (714)"
>>>>>>> fe1b005d2ec4d7eb0bc61da731ff4fa25b905e36
       ]
      },
      {
       "output_type": "stream",
       "stream": "stdout",
       "text": [
        "\r",
<<<<<<< HEAD
        "Processed image 627 (1176)"
=======
        "Processed image 594 (714)"
>>>>>>> fe1b005d2ec4d7eb0bc61da731ff4fa25b905e36
       ]
      },
      {
       "output_type": "stream",
       "stream": "stdout",
       "text": [
        "\r",
<<<<<<< HEAD
        "Processed image 628 (1176)"
=======
        "Processed image 595 (714)"
>>>>>>> fe1b005d2ec4d7eb0bc61da731ff4fa25b905e36
       ]
      },
      {
       "output_type": "stream",
       "stream": "stdout",
       "text": [
        "\r",
<<<<<<< HEAD
        "Processed image 629 (1176)"
=======
        "Processed image 596 (714)"
>>>>>>> fe1b005d2ec4d7eb0bc61da731ff4fa25b905e36
       ]
      },
      {
       "output_type": "stream",
       "stream": "stdout",
       "text": [
        "\r",
<<<<<<< HEAD
        "Processed image 630 (1176)"
=======
        "Processed image 597 (714)"
>>>>>>> fe1b005d2ec4d7eb0bc61da731ff4fa25b905e36
       ]
      },
      {
       "output_type": "stream",
       "stream": "stdout",
       "text": [
        "\r",
<<<<<<< HEAD
        "Processed image 631 (1176)"
=======
        "Processed image 598 (714)"
>>>>>>> fe1b005d2ec4d7eb0bc61da731ff4fa25b905e36
       ]
      },
      {
       "output_type": "stream",
       "stream": "stdout",
       "text": [
        "\r",
<<<<<<< HEAD
        "Processed image 632 (1176)"
=======
        "Processed image 599 (714)"
>>>>>>> fe1b005d2ec4d7eb0bc61da731ff4fa25b905e36
       ]
      },
      {
       "output_type": "stream",
       "stream": "stdout",
       "text": [
        "\r",
<<<<<<< HEAD
        "Processed image 633 (1176)"
=======
        "Processed image 600 (714)"
>>>>>>> fe1b005d2ec4d7eb0bc61da731ff4fa25b905e36
       ]
      },
      {
       "output_type": "stream",
       "stream": "stdout",
       "text": [
        "\r",
<<<<<<< HEAD
        "Processed image 634 (1176)"
=======
        "Processed image 601 (714)"
>>>>>>> fe1b005d2ec4d7eb0bc61da731ff4fa25b905e36
       ]
      },
      {
       "output_type": "stream",
       "stream": "stdout",
       "text": [
        "\r",
<<<<<<< HEAD
        "Processed image 635 (1176)"
=======
        "Processed image 602 (714)"
>>>>>>> fe1b005d2ec4d7eb0bc61da731ff4fa25b905e36
       ]
      },
      {
       "output_type": "stream",
       "stream": "stdout",
       "text": [
        "\r",
<<<<<<< HEAD
        "Processed image 636 (1176)"
=======
        "Processed image 603 (714)"
>>>>>>> fe1b005d2ec4d7eb0bc61da731ff4fa25b905e36
       ]
      },
      {
       "output_type": "stream",
       "stream": "stdout",
       "text": [
        "\r",
<<<<<<< HEAD
        "Processed image 637 (1176)"
=======
        "Processed image 604 (714)"
>>>>>>> fe1b005d2ec4d7eb0bc61da731ff4fa25b905e36
       ]
      },
      {
       "output_type": "stream",
       "stream": "stdout",
       "text": [
        "\r",
<<<<<<< HEAD
        "Processed image 638 (1176)"
=======
        "Processed image 605 (714)"
>>>>>>> fe1b005d2ec4d7eb0bc61da731ff4fa25b905e36
       ]
      },
      {
       "output_type": "stream",
       "stream": "stdout",
       "text": [
        "\r",
<<<<<<< HEAD
        "Processed image 639 (1176)"
=======
        "Processed image 606 (714)"
>>>>>>> fe1b005d2ec4d7eb0bc61da731ff4fa25b905e36
       ]
      },
      {
       "output_type": "stream",
       "stream": "stdout",
       "text": [
        "\r",
<<<<<<< HEAD
        "Processed image 640 (1176)"
=======
        "Processed image 607 (714)"
>>>>>>> fe1b005d2ec4d7eb0bc61da731ff4fa25b905e36
       ]
      },
      {
       "output_type": "stream",
       "stream": "stdout",
       "text": [
        "\r",
<<<<<<< HEAD
        "Processed image 641 (1176)"
=======
        "Processed image 608 (714)"
>>>>>>> fe1b005d2ec4d7eb0bc61da731ff4fa25b905e36
       ]
      },
      {
       "output_type": "stream",
       "stream": "stdout",
       "text": [
        "\r",
<<<<<<< HEAD
        "Processed image 642 (1176)"
=======
        "Processed image 609 (714)"
>>>>>>> fe1b005d2ec4d7eb0bc61da731ff4fa25b905e36
       ]
      },
      {
       "output_type": "stream",
       "stream": "stdout",
       "text": [
        "\r",
<<<<<<< HEAD
        "Processed image 643 (1176)"
=======
        "Processed image 610 (714)"
>>>>>>> fe1b005d2ec4d7eb0bc61da731ff4fa25b905e36
       ]
      },
      {
       "output_type": "stream",
       "stream": "stdout",
       "text": [
        "\r",
<<<<<<< HEAD
        "Processed image 644 (1176)"
=======
        "Processed image 611 (714)"
>>>>>>> fe1b005d2ec4d7eb0bc61da731ff4fa25b905e36
       ]
      },
      {
       "output_type": "stream",
       "stream": "stdout",
       "text": [
        "\r",
<<<<<<< HEAD
        "Processed image 645 (1176)"
=======
        "Processed image 612 (714)"
>>>>>>> fe1b005d2ec4d7eb0bc61da731ff4fa25b905e36
       ]
      },
      {
       "output_type": "stream",
       "stream": "stdout",
       "text": [
        "\r",
<<<<<<< HEAD
        "Processed image 646 (1176)"
=======
        "Processed image 613 (714)"
>>>>>>> fe1b005d2ec4d7eb0bc61da731ff4fa25b905e36
       ]
      },
      {
       "output_type": "stream",
       "stream": "stdout",
       "text": [
        "\r",
<<<<<<< HEAD
        "Processed image 647 (1176)"
=======
        "Processed image 614 (714)"
>>>>>>> fe1b005d2ec4d7eb0bc61da731ff4fa25b905e36
       ]
      },
      {
       "output_type": "stream",
       "stream": "stdout",
       "text": [
        "\r",
<<<<<<< HEAD
        "Processed image 648 (1176)"
=======
        "Processed image 615 (714)"
>>>>>>> fe1b005d2ec4d7eb0bc61da731ff4fa25b905e36
       ]
      },
      {
       "output_type": "stream",
       "stream": "stdout",
       "text": [
        "\r",
<<<<<<< HEAD
        "Processed image 649 (1176)"
=======
        "Processed image 616 (714)"
>>>>>>> fe1b005d2ec4d7eb0bc61da731ff4fa25b905e36
       ]
      },
      {
       "output_type": "stream",
       "stream": "stdout",
       "text": [
        "\r",
<<<<<<< HEAD
        "Processed image 650 (1176)"
=======
        "Processed image 617 (714)"
>>>>>>> fe1b005d2ec4d7eb0bc61da731ff4fa25b905e36
       ]
      },
      {
       "output_type": "stream",
       "stream": "stdout",
       "text": [
        "\r",
<<<<<<< HEAD
        "Processed image 651 (1176)"
=======
        "Processed image 618 (714)"
>>>>>>> fe1b005d2ec4d7eb0bc61da731ff4fa25b905e36
       ]
      },
      {
       "output_type": "stream",
       "stream": "stdout",
       "text": [
        "\r",
<<<<<<< HEAD
        "Processed image 652 (1176)"
=======
        "Processed image 619 (714)"
>>>>>>> fe1b005d2ec4d7eb0bc61da731ff4fa25b905e36
       ]
      },
      {
       "output_type": "stream",
       "stream": "stdout",
       "text": [
        "\r",
<<<<<<< HEAD
        "Processed image 653 (1176)"
=======
        "Processed image 620 (714)"
>>>>>>> fe1b005d2ec4d7eb0bc61da731ff4fa25b905e36
       ]
      },
      {
       "output_type": "stream",
       "stream": "stdout",
       "text": [
        "\r",
<<<<<<< HEAD
        "Processed image 654 (1176)"
=======
        "Processed image 621 (714)"
>>>>>>> fe1b005d2ec4d7eb0bc61da731ff4fa25b905e36
       ]
      },
      {
       "output_type": "stream",
       "stream": "stdout",
       "text": [
        "\r",
<<<<<<< HEAD
        "Processed image 655 (1176)"
=======
        "Processed image 622 (714)"
>>>>>>> fe1b005d2ec4d7eb0bc61da731ff4fa25b905e36
       ]
      },
      {
       "output_type": "stream",
       "stream": "stdout",
       "text": [
        "\r",
<<<<<<< HEAD
        "Processed image 656 (1176)"
=======
        "Processed image 623 (714)"
>>>>>>> fe1b005d2ec4d7eb0bc61da731ff4fa25b905e36
       ]
      },
      {
       "output_type": "stream",
       "stream": "stdout",
       "text": [
        "\r",
<<<<<<< HEAD
        "Processed image 657 (1176)"
=======
        "Processed image 624 (714)"
>>>>>>> fe1b005d2ec4d7eb0bc61da731ff4fa25b905e36
       ]
      },
      {
       "output_type": "stream",
       "stream": "stdout",
       "text": [
        "\r",
<<<<<<< HEAD
        "Processed image 658 (1176)"
=======
        "Processed image 625 (714)"
>>>>>>> fe1b005d2ec4d7eb0bc61da731ff4fa25b905e36
       ]
      },
      {
       "output_type": "stream",
       "stream": "stdout",
       "text": [
        "\r",
<<<<<<< HEAD
        "Processed image 659 (1176)"
=======
        "Processed image 626 (714)"
>>>>>>> fe1b005d2ec4d7eb0bc61da731ff4fa25b905e36
       ]
      },
      {
       "output_type": "stream",
       "stream": "stdout",
       "text": [
        "\r",
<<<<<<< HEAD
        "Processed image 660 (1176)"
=======
        "Processed image 627 (714)"
>>>>>>> fe1b005d2ec4d7eb0bc61da731ff4fa25b905e36
       ]
      },
      {
       "output_type": "stream",
       "stream": "stdout",
       "text": [
        "\r",
<<<<<<< HEAD
        "Processed image 661 (1176)"
=======
        "Processed image 628 (714)"
>>>>>>> fe1b005d2ec4d7eb0bc61da731ff4fa25b905e36
       ]
      },
      {
       "output_type": "stream",
       "stream": "stdout",
       "text": [
        "\r",
<<<<<<< HEAD
        "Processed image 662 (1176)"
=======
        "Processed image 629 (714)"
>>>>>>> fe1b005d2ec4d7eb0bc61da731ff4fa25b905e36
       ]
      },
      {
       "output_type": "stream",
       "stream": "stdout",
       "text": [
        "\r",
<<<<<<< HEAD
        "Processed image 663 (1176)"
=======
        "Processed image 630 (714)"
>>>>>>> fe1b005d2ec4d7eb0bc61da731ff4fa25b905e36
       ]
      },
      {
       "output_type": "stream",
       "stream": "stdout",
       "text": [
        "\r",
<<<<<<< HEAD
        "Processed image 664 (1176)"
=======
        "Processed image 631 (714)"
>>>>>>> fe1b005d2ec4d7eb0bc61da731ff4fa25b905e36
       ]
      },
      {
       "output_type": "stream",
       "stream": "stdout",
       "text": [
        "\r",
<<<<<<< HEAD
        "Processed image 665 (1176)"
=======
        "Processed image 632 (714)"
>>>>>>> fe1b005d2ec4d7eb0bc61da731ff4fa25b905e36
       ]
      },
      {
       "output_type": "stream",
       "stream": "stdout",
       "text": [
        "\r",
<<<<<<< HEAD
        "Processed image 666 (1176)"
=======
        "Processed image 633 (714)"
>>>>>>> fe1b005d2ec4d7eb0bc61da731ff4fa25b905e36
       ]
      },
      {
       "output_type": "stream",
       "stream": "stdout",
       "text": [
        "\r",
<<<<<<< HEAD
        "Processed image 667 (1176)"
=======
        "Processed image 634 (714)"
>>>>>>> fe1b005d2ec4d7eb0bc61da731ff4fa25b905e36
       ]
      },
      {
       "output_type": "stream",
       "stream": "stdout",
       "text": [
        "\r",
<<<<<<< HEAD
        "Processed image 668 (1176)"
=======
        "Processed image 635 (714)"
>>>>>>> fe1b005d2ec4d7eb0bc61da731ff4fa25b905e36
       ]
      },
      {
       "output_type": "stream",
       "stream": "stdout",
       "text": [
        "\r",
<<<<<<< HEAD
        "Processed image 669 (1176)"
=======
        "Processed image 636 (714)"
>>>>>>> fe1b005d2ec4d7eb0bc61da731ff4fa25b905e36
       ]
      },
      {
       "output_type": "stream",
       "stream": "stdout",
       "text": [
        "\r",
<<<<<<< HEAD
        "Processed image 670 (1176)"
=======
        "Processed image 637 (714)"
>>>>>>> fe1b005d2ec4d7eb0bc61da731ff4fa25b905e36
       ]
      },
      {
       "output_type": "stream",
       "stream": "stdout",
       "text": [
        "\r",
<<<<<<< HEAD
        "Processed image 671 (1176)"
=======
        "Processed image 638 (714)"
>>>>>>> fe1b005d2ec4d7eb0bc61da731ff4fa25b905e36
       ]
      },
      {
       "output_type": "stream",
       "stream": "stdout",
       "text": [
        "\r",
<<<<<<< HEAD
        "Processed image 672 (1176)"
=======
        "Processed image 639 (714)"
>>>>>>> fe1b005d2ec4d7eb0bc61da731ff4fa25b905e36
       ]
      },
      {
       "output_type": "stream",
       "stream": "stdout",
       "text": [
        "\r",
<<<<<<< HEAD
        "Processed image 673 (1176)"
=======
        "Processed image 640 (714)"
>>>>>>> fe1b005d2ec4d7eb0bc61da731ff4fa25b905e36
       ]
      },
      {
       "output_type": "stream",
       "stream": "stdout",
       "text": [
        "\r",
<<<<<<< HEAD
        "Processed image 674 (1176)"
=======
        "Processed image 641 (714)"
>>>>>>> fe1b005d2ec4d7eb0bc61da731ff4fa25b905e36
       ]
      },
      {
       "output_type": "stream",
       "stream": "stdout",
       "text": [
        "\r",
<<<<<<< HEAD
        "Processed image 675 (1176)"
=======
        "Processed image 642 (714)"
>>>>>>> fe1b005d2ec4d7eb0bc61da731ff4fa25b905e36
       ]
      },
      {
       "output_type": "stream",
       "stream": "stdout",
       "text": [
        "\r",
<<<<<<< HEAD
        "Processed image 676 (1176)"
=======
        "Processed image 643 (714)"
>>>>>>> fe1b005d2ec4d7eb0bc61da731ff4fa25b905e36
       ]
      },
      {
       "output_type": "stream",
       "stream": "stdout",
       "text": [
        "\r",
<<<<<<< HEAD
        "Processed image 677 (1176)"
=======
        "Processed image 644 (714)"
>>>>>>> fe1b005d2ec4d7eb0bc61da731ff4fa25b905e36
       ]
      },
      {
       "output_type": "stream",
       "stream": "stdout",
       "text": [
        "\r",
<<<<<<< HEAD
        "Processed image 678 (1176)"
=======
        "Processed image 645 (714)"
>>>>>>> fe1b005d2ec4d7eb0bc61da731ff4fa25b905e36
       ]
      },
      {
       "output_type": "stream",
       "stream": "stdout",
       "text": [
        "\r",
<<<<<<< HEAD
        "Processed image 679 (1176)"
=======
        "Processed image 646 (714)"
>>>>>>> fe1b005d2ec4d7eb0bc61da731ff4fa25b905e36
       ]
      },
      {
       "output_type": "stream",
       "stream": "stdout",
       "text": [
        "\r",
<<<<<<< HEAD
        "Processed image 680 (1176)"
=======
        "Processed image 647 (714)"
>>>>>>> fe1b005d2ec4d7eb0bc61da731ff4fa25b905e36
       ]
      },
      {
       "output_type": "stream",
       "stream": "stdout",
       "text": [
        "\r",
<<<<<<< HEAD
        "Processed image 681 (1176)"
=======
        "Processed image 648 (714)"
>>>>>>> fe1b005d2ec4d7eb0bc61da731ff4fa25b905e36
       ]
      },
      {
       "output_type": "stream",
       "stream": "stdout",
       "text": [
        "\r",
<<<<<<< HEAD
        "Processed image 682 (1176)"
=======
        "Processed image 649 (714)"
>>>>>>> fe1b005d2ec4d7eb0bc61da731ff4fa25b905e36
       ]
      },
      {
       "output_type": "stream",
       "stream": "stdout",
       "text": [
        "\r",
<<<<<<< HEAD
        "Processed image 683 (1176)"
=======
        "Processed image 650 (714)"
>>>>>>> fe1b005d2ec4d7eb0bc61da731ff4fa25b905e36
       ]
      },
      {
       "output_type": "stream",
       "stream": "stdout",
       "text": [
        "\r",
<<<<<<< HEAD
        "Processed image 684 (1176)"
=======
        "Processed image 651 (714)"
>>>>>>> fe1b005d2ec4d7eb0bc61da731ff4fa25b905e36
       ]
      },
      {
       "output_type": "stream",
       "stream": "stdout",
       "text": [
        "\r",
<<<<<<< HEAD
        "Processed image 685 (1176)"
=======
        "Processed image 652 (714)"
>>>>>>> fe1b005d2ec4d7eb0bc61da731ff4fa25b905e36
       ]
      },
      {
       "output_type": "stream",
       "stream": "stdout",
       "text": [
        "\r",
<<<<<<< HEAD
        "Processed image 686 (1176)"
=======
        "Processed image 653 (714)"
>>>>>>> fe1b005d2ec4d7eb0bc61da731ff4fa25b905e36
       ]
      },
      {
       "output_type": "stream",
       "stream": "stdout",
       "text": [
        "\r",
<<<<<<< HEAD
        "Processed image 687 (1176)"
=======
        "Processed image 654 (714)"
>>>>>>> fe1b005d2ec4d7eb0bc61da731ff4fa25b905e36
       ]
      },
      {
       "output_type": "stream",
       "stream": "stdout",
       "text": [
        "\r",
<<<<<<< HEAD
        "Processed image 688 (1176)"
=======
        "Processed image 655 (714)"
>>>>>>> fe1b005d2ec4d7eb0bc61da731ff4fa25b905e36
       ]
      },
      {
       "output_type": "stream",
       "stream": "stdout",
       "text": [
        "\r",
<<<<<<< HEAD
        "Processed image 689 (1176)"
=======
        "Processed image 656 (714)"
>>>>>>> fe1b005d2ec4d7eb0bc61da731ff4fa25b905e36
       ]
      },
      {
       "output_type": "stream",
       "stream": "stdout",
       "text": [
        "\r",
<<<<<<< HEAD
        "Processed image 690 (1176)"
=======
        "Processed image 657 (714)"
>>>>>>> fe1b005d2ec4d7eb0bc61da731ff4fa25b905e36
       ]
      },
      {
       "output_type": "stream",
       "stream": "stdout",
       "text": [
        "\r",
<<<<<<< HEAD
        "Processed image 691 (1176)"
=======
        "Processed image 658 (714)"
>>>>>>> fe1b005d2ec4d7eb0bc61da731ff4fa25b905e36
       ]
      },
      {
       "output_type": "stream",
       "stream": "stdout",
       "text": [
        "\r",
<<<<<<< HEAD
        "Processed image 692 (1176)"
=======
        "Processed image 659 (714)"
>>>>>>> fe1b005d2ec4d7eb0bc61da731ff4fa25b905e36
       ]
      },
      {
       "output_type": "stream",
       "stream": "stdout",
       "text": [
        "\r",
<<<<<<< HEAD
        "Processed image 693 (1176)"
=======
        "Processed image 660 (714)"
>>>>>>> fe1b005d2ec4d7eb0bc61da731ff4fa25b905e36
       ]
      },
      {
       "output_type": "stream",
       "stream": "stdout",
       "text": [
        "\r",
<<<<<<< HEAD
        "Processed image 694 (1176)"
=======
        "Processed image 661 (714)"
>>>>>>> fe1b005d2ec4d7eb0bc61da731ff4fa25b905e36
       ]
      },
      {
       "output_type": "stream",
       "stream": "stdout",
       "text": [
        "\r",
<<<<<<< HEAD
        "Processed image 695 (1176)"
=======
        "Processed image 662 (714)"
>>>>>>> fe1b005d2ec4d7eb0bc61da731ff4fa25b905e36
       ]
      },
      {
       "output_type": "stream",
       "stream": "stdout",
       "text": [
        "\r",
<<<<<<< HEAD
        "Processed image 696 (1176)"
=======
        "Processed image 663 (714)"
>>>>>>> fe1b005d2ec4d7eb0bc61da731ff4fa25b905e36
       ]
      },
      {
       "output_type": "stream",
       "stream": "stdout",
       "text": [
        "\r",
<<<<<<< HEAD
        "Processed image 697 (1176)"
=======
        "Processed image 664 (714)"
>>>>>>> fe1b005d2ec4d7eb0bc61da731ff4fa25b905e36
       ]
      },
      {
       "output_type": "stream",
       "stream": "stdout",
       "text": [
        "\r",
<<<<<<< HEAD
        "Processed image 698 (1176)"
=======
        "Processed image 665 (714)"
>>>>>>> fe1b005d2ec4d7eb0bc61da731ff4fa25b905e36
       ]
      },
      {
       "output_type": "stream",
       "stream": "stdout",
       "text": [
        "\r",
<<<<<<< HEAD
        "Processed image 699 (1176)"
=======
        "Processed image 666 (714)"
>>>>>>> fe1b005d2ec4d7eb0bc61da731ff4fa25b905e36
       ]
      },
      {
       "output_type": "stream",
       "stream": "stdout",
       "text": [
        "\r",
<<<<<<< HEAD
        "Processed image 700 (1176)"
=======
        "Processed image 667 (714)"
>>>>>>> fe1b005d2ec4d7eb0bc61da731ff4fa25b905e36
       ]
      },
      {
       "output_type": "stream",
       "stream": "stdout",
       "text": [
        "\r",
<<<<<<< HEAD
        "Processed image 701 (1176)"
=======
        "Processed image 668 (714)"
>>>>>>> fe1b005d2ec4d7eb0bc61da731ff4fa25b905e36
       ]
      },
      {
       "output_type": "stream",
       "stream": "stdout",
       "text": [
        "\r",
<<<<<<< HEAD
        "Processed image 702 (1176)"
=======
        "Processed image 669 (714)"
>>>>>>> fe1b005d2ec4d7eb0bc61da731ff4fa25b905e36
       ]
      },
      {
       "output_type": "stream",
       "stream": "stdout",
       "text": [
        "\r",
<<<<<<< HEAD
        "Processed image 703 (1176)"
=======
        "Processed image 670 (714)"
>>>>>>> fe1b005d2ec4d7eb0bc61da731ff4fa25b905e36
       ]
      },
      {
       "output_type": "stream",
       "stream": "stdout",
       "text": [
        "\r",
<<<<<<< HEAD
        "Processed image 704 (1176)"
=======
        "Processed image 671 (714)"
>>>>>>> fe1b005d2ec4d7eb0bc61da731ff4fa25b905e36
       ]
      },
      {
       "output_type": "stream",
       "stream": "stdout",
       "text": [
        "\r",
<<<<<<< HEAD
        "Processed image 705 (1176)"
=======
        "Processed image 672 (714)"
>>>>>>> fe1b005d2ec4d7eb0bc61da731ff4fa25b905e36
       ]
      },
      {
       "output_type": "stream",
       "stream": "stdout",
       "text": [
        "\r",
<<<<<<< HEAD
        "Processed image 706 (1176)"
=======
        "Processed image 673 (714)"
>>>>>>> fe1b005d2ec4d7eb0bc61da731ff4fa25b905e36
       ]
      },
      {
       "output_type": "stream",
       "stream": "stdout",
       "text": [
        "\r",
<<<<<<< HEAD
        "Processed image 707 (1176)"
=======
        "Processed image 674 (714)"
>>>>>>> fe1b005d2ec4d7eb0bc61da731ff4fa25b905e36
       ]
      },
      {
       "output_type": "stream",
       "stream": "stdout",
       "text": [
        "\r",
<<<<<<< HEAD
        "Processed image 708 (1176)"
=======
        "Processed image 675 (714)"
>>>>>>> fe1b005d2ec4d7eb0bc61da731ff4fa25b905e36
       ]
      },
      {
       "output_type": "stream",
       "stream": "stdout",
       "text": [
        "\r",
<<<<<<< HEAD
        "Processed image 709 (1176)"
=======
        "Processed image 676 (714)"
>>>>>>> fe1b005d2ec4d7eb0bc61da731ff4fa25b905e36
       ]
      },
      {
       "output_type": "stream",
       "stream": "stdout",
       "text": [
        "\r",
<<<<<<< HEAD
        "Processed image 710 (1176)"
=======
        "Processed image 677 (714)"
>>>>>>> fe1b005d2ec4d7eb0bc61da731ff4fa25b905e36
       ]
      },
      {
       "output_type": "stream",
       "stream": "stdout",
       "text": [
        "\r",
<<<<<<< HEAD
        "Processed image 711 (1176)"
=======
        "Processed image 678 (714)"
>>>>>>> fe1b005d2ec4d7eb0bc61da731ff4fa25b905e36
       ]
      },
      {
       "output_type": "stream",
       "stream": "stdout",
       "text": [
        "\r",
<<<<<<< HEAD
        "Processed image 712 (1176)"
=======
        "Processed image 679 (714)"
>>>>>>> fe1b005d2ec4d7eb0bc61da731ff4fa25b905e36
       ]
      },
      {
       "output_type": "stream",
       "stream": "stdout",
       "text": [
        "\r",
<<<<<<< HEAD
        "Processed image 713 (1176)"
=======
        "Processed image 680 (714)"
>>>>>>> fe1b005d2ec4d7eb0bc61da731ff4fa25b905e36
       ]
      },
      {
       "output_type": "stream",
       "stream": "stdout",
       "text": [
        "\r",
<<<<<<< HEAD
        "Processed image 714 (1176)"
=======
        "Processed image 681 (714)"
>>>>>>> fe1b005d2ec4d7eb0bc61da731ff4fa25b905e36
       ]
      },
      {
       "output_type": "stream",
       "stream": "stdout",
       "text": [
        "\r",
<<<<<<< HEAD
        "Processed image 715 (1176)"
=======
        "Processed image 682 (714)"
>>>>>>> fe1b005d2ec4d7eb0bc61da731ff4fa25b905e36
       ]
      },
      {
       "output_type": "stream",
       "stream": "stdout",
       "text": [
        "\r",
<<<<<<< HEAD
        "Processed image 716 (1176)"
=======
        "Processed image 683 (714)"
>>>>>>> fe1b005d2ec4d7eb0bc61da731ff4fa25b905e36
       ]
      },
      {
       "output_type": "stream",
       "stream": "stdout",
       "text": [
        "\r",
<<<<<<< HEAD
        "Processed image 717 (1176)"
=======
        "Processed image 684 (714)"
>>>>>>> fe1b005d2ec4d7eb0bc61da731ff4fa25b905e36
       ]
      },
      {
       "output_type": "stream",
       "stream": "stdout",
       "text": [
        "\r",
<<<<<<< HEAD
        "Processed image 718 (1176)"
=======
        "Processed image 685 (714)"
>>>>>>> fe1b005d2ec4d7eb0bc61da731ff4fa25b905e36
       ]
      },
      {
       "output_type": "stream",
       "stream": "stdout",
       "text": [
        "\r",
<<<<<<< HEAD
        "Processed image 719 (1176)"
=======
        "Processed image 686 (714)"
>>>>>>> fe1b005d2ec4d7eb0bc61da731ff4fa25b905e36
       ]
      },
      {
       "output_type": "stream",
       "stream": "stdout",
       "text": [
        "\r",
<<<<<<< HEAD
        "Processed image 720 (1176)"
=======
        "Processed image 687 (714)"
>>>>>>> fe1b005d2ec4d7eb0bc61da731ff4fa25b905e36
       ]
      },
      {
       "output_type": "stream",
       "stream": "stdout",
       "text": [
        "\r",
<<<<<<< HEAD
        "Processed image 721 (1176)"
=======
        "Processed image 688 (714)"
>>>>>>> fe1b005d2ec4d7eb0bc61da731ff4fa25b905e36
       ]
      },
      {
       "output_type": "stream",
       "stream": "stdout",
       "text": [
        "\r",
<<<<<<< HEAD
        "Processed image 722 (1176)"
=======
        "Processed image 689 (714)"
>>>>>>> fe1b005d2ec4d7eb0bc61da731ff4fa25b905e36
       ]
      },
      {
       "output_type": "stream",
       "stream": "stdout",
       "text": [
        "\r",
<<<<<<< HEAD
        "Processed image 723 (1176)"
=======
        "Processed image 690 (714)"
>>>>>>> fe1b005d2ec4d7eb0bc61da731ff4fa25b905e36
       ]
      },
      {
       "output_type": "stream",
       "stream": "stdout",
       "text": [
        "\r",
<<<<<<< HEAD
        "Processed image 724 (1176)"
=======
        "Processed image 691 (714)"
>>>>>>> fe1b005d2ec4d7eb0bc61da731ff4fa25b905e36
       ]
      },
      {
       "output_type": "stream",
       "stream": "stdout",
       "text": [
        "\r",
<<<<<<< HEAD
        "Processed image 725 (1176)"
=======
        "Processed image 692 (714)"
>>>>>>> fe1b005d2ec4d7eb0bc61da731ff4fa25b905e36
       ]
      },
      {
       "output_type": "stream",
       "stream": "stdout",
       "text": [
        "\r",
<<<<<<< HEAD
        "Processed image 726 (1176)"
=======
        "Processed image 693 (714)"
>>>>>>> fe1b005d2ec4d7eb0bc61da731ff4fa25b905e36
       ]
      },
      {
       "output_type": "stream",
       "stream": "stdout",
       "text": [
        "\r",
<<<<<<< HEAD
        "Processed image 727 (1176)"
=======
        "Processed image 694 (714)"
>>>>>>> fe1b005d2ec4d7eb0bc61da731ff4fa25b905e36
       ]
      },
      {
       "output_type": "stream",
       "stream": "stdout",
       "text": [
        "\r",
<<<<<<< HEAD
        "Processed image 728 (1176)"
=======
        "Processed image 695 (714)"
>>>>>>> fe1b005d2ec4d7eb0bc61da731ff4fa25b905e36
       ]
      },
      {
       "output_type": "stream",
       "stream": "stdout",
       "text": [
        "\r",
<<<<<<< HEAD
        "Processed image 729 (1176)"
=======
        "Processed image 696 (714)"
>>>>>>> fe1b005d2ec4d7eb0bc61da731ff4fa25b905e36
       ]
      },
      {
       "output_type": "stream",
       "stream": "stdout",
       "text": [
        "\r",
<<<<<<< HEAD
        "Processed image 730 (1176)"
=======
        "Processed image 697 (714)"
>>>>>>> fe1b005d2ec4d7eb0bc61da731ff4fa25b905e36
       ]
      },
      {
       "output_type": "stream",
       "stream": "stdout",
       "text": [
        "\r",
<<<<<<< HEAD
        "Processed image 731 (1176)"
=======
        "Processed image 698 (714)"
>>>>>>> fe1b005d2ec4d7eb0bc61da731ff4fa25b905e36
       ]
      },
      {
       "output_type": "stream",
       "stream": "stdout",
       "text": [
        "\r",
<<<<<<< HEAD
        "Processed image 732 (1176)"
=======
        "Processed image 699 (714)"
>>>>>>> fe1b005d2ec4d7eb0bc61da731ff4fa25b905e36
       ]
      },
      {
       "output_type": "stream",
       "stream": "stdout",
       "text": [
        "\r",
<<<<<<< HEAD
        "Processed image 733 (1176)"
=======
        "Processed image 700 (714)"
>>>>>>> fe1b005d2ec4d7eb0bc61da731ff4fa25b905e36
       ]
      },
      {
       "output_type": "stream",
       "stream": "stdout",
       "text": [
        "\r",
<<<<<<< HEAD
        "Processed image 734 (1176)"
=======
        "Processed image 701 (714)"
>>>>>>> fe1b005d2ec4d7eb0bc61da731ff4fa25b905e36
       ]
      },
      {
       "output_type": "stream",
       "stream": "stdout",
       "text": [
        "\r",
<<<<<<< HEAD
        "Processed image 735 (1176)"
=======
        "Processed image 702 (714)"
>>>>>>> fe1b005d2ec4d7eb0bc61da731ff4fa25b905e36
       ]
      },
      {
       "output_type": "stream",
       "stream": "stdout",
       "text": [
        "\r",
<<<<<<< HEAD
        "Processed image 736 (1176)"
=======
        "Processed image 703 (714)"
>>>>>>> fe1b005d2ec4d7eb0bc61da731ff4fa25b905e36
       ]
      },
      {
       "output_type": "stream",
       "stream": "stdout",
       "text": [
        "\r",
<<<<<<< HEAD
        "Processed image 737 (1176)"
=======
        "Processed image 704 (714)"
>>>>>>> fe1b005d2ec4d7eb0bc61da731ff4fa25b905e36
       ]
      },
      {
       "output_type": "stream",
       "stream": "stdout",
       "text": [
        "\r",
<<<<<<< HEAD
        "Processed image 738 (1176)"
=======
        "Processed image 705 (714)"
>>>>>>> fe1b005d2ec4d7eb0bc61da731ff4fa25b905e36
       ]
      },
      {
       "output_type": "stream",
       "stream": "stdout",
       "text": [
        "\r",
<<<<<<< HEAD
        "Processed image 739 (1176)"
=======
        "Processed image 706 (714)"
>>>>>>> fe1b005d2ec4d7eb0bc61da731ff4fa25b905e36
       ]
      },
      {
       "output_type": "stream",
       "stream": "stdout",
       "text": [
        "\r",
<<<<<<< HEAD
        "Processed image 740 (1176)"
=======
        "Processed image 707 (714)"
>>>>>>> fe1b005d2ec4d7eb0bc61da731ff4fa25b905e36
       ]
      },
      {
       "output_type": "stream",
       "stream": "stdout",
       "text": [
        "\r",
<<<<<<< HEAD
        "Processed image 741 (1176)"
=======
        "Processed image 708 (714)"
>>>>>>> fe1b005d2ec4d7eb0bc61da731ff4fa25b905e36
       ]
      },
      {
       "output_type": "stream",
       "stream": "stdout",
       "text": [
        "\r",
<<<<<<< HEAD
        "Processed image 742 (1176)"
=======
        "Processed image 709 (714)"
>>>>>>> fe1b005d2ec4d7eb0bc61da731ff4fa25b905e36
       ]
      },
      {
       "output_type": "stream",
       "stream": "stdout",
       "text": [
        "\r",
<<<<<<< HEAD
        "Processed image 743 (1176)"
=======
        "Processed image 710 (714)"
>>>>>>> fe1b005d2ec4d7eb0bc61da731ff4fa25b905e36
       ]
      },
      {
       "output_type": "stream",
       "stream": "stdout",
       "text": [
        "\r",
<<<<<<< HEAD
        "Processed image 744 (1176)"
=======
        "Processed image 711 (714)"
>>>>>>> fe1b005d2ec4d7eb0bc61da731ff4fa25b905e36
       ]
      },
      {
       "output_type": "stream",
       "stream": "stdout",
       "text": [
        "\r",
<<<<<<< HEAD
        "Processed image 745 (1176)"
=======
        "Processed image 712 (714)"
>>>>>>> fe1b005d2ec4d7eb0bc61da731ff4fa25b905e36
       ]
      },
      {
       "output_type": "stream",
       "stream": "stdout",
       "text": [
        "\r",
<<<<<<< HEAD
        "Processed image 746 (1176)"
=======
        "Processed image 713 (714)"
>>>>>>> fe1b005d2ec4d7eb0bc61da731ff4fa25b905e36
       ]
      },
      {
       "output_type": "stream",
       "stream": "stdout",
       "text": [
<<<<<<< HEAD
        "\r",
        "Processed image 747 (1176)"
       ]
      },
      {
       "output_type": "stream",
       "stream": "stdout",
       "text": [
        "\r",
        "Processed image 748 (1176)"
       ]
      },
      {
       "output_type": "stream",
       "stream": "stdout",
       "text": [
        "\r",
        "Processed image 749 (1176)"
       ]
      },
      {
       "output_type": "stream",
       "stream": "stdout",
       "text": [
        "\r",
        "Processed image 750 (1176)"
       ]
      },
      {
       "output_type": "stream",
       "stream": "stdout",
       "text": [
        "\r",
        "Processed image 751 (1176)"
       ]
      },
      {
       "output_type": "stream",
       "stream": "stdout",
       "text": [
        "\r",
        "Processed image 752 (1176)"
       ]
      },
      {
       "output_type": "stream",
       "stream": "stdout",
       "text": [
        "\r",
        "Processed image 753 (1176)"
       ]
      },
      {
       "output_type": "stream",
       "stream": "stdout",
       "text": [
        "\r",
        "Processed image 754 (1176)"
       ]
      },
      {
       "output_type": "stream",
       "stream": "stdout",
       "text": [
        "\r",
        "Processed image 755 (1176)"
       ]
      },
      {
       "output_type": "stream",
       "stream": "stdout",
       "text": [
        "\r",
        "Processed image 756 (1176)"
       ]
      },
      {
       "output_type": "stream",
       "stream": "stdout",
       "text": [
        "\r",
        "Processed image 757 (1176)"
       ]
      },
      {
       "output_type": "stream",
       "stream": "stdout",
       "text": [
        "\r",
        "Processed image 758 (1176)"
       ]
      },
      {
       "output_type": "stream",
       "stream": "stdout",
       "text": [
        "\r",
        "Processed image 759 (1176)"
       ]
      },
      {
       "output_type": "stream",
       "stream": "stdout",
       "text": [
        "\r",
        "Processed image 760 (1176)"
       ]
      },
      {
       "output_type": "stream",
       "stream": "stdout",
       "text": [
        "\r",
        "Processed image 761 (1176)"
       ]
      },
      {
       "output_type": "stream",
       "stream": "stdout",
       "text": [
        "\r",
        "Processed image 762 (1176)"
       ]
      },
      {
       "output_type": "stream",
       "stream": "stdout",
       "text": [
        "\r",
        "Processed image 763 (1176)"
       ]
      },
      {
       "output_type": "stream",
       "stream": "stdout",
       "text": [
        "\r",
        "Processed image 764 (1176)"
       ]
      },
      {
       "output_type": "stream",
       "stream": "stdout",
       "text": [
        "\r",
        "Processed image 765 (1176)"
       ]
      },
      {
       "output_type": "stream",
       "stream": "stdout",
       "text": [
        "\r",
        "Processed image 766 (1176)"
       ]
      },
      {
       "output_type": "stream",
       "stream": "stdout",
       "text": [
        "\r",
        "Processed image 767 (1176)"
       ]
      },
      {
       "output_type": "stream",
       "stream": "stdout",
       "text": [
        "\r",
        "Processed image 768 (1176)"
       ]
      },
      {
       "output_type": "stream",
       "stream": "stdout",
       "text": [
        "\r",
        "Processed image 769 (1176)"
       ]
      },
      {
       "output_type": "stream",
       "stream": "stdout",
       "text": [
        "\r",
        "Processed image 770 (1176)"
       ]
      },
      {
       "output_type": "stream",
       "stream": "stdout",
       "text": [
        "\r",
        "Processed image 771 (1176)"
       ]
      },
      {
       "output_type": "stream",
       "stream": "stdout",
       "text": [
        "\r",
        "Processed image 772 (1176)"
       ]
      },
      {
       "output_type": "stream",
       "stream": "stdout",
       "text": [
        "\r",
        "Processed image 773 (1176)"
       ]
      },
      {
       "output_type": "stream",
       "stream": "stdout",
       "text": [
        "\r",
        "Processed image 774 (1176)"
       ]
      },
      {
       "output_type": "stream",
       "stream": "stdout",
       "text": [
        "\r",
        "Processed image 775 (1176)"
       ]
      },
      {
       "output_type": "stream",
       "stream": "stdout",
       "text": [
        "\r",
        "Processed image 776 (1176)"
       ]
      },
      {
       "output_type": "stream",
       "stream": "stdout",
       "text": [
        "\r",
        "Processed image 777 (1176)"
       ]
      },
      {
       "output_type": "stream",
       "stream": "stdout",
       "text": [
        "\r",
        "Processed image 778 (1176)"
       ]
      },
      {
       "output_type": "stream",
       "stream": "stdout",
       "text": [
        "\r",
        "Processed image 779 (1176)"
       ]
      },
      {
       "output_type": "stream",
       "stream": "stdout",
       "text": [
        "\r",
        "Processed image 780 (1176)"
       ]
      },
      {
       "output_type": "stream",
       "stream": "stdout",
       "text": [
        "\r",
        "Processed image 781 (1176)"
       ]
      },
      {
       "output_type": "stream",
       "stream": "stdout",
       "text": [
        "\r",
        "Processed image 782 (1176)"
       ]
      },
      {
       "output_type": "stream",
       "stream": "stdout",
       "text": [
        "\r",
        "Processed image 783 (1176)"
       ]
      },
      {
       "output_type": "stream",
       "stream": "stdout",
       "text": [
        "\r",
        "Processed image 784 (1176)"
       ]
      },
      {
       "output_type": "stream",
       "stream": "stdout",
       "text": [
        "\r",
        "Processed image 785 (1176)"
       ]
      },
      {
       "output_type": "stream",
       "stream": "stdout",
       "text": [
        "\r",
        "Processed image 786 (1176)"
       ]
      },
      {
       "output_type": "stream",
       "stream": "stdout",
       "text": [
        "\r",
        "Processed image 787 (1176)"
       ]
      },
      {
       "output_type": "stream",
       "stream": "stdout",
       "text": [
        "\r",
        "Processed image 788 (1176)"
       ]
      },
      {
       "output_type": "stream",
       "stream": "stdout",
       "text": [
        "\r",
        "Processed image 789 (1176)"
       ]
      },
      {
       "output_type": "stream",
       "stream": "stdout",
       "text": [
        "\r",
        "Processed image 790 (1176)"
       ]
      },
      {
       "output_type": "stream",
       "stream": "stdout",
       "text": [
        "\r",
        "Processed image 791 (1176)"
       ]
      },
      {
       "output_type": "stream",
       "stream": "stdout",
       "text": [
        "\r",
        "Processed image 792 (1176)"
       ]
      },
      {
       "output_type": "stream",
       "stream": "stdout",
       "text": [
        "\r",
        "Processed image 793 (1176)"
       ]
      },
      {
       "output_type": "stream",
       "stream": "stdout",
       "text": [
        "\r",
        "Processed image 794 (1176)"
       ]
      },
      {
       "output_type": "stream",
       "stream": "stdout",
       "text": [
        "\r",
        "Processed image 795 (1176)"
       ]
      },
      {
       "output_type": "stream",
       "stream": "stdout",
       "text": [
        "\r",
        "Processed image 796 (1176)"
       ]
      },
      {
       "output_type": "stream",
       "stream": "stdout",
       "text": [
        "\r",
        "Processed image 797 (1176)"
       ]
      },
      {
       "output_type": "stream",
       "stream": "stdout",
       "text": [
        "\r",
        "Processed image 798 (1176)"
       ]
      },
      {
       "output_type": "stream",
       "stream": "stdout",
       "text": [
        "\r",
        "Processed image 799 (1176)"
       ]
      },
      {
       "output_type": "stream",
       "stream": "stdout",
       "text": [
        "\r",
        "Processed image 800 (1176)"
       ]
      },
      {
       "output_type": "stream",
       "stream": "stdout",
       "text": [
        "\r",
        "Processed image 801 (1176)"
       ]
      },
      {
       "output_type": "stream",
       "stream": "stdout",
       "text": [
        "\r",
        "Processed image 802 (1176)"
       ]
      },
      {
       "output_type": "stream",
       "stream": "stdout",
       "text": [
        "\r",
        "Processed image 803 (1176)"
       ]
      },
      {
       "output_type": "stream",
       "stream": "stdout",
       "text": [
        "\r",
        "Processed image 804 (1176)"
       ]
      },
      {
       "output_type": "stream",
       "stream": "stdout",
       "text": [
        "\r",
        "Processed image 805 (1176)"
       ]
      },
      {
       "output_type": "stream",
       "stream": "stdout",
       "text": [
        "\r",
        "Processed image 806 (1176)"
       ]
      },
      {
       "output_type": "stream",
       "stream": "stdout",
       "text": [
        "\r",
        "Processed image 807 (1176)"
       ]
      },
      {
       "output_type": "stream",
       "stream": "stdout",
       "text": [
        "\r",
        "Processed image 808 (1176)"
       ]
      },
      {
       "output_type": "stream",
       "stream": "stdout",
       "text": [
        "\r",
        "Processed image 809 (1176)"
       ]
      },
      {
       "output_type": "stream",
       "stream": "stdout",
       "text": [
        "\r",
        "Processed image 810 (1176)"
       ]
      },
      {
       "output_type": "stream",
       "stream": "stdout",
       "text": [
        "\r",
        "Processed image 811 (1176)"
       ]
      },
      {
       "output_type": "stream",
       "stream": "stdout",
       "text": [
        "\r",
        "Processed image 812 (1176)"
       ]
      },
      {
       "output_type": "stream",
       "stream": "stdout",
       "text": [
        "\r",
        "Processed image 813 (1176)"
       ]
      },
      {
       "output_type": "stream",
       "stream": "stdout",
       "text": [
        "\r",
        "Processed image 814 (1176)"
       ]
      },
      {
       "output_type": "stream",
       "stream": "stdout",
       "text": [
        "\r",
        "Processed image 815 (1176)"
       ]
      },
      {
       "output_type": "stream",
       "stream": "stdout",
       "text": [
        "\r",
        "Processed image 816 (1176)"
       ]
      },
      {
       "output_type": "stream",
       "stream": "stdout",
       "text": [
        "\r",
        "Processed image 817 (1176)"
       ]
      },
      {
       "output_type": "stream",
       "stream": "stdout",
       "text": [
        "\r",
        "Processed image 818 (1176)"
       ]
      },
      {
       "output_type": "stream",
       "stream": "stdout",
       "text": [
        "\r",
        "Processed image 819 (1176)"
       ]
      },
      {
       "output_type": "stream",
       "stream": "stdout",
       "text": [
        "\r",
        "Processed image 820 (1176)"
       ]
      },
      {
       "output_type": "stream",
       "stream": "stdout",
       "text": [
        "\r",
        "Processed image 821 (1176)"
       ]
      },
      {
       "output_type": "stream",
       "stream": "stdout",
       "text": [
        "\r",
        "Processed image 822 (1176)"
       ]
      },
      {
       "output_type": "stream",
       "stream": "stdout",
       "text": [
        "\r",
        "Processed image 823 (1176)"
       ]
      },
      {
       "output_type": "stream",
       "stream": "stdout",
       "text": [
        "\r",
        "Processed image 824 (1176)"
       ]
      },
      {
       "output_type": "stream",
       "stream": "stdout",
       "text": [
        "\r",
        "Processed image 825 (1176)"
       ]
      },
      {
       "output_type": "stream",
       "stream": "stdout",
       "text": [
        "\r",
        "Processed image 826 (1176)"
       ]
      },
      {
       "output_type": "stream",
       "stream": "stdout",
       "text": [
        "\r",
        "Processed image 827 (1176)"
       ]
      },
      {
       "output_type": "stream",
       "stream": "stdout",
       "text": [
        "\r",
        "Processed image 828 (1176)"
       ]
      },
      {
       "output_type": "stream",
       "stream": "stdout",
       "text": [
        "\r",
        "Processed image 829 (1176)"
       ]
      },
      {
       "output_type": "stream",
       "stream": "stdout",
       "text": [
        "\r",
        "Processed image 830 (1176)"
       ]
      },
      {
       "output_type": "stream",
       "stream": "stdout",
       "text": [
        "\r",
        "Processed image 831 (1176)"
       ]
      },
      {
       "output_type": "stream",
       "stream": "stdout",
       "text": [
        "\r",
        "Processed image 832 (1176)"
       ]
      },
      {
       "output_type": "stream",
       "stream": "stdout",
       "text": [
        "\r",
        "Processed image 833 (1176)"
       ]
      },
      {
       "output_type": "stream",
       "stream": "stdout",
       "text": [
        "\r",
        "Processed image 834 (1176)"
       ]
      },
      {
       "output_type": "stream",
       "stream": "stdout",
       "text": [
        "\r",
        "Processed image 835 (1176)"
       ]
      },
      {
       "output_type": "stream",
       "stream": "stdout",
       "text": [
        "\r",
        "Processed image 836 (1176)"
       ]
      },
      {
       "output_type": "stream",
       "stream": "stdout",
       "text": [
        "\r",
        "Processed image 837 (1176)"
       ]
      },
      {
       "output_type": "stream",
       "stream": "stdout",
       "text": [
        "\r",
        "Processed image 838 (1176)"
       ]
      },
      {
       "output_type": "stream",
       "stream": "stdout",
       "text": [
        "\r",
        "Processed image 839 (1176)"
       ]
      },
      {
       "output_type": "stream",
       "stream": "stdout",
       "text": [
        "\r",
        "Processed image 840 (1176)"
       ]
      },
      {
       "output_type": "stream",
       "stream": "stdout",
       "text": [
        "\r",
        "Processed image 841 (1176)"
       ]
      },
      {
       "output_type": "stream",
       "stream": "stdout",
       "text": [
        "\r",
        "Processed image 842 (1176)"
       ]
      },
      {
       "output_type": "stream",
       "stream": "stdout",
       "text": [
        "\r",
        "Processed image 843 (1176)"
       ]
      },
      {
       "output_type": "stream",
       "stream": "stdout",
       "text": [
        "\r",
        "Processed image 844 (1176)"
       ]
      },
      {
       "output_type": "stream",
       "stream": "stdout",
       "text": [
        "\r",
        "Processed image 845 (1176)"
       ]
      },
      {
       "output_type": "stream",
       "stream": "stdout",
       "text": [
        "\r",
        "Processed image 846 (1176)"
       ]
      },
      {
       "output_type": "stream",
       "stream": "stdout",
       "text": [
        "\r",
        "Processed image 847 (1176)"
       ]
      },
      {
       "output_type": "stream",
       "stream": "stdout",
       "text": [
        "\r",
        "Processed image 848 (1176)"
       ]
      },
      {
       "output_type": "stream",
       "stream": "stdout",
       "text": [
        "\r",
        "Processed image 849 (1176)"
       ]
      },
      {
       "output_type": "stream",
       "stream": "stdout",
       "text": [
        "\r",
        "Processed image 850 (1176)"
       ]
      },
      {
       "output_type": "stream",
       "stream": "stdout",
       "text": [
        "\r",
        "Processed image 851 (1176)"
       ]
      },
      {
       "output_type": "stream",
       "stream": "stdout",
       "text": [
        "\r",
        "Processed image 852 (1176)"
       ]
      },
      {
       "output_type": "stream",
       "stream": "stdout",
       "text": [
        "\r",
        "Processed image 853 (1176)"
       ]
      },
      {
       "output_type": "stream",
       "stream": "stdout",
       "text": [
        "\r",
        "Processed image 854 (1176)"
       ]
      },
      {
       "output_type": "stream",
       "stream": "stdout",
       "text": [
        "\r",
        "Processed image 855 (1176)"
       ]
      },
      {
       "output_type": "stream",
       "stream": "stdout",
       "text": [
        "\r",
        "Processed image 856 (1176)"
       ]
      },
      {
       "output_type": "stream",
       "stream": "stdout",
       "text": [
        "\r",
        "Processed image 857 (1176)"
       ]
      },
      {
       "output_type": "stream",
       "stream": "stdout",
       "text": [
        "\r",
        "Processed image 858 (1176)"
       ]
      },
      {
       "output_type": "stream",
       "stream": "stdout",
       "text": [
        "\r",
        "Processed image 859 (1176)"
       ]
      },
      {
       "output_type": "stream",
       "stream": "stdout",
       "text": [
        "\r",
        "Processed image 860 (1176)"
       ]
      },
      {
       "output_type": "stream",
       "stream": "stdout",
       "text": [
        "\r",
        "Processed image 861 (1176)"
       ]
      },
      {
       "output_type": "stream",
       "stream": "stdout",
       "text": [
        "\r",
        "Processed image 862 (1176)"
       ]
      },
      {
       "output_type": "stream",
       "stream": "stdout",
       "text": [
        "\r",
        "Processed image 863 (1176)"
       ]
      },
      {
       "output_type": "stream",
       "stream": "stdout",
       "text": [
        "\r",
        "Processed image 864 (1176)"
       ]
      },
      {
       "output_type": "stream",
       "stream": "stdout",
       "text": [
        "\r",
        "Processed image 865 (1176)"
       ]
      },
      {
       "output_type": "stream",
       "stream": "stdout",
       "text": [
        "\r",
        "Processed image 866 (1176)"
       ]
      },
      {
       "output_type": "stream",
       "stream": "stdout",
       "text": [
        "\r",
        "Processed image 867 (1176)"
       ]
      },
      {
       "output_type": "stream",
       "stream": "stdout",
       "text": [
        "\r",
        "Processed image 868 (1176)"
       ]
      },
      {
       "output_type": "stream",
       "stream": "stdout",
       "text": [
        "\r",
        "Processed image 869 (1176)"
       ]
      },
      {
       "output_type": "stream",
       "stream": "stdout",
       "text": [
        "\r",
        "Processed image 870 (1176)"
       ]
      },
      {
       "output_type": "stream",
       "stream": "stdout",
       "text": [
        "\r",
        "Processed image 871 (1176)"
       ]
      },
      {
       "output_type": "stream",
       "stream": "stdout",
       "text": [
        "\r",
        "Processed image 872 (1176)"
       ]
      },
      {
       "output_type": "stream",
       "stream": "stdout",
       "text": [
        "\r",
        "Processed image 873 (1176)"
       ]
      },
      {
       "output_type": "stream",
       "stream": "stdout",
       "text": [
        "\r",
        "Processed image 874 (1176)"
       ]
      },
      {
       "output_type": "stream",
       "stream": "stdout",
       "text": [
        "\r",
        "Processed image 875 (1176)"
       ]
      },
      {
       "output_type": "stream",
       "stream": "stdout",
       "text": [
        "\r",
        "Processed image 876 (1176)"
       ]
      },
      {
       "output_type": "stream",
       "stream": "stdout",
       "text": [
        "\r",
        "Processed image 877 (1176)"
       ]
      },
      {
       "output_type": "stream",
       "stream": "stdout",
       "text": [
        "\r",
        "Processed image 878 (1176)"
       ]
      },
      {
       "output_type": "stream",
       "stream": "stdout",
       "text": [
        "\r",
        "Processed image 879 (1176)"
       ]
      },
      {
       "output_type": "stream",
       "stream": "stdout",
       "text": [
        "\r",
        "Processed image 880 (1176)"
       ]
      },
      {
       "output_type": "stream",
       "stream": "stdout",
       "text": [
        "\r",
        "Processed image 881 (1176)"
       ]
      },
      {
       "output_type": "stream",
       "stream": "stdout",
       "text": [
        "\r",
        "Processed image 882 (1176)"
       ]
      },
      {
       "output_type": "stream",
       "stream": "stdout",
       "text": [
        "\r",
        "Processed image 883 (1176)"
       ]
      },
      {
       "output_type": "stream",
       "stream": "stdout",
       "text": [
        "\r",
        "Processed image 884 (1176)"
       ]
      },
      {
       "output_type": "stream",
       "stream": "stdout",
       "text": [
        "\r",
        "Processed image 885 (1176)"
       ]
      },
      {
       "output_type": "stream",
       "stream": "stdout",
       "text": [
        "\r",
        "Processed image 886 (1176)"
       ]
      },
      {
       "output_type": "stream",
       "stream": "stdout",
       "text": [
        "\r",
        "Processed image 887 (1176)"
       ]
      },
      {
       "output_type": "stream",
       "stream": "stdout",
       "text": [
        "\r",
        "Processed image 888 (1176)"
       ]
      },
      {
       "output_type": "stream",
       "stream": "stdout",
       "text": [
        "\r",
        "Processed image 889 (1176)"
       ]
      },
      {
       "output_type": "stream",
       "stream": "stdout",
       "text": [
        "\r",
        "Processed image 890 (1176)"
       ]
      },
      {
       "output_type": "stream",
       "stream": "stdout",
       "text": [
        "\r",
        "Processed image 891 (1176)"
       ]
      },
      {
       "output_type": "stream",
       "stream": "stdout",
       "text": [
        "\r",
        "Processed image 892 (1176)"
       ]
      },
      {
       "output_type": "stream",
       "stream": "stdout",
       "text": [
        "\r",
        "Processed image 893 (1176)"
       ]
      },
      {
       "output_type": "stream",
       "stream": "stdout",
       "text": [
        "\r",
        "Processed image 894 (1176)"
       ]
      },
      {
       "output_type": "stream",
       "stream": "stdout",
       "text": [
        "\r",
        "Processed image 895 (1176)"
       ]
      },
      {
       "output_type": "stream",
       "stream": "stdout",
       "text": [
        "\r",
        "Processed image 896 (1176)"
       ]
      },
      {
       "output_type": "stream",
       "stream": "stdout",
       "text": [
        "\r",
        "Processed image 897 (1176)"
       ]
      },
      {
       "output_type": "stream",
       "stream": "stdout",
       "text": [
        "\r",
        "Processed image 898 (1176)"
       ]
      },
      {
       "output_type": "stream",
       "stream": "stdout",
       "text": [
        "\r",
        "Processed image 899 (1176)"
       ]
      },
      {
       "output_type": "stream",
       "stream": "stdout",
       "text": [
        "\r",
        "Processed image 900 (1176)"
       ]
      },
      {
       "output_type": "stream",
       "stream": "stdout",
       "text": [
        "\r",
        "Processed image 901 (1176)"
       ]
      },
      {
       "output_type": "stream",
       "stream": "stdout",
       "text": [
        "\r",
        "Processed image 902 (1176)"
       ]
      },
      {
       "output_type": "stream",
       "stream": "stdout",
       "text": [
        "\r",
        "Processed image 903 (1176)"
       ]
      },
      {
       "output_type": "stream",
       "stream": "stdout",
       "text": [
        "\r",
        "Processed image 904 (1176)"
       ]
      },
      {
       "output_type": "stream",
       "stream": "stdout",
       "text": [
        "\r",
        "Processed image 905 (1176)"
       ]
      },
      {
       "output_type": "stream",
       "stream": "stdout",
       "text": [
        "\r",
        "Processed image 906 (1176)"
       ]
      },
      {
       "output_type": "stream",
       "stream": "stdout",
       "text": [
        "\r",
        "Processed image 907 (1176)"
       ]
      },
      {
       "output_type": "stream",
       "stream": "stdout",
       "text": [
        "\r",
        "Processed image 908 (1176)"
       ]
      },
      {
       "output_type": "stream",
       "stream": "stdout",
       "text": [
        "\r",
        "Processed image 909 (1176)"
       ]
      },
      {
       "output_type": "stream",
       "stream": "stdout",
       "text": [
        "\r",
        "Processed image 910 (1176)"
       ]
      },
      {
       "output_type": "stream",
       "stream": "stdout",
       "text": [
        "\r",
        "Processed image 911 (1176)"
       ]
      },
      {
       "output_type": "stream",
       "stream": "stdout",
       "text": [
        "\r",
        "Processed image 912 (1176)"
       ]
      },
      {
       "output_type": "stream",
       "stream": "stdout",
       "text": [
        "\r",
        "Processed image 913 (1176)"
       ]
      },
      {
       "output_type": "stream",
       "stream": "stdout",
       "text": [
        "\r",
        "Processed image 914 (1176)"
       ]
      },
      {
       "output_type": "stream",
       "stream": "stdout",
       "text": [
        "\r",
        "Processed image 915 (1176)"
       ]
      },
      {
       "output_type": "stream",
       "stream": "stdout",
       "text": [
        "\r",
        "Processed image 916 (1176)"
       ]
      },
      {
       "output_type": "stream",
       "stream": "stdout",
       "text": [
        "\r",
        "Processed image 917 (1176)"
       ]
      },
      {
       "output_type": "stream",
       "stream": "stdout",
       "text": [
        "\r",
        "Processed image 918 (1176)"
       ]
      },
      {
       "output_type": "stream",
       "stream": "stdout",
       "text": [
        "\r",
        "Processed image 919 (1176)"
       ]
      },
      {
       "output_type": "stream",
       "stream": "stdout",
       "text": [
        "\r",
        "Processed image 920 (1176)"
       ]
      },
      {
       "output_type": "stream",
       "stream": "stdout",
       "text": [
        "\r",
        "Processed image 921 (1176)"
       ]
      },
      {
       "output_type": "stream",
       "stream": "stdout",
       "text": [
        "\r",
        "Processed image 922 (1176)"
       ]
      },
      {
       "output_type": "stream",
       "stream": "stdout",
       "text": [
        "\r",
        "Processed image 923 (1176)"
       ]
      },
      {
       "output_type": "stream",
       "stream": "stdout",
       "text": [
        "\r",
        "Processed image 924 (1176)"
       ]
      },
      {
       "output_type": "stream",
       "stream": "stdout",
       "text": [
        "\r",
        "Processed image 925 (1176)"
       ]
      },
      {
       "output_type": "stream",
       "stream": "stdout",
       "text": [
        "\r",
        "Processed image 926 (1176)"
       ]
      },
      {
       "output_type": "stream",
       "stream": "stdout",
       "text": [
        "\r",
        "Processed image 927 (1176)"
       ]
      },
      {
       "output_type": "stream",
       "stream": "stdout",
       "text": [
        "\r",
        "Processed image 928 (1176)"
       ]
      },
      {
       "output_type": "stream",
       "stream": "stdout",
       "text": [
        "\r",
        "Processed image 929 (1176)"
       ]
      },
      {
       "output_type": "stream",
       "stream": "stdout",
       "text": [
        "\r",
        "Processed image 930 (1176)"
       ]
      },
      {
       "output_type": "stream",
       "stream": "stdout",
       "text": [
        "\r",
        "Processed image 931 (1176)"
       ]
      },
      {
       "output_type": "stream",
       "stream": "stdout",
       "text": [
        "\r",
        "Processed image 932 (1176)"
       ]
      },
      {
       "output_type": "stream",
       "stream": "stdout",
       "text": [
        "\r",
        "Processed image 933 (1176)"
       ]
      },
      {
       "output_type": "stream",
       "stream": "stdout",
       "text": [
        "\r",
        "Processed image 934 (1176)"
       ]
      },
      {
       "output_type": "stream",
       "stream": "stdout",
       "text": [
        "\r",
        "Processed image 935 (1176)"
       ]
      },
      {
       "output_type": "stream",
       "stream": "stdout",
       "text": [
        "\r",
        "Processed image 936 (1176)"
       ]
      },
      {
       "output_type": "stream",
       "stream": "stdout",
       "text": [
        "\r",
        "Processed image 937 (1176)"
       ]
      },
      {
       "output_type": "stream",
       "stream": "stdout",
       "text": [
        "\r",
        "Processed image 938 (1176)"
       ]
      },
      {
       "output_type": "stream",
       "stream": "stdout",
       "text": [
        "\r",
        "Processed image 939 (1176)"
       ]
      },
      {
       "output_type": "stream",
       "stream": "stdout",
       "text": [
        "\r",
        "Processed image 940 (1176)"
       ]
      },
      {
       "output_type": "stream",
       "stream": "stdout",
       "text": [
        "\r",
        "Processed image 941 (1176)"
       ]
      },
      {
       "output_type": "stream",
       "stream": "stdout",
       "text": [
        "\r",
        "Processed image 942 (1176)"
       ]
      },
      {
       "output_type": "stream",
       "stream": "stdout",
       "text": [
        "\r",
        "Processed image 943 (1176)"
       ]
      },
      {
       "output_type": "stream",
       "stream": "stdout",
       "text": [
        "\r",
        "Processed image 944 (1176)"
       ]
      },
      {
       "output_type": "stream",
       "stream": "stdout",
       "text": [
        "\r",
        "Processed image 945 (1176)"
       ]
      },
      {
       "output_type": "stream",
       "stream": "stdout",
       "text": [
        "\r",
        "Processed image 946 (1176)"
       ]
      },
      {
       "output_type": "stream",
       "stream": "stdout",
       "text": [
        "\r",
        "Processed image 947 (1176)"
       ]
      },
      {
       "output_type": "stream",
       "stream": "stdout",
       "text": [
        "\r",
        "Processed image 948 (1176)"
       ]
      },
      {
       "output_type": "stream",
       "stream": "stdout",
       "text": [
        "\r",
        "Processed image 949 (1176)"
       ]
      },
      {
       "output_type": "stream",
       "stream": "stdout",
       "text": [
        "\r",
        "Processed image 950 (1176)"
       ]
      },
      {
       "output_type": "stream",
       "stream": "stdout",
       "text": [
        "\r",
        "Processed image 951 (1176)"
       ]
      },
      {
       "output_type": "stream",
       "stream": "stdout",
       "text": [
        "\r",
        "Processed image 952 (1176)"
       ]
      },
      {
       "output_type": "stream",
       "stream": "stdout",
       "text": [
        "\r",
        "Processed image 953 (1176)"
       ]
      },
      {
       "output_type": "stream",
       "stream": "stdout",
       "text": [
        "\r",
        "Processed image 954 (1176)"
       ]
      },
      {
       "output_type": "stream",
       "stream": "stdout",
       "text": [
        "\r",
        "Processed image 955 (1176)"
       ]
      },
      {
       "output_type": "stream",
       "stream": "stdout",
       "text": [
        "\r",
        "Processed image 956 (1176)"
       ]
      },
      {
       "output_type": "stream",
       "stream": "stdout",
       "text": [
        "\r",
        "Processed image 957 (1176)"
       ]
      },
      {
       "output_type": "stream",
       "stream": "stdout",
       "text": [
        "\r",
        "Processed image 958 (1176)"
       ]
      },
      {
       "output_type": "stream",
       "stream": "stdout",
       "text": [
        "\r",
        "Processed image 959 (1176)"
       ]
      },
      {
       "output_type": "stream",
       "stream": "stdout",
       "text": [
        "\r",
        "Processed image 960 (1176)"
       ]
      },
      {
       "output_type": "stream",
       "stream": "stdout",
       "text": [
        "\r",
        "Processed image 961 (1176)"
       ]
      },
      {
       "output_type": "stream",
       "stream": "stdout",
       "text": [
        "\r",
        "Processed image 962 (1176)"
       ]
      },
      {
       "output_type": "stream",
       "stream": "stdout",
       "text": [
        "\r",
        "Processed image 963 (1176)"
       ]
      },
      {
       "output_type": "stream",
       "stream": "stdout",
       "text": [
        "\r",
        "Processed image 964 (1176)"
       ]
      },
      {
       "output_type": "stream",
       "stream": "stdout",
       "text": [
        "\r",
        "Processed image 965 (1176)"
       ]
      },
      {
       "output_type": "stream",
       "stream": "stdout",
       "text": [
        "\r",
        "Processed image 966 (1176)"
       ]
      },
      {
       "output_type": "stream",
       "stream": "stdout",
       "text": [
        "\r",
        "Processed image 967 (1176)"
       ]
      },
      {
       "output_type": "stream",
       "stream": "stdout",
       "text": [
        "\r",
        "Processed image 968 (1176)"
       ]
      },
      {
       "output_type": "stream",
       "stream": "stdout",
       "text": [
        "\r",
        "Processed image 969 (1176)"
       ]
      },
      {
       "output_type": "stream",
       "stream": "stdout",
       "text": [
        "\r",
        "Processed image 970 (1176)"
       ]
      },
      {
       "output_type": "stream",
       "stream": "stdout",
       "text": [
        "\r",
        "Processed image 971 (1176)"
       ]
      },
      {
       "output_type": "stream",
       "stream": "stdout",
       "text": [
        "\r",
        "Processed image 972 (1176)"
       ]
      },
      {
       "output_type": "stream",
       "stream": "stdout",
       "text": [
        "\r",
        "Processed image 973 (1176)"
       ]
      },
      {
       "output_type": "stream",
       "stream": "stdout",
       "text": [
        "\r",
        "Processed image 974 (1176)"
       ]
      },
      {
       "output_type": "stream",
       "stream": "stdout",
       "text": [
        "\r",
        "Processed image 975 (1176)"
       ]
      },
      {
       "output_type": "stream",
       "stream": "stdout",
       "text": [
        "\r",
        "Processed image 976 (1176)"
       ]
      },
      {
       "output_type": "stream",
       "stream": "stdout",
       "text": [
        "\r",
        "Processed image 977 (1176)"
       ]
      },
      {
       "output_type": "stream",
       "stream": "stdout",
       "text": [
        "\r",
        "Processed image 978 (1176)"
       ]
      },
      {
       "output_type": "stream",
       "stream": "stdout",
       "text": [
        "\r",
        "Processed image 979 (1176)"
       ]
      },
      {
       "output_type": "stream",
       "stream": "stdout",
       "text": [
        "\r",
        "Processed image 980 (1176)"
       ]
      },
      {
       "output_type": "stream",
       "stream": "stdout",
       "text": [
        "\r",
        "Processed image 981 (1176)"
       ]
      },
      {
       "output_type": "stream",
       "stream": "stdout",
       "text": [
        "\r",
        "Processed image 982 (1176)"
       ]
      },
      {
       "output_type": "stream",
       "stream": "stdout",
       "text": [
        "\r",
        "Processed image 983 (1176)"
       ]
      },
      {
       "output_type": "stream",
       "stream": "stdout",
       "text": [
        "\r",
        "Processed image 984 (1176)"
       ]
      },
      {
       "output_type": "stream",
       "stream": "stdout",
       "text": [
        "\r",
        "Processed image 985 (1176)"
       ]
      },
      {
       "output_type": "stream",
       "stream": "stdout",
       "text": [
        "\r",
        "Processed image 986 (1176)"
       ]
      },
      {
       "output_type": "stream",
       "stream": "stdout",
       "text": [
        "\r",
        "Processed image 987 (1176)"
       ]
      },
      {
       "output_type": "stream",
       "stream": "stdout",
       "text": [
        "\r",
        "Processed image 988 (1176)"
       ]
      },
      {
       "output_type": "stream",
       "stream": "stdout",
       "text": [
        "\r",
        "Processed image 989 (1176)"
       ]
      },
      {
       "output_type": "stream",
       "stream": "stdout",
       "text": [
        "\r",
        "Processed image 990 (1176)"
       ]
      },
      {
       "output_type": "stream",
       "stream": "stdout",
       "text": [
        "\r",
        "Processed image 991 (1176)"
       ]
      },
      {
       "output_type": "stream",
       "stream": "stdout",
       "text": [
        "\r",
        "Processed image 992 (1176)"
       ]
      },
      {
       "output_type": "stream",
       "stream": "stdout",
       "text": [
        "\r",
        "Processed image 993 (1176)"
       ]
      },
      {
       "output_type": "stream",
       "stream": "stdout",
       "text": [
        "\r",
        "Processed image 994 (1176)"
       ]
      },
      {
       "output_type": "stream",
       "stream": "stdout",
       "text": [
        "\r",
        "Processed image 995 (1176)"
       ]
      },
      {
       "output_type": "stream",
       "stream": "stdout",
       "text": [
        "\r",
        "Processed image 996 (1176)"
       ]
      },
      {
       "output_type": "stream",
       "stream": "stdout",
       "text": [
        "\r",
        "Processed image 997 (1176)"
       ]
      },
      {
       "output_type": "stream",
       "stream": "stdout",
       "text": [
        "\r",
        "Processed image 998 (1176)"
       ]
      },
      {
       "output_type": "stream",
       "stream": "stdout",
       "text": [
        "\r",
        "Processed image 999 (1176)"
       ]
      },
      {
       "output_type": "stream",
       "stream": "stdout",
       "text": [
        "\r",
        "Processed image 1000 (1176)"
       ]
      },
      {
       "output_type": "stream",
       "stream": "stdout",
       "text": [
        "\r",
        "Processed image 1001 (1176)"
       ]
      },
      {
       "output_type": "stream",
       "stream": "stdout",
       "text": [
        "\r",
        "Processed image 1002 (1176)"
       ]
      },
      {
       "output_type": "stream",
       "stream": "stdout",
       "text": [
        "\r",
        "Processed image 1003 (1176)"
       ]
      },
      {
       "output_type": "stream",
       "stream": "stdout",
       "text": [
        "\r",
        "Processed image 1004 (1176)"
       ]
      },
      {
       "output_type": "stream",
       "stream": "stdout",
       "text": [
        "\r",
        "Processed image 1005 (1176)"
       ]
      },
      {
       "output_type": "stream",
       "stream": "stdout",
       "text": [
        "\r",
        "Processed image 1006 (1176)"
       ]
      },
      {
       "output_type": "stream",
       "stream": "stdout",
       "text": [
        "\r",
        "Processed image 1007 (1176)"
       ]
      },
      {
       "output_type": "stream",
       "stream": "stdout",
       "text": [
        "\r",
        "Processed image 1008 (1176)"
       ]
      },
      {
       "output_type": "stream",
       "stream": "stdout",
       "text": [
        "\r",
        "Processed image 1009 (1176)"
       ]
      },
      {
       "output_type": "stream",
       "stream": "stdout",
       "text": [
        "\r",
        "Processed image 1010 (1176)"
       ]
      },
      {
       "output_type": "stream",
       "stream": "stdout",
       "text": [
        "\r",
        "Processed image 1011 (1176)"
       ]
      },
      {
       "output_type": "stream",
       "stream": "stdout",
       "text": [
        "\r",
        "Processed image 1012 (1176)"
       ]
      },
      {
       "output_type": "stream",
       "stream": "stdout",
       "text": [
        "\r",
        "Processed image 1013 (1176)"
       ]
      },
      {
       "output_type": "stream",
       "stream": "stdout",
       "text": [
        "\r",
        "Processed image 1014 (1176)"
       ]
      },
      {
       "output_type": "stream",
       "stream": "stdout",
       "text": [
        "\r",
        "Processed image 1015 (1176)"
       ]
      },
      {
       "output_type": "stream",
       "stream": "stdout",
       "text": [
        "\r",
        "Processed image 1016 (1176)"
       ]
      },
      {
       "output_type": "stream",
       "stream": "stdout",
       "text": [
        "\r",
        "Processed image 1017 (1176)"
       ]
      },
      {
       "output_type": "stream",
       "stream": "stdout",
       "text": [
        "\r",
        "Processed image 1018 (1176)"
       ]
      },
      {
       "output_type": "stream",
       "stream": "stdout",
       "text": [
        "\r",
        "Processed image 1019 (1176)"
       ]
      },
      {
       "output_type": "stream",
       "stream": "stdout",
       "text": [
        "\r",
        "Processed image 1020 (1176)"
       ]
      },
      {
       "output_type": "stream",
       "stream": "stdout",
       "text": [
        "\r",
        "Processed image 1021 (1176)"
       ]
      },
      {
       "output_type": "stream",
       "stream": "stdout",
       "text": [
        "\r",
        "Processed image 1022 (1176)"
       ]
      },
      {
       "output_type": "stream",
       "stream": "stdout",
       "text": [
        "\r",
        "Processed image 1023 (1176)"
       ]
      },
      {
       "output_type": "stream",
       "stream": "stdout",
       "text": [
        "\r",
        "Processed image 1024 (1176)"
       ]
      },
      {
       "output_type": "stream",
       "stream": "stdout",
       "text": [
        "\r",
        "Processed image 1025 (1176)"
       ]
      },
      {
       "output_type": "stream",
       "stream": "stdout",
       "text": [
        "\r",
        "Processed image 1026 (1176)"
       ]
      },
      {
       "output_type": "stream",
       "stream": "stdout",
       "text": [
        "\r",
        "Processed image 1027 (1176)"
       ]
      },
      {
       "output_type": "stream",
       "stream": "stdout",
       "text": [
        "\r",
        "Processed image 1028 (1176)"
       ]
      },
      {
       "output_type": "stream",
       "stream": "stdout",
       "text": [
        "\r",
        "Processed image 1029 (1176)"
       ]
      },
      {
       "output_type": "stream",
       "stream": "stdout",
       "text": [
        "\r",
        "Processed image 1030 (1176)"
       ]
      },
      {
       "output_type": "stream",
       "stream": "stdout",
       "text": [
        "\r",
        "Processed image 1031 (1176)"
       ]
      },
      {
       "output_type": "stream",
       "stream": "stdout",
       "text": [
        "\r",
        "Processed image 1032 (1176)"
       ]
      },
      {
       "output_type": "stream",
       "stream": "stdout",
       "text": [
        "\r",
        "Processed image 1033 (1176)"
       ]
      },
      {
       "output_type": "stream",
       "stream": "stdout",
       "text": [
        "\r",
        "Processed image 1034 (1176)"
       ]
      },
      {
       "output_type": "stream",
       "stream": "stdout",
       "text": [
        "\r",
        "Processed image 1035 (1176)"
       ]
      },
      {
       "output_type": "stream",
       "stream": "stdout",
       "text": [
        "\r",
        "Processed image 1036 (1176)"
       ]
      },
      {
       "output_type": "stream",
       "stream": "stdout",
       "text": [
        "\r",
        "Processed image 1037 (1176)"
       ]
      },
      {
       "output_type": "stream",
       "stream": "stdout",
       "text": [
        "\r",
        "Processed image 1038 (1176)"
       ]
      },
      {
       "output_type": "stream",
       "stream": "stdout",
       "text": [
        "\r",
        "Processed image 1039 (1176)"
       ]
      },
      {
       "output_type": "stream",
       "stream": "stdout",
       "text": [
        "\r",
        "Processed image 1040 (1176)"
       ]
      },
      {
       "output_type": "stream",
       "stream": "stdout",
       "text": [
        "\r",
        "Processed image 1041 (1176)"
       ]
      },
      {
       "output_type": "stream",
       "stream": "stdout",
       "text": [
        "\r",
        "Processed image 1042 (1176)"
       ]
      },
      {
       "output_type": "stream",
       "stream": "stdout",
       "text": [
        "\r",
        "Processed image 1043 (1176)"
       ]
      },
      {
       "output_type": "stream",
       "stream": "stdout",
       "text": [
        "\r",
        "Processed image 1044 (1176)"
       ]
      },
      {
       "output_type": "stream",
       "stream": "stdout",
       "text": [
        "\r",
        "Processed image 1045 (1176)"
       ]
      },
      {
       "output_type": "stream",
       "stream": "stdout",
       "text": [
        "\r",
        "Processed image 1046 (1176)"
       ]
      },
      {
       "output_type": "stream",
       "stream": "stdout",
       "text": [
        "\r",
        "Processed image 1047 (1176)"
       ]
      },
      {
       "output_type": "stream",
       "stream": "stdout",
       "text": [
        "\r",
        "Processed image 1048 (1176)"
       ]
      },
      {
       "output_type": "stream",
       "stream": "stdout",
       "text": [
        "\r",
        "Processed image 1049 (1176)"
       ]
      },
      {
       "output_type": "stream",
       "stream": "stdout",
       "text": [
        "\r",
        "Processed image 1050 (1176)"
       ]
      },
      {
       "output_type": "stream",
       "stream": "stdout",
       "text": [
        "\r",
        "Processed image 1051 (1176)"
       ]
      },
      {
       "output_type": "stream",
       "stream": "stdout",
       "text": [
        "\r",
        "Processed image 1052 (1176)"
       ]
      },
      {
       "output_type": "stream",
       "stream": "stdout",
       "text": [
        "\r",
        "Processed image 1053 (1176)"
       ]
      },
      {
       "output_type": "stream",
       "stream": "stdout",
       "text": [
        "\r",
        "Processed image 1054 (1176)"
       ]
      },
      {
       "output_type": "stream",
       "stream": "stdout",
       "text": [
        "\r",
        "Processed image 1055 (1176)"
       ]
      },
      {
       "output_type": "stream",
       "stream": "stdout",
       "text": [
        "\r",
        "Processed image 1056 (1176)"
       ]
      },
      {
       "output_type": "stream",
       "stream": "stdout",
       "text": [
        "\r",
        "Processed image 1057 (1176)"
       ]
      },
      {
       "output_type": "stream",
       "stream": "stdout",
       "text": [
        "\r",
        "Processed image 1058 (1176)"
       ]
      },
      {
       "output_type": "stream",
       "stream": "stdout",
       "text": [
        "\r",
        "Processed image 1059 (1176)"
       ]
      },
      {
       "output_type": "stream",
       "stream": "stdout",
       "text": [
        "\r",
        "Processed image 1060 (1176)"
       ]
      },
      {
       "output_type": "stream",
       "stream": "stdout",
       "text": [
        "\r",
        "Processed image 1061 (1176)"
       ]
      },
      {
       "output_type": "stream",
       "stream": "stdout",
       "text": [
        "\r",
        "Processed image 1062 (1176)"
       ]
      },
      {
       "output_type": "stream",
       "stream": "stdout",
       "text": [
        "\r",
        "Processed image 1063 (1176)"
       ]
      },
      {
       "output_type": "stream",
       "stream": "stdout",
       "text": [
        "\r",
        "Processed image 1064 (1176)"
       ]
      },
      {
       "output_type": "stream",
       "stream": "stdout",
       "text": [
        "\r",
        "Processed image 1065 (1176)"
       ]
      },
      {
       "output_type": "stream",
       "stream": "stdout",
       "text": [
        "\r",
        "Processed image 1066 (1176)"
       ]
      },
      {
       "output_type": "stream",
       "stream": "stdout",
       "text": [
        "\r",
        "Processed image 1067 (1176)"
       ]
      },
      {
       "output_type": "stream",
       "stream": "stdout",
       "text": [
        "\r",
        "Processed image 1068 (1176)"
       ]
      },
      {
       "output_type": "stream",
       "stream": "stdout",
       "text": [
        "\r",
        "Processed image 1069 (1176)"
       ]
      },
      {
       "output_type": "stream",
       "stream": "stdout",
       "text": [
        "\r",
        "Processed image 1070 (1176)"
       ]
      },
      {
       "output_type": "stream",
       "stream": "stdout",
       "text": [
        "\r",
        "Processed image 1071 (1176)"
       ]
      },
      {
       "output_type": "stream",
       "stream": "stdout",
       "text": [
        "\r",
        "Processed image 1072 (1176)"
       ]
      },
      {
       "output_type": "stream",
       "stream": "stdout",
       "text": [
        "\r",
        "Processed image 1073 (1176)"
       ]
      },
      {
       "output_type": "stream",
       "stream": "stdout",
       "text": [
        "\r",
        "Processed image 1074 (1176)"
       ]
      },
      {
       "output_type": "stream",
       "stream": "stdout",
       "text": [
        "\r",
        "Processed image 1075 (1176)"
       ]
      },
      {
       "output_type": "stream",
       "stream": "stdout",
       "text": [
        "\r",
        "Processed image 1076 (1176)"
       ]
      },
      {
       "output_type": "stream",
       "stream": "stdout",
       "text": [
        "\r",
        "Processed image 1077 (1176)"
       ]
      },
      {
       "output_type": "stream",
       "stream": "stdout",
       "text": [
        "\r",
        "Processed image 1078 (1176)"
       ]
      },
      {
       "output_type": "stream",
       "stream": "stdout",
       "text": [
        "\r",
        "Processed image 1079 (1176)"
       ]
      },
      {
       "output_type": "stream",
       "stream": "stdout",
       "text": [
        "\r",
        "Processed image 1080 (1176)"
       ]
      },
      {
       "output_type": "stream",
       "stream": "stdout",
       "text": [
        "\r",
        "Processed image 1081 (1176)"
       ]
      },
      {
       "output_type": "stream",
       "stream": "stdout",
       "text": [
        "\r",
        "Processed image 1082 (1176)"
       ]
      },
      {
       "output_type": "stream",
       "stream": "stdout",
       "text": [
        "\r",
        "Processed image 1083 (1176)"
       ]
      },
      {
       "output_type": "stream",
       "stream": "stdout",
       "text": [
        "\r",
        "Processed image 1084 (1176)"
       ]
      },
      {
       "output_type": "stream",
       "stream": "stdout",
       "text": [
        "\r",
        "Processed image 1085 (1176)"
       ]
      },
      {
       "output_type": "stream",
       "stream": "stdout",
       "text": [
        "\r",
        "Processed image 1086 (1176)"
       ]
      },
      {
       "output_type": "stream",
       "stream": "stdout",
       "text": [
        "\r",
        "Processed image 1087 (1176)"
       ]
      },
      {
       "output_type": "stream",
       "stream": "stdout",
       "text": [
        "\r",
        "Processed image 1088 (1176)"
       ]
      },
      {
       "output_type": "stream",
       "stream": "stdout",
       "text": [
        "\r",
        "Processed image 1089 (1176)"
       ]
      },
      {
       "output_type": "stream",
       "stream": "stdout",
       "text": [
        "\r",
        "Processed image 1090 (1176)"
       ]
      },
      {
       "output_type": "stream",
       "stream": "stdout",
       "text": [
        "\r",
        "Processed image 1091 (1176)"
       ]
      },
      {
       "output_type": "stream",
       "stream": "stdout",
       "text": [
        "\r",
        "Processed image 1092 (1176)"
       ]
      },
      {
       "output_type": "stream",
       "stream": "stdout",
       "text": [
        "\r",
        "Processed image 1093 (1176)"
       ]
      },
      {
       "output_type": "stream",
       "stream": "stdout",
       "text": [
        "\r",
        "Processed image 1094 (1176)"
       ]
      },
      {
       "output_type": "stream",
       "stream": "stdout",
       "text": [
        "\r",
        "Processed image 1095 (1176)"
       ]
      },
      {
       "output_type": "stream",
       "stream": "stdout",
       "text": [
        "\r",
        "Processed image 1096 (1176)"
       ]
      },
      {
       "output_type": "stream",
       "stream": "stdout",
       "text": [
        "\r",
        "Processed image 1097 (1176)"
       ]
      },
      {
       "output_type": "stream",
       "stream": "stdout",
       "text": [
        "\r",
        "Processed image 1098 (1176)"
       ]
      },
      {
       "output_type": "stream",
       "stream": "stdout",
       "text": [
        "\r",
        "Processed image 1099 (1176)"
       ]
      },
      {
       "output_type": "stream",
       "stream": "stdout",
       "text": [
        "\r",
        "Processed image 1100 (1176)"
       ]
      },
      {
       "output_type": "stream",
       "stream": "stdout",
       "text": [
        "\r",
        "Processed image 1101 (1176)"
       ]
      },
      {
       "output_type": "stream",
       "stream": "stdout",
       "text": [
        "\r",
        "Processed image 1102 (1176)"
       ]
      },
      {
       "output_type": "stream",
       "stream": "stdout",
       "text": [
        "\r",
        "Processed image 1103 (1176)"
       ]
      },
      {
       "output_type": "stream",
       "stream": "stdout",
       "text": [
        "\r",
        "Processed image 1104 (1176)"
       ]
      },
      {
       "output_type": "stream",
       "stream": "stdout",
       "text": [
        "\r",
        "Processed image 1105 (1176)"
       ]
      },
      {
       "output_type": "stream",
       "stream": "stdout",
       "text": [
        "\r",
        "Processed image 1106 (1176)"
       ]
      },
      {
       "output_type": "stream",
       "stream": "stdout",
       "text": [
        "\r",
        "Processed image 1107 (1176)"
       ]
      },
      {
       "output_type": "stream",
       "stream": "stdout",
       "text": [
        "\r",
        "Processed image 1108 (1176)"
       ]
      },
      {
       "output_type": "stream",
       "stream": "stdout",
       "text": [
        "\r",
        "Processed image 1109 (1176)"
       ]
      },
      {
       "output_type": "stream",
       "stream": "stdout",
       "text": [
        "\r",
        "Processed image 1110 (1176)"
       ]
      },
      {
       "output_type": "stream",
       "stream": "stdout",
       "text": [
        "\r",
        "Processed image 1111 (1176)"
       ]
      },
      {
       "output_type": "stream",
       "stream": "stdout",
       "text": [
        "\r",
        "Processed image 1112 (1176)"
       ]
      },
      {
       "output_type": "stream",
       "stream": "stdout",
       "text": [
        "\r",
        "Processed image 1113 (1176)"
       ]
      },
      {
       "output_type": "stream",
       "stream": "stdout",
       "text": [
        "\r",
        "Processed image 1114 (1176)"
       ]
      },
      {
       "output_type": "stream",
       "stream": "stdout",
       "text": [
        "\r",
        "Processed image 1115 (1176)"
       ]
      },
      {
       "output_type": "stream",
       "stream": "stdout",
       "text": [
        "\r",
        "Processed image 1116 (1176)"
       ]
      },
      {
       "output_type": "stream",
       "stream": "stdout",
       "text": [
        "\r",
        "Processed image 1117 (1176)"
       ]
      },
      {
       "output_type": "stream",
       "stream": "stdout",
       "text": [
        "\r",
        "Processed image 1118 (1176)"
       ]
      },
      {
       "output_type": "stream",
       "stream": "stdout",
       "text": [
        "\r",
        "Processed image 1119 (1176)"
       ]
      },
      {
       "output_type": "stream",
       "stream": "stdout",
       "text": [
        "\r",
        "Processed image 1120 (1176)"
       ]
      },
      {
       "output_type": "stream",
       "stream": "stdout",
       "text": [
        "\r",
        "Processed image 1121 (1176)"
       ]
      },
      {
       "output_type": "stream",
       "stream": "stdout",
       "text": [
        "\r",
        "Processed image 1122 (1176)"
       ]
      },
      {
       "output_type": "stream",
       "stream": "stdout",
       "text": [
        "\r",
        "Processed image 1123 (1176)"
       ]
      },
      {
       "output_type": "stream",
       "stream": "stdout",
       "text": [
        "\r",
        "Processed image 1124 (1176)"
       ]
      },
      {
       "output_type": "stream",
       "stream": "stdout",
       "text": [
        "\r",
        "Processed image 1125 (1176)"
       ]
      },
      {
       "output_type": "stream",
       "stream": "stdout",
       "text": [
        "\r",
        "Processed image 1126 (1176)"
       ]
      },
      {
       "output_type": "stream",
       "stream": "stdout",
       "text": [
        "\r",
        "Processed image 1127 (1176)"
       ]
      },
      {
       "output_type": "stream",
       "stream": "stdout",
       "text": [
        "\r",
        "Processed image 1128 (1176)"
       ]
      },
      {
       "output_type": "stream",
       "stream": "stdout",
       "text": [
        "\r",
        "Processed image 1129 (1176)"
       ]
      },
      {
       "output_type": "stream",
       "stream": "stdout",
       "text": [
        "\r",
        "Processed image 1130 (1176)"
       ]
      },
      {
       "output_type": "stream",
       "stream": "stdout",
       "text": [
        "\r",
        "Processed image 1131 (1176)"
       ]
      },
      {
       "output_type": "stream",
       "stream": "stdout",
       "text": [
        "\r",
        "Processed image 1132 (1176)"
       ]
      },
      {
       "output_type": "stream",
       "stream": "stdout",
       "text": [
        "\r",
        "Processed image 1133 (1176)"
       ]
      },
      {
       "output_type": "stream",
       "stream": "stdout",
       "text": [
        "\r",
        "Processed image 1134 (1176)"
       ]
      },
      {
       "output_type": "stream",
       "stream": "stdout",
       "text": [
        "\r",
        "Processed image 1135 (1176)"
       ]
      },
      {
       "output_type": "stream",
       "stream": "stdout",
       "text": [
        "\r",
        "Processed image 1136 (1176)"
       ]
      },
      {
       "output_type": "stream",
       "stream": "stdout",
       "text": [
        "\r",
        "Processed image 1137 (1176)"
       ]
      },
      {
       "output_type": "stream",
       "stream": "stdout",
       "text": [
        "\r",
        "Processed image 1138 (1176)"
       ]
      },
      {
       "output_type": "stream",
       "stream": "stdout",
       "text": [
        "\r",
        "Processed image 1139 (1176)"
       ]
      },
      {
       "output_type": "stream",
       "stream": "stdout",
       "text": [
        "\r",
        "Processed image 1140 (1176)"
       ]
      },
      {
       "output_type": "stream",
       "stream": "stdout",
       "text": [
        "\r",
        "Processed image 1141 (1176)"
       ]
      },
      {
       "output_type": "stream",
       "stream": "stdout",
       "text": [
        "\r",
        "Processed image 1142 (1176)"
       ]
      },
      {
       "output_type": "stream",
       "stream": "stdout",
       "text": [
        "\r",
        "Processed image 1143 (1176)"
       ]
      },
      {
       "output_type": "stream",
       "stream": "stdout",
       "text": [
        "\r",
        "Processed image 1144 (1176)"
       ]
      },
      {
       "output_type": "stream",
       "stream": "stdout",
       "text": [
        "\r",
        "Processed image 1145 (1176)"
       ]
      },
      {
       "output_type": "stream",
       "stream": "stdout",
       "text": [
        "\r",
        "Processed image 1146 (1176)"
       ]
      },
      {
       "output_type": "stream",
       "stream": "stdout",
       "text": [
        "\r",
        "Processed image 1147 (1176)"
       ]
      },
      {
       "output_type": "stream",
       "stream": "stdout",
       "text": [
        "\r",
        "Processed image 1148 (1176)"
       ]
      },
      {
       "output_type": "stream",
       "stream": "stdout",
       "text": [
        "\r",
        "Processed image 1149 (1176)"
       ]
      },
      {
       "output_type": "stream",
       "stream": "stdout",
       "text": [
        "\r",
        "Processed image 1150 (1176)"
       ]
      },
      {
       "output_type": "stream",
       "stream": "stdout",
       "text": [
        "\r",
        "Processed image 1151 (1176)"
       ]
      },
      {
       "output_type": "stream",
       "stream": "stdout",
       "text": [
        "\r",
        "Processed image 1152 (1176)"
       ]
      },
      {
       "output_type": "stream",
       "stream": "stdout",
       "text": [
        "\r",
        "Processed image 1153 (1176)"
       ]
      },
      {
       "output_type": "stream",
       "stream": "stdout",
       "text": [
        "\r",
        "Processed image 1154 (1176)"
       ]
      },
      {
       "output_type": "stream",
       "stream": "stdout",
       "text": [
        "\r",
        "Processed image 1155 (1176)"
       ]
      },
      {
       "output_type": "stream",
       "stream": "stdout",
       "text": [
        "\r",
        "Processed image 1156 (1176)"
       ]
      },
      {
       "output_type": "stream",
       "stream": "stdout",
       "text": [
        "\r",
        "Processed image 1157 (1176)"
       ]
      },
      {
       "output_type": "stream",
       "stream": "stdout",
       "text": [
        "\r",
        "Processed image 1158 (1176)"
       ]
      },
      {
       "output_type": "stream",
       "stream": "stdout",
       "text": [
        "\r",
        "Processed image 1159 (1176)"
       ]
      },
      {
       "output_type": "stream",
       "stream": "stdout",
       "text": [
        "\r",
        "Processed image 1160 (1176)"
       ]
      },
      {
       "output_type": "stream",
       "stream": "stdout",
       "text": [
        "\r",
        "Processed image 1161 (1176)"
       ]
      },
      {
       "output_type": "stream",
       "stream": "stdout",
       "text": [
        "\r",
        "Processed image 1162 (1176)"
       ]
      },
      {
       "output_type": "stream",
       "stream": "stdout",
       "text": [
        "\r",
        "Processed image 1163 (1176)"
       ]
      },
      {
       "output_type": "stream",
       "stream": "stdout",
       "text": [
        "\r",
        "Processed image 1164 (1176)"
       ]
      },
      {
       "output_type": "stream",
       "stream": "stdout",
       "text": [
        "\r",
        "Processed image 1165 (1176)"
       ]
      },
      {
       "output_type": "stream",
       "stream": "stdout",
       "text": [
        "\r",
        "Processed image 1166 (1176)"
       ]
      },
      {
       "output_type": "stream",
       "stream": "stdout",
       "text": [
        "\r",
        "Processed image 1167 (1176)"
       ]
      },
      {
       "output_type": "stream",
       "stream": "stdout",
       "text": [
        "\r",
        "Processed image 1168 (1176)"
       ]
      },
      {
       "output_type": "stream",
       "stream": "stdout",
       "text": [
        "\r",
        "Processed image 1169 (1176)"
       ]
      },
      {
       "output_type": "stream",
       "stream": "stdout",
       "text": [
        "\r",
        "Processed image 1170 (1176)"
       ]
      },
      {
       "output_type": "stream",
       "stream": "stdout",
       "text": [
        "\r",
        "Processed image 1171 (1176)"
       ]
      },
      {
       "output_type": "stream",
       "stream": "stdout",
       "text": [
        "\r",
        "Processed image 1172 (1176)"
       ]
      },
      {
       "output_type": "stream",
       "stream": "stdout",
       "text": [
        "\r",
        "Processed image 1173 (1176)"
       ]
      },
      {
       "output_type": "stream",
       "stream": "stdout",
       "text": [
        "\r",
        "Processed image 1174 (1176)"
       ]
      },
      {
       "output_type": "stream",
       "stream": "stdout",
       "text": [
        "\r",
        "Processed image 1175 (1176)"
       ]
      },
      {
       "output_type": "stream",
       "stream": "stdout",
       "text": [
        "\n",
        "done with sprite"
       ]
      },
      {
       "ename": "KeyError",
       "evalue": "'sprite_name'",
       "output_type": "pyerr",
       "traceback": [
        "\u001b[0;31m---------------------------------------------------------------------------\u001b[0m\n\u001b[0;31mKeyError\u001b[0m                                  Traceback (most recent call last)",
        "\u001b[0;32m<ipython-input-16-d04a95d01fe8>\u001b[0m in \u001b[0;36m<module>\u001b[0;34m()\u001b[0m\n\u001b[1;32m     76\u001b[0m         \u001b[0msys\u001b[0m\u001b[0;34m.\u001b[0m\u001b[0mstdout\u001b[0m\u001b[0;34m.\u001b[0m\u001b[0mflush\u001b[0m\u001b[0;34m(\u001b[0m\u001b[0;34m)\u001b[0m\u001b[0;34m\u001b[0m\u001b[0m\n\u001b[1;32m     77\u001b[0m     \u001b[0;32mprint\u001b[0m\u001b[0;34m\u001b[0m\u001b[0m\n\u001b[0;32m---> 78\u001b[0;31m     \u001b[0;32mprint\u001b[0m \u001b[0;34m\"done with sprite\"\u001b[0m\u001b[0;34m,\u001b[0m \u001b[0mtrackedSprites\u001b[0m\u001b[0;34m[\u001b[0m\u001b[0mspriteIdx\u001b[0m\u001b[0;34m]\u001b[0m\u001b[0;34m[\u001b[0m\u001b[0mDICT_SPRITE_NAME\u001b[0m\u001b[0;34m]\u001b[0m\u001b[0;34m\u001b[0m\u001b[0m\n\u001b[0m",
        "\u001b[0;31mKeyError\u001b[0m: 'sprite_name'"
       ]
      }
     ],
     "prompt_number": 16
    },
    {
     "cell_type": "code",
     "collapsed": false,
     "input": [
      "# figure(); imshow(img_target)\n",
      "print np.asarray(PIL.Image.open(dataPath+dataSet+\"median.png\")).shape\n"
     ],
     "language": "python",
     "metadata": {},
     "outputs": [
      {
       "output_type": "stream",
       "stream": "stdout",
       "text": [
        "(720, 1280, 4)\n"
       ]
      }
     ],
     "prompt_number": 12
    },
    {
     "cell_type": "code",
     "collapsed": false,
     "input": [
      "del img_mask\n",
      "del img_source\n",
      "del img_target\n",
      "del maskedFinal\n",
      "del img_ret\n",
      "del sourceImg\n",
      "del mask"
     ],
     "language": "python",
     "metadata": {},
     "outputs": [],
     "prompt_number": 84
=======
        "\n",
        "done with sprite roller_coaster1\n"
       ]
      }
     ],
     "prompt_number": 10
>>>>>>> fe1b005d2ec4d7eb0bc61da731ff4fa25b905e36
    }
   ],
   "metadata": {}
  }
 ]
}