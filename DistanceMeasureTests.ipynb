{
 "metadata": {
  "name": ""
 },
 "nbformat": 3,
 "nbformat_minor": 0,
 "worksheets": [
  {
   "cells": [
    {
     "cell_type": "code",
     "collapsed": false,
     "input": [
      "## Imports and defines\n",
      "%pylab \n",
      "import numpy as np\n",
      "import cv2\n",
      "import glob\n",
      "import time\n",
      "import sys\n",
      "import ssim\n",
      "from PIL import Image\n",
      "\n",
      "import VideoTexturesUtils as vtu\n",
      "\n",
      "from mpl_toolkits.mplot3d import Axes3D\n",
      "import matplotlib.animation as animation\n",
      "\n",
      "dataFolder = \"/home/ilisescu/PhD/data/\""
     ],
     "language": "python",
     "metadata": {},
     "outputs": [
      {
       "output_type": "stream",
       "stream": "stdout",
       "text": [
        "Using matplotlib backend: TkAgg\n",
        "Populating the interactive namespace from numpy and matplotlib\n"
       ]
      }
     ],
     "prompt_number": 1
    },
    {
     "cell_type": "code",
     "collapsed": false,
     "input": [
      "## read frames from sequence of images\n",
      "# sampleData = \"pendulum/\"\n",
      "# sampleData = \"ribbon1_matted/\"\n",
      "sampleData = \"little_palm1/\"\n",
      "outputData = dataFolder+sampleData\n",
      "\n",
      "## Find pngs in sample data\n",
      "frames = glob.glob(dataFolder + sampleData + \"*.png\")\n",
      "maxFrames = 60#len(frames)\n",
      "frames = np.sort(frames)[0:maxFrames]\n",
      "numFrames = len(frames)\n",
      "frameSize = cv2.imread(frames[0]).shape\n",
      "print numFrames\n",
      "if numFrames > 0 :\n",
      "    frameSize = cv2.imread(frames[0]).shape\n",
      "    movie = np.zeros(np.hstack([frameSize[0], frameSize[1], frameSize[2], numFrames]), dtype=np.uint8)\n",
      "    for i in range(0, numFrames) :\n",
      "        movie[:, :, :, i] = np.array(cv2.cvtColor(cv2.imread(frames[i]), cv2.COLOR_BGR2RGB), dtype=np.uint8)\n",
      "        \n",
      "        sys.stdout.write('\\r' + \"Loaded frame \" + np.string_(i) + \" of \" + np.string_(numFrames))\n",
      "        sys.stdout.flush()\n",
      "\n",
      "print        \n",
      "print 'Movie has shape', movie.shape"
     ],
     "language": "python",
     "metadata": {},
     "outputs": [
      {
       "output_type": "stream",
       "stream": "stdout",
       "text": [
        "60\n",
        "\r",
        "Loaded frame 0 of 60"
       ]
      },
      {
       "output_type": "stream",
       "stream": "stdout",
       "text": [
        "\r",
        "Loaded frame 1 of 60"
       ]
      },
      {
       "output_type": "stream",
       "stream": "stdout",
       "text": [
        "\r",
        "Loaded frame 2 of 60"
       ]
      },
      {
       "output_type": "stream",
       "stream": "stdout",
       "text": [
        "\r",
        "Loaded frame 3 of 60"
       ]
      },
      {
       "output_type": "stream",
       "stream": "stdout",
       "text": [
        "\r",
        "Loaded frame 4 of 60"
       ]
      },
      {
       "output_type": "stream",
       "stream": "stdout",
       "text": [
        "\r",
        "Loaded frame 5 of 60"
       ]
      },
      {
       "output_type": "stream",
       "stream": "stdout",
       "text": [
        "\r",
        "Loaded frame 6 of 60"
       ]
      },
      {
       "output_type": "stream",
       "stream": "stdout",
       "text": [
        "\r",
        "Loaded frame 7 of 60"
       ]
      },
      {
       "output_type": "stream",
       "stream": "stdout",
       "text": [
        "\r",
        "Loaded frame 8 of 60"
       ]
      },
      {
       "output_type": "stream",
       "stream": "stdout",
       "text": [
        "\r",
        "Loaded frame 9 of 60"
       ]
      },
      {
       "output_type": "stream",
       "stream": "stdout",
       "text": [
        "\r",
        "Loaded frame 10 of 60"
       ]
      },
      {
       "output_type": "stream",
       "stream": "stdout",
       "text": [
        "\r",
        "Loaded frame 11 of 60"
       ]
      },
      {
       "output_type": "stream",
       "stream": "stdout",
       "text": [
        "\r",
        "Loaded frame 12 of 60"
       ]
      },
      {
       "output_type": "stream",
       "stream": "stdout",
       "text": [
        "\r",
        "Loaded frame 13 of 60"
       ]
      },
      {
       "output_type": "stream",
       "stream": "stdout",
       "text": [
        "\r",
        "Loaded frame 14 of 60"
       ]
      },
      {
       "output_type": "stream",
       "stream": "stdout",
       "text": [
        "\r",
        "Loaded frame 15 of 60"
       ]
      },
      {
       "output_type": "stream",
       "stream": "stdout",
       "text": [
        "\r",
        "Loaded frame 16 of 60"
       ]
      },
      {
       "output_type": "stream",
       "stream": "stdout",
       "text": [
        "\r",
        "Loaded frame 17 of 60"
       ]
      },
      {
       "output_type": "stream",
       "stream": "stdout",
       "text": [
        "\r",
        "Loaded frame 18 of 60"
       ]
      },
      {
       "output_type": "stream",
       "stream": "stdout",
       "text": [
        "\r",
        "Loaded frame 19 of 60"
       ]
      },
      {
       "output_type": "stream",
       "stream": "stdout",
       "text": [
        "\r",
        "Loaded frame 20 of 60"
       ]
      },
      {
       "output_type": "stream",
       "stream": "stdout",
       "text": [
        "\r",
        "Loaded frame 21 of 60"
       ]
      },
      {
       "output_type": "stream",
       "stream": "stdout",
       "text": [
        "\r",
        "Loaded frame 22 of 60"
       ]
      },
      {
       "output_type": "stream",
       "stream": "stdout",
       "text": [
        "\r",
        "Loaded frame 23 of 60"
       ]
      },
      {
       "output_type": "stream",
       "stream": "stdout",
       "text": [
        "\r",
        "Loaded frame 24 of 60"
       ]
      },
      {
       "output_type": "stream",
       "stream": "stdout",
       "text": [
        "\r",
        "Loaded frame 25 of 60"
       ]
      },
      {
       "output_type": "stream",
       "stream": "stdout",
       "text": [
        "\r",
        "Loaded frame 26 of 60"
       ]
      },
      {
       "output_type": "stream",
       "stream": "stdout",
       "text": [
        "\r",
        "Loaded frame 27 of 60"
       ]
      },
      {
       "output_type": "stream",
       "stream": "stdout",
       "text": [
        "\r",
        "Loaded frame 28 of 60"
       ]
      },
      {
       "output_type": "stream",
       "stream": "stdout",
       "text": [
        "\r",
        "Loaded frame 29 of 60"
       ]
      },
      {
       "output_type": "stream",
       "stream": "stdout",
       "text": [
        "\r",
        "Loaded frame 30 of 60"
       ]
      },
      {
       "output_type": "stream",
       "stream": "stdout",
       "text": [
        "\r",
        "Loaded frame 31 of 60"
       ]
      },
      {
       "output_type": "stream",
       "stream": "stdout",
       "text": [
        "\r",
        "Loaded frame 32 of 60"
       ]
      },
      {
       "output_type": "stream",
       "stream": "stdout",
       "text": [
        "\r",
        "Loaded frame 33 of 60"
       ]
      },
      {
       "output_type": "stream",
       "stream": "stdout",
       "text": [
        "\r",
        "Loaded frame 34 of 60"
       ]
      },
      {
       "output_type": "stream",
       "stream": "stdout",
       "text": [
        "\r",
        "Loaded frame 35 of 60"
       ]
      },
      {
       "output_type": "stream",
       "stream": "stdout",
       "text": [
        "\r",
        "Loaded frame 36 of 60"
       ]
      },
      {
       "output_type": "stream",
       "stream": "stdout",
       "text": [
        "\r",
        "Loaded frame 37 of 60"
       ]
      },
      {
       "output_type": "stream",
       "stream": "stdout",
       "text": [
        "\r",
        "Loaded frame 38 of 60"
       ]
      },
      {
       "output_type": "stream",
       "stream": "stdout",
       "text": [
        "\r",
        "Loaded frame 39 of 60"
       ]
      },
      {
       "output_type": "stream",
       "stream": "stdout",
       "text": [
        "\r",
        "Loaded frame 40 of 60"
       ]
      },
      {
       "output_type": "stream",
       "stream": "stdout",
       "text": [
        "\r",
        "Loaded frame 41 of 60"
       ]
      },
      {
       "output_type": "stream",
       "stream": "stdout",
       "text": [
        "\r",
        "Loaded frame 42 of 60"
       ]
      },
      {
       "output_type": "stream",
       "stream": "stdout",
       "text": [
        "\r",
        "Loaded frame 43 of 60"
       ]
      },
      {
       "output_type": "stream",
       "stream": "stdout",
       "text": [
        "\r",
        "Loaded frame 44 of 60"
       ]
      },
      {
       "output_type": "stream",
       "stream": "stdout",
       "text": [
        "\r",
        "Loaded frame 45 of 60"
       ]
      },
      {
       "output_type": "stream",
       "stream": "stdout",
       "text": [
        "\r",
        "Loaded frame 46 of 60"
       ]
      },
      {
       "output_type": "stream",
       "stream": "stdout",
       "text": [
        "\r",
        "Loaded frame 47 of 60"
       ]
      },
      {
       "output_type": "stream",
       "stream": "stdout",
       "text": [
        "\r",
        "Loaded frame 48 of 60"
       ]
      },
      {
       "output_type": "stream",
       "stream": "stdout",
       "text": [
        "\r",
        "Loaded frame 49 of 60"
       ]
      },
      {
       "output_type": "stream",
       "stream": "stdout",
       "text": [
        "\r",
        "Loaded frame 50 of 60"
       ]
      },
      {
       "output_type": "stream",
       "stream": "stdout",
       "text": [
        "\r",
        "Loaded frame 51 of 60"
       ]
      },
      {
       "output_type": "stream",
       "stream": "stdout",
       "text": [
        "\r",
        "Loaded frame 52 of 60"
       ]
      },
      {
       "output_type": "stream",
       "stream": "stdout",
       "text": [
        "\r",
        "Loaded frame 53 of 60"
       ]
      },
      {
       "output_type": "stream",
       "stream": "stdout",
       "text": [
        "\r",
        "Loaded frame 54 of 60"
       ]
      },
      {
       "output_type": "stream",
       "stream": "stdout",
       "text": [
        "\r",
        "Loaded frame 55 of 60"
       ]
      },
      {
       "output_type": "stream",
       "stream": "stdout",
       "text": [
        "\r",
        "Loaded frame 56 of 60"
       ]
      },
      {
       "output_type": "stream",
       "stream": "stdout",
       "text": [
        "\r",
        "Loaded frame 57 of 60"
       ]
      },
      {
       "output_type": "stream",
       "stream": "stdout",
       "text": [
        "\r",
        "Loaded frame 58 of 60"
       ]
      },
      {
       "output_type": "stream",
       "stream": "stdout",
       "text": [
        "\r",
        "Loaded frame 59 of 60"
       ]
      },
      {
       "output_type": "stream",
       "stream": "stdout",
       "text": [
        "\n",
        "Movie has shape (720, 1280, 3, 60)\n"
       ]
      }
     ],
     "prompt_number": 2
    },
    {
     "cell_type": "code",
     "collapsed": false,
     "input": [
      "def estimateFutureCost(alpha, p, distanceMatrixFilt, weights) :\n",
      "    \n",
      "    distMatFilt = distanceMatrixFilt[1:distanceMatrixFilt.shape[1], 0:-1]\n",
      "    distMat = distMatFilt ** p\n",
      "    \n",
      "    last = np.copy(distMat)\n",
      "    current = np.zeros(distMat.shape)\n",
      "    \n",
      "    ## while distance between last and current is larger than threshold\n",
      "    iterations = 0 \n",
      "    while np.linalg.norm(last - current) > 0.1 : \n",
      "        for i in range(distMat.shape[0]-1, -1, -1) :\n",
      "            m = np.min(distMat*weights[1:distanceMatrixFilt.shape[1], 0:-1], axis=1)\n",
      "            distMat[i, :] = (distMatFilt[i, :] ** p) + alpha*m\n",
      "            \n",
      "        last = np.copy(current)\n",
      "        current = np.copy(distMat)\n",
      "        \n",
      "        sys.stdout.write('\\r' + \"Iteration \" + np.string_(iterations) + \"; distance \" + np.string_(np.linalg.norm(last - current)))\n",
      "        sys.stdout.flush()\n",
      "        \n",
      "        iterations += 1\n",
      "    \n",
      "    print\n",
      "    print 'finished in', iterations, 'iterations'\n",
      "    \n",
      "    return distMat"
     ],
     "language": "python",
     "metadata": {},
     "outputs": [],
     "prompt_number": 3
    },
    {
     "cell_type": "code",
     "collapsed": false,
     "input": [
      "## compute euclidean distance assuming f is an array where each row is a flattened image (1xN array, N=W*H*Channels)\n",
      "## euclidean distance defined as the length of the the displacement vector:\n",
      "## len(q-p) = sqrt(len(q)^2+len(p)^2 - 2*dot(p, q)) where p and q are two images in vector format and 1xN size\n",
      "def distEuc(f) :\n",
      "    ## gives sum over squared intensity values for each image\n",
      "    ff = np.sum(f*f, axis=1)\n",
      "    ## first term is sum between each possible combination of frames\n",
      "    ## second term is the the dot product between each frame as in the formula above\n",
      "    d = np.sqrt(np.reshape(ff, [len(ff),1])+ff.T - 2*np.dot(f, f.T))\n",
      "    return d\n",
      "\n",
      "def distEuc2(f1, f2) :\n",
      "    ## gives sum over squared intensity values for each image\n",
      "    ff1 = np.sum(f1*f1, axis=1)\n",
      "    ff2 = np.sum(f2*f2, axis=1)\n",
      "#     print ff1.shape\n",
      "#     print ff2.shape\n",
      "    ## first term is sum between each possible combination of frames\n",
      "    ## second term is the the dot product between each frame as in the formula above\n",
      "#     print \"askdfh\", np.repeat(np.reshape(ff1, [len(ff1),1]), len(ff2), axis=1).shape, np.repeat(np.reshape(ff2, [1, len(ff2)]), len(ff1), axis=0).shape\n",
      "    d = np.sqrt(np.repeat(np.reshape(ff1, [len(ff1),1]), len(ff2), axis=1)+np.repeat(np.reshape(ff2, [1, len(ff2)]), len(ff1), axis=0) - 2*np.dot(f1, f2.T))\n",
      "    return d"
     ],
     "language": "python",
     "metadata": {},
     "outputs": [],
     "prompt_number": 4
    },
    {
     "cell_type": "code",
     "collapsed": false,
     "input": [
      "def distSSIM(f1, f2) :\n",
      "    ## compute_ssim returns ssim score (which is in [-1, 1]) and I need a distance measure (in [0, 1])\n",
      "#     return (1 - ssim.compute_ssim(f1, f2))/2\n",
      "    return (1 - getssim(f1, f2))/2"
     ],
     "language": "python",
     "metadata": {},
     "outputs": [],
     "prompt_number": 5
    },
    {
     "cell_type": "code",
     "collapsed": false,
     "input": [
      "def computeDist(distType, f1, f2) :\n",
      "    if distType == \"Euc\" :\n",
      "        if f2 != None :\n",
      "            return distEuc2(f1, f2)\n",
      "        else :\n",
      "            return distEuc(f1)\n",
      "    elif distType == \"SSIM\" :\n",
      "        return distSSIM(f1, f2)"
     ],
     "language": "python",
     "metadata": {},
     "outputs": [],
     "prompt_number": 6
    },
    {
     "cell_type": "code",
     "collapsed": false,
     "input": [
      "s = time.time()\n",
      "ssimDist = np.zeros((len(frames), len(frames)))\n",
      "\n",
      "for i in xrange(0, len(frames)) :\n",
      "    for j in xrange(i+1, len(frames)) :\n",
      "        ssimDist[i, j] = ssimDist[j, i] = distSSIM(frames[i], frames[j])\n",
      "\n",
      "# distSSIM(frames[0], frames[0])\n",
      "figure(); imshow(ssimDist, interpolation='nearest')\n",
      "print \"finished in\", time.time() - s"
     ],
     "language": "python",
     "metadata": {},
     "outputs": [
      {
       "output_type": "stream",
       "stream": "stdout",
       "text": [
        "finished in 362.015898943\n"
       ]
      }
     ],
     "prompt_number": 9
    },
    {
     "cell_type": "code",
     "collapsed": false,
     "input": [
      "np.save(\"ssimDist60-little_palm\", ssimDist)"
     ],
     "language": "python",
     "metadata": {},
     "outputs": [],
     "prompt_number": 10
    },
    {
     "cell_type": "code",
     "collapsed": false,
     "input": [
      "costMat = np.copy(vtu.filterDistanceMatrix(distanceMatrix, 4, True))\n",
      "figure(); imshow(costMat, interpolation='nearest')\n",
      "# only allow backwards transitions\n",
      "costMat[np.triu_indices(len(costMat), k=-10+1)] = np.max(costMat)\n",
      "print np.argmin(costMat), np.min(costMat), costMat.shape, costMat[38, 17]\n",
      "print np.mod(np.argmin(costMat), len(costMat)), np.argmin(costMat)/len(costMat)"
     ],
     "language": "python",
     "metadata": {},
     "outputs": [
      {
       "output_type": "stream",
       "stream": "stdout",
       "text": [
        "2221 63.8288911194 (58, 58) 63.8288911194\n",
        "17 38\n"
       ]
      }
     ],
     "prompt_number": 17
    },
    {
     "cell_type": "code",
     "collapsed": false,
     "input": [
      "def getssim(f1, f2) :\n",
      "    gaussian_kernel_sigma = 1.5\n",
      "    gaussian_kernel_width = 11\n",
      "    gaussian_kernel_1d = ssim.utils.get_gaussian_kernel(gaussian_kernel_width, gaussian_kernel_sigma)\n",
      "    \n",
      "    # img1 = Image.open(\"/home/ilisescu/PhD/data/little_palm1/frame-00001.png\")\n",
      "    img1 = Image.open(f1)\n",
      "    img1size = img1.size\n",
      "    img1_gray, img1_alpha = ssim.utils.to_grayscale(img1)\n",
      "    \n",
      "    # if img1_alpha is not None:\n",
      "    #     img1_gray[img1_alpha == 255] = 0\n",
      "        \n",
      "    img1_gray_squared = img1_gray ** 2\n",
      "    \n",
      "    img1_gray_mu = ssim.utils.convolve_gaussian_2d(img1_gray, gaussian_kernel_1d)\n",
      "    \n",
      "    img1_gray_mu_squared = img1_gray_mu ** 2\n",
      "    \n",
      "    img1_gray_sigma_squared = ssim.utils.convolve_gaussian_2d(img1_gray_squared, gaussian_kernel_1d)\n",
      "    \n",
      "    img1_gray_sigma_squared -= img1_gray_mu_squared\n",
      "    \n",
      "    img2 = Image.open(f2)\n",
      "    img2size = img2.size\n",
      "    img2_gray, img2_alpha = ssim.utils.to_grayscale(img2)\n",
      "    \n",
      "    # if img2_alpha is not None:\n",
      "    #     img2_gray[img2_alpha == 255] = 0\n",
      "        \n",
      "    img2_gray_squared = img2_gray ** 2\n",
      "    \n",
      "    img2_gray_mu = ssim.utils.convolve_gaussian_2d(img2_gray, gaussian_kernel_1d)\n",
      "    \n",
      "    img2_gray_mu_squared = img2_gray_mu ** 2\n",
      "    \n",
      "    img2_gray_sigma_squared = ssim.utils.convolve_gaussian_2d(img2_gray_squared, gaussian_kernel_1d)\n",
      "    \n",
      "    img2_gray_sigma_squared -= img2_gray_mu_squared\n",
      "    \n",
      "    l=255\n",
      "    k_1=0.01\n",
      "    k_2=0.03\n",
      "    c_1 = (k_1 * l) ** 2\n",
      "    c_2 = (k_2 * l) ** 2\n",
      "            \n",
      "    img_mat_12 = img1_gray * img2_gray\n",
      "    img_mat_sigma_12 = ssim.utils.convolve_gaussian_2d(img_mat_12, gaussian_kernel_1d)\n",
      "    img_mat_mu_12 = img1_gray_mu * img2_gray_mu\n",
      "    img_mat_sigma_12 = img_mat_sigma_12 - img_mat_mu_12\n",
      "    \n",
      "    # Numerator of SSIM\n",
      "    num_ssim = ((2 * img_mat_mu_12 + c_1) *\n",
      "                (2 * img_mat_sigma_12 + c_2))\n",
      "    \n",
      "    # Denominator of SSIM\n",
      "    den_ssim = (\n",
      "        (img1_gray_mu_squared + img2_gray_mu_squared +\n",
      "         c_1) *\n",
      "        (img1_gray_sigma_squared +\n",
      "         img2_gray_sigma_squared + c_2))\n",
      "    \n",
      "    ssim_map = num_ssim / den_ssim\n",
      "    index = numpy.average(ssim_map)\n",
      "    return index"
     ],
     "language": "python",
     "metadata": {},
     "outputs": [],
     "prompt_number": 8
    },
    {
     "cell_type": "code",
     "collapsed": false,
     "input": [
      "print getssim(frames[0], frames[-1])"
     ],
     "language": "python",
     "metadata": {},
     "outputs": [
      {
       "output_type": "stream",
       "stream": "stdout",
       "text": [
        "0.86451449713\n"
       ]
      }
     ],
     "prompt_number": 9
    },
    {
     "cell_type": "code",
     "collapsed": false,
     "input": [
      "gaussian_kernel_sigma = 1.5\n",
      "gaussian_kernel_width = 11\n",
      "gaussian_kernel_1d = ssim.utils.get_gaussian_kernel(gaussian_kernel_width, gaussian_kernel_sigma)\n",
      "\n",
      "# img1 = Image.open(\"/home/ilisescu/PhD/data/little_palm1/frame-00001.png\")\n",
      "img1 = Image.open(frames[0])\n",
      "img1size = img1.size\n",
      "img1_gray, img1_alpha = ssim.utils.to_grayscale(img1)\n",
      "\n",
      "# if img1_alpha is not None:\n",
      "#     img1_gray[img1_alpha == 255] = 0\n",
      "    \n",
      "img1_gray_squared = img1_gray ** 2\n",
      "\n",
      "img1_gray_mu = ssim.utils.convolve_gaussian_2d(img1_gray, gaussian_kernel_1d)\n",
      "\n",
      "img1_gray_mu_squared = img1_gray_mu ** 2\n",
      "\n",
      "img1_gray_sigma_squared = ssim.utils.convolve_gaussian_2d(img1_gray_squared, gaussian_kernel_1d)\n",
      "\n",
      "img1_gray_sigma_squared -= img1_gray_mu_squared"
     ],
     "language": "python",
     "metadata": {},
     "outputs": [],
     "prompt_number": 29
    },
    {
     "cell_type": "code",
     "collapsed": false,
     "input": [
      "img2 = Image.open(frames[-1])\n",
      "img2size = img2.size\n",
      "img2_gray, img2_alpha = ssim.utils.to_grayscale(img2)\n",
      "\n",
      "# if img2_alpha is not None:\n",
      "#     img2_gray[img2_alpha == 255] = 0\n",
      "    \n",
      "img2_gray_squared = img2_gray ** 2\n",
      "\n",
      "img2_gray_mu = ssim.utils.convolve_gaussian_2d(img2_gray, gaussian_kernel_1d)\n",
      "\n",
      "img2_gray_mu_squared = img2_gray_mu ** 2\n",
      "\n",
      "img2_gray_sigma_squared = ssim.utils.convolve_gaussian_2d(img2_gray_squared, gaussian_kernel_1d)\n",
      "\n",
      "img2_gray_sigma_squared -= img2_gray_mu_squared"
     ],
     "language": "python",
     "metadata": {},
     "outputs": [],
     "prompt_number": 35
    },
    {
     "cell_type": "code",
     "collapsed": false,
     "input": [
      "figure(); imshow(img2_gray_sigma_squared)\n",
      "# print img1_alpha\n",
      "# print img1.getbands()"
     ],
     "language": "python",
     "metadata": {},
     "outputs": [
      {
       "metadata": {},
       "output_type": "pyout",
       "prompt_number": 37,
       "text": [
        "<matplotlib.image.AxesImage at 0x7faa6f119a90>"
       ]
      }
     ],
     "prompt_number": 37
    },
    {
     "cell_type": "code",
     "collapsed": false,
     "input": [
      "l=255\n",
      "k_1=0.01\n",
      "k_2=0.03\n",
      "c_1 = (k_1 * l) ** 2\n",
      "c_2 = (k_2 * l) ** 2\n",
      "        \n",
      "img_mat_12 = img1_gray * img2_gray\n",
      "img_mat_sigma_12 = ssim.utils.convolve_gaussian_2d(img_mat_12, gaussian_kernel_1d)\n",
      "img_mat_mu_12 = img1_gray_mu * img2_gray_mu\n",
      "img_mat_sigma_12 = img_mat_sigma_12 - img_mat_mu_12\n",
      "\n",
      "# Numerator of SSIM\n",
      "num_ssim = ((2 * img_mat_mu_12 + c_1) *\n",
      "            (2 * img_mat_sigma_12 + c_2))\n",
      "\n",
      "# Denominator of SSIM\n",
      "den_ssim = (\n",
      "    (img1_gray_mu_squared + img2_gray_mu_squared +\n",
      "     c_1) *\n",
      "    (img1_gray_sigma_squared +\n",
      "     img2_gray_sigma_squared + c_2))\n",
      "\n",
      "ssim_map = num_ssim / den_ssim\n",
      "index = numpy.average(ssim_map)\n",
      "print index"
     ],
     "language": "python",
     "metadata": {},
     "outputs": [
      {
       "output_type": "stream",
       "stream": "stdout",
       "text": [
        "0.86451449713\n"
       ]
      }
     ],
     "prompt_number": 42
    },
    {
     "cell_type": "code",
     "collapsed": false,
     "input": [
      "print frames[0], frames[65]\n",
      "ssim.compute_ssim(frames[0], frames[65])"
     ],
     "language": "python",
     "metadata": {},
     "outputs": [
      {
       "output_type": "stream",
       "stream": "stdout",
       "text": [
        "/home/ilisescu/PhD/data/pendulum/000001.png /home/ilisescu/PhD/data/pendulum/000066.png\n"
       ]
      },
      {
       "metadata": {},
       "output_type": "pyout",
       "prompt_number": 83,
       "text": [
        "1.0"
       ]
      }
     ],
     "prompt_number": 83
    },
    {
     "cell_type": "code",
     "collapsed": false,
     "input": [
      "ssimDist = np.load(\"ssimDist.npy\")"
     ],
     "language": "python",
     "metadata": {},
     "outputs": [],
     "prompt_number": 6
    },
    {
     "cell_type": "code",
     "collapsed": false,
     "input": [
      "## divide data into subblocks\n",
      "s = time.time()\n",
      "numBlocks = 1\n",
      "blockSize = numFrames/numBlocks\n",
      "print numFrames, numBlocks, blockSize\n",
      "distanceMatrix = np.zeros([numFrames, numFrames])\n",
      "\n",
      "distanceType = \"Euc\"\n",
      "\n",
      "for i in xrange(0, numBlocks) :\n",
      "    \n",
      "    t = time.time()\n",
      "    \n",
      "    ##load row frames\n",
      "    f1s = np.zeros(np.hstack([frameSize[0], frameSize[1], frameSize[2], blockSize]))\n",
      "    for f, idx in zip(xrange(i*blockSize, i*blockSize+blockSize), xrange(0, blockSize)) :\n",
      "        f1s[:, :, :, idx] = np.array(cv2.cvtColor(cv2.imread(frames[f]), cv2.COLOR_BGR2RGB))/255.0\n",
      "\n",
      "    ##compute distance between every pair of row frames\n",
      "    data1 = np.reshape(f1s, [np.prod(f1s.shape[0:-1]), f1s.shape[-1]]).T\n",
      "    distanceMatrix[i*blockSize:i*blockSize+blockSize, i*blockSize:i*blockSize+blockSize] = computeDist(distanceType, data1, None)\n",
      "    \n",
      "    sys.stdout.write('\\r' + \"Row Frames \" + np.string_(i*blockSize) + \" to \" + np.string_(i*blockSize+blockSize-1) + \" in \" + np.string_(time.time() - t))\n",
      "    sys.stdout.flush()\n",
      "    print\n",
      "    \n",
      "    for j in xrange(i+1, numBlocks) :\n",
      "        \n",
      "        t = time.time()\n",
      "        \n",
      "        ##load column frames\n",
      "        f2s = np.zeros(np.hstack([frameSize[0], frameSize[1], frameSize[2], blockSize]))\n",
      "        for f, idx in zip(xrange(j*blockSize, j*blockSize+blockSize), xrange(0, blockSize)) :\n",
      "            f2s[:, :, :, idx] = np.array(cv2.cvtColor(cv2.imread(frames[f]), cv2.COLOR_BGR2RGB))/255.0\n",
      "            \n",
      "        ##compute distance between every pair of row-column frames\n",
      "        data2 = np.reshape(f2s, [np.prod(f2s.shape[0:-1]), f2s.shape[-1]]).T\n",
      "        distanceMatrix[i*blockSize:i*blockSize+blockSize, j*blockSize:j*blockSize+blockSize] = computeDist(distanceType, data1, data2)\n",
      "        distanceMatrix[j*blockSize:j*blockSize+blockSize, i*blockSize:i*blockSize+blockSize] = distanceMatrix[i*blockSize:i*blockSize+blockSize, j*blockSize:j*blockSize+blockSize].T\n",
      "    \n",
      "        sys.stdout.write('\\r' + \"Column Frames \" + np.string_(j*blockSize) + \" to \" + np.string_(j*blockSize+blockSize-1) + \" in \" + np.string_(time.time() - t))\n",
      "        sys.stdout.flush()\n",
      "        print\n",
      "\n",
      "figure(); imshow(distanceMatrix, interpolation='nearest')\n",
      "print \"finished in\", time.time() - s"
     ],
     "language": "python",
     "metadata": {},
     "outputs": [
      {
       "output_type": "stream",
       "stream": "stdout",
       "text": [
        "66 1 66\n",
        "\r",
        "Row Frames 0 to 65 in 0.966305017471"
       ]
      },
      {
       "output_type": "stream",
       "stream": "stdout",
       "text": [
        "\n",
        "finished in"
       ]
      },
      {
       "output_type": "stream",
       "stream": "stdout",
       "text": [
        " 1.04158687592\n"
       ]
      }
     ],
     "prompt_number": 16
    },
    {
     "cell_type": "code",
     "collapsed": false,
     "input": [
      "## check how cumProbs look like\n",
      "distMatFilt = vtu.filterDistanceMatrix(ssimDist, 4, True)\n",
      "distMat = estimateFutureCost(0.999, 2.0, distMatFilt, np.ones(distMatFilt.shape))\n",
      "probabilities, cumProb = vtu.getProbabilities(distMat, 0.005, True)\n",
      "figure(); imshow(cumProb, interpolation='nearest')"
     ],
     "language": "python",
     "metadata": {},
     "outputs": [
      {
       "output_type": "stream",
       "stream": "stdout",
       "text": [
        "\r",
        "Iteration 0; distance 8.51481372349"
       ]
      },
      {
       "output_type": "stream",
       "stream": "stdout",
       "text": [
        "\r",
        "Iteration 1; distance 1.92156698735"
       ]
      },
      {
       "output_type": "stream",
       "stream": "stdout",
       "text": [
        "\r",
        "Iteration 2; distance 1.77661910373"
       ]
      },
      {
       "output_type": "stream",
       "stream": "stdout",
       "text": [
        "\r",
        "Iteration 3; distance 1.73314941279"
       ]
      },
      {
       "output_type": "stream",
       "stream": "stdout",
       "text": [
        "\r",
        "Iteration 4; distance 1.67746004773"
       ]
      },
      {
       "output_type": "stream",
       "stream": "stdout",
       "text": [
        "\r",
        "Iteration 5; distance 1.60808494913"
       ]
      },
      {
       "output_type": "stream",
       "stream": "stdout",
       "text": [
        "\r",
        "Iteration 6; distance 1.54036974857"
       ]
      },
      {
       "output_type": "stream",
       "stream": "stdout",
       "text": [
        "\r",
        "Iteration 7; distance 1.47550598218"
       ]
      },
      {
       "output_type": "stream",
       "stream": "stdout",
       "text": [
        "\r",
        "Iteration 8; distance 1.41337357831"
       ]
      },
      {
       "output_type": "stream",
       "stream": "stdout",
       "text": [
        "\r",
        "Iteration 9; distance 1.35385752141"
       ]
      },
      {
       "output_type": "stream",
       "stream": "stdout",
       "text": [
        "\r",
        "Iteration 10; distance 1.29684763916"
       ]
      },
      {
       "output_type": "stream",
       "stream": "stdout",
       "text": [
        "\r",
        "Iteration 11; distance 1.24223839851"
       ]
      },
      {
       "output_type": "stream",
       "stream": "stdout",
       "text": [
        "\r",
        "Iteration 12; distance 1.1899287103"
       ]
      },
      {
       "output_type": "stream",
       "stream": "stdout",
       "text": [
        "\r",
        "Iteration 13; distance 1.13982174218"
       ]
      },
      {
       "output_type": "stream",
       "stream": "stdout",
       "text": [
        "\r",
        "Iteration 14; distance 1.09182473933"
       ]
      },
      {
       "output_type": "stream",
       "stream": "stdout",
       "text": [
        "\r",
        "Iteration 15; distance 1.04584885277"
       ]
      },
      {
       "output_type": "stream",
       "stream": "stdout",
       "text": [
        "\r",
        "Iteration 16; distance 1.00180897486"
       ]
      },
      {
       "output_type": "stream",
       "stream": "stdout",
       "text": [
        "\r",
        "Iteration 17; distance 0.959623581798"
       ]
      },
      {
       "output_type": "stream",
       "stream": "stdout",
       "text": [
        "\r",
        "Iteration 18; distance 0.91921458267"
       ]
      },
      {
       "output_type": "stream",
       "stream": "stdout",
       "text": [
        "\r",
        "Iteration 19; distance 0.880507174917"
       ]
      },
      {
       "output_type": "stream",
       "stream": "stdout",
       "text": [
        "\r",
        "Iteration 20; distance 0.843429705857"
       ]
      },
      {
       "output_type": "stream",
       "stream": "stdout",
       "text": [
        "\r",
        "Iteration 21; distance 0.807913540044"
       ]
      },
      {
       "output_type": "stream",
       "stream": "stdout",
       "text": [
        "\r",
        "Iteration 22; distance 0.77389293222"
       ]
      },
      {
       "output_type": "stream",
       "stream": "stdout",
       "text": [
        "\r",
        "Iteration 23; distance 0.741304905605"
       ]
      },
      {
       "output_type": "stream",
       "stream": "stdout",
       "text": [
        "\r",
        "Iteration 24; distance 0.710089135326"
       ]
      },
      {
       "output_type": "stream",
       "stream": "stdout",
       "text": [
        "\r",
        "Iteration 25; distance 0.680187836739"
       ]
      },
      {
       "output_type": "stream",
       "stream": "stdout",
       "text": [
        "\r",
        "Iteration 26; distance 0.651545658469"
       ]
      },
      {
       "output_type": "stream",
       "stream": "stdout",
       "text": [
        "\r",
        "Iteration 27; distance 0.624109579943"
       ]
      },
      {
       "output_type": "stream",
       "stream": "stdout",
       "text": [
        "\r",
        "Iteration 28; distance 0.597828813244"
       ]
      },
      {
       "output_type": "stream",
       "stream": "stdout",
       "text": [
        "\r",
        "Iteration 29; distance 0.572654709094"
       ]
      },
      {
       "output_type": "stream",
       "stream": "stdout",
       "text": [
        "\r",
        "Iteration 30; distance 0.548540666797"
       ]
      },
      {
       "output_type": "stream",
       "stream": "stdout",
       "text": [
        "\r",
        "Iteration 31; distance 0.525442047977"
       ]
      },
      {
       "output_type": "stream",
       "stream": "stdout",
       "text": [
        "\r",
        "Iteration 32; distance 0.503316093946"
       ]
      },
      {
       "output_type": "stream",
       "stream": "stdout",
       "text": [
        "\r",
        "Iteration 33; distance 0.482121846548"
       ]
      },
      {
       "output_type": "stream",
       "stream": "stdout",
       "text": [
        "\r",
        "Iteration 34; distance 0.461820072345"
       ]
      },
      {
       "output_type": "stream",
       "stream": "stdout",
       "text": [
        "\r",
        "Iteration 35; distance 0.44237318999"
       ]
      },
      {
       "output_type": "stream",
       "stream": "stdout",
       "text": [
        "\r",
        "Iteration 36; distance 0.423745200653"
       ]
      },
      {
       "output_type": "stream",
       "stream": "stdout",
       "text": [
        "\r",
        "Iteration 37; distance 0.405901621391"
       ]
      },
      {
       "output_type": "stream",
       "stream": "stdout",
       "text": [
        "\r",
        "Iteration 38; distance 0.388809421307"
       ]
      },
      {
       "output_type": "stream",
       "stream": "stdout",
       "text": [
        "\r",
        "Iteration 39; distance 0.372436960413"
       ]
      },
      {
       "output_type": "stream",
       "stream": "stdout",
       "text": [
        "\r",
        "Iteration 40; distance 0.356753931052"
       ]
      },
      {
       "output_type": "stream",
       "stream": "stdout",
       "text": [
        "\r",
        "Iteration 41; distance 0.341731301802"
       ]
      },
      {
       "output_type": "stream",
       "stream": "stdout",
       "text": [
        "\r",
        "Iteration 42; distance 0.32734126373"
       ]
      },
      {
       "output_type": "stream",
       "stream": "stdout",
       "text": [
        "\r",
        "Iteration 43; distance 0.313557178916"
       ]
      },
      {
       "output_type": "stream",
       "stream": "stdout",
       "text": [
        "\r",
        "Iteration 44; distance 0.300353531143"
       ]
      },
      {
       "output_type": "stream",
       "stream": "stdout",
       "text": [
        "\r",
        "Iteration 45; distance 0.287705878658"
       ]
      },
      {
       "output_type": "stream",
       "stream": "stdout",
       "text": [
        "\r",
        "Iteration 46; distance 0.275590808937"
       ]
      },
      {
       "output_type": "stream",
       "stream": "stdout",
       "text": [
        "\r",
        "Iteration 47; distance 0.263985895334"
       ]
      },
      {
       "output_type": "stream",
       "stream": "stdout",
       "text": [
        "\r",
        "Iteration 48; distance 0.252869655574"
       ]
      },
      {
       "output_type": "stream",
       "stream": "stdout",
       "text": [
        "\r",
        "Iteration 49; distance 0.242221511984"
       ]
      },
      {
       "output_type": "stream",
       "stream": "stdout",
       "text": [
        "\r",
        "Iteration 50; distance 0.232021753399"
       ]
      },
      {
       "output_type": "stream",
       "stream": "stdout",
       "text": [
        "\r",
        "Iteration 51; distance 0.222251498678"
       ]
      },
      {
       "output_type": "stream",
       "stream": "stdout",
       "text": [
        "\r",
        "Iteration 52; distance 0.212892661747"
       ]
      },
      {
       "output_type": "stream",
       "stream": "stdout",
       "text": [
        "\r",
        "Iteration 53; distance 0.203927918127"
       ]
      },
      {
       "output_type": "stream",
       "stream": "stdout",
       "text": [
        "\r",
        "Iteration 54; distance 0.195340672855"
       ]
      },
      {
       "output_type": "stream",
       "stream": "stdout",
       "text": [
        "\r",
        "Iteration 55; distance 0.187115029771"
       ]
      },
      {
       "output_type": "stream",
       "stream": "stdout",
       "text": [
        "\r",
        "Iteration 56; distance 0.179235762089"
       ]
      },
      {
       "output_type": "stream",
       "stream": "stdout",
       "text": [
        "\r",
        "Iteration 57; distance 0.171688284211"
       ]
      },
      {
       "output_type": "stream",
       "stream": "stdout",
       "text": [
        "\r",
        "Iteration 58; distance 0.16445862473"
       ]
      },
      {
       "output_type": "stream",
       "stream": "stdout",
       "text": [
        "\r",
        "Iteration 59; distance 0.157533400559"
       ]
      },
      {
       "output_type": "stream",
       "stream": "stdout",
       "text": [
        "\r",
        "Iteration 60; distance 0.150899792167"
       ]
      },
      {
       "output_type": "stream",
       "stream": "stdout",
       "text": [
        "\r",
        "Iteration 61; distance 0.14454551984"
       ]
      },
      {
       "output_type": "stream",
       "stream": "stdout",
       "text": [
        "\r",
        "Iteration 62; distance 0.138458820955"
       ]
      },
      {
       "output_type": "stream",
       "stream": "stdout",
       "text": [
        "\r",
        "Iteration 63; distance 0.132628428203"
       ]
      },
      {
       "output_type": "stream",
       "stream": "stdout",
       "text": [
        "\r",
        "Iteration 64; distance 0.127043548735"
       ]
      },
      {
       "output_type": "stream",
       "stream": "stdout",
       "text": [
        "\r",
        "Iteration 65; distance 0.121693844176"
       ]
      },
      {
       "output_type": "stream",
       "stream": "stdout",
       "text": [
        "\r",
        "Iteration 66; distance 0.116569411496"
       ]
      },
      {
       "output_type": "stream",
       "stream": "stdout",
       "text": [
        "\r",
        "Iteration 67; distance 0.111660764671"
       ]
      },
      {
       "output_type": "stream",
       "stream": "stdout",
       "text": [
        "\r",
        "Iteration 68; distance 0.106958817129"
       ]
      },
      {
       "output_type": "stream",
       "stream": "stdout",
       "text": [
        "\r",
        "Iteration 69; distance 0.102454864923"
       ]
      },
      {
       "output_type": "stream",
       "stream": "stdout",
       "text": [
        "\r",
        "Iteration 70; distance 0.0981405706247"
       ]
      },
      {
       "output_type": "stream",
       "stream": "stdout",
       "text": [
        "\n",
        "finished in 71 iterations\n",
        "sigma 0.00445869288399\n",
        "(57, 57) (57, 57)\n"
       ]
      },
      {
       "metadata": {},
       "output_type": "pyout",
       "prompt_number": 22,
       "text": [
        "<matplotlib.image.AxesImage at 0x7f84d83fb050>"
       ]
      }
     ],
     "prompt_number": 22
    },
    {
     "cell_type": "code",
     "collapsed": false,
     "input": [
      "## test what kind of finalFrames result from computed cumProbs\n",
      "startFrame = np.argmin(np.round(np.sum(cumProb < 0.5, axis=0)))\n",
      "print startFrame\n",
      "finalFrames = vtu.getFinalFrames(cumProb, 100, 5, startFrame, True, False)\n",
      "print finalFrames\n",
      "print finalFrames.shape\n",
      "## check jumps \n",
      "for i in xrange(1, len(finalFrames)) :\n",
      "    if finalFrames[i] != finalFrames[i-1]+1 :\n",
      "        print \"jump at frame\", i, \"from\", finalFrames[i-1], \"to\", finalFrames[i]"
     ],
     "language": "python",
     "metadata": {},
     "outputs": [
      {
       "output_type": "stream",
       "stream": "stdout",
       "text": [
        "42\n",
        "total additional frames 6\n",
        "[36 37 38 39 40 41]\n",
        "[47  5  6  7  8  9 10 11 12 13 14 15 16 17 18 19 20 21 22 23 24 25 26 27 28\n",
        " 29 30 31 32 33 34 35 36 37 38 39 40 20 21 22 23 24 25 26 27 28 29 30 31 32\n",
        " 33 34 35 36 37 38 39 40 41 42 43 44 45 46  5  6  7  8  9 10 11 12 13 14 15\n",
        " 16 17 18 19 20 21 22 23 24 25 26 27 28 29 30 31 32 33 34 35 36 37 38 39 40\n",
        " 41 42 43 44 45 46]\n",
        "(106,)\n",
        "jump at frame 1 from 47 to 5\n",
        "jump at frame 37 from 40 to 20\n",
        "jump at frame 64 from 46 to 5\n"
       ]
      }
     ],
     "prompt_number": 32
    },
    {
     "cell_type": "code",
     "collapsed": false,
     "input": [
      "## test what kind of finalFrames result from computed cumProbs\n",
      "startFrame = np.argmin(np.round(np.sum(cumProb < 0.5, axis=0)))\n",
      "print startFrame\n",
      "finalFrames = vtu.getFinalFrames(cumProb, 100, 5, startFrame, True, False)\n",
      "print finalFrames\n",
      "print finalFrames.shape\n",
      "## check jumps \n",
      "for i in xrange(1, len(finalFrames)) :\n",
      "    if finalFrames[i] != finalFrames[i-1]+1 :\n",
      "        print \"jump at frame\", i, \"from\", finalFrames[i-1], \"to\", finalFrames[i]"
     ],
     "language": "python",
     "metadata": {},
     "outputs": [
      {
       "output_type": "stream",
       "stream": "stdout",
       "text": [
        "43\n",
        "total additional frames 28\n",
        "[15 16 17 18 19 20 21 22 23 24 25 26 27 28 29 30 31 32 33 34 35 36 37 38 39\n",
        " 40 41 42]\n",
        "[48 49 50  8  9 10 11 12 13 14 15 16 17 18 19 20 21 22 23 24 25 26 27 28 29\n",
        " 30 31 32 33 34 35 36 37 38 39 40 41 42 43 44 45 46 47 48 49  7  8  9 10 11\n",
        " 12 13 14 15 16 17 18 19 20 21 22 23 24 25 26 27 28 29 30 31 32 33 34 35 36\n",
        " 37 38 39 40 41 21 22 23 24 25 26 27 28 29 30 31 32 33 34 35 36 37 38 39 19\n",
        " 20 21 22 23 24 25 26 27 28 29 30 31 32 33 34 35 36 37 38 39 40 41 42 43 44\n",
        " 45 46 47]\n",
        "(128,)\n",
        "jump at frame 3 from 50 to 8\n",
        "jump at frame 45 from 49 to 7\n",
        "jump at frame 80 from 41 to 21\n",
        "jump at frame 99 from 39 to 19\n"
       ]
      }
     ],
     "prompt_number": 21
    },
    {
     "cell_type": "code",
     "collapsed": false,
     "input": [
      "print ssimDist/np.max(ssimDist)"
     ],
     "language": "python",
     "metadata": {},
     "outputs": [
      {
       "output_type": "stream",
       "stream": "stdout",
       "text": [
        "[[ 0.          0.61611513  1.          0.75620239  0.49759736  0.49772108\n",
        "   0.64678626  0.9769668   0.61752476  0.45705742]\n",
        " [ 0.61611513  0.          0.43798648  0.46658867  0.69992319  0.66365186\n",
        "   0.47170038  0.57705639  0.60545511  0.71642715]\n",
        " [ 1.          0.43798648  0.          0.4157712   0.87787432  0.86197855\n",
        "   0.6873491   0.47826418  0.70903256  0.95176281]\n",
        " [ 0.75620239  0.46658867  0.4157712   0.          0.51380649  0.5708644\n",
        "   0.50129724  0.61012977  0.49047953  0.69530714]\n",
        " [ 0.49759736  0.69992319  0.87787432  0.51380649  0.          0.27750741\n",
        "   0.55810341  0.94855765  0.59254817  0.48293373]\n",
        " [ 0.49772108  0.66365186  0.86197855  0.5708644   0.27750741  0.\n",
        "   0.3936521   0.83385665  0.52253588  0.46932297]\n",
        " [ 0.64678626  0.47170038  0.6873491   0.50129724  0.55810341  0.3936521\n",
        "   0.          0.49309888  0.48008628  0.59709159]\n",
        " [ 0.9769668   0.57705639  0.47826418  0.61012977  0.94855765  0.83385665\n",
        "   0.49309888  0.          0.55602562  0.91053524]\n",
        " [ 0.61752476  0.60545511  0.70903256  0.49047953  0.59254817  0.52253588\n",
        "   0.48008628  0.55602562  0.          0.39076329]\n",
        " [ 0.45705742  0.71642715  0.95176281  0.69530714  0.48293373  0.46932297\n",
        "   0.59709159  0.91053524  0.39076329  0.        ]]\n"
       ]
      }
     ],
     "prompt_number": 30
    },
    {
     "cell_type": "code",
     "collapsed": false,
     "input": [
      "## visualize frames automatically\n",
      "\n",
      "def _blit_draw(self, artists, bg_cache):\n",
      "    # Handles blitted drawing, which renders only the artists given instead\n",
      "    # of the entire figure.\n",
      "    updated_ax = []\n",
      "    for a in artists:\n",
      "        # If we haven't cached the background for this axes object, do\n",
      "        # so now. This might not always be reliable, but it's an attempt\n",
      "        # to automate the process.\n",
      "        if a.axes not in bg_cache:\n",
      "            # bg_cache[a.axes] = a.figure.canvas.copy_from_bbox(a.axes.bbox)\n",
      "            # change here\n",
      "            bg_cache[a.axes] = a.figure.canvas.copy_from_bbox(a.axes.figure.bbox)\n",
      "        a.axes.draw_artist(a)\n",
      "        updated_ax.append(a.axes)\n",
      "\n",
      "    # After rendering all the needed artists, blit each axes individually.\n",
      "    for ax in set(updated_ax):\n",
      "        # and here\n",
      "        # ax.figure.canvas.blit(ax.bbox)\n",
      "        ax.figure.canvas.blit(ax.figure.bbox)\n",
      "\n",
      "# MONKEY PATCH!!\n",
      "matplotlib.animation.Animation._blit_draw = _blit_draw\n",
      "\n",
      "fig=plt.figure()\n",
      "img = plt.imshow(movie[:, :, :, finalFrames[0]])\n",
      "img.set_cmap(cm.Greys_r)\n",
      "img.axes.set_axis_off()\n",
      "ax = plt.axes()\n",
      "ttl = ax.text(.5, 1.05, '', transform = ax.transAxes, va='center')\n",
      "\n",
      "def init():\n",
      "    ttl.set_text('')\n",
      "    img.set_data(movie[:, :, :, finalFrames[0]])\n",
      "    return img, ttl\n",
      "\n",
      "def func(f):\n",
      "    ttl.set_text('Frame ' + str(f) + ' from ' + str(finalFrames[f]))\n",
      "    img.set_data(movie[:, :, :, finalFrames[f]])\n",
      "    return img, ttl\n",
      "\n",
      "ani = animation.FuncAnimation(fig,func,init_func=init,frames=len(finalFrames),interval=15,blit=True)\n",
      "\n",
      "plt.show()"
     ],
     "language": "python",
     "metadata": {},
     "outputs": [],
     "prompt_number": 54
    }
   ],
   "metadata": {}
  }
 ]
}