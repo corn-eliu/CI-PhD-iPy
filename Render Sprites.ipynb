{
 "metadata": {
  "name": "",
  "signature": "sha256:084ceb8a41cf84fa465e75bd174577cc8a5745fd549cc4df05d08613603244b1"
 },
 "nbformat": 3,
 "nbformat_minor": 0,
 "worksheets": [
  {
   "cells": [
    {
     "cell_type": "code",
     "collapsed": false,
     "input": [
      "## Imports and defines\n",
      "%pylab\n",
      "import numpy as np\n",
      "import sys\n",
      "import scipy as sp\n",
      "from IPython.display import clear_output\n",
      "\n",
      "import cv2\n",
      "import time\n",
      "import os\n",
      "import scipy.io as sio\n",
      "import glob\n",
      "import itertools\n",
      "\n",
      "import scipy.sparse\n",
      "import PIL.Image\n",
      "import pyamg\n",
      "\n",
      "from PIL import Image\n",
      "\n",
      "import GraphWithValues as gwv\n",
      "import VideoTexturesUtils as vtu\n",
      "import SemanticsDefinitionTabGUI as sdt\n",
      "import opengm\n",
      "# import soundfile as sf\n",
      "\n",
      "from matplotlib.patches import Rectangle\n",
      "\n",
      "import shutil, errno\n",
      "\n",
      "def copyanything(src, dst):\n",
      "    try:\n",
      "        shutil.copytree(src, dst)\n",
      "    except OSError as exc: # python >2.5\n",
      "        if exc.errno == errno.ENOTDIR:\n",
      "            shutil.copy(src, dst)\n",
      "        else: raise\n",
      "\n",
      "\n",
      "DICT_SEQUENCE_NAME = 'semantic_sequence_name'\n",
      "DICT_BBOXES = 'bboxes'\n",
      "DICT_FOOTPRINTS = 'footprints' ## same as bboxes but it indicates the footprint of the sprite on the ground plane\n",
      "DICT_BBOX_ROTATIONS = 'bbox_rotations'\n",
      "DICT_BBOX_CENTERS = 'bbox_centers'\n",
      "DICT_FRAMES_LOCATIONS = 'frame_locs'\n",
      "DICT_MASK_LOCATION = 'frame_masks_location'\n",
      "DICT_SEQUENCE_FRAMES = 'sequence_frames'\n",
      "DICT_SEQUENCE_IDX = 'semantic_sequence_idx' # index of the instantiated sem sequence in the list of all used sem sequences for a synthesised sequence\n",
      "DICT_DESIRED_SEMANTICS = 'desired_semantics' # stores what the desired semantics are for a certain sprite \n",
      "#(I could index them by the frame when the toggle happened instead of using the below but maybe ordering is important and I would lose that using a dict)\n",
      "DICT_FRAME_SEMANTIC_TOGGLE = 'frame_semantic_toggle'# stores the frame index in the generated sequence when the desired semantics have changed\n",
      "DICT_ICON_TOP_LEFT = \"icon_top_left\"\n",
      "DICT_ICON_FRAME_KEY = \"icon_frame_key\"\n",
      "DICT_ICON_SIZE = \"icon_size\"\n",
      "DICT_REPRESENTATIVE_COLOR = 'representative_color'\n",
      "DICT_OFFSET = \"instance_offset\"\n",
      "DICT_SCALE = \"instance_scale\"\n",
      "DICT_FRAME_SEMANTICS = \"semantics_per_frame\"\n",
      "DICT_USED_SEQUENCES = \"used_semantic_sequences\"\n",
      "DICT_SEQUENCE_INSTANCES = \"sequence_instances\"\n",
      "DICT_SEQUENCE_BG = \"sequence_background_image\"\n",
      "DICT_SEQUENCE_LOCATION = \"sequence_location\"\n",
      "DICT_PATCHES_LOCATION = \"sequence_preloaded_patches_location\"\n",
      "DICT_TRANSITION_COSTS_LOCATION = \"sequence_precomputed_transition_costs_location\"\n",
      "\n",
      "GRAPH_MAX_COST = 10000000.0\n",
      "\n",
      "# dataPath = \"/home/ilisescu/PhD/data/\"\n",
      "# dataSet = \"havana/\"\n",
      "\n",
      "# dataPath = \"/media/ilisescu/Data1/PhD/data/\"\n",
      "# dataSet = \"clouds_subsample10/\"\n",
      "# dataSet = \"theme_park_cloudy/\"\n",
      "# dataSet = \"theme_park_sunny/\"\n",
      "# dataSet = \"wave1/\"\n",
      "# dataSet = \"wave1/\"\n",
      "formatString = \"{:05d}.png\"\n",
      "\n",
      "TL_IDX = 0\n",
      "TR_IDX = 1\n",
      "BR_IDX = 2\n",
      "BL_IDX = 3"
     ],
     "language": "python",
     "metadata": {},
     "outputs": [
      {
       "output_type": "stream",
       "stream": "stdout",
       "text": [
        "Using matplotlib backend: TkAgg\n",
        "Populating the interactive namespace from numpy and matplotlib\n"
       ]
      }
     ],
     "prompt_number": 1
    },
    {
     "cell_type": "code",
     "collapsed": false,
     "input": [
      "def multivariateNormal(data, mean, var, normalized = True) :\n",
      "    if (data.shape[0] != mean.shape[0] or np.any(data.shape[0] != np.array(var.shape)) \n",
      "        or len(var.shape) != 2 or var.shape[0] != var.shape[1]) :\n",
      "        raise Exception(\"Data shapes don't agree data(\" + np.string_(data.shape) + \") mean(\" + np.string_(mean.shape) + \n",
      "                        \") var(\" + np.string_(var.shape) + \")\")\n",
      "        \n",
      "    D = float(data.shape[0])\n",
      "    n = (1/(np.power(2.0*np.pi, D/2.0)*np.sqrt(np.linalg.det(var))))\n",
      "    if normalized :\n",
      "        p = n*np.exp(-0.5*np.sum(np.dot((data-mean).T, np.linalg.inv(var))*(data-mean).T, axis=-1))\n",
      "    else :\n",
      "        p = np.exp(-0.5*np.sum(np.dot((data-mean).T, np.linalg.inv(var))*(data-mean).T, axis=-1))\n",
      "        \n",
      "    return p\n",
      "\n",
      "def minusLogMultivariateNormal(data, mean, var, normalized = True) :\n",
      "    if (data.shape[0] != mean.shape[0] or np.any(data.shape[0] != np.array(var.shape)) \n",
      "        or len(var.shape) != 2 or var.shape[0] != var.shape[1]) :\n",
      "        raise Exception(\"Data shapes don't agree data(\" + np.string_(data.shape) + \") mean(\" + np.string_(mean.shape) + \n",
      "                        \") var(\" + np.string_(var.shape) + \")\")\n",
      "    \n",
      "    D = float(data.shape[0])\n",
      "    n = -0.5*np.log(np.linalg.det(var))-(D/2.0)*np.log(2.0*np.pi)\n",
      "    if normalized :\n",
      "        p = n -0.5*np.sum(np.dot((data-mean).T, np.linalg.inv(var))*(data-mean).T, axis=-1)\n",
      "    else :\n",
      "        p = -0.5*np.sum(np.dot((data-mean).T, np.linalg.inv(var))*(data-mean).T, axis=-1)\n",
      "        \n",
      "    return -p\n",
      "\n",
      "def vectorisedMinusLogMultiNormal(dataPoints, means, var, normalized = True) :\n",
      "    if (dataPoints.shape[1] != means.shape[1] or np.any(dataPoints.shape[1] != np.array(var.shape)) \n",
      "        or len(var.shape) != 2 or var.shape[0] != var.shape[1]) :\n",
      "        raise Exception(\"Data shapes don't agree data(\" + np.string_(dataPoints.shape) + \") mean(\" + np.string_(means.shape) + \n",
      "                        \") var(\" + np.string_(var.shape) + \")\")\n",
      "    \n",
      "    D = float(dataPoints.shape[1])\n",
      "    n = -0.5*np.log(np.linalg.det(var))-(D/2.0)*np.log(2.0*np.pi)\n",
      "    \n",
      "    ## this does 0.5*dot(dot(data-mean, varInv), data-mean)\n",
      "    varInv = np.linalg.inv(var)\n",
      "    dataMinusMean = dataPoints-means\n",
      "    \n",
      "    ps = []\n",
      "    for i in xrange(int(D)) :\n",
      "        ps.append(np.sum((dataMinusMean)*varInv[:, i], axis=-1))\n",
      "    \n",
      "    ps = np.array(ps).T\n",
      "    \n",
      "    ps = -0.5*np.sum(ps*(dataMinusMean), axis=-1)\n",
      "    \n",
      "    if normalized :\n",
      "        return n-ps\n",
      "    else :\n",
      "        return -ps"
     ],
     "language": "python",
     "metadata": {},
     "outputs": [],
     "prompt_number": 2
    },
    {
     "cell_type": "code",
     "collapsed": false,
     "input": [
      "## used for enlarging bbox used to decide size of patch around it (percentage)\n",
      "PATCH_BORDER = 0.4\n",
      "def getSpritePatch(sprite, frameKey, frameWidth, frameHeight) :\n",
      "    \"\"\"Computes sprite patch based on its bbox\n",
      "    \n",
      "        \\t  sprite      : dictionary containing relevant sprite data\n",
      "        \\t  frameKey    : the key of the frame the sprite patch is taken from\n",
      "        \\t  frameWidth  : width of original image\n",
      "        \\t  frameHeight : height of original image\n",
      "           \n",
      "        return: spritePatch, offset, patchSize,\n",
      "                [left, top, bottom, right] : array of booleans telling whether the expanded bbox touches the corresponding border of the image\"\"\"\n",
      "    \n",
      "    ## get the bbox for the current sprite frame, make it larger and find the rectangular patch to work with\n",
      "    ## boundaries of the patch [min, max]\n",
      "    \n",
      "    ## returns sprite patch based on bbox and returns it along with the offset [x, y] and it's size [rows, cols]\n",
      "    \n",
      "    ## make bbox bigger\n",
      "    largeBBox = sprite[DICT_BBOXES][frameKey].T\n",
      "    ## move to origin\n",
      "    largeBBox = np.dot(np.array([[-sprite[DICT_BBOX_CENTERS][frameKey][0], 1.0, 0.0], \n",
      "                                 [-sprite[DICT_BBOX_CENTERS][frameKey][1], 0.0, 1.0]]), \n",
      "                        np.vstack((np.ones((1, largeBBox.shape[1])), largeBBox)))\n",
      "    ## make bigger\n",
      "    largeBBox = np.dot(np.array([[0.0, 1.0 + PATCH_BORDER, 0.0], \n",
      "                                 [0.0, 0.0, 1.0 + PATCH_BORDER]]), \n",
      "                        np.vstack((np.ones((1, largeBBox.shape[1])), largeBBox)))\n",
      "    ## move back tooriginal center\n",
      "    largeBBox = np.dot(np.array([[sprite[DICT_BBOX_CENTERS][frameKey][0], 1.0, 0.0], \n",
      "                                 [sprite[DICT_BBOX_CENTERS][frameKey][1], 0.0, 1.0]]), \n",
      "                        np.vstack((np.ones((1, largeBBox.shape[1])), largeBBox)))\n",
      "    \n",
      "    xBounds = np.zeros(2); yBounds = np.zeros(2)\n",
      "    \n",
      "    ## make sure xBounds are in between 0 and width and yBounds are in between 0 and height\n",
      "    xBounds[0] = np.max((0, np.min(largeBBox[0, :])))\n",
      "    xBounds[1] = np.min((frameWidth, np.max(largeBBox[0, :])))\n",
      "    yBounds[0] = np.max((0, np.min(largeBBox[1, :])))\n",
      "    yBounds[1] = np.min((frameHeight, np.max(largeBBox[1, :])))\n",
      "    \n",
      "    offset = np.array([np.round(np.array([xBounds[0], yBounds[0]]))], dtype=int).T # [x, y]\n",
      "    patchSize = np.array(np.round(np.array([yBounds[1]-yBounds[0], xBounds[1]-xBounds[0]])), dtype=int) # [rows, cols]\n",
      "    \n",
      "    spritePatch = np.array(Image.open(sprite[DICT_FRAMES_LOCATIONS][frameKey]))[offset[1]:offset[1]+patchSize[0], offset[0]:offset[0]+patchSize[1], :]\n",
      "    \n",
      "    return spritePatch, offset, patchSize, [np.min((largeBBox)[0, :]) > 0.0 ,\n",
      "                                            np.min((largeBBox)[1, :]) > 0.0 ,\n",
      "                                            np.max((largeBBox)[1, :]) < frameHeight,\n",
      "                                            np.max((largeBBox)[0, :]) < frameWidth]\n",
      "\n",
      "\n",
      "def getPatchPriors(bgPatch, spritePatch, offset, patchSize, sprite, frameKey, prevFrameKey = None, prevFrameAlphaLoc = \"\",\n",
      "                   prevMaskImportance = 0.8, prevMaskDilate = 13, prevMaskBlurSize = 31, prevMaskBlurSigma = 2.5,\n",
      "                   diffPatchImportance = 0.015, diffPatchMultiplier = 1000.0, useOpticalFlow = True, useDiffPatch = False) :\n",
      "    \"\"\"Computes priors for background and sprite patches\n",
      "    \n",
      "        \\t  bgPatch             : background patch\n",
      "        \\t  spritePatch         : sprite patch\n",
      "        \\t  offset              : [x, y] position of patches in the coordinate system of the original images\n",
      "        \\t  patchSize           : num of [rows, cols] per patches\n",
      "        \\t  sprite              : dictionary containing relevant sprite data\n",
      "        \\t  frameKey            : the key of the frame the sprite patch is taken from\n",
      "        \\t  prevFrameKey        : the key of the previous frame\n",
      "        \\t  prevFrameAlphaLoc   : location of the previous frame\n",
      "        \\t  prevMaskImportance  : balances the importance of the prior based on the remapped mask of the previous frame\n",
      "        \\t  prevMaskDilate      : amount of dilation to perform on previous frame's mask\n",
      "        \\t  prevMaskBlurSize    : size of the blurring kernel perfomed on previous frame's mask\n",
      "        \\t  prevMaskBlurSigma   : variance of the gaussian blurring perfomed on previous frame's mask\n",
      "        \\t  diffPatchImportance : balances the importance of the prior based on difference of patch to background\n",
      "        \\t  diffPatchMultiplier : multiplier that changes the scaling of the difference based cost\n",
      "        \\t  useOpticalFlow      : modify sprite prior by the mask of the previous frame\n",
      "        \\t  useDiffPatch        : modify bg prior by difference of sprite to bg patch\n",
      "           \n",
      "        return: bgPrior, spritePrior\"\"\"\n",
      "    \n",
      "    ## get uniform prior for bg patch\n",
      "    bgPrior = -np.log(np.ones(patchSize)/np.prod(patchSize))\n",
      "    \n",
      "    ## get prior for sprite patch\n",
      "    spritePrior = np.zeros(patchSize)\n",
      "    xs = np.ndarray.flatten(np.arange(patchSize[1], dtype=float).reshape((patchSize[1], 1)).repeat(patchSize[0], axis=-1))\n",
      "    ys = np.ndarray.flatten(np.arange(patchSize[0], dtype=float).reshape((1, patchSize[0])).repeat(patchSize[1], axis=0))\n",
      "    data = np.vstack((xs.reshape((1, len(xs))), ys.reshape((1, len(ys)))))\n",
      "    \n",
      "    ## get covariance and means of prior on patch by using the bbox\n",
      "    spriteBBox = sprite[DICT_BBOXES][frameKey].T\n",
      "    segment1 = spriteBBox[:, 0] - spriteBBox[:, 1]\n",
      "    segment2 = spriteBBox[:, 1] - spriteBBox[:, 2]\n",
      "    sigmaX = np.linalg.norm(segment1)/3.7\n",
      "    sigmaY = np.linalg.norm(segment2)/3.7\n",
      "    \n",
      "    rotRadians = sprite[DICT_BBOX_ROTATIONS][frameKey]\n",
      "    \n",
      "    rotMat = np.array([[np.cos(rotRadians), -np.sin(rotRadians)], [np.sin(rotRadians), np.cos(rotRadians)]])\n",
      "    \n",
      "    means = np.reshape(sprite[DICT_BBOX_CENTERS][frameKey], (2, 1)) - offset\n",
      "    covs = np.dot(np.dot(rotMat.T, np.array([[sigmaX**2, 0.0], [0.0, sigmaY**2]])), rotMat)\n",
      "    \n",
      "    spritePrior = np.reshape(minusLogMultivariateNormal(data, means, covs, True), patchSize, order='F')\n",
      "    \n",
      "    ## change the spritePrior using optical flow stuff\n",
      "    if useOpticalFlow and prevFrameKey != None :\n",
      "        prevFrameName = sprite[DICT_FRAMES_LOCATIONS][prevFrameKey].split('/')[-1]\n",
      "        nextFrameName = sprite[DICT_FRAMES_LOCATIONS][frameKey].split('/')[-1]\n",
      "        \n",
      "        if os.path.isfile(prevFrameAlphaLoc+prevFrameName) :\n",
      "            alpha = np.array(Image.open(prevFrameAlphaLoc+prevFrameName))[:, :, -1]/255.0\n",
      "\n",
      "            flow = cv2.calcOpticalFlowFarneback(cv2.cvtColor(np.array(Image.open(dataPath+dataSet+nextFrameName)), cv2.COLOR_RGB2GRAY), \n",
      "                                                cv2.cvtColor(np.array(Image.open(dataPath+dataSet+prevFrameName)), cv2.COLOR_RGB2GRAY), \n",
      "                                                0.5, 3, 15, 3, 5, 1.1, 0)\n",
      "        \n",
      "            ## remap alpha according to flow\n",
      "            remappedFg = cv2.remap(alpha, flow[:, :, 0]+allXs, flow[:, :, 1]+allYs, cv2.INTER_LINEAR)\n",
      "            ## get patch\n",
      "            remappedFgPatch = remappedFg[offset[1]:offset[1]+patchSize[0], offset[0]:offset[0]+patchSize[1]]\n",
      "            remappedFgPatch = cv2.GaussianBlur(cv2.morphologyEx(remappedFgPatch, cv2.MORPH_DILATE, \n",
      "                                                                cv2.getStructuringElement(cv2.MORPH_ELLIPSE, (prevMaskDilate, prevMaskDilate))), \n",
      "                                               (prevMaskBlurSize, prevMaskBlurSize), prevMaskBlurSigma)\n",
      "\n",
      "            spritePrior = (1.0-prevMaskImportance)*spritePrior + prevMaskImportance*(-np.log((remappedFgPatch+0.01)/np.sum(remappedFgPatch+0.01)))\n",
      "    \n",
      "    \n",
      "    if useDiffPatch :\n",
      "        ## change the background prior to give higher cost for pixels to be classified as background if the difference between bgPatch and spritePatch is high\n",
      "        diffPatch = np.reshape(vectorisedMinusLogMultiNormal(spritePatch.reshape((np.prod(patchSize), 3)), \n",
      "                                                             bgPatch.reshape((np.prod(patchSize), 3)), \n",
      "                                                             np.eye(3)*diffPatchMultiplier, True), patchSize)\n",
      "        bgPrior = (1.0-diffPatchImportance)*bgPrior + diffPatchImportance*diffPatch\n",
      "        \n",
      "    \n",
      "    return bgPrior, spritePrior"
     ],
     "language": "python",
     "metadata": {},
     "outputs": [],
     "prompt_number": 3
    },
    {
     "cell_type": "code",
     "collapsed": false,
     "input": [
      "## from https://github.com/fbessho/PyPoi/blob/master/pypoi/poissonblending.py\n",
      "def blend(img_target, img_source, img_mask, offset=(0, 0)):\n",
      "    # compute regions to be blended\n",
      "    region_source = (\n",
      "        max(-offset[0], 0),\n",
      "        max(-offset[1], 0),\n",
      "        min(img_target.shape[0] - offset[0], img_source.shape[0]),\n",
      "        min(img_target.shape[1] - offset[1], img_source.shape[1]))\n",
      "    region_target = (\n",
      "        max(offset[0], 0),\n",
      "        max(offset[1], 0),\n",
      "        min(img_target.shape[0], img_source.shape[0] + offset[0]),\n",
      "        min(img_target.shape[1], img_source.shape[1] + offset[1]))\n",
      "    region_size = (region_source[2] - region_source[0], region_source[3] - region_source[1])\n",
      "\n",
      "    # clip and normalize mask image\n",
      "    img_mask = img_mask[region_source[0]:region_source[2], region_source[1]:region_source[3]]\n",
      "    img_mask[img_mask == 0] = False\n",
      "    img_mask[img_mask != False] = True\n",
      "\n",
      "    # create coefficient matrix\n",
      "    A = scipy.sparse.identity(np.prod(region_size), format='lil')\n",
      "    for y in range(region_size[0]):\n",
      "        for x in range(region_size[1]):\n",
      "            if img_mask[y, x]:\n",
      "                index = x + y * region_size[1]\n",
      "                A[index, index] = 4\n",
      "                if index + 1 < np.prod(region_size):\n",
      "                    A[index, index + 1] = -1\n",
      "                if index - 1 >= 0:\n",
      "                    A[index, index - 1] = -1\n",
      "                if index + region_size[1] < np.prod(region_size):\n",
      "                    A[index, index + region_size[1]] = -1\n",
      "                if index - region_size[1] >= 0:\n",
      "                    A[index, index - region_size[1]] = -1\n",
      "    A = A.tocsr()\n",
      "    \n",
      "    # create poisson matrix for b\n",
      "    P = pyamg.gallery.poisson(img_mask.shape)\n",
      "\n",
      "    startTime = time.time()\n",
      "    # for each layer (ex. RGB)\n",
      "    for num_layer in range(img_target.shape[2]):\n",
      "        # get subimages\n",
      "        t = img_target[region_target[0]:region_target[2], region_target[1]:region_target[3], num_layer]\n",
      "        s = img_source[region_source[0]:region_source[2], region_source[1]:region_source[3], num_layer]\n",
      "        t = t.flatten()\n",
      "        s = s.flatten()\n",
      "\n",
      "        # create b\n",
      "        b = P * s\n",
      "        for y in range(region_size[0]):\n",
      "            for x in range(region_size[1]):\n",
      "                if not img_mask[y, x]:\n",
      "                    index = x + y * region_size[1]\n",
      "                    b[index] = t[index]\n",
      "\n",
      "        # solve Ax = b\n",
      "        x = pyamg.solve(A, b, verb=False, tol=1e-10)\n",
      "\n",
      "        # assign x to target image\n",
      "        x = np.reshape(x, region_size)\n",
      "        x[x > 255] = 255\n",
      "        x[x < 0] = 0\n",
      "        x = np.array(x, img_target.dtype)\n",
      "        img_target[region_target[0]:region_target[2], region_target[1]:region_target[3], num_layer] = x\n",
      "\n",
      "    return img_target"
     ],
     "language": "python",
     "metadata": {},
     "outputs": [],
     "prompt_number": 4
    },
    {
     "cell_type": "code",
     "collapsed": false,
     "input": [
      "def getPoissonBlended(backgroundLoc, frameLoc, maskLoc, fgOffset) :\n",
      "#     print \"BG\", backgroundLoc, \"FRAME\", frameLoc, \"MASK\", maskLoc\n",
      "    print \"computing poisson\", frameLoc,\n",
      "    im = np.array(Image.open(maskLoc))\n",
      "    imgSize = im.shape[0:2]\n",
      "\n",
      "    visiblePixelsGlobalIndices = np.argwhere(im[:, :, -1] != 0)\n",
      "    topLeftPos = np.min(visiblePixelsGlobalIndices, axis=0)\n",
      "    patchSize = np.max(visiblePixelsGlobalIndices, axis=0) - topLeftPos + 1\n",
      "#         topLeftPos = np.copy(preloadedSpritePatches[spriteIdx][frameIdx]['top_left_pos'])\n",
      "#         patchSize = np.copy(preloadedSpritePatches[spriteIdx][frameIdx]['patch_size'])\n",
      "#         visiblePixelsGlobalIndices = preloadedSpritePatches[spriteIdx][frameIdx]['visible_indices']+topLeftPos\n",
      "    \n",
      "    \n",
      "    ## when the mask touches the border of the patch there's some weird white halos going on so I enlarge the patch slightly\n",
      "    ## not sure what happens when the patch goes outside of the bounds of the original image...\n",
      "    topLeftPos -= 1\n",
      "    patchSize += 2\n",
      "    ## make sure we're within bounds\n",
      "    topLeftPos[np.argwhere(topLeftPos < 0)] = 0\n",
      "    patchSize[(topLeftPos+patchSize) > imgSize] += (imgSize-(topLeftPos+patchSize))[(topLeftPos+patchSize) > imgSize]\n",
      "\n",
      "\n",
      "    img_target = np.asarray(Image.open(backgroundLoc))[:, :, 0:3]\n",
      "    img_target.flags.writeable = True\n",
      "\n",
      "    img_mask = np.asarray(Image.open(maskLoc))[topLeftPos[0]:topLeftPos[0]+patchSize[0], topLeftPos[1]:topLeftPos[1]+patchSize[1], -1]\n",
      "    img_mask.flags.writeable = True\n",
      "    ## make sure that borders of mask are assigned to bg\n",
      "    img_mask[0, :] = 0; img_mask[-1, :] = 0; img_mask[:, 0] = 0; img_mask[:, -1] = 0\n",
      "\n",
      "    img_source = np.asarray(Image.open(frameLoc))[topLeftPos[0]:topLeftPos[0]+patchSize[0], topLeftPos[1]:topLeftPos[1]+patchSize[1], :]\n",
      "\n",
      "#         sourceImg = np.asarray(PIL.Image.open(dataPath+dataSet+spriteName+inputFolderSuffix+\"/\"+frameName))[topLeftPos[0]:topLeftPos[0]+patchSize[0], \n",
      "#                                                                                                             topLeftPos[1]:topLeftPos[1]+patchSize[1], :-1]\n",
      "#         mask = np.copy(img_mask.reshape((patchSize[0], patchSize[1], 1)))/255.0\n",
      "\n",
      "#         img_source = np.array(sourceImg*mask + np.asarray(PIL.Image.open(dataPath+dataSet+\"median.png\"))[topLeftPos[0]:topLeftPos[0]+patchSize[0], \n",
      "#                                                                                                          topLeftPos[1]:topLeftPos[1]+patchSize[1], :]*(1.0-mask), dtype=uint8)\n",
      "\n",
      "\n",
      "    img_source.flags.writeable = True\n",
      "\n",
      "#     figure(); imshow(np.copy(img_target))\n",
      "#     figure(); imshow(np.copy(img_source))\n",
      "#     figure(); imshow(np.copy(img_mask))\n",
      "#     print fgOffset, offset\n",
      "    \n",
      "    img_ret = blend(img_target, img_source, img_mask, offset=(topLeftPos[0]+fgOffset[0], topLeftPos[1]+fgOffset[1]))\n",
      "\n",
      "\n",
      "    maskedFinal = np.zeros((img_target.shape[0], img_target.shape[1], 4), dtype=np.uint8)\n",
      "    maskedFinal[visiblePixelsGlobalIndices[:, 0], visiblePixelsGlobalIndices[:, 1], :-1] = img_ret[visiblePixelsGlobalIndices[:, 0]+fgOffset[0], \n",
      "                                                                                                   visiblePixelsGlobalIndices[:, 1]+fgOffset[1], :]\n",
      "    maskedFinal[visiblePixelsGlobalIndices[:, 0], visiblePixelsGlobalIndices[:, 1], -1] = 255\n",
      "\n",
      "#     PIL.Image.fromarray(np.uint8(maskedFinal)).save(dataPath+dataSet+spriteName+inputFolderSuffix+\"-blended/\"+frameName)\n",
      "#         figure(); imshow(maskedFinal)\n",
      "#     figure(); imshow(img_target)\n",
      "    result = np.copy(np.uint8(maskedFinal))\n",
      "#     figure(); imshow(result)\n",
      "    del img_mask\n",
      "    del img_source\n",
      "    del img_target\n",
      "    del maskedFinal\n",
      "    del img_ret\n",
      "    return result\n",
      "\n",
      "def compareBBoxes(x, y, verbose=False) :\n",
      "    xBBoxLocs = np.argwhere(x==1)\n",
      "    yBBoxLocs = np.argwhere(y==1)\n",
      "    xColRange = [np.min(xBBoxLocs[:, 1]), np.max(xBBoxLocs[:, 1])]\n",
      "    yColRange = [np.min(yBBoxLocs[:, 1]), np.max(yBBoxLocs[:, 1])]\n",
      "    if verbose :\n",
      "        print xColRange, yColRange, len(xBBoxLocs), len(yBBoxLocs)\n",
      "    \n",
      "    overlapColRange = list(set(range(xColRange[0], xColRange[1]+1)).intersection(range(yColRange[0], yColRange[1]+1)))\n",
      "    \n",
      "    if len(overlapColRange) == 0 :\n",
      "        if verbose :\n",
      "            print \"returning not overlapping\"\n",
      "        return 0\n",
      "    overlapColRange = [np.min(overlapColRange), np.max(overlapColRange)]\n",
      "        \n",
      "    if verbose :\n",
      "        print \"overlap\", overlapColRange\n",
      "        \n",
      "    validXBBoxLocs = np.all([xBBoxLocs[:, 1] >= overlapColRange[0], xBBoxLocs[:, 1] <= overlapColRange[1]], axis=0)\n",
      "    validYBBoxLocs = np.all([yBBoxLocs[:, 1] >= overlapColRange[0], yBBoxLocs[:, 1] <= overlapColRange[1]], axis=0)\n",
      "    \n",
      "    if np.max(xBBoxLocs[validXBBoxLocs, 0]) > np.max(yBBoxLocs[validYBBoxLocs, 0]) :\n",
      "        if verbose :\n",
      "            print \"x > y\"\n",
      "        return 1\n",
      "    elif np.max(xBBoxLocs[validXBBoxLocs, 0]) < np.max(yBBoxLocs[validYBBoxLocs, 0]) :\n",
      "        if verbose :\n",
      "            print \"x < y\"\n",
      "        return -1\n",
      "    else :\n",
      "        if verbose :\n",
      "            print \"x == y\"\n",
      "        return 0"
     ],
     "language": "python",
     "metadata": {},
     "outputs": [],
     "prompt_number": 5
    },
    {
     "cell_type": "code",
     "collapsed": false,
     "input": [
      "# ## just compute blend of a full sequence\n",
      "# baseLoc = \"/media/ilisescu/Data1/PhD/data/wave1/\"\n",
      "# bgLoc = baseLoc+\"median.png\"\n",
      "# bgImage = np.array(Image.open(bgLoc))\n",
      "# for seqLoc in np.sort(glob.glob(baseLoc+\"semantic_sequence-*.npy\"))[0:2] :\n",
      "#     seq = np.load(seqLoc).item()\n",
      "#     maskedFrameLoc = seq[DICT_MASK_LOCATION]\n",
      "#     if not os.path.isdir(maskedFrameLoc+\"blended/\") :\n",
      "#         os.mkdir(maskedFrameLoc+\"blended/\")\n",
      "        \n",
      "#     frameOffset = np.array([0, 0])\n",
      "#     frameScale = np.array([1.0, 1.0])\n",
      "#     startTime = time.time()\n",
      "#     for iterNum, frameKey in enumerate(np.sort(seq[DICT_FRAMES_LOCATIONS].keys())[0:]) :\n",
      "#         t = time.time()\n",
      "#         frameName = \"frame-{0:05}.png\".format(frameKey+1)\n",
      "        \n",
      "#         spritePatch, offset, patchSize, touchedBorders = getSpritePatch(seq, frameKey, bgImage.shape[1], bgImage.shape[0])\n",
      "\n",
      "#         sprite = getPoissonBlended(bgLoc,\n",
      "#                                    \"/\".join(seq[DICT_MASK_LOCATION].split(\"/\")[:-2])+\"/\"+frameName,\n",
      "#                                    seq[DICT_MASK_LOCATION]+frameName, frameOffset[::-1])\n",
      "\n",
      "\n",
      "#         ## dealing with scale and offsets WELL NO SCALE REALLY BUT FUCK IT\n",
      "#         tmp = np.zeros_like(sprite)\n",
      "#         if tmp[offset[1]+frameOffset[1]:offset[1]+frameOffset[1]+patchSize[0],\n",
      "#             offset[0]+frameOffset[0]:offset[0]+frameOffset[0]+patchSize[1], :].shape == sprite[offset[1]:offset[1]+patchSize[0], offset[0]:offset[0]+patchSize[1], :].shape :\n",
      "\n",
      "#             tmp[offset[1]+frameOffset[1]:offset[1]+frameOffset[1]+patchSize[0],\n",
      "#                 offset[0]+frameOffset[0]:offset[0]+frameOffset[0]+patchSize[1], :] = sprite[offset[1]:offset[1]+patchSize[0], offset[0]:offset[0]+patchSize[1], :]\n",
      "#         sprite = np.copy(tmp)\n",
      "#         del tmp\n",
      "#         Image.fromarray(sprite.astype(np.uint8)).save(maskedFrameLoc+\"blended/\"+frameName)\n",
      "        \n",
      "#         avgTime = (avgTime*iterNum + time.time()-t)/(iterNum+1)\n",
      "#         remainingTime = avgTime*(len(seq[DICT_FRAMES_LOCATIONS].keys())-iterNum-1)/60.0\n",
      "#         sys.stdout.write('\\r' + \"Done image \" + np.string_(iterNum) + \" of \" + np.string_(len(seq[DICT_FRAMES_LOCATIONS].keys())) +\n",
      "#                          \" (avg time: \" + np.string_(avgTime) + \" secs --- remaining: \" +\n",
      "#                          np.string_(int(np.floor(remainingTime))) + \":\" + np.string_(int((remainingTime - np.floor(remainingTime))*60)) + \")\")\n",
      "#         sys.stdout.flush()\n",
      "        \n",
      "#     print\n",
      "#     print \"DONE\", seq[DICT_SEQUENCE_NAME], \"in\", time.time() - startTime\n",
      "        \n",
      "# #     for frameLoc in np.sort(glob.glob(maskedFrameLoc+\"frame-*.png\")) :\n",
      "# #         frameName = frameLoc.split(os.sep)[-1]"
     ],
     "language": "python",
     "metadata": {},
     "outputs": [],
     "prompt_number": 6
    },
    {
     "cell_type": "code",
     "collapsed": false,
     "input": [
      "# baseLoc = \"/media/ilisescu/Data1/PhD/data/synthesisedSequences/digger/\"\n",
      "# baseLoc = \"/media/ilisescu/Data1/PhD/data/synthesisedSequences/wave_by_numbers_fattestbar/\"\n",
      "# baseLoc = \"/media/ilisescu/Data1/PhD/data/synthesisedSequences/wave_by_numbers_top_bottom/\"\n",
      "# baseLoc = \"/media/ilisescu/Data1/PhD/data/synthesisedSequences/wave_by_numbers_double_trouble/\"\n",
      "# baseLoc = \"/media/ilisescu/Data1/PhD/data/synthesisedSequences/wave_by_numbers_interlaced/\"\n",
      "# baseLoc = \"/media/ilisescu/Data1/PhD/data/synthesisedSequences/lullaby_quick/\"\n",
      "# baseLoc = \"/media/ilisescu/Data1/PhD/data/synthesisedSequences/drumming_new/\"\n",
      "baseLoc = \"/media/ilisescu/Data1/PhD/data/synthesisedSequences/drumming_laggy/\"\n",
      "# baseLoc = \"/media/ilisescu/Data1/PhD/data/synthesisedSequences/havanaComplex/\"\n",
      "# baseLoc = \"/media/ilisescu/Data1/PhD/data/synthesisedSequences/flowers/\"\n",
      "# baseLoc = \"/media/ilisescu/Data1/PhD/data/synthesisedSequences/street_complex/\"\n",
      "# baseLoc = \"/media/ilisescu/Data1/PhD/data/synthesisedSequences/super_mario_full/\"\n",
      "# baseLoc = \"/media/ilisescu/Data1/PhD/data/synthesisedSequences/super_mario_planes_latest/\"\n",
      "# baseLoc = \"/media/ilisescu/Data1/PhD/data/synthesisedSequences/USER STUDIES SEQUENCES/moos/wave_user_study_task/\"\n",
      "doComputePoisson = True\n",
      "# baseLocBlended = \"/media/ilisescu/Data1/PhD/data/synthesisedSequences/wave_by_numbers_fattestbar/\" \n",
      "baseLocBlended = \"/media/ilisescu/Data1/PhD/data/synthesisedSequences/drumming_new/\" \n",
      "# baseLocBlended = baseLoc"
     ],
     "language": "python",
     "metadata": {},
     "outputs": [],
     "prompt_number": 10
    },
    {
     "cell_type": "code",
     "collapsed": false,
     "input": [
      "## this is for stuff like lullaby that doesn't need the blending and compositing so I can just copy the frames\n",
      "# synthSeq = np.load(baseLoc+\"synthesised_sequence.npy\").item()\n",
      "# semanticSequences = []\n",
      "# for usedSeqLoc in synthSeq[DICT_USED_SEQUENCES] :\n",
      "#     semanticSequences.append(np.load(usedSeqLoc).item())\n",
      "    \n",
      "# if len(semanticSequences) == 1 and len(synthSeq[DICT_SEQUENCE_INSTANCES]) == 1 :\n",
      "#     for frameIdx, frameKey in enumerate(synthSeq[DICT_SEQUENCE_INSTANCES][0][DICT_SEQUENCE_FRAMES]) :\n",
      "#         shutil.copyfile(semanticSequences[0][DICT_FRAMES_LOCATIONS][frameKey], baseLoc+\"frame-{0:05}.png\".format(frameIdx))"
     ],
     "language": "python",
     "metadata": {},
     "outputs": [],
     "prompt_number": 9
    },
    {
     "cell_type": "code",
     "collapsed": false,
     "input": [
      "### JUST DO THE BLENDING FIRST\n",
      "# dataPath = \"/media/ilisescu/Data1/PhD/data/wave1/\"\n",
      "# baseLoc = \"/home/ilisescu/PhD/data/synthesisedSequences/waveFull/\"\n",
      "# baseLoc = \"/home/ilisescu/PhD/data/synthesisedSequences/waveFullBusier/\"\n",
      "# baseLoc = \"/media/ilisescu/Data1/PhD/data/synthesisedSequences/theme_park_mixedCompatibility/\"\n",
      "# baseLoc = \"/media/ilisescu/Data1/PhD/data/synthesisedSequences/tetris/\"\n",
      "# baseLoc = \"/media/ilisescu/Data1/PhD/data/synthesisedSequences/digger/\"\n",
      "\n",
      "if doComputePoisson :\n",
      "    if not os.path.isdir(baseLoc+\"blended/\") :\n",
      "        os.mkdir(baseLoc+\"blended/\")\n",
      "\n",
      "    synthSeq = np.load(baseLoc+\"synthesised_sequence.npy\").item()\n",
      "    bgLoc = synthSeq[DICT_SEQUENCE_BG]\n",
      "\n",
      "    bgImage = np.array(Image.open(bgLoc))[:, :, 0:3]\n",
      "\n",
      "    semanticSequences = []\n",
      "    for usedSeqLoc in synthSeq[DICT_USED_SEQUENCES] :\n",
      "        semanticSequences.append(np.load(usedSeqLoc).item())\n",
      "\n",
      "    minFrames = 10000\n",
      "    for i in xrange(len(synthSeq[DICT_SEQUENCE_INSTANCES])) :\n",
      "        minFrames = np.min((minFrames, len(synthSeq[DICT_SEQUENCE_INSTANCES][i][DICT_SEQUENCE_FRAMES])))\n",
      "\n",
      "    maxFramesToRender = 2000\n",
      "\n",
      "\n",
      "    avgTime = 0.0\n",
      "    for iterNum, f in enumerate(arange(minFrames)[0:]) :\n",
      "        t = time.time()\n",
      "        for sIdx, seq in enumerate(synthSeq[DICT_SEQUENCE_INSTANCES][0:]) :\n",
      "            seq1Idx = seq[DICT_SEQUENCE_IDX]\n",
      "            frame1Idx = seq[DICT_SEQUENCE_FRAMES][f]\n",
      "\n",
      "    #         ##### HACK for tetris necessary because I mirrored the sequence #####\n",
      "    #         oldLength = (len(semanticSequences[seq1Idx][DICT_BBOXES].keys())+1)/2\n",
      "    #         frame1Idx = np.concatenate((arange(oldLength), arange(oldLength-2, -1, -1)))[frame1Idx]\n",
      "    #         #####################################################################\n",
      "\n",
      "            if frame1Idx < len(semanticSequences[seq1Idx][DICT_BBOXES].keys()) :\n",
      "                frame1Key = np.sort(semanticSequences[seq1Idx][DICT_BBOXES].keys())[frame1Idx]\n",
      "                frame1Offset = seq[DICT_OFFSET]\n",
      "                frame1Scale = seq[DICT_SCALE]\n",
      "            else :\n",
      "                frame1Key = -1\n",
      "                frame1Offset = seq[DICT_OFFSET]\n",
      "                frame1Scale = seq[DICT_SCALE]\n",
      "                \n",
      "            if not os.path.isfile(baseLocBlended+\"blended/frame-{0:05}-\".format(frame1Key) + \"{0:02}.png\".format(sIdx)) :\n",
      "\n",
      "                if frame1Key in semanticSequences[seq1Idx][DICT_FRAMES_LOCATIONS] :\n",
      "\n",
      "                    spritePatch, offset, patchSize, touchedBorders = getSpritePatch(semanticSequences[seq1Idx], frame1Key, bgImage.shape[1], bgImage.shape[0])\n",
      "\n",
      "                    sprite1 = getPoissonBlended(bgLoc,\n",
      "                                                \"/\".join(semanticSequences[seq1Idx][DICT_MASK_LOCATION].split(\"/\")[:-2])+\"/frame-{0:05}.png\".format(frame1Key+1),\n",
      "                                                semanticSequences[seq1Idx][DICT_MASK_LOCATION]+\"frame-{0:05}.png\".format(frame1Key+1), frame1Offset[::-1])\n",
      "\n",
      "#                     print sprite1.shape\n",
      "                    ## dealing with scale and offsets WELL NO SCALE REALLY BUT FUCK IT\n",
      "                    tmp = np.zeros_like(sprite1)\n",
      "                    if tmp[offset[1]+frame1Offset[1]:offset[1]+frame1Offset[1]+patchSize[0],\n",
      "                        offset[0]+frame1Offset[0]:offset[0]+frame1Offset[0]+patchSize[1], :].shape == sprite1[offset[1]:offset[1]+patchSize[0], offset[0]:offset[0]+patchSize[1], :].shape :\n",
      "                        \n",
      "                        tmp[offset[1]+frame1Offset[1]:offset[1]+frame1Offset[1]+patchSize[0],\n",
      "                            offset[0]+frame1Offset[0]:offset[0]+frame1Offset[0]+patchSize[1], :] = sprite1[offset[1]:offset[1]+patchSize[0], offset[0]:offset[0]+patchSize[1], :]\n",
      "                    sprite1 = np.copy(tmp)\n",
      "                    del tmp\n",
      "                    Image.fromarray(sprite1.astype(np.uint8)).save(baseLocBlended+\"blended/frame-{0:05}-\".format(frame1Key) + \"{0:02}.png\".format(sIdx))\n",
      "\n",
      "        avgTime = (avgTime*iterNum + time.time()-t)/(iterNum+1)\n",
      "        remainingTime = avgTime*(maxFramesToRender-iterNum-1)/60.0\n",
      "        sys.stdout.write('\\r' + \"Done image \" + np.string_(iterNum) + \" of \" + np.string_(maxFramesToRender) +\n",
      "                         \" (avg time: \" + np.string_(avgTime) + \" secs --- remaining: \" +\n",
      "                         np.string_(int(np.floor(remainingTime))) + \":\" + np.string_(int((remainingTime - np.floor(remainingTime))*60)) + \")\")\n",
      "        sys.stdout.flush()\n",
      "        \n",
      "#         sprite1 = sprite1[offset[1, 0]:offset[1, 0]+patchSize[0], offset[0, 0]:offset[0, 0]+patchSize[1], :]\n",
      "#         alphaMask = (sprite1[:, :, -1]/255.0).reshape([patchSize[0], patchSize[1], 1])\n",
      "#         sprite1 = sprite1[:, :, :-1]\n",
      "#         compositedBlended = (bgImage[offset[1, 0]:offset[1, 0]+patchSize[0], offset[0, 0]:offset[0, 0]+patchSize[1], :]*(1.0-alphaMask) + sprite1*alphaMask).astype(np.uint8)\n",
      "#         compositedNotBlended = (bgImage[offset[1, 0]:offset[1, 0]+patchSize[0], offset[0, 0]:offset[0, 0]+patchSize[1], :]*(1.0-alphaMask) + spritePatch*alphaMask).astype(np.uint8)\n",
      "#         figure(); imshow(compositedBlended)\n",
      "#         figure(); imshow(compositedNotBlended)\n",
      "    print \n",
      "    print \"done\""
     ],
     "language": "python",
     "metadata": {},
     "outputs": [
      {
       "output_type": "stream",
       "stream": "stdout",
       "text": [
        "\r",
        "Done image 0 of 2000 (avg time: 0.000139951705933 secs --- remaining: 0:0)"
       ]
      },
      {
       "output_type": "stream",
       "stream": "stdout",
       "text": [
        "\r",
        "Done image 1 of 2000 (avg time: 0.000133395195007 secs --- remaining: 0:0)"
       ]
      },
      {
       "output_type": "stream",
       "stream": "stdout",
       "text": [
        "\r",
        "Done image 2 of 2000 (avg time: 0.00012993812561 secs --- remaining: 0:0)"
       ]
      },
      {
       "output_type": "stream",
       "stream": "stdout",
       "text": [
        "\r",
        "Done image 3 of 2000 (avg time: 0.000131487846375 secs --- remaining: 0:0)"
       ]
      },
      {
       "output_type": "stream",
       "stream": "stdout",
       "text": [
        "\r",
        "Done image 4 of 2000 (avg time: 0.000132608413696 secs --- remaining: 0:0)"
       ]
      },
      {
       "output_type": "stream",
       "stream": "stdout",
       "text": [
        "\r",
        "Done image 5 of 2000 (avg time: 0.000133156776428 secs --- remaining: 0:0)"
       ]
      },
      {
       "output_type": "stream",
       "stream": "stdout",
       "text": [
        "\r",
        "Done image 6 of 2000 (avg time: 0.000130414962769 secs --- remaining: 0:0)"
       ]
      },
      {
       "output_type": "stream",
       "stream": "stdout",
       "text": [
        "\r",
        "Done image 7 of 2000 (avg time: 0.000130742788315 secs --- remaining: 0:0)"
       ]
      },
      {
       "output_type": "stream",
       "stream": "stdout",
       "text": [
        "\r",
        "Done image 8 of 2000 (avg time: 0.00013099776374 secs --- remaining: 0:0)"
       ]
      },
      {
       "output_type": "stream",
       "stream": "stdout",
       "text": [
        "\r",
        "Done image 9 of 2000 (avg time: 0.000129199028015 secs --- remaining: 0:0)"
       ]
      },
      {
       "output_type": "stream",
       "stream": "stdout",
       "text": [
        "\r",
        "Done image 10 of 2000 (avg time: 0.000127814032815 secs --- remaining: 0:0)"
       ]
      },
      {
       "output_type": "stream",
       "stream": "stdout",
       "text": [
        "\r",
        "Done image 11 of 2000 (avg time: 0.000128169854482 secs --- remaining: 0:0)"
       ]
      },
      {
       "output_type": "stream",
       "stream": "stdout",
       "text": [
        "\r",
        "Done image 12 of 2000 (avg time: 0.000128470934354 secs --- remaining: 0:0)"
       ]
      },
      {
       "output_type": "stream",
       "stream": "stdout",
       "text": [
        "\r",
        "Done image 13 of 2000 (avg time: 0.000128729002816 secs --- remaining: 0:0)"
       ]
      },
      {
       "output_type": "stream",
       "stream": "stdout",
       "text": [
        "\r",
        "Done image 14 of 2000 (avg time: 0.000128205617269 secs --- remaining: 0:0)"
       ]
      },
      {
       "output_type": "stream",
       "stream": "stdout",
       "text": [
        "\r",
        "Done image 15 of 2000 (avg time: 0.000127255916595 secs --- remaining: 0:0)"
       ]
      },
      {
       "output_type": "stream",
       "stream": "stdout",
       "text": [
        "\r",
        "Done image 16 of 2000 (avg time: 0.000126417945413 secs --- remaining: 0:0)"
       ]
      },
      {
       "output_type": "stream",
       "stream": "stdout",
       "text": [
        "\r",
        "Done image 17 of 2000 (avg time: 0.000126017464532 secs --- remaining: 0:0)"
       ]
      },
      {
       "output_type": "stream",
       "stream": "stdout",
       "text": [
        "\r",
        "Done image 18 of 2000 (avg time: 0.000125809719688 secs --- remaining: 0:0)"
       ]
      },
      {
       "output_type": "stream",
       "stream": "stdout",
       "text": [
        "\r",
        "Done image 19 of 2000 (avg time: 0.000125467777252 secs --- remaining: 0:0)"
       ]
      },
      {
       "output_type": "stream",
       "stream": "stdout",
       "text": [
        "\r",
        "Done image 20 of 2000 (avg time: 0.000124817802793 secs --- remaining: 0:0)"
       ]
      },
      {
       "output_type": "stream",
       "stream": "stdout",
       "text": [
        "\r",
        "Done image 21 of 2000 (avg time: 0.000124281102961 secs --- remaining: 0:0)"
       ]
      },
      {
       "output_type": "stream",
       "stream": "stdout",
       "text": [
        "\r",
        "Done image 22 of 2000 (avg time: 0.00012379107268 secs --- remaining: 0:0)"
       ]
      },
      {
       "output_type": "stream",
       "stream": "stdout",
       "text": [
        "\r",
        "Done image 23 of 2000 (avg time: 0.000123302141825 secs --- remaining: 0:0)"
       ]
      },
      {
       "output_type": "stream",
       "stream": "stdout",
       "text": [
        "\r",
        "Done image 24 of 2000 (avg time: 0.000122842788696 secs --- remaining: 0:0)"
       ]
      },
      {
       "output_type": "stream",
       "stream": "stdout",
       "text": [
        "\r",
        "Done image 25 of 2000 (avg time: 0.000122427940369 secs --- remaining: 0:0)"
       ]
      },
      {
       "output_type": "stream",
       "stream": "stdout",
       "text": [
        "\r",
        "Done image 26 of 2000 (avg time: 0.000122405864574 secs --- remaining: 0:0)"
       ]
      },
      {
       "output_type": "stream",
       "stream": "stdout",
       "text": [
        "\r",
        "Done image 27 of 2000 (avg time: 0.0001220703125 secs --- remaining: 0:0)"
       ]
      },
      {
       "output_type": "stream",
       "stream": "stdout",
       "text": [
        "\r",
        "Done image 28 of 2000 (avg time: 0.000121757901948 secs --- remaining: 0:0)"
       ]
      },
      {
       "output_type": "stream",
       "stream": "stdout",
       "text": [
        "\r",
        "Done image 29 of 2000 (avg time: 0.000121434529622 secs --- remaining: 0:0)"
       ]
      },
      {
       "output_type": "stream",
       "stream": "stdout",
       "text": [
        "\r",
        "Done image 30 of 2000 (avg time: 0.000121193547403 secs --- remaining: 0:0)"
       ]
      },
      {
       "output_type": "stream",
       "stream": "stdout",
       "text": [
        "\r",
        "Done image 31 of 2000 (avg time: 0.000120937824249 secs --- remaining: 0:0)"
       ]
      },
      {
       "output_type": "stream",
       "stream": "stdout",
       "text": [
        "\r",
        "Done image 32 of 2000 (avg time: 0.000120661475442 secs --- remaining: 0:0)"
       ]
      },
      {
       "output_type": "stream",
       "stream": "stdout",
       "text": [
        "\r",
        "Done image 33 of 2000 (avg time: 0.000120520591736 secs --- remaining: 0:0)"
       ]
      },
      {
       "output_type": "stream",
       "stream": "stdout",
       "text": [
        "\r",
        "Done image 34 of 2000 (avg time: 0.000120367322649 secs --- remaining: 0:0)"
       ]
      },
      {
       "output_type": "stream",
       "stream": "stdout",
       "text": [
        "\r",
        "Done image 35 of 2000 (avg time: 0.000120275550418 secs --- remaining: 0:0)"
       ]
      },
      {
       "output_type": "stream",
       "stream": "stdout",
       "text": [
        "\r",
        "Done image 36 of 2000 (avg time: 0.00012013074514 secs --- remaining: 0:0)"
       ]
      },
      {
       "output_type": "stream",
       "stream": "stdout",
       "text": [
        "\r",
        "Done image 37 of 2000 (avg time: 0.0001199684645 secs --- remaining: 0:0)"
       ]
      },
      {
       "output_type": "stream",
       "stream": "stdout",
       "text": [
        "\r",
        "Done image 38 of 2000 (avg time: 0.000119790052756 secs --- remaining: 0:0)"
       ]
      },
      {
       "output_type": "stream",
       "stream": "stdout",
       "text": [
        "\r",
        "Done image 39 of 2000 (avg time: 0.0001196205616 secs --- remaining: 0:0)"
       ]
      },
      {
       "output_type": "stream",
       "stream": "stdout",
       "text": [
        "\r",
        "Done image 40 of 2000 (avg time: 0.00011972683232 secs --- remaining: 0:0)"
       ]
      },
      {
       "output_type": "stream",
       "stream": "stdout",
       "text": [
        "\r",
        "Done image 41 of 2000 (avg time: 0.000119566917419 secs --- remaining: 0:0)"
       ]
      },
      {
       "output_type": "stream",
       "stream": "stdout",
       "text": [
        "\r",
        "Done image 42 of 2000 (avg time: 0.000119458797366 secs --- remaining: 0:0)"
       ]
      },
      {
       "output_type": "stream",
       "stream": "stdout",
       "text": [
        "\r",
        "Done image 43 of 2000 (avg time: 0.000119333917444 secs --- remaining: 0:0)"
       ]
      },
      {
       "output_type": "stream",
       "stream": "stdout",
       "text": [
        "\r",
        "Done image 44 of 2000 (avg time: 0.000119214587741 secs --- remaining: 0:0)"
       ]
      },
      {
       "output_type": "stream",
       "stream": "stdout",
       "text": [
        "\r",
        "Done image 45 of 2000 (avg time: 0.000119079714236 secs --- remaining: 0:0)"
       ]
      },
      {
       "output_type": "stream",
       "stream": "stdout",
       "text": [
        "\r",
        "Done image 46 of 2000 (avg time: 0.000118970870972 secs --- remaining: 0:0)"
       ]
      },
      {
       "output_type": "stream",
       "stream": "stdout",
       "text": [
        "\r",
        "Done image 47 of 2000 (avg time: 0.000118866562843 secs --- remaining: 0:0)"
       ]
      },
      {
       "output_type": "stream",
       "stream": "stdout",
       "text": [
        "\r",
        "Done image 48 of 2000 (avg time: 0.000118771377875 secs --- remaining: 0:0)"
       ]
      },
      {
       "output_type": "stream",
       "stream": "stdout",
       "text": [
        "\r",
        "Done image 49 of 2000 (avg time: 0.000118699073792 secs --- remaining: 0:0)"
       ]
      },
      {
       "output_type": "stream",
       "stream": "stdout",
       "text": [
        "\r",
        "Done image 50 of 2000 (avg time: 0.000118624930288 secs --- remaining: 0:0)"
       ]
      },
      {
       "output_type": "stream",
       "stream": "stdout",
       "text": [
        "\r",
        "Done image 51 of 2000 (avg time: 0.000118558223431 secs --- remaining: 0:0)"
       ]
      },
      {
       "output_type": "stream",
       "stream": "stdout",
       "text": [
        "\r",
        "Done image 52 of 2000 (avg time: 0.000118507529205 secs --- remaining: 0:0)"
       ]
      },
      {
       "output_type": "stream",
       "stream": "stdout",
       "text": [
        "\r",
        "Done image 53 of 2000 (avg time: 0.000118383654842 secs --- remaining: 0:0)"
       ]
      },
      {
       "output_type": "stream",
       "stream": "stdout",
       "text": [
        "\r",
        "Done image 54 of 2000 (avg time: 0.000118359652433 secs --- remaining: 0:0)"
       ]
      },
      {
       "output_type": "stream",
       "stream": "stdout",
       "text": [
        "\r",
        "Done image 55 of 2000 (avg time: 0.000118281160082 secs --- remaining: 0:0)"
       ]
      },
      {
       "output_type": "stream",
       "stream": "stdout",
       "text": [
        "\r",
        "Done image 56 of 2000 (avg time: 0.000118188690721 secs --- remaining: 0:0)"
       ]
      },
      {
       "output_type": "stream",
       "stream": "stdout",
       "text": [
        "\r",
        "Done image 57 of 2000 (avg time: 0.000118136405945 secs --- remaining: 0:0)"
       ]
      },
      {
       "output_type": "stream",
       "stream": "stdout",
       "text": [
        "\r",
        "Done image 58 of 2000 (avg time: 0.000118029319634 secs --- remaining: 0:0)"
       ]
      },
      {
       "output_type": "stream",
       "stream": "stdout",
       "text": [
        "\r",
        "Done image 59 of 2000 (avg time: 0.00011799732844 secs --- remaining: 0:0)"
       ]
      },
      {
       "output_type": "stream",
       "stream": "stdout",
       "text": [
        "\r",
        "Done image 60 of 2000 (avg time: 0.000117899941616 secs --- remaining: 0:0)"
       ]
      },
      {
       "output_type": "stream",
       "stream": "stdout",
       "text": [
        "\r",
        "Done image 61 of 2000 (avg time: 0.000117840305451 secs --- remaining: 0:0)"
       ]
      },
      {
       "output_type": "stream",
       "stream": "stdout",
       "text": [
        "\r",
        "Done image 62 of 2000 (avg time: 0.000117809053451 secs --- remaining: 0:0)"
       ]
      },
      {
       "output_type": "stream",
       "stream": "stdout",
       "text": [
        "\r",
        "Done image 63 of 2000 (avg time: 0.000117767602205 secs --- remaining: 0:0)"
       ]
      },
      {
       "output_type": "stream",
       "stream": "stdout",
       "text": [
        "\r",
        "Done image 64 of 2000 (avg time: 0.000117709086492 secs --- remaining: 0:0)"
       ]
      },
      {
       "output_type": "stream",
       "stream": "stdout",
       "text": [
        "\r",
        "Done image 65 of 2000 (avg time: 0.000117652343981 secs --- remaining: 0:0)"
       ]
      },
      {
       "output_type": "stream",
       "stream": "stdout",
       "text": [
        "\r",
        "Done image 66 of 2000 (avg time: 0.000117615087708 secs --- remaining: 0:0)"
       ]
      },
      {
       "output_type": "stream",
       "stream": "stdout",
       "text": [
        "\r",
        "Done image 67 of 2000 (avg time: 0.000117575421053 secs --- remaining: 0:0)"
       ]
      },
      {
       "output_type": "stream",
       "stream": "stdout",
       "text": [
        "\r",
        "Done image 68 of 2000 (avg time: 0.000117568002231 secs --- remaining: 0:0)"
       ]
      },
      {
       "output_type": "stream",
       "stream": "stdout",
       "text": [
        "\r",
        "Done image 69 of 2000 (avg time: 0.000117560795375 secs --- remaining: 0:0)"
       ]
      },
      {
       "output_type": "stream",
       "stream": "stdout",
       "text": [
        "\r",
        "Done image 70 of 2000 (avg time: 0.000117624309701 secs --- remaining: 0:0)"
       ]
      },
      {
       "output_type": "stream",
       "stream": "stdout",
       "text": [
        "\r",
        "Done image 71 of 2000 (avg time: 0.000117672814263 secs --- remaining: 0:0)"
       ]
      },
      {
       "output_type": "stream",
       "stream": "stdout",
       "text": [
        "\r",
        "Done image 72 of 2000 (avg time: 0.000117661201791 secs --- remaining: 0:0)"
       ]
      },
      {
       "output_type": "stream",
       "stream": "stdout",
       "text": [
        "\r",
        "Done image 73 of 2000 (avg time: 0.000117666012532 secs --- remaining: 0:0)"
       ]
      },
      {
       "output_type": "stream",
       "stream": "stdout",
       "text": [
        "\r",
        "Done image 74 of 2000 (avg time: 0.000117657979329 secs --- remaining: 0:0)"
       ]
      },
      {
       "output_type": "stream",
       "stream": "stdout",
       "text": [
        "\r",
        "Done image 75 of 2000 (avg time: 0.000117621923748 secs --- remaining: 0:0)"
       ]
      },
      {
       "output_type": "stream",
       "stream": "stdout",
       "text": [
        "\r",
        "Done image 76 of 2000 (avg time: 0.000117574419294 secs --- remaining: 0:0)"
       ]
      },
      {
       "output_type": "stream",
       "stream": "stdout",
       "text": [
        "\r",
        "Done image 77 of 2000 (avg time: 0.000117528132903 secs --- remaining: 0:0)"
       ]
      },
      {
       "output_type": "stream",
       "stream": "stdout",
       "text": [
        "\r",
        "Done image 78 of 2000 (avg time: 0.00011748301832 secs --- remaining: 0:0)"
       ]
      },
      {
       "output_type": "stream",
       "stream": "stdout",
       "text": [
        "\r",
        "Done image 79 of 2000 (avg time: 0.000117427110672 secs --- remaining: 0:0)"
       ]
      },
      {
       "output_type": "stream",
       "stream": "stdout",
       "text": [
        "\r",
        "Done image 80 of 2000 (avg time: 0.00011737258346 secs --- remaining: 0:0)"
       ]
      },
      {
       "output_type": "stream",
       "stream": "stdout",
       "text": [
        "\r",
        "Done image 81 of 2000 (avg time: 0.000117333923898 secs --- remaining: 0:0)"
       ]
      },
      {
       "output_type": "stream",
       "stream": "stdout",
       "text": [
        "\r",
        "Done image 82 of 2000 (avg time: 0.000117402478873 secs --- remaining: 0:0)"
       ]
      },
      {
       "output_type": "stream",
       "stream": "stdout",
       "text": [
        "\r",
        "Done image 83 of 2000 (avg time: 0.000117338839031 secs --- remaining: 0:0)"
       ]
      },
      {
       "output_type": "stream",
       "stream": "stdout",
       "text": [
        "\r",
        "Done image 84 of 2000 (avg time: 0.000117287916296 secs --- remaining: 0:0)"
       ]
      },
      {
       "output_type": "stream",
       "stream": "stdout",
       "text": [
        "\r",
        "Done image 85 of 2000 (avg time: 0.00011723817781 secs --- remaining: 0:0)"
       ]
      },
      {
       "output_type": "stream",
       "stream": "stdout",
       "text": [
        "\r",
        "Done image 86 of 2000 (avg time: 0.000117269055597 secs --- remaining: 0:0)"
       ]
      },
      {
       "output_type": "stream",
       "stream": "stdout",
       "text": [
        "\r",
        "Done image 87 of 2000 (avg time: 0.000117299231616 secs --- remaining: 0:0)"
       ]
      },
      {
       "output_type": "stream",
       "stream": "stdout",
       "text": [
        "\r",
        "Done image 88 of 2000 (avg time: 0.000117328729522 secs --- remaining: 0:0)"
       ]
      },
      {
       "output_type": "stream",
       "stream": "stdout",
       "text": [
        "\r",
        "Done image 89 of 2000 (avg time: 0.00011735757192 secs --- remaining: 0:0)"
       ]
      },
      {
       "output_type": "stream",
       "stream": "stdout",
       "text": [
        "\r",
        "Done image 90 of 2000 (avg time: 0.000117409360278 secs --- remaining: 0:0)"
       ]
      },
      {
       "output_type": "stream",
       "stream": "stdout",
       "text": [
        "\r",
        "Done image 91 of 2000 (avg time: 0.000117480754852 secs --- remaining: 0:0)"
       ]
      },
      {
       "output_type": "stream",
       "stream": "stdout",
       "text": [
        "\r",
        "Done image 92 of 2000 (avg time: 0.000117540359497 secs --- remaining: 0:0)"
       ]
      },
      {
       "output_type": "stream",
       "stream": "stdout",
       "text": [
        "\r",
        "Done image 93 of 2000 (avg time: 0.000117621523269 secs --- remaining: 0:0)"
       ]
      },
      {
       "output_type": "stream",
       "stream": "stdout",
       "text": [
        "\r",
        "Done image 94 of 2000 (avg time: 0.00011769846866 secs --- remaining: 0:0)"
       ]
      },
      {
       "output_type": "stream",
       "stream": "stdout",
       "text": [
        "\r",
        "Done image 95 of 2000 (avg time: 0.000117825965087 secs --- remaining: 0:0)"
       ]
      },
      {
       "output_type": "stream",
       "stream": "stdout",
       "text": [
        "\r",
        "Done image 96 of 2000 (avg time: 0.000117901674251 secs --- remaining: 0:0)"
       ]
      },
      {
       "output_type": "stream",
       "stream": "stdout",
       "text": [
        "\r",
        "Done image 97 of 2000 (avg time: 0.000117983136858 secs --- remaining: 0:0)"
       ]
      },
      {
       "output_type": "stream",
       "stream": "stdout",
       "text": [
        "\r",
        "Done image 98 of 2000 (avg time: 0.000118489217277 secs --- remaining: 0:0)"
       ]
      },
      {
       "output_type": "stream",
       "stream": "stdout",
       "text": [
        "\r",
        "Done image 99 of 2000 (avg time: 0.000119326114655 secs --- remaining: 0:0)"
       ]
      },
      {
       "output_type": "stream",
       "stream": "stdout",
       "text": [
        "\r",
        "Done image 100 of 2000 (avg time: 0.000120500526806 secs --- remaining: 0:0)"
       ]
      },
      {
       "output_type": "stream",
       "stream": "stdout",
       "text": [
        "\r",
        "Done image 101 of 2000 (avg time: 0.000121319995207 secs --- remaining: 0:0)"
       ]
      },
      {
       "output_type": "stream",
       "stream": "stdout",
       "text": [
        "\r",
        "Done image 102 of 2000 (avg time: 0.000121345797789 secs --- remaining: 0:0)"
       ]
      },
      {
       "output_type": "stream",
       "stream": "stdout",
       "text": [
        "\r",
        "Done image 103 of 2000 (avg time: 0.000121313792009 secs --- remaining: 0:0)"
       ]
      },
      {
       "output_type": "stream",
       "stream": "stdout",
       "text": [
        "\r",
        "Done image 104 of 2000 (avg time: 0.000121261959984 secs --- remaining: 0:0)"
       ]
      },
      {
       "output_type": "stream",
       "stream": "stdout",
       "text": [
        "\r",
        "Done image 105 of 2000 (avg time: 0.000121202108995 secs --- remaining: 0:0)"
       ]
      },
      {
       "output_type": "stream",
       "stream": "stdout",
       "text": [
        "\r",
        "Done image 106 of 2000 (avg time: 0.000121236961579 secs --- remaining: 0:0)"
       ]
      },
      {
       "output_type": "stream",
       "stream": "stdout",
       "text": [
        "\r",
        "Done image 107 of 2000 (avg time: 0.000121180657987 secs --- remaining: 0:0)"
       ]
      },
      {
       "output_type": "stream",
       "stream": "stdout",
       "text": [
        "\r",
        "Done image 108 of 2000 (avg time: 0.00012158253871 secs --- remaining: 0:0)"
       ]
      },
      {
       "output_type": "stream",
       "stream": "stdout",
       "text": [
        "\r",
        "Done image 109 of 2000 (avg time: 0.000121630321849 secs --- remaining: 0:0)"
       ]
      },
      {
       "output_type": "stream",
       "stream": "stdout",
       "text": [
        "\r",
        "Done image 110 of 2000 (avg time: 0.000121614954493 secs --- remaining: 0:0)"
       ]
      },
      {
       "output_type": "stream",
       "stream": "stdout",
       "text": [
        "\r",
        "Done image 111 of 2000 (avg time: 0.000121591346604 secs --- remaining: 0:0)"
       ]
      },
      {
       "output_type": "stream",
       "stream": "stdout",
       "text": [
        "\r",
        "Done image 112 of 2000 (avg time: 0.000121559716959 secs --- remaining: 0:0)"
       ]
      },
      {
       "output_type": "stream",
       "stream": "stdout",
       "text": [
        "\r",
        "Done image 113 of 2000 (avg time: 0.000121537007784 secs --- remaining: 0:0)"
       ]
      },
      {
       "output_type": "stream",
       "stream": "stdout",
       "text": [
        "\r",
        "Done image 114 of 2000 (avg time: 0.00012149810791 secs --- remaining: 0:0)"
       ]
      },
      {
       "output_type": "stream",
       "stream": "stdout",
       "text": [
        "\r",
        "Done image 115 of 2000 (avg time: 0.000121449602061 secs --- remaining: 0:0)"
       ]
      },
      {
       "output_type": "stream",
       "stream": "stdout",
       "text": [
        "computing poisson /media/ilisescu/Data1/PhD/data/drumming2/frame-00971.png\r",
        "Done image 116 of 2000 (avg time: 0.0263991804204 secs --- remaining: 0:49)"
       ]
      },
      {
       "output_type": "stream",
       "stream": "stdout",
       "text": [
        " computing poisson /media/ilisescu/Data1/PhD/data/drumming2/frame-00972.png\r",
        "Done image 117 of 2000 (avg time: 0.0579082642571 secs --- remaining: 1:48)"
       ]
      },
      {
       "output_type": "stream",
       "stream": "stdout",
       "text": [
        " computing poisson /media/ilisescu/Data1/PhD/data/drumming2/frame-00973.png\r",
        "Done image 118 of 2000 (avg time: 0.100376766269 secs --- remaining: 3:8)"
       ]
      },
      {
       "output_type": "stream",
       "stream": "stdout",
       "text": [
        " computing poisson /media/ilisescu/Data1/PhD/data/drumming2/frame-00974.png\r",
        "Done image 119 of 2000 (avg time: 0.143856269121 secs --- remaining: 4:30)"
       ]
      },
      {
       "output_type": "stream",
       "stream": "stdout",
       "text": [
        " computing poisson /media/ilisescu/Data1/PhD/data/drumming2/frame-00975.png\r",
        "Done image 120 of 2000 (avg time: 0.184921201596 secs --- remaining: 5:47)"
       ]
      },
      {
       "output_type": "stream",
       "stream": "stdout",
       "text": [
        " computing poisson /media/ilisescu/Data1/PhD/data/drumming2/frame-00976.png\r",
        "Done image 121 of 2000 (avg time: 0.225939666639 secs --- remaining: 7:4)"
       ]
      },
      {
       "output_type": "stream",
       "stream": "stdout",
       "text": [
        " computing poisson /media/ilisescu/Data1/PhD/data/drumming2/frame-00977.png\r",
        "Done image 122 of 2000 (avg time: 0.262251733764 secs --- remaining: 8:12)"
       ]
      },
      {
       "output_type": "stream",
       "stream": "stdout",
       "text": [
        " computing poisson /media/ilisescu/Data1/PhD/data/drumming2/frame-00978.png\r",
        "Done image 123 of 2000 (avg time: 0.296421495176 secs --- remaining: 9:16)"
       ]
      },
      {
       "output_type": "stream",
       "stream": "stdout",
       "text": [
        " computing poisson /media/ilisescu/Data1/PhD/data/drumming2/frame-00979.png\r",
        "Done image 124 of 2000 (avg time: 0.343872467041 secs --- remaining: 10:44)"
       ]
      },
      {
       "output_type": "stream",
       "stream": "stdout",
       "text": [
        " computing poisson /media/ilisescu/Data1/PhD/data/drumming2/frame-00980.png\r",
        "Done image 125 of 2000 (avg time: 0.392425932581 secs --- remaining: 12:15)"
       ]
      },
      {
       "output_type": "stream",
       "stream": "stdout",
       "text": [
        " computing poisson /media/ilisescu/Data1/PhD/data/drumming2/frame-00981.png\r",
        "Done image 126 of 2000 (avg time: 0.440454800298 secs --- remaining: 13:44)"
       ]
      },
      {
       "output_type": "stream",
       "stream": "stdout",
       "text": [
        " computing poisson /media/ilisescu/Data1/PhD/data/drumming2/frame-00982.png\r",
        "Done image 127 of 2000 (avg time: 0.487980606034 secs --- remaining: 15:13)"
       ]
      },
      {
       "output_type": "stream",
       "stream": "stdout",
       "text": [
        " computing poisson /media/ilisescu/Data1/PhD/data/drumming2/frame-00983.png\r",
        "Done image 128 of 2000 (avg time: 0.534648972888 secs --- remaining: 16:40)"
       ]
      },
      {
       "output_type": "stream",
       "stream": "stdout",
       "text": [
        " computing poisson /media/ilisescu/Data1/PhD/data/drumming2/frame-00984.png\r",
        "Done image 129 of 2000 (avg time: 0.579263727482 secs --- remaining: 18:3)"
       ]
      },
      {
       "output_type": "stream",
       "stream": "stdout",
       "text": [
        " computing poisson /media/ilisescu/Data1/PhD/data/drumming2/frame-00985.png\r",
        "Done image 130 of 2000 (avg time: 0.621970416935 secs --- remaining: 19:22)"
       ]
      },
      {
       "output_type": "stream",
       "stream": "stdout",
       "text": [
        " computing poisson /media/ilisescu/Data1/PhD/data/drumming2/frame-00986.png\r",
        "Done image 131 of 2000 (avg time: 0.666059680057 secs --- remaining: 20:44)"
       ]
      },
      {
       "output_type": "stream",
       "stream": "stdout",
       "text": [
        "\r",
        "Done image 132 of 2000 (avg time: 0.66105385472 secs --- remaining: 20:34)"
       ]
      },
      {
       "output_type": "stream",
       "stream": "stdout",
       "text": [
        "\r",
        "Done image 133 of 2000 (avg time: 0.656122236109 secs --- remaining: 20:24)"
       ]
      },
      {
       "output_type": "stream",
       "stream": "stdout",
       "text": [
        "\r",
        "Done image 134 of 2000 (avg time: 0.651263611405 secs --- remaining: 20:14)"
       ]
      },
      {
       "output_type": "stream",
       "stream": "stdout",
       "text": [
        "\r",
        "Done image 135 of 2000 (avg time: 0.646476400249 secs --- remaining: 20:5)"
       ]
      },
      {
       "output_type": "stream",
       "stream": "stdout",
       "text": [
        "\r",
        "Done image 136 of 2000 (avg time: 0.641759054504 secs --- remaining: 19:55)"
       ]
      },
      {
       "output_type": "stream",
       "stream": "stdout",
       "text": [
        "\r",
        "Done image 137 of 2000 (avg time: 0.637110053629 secs --- remaining: 19:46)"
       ]
      },
      {
       "output_type": "stream",
       "stream": "stdout",
       "text": [
        "\r",
        "Done image 138 of 2000 (avg time: 0.632527944853 secs --- remaining: 19:37)"
       ]
      },
      {
       "output_type": "stream",
       "stream": "stdout",
       "text": [
        "\r",
        "Done image 139 of 2000 (avg time: 0.628011287962 secs --- remaining: 19:28)"
       ]
      },
      {
       "output_type": "stream",
       "stream": "stdout",
       "text": [
        "\r",
        "Done image 140 of 2000 (avg time: 0.623558754617 secs --- remaining: 19:19)"
       ]
      },
      {
       "output_type": "stream",
       "stream": "stdout",
       "text": [
        "\r",
        "Done image 141 of 2000 (avg time: 0.619168869207 secs --- remaining: 19:10)"
       ]
      },
      {
       "output_type": "stream",
       "stream": "stdout",
       "text": [
        "\r",
        "Done image 142 of 2000 (avg time: 0.614840387464 secs --- remaining: 19:1)"
       ]
      },
      {
       "output_type": "stream",
       "stream": "stdout",
       "text": [
        "\r",
        "Done image 143 of 2000 (avg time: 0.610572030147 secs --- remaining: 18:53)"
       ]
      },
      {
       "output_type": "stream",
       "stream": "stdout",
       "text": [
        "\r",
        "Done image 144 of 2000 (avg time: 0.606362541791 secs --- remaining: 18:44)"
       ]
      },
      {
       "output_type": "stream",
       "stream": "stdout",
       "text": [
        "\r",
        "Done image 145 of 2000 (avg time: 0.602210756851 secs --- remaining: 18:36)"
       ]
      },
      {
       "output_type": "stream",
       "stream": "stdout",
       "text": [
        "\r",
        "Done image 146 of 2000 (avg time: 0.598115445805 secs --- remaining: 18:28)"
       ]
      },
      {
       "output_type": "stream",
       "stream": "stdout",
       "text": [
        "\r",
        "Done image 147 of 2000 (avg time: 0.594075430084 secs --- remaining: 18:20)"
       ]
      },
      {
       "output_type": "stream",
       "stream": "stdout",
       "text": [
        "\r",
        "Done image 148 of 2000 (avg time: 0.590089138722 secs --- remaining: 18:12)"
       ]
      },
      {
       "output_type": "stream",
       "stream": "stdout",
       "text": [
        "\r",
        "Done image 149 of 2000 (avg time: 0.586155997912 secs --- remaining: 18:4)"
       ]
      },
      {
       "output_type": "stream",
       "stream": "stdout",
       "text": [
        "\r",
        "Done image 150 of 2000 (avg time: 0.582274937472 secs --- remaining: 17:56)"
       ]
      },
      {
       "output_type": "stream",
       "stream": "stdout",
       "text": [
        "\r",
        "Done image 151 of 2000 (avg time: 0.578444951459 secs --- remaining: 17:48)"
       ]
      },
      {
       "output_type": "stream",
       "stream": "stdout",
       "text": [
        "\r",
        "Done image 152 of 2000 (avg time: 0.57466502439 secs --- remaining: 17:41)"
       ]
      },
      {
       "output_type": "stream",
       "stream": "stdout",
       "text": [
        "\r",
        "Done image 153 of 2000 (avg time: 0.570934185734 secs --- remaining: 17:33)"
       ]
      },
      {
       "output_type": "stream",
       "stream": "stdout",
       "text": [
        "\r",
        "Done image 154 of 2000 (avg time: 0.567251609987 secs --- remaining: 17:26)"
       ]
      },
      {
       "output_type": "stream",
       "stream": "stdout",
       "text": [
        "\r",
        "Done image 155 of 2000 (avg time: 0.563616126012 secs --- remaining: 17:19)"
       ]
      },
      {
       "output_type": "stream",
       "stream": "stdout",
       "text": [
        "\r",
        "Done image 156 of 2000 (avg time: 0.56002694786 secs --- remaining: 17:12)"
       ]
      },
      {
       "output_type": "stream",
       "stream": "stdout",
       "text": [
        "\r",
        "Done image 157 of 2000 (avg time: 0.556483194798 secs --- remaining: 17:5)"
       ]
      },
      {
       "output_type": "stream",
       "stream": "stdout",
       "text": [
        "\r",
        "Done image 158 of 2000 (avg time: 0.552984030742 secs --- remaining: 16:58)"
       ]
      },
      {
       "output_type": "stream",
       "stream": "stdout",
       "text": [
        "\r",
        "Done image 159 of 2000 (avg time: 0.549528592825 secs --- remaining: 16:51)"
       ]
      },
      {
       "output_type": "stream",
       "stream": "stdout",
       "text": [
        "\r",
        "Done image 160 of 2000 (avg time: 0.546116087007 secs --- remaining: 16:44)"
       ]
      },
      {
       "output_type": "stream",
       "stream": "stdout",
       "text": [
        "\r",
        "Done image 161 of 2000 (avg time: 0.542745703532 secs --- remaining: 16:37)"
       ]
      },
      {
       "output_type": "stream",
       "stream": "stdout",
       "text": [
        "\r",
        "Done image 162 of 2000 (avg time: 0.539416680307 secs --- remaining: 16:30)"
       ]
      },
      {
       "output_type": "stream",
       "stream": "stdout",
       "text": [
        "\r",
        "Done image 163 of 2000 (avg time: 0.536128250564 secs --- remaining: 16:24)"
       ]
      },
      {
       "output_type": "stream",
       "stream": "stdout",
       "text": [
        "\r",
        "Done image 164 of 2000 (avg time: 0.532879679131 secs --- remaining: 16:17)"
       ]
      },
      {
       "output_type": "stream",
       "stream": "stdout",
       "text": [
        "\r",
        "Done image 165 of 2000 (avg time: 0.529670254294 secs --- remaining: 16:11)"
       ]
      },
      {
       "output_type": "stream",
       "stream": "stdout",
       "text": [
        "\r",
        "Done image 166 of 2000 (avg time: 0.526499311367 secs --- remaining: 16:5)"
       ]
      },
      {
       "output_type": "stream",
       "stream": "stdout",
       "text": [
        "\r",
        "Done image 167 of 2000 (avg time: 0.523366065252 secs --- remaining: 15:58)"
       ]
      },
      {
       "output_type": "stream",
       "stream": "stdout",
       "text": [
        "\r",
        "Done image 168 of 2000 (avg time: 0.520269900384 secs --- remaining: 15:52)"
       ]
      },
      {
       "output_type": "stream",
       "stream": "stdout",
       "text": [
        "\r",
        "Done image 169 of 2000 (avg time: 0.517210153972 secs --- remaining: 15:46)"
       ]
      },
      {
       "output_type": "stream",
       "stream": "stdout",
       "text": [
        "\r",
        "Done image 170 of 2000 (avg time: 0.514186199646 secs --- remaining: 15:40)"
       ]
      },
      {
       "output_type": "stream",
       "stream": "stdout",
       "text": [
        "\r",
        "Done image 171 of 2000 (avg time: 0.511197431143 secs --- remaining: 15:34)"
       ]
      },
      {
       "output_type": "stream",
       "stream": "stdout",
       "text": [
        "\r",
        "Done image 172 of 2000 (avg time: 0.508243196962 secs --- remaining: 15:28)"
       ]
      },
      {
       "output_type": "stream",
       "stream": "stdout",
       "text": [
        "\r",
        "Done image 173 of 2000 (avg time: 0.505322907163 secs --- remaining: 15:22)"
       ]
      },
      {
       "output_type": "stream",
       "stream": "stdout",
       "text": [
        "\r",
        "Done image 174 of 2000 (avg time: 0.502436005729 secs --- remaining: 15:16)"
       ]
      },
      {
       "output_type": "stream",
       "stream": "stdout",
       "text": [
        "\r",
        "Done image 175 of 2000 (avg time: 0.499581903219 secs --- remaining: 15:11)"
       ]
      },
      {
       "output_type": "stream",
       "stream": "stdout",
       "text": [
        "\r",
        "Done image 176 of 2000 (avg time: 0.496760045068 secs --- remaining: 15:5)"
       ]
      },
      {
       "output_type": "stream",
       "stream": "stdout",
       "text": [
        "\r",
        "Done image 177 of 2000 (avg time: 0.493969893188 secs --- remaining: 15:0)"
       ]
      },
      {
       "output_type": "stream",
       "stream": "stdout",
       "text": [
        "\r",
        "Done image 178 of 2000 (avg time: 0.491210916189 secs --- remaining: 14:54)"
       ]
      },
      {
       "output_type": "stream",
       "stream": "stdout",
       "text": [
        "\r",
        "Done image 179 of 2000 (avg time: 0.488482599788 secs --- remaining: 14:49)"
       ]
      },
      {
       "output_type": "stream",
       "stream": "stdout",
       "text": [
        "\r",
        "Done image 180 of 2000 (avg time: 0.48578446873 secs --- remaining: 14:43)"
       ]
      },
      {
       "output_type": "stream",
       "stream": "stdout",
       "text": [
        "\r",
        "Done image 181 of 2000 (avg time: 0.483115944234 secs --- remaining: 14:38)"
       ]
      },
      {
       "output_type": "stream",
       "stream": "stdout",
       "text": [
        "\r",
        "Done image 182 of 2000 (avg time: 0.480476583939 secs --- remaining: 14:33)"
       ]
      },
      {
       "output_type": "stream",
       "stream": "stdout",
       "text": [
        "\r",
        "Done image 183 of 2000 (avg time: 0.477865912344 secs --- remaining: 14:27)"
       ]
      },
      {
       "output_type": "stream",
       "stream": "stdout",
       "text": [
        "\r",
        "Done image 184 of 2000 (avg time: 0.475283469381 secs --- remaining: 14:22)"
       ]
      },
      {
       "output_type": "stream",
       "stream": "stdout",
       "text": [
        "\r",
        "Done image 185 of 2000 (avg time: 0.472728789494 secs --- remaining: 14:17)"
       ]
      },
      {
       "output_type": "stream",
       "stream": "stdout",
       "text": [
        "\r",
        "Done image 186 of 2000 (avg time: 0.470201437486 secs --- remaining: 14:12)"
       ]
      },
      {
       "output_type": "stream",
       "stream": "stdout",
       "text": [
        "\r",
        "Done image 187 of 2000 (avg time: 0.467700967129 secs --- remaining: 14:7)"
       ]
      },
      {
       "output_type": "stream",
       "stream": "stdout",
       "text": [
        "\r",
        "Done image 188 of 2000 (avg time: 0.465226961822 secs --- remaining: 14:2)"
       ]
      },
      {
       "output_type": "stream",
       "stream": "stdout",
       "text": [
        "\r",
        "Done image 189 of 2000 (avg time: 0.462778993657 secs --- remaining: 13:57)"
       ]
      },
      {
       "output_type": "stream",
       "stream": "stdout",
       "text": [
        "\r",
        "Done image 190 of 2000 (avg time: 0.460356658666 secs --- remaining: 13:52)"
       ]
      },
      {
       "output_type": "stream",
       "stream": "stdout",
       "text": [
        "\r",
        "Done image 191 of 2000 (avg time: 0.457959561298 secs --- remaining: 13:47)"
       ]
      },
      {
       "output_type": "stream",
       "stream": "stdout",
       "text": [
        "\r",
        "Done image 192 of 2000 (avg time: 0.455587299377 secs --- remaining: 13:43)"
       ]
      },
      {
       "output_type": "stream",
       "stream": "stdout",
       "text": [
        "\r",
        "Done image 193 of 2000 (avg time: 0.453239498679 secs --- remaining: 13:38)"
       ]
      },
      {
       "output_type": "stream",
       "stream": "stdout",
       "text": [
        "\r",
        "Done image 194 of 2000 (avg time: 0.450915777989 secs --- remaining: 13:33)"
       ]
      },
      {
       "output_type": "stream",
       "stream": "stdout",
       "text": [
        "\r",
        "Done image 195 of 2000 (avg time: 0.448615768734 secs --- remaining: 13:29)"
       ]
      },
      {
       "output_type": "stream",
       "stream": "stdout",
       "text": [
        "\r",
        "Done image 196 of 2000 (avg time: 0.446339196965 secs --- remaining: 13:24)"
       ]
      },
      {
       "output_type": "stream",
       "stream": "stdout",
       "text": [
        "\r",
        "Done image 197 of 2000 (avg time: 0.444085529356 secs --- remaining: 13:20)"
       ]
      },
      {
       "output_type": "stream",
       "stream": "stdout",
       "text": [
        "\r",
        "Done image 198 of 2000 (avg time: 0.441854516465 secs --- remaining: 13:15)"
       ]
      },
      {
       "output_type": "stream",
       "stream": "stdout",
       "text": [
        "\r",
        "Done image 199 of 2000 (avg time: 0.439645808935 secs --- remaining: 13:11)"
       ]
      },
      {
       "output_type": "stream",
       "stream": "stdout",
       "text": [
        "\r",
        "Done image 200 of 2000 (avg time: 0.437459083339 secs --- remaining: 13:6)"
       ]
      },
      {
       "output_type": "stream",
       "stream": "stdout",
       "text": [
        "\r",
        "Done image 201 of 2000 (avg time: 0.435294013212 secs --- remaining: 13:2)"
       ]
      },
      {
       "output_type": "stream",
       "stream": "stdout",
       "text": [
        "\r",
        "Done image 202 of 2000 (avg time: 0.433150269128 secs --- remaining: 12:58)"
       ]
      },
      {
       "output_type": "stream",
       "stream": "stdout",
       "text": [
        "\r",
        "Done image 203 of 2000 (avg time: 0.43102757136 secs --- remaining: 12:54)"
       ]
      },
      {
       "output_type": "stream",
       "stream": "stdout",
       "text": [
        "\r",
        "Done image 204 of 2000 (avg time: 0.428925558416 secs --- remaining: 12:49)"
       ]
      },
      {
       "output_type": "stream",
       "stream": "stdout",
       "text": [
        "\r",
        "Done image 205 of 2000 (avg time: 0.426843948735 secs --- remaining: 12:45)"
       ]
      },
      {
       "output_type": "stream",
       "stream": "stdout",
       "text": [
        "\r",
        "Done image 206 of 2000 (avg time: 0.424782446617 secs --- remaining: 12:41)"
       ]
      },
      {
       "output_type": "stream",
       "stream": "stdout",
       "text": [
        "\r",
        "Done image 207 of 2000 (avg time: 0.42274077122 secs --- remaining: 12:37)"
       ]
      },
      {
       "output_type": "stream",
       "stream": "stdout",
       "text": [
        "\r",
        "Done image 208 of 2000 (avg time: 0.420718648217 secs --- remaining: 12:33)"
       ]
      },
      {
       "output_type": "stream",
       "stream": "stdout",
       "text": [
        "\r",
        "Done image 209 of 2000 (avg time: 0.418715774445 secs --- remaining: 12:29)"
       ]
      },
      {
       "output_type": "stream",
       "stream": "stdout",
       "text": [
        "\r",
        "Done image 210 of 2000 (avg time: 0.416731884129 secs --- remaining: 12:25)"
       ]
      },
      {
       "output_type": "stream",
       "stream": "stdout",
       "text": [
        "\r",
        "Done image 211 of 2000 (avg time: 0.414766705261 secs --- remaining: 12:21)"
       ]
      },
      {
       "output_type": "stream",
       "stream": "stdout",
       "text": [
        "\r",
        "Done image 212 of 2000 (avg time: 0.412819978777 secs --- remaining: 12:17)"
       ]
      },
      {
       "output_type": "stream",
       "stream": "stdout",
       "text": [
        "\r",
        "Done image 213 of 2000 (avg time: 0.410891445998 secs --- remaining: 12:13)"
       ]
      },
      {
       "output_type": "stream",
       "stream": "stdout",
       "text": [
        "\r",
        "Done image 214 of 2000 (avg time: 0.408980867475 secs --- remaining: 12:10)"
       ]
      },
      {
       "output_type": "stream",
       "stream": "stdout",
       "text": [
        "\r",
        "Done image 215 of 2000 (avg time: 0.407087969559 secs --- remaining: 12:6)"
       ]
      },
      {
       "output_type": "stream",
       "stream": "stdout",
       "text": [
        "\r",
        "Done image 216 of 2000 (avg time: 0.405212518806 secs --- remaining: 12:2)"
       ]
      },
      {
       "output_type": "stream",
       "stream": "stdout",
       "text": [
        "\r",
        "Done image 217 of 2000 (avg time: 0.403354278398 secs --- remaining: 11:58)"
       ]
      },
      {
       "output_type": "stream",
       "stream": "stdout",
       "text": [
        "\r",
        "Done image 218 of 2000 (avg time: 0.401513002779 secs --- remaining: 11:55)"
       ]
      },
      {
       "output_type": "stream",
       "stream": "stdout",
       "text": [
        "\r",
        "Done image 219 of 2000 (avg time: 0.399688475782 secs --- remaining: 11:51)"
       ]
      },
      {
       "output_type": "stream",
       "stream": "stdout",
       "text": [
        "\r",
        "Done image 220 of 2000 (avg time: 0.397880482997 secs --- remaining: 11:47)"
       ]
      },
      {
       "output_type": "stream",
       "stream": "stdout",
       "text": [
        "\r",
        "Done image 221 of 2000 (avg time: 0.396088747291 secs --- remaining: 11:44)"
       ]
      },
      {
       "output_type": "stream",
       "stream": "stdout",
       "text": [
        "\r",
        "Done image 222 of 2000 (avg time: 0.394313116245 secs --- remaining: 11:40)"
       ]
      },
      {
       "output_type": "stream",
       "stream": "stdout",
       "text": [
        "\r",
        "Done image 223 of 2000 (avg time: 0.392553302859 secs --- remaining: 11:37)"
       ]
      },
      {
       "output_type": "stream",
       "stream": "stdout",
       "text": [
        "\r",
        "Done image 224 of 2000 (avg time: 0.390809133318 secs --- remaining: 11:33)"
       ]
      },
      {
       "output_type": "stream",
       "stream": "stdout",
       "text": [
        "\r",
        "Done image 225 of 2000 (avg time: 0.389080403125 secs --- remaining: 11:30)"
       ]
      },
      {
       "output_type": "stream",
       "stream": "stdout",
       "text": [
        "\r",
        "Done image 226 of 2000 (avg time: 0.387366908237 secs --- remaining: 11:26)"
       ]
      },
      {
       "output_type": "stream",
       "stream": "stdout",
       "text": [
        "\r",
        "Done image 227 of 2000 (avg time: 0.3856684576 secs --- remaining: 11:23)"
       ]
      },
      {
       "output_type": "stream",
       "stream": "stdout",
       "text": [
        "\r",
        "Done image 228 of 2000 (avg time: 0.383984813524 secs --- remaining: 11:20)"
       ]
      },
      {
       "output_type": "stream",
       "stream": "stdout",
       "text": [
        "\r",
        "Done image 229 of 2000 (avg time: 0.38231580983 secs --- remaining: 11:16)"
       ]
      },
      {
       "output_type": "stream",
       "stream": "stdout",
       "text": [
        "\r",
        "Done image 230 of 2000 (avg time: 0.380661269803 secs --- remaining: 11:13)"
       ]
      },
      {
       "output_type": "stream",
       "stream": "stdout",
       "text": [
        "\r",
        "Done image 231 of 2000 (avg time: 0.379020983803 secs --- remaining: 11:10)"
       ]
      },
      {
       "output_type": "stream",
       "stream": "stdout",
       "text": [
        "\r",
        "Done image 232 of 2000 (avg time: 0.377394773418 secs --- remaining: 11:6)"
       ]
      },
      {
       "output_type": "stream",
       "stream": "stdout",
       "text": [
        "\r",
        "Done image 233 of 2000 (avg time: 0.375782466342 secs --- remaining: 11:3)"
       ]
      },
      {
       "output_type": "stream",
       "stream": "stdout",
       "text": [
        "\r",
        "Done image 234 of 2000 (avg time: 0.374183902335 secs --- remaining: 11:0)"
       ]
      },
      {
       "output_type": "stream",
       "stream": "stdout",
       "text": [
        "\r",
        "Done image 235 of 2000 (avg time: 0.372598869316 secs --- remaining: 10:57)"
       ]
      },
      {
       "output_type": "stream",
       "stream": "stdout",
       "text": [
        "\r",
        "Done image 236 of 2000 (avg time: 0.371027199025 secs --- remaining: 10:54)"
       ]
      },
      {
       "output_type": "stream",
       "stream": "stdout",
       "text": [
        "\r",
        "Done image 237 of 2000 (avg time: 0.369468736048 secs --- remaining: 10:51)"
       ]
      },
      {
       "output_type": "stream",
       "stream": "stdout",
       "text": [
        "\r",
        "Done image 238 of 2000 (avg time: 0.367923314601 secs --- remaining: 10:47)"
       ]
      },
      {
       "output_type": "stream",
       "stream": "stdout",
       "text": [
        "\r",
        "Done image 239 of 2000 (avg time: 0.366390771667 secs --- remaining: 10:44)"
       ]
      },
      {
       "output_type": "stream",
       "stream": "stdout",
       "text": [
        "\r",
        "Done image 240 of 2000 (avg time: 0.364870959792 secs --- remaining: 10:41)"
       ]
      },
      {
       "output_type": "stream",
       "stream": "stdout",
       "text": [
        "\r",
        "Done image 241 of 2000 (avg time: 0.36336372411 secs --- remaining: 10:38)"
       ]
      },
      {
       "output_type": "stream",
       "stream": "stdout",
       "text": [
        "\r",
        "Done image 242 of 2000 (avg time: 0.36186888581 secs --- remaining: 10:35)"
       ]
      },
      {
       "output_type": "stream",
       "stream": "stdout",
       "text": [
        "\r",
        "Done image 243 of 2000 (avg time: 0.360386292465 secs --- remaining: 10:32)"
       ]
      },
      {
       "output_type": "stream",
       "stream": "stdout",
       "text": [
        "\r",
        "Done image 244 of 2000 (avg time: 0.358915850581 secs --- remaining: 10:29)"
       ]
      },
      {
       "output_type": "stream",
       "stream": "stdout",
       "text": [
        "\r",
        "Done image 245 of 2000 (avg time: 0.35745731505 secs --- remaining: 10:26)"
       ]
      },
      {
       "output_type": "stream",
       "stream": "stdout",
       "text": [
        "\r",
        "Done image 246 of 2000 (avg time: 0.356010597244 secs --- remaining: 10:24)"
       ]
      },
      {
       "output_type": "stream",
       "stream": "stdout",
       "text": [
        "\r",
        "Done image 247 of 2000 (avg time: 0.354575541712 secs --- remaining: 10:21)"
       ]
      },
      {
       "output_type": "stream",
       "stream": "stdout",
       "text": [
        "\r",
        "Done image 248 of 2000 (avg time: 0.353152005069 secs --- remaining: 10:18)"
       ]
      },
      {
       "output_type": "stream",
       "stream": "stdout",
       "text": [
        "\r",
        "Done image 249 of 2000 (avg time: 0.351739888191 secs --- remaining: 10:15)"
       ]
      },
      {
       "output_type": "stream",
       "stream": "stdout",
       "text": [
        "\r",
        "Done image 250 of 2000 (avg time: 0.350339023241 secs --- remaining: 10:12)"
       ]
      },
      {
       "output_type": "stream",
       "stream": "stdout",
       "text": [
        "\r",
        "Done image 251 of 2000 (avg time: 0.348949264912 secs --- remaining: 10:9)"
       ]
      },
      {
       "output_type": "stream",
       "stream": "stdout",
       "text": [
        "\r",
        "Done image 252 of 2000 (avg time: 0.347570473026 secs --- remaining: 10:7)"
       ]
      },
      {
       "output_type": "stream",
       "stream": "stdout",
       "text": [
        "\r",
        "Done image 253 of 2000 (avg time: 0.346202537769 secs --- remaining: 10:4)"
       ]
      },
      {
       "output_type": "stream",
       "stream": "stdout",
       "text": [
        "\r",
        "Done image 254 of 2000 (avg time: 0.344845358531 secs --- remaining: 10:1)"
       ]
      },
      {
       "output_type": "stream",
       "stream": "stdout",
       "text": [
        "\r",
        "Done image 255 of 2000 (avg time: 0.343498779461 secs --- remaining: 9:59)"
       ]
      },
      {
       "output_type": "stream",
       "stream": "stdout",
       "text": [
        "\r",
        "Done image 256 of 2000 (avg time: 0.342162679605 secs --- remaining: 9:56)"
       ]
      },
      {
       "output_type": "stream",
       "stream": "stdout",
       "text": [
        "\r",
        "Done image 257 of 2000 (avg time: 0.340836944506 secs --- remaining: 9:53)"
       ]
      },
      {
       "output_type": "stream",
       "stream": "stdout",
       "text": [
        "\r",
        "Done image 258 of 2000 (avg time: 0.339521446744 secs --- remaining: 9:51)"
       ]
      },
      {
       "output_type": "stream",
       "stream": "stdout",
       "text": [
        "\r",
        "Done image 259 of 2000 (avg time: 0.338216080115 secs --- remaining: 9:48)"
       ]
      },
      {
       "output_type": "stream",
       "stream": "stdout",
       "text": [
        "\r",
        "Done image 260 of 2000 (avg time: 0.336920708075 secs --- remaining: 9:45)"
       ]
      },
      {
       "output_type": "stream",
       "stream": "stdout",
       "text": [
        "\r",
        "Done image 261 of 2000 (avg time: 0.335635212542 secs --- remaining: 9:43)"
       ]
      },
      {
       "output_type": "stream",
       "stream": "stdout",
       "text": [
        "\r",
        "Done image 262 of 2000 (avg time: 0.334359508957 secs --- remaining: 9:40)"
       ]
      },
      {
       "output_type": "stream",
       "stream": "stdout",
       "text": [
        "\r",
        "Done image 263 of 2000 (avg time: 0.333093450828 secs --- remaining: 9:38)"
       ]
      },
      {
       "output_type": "stream",
       "stream": "stdout",
       "text": [
        "\r",
        "Done image 264 of 2000 (avg time: 0.331836947855 secs --- remaining: 9:35)"
       ]
      },
      {
       "output_type": "stream",
       "stream": "stdout",
       "text": [
        "\r",
        "Done image 265 of 2000 (avg time: 0.330589880621 secs --- remaining: 9:33)"
       ]
      },
      {
       "output_type": "stream",
       "stream": "stdout",
       "text": [
        "\r",
        "Done image 266 of 2000 (avg time: 0.329352158286 secs --- remaining: 9:30)"
       ]
      },
      {
       "output_type": "stream",
       "stream": "stdout",
       "text": [
        "\r",
        "Done image 267 of 2000 (avg time: 0.328123691367 secs --- remaining: 9:28)"
       ]
      },
      {
       "output_type": "stream",
       "stream": "stdout",
       "text": [
        "\r",
        "Done image 268 of 2000 (avg time: 0.326904339418 secs --- remaining: 9:25)"
       ]
      },
      {
       "output_type": "stream",
       "stream": "stdout",
       "text": [
        "\r",
        "Done image 269 of 2000 (avg time: 0.325694004695 secs --- remaining: 9:23)"
       ]
      },
      {
       "output_type": "stream",
       "stream": "stdout",
       "text": [
        "\r",
        "Done image 270 of 2000 (avg time: 0.324492598812 secs --- remaining: 9:21)"
       ]
      },
      {
       "output_type": "stream",
       "stream": "stdout",
       "text": [
        "\r",
        "Done image 271 of 2000 (avg time: 0.323300033808 secs --- remaining: 9:18)"
       ]
      },
      {
       "output_type": "stream",
       "stream": "stdout",
       "text": [
        "\r",
        "Done image 272 of 2000 (avg time: 0.322116202051 secs --- remaining: 9:16)"
       ]
      },
      {
       "output_type": "stream",
       "stream": "stdout",
       "text": [
        "\r",
        "Done image 273 of 2000 (avg time: 0.320941011401 secs --- remaining: 9:13)"
       ]
      },
      {
       "output_type": "stream",
       "stream": "stdout",
       "text": [
        "\r",
        "Done image 274 of 2000 (avg time: 0.319774390134 secs --- remaining: 9:11)"
       ]
      },
      {
       "output_type": "stream",
       "stream": "stdout",
       "text": [
        "\r",
        "Done image 275 of 2000 (avg time: 0.318616200184 secs --- remaining: 9:9)"
       ]
      },
      {
       "output_type": "stream",
       "stream": "stdout",
       "text": [
        "\r",
        "Done image 276 of 2000 (avg time: 0.317466401882 secs --- remaining: 9:6)"
       ]
      },
      {
       "output_type": "stream",
       "stream": "stdout",
       "text": [
        "\r",
        "Done image 277 of 2000 (avg time: 0.31632484635 secs --- remaining: 9:4)"
       ]
      },
      {
       "output_type": "stream",
       "stream": "stdout",
       "text": [
        "\r",
        "Done image 278 of 2000 (avg time: 0.315191480849 secs --- remaining: 9:2)"
       ]
      },
      {
       "output_type": "stream",
       "stream": "stdout",
       "text": [
        "\r",
        "Done image 279 of 2000 (avg time: 0.314066204003 secs --- remaining: 9:0)"
       ]
      },
      {
       "output_type": "stream",
       "stream": "stdout",
       "text": [
        "\r",
        "Done image 280 of 2000 (avg time: 0.312948939639 secs --- remaining: 8:57)"
       ]
      },
      {
       "output_type": "stream",
       "stream": "stdout",
       "text": [
        "\r",
        "Done image 281 of 2000 (avg time: 0.311839617736 secs --- remaining: 8:55)"
       ]
      },
      {
       "output_type": "stream",
       "stream": "stdout",
       "text": [
        "\r",
        "Done image 282 of 2000 (avg time: 0.310738113659 secs --- remaining: 8:53)"
       ]
      },
      {
       "output_type": "stream",
       "stream": "stdout",
       "text": [
        "\r",
        "Done image 283 of 2000 (avg time: 0.309644370851 secs --- remaining: 8:51)"
       ]
      },
      {
       "output_type": "stream",
       "stream": "stdout",
       "text": [
        "\r",
        "Done image 284 of 2000 (avg time: 0.308558299249 secs --- remaining: 8:49)"
       ]
      },
      {
       "output_type": "stream",
       "stream": "stdout",
       "text": [
        "\r",
        "Done image 285 of 2000 (avg time: 0.307479825887 secs --- remaining: 8:47)"
       ]
      },
      {
       "output_type": "stream",
       "stream": "stdout",
       "text": [
        "\r",
        "Done image 286 of 2000 (avg time: 0.306408865527 secs --- remaining: 8:44)"
       ]
      },
      {
       "output_type": "stream",
       "stream": "stdout",
       "text": [
        "\r",
        "Done image 287 of 2000 (avg time: 0.305345341563 secs --- remaining: 8:42)"
       ]
      },
      {
       "output_type": "stream",
       "stream": "stdout",
       "text": [
        "\r",
        "Done image 288 of 2000 (avg time: 0.304289194952 secs --- remaining: 8:40)"
       ]
      },
      {
       "output_type": "stream",
       "stream": "stdout",
       "text": [
        "\r",
        "Done image 289 of 2000 (avg time: 0.303240310735 secs --- remaining: 8:38)"
       ]
      },
      {
       "output_type": "stream",
       "stream": "stdout",
       "text": [
        "\r",
        "Done image 290 of 2000 (avg time: 0.302198643537 secs --- remaining: 8:36)"
       ]
      },
      {
       "output_type": "stream",
       "stream": "stdout",
       "text": [
        "\r",
        "Done image 291 of 2000 (avg time: 0.301164103697 secs --- remaining: 8:34)"
       ]
      },
      {
       "output_type": "stream",
       "stream": "stdout",
       "text": [
        "\r",
        "Done image 292 of 2000 (avg time: 0.300136628818 secs --- remaining: 8:32)"
       ]
      },
      {
       "output_type": "stream",
       "stream": "stdout",
       "text": [
        "\r",
        "Done image 293 of 2000 (avg time: 0.29911614032 secs --- remaining: 8:30)"
       ]
      },
      {
       "output_type": "stream",
       "stream": "stdout",
       "text": [
        "\r",
        "Done image 294 of 2000 (avg time: 0.298102570388 secs --- remaining: 8:28)"
       ]
      },
      {
       "output_type": "stream",
       "stream": "stdout",
       "text": [
        "\r",
        "Done image 295 of 2000 (avg time: 0.29709587226 secs --- remaining: 8:26)"
       ]
      },
      {
       "output_type": "stream",
       "stream": "stdout",
       "text": [
        "\r",
        "Done image 296 of 2000 (avg time: 0.296095933176 secs --- remaining: 8:24)"
       ]
      },
      {
       "output_type": "stream",
       "stream": "stdout",
       "text": [
        "\r",
        "Done image 297 of 2000 (avg time: 0.295102709092 secs --- remaining: 8:22)"
       ]
      },
      {
       "output_type": "stream",
       "stream": "stdout",
       "text": [
        "\r",
        "Done image 298 of 2000 (avg time: 0.294116121471 secs --- remaining: 8:20)"
       ]
      },
      {
       "output_type": "stream",
       "stream": "stdout",
       "text": [
        "\r",
        "Done image 299 of 2000 (avg time: 0.293136118253 secs --- remaining: 8:18)"
       ]
      },
      {
       "output_type": "stream",
       "stream": "stdout",
       "text": [
        "\r",
        "Done image 300 of 2000 (avg time: 0.292162622724 secs --- remaining: 8:16)"
       ]
      },
      {
       "output_type": "stream",
       "stream": "stdout",
       "text": [
        "\r",
        "Done image 301 of 2000 (avg time: 0.291195571028 secs --- remaining: 8:14)"
       ]
      },
      {
       "output_type": "stream",
       "stream": "stdout",
       "text": [
        "\r",
        "Done image 302 of 2000 (avg time: 0.29023492533 secs --- remaining: 8:12)"
       ]
      },
      {
       "output_type": "stream",
       "stream": "stdout",
       "text": [
        "\r",
        "Done image 303 of 2000 (avg time: 0.289280580063 secs --- remaining: 8:10)"
       ]
      },
      {
       "output_type": "stream",
       "stream": "stdout",
       "text": [
        "\r",
        "Done image 304 of 2000 (avg time: 0.288332515466 secs --- remaining: 8:8)"
       ]
      },
      {
       "output_type": "stream",
       "stream": "stdout",
       "text": [
        "\r",
        "Done image 305 of 2000 (avg time: 0.287390631788 secs --- remaining: 8:6)"
       ]
      },
      {
       "output_type": "stream",
       "stream": "stdout",
       "text": [
        "\r",
        "Done image 306 of 2000 (avg time: 0.286454884159 secs --- remaining: 8:4)"
       ]
      },
      {
       "output_type": "stream",
       "stream": "stdout",
       "text": [
        "\r",
        "Done image 307 of 2000 (avg time: 0.285525208944 secs --- remaining: 8:3)"
       ]
      },
      {
       "output_type": "stream",
       "stream": "stdout",
       "text": [
        "\r",
        "Done image 308 of 2000 (avg time: 0.284601547957 secs --- remaining: 8:1)"
       ]
      },
      {
       "output_type": "stream",
       "stream": "stdout",
       "text": [
        "\r",
        "Done image 309 of 2000 (avg time: 0.283683865301 secs --- remaining: 7:59)"
       ]
      },
      {
       "output_type": "stream",
       "stream": "stdout",
       "text": [
        "\r",
        "Done image 310 of 2000 (avg time: 0.282772061909 secs --- remaining: 7:57)"
       ]
      },
      {
       "output_type": "stream",
       "stream": "stdout",
       "text": [
        "\r",
        "Done image 311 of 2000 (avg time: 0.281866103411 secs --- remaining: 7:55)"
       ]
      },
      {
       "output_type": "stream",
       "stream": "stdout",
       "text": [
        "\r",
        "Done image 312 of 2000 (avg time: 0.280965930738 secs --- remaining: 7:53)"
       ]
      },
      {
       "output_type": "stream",
       "stream": "stdout",
       "text": [
        "\r",
        "Done image 313 of 2000 (avg time: 0.28007150076 secs --- remaining: 7:52)"
       ]
      },
      {
       "output_type": "stream",
       "stream": "stdout",
       "text": [
        "\r",
        "Done image 314 of 2000 (avg time: 0.279182743648 secs --- remaining: 7:50)"
       ]
      },
      {
       "output_type": "stream",
       "stream": "stdout",
       "text": [
        "\r",
        "Done image 315 of 2000 (avg time: 0.278299611581 secs --- remaining: 7:48)"
       ]
      },
      {
       "output_type": "stream",
       "stream": "stdout",
       "text": [
        "\r",
        "Done image 316 of 2000 (avg time: 0.277422076144 secs --- remaining: 7:46)"
       ]
      },
      {
       "output_type": "stream",
       "stream": "stdout",
       "text": [
        "\r",
        "Done image 317 of 2000 (avg time: 0.276550035057 secs --- remaining: 7:45)"
       ]
      },
      {
       "output_type": "stream",
       "stream": "stdout",
       "text": [
        "\r",
        "Done image 318 of 2000 (avg time: 0.275683511387 secs --- remaining: 7:43)"
       ]
      },
      {
       "output_type": "stream",
       "stream": "stdout",
       "text": [
        "\r",
        "Done image 319 of 2000 (avg time: 0.274822356552 secs --- remaining: 7:41)"
       ]
      },
      {
       "output_type": "stream",
       "stream": "stdout",
       "text": [
        "\r",
        "Done image 320 of 2000 (avg time: 0.273966570138 secs --- remaining: 7:39)"
       ]
      },
      {
       "output_type": "stream",
       "stream": "stdout",
       "text": [
        "\r",
        "Done image 321 of 2000 (avg time: 0.273116096206 secs --- remaining: 7:38)"
       ]
      },
      {
       "output_type": "stream",
       "stream": "stdout",
       "text": [
        "\r",
        "Done image 322 of 2000 (avg time: 0.272270889105 secs --- remaining: 7:36)"
       ]
      },
      {
       "output_type": "stream",
       "stream": "stdout",
       "text": [
        "\r",
        "Done image 323 of 2000 (avg time: 0.271430922879 secs --- remaining: 7:34)"
       ]
      },
      {
       "output_type": "stream",
       "stream": "stdout",
       "text": [
        "\r",
        "Done image 324 of 2000 (avg time: 0.270596101467 secs --- remaining: 7:33)"
       ]
      },
      {
       "output_type": "stream",
       "stream": "stdout",
       "text": [
        "\r",
        "Done image 325 of 2000 (avg time: 0.269766401659 secs --- remaining: 7:31)"
       ]
      },
      {
       "output_type": "stream",
       "stream": "stdout",
       "text": [
        "\r",
        "Done image 326 of 2000 (avg time: 0.268941779385 secs --- remaining: 7:29)"
       ]
      },
      {
       "output_type": "stream",
       "stream": "stdout",
       "text": [
        "\r",
        "Done image 327 of 2000 (avg time: 0.268122185294 secs --- remaining: 7:28)"
       ]
      },
      {
       "output_type": "stream",
       "stream": "stdout",
       "text": [
        "\r",
        "Done image 328 of 2000 (avg time: 0.26730757064 secs --- remaining: 7:26)"
       ]
      },
      {
       "output_type": "stream",
       "stream": "stdout",
       "text": [
        "\r",
        "Done image 329 of 2000 (avg time: 0.266497893044 secs --- remaining: 7:25)"
       ]
      },
      {
       "output_type": "stream",
       "stream": "stdout",
       "text": [
        "\r",
        "Done image 330 of 2000 (avg time: 0.265693128649 secs --- remaining: 7:23)"
       ]
      },
      {
       "output_type": "stream",
       "stream": "stdout",
       "text": [
        "\r",
        "Done image 331 of 2000 (avg time: 0.264893194997 secs --- remaining: 7:21)"
       ]
      },
      {
       "output_type": "stream",
       "stream": "stdout",
       "text": [
        "\r",
        "Done image 332 of 2000 (avg time: 0.264098065751 secs --- remaining: 7:20)"
       ]
      },
      {
       "output_type": "stream",
       "stream": "stdout",
       "text": [
        "\r",
        "Done image 333 of 2000 (avg time: 0.26330769419 secs --- remaining: 7:18)"
       ]
      },
      {
       "output_type": "stream",
       "stream": "stdout",
       "text": [
        "\r",
        "Done image 334 of 2000 (avg time: 0.262522041264 secs --- remaining: 7:17)"
       ]
      },
      {
       "output_type": "stream",
       "stream": "stdout",
       "text": [
        "\r",
        "Done image 335 of 2000 (avg time: 0.261741064844 secs --- remaining: 7:15)"
       ]
      },
      {
       "output_type": "stream",
       "stream": "stdout",
       "text": [
        "\r",
        "Done image 336 of 2000 (avg time: 0.260964723298 secs --- remaining: 7:13)"
       ]
      },
      {
       "output_type": "stream",
       "stream": "stdout",
       "text": [
        "\r",
        "Done image 337 of 2000 (avg time: 0.26019297549 secs --- remaining: 7:12)"
       ]
      },
      {
       "output_type": "stream",
       "stream": "stdout",
       "text": [
        "\r",
        "Done image 338 of 2000 (avg time: 0.259425777953 secs --- remaining: 7:10)"
       ]
      },
      {
       "output_type": "stream",
       "stream": "stdout",
       "text": [
        "\r",
        "Done image 339 of 2000 (avg time: 0.258663098952 secs --- remaining: 7:9)"
       ]
      },
      {
       "output_type": "stream",
       "stream": "stdout",
       "text": [
        "\r",
        "Done image 340 of 2000 (avg time: 0.257904893142 secs --- remaining: 7:7)"
       ]
      },
      {
       "output_type": "stream",
       "stream": "stdout",
       "text": [
        "\r",
        "Done image 341 of 2000 (avg time: 0.257151126862 secs --- remaining: 7:6)"
       ]
      },
      {
       "output_type": "stream",
       "stream": "stdout",
       "text": [
        "\r",
        "Done image 342 of 2000 (avg time: 0.256401752939 secs --- remaining: 7:4)"
       ]
      },
      {
       "output_type": "stream",
       "stream": "stdout",
       "text": [
        "\r",
        "Done image 343 of 2000 (avg time: 0.255656745545 secs --- remaining: 7:3)"
       ]
      },
      {
       "output_type": "stream",
       "stream": "stdout",
       "text": [
        "\r",
        "Done image 344 of 2000 (avg time: 0.254916056343 secs --- remaining: 7:1)"
       ]
      },
      {
       "output_type": "stream",
       "stream": "stdout",
       "text": [
        "\r",
        "Done image 345 of 2000 (avg time: 0.254179645825 secs --- remaining: 7:0)"
       ]
      },
      {
       "output_type": "stream",
       "stream": "stdout",
       "text": [
        "\r",
        "Done image 346 of 2000 (avg time: 0.253447491429 secs --- remaining: 6:58)"
       ]
      },
      {
       "output_type": "stream",
       "stream": "stdout",
       "text": [
        "\r",
        "Done image 347 of 2000 (avg time: 0.252719567425 secs --- remaining: 6:57)"
       ]
      },
      {
       "output_type": "stream",
       "stream": "stdout",
       "text": [
        "\r",
        "Done image 348 of 2000 (avg time: 0.251995792362 secs --- remaining: 6:56)"
       ]
      },
      {
       "output_type": "stream",
       "stream": "stdout",
       "text": [
        "\r",
        "Done image 349 of 2000 (avg time: 0.251276155881 secs --- remaining: 6:54)"
       ]
      },
      {
       "output_type": "stream",
       "stream": "stdout",
       "text": [
        "\r",
        "Done image 350 of 2000 (avg time: 0.250560634157 secs --- remaining: 6:53)"
       ]
      },
      {
       "output_type": "stream",
       "stream": "stdout",
       "text": [
        "\r",
        "Done image 351 of 2000 (avg time: 0.249849152159 secs --- remaining: 6:51)"
       ]
      },
      {
       "output_type": "stream",
       "stream": "stdout",
       "text": [
        "\r",
        "Done image 352 of 2000 (avg time: 0.249141693115 secs --- remaining: 6:50)"
       ]
      },
      {
       "output_type": "stream",
       "stream": "stdout",
       "text": [
        "\r",
        "Done image 353 of 2000 (avg time: 0.248438236404 secs --- remaining: 6:48)"
       ]
      },
      {
       "output_type": "stream",
       "stream": "stdout",
       "text": [
        "\r",
        "Done image 354 of 2000 (avg time: 0.247738737456 secs --- remaining: 6:47)"
       ]
      },
      {
       "output_type": "stream",
       "stream": "stdout",
       "text": [
        "\r",
        "Done image 355 of 2000 (avg time: 0.247043168277 secs --- remaining: 6:46)"
       ]
      },
      {
       "output_type": "stream",
       "stream": "stdout",
       "text": [
        "\r",
        "Done image 356 of 2000 (avg time: 0.246351495844 secs --- remaining: 6:44)"
       ]
      },
      {
       "output_type": "stream",
       "stream": "stdout",
       "text": [
        "\r",
        "Done image 357 of 2000 (avg time: 0.245663690167 secs --- remaining: 6:43)"
       ]
      },
      {
       "output_type": "stream",
       "stream": "stdout",
       "text": [
        "\r",
        "Done image 358 of 2000 (avg time: 0.2449797103 secs --- remaining: 6:42)"
       ]
      },
      {
       "output_type": "stream",
       "stream": "stdout",
       "text": [
        "\r",
        "Done image 359 of 2000 (avg time: 0.244299527672 secs --- remaining: 6:40)"
       ]
      },
      {
       "output_type": "stream",
       "stream": "stdout",
       "text": [
        "\r",
        "Done image 360 of 2000 (avg time: 0.243623168845 secs --- remaining: 6:39)"
       ]
      },
      {
       "output_type": "stream",
       "stream": "stdout",
       "text": [
        "\r",
        "Done image 361 of 2000 (avg time: 0.242950497411 secs --- remaining: 6:37)"
       ]
      },
      {
       "output_type": "stream",
       "stream": "stdout",
       "text": [
        "\r",
        "Done image 362 of 2000 (avg time: 0.242281534127 secs --- remaining: 6:36)"
       ]
      },
      {
       "output_type": "stream",
       "stream": "stdout",
       "text": [
        "\r",
        "Done image 363 of 2000 (avg time: 0.241616244499 secs --- remaining: 6:35)"
       ]
      },
      {
       "output_type": "stream",
       "stream": "stdout",
       "text": [
        "\r",
        "Done image 364 of 2000 (avg time: 0.240954600295 secs --- remaining: 6:33)"
       ]
      },
      {
       "output_type": "stream",
       "stream": "stdout",
       "text": [
        "\r",
        "Done image 365 of 2000 (avg time: 0.240296568375 secs --- remaining: 6:32)"
       ]
      },
      {
       "output_type": "stream",
       "stream": "stdout",
       "text": [
        "\r",
        "Done image 366 of 2000 (avg time: 0.239642122461 secs --- remaining: 6:31)"
       ]
      },
      {
       "output_type": "stream",
       "stream": "stdout",
       "text": [
        "\r",
        "Done image 367 of 2000 (avg time: 0.238991252106 secs --- remaining: 6:30)"
       ]
      },
      {
       "output_type": "stream",
       "stream": "stdout",
       "text": [
        "\r",
        "Done image 368 of 2000 (avg time: 0.238343890766 secs --- remaining: 6:28)"
       ]
      },
      {
       "output_type": "stream",
       "stream": "stdout",
       "text": [
        "\r",
        "Done image 369 of 2000 (avg time: 0.237700028677 secs --- remaining: 6:27)"
       ]
      },
      {
       "output_type": "stream",
       "stream": "stdout",
       "text": [
        "\r",
        "Done image 370 of 2000 (avg time: 0.237059635615 secs --- remaining: 6:26)"
       ]
      },
      {
       "output_type": "stream",
       "stream": "stdout",
       "text": [
        "\r",
        "Done image 371 of 2000 (avg time: 0.236422690653 secs --- remaining: 6:24)"
       ]
      },
      {
       "output_type": "stream",
       "stream": "stdout",
       "text": [
        "\r",
        "Done image 372 of 2000 (avg time: 0.235789160946 secs --- remaining: 6:23)"
       ]
      },
      {
       "output_type": "stream",
       "stream": "stdout",
       "text": [
        "\r",
        "Done image 373 of 2000 (avg time: 0.235159013998 secs --- remaining: 6:22)"
       ]
      },
      {
       "output_type": "stream",
       "stream": "stdout",
       "text": [
        "\r",
        "Done image 374 of 2000 (avg time: 0.234532232285 secs --- remaining: 6:21)"
       ]
      },
      {
       "output_type": "stream",
       "stream": "stdout",
       "text": [
        "\r",
        "Done image 375 of 2000 (avg time: 0.233908776907 secs --- remaining: 6:19)"
       ]
      },
      {
       "output_type": "stream",
       "stream": "stdout",
       "text": [
        "\r",
        "Done image 376 of 2000 (avg time: 0.233288637207 secs --- remaining: 6:18)"
       ]
      },
      {
       "output_type": "stream",
       "stream": "stdout",
       "text": [
        "\r",
        "Done image 377 of 2000 (avg time: 0.232671778038 secs --- remaining: 6:17)"
       ]
      },
      {
       "output_type": "stream",
       "stream": "stdout",
       "text": [
        "\r",
        "Done image 378 of 2000 (avg time: 0.232058176579 secs --- remaining: 6:16)"
       ]
      },
      {
       "output_type": "stream",
       "stream": "stdout",
       "text": [
        "\r",
        "Done image 379 of 2000 (avg time: 0.231447804602 secs --- remaining: 6:14)"
       ]
      },
      {
       "output_type": "stream",
       "stream": "stdout",
       "text": [
        "\r",
        "Done image 380 of 2000 (avg time: 0.230840634799 secs --- remaining: 6:13)"
       ]
      },
      {
       "output_type": "stream",
       "stream": "stdout",
       "text": [
        "\r",
        "Done image 381 of 2000 (avg time: 0.230236646393 secs --- remaining: 6:12)"
       ]
      },
      {
       "output_type": "stream",
       "stream": "stdout",
       "text": [
        "\r",
        "Done image 382 of 2000 (avg time: 0.229635814463 secs --- remaining: 6:11)"
       ]
      },
      {
       "output_type": "stream",
       "stream": "stdout",
       "text": [
        "\r",
        "Done image 383 of 2000 (avg time: 0.229038111866 secs --- remaining: 6:10)"
       ]
      },
      {
       "output_type": "stream",
       "stream": "stdout",
       "text": [
        "\r",
        "Done image 384 of 2000 (avg time: 0.228443529699 secs --- remaining: 6:8)"
       ]
      },
      {
       "output_type": "stream",
       "stream": "stdout",
       "text": [
        "\r",
        "Done image 385 of 2000 (avg time: 0.227852015298 secs --- remaining: 6:7)"
       ]
      },
      {
       "output_type": "stream",
       "stream": "stdout",
       "text": [
        "\r",
        "Done image 386 of 2000 (avg time: 0.227263571372 secs --- remaining: 6:6)"
       ]
      },
      {
       "output_type": "stream",
       "stream": "stdout",
       "text": [
        "\r",
        "Done image 387 of 2000 (avg time: 0.226678139156 secs --- remaining: 6:5)"
       ]
      },
      {
       "output_type": "stream",
       "stream": "stdout",
       "text": [
        "\r",
        "Done image 388 of 2000 (avg time: 0.226095719938 secs --- remaining: 6:4)"
       ]
      },
      {
       "output_type": "stream",
       "stream": "stdout",
       "text": [
        "\r",
        "Done image 389 of 2000 (avg time: 0.225516282595 secs --- remaining: 6:3)"
       ]
      },
      {
       "output_type": "stream",
       "stream": "stdout",
       "text": [
        "\r",
        "Done image 390 of 2000 (avg time: 0.224939808516 secs --- remaining: 6:1)"
       ]
      },
      {
       "output_type": "stream",
       "stream": "stdout",
       "text": [
        "\r",
        "Done image 391 of 2000 (avg time: 0.224366275632 secs --- remaining: 6:0)"
       ]
      },
      {
       "output_type": "stream",
       "stream": "stdout",
       "text": [
        "\r",
        "Done image 392 of 2000 (avg time: 0.223795661489 secs --- remaining: 5:59)"
       ]
      },
      {
       "output_type": "stream",
       "stream": "stdout",
       "text": [
        "\r",
        "Done image 393 of 2000 (avg time: 0.223227943866 secs --- remaining: 5:58)"
       ]
      },
      {
       "output_type": "stream",
       "stream": "stdout",
       "text": [
        "\r",
        "Done image 394 of 2000 (avg time: 0.222663113437 secs --- remaining: 5:57)"
       ]
      },
      {
       "output_type": "stream",
       "stream": "stdout",
       "text": [
        "\r",
        "Done image 395 of 2000 (avg time: 0.222101120636 secs --- remaining: 5:56)"
       ]
      },
      {
       "output_type": "stream",
       "stream": "stdout",
       "text": [
        "\r",
        "Done image 396 of 2000 (avg time: 0.221541959032 secs --- remaining: 5:55)"
       ]
      },
      {
       "output_type": "stream",
       "stream": "stdout",
       "text": [
        "\r",
        "Done image 397 of 2000 (avg time: 0.220985607286 secs --- remaining: 5:54)"
       ]
      },
      {
       "output_type": "stream",
       "stream": "stdout",
       "text": [
        "\r",
        "Done image 398 of 2000 (avg time: 0.220432052039 secs --- remaining: 5:52)"
       ]
      },
      {
       "output_type": "stream",
       "stream": "stdout",
       "text": [
        "\r",
        "Done image 399 of 2000 (avg time: 0.21988127172 secs --- remaining: 5:51)"
       ]
      },
      {
       "output_type": "stream",
       "stream": "stdout",
       "text": [
        "\r",
        "Done image 400 of 2000 (avg time: 0.219333236057 secs --- remaining: 5:50)"
       ]
      },
      {
       "output_type": "stream",
       "stream": "stdout",
       "text": [
        "\r",
        "Done image 401 of 2000 (avg time: 0.218787944732 secs --- remaining: 5:49)"
       ]
      },
      {
       "output_type": "stream",
       "stream": "stdout",
       "text": [
        "\r",
        "Done image 402 of 2000 (avg time: 0.218245336495 secs --- remaining: 5:48)"
       ]
      },
      {
       "output_type": "stream",
       "stream": "stdout",
       "text": [
        "\r",
        "Done image 403 of 2000 (avg time: 0.217705420338 secs --- remaining: 5:47)"
       ]
      },
      {
       "output_type": "stream",
       "stream": "stdout",
       "text": [
        "\r",
        "Done image 404 of 2000 (avg time: 0.217168197514 secs --- remaining: 5:46)"
       ]
      },
      {
       "output_type": "stream",
       "stream": "stdout",
       "text": [
        "\r",
        "Done image 405 of 2000 (avg time: 0.216633593508 secs --- remaining: 5:45)"
       ]
      },
      {
       "output_type": "stream",
       "stream": "stdout",
       "text": [
        "\r",
        "Done image 406 of 2000 (avg time: 0.216101616548 secs --- remaining: 5:44)"
       ]
      },
      {
       "output_type": "stream",
       "stream": "stdout",
       "text": [
        "\r",
        "Done image 407 of 2000 (avg time: 0.215572247318 secs --- remaining: 5:43)"
       ]
      },
      {
       "output_type": "stream",
       "stream": "stdout",
       "text": [
        "\r",
        "Done image 408 of 2000 (avg time: 0.215045462028 secs --- remaining: 5:42)"
       ]
      },
      {
       "output_type": "stream",
       "stream": "stdout",
       "text": [
        "\r",
        "Done image 409 of 2000 (avg time: 0.214521243514 secs --- remaining: 5:41)"
       ]
      },
      {
       "output_type": "stream",
       "stream": "stdout",
       "text": [
        "\r",
        "Done image 410 of 2000 (avg time: 0.213999576522 secs --- remaining: 5:40)"
       ]
      },
      {
       "output_type": "stream",
       "stream": "stdout",
       "text": [
        "\r",
        "Done image 411 of 2000 (avg time: 0.213480439001 secs --- remaining: 5:39)"
       ]
      },
      {
       "output_type": "stream",
       "stream": "stdout",
       "text": [
        "\r",
        "Done image 412 of 2000 (avg time: 0.212963815463 secs --- remaining: 5:37)"
       ]
      },
      {
       "output_type": "stream",
       "stream": "stdout",
       "text": [
        "\r",
        "Done image 413 of 2000 (avg time: 0.212449694601 secs --- remaining: 5:36)"
       ]
      },
      {
       "output_type": "stream",
       "stream": "stdout",
       "text": [
        "\r",
        "Done image 414 of 2000 (avg time: 0.21193806407 secs --- remaining: 5:35)"
       ]
      },
      {
       "output_type": "stream",
       "stream": "stdout",
       "text": [
        "\r",
        "Done image 415 of 2000 (avg time: 0.211428878972 secs --- remaining: 5:34)"
       ]
      },
      {
       "output_type": "stream",
       "stream": "stdout",
       "text": [
        "\r",
        "Done image 416 of 2000 (avg time: 0.210922133151 secs --- remaining: 5:33)"
       ]
      },
      {
       "output_type": "stream",
       "stream": "stdout",
       "text": [
        "\r",
        "Done image 417 of 2000 (avg time: 0.210417814802 secs --- remaining: 5:32)"
       ]
      },
      {
       "output_type": "stream",
       "stream": "stdout",
       "text": [
        "\r",
        "Done image 418 of 2000 (avg time: 0.209915901425 secs --- remaining: 5:31)"
       ]
      },
      {
       "output_type": "stream",
       "stream": "stdout",
       "text": [
        "\r",
        "Done image 419 of 2000 (avg time: 0.209416375274 secs --- remaining: 5:30)"
       ]
      },
      {
       "output_type": "stream",
       "stream": "stdout",
       "text": [
        "\r",
        "Done image 420 of 2000 (avg time: 0.208919219903 secs --- remaining: 5:29)"
       ]
      },
      {
       "output_type": "stream",
       "stream": "stdout",
       "text": [
        "\r",
        "Done image 421 of 2000 (avg time: 0.208424439927 secs --- remaining: 5:28)"
       ]
      },
      {
       "output_type": "stream",
       "stream": "stdout",
       "text": [
        "\r",
        "Done image 422 of 2000 (avg time: 0.207931985246 secs --- remaining: 5:27)"
       ]
      },
      {
       "output_type": "stream",
       "stream": "stdout",
       "text": [
        "\r",
        "Done image 423 of 2000 (avg time: 0.207441848404 secs --- remaining: 5:26)"
       ]
      },
      {
       "output_type": "stream",
       "stream": "stdout",
       "text": [
        "\r",
        "Done image 424 of 2000 (avg time: 0.206954020893 secs --- remaining: 5:25)"
       ]
      },
      {
       "output_type": "stream",
       "stream": "stdout",
       "text": [
        "\r",
        "Done image 425 of 2000 (avg time: 0.206468480853 secs --- remaining: 5:24)"
       ]
      },
      {
       "output_type": "stream",
       "stream": "stdout",
       "text": [
        "\r",
        "Done image 426 of 2000 (avg time: 0.20598521724 secs --- remaining: 5:24)"
       ]
      },
      {
       "output_type": "stream",
       "stream": "stdout",
       "text": [
        "\r",
        "Done image 427 of 2000 (avg time: 0.205504214652 secs --- remaining: 5:23)"
       ]
      },
      {
       "output_type": "stream",
       "stream": "stdout",
       "text": [
        "\r",
        "Done image 428 of 2000 (avg time: 0.205025468395 secs --- remaining: 5:22)"
       ]
      },
      {
       "output_type": "stream",
       "stream": "stdout",
       "text": [
        "\r",
        "Done image 429 of 2000 (avg time: 0.204548934449 secs --- remaining: 5:21)"
       ]
      },
      {
       "output_type": "stream",
       "stream": "stdout",
       "text": [
        "\r",
        "Done image 430 of 2000 (avg time: 0.20407461235 secs --- remaining: 5:20)"
       ]
      },
      {
       "output_type": "stream",
       "stream": "stdout",
       "text": [
        "\r",
        "Done image 431 of 2000 (avg time: 0.203602488394 secs --- remaining: 5:19)"
       ]
      },
      {
       "output_type": "stream",
       "stream": "stdout",
       "text": [
        "\r",
        "Done image 432 of 2000 (avg time: 0.203132540745 secs --- remaining: 5:18)"
       ]
      },
      {
       "output_type": "stream",
       "stream": "stdout",
       "text": [
        "\r",
        "Done image 433 of 2000 (avg time: 0.202664756006 secs --- remaining: 5:17)"
       ]
      },
      {
       "output_type": "stream",
       "stream": "stdout",
       "text": [
        "\r",
        "Done image 434 of 2000 (avg time: 0.202199131319 secs --- remaining: 5:16)"
       ]
      },
      {
       "output_type": "stream",
       "stream": "stdout",
       "text": [
        "\r",
        "Done image 435 of 2000 (avg time: 0.201735635416 secs --- remaining: 5:15)"
       ]
      },
      {
       "output_type": "stream",
       "stream": "stdout",
       "text": [
        "\r",
        "Done image 436 of 2000 (avg time: 0.201274258594 secs --- remaining: 5:14)"
       ]
      },
      {
       "output_type": "stream",
       "stream": "stdout",
       "text": [
        "\r",
        "Done image 437 of 2000 (avg time: 0.200814988515 secs --- remaining: 5:13)"
       ]
      },
      {
       "output_type": "stream",
       "stream": "stdout",
       "text": [
        "\r",
        "Done image 438 of 2000 (avg time: 0.2003578173 secs --- remaining: 5:12)"
       ]
      },
      {
       "output_type": "stream",
       "stream": "stdout",
       "text": [
        "\r",
        "Done image 439 of 2000 (avg time: 0.19990272251 secs --- remaining: 5:11)"
       ]
      },
      {
       "output_type": "stream",
       "stream": "stdout",
       "text": [
        "\r",
        "Done image 440 of 2000 (avg time: 0.19944970678 secs --- remaining: 5:10)"
       ]
      },
      {
       "output_type": "stream",
       "stream": "stdout",
       "text": [
        "\r",
        "Done image 441 of 2000 (avg time: 0.198998734422 secs --- remaining: 5:10)"
       ]
      },
      {
       "output_type": "stream",
       "stream": "stdout",
       "text": [
        "\r",
        "Done image 442 of 2000 (avg time: 0.198549795904 secs --- remaining: 5:9)"
       ]
      },
      {
       "output_type": "stream",
       "stream": "stdout",
       "text": [
        "\r",
        "Done image 443 of 2000 (avg time: 0.198102870503 secs --- remaining: 5:8)"
       ]
      },
      {
       "output_type": "stream",
       "stream": "stdout",
       "text": [
        "\r",
        "Done image 444 of 2000 (avg time: 0.19765796072 secs --- remaining: 5:7)"
       ]
      },
      {
       "output_type": "stream",
       "stream": "stdout",
       "text": [
        "\r",
        "Done image 445 of 2000 (avg time: 0.197215059413 secs --- remaining: 5:6)"
       ]
      },
      {
       "output_type": "stream",
       "stream": "stdout",
       "text": [
        "\r",
        "Done image 446 of 2000 (avg time: 0.196774122166 secs --- remaining: 5:5)"
       ]
      },
      {
       "output_type": "stream",
       "stream": "stdout",
       "text": [
        "\r",
        "Done image 447 of 2000 (avg time: 0.196335150727 secs --- remaining: 5:4)"
       ]
      },
      {
       "output_type": "stream",
       "stream": "stdout",
       "text": [
        "\r",
        "Done image 448 of 2000 (avg time: 0.195898141521 secs --- remaining: 5:3)"
       ]
      },
      {
       "output_type": "stream",
       "stream": "stdout",
       "text": [
        "\r",
        "Done image 449 of 2000 (avg time: 0.195463071929 secs --- remaining: 5:2)"
       ]
      },
      {
       "output_type": "stream",
       "stream": "stdout",
       "text": [
        "\r",
        "Done image 450 of 2000 (avg time: 0.195029934335 secs --- remaining: 5:2)"
       ]
      },
      {
       "output_type": "stream",
       "stream": "stdout",
       "text": [
        "\r",
        "Done image 451 of 2000 (avg time: 0.194598704313 secs --- remaining: 5:1)"
       ]
      },
      {
       "output_type": "stream",
       "stream": "stdout",
       "text": [
        "\r",
        "Done image 452 of 2000 (avg time: 0.19416940028 secs --- remaining: 5:0)"
       ]
      },
      {
       "output_type": "stream",
       "stream": "stdout",
       "text": [
        "\r",
        "Done image 453 of 2000 (avg time: 0.193741970125 secs --- remaining: 4:59)"
       ]
      },
      {
       "output_type": "stream",
       "stream": "stdout",
       "text": [
        "\r",
        "Done image 454 of 2000 (avg time: 0.193316418784 secs --- remaining: 4:58)"
       ]
      },
      {
       "output_type": "stream",
       "stream": "stdout",
       "text": [
        "\r",
        "Done image 455 of 2000 (avg time: 0.192892744353 secs --- remaining: 4:57)"
       ]
      },
      {
       "output_type": "stream",
       "stream": "stdout",
       "text": [
        "\r",
        "Done image 456 of 2000 (avg time: 0.192470911034 secs --- remaining: 4:56)"
       ]
      },
      {
       "output_type": "stream",
       "stream": "stdout",
       "text": [
        "\r",
        "Done image 457 of 2000 (avg time: 0.192050918221 secs --- remaining: 4:56)"
       ]
      },
      {
       "output_type": "stream",
       "stream": "stdout",
       "text": [
        "\r",
        "Done image 458 of 2000 (avg time: 0.191632759078 secs --- remaining: 4:55)"
       ]
      },
      {
       "output_type": "stream",
       "stream": "stdout",
       "text": [
        "\r",
        "Done image 459 of 2000 (avg time: 0.191216416463 secs --- remaining: 4:54)"
       ]
      },
      {
       "output_type": "stream",
       "stream": "stdout",
       "text": [
        "\r",
        "Done image 460 of 2000 (avg time: 0.190801884244 secs --- remaining: 4:53)"
       ]
      },
      {
       "output_type": "stream",
       "stream": "stdout",
       "text": [
        "\r",
        "Done image 461 of 2000 (avg time: 0.190389144472 secs --- remaining: 4:52)"
       ]
      },
      {
       "output_type": "stream",
       "stream": "stdout",
       "text": [
        "\r",
        "Done image 462 of 2000 (avg time: 0.189978202527 secs --- remaining: 4:51)"
       ]
      },
      {
       "output_type": "stream",
       "stream": "stdout",
       "text": [
        "\r",
        "Done image 463 of 2000 (avg time: 0.189569012358 secs --- remaining: 4:51)"
       ]
      },
      {
       "output_type": "stream",
       "stream": "stdout",
       "text": [
        "\r",
        "Done image 464 of 2000 (avg time: 0.189161582147 secs --- remaining: 4:50)"
       ]
      },
      {
       "output_type": "stream",
       "stream": "stdout",
       "text": [
        "\r",
        "Done image 465 of 2000 (avg time: 0.188755898517 secs --- remaining: 4:49)"
       ]
      },
      {
       "output_type": "stream",
       "stream": "stdout",
       "text": [
        "\r",
        "Done image 466 of 2000 (avg time: 0.188351956884 secs --- remaining: 4:48)"
       ]
      },
      {
       "output_type": "stream",
       "stream": "stdout",
       "text": [
        "\r",
        "Done image 467 of 2000 (avg time: 0.187949743536 secs --- remaining: 4:47)"
       ]
      },
      {
       "output_type": "stream",
       "stream": "stdout",
       "text": [
        "\r",
        "Done image 468 of 2000 (avg time: 0.187549240808 secs --- remaining: 4:47)"
       ]
      },
      {
       "output_type": "stream",
       "stream": "stdout",
       "text": [
        "\r",
        "Done image 469 of 2000 (avg time: 0.187150457058 secs --- remaining: 4:46)"
       ]
      },
      {
       "output_type": "stream",
       "stream": "stdout",
       "text": [
        "\r",
        "Done image 470 of 2000 (avg time: 0.186753354508 secs --- remaining: 4:45)"
       ]
      },
      {
       "output_type": "stream",
       "stream": "stdout",
       "text": [
        "\r",
        "Done image 471 of 2000 (avg time: 0.186357936112 secs --- remaining: 4:44)"
       ]
      },
      {
       "output_type": "stream",
       "stream": "stdout",
       "text": [
        "\r",
        "Done image 472 of 2000 (avg time: 0.185964188162 secs --- remaining: 4:43)"
       ]
      },
      {
       "output_type": "stream",
       "stream": "stdout",
       "text": [
        " computing poisson /media/ilisescu/Data1/PhD/data/drumming2/frame-00971.png\r",
        "Done image 473 of 2000 (avg time: 0.192652816511 secs --- remaining: 4:53)"
       ]
      },
      {
       "output_type": "stream",
       "stream": "stdout",
       "text": [
        " computing poisson /media/ilisescu/Data1/PhD/data/drumming2/frame-00972.png\r",
        "Done image 474 of 2000 (avg time: 0.199612182818 secs --- remaining: 5:4)"
       ]
      },
      {
       "output_type": "stream",
       "stream": "stdout",
       "text": [
        " computing poisson /media/ilisescu/Data1/PhD/data/drumming2/frame-00973.png\r",
        "Done image 475 of 2000 (avg time: 0.209356999698 secs --- remaining: 5:19)"
       ]
      },
      {
       "output_type": "stream",
       "stream": "stdout",
       "text": [
        " computing poisson /media/ilisescu/Data1/PhD/data/drumming2/frame-00974.png\r",
        "Done image 476 of 2000 (avg time: 0.219209305645 secs --- remaining: 5:33)"
       ]
      },
      {
       "output_type": "stream",
       "stream": "stdout",
       "text": [
        " computing poisson /media/ilisescu/Data1/PhD/data/drumming2/frame-00975.png\r",
        "Done image 477 of 2000 (avg time: 0.228950587775 secs --- remaining: 5:48)"
       ]
      },
      {
       "output_type": "stream",
       "stream": "stdout",
       "text": [
        " computing poisson /media/ilisescu/Data1/PhD/data/drumming2/frame-00976.png\r",
        "Done image 478 of 2000 (avg time: 0.238538897859 secs --- remaining: 6:2)"
       ]
      },
      {
       "output_type": "stream",
       "stream": "stdout",
       "text": [
        " computing poisson /media/ilisescu/Data1/PhD/data/drumming2/frame-00977.png\r",
        "Done image 479 of 2000 (avg time: 0.247576547662 secs --- remaining: 6:16)"
       ]
      },
      {
       "output_type": "stream",
       "stream": "stdout",
       "text": [
        " computing poisson /media/ilisescu/Data1/PhD/data/drumming2/frame-00978.png\r",
        "Done image 480 of 2000 (avg time: 0.25679301819 secs --- remaining: 6:30)"
       ]
      },
      {
       "output_type": "stream",
       "stream": "stdout",
       "text": [
        " computing poisson /media/ilisescu/Data1/PhD/data/drumming2/frame-00979.png\r",
        "Done image 481 of 2000 (avg time: 0.269139333385 secs --- remaining: 6:48)"
       ]
      },
      {
       "output_type": "stream",
       "stream": "stdout",
       "text": [
        " computing poisson /media/ilisescu/Data1/PhD/data/drumming2/frame-00980.png\r",
        "Done image 482 of 2000 (avg time: 0.280866280846 secs --- remaining: 7:6)"
       ]
      },
      {
       "output_type": "stream",
       "stream": "stdout",
       "text": [
        " computing poisson /media/ilisescu/Data1/PhD/data/drumming2/frame-00981.png\r",
        "Done image 483 of 2000 (avg time: 0.294113125683 secs --- remaining: 7:25)"
       ]
      },
      {
       "output_type": "stream",
       "stream": "stdout",
       "text": [
        " computing poisson /media/ilisescu/Data1/PhD/data/drumming2/frame-00982.png\r",
        "Done image 484 of 2000 (avg time: 0.306630646814 secs --- remaining: 7:44)"
       ]
      },
      {
       "output_type": "stream",
       "stream": "stdout",
       "text": [
        " computing poisson /media/ilisescu/Data1/PhD/data/drumming2/frame-00983.png\r",
        "Done image 485 of 2000 (avg time: 0.31850576646 secs --- remaining: 8:2)"
       ]
      },
      {
       "output_type": "stream",
       "stream": "stdout",
       "text": [
        " computing poisson /media/ilisescu/Data1/PhD/data/drumming2/frame-00984.png\r",
        "Done image 486 of 2000 (avg time: 0.331821894009 secs --- remaining: 8:22)"
       ]
      },
      {
       "output_type": "stream",
       "stream": "stdout",
       "text": [
        " computing poisson /media/ilisescu/Data1/PhD/data/drumming2/frame-00985.png\r",
        "Done image 487 of 2000 (avg time: 0.343777521223 secs --- remaining: 8:39)"
       ]
      },
      {
       "output_type": "stream",
       "stream": "stdout",
       "text": [
        " computing poisson /media/ilisescu/Data1/PhD/data/drumming2/frame-00986.png\r",
        "Done image 488 of 2000 (avg time: 0.357694356719 secs --- remaining: 9:0)"
       ]
      },
      {
       "output_type": "stream",
       "stream": "stdout",
       "text": [
        "\r",
        "Done image 489 of 2000 (avg time: 0.356964902489 secs --- remaining: 8:59)"
       ]
      },
      {
       "output_type": "stream",
       "stream": "stdout",
       "text": [
        "\r",
        "Done image 490 of 2000 (avg time: 0.356238346721 secs --- remaining: 8:57)"
       ]
      },
      {
       "output_type": "stream",
       "stream": "stdout",
       "text": [
        "\r",
        "Done image 491 of 2000 (avg time: 0.355514715842 secs --- remaining: 8:56)"
       ]
      },
      {
       "output_type": "stream",
       "stream": "stdout",
       "text": [
        "\r",
        "Done image 492 of 2000 (avg time: 0.354794016716 secs --- remaining: 8:54)"
       ]
      },
      {
       "output_type": "stream",
       "stream": "stdout",
       "text": [
        "\r",
        "Done image 493 of 2000 (avg time: 0.354076209339 secs --- remaining: 8:53)"
       ]
      },
      {
       "output_type": "stream",
       "stream": "stdout",
       "text": [
        "\r",
        "Done image 494 of 2000 (avg time: 0.353361316161 secs --- remaining: 8:51)"
       ]
      },
      {
       "output_type": "stream",
       "stream": "stdout",
       "text": [
        "\r",
        "Done image 495 of 2000 (avg time: 0.352649303694 secs --- remaining: 8:50)"
       ]
      },
      {
       "output_type": "stream",
       "stream": "stdout",
       "text": [
        "\r",
        "Done image 496 of 2000 (avg time: 0.351940164624 secs --- remaining: 8:48)"
       ]
      },
      {
       "output_type": "stream",
       "stream": "stdout",
       "text": [
        "\r",
        "Done image 497 of 2000 (avg time: 0.351233863448 secs --- remaining: 8:47)"
       ]
      },
      {
       "output_type": "stream",
       "stream": "stdout",
       "text": [
        "\r",
        "Done image 498 of 2000 (avg time: 0.350530373071 secs --- remaining: 8:46)"
       ]
      },
      {
       "output_type": "stream",
       "stream": "stdout",
       "text": [
        "\r",
        "Done image 499 of 2000 (avg time: 0.349829692364 secs --- remaining: 8:44)"
       ]
      },
      {
       "output_type": "stream",
       "stream": "stdout",
       "text": [
        "\r",
        "Done image 500 of 2000 (avg time: 0.349131812592 secs --- remaining: 8:43)"
       ]
      },
      {
       "output_type": "stream",
       "stream": "stdout",
       "text": [
        "\r",
        "Done image 501 of 2000 (avg time: 0.348436715593 secs --- remaining: 8:41)"
       ]
      },
      {
       "output_type": "stream",
       "stream": "stdout",
       "text": [
        "\r",
        "Done image 502 of 2000 (avg time: 0.347744386191 secs --- remaining: 8:40)"
       ]
      },
      {
       "output_type": "stream",
       "stream": "stdout",
       "text": [
        "\r",
        "Done image 503 of 2000 (avg time: 0.347054798452 secs --- remaining: 8:39)"
       ]
      },
      {
       "output_type": "stream",
       "stream": "stdout",
       "text": [
        "\r",
        "Done image 504 of 2000 (avg time: 0.346367939864 secs --- remaining: 8:37)"
       ]
      },
      {
       "output_type": "stream",
       "stream": "stdout",
       "text": [
        "\r",
        "Done image 505 of 2000 (avg time: 0.345683803671 secs --- remaining: 8:36)"
       ]
      },
      {
       "output_type": "stream",
       "stream": "stdout",
       "text": [
        "\r",
        "Done image 506 of 2000 (avg time: 0.345002368122 secs --- remaining: 8:35)"
       ]
      },
      {
       "output_type": "stream",
       "stream": "stdout",
       "text": [
        "\r",
        "Done image 507 of 2000 (avg time: 0.344323607411 secs --- remaining: 8:33)"
       ]
      },
      {
       "output_type": "stream",
       "stream": "stdout",
       "text": [
        "\r",
        "Done image 508 of 2000 (avg time: 0.343647506242 secs --- remaining: 8:32)"
       ]
      },
      {
       "output_type": "stream",
       "stream": "stdout",
       "text": [
        "\r",
        "Done image 509 of 2000 (avg time: 0.342973999416 secs --- remaining: 8:31)"
       ]
      },
      {
       "output_type": "stream",
       "stream": "stdout",
       "text": [
        "\r",
        "Done image 510 of 2000 (avg time: 0.342303197211 secs --- remaining: 8:29)"
       ]
      },
      {
       "output_type": "stream",
       "stream": "stdout",
       "text": [
        "\r",
        "Done image 511 of 2000 (avg time: 0.341635015327 secs --- remaining: 8:28)"
       ]
      },
      {
       "output_type": "stream",
       "stream": "stdout",
       "text": [
        "\r",
        "Done image 512 of 2000 (avg time: 0.340969420781 secs --- remaining: 8:27)"
       ]
      },
      {
       "output_type": "stream",
       "stream": "stdout",
       "text": [
        "\r",
        "Done image 513 of 2000 (avg time: 0.340306466656 secs --- remaining: 8:25)"
       ]
      },
      {
       "output_type": "stream",
       "stream": "stdout",
       "text": [
        "\r",
        "Done image 514 of 2000 (avg time: 0.339646085258 secs --- remaining: 8:24)"
       ]
      },
      {
       "output_type": "stream",
       "stream": "stdout",
       "text": [
        "\r",
        "Done image 515 of 2000 (avg time: 0.338988094829 secs --- remaining: 8:23)"
       ]
      },
      {
       "output_type": "stream",
       "stream": "stdout",
       "text": [
        "\r",
        "Done image 516 of 2000 (avg time: 0.338332688555 secs --- remaining: 8:21)"
       ]
      },
      {
       "output_type": "stream",
       "stream": "stdout",
       "text": [
        "\r",
        "Done image 517 of 2000 (avg time: 0.33767976632 secs --- remaining: 8:20)"
       ]
      },
      {
       "output_type": "stream",
       "stream": "stdout",
       "text": [
        "\r",
        "Done image 518 of 2000 (avg time: 0.337029358325 secs --- remaining: 8:19)"
       ]
      },
      {
       "output_type": "stream",
       "stream": "stdout",
       "text": [
        "\r",
        "Done image 519 of 2000 (avg time: 0.336381448232 secs --- remaining: 8:17)"
       ]
      },
      {
       "output_type": "stream",
       "stream": "stdout",
       "text": [
        "\r",
        "Done image 520 of 2000 (avg time: 0.335736031267 secs --- remaining: 8:16)"
       ]
      },
      {
       "output_type": "stream",
       "stream": "stdout",
       "text": [
        "\r",
        "Done image 521 of 2000 (avg time: 0.33509308488 secs --- remaining: 8:15)"
       ]
      },
      {
       "output_type": "stream",
       "stream": "stdout",
       "text": [
        "\r",
        "Done image 522 of 2000 (avg time: 0.334452595355 secs --- remaining: 8:13)"
       ]
      },
      {
       "output_type": "stream",
       "stream": "stdout",
       "text": [
        "\r",
        "Done image 523 of 2000 (avg time: 0.333814548627 secs --- remaining: 8:12)"
       ]
      },
      {
       "output_type": "stream",
       "stream": "stdout",
       "text": [
        "\r",
        "Done image 524 of 2000 (avg time: 0.333178930283 secs --- remaining: 8:11)"
       ]
      },
      {
       "output_type": "stream",
       "stream": "stdout",
       "text": [
        "\r",
        "Done image 525 of 2000 (avg time: 0.332545726925 secs --- remaining: 8:10)"
       ]
      },
      {
       "output_type": "stream",
       "stream": "stdout",
       "text": [
        "\r",
        "Done image 526 of 2000 (avg time: 0.331914939736 secs --- remaining: 8:8)"
       ]
      },
      {
       "output_type": "stream",
       "stream": "stdout",
       "text": [
        "\r",
        "Done image 527 of 2000 (avg time: 0.331286542343 secs --- remaining: 8:7)"
       ]
      },
      {
       "output_type": "stream",
       "stream": "stdout",
       "text": [
        "\r",
        "Done image 528 of 2000 (avg time: 0.330660507224 secs --- remaining: 8:6)"
       ]
      },
      {
       "output_type": "stream",
       "stream": "stdout",
       "text": [
        "\r",
        "Done image 529 of 2000 (avg time: 0.330036834501 secs --- remaining: 8:5)"
       ]
      },
      {
       "output_type": "stream",
       "stream": "stdout",
       "text": [
        "\r",
        "Done image 530 of 2000 (avg time: 0.329415509032 secs --- remaining: 8:3)"
       ]
      },
      {
       "output_type": "stream",
       "stream": "stdout",
       "text": [
        "\r",
        "Done image 531 of 2000 (avg time: 0.328796519373 secs --- remaining: 8:2)"
       ]
      },
      {
       "output_type": "stream",
       "stream": "stdout",
       "text": [
        "\r",
        "Done image 532 of 2000 (avg time: 0.328179865349 secs --- remaining: 8:1)"
       ]
      },
      {
       "output_type": "stream",
       "stream": "stdout",
       "text": [
        "\r",
        "Done image 533 of 2000 (avg time: 0.327565522676 secs --- remaining: 8:0)"
       ]
      },
      {
       "output_type": "stream",
       "stream": "stdout",
       "text": [
        "\r",
        "Done image 534 of 2000 (avg time: 0.326953519839 secs --- remaining: 7:58)"
       ]
      },
      {
       "output_type": "stream",
       "stream": "stdout",
       "text": [
        "\r",
        "Done image 535 of 2000 (avg time: 0.326343742769 secs --- remaining: 7:57)"
       ]
      },
      {
       "output_type": "stream",
       "stream": "stdout",
       "text": [
        "\r",
        "Done image 536 of 2000 (avg time: 0.325736272268 secs --- remaining: 7:56)"
       ]
      },
      {
       "output_type": "stream",
       "stream": "stdout",
       "text": [
        "\r",
        "Done image 537 of 2000 (avg time: 0.325131039194 secs --- remaining: 7:55)"
       ]
      },
      {
       "output_type": "stream",
       "stream": "stdout",
       "text": [
        "\r",
        "Done image 538 of 2000 (avg time: 0.324528051882 secs --- remaining: 7:54)"
       ]
      },
      {
       "output_type": "stream",
       "stream": "stdout",
       "text": [
        "\r",
        "Done image 539 of 2000 (avg time: 0.323927300065 secs --- remaining: 7:52)"
       ]
      },
      {
       "output_type": "stream",
       "stream": "stdout",
       "text": [
        "\r",
        "Done image 540 of 2000 (avg time: 0.323328754598 secs --- remaining: 7:51)"
       ]
      },
      {
       "output_type": "stream",
       "stream": "stdout",
       "text": [
        "\r",
        "Done image 541 of 2000 (avg time: 0.322732419545 secs --- remaining: 7:50)"
       ]
      },
      {
       "output_type": "stream",
       "stream": "stdout",
       "text": [
        "\r",
        "Done image 542 of 2000 (avg time: 0.322138317382 secs --- remaining: 7:49)"
       ]
      },
      {
       "output_type": "stream",
       "stream": "stdout",
       "text": [
        "\r",
        "Done image 543 of 2000 (avg time: 0.32154636085 secs --- remaining: 7:48)"
       ]
      },
      {
       "output_type": "stream",
       "stream": "stdout",
       "text": [
        "\r",
        "Done image 544 of 2000 (avg time: 0.320956576636 secs --- remaining: 7:46)"
       ]
      },
      {
       "output_type": "stream",
       "stream": "stdout",
       "text": [
        "\r",
        "Done image 545 of 2000 (avg time: 0.32036895455 secs --- remaining: 7:45)"
       ]
      },
      {
       "output_type": "stream",
       "stream": "stdout",
       "text": [
        "\r",
        "Done image 546 of 2000 (avg time: 0.319783480991 secs --- remaining: 7:44)"
       ]
      },
      {
       "output_type": "stream",
       "stream": "stdout",
       "text": [
        "\r",
        "Done image 547 of 2000 (avg time: 0.319200142457 secs --- remaining: 7:43)"
       ]
      },
      {
       "output_type": "stream",
       "stream": "stdout",
       "text": [
        "\r",
        "Done image 548 of 2000 (avg time: 0.318618929451 secs --- remaining: 7:42)"
       ]
      },
      {
       "output_type": "stream",
       "stream": "stdout",
       "text": [
        "\r",
        "Done image 549 of 2000 (avg time: 0.318039829514 secs --- remaining: 7:41)"
       ]
      },
      {
       "output_type": "stream",
       "stream": "stdout",
       "text": [
        "\r",
        "Done image 550 of 2000 (avg time: 0.317462871382 secs --- remaining: 7:40)"
       ]
      },
      {
       "output_type": "stream",
       "stream": "stdout",
       "text": [
        "\r",
        "Done image 551 of 2000 (avg time: 0.316888018363 secs --- remaining: 7:38)"
       ]
      },
      {
       "output_type": "stream",
       "stream": "stdout",
       "text": [
        "\r",
        "Done image 552 of 2000 (avg time: 0.316315209887 secs --- remaining: 7:37)"
       ]
      },
      {
       "output_type": "stream",
       "stream": "stdout",
       "text": [
        "\r",
        "Done image 553 of 2000 (avg time: 0.315744452959 secs --- remaining: 7:36)"
       ]
      },
      {
       "output_type": "stream",
       "stream": "stdout",
       "text": [
        "\r",
        "Done image 554 of 2000 (avg time: 0.315175749375 secs --- remaining: 7:35)"
       ]
      },
      {
       "output_type": "stream",
       "stream": "stdout",
       "text": [
        "\r",
        "Done image 555 of 2000 (avg time: 0.314609093632 secs --- remaining: 7:34)"
       ]
      },
      {
       "output_type": "stream",
       "stream": "stdout",
       "text": [
        "\r",
        "Done image 556 of 2000 (avg time: 0.31404448326 secs --- remaining: 7:33)"
       ]
      },
      {
       "output_type": "stream",
       "stream": "stdout",
       "text": [
        "\r",
        "Done image 557 of 2000 (avg time: 0.313481883763 secs --- remaining: 7:32)"
       ]
      },
      {
       "output_type": "stream",
       "stream": "stdout",
       "text": [
        "\r",
        "Done image 558 of 2000 (avg time: 0.312921295439 secs --- remaining: 7:30)"
       ]
      },
      {
       "output_type": "stream",
       "stream": "stdout",
       "text": [
        "\r",
        "Done image 559 of 2000 (avg time: 0.312362709216 secs --- remaining: 7:29)"
       ]
      },
      {
       "output_type": "stream",
       "stream": "stdout",
       "text": [
        "\r",
        "Done image 560 of 2000 (avg time: 0.311806116087 secs --- remaining: 7:28)"
       ]
      },
      {
       "output_type": "stream",
       "stream": "stdout",
       "text": [
        "\r",
        "Done image 561 of 2000 (avg time: 0.311251505414 secs --- remaining: 7:27)"
       ]
      },
      {
       "output_type": "stream",
       "stream": "stdout",
       "text": [
        "\r",
        "Done image 562 of 2000 (avg time: 0.310698861551 secs --- remaining: 7:26)"
       ]
      },
      {
       "output_type": "stream",
       "stream": "stdout",
       "text": [
        "\r",
        "Done image 563 of 2000 (avg time: 0.310148177417 secs --- remaining: 7:25)"
       ]
      },
      {
       "output_type": "stream",
       "stream": "stdout",
       "text": [
        "\r",
        "Done image 564 of 2000 (avg time: 0.309599442609 secs --- remaining: 7:24)"
       ]
      },
      {
       "output_type": "stream",
       "stream": "stdout",
       "text": [
        "\r",
        "Done image 565 of 2000 (avg time: 0.309052646792 secs --- remaining: 7:23)"
       ]
      },
      {
       "output_type": "stream",
       "stream": "stdout",
       "text": [
        "\r",
        "Done image 566 of 2000 (avg time: 0.308507794005 secs --- remaining: 7:22)"
       ]
      },
      {
       "output_type": "stream",
       "stream": "stdout",
       "text": [
        "\r",
        "Done image 567 of 2000 (avg time: 0.307964845442 secs --- remaining: 7:21)"
       ]
      },
      {
       "output_type": "stream",
       "stream": "stdout",
       "text": [
        "\r",
        "Done image 568 of 2000 (avg time: 0.307423806987 secs --- remaining: 7:19)"
       ]
      },
      {
       "output_type": "stream",
       "stream": "stdout",
       "text": [
        "\r",
        "Done image 569 of 2000 (avg time: 0.306884665238 secs --- remaining: 7:18)"
       ]
      },
      {
       "output_type": "stream",
       "stream": "stdout",
       "text": [
        "\r",
        "Done image 570 of 2000 (avg time: 0.306347413572 secs --- remaining: 7:17)"
       ]
      },
      {
       "output_type": "stream",
       "stream": "stdout",
       "text": [
        "\r",
        "Done image 571 of 2000 (avg time: 0.305812038325 secs --- remaining: 7:16)"
       ]
      },
      {
       "output_type": "stream",
       "stream": "stdout",
       "text": [
        "\r",
        "Done image 572 of 2000 (avg time: 0.305278532168 secs --- remaining: 7:15)"
       ]
      },
      {
       "output_type": "stream",
       "stream": "stdout",
       "text": [
        "\r",
        "Done image 573 of 2000 (avg time: 0.304746884918 secs --- remaining: 7:14)"
       ]
      },
      {
       "output_type": "stream",
       "stream": "stdout",
       "text": [
        "\r",
        "Done image 574 of 2000 (avg time: 0.304217086875 secs --- remaining: 7:13)"
       ]
      },
      {
       "output_type": "stream",
       "stream": "stdout",
       "text": [
        "\r",
        "Done image 575 of 2000 (avg time: 0.303689135445 secs --- remaining: 7:12)"
       ]
      },
      {
       "output_type": "stream",
       "stream": "stdout",
       "text": [
        "\r",
        "Done image 576 of 2000 (avg time: 0.303163008632 secs --- remaining: 7:11)"
       ]
      },
      {
       "output_type": "stream",
       "stream": "stdout",
       "text": [
        "\r",
        "Done image 577 of 2000 (avg time: 0.302638700677 secs --- remaining: 7:10)"
       ]
      },
      {
       "output_type": "stream",
       "stream": "stdout",
       "text": [
        "\r",
        "Done image 578 of 2000 (avg time: 0.302116205449 secs --- remaining: 7:9)"
       ]
      },
      {
       "output_type": "stream",
       "stream": "stdout",
       "text": [
        "\r",
        "Done image 579 of 2000 (avg time: 0.301595546459 secs --- remaining: 7:8)"
       ]
      },
      {
       "output_type": "stream",
       "stream": "stdout",
       "text": [
        "\r",
        "Done image 580 of 2000 (avg time: 0.301076669086 secs --- remaining: 7:7)"
       ]
      },
      {
       "output_type": "stream",
       "stream": "stdout",
       "text": [
        "\r",
        "Done image 581 of 2000 (avg time: 0.300559553084 secs --- remaining: 7:6)"
       ]
      },
      {
       "output_type": "stream",
       "stream": "stdout",
       "text": [
        "\r",
        "Done image 582 of 2000 (avg time: 0.300044210656 secs --- remaining: 7:5)"
       ]
      },
      {
       "output_type": "stream",
       "stream": "stdout",
       "text": [
        "\r",
        "Done image 583 of 2000 (avg time: 0.299530633508 secs --- remaining: 7:4)"
       ]
      },
      {
       "output_type": "stream",
       "stream": "stdout",
       "text": [
        "\r",
        "Done image 584 of 2000 (avg time: 0.299018811772 secs --- remaining: 7:3)"
       ]
      },
      {
       "output_type": "stream",
       "stream": "stdout",
       "text": [
        "\r",
        "Done image 585 of 2000 (avg time: 0.298508769416 secs --- remaining: 7:2)"
       ]
      },
      {
       "output_type": "stream",
       "stream": "stdout",
       "text": [
        "\r",
        "Done image 586 of 2000 (avg time: 0.298000432767 secs --- remaining: 7:1)"
       ]
      },
      {
       "output_type": "stream",
       "stream": "stdout",
       "text": [
        "\r",
        "Done image 587 of 2000 (avg time: 0.297493824748 secs --- remaining: 7:0)"
       ]
      },
      {
       "output_type": "stream",
       "stream": "stdout",
       "text": [
        "\r",
        "Done image 588 of 2000 (avg time: 0.296988940198 secs --- remaining: 6:59)"
       ]
      },
      {
       "output_type": "stream",
       "stream": "stdout",
       "text": [
        "\r",
        "Done image 589 of 2000 (avg time: 0.296485794601 secs --- remaining: 6:58)"
       ]
      },
      {
       "output_type": "stream",
       "stream": "stdout",
       "text": [
        "\r",
        "Done image 590 of 2000 (avg time: 0.295984319422 secs --- remaining: 6:57)"
       ]
      },
      {
       "output_type": "stream",
       "stream": "stdout",
       "text": [
        "\r",
        "Done image 591 of 2000 (avg time: 0.295484536806 secs --- remaining: 6:56)"
       ]
      },
      {
       "output_type": "stream",
       "stream": "stdout",
       "text": [
        "\r",
        "Done image 592 of 2000 (avg time: 0.294986441405 secs --- remaining: 6:55)"
       ]
      },
      {
       "output_type": "stream",
       "stream": "stdout",
       "text": [
        "\r",
        "Done image 593 of 2000 (avg time: 0.294490019882 secs --- remaining: 6:54)"
       ]
      },
      {
       "output_type": "stream",
       "stream": "stdout",
       "text": [
        "\r",
        "Done image 594 of 2000 (avg time: 0.293995271811 secs --- remaining: 6:53)"
       ]
      },
      {
       "output_type": "stream",
       "stream": "stdout",
       "text": [
        "\r",
        "Done image 595 of 2000 (avg time: 0.293502185569 secs --- remaining: 6:52)"
       ]
      },
      {
       "output_type": "stream",
       "stream": "stdout",
       "text": [
        "\r",
        "Done image 596 of 2000 (avg time: 0.293010751606 secs --- remaining: 6:51)"
       ]
      },
      {
       "output_type": "stream",
       "stream": "stdout",
       "text": [
        "\r",
        "Done image 597 of 2000 (avg time: 0.292520961235 secs --- remaining: 6:50)"
       ]
      },
      {
       "output_type": "stream",
       "stream": "stdout",
       "text": [
        "\r",
        "Done image 598 of 2000 (avg time: 0.292032802642 secs --- remaining: 6:49)"
       ]
      },
      {
       "output_type": "stream",
       "stream": "stdout",
       "text": [
        "\r",
        "Done image 599 of 2000 (avg time: 0.291546272834 secs --- remaining: 6:48)"
       ]
      },
      {
       "output_type": "stream",
       "stream": "stdout",
       "text": [
        "\r",
        "Done image 600 of 2000 (avg time: 0.291061360903 secs --- remaining: 6:47)"
       ]
      },
      {
       "output_type": "stream",
       "stream": "stdout",
       "text": [
        "\r",
        "Done image 601 of 2000 (avg time: 0.290578061164 secs --- remaining: 6:46)"
       ]
      },
      {
       "output_type": "stream",
       "stream": "stdout",
       "text": [
        "\r",
        "Done image 602 of 2000 (avg time: 0.290096362827 secs --- remaining: 6:45)"
       ]
      },
      {
       "output_type": "stream",
       "stream": "stdout",
       "text": [
        "\r",
        "Done image 603 of 2000 (avg time: 0.289616257939 secs --- remaining: 6:44)"
       ]
      },
      {
       "output_type": "stream",
       "stream": "stdout",
       "text": [
        "\r",
        "Done image 604 of 2000 (avg time: 0.289137740175 secs --- remaining: 6:43)"
       ]
      },
      {
       "output_type": "stream",
       "stream": "stdout",
       "text": [
        "\r",
        "Done image 605 of 2000 (avg time: 0.288660800103 secs --- remaining: 6:42)"
       ]
      },
      {
       "output_type": "stream",
       "stream": "stdout",
       "text": [
        "\r",
        "Done image 606 of 2000 (avg time: 0.288185436211 secs --- remaining: 6:41)"
       ]
      },
      {
       "output_type": "stream",
       "stream": "stdout",
       "text": [
        "\r",
        "Done image 607 of 2000 (avg time: 0.287711637977 secs --- remaining: 6:40)"
       ]
      },
      {
       "output_type": "stream",
       "stream": "stdout",
       "text": [
        "\r",
        "Done image 608 of 2000 (avg time: 0.287239410607 secs --- remaining: 6:39)"
       ]
      },
      {
       "output_type": "stream",
       "stream": "stdout",
       "text": [
        "\r",
        "Done image 609 of 2000 (avg time: 0.286768749112 secs --- remaining: 6:38)"
       ]
      },
      {
       "output_type": "stream",
       "stream": "stdout",
       "text": [
        "\r",
        "Done image 610 of 2000 (avg time: 0.286299592735 secs --- remaining: 6:37)"
       ]
      },
      {
       "output_type": "stream",
       "stream": "stdout",
       "text": [
        "\r",
        "Done image 611 of 2000 (avg time: 0.285832023309 secs --- remaining: 6:36)"
       ]
      },
      {
       "output_type": "stream",
       "stream": "stdout",
       "text": [
        "\r",
        "Done image 612 of 2000 (avg time: 0.285365933501 secs --- remaining: 6:35)"
       ]
      },
      {
       "output_type": "stream",
       "stream": "stdout",
       "text": [
        "\r",
        "Done image 613 of 2000 (avg time: 0.284901482275 secs --- remaining: 6:34)"
       ]
      },
      {
       "output_type": "stream",
       "stream": "stdout",
       "text": [
        "\r",
        "Done image 614 of 2000 (avg time: 0.284438532155 secs --- remaining: 6:33)"
       ]
      },
      {
       "output_type": "stream",
       "stream": "stdout",
       "text": [
        "\r",
        "Done image 615 of 2000 (avg time: 0.2839771126 secs --- remaining: 6:33)"
       ]
      },
      {
       "output_type": "stream",
       "stream": "stdout",
       "text": [
        "\r",
        "Done image 616 of 2000 (avg time: 0.283517217713 secs --- remaining: 6:32)"
       ]
      },
      {
       "output_type": "stream",
       "stream": "stdout",
       "text": [
        "\r",
        "Done image 617 of 2000 (avg time: 0.283058704296 secs --- remaining: 6:31)"
       ]
      },
      {
       "output_type": "stream",
       "stream": "stdout",
       "text": [
        "\r",
        "Done image 618 of 2000 (avg time: 0.282601614183 secs --- remaining: 6:30)"
       ]
      },
      {
       "output_type": "stream",
       "stream": "stdout",
       "text": [
        "\r",
        "Done image 619 of 2000 (avg time: 0.282146000478 secs --- remaining: 6:29)"
       ]
      },
      {
       "output_type": "stream",
       "stream": "stdout",
       "text": [
        "\r",
        "Done image 620 of 2000 (avg time: 0.281691850671 secs --- remaining: 6:28)"
       ]
      },
      {
       "output_type": "stream",
       "stream": "stdout",
       "text": [
        "\r",
        "Done image 621 of 2000 (avg time: 0.281239156554 secs --- remaining: 6:27)"
       ]
      },
      {
       "output_type": "stream",
       "stream": "stdout",
       "text": [
        "\r",
        "Done image 622 of 2000 (avg time: 0.28078799263 secs --- remaining: 6:26)"
       ]
      },
      {
       "output_type": "stream",
       "stream": "stdout",
       "text": [
        "\r",
        "Done image 623 of 2000 (avg time: 0.280338202532 secs --- remaining: 6:25)"
       ]
      },
      {
       "output_type": "stream",
       "stream": "stdout",
       "text": [
        "\r",
        "Done image 624 of 2000 (avg time: 0.279889848328 secs --- remaining: 6:24)"
       ]
      },
      {
       "output_type": "stream",
       "stream": "stdout",
       "text": [
        "\r",
        "Done image 625 of 2000 (avg time: 0.279442937991 secs --- remaining: 6:23)"
       ]
      },
      {
       "output_type": "stream",
       "stream": "stdout",
       "text": [
        "\r",
        "Done image 626 of 2000 (avg time: 0.278997512145 secs --- remaining: 6:23)"
       ]
      },
      {
       "output_type": "stream",
       "stream": "stdout",
       "text": [
        "\r",
        "Done image 627 of 2000 (avg time: 0.278553433479 secs --- remaining: 6:22)"
       ]
      },
      {
       "output_type": "stream",
       "stream": "stdout",
       "text": [
        "\r",
        "Done image 628 of 2000 (avg time: 0.278110765312 secs --- remaining: 6:21)"
       ]
      },
      {
       "output_type": "stream",
       "stream": "stdout",
       "text": [
        "\r",
        "Done image 629 of 2000 (avg time: 0.277669502062 secs --- remaining: 6:20)"
       ]
      },
      {
       "output_type": "stream",
       "stream": "stdout",
       "text": [
        "\r",
        "Done image 630 of 2000 (avg time: 0.277229683524 secs --- remaining: 6:19)"
       ]
      },
      {
       "output_type": "stream",
       "stream": "stdout",
       "text": [
        "\r",
        "Done image 631 of 2000 (avg time: 0.276791209284 secs --- remaining: 6:18)"
       ]
      },
      {
       "output_type": "stream",
       "stream": "stdout",
       "text": [
        "\r",
        "Done image 632 of 2000 (avg time: 0.276354120806 secs --- remaining: 6:17)"
       ]
      },
      {
       "output_type": "stream",
       "stream": "stdout",
       "text": [
        "\r",
        "Done image 633 of 2000 (avg time: 0.27591841078 secs --- remaining: 6:16)"
       ]
      },
      {
       "output_type": "stream",
       "stream": "stdout",
       "text": [
        "\r",
        "Done image 634 of 2000 (avg time: 0.275484074946 secs --- remaining: 6:16)"
       ]
      },
      {
       "output_type": "stream",
       "stream": "stdout",
       "text": [
        "\r",
        "Done image 635 of 2000 (avg time: 0.275051104573 secs --- remaining: 6:15)"
       ]
      },
      {
       "output_type": "stream",
       "stream": "stdout",
       "text": [
        "\r",
        "Done image 636 of 2000 (avg time: 0.274619493604 secs --- remaining: 6:14)"
       ]
      },
      {
       "output_type": "stream",
       "stream": "stdout",
       "text": [
        "\r",
        "Done image 637 of 2000 (avg time: 0.274189234154 secs --- remaining: 6:13)"
       ]
      },
      {
       "output_type": "stream",
       "stream": "stdout",
       "text": [
        "\r",
        "Done image 638 of 2000 (avg time: 0.273760391886 secs --- remaining: 6:12)"
       ]
      },
      {
       "output_type": "stream",
       "stream": "stdout",
       "text": [
        "\r",
        "Done image 639 of 2000 (avg time: 0.273332825676 secs --- remaining: 6:11)"
       ]
      },
      {
       "output_type": "stream",
       "stream": "stdout",
       "text": [
        "\r",
        "Done image 640 of 2000 (avg time: 0.272906587202 secs --- remaining: 6:10)"
       ]
      },
      {
       "output_type": "stream",
       "stream": "stdout",
       "text": [
        "\r",
        "Done image 641 of 2000 (avg time: 0.272481678431 secs --- remaining: 6:10)"
       ]
      },
      {
       "output_type": "stream",
       "stream": "stdout",
       "text": [
        "\r",
        "Done image 642 of 2000 (avg time: 0.272058090934 secs --- remaining: 6:9)"
       ]
      },
      {
       "output_type": "stream",
       "stream": "stdout",
       "text": [
        "\r",
        "Done image 643 of 2000 (avg time: 0.2716358441 secs --- remaining: 6:8)"
       ]
      },
      {
       "output_type": "stream",
       "stream": "stdout",
       "text": [
        "\r",
        "Done image 644 of 2000 (avg time: 0.271214954613 secs --- remaining: 6:7)"
       ]
      },
      {
       "output_type": "stream",
       "stream": "stdout",
       "text": [
        "\r",
        "Done image 645 of 2000 (avg time: 0.270795296958 secs --- remaining: 6:6)"
       ]
      },
      {
       "output_type": "stream",
       "stream": "stdout",
       "text": [
        "\r",
        "Done image 646 of 2000 (avg time: 0.270376933229 secs --- remaining: 6:5)"
       ]
      },
      {
       "output_type": "stream",
       "stream": "stdout",
       "text": [
        "\r",
        "Done image 647 of 2000 (avg time: 0.269959859274 secs --- remaining: 6:4)"
       ]
      },
      {
       "output_type": "stream",
       "stream": "stdout",
       "text": [
        "\r",
        "Done image 648 of 2000 (avg time: 0.26954407207 secs --- remaining: 6:4)"
       ]
      },
      {
       "output_type": "stream",
       "stream": "stdout",
       "text": [
        "\r",
        "Done image 649 of 2000 (avg time: 0.269129562745 secs --- remaining: 6:3)"
       ]
      },
      {
       "output_type": "stream",
       "stream": "stdout",
       "text": [
        "\r",
        "Done image 650 of 2000 (avg time: 0.268716326873 secs --- remaining: 6:2)"
       ]
      },
      {
       "output_type": "stream",
       "stream": "stdout",
       "text": [
        "\r",
        "Done image 651 of 2000 (avg time: 0.268304422955 secs --- remaining: 6:1)"
       ]
      },
      {
       "output_type": "stream",
       "stream": "stdout",
       "text": [
        "\r",
        "Done image 652 of 2000 (avg time: 0.267893715986 secs --- remaining: 6:0)"
       ]
      },
      {
       "output_type": "stream",
       "stream": "stdout",
       "text": [
        "\r",
        "Done image 653 of 2000 (avg time: 0.267484265365 secs --- remaining: 6:0)"
       ]
      },
      {
       "output_type": "stream",
       "stream": "stdout",
       "text": [
        "\r",
        "Done image 654 of 2000 (avg time: 0.267076064976 secs --- remaining: 5:59)"
       ]
      },
      {
       "output_type": "stream",
       "stream": "stdout",
       "text": [
        "\r",
        "Done image 655 of 2000 (avg time: 0.266669139629 secs --- remaining: 5:58)"
       ]
      },
      {
       "output_type": "stream",
       "stream": "stdout",
       "text": [
        "\r",
        "Done image 656 of 2000 (avg time: 0.266263423989 secs --- remaining: 5:57)"
       ]
      },
      {
       "output_type": "stream",
       "stream": "stdout",
       "text": [
        "\r",
        "Done image 657 of 2000 (avg time: 0.265858942977 secs --- remaining: 5:56)"
       ]
      },
      {
       "output_type": "stream",
       "stream": "stdout",
       "text": [
        "\r",
        "Done image 658 of 2000 (avg time: 0.26545568663 secs --- remaining: 5:55)"
       ]
      },
      {
       "output_type": "stream",
       "stream": "stdout",
       "text": [
        "\r",
        "Done image 659 of 2000 (avg time: 0.265053661303 secs --- remaining: 5:55)"
       ]
      },
      {
       "output_type": "stream",
       "stream": "stdout",
       "text": [
        "\r",
        "Done image 660 of 2000 (avg time: 0.264652894593 secs --- remaining: 5:54)"
       ]
      },
      {
       "output_type": "stream",
       "stream": "stdout",
       "text": [
        "\r",
        "Done image 661 of 2000 (avg time: 0.264253326773 secs --- remaining: 5:53)"
       ]
      },
      {
       "output_type": "stream",
       "stream": "stdout",
       "text": [
        "\r",
        "Done image 662 of 2000 (avg time: 0.263854929764 secs --- remaining: 5:52)"
       ]
      },
      {
       "output_type": "stream",
       "stream": "stdout",
       "text": [
        "\r",
        "Done image 663 of 2000 (avg time: 0.26345778517 secs --- remaining: 5:51)"
       ]
      },
      {
       "output_type": "stream",
       "stream": "stdout",
       "text": [
        "\r",
        "Done image 664 of 2000 (avg time: 0.263061868338 secs --- remaining: 5:51)"
       ]
      },
      {
       "output_type": "stream",
       "stream": "stdout",
       "text": [
        "\r",
        "Done image 665 of 2000 (avg time: 0.262667063478 secs --- remaining: 5:50)"
       ]
      },
      {
       "output_type": "stream",
       "stream": "stdout",
       "text": [
        "\r",
        "Done image 666 of 2000 (avg time: 0.262273439582 secs --- remaining: 5:49)"
       ]
      },
      {
       "output_type": "stream",
       "stream": "stdout",
       "text": [
        "\r",
        "Done image 667 of 2000 (avg time: 0.261880991345 secs --- remaining: 5:48)"
       ]
      },
      {
       "output_type": "stream",
       "stream": "stdout",
       "text": [
        "\r",
        "Done image 668 of 2000 (avg time: 0.261489737372 secs --- remaining: 5:48)"
       ]
      },
      {
       "output_type": "stream",
       "stream": "stdout",
       "text": [
        "\r",
        "Done image 669 of 2000 (avg time: 0.261099689754 secs --- remaining: 5:47)"
       ]
      },
      {
       "output_type": "stream",
       "stream": "stdout",
       "text": [
        "\r",
        "Done image 670 of 2000 (avg time: 0.260710748582 secs --- remaining: 5:46)"
       ]
      },
      {
       "output_type": "stream",
       "stream": "stdout",
       "text": [
        "\r",
        "Done image 671 of 2000 (avg time: 0.260322970649 secs --- remaining: 5:45)"
       ]
      },
      {
       "output_type": "stream",
       "stream": "stdout",
       "text": [
        "\r",
        "Done image 672 of 2000 (avg time: 0.259936339079 secs --- remaining: 5:44)"
       ]
      },
      {
       "output_type": "stream",
       "stream": "stdout",
       "text": [
        "\r",
        "Done image 673 of 2000 (avg time: 0.259550851955 secs --- remaining: 5:44)"
       ]
      },
      {
       "output_type": "stream",
       "stream": "stdout",
       "text": [
        "\r",
        "Done image 674 of 2000 (avg time: 0.259166503836 secs --- remaining: 5:43)"
       ]
      },
      {
       "output_type": "stream",
       "stream": "stdout",
       "text": [
        "\r",
        "Done image 675 of 2000 (avg time: 0.258783294604 secs --- remaining: 5:42)"
       ]
      },
      {
       "output_type": "stream",
       "stream": "stdout",
       "text": [
        "\r",
        "Done image 676 of 2000 (avg time: 0.258401217454 secs --- remaining: 5:41)"
       ]
      },
      {
       "output_type": "stream",
       "stream": "stdout",
       "text": [
        "\r",
        "Done image 677 of 2000 (avg time: 0.258020267374 secs --- remaining: 5:41)"
       ]
      },
      {
       "output_type": "stream",
       "stream": "stdout",
       "text": [
        "\r",
        "Done image 678 of 2000 (avg time: 0.25764043763 secs --- remaining: 5:40)"
       ]
      },
      {
       "output_type": "stream",
       "stream": "stdout",
       "text": [
        "\r",
        "Done image 679 of 2000 (avg time: 0.257261723981 secs --- remaining: 5:39)"
       ]
      },
      {
       "output_type": "stream",
       "stream": "stdout",
       "text": [
        "\r",
        "Done image 680 of 2000 (avg time: 0.25688412256 secs --- remaining: 5:38)"
       ]
      },
      {
       "output_type": "stream",
       "stream": "stdout",
       "text": [
        "\r",
        "Done image 681 of 2000 (avg time: 0.256507629873 secs --- remaining: 5:38)"
       ]
      },
      {
       "output_type": "stream",
       "stream": "stdout",
       "text": [
        "\r",
        "Done image 682 of 2000 (avg time: 0.256132252569 secs --- remaining: 5:37)"
       ]
      },
      {
       "output_type": "stream",
       "stream": "stdout",
       "text": [
        "\r",
        "Done image 683 of 2000 (avg time: 0.255757959614 secs --- remaining: 5:36)"
       ]
      },
      {
       "output_type": "stream",
       "stream": "stdout",
       "text": [
        "\r",
        "Done image 684 of 2000 (avg time: 0.255384761226 secs --- remaining: 5:35)"
       ]
      },
      {
       "output_type": "stream",
       "stream": "stdout",
       "text": [
        "\r",
        "Done image 685 of 2000 (avg time: 0.255012650879 secs --- remaining: 5:35)"
       ]
      },
      {
       "output_type": "stream",
       "stream": "stdout",
       "text": [
        "\r",
        "Done image 686 of 2000 (avg time: 0.254641622088 secs --- remaining: 5:34)"
       ]
      },
      {
       "output_type": "stream",
       "stream": "stdout",
       "text": [
        "\r",
        "Done image 687 of 2000 (avg time: 0.254271673602 secs --- remaining: 5:33)"
       ]
      },
      {
       "output_type": "stream",
       "stream": "stdout",
       "text": [
        "\r",
        "Done image 688 of 2000 (avg time: 0.253902797602 secs --- remaining: 5:32)"
       ]
      },
      {
       "output_type": "stream",
       "stream": "stdout",
       "text": [
        "\r",
        "Done image 689 of 2000 (avg time: 0.253534990463 secs --- remaining: 5:32)"
       ]
      },
      {
       "output_type": "stream",
       "stream": "stdout",
       "text": [
        "\r",
        "Done image 690 of 2000 (avg time: 0.253168249613 secs --- remaining: 5:31)"
       ]
      },
      {
       "output_type": "stream",
       "stream": "stdout",
       "text": [
        "\r",
        "Done image 691 of 2000 (avg time: 0.25280256733 secs --- remaining: 5:30)"
       ]
      },
      {
       "output_type": "stream",
       "stream": "stdout",
       "text": [
        "\r",
        "Done image 692 of 2000 (avg time: 0.25243794316 secs --- remaining: 5:29)"
       ]
      },
      {
       "output_type": "stream",
       "stream": "stdout",
       "text": [
        "\r",
        "Done image 693 of 2000 (avg time: 0.252074366688 secs --- remaining: 5:29)"
       ]
      },
      {
       "output_type": "stream",
       "stream": "stdout",
       "text": [
        "\r",
        "Done image 694 of 2000 (avg time: 0.25171183545 secs --- remaining: 5:28)"
       ]
      },
      {
       "output_type": "stream",
       "stream": "stdout",
       "text": [
        "\r",
        "Done image 695 of 2000 (avg time: 0.251350345968 secs --- remaining: 5:27)"
       ]
      },
      {
       "output_type": "stream",
       "stream": "stdout",
       "text": [
        "\r",
        "Done image 696 of 2000 (avg time: 0.250989894785 secs --- remaining: 5:27)"
       ]
      },
      {
       "output_type": "stream",
       "stream": "stdout",
       "text": [
        "\r",
        "Done image 697 of 2000 (avg time: 0.250630480854 secs --- remaining: 5:26)"
       ]
      },
      {
       "output_type": "stream",
       "stream": "stdout",
       "text": [
        "\r",
        "Done image 698 of 2000 (avg time: 0.250272090855 secs --- remaining: 5:25)"
       ]
      },
      {
       "output_type": "stream",
       "stream": "stdout",
       "text": [
        "\r",
        "Done image 699 of 2000 (avg time: 0.249914727892 secs --- remaining: 5:24)"
       ]
      },
      {
       "output_type": "stream",
       "stream": "stdout",
       "text": [
        "\r",
        "Done image 700 of 2000 (avg time: 0.24955838315 secs --- remaining: 5:24)"
       ]
      },
      {
       "output_type": "stream",
       "stream": "stdout",
       "text": [
        "\r",
        "Done image 701 of 2000 (avg time: 0.249203052276 secs --- remaining: 5:23)"
       ]
      },
      {
       "output_type": "stream",
       "stream": "stdout",
       "text": [
        "\r",
        "Done image 702 of 2000 (avg time: 0.248848736371 secs --- remaining: 5:22)"
       ]
      },
      {
       "output_type": "stream",
       "stream": "stdout",
       "text": [
        "\r",
        "Done image 703 of 2000 (avg time: 0.24849542569 secs --- remaining: 5:22)"
       ]
      },
      {
       "output_type": "stream",
       "stream": "stdout",
       "text": [
        "\r",
        "Done image 704 of 2000 (avg time: 0.248143115619 secs --- remaining: 5:21)"
       ]
      },
      {
       "output_type": "stream",
       "stream": "stdout",
       "text": [
        "\r",
        "Done image 705 of 2000 (avg time: 0.247791802242 secs --- remaining: 5:20)"
       ]
      },
      {
       "output_type": "stream",
       "stream": "stdout",
       "text": [
        "\r",
        "Done image 706 of 2000 (avg time: 0.247441485714 secs --- remaining: 5:19)"
       ]
      },
      {
       "output_type": "stream",
       "stream": "stdout",
       "text": [
        "\r",
        "Done image 707 of 2000 (avg time: 0.24709215575 secs --- remaining: 5:19)"
       ]
      },
      {
       "output_type": "stream",
       "stream": "stdout",
       "text": [
        "\r",
        "Done image 708 of 2000 (avg time: 0.246743814229 secs --- remaining: 5:18)"
       ]
      },
      {
       "output_type": "stream",
       "stream": "stdout",
       "text": [
        "\r",
        "Done image 709 of 2000 (avg time: 0.246396452608 secs --- remaining: 5:17)"
       ]
      },
      {
       "output_type": "stream",
       "stream": "stdout",
       "text": [
        "\r",
        "Done image 710 of 2000 (avg time: 0.246050068095 secs --- remaining: 5:17)"
       ]
      },
      {
       "output_type": "stream",
       "stream": "stdout",
       "text": [
        "\r",
        "Done image 711 of 2000 (avg time: 0.245704656237 secs --- remaining: 5:16)"
       ]
      },
      {
       "output_type": "stream",
       "stream": "stdout",
       "text": [
        "\r",
        "Done image 712 of 2000 (avg time: 0.245360214948 secs --- remaining: 5:15)"
       ]
      },
      {
       "output_type": "stream",
       "stream": "stdout",
       "text": [
        "\r",
        "Done image 713 of 2000 (avg time: 0.245016739816 secs --- remaining: 5:15)"
       ]
      },
      {
       "output_type": "stream",
       "stream": "stdout",
       "text": [
        "\r",
        "Done image 714 of 2000 (avg time: 0.244674303815 secs --- remaining: 5:14)"
       ]
      },
      {
       "output_type": "stream",
       "stream": "stdout",
       "text": [
        "\r",
        "Done image 715 of 2000 (avg time: 0.244332761405 secs --- remaining: 5:13)"
       ]
      },
      {
       "output_type": "stream",
       "stream": "stdout",
       "text": [
        "\r",
        "Done image 716 of 2000 (avg time: 0.243992160387 secs --- remaining: 5:13)"
       ]
      },
      {
       "output_type": "stream",
       "stream": "stdout",
       "text": [
        "\r",
        "Done image 717 of 2000 (avg time: 0.243652504135 secs --- remaining: 5:12)"
       ]
      },
      {
       "output_type": "stream",
       "stream": "stdout",
       "text": [
        "\r",
        "Done image 718 of 2000 (avg time: 0.243313792684 secs --- remaining: 5:11)"
       ]
      },
      {
       "output_type": "stream",
       "stream": "stdout",
       "text": [
        "\r",
        "Done image 719 of 2000 (avg time: 0.242976026403 secs --- remaining: 5:11)"
       ]
      },
      {
       "output_type": "stream",
       "stream": "stdout",
       "text": [
        "\r",
        "Done image 720 of 2000 (avg time: 0.242639195737 secs --- remaining: 5:10)"
       ]
      },
      {
       "output_type": "stream",
       "stream": "stdout",
       "text": [
        "\r",
        "Done image 721 of 2000 (avg time: 0.242303299111 secs --- remaining: 5:9)"
       ]
      },
      {
       "output_type": "stream",
       "stream": "stdout",
       "text": [
        "\r",
        "Done image 722 of 2000 (avg time: 0.241968341553 secs --- remaining: 5:8)"
       ]
      },
      {
       "output_type": "stream",
       "stream": "stdout",
       "text": [
        "\r",
        "Done image 723 of 2000 (avg time: 0.241634302376 secs --- remaining: 5:8)"
       ]
      },
      {
       "output_type": "stream",
       "stream": "stdout",
       "text": [
        "\r",
        "Done image 724 of 2000 (avg time: 0.241301180412 secs --- remaining: 5:7)"
       ]
      },
      {
       "output_type": "stream",
       "stream": "stdout",
       "text": [
        "\r",
        "Done image 725 of 2000 (avg time: 0.240968996828 secs --- remaining: 5:6)"
       ]
      },
      {
       "output_type": "stream",
       "stream": "stdout",
       "text": [
        "\r",
        "Done image 726 of 2000 (avg time: 0.240637698233 secs --- remaining: 5:6)"
       ]
      },
      {
       "output_type": "stream",
       "stream": "stdout",
       "text": [
        "\r",
        "Done image 727 of 2000 (avg time: 0.240307311108 secs --- remaining: 5:5)"
       ]
      },
      {
       "output_type": "stream",
       "stream": "stdout",
       "text": [
        "\r",
        "Done image 728 of 2000 (avg time: 0.239977828106 secs --- remaining: 5:5)"
       ]
      },
      {
       "output_type": "stream",
       "stream": "stdout",
       "text": [
        "\r",
        "Done image 729 of 2000 (avg time: 0.239649246164 secs --- remaining: 5:4)"
       ]
      },
      {
       "output_type": "stream",
       "stream": "stdout",
       "text": [
        "\r",
        "Done image 730 of 2000 (avg time: 0.239321575608 secs --- remaining: 5:3)"
       ]
      },
      {
       "output_type": "stream",
       "stream": "stdout",
       "text": [
        "\r",
        "Done image 731 of 2000 (avg time: 0.238994792185 secs --- remaining: 5:3)"
       ]
      },
      {
       "output_type": "stream",
       "stream": "stdout",
       "text": [
        "\r",
        "Done image 732 of 2000 (avg time: 0.238668899094 secs --- remaining: 5:2)"
       ]
      },
      {
       "output_type": "stream",
       "stream": "stdout",
       "text": [
        "\r",
        "Done image 733 of 2000 (avg time: 0.238343923878 secs --- remaining: 5:1)"
       ]
      },
      {
       "output_type": "stream",
       "stream": "stdout",
       "text": [
        "\r",
        "Done image 734 of 2000 (avg time: 0.23801981381 secs --- remaining: 5:1)"
       ]
      },
      {
       "output_type": "stream",
       "stream": "stdout",
       "text": [
        "\r",
        "Done image 735 of 2000 (avg time: 0.2376966457 secs --- remaining: 5:0)"
       ]
      },
      {
       "output_type": "stream",
       "stream": "stdout",
       "text": [
        "\r",
        "Done image 736 of 2000 (avg time: 0.237374296344 secs --- remaining: 4:59)"
       ]
      },
      {
       "output_type": "stream",
       "stream": "stdout",
       "text": [
        "\r",
        "Done image 737 of 2000 (avg time: 0.237052817655 secs --- remaining: 4:59)"
       ]
      },
      {
       "output_type": "stream",
       "stream": "stdout",
       "text": [
        "\r",
        "Done image 738 of 2000 (avg time: 0.23673220739 secs --- remaining: 4:58)"
       ]
      },
      {
       "output_type": "stream",
       "stream": "stdout",
       "text": [
        "\r",
        "Done image 739 of 2000 (avg time: 0.236412461062 secs --- remaining: 4:57)"
       ]
      },
      {
       "output_type": "stream",
       "stream": "stdout",
       "text": [
        "\r",
        "Done image 740 of 2000 (avg time: 0.236093579034 secs --- remaining: 4:57)"
       ]
      },
      {
       "output_type": "stream",
       "stream": "stdout",
       "text": [
        "\r",
        "Done image 741 of 2000 (avg time: 0.235775558132 secs --- remaining: 4:56)"
       ]
      },
      {
       "output_type": "stream",
       "stream": "stdout",
       "text": [
        "\r",
        "Done image 742 of 2000 (avg time: 0.235458391993 secs --- remaining: 4:55)"
       ]
      },
      {
       "output_type": "stream",
       "stream": "stdout",
       "text": [
        "\r",
        "Done image 743 of 2000 (avg time: 0.235142070119 secs --- remaining: 4:55)"
       ]
      },
      {
       "output_type": "stream",
       "stream": "stdout",
       "text": [
        "\r",
        "Done image 744 of 2000 (avg time: 0.234826594871 secs --- remaining: 4:54)"
       ]
      },
      {
       "output_type": "stream",
       "stream": "stdout",
       "text": [
        "\r",
        "Done image 745 of 2000 (avg time: 0.23451196668 secs --- remaining: 4:54)"
       ]
      },
      {
       "output_type": "stream",
       "stream": "stdout",
       "text": [
        "\r",
        "Done image 746 of 2000 (avg time: 0.23419818342 secs --- remaining: 4:53)"
       ]
      },
      {
       "output_type": "stream",
       "stream": "stdout",
       "text": [
        "\r",
        "Done image 747 of 2000 (avg time: 0.233885237877 secs --- remaining: 4:52)"
       ]
      },
      {
       "output_type": "stream",
       "stream": "stdout",
       "text": [
        "\r",
        "Done image 748 of 2000 (avg time: 0.233573127971 secs --- remaining: 4:52)"
       ]
      },
      {
       "output_type": "stream",
       "stream": "stdout",
       "text": [
        "\r",
        "Done image 749 of 2000 (avg time: 0.233261849085 secs --- remaining: 4:51)"
       ]
      },
      {
       "output_type": "stream",
       "stream": "stdout",
       "text": [
        "\r",
        "Done image 750 of 2000 (avg time: 0.232951397902 secs --- remaining: 4:50)"
       ]
      },
      {
       "output_type": "stream",
       "stream": "stdout",
       "text": [
        "\r",
        "Done image 751 of 2000 (avg time: 0.232641773655 secs --- remaining: 4:50)"
       ]
      },
      {
       "output_type": "stream",
       "stream": "stdout",
       "text": [
        "\r",
        "Done image 752 of 2000 (avg time: 0.232332970517 secs --- remaining: 4:49)"
       ]
      },
      {
       "output_type": "stream",
       "stream": "stdout",
       "text": [
        "\r",
        "Done image 753 of 2000 (avg time: 0.232024989014 secs --- remaining: 4:49)"
       ]
      },
      {
       "output_type": "stream",
       "stream": "stdout",
       "text": [
        "\r",
        "Done image 754 of 2000 (avg time: 0.231717822094 secs --- remaining: 4:48)"
       ]
      },
      {
       "output_type": "stream",
       "stream": "stdout",
       "text": [
        "\r",
        "Done image 755 of 2000 (avg time: 0.231411467784 secs --- remaining: 4:47)"
       ]
      },
      {
       "output_type": "stream",
       "stream": "stdout",
       "text": [
        "\r",
        "Done image 756 of 2000 (avg time: 0.231105928219 secs --- remaining: 4:47)"
       ]
      },
      {
       "output_type": "stream",
       "stream": "stdout",
       "text": [
        "\r",
        "Done image 757 of 2000 (avg time: 0.230801190739 secs --- remaining: 4:46)"
       ]
      },
      {
       "output_type": "stream",
       "stream": "stdout",
       "text": [
        "\r",
        "Done image 758 of 2000 (avg time: 0.230497255313 secs --- remaining: 4:46)"
       ]
      },
      {
       "output_type": "stream",
       "stream": "stdout",
       "text": [
        "\r",
        "Done image 759 of 2000 (avg time: 0.230194118148 secs --- remaining: 4:45)"
       ]
      },
      {
       "output_type": "stream",
       "stream": "stdout",
       "text": [
        "\r",
        "Done image 760 of 2000 (avg time: 0.229891778918 secs --- remaining: 4:44)"
       ]
      },
      {
       "output_type": "stream",
       "stream": "stdout",
       "text": [
        "\r",
        "Done image 761 of 2000 (avg time: 0.22959023323 secs --- remaining: 4:44)"
       ]
      },
      {
       "output_type": "stream",
       "stream": "stdout",
       "text": [
        "\r",
        "Done image 762 of 2000 (avg time: 0.229289479212 secs --- remaining: 4:43)"
       ]
      },
      {
       "output_type": "stream",
       "stream": "stdout",
       "text": [
        "\r",
        "Done image 763 of 2000 (avg time: 0.228989512508 secs --- remaining: 4:43)"
       ]
      },
      {
       "output_type": "stream",
       "stream": "stdout",
       "text": [
        "\r",
        "Done image 764 of 2000 (avg time: 0.228690330032 secs --- remaining: 4:42)"
       ]
      },
      {
       "output_type": "stream",
       "stream": "stdout",
       "text": [
        "\r",
        "Done image 765 of 2000 (avg time: 0.228391929021 secs --- remaining: 4:41)"
       ]
      },
      {
       "output_type": "stream",
       "stream": "stdout",
       "text": [
        "\r",
        "Done image 766 of 2000 (avg time: 0.228094307354 secs --- remaining: 4:41)"
       ]
      },
      {
       "output_type": "stream",
       "stream": "stdout",
       "text": [
        "\r",
        "Done image 767 of 2000 (avg time: 0.227797457948 secs --- remaining: 4:40)"
       ]
      },
      {
       "output_type": "stream",
       "stream": "stdout",
       "text": [
        "\r",
        "Done image 768 of 2000 (avg time: 0.227501381823 secs --- remaining: 4:40)"
       ]
      },
      {
       "output_type": "stream",
       "stream": "stdout",
       "text": [
        "\r",
        "Done image 769 of 2000 (avg time: 0.227206097021 secs --- remaining: 4:39)"
       ]
      },
      {
       "output_type": "stream",
       "stream": "stdout",
       "text": [
        "\r",
        "Done image 770 of 2000 (avg time: 0.226911555932 secs --- remaining: 4:38)"
       ]
      },
      {
       "output_type": "stream",
       "stream": "stdout",
       "text": [
        "\r",
        "Done image 771 of 2000 (avg time: 0.226617776668 secs --- remaining: 4:38)"
       ]
      },
      {
       "output_type": "stream",
       "stream": "stdout",
       "text": [
        "\r",
        "Done image 772 of 2000 (avg time: 0.226324759048 secs --- remaining: 4:37)"
       ]
      },
      {
       "output_type": "stream",
       "stream": "stdout",
       "text": [
        "\r",
        "Done image 773 of 2000 (avg time: 0.22603250628 secs --- remaining: 4:37)"
       ]
      },
      {
       "output_type": "stream",
       "stream": "stdout",
       "text": [
        "\r",
        "Done image 774 of 2000 (avg time: 0.225740999714 secs --- remaining: 4:36)"
       ]
      },
      {
       "output_type": "stream",
       "stream": "stdout",
       "text": [
        "\r",
        "Done image 775 of 2000 (avg time: 0.225450241996 secs --- remaining: 4:35)"
       ]
      },
      {
       "output_type": "stream",
       "stream": "stdout",
       "text": [
        "\r",
        "Done image 776 of 2000 (avg time: 0.225160266135 secs --- remaining: 4:35)"
       ]
      },
      {
       "output_type": "stream",
       "stream": "stdout",
       "text": [
        "\r",
        "Done image 777 of 2000 (avg time: 0.224871093632 secs --- remaining: 4:34)"
       ]
      },
      {
       "output_type": "stream",
       "stream": "stdout",
       "text": [
        "\r",
        "Done image 778 of 2000 (avg time: 0.224582632638 secs --- remaining: 4:34)"
       ]
      },
      {
       "output_type": "stream",
       "stream": "stdout",
       "text": [
        "\r",
        "Done image 779 of 2000 (avg time: 0.22429485749 secs --- remaining: 4:33)"
       ]
      },
      {
       "output_type": "stream",
       "stream": "stdout",
       "text": [
        "\r",
        "Done image 780 of 2000 (avg time: 0.224007815313 secs --- remaining: 4:33)"
       ]
      },
      {
       "output_type": "stream",
       "stream": "stdout",
       "text": [
        "\r",
        "Done image 781 of 2000 (avg time: 0.223721542932 secs --- remaining: 4:32)"
       ]
      },
      {
       "output_type": "stream",
       "stream": "stdout",
       "text": [
        "\r",
        "Done image 782 of 2000 (avg time: 0.223435979237 secs --- remaining: 4:31)"
       ]
      },
      {
       "output_type": "stream",
       "stream": "stdout",
       "text": [
        "\r",
        "Done image 783 of 2000 (avg time: 0.223151141283 secs --- remaining: 4:31)"
       ]
      },
      {
       "output_type": "stream",
       "stream": "stdout",
       "text": [
        "\r",
        "Done image 784 of 2000 (avg time: 0.222867060923 secs --- remaining: 4:30)"
       ]
      },
      {
       "output_type": "stream",
       "stream": "stdout",
       "text": [
        "\r",
        "Done image 785 of 2000 (avg time: 0.222583672776 secs --- remaining: 4:30)"
       ]
      },
      {
       "output_type": "stream",
       "stream": "stdout",
       "text": [
        "\r",
        "Done image 786 of 2000 (avg time: 0.222301002379 secs --- remaining: 4:29)"
       ]
      },
      {
       "output_type": "stream",
       "stream": "stdout",
       "text": [
        "\r",
        "Done image 787 of 2000 (avg time: 0.222019067271 secs --- remaining: 4:29)"
       ]
      },
      {
       "output_type": "stream",
       "stream": "stdout",
       "text": [
        "\r",
        "Done image 788 of 2000 (avg time: 0.221737831415 secs --- remaining: 4:28)"
       ]
      },
      {
       "output_type": "stream",
       "stream": "stdout",
       "text": [
        "\r",
        "Done image 789 of 2000 (avg time: 0.221457302721 secs --- remaining: 4:27)"
       ]
      },
      {
       "output_type": "stream",
       "stream": "stdout",
       "text": [
        "\r",
        "Done image 790 of 2000 (avg time: 0.221177481821 secs --- remaining: 4:27)"
       ]
      },
      {
       "output_type": "stream",
       "stream": "stdout",
       "text": [
        "\r",
        "Done image 791 of 2000 (avg time: 0.220898363927 secs --- remaining: 4:26)"
       ]
      },
      {
       "output_type": "stream",
       "stream": "stdout",
       "text": [
        "\r",
        "Done image 792 of 2000 (avg time: 0.220619947583 secs --- remaining: 4:26)"
       ]
      },
      {
       "output_type": "stream",
       "stream": "stdout",
       "text": [
        "\r",
        "Done image 793 of 2000 (avg time: 0.22034223374 secs --- remaining: 4:25)"
       ]
      },
      {
       "output_type": "stream",
       "stream": "stdout",
       "text": [
        "\r",
        "Done image 794 of 2000 (avg time: 0.220065218248 secs --- remaining: 4:25)"
       ]
      },
      {
       "output_type": "stream",
       "stream": "stdout",
       "text": [
        "\r",
        "Done image 795 of 2000 (avg time: 0.219788898775 secs --- remaining: 4:24)"
       ]
      },
      {
       "output_type": "stream",
       "stream": "stdout",
       "text": [
        "\r",
        "Done image 796 of 2000 (avg time: 0.219513273 secs --- remaining: 4:24)"
       ]
      },
      {
       "output_type": "stream",
       "stream": "stdout",
       "text": [
        "\r",
        "Done image 797 of 2000 (avg time: 0.219238337718 secs --- remaining: 4:23)"
       ]
      },
      {
       "output_type": "stream",
       "stream": "stdout",
       "text": [
        "\r",
        "Done image 798 of 2000 (avg time: 0.218964090932 secs --- remaining: 4:22)"
       ]
      },
      {
       "output_type": "stream",
       "stream": "stdout",
       "text": [
        "\r",
        "Done image 799 of 2000 (avg time: 0.218690528572 secs --- remaining: 4:22)"
       ]
      },
      {
       "output_type": "stream",
       "stream": "stdout",
       "text": [
        "\r",
        "Done image 800 of 2000 (avg time: 0.218417650156 secs --- remaining: 4:21)"
       ]
      },
      {
       "output_type": "stream",
       "stream": "stdout",
       "text": [
        "\r",
        "Done image 801 of 2000 (avg time: 0.218145470964 secs --- remaining: 4:21)"
       ]
      },
      {
       "output_type": "stream",
       "stream": "stdout",
       "text": [
        "\r",
        "Done image 802 of 2000 (avg time: 0.21787395602 secs --- remaining: 4:20)"
       ]
      },
      {
       "output_type": "stream",
       "stream": "stdout",
       "text": [
        "\r",
        "Done image 803 of 2000 (avg time: 0.217603112631 secs --- remaining: 4:20)"
       ]
      },
      {
       "output_type": "stream",
       "stream": "stdout",
       "text": [
        "\r",
        "Done image 804 of 2000 (avg time: 0.217332941257 secs --- remaining: 4:19)"
       ]
      },
      {
       "output_type": "stream",
       "stream": "stdout",
       "text": [
        "\r",
        "Done image 805 of 2000 (avg time: 0.217063438804 secs --- remaining: 4:19)"
       ]
      },
      {
       "output_type": "stream",
       "stream": "stdout",
       "text": [
        "\r",
        "Done image 806 of 2000 (avg time: 0.216794607808 secs --- remaining: 4:18)"
       ]
      },
      {
       "output_type": "stream",
       "stream": "stdout",
       "text": [
        "\r",
        "Done image 807 of 2000 (avg time: 0.21652644017 secs --- remaining: 4:18)"
       ]
      },
      {
       "output_type": "stream",
       "stream": "stdout",
       "text": [
        "\r",
        "Done image 808 of 2000 (avg time: 0.216258934019 secs --- remaining: 4:17)"
       ]
      },
      {
       "output_type": "stream",
       "stream": "stdout",
       "text": [
        "\r",
        "Done image 809 of 2000 (avg time: 0.215992109275 secs --- remaining: 4:17)"
       ]
      },
      {
       "output_type": "stream",
       "stream": "stdout",
       "text": [
        "\r",
        "Done image 810 of 2000 (avg time: 0.215725922849 secs --- remaining: 4:16)"
       ]
      },
      {
       "output_type": "stream",
       "stream": "stdout",
       "text": [
        "\r",
        "Done image 811 of 2000 (avg time: 0.215460389706 secs --- remaining: 4:15)"
       ]
      },
      {
       "output_type": "stream",
       "stream": "stdout",
       "text": [
        "\r",
        "Done image 812 of 2000 (avg time: 0.21519550978 secs --- remaining: 4:15)"
       ]
      },
      {
       "output_type": "stream",
       "stream": "stdout",
       "text": [
        "\r",
        "Done image 813 of 2000 (avg time: 0.214931280666 secs --- remaining: 4:14)"
       ]
      },
      {
       "output_type": "stream",
       "stream": "stdout",
       "text": [
        "\r",
        "Done image 814 of 2000 (avg time: 0.214667712253 secs --- remaining: 4:14)"
       ]
      },
      {
       "output_type": "stream",
       "stream": "stdout",
       "text": [
        "\r",
        "Done image 815 of 2000 (avg time: 0.214404777569 secs --- remaining: 4:13)"
       ]
      },
      {
       "output_type": "stream",
       "stream": "stdout",
       "text": [
        "\r",
        "Done image 816 of 2000 (avg time: 0.214142486544 secs --- remaining: 4:13)"
       ]
      },
      {
       "output_type": "stream",
       "stream": "stdout",
       "text": [
        "\r",
        "Done image 817 of 2000 (avg time: 0.213880837984 secs --- remaining: 4:12)"
       ]
      },
      {
       "output_type": "stream",
       "stream": "stdout",
       "text": [
        "\r",
        "Done image 818 of 2000 (avg time: 0.213619827205 secs --- remaining: 4:12)"
       ]
      },
      {
       "output_type": "stream",
       "stream": "stdout",
       "text": [
        "\r",
        "Done image 819 of 2000 (avg time: 0.213359451875 secs --- remaining: 4:11)"
       ]
      },
      {
       "output_type": "stream",
       "stream": "stdout",
       "text": [
        "\r",
        "Done image 820 of 2000 (avg time: 0.213099713157 secs --- remaining: 4:11)"
       ]
      },
      {
       "output_type": "stream",
       "stream": "stdout",
       "text": [
        "\r",
        "Done image 821 of 2000 (avg time: 0.212840605246 secs --- remaining: 4:10)"
       ]
      },
      {
       "output_type": "stream",
       "stream": "stdout",
       "text": [
        "\r",
        "Done image 822 of 2000 (avg time: 0.212582130478 secs --- remaining: 4:10)"
       ]
      },
      {
       "output_type": "stream",
       "stream": "stdout",
       "text": [
        "\r",
        "Done image 823 of 2000 (avg time: 0.212324280762 secs --- remaining: 4:9)"
       ]
      },
      {
       "output_type": "stream",
       "stream": "stdout",
       "text": [
        "\r",
        "Done image 824 of 2000 (avg time: 0.212067084168 secs --- remaining: 4:9)"
       ]
      },
      {
       "output_type": "stream",
       "stream": "stdout",
       "text": [
        "\r",
        "Done image 825 of 2000 (avg time: 0.211810484925 secs --- remaining: 4:8)"
       ]
      },
      {
       "output_type": "stream",
       "stream": "stdout",
       "text": [
        "\r",
        "Done image 826 of 2000 (avg time: 0.211554503643 secs --- remaining: 4:8)"
       ]
      },
      {
       "output_type": "stream",
       "stream": "stdout",
       "text": [
        "\r",
        "Done image 827 of 2000 (avg time: 0.211299140672 secs --- remaining: 4:7)"
       ]
      },
      {
       "output_type": "stream",
       "stream": "stdout",
       "text": [
        "\r",
        "Done image 828 of 2000 (avg time: 0.211044407006 secs --- remaining: 4:7)"
       ]
      },
      {
       "output_type": "stream",
       "stream": "stdout",
       "text": [
        "\r",
        "Done image 829 of 2000 (avg time: 0.210790274229 secs --- remaining: 4:6)"
       ]
      },
      {
       "output_type": "stream",
       "stream": "stdout",
       "text": [
        "\r",
        "Done image 830 of 2000 (avg time: 0.210536752797 secs --- remaining: 4:6)"
       ]
      },
      {
       "output_type": "stream",
       "stream": "stdout",
       "text": [
        "\r",
        "Done image 831 of 2000 (avg time: 0.210283843371 secs --- remaining: 4:5)"
       ]
      },
      {
       "output_type": "stream",
       "stream": "stdout",
       "text": [
        "\r",
        "Done image 832 of 2000 (avg time: 0.210031538594 secs --- remaining: 4:5)"
       ]
      },
      {
       "output_type": "stream",
       "stream": "stdout",
       "text": [
        "\r",
        "Done image 833 of 2000 (avg time: 0.20977983772 secs --- remaining: 4:4)"
       ]
      },
      {
       "output_type": "stream",
       "stream": "stdout",
       "text": [
        "\r",
        "Done image 834 of 2000 (avg time: 0.209528742008 secs --- remaining: 4:4)"
       ]
      },
      {
       "output_type": "stream",
       "stream": "stdout",
       "text": [
        "\r",
        "Done image 835 of 2000 (avg time: 0.20927825071 secs --- remaining: 4:3)"
       ]
      },
      {
       "output_type": "stream",
       "stream": "stdout",
       "text": [
        "\r",
        "Done image 836 of 2000 (avg time: 0.209028355679 secs --- remaining: 4:3)"
       ]
      },
      {
       "output_type": "stream",
       "stream": "stdout",
       "text": [
        "\r",
        "Done image 837 of 2000 (avg time: 0.208779116519 secs --- remaining: 4:2)"
       ]
      },
      {
       "output_type": "stream",
       "stream": "stdout",
       "text": [
        "\r",
        "Done image 838 of 2000 (avg time: 0.208530423752 secs --- remaining: 4:2)"
       ]
      },
      {
       "output_type": "stream",
       "stream": "stdout",
       "text": [
        "\r",
        "Done image 839 of 2000 (avg time: 0.208282322259 secs --- remaining: 4:1)"
       ]
      },
      {
       "output_type": "stream",
       "stream": "stdout",
       "text": [
        "\r",
        "Done image 840 of 2000 (avg time: 0.208034807096 secs --- remaining: 4:1)"
       ]
      },
      {
       "output_type": "stream",
       "stream": "stdout",
       "text": [
        "\r",
        "Done image 841 of 2000 (avg time: 0.207787884669 secs --- remaining: 4:0)"
       ]
      },
      {
       "output_type": "stream",
       "stream": "stdout",
       "text": [
        "\r",
        "Done image 842 of 2000 (avg time: 0.207541536182 secs --- remaining: 4:0)"
       ]
      },
      {
       "output_type": "stream",
       "stream": "stdout",
       "text": [
        "\r",
        "Done image 843 of 2000 (avg time: 0.207295773719 secs --- remaining: 3:59)"
       ]
      },
      {
       "output_type": "stream",
       "stream": "stdout",
       "text": [
        "\r",
        "Done image 844 of 2000 (avg time: 0.207050592942 secs --- remaining: 3:59)"
       ]
      },
      {
       "output_type": "stream",
       "stream": "stdout",
       "text": [
        "\r",
        "Done image 845 of 2000 (avg time: 0.206805996297 secs --- remaining: 3:58)"
       ]
      },
      {
       "output_type": "stream",
       "stream": "stdout",
       "text": [
        "\r",
        "Done image 846 of 2000 (avg time: 0.206561980872 secs --- remaining: 3:58)"
       ]
      },
      {
       "output_type": "stream",
       "stream": "stdout",
       "text": [
        "\r",
        "Done image 847 of 2000 (avg time: 0.206318540955 secs --- remaining: 3:57)"
       ]
      },
      {
       "output_type": "stream",
       "stream": "stdout",
       "text": [
        "\r",
        "Done image 848 of 2000 (avg time: 0.20607567339 secs --- remaining: 3:57)"
       ]
      },
      {
       "output_type": "stream",
       "stream": "stdout",
       "text": [
        "\r",
        "Done image 849 of 2000 (avg time: 0.205833377277 secs --- remaining: 3:56)"
       ]
      },
      {
       "output_type": "stream",
       "stream": "stdout",
       "text": [
        "\r",
        "Done image 850 of 2000 (avg time: 0.205591654245 secs --- remaining: 3:56)"
       ]
      },
      {
       "output_type": "stream",
       "stream": "stdout",
       "text": [
        "\r",
        "Done image 851 of 2000 (avg time: 0.205350498358 secs --- remaining: 3:55)"
       ]
      },
      {
       "output_type": "stream",
       "stream": "stdout",
       "text": [
        "\r",
        "Done image 852 of 2000 (avg time: 0.205109911815 secs --- remaining: 3:55)"
       ]
      },
      {
       "output_type": "stream",
       "stream": "stdout",
       "text": [
        "\r",
        "Done image 853 of 2000 (avg time: 0.204869906015 secs --- remaining: 3:54)"
       ]
      },
      {
       "output_type": "stream",
       "stream": "stdout",
       "text": [
        "\r",
        "Done image 854 of 2000 (avg time: 0.204630442948 secs --- remaining: 3:54)"
       ]
      },
      {
       "output_type": "stream",
       "stream": "stdout",
       "text": [
        "\r",
        "Done image 855 of 2000 (avg time: 0.204391533526 secs --- remaining: 3:53)"
       ]
      },
      {
       "output_type": "stream",
       "stream": "stdout",
       "text": [
        "\r",
        "Done image 856 of 2000 (avg time: 0.204153200292 secs --- remaining: 3:53)"
       ]
      },
      {
       "output_type": "stream",
       "stream": "stdout",
       "text": [
        "\r",
        "Done image 857 of 2000 (avg time: 0.203915400661 secs --- remaining: 3:52)"
       ]
      },
      {
       "output_type": "stream",
       "stream": "stdout",
       "text": [
        "\r",
        "Done image 858 of 2000 (avg time: 0.203678152198 secs --- remaining: 3:52)"
       ]
      },
      {
       "output_type": "stream",
       "stream": "stdout",
       "text": [
        "\r",
        "Done image 859 of 2000 (avg time: 0.203441455475 secs --- remaining: 3:51)"
       ]
      },
      {
       "output_type": "stream",
       "stream": "stdout",
       "text": [
        "\r",
        "Done image 860 of 2000 (avg time: 0.203205309955 secs --- remaining: 3:51)"
       ]
      },
      {
       "output_type": "stream",
       "stream": "stdout",
       "text": [
        "\r",
        "Done image 861 of 2000 (avg time: 0.202969709848 secs --- remaining: 3:50)"
       ]
      },
      {
       "output_type": "stream",
       "stream": "stdout",
       "text": [
        "\r",
        "Done image 862 of 2000 (avg time: 0.202734652151 secs --- remaining: 3:50)"
       ]
      },
      {
       "output_type": "stream",
       "stream": "stdout",
       "text": [
        "\r",
        "Done image 863 of 2000 (avg time: 0.202500139949 secs --- remaining: 3:50)"
       ]
      },
      {
       "output_type": "stream",
       "stream": "stdout",
       "text": [
        "\r",
        "Done image 864 of 2000 (avg time: 0.202266169973 secs --- remaining: 3:49)"
       ]
      },
      {
       "output_type": "stream",
       "stream": "stdout",
       "text": [
        "\r",
        "Done image 865 of 2000 (avg time: 0.202032740342 secs --- remaining: 3:49)"
       ]
      },
      {
       "output_type": "stream",
       "stream": "stdout",
       "text": [
        "\r",
        "Done image 866 of 2000 (avg time: 0.201799848088 secs --- remaining: 3:48)"
       ]
      },
      {
       "output_type": "stream",
       "stream": "stdout",
       "text": [
        "\r",
        "Done image 867 of 2000 (avg time: 0.201567495748 secs --- remaining: 3:48)"
       ]
      },
      {
       "output_type": "stream",
       "stream": "stdout",
       "text": [
        "\r",
        "Done image 868 of 2000 (avg time: 0.201335678166 secs --- remaining: 3:47)"
       ]
      },
      {
       "output_type": "stream",
       "stream": "stdout",
       "text": [
        "\r",
        "Done image 869 of 2000 (avg time: 0.201104394595 secs --- remaining: 3:47)"
       ]
      },
      {
       "output_type": "stream",
       "stream": "stdout",
       "text": [
        "\r",
        "Done image 870 of 2000 (avg time: 0.200873641004 secs --- remaining: 3:46)"
       ]
      },
      {
       "output_type": "stream",
       "stream": "stdout",
       "text": [
        "\r",
        "Done image 871 of 2000 (avg time: 0.200643417759 secs --- remaining: 3:46)"
       ]
      },
      {
       "output_type": "stream",
       "stream": "stdout",
       "text": [
        "\r",
        "Done image 872 of 2000 (avg time: 0.200413723309 secs --- remaining: 3:45)"
       ]
      },
      {
       "output_type": "stream",
       "stream": "stdout",
       "text": [
        "\r",
        "Done image 873 of 2000 (avg time: 0.200184550929 secs --- remaining: 3:45)"
       ]
      },
      {
       "output_type": "stream",
       "stream": "stdout",
       "text": [
        "\r",
        "Done image 874 of 2000 (avg time: 0.19995590101 secs --- remaining: 3:44)"
       ]
      },
      {
       "output_type": "stream",
       "stream": "stdout",
       "text": [
        "\r",
        "Done image 875 of 2000 (avg time: 0.199727772033 secs --- remaining: 3:44)"
       ]
      },
      {
       "output_type": "stream",
       "stream": "stdout",
       "text": [
        "\r",
        "Done image 876 of 2000 (avg time: 0.199500162218 secs --- remaining: 3:44)"
       ]
      },
      {
       "output_type": "stream",
       "stream": "stdout",
       "text": [
        "\r",
        "Done image 877 of 2000 (avg time: 0.199273070876 secs --- remaining: 3:43)"
       ]
      },
      {
       "output_type": "stream",
       "stream": "stdout",
       "text": [
        "\r",
        "Done image 878 of 2000 (avg time: 0.199046519022 secs --- remaining: 3:43)"
       ]
      },
      {
       "output_type": "stream",
       "stream": "stdout",
       "text": [
        "\r",
        "Done image 879 of 2000 (avg time: 0.198820494522 secs --- remaining: 3:42)"
       ]
      },
      {
       "output_type": "stream",
       "stream": "stdout",
       "text": [
        "\r",
        "Done image 880 of 2000 (avg time: 0.198594959315 secs --- remaining: 3:42)"
       ]
      },
      {
       "output_type": "stream",
       "stream": "stdout",
       "text": [
        "\r",
        "Done image 881 of 2000 (avg time: 0.198369933364 secs --- remaining: 3:41)"
       ]
      },
      {
       "output_type": "stream",
       "stream": "stdout",
       "text": [
        "\r",
        "Done image 882 of 2000 (avg time: 0.198145419258 secs --- remaining: 3:41)"
       ]
      },
      {
       "output_type": "stream",
       "stream": "stdout",
       "text": [
        "\r",
        "Done image 883 of 2000 (avg time: 0.197921411754 secs --- remaining: 3:40)"
       ]
      },
      {
       "output_type": "stream",
       "stream": "stdout",
       "text": [
        "\r",
        "Done image 884 of 2000 (avg time: 0.197697907248 secs --- remaining: 3:40)"
       ]
      },
      {
       "output_type": "stream",
       "stream": "stdout",
       "text": [
        "\r",
        "Done image 885 of 2000 (avg time: 0.197474926643 secs --- remaining: 3:39)"
       ]
      },
      {
       "output_type": "stream",
       "stream": "stdout",
       "text": [
        "\r",
        "Done image 886 of 2000 (avg time: 0.197252430534 secs --- remaining: 3:39)"
       ]
      },
      {
       "output_type": "stream",
       "stream": "stdout",
       "text": [
        "\r",
        "Done image 887 of 2000 (avg time: 0.197030434469 secs --- remaining: 3:39)"
       ]
      },
      {
       "output_type": "stream",
       "stream": "stdout",
       "text": [
        "\r",
        "Done image 888 of 2000 (avg time: 0.196808934614 secs --- remaining: 3:38)"
       ]
      },
      {
       "output_type": "stream",
       "stream": "stdout",
       "text": [
        "\r",
        "Done image 889 of 2000 (avg time: 0.196587934655 secs --- remaining: 3:38)"
       ]
      },
      {
       "output_type": "stream",
       "stream": "stdout",
       "text": [
        "\r",
        "Done image 890 of 2000 (avg time: 0.196367440935 secs --- remaining: 3:37)"
       ]
      },
      {
       "output_type": "stream",
       "stream": "stdout",
       "text": [
        "\r",
        "Done image 891 of 2000 (avg time: 0.196147435984 secs --- remaining: 3:37)"
       ]
      },
      {
       "output_type": "stream",
       "stream": "stdout",
       "text": [
        "\r",
        "Done image 892 of 2000 (avg time: 0.195927919225 secs --- remaining: 3:36)"
       ]
      },
      {
       "output_type": "stream",
       "stream": "stdout",
       "text": [
        "\r",
        "Done image 893 of 2000 (avg time: 0.195708895956 secs --- remaining: 3:36)"
       ]
      },
      {
       "output_type": "stream",
       "stream": "stdout",
       "text": [
        "\r",
        "Done image 894 of 2000 (avg time: 0.19549035733 secs --- remaining: 3:36)"
       ]
      },
      {
       "output_type": "stream",
       "stream": "stdout",
       "text": [
        "\r",
        "Done image 895 of 2000 (avg time: 0.195272346959 secs --- remaining: 3:35)"
       ]
      },
      {
       "output_type": "stream",
       "stream": "stdout",
       "text": [
        "\r",
        "Done image 896 of 2000 (avg time: 0.195054781477 secs --- remaining: 3:35)"
       ]
      },
      {
       "output_type": "stream",
       "stream": "stdout",
       "text": [
        "\r",
        "Done image 897 of 2000 (avg time: 0.194837698161 secs --- remaining: 3:34)"
       ]
      },
      {
       "output_type": "stream",
       "stream": "stdout",
       "text": [
        "\r",
        "Done image 898 of 2000 (avg time: 0.19462109885 secs --- remaining: 3:34)"
       ]
      },
      {
       "output_type": "stream",
       "stream": "stdout",
       "text": [
        "\r",
        "Done image 899 of 2000 (avg time: 0.194404978752 secs --- remaining: 3:33)"
       ]
      },
      {
       "output_type": "stream",
       "stream": "stdout",
       "text": [
        "\r",
        "Done image 900 of 2000 (avg time: 0.194189340505 secs --- remaining: 3:33)"
       ]
      },
      {
       "output_type": "stream",
       "stream": "stdout",
       "text": [
        "\r",
        "Done image 901 of 2000 (avg time: 0.193974179598 secs --- remaining: 3:32)"
       ]
      },
      {
       "output_type": "stream",
       "stream": "stdout",
       "text": [
        "\r",
        "Done image 902 of 2000 (avg time: 0.193759493918 secs --- remaining: 3:32)"
       ]
      },
      {
       "output_type": "stream",
       "stream": "stdout",
       "text": [
        "\r",
        "Done image 903 of 2000 (avg time: 0.193545284261 secs --- remaining: 3:32)"
       ]
      },
      {
       "output_type": "stream",
       "stream": "stdout",
       "text": [
        "\r",
        "Done image 904 of 2000 (avg time: 0.193331547995 secs --- remaining: 3:31)"
       ]
      },
      {
       "output_type": "stream",
       "stream": "stdout",
       "text": [
        "\r",
        "Done image 905 of 2000 (avg time: 0.193118282501 secs --- remaining: 3:31)"
       ]
      },
      {
       "output_type": "stream",
       "stream": "stdout",
       "text": [
        "\r",
        "Done image 906 of 2000 (avg time: 0.192905500416 secs --- remaining: 3:30)"
       ]
      },
      {
       "output_type": "stream",
       "stream": "stdout",
       "text": [
        "\r",
        "Done image 907 of 2000 (avg time: 0.192693174936 secs --- remaining: 3:30)"
       ]
      },
      {
       "output_type": "stream",
       "stream": "stdout",
       "text": [
        "\r",
        "Done image 908 of 2000 (avg time: 0.192481317929 secs --- remaining: 3:29)"
       ]
      },
      {
       "output_type": "stream",
       "stream": "stdout",
       "text": [
        "\r",
        "Done image 909 of 2000 (avg time: 0.192269929687 secs --- remaining: 3:29)"
       ]
      },
      {
       "output_type": "stream",
       "stream": "stdout",
       "text": [
        "\r",
        "Done image 910 of 2000 (avg time: 0.192059003168 secs --- remaining: 3:29)"
       ]
      },
      {
       "output_type": "stream",
       "stream": "stdout",
       "text": [
        "\r",
        "Done image 911 of 2000 (avg time: 0.191848554894 secs --- remaining: 3:28)"
       ]
      },
      {
       "output_type": "stream",
       "stream": "stdout",
       "text": [
        "\r",
        "Done image 912 of 2000 (avg time: 0.191638560833 secs --- remaining: 3:28)"
       ]
      },
      {
       "output_type": "stream",
       "stream": "stdout",
       "text": [
        "\r",
        "Done image 913 of 2000 (avg time: 0.1914290208 secs --- remaining: 3:27)"
       ]
      },
      {
       "output_type": "stream",
       "stream": "stdout",
       "text": [
        "\r",
        "Done image 914 of 2000 (avg time: 0.191219935391 secs --- remaining: 3:27)"
       ]
      },
      {
       "output_type": "stream",
       "stream": "stdout",
       "text": [
        "\r",
        "Done image 915 of 2000 (avg time: 0.191011307802 secs --- remaining: 3:27)"
       ]
      },
      {
       "output_type": "stream",
       "stream": "stdout",
       "text": [
        "\r",
        "Done image 916 of 2000 (avg time: 0.190803132114 secs --- remaining: 3:26)"
       ]
      },
      {
       "output_type": "stream",
       "stream": "stdout",
       "text": [
        "\r",
        "Done image 917 of 2000 (avg time: 0.190595413085 secs --- remaining: 3:26)"
       ]
      },
      {
       "output_type": "stream",
       "stream": "stdout",
       "text": [
        "\r",
        "Done image 918 of 2000 (avg time: 0.190388143776 secs --- remaining: 3:25)"
       ]
      },
      {
       "output_type": "stream",
       "stream": "stdout",
       "text": [
        "\r",
        "Done image 919 of 2000 (avg time: 0.190181324015 secs --- remaining: 3:25)"
       ]
      },
      {
       "output_type": "stream",
       "stream": "stdout",
       "text": [
        "\r",
        "Done image 920 of 2000 (avg time: 0.18997495441 secs --- remaining: 3:24)"
       ]
      },
      {
       "output_type": "stream",
       "stream": "stdout",
       "text": [
        "\r",
        "Done image 921 of 2000 (avg time: 0.18976903272 secs --- remaining: 3:24)"
       ]
      },
      {
       "output_type": "stream",
       "stream": "stdout",
       "text": [
        "\r",
        "Done image 922 of 2000 (avg time: 0.18956355594 secs --- remaining: 3:24)"
       ]
      },
      {
       "output_type": "stream",
       "stream": "stdout",
       "text": [
        "\r",
        "Done image 923 of 2000 (avg time: 0.189358525204 secs --- remaining: 3:23)"
       ]
      },
      {
       "output_type": "stream",
       "stream": "stdout",
       "text": [
        "\r",
        "Done image 924 of 2000 (avg time: 0.189153938551 secs --- remaining: 3:23)"
       ]
      },
      {
       "output_type": "stream",
       "stream": "stdout",
       "text": [
        "\r",
        "Done image 925 of 2000 (avg time: 0.188949795058 secs --- remaining: 3:22)"
       ]
      },
      {
       "output_type": "stream",
       "stream": "stdout",
       "text": [
        "\r",
        "Done image 926 of 2000 (avg time: 0.188746089946 secs --- remaining: 3:22)"
       ]
      },
      {
       "output_type": "stream",
       "stream": "stdout",
       "text": [
        "\r",
        "Done image 927 of 2000 (avg time: 0.188542824881 secs --- remaining: 3:22)"
       ]
      },
      {
       "output_type": "stream",
       "stream": "stdout",
       "text": [
        "\r",
        "Done image 928 of 2000 (avg time: 0.188340006142 secs --- remaining: 3:21)"
       ]
      },
      {
       "output_type": "stream",
       "stream": "stdout",
       "text": [
        "\r",
        "Done image 929 of 2000 (avg time: 0.18813762229 secs --- remaining: 3:21)"
       ]
      },
      {
       "output_type": "stream",
       "stream": "stdout",
       "text": [
        "\r",
        "Done image 930 of 2000 (avg time: 0.187935674229 secs --- remaining: 3:20)"
       ]
      },
      {
       "output_type": "stream",
       "stream": "stdout",
       "text": [
        "\r",
        "Done image 931 of 2000 (avg time: 0.187734157487 secs --- remaining: 3:20)"
       ]
      },
      {
       "output_type": "stream",
       "stream": "stdout",
       "text": [
        "\r",
        "Done image 932 of 2000 (avg time: 0.187533073742 secs --- remaining: 3:20)"
       ]
      },
      {
       "output_type": "stream",
       "stream": "stdout",
       "text": [
        "\r",
        "Done image 933 of 2000 (avg time: 0.187332467553 secs --- remaining: 3:19)"
       ]
      },
      {
       "output_type": "stream",
       "stream": "stdout",
       "text": [
        "\r",
        "Done image 934 of 2000 (avg time: 0.187132241509 secs --- remaining: 3:19)"
       ]
      },
      {
       "output_type": "stream",
       "stream": "stdout",
       "text": [
        "\r",
        "Done image 935 of 2000 (avg time: 0.18693243795 secs --- remaining: 3:18)"
       ]
      },
      {
       "output_type": "stream",
       "stream": "stdout",
       "text": [
        "\r",
        "Done image 936 of 2000 (avg time: 0.186733060611 secs --- remaining: 3:18)"
       ]
      },
      {
       "output_type": "stream",
       "stream": "stdout",
       "text": [
        "\r",
        "Done image 937 of 2000 (avg time: 0.186534107367 secs --- remaining: 3:18)"
       ]
      },
      {
       "output_type": "stream",
       "stream": "stdout",
       "text": [
        "\r",
        "Done image 938 of 2000 (avg time: 0.186335577878 secs --- remaining: 3:17)"
       ]
      },
      {
       "output_type": "stream",
       "stream": "stdout",
       "text": [
        "\r",
        "Done image 939 of 2000 (avg time: 0.186137468764 secs --- remaining: 3:17)"
       ]
      },
      {
       "output_type": "stream",
       "stream": "stdout",
       "text": [
        "\r",
        "Done image 940 of 2000 (avg time: 0.185939781724 secs --- remaining: 3:16)"
       ]
      },
      {
       "output_type": "stream",
       "stream": "stdout",
       "text": [
        "\r",
        "Done image 941 of 2000 (avg time: 0.185742513389 secs --- remaining: 3:16)"
       ]
      },
      {
       "output_type": "stream",
       "stream": "stdout",
       "text": [
        "\r",
        "Done image 942 of 2000 (avg time: 0.185545665462 secs --- remaining: 3:16)"
       ]
      },
      {
       "output_type": "stream",
       "stream": "stdout",
       "text": [
        "\r",
        "Done image 943 of 2000 (avg time: 0.185349233575 secs --- remaining: 3:15)"
       ]
      },
      {
       "output_type": "stream",
       "stream": "stdout",
       "text": [
        "\r",
        "Done image 944 of 2000 (avg time: 0.185153216407 secs --- remaining: 3:15)"
       ]
      },
      {
       "output_type": "stream",
       "stream": "stdout",
       "text": [
        "\r",
        "Done image 945 of 2000 (avg time: 0.184957613653 secs --- remaining: 3:14)"
       ]
      },
      {
       "output_type": "stream",
       "stream": "stdout",
       "text": [
        "\r",
        "Done image 946 of 2000 (avg time: 0.184762423998 secs --- remaining: 3:14)"
       ]
      },
      {
       "output_type": "stream",
       "stream": "stdout",
       "text": [
        "\r",
        "Done image 947 of 2000 (avg time: 0.184567647141 secs --- remaining: 3:14)"
       ]
      },
      {
       "output_type": "stream",
       "stream": "stdout",
       "text": [
        "\r",
        "Done image 948 of 2000 (avg time: 0.184373279768 secs --- remaining: 3:13)"
       ]
      },
      {
       "output_type": "stream",
       "stream": "stdout",
       "text": [
        "\r",
        "Done image 949 of 2000 (avg time: 0.184179322594 secs --- remaining: 3:13)"
       ]
      },
      {
       "output_type": "stream",
       "stream": "stdout",
       "text": [
        "\r",
        "Done image 950 of 2000 (avg time: 0.183985773321 secs --- remaining: 3:13)"
       ]
      },
      {
       "output_type": "stream",
       "stream": "stdout",
       "text": [
        "\r",
        "Done image 951 of 2000 (avg time: 0.183792629663 secs --- remaining: 3:12)"
       ]
      },
      {
       "output_type": "stream",
       "stream": "stdout",
       "text": [
        "\r",
        "Done image 952 of 2000 (avg time: 0.183599891092 secs --- remaining: 3:12)"
       ]
      },
      {
       "output_type": "stream",
       "stream": "stdout",
       "text": [
        "\r",
        "Done image 953 of 2000 (avg time: 0.183407555836 secs --- remaining: 3:11)"
       ]
      },
      {
       "output_type": "stream",
       "stream": "stdout",
       "text": [
        "\r",
        "Done image 954 of 2000 (avg time: 0.183215625373 secs --- remaining: 3:11)"
       ]
      },
      {
       "output_type": "stream",
       "stream": "stdout",
       "text": [
        "\r",
        "Done image 955 of 2000 (avg time: 0.183024096439 secs --- remaining: 3:11)"
       ]
      },
      {
       "output_type": "stream",
       "stream": "stdout",
       "text": [
        "\r",
        "Done image 956 of 2000 (avg time: 0.182832966778 secs --- remaining: 3:10)"
       ]
      },
      {
       "output_type": "stream",
       "stream": "stdout",
       "text": [
        "\r",
        "Done image 957 of 2000 (avg time: 0.182642236134 secs --- remaining: 3:10)"
       ]
      },
      {
       "output_type": "stream",
       "stream": "stdout",
       "text": [
        "\r",
        "Done image 958 of 2000 (avg time: 0.182451903261 secs --- remaining: 3:9)"
       ]
      },
      {
       "output_type": "stream",
       "stream": "stdout",
       "text": [
        "\r",
        "Done image 959 of 2000 (avg time: 0.182261965921 secs --- remaining: 3:9)"
       ]
      },
      {
       "output_type": "stream",
       "stream": "stdout",
       "text": [
        "\r",
        "Done image 960 of 2000 (avg time: 0.182072428089 secs --- remaining: 3:9)"
       ]
      },
      {
       "output_type": "stream",
       "stream": "stdout",
       "text": [
        "\r",
        "Done image 961 of 2000 (avg time: 0.181883282077 secs --- remaining: 3:8)"
       ]
      },
      {
       "output_type": "stream",
       "stream": "stdout",
       "text": [
        "\r",
        "Done image 962 of 2000 (avg time: 0.1816945279 secs --- remaining: 3:8)"
       ]
      },
      {
       "output_type": "stream",
       "stream": "stdout",
       "text": [
        "\r",
        "Done image 963 of 2000 (avg time: 0.181506167309 secs --- remaining: 3:8)"
       ]
      },
      {
       "output_type": "stream",
       "stream": "stdout",
       "text": [
        "\r",
        "Done image 964 of 2000 (avg time: 0.18131819809 secs --- remaining: 3:7)"
       ]
      },
      {
       "output_type": "stream",
       "stream": "stdout",
       "text": [
        "\r",
        "Done image 965 of 2000 (avg time: 0.181130616068 secs --- remaining: 3:7)"
       ]
      },
      {
       "output_type": "stream",
       "stream": "stdout",
       "text": [
        "\r",
        "Done image 966 of 2000 (avg time: 0.180943422012 secs --- remaining: 3:6)"
       ]
      },
      {
       "output_type": "stream",
       "stream": "stdout",
       "text": [
        "\r",
        "Done image 967 of 2000 (avg time: 0.18075661275 secs --- remaining: 3:6)"
       ]
      },
      {
       "output_type": "stream",
       "stream": "stdout",
       "text": [
        "\r",
        "Done image 968 of 2000 (avg time: 0.180570204315 secs --- remaining: 3:6)"
       ]
      },
      {
       "output_type": "stream",
       "stream": "stdout",
       "text": [
        "\r",
        "Done image 969 of 2000 (avg time: 0.180384166953 secs --- remaining: 3:5)"
       ]
      },
      {
       "output_type": "stream",
       "stream": "stdout",
       "text": [
        "\r",
        "Done image 970 of 2000 (avg time: 0.18019851278 secs --- remaining: 3:5)"
       ]
      },
      {
       "output_type": "stream",
       "stream": "stdout",
       "text": [
        "\r",
        "Done image 971 of 2000 (avg time: 0.180013241591 secs --- remaining: 3:5)"
       ]
      },
      {
       "output_type": "stream",
       "stream": "stdout",
       "text": [
        "\r",
        "Done image 972 of 2000 (avg time: 0.179828350247 secs --- remaining: 3:4)"
       ]
      },
      {
       "output_type": "stream",
       "stream": "stdout",
       "text": [
        "\r",
        "Done image 973 of 2000 (avg time: 0.179643839537 secs --- remaining: 3:4)"
       ]
      },
      {
       "output_type": "stream",
       "stream": "stdout",
       "text": [
        "\r",
        "Done image 974 of 2000 (avg time: 0.179459707309 secs --- remaining: 3:3)"
       ]
      },
      {
       "output_type": "stream",
       "stream": "stdout",
       "text": [
        "\r",
        "Done image 975 of 2000 (avg time: 0.179275952402 secs --- remaining: 3:3)"
       ]
      },
      {
       "output_type": "stream",
       "stream": "stdout",
       "text": [
        "\r",
        "Done image 976 of 2000 (avg time: 0.179092571704 secs --- remaining: 3:3)"
       ]
      },
      {
       "output_type": "stream",
       "stream": "stdout",
       "text": [
        "\r",
        "Done image 977 of 2000 (avg time: 0.178909567968 secs --- remaining: 3:2)"
       ]
      },
      {
       "output_type": "stream",
       "stream": "stdout",
       "text": [
        "\r",
        "Done image 978 of 2000 (avg time: 0.178726937116 secs --- remaining: 3:2)"
       ]
      },
      {
       "output_type": "stream",
       "stream": "stdout",
       "text": [
        "\r",
        "Done image 979 of 2000 (avg time: 0.17854467898 secs --- remaining: 3:2)"
       ]
      },
      {
       "output_type": "stream",
       "stream": "stdout",
       "text": [
        "\r",
        "Done image 980 of 2000 (avg time: 0.178362793636 secs --- remaining: 3:1)"
       ]
      },
      {
       "output_type": "stream",
       "stream": "stdout",
       "text": [
        "\r",
        "Done image 981 of 2000 (avg time: 0.178181279701 secs --- remaining: 3:1)"
       ]
      },
      {
       "output_type": "stream",
       "stream": "stdout",
       "text": [
        "\r",
        "Done image 982 of 2000 (avg time: 0.17800013483 secs --- remaining: 3:1)"
       ]
      },
      {
       "output_type": "stream",
       "stream": "stdout",
       "text": [
        "\r",
        "Done image 983 of 2000 (avg time: 0.17781935717 secs --- remaining: 3:0)"
       ]
      },
      {
       "output_type": "stream",
       "stream": "stdout",
       "text": [
        "\r",
        "Done image 984 of 2000 (avg time: 0.17763894754 secs --- remaining: 3:0)"
       ]
      },
      {
       "output_type": "stream",
       "stream": "stdout",
       "text": [
        "\r",
        "Done image 985 of 2000 (avg time: 0.177458905061 secs --- remaining: 2:59)"
       ]
      },
      {
       "output_type": "stream",
       "stream": "stdout",
       "text": [
        "\r",
        "Done image 986 of 2000 (avg time: 0.177279229343 secs --- remaining: 2:59)"
       ]
      },
      {
       "output_type": "stream",
       "stream": "stdout",
       "text": [
        "\r",
        "Done image 987 of 2000 (avg time: 0.177099916375 secs --- remaining: 2:59)"
       ]
      },
      {
       "output_type": "stream",
       "stream": "stdout",
       "text": [
        "\r",
        "Done image 988 of 2000 (avg time: 0.176920964093 secs --- remaining: 2:58)"
       ]
      },
      {
       "output_type": "stream",
       "stream": "stdout",
       "text": [
        "\r",
        "Done image 989 of 2000 (avg time: 0.176742377185 secs --- remaining: 2:58)"
       ]
      },
      {
       "output_type": "stream",
       "stream": "stdout",
       "text": [
        "\r",
        "Done image 990 of 2000 (avg time: 0.176564148769 secs --- remaining: 2:58)"
       ]
      },
      {
       "output_type": "stream",
       "stream": "stdout",
       "text": [
        "\r",
        "Done image 991 of 2000 (avg time: 0.176386287616 secs --- remaining: 2:57)"
       ]
      },
      {
       "output_type": "stream",
       "stream": "stdout",
       "text": [
        "\r",
        "Done image 992 of 2000 (avg time: 0.17620877677 secs --- remaining: 2:57)"
       ]
      },
      {
       "output_type": "stream",
       "stream": "stdout",
       "text": [
        "\r",
        "Done image 993 of 2000 (avg time: 0.17603161997 secs --- remaining: 2:57)"
       ]
      },
      {
       "output_type": "stream",
       "stream": "stdout",
       "text": [
        "\r",
        "Done image 994 of 2000 (avg time: 0.175854820462 secs --- remaining: 2:56)"
       ]
      },
      {
       "output_type": "stream",
       "stream": "stdout",
       "text": [
        "\r",
        "Done image 995 of 2000 (avg time: 0.175678375734 secs --- remaining: 2:56)"
       ]
      },
      {
       "output_type": "stream",
       "stream": "stdout",
       "text": [
        "\r",
        "Done image 996 of 2000 (avg time: 0.175502284958 secs --- remaining: 2:56)"
       ]
      },
      {
       "output_type": "stream",
       "stream": "stdout",
       "text": [
        "\r",
        "Done image 997 of 2000 (avg time: 0.175326547068 secs --- remaining: 2:55)"
       ]
      },
      {
       "output_type": "stream",
       "stream": "stdout",
       "text": [
        "\r",
        "Done image 998 of 2000 (avg time: 0.175151170076 secs --- remaining: 2:55)"
       ]
      },
      {
       "output_type": "stream",
       "stream": "stdout",
       "text": [
        "\r",
        "Done image 999 of 2000 (avg time: 0.174976160765 secs --- remaining: 2:54)"
       ]
      },
      {
       "output_type": "stream",
       "stream": "stdout",
       "text": [
        "\r",
        "Done image 1000 of 2000 (avg time: 0.174801478257 secs --- remaining: 2:54)"
       ]
      },
      {
       "output_type": "stream",
       "stream": "stdout",
       "text": [
        "\r",
        "Done image 1001 of 2000 (avg time: 0.174627155363 secs --- remaining: 2:54)"
       ]
      },
      {
       "output_type": "stream",
       "stream": "stdout",
       "text": [
        "\r",
        "Done image 1002 of 2000 (avg time: 0.174453165096 secs --- remaining: 2:53)"
       ]
      },
      {
       "output_type": "stream",
       "stream": "stdout",
       "text": [
        "\r",
        "Done image 1003 of 2000 (avg time: 0.17427952546 secs --- remaining: 2:53)"
       ]
      },
      {
       "output_type": "stream",
       "stream": "stdout",
       "text": [
        "\r",
        "Done image 1004 of 2000 (avg time: 0.17410623019 secs --- remaining: 2:53)"
       ]
      },
      {
       "output_type": "stream",
       "stream": "stdout",
       "text": [
        "\r",
        "Done image 1005 of 2000 (avg time: 0.173933284657 secs --- remaining: 2:52)"
       ]
      },
      {
       "output_type": "stream",
       "stream": "stdout",
       "text": [
        "\r",
        "Done image 1006 of 2000 (avg time: 0.173760676692 secs --- remaining: 2:52)"
       ]
      },
      {
       "output_type": "stream",
       "stream": "stdout",
       "text": [
        "\r",
        "Done image 1007 of 2000 (avg time: 0.173588432963 secs --- remaining: 2:52)"
       ]
      },
      {
       "output_type": "stream",
       "stream": "stdout",
       "text": [
        "\r",
        "Done image 1008 of 2000 (avg time: 0.17341650891 secs --- remaining: 2:51)"
       ]
      },
      {
       "output_type": "stream",
       "stream": "stdout",
       "text": [
        "\r",
        "Done image 1009 of 2000 (avg time: 0.173244926245 secs --- remaining: 2:51)"
       ]
      },
      {
       "output_type": "stream",
       "stream": "stdout",
       "text": [
        "\r",
        "Done image 1010 of 2000 (avg time: 0.173073680889 secs --- remaining: 2:51)"
       ]
      },
      {
       "output_type": "stream",
       "stream": "stdout",
       "text": [
        "\r",
        "Done image 1011 of 2000 (avg time: 0.172902775141 secs --- remaining: 2:50)"
       ]
      },
      {
       "output_type": "stream",
       "stream": "stdout",
       "text": [
        "\r",
        "Done image 1012 of 2000 (avg time: 0.172732204699 secs --- remaining: 2:50)"
       ]
      },
      {
       "output_type": "stream",
       "stream": "stdout",
       "text": [
        "\r",
        "Done image 1013 of 2000 (avg time: 0.172561969748 secs --- remaining: 2:50)"
       ]
      },
      {
       "output_type": "stream",
       "stream": "stdout",
       "text": [
        "\r",
        "Done image 1014 of 2000 (avg time: 0.172392077047 secs --- remaining: 2:49)"
       ]
      },
      {
       "output_type": "stream",
       "stream": "stdout",
       "text": [
        "\r",
        "Done image 1015 of 2000 (avg time: 0.172222511975 secs --- remaining: 2:49)"
       ]
      },
      {
       "output_type": "stream",
       "stream": "stdout",
       "text": [
        "\r",
        "Done image 1016 of 2000 (avg time: 0.172053280364 secs --- remaining: 2:49)"
       ]
      },
      {
       "output_type": "stream",
       "stream": "stdout",
       "text": [
        "\r",
        "Done image 1017 of 2000 (avg time: 0.171884380296 secs --- remaining: 2:48)"
       ]
      },
      {
       "output_type": "stream",
       "stream": "stdout",
       "text": [
        "\r",
        "Done image 1018 of 2000 (avg time: 0.171715812664 secs --- remaining: 2:48)"
       ]
      },
      {
       "output_type": "stream",
       "stream": "stdout",
       "text": [
        "\r",
        "Done image 1019 of 2000 (avg time: 0.171547575558 secs --- remaining: 2:48)"
       ]
      },
      {
       "output_type": "stream",
       "stream": "stdout",
       "text": [
        "\r",
        "Done image 1020 of 2000 (avg time: 0.171379667071 secs --- remaining: 2:47)"
       ]
      },
      {
       "output_type": "stream",
       "stream": "stdout",
       "text": [
        "\r",
        "Done image 1021 of 2000 (avg time: 0.171212088105 secs --- remaining: 2:47)"
       ]
      },
      {
       "output_type": "stream",
       "stream": "stdout",
       "text": [
        "\r",
        "Done image 1022 of 2000 (avg time: 0.17104483583 secs --- remaining: 2:47)"
       ]
      },
      {
       "output_type": "stream",
       "stream": "stdout",
       "text": [
        "\r",
        "Done image 1023 of 2000 (avg time: 0.17087791115 secs --- remaining: 2:46)"
       ]
      },
      {
       "output_type": "stream",
       "stream": "stdout",
       "text": [
        "\r",
        "Done image 1024 of 2000 (avg time: 0.170711324971 secs --- remaining: 2:46)"
       ]
      },
      {
       "output_type": "stream",
       "stream": "stdout",
       "text": [
        "\r",
        "Done image 1025 of 2000 (avg time: 0.170545051902 secs --- remaining: 2:46)"
       ]
      },
      {
       "output_type": "stream",
       "stream": "stdout",
       "text": [
        "\r",
        "Done image 1026 of 2000 (avg time: 0.170379102404 secs --- remaining: 2:45)"
       ]
      },
      {
       "output_type": "stream",
       "stream": "stdout",
       "text": [
        "\r",
        "Done image 1027 of 2000 (avg time: 0.170213476693 secs --- remaining: 2:45)"
       ]
      },
      {
       "output_type": "stream",
       "stream": "stdout",
       "text": [
        "\r",
        "Done image 1028 of 2000 (avg time: 0.170048180776 secs --- remaining: 2:45)"
       ]
      },
      {
       "output_type": "stream",
       "stream": "stdout",
       "text": [
        "\r",
        "Done image 1029 of 2000 (avg time: 0.169883196331 secs --- remaining: 2:44)"
       ]
      },
      {
       "output_type": "stream",
       "stream": "stdout",
       "text": [
        "\r",
        "Done image 1030 of 2000 (avg time: 0.169718531702 secs --- remaining: 2:44)"
       ]
      },
      {
       "output_type": "stream",
       "stream": "stdout",
       "text": [
        "\r",
        "Done image 1031 of 2000 (avg time: 0.169554185267 secs --- remaining: 2:44)"
       ]
      },
      {
       "output_type": "stream",
       "stream": "stdout",
       "text": [
        "\r",
        "Done image 1032 of 2000 (avg time: 0.16939015887 secs --- remaining: 2:43)"
       ]
      },
      {
       "output_type": "stream",
       "stream": "stdout",
       "text": [
        "\r",
        "Done image 1033 of 2000 (avg time: 0.169226447895 secs --- remaining: 2:43)"
       ]
      },
      {
       "output_type": "stream",
       "stream": "stdout",
       "text": [
        "\r",
        "Done image 1034 of 2000 (avg time: 0.169063055112 secs --- remaining: 2:43)"
       ]
      },
      {
       "output_type": "stream",
       "stream": "stdout",
       "text": [
        "\r",
        "Done image 1035 of 2000 (avg time: 0.168899976839 secs --- remaining: 2:42)"
       ]
      },
      {
       "output_type": "stream",
       "stream": "stdout",
       "text": [
        "\r",
        "Done image 1036 of 2000 (avg time: 0.168737212165 secs --- remaining: 2:42)"
       ]
      },
      {
       "output_type": "stream",
       "stream": "stdout",
       "text": [
        "\r",
        "Done image 1037 of 2000 (avg time: 0.168574762252 secs --- remaining: 2:42)"
       ]
      },
      {
       "output_type": "stream",
       "stream": "stdout",
       "text": [
        "\r",
        "Done image 1038 of 2000 (avg time: 0.168412625044 secs --- remaining: 2:41)"
       ]
      },
      {
       "output_type": "stream",
       "stream": "stdout",
       "text": [
        "\r",
        "Done image 1039 of 2000 (avg time: 0.168250799408 secs --- remaining: 2:41)"
       ]
      },
      {
       "output_type": "stream",
       "stream": "stdout",
       "text": [
        "\r",
        "Done image 1040 of 2000 (avg time: 0.168089286738 secs --- remaining: 2:41)"
       ]
      },
      {
       "output_type": "stream",
       "stream": "stdout",
       "text": [
        "\r",
        "Done image 1041 of 2000 (avg time: 0.167928082929 secs --- remaining: 2:40)"
       ]
      },
      {
       "output_type": "stream",
       "stream": "stdout",
       "text": [
        "\r",
        "Done image 1042 of 2000 (avg time: 0.167767186407 secs --- remaining: 2:40)"
       ]
      },
      {
       "output_type": "stream",
       "stream": "stdout",
       "text": [
        "\r",
        "Done image 1043 of 2000 (avg time: 0.167606599258 secs --- remaining: 2:40)"
       ]
      },
      {
       "output_type": "stream",
       "stream": "stdout",
       "text": [
        "\r",
        "Done image 1044 of 2000 (avg time: 0.167446319452 secs --- remaining: 2:39)"
       ]
      },
      {
       "output_type": "stream",
       "stream": "stdout",
       "text": [
        "\r",
        "Done image 1045 of 2000 (avg time: 0.167286344969 secs --- remaining: 2:39)"
       ]
      },
      {
       "output_type": "stream",
       "stream": "stdout",
       "text": [
        "\r",
        "Done image 1046 of 2000 (avg time: 0.167126676984 secs --- remaining: 2:39)"
       ]
      },
      {
       "output_type": "stream",
       "stream": "stdout",
       "text": [
        "\r",
        "Done image 1047 of 2000 (avg time: 0.166967348971 secs --- remaining: 2:38)"
       ]
      },
      {
       "output_type": "stream",
       "stream": "stdout",
       "text": [
        "\r",
        "Done image 1048 of 2000 (avg time: 0.166808302909 secs --- remaining: 2:38)"
       ]
      },
      {
       "output_type": "stream",
       "stream": "stdout",
       "text": [
        "\r",
        "Done image 1049 of 2000 (avg time: 0.166649549348 secs --- remaining: 2:38)"
       ]
      },
      {
       "output_type": "stream",
       "stream": "stdout",
       "text": [
        "\r",
        "Done image 1050 of 2000 (avg time: 0.166491097887 secs --- remaining: 2:38)"
       ]
      },
      {
       "output_type": "stream",
       "stream": "stdout",
       "text": [
        "\r",
        "Done image 1051 of 2000 (avg time: 0.166332946757 secs --- remaining: 2:37)"
       ]
      },
      {
       "output_type": "stream",
       "stream": "stdout",
       "text": [
        "\r",
        "Done image 1052 of 2000 (avg time: 0.166175093972 secs --- remaining: 2:37)"
       ]
      },
      {
       "output_type": "stream",
       "stream": "stdout",
       "text": [
        "\r",
        "Done image 1053 of 2000 (avg time: 0.166017540718 secs --- remaining: 2:37)"
       ]
      },
      {
       "output_type": "stream",
       "stream": "stdout",
       "text": [
        "\r",
        "Done image 1054 of 2000 (avg time: 0.165860289081 secs --- remaining: 2:36)"
       ]
      },
      {
       "output_type": "stream",
       "stream": "stdout",
       "text": [
        "\r",
        "Done image 1055 of 2000 (avg time: 0.165703332334 secs --- remaining: 2:36)"
       ]
      },
      {
       "output_type": "stream",
       "stream": "stdout",
       "text": [
        "\r",
        "Done image 1056 of 2000 (avg time: 0.165546679113 secs --- remaining: 2:36)"
       ]
      },
      {
       "output_type": "stream",
       "stream": "stdout",
       "text": [
        "\r",
        "Done image 1057 of 2000 (avg time: 0.165390314587 secs --- remaining: 2:35)"
       ]
      },
      {
       "output_type": "stream",
       "stream": "stdout",
       "text": [
        "\r",
        "Done image 1058 of 2000 (avg time: 0.165234247168 secs --- remaining: 2:35)"
       ]
      },
      {
       "output_type": "stream",
       "stream": "stdout",
       "text": [
        "\r",
        "Done image 1059 of 2000 (avg time: 0.16507847534 secs --- remaining: 2:35)"
       ]
      },
      {
       "output_type": "stream",
       "stream": "stdout",
       "text": [
        "\r",
        "Done image 1060 of 2000 (avg time: 0.164922996021 secs --- remaining: 2:34)"
       ]
      },
      {
       "output_type": "stream",
       "stream": "stdout",
       "text": [
        "\r",
        "Done image 1061 of 2000 (avg time: 0.164767810629 secs --- remaining: 2:34)"
       ]
      },
      {
       "output_type": "stream",
       "stream": "stdout",
       "text": [
        "\r",
        "Done image 1062 of 2000 (avg time: 0.164612917214 secs --- remaining: 2:34)"
       ]
      },
      {
       "output_type": "stream",
       "stream": "stdout",
       "text": [
        "\r",
        "Done image 1063 of 2000 (avg time: 0.164458312935 secs --- remaining: 2:33)"
       ]
      },
      {
       "output_type": "stream",
       "stream": "stdout",
       "text": [
        "\r",
        "Done image 1064 of 2000 (avg time: 0.164303998992 secs --- remaining: 2:33)"
       ]
      },
      {
       "output_type": "stream",
       "stream": "stdout",
       "text": [
        "\r",
        "Done image 1065 of 2000 (avg time: 0.164149974569 secs --- remaining: 2:33)"
       ]
      },
      {
       "output_type": "stream",
       "stream": "stdout",
       "text": [
        "\r",
        "Done image 1066 of 2000 (avg time: 0.163996238852 secs --- remaining: 2:33)"
       ]
      },
      {
       "output_type": "stream",
       "stream": "stdout",
       "text": [
        "\r",
        "Done image 1067 of 2000 (avg time: 0.163842790136 secs --- remaining: 2:32)"
       ]
      },
      {
       "output_type": "stream",
       "stream": "stdout",
       "text": [
        " computing poisson /media/ilisescu/Data1/PhD/data/drumming2/frame-00971.png\r",
        "Done image 1068 of 2000 (avg time: 0.167137142205 secs --- remaining: 2:35)"
       ]
      },
      {
       "output_type": "stream",
       "stream": "stdout",
       "text": [
        " computing poisson /media/ilisescu/Data1/PhD/data/drumming2/frame-00972.png"
       ]
      },
      {
       "ename": "KeyboardInterrupt",
       "evalue": "",
       "output_type": "pyerr",
       "traceback": [
        "\u001b[0;31m---------------------------------------------------------------------------\u001b[0m\n\u001b[0;31mKeyboardInterrupt\u001b[0m                         Traceback (most recent call last)",
        "\u001b[0;32m<ipython-input-29-d57abbc7f47b>\u001b[0m in \u001b[0;36m<module>\u001b[0;34m()\u001b[0m\n\u001b[1;32m     56\u001b[0m                     sprite1 = getPoissonBlended(bgLoc,\n\u001b[1;32m     57\u001b[0m                                                 \u001b[0;34m\"/\"\u001b[0m\u001b[0;34m.\u001b[0m\u001b[0mjoin\u001b[0m\u001b[0;34m(\u001b[0m\u001b[0msemanticSequences\u001b[0m\u001b[0;34m[\u001b[0m\u001b[0mseq1Idx\u001b[0m\u001b[0;34m]\u001b[0m\u001b[0;34m[\u001b[0m\u001b[0mDICT_MASK_LOCATION\u001b[0m\u001b[0;34m]\u001b[0m\u001b[0;34m.\u001b[0m\u001b[0msplit\u001b[0m\u001b[0;34m(\u001b[0m\u001b[0;34m\"/\"\u001b[0m\u001b[0;34m)\u001b[0m\u001b[0;34m[\u001b[0m\u001b[0;34m:\u001b[0m\u001b[0;34m-\u001b[0m\u001b[0;36m2\u001b[0m\u001b[0;34m]\u001b[0m\u001b[0;34m)\u001b[0m\u001b[0;34m+\u001b[0m\u001b[0;34m\"/frame-{0:05}.png\"\u001b[0m\u001b[0;34m.\u001b[0m\u001b[0mformat\u001b[0m\u001b[0;34m(\u001b[0m\u001b[0mframe1Key\u001b[0m\u001b[0;34m+\u001b[0m\u001b[0;36m1\u001b[0m\u001b[0;34m)\u001b[0m\u001b[0;34m,\u001b[0m\u001b[0;34m\u001b[0m\u001b[0m\n\u001b[0;32m---> 58\u001b[0;31m                                                 semanticSequences[seq1Idx][DICT_MASK_LOCATION]+\"frame-{0:05}.png\".format(frame1Key+1), frame1Offset[::-1])\n\u001b[0m\u001b[1;32m     59\u001b[0m \u001b[0;34m\u001b[0m\u001b[0m\n\u001b[1;32m     60\u001b[0m \u001b[0;31m#                     print sprite1.shape\u001b[0m\u001b[0;34m\u001b[0m\u001b[0;34m\u001b[0m\u001b[0m\n",
        "\u001b[0;32m<ipython-input-5-29cfe8562dad>\u001b[0m in \u001b[0;36mgetPoissonBlended\u001b[0;34m(backgroundLoc, frameLoc, maskLoc, fgOffset)\u001b[0m\n\u001b[1;32m     47\u001b[0m \u001b[0;31m#     print fgOffset, offset\u001b[0m\u001b[0;34m\u001b[0m\u001b[0;34m\u001b[0m\u001b[0m\n\u001b[1;32m     48\u001b[0m \u001b[0;34m\u001b[0m\u001b[0m\n\u001b[0;32m---> 49\u001b[0;31m     \u001b[0mimg_ret\u001b[0m \u001b[0;34m=\u001b[0m \u001b[0mblend\u001b[0m\u001b[0;34m(\u001b[0m\u001b[0mimg_target\u001b[0m\u001b[0;34m,\u001b[0m \u001b[0mimg_source\u001b[0m\u001b[0;34m,\u001b[0m \u001b[0mimg_mask\u001b[0m\u001b[0;34m,\u001b[0m \u001b[0moffset\u001b[0m\u001b[0;34m=\u001b[0m\u001b[0;34m(\u001b[0m\u001b[0mtopLeftPos\u001b[0m\u001b[0;34m[\u001b[0m\u001b[0;36m0\u001b[0m\u001b[0;34m]\u001b[0m\u001b[0;34m+\u001b[0m\u001b[0mfgOffset\u001b[0m\u001b[0;34m[\u001b[0m\u001b[0;36m0\u001b[0m\u001b[0;34m]\u001b[0m\u001b[0;34m,\u001b[0m \u001b[0mtopLeftPos\u001b[0m\u001b[0;34m[\u001b[0m\u001b[0;36m1\u001b[0m\u001b[0;34m]\u001b[0m\u001b[0;34m+\u001b[0m\u001b[0mfgOffset\u001b[0m\u001b[0;34m[\u001b[0m\u001b[0;36m1\u001b[0m\u001b[0;34m]\u001b[0m\u001b[0;34m)\u001b[0m\u001b[0;34m)\u001b[0m\u001b[0;34m\u001b[0m\u001b[0m\n\u001b[0m\u001b[1;32m     50\u001b[0m \u001b[0;34m\u001b[0m\u001b[0m\n\u001b[1;32m     51\u001b[0m \u001b[0;34m\u001b[0m\u001b[0m\n",
        "\u001b[0;32m<ipython-input-4-d25d80ec5d6b>\u001b[0m in \u001b[0;36mblend\u001b[0;34m(img_target, img_source, img_mask, offset)\u001b[0m\n\u001b[1;32m     53\u001b[0m             \u001b[0;32mfor\u001b[0m \u001b[0mx\u001b[0m \u001b[0;32min\u001b[0m \u001b[0mrange\u001b[0m\u001b[0;34m(\u001b[0m\u001b[0mregion_size\u001b[0m\u001b[0;34m[\u001b[0m\u001b[0;36m1\u001b[0m\u001b[0;34m]\u001b[0m\u001b[0;34m)\u001b[0m\u001b[0;34m:\u001b[0m\u001b[0;34m\u001b[0m\u001b[0m\n\u001b[1;32m     54\u001b[0m                 \u001b[0;32mif\u001b[0m \u001b[0;32mnot\u001b[0m \u001b[0mimg_mask\u001b[0m\u001b[0;34m[\u001b[0m\u001b[0my\u001b[0m\u001b[0;34m,\u001b[0m \u001b[0mx\u001b[0m\u001b[0;34m]\u001b[0m\u001b[0;34m:\u001b[0m\u001b[0;34m\u001b[0m\u001b[0m\n\u001b[0;32m---> 55\u001b[0;31m                     \u001b[0mindex\u001b[0m \u001b[0;34m=\u001b[0m \u001b[0mx\u001b[0m \u001b[0;34m+\u001b[0m \u001b[0my\u001b[0m \u001b[0;34m*\u001b[0m \u001b[0mregion_size\u001b[0m\u001b[0;34m[\u001b[0m\u001b[0;36m1\u001b[0m\u001b[0;34m]\u001b[0m\u001b[0;34m\u001b[0m\u001b[0m\n\u001b[0m\u001b[1;32m     56\u001b[0m                     \u001b[0mb\u001b[0m\u001b[0;34m[\u001b[0m\u001b[0mindex\u001b[0m\u001b[0;34m]\u001b[0m \u001b[0;34m=\u001b[0m \u001b[0mt\u001b[0m\u001b[0;34m[\u001b[0m\u001b[0mindex\u001b[0m\u001b[0;34m]\u001b[0m\u001b[0;34m\u001b[0m\u001b[0m\n\u001b[1;32m     57\u001b[0m \u001b[0;34m\u001b[0m\u001b[0m\n",
        "\u001b[0;31mKeyboardInterrupt\u001b[0m: "
       ]
      }
     ],
     "prompt_number": 29
    },
    {
     "cell_type": "code",
     "collapsed": false,
     "input": [
      "print patchSize, baseLocBlended+\"blended/frame-{0:05}-\".format(frame1Key) + \"{0:02}.png\".format(sIdx)\n",
      "print getPoissonBlended(bgLoc,\n",
      "                                                \"/\".join(semanticSequences[seq1Idx][DICT_MASK_LOCATION].split(\"/\")[:-2])+\"/frame-{0:05}.png\".format(frame1Key+1),\n",
      "                                                semanticSequences[seq1Idx][DICT_MASK_LOCATION]+\"frame-{0:05}.png\".format(frame1Key+1), frame1Offset[::-1]).shape"
     ],
     "language": "python",
     "metadata": {},
     "outputs": [
      {
       "output_type": "stream",
       "stream": "stdout",
       "text": [
        "[215 213] /media/ilisescu/Data1/PhD/data/synthesisedSequences/drumming_new/blended/frame-01154-02.png\n",
        "computing poisson /media/ilisescu/Data1/PhD/data/drumming2/frame-01155.png "
       ]
      },
      {
       "output_type": "stream",
       "stream": "stdout",
       "text": [
        "(360, 640, 4)\n"
       ]
      }
     ],
     "prompt_number": 23
    },
    {
     "cell_type": "code",
     "collapsed": false,
     "input": [
      "print sequencesOrder"
     ],
     "language": "python",
     "metadata": {},
     "outputs": [
      {
       "output_type": "stream",
       "stream": "stdout",
       "text": [
        "[2 1 0]\n"
       ]
      }
     ],
     "prompt_number": 53
    },
    {
     "cell_type": "code",
     "collapsed": false,
     "input": [
      "# dataPath = \"/media/ilisescu/Data1/PhD/data/wave1/\"\n",
      "# baseLoc = \"/home/ilisescu/PhD/data/synthesisedSequences/waveFull/\"\n",
      "# baseLoc = \"/media/ilisescu/Data1/PhD/data/synthesisedSequences/waveFullBusier/\"\n",
      "# baseLoc = \"/media/ilisescu/Data1/PhD/data/synthesisedSequences/theme_park_mixedCompatibility/\"\n",
      "# baseLoc = \"/media/ilisescu/Data1/PhD/data/synthesisedSequences/tetris/\"\n",
      "# baseLoc = \"/media/ilisescu/Data1/PhD/data/synthesisedSequences/digger/\"\n",
      "# baseLoc = \"/media/ilisescu/Data1/PhD/data/synthesisedSequences/multipleCandles/\"\n",
      "# baseLoc = \"/home/ilisescu/PhD/data/synthesisedSequences/street/\"\n",
      "# baseLoc = \"/media/ilisescu/Data1/PhD/data/synthesisedSequences/plane_departures/\"\n",
      "synthSeq = np.load(baseLoc+\"synthesised_sequence.npy\").item()\n",
      "bgLoc = synthSeq[DICT_SEQUENCE_BG]\n",
      "# bgLoc = \"/media/ilisescu/Data1/PhD/data/digger/median.png\"\n",
      "\n",
      "bgImage = np.array(Image.open(bgLoc))[:, :, 0:3]\n",
      "\n",
      "semanticSequences = []\n",
      "for usedSeqLoc in synthSeq[DICT_USED_SEQUENCES] :\n",
      "    semanticSequences.append(np.load(usedSeqLoc).item())\n",
      "\n",
      "minFrames = 10000\n",
      "for i in xrange(len(synthSeq[DICT_SEQUENCE_INSTANCES])) :\n",
      "    minFrames = np.min((minFrames, len(synthSeq[DICT_SEQUENCE_INSTANCES][i][DICT_SEQUENCE_FRAMES])))\n",
      "\n",
      "\n",
      "## super mario planes\n",
      "# thresh = 4.5\n",
      "# alpha = 0.15\n",
      "\n",
      "# ## wave\n",
      "# thresh = 4.0\n",
      "# alpha = 0.25\n",
      "\n",
      "# ## drumming_new\n",
      "thresh = 50.0\n",
      "alpha = 0.75\n",
      "\n",
      "kSize = 15\n",
      "sigma = 11\n",
      "\n",
      "usePoisson = True\n",
      "\n",
      "maxFramesToRender = 2000\n",
      "\n",
      "\n",
      "avgTime = 0.0\n",
      "for iterNum, f in enumerate(arange(minFrames)[0:]) : #[:maxFramesToRender]) :\n",
      "    \n",
      "#     maxYs = []\n",
      "#     for seqInstance in synthSeq[DICT_SEQUENCE_INSTANCES] :\n",
      "#         seqIdx = seqInstance[DICT_SEQUENCE_IDX]\n",
      "#         frameIdx = seqInstance[DICT_SEQUENCE_FRAMES][f]\n",
      "#         if frameIdx < len(semanticSequences[seqIdx][DICT_BBOXES].keys()) :\n",
      "#             frameKey = np.sort(semanticSequences[seqIdx][DICT_BBOXES].keys())[frameIdx]\n",
      "#             maxYs.append(np.max(semanticSequences[seqIdx][DICT_BBOXES][frameKey][:, 1]))\n",
      "#         else :\n",
      "#             maxYs.append(0.0)\n",
      "#     print \"sequencesOrder\", maxYs, np.argsort(maxYs)\n",
      "#     sequencesOrder = np.argsort(maxYs)\n",
      "    \n",
      "    renderedBBoxes = []\n",
      "    instancesToRender = []\n",
      "    for i, seqInstance in enumerate(synthSeq[DICT_SEQUENCE_INSTANCES]) :\n",
      "        seqIdx = seqInstance[DICT_SEQUENCE_IDX]\n",
      "        frameIdx = seqInstance[DICT_SEQUENCE_FRAMES][f]\n",
      "        if frameIdx >= 0 and frameIdx < len(semanticSequences[seqIdx][DICT_FRAMES_LOCATIONS].keys()) :\n",
      "            frameKey = np.sort(semanticSequences[seqIdx][DICT_FRAMES_LOCATIONS].keys())[frameIdx]\n",
      "            if frameKey in semanticSequences[seqIdx][DICT_BBOXES].keys() :\n",
      "                img = np.zeros((bgImage.shape[0], bgImage.shape[1]), np.uint8)\n",
      "                cv2.fillConvexPoly(img, semanticSequences[seqIdx][DICT_BBOXES][frameKey].astype(int)[[0, 1, 2, 3, 0], :], 1)\n",
      "                renderedBBoxes.append(np.copy(img))\n",
      "                instancesToRender.append(i)\n",
      "#                 gwv.showCustomGraph(img)\n",
      "                \n",
      "    sequencesOrder = [i[0] for i in sorted(enumerate(renderedBBoxes), key=lambda x:x[1], cmp=compareBBoxes)]\n",
      "    sequencesOrder = np.array(instancesToRender)[sequencesOrder]\n",
      "#     print sequencesOrder\n",
      "    \n",
      "    t = time.time()\n",
      "    if len(sequencesOrder) > 0 :\n",
      "    #     outputFrame = np.zeros((bgImage.shape[0], bgImage.shape[1], 4), np.uint8)\n",
      "        seq1Idx = synthSeq[DICT_SEQUENCE_INSTANCES][sequencesOrder[0]][DICT_SEQUENCE_IDX]\n",
      "        frame1Idx = synthSeq[DICT_SEQUENCE_INSTANCES][sequencesOrder[0]][DICT_SEQUENCE_FRAMES][f]    \n",
      "\n",
      "        ##### HACK for tetris necessary because I mirrored the sequence #####\n",
      "    #     oldLength = (len(semanticSequences[seq1Idx][DICT_BBOXES].keys())+1)/2\n",
      "    # #     print \"la\", frame1Idx, np.concatenate((arange(oldLength), arange(oldLength-2, -1, -1))),\n",
      "    #     frame1Idx = np.concatenate((arange(oldLength), arange(oldLength-2, -1, -1)))[frame1Idx]\n",
      "    # #     print frame1Idx\n",
      "        #####################################################################\n",
      "\n",
      "        if frame1Idx >= 0 and frame1Idx < len(semanticSequences[seq1Idx][DICT_FRAMES_LOCATIONS].keys()) :\n",
      "            frame1Key = np.sort(semanticSequences[seq1Idx][DICT_FRAMES_LOCATIONS].keys())[frame1Idx]\n",
      "            if frame1Key not in semanticSequences[seq1Idx][DICT_BBOXES].keys() :\n",
      "                frame1Key = -1\n",
      "        else :\n",
      "            frame1Key = -1\n",
      "\n",
      "        frame1Offset = synthSeq[DICT_SEQUENCE_INSTANCES][sequencesOrder[0]][DICT_OFFSET]\n",
      "        frame1Scale = synthSeq[DICT_SEQUENCE_INSTANCES][sequencesOrder[0]][DICT_SCALE]\n",
      "\n",
      "        if frame1Key in semanticSequences[seq1Idx][DICT_FRAMES_LOCATIONS] :\n",
      "\n",
      "            spritePatch, offset, patchSize, touchedBorders = getSpritePatch(semanticSequences[seq1Idx], frame1Key, bgImage.shape[1], bgImage.shape[0])\n",
      "            bgPrior, spritePrior = getPatchPriors(bgImage[offset[1]:offset[1]+patchSize[0], offset[0]:offset[0]+patchSize[1], :], \n",
      "                                                  spritePatch, offset, patchSize, semanticSequences[seq1Idx], frame1Key)\n",
      "            fullSprite1Prior = np.zeros(bgImage.shape[0:2])\n",
      "            fullSprite1Prior[offset[1]:offset[1]+patchSize[0], offset[0]:offset[0]+patchSize[1]] = np.copy(1.0-spritePrior/np.max(spritePrior))\n",
      "            fullSprite1Prior /= np.max(fullSprite1Prior)\n",
      "\n",
      "            ## dealing with scale and offsets WELL NO SCALE REALLY BUT FUCK IT\n",
      "            hasLoaded = False\n",
      "            if usePoisson :\n",
      "                if os.path.isfile(semanticSequences[seq1Idx][DICT_MASK_LOCATION]+\"blended/frame-{0:05}.png\".format(frame1Key+1)) :\n",
      "                    sprite1 = np.array(Image.open(semanticSequences[seq1Idx][DICT_MASK_LOCATION]+\"blended/frame-{0:05}.png\".format(frame1Key+1)))\n",
      "                else :\n",
      "                    if os.path.isfile(baseLocBlended+\"blended/frame-{0:05}-\".format(frame1Key) + \"{0:02}.png\".format(sequencesOrder[0])) :\n",
      "                        sprite1 = np.array(Image.open(baseLocBlended+\"blended/frame-{0:05}-\".format(frame1Key) + \"{0:02}.png\".format(sequencesOrder[0])))\n",
      "        #                 print \"loading\", 0\n",
      "                        hasLoaded = True\n",
      "                    else :\n",
      "                        sprite1 = getPoissonBlended(bgLoc,\n",
      "                                                    \"/\".join(semanticSequences[seq1Idx][DICT_MASK_LOCATION].split(\"/\")[:-2])+\"/frame-{0:05}.png\".format(frame1Key+1),\n",
      "                                                    semanticSequences[seq1Idx][DICT_MASK_LOCATION]+\"frame-{0:05}.png\".format(frame1Key+1), frame1Offset[::-1])\n",
      "                        Image.fromarray(sprite1.astype(np.uint8)).save(baseLocBlended+\"blended/frame-{0:05}-\".format(frame1Key) + \"{0:02}.png\".format(sIdx))\n",
      "            else :\n",
      "                sprite1 = np.array(Image.open(semanticSequences[seq1Idx][DICT_MASK_LOCATION]+\"frame-{0:05}.png\".format(frame1Key+1)))\n",
      "\n",
      "            outputFrame = sprite1\n",
      "            outputPrior = fullSprite1Prior\n",
      "\n",
      "            if not hasLoaded :\n",
      "                tmp = np.zeros_like(outputFrame)\n",
      "                tmp[offset[1]+frame1Offset[1]:offset[1]+frame1Offset[1]+patchSize[0],\n",
      "                    offset[0]+frame1Offset[0]:offset[0]+frame1Offset[0]+patchSize[1], :] = outputFrame[offset[1]:offset[1]+patchSize[0], offset[0]:offset[0]+patchSize[1], :]\n",
      "                outputFrame = np.copy(tmp)\n",
      "                del tmp\n",
      "\n",
      "            tmp = np.zeros_like(outputPrior)\n",
      "            tmp[offset[1]+frame1Offset[1]:offset[1]+frame1Offset[1]+patchSize[0],\n",
      "                offset[0]+frame1Offset[0]:offset[0]+frame1Offset[0]+patchSize[1]] = outputPrior[offset[1]:offset[1]+patchSize[0], offset[0]:offset[0]+patchSize[1]]\n",
      "            outputPrior = np.copy(tmp)\n",
      "            del tmp\n",
      "\n",
      "        else :\n",
      "            outputFrame = np.zeros((bgImage.shape[0], bgImage.shape[1], 4), np.uint8)\n",
      "            outputPrior = np.zeros(bgImage.shape[0:2])\n",
      "\n",
      "        tmpAssignment = np.zeros(bgImage.shape[0:2])\n",
      "\n",
      "    #     for sIdx, seq in zip(arange(1, len(synthSeq[DICT_SEQUENCE_INSTANCES])), synthSeq[DICT_SEQUENCE_INSTANCES][1:]) :\n",
      "        for sIdx in sequencesOrder[1:] : #[1, 0] : #[1, 2, 3, 14, 13, 4, 5, 6, 7, 8, 9, 10, 11, 12] :\n",
      "            seq = synthSeq[DICT_SEQUENCE_INSTANCES][sIdx]\n",
      "\n",
      "            seq2Idx = seq[DICT_SEQUENCE_IDX]\n",
      "            frame2Idx = seq[DICT_SEQUENCE_FRAMES][f]\n",
      "            ##### HACK for tetris necessary because I mirrored the sequence #####\n",
      "    #         oldLength = (len(semanticSequences[seq2Idx][DICT_BBOXES].keys())+1)/2\n",
      "    # #         print \"la\", frame2Idx, np.concatenate((arange(oldLength), arange(oldLength-2, -1, -1))),\n",
      "    #         frame2Idx = np.concatenate((arange(oldLength), arange(oldLength-2, -1, -1)))[frame2Idx]\n",
      "    # #         print frame2Idx\n",
      "            #####################################################################\n",
      "\n",
      "            if frame2Idx >= 0 and frame2Idx < len(semanticSequences[seq2Idx][DICT_FRAMES_LOCATIONS].keys()) :\n",
      "                frame2Key = np.sort(semanticSequences[seq2Idx][DICT_FRAMES_LOCATIONS].keys())[frame2Idx]\n",
      "                if frame2Key not in semanticSequences[seq2Idx][DICT_BBOXES].keys() :\n",
      "                    frame2Key = -1\n",
      "            else :\n",
      "                frame2Key = -1\n",
      "\n",
      "            frame2Offset = seq[DICT_OFFSET]\n",
      "            frame2Scale = seq[DICT_SCALE]\n",
      "\n",
      "            if frame2Key in semanticSequences[seq2Idx][DICT_FRAMES_LOCATIONS] :\n",
      "\n",
      "    #             print frame2Key, semanticSequences[seq2Idx][DICT_MASK_LOCATION]+\"frame-{0:05}.png\".format(frame2Key+1), frame2Offset, frame2Scale\n",
      "    #             print \n",
      "\n",
      "\n",
      "                spritePatch, offset, patchSize, touchedBorders = getSpritePatch(semanticSequences[seq2Idx], frame2Key, bgImage.shape[1], bgImage.shape[0])\n",
      "                bgPrior, spritePrior = getPatchPriors(bgImage[offset[1]:offset[1]+patchSize[0], offset[0]:offset[0]+patchSize[1], :], \n",
      "                                                      spritePatch, offset, patchSize, semanticSequences[seq2Idx], frame2Key)\n",
      "                fullSprite2Prior = np.zeros(bgImage.shape[0:2])\n",
      "                fullSprite2Prior[offset[1]:offset[1]+patchSize[0], offset[0]:offset[0]+patchSize[1]] = np.copy(1.0-spritePrior/np.max(spritePrior))\n",
      "                fullSprite2Prior /= np.max(fullSprite2Prior)\n",
      "\n",
      "                hasLoaded = False\n",
      "                if usePoisson :\n",
      "                    if os.path.isfile(semanticSequences[seq2Idx][DICT_MASK_LOCATION]+\"blended/frame-{0:05}.png\".format(frame2Key+1)) :\n",
      "                        sprite2 = np.array(Image.open(semanticSequences[seq2Idx][DICT_MASK_LOCATION]+\"blended/frame-{0:05}.png\".format(frame2Key+1)))\n",
      "                    else :\n",
      "                        if os.path.isfile(baseLocBlended+\"blended/frame-{0:05}-\".format(frame2Key) + \"{0:02}.png\".format(sIdx)) :\n",
      "                            sprite2 = np.array(Image.open(baseLocBlended+\"blended/frame-{0:05}-\".format(frame2Key) + \"{0:02}.png\".format(sIdx)))\n",
      "        #                     print \"loading\", sIdx; sys.stdout.flush()\n",
      "                            hasLoaded = True\n",
      "                        else :\n",
      "                            sprite2 = getPoissonBlended(bgLoc,\n",
      "                                                        \"/\".join(semanticSequences[seq2Idx][DICT_MASK_LOCATION].split(\"/\")[:-2])+\"/frame-{0:05}.png\".format(frame2Key+1),\n",
      "                                                        semanticSequences[seq2Idx][DICT_MASK_LOCATION]+\"frame-{0:05}.png\".format(frame2Key+1), frame2Offset[::-1])\n",
      "                            Image.fromarray(sprite2.astype(np.uint8)).save(baseLocBlended+\"blended/frame-{0:05}-\".format(frame2Key) + \"{0:02}.png\".format(sIdx))\n",
      "                else :\n",
      "                    sprite2 = np.array(Image.open(semanticSequences[seq2Idx][DICT_MASK_LOCATION]+\"frame-{0:05}.png\".format(frame2Key+1)))\n",
      "\n",
      "                ## dealing with scale and offsets\n",
      "\n",
      "                if not hasLoaded :\n",
      "                    tmp = np.zeros_like(sprite2)\n",
      "                    tmp[offset[1]+frame2Offset[1]:offset[1]+frame2Offset[1]+patchSize[0],\n",
      "                        offset[0]+frame2Offset[0]:offset[0]+frame2Offset[0]+patchSize[1], :] = sprite2[offset[1]:offset[1]+patchSize[0], offset[0]:offset[0]+patchSize[1], :]\n",
      "                    sprite2 = np.copy(tmp)\n",
      "                    del tmp\n",
      "\n",
      "                tmp = np.zeros_like(fullSprite2Prior)\n",
      "                tmp[offset[1]+frame2Offset[1]:offset[1]+frame2Offset[1]+patchSize[0],\n",
      "                    offset[0]+frame2Offset[0]:offset[0]+frame2Offset[0]+patchSize[1]] = fullSprite2Prior[offset[1]:offset[1]+patchSize[0], offset[0]:offset[0]+patchSize[1]]\n",
      "                fullSprite2Prior = np.copy(tmp)\n",
      "                del tmp\n",
      "\n",
      "\n",
      "    #             tmp = np.zeros_like(sprite2)\n",
      "    #             tmp[frame1Offset[1]:, frame1Offset[0]:, :] = sprite2[:tmp.shape[0]-frame2Offset[1], :tmp.shape[1]-frame2Offset[0], :]\n",
      "    #             sprite2 = np.copy(tmp)\n",
      "    #             del tmp\n",
      "\n",
      "    #             tmp = np.zeros_like(fullSprite2Prior)\n",
      "    #             tmp[frame1Offset[1]:, frame1Offset[0]:] = fullSprite2Prior[:tmp.shape[0]-frame2Offset[1], :tmp.shape[1]-frame2Offset[0]]\n",
      "    #             fullSprite2Prior = np.copy(tmp)\n",
      "    #             del tmp\n",
      "\n",
      "\n",
      "                ## only doing the checks for the overlapping pixels\n",
      "                ambiguousIdxs = np.argwhere(np.all(((outputFrame[:, :, -1] != 0).reshape((outputFrame.shape[0], outputFrame.shape[1], 1)),\n",
      "                                                    (sprite2[:, :, -1] != 0).reshape((sprite2.shape[0], sprite2.shape[1], 1))), axis=0)[:, :, -1])\n",
      "\n",
      "                ## get background differences\n",
      "                outputBgDiff = np.zeros(bgImage.shape[0:2])\n",
      "                outputBgDiff[ambiguousIdxs[:, 0], ambiguousIdxs[:, 1]] = np.sqrt(np.sum((bgImage[ambiguousIdxs[:, 0], ambiguousIdxs[:, 1], :]-\n",
      "                                                                                         outputFrame[ambiguousIdxs[:, 0], ambiguousIdxs[:, 1], :-1])**2, axis=-1))\n",
      "                outputBgDiff = cv2.GaussianBlur(outputBgDiff, (kSize, kSize), sigma)#*1.2\n",
      "                outputBgDiff = outputBgDiff*alpha+(1.0-alpha)*outputPrior\n",
      "\n",
      "\n",
      "                diffSprite2 = np.zeros(bgImage.shape[0:2])\n",
      "                diffSprite2[ambiguousIdxs[:, 0], ambiguousIdxs[:, 1]] = np.sqrt(np.sum((bgImage[ambiguousIdxs[:, 0], ambiguousIdxs[:, 1], :]-\n",
      "                                                                                        sprite2[ambiguousIdxs[:, 0], ambiguousIdxs[:, 1], :-1])**2, axis=-1))\n",
      "                diffSprite2 = cv2.GaussianBlur(diffSprite2, (kSize, kSize), sigma)#*1.2\n",
      "                diffSprite2 = diffSprite2*alpha+(1.0-alpha)*fullSprite2Prior\n",
      "\n",
      "\n",
      "\n",
      "                compositedImage = np.copy(outputFrame)*(outputFrame[:, :, -1].reshape((bgImage.shape[0], bgImage.shape[1], 1))/255.0)\n",
      "                compositedImage = (compositedImage*(1.0-sprite2[:, :, -1].reshape((bgImage.shape[0], bgImage.shape[1], 1))/255.0) + \n",
      "                                   np.copy(sprite2)*(sprite2[:, :, -1].reshape((bgImage.shape[0], bgImage.shape[1], 1))/255.0))\n",
      "                compositedImage = np.array(compositedImage, dtype=np.uint8)\n",
      "\n",
      "                ## do the checks and update the composited image\n",
      "                for (i, j) in ambiguousIdxs :\n",
      "                    if diffSprite2[i, j] > thresh :\n",
      "                        compositedImage[i, j, :] = sprite2[i, j, :]\n",
      "                        tmpAssignment[i, j] = 1\n",
      "                    elif outputBgDiff[i, j] > thresh :\n",
      "                        compositedImage[i, j, :] = outputFrame[i, j, :]\n",
      "                        tmpAssignment[i, j] = 2\n",
      "                    elif outputBgDiff[i, j] > diffSprite2[i, j] :\n",
      "                        compositedImage[i, j, :] = outputFrame[i, j, :]\n",
      "                        tmpAssignment[i, j] = 2\n",
      "                    else :\n",
      "                        compositedImage[i, j, :] = sprite2[i, j, :]\n",
      "                        tmpAssignment[i, j] = 1\n",
      "\n",
      "                outputFrame = compositedImage\n",
      "                outputPrior += fullSprite2Prior\n",
      "                outputPrior /= np.max(outputPrior)\n",
      "                \n",
      "    else :\n",
      "        outputFrame = np.zeros((bgImage.shape[0], bgImage.shape[1], 4), np.uint8)\n",
      "        \n",
      "    Image.fromarray(outputFrame).save(baseLoc+\"frame-{0:05}.png\".format(f+1 ))\n",
      "#     figure(); imshow(outputFrame)\n",
      "#     figure(); imshow(np.array(Image.open(baseLoc+\"frame-{0:05}.png\".format(f+1 ))))\n",
      "    \n",
      "    avgTime = (avgTime*iterNum + time.time()-t)/(iterNum+1)\n",
      "    remainingTime = avgTime*(maxFramesToRender-iterNum-1)/60.0\n",
      "    sys.stdout.write('\\r' + \"Done image \" + np.string_(iterNum) + \" of \" + np.string_(maxFramesToRender) +\n",
      "                     \" (avg time: \" + np.string_(avgTime) + \" secs --- remaining: \" +\n",
      "                     np.string_(int(np.floor(remainingTime))) + \":\" + np.string_(int((remainingTime - np.floor(remainingTime))*60)) + \")\")\n",
      "    sys.stdout.flush()\n",
      "print \n",
      "print \"done\""
     ],
     "language": "python",
     "metadata": {},
     "outputs": [
      {
       "output_type": "stream",
       "stream": "stdout",
       "text": [
        "\r",
        "Done image 0 of 2000 (avg time: 2.40000987053 secs --- remaining: 79:57)"
       ]
      },
      {
       "output_type": "stream",
       "stream": "stdout",
       "text": [
        "\r",
        "Done image 1 of 2000 (avg time: 2.39143133163 secs --- remaining: 79:38)"
       ]
      },
      {
       "output_type": "stream",
       "stream": "stdout",
       "text": [
        "\r",
        "Done image 2 of 2000 (avg time: 2.1749355793 secs --- remaining: 72:23)"
       ]
      },
      {
       "output_type": "stream",
       "stream": "stdout",
       "text": [
        "\r",
        "Done image 3 of 2000 (avg time: 2.07628893852 secs --- remaining: 69:4)"
       ]
      },
      {
       "output_type": "stream",
       "stream": "stdout",
       "text": [
        "\r",
        "Done image 4 of 2000 (avg time: 1.9613679409 secs --- remaining: 65:12)"
       ]
      },
      {
       "output_type": "stream",
       "stream": "stdout",
       "text": [
        "\r",
        "Done image 5 of 2000 (avg time: 1.82021264235 secs --- remaining: 60:29)"
       ]
      },
      {
       "output_type": "stream",
       "stream": "stdout",
       "text": [
        "\r",
        "Done image 6 of 2000 (avg time: 1.67546858106 secs --- remaining: 55:39)"
       ]
      },
      {
       "output_type": "stream",
       "stream": "stdout",
       "text": [
        "\r",
        "Done image 7 of 2000 (avg time: 1.60667788982 secs --- remaining: 53:20)"
       ]
      },
      {
       "output_type": "stream",
       "stream": "stdout",
       "text": [
        "\r",
        "Done image 8 of 2000 (avg time: 1.52644356092 secs --- remaining: 50:39)"
       ]
      },
      {
       "output_type": "stream",
       "stream": "stdout",
       "text": [
        "\r",
        "Done image 9 of 2000 (avg time: 1.4617390871 secs --- remaining: 48:28)"
       ]
      },
      {
       "output_type": "stream",
       "stream": "stdout",
       "text": [
        "\r",
        "Done image 10 of 2000 (avg time: 1.39981508255 secs --- remaining: 46:24)"
       ]
      },
      {
       "output_type": "stream",
       "stream": "stdout",
       "text": [
        "\r",
        "Done image 11 of 2000 (avg time: 1.34216572841 secs --- remaining: 44:28)"
       ]
      },
      {
       "output_type": "stream",
       "stream": "stdout",
       "text": [
        "\r",
        "Done image 12 of 2000 (avg time: 1.33464129154 secs --- remaining: 44:11)"
       ]
      },
      {
       "output_type": "stream",
       "stream": "stdout",
       "text": [
        "\r",
        "Done image 13 of 2000 (avg time: 1.30350719179 secs --- remaining: 43:8)"
       ]
      },
      {
       "output_type": "stream",
       "stream": "stdout",
       "text": [
        "\r",
        "Done image 14 of 2000 (avg time: 1.29371590614 secs --- remaining: 42:48)"
       ]
      },
      {
       "output_type": "stream",
       "stream": "stdout",
       "text": [
        "\r",
        "Done image 15 of 2000 (avg time: 1.27014322579 secs --- remaining: 41:59)"
       ]
      },
      {
       "output_type": "stream",
       "stream": "stdout",
       "text": [
        "\r",
        "Done image 16 of 2000 (avg time: 1.24774127848 secs --- remaining: 41:14)"
       ]
      },
      {
       "output_type": "stream",
       "stream": "stdout",
       "text": [
        "\r",
        "Done image 17 of 2000 (avg time: 1.23983830876 secs --- remaining: 40:57)"
       ]
      },
      {
       "output_type": "stream",
       "stream": "stdout",
       "text": [
        "\r",
        "Done image 18 of 2000 (avg time: 1.21322428553 secs --- remaining: 40:3)"
       ]
      },
      {
       "output_type": "stream",
       "stream": "stdout",
       "text": [
        "\r",
        "Done image 19 of 2000 (avg time: 1.21123222113 secs --- remaining: 39:58)"
       ]
      },
      {
       "output_type": "stream",
       "stream": "stdout",
       "text": [
        "\r",
        "Done image 20 of 2000 (avg time: 1.2007736365 secs --- remaining: 39:36)"
       ]
      },
      {
       "output_type": "stream",
       "stream": "stdout",
       "text": [
        "\r",
        "Done image 21 of 2000 (avg time: 1.17534115098 secs --- remaining: 38:44)"
       ]
      },
      {
       "output_type": "stream",
       "stream": "stdout",
       "text": [
        "\r",
        "Done image 22 of 2000 (avg time: 1.14125349211 secs --- remaining: 37:36)"
       ]
      },
      {
       "output_type": "stream",
       "stream": "stdout",
       "text": [
        "\r",
        "Done image 23 of 2000 (avg time: 1.12857534488 secs --- remaining: 37:10)"
       ]
      },
      {
       "output_type": "stream",
       "stream": "stdout",
       "text": [
        "\r",
        "Done image 24 of 2000 (avg time: 1.10456865311 secs --- remaining: 36:21)"
       ]
      },
      {
       "output_type": "stream",
       "stream": "stdout",
       "text": [
        "\r",
        "Done image 25 of 2000 (avg time: 1.09868354981 secs --- remaining: 36:8)"
       ]
      },
      {
       "output_type": "stream",
       "stream": "stdout",
       "text": [
        "\r",
        "Done image 26 of 2000 (avg time: 1.082835533 secs --- remaining: 35:36)"
       ]
      },
      {
       "output_type": "stream",
       "stream": "stdout",
       "text": [
        "\r",
        "Done image 27 of 2000 (avg time: 1.08951826606 secs --- remaining: 35:48)"
       ]
      },
      {
       "output_type": "stream",
       "stream": "stdout",
       "text": [
        "\r",
        "Done image 28 of 2000 (avg time: 1.08578395021 secs --- remaining: 35:40)"
       ]
      },
      {
       "output_type": "stream",
       "stream": "stdout",
       "text": [
        "\r",
        "Done image 29 of 2000 (avg time: 1.0830900828 secs --- remaining: 35:33)"
       ]
      },
      {
       "output_type": "stream",
       "stream": "stdout",
       "text": [
        "\r",
        "Done image 30 of 2000 (avg time: 1.0748786311 secs --- remaining: 35:16)"
       ]
      },
      {
       "output_type": "stream",
       "stream": "stdout",
       "text": [
        "\r",
        "Done image 31 of 2000 (avg time: 1.07301557809 secs --- remaining: 35:11)"
       ]
      },
      {
       "output_type": "stream",
       "stream": "stdout",
       "text": [
        "\r",
        "Done image 32 of 2000 (avg time: 1.07300713568 secs --- remaining: 35:10)"
       ]
      },
      {
       "output_type": "stream",
       "stream": "stdout",
       "text": [
        "\r",
        "Done image 33 of 2000 (avg time: 1.06424486637 secs --- remaining: 34:52)"
       ]
      },
      {
       "output_type": "stream",
       "stream": "stdout",
       "text": [
        "\r",
        "Done image 34 of 2000 (avg time: 1.0697541305 secs --- remaining: 35:2)"
       ]
      },
      {
       "output_type": "stream",
       "stream": "stdout",
       "text": [
        "\r",
        "Done image 35 of 2000 (avg time: 1.07054868672 secs --- remaining: 35:2)"
       ]
      },
      {
       "output_type": "stream",
       "stream": "stdout",
       "text": [
        "\r",
        "Done image 36 of 2000 (avg time: 1.06081702258 secs --- remaining: 34:42)"
       ]
      },
      {
       "output_type": "stream",
       "stream": "stdout",
       "text": [
        "\r",
        "Done image 37 of 2000 (avg time: 1.05614186588 secs --- remaining: 34:32)"
       ]
      },
      {
       "output_type": "stream",
       "stream": "stdout",
       "text": [
        "\r",
        "Done image 38 of 2000 (avg time: 1.05399600053 secs --- remaining: 34:26)"
       ]
      },
      {
       "output_type": "stream",
       "stream": "stdout",
       "text": [
        "\r",
        "Done image 39 of 2000 (avg time: 1.05170247555 secs --- remaining: 34:21)"
       ]
      },
      {
       "output_type": "stream",
       "stream": "stdout",
       "text": [
        "\r",
        "Done image 40 of 2000 (avg time: 1.05817936688 secs --- remaining: 34:32)"
       ]
      },
      {
       "output_type": "stream",
       "stream": "stdout",
       "text": [
        "\r",
        "Done image 41 of 2000 (avg time: 1.07948904946 secs --- remaining: 35:13)"
       ]
      },
      {
       "output_type": "stream",
       "stream": "stdout",
       "text": [
        "\r",
        "Done image 42 of 2000 (avg time: 1.09402074925 secs --- remaining: 35:40)"
       ]
      },
      {
       "output_type": "stream",
       "stream": "stdout",
       "text": [
        "\r",
        "Done image 43 of 2000 (avg time: 1.10701702942 secs --- remaining: 36:5)"
       ]
      },
      {
       "output_type": "stream",
       "stream": "stdout",
       "text": [
        "\r",
        "Done image 44 of 2000 (avg time: 1.09627300368 secs --- remaining: 35:43)"
       ]
      },
      {
       "output_type": "stream",
       "stream": "stdout",
       "text": [
        "\r",
        "Done image 45 of 2000 (avg time: 1.09088174157 secs --- remaining: 35:31)"
       ]
      },
      {
       "output_type": "stream",
       "stream": "stdout",
       "text": [
        "\r",
        "Done image 46 of 2000 (avg time: 1.08558917553 secs --- remaining: 35:20)"
       ]
      },
      {
       "output_type": "stream",
       "stream": "stdout",
       "text": [
        "\r",
        "Done image 47 of 2000 (avg time: 1.07765319447 secs --- remaining: 35:3)"
       ]
      },
      {
       "output_type": "stream",
       "stream": "stdout",
       "text": [
        "\r",
        "Done image 48 of 2000 (avg time: 1.07756463849 secs --- remaining: 35:2)"
       ]
      },
      {
       "output_type": "stream",
       "stream": "stdout",
       "text": [
        "\r",
        "Done image 49 of 2000 (avg time: 1.0741660881 secs --- remaining: 34:54)"
       ]
      },
      {
       "output_type": "stream",
       "stream": "stdout",
       "text": [
        "\r",
        "Done image 50 of 2000 (avg time: 1.06687440124 secs --- remaining: 34:39)"
       ]
      },
      {
       "output_type": "stream",
       "stream": "stdout",
       "text": [
        "\r",
        "Done image 51 of 2000 (avg time: 1.06584883653 secs --- remaining: 34:36)"
       ]
      },
      {
       "output_type": "stream",
       "stream": "stdout",
       "text": [
        "\r",
        "Done image 52 of 2000 (avg time: 1.05299915908 secs --- remaining: 34:10)"
       ]
      },
      {
       "output_type": "stream",
       "stream": "stdout",
       "text": [
        "\r",
        "Done image 53 of 2000 (avg time: 1.04772891822 secs --- remaining: 33:58)"
       ]
      },
      {
       "output_type": "stream",
       "stream": "stdout",
       "text": [
        "\r",
        "Done image 54 of 2000 (avg time: 1.0474224264 secs --- remaining: 33:57)"
       ]
      },
      {
       "output_type": "stream",
       "stream": "stdout",
       "text": [
        "\r",
        "Done image 55 of 2000 (avg time: 1.04471300755 secs --- remaining: 33:50)"
       ]
      },
      {
       "output_type": "stream",
       "stream": "stdout",
       "text": [
        "\r",
        "Done image 56 of 2000 (avg time: 1.04327242835 secs --- remaining: 33:47)"
       ]
      },
      {
       "output_type": "stream",
       "stream": "stdout",
       "text": [
        "\r",
        "Done image 57 of 2000 (avg time: 1.03781319898 secs --- remaining: 33:35)"
       ]
      },
      {
       "output_type": "stream",
       "stream": "stdout",
       "text": [
        "\r",
        "Done image 58 of 2000 (avg time: 1.04261475498 secs --- remaining: 33:43)"
       ]
      },
      {
       "output_type": "stream",
       "stream": "stdout",
       "text": [
        "\r",
        "Done image 59 of 2000 (avg time: 1.0495163242 secs --- remaining: 33:56)"
       ]
      },
      {
       "output_type": "stream",
       "stream": "stdout",
       "text": [
        "\r",
        "Done image 60 of 2000 (avg time: 1.04926612338 secs --- remaining: 33:54)"
       ]
      },
      {
       "output_type": "stream",
       "stream": "stdout",
       "text": [
        "\r",
        "Done image 61 of 2000 (avg time: 1.05329900788 secs --- remaining: 34:1)"
       ]
      },
      {
       "output_type": "stream",
       "stream": "stdout",
       "text": [
        "\r",
        "Done image 62 of 2000 (avg time: 1.05196910434 secs --- remaining: 33:57)"
       ]
      },
      {
       "output_type": "stream",
       "stream": "stdout",
       "text": [
        "\r",
        "Done image 63 of 2000 (avg time: 1.04794742912 secs --- remaining: 33:48)"
       ]
      },
      {
       "output_type": "stream",
       "stream": "stdout",
       "text": [
        "\r",
        "Done image 64 of 2000 (avg time: 1.04347554354 secs --- remaining: 33:39)"
       ]
      },
      {
       "output_type": "stream",
       "stream": "stdout",
       "text": [
        "\r",
        "Done image 65 of 2000 (avg time: 1.04032328996 secs --- remaining: 33:31)"
       ]
      },
      {
       "output_type": "stream",
       "stream": "stdout",
       "text": [
        "\r",
        "Done image 66 of 2000 (avg time: 1.03797344663 secs --- remaining: 33:26)"
       ]
      },
      {
       "output_type": "stream",
       "stream": "stdout",
       "text": [
        "\r",
        "Done image 67 of 2000 (avg time: 1.04303412928 secs --- remaining: 33:35)"
       ]
      },
      {
       "output_type": "stream",
       "stream": "stdout",
       "text": [
        "\r",
        "Done image 68 of 2000 (avg time: 1.04684234702 secs --- remaining: 33:41)"
       ]
      },
      {
       "output_type": "stream",
       "stream": "stdout",
       "text": [
        "\r",
        "Done image 69 of 2000 (avg time: 1.04429362842 secs --- remaining: 33:35)"
       ]
      },
      {
       "output_type": "stream",
       "stream": "stdout",
       "text": [
        "\r",
        "Done image 70 of 2000 (avg time: 1.04264154904 secs --- remaining: 33:31)"
       ]
      },
      {
       "output_type": "stream",
       "stream": "stdout",
       "text": [
        "\r",
        "Done image 71 of 2000 (avg time: 1.04285420974 secs --- remaining: 33:30)"
       ]
      },
      {
       "output_type": "stream",
       "stream": "stdout",
       "text": [
        "\r",
        "Done image 72 of 2000 (avg time: 1.0452649626 secs --- remaining: 33:34)"
       ]
      },
      {
       "output_type": "stream",
       "stream": "stdout",
       "text": [
        "\r",
        "Done image 73 of 2000 (avg time: 1.04367620558 secs --- remaining: 33:30)"
       ]
      },
      {
       "output_type": "stream",
       "stream": "stdout",
       "text": [
        "\r",
        "Done image 74 of 2000 (avg time: 1.03985600154 secs --- remaining: 33:21)"
       ]
      },
      {
       "output_type": "stream",
       "stream": "stdout",
       "text": [
        "\r",
        "Done image 75 of 2000 (avg time: 1.03064456739 secs --- remaining: 33:2)"
       ]
      },
      {
       "output_type": "stream",
       "stream": "stdout",
       "text": [
        "\r",
        "Done image 76 of 2000 (avg time: 1.02326930034 secs --- remaining: 32:47)"
       ]
      },
      {
       "output_type": "stream",
       "stream": "stdout",
       "text": [
        "\r",
        "Done image 77 of 2000 (avg time: 1.01927830928 secs --- remaining: 32:39)"
       ]
      },
      {
       "output_type": "stream",
       "stream": "stdout",
       "text": [
        "\r",
        "Done image 78 of 2000 (avg time: 1.01513892488 secs --- remaining: 32:30)"
       ]
      },
      {
       "output_type": "stream",
       "stream": "stdout",
       "text": [
        "\r",
        "Done image 79 of 2000 (avg time: 1.01081311405 secs --- remaining: 32:20)"
       ]
      },
      {
       "output_type": "stream",
       "stream": "stdout",
       "text": [
        "\r",
        "Done image 80 of 2000 (avg time: 1.01270707448 secs --- remaining: 32:23)"
       ]
      },
      {
       "output_type": "stream",
       "stream": "stdout",
       "text": [
        "\r",
        "Done image 81 of 2000 (avg time: 1.01168073096 secs --- remaining: 32:20)"
       ]
      },
      {
       "output_type": "stream",
       "stream": "stdout",
       "text": [
        "\r",
        "Done image 82 of 2000 (avg time: 1.00821202347 secs --- remaining: 32:12)"
       ]
      },
      {
       "output_type": "stream",
       "stream": "stdout",
       "text": [
        "\r",
        "Done image 83 of 2000 (avg time: 1.0065328422 secs --- remaining: 32:8)"
       ]
      },
      {
       "output_type": "stream",
       "stream": "stdout",
       "text": [
        "\r",
        "Done image 84 of 2000 (avg time: 1.01007705576 secs --- remaining: 32:14)"
       ]
      },
      {
       "output_type": "stream",
       "stream": "stdout",
       "text": [
        "\r",
        "Done image 85 of 2000 (avg time: 1.01123772943 secs --- remaining: 32:15)"
       ]
      },
      {
       "output_type": "stream",
       "stream": "stdout",
       "text": [
        "\r",
        "Done image 86 of 2000 (avg time: 1.00904150119 secs --- remaining: 32:10)"
       ]
      },
      {
       "output_type": "stream",
       "stream": "stdout",
       "text": [
        "\r",
        "Done image 87 of 2000 (avg time: 1.01332675869 secs --- remaining: 32:17)"
       ]
      },
      {
       "output_type": "stream",
       "stream": "stdout",
       "text": [
        "\r",
        "Done image 88 of 2000 (avg time: 1.0146151098 secs --- remaining: 32:18)"
       ]
      },
      {
       "output_type": "stream",
       "stream": "stdout",
       "text": [
        "\r",
        "Done image 89 of 2000 (avg time: 1.01596277555 secs --- remaining: 32:20)"
       ]
      },
      {
       "output_type": "stream",
       "stream": "stdout",
       "text": [
        "\r",
        "Done image 90 of 2000 (avg time: 1.01647014932 secs --- remaining: 32:20)"
       ]
      },
      {
       "output_type": "stream",
       "stream": "stdout",
       "text": [
        "\r",
        "Done image 91 of 2000 (avg time: 1.01881980119 secs --- remaining: 32:23)"
       ]
      },
      {
       "output_type": "stream",
       "stream": "stdout",
       "text": [
        "\r",
        "Done image 92 of 2000 (avg time: 1.01875279027 secs --- remaining: 32:22)"
       ]
      },
      {
       "output_type": "stream",
       "stream": "stdout",
       "text": [
        "\r",
        "Done image 93 of 2000 (avg time: 1.01932408962 secs --- remaining: 32:22)"
       ]
      },
      {
       "output_type": "stream",
       "stream": "stdout",
       "text": [
        "\r",
        "Done image 94 of 2000 (avg time: 1.01464101641 secs --- remaining: 32:12)"
       ]
      },
      {
       "output_type": "stream",
       "stream": "stdout",
       "text": [
        "\r",
        "Done image 95 of 2000 (avg time: 1.01528744151 secs --- remaining: 32:13)"
       ]
      },
      {
       "output_type": "stream",
       "stream": "stdout",
       "text": [
        "\r",
        "Done image 96 of 2000 (avg time: 1.01576827236 secs --- remaining: 32:13)"
       ]
      },
      {
       "output_type": "stream",
       "stream": "stdout",
       "text": [
        "\r",
        "Done image 97 of 2000 (avg time: 1.01364451282 secs --- remaining: 32:7)"
       ]
      },
      {
       "output_type": "stream",
       "stream": "stdout",
       "text": [
        "\r",
        "Done image 98 of 2000 (avg time: 1.00885123436 secs --- remaining: 31:57)"
       ]
      },
      {
       "output_type": "stream",
       "stream": "stdout",
       "text": [
        "\r",
        "Done image 99 of 2000 (avg time: 1.00556478262 secs --- remaining: 31:50)"
       ]
      },
      {
       "output_type": "stream",
       "stream": "stdout",
       "text": [
        "\r",
        "Done image 100 of 2000 (avg time: 1.0059109041 secs --- remaining: 31:50)"
       ]
      },
      {
       "output_type": "stream",
       "stream": "stdout",
       "text": [
        "\r",
        "Done image 101 of 2000 (avg time: 1.00527014919 secs --- remaining: 31:48)"
       ]
      },
      {
       "output_type": "stream",
       "stream": "stdout",
       "text": [
        "\r",
        "Done image 102 of 2000 (avg time: 1.00565212676 secs --- remaining: 31:47)"
       ]
      },
      {
       "output_type": "stream",
       "stream": "stdout",
       "text": [
        "\r",
        "Done image 103 of 2000 (avg time: 1.00789574018 secs --- remaining: 31:50)"
       ]
      },
      {
       "output_type": "stream",
       "stream": "stdout",
       "text": [
        "\r",
        "Done image 104 of 2000 (avg time: 1.0090069135 secs --- remaining: 31:52)"
       ]
      },
      {
       "output_type": "stream",
       "stream": "stdout",
       "text": [
        "\r",
        "Done image 105 of 2000 (avg time: 1.01079267826 secs --- remaining: 31:54)"
       ]
      },
      {
       "output_type": "stream",
       "stream": "stdout",
       "text": [
        "\r",
        "Done image 106 of 2000 (avg time: 1.01039650507 secs --- remaining: 31:52)"
       ]
      },
      {
       "output_type": "stream",
       "stream": "stdout",
       "text": [
        "\r",
        "Done image 107 of 2000 (avg time: 1.00784065768 secs --- remaining: 31:46)"
       ]
      },
      {
       "output_type": "stream",
       "stream": "stdout",
       "text": [
        "\r",
        "Done image 108 of 2000 (avg time: 1.00509330111 secs --- remaining: 31:40)"
       ]
      },
      {
       "output_type": "stream",
       "stream": "stdout",
       "text": [
        "\r",
        "Done image 109 of 2000 (avg time: 1.00274613554 secs --- remaining: 31:35)"
       ]
      },
      {
       "output_type": "stream",
       "stream": "stdout",
       "text": [
        "\r",
        "Done image 110 of 2000 (avg time: 1.00671649624 secs --- remaining: 31:41)"
       ]
      },
      {
       "output_type": "stream",
       "stream": "stdout",
       "text": [
        "\r",
        "Done image 111 of 2000 (avg time: 1.00680636721 secs --- remaining: 31:40)"
       ]
      },
      {
       "output_type": "stream",
       "stream": "stdout",
       "text": [
        "\r",
        "Done image 112 of 2000 (avg time: 1.00858726544 secs --- remaining: 31:43)"
       ]
      },
      {
       "output_type": "stream",
       "stream": "stdout",
       "text": [
        "\r",
        "Done image 113 of 2000 (avg time: 1.00543563199 secs --- remaining: 31:36)"
       ]
      },
      {
       "output_type": "stream",
       "stream": "stdout",
       "text": [
        "\r",
        "Done image 114 of 2000 (avg time: 1.00352104436 secs --- remaining: 31:31)"
       ]
      },
      {
       "output_type": "stream",
       "stream": "stdout",
       "text": [
        "\r",
        "Done image 115 of 2000 (avg time: 1.00224057765 secs --- remaining: 31:28)"
       ]
      },
      {
       "output_type": "stream",
       "stream": "stdout",
       "text": [
        "\r",
        "Done image 116 of 2000 (avg time: 0.999680572086 secs --- remaining: 31:22)"
       ]
      },
      {
       "output_type": "stream",
       "stream": "stdout",
       "text": [
        "\r",
        "Done image 117 of 2000 (avg time: 0.999028710996 secs --- remaining: 31:20)"
       ]
      },
      {
       "output_type": "stream",
       "stream": "stdout",
       "text": [
        "\r",
        "Done image 118 of 2000 (avg time: 0.99665369707 secs --- remaining: 31:14)"
       ]
      },
      {
       "output_type": "stream",
       "stream": "stdout",
       "text": [
        "\r",
        "Done image 119 of 2000 (avg time: 0.996594774723 secs --- remaining: 31:13)"
       ]
      },
      {
       "output_type": "stream",
       "stream": "stdout",
       "text": [
        "\r",
        "Done image 120 of 2000 (avg time: 0.996406058635 secs --- remaining: 31:12)"
       ]
      },
      {
       "output_type": "stream",
       "stream": "stdout",
       "text": [
        "\r",
        "Done image 121 of 2000 (avg time: 0.991296050978 secs --- remaining: 31:1)"
       ]
      },
      {
       "output_type": "stream",
       "stream": "stdout",
       "text": [
        "\r",
        "Done image 122 of 2000 (avg time: 0.9876058877 secs --- remaining: 30:53)"
       ]
      },
      {
       "output_type": "stream",
       "stream": "stdout",
       "text": [
        "\r",
        "Done image 123 of 2000 (avg time: 0.984345001559 secs --- remaining: 30:46)"
       ]
      },
      {
       "output_type": "stream",
       "stream": "stdout",
       "text": [
        "\r",
        "Done image 124 of 2000 (avg time: 0.984207834244 secs --- remaining: 30:45)"
       ]
      },
      {
       "output_type": "stream",
       "stream": "stdout",
       "text": [
        "\r",
        "Done image 125 of 2000 (avg time: 0.982046787701 secs --- remaining: 30:40)"
       ]
      },
      {
       "output_type": "stream",
       "stream": "stdout",
       "text": [
        "\r",
        "Done image 126 of 2000 (avg time: 0.980633285102 secs --- remaining: 30:36)"
       ]
      },
      {
       "output_type": "stream",
       "stream": "stdout",
       "text": [
        "\r",
        "Done image 127 of 2000 (avg time: 0.979232288897 secs --- remaining: 30:33)"
       ]
      },
      {
       "output_type": "stream",
       "stream": "stdout",
       "text": [
        "\r",
        "Done image 128 of 2000 (avg time: 0.975504457489 secs --- remaining: 30:25)"
       ]
      },
      {
       "output_type": "stream",
       "stream": "stdout",
       "text": [
        "\r",
        "Done image 129 of 2000 (avg time: 0.973465246421 secs --- remaining: 30:20)"
       ]
      },
      {
       "output_type": "stream",
       "stream": "stdout",
       "text": [
        "\r",
        "Done image 130 of 2000 (avg time: 0.974025680819 secs --- remaining: 30:20)"
       ]
      },
      {
       "output_type": "stream",
       "stream": "stdout",
       "text": [
        "\r",
        "Done image 131 of 2000 (avg time: 0.976674887267 secs --- remaining: 30:24)"
       ]
      },
      {
       "output_type": "stream",
       "stream": "stdout",
       "text": [
        "\r",
        "Done image 132 of 2000 (avg time: 0.975179722435 secs --- remaining: 30:20)"
       ]
      },
      {
       "output_type": "stream",
       "stream": "stdout",
       "text": [
        "\r",
        "Done image 133 of 2000 (avg time: 0.972669186877 secs --- remaining: 30:15)"
       ]
      },
      {
       "output_type": "stream",
       "stream": "stdout",
       "text": [
        "\r",
        "Done image 134 of 2000 (avg time: 0.972439230813 secs --- remaining: 30:13)"
       ]
      },
      {
       "output_type": "stream",
       "stream": "stdout",
       "text": [
        "\r",
        "Done image 135 of 2000 (avg time: 0.973270626629 secs --- remaining: 30:14)"
       ]
      },
      {
       "output_type": "stream",
       "stream": "stdout",
       "text": [
        "\r",
        "Done image 136 of 2000 (avg time: 0.971735694983 secs --- remaining: 30:10)"
       ]
      },
      {
       "output_type": "stream",
       "stream": "stdout",
       "text": [
        "\r",
        "Done image 137 of 2000 (avg time: 0.970840203589 secs --- remaining: 30:7)"
       ]
      },
      {
       "output_type": "stream",
       "stream": "stdout",
       "text": [
        "\r",
        "Done image 138 of 2000 (avg time: 0.968422944597 secs --- remaining: 30:2)"
       ]
      },
      {
       "output_type": "stream",
       "stream": "stdout",
       "text": [
        "\r",
        "Done image 139 of 2000 (avg time: 0.967352495875 secs --- remaining: 29:59)"
       ]
      },
      {
       "output_type": "stream",
       "stream": "stdout",
       "text": [
        "\r",
        "Done image 140 of 2000 (avg time: 0.965882358822 secs --- remaining: 29:55)"
       ]
      },
      {
       "output_type": "stream",
       "stream": "stdout",
       "text": [
        "\r",
        "Done image 141 of 2000 (avg time: 0.965440075162 secs --- remaining: 29:53)"
       ]
      },
      {
       "output_type": "stream",
       "stream": "stdout",
       "text": [
        "\r",
        "Done image 142 of 2000 (avg time: 0.964109255717 secs --- remaining: 29:50)"
       ]
      },
      {
       "output_type": "stream",
       "stream": "stdout",
       "text": [
        "\r",
        "Done image 143 of 2000 (avg time: 0.962783815132 secs --- remaining: 29:46)"
       ]
      },
      {
       "output_type": "stream",
       "stream": "stdout",
       "text": [
        "\r",
        "Done image 144 of 2000 (avg time: 0.957763995795 secs --- remaining: 29:36)"
       ]
      },
      {
       "output_type": "stream",
       "stream": "stdout",
       "text": [
        "\r",
        "Done image 145 of 2000 (avg time: 0.957756502988 secs --- remaining: 29:35)"
       ]
      },
      {
       "output_type": "stream",
       "stream": "stdout",
       "text": [
        "\r",
        "Done image 146 of 2000 (avg time: 0.956014472611 secs --- remaining: 29:31)"
       ]
      },
      {
       "output_type": "stream",
       "stream": "stdout",
       "text": [
        "\r",
        "Done image 147 of 2000 (avg time: 0.955042827774 secs --- remaining: 29:28)"
       ]
      },
      {
       "output_type": "stream",
       "stream": "stdout",
       "text": [
        "\r",
        "Done image 148 of 2000 (avg time: 0.954662996651 secs --- remaining: 29:27)"
       ]
      },
      {
       "output_type": "stream",
       "stream": "stdout",
       "text": [
        "\r",
        "Done image 149 of 2000 (avg time: 0.957609337171 secs --- remaining: 29:31)"
       ]
      },
      {
       "output_type": "stream",
       "stream": "stdout",
       "text": [
        "\r",
        "Done image 150 of 2000 (avg time: 0.957997977339 secs --- remaining: 29:31)"
       ]
      },
      {
       "output_type": "stream",
       "stream": "stdout",
       "text": [
        "\r",
        "Done image 151 of 2000 (avg time: 0.959638904584 secs --- remaining: 29:33)"
       ]
      },
      {
       "output_type": "stream",
       "stream": "stdout",
       "text": [
        "\r",
        "Done image 152 of 2000 (avg time: 0.959799545263 secs --- remaining: 29:32)"
       ]
      },
      {
       "output_type": "stream",
       "stream": "stdout",
       "text": [
        "computing poisson /media/ilisescu/Data1/PhD/data/drumming2/frame-00095.png\r",
        "Done image 153 of 2000 (avg time: 0.970765055 secs --- remaining: 29:52)"
       ]
      },
      {
       "output_type": "stream",
       "stream": "stdout",
       "text": [
        " computing poisson /media/ilisescu/Data1/PhD/data/drumming2/frame-00096.png\r",
        "Done image 154 of 2000 (avg time: 0.981829118729 secs --- remaining: 30:11)"
       ]
      },
      {
       "output_type": "stream",
       "stream": "stdout",
       "text": [
        " computing poisson /media/ilisescu/Data1/PhD/data/drumming2/frame-00097.png\r",
        "Done image 155 of 2000 (avg time: 0.993169284784 secs --- remaining: 30:31)"
       ]
      },
      {
       "output_type": "stream",
       "stream": "stdout",
       "text": [
        "\r",
        "Done image 156 of 2000 (avg time: 0.990355086175 secs --- remaining: 30:25)"
       ]
      },
      {
       "output_type": "stream",
       "stream": "stdout",
       "text": [
        "\r",
        "Done image 157 of 2000 (avg time: 0.987425876569 secs --- remaining: 30:18)"
       ]
      },
      {
       "output_type": "stream",
       "stream": "stdout",
       "text": [
        "\r",
        "Done image 158 of 2000 (avg time: 0.985700613298 secs --- remaining: 30:14)"
       ]
      },
      {
       "output_type": "stream",
       "stream": "stdout",
       "text": [
        "\r",
        "Done image 159 of 2000 (avg time: 0.983260540664 secs --- remaining: 30:9)"
       ]
      },
      {
       "output_type": "stream",
       "stream": "stdout",
       "text": [
        "\r",
        "Done image 160 of 2000 (avg time: 0.981514791524 secs --- remaining: 30:5)"
       ]
      },
      {
       "output_type": "stream",
       "stream": "stdout",
       "text": [
        "\r",
        "Done image 161 of 2000 (avg time: 0.978358564553 secs --- remaining: 29:58)"
       ]
      },
      {
       "output_type": "stream",
       "stream": "stdout",
       "text": [
        "\r",
        "Done image 162 of 2000 (avg time: 0.976244756781 secs --- remaining: 29:53)"
       ]
      },
      {
       "output_type": "stream",
       "stream": "stdout",
       "text": [
        "\r",
        "Done image 163 of 2000 (avg time: 0.973701600621 secs --- remaining: 29:47)"
       ]
      },
      {
       "output_type": "stream",
       "stream": "stdout",
       "text": [
        "\r",
        "Done image 164 of 2000 (avg time: 0.970882736553 secs --- remaining: 29:41)"
       ]
      },
      {
       "output_type": "stream",
       "stream": "stdout",
       "text": [
        "\r",
        "Done image 165 of 2000 (avg time: 0.969085045608 secs --- remaining: 29:37)"
       ]
      },
      {
       "output_type": "stream",
       "stream": "stdout",
       "text": [
        "\r",
        "Done image 166 of 2000 (avg time: 0.966877865934 secs --- remaining: 29:32)"
       ]
      },
      {
       "output_type": "stream",
       "stream": "stdout",
       "text": [
        "\r",
        "Done image 167 of 2000 (avg time: 0.965887841724 secs --- remaining: 29:29)"
       ]
      },
      {
       "output_type": "stream",
       "stream": "stdout",
       "text": [
        "\r",
        "Done image 168 of 2000 (avg time: 0.964761487126 secs --- remaining: 29:26)"
       ]
      },
      {
       "output_type": "stream",
       "stream": "stdout",
       "text": [
        "\r",
        "Done image 169 of 2000 (avg time: 0.963599660817 secs --- remaining: 29:23)"
       ]
      },
      {
       "output_type": "stream",
       "stream": "stdout",
       "text": [
        "\r",
        "Done image 170 of 2000 (avg time: 0.961529048563 secs --- remaining: 29:18)"
       ]
      },
      {
       "output_type": "stream",
       "stream": "stdout",
       "text": [
        "\r",
        "Done image 171 of 2000 (avg time: 0.957436489504 secs --- remaining: 29:10)"
       ]
      },
      {
       "output_type": "stream",
       "stream": "stdout",
       "text": [
        "\r",
        "Done image 172 of 2000 (avg time: 0.956603827504 secs --- remaining: 29:7)"
       ]
      },
      {
       "output_type": "stream",
       "stream": "stdout",
       "text": [
        "\r",
        "Done image 173 of 2000 (avg time: 0.955446495407 secs --- remaining: 29:4)"
       ]
      },
      {
       "output_type": "stream",
       "stream": "stdout",
       "text": [
        "\r",
        "Done image 174 of 2000 (avg time: 0.953574760982 secs --- remaining: 29:0)"
       ]
      },
      {
       "output_type": "stream",
       "stream": "stdout",
       "text": [
        "\r",
        "Done image 175 of 2000 (avg time: 0.952581553297 secs --- remaining: 28:57)"
       ]
      },
      {
       "output_type": "stream",
       "stream": "stdout",
       "text": [
        "\r",
        "Done image 176 of 2000 (avg time: 0.951614374495 secs --- remaining: 28:54)"
       ]
      },
      {
       "output_type": "stream",
       "stream": "stdout",
       "text": [
        "\r",
        "Done image 177 of 2000 (avg time: 0.949236816235 secs --- remaining: 28:49)"
       ]
      },
      {
       "output_type": "stream",
       "stream": "stdout",
       "text": [
        "\r",
        "Done image 178 of 2000 (avg time: 0.947462906385 secs --- remaining: 28:45)"
       ]
      },
      {
       "output_type": "stream",
       "stream": "stdout",
       "text": [
        "\r",
        "Done image 179 of 2000 (avg time: 0.946234639486 secs --- remaining: 28:42)"
       ]
      },
      {
       "output_type": "stream",
       "stream": "stdout",
       "text": [
        "\r",
        "Done image 180 of 2000 (avg time: 0.945601570013 secs --- remaining: 28:40)"
       ]
      },
      {
       "output_type": "stream",
       "stream": "stdout",
       "text": [
        "\r",
        "Done image 181 of 2000 (avg time: 0.944787050342 secs --- remaining: 28:37)"
       ]
      },
      {
       "output_type": "stream",
       "stream": "stdout",
       "text": [
        "\r",
        "Done image 182 of 2000 (avg time: 0.942533311948 secs --- remaining: 28:32)"
       ]
      },
      {
       "output_type": "stream",
       "stream": "stdout",
       "text": [
        "\r",
        "Done image 183 of 2000 (avg time: 0.940617668888 secs --- remaining: 28:28)"
       ]
      },
      {
       "output_type": "stream",
       "stream": "stdout",
       "text": [
        "\r",
        "Done image 184 of 2000 (avg time: 0.937140280492 secs --- remaining: 28:20)"
       ]
      },
      {
       "output_type": "stream",
       "stream": "stdout",
       "text": [
        "\r",
        "Done image 185 of 2000 (avg time: 0.935262225007 secs --- remaining: 28:16)"
       ]
      },
      {
       "output_type": "stream",
       "stream": "stdout",
       "text": [
        "\r",
        "Done image 186 of 2000 (avg time: 0.934240545181 secs --- remaining: 28:13)"
       ]
      },
      {
       "output_type": "stream",
       "stream": "stdout",
       "text": [
        "\r",
        "Done image 187 of 2000 (avg time: 0.932427185647 secs --- remaining: 28:9)"
       ]
      },
      {
       "output_type": "stream",
       "stream": "stdout",
       "text": [
        "\r",
        "Done image 188 of 2000 (avg time: 0.930623921137 secs --- remaining: 28:5)"
       ]
      },
      {
       "output_type": "stream",
       "stream": "stdout",
       "text": [
        "\r",
        "Done image 189 of 2000 (avg time: 0.930341105712 secs --- remaining: 28:3)"
       ]
      },
      {
       "output_type": "stream",
       "stream": "stdout",
       "text": [
        "\r",
        "Done image 190 of 2000 (avg time: 0.928408776278 secs --- remaining: 27:59)"
       ]
      },
      {
       "output_type": "stream",
       "stream": "stdout",
       "text": [
        " computing poisson /media/ilisescu/Data1/PhD/data/drumming2/frame-00702.png\r",
        "Done image 191 of 2000 (avg time: 0.951240861168 secs --- remaining: 28:39)"
       ]
      },
      {
       "output_type": "stream",
       "stream": "stdout",
       "text": [
        " computing poisson /media/ilisescu/Data1/PhD/data/drumming2/frame-00703.png\r",
        "Done image 192 of 2000 (avg time: 0.979704540628 secs --- remaining: 29:30)"
       ]
      },
      {
       "output_type": "stream",
       "stream": "stdout",
       "text": [
        " computing poisson /media/ilisescu/Data1/PhD/data/drumming2/frame-00704.png\r",
        "Done image 193 of 2000 (avg time: 1.0017935947 secs --- remaining: 30:9)"
       ]
      },
      {
       "output_type": "stream",
       "stream": "stdout",
       "text": [
        "\r",
        "Done image 194 of 2000 (avg time: 1.00264663207 secs --- remaining: 30:9)"
       ]
      },
      {
       "output_type": "stream",
       "stream": "stdout",
       "text": [
        "\r",
        "Done image 195 of 2000 (avg time: 1.00095336413 secs --- remaining: 30:5)"
       ]
      },
      {
       "output_type": "stream",
       "stream": "stdout",
       "text": [
        "\r",
        "Done image 196 of 2000 (avg time: 0.999268276437 secs --- remaining: 30:1)"
       ]
      },
      {
       "output_type": "stream",
       "stream": "stdout",
       "text": [
        "\r",
        "Done image 197 of 2000 (avg time: 0.99913645754 secs --- remaining: 30:0)"
       ]
      },
      {
       "output_type": "stream",
       "stream": "stdout",
       "text": [
        "\r",
        "Done image 198 of 2000 (avg time: 0.997054259382 secs --- remaining: 29:55)"
       ]
      },
      {
       "output_type": "stream",
       "stream": "stdout",
       "text": [
        "\r",
        "Done image 199 of 2000 (avg time: 0.994846923351 secs --- remaining: 29:50)"
       ]
      },
      {
       "output_type": "stream",
       "stream": "stdout",
       "text": [
        "\r",
        "Done image 200 of 2000 (avg time: 0.993278401408 secs --- remaining: 29:46)"
       ]
      },
      {
       "output_type": "stream",
       "stream": "stdout",
       "text": [
        "\r",
        "Done image 201 of 2000 (avg time: 0.990825631831 secs --- remaining: 29:41)"
       ]
      },
      {
       "output_type": "stream",
       "stream": "stdout",
       "text": [
        "\r",
        "Done image 202 of 2000 (avg time: 0.989307348364 secs --- remaining: 29:37)"
       ]
      },
      {
       "output_type": "stream",
       "stream": "stdout",
       "text": [
        "\r",
        "Done image 203 of 2000 (avg time: 0.988495625702 secs --- remaining: 29:35)"
       ]
      },
      {
       "output_type": "stream",
       "stream": "stdout",
       "text": [
        "\r",
        "Done image 204 of 2000 (avg time: 0.986587486034 secs --- remaining: 29:30)"
       ]
      },
      {
       "output_type": "stream",
       "stream": "stdout",
       "text": [
        "\r",
        "Done image 205 of 2000 (avg time: 0.985108434575 secs --- remaining: 29:27)"
       ]
      },
      {
       "output_type": "stream",
       "stream": "stdout",
       "text": [
        "\r",
        "Done image 206 of 2000 (avg time: 0.98368066866 secs --- remaining: 29:23)"
       ]
      },
      {
       "output_type": "stream",
       "stream": "stdout",
       "text": [
        "\r",
        "Done image 207 of 2000 (avg time: 0.982273227893 secs --- remaining: 29:20)"
       ]
      },
      {
       "output_type": "stream",
       "stream": "stdout",
       "text": [
        "\r",
        "Done image 208 of 2000 (avg time: 0.980842523027 secs --- remaining: 29:16)"
       ]
      },
      {
       "output_type": "stream",
       "stream": "stdout",
       "text": [
        "\r",
        "Done image 209 of 2000 (avg time: 0.98050627822 secs --- remaining: 29:15)"
       ]
      },
      {
       "output_type": "stream",
       "stream": "stdout",
       "text": [
        "\r",
        "Done image 210 of 2000 (avg time: 0.978312423444 secs --- remaining: 29:10)"
       ]
      },
      {
       "output_type": "stream",
       "stream": "stdout",
       "text": [
        "\r",
        "Done image 211 of 2000 (avg time: 0.975710657408 secs --- remaining: 29:4)"
       ]
      },
      {
       "output_type": "stream",
       "stream": "stdout",
       "text": [
        "\r",
        "Done image 212 of 2000 (avg time: 0.974063644946 secs --- remaining: 29:0)"
       ]
      },
      {
       "output_type": "stream",
       "stream": "stdout",
       "text": [
        "\r",
        "Done image 213 of 2000 (avg time: 0.972294818575 secs --- remaining: 28:56)"
       ]
      },
      {
       "output_type": "stream",
       "stream": "stdout",
       "text": [
        "\r",
        "Done image 214 of 2000 (avg time: 0.970568125747 secs --- remaining: 28:52)"
       ]
      },
      {
       "output_type": "stream",
       "stream": "stdout",
       "text": [
        "\r",
        "Done image 215 of 2000 (avg time: 0.970457111244 secs --- remaining: 28:51)"
       ]
      },
      {
       "output_type": "stream",
       "stream": "stdout",
       "text": [
        "\r",
        "Done image 216 of 2000 (avg time: 0.969288847963 secs --- remaining: 28:48)"
       ]
      },
      {
       "output_type": "stream",
       "stream": "stdout",
       "text": [
        "\r",
        "Done image 217 of 2000 (avg time: 0.967346426544 secs --- remaining: 28:43)"
       ]
      },
      {
       "output_type": "stream",
       "stream": "stdout",
       "text": [
        "\r",
        "Done image 218 of 2000 (avg time: 0.96550040158 secs --- remaining: 28:39)"
       ]
      },
      {
       "output_type": "stream",
       "stream": "stdout",
       "text": [
        "\r",
        "Done image 219 of 2000 (avg time: 0.962937403809 secs --- remaining: 28:34)"
       ]
      },
      {
       "output_type": "stream",
       "stream": "stdout",
       "text": [
        "\r",
        "Done image 220 of 2000 (avg time: 0.960191551916 secs --- remaining: 28:28)"
       ]
      },
      {
       "output_type": "stream",
       "stream": "stdout",
       "text": [
        "\r",
        "Done image 221 of 2000 (avg time: 0.957135284269 secs --- remaining: 28:21)"
       ]
      },
      {
       "output_type": "stream",
       "stream": "stdout",
       "text": [
        "\r",
        "Done image 222 of 2000 (avg time: 0.955387937648 secs --- remaining: 28:17)"
       ]
      },
      {
       "output_type": "stream",
       "stream": "stdout",
       "text": [
        "\r",
        "Done image 223 of 2000 (avg time: 0.953435731786 secs --- remaining: 28:13)"
       ]
      },
      {
       "output_type": "stream",
       "stream": "stdout",
       "text": [
        "\r",
        "Done image 224 of 2000 (avg time: 0.951495018005 secs --- remaining: 28:8)"
       ]
      },
      {
       "output_type": "stream",
       "stream": "stdout",
       "text": [
        "\r",
        "Done image 225 of 2000 (avg time: 0.950315513442 secs --- remaining: 28:5)"
       ]
      },
      {
       "output_type": "stream",
       "stream": "stdout",
       "text": [
        "\r",
        "Done image 226 of 2000 (avg time: 0.949029568534 secs --- remaining: 28:2)"
       ]
      },
      {
       "output_type": "stream",
       "stream": "stdout",
       "text": [
        "\r",
        "Done image 227 of 2000 (avg time: 0.947658912132 secs --- remaining: 27:59)"
       ]
      },
      {
       "output_type": "stream",
       "stream": "stdout",
       "text": [
        "\r",
        "Done image 228 of 2000 (avg time: 0.946171903194 secs --- remaining: 27:55)"
       ]
      },
      {
       "output_type": "stream",
       "stream": "stdout",
       "text": [
        "\r",
        "Done image 229 of 2000 (avg time: 0.945369652043 secs --- remaining: 27:53)"
       ]
      },
      {
       "output_type": "stream",
       "stream": "stdout",
       "text": [
        "\r",
        "Done image 230 of 2000 (avg time: 0.944215606301 secs --- remaining: 27:50)"
       ]
      },
      {
       "output_type": "stream",
       "stream": "stdout",
       "text": [
        "\r",
        "Done image 231 of 2000 (avg time: 0.943013228219 secs --- remaining: 27:47)"
       ]
      },
      {
       "output_type": "stream",
       "stream": "stdout",
       "text": [
        "\r",
        "Done image 232 of 2000 (avg time: 0.942367561897 secs --- remaining: 27:45)"
       ]
      },
      {
       "output_type": "stream",
       "stream": "stdout",
       "text": [
        "\r",
        "Done image 233 of 2000 (avg time: 0.942715268869 secs --- remaining: 27:44)"
       ]
      },
      {
       "output_type": "stream",
       "stream": "stdout",
       "text": [
        "\r",
        "Done image 234 of 2000 (avg time: 0.943257114735 secs --- remaining: 27:44)"
       ]
      },
      {
       "output_type": "stream",
       "stream": "stdout",
       "text": [
        "\r",
        "Done image 235 of 2000 (avg time: 0.942528715578 secs --- remaining: 27:42)"
       ]
      },
      {
       "output_type": "stream",
       "stream": "stdout",
       "text": [
        "\r",
        "Done image 236 of 2000 (avg time: 0.943460134514 secs --- remaining: 27:43)"
       ]
      },
      {
       "output_type": "stream",
       "stream": "stdout",
       "text": [
        "\r",
        "Done image 237 of 2000 (avg time: 0.943670399049 secs --- remaining: 27:42)"
       ]
      },
      {
       "output_type": "stream",
       "stream": "stdout",
       "text": [
        "\r",
        "Done image 238 of 2000 (avg time: 0.943873778547 secs --- remaining: 27:42)"
       ]
      },
      {
       "output_type": "stream",
       "stream": "stdout",
       "text": [
        "\r",
        "Done image 239 of 2000 (avg time: 0.942842846115 secs --- remaining: 27:39)"
       ]
      },
      {
       "output_type": "stream",
       "stream": "stdout",
       "text": [
        "\r",
        "Done image 240 of 2000 (avg time: 0.941508884747 secs --- remaining: 27:36)"
       ]
      },
      {
       "output_type": "stream",
       "stream": "stdout",
       "text": [
        "\r",
        "Done image 241 of 2000 (avg time: 0.940542892976 secs --- remaining: 27:33)"
       ]
      },
      {
       "output_type": "stream",
       "stream": "stdout",
       "text": [
        "\r",
        "Done image 242 of 2000 (avg time: 0.939515074585 secs --- remaining: 27:30)"
       ]
      },
      {
       "output_type": "stream",
       "stream": "stdout",
       "text": [
        "\r",
        "Done image 243 of 2000 (avg time: 0.938786308296 secs --- remaining: 27:28)"
       ]
      },
      {
       "output_type": "stream",
       "stream": "stdout",
       "text": [
        "\r",
        "Done image 244 of 2000 (avg time: 0.938409645703 secs --- remaining: 27:26)"
       ]
      },
      {
       "output_type": "stream",
       "stream": "stdout",
       "text": [
        "\r",
        "Done image 245 of 2000 (avg time: 0.937567809733 secs --- remaining: 27:24)"
       ]
      },
      {
       "output_type": "stream",
       "stream": "stdout",
       "text": [
        "\r",
        "Done image 246 of 2000 (avg time: 0.936454236266 secs --- remaining: 27:21)"
       ]
      },
      {
       "output_type": "stream",
       "stream": "stdout",
       "text": [
        "\r",
        "Done image 247 of 2000 (avg time: 0.934871654357 secs --- remaining: 27:17)"
       ]
      },
      {
       "output_type": "stream",
       "stream": "stdout",
       "text": [
        "\r",
        "Done image 248 of 2000 (avg time: 0.933405041216 secs --- remaining: 27:14)"
       ]
      },
      {
       "output_type": "stream",
       "stream": "stdout",
       "text": [
        "\r",
        "Done image 249 of 2000 (avg time: 0.931701449394 secs --- remaining: 27:10)"
       ]
      },
      {
       "output_type": "stream",
       "stream": "stdout",
       "text": [
        "\r",
        "Done image 250 of 2000 (avg time: 0.929289929895 secs --- remaining: 27:5)"
       ]
      },
      {
       "output_type": "stream",
       "stream": "stdout",
       "text": [
        "\r",
        "Done image 251 of 2000 (avg time: 0.928002770931 secs --- remaining: 27:2)"
       ]
      },
      {
       "output_type": "stream",
       "stream": "stdout",
       "text": [
        "\r",
        "Done image 252 of 2000 (avg time: 0.926887546132 secs --- remaining: 26:59)"
       ]
      },
      {
       "output_type": "stream",
       "stream": "stdout",
       "text": [
        "\r",
        "Done image 253 of 2000 (avg time: 0.925640004826 secs --- remaining: 26:56)"
       ]
      },
      {
       "output_type": "stream",
       "stream": "stdout",
       "text": [
        "\r",
        "Done image 254 of 2000 (avg time: 0.924277835734 secs --- remaining: 26:52)"
       ]
      },
      {
       "output_type": "stream",
       "stream": "stdout",
       "text": [
        "\r",
        "Done image 255 of 2000 (avg time: 0.922915495932 secs --- remaining: 26:49)"
       ]
      },
      {
       "output_type": "stream",
       "stream": "stdout",
       "text": [
        "\r",
        "Done image 256 of 2000 (avg time: 0.921663649815 secs --- remaining: 26:46)"
       ]
      },
      {
       "output_type": "stream",
       "stream": "stdout",
       "text": [
        "\r",
        "Done image 257 of 2000 (avg time: 0.92030370143 secs --- remaining: 26:43)"
       ]
      },
      {
       "output_type": "stream",
       "stream": "stdout",
       "text": [
        "\r",
        "Done image 258 of 2000 (avg time: 0.918491050543 secs --- remaining: 26:39)"
       ]
      },
      {
       "output_type": "stream",
       "stream": "stdout",
       "text": [
        "\r",
        "Done image 259 of 2000 (avg time: 0.917078150236 secs --- remaining: 26:35)"
       ]
      },
      {
       "output_type": "stream",
       "stream": "stdout",
       "text": [
        "\r",
        "Done image 260 of 2000 (avg time: 0.915861279572 secs --- remaining: 26:32)"
       ]
      },
      {
       "output_type": "stream",
       "stream": "stdout",
       "text": [
        "\r",
        "Done image 261 of 2000 (avg time: 0.914119942498 secs --- remaining: 26:28)"
       ]
      },
      {
       "output_type": "stream",
       "stream": "stdout",
       "text": [
        "\r",
        "Done image 262 of 2000 (avg time: 0.912552623241 secs --- remaining: 26:25)"
       ]
      },
      {
       "output_type": "stream",
       "stream": "stdout",
       "text": [
        "\r",
        "Done image 263 of 2000 (avg time: 0.911823105631 secs --- remaining: 26:22)"
       ]
      },
      {
       "output_type": "stream",
       "stream": "stdout",
       "text": [
        "\r",
        "Done image 264 of 2000 (avg time: 0.910206202741 secs --- remaining: 26:19)"
       ]
      },
      {
       "output_type": "stream",
       "stream": "stdout",
       "text": [
        "\r",
        "Done image 265 of 2000 (avg time: 0.90822397587 secs --- remaining: 26:14)"
       ]
      },
      {
       "output_type": "stream",
       "stream": "stdout",
       "text": [
        "\r",
        "Done image 266 of 2000 (avg time: 0.906237043245 secs --- remaining: 26:10)"
       ]
      },
      {
       "output_type": "stream",
       "stream": "stdout",
       "text": [
        "\r",
        "Done image 267 of 2000 (avg time: 0.904357423533 secs --- remaining: 26:6)"
       ]
      },
      {
       "output_type": "stream",
       "stream": "stdout",
       "text": [
        "\r",
        "Done image 268 of 2000 (avg time: 0.903696247193 secs --- remaining: 26:4)"
       ]
      },
      {
       "output_type": "stream",
       "stream": "stdout",
       "text": [
        "\r",
        "Done image 269 of 2000 (avg time: 0.901564083276 secs --- remaining: 25:59)"
       ]
      },
      {
       "output_type": "stream",
       "stream": "stdout",
       "text": [
        "\r",
        "Done image 270 of 2000 (avg time: 0.901418108782 secs --- remaining: 25:58)"
       ]
      },
      {
       "output_type": "stream",
       "stream": "stdout",
       "text": [
        "\r",
        "Done image 271 of 2000 (avg time: 0.899701846873 secs --- remaining: 25:54)"
       ]
      },
      {
       "output_type": "stream",
       "stream": "stdout",
       "text": [
        "\r",
        "Done image 272 of 2000 (avg time: 0.899285982817 secs --- remaining: 25:53)"
       ]
      },
      {
       "output_type": "stream",
       "stream": "stdout",
       "text": [
        "\r",
        "Done image 273 of 2000 (avg time: 0.898907348187 secs --- remaining: 25:51)"
       ]
      },
      {
       "output_type": "stream",
       "stream": "stdout",
       "text": [
        "\r",
        "Done image 274 of 2000 (avg time: 0.898639390252 secs --- remaining: 25:50)"
       ]
      },
      {
       "output_type": "stream",
       "stream": "stdout",
       "text": [
        "\r",
        "Done image 275 of 2000 (avg time: 0.898715454599 secs --- remaining: 25:49)"
       ]
      },
      {
       "output_type": "stream",
       "stream": "stdout",
       "text": [
        "\r",
        "Done image 276 of 2000 (avg time: 0.898279814083 secs --- remaining: 25:47)"
       ]
      },
      {
       "output_type": "stream",
       "stream": "stdout",
       "text": [
        "\r",
        "Done image 277 of 2000 (avg time: 0.89666599507 secs --- remaining: 25:44)"
       ]
      },
      {
       "output_type": "stream",
       "stream": "stdout",
       "text": [
        "\r",
        "Done image 278 of 2000 (avg time: 0.89574570126 secs --- remaining: 25:41)"
       ]
      },
      {
       "output_type": "stream",
       "stream": "stdout",
       "text": [
        "\r",
        "Done image 279 of 2000 (avg time: 0.895160459621 secs --- remaining: 25:39)"
       ]
      },
      {
       "output_type": "stream",
       "stream": "stdout",
       "text": [
        "\r",
        "Done image 280 of 2000 (avg time: 0.892651955852 secs --- remaining: 25:34)"
       ]
      },
      {
       "output_type": "stream",
       "stream": "stdout",
       "text": [
        "\r",
        "Done image 281 of 2000 (avg time: 0.890539714631 secs --- remaining: 25:29)"
       ]
      },
      {
       "output_type": "stream",
       "stream": "stdout",
       "text": [
        "\r",
        "Done image 282 of 2000 (avg time: 0.888808824991 secs --- remaining: 25:26)"
       ]
      },
      {
       "output_type": "stream",
       "stream": "stdout",
       "text": [
        "\r",
        "Done image 283 of 2000 (avg time: 0.886860997744 secs --- remaining: 25:21)"
       ]
      },
      {
       "output_type": "stream",
       "stream": "stdout",
       "text": [
        "\r",
        "Done image 284 of 2000 (avg time: 0.88560998398 secs --- remaining: 25:18)"
       ]
      },
      {
       "output_type": "stream",
       "stream": "stdout",
       "text": [
        "\r",
        "Done image 285 of 2000 (avg time: 0.884892659587 secs --- remaining: 25:16)"
       ]
      },
      {
       "output_type": "stream",
       "stream": "stdout",
       "text": [
        "\r",
        "Done image 286 of 2000 (avg time: 0.885006733472 secs --- remaining: 25:16)"
       ]
      },
      {
       "output_type": "stream",
       "stream": "stdout",
       "text": [
        "\r",
        "Done image 287 of 2000 (avg time: 0.884533935951 secs --- remaining: 25:14)"
       ]
      },
      {
       "output_type": "stream",
       "stream": "stdout",
       "text": [
        "\r",
        "Done image 288 of 2000 (avg time: 0.884740112562 secs --- remaining: 25:13)"
       ]
      },
      {
       "output_type": "stream",
       "stream": "stdout",
       "text": [
        "\r",
        "Done image 289 of 2000 (avg time: 0.883628188331 secs --- remaining: 25:11)"
       ]
      },
      {
       "output_type": "stream",
       "stream": "stdout",
       "text": [
        "\r",
        "Done image 290 of 2000 (avg time: 0.882311510466 secs --- remaining: 25:7)"
       ]
      },
      {
       "output_type": "stream",
       "stream": "stdout",
       "text": [
        "\r",
        "Done image 291 of 2000 (avg time: 0.88105159753 secs --- remaining: 25:4)"
       ]
      },
      {
       "output_type": "stream",
       "stream": "stdout",
       "text": [
        "\r",
        "Done image 292 of 2000 (avg time: 0.881220864761 secs --- remaining: 25:4)"
       ]
      },
      {
       "output_type": "stream",
       "stream": "stdout",
       "text": [
        "\r",
        "Done image 293 of 2000 (avg time: 0.881321752963 secs --- remaining: 25:3)"
       ]
      },
      {
       "output_type": "stream",
       "stream": "stdout",
       "text": [
        "\r",
        "Done image 294 of 2000 (avg time: 0.880152476036 secs --- remaining: 25:0)"
       ]
      },
      {
       "output_type": "stream",
       "stream": "stdout",
       "text": [
        "\r",
        "Done image 295 of 2000 (avg time: 0.879934163512 secs --- remaining: 24:59)"
       ]
      },
      {
       "output_type": "stream",
       "stream": "stdout",
       "text": [
        "\r",
        "Done image 296 of 2000 (avg time: 0.879659152593 secs --- remaining: 24:58)"
       ]
      },
      {
       "output_type": "stream",
       "stream": "stdout",
       "text": [
        "\r",
        "Done image 297 of 2000 (avg time: 0.879309178999 secs --- remaining: 24:56)"
       ]
      },
      {
       "output_type": "stream",
       "stream": "stdout",
       "text": [
        "\r",
        "Done image 298 of 2000 (avg time: 0.878924466296 secs --- remaining: 24:55)"
       ]
      },
      {
       "output_type": "stream",
       "stream": "stdout",
       "text": [
        "\r",
        "Done image 299 of 2000 (avg time: 0.878465081056 secs --- remaining: 24:53)"
       ]
      },
      {
       "output_type": "stream",
       "stream": "stdout",
       "text": [
        "\r",
        "Done image 300 of 2000 (avg time: 0.878989622838 secs --- remaining: 24:53)"
       ]
      },
      {
       "output_type": "stream",
       "stream": "stdout",
       "text": [
        "\r",
        "Done image 301 of 2000 (avg time: 0.878783667324 secs --- remaining: 24:52)"
       ]
      },
      {
       "output_type": "stream",
       "stream": "stdout",
       "text": [
        "\r",
        "Done image 302 of 2000 (avg time: 0.87764143393 secs --- remaining: 24:49)"
       ]
      },
      {
       "output_type": "stream",
       "stream": "stdout",
       "text": [
        "\r",
        "Done image 303 of 2000 (avg time: 0.877445590339 secs --- remaining: 24:48)"
       ]
      },
      {
       "output_type": "stream",
       "stream": "stdout",
       "text": [
        "\r",
        "Done image 304 of 2000 (avg time: 0.876698450182 secs --- remaining: 24:46)"
       ]
      },
      {
       "output_type": "stream",
       "stream": "stdout",
       "text": [
        "\r",
        "Done image 305 of 2000 (avg time: 0.876302621723 secs --- remaining: 24:44)"
       ]
      },
      {
       "output_type": "stream",
       "stream": "stdout",
       "text": [
        "\r",
        "Done image 306 of 2000 (avg time: 0.876213674825 secs --- remaining: 24:43)"
       ]
      },
      {
       "output_type": "stream",
       "stream": "stdout",
       "text": [
        "\r",
        "Done image 307 of 2000 (avg time: 0.874680191666 secs --- remaining: 24:39)"
       ]
      },
      {
       "output_type": "stream",
       "stream": "stdout",
       "text": [
        "\r",
        "Done image 308 of 2000 (avg time: 0.873671194496 secs --- remaining: 24:37)"
       ]
      },
      {
       "output_type": "stream",
       "stream": "stdout",
       "text": [
        "\r",
        "Done image 309 of 2000 (avg time: 0.873051335735 secs --- remaining: 24:35)"
       ]
      },
      {
       "output_type": "stream",
       "stream": "stdout",
       "text": [
        "\r",
        "Done image 310 of 2000 (avg time: 0.871544302085 secs --- remaining: 24:32)"
       ]
      },
      {
       "output_type": "stream",
       "stream": "stdout",
       "text": [
        "\r",
        "Done image 311 of 2000 (avg time: 0.87022404793 secs --- remaining: 24:28)"
       ]
      },
      {
       "output_type": "stream",
       "stream": "stdout",
       "text": [
        " computing poisson /media/ilisescu/Data1/PhD/data/drumming2/frame-01167.png\r",
        "Done image 312 of 2000 (avg time: 0.873599494989 secs --- remaining: 24:33)"
       ]
      },
      {
       "output_type": "stream",
       "stream": "stdout",
       "text": [
        "\r",
        "Done image 313 of 2000 (avg time: 0.873257697008 secs --- remaining: 24:32)"
       ]
      },
      {
       "output_type": "stream",
       "stream": "stdout",
       "text": [
        " computing poisson /media/ilisescu/Data1/PhD/data/drumming2/frame-01168.png\r",
        "Done image 314 of 2000 (avg time: 0.875896802781 secs --- remaining: 24:35)"
       ]
      },
      {
       "output_type": "stream",
       "stream": "stdout",
       "text": [
        " computing poisson /media/ilisescu/Data1/PhD/data/drumming2/frame-01169.png\r",
        "Done image 315 of 2000 (avg time: 0.879154066496 secs --- remaining: 24:40)"
       ]
      },
      {
       "output_type": "stream",
       "stream": "stdout",
       "text": [
        " computing poisson /media/ilisescu/Data1/PhD/data/drumming2/frame-01170.png\r",
        "Done image 316 of 2000 (avg time: 0.883084434816 secs --- remaining: 24:46)"
       ]
      },
      {
       "output_type": "stream",
       "stream": "stdout",
       "text": [
        "\r",
        "Done image 317 of 2000 (avg time: 0.882322619546 secs --- remaining: 24:44)"
       ]
      },
      {
       "output_type": "stream",
       "stream": "stdout",
       "text": [
        "\r",
        "Done image 318 of 2000 (avg time: 0.881223780982 secs --- remaining: 24:41)"
       ]
      },
      {
       "output_type": "stream",
       "stream": "stdout",
       "text": [
        "\r",
        "Done image 319 of 2000 (avg time: 0.879784659296 secs --- remaining: 24:38)"
       ]
      },
      {
       "output_type": "stream",
       "stream": "stdout",
       "text": [
        "\r",
        "Done image 320 of 2000 (avg time: 0.878817354779 secs --- remaining: 24:35)"
       ]
      },
      {
       "output_type": "stream",
       "stream": "stdout",
       "text": [
        "\r",
        "Done image 321 of 2000 (avg time: 0.877873707262 secs --- remaining: 24:33)"
       ]
      },
      {
       "output_type": "stream",
       "stream": "stdout",
       "text": [
        "\r",
        "Done image 322 of 2000 (avg time: 0.876365785628 secs --- remaining: 24:29)"
       ]
      },
      {
       "output_type": "stream",
       "stream": "stdout",
       "text": [
        "\r",
        "Done image 323 of 2000 (avg time: 0.875801388128 secs --- remaining: 24:27)"
       ]
      },
      {
       "output_type": "stream",
       "stream": "stdout",
       "text": [
        "\r",
        "Done image 324 of 2000 (avg time: 0.876096953612 secs --- remaining: 24:27)"
       ]
      },
      {
       "output_type": "stream",
       "stream": "stdout",
       "text": [
        "\r",
        "Done image 325 of 2000 (avg time: 0.875163895221 secs --- remaining: 24:25)"
       ]
      },
      {
       "output_type": "stream",
       "stream": "stdout",
       "text": [
        "\r",
        "Done image 326 of 2000 (avg time: 0.87421516468 secs --- remaining: 24:22)"
       ]
      },
      {
       "output_type": "stream",
       "stream": "stdout",
       "text": [
        "\r",
        "Done image 327 of 2000 (avg time: 0.873107182543 secs --- remaining: 24:19)"
       ]
      },
      {
       "output_type": "stream",
       "stream": "stdout",
       "text": [
        "\r",
        "Done image 328 of 2000 (avg time: 0.871652349513 secs --- remaining: 24:16)"
       ]
      },
      {
       "output_type": "stream",
       "stream": "stdout",
       "text": [
        "\r",
        "Done image 329 of 2000 (avg time: 0.87069745714 secs --- remaining: 24:14)"
       ]
      },
      {
       "output_type": "stream",
       "stream": "stdout",
       "text": [
        "\r",
        "Done image 330 of 2000 (avg time: 0.869499256244 secs --- remaining: 24:11)"
       ]
      },
      {
       "output_type": "stream",
       "stream": "stdout",
       "text": [
        "\r",
        "Done image 331 of 2000 (avg time: 0.868140279529 secs --- remaining: 24:8)"
       ]
      },
      {
       "output_type": "stream",
       "stream": "stdout",
       "text": [
        "\r",
        "Done image 332 of 2000 (avg time: 0.867280441004 secs --- remaining: 24:5)"
       ]
      },
      {
       "output_type": "stream",
       "stream": "stdout",
       "text": [
        "\r",
        "Done image 333 of 2000 (avg time: 0.866509424712 secs --- remaining: 24:3)"
       ]
      },
      {
       "output_type": "stream",
       "stream": "stdout",
       "text": [
        "\r",
        "Done image 334 of 2000 (avg time: 0.865986384918 secs --- remaining: 24:1)"
       ]
      },
      {
       "output_type": "stream",
       "stream": "stdout",
       "text": [
        "\r",
        "Done image 335 of 2000 (avg time: 0.86610887519 secs --- remaining: 24:1)"
       ]
      },
      {
       "output_type": "stream",
       "stream": "stdout",
       "text": [
        "\r",
        "Done image 336 of 2000 (avg time: 0.86524060006 secs --- remaining: 23:58)"
       ]
      },
      {
       "output_type": "stream",
       "stream": "stdout",
       "text": [
        "\r",
        "Done image 337 of 2000 (avg time: 0.864148932801 secs --- remaining: 23:56)"
       ]
      },
      {
       "output_type": "stream",
       "stream": "stdout",
       "text": [
        "\r",
        "Done image 338 of 2000 (avg time: 0.863497714377 secs --- remaining: 23:54)"
       ]
      },
      {
       "output_type": "stream",
       "stream": "stdout",
       "text": [
        "\r",
        "Done image 339 of 2000 (avg time: 0.862918712111 secs --- remaining: 23:52)"
       ]
      },
      {
       "output_type": "stream",
       "stream": "stdout",
       "text": [
        "\r",
        "Done image 340 of 2000 (avg time: 0.862157088221 secs --- remaining: 23:50)"
       ]
      },
      {
       "output_type": "stream",
       "stream": "stdout",
       "text": [
        "\r",
        "Done image 341 of 2000 (avg time: 0.861166704468 secs --- remaining: 23:47)"
       ]
      },
      {
       "output_type": "stream",
       "stream": "stdout",
       "text": [
        "\r",
        "Done image 342 of 2000 (avg time: 0.859970113626 secs --- remaining: 23:44)"
       ]
      },
      {
       "output_type": "stream",
       "stream": "stdout",
       "text": [
        "\r",
        "Done image 343 of 2000 (avg time: 0.858621575112 secs --- remaining: 23:41)"
       ]
      },
      {
       "output_type": "stream",
       "stream": "stdout",
       "text": [
        "\r",
        "Done image 344 of 2000 (avg time: 0.858385949895 secs --- remaining: 23:40)"
       ]
      },
      {
       "output_type": "stream",
       "stream": "stdout",
       "text": [
        "\r",
        "Done image 345 of 2000 (avg time: 0.858041351241 secs --- remaining: 23:39)"
       ]
      },
      {
       "output_type": "stream",
       "stream": "stdout",
       "text": [
        "\r",
        "Done image 346 of 2000 (avg time: 0.857208736348 secs --- remaining: 23:36)"
       ]
      },
      {
       "output_type": "stream",
       "stream": "stdout",
       "text": [
        "\r",
        "Done image 347 of 2000 (avg time: 0.856736527777 secs --- remaining: 23:35)"
       ]
      },
      {
       "output_type": "stream",
       "stream": "stdout",
       "text": [
        "\r",
        "Done image 348 of 2000 (avg time: 0.856808486162 secs --- remaining: 23:34)"
       ]
      },
      {
       "output_type": "stream",
       "stream": "stdout",
       "text": [
        "\r",
        "Done image 349 of 2000 (avg time: 0.857470942225 secs --- remaining: 23:34)"
       ]
      },
      {
       "output_type": "stream",
       "stream": "stdout",
       "text": [
        "\r",
        "Done image 350 of 2000 (avg time: 0.857660717434 secs --- remaining: 23:34)"
       ]
      },
      {
       "output_type": "stream",
       "stream": "stdout",
       "text": [
        "\r",
        "Done image 351 of 2000 (avg time: 0.856808800589 secs --- remaining: 23:32)"
       ]
      },
      {
       "output_type": "stream",
       "stream": "stdout",
       "text": [
        "\r",
        "Done image 352 of 2000 (avg time: 0.856265515173 secs --- remaining: 23:30)"
       ]
      },
      {
       "output_type": "stream",
       "stream": "stdout",
       "text": [
        "\r",
        "Done image 353 of 2000 (avg time: 0.855298302268 secs --- remaining: 23:27)"
       ]
      },
      {
       "output_type": "stream",
       "stream": "stdout",
       "text": [
        "\r",
        "Done image 354 of 2000 (avg time: 0.854987388262 secs --- remaining: 23:26)"
       ]
      },
      {
       "output_type": "stream",
       "stream": "stdout",
       "text": [
        "\r",
        "Done image 355 of 2000 (avg time: 0.854091403859 secs --- remaining: 23:24)"
       ]
      },
      {
       "output_type": "stream",
       "stream": "stdout",
       "text": [
        "\r",
        "Done image 356 of 2000 (avg time: 0.854293344402 secs --- remaining: 23:23)"
       ]
      },
      {
       "output_type": "stream",
       "stream": "stdout",
       "text": [
        "\r",
        "Done image 357 of 2000 (avg time: 0.854447717773 secs --- remaining: 23:23)"
       ]
      },
      {
       "output_type": "stream",
       "stream": "stdout",
       "text": [
        "\r",
        "Done image 358 of 2000 (avg time: 0.853939195197 secs --- remaining: 23:21)"
       ]
      },
      {
       "output_type": "stream",
       "stream": "stdout",
       "text": [
        "\r",
        "Done image 359 of 2000 (avg time: 0.854009205765 secs --- remaining: 23:20)"
       ]
      },
      {
       "output_type": "stream",
       "stream": "stdout",
       "text": [
        "\r",
        "Done image 360 of 2000 (avg time: 0.853400828766 secs --- remaining: 23:18)"
       ]
      },
      {
       "output_type": "stream",
       "stream": "stdout",
       "text": [
        "\r",
        "Done image 361 of 2000 (avg time: 0.852365028134 secs --- remaining: 23:16)"
       ]
      },
      {
       "output_type": "stream",
       "stream": "stdout",
       "text": [
        "\r",
        "Done image 362 of 2000 (avg time: 0.851877965218 secs --- remaining: 23:14)"
       ]
      },
      {
       "output_type": "stream",
       "stream": "stdout",
       "text": [
        "\r",
        "Done image 363 of 2000 (avg time: 0.85107581432 secs --- remaining: 23:12)"
       ]
      },
      {
       "output_type": "stream",
       "stream": "stdout",
       "text": [
        "\r",
        "Done image 364 of 2000 (avg time: 0.850501461552 secs --- remaining: 23:10)"
       ]
      },
      {
       "output_type": "stream",
       "stream": "stdout",
       "text": [
        "\r",
        "Done image 365 of 2000 (avg time: 0.849824457221 secs --- remaining: 23:8)"
       ]
      },
      {
       "output_type": "stream",
       "stream": "stdout",
       "text": [
        "\r",
        "Done image 366 of 2000 (avg time: 0.84881283152 secs --- remaining: 23:6)"
       ]
      },
      {
       "output_type": "stream",
       "stream": "stdout",
       "text": [
        "\r",
        "Done image 367 of 2000 (avg time: 0.848404359558 secs --- remaining: 23:4)"
       ]
      },
      {
       "output_type": "stream",
       "stream": "stdout",
       "text": [
        "\r",
        "Done image 368 of 2000 (avg time: 0.847498067995 secs --- remaining: 23:2)"
       ]
      },
      {
       "output_type": "stream",
       "stream": "stdout",
       "text": [
        "\r",
        "Done image 369 of 2000 (avg time: 0.846788738225 secs --- remaining: 23:0)"
       ]
      },
      {
       "output_type": "stream",
       "stream": "stdout",
       "text": [
        "\r",
        "Done image 370 of 2000 (avg time: 0.845768701034 secs --- remaining: 22:57)"
       ]
      },
      {
       "output_type": "stream",
       "stream": "stdout",
       "text": [
        "\r",
        "Done image 371 of 2000 (avg time: 0.844867389689 secs --- remaining: 22:55)"
       ]
      },
      {
       "output_type": "stream",
       "stream": "stdout",
       "text": [
        "\r",
        "Done image 372 of 2000 (avg time: 0.843548509455 secs --- remaining: 22:52)"
       ]
      },
      {
       "output_type": "stream",
       "stream": "stdout",
       "text": [
        "\r",
        "Done image 373 of 2000 (avg time: 0.842744438406 secs --- remaining: 22:50)"
       ]
      },
      {
       "output_type": "stream",
       "stream": "stdout",
       "text": [
        "\r",
        "Done image 374 of 2000 (avg time: 0.841660434723 secs --- remaining: 22:47)"
       ]
      },
      {
       "output_type": "stream",
       "stream": "stdout",
       "text": [
        "\r",
        "Done image 375 of 2000 (avg time: 0.840740371892 secs --- remaining: 22:45)"
       ]
      },
      {
       "output_type": "stream",
       "stream": "stdout",
       "text": [
        "\r",
        "Done image 376 of 2000 (avg time: 0.839547033968 secs --- remaining: 22:42)"
       ]
      },
      {
       "output_type": "stream",
       "stream": "stdout",
       "text": [
        "\r",
        "Done image 377 of 2000 (avg time: 0.83882898313 secs --- remaining: 22:40)"
       ]
      },
      {
       "output_type": "stream",
       "stream": "stdout",
       "text": [
        "\r",
        "Done image 378 of 2000 (avg time: 0.837378171 secs --- remaining: 22:37)"
       ]
      },
      {
       "output_type": "stream",
       "stream": "stdout",
       "text": [
        "\r",
        "Done image 379 of 2000 (avg time: 0.83589332292 secs --- remaining: 22:34)"
       ]
      },
      {
       "output_type": "stream",
       "stream": "stdout",
       "text": [
        "\r",
        "Done image 380 of 2000 (avg time: 0.834833586936 secs --- remaining: 22:31)"
       ]
      },
      {
       "output_type": "stream",
       "stream": "stdout",
       "text": [
        "\r",
        "Done image 381 of 2000 (avg time: 0.833746331524 secs --- remaining: 22:29)"
       ]
      },
      {
       "output_type": "stream",
       "stream": "stdout",
       "text": [
        "\r",
        "Done image 382 of 2000 (avg time: 0.833778508338 secs --- remaining: 22:28)"
       ]
      },
      {
       "output_type": "stream",
       "stream": "stdout",
       "text": [
        "\r",
        "Done image 383 of 2000 (avg time: 0.832746730496 secs --- remaining: 22:25)"
       ]
      },
      {
       "output_type": "stream",
       "stream": "stdout",
       "text": [
        "\r",
        "Done image 384 of 2000 (avg time: 0.832358944261 secs --- remaining: 22:24)"
       ]
      },
      {
       "output_type": "stream",
       "stream": "stdout",
       "text": [
        "\r",
        "Done image 385 of 2000 (avg time: 0.832241343093 secs --- remaining: 22:23)"
       ]
      },
      {
       "output_type": "stream",
       "stream": "stdout",
       "text": [
        "\r",
        "Done image 386 of 2000 (avg time: 0.831658207477 secs --- remaining: 22:21)"
       ]
      },
      {
       "output_type": "stream",
       "stream": "stdout",
       "text": [
        "\r",
        "Done image 387 of 2000 (avg time: 0.831043423451 secs --- remaining: 22:19)"
       ]
      },
      {
       "output_type": "stream",
       "stream": "stdout",
       "text": [
        "\r",
        "Done image 388 of 2000 (avg time: 0.829858201328 secs --- remaining: 22:16)"
       ]
      },
      {
       "output_type": "stream",
       "stream": "stdout",
       "text": [
        "\r",
        "Done image 389 of 2000 (avg time: 0.828695418896 secs --- remaining: 22:14)"
       ]
      },
      {
       "output_type": "stream",
       "stream": "stdout",
       "text": [
        "\r",
        "Done image 390 of 2000 (avg time: 0.828103985628 secs --- remaining: 22:12)"
       ]
      },
      {
       "output_type": "stream",
       "stream": "stdout",
       "text": [
        "\r",
        "Done image 391 of 2000 (avg time: 0.827154271457 secs --- remaining: 22:10)"
       ]
      },
      {
       "output_type": "stream",
       "stream": "stdout",
       "text": [
        "\r",
        "Done image 392 of 2000 (avg time: 0.826629059309 secs --- remaining: 22:8)"
       ]
      },
      {
       "output_type": "stream",
       "stream": "stdout",
       "text": [
        "\r",
        "Done image 393 of 2000 (avg time: 0.82588145273 secs --- remaining: 22:6)"
       ]
      },
      {
       "output_type": "stream",
       "stream": "stdout",
       "text": [
        "\r",
        "Done image 394 of 2000 (avg time: 0.82487558051 secs --- remaining: 22:3)"
       ]
      },
      {
       "output_type": "stream",
       "stream": "stdout",
       "text": [
        "\r",
        "Done image 395 of 2000 (avg time: 0.824021005871 secs --- remaining: 22:1)"
       ]
      },
      {
       "output_type": "stream",
       "stream": "stdout",
       "text": [
        "\r",
        "Done image 396 of 2000 (avg time: 0.822454343214 secs --- remaining: 21:58)"
       ]
      },
      {
       "output_type": "stream",
       "stream": "stdout",
       "text": [
        "\r",
        "Done image 397 of 2000 (avg time: 0.821168080646 secs --- remaining: 21:55)"
       ]
      },
      {
       "output_type": "stream",
       "stream": "stdout",
       "text": [
        "\r",
        "Done image 398 of 2000 (avg time: 0.820107935067 secs --- remaining: 21:52)"
       ]
      },
      {
       "output_type": "stream",
       "stream": "stdout",
       "text": [
        "\r",
        "Done image 399 of 2000 (avg time: 0.819432815313 secs --- remaining: 21:51)"
       ]
      },
      {
       "output_type": "stream",
       "stream": "stdout",
       "text": [
        "\r",
        "Done image 400 of 2000 (avg time: 0.81904463875 secs --- remaining: 21:49)"
       ]
      },
      {
       "output_type": "stream",
       "stream": "stdout",
       "text": [
        "\r",
        "Done image 401 of 2000 (avg time: 0.818324664932 secs --- remaining: 21:47)"
       ]
      },
      {
       "output_type": "stream",
       "stream": "stdout",
       "text": [
        "\r",
        "Done image 402 of 2000 (avg time: 0.817506102711 secs --- remaining: 21:45)"
       ]
      },
      {
       "output_type": "stream",
       "stream": "stdout",
       "text": [
        "\r",
        "Done image 403 of 2000 (avg time: 0.817032171948 secs --- remaining: 21:43)"
       ]
      },
      {
       "output_type": "stream",
       "stream": "stdout",
       "text": [
        "\r",
        "Done image 404 of 2000 (avg time: 0.816363373509 secs --- remaining: 21:42)"
       ]
      },
      {
       "output_type": "stream",
       "stream": "stdout",
       "text": [
        "\r",
        "Done image 405 of 2000 (avg time: 0.8156350992 secs --- remaining: 21:40)"
       ]
      },
      {
       "output_type": "stream",
       "stream": "stdout",
       "text": [
        "\r",
        "Done image 406 of 2000 (avg time: 0.814765494344 secs --- remaining: 21:37)"
       ]
      },
      {
       "output_type": "stream",
       "stream": "stdout",
       "text": [
        "\r",
        "Done image 407 of 2000 (avg time: 0.814011828572 secs --- remaining: 21:35)"
       ]
      },
      {
       "output_type": "stream",
       "stream": "stdout",
       "text": [
        "\r",
        "Done image 408 of 2000 (avg time: 0.81334072162 secs --- remaining: 21:34)"
       ]
      },
      {
       "output_type": "stream",
       "stream": "stdout",
       "text": [
        "\r",
        "Done image 409 of 2000 (avg time: 0.812435449042 secs --- remaining: 21:31)"
       ]
      },
      {
       "output_type": "stream",
       "stream": "stdout",
       "text": [
        "\r",
        "Done image 410 of 2000 (avg time: 0.811805720457 secs --- remaining: 21:29)"
       ]
      },
      {
       "output_type": "stream",
       "stream": "stdout",
       "text": [
        "\r",
        "Done image 411 of 2000 (avg time: 0.811109585091 secs --- remaining: 21:28)"
       ]
      },
      {
       "output_type": "stream",
       "stream": "stdout",
       "text": [
        "\r",
        "Done image 412 of 2000 (avg time: 0.810377915315 secs --- remaining: 21:26)"
       ]
      },
      {
       "output_type": "stream",
       "stream": "stdout",
       "text": [
        "\r",
        "Done image 413 of 2000 (avg time: 0.809713413174 secs --- remaining: 21:24)"
       ]
      },
      {
       "output_type": "stream",
       "stream": "stdout",
       "text": [
        "\r",
        "Done image 414 of 2000 (avg time: 0.809105624348 secs --- remaining: 21:22)"
       ]
      },
      {
       "output_type": "stream",
       "stream": "stdout",
       "text": [
        "\r",
        "Done image 415 of 2000 (avg time: 0.807950384915 secs --- remaining: 21:19)"
       ]
      },
      {
       "output_type": "stream",
       "stream": "stdout",
       "text": [
        "\r",
        "Done image 416 of 2000 (avg time: 0.808404002544 secs --- remaining: 21:19)"
       ]
      },
      {
       "output_type": "stream",
       "stream": "stdout",
       "text": [
        "\r",
        "Done image 417 of 2000 (avg time: 0.807697071983 secs --- remaining: 21:17)"
       ]
      },
      {
       "output_type": "stream",
       "stream": "stdout",
       "text": [
        "\r",
        "Done image 418 of 2000 (avg time: 0.80721850839 secs --- remaining: 21:16)"
       ]
      },
      {
       "output_type": "stream",
       "stream": "stdout",
       "text": [
        "\r",
        "Done image 419 of 2000 (avg time: 0.806912538551 secs --- remaining: 21:14)"
       ]
      },
      {
       "output_type": "stream",
       "stream": "stdout",
       "text": [
        "\r",
        "Done image 420 of 2000 (avg time: 0.806430451944 secs --- remaining: 21:13)"
       ]
      },
      {
       "output_type": "stream",
       "stream": "stdout",
       "text": [
        "\r",
        "Done image 421 of 2000 (avg time: 0.805739157008 secs --- remaining: 21:11)"
       ]
      },
      {
       "output_type": "stream",
       "stream": "stdout",
       "text": [
        " computing poisson /media/ilisescu/Data1/PhD/data/drumming2/frame-00095.png\r",
        "Done image 422 of 2000 (avg time: 0.809212787777 secs --- remaining: 21:16)"
       ]
      },
      {
       "output_type": "stream",
       "stream": "stdout",
       "text": [
        " computing poisson /media/ilisescu/Data1/PhD/data/drumming2/frame-00096.png\r",
        "Done image 423 of 2000 (avg time: 0.812659554886 secs --- remaining: 21:20)"
       ]
      },
      {
       "output_type": "stream",
       "stream": "stdout",
       "text": [
        " computing poisson /media/ilisescu/Data1/PhD/data/drumming2/frame-00097.png\r",
        "Done image 424 of 2000 (avg time: 0.815236201006 secs --- remaining: 21:23)"
       ]
      },
      {
       "output_type": "stream",
       "stream": "stdout",
       "text": [
        "\r",
        "Done image 425 of 2000 (avg time: 0.813856294457 secs --- remaining: 21:21)"
       ]
      },
      {
       "output_type": "stream",
       "stream": "stdout",
       "text": [
        "\r",
        "Done image 426 of 2000 (avg time: 0.813395282424 secs --- remaining: 21:19)"
       ]
      },
      {
       "output_type": "stream",
       "stream": "stdout",
       "text": [
        "\r",
        "Done image 427 of 2000 (avg time: 0.812958099575 secs --- remaining: 21:17)"
       ]
      },
      {
       "output_type": "stream",
       "stream": "stdout",
       "text": [
        "\r",
        "Done image 428 of 2000 (avg time: 0.812247398016 secs --- remaining: 21:16)"
       ]
      },
      {
       "output_type": "stream",
       "stream": "stdout",
       "text": [
        "\r",
        "Done image 429 of 2000 (avg time: 0.811918106744 secs --- remaining: 21:14)"
       ]
      },
      {
       "output_type": "stream",
       "stream": "stdout",
       "text": [
        "\r",
        "Done image 430 of 2000 (avg time: 0.811043498688 secs --- remaining: 21:12)"
       ]
      },
      {
       "output_type": "stream",
       "stream": "stdout",
       "text": [
        "\r",
        "Done image 431 of 2000 (avg time: 0.81039471538 secs --- remaining: 21:10)"
       ]
      },
      {
       "output_type": "stream",
       "stream": "stdout",
       "text": [
        "\r",
        "Done image 432 of 2000 (avg time: 0.809855843251 secs --- remaining: 21:9)"
       ]
      },
      {
       "output_type": "stream",
       "stream": "stdout",
       "text": [
        "\r",
        "Done image 433 of 2000 (avg time: 0.808842795236 secs --- remaining: 21:6)"
       ]
      },
      {
       "output_type": "stream",
       "stream": "stdout",
       "text": [
        "\r",
        "Done image 434 of 2000 (avg time: 0.807799894508 secs --- remaining: 21:4)"
       ]
      },
      {
       "output_type": "stream",
       "stream": "stdout",
       "text": [
        "\r",
        "Done image 435 of 2000 (avg time: 0.807073138176 secs --- remaining: 21:2)"
       ]
      },
      {
       "output_type": "stream",
       "stream": "stdout",
       "text": [
        "\r",
        "Done image 436 of 2000 (avg time: 0.806276575106 secs --- remaining: 21:0)"
       ]
      },
      {
       "output_type": "stream",
       "stream": "stdout",
       "text": [
        "\r",
        "Done image 437 of 2000 (avg time: 0.805607825109 secs --- remaining: 20:58)"
       ]
      },
      {
       "output_type": "stream",
       "stream": "stdout",
       "text": [
        "\r",
        "Done image 438 of 2000 (avg time: 0.805485037302 secs --- remaining: 20:57)"
       ]
      },
      {
       "output_type": "stream",
       "stream": "stdout",
       "text": [
        "\r",
        "Done image 439 of 2000 (avg time: 0.805418203094 secs --- remaining: 20:56)"
       ]
      },
      {
       "output_type": "stream",
       "stream": "stdout",
       "text": [
        "\r",
        "Done image 440 of 2000 (avg time: 0.805600926449 secs --- remaining: 20:55)"
       ]
      },
      {
       "output_type": "stream",
       "stream": "stdout",
       "text": [
        "\r",
        "Done image 441 of 2000 (avg time: 0.805097784392 secs --- remaining: 20:54)"
       ]
      },
      {
       "output_type": "stream",
       "stream": "stdout",
       "text": [
        "\r",
        "Done image 442 of 2000 (avg time: 0.804949112455 secs --- remaining: 20:53)"
       ]
      },
      {
       "output_type": "stream",
       "stream": "stdout",
       "text": [
        "\r",
        "Done image 443 of 2000 (avg time: 0.804357510966 secs --- remaining: 20:51)"
       ]
      },
      {
       "output_type": "stream",
       "stream": "stdout",
       "text": [
        "\r",
        "Done image 444 of 2000 (avg time: 0.804330698828 secs --- remaining: 20:50)"
       ]
      },
      {
       "output_type": "stream",
       "stream": "stdout",
       "text": [
        "\r",
        "Done image 445 of 2000 (avg time: 0.803755457626 secs --- remaining: 20:49)"
       ]
      },
      {
       "output_type": "stream",
       "stream": "stdout",
       "text": [
        "\r",
        "Done image 446 of 2000 (avg time: 0.80302024421 secs --- remaining: 20:47)"
       ]
      },
      {
       "output_type": "stream",
       "stream": "stdout",
       "text": [
        "\r",
        "Done image 447 of 2000 (avg time: 0.802430808544 secs --- remaining: 20:45)"
       ]
      },
      {
       "output_type": "stream",
       "stream": "stdout",
       "text": [
        "\r",
        "Done image 448 of 2000 (avg time: 0.801622717842 secs --- remaining: 20:43)"
       ]
      },
      {
       "output_type": "stream",
       "stream": "stdout",
       "text": [
        "\r",
        "Done image 449 of 2000 (avg time: 0.801277669271 secs --- remaining: 20:41)"
       ]
      },
      {
       "output_type": "stream",
       "stream": "stdout",
       "text": [
        "\r",
        "Done image 450 of 2000 (avg time: 0.800506654706 secs --- remaining: 20:39)"
       ]
      },
      {
       "output_type": "stream",
       "stream": "stdout",
       "text": [
        "\r",
        "Done image 451 of 2000 (avg time: 0.799832631001 secs --- remaining: 20:38)"
       ]
      },
      {
       "output_type": "stream",
       "stream": "stdout",
       "text": [
        "\r",
        "Done image 452 of 2000 (avg time: 0.799435342911 secs --- remaining: 20:36)"
       ]
      },
      {
       "output_type": "stream",
       "stream": "stdout",
       "text": [
        "\r",
        "Done image 453 of 2000 (avg time: 0.798681615208 secs --- remaining: 20:34)"
       ]
      },
      {
       "output_type": "stream",
       "stream": "stdout",
       "text": [
        "\r",
        "Done image 454 of 2000 (avg time: 0.797624763028 secs --- remaining: 20:32)"
       ]
      },
      {
       "output_type": "stream",
       "stream": "stdout",
       "text": [
        "\r",
        "Done image 455 of 2000 (avg time: 0.796472575058 secs --- remaining: 20:29)"
       ]
      },
      {
       "output_type": "stream",
       "stream": "stdout",
       "text": [
        "\r",
        "Done image 456 of 2000 (avg time: 0.795533808368 secs --- remaining: 20:27)"
       ]
      },
      {
       "output_type": "stream",
       "stream": "stdout",
       "text": [
        "\r",
        "Done image 457 of 2000 (avg time: 0.795220741018 secs --- remaining: 20:26)"
       ]
      },
      {
       "output_type": "stream",
       "stream": "stdout",
       "text": [
        "\r",
        "Done image 458 of 2000 (avg time: 0.794713044219 secs --- remaining: 20:24)"
       ]
      },
      {
       "output_type": "stream",
       "stream": "stdout",
       "text": [
        "\r",
        "Done image 459 of 2000 (avg time: 0.79355339382 secs --- remaining: 20:22)"
       ]
      },
      {
       "output_type": "stream",
       "stream": "stdout",
       "text": [
        "\r",
        "Done image 460 of 2000 (avg time: 0.792942887532 secs --- remaining: 20:20)"
       ]
      },
      {
       "output_type": "stream",
       "stream": "stdout",
       "text": [
        "\r",
        "Done image 461 of 2000 (avg time: 0.792495452996 secs --- remaining: 20:18)"
       ]
      },
      {
       "output_type": "stream",
       "stream": "stdout",
       "text": [
        "\r",
        "Done image 462 of 2000 (avg time: 0.79172999658 secs --- remaining: 20:16)"
       ]
      },
      {
       "output_type": "stream",
       "stream": "stdout",
       "text": [
        "\r",
        "Done image 463 of 2000 (avg time: 0.791393453191 secs --- remaining: 20:15)"
       ]
      },
      {
       "output_type": "stream",
       "stream": "stdout",
       "text": [
        "\r",
        "Done image 464 of 2000 (avg time: 0.790275630643 secs --- remaining: 20:13)"
       ]
      },
      {
       "output_type": "stream",
       "stream": "stdout",
       "text": [
        "\r",
        "Done image 465 of 2000 (avg time: 0.789861627403 secs --- remaining: 20:11)"
       ]
      },
      {
       "output_type": "stream",
       "stream": "stdout",
       "text": [
        "\r",
        "Done image 466 of 2000 (avg time: 0.78883630918 secs --- remaining: 20:9)"
       ]
      },
      {
       "output_type": "stream",
       "stream": "stdout",
       "text": [
        "\r",
        "Done image 467 of 2000 (avg time: 0.787935784739 secs --- remaining: 20:7)"
       ]
      },
      {
       "output_type": "stream",
       "stream": "stdout",
       "text": [
        "\r",
        "Done image 468 of 2000 (avg time: 0.787026740849 secs --- remaining: 20:4)"
       ]
      },
      {
       "output_type": "stream",
       "stream": "stdout",
       "text": [
        "\r",
        "Done image 469 of 2000 (avg time: 0.786290424428 secs --- remaining: 20:3)"
       ]
      },
      {
       "output_type": "stream",
       "stream": "stdout",
       "text": [
        "\r",
        "Done image 470 of 2000 (avg time: 0.785278393711 secs --- remaining: 20:0)"
       ]
      },
      {
       "output_type": "stream",
       "stream": "stdout",
       "text": [
        "\r",
        "Done image 471 of 2000 (avg time: 0.784078240395 secs --- remaining: 19:58)"
       ]
      },
      {
       "output_type": "stream",
       "stream": "stdout",
       "text": [
        "\r",
        "Done image 472 of 2000 (avg time: 0.78291812558 secs --- remaining: 19:55)"
       ]
      },
      {
       "output_type": "stream",
       "stream": "stdout",
       "text": [
        "\r",
        "Done image 473 of 2000 (avg time: 0.781685226577 secs --- remaining: 19:52)"
       ]
      },
      {
       "output_type": "stream",
       "stream": "stdout",
       "text": [
        "\r",
        "Done image 474 of 2000 (avg time: 0.780377739856 secs --- remaining: 19:50)"
       ]
      },
      {
       "output_type": "stream",
       "stream": "stdout",
       "text": [
        "\r",
        "Done image 475 of 2000 (avg time: 0.779061853886 secs --- remaining: 19:47)"
       ]
      },
      {
       "output_type": "stream",
       "stream": "stdout",
       "text": [
        "\r",
        "Done image 476 of 2000 (avg time: 0.777817697145 secs --- remaining: 19:44)"
       ]
      },
      {
       "output_type": "stream",
       "stream": "stdout",
       "text": [
        "\r",
        "Done image 477 of 2000 (avg time: 0.776504475701 secs --- remaining: 19:41)"
       ]
      },
      {
       "output_type": "stream",
       "stream": "stdout",
       "text": [
        "\r",
        "Done image 478 of 2000 (avg time: 0.77529829081 secs --- remaining: 19:39)"
       ]
      },
      {
       "output_type": "stream",
       "stream": "stdout",
       "text": [
        "\r",
        "Done image 479 of 2000 (avg time: 0.77408370475 secs --- remaining: 19:36)"
       ]
      },
      {
       "output_type": "stream",
       "stream": "stdout",
       "text": [
        "\r",
        "Done image 480 of 2000 (avg time: 0.772818609484 secs --- remaining: 19:33)"
       ]
      },
      {
       "output_type": "stream",
       "stream": "stdout",
       "text": [
        "\r",
        "Done image 481 of 2000 (avg time: 0.771696315267 secs --- remaining: 19:31)"
       ]
      },
      {
       "output_type": "stream",
       "stream": "stdout",
       "text": [
        "\r",
        "Done image 482 of 2000 (avg time: 0.770429254812 secs --- remaining: 19:28)"
       ]
      },
      {
       "output_type": "stream",
       "stream": "stdout",
       "text": [
        "\r",
        "Done image 483 of 2000 (avg time: 0.769321562337 secs --- remaining: 19:26)"
       ]
      },
      {
       "output_type": "stream",
       "stream": "stdout",
       "text": [
        "\r",
        "Done image 484 of 2000 (avg time: 0.768033282781 secs --- remaining: 19:23)"
       ]
      },
      {
       "output_type": "stream",
       "stream": "stdout",
       "text": [
        "\r",
        "Done image 485 of 2000 (avg time: 0.76679030073 secs --- remaining: 19:20)"
       ]
      },
      {
       "output_type": "stream",
       "stream": "stdout",
       "text": [
        "\r",
        "Done image 486 of 2000 (avg time: 0.765499148281 secs --- remaining: 19:18)"
       ]
      },
      {
       "output_type": "stream",
       "stream": "stdout",
       "text": [
        "\r",
        "Done image 487 of 2000 (avg time: 0.764262536999 secs --- remaining: 19:15)"
       ]
      },
      {
       "output_type": "stream",
       "stream": "stdout",
       "text": [
        "\r",
        "Done image 488 of 2000 (avg time: 0.763010080119 secs --- remaining: 19:12)"
       ]
      },
      {
       "output_type": "stream",
       "stream": "stdout",
       "text": [
        "\r",
        "Done image 489 of 2000 (avg time: 0.761794947118 secs --- remaining: 19:10)"
       ]
      },
      {
       "output_type": "stream",
       "stream": "stdout",
       "text": [
        "\r",
        "Done image 490 of 2000 (avg time: 0.760540354276 secs --- remaining: 19:7)"
       ]
      },
      {
       "output_type": "stream",
       "stream": "stdout",
       "text": [
        "\r",
        "Done image 491 of 2000 (avg time: 0.759522440957 secs --- remaining: 19:5)"
       ]
      },
      {
       "output_type": "stream",
       "stream": "stdout",
       "text": [
        "\r",
        "Done image 492 of 2000 (avg time: 0.758285237132 secs --- remaining: 19:2)"
       ]
      },
      {
       "output_type": "stream",
       "stream": "stdout",
       "text": [
        "\r",
        "Done image 493 of 2000 (avg time: 0.757154457482 secs --- remaining: 19:0)"
       ]
      },
      {
       "output_type": "stream",
       "stream": "stdout",
       "text": [
        "\r",
        "Done image 494 of 2000 (avg time: 0.755978743717 secs --- remaining: 18:57)"
       ]
      },
      {
       "output_type": "stream",
       "stream": "stdout",
       "text": [
        "\r",
        "Done image 495 of 2000 (avg time: 0.754777476192 secs --- remaining: 18:55)"
       ]
      },
      {
       "output_type": "stream",
       "stream": "stdout",
       "text": [
        "\r",
        "Done image 496 of 2000 (avg time: 0.753557933888 secs --- remaining: 18:52)"
       ]
      },
      {
       "output_type": "stream",
       "stream": "stdout",
       "text": [
        "\r",
        "Done image 497 of 2000 (avg time: 0.752328140669 secs --- remaining: 18:49)"
       ]
      },
      {
       "output_type": "stream",
       "stream": "stdout",
       "text": [
        "\r",
        "Done image 498 of 2000 (avg time: 0.751457819719 secs --- remaining: 18:47)"
       ]
      },
      {
       "output_type": "stream",
       "stream": "stdout",
       "text": [
        "\r",
        "Done image 499 of 2000 (avg time: 0.750374303818 secs --- remaining: 18:45)"
       ]
      },
      {
       "output_type": "stream",
       "stream": "stdout",
       "text": [
        "\r",
        "Done image 500 of 2000 (avg time: 0.749249856153 secs --- remaining: 18:43)"
       ]
      },
      {
       "output_type": "stream",
       "stream": "stdout",
       "text": [
        "\r",
        "Done image 501 of 2000 (avg time: 0.748249426306 secs --- remaining: 18:40)"
       ]
      },
      {
       "output_type": "stream",
       "stream": "stdout",
       "text": [
        "\r",
        "Done image 502 of 2000 (avg time: 0.747131503126 secs --- remaining: 18:38)"
       ]
      },
      {
       "output_type": "stream",
       "stream": "stdout",
       "text": [
        "\r",
        "Done image 503 of 2000 (avg time: 0.745988742227 secs --- remaining: 18:35)"
       ]
      },
      {
       "output_type": "stream",
       "stream": "stdout",
       "text": [
        "\r",
        "Done image 504 of 2000 (avg time: 0.744921088927 secs --- remaining: 18:33)"
       ]
      },
      {
       "output_type": "stream",
       "stream": "stdout",
       "text": [
        "\r",
        "Done image 505 of 2000 (avg time: 0.743763748836 secs --- remaining: 18:31)"
       ]
      },
      {
       "output_type": "stream",
       "stream": "stdout",
       "text": [
        "\r",
        "Done image 506 of 2000 (avg time: 0.742595068802 secs --- remaining: 18:28)"
       ]
      },
      {
       "output_type": "stream",
       "stream": "stdout",
       "text": [
        "\r",
        "Done image 507 of 2000 (avg time: 0.7414360037 secs --- remaining: 18:26)"
       ]
      },
      {
       "output_type": "stream",
       "stream": "stdout",
       "text": [
        "\r",
        "Done image 508 of 2000 (avg time: 0.74029966375 secs --- remaining: 18:23)"
       ]
      },
      {
       "output_type": "stream",
       "stream": "stdout",
       "text": [
        "\r",
        "Done image 509 of 2000 (avg time: 0.739416015382 secs --- remaining: 18:21)"
       ]
      },
      {
       "output_type": "stream",
       "stream": "stdout",
       "text": [
        "\r",
        "Done image 510 of 2000 (avg time: 0.738294332228 secs --- remaining: 18:19)"
       ]
      },
      {
       "output_type": "stream",
       "stream": "stdout",
       "text": [
        "\r",
        "Done image 511 of 2000 (avg time: 0.737166280858 secs --- remaining: 18:16)"
       ]
      },
      {
       "output_type": "stream",
       "stream": "stdout",
       "text": [
        "\r",
        "Done image 512 of 2000 (avg time: 0.73600600198 secs --- remaining: 18:14)"
       ]
      },
      {
       "output_type": "stream",
       "stream": "stdout",
       "text": [
        "\r",
        "Done image 513 of 2000 (avg time: 0.734902938052 secs --- remaining: 18:12)"
       ]
      },
      {
       "output_type": "stream",
       "stream": "stdout",
       "text": [
        "\r",
        "Done image 514 of 2000 (avg time: 0.733784085802 secs --- remaining: 18:9)"
       ]
      },
      {
       "output_type": "stream",
       "stream": "stdout",
       "text": [
        "\r",
        "Done image 515 of 2000 (avg time: 0.732663130575 secs --- remaining: 18:7)"
       ]
      },
      {
       "output_type": "stream",
       "stream": "stdout",
       "text": [
        "\r",
        "Done image 516 of 2000 (avg time: 0.731543023997 secs --- remaining: 18:4)"
       ]
      },
      {
       "output_type": "stream",
       "stream": "stdout",
       "text": [
        "\r",
        "Done image 517 of 2000 (avg time: 0.730420188094 secs --- remaining: 18:2)"
       ]
      },
      {
       "output_type": "stream",
       "stream": "stdout",
       "text": [
        "\r",
        "Done image 518 of 2000 (avg time: 0.729384396118 secs --- remaining: 18:0)"
       ]
      },
      {
       "output_type": "stream",
       "stream": "stdout",
       "text": [
        "\r",
        "Done image 519 of 2000 (avg time: 0.728278339368 secs --- remaining: 17:57)"
       ]
      },
      {
       "output_type": "stream",
       "stream": "stdout",
       "text": [
        "\r",
        "Done image 520 of 2000 (avg time: 0.727226726382 secs --- remaining: 17:55)"
       ]
      },
      {
       "output_type": "stream",
       "stream": "stdout",
       "text": [
        "\r",
        "Done image 521 of 2000 (avg time: 0.726183392079 secs --- remaining: 17:53)"
       ]
      },
      {
       "output_type": "stream",
       "stream": "stdout",
       "text": [
        "\r",
        "Done image 522 of 2000 (avg time: 0.725192875069 secs --- remaining: 17:51)"
       ]
      },
      {
       "output_type": "stream",
       "stream": "stdout",
       "text": [
        "\r",
        "Done image 523 of 2000 (avg time: 0.724104858082 secs --- remaining: 17:48)"
       ]
      },
      {
       "output_type": "stream",
       "stream": "stdout",
       "text": [
        "\r",
        "Done image 524 of 2000 (avg time: 0.723013077236 secs --- remaining: 17:46)"
       ]
      },
      {
       "output_type": "stream",
       "stream": "stdout",
       "text": [
        "\r",
        "Done image 525 of 2000 (avg time: 0.721925641647 secs --- remaining: 17:44)"
       ]
      },
      {
       "output_type": "stream",
       "stream": "stdout",
       "text": [
        "\r",
        "Done image 526 of 2000 (avg time: 0.720882319409 secs --- remaining: 17:41)"
       ]
      },
      {
       "output_type": "stream",
       "stream": "stdout",
       "text": [
        "\r",
        "Done image 527 of 2000 (avg time: 0.719801326593 secs --- remaining: 17:39)"
       ]
      },
      {
       "output_type": "stream",
       "stream": "stdout",
       "text": [
        "\r",
        "Done image 528 of 2000 (avg time: 0.718711229714 secs --- remaining: 17:37)"
       ]
      },
      {
       "output_type": "stream",
       "stream": "stdout",
       "text": [
        "\r",
        "Done image 529 of 2000 (avg time: 0.717613932772 secs --- remaining: 17:34)"
       ]
      },
      {
       "output_type": "stream",
       "stream": "stdout",
       "text": [
        "\r",
        "Done image 530 of 2000 (avg time: 0.716538272111 secs --- remaining: 17:32)"
       ]
      },
      {
       "output_type": "stream",
       "stream": "stdout",
       "text": [
        "\r",
        "Done image 531 of 2000 (avg time: 0.715485075811 secs --- remaining: 17:30)"
       ]
      },
      {
       "output_type": "stream",
       "stream": "stdout",
       "text": [
        "\r",
        "Done image 532 of 2000 (avg time: 0.714411718984 secs --- remaining: 17:28)"
       ]
      },
      {
       "output_type": "stream",
       "stream": "stdout",
       "text": [
        "\r",
        "Done image 533 of 2000 (avg time: 0.713373955269 secs --- remaining: 17:25)"
       ]
      },
      {
       "output_type": "stream",
       "stream": "stdout",
       "text": [
        "\r",
        "Done image 534 of 2000 (avg time: 0.712359112445 secs --- remaining: 17:23)"
       ]
      },
      {
       "output_type": "stream",
       "stream": "stdout",
       "text": [
        "\r",
        "Done image 535 of 2000 (avg time: 0.711313366 secs --- remaining: 17:21)"
       ]
      },
      {
       "output_type": "stream",
       "stream": "stdout",
       "text": [
        "\r",
        "Done image 536 of 2000 (avg time: 0.710281782754 secs --- remaining: 17:19)"
       ]
      },
      {
       "output_type": "stream",
       "stream": "stdout",
       "text": [
        "\r",
        "Done image 537 of 2000 (avg time: 0.709369725454 secs --- remaining: 17:17)"
       ]
      },
      {
       "output_type": "stream",
       "stream": "stdout",
       "text": [
        "\r",
        "Done image 538 of 2000 (avg time: 0.708427523859 secs --- remaining: 17:15)"
       ]
      },
      {
       "output_type": "stream",
       "stream": "stdout",
       "text": [
        "\r",
        "Done image 539 of 2000 (avg time: 0.707483809966 secs --- remaining: 17:12)"
       ]
      },
      {
       "output_type": "stream",
       "stream": "stdout",
       "text": [
        "\r",
        "Done image 540 of 2000 (avg time: 0.706513009979 secs --- remaining: 17:10)"
       ]
      },
      {
       "output_type": "stream",
       "stream": "stdout",
       "text": [
        "\r",
        "Done image 541 of 2000 (avg time: 0.705461528468 secs --- remaining: 17:8)"
       ]
      },
      {
       "output_type": "stream",
       "stream": "stdout",
       "text": [
        "\r",
        "Done image 542 of 2000 (avg time: 0.704399335889 secs --- remaining: 17:6)"
       ]
      },
      {
       "output_type": "stream",
       "stream": "stdout",
       "text": [
        "\r",
        "Done image 543 of 2000 (avg time: 0.703393087229 secs --- remaining: 17:4)"
       ]
      },
      {
       "output_type": "stream",
       "stream": "stdout",
       "text": [
        "\r",
        "Done image 544 of 2000 (avg time: 0.702402885245 secs --- remaining: 17:1)"
       ]
      },
      {
       "output_type": "stream",
       "stream": "stdout",
       "text": [
        "\r",
        "Done image 545 of 2000 (avg time: 0.701540002893 secs --- remaining: 17:0)"
       ]
      },
      {
       "output_type": "stream",
       "stream": "stdout",
       "text": [
        "\r",
        "Done image 546 of 2000 (avg time: 0.70054950008 secs --- remaining: 16:57)"
       ]
      },
      {
       "output_type": "stream",
       "stream": "stdout",
       "text": [
        "\r",
        "Done image 547 of 2000 (avg time: 0.699702044908 secs --- remaining: 16:55)"
       ]
      },
      {
       "output_type": "stream",
       "stream": "stdout",
       "text": [
        "\r",
        "Done image 548 of 2000 (avg time: 0.698756811614 secs --- remaining: 16:53)"
       ]
      },
      {
       "output_type": "stream",
       "stream": "stdout",
       "text": [
        "\r",
        "Done image 549 of 2000 (avg time: 0.697783820846 secs --- remaining: 16:51)"
       ]
      },
      {
       "output_type": "stream",
       "stream": "stdout",
       "text": [
        "\r",
        "Done image 550 of 2000 (avg time: 0.696943674243 secs --- remaining: 16:49)"
       ]
      },
      {
       "output_type": "stream",
       "stream": "stdout",
       "text": [
        "\r",
        "Done image 551 of 2000 (avg time: 0.696008609689 secs --- remaining: 16:47)"
       ]
      },
      {
       "output_type": "stream",
       "stream": "stdout",
       "text": [
        "\r",
        "Done image 552 of 2000 (avg time: 0.695068221411 secs --- remaining: 16:45)"
       ]
      },
      {
       "output_type": "stream",
       "stream": "stdout",
       "text": [
        "\r",
        "Done image 553 of 2000 (avg time: 0.69422112174 secs --- remaining: 16:43)"
       ]
      },
      {
       "output_type": "stream",
       "stream": "stdout",
       "text": [
        "\r",
        "Done image 554 of 2000 (avg time: 0.693238024239 secs --- remaining: 16:41)"
       ]
      },
      {
       "output_type": "stream",
       "stream": "stdout",
       "text": [
        "\r",
        "Done image 555 of 2000 (avg time: 0.692341324237 secs --- remaining: 16:39)"
       ]
      },
      {
       "output_type": "stream",
       "stream": "stdout",
       "text": [
        "\r",
        "Done image 556 of 2000 (avg time: 0.691613955386 secs --- remaining: 16:37)"
       ]
      },
      {
       "output_type": "stream",
       "stream": "stdout",
       "text": [
        "\r",
        "Done image 557 of 2000 (avg time: 0.690703851348 secs --- remaining: 16:35)"
       ]
      },
      {
       "output_type": "stream",
       "stream": "stdout",
       "text": [
        "\r",
        "Done image 558 of 2000 (avg time: 0.689920207469 secs --- remaining: 16:34)"
       ]
      },
      {
       "output_type": "stream",
       "stream": "stdout",
       "text": [
        "\r",
        "Done image 559 of 2000 (avg time: 0.689012049777 secs --- remaining: 16:32)"
       ]
      },
      {
       "output_type": "stream",
       "stream": "stdout",
       "text": [
        "\r",
        "Done image 560 of 2000 (avg time: 0.688187386688 secs --- remaining: 16:30)"
       ]
      },
      {
       "output_type": "stream",
       "stream": "stdout",
       "text": [
        "\r",
        "Done image 561 of 2000 (avg time: 0.687334937557 secs --- remaining: 16:28)"
       ]
      },
      {
       "output_type": "stream",
       "stream": "stdout",
       "text": [
        "\r",
        "Done image 562 of 2000 (avg time: 0.686366488201 secs --- remaining: 16:26)"
       ]
      },
      {
       "output_type": "stream",
       "stream": "stdout",
       "text": [
        "\r",
        "Done image 563 of 2000 (avg time: 0.685505547845 secs --- remaining: 16:24)"
       ]
      },
      {
       "output_type": "stream",
       "stream": "stdout",
       "text": [
        "\r",
        "Done image 564 of 2000 (avg time: 0.68457015046 secs --- remaining: 16:22)"
       ]
      },
      {
       "output_type": "stream",
       "stream": "stdout",
       "text": [
        "\r",
        "Done image 565 of 2000 (avg time: 0.683626113005 secs --- remaining: 16:20)"
       ]
      },
      {
       "output_type": "stream",
       "stream": "stdout",
       "text": [
        "\r",
        "Done image 566 of 2000 (avg time: 0.682678321051 secs --- remaining: 16:18)"
       ]
      },
      {
       "output_type": "stream",
       "stream": "stdout",
       "text": [
        "\r",
        "Done image 567 of 2000 (avg time: 0.681707625238 secs --- remaining: 16:16)"
       ]
      },
      {
       "output_type": "stream",
       "stream": "stdout",
       "text": [
        "\r",
        "Done image 568 of 2000 (avg time: 0.680729459166 secs --- remaining: 16:14)"
       ]
      },
      {
       "output_type": "stream",
       "stream": "stdout",
       "text": [
        "\r",
        "Done image 569 of 2000 (avg time: 0.679810227009 secs --- remaining: 16:12)"
       ]
      },
      {
       "output_type": "stream",
       "stream": "stdout",
       "text": [
        "\r",
        "Done image 570 of 2000 (avg time: 0.679074324994 secs --- remaining: 16:10)"
       ]
      },
      {
       "output_type": "stream",
       "stream": "stdout",
       "text": [
        "\r",
        "Done image 571 of 2000 (avg time: 0.678203738653 secs --- remaining: 16:8)"
       ]
      },
      {
       "output_type": "stream",
       "stream": "stdout",
       "text": [
        "\r",
        "Done image 572 of 2000 (avg time: 0.677308084661 secs --- remaining: 16:6)"
       ]
      },
      {
       "output_type": "stream",
       "stream": "stdout",
       "text": [
        "\r",
        "Done image 573 of 2000 (avg time: 0.67637114367 secs --- remaining: 16:4)"
       ]
      },
      {
       "output_type": "stream",
       "stream": "stdout",
       "text": [
        "\r",
        "Done image 574 of 2000 (avg time: 0.67558942546 secs --- remaining: 16:2)"
       ]
      },
      {
       "output_type": "stream",
       "stream": "stdout",
       "text": [
        "\r",
        "Done image 575 of 2000 (avg time: 0.674657711138 secs --- remaining: 16:0)"
       ]
      },
      {
       "output_type": "stream",
       "stream": "stdout",
       "text": [
        "\r",
        "Done image 576 of 2000 (avg time: 0.673728626357 secs --- remaining: 15:58)"
       ]
      },
      {
       "output_type": "stream",
       "stream": "stdout",
       "text": [
        "\r",
        "Done image 577 of 2000 (avg time: 0.672875746311 secs --- remaining: 15:56)"
       ]
      },
      {
       "output_type": "stream",
       "stream": "stdout",
       "text": [
        "\r",
        "Done image 578 of 2000 (avg time: 0.671959366823 secs --- remaining: 15:54)"
       ]
      },
      {
       "output_type": "stream",
       "stream": "stdout",
       "text": [
        "\r",
        "Done image 579 of 2000 (avg time: 0.671053105798 secs --- remaining: 15:52)"
       ]
      },
      {
       "output_type": "stream",
       "stream": "stdout",
       "text": [
        "\r",
        "Done image 580 of 2000 (avg time: 0.670187680528 secs --- remaining: 15:50)"
       ]
      },
      {
       "output_type": "stream",
       "stream": "stdout",
       "text": [
        "\r",
        "Done image 581 of 2000 (avg time: 0.669474586588 secs --- remaining: 15:49)"
       ]
      },
      {
       "output_type": "stream",
       "stream": "stdout",
       "text": [
        "\r",
        "Done image 582 of 2000 (avg time: 0.668590129342 secs --- remaining: 15:47)"
       ]
      },
      {
       "output_type": "stream",
       "stream": "stdout",
       "text": [
        "\r",
        "Done image 583 of 2000 (avg time: 0.667715738897 secs --- remaining: 15:45)"
       ]
      },
      {
       "output_type": "stream",
       "stream": "stdout",
       "text": [
        "\r",
        "Done image 584 of 2000 (avg time: 0.666901694811 secs --- remaining: 15:43)"
       ]
      },
      {
       "output_type": "stream",
       "stream": "stdout",
       "text": [
        "\r",
        "Done image 585 of 2000 (avg time: 0.665997001091 secs --- remaining: 15:41)"
       ]
      },
      {
       "output_type": "stream",
       "stream": "stdout",
       "text": [
        "\r",
        "Done image 586 of 2000 (avg time: 0.665473979011 secs --- remaining: 15:40)"
       ]
      },
      {
       "output_type": "stream",
       "stream": "stdout",
       "text": [
        "\r",
        "Done image 587 of 2000 (avg time: 0.664762230957 secs --- remaining: 15:38)"
       ]
      },
      {
       "output_type": "stream",
       "stream": "stdout",
       "text": [
        "\r",
        "Done image 588 of 2000 (avg time: 0.664049371192 secs --- remaining: 15:36)"
       ]
      },
      {
       "output_type": "stream",
       "stream": "stdout",
       "text": [
        "\r",
        "Done image 589 of 2000 (avg time: 0.663187614538 secs --- remaining: 15:35)"
       ]
      },
      {
       "output_type": "stream",
       "stream": "stdout",
       "text": [
        "\r",
        "Done image 590 of 2000 (avg time: 0.662547332583 secs --- remaining: 15:33)"
       ]
      },
      {
       "output_type": "stream",
       "stream": "stdout",
       "text": [
        "\r",
        "Done image 591 of 2000 (avg time: 0.661704553543 secs --- remaining: 15:31)"
       ]
      },
      {
       "output_type": "stream",
       "stream": "stdout",
       "text": [
        "\r",
        "Done image 592 of 2000 (avg time: 0.660877070178 secs --- remaining: 15:29)"
       ]
      },
      {
       "output_type": "stream",
       "stream": "stdout",
       "text": [
        "\r",
        "Done image 593 of 2000 (avg time: 0.660010763692 secs --- remaining: 15:27)"
       ]
      },
      {
       "output_type": "stream",
       "stream": "stdout",
       "text": [
        "\r",
        "Done image 594 of 2000 (avg time: 0.659191288668 secs --- remaining: 15:26)"
       ]
      },
      {
       "output_type": "stream",
       "stream": "stdout",
       "text": [
        "\r",
        "Done image 595 of 2000 (avg time: 0.658354390388 secs --- remaining: 15:24)"
       ]
      },
      {
       "output_type": "stream",
       "stream": "stdout",
       "text": [
        "\r",
        "Done image 596 of 2000 (avg time: 0.657505151614 secs --- remaining: 15:22)"
       ]
      },
      {
       "output_type": "stream",
       "stream": "stdout",
       "text": [
        "\r",
        "Done image 597 of 2000 (avg time: 0.656623137834 secs --- remaining: 15:20)"
       ]
      },
      {
       "output_type": "stream",
       "stream": "stdout",
       "text": [
        "\r",
        "Done image 598 of 2000 (avg time: 0.655775641758 secs --- remaining: 15:18)"
       ]
      },
      {
       "output_type": "stream",
       "stream": "stdout",
       "text": [
        " computing poisson /media/ilisescu/Data1/PhD/data/drumming2/frame-00095.png\r",
        "Done image 599 of 2000 (avg time: 0.657110848824 secs --- remaining: 15:19)"
       ]
      },
      {
       "output_type": "stream",
       "stream": "stdout",
       "text": [
        " computing poisson /media/ilisescu/Data1/PhD/data/drumming2/frame-00096.png\r",
        "Done image 600 of 2000 (avg time: 0.658598359928 secs --- remaining: 15:21)"
       ]
      },
      {
       "output_type": "stream",
       "stream": "stdout",
       "text": [
        " computing poisson /media/ilisescu/Data1/PhD/data/drumming2/frame-00097.png\r",
        "Done image 601 of 2000 (avg time: 0.660340643404 secs --- remaining: 15:23)"
       ]
      },
      {
       "output_type": "stream",
       "stream": "stdout",
       "text": [
        "\r",
        "Done image 602 of 2000 (avg time: 0.659569866029 secs --- remaining: 15:21)"
       ]
      },
      {
       "output_type": "stream",
       "stream": "stdout",
       "text": [
        "\r",
        "Done image 603 of 2000 (avg time: 0.658764776805 secs --- remaining: 15:19)"
       ]
      },
      {
       "output_type": "stream",
       "stream": "stdout",
       "text": [
        "\r",
        "Done image 604 of 2000 (avg time: 0.657952919479 secs --- remaining: 15:17)"
       ]
      },
      {
       "output_type": "stream",
       "stream": "stdout",
       "text": [
        "\r",
        "Done image 605 of 2000 (avg time: 0.657110508912 secs --- remaining: 15:16)"
       ]
      },
      {
       "output_type": "stream",
       "stream": "stdout",
       "text": [
        "\r",
        "Done image 606 of 2000 (avg time: 0.656292984081 secs --- remaining: 15:14)"
       ]
      },
      {
       "output_type": "stream",
       "stream": "stdout",
       "text": [
        "\r",
        "Done image 607 of 2000 (avg time: 0.655462426575 secs --- remaining: 15:12)"
       ]
      },
      {
       "output_type": "stream",
       "stream": "stdout",
       "text": [
        "\r",
        "Done image 608 of 2000 (avg time: 0.654655720017 secs --- remaining: 15:10)"
       ]
      },
      {
       "output_type": "stream",
       "stream": "stdout",
       "text": [
        "\r",
        "Done image 609 of 2000 (avg time: 0.653829481172 secs --- remaining: 15:8)"
       ]
      },
      {
       "output_type": "stream",
       "stream": "stdout",
       "text": [
        "\r",
        "Done image 610 of 2000 (avg time: 0.653080156314 secs --- remaining: 15:7)"
       ]
      },
      {
       "output_type": "stream",
       "stream": "stdout",
       "text": [
        "\r",
        "Done image 611 of 2000 (avg time: 0.652390584057 secs --- remaining: 15:5)"
       ]
      },
      {
       "output_type": "stream",
       "stream": "stdout",
       "text": [
        "\r",
        "Done image 612 of 2000 (avg time: 0.651563128289 secs --- remaining: 15:3)"
       ]
      },
      {
       "output_type": "stream",
       "stream": "stdout",
       "text": [
        "\r",
        "Done image 613 of 2000 (avg time: 0.650725147623 secs --- remaining: 15:1)"
       ]
      },
      {
       "output_type": "stream",
       "stream": "stdout",
       "text": [
        "\r",
        "Done image 614 of 2000 (avg time: 0.649884677515 secs --- remaining: 15:0)"
       ]
      },
      {
       "output_type": "stream",
       "stream": "stdout",
       "text": [
        "\r",
        "Done image 615 of 2000 (avg time: 0.649062871159 secs --- remaining: 14:58)"
       ]
      },
      {
       "output_type": "stream",
       "stream": "stdout",
       "text": [
        "\r",
        "Done image 616 of 2000 (avg time: 0.648294777306 secs --- remaining: 14:56)"
       ]
      },
      {
       "output_type": "stream",
       "stream": "stdout",
       "text": [
        "\r",
        "Done image 617 of 2000 (avg time: 0.647595228887 secs --- remaining: 14:54)"
       ]
      },
      {
       "output_type": "stream",
       "stream": "stdout",
       "text": [
        "\r",
        "Done image 618 of 2000 (avg time: 0.646791032905 secs --- remaining: 14:53)"
       ]
      },
      {
       "output_type": "stream",
       "stream": "stdout",
       "text": [
        "\r",
        "Done image 619 of 2000 (avg time: 0.646242621253 secs --- remaining: 14:51)"
       ]
      },
      {
       "output_type": "stream",
       "stream": "stdout",
       "text": [
        "\r",
        "Done image 620 of 2000 (avg time: 0.645437750455 secs --- remaining: 14:50)"
       ]
      },
      {
       "output_type": "stream",
       "stream": "stdout",
       "text": [
        "\r",
        "Done image 621 of 2000 (avg time: 0.644695168906 secs --- remaining: 14:48)"
       ]
      },
      {
       "output_type": "stream",
       "stream": "stdout",
       "text": [
        "\r",
        "Done image 622 of 2000 (avg time: 0.643947353332 secs --- remaining: 14:46)"
       ]
      },
      {
       "output_type": "stream",
       "stream": "stdout",
       "text": [
        "\r",
        "Done image 623 of 2000 (avg time: 0.643216444132 secs --- remaining: 14:45)"
       ]
      },
      {
       "output_type": "stream",
       "stream": "stdout",
       "text": [
        "\r",
        "Done image 624 of 2000 (avg time: 0.642430678558 secs --- remaining: 14:43)"
       ]
      },
      {
       "output_type": "stream",
       "stream": "stdout",
       "text": [
        "\r",
        "Done image 625 of 2000 (avg time: 0.641684530642 secs --- remaining: 14:41)"
       ]
      },
      {
       "output_type": "stream",
       "stream": "stdout",
       "text": [
        "\r",
        "Done image 626 of 2000 (avg time: 0.640978799482 secs --- remaining: 14:40)"
       ]
      },
      {
       "output_type": "stream",
       "stream": "stdout",
       "text": [
        "\r",
        "Done image 627 of 2000 (avg time: 0.64043910716 secs --- remaining: 14:38)"
       ]
      },
      {
       "output_type": "stream",
       "stream": "stdout",
       "text": [
        "\r",
        "Done image 628 of 2000 (avg time: 0.639718377154 secs --- remaining: 14:37)"
       ]
      },
      {
       "output_type": "stream",
       "stream": "stdout",
       "text": [
        "\r",
        "Done image 629 of 2000 (avg time: 0.638949952807 secs --- remaining: 14:35)"
       ]
      },
      {
       "output_type": "stream",
       "stream": "stdout",
       "text": [
        "\r",
        "Done image 630 of 2000 (avg time: 0.638188713893 secs --- remaining: 14:33)"
       ]
      },
      {
       "output_type": "stream",
       "stream": "stdout",
       "text": [
        "\r",
        "Done image 631 of 2000 (avg time: 0.63740502279 secs --- remaining: 14:31)"
       ]
      },
      {
       "output_type": "stream",
       "stream": "stdout",
       "text": [
        "\r",
        "Done image 632 of 2000 (avg time: 0.636608060502 secs --- remaining: 14:30)"
       ]
      },
      {
       "output_type": "stream",
       "stream": "stdout",
       "text": [
        "\r",
        "Done image 633 of 2000 (avg time: 0.635847003678 secs --- remaining: 14:28)"
       ]
      },
      {
       "output_type": "stream",
       "stream": "stdout",
       "text": [
        "\r",
        "Done image 634 of 2000 (avg time: 0.635116702928 secs --- remaining: 14:26)"
       ]
      },
      {
       "output_type": "stream",
       "stream": "stdout",
       "text": [
        "\r",
        "Done image 635 of 2000 (avg time: 0.634386215945 secs --- remaining: 14:25)"
       ]
      },
      {
       "output_type": "stream",
       "stream": "stdout",
       "text": [
        "\r",
        "Done image 636 of 2000 (avg time: 0.63362254827 secs --- remaining: 14:23)"
       ]
      },
      {
       "output_type": "stream",
       "stream": "stdout",
       "text": [
        "\r",
        "Done image 637 of 2000 (avg time: 0.633286296761 secs --- remaining: 14:22)"
       ]
      },
      {
       "output_type": "stream",
       "stream": "stdout",
       "text": [
        "\r",
        "Done image 638 of 2000 (avg time: 0.632519028743 secs --- remaining: 14:20)"
       ]
      },
      {
       "output_type": "stream",
       "stream": "stdout",
       "text": [
        "\r",
        "Done image 639 of 2000 (avg time: 0.63177414909 secs --- remaining: 14:19)"
       ]
      },
      {
       "output_type": "stream",
       "stream": "stdout",
       "text": [
        "\r",
        "Done image 640 of 2000 (avg time: 0.631029060218 secs --- remaining: 14:17)"
       ]
      },
      {
       "output_type": "stream",
       "stream": "stdout",
       "text": [
        "\r",
        "Done image 641 of 2000 (avg time: 0.630278714349 secs --- remaining: 14:15)"
       ]
      },
      {
       "output_type": "stream",
       "stream": "stdout",
       "text": [
        "\r",
        "Done image 642 of 2000 (avg time: 0.629542106789 secs --- remaining: 14:14)"
       ]
      },
      {
       "output_type": "stream",
       "stream": "stdout",
       "text": [
        "\r",
        "Done image 643 of 2000 (avg time: 0.628785461002 secs --- remaining: 14:12)"
       ]
      },
      {
       "output_type": "stream",
       "stream": "stdout",
       "text": [
        "\r",
        "Done image 644 of 2000 (avg time: 0.628076027715 secs --- remaining: 14:11)"
       ]
      },
      {
       "output_type": "stream",
       "stream": "stdout",
       "text": [
        "\r",
        "Done image 645 of 2000 (avg time: 0.627337996805 secs --- remaining: 14:9)"
       ]
      },
      {
       "output_type": "stream",
       "stream": "stdout",
       "text": [
        "\r",
        "Done image 646 of 2000 (avg time: 0.626643826825 secs --- remaining: 14:7)"
       ]
      },
      {
       "output_type": "stream",
       "stream": "stdout",
       "text": [
        "\r",
        "Done image 647 of 2000 (avg time: 0.625929507576 secs --- remaining: 14:6)"
       ]
      },
      {
       "output_type": "stream",
       "stream": "stdout",
       "text": [
        "\r",
        "Done image 648 of 2000 (avg time: 0.625160420437 secs --- remaining: 14:4)"
       ]
      },
      {
       "output_type": "stream",
       "stream": "stdout",
       "text": [
        "\r",
        "Done image 649 of 2000 (avg time: 0.624419250488 secs --- remaining: 14:2)"
       ]
      },
      {
       "output_type": "stream",
       "stream": "stdout",
       "text": [
        "\r",
        "Done image 650 of 2000 (avg time: 0.623695829131 secs --- remaining: 14:1)"
       ]
      },
      {
       "output_type": "stream",
       "stream": "stdout",
       "text": [
        "\r",
        "Done image 651 of 2000 (avg time: 0.622966966015 secs --- remaining: 13:59)"
       ]
      },
      {
       "output_type": "stream",
       "stream": "stdout",
       "text": [
        "\r",
        "Done image 652 of 2000 (avg time: 0.622213333708 secs --- remaining: 13:58)"
       ]
      },
      {
       "output_type": "stream",
       "stream": "stdout",
       "text": [
        "\r",
        "Done image 653 of 2000 (avg time: 0.621514452342 secs --- remaining: 13:56)"
       ]
      },
      {
       "output_type": "stream",
       "stream": "stdout",
       "text": [
        "\r",
        "Done image 654 of 2000 (avg time: 0.620812257738 secs --- remaining: 13:54)"
       ]
      },
      {
       "output_type": "stream",
       "stream": "stdout",
       "text": [
        "\r",
        "Done image 655 of 2000 (avg time: 0.620066292402 secs --- remaining: 13:53)"
       ]
      },
      {
       "output_type": "stream",
       "stream": "stdout",
       "text": [
        "\r",
        "Done image 656 of 2000 (avg time: 0.619341768268 secs --- remaining: 13:51)"
       ]
      },
      {
       "output_type": "stream",
       "stream": "stdout",
       "text": [
        "\r",
        "Done image 657 of 2000 (avg time: 0.618668143872 secs --- remaining: 13:50)"
       ]
      },
      {
       "output_type": "stream",
       "stream": "stdout",
       "text": [
        "\r",
        "Done image 658 of 2000 (avg time: 0.618030526027 secs --- remaining: 13:48)"
       ]
      },
      {
       "output_type": "stream",
       "stream": "stdout",
       "text": [
        "\r",
        "Done image 659 of 2000 (avg time: 0.617359947797 secs --- remaining: 13:47)"
       ]
      },
      {
       "output_type": "stream",
       "stream": "stdout",
       "text": [
        "\r",
        "Done image 660 of 2000 (avg time: 0.616732112579 secs --- remaining: 13:45)"
       ]
      },
      {
       "output_type": "stream",
       "stream": "stdout",
       "text": [
        "\r",
        "Done image 661 of 2000 (avg time: 0.616037781865 secs --- remaining: 13:44)"
       ]
      },
      {
       "output_type": "stream",
       "stream": "stdout",
       "text": [
        "\r",
        "Done image 662 of 2000 (avg time: 0.615327548477 secs --- remaining: 13:42)"
       ]
      },
      {
       "output_type": "stream",
       "stream": "stdout",
       "text": [
        "\r",
        "Done image 663 of 2000 (avg time: 0.614642032658 secs --- remaining: 13:41)"
       ]
      },
      {
       "output_type": "stream",
       "stream": "stdout",
       "text": [
        "\r",
        "Done image 664 of 2000 (avg time: 0.614015664194 secs --- remaining: 13:39)"
       ]
      },
      {
       "output_type": "stream",
       "stream": "stdout",
       "text": [
        "\r",
        "Done image 665 of 2000 (avg time: 0.613687197725 secs --- remaining: 13:38)"
       ]
      },
      {
       "output_type": "stream",
       "stream": "stdout",
       "text": [
        "\r",
        "Done image 666 of 2000 (avg time: 0.613019234773 secs --- remaining: 13:37)"
       ]
      },
      {
       "output_type": "stream",
       "stream": "stdout",
       "text": [
        "\r",
        "Done image 667 of 2000 (avg time: 0.612353192475 secs --- remaining: 13:35)"
       ]
      },
      {
       "output_type": "stream",
       "stream": "stdout",
       "text": [
        "\r",
        "Done image 668 of 2000 (avg time: 0.61172260618 secs --- remaining: 13:34)"
       ]
      },
      {
       "output_type": "stream",
       "stream": "stdout",
       "text": [
        "\r",
        "Done image 669 of 2000 (avg time: 0.611153294791 secs --- remaining: 13:32)"
       ]
      },
      {
       "output_type": "stream",
       "stream": "stdout",
       "text": [
        "\r",
        "Done image 670 of 2000 (avg time: 0.610554516404 secs --- remaining: 13:31)"
       ]
      },
      {
       "output_type": "stream",
       "stream": "stdout",
       "text": [
        "\r",
        "Done image 671 of 2000 (avg time: 0.609923854825 secs --- remaining: 13:29)"
       ]
      },
      {
       "output_type": "stream",
       "stream": "stdout",
       "text": [
        "\r",
        "Done image 672 of 2000 (avg time: 0.609220886301 secs --- remaining: 13:28)"
       ]
      },
      {
       "output_type": "stream",
       "stream": "stdout",
       "text": [
        "\r",
        "Done image 673 of 2000 (avg time: 0.608541918791 secs --- remaining: 13:26)"
       ]
      },
      {
       "output_type": "stream",
       "stream": "stdout",
       "text": [
        "\r",
        "Done image 674 of 2000 (avg time: 0.608066944193 secs --- remaining: 13:25)"
       ]
      },
      {
       "output_type": "stream",
       "stream": "stdout",
       "text": [
        "\r",
        "Done image 675 of 2000 (avg time: 0.607705121915 secs --- remaining: 13:24)"
       ]
      },
      {
       "output_type": "stream",
       "stream": "stdout",
       "text": [
        "\r",
        "Done image 676 of 2000 (avg time: 0.607227791007 secs --- remaining: 13:23)"
       ]
      },
      {
       "output_type": "stream",
       "stream": "stdout",
       "text": [
        "\r",
        "Done image 677 of 2000 (avg time: 0.606774785174 secs --- remaining: 13:22)"
       ]
      },
      {
       "output_type": "stream",
       "stream": "stdout",
       "text": [
        "\r",
        "Done image 678 of 2000 (avg time: 0.606256729724 secs --- remaining: 13:20)"
       ]
      },
      {
       "output_type": "stream",
       "stream": "stdout",
       "text": [
        "\r",
        "Done image 679 of 2000 (avg time: 0.605633317022 secs --- remaining: 13:19)"
       ]
      },
      {
       "output_type": "stream",
       "stream": "stdout",
       "text": [
        "\r",
        "Done image 680 of 2000 (avg time: 0.60516726218 secs --- remaining: 13:18)"
       ]
      },
      {
       "output_type": "stream",
       "stream": "stdout",
       "text": [
        "\r",
        "Done image 681 of 2000 (avg time: 0.604504275182 secs --- remaining: 13:16)"
       ]
      },
      {
       "output_type": "stream",
       "stream": "stdout",
       "text": [
        "\r",
        "Done image 682 of 2000 (avg time: 0.603951648249 secs --- remaining: 13:15)"
       ]
      },
      {
       "output_type": "stream",
       "stream": "stdout",
       "text": [
        "\r",
        "Done image 683 of 2000 (avg time: 0.603344528647 secs --- remaining: 13:14)"
       ]
      },
      {
       "output_type": "stream",
       "stream": "stdout",
       "text": [
        "\r",
        "Done image 684 of 2000 (avg time: 0.602762881161 secs --- remaining: 13:12)"
       ]
      },
      {
       "output_type": "stream",
       "stream": "stdout",
       "text": [
        "\r",
        "Done image 685 of 2000 (avg time: 0.602176509863 secs --- remaining: 13:11)"
       ]
      },
      {
       "output_type": "stream",
       "stream": "stdout",
       "text": [
        "\r",
        "Done image 686 of 2000 (avg time: 0.601541727391 secs --- remaining: 13:9)"
       ]
      },
      {
       "output_type": "stream",
       "stream": "stdout",
       "text": [
        "\r",
        "Done image 687 of 2000 (avg time: 0.601025219227 secs --- remaining: 13:8)"
       ]
      },
      {
       "output_type": "stream",
       "stream": "stdout",
       "text": [
        "\r",
        "Done image 688 of 2000 (avg time: 0.600624260951 secs --- remaining: 13:7)"
       ]
      },
      {
       "output_type": "stream",
       "stream": "stdout",
       "text": [
        "\r",
        "Done image 689 of 2000 (avg time: 0.600161366532 secs --- remaining: 13:6)"
       ]
      },
      {
       "output_type": "stream",
       "stream": "stdout",
       "text": [
        "\r",
        "Done image 690 of 2000 (avg time: 0.59951579588 secs --- remaining: 13:4)"
       ]
      },
      {
       "output_type": "stream",
       "stream": "stdout",
       "text": [
        "\r",
        "Done image 691 of 2000 (avg time: 0.598866894411 secs --- remaining: 13:3)"
       ]
      },
      {
       "output_type": "stream",
       "stream": "stdout",
       "text": [
        "\r",
        "Done image 692 of 2000 (avg time: 0.598244734485 secs --- remaining: 13:1)"
       ]
      },
      {
       "output_type": "stream",
       "stream": "stdout",
       "text": [
        "\r",
        "Done image 693 of 2000 (avg time: 0.597642979979 secs --- remaining: 13:0)"
       ]
      },
      {
       "output_type": "stream",
       "stream": "stdout",
       "text": [
        "\r",
        "Done image 694 of 2000 (avg time: 0.597037426173 secs --- remaining: 12:59)"
       ]
      },
      {
       "output_type": "stream",
       "stream": "stdout",
       "text": [
        "\r",
        "Done image 695 of 2000 (avg time: 0.596437745738 secs --- remaining: 12:57)"
       ]
      },
      {
       "output_type": "stream",
       "stream": "stdout",
       "text": [
        "\r",
        "Done image 696 of 2000 (avg time: 0.595856357339 secs --- remaining: 12:56)"
       ]
      },
      {
       "output_type": "stream",
       "stream": "stdout",
       "text": [
        "\r",
        "Done image 697 of 2000 (avg time: 0.595365584409 secs --- remaining: 12:55)"
       ]
      },
      {
       "output_type": "stream",
       "stream": "stdout",
       "text": [
        "\r",
        "Done image 698 of 2000 (avg time: 0.59472122895 secs --- remaining: 12:53)"
       ]
      },
      {
       "output_type": "stream",
       "stream": "stdout",
       "text": [
        "\r",
        "Done image 699 of 2000 (avg time: 0.594090980121 secs --- remaining: 12:52)"
       ]
      },
      {
       "output_type": "stream",
       "stream": "stdout",
       "text": [
        "\r",
        "Done image 700 of 2000 (avg time: 0.593543127158 secs --- remaining: 12:51)"
       ]
      },
      {
       "output_type": "stream",
       "stream": "stdout",
       "text": [
        "\r",
        "Done image 701 of 2000 (avg time: 0.592961501532 secs --- remaining: 12:49)"
       ]
      },
      {
       "output_type": "stream",
       "stream": "stdout",
       "text": [
        "\r",
        "Done image 702 of 2000 (avg time: 0.59233172418 secs --- remaining: 12:48)"
       ]
      },
      {
       "output_type": "stream",
       "stream": "stdout",
       "text": [
        "\r",
        "Done image 703 of 2000 (avg time: 0.591970994391 secs --- remaining: 12:47)"
       ]
      },
      {
       "output_type": "stream",
       "stream": "stdout",
       "text": [
        "\r",
        "Done image 704 of 2000 (avg time: 0.591399878306 secs --- remaining: 12:45)"
       ]
      },
      {
       "output_type": "stream",
       "stream": "stdout",
       "text": [
        "\r",
        "Done image 705 of 2000 (avg time: 0.590803240919 secs --- remaining: 12:44)"
       ]
      },
      {
       "output_type": "stream",
       "stream": "stdout",
       "text": [
        "\r",
        "Done image 706 of 2000 (avg time: 0.590181316985 secs --- remaining: 12:43)"
       ]
      },
      {
       "output_type": "stream",
       "stream": "stdout",
       "text": [
        "\r",
        "Done image 707 of 2000 (avg time: 0.589884244453 secs --- remaining: 12:42)"
       ]
      },
      {
       "output_type": "stream",
       "stream": "stdout",
       "text": [
        "\r",
        "Done image 708 of 2000 (avg time: 0.589357409054 secs --- remaining: 12:40)"
       ]
      },
      {
       "output_type": "stream",
       "stream": "stdout",
       "text": [
        "\r",
        "Done image 709 of 2000 (avg time: 0.588767763595 secs --- remaining: 12:39)"
       ]
      },
      {
       "output_type": "stream",
       "stream": "stdout",
       "text": [
        "\r",
        "Done image 710 of 2000 (avg time: 0.588158952536 secs --- remaining: 12:38)"
       ]
      },
      {
       "output_type": "stream",
       "stream": "stdout",
       "text": [
        "\r",
        "Done image 711 of 2000 (avg time: 0.587593868207 secs --- remaining: 12:36)"
       ]
      },
      {
       "output_type": "stream",
       "stream": "stdout",
       "text": [
        "\r",
        "Done image 712 of 2000 (avg time: 0.587037031313 secs --- remaining: 12:35)"
       ]
      },
      {
       "output_type": "stream",
       "stream": "stdout",
       "text": [
        "\r",
        "Done image 713 of 2000 (avg time: 0.586414309777 secs --- remaining: 12:34)"
       ]
      },
      {
       "output_type": "stream",
       "stream": "stdout",
       "text": [
        "\r",
        "Done image 714 of 2000 (avg time: 0.585829293978 secs --- remaining: 12:32)"
       ]
      },
      {
       "output_type": "stream",
       "stream": "stdout",
       "text": [
        "\r",
        "Done image 715 of 2000 (avg time: 0.585228301959 secs --- remaining: 12:31)"
       ]
      },
      {
       "output_type": "stream",
       "stream": "stdout",
       "text": [
        "\r",
        "Done image 716 of 2000 (avg time: 0.58463243261 secs --- remaining: 12:30)"
       ]
      },
      {
       "output_type": "stream",
       "stream": "stdout",
       "text": [
        "\r",
        "Done image 717 of 2000 (avg time: 0.584011178495 secs --- remaining: 12:28)"
       ]
      },
      {
       "output_type": "stream",
       "stream": "stdout",
       "text": [
        "\r",
        "Done image 718 of 2000 (avg time: 0.583389022586 secs --- remaining: 12:27)"
       ]
      },
      {
       "output_type": "stream",
       "stream": "stdout",
       "text": [
        "\r",
        "Done image 719 of 2000 (avg time: 0.582829622428 secs --- remaining: 12:26)"
       ]
      },
      {
       "output_type": "stream",
       "stream": "stdout",
       "text": [
        "\r",
        "Done image 720 of 2000 (avg time: 0.582235076722 secs --- remaining: 12:24)"
       ]
      },
      {
       "output_type": "stream",
       "stream": "stdout",
       "text": [
        "\r",
        "Done image 721 of 2000 (avg time: 0.58165824017 secs --- remaining: 12:23)"
       ]
      },
      {
       "output_type": "stream",
       "stream": "stdout",
       "text": [
        "\r",
        "Done image 722 of 2000 (avg time: 0.581066289548 secs --- remaining: 12:22)"
       ]
      },
      {
       "output_type": "stream",
       "stream": "stdout",
       "text": [
        "\r",
        "Done image 723 of 2000 (avg time: 0.580486072361 secs --- remaining: 12:20)"
       ]
      },
      {
       "output_type": "stream",
       "stream": "stdout",
       "text": [
        "\r",
        "Done image 724 of 2000 (avg time: 0.579913465237 secs --- remaining: 12:19)"
       ]
      },
      {
       "output_type": "stream",
       "stream": "stdout",
       "text": [
        "\r",
        "Done image 725 of 2000 (avg time: 0.579334449177 secs --- remaining: 12:18)"
       ]
      },
      {
       "output_type": "stream",
       "stream": "stdout",
       "text": [
        "\r",
        "Done image 726 of 2000 (avg time: 0.578744031704 secs --- remaining: 12:16)"
       ]
      },
      {
       "output_type": "stream",
       "stream": "stdout",
       "text": [
        "\r",
        "Done image 727 of 2000 (avg time: 0.578195710104 secs --- remaining: 12:15)"
       ]
      },
      {
       "output_type": "stream",
       "stream": "stdout",
       "text": [
        "\r",
        "Done image 728 of 2000 (avg time: 0.577603233204 secs --- remaining: 12:14)"
       ]
      },
      {
       "output_type": "stream",
       "stream": "stdout",
       "text": [
        "\r",
        "Done image 729 of 2000 (avg time: 0.577063684921 secs --- remaining: 12:12)"
       ]
      },
      {
       "output_type": "stream",
       "stream": "stdout",
       "text": [
        "\r",
        "Done image 730 of 2000 (avg time: 0.576523663407 secs --- remaining: 12:11)"
       ]
      },
      {
       "output_type": "stream",
       "stream": "stdout",
       "text": [
        "\r",
        "Done image 731 of 2000 (avg time: 0.575964527378 secs --- remaining: 12:10)"
       ]
      },
      {
       "output_type": "stream",
       "stream": "stdout",
       "text": [
        "\r",
        "Done image 732 of 2000 (avg time: 0.575392592327 secs --- remaining: 12:9)"
       ]
      },
      {
       "output_type": "stream",
       "stream": "stdout",
       "text": [
        "\r",
        "Done image 733 of 2000 (avg time: 0.574808771669 secs --- remaining: 12:7)"
       ]
      },
      {
       "output_type": "stream",
       "stream": "stdout",
       "text": [
        "\r",
        "Done image 734 of 2000 (avg time: 0.574283939154 secs --- remaining: 12:6)"
       ]
      },
      {
       "output_type": "stream",
       "stream": "stdout",
       "text": [
        "\r",
        "Done image 735 of 2000 (avg time: 0.573725296427 secs --- remaining: 12:5)"
       ]
      },
      {
       "output_type": "stream",
       "stream": "stdout",
       "text": [
        "\r",
        "Done image 736 of 2000 (avg time: 0.573136377529 secs --- remaining: 12:3)"
       ]
      },
      {
       "output_type": "stream",
       "stream": "stdout",
       "text": [
        "\r",
        "Done image 737 of 2000 (avg time: 0.572566123836 secs --- remaining: 12:2)"
       ]
      },
      {
       "output_type": "stream",
       "stream": "stdout",
       "text": [
        "\r",
        "Done image 738 of 2000 (avg time: 0.572005458065 secs --- remaining: 12:1)"
       ]
      },
      {
       "output_type": "stream",
       "stream": "stdout",
       "text": [
        "\r",
        "Done image 739 of 2000 (avg time: 0.571452446564 secs --- remaining: 12:0)"
       ]
      },
      {
       "output_type": "stream",
       "stream": "stdout",
       "text": [
        "\r",
        "Done image 740 of 2000 (avg time: 0.571224509624 secs --- remaining: 11:59)"
       ]
      },
      {
       "output_type": "stream",
       "stream": "stdout",
       "text": [
        "\r",
        "Done image 741 of 2000 (avg time: 0.570679727269 secs --- remaining: 11:57)"
       ]
      },
      {
       "output_type": "stream",
       "stream": "stdout",
       "text": [
        "\r",
        "Done image 742 of 2000 (avg time: 0.570091597004 secs --- remaining: 11:56)"
       ]
      },
      {
       "output_type": "stream",
       "stream": "stdout",
       "text": [
        "\r",
        "Done image 743 of 2000 (avg time: 0.569521067924 secs --- remaining: 11:55)"
       ]
      },
      {
       "output_type": "stream",
       "stream": "stdout",
       "text": [
        "\r",
        "Done image 744 of 2000 (avg time: 0.568958619457 secs --- remaining: 11:54)"
       ]
      },
      {
       "output_type": "stream",
       "stream": "stdout",
       "text": [
        "\r",
        "Done image 745 of 2000 (avg time: 0.568464992833 secs --- remaining: 11:52)"
       ]
      },
      {
       "output_type": "stream",
       "stream": "stdout",
       "text": [
        "\r",
        "Done image 746 of 2000 (avg time: 0.567961679724 secs --- remaining: 11:51)"
       ]
      },
      {
       "output_type": "stream",
       "stream": "stdout",
       "text": [
        "\r",
        "Done image 747 of 2000 (avg time: 0.567485497278 secs --- remaining: 11:50)"
       ]
      },
      {
       "output_type": "stream",
       "stream": "stdout",
       "text": [
        "\r",
        "Done image 748 of 2000 (avg time: 0.56696059516 secs --- remaining: 11:49)"
       ]
      },
      {
       "output_type": "stream",
       "stream": "stdout",
       "text": [
        "\r",
        "Done image 749 of 2000 (avg time: 0.566495042165 secs --- remaining: 11:48)"
       ]
      },
      {
       "output_type": "stream",
       "stream": "stdout",
       "text": [
        "\r",
        "Done image 750 of 2000 (avg time: 0.565951838474 secs --- remaining: 11:46)"
       ]
      },
      {
       "output_type": "stream",
       "stream": "stdout",
       "text": [
        "\r",
        "Done image 751 of 2000 (avg time: 0.565561198808 secs --- remaining: 11:45)"
       ]
      },
      {
       "output_type": "stream",
       "stream": "stdout",
       "text": [
        "\r",
        "Done image 752 of 2000 (avg time: 0.565106436234 secs --- remaining: 11:44)"
       ]
      },
      {
       "output_type": "stream",
       "stream": "stdout",
       "text": [
        "\r",
        "Done image 753 of 2000 (avg time: 0.564665161014 secs --- remaining: 11:43)"
       ]
      },
      {
       "output_type": "stream",
       "stream": "stdout",
       "text": [
        "\r",
        "Done image 754 of 2000 (avg time: 0.564138828366 secs --- remaining: 11:42)"
       ]
      },
      {
       "output_type": "stream",
       "stream": "stdout",
       "text": [
        "\r",
        "Done image 755 of 2000 (avg time: 0.563711557439 secs --- remaining: 11:41)"
       ]
      },
      {
       "output_type": "stream",
       "stream": "stdout",
       "text": [
        "\r",
        "Done image 756 of 2000 (avg time: 0.563183252846 secs --- remaining: 11:40)"
       ]
      },
      {
       "output_type": "stream",
       "stream": "stdout",
       "text": [
        "\r",
        "Done image 757 of 2000 (avg time: 0.562679487357 secs --- remaining: 11:38)"
       ]
      },
      {
       "output_type": "stream",
       "stream": "stdout",
       "text": [
        "\r",
        "Done image 758 of 2000 (avg time: 0.562129735633 secs --- remaining: 11:37)"
       ]
      },
      {
       "output_type": "stream",
       "stream": "stdout",
       "text": [
        "\r",
        "Done image 759 of 2000 (avg time: 0.561588116382 secs --- remaining: 11:36)"
       ]
      },
      {
       "output_type": "stream",
       "stream": "stdout",
       "text": [
        "\r",
        "Done image 760 of 2000 (avg time: 0.561064004271 secs --- remaining: 11:35)"
       ]
      },
      {
       "output_type": "stream",
       "stream": "stdout",
       "text": [
        "\r",
        "Done image 761 of 2000 (avg time: 0.560541258709 secs --- remaining: 11:33)"
       ]
      },
      {
       "output_type": "stream",
       "stream": "stdout",
       "text": [
        "\r",
        "Done image 762 of 2000 (avg time: 0.560013520452 secs --- remaining: 11:32)"
       ]
      },
      {
       "output_type": "stream",
       "stream": "stdout",
       "text": [
        "\r",
        "Done image 763 of 2000 (avg time: 0.559474200478 secs --- remaining: 11:31)"
       ]
      },
      {
       "output_type": "stream",
       "stream": "stdout",
       "text": [
        "\r",
        "Done image 764 of 2000 (avg time: 0.558940256343 secs --- remaining: 11:30)"
       ]
      },
      {
       "output_type": "stream",
       "stream": "stdout",
       "text": [
        "\r",
        "Done image 765 of 2000 (avg time: 0.558426522399 secs --- remaining: 11:29)"
       ]
      },
      {
       "output_type": "stream",
       "stream": "stdout",
       "text": [
        "\r",
        "Done image 766 of 2000 (avg time: 0.557863271221 secs --- remaining: 11:27)"
       ]
      },
      {
       "output_type": "stream",
       "stream": "stdout",
       "text": [
        "\r",
        "Done image 767 of 2000 (avg time: 0.557314303393 secs --- remaining: 11:26)"
       ]
      },
      {
       "output_type": "stream",
       "stream": "stdout",
       "text": [
        "\r",
        "Done image 768 of 2000 (avg time: 0.556786752956 secs --- remaining: 11:25)"
       ]
      },
      {
       "output_type": "stream",
       "stream": "stdout",
       "text": [
        "\r",
        "Done image 769 of 2000 (avg time: 0.556255971611 secs --- remaining: 11:24)"
       ]
      },
      {
       "output_type": "stream",
       "stream": "stdout",
       "text": [
        "\r",
        "Done image 770 of 2000 (avg time: 0.555740874101 secs --- remaining: 11:23)"
       ]
      },
      {
       "output_type": "stream",
       "stream": "stdout",
       "text": [
        "\r",
        "Done image 771 of 2000 (avg time: 0.555476341841 secs --- remaining: 11:22)"
       ]
      },
      {
       "output_type": "stream",
       "stream": "stdout",
       "text": [
        "\r",
        "Done image 772 of 2000 (avg time: 0.555201622061 secs --- remaining: 11:21)"
       ]
      },
      {
       "output_type": "stream",
       "stream": "stdout",
       "text": [
        "\r",
        "Done image 773 of 2000 (avg time: 0.554730786526 secs --- remaining: 11:20)"
       ]
      },
      {
       "output_type": "stream",
       "stream": "stdout",
       "text": [
        "\r",
        "Done image 774 of 2000 (avg time: 0.554331368785 secs --- remaining: 11:19)"
       ]
      },
      {
       "output_type": "stream",
       "stream": "stdout",
       "text": [
        "\r",
        "Done image 775 of 2000 (avg time: 0.553965682836 secs --- remaining: 11:18)"
       ]
      },
      {
       "output_type": "stream",
       "stream": "stdout",
       "text": [
        "\r",
        "Done image 776 of 2000 (avg time: 0.55356024315 secs --- remaining: 11:17)"
       ]
      },
      {
       "output_type": "stream",
       "stream": "stdout",
       "text": [
        "\r",
        "Done image 777 of 2000 (avg time: 0.553138137477 secs --- remaining: 11:15)"
       ]
      },
      {
       "output_type": "stream",
       "stream": "stdout",
       "text": [
        "\r",
        "Done image 778 of 2000 (avg time: 0.552682011363 secs --- remaining: 11:14)"
       ]
      },
      {
       "output_type": "stream",
       "stream": "stdout",
       "text": [
        "\r",
        "Done image 779 of 2000 (avg time: 0.552267437103 secs --- remaining: 11:13)"
       ]
      },
      {
       "output_type": "stream",
       "stream": "stdout",
       "text": [
        "\r",
        "Done image 780 of 2000 (avg time: 0.551892312327 secs --- remaining: 11:12)"
       ]
      },
      {
       "output_type": "stream",
       "stream": "stdout",
       "text": [
        "\r",
        "Done image 781 of 2000 (avg time: 0.551423410321 secs --- remaining: 11:11)"
       ]
      },
      {
       "output_type": "stream",
       "stream": "stdout",
       "text": [
        "\r",
        "Done image 782 of 2000 (avg time: 0.550911298657 secs --- remaining: 11:10)"
       ]
      },
      {
       "output_type": "stream",
       "stream": "stdout",
       "text": [
        "\r",
        "Done image 783 of 2000 (avg time: 0.550480091754 secs --- remaining: 11:9)"
       ]
      },
      {
       "output_type": "stream",
       "stream": "stdout",
       "text": [
        "\r",
        "Done image 784 of 2000 (avg time: 0.549986750001 secs --- remaining: 11:8)"
       ]
      },
      {
       "output_type": "stream",
       "stream": "stdout",
       "text": [
        "\r",
        "Done image 785 of 2000 (avg time: 0.54956926705 secs --- remaining: 11:7)"
       ]
      },
      {
       "output_type": "stream",
       "stream": "stdout",
       "text": [
        "\r",
        "Done image 786 of 2000 (avg time: 0.549148189067 secs --- remaining: 11:6)"
       ]
      },
      {
       "output_type": "stream",
       "stream": "stdout",
       "text": [
        "\r",
        "Done image 787 of 2000 (avg time: 0.548725564468 secs --- remaining: 11:5)"
       ]
      },
      {
       "output_type": "stream",
       "stream": "stdout",
       "text": [
        "\r",
        "Done image 788 of 2000 (avg time: 0.548309514127 secs --- remaining: 11:4)"
       ]
      },
      {
       "output_type": "stream",
       "stream": "stdout",
       "text": [
        "\r",
        "Done image 789 of 2000 (avg time: 0.547842479356 secs --- remaining: 11:2)"
       ]
      },
      {
       "output_type": "stream",
       "stream": "stdout",
       "text": [
        "\r",
        "Done image 790 of 2000 (avg time: 0.547424123501 secs --- remaining: 11:1)"
       ]
      },
      {
       "output_type": "stream",
       "stream": "stdout",
       "text": [
        "\r",
        "Done image 791 of 2000 (avg time: 0.546996520926 secs --- remaining: 11:0)"
       ]
      },
      {
       "output_type": "stream",
       "stream": "stdout",
       "text": [
        "\r",
        "Done image 792 of 2000 (avg time: 0.546598027062 secs --- remaining: 10:59)"
       ]
      },
      {
       "output_type": "stream",
       "stream": "stdout",
       "text": [
        "\r",
        "Done image 793 of 2000 (avg time: 0.546133738621 secs --- remaining: 10:58)"
       ]
      },
      {
       "output_type": "stream",
       "stream": "stdout",
       "text": [
        "\r",
        "Done image 794 of 2000 (avg time: 0.5456290395 secs --- remaining: 10:57)"
       ]
      },
      {
       "output_type": "stream",
       "stream": "stdout",
       "text": [
        "\r",
        "Done image 795 of 2000 (avg time: 0.545143200225 secs --- remaining: 10:56)"
       ]
      },
      {
       "output_type": "stream",
       "stream": "stdout",
       "text": [
        "\r",
        "Done image 796 of 2000 (avg time: 0.544641028085 secs --- remaining: 10:55)"
       ]
      },
      {
       "output_type": "stream",
       "stream": "stdout",
       "text": [
        "\r",
        "Done image 797 of 2000 (avg time: 0.544212013259 secs --- remaining: 10:54)"
       ]
      },
      {
       "output_type": "stream",
       "stream": "stdout",
       "text": [
        "\r",
        "Done image 798 of 2000 (avg time: 0.543752384723 secs --- remaining: 10:53)"
       ]
      },
      {
       "output_type": "stream",
       "stream": "stdout",
       "text": [
        "\r",
        "Done image 799 of 2000 (avg time: 0.543473579288 secs --- remaining: 10:52)"
       ]
      },
      {
       "output_type": "stream",
       "stream": "stdout",
       "text": [
        "\r",
        "Done image 800 of 2000 (avg time: 0.543056331175 secs --- remaining: 10:51)"
       ]
      },
      {
       "output_type": "stream",
       "stream": "stdout",
       "text": [
        "\r",
        "Done image 801 of 2000 (avg time: 0.542636036576 secs --- remaining: 10:50)"
       ]
      },
      {
       "output_type": "stream",
       "stream": "stdout",
       "text": [
        "\r",
        "Done image 802 of 2000 (avg time: 0.542526203253 secs --- remaining: 10:49)"
       ]
      },
      {
       "output_type": "stream",
       "stream": "stdout",
       "text": [
        "\r",
        "Done image 803 of 2000 (avg time: 0.542568318583 secs --- remaining: 10:48)"
       ]
      },
      {
       "output_type": "stream",
       "stream": "stdout",
       "text": [
        "\r",
        "Done image 804 of 2000 (avg time: 0.542624552946 secs --- remaining: 10:48)"
       ]
      },
      {
       "output_type": "stream",
       "stream": "stdout",
       "text": [
        "\r",
        "Done image 805 of 2000 (avg time: 0.542591192586 secs --- remaining: 10:47)"
       ]
      },
      {
       "output_type": "stream",
       "stream": "stdout",
       "text": [
        "\r",
        "Done image 806 of 2000 (avg time: 0.542520762376 secs --- remaining: 10:47)"
       ]
      },
      {
       "output_type": "stream",
       "stream": "stdout",
       "text": [
        "\r",
        "Done image 807 of 2000 (avg time: 0.542527117942 secs --- remaining: 10:46)"
       ]
      },
      {
       "output_type": "stream",
       "stream": "stdout",
       "text": [
        "\r",
        "Done image 808 of 2000 (avg time: 0.542581342796 secs --- remaining: 10:46)"
       ]
      },
      {
       "output_type": "stream",
       "stream": "stdout",
       "text": [
        "\r",
        "Done image 809 of 2000 (avg time: 0.542607938802 secs --- remaining: 10:45)"
       ]
      },
      {
       "output_type": "stream",
       "stream": "stdout",
       "text": [
        "\r",
        "Done image 810 of 2000 (avg time: 0.54254177966 secs --- remaining: 10:45)"
       ]
      },
      {
       "output_type": "stream",
       "stream": "stdout",
       "text": [
        "\r",
        "Done image 811 of 2000 (avg time: 0.542496511502 secs --- remaining: 10:44)"
       ]
      },
      {
       "output_type": "stream",
       "stream": "stdout",
       "text": [
        "\r",
        "Done image 812 of 2000 (avg time: 0.542550932731 secs --- remaining: 10:44)"
       ]
      },
      {
       "output_type": "stream",
       "stream": "stdout",
       "text": [
        "\r",
        "Done image 813 of 2000 (avg time: 0.542651820827 secs --- remaining: 10:43)"
       ]
      },
      {
       "output_type": "stream",
       "stream": "stdout",
       "text": [
        "\r",
        "Done image 814 of 2000 (avg time: 0.542516782971 secs --- remaining: 10:42)"
       ]
      },
      {
       "output_type": "stream",
       "stream": "stdout",
       "text": [
        "\r",
        "Done image 815 of 2000 (avg time: 0.542063487803 secs --- remaining: 10:41)"
       ]
      },
      {
       "output_type": "stream",
       "stream": "stdout",
       "text": [
        "\r",
        "Done image 816 of 2000 (avg time: 0.541662665884 secs --- remaining: 10:40)"
       ]
      },
      {
       "output_type": "stream",
       "stream": "stdout",
       "text": [
        "\r",
        "Done image 817 of 2000 (avg time: 0.541273669975 secs --- remaining: 10:39)"
       ]
      },
      {
       "output_type": "stream",
       "stream": "stdout",
       "text": [
        "\r",
        "Done image 818 of 2000 (avg time: 0.540815981899 secs --- remaining: 10:38)"
       ]
      },
      {
       "output_type": "stream",
       "stream": "stdout",
       "text": [
        "\r",
        "Done image 819 of 2000 (avg time: 0.54039101746 secs --- remaining: 10:37)"
       ]
      },
      {
       "output_type": "stream",
       "stream": "stdout",
       "text": [
        "\r",
        "Done image 820 of 2000 (avg time: 0.539967569161 secs --- remaining: 10:36)"
       ]
      },
      {
       "output_type": "stream",
       "stream": "stdout",
       "text": [
        "\r",
        "Done image 821 of 2000 (avg time: 0.539819575864 secs --- remaining: 10:35)"
       ]
      },
      {
       "output_type": "stream",
       "stream": "stdout",
       "text": [
        "\r",
        "Done image 822 of 2000 (avg time: 0.5393919432 secs --- remaining: 10:34)"
       ]
      },
      {
       "output_type": "stream",
       "stream": "stdout",
       "text": [
        "\r",
        "Done image 823 of 2000 (avg time: 0.538930690694 secs --- remaining: 10:33)"
       ]
      },
      {
       "output_type": "stream",
       "stream": "stdout",
       "text": [
        "\r",
        "Done image 824 of 2000 (avg time: 0.53857100978 secs --- remaining: 10:32)"
       ]
      },
      {
       "output_type": "stream",
       "stream": "stdout",
       "text": [
        "\r",
        "Done image 825 of 2000 (avg time: 0.538190175777 secs --- remaining: 10:31)"
       ]
      },
      {
       "output_type": "stream",
       "stream": "stdout",
       "text": [
        "\r",
        "Done image 826 of 2000 (avg time: 0.537788128478 secs --- remaining: 10:30)"
       ]
      },
      {
       "output_type": "stream",
       "stream": "stdout",
       "text": [
        "\r",
        "Done image 827 of 2000 (avg time: 0.537364891474 secs --- remaining: 10:29)"
       ]
      },
      {
       "output_type": "stream",
       "stream": "stdout",
       "text": [
        "\r",
        "Done image 828 of 2000 (avg time: 0.537157649154 secs --- remaining: 10:29)"
       ]
      },
      {
       "output_type": "stream",
       "stream": "stdout",
       "text": [
        "\r",
        "Done image 829 of 2000 (avg time: 0.536805665349 secs --- remaining: 10:28)"
       ]
      },
      {
       "output_type": "stream",
       "stream": "stdout",
       "text": [
        "\r",
        "Done image 830 of 2000 (avg time: 0.536511456206 secs --- remaining: 10:27)"
       ]
      },
      {
       "output_type": "stream",
       "stream": "stdout",
       "text": [
        "\r",
        "Done image 831 of 2000 (avg time: 0.536146366539 secs --- remaining: 10:26)"
       ]
      },
      {
       "output_type": "stream",
       "stream": "stdout",
       "text": [
        "\r",
        "Done image 832 of 2000 (avg time: 0.535726229254 secs --- remaining: 10:25)"
       ]
      },
      {
       "output_type": "stream",
       "stream": "stdout",
       "text": [
        "\r",
        "Done image 833 of 2000 (avg time: 0.535333389573 secs --- remaining: 10:24)"
       ]
      },
      {
       "output_type": "stream",
       "stream": "stdout",
       "text": [
        "\r",
        "Done image 834 of 2000 (avg time: 0.534870587994 secs --- remaining: 10:23)"
       ]
      },
      {
       "output_type": "stream",
       "stream": "stdout",
       "text": [
        "\r",
        "Done image 835 of 2000 (avg time: 0.534388266682 secs --- remaining: 10:22)"
       ]
      },
      {
       "output_type": "stream",
       "stream": "stdout",
       "text": [
        "\r",
        "Done image 836 of 2000 (avg time: 0.53394110029 secs --- remaining: 10:20)"
       ]
      },
      {
       "output_type": "stream",
       "stream": "stdout",
       "text": [
        "\r",
        "Done image 837 of 2000 (avg time: 0.533550699173 secs --- remaining: 10:19)"
       ]
      },
      {
       "output_type": "stream",
       "stream": "stdout",
       "text": [
        "\r",
        "Done image 838 of 2000 (avg time: 0.533139358686 secs --- remaining: 10:18)"
       ]
      },
      {
       "output_type": "stream",
       "stream": "stdout",
       "text": [
        "\r",
        "Done image 839 of 2000 (avg time: 0.532778920162 secs --- remaining: 10:18)"
       ]
      },
      {
       "output_type": "stream",
       "stream": "stdout",
       "text": [
        "\r",
        "Done image 840 of 2000 (avg time: 0.532343763517 secs --- remaining: 10:16)"
       ]
      },
      {
       "output_type": "stream",
       "stream": "stdout",
       "text": [
        "\r",
        "Done image 841 of 2000 (avg time: 0.531985611927 secs --- remaining: 10:16)"
       ]
      },
      {
       "output_type": "stream",
       "stream": "stdout",
       "text": [
        "\r",
        "Done image 842 of 2000 (avg time: 0.531597675095 secs --- remaining: 10:15)"
       ]
      },
      {
       "output_type": "stream",
       "stream": "stdout",
       "text": [
        "\r",
        "Done image 843 of 2000 (avg time: 0.531322641113 secs --- remaining: 10:14)"
       ]
      },
      {
       "output_type": "stream",
       "stream": "stdout",
       "text": [
        "\r",
        "Done image 844 of 2000 (avg time: 0.531111701706 secs --- remaining: 10:13)"
       ]
      },
      {
       "output_type": "stream",
       "stream": "stdout",
       "text": [
        "\r",
        "Done image 845 of 2000 (avg time: 0.530786098036 secs --- remaining: 10:12)"
       ]
      },
      {
       "output_type": "stream",
       "stream": "stdout",
       "text": [
        "\r",
        "Done image 846 of 2000 (avg time: 0.530455846291 secs --- remaining: 10:11)"
       ]
      },
      {
       "output_type": "stream",
       "stream": "stdout",
       "text": [
        "\r",
        "Done image 847 of 2000 (avg time: 0.529983622567 secs --- remaining: 10:10)"
       ]
      },
      {
       "output_type": "stream",
       "stream": "stdout",
       "text": [
        "\r",
        "Done image 848 of 2000 (avg time: 0.529507412085 secs --- remaining: 10:9)"
       ]
      },
      {
       "output_type": "stream",
       "stream": "stdout",
       "text": [
        "\r",
        "Done image 849 of 2000 (avg time: 0.529090203397 secs --- remaining: 10:8)"
       ]
      },
      {
       "output_type": "stream",
       "stream": "stdout",
       "text": [
        "\r",
        "Done image 850 of 2000 (avg time: 0.528709932724 secs --- remaining: 10:7)"
       ]
      },
      {
       "output_type": "stream",
       "stream": "stdout",
       "text": [
        "\r",
        "Done image 851 of 2000 (avg time: 0.528380392863 secs --- remaining: 10:6)"
       ]
      },
      {
       "output_type": "stream",
       "stream": "stdout",
       "text": [
        "\r",
        "Done image 852 of 2000 (avg time: 0.528016795866 secs --- remaining: 10:5)"
       ]
      },
      {
       "output_type": "stream",
       "stream": "stdout",
       "text": [
        "\r",
        "Done image 853 of 2000 (avg time: 0.527666450664 secs --- remaining: 10:4)"
       ]
      },
      {
       "output_type": "stream",
       "stream": "stdout",
       "text": [
        "\r",
        "Done image 854 of 2000 (avg time: 0.527302124905 secs --- remaining: 10:3)"
       ]
      },
      {
       "output_type": "stream",
       "stream": "stdout",
       "text": [
        "\r",
        "Done image 855 of 2000 (avg time: 0.52690683737 secs --- remaining: 10:2)"
       ]
      },
      {
       "output_type": "stream",
       "stream": "stdout",
       "text": [
        "\r",
        "Done image 856 of 2000 (avg time: 0.526591378861 secs --- remaining: 10:1)"
       ]
      },
      {
       "output_type": "stream",
       "stream": "stdout",
       "text": [
        "\r",
        "Done image 857 of 2000 (avg time: 0.526199263015 secs --- remaining: 10:0)"
       ]
      },
      {
       "output_type": "stream",
       "stream": "stdout",
       "text": [
        "\r",
        "Done image 858 of 2000 (avg time: 0.52582805759 secs --- remaining: 9:59)"
       ]
      },
      {
       "output_type": "stream",
       "stream": "stdout",
       "text": [
        "\r",
        "Done image 859 of 2000 (avg time: 0.525378665813 secs --- remaining: 9:58)"
       ]
      },
      {
       "output_type": "stream",
       "stream": "stdout",
       "text": [
        "\r",
        "Done image 860 of 2000 (avg time: 0.524933143498 secs --- remaining: 9:57)"
       ]
      },
      {
       "output_type": "stream",
       "stream": "stdout",
       "text": [
        "\r",
        "Done image 861 of 2000 (avg time: 0.524517130686 secs --- remaining: 9:56)"
       ]
      },
      {
       "output_type": "stream",
       "stream": "stdout",
       "text": [
        "\r",
        "Done image 862 of 2000 (avg time: 0.524168643863 secs --- remaining: 9:55)"
       ]
      },
      {
       "output_type": "stream",
       "stream": "stdout",
       "text": [
        "\r",
        "Done image 863 of 2000 (avg time: 0.523769155697 secs --- remaining: 9:55)"
       ]
      },
      {
       "output_type": "stream",
       "stream": "stdout",
       "text": [
        "\r",
        "Done image 864 of 2000 (avg time: 0.523406820352 secs --- remaining: 9:54)"
       ]
      },
      {
       "output_type": "stream",
       "stream": "stdout",
       "text": [
        "\r",
        "Done image 865 of 2000 (avg time: 0.523058279007 secs --- remaining: 9:53)"
       ]
      },
      {
       "output_type": "stream",
       "stream": "stdout",
       "text": [
        "\r",
        "Done image 866 of 2000 (avg time: 0.522730769033 secs --- remaining: 9:52)"
       ]
      },
      {
       "output_type": "stream",
       "stream": "stdout",
       "text": [
        "\r",
        "Done image 867 of 2000 (avg time: 0.522672968526 secs --- remaining: 9:51)"
       ]
      },
      {
       "output_type": "stream",
       "stream": "stdout",
       "text": [
        "\r",
        "Done image 868 of 2000 (avg time: 0.522375969673 secs --- remaining: 9:50)"
       ]
      },
      {
       "output_type": "stream",
       "stream": "stdout",
       "text": [
        "\r",
        "Done image 869 of 2000 (avg time: 0.522055793905 secs --- remaining: 9:49)"
       ]
      },
      {
       "output_type": "stream",
       "stream": "stdout",
       "text": [
        "\r",
        "Done image 870 of 2000 (avg time: 0.521703927306 secs --- remaining: 9:49)"
       ]
      },
      {
       "output_type": "stream",
       "stream": "stdout",
       "text": [
        "\r",
        "Done image 871 of 2000 (avg time: 0.521384113152 secs --- remaining: 9:48)"
       ]
      },
      {
       "output_type": "stream",
       "stream": "stdout",
       "text": [
        "\r",
        "Done image 872 of 2000 (avg time: 0.520937850795 secs --- remaining: 9:47)"
       ]
      },
      {
       "output_type": "stream",
       "stream": "stdout",
       "text": [
        "\r",
        "Done image 873 of 2000 (avg time: 0.520491103831 secs --- remaining: 9:46)"
       ]
      },
      {
       "output_type": "stream",
       "stream": "stdout",
       "text": [
        "\r",
        "Done image 874 of 2000 (avg time: 0.520075588499 secs --- remaining: 9:45)"
       ]
      },
      {
       "output_type": "stream",
       "stream": "stdout",
       "text": [
        "\r",
        "Done image 875 of 2000 (avg time: 0.519743617539 secs --- remaining: 9:44)"
       ]
      },
      {
       "output_type": "stream",
       "stream": "stdout",
       "text": [
        "\r",
        "Done image 876 of 2000 (avg time: 0.519433102559 secs --- remaining: 9:43)"
       ]
      },
      {
       "output_type": "stream",
       "stream": "stdout",
       "text": [
        "\r",
        "Done image 877 of 2000 (avg time: 0.519080490892 secs --- remaining: 9:42)"
       ]
      },
      {
       "output_type": "stream",
       "stream": "stdout",
       "text": [
        "\r",
        "Done image 878 of 2000 (avg time: 0.518774771175 secs --- remaining: 9:41)"
       ]
      },
      {
       "output_type": "stream",
       "stream": "stdout",
       "text": [
        "\r",
        "Done image 879 of 2000 (avg time: 0.518382946199 secs --- remaining: 9:40)"
       ]
      },
      {
       "output_type": "stream",
       "stream": "stdout",
       "text": [
        "\r",
        "Done image 880 of 2000 (avg time: 0.518022735057 secs --- remaining: 9:39)"
       ]
      },
      {
       "output_type": "stream",
       "stream": "stdout",
       "text": [
        "\r",
        "Done image 881 of 2000 (avg time: 0.517631807025 secs --- remaining: 9:38)"
       ]
      },
      {
       "output_type": "stream",
       "stream": "stdout",
       "text": [
        "\r",
        "Done image 882 of 2000 (avg time: 0.51730382537 secs --- remaining: 9:37)"
       ]
      },
      {
       "output_type": "stream",
       "stream": "stdout",
       "text": [
        "\r",
        "Done image 883 of 2000 (avg time: 0.516971097003 secs --- remaining: 9:36)"
       ]
      },
      {
       "output_type": "stream",
       "stream": "stdout",
       "text": [
        "\r",
        "Done image 884 of 2000 (avg time: 0.516579556869 secs --- remaining: 9:35)"
       ]
      },
      {
       "output_type": "stream",
       "stream": "stdout",
       "text": [
        "\r",
        "Done image 885 of 2000 (avg time: 0.516147245941 secs --- remaining: 9:34)"
       ]
      },
      {
       "output_type": "stream",
       "stream": "stdout",
       "text": [
        "\r",
        "Done image 886 of 2000 (avg time: 0.515727611916 secs --- remaining: 9:34)"
       ]
      },
      {
       "output_type": "stream",
       "stream": "stdout",
       "text": [
        "\r",
        "Done image 887 of 2000 (avg time: 0.51535142542 secs --- remaining: 9:33)"
       ]
      },
      {
       "output_type": "stream",
       "stream": "stdout",
       "text": [
        "\r",
        "Done image 888 of 2000 (avg time: 0.514966166328 secs --- remaining: 9:32)"
       ]
      },
      {
       "output_type": "stream",
       "stream": "stdout",
       "text": [
        "\r",
        "Done image 889 of 2000 (avg time: 0.514628340421 secs --- remaining: 9:31)"
       ]
      },
      {
       "output_type": "stream",
       "stream": "stdout",
       "text": [
        "\r",
        "Done image 890 of 2000 (avg time: 0.514255272687 secs --- remaining: 9:30)"
       ]
      },
      {
       "output_type": "stream",
       "stream": "stdout",
       "text": [
        "\r",
        "Done image 891 of 2000 (avg time: 0.513959511246 secs --- remaining: 9:29)"
       ]
      },
      {
       "output_type": "stream",
       "stream": "stdout",
       "text": [
        "\r",
        "Done image 892 of 2000 (avg time: 0.513785096326 secs --- remaining: 9:28)"
       ]
      },
      {
       "output_type": "stream",
       "stream": "stdout",
       "text": [
        "\r",
        "Done image 893 of 2000 (avg time: 0.513493141072 secs --- remaining: 9:27)"
       ]
      },
      {
       "output_type": "stream",
       "stream": "stdout",
       "text": [
        "\r",
        "Done image 894 of 2000 (avg time: 0.513101570033 secs --- remaining: 9:26)"
       ]
      },
      {
       "output_type": "stream",
       "stream": "stdout",
       "text": [
        "\r",
        "Done image 895 of 2000 (avg time: 0.512853684436 secs --- remaining: 9:26)"
       ]
      },
      {
       "output_type": "stream",
       "stream": "stdout",
       "text": [
        "\r",
        "Done image 896 of 2000 (avg time: 0.512566526598 secs --- remaining: 9:25)"
       ]
      },
      {
       "output_type": "stream",
       "stream": "stdout",
       "text": [
        "\r",
        "Done image 897 of 2000 (avg time: 0.512235849897 secs --- remaining: 9:24)"
       ]
      },
      {
       "output_type": "stream",
       "stream": "stdout",
       "text": [
        "\r",
        "Done image 898 of 2000 (avg time: 0.511842339667 secs --- remaining: 9:23)"
       ]
      },
      {
       "output_type": "stream",
       "stream": "stdout",
       "text": [
        "\r",
        "Done image 899 of 2000 (avg time: 0.511430521541 secs --- remaining: 9:22)"
       ]
      },
      {
       "output_type": "stream",
       "stream": "stdout",
       "text": [
        "\r",
        "Done image 900 of 2000 (avg time: 0.511133503305 secs --- remaining: 9:21)"
       ]
      },
      {
       "output_type": "stream",
       "stream": "stdout",
       "text": [
        "\r",
        "Done image 901 of 2000 (avg time: 0.510808026976 secs --- remaining: 9:20)"
       ]
      },
      {
       "output_type": "stream",
       "stream": "stdout",
       "text": [
        "\r",
        "Done image 902 of 2000 (avg time: 0.510462826405 secs --- remaining: 9:19)"
       ]
      },
      {
       "output_type": "stream",
       "stream": "stdout",
       "text": [
        "\r",
        "Done image 903 of 2000 (avg time: 0.510126957324 secs --- remaining: 9:19)"
       ]
      },
      {
       "output_type": "stream",
       "stream": "stdout",
       "text": [
        "\r",
        "Done image 904 of 2000 (avg time: 0.509771760656 secs --- remaining: 9:18)"
       ]
      },
      {
       "output_type": "stream",
       "stream": "stdout",
       "text": [
        "\r",
        "Done image 905 of 2000 (avg time: 0.509403239812 secs --- remaining: 9:17)"
       ]
      },
      {
       "output_type": "stream",
       "stream": "stdout",
       "text": [
        "\r",
        "Done image 906 of 2000 (avg time: 0.509061422474 secs --- remaining: 9:16)"
       ]
      },
      {
       "output_type": "stream",
       "stream": "stdout",
       "text": [
        "\r",
        "Done image 907 of 2000 (avg time: 0.508690364823 secs --- remaining: 9:15)"
       ]
      },
      {
       "output_type": "stream",
       "stream": "stdout",
       "text": [
        "\r",
        "Done image 908 of 2000 (avg time: 0.508374980574 secs --- remaining: 9:14)"
       ]
      },
      {
       "output_type": "stream",
       "stream": "stdout",
       "text": [
        "\r",
        "Done image 909 of 2000 (avg time: 0.508078079433 secs --- remaining: 9:13)"
       ]
      },
      {
       "output_type": "stream",
       "stream": "stdout",
       "text": [
        "\r",
        "Done image 910 of 2000 (avg time: 0.507701593225 secs --- remaining: 9:12)"
       ]
      },
      {
       "output_type": "stream",
       "stream": "stdout",
       "text": [
        "\r",
        "Done image 911 of 2000 (avg time: 0.507282376551 secs --- remaining: 9:11)"
       ]
      },
      {
       "output_type": "stream",
       "stream": "stdout",
       "text": [
        "\r",
        "Done image 912 of 2000 (avg time: 0.50690943414 secs --- remaining: 9:11)"
       ]
      },
      {
       "output_type": "stream",
       "stream": "stdout",
       "text": [
        "\r",
        "Done image 913 of 2000 (avg time: 0.50656050248 secs --- remaining: 9:10)"
       ]
      },
      {
       "output_type": "stream",
       "stream": "stdout",
       "text": [
        "\r",
        "Done image 914 of 2000 (avg time: 0.506222596976 secs --- remaining: 9:9)"
       ]
      },
      {
       "output_type": "stream",
       "stream": "stdout",
       "text": [
        "\r",
        "Done image 915 of 2000 (avg time: 0.505890359264 secs --- remaining: 9:8)"
       ]
      },
      {
       "output_type": "stream",
       "stream": "stdout",
       "text": [
        "\r",
        "Done image 916 of 2000 (avg time: 0.505549688246 secs --- remaining: 9:7)"
       ]
      },
      {
       "output_type": "stream",
       "stream": "stdout",
       "text": [
        "\r",
        "Done image 917 of 2000 (avg time: 0.505413135152 secs --- remaining: 9:6)"
       ]
      },
      {
       "output_type": "stream",
       "stream": "stdout",
       "text": [
        "\r",
        "Done image 918 of 2000 (avg time: 0.505081654114 secs --- remaining: 9:5)"
       ]
      },
      {
       "output_type": "stream",
       "stream": "stdout",
       "text": [
        "\r",
        "Done image 919 of 2000 (avg time: 0.504757836072 secs --- remaining: 9:5)"
       ]
      },
      {
       "output_type": "stream",
       "stream": "stdout",
       "text": [
        "\r",
        "Done image 920 of 2000 (avg time: 0.504568954762 secs --- remaining: 9:4)"
       ]
      },
      {
       "output_type": "stream",
       "stream": "stdout",
       "text": [
        "\r",
        "Done image 921 of 2000 (avg time: 0.504222583874 secs --- remaining: 9:3)"
       ]
      },
      {
       "output_type": "stream",
       "stream": "stdout",
       "text": [
        "\r",
        "Done image 922 of 2000 (avg time: 0.503868934264 secs --- remaining: 9:2)"
       ]
      },
      {
       "output_type": "stream",
       "stream": "stdout",
       "text": [
        "\r",
        "Done image 923 of 2000 (avg time: 0.503467281659 secs --- remaining: 9:1)"
       ]
      },
      {
       "output_type": "stream",
       "stream": "stdout",
       "text": [
        "\r",
        "Done image 924 of 2000 (avg time: 0.503077528928 secs --- remaining: 9:0)"
       ]
      },
      {
       "output_type": "stream",
       "stream": "stdout",
       "text": [
        "\r",
        "Done image 925 of 2000 (avg time: 0.50280447964 secs --- remaining: 9:0)"
       ]
      },
      {
       "output_type": "stream",
       "stream": "stdout",
       "text": [
        "\r",
        "Done image 926 of 2000 (avg time: 0.502530117765 secs --- remaining: 8:59)"
       ]
      },
      {
       "output_type": "stream",
       "stream": "stdout",
       "text": [
        "\r",
        "Done image 927 of 2000 (avg time: 0.502177576823 secs --- remaining: 8:58)"
       ]
      },
      {
       "output_type": "stream",
       "stream": "stdout",
       "text": [
        "\r",
        "Done image 928 of 2000 (avg time: 0.501833688071 secs --- remaining: 8:57)"
       ]
      },
      {
       "output_type": "stream",
       "stream": "stdout",
       "text": [
        "\r",
        "Done image 929 of 2000 (avg time: 0.50146683775 secs --- remaining: 8:56)"
       ]
      },
      {
       "output_type": "stream",
       "stream": "stdout",
       "text": [
        "\r",
        "Done image 930 of 2000 (avg time: 0.501090794962 secs --- remaining: 8:55)"
       ]
      },
      {
       "output_type": "stream",
       "stream": "stdout",
       "text": [
        "\r",
        "Done image 931 of 2000 (avg time: 0.50073234027 secs --- remaining: 8:54)"
       ]
      },
      {
       "output_type": "stream",
       "stream": "stdout",
       "text": [
        "\r",
        "Done image 932 of 2000 (avg time: 0.500350734173 secs --- remaining: 8:53)"
       ]
      },
      {
       "output_type": "stream",
       "stream": "stdout",
       "text": [
        "\r",
        "Done image 933 of 2000 (avg time: 0.499991289043 secs --- remaining: 8:52)"
       ]
      },
      {
       "output_type": "stream",
       "stream": "stdout",
       "text": [
        "\r",
        "Done image 934 of 2000 (avg time: 0.49963018601 secs --- remaining: 8:52)"
       ]
      },
      {
       "output_type": "stream",
       "stream": "stdout",
       "text": [
        "\r",
        "Done image 935 of 2000 (avg time: 0.499264458306 secs --- remaining: 8:51)"
       ]
      },
      {
       "output_type": "stream",
       "stream": "stdout",
       "text": [
        "\r",
        "Done image 936 of 2000 (avg time: 0.498888210146 secs --- remaining: 8:50)"
       ]
      },
      {
       "output_type": "stream",
       "stream": "stdout",
       "text": [
        "\r",
        "Done image 937 of 2000 (avg time: 0.49857458199 secs --- remaining: 8:49)"
       ]
      },
      {
       "output_type": "stream",
       "stream": "stdout",
       "text": [
        "\r",
        "Done image 938 of 2000 (avg time: 0.498209298228 secs --- remaining: 8:48)"
       ]
      },
      {
       "output_type": "stream",
       "stream": "stdout",
       "text": [
        "\r",
        "Done image 939 of 2000 (avg time: 0.4978415545 secs --- remaining: 8:47)"
       ]
      },
      {
       "output_type": "stream",
       "stream": "stdout",
       "text": [
        "\r",
        "Done image 940 of 2000 (avg time: 0.497474457328 secs --- remaining: 8:46)"
       ]
      },
      {
       "output_type": "stream",
       "stream": "stdout",
       "text": [
        "\r",
        "Done image 941 of 2000 (avg time: 0.497159054578 secs --- remaining: 8:45)"
       ]
      },
      {
       "output_type": "stream",
       "stream": "stdout",
       "text": [
        "\r",
        "Done image 942 of 2000 (avg time: 0.496779738403 secs --- remaining: 8:45)"
       ]
      },
      {
       "output_type": "stream",
       "stream": "stdout",
       "text": [
        "\r",
        "Done image 943 of 2000 (avg time: 0.496467075611 secs --- remaining: 8:44)"
       ]
      },
      {
       "output_type": "stream",
       "stream": "stdout",
       "text": [
        "\r",
        "Done image 944 of 2000 (avg time: 0.496084163302 secs --- remaining: 8:43)"
       ]
      },
      {
       "output_type": "stream",
       "stream": "stdout",
       "text": [
        "\r",
        "Done image 945 of 2000 (avg time: 0.495696223311 secs --- remaining: 8:42)"
       ]
      },
      {
       "output_type": "stream",
       "stream": "stdout",
       "text": [
        "\r",
        "Done image 946 of 2000 (avg time: 0.495345611633 secs --- remaining: 8:41)"
       ]
      },
      {
       "output_type": "stream",
       "stream": "stdout",
       "text": [
        "\r",
        "Done image 947 of 2000 (avg time: 0.494985001248 secs --- remaining: 8:40)"
       ]
      },
      {
       "output_type": "stream",
       "stream": "stdout",
       "text": [
        "\r",
        "Done image 948 of 2000 (avg time: 0.494655785244 secs --- remaining: 8:39)"
       ]
      },
      {
       "output_type": "stream",
       "stream": "stdout",
       "text": [
        "\r",
        "Done image 949 of 2000 (avg time: 0.494348829671 secs --- remaining: 8:39)"
       ]
      },
      {
       "output_type": "stream",
       "stream": "stdout",
       "text": [
        "\r",
        "Done image 950 of 2000 (avg time: 0.493972769796 secs --- remaining: 8:38)"
       ]
      },
      {
       "output_type": "stream",
       "stream": "stdout",
       "text": [
        "\r",
        "Done image 951 of 2000 (avg time: 0.493632067402 secs --- remaining: 8:37)"
       ]
      },
      {
       "output_type": "stream",
       "stream": "stdout",
       "text": [
        "\r",
        "Done image 952 of 2000 (avg time: 0.493324862697 secs --- remaining: 8:36)"
       ]
      },
      {
       "output_type": "stream",
       "stream": "stdout",
       "text": [
        "\r",
        "Done image 953 of 2000 (avg time: 0.493016484399 secs --- remaining: 8:35)"
       ]
      },
      {
       "output_type": "stream",
       "stream": "stdout",
       "text": [
        "\r",
        "Done image 954 of 2000 (avg time: 0.492690036684 secs --- remaining: 8:34)"
       ]
      },
      {
       "output_type": "stream",
       "stream": "stdout",
       "text": [
        "\r",
        "Done image 955 of 2000 (avg time: 0.492330415229 secs --- remaining: 8:33)"
       ]
      },
      {
       "output_type": "stream",
       "stream": "stdout",
       "text": [
        "\r",
        "Done image 956 of 2000 (avg time: 0.492027427211 secs --- remaining: 8:33)"
       ]
      },
      {
       "output_type": "stream",
       "stream": "stdout",
       "text": [
        "\r",
        "Done image 957 of 2000 (avg time: 0.491714063666 secs --- remaining: 8:32)"
       ]
      },
      {
       "output_type": "stream",
       "stream": "stdout",
       "text": [
        "\r",
        "Done image 958 of 2000 (avg time: 0.491388700801 secs --- remaining: 8:31)"
       ]
      },
      {
       "output_type": "stream",
       "stream": "stdout",
       "text": [
        "\r",
        "Done image 959 of 2000 (avg time: 0.491045094033 secs --- remaining: 8:30)"
       ]
      },
      {
       "output_type": "stream",
       "stream": "stdout",
       "text": [
        "\r",
        "Done image 960 of 2000 (avg time: 0.4906802428 secs --- remaining: 8:29)"
       ]
      },
      {
       "output_type": "stream",
       "stream": "stdout",
       "text": [
        "\r",
        "Done image 961 of 2000 (avg time: 0.490324676904 secs --- remaining: 8:28)"
       ]
      },
      {
       "output_type": "stream",
       "stream": "stdout",
       "text": [
        "\r",
        "Done image 962 of 2000 (avg time: 0.48996555669 secs --- remaining: 8:28)"
       ]
      },
      {
       "output_type": "stream",
       "stream": "stdout",
       "text": [
        "\r",
        "Done image 963 of 2000 (avg time: 0.489612651564 secs --- remaining: 8:27)"
       ]
      },
      {
       "output_type": "stream",
       "stream": "stdout",
       "text": [
        "\r",
        "Done image 964 of 2000 (avg time: 0.489259037453 secs --- remaining: 8:26)"
       ]
      },
      {
       "output_type": "stream",
       "stream": "stdout",
       "text": [
        "\r",
        "Done image 965 of 2000 (avg time: 0.488898271359 secs --- remaining: 8:25)"
       ]
      },
      {
       "output_type": "stream",
       "stream": "stdout",
       "text": [
        "\r",
        "Done image 966 of 2000 (avg time: 0.488563766401 secs --- remaining: 8:24)"
       ]
      },
      {
       "output_type": "stream",
       "stream": "stdout",
       "text": [
        "\r",
        "Done image 967 of 2000 (avg time: 0.488242656978 secs --- remaining: 8:23)"
       ]
      },
      {
       "output_type": "stream",
       "stream": "stdout",
       "text": [
        "\r",
        "Done image 968 of 2000 (avg time: 0.487964820321 secs --- remaining: 8:23)"
       ]
      },
      {
       "output_type": "stream",
       "stream": "stdout",
       "text": [
        "\r",
        "Done image 969 of 2000 (avg time: 0.487610512419 secs --- remaining: 8:22)"
       ]
      },
      {
       "output_type": "stream",
       "stream": "stdout",
       "text": [
        "\r",
        "Done image 970 of 2000 (avg time: 0.487296906362 secs --- remaining: 8:21)"
       ]
      },
      {
       "output_type": "stream",
       "stream": "stdout",
       "text": [
        "\r",
        "Done image 971 of 2000 (avg time: 0.486962757238 secs --- remaining: 8:20)"
       ]
      },
      {
       "output_type": "stream",
       "stream": "stdout",
       "text": [
        "\r",
        "Done image 972 of 2000 (avg time: 0.48663932471 secs --- remaining: 8:19)"
       ]
      },
      {
       "output_type": "stream",
       "stream": "stdout",
       "text": [
        "\r",
        "Done image 973 of 2000 (avg time: 0.486281231933 secs --- remaining: 8:18)"
       ]
      },
      {
       "output_type": "stream",
       "stream": "stdout",
       "text": [
        "\r",
        "Done image 974 of 2000 (avg time: 0.485915249066 secs --- remaining: 8:18)"
       ]
      },
      {
       "output_type": "stream",
       "stream": "stdout",
       "text": [
        "\r",
        "Done image 975 of 2000 (avg time: 0.485600481268 secs --- remaining: 8:17)"
       ]
      },
      {
       "output_type": "stream",
       "stream": "stdout",
       "text": [
        "\r",
        "Done image 976 of 2000 (avg time: 0.485278941226 secs --- remaining: 8:16)"
       ]
      },
      {
       "output_type": "stream",
       "stream": "stdout",
       "text": [
        "\r",
        "Done image 977 of 2000 (avg time: 0.485002878985 secs --- remaining: 8:15)"
       ]
      },
      {
       "output_type": "stream",
       "stream": "stdout",
       "text": [
        "\r",
        "Done image 978 of 2000 (avg time: 0.484701606178 secs --- remaining: 8:14)"
       ]
      },
      {
       "output_type": "stream",
       "stream": "stdout",
       "text": [
        "\r",
        "Done image 979 of 2000 (avg time: 0.484361548326 secs --- remaining: 8:14)"
       ]
      },
      {
       "output_type": "stream",
       "stream": "stdout",
       "text": [
        "\r",
        "Done image 980 of 2000 (avg time: 0.484027483655 secs --- remaining: 8:13)"
       ]
      },
      {
       "output_type": "stream",
       "stream": "stdout",
       "text": [
        "\r",
        "Done image 981 of 2000 (avg time: 0.483746224411 secs --- remaining: 8:12)"
       ]
      },
      {
       "output_type": "stream",
       "stream": "stdout",
       "text": [
        "\r",
        "Done image 982 of 2000 (avg time: 0.483496716646 secs --- remaining: 8:11)"
       ]
      },
      {
       "output_type": "stream",
       "stream": "stdout",
       "text": [
        "\r",
        "Done image 983 of 2000 (avg time: 0.483194380756 secs --- remaining: 8:10)"
       ]
      },
      {
       "output_type": "stream",
       "stream": "stdout",
       "text": [
        "\r",
        "Done image 984 of 2000 (avg time: 0.482849723555 secs --- remaining: 8:10)"
       ]
      },
      {
       "output_type": "stream",
       "stream": "stdout",
       "text": [
        "\r",
        "Done image 985 of 2000 (avg time: 0.482502226655 secs --- remaining: 8:9)"
       ]
      },
      {
       "output_type": "stream",
       "stream": "stdout",
       "text": [
        "\r",
        "Done image 986 of 2000 (avg time: 0.482187980335 secs --- remaining: 8:8)"
       ]
      },
      {
       "output_type": "stream",
       "stream": "stdout",
       "text": [
        "\r",
        "Done image 987 of 2000 (avg time: 0.481834717366 secs --- remaining: 8:7)"
       ]
      },
      {
       "output_type": "stream",
       "stream": "stdout",
       "text": [
        "\r",
        "Done image 988 of 2000 (avg time: 0.481539989747 secs --- remaining: 8:6)"
       ]
      },
      {
       "output_type": "stream",
       "stream": "stdout",
       "text": [
        "\r",
        "Done image 989 of 2000 (avg time: 0.481268487795 secs --- remaining: 8:6)"
       ]
      },
      {
       "output_type": "stream",
       "stream": "stdout",
       "text": [
        "\r",
        "Done image 990 of 2000 (avg time: 0.480947131947 secs --- remaining: 8:5)"
       ]
      },
      {
       "output_type": "stream",
       "stream": "stdout",
       "text": [
        "\r",
        "Done image 991 of 2000 (avg time: 0.480613484738 secs --- remaining: 8:4)"
       ]
      },
      {
       "output_type": "stream",
       "stream": "stdout",
       "text": [
        "\r",
        "Done image 992 of 2000 (avg time: 0.480283703809 secs --- remaining: 8:3)"
       ]
      },
      {
       "output_type": "stream",
       "stream": "stdout",
       "text": [
        "\r",
        "Done image 993 of 2000 (avg time: 0.479941960552 secs --- remaining: 8:2)"
       ]
      },
      {
       "output_type": "stream",
       "stream": "stdout",
       "text": [
        "\r",
        "Done image 994 of 2000 (avg time: 0.479626155499 secs --- remaining: 8:2)"
       ]
      },
      {
       "output_type": "stream",
       "stream": "stdout",
       "text": [
        "\r",
        "Done image 995 of 2000 (avg time: 0.479277386244 secs --- remaining: 8:1)"
       ]
      },
      {
       "output_type": "stream",
       "stream": "stdout",
       "text": [
        "\r",
        "Done image 996 of 2000 (avg time: 0.478969177248 secs --- remaining: 8:0)"
       ]
      },
      {
       "output_type": "stream",
       "stream": "stdout",
       "text": [
        "\r",
        "Done image 997 of 2000 (avg time: 0.478663096925 secs --- remaining: 7:59)"
       ]
      },
      {
       "output_type": "stream",
       "stream": "stdout",
       "text": [
        "\r",
        "Done image 998 of 2000 (avg time: 0.478341378011 secs --- remaining: 7:58)"
       ]
      },
      {
       "output_type": "stream",
       "stream": "stdout",
       "text": [
        "\r",
        "Done image 999 of 2000 (avg time: 0.478016007662 secs --- remaining: 7:58)"
       ]
      },
      {
       "output_type": "stream",
       "stream": "stdout",
       "text": [
        "\r",
        "Done image 1000 of 2000 (avg time: 0.477730563113 secs --- remaining: 7:57)"
       ]
      },
      {
       "output_type": "stream",
       "stream": "stdout",
       "text": [
        "\r",
        "Done image 1001 of 2000 (avg time: 0.477421380803 secs --- remaining: 7:56)"
       ]
      },
      {
       "output_type": "stream",
       "stream": "stdout",
       "text": [
        "\r",
        "Done image 1002 of 2000 (avg time: 0.477075826135 secs --- remaining: 7:55)"
       ]
      },
      {
       "output_type": "stream",
       "stream": "stdout",
       "text": [
        "\r",
        "Done image 1003 of 2000 (avg time: 0.476733962853 secs --- remaining: 7:54)"
       ]
      },
      {
       "output_type": "stream",
       "stream": "stdout",
       "text": [
        "\r",
        "Done image 1004 of 2000 (avg time: 0.476399278404 secs --- remaining: 7:54)"
       ]
      },
      {
       "output_type": "stream",
       "stream": "stdout",
       "text": [
        "\r",
        "Done image 1005 of 2000 (avg time: 0.476055011835 secs --- remaining: 7:53)"
       ]
      },
      {
       "output_type": "stream",
       "stream": "stdout",
       "text": [
        "\r",
        "Done image 1006 of 2000 (avg time: 0.475714324603 secs --- remaining: 7:52)"
       ]
      },
      {
       "output_type": "stream",
       "stream": "stdout",
       "text": [
        "\r",
        "Done image 1007 of 2000 (avg time: 0.475394459234 secs --- remaining: 7:51)"
       ]
      },
      {
       "output_type": "stream",
       "stream": "stdout",
       "text": [
        "\r",
        "Done image 1008 of 2000 (avg time: 0.475059666884 secs --- remaining: 7:50)"
       ]
      },
      {
       "output_type": "stream",
       "stream": "stdout",
       "text": [
        "\r",
        "Done image 1009 of 2000 (avg time: 0.474745431513 secs --- remaining: 7:49)"
       ]
      },
      {
       "output_type": "stream",
       "stream": "stdout",
       "text": [
        "\r",
        "Done image 1010 of 2000 (avg time: 0.474432108546 secs --- remaining: 7:49)"
       ]
      },
      {
       "output_type": "stream",
       "stream": "stdout",
       "text": [
        "\r",
        "Done image 1011 of 2000 (avg time: 0.474103820889 secs --- remaining: 7:48)"
       ]
      },
      {
       "output_type": "stream",
       "stream": "stdout",
       "text": [
        "\r",
        "Done image 1012 of 2000 (avg time: 0.473806353924 secs --- remaining: 7:47)"
       ]
      },
      {
       "output_type": "stream",
       "stream": "stdout",
       "text": [
        "\r",
        "Done image 1013 of 2000 (avg time: 0.473483560824 secs --- remaining: 7:46)"
       ]
      },
      {
       "output_type": "stream",
       "stream": "stdout",
       "text": [
        "\r",
        "Done image 1014 of 2000 (avg time: 0.473145794751 secs --- remaining: 7:46)"
       ]
      },
      {
       "output_type": "stream",
       "stream": "stdout",
       "text": [
        "\r",
        "Done image 1015 of 2000 (avg time: 0.472840332375 secs --- remaining: 7:45)"
       ]
      },
      {
       "output_type": "stream",
       "stream": "stdout",
       "text": [
        "\r",
        "Done image 1016 of 2000 (avg time: 0.472520469799 secs --- remaining: 7:44)"
       ]
      },
      {
       "output_type": "stream",
       "stream": "stdout",
       "text": [
        "\r",
        "Done image 1017 of 2000 (avg time: 0.472191975018 secs --- remaining: 7:43)"
       ]
      },
      {
       "output_type": "stream",
       "stream": "stdout",
       "text": [
        "\r",
        "Done image 1018 of 2000 (avg time: 0.471872237059 secs --- remaining: 7:42)"
       ]
      },
      {
       "output_type": "stream",
       "stream": "stdout",
       "text": [
        "\r",
        "Done image 1019 of 2000 (avg time: 0.471586045798 secs --- remaining: 7:42)"
       ]
      },
      {
       "output_type": "stream",
       "stream": "stdout",
       "text": [
        "\r",
        "Done image 1020 of 2000 (avg time: 0.471254759741 secs --- remaining: 7:41)"
       ]
      },
      {
       "output_type": "stream",
       "stream": "stdout",
       "text": [
        "\r",
        "Done image 1021 of 2000 (avg time: 0.470955444875 secs --- remaining: 7:40)"
       ]
      },
      {
       "output_type": "stream",
       "stream": "stdout",
       "text": [
        "\r",
        "Done image 1022 of 2000 (avg time: 0.470766074031 secs --- remaining: 7:39)"
       ]
      },
      {
       "output_type": "stream",
       "stream": "stdout",
       "text": [
        "\r",
        "Done image 1023 of 2000 (avg time: 0.470506351208 secs --- remaining: 7:39)"
       ]
      },
      {
       "output_type": "stream",
       "stream": "stdout",
       "text": [
        "\r",
        "Done image 1024 of 2000 (avg time: 0.470183303182 secs --- remaining: 7:38)"
       ]
      },
      {
       "output_type": "stream",
       "stream": "stdout",
       "text": [
        "\r",
        "Done image 1025 of 2000 (avg time: 0.469847951019 secs --- remaining: 7:37)"
       ]
      },
      {
       "output_type": "stream",
       "stream": "stdout",
       "text": [
        "\r",
        "Done image 1026 of 2000 (avg time: 0.469515530485 secs --- remaining: 7:36)"
       ]
      },
      {
       "output_type": "stream",
       "stream": "stdout",
       "text": [
        "\r",
        "Done image 1027 of 2000 (avg time: 0.46923629064 secs --- remaining: 7:36)"
       ]
      },
      {
       "output_type": "stream",
       "stream": "stdout",
       "text": [
        "\r",
        "Done image 1028 of 2000 (avg time: 0.468973882228 secs --- remaining: 7:35)"
       ]
      },
      {
       "output_type": "stream",
       "stream": "stdout",
       "text": [
        "\r",
        "Done image 1029 of 2000 (avg time: 0.468669740668 secs --- remaining: 7:34)"
       ]
      },
      {
       "output_type": "stream",
       "stream": "stdout",
       "text": [
        "\r",
        "Done image 1030 of 2000 (avg time: 0.468378715672 secs --- remaining: 7:33)"
       ]
      },
      {
       "output_type": "stream",
       "stream": "stdout",
       "text": [
        "\r",
        "Done image 1031 of 2000 (avg time: 0.468080055113 secs --- remaining: 7:33)"
       ]
      },
      {
       "output_type": "stream",
       "stream": "stdout",
       "text": [
        "\r",
        "Done image 1032 of 2000 (avg time: 0.467765882885 secs --- remaining: 7:32)"
       ]
      },
      {
       "output_type": "stream",
       "stream": "stdout",
       "text": [
        "\r",
        "Done image 1033 of 2000 (avg time: 0.467439094872 secs --- remaining: 7:31)"
       ]
      },
      {
       "output_type": "stream",
       "stream": "stdout",
       "text": [
        "\r",
        "Done image 1034 of 2000 (avg time: 0.467126894688 secs --- remaining: 7:30)"
       ]
      },
      {
       "output_type": "stream",
       "stream": "stdout",
       "text": [
        "\r",
        "Done image 1035 of 2000 (avg time: 0.466818424726 secs --- remaining: 7:30)"
       ]
      },
      {
       "output_type": "stream",
       "stream": "stdout",
       "text": [
        "\r",
        "Done image 1036 of 2000 (avg time: 0.466543001977 secs --- remaining: 7:29)"
       ]
      },
      {
       "output_type": "stream",
       "stream": "stdout",
       "text": [
        "\r",
        "Done image 1037 of 2000 (avg time: 0.466238107066 secs --- remaining: 7:28)"
       ]
      },
      {
       "output_type": "stream",
       "stream": "stdout",
       "text": [
        "\r",
        "Done image 1038 of 2000 (avg time: 0.465926308031 secs --- remaining: 7:27)"
       ]
      },
      {
       "output_type": "stream",
       "stream": "stdout",
       "text": [
        "\r",
        "Done image 1039 of 2000 (avg time: 0.465661804034 secs --- remaining: 7:27)"
       ]
      },
      {
       "output_type": "stream",
       "stream": "stdout",
       "text": [
        "\r",
        "Done image 1040 of 2000 (avg time: 0.465355501624 secs --- remaining: 7:26)"
       ]
      },
      {
       "output_type": "stream",
       "stream": "stdout",
       "text": [
        "\r",
        "Done image 1041 of 2000 (avg time: 0.465051858988 secs --- remaining: 7:25)"
       ]
      },
      {
       "output_type": "stream",
       "stream": "stdout",
       "text": [
        "\r",
        "Done image 1042 of 2000 (avg time: 0.464779112277 secs --- remaining: 7:24)"
       ]
      },
      {
       "output_type": "stream",
       "stream": "stdout",
       "text": [
        "\r",
        "Done image 1043 of 2000 (avg time: 0.464537069944 secs --- remaining: 7:24)"
       ]
      },
      {
       "output_type": "stream",
       "stream": "stdout",
       "text": [
        "\r",
        "Done image 1044 of 2000 (avg time: 0.464283496683 secs --- remaining: 7:23)"
       ]
      },
      {
       "output_type": "stream",
       "stream": "stdout",
       "text": [
        "\r",
        "Done image 1045 of 2000 (avg time: 0.463963951253 secs --- remaining: 7:22)"
       ]
      },
      {
       "output_type": "stream",
       "stream": "stdout",
       "text": [
        "\r",
        "Done image 1046 of 2000 (avg time: 0.463646065768 secs --- remaining: 7:21)"
       ]
      },
      {
       "output_type": "stream",
       "stream": "stdout",
       "text": [
        "\r",
        "Done image 1047 of 2000 (avg time: 0.463385134253 secs --- remaining: 7:21)"
       ]
      },
      {
       "output_type": "stream",
       "stream": "stdout",
       "text": [
        "\r",
        "Done image 1048 of 2000 (avg time: 0.463110924222 secs --- remaining: 7:20)"
       ]
      },
      {
       "output_type": "stream",
       "stream": "stdout",
       "text": [
        "\r",
        "Done image 1049 of 2000 (avg time: 0.462805148079 secs --- remaining: 7:19)"
       ]
      },
      {
       "output_type": "stream",
       "stream": "stdout",
       "text": [
        "\r",
        "Done image 1050 of 2000 (avg time: 0.462498740624 secs --- remaining: 7:18)"
       ]
      },
      {
       "output_type": "stream",
       "stream": "stdout",
       "text": [
        "\r",
        "Done image 1051 of 2000 (avg time: 0.462187219935 secs --- remaining: 7:18)"
       ]
      },
      {
       "output_type": "stream",
       "stream": "stdout",
       "text": [
        "\r",
        "Done image 1052 of 2000 (avg time: 0.461872222643 secs --- remaining: 7:17)"
       ]
      },
      {
       "output_type": "stream",
       "stream": "stdout",
       "text": [
        "\r",
        "Done image 1053 of 2000 (avg time: 0.461565991054 secs --- remaining: 7:16)"
       ]
      },
      {
       "output_type": "stream",
       "stream": "stdout",
       "text": [
        "\r",
        "Done image 1054 of 2000 (avg time: 0.461267734365 secs --- remaining: 7:15)"
       ]
      },
      {
       "output_type": "stream",
       "stream": "stdout",
       "text": [
        "\r",
        "Done image 1055 of 2000 (avg time: 0.460976740402 secs --- remaining: 7:15)"
       ]
      },
      {
       "output_type": "stream",
       "stream": "stdout",
       "text": [
        "\r",
        "Done image 1056 of 2000 (avg time: 0.460695234468 secs --- remaining: 7:14)"
       ]
      },
      {
       "output_type": "stream",
       "stream": "stdout",
       "text": [
        "\r",
        "Done image 1057 of 2000 (avg time: 0.460399265325 secs --- remaining: 7:13)"
       ]
      },
      {
       "output_type": "stream",
       "stream": "stdout",
       "text": [
        "\r",
        "Done image 1058 of 2000 (avg time: 0.460173483048 secs --- remaining: 7:13)"
       ]
      },
      {
       "output_type": "stream",
       "stream": "stdout",
       "text": [
        "\r",
        "Done image 1059 of 2000 (avg time: 0.459960333581 secs --- remaining: 7:12)"
       ]
      },
      {
       "output_type": "stream",
       "stream": "stdout",
       "text": [
        "\r",
        "Done image 1060 of 2000 (avg time: 0.459785436033 secs --- remaining: 7:11)"
       ]
      },
      {
       "output_type": "stream",
       "stream": "stdout",
       "text": [
        "\r",
        "Done image 1061 of 2000 (avg time: 0.459593210517 secs --- remaining: 7:11)"
       ]
      },
      {
       "output_type": "stream",
       "stream": "stdout",
       "text": [
        "\r",
        "Done image 1062 of 2000 (avg time: 0.459409684363 secs --- remaining: 7:10)"
       ]
      },
      {
       "output_type": "stream",
       "stream": "stdout",
       "text": [
        "\r",
        "Done image 1063 of 2000 (avg time: 0.459098713066 secs --- remaining: 7:9)"
       ]
      },
      {
       "output_type": "stream",
       "stream": "stdout",
       "text": [
        "\r",
        "Done image 1064 of 2000 (avg time: 0.458793300978 secs --- remaining: 7:8)"
       ]
      },
      {
       "output_type": "stream",
       "stream": "stdout",
       "text": [
        "\r",
        "Done image 1065 of 2000 (avg time: 0.458508150663 secs --- remaining: 7:8)"
       ]
      },
      {
       "output_type": "stream",
       "stream": "stdout",
       "text": [
        "\r",
        "Done image 1066 of 2000 (avg time: 0.458257608807 secs --- remaining: 7:7)"
       ]
      },
      {
       "output_type": "stream",
       "stream": "stdout",
       "text": [
        "\r",
        "Done image 1067 of 2000 (avg time: 0.457992683189 secs --- remaining: 7:6)"
       ]
      },
      {
       "output_type": "stream",
       "stream": "stdout",
       "text": [
        "\r",
        "Done image 1068 of 2000 (avg time: 0.457735745231 secs --- remaining: 7:6)"
       ]
      },
      {
       "output_type": "stream",
       "stream": "stdout",
       "text": [
        "\r",
        "Done image 1069 of 2000 (avg time: 0.45749169109 secs --- remaining: 7:5)"
       ]
      },
      {
       "output_type": "stream",
       "stream": "stdout",
       "text": [
        "\r",
        "Done image 1070 of 2000 (avg time: 0.45723064184 secs --- remaining: 7:4)"
       ]
      },
      {
       "output_type": "stream",
       "stream": "stdout",
       "text": [
        "\r",
        "Done image 1071 of 2000 (avg time: 0.45696724462 secs --- remaining: 7:4)"
       ]
      },
      {
       "output_type": "stream",
       "stream": "stdout",
       "text": [
        "\r",
        "Done image 1072 of 2000 (avg time: 0.456723161424 secs --- remaining: 7:3)"
       ]
      },
      {
       "output_type": "stream",
       "stream": "stdout",
       "text": [
        "\r",
        "Done image 1073 of 2000 (avg time: 0.4564795887 secs --- remaining: 7:2)"
       ]
      },
      {
       "output_type": "stream",
       "stream": "stdout",
       "text": [
        "\r",
        "Done image 1074 of 2000 (avg time: 0.456249493222 secs --- remaining: 7:2)"
       ]
      },
      {
       "output_type": "stream",
       "stream": "stdout",
       "text": [
        "\r",
        "Done image 1075 of 2000 (avg time: 0.456010812499 secs --- remaining: 7:1)"
       ]
      },
      {
       "output_type": "stream",
       "stream": "stdout",
       "text": [
        "\r",
        "Done image 1076 of 2000 (avg time: 0.455703312087 secs --- remaining: 7:0)"
       ]
      },
      {
       "output_type": "stream",
       "stream": "stdout",
       "text": [
        "\r",
        "Done image 1077 of 2000 (avg time: 0.45539846867 secs --- remaining: 6:59)"
       ]
      },
      {
       "output_type": "stream",
       "stream": "stdout",
       "text": [
        "\r",
        "Done image 1078 of 2000 (avg time: 0.45512360815 secs --- remaining: 6:59)"
       ]
      },
      {
       "output_type": "stream",
       "stream": "stdout",
       "text": [
        "\r",
        "Done image 1079 of 2000 (avg time: 0.454887315079 secs --- remaining: 6:58)"
       ]
      },
      {
       "output_type": "stream",
       "stream": "stdout",
       "text": [
        "\r",
        "Done image 1080 of 2000 (avg time: 0.45459762268 secs --- remaining: 6:57)"
       ]
      },
      {
       "output_type": "stream",
       "stream": "stdout",
       "text": [
        "\r",
        "Done image 1081 of 2000 (avg time: 0.45437225132 secs --- remaining: 6:57)"
       ]
      },
      {
       "output_type": "stream",
       "stream": "stdout",
       "text": [
        "\r",
        "Done image 1082 of 2000 (avg time: 0.454151054278 secs --- remaining: 6:56)"
       ]
      },
      {
       "output_type": "stream",
       "stream": "stdout",
       "text": [
        "\r",
        "Done image 1083 of 2000 (avg time: 0.453883220349 secs --- remaining: 6:55)"
       ]
      },
      {
       "output_type": "stream",
       "stream": "stdout",
       "text": [
        "\r",
        "Done image 1084 of 2000 (avg time: 0.453702789737 secs --- remaining: 6:55)"
       ]
      },
      {
       "output_type": "stream",
       "stream": "stdout",
       "text": [
        "\r",
        "Done image 1085 of 2000 (avg time: 0.453487754088 secs --- remaining: 6:54)"
       ]
      },
      {
       "output_type": "stream",
       "stream": "stdout",
       "text": [
        "\r",
        "Done image 1086 of 2000 (avg time: 0.453327040335 secs --- remaining: 6:53)"
       ]
      },
      {
       "output_type": "stream",
       "stream": "stdout",
       "text": [
        "\r",
        "Done image 1087 of 2000 (avg time: 0.453069221447 secs --- remaining: 6:53)"
       ]
      },
      {
       "output_type": "stream",
       "stream": "stdout",
       "text": [
        "\r",
        "Done image 1088 of 2000 (avg time: 0.452879529792 secs --- remaining: 6:52)"
       ]
      },
      {
       "output_type": "stream",
       "stream": "stdout",
       "text": [
        "\r",
        "Done image 1089 of 2000 (avg time: 0.452580315476 secs --- remaining: 6:51)"
       ]
      },
      {
       "output_type": "stream",
       "stream": "stdout",
       "text": [
        "\r",
        "Done image 1090 of 2000 (avg time: 0.452282963271 secs --- remaining: 6:51)"
       ]
      },
      {
       "output_type": "stream",
       "stream": "stdout",
       "text": [
        "\r",
        "Done image 1091 of 2000 (avg time: 0.452085426657 secs --- remaining: 6:50)"
       ]
      },
      {
       "output_type": "stream",
       "stream": "stdout",
       "text": [
        "\r",
        "Done image 1092 of 2000 (avg time: 0.452154361318 secs --- remaining: 6:50)"
       ]
      },
      {
       "output_type": "stream",
       "stream": "stdout",
       "text": [
        "\r",
        "Done image 1093 of 2000 (avg time: 0.451993022802 secs --- remaining: 6:49)"
       ]
      },
      {
       "output_type": "stream",
       "stream": "stdout",
       "text": [
        "\r",
        "Done image 1094 of 2000 (avg time: 0.451821583482 secs --- remaining: 6:48)"
       ]
      },
      {
       "output_type": "stream",
       "stream": "stdout",
       "text": [
        "\r",
        "Done image 1095 of 2000 (avg time: 0.451593354888 secs --- remaining: 6:48)"
       ]
      },
      {
       "output_type": "stream",
       "stream": "stdout",
       "text": [
        "\r",
        "Done image 1096 of 2000 (avg time: 0.4513430628 secs --- remaining: 6:47)"
       ]
      },
      {
       "output_type": "stream",
       "stream": "stdout",
       "text": [
        "\r",
        "Done image 1097 of 2000 (avg time: 0.451159416001 secs --- remaining: 6:46)"
       ]
      },
      {
       "output_type": "stream",
       "stream": "stdout",
       "text": [
        "\r",
        "Done image 1098 of 2000 (avg time: 0.450894890534 secs --- remaining: 6:46)"
       ]
      },
      {
       "output_type": "stream",
       "stream": "stdout",
       "text": [
        "\r",
        "Done image 1099 of 2000 (avg time: 0.450608186939 secs --- remaining: 6:45)"
       ]
      },
      {
       "output_type": "stream",
       "stream": "stdout",
       "text": [
        "\r",
        "Done image 1100 of 2000 (avg time: 0.450496665355 secs --- remaining: 6:44)"
       ]
      },
      {
       "output_type": "stream",
       "stream": "stdout",
       "text": [
        "\r",
        "Done image 1101 of 2000 (avg time: 0.450453230127 secs --- remaining: 6:44)"
       ]
      },
      {
       "output_type": "stream",
       "stream": "stdout",
       "text": [
        "\r",
        "Done image 1102 of 2000 (avg time: 0.450237993316 secs --- remaining: 6:43)"
       ]
      },
      {
       "output_type": "stream",
       "stream": "stdout",
       "text": [
        "\r",
        "Done image 1103 of 2000 (avg time: 0.450017190714 secs --- remaining: 6:43)"
       ]
      },
      {
       "output_type": "stream",
       "stream": "stdout",
       "text": [
        "\r",
        "Done image 1104 of 2000 (avg time: 0.449810644728 secs --- remaining: 6:42)"
       ]
      },
      {
       "output_type": "stream",
       "stream": "stdout",
       "text": [
        "\r",
        "Done image 1105 of 2000 (avg time: 0.449604204723 secs --- remaining: 6:41)"
       ]
      },
      {
       "output_type": "stream",
       "stream": "stdout",
       "text": [
        "\r",
        "Done image 1106 of 2000 (avg time: 0.449392307526 secs --- remaining: 6:41)"
       ]
      },
      {
       "output_type": "stream",
       "stream": "stdout",
       "text": [
        "\r",
        "Done image 1107 of 2000 (avg time: 0.44910168906 secs --- remaining: 6:40)"
       ]
      },
      {
       "output_type": "stream",
       "stream": "stdout",
       "text": [
        "\r",
        "Done image 1108 of 2000 (avg time: 0.448812463888 secs --- remaining: 6:39)"
       ]
      },
      {
       "output_type": "stream",
       "stream": "stdout",
       "text": [
        "\r",
        "Done image 1109 of 2000 (avg time: 0.448616311142 secs --- remaining: 6:39)"
       ]
      },
      {
       "output_type": "stream",
       "stream": "stdout",
       "text": [
        "\r",
        "Done image 1110 of 2000 (avg time: 0.448532017365 secs --- remaining: 6:38)"
       ]
      },
      {
       "output_type": "stream",
       "stream": "stdout",
       "text": [
        "\r",
        "Done image 1111 of 2000 (avg time: 0.448367331954 secs --- remaining: 6:38)"
       ]
      },
      {
       "output_type": "stream",
       "stream": "stdout",
       "text": [
        "\r",
        "Done image 1112 of 2000 (avg time: 0.448214434978 secs --- remaining: 6:37)"
       ]
      },
      {
       "output_type": "stream",
       "stream": "stdout",
       "text": [
        "\r",
        "Done image 1113 of 2000 (avg time: 0.447942972397 secs --- remaining: 6:36)"
       ]
      },
      {
       "output_type": "stream",
       "stream": "stdout",
       "text": [
        "\r",
        "Done image 1114 of 2000 (avg time: 0.447698114164 secs --- remaining: 6:36)"
       ]
      },
      {
       "output_type": "stream",
       "stream": "stdout",
       "text": [
        "\r",
        "Done image 1115 of 2000 (avg time: 0.447411993285 secs --- remaining: 6:35)"
       ]
      },
      {
       "output_type": "stream",
       "stream": "stdout",
       "text": [
        "\r",
        "Done image 1116 of 2000 (avg time: 0.447166921629 secs --- remaining: 6:34)"
       ]
      },
      {
       "output_type": "stream",
       "stream": "stdout",
       "text": [
        "\r",
        "Done image 1117 of 2000 (avg time: 0.446916748245 secs --- remaining: 6:34)"
       ]
      },
      {
       "output_type": "stream",
       "stream": "stdout",
       "text": [
        "\r",
        "Done image 1118 of 2000 (avg time: 0.446632477724 secs --- remaining: 6:33)"
       ]
      },
      {
       "output_type": "stream",
       "stream": "stdout",
       "text": [
        "\r",
        "Done image 1119 of 2000 (avg time: 0.446472576261 secs --- remaining: 6:32)"
       ]
      },
      {
       "output_type": "stream",
       "stream": "stdout",
       "text": [
        "\r",
        "Done image 1120 of 2000 (avg time: 0.44622251862 secs --- remaining: 6:32)"
       ]
      },
      {
       "output_type": "stream",
       "stream": "stdout",
       "text": [
        "\r",
        "Done image 1121 of 2000 (avg time: 0.44595431134 secs --- remaining: 6:31)"
       ]
      },
      {
       "output_type": "stream",
       "stream": "stdout",
       "text": [
        "\r",
        "Done image 1122 of 2000 (avg time: 0.445743112615 secs --- remaining: 6:30)"
       ]
      },
      {
       "output_type": "stream",
       "stream": "stdout",
       "text": [
        "\r",
        "Done image 1123 of 2000 (avg time: 0.445482166849 secs --- remaining: 6:30)"
       ]
      },
      {
       "output_type": "stream",
       "stream": "stdout",
       "text": [
        "\n",
        "done\n"
       ]
      },
      {
       "output_type": "stream",
       "stream": "stderr",
       "text": [
        "/usr/local/lib/python2.7/dist-packages/pyamg/strength.py:533: FutureWarning: elementwise comparison failed; returning scalar instead, but in the future will perform elementwise comparison\n",
        "  if B == 'ones':\n"
       ]
      }
     ],
     "prompt_number": 11
    },
    {
     "cell_type": "code",
     "collapsed": false,
     "input": [
      "gwv.showCustomGraph(np.load(\"/media/ilisescu/Data1/PhD/data/toy_quick/overlap_normalization_distMat-toy_quick.npy\"))\n",
      "gwv.showCustomGraph(np.load(\"/media/ilisescu/Data1/PhD/data/toy_quick/transition_costs_no_normalization-toy_quick.npy\"))\n",
      "gwv.showCustomGraph(np.load(\"/media/ilisescu/Data1/PhD/data/toy/transition_costs_no_normalization_toy1.npy\"))"
     ],
     "language": "python",
     "metadata": {},
     "outputs": [],
     "prompt_number": 13
    }
   ],
   "metadata": {}
  }
 ]
}