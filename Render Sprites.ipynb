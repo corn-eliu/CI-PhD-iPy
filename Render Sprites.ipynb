{
 "metadata": {
  "name": "",
  "signature": "sha256:7091c0c6c20f7d62d65ecb3ee30f3291b924fc3dbedcc807d28fb018218c7f91"
 },
 "nbformat": 3,
 "nbformat_minor": 0,
 "worksheets": [
  {
   "cells": [
    {
     "cell_type": "code",
     "collapsed": false,
     "input": [
      "## Imports and defines\n",
      "%pylab\n",
      "import numpy as np\n",
      "import sys\n",
      "import scipy as sp\n",
      "from IPython.display import clear_output\n",
      "\n",
      "import cv2\n",
      "import time\n",
      "import os\n",
      "import scipy.io as sio\n",
      "import glob\n",
      "import itertools\n",
      "\n",
      "import scipy.sparse\n",
      "import PIL.Image\n",
      "import pyamg\n",
      "\n",
      "from PIL import Image\n",
      "\n",
      "import GraphWithValues as gwv\n",
      "import VideoTexturesUtils as vtu\n",
      "import SemanticsDefinitionTabGUI as sdt\n",
      "import opengm\n",
      "import soundfile as sf\n",
      "\n",
      "from matplotlib.patches import Rectangle\n",
      "\n",
      "import shutil, errno\n",
      "\n",
      "def copyanything(src, dst):\n",
      "    try:\n",
      "        shutil.copytree(src, dst)\n",
      "    except OSError as exc: # python >2.5\n",
      "        if exc.errno == errno.ENOTDIR:\n",
      "            shutil.copy(src, dst)\n",
      "        else: raise\n",
      "\n",
      "\n",
      "DICT_SEQUENCE_NAME = 'semantic_sequence_name'\n",
      "DICT_BBOXES = 'bboxes'\n",
      "DICT_FOOTPRINTS = 'footprints' ## same as bboxes but it indicates the footprint of the sprite on the ground plane\n",
      "DICT_BBOX_ROTATIONS = 'bbox_rotations'\n",
      "DICT_BBOX_CENTERS = 'bbox_centers'\n",
      "DICT_FRAMES_LOCATIONS = 'frame_locs'\n",
      "DICT_MASK_LOCATION = 'frame_masks_location'\n",
      "DICT_SEQUENCE_FRAMES = 'sequence_frames'\n",
      "DICT_SEQUENCE_IDX = 'semantic_sequence_idx' # index of the instantiated sem sequence in the list of all used sem sequences for a synthesised sequence\n",
      "DICT_DESIRED_SEMANTICS = 'desired_semantics' # stores what the desired semantics are for a certain sprite \n",
      "#(I could index them by the frame when the toggle happened instead of using the below but maybe ordering is important and I would lose that using a dict)\n",
      "DICT_FRAME_SEMANTIC_TOGGLE = 'frame_semantic_toggle'# stores the frame index in the generated sequence when the desired semantics have changed\n",
      "DICT_ICON_TOP_LEFT = \"icon_top_left\"\n",
      "DICT_ICON_FRAME_KEY = \"icon_frame_key\"\n",
      "DICT_ICON_SIZE = \"icon_size\"\n",
      "DICT_REPRESENTATIVE_COLOR = 'representative_color'\n",
      "DICT_OFFSET = \"instance_offset\"\n",
      "DICT_SCALE = \"instance_scale\"\n",
      "DICT_FRAME_SEMANTICS = \"semantics_per_frame\"\n",
      "DICT_USED_SEQUENCES = \"used_semantic_sequences\"\n",
      "DICT_SEQUENCE_INSTANCES = \"sequence_instances\"\n",
      "DICT_SEQUENCE_BG = \"sequence_background_image\"\n",
      "DICT_SEQUENCE_LOCATION = \"sequence_location\"\n",
      "DICT_PATCHES_LOCATION = \"sequence_preloaded_patches_location\"\n",
      "DICT_TRANSITION_COSTS_LOCATION = \"sequence_precomputed_transition_costs_location\"\n",
      "\n",
      "GRAPH_MAX_COST = 10000000.0\n",
      "\n",
      "# dataPath = \"/home/ilisescu/PhD/data/\"\n",
      "# dataSet = \"havana/\"\n",
      "\n",
      "# dataPath = \"/media/ilisescu/Data1/PhD/data/\"\n",
      "# dataSet = \"clouds_subsample10/\"\n",
      "# dataSet = \"theme_park_cloudy/\"\n",
      "# dataSet = \"theme_park_sunny/\"\n",
      "# dataSet = \"wave1/\"\n",
      "# dataSet = \"wave1/\"\n",
      "formatString = \"{:05d}.png\"\n",
      "\n",
      "TL_IDX = 0\n",
      "TR_IDX = 1\n",
      "BR_IDX = 2\n",
      "BL_IDX = 3"
     ],
     "language": "python",
     "metadata": {},
     "outputs": [
      {
       "output_type": "stream",
       "stream": "stdout",
       "text": [
        "Using matplotlib backend: TkAgg\n",
        "Populating the interactive namespace from numpy and matplotlib\n"
       ]
      }
     ],
     "prompt_number": 1
    },
    {
     "cell_type": "code",
     "collapsed": false,
     "input": [
      "def multivariateNormal(data, mean, var, normalized = True) :\n",
      "    if (data.shape[0] != mean.shape[0] or np.any(data.shape[0] != np.array(var.shape)) \n",
      "        or len(var.shape) != 2 or var.shape[0] != var.shape[1]) :\n",
      "        raise Exception(\"Data shapes don't agree data(\" + np.string_(data.shape) + \") mean(\" + np.string_(mean.shape) + \n",
      "                        \") var(\" + np.string_(var.shape) + \")\")\n",
      "        \n",
      "    D = float(data.shape[0])\n",
      "    n = (1/(np.power(2.0*np.pi, D/2.0)*np.sqrt(np.linalg.det(var))))\n",
      "    if normalized :\n",
      "        p = n*np.exp(-0.5*np.sum(np.dot((data-mean).T, np.linalg.inv(var))*(data-mean).T, axis=-1))\n",
      "    else :\n",
      "        p = np.exp(-0.5*np.sum(np.dot((data-mean).T, np.linalg.inv(var))*(data-mean).T, axis=-1))\n",
      "        \n",
      "    return p\n",
      "\n",
      "def minusLogMultivariateNormal(data, mean, var, normalized = True) :\n",
      "    if (data.shape[0] != mean.shape[0] or np.any(data.shape[0] != np.array(var.shape)) \n",
      "        or len(var.shape) != 2 or var.shape[0] != var.shape[1]) :\n",
      "        raise Exception(\"Data shapes don't agree data(\" + np.string_(data.shape) + \") mean(\" + np.string_(mean.shape) + \n",
      "                        \") var(\" + np.string_(var.shape) + \")\")\n",
      "    \n",
      "    D = float(data.shape[0])\n",
      "    n = -0.5*np.log(np.linalg.det(var))-(D/2.0)*np.log(2.0*np.pi)\n",
      "    if normalized :\n",
      "        p = n -0.5*np.sum(np.dot((data-mean).T, np.linalg.inv(var))*(data-mean).T, axis=-1)\n",
      "    else :\n",
      "        p = -0.5*np.sum(np.dot((data-mean).T, np.linalg.inv(var))*(data-mean).T, axis=-1)\n",
      "        \n",
      "    return -p\n",
      "\n",
      "def vectorisedMinusLogMultiNormal(dataPoints, means, var, normalized = True) :\n",
      "    if (dataPoints.shape[1] != means.shape[1] or np.any(dataPoints.shape[1] != np.array(var.shape)) \n",
      "        or len(var.shape) != 2 or var.shape[0] != var.shape[1]) :\n",
      "        raise Exception(\"Data shapes don't agree data(\" + np.string_(dataPoints.shape) + \") mean(\" + np.string_(means.shape) + \n",
      "                        \") var(\" + np.string_(var.shape) + \")\")\n",
      "    \n",
      "    D = float(dataPoints.shape[1])\n",
      "    n = -0.5*np.log(np.linalg.det(var))-(D/2.0)*np.log(2.0*np.pi)\n",
      "    \n",
      "    ## this does 0.5*dot(dot(data-mean, varInv), data-mean)\n",
      "    varInv = np.linalg.inv(var)\n",
      "    dataMinusMean = dataPoints-means\n",
      "    \n",
      "    ps = []\n",
      "    for i in xrange(int(D)) :\n",
      "        ps.append(np.sum((dataMinusMean)*varInv[:, i], axis=-1))\n",
      "    \n",
      "    ps = np.array(ps).T\n",
      "    \n",
      "    ps = -0.5*np.sum(ps*(dataMinusMean), axis=-1)\n",
      "    \n",
      "    if normalized :\n",
      "        return n-ps\n",
      "    else :\n",
      "        return -ps"
     ],
     "language": "python",
     "metadata": {},
     "outputs": [],
     "prompt_number": 2
    },
    {
     "cell_type": "code",
     "collapsed": false,
     "input": [
      "## used for enlarging bbox used to decide size of patch around it (percentage)\n",
      "PATCH_BORDER = 0.4\n",
      "def getSpritePatch(sprite, frameKey, frameWidth, frameHeight) :\n",
      "    \"\"\"Computes sprite patch based on its bbox\n",
      "    \n",
      "        \\t  sprite      : dictionary containing relevant sprite data\n",
      "        \\t  frameKey    : the key of the frame the sprite patch is taken from\n",
      "        \\t  frameWidth  : width of original image\n",
      "        \\t  frameHeight : height of original image\n",
      "           \n",
      "        return: spritePatch, offset, patchSize,\n",
      "                [left, top, bottom, right] : array of booleans telling whether the expanded bbox touches the corresponding border of the image\"\"\"\n",
      "    \n",
      "    ## get the bbox for the current sprite frame, make it larger and find the rectangular patch to work with\n",
      "    ## boundaries of the patch [min, max]\n",
      "    \n",
      "    ## returns sprite patch based on bbox and returns it along with the offset [x, y] and it's size [rows, cols]\n",
      "    \n",
      "    ## make bbox bigger\n",
      "    largeBBox = sprite[DICT_BBOXES][frameKey].T\n",
      "    ## move to origin\n",
      "    largeBBox = np.dot(np.array([[-sprite[DICT_BBOX_CENTERS][frameKey][0], 1.0, 0.0], \n",
      "                                 [-sprite[DICT_BBOX_CENTERS][frameKey][1], 0.0, 1.0]]), \n",
      "                        np.vstack((np.ones((1, largeBBox.shape[1])), largeBBox)))\n",
      "    ## make bigger\n",
      "    largeBBox = np.dot(np.array([[0.0, 1.0 + PATCH_BORDER, 0.0], \n",
      "                                 [0.0, 0.0, 1.0 + PATCH_BORDER]]), \n",
      "                        np.vstack((np.ones((1, largeBBox.shape[1])), largeBBox)))\n",
      "    ## move back tooriginal center\n",
      "    largeBBox = np.dot(np.array([[sprite[DICT_BBOX_CENTERS][frameKey][0], 1.0, 0.0], \n",
      "                                 [sprite[DICT_BBOX_CENTERS][frameKey][1], 0.0, 1.0]]), \n",
      "                        np.vstack((np.ones((1, largeBBox.shape[1])), largeBBox)))\n",
      "    \n",
      "    xBounds = np.zeros(2); yBounds = np.zeros(2)\n",
      "    \n",
      "    ## make sure xBounds are in between 0 and width and yBounds are in between 0 and height\n",
      "    xBounds[0] = np.max((0, np.min(largeBBox[0, :])))\n",
      "    xBounds[1] = np.min((frameWidth, np.max(largeBBox[0, :])))\n",
      "    yBounds[0] = np.max((0, np.min(largeBBox[1, :])))\n",
      "    yBounds[1] = np.min((frameHeight, np.max(largeBBox[1, :])))\n",
      "    \n",
      "    offset = np.array([np.round(np.array([xBounds[0], yBounds[0]]))], dtype=int).T # [x, y]\n",
      "    patchSize = np.array(np.round(np.array([yBounds[1]-yBounds[0], xBounds[1]-xBounds[0]])), dtype=int) # [rows, cols]\n",
      "    \n",
      "    spritePatch = np.array(Image.open(sprite[DICT_FRAMES_LOCATIONS][frameKey]))[offset[1]:offset[1]+patchSize[0], offset[0]:offset[0]+patchSize[1], :]\n",
      "    \n",
      "    return spritePatch, offset, patchSize, [np.min((largeBBox)[0, :]) > 0.0 ,\n",
      "                                            np.min((largeBBox)[1, :]) > 0.0 ,\n",
      "                                            np.max((largeBBox)[1, :]) < frameHeight,\n",
      "                                            np.max((largeBBox)[0, :]) < frameWidth]\n",
      "\n",
      "\n",
      "def getPatchPriors(bgPatch, spritePatch, offset, patchSize, sprite, frameKey, prevFrameKey = None, prevFrameAlphaLoc = \"\",\n",
      "                   prevMaskImportance = 0.8, prevMaskDilate = 13, prevMaskBlurSize = 31, prevMaskBlurSigma = 2.5,\n",
      "                   diffPatchImportance = 0.015, diffPatchMultiplier = 1000.0, useOpticalFlow = True, useDiffPatch = False) :\n",
      "    \"\"\"Computes priors for background and sprite patches\n",
      "    \n",
      "        \\t  bgPatch             : background patch\n",
      "        \\t  spritePatch         : sprite patch\n",
      "        \\t  offset              : [x, y] position of patches in the coordinate system of the original images\n",
      "        \\t  patchSize           : num of [rows, cols] per patches\n",
      "        \\t  sprite              : dictionary containing relevant sprite data\n",
      "        \\t  frameKey            : the key of the frame the sprite patch is taken from\n",
      "        \\t  prevFrameKey        : the key of the previous frame\n",
      "        \\t  prevFrameAlphaLoc   : location of the previous frame\n",
      "        \\t  prevMaskImportance  : balances the importance of the prior based on the remapped mask of the previous frame\n",
      "        \\t  prevMaskDilate      : amount of dilation to perform on previous frame's mask\n",
      "        \\t  prevMaskBlurSize    : size of the blurring kernel perfomed on previous frame's mask\n",
      "        \\t  prevMaskBlurSigma   : variance of the gaussian blurring perfomed on previous frame's mask\n",
      "        \\t  diffPatchImportance : balances the importance of the prior based on difference of patch to background\n",
      "        \\t  diffPatchMultiplier : multiplier that changes the scaling of the difference based cost\n",
      "        \\t  useOpticalFlow      : modify sprite prior by the mask of the previous frame\n",
      "        \\t  useDiffPatch        : modify bg prior by difference of sprite to bg patch\n",
      "           \n",
      "        return: bgPrior, spritePrior\"\"\"\n",
      "    \n",
      "    ## get uniform prior for bg patch\n",
      "    bgPrior = -np.log(np.ones(patchSize)/np.prod(patchSize))\n",
      "    \n",
      "    ## get prior for sprite patch\n",
      "    spritePrior = np.zeros(patchSize)\n",
      "    xs = np.ndarray.flatten(np.arange(patchSize[1], dtype=float).reshape((patchSize[1], 1)).repeat(patchSize[0], axis=-1))\n",
      "    ys = np.ndarray.flatten(np.arange(patchSize[0], dtype=float).reshape((1, patchSize[0])).repeat(patchSize[1], axis=0))\n",
      "    data = np.vstack((xs.reshape((1, len(xs))), ys.reshape((1, len(ys)))))\n",
      "    \n",
      "    ## get covariance and means of prior on patch by using the bbox\n",
      "    spriteBBox = sprite[DICT_BBOXES][frameKey].T\n",
      "    segment1 = spriteBBox[:, 0] - spriteBBox[:, 1]\n",
      "    segment2 = spriteBBox[:, 1] - spriteBBox[:, 2]\n",
      "    sigmaX = np.linalg.norm(segment1)/3.7\n",
      "    sigmaY = np.linalg.norm(segment2)/3.7\n",
      "    \n",
      "    rotRadians = sprite[DICT_BBOX_ROTATIONS][frameKey]\n",
      "    \n",
      "    rotMat = np.array([[np.cos(rotRadians), -np.sin(rotRadians)], [np.sin(rotRadians), np.cos(rotRadians)]])\n",
      "    \n",
      "    means = np.reshape(sprite[DICT_BBOX_CENTERS][frameKey], (2, 1)) - offset\n",
      "    covs = np.dot(np.dot(rotMat.T, np.array([[sigmaX**2, 0.0], [0.0, sigmaY**2]])), rotMat)\n",
      "    \n",
      "    spritePrior = np.reshape(minusLogMultivariateNormal(data, means, covs, True), patchSize, order='F')\n",
      "    \n",
      "    ## change the spritePrior using optical flow stuff\n",
      "    if useOpticalFlow and prevFrameKey != None :\n",
      "        prevFrameName = sprite[DICT_FRAMES_LOCATIONS][prevFrameKey].split('/')[-1]\n",
      "        nextFrameName = sprite[DICT_FRAMES_LOCATIONS][frameKey].split('/')[-1]\n",
      "        \n",
      "        if os.path.isfile(prevFrameAlphaLoc+prevFrameName) :\n",
      "            alpha = np.array(Image.open(prevFrameAlphaLoc+prevFrameName))[:, :, -1]/255.0\n",
      "\n",
      "            flow = cv2.calcOpticalFlowFarneback(cv2.cvtColor(np.array(Image.open(dataPath+dataSet+nextFrameName)), cv2.COLOR_RGB2GRAY), \n",
      "                                                cv2.cvtColor(np.array(Image.open(dataPath+dataSet+prevFrameName)), cv2.COLOR_RGB2GRAY), \n",
      "                                                0.5, 3, 15, 3, 5, 1.1, 0)\n",
      "        \n",
      "            ## remap alpha according to flow\n",
      "            remappedFg = cv2.remap(alpha, flow[:, :, 0]+allXs, flow[:, :, 1]+allYs, cv2.INTER_LINEAR)\n",
      "            ## get patch\n",
      "            remappedFgPatch = remappedFg[offset[1]:offset[1]+patchSize[0], offset[0]:offset[0]+patchSize[1]]\n",
      "            remappedFgPatch = cv2.GaussianBlur(cv2.morphologyEx(remappedFgPatch, cv2.MORPH_DILATE, \n",
      "                                                                cv2.getStructuringElement(cv2.MORPH_ELLIPSE, (prevMaskDilate, prevMaskDilate))), \n",
      "                                               (prevMaskBlurSize, prevMaskBlurSize), prevMaskBlurSigma)\n",
      "\n",
      "            spritePrior = (1.0-prevMaskImportance)*spritePrior + prevMaskImportance*(-np.log((remappedFgPatch+0.01)/np.sum(remappedFgPatch+0.01)))\n",
      "    \n",
      "    \n",
      "    if useDiffPatch :\n",
      "        ## change the background prior to give higher cost for pixels to be classified as background if the difference between bgPatch and spritePatch is high\n",
      "        diffPatch = np.reshape(vectorisedMinusLogMultiNormal(spritePatch.reshape((np.prod(patchSize), 3)), \n",
      "                                                             bgPatch.reshape((np.prod(patchSize), 3)), \n",
      "                                                             np.eye(3)*diffPatchMultiplier, True), patchSize)\n",
      "        bgPrior = (1.0-diffPatchImportance)*bgPrior + diffPatchImportance*diffPatch\n",
      "        \n",
      "    \n",
      "    return bgPrior, spritePrior"
     ],
     "language": "python",
     "metadata": {},
     "outputs": [],
     "prompt_number": 3
    },
    {
     "cell_type": "code",
     "collapsed": false,
     "input": [
      "## from https://github.com/fbessho/PyPoi/blob/master/pypoi/poissonblending.py\n",
      "def blend(img_target, img_source, img_mask, offset=(0, 0)):\n",
      "    # compute regions to be blended\n",
      "    region_source = (\n",
      "        max(-offset[0], 0),\n",
      "        max(-offset[1], 0),\n",
      "        min(img_target.shape[0] - offset[0], img_source.shape[0]),\n",
      "        min(img_target.shape[1] - offset[1], img_source.shape[1]))\n",
      "    region_target = (\n",
      "        max(offset[0], 0),\n",
      "        max(offset[1], 0),\n",
      "        min(img_target.shape[0], img_source.shape[0] + offset[0]),\n",
      "        min(img_target.shape[1], img_source.shape[1] + offset[1]))\n",
      "    region_size = (region_source[2] - region_source[0], region_source[3] - region_source[1])\n",
      "\n",
      "    # clip and normalize mask image\n",
      "    img_mask = img_mask[region_source[0]:region_source[2], region_source[1]:region_source[3]]\n",
      "    img_mask[img_mask == 0] = False\n",
      "    img_mask[img_mask != False] = True\n",
      "\n",
      "    # create coefficient matrix\n",
      "    A = scipy.sparse.identity(np.prod(region_size), format='lil')\n",
      "    for y in range(region_size[0]):\n",
      "        for x in range(region_size[1]):\n",
      "            if img_mask[y, x]:\n",
      "                index = x + y * region_size[1]\n",
      "                A[index, index] = 4\n",
      "                if index + 1 < np.prod(region_size):\n",
      "                    A[index, index + 1] = -1\n",
      "                if index - 1 >= 0:\n",
      "                    A[index, index - 1] = -1\n",
      "                if index + region_size[1] < np.prod(region_size):\n",
      "                    A[index, index + region_size[1]] = -1\n",
      "                if index - region_size[1] >= 0:\n",
      "                    A[index, index - region_size[1]] = -1\n",
      "    A = A.tocsr()\n",
      "    \n",
      "    # create poisson matrix for b\n",
      "    P = pyamg.gallery.poisson(img_mask.shape)\n",
      "\n",
      "    startTime = time.time()\n",
      "    # for each layer (ex. RGB)\n",
      "    for num_layer in range(img_target.shape[2]):\n",
      "        # get subimages\n",
      "        t = img_target[region_target[0]:region_target[2], region_target[1]:region_target[3], num_layer]\n",
      "        s = img_source[region_source[0]:region_source[2], region_source[1]:region_source[3], num_layer]\n",
      "        t = t.flatten()\n",
      "        s = s.flatten()\n",
      "\n",
      "        # create b\n",
      "        b = P * s\n",
      "        for y in range(region_size[0]):\n",
      "            for x in range(region_size[1]):\n",
      "                if not img_mask[y, x]:\n",
      "                    index = x + y * region_size[1]\n",
      "                    b[index] = t[index]\n",
      "\n",
      "        # solve Ax = b\n",
      "        x = pyamg.solve(A, b, verb=False, tol=1e-10)\n",
      "\n",
      "        # assign x to target image\n",
      "        x = np.reshape(x, region_size)\n",
      "        x[x > 255] = 255\n",
      "        x[x < 0] = 0\n",
      "        x = np.array(x, img_target.dtype)\n",
      "        img_target[region_target[0]:region_target[2], region_target[1]:region_target[3], num_layer] = x\n",
      "\n",
      "    return img_target"
     ],
     "language": "python",
     "metadata": {},
     "outputs": [],
     "prompt_number": 4
    },
    {
     "cell_type": "code",
     "collapsed": false,
     "input": [
      "def getPoissonBlended(backgroundLoc, frameLoc, maskLoc, fgOffset) :\n",
      "#     print \"BG\", backgroundLoc, \"FRAME\", frameLoc, \"MASK\", maskLoc\n",
      "    im = np.array(Image.open(maskLoc))\n",
      "    imgSize = im.shape[0:2]\n",
      "\n",
      "    visiblePixelsGlobalIndices = np.argwhere(im[:, :, -1] != 0)\n",
      "    topLeftPos = np.min(visiblePixelsGlobalIndices, axis=0)\n",
      "    patchSize = np.max(visiblePixelsGlobalIndices, axis=0) - topLeftPos + 1\n",
      "#         topLeftPos = np.copy(preloadedSpritePatches[spriteIdx][frameIdx]['top_left_pos'])\n",
      "#         patchSize = np.copy(preloadedSpritePatches[spriteIdx][frameIdx]['patch_size'])\n",
      "#         visiblePixelsGlobalIndices = preloadedSpritePatches[spriteIdx][frameIdx]['visible_indices']+topLeftPos\n",
      "    \n",
      "    \n",
      "    ## when the mask touches the border of the patch there's some weird white halos going on so I enlarge the patch slightly\n",
      "    ## not sure what happens when the patch goes outside of the bounds of the original image...\n",
      "    topLeftPos -= 1\n",
      "    patchSize += 2\n",
      "    ## make sure we're within bounds\n",
      "    topLeftPos[np.argwhere(topLeftPos < 0)] = 0\n",
      "    patchSize[(topLeftPos+patchSize) > imgSize] += (imgSize-(topLeftPos+patchSize))[(topLeftPos+patchSize) > imgSize]\n",
      "\n",
      "\n",
      "    img_target = np.asarray(Image.open(backgroundLoc))[:, :, 0:3]\n",
      "    img_target.flags.writeable = True\n",
      "\n",
      "    img_mask = np.asarray(Image.open(maskLoc))[topLeftPos[0]:topLeftPos[0]+patchSize[0], topLeftPos[1]:topLeftPos[1]+patchSize[1], -1]\n",
      "    img_mask.flags.writeable = True\n",
      "    ## make sure that borders of mask are assigned to bg\n",
      "    img_mask[0, :] = 0; img_mask[-1, :] = 0; img_mask[:, 0] = 0; img_mask[:, -1] = 0\n",
      "\n",
      "    img_source = np.asarray(Image.open(frameLoc))[topLeftPos[0]:topLeftPos[0]+patchSize[0], topLeftPos[1]:topLeftPos[1]+patchSize[1], :]\n",
      "\n",
      "#         sourceImg = np.asarray(PIL.Image.open(dataPath+dataSet+spriteName+inputFolderSuffix+\"/\"+frameName))[topLeftPos[0]:topLeftPos[0]+patchSize[0], \n",
      "#                                                                                                             topLeftPos[1]:topLeftPos[1]+patchSize[1], :-1]\n",
      "#         mask = np.copy(img_mask.reshape((patchSize[0], patchSize[1], 1)))/255.0\n",
      "\n",
      "#         img_source = np.array(sourceImg*mask + np.asarray(PIL.Image.open(dataPath+dataSet+\"median.png\"))[topLeftPos[0]:topLeftPos[0]+patchSize[0], \n",
      "#                                                                                                          topLeftPos[1]:topLeftPos[1]+patchSize[1], :]*(1.0-mask), dtype=uint8)\n",
      "\n",
      "\n",
      "    img_source.flags.writeable = True\n",
      "\n",
      "#     figure(); imshow(np.copy(img_target))\n",
      "#     figure(); imshow(np.copy(img_source))\n",
      "#     figure(); imshow(np.copy(img_mask))\n",
      "#     print fgOffset, offset\n",
      "    \n",
      "    img_ret = blend(img_target, img_source, img_mask, offset=(topLeftPos[0]+fgOffset[0], topLeftPos[1]+fgOffset[1]))\n",
      "\n",
      "\n",
      "    maskedFinal = np.zeros((img_target.shape[0], img_target.shape[1], 4), dtype=np.uint8)\n",
      "    maskedFinal[visiblePixelsGlobalIndices[:, 0], visiblePixelsGlobalIndices[:, 1], :-1] = img_ret[visiblePixelsGlobalIndices[:, 0]+fgOffset[0], \n",
      "                                                                                                   visiblePixelsGlobalIndices[:, 1]+fgOffset[1], :]\n",
      "    maskedFinal[visiblePixelsGlobalIndices[:, 0], visiblePixelsGlobalIndices[:, 1], -1] = 255\n",
      "\n",
      "#     PIL.Image.fromarray(np.uint8(maskedFinal)).save(dataPath+dataSet+spriteName+inputFolderSuffix+\"-blended/\"+frameName)\n",
      "#         figure(); imshow(maskedFinal)\n",
      "#     figure(); imshow(img_target)\n",
      "    result = np.copy(np.uint8(maskedFinal))\n",
      "#     figure(); imshow(result)\n",
      "    del img_mask\n",
      "    del img_source\n",
      "    del img_target\n",
      "    del maskedFinal\n",
      "    del img_ret\n",
      "    return result\n",
      "\n",
      "def compareBBoxes(x, y, verbose=False) :\n",
      "    xBBoxLocs = np.argwhere(x==1)\n",
      "    yBBoxLocs = np.argwhere(y==1)\n",
      "    xColRange = [np.min(xBBoxLocs[:, 1]), np.max(xBBoxLocs[:, 1])]\n",
      "    yColRange = [np.min(yBBoxLocs[:, 1]), np.max(yBBoxLocs[:, 1])]\n",
      "    if verbose :\n",
      "        print xColRange, yColRange, len(xBBoxLocs), len(yBBoxLocs)\n",
      "    \n",
      "    overlapColRange = list(set(range(xColRange[0], xColRange[1]+1)).intersection(range(yColRange[0], yColRange[1]+1)))\n",
      "    \n",
      "    if len(overlapColRange) == 0 :\n",
      "        if verbose :\n",
      "            print \"returning not overlapping\"\n",
      "        return 0\n",
      "    overlapColRange = [np.min(overlapColRange), np.max(overlapColRange)]\n",
      "        \n",
      "    if verbose :\n",
      "        print \"overlap\", overlapColRange\n",
      "        \n",
      "    validXBBoxLocs = np.all([xBBoxLocs[:, 1] >= overlapColRange[0], xBBoxLocs[:, 1] <= overlapColRange[1]], axis=0)\n",
      "    validYBBoxLocs = np.all([yBBoxLocs[:, 1] >= overlapColRange[0], yBBoxLocs[:, 1] <= overlapColRange[1]], axis=0)\n",
      "    \n",
      "    if np.max(xBBoxLocs[validXBBoxLocs, 0]) > np.max(yBBoxLocs[validYBBoxLocs, 0]) :\n",
      "        if verbose :\n",
      "            print \"x > y\"\n",
      "        return 1\n",
      "    elif np.max(xBBoxLocs[validXBBoxLocs, 0]) < np.max(yBBoxLocs[validYBBoxLocs, 0]) :\n",
      "        if verbose :\n",
      "            print \"x < y\"\n",
      "        return -1\n",
      "    else :\n",
      "        if verbose :\n",
      "            print \"x == y\"\n",
      "        return 0"
     ],
     "language": "python",
     "metadata": {},
     "outputs": [],
     "prompt_number": 5
    },
    {
     "cell_type": "code",
     "collapsed": false,
     "input": [
      "# ## just compute blend of a full sequence\n",
      "# baseLoc = \"/media/ilisescu/Data1/PhD/data/wave1/\"\n",
      "# bgLoc = baseLoc+\"median.png\"\n",
      "# bgImage = np.array(Image.open(bgLoc))\n",
      "# for seqLoc in np.sort(glob.glob(baseLoc+\"semantic_sequence-*.npy\"))[0:2] :\n",
      "#     seq = np.load(seqLoc).item()\n",
      "#     maskedFrameLoc = seq[DICT_MASK_LOCATION]\n",
      "#     if not os.path.isdir(maskedFrameLoc+\"blended/\") :\n",
      "#         os.mkdir(maskedFrameLoc+\"blended/\")\n",
      "        \n",
      "#     frameOffset = np.array([0, 0])\n",
      "#     frameScale = np.array([1.0, 1.0])\n",
      "#     startTime = time.time()\n",
      "#     for iterNum, frameKey in enumerate(np.sort(seq[DICT_FRAMES_LOCATIONS].keys())[0:]) :\n",
      "#         t = time.time()\n",
      "#         frameName = \"frame-{0:05}.png\".format(frameKey+1)\n",
      "        \n",
      "#         spritePatch, offset, patchSize, touchedBorders = getSpritePatch(seq, frameKey, bgImage.shape[1], bgImage.shape[0])\n",
      "\n",
      "#         sprite = getPoissonBlended(bgLoc,\n",
      "#                                    \"/\".join(seq[DICT_MASK_LOCATION].split(\"/\")[:-2])+\"/\"+frameName,\n",
      "#                                    seq[DICT_MASK_LOCATION]+frameName, frameOffset[::-1])\n",
      "\n",
      "\n",
      "#         ## dealing with scale and offsets WELL NO SCALE REALLY BUT FUCK IT\n",
      "#         tmp = np.zeros_like(sprite)\n",
      "#         if tmp[offset[1]+frameOffset[1]:offset[1]+frameOffset[1]+patchSize[0],\n",
      "#             offset[0]+frameOffset[0]:offset[0]+frameOffset[0]+patchSize[1], :].shape == sprite[offset[1]:offset[1]+patchSize[0], offset[0]:offset[0]+patchSize[1], :].shape :\n",
      "\n",
      "#             tmp[offset[1]+frameOffset[1]:offset[1]+frameOffset[1]+patchSize[0],\n",
      "#                 offset[0]+frameOffset[0]:offset[0]+frameOffset[0]+patchSize[1], :] = sprite[offset[1]:offset[1]+patchSize[0], offset[0]:offset[0]+patchSize[1], :]\n",
      "#         sprite = np.copy(tmp)\n",
      "#         del tmp\n",
      "#         Image.fromarray(sprite.astype(np.uint8)).save(maskedFrameLoc+\"blended/\"+frameName)\n",
      "        \n",
      "#         avgTime = (avgTime*iterNum + time.time()-t)/(iterNum+1)\n",
      "#         remainingTime = avgTime*(len(seq[DICT_FRAMES_LOCATIONS].keys())-iterNum-1)/60.0\n",
      "#         sys.stdout.write('\\r' + \"Done image \" + np.string_(iterNum) + \" of \" + np.string_(len(seq[DICT_FRAMES_LOCATIONS].keys())) +\n",
      "#                          \" (avg time: \" + np.string_(avgTime) + \" secs --- remaining: \" +\n",
      "#                          np.string_(int(np.floor(remainingTime))) + \":\" + np.string_(int((remainingTime - np.floor(remainingTime))*60)) + \")\")\n",
      "#         sys.stdout.flush()\n",
      "        \n",
      "#     print\n",
      "#     print \"DONE\", seq[DICT_SEQUENCE_NAME], \"in\", time.time() - startTime\n",
      "        \n",
      "# #     for frameLoc in np.sort(glob.glob(maskedFrameLoc+\"frame-*.png\")) :\n",
      "# #         frameName = frameLoc.split(os.sep)[-1]"
     ],
     "language": "python",
     "metadata": {},
     "outputs": [],
     "prompt_number": 21
    },
    {
     "cell_type": "code",
     "collapsed": false,
     "input": [
      "# baseLoc = \"/media/ilisescu/Data1/PhD/data/synthesisedSequences/digger/\"\n",
      "# baseLoc = \"/media/ilisescu/Data1/PhD/data/synthesisedSequences/wave_by_numbers_fattestbar/\"\n",
      "baseLoc = \"/media/ilisescu/Data1/PhD/data/synthesisedSequences/havanaComplex/\"\n",
      "# baseLoc = \"/media/ilisescu/Data1/PhD/data/synthesisedSequences/flowers/\"\n",
      "# baseLoc = \"/media/ilisescu/Data1/PhD/data/synthesisedSequences/street_complex/\"\n",
      "# baseLoc = \"/media/ilisescu/Data1/PhD/data/synthesisedSequences/super_mario_full/\"\n",
      "# baseLoc = \"/media/ilisescu/Data1/PhD/data/synthesisedSequences/super_mario_planes_latest/\"\n",
      "# baseLoc = \"/media/ilisescu/Data1/PhD/data/synthesisedSequences/USER STUDIES SEQUENCES/moos/wave_user_study_task/\"\n",
      "doComputePoisson = True"
     ],
     "language": "python",
     "metadata": {},
     "outputs": [],
     "prompt_number": 8
    },
    {
     "cell_type": "code",
     "collapsed": false,
     "input": [
      "### JUST DO THE BLENDING FIRST\n",
      "# dataPath = \"/media/ilisescu/Data1/PhD/data/wave1/\"\n",
      "# baseLoc = \"/home/ilisescu/PhD/data/synthesisedSequences/waveFull/\"\n",
      "# baseLoc = \"/home/ilisescu/PhD/data/synthesisedSequences/waveFullBusier/\"\n",
      "# baseLoc = \"/media/ilisescu/Data1/PhD/data/synthesisedSequences/theme_park_mixedCompatibility/\"\n",
      "# baseLoc = \"/media/ilisescu/Data1/PhD/data/synthesisedSequences/tetris/\"\n",
      "# baseLoc = \"/media/ilisescu/Data1/PhD/data/synthesisedSequences/digger/\"\n",
      "\n",
      "if doComputePoisson :\n",
      "    if not os.path.isdir(baseLoc+\"blended/\") :\n",
      "        os.mkdir(baseLoc+\"blended/\")\n",
      "\n",
      "    synthSeq = np.load(baseLoc+\"synthesised_sequence.npy\").item()\n",
      "    bgLoc = synthSeq[DICT_SEQUENCE_BG]\n",
      "\n",
      "    bgImage = np.array(Image.open(bgLoc))[:, :, 0:3]\n",
      "\n",
      "    semanticSequences = []\n",
      "    for usedSeqLoc in synthSeq[DICT_USED_SEQUENCES] :\n",
      "        semanticSequences.append(np.load(usedSeqLoc).item())\n",
      "\n",
      "    minFrames = 10000\n",
      "    for i in xrange(len(synthSeq[DICT_SEQUENCE_INSTANCES])) :\n",
      "        minFrames = np.min((minFrames, len(synthSeq[DICT_SEQUENCE_INSTANCES][i][DICT_SEQUENCE_FRAMES])))\n",
      "\n",
      "    maxFramesToRender = 2000\n",
      "\n",
      "\n",
      "    avgTime = 0.0\n",
      "    for iterNum, f in enumerate(arange(minFrames)[594:595]) :\n",
      "        t = time.time()\n",
      "        for sIdx, seq in enumerate(synthSeq[DICT_SEQUENCE_INSTANCES][1:2]) :\n",
      "            seq1Idx = seq[DICT_SEQUENCE_IDX]\n",
      "            frame1Idx = seq[DICT_SEQUENCE_FRAMES][f]\n",
      "\n",
      "    #         ##### HACK for tetris necessary because I mirrored the sequence #####\n",
      "    #         oldLength = (len(semanticSequences[seq1Idx][DICT_BBOXES].keys())+1)/2\n",
      "    #         frame1Idx = np.concatenate((arange(oldLength), arange(oldLength-2, -1, -1)))[frame1Idx]\n",
      "    #         #####################################################################\n",
      "\n",
      "            if frame1Idx < len(semanticSequences[seq1Idx][DICT_BBOXES].keys()) :\n",
      "                frame1Key = np.sort(semanticSequences[seq1Idx][DICT_BBOXES].keys())[frame1Idx]\n",
      "                frame1Offset = seq[DICT_OFFSET]\n",
      "                frame1Scale = seq[DICT_SCALE]\n",
      "            else :\n",
      "                frame1Key = -1\n",
      "                frame1Offset = seq[DICT_OFFSET]\n",
      "                frame1Scale = seq[DICT_SCALE]\n",
      "                \n",
      "            if True :#not os.path.isfile(baseLoc+\"blended/frame-{0:05}-\".format(frame1Key) + \"{0:02}.png\".format(sIdx)) :\n",
      "\n",
      "                if frame1Key in semanticSequences[seq1Idx][DICT_FRAMES_LOCATIONS] :\n",
      "\n",
      "                    spritePatch, offset, patchSize, touchedBorders = getSpritePatch(semanticSequences[seq1Idx], frame1Key, bgImage.shape[1], bgImage.shape[0])\n",
      "\n",
      "                    sprite1 = getPoissonBlended(bgLoc,\n",
      "                                                \"/\".join(semanticSequences[seq1Idx][DICT_MASK_LOCATION].split(\"/\")[:-2])+\"/frame-{0:05}.png\".format(frame1Key+1),\n",
      "                                                semanticSequences[seq1Idx][DICT_MASK_LOCATION]+\"frame-{0:05}.png\".format(frame1Key+1), frame1Offset[::-1])\n",
      "\n",
      "\n",
      "                    ## dealing with scale and offsets WELL NO SCALE REALLY BUT FUCK IT\n",
      "                    tmp = np.zeros_like(sprite1)\n",
      "                    if tmp[offset[1]+frame1Offset[1]:offset[1]+frame1Offset[1]+patchSize[0],\n",
      "                        offset[0]+frame1Offset[0]:offset[0]+frame1Offset[0]+patchSize[1], :].shape == sprite1[offset[1]:offset[1]+patchSize[0], offset[0]:offset[0]+patchSize[1], :].shape :\n",
      "                        \n",
      "                        tmp[offset[1]+frame1Offset[1]:offset[1]+frame1Offset[1]+patchSize[0],\n",
      "                            offset[0]+frame1Offset[0]:offset[0]+frame1Offset[0]+patchSize[1], :] = sprite1[offset[1]:offset[1]+patchSize[0], offset[0]:offset[0]+patchSize[1], :]\n",
      "                    sprite1 = np.copy(tmp)\n",
      "                    del tmp\n",
      "#                     Image.fromarray(sprite1.astype(np.uint8)).save(baseLoc+\"blended/frame-{0:05}-\".format(frame1Key) + \"{0:02}.png\".format(sIdx))\n",
      "\n",
      "        avgTime = (avgTime*iterNum + time.time()-t)/(iterNum+1)\n",
      "        remainingTime = avgTime*(maxFramesToRender-iterNum-1)/60.0\n",
      "        sys.stdout.write('\\r' + \"Done image \" + np.string_(iterNum) + \" of \" + np.string_(maxFramesToRender) +\n",
      "                         \" (avg time: \" + np.string_(avgTime) + \" secs --- remaining: \" +\n",
      "                         np.string_(int(np.floor(remainingTime))) + \":\" + np.string_(int((remainingTime - np.floor(remainingTime))*60)) + \")\")\n",
      "        sys.stdout.flush()\n",
      "        \n",
      "        sprite1 = sprite1[offset[1, 0]:offset[1, 0]+patchSize[0], offset[0, 0]:offset[0, 0]+patchSize[1], :]\n",
      "        alphaMask = (sprite1[:, :, -1]/255.0).reshape([patchSize[0], patchSize[1], 1])\n",
      "        sprite1 = sprite1[:, :, :-1]\n",
      "        compositedBlended = (bgImage[offset[1, 0]:offset[1, 0]+patchSize[0], offset[0, 0]:offset[0, 0]+patchSize[1], :]*(1.0-alphaMask) + sprite1*alphaMask).astype(np.uint8)\n",
      "        compositedNotBlended = (bgImage[offset[1, 0]:offset[1, 0]+patchSize[0], offset[0, 0]:offset[0, 0]+patchSize[1], :]*(1.0-alphaMask) + spritePatch*alphaMask).astype(np.uint8)\n",
      "        figure(); imshow(compositedBlended)\n",
      "        figure(); imshow(compositedNotBlended)\n",
      "    print \n",
      "    print \"done\""
     ],
     "language": "python",
     "metadata": {},
     "outputs": [
      {
       "output_type": "stream",
       "stream": "stdout",
       "text": [
        "\r",
        "Done image 0 of 2000 (avg time: 3.74276399612 secs --- remaining: 124:41)"
       ]
      },
      {
       "output_type": "stream",
       "stream": "stdout",
       "text": [
        "\n",
        "done\n"
       ]
      }
     ],
     "prompt_number": 25
    },
    {
     "cell_type": "code",
     "collapsed": false,
     "input": [
      "print patchSize, offset\n",
      "print offset[0, 0],offset[0, 0]+patchSize[1], offset[1, 0],offset[1, 0]+patchSize[0]"
     ],
     "language": "python",
     "metadata": {},
     "outputs": [
      {
       "output_type": "stream",
       "stream": "stdout",
       "text": [
        "[192 312] [[752]\n",
        " [528]]\n",
        "752 1064 528 720\n"
       ]
      }
     ],
     "prompt_number": 18
    },
    {
     "cell_type": "code",
     "collapsed": false,
     "input": [
      "# dataPath = \"/media/ilisescu/Data1/PhD/data/wave1/\"\n",
      "# baseLoc = \"/home/ilisescu/PhD/data/synthesisedSequences/waveFull/\"\n",
      "# baseLoc = \"/media/ilisescu/Data1/PhD/data/synthesisedSequences/waveFullBusier/\"\n",
      "# baseLoc = \"/media/ilisescu/Data1/PhD/data/synthesisedSequences/theme_park_mixedCompatibility/\"\n",
      "# baseLoc = \"/media/ilisescu/Data1/PhD/data/synthesisedSequences/tetris/\"\n",
      "# baseLoc = \"/media/ilisescu/Data1/PhD/data/synthesisedSequences/digger/\"\n",
      "# baseLoc = \"/media/ilisescu/Data1/PhD/data/synthesisedSequences/multipleCandles/\"\n",
      "# baseLoc = \"/home/ilisescu/PhD/data/synthesisedSequences/street/\"\n",
      "# baseLoc = \"/media/ilisescu/Data1/PhD/data/synthesisedSequences/plane_departures/\"\n",
      "synthSeq = np.load(baseLoc+\"synthesised_sequence.npy\").item()\n",
      "bgLoc = synthSeq[DICT_SEQUENCE_BG]\n",
      "# bgLoc = \"/media/ilisescu/Data1/PhD/data/digger/median.png\"\n",
      "\n",
      "bgImage = np.array(Image.open(bgLoc))[:, :, 0:3]\n",
      "\n",
      "semanticSequences = []\n",
      "for usedSeqLoc in synthSeq[DICT_USED_SEQUENCES] :\n",
      "    semanticSequences.append(np.load(usedSeqLoc).item())\n",
      "\n",
      "minFrames = 10000\n",
      "for i in xrange(len(synthSeq[DICT_SEQUENCE_INSTANCES])) :\n",
      "    minFrames = np.min((minFrames, len(synthSeq[DICT_SEQUENCE_INSTANCES][i][DICT_SEQUENCE_FRAMES])))\n",
      "\n",
      "\n",
      "## super mario planes\n",
      "thresh = 4.5\n",
      "alpha = 0.15\n",
      "\n",
      "# ## wave\n",
      "# thresh = 4.0\n",
      "# alpha = 0.25\n",
      "\n",
      "\n",
      "kSize = 15\n",
      "sigma = 11\n",
      "\n",
      "usePoisson = True\n",
      "\n",
      "maxFramesToRender = 2000\n",
      "\n",
      "\n",
      "avgTime = 0.0\n",
      "for iterNum, f in enumerate(arange(minFrames)[0:]) : #[:maxFramesToRender]) :\n",
      "    \n",
      "#     maxYs = []\n",
      "#     for seqInstance in synthSeq[DICT_SEQUENCE_INSTANCES] :\n",
      "#         seqIdx = seqInstance[DICT_SEQUENCE_IDX]\n",
      "#         frameIdx = seqInstance[DICT_SEQUENCE_FRAMES][f]\n",
      "#         if frameIdx < len(semanticSequences[seqIdx][DICT_BBOXES].keys()) :\n",
      "#             frameKey = np.sort(semanticSequences[seqIdx][DICT_BBOXES].keys())[frameIdx]\n",
      "#             maxYs.append(np.max(semanticSequences[seqIdx][DICT_BBOXES][frameKey][:, 1]))\n",
      "#         else :\n",
      "#             maxYs.append(0.0)\n",
      "#     print \"sequencesOrder\", maxYs, np.argsort(maxYs)\n",
      "#     sequencesOrder = np.argsort(maxYs)\n",
      "    \n",
      "    renderedBBoxes = []\n",
      "    instancesToRender = []\n",
      "    for i, seqInstance in enumerate(synthSeq[DICT_SEQUENCE_INSTANCES]) :\n",
      "        seqIdx = seqInstance[DICT_SEQUENCE_IDX]\n",
      "        frameIdx = seqInstance[DICT_SEQUENCE_FRAMES][f]\n",
      "        if frameIdx >= 0 and frameIdx < len(semanticSequences[seqIdx][DICT_FRAMES_LOCATIONS].keys()) :\n",
      "            frameKey = np.sort(semanticSequences[seqIdx][DICT_FRAMES_LOCATIONS].keys())[frameIdx]\n",
      "            if frameKey in semanticSequences[seqIdx][DICT_BBOXES].keys() :\n",
      "                img = np.zeros((bgImage.shape[0], bgImage.shape[1]), np.uint8)\n",
      "                cv2.fillConvexPoly(img, semanticSequences[seqIdx][DICT_BBOXES][frameKey].astype(int)[[0, 1, 2, 3, 0], :], 1)\n",
      "                renderedBBoxes.append(np.copy(img))\n",
      "                instancesToRender.append(i)\n",
      "#                 gwv.showCustomGraph(img)\n",
      "                \n",
      "    sequencesOrder = [i[0] for i in sorted(enumerate(renderedBBoxes), key=lambda x:x[1], cmp=compareBBoxes)]\n",
      "    sequencesOrder = np.array(instancesToRender)[sequencesOrder]\n",
      "#     print sequencesOrder\n",
      "    \n",
      "    t = time.time()\n",
      "    if len(sequencesOrder) > 0 :\n",
      "    #     outputFrame = np.zeros((bgImage.shape[0], bgImage.shape[1], 4), np.uint8)\n",
      "        seq1Idx = synthSeq[DICT_SEQUENCE_INSTANCES][sequencesOrder[0]][DICT_SEQUENCE_IDX]\n",
      "        frame1Idx = synthSeq[DICT_SEQUENCE_INSTANCES][sequencesOrder[0]][DICT_SEQUENCE_FRAMES][f]    \n",
      "\n",
      "        ##### HACK for tetris necessary because I mirrored the sequence #####\n",
      "    #     oldLength = (len(semanticSequences[seq1Idx][DICT_BBOXES].keys())+1)/2\n",
      "    # #     print \"la\", frame1Idx, np.concatenate((arange(oldLength), arange(oldLength-2, -1, -1))),\n",
      "    #     frame1Idx = np.concatenate((arange(oldLength), arange(oldLength-2, -1, -1)))[frame1Idx]\n",
      "    # #     print frame1Idx\n",
      "        #####################################################################\n",
      "\n",
      "        if frame1Idx >= 0 and frame1Idx < len(semanticSequences[seq1Idx][DICT_FRAMES_LOCATIONS].keys()) :\n",
      "            frame1Key = np.sort(semanticSequences[seq1Idx][DICT_FRAMES_LOCATIONS].keys())[frame1Idx]\n",
      "            if frame1Key not in semanticSequences[seq1Idx][DICT_BBOXES].keys() :\n",
      "                frame1Key = -1\n",
      "        else :\n",
      "            frame1Key = -1\n",
      "\n",
      "        frame1Offset = synthSeq[DICT_SEQUENCE_INSTANCES][sequencesOrder[0]][DICT_OFFSET]\n",
      "        frame1Scale = synthSeq[DICT_SEQUENCE_INSTANCES][sequencesOrder[0]][DICT_SCALE]\n",
      "\n",
      "        if frame1Key in semanticSequences[seq1Idx][DICT_FRAMES_LOCATIONS] :\n",
      "\n",
      "            spritePatch, offset, patchSize, touchedBorders = getSpritePatch(semanticSequences[seq1Idx], frame1Key, bgImage.shape[1], bgImage.shape[0])\n",
      "            bgPrior, spritePrior = getPatchPriors(bgImage[offset[1]:offset[1]+patchSize[0], offset[0]:offset[0]+patchSize[1], :], \n",
      "                                                  spritePatch, offset, patchSize, semanticSequences[seq1Idx], frame1Key)\n",
      "            fullSprite1Prior = np.zeros(bgImage.shape[0:2])\n",
      "            fullSprite1Prior[offset[1]:offset[1]+patchSize[0], offset[0]:offset[0]+patchSize[1]] = np.copy(1.0-spritePrior/np.max(spritePrior))\n",
      "            fullSprite1Prior /= np.max(fullSprite1Prior)\n",
      "\n",
      "            ## dealing with scale and offsets WELL NO SCALE REALLY BUT FUCK IT\n",
      "            hasLoaded = False\n",
      "            if usePoisson :\n",
      "                if os.path.isfile(semanticSequences[seq1Idx][DICT_MASK_LOCATION]+\"blended/frame-{0:05}.png\".format(frame1Key+1)) :\n",
      "                    sprite1 = np.array(Image.open(semanticSequences[seq1Idx][DICT_MASK_LOCATION]+\"blended/frame-{0:05}.png\".format(frame1Key+1)))\n",
      "                else :\n",
      "                    if os.path.isfile(baseLoc+\"blended/frame-{0:05}-\".format(frame1Key) + \"{0:02}.png\".format(sequencesOrder[0])) :\n",
      "                        sprite1 = np.array(Image.open(baseLoc+\"blended/frame-{0:05}-\".format(frame1Key) + \"{0:02}.png\".format(sequencesOrder[0])))\n",
      "        #                 print \"loading\", 0\n",
      "                        hasLoaded = True\n",
      "                    else :\n",
      "                        sprite1 = getPoissonBlended(bgLoc,\n",
      "                                                    \"/\".join(semanticSequences[seq1Idx][DICT_MASK_LOCATION].split(\"/\")[:-2])+\"/frame-{0:05}.png\".format(frame1Key+1),\n",
      "                                                    semanticSequences[seq1Idx][DICT_MASK_LOCATION]+\"frame-{0:05}.png\".format(frame1Key+1), frame1Offset[::-1])\n",
      "            else :\n",
      "                sprite1 = np.array(Image.open(semanticSequences[seq1Idx][DICT_MASK_LOCATION]+\"frame-{0:05}.png\".format(frame1Key+1)))\n",
      "\n",
      "            outputFrame = sprite1\n",
      "            outputPrior = fullSprite1Prior\n",
      "\n",
      "            if not hasLoaded :\n",
      "                tmp = np.zeros_like(outputFrame)\n",
      "                tmp[offset[1]+frame1Offset[1]:offset[1]+frame1Offset[1]+patchSize[0],\n",
      "                    offset[0]+frame1Offset[0]:offset[0]+frame1Offset[0]+patchSize[1], :] = outputFrame[offset[1]:offset[1]+patchSize[0], offset[0]:offset[0]+patchSize[1], :]\n",
      "                outputFrame = np.copy(tmp)\n",
      "                del tmp\n",
      "\n",
      "            tmp = np.zeros_like(outputPrior)\n",
      "            tmp[offset[1]+frame1Offset[1]:offset[1]+frame1Offset[1]+patchSize[0],\n",
      "                offset[0]+frame1Offset[0]:offset[0]+frame1Offset[0]+patchSize[1]] = outputPrior[offset[1]:offset[1]+patchSize[0], offset[0]:offset[0]+patchSize[1]]\n",
      "            outputPrior = np.copy(tmp)\n",
      "            del tmp\n",
      "\n",
      "        else :\n",
      "            outputFrame = np.zeros((bgImage.shape[0], bgImage.shape[1], 4), np.uint8)\n",
      "            outputPrior = np.zeros(bgImage.shape[0:2])\n",
      "\n",
      "        tmpAssignment = np.zeros(bgImage.shape[0:2])\n",
      "\n",
      "    #     for sIdx, seq in zip(arange(1, len(synthSeq[DICT_SEQUENCE_INSTANCES])), synthSeq[DICT_SEQUENCE_INSTANCES][1:]) :\n",
      "        for sIdx in sequencesOrder[1:] : #[1, 0] : #[1, 2, 3, 14, 13, 4, 5, 6, 7, 8, 9, 10, 11, 12] :\n",
      "            seq = synthSeq[DICT_SEQUENCE_INSTANCES][sIdx]\n",
      "\n",
      "            seq2Idx = seq[DICT_SEQUENCE_IDX]\n",
      "            frame2Idx = seq[DICT_SEQUENCE_FRAMES][f]\n",
      "            ##### HACK for tetris necessary because I mirrored the sequence #####\n",
      "    #         oldLength = (len(semanticSequences[seq2Idx][DICT_BBOXES].keys())+1)/2\n",
      "    # #         print \"la\", frame2Idx, np.concatenate((arange(oldLength), arange(oldLength-2, -1, -1))),\n",
      "    #         frame2Idx = np.concatenate((arange(oldLength), arange(oldLength-2, -1, -1)))[frame2Idx]\n",
      "    # #         print frame2Idx\n",
      "            #####################################################################\n",
      "\n",
      "            if frame2Idx >= 0 and frame2Idx < len(semanticSequences[seq2Idx][DICT_FRAMES_LOCATIONS].keys()) :\n",
      "                frame2Key = np.sort(semanticSequences[seq2Idx][DICT_FRAMES_LOCATIONS].keys())[frame2Idx]\n",
      "                if frame2Key not in semanticSequences[seq2Idx][DICT_BBOXES].keys() :\n",
      "                    frame2Key = -1\n",
      "            else :\n",
      "                frame2Key = -1\n",
      "\n",
      "            frame2Offset = seq[DICT_OFFSET]\n",
      "            frame2Scale = seq[DICT_SCALE]\n",
      "\n",
      "            if frame2Key in semanticSequences[seq2Idx][DICT_FRAMES_LOCATIONS] :\n",
      "\n",
      "    #             print frame2Key, semanticSequences[seq2Idx][DICT_MASK_LOCATION]+\"frame-{0:05}.png\".format(frame2Key+1), frame2Offset, frame2Scale\n",
      "    #             print \n",
      "\n",
      "\n",
      "                spritePatch, offset, patchSize, touchedBorders = getSpritePatch(semanticSequences[seq2Idx], frame2Key, bgImage.shape[1], bgImage.shape[0])\n",
      "                bgPrior, spritePrior = getPatchPriors(bgImage[offset[1]:offset[1]+patchSize[0], offset[0]:offset[0]+patchSize[1], :], \n",
      "                                                      spritePatch, offset, patchSize, semanticSequences[seq2Idx], frame2Key)\n",
      "                fullSprite2Prior = np.zeros(bgImage.shape[0:2])\n",
      "                fullSprite2Prior[offset[1]:offset[1]+patchSize[0], offset[0]:offset[0]+patchSize[1]] = np.copy(1.0-spritePrior/np.max(spritePrior))\n",
      "                fullSprite2Prior /= np.max(fullSprite2Prior)\n",
      "\n",
      "                hasLoaded = False\n",
      "                if usePoisson :\n",
      "                    if os.path.isfile(semanticSequences[seq2Idx][DICT_MASK_LOCATION]+\"blended/frame-{0:05}.png\".format(frame2Key+1)) :\n",
      "                        sprite2 = np.array(Image.open(semanticSequences[seq2Idx][DICT_MASK_LOCATION]+\"blended/frame-{0:05}.png\".format(frame2Key+1)))\n",
      "                    else :\n",
      "                        if os.path.isfile(baseLoc+\"blended/frame-{0:05}-\".format(frame2Key) + \"{0:02}.png\".format(sIdx)) :\n",
      "                            sprite2 = np.array(Image.open(baseLoc+\"blended/frame-{0:05}-\".format(frame2Key) + \"{0:02}.png\".format(sIdx)))\n",
      "        #                     print \"loading\", sIdx; sys.stdout.flush()\n",
      "                            hasLoaded = True\n",
      "                        else :\n",
      "                            sprite2 = getPoissonBlended(bgLoc,\n",
      "                                                        \"/\".join(semanticSequences[seq2Idx][DICT_MASK_LOCATION].split(\"/\")[:-2])+\"/frame-{0:05}.png\".format(frame2Key+1),\n",
      "                                                        semanticSequences[seq2Idx][DICT_MASK_LOCATION]+\"frame-{0:05}.png\".format(frame2Key+1), frame2Offset[::-1])\n",
      "                else :\n",
      "                    sprite2 = np.array(Image.open(semanticSequences[seq2Idx][DICT_MASK_LOCATION]+\"frame-{0:05}.png\".format(frame2Key+1)))\n",
      "\n",
      "                ## dealing with scale and offsets\n",
      "\n",
      "                if not hasLoaded :\n",
      "                    tmp = np.zeros_like(sprite2)\n",
      "                    tmp[offset[1]+frame2Offset[1]:offset[1]+frame2Offset[1]+patchSize[0],\n",
      "                        offset[0]+frame2Offset[0]:offset[0]+frame2Offset[0]+patchSize[1], :] = sprite2[offset[1]:offset[1]+patchSize[0], offset[0]:offset[0]+patchSize[1], :]\n",
      "                    sprite2 = np.copy(tmp)\n",
      "                    del tmp\n",
      "\n",
      "                tmp = np.zeros_like(fullSprite2Prior)\n",
      "                tmp[offset[1]+frame2Offset[1]:offset[1]+frame2Offset[1]+patchSize[0],\n",
      "                    offset[0]+frame2Offset[0]:offset[0]+frame2Offset[0]+patchSize[1]] = fullSprite2Prior[offset[1]:offset[1]+patchSize[0], offset[0]:offset[0]+patchSize[1]]\n",
      "                fullSprite2Prior = np.copy(tmp)\n",
      "                del tmp\n",
      "\n",
      "\n",
      "    #             tmp = np.zeros_like(sprite2)\n",
      "    #             tmp[frame1Offset[1]:, frame1Offset[0]:, :] = sprite2[:tmp.shape[0]-frame2Offset[1], :tmp.shape[1]-frame2Offset[0], :]\n",
      "    #             sprite2 = np.copy(tmp)\n",
      "    #             del tmp\n",
      "\n",
      "    #             tmp = np.zeros_like(fullSprite2Prior)\n",
      "    #             tmp[frame1Offset[1]:, frame1Offset[0]:] = fullSprite2Prior[:tmp.shape[0]-frame2Offset[1], :tmp.shape[1]-frame2Offset[0]]\n",
      "    #             fullSprite2Prior = np.copy(tmp)\n",
      "    #             del tmp\n",
      "\n",
      "\n",
      "                ## only doing the checks for the overlapping pixels\n",
      "                ambiguousIdxs = np.argwhere(np.all(((outputFrame[:, :, -1] != 0).reshape((outputFrame.shape[0], outputFrame.shape[1], 1)),\n",
      "                                                    (sprite2[:, :, -1] != 0).reshape((sprite2.shape[0], sprite2.shape[1], 1))), axis=0)[:, :, -1])\n",
      "\n",
      "                ## get background differences\n",
      "                outputBgDiff = np.zeros(bgImage.shape[0:2])\n",
      "                outputBgDiff[ambiguousIdxs[:, 0], ambiguousIdxs[:, 1]] = np.sqrt(np.sum((bgImage[ambiguousIdxs[:, 0], ambiguousIdxs[:, 1], :]-\n",
      "                                                                                         outputFrame[ambiguousIdxs[:, 0], ambiguousIdxs[:, 1], :-1])**2, axis=-1))\n",
      "                outputBgDiff = cv2.GaussianBlur(outputBgDiff, (kSize, kSize), sigma)#*1.2\n",
      "                outputBgDiff = outputBgDiff*alpha+(1.0-alpha)*outputPrior\n",
      "\n",
      "\n",
      "                diffSprite2 = np.zeros(bgImage.shape[0:2])\n",
      "                diffSprite2[ambiguousIdxs[:, 0], ambiguousIdxs[:, 1]] = np.sqrt(np.sum((bgImage[ambiguousIdxs[:, 0], ambiguousIdxs[:, 1], :]-\n",
      "                                                                                        sprite2[ambiguousIdxs[:, 0], ambiguousIdxs[:, 1], :-1])**2, axis=-1))\n",
      "                diffSprite2 = cv2.GaussianBlur(diffSprite2, (kSize, kSize), sigma)#*1.2\n",
      "                diffSprite2 = diffSprite2*alpha+(1.0-alpha)*fullSprite2Prior\n",
      "\n",
      "\n",
      "\n",
      "                compositedImage = np.copy(outputFrame)*(outputFrame[:, :, -1].reshape((bgImage.shape[0], bgImage.shape[1], 1))/255.0)\n",
      "                compositedImage = (compositedImage*(1.0-sprite2[:, :, -1].reshape((bgImage.shape[0], bgImage.shape[1], 1))/255.0) + \n",
      "                                   np.copy(sprite2)*(sprite2[:, :, -1].reshape((bgImage.shape[0], bgImage.shape[1], 1))/255.0))\n",
      "                compositedImage = np.array(compositedImage, dtype=np.uint8)\n",
      "\n",
      "                ## do the checks and update the composited image\n",
      "                for (i, j) in ambiguousIdxs :\n",
      "                    if diffSprite2[i, j] > thresh :\n",
      "                        compositedImage[i, j, :] = sprite2[i, j, :]\n",
      "                        tmpAssignment[i, j] = 1\n",
      "                    elif outputBgDiff[i, j] > thresh :\n",
      "                        compositedImage[i, j, :] = outputFrame[i, j, :]\n",
      "                        tmpAssignment[i, j] = 2\n",
      "                    elif outputBgDiff[i, j] > diffSprite2[i, j] :\n",
      "                        compositedImage[i, j, :] = outputFrame[i, j, :]\n",
      "                        tmpAssignment[i, j] = 2\n",
      "                    else :\n",
      "                        compositedImage[i, j, :] = sprite2[i, j, :]\n",
      "                        tmpAssignment[i, j] = 1\n",
      "\n",
      "                outputFrame = compositedImage\n",
      "                outputPrior += fullSprite2Prior\n",
      "                outputPrior /= np.max(outputPrior)\n",
      "                \n",
      "    else :\n",
      "        outputFrame = np.zeros((bgImage.shape[0], bgImage.shape[1], 4), np.uint8)\n",
      "        \n",
      "    Image.fromarray(outputFrame).save(baseLoc+\"frame-{0:05}.png\".format(f+1 ))\n",
      "#     figure(); imshow(outputFrame)\n",
      "#     figure(); imshow(np.array(Image.open(baseLoc+\"frame-{0:05}.png\".format(f+1 ))))\n",
      "    \n",
      "    avgTime = (avgTime*iterNum + time.time()-t)/(iterNum+1)\n",
      "    remainingTime = avgTime*(maxFramesToRender-iterNum-1)/60.0\n",
      "    sys.stdout.write('\\r' + \"Done image \" + np.string_(iterNum) + \" of \" + np.string_(maxFramesToRender) +\n",
      "                     \" (avg time: \" + np.string_(avgTime) + \" secs --- remaining: \" +\n",
      "                     np.string_(int(np.floor(remainingTime))) + \":\" + np.string_(int((remainingTime - np.floor(remainingTime))*60)) + \")\")\n",
      "    sys.stdout.flush()\n",
      "print \n",
      "print \"done\""
     ],
     "language": "python",
     "metadata": {},
     "outputs": [
      {
       "output_type": "stream",
       "stream": "stdout",
       "text": [
        "\r",
        "Done image 0 of 2000 (avg time: 0.00831580162048 secs --- remaining: 0:16)"
       ]
      },
      {
       "output_type": "stream",
       "stream": "stdout",
       "text": [
        "\r",
        "Done image 1 of 2000 (avg time: 0.00830841064453 secs --- remaining: 0:16)"
       ]
      },
      {
       "output_type": "stream",
       "stream": "stdout",
       "text": [
        "\r",
        "Done image 2 of 2000 (avg time: 0.0082049369812 secs --- remaining: 0:16)"
       ]
      },
      {
       "output_type": "stream",
       "stream": "stdout",
       "text": [
        "\r",
        "Done image 3 of 2000 (avg time: 0.00849092006683 secs --- remaining: 0:16)"
       ]
      },
      {
       "output_type": "stream",
       "stream": "stdout",
       "text": [
        "\r",
        "Done image 4 of 2000 (avg time: 0.00842251777649 secs --- remaining: 0:16)"
       ]
      },
      {
       "output_type": "stream",
       "stream": "stdout",
       "text": [
        "\r",
        "Done image 5 of 2000 (avg time: 0.00839908917745 secs --- remaining: 0:16)"
       ]
      },
      {
       "output_type": "stream",
       "stream": "stdout",
       "text": [
        "\r",
        "Done image 6 of 2000 (avg time: 0.00839519500732 secs --- remaining: 0:16)"
       ]
      },
      {
       "output_type": "stream",
       "stream": "stdout",
       "text": [
        "\r",
        "Done image 7 of 2000 (avg time: 0.00837457180023 secs --- remaining: 0:16)"
       ]
      },
      {
       "output_type": "stream",
       "stream": "stdout",
       "text": [
        "\r",
        "Done image 8 of 2000 (avg time: 0.00835662417942 secs --- remaining: 0:16)"
       ]
      },
      {
       "output_type": "stream",
       "stream": "stdout",
       "text": [
        "\r",
        "Done image 9 of 2000 (avg time: 0.00837965011597 secs --- remaining: 0:16)"
       ]
      },
      {
       "output_type": "stream",
       "stream": "stdout",
       "text": [
        "\r",
        "Done image 10 of 2000 (avg time: 0.00837349891663 secs --- remaining: 0:16)"
       ]
      },
      {
       "output_type": "stream",
       "stream": "stdout",
       "text": [
        "\r",
        "Done image 11 of 2000 (avg time: 0.00835812091827 secs --- remaining: 0:16)"
       ]
      },
      {
       "output_type": "stream",
       "stream": "stdout",
       "text": [
        "\r",
        "Done image 12 of 2000 (avg time: 0.00834648425762 secs --- remaining: 0:16)"
       ]
      },
      {
       "output_type": "stream",
       "stream": "stdout",
       "text": [
        "\r",
        "Done image 13 of 2000 (avg time: 0.00833266122001 secs --- remaining: 0:16)"
       ]
      },
      {
       "output_type": "stream",
       "stream": "stdout",
       "text": [
        "\r",
        "Done image 14 of 2000 (avg time: 0.00832268397013 secs --- remaining: 0:16)"
       ]
      },
      {
       "output_type": "stream",
       "stream": "stdout",
       "text": [
        "\r",
        "Done image 15 of 2000 (avg time: 0.00831364095211 secs --- remaining: 0:16)"
       ]
      },
      {
       "output_type": "stream",
       "stream": "stdout",
       "text": [
        "\r",
        "Done image 16 of 2000 (avg time: 0.00836772077224 secs --- remaining: 0:16)"
       ]
      },
      {
       "output_type": "stream",
       "stream": "stdout",
       "text": [
        "\r",
        "Done image 17 of 2000 (avg time: 0.00842607021332 secs --- remaining: 0:16)"
       ]
      },
      {
       "output_type": "stream",
       "stream": "stdout",
       "text": [
        "\r",
        "Done image 18 of 2000 (avg time: 0.00851253459328 secs --- remaining: 0:16)"
       ]
      },
      {
       "output_type": "stream",
       "stream": "stdout",
       "text": [
        "\r",
        "Done image 19 of 2000 (avg time: 0.00859270095825 secs --- remaining: 0:17)"
       ]
      },
      {
       "output_type": "stream",
       "stream": "stdout",
       "text": [
        "\r",
        "Done image 20 of 2000 (avg time: 0.00867957160586 secs --- remaining: 0:17)"
       ]
      },
      {
       "output_type": "stream",
       "stream": "stdout",
       "text": [
        "\r",
        "Done image 21 of 2000 (avg time: 0.00874468413266 secs --- remaining: 0:17)"
       ]
      },
      {
       "output_type": "stream",
       "stream": "stdout",
       "text": [
        "\r",
        "Done image 22 of 2000 (avg time: 0.0087878704071 secs --- remaining: 0:17)"
       ]
      },
      {
       "output_type": "stream",
       "stream": "stdout",
       "text": [
        "\r",
        "Done image 23 of 2000 (avg time: 0.00886176029841 secs --- remaining: 0:17)"
       ]
      },
      {
       "output_type": "stream",
       "stream": "stdout",
       "text": [
        "\r",
        "Done image 24 of 2000 (avg time: 0.00891512870789 secs --- remaining: 0:17)"
       ]
      },
      {
       "output_type": "stream",
       "stream": "stdout",
       "text": [
        "\r",
        "Done image 25 of 2000 (avg time: 0.0089459327551 secs --- remaining: 0:17)"
       ]
      },
      {
       "output_type": "stream",
       "stream": "stdout",
       "text": [
        "\r",
        "Done image 26 of 2000 (avg time: 0.00900456640455 secs --- remaining: 0:17)"
       ]
      },
      {
       "output_type": "stream",
       "stream": "stdout",
       "text": [
        "\r",
        "Done image 27 of 2000 (avg time: 0.00902247428894 secs --- remaining: 0:17)"
       ]
      },
      {
       "output_type": "stream",
       "stream": "stdout",
       "text": [
        "\r",
        "Done image 28 of 2000 (avg time: 0.00906242173294 secs --- remaining: 0:17)"
       ]
      },
      {
       "output_type": "stream",
       "stream": "stdout",
       "text": [
        "\r",
        "Done image 29 of 2000 (avg time: 0.00912063916524 secs --- remaining: 0:17)"
       ]
      },
      {
       "output_type": "stream",
       "stream": "stdout",
       "text": [
        "\r",
        "Done image 30 of 2000 (avg time: 0.00912897048458 secs --- remaining: 0:17)"
       ]
      },
      {
       "output_type": "stream",
       "stream": "stdout",
       "text": [
        "\r",
        "Done image 31 of 2000 (avg time: 0.00917553156614 secs --- remaining: 0:18)"
       ]
      },
      {
       "output_type": "stream",
       "stream": "stdout",
       "text": [
        "\r",
        "Done image 32 of 2000 (avg time: 0.00923551935138 secs --- remaining: 0:18)"
       ]
      },
      {
       "output_type": "stream",
       "stream": "stdout",
       "text": [
        "\r",
        "Done image 33 of 2000 (avg time: 0.0092452694388 secs --- remaining: 0:18)"
       ]
      },
      {
       "output_type": "stream",
       "stream": "stdout",
       "text": [
        "\r",
        "Done image 34 of 2000 (avg time: 0.00928309304374 secs --- remaining: 0:18)"
       ]
      },
      {
       "output_type": "stream",
       "stream": "stdout",
       "text": [
        "\r",
        "Done image 35 of 2000 (avg time: 0.0093173649576 secs --- remaining: 0:18)"
       ]
      },
      {
       "output_type": "stream",
       "stream": "stdout",
       "text": [
        "\r",
        "Done image 36 of 2000 (avg time: 0.00932346163569 secs --- remaining: 0:18)"
       ]
      },
      {
       "output_type": "stream",
       "stream": "stdout",
       "text": [
        "\r",
        "Done image 37 of 2000 (avg time: 0.00929429029164 secs --- remaining: 0:18)"
       ]
      },
      {
       "output_type": "stream",
       "stream": "stdout",
       "text": [
        "\r",
        "Done image 38 of 2000 (avg time: 0.00926930476458 secs --- remaining: 0:18)"
       ]
      },
      {
       "output_type": "stream",
       "stream": "stdout",
       "text": [
        "\r",
        "Done image 39 of 2000 (avg time: 0.00924242734909 secs --- remaining: 0:18)"
       ]
      },
      {
       "output_type": "stream",
       "stream": "stdout",
       "text": [
        "\r",
        "Done image 40 of 2000 (avg time: 0.00921185423688 secs --- remaining: 0:18)"
       ]
      },
      {
       "output_type": "stream",
       "stream": "stdout",
       "text": [
        "\r",
        "Done image 41 of 2000 (avg time: 0.00918961706616 secs --- remaining: 0:17)"
       ]
      },
      {
       "output_type": "stream",
       "stream": "stdout",
       "text": [
        "\r",
        "Done image 42 of 2000 (avg time: 0.00918016322823 secs --- remaining: 0:17)"
       ]
      },
      {
       "output_type": "stream",
       "stream": "stdout",
       "text": [
        "\r",
        "Done image 43 of 2000 (avg time: 0.00919279727069 secs --- remaining: 0:17)"
       ]
      },
      {
       "output_type": "stream",
       "stream": "stdout",
       "text": [
        "\r",
        "Done image 44 of 2000 (avg time: 0.00916824870639 secs --- remaining: 0:17)"
       ]
      },
      {
       "output_type": "stream",
       "stream": "stdout",
       "text": [
        "\r",
        "Done image 45 of 2000 (avg time: 0.0091488516849 secs --- remaining: 0:17)"
       ]
      },
      {
       "output_type": "stream",
       "stream": "stdout",
       "text": [
        "\r",
        "Done image 46 of 2000 (avg time: 0.00913093952422 secs --- remaining: 0:17)"
       ]
      },
      {
       "output_type": "stream",
       "stream": "stdout",
       "text": [
        "\r",
        "Done image 47 of 2000 (avg time: 0.00951573252678 secs --- remaining: 0:18)"
       ]
      },
      {
       "output_type": "stream",
       "stream": "stdout",
       "text": [
        "\r",
        "Done image 48 of 2000 (avg time: 0.00984273638044 secs --- remaining: 0:19)"
       ]
      },
      {
       "output_type": "stream",
       "stream": "stdout",
       "text": [
        "\r",
        "Done image 49 of 2000 (avg time: 0.0100823020935 secs --- remaining: 0:19)"
       ]
      },
      {
       "output_type": "stream",
       "stream": "stdout",
       "text": [
        "\r",
        "Done image 50 of 2000 (avg time: 0.0103309808993 secs --- remaining: 0:20)"
       ]
      },
      {
       "output_type": "stream",
       "stream": "stdout",
       "text": [
        "\r",
        "Done image 51 of 2000 (avg time: 0.0105506915313 secs --- remaining: 0:20)"
       ]
      },
      {
       "output_type": "stream",
       "stream": "stdout",
       "text": [
        "\r",
        "Done image 52 of 2000 (avg time: 0.0107713015574 secs --- remaining: 0:20)"
       ]
      },
      {
       "output_type": "stream",
       "stream": "stdout",
       "text": [
        "\r",
        "Done image 53 of 2000 (avg time: 0.0109903679954 secs --- remaining: 0:21)"
       ]
      },
      {
       "output_type": "stream",
       "stream": "stdout",
       "text": [
        "\r",
        "Done image 54 of 2000 (avg time: 0.0113011403517 secs --- remaining: 0:21)"
       ]
      },
      {
       "output_type": "stream",
       "stream": "stdout",
       "text": [
        "\r",
        "Done image 55 of 2000 (avg time: 0.0115468714918 secs --- remaining: 0:22)"
       ]
      },
      {
       "output_type": "stream",
       "stream": "stdout",
       "text": [
        "\r",
        "Done image 56 of 2000 (avg time: 0.011813803723 secs --- remaining: 0:22)"
       ]
      },
      {
       "output_type": "stream",
       "stream": "stdout",
       "text": [
        "\r",
        "Done image 57 of 2000 (avg time: 0.0120532882625 secs --- remaining: 0:23)"
       ]
      },
      {
       "output_type": "stream",
       "stream": "stdout",
       "text": [
        "\r",
        "Done image 58 of 2000 (avg time: 0.0122846708459 secs --- remaining: 0:23)"
       ]
      },
      {
       "output_type": "stream",
       "stream": "stdout",
       "text": [
        "\r",
        "Done image 59 of 2000 (avg time: 0.0125151077906 secs --- remaining: 0:24)"
       ]
      },
      {
       "output_type": "stream",
       "stream": "stdout",
       "text": [
        "\r",
        "Done image 60 of 2000 (avg time: 0.0127217144263 secs --- remaining: 0:24)"
       ]
      },
      {
       "output_type": "stream",
       "stream": "stdout",
       "text": [
        "\r",
        "Done image 61 of 2000 (avg time: 0.0129161380952 secs --- remaining: 0:25)"
       ]
      },
      {
       "output_type": "stream",
       "stream": "stdout",
       "text": [
        "\r",
        "Done image 62 of 2000 (avg time: 0.0137740392534 secs --- remaining: 0:26)"
       ]
      },
      {
       "output_type": "stream",
       "stream": "stdout",
       "text": [
        "\r",
        "Done image 63 of 2000 (avg time: 0.0145412869751 secs --- remaining: 0:28)"
       ]
      },
      {
       "output_type": "stream",
       "stream": "stdout",
       "text": [
        "\r",
        "Done image 64 of 2000 (avg time: 0.0152698516846 secs --- remaining: 0:29)"
       ]
      },
      {
       "output_type": "stream",
       "stream": "stdout",
       "text": [
        "\r",
        "Done image 65 of 2000 (avg time: 0.0160042769981 secs --- remaining: 0:30)"
       ]
      },
      {
       "output_type": "stream",
       "stream": "stdout",
       "text": [
        "\r",
        "Done image 66 of 2000 (avg time: 0.0166915423835 secs --- remaining: 0:32)"
       ]
      },
      {
       "output_type": "stream",
       "stream": "stdout",
       "text": [
        "\r",
        "Done image 67 of 2000 (avg time: 0.017375563874 secs --- remaining: 0:33)"
       ]
      },
      {
       "output_type": "stream",
       "stream": "stdout",
       "text": [
        "\r",
        "Done image 68 of 2000 (avg time: 0.0180417005567 secs --- remaining: 0:34)"
       ]
      },
      {
       "output_type": "stream",
       "stream": "stdout",
       "text": [
        "\r",
        "Done image 69 of 2000 (avg time: 0.0187546185085 secs --- remaining: 0:36)"
       ]
      },
      {
       "output_type": "stream",
       "stream": "stdout",
       "text": [
        "\r",
        "Done image 70 of 2000 (avg time: 0.0194819342922 secs --- remaining: 0:37)"
       ]
      },
      {
       "output_type": "stream",
       "stream": "stdout",
       "text": [
        "\r",
        "Done image 71 of 2000 (avg time: 0.0200625889831 secs --- remaining: 0:38)"
       ]
      },
      {
       "output_type": "stream",
       "stream": "stdout",
       "text": [
        "\r",
        "Done image 72 of 2000 (avg time: 0.0201275838565 secs --- remaining: 0:38)"
       ]
      },
      {
       "output_type": "stream",
       "stream": "stdout",
       "text": [
        "\r",
        "Done image 73 of 2000 (avg time: 0.0201935349284 secs --- remaining: 0:38)"
       ]
      },
      {
       "output_type": "stream",
       "stream": "stdout",
       "text": [
        "\r",
        "Done image 74 of 2000 (avg time: 0.0202482350667 secs --- remaining: 0:38)"
       ]
      },
      {
       "output_type": "stream",
       "stream": "stdout",
       "text": [
        "\r",
        "Done image 75 of 2000 (avg time: 0.0203102983926 secs --- remaining: 0:39)"
       ]
      },
      {
       "output_type": "stream",
       "stream": "stdout",
       "text": [
        "\r",
        "Done image 76 of 2000 (avg time: 0.0208361768103 secs --- remaining: 0:40)"
       ]
      },
      {
       "output_type": "stream",
       "stream": "stdout",
       "text": [
        "\r",
        "Done image 77 of 2000 (avg time: 0.0213785996804 secs --- remaining: 0:41)"
       ]
      },
      {
       "output_type": "stream",
       "stream": "stdout",
       "text": [
        "\r",
        "Done image 78 of 2000 (avg time: 0.0219315546977 secs --- remaining: 0:42)"
       ]
      },
      {
       "output_type": "stream",
       "stream": "stdout",
       "text": [
        "\r",
        "Done image 79 of 2000 (avg time: 0.022439172864 secs --- remaining: 0:43)"
       ]
      },
      {
       "output_type": "stream",
       "stream": "stdout",
       "text": [
        "\r",
        "Done image 80 of 2000 (avg time: 0.0229726132051 secs --- remaining: 0:44)"
       ]
      },
      {
       "output_type": "stream",
       "stream": "stdout",
       "text": [
        "\r",
        "Done image 81 of 2000 (avg time: 0.0235244122947 secs --- remaining: 0:45)"
       ]
      },
      {
       "output_type": "stream",
       "stream": "stdout",
       "text": [
        "\r",
        "Done image 82 of 2000 (avg time: 0.0240229727274 secs --- remaining: 0:46)"
       ]
      },
      {
       "output_type": "stream",
       "stream": "stdout",
       "text": [
        "\r",
        "Done image 83 of 2000 (avg time: 0.0244704853921 secs --- remaining: 0:46)"
       ]
      },
      {
       "output_type": "stream",
       "stream": "stdout",
       "text": [
        "\r",
        "Done image 84 of 2000 (avg time: 0.0249361038208 secs --- remaining: 0:47)"
       ]
      },
      {
       "output_type": "stream",
       "stream": "stdout",
       "text": [
        "\r",
        "Done image 85 of 2000 (avg time: 0.0249519403591 secs --- remaining: 0:47)"
       ]
      },
      {
       "output_type": "stream",
       "stream": "stdout",
       "text": [
        "\r",
        "Done image 86 of 2000 (avg time: 0.0249394246902 secs --- remaining: 0:47)"
       ]
      },
      {
       "output_type": "stream",
       "stream": "stdout",
       "text": [
        "\r",
        "Done image 87 of 2000 (avg time: 0.0249110677026 secs --- remaining: 0:47)"
       ]
      },
      {
       "output_type": "stream",
       "stream": "stdout",
       "text": [
        "\r",
        "Done image 88 of 2000 (avg time: 0.0248745505729 secs --- remaining: 0:47)"
       ]
      },
      {
       "output_type": "stream",
       "stream": "stdout",
       "text": [
        "\r",
        "Done image 89 of 2000 (avg time: 0.0248399125205 secs --- remaining: 0:47)"
       ]
      },
      {
       "output_type": "stream",
       "stream": "stdout",
       "text": [
        "\r",
        "Done image 90 of 2000 (avg time: 0.0248080007323 secs --- remaining: 0:47)"
       ]
      },
      {
       "output_type": "stream",
       "stream": "stdout",
       "text": [
        "\r",
        "Done image 91 of 2000 (avg time: 0.0247785993244 secs --- remaining: 0:47)"
       ]
      },
      {
       "output_type": "stream",
       "stream": "stdout",
       "text": [
        "\r",
        "Done image 92 of 2000 (avg time: 0.025127872344 secs --- remaining: 0:47)"
       ]
      },
      {
       "output_type": "stream",
       "stream": "stdout",
       "text": [
        "\r",
        "Done image 93 of 2000 (avg time: 0.0254732573286 secs --- remaining: 0:48)"
       ]
      },
      {
       "output_type": "stream",
       "stream": "stdout",
       "text": [
        "\r",
        "Done image 94 of 2000 (avg time: 0.0258170654899 secs --- remaining: 0:49)"
       ]
      },
      {
       "output_type": "stream",
       "stream": "stdout",
       "text": [
        "\r",
        "Done image 95 of 2000 (avg time: 0.0261687114835 secs --- remaining: 0:49)"
       ]
      },
      {
       "output_type": "stream",
       "stream": "stdout",
       "text": [
        "\r",
        "Done image 96 of 2000 (avg time: 0.0265418696649 secs --- remaining: 0:50)"
       ]
      },
      {
       "output_type": "stream",
       "stream": "stdout",
       "text": [
        "\r",
        "Done image 97 of 2000 (avg time: 0.0265224709803 secs --- remaining: 0:50)"
       ]
      },
      {
       "output_type": "stream",
       "stream": "stdout",
       "text": [
        "\r",
        "Done image 98 of 2000 (avg time: 0.0264683131016 secs --- remaining: 0:50)"
       ]
      },
      {
       "output_type": "stream",
       "stream": "stdout",
       "text": [
        "\r",
        "Done image 99 of 2000 (avg time: 0.0264153003693 secs --- remaining: 0:50)"
       ]
      },
      {
       "output_type": "stream",
       "stream": "stdout",
       "text": [
        "\r",
        "Done image 100 of 2000 (avg time: 0.0267832774927 secs --- remaining: 0:50)"
       ]
      },
      {
       "output_type": "stream",
       "stream": "stdout",
       "text": [
        "\r",
        "Done image 101 of 2000 (avg time: 0.0271951077031 secs --- remaining: 0:51)"
       ]
      },
      {
       "output_type": "stream",
       "stream": "stdout",
       "text": [
        "\r",
        "Done image 102 of 2000 (avg time: 0.0275897192724 secs --- remaining: 0:52)"
       ]
      },
      {
       "output_type": "stream",
       "stream": "stdout",
       "text": [
        "\r",
        "Done image 103 of 2000 (avg time: 0.0279164818617 secs --- remaining: 0:52)"
       ]
      },
      {
       "output_type": "stream",
       "stream": "stdout",
       "text": [
        "\r",
        "Done image 104 of 2000 (avg time: 0.0282229627882 secs --- remaining: 0:53)"
       ]
      },
      {
       "output_type": "stream",
       "stream": "stdout",
       "text": [
        "\r",
        "Done image 105 of 2000 (avg time: 0.0285239916927 secs --- remaining: 0:54)"
       ]
      },
      {
       "output_type": "stream",
       "stream": "stdout",
       "text": [
        "\r",
        "Done image 106 of 2000 (avg time: 0.0288107863096 secs --- remaining: 0:54)"
       ]
      },
      {
       "output_type": "stream",
       "stream": "stdout",
       "text": [
        "\r",
        "Done image 107 of 2000 (avg time: 0.0291068531849 secs --- remaining: 0:55)"
       ]
      },
      {
       "output_type": "stream",
       "stream": "stdout",
       "text": [
        "\r",
        "Done image 108 of 2000 (avg time: 0.029388029641 secs --- remaining: 0:55)"
       ]
      },
      {
       "output_type": "stream",
       "stream": "stdout",
       "text": [
        "\r",
        "Done image 109 of 2000 (avg time: 0.0299959572879 secs --- remaining: 0:56)"
       ]
      },
      {
       "output_type": "stream",
       "stream": "stdout",
       "text": [
        "\r",
        "Done image 110 of 2000 (avg time: 0.0305995425662 secs --- remaining: 0:57)"
       ]
      },
      {
       "output_type": "stream",
       "stream": "stdout",
       "text": [
        "\r",
        "Done image 111 of 2000 (avg time: 0.0313401967287 secs --- remaining: 0:59)"
       ]
      },
      {
       "output_type": "stream",
       "stream": "stdout",
       "text": [
        "\r",
        "Done image 112 of 2000 (avg time: 0.0316714333222 secs --- remaining: 0:59)"
       ]
      },
      {
       "output_type": "stream",
       "stream": "stdout",
       "text": [
        "\r",
        "Done image 113 of 2000 (avg time: 0.032020859551 secs --- remaining: 1:0)"
       ]
      },
      {
       "output_type": "stream",
       "stream": "stdout",
       "text": [
        "\r",
        "Done image 114 of 2000 (avg time: 0.0323905219202 secs --- remaining: 1:1)"
       ]
      },
      {
       "output_type": "stream",
       "stream": "stdout",
       "text": [
        "\r",
        "Done image 115 of 2000 (avg time: 0.0329809394376 secs --- remaining: 1:2)"
       ]
      },
      {
       "output_type": "stream",
       "stream": "stdout",
       "text": [
        "\r",
        "Done image 116 of 2000 (avg time: 0.0336056917142 secs --- remaining: 1:3)"
       ]
      },
      {
       "output_type": "stream",
       "stream": "stdout",
       "text": [
        "\r",
        "Done image 117 of 2000 (avg time: 0.0341740240485 secs --- remaining: 1:4)"
       ]
      },
      {
       "output_type": "stream",
       "stream": "stdout",
       "text": [
        "\r",
        "Done image 118 of 2000 (avg time: 0.0348230910902 secs --- remaining: 1:5)"
       ]
      },
      {
       "output_type": "stream",
       "stream": "stdout",
       "text": [
        "\r",
        "Done image 119 of 2000 (avg time: 0.0353720068932 secs --- remaining: 1:6)"
       ]
      },
      {
       "output_type": "stream",
       "stream": "stdout",
       "text": [
        "\r",
        "Done image 120 of 2000 (avg time: 0.0359069493191 secs --- remaining: 1:7)"
       ]
      },
      {
       "output_type": "stream",
       "stream": "stdout",
       "text": [
        "\r",
        "Done image 121 of 2000 (avg time: 0.0364211055099 secs --- remaining: 1:8)"
       ]
      },
      {
       "output_type": "stream",
       "stream": "stdout",
       "text": [
        "\r",
        "Done image 122 of 2000 (avg time: 0.0369409584418 secs --- remaining: 1:9)"
       ]
      },
      {
       "output_type": "stream",
       "stream": "stdout",
       "text": [
        "\r",
        "Done image 123 of 2000 (avg time: 0.0371267007243 secs --- remaining: 1:9)"
       ]
      },
      {
       "output_type": "stream",
       "stream": "stdout",
       "text": [
        "\r",
        "Done image 124 of 2000 (avg time: 0.0375929431915 secs --- remaining: 1:10)"
       ]
      },
      {
       "output_type": "stream",
       "stream": "stdout",
       "text": [
        "\r",
        "Done image 125 of 2000 (avg time: 0.0380680315078 secs --- remaining: 1:11)"
       ]
      },
      {
       "output_type": "stream",
       "stream": "stdout",
       "text": [
        "\r",
        "Done image 126 of 2000 (avg time: 0.0385293078235 secs --- remaining: 1:12)"
       ]
      },
      {
       "output_type": "stream",
       "stream": "stdout",
       "text": [
        "\r",
        "Done image 127 of 2000 (avg time: 0.038994204253 secs --- remaining: 1:12)"
       ]
      },
      {
       "output_type": "stream",
       "stream": "stdout",
       "text": [
        "\r",
        "Done image 128 of 2000 (avg time: 0.039465636246 secs --- remaining: 1:13)"
       ]
      },
      {
       "output_type": "stream",
       "stream": "stdout",
       "text": [
        "\r",
        "Done image 129 of 2000 (avg time: 0.0396968914912 secs --- remaining: 1:14)"
       ]
      },
      {
       "output_type": "stream",
       "stream": "stdout",
       "text": [
        "\r",
        "Done image 130 of 2000 (avg time: 0.0402064105027 secs --- remaining: 1:15)"
       ]
      },
      {
       "output_type": "stream",
       "stream": "stdout",
       "text": [
        "\r",
        "Done image 131 of 2000 (avg time: 0.0407365578594 secs --- remaining: 1:16)"
       ]
      },
      {
       "output_type": "stream",
       "stream": "stdout",
       "text": [
        "\r",
        "Done image 132 of 2000 (avg time: 0.0411869744609 secs --- remaining: 1:16)"
       ]
      },
      {
       "output_type": "stream",
       "stream": "stdout",
       "text": [
        "\r",
        "Done image 133 of 2000 (avg time: 0.0416386679037 secs --- remaining: 1:17)"
       ]
      },
      {
       "output_type": "stream",
       "stream": "stdout",
       "text": [
        "\r",
        "Done image 134 of 2000 (avg time: 0.0420600926435 secs --- remaining: 1:18)"
       ]
      },
      {
       "output_type": "stream",
       "stream": "stdout",
       "text": [
        "\r",
        "Done image 135 of 2000 (avg time: 0.0425449820126 secs --- remaining: 1:19)"
       ]
      },
      {
       "output_type": "stream",
       "stream": "stdout",
       "text": [
        "\r",
        "Done image 136 of 2000 (avg time: 0.0429954633225 secs --- remaining: 1:20)"
       ]
      },
      {
       "output_type": "stream",
       "stream": "stdout",
       "text": [
        "\r",
        "Done image 137 of 2000 (avg time: 0.0434594897256 secs --- remaining: 1:20)"
       ]
      },
      {
       "output_type": "stream",
       "stream": "stdout",
       "text": [
        "\r",
        "Done image 138 of 2000 (avg time: 0.0438974503991 secs --- remaining: 1:21)"
       ]
      },
      {
       "output_type": "stream",
       "stream": "stdout",
       "text": [
        "\r",
        "Done image 139 of 2000 (avg time: 0.0443247403417 secs --- remaining: 1:22)"
       ]
      },
      {
       "output_type": "stream",
       "stream": "stdout",
       "text": [
        "\r",
        "Done image 140 of 2000 (avg time: 0.0447242598162 secs --- remaining: 1:23)"
       ]
      },
      {
       "output_type": "stream",
       "stream": "stdout",
       "text": [
        "\r",
        "Done image 141 of 2000 (avg time: 0.0451254055534 secs --- remaining: 1:23)"
       ]
      },
      {
       "output_type": "stream",
       "stream": "stdout",
       "text": [
        "\r",
        "Done image 142 of 2000 (avg time: 0.0454952616792 secs --- remaining: 1:24)"
       ]
      },
      {
       "output_type": "stream",
       "stream": "stdout",
       "text": [
        "\r",
        "Done image 143 of 2000 (avg time: 0.046115030845 secs --- remaining: 1:25)"
       ]
      },
      {
       "output_type": "stream",
       "stream": "stdout",
       "text": [
        "\r",
        "Done image 144 of 2000 (avg time: 0.0464812311633 secs --- remaining: 1:26)"
       ]
      },
      {
       "output_type": "stream",
       "stream": "stdout",
       "text": [
        "\r",
        "Done image 145 of 2000 (avg time: 0.0468321467099 secs --- remaining: 1:26)"
       ]
      },
      {
       "output_type": "stream",
       "stream": "stdout",
       "text": [
        "\r",
        "Done image 146 of 2000 (avg time: 0.0473026823835 secs --- remaining: 1:27)"
       ]
      },
      {
       "output_type": "stream",
       "stream": "stdout",
       "text": [
        "\r",
        "Done image 147 of 2000 (avg time: 0.0477736302324 secs --- remaining: 1:28)"
       ]
      },
      {
       "output_type": "stream",
       "stream": "stdout",
       "text": [
        "\r",
        "Done image 148 of 2000 (avg time: 0.048199416807 secs --- remaining: 1:29)"
       ]
      },
      {
       "output_type": "stream",
       "stream": "stdout",
       "text": [
        "\r",
        "Done image 149 of 2000 (avg time: 0.0486186138789 secs --- remaining: 1:29)"
       ]
      },
      {
       "output_type": "stream",
       "stream": "stdout",
       "text": [
        "\r",
        "Done image 150 of 2000 (avg time: 0.048928860797 secs --- remaining: 1:30)"
       ]
      },
      {
       "output_type": "stream",
       "stream": "stdout",
       "text": [
        "\r",
        "Done image 151 of 2000 (avg time: 0.0494906510177 secs --- remaining: 1:31)"
       ]
      },
      {
       "output_type": "stream",
       "stream": "stdout",
       "text": [
        "\r",
        "Done image 152 of 2000 (avg time: 0.0500526537303 secs --- remaining: 1:32)"
       ]
      },
      {
       "output_type": "stream",
       "stream": "stdout",
       "text": [
        "\r",
        "Done image 153 of 2000 (avg time: 0.0503747927678 secs --- remaining: 1:32)"
       ]
      },
      {
       "output_type": "stream",
       "stream": "stdout",
       "text": [
        "\r",
        "Done image 154 of 2000 (avg time: 0.0506975943042 secs --- remaining: 1:33)"
       ]
      },
      {
       "output_type": "stream",
       "stream": "stdout",
       "text": [
        "\r",
        "Done image 155 of 2000 (avg time: 0.0510312945415 secs --- remaining: 1:34)"
       ]
      },
      {
       "output_type": "stream",
       "stream": "stdout",
       "text": [
        "\r",
        "Done image 156 of 2000 (avg time: 0.0513379497893 secs --- remaining: 1:34)"
       ]
      },
      {
       "output_type": "stream",
       "stream": "stdout",
       "text": [
        "\r",
        "Done image 157 of 2000 (avg time: 0.0516452336613 secs --- remaining: 1:35)"
       ]
      },
      {
       "output_type": "stream",
       "stream": "stdout",
       "text": [
        "\r",
        "Done image 158 of 2000 (avg time: 0.0521859237983 secs --- remaining: 1:36)"
       ]
      },
      {
       "output_type": "stream",
       "stream": "stdout",
       "text": [
        "\r",
        "Done image 159 of 2000 (avg time: 0.0524848863482 secs --- remaining: 1:36)"
       ]
      },
      {
       "output_type": "stream",
       "stream": "stdout",
       "text": [
        "\r",
        "Done image 160 of 2000 (avg time: 0.0527875645561 secs --- remaining: 1:37)"
       ]
      },
      {
       "output_type": "stream",
       "stream": "stdout",
       "text": [
        "\r",
        "Done image 161 of 2000 (avg time: 0.0530520618698 secs --- remaining: 1:37)"
       ]
      },
      {
       "output_type": "stream",
       "stream": "stdout",
       "text": [
        "\r",
        "Done image 162 of 2000 (avg time: 0.0533513320736 secs --- remaining: 1:38)"
       ]
      },
      {
       "output_type": "stream",
       "stream": "stdout",
       "text": [
        "\r",
        "Done image 163 of 2000 (avg time: 0.0536196348144 secs --- remaining: 1:38)"
       ]
      },
      {
       "output_type": "stream",
       "stream": "stdout",
       "text": [
        "\r",
        "Done image 164 of 2000 (avg time: 0.0538828257358 secs --- remaining: 1:38)"
       ]
      },
      {
       "output_type": "stream",
       "stream": "stdout",
       "text": [
        "\r",
        "Done image 165 of 2000 (avg time: 0.0541738515877 secs --- remaining: 1:39)"
       ]
      },
      {
       "output_type": "stream",
       "stream": "stdout",
       "text": [
        "\r",
        "Done image 166 of 2000 (avg time: 0.0544455950846 secs --- remaining: 1:39)"
       ]
      },
      {
       "output_type": "stream",
       "stream": "stdout",
       "text": [
        "\r",
        "Done image 167 of 2000 (avg time: 0.0547339717547 secs --- remaining: 1:40)"
       ]
      },
      {
       "output_type": "stream",
       "stream": "stdout",
       "text": [
        "\r",
        "Done image 168 of 2000 (avg time: 0.0550052089804 secs --- remaining: 1:40)"
       ]
      },
      {
       "output_type": "stream",
       "stream": "stdout",
       "text": [
        "\r",
        "Done image 169 of 2000 (avg time: 0.0552597368465 secs --- remaining: 1:41)"
       ]
      },
      {
       "output_type": "stream",
       "stream": "stdout",
       "text": [
        "\r",
        "Done image 170 of 2000 (avg time: 0.0555116976911 secs --- remaining: 1:41)"
       ]
      },
      {
       "output_type": "stream",
       "stream": "stdout",
       "text": [
        "\r",
        "Done image 171 of 2000 (avg time: 0.0557444331258 secs --- remaining: 1:41)"
       ]
      },
      {
       "output_type": "stream",
       "stream": "stdout",
       "text": [
        "\r",
        "Done image 172 of 2000 (avg time: 0.0559760090933 secs --- remaining: 1:42)"
       ]
      },
      {
       "output_type": "stream",
       "stream": "stdout",
       "text": [
        "\r",
        "Done image 173 of 2000 (avg time: 0.0560112616111 secs --- remaining: 1:42)"
       ]
      },
      {
       "output_type": "stream",
       "stream": "stdout",
       "text": [
        "\r",
        "Done image 174 of 2000 (avg time: 0.0562835407257 secs --- remaining: 1:42)"
       ]
      },
      {
       "output_type": "stream",
       "stream": "stdout",
       "text": [
        "\r",
        "Done image 175 of 2000 (avg time: 0.056553623893 secs --- remaining: 1:43)"
       ]
      },
      {
       "output_type": "stream",
       "stream": "stdout",
       "text": [
        "\r",
        "Done image 176 of 2000 (avg time: 0.0568212412171 secs --- remaining: 1:43)"
       ]
      },
      {
       "output_type": "stream",
       "stream": "stdout",
       "text": [
        "\r",
        "Done image 177 of 2000 (avg time: 0.057108722376 secs --- remaining: 1:44)"
       ]
      },
      {
       "output_type": "stream",
       "stream": "stdout",
       "text": [
        "\r",
        "Done image 178 of 2000 (avg time: 0.0572399253952 secs --- remaining: 1:44)"
       ]
      },
      {
       "output_type": "stream",
       "stream": "stdout",
       "text": [
        "\r",
        "Done image 179 of 2000 (avg time: 0.0573922594388 secs --- remaining: 1:44)"
       ]
      },
      {
       "output_type": "stream",
       "stream": "stdout",
       "text": [
        "\r",
        "Done image 180 of 2000 (avg time: 0.0576939437929 secs --- remaining: 1:44)"
       ]
      },
      {
       "output_type": "stream",
       "stream": "stdout",
       "text": [
        "\r",
        "Done image 181 of 2000 (avg time: 0.058055301289 secs --- remaining: 1:45)"
       ]
      },
      {
       "output_type": "stream",
       "stream": "stdout",
       "text": [
        "\r",
        "Done image 182 of 2000 (avg time: 0.0582817421585 secs --- remaining: 1:45)"
       ]
      },
      {
       "output_type": "stream",
       "stream": "stdout",
       "text": [
        "\r",
        "Done image 183 of 2000 (avg time: 0.0584997975308 secs --- remaining: 1:46)"
       ]
      },
      {
       "output_type": "stream",
       "stream": "stdout",
       "text": [
        "\r",
        "Done image 184 of 2000 (avg time: 0.0587898035307 secs --- remaining: 1:46)"
       ]
      },
      {
       "output_type": "stream",
       "stream": "stdout",
       "text": [
        "\r",
        "Done image 185 of 2000 (avg time: 0.0591471759222 secs --- remaining: 1:47)"
       ]
      },
      {
       "output_type": "stream",
       "stream": "stdout",
       "text": [
        "\r",
        "Done image 186 of 2000 (avg time: 0.0595628169769 secs --- remaining: 1:47)"
       ]
      },
      {
       "output_type": "stream",
       "stream": "stdout",
       "text": [
        "\r",
        "Done image 187 of 2000 (avg time: 0.059780089145 secs --- remaining: 1:48)"
       ]
      },
      {
       "output_type": "stream",
       "stream": "stdout",
       "text": [
        "\r",
        "Done image 188 of 2000 (avg time: 0.059985289498 secs --- remaining: 1:48)"
       ]
      },
      {
       "output_type": "stream",
       "stream": "stdout",
       "text": [
        "\r",
        "Done image 189 of 2000 (avg time: 0.060248245691 secs --- remaining: 1:49)"
       ]
      },
      {
       "output_type": "stream",
       "stream": "stdout",
       "text": [
        "\r",
        "Done image 190 of 2000 (avg time: 0.0604550289234 secs --- remaining: 1:49)"
       ]
      },
      {
       "output_type": "stream",
       "stream": "stdout",
       "text": [
        "\r",
        "Done image 191 of 2000 (avg time: 0.0606846945981 secs --- remaining: 1:49)"
       ]
      },
      {
       "output_type": "stream",
       "stream": "stdout",
       "text": [
        "\r",
        "Done image 192 of 2000 (avg time: 0.060932100128 secs --- remaining: 1:50)"
       ]
      },
      {
       "output_type": "stream",
       "stream": "stdout",
       "text": [
        "\r",
        "Done image 193 of 2000 (avg time: 0.0611595529871 secs --- remaining: 1:50)"
       ]
      },
      {
       "output_type": "stream",
       "stream": "stdout",
       "text": [
        "\r",
        "Done image 194 of 2000 (avg time: 0.0614185920128 secs --- remaining: 1:50)"
       ]
      },
      {
       "output_type": "stream",
       "stream": "stdout",
       "text": [
        "\r",
        "Done image 195 of 2000 (avg time: 0.0616213898269 secs --- remaining: 1:51)"
       ]
      },
      {
       "output_type": "stream",
       "stream": "stdout",
       "text": [
        "\r",
        "Done image 196 of 2000 (avg time: 0.0618037523957 secs --- remaining: 1:51)"
       ]
      },
      {
       "output_type": "stream",
       "stream": "stdout",
       "text": [
        "\r",
        "Done image 197 of 2000 (avg time: 0.0619684204911 secs --- remaining: 1:51)"
       ]
      },
      {
       "output_type": "stream",
       "stream": "stdout",
       "text": [
        "\r",
        "Done image 198 of 2000 (avg time: 0.062149226366 secs --- remaining: 1:51)"
       ]
      },
      {
       "output_type": "stream",
       "stream": "stdout",
       "text": [
        "\r",
        "Done image 199 of 2000 (avg time: 0.0623211956024 secs --- remaining: 1:52)"
       ]
      },
      {
       "output_type": "stream",
       "stream": "stdout",
       "text": [
        "\r",
        "Done image 200 of 2000 (avg time: 0.0624915224996 secs --- remaining: 1:52)"
       ]
      },
      {
       "output_type": "stream",
       "stream": "stdout",
       "text": [
        "\r",
        "Done image 201 of 2000 (avg time: 0.062670579051 secs --- remaining: 1:52)"
       ]
      },
      {
       "output_type": "stream",
       "stream": "stdout",
       "text": [
        "\r",
        "Done image 202 of 2000 (avg time: 0.0626604087247 secs --- remaining: 1:52)"
       ]
      },
      {
       "output_type": "stream",
       "stream": "stdout",
       "text": [
        "\r",
        "Done image 203 of 2000 (avg time: 0.0626514507275 secs --- remaining: 1:52)"
       ]
      },
      {
       "output_type": "stream",
       "stream": "stdout",
       "text": [
        "\r",
        "Done image 204 of 2000 (avg time: 0.0626274190298 secs --- remaining: 1:52)"
       ]
      },
      {
       "output_type": "stream",
       "stream": "stdout",
       "text": [
        "\r",
        "Done image 205 of 2000 (avg time: 0.0626165484919 secs --- remaining: 1:52)"
       ]
      },
      {
       "output_type": "stream",
       "stream": "stdout",
       "text": [
        "\r",
        "Done image 206 of 2000 (avg time: 0.0626038790901 secs --- remaining: 1:52)"
       ]
      },
      {
       "output_type": "stream",
       "stream": "stdout",
       "text": [
        "\r",
        "Done image 207 of 2000 (avg time: 0.0624088553282 secs --- remaining: 1:51)"
       ]
      },
      {
       "output_type": "stream",
       "stream": "stdout",
       "text": [
        "\r",
        "Done image 208 of 2000 (avg time: 0.0622150624198 secs --- remaining: 1:51)"
       ]
      },
      {
       "output_type": "stream",
       "stream": "stdout",
       "text": [
        "\r",
        "Done image 209 of 2000 (avg time: 0.0620309046337 secs --- remaining: 1:51)"
       ]
      },
      {
       "output_type": "stream",
       "stream": "stdout",
       "text": [
        "\r",
        "Done image 210 of 2000 (avg time: 0.0618562980851 secs --- remaining: 1:50)"
       ]
      },
      {
       "output_type": "stream",
       "stream": "stdout",
       "text": [
        "\r",
        "Done image 211 of 2000 (avg time: 0.0618561078917 secs --- remaining: 1:50)"
       ]
      },
      {
       "output_type": "stream",
       "stream": "stdout",
       "text": [
        "\r",
        "Done image 212 of 2000 (avg time: 0.061873641932 secs --- remaining: 1:50)"
       ]
      },
      {
       "output_type": "stream",
       "stream": "stdout",
       "text": [
        "\r",
        "Done image 213 of 2000 (avg time: 0.0618712322734 secs --- remaining: 1:50)"
       ]
      },
      {
       "output_type": "stream",
       "stream": "stdout",
       "text": [
        "\r",
        "Done image 214 of 2000 (avg time: 0.0618639480236 secs --- remaining: 1:50)"
       ]
      },
      {
       "output_type": "stream",
       "stream": "stdout",
       "text": [
        "\r",
        "Done image 215 of 2000 (avg time: 0.0618568415995 secs --- remaining: 1:50)"
       ]
      },
      {
       "output_type": "stream",
       "stream": "stdout",
       "text": [
        "\r",
        "Done image 216 of 2000 (avg time: 0.0618506159101 secs --- remaining: 1:50)"
       ]
      },
      {
       "output_type": "stream",
       "stream": "stdout",
       "text": [
        "\r",
        "Done image 217 of 2000 (avg time: 0.0618465482642 secs --- remaining: 1:50)"
       ]
      },
      {
       "output_type": "stream",
       "stream": "stdout",
       "text": [
        "\r",
        "Done image 218 of 2000 (avg time: 0.0618610621587 secs --- remaining: 1:50)"
       ]
      },
      {
       "output_type": "stream",
       "stream": "stdout",
       "text": [
        "\r",
        "Done image 219 of 2000 (avg time: 0.0616918531331 secs --- remaining: 1:49)"
       ]
      },
      {
       "output_type": "stream",
       "stream": "stdout",
       "text": [
        "\r",
        "Done image 220 of 2000 (avg time: 0.061527283483 secs --- remaining: 1:49)"
       ]
      },
      {
       "output_type": "stream",
       "stream": "stdout",
       "text": [
        "\r",
        "Done image 221 of 2000 (avg time: 0.0613508589633 secs --- remaining: 1:49)"
       ]
      },
      {
       "output_type": "stream",
       "stream": "stdout",
       "text": [
        "\r",
        "Done image 222 of 2000 (avg time: 0.0611717658193 secs --- remaining: 1:48)"
       ]
      },
      {
       "output_type": "stream",
       "stream": "stdout",
       "text": [
        "\r",
        "Done image 223 of 2000 (avg time: 0.0609949103424 secs --- remaining: 1:48)"
       ]
      },
      {
       "output_type": "stream",
       "stream": "stdout",
       "text": [
        "\r",
        "Done image 224 of 2000 (avg time: 0.0610000970629 secs --- remaining: 1:48)"
       ]
      },
      {
       "output_type": "stream",
       "stream": "stdout",
       "text": [
        "\r",
        "Done image 225 of 2000 (avg time: 0.0610082434342 secs --- remaining: 1:48)"
       ]
      },
      {
       "output_type": "stream",
       "stream": "stdout",
       "text": [
        "\r",
        "Done image 226 of 2000 (avg time: 0.0610550657768 secs --- remaining: 1:48)"
       ]
      },
      {
       "output_type": "stream",
       "stream": "stdout",
       "text": [
        "\r",
        "Done image 227 of 2000 (avg time: 0.0610824384187 secs --- remaining: 1:48)"
       ]
      },
      {
       "output_type": "stream",
       "stream": "stdout",
       "text": [
        "\r",
        "Done image 228 of 2000 (avg time: 0.0610830356981 secs --- remaining: 1:48)"
       ]
      },
      {
       "output_type": "stream",
       "stream": "stdout",
       "text": [
        "\r",
        "Done image 229 of 2000 (avg time: 0.0610688447952 secs --- remaining: 1:48)"
       ]
      },
      {
       "output_type": "stream",
       "stream": "stdout",
       "text": [
        "\r",
        "Done image 230 of 2000 (avg time: 0.0610556602478 secs --- remaining: 1:48)"
       ]
      },
      {
       "output_type": "stream",
       "stream": "stdout",
       "text": [
        "\r",
        "Done image 231 of 2000 (avg time: 0.0610681052866 secs --- remaining: 1:47)"
       ]
      },
      {
       "output_type": "stream",
       "stream": "stdout",
       "text": [
        "\r",
        "Done image 232 of 2000 (avg time: 0.0608979550554 secs --- remaining: 1:47)"
       ]
      },
      {
       "output_type": "stream",
       "stream": "stdout",
       "text": [
        "\r",
        "Done image 233 of 2000 (avg time: 0.0607390536202 secs --- remaining: 1:47)"
       ]
      },
      {
       "output_type": "stream",
       "stream": "stdout",
       "text": [
        "\r",
        "Done image 234 of 2000 (avg time: 0.0605912533212 secs --- remaining: 1:46)"
       ]
      },
      {
       "output_type": "stream",
       "stream": "stdout",
       "text": [
        "\r",
        "Done image 235 of 2000 (avg time: 0.0604401160095 secs --- remaining: 1:46)"
       ]
      },
      {
       "output_type": "stream",
       "stream": "stdout",
       "text": [
        "\r",
        "Done image 236 of 2000 (avg time: 0.0602911997445 secs --- remaining: 1:46)"
       ]
      },
      {
       "output_type": "stream",
       "stream": "stdout",
       "text": [
        "\r",
        "Done image 237 of 2000 (avg time: 0.0602881317379 secs --- remaining: 1:46)"
       ]
      },
      {
       "output_type": "stream",
       "stream": "stdout",
       "text": [
        "\r",
        "Done image 238 of 2000 (avg time: 0.0603012479998 secs --- remaining: 1:46)"
       ]
      },
      {
       "output_type": "stream",
       "stream": "stdout",
       "text": [
        "\r",
        "Done image 239 of 2000 (avg time: 0.0603205919266 secs --- remaining: 1:46)"
       ]
      },
      {
       "output_type": "stream",
       "stream": "stdout",
       "text": [
        "\r",
        "Done image 240 of 2000 (avg time: 0.0603569503642 secs --- remaining: 1:46)"
       ]
      },
      {
       "output_type": "stream",
       "stream": "stdout",
       "text": [
        "\r",
        "Done image 241 of 2000 (avg time: 0.0603624050282 secs --- remaining: 1:46)"
       ]
      },
      {
       "output_type": "stream",
       "stream": "stdout",
       "text": [
        "\r",
        "Done image 242 of 2000 (avg time: 0.0603736418265 secs --- remaining: 1:46)"
       ]
      },
      {
       "output_type": "stream",
       "stream": "stdout",
       "text": [
        "\r",
        "Done image 243 of 2000 (avg time: 0.0603769304322 secs --- remaining: 1:46)"
       ]
      },
      {
       "output_type": "stream",
       "stream": "stdout",
       "text": [
        "\r",
        "Done image 244 of 2000 (avg time: 0.0602329507166 secs --- remaining: 1:45)"
       ]
      },
      {
       "output_type": "stream",
       "stream": "stdout",
       "text": [
        "\r",
        "Done image 245 of 2000 (avg time: 0.0600895842886 secs --- remaining: 1:45)"
       ]
      },
      {
       "output_type": "stream",
       "stream": "stdout",
       "text": [
        "\r",
        "Done image 246 of 2000 (avg time: 0.0601159821638 secs --- remaining: 1:45)"
       ]
      },
      {
       "output_type": "stream",
       "stream": "stdout",
       "text": [
        "\r",
        "Done image 247 of 2000 (avg time: 0.0601387687268 secs --- remaining: 1:45)"
       ]
      },
      {
       "output_type": "stream",
       "stream": "stdout",
       "text": [
        "\r",
        "Done image 248 of 2000 (avg time: 0.0601623077469 secs --- remaining: 1:45)"
       ]
      },
      {
       "output_type": "stream",
       "stream": "stdout",
       "text": [
        "\r",
        "Done image 249 of 2000 (avg time: 0.0601602983475 secs --- remaining: 1:45)"
       ]
      },
      {
       "output_type": "stream",
       "stream": "stdout",
       "text": [
        "\r",
        "Done image 250 of 2000 (avg time: 0.0601562693774 secs --- remaining: 1:45)"
       ]
      },
      {
       "output_type": "stream",
       "stream": "stdout",
       "text": [
        "\r",
        "Done image 251 of 2000 (avg time: 0.0601765068751 secs --- remaining: 1:45)"
       ]
      },
      {
       "output_type": "stream",
       "stream": "stdout",
       "text": [
        "\r",
        "Done image 252 of 2000 (avg time: 0.06021160759 secs --- remaining: 1:45)"
       ]
      },
      {
       "output_type": "stream",
       "stream": "stdout",
       "text": [
        "\r",
        "Done image 253 of 2000 (avg time: 0.0602102110705 secs --- remaining: 1:45)"
       ]
      },
      {
       "output_type": "stream",
       "stream": "stdout",
       "text": [
        "\r",
        "Done image 254 of 2000 (avg time: 0.0602101943072 secs --- remaining: 1:45)"
       ]
      },
      {
       "output_type": "stream",
       "stream": "stdout",
       "text": [
        "\r",
        "Done image 255 of 2000 (avg time: 0.0602034321055 secs --- remaining: 1:44)"
       ]
      },
      {
       "output_type": "stream",
       "stream": "stdout",
       "text": [
        "\r",
        "Done image 256 of 2000 (avg time: 0.0603535778328 secs --- remaining: 1:45)"
       ]
      },
      {
       "output_type": "stream",
       "stream": "stdout",
       "text": [
        "\r",
        "Done image 257 of 2000 (avg time: 0.0605303317077 secs --- remaining: 1:45)"
       ]
      },
      {
       "output_type": "stream",
       "stream": "stdout",
       "text": [
        "\r",
        "Done image 258 of 2000 (avg time: 0.0607065970373 secs --- remaining: 1:45)"
       ]
      },
      {
       "output_type": "stream",
       "stream": "stdout",
       "text": [
        "\r",
        "Done image 259 of 2000 (avg time: 0.0608000562741 secs --- remaining: 1:45)"
       ]
      },
      {
       "output_type": "stream",
       "stream": "stdout",
       "text": [
        "\r",
        "Done image 260 of 2000 (avg time: 0.0608475920798 secs --- remaining: 1:45)"
       ]
      },
      {
       "output_type": "stream",
       "stream": "stdout",
       "text": [
        "\r",
        "Done image 261 of 2000 (avg time: 0.0610990405993 secs --- remaining: 1:46)"
       ]
      },
      {
       "output_type": "stream",
       "stream": "stdout",
       "text": [
        "\r",
        "Done image 262 of 2000 (avg time: 0.0612655084849 secs --- remaining: 1:46)"
       ]
      },
      {
       "output_type": "stream",
       "stream": "stdout",
       "text": [
        "\r",
        "Done image 263 of 2000 (avg time: 0.0614247340145 secs --- remaining: 1:46)"
       ]
      },
      {
       "output_type": "stream",
       "stream": "stdout",
       "text": [
        "\r",
        "Done image 264 of 2000 (avg time: 0.0616008443652 secs --- remaining: 1:46)"
       ]
      },
      {
       "output_type": "stream",
       "stream": "stdout",
       "text": [
        "\r",
        "Done image 265 of 2000 (avg time: 0.0617627963088 secs --- remaining: 1:47)"
       ]
      },
      {
       "output_type": "stream",
       "stream": "stdout",
       "text": [
        "\r",
        "Done image 266 of 2000 (avg time: 0.0619135161911 secs --- remaining: 1:47)"
       ]
      },
      {
       "output_type": "stream",
       "stream": "stdout",
       "text": [
        "\r",
        "Done image 267 of 2000 (avg time: 0.0620535478663 secs --- remaining: 1:47)"
       ]
      },
      {
       "output_type": "stream",
       "stream": "stdout",
       "text": [
        "\r",
        "Done image 268 of 2000 (avg time: 0.0620560362437 secs --- remaining: 1:47)"
       ]
      },
      {
       "output_type": "stream",
       "stream": "stdout",
       "text": [
        "\r",
        "Done image 269 of 2000 (avg time: 0.0620550959199 secs --- remaining: 1:47)"
       ]
      },
      {
       "output_type": "stream",
       "stream": "stdout",
       "text": [
        "\r",
        "Done image 270 of 2000 (avg time: 0.0620507930038 secs --- remaining: 1:47)"
       ]
      },
      {
       "output_type": "stream",
       "stream": "stdout",
       "text": [
        "\r",
        "Done image 271 of 2000 (avg time: 0.0620458012118 secs --- remaining: 1:47)"
       ]
      },
      {
       "output_type": "stream",
       "stream": "stdout",
       "text": [
        "\r",
        "Done image 272 of 2000 (avg time: 0.0621812596863 secs --- remaining: 1:47)"
       ]
      },
      {
       "output_type": "stream",
       "stream": "stdout",
       "text": [
        "\r",
        "Done image 273 of 2000 (avg time: 0.0622991201651 secs --- remaining: 1:47)"
       ]
      },
      {
       "output_type": "stream",
       "stream": "stdout",
       "text": [
        "\r",
        "Done image 274 of 2000 (avg time: 0.062428854162 secs --- remaining: 1:47)"
       ]
      },
      {
       "output_type": "stream",
       "stream": "stdout",
       "text": [
        "\r",
        "Done image 275 of 2000 (avg time: 0.0625590137813 secs --- remaining: 1:47)"
       ]
      },
      {
       "output_type": "stream",
       "stream": "stdout",
       "text": [
        "\r",
        "Done image 276 of 2000 (avg time: 0.0626741979096 secs --- remaining: 1:47)"
       ]
      },
      {
       "output_type": "stream",
       "stream": "stdout",
       "text": [
        "\r",
        "Done image 277 of 2000 (avg time: 0.0626956361661 secs --- remaining: 1:47)"
       ]
      },
      {
       "output_type": "stream",
       "stream": "stdout",
       "text": [
        "\r",
        "Done image 278 of 2000 (avg time: 0.0628332502098 secs --- remaining: 1:48)"
       ]
      },
      {
       "output_type": "stream",
       "stream": "stdout",
       "text": [
        "\r",
        "Done image 279 of 2000 (avg time: 0.0629814743996 secs --- remaining: 1:48)"
       ]
      },
      {
       "output_type": "stream",
       "stream": "stdout",
       "text": [
        "\r",
        "Done image 280 of 2000 (avg time: 0.063113416217 secs --- remaining: 1:48)"
       ]
      },
      {
       "output_type": "stream",
       "stream": "stdout",
       "text": [
        "\r",
        "Done image 281 of 2000 (avg time: 0.0632480247646 secs --- remaining: 1:48)"
       ]
      },
      {
       "output_type": "stream",
       "stream": "stdout",
       "text": [
        "\r",
        "Done image 282 of 2000 (avg time: 0.063380509299 secs --- remaining: 1:48)"
       ]
      },
      {
       "output_type": "stream",
       "stream": "stdout",
       "text": [
        "\r",
        "Done image 283 of 2000 (avg time: 0.0636605989765 secs --- remaining: 1:49)"
       ]
      },
      {
       "output_type": "stream",
       "stream": "stdout",
       "text": [
        "\r",
        "Done image 284 of 2000 (avg time: 0.0637840814758 secs --- remaining: 1:49)"
       ]
      },
      {
       "output_type": "stream",
       "stream": "stdout",
       "text": [
        "\r",
        "Done image 285 of 2000 (avg time: 0.0639073540281 secs --- remaining: 1:49)"
       ]
      },
      {
       "output_type": "stream",
       "stream": "stdout",
       "text": [
        "\r",
        "Done image 286 of 2000 (avg time: 0.0640744888824 secs --- remaining: 1:49)"
       ]
      },
      {
       "output_type": "stream",
       "stream": "stdout",
       "text": [
        "\r",
        "Done image 287 of 2000 (avg time: 0.0642315190699 secs --- remaining: 1:49)"
       ]
      },
      {
       "output_type": "stream",
       "stream": "stdout",
       "text": [
        "\r",
        "Done image 288 of 2000 (avg time: 0.0645053898174 secs --- remaining: 1:50)"
       ]
      },
      {
       "output_type": "stream",
       "stream": "stdout",
       "text": [
        "\r",
        "Done image 289 of 2000 (avg time: 0.0647487229314 secs --- remaining: 1:50)"
       ]
      },
      {
       "output_type": "stream",
       "stream": "stdout",
       "text": [
        "\r",
        "Done image 290 of 2000 (avg time: 0.0649897716299 secs --- remaining: 1:51)"
       ]
      },
      {
       "output_type": "stream",
       "stream": "stdout",
       "text": [
        "\r",
        "Done image 291 of 2000 (avg time: 0.0652182412474 secs --- remaining: 1:51)"
       ]
      },
      {
       "output_type": "stream",
       "stream": "stdout",
       "text": [
        "\r",
        "Done image 292 of 2000 (avg time: 0.065324400879 secs --- remaining: 1:51)"
       ]
      },
      {
       "output_type": "stream",
       "stream": "stdout",
       "text": [
        "\r",
        "Done image 293 of 2000 (avg time: 0.0654313556191 secs --- remaining: 1:51)"
       ]
      },
      {
       "output_type": "stream",
       "stream": "stdout",
       "text": [
        "\r",
        "Done image 294 of 2000 (avg time: 0.065544222169 secs --- remaining: 1:51)"
       ]
      },
      {
       "output_type": "stream",
       "stream": "stdout",
       "text": [
        "\r",
        "Done image 295 of 2000 (avg time: 0.0656520047703 secs --- remaining: 1:51)"
       ]
      },
      {
       "output_type": "stream",
       "stream": "stdout",
       "text": [
        "\r",
        "Done image 296 of 2000 (avg time: 0.0657544858528 secs --- remaining: 1:51)"
       ]
      },
      {
       "output_type": "stream",
       "stream": "stdout",
       "text": [
        "\r",
        "Done image 297 of 2000 (avg time: 0.0658635645105 secs --- remaining: 1:52)"
       ]
      },
      {
       "output_type": "stream",
       "stream": "stdout",
       "text": [
        "\r",
        "Done image 298 of 2000 (avg time: 0.0659686362863 secs --- remaining: 1:52)"
       ]
      },
      {
       "output_type": "stream",
       "stream": "stdout",
       "text": [
        "\r",
        "Done image 299 of 2000 (avg time: 0.0660726539294 secs --- remaining: 1:52)"
       ]
      },
      {
       "output_type": "stream",
       "stream": "stdout",
       "text": [
        "\r",
        "Done image 300 of 2000 (avg time: 0.0661867615392 secs --- remaining: 1:52)"
       ]
      },
      {
       "output_type": "stream",
       "stream": "stdout",
       "text": [
        "\r",
        "Done image 301 of 2000 (avg time: 0.0663053744676 secs --- remaining: 1:52)"
       ]
      },
      {
       "output_type": "stream",
       "stream": "stdout",
       "text": [
        "\r",
        "Done image 302 of 2000 (avg time: 0.0664171362081 secs --- remaining: 1:52)"
       ]
      },
      {
       "output_type": "stream",
       "stream": "stdout",
       "text": [
        "\r",
        "Done image 303 of 2000 (avg time: 0.0665429579584 secs --- remaining: 1:52)"
       ]
      },
      {
       "output_type": "stream",
       "stream": "stdout",
       "text": [
        "\r",
        "Done image 304 of 2000 (avg time: 0.0666529811797 secs --- remaining: 1:52)"
       ]
      },
      {
       "output_type": "stream",
       "stream": "stdout",
       "text": [
        "\r",
        "Done image 305 of 2000 (avg time: 0.0668802752214 secs --- remaining: 1:53)"
       ]
      },
      {
       "output_type": "stream",
       "stream": "stdout",
       "text": [
        "\r",
        "Done image 306 of 2000 (avg time: 0.0669938640408 secs --- remaining: 1:53)"
       ]
      },
      {
       "output_type": "stream",
       "stream": "stdout",
       "text": [
        "\r",
        "Done image 307 of 2000 (avg time: 0.0671026110649 secs --- remaining: 1:53)"
       ]
      },
      {
       "output_type": "stream",
       "stream": "stdout",
       "text": [
        "\r",
        "Done image 308 of 2000 (avg time: 0.0672145607402 secs --- remaining: 1:53)"
       ]
      },
      {
       "output_type": "stream",
       "stream": "stdout",
       "text": [
        "\r",
        "Done image 309 of 2000 (avg time: 0.0673182879725 secs --- remaining: 1:53)"
       ]
      },
      {
       "output_type": "stream",
       "stream": "stdout",
       "text": [
        "\r",
        "Done image 310 of 2000 (avg time: 0.06741216865 secs --- remaining: 1:53)"
       ]
      },
      {
       "output_type": "stream",
       "stream": "stdout",
       "text": [
        "\r",
        "Done image 311 of 2000 (avg time: 0.0675054215468 secs --- remaining: 1:53)"
       ]
      },
      {
       "output_type": "stream",
       "stream": "stdout",
       "text": [
        "\r",
        "Done image 312 of 2000 (avg time: 0.0676214839704 secs --- remaining: 1:54)"
       ]
      },
      {
       "output_type": "stream",
       "stream": "stdout",
       "text": [
        "\r",
        "Done image 313 of 2000 (avg time: 0.067710498336 secs --- remaining: 1:54)"
       ]
      },
      {
       "output_type": "stream",
       "stream": "stdout",
       "text": [
        "\r",
        "Done image 314 of 2000 (avg time: 0.0678549024794 secs --- remaining: 1:54)"
       ]
      },
      {
       "output_type": "stream",
       "stream": "stdout",
       "text": [
        "\r",
        "Done image 315 of 2000 (avg time: 0.0679522948929 secs --- remaining: 1:54)"
       ]
      },
      {
       "output_type": "stream",
       "stream": "stdout",
       "text": [
        "\r",
        "Done image 316 of 2000 (avg time: 0.0680450257443 secs --- remaining: 1:54)"
       ]
      },
      {
       "output_type": "stream",
       "stream": "stdout",
       "text": [
        "\r",
        "Done image 317 of 2000 (avg time: 0.068139837223 secs --- remaining: 1:54)"
       ]
      },
      {
       "output_type": "stream",
       "stream": "stdout",
       "text": [
        "\r",
        "Done image 318 of 2000 (avg time: 0.0682333928291 secs --- remaining: 1:54)"
       ]
      },
      {
       "output_type": "stream",
       "stream": "stdout",
       "text": [
        "\r",
        "Done image 319 of 2000 (avg time: 0.0683283820748 secs --- remaining: 1:54)"
       ]
      },
      {
       "output_type": "stream",
       "stream": "stdout",
       "text": [
        "\r",
        "Done image 320 of 2000 (avg time: 0.0684198946968 secs --- remaining: 1:54)"
       ]
      },
      {
       "output_type": "stream",
       "stream": "stdout",
       "text": [
        "\r",
        "Done image 321 of 2000 (avg time: 0.0685217772952 secs --- remaining: 1:54)"
       ]
      },
      {
       "output_type": "stream",
       "stream": "stdout",
       "text": [
        "\r",
        "Done image 322 of 2000 (avg time: 0.0686135889945 secs --- remaining: 1:55)"
       ]
      },
      {
       "output_type": "stream",
       "stream": "stdout",
       "text": [
        "\r",
        "Done image 323 of 2000 (avg time: 0.0687021429156 secs --- remaining: 1:55)"
       ]
      },
      {
       "output_type": "stream",
       "stream": "stdout",
       "text": [
        "\r",
        "Done image 324 of 2000 (avg time: 0.0687909852541 secs --- remaining: 1:55)"
       ]
      },
      {
       "output_type": "stream",
       "stream": "stdout",
       "text": [
        "\r",
        "Done image 325 of 2000 (avg time: 0.068895979893 secs --- remaining: 1:55)"
       ]
      },
      {
       "output_type": "stream",
       "stream": "stdout",
       "text": [
        "\r",
        "Done image 326 of 2000 (avg time: 0.0689871449718 secs --- remaining: 1:55)"
       ]
      },
      {
       "output_type": "stream",
       "stream": "stdout",
       "text": [
        "\r",
        "Done image 327 of 2000 (avg time: 0.0689567174853 secs --- remaining: 1:55)"
       ]
      },
      {
       "output_type": "stream",
       "stream": "stdout",
       "text": [
        "\r",
        "Done image 328 of 2000 (avg time: 0.0690438160418 secs --- remaining: 1:55)"
       ]
      },
      {
       "output_type": "stream",
       "stream": "stdout",
       "text": [
        "\r",
        "Done image 329 of 2000 (avg time: 0.0691311619499 secs --- remaining: 1:55)"
       ]
      },
      {
       "output_type": "stream",
       "stream": "stdout",
       "text": [
        "\r",
        "Done image 330 of 2000 (avg time: 0.0693285450835 secs --- remaining: 1:55)"
       ]
      },
      {
       "output_type": "stream",
       "stream": "stdout",
       "text": [
        "\r",
        "Done image 331 of 2000 (avg time: 0.069525371833 secs --- remaining: 1:55)"
       ]
      },
      {
       "output_type": "stream",
       "stream": "stdout",
       "text": [
        "\r",
        "Done image 332 of 2000 (avg time: 0.0697266045991 secs --- remaining: 1:56)"
       ]
      },
      {
       "output_type": "stream",
       "stream": "stdout",
       "text": [
        "\r",
        "Done image 333 of 2000 (avg time: 0.0699199737903 secs --- remaining: 1:56)"
       ]
      },
      {
       "output_type": "stream",
       "stream": "stdout",
       "text": [
        "\r",
        "Done image 334 of 2000 (avg time: 0.0700206158766 secs --- remaining: 1:56)"
       ]
      },
      {
       "output_type": "stream",
       "stream": "stdout",
       "text": [
        "\r",
        "Done image 335 of 2000 (avg time: 0.0701049325012 secs --- remaining: 1:56)"
       ]
      },
      {
       "output_type": "stream",
       "stream": "stdout",
       "text": [
        "\r",
        "Done image 336 of 2000 (avg time: 0.0702174728631 secs --- remaining: 1:56)"
       ]
      },
      {
       "output_type": "stream",
       "stream": "stdout",
       "text": [
        "\r",
        "Done image 337 of 2000 (avg time: 0.070300903546 secs --- remaining: 1:56)"
       ]
      },
      {
       "output_type": "stream",
       "stream": "stdout",
       "text": [
        "\r",
        "Done image 338 of 2000 (avg time: 0.0703864814961 secs --- remaining: 1:56)"
       ]
      },
      {
       "output_type": "stream",
       "stream": "stdout",
       "text": [
        "\r",
        "Done image 339 of 2000 (avg time: 0.0704779267311 secs --- remaining: 1:56)"
       ]
      },
      {
       "output_type": "stream",
       "stream": "stdout",
       "text": [
        "\r",
        "Done image 340 of 2000 (avg time: 0.0705573726609 secs --- remaining: 1:57)"
       ]
      },
      {
       "output_type": "stream",
       "stream": "stdout",
       "text": [
        "\r",
        "Done image 341 of 2000 (avg time: 0.0706373104575 secs --- remaining: 1:57)"
       ]
      },
      {
       "output_type": "stream",
       "stream": "stdout",
       "text": [
        "\r",
        "Done image 342 of 2000 (avg time: 0.0707232833951 secs --- remaining: 1:57)"
       ]
      },
      {
       "output_type": "stream",
       "stream": "stdout",
       "text": [
        "\r",
        "Done image 343 of 2000 (avg time: 0.0708139282326 secs --- remaining: 1:57)"
       ]
      },
      {
       "output_type": "stream",
       "stream": "stdout",
       "text": [
        "\r",
        "Done image 344 of 2000 (avg time: 0.0707931484001 secs --- remaining: 1:57)"
       ]
      },
      {
       "output_type": "stream",
       "stream": "stdout",
       "text": [
        "\r",
        "Done image 345 of 2000 (avg time: 0.0707750031025 secs --- remaining: 1:57)"
       ]
      },
      {
       "output_type": "stream",
       "stream": "stdout",
       "text": [
        "\r",
        "Done image 346 of 2000 (avg time: 0.0707396629564 secs --- remaining: 1:56)"
       ]
      },
      {
       "output_type": "stream",
       "stream": "stdout",
       "text": [
        "\r",
        "Done image 347 of 2000 (avg time: 0.0707100890149 secs --- remaining: 1:56)"
       ]
      },
      {
       "output_type": "stream",
       "stream": "stdout",
       "text": [
        "\r",
        "Done image 348 of 2000 (avg time: 0.070570761973 secs --- remaining: 1:56)"
       ]
      },
      {
       "output_type": "stream",
       "stream": "stdout",
       "text": [
        "\r",
        "Done image 349 of 2000 (avg time: 0.070434519904 secs --- remaining: 1:56)"
       ]
      },
      {
       "output_type": "stream",
       "stream": "stdout",
       "text": [
        "\r",
        "Done image 350 of 2000 (avg time: 0.0702975842348 secs --- remaining: 1:55)"
       ]
      },
      {
       "output_type": "stream",
       "stream": "stdout",
       "text": [
        "\r",
        "Done image 351 of 2000 (avg time: 0.0701618749987 secs --- remaining: 1:55)"
       ]
      },
      {
       "output_type": "stream",
       "stream": "stdout",
       "text": [
        "\r",
        "Done image 352 of 2000 (avg time: 0.0700245099432 secs --- remaining: 1:55)"
       ]
      },
      {
       "output_type": "stream",
       "stream": "stdout",
       "text": [
        "\r",
        "Done image 353 of 2000 (avg time: 0.0699935195136 secs --- remaining: 1:55)"
       ]
      },
      {
       "output_type": "stream",
       "stream": "stdout",
       "text": [
        "\r",
        "Done image 354 of 2000 (avg time: 0.0699660415381 secs --- remaining: 1:55)"
       ]
      },
      {
       "output_type": "stream",
       "stream": "stdout",
       "text": [
        "\r",
        "Done image 355 of 2000 (avg time: 0.0698306480151 secs --- remaining: 1:54)"
       ]
      },
      {
       "output_type": "stream",
       "stream": "stdout",
       "text": [
        "\r",
        "Done image 356 of 2000 (avg time: 0.069697201085 secs --- remaining: 1:54)"
       ]
      },
      {
       "output_type": "stream",
       "stream": "stdout",
       "text": [
        "\r",
        "Done image 357 of 2000 (avg time: 0.0695622899679 secs --- remaining: 1:54)"
       ]
      },
      {
       "output_type": "stream",
       "stream": "stdout",
       "text": [
        "\r",
        "Done image 358 of 2000 (avg time: 0.0695379909367 secs --- remaining: 1:54)"
       ]
      },
      {
       "output_type": "stream",
       "stream": "stdout",
       "text": [
        "\r",
        "Done image 359 of 2000 (avg time: 0.0695405854119 secs --- remaining: 1:54)"
       ]
      },
      {
       "output_type": "stream",
       "stream": "stdout",
       "text": [
        "\r",
        "Done image 360 of 2000 (avg time: 0.0695134424437 secs --- remaining: 1:53)"
       ]
      },
      {
       "output_type": "stream",
       "stream": "stdout",
       "text": [
        "\r",
        "Done image 361 of 2000 (avg time: 0.0694884470155 secs --- remaining: 1:53)"
       ]
      },
      {
       "output_type": "stream",
       "stream": "stdout",
       "text": [
        "\r",
        "Done image 362 of 2000 (avg time: 0.0694586363706 secs --- remaining: 1:53)"
       ]
      },
      {
       "output_type": "stream",
       "stream": "stdout",
       "text": [
        "\r",
        "Done image 363 of 2000 (avg time: 0.0694507445608 secs --- remaining: 1:53)"
       ]
      },
      {
       "output_type": "stream",
       "stream": "stdout",
       "text": [
        "\r",
        "Done image 364 of 2000 (avg time: 0.069540893215 secs --- remaining: 1:53)"
       ]
      },
      {
       "output_type": "stream",
       "stream": "stdout",
       "text": [
        "\r",
        "Done image 365 of 2000 (avg time: 0.0696164916773 secs --- remaining: 1:53)"
       ]
      },
      {
       "output_type": "stream",
       "stream": "stdout",
       "text": [
        "\r",
        "Done image 366 of 2000 (avg time: 0.0696920276663 secs --- remaining: 1:53)"
       ]
      },
      {
       "output_type": "stream",
       "stream": "stdout",
       "text": [
        "\r",
        "Done image 367 of 2000 (avg time: 0.0697672827088 secs --- remaining: 1:53)"
       ]
      },
      {
       "output_type": "stream",
       "stream": "stdout",
       "text": [
        "\r",
        "Done image 368 of 2000 (avg time: 0.0699418405207 secs --- remaining: 1:54)"
       ]
      },
      {
       "output_type": "stream",
       "stream": "stdout",
       "text": [
        "\r",
        "Done image 369 of 2000 (avg time: 0.0701158787753 secs --- remaining: 1:54)"
       ]
      },
      {
       "output_type": "stream",
       "stream": "stdout",
       "text": [
        "\r",
        "Done image 370 of 2000 (avg time: 0.0702883239705 secs --- remaining: 1:54)"
       ]
      },
      {
       "output_type": "stream",
       "stream": "stdout",
       "text": [
        "\r",
        "Done image 371 of 2000 (avg time: 0.0704658473692 secs --- remaining: 1:54)"
       ]
      },
      {
       "output_type": "stream",
       "stream": "stdout",
       "text": [
        "\r",
        "Done image 372 of 2000 (avg time: 0.0706421478824 secs --- remaining: 1:54)"
       ]
      },
      {
       "output_type": "stream",
       "stream": "stdout",
       "text": [
        "\r",
        "Done image 373 of 2000 (avg time: 0.0708085400535 secs --- remaining: 1:55)"
       ]
      },
      {
       "output_type": "stream",
       "stream": "stdout",
       "text": [
        "\r",
        "Done image 374 of 2000 (avg time: 0.0709736798604 secs --- remaining: 1:55)"
       ]
      },
      {
       "output_type": "stream",
       "stream": "stdout",
       "text": [
        "\r",
        "Done image 375 of 2000 (avg time: 0.0711396355578 secs --- remaining: 1:55)"
       ]
      },
      {
       "output_type": "stream",
       "stream": "stdout",
       "text": [
        "\r",
        "Done image 376 of 2000 (avg time: 0.0712125434167 secs --- remaining: 1:55)"
       ]
      },
      {
       "output_type": "stream",
       "stream": "stdout",
       "text": [
        "\r",
        "Done image 377 of 2000 (avg time: 0.071370412433 secs --- remaining: 1:55)"
       ]
      },
      {
       "output_type": "stream",
       "stream": "stdout",
       "text": [
        "\r",
        "Done image 378 of 2000 (avg time: 0.0715414691412 secs --- remaining: 1:55)"
       ]
      },
      {
       "output_type": "stream",
       "stream": "stdout",
       "text": [
        "\r",
        "Done image 379 of 2000 (avg time: 0.0717147601278 secs --- remaining: 1:56)"
       ]
      },
      {
       "output_type": "stream",
       "stream": "stdout",
       "text": [
        "\r",
        "Done image 380 of 2000 (avg time: 0.0717929579767 secs --- remaining: 1:56)"
       ]
      },
      {
       "output_type": "stream",
       "stream": "stdout",
       "text": [
        "\r",
        "Done image 381 of 2000 (avg time: 0.0718537618977 secs --- remaining: 1:56)"
       ]
      },
      {
       "output_type": "stream",
       "stream": "stdout",
       "text": [
        "\r",
        "Done image 382 of 2000 (avg time: 0.0719162191486 secs --- remaining: 1:56)"
       ]
      },
      {
       "output_type": "stream",
       "stream": "stdout",
       "text": [
        "\r",
        "Done image 383 of 2000 (avg time: 0.0719754056384 secs --- remaining: 1:56)"
       ]
      },
      {
       "output_type": "stream",
       "stream": "stdout",
       "text": [
        "\r",
        "Done image 384 of 2000 (avg time: 0.072044856827 secs --- remaining: 1:56)"
       ]
      },
      {
       "output_type": "stream",
       "stream": "stdout",
       "text": [
        "\r",
        "Done image 385 of 2000 (avg time: 0.072107240326 secs --- remaining: 1:56)"
       ]
      },
      {
       "output_type": "stream",
       "stream": "stdout",
       "text": [
        "\r",
        "Done image 386 of 2000 (avg time: 0.0721703148627 secs --- remaining: 1:56)"
       ]
      },
      {
       "output_type": "stream",
       "stream": "stdout",
       "text": [
        "\r",
        "Done image 387 of 2000 (avg time: 0.0722301848156 secs --- remaining: 1:56)"
       ]
      },
      {
       "output_type": "stream",
       "stream": "stdout",
       "text": [
        "\r",
        "Done image 388 of 2000 (avg time: 0.0722866107382 secs --- remaining: 1:56)"
       ]
      },
      {
       "output_type": "stream",
       "stream": "stdout",
       "text": [
        "\r",
        "Done image 389 of 2000 (avg time: 0.0723469294035 secs --- remaining: 1:56)"
       ]
      },
      {
       "output_type": "stream",
       "stream": "stdout",
       "text": [
        "\r",
        "Done image 390 of 2000 (avg time: 0.0724103767854 secs --- remaining: 1:56)"
       ]
      },
      {
       "output_type": "stream",
       "stream": "stdout",
       "text": [
        "\r",
        "Done image 391 of 2000 (avg time: 0.0724796233129 secs --- remaining: 1:56)"
       ]
      },
      {
       "output_type": "stream",
       "stream": "stdout",
       "text": [
        "\r",
        "Done image 392 of 2000 (avg time: 0.0725485247207 secs --- remaining: 1:56)"
       ]
      },
      {
       "output_type": "stream",
       "stream": "stdout",
       "text": [
        "\r",
        "Done image 393 of 2000 (avg time: 0.0726115485738 secs --- remaining: 1:56)"
       ]
      },
      {
       "output_type": "stream",
       "stream": "stdout",
       "text": [
        "\r",
        "Done image 394 of 2000 (avg time: 0.0727587066119 secs --- remaining: 1:56)"
       ]
      },
      {
       "output_type": "stream",
       "stream": "stdout",
       "text": [
        "\r",
        "Done image 395 of 2000 (avg time: 0.0729102986027 secs --- remaining: 1:56)"
       ]
      },
      {
       "output_type": "stream",
       "stream": "stdout",
       "text": [
        "\r",
        "Done image 396 of 2000 (avg time: 0.0730689172481 secs --- remaining: 1:57)"
       ]
      },
      {
       "output_type": "stream",
       "stream": "stdout",
       "text": [
        "\r",
        "Done image 397 of 2000 (avg time: 0.0732177466004 secs --- remaining: 1:57)"
       ]
      },
      {
       "output_type": "stream",
       "stream": "stdout",
       "text": [
        "\r",
        "Done image 398 of 2000 (avg time: 0.0732905691429 secs --- remaining: 1:57)"
       ]
      },
      {
       "output_type": "stream",
       "stream": "stdout",
       "text": [
        "\r",
        "Done image 399 of 2000 (avg time: 0.0733480602503 secs --- remaining: 1:57)"
       ]
      },
      {
       "output_type": "stream",
       "stream": "stdout",
       "text": [
        "\r",
        "Done image 400 of 2000 (avg time: 0.0734052818612 secs --- remaining: 1:57)"
       ]
      },
      {
       "output_type": "stream",
       "stream": "stdout",
       "text": [
        "\r",
        "Done image 401 of 2000 (avg time: 0.0734627234995 secs --- remaining: 1:57)"
       ]
      },
      {
       "output_type": "stream",
       "stream": "stdout",
       "text": [
        "\r",
        "Done image 402 of 2000 (avg time: 0.0735163244953 secs --- remaining: 1:57)"
       ]
      },
      {
       "output_type": "stream",
       "stream": "stdout",
       "text": [
        "\r",
        "Done image 403 of 2000 (avg time: 0.0736588139345 secs --- remaining: 1:57)"
       ]
      },
      {
       "output_type": "stream",
       "stream": "stdout",
       "text": [
        "\r",
        "Done image 404 of 2000 (avg time: 0.0738033353547 secs --- remaining: 1:57)"
       ]
      },
      {
       "output_type": "stream",
       "stream": "stdout",
       "text": [
        "\r",
        "Done image 405 of 2000 (avg time: 0.0738663074418 secs --- remaining: 1:57)"
       ]
      },
      {
       "output_type": "stream",
       "stream": "stdout",
       "text": [
        "\r",
        "Done image 406 of 2000 (avg time: 0.0739333313279 secs --- remaining: 1:57)"
       ]
      },
      {
       "output_type": "stream",
       "stream": "stdout",
       "text": [
        "\r",
        "Done image 407 of 2000 (avg time: 0.0739846884036 secs --- remaining: 1:57)"
       ]
      },
      {
       "output_type": "stream",
       "stream": "stdout",
       "text": [
        "\r",
        "Done image 408 of 2000 (avg time: 0.0741260827025 secs --- remaining: 1:57)"
       ]
      },
      {
       "output_type": "stream",
       "stream": "stdout",
       "text": [
        "\r",
        "Done image 409 of 2000 (avg time: 0.0742668407719 secs --- remaining: 1:58)"
       ]
      },
      {
       "output_type": "stream",
       "stream": "stdout",
       "text": [
        "\r",
        "Done image 410 of 2000 (avg time: 0.0744167685219 secs --- remaining: 1:58)"
       ]
      },
      {
       "output_type": "stream",
       "stream": "stdout",
       "text": [
        "\r",
        "Done image 411 of 2000 (avg time: 0.0745748952754 secs --- remaining: 1:58)"
       ]
      },
      {
       "output_type": "stream",
       "stream": "stdout",
       "text": [
        "\r",
        "Done image 412 of 2000 (avg time: 0.0747995878825 secs --- remaining: 1:58)"
       ]
      },
      {
       "output_type": "stream",
       "stream": "stdout",
       "text": [
        "\r",
        "Done image 413 of 2000 (avg time: 0.0749647922562 secs --- remaining: 1:58)"
       ]
      },
      {
       "output_type": "stream",
       "stream": "stdout",
       "text": [
        "\r",
        "Done image 414 of 2000 (avg time: 0.0751124192433 secs --- remaining: 1:59)"
       ]
      },
      {
       "output_type": "stream",
       "stream": "stdout",
       "text": [
        "\r",
        "Done image 415 of 2000 (avg time: 0.0752552885276 secs --- remaining: 1:59)"
       ]
      },
      {
       "output_type": "stream",
       "stream": "stdout",
       "text": [
        "\r",
        "Done image 416 of 2000 (avg time: 0.0753946836046 secs --- remaining: 1:59)"
       ]
      },
      {
       "output_type": "stream",
       "stream": "stdout",
       "text": [
        "\r",
        "Done image 417 of 2000 (avg time: 0.0754442562897 secs --- remaining: 1:59)"
       ]
      },
      {
       "output_type": "stream",
       "stream": "stdout",
       "text": [
        "\r",
        "Done image 418 of 2000 (avg time: 0.0754936993264 secs --- remaining: 1:59)"
       ]
      },
      {
       "output_type": "stream",
       "stream": "stdout",
       "text": [
        "\r",
        "Done image 419 of 2000 (avg time: 0.0755475259963 secs --- remaining: 1:59)"
       ]
      },
      {
       "output_type": "stream",
       "stream": "stdout",
       "text": [
        "\r",
        "Done image 420 of 2000 (avg time: 0.0755963229227 secs --- remaining: 1:59)"
       ]
      },
      {
       "output_type": "stream",
       "stream": "stdout",
       "text": [
        "\r",
        "Done image 421 of 2000 (avg time: 0.0756481654271 secs --- remaining: 1:59)"
       ]
      },
      {
       "output_type": "stream",
       "stream": "stdout",
       "text": [
        "\r",
        "Done image 422 of 2000 (avg time: 0.0757076165355 secs --- remaining: 1:59)"
       ]
      },
      {
       "output_type": "stream",
       "stream": "stdout",
       "text": [
        "\r",
        "Done image 423 of 2000 (avg time: 0.0757682424671 secs --- remaining: 1:59)"
       ]
      },
      {
       "output_type": "stream",
       "stream": "stdout",
       "text": [
        "\r",
        "Done image 424 of 2000 (avg time: 0.0758196376352 secs --- remaining: 1:59)"
       ]
      },
      {
       "output_type": "stream",
       "stream": "stdout",
       "text": [
        "\r",
        "Done image 425 of 2000 (avg time: 0.0757806670498 secs --- remaining: 1:59)"
       ]
      },
      {
       "output_type": "stream",
       "stream": "stdout",
       "text": [
        "\r",
        "Done image 426 of 2000 (avg time: 0.075825672239 secs --- remaining: 1:59)"
       ]
      },
      {
       "output_type": "stream",
       "stream": "stdout",
       "text": [
        "\r",
        "Done image 427 of 2000 (avg time: 0.0758730680029 secs --- remaining: 1:59)"
       ]
      },
      {
       "output_type": "stream",
       "stream": "stdout",
       "text": [
        "\r",
        "Done image 428 of 2000 (avg time: 0.0759241708787 secs --- remaining: 1:59)"
       ]
      },
      {
       "output_type": "stream",
       "stream": "stdout",
       "text": [
        "\r",
        "Done image 429 of 2000 (avg time: 0.0759781172109 secs --- remaining: 1:59)"
       ]
      },
      {
       "output_type": "stream",
       "stream": "stdout",
       "text": [
        "\r",
        "Done image 430 of 2000 (avg time: 0.0759429195917 secs --- remaining: 1:59)"
       ]
      },
      {
       "output_type": "stream",
       "stream": "stdout",
       "text": [
        "\r",
        "Done image 431 of 2000 (avg time: 0.0759939683808 secs --- remaining: 1:59)"
       ]
      },
      {
       "output_type": "stream",
       "stream": "stdout",
       "text": [
        "\r",
        "Done image 432 of 2000 (avg time: 0.0760500282393 secs --- remaining: 1:59)"
       ]
      },
      {
       "output_type": "stream",
       "stream": "stdout",
       "text": [
        "\r",
        "Done image 433 of 2000 (avg time: 0.0761044887903 secs --- remaining: 1:59)"
       ]
      },
      {
       "output_type": "stream",
       "stream": "stdout",
       "text": [
        "\r",
        "Done image 434 of 2000 (avg time: 0.0762398829405 secs --- remaining: 1:59)"
       ]
      },
      {
       "output_type": "stream",
       "stream": "stdout",
       "text": [
        "\r",
        "Done image 435 of 2000 (avg time: 0.0763805021933 secs --- remaining: 1:59)"
       ]
      },
      {
       "output_type": "stream",
       "stream": "stdout",
       "text": [
        "\r",
        "Done image 436 of 2000 (avg time: 0.0765166042598 secs --- remaining: 1:59)"
       ]
      },
      {
       "output_type": "stream",
       "stream": "stdout",
       "text": [
        "\r",
        "Done image 437 of 2000 (avg time: 0.0765670499845 secs --- remaining: 1:59)"
       ]
      },
      {
       "output_type": "stream",
       "stream": "stdout",
       "text": [
        "\r",
        "Done image 438 of 2000 (avg time: 0.0766966011638 secs --- remaining: 1:59)"
       ]
      },
      {
       "output_type": "stream",
       "stream": "stdout",
       "text": [
        "\r",
        "Done image 439 of 2000 (avg time: 0.0768354410475 secs --- remaining: 1:59)"
       ]
      },
      {
       "output_type": "stream",
       "stream": "stdout",
       "text": [
        "\r",
        "Done image 440 of 2000 (avg time: 0.0769751342246 secs --- remaining: 2:0)"
       ]
      },
      {
       "output_type": "stream",
       "stream": "stdout",
       "text": [
        "\r",
        "Done image 441 of 2000 (avg time: 0.0771115160636 secs --- remaining: 2:0)"
       ]
      },
      {
       "output_type": "stream",
       "stream": "stdout",
       "text": [
        "\r",
        "Done image 442 of 2000 (avg time: 0.0772437995497 secs --- remaining: 2:0)"
       ]
      },
      {
       "output_type": "stream",
       "stream": "stdout",
       "text": [
        "\r",
        "Done image 443 of 2000 (avg time: 0.0773777666393 secs --- remaining: 2:0)"
       ]
      },
      {
       "output_type": "stream",
       "stream": "stdout",
       "text": [
        "\r",
        "Done image 444 of 2000 (avg time: 0.0775101763479 secs --- remaining: 2:0)"
       ]
      },
      {
       "output_type": "stream",
       "stream": "stdout",
       "text": [
        "\r",
        "Done image 445 of 2000 (avg time: 0.0776419564747 secs --- remaining: 2:0)"
       ]
      },
      {
       "output_type": "stream",
       "stream": "stdout",
       "text": [
        "\r",
        "Done image 446 of 2000 (avg time: 0.0778584154927 secs --- remaining: 2:0)"
       ]
      },
      {
       "output_type": "stream",
       "stream": "stdout",
       "text": [
        "\r",
        "Done image 447 of 2000 (avg time: 0.0780705756375 secs --- remaining: 2:1)"
       ]
      },
      {
       "output_type": "stream",
       "stream": "stdout",
       "text": [
        "\r",
        "Done image 448 of 2000 (avg time: 0.0782808057449 secs --- remaining: 2:1)"
       ]
      },
      {
       "output_type": "stream",
       "stream": "stdout",
       "text": [
        "\r",
        "Done image 449 of 2000 (avg time: 0.078403579394 secs --- remaining: 2:1)"
       ]
      },
      {
       "output_type": "stream",
       "stream": "stdout",
       "text": [
        "\r",
        "Done image 450 of 2000 (avg time: 0.0785275911809 secs --- remaining: 2:1)"
       ]
      },
      {
       "output_type": "stream",
       "stream": "stdout",
       "text": [
        "\r",
        "Done image 451 of 2000 (avg time: 0.078564671816 secs --- remaining: 2:1)"
       ]
      },
      {
       "output_type": "stream",
       "stream": "stdout",
       "text": [
        "\r",
        "Done image 452 of 2000 (avg time: 0.078602849253 secs --- remaining: 2:1)"
       ]
      },
      {
       "output_type": "stream",
       "stream": "stdout",
       "text": [
        "\r",
        "Done image 453 of 2000 (avg time: 0.0786376687399 secs --- remaining: 2:1)"
       ]
      },
      {
       "output_type": "stream",
       "stream": "stdout",
       "text": [
        "\r",
        "Done image 454 of 2000 (avg time: 0.0786780252561 secs --- remaining: 2:1)"
       ]
      },
      {
       "output_type": "stream",
       "stream": "stdout",
       "text": [
        "\r",
        "Done image 455 of 2000 (avg time: 0.0788208852734 secs --- remaining: 2:1)"
       ]
      },
      {
       "output_type": "stream",
       "stream": "stdout",
       "text": [
        "\r",
        "Done image 456 of 2000 (avg time: 0.0789365705828 secs --- remaining: 2:1)"
       ]
      },
      {
       "output_type": "stream",
       "stream": "stdout",
       "text": [
        "\r",
        "Done image 457 of 2000 (avg time: 0.0789722349966 secs --- remaining: 2:1)"
       ]
      },
      {
       "output_type": "stream",
       "stream": "stdout",
       "text": [
        "\r",
        "Done image 458 of 2000 (avg time: 0.0790098274455 secs --- remaining: 2:1)"
       ]
      },
      {
       "output_type": "stream",
       "stream": "stdout",
       "text": [
        "\r",
        "Done image 459 of 2000 (avg time: 0.0790449230567 secs --- remaining: 2:1)"
       ]
      },
      {
       "output_type": "stream",
       "stream": "stdout",
       "text": [
        "\r",
        "Done image 460 of 2000 (avg time: 0.0790832290939 secs --- remaining: 2:1)"
       ]
      },
      {
       "output_type": "stream",
       "stream": "stdout",
       "text": [
        "\r",
        "Done image 461 of 2000 (avg time: 0.0790393001589 secs --- remaining: 2:1)"
       ]
      },
      {
       "output_type": "stream",
       "stream": "stdout",
       "text": [
        "\r",
        "Done image 462 of 2000 (avg time: 0.0789936428194 secs --- remaining: 2:1)"
       ]
      },
      {
       "output_type": "stream",
       "stream": "stdout",
       "text": [
        "\r",
        "Done image 463 of 2000 (avg time: 0.0789521973709 secs --- remaining: 2:1)"
       ]
      },
      {
       "output_type": "stream",
       "stream": "stdout",
       "text": [
        "\r",
        "Done image 464 of 2000 (avg time: 0.0789924575436 secs --- remaining: 2:1)"
       ]
      },
      {
       "output_type": "stream",
       "stream": "stdout",
       "text": [
        "\r",
        "Done image 465 of 2000 (avg time: 0.0790497443195 secs --- remaining: 2:1)"
       ]
      },
      {
       "output_type": "stream",
       "stream": "stdout",
       "text": [
        "\r",
        "Done image 466 of 2000 (avg time: 0.0791005950413 secs --- remaining: 2:1)"
       ]
      },
      {
       "output_type": "stream",
       "stream": "stdout",
       "text": [
        "\r",
        "Done image 467 of 2000 (avg time: 0.0791363160834 secs --- remaining: 2:1)"
       ]
      },
      {
       "output_type": "stream",
       "stream": "stdout",
       "text": [
        "\r",
        "Done image 468 of 2000 (avg time: 0.0790958592632 secs --- remaining: 2:1)"
       ]
      },
      {
       "output_type": "stream",
       "stream": "stdout",
       "text": [
        "\r",
        "Done image 469 of 2000 (avg time: 0.079137672262 secs --- remaining: 2:1)"
       ]
      },
      {
       "output_type": "stream",
       "stream": "stdout",
       "text": [
        "\r",
        "Done image 470 of 2000 (avg time: 0.0791723758552 secs --- remaining: 2:1)"
       ]
      },
      {
       "output_type": "stream",
       "stream": "stdout",
       "text": [
        "\r",
        "Done image 471 of 2000 (avg time: 0.0792168727366 secs --- remaining: 2:1)"
       ]
      },
      {
       "output_type": "stream",
       "stream": "stdout",
       "text": [
        "\r",
        "Done image 472 of 2000 (avg time: 0.0792567246056 secs --- remaining: 2:1)"
       ]
      },
      {
       "output_type": "stream",
       "stream": "stdout",
       "text": [
        "\r",
        "Done image 473 of 2000 (avg time: 0.0792938727367 secs --- remaining: 2:1)"
       ]
      },
      {
       "output_type": "stream",
       "stream": "stdout",
       "text": [
        "\r",
        "Done image 474 of 2000 (avg time: 0.0793336120405 secs --- remaining: 2:0)"
       ]
      },
      {
       "output_type": "stream",
       "stream": "stdout",
       "text": [
        "\r",
        "Done image 475 of 2000 (avg time: 0.0793839297375 secs --- remaining: 2:0)"
       ]
      },
      {
       "output_type": "stream",
       "stream": "stdout",
       "text": [
        "\r",
        "Done image 476 of 2000 (avg time: 0.0794195399094 secs --- remaining: 2:0)"
       ]
      },
      {
       "output_type": "stream",
       "stream": "stdout",
       "text": [
        "\r",
        "Done image 477 of 2000 (avg time: 0.0793742899117 secs --- remaining: 2:0)"
       ]
      },
      {
       "output_type": "stream",
       "stream": "stdout",
       "text": [
        "\r",
        "Done image 478 of 2000 (avg time: 0.0793297425192 secs --- remaining: 2:0)"
       ]
      },
      {
       "output_type": "stream",
       "stream": "stdout",
       "text": [
        "\r",
        "Done image 479 of 2000 (avg time: 0.0792878995339 secs --- remaining: 2:0)"
       ]
      },
      {
       "output_type": "stream",
       "stream": "stdout",
       "text": [
        "\r",
        "Done image 480 of 2000 (avg time: 0.0792475024281 secs --- remaining: 2:0)"
       ]
      },
      {
       "output_type": "stream",
       "stream": "stdout",
       "text": [
        "\r",
        "Done image 481 of 2000 (avg time: 0.0792095972789 secs --- remaining: 2:0)"
       ]
      },
      {
       "output_type": "stream",
       "stream": "stdout",
       "text": [
        "\r",
        "Done image 482 of 2000 (avg time: 0.0791670555407 secs --- remaining: 2:0)"
       ]
      },
      {
       "output_type": "stream",
       "stream": "stdout",
       "text": [
        "\r",
        "Done image 483 of 2000 (avg time: 0.079129198366 secs --- remaining: 1:59)"
       ]
      },
      {
       "output_type": "stream",
       "stream": "stdout",
       "text": [
        "\r",
        "Done image 484 of 2000 (avg time: 0.0790902329474 secs --- remaining: 1:59)"
       ]
      },
      {
       "output_type": "stream",
       "stream": "stdout",
       "text": [
        "\r",
        "Done image 485 of 2000 (avg time: 0.0790497736676 secs --- remaining: 1:59)"
       ]
      },
      {
       "output_type": "stream",
       "stream": "stdout",
       "text": [
        "\r",
        "Done image 486 of 2000 (avg time: 0.0790076387981 secs --- remaining: 1:59)"
       ]
      },
      {
       "output_type": "stream",
       "stream": "stdout",
       "text": [
        "\r",
        "Done image 487 of 2000 (avg time: 0.0788886004784 secs --- remaining: 1:59)"
       ]
      },
      {
       "output_type": "stream",
       "stream": "stdout",
       "text": [
        "\r",
        "Done image 488 of 2000 (avg time: 0.0787702616007 secs --- remaining: 1:59)"
       ]
      },
      {
       "output_type": "stream",
       "stream": "stdout",
       "text": [
        "\r",
        "Done image 489 of 2000 (avg time: 0.0786250975667 secs --- remaining: 1:58)"
       ]
      },
      {
       "output_type": "stream",
       "stream": "stdout",
       "text": [
        "\r",
        "Done image 490 of 2000 (avg time: 0.0784805554237 secs --- remaining: 1:58)"
       ]
      },
      {
       "output_type": "stream",
       "stream": "stdout",
       "text": [
        "\r",
        "Done image 491 of 2000 (avg time: 0.0783365097472 secs --- remaining: 1:58)"
       ]
      },
      {
       "output_type": "stream",
       "stream": "stdout",
       "text": [
        "\r",
        "Done image 492 of 2000 (avg time: 0.0782220765011 secs --- remaining: 1:57)"
       ]
      },
      {
       "output_type": "stream",
       "stream": "stdout",
       "text": [
        "\r",
        "Done image 493 of 2000 (avg time: 0.0781063092382 secs --- remaining: 1:57)"
       ]
      },
      {
       "output_type": "stream",
       "stream": "stdout",
       "text": [
        "\r",
        "Done image 494 of 2000 (avg time: 0.0779956499736 secs --- remaining: 1:57)"
       ]
      },
      {
       "output_type": "stream",
       "stream": "stdout",
       "text": [
        "\r",
        "Done image 495 of 2000 (avg time: 0.0778834752498 secs --- remaining: 1:57)"
       ]
      },
      {
       "output_type": "stream",
       "stream": "stdout",
       "text": [
        "\r",
        "Done image 496 of 2000 (avg time: 0.0777722729044 secs --- remaining: 1:56)"
       ]
      },
      {
       "output_type": "stream",
       "stream": "stdout",
       "text": [
        "\r",
        "Done image 497 of 2000 (avg time: 0.0776630936856 secs --- remaining: 1:56)"
       ]
      },
      {
       "output_type": "stream",
       "stream": "stdout",
       "text": [
        "\r",
        "Done image 498 of 2000 (avg time: 0.0775598433309 secs --- remaining: 1:56)"
       ]
      },
      {
       "output_type": "stream",
       "stream": "stdout",
       "text": [
        "\r",
        "Done image 499 of 2000 (avg time: 0.077529519558 secs --- remaining: 1:56)"
       ]
      },
      {
       "output_type": "stream",
       "stream": "stdout",
       "text": [
        "\r",
        "Done image 500 of 2000 (avg time: 0.077502534775 secs --- remaining: 1:56)"
       ]
      },
      {
       "output_type": "stream",
       "stream": "stdout",
       "text": [
        "\r",
        "Done image 501 of 2000 (avg time: 0.0774833305898 secs --- remaining: 1:56)"
       ]
      },
      {
       "output_type": "stream",
       "stream": "stdout",
       "text": [
        "\r",
        "Done image 502 of 2000 (avg time: 0.0774489027368 secs --- remaining: 1:55)"
       ]
      },
      {
       "output_type": "stream",
       "stream": "stdout",
       "text": [
        "\r",
        "Done image 503 of 2000 (avg time: 0.0774895515707 secs --- remaining: 1:55)"
       ]
      },
      {
       "output_type": "stream",
       "stream": "stdout",
       "text": [
        "\r",
        "Done image 504 of 2000 (avg time: 0.0775271547903 secs --- remaining: 1:55)"
       ]
      },
      {
       "output_type": "stream",
       "stream": "stdout",
       "text": [
        "\r",
        "Done image 505 of 2000 (avg time: 0.0775693598472 secs --- remaining: 1:55)"
       ]
      },
      {
       "output_type": "stream",
       "stream": "stdout",
       "text": [
        "\r",
        "Done image 506 of 2000 (avg time: 0.0776073866812 secs --- remaining: 1:55)"
       ]
      },
      {
       "output_type": "stream",
       "stream": "stdout",
       "text": [
        "\r",
        "Done image 507 of 2000 (avg time: 0.0777185906575 secs --- remaining: 1:55)"
       ]
      },
      {
       "output_type": "stream",
       "stream": "stdout",
       "text": [
        "\r",
        "Done image 508 of 2000 (avg time: 0.0778373009095 secs --- remaining: 1:56)"
       ]
      },
      {
       "output_type": "stream",
       "stream": "stdout",
       "text": [
        "\r",
        "Done image 509 of 2000 (avg time: 0.0779470691494 secs --- remaining: 1:56)"
       ]
      },
      {
       "output_type": "stream",
       "stream": "stdout",
       "text": [
        "\r",
        "Done image 510 of 2000 (avg time: 0.0780613665012 secs --- remaining: 1:56)"
       ]
      },
      {
       "output_type": "stream",
       "stream": "stdout",
       "text": [
        "\r",
        "Done image 511 of 2000 (avg time: 0.078167096246 secs --- remaining: 1:56)"
       ]
      },
      {
       "output_type": "stream",
       "stream": "stdout",
       "text": [
        "\r",
        "Done image 512 of 2000 (avg time: 0.0782885811715 secs --- remaining: 1:56)"
       ]
      },
      {
       "output_type": "stream",
       "stream": "stdout",
       "text": [
        "\r",
        "Done image 513 of 2000 (avg time: 0.0783955355099 secs --- remaining: 1:56)"
       ]
      },
      {
       "output_type": "stream",
       "stream": "stdout",
       "text": [
        "\r",
        "Done image 514 of 2000 (avg time: 0.0785044642328 secs --- remaining: 1:56)"
       ]
      },
      {
       "output_type": "stream",
       "stream": "stdout",
       "text": [
        "\r",
        "Done image 515 of 2000 (avg time: 0.0786797039269 secs --- remaining: 1:56)"
       ]
      },
      {
       "output_type": "stream",
       "stream": "stdout",
       "text": [
        "\r",
        "Done image 516 of 2000 (avg time: 0.0788564857247 secs --- remaining: 1:56)"
       ]
      },
      {
       "output_type": "stream",
       "stream": "stdout",
       "text": [
        "\r",
        "Done image 517 of 2000 (avg time: 0.0789559923084 secs --- remaining: 1:57)"
       ]
      },
      {
       "output_type": "stream",
       "stream": "stdout",
       "text": [
        "\r",
        "Done image 518 of 2000 (avg time: 0.0790544102876 secs --- remaining: 1:57)"
       ]
      },
      {
       "output_type": "stream",
       "stream": "stdout",
       "text": [
        "\r",
        "Done image 519 of 2000 (avg time: 0.0791500169497 secs --- remaining: 1:57)"
       ]
      },
      {
       "output_type": "stream",
       "stream": "stdout",
       "text": [
        "\r",
        "Done image 520 of 2000 (avg time: 0.0791777997008 secs --- remaining: 1:57)"
       ]
      },
      {
       "output_type": "stream",
       "stream": "stdout",
       "text": [
        "\r",
        "Done image 521 of 2000 (avg time: 0.0792098899454 secs --- remaining: 1:57)"
       ]
      },
      {
       "output_type": "stream",
       "stream": "stdout",
       "text": [
        "\r",
        "Done image 522 of 2000 (avg time: 0.0793077371316 secs --- remaining: 1:57)"
       ]
      },
      {
       "output_type": "stream",
       "stream": "stdout",
       "text": [
        "\r",
        "Done image 523 of 2000 (avg time: 0.0793431651501 secs --- remaining: 1:57)"
       ]
      },
      {
       "output_type": "stream",
       "stream": "stdout",
       "text": [
        "\r",
        "Done image 524 of 2000 (avg time: 0.0793875857762 secs --- remaining: 1:57)"
       ]
      },
      {
       "output_type": "stream",
       "stream": "stdout",
       "text": [
        "\r",
        "Done image 525 of 2000 (avg time: 0.0794262827123 secs --- remaining: 1:57)"
       ]
      },
      {
       "output_type": "stream",
       "stream": "stdout",
       "text": [
        "\r",
        "Done image 526 of 2000 (avg time: 0.0794608950389 secs --- remaining: 1:57)"
       ]
      },
      {
       "output_type": "stream",
       "stream": "stdout",
       "text": [
        "\r",
        "Done image 527 of 2000 (avg time: 0.0794972077464 secs --- remaining: 1:57)"
       ]
      },
      {
       "output_type": "stream",
       "stream": "stdout",
       "text": [
        "\r",
        "Done image 528 of 2000 (avg time: 0.079600477489 secs --- remaining: 1:57)"
       ]
      },
      {
       "output_type": "stream",
       "stream": "stdout",
       "text": [
        "\r",
        "Done image 529 of 2000 (avg time: 0.0797104579098 secs --- remaining: 1:57)"
       ]
      },
      {
       "output_type": "stream",
       "stream": "stdout",
       "text": [
        "\r",
        "Done image 530 of 2000 (avg time: 0.079749003193 secs --- remaining: 1:57)"
       ]
      },
      {
       "output_type": "stream",
       "stream": "stdout",
       "text": [
        "\r",
        "Done image 531 of 2000 (avg time: 0.0797973750229 secs --- remaining: 1:57)"
       ]
      },
      {
       "output_type": "stream",
       "stream": "stdout",
       "text": [
        "\r",
        "Done image 532 of 2000 (avg time: 0.0799055582587 secs --- remaining: 1:57)"
       ]
      },
      {
       "output_type": "stream",
       "stream": "stdout",
       "text": [
        "\r",
        "Done image 533 of 2000 (avg time: 0.0800130514616 secs --- remaining: 1:57)"
       ]
      },
      {
       "output_type": "stream",
       "stream": "stdout",
       "text": [
        "\r",
        "Done image 534 of 2000 (avg time: 0.0801239281057 secs --- remaining: 1:57)"
       ]
      },
      {
       "output_type": "stream",
       "stream": "stdout",
       "text": [
        "\r",
        "Done image 535 of 2000 (avg time: 0.0801615328041 secs --- remaining: 1:57)"
       ]
      },
      {
       "output_type": "stream",
       "stream": "stdout",
       "text": [
        "\r",
        "Done image 536 of 2000 (avg time: 0.0802020964454 secs --- remaining: 1:57)"
       ]
      },
      {
       "output_type": "stream",
       "stream": "stdout",
       "text": [
        "\r",
        "Done image 537 of 2000 (avg time: 0.0802376802083 secs --- remaining: 1:57)"
       ]
      },
      {
       "output_type": "stream",
       "stream": "stdout",
       "text": [
        "\r",
        "Done image 538 of 2000 (avg time: 0.0802688125334 secs --- remaining: 1:57)"
       ]
      },
      {
       "output_type": "stream",
       "stream": "stdout",
       "text": [
        "\r",
        "Done image 539 of 2000 (avg time: 0.08030163138 secs --- remaining: 1:57)"
       ]
      },
      {
       "output_type": "stream",
       "stream": "stdout",
       "text": [
        "\r",
        "Done image 540 of 2000 (avg time: 0.0803393083668 secs --- remaining: 1:57)"
       ]
      },
      {
       "output_type": "stream",
       "stream": "stdout",
       "text": [
        "\r",
        "Done image 541 of 2000 (avg time: 0.0803791530898 secs --- remaining: 1:57)"
       ]
      },
      {
       "output_type": "stream",
       "stream": "stdout",
       "text": [
        "\r",
        "Done image 542 of 2000 (avg time: 0.0804810054175 secs --- remaining: 1:57)"
       ]
      },
      {
       "output_type": "stream",
       "stream": "stdout",
       "text": [
        "\r",
        "Done image 543 of 2000 (avg time: 0.0805815716877 secs --- remaining: 1:57)"
       ]
      },
      {
       "output_type": "stream",
       "stream": "stdout",
       "text": [
        "\r",
        "Done image 544 of 2000 (avg time: 0.0806151928158 secs --- remaining: 1:57)"
       ]
      },
      {
       "output_type": "stream",
       "stream": "stdout",
       "text": [
        "\r",
        "Done image 545 of 2000 (avg time: 0.0806401889403 secs --- remaining: 1:57)"
       ]
      },
      {
       "output_type": "stream",
       "stream": "stdout",
       "text": [
        "\r",
        "Done image 546 of 2000 (avg time: 0.0807353879242 secs --- remaining: 1:57)"
       ]
      },
      {
       "output_type": "stream",
       "stream": "stdout",
       "text": [
        "\r",
        "Done image 547 of 2000 (avg time: 0.0808355495007 secs --- remaining: 1:57)"
       ]
      },
      {
       "output_type": "stream",
       "stream": "stdout",
       "text": [
        "\r",
        "Done image 548 of 2000 (avg time: 0.0809363224467 secs --- remaining: 1:57)"
       ]
      },
      {
       "output_type": "stream",
       "stream": "stdout",
       "text": [
        "\r",
        "Done image 549 of 2000 (avg time: 0.080976337953 secs --- remaining: 1:57)"
       ]
      },
      {
       "output_type": "stream",
       "stream": "stdout",
       "text": [
        "\r",
        "Done image 550 of 2000 (avg time: 0.0810844625622 secs --- remaining: 1:57)"
       ]
      },
      {
       "output_type": "stream",
       "stream": "stdout",
       "text": [
        "\r",
        "Done image 551 of 2000 (avg time: 0.0811871519123 secs --- remaining: 1:57)"
       ]
      },
      {
       "output_type": "stream",
       "stream": "stdout",
       "text": [
        "\r",
        "Done image 552 of 2000 (avg time: 0.0812882583784 secs --- remaining: 1:57)"
       ]
      },
      {
       "output_type": "stream",
       "stream": "stdout",
       "text": [
        "\r",
        "Done image 553 of 2000 (avg time: 0.0813888319993 secs --- remaining: 1:57)"
       ]
      },
      {
       "output_type": "stream",
       "stream": "stdout",
       "text": [
        "\r",
        "Done image 554 of 2000 (avg time: 0.0814898645556 secs --- remaining: 1:57)"
       ]
      },
      {
       "output_type": "stream",
       "stream": "stdout",
       "text": [
        "\r",
        "Done image 555 of 2000 (avg time: 0.0815261057813 secs --- remaining: 1:57)"
       ]
      },
      {
       "output_type": "stream",
       "stream": "stdout",
       "text": [
        "\r",
        "Done image 556 of 2000 (avg time: 0.0815568359793 secs --- remaining: 1:57)"
       ]
      },
      {
       "output_type": "stream",
       "stream": "stdout",
       "text": [
        "\r",
        "Done image 557 of 2000 (avg time: 0.0815895334367 secs --- remaining: 1:57)"
       ]
      },
      {
       "output_type": "stream",
       "stream": "stdout",
       "text": [
        "\r",
        "Done image 558 of 2000 (avg time: 0.0816246486521 secs --- remaining: 1:57)"
       ]
      },
      {
       "output_type": "stream",
       "stream": "stdout",
       "text": [
        "\r",
        "Done image 559 of 2000 (avg time: 0.0816512759243 secs --- remaining: 1:57)"
       ]
      },
      {
       "output_type": "stream",
       "stream": "stdout",
       "text": [
        "\r",
        "Done image 560 of 2000 (avg time: 0.0816777355956 secs --- remaining: 1:57)"
       ]
      },
      {
       "output_type": "stream",
       "stream": "stdout",
       "text": [
        "\r",
        "Done image 561 of 2000 (avg time: 0.0817100153275 secs --- remaining: 1:57)"
       ]
      },
      {
       "output_type": "stream",
       "stream": "stdout",
       "text": [
        "\r",
        "Done image 562 of 2000 (avg time: 0.0816729085695 secs --- remaining: 1:57)"
       ]
      },
      {
       "output_type": "stream",
       "stream": "stdout",
       "text": [
        "\r",
        "Done image 563 of 2000 (avg time: 0.0816353132539 secs --- remaining: 1:57)"
       ]
      },
      {
       "output_type": "stream",
       "stream": "stdout",
       "text": [
        "\r",
        "Done image 564 of 2000 (avg time: 0.0815962116275 secs --- remaining: 1:57)"
       ]
      },
      {
       "output_type": "stream",
       "stream": "stdout",
       "text": [
        "\r",
        "Done image 565 of 2000 (avg time: 0.0816250753066 secs --- remaining: 1:57)"
       ]
      },
      {
       "output_type": "stream",
       "stream": "stdout",
       "text": [
        "\r",
        "Done image 566 of 2000 (avg time: 0.0816657753428 secs --- remaining: 1:57)"
       ]
      },
      {
       "output_type": "stream",
       "stream": "stdout",
       "text": [
        "\r",
        "Done image 567 of 2000 (avg time: 0.0816983408491 secs --- remaining: 1:56)"
       ]
      },
      {
       "output_type": "stream",
       "stream": "stdout",
       "text": [
        "\r",
        "Done image 568 of 2000 (avg time: 0.0817303070913 secs --- remaining: 1:56)"
       ]
      },
      {
       "output_type": "stream",
       "stream": "stdout",
       "text": [
        "\r",
        "Done image 569 of 2000 (avg time: 0.0816941641925 secs --- remaining: 1:56)"
       ]
      },
      {
       "output_type": "stream",
       "stream": "stdout",
       "text": [
        "\r",
        "Done image 570 of 2000 (avg time: 0.0816619905615 secs --- remaining: 1:56)"
       ]
      },
      {
       "output_type": "stream",
       "stream": "stdout",
       "text": [
        "\r",
        "Done image 571 of 2000 (avg time: 0.0816248521938 secs --- remaining: 1:56)"
       ]
      },
      {
       "output_type": "stream",
       "stream": "stdout",
       "text": [
        "\r",
        "Done image 572 of 2000 (avg time: 0.0815913760433 secs --- remaining: 1:56)"
       ]
      },
      {
       "output_type": "stream",
       "stream": "stdout",
       "text": [
        "\r",
        "Done image 573 of 2000 (avg time: 0.0815583525634 secs --- remaining: 1:56)"
       ]
      },
      {
       "output_type": "stream",
       "stream": "stdout",
       "text": [
        "\r",
        "Done image 574 of 2000 (avg time: 0.0815264614769 secs --- remaining: 1:56)"
       ]
      },
      {
       "output_type": "stream",
       "stream": "stdout",
       "text": [
        "\r",
        "Done image 575 of 2000 (avg time: 0.0814249138865 secs --- remaining: 1:55)"
       ]
      },
      {
       "output_type": "stream",
       "stream": "stdout",
       "text": [
        "\r",
        "Done image 576 of 2000 (avg time: 0.0813195850035 secs --- remaining: 1:55)"
       ]
      },
      {
       "output_type": "stream",
       "stream": "stdout",
       "text": [
        "\r",
        "Done image 577 of 2000 (avg time: 0.0812154162714 secs --- remaining: 1:55)"
       ]
      },
      {
       "output_type": "stream",
       "stream": "stdout",
       "text": [
        "\r",
        "Done image 578 of 2000 (avg time: 0.0811121756137 secs --- remaining: 1:55)"
       ]
      },
      {
       "output_type": "stream",
       "stream": "stdout",
       "text": [
        "\r",
        "Done image 579 of 2000 (avg time: 0.0810818614631 secs --- remaining: 1:55)"
       ]
      },
      {
       "output_type": "stream",
       "stream": "stdout",
       "text": [
        "\r",
        "Done image 580 of 2000 (avg time: 0.0810429389218 secs --- remaining: 1:54)"
       ]
      },
      {
       "output_type": "stream",
       "stream": "stdout",
       "text": [
        "\r",
        "Done image 581 of 2000 (avg time: 0.081004663841 secs --- remaining: 1:54)"
       ]
      },
      {
       "output_type": "stream",
       "stream": "stdout",
       "text": [
        "\r",
        "Done image 582 of 2000 (avg time: 0.080967057426 secs --- remaining: 1:54)"
       ]
      },
      {
       "output_type": "stream",
       "stream": "stdout",
       "text": [
        "\r",
        "Done image 583 of 2000 (avg time: 0.0809279014803 secs --- remaining: 1:54)"
       ]
      },
      {
       "output_type": "stream",
       "stream": "stdout",
       "text": [
        "\r",
        "Done image 584 of 2000 (avg time: 0.0808946964068 secs --- remaining: 1:54)"
       ]
      },
      {
       "output_type": "stream",
       "stream": "stdout",
       "text": [
        "\r",
        "Done image 585 of 2000 (avg time: 0.0808600451759 secs --- remaining: 1:54)"
       ]
      },
      {
       "output_type": "stream",
       "stream": "stdout",
       "text": [
        "\r",
        "Done image 586 of 2000 (avg time: 0.0807600675287 secs --- remaining: 1:54)"
       ]
      },
      {
       "output_type": "stream",
       "stream": "stdout",
       "text": [
        "\r",
        "Done image 587 of 2000 (avg time: 0.0806612765708 secs --- remaining: 1:53)"
       ]
      },
      {
       "output_type": "stream",
       "stream": "stdout",
       "text": [
        "\r",
        "Done image 588 of 2000 (avg time: 0.0805615698745 secs --- remaining: 1:53)"
       ]
      },
      {
       "output_type": "stream",
       "stream": "stdout",
       "text": [
        "\r",
        "Done image 589 of 2000 (avg time: 0.0804612794165 secs --- remaining: 1:53)"
       ]
      },
      {
       "output_type": "stream",
       "stream": "stdout",
       "text": [
        "\r",
        "Done image 590 of 2000 (avg time: 0.0803614126648 secs --- remaining: 1:53)"
       ]
      },
      {
       "output_type": "stream",
       "stream": "stdout",
       "text": [
        "\r",
        "Done image 591 of 2000 (avg time: 0.0802624914292 secs --- remaining: 1:53)"
       ]
      },
      {
       "output_type": "stream",
       "stream": "stdout",
       "text": [
        "\r",
        "Done image 592 of 2000 (avg time: 0.0802255629689 secs --- remaining: 1:52)"
       ]
      },
      {
       "output_type": "stream",
       "stream": "stdout",
       "text": [
        "\r",
        "Done image 593 of 2000 (avg time: 0.0801967001122 secs --- remaining: 1:52)"
       ]
      },
      {
       "output_type": "stream",
       "stream": "stdout",
       "text": [
        "\r",
        "Done image 594 of 2000 (avg time: 0.0801695374882 secs --- remaining: 1:52)"
       ]
      },
      {
       "output_type": "stream",
       "stream": "stdout",
       "text": [
        "\r",
        "Done image 595 of 2000 (avg time: 0.0801400234235 secs --- remaining: 1:52)"
       ]
      },
      {
       "output_type": "stream",
       "stream": "stdout",
       "text": [
        "\r",
        "Done image 596 of 2000 (avg time: 0.0801117839526 secs --- remaining: 1:52)"
       ]
      },
      {
       "output_type": "stream",
       "stream": "stdout",
       "text": [
        "\r",
        "Done image 597 of 2000 (avg time: 0.0800824396586 secs --- remaining: 1:52)"
       ]
      },
      {
       "output_type": "stream",
       "stream": "stdout",
       "text": [
        "\r",
        "Done image 598 of 2000 (avg time: 0.0800515005306 secs --- remaining: 1:52)"
       ]
      },
      {
       "output_type": "stream",
       "stream": "stdout",
       "text": [
        "\r",
        "Done image 599 of 2000 (avg time: 0.0800269579887 secs --- remaining: 1:52)"
       ]
      },
      {
       "output_type": "stream",
       "stream": "stdout",
       "text": [
        "\r",
        "Done image 600 of 2000 (avg time: 0.0799959066902 secs --- remaining: 1:51)"
       ]
      },
      {
       "output_type": "stream",
       "stream": "stdout",
       "text": [
        "\r",
        "Done image 601 of 2000 (avg time: 0.0799030081378 secs --- remaining: 1:51)"
       ]
      },
      {
       "output_type": "stream",
       "stream": "stdout",
       "text": [
        "\r",
        "Done image 602 of 2000 (avg time: 0.0798122768181 secs --- remaining: 1:51)"
       ]
      },
      {
       "output_type": "stream",
       "stream": "stdout",
       "text": [
        "\r",
        "Done image 603 of 2000 (avg time: 0.0797150727139 secs --- remaining: 1:51)"
       ]
      },
      {
       "output_type": "stream",
       "stream": "stdout",
       "text": [
        "\r",
        "Done image 604 of 2000 (avg time: 0.0796172756794 secs --- remaining: 1:51)"
       ]
      },
      {
       "output_type": "stream",
       "stream": "stdout",
       "text": [
        "\r",
        "Done image 605 of 2000 (avg time: 0.0795205442032 secs --- remaining: 1:50)"
       ]
      },
      {
       "output_type": "stream",
       "stream": "stdout",
       "text": [
        "\r",
        "Done image 606 of 2000 (avg time: 0.0794267014185 secs --- remaining: 1:50)"
       ]
      },
      {
       "output_type": "stream",
       "stream": "stdout",
       "text": [
        "\r",
        "Done image 607 of 2000 (avg time: 0.0793349009595 secs --- remaining: 1:50)"
       ]
      },
      {
       "output_type": "stream",
       "stream": "stdout",
       "text": [
        "\r",
        "Done image 608 of 2000 (avg time: 0.0792401964441 secs --- remaining: 1:50)"
       ]
      },
      {
       "output_type": "stream",
       "stream": "stdout",
       "text": [
        "\r",
        "Done image 609 of 2000 (avg time: 0.0791499270767 secs --- remaining: 1:50)"
       ]
      },
      {
       "output_type": "stream",
       "stream": "stdout",
       "text": [
        "\r",
        "Done image 610 of 2000 (avg time: 0.0790592250574 secs --- remaining: 1:49)"
       ]
      },
      {
       "output_type": "stream",
       "stream": "stdout",
       "text": [
        "\r",
        "Done image 611 of 2000 (avg time: 0.0789717229363 secs --- remaining: 1:49)"
       ]
      },
      {
       "output_type": "stream",
       "stream": "stdout",
       "text": [
        "\r",
        "Done image 612 of 2000 (avg time: 0.0788780024935 secs --- remaining: 1:49)"
       ]
      },
      {
       "output_type": "stream",
       "stream": "stdout",
       "text": [
        "\r",
        "Done image 613 of 2000 (avg time: 0.0787929440166 secs --- remaining: 1:49)"
       ]
      },
      {
       "output_type": "stream",
       "stream": "stdout",
       "text": [
        "\r",
        "Done image 614 of 2000 (avg time: 0.078703875658 secs --- remaining: 1:49)"
       ]
      },
      {
       "output_type": "stream",
       "stream": "stdout",
       "text": [
        "\r",
        "Done image 615 of 2000 (avg time: 0.0785893693373 secs --- remaining: 1:48)"
       ]
      },
      {
       "output_type": "stream",
       "stream": "stdout",
       "text": [
        "\r",
        "Done image 616 of 2000 (avg time: 0.0784756604045 secs --- remaining: 1:48)"
       ]
      },
      {
       "output_type": "stream",
       "stream": "stdout",
       "text": [
        "\r",
        "Done image 617 of 2000 (avg time: 0.0783610367081 secs --- remaining: 1:48)"
       ]
      },
      {
       "output_type": "stream",
       "stream": "stdout",
       "text": [
        "\r",
        "Done image 618 of 2000 (avg time: 0.0782531983248 secs --- remaining: 1:48)"
       ]
      },
      {
       "output_type": "stream",
       "stream": "stdout",
       "text": [
        "\r",
        "Done image 619 of 2000 (avg time: 0.0781411659333 secs --- remaining: 1:47)"
       ]
      },
      {
       "output_type": "stream",
       "stream": "stdout",
       "text": [
        "\r",
        "Done image 620 of 2000 (avg time: 0.0780318981208 secs --- remaining: 1:47)"
       ]
      },
      {
       "output_type": "stream",
       "stream": "stdout",
       "text": [
        "\r",
        "Done image 621 of 2000 (avg time: 0.0779216764824 secs --- remaining: 1:47)"
       ]
      },
      {
       "output_type": "stream",
       "stream": "stdout",
       "text": [
        "\r",
        "Done image 622 of 2000 (avg time: 0.0778091424541 secs --- remaining: 1:47)"
       ]
      },
      {
       "output_type": "stream",
       "stream": "stdout",
       "text": [
        "\r",
        "Done image 623 of 2000 (avg time: 0.0776978085438 secs --- remaining: 1:46)"
       ]
      },
      {
       "output_type": "stream",
       "stream": "stdout",
       "text": [
        "\r",
        "Done image 624 of 2000 (avg time: 0.077586108017 secs --- remaining: 1:46)"
       ]
      },
      {
       "output_type": "stream",
       "stream": "stdout",
       "text": [
        "\r",
        "Done image 625 of 2000 (avg time: 0.0774773663987 secs --- remaining: 1:46)"
       ]
      },
      {
       "output_type": "stream",
       "stream": "stdout",
       "text": [
        "\r",
        "Done image 626 of 2000 (avg time: 0.0773661710809 secs --- remaining: 1:46)"
       ]
      },
      {
       "output_type": "stream",
       "stream": "stdout",
       "text": [
        "\r",
        "Done image 627 of 2000 (avg time: 0.0772558970816 secs --- remaining: 1:45)"
       ]
      },
      {
       "output_type": "stream",
       "stream": "stdout",
       "text": [
        "\r",
        "Done image 628 of 2000 (avg time: 0.0771455507021 secs --- remaining: 1:45)"
       ]
      },
      {
       "output_type": "stream",
       "stream": "stdout",
       "text": [
        "\r",
        "Done image 629 of 2000 (avg time: 0.0770355243531 secs --- remaining: 1:45)"
       ]
      },
      {
       "output_type": "stream",
       "stream": "stdout",
       "text": [
        "\r",
        "Done image 630 of 2000 (avg time: 0.076928853233 secs --- remaining: 1:45)"
       ]
      },
      {
       "output_type": "stream",
       "stream": "stdout",
       "text": [
        "\r",
        "Done image 631 of 2000 (avg time: 0.0768186050125 secs --- remaining: 1:45)"
       ]
      },
      {
       "output_type": "stream",
       "stream": "stdout",
       "text": [
        "\r",
        "Done image 632 of 2000 (avg time: 0.0767085503251 secs --- remaining: 1:44)"
       ]
      },
      {
       "output_type": "stream",
       "stream": "stdout",
       "text": [
        "\r",
        "Done image 633 of 2000 (avg time: 0.0765995907859 secs --- remaining: 1:44)"
       ]
      },
      {
       "output_type": "stream",
       "stream": "stdout",
       "text": [
        "\r",
        "Done image 634 of 2000 (avg time: 0.0764909552777 secs --- remaining: 1:44)"
       ]
      },
      {
       "output_type": "stream",
       "stream": "stdout",
       "text": [
        "\r",
        "Done image 635 of 2000 (avg time: 0.0763820589713 secs --- remaining: 1:44)"
       ]
      },
      {
       "output_type": "stream",
       "stream": "stdout",
       "text": [
        "\r",
        "Done image 636 of 2000 (avg time: 0.0762773900055 secs --- remaining: 1:43)"
       ]
      },
      {
       "output_type": "stream",
       "stream": "stdout",
       "text": [
        "\r",
        "Done image 637 of 2000 (avg time: 0.0761706418005 secs --- remaining: 1:43)"
       ]
      },
      {
       "output_type": "stream",
       "stream": "stdout",
       "text": [
        "\r",
        "Done image 638 of 2000 (avg time: 0.0760665842811 secs --- remaining: 1:43)"
       ]
      },
      {
       "output_type": "stream",
       "stream": "stdout",
       "text": [
        "\r",
        "Done image 639 of 2000 (avg time: 0.0759612739086 secs --- remaining: 1:43)"
       ]
      },
      {
       "output_type": "stream",
       "stream": "stdout",
       "text": [
        "\r",
        "Done image 640 of 2000 (avg time: 0.0758819286239 secs --- remaining: 1:43)"
       ]
      },
      {
       "output_type": "stream",
       "stream": "stdout",
       "text": [
        "\r",
        "Done image 641 of 2000 (avg time: 0.0757992293604 secs --- remaining: 1:42)"
       ]
      },
      {
       "output_type": "stream",
       "stream": "stdout",
       "text": [
        "\r",
        "Done image 642 of 2000 (avg time: 0.0757166753475 secs --- remaining: 1:42)"
       ]
      },
      {
       "output_type": "stream",
       "stream": "stdout",
       "text": [
        "\r",
        "Done image 643 of 2000 (avg time: 0.0756312164461 secs --- remaining: 1:42)"
       ]
      },
      {
       "output_type": "stream",
       "stream": "stdout",
       "text": [
        "\r",
        "Done image 644 of 2000 (avg time: 0.0755472733993 secs --- remaining: 1:42)"
       ]
      },
      {
       "output_type": "stream",
       "stream": "stdout",
       "text": [
        "\r",
        "Done image 645 of 2000 (avg time: 0.0755294310419 secs --- remaining: 1:42)"
       ]
      },
      {
       "output_type": "stream",
       "stream": "stdout",
       "text": [
        "\r",
        "Done image 646 of 2000 (avg time: 0.0755060301313 secs --- remaining: 1:42)"
       ]
      },
      {
       "output_type": "stream",
       "stream": "stdout",
       "text": [
        "\r",
        "Done image 647 of 2000 (avg time: 0.0754855223644 secs --- remaining: 1:42)"
       ]
      },
      {
       "output_type": "stream",
       "stream": "stdout",
       "text": [
        "\r",
        "Done image 648 of 2000 (avg time: 0.0754612087285 secs --- remaining: 1:41)"
       ]
      },
      {
       "output_type": "stream",
       "stream": "stdout",
       "text": [
        "\r",
        "Done image 649 of 2000 (avg time: 0.0754368547293 secs --- remaining: 1:41)"
       ]
      },
      {
       "output_type": "stream",
       "stream": "stdout",
       "text": [
        "\r",
        "Done image 650 of 2000 (avg time: 0.0754786643748 secs --- remaining: 1:41)"
       ]
      },
      {
       "output_type": "stream",
       "stream": "stdout",
       "text": [
        "\r",
        "Done image 651 of 2000 (avg time: 0.0755339806065 secs --- remaining: 1:41)"
       ]
      },
      {
       "output_type": "stream",
       "stream": "stdout",
       "text": [
        "\r",
        "Done image 652 of 2000 (avg time: 0.0755678073918 secs --- remaining: 1:41)"
       ]
      },
      {
       "output_type": "stream",
       "stream": "stdout",
       "text": [
        "\r",
        "Done image 653 of 2000 (avg time: 0.0756229956945 secs --- remaining: 1:41)"
       ]
      },
      {
       "output_type": "stream",
       "stream": "stdout",
       "text": [
        "\r",
        "Done image 654 of 2000 (avg time: 0.0756573589704 secs --- remaining: 1:41)"
       ]
      },
      {
       "output_type": "stream",
       "stream": "stdout",
       "text": [
        "\r",
        "Done image 655 of 2000 (avg time: 0.0757270796997 secs --- remaining: 1:41)"
       ]
      },
      {
       "output_type": "stream",
       "stream": "stdout",
       "text": [
        "\r",
        "Done image 656 of 2000 (avg time: 0.0758194146817 secs --- remaining: 1:41)"
       ]
      },
      {
       "output_type": "stream",
       "stream": "stdout",
       "text": [
        "\r",
        "Done image 657 of 2000 (avg time: 0.0759102624238 secs --- remaining: 1:41)"
       ]
      },
      {
       "output_type": "stream",
       "stream": "stdout",
       "text": [
        "\r",
        "Done image 658 of 2000 (avg time: 0.0759995790461 secs --- remaining: 1:41)"
       ]
      },
      {
       "output_type": "stream",
       "stream": "stdout",
       "text": [
        "\r",
        "Done image 659 of 2000 (avg time: 0.0760949904268 secs --- remaining: 1:41)"
       ]
      },
      {
       "output_type": "stream",
       "stream": "stdout",
       "text": [
        "\r",
        "Done image 660 of 2000 (avg time: 0.0761546529548 secs --- remaining: 1:41)"
       ]
      },
      {
       "output_type": "stream",
       "stream": "stdout",
       "text": [
        "\r",
        "Done image 661 of 2000 (avg time: 0.0761938725353 secs --- remaining: 1:41)"
       ]
      },
      {
       "output_type": "stream",
       "stream": "stdout",
       "text": [
        "\r",
        "Done image 662 of 2000 (avg time: 0.0762323765014 secs --- remaining: 1:41)"
       ]
      },
      {
       "output_type": "stream",
       "stream": "stdout",
       "text": [
        "\r",
        "Done image 663 of 2000 (avg time: 0.0762649735054 secs --- remaining: 1:41)"
       ]
      },
      {
       "output_type": "stream",
       "stream": "stdout",
       "text": [
        "\r",
        "Done image 664 of 2000 (avg time: 0.0763574367179 secs --- remaining: 1:41)"
       ]
      },
      {
       "output_type": "stream",
       "stream": "stdout",
       "text": [
        "\r",
        "Done image 665 of 2000 (avg time: 0.0764525487974 secs --- remaining: 1:41)"
       ]
      },
      {
       "output_type": "stream",
       "stream": "stdout",
       "text": [
        "\r",
        "Done image 666 of 2000 (avg time: 0.0765407728827 secs --- remaining: 1:42)"
       ]
      },
      {
       "output_type": "stream",
       "stream": "stdout",
       "text": [
        "\r",
        "Done image 667 of 2000 (avg time: 0.0765753841686 secs --- remaining: 1:41)"
       ]
      },
      {
       "output_type": "stream",
       "stream": "stdout",
       "text": [
        "\r",
        "Done image 668 of 2000 (avg time: 0.0766091966843 secs --- remaining: 1:41)"
       ]
      },
      {
       "output_type": "stream",
       "stream": "stdout",
       "text": [
        "\r",
        "Done image 669 of 2000 (avg time: 0.0766371218126 secs --- remaining: 1:41)"
       ]
      },
      {
       "output_type": "stream",
       "stream": "stdout",
       "text": [
        "\r",
        "Done image 670 of 2000 (avg time: 0.0766646911775 secs --- remaining: 1:41)"
       ]
      },
      {
       "output_type": "stream",
       "stream": "stdout",
       "text": [
        "\r",
        "Done image 671 of 2000 (avg time: 0.0766951275014 secs --- remaining: 1:41)"
       ]
      },
      {
       "output_type": "stream",
       "stream": "stdout",
       "text": [
        "\r",
        "Done image 672 of 2000 (avg time: 0.0766736458528 secs --- remaining: 1:41)"
       ]
      },
      {
       "output_type": "stream",
       "stream": "stdout",
       "text": [
        "\r",
        "Done image 673 of 2000 (avg time: 0.0767035010307 secs --- remaining: 1:41)"
       ]
      },
      {
       "output_type": "stream",
       "stream": "stdout",
       "text": [
        "\r",
        "Done image 674 of 2000 (avg time: 0.0767473637616 secs --- remaining: 1:41)"
       ]
      },
      {
       "output_type": "stream",
       "stream": "stdout",
       "text": [
        "\r",
        "Done image 675 of 2000 (avg time: 0.0767819504061 secs --- remaining: 1:41)"
       ]
      },
      {
       "output_type": "stream",
       "stream": "stdout",
       "text": [
        "\r",
        "Done image 676 of 2000 (avg time: 0.0768161851863 secs --- remaining: 1:41)"
       ]
      },
      {
       "output_type": "stream",
       "stream": "stdout",
       "text": [
        "\r",
        "Done image 677 of 2000 (avg time: 0.0767974326041 secs --- remaining: 1:41)"
       ]
      },
      {
       "output_type": "stream",
       "stream": "stdout",
       "text": [
        "\r",
        "Done image 678 of 2000 (avg time: 0.0768319327982 secs --- remaining: 1:41)"
       ]
      },
      {
       "output_type": "stream",
       "stream": "stdout",
       "text": [
        "\r",
        "Done image 679 of 2000 (avg time: 0.0768680684707 secs --- remaining: 1:41)"
       ]
      },
      {
       "output_type": "stream",
       "stream": "stdout",
       "text": [
        "\r",
        "Done image 680 of 2000 (avg time: 0.0769080594073 secs --- remaining: 1:41)"
       ]
      },
      {
       "output_type": "stream",
       "stream": "stdout",
       "text": [
        "\r",
        "Done image 681 of 2000 (avg time: 0.0769478701426 secs --- remaining: 1:41)"
       ]
      },
      {
       "output_type": "stream",
       "stream": "stdout",
       "text": [
        "\r",
        "Done image 682 of 2000 (avg time: 0.076994155895 secs --- remaining: 1:41)"
       ]
      },
      {
       "output_type": "stream",
       "stream": "stdout",
       "text": [
        "\r",
        "Done image 683 of 2000 (avg time: 0.0770286673691 secs --- remaining: 1:41)"
       ]
      },
      {
       "output_type": "stream",
       "stream": "stdout",
       "text": [
        "\r",
        "Done image 684 of 2000 (avg time: 0.0771144880866 secs --- remaining: 1:41)"
       ]
      },
      {
       "output_type": "stream",
       "stream": "stdout",
       "text": [
        "\r",
        "Done image 685 of 2000 (avg time: 0.0771980236988 secs --- remaining: 1:41)"
       ]
      },
      {
       "output_type": "stream",
       "stream": "stdout",
       "text": [
        "\r",
        "Done image 686 of 2000 (avg time: 0.0772854646741 secs --- remaining: 1:41)"
       ]
      },
      {
       "output_type": "stream",
       "stream": "stdout",
       "text": [
        "\r",
        "Done image 687 of 2000 (avg time: 0.0773186298997 secs --- remaining: 1:41)"
       ]
      },
      {
       "output_type": "stream",
       "stream": "stdout",
       "text": [
        "\r",
        "Done image 688 of 2000 (avg time: 0.077347753702 secs --- remaining: 1:41)"
       ]
      },
      {
       "output_type": "stream",
       "stream": "stdout",
       "text": [
        "\r",
        "Done image 689 of 2000 (avg time: 0.0773800224498 secs --- remaining: 1:41)"
       ]
      },
      {
       "output_type": "stream",
       "stream": "stdout",
       "text": [
        "\r",
        "Done image 690 of 2000 (avg time: 0.0774056041983 secs --- remaining: 1:41)"
       ]
      },
      {
       "output_type": "stream",
       "stream": "stdout",
       "text": [
        "\r",
        "Done image 691 of 2000 (avg time: 0.0774361539438 secs --- remaining: 1:41)"
       ]
      },
      {
       "output_type": "stream",
       "stream": "stdout",
       "text": [
        "\r",
        "Done image 692 of 2000 (avg time: 0.0775130871915 secs --- remaining: 1:41)"
       ]
      },
      {
       "output_type": "stream",
       "stream": "stdout",
       "text": [
        "\r",
        "Done image 693 of 2000 (avg time: 0.0775962312215 secs --- remaining: 1:41)"
       ]
      },
      {
       "output_type": "stream",
       "stream": "stdout",
       "text": [
        "\r",
        "Done image 694 of 2000 (avg time: 0.0776263058614 secs --- remaining: 1:41)"
       ]
      },
      {
       "output_type": "stream",
       "stream": "stdout",
       "text": [
        "\r",
        "Done image 695 of 2000 (avg time: 0.0776533083669 secs --- remaining: 1:41)"
       ]
      },
      {
       "output_type": "stream",
       "stream": "stdout",
       "text": [
        "\r",
        "Done image 696 of 2000 (avg time: 0.0777376135931 secs --- remaining: 1:41)"
       ]
      },
      {
       "output_type": "stream",
       "stream": "stdout",
       "text": [
        "\r",
        "Done image 697 of 2000 (avg time: 0.0778218647812 secs --- remaining: 1:41)"
       ]
      },
      {
       "output_type": "stream",
       "stream": "stdout",
       "text": [
        "\r",
        "Done image 698 of 2000 (avg time: 0.0779068753102 secs --- remaining: 1:41)"
       ]
      },
      {
       "output_type": "stream",
       "stream": "stdout",
       "text": [
        "\r",
        "Done image 699 of 2000 (avg time: 0.077991264207 secs --- remaining: 1:41)"
       ]
      },
      {
       "output_type": "stream",
       "stream": "stdout",
       "text": [
        "\r",
        "Done image 700 of 2000 (avg time: 0.0780739270671 secs --- remaining: 1:41)"
       ]
      },
      {
       "output_type": "stream",
       "stream": "stdout",
       "text": [
        "\r",
        "Done image 701 of 2000 (avg time: 0.0781000214085 secs --- remaining: 1:41)"
       ]
      },
      {
       "output_type": "stream",
       "stream": "stdout",
       "text": [
        "\r",
        "Done image 702 of 2000 (avg time: 0.0781792587101 secs --- remaining: 1:41)"
       ]
      },
      {
       "output_type": "stream",
       "stream": "stdout",
       "text": [
        "\r",
        "Done image 703 of 2000 (avg time: 0.078260761093 secs --- remaining: 1:41)"
       ]
      },
      {
       "output_type": "stream",
       "stream": "stdout",
       "text": [
        "\r",
        "Done image 704 of 2000 (avg time: 0.0782903742283 secs --- remaining: 1:41)"
       ]
      },
      {
       "output_type": "stream",
       "stream": "stdout",
       "text": [
        "\r",
        "Done image 705 of 2000 (avg time: 0.0783207024799 secs --- remaining: 1:41)"
       ]
      },
      {
       "output_type": "stream",
       "stream": "stdout",
       "text": [
        "\r",
        "Done image 706 of 2000 (avg time: 0.0783537412128 secs --- remaining: 1:41)"
       ]
      },
      {
       "output_type": "stream",
       "stream": "stdout",
       "text": [
        "\r",
        "Done image 707 of 2000 (avg time: 0.0783840525622 secs --- remaining: 1:41)"
       ]
      },
      {
       "output_type": "stream",
       "stream": "stdout",
       "text": [
        "\r",
        "Done image 708 of 2000 (avg time: 0.0784112906086 secs --- remaining: 1:41)"
       ]
      },
      {
       "output_type": "stream",
       "stream": "stdout",
       "text": [
        "\r",
        "Done image 709 of 2000 (avg time: 0.0784373844174 secs --- remaining: 1:41)"
       ]
      },
      {
       "output_type": "stream",
       "stream": "stdout",
       "text": [
        "\r",
        "Done image 710 of 2000 (avg time: 0.0784702656474 secs --- remaining: 1:41)"
       ]
      },
      {
       "output_type": "stream",
       "stream": "stdout",
       "text": [
        "\r",
        "Done image 711 of 2000 (avg time: 0.0784952948602 secs --- remaining: 1:41)"
       ]
      },
      {
       "output_type": "stream",
       "stream": "stdout",
       "text": [
        "\r",
        "Done image 712 of 2000 (avg time: 0.0785240067004 secs --- remaining: 1:41)"
       ]
      },
      {
       "output_type": "stream",
       "stream": "stdout",
       "text": [
        "\r",
        "Done image 713 of 2000 (avg time: 0.0785516620684 secs --- remaining: 1:41)"
       ]
      },
      {
       "output_type": "stream",
       "stream": "stdout",
       "text": [
        "\r",
        "Done image 714 of 2000 (avg time: 0.0785743226538 secs --- remaining: 1:40)"
       ]
      },
      {
       "output_type": "stream",
       "stream": "stdout",
       "text": [
        "\r",
        "Done image 715 of 2000 (avg time: 0.0785991962396 secs --- remaining: 1:40)"
       ]
      },
      {
       "output_type": "stream",
       "stream": "stdout",
       "text": [
        "\r",
        "Done image 716 of 2000 (avg time: 0.0786268654561 secs --- remaining: 1:40)"
       ]
      },
      {
       "output_type": "stream",
       "stream": "stdout",
       "text": [
        "\r",
        "Done image 717 of 2000 (avg time: 0.0786516347635 secs --- remaining: 1:40)"
       ]
      },
      {
       "output_type": "stream",
       "stream": "stdout",
       "text": [
        "\r",
        "Done image 718 of 2000 (avg time: 0.0786238993325 secs --- remaining: 1:40)"
       ]
      },
      {
       "output_type": "stream",
       "stream": "stdout",
       "text": [
        "\r",
        "Done image 719 of 2000 (avg time: 0.0786032163435 secs --- remaining: 1:40)"
       ]
      },
      {
       "output_type": "stream",
       "stream": "stdout",
       "text": [
        "\r",
        "Done image 720 of 2000 (avg time: 0.0786273241374 secs --- remaining: 1:40)"
       ]
      },
      {
       "output_type": "stream",
       "stream": "stdout",
       "text": [
        "\r",
        "Done image 721 of 2000 (avg time: 0.0786492362247 secs --- remaining: 1:40)"
       ]
      },
      {
       "output_type": "stream",
       "stream": "stdout",
       "text": [
        "\r",
        "Done image 722 of 2000 (avg time: 0.0786786880731 secs --- remaining: 1:40)"
       ]
      },
      {
       "output_type": "stream",
       "stream": "stdout",
       "text": [
        "\r",
        "Done image 723 of 2000 (avg time: 0.0786754814959 secs --- remaining: 1:40)"
       ]
      },
      {
       "output_type": "stream",
       "stream": "stdout",
       "text": [
        "\r",
        "Done image 724 of 2000 (avg time: 0.0787448047769 secs --- remaining: 1:40)"
       ]
      },
      {
       "output_type": "stream",
       "stream": "stdout",
       "text": [
        "\r",
        "Done image 725 of 2000 (avg time: 0.0787781756115 secs --- remaining: 1:40)"
       ]
      },
      {
       "output_type": "stream",
       "stream": "stdout",
       "text": [
        "\r",
        "Done image 726 of 2000 (avg time: 0.0788343293795 secs --- remaining: 1:40)"
       ]
      },
      {
       "output_type": "stream",
       "stream": "stdout",
       "text": [
        "\r",
        "Done image 727 of 2000 (avg time: 0.0788659125894 secs --- remaining: 1:40)"
       ]
      },
      {
       "output_type": "stream",
       "stream": "stdout",
       "text": [
        "\r",
        "Done image 728 of 2000 (avg time: 0.0788961817371 secs --- remaining: 1:40)"
       ]
      },
      {
       "output_type": "stream",
       "stream": "stdout",
       "text": [
        "\r",
        "Done image 729 of 2000 (avg time: 0.0789353788716 secs --- remaining: 1:40)"
       ]
      },
      {
       "output_type": "stream",
       "stream": "stdout",
       "text": [
        "\r",
        "Done image 730 of 2000 (avg time: 0.0790185628283 secs --- remaining: 1:40)"
       ]
      },
      {
       "output_type": "stream",
       "stream": "stdout",
       "text": [
        "\r",
        "Done image 731 of 2000 (avg time: 0.079108116731 secs --- remaining: 1:40)"
       ]
      },
      {
       "output_type": "stream",
       "stream": "stdout",
       "text": [
        "\r",
        "Done image 732 of 2000 (avg time: 0.0792035461285 secs --- remaining: 1:40)"
       ]
      },
      {
       "output_type": "stream",
       "stream": "stdout",
       "text": [
        "\r",
        "Done image 733 of 2000 (avg time: 0.0792893382444 secs --- remaining: 1:40)"
       ]
      },
      {
       "output_type": "stream",
       "stream": "stdout",
       "text": [
        "\r",
        "Done image 734 of 2000 (avg time: 0.0793751784733 secs --- remaining: 1:40)"
       ]
      },
      {
       "output_type": "stream",
       "stream": "stdout",
       "text": [
        "\r",
        "Done image 735 of 2000 (avg time: 0.079407096557 secs --- remaining: 1:40)"
       ]
      },
      {
       "output_type": "stream",
       "stream": "stdout",
       "text": [
        "\r",
        "Done image 736 of 2000 (avg time: 0.0794846798057 secs --- remaining: 1:40)"
       ]
      },
      {
       "output_type": "stream",
       "stream": "stdout",
       "text": [
        "\r",
        "Done image 737 of 2000 (avg time: 0.0795625393307 secs --- remaining: 1:40)"
       ]
      },
      {
       "output_type": "stream",
       "stream": "stdout",
       "text": [
        "\r",
        "Done image 738 of 2000 (avg time: 0.0796522761875 secs --- remaining: 1:40)"
       ]
      },
      {
       "output_type": "stream",
       "stream": "stdout",
       "text": [
        "\r",
        "Done image 739 of 2000 (avg time: 0.0797511796694 secs --- remaining: 1:40)"
       ]
      },
      {
       "output_type": "stream",
       "stream": "stdout",
       "text": [
        "\r",
        "Done image 740 of 2000 (avg time: 0.0797846571476 secs --- remaining: 1:40)"
       ]
      },
      {
       "output_type": "stream",
       "stream": "stdout",
       "text": [
        "\r",
        "Done image 741 of 2000 (avg time: 0.0798186118391 secs --- remaining: 1:40)"
       ]
      },
      {
       "output_type": "stream",
       "stream": "stdout",
       "text": [
        "\r",
        "Done image 742 of 2000 (avg time: 0.079844108982 secs --- remaining: 1:40)"
       ]
      },
      {
       "output_type": "stream",
       "stream": "stdout",
       "text": [
        "\r",
        "Done image 743 of 2000 (avg time: 0.0798646679489 secs --- remaining: 1:40)"
       ]
      },
      {
       "output_type": "stream",
       "stream": "stdout",
       "text": [
        "\r",
        "Done image 744 of 2000 (avg time: 0.0798972254632 secs --- remaining: 1:40)"
       ]
      },
      {
       "output_type": "stream",
       "stream": "stdout",
       "text": [
        "\r",
        "Done image 745 of 2000 (avg time: 0.0800059570384 secs --- remaining: 1:40)"
       ]
      },
      {
       "output_type": "stream",
       "stream": "stdout",
       "text": [
        "\r",
        "Done image 746 of 2000 (avg time: 0.0800827162333 secs --- remaining: 1:40)"
       ]
      },
      {
       "output_type": "stream",
       "stream": "stdout",
       "text": [
        "\r",
        "Done image 747 of 2000 (avg time: 0.0801180040135 secs --- remaining: 1:40)"
       ]
      },
      {
       "output_type": "stream",
       "stream": "stdout",
       "text": [
        "\r",
        "Done image 748 of 2000 (avg time: 0.0801418531084 secs --- remaining: 1:40)"
       ]
      },
      {
       "output_type": "stream",
       "stream": "stdout",
       "text": [
        "\r",
        "Done image 749 of 2000 (avg time: 0.0801630853017 secs --- remaining: 1:40)"
       ]
      },
      {
       "output_type": "stream",
       "stream": "stdout",
       "text": [
        "\r",
        "Done image 750 of 2000 (avg time: 0.0801845647682 secs --- remaining: 1:40)"
       ]
      },
      {
       "output_type": "stream",
       "stream": "stdout",
       "text": [
        "\r",
        "Done image 751 of 2000 (avg time: 0.0801581692822 secs --- remaining: 1:40)"
       ]
      },
      {
       "output_type": "stream",
       "stream": "stdout",
       "text": [
        "\r",
        "Done image 752 of 2000 (avg time: 0.0801333884002 secs --- remaining: 1:39)"
       ]
      },
      {
       "output_type": "stream",
       "stream": "stdout",
       "text": [
        "\r",
        "Done image 753 of 2000 (avg time: 0.0801583481088 secs --- remaining: 1:39)"
       ]
      },
      {
       "output_type": "stream",
       "stream": "stdout",
       "text": [
        "\r",
        "Done image 754 of 2000 (avg time: 0.0801887701679 secs --- remaining: 1:39)"
       ]
      },
      {
       "output_type": "stream",
       "stream": "stdout",
       "text": [
        "\r",
        "Done image 755 of 2000 (avg time: 0.0802158789029 secs --- remaining: 1:39)"
       ]
      },
      {
       "output_type": "stream",
       "stream": "stdout",
       "text": [
        "\r",
        "Done image 756 of 2000 (avg time: 0.0802446558107 secs --- remaining: 1:39)"
       ]
      },
      {
       "output_type": "stream",
       "stream": "stdout",
       "text": [
        "\r",
        "Done image 757 of 2000 (avg time: 0.0803256365114 secs --- remaining: 1:39)"
       ]
      },
      {
       "output_type": "stream",
       "stream": "stdout",
       "text": [
        "\r",
        "Done image 758 of 2000 (avg time: 0.0804086080182 secs --- remaining: 1:39)"
       ]
      },
      {
       "output_type": "stream",
       "stream": "stdout",
       "text": [
        "\r",
        "Done image 759 of 2000 (avg time: 0.080433200535 secs --- remaining: 1:39)"
       ]
      },
      {
       "output_type": "stream",
       "stream": "stdout",
       "text": [
        "\r",
        "Done image 760 of 2000 (avg time: 0.0804642290073 secs --- remaining: 1:39)"
       ]
      },
      {
       "output_type": "stream",
       "stream": "stdout",
       "text": [
        "\r",
        "Done image 761 of 2000 (avg time: 0.0804923284711 secs --- remaining: 1:39)"
       ]
      },
      {
       "output_type": "stream",
       "stream": "stdout",
       "text": [
        "\r",
        "Done image 762 of 2000 (avg time: 0.0805220053987 secs --- remaining: 1:39)"
       ]
      },
      {
       "output_type": "stream",
       "stream": "stdout",
       "text": [
        "\r",
        "Done image 763 of 2000 (avg time: 0.0805473992338 secs --- remaining: 1:39)"
       ]
      },
      {
       "output_type": "stream",
       "stream": "stdout",
       "text": [
        "\r",
        "Done image 764 of 2000 (avg time: 0.0805716589385 secs --- remaining: 1:39)"
       ]
      },
      {
       "output_type": "stream",
       "stream": "stdout",
       "text": [
        "\r",
        "Done image 765 of 2000 (avg time: 0.0805471475691 secs --- remaining: 1:39)"
       ]
      },
      {
       "output_type": "stream",
       "stream": "stdout",
       "text": [
        "\r",
        "Done image 766 of 2000 (avg time: 0.0805225878993 secs --- remaining: 1:39)"
       ]
      },
      {
       "output_type": "stream",
       "stream": "stdout",
       "text": [
        "\r",
        "Done image 767 of 2000 (avg time: 0.0805027770499 secs --- remaining: 1:39)"
       ]
      },
      {
       "output_type": "stream",
       "stream": "stdout",
       "text": [
        "\r",
        "Done image 768 of 2000 (avg time: 0.0804809125719 secs --- remaining: 1:39)"
       ]
      },
      {
       "output_type": "stream",
       "stream": "stdout",
       "text": [
        "\r",
        "Done image 769 of 2000 (avg time: 0.0804614023729 secs --- remaining: 1:38)"
       ]
      },
      {
       "output_type": "stream",
       "stream": "stdout",
       "text": [
        "\r",
        "Done image 770 of 2000 (avg time: 0.0804411319752 secs --- remaining: 1:38)"
       ]
      },
      {
       "output_type": "stream",
       "stream": "stdout",
       "text": [
        "\r",
        "Done image 771 of 2000 (avg time: 0.0804220190938 secs --- remaining: 1:38)"
       ]
      },
      {
       "output_type": "stream",
       "stream": "stdout",
       "text": [
        "\r",
        "Done image 772 of 2000 (avg time: 0.0803981471956 secs --- remaining: 1:38)"
       ]
      },
      {
       "output_type": "stream",
       "stream": "stdout",
       "text": [
        "\r",
        "Done image 773 of 2000 (avg time: 0.0803229223542 secs --- remaining: 1:38)"
       ]
      },
      {
       "output_type": "stream",
       "stream": "stdout",
       "text": [
        "\r",
        "Done image 774 of 2000 (avg time: 0.0802526695498 secs --- remaining: 1:38)"
       ]
      },
      {
       "output_type": "stream",
       "stream": "stdout",
       "text": [
        "\r",
        "Done image 775 of 2000 (avg time: 0.0801816198629 secs --- remaining: 1:38)"
       ]
      },
      {
       "output_type": "stream",
       "stream": "stdout",
       "text": [
        "\r",
        "Done image 776 of 2000 (avg time: 0.0801092627119 secs --- remaining: 1:37)"
       ]
      },
      {
       "output_type": "stream",
       "stream": "stdout",
       "text": [
        "\r",
        "Done image 777 of 2000 (avg time: 0.08003312334 secs --- remaining: 1:37)"
       ]
      },
      {
       "output_type": "stream",
       "stream": "stdout",
       "text": [
        "\r",
        "Done image 778 of 2000 (avg time: 0.0799570805913 secs --- remaining: 1:37)"
       ]
      },
      {
       "output_type": "stream",
       "stream": "stdout",
       "text": [
        "\r",
        "Done image 779 of 2000 (avg time: 0.0798640330633 secs --- remaining: 1:37)"
       ]
      },
      {
       "output_type": "stream",
       "stream": "stdout",
       "text": [
        "\r",
        "Done image 780 of 2000 (avg time: 0.0797710574391 secs --- remaining: 1:37)"
       ]
      },
      {
       "output_type": "stream",
       "stream": "stdout",
       "text": [
        "\r",
        "Done image 781 of 2000 (avg time: 0.0796782964331 secs --- remaining: 1:37)"
       ]
      },
      {
       "output_type": "stream",
       "stream": "stdout",
       "text": [
        "\r",
        "Done image 782 of 2000 (avg time: 0.079586304924 secs --- remaining: 1:36)"
       ]
      },
      {
       "output_type": "stream",
       "stream": "stdout",
       "text": [
        "\r",
        "Done image 783 of 2000 (avg time: 0.079497183464 secs --- remaining: 1:36)"
       ]
      },
      {
       "output_type": "stream",
       "stream": "stdout",
       "text": [
        "\r",
        "Done image 784 of 2000 (avg time: 0.0794241361557 secs --- remaining: 1:36)"
       ]
      },
      {
       "output_type": "stream",
       "stream": "stdout",
       "text": [
        "\r",
        "Done image 785 of 2000 (avg time: 0.0793540568752 secs --- remaining: 1:36)"
       ]
      },
      {
       "output_type": "stream",
       "stream": "stdout",
       "text": [
        "\r",
        "Done image 786 of 2000 (avg time: 0.0792814952143 secs --- remaining: 1:36)"
       ]
      },
      {
       "output_type": "stream",
       "stream": "stdout",
       "text": [
        "\r",
        "Done image 787 of 2000 (avg time: 0.0792108371778 secs --- remaining: 1:36)"
       ]
      },
      {
       "output_type": "stream",
       "stream": "stdout",
       "text": [
        "\r",
        "Done image 788 of 2000 (avg time: 0.0791915726148 secs --- remaining: 1:35)"
       ]
      },
      {
       "output_type": "stream",
       "stream": "stdout",
       "text": [
        "\r",
        "Done image 789 of 2000 (avg time: 0.0791719403448 secs --- remaining: 1:35)"
       ]
      },
      {
       "output_type": "stream",
       "stream": "stdout",
       "text": [
        "\r",
        "Done image 790 of 2000 (avg time: 0.0791514082594 secs --- remaining: 1:35)"
       ]
      },
      {
       "output_type": "stream",
       "stream": "stdout",
       "text": [
        "\r",
        "Done image 791 of 2000 (avg time: 0.079130868418 secs --- remaining: 1:35)"
       ]
      },
      {
       "output_type": "stream",
       "stream": "stdout",
       "text": [
        "\r",
        "Done image 792 of 2000 (avg time: 0.0791090136067 secs --- remaining: 1:35)"
       ]
      },
      {
       "output_type": "stream",
       "stream": "stdout",
       "text": [
        "\r",
        "Done image 793 of 2000 (avg time: 0.0790875438479 secs --- remaining: 1:35)"
       ]
      },
      {
       "output_type": "stream",
       "stream": "stdout",
       "text": [
        "\r",
        "Done image 794 of 2000 (avg time: 0.0791234325313 secs --- remaining: 1:35)"
       ]
      },
      {
       "output_type": "stream",
       "stream": "stdout",
       "text": [
        "\r",
        "Done image 795 of 2000 (avg time: 0.0791635198809 secs --- remaining: 1:35)"
       ]
      },
      {
       "output_type": "stream",
       "stream": "stdout",
       "text": [
        "\r",
        "Done image 796 of 2000 (avg time: 0.0791898967331 secs --- remaining: 1:35)"
       ]
      },
      {
       "output_type": "stream",
       "stream": "stdout",
       "text": [
        "\r",
        "Done image 797 of 2000 (avg time: 0.0792265798813 secs --- remaining: 1:35)"
       ]
      },
      {
       "output_type": "stream",
       "stream": "stdout",
       "text": [
        "\r",
        "Done image 798 of 2000 (avg time: 0.0792647917966 secs --- remaining: 1:35)"
       ]
      },
      {
       "output_type": "stream",
       "stream": "stdout",
       "text": [
        "\r",
        "Done image 799 of 2000 (avg time: 0.0793377405405 secs --- remaining: 1:35)"
       ]
      },
      {
       "output_type": "stream",
       "stream": "stdout",
       "text": [
        "\r",
        "Done image 800 of 2000 (avg time: 0.0794164735577 secs --- remaining: 1:35)"
       ]
      },
      {
       "output_type": "stream",
       "stream": "stdout",
       "text": [
        "\r",
        "Done image 801 of 2000 (avg time: 0.0794898595596 secs --- remaining: 1:35)"
       ]
      },
      {
       "output_type": "stream",
       "stream": "stdout",
       "text": [
        "\r",
        "Done image 802 of 2000 (avg time: 0.0795681200467 secs --- remaining: 1:35)"
       ]
      },
      {
       "output_type": "stream",
       "stream": "stdout",
       "text": [
        "\r",
        "Done image 803 of 2000 (avg time: 0.0796432779796 secs --- remaining: 1:35)"
       ]
      },
      {
       "output_type": "stream",
       "stream": "stdout",
       "text": [
        "\r",
        "Done image 804 of 2000 (avg time: 0.0796730601269 secs --- remaining: 1:35)"
       ]
      },
      {
       "output_type": "stream",
       "stream": "stdout",
       "text": [
        "\r",
        "Done image 805 of 2000 (avg time: 0.079698733893 secs --- remaining: 1:35)"
       ]
      },
      {
       "output_type": "stream",
       "stream": "stdout",
       "text": [
        "\r",
        "Done image 806 of 2000 (avg time: 0.0797275261956 secs --- remaining: 1:35)"
       ]
      },
      {
       "output_type": "stream",
       "stream": "stdout",
       "text": [
        "\r",
        "Done image 807 of 2000 (avg time: 0.0797506408526 secs --- remaining: 1:35)"
       ]
      },
      {
       "output_type": "stream",
       "stream": "stdout",
       "text": [
        "\r",
        "Done image 808 of 2000 (avg time: 0.079819761189 secs --- remaining: 1:35)"
       ]
      },
      {
       "output_type": "stream",
       "stream": "stdout",
       "text": [
        "\r",
        "Done image 809 of 2000 (avg time: 0.0798927775136 secs --- remaining: 1:35)"
       ]
      },
      {
       "output_type": "stream",
       "stream": "stdout",
       "text": [
        "\r",
        "Done image 810 of 2000 (avg time: 0.0799719675843 secs --- remaining: 1:35)"
       ]
      },
      {
       "output_type": "stream",
       "stream": "stdout",
       "text": [
        "\r",
        "Done image 811 of 2000 (avg time: 0.0800001621246 secs --- remaining: 1:35)"
       ]
      },
      {
       "output_type": "stream",
       "stream": "stdout",
       "text": [
        "\r",
        "Done image 812 of 2000 (avg time: 0.0800327374926 secs --- remaining: 1:34)"
       ]
      },
      {
       "output_type": "stream",
       "stream": "stdout",
       "text": [
        "\r",
        "Done image 813 of 2000 (avg time: 0.0800587536369 secs --- remaining: 1:34)"
       ]
      },
      {
       "output_type": "stream",
       "stream": "stdout",
       "text": [
        "\r",
        "Done image 814 of 2000 (avg time: 0.0800878679825 secs --- remaining: 1:34)"
       ]
      },
      {
       "output_type": "stream",
       "stream": "stdout",
       "text": [
        "\r",
        "Done image 815 of 2000 (avg time: 0.0801147701694 secs --- remaining: 1:34)"
       ]
      },
      {
       "output_type": "stream",
       "stream": "stdout",
       "text": [
        "\r",
        "Done image 816 of 2000 (avg time: 0.0801427790409 secs --- remaining: 1:34)"
       ]
      },
      {
       "output_type": "stream",
       "stream": "stdout",
       "text": [
        "\r",
        "Done image 817 of 2000 (avg time: 0.0801654602321 secs --- remaining: 1:34)"
       ]
      },
      {
       "output_type": "stream",
       "stream": "stdout",
       "text": [
        "\r",
        "Done image 818 of 2000 (avg time: 0.0801914291359 secs --- remaining: 1:34)"
       ]
      },
      {
       "output_type": "stream",
       "stream": "stdout",
       "text": [
        "\r",
        "Done image 819 of 2000 (avg time: 0.0802233457565 secs --- remaining: 1:34)"
       ]
      },
      {
       "output_type": "stream",
       "stream": "stdout",
       "text": [
        "\r",
        "Done image 820 of 2000 (avg time: 0.0802433479137 secs --- remaining: 1:34)"
       ]
      },
      {
       "output_type": "stream",
       "stream": "stdout",
       "text": [
        "\r",
        "Done image 821 of 2000 (avg time: 0.0802193401504 secs --- remaining: 1:34)"
       ]
      },
      {
       "output_type": "stream",
       "stream": "stdout",
       "text": [
        "\r",
        "Done image 822 of 2000 (avg time: 0.0802376800435 secs --- remaining: 1:34)"
       ]
      },
      {
       "output_type": "stream",
       "stream": "stdout",
       "text": [
        "\r",
        "Done image 823 of 2000 (avg time: 0.080264601314 secs --- remaining: 1:34)"
       ]
      },
      {
       "output_type": "stream",
       "stream": "stdout",
       "text": [
        "\r",
        "Done image 824 of 2000 (avg time: 0.0803336770607 secs --- remaining: 1:34)"
       ]
      },
      {
       "output_type": "stream",
       "stream": "stdout",
       "text": [
        "\r",
        "Done image 825 of 2000 (avg time: 0.0804041072762 secs --- remaining: 1:34)"
       ]
      },
      {
       "output_type": "stream",
       "stream": "stdout",
       "text": [
        "\r",
        "Done image 826 of 2000 (avg time: 0.0804958545311 secs --- remaining: 1:34)"
       ]
      },
      {
       "output_type": "stream",
       "stream": "stdout",
       "text": [
        "\r",
        "Done image 827 of 2000 (avg time: 0.0805750394213 secs --- remaining: 1:34)"
       ]
      },
      {
       "output_type": "stream",
       "stream": "stdout",
       "text": [
        "\r",
        "Done image 828 of 2000 (avg time: 0.080657275652 secs --- remaining: 1:34)"
       ]
      },
      {
       "output_type": "stream",
       "stream": "stdout",
       "text": [
        "\r",
        "Done image 829 of 2000 (avg time: 0.0807345571288 secs --- remaining: 1:34)"
       ]
      },
      {
       "output_type": "stream",
       "stream": "stdout",
       "text": [
        "\r",
        "Done image 830 of 2000 (avg time: 0.0808044768126 secs --- remaining: 1:34)"
       ]
      },
      {
       "output_type": "stream",
       "stream": "stdout",
       "text": [
        "\r",
        "Done image 831 of 2000 (avg time: 0.0808266902772 secs --- remaining: 1:34)"
       ]
      },
      {
       "output_type": "stream",
       "stream": "stdout",
       "text": [
        "\r",
        "Done image 832 of 2000 (avg time: 0.0808542475981 secs --- remaining: 1:34)"
       ]
      },
      {
       "output_type": "stream",
       "stream": "stdout",
       "text": [
        "\r",
        "Done image 833 of 2000 (avg time: 0.0808743012609 secs --- remaining: 1:34)"
       ]
      },
      {
       "output_type": "stream",
       "stream": "stdout",
       "text": [
        "\r",
        "Done image 834 of 2000 (avg time: 0.0808960494881 secs --- remaining: 1:34)"
       ]
      },
      {
       "output_type": "stream",
       "stream": "stdout",
       "text": [
        "\r",
        "Done image 835 of 2000 (avg time: 0.0809637958353 secs --- remaining: 1:34)"
       ]
      },
      {
       "output_type": "stream",
       "stream": "stdout",
       "text": [
        "\r",
        "Done image 836 of 2000 (avg time: 0.0810320733411 secs --- remaining: 1:34)"
       ]
      },
      {
       "output_type": "stream",
       "stream": "stdout",
       "text": [
        "\r",
        "Done image 837 of 2000 (avg time: 0.0810569430877 secs --- remaining: 1:34)"
       ]
      },
      {
       "output_type": "stream",
       "stream": "stdout",
       "text": [
        "\r",
        "Done image 838 of 2000 (avg time: 0.081080649834 secs --- remaining: 1:34)"
       ]
      },
      {
       "output_type": "stream",
       "stream": "stdout",
       "text": [
        "\r",
        "Done image 839 of 2000 (avg time: 0.0811768548829 secs --- remaining: 1:34)"
       ]
      },
      {
       "output_type": "stream",
       "stream": "stdout",
       "text": [
        "\r",
        "Done image 840 of 2000 (avg time: 0.0812451156226 secs --- remaining: 1:34)"
       ]
      },
      {
       "output_type": "stream",
       "stream": "stdout",
       "text": [
        "\r",
        "Done image 841 of 2000 (avg time: 0.0813162091792 secs --- remaining: 1:34)"
       ]
      },
      {
       "output_type": "stream",
       "stream": "stdout",
       "text": [
        "\r",
        "Done image 842 of 2000 (avg time: 0.0813847937194 secs --- remaining: 1:34)"
       ]
      },
      {
       "output_type": "stream",
       "stream": "stdout",
       "text": [
        "\r",
        "Done image 843 of 2000 (avg time: 0.0814199741418 secs --- remaining: 1:34)"
       ]
      },
      {
       "output_type": "stream",
       "stream": "stdout",
       "text": [
        "\r",
        "Done image 844 of 2000 (avg time: 0.0814883316762 secs --- remaining: 1:34)"
       ]
      },
      {
       "output_type": "stream",
       "stream": "stdout",
       "text": [
        "\r",
        "Done image 845 of 2000 (avg time: 0.0815565216908 secs --- remaining: 1:34)"
       ]
      },
      {
       "output_type": "stream",
       "stream": "stdout",
       "text": [
        "\r",
        "Done image 846 of 2000 (avg time: 0.0816226911939 secs --- remaining: 1:34)"
       ]
      },
      {
       "output_type": "stream",
       "stream": "stdout",
       "text": [
        "\r",
        "Done image 847 of 2000 (avg time: 0.0816892447337 secs --- remaining: 1:34)"
       ]
      },
      {
       "output_type": "stream",
       "stream": "stdout",
       "text": [
        "\r",
        "Done image 848 of 2000 (avg time: 0.0817552915872 secs --- remaining: 1:34)"
       ]
      },
      {
       "output_type": "stream",
       "stream": "stdout",
       "text": [
        "\r",
        "Done image 849 of 2000 (avg time: 0.0817752428616 secs --- remaining: 1:34)"
       ]
      },
      {
       "output_type": "stream",
       "stream": "stdout",
       "text": [
        "\r",
        "Done image 850 of 2000 (avg time: 0.081793394268 secs --- remaining: 1:33)"
       ]
      },
      {
       "output_type": "stream",
       "stream": "stdout",
       "text": [
        "\r",
        "Done image 851 of 2000 (avg time: 0.081810361063 secs --- remaining: 1:33)"
       ]
      },
      {
       "output_type": "stream",
       "stream": "stdout",
       "text": [
        "\r",
        "Done image 852 of 2000 (avg time: 0.081828792098 secs --- remaining: 1:33)"
       ]
      },
      {
       "output_type": "stream",
       "stream": "stdout",
       "text": [
        "\r",
        "Done image 853 of 2000 (avg time: 0.0818467151365 secs --- remaining: 1:33)"
       ]
      },
      {
       "output_type": "stream",
       "stream": "stdout",
       "text": [
        "\r",
        "Done image 854 of 2000 (avg time: 0.0818652172535 secs --- remaining: 1:33)"
       ]
      },
      {
       "output_type": "stream",
       "stream": "stdout",
       "text": [
        "\r",
        "Done image 855 of 2000 (avg time: 0.0818415337077 secs --- remaining: 1:33)"
       ]
      },
      {
       "output_type": "stream",
       "stream": "stdout",
       "text": [
        "\r",
        "Done image 856 of 2000 (avg time: 0.0818652425096 secs --- remaining: 1:33)"
       ]
      },
      {
       "output_type": "stream",
       "stream": "stdout",
       "text": [
        "\r",
        "Done image 857 of 2000 (avg time: 0.0818882469253 secs --- remaining: 1:33)"
       ]
      },
      {
       "output_type": "stream",
       "stream": "stdout",
       "text": [
        "\r",
        "Done image 858 of 2000 (avg time: 0.0819123782157 secs --- remaining: 1:33)"
       ]
      },
      {
       "output_type": "stream",
       "stream": "stdout",
       "text": [
        "\r",
        "Done image 859 of 2000 (avg time: 0.081939880238 secs --- remaining: 1:33)"
       ]
      },
      {
       "output_type": "stream",
       "stream": "stdout",
       "text": [
        "\r",
        "Done image 860 of 2000 (avg time: 0.0819753949789 secs --- remaining: 1:33)"
       ]
      },
      {
       "output_type": "stream",
       "stream": "stdout",
       "text": [
        "\r",
        "Done image 861 of 2000 (avg time: 0.0819992194873 secs --- remaining: 1:33)"
       ]
      },
      {
       "output_type": "stream",
       "stream": "stdout",
       "text": [
        "\r",
        "Done image 862 of 2000 (avg time: 0.081972583006 secs --- remaining: 1:33)"
       ]
      },
      {
       "output_type": "stream",
       "stream": "stdout",
       "text": [
        "\r",
        "Done image 863 of 2000 (avg time: 0.0819456519352 secs --- remaining: 1:33)"
       ]
      },
      {
       "output_type": "stream",
       "stream": "stdout",
       "text": [
        "\r",
        "Done image 864 of 2000 (avg time: 0.0819229216934 secs --- remaining: 1:32)"
       ]
      },
      {
       "output_type": "stream",
       "stream": "stdout",
       "text": [
        "\r",
        "Done image 865 of 2000 (avg time: 0.0818996528555 secs --- remaining: 1:32)"
       ]
      },
      {
       "output_type": "stream",
       "stream": "stdout",
       "text": [
        "\r",
        "Done image 866 of 2000 (avg time: 0.0818296477044 secs --- remaining: 1:32)"
       ]
      },
      {
       "output_type": "stream",
       "stream": "stdout",
       "text": [
        "\r",
        "Done image 867 of 2000 (avg time: 0.0817601180846 secs --- remaining: 1:32)"
       ]
      },
      {
       "output_type": "stream",
       "stream": "stdout",
       "text": [
        "\r",
        "Done image 868 of 2000 (avg time: 0.0816918533334 secs --- remaining: 1:32)"
       ]
      },
      {
       "output_type": "stream",
       "stream": "stdout",
       "text": [
        "\r",
        "Done image 869 of 2000 (avg time: 0.0816238696548 secs --- remaining: 1:32)"
       ]
      },
      {
       "output_type": "stream",
       "stream": "stdout",
       "text": [
        "\r",
        "Done image 870 of 2000 (avg time: 0.0815570524174 secs --- remaining: 1:32)"
       ]
      },
      {
       "output_type": "stream",
       "stream": "stdout",
       "text": [
        "\r",
        "Done image 871 of 2000 (avg time: 0.0815317529604 secs --- remaining: 1:31)"
       ]
      },
      {
       "output_type": "stream",
       "stream": "stdout",
       "text": [
        "\r",
        "Done image 872 of 2000 (avg time: 0.0815109056842 secs --- remaining: 1:31)"
       ]
      },
      {
       "output_type": "stream",
       "stream": "stdout",
       "text": [
        "\r",
        "Done image 873 of 2000 (avg time: 0.0814900477364 secs --- remaining: 1:31)"
       ]
      },
      {
       "output_type": "stream",
       "stream": "stdout",
       "text": [
        "\r",
        "Done image 874 of 2000 (avg time: 0.0814726660592 secs --- remaining: 1:31)"
       ]
      },
      {
       "output_type": "stream",
       "stream": "stdout",
       "text": [
        "\r",
        "Done image 875 of 2000 (avg time: 0.0814503341505 secs --- remaining: 1:31)"
       ]
      },
      {
       "output_type": "stream",
       "stream": "stdout",
       "text": [
        "\r",
        "Done image 876 of 2000 (avg time: 0.0814336988238 secs --- remaining: 1:31)"
       ]
      },
      {
       "output_type": "stream",
       "stream": "stdout",
       "text": [
        "\r",
        "Done image 877 of 2000 (avg time: 0.0814103004873 secs --- remaining: 1:31)"
       ]
      },
      {
       "output_type": "stream",
       "stream": "stdout",
       "text": [
        "\r",
        "Done image 878 of 2000 (avg time: 0.0813862070424 secs --- remaining: 1:31)"
       ]
      },
      {
       "output_type": "stream",
       "stream": "stdout",
       "text": [
        "\r",
        "Done image 879 of 2000 (avg time: 0.0813198252158 secs --- remaining: 1:31)"
       ]
      },
      {
       "output_type": "stream",
       "stream": "stdout",
       "text": [
        "\r",
        "Done image 880 of 2000 (avg time: 0.0812522374542 secs --- remaining: 1:30)"
       ]
      },
      {
       "output_type": "stream",
       "stream": "stdout",
       "text": [
        "\r",
        "Done image 881 of 2000 (avg time: 0.0811882654285 secs --- remaining: 1:30)"
       ]
      },
      {
       "output_type": "stream",
       "stream": "stdout",
       "text": [
        "\r",
        "Done image 882 of 2000 (avg time: 0.0811639490916 secs --- remaining: 1:30)"
       ]
      },
      {
       "output_type": "stream",
       "stream": "stdout",
       "text": [
        "\r",
        "Done image 883 of 2000 (avg time: 0.0811434547286 secs --- remaining: 1:30)"
       ]
      },
      {
       "output_type": "stream",
       "stream": "stdout",
       "text": [
        "\r",
        "Done image 884 of 2000 (avg time: 0.0811224315126 secs --- remaining: 1:30)"
       ]
      },
      {
       "output_type": "stream",
       "stream": "stdout",
       "text": [
        "\r",
        "Done image 885 of 2000 (avg time: 0.0811007200461 secs --- remaining: 1:30)"
       ]
      },
      {
       "output_type": "stream",
       "stream": "stdout",
       "text": [
        "\r",
        "Done image 886 of 2000 (avg time: 0.0810805073989 secs --- remaining: 1:30)"
       ]
      },
      {
       "output_type": "stream",
       "stream": "stdout",
       "text": [
        "\r",
        "Done image 887 of 2000 (avg time: 0.0810597208706 secs --- remaining: 1:30)"
       ]
      },
      {
       "output_type": "stream",
       "stream": "stdout",
       "text": [
        "\r",
        "Done image 888 of 2000 (avg time: 0.08104640051 secs --- remaining: 1:30)"
       ]
      },
      {
       "output_type": "stream",
       "stream": "stdout",
       "text": [
        "\r",
        "Done image 889 of 2000 (avg time: 0.0810269326306 secs --- remaining: 1:29)"
       ]
      },
      {
       "output_type": "stream",
       "stream": "stdout",
       "text": [
        "\r",
        "Done image 890 of 2000 (avg time: 0.081002960569 secs --- remaining: 1:29)"
       ]
      },
      {
       "output_type": "stream",
       "stream": "stdout",
       "text": [
        "\r",
        "Done image 891 of 2000 (avg time: 0.0809804348133 secs --- remaining: 1:29)"
       ]
      },
      {
       "output_type": "stream",
       "stream": "stdout",
       "text": [
        "\r",
        "Done image 892 of 2000 (avg time: 0.0809148767627 secs --- remaining: 1:29)"
       ]
      },
      {
       "output_type": "stream",
       "stream": "stdout",
       "text": [
        "\r",
        "Done image 893 of 2000 (avg time: 0.0808508500157 secs --- remaining: 1:29)"
       ]
      },
      {
       "output_type": "stream",
       "stream": "stdout",
       "text": [
        "\r",
        "Done image 894 of 2000 (avg time: 0.0807859732452 secs --- remaining: 1:29)"
       ]
      },
      {
       "output_type": "stream",
       "stream": "stdout",
       "text": [
        "\r",
        "Done image 895 of 2000 (avg time: 0.0807210904147 secs --- remaining: 1:29)"
       ]
      },
      {
       "output_type": "stream",
       "stream": "stdout",
       "text": [
        "\r",
        "Done image 896 of 2000 (avg time: 0.080657781433 secs --- remaining: 1:28)"
       ]
      },
      {
       "output_type": "stream",
       "stream": "stdout",
       "text": [
        "\r",
        "Done image 897 of 2000 (avg time: 0.0805930244365 secs --- remaining: 1:28)"
       ]
      },
      {
       "output_type": "stream",
       "stream": "stdout",
       "text": [
        "\r",
        "Done image 898 of 2000 (avg time: 0.0805311590201 secs --- remaining: 1:28)"
       ]
      },
      {
       "output_type": "stream",
       "stream": "stdout",
       "text": [
        "\r",
        "Done image 899 of 2000 (avg time: 0.0804703455501 secs --- remaining: 1:28)"
       ]
      },
      {
       "output_type": "stream",
       "stream": "stdout",
       "text": [
        "\r",
        "Done image 900 of 2000 (avg time: 0.0804144005135 secs --- remaining: 1:28)"
       ]
      },
      {
       "output_type": "stream",
       "stream": "stdout",
       "text": [
        "\r",
        "Done image 901 of 2000 (avg time: 0.0803506871285 secs --- remaining: 1:28)"
       ]
      },
      {
       "output_type": "stream",
       "stream": "stdout",
       "text": [
        "\r",
        "Done image 902 of 2000 (avg time: 0.0802891069604 secs --- remaining: 1:28)"
       ]
      },
      {
       "output_type": "stream",
       "stream": "stdout",
       "text": [
        "\r",
        "Done image 903 of 2000 (avg time: 0.08022837776 secs --- remaining: 1:27)"
       ]
      },
      {
       "output_type": "stream",
       "stream": "stdout",
       "text": [
        "\r",
        "Done image 904 of 2000 (avg time: 0.0801663938807 secs --- remaining: 1:27)"
       ]
      },
      {
       "output_type": "stream",
       "stream": "stdout",
       "text": [
        "\r",
        "Done image 905 of 2000 (avg time: 0.0801048460386 secs --- remaining: 1:27)"
       ]
      },
      {
       "output_type": "stream",
       "stream": "stdout",
       "text": [
        "\r",
        "Done image 906 of 2000 (avg time: 0.0800458383402 secs --- remaining: 1:27)"
       ]
      },
      {
       "output_type": "stream",
       "stream": "stdout",
       "text": [
        "\r",
        "Done image 907 of 2000 (avg time: 0.0799661236713 secs --- remaining: 1:27)"
       ]
      },
      {
       "output_type": "stream",
       "stream": "stdout",
       "text": [
        "\r",
        "Done image 908 of 2000 (avg time: 0.0798860540484 secs --- remaining: 1:27)"
       ]
      },
      {
       "output_type": "stream",
       "stream": "stdout",
       "text": [
        "\r",
        "Done image 909 of 2000 (avg time: 0.0798097484714 secs --- remaining: 1:26)"
       ]
      },
      {
       "output_type": "stream",
       "stream": "stdout",
       "text": [
        "\r",
        "Done image 910 of 2000 (avg time: 0.0797328990848 secs --- remaining: 1:26)"
       ]
      },
      {
       "output_type": "stream",
       "stream": "stdout",
       "text": [
        "\r",
        "Done image 911 of 2000 (avg time: 0.0796566974176 secs --- remaining: 1:26)"
       ]
      },
      {
       "output_type": "stream",
       "stream": "stdout",
       "text": [
        "\r",
        "Done image 912 of 2000 (avg time: 0.0795786527005 secs --- remaining: 1:26)"
       ]
      },
      {
       "output_type": "stream",
       "stream": "stdout",
       "text": [
        "\r",
        "Done image 913 of 2000 (avg time: 0.0794994473718 secs --- remaining: 1:26)"
       ]
      },
      {
       "output_type": "stream",
       "stream": "stdout",
       "text": [
        "\r",
        "Done image 914 of 2000 (avg time: 0.0794205636926 secs --- remaining: 1:26)"
       ]
      },
      {
       "output_type": "stream",
       "stream": "stdout",
       "text": [
        "\r",
        "Done image 915 of 2000 (avg time: 0.0793418184118 secs --- remaining: 1:26)"
       ]
      },
      {
       "output_type": "stream",
       "stream": "stdout",
       "text": [
        "\r",
        "Done image 916 of 2000 (avg time: 0.0792644465893 secs --- remaining: 1:25)"
       ]
      },
      {
       "output_type": "stream",
       "stream": "stdout",
       "text": [
        "\r",
        "Done image 917 of 2000 (avg time: 0.0791864831463 secs --- remaining: 1:25)"
       ]
      },
      {
       "output_type": "stream",
       "stream": "stdout",
       "text": [
        "\r",
        "Done image 918 of 2000 (avg time: 0.0791090082162 secs --- remaining: 1:25)"
       ]
      },
      {
       "output_type": "stream",
       "stream": "stdout",
       "text": [
        "\r",
        "Done image 919 of 2000 (avg time: 0.0790309887865 secs --- remaining: 1:25)"
       ]
      },
      {
       "output_type": "stream",
       "stream": "stdout",
       "text": [
        "\r",
        "Done image 920 of 2000 (avg time: 0.0789536609194 secs --- remaining: 1:25)"
       ]
      },
      {
       "output_type": "stream",
       "stream": "stdout",
       "text": [
        "\r",
        "Done image 921 of 2000 (avg time: 0.0788761829864 secs --- remaining: 1:25)"
       ]
      },
      {
       "output_type": "stream",
       "stream": "stdout",
       "text": [
        "\r",
        "Done image 922 of 2000 (avg time: 0.0788143799597 secs --- remaining: 1:24)"
       ]
      },
      {
       "output_type": "stream",
       "stream": "stdout",
       "text": [
        "\r",
        "Done image 923 of 2000 (avg time: 0.0787548458937 secs --- remaining: 1:24)"
       ]
      },
      {
       "output_type": "stream",
       "stream": "stdout",
       "text": [
        "\r",
        "Done image 924 of 2000 (avg time: 0.0786965238726 secs --- remaining: 1:24)"
       ]
      },
      {
       "output_type": "stream",
       "stream": "stdout",
       "text": [
        "\r",
        "Done image 925 of 2000 (avg time: 0.0786772412821 secs --- remaining: 1:24)"
       ]
      },
      {
       "output_type": "stream",
       "stream": "stdout",
       "text": [
        "\r",
        "Done image 926 of 2000 (avg time: 0.078660382422 secs --- remaining: 1:24)"
       ]
      },
      {
       "output_type": "stream",
       "stream": "stdout",
       "text": [
        "\r",
        "Done image 927 of 2000 (avg time: 0.0786405382999 secs --- remaining: 1:24)"
       ]
      },
      {
       "output_type": "stream",
       "stream": "stdout",
       "text": [
        "\r",
        "Done image 928 of 2000 (avg time: 0.078621795026 secs --- remaining: 1:24)"
       ]
      },
      {
       "output_type": "stream",
       "stream": "stdout",
       "text": [
        "\r",
        "Done image 929 of 2000 (avg time: 0.0786030920603 secs --- remaining: 1:24)"
       ]
      },
      {
       "output_type": "stream",
       "stream": "stdout",
       "text": [
        "\r",
        "Done image 930 of 2000 (avg time: 0.0785857878233 secs --- remaining: 1:24)"
       ]
      },
      {
       "output_type": "stream",
       "stream": "stdout",
       "text": [
        "\r",
        "Done image 931 of 2000 (avg time: 0.0785691582082 secs --- remaining: 1:23)"
       ]
      },
      {
       "output_type": "stream",
       "stream": "stdout",
       "text": [
        "\r",
        "Done image 932 of 2000 (avg time: 0.0785552244094 secs --- remaining: 1:23)"
       ]
      },
      {
       "output_type": "stream",
       "stream": "stdout",
       "text": [
        "\r",
        "Done image 933 of 2000 (avg time: 0.0785762337086 secs --- remaining: 1:23)"
       ]
      },
      {
       "output_type": "stream",
       "stream": "stdout",
       "text": [
        "\r",
        "Done image 934 of 2000 (avg time: 0.0786021329502 secs --- remaining: 1:23)"
       ]
      },
      {
       "output_type": "stream",
       "stream": "stdout",
       "text": [
        "\r",
        "Done image 935 of 2000 (avg time: 0.0786288999594 secs --- remaining: 1:23)"
       ]
      },
      {
       "output_type": "stream",
       "stream": "stdout",
       "text": [
        "\r",
        "Done image 936 of 2000 (avg time: 0.0786523793525 secs --- remaining: 1:23)"
       ]
      },
      {
       "output_type": "stream",
       "stream": "stdout",
       "text": [
        "\r",
        "Done image 937 of 2000 (avg time: 0.0786778332074 secs --- remaining: 1:23)"
       ]
      },
      {
       "output_type": "stream",
       "stream": "stdout",
       "text": [
        "\r",
        "Done image 938 of 2000 (avg time: 0.0787016258707 secs --- remaining: 1:23)"
       ]
      },
      {
       "output_type": "stream",
       "stream": "stdout",
       "text": [
        "\r",
        "Done image 939 of 2000 (avg time: 0.0787242486122 secs --- remaining: 1:23)"
       ]
      },
      {
       "output_type": "stream",
       "stream": "stdout",
       "text": [
        "\r",
        "Done image 940 of 2000 (avg time: 0.078744780878 secs --- remaining: 1:23)"
       ]
      },
      {
       "output_type": "stream",
       "stream": "stdout",
       "text": [
        "\r",
        "Done image 941 of 2000 (avg time: 0.0787673502718 secs --- remaining: 1:23)"
       ]
      },
      {
       "output_type": "stream",
       "stream": "stdout",
       "text": [
        "\r",
        "Done image 942 of 2000 (avg time: 0.078795026494 secs --- remaining: 1:23)"
       ]
      },
      {
       "output_type": "stream",
       "stream": "stdout",
       "text": [
        "\r",
        "Done image 943 of 2000 (avg time: 0.0788192180759 secs --- remaining: 1:23)"
       ]
      },
      {
       "output_type": "stream",
       "stream": "stdout",
       "text": [
        "\r",
        "Done image 944 of 2000 (avg time: 0.0788549004408 secs --- remaining: 1:23)"
       ]
      },
      {
       "output_type": "stream",
       "stream": "stdout",
       "text": [
        "\r",
        "Done image 945 of 2000 (avg time: 0.0788739173659 secs --- remaining: 1:23)"
       ]
      },
      {
       "output_type": "stream",
       "stream": "stdout",
       "text": [
        "\r",
        "Done image 946 of 2000 (avg time: 0.0788950779118 secs --- remaining: 1:23)"
       ]
      },
      {
       "output_type": "stream",
       "stream": "stdout",
       "text": [
        "\r",
        "Done image 947 of 2000 (avg time: 0.0788794187554 secs --- remaining: 1:22)"
       ]
      },
      {
       "output_type": "stream",
       "stream": "stdout",
       "text": [
        "\r",
        "Done image 948 of 2000 (avg time: 0.0788622877244 secs --- remaining: 1:22)"
       ]
      },
      {
       "output_type": "stream",
       "stream": "stdout",
       "text": [
        "\r",
        "Done image 949 of 2000 (avg time: 0.0788828390523 secs --- remaining: 1:22)"
       ]
      },
      {
       "output_type": "stream",
       "stream": "stdout",
       "text": [
        "\r",
        "Done image 950 of 2000 (avg time: 0.0789075406693 secs --- remaining: 1:22)"
       ]
      },
      {
       "output_type": "stream",
       "stream": "stdout",
       "text": [
        "\r",
        "Done image 951 of 2000 (avg time: 0.0789319750141 secs --- remaining: 1:22)"
       ]
      },
      {
       "output_type": "stream",
       "stream": "stdout",
       "text": [
        "\r",
        "Done image 952 of 2000 (avg time: 0.0789616758401 secs --- remaining: 1:22)"
       ]
      },
      {
       "output_type": "stream",
       "stream": "stdout",
       "text": [
        "\r",
        "Done image 953 of 2000 (avg time: 0.078985578609 secs --- remaining: 1:22)"
       ]
      },
      {
       "output_type": "stream",
       "stream": "stdout",
       "text": [
        "\r",
        "Done image 954 of 2000 (avg time: 0.0790060659978 secs --- remaining: 1:22)"
       ]
      },
      {
       "output_type": "stream",
       "stream": "stdout",
       "text": [
        "\r",
        "Done image 955 of 2000 (avg time: 0.0790275764266 secs --- remaining: 1:22)"
       ]
      },
      {
       "output_type": "stream",
       "stream": "stdout",
       "text": [
        "\r",
        "Done image 956 of 2000 (avg time: 0.0790099823612 secs --- remaining: 1:22)"
       ]
      },
      {
       "output_type": "stream",
       "stream": "stdout",
       "text": [
        "\r",
        "Done image 957 of 2000 (avg time: 0.0790363801546 secs --- remaining: 1:22)"
       ]
      },
      {
       "output_type": "stream",
       "stream": "stdout",
       "text": [
        "\r",
        "Done image 958 of 2000 (avg time: 0.0790589074522 secs --- remaining: 1:22)"
       ]
      },
      {
       "output_type": "stream",
       "stream": "stdout",
       "text": [
        "\r",
        "Done image 959 of 2000 (avg time: 0.0790958690147 secs --- remaining: 1:22)"
       ]
      },
      {
       "output_type": "stream",
       "stream": "stdout",
       "text": [
        "\r",
        "Done image 960 of 2000 (avg time: 0.0791182197964 secs --- remaining: 1:22)"
       ]
      },
      {
       "output_type": "stream",
       "stream": "stdout",
       "text": [
        "\r",
        "Done image 961 of 2000 (avg time: 0.0791522081082 secs --- remaining: 1:22)"
       ]
      },
      {
       "output_type": "stream",
       "stream": "stdout",
       "text": [
        "\r",
        "Done image 962 of 2000 (avg time: 0.079184116728 secs --- remaining: 1:22)"
       ]
      },
      {
       "output_type": "stream",
       "stream": "stdout",
       "text": [
        "\r",
        "Done image 963 of 2000 (avg time: 0.0792107960495 secs --- remaining: 1:22)"
       ]
      },
      {
       "output_type": "stream",
       "stream": "stdout",
       "text": [
        "\r",
        "Done image 964 of 2000 (avg time: 0.079280667725 secs --- remaining: 1:22)"
       ]
      },
      {
       "output_type": "stream",
       "stream": "stdout",
       "text": [
        "\r",
        "Done image 965 of 2000 (avg time: 0.0793440337013 secs --- remaining: 1:22)"
       ]
      },
      {
       "output_type": "stream",
       "stream": "stdout",
       "text": [
        "\r",
        "Done image 966 of 2000 (avg time: 0.0794093884998 secs --- remaining: 1:22)"
       ]
      },
      {
       "output_type": "stream",
       "stream": "stdout",
       "text": [
        "\r",
        "Done image 967 of 2000 (avg time: 0.079437473835 secs --- remaining: 1:21)"
       ]
      },
      {
       "output_type": "stream",
       "stream": "stdout",
       "text": [
        "\r",
        "Done image 968 of 2000 (avg time: 0.0794577118782 secs --- remaining: 1:21)"
       ]
      },
      {
       "output_type": "stream",
       "stream": "stdout",
       "text": [
        "\r",
        "Done image 969 of 2000 (avg time: 0.0794397585171 secs --- remaining: 1:21)"
       ]
      },
      {
       "output_type": "stream",
       "stream": "stdout",
       "text": [
        "\r",
        "Done image 970 of 2000 (avg time: 0.0794616784175 secs --- remaining: 1:21)"
       ]
      },
      {
       "output_type": "stream",
       "stream": "stdout",
       "text": [
        "\r",
        "Done image 971 of 2000 (avg time: 0.0794908845866 secs --- remaining: 1:21)"
       ]
      },
      {
       "output_type": "stream",
       "stream": "stdout",
       "text": [
        "\r",
        "Done image 972 of 2000 (avg time: 0.0795135498047 secs --- remaining: 1:21)"
       ]
      },
      {
       "output_type": "stream",
       "stream": "stdout",
       "text": [
        "\r",
        "Done image 973 of 2000 (avg time: 0.0795444414111 secs --- remaining: 1:21)"
       ]
      },
      {
       "output_type": "stream",
       "stream": "stdout",
       "text": [
        "\r",
        "Done image 974 of 2000 (avg time: 0.0795758315844 secs --- remaining: 1:21)"
       ]
      },
      {
       "output_type": "stream",
       "stream": "stdout",
       "text": [
        "\r",
        "Done image 975 of 2000 (avg time: 0.0795962918 secs --- remaining: 1:21)"
       ]
      },
      {
       "output_type": "stream",
       "stream": "stdout",
       "text": [
        "\r",
        "Done image 976 of 2000 (avg time: 0.0796614398488 secs --- remaining: 1:21)"
       ]
      },
      {
       "output_type": "stream",
       "stream": "stdout",
       "text": [
        "\r",
        "Done image 977 of 2000 (avg time: 0.07972342105 secs --- remaining: 1:21)"
       ]
      },
      {
       "output_type": "stream",
       "stream": "stdout",
       "text": [
        "\r",
        "Done image 978 of 2000 (avg time: 0.079786793326 secs --- remaining: 1:21)"
       ]
      },
      {
       "output_type": "stream",
       "stream": "stdout",
       "text": [
        "\r",
        "Done image 979 of 2000 (avg time: 0.0798501253128 secs --- remaining: 1:21)"
       ]
      },
      {
       "output_type": "stream",
       "stream": "stdout",
       "text": [
        "\r",
        "Done image 980 of 2000 (avg time: 0.0798708867589 secs --- remaining: 1:21)"
       ]
      },
      {
       "output_type": "stream",
       "stream": "stdout",
       "text": [
        "\r",
        "Done image 981 of 2000 (avg time: 0.079889213966 secs --- remaining: 1:21)"
       ]
      },
      {
       "output_type": "stream",
       "stream": "stdout",
       "text": [
        "\r",
        "Done image 982 of 2000 (avg time: 0.0799069850879 secs --- remaining: 1:21)"
       ]
      },
      {
       "output_type": "stream",
       "stream": "stdout",
       "text": [
        "\r",
        "Done image 983 of 2000 (avg time: 0.0799257808585 secs --- remaining: 1:21)"
       ]
      },
      {
       "output_type": "stream",
       "stream": "stdout",
       "text": [
        "\r",
        "Done image 984 of 2000 (avg time: 0.0799461952926 secs --- remaining: 1:21)"
       ]
      },
      {
       "output_type": "stream",
       "stream": "stdout",
       "text": [
        "\r",
        "Done image 985 of 2000 (avg time: 0.079927152359 secs --- remaining: 1:21)"
       ]
      },
      {
       "output_type": "stream",
       "stream": "stdout",
       "text": [
        "\r",
        "Done image 986 of 2000 (avg time: 0.0799071308086 secs --- remaining: 1:20)"
       ]
      },
      {
       "output_type": "stream",
       "stream": "stdout",
       "text": [
        "\r",
        "Done image 987 of 2000 (avg time: 0.079886683327 secs --- remaining: 1:20)"
       ]
      },
      {
       "output_type": "stream",
       "stream": "stdout",
       "text": [
        "\r",
        "Done image 988 of 2000 (avg time: 0.079866273097 secs --- remaining: 1:20)"
       ]
      },
      {
       "output_type": "stream",
       "stream": "stdout",
       "text": [
        "\r",
        "Done image 989 of 2000 (avg time: 0.0798460837566 secs --- remaining: 1:20)"
       ]
      },
      {
       "output_type": "stream",
       "stream": "stdout",
       "text": [
        "\r",
        "Done image 990 of 2000 (avg time: 0.0798276387358 secs --- remaining: 1:20)"
       ]
      },
      {
       "output_type": "stream",
       "stream": "stdout",
       "text": [
        "\r",
        "Done image 991 of 2000 (avg time: 0.0798089626816 secs --- remaining: 1:20)"
       ]
      },
      {
       "output_type": "stream",
       "stream": "stdout",
       "text": [
        "\r",
        "Done image 992 of 2000 (avg time: 0.0797529619146 secs --- remaining: 1:20)"
       ]
      },
      {
       "output_type": "stream",
       "stream": "stdout",
       "text": [
        "\r",
        "Done image 993 of 2000 (avg time: 0.0797318543946 secs --- remaining: 1:20)"
       ]
      },
      {
       "output_type": "stream",
       "stream": "stdout",
       "text": [
        "\r",
        "Done image 994 of 2000 (avg time: 0.079710862385 secs --- remaining: 1:20)"
       ]
      },
      {
       "output_type": "stream",
       "stream": "stdout",
       "text": [
        "\r",
        "Done image 995 of 2000 (avg time: 0.0796912712266 secs --- remaining: 1:20)"
       ]
      },
      {
       "output_type": "stream",
       "stream": "stdout",
       "text": [
        "\r",
        "Done image 996 of 2000 (avg time: 0.0796346300942 secs --- remaining: 1:19)"
       ]
      },
      {
       "output_type": "stream",
       "stream": "stdout",
       "text": [
        "\r",
        "Done image 997 of 2000 (avg time: 0.0795768848163 secs --- remaining: 1:19)"
       ]
      },
      {
       "output_type": "stream",
       "stream": "stdout",
       "text": [
        "\r",
        "Done image 998 of 2000 (avg time: 0.0795212741848 secs --- remaining: 1:19)"
       ]
      },
      {
       "output_type": "stream",
       "stream": "stdout",
       "text": [
        "\r",
        "Done image 999 of 2000 (avg time: 0.0794640858173 secs --- remaining: 1:19)"
       ]
      },
      {
       "output_type": "stream",
       "stream": "stdout",
       "text": [
        "\r",
        "Done image 1000 of 2000 (avg time: 0.0794462536003 secs --- remaining: 1:19)"
       ]
      },
      {
       "output_type": "stream",
       "stream": "stdout",
       "text": [
        "\r",
        "Done image 1001 of 2000 (avg time: 0.0794256623396 secs --- remaining: 1:19)"
       ]
      },
      {
       "output_type": "stream",
       "stream": "stdout",
       "text": [
        "\r",
        "Done image 1002 of 2000 (avg time: 0.0794126885244 secs --- remaining: 1:19)"
       ]
      },
      {
       "output_type": "stream",
       "stream": "stdout",
       "text": [
        "\r",
        "Done image 1003 of 2000 (avg time: 0.079393214676 secs --- remaining: 1:19)"
       ]
      },
      {
       "output_type": "stream",
       "stream": "stdout",
       "text": [
        "\r",
        "Done image 1004 of 2000 (avg time: 0.0793733587312 secs --- remaining: 1:18)"
       ]
      },
      {
       "output_type": "stream",
       "stream": "stdout",
       "text": [
        "\r",
        "Done image 1005 of 2000 (avg time: 0.0793550542998 secs --- remaining: 1:18)"
       ]
      },
      {
       "output_type": "stream",
       "stream": "stdout",
       "text": [
        "\r",
        "Done image 1006 of 2000 (avg time: 0.0793419968644 secs --- remaining: 1:18)"
       ]
      },
      {
       "output_type": "stream",
       "stream": "stdout",
       "text": [
        "\r",
        "Done image 1007 of 2000 (avg time: 0.0793243204317 secs --- remaining: 1:18)"
       ]
      },
      {
       "output_type": "stream",
       "stream": "stdout",
       "text": [
        "\r",
        "Done image 1008 of 2000 (avg time: 0.0793069266706 secs --- remaining: 1:18)"
       ]
      },
      {
       "output_type": "stream",
       "stream": "stdout",
       "text": [
        "\r",
        "Done image 1009 of 2000 (avg time: 0.0793298088678 secs --- remaining: 1:18)"
       ]
      },
      {
       "output_type": "stream",
       "stream": "stdout",
       "text": [
        "\r",
        "Done image 1010 of 2000 (avg time: 0.0793526863604 secs --- remaining: 1:18)"
       ]
      },
      {
       "output_type": "stream",
       "stream": "stdout",
       "text": [
        "\r",
        "Done image 1011 of 2000 (avg time: 0.0793734070341 secs --- remaining: 1:18)"
       ]
      },
      {
       "output_type": "stream",
       "stream": "stdout",
       "text": [
        "\r",
        "Done image 1012 of 2000 (avg time: 0.0793936553853 secs --- remaining: 1:18)"
       ]
      },
      {
       "output_type": "stream",
       "stream": "stdout",
       "text": [
        "\r",
        "Done image 1013 of 2000 (avg time: 0.0794128085499 secs --- remaining: 1:18)"
       ]
      },
      {
       "output_type": "stream",
       "stream": "stdout",
       "text": [
        "\r",
        "Done image 1014 of 2000 (avg time: 0.0794439055062 secs --- remaining: 1:18)"
       ]
      },
      {
       "output_type": "stream",
       "stream": "stdout",
       "text": [
        "\r",
        "Done image 1015 of 2000 (avg time: 0.0794358415397 secs --- remaining: 1:18)"
       ]
      },
      {
       "output_type": "stream",
       "stream": "stdout",
       "text": [
        "\r",
        "Done image 1016 of 2000 (avg time: 0.0794584837869 secs --- remaining: 1:18)"
       ]
      },
      {
       "output_type": "stream",
       "stream": "stdout",
       "text": [
        "\r",
        "Done image 1017 of 2000 (avg time: 0.0794837406904 secs --- remaining: 1:18)"
       ]
      },
      {
       "output_type": "stream",
       "stream": "stdout",
       "text": [
        "\r",
        "Done image 1018 of 2000 (avg time: 0.0795132826074 secs --- remaining: 1:18)"
       ]
      },
      {
       "output_type": "stream",
       "stream": "stdout",
       "text": [
        "\r",
        "Done image 1019 of 2000 (avg time: 0.0795341842315 secs --- remaining: 1:17)"
       ]
      },
      {
       "output_type": "stream",
       "stream": "stdout",
       "text": [
        "\r",
        "Done image 1020 of 2000 (avg time: 0.0795542262093 secs --- remaining: 1:17)"
       ]
      },
      {
       "output_type": "stream",
       "stream": "stdout",
       "text": [
        "\r",
        "Done image 1021 of 2000 (avg time: 0.0796097983586 secs --- remaining: 1:17)"
       ]
      },
      {
       "output_type": "stream",
       "stream": "stdout",
       "text": [
        "\r",
        "Done image 1022 of 2000 (avg time: 0.0796310302682 secs --- remaining: 1:17)"
       ]
      },
      {
       "output_type": "stream",
       "stream": "stdout",
       "text": [
        "\r",
        "Done image 1023 of 2000 (avg time: 0.0796534647234 secs --- remaining: 1:17)"
       ]
      },
      {
       "output_type": "stream",
       "stream": "stdout",
       "text": [
        "\r",
        "Done image 1024 of 2000 (avg time: 0.0796761980289 secs --- remaining: 1:17)"
       ]
      },
      {
       "output_type": "stream",
       "stream": "stdout",
       "text": [
        "\r",
        "Done image 1025 of 2000 (avg time: 0.0797002680353 secs --- remaining: 1:17)"
       ]
      },
      {
       "output_type": "stream",
       "stream": "stdout",
       "text": [
        "\r",
        "Done image 1026 of 2000 (avg time: 0.0800878648749 secs --- remaining: 1:17)"
       ]
      },
      {
       "output_type": "stream",
       "stream": "stdout",
       "text": [
        "\r",
        "Done image 1027 of 2000 (avg time: 0.08014268402 secs --- remaining: 1:17)"
       ]
      },
      {
       "output_type": "stream",
       "stream": "stdout",
       "text": [
        "\r",
        "Done image 1028 of 2000 (avg time: 0.0802109563548 secs --- remaining: 1:17)"
       ]
      },
      {
       "output_type": "stream",
       "stream": "stdout",
       "text": [
        "\r",
        "Done image 1029 of 2000 (avg time: 0.0802323933944 secs --- remaining: 1:17)"
       ]
      },
      {
       "output_type": "stream",
       "stream": "stdout",
       "text": [
        "\r",
        "Done image 1030 of 2000 (avg time: 0.0802515133507 secs --- remaining: 1:17)"
       ]
      },
      {
       "output_type": "stream",
       "stream": "stdout",
       "text": [
        "\r",
        "Done image 1031 of 2000 (avg time: 0.0802685826324 secs --- remaining: 1:17)"
       ]
      },
      {
       "output_type": "stream",
       "stream": "stdout",
       "text": [
        "\r",
        "Done image 1032 of 2000 (avg time: 0.0802887330789 secs --- remaining: 1:17)"
       ]
      },
      {
       "output_type": "stream",
       "stream": "stdout",
       "text": [
        "\r",
        "Done image 1033 of 2000 (avg time: 0.0803096368188 secs --- remaining: 1:17)"
       ]
      },
      {
       "output_type": "stream",
       "stream": "stdout",
       "text": [
        "\r",
        "Done image 1034 of 2000 (avg time: 0.080328980045 secs --- remaining: 1:17)"
       ]
      },
      {
       "output_type": "stream",
       "stream": "stdout",
       "text": [
        "\r",
        "Done image 1035 of 2000 (avg time: 0.0803586990217 secs --- remaining: 1:17)"
       ]
      },
      {
       "output_type": "stream",
       "stream": "stdout",
       "text": [
        "\r",
        "Done image 1036 of 2000 (avg time: 0.0803778999222 secs --- remaining: 1:17)"
       ]
      },
      {
       "output_type": "stream",
       "stream": "stdout",
       "text": [
        "\r",
        "Done image 1037 of 2000 (avg time: 0.0803994666175 secs --- remaining: 1:17)"
       ]
      },
      {
       "output_type": "stream",
       "stream": "stdout",
       "text": [
        "\r",
        "Done image 1038 of 2000 (avg time: 0.0804196519273 secs --- remaining: 1:17)"
       ]
      },
      {
       "output_type": "stream",
       "stream": "stdout",
       "text": [
        "\r",
        "Done image 1039 of 2000 (avg time: 0.0804610935541 secs --- remaining: 1:17)"
       ]
      },
      {
       "output_type": "stream",
       "stream": "stdout",
       "text": [
        "\r",
        "Done image 1040 of 2000 (avg time: 0.0804828965355 secs --- remaining: 1:17)"
       ]
      },
      {
       "output_type": "stream",
       "stream": "stdout",
       "text": [
        "\r",
        "Done image 1041 of 2000 (avg time: 0.0804928044669 secs --- remaining: 1:17)"
       ]
      },
      {
       "output_type": "stream",
       "stream": "stdout",
       "text": [
        "\r",
        "Done image 1042 of 2000 (avg time: 0.0804987010883 secs --- remaining: 1:17)"
       ]
      },
      {
       "output_type": "stream",
       "stream": "stdout",
       "text": [
        "\r",
        "Done image 1043 of 2000 (avg time: 0.0804925069955 secs --- remaining: 1:16)"
       ]
      },
      {
       "output_type": "stream",
       "stream": "stdout",
       "text": [
        "\r",
        "Done image 1044 of 2000 (avg time: 0.0804556721135 secs --- remaining: 1:16)"
       ]
      },
      {
       "output_type": "stream",
       "stream": "stdout",
       "text": [
        "\r",
        "Done image 1045 of 2000 (avg time: 0.0804051331763 secs --- remaining: 1:16)"
       ]
      },
      {
       "output_type": "stream",
       "stream": "stdout",
       "text": [
        "\r",
        "Done image 1046 of 2000 (avg time: 0.0803596096713 secs --- remaining: 1:16)"
       ]
      },
      {
       "output_type": "stream",
       "stream": "stdout",
       "text": [
        "\r",
        "Done image 1047 of 2000 (avg time: 0.08030800601 secs --- remaining: 1:16)"
       ]
      },
      {
       "output_type": "stream",
       "stream": "stdout",
       "text": [
        "\r",
        "Done image 1048 of 2000 (avg time: 0.0802381365952 secs --- remaining: 1:16)"
       ]
      },
      {
       "output_type": "stream",
       "stream": "stdout",
       "text": [
        "\r",
        "Done image 1049 of 2000 (avg time: 0.0801697183791 secs --- remaining: 1:16)"
       ]
      },
      {
       "output_type": "stream",
       "stream": "stdout",
       "text": [
        "\r",
        "Done image 1050 of 2000 (avg time: 0.0801010762477 secs --- remaining: 1:16)"
       ]
      },
      {
       "output_type": "stream",
       "stream": "stdout",
       "text": [
        "\r",
        "Done image 1051 of 2000 (avg time: 0.0800327529472 secs --- remaining: 1:15)"
       ]
      },
      {
       "output_type": "stream",
       "stream": "stdout",
       "text": [
        "\r",
        "Done image 1052 of 2000 (avg time: 0.0799635251363 secs --- remaining: 1:15)"
       ]
      },
      {
       "output_type": "stream",
       "stream": "stdout",
       "text": [
        "\r",
        "Done image 1053 of 2000 (avg time: 0.0798946784162 secs --- remaining: 1:15)"
       ]
      },
      {
       "output_type": "stream",
       "stream": "stdout",
       "text": [
        "\r",
        "Done image 1054 of 2000 (avg time: 0.0798268758855 secs --- remaining: 1:15)"
       ]
      },
      {
       "output_type": "stream",
       "stream": "stdout",
       "text": [
        "\r",
        "Done image 1055 of 2000 (avg time: 0.0797588448181 secs --- remaining: 1:15)"
       ]
      },
      {
       "output_type": "stream",
       "stream": "stdout",
       "text": [
        "\r",
        "Done image 1056 of 2000 (avg time: 0.0796922678753 secs --- remaining: 1:15)"
       ]
      },
      {
       "output_type": "stream",
       "stream": "stdout",
       "text": [
        "\r",
        "Done image 1057 of 2000 (avg time: 0.079623900875 secs --- remaining: 1:15)"
       ]
      },
      {
       "output_type": "stream",
       "stream": "stdout",
       "text": [
        "\r",
        "Done image 1058 of 2000 (avg time: 0.0795555290352 secs --- remaining: 1:14)"
       ]
      },
      {
       "output_type": "stream",
       "stream": "stdout",
       "text": [
        "\r",
        "Done image 1059 of 2000 (avg time: 0.0794872832748 secs --- remaining: 1:14)"
       ]
      },
      {
       "output_type": "stream",
       "stream": "stdout",
       "text": [
        "\r",
        "Done image 1060 of 2000 (avg time: 0.079419834225 secs --- remaining: 1:14)"
       ]
      },
      {
       "output_type": "stream",
       "stream": "stdout",
       "text": [
        "\r",
        "Done image 1061 of 2000 (avg time: 0.0793517194899 secs --- remaining: 1:14)"
       ]
      },
      {
       "output_type": "stream",
       "stream": "stdout",
       "text": [
        "\r",
        "Done image 1062 of 2000 (avg time: 0.0792856839952 secs --- remaining: 1:14)"
       ]
      },
      {
       "output_type": "stream",
       "stream": "stdout",
       "text": [
        "\r",
        "Done image 1063 of 2000 (avg time: 0.0792194663134 secs --- remaining: 1:14)"
       ]
      },
      {
       "output_type": "stream",
       "stream": "stdout",
       "text": [
        "\r",
        "Done image 1064 of 2000 (avg time: 0.0791522077551 secs --- remaining: 1:14)"
       ]
      },
      {
       "output_type": "stream",
       "stream": "stdout",
       "text": [
        "\r",
        "Done image 1065 of 2000 (avg time: 0.0790867552748 secs --- remaining: 1:13)"
       ]
      },
      {
       "output_type": "stream",
       "stream": "stdout",
       "text": [
        "\r",
        "Done image 1066 of 2000 (avg time: 0.0790197263841 secs --- remaining: 1:13)"
       ]
      },
      {
       "output_type": "stream",
       "stream": "stdout",
       "text": [
        "\r",
        "Done image 1067 of 2000 (avg time: 0.0789664260457 secs --- remaining: 1:13)"
       ]
      },
      {
       "output_type": "stream",
       "stream": "stdout",
       "text": [
        "\r",
        "Done image 1068 of 2000 (avg time: 0.0789165240342 secs --- remaining: 1:13)"
       ]
      },
      {
       "output_type": "stream",
       "stream": "stdout",
       "text": [
        "\r",
        "Done image 1069 of 2000 (avg time: 0.0788652161571 secs --- remaining: 1:13)"
       ]
      },
      {
       "output_type": "stream",
       "stream": "stdout",
       "text": [
        "\r",
        "Done image 1070 of 2000 (avg time: 0.0788164316884 secs --- remaining: 1:13)"
       ]
      },
      {
       "output_type": "stream",
       "stream": "stdout",
       "text": [
        "\r",
        "Done image 1071 of 2000 (avg time: 0.0788347616569 secs --- remaining: 1:13)"
       ]
      },
      {
       "output_type": "stream",
       "stream": "stdout",
       "text": [
        "\r",
        "Done image 1072 of 2000 (avg time: 0.0788425157143 secs --- remaining: 1:13)"
       ]
      },
      {
       "output_type": "stream",
       "stream": "stdout",
       "text": [
        "\r",
        "Done image 1073 of 2000 (avg time: 0.0788493382864 secs --- remaining: 1:13)"
       ]
      },
      {
       "output_type": "stream",
       "stream": "stdout",
       "text": [
        "\r",
        "Done image 1074 of 2000 (avg time: 0.0788454599159 secs --- remaining: 1:12)"
       ]
      },
      {
       "output_type": "stream",
       "stream": "stdout",
       "text": [
        "\r",
        "Done image 1075 of 2000 (avg time: 0.0788498917477 secs --- remaining: 1:12)"
       ]
      },
      {
       "output_type": "stream",
       "stream": "stdout",
       "text": [
        "\r",
        "Done image 1076 of 2000 (avg time: 0.0788461371717 secs --- remaining: 1:12)"
       ]
      },
      {
       "output_type": "stream",
       "stream": "stdout",
       "text": [
        "\r",
        "Done image 1077 of 2000 (avg time: 0.0788560052971 secs --- remaining: 1:12)"
       ]
      },
      {
       "output_type": "stream",
       "stream": "stdout",
       "text": [
        "\r",
        "Done image 1078 of 2000 (avg time: 0.0788675344465 secs --- remaining: 1:12)"
       ]
      },
      {
       "output_type": "stream",
       "stream": "stdout",
       "text": [
        "\r",
        "Done image 1079 of 2000 (avg time: 0.0788729016428 secs --- remaining: 1:12)"
       ]
      },
      {
       "output_type": "stream",
       "stream": "stdout",
       "text": [
        "\r",
        "Done image 1080 of 2000 (avg time: 0.0788763910394 secs --- remaining: 1:12)"
       ]
      },
      {
       "output_type": "stream",
       "stream": "stdout",
       "text": [
        "\r",
        "Done image 1081 of 2000 (avg time: 0.0788693989932 secs --- remaining: 1:12)"
       ]
      },
      {
       "output_type": "stream",
       "stream": "stdout",
       "text": [
        "\r",
        "Done image 1082 of 2000 (avg time: 0.0789041252788 secs --- remaining: 1:12)"
       ]
      },
      {
       "output_type": "stream",
       "stream": "stdout",
       "text": [
        "\r",
        "Done image 1083 of 2000 (avg time: 0.0789261150184 secs --- remaining: 1:12)"
       ]
      },
      {
       "output_type": "stream",
       "stream": "stdout",
       "text": [
        "\r",
        "Done image 1084 of 2000 (avg time: 0.0789437628012 secs --- remaining: 1:12)"
       ]
      },
      {
       "output_type": "stream",
       "stream": "stdout",
       "text": [
        "\r",
        "Done image 1085 of 2000 (avg time: 0.0789606092604 secs --- remaining: 1:12)"
       ]
      },
      {
       "output_type": "stream",
       "stream": "stdout",
       "text": [
        "\r",
        "Done image 1086 of 2000 (avg time: 0.0789791855553 secs --- remaining: 1:12)"
       ]
      },
      {
       "output_type": "stream",
       "stream": "stdout",
       "text": [
        "\r",
        "Done image 1087 of 2000 (avg time: 0.0789957394933 secs --- remaining: 1:12)"
       ]
      },
      {
       "output_type": "stream",
       "stream": "stdout",
       "text": [
        "\r",
        "Done image 1088 of 2000 (avg time: 0.0789790107527 secs --- remaining: 1:11)"
       ]
      },
      {
       "output_type": "stream",
       "stream": "stdout",
       "text": [
        "\r",
        "Done image 1089 of 2000 (avg time: 0.0789617722188 secs --- remaining: 1:11)"
       ]
      },
      {
       "output_type": "stream",
       "stream": "stdout",
       "text": [
        "\r",
        "Done image 1090 of 2000 (avg time: 0.0789425486714 secs --- remaining: 1:11)"
       ]
      },
      {
       "output_type": "stream",
       "stream": "stdout",
       "text": [
        "\r",
        "Done image 1091 of 2000 (avg time: 0.0789601379262 secs --- remaining: 1:11)"
       ]
      },
      {
       "output_type": "stream",
       "stream": "stdout",
       "text": [
        "\r",
        "Done image 1092 of 2000 (avg time: 0.078981156973 secs --- remaining: 1:11)"
       ]
      },
      {
       "output_type": "stream",
       "stream": "stdout",
       "text": [
        "\r",
        "Done image 1093 of 2000 (avg time: 0.0790020288453 secs --- remaining: 1:11)"
       ]
      },
      {
       "output_type": "stream",
       "stream": "stdout",
       "text": [
        "\r",
        "Done image 1094 of 2000 (avg time: 0.0789896816968 secs --- remaining: 1:11)"
       ]
      },
      {
       "output_type": "stream",
       "stream": "stdout",
       "text": [
        "\r",
        "Done image 1095 of 2000 (avg time: 0.0789795250353 secs --- remaining: 1:11)"
       ]
      },
      {
       "output_type": "stream",
       "stream": "stdout",
       "text": [
        "\r",
        "Done image 1096 of 2000 (avg time: 0.0790014451704 secs --- remaining: 1:11)"
       ]
      },
      {
       "output_type": "stream",
       "stream": "stdout",
       "text": [
        "\r",
        "Done image 1097 of 2000 (avg time: 0.079025697187 secs --- remaining: 1:11)"
       ]
      },
      {
       "output_type": "stream",
       "stream": "stdout",
       "text": [
        "\r",
        "Done image 1098 of 2000 (avg time: 0.079060311747 secs --- remaining: 1:11)"
       ]
      },
      {
       "output_type": "stream",
       "stream": "stdout",
       "text": [
        "\r",
        "Done image 1099 of 2000 (avg time: 0.0790849479762 secs --- remaining: 1:11)"
       ]
      },
      {
       "output_type": "stream",
       "stream": "stdout",
       "text": [
        "\r",
        "Done image 1100 of 2000 (avg time: 0.0791110498704 secs --- remaining: 1:11)"
       ]
      },
      {
       "output_type": "stream",
       "stream": "stdout",
       "text": [
        "\r",
        "Done image 1101 of 2000 (avg time: 0.0791387713756 secs --- remaining: 1:11)"
       ]
      },
      {
       "output_type": "stream",
       "stream": "stdout",
       "text": [
        "\r",
        "Done image 1102 of 2000 (avg time: 0.0791207297974 secs --- remaining: 1:10)"
       ]
      },
      {
       "output_type": "stream",
       "stream": "stdout",
       "text": [
        "\r",
        "Done image 1103 of 2000 (avg time: 0.0791042455729 secs --- remaining: 1:10)"
       ]
      },
      {
       "output_type": "stream",
       "stream": "stdout",
       "text": [
        "\r",
        "Done image 1104 of 2000 (avg time: 0.0790881484882 secs --- remaining: 1:10)"
       ]
      },
      {
       "output_type": "stream",
       "stream": "stdout",
       "text": [
        "\r",
        "Done image 1105 of 2000 (avg time: 0.0791067557568 secs --- remaining: 1:10)"
       ]
      },
      {
       "output_type": "stream",
       "stream": "stdout",
       "text": [
        "\r",
        "Done image 1106 of 2000 (avg time: 0.0791254704776 secs --- remaining: 1:10)"
       ]
      },
      {
       "output_type": "stream",
       "stream": "stdout",
       "text": [
        "\r",
        "Done image 1107 of 2000 (avg time: 0.0791442579311 secs --- remaining: 1:10)"
       ]
      },
      {
       "output_type": "stream",
       "stream": "stdout",
       "text": [
        "\r",
        "Done image 1108 of 2000 (avg time: 0.0791625073625 secs --- remaining: 1:10)"
       ]
      },
      {
       "output_type": "stream",
       "stream": "stdout",
       "text": [
        "\r",
        "Done image 1109 of 2000 (avg time: 0.0792134879946 secs --- remaining: 1:10)"
       ]
      },
      {
       "output_type": "stream",
       "stream": "stdout",
       "text": [
        "\r",
        "Done image 1110 of 2000 (avg time: 0.0792645875878 secs --- remaining: 1:10)"
       ]
      },
      {
       "output_type": "stream",
       "stream": "stdout",
       "text": [
        "\r",
        "Done image 1111 of 2000 (avg time: 0.0793181887205 secs --- remaining: 1:10)"
       ]
      },
      {
       "output_type": "stream",
       "stream": "stdout",
       "text": [
        "\r",
        "Done image 1112 of 2000 (avg time: 0.0793393116649 secs --- remaining: 1:10)"
       ]
      },
      {
       "output_type": "stream",
       "stream": "stdout",
       "text": [
        "\r",
        "Done image 1113 of 2000 (avg time: 0.0793819757081 secs --- remaining: 1:10)"
       ]
      },
      {
       "output_type": "stream",
       "stream": "stdout",
       "text": [
        "\r",
        "Done image 1114 of 2000 (avg time: 0.0794044798265 secs --- remaining: 1:10)"
       ]
      },
      {
       "output_type": "stream",
       "stream": "stdout",
       "text": [
        "\r",
        "Done image 1115 of 2000 (avg time: 0.0794242267968 secs --- remaining: 1:10)"
       ]
      },
      {
       "output_type": "stream",
       "stream": "stdout",
       "text": [
        "\r",
        "Done image 1116 of 2000 (avg time: 0.079448935595 secs --- remaining: 1:10)"
       ]
      },
      {
       "output_type": "stream",
       "stream": "stdout",
       "text": [
        "\r",
        "Done image 1117 of 2000 (avg time: 0.0794717237647 secs --- remaining: 1:10)"
       ]
      },
      {
       "output_type": "stream",
       "stream": "stdout",
       "text": [
        "\r",
        "Done image 1118 of 2000 (avg time: 0.0794571360059 secs --- remaining: 1:10)"
       ]
      },
      {
       "output_type": "stream",
       "stream": "stdout",
       "text": [
        "\r",
        "Done image 1119 of 2000 (avg time: 0.0794830858707 secs --- remaining: 1:9)"
       ]
      },
      {
       "output_type": "stream",
       "stream": "stdout",
       "text": [
        "\r",
        "Done image 1120 of 2000 (avg time: 0.079504067934 secs --- remaining: 1:9)"
       ]
      },
      {
       "output_type": "stream",
       "stream": "stdout",
       "text": [
        "\r",
        "Done image 1121 of 2000 (avg time: 0.0795451043549 secs --- remaining: 1:9)"
       ]
      },
      {
       "output_type": "stream",
       "stream": "stdout",
       "text": [
        "\r",
        "Done image 1122 of 2000 (avg time: 0.0796312075689 secs --- remaining: 1:9)"
       ]
      },
      {
       "output_type": "stream",
       "stream": "stdout",
       "text": [
        "\r",
        "Done image 1123 of 2000 (avg time: 0.0797051380113 secs --- remaining: 1:9)"
       ]
      },
      {
       "output_type": "stream",
       "stream": "stdout",
       "text": [
        "\r",
        "Done image 1124 of 2000 (avg time: 0.0797589653863 secs --- remaining: 1:9)"
       ]
      },
      {
       "output_type": "stream",
       "stream": "stdout",
       "text": [
        "\r",
        "Done image 1125 of 2000 (avg time: 0.0798335843992 secs --- remaining: 1:9)"
       ]
      },
      {
       "output_type": "stream",
       "stream": "stdout",
       "text": [
        "\r",
        "Done image 1126 of 2000 (avg time: 0.0799584454314 secs --- remaining: 1:9)"
       ]
      },
      {
       "output_type": "stream",
       "stream": "stdout",
       "text": [
        "\r",
        "Done image 1127 of 2000 (avg time: 0.0800506045632 secs --- remaining: 1:9)"
       ]
      },
      {
       "output_type": "stream",
       "stream": "stdout",
       "text": [
        "\r",
        "Done image 1128 of 2000 (avg time: 0.0800918166462 secs --- remaining: 1:9)"
       ]
      },
      {
       "output_type": "stream",
       "stream": "stdout",
       "text": [
        "\r",
        "Done image 1129 of 2000 (avg time: 0.0801754964136 secs --- remaining: 1:9)"
       ]
      },
      {
       "output_type": "stream",
       "stream": "stdout",
       "text": [
        "\r",
        "Done image 1130 of 2000 (avg time: 0.0802523836849 secs --- remaining: 1:9)"
       ]
      },
      {
       "output_type": "stream",
       "stream": "stdout",
       "text": [
        "\r",
        "Done image 1131 of 2000 (avg time: 0.0803077233554 secs --- remaining: 1:9)"
       ]
      },
      {
       "output_type": "stream",
       "stream": "stdout",
       "text": [
        "\r",
        "Done image 1132 of 2000 (avg time: 0.0804048983901 secs --- remaining: 1:9)"
       ]
      },
      {
       "output_type": "stream",
       "stream": "stdout",
       "text": [
        "\r",
        "Done image 1133 of 2000 (avg time: 0.0804728139225 secs --- remaining: 1:9)"
       ]
      },
      {
       "output_type": "stream",
       "stream": "stdout",
       "text": [
        "\r",
        "Done image 1134 of 2000 (avg time: 0.0804616476471 secs --- remaining: 1:9)"
       ]
      },
      {
       "output_type": "stream",
       "stream": "stdout",
       "text": [
        "\r",
        "Done image 1135 of 2000 (avg time: 0.0804531689681 secs --- remaining: 1:9)"
       ]
      },
      {
       "output_type": "stream",
       "stream": "stdout",
       "text": [
        "\r",
        "Done image 1136 of 2000 (avg time: 0.0804458855534 secs --- remaining: 1:9)"
       ]
      },
      {
       "output_type": "stream",
       "stream": "stdout",
       "text": [
        "\r",
        "Done image 1137 of 2000 (avg time: 0.0804401150068 secs --- remaining: 1:9)"
       ]
      },
      {
       "output_type": "stream",
       "stream": "stdout",
       "text": [
        "\r",
        "Done image 1138 of 2000 (avg time: 0.080455437996 secs --- remaining: 1:9)"
       ]
      },
      {
       "output_type": "stream",
       "stream": "stdout",
       "text": [
        "\r",
        "Done image 1139 of 2000 (avg time: 0.0804601077448 secs --- remaining: 1:9)"
       ]
      },
      {
       "output_type": "stream",
       "stream": "stdout",
       "text": [
        "\r",
        "Done image 1140 of 2000 (avg time: 0.0804698333523 secs --- remaining: 1:9)"
       ]
      },
      {
       "output_type": "stream",
       "stream": "stdout",
       "text": [
        "\r",
        "Done image 1141 of 2000 (avg time: 0.0804833125734 secs --- remaining: 1:9)"
       ]
      },
      {
       "output_type": "stream",
       "stream": "stdout",
       "text": [
        "\r",
        "Done image 1142 of 2000 (avg time: 0.0804747314904 secs --- remaining: 1:8)"
       ]
      },
      {
       "output_type": "stream",
       "stream": "stdout",
       "text": [
        "\r",
        "Done image 1143 of 2000 (avg time: 0.0804585910344 secs --- remaining: 1:8)"
       ]
      },
      {
       "output_type": "stream",
       "stream": "stdout",
       "text": [
        "\r",
        "Done image 1144 of 2000 (avg time: 0.0804425564395 secs --- remaining: 1:8)"
       ]
      },
      {
       "output_type": "stream",
       "stream": "stdout",
       "text": [
        "\r",
        "Done image 1145 of 2000 (avg time: 0.0803930062482 secs --- remaining: 1:8)"
       ]
      },
      {
       "output_type": "stream",
       "stream": "stdout",
       "text": [
        "\r",
        "Done image 1146 of 2000 (avg time: 0.0803438667224 secs --- remaining: 1:8)"
       ]
      },
      {
       "output_type": "stream",
       "stream": "stdout",
       "text": [
        "\r",
        "Done image 1147 of 2000 (avg time: 0.0803318563654 secs --- remaining: 1:8)"
       ]
      },
      {
       "output_type": "stream",
       "stream": "stdout",
       "text": [
        "\r",
        "Done image 1148 of 2000 (avg time: 0.0803181732915 secs --- remaining: 1:8)"
       ]
      },
      {
       "output_type": "stream",
       "stream": "stdout",
       "text": [
        "\r",
        "Done image 1149 of 2000 (avg time: 0.0803034313865 secs --- remaining: 1:8)"
       ]
      },
      {
       "output_type": "stream",
       "stream": "stdout",
       "text": [
        "\r",
        "Done image 1150 of 2000 (avg time: 0.0802868835622 secs --- remaining: 1:8)"
       ]
      },
      {
       "output_type": "stream",
       "stream": "stdout",
       "text": [
        "\r",
        "Done image 1151 of 2000 (avg time: 0.0802691369835 secs --- remaining: 1:8)"
       ]
      },
      {
       "output_type": "stream",
       "stream": "stdout",
       "text": [
        "\r",
        "Done image 1152 of 2000 (avg time: 0.0802548088825 secs --- remaining: 1:7)"
       ]
      },
      {
       "output_type": "stream",
       "stream": "stdout",
       "text": [
        "\r",
        "Done image 1153 of 2000 (avg time: 0.0802406227568 secs --- remaining: 1:7)"
       ]
      },
      {
       "output_type": "stream",
       "stream": "stdout",
       "text": [
        "\r",
        "Done image 1154 of 2000 (avg time: 0.0802317503727 secs --- remaining: 1:7)"
       ]
      },
      {
       "output_type": "stream",
       "stream": "stdout",
       "text": [
        "\r",
        "Done image 1155 of 2000 (avg time: 0.0802258552152 secs --- remaining: 1:7)"
       ]
      },
      {
       "output_type": "stream",
       "stream": "stdout",
       "text": [
        "\r",
        "Done image 1156 of 2000 (avg time: 0.0802217811578 secs --- remaining: 1:7)"
       ]
      },
      {
       "output_type": "stream",
       "stream": "stdout",
       "text": [
        "\r",
        "Done image 1157 of 2000 (avg time: 0.0802429031214 secs --- remaining: 1:7)"
       ]
      },
      {
       "output_type": "stream",
       "stream": "stdout",
       "text": [
        "\r",
        "Done image 1158 of 2000 (avg time: 0.0802667764264 secs --- remaining: 1:7)"
       ]
      },
      {
       "output_type": "stream",
       "stream": "stdout",
       "text": [
        "\r",
        "Done image 1159 of 2000 (avg time: 0.0802853983024 secs --- remaining: 1:7)"
       ]
      },
      {
       "output_type": "stream",
       "stream": "stdout",
       "text": [
        "\r",
        "Done image 1160 of 2000 (avg time: 0.0803055590745 secs --- remaining: 1:7)"
       ]
      },
      {
       "output_type": "stream",
       "stream": "stdout",
       "text": [
        "\r",
        "Done image 1161 of 2000 (avg time: 0.0803251428571 secs --- remaining: 1:7)"
       ]
      },
      {
       "output_type": "stream",
       "stream": "stdout",
       "text": [
        "\r",
        "Done image 1162 of 2000 (avg time: 0.0803418864695 secs --- remaining: 1:7)"
       ]
      },
      {
       "output_type": "stream",
       "stream": "stdout",
       "text": [
        "\r",
        "Done image 1163 of 2000 (avg time: 0.0803564819683 secs --- remaining: 1:7)"
       ]
      },
      {
       "output_type": "stream",
       "stream": "stdout",
       "text": [
        "\r",
        "Done image 1164 of 2000 (avg time: 0.0803795732654 secs --- remaining: 1:7)"
       ]
      },
      {
       "output_type": "stream",
       "stream": "stdout",
       "text": [
        "\r",
        "Done image 1165 of 2000 (avg time: 0.0804091978237 secs --- remaining: 1:7)"
       ]
      },
      {
       "output_type": "stream",
       "stream": "stdout",
       "text": [
        "\r",
        "Done image 1166 of 2000 (avg time: 0.0804258489977 secs --- remaining: 1:6)"
       ]
      },
      {
       "output_type": "stream",
       "stream": "stdout",
       "text": [
        "\r",
        "Done image 1167 of 2000 (avg time: 0.0804094604842 secs --- remaining: 1:6)"
       ]
      },
      {
       "output_type": "stream",
       "stream": "stdout",
       "text": [
        "\r",
        "Done image 1168 of 2000 (avg time: 0.0803942539633 secs --- remaining: 1:6)"
       ]
      },
      {
       "output_type": "stream",
       "stream": "stdout",
       "text": [
        "\r",
        "Done image 1169 of 2000 (avg time: 0.0804122024112 secs --- remaining: 1:6)"
       ]
      },
      {
       "output_type": "stream",
       "stream": "stdout",
       "text": [
        "\r",
        "Done image 1170 of 2000 (avg time: 0.0804319100742 secs --- remaining: 1:6)"
       ]
      },
      {
       "output_type": "stream",
       "stream": "stdout",
       "text": [
        "\r",
        "Done image 1171 of 2000 (avg time: 0.080460033726 secs --- remaining: 1:6)"
       ]
      },
      {
       "output_type": "stream",
       "stream": "stdout",
       "text": [
        "\r",
        "Done image 1172 of 2000 (avg time: 0.0804779432009 secs --- remaining: 1:6)"
       ]
      },
      {
       "output_type": "stream",
       "stream": "stdout",
       "text": [
        "\r",
        "Done image 1173 of 2000 (avg time: 0.0805027261503 secs --- remaining: 1:6)"
       ]
      },
      {
       "output_type": "stream",
       "stream": "stdout",
       "text": [
        "\r",
        "Done image 1174 of 2000 (avg time: 0.0805303220546 secs --- remaining: 1:6)"
       ]
      },
      {
       "output_type": "stream",
       "stream": "stdout",
       "text": [
        "\r",
        "Done image 1175 of 2000 (avg time: 0.0805463999713 secs --- remaining: 1:6)"
       ]
      },
      {
       "output_type": "stream",
       "stream": "stdout",
       "text": [
        "\r",
        "Done image 1176 of 2000 (avg time: 0.0805622220748 secs --- remaining: 1:6)"
       ]
      },
      {
       "output_type": "stream",
       "stream": "stdout",
       "text": [
        "\r",
        "Done image 1177 of 2000 (avg time: 0.0805850265791 secs --- remaining: 1:6)"
       ]
      },
      {
       "output_type": "stream",
       "stream": "stdout",
       "text": [
        "\r",
        "Done image 1178 of 2000 (avg time: 0.0806029451611 secs --- remaining: 1:6)"
       ]
      },
      {
       "output_type": "stream",
       "stream": "stdout",
       "text": [
        "\r",
        "Done image 1179 of 2000 (avg time: 0.0806189452187 secs --- remaining: 1:6)"
       ]
      },
      {
       "output_type": "stream",
       "stream": "stdout",
       "text": [
        "\r",
        "Done image 1180 of 2000 (avg time: 0.0806473948812 secs --- remaining: 1:6)"
       ]
      },
      {
       "output_type": "stream",
       "stream": "stdout",
       "text": [
        "\r",
        "Done image 1181 of 2000 (avg time: 0.0806691170546 secs --- remaining: 1:5)"
       ]
      },
      {
       "output_type": "stream",
       "stream": "stdout",
       "text": [
        "\r",
        "Done image 1182 of 2000 (avg time: 0.0806863477244 secs --- remaining: 1:5)"
       ]
      },
      {
       "output_type": "stream",
       "stream": "stdout",
       "text": [
        "\r",
        "Done image 1183 of 2000 (avg time: 0.0807126673895 secs --- remaining: 1:5)"
       ]
      },
      {
       "output_type": "stream",
       "stream": "stdout",
       "text": [
        "\r",
        "Done image 1184 of 2000 (avg time: 0.0807438001351 secs --- remaining: 1:5)"
       ]
      },
      {
       "output_type": "stream",
       "stream": "stdout",
       "text": [
        "\r",
        "Done image 1185 of 2000 (avg time: 0.0807666551403 secs --- remaining: 1:5)"
       ]
      },
      {
       "output_type": "stream",
       "stream": "stdout",
       "text": [
        "\r",
        "Done image 1186 of 2000 (avg time: 0.0807979098869 secs --- remaining: 1:5)"
       ]
      },
      {
       "output_type": "stream",
       "stream": "stdout",
       "text": [
        "\r",
        "Done image 1187 of 2000 (avg time: 0.0807845664747 secs --- remaining: 1:5)"
       ]
      },
      {
       "output_type": "stream",
       "stream": "stdout",
       "text": [
        "\r",
        "Done image 1188 of 2000 (avg time: 0.080770495361 secs --- remaining: 1:5)"
       ]
      },
      {
       "output_type": "stream",
       "stream": "stdout",
       "text": [
        "\r",
        "Done image 1189 of 2000 (avg time: 0.0807565202232 secs --- remaining: 1:5)"
       ]
      },
      {
       "output_type": "stream",
       "stream": "stdout",
       "text": [
        "\r",
        "Done image 1190 of 2000 (avg time: 0.0807507422469 secs --- remaining: 1:5)"
       ]
      },
      {
       "output_type": "stream",
       "stream": "stdout",
       "text": [
        "\r",
        "Done image 1191 of 2000 (avg time: 0.0807055108899 secs --- remaining: 1:5)"
       ]
      },
      {
       "output_type": "stream",
       "stream": "stdout",
       "text": [
        "\r",
        "Done image 1192 of 2000 (avg time: 0.0806646361035 secs --- remaining: 1:5)"
       ]
      },
      {
       "output_type": "stream",
       "stream": "stdout",
       "text": [
        "\r",
        "Done image 1193 of 2000 (avg time: 0.0806177754698 secs --- remaining: 1:4)"
       ]
      },
      {
       "output_type": "stream",
       "stream": "stdout",
       "text": [
        "\r",
        "Done image 1194 of 2000 (avg time: 0.0806046701375 secs --- remaining: 1:4)"
       ]
      },
      {
       "output_type": "stream",
       "stream": "stdout",
       "text": [
        "\r",
        "Done image 1195 of 2000 (avg time: 0.080589934735 secs --- remaining: 1:4)"
       ]
      },
      {
       "output_type": "stream",
       "stream": "stdout",
       "text": [
        "\r",
        "Done image 1196 of 2000 (avg time: 0.0805790735068 secs --- remaining: 1:4)"
       ]
      },
      {
       "output_type": "stream",
       "stream": "stdout",
       "text": [
        "\r",
        "Done image 1197 of 2000 (avg time: 0.0805667903467 secs --- remaining: 1:4)"
       ]
      },
      {
       "output_type": "stream",
       "stream": "stdout",
       "text": [
        "\r",
        "Done image 1198 of 2000 (avg time: 0.0805526070042 secs --- remaining: 1:4)"
       ]
      },
      {
       "output_type": "stream",
       "stream": "stdout",
       "text": [
        "\r",
        "Done image 1199 of 2000 (avg time: 0.0805501806736 secs --- remaining: 1:4)"
       ]
      },
      {
       "output_type": "stream",
       "stream": "stdout",
       "text": [
        "\r",
        "Done image 1200 of 2000 (avg time: 0.080507576813 secs --- remaining: 1:4)"
       ]
      },
      {
       "output_type": "stream",
       "stream": "stdout",
       "text": [
        "\r",
        "Done image 1201 of 2000 (avg time: 0.0804634647639 secs --- remaining: 1:4)"
       ]
      },
      {
       "output_type": "stream",
       "stream": "stdout",
       "text": [
        "\r",
        "Done image 1202 of 2000 (avg time: 0.0804174102948 secs --- remaining: 1:4)"
       ]
      },
      {
       "output_type": "stream",
       "stream": "stdout",
       "text": [
        "\r",
        "Done image 1203 of 2000 (avg time: 0.0803687877433 secs --- remaining: 1:3)"
       ]
      },
      {
       "output_type": "stream",
       "stream": "stdout",
       "text": [
        "\r",
        "Done image 1204 of 2000 (avg time: 0.0803227937073 secs --- remaining: 1:3)"
       ]
      },
      {
       "output_type": "stream",
       "stream": "stdout",
       "text": [
        "\r",
        "Done image 1205 of 2000 (avg time: 0.0802776528828 secs --- remaining: 1:3)"
       ]
      },
      {
       "output_type": "stream",
       "stream": "stdout",
       "text": [
        "\r",
        "Done image 1206 of 2000 (avg time: 0.0802309422228 secs --- remaining: 1:3)"
       ]
      },
      {
       "output_type": "stream",
       "stream": "stdout",
       "text": [
        "\r",
        "Done image 1207 of 2000 (avg time: 0.0801829843726 secs --- remaining: 1:3)"
       ]
      },
      {
       "output_type": "stream",
       "stream": "stdout",
       "text": [
        "\r",
        "Done image 1208 of 2000 (avg time: 0.0801380140117 secs --- remaining: 1:3)"
       ]
      },
      {
       "output_type": "stream",
       "stream": "stdout",
       "text": [
        "\r",
        "Done image 1209 of 2000 (avg time: 0.0800941900773 secs --- remaining: 1:3)"
       ]
      },
      {
       "output_type": "stream",
       "stream": "stdout",
       "text": [
        "\r",
        "Done image 1210 of 2000 (avg time: 0.0800471213315 secs --- remaining: 1:3)"
       ]
      },
      {
       "output_type": "stream",
       "stream": "stdout",
       "text": [
        "\r",
        "Done image 1211 of 2000 (avg time: 0.0800019536081 secs --- remaining: 1:3)"
       ]
      },
      {
       "output_type": "stream",
       "stream": "stdout",
       "text": [
        "\r",
        "Done image 1212 of 2000 (avg time: 0.0799585685982 secs --- remaining: 1:2)"
       ]
      },
      {
       "output_type": "stream",
       "stream": "stdout",
       "text": [
        "\r",
        "Done image 1213 of 2000 (avg time: 0.079916646296 secs --- remaining: 1:2)"
       ]
      },
      {
       "output_type": "stream",
       "stream": "stdout",
       "text": [
        "\r",
        "Done image 1214 of 2000 (avg time: 0.0798751601466 secs --- remaining: 1:2)"
       ]
      },
      {
       "output_type": "stream",
       "stream": "stdout",
       "text": [
        "\r",
        "Done image 1215 of 2000 (avg time: 0.079829873027 secs --- remaining: 1:2)"
       ]
      },
      {
       "output_type": "stream",
       "stream": "stdout",
       "text": [
        "\r",
        "Done image 1216 of 2000 (avg time: 0.0797861533373 secs --- remaining: 1:2)"
       ]
      },
      {
       "output_type": "stream",
       "stream": "stdout",
       "text": [
        "\r",
        "Done image 1217 of 2000 (avg time: 0.0797388305022 secs --- remaining: 1:2)"
       ]
      },
      {
       "output_type": "stream",
       "stream": "stdout",
       "text": [
        "\r",
        "Done image 1218 of 2000 (avg time: 0.0796911456333 secs --- remaining: 1:2)"
       ]
      },
      {
       "output_type": "stream",
       "stream": "stdout",
       "text": [
        "\r",
        "Done image 1219 of 2000 (avg time: 0.0796314866816 secs --- remaining: 1:2)"
       ]
      },
      {
       "output_type": "stream",
       "stream": "stdout",
       "text": [
        "\r",
        "Done image 1220 of 2000 (avg time: 0.0795721472725 secs --- remaining: 1:1)"
       ]
      },
      {
       "output_type": "stream",
       "stream": "stdout",
       "text": [
        "\r",
        "Done image 1221 of 2000 (avg time: 0.0795138926046 secs --- remaining: 1:1)"
       ]
      },
      {
       "output_type": "stream",
       "stream": "stdout",
       "text": [
        "\r",
        "Done image 1222 of 2000 (avg time: 0.0794551705885 secs --- remaining: 1:1)"
       ]
      },
      {
       "output_type": "stream",
       "stream": "stdout",
       "text": [
        "\r",
        "Done image 1223 of 2000 (avg time: 0.0793974171667 secs --- remaining: 1:1)"
       ]
      },
      {
       "output_type": "stream",
       "stream": "stdout",
       "text": [
        "\r",
        "Done image 1224 of 2000 (avg time: 0.0793403033821 secs --- remaining: 1:1)"
       ]
      },
      {
       "output_type": "stream",
       "stream": "stdout",
       "text": [
        "\r",
        "Done image 1225 of 2000 (avg time: 0.0792816293959 secs --- remaining: 1:1)"
       ]
      },
      {
       "output_type": "stream",
       "stream": "stdout",
       "text": [
        "\r",
        "Done image 1226 of 2000 (avg time: 0.0792229606936 secs --- remaining: 1:1)"
       ]
      },
      {
       "output_type": "stream",
       "stream": "stdout",
       "text": [
        "\r",
        "Done image 1227 of 2000 (avg time: 0.0791645935382 secs --- remaining: 1:1)"
       ]
      },
      {
       "output_type": "stream",
       "stream": "stdout",
       "text": [
        "\r",
        "Done image 1228 of 2000 (avg time: 0.0791079951458 secs --- remaining: 1:0)"
       ]
      },
      {
       "output_type": "stream",
       "stream": "stdout",
       "text": [
        "\r",
        "Done image 1229 of 2000 (avg time: 0.0790537146049 secs --- remaining: 1:0)"
       ]
      },
      {
       "output_type": "stream",
       "stream": "stdout",
       "text": [
        "\r",
        "Done image 1230 of 2000 (avg time: 0.0789954393109 secs --- remaining: 1:0)"
       ]
      },
      {
       "output_type": "stream",
       "stream": "stdout",
       "text": [
        "\r",
        "Done image 1231 of 2000 (avg time: 0.0789371206389 secs --- remaining: 1:0)"
       ]
      },
      {
       "output_type": "stream",
       "stream": "stdout",
       "text": [
        "\r",
        "Done image 1232 of 2000 (avg time: 0.0788801157271 secs --- remaining: 1:0)"
       ]
      },
      {
       "output_type": "stream",
       "stream": "stdout",
       "text": [
        "\r",
        "Done image 1233 of 2000 (avg time: 0.0788235888489 secs --- remaining: 1:0)"
       ]
      },
      {
       "output_type": "stream",
       "stream": "stdout",
       "text": [
        "\r",
        "Done image 1234 of 2000 (avg time: 0.0787659139286 secs --- remaining: 1:0)"
       ]
      },
      {
       "output_type": "stream",
       "stream": "stdout",
       "text": [
        "\r",
        "Done image 1235 of 2000 (avg time: 0.0787081753166 secs --- remaining: 1:0)"
       ]
      },
      {
       "output_type": "stream",
       "stream": "stdout",
       "text": [
        "\r",
        "Done image 1236 of 2000 (avg time: 0.0786505373814 secs --- remaining: 1:0)"
       ]
      },
      {
       "output_type": "stream",
       "stream": "stdout",
       "text": [
        "\r",
        "Done image 1237 of 2000 (avg time: 0.0785926676721 secs --- remaining: 0:59)"
       ]
      },
      {
       "output_type": "stream",
       "stream": "stdout",
       "text": [
        "\r",
        "Done image 1238 of 2000 (avg time: 0.078535442106 secs --- remaining: 0:59)"
       ]
      },
      {
       "output_type": "stream",
       "stream": "stdout",
       "text": [
        "\r",
        "Done image 1239 of 2000 (avg time: 0.078478113682 secs --- remaining: 0:59)"
       ]
      },
      {
       "output_type": "stream",
       "stream": "stdout",
       "text": [
        "\r",
        "Done image 1240 of 2000 (avg time: 0.0784210192398 secs --- remaining: 0:59)"
       ]
      },
      {
       "output_type": "stream",
       "stream": "stdout",
       "text": [
        "\r",
        "Done image 1241 of 2000 (avg time: 0.0783649523669 secs --- remaining: 0:59)"
       ]
      },
      {
       "output_type": "stream",
       "stream": "stdout",
       "text": [
        "\r",
        "Done image 1242 of 2000 (avg time: 0.0783094302935 secs --- remaining: 0:59)"
       ]
      },
      {
       "output_type": "stream",
       "stream": "stdout",
       "text": [
        "\r",
        "Done image 1243 of 2000 (avg time: 0.0782524508295 secs --- remaining: 0:59)"
       ]
      },
      {
       "output_type": "stream",
       "stream": "stdout",
       "text": [
        "\r",
        "Done image 1244 of 2000 (avg time: 0.0781956006245 secs --- remaining: 0:59)"
       ]
      },
      {
       "output_type": "stream",
       "stream": "stdout",
       "text": [
        "\r",
        "Done image 1245 of 2000 (avg time: 0.0781386153082 secs --- remaining: 0:58)"
       ]
      },
      {
       "output_type": "stream",
       "stream": "stdout",
       "text": [
        "\r",
        "Done image 1246 of 2000 (avg time: 0.0780830262849 secs --- remaining: 0:58)"
       ]
      },
      {
       "output_type": "stream",
       "stream": "stdout",
       "text": [
        "\r",
        "Done image 1247 of 2000 (avg time: 0.0780267065916 secs --- remaining: 0:58)"
       ]
      },
      {
       "output_type": "stream",
       "stream": "stdout",
       "text": [
        "\r",
        "Done image 1248 of 2000 (avg time: 0.0779721960246 secs --- remaining: 0:58)"
       ]
      },
      {
       "output_type": "stream",
       "stream": "stdout",
       "text": [
        "\r",
        "Done image 1249 of 2000 (avg time: 0.0779159599304 secs --- remaining: 0:58)"
       ]
      },
      {
       "output_type": "stream",
       "stream": "stdout",
       "text": [
        "\r",
        "Done image 1250 of 2000 (avg time: 0.077859725693 secs --- remaining: 0:58)"
       ]
      },
      {
       "output_type": "stream",
       "stream": "stdout",
       "text": [
        "\r",
        "Done image 1251 of 2000 (avg time: 0.0778035230149 secs --- remaining: 0:58)"
       ]
      },
      {
       "output_type": "stream",
       "stream": "stdout",
       "text": [
        "\r",
        "Done image 1252 of 2000 (avg time: 0.0777489551048 secs --- remaining: 0:58)"
       ]
      },
      {
       "output_type": "stream",
       "stream": "stdout",
       "text": [
        "\r",
        "Done image 1253 of 2000 (avg time: 0.0776937142894 secs --- remaining: 0:57)"
       ]
      },
      {
       "output_type": "stream",
       "stream": "stdout",
       "text": [
        "\n",
        "done\n"
       ]
      }
     ],
     "prompt_number": 11
    }
   ],
   "metadata": {}
  }
 ]
}