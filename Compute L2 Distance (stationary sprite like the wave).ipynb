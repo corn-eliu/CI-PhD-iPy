{
 "metadata": {
  "name": "",
  "signature": "sha256:eb463c8764df374dab6522c915e87b7d9db76785763fad50d565cdecff06e8da"
 },
 "nbformat": 3,
 "nbformat_minor": 0,
 "worksheets": [
  {
   "cells": [
    {
     "cell_type": "code",
     "collapsed": false,
     "input": [
      "## Imports and defines\n",
      "%pylab \n",
      "import numpy as np\n",
      "import scipy as sp\n",
      "import cv2\n",
      "import glob\n",
      "import time\n",
      "import sys\n",
      "import os\n",
      "import shutil, errno\n",
      "import psutil\n",
      "\n",
      "from PIL import Image\n",
      "import GraphWithValues as gwv"
     ],
     "language": "python",
     "metadata": {},
     "outputs": [
      {
       "output_type": "stream",
       "stream": "stdout",
       "text": [
        "Using matplotlib backend: TkAgg\n",
        "Populating the interactive namespace from numpy and matplotlib\n",
        "\n"
       ]
      }
     ],
     "prompt_number": 2
    },
    {
     "cell_type": "code",
     "collapsed": false,
     "input": [
      "def copyanything(src, dst):\n",
      "    try:\n",
      "        shutil.copytree(src, dst)\n",
      "    except OSError as exc: # python >2.5\n",
      "        if exc.errno == errno.ENOTDIR:\n",
      "            shutil.copy(src, dst)\n",
      "        else: raise\n",
      "            \n",
      "## compute euclidean distance assuming f is an array where each row is a flattened image (1xN array, N=W*H*Channels)\n",
      "## euclidean distance defined as the length of the the displacement vector:\n",
      "## len(q-p) = sqrt(len(q)^2+len(p)^2 - 2*dot(p, q)) where p and q are two images in vector format and 1xN size\n",
      "def ssd(f) :\n",
      "    ## gives sum over squared intensity values for each image\n",
      "    ff = np.sum(f*f, axis=1)\n",
      "    ## first term is sum between each possible combination of frames\n",
      "    ## second term is the the dot product between each frame as in the formula above\n",
      "    d = np.reshape(ff, [len(ff),1])+ff.T - 2*np.dot(f, f.T)\n",
      "    return d\n",
      "\n",
      "def ssd2(f1, f2) :\n",
      "    ## gives sum over squared intensity values for each image\n",
      "    ff1 = np.sum(f1*f1, axis=1)\n",
      "    ff2 = np.sum(f2*f2, axis=1)\n",
      "#     print ff1.shape\n",
      "#     print ff2.shape\n",
      "    ## first term is sum between each possible combination of frames\n",
      "    ## second term is the the dot product between each frame as in the formula above\n",
      "#     print \"askdfh\", np.repeat(np.reshape(ff1, [len(ff1),1]), len(ff2), axis=1).shape, np.repeat(np.reshape(ff2, [1, len(ff2)]), len(ff1), axis=0).shape\n",
      "    d = np.repeat(np.reshape(ff1, [len(ff1),1]), len(ff2), axis=1)+np.repeat(np.reshape(ff2, [1, len(ff2)]), len(ff1), axis=0) - 2*np.dot(f1, f2.T)\n",
      "    return d"
     ],
     "language": "python",
     "metadata": {},
     "outputs": [],
     "prompt_number": 3
    },
    {
     "cell_type": "code",
     "collapsed": false,
     "input": [
      "## load the tracked sprites\n",
      "DICT_SEQUENCE_NAME = 'semantic_sequence_name'\n",
      "DICT_BBOXES = 'bboxes'\n",
      "DICT_FOOTPRINTS = 'footprints' ## same as bboxes but it indicates the footprint of the sprite on the ground plane\n",
      "DICT_BBOX_ROTATIONS = 'bbox_rotations'\n",
      "DICT_BBOX_CENTERS = 'bbox_centers'\n",
      "DICT_FRAMES_LOCATIONS = 'frame_locs'\n",
      "DICT_MASK_LOCATION = 'frame_masks_location'\n",
      "DICT_SEQUENCE_FRAMES = 'sequence_frames'\n",
      "DICT_SEQUENCE_IDX = 'semantic_sequence_idx' # index of the instantiated sem sequence in the list of all used sem sequences for a synthesised sequence\n",
      "DICT_DESIRED_SEMANTICS = 'desired_semantics' # stores what the desired semantics are for a certain sprite \n",
      "#(I could index them by the frame when the toggle happened instead of using the below but maybe ordering is important and I would lose that using a dict)\n",
      "DICT_FRAME_SEMANTIC_TOGGLE = 'frame_semantic_toggle'# stores the frame index in the generated sequence when the desired semantics have changed\n",
      "DICT_ICON_TOP_LEFT = \"icon_top_left\"\n",
      "DICT_ICON_FRAME_KEY = \"icon_frame_key\"\n",
      "DICT_ICON_SIZE = \"icon_size\"\n",
      "DICT_REPRESENTATIVE_COLOR = 'representative_color'\n",
      "DICT_OFFSET = \"instance_offset\"\n",
      "DICT_SCALE = \"instance_scale\"\n",
      "DICT_FRAME_SEMANTICS = \"semantics_per_frame\"\n",
      "DICT_USED_SEQUENCES = \"used_semantic_sequences\"\n",
      "DICT_SEQUENCE_INSTANCES = \"sequence_instances\"\n",
      "DICT_SEQUENCE_BG = \"sequence_background_image\"\n",
      "DICT_SEQUENCE_LOCATION = \"sequence_location\"\n",
      "DICT_PATCHES_LOCATION = \"sequence_preloaded_patches_location\"\n",
      "DICT_TRANSITION_COSTS_LOCATION = \"sequence_precomputed_transition_costs_location\"\n",
      "DICT_FRAME_COMPATIBILITY_LABELS = 'compatibiliy_labels_per_frame'\n",
      "DICT_LABELLED_FRAMES = 'labelled_frames' ## includes the frames labelled for the semantic labels (the first [DICT_FRAME_SEMANTICS].shape[1])\n",
      "DICT_NUM_EXTRA_FRAMES = 'num_extra_frames' ## same len as DICT_LABELLED_FRAMES\n",
      "DICT_CONFLICTING_SEQUENCES = 'conflicting_sequences'\n",
      "DICT_DISTANCE_MATRIX_LOCATION = 'sequence_precomputed_distance_matrix_location' ## for label propagation\n",
      "\n",
      "# dataPath = \"/home/ilisescu/PhD/data/\"\n",
      "# dataSet = \"havana/\"\n",
      "dataPath = \"/media/ilisescu/Data1/PhD/data/\"\n",
      "# dataSet = \"clouds_subsample10/\"\n",
      "# dataSet = \"theme_park_cloudy/\"\n",
      "# dataSet = \"theme_park_sunny/\"\n",
      "# dataSet = \"wave1/\"\n",
      "# dataSet = \"wave2/\"\n",
      "# dataSet = \"wave3/\"\n",
      "# dataSet = \"windows/\"\n",
      "dataSet = \"digger/\"\n",
      "formatString = \"{:05d}.png\"\n",
      "\n",
      "TL_IDX = 0\n",
      "TR_IDX = 1\n",
      "BR_IDX = 2\n",
      "BL_IDX = 3\n",
      "\n",
      "## load dataSet relevant data\n",
      "frameLocs = np.sort(glob.glob(dataPath + dataSet + \"/frame-*.png\"))\n",
      "numOfFrames = len(frameLocs)\n",
      "numOfTrackedSprites = 0\n",
      "bgImage = np.array(Image.open(dataPath + dataSet + \"median.png\"))\n",
      "\n",
      "allXs = arange(bgImage.shape[1], dtype=float32).reshape((1, bgImage.shape[1])).repeat(bgImage.shape[0], axis=0)\n",
      "allYs = arange(bgImage.shape[0], dtype=float32).reshape((bgImage.shape[0], 1)).repeat(bgImage.shape[1], axis=1)\n",
      "\n",
      "trackedSprites = []\n",
      "for sprite in np.sort(glob.glob(dataPath + dataSet + \"sprite*.npy\")) :\n",
      "    trackedSprites.append(np.load(sprite).item())\n",
      "    print trackedSprites[-1][DICT_SEQUENCE_NAME]\n",
      "\n",
      "## merge tracked sprite with bg\n",
      "spriteIdx = 0\n",
      "sequenceLength = len(trackedSprites[spriteIdx][DICT_BBOXES])"
     ],
     "language": "python",
     "metadata": {},
     "outputs": [
      {
       "output_type": "stream",
       "stream": "stdout",
       "text": [
        "truck_right1\n",
        "truck_left1\n",
        "digger_right1\n",
        "truck_right2\n",
        "truck_right3\n"
       ]
      }
     ],
     "prompt_number": 4
    },
    {
     "cell_type": "code",
     "collapsed": false,
     "input": [
      "# semanticSequence = np.load(\"/media/ilisescu/Data1/PhD/data/digger/semantic_sequence-digger_right1.npy\").item()\n",
      "# semanticSequence = np.load(\"/media/ilisescu/Data1/PhD/data/havana/semantic_sequence-black_car1.npy\").item()\n",
      "semanticSequence = np.load(\"/media/ilisescu/Data1/PhD/data/toy/semantic_sequence-toy1.npy\").item()\n",
      "# semanticSequence = np.load(\"/media/ilisescu/Data1/PhD/data/candle_wind/semantic_sequence-candle_wind1.npy\").item()\n",
      "print semanticSequence.keys()\n",
      "print \"/\".join(semanticSequence[DICT_SEQUENCE_LOCATION].split(\"/\")[:-1]) + \"/\"\n",
      "# print semanticSequence[DICT_MASK_LOCATION]"
     ],
     "language": "python",
     "metadata": {},
     "outputs": [
      {
       "output_type": "stream",
       "stream": "stdout",
       "text": [
        "['icon_frame_key', 'num_extra_frames', 'sequence_precomputed_distance_matrix_location', 'icon_top_left', 'semantic_sequence_name', 'semantics_per_frame', 'labelled_frames', 'icon_size', 'frame_locs', 'representative_color', 'sequence_location', 'sequence_precomputed_transition_costs_location']\n",
        "/media/ilisescu/Data1/PhD/data/toy/\n"
       ]
      }
     ],
     "prompt_number": 5
    },
    {
     "cell_type": "code",
     "collapsed": false,
     "input": [
      "# semanticSequence[DICT_LABELLED_FRAMES] = [[17, 344],                                  ## None\n",
      "#                                           [84, 574],                                  ## C\n",
      "#                                           [116, 543],                                 ## D\n",
      "#                                           [148, 516],                                 ## E\n",
      "#                                           [180, 487],                                 ## F\n",
      "#                                           [212, 457],                                 ## G\n",
      "#                                           [243, 431],                                 ## A\n",
      "#                                           [273, 399],                                 ## B\n",
      "#                                           [308, 369]]                                 ## C\n",
      "# semanticSequence[DICT_NUM_EXTRA_FRAMES] = [[4, 4],                                     ## None\n",
      "#                                            [4, 4],                                     ## C\n",
      "#                                            [4, 4],                                     ## D\n",
      "#                                            [4, 4],                                     ## E\n",
      "#                                            [4, 4],                                     ## F\n",
      "#                                            [4, 4],                                     ## G\n",
      "#                                            [4, 4],                                     ## A\n",
      "#                                            [4, 4],                                     ## B\n",
      "#                                            [4, 4]]                                     ## C\n",
      "\n",
      "# semanticSequence[DICT_DISTANCE_MATRIX_LOCATION] = \"/media/ilisescu/Data1/PhD/data/toy/overlap_normalization_distMat-toy1.npy\"\n",
      "# np.save(semanticSequence[DICT_SEQUENCE_LOCATION], semanticSequence)"
     ],
     "language": "python",
     "metadata": {},
     "outputs": [],
     "prompt_number": 5
    },
    {
     "cell_type": "code",
     "collapsed": false,
     "input": [
      "# gwv.showCustomGraph(np.load(semanticSequence[DICT_DISTANCE_MATRIX_LOCATION]))\n",
      "gwv.showCustomGraph(np.load(\"/media/ilisescu/Data1/PhD/data/toy/toy1-vanilla_distMat.npy\"))"
     ],
     "language": "python",
     "metadata": {},
     "outputs": [],
     "prompt_number": 9
    },
    {
     "cell_type": "code",
     "collapsed": false,
     "input": [
      "print semanticSequence.keys()\n",
      "print semanticSequence[DICT_SEQUENCE_LOCATION]\n",
      "# print semanticSequence[DICT_BBOXES]\n",
      "# np.save(semanticSequence[DICT_SEQUENCE_LOCATION], semanticSequence)"
     ],
     "language": "python",
     "metadata": {},
     "outputs": [
      {
       "output_type": "stream",
       "stream": "stdout",
       "text": [
        "['bbox_centers', 'icon_frame_key', 'frame_masks_location', 'footprints', 'icon_top_left', 'bbox_rotations', 'semantic_sequence_name', 'semantics_per_frame', 'sequence_preloaded_patches_location', 'bboxes', 'icon_size', 'frame_locs', 'representative_color', 'sequence_location', 'sequence_precomputed_transition_costs_location']\n",
        "/media/ilisescu/Data1/PhD/data/candle_wind/semantic_sequence-candle_wind1.npy\n"
       ]
      }
     ],
     "prompt_number": 23
    },
    {
     "cell_type": "code",
     "collapsed": false,
     "input": [
      "# del semanticSequence[DICT_BBOXES], semanticSequence[DICT_BBOX_CENTERS], semanticSequence[DICT_BBOX_ROTATIONS], semanticSequence[DICT_FOOTPRINTS]"
     ],
     "language": "python",
     "metadata": {},
     "outputs": [],
     "prompt_number": 38
    },
    {
     "cell_type": "code",
     "collapsed": false,
     "input": [
      "# tmpFolder = \"/home/ilisescu/\"\n",
      "\n",
      "print \"starting\", semanticSequence[DICT_SEQUENCE_NAME]; sys.stdout.flush()\n",
      "t = time.time()\n",
      "numFrames = len(semanticSequence[DICT_FRAMES_LOCATIONS].keys())\n",
      "if numFrames > 0 :\n",
      "    progress = 0.0\n",
      "    sequenceLocation = \"/\".join(semanticSequence[DICT_SEQUENCE_LOCATION].split(\"/\")[:-1]) + \"/\"\n",
      "    ## get keys of tracked frames and size of frame\n",
      "    sortedKeys = np.sort(semanticSequence[DICT_FRAMES_LOCATIONS].keys())\n",
      "    frameSize = np.array(Image.open(semanticSequence[DICT_FRAMES_LOCATIONS][sortedKeys[0]])).shape[:2]\n",
      "    budget = 0.25\n",
      "    \n",
      "    ## find sub-patch if frames have been segmented\n",
      "    if DICT_MASK_LOCATION in semanticSequence.keys() :\n",
      "        topLeft = np.array([frameSize[0], frameSize[1]])\n",
      "        bottomRight = np.array([0, 0])\n",
      "        frameLocs = np.sort(glob.glob(semanticSequence[DICT_MASK_LOCATION]+\"frame-0*.png\"))\n",
      "        for i, frameLoc in enumerate(frameLocs) :\n",
      "            alpha = np.array(Image.open(frameLoc))[:, :, -1]\n",
      "            vis = np.argwhere(alpha != 0)\n",
      "            tl = np.min(vis, axis=0)\n",
      "            topLeft[0] = np.min([topLeft[0], tl[0]])\n",
      "            topLeft[1] = np.min([topLeft[1], tl[1]])\n",
      "\n",
      "            br = np.max(vis, axis=0)\n",
      "            bottomRight[0] = np.max([bottomRight[0], br[0]])\n",
      "            bottomRight[1] = np.max([bottomRight[1], br[1]])\n",
      "\n",
      "#             sys.stdout.write('\\r' + \"Frames \" + np.string_(i) + \" of \" + np.string_(len(semanticSequence[DICT_BBOXES])) + \" done\")\n",
      "#             sys.stdout.flush()\n",
      "            \n",
      "            ##\n",
      "            progress += 1.0/len(frameLocs)*budget\n",
      "            if np.mod(i, 10) == 0 :\n",
      "                print \"done\", progress\n",
      "                \n",
      "        print\n",
      "        print \"computed bbox\", topLeft, bottomRight; sys.stdout.flush()\n",
      "\n",
      "        bgPatch = np.array(Image.open(sequenceLocation+\"median.png\"))[topLeft[0]:bottomRight[0], topLeft[1]:bottomRight[1], 0:3]/255.0\n",
      "    else :\n",
      "        topLeft = np.array([0, 0])\n",
      "        bottomRight = np.array([frameSize[0], frameSize[1]])\n",
      "        frameLocs = np.sort([semanticSequence[DICT_FRAMES_LOCATIONS][key] for key in sortedKeys])\n",
      "        bgPatch = np.zeros([frameSize[0], frameSize[1], 3])\n",
      "        \n",
      "        ##\n",
      "        progress += budget\n",
      "        print \"done\", progress\n",
      "        \n",
      "    budget = 0.1\n",
      "            \n",
      "    ## render bboxes\n",
      "    if DICT_BBOXES in semanticSequence.keys() :\n",
      "        numVisibile = np.zeros(numFrames, int)\n",
      "        renderedBBoxes = np.zeros((np.prod(frameSize), numFrames), np.uint8)\n",
      "        for i, key in enumerate(sortedKeys) :\n",
      "            img = np.zeros((frameSize[0], frameSize[1]), np.uint8)\n",
      "            cv2.fillConvexPoly(img, semanticSequence[DICT_BBOXES][key].astype(int)[[0, 1, 2, 3, 0], :], 1)\n",
      "            renderedBBoxes[:, i] = img.flatten()\n",
      "            numVisibile[i] = len(np.argwhere(img.flatten() == 1))\n",
      "            ##\n",
      "            progress += 1.0/len(sortedKeys)*budget\n",
      "            if np.mod(i, 10) == 0 :\n",
      "                print \"done\", progress\n",
      "    else :\n",
      "        numVisibile = np.ones(numFrames, int)*np.prod(frameSize)\n",
      "        renderedBBoxes = np.ones((1, numFrames), np.uint8)*np.sqrt(np.prod(frameSize))\n",
      "\n",
      "        ##\n",
      "        progress += budget\n",
      "        print \"done\", progress\n",
      "    \n",
      "    ## figure out how to split the data to fit into memory\n",
      "    memNeededPerFrame = np.prod(bgPatch.shape)*8/1000000.0#*len(semanticSequence[DICT_BBOXES])\n",
      "    maxMemToUse = psutil.virtual_memory()[1]/1000000*0.4/2 ## use 0.4 of the available memory\n",
      "    numFramesThatFit = np.round(maxMemToUse/memNeededPerFrame)\n",
      "    numBlocks = int(np.ceil(numFrames/numFramesThatFit))\n",
      "    blockSize = int(np.ceil(numFrames/float(numBlocks)))\n",
      "    print \"need\", memNeededPerFrame*numFrames, \"MBs: splitting into\", numBlocks, \"blocks of\", blockSize, \"frames (\", blockSize*memNeededPerFrame, \"MBs)\"; sys.stdout.flush()\n",
      "\n",
      "    frameIdxs = np.arange(numFrames)\n",
      "    distMat = np.zeros([numFrames, numFrames])\n",
      "    \n",
      "    ##\n",
      "    budget = 0.6\n",
      "    totalBlocks = np.sum(arange(1, numBlocks+1))\n",
      "    for i in xrange(numBlocks) :\n",
      "        idxsToUse1 = frameIdxs[i*blockSize:(i+1)*blockSize]\n",
      "\n",
      "        f1s = np.zeros(np.hstack([bgPatch.shape[0], bgPatch.shape[1], 3, len(idxsToUse1)]), dtype=float)\n",
      "        for idx, frame in enumerate(frameLocs[idxsToUse1]) :\n",
      "            if DICT_MASK_LOCATION in semanticSequence.keys() :\n",
      "                img = np.array(Image.open(frame), dtype=float)[topLeft[0]:bottomRight[0], topLeft[1]:bottomRight[1], :]\n",
      "                alpha = img[:, :, -1]/255.0\n",
      "                f1s[:, :, :, idx] = ((img[:, :, :-1]/255.0)*np.reshape(alpha, (alpha.shape[0], alpha.shape[1], 1)) + \n",
      "                                     bgPatch*(1.0-np.reshape(alpha, (alpha.shape[0], alpha.shape[1], 1))))\n",
      "            else :\n",
      "                f1s[:, :, :, idx] = np.array(Image.open(frame), dtype=float)[topLeft[0]:bottomRight[0], topLeft[1]:bottomRight[1], :3]/255.0\n",
      "\n",
      "        print \"loaded frames, block i=\", i; sys.stdout.flush()\n",
      "        data1 = np.reshape(f1s, [np.prod(f1s.shape[0:-1]), f1s.shape[-1]]).T\n",
      "        distMat[i*blockSize:i*blockSize+len(idxsToUse1), i*blockSize:i*blockSize+len(idxsToUse1)] = ssd(data1)\n",
      "        print \"computed distance\", distMat[i*blockSize:i*blockSize+len(idxsToUse1), i*blockSize:i*blockSize+len(idxsToUse1)].shape; sys.stdout.flush()\n",
      "        \n",
      "        ##\n",
      "        progress += 1.0/totalBlocks*budget\n",
      "        print \"done\", progress\n",
      "\n",
      "        for j in xrange(i+1, numBlocks) :\n",
      "            idxsToUse2 = frameIdxs[j*blockSize:(j+1)*blockSize]\n",
      "\n",
      "            f2s = np.zeros(np.hstack([bgPatch.shape[0], bgPatch.shape[1], 3, len(idxsToUse2)]), dtype=float)\n",
      "            for idx, frame in enumerate(frameLocs[idxsToUse2]) :\n",
      "                if DICT_MASK_LOCATION in semanticSequence.keys() :\n",
      "                    img = np.array(Image.open(frame), dtype=float)[topLeft[0]:bottomRight[0], topLeft[1]:bottomRight[1], :]\n",
      "                    alpha = img[:, :, -1]/255.0\n",
      "                    f2s[:, :, :, idx] = ((img[:, :, :-1]/255.0)*np.reshape(alpha, (alpha.shape[0], alpha.shape[1], 1)) + \n",
      "                                         bgPatch*(1.0-np.reshape(alpha, (alpha.shape[0], alpha.shape[1], 1))))\n",
      "                else :\n",
      "                    f2s[:, :, :, idx] = np.array(Image.open(frame), dtype=float)[topLeft[0]:bottomRight[0], topLeft[1]:bottomRight[1], :3]/255.0\n",
      "\n",
      "            print \"loaded frames, block j=\", j; sys.stdout.flush()\n",
      "            data2 = np.reshape(f2s, [np.prod(f2s.shape[0:-1]), f2s.shape[-1]]).T\n",
      "            distMat[i*blockSize:i*blockSize+len(idxsToUse1), j*blockSize:j*blockSize+len(idxsToUse2)] = ssd2(data1, data2)\n",
      "            distMat[j*blockSize:j*blockSize+len(idxsToUse2), i*blockSize:i*blockSize+len(idxsToUse1)] = distMat[i*blockSize:i*blockSize+len(idxsToUse1), j*blockSize:j*blockSize+len(idxsToUse2)].T\n",
      "            print \"computed distance\", distMat[i*blockSize:i*blockSize+len(idxsToUse1), j*blockSize:j*blockSize+len(idxsToUse2)].shape; sys.stdout.flush()\n",
      "\n",
      "            del f2s, data2\n",
      "            \n",
      "            ##\n",
      "            progress += 1.0/totalBlocks*budget\n",
      "            print \"done\", progress\n",
      "\n",
      "        del f1s, data1\n",
      "\n",
      "\n",
      "    ## due to imprecision I need to make this check\n",
      "    distMat[distMat > 0.0] = np.sqrt(distMat[distMat > 0.0])\n",
      "    distMat[distMat <= 0.0] = 0.0\n",
      "\n",
      "    #     np.save(dataPath+dataSet+semanticSequence[DICT_SEQUENCE_NAME]+\"-vanilla_distMat.npy\", distMat/(numVisibile1.reshape((blockSize, 1)) + numVisibile1.reshape((1, blockSize))))\n",
      "    \n",
      "    tmp = np.copy(renderedBBoxes.T).astype(float)\n",
      "    numOverlapPixels = np.dot(tmp, tmp.T)\n",
      "    del tmp\n",
      "    print \"done\", 1.0\n",
      "\n",
      "    print \"done\", semanticSequence[DICT_SEQUENCE_NAME], \"in\", time.time() - t; sys.stdout.flush()\n",
      "    print\n",
      "    print"
     ],
     "language": "python",
     "metadata": {},
     "outputs": [
      {
       "output_type": "stream",
       "stream": "stdout",
       "text": [
        "starting toy1\n"
       ]
      },
      {
       "output_type": "stream",
       "stream": "stdout",
       "text": [
        "done 0.25\n",
        "done 0.35\n",
        "need 13403.7504 MBs: splitting into 3 blocks of 202 frames ( 4467.9168 MBs)\n"
       ]
      },
      {
       "output_type": "stream",
       "stream": "stdout",
       "text": [
        "loaded frames, block i= 0\n"
       ]
      },
      {
       "output_type": "stream",
       "stream": "stdout",
       "text": [
        "computed distance (202, 202)\n"
       ]
      },
      {
       "output_type": "stream",
       "stream": "stdout",
       "text": [
        "done 0.45\n",
        "loaded frames, block j="
       ]
      },
      {
       "output_type": "stream",
       "stream": "stdout",
       "text": [
        " 1\n"
       ]
      },
      {
       "output_type": "stream",
       "stream": "stdout",
       "text": [
        "computed distance (202, 202)\n"
       ]
      },
      {
       "output_type": "stream",
       "stream": "stdout",
       "text": [
        "done 0.55\n",
        "loaded frames, block j="
       ]
      },
      {
       "output_type": "stream",
       "stream": "stdout",
       "text": [
        " 2\n"
       ]
      },
      {
       "output_type": "stream",
       "stream": "stdout",
       "text": [
        "computed distance (202, 202)\n"
       ]
      },
      {
       "output_type": "stream",
       "stream": "stdout",
       "text": [
        "done 0.65\n",
        "loaded frames, block i="
       ]
      },
      {
       "output_type": "stream",
       "stream": "stdout",
       "text": [
        " 1\n"
       ]
      },
      {
       "output_type": "stream",
       "stream": "stdout",
       "text": [
        "computed distance (202, 202)\n"
       ]
      },
      {
       "output_type": "stream",
       "stream": "stdout",
       "text": [
        "done 0.75\n",
        "loaded frames, block j="
       ]
      },
      {
       "output_type": "stream",
       "stream": "stdout",
       "text": [
        " 2\n"
       ]
      },
      {
       "output_type": "stream",
       "stream": "stdout",
       "text": [
        "computed distance (202, 202)\n"
       ]
      },
      {
       "output_type": "stream",
       "stream": "stdout",
       "text": [
        "done 0.85\n",
        "loaded frames, block i="
       ]
      },
      {
       "output_type": "stream",
       "stream": "stdout",
       "text": [
        " 2\n"
       ]
      },
      {
       "output_type": "stream",
       "stream": "stdout",
       "text": [
        "computed distance (202, 202)\n"
       ]
      },
      {
       "output_type": "stream",
       "stream": "stdout",
       "text": [
        "done 0.95\n",
        "done"
       ]
      },
      {
       "output_type": "stream",
       "stream": "stdout",
       "text": [
        " 1.0\n",
        "done toy1 in 125.98615694\n"
       ]
      },
      {
       "output_type": "stream",
       "stream": "stdout",
       "text": [
        "\n",
        "\n"
       ]
      }
     ],
     "prompt_number": 6
    },
    {
     "cell_type": "code",
     "collapsed": false,
     "input": [
      "# gwv.showCustomGraph(renderedBBoxes[:, 0].reshape(frameSize[:2]))\n",
      "# tmp = np.copy(renderedBBoxes.T).astype(float)\n",
      "# lala = np.dot(tmp, tmp.T)\n",
      "# del tmp\n",
      "print lala\n",
      "# print renderedBBoxes.shape\n",
      "print frameSize, np.prod(frameSize)"
     ],
     "language": "python",
     "metadata": {},
     "outputs": [
      {
       "output_type": "stream",
       "stream": "stdout",
       "text": [
        "[[ 806400.  806400.  806400. ...,  806400.  806400.  806400.]\n",
        " [ 806400.  806400.  806400. ...,  806400.  806400.  806400.]\n",
        " [ 806400.  806400.  806400. ...,  806400.  806400.  806400.]\n",
        " ..., \n",
        " [ 806400.  806400.  806400. ...,  806400.  806400.  806400.]\n",
        " [ 806400.  806400.  806400. ...,  806400.  806400.  806400.]\n",
        " [ 806400.  806400.  806400. ...,  806400.  806400.  806400.]]\n",
        "(720, 1120) 806400\n"
       ]
      }
     ],
     "prompt_number": 36
    },
    {
     "cell_type": "code",
     "collapsed": false,
     "input": [
      "# gwv.showCustomGraph(renderedBBoxes[:, 0].reshape(frameSize[:2]))\n",
      "# tmp = np.copy(renderedBBoxes.T).astype(float)\n",
      "# lala = np.dot(tmp, tmp.T)\n",
      "# del tmp\n",
      "print lala\n",
      "# print renderedBBoxes.shape\n",
      "print frameSize, np.prod(frameSize)\n",
      "print 921600*921600, np.sqrt(921600)"
     ],
     "language": "python",
     "metadata": {},
     "outputs": [
      {
       "output_type": "stream",
       "stream": "stdout",
       "text": [
        "[[ 806400.  806400.  806400. ...,  806400.  806400.  806400.]\n",
        " [ 806400.  806400.  806400. ...,  806400.  806400.  806400.]\n",
        " [ 806400.  806400.  806400. ...,  806400.  806400.  806400.]\n",
        " ..., \n",
        " [ 806400.  806400.  806400. ...,  806400.  806400.  806400.]\n",
        " [ 806400.  806400.  806400. ...,  806400.  806400.  806400.]\n",
        " [ 806400.  806400.  806400. ...,  806400.  806400.  806400.]]\n",
        "(720, 1280) 921600\n",
        "849346560000 960.0\n"
       ]
      }
     ],
     "prompt_number": 41
    },
    {
     "cell_type": "code",
     "collapsed": false,
     "input": [
      "# gwv.showCustomGraph(distMat)\n",
      "print ((2.0*numOverlapPixels)/(numVisibile.reshape((numFrames, 1)) + numVisibile.reshape((1, numFrames)))+0.01)\n",
      "# print numVisibile.reshape((numFrames, 1)) + numVisibile.reshape((1, numFrames))\n",
      "print numOverlapPixels\n",
      "# print renderedBBoxes"
     ],
     "language": "python",
     "metadata": {},
     "outputs": [
      {
       "output_type": "stream",
       "stream": "stdout",
       "text": [
        "[[ 1.01  1.01  1.01 ...,  1.01  1.01  1.01]\n",
        " [ 1.01  1.01  1.01 ...,  1.01  1.01  1.01]\n",
        " [ 1.01  1.01  1.01 ...,  1.01  1.01  1.01]\n",
        " ..., \n",
        " [ 1.01  1.01  1.01 ...,  1.01  1.01  1.01]\n",
        " [ 1.01  1.01  1.01 ...,  1.01  1.01  1.01]\n",
        " [ 1.01  1.01  1.01 ...,  1.01  1.01  1.01]]\n",
        "[[ 921600.  921600.  921600. ...,  921600.  921600.  921600.]\n",
        " [ 921600.  921600.  921600. ...,  921600.  921600.  921600.]\n",
        " [ 921600.  921600.  921600. ...,  921600.  921600.  921600.]\n",
        " ..., \n",
        " [ 921600.  921600.  921600. ...,  921600.  921600.  921600.]\n",
        " [ 921600.  921600.  921600. ...,  921600.  921600.  921600.]\n",
        " [ 921600.  921600.  921600. ...,  921600.  921600.  921600.]]\n"
       ]
      }
     ],
     "prompt_number": 8
    },
    {
     "cell_type": "code",
     "collapsed": false,
     "input": [
      "# print frameLocs\n",
      "print frameLocs.shape\n",
      "print idxsToUse1"
     ],
     "language": "python",
     "metadata": {},
     "outputs": [
      {
       "output_type": "stream",
       "stream": "stdout",
       "text": [
        "(69,)\n",
        "[ 0  1  2  3  4  5  6  7  8  9 10 11 12 13 14 15 16 17 18 19 20 21 22 23 24\n",
        " 25 26 27 28 29 30 31 32 33 34 35 36 37 38 39 40 41 42 43 44 45 46 47 48 49\n",
        " 50 51 52 53 54 55 56 57 58 59 60 61 62 63 64 65 66 67 68 69]\n"
       ]
      }
     ],
     "prompt_number": 31
    },
    {
     "cell_type": "code",
     "collapsed": false,
     "input": [
      "print np.sum(arange(1, numBlocks+1)), numBlocks\n",
      "totalBlocks = np.sum(arange(1, numBlocks+1))\n",
      "budget = 0.6\n",
      "progress = 0.0\n",
      "for i in xrange(numBlocks) :\n",
      "    progress += 1.0/totalBlocks*budget\n",
      "    print progress\n",
      "    for j in xrange(i+1, numBlocks) :\n",
      "        progress += 1.0/totalBlocks*budget\n",
      "        print progress"
     ],
     "language": "python",
     "metadata": {},
     "outputs": [
      {
       "output_type": "stream",
       "stream": "stdout",
       "text": [
        "6 3\n",
        "0.1\n",
        "0.2\n",
        "0.3\n",
        "0.4\n",
        "0.5\n",
        "0.6\n"
       ]
      }
     ],
     "prompt_number": 27
    },
    {
     "cell_type": "code",
     "collapsed": false,
     "input": [
      "gwv.showCustomGraph(distMat)\n",
      "gwv.showCustomGraph(distMat/((2.0*dotOverlap)/(numVisibile.reshape((numFrames, 1)) + numVisibile.reshape((1, numFrames)))+0.01))\n",
      "gwv.showCustomGraph(np.load(\"/media/ilisescu/Data1/PhD/data/toy/toy1-vanilla_distMat.npy\"))"
     ],
     "language": "python",
     "metadata": {},
     "outputs": [],
     "prompt_number": 8
    },
    {
     "cell_type": "code",
     "collapsed": false,
     "input": [
      "print np.max(np.abs(np.load(\"/media/ilisescu/Data1/PhD/data/toy/toy1-vanilla_distMat.npy\")-\n",
      "                    (distMat/((2.0*dotOverlap)/(numVisibile.reshape((numFrames, 1)) + numVisibile.reshape((1, numFrames)))+0.01))))"
     ],
     "language": "python",
     "metadata": {},
     "outputs": [
      {
       "output_type": "stream",
       "stream": "stdout",
       "text": [
        "3.22021735611\n"
       ]
      }
     ],
     "prompt_number": 11
    },
    {
     "cell_type": "code",
     "collapsed": false,
     "input": [
      "((2.0*dotOverlap)/(numVisibile.reshape((numFrames, 1)) + numVisibile.reshape((1, numFrames)))+0.01)"
     ],
     "language": "python",
     "metadata": {},
     "outputs": [
      {
       "metadata": {},
       "output_type": "pyout",
       "prompt_number": 16,
       "text": [
        "array([[ 1.01,  1.01,  1.01, ...,  1.01,  1.01,  1.01],\n",
        "       [ 1.01,  1.01,  1.01, ...,  1.01,  1.01,  1.01],\n",
        "       [ 1.01,  1.01,  1.01, ...,  1.01,  1.01,  1.01],\n",
        "       ..., \n",
        "       [ 1.01,  1.01,  1.01, ...,  1.01,  1.01,  1.01],\n",
        "       [ 1.01,  1.01,  1.01, ...,  1.01,  1.01,  1.01],\n",
        "       [ 1.01,  1.01,  1.01, ...,  1.01,  1.01,  1.01]])"
       ]
      }
     ],
     "prompt_number": 16
    },
    {
     "cell_type": "code",
     "collapsed": false,
     "input": [
      "tmp = np.copy(renderedBBoxes.reshape((np.prod(renderedBBoxes.shape[0:2]), renderedBBoxes.shape[2])).T).astype(float)\n",
      "numOverlapPixels = np.dot(tmp, tmp.T)\n",
      "del tmp"
     ],
     "language": "python",
     "metadata": {},
     "outputs": [],
     "prompt_number": 6
    },
    {
     "cell_type": "code",
     "collapsed": false,
     "input": [
      "gwv.showCustomGraph(numOverlapPixels)"
     ],
     "language": "python",
     "metadata": {},
     "outputs": [],
     "prompt_number": 9
    },
    {
     "cell_type": "code",
     "collapsed": false,
     "input": [
      "tmpFolder = \"/home/ilisescu/\"\n",
      "for s in [2] :#arange(len(trackedSprites))[0:] : #np.roll(arange(len(trackedSprites)), -1) :\n",
      "    sprite = trackedSprites[s]\n",
      "    print \"starting\", sprite[DICT_SEQUENCE_NAME]; sys.stdout.flush()\n",
      "    t = time.time()\n",
      "    topLeft = np.array([720, 1280])\n",
      "    bottomRight = np.array([0, 0])\n",
      "    os.mkdir(tmpFolder+sprite[DICT_SEQUENCE_NAME]+\"-maskedFlow/\")\n",
      "    for i in np.sort(sprite[DICT_BBOXES].keys()) :\n",
      "        copyanything(dataPath+dataSet+sprite[DICT_SEQUENCE_NAME]+\"-maskedFlow/frame-{0:05d}.png\".format(i+1), \n",
      "                     tmpFolder+sprite[DICT_SEQUENCE_NAME]+\"-maskedFlow/frame-{0:05d}.png\".format(i+1))\n",
      "        \n",
      "        \n",
      "    print \"copied folder to tmp\"; sys.stdout.flush()\n",
      "    for i, frameLoc in enumerate(np.sort(glob.glob(tmpFolder+sprite[DICT_SEQUENCE_NAME]+\"-maskedFlow/frame-0*.png\"))) :\n",
      "        alpha = np.array(Image.open(frameLoc))[:, :, -1]\n",
      "        vis = np.argwhere(alpha != 0)\n",
      "        tl = np.min(vis, axis=0)\n",
      "        topLeft[0] = np.min([topLeft[0], tl[0]])\n",
      "        topLeft[1] = np.min([topLeft[1], tl[1]])\n",
      "\n",
      "        br = np.max(vis, axis=0)\n",
      "        bottomRight[0] = np.max([bottomRight[0], br[0]])\n",
      "        bottomRight[1] = np.max([bottomRight[1], br[1]])\n",
      "\n",
      "        sys.stdout.write('\\r' + \"Frames \" + np.string_(i) + \" of \" + np.string_(len(sprite[DICT_BBOXES])) + \" done\")\n",
      "        sys.stdout.flush()\n",
      "    print\n",
      "    print \"computed bbox\", topLeft, bottomRight, \"need\", np.prod(bottomRight-topLeft)*3*8/1000000.0*len(sprite[DICT_BBOXES]), \"MBs\"; sys.stdout.flush()\n",
      "    \n",
      "    bgPatch = np.array(Image.open(dataPath+dataSet+\"median.png\"))[topLeft[0]:bottomRight[0], topLeft[1]:bottomRight[1], 0:3]/255.0\n",
      "    \n",
      "    numFrames = len(sprite[DICT_BBOXES])\n",
      "#     if True or np.prod(bottomRight-topLeft)*3*8/1000000.0*len(sprite[DICT_BBOXES]) > 15000 :\n",
      "#         numBlocks = 3\n",
      "#     else :\n",
      "#         numBlocks = 1\n",
      "    memNeededPerFrame = np.prod(bottomRight-topLeft)*3*8/1000000.0#*len(sprite[DICT_BBOXES])\n",
      "    maxMemToUse = psutil.virtual_memory()[1]/1000000*0.5/2 ## use half of the available memory\n",
      "    numFramesThatFit = np.round(maxMemToUse/memNeededPerFrame)\n",
      "    numBlocks = int(np.ceil(numFrames/numFramesThatFit))\n",
      "    \n",
      "    frameIdxs = np.arange(numFrames)\n",
      "    blockSize = int(np.ceil(numFrames/float(numBlocks)))\n",
      "    frameLocs = np.sort(glob.glob(tmpFolder+sprite[DICT_SEQUENCE_NAME]+\"-maskedFlow/frame-0*.png\"))\n",
      "    for i in xrange(numBlocks) :\n",
      "        idxsToUse1 = frameIdxs[i*blockSize:(i+1)*blockSize]\n",
      "\n",
      "        f1s = np.zeros(np.hstack([bottomRight[0]-topLeft[0], bottomRight[1]-topLeft[1], 3, len(idxsToUse1)]), dtype=float)\n",
      "        numVisibile1 = np.zeros(blockSize, int)\n",
      "        renderedBBoxes = np.zeros((f1s.shape[0], f1s.shape[1], blockSize), np.uint8)\n",
      "        sortedKeys = np.sort(sprite[DICT_BBOXES].keys())[i*blockSize:i*blockSize+blockSize]\n",
      "        for idx, frame in enumerate(frameLocs[idxsToUse1]) :\n",
      "            img = np.array(Image.open(frame), dtype=float)[topLeft[0]:bottomRight[0], topLeft[1]:bottomRight[1], :]\n",
      "            alpha = img[:, :, -1]/255.0\n",
      "            f1s[:, :, :, idx] = ((img[:, :, :-1]/255.0)*np.reshape(alpha, (alpha.shape[0], alpha.shape[1], 1)) + \n",
      "                                 bgPatch*(1.0-np.reshape(alpha, (alpha.shape[0], alpha.shape[1], 1))))\n",
      "    #             numVisibile1[idx] = len(np.argwhere(alpha.flatten() == 1))\n",
      "            img = np.zeros((f1s.shape[0], f1s.shape[1]), np.uint8)\n",
      "            ## bbox coords are (x, y) but topLeft is (row, col)\n",
      "            cv2.fillConvexPoly(img, sprite[DICT_BBOXES][sortedKeys[idx]].astype(int)[[0, 1, 2, 3, 0], :]-topLeft[::-1], 1)\n",
      "            renderedBBoxes[:, :, idx] = img\n",
      "            numVisibile1[idx] = len(np.argwhere(img.flatten() == 1))\n",
      "        \n",
      "        print \"loaded frames, block i=\", i; sys.stdout.flush()\n",
      "        data1 = np.reshape(f1s, [np.prod(f1s.shape[0:-1]), f1s.shape[-1]]).T\n",
      "        distMat[i*blockSize:i*blockSize+len(idxsToUse1), i*blockSize:i*blockSize+len(idxsToUse1)] = ssd(data1)\n",
      "        print \"computed distance\", distMat[i*blockSize:i*blockSize+len(idxsToUse1), i*blockSize:i*blockSize+len(idxsToUse1)].shape; sys.stdout.flush()\n",
      "\n",
      "        for j in xrange(i+1, numBlocks) :\n",
      "            idxsToUse2 = frameIdxs[j*blockSize:(j+1)*blockSize]\n",
      "\n",
      "            f2s = np.zeros(np.hstack([bottomRight[0]-topLeft[0], bottomRight[1]-topLeft[1], 3, len(idxsToUse2)]), dtype=float)\n",
      "            for idx, frame in enumerate(frameLocs[idxsToUse2]) :\n",
      "                img = np.array(Image.open(frame), dtype=float)[topLeft[0]:bottomRight[0], topLeft[1]:bottomRight[1], :]\n",
      "                alpha = img[:, :, -1]/255.0\n",
      "                f2s[:, :, :, idx] = ((img[:, :, :-1]/255.0)*np.reshape(alpha, (alpha.shape[0], alpha.shape[1], 1)) + \n",
      "                                     bgPatch*(1.0-np.reshape(alpha, (alpha.shape[0], alpha.shape[1], 1))))\n",
      "\n",
      "            print \"loaded frames, block j=\", j; sys.stdout.flush()\n",
      "            data2 = np.reshape(f2s, [np.prod(f2s.shape[0:-1]), f2s.shape[-1]]).T\n",
      "            distMat[i*blockSize:i*blockSize+len(idxsToUse1), j*blockSize:j*blockSize+len(idxsToUse2)] = ssd2(data1, data2)\n",
      "            distMat[j*blockSize:j*blockSize+len(idxsToUse2), i*blockSize:i*blockSize+len(idxsToUse1)] = distMat[i*blockSize:i*blockSize+len(idxsToUse1), j*blockSize:j*blockSize+len(idxsToUse2)].T\n",
      "            print \"computed distance\", distMat[i*blockSize:i*blockSize+len(idxsToUse1), j*blockSize:j*blockSize+len(idxsToUse2)].shape; sys.stdout.flush()\n",
      "\n",
      "            del f2s, data2\n",
      "\n",
      "        del f1s, data1\n",
      "        \n",
      "        \n",
      "    ## due to imprecision I need to make this check\n",
      "    distMat[distMat > 0.0] = np.sqrt(distMat[distMat > 0.0])\n",
      "    distMat[distMat <= 0.0] = 0.0\n",
      "\n",
      "    shutil.rmtree(tmpFolder+sprite[DICT_SEQUENCE_NAME]+\"-maskedFlow/\")\n",
      "    \n",
      "#     np.save(dataPath+dataSet+sprite[DICT_SEQUENCE_NAME]+\"-vanilla_distMat.npy\", distMat/(numVisibile1.reshape((blockSize, 1)) + numVisibile1.reshape((1, blockSize))))\n",
      "\n",
      "    \n",
      "    print \"done\", sprite[DICT_SEQUENCE_NAME], \"in\", time.time() - t; sys.stdout.flush()\n",
      "    print\n",
      "    print"
     ],
     "language": "python",
     "metadata": {},
     "outputs": [
      {
       "output_type": "stream",
       "stream": "stdout",
       "text": [
        "starting digger_right1\n"
       ]
      },
      {
       "output_type": "stream",
       "stream": "stdout",
       "text": [
        "copied folder to tmp\n"
       ]
      },
      {
       "output_type": "stream",
       "stream": "stdout",
       "text": [
        "\r",
        "Frames 0 of 250 done"
       ]
      },
      {
       "output_type": "stream",
       "stream": "stdout",
       "text": [
        "\r",
        "Frames 1 of 250 done"
       ]
      },
      {
       "output_type": "stream",
       "stream": "stdout",
       "text": [
        "\r",
        "Frames 2 of 250 done"
       ]
      },
      {
       "output_type": "stream",
       "stream": "stdout",
       "text": [
        "\r",
        "Frames 3 of 250 done"
       ]
      },
      {
       "output_type": "stream",
       "stream": "stdout",
       "text": [
        "\r",
        "Frames 4 of 250 done"
       ]
      },
      {
       "output_type": "stream",
       "stream": "stdout",
       "text": [
        "\r",
        "Frames 5 of 250 done"
       ]
      },
      {
       "output_type": "stream",
       "stream": "stdout",
       "text": [
        "\r",
        "Frames 6 of 250 done"
       ]
      },
      {
       "output_type": "stream",
       "stream": "stdout",
       "text": [
        "\r",
        "Frames 7 of 250 done"
       ]
      },
      {
       "output_type": "stream",
       "stream": "stdout",
       "text": [
        "\r",
        "Frames 8 of 250 done"
       ]
      },
      {
       "output_type": "stream",
       "stream": "stdout",
       "text": [
        "\r",
        "Frames 9 of 250 done"
       ]
      },
      {
       "output_type": "stream",
       "stream": "stdout",
       "text": [
        "\r",
        "Frames 10 of 250 done"
       ]
      },
      {
       "output_type": "stream",
       "stream": "stdout",
       "text": [
        "\r",
        "Frames 11 of 250 done"
       ]
      },
      {
       "output_type": "stream",
       "stream": "stdout",
       "text": [
        "\r",
        "Frames 12 of 250 done"
       ]
      },
      {
       "output_type": "stream",
       "stream": "stdout",
       "text": [
        "\r",
        "Frames 13 of 250 done"
       ]
      },
      {
       "output_type": "stream",
       "stream": "stdout",
       "text": [
        "\r",
        "Frames 14 of 250 done"
       ]
      },
      {
       "output_type": "stream",
       "stream": "stdout",
       "text": [
        "\r",
        "Frames 15 of 250 done"
       ]
      },
      {
       "output_type": "stream",
       "stream": "stdout",
       "text": [
        "\r",
        "Frames 16 of 250 done"
       ]
      },
      {
       "output_type": "stream",
       "stream": "stdout",
       "text": [
        "\r",
        "Frames 17 of 250 done"
       ]
      },
      {
       "output_type": "stream",
       "stream": "stdout",
       "text": [
        "\r",
        "Frames 18 of 250 done"
       ]
      },
      {
       "output_type": "stream",
       "stream": "stdout",
       "text": [
        "\r",
        "Frames 19 of 250 done"
       ]
      },
      {
       "output_type": "stream",
       "stream": "stdout",
       "text": [
        "\r",
        "Frames 20 of 250 done"
       ]
      },
      {
       "output_type": "stream",
       "stream": "stdout",
       "text": [
        "\r",
        "Frames 21 of 250 done"
       ]
      },
      {
       "output_type": "stream",
       "stream": "stdout",
       "text": [
        "\r",
        "Frames 22 of 250 done"
       ]
      },
      {
       "output_type": "stream",
       "stream": "stdout",
       "text": [
        "\r",
        "Frames 23 of 250 done"
       ]
      },
      {
       "output_type": "stream",
       "stream": "stdout",
       "text": [
        "\r",
        "Frames 24 of 250 done"
       ]
      },
      {
       "output_type": "stream",
       "stream": "stdout",
       "text": [
        "\r",
        "Frames 25 of 250 done"
       ]
      },
      {
       "output_type": "stream",
       "stream": "stdout",
       "text": [
        "\r",
        "Frames 26 of 250 done"
       ]
      },
      {
       "output_type": "stream",
       "stream": "stdout",
       "text": [
        "\r",
        "Frames 27 of 250 done"
       ]
      },
      {
       "output_type": "stream",
       "stream": "stdout",
       "text": [
        "\r",
        "Frames 28 of 250 done"
       ]
      },
      {
       "output_type": "stream",
       "stream": "stdout",
       "text": [
        "\r",
        "Frames 29 of 250 done"
       ]
      },
      {
       "output_type": "stream",
       "stream": "stdout",
       "text": [
        "\r",
        "Frames 30 of 250 done"
       ]
      },
      {
       "output_type": "stream",
       "stream": "stdout",
       "text": [
        "\r",
        "Frames 31 of 250 done"
       ]
      },
      {
       "output_type": "stream",
       "stream": "stdout",
       "text": [
        "\r",
        "Frames 32 of 250 done"
       ]
      },
      {
       "output_type": "stream",
       "stream": "stdout",
       "text": [
        "\r",
        "Frames 33 of 250 done"
       ]
      },
      {
       "output_type": "stream",
       "stream": "stdout",
       "text": [
        "\r",
        "Frames 34 of 250 done"
       ]
      },
      {
       "output_type": "stream",
       "stream": "stdout",
       "text": [
        "\r",
        "Frames 35 of 250 done"
       ]
      },
      {
       "output_type": "stream",
       "stream": "stdout",
       "text": [
        "\r",
        "Frames 36 of 250 done"
       ]
      },
      {
       "output_type": "stream",
       "stream": "stdout",
       "text": [
        "\r",
        "Frames 37 of 250 done"
       ]
      },
      {
       "output_type": "stream",
       "stream": "stdout",
       "text": [
        "\r",
        "Frames 38 of 250 done"
       ]
      },
      {
       "output_type": "stream",
       "stream": "stdout",
       "text": [
        "\r",
        "Frames 39 of 250 done"
       ]
      },
      {
       "output_type": "stream",
       "stream": "stdout",
       "text": [
        "\r",
        "Frames 40 of 250 done"
       ]
      },
      {
       "output_type": "stream",
       "stream": "stdout",
       "text": [
        "\r",
        "Frames 41 of 250 done"
       ]
      },
      {
       "output_type": "stream",
       "stream": "stdout",
       "text": [
        "\r",
        "Frames 42 of 250 done"
       ]
      },
      {
       "output_type": "stream",
       "stream": "stdout",
       "text": [
        "\r",
        "Frames 43 of 250 done"
       ]
      },
      {
       "output_type": "stream",
       "stream": "stdout",
       "text": [
        "\r",
        "Frames 44 of 250 done"
       ]
      },
      {
       "output_type": "stream",
       "stream": "stdout",
       "text": [
        "\r",
        "Frames 45 of 250 done"
       ]
      },
      {
       "output_type": "stream",
       "stream": "stdout",
       "text": [
        "\r",
        "Frames 46 of 250 done"
       ]
      },
      {
       "output_type": "stream",
       "stream": "stdout",
       "text": [
        "\r",
        "Frames 47 of 250 done"
       ]
      },
      {
       "output_type": "stream",
       "stream": "stdout",
       "text": [
        "\r",
        "Frames 48 of 250 done"
       ]
      },
      {
       "output_type": "stream",
       "stream": "stdout",
       "text": [
        "\r",
        "Frames 49 of 250 done"
       ]
      },
      {
       "output_type": "stream",
       "stream": "stdout",
       "text": [
        "\r",
        "Frames 50 of 250 done"
       ]
      },
      {
       "output_type": "stream",
       "stream": "stdout",
       "text": [
        "\r",
        "Frames 51 of 250 done"
       ]
      },
      {
       "output_type": "stream",
       "stream": "stdout",
       "text": [
        "\r",
        "Frames 52 of 250 done"
       ]
      },
      {
       "output_type": "stream",
       "stream": "stdout",
       "text": [
        "\r",
        "Frames 53 of 250 done"
       ]
      },
      {
       "output_type": "stream",
       "stream": "stdout",
       "text": [
        "\r",
        "Frames 54 of 250 done"
       ]
      },
      {
       "output_type": "stream",
       "stream": "stdout",
       "text": [
        "\r",
        "Frames 55 of 250 done"
       ]
      },
      {
       "output_type": "stream",
       "stream": "stdout",
       "text": [
        "\r",
        "Frames 56 of 250 done"
       ]
      },
      {
       "output_type": "stream",
       "stream": "stdout",
       "text": [
        "\r",
        "Frames 57 of 250 done"
       ]
      },
      {
       "output_type": "stream",
       "stream": "stdout",
       "text": [
        "\r",
        "Frames 58 of 250 done"
       ]
      },
      {
       "output_type": "stream",
       "stream": "stdout",
       "text": [
        "\r",
        "Frames 59 of 250 done"
       ]
      },
      {
       "output_type": "stream",
       "stream": "stdout",
       "text": [
        "\r",
        "Frames 60 of 250 done"
       ]
      },
      {
       "output_type": "stream",
       "stream": "stdout",
       "text": [
        "\r",
        "Frames 61 of 250 done"
       ]
      },
      {
       "output_type": "stream",
       "stream": "stdout",
       "text": [
        "\r",
        "Frames 62 of 250 done"
       ]
      },
      {
       "output_type": "stream",
       "stream": "stdout",
       "text": [
        "\r",
        "Frames 63 of 250 done"
       ]
      },
      {
       "output_type": "stream",
       "stream": "stdout",
       "text": [
        "\r",
        "Frames 64 of 250 done"
       ]
      },
      {
       "output_type": "stream",
       "stream": "stdout",
       "text": [
        "\r",
        "Frames 65 of 250 done"
       ]
      },
      {
       "output_type": "stream",
       "stream": "stdout",
       "text": [
        "\r",
        "Frames 66 of 250 done"
       ]
      },
      {
       "output_type": "stream",
       "stream": "stdout",
       "text": [
        "\r",
        "Frames 67 of 250 done"
       ]
      },
      {
       "output_type": "stream",
       "stream": "stdout",
       "text": [
        "\r",
        "Frames 68 of 250 done"
       ]
      },
      {
       "output_type": "stream",
       "stream": "stdout",
       "text": [
        "\r",
        "Frames 69 of 250 done"
       ]
      },
      {
       "output_type": "stream",
       "stream": "stdout",
       "text": [
        "\r",
        "Frames 70 of 250 done"
       ]
      },
      {
       "output_type": "stream",
       "stream": "stdout",
       "text": [
        "\r",
        "Frames 71 of 250 done"
       ]
      },
      {
       "output_type": "stream",
       "stream": "stdout",
       "text": [
        "\r",
        "Frames 72 of 250 done"
       ]
      },
      {
       "output_type": "stream",
       "stream": "stdout",
       "text": [
        "\r",
        "Frames 73 of 250 done"
       ]
      },
      {
       "output_type": "stream",
       "stream": "stdout",
       "text": [
        "\r",
        "Frames 74 of 250 done"
       ]
      },
      {
       "output_type": "stream",
       "stream": "stdout",
       "text": [
        "\r",
        "Frames 75 of 250 done"
       ]
      },
      {
       "output_type": "stream",
       "stream": "stdout",
       "text": [
        "\r",
        "Frames 76 of 250 done"
       ]
      },
      {
       "output_type": "stream",
       "stream": "stdout",
       "text": [
        "\r",
        "Frames 77 of 250 done"
       ]
      },
      {
       "output_type": "stream",
       "stream": "stdout",
       "text": [
        "\r",
        "Frames 78 of 250 done"
       ]
      },
      {
       "output_type": "stream",
       "stream": "stdout",
       "text": [
        "\r",
        "Frames 79 of 250 done"
       ]
      },
      {
       "output_type": "stream",
       "stream": "stdout",
       "text": [
        "\r",
        "Frames 80 of 250 done"
       ]
      },
      {
       "output_type": "stream",
       "stream": "stdout",
       "text": [
        "\r",
        "Frames 81 of 250 done"
       ]
      },
      {
       "output_type": "stream",
       "stream": "stdout",
       "text": [
        "\r",
        "Frames 82 of 250 done"
       ]
      },
      {
       "output_type": "stream",
       "stream": "stdout",
       "text": [
        "\r",
        "Frames 83 of 250 done"
       ]
      },
      {
       "output_type": "stream",
       "stream": "stdout",
       "text": [
        "\r",
        "Frames 84 of 250 done"
       ]
      },
      {
       "output_type": "stream",
       "stream": "stdout",
       "text": [
        "\r",
        "Frames 85 of 250 done"
       ]
      },
      {
       "output_type": "stream",
       "stream": "stdout",
       "text": [
        "\r",
        "Frames 86 of 250 done"
       ]
      },
      {
       "output_type": "stream",
       "stream": "stdout",
       "text": [
        "\r",
        "Frames 87 of 250 done"
       ]
      },
      {
       "output_type": "stream",
       "stream": "stdout",
       "text": [
        "\r",
        "Frames 88 of 250 done"
       ]
      },
      {
       "output_type": "stream",
       "stream": "stdout",
       "text": [
        "\r",
        "Frames 89 of 250 done"
       ]
      },
      {
       "output_type": "stream",
       "stream": "stdout",
       "text": [
        "\r",
        "Frames 90 of 250 done"
       ]
      },
      {
       "output_type": "stream",
       "stream": "stdout",
       "text": [
        "\r",
        "Frames 91 of 250 done"
       ]
      },
      {
       "output_type": "stream",
       "stream": "stdout",
       "text": [
        "\r",
        "Frames 92 of 250 done"
       ]
      },
      {
       "output_type": "stream",
       "stream": "stdout",
       "text": [
        "\r",
        "Frames 93 of 250 done"
       ]
      },
      {
       "output_type": "stream",
       "stream": "stdout",
       "text": [
        "\r",
        "Frames 94 of 250 done"
       ]
      },
      {
       "output_type": "stream",
       "stream": "stdout",
       "text": [
        "\r",
        "Frames 95 of 250 done"
       ]
      },
      {
       "output_type": "stream",
       "stream": "stdout",
       "text": [
        "\r",
        "Frames 96 of 250 done"
       ]
      },
      {
       "output_type": "stream",
       "stream": "stdout",
       "text": [
        "\r",
        "Frames 97 of 250 done"
       ]
      },
      {
       "output_type": "stream",
       "stream": "stdout",
       "text": [
        "\r",
        "Frames 98 of 250 done"
       ]
      },
      {
       "output_type": "stream",
       "stream": "stdout",
       "text": [
        "\r",
        "Frames 99 of 250 done"
       ]
      },
      {
       "output_type": "stream",
       "stream": "stdout",
       "text": [
        "\r",
        "Frames 100 of 250 done"
       ]
      },
      {
       "output_type": "stream",
       "stream": "stdout",
       "text": [
        "\r",
        "Frames 101 of 250 done"
       ]
      },
      {
       "output_type": "stream",
       "stream": "stdout",
       "text": [
        "\r",
        "Frames 102 of 250 done"
       ]
      },
      {
       "output_type": "stream",
       "stream": "stdout",
       "text": [
        "\r",
        "Frames 103 of 250 done"
       ]
      },
      {
       "output_type": "stream",
       "stream": "stdout",
       "text": [
        "\r",
        "Frames 104 of 250 done"
       ]
      },
      {
       "output_type": "stream",
       "stream": "stdout",
       "text": [
        "\r",
        "Frames 105 of 250 done"
       ]
      },
      {
       "output_type": "stream",
       "stream": "stdout",
       "text": [
        "\r",
        "Frames 106 of 250 done"
       ]
      },
      {
       "output_type": "stream",
       "stream": "stdout",
       "text": [
        "\r",
        "Frames 107 of 250 done"
       ]
      },
      {
       "output_type": "stream",
       "stream": "stdout",
       "text": [
        "\r",
        "Frames 108 of 250 done"
       ]
      },
      {
       "output_type": "stream",
       "stream": "stdout",
       "text": [
        "\r",
        "Frames 109 of 250 done"
       ]
      },
      {
       "output_type": "stream",
       "stream": "stdout",
       "text": [
        "\r",
        "Frames 110 of 250 done"
       ]
      },
      {
       "output_type": "stream",
       "stream": "stdout",
       "text": [
        "\r",
        "Frames 111 of 250 done"
       ]
      },
      {
       "output_type": "stream",
       "stream": "stdout",
       "text": [
        "\r",
        "Frames 112 of 250 done"
       ]
      },
      {
       "output_type": "stream",
       "stream": "stdout",
       "text": [
        "\r",
        "Frames 113 of 250 done"
       ]
      },
      {
       "output_type": "stream",
       "stream": "stdout",
       "text": [
        "\r",
        "Frames 114 of 250 done"
       ]
      },
      {
       "output_type": "stream",
       "stream": "stdout",
       "text": [
        "\r",
        "Frames 115 of 250 done"
       ]
      },
      {
       "output_type": "stream",
       "stream": "stdout",
       "text": [
        "\r",
        "Frames 116 of 250 done"
       ]
      },
      {
       "output_type": "stream",
       "stream": "stdout",
       "text": [
        "\r",
        "Frames 117 of 250 done"
       ]
      },
      {
       "output_type": "stream",
       "stream": "stdout",
       "text": [
        "\r",
        "Frames 118 of 250 done"
       ]
      },
      {
       "output_type": "stream",
       "stream": "stdout",
       "text": [
        "\r",
        "Frames 119 of 250 done"
       ]
      },
      {
       "output_type": "stream",
       "stream": "stdout",
       "text": [
        "\r",
        "Frames 120 of 250 done"
       ]
      },
      {
       "output_type": "stream",
       "stream": "stdout",
       "text": [
        "\r",
        "Frames 121 of 250 done"
       ]
      },
      {
       "output_type": "stream",
       "stream": "stdout",
       "text": [
        "\r",
        "Frames 122 of 250 done"
       ]
      },
      {
       "output_type": "stream",
       "stream": "stdout",
       "text": [
        "\r",
        "Frames 123 of 250 done"
       ]
      },
      {
       "output_type": "stream",
       "stream": "stdout",
       "text": [
        "\r",
        "Frames 124 of 250 done"
       ]
      },
      {
       "output_type": "stream",
       "stream": "stdout",
       "text": [
        "\r",
        "Frames 125 of 250 done"
       ]
      },
      {
       "output_type": "stream",
       "stream": "stdout",
       "text": [
        "\r",
        "Frames 126 of 250 done"
       ]
      },
      {
       "output_type": "stream",
       "stream": "stdout",
       "text": [
        "\r",
        "Frames 127 of 250 done"
       ]
      },
      {
       "output_type": "stream",
       "stream": "stdout",
       "text": [
        "\r",
        "Frames 128 of 250 done"
       ]
      },
      {
       "output_type": "stream",
       "stream": "stdout",
       "text": [
        "\r",
        "Frames 129 of 250 done"
       ]
      },
      {
       "output_type": "stream",
       "stream": "stdout",
       "text": [
        "\r",
        "Frames 130 of 250 done"
       ]
      },
      {
       "output_type": "stream",
       "stream": "stdout",
       "text": [
        "\r",
        "Frames 131 of 250 done"
       ]
      },
      {
       "output_type": "stream",
       "stream": "stdout",
       "text": [
        "\r",
        "Frames 132 of 250 done"
       ]
      },
      {
       "output_type": "stream",
       "stream": "stdout",
       "text": [
        "\r",
        "Frames 133 of 250 done"
       ]
      },
      {
       "output_type": "stream",
       "stream": "stdout",
       "text": [
        "\r",
        "Frames 134 of 250 done"
       ]
      },
      {
       "output_type": "stream",
       "stream": "stdout",
       "text": [
        "\r",
        "Frames 135 of 250 done"
       ]
      },
      {
       "output_type": "stream",
       "stream": "stdout",
       "text": [
        "\r",
        "Frames 136 of 250 done"
       ]
      },
      {
       "output_type": "stream",
       "stream": "stdout",
       "text": [
        "\r",
        "Frames 137 of 250 done"
       ]
      },
      {
       "output_type": "stream",
       "stream": "stdout",
       "text": [
        "\r",
        "Frames 138 of 250 done"
       ]
      },
      {
       "output_type": "stream",
       "stream": "stdout",
       "text": [
        "\r",
        "Frames 139 of 250 done"
       ]
      },
      {
       "output_type": "stream",
       "stream": "stdout",
       "text": [
        "\r",
        "Frames 140 of 250 done"
       ]
      },
      {
       "output_type": "stream",
       "stream": "stdout",
       "text": [
        "\r",
        "Frames 141 of 250 done"
       ]
      },
      {
       "output_type": "stream",
       "stream": "stdout",
       "text": [
        "\r",
        "Frames 142 of 250 done"
       ]
      },
      {
       "output_type": "stream",
       "stream": "stdout",
       "text": [
        "\r",
        "Frames 143 of 250 done"
       ]
      },
      {
       "output_type": "stream",
       "stream": "stdout",
       "text": [
        "\r",
        "Frames 144 of 250 done"
       ]
      },
      {
       "output_type": "stream",
       "stream": "stdout",
       "text": [
        "\r",
        "Frames 145 of 250 done"
       ]
      },
      {
       "output_type": "stream",
       "stream": "stdout",
       "text": [
        "\r",
        "Frames 146 of 250 done"
       ]
      },
      {
       "output_type": "stream",
       "stream": "stdout",
       "text": [
        "\r",
        "Frames 147 of 250 done"
       ]
      },
      {
       "output_type": "stream",
       "stream": "stdout",
       "text": [
        "\r",
        "Frames 148 of 250 done"
       ]
      },
      {
       "output_type": "stream",
       "stream": "stdout",
       "text": [
        "\r",
        "Frames 149 of 250 done"
       ]
      },
      {
       "output_type": "stream",
       "stream": "stdout",
       "text": [
        "\r",
        "Frames 150 of 250 done"
       ]
      },
      {
       "output_type": "stream",
       "stream": "stdout",
       "text": [
        "\r",
        "Frames 151 of 250 done"
       ]
      },
      {
       "output_type": "stream",
       "stream": "stdout",
       "text": [
        "\r",
        "Frames 152 of 250 done"
       ]
      },
      {
       "output_type": "stream",
       "stream": "stdout",
       "text": [
        "\r",
        "Frames 153 of 250 done"
       ]
      },
      {
       "output_type": "stream",
       "stream": "stdout",
       "text": [
        "\r",
        "Frames 154 of 250 done"
       ]
      },
      {
       "output_type": "stream",
       "stream": "stdout",
       "text": [
        "\r",
        "Frames 155 of 250 done"
       ]
      },
      {
       "output_type": "stream",
       "stream": "stdout",
       "text": [
        "\r",
        "Frames 156 of 250 done"
       ]
      },
      {
       "output_type": "stream",
       "stream": "stdout",
       "text": [
        "\r",
        "Frames 157 of 250 done"
       ]
      },
      {
       "output_type": "stream",
       "stream": "stdout",
       "text": [
        "\r",
        "Frames 158 of 250 done"
       ]
      },
      {
       "output_type": "stream",
       "stream": "stdout",
       "text": [
        "\r",
        "Frames 159 of 250 done"
       ]
      },
      {
       "output_type": "stream",
       "stream": "stdout",
       "text": [
        "\r",
        "Frames 160 of 250 done"
       ]
      },
      {
       "output_type": "stream",
       "stream": "stdout",
       "text": [
        "\r",
        "Frames 161 of 250 done"
       ]
      },
      {
       "output_type": "stream",
       "stream": "stdout",
       "text": [
        "\r",
        "Frames 162 of 250 done"
       ]
      },
      {
       "output_type": "stream",
       "stream": "stdout",
       "text": [
        "\r",
        "Frames 163 of 250 done"
       ]
      },
      {
       "output_type": "stream",
       "stream": "stdout",
       "text": [
        "\r",
        "Frames 164 of 250 done"
       ]
      },
      {
       "output_type": "stream",
       "stream": "stdout",
       "text": [
        "\r",
        "Frames 165 of 250 done"
       ]
      },
      {
       "output_type": "stream",
       "stream": "stdout",
       "text": [
        "\r",
        "Frames 166 of 250 done"
       ]
      },
      {
       "output_type": "stream",
       "stream": "stdout",
       "text": [
        "\r",
        "Frames 167 of 250 done"
       ]
      },
      {
       "output_type": "stream",
       "stream": "stdout",
       "text": [
        "\r",
        "Frames 168 of 250 done"
       ]
      },
      {
       "output_type": "stream",
       "stream": "stdout",
       "text": [
        "\r",
        "Frames 169 of 250 done"
       ]
      },
      {
       "output_type": "stream",
       "stream": "stdout",
       "text": [
        "\r",
        "Frames 170 of 250 done"
       ]
      },
      {
       "output_type": "stream",
       "stream": "stdout",
       "text": [
        "\r",
        "Frames 171 of 250 done"
       ]
      },
      {
       "output_type": "stream",
       "stream": "stdout",
       "text": [
        "\r",
        "Frames 172 of 250 done"
       ]
      },
      {
       "output_type": "stream",
       "stream": "stdout",
       "text": [
        "\r",
        "Frames 173 of 250 done"
       ]
      },
      {
       "output_type": "stream",
       "stream": "stdout",
       "text": [
        "\r",
        "Frames 174 of 250 done"
       ]
      },
      {
       "output_type": "stream",
       "stream": "stdout",
       "text": [
        "\r",
        "Frames 175 of 250 done"
       ]
      },
      {
       "output_type": "stream",
       "stream": "stdout",
       "text": [
        "\r",
        "Frames 176 of 250 done"
       ]
      },
      {
       "output_type": "stream",
       "stream": "stdout",
       "text": [
        "\r",
        "Frames 177 of 250 done"
       ]
      },
      {
       "output_type": "stream",
       "stream": "stdout",
       "text": [
        "\r",
        "Frames 178 of 250 done"
       ]
      },
      {
       "output_type": "stream",
       "stream": "stdout",
       "text": [
        "\r",
        "Frames 179 of 250 done"
       ]
      },
      {
       "output_type": "stream",
       "stream": "stdout",
       "text": [
        "\r",
        "Frames 180 of 250 done"
       ]
      },
      {
       "output_type": "stream",
       "stream": "stdout",
       "text": [
        "\r",
        "Frames 181 of 250 done"
       ]
      },
      {
       "output_type": "stream",
       "stream": "stdout",
       "text": [
        "\r",
        "Frames 182 of 250 done"
       ]
      },
      {
       "output_type": "stream",
       "stream": "stdout",
       "text": [
        "\r",
        "Frames 183 of 250 done"
       ]
      },
      {
       "output_type": "stream",
       "stream": "stdout",
       "text": [
        "\r",
        "Frames 184 of 250 done"
       ]
      },
      {
       "output_type": "stream",
       "stream": "stdout",
       "text": [
        "\r",
        "Frames 185 of 250 done"
       ]
      },
      {
       "output_type": "stream",
       "stream": "stdout",
       "text": [
        "\r",
        "Frames 186 of 250 done"
       ]
      },
      {
       "output_type": "stream",
       "stream": "stdout",
       "text": [
        "\r",
        "Frames 187 of 250 done"
       ]
      },
      {
       "output_type": "stream",
       "stream": "stdout",
       "text": [
        "\r",
        "Frames 188 of 250 done"
       ]
      },
      {
       "output_type": "stream",
       "stream": "stdout",
       "text": [
        "\r",
        "Frames 189 of 250 done"
       ]
      },
      {
       "output_type": "stream",
       "stream": "stdout",
       "text": [
        "\r",
        "Frames 190 of 250 done"
       ]
      },
      {
       "output_type": "stream",
       "stream": "stdout",
       "text": [
        "\r",
        "Frames 191 of 250 done"
       ]
      },
      {
       "output_type": "stream",
       "stream": "stdout",
       "text": [
        "\r",
        "Frames 192 of 250 done"
       ]
      },
      {
       "output_type": "stream",
       "stream": "stdout",
       "text": [
        "\r",
        "Frames 193 of 250 done"
       ]
      },
      {
       "output_type": "stream",
       "stream": "stdout",
       "text": [
        "\r",
        "Frames 194 of 250 done"
       ]
      },
      {
       "output_type": "stream",
       "stream": "stdout",
       "text": [
        "\r",
        "Frames 195 of 250 done"
       ]
      },
      {
       "output_type": "stream",
       "stream": "stdout",
       "text": [
        "\r",
        "Frames 196 of 250 done"
       ]
      },
      {
       "output_type": "stream",
       "stream": "stdout",
       "text": [
        "\r",
        "Frames 197 of 250 done"
       ]
      },
      {
       "output_type": "stream",
       "stream": "stdout",
       "text": [
        "\r",
        "Frames 198 of 250 done"
       ]
      },
      {
       "output_type": "stream",
       "stream": "stdout",
       "text": [
        "\r",
        "Frames 199 of 250 done"
       ]
      },
      {
       "output_type": "stream",
       "stream": "stdout",
       "text": [
        "\r",
        "Frames 200 of 250 done"
       ]
      },
      {
       "output_type": "stream",
       "stream": "stdout",
       "text": [
        "\r",
        "Frames 201 of 250 done"
       ]
      },
      {
       "output_type": "stream",
       "stream": "stdout",
       "text": [
        "\r",
        "Frames 202 of 250 done"
       ]
      },
      {
       "output_type": "stream",
       "stream": "stdout",
       "text": [
        "\r",
        "Frames 203 of 250 done"
       ]
      },
      {
       "output_type": "stream",
       "stream": "stdout",
       "text": [
        "\r",
        "Frames 204 of 250 done"
       ]
      },
      {
       "output_type": "stream",
       "stream": "stdout",
       "text": [
        "\r",
        "Frames 205 of 250 done"
       ]
      },
      {
       "output_type": "stream",
       "stream": "stdout",
       "text": [
        "\r",
        "Frames 206 of 250 done"
       ]
      },
      {
       "output_type": "stream",
       "stream": "stdout",
       "text": [
        "\r",
        "Frames 207 of 250 done"
       ]
      },
      {
       "output_type": "stream",
       "stream": "stdout",
       "text": [
        "\r",
        "Frames 208 of 250 done"
       ]
      },
      {
       "output_type": "stream",
       "stream": "stdout",
       "text": [
        "\r",
        "Frames 209 of 250 done"
       ]
      },
      {
       "output_type": "stream",
       "stream": "stdout",
       "text": [
        "\r",
        "Frames 210 of 250 done"
       ]
      },
      {
       "output_type": "stream",
       "stream": "stdout",
       "text": [
        "\r",
        "Frames 211 of 250 done"
       ]
      },
      {
       "output_type": "stream",
       "stream": "stdout",
       "text": [
        "\r",
        "Frames 212 of 250 done"
       ]
      },
      {
       "output_type": "stream",
       "stream": "stdout",
       "text": [
        "\r",
        "Frames 213 of 250 done"
       ]
      },
      {
       "output_type": "stream",
       "stream": "stdout",
       "text": [
        "\r",
        "Frames 214 of 250 done"
       ]
      },
      {
       "output_type": "stream",
       "stream": "stdout",
       "text": [
        "\r",
        "Frames 215 of 250 done"
       ]
      },
      {
       "output_type": "stream",
       "stream": "stdout",
       "text": [
        "\r",
        "Frames 216 of 250 done"
       ]
      },
      {
       "output_type": "stream",
       "stream": "stdout",
       "text": [
        "\r",
        "Frames 217 of 250 done"
       ]
      },
      {
       "output_type": "stream",
       "stream": "stdout",
       "text": [
        "\r",
        "Frames 218 of 250 done"
       ]
      },
      {
       "output_type": "stream",
       "stream": "stdout",
       "text": [
        "\r",
        "Frames 219 of 250 done"
       ]
      },
      {
       "output_type": "stream",
       "stream": "stdout",
       "text": [
        "\r",
        "Frames 220 of 250 done"
       ]
      },
      {
       "output_type": "stream",
       "stream": "stdout",
       "text": [
        "\r",
        "Frames 221 of 250 done"
       ]
      },
      {
       "output_type": "stream",
       "stream": "stdout",
       "text": [
        "\r",
        "Frames 222 of 250 done"
       ]
      },
      {
       "output_type": "stream",
       "stream": "stdout",
       "text": [
        "\r",
        "Frames 223 of 250 done"
       ]
      },
      {
       "output_type": "stream",
       "stream": "stdout",
       "text": [
        "\r",
        "Frames 224 of 250 done"
       ]
      },
      {
       "output_type": "stream",
       "stream": "stdout",
       "text": [
        "\r",
        "Frames 225 of 250 done"
       ]
      },
      {
       "output_type": "stream",
       "stream": "stdout",
       "text": [
        "\r",
        "Frames 226 of 250 done"
       ]
      },
      {
       "output_type": "stream",
       "stream": "stdout",
       "text": [
        "\r",
        "Frames 227 of 250 done"
       ]
      },
      {
       "output_type": "stream",
       "stream": "stdout",
       "text": [
        "\r",
        "Frames 228 of 250 done"
       ]
      },
      {
       "output_type": "stream",
       "stream": "stdout",
       "text": [
        "\r",
        "Frames 229 of 250 done"
       ]
      },
      {
       "output_type": "stream",
       "stream": "stdout",
       "text": [
        "\r",
        "Frames 230 of 250 done"
       ]
      },
      {
       "output_type": "stream",
       "stream": "stdout",
       "text": [
        "\r",
        "Frames 231 of 250 done"
       ]
      },
      {
       "output_type": "stream",
       "stream": "stdout",
       "text": [
        "\r",
        "Frames 232 of 250 done"
       ]
      },
      {
       "output_type": "stream",
       "stream": "stdout",
       "text": [
        "\r",
        "Frames 233 of 250 done"
       ]
      },
      {
       "output_type": "stream",
       "stream": "stdout",
       "text": [
        "\r",
        "Frames 234 of 250 done"
       ]
      },
      {
       "output_type": "stream",
       "stream": "stdout",
       "text": [
        "\r",
        "Frames 235 of 250 done"
       ]
      },
      {
       "output_type": "stream",
       "stream": "stdout",
       "text": [
        "\r",
        "Frames 236 of 250 done"
       ]
      },
      {
       "output_type": "stream",
       "stream": "stdout",
       "text": [
        "\r",
        "Frames 237 of 250 done"
       ]
      },
      {
       "output_type": "stream",
       "stream": "stdout",
       "text": [
        "\r",
        "Frames 238 of 250 done"
       ]
      },
      {
       "output_type": "stream",
       "stream": "stdout",
       "text": [
        "\r",
        "Frames 239 of 250 done"
       ]
      },
      {
       "output_type": "stream",
       "stream": "stdout",
       "text": [
        "\r",
        "Frames 240 of 250 done"
       ]
      },
      {
       "output_type": "stream",
       "stream": "stdout",
       "text": [
        "\r",
        "Frames 241 of 250 done"
       ]
      },
      {
       "output_type": "stream",
       "stream": "stdout",
       "text": [
        "\r",
        "Frames 242 of 250 done"
       ]
      },
      {
       "output_type": "stream",
       "stream": "stdout",
       "text": [
        "\r",
        "Frames 243 of 250 done"
       ]
      },
      {
       "output_type": "stream",
       "stream": "stdout",
       "text": [
        "\r",
        "Frames 244 of 250 done"
       ]
      },
      {
       "output_type": "stream",
       "stream": "stdout",
       "text": [
        "\r",
        "Frames 245 of 250 done"
       ]
      },
      {
       "output_type": "stream",
       "stream": "stdout",
       "text": [
        "\r",
        "Frames 246 of 250 done"
       ]
      },
      {
       "output_type": "stream",
       "stream": "stdout",
       "text": [
        "\r",
        "Frames 247 of 250 done"
       ]
      },
      {
       "output_type": "stream",
       "stream": "stdout",
       "text": [
        "\r",
        "Frames 248 of 250 done"
       ]
      },
      {
       "output_type": "stream",
       "stream": "stdout",
       "text": [
        "\r",
        "Frames 249 of 250 done"
       ]
      },
      {
       "output_type": "stream",
       "stream": "stdout",
       "text": [
        "\n",
        "computed bbox [  0 612] [ 719 1188] need 2484.864 MBs\n"
       ]
      },
      {
       "output_type": "stream",
       "stream": "stdout",
       "text": [
        "loaded frames, block i= 0\n"
       ]
      },
      {
       "output_type": "stream",
       "stream": "stdout",
       "text": [
        "computed distance (250, 250)\n"
       ]
      },
      {
       "output_type": "stream",
       "stream": "stdout",
       "text": [
        "done digger_right1 in 28.0652799606\n"
       ]
      },
      {
       "output_type": "stream",
       "stream": "stdout",
       "text": [
        "\n",
        "\n"
       ]
      }
     ],
     "prompt_number": 89
    },
    {
     "cell_type": "code",
     "collapsed": false,
     "input": [
      "memNeededPerFrame = np.prod(bottomRight-topLeft)*3*8/1000000.0#*len(sprite[DICT_BBOXES])\n",
      "maxMemToUse = 1000/2 #psutil.virtual_memory()[1]/1000000*0.5/2 ## use half of the available memory\n",
      "numFramesThatFit = np.round(maxMemToUse/memNeededPerFrame)\n",
      "numBlocks = int(np.ceil(numFrames/numFramesThatFit))\n",
      "print memNeededPerFrame, maxMemToUse\n",
      "print numFramesThatFit\n",
      "print numBlocks\n",
      "print numFrames/numBlocks"
     ],
     "language": "python",
     "metadata": {},
     "outputs": [
      {
       "output_type": "stream",
       "stream": "stdout",
       "text": [
        "9.939456 500\n",
        "50.0\n",
        "5\n",
        "50\n"
       ]
      }
     ],
     "prompt_number": 109
    },
    {
     "cell_type": "code",
     "collapsed": false,
     "input": [
      "# oneBlockDistMat = np.copy(distMat)\n",
      "print distMat.shape, oneBlockDistMat.shape\n",
      "print np.max(np.abs(distMat-oneBlockDistMat))\n",
      "gwv.showCustomGraph(np.abs(distMat-oneBlockDistMat))\n",
      "gwv.showCustomGraph(distMat)\n",
      "gwv.showCustomGraph(oneBlockDistMat)"
     ],
     "language": "python",
     "metadata": {},
     "outputs": [
      {
       "output_type": "stream",
       "stream": "stdout",
       "text": [
        "(250, 250) (250, 250)\n",
        "0.0\n"
       ]
      }
     ],
     "prompt_number": 123
    },
    {
     "cell_type": "code",
     "collapsed": false,
     "input": [
      "gwv.showCustomGraph(distMat)\n",
      "gwv.showCustomGraph(distMat/(numVisibile1.reshape((blockSize, 1)) + numVisibile1.reshape((1, blockSize))))\n",
      "# gwv.showCustomGraph(distMat/(dotOverlap+1.0))\n",
      "gwv.showCustomGraph(distMat/((2.0*dotOverlap)/(numVisibile1.reshape((blockSize, 1)) + numVisibile1.reshape((1, blockSize)))+0.01))\n",
      "# gwv.showCustomGraph(distMat/(cv2.filter2D(2.0*dotOverlap, -1, np.eye(4*2+1))/(numVisibile1.reshape((blockSize, 1)) + numVisibile1.reshape((1, blockSize)))+0.01))\n",
      "# print numVisibile1.shape"
     ],
     "language": "python",
     "metadata": {},
     "outputs": [],
     "prompt_number": 85
    },
    {
     "cell_type": "code",
     "collapsed": false,
     "input": [
      "gwv.showCustomGraph(np.load(\"/home/ilisescu/PhD/data/havana/bordeaux_car1-vanilla_distMat.npy\"))"
     ],
     "language": "python",
     "metadata": {},
     "outputs": [],
     "prompt_number": 81
    },
    {
     "cell_type": "code",
     "collapsed": false,
     "input": [
      "tmp = np.copy(renderedBBoxes.reshape((np.prod(renderedBBoxes.shape[0:2]), renderedBBoxes.shape[2])).T).astype(float)\n",
      "t = time.time()\n",
      "dotOverlap = np.dot(tmp, tmp.T)\n",
      "print time.time()-t"
     ],
     "language": "python",
     "metadata": {},
     "outputs": [
      {
       "output_type": "stream",
       "stream": "stdout",
       "text": [
        "8.28669309616\n"
       ]
      }
     ],
     "prompt_number": 69
    },
    {
     "cell_type": "code",
     "collapsed": false,
     "input": [
      "print dataPath+dataSet+sprite[DICT_SEQUENCE_NAME]+\"-new_overlap_norm_distMat.npy\"\n",
      "np.save(dataPath+dataSet+sprite[DICT_SEQUENCE_NAME]+\"-new_overlap_norm_distMat.npy\",\n",
      "        distMat/((2.0*dotOverlap)/(numVisibile1.reshape((blockSize, 1)) + numVisibile1.reshape((1, blockSize)))+0.01))"
     ],
     "language": "python",
     "metadata": {},
     "outputs": [
      {
       "output_type": "stream",
       "stream": "stdout",
       "text": [
        "/home/ilisescu/PhD/data/havana/bordeaux_car1-new_overlap_norm_distMat.npy\n"
       ]
      }
     ],
     "prompt_number": 72
    },
    {
     "cell_type": "code",
     "collapsed": false,
     "input": [
      "gwv.showCustomGraph(numVisibile1.reshape((blockSize, 1)) + numVisibile1.reshape((1, blockSize)))\n",
      "gwv.showCustomGraph(dotOverlap)\n",
      "gwv.showCustomGraph(distMat)\n",
      "gwv.showCustomGraph(distMat/(numVisibile1.reshape((blockSize, 1)) + numVisibile1.reshape((1, blockSize))))"
     ],
     "language": "python",
     "metadata": {},
     "outputs": [],
     "prompt_number": 41
    },
    {
     "cell_type": "code",
     "collapsed": false,
     "input": [
      "print dataPath+dataSet+sprite[DICT_SEQUENCE_NAME]+\"-num_overlapping_pixels.npy\"\n",
      "# np.save(dataPath+dataSet+sprite[DICT_SEQUENCE_NAME]+\"-num_overlapping_pixels.npy\", overlappingPixels)"
     ],
     "language": "python",
     "metadata": {},
     "outputs": [
      {
       "output_type": "stream",
       "stream": "stdout",
       "text": [
        "/home/ilisescu/PhD/data/havana/white_car1-num_overlapping_pixels.npy\n"
       ]
      }
     ],
     "prompt_number": 58
    },
    {
     "cell_type": "code",
     "collapsed": false,
     "input": [
      "# np.save(\"white_car1-ditMat-overlapp_normalization.npy\", distMat/(overlappingPixels+1.0))\n",
      "gwv.showCustomGraph(np.load(\"white_car1-ditMat-overlapp_normalization.npy\"))"
     ],
     "language": "python",
     "metadata": {},
     "outputs": [],
     "prompt_number": 62
    },
    {
     "cell_type": "code",
     "collapsed": false,
     "input": [
      "# gwv.showCustomGraph(renderedBBoxes[:, :, 1])\n",
      "startTime = time.time()\n",
      "overlappingPixels = np.zeros((renderedBBoxes.shape[-1], renderedBBoxes.shape[-1]))\n",
      "for i in arange(renderedBBoxes.shape[-1]) :\n",
      "    t = time.time()\n",
      "    for j in xrange(i+1, renderedBBoxes.shape[-1]) :\n",
      "        overlappingPixels[i, j] = len(np.argwhere(renderedBBoxes[:, :, i] & renderedBBoxes[:, :, j]))\n",
      "        overlappingPixels[j, i] = overlappingPixels[i, j]\n",
      "#     print \"done\", i, \"in\", time.time() - t\n",
      "    sys.stdout.write('\\r' + \"Done \" + np.string_(i) + \" in \" + np.string_(time.time() - t))\n",
      "    sys.stdout.flush()\n",
      "        \n",
      "overlappingPixels[arange(len(overlappingPixels)), arange(len(overlappingPixels))] = numVisibile1\n",
      "print \n",
      "print time.time() - startTime\n",
      "print renderedBBoxes.shape[-1]"
     ],
     "language": "python",
     "metadata": {},
     "outputs": [
      {
       "output_type": "stream",
       "stream": "stdout",
       "text": [
        "\r",
        "Done 0 in 8.30815005302"
       ]
      },
      {
       "output_type": "stream",
       "stream": "stdout",
       "text": [
        "\r",
        "Done 1 in 7.95512413979"
       ]
      },
      {
       "output_type": "stream",
       "stream": "stdout",
       "text": [
        "\r",
        "Done 2 in 7.82797503471"
       ]
      },
      {
       "output_type": "stream",
       "stream": "stdout",
       "text": [
        "\r",
        "Done 3 in 7.71334385872"
       ]
      },
      {
       "output_type": "stream",
       "stream": "stdout",
       "text": [
        "\r",
        "Done 4 in 7.71240377426"
       ]
      },
      {
       "output_type": "stream",
       "stream": "stdout",
       "text": [
        "\r",
        "Done 5 in 7.72346615791"
       ]
      },
      {
       "output_type": "stream",
       "stream": "stdout",
       "text": [
        "\r",
        "Done 6 in 7.69158697128"
       ]
      },
      {
       "output_type": "stream",
       "stream": "stdout",
       "text": [
        "\r",
        "Done 7 in 7.68491816521"
       ]
      },
      {
       "output_type": "stream",
       "stream": "stdout",
       "text": [
        "\r",
        "Done 8 in 7.72905302048"
       ]
      },
      {
       "output_type": "stream",
       "stream": "stdout",
       "text": [
        "\r",
        "Done 9 in 7.76595616341"
       ]
      },
      {
       "output_type": "stream",
       "stream": "stdout",
       "text": [
        "\r",
        "Done 10 in 7.71256995201"
       ]
      },
      {
       "output_type": "stream",
       "stream": "stdout",
       "text": [
        "\r",
        "Done 11 in 7.72567296028"
       ]
      },
      {
       "output_type": "stream",
       "stream": "stdout",
       "text": [
        "\r",
        "Done 12 in 7.69862508774"
       ]
      },
      {
       "output_type": "stream",
       "stream": "stdout",
       "text": [
        "\r",
        "Done 13 in 7.70102500916"
       ]
      },
      {
       "output_type": "stream",
       "stream": "stdout",
       "text": [
        "\r",
        "Done 14 in 7.70091986656"
       ]
      },
      {
       "output_type": "stream",
       "stream": "stdout",
       "text": [
        "\r",
        "Done 15 in 7.70885205269"
       ]
      },
      {
       "output_type": "stream",
       "stream": "stdout",
       "text": [
        "\r",
        "Done 16 in 7.69865703583"
       ]
      },
      {
       "output_type": "stream",
       "stream": "stdout",
       "text": [
        "\r",
        "Done 17 in 7.66384911537"
       ]
      },
      {
       "output_type": "stream",
       "stream": "stdout",
       "text": [
        "\r",
        "Done 18 in 7.60220599174"
       ]
      },
      {
       "output_type": "stream",
       "stream": "stdout",
       "text": [
        "\r",
        "Done 19 in 7.60676598549"
       ]
      },
      {
       "output_type": "stream",
       "stream": "stdout",
       "text": [
        "\r",
        "Done 20 in 7.59672689438"
       ]
      },
      {
       "output_type": "stream",
       "stream": "stdout",
       "text": [
        "\r",
        "Done 21 in 7.56945586205"
       ]
      },
      {
       "output_type": "stream",
       "stream": "stdout",
       "text": [
        "\r",
        "Done 22 in 7.58202505112"
       ]
      },
      {
       "output_type": "stream",
       "stream": "stdout",
       "text": [
        "\r",
        "Done 23 in 7.570291996"
       ]
      },
      {
       "output_type": "stream",
       "stream": "stdout",
       "text": [
        "\r",
        "Done 24 in 7.56022715569"
       ]
      },
      {
       "output_type": "stream",
       "stream": "stdout",
       "text": [
        "\r",
        "Done 25 in 7.57788205147"
       ]
      },
      {
       "output_type": "stream",
       "stream": "stdout",
       "text": [
        "\r",
        "Done 26 in 7.57449102402"
       ]
      },
      {
       "output_type": "stream",
       "stream": "stdout",
       "text": [
        "\r",
        "Done 27 in 7.57025504112"
       ]
      },
      {
       "output_type": "stream",
       "stream": "stdout",
       "text": [
        "\r",
        "Done 28 in 7.56594085693"
       ]
      },
      {
       "output_type": "stream",
       "stream": "stdout",
       "text": [
        "\r",
        "Done 29 in 7.68782401085"
       ]
      },
      {
       "output_type": "stream",
       "stream": "stdout",
       "text": [
        "\r",
        "Done 30 in 7.62763190269"
       ]
      },
      {
       "output_type": "stream",
       "stream": "stdout",
       "text": [
        "\r",
        "Done 31 in 7.52884292603"
       ]
      },
      {
       "output_type": "stream",
       "stream": "stdout",
       "text": [
        "\r",
        "Done 32 in 7.4627468586"
       ]
      },
      {
       "output_type": "stream",
       "stream": "stdout",
       "text": [
        "\r",
        "Done 33 in 7.53110980988"
       ]
      },
      {
       "output_type": "stream",
       "stream": "stdout",
       "text": [
        "\r",
        "Done 34 in 7.50309896469"
       ]
      },
      {
       "output_type": "stream",
       "stream": "stdout",
       "text": [
        "\r",
        "Done 35 in 7.54377794266"
       ]
      },
      {
       "output_type": "stream",
       "stream": "stdout",
       "text": [
        "\r",
        "Done 36 in 7.50948405266"
       ]
      },
      {
       "output_type": "stream",
       "stream": "stdout",
       "text": [
        "\r",
        "Done 37 in 7.4378721714"
       ]
      },
      {
       "output_type": "stream",
       "stream": "stdout",
       "text": [
        "\r",
        "Done 38 in 7.45093393326"
       ]
      },
      {
       "output_type": "stream",
       "stream": "stdout",
       "text": [
        "\r",
        "Done 39 in 7.45756196976"
       ]
      },
      {
       "output_type": "stream",
       "stream": "stdout",
       "text": [
        "\r",
        "Done 40 in 7.4666891098"
       ]
      },
      {
       "output_type": "stream",
       "stream": "stdout",
       "text": [
        "\r",
        "Done 41 in 7.4469730854"
       ]
      },
      {
       "output_type": "stream",
       "stream": "stdout",
       "text": [
        "\r",
        "Done 42 in 7.4233481884"
       ]
      },
      {
       "output_type": "stream",
       "stream": "stdout",
       "text": [
        "\r",
        "Done 43 in 7.37856698036"
       ]
      },
      {
       "output_type": "stream",
       "stream": "stdout",
       "text": [
        "\r",
        "Done 44 in 7.37275505066"
       ]
      },
      {
       "output_type": "stream",
       "stream": "stdout",
       "text": [
        "\r",
        "Done 45 in 7.35914683342"
       ]
      },
      {
       "output_type": "stream",
       "stream": "stdout",
       "text": [
        "\r",
        "Done 46 in 7.36062693596"
       ]
      },
      {
       "output_type": "stream",
       "stream": "stdout",
       "text": [
        "\r",
        "Done 47 in 7.34974598885"
       ]
      },
      {
       "output_type": "stream",
       "stream": "stdout",
       "text": [
        "\r",
        "Done 48 in 7.34478902817"
       ]
      },
      {
       "output_type": "stream",
       "stream": "stdout",
       "text": [
        "\r",
        "Done 49 in 7.35577893257"
       ]
      },
      {
       "output_type": "stream",
       "stream": "stdout",
       "text": [
        "\r",
        "Done 50 in 7.32775688171"
       ]
      },
      {
       "output_type": "stream",
       "stream": "stdout",
       "text": [
        "\r",
        "Done 51 in 7.3112680912"
       ]
      },
      {
       "output_type": "stream",
       "stream": "stdout",
       "text": [
        "\r",
        "Done 52 in 7.28520298004"
       ]
      },
      {
       "output_type": "stream",
       "stream": "stdout",
       "text": [
        "\r",
        "Done 53 in 7.29101681709"
       ]
      },
      {
       "output_type": "stream",
       "stream": "stdout",
       "text": [
        "\r",
        "Done 54 in 7.32053089142"
       ]
      },
      {
       "output_type": "stream",
       "stream": "stdout",
       "text": [
        "\r",
        "Done 55 in 7.29953217506"
       ]
      },
      {
       "output_type": "stream",
       "stream": "stdout",
       "text": [
        "\r",
        "Done 56 in 7.26147603989"
       ]
      },
      {
       "output_type": "stream",
       "stream": "stdout",
       "text": [
        "\r",
        "Done 57 in 7.28280997276"
       ]
      },
      {
       "output_type": "stream",
       "stream": "stdout",
       "text": [
        "\r",
        "Done 58 in 7.23851108551"
       ]
      },
      {
       "output_type": "stream",
       "stream": "stdout",
       "text": [
        "\r",
        "Done 59 in 7.25796318054"
       ]
      },
      {
       "output_type": "stream",
       "stream": "stdout",
       "text": [
        "\r",
        "Done 60 in 7.23359084129"
       ]
      },
      {
       "output_type": "stream",
       "stream": "stdout",
       "text": [
        "\r",
        "Done 61 in 7.23162698746"
       ]
      },
      {
       "output_type": "stream",
       "stream": "stdout",
       "text": [
        "\r",
        "Done 62 in 7.25805687904"
       ]
      },
      {
       "output_type": "stream",
       "stream": "stdout",
       "text": [
        "\r",
        "Done 63 in 7.18522405624"
       ]
      },
      {
       "output_type": "stream",
       "stream": "stdout",
       "text": [
        "\r",
        "Done 64 in 7.21641588211"
       ]
      },
      {
       "output_type": "stream",
       "stream": "stdout",
       "text": [
        "\r",
        "Done 65 in 7.18171000481"
       ]
      },
      {
       "output_type": "stream",
       "stream": "stdout",
       "text": [
        "\r",
        "Done 66 in 7.18464994431"
       ]
      },
      {
       "output_type": "stream",
       "stream": "stdout",
       "text": [
        "\r",
        "Done 67 in 7.18134689331"
       ]
      },
      {
       "output_type": "stream",
       "stream": "stdout",
       "text": [
        "\r",
        "Done 68 in 7.11105489731"
       ]
      },
      {
       "output_type": "stream",
       "stream": "stdout",
       "text": [
        "\r",
        "Done 69 in 7.15278911591"
       ]
      },
      {
       "output_type": "stream",
       "stream": "stdout",
       "text": [
        "\r",
        "Done 70 in 7.15363907814"
       ]
      },
      {
       "output_type": "stream",
       "stream": "stdout",
       "text": [
        "\r",
        "Done 71 in 7.17221498489"
       ]
      },
      {
       "output_type": "stream",
       "stream": "stdout",
       "text": [
        "\r",
        "Done 72 in 7.12595295906"
       ]
      },
      {
       "output_type": "stream",
       "stream": "stdout",
       "text": [
        "\r",
        "Done 73 in 7.0932431221"
       ]
      },
      {
       "output_type": "stream",
       "stream": "stdout",
       "text": [
        "\r",
        "Done 74 in 7.12597179413"
       ]
      },
      {
       "output_type": "stream",
       "stream": "stdout",
       "text": [
        "\r",
        "Done 75 in 7.08336997032"
       ]
      },
      {
       "output_type": "stream",
       "stream": "stdout",
       "text": [
        "\r",
        "Done 76 in 7.09707307816"
       ]
      },
      {
       "output_type": "stream",
       "stream": "stdout",
       "text": [
        "\r",
        "Done 77 in 7.0656452179"
       ]
      },
      {
       "output_type": "stream",
       "stream": "stdout",
       "text": [
        "\r",
        "Done 78 in 7.0804669857"
       ]
      },
      {
       "output_type": "stream",
       "stream": "stdout",
       "text": [
        "\r",
        "Done 79 in 7.07094788551"
       ]
      },
      {
       "output_type": "stream",
       "stream": "stdout",
       "text": [
        "\r",
        "Done 80 in 7.02423405647"
       ]
      },
      {
       "output_type": "stream",
       "stream": "stdout",
       "text": [
        "\r",
        "Done 81 in 7.02734208107"
       ]
      },
      {
       "output_type": "stream",
       "stream": "stdout",
       "text": [
        "\r",
        "Done 82 in 7.04257488251"
       ]
      },
      {
       "output_type": "stream",
       "stream": "stdout",
       "text": [
        "\r",
        "Done 83 in 7.02554893494"
       ]
      },
      {
       "output_type": "stream",
       "stream": "stdout",
       "text": [
        "\r",
        "Done 84 in 7.01394987106"
       ]
      },
      {
       "output_type": "stream",
       "stream": "stdout",
       "text": [
        "\r",
        "Done 85 in 6.9669649601"
       ]
      },
      {
       "output_type": "stream",
       "stream": "stdout",
       "text": [
        "\r",
        "Done 86 in 7.04719495773"
       ]
      },
      {
       "output_type": "stream",
       "stream": "stdout",
       "text": [
        "\r",
        "Done 87 in 7.02955198288"
       ]
      },
      {
       "output_type": "stream",
       "stream": "stdout",
       "text": [
        "\r",
        "Done 88 in 7.0196211338"
       ]
      },
      {
       "output_type": "stream",
       "stream": "stdout",
       "text": [
        "\r",
        "Done 89 in 7.01459598541"
       ]
      },
      {
       "output_type": "stream",
       "stream": "stdout",
       "text": [
        "\r",
        "Done 90 in 7.02787709236"
       ]
      },
      {
       "output_type": "stream",
       "stream": "stdout",
       "text": [
        "\r",
        "Done 91 in 7.02849197388"
       ]
      },
      {
       "output_type": "stream",
       "stream": "stdout",
       "text": [
        "\r",
        "Done 92 in 6.99251198769"
       ]
      },
      {
       "output_type": "stream",
       "stream": "stdout",
       "text": [
        "\r",
        "Done 93 in 6.99902296066"
       ]
      },
      {
       "output_type": "stream",
       "stream": "stdout",
       "text": [
        "\r",
        "Done 94 in 6.95841503143"
       ]
      },
      {
       "output_type": "stream",
       "stream": "stdout",
       "text": [
        "\r",
        "Done 95 in 6.97051596642"
       ]
      },
      {
       "output_type": "stream",
       "stream": "stdout",
       "text": [
        "\r",
        "Done 96 in 6.96417284012"
       ]
      },
      {
       "output_type": "stream",
       "stream": "stdout",
       "text": [
        "\r",
        "Done 97 in 6.90761494637"
       ]
      },
      {
       "output_type": "stream",
       "stream": "stdout",
       "text": [
        "\r",
        "Done 98 in 6.93505907059"
       ]
      },
      {
       "output_type": "stream",
       "stream": "stdout",
       "text": [
        "\r",
        "Done 99 in 6.91908597946"
       ]
      },
      {
       "output_type": "stream",
       "stream": "stdout",
       "text": [
        "\r",
        "Done 100 in 6.8830769062"
       ]
      },
      {
       "output_type": "stream",
       "stream": "stdout",
       "text": [
        "\r",
        "Done 101 in 6.86611199379"
       ]
      },
      {
       "output_type": "stream",
       "stream": "stdout",
       "text": [
        "\r",
        "Done 102 in 6.8831589222"
       ]
      },
      {
       "output_type": "stream",
       "stream": "stdout",
       "text": [
        "\r",
        "Done 103 in 6.91240501404"
       ]
      },
      {
       "output_type": "stream",
       "stream": "stdout",
       "text": [
        "\r",
        "Done 104 in 6.88688492775"
       ]
      },
      {
       "output_type": "stream",
       "stream": "stdout",
       "text": [
        "\r",
        "Done 105 in 6.86128902435"
       ]
      },
      {
       "output_type": "stream",
       "stream": "stdout",
       "text": [
        "\r",
        "Done 106 in 6.85786008835"
       ]
      },
      {
       "output_type": "stream",
       "stream": "stdout",
       "text": [
        "\r",
        "Done 107 in 6.8777179718"
       ]
      },
      {
       "output_type": "stream",
       "stream": "stdout",
       "text": [
        "\r",
        "Done 108 in 6.82934904099"
       ]
      },
      {
       "output_type": "stream",
       "stream": "stdout",
       "text": [
        "\r",
        "Done 109 in 6.83111190796"
       ]
      },
      {
       "output_type": "stream",
       "stream": "stdout",
       "text": [
        "\r",
        "Done 110 in 6.81336212158"
       ]
      },
      {
       "output_type": "stream",
       "stream": "stdout",
       "text": [
        "\r",
        "Done 111 in 6.76932406425"
       ]
      },
      {
       "output_type": "stream",
       "stream": "stdout",
       "text": [
        "\r",
        "Done 112 in 6.81904697418"
       ]
      },
      {
       "output_type": "stream",
       "stream": "stdout",
       "text": [
        "\r",
        "Done 113 in 6.7877831459"
       ]
      },
      {
       "output_type": "stream",
       "stream": "stdout",
       "text": [
        "\r",
        "Done 114 in 6.81106805801"
       ]
      },
      {
       "output_type": "stream",
       "stream": "stdout",
       "text": [
        "\r",
        "Done 115 in 6.7891740799"
       ]
      },
      {
       "output_type": "stream",
       "stream": "stdout",
       "text": [
        "\r",
        "Done 116 in 6.75435686111"
       ]
      },
      {
       "output_type": "stream",
       "stream": "stdout",
       "text": [
        "\r",
        "Done 117 in 6.77411103249"
       ]
      },
      {
       "output_type": "stream",
       "stream": "stdout",
       "text": [
        "\r",
        "Done 118 in 6.73197698593"
       ]
      },
      {
       "output_type": "stream",
       "stream": "stdout",
       "text": [
        "\r",
        "Done 119 in 6.76018095016"
       ]
      },
      {
       "output_type": "stream",
       "stream": "stdout",
       "text": [
        "\r",
        "Done 120 in 6.73285603523"
       ]
      },
      {
       "output_type": "stream",
       "stream": "stdout",
       "text": [
        "\r",
        "Done 121 in 6.71750712395"
       ]
      },
      {
       "output_type": "stream",
       "stream": "stdout",
       "text": [
        "\r",
        "Done 122 in 6.71217513084"
       ]
      },
      {
       "output_type": "stream",
       "stream": "stdout",
       "text": [
        "\r",
        "Done 123 in 6.89012002945"
       ]
      },
      {
       "output_type": "stream",
       "stream": "stdout",
       "text": [
        "\r",
        "Done 124 in 7.00840616226"
       ]
      },
      {
       "output_type": "stream",
       "stream": "stdout",
       "text": [
        "\r",
        "Done 125 in 6.99714493752"
       ]
      },
      {
       "output_type": "stream",
       "stream": "stdout",
       "text": [
        "\r",
        "Done 126 in 6.98969197273"
       ]
      },
      {
       "output_type": "stream",
       "stream": "stdout",
       "text": [
        "\r",
        "Done 127 in 7.00454497337"
       ]
      },
      {
       "output_type": "stream",
       "stream": "stdout",
       "text": [
        "\r",
        "Done 128 in 6.94799685478"
       ]
      },
      {
       "output_type": "stream",
       "stream": "stdout",
       "text": [
        "\r",
        "Done 129 in 6.96012687683"
       ]
      },
      {
       "output_type": "stream",
       "stream": "stdout",
       "text": [
        "\r",
        "Done 130 in 6.96032214165"
       ]
      },
      {
       "output_type": "stream",
       "stream": "stdout",
       "text": [
        "\r",
        "Done 131 in 6.91891598701"
       ]
      },
      {
       "output_type": "stream",
       "stream": "stdout",
       "text": [
        "\r",
        "Done 132 in 6.84749102592"
       ]
      },
      {
       "output_type": "stream",
       "stream": "stdout",
       "text": [
        "\r",
        "Done 133 in 6.88018107414"
       ]
      },
      {
       "output_type": "stream",
       "stream": "stdout",
       "text": [
        "\r",
        "Done 134 in 6.89214992523"
       ]
      },
      {
       "output_type": "stream",
       "stream": "stdout",
       "text": [
        "\r",
        "Done 135 in 6.87053799629"
       ]
      },
      {
       "output_type": "stream",
       "stream": "stdout",
       "text": [
        "\r",
        "Done 136 in 6.83976602554"
       ]
      },
      {
       "output_type": "stream",
       "stream": "stdout",
       "text": [
        "\r",
        "Done 137 in 6.85318589211"
       ]
      },
      {
       "output_type": "stream",
       "stream": "stdout",
       "text": [
        "\r",
        "Done 138 in 6.86900806427"
       ]
      },
      {
       "output_type": "stream",
       "stream": "stdout",
       "text": [
        "\r",
        "Done 139 in 6.80704808235"
       ]
      },
      {
       "output_type": "stream",
       "stream": "stdout",
       "text": [
        "\r",
        "Done 140 in 6.8449139595"
       ]
      },
      {
       "output_type": "stream",
       "stream": "stdout",
       "text": [
        "\r",
        "Done 141 in 6.85277485847"
       ]
      },
      {
       "output_type": "stream",
       "stream": "stdout",
       "text": [
        "\r",
        "Done 142 in 6.8163819313"
       ]
      },
      {
       "output_type": "stream",
       "stream": "stdout",
       "text": [
        "\r",
        "Done 143 in 6.83119487762"
       ]
      },
      {
       "output_type": "stream",
       "stream": "stdout",
       "text": [
        "\r",
        "Done 144 in 6.78159117699"
       ]
      },
      {
       "output_type": "stream",
       "stream": "stdout",
       "text": [
        "\r",
        "Done 145 in 6.81200504303"
       ]
      },
      {
       "output_type": "stream",
       "stream": "stdout",
       "text": [
        "\r",
        "Done 146 in 6.76155209541"
       ]
      },
      {
       "output_type": "stream",
       "stream": "stdout",
       "text": [
        "\r",
        "Done 147 in 6.78488898277"
       ]
      },
      {
       "output_type": "stream",
       "stream": "stdout",
       "text": [
        "\r",
        "Done 148 in 6.70339822769"
       ]
      },
      {
       "output_type": "stream",
       "stream": "stdout",
       "text": [
        "\r",
        "Done 149 in 6.73852396011"
       ]
      },
      {
       "output_type": "stream",
       "stream": "stdout",
       "text": [
        "\r",
        "Done 150 in 6.70573997498"
       ]
      },
      {
       "output_type": "stream",
       "stream": "stdout",
       "text": [
        "\r",
        "Done 151 in 6.78261399269"
       ]
      },
      {
       "output_type": "stream",
       "stream": "stdout",
       "text": [
        "\r",
        "Done 152 in 6.7298810482"
       ]
      },
      {
       "output_type": "stream",
       "stream": "stdout",
       "text": [
        "\r",
        "Done 153 in 6.66230607033"
       ]
      },
      {
       "output_type": "stream",
       "stream": "stdout",
       "text": [
        "\r",
        "Done 154 in 6.75745010376"
       ]
      },
      {
       "output_type": "stream",
       "stream": "stdout",
       "text": [
        "\r",
        "Done 155 in 6.69033098221"
       ]
      },
      {
       "output_type": "stream",
       "stream": "stdout",
       "text": [
        "\r",
        "Done 156 in 6.69150304794"
       ]
      },
      {
       "output_type": "stream",
       "stream": "stdout",
       "text": [
        "\r",
        "Done 157 in 6.67688584328"
       ]
      },
      {
       "output_type": "stream",
       "stream": "stdout",
       "text": [
        "\r",
        "Done 158 in 6.65670394897"
       ]
      },
      {
       "output_type": "stream",
       "stream": "stdout",
       "text": [
        "\r",
        "Done 159 in 6.63505601883"
       ]
      },
      {
       "output_type": "stream",
       "stream": "stdout",
       "text": [
        "\r",
        "Done 160 in 6.61149501801"
       ]
      },
      {
       "output_type": "stream",
       "stream": "stdout",
       "text": [
        "\r",
        "Done 161 in 6.64848399162"
       ]
      },
      {
       "output_type": "stream",
       "stream": "stdout",
       "text": [
        "\r",
        "Done 162 in 6.60787892342"
       ]
      },
      {
       "output_type": "stream",
       "stream": "stdout",
       "text": [
        "\r",
        "Done 163 in 6.65165686607"
       ]
      },
      {
       "output_type": "stream",
       "stream": "stdout",
       "text": [
        "\r",
        "Done 164 in 6.58492398262"
       ]
      },
      {
       "output_type": "stream",
       "stream": "stdout",
       "text": [
        "\r",
        "Done 165 in 6.63943886757"
       ]
      },
      {
       "output_type": "stream",
       "stream": "stdout",
       "text": [
        "\r",
        "Done 166 in 6.58854007721"
       ]
      },
      {
       "output_type": "stream",
       "stream": "stdout",
       "text": [
        "\r",
        "Done 167 in 6.57187891006"
       ]
      },
      {
       "output_type": "stream",
       "stream": "stdout",
       "text": [
        "\r",
        "Done 168 in 6.53747701645"
       ]
      },
      {
       "output_type": "stream",
       "stream": "stdout",
       "text": [
        "\r",
        "Done 169 in 6.53653717041"
       ]
      },
      {
       "output_type": "stream",
       "stream": "stdout",
       "text": [
        "\r",
        "Done 170 in 6.51211500168"
       ]
      },
      {
       "output_type": "stream",
       "stream": "stdout",
       "text": [
        "\r",
        "Done 171 in 6.55718278885"
       ]
      },
      {
       "output_type": "stream",
       "stream": "stdout",
       "text": [
        "\r",
        "Done 172 in 6.53481817245"
       ]
      },
      {
       "output_type": "stream",
       "stream": "stdout",
       "text": [
        "\r",
        "Done 173 in 6.49197387695"
       ]
      },
      {
       "output_type": "stream",
       "stream": "stdout",
       "text": [
        "\r",
        "Done 174 in 6.49789690971"
       ]
      },
      {
       "output_type": "stream",
       "stream": "stdout",
       "text": [
        "\r",
        "Done 175 in 6.44638299942"
       ]
      },
      {
       "output_type": "stream",
       "stream": "stdout",
       "text": [
        "\r",
        "Done 176 in 6.47012281418"
       ]
      },
      {
       "output_type": "stream",
       "stream": "stdout",
       "text": [
        "\r",
        "Done 177 in 6.44981718063"
       ]
      },
      {
       "output_type": "stream",
       "stream": "stdout",
       "text": [
        "\r",
        "Done 178 in 6.45364809036"
       ]
      },
      {
       "output_type": "stream",
       "stream": "stdout",
       "text": [
        "\r",
        "Done 179 in 6.50133800507"
       ]
      },
      {
       "output_type": "stream",
       "stream": "stdout",
       "text": [
        "\r",
        "Done 180 in 6.41824197769"
       ]
      },
      {
       "output_type": "stream",
       "stream": "stdout",
       "text": [
        "\r",
        "Done 181 in 6.40574288368"
       ]
      },
      {
       "output_type": "stream",
       "stream": "stdout",
       "text": [
        "\r",
        "Done 182 in 6.42290902138"
       ]
      },
      {
       "output_type": "stream",
       "stream": "stdout",
       "text": [
        "\r",
        "Done 183 in 6.42154216766"
       ]
      },
      {
       "output_type": "stream",
       "stream": "stdout",
       "text": [
        "\r",
        "Done 184 in 6.41920089722"
       ]
      },
      {
       "output_type": "stream",
       "stream": "stdout",
       "text": [
        "\r",
        "Done 185 in 6.35454511642"
       ]
      },
      {
       "output_type": "stream",
       "stream": "stdout",
       "text": [
        "\r",
        "Done 186 in 6.32943892479"
       ]
      },
      {
       "output_type": "stream",
       "stream": "stdout",
       "text": [
        "\r",
        "Done 187 in 6.41852593422"
       ]
      },
      {
       "output_type": "stream",
       "stream": "stdout",
       "text": [
        "\r",
        "Done 188 in 6.33515000343"
       ]
      },
      {
       "output_type": "stream",
       "stream": "stdout",
       "text": [
        "\r",
        "Done 189 in 6.36367917061"
       ]
      },
      {
       "output_type": "stream",
       "stream": "stdout",
       "text": [
        "\r",
        "Done 190 in 6.30079317093"
       ]
      },
      {
       "output_type": "stream",
       "stream": "stdout",
       "text": [
        "\r",
        "Done 191 in 6.39288520813"
       ]
      },
      {
       "output_type": "stream",
       "stream": "stdout",
       "text": [
        "\r",
        "Done 192 in 6.30837607384"
       ]
      },
      {
       "output_type": "stream",
       "stream": "stdout",
       "text": [
        "\r",
        "Done 193 in 6.2979259491"
       ]
      },
      {
       "output_type": "stream",
       "stream": "stdout",
       "text": [
        "\r",
        "Done 194 in 6.32862186432"
       ]
      },
      {
       "output_type": "stream",
       "stream": "stdout",
       "text": [
        "\r",
        "Done 195 in 6.25835800171"
       ]
      },
      {
       "output_type": "stream",
       "stream": "stdout",
       "text": [
        "\r",
        "Done 196 in 6.30411195755"
       ]
      },
      {
       "output_type": "stream",
       "stream": "stdout",
       "text": [
        "\r",
        "Done 197 in 6.25518584251"
       ]
      },
      {
       "output_type": "stream",
       "stream": "stdout",
       "text": [
        "\r",
        "Done 198 in 6.21452093124"
       ]
      },
      {
       "output_type": "stream",
       "stream": "stdout",
       "text": [
        "\r",
        "Done 199 in 6.3090569973"
       ]
      },
      {
       "output_type": "stream",
       "stream": "stdout",
       "text": [
        "\r",
        "Done 200 in 6.21531701088"
       ]
      },
      {
       "output_type": "stream",
       "stream": "stdout",
       "text": [
        "\r",
        "Done 201 in 6.26886606216"
       ]
      },
      {
       "output_type": "stream",
       "stream": "stdout",
       "text": [
        "\r",
        "Done 202 in 6.23576593399"
       ]
      },
      {
       "output_type": "stream",
       "stream": "stdout",
       "text": [
        "\r",
        "Done 203 in 6.24280810356"
       ]
      },
      {
       "output_type": "stream",
       "stream": "stdout",
       "text": [
        "\r",
        "Done 204 in 6.17111492157"
       ]
      },
      {
       "output_type": "stream",
       "stream": "stdout",
       "text": [
        "\r",
        "Done 205 in 6.16744995117"
       ]
      },
      {
       "output_type": "stream",
       "stream": "stdout",
       "text": [
        "\r",
        "Done 206 in 6.19802284241"
       ]
      },
      {
       "output_type": "stream",
       "stream": "stdout",
       "text": [
        "\r",
        "Done 207 in 6.13142490387"
       ]
      },
      {
       "output_type": "stream",
       "stream": "stdout",
       "text": [
        "\r",
        "Done 208 in 6.16430401802"
       ]
      },
      {
       "output_type": "stream",
       "stream": "stdout",
       "text": [
        "\r",
        "Done 209 in 6.13382411003"
       ]
      },
      {
       "output_type": "stream",
       "stream": "stdout",
       "text": [
        "\r",
        "Done 210 in 6.13916301727"
       ]
      },
      {
       "output_type": "stream",
       "stream": "stdout",
       "text": [
        "\r",
        "Done 211 in 6.12745404243"
       ]
      },
      {
       "output_type": "stream",
       "stream": "stdout",
       "text": [
        "\r",
        "Done 212 in 6.1038339138"
       ]
      },
      {
       "output_type": "stream",
       "stream": "stdout",
       "text": [
        "\r",
        "Done 213 in 6.08500504494"
       ]
      },
      {
       "output_type": "stream",
       "stream": "stdout",
       "text": [
        "\r",
        "Done 214 in 6.11968994141"
       ]
      },
      {
       "output_type": "stream",
       "stream": "stdout",
       "text": [
        "\r",
        "Done 215 in 6.06919288635"
       ]
      },
      {
       "output_type": "stream",
       "stream": "stdout",
       "text": [
        "\r",
        "Done 216 in 6.0760550499"
       ]
      },
      {
       "output_type": "stream",
       "stream": "stdout",
       "text": [
        "\r",
        "Done 217 in 6.05736494064"
       ]
      },
      {
       "output_type": "stream",
       "stream": "stdout",
       "text": [
        "\r",
        "Done 218 in 6.10433197021"
       ]
      },
      {
       "output_type": "stream",
       "stream": "stdout",
       "text": [
        "\r",
        "Done 219 in 6.00436091423"
       ]
      },
      {
       "output_type": "stream",
       "stream": "stdout",
       "text": [
        "\r",
        "Done 220 in 6.01867604256"
       ]
      },
      {
       "output_type": "stream",
       "stream": "stdout",
       "text": [
        "\r",
        "Done 221 in 6.01726794243"
       ]
      },
      {
       "output_type": "stream",
       "stream": "stdout",
       "text": [
        "\r",
        "Done 222 in 6.02365398407"
       ]
      },
      {
       "output_type": "stream",
       "stream": "stdout",
       "text": [
        "\r",
        "Done 223 in 5.97909283638"
       ]
      },
      {
       "output_type": "stream",
       "stream": "stdout",
       "text": [
        "\r",
        "Done 224 in 6.02008199692"
       ]
      },
      {
       "output_type": "stream",
       "stream": "stdout",
       "text": [
        "\r",
        "Done 225 in 5.97475504875"
       ]
      },
      {
       "output_type": "stream",
       "stream": "stdout",
       "text": [
        "\r",
        "Done 226 in 6.01468491554"
       ]
      },
      {
       "output_type": "stream",
       "stream": "stdout",
       "text": [
        "\r",
        "Done 227 in 5.95104312897"
       ]
      },
      {
       "output_type": "stream",
       "stream": "stdout",
       "text": [
        "\r",
        "Done 228 in 5.94921898842"
       ]
      },
      {
       "output_type": "stream",
       "stream": "stdout",
       "text": [
        "\r",
        "Done 229 in 5.9484629631"
       ]
      },
      {
       "output_type": "stream",
       "stream": "stdout",
       "text": [
        "\r",
        "Done 230 in 6.00364208221"
       ]
      },
      {
       "output_type": "stream",
       "stream": "stdout",
       "text": [
        "\r",
        "Done 231 in 5.90426087379"
       ]
      },
      {
       "output_type": "stream",
       "stream": "stdout",
       "text": [
        "\r",
        "Done 232 in 5.95495605469"
       ]
      },
      {
       "output_type": "stream",
       "stream": "stdout",
       "text": [
        "\r",
        "Done 233 in 5.88338494301"
       ]
      },
      {
       "output_type": "stream",
       "stream": "stdout",
       "text": [
        "\r",
        "Done 234 in 5.907143116"
       ]
      },
      {
       "output_type": "stream",
       "stream": "stdout",
       "text": [
        "\r",
        "Done 235 in 5.86863708496"
       ]
      },
      {
       "output_type": "stream",
       "stream": "stdout",
       "text": [
        "\r",
        "Done 236 in 5.89987397194"
       ]
      },
      {
       "output_type": "stream",
       "stream": "stdout",
       "text": [
        "\r",
        "Done 237 in 5.86263513565"
       ]
      },
      {
       "output_type": "stream",
       "stream": "stdout",
       "text": [
        "\r",
        "Done 238 in 5.85837888718"
       ]
      },
      {
       "output_type": "stream",
       "stream": "stdout",
       "text": [
        "\r",
        "Done 239 in 5.87135791779"
       ]
      },
      {
       "output_type": "stream",
       "stream": "stdout",
       "text": [
        "\r",
        "Done 240 in 5.87943983078"
       ]
      },
      {
       "output_type": "stream",
       "stream": "stdout",
       "text": [
        "\r",
        "Done 241 in 5.78527498245"
       ]
      },
      {
       "output_type": "stream",
       "stream": "stdout",
       "text": [
        "\r",
        "Done 242 in 5.77412390709"
       ]
      },
      {
       "output_type": "stream",
       "stream": "stdout",
       "text": [
        "\r",
        "Done 243 in 5.79696297646"
       ]
      },
      {
       "output_type": "stream",
       "stream": "stdout",
       "text": [
        "\r",
        "Done 244 in 5.77082800865"
       ]
      },
      {
       "output_type": "stream",
       "stream": "stdout",
       "text": [
        "\r",
        "Done 245 in 5.80399990082"
       ]
      },
      {
       "output_type": "stream",
       "stream": "stdout",
       "text": [
        "\r",
        "Done 246 in 5.79359602928"
       ]
      },
      {
       "output_type": "stream",
       "stream": "stdout",
       "text": [
        "\r",
        "Done 247 in 5.82033014297"
       ]
      },
      {
       "output_type": "stream",
       "stream": "stdout",
       "text": [
        "\r",
        "Done 248 in 5.76671600342"
       ]
      },
      {
       "output_type": "stream",
       "stream": "stdout",
       "text": [
        "\r",
        "Done 249 in 5.80093002319"
       ]
      },
      {
       "output_type": "stream",
       "stream": "stdout",
       "text": [
        "\r",
        "Done 250 in 5.76110911369"
       ]
      },
      {
       "output_type": "stream",
       "stream": "stdout",
       "text": [
        "\r",
        "Done 251 in 5.7755959034"
       ]
      },
      {
       "output_type": "stream",
       "stream": "stdout",
       "text": [
        "\r",
        "Done 252 in 5.71124219894"
       ]
      },
      {
       "output_type": "stream",
       "stream": "stdout",
       "text": [
        "\r",
        "Done 253 in 5.73638892174"
       ]
      },
      {
       "output_type": "stream",
       "stream": "stdout",
       "text": [
        "\r",
        "Done 254 in 5.69364309311"
       ]
      },
      {
       "output_type": "stream",
       "stream": "stdout",
       "text": [
        "\r",
        "Done 255 in 5.68594503403"
       ]
      },
      {
       "output_type": "stream",
       "stream": "stdout",
       "text": [
        "\r",
        "Done 256 in 5.65956020355"
       ]
      },
      {
       "output_type": "stream",
       "stream": "stdout",
       "text": [
        "\r",
        "Done 257 in 5.65779495239"
       ]
      },
      {
       "output_type": "stream",
       "stream": "stdout",
       "text": [
        "\r",
        "Done 258 in 5.63108897209"
       ]
      },
      {
       "output_type": "stream",
       "stream": "stdout",
       "text": [
        "\r",
        "Done 259 in 5.67158794403"
       ]
      },
      {
       "output_type": "stream",
       "stream": "stdout",
       "text": [
        "\r",
        "Done 260 in 5.6418390274"
       ]
      },
      {
       "output_type": "stream",
       "stream": "stdout",
       "text": [
        "\r",
        "Done 261 in 5.67852711678"
       ]
      },
      {
       "output_type": "stream",
       "stream": "stdout",
       "text": [
        "\r",
        "Done 262 in 5.61771297455"
       ]
      },
      {
       "output_type": "stream",
       "stream": "stdout",
       "text": [
        "\r",
        "Done 263 in 5.63474488258"
       ]
      },
      {
       "output_type": "stream",
       "stream": "stdout",
       "text": [
        "\r",
        "Done 264 in 5.63293194771"
       ]
      },
      {
       "output_type": "stream",
       "stream": "stdout",
       "text": [
        "\r",
        "Done 265 in 5.59007000923"
       ]
      },
      {
       "output_type": "stream",
       "stream": "stdout",
       "text": [
        "\r",
        "Done 266 in 5.57186889648"
       ]
      },
      {
       "output_type": "stream",
       "stream": "stdout",
       "text": [
        "\r",
        "Done 267 in 5.5629529953"
       ]
      },
      {
       "output_type": "stream",
       "stream": "stdout",
       "text": [
        "\r",
        "Done 268 in 5.52497386932"
       ]
      },
      {
       "output_type": "stream",
       "stream": "stdout",
       "text": [
        "\r",
        "Done 269 in 5.54179310799"
       ]
      },
      {
       "output_type": "stream",
       "stream": "stdout",
       "text": [
        "\r",
        "Done 270 in 5.53227305412"
       ]
      },
      {
       "output_type": "stream",
       "stream": "stdout",
       "text": [
        "\r",
        "Done 271 in 5.54657196999"
       ]
      },
      {
       "output_type": "stream",
       "stream": "stdout",
       "text": [
        "\r",
        "Done 272 in 5.54455685616"
       ]
      },
      {
       "output_type": "stream",
       "stream": "stdout",
       "text": [
        "\r",
        "Done 273 in 5.51163887978"
       ]
      },
      {
       "output_type": "stream",
       "stream": "stdout",
       "text": [
        "\r",
        "Done 274 in 5.51566910744"
       ]
      },
      {
       "output_type": "stream",
       "stream": "stdout",
       "text": [
        "\r",
        "Done 275 in 5.48439908028"
       ]
      },
      {
       "output_type": "stream",
       "stream": "stdout",
       "text": [
        "\r",
        "Done 276 in 5.47442698479"
       ]
      },
      {
       "output_type": "stream",
       "stream": "stdout",
       "text": [
        "\r",
        "Done 277 in 5.47543001175"
       ]
      },
      {
       "output_type": "stream",
       "stream": "stdout",
       "text": [
        "\r",
        "Done 278 in 5.45424199104"
       ]
      },
      {
       "output_type": "stream",
       "stream": "stdout",
       "text": [
        "\r",
        "Done 279 in 5.49968194962"
       ]
      },
      {
       "output_type": "stream",
       "stream": "stdout",
       "text": [
        "\r",
        "Done 280 in 5.43537402153"
       ]
      },
      {
       "output_type": "stream",
       "stream": "stdout",
       "text": [
        "\r",
        "Done 281 in 5.46270990372"
       ]
      },
      {
       "output_type": "stream",
       "stream": "stdout",
       "text": [
        "\r",
        "Done 282 in 5.47561097145"
       ]
      },
      {
       "output_type": "stream",
       "stream": "stdout",
       "text": [
        "\r",
        "Done 283 in 5.42253804207"
       ]
      },
      {
       "output_type": "stream",
       "stream": "stdout",
       "text": [
        "\r",
        "Done 284 in 5.39706707001"
       ]
      },
      {
       "output_type": "stream",
       "stream": "stdout",
       "text": [
        "\r",
        "Done 285 in 5.42829203606"
       ]
      },
      {
       "output_type": "stream",
       "stream": "stdout",
       "text": [
        "\r",
        "Done 286 in 5.34754180908"
       ]
      },
      {
       "output_type": "stream",
       "stream": "stdout",
       "text": [
        "\r",
        "Done 287 in 5.36957406998"
       ]
      },
      {
       "output_type": "stream",
       "stream": "stdout",
       "text": [
        "\r",
        "Done 288 in 5.37563586235"
       ]
      },
      {
       "output_type": "stream",
       "stream": "stdout",
       "text": [
        "\r",
        "Done 289 in 5.3544678688"
       ]
      },
      {
       "output_type": "stream",
       "stream": "stdout",
       "text": [
        "\r",
        "Done 290 in 5.37046217918"
       ]
      },
      {
       "output_type": "stream",
       "stream": "stdout",
       "text": [
        "\r",
        "Done 291 in 5.34729480743"
       ]
      },
      {
       "output_type": "stream",
       "stream": "stdout",
       "text": [
        "\r",
        "Done 292 in 5.29586291313"
       ]
      },
      {
       "output_type": "stream",
       "stream": "stdout",
       "text": [
        "\r",
        "Done 293 in 5.28081583977"
       ]
      },
      {
       "output_type": "stream",
       "stream": "stdout",
       "text": [
        "\r",
        "Done 294 in 5.32053804398"
       ]
      },
      {
       "output_type": "stream",
       "stream": "stdout",
       "text": [
        "\r",
        "Done 295 in 5.29449892044"
       ]
      },
      {
       "output_type": "stream",
       "stream": "stdout",
       "text": [
        "\r",
        "Done 296 in 5.28906297684"
       ]
      },
      {
       "output_type": "stream",
       "stream": "stdout",
       "text": [
        "\r",
        "Done 297 in 5.2957470417"
       ]
      },
      {
       "output_type": "stream",
       "stream": "stdout",
       "text": [
        "\r",
        "Done 298 in 5.26639389992"
       ]
      },
      {
       "output_type": "stream",
       "stream": "stdout",
       "text": [
        "\r",
        "Done 299 in 5.24807095528"
       ]
      },
      {
       "output_type": "stream",
       "stream": "stdout",
       "text": [
        "\r",
        "Done 300 in 5.23692107201"
       ]
      },
      {
       "output_type": "stream",
       "stream": "stdout",
       "text": [
        "\r",
        "Done 301 in 5.22246003151"
       ]
      },
      {
       "output_type": "stream",
       "stream": "stdout",
       "text": [
        "\r",
        "Done 302 in 5.23306918144"
       ]
      },
      {
       "output_type": "stream",
       "stream": "stdout",
       "text": [
        "\r",
        "Done 303 in 5.23791909218"
       ]
      },
      {
       "output_type": "stream",
       "stream": "stdout",
       "text": [
        "\r",
        "Done 304 in 5.20119094849"
       ]
      },
      {
       "output_type": "stream",
       "stream": "stdout",
       "text": [
        "\r",
        "Done 305 in 5.20271682739"
       ]
      },
      {
       "output_type": "stream",
       "stream": "stdout",
       "text": [
        "\r",
        "Done 306 in 5.20510697365"
       ]
      },
      {
       "output_type": "stream",
       "stream": "stdout",
       "text": [
        "\r",
        "Done 307 in 5.24060606956"
       ]
      },
      {
       "output_type": "stream",
       "stream": "stdout",
       "text": [
        "\r",
        "Done 308 in 5.15178203583"
       ]
      },
      {
       "output_type": "stream",
       "stream": "stdout",
       "text": [
        "\r",
        "Done 309 in 5.11931705475"
       ]
      },
      {
       "output_type": "stream",
       "stream": "stdout",
       "text": [
        "\r",
        "Done 310 in 5.178388834"
       ]
      },
      {
       "output_type": "stream",
       "stream": "stdout",
       "text": [
        "\r",
        "Done 311 in 5.10396099091"
       ]
      },
      {
       "output_type": "stream",
       "stream": "stdout",
       "text": [
        "\r",
        "Done 312 in 5.10487222672"
       ]
      },
      {
       "output_type": "stream",
       "stream": "stdout",
       "text": [
        "\r",
        "Done 313 in 5.14050292969"
       ]
      },
      {
       "output_type": "stream",
       "stream": "stdout",
       "text": [
        "\r",
        "Done 314 in 5.11066198349"
       ]
      },
      {
       "output_type": "stream",
       "stream": "stdout",
       "text": [
        "\r",
        "Done 315 in 5.1147608757"
       ]
      },
      {
       "output_type": "stream",
       "stream": "stdout",
       "text": [
        "\r",
        "Done 316 in 5.07586789131"
       ]
      },
      {
       "output_type": "stream",
       "stream": "stdout",
       "text": [
        "\r",
        "Done 317 in 5.08968997002"
       ]
      },
      {
       "output_type": "stream",
       "stream": "stdout",
       "text": [
        "\r",
        "Done 318 in 5.05894398689"
       ]
      },
      {
       "output_type": "stream",
       "stream": "stdout",
       "text": [
        "\r",
        "Done 319 in 5.07678079605"
       ]
      },
      {
       "output_type": "stream",
       "stream": "stdout",
       "text": [
        "\r",
        "Done 320 in 5.06343197823"
       ]
      },
      {
       "output_type": "stream",
       "stream": "stdout",
       "text": [
        "\r",
        "Done 321 in 5.06302189827"
       ]
      },
      {
       "output_type": "stream",
       "stream": "stdout",
       "text": [
        "\r",
        "Done 322 in 5.05681586266"
       ]
      },
      {
       "output_type": "stream",
       "stream": "stdout",
       "text": [
        "\r",
        "Done 323 in 5.01224088669"
       ]
      },
      {
       "output_type": "stream",
       "stream": "stdout",
       "text": [
        "\r",
        "Done 324 in 4.97810912132"
       ]
      },
      {
       "output_type": "stream",
       "stream": "stdout",
       "text": [
        "\r",
        "Done 325 in 5.01032400131"
       ]
      },
      {
       "output_type": "stream",
       "stream": "stdout",
       "text": [
        "\r",
        "Done 326 in 5.01852583885"
       ]
      },
      {
       "output_type": "stream",
       "stream": "stdout",
       "text": [
        "\r",
        "Done 327 in 5.00824189186"
       ]
      },
      {
       "output_type": "stream",
       "stream": "stdout",
       "text": [
        "\r",
        "Done 328 in 4.91566991806"
       ]
      },
      {
       "output_type": "stream",
       "stream": "stdout",
       "text": [
        "\r",
        "Done 329 in 4.97320699692"
       ]
      },
      {
       "output_type": "stream",
       "stream": "stdout",
       "text": [
        "\r",
        "Done 330 in 4.96277403831"
       ]
      },
      {
       "output_type": "stream",
       "stream": "stdout",
       "text": [
        "\r",
        "Done 331 in 4.91317200661"
       ]
      },
      {
       "output_type": "stream",
       "stream": "stdout",
       "text": [
        "\r",
        "Done 332 in 4.96512579918"
       ]
      },
      {
       "output_type": "stream",
       "stream": "stdout",
       "text": [
        "\r",
        "Done 333 in 4.91339588165"
       ]
      },
      {
       "output_type": "stream",
       "stream": "stdout",
       "text": [
        "\r",
        "Done 334 in 4.92515397072"
       ]
      },
      {
       "output_type": "stream",
       "stream": "stdout",
       "text": [
        "\r",
        "Done 335 in 4.9454228878"
       ]
      },
      {
       "output_type": "stream",
       "stream": "stdout",
       "text": [
        "\r",
        "Done 336 in 4.87029004097"
       ]
      },
      {
       "output_type": "stream",
       "stream": "stdout",
       "text": [
        "\r",
        "Done 337 in 4.89711093903"
       ]
      },
      {
       "output_type": "stream",
       "stream": "stdout",
       "text": [
        "\r",
        "Done 338 in 4.88451695442"
       ]
      },
      {
       "output_type": "stream",
       "stream": "stdout",
       "text": [
        "\r",
        "Done 339 in 4.86512708664"
       ]
      },
      {
       "output_type": "stream",
       "stream": "stdout",
       "text": [
        "\r",
        "Done 340 in 4.86226987839"
       ]
      },
      {
       "output_type": "stream",
       "stream": "stdout",
       "text": [
        "\r",
        "Done 341 in 4.87448787689"
       ]
      },
      {
       "output_type": "stream",
       "stream": "stdout",
       "text": [
        "\r",
        "Done 342 in 4.85332083702"
       ]
      },
      {
       "output_type": "stream",
       "stream": "stdout",
       "text": [
        "\r",
        "Done 343 in 4.81816005707"
       ]
      },
      {
       "output_type": "stream",
       "stream": "stdout",
       "text": [
        "\r",
        "Done 344 in 4.82772397995"
       ]
      },
      {
       "output_type": "stream",
       "stream": "stdout",
       "text": [
        "\r",
        "Done 345 in 4.7724301815"
       ]
      },
      {
       "output_type": "stream",
       "stream": "stdout",
       "text": [
        "\r",
        "Done 346 in 4.80407500267"
       ]
      },
      {
       "output_type": "stream",
       "stream": "stdout",
       "text": [
        "\r",
        "Done 347 in 4.82454204559"
       ]
      },
      {
       "output_type": "stream",
       "stream": "stdout",
       "text": [
        "\r",
        "Done 348 in 4.78474283218"
       ]
      },
      {
       "output_type": "stream",
       "stream": "stdout",
       "text": [
        "\r",
        "Done 349 in 4.76666712761"
       ]
      },
      {
       "output_type": "stream",
       "stream": "stdout",
       "text": [
        "\r",
        "Done 350 in 4.73753499985"
       ]
      },
      {
       "output_type": "stream",
       "stream": "stdout",
       "text": [
        "\r",
        "Done 351 in 4.76782011986"
       ]
      },
      {
       "output_type": "stream",
       "stream": "stdout",
       "text": [
        "\r",
        "Done 352 in 4.72558403015"
       ]
      },
      {
       "output_type": "stream",
       "stream": "stdout",
       "text": [
        "\r",
        "Done 353 in 4.70248103142"
       ]
      },
      {
       "output_type": "stream",
       "stream": "stdout",
       "text": [
        "\r",
        "Done 354 in 4.74867200851"
       ]
      },
      {
       "output_type": "stream",
       "stream": "stdout",
       "text": [
        "\r",
        "Done 355 in 4.7223649025"
       ]
      },
      {
       "output_type": "stream",
       "stream": "stdout",
       "text": [
        "\r",
        "Done 356 in 4.69196605682"
       ]
      },
      {
       "output_type": "stream",
       "stream": "stdout",
       "text": [
        "\r",
        "Done 357 in 4.68697500229"
       ]
      },
      {
       "output_type": "stream",
       "stream": "stdout",
       "text": [
        "\r",
        "Done 358 in 4.70196390152"
       ]
      },
      {
       "output_type": "stream",
       "stream": "stdout",
       "text": [
        "\r",
        "Done 359 in 4.66721701622"
       ]
      },
      {
       "output_type": "stream",
       "stream": "stdout",
       "text": [
        "\r",
        "Done 360 in 4.61592888832"
       ]
      },
      {
       "output_type": "stream",
       "stream": "stdout",
       "text": [
        "\r",
        "Done 361 in 4.66023612022"
       ]
      },
      {
       "output_type": "stream",
       "stream": "stdout",
       "text": [
        "\r",
        "Done 362 in 4.63713407516"
       ]
      },
      {
       "output_type": "stream",
       "stream": "stdout",
       "text": [
        "\r",
        "Done 363 in 4.61285686493"
       ]
      },
      {
       "output_type": "stream",
       "stream": "stdout",
       "text": [
        "\r",
        "Done 364 in 4.65064191818"
       ]
      },
      {
       "output_type": "stream",
       "stream": "stdout",
       "text": [
        "\r",
        "Done 365 in 4.60335206985"
       ]
      },
      {
       "output_type": "stream",
       "stream": "stdout",
       "text": [
        "\r",
        "Done 366 in 4.57947206497"
       ]
      },
      {
       "output_type": "stream",
       "stream": "stdout",
       "text": [
        "\r",
        "Done 367 in 4.64636611938"
       ]
      },
      {
       "output_type": "stream",
       "stream": "stdout",
       "text": [
        "\r",
        "Done 368 in 4.56597614288"
       ]
      },
      {
       "output_type": "stream",
       "stream": "stdout",
       "text": [
        "\r",
        "Done 369 in 4.59197187424"
       ]
      },
      {
       "output_type": "stream",
       "stream": "stdout",
       "text": [
        "\r",
        "Done 370 in 4.54149413109"
       ]
      },
      {
       "output_type": "stream",
       "stream": "stdout",
       "text": [
        "\r",
        "Done 371 in 4.57185411453"
       ]
      },
      {
       "output_type": "stream",
       "stream": "stdout",
       "text": [
        "\r",
        "Done 372 in 4.51840281487"
       ]
      },
      {
       "output_type": "stream",
       "stream": "stdout",
       "text": [
        "\r",
        "Done 373 in 4.49663591385"
       ]
      },
      {
       "output_type": "stream",
       "stream": "stdout",
       "text": [
        "\r",
        "Done 374 in 4.49246788025"
       ]
      },
      {
       "output_type": "stream",
       "stream": "stdout",
       "text": [
        "\r",
        "Done 375 in 4.5080280304"
       ]
      },
      {
       "output_type": "stream",
       "stream": "stdout",
       "text": [
        "\r",
        "Done 376 in 4.4586160183"
       ]
      },
      {
       "output_type": "stream",
       "stream": "stdout",
       "text": [
        "\r",
        "Done 377 in 4.49767208099"
       ]
      },
      {
       "output_type": "stream",
       "stream": "stdout",
       "text": [
        "\r",
        "Done 378 in 4.47092700005"
       ]
      },
      {
       "output_type": "stream",
       "stream": "stdout",
       "text": [
        "\r",
        "Done 379 in 4.51059508324"
       ]
      },
      {
       "output_type": "stream",
       "stream": "stdout",
       "text": [
        "\r",
        "Done 380 in 4.46856093407"
       ]
      },
      {
       "output_type": "stream",
       "stream": "stdout",
       "text": [
        "\r",
        "Done 381 in 4.46615600586"
       ]
      },
      {
       "output_type": "stream",
       "stream": "stdout",
       "text": [
        "\r",
        "Done 382 in 4.45865917206"
       ]
      },
      {
       "output_type": "stream",
       "stream": "stdout",
       "text": [
        "\r",
        "Done 383 in 4.41686797142"
       ]
      },
      {
       "output_type": "stream",
       "stream": "stdout",
       "text": [
        "\r",
        "Done 384 in 4.39398694038"
       ]
      },
      {
       "output_type": "stream",
       "stream": "stdout",
       "text": [
        "\r",
        "Done 385 in 4.4158680439"
       ]
      },
      {
       "output_type": "stream",
       "stream": "stdout",
       "text": [
        "\r",
        "Done 386 in 4.38016486168"
       ]
      },
      {
       "output_type": "stream",
       "stream": "stdout",
       "text": [
        "\r",
        "Done 387 in 4.40134191513"
       ]
      },
      {
       "output_type": "stream",
       "stream": "stdout",
       "text": [
        "\r",
        "Done 388 in 4.38110017776"
       ]
      },
      {
       "output_type": "stream",
       "stream": "stdout",
       "text": [
        "\r",
        "Done 389 in 4.37932491302"
       ]
      },
      {
       "output_type": "stream",
       "stream": "stdout",
       "text": [
        "\r",
        "Done 390 in 4.35795593262"
       ]
      },
      {
       "output_type": "stream",
       "stream": "stdout",
       "text": [
        "\r",
        "Done 391 in 4.34703993797"
       ]
      },
      {
       "output_type": "stream",
       "stream": "stdout",
       "text": [
        "\r",
        "Done 392 in 4.33909201622"
       ]
      },
      {
       "output_type": "stream",
       "stream": "stdout",
       "text": [
        "\r",
        "Done 393 in 4.35655808449"
       ]
      },
      {
       "output_type": "stream",
       "stream": "stdout",
       "text": [
        "\r",
        "Done 394 in 4.33337306976"
       ]
      },
      {
       "output_type": "stream",
       "stream": "stdout",
       "text": [
        "\r",
        "Done 395 in 4.31241893768"
       ]
      },
      {
       "output_type": "stream",
       "stream": "stdout",
       "text": [
        "\r",
        "Done 396 in 4.29105496407"
       ]
      },
      {
       "output_type": "stream",
       "stream": "stdout",
       "text": [
        "\r",
        "Done 397 in 4.3227288723"
       ]
      },
      {
       "output_type": "stream",
       "stream": "stdout",
       "text": [
        "\r",
        "Done 398 in 4.26239204407"
       ]
      },
      {
       "output_type": "stream",
       "stream": "stdout",
       "text": [
        "\r",
        "Done 399 in 4.27650094032"
       ]
      },
      {
       "output_type": "stream",
       "stream": "stdout",
       "text": [
        "\r",
        "Done 400 in 4.26641082764"
       ]
      },
      {
       "output_type": "stream",
       "stream": "stdout",
       "text": [
        "\r",
        "Done 401 in 4.24260210991"
       ]
      },
      {
       "output_type": "stream",
       "stream": "stdout",
       "text": [
        "\r",
        "Done 402 in 4.26255488396"
       ]
      },
      {
       "output_type": "stream",
       "stream": "stdout",
       "text": [
        "\r",
        "Done 403 in 4.22439289093"
       ]
      },
      {
       "output_type": "stream",
       "stream": "stdout",
       "text": [
        "\r",
        "Done 404 in 4.23503112793"
       ]
      },
      {
       "output_type": "stream",
       "stream": "stdout",
       "text": [
        "\r",
        "Done 405 in 4.23280978203"
       ]
      },
      {
       "output_type": "stream",
       "stream": "stdout",
       "text": [
        "\r",
        "Done 406 in 4.21462011337"
       ]
      },
      {
       "output_type": "stream",
       "stream": "stdout",
       "text": [
        "\r",
        "Done 407 in 4.22297811508"
       ]
      },
      {
       "output_type": "stream",
       "stream": "stdout",
       "text": [
        "\r",
        "Done 408 in 4.17813587189"
       ]
      },
      {
       "output_type": "stream",
       "stream": "stdout",
       "text": [
        "\r",
        "Done 409 in 4.18338799477"
       ]
      },
      {
       "output_type": "stream",
       "stream": "stdout",
       "text": [
        "\r",
        "Done 410 in 4.17353105545"
       ]
      },
      {
       "output_type": "stream",
       "stream": "stdout",
       "text": [
        "\r",
        "Done 411 in 4.17511200905"
       ]
      },
      {
       "output_type": "stream",
       "stream": "stdout",
       "text": [
        "\r",
        "Done 412 in 4.16395497322"
       ]
      },
      {
       "output_type": "stream",
       "stream": "stdout",
       "text": [
        "\r",
        "Done 413 in 4.15319180489"
       ]
      },
      {
       "output_type": "stream",
       "stream": "stdout",
       "text": [
        "\r",
        "Done 414 in 4.14637804031"
       ]
      },
      {
       "output_type": "stream",
       "stream": "stdout",
       "text": [
        "\r",
        "Done 415 in 4.09528589249"
       ]
      },
      {
       "output_type": "stream",
       "stream": "stdout",
       "text": [
        "\r",
        "Done 416 in 4.10566782951"
       ]
      },
      {
       "output_type": "stream",
       "stream": "stdout",
       "text": [
        "\r",
        "Done 417 in 4.07408094406"
       ]
      },
      {
       "output_type": "stream",
       "stream": "stdout",
       "text": [
        "\r",
        "Done 418 in 4.06828904152"
       ]
      },
      {
       "output_type": "stream",
       "stream": "stdout",
       "text": [
        "\r",
        "Done 419 in 4.08667993546"
       ]
      },
      {
       "output_type": "stream",
       "stream": "stdout",
       "text": [
        "\r",
        "Done 420 in 4.0532040596"
       ]
      },
      {
       "output_type": "stream",
       "stream": "stdout",
       "text": [
        "\r",
        "Done 421 in 4.06029105186"
       ]
      },
      {
       "output_type": "stream",
       "stream": "stdout",
       "text": [
        "\r",
        "Done 422 in 4.08707118034"
       ]
      },
      {
       "output_type": "stream",
       "stream": "stdout",
       "text": [
        "\r",
        "Done 423 in 4.07649898529"
       ]
      },
      {
       "output_type": "stream",
       "stream": "stdout",
       "text": [
        "\r",
        "Done 424 in 4.04516601562"
       ]
      },
      {
       "output_type": "stream",
       "stream": "stdout",
       "text": [
        "\r",
        "Done 425 in 4.03791594505"
       ]
      },
      {
       "output_type": "stream",
       "stream": "stdout",
       "text": [
        "\r",
        "Done 426 in 4.04131293297"
       ]
      },
      {
       "output_type": "stream",
       "stream": "stdout",
       "text": [
        "\r",
        "Done 427 in 3.97959399223"
       ]
      },
      {
       "output_type": "stream",
       "stream": "stdout",
       "text": [
        "\r",
        "Done 428 in 4.00550079346"
       ]
      },
      {
       "output_type": "stream",
       "stream": "stdout",
       "text": [
        "\r",
        "Done 429 in 3.99833798409"
       ]
      },
      {
       "output_type": "stream",
       "stream": "stdout",
       "text": [
        "\r",
        "Done 430 in 3.96673703194"
       ]
      },
      {
       "output_type": "stream",
       "stream": "stdout",
       "text": [
        "\r",
        "Done 431 in 3.94961118698"
       ]
      },
      {
       "output_type": "stream",
       "stream": "stdout",
       "text": [
        "\r",
        "Done 432 in 3.94861602783"
       ]
      },
      {
       "output_type": "stream",
       "stream": "stdout",
       "text": [
        "\r",
        "Done 433 in 3.94569182396"
       ]
      },
      {
       "output_type": "stream",
       "stream": "stdout",
       "text": [
        "\r",
        "Done 434 in 3.95057010651"
       ]
      },
      {
       "output_type": "stream",
       "stream": "stdout",
       "text": [
        "\r",
        "Done 435 in 3.94499206543"
       ]
      },
      {
       "output_type": "stream",
       "stream": "stdout",
       "text": [
        "\r",
        "Done 436 in 3.88406085968"
       ]
      },
      {
       "output_type": "stream",
       "stream": "stdout",
       "text": [
        "\r",
        "Done 437 in 3.92556810379"
       ]
      },
      {
       "output_type": "stream",
       "stream": "stdout",
       "text": [
        "\r",
        "Done 438 in 3.93985414505"
       ]
      },
      {
       "output_type": "stream",
       "stream": "stdout",
       "text": [
        "\r",
        "Done 439 in 3.88808989525"
       ]
      },
      {
       "output_type": "stream",
       "stream": "stdout",
       "text": [
        "\r",
        "Done 440 in 3.8896150589"
       ]
      },
      {
       "output_type": "stream",
       "stream": "stdout",
       "text": [
        "\r",
        "Done 441 in 3.87840199471"
       ]
      },
      {
       "output_type": "stream",
       "stream": "stdout",
       "text": [
        "\r",
        "Done 442 in 3.83839511871"
       ]
      },
      {
       "output_type": "stream",
       "stream": "stdout",
       "text": [
        "\r",
        "Done 443 in 3.85276007652"
       ]
      },
      {
       "output_type": "stream",
       "stream": "stdout",
       "text": [
        "\r",
        "Done 444 in 3.83814287186"
       ]
      },
      {
       "output_type": "stream",
       "stream": "stdout",
       "text": [
        "\r",
        "Done 445 in 3.80364394188"
       ]
      },
      {
       "output_type": "stream",
       "stream": "stdout",
       "text": [
        "\r",
        "Done 446 in 3.82989597321"
       ]
      },
      {
       "output_type": "stream",
       "stream": "stdout",
       "text": [
        "\r",
        "Done 447 in 3.79002308846"
       ]
      },
      {
       "output_type": "stream",
       "stream": "stdout",
       "text": [
        "\r",
        "Done 448 in 3.80637216568"
       ]
      },
      {
       "output_type": "stream",
       "stream": "stdout",
       "text": [
        "\r",
        "Done 449 in 3.8018860817"
       ]
      },
      {
       "output_type": "stream",
       "stream": "stdout",
       "text": [
        "\r",
        "Done 450 in 3.83781909943"
       ]
      },
      {
       "output_type": "stream",
       "stream": "stdout",
       "text": [
        "\r",
        "Done 451 in 3.76306796074"
       ]
      },
      {
       "output_type": "stream",
       "stream": "stdout",
       "text": [
        "\r",
        "Done 452 in 3.73613905907"
       ]
      },
      {
       "output_type": "stream",
       "stream": "stdout",
       "text": [
        "\r",
        "Done 453 in 3.75136089325"
       ]
      },
      {
       "output_type": "stream",
       "stream": "stdout",
       "text": [
        "\r",
        "Done 454 in 3.72646808624"
       ]
      },
      {
       "output_type": "stream",
       "stream": "stdout",
       "text": [
        "\r",
        "Done 455 in 3.70811200142"
       ]
      },
      {
       "output_type": "stream",
       "stream": "stdout",
       "text": [
        "\r",
        "Done 456 in 3.7088239193"
       ]
      },
      {
       "output_type": "stream",
       "stream": "stdout",
       "text": [
        "\r",
        "Done 457 in 3.7031481266"
       ]
      },
      {
       "output_type": "stream",
       "stream": "stdout",
       "text": [
        "\r",
        "Done 458 in 3.67654204369"
       ]
      },
      {
       "output_type": "stream",
       "stream": "stdout",
       "text": [
        "\r",
        "Done 459 in 3.67202401161"
       ]
      },
      {
       "output_type": "stream",
       "stream": "stdout",
       "text": [
        "\r",
        "Done 460 in 3.66025805473"
       ]
      },
      {
       "output_type": "stream",
       "stream": "stdout",
       "text": [
        "\r",
        "Done 461 in 3.64592695236"
       ]
      },
      {
       "output_type": "stream",
       "stream": "stdout",
       "text": [
        "\r",
        "Done 462 in 3.66446685791"
       ]
      },
      {
       "output_type": "stream",
       "stream": "stdout",
       "text": [
        "\r",
        "Done 463 in 3.66748213768"
       ]
      },
      {
       "output_type": "stream",
       "stream": "stdout",
       "text": [
        "\r",
        "Done 464 in 3.63091993332"
       ]
      },
      {
       "output_type": "stream",
       "stream": "stdout",
       "text": [
        "\r",
        "Done 465 in 3.60417103767"
       ]
      },
      {
       "output_type": "stream",
       "stream": "stdout",
       "text": [
        "\r",
        "Done 466 in 3.64684295654"
       ]
      },
      {
       "output_type": "stream",
       "stream": "stdout",
       "text": [
        "\r",
        "Done 467 in 3.59397506714"
       ]
      },
      {
       "output_type": "stream",
       "stream": "stdout",
       "text": [
        "\r",
        "Done 468 in 3.56232881546"
       ]
      },
      {
       "output_type": "stream",
       "stream": "stdout",
       "text": [
        "\r",
        "Done 469 in 3.60810089111"
       ]
      },
      {
       "output_type": "stream",
       "stream": "stdout",
       "text": [
        "\r",
        "Done 470 in 3.6263730526"
       ]
      },
      {
       "output_type": "stream",
       "stream": "stdout",
       "text": [
        "\r",
        "Done 471 in 3.56222820282"
       ]
      },
      {
       "output_type": "stream",
       "stream": "stdout",
       "text": [
        "\r",
        "Done 472 in 3.55165290833"
       ]
      },
      {
       "output_type": "stream",
       "stream": "stdout",
       "text": [
        "\r",
        "Done 473 in 3.52354121208"
       ]
      },
      {
       "output_type": "stream",
       "stream": "stdout",
       "text": [
        "\r",
        "Done 474 in 3.52510094643"
       ]
      },
      {
       "output_type": "stream",
       "stream": "stdout",
       "text": [
        "\r",
        "Done 475 in 3.5575709343"
       ]
      },
      {
       "output_type": "stream",
       "stream": "stdout",
       "text": [
        "\r",
        "Done 476 in 3.48951911926"
       ]
      },
      {
       "output_type": "stream",
       "stream": "stdout",
       "text": [
        "\r",
        "Done 477 in 3.52573299408"
       ]
      },
      {
       "output_type": "stream",
       "stream": "stdout",
       "text": [
        "\r",
        "Done 478 in 3.47591996193"
       ]
      },
      {
       "output_type": "stream",
       "stream": "stdout",
       "text": [
        "\r",
        "Done 479 in 3.49282693863"
       ]
      },
      {
       "output_type": "stream",
       "stream": "stdout",
       "text": [
        "\r",
        "Done 480 in 3.48940706253"
       ]
      },
      {
       "output_type": "stream",
       "stream": "stdout",
       "text": [
        "\r",
        "Done 481 in 3.47657418251"
       ]
      },
      {
       "output_type": "stream",
       "stream": "stdout",
       "text": [
        "\r",
        "Done 482 in 3.45135402679"
       ]
      },
      {
       "output_type": "stream",
       "stream": "stdout",
       "text": [
        "\r",
        "Done 483 in 3.47578287125"
       ]
      },
      {
       "output_type": "stream",
       "stream": "stdout",
       "text": [
        "\r",
        "Done 484 in 3.41816210747"
       ]
      },
      {
       "output_type": "stream",
       "stream": "stdout",
       "text": [
        "\r",
        "Done 485 in 3.44769215584"
       ]
      },
      {
       "output_type": "stream",
       "stream": "stdout",
       "text": [
        "\r",
        "Done 486 in 3.42437195778"
       ]
      },
      {
       "output_type": "stream",
       "stream": "stdout",
       "text": [
        "\r",
        "Done 487 in 3.42624998093"
       ]
      },
      {
       "output_type": "stream",
       "stream": "stdout",
       "text": [
        "\r",
        "Done 488 in 3.38246488571"
       ]
      },
      {
       "output_type": "stream",
       "stream": "stdout",
       "text": [
        "\r",
        "Done 489 in 3.38241815567"
       ]
      },
      {
       "output_type": "stream",
       "stream": "stdout",
       "text": [
        "\r",
        "Done 490 in 3.38042497635"
       ]
      },
      {
       "output_type": "stream",
       "stream": "stdout",
       "text": [
        "\r",
        "Done 491 in 3.37572312355"
       ]
      },
      {
       "output_type": "stream",
       "stream": "stdout",
       "text": [
        "\r",
        "Done 492 in 3.36780905724"
       ]
      },
      {
       "output_type": "stream",
       "stream": "stdout",
       "text": [
        "\r",
        "Done 493 in 3.33760118484"
       ]
      },
      {
       "output_type": "stream",
       "stream": "stdout",
       "text": [
        "\r",
        "Done 494 in 3.34386301041"
       ]
      },
      {
       "output_type": "stream",
       "stream": "stdout",
       "text": [
        "\r",
        "Done 495 in 3.31826210022"
       ]
      },
      {
       "output_type": "stream",
       "stream": "stdout",
       "text": [
        "\r",
        "Done 496 in 3.34472203255"
       ]
      },
      {
       "output_type": "stream",
       "stream": "stdout",
       "text": [
        "\r",
        "Done 497 in 3.28372693062"
       ]
      },
      {
       "output_type": "stream",
       "stream": "stdout",
       "text": [
        "\r",
        "Done 498 in 3.31499195099"
       ]
      },
      {
       "output_type": "stream",
       "stream": "stdout",
       "text": [
        "\r",
        "Done 499 in 3.30171489716"
       ]
      },
      {
       "output_type": "stream",
       "stream": "stdout",
       "text": [
        "\r",
        "Done 500 in 3.27449584007"
       ]
      },
      {
       "output_type": "stream",
       "stream": "stdout",
       "text": [
        "\r",
        "Done 501 in 3.28677797318"
       ]
      },
      {
       "output_type": "stream",
       "stream": "stdout",
       "text": [
        "\r",
        "Done 502 in 3.23960208893"
       ]
      },
      {
       "output_type": "stream",
       "stream": "stdout",
       "text": [
        "\r",
        "Done 503 in 3.23301291466"
       ]
      },
      {
       "output_type": "stream",
       "stream": "stdout",
       "text": [
        "\r",
        "Done 504 in 3.22717404366"
       ]
      },
      {
       "output_type": "stream",
       "stream": "stdout",
       "text": [
        "\r",
        "Done 505 in 3.25283408165"
       ]
      },
      {
       "output_type": "stream",
       "stream": "stdout",
       "text": [
        "\r",
        "Done 506 in 3.2592959404"
       ]
      },
      {
       "output_type": "stream",
       "stream": "stdout",
       "text": [
        "\r",
        "Done 507 in 3.20782399178"
       ]
      },
      {
       "output_type": "stream",
       "stream": "stdout",
       "text": [
        "\r",
        "Done 508 in 3.20171689987"
       ]
      },
      {
       "output_type": "stream",
       "stream": "stdout",
       "text": [
        "\r",
        "Done 509 in 3.19182991982"
       ]
      },
      {
       "output_type": "stream",
       "stream": "stdout",
       "text": [
        "\r",
        "Done 510 in 3.15474200249"
       ]
      },
      {
       "output_type": "stream",
       "stream": "stdout",
       "text": [
        "\r",
        "Done 511 in 3.17659807205"
       ]
      },
      {
       "output_type": "stream",
       "stream": "stdout",
       "text": [
        "\r",
        "Done 512 in 3.14177489281"
       ]
      },
      {
       "output_type": "stream",
       "stream": "stdout",
       "text": [
        "\r",
        "Done 513 in 3.15428805351"
       ]
      },
      {
       "output_type": "stream",
       "stream": "stdout",
       "text": [
        "\r",
        "Done 514 in 3.16421079636"
       ]
      },
      {
       "output_type": "stream",
       "stream": "stdout",
       "text": [
        "\r",
        "Done 515 in 3.12908911705"
       ]
      },
      {
       "output_type": "stream",
       "stream": "stdout",
       "text": [
        "\r",
        "Done 516 in 3.1437869072"
       ]
      },
      {
       "output_type": "stream",
       "stream": "stdout",
       "text": [
        "\r",
        "Done 517 in 3.10239601135"
       ]
      },
      {
       "output_type": "stream",
       "stream": "stdout",
       "text": [
        "\r",
        "Done 518 in 3.08953690529"
       ]
      },
      {
       "output_type": "stream",
       "stream": "stdout",
       "text": [
        "\r",
        "Done 519 in 3.09618210793"
       ]
      },
      {
       "output_type": "stream",
       "stream": "stdout",
       "text": [
        "\r",
        "Done 520 in 3.08816099167"
       ]
      },
      {
       "output_type": "stream",
       "stream": "stdout",
       "text": [
        "\r",
        "Done 521 in 3.04837608337"
       ]
      },
      {
       "output_type": "stream",
       "stream": "stdout",
       "text": [
        "\r",
        "Done 522 in 3.05742907524"
       ]
      },
      {
       "output_type": "stream",
       "stream": "stdout",
       "text": [
        "\r",
        "Done 523 in 3.0487818718"
       ]
      },
      {
       "output_type": "stream",
       "stream": "stdout",
       "text": [
        "\r",
        "Done 524 in 3.03820514679"
       ]
      },
      {
       "output_type": "stream",
       "stream": "stdout",
       "text": [
        "\r",
        "Done 525 in 3.02409911156"
       ]
      },
      {
       "output_type": "stream",
       "stream": "stdout",
       "text": [
        "\r",
        "Done 526 in 3.04105496407"
       ]
      },
      {
       "output_type": "stream",
       "stream": "stdout",
       "text": [
        "\r",
        "Done 527 in 3.06296110153"
       ]
      },
      {
       "output_type": "stream",
       "stream": "stdout",
       "text": [
        "\r",
        "Done 528 in 3.01207113266"
       ]
      },
      {
       "output_type": "stream",
       "stream": "stdout",
       "text": [
        "\r",
        "Done 529 in 2.98314499855"
       ]
      },
      {
       "output_type": "stream",
       "stream": "stdout",
       "text": [
        "\r",
        "Done 530 in 2.97131896019"
       ]
      },
      {
       "output_type": "stream",
       "stream": "stdout",
       "text": [
        "\r",
        "Done 531 in 2.97970604897"
       ]
      },
      {
       "output_type": "stream",
       "stream": "stdout",
       "text": [
        "\r",
        "Done 532 in 2.99163889885"
       ]
      },
      {
       "output_type": "stream",
       "stream": "stdout",
       "text": [
        "\r",
        "Done 533 in 2.93661594391"
       ]
      },
      {
       "output_type": "stream",
       "stream": "stdout",
       "text": [
        "\r",
        "Done 534 in 2.92336988449"
       ]
      },
      {
       "output_type": "stream",
       "stream": "stdout",
       "text": [
        "\r",
        "Done 535 in 2.93769788742"
       ]
      },
      {
       "output_type": "stream",
       "stream": "stdout",
       "text": [
        "\r",
        "Done 536 in 2.92578196526"
       ]
      },
      {
       "output_type": "stream",
       "stream": "stdout",
       "text": [
        "\r",
        "Done 537 in 2.89646792412"
       ]
      },
      {
       "output_type": "stream",
       "stream": "stdout",
       "text": [
        "\r",
        "Done 538 in 2.91864895821"
       ]
      },
      {
       "output_type": "stream",
       "stream": "stdout",
       "text": [
        "\r",
        "Done 539 in 2.90440893173"
       ]
      },
      {
       "output_type": "stream",
       "stream": "stdout",
       "text": [
        "\r",
        "Done 540 in 2.89282608032"
       ]
      },
      {
       "output_type": "stream",
       "stream": "stdout",
       "text": [
        "\r",
        "Done 541 in 2.85708403587"
       ]
      },
      {
       "output_type": "stream",
       "stream": "stdout",
       "text": [
        "\r",
        "Done 542 in 2.86587810516"
       ]
      },
      {
       "output_type": "stream",
       "stream": "stdout",
       "text": [
        "\r",
        "Done 543 in 2.87392497063"
       ]
      },
      {
       "output_type": "stream",
       "stream": "stdout",
       "text": [
        "\r",
        "Done 544 in 2.80826282501"
       ]
      },
      {
       "output_type": "stream",
       "stream": "stdout",
       "text": [
        "\r",
        "Done 545 in 2.82942295074"
       ]
      },
      {
       "output_type": "stream",
       "stream": "stdout",
       "text": [
        "\r",
        "Done 546 in 2.83417582512"
       ]
      },
      {
       "output_type": "stream",
       "stream": "stdout",
       "text": [
        "\r",
        "Done 547 in 2.84010696411"
       ]
      },
      {
       "output_type": "stream",
       "stream": "stdout",
       "text": [
        "\r",
        "Done 548 in 2.78982496262"
       ]
      },
      {
       "output_type": "stream",
       "stream": "stdout",
       "text": [
        "\r",
        "Done 549 in 2.82799005508"
       ]
      },
      {
       "output_type": "stream",
       "stream": "stdout",
       "text": [
        "\r",
        "Done 550 in 2.78647398949"
       ]
      },
      {
       "output_type": "stream",
       "stream": "stdout",
       "text": [
        "\r",
        "Done 551 in 2.76109099388"
       ]
      },
      {
       "output_type": "stream",
       "stream": "stdout",
       "text": [
        "\r",
        "Done 552 in 2.76213002205"
       ]
      },
      {
       "output_type": "stream",
       "stream": "stdout",
       "text": [
        "\r",
        "Done 553 in 2.77365088463"
       ]
      },
      {
       "output_type": "stream",
       "stream": "stdout",
       "text": [
        "\r",
        "Done 554 in 2.74904799461"
       ]
      },
      {
       "output_type": "stream",
       "stream": "stdout",
       "text": [
        "\r",
        "Done 555 in 2.7486178875"
       ]
      },
      {
       "output_type": "stream",
       "stream": "stdout",
       "text": [
        "\r",
        "Done 556 in 2.73188900948"
       ]
      },
      {
       "output_type": "stream",
       "stream": "stdout",
       "text": [
        "\r",
        "Done 557 in 2.70535206795"
       ]
      },
      {
       "output_type": "stream",
       "stream": "stdout",
       "text": [
        "\r",
        "Done 558 in 2.72577500343"
       ]
      },
      {
       "output_type": "stream",
       "stream": "stdout",
       "text": [
        "\r",
        "Done 559 in 2.7041208744"
       ]
      },
      {
       "output_type": "stream",
       "stream": "stdout",
       "text": [
        "\r",
        "Done 560 in 2.69981598854"
       ]
      },
      {
       "output_type": "stream",
       "stream": "stdout",
       "text": [
        "\r",
        "Done 561 in 2.66870713234"
       ]
      },
      {
       "output_type": "stream",
       "stream": "stdout",
       "text": [
        "\r",
        "Done 562 in 2.67350006104"
       ]
      },
      {
       "output_type": "stream",
       "stream": "stdout",
       "text": [
        "\r",
        "Done 563 in 2.65975022316"
       ]
      },
      {
       "output_type": "stream",
       "stream": "stdout",
       "text": [
        "\r",
        "Done 564 in 2.64865994453"
       ]
      },
      {
       "output_type": "stream",
       "stream": "stdout",
       "text": [
        "\r",
        "Done 565 in 2.65884494781"
       ]
      },
      {
       "output_type": "stream",
       "stream": "stdout",
       "text": [
        "\r",
        "Done 566 in 2.62996506691"
       ]
      },
      {
       "output_type": "stream",
       "stream": "stdout",
       "text": [
        "\r",
        "Done 567 in 2.59912610054"
       ]
      },
      {
       "output_type": "stream",
       "stream": "stdout",
       "text": [
        "\r",
        "Done 568 in 2.58478403091"
       ]
      },
      {
       "output_type": "stream",
       "stream": "stdout",
       "text": [
        "\r",
        "Done 569 in 2.59707689285"
       ]
      },
      {
       "output_type": "stream",
       "stream": "stdout",
       "text": [
        "\r",
        "Done 570 in 2.60153007507"
       ]
      },
      {
       "output_type": "stream",
       "stream": "stdout",
       "text": [
        "\r",
        "Done 571 in 2.59835505486"
       ]
      },
      {
       "output_type": "stream",
       "stream": "stdout",
       "text": [
        "\r",
        "Done 572 in 2.55990004539"
       ]
      },
      {
       "output_type": "stream",
       "stream": "stdout",
       "text": [
        "\r",
        "Done 573 in 2.59988713264"
       ]
      },
      {
       "output_type": "stream",
       "stream": "stdout",
       "text": [
        "\r",
        "Done 574 in 2.56115102768"
       ]
      },
      {
       "output_type": "stream",
       "stream": "stdout",
       "text": [
        "\r",
        "Done 575 in 2.54192900658"
       ]
      },
      {
       "output_type": "stream",
       "stream": "stdout",
       "text": [
        "\r",
        "Done 576 in 2.5170788765"
       ]
      },
      {
       "output_type": "stream",
       "stream": "stdout",
       "text": [
        "\r",
        "Done 577 in 2.51181912422"
       ]
      },
      {
       "output_type": "stream",
       "stream": "stdout",
       "text": [
        "\r",
        "Done 578 in 2.48559308052"
       ]
      },
      {
       "output_type": "stream",
       "stream": "stdout",
       "text": [
        "\r",
        "Done 579 in 2.49564886093"
       ]
      },
      {
       "output_type": "stream",
       "stream": "stdout",
       "text": [
        "\r",
        "Done 580 in 2.45923399925"
       ]
      },
      {
       "output_type": "stream",
       "stream": "stdout",
       "text": [
        "\r",
        "Done 581 in 2.495459795"
       ]
      },
      {
       "output_type": "stream",
       "stream": "stdout",
       "text": [
        "\r",
        "Done 582 in 2.46283698082"
       ]
      },
      {
       "output_type": "stream",
       "stream": "stdout",
       "text": [
        "\r",
        "Done 583 in 2.45183491707"
       ]
      },
      {
       "output_type": "stream",
       "stream": "stdout",
       "text": [
        "\r",
        "Done 584 in 2.46514391899"
       ]
      },
      {
       "output_type": "stream",
       "stream": "stdout",
       "text": [
        "\r",
        "Done 585 in 2.47050905228"
       ]
      },
      {
       "output_type": "stream",
       "stream": "stdout",
       "text": [
        "\r",
        "Done 586 in 2.41199707985"
       ]
      },
      {
       "output_type": "stream",
       "stream": "stdout",
       "text": [
        "\r",
        "Done 587 in 2.43134021759"
       ]
      },
      {
       "output_type": "stream",
       "stream": "stdout",
       "text": [
        "\r",
        "Done 588 in 2.42455101013"
       ]
      },
      {
       "output_type": "stream",
       "stream": "stdout",
       "text": [
        "\r",
        "Done 589 in 2.40194797516"
       ]
      },
      {
       "output_type": "stream",
       "stream": "stdout",
       "text": [
        "\r",
        "Done 590 in 2.40665316582"
       ]
      },
      {
       "output_type": "stream",
       "stream": "stdout",
       "text": [
        "\r",
        "Done 591 in 2.38465118408"
       ]
      },
      {
       "output_type": "stream",
       "stream": "stdout",
       "text": [
        "\r",
        "Done 592 in 2.36759090424"
       ]
      },
      {
       "output_type": "stream",
       "stream": "stdout",
       "text": [
        "\r",
        "Done 593 in 2.36257886887"
       ]
      },
      {
       "output_type": "stream",
       "stream": "stdout",
       "text": [
        "\r",
        "Done 594 in 2.36702799797"
       ]
      },
      {
       "output_type": "stream",
       "stream": "stdout",
       "text": [
        "\r",
        "Done 595 in 2.37280893326"
       ]
      },
      {
       "output_type": "stream",
       "stream": "stdout",
       "text": [
        "\r",
        "Done 596 in 2.31858611107"
       ]
      },
      {
       "output_type": "stream",
       "stream": "stdout",
       "text": [
        "\r",
        "Done 597 in 2.3248360157"
       ]
      },
      {
       "output_type": "stream",
       "stream": "stdout",
       "text": [
        "\r",
        "Done 598 in 2.33075499535"
       ]
      },
      {
       "output_type": "stream",
       "stream": "stdout",
       "text": [
        "\r",
        "Done 599 in 2.30766510963"
       ]
      },
      {
       "output_type": "stream",
       "stream": "stdout",
       "text": [
        "\r",
        "Done 600 in 2.29186701775"
       ]
      },
      {
       "output_type": "stream",
       "stream": "stdout",
       "text": [
        "\r",
        "Done 601 in 2.29741382599"
       ]
      },
      {
       "output_type": "stream",
       "stream": "stdout",
       "text": [
        "\r",
        "Done 602 in 2.27399492264"
       ]
      },
      {
       "output_type": "stream",
       "stream": "stdout",
       "text": [
        "\r",
        "Done 603 in 2.25189399719"
       ]
      },
      {
       "output_type": "stream",
       "stream": "stdout",
       "text": [
        "\r",
        "Done 604 in 2.26388788223"
       ]
      },
      {
       "output_type": "stream",
       "stream": "stdout",
       "text": [
        "\r",
        "Done 605 in 2.22740197182"
       ]
      },
      {
       "output_type": "stream",
       "stream": "stdout",
       "text": [
        "\r",
        "Done 606 in 2.25248384476"
       ]
      },
      {
       "output_type": "stream",
       "stream": "stdout",
       "text": [
        "\r",
        "Done 607 in 2.24083209038"
       ]
      },
      {
       "output_type": "stream",
       "stream": "stdout",
       "text": [
        "\r",
        "Done 608 in 2.21098709106"
       ]
      },
      {
       "output_type": "stream",
       "stream": "stdout",
       "text": [
        "\r",
        "Done 609 in 2.23125910759"
       ]
      },
      {
       "output_type": "stream",
       "stream": "stdout",
       "text": [
        "\r",
        "Done 610 in 2.22287106514"
       ]
      },
      {
       "output_type": "stream",
       "stream": "stdout",
       "text": [
        "\r",
        "Done 611 in 2.2201218605"
       ]
      },
      {
       "output_type": "stream",
       "stream": "stdout",
       "text": [
        "\r",
        "Done 612 in 2.17043089867"
       ]
      },
      {
       "output_type": "stream",
       "stream": "stdout",
       "text": [
        "\r",
        "Done 613 in 2.156208992"
       ]
      },
      {
       "output_type": "stream",
       "stream": "stdout",
       "text": [
        "\r",
        "Done 614 in 2.13655209541"
       ]
      },
      {
       "output_type": "stream",
       "stream": "stdout",
       "text": [
        "\r",
        "Done 615 in 2.14931416512"
       ]
      },
      {
       "output_type": "stream",
       "stream": "stdout",
       "text": [
        "\r",
        "Done 616 in 2.12524819374"
       ]
      },
      {
       "output_type": "stream",
       "stream": "stdout",
       "text": [
        "\r",
        "Done 617 in 2.13694286346"
       ]
      },
      {
       "output_type": "stream",
       "stream": "stdout",
       "text": [
        "\r",
        "Done 618 in 2.1191470623"
       ]
      },
      {
       "output_type": "stream",
       "stream": "stdout",
       "text": [
        "\r",
        "Done 619 in 2.10726189613"
       ]
      },
      {
       "output_type": "stream",
       "stream": "stdout",
       "text": [
        "\r",
        "Done 620 in 2.0690639019"
       ]
      },
      {
       "output_type": "stream",
       "stream": "stdout",
       "text": [
        "\r",
        "Done 621 in 2.11925697327"
       ]
      },
      {
       "output_type": "stream",
       "stream": "stdout",
       "text": [
        "\r",
        "Done 622 in 2.09792995453"
       ]
      },
      {
       "output_type": "stream",
       "stream": "stdout",
       "text": [
        "\r",
        "Done 623 in 2.11483597755"
       ]
      },
      {
       "output_type": "stream",
       "stream": "stdout",
       "text": [
        "\r",
        "Done 624 in 2.09593486786"
       ]
      },
      {
       "output_type": "stream",
       "stream": "stdout",
       "text": [
        "\r",
        "Done 625 in 2.09041285515"
       ]
      },
      {
       "output_type": "stream",
       "stream": "stdout",
       "text": [
        "\r",
        "Done 626 in 2.16375613213"
       ]
      },
      {
       "output_type": "stream",
       "stream": "stdout",
       "text": [
        "\r",
        "Done 627 in 2.14126992226"
       ]
      },
      {
       "output_type": "stream",
       "stream": "stdout",
       "text": [
        "\r",
        "Done 628 in 2.04666996002"
       ]
      },
      {
       "output_type": "stream",
       "stream": "stdout",
       "text": [
        "\r",
        "Done 629 in 1.98696112633"
       ]
      },
      {
       "output_type": "stream",
       "stream": "stdout",
       "text": [
        "\r",
        "Done 630 in 2.00479412079"
       ]
      },
      {
       "output_type": "stream",
       "stream": "stdout",
       "text": [
        "\r",
        "Done 631 in 1.99249696732"
       ]
      },
      {
       "output_type": "stream",
       "stream": "stdout",
       "text": [
        "\r",
        "Done 632 in 2.02992582321"
       ]
      },
      {
       "output_type": "stream",
       "stream": "stdout",
       "text": [
        "\r",
        "Done 633 in 1.96343898773"
       ]
      },
      {
       "output_type": "stream",
       "stream": "stdout",
       "text": [
        "\r",
        "Done 634 in 1.96494603157"
       ]
      },
      {
       "output_type": "stream",
       "stream": "stdout",
       "text": [
        "\r",
        "Done 635 in 1.93749904633"
       ]
      },
      {
       "output_type": "stream",
       "stream": "stdout",
       "text": [
        "\r",
        "Done 636 in 1.9338312149"
       ]
      },
      {
       "output_type": "stream",
       "stream": "stdout",
       "text": [
        "\r",
        "Done 637 in 1.9306230545"
       ]
      },
      {
       "output_type": "stream",
       "stream": "stdout",
       "text": [
        "\r",
        "Done 638 in 2.05821800232"
       ]
      },
      {
       "output_type": "stream",
       "stream": "stdout",
       "text": [
        "\r",
        "Done 639 in 1.94131612778"
       ]
      },
      {
       "output_type": "stream",
       "stream": "stdout",
       "text": [
        "\r",
        "Done 640 in 1.93724012375"
       ]
      },
      {
       "output_type": "stream",
       "stream": "stdout",
       "text": [
        "\r",
        "Done 641 in 1.89941596985"
       ]
      },
      {
       "output_type": "stream",
       "stream": "stdout",
       "text": [
        "\r",
        "Done 642 in 1.86650300026"
       ]
      },
      {
       "output_type": "stream",
       "stream": "stdout",
       "text": [
        "\r",
        "Done 643 in 1.86280417442"
       ]
      },
      {
       "output_type": "stream",
       "stream": "stdout",
       "text": [
        "\r",
        "Done 644 in 1.86036992073"
       ]
      },
      {
       "output_type": "stream",
       "stream": "stdout",
       "text": [
        "\r",
        "Done 645 in 1.8382589817"
       ]
      },
      {
       "output_type": "stream",
       "stream": "stdout",
       "text": [
        "\r",
        "Done 646 in 1.8267788887"
       ]
      },
      {
       "output_type": "stream",
       "stream": "stdout",
       "text": [
        "\r",
        "Done 647 in 1.91479516029"
       ]
      },
      {
       "output_type": "stream",
       "stream": "stdout",
       "text": [
        "\r",
        "Done 648 in 1.85754299164"
       ]
      },
      {
       "output_type": "stream",
       "stream": "stdout",
       "text": [
        "\r",
        "Done 649 in 1.8232281208"
       ]
      },
      {
       "output_type": "stream",
       "stream": "stdout",
       "text": [
        "\r",
        "Done 650 in 1.80346107483"
       ]
      },
      {
       "output_type": "stream",
       "stream": "stdout",
       "text": [
        "\r",
        "Done 651 in 1.82448291779"
       ]
      },
      {
       "output_type": "stream",
       "stream": "stdout",
       "text": [
        "\r",
        "Done 652 in 1.77300691605"
       ]
      },
      {
       "output_type": "stream",
       "stream": "stdout",
       "text": [
        "\r",
        "Done 653 in 1.74909901619"
       ]
      },
      {
       "output_type": "stream",
       "stream": "stdout",
       "text": [
        "\r",
        "Done 654 in 1.76058602333"
       ]
      },
      {
       "output_type": "stream",
       "stream": "stdout",
       "text": [
        "\r",
        "Done 655 in 1.73424315453"
       ]
      },
      {
       "output_type": "stream",
       "stream": "stdout",
       "text": [
        "\r",
        "Done 656 in 1.72327804565"
       ]
      },
      {
       "output_type": "stream",
       "stream": "stdout",
       "text": [
        "\r",
        "Done 657 in 1.7159640789"
       ]
      },
      {
       "output_type": "stream",
       "stream": "stdout",
       "text": [
        "\r",
        "Done 658 in 1.71479105949"
       ]
      },
      {
       "output_type": "stream",
       "stream": "stdout",
       "text": [
        "\r",
        "Done 659 in 1.72397398949"
       ]
      },
      {
       "output_type": "stream",
       "stream": "stdout",
       "text": [
        "\r",
        "Done 660 in 1.79186105728"
       ]
      },
      {
       "output_type": "stream",
       "stream": "stdout",
       "text": [
        "\r",
        "Done 661 in 1.70080709457"
       ]
      },
      {
       "output_type": "stream",
       "stream": "stdout",
       "text": [
        "\r",
        "Done 662 in 1.72177290916"
       ]
      },
      {
       "output_type": "stream",
       "stream": "stdout",
       "text": [
        "\r",
        "Done 663 in 1.68574690819"
       ]
      },
      {
       "output_type": "stream",
       "stream": "stdout",
       "text": [
        "\r",
        "Done 664 in 1.63612413406"
       ]
      },
      {
       "output_type": "stream",
       "stream": "stdout",
       "text": [
        "\r",
        "Done 665 in 1.66022706032"
       ]
      },
      {
       "output_type": "stream",
       "stream": "stdout",
       "text": [
        "\r",
        "Done 666 in 1.63287901878"
       ]
      },
      {
       "output_type": "stream",
       "stream": "stdout",
       "text": [
        "\r",
        "Done 667 in 1.61962008476"
       ]
      },
      {
       "output_type": "stream",
       "stream": "stdout",
       "text": [
        "\r",
        "Done 668 in 1.63607811928"
       ]
      },
      {
       "output_type": "stream",
       "stream": "stdout",
       "text": [
        "\r",
        "Done 669 in 1.62312197685"
       ]
      },
      {
       "output_type": "stream",
       "stream": "stdout",
       "text": [
        "\r",
        "Done 670 in 1.61629080772"
       ]
      },
      {
       "output_type": "stream",
       "stream": "stdout",
       "text": [
        "\r",
        "Done 671 in 1.57366585732"
       ]
      },
      {
       "output_type": "stream",
       "stream": "stdout",
       "text": [
        "\r",
        "Done 672 in 1.58391404152"
       ]
      },
      {
       "output_type": "stream",
       "stream": "stdout",
       "text": [
        "\r",
        "Done 673 in 1.58598589897"
       ]
      },
      {
       "output_type": "stream",
       "stream": "stdout",
       "text": [
        "\r",
        "Done 674 in 1.54009795189"
       ]
      },
      {
       "output_type": "stream",
       "stream": "stdout",
       "text": [
        "\r",
        "Done 675 in 1.58381199837"
       ]
      },
      {
       "output_type": "stream",
       "stream": "stdout",
       "text": [
        "\r",
        "Done 676 in 1.5384991169"
       ]
      },
      {
       "output_type": "stream",
       "stream": "stdout",
       "text": [
        "\r",
        "Done 677 in 1.50354504585"
       ]
      },
      {
       "output_type": "stream",
       "stream": "stdout",
       "text": [
        "\r",
        "Done 678 in 1.5533850193"
       ]
      },
      {
       "output_type": "stream",
       "stream": "stdout",
       "text": [
        "\r",
        "Done 679 in 1.53964686394"
       ]
      },
      {
       "output_type": "stream",
       "stream": "stdout",
       "text": [
        "\r",
        "Done 680 in 1.54082608223"
       ]
      },
      {
       "output_type": "stream",
       "stream": "stdout",
       "text": [
        "\r",
        "Done 681 in 1.50852489471"
       ]
      },
      {
       "output_type": "stream",
       "stream": "stdout",
       "text": [
        "\r",
        "Done 682 in 1.46582484245"
       ]
      },
      {
       "output_type": "stream",
       "stream": "stdout",
       "text": [
        "\r",
        "Done 683 in 1.47672891617"
       ]
      },
      {
       "output_type": "stream",
       "stream": "stdout",
       "text": [
        "\r",
        "Done 684 in 1.44156599045"
       ]
      },
      {
       "output_type": "stream",
       "stream": "stdout",
       "text": [
        "\r",
        "Done 685 in 1.4310760498"
       ]
      },
      {
       "output_type": "stream",
       "stream": "stdout",
       "text": [
        "\r",
        "Done 686 in 1.44891881943"
       ]
      },
      {
       "output_type": "stream",
       "stream": "stdout",
       "text": [
        "\r",
        "Done 687 in 1.53405499458"
       ]
      },
      {
       "output_type": "stream",
       "stream": "stdout",
       "text": [
        "\r",
        "Done 688 in 1.53153085709"
       ]
      },
      {
       "output_type": "stream",
       "stream": "stdout",
       "text": [
        "\r",
        "Done 689 in 1.42501807213"
       ]
      },
      {
       "output_type": "stream",
       "stream": "stdout",
       "text": [
        "\r",
        "Done 690 in 1.45506906509"
       ]
      },
      {
       "output_type": "stream",
       "stream": "stdout",
       "text": [
        "\r",
        "Done 691 in 1.44823789597"
       ]
      },
      {
       "output_type": "stream",
       "stream": "stdout",
       "text": [
        "\r",
        "Done 692 in 1.38806581497"
       ]
      },
      {
       "output_type": "stream",
       "stream": "stdout",
       "text": [
        "\r",
        "Done 693 in 1.3681769371"
       ]
      },
      {
       "output_type": "stream",
       "stream": "stdout",
       "text": [
        "\r",
        "Done 694 in 1.36887001991"
       ]
      },
      {
       "output_type": "stream",
       "stream": "stdout",
       "text": [
        "\r",
        "Done 695 in 1.40485095978"
       ]
      },
      {
       "output_type": "stream",
       "stream": "stdout",
       "text": [
        "\r",
        "Done 696 in 1.37512993813"
       ]
      },
      {
       "output_type": "stream",
       "stream": "stdout",
       "text": [
        "\r",
        "Done 697 in 1.39153599739"
       ]
      },
      {
       "output_type": "stream",
       "stream": "stdout",
       "text": [
        "\r",
        "Done 698 in 1.35725283623"
       ]
      },
      {
       "output_type": "stream",
       "stream": "stdout",
       "text": [
        "\r",
        "Done 699 in 1.33834600449"
       ]
      },
      {
       "output_type": "stream",
       "stream": "stdout",
       "text": [
        "\r",
        "Done 700 in 1.34502005577"
       ]
      },
      {
       "output_type": "stream",
       "stream": "stdout",
       "text": [
        "\r",
        "Done 701 in 1.30139684677"
       ]
      },
      {
       "output_type": "stream",
       "stream": "stdout",
       "text": [
        "\r",
        "Done 702 in 1.28775215149"
       ]
      },
      {
       "output_type": "stream",
       "stream": "stdout",
       "text": [
        "\r",
        "Done 703 in 1.30367684364"
       ]
      },
      {
       "output_type": "stream",
       "stream": "stdout",
       "text": [
        "\r",
        "Done 704 in 1.26933693886"
       ]
      },
      {
       "output_type": "stream",
       "stream": "stdout",
       "text": [
        "\r",
        "Done 705 in 1.26519799232"
       ]
      },
      {
       "output_type": "stream",
       "stream": "stdout",
       "text": [
        "\r",
        "Done 706 in 1.28826594353"
       ]
      },
      {
       "output_type": "stream",
       "stream": "stdout",
       "text": [
        "\r",
        "Done 707 in 1.25425601006"
       ]
      },
      {
       "output_type": "stream",
       "stream": "stdout",
       "text": [
        "\r",
        "Done 708 in 1.24072504044"
       ]
      },
      {
       "output_type": "stream",
       "stream": "stdout",
       "text": [
        "\r",
        "Done 709 in 1.26162409782"
       ]
      },
      {
       "output_type": "stream",
       "stream": "stdout",
       "text": [
        "\r",
        "Done 710 in 1.22856998444"
       ]
      },
      {
       "output_type": "stream",
       "stream": "stdout",
       "text": [
        "\r",
        "Done 711 in 1.21830916405"
       ]
      },
      {
       "output_type": "stream",
       "stream": "stdout",
       "text": [
        "\r",
        "Done 712 in 1.20164299011"
       ]
      },
      {
       "output_type": "stream",
       "stream": "stdout",
       "text": [
        "\r",
        "Done 713 in 1.20653986931"
       ]
      },
      {
       "output_type": "stream",
       "stream": "stdout",
       "text": [
        "\r",
        "Done 714 in 1.18898200989"
       ]
      },
      {
       "output_type": "stream",
       "stream": "stdout",
       "text": [
        "\r",
        "Done 715 in 1.18695998192"
       ]
      },
      {
       "output_type": "stream",
       "stream": "stdout",
       "text": [
        "\r",
        "Done 716 in 1.18887019157"
       ]
      },
      {
       "output_type": "stream",
       "stream": "stdout",
       "text": [
        "\r",
        "Done 717 in 1.15230298042"
       ]
      },
      {
       "output_type": "stream",
       "stream": "stdout",
       "text": [
        "\r",
        "Done 718 in 1.14401292801"
       ]
      },
      {
       "output_type": "stream",
       "stream": "stdout",
       "text": [
        "\r",
        "Done 719 in 1.16537284851"
       ]
      },
      {
       "output_type": "stream",
       "stream": "stdout",
       "text": [
        "\r",
        "Done 720 in 1.11616492271"
       ]
      },
      {
       "output_type": "stream",
       "stream": "stdout",
       "text": [
        "\r",
        "Done 721 in 1.11353492737"
       ]
      },
      {
       "output_type": "stream",
       "stream": "stdout",
       "text": [
        "\r",
        "Done 722 in 1.10561084747"
       ]
      },
      {
       "output_type": "stream",
       "stream": "stdout",
       "text": [
        "\r",
        "Done 723 in 1.11064600945"
       ]
      },
      {
       "output_type": "stream",
       "stream": "stdout",
       "text": [
        "\r",
        "Done 724 in 1.07942199707"
       ]
      },
      {
       "output_type": "stream",
       "stream": "stdout",
       "text": [
        "\r",
        "Done 725 in 1.07157087326"
       ]
      },
      {
       "output_type": "stream",
       "stream": "stdout",
       "text": [
        "\r",
        "Done 726 in 1.07054400444"
       ]
      },
      {
       "output_type": "stream",
       "stream": "stdout",
       "text": [
        "\r",
        "Done 727 in 1.08177399635"
       ]
      },
      {
       "output_type": "stream",
       "stream": "stdout",
       "text": [
        "\r",
        "Done 728 in 1.0384581089"
       ]
      },
      {
       "output_type": "stream",
       "stream": "stdout",
       "text": [
        "\r",
        "Done 729 in 1.03411793709"
       ]
      },
      {
       "output_type": "stream",
       "stream": "stdout",
       "text": [
        "\r",
        "Done 730 in 1.0296049118"
       ]
      },
      {
       "output_type": "stream",
       "stream": "stdout",
       "text": [
        "\r",
        "Done 731 in 1.04469704628"
       ]
      },
      {
       "output_type": "stream",
       "stream": "stdout",
       "text": [
        "\r",
        "Done 732 in 0.998436927795"
       ]
      },
      {
       "output_type": "stream",
       "stream": "stdout",
       "text": [
        "\r",
        "Done 733 in 0.993027210236"
       ]
      },
      {
       "output_type": "stream",
       "stream": "stdout",
       "text": [
        "\r",
        "Done 734 in 0.989543914795"
       ]
      },
      {
       "output_type": "stream",
       "stream": "stdout",
       "text": [
        "\r",
        "Done 735 in 0.994606971741"
       ]
      },
      {
       "output_type": "stream",
       "stream": "stdout",
       "text": [
        "\r",
        "Done 736 in 0.961786031723"
       ]
      },
      {
       "output_type": "stream",
       "stream": "stdout",
       "text": [
        "\r",
        "Done 737 in 0.95291185379"
       ]
      },
      {
       "output_type": "stream",
       "stream": "stdout",
       "text": [
        "\r",
        "Done 738 in 0.946649074554"
       ]
      },
      {
       "output_type": "stream",
       "stream": "stdout",
       "text": [
        "\r",
        "Done 739 in 0.969506978989"
       ]
      },
      {
       "output_type": "stream",
       "stream": "stdout",
       "text": [
        "\r",
        "Done 740 in 0.921765089035"
       ]
      },
      {
       "output_type": "stream",
       "stream": "stdout",
       "text": [
        "\r",
        "Done 741 in 0.910938978195"
       ]
      },
      {
       "output_type": "stream",
       "stream": "stdout",
       "text": [
        "\r",
        "Done 742 in 0.909605026245"
       ]
      },
      {
       "output_type": "stream",
       "stream": "stdout",
       "text": [
        "\r",
        "Done 743 in 0.929301023483"
       ]
      },
      {
       "output_type": "stream",
       "stream": "stdout",
       "text": [
        "\r",
        "Done 744 in 0.876684904099"
       ]
      },
      {
       "output_type": "stream",
       "stream": "stdout",
       "text": [
        "\r",
        "Done 745 in 0.876950025558"
       ]
      },
      {
       "output_type": "stream",
       "stream": "stdout",
       "text": [
        "\r",
        "Done 746 in 0.87073802948"
       ]
      },
      {
       "output_type": "stream",
       "stream": "stdout",
       "text": [
        "\r",
        "Done 747 in 0.862133026123"
       ]
      },
      {
       "output_type": "stream",
       "stream": "stdout",
       "text": [
        "\r",
        "Done 748 in 0.85965681076"
       ]
      },
      {
       "output_type": "stream",
       "stream": "stdout",
       "text": [
        "\r",
        "Done 749 in 0.835035085678"
       ]
      },
      {
       "output_type": "stream",
       "stream": "stdout",
       "text": [
        "\r",
        "Done 750 in 0.826268911362"
       ]
      },
      {
       "output_type": "stream",
       "stream": "stdout",
       "text": [
        "\r",
        "Done 751 in 0.817795991898"
       ]
      },
      {
       "output_type": "stream",
       "stream": "stdout",
       "text": [
        "\r",
        "Done 752 in 0.826510190964"
       ]
      },
      {
       "output_type": "stream",
       "stream": "stdout",
       "text": [
        "\r",
        "Done 753 in 0.793667078018"
       ]
      },
      {
       "output_type": "stream",
       "stream": "stdout",
       "text": [
        "\r",
        "Done 754 in 0.786615133286"
       ]
      },
      {
       "output_type": "stream",
       "stream": "stdout",
       "text": [
        "\r",
        "Done 755 in 0.776808977127"
       ]
      },
      {
       "output_type": "stream",
       "stream": "stdout",
       "text": [
        "\r",
        "Done 756 in 0.760683059692"
       ]
      },
      {
       "output_type": "stream",
       "stream": "stdout",
       "text": [
        "\r",
        "Done 757 in 0.781703948975"
       ]
      },
      {
       "output_type": "stream",
       "stream": "stdout",
       "text": [
        "\r",
        "Done 758 in 0.748514890671"
       ]
      },
      {
       "output_type": "stream",
       "stream": "stdout",
       "text": [
        "\r",
        "Done 759 in 0.740337848663"
       ]
      },
      {
       "output_type": "stream",
       "stream": "stdout",
       "text": [
        "\r",
        "Done 760 in 0.722102880478"
       ]
      },
      {
       "output_type": "stream",
       "stream": "stdout",
       "text": [
        "\r",
        "Done 761 in 0.716933012009"
       ]
      },
      {
       "output_type": "stream",
       "stream": "stdout",
       "text": [
        "\r",
        "Done 762 in 0.708841085434"
       ]
      },
      {
       "output_type": "stream",
       "stream": "stdout",
       "text": [
        "\r",
        "Done 763 in 0.717612981796"
       ]
      },
      {
       "output_type": "stream",
       "stream": "stdout",
       "text": [
        "\r",
        "Done 764 in 0.683437108994"
       ]
      },
      {
       "output_type": "stream",
       "stream": "stdout",
       "text": [
        "\r",
        "Done 765 in 0.677459001541"
       ]
      },
      {
       "output_type": "stream",
       "stream": "stdout",
       "text": [
        "\r",
        "Done 766 in 0.670895814896"
       ]
      },
      {
       "output_type": "stream",
       "stream": "stdout",
       "text": [
        "\r",
        "Done 767 in 0.664350986481"
       ]
      },
      {
       "output_type": "stream",
       "stream": "stdout",
       "text": [
        "\r",
        "Done 768 in 0.654555797577"
       ]
      },
      {
       "output_type": "stream",
       "stream": "stdout",
       "text": [
        "\r",
        "Done 769 in 0.671279907227"
       ]
      },
      {
       "output_type": "stream",
       "stream": "stdout",
       "text": [
        "\r",
        "Done 770 in 0.633155822754"
       ]
      },
      {
       "output_type": "stream",
       "stream": "stdout",
       "text": [
        "\r",
        "Done 771 in 0.621403932571"
       ]
      },
      {
       "output_type": "stream",
       "stream": "stdout",
       "text": [
        "\r",
        "Done 772 in 0.603003025055"
       ]
      },
      {
       "output_type": "stream",
       "stream": "stdout",
       "text": [
        "\r",
        "Done 773 in 0.595915079117"
       ]
      },
      {
       "output_type": "stream",
       "stream": "stdout",
       "text": [
        "\r",
        "Done 774 in 0.588716983795"
       ]
      },
      {
       "output_type": "stream",
       "stream": "stdout",
       "text": [
        "\r",
        "Done 775 in 0.61187505722"
       ]
      },
      {
       "output_type": "stream",
       "stream": "stdout",
       "text": [
        "\r",
        "Done 776 in 0.564184904099"
       ]
      },
      {
       "output_type": "stream",
       "stream": "stdout",
       "text": [
        "\r",
        "Done 777 in 0.556171894073"
       ]
      },
      {
       "output_type": "stream",
       "stream": "stdout",
       "text": [
        "\r",
        "Done 778 in 0.548215866089"
       ]
      },
      {
       "output_type": "stream",
       "stream": "stdout",
       "text": [
        "\r",
        "Done 779 in 0.542227983475"
       ]
      },
      {
       "output_type": "stream",
       "stream": "stdout",
       "text": [
        "\r",
        "Done 780 in 0.521353006363"
       ]
      },
      {
       "output_type": "stream",
       "stream": "stdout",
       "text": [
        "\r",
        "Done 781 in 0.515120983124"
       ]
      },
      {
       "output_type": "stream",
       "stream": "stdout",
       "text": [
        "\r",
        "Done 782 in 0.511620044708"
       ]
      },
      {
       "output_type": "stream",
       "stream": "stdout",
       "text": [
        "\r",
        "Done 783 in 0.514647006989"
       ]
      },
      {
       "output_type": "stream",
       "stream": "stdout",
       "text": [
        "\r",
        "Done 784 in 0.484186172485"
       ]
      },
      {
       "output_type": "stream",
       "stream": "stdout",
       "text": [
        "\r",
        "Done 785 in 0.476802110672"
       ]
      },
      {
       "output_type": "stream",
       "stream": "stdout",
       "text": [
        "\r",
        "Done 786 in 0.469516038895"
       ]
      },
      {
       "output_type": "stream",
       "stream": "stdout",
       "text": [
        "\r",
        "Done 787 in 0.464625120163"
       ]
      },
      {
       "output_type": "stream",
       "stream": "stdout",
       "text": [
        "\r",
        "Done 788 in 0.442403078079"
       ]
      },
      {
       "output_type": "stream",
       "stream": "stdout",
       "text": [
        "\r",
        "Done 789 in 0.437906980515"
       ]
      },
      {
       "output_type": "stream",
       "stream": "stdout",
       "text": [
        "\r",
        "Done 790 in 0.432263851166"
       ]
      },
      {
       "output_type": "stream",
       "stream": "stdout",
       "text": [
        "\r",
        "Done 791 in 0.426670074463"
       ]
      },
      {
       "output_type": "stream",
       "stream": "stdout",
       "text": [
        "\r",
        "Done 792 in 0.432913064957"
       ]
      },
      {
       "output_type": "stream",
       "stream": "stdout",
       "text": [
        "\r",
        "Done 793 in 0.400345087051"
       ]
      },
      {
       "output_type": "stream",
       "stream": "stdout",
       "text": [
        "\r",
        "Done 794 in 0.391779899597"
       ]
      },
      {
       "output_type": "stream",
       "stream": "stdout",
       "text": [
        "\r",
        "Done 795 in 0.388128995895"
       ]
      },
      {
       "output_type": "stream",
       "stream": "stdout",
       "text": [
        "\r",
        "Done 796 in 0.377821922302"
       ]
      },
      {
       "output_type": "stream",
       "stream": "stdout",
       "text": [
        "\r",
        "Done 797 in 0.362557888031"
       ]
      },
      {
       "output_type": "stream",
       "stream": "stdout",
       "text": [
        "\r",
        "Done 798 in 0.358654975891"
       ]
      },
      {
       "output_type": "stream",
       "stream": "stdout",
       "text": [
        "\r",
        "Done 799 in 0.352961063385"
       ]
      },
      {
       "output_type": "stream",
       "stream": "stdout",
       "text": [
        "\r",
        "Done 800 in 0.335714101791"
       ]
      },
      {
       "output_type": "stream",
       "stream": "stdout",
       "text": [
        "\r",
        "Done 801 in 0.326602935791"
       ]
      },
      {
       "output_type": "stream",
       "stream": "stdout",
       "text": [
        "\r",
        "Done 802 in 0.353387117386"
       ]
      },
      {
       "output_type": "stream",
       "stream": "stdout",
       "text": [
        "\r",
        "Done 803 in 0.318069934845"
       ]
      },
      {
       "output_type": "stream",
       "stream": "stdout",
       "text": [
        "\r",
        "Done 804 in 0.300747871399"
       ]
      },
      {
       "output_type": "stream",
       "stream": "stdout",
       "text": [
        "\r",
        "Done 805 in 0.293845891953"
       ]
      },
      {
       "output_type": "stream",
       "stream": "stdout",
       "text": [
        "\r",
        "Done 806 in 0.286979913712"
       ]
      },
      {
       "output_type": "stream",
       "stream": "stdout",
       "text": [
        "\r",
        "Done 807 in 0.280268907547"
       ]
      },
      {
       "output_type": "stream",
       "stream": "stdout",
       "text": [
        "\r",
        "Done 808 in 0.267507791519"
       ]
      },
      {
       "output_type": "stream",
       "stream": "stdout",
       "text": [
        "\r",
        "Done 809 in 0.258671998978"
       ]
      },
      {
       "output_type": "stream",
       "stream": "stdout",
       "text": [
        "\r",
        "Done 810 in 0.253193855286"
       ]
      },
      {
       "output_type": "stream",
       "stream": "stdout",
       "text": [
        "\r",
        "Done 811 in 0.246527910233"
       ]
      },
      {
       "output_type": "stream",
       "stream": "stdout",
       "text": [
        "\r",
        "Done 812 in 0.233500003815"
       ]
      },
      {
       "output_type": "stream",
       "stream": "stdout",
       "text": [
        "\r",
        "Done 813 in 0.225812196732"
       ]
      },
      {
       "output_type": "stream",
       "stream": "stdout",
       "text": [
        "\r",
        "Done 814 in 0.221189975739"
       ]
      },
      {
       "output_type": "stream",
       "stream": "stdout",
       "text": [
        "\r",
        "Done 815 in 0.212428092957"
       ]
      },
      {
       "output_type": "stream",
       "stream": "stdout",
       "text": [
        "\r",
        "Done 816 in 0.199947118759"
       ]
      },
      {
       "output_type": "stream",
       "stream": "stdout",
       "text": [
        "\r",
        "Done 817 in 0.19386100769"
       ]
      },
      {
       "output_type": "stream",
       "stream": "stdout",
       "text": [
        "\r",
        "Done 818 in 0.201284170151"
       ]
      },
      {
       "output_type": "stream",
       "stream": "stdout",
       "text": [
        "\r",
        "Done 819 in 0.18825507164"
       ]
      },
      {
       "output_type": "stream",
       "stream": "stdout",
       "text": [
        "\r",
        "Done 820 in 0.170493125916"
       ]
      },
      {
       "output_type": "stream",
       "stream": "stdout",
       "text": [
        "\r",
        "Done 821 in 0.166625022888"
       ]
      },
      {
       "output_type": "stream",
       "stream": "stdout",
       "text": [
        "\r",
        "Done 822 in 0.158305883408"
       ]
      },
      {
       "output_type": "stream",
       "stream": "stdout",
       "text": [
        "\r",
        "Done 823 in 0.15395283699"
       ]
      },
      {
       "output_type": "stream",
       "stream": "stdout",
       "text": [
        "\r",
        "Done 824 in 0.146196842194"
       ]
      },
      {
       "output_type": "stream",
       "stream": "stdout",
       "text": [
        "\r",
        "Done 825 in 0.133638143539"
       ]
      },
      {
       "output_type": "stream",
       "stream": "stdout",
       "text": [
        "\r",
        "Done 826 in 0.123985052109"
       ]
      },
      {
       "output_type": "stream",
       "stream": "stdout",
       "text": [
        "\r",
        "Done 827 in 0.117695808411"
       ]
      },
      {
       "output_type": "stream",
       "stream": "stdout",
       "text": [
        "\r",
        "Done 828 in 0.107409000397"
       ]
      },
      {
       "output_type": "stream",
       "stream": "stdout",
       "text": [
        "\r",
        "Done 829 in 0.105917215347"
       ]
      },
      {
       "output_type": "stream",
       "stream": "stdout",
       "text": [
        "\r",
        "Done 830 in 0.0983979701996"
       ]
      },
      {
       "output_type": "stream",
       "stream": "stdout",
       "text": [
        "\r",
        "Done 831 in 0.0892980098724"
       ]
      },
      {
       "output_type": "stream",
       "stream": "stdout",
       "text": [
        "\r",
        "Done 832 in 0.0766870975494"
       ]
      },
      {
       "output_type": "stream",
       "stream": "stdout",
       "text": [
        "\r",
        "Done 833 in 0.069874048233"
       ]
      },
      {
       "output_type": "stream",
       "stream": "stdout",
       "text": [
        "\r",
        "Done 834 in 0.0622429847717"
       ]
      },
      {
       "output_type": "stream",
       "stream": "stdout",
       "text": [
        "\r",
        "Done 835 in 0.0554790496826"
       ]
      },
      {
       "output_type": "stream",
       "stream": "stdout",
       "text": [
        "\r",
        "Done 836 in 0.0480258464813"
       ]
      },
      {
       "output_type": "stream",
       "stream": "stdout",
       "text": [
        "\r",
        "Done 837 in 0.0404770374298"
       ]
      },
      {
       "output_type": "stream",
       "stream": "stdout",
       "text": [
        "\r",
        "Done 838 in 0.0342209339142"
       ]
      },
      {
       "output_type": "stream",
       "stream": "stdout",
       "text": [
        "\r",
        "Done 839 in 0.0276050567627"
       ]
      },
      {
       "output_type": "stream",
       "stream": "stdout",
       "text": [
        "\r",
        "Done 840 in 0.0201601982117"
       ]
      },
      {
       "output_type": "stream",
       "stream": "stdout",
       "text": [
        "\r",
        "Done 841 in 0.0135760307312"
       ]
      },
      {
       "output_type": "stream",
       "stream": "stdout",
       "text": [
        "\r",
        "Done 842 in 0.00662517547607"
       ]
      },
      {
       "output_type": "stream",
       "stream": "stdout",
       "text": [
        "\r",
        "Done 843 in 1.31130218506e-05"
       ]
      },
      {
       "output_type": "stream",
       "stream": "stdout",
       "text": [
        "\n",
        "3384.17379093\n",
        "844\n"
       ]
      }
     ],
     "prompt_number": 16
    },
    {
     "cell_type": "code",
     "collapsed": false,
     "input": [
      "print renderedBBoxes.shape\n",
      "print tmp.shape\n",
      "# gwv.showCustomGraph(renderedBBoxes[:, :, 400])\n",
      "print 560*853"
     ],
     "language": "python",
     "metadata": {},
     "outputs": [
      {
       "output_type": "stream",
       "stream": "stdout",
       "text": [
        "(560, 853, 844)\n",
        "(844, 477680)\n",
        "477680\n"
       ]
      }
     ],
     "prompt_number": 24
    },
    {
     "cell_type": "code",
     "collapsed": false,
     "input": [
      "t = time.time()\n",
      "np.dot(tmp[0, :], tmp.T)\n",
      "print time.time() - t"
     ],
     "language": "python",
     "metadata": {},
     "outputs": [
      {
       "output_type": "stream",
       "stream": "stdout",
       "text": [
        "0.495233058929\n"
       ]
      }
     ],
     "prompt_number": 7
    },
    {
     "cell_type": "code",
     "collapsed": false,
     "input": [
      "tmp = np.copy(renderedBBoxes.reshape((np.prod(renderedBBoxes.shape[0:2]), renderedBBoxes.shape[2])).T).astype(float)\n",
      "dotOverlap = np.dot(tmp, tmp.T)"
     ],
     "language": "python",
     "metadata": {},
     "outputs": [],
     "prompt_number": 50
    },
    {
     "cell_type": "code",
     "collapsed": false,
     "input": [
      "print tmp.shape"
     ],
     "language": "python",
     "metadata": {},
     "outputs": [
      {
       "output_type": "stream",
       "stream": "stdout",
       "text": [
        "(844, 477680)\n"
       ]
      }
     ],
     "prompt_number": 9
    },
    {
     "cell_type": "code",
     "collapsed": false,
     "input": [
      "# tmp = np.copy(renderedBBoxes.reshape((np.prod(renderedBBoxes.shape[0:2]), renderedBBoxes.shape[2])).T)\n",
      "t = time.time()\n",
      "dotOverlap = np.dot(tmp, tmp.T)\n",
      "print time.time()-t"
     ],
     "language": "python",
     "metadata": {},
     "outputs": [
      {
       "output_type": "stream",
       "stream": "stdout",
       "text": [
        "7.57654690742\n"
       ]
      }
     ],
     "prompt_number": 6
    },
    {
     "cell_type": "code",
     "collapsed": false,
     "input": [
      "print dotOverlap.shape"
     ],
     "language": "python",
     "metadata": {},
     "outputs": [
      {
       "output_type": "stream",
       "stream": "stdout",
       "text": [
        "(844, 844)\n"
       ]
      }
     ],
     "prompt_number": 26
    },
    {
     "cell_type": "code",
     "collapsed": false,
     "input": [
      "gwv.showCustomGraph(dotOverlap)\n",
      "# gwv.showCustomGraph(overlappingPixels)"
     ],
     "language": "python",
     "metadata": {},
     "outputs": [],
     "prompt_number": 52
    },
    {
     "cell_type": "code",
     "collapsed": false,
     "input": [
      "from multiprocessing.pool import ThreadPool\n",
      "\n",
      "def computePixelOverlap(ims1, ims2, i, j, threadIdx) :\n",
      "    t = time.time()\n",
      "#     time.sleep(1)#np.random.randint(2, 4))\n",
      "    result = np.dot(ims1, ims2.T)\n",
      "#     print \"done thread\", threadIdx\n",
      "    return result, i, j#, [ims1.shape, ims2.shape, threadIdx]\n",
      "\n",
      "numBlocks = 2\n",
      "blockSize = int(np.ceil(tmp.shape[0]/float(numBlocks)))\n",
      "numThreads = int(numBlocks*(numBlocks+1)/2)\n",
      "print \"need\", numThreads, \"threads\"\n",
      "\n",
      "pool = ThreadPool(processes=numThreads)\n",
      "\n",
      "threadResults = []\n",
      "offset = 0\n",
      "for i in xrange(numBlocks) :\n",
      "    offset += i\n",
      "    for j in xrange(i, numBlocks) :\n",
      "        threadResults.append(pool.apply_async(computePixelOverlap, (tmp[i*blockSize:i*blockSize+blockSize, :], \n",
      "                                                                    tmp[j*blockSize:j*blockSize+blockSize, :],\n",
      "                                                                    i, j, i*numBlocks+j-offset)))\n",
      "        \n",
      "multiprocMat = np.zeros((tmp.shape[0], tmp.shape[0]))\n",
      "t = time.time()\n",
      "for res in threadResults : \n",
      "#     t.join()\n",
      "#     i = int(n/numBlocks)\n",
      "#     j = int(np.mod(n, numBlocks))+i\n",
      "#     print i, j, i*blockSize,i*blockSize+blockSize, j*blockSize,j*blockSize+blockSize, multiprocMat[i*blockSize:i*blockSize+blockSize,\n",
      "#                                                                                                    j*blockSize:j*blockSize+blockSize].shape\n",
      "    blockResult, i, j = res.get()\n",
      "    multiprocMat[i*blockSize:i*blockSize+blockSize,\n",
      "                 j*blockSize:j*blockSize+blockSize] = np.copy(blockResult)\n",
      "    multiprocMat[j*blockSize:j*blockSize+blockSize,\n",
      "                 i*blockSize:i*blockSize+blockSize] = np.copy(blockResult.T)\n",
      "#     print res.get()\n",
      "print \"Exiting Main Thread\", time.time() -t"
     ],
     "language": "python",
     "metadata": {},
     "outputs": [
      {
       "output_type": "stream",
       "stream": "stdout",
       "text": [
        "need 3 threads\n",
        "Exiting Main Thread"
       ]
      },
      {
       "output_type": "stream",
       "stream": "stdout",
       "text": [
        " 16.8179759979\n"
       ]
      }
     ],
     "prompt_number": 22
    },
    {
     "cell_type": "code",
     "collapsed": false,
     "input": [
      "gwv.showCustomGraph(multiprocMat)\n",
      "gwv.showCustomGraph(overlappingPixels)"
     ],
     "language": "python",
     "metadata": {},
     "outputs": [],
     "prompt_number": 23
    },
    {
     "cell_type": "code",
     "collapsed": false,
     "input": [
      "print np.max(np.abs(multiprocMat-overlappingPixels))"
     ],
     "language": "python",
     "metadata": {},
     "outputs": [
      {
       "output_type": "stream",
       "stream": "stdout",
       "text": [
        "0.0\n"
       ]
      }
     ],
     "prompt_number": 24
    },
    {
     "cell_type": "code",
     "collapsed": false,
     "input": [
      "print tmp.shape, tmp.dtype, np.max(tmp), np.min(tmp)"
     ],
     "language": "python",
     "metadata": {},
     "outputs": [
      {
       "output_type": "stream",
       "stream": "stdout",
       "text": [
        "(844, 477680) uint8 "
       ]
      },
      {
       "output_type": "stream",
       "stream": "stdout",
       "text": [
        "1 "
       ]
      },
      {
       "output_type": "stream",
       "stream": "stdout",
       "text": [
        "0\n"
       ]
      }
     ],
     "prompt_number": 15
    },
    {
     "cell_type": "code",
     "collapsed": false,
     "input": [
      "tmp = np.copy(overlappingPixels)"
     ],
     "language": "python",
     "metadata": {},
     "outputs": [],
     "prompt_number": 25
    },
    {
     "cell_type": "code",
     "collapsed": false,
     "input": [
      "gwv.showCustomGraph(overlappingPixels)"
     ],
     "language": "python",
     "metadata": {},
     "outputs": [],
     "prompt_number": 9
    },
    {
     "cell_type": "code",
     "collapsed": false,
     "input": [
      "gwv.showCustomGraph(np.load(dataPath+dataSet+trackedSprites[2][DICT_SEQUENCE_NAME]+\"-vanilla_distMat.npy\"))"
     ],
     "language": "python",
     "metadata": {},
     "outputs": [],
     "prompt_number": 6
    },
    {
     "cell_type": "code",
     "collapsed": false,
     "input": [
      "gwv.showCustomGraph(np.load(dataPath+dataSet+\"window_row2a-vanilla_distMat.npy\"))\n",
      "# print sprite[DICT_SEQUENCE_NAME]"
     ],
     "language": "python",
     "metadata": {},
     "outputs": [],
     "prompt_number": 13
    },
    {
     "cell_type": "code",
     "collapsed": false,
     "input": [
      "print sprite[DICT_BBOXES].keys()\n",
      "print sprite[DICT_SEQUENCE_NAME]\n",
      "print sprite[DICT_FRAMES_LOCATIONS]"
     ],
     "language": "python",
     "metadata": {},
     "outputs": [
      {
       "output_type": "stream",
       "stream": "stdout",
       "text": [
        "[61, 62, 63, 64, 65, 66, 67, 68, 69, 70, 71, 72, 73, 74, 75, 76, 77, 78, 79, 80, 81, 82, 83, 84, 85, 86, 87, 88, 89, 90, 91, 92, 93, 94, 95, 96, 97, 98, 99, 100, 101, 102, 103, 104, 105, 106, 107, 108, 109, 110, 111, 112, 113, 114, 115, 116, 117, 118, 119, 120, 121, 122, 123, 124, 125, 126, 127, 128, 129, 130, 131, 132, 133, 134, 135, 136, 137, 138, 139, 140, 141, 142, 143, 144, 145, 146, 147, 148, 149, 150, 151, 152, 153, 154, 155, 156, 157, 158, 159]\n",
        "window_row2a\n",
        "{61: '/media/ilisescu/Data1/PhD/data/windows/frame-00062.png', 62: '/media/ilisescu/Data1/PhD/data/windows/frame-00063.png', 63: '/media/ilisescu/Data1/PhD/data/windows/frame-00064.png', 64: '/media/ilisescu/Data1/PhD/data/windows/frame-00065.png', 65: '/media/ilisescu/Data1/PhD/data/windows/frame-00066.png', 66: '/media/ilisescu/Data1/PhD/data/windows/frame-00067.png', 67: '/media/ilisescu/Data1/PhD/data/windows/frame-00068.png', 68: '/media/ilisescu/Data1/PhD/data/windows/frame-00069.png', 69: '/media/ilisescu/Data1/PhD/data/windows/frame-00070.png', 70: '/media/ilisescu/Data1/PhD/data/windows/frame-00071.png', 71: '/media/ilisescu/Data1/PhD/data/windows/frame-00072.png', 72: '/media/ilisescu/Data1/PhD/data/windows/frame-00073.png', 73: '/media/ilisescu/Data1/PhD/data/windows/frame-00074.png', 74: '/media/ilisescu/Data1/PhD/data/windows/frame-00075.png', 75: '/media/ilisescu/Data1/PhD/data/windows/frame-00076.png', 76: '/media/ilisescu/Data1/PhD/data/windows/frame-00077.png', 77: '/media/ilisescu/Data1/PhD/data/windows/frame-00078.png', 78: '/media/ilisescu/Data1/PhD/data/windows/frame-00079.png', 79: '/media/ilisescu/Data1/PhD/data/windows/frame-00080.png', 80: '/media/ilisescu/Data1/PhD/data/windows/frame-00081.png', 81: '/media/ilisescu/Data1/PhD/data/windows/frame-00082.png', 82: '/media/ilisescu/Data1/PhD/data/windows/frame-00083.png', 83: '/media/ilisescu/Data1/PhD/data/windows/frame-00084.png', 84: '/media/ilisescu/Data1/PhD/data/windows/frame-00085.png', 85: '/media/ilisescu/Data1/PhD/data/windows/frame-00086.png', 86: '/media/ilisescu/Data1/PhD/data/windows/frame-00087.png', 87: '/media/ilisescu/Data1/PhD/data/windows/frame-00088.png', 88: '/media/ilisescu/Data1/PhD/data/windows/frame-00089.png', 89: '/media/ilisescu/Data1/PhD/data/windows/frame-00090.png', 90: '/media/ilisescu/Data1/PhD/data/windows/frame-00091.png', 91: '/media/ilisescu/Data1/PhD/data/windows/frame-00092.png', 92: '/media/ilisescu/Data1/PhD/data/windows/frame-00093.png', 93: '/media/ilisescu/Data1/PhD/data/windows/frame-00094.png', 94: '/media/ilisescu/Data1/PhD/data/windows/frame-00095.png', 95: '/media/ilisescu/Data1/PhD/data/windows/frame-00096.png', 96: '/media/ilisescu/Data1/PhD/data/windows/frame-00097.png', 97: '/media/ilisescu/Data1/PhD/data/windows/frame-00098.png', 98: '/media/ilisescu/Data1/PhD/data/windows/frame-00099.png', 99: '/media/ilisescu/Data1/PhD/data/windows/frame-00100.png', 100: '/media/ilisescu/Data1/PhD/data/windows/frame-00101.png', 101: '/media/ilisescu/Data1/PhD/data/windows/frame-00102.png', 102: '/media/ilisescu/Data1/PhD/data/windows/frame-00103.png', 103: '/media/ilisescu/Data1/PhD/data/windows/frame-00104.png', 104: '/media/ilisescu/Data1/PhD/data/windows/frame-00105.png', 105: '/media/ilisescu/Data1/PhD/data/windows/frame-00106.png', 106: '/media/ilisescu/Data1/PhD/data/windows/frame-00107.png', 107: '/media/ilisescu/Data1/PhD/data/windows/frame-00108.png', 108: '/media/ilisescu/Data1/PhD/data/windows/frame-00109.png', 109: '/media/ilisescu/Data1/PhD/data/windows/frame-00110.png', 110: '/media/ilisescu/Data1/PhD/data/windows/frame-00111.png', 111: '/media/ilisescu/Data1/PhD/data/windows/frame-00112.png', 112: '/media/ilisescu/Data1/PhD/data/windows/frame-00113.png', 113: '/media/ilisescu/Data1/PhD/data/windows/frame-00114.png', 114: '/media/ilisescu/Data1/PhD/data/windows/frame-00115.png', 115: '/media/ilisescu/Data1/PhD/data/windows/frame-00116.png', 116: '/media/ilisescu/Data1/PhD/data/windows/frame-00117.png', 117: '/media/ilisescu/Data1/PhD/data/windows/frame-00118.png', 118: '/media/ilisescu/Data1/PhD/data/windows/frame-00119.png', 119: '/media/ilisescu/Data1/PhD/data/windows/frame-00120.png', 120: '/media/ilisescu/Data1/PhD/data/windows/frame-00121.png', 121: '/media/ilisescu/Data1/PhD/data/windows/frame-00122.png', 122: '/media/ilisescu/Data1/PhD/data/windows/frame-00123.png', 123: '/media/ilisescu/Data1/PhD/data/windows/frame-00124.png', 124: '/media/ilisescu/Data1/PhD/data/windows/frame-00125.png', 125: '/media/ilisescu/Data1/PhD/data/windows/frame-00126.png', 126: '/media/ilisescu/Data1/PhD/data/windows/frame-00127.png', 127: '/media/ilisescu/Data1/PhD/data/windows/frame-00128.png', 128: '/media/ilisescu/Data1/PhD/data/windows/frame-00129.png', 129: '/media/ilisescu/Data1/PhD/data/windows/frame-00130.png', 130: '/media/ilisescu/Data1/PhD/data/windows/frame-00131.png', 131: '/media/ilisescu/Data1/PhD/data/windows/frame-00132.png', 132: '/media/ilisescu/Data1/PhD/data/windows/frame-00133.png', 133: '/media/ilisescu/Data1/PhD/data/windows/frame-00134.png', 134: '/media/ilisescu/Data1/PhD/data/windows/frame-00135.png', 135: '/media/ilisescu/Data1/PhD/data/windows/frame-00136.png', 136: '/media/ilisescu/Data1/PhD/data/windows/frame-00137.png', 137: '/media/ilisescu/Data1/PhD/data/windows/frame-00138.png', 138: '/media/ilisescu/Data1/PhD/data/windows/frame-00139.png', 139: '/media/ilisescu/Data1/PhD/data/windows/frame-00140.png', 140: '/media/ilisescu/Data1/PhD/data/windows/frame-00141.png', 141: '/media/ilisescu/Data1/PhD/data/windows/frame-00142.png', 142: '/media/ilisescu/Data1/PhD/data/windows/frame-00143.png', 143: '/media/ilisescu/Data1/PhD/data/windows/frame-00144.png', 144: '/media/ilisescu/Data1/PhD/data/windows/frame-00145.png', 145: '/media/ilisescu/Data1/PhD/data/windows/frame-00146.png', 146: '/media/ilisescu/Data1/PhD/data/windows/frame-00147.png', 147: '/media/ilisescu/Data1/PhD/data/windows/frame-00148.png', 148: '/media/ilisescu/Data1/PhD/data/windows/frame-00149.png', 149: '/media/ilisescu/Data1/PhD/data/windows/frame-00150.png', 150: '/media/ilisescu/Data1/PhD/data/windows/frame-00151.png', 151: '/media/ilisescu/Data1/PhD/data/windows/frame-00152.png', 152: '/media/ilisescu/Data1/PhD/data/windows/frame-00153.png', 153: '/media/ilisescu/Data1/PhD/data/windows/frame-00154.png', 154: '/media/ilisescu/Data1/PhD/data/windows/frame-00155.png', 155: '/media/ilisescu/Data1/PhD/data/windows/frame-00156.png', 156: '/media/ilisescu/Data1/PhD/data/windows/frame-00157.png', 157: '/media/ilisescu/Data1/PhD/data/windows/frame-00158.png', 158: '/media/ilisescu/Data1/PhD/data/windows/frame-00159.png', 159: '/media/ilisescu/Data1/PhD/data/windows/frame-00160.png'}\n"
       ]
      }
     ],
     "prompt_number": 7
    },
    {
     "cell_type": "code",
     "collapsed": false,
     "input": [
      "gwv.showCustomGraph(np.load(dataPath+dataSet+\"black_car1-vanilla_distMat.npy\"))"
     ],
     "language": "python",
     "metadata": {},
     "outputs": [],
     "prompt_number": 10
    },
    {
     "cell_type": "code",
     "collapsed": false,
     "input": [
      "print numVisibile1.reshape((blockSize, 1)) + numVisibile1.reshape((1, blockSize))\n",
      "print distMat[0, 0]/n"
     ],
     "language": "python",
     "metadata": {},
     "outputs": [
      {
       "output_type": "stream",
       "stream": "stdout",
       "text": [
        "[[2304 2485 2869 ..., 3734 2798 2472]\n",
        " [2485 2666 3050 ..., 3915 2979 2653]\n",
        " [2869 3050 3434 ..., 4299 3363 3037]\n",
        " ..., \n",
        " [3734 3915 4299 ..., 5164 4228 3902]\n",
        " [2798 2979 3363 ..., 4228 3292 2966]\n",
        " [2472 2653 3037 ..., 3902 2966 2640]]\n",
        "0.000433333490636\n"
       ]
      }
     ],
     "prompt_number": 115
    },
    {
     "cell_type": "code",
     "collapsed": false,
     "input": [
      "import VideoTexturesUtils as vtu\n",
      "gwv.showCustomGraph(vtu.filterDistanceMatrix(distMat, 4, False))"
     ],
     "language": "python",
     "metadata": {},
     "outputs": [
      {
       "output_type": "stream",
       "stream": "stdout",
       "text": [
        "[  1.   8.  28.  56.  70.  56.  28.   8.   1.]\n"
       ]
      }
     ],
     "prompt_number": 12
    }
   ],
   "metadata": {}
  }
 ]
}