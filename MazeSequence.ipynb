{
 "metadata": {
  "name": ""
 },
 "nbformat": 3,
 "nbformat_minor": 0,
 "worksheets": [
  {
   "cells": [
    {
     "cell_type": "code",
     "collapsed": false,
     "input": [
      "## Imports and defines\n",
      "%pylab\n",
      "import numpy as np\n",
      "import re\n",
      "import cv2\n",
      "import sys\n",
      "\n",
      "from mpl_toolkits.mplot3d import Axes3D\n",
      "import matplotlib.animation as animation\n",
      "\n",
      "import MazeSequenceUtils as msu\n",
      "\n",
      "dataLoc = \"/home/ilisescu/PhD/iPy/data/longmaze/\"\n",
      "nameLength = len(filter(None, re.split('/',dataLoc)))\n",
      "nvmFile = \"sparse.nvm\"\n",
      "\n",
      "colVals = ['0', '1', '2', '3', '4', '5', '6', '7', '8', '9', 'a', 'b', 'c', 'd', 'e', 'f']"
     ],
     "language": "python",
     "metadata": {},
     "outputs": [
      {
       "ename": "ImportError",
       "evalue": "No module named cv",
       "output_type": "pyerr",
       "traceback": [
        "\u001b[0;31m---------------------------------------------------------------------------\u001b[0m\n\u001b[0;31mImportError\u001b[0m                               Traceback (most recent call last)",
        "\u001b[0;32m<ipython-input-1-057be17fad8d>\u001b[0m in \u001b[0;36m<module>\u001b[0;34m()\u001b[0m\n\u001b[1;32m      4\u001b[0m \u001b[0;32mimport\u001b[0m \u001b[0mre\u001b[0m\u001b[0;34m\u001b[0m\u001b[0m\n\u001b[1;32m      5\u001b[0m \u001b[0;32mimport\u001b[0m \u001b[0mcv2\u001b[0m\u001b[0;34m\u001b[0m\u001b[0m\n\u001b[0;32m----> 6\u001b[0;31m \u001b[0;32mimport\u001b[0m \u001b[0mcv\u001b[0m\u001b[0;34m\u001b[0m\u001b[0m\n\u001b[0m\u001b[1;32m      7\u001b[0m \u001b[0;32mimport\u001b[0m \u001b[0msys\u001b[0m\u001b[0;34m\u001b[0m\u001b[0m\n\u001b[1;32m      8\u001b[0m \u001b[0;34m\u001b[0m\u001b[0m\n",
        "\u001b[0;31mImportError\u001b[0m: No module named cv"
       ]
      },
      {
       "output_type": "stream",
       "stream": "stdout",
       "text": [
        "Using matplotlib backend: TkAgg\n",
        "Populating the interactive namespace from numpy and matplotlib\n"
       ]
      }
     ],
     "prompt_number": 1
    },
    {
     "cell_type": "code",
     "collapsed": false,
     "input": [
      "cameras, cameraNames = msu.readCameraLocsNVM(dataLoc, nvmFile)\n",
      "distanceMatrix =msu.getDistanceMatrix(dataLoc, cameraNames)\n",
      "\n",
      "# figure(0)\n",
      "# plt.imshow(distanceMatrix, cmap = cm.Greys_r, interpolation='nearest')\n",
      "# figure(1)\n",
      "# plt.imshow(distanceMatrix, interpolation='nearest')"
     ],
     "language": "python",
     "metadata": {},
     "outputs": [
      {
       "output_type": "stream",
       "stream": "stdout",
       "text": [
        "found 769 cameras\n"
       ]
      }
     ],
     "prompt_number": 2
    },
    {
     "cell_type": "code",
     "collapsed": false,
     "input": [
      "## project 3d camera locations onto best fitting plane and fit as many lines as possible\n",
      "\n",
      "cameraLocs2D = np.zeros([len(cameras), 2])\n",
      "## project all camera locations onto best fitting plane\n",
      "plane = msu.fitPlane(cameras[:, 4:7])\n",
      "\n",
      "n = plane[0:3]\n",
      "p = plane[3:6]\n",
      "print \"fitted plane:\", plane\n",
      "# p = np.array([0.0, 0.0, 0.0]) ## project all camera locations on XZ plane (in vsfm up is Y???)\n",
      "# n = np.array([0.0, 1.0, 0.0])\n",
      "\n",
      "idx = 0\n",
      "for cc in cameras[:, 4:7] :\n",
      "    cc2D = cc - np.dot(cc - p, n)*n # project 3D point\n",
      "#     print cc2D, cc\n",
      "#     cameraLocs2D[idx] = [cc2D[0]/cc2D[1], cc2D[2]/cc2D[1]]\n",
      "    cameraLocs2D[idx] = cc2D[[0, 2]] # after project cc onto fitted plane, discard Y since cc is being projected on XZ plane, the Y coord will be 0 so only take X and Z coord\n",
      "    idx += 1\n",
      "\n",
      "## look for all the lines \n",
      "points = cameraLocs2D\n",
      "linesInliers = list()\n",
      "## each line in line is a 6D array where first 3 elements give the line direction and last 3 elements give a point on line\n",
      "lines = list()\n",
      "while len(points) > 1 : # can't find lines with less than 2 points\n",
      "    fittedLine, inliers, bestCameras = msu.ransac(points, 1.0, 500)\n",
      "    if len(inliers) > 1 :\n",
      "        line = msu.fitLine2D(cameraLocs2D[inliers])#cv2.fitLine(np.array(cameraLocs2D[inliers], dtype=float32), cv.CV_DIST_L2, 0, 0.01, 0.01)\n",
      "        lines.append(line)\n",
      "        linesInliers.append(inliers)\n",
      "        points = cameraLocs2D[np.delete(np.arange(0, len(cameraLocs2D), 1), np.hstack(linesInliers))]\n",
      "        \n",
      "        \n",
      "# order line segments based on time (i.e. first segment is the one assigned to the first sequence of frames)\n",
      "sums = np.zeros(len(lines))\n",
      "for i in xrange(0, len(lines)) :\n",
      "    sums[i] = np.sum(linesInliers[i])\n",
      "order = np.argsort(sums)\n",
      "lines = np.array(lines)[order]\n",
      "linesInliers = np.array(linesInliers)[order]"
     ],
     "language": "python",
     "metadata": {},
     "outputs": [
      {
       "output_type": "stream",
       "stream": "stdout",
       "text": [
        "fitted plane: [ -4.65966390e-03  -9.93584869e-01   5.98780011e-05  -1.95562803e+01\n",
        "  -2.25384982e-02  -1.26303280e+01]\n",
        "\r",
        "Ransac iteration 0 of 500"
       ]
      },
      {
       "output_type": "stream",
       "stream": "stdout",
       "text": [
        "\r",
        "Ransac iteration 1 of 500"
       ]
      },
      {
       "output_type": "stream",
       "stream": "stdout",
       "text": [
        "\r",
        "Ransac iteration 2 of 500"
       ]
      },
      {
       "output_type": "stream",
       "stream": "stdout",
       "text": [
        "\r",
        "Ransac iteration 3 of 500"
       ]
      },
      {
       "output_type": "stream",
       "stream": "stdout",
       "text": [
        "\r",
        "Ransac iteration 4 of 500"
       ]
      },
      {
       "output_type": "stream",
       "stream": "stdout",
       "text": [
        "\r",
        "Ransac iteration 5 of 500"
       ]
      },
      {
       "output_type": "stream",
       "stream": "stdout",
       "text": [
        "\r",
        "Ransac iteration 6 of 500"
       ]
      },
      {
       "output_type": "stream",
       "stream": "stdout",
       "text": [
        "\r",
        "Ransac iteration 7 of 500"
       ]
      },
      {
       "output_type": "stream",
       "stream": "stdout",
       "text": [
        "\r",
        "Ransac iteration 8 of 500"
       ]
      },
      {
       "output_type": "stream",
       "stream": "stdout",
       "text": [
        "\r",
        "Ransac iteration 9 of 500"
       ]
      },
      {
       "output_type": "stream",
       "stream": "stdout",
       "text": [
        "\r",
        "Ransac iteration 10 of 500"
       ]
      },
      {
       "output_type": "stream",
       "stream": "stdout",
       "text": [
        "\r",
        "Ransac iteration 11 of 500"
       ]
      },
      {
       "output_type": "stream",
       "stream": "stdout",
       "text": [
        "\r",
        "Ransac iteration 12 of 500"
       ]
      },
      {
       "output_type": "stream",
       "stream": "stdout",
       "text": [
        "\r",
        "Ransac iteration 13 of 500"
       ]
      },
      {
       "output_type": "stream",
       "stream": "stdout",
       "text": [
        "\r",
        "Ransac iteration 14 of 500"
       ]
      },
      {
       "output_type": "stream",
       "stream": "stdout",
       "text": [
        "\r",
        "Ransac iteration 15 of 500"
       ]
      },
      {
       "output_type": "stream",
       "stream": "stdout",
       "text": [
        "\r",
        "Ransac iteration 16 of 500"
       ]
      },
      {
       "output_type": "stream",
       "stream": "stdout",
       "text": [
        "\r",
        "Ransac iteration 17 of 500"
       ]
      },
      {
       "output_type": "stream",
       "stream": "stdout",
       "text": [
        "\r",
        "Ransac iteration 18 of 500"
       ]
      },
      {
       "output_type": "stream",
       "stream": "stdout",
       "text": [
        "\r",
        "Ransac iteration 19 of 500"
       ]
      },
      {
       "output_type": "stream",
       "stream": "stdout",
       "text": [
        "\r",
        "Ransac iteration 20 of 500"
       ]
      },
      {
       "output_type": "stream",
       "stream": "stdout",
       "text": [
        "\r",
        "Ransac iteration 21 of 500"
       ]
      },
      {
       "output_type": "stream",
       "stream": "stdout",
       "text": [
        "\r",
        "Ransac iteration 22 of 500"
       ]
      },
      {
       "output_type": "stream",
       "stream": "stdout",
       "text": [
        "\r",
        "Ransac iteration 23 of 500"
       ]
      },
      {
       "output_type": "stream",
       "stream": "stdout",
       "text": [
        "\r",
        "Ransac iteration 24 of 500"
       ]
      },
      {
       "output_type": "stream",
       "stream": "stdout",
       "text": [
        "\r",
        "Ransac iteration 25 of 500"
       ]
      },
      {
       "output_type": "stream",
       "stream": "stdout",
       "text": [
        "\r",
        "Ransac iteration 26 of 500"
       ]
      },
      {
       "output_type": "stream",
       "stream": "stdout",
       "text": [
        "\r",
        "Ransac iteration 27 of 500"
       ]
      },
      {
       "output_type": "stream",
       "stream": "stdout",
       "text": [
        "\r",
        "Ransac iteration 28 of 500"
       ]
      },
      {
       "output_type": "stream",
       "stream": "stdout",
       "text": [
        "\r",
        "Ransac iteration 29 of 500"
       ]
      },
      {
       "output_type": "stream",
       "stream": "stdout",
       "text": [
        "\r",
        "Ransac iteration 30 of 500"
       ]
      },
      {
       "output_type": "stream",
       "stream": "stdout",
       "text": [
        "\r",
        "Ransac iteration 31 of 500"
       ]
      },
      {
       "output_type": "stream",
       "stream": "stdout",
       "text": [
        "\r",
        "Ransac iteration 32 of 500"
       ]
      },
      {
       "output_type": "stream",
       "stream": "stdout",
       "text": [
        "\r",
        "Ransac iteration 33 of 500"
       ]
      },
      {
       "output_type": "stream",
       "stream": "stdout",
       "text": [
        "\r",
        "Ransac iteration 34 of 500"
       ]
      },
      {
       "output_type": "stream",
       "stream": "stdout",
       "text": [
        "\r",
        "Ransac iteration 35 of 500"
       ]
      },
      {
       "output_type": "stream",
       "stream": "stdout",
       "text": [
        "\r",
        "Ransac iteration 36 of 500"
       ]
      },
      {
       "output_type": "stream",
       "stream": "stdout",
       "text": [
        "\r",
        "Ransac iteration 37 of 500"
       ]
      },
      {
       "output_type": "stream",
       "stream": "stdout",
       "text": [
        "\r",
        "Ransac iteration 38 of 500"
       ]
      },
      {
       "output_type": "stream",
       "stream": "stdout",
       "text": [
        "\r",
        "Ransac iteration 39 of 500"
       ]
      },
      {
       "output_type": "stream",
       "stream": "stdout",
       "text": [
        "\r",
        "Ransac iteration 40 of 500"
       ]
      },
      {
       "output_type": "stream",
       "stream": "stdout",
       "text": [
        "\r",
        "Ransac iteration 41 of 500"
       ]
      },
      {
       "output_type": "stream",
       "stream": "stdout",
       "text": [
        "\r",
        "Ransac iteration 42 of 500"
       ]
      },
      {
       "output_type": "stream",
       "stream": "stdout",
       "text": [
        "\r",
        "Ransac iteration 43 of 500"
       ]
      },
      {
       "output_type": "stream",
       "stream": "stdout",
       "text": [
        "\r",
        "Ransac iteration 44 of 500"
       ]
      },
      {
       "output_type": "stream",
       "stream": "stdout",
       "text": [
        "\r",
        "Ransac iteration 45 of 500"
       ]
      },
      {
       "output_type": "stream",
       "stream": "stdout",
       "text": [
        "\r",
        "Ransac iteration 46 of 500"
       ]
      },
      {
       "output_type": "stream",
       "stream": "stdout",
       "text": [
        "\r",
        "Ransac iteration 47 of 500"
       ]
      },
      {
       "output_type": "stream",
       "stream": "stdout",
       "text": [
        "\r",
        "Ransac iteration 48 of 500"
       ]
      },
      {
       "output_type": "stream",
       "stream": "stdout",
       "text": [
        "\r",
        "Ransac iteration 49 of 500"
       ]
      },
      {
       "output_type": "stream",
       "stream": "stdout",
       "text": [
        "\r",
        "Ransac iteration 50 of 500"
       ]
      },
      {
       "output_type": "stream",
       "stream": "stdout",
       "text": [
        "\r",
        "Ransac iteration 51 of 500"
       ]
      },
      {
       "output_type": "stream",
       "stream": "stdout",
       "text": [
        "\r",
        "Ransac iteration 52 of 500"
       ]
      },
      {
       "output_type": "stream",
       "stream": "stdout",
       "text": [
        "\r",
        "Ransac iteration 53 of 500"
       ]
      },
      {
       "output_type": "stream",
       "stream": "stdout",
       "text": [
        "\r",
        "Ransac iteration 54 of 500"
       ]
      },
      {
       "output_type": "stream",
       "stream": "stdout",
       "text": [
        "\r",
        "Ransac iteration 55 of 500"
       ]
      },
      {
       "output_type": "stream",
       "stream": "stdout",
       "text": [
        "\r",
        "Ransac iteration 56 of 500"
       ]
      },
      {
       "output_type": "stream",
       "stream": "stdout",
       "text": [
        "\r",
        "Ransac iteration 57 of 500"
       ]
      },
      {
       "output_type": "stream",
       "stream": "stdout",
       "text": [
        "\r",
        "Ransac iteration 58 of 500"
       ]
      },
      {
       "output_type": "stream",
       "stream": "stdout",
       "text": [
        "\r",
        "Ransac iteration 59 of 500"
       ]
      },
      {
       "output_type": "stream",
       "stream": "stdout",
       "text": [
        "\r",
        "Ransac iteration 60 of 500"
       ]
      },
      {
       "output_type": "stream",
       "stream": "stdout",
       "text": [
        "\r",
        "Ransac iteration 61 of 500"
       ]
      },
      {
       "output_type": "stream",
       "stream": "stdout",
       "text": [
        "\r",
        "Ransac iteration 62 of 500"
       ]
      },
      {
       "output_type": "stream",
       "stream": "stdout",
       "text": [
        "\r",
        "Ransac iteration 63 of 500"
       ]
      },
      {
       "output_type": "stream",
       "stream": "stdout",
       "text": [
        "\r",
        "Ransac iteration 64 of 500"
       ]
      },
      {
       "output_type": "stream",
       "stream": "stdout",
       "text": [
        "\r",
        "Ransac iteration 65 of 500"
       ]
      },
      {
       "output_type": "stream",
       "stream": "stdout",
       "text": [
        "\r",
        "Ransac iteration 66 of 500"
       ]
      },
      {
       "output_type": "stream",
       "stream": "stdout",
       "text": [
        "\r",
        "Ransac iteration 67 of 500"
       ]
      },
      {
       "output_type": "stream",
       "stream": "stdout",
       "text": [
        "\r",
        "Ransac iteration 68 of 500"
       ]
      },
      {
       "output_type": "stream",
       "stream": "stdout",
       "text": [
        "\r",
        "Ransac iteration 69 of 500"
       ]
      },
      {
       "output_type": "stream",
       "stream": "stdout",
       "text": [
        "\r",
        "Ransac iteration 70 of 500"
       ]
      },
      {
       "output_type": "stream",
       "stream": "stdout",
       "text": [
        "\r",
        "Ransac iteration 71 of 500"
       ]
      },
      {
       "output_type": "stream",
       "stream": "stdout",
       "text": [
        "\r",
        "Ransac iteration 72 of 500"
       ]
      },
      {
       "output_type": "stream",
       "stream": "stdout",
       "text": [
        "\r",
        "Ransac iteration 73 of 500"
       ]
      },
      {
       "output_type": "stream",
       "stream": "stdout",
       "text": [
        "\r",
        "Ransac iteration 74 of 500"
       ]
      },
      {
       "output_type": "stream",
       "stream": "stdout",
       "text": [
        "\r",
        "Ransac iteration 75 of 500"
       ]
      },
      {
       "output_type": "stream",
       "stream": "stdout",
       "text": [
        "\r",
        "Ransac iteration 76 of 500"
       ]
      },
      {
       "output_type": "stream",
       "stream": "stdout",
       "text": [
        "\r",
        "Ransac iteration 77 of 500"
       ]
      },
      {
       "output_type": "stream",
       "stream": "stdout",
       "text": [
        "\r",
        "Ransac iteration 78 of 500"
       ]
      },
      {
       "output_type": "stream",
       "stream": "stdout",
       "text": [
        "\r",
        "Ransac iteration 79 of 500"
       ]
      },
      {
       "output_type": "stream",
       "stream": "stdout",
       "text": [
        "\r",
        "Ransac iteration 80 of 500"
       ]
      },
      {
       "output_type": "stream",
       "stream": "stdout",
       "text": [
        "\r",
        "Ransac iteration 81 of 500"
       ]
      },
      {
       "output_type": "stream",
       "stream": "stdout",
       "text": [
        "\r",
        "Ransac iteration 82 of 500"
       ]
      },
      {
       "output_type": "stream",
       "stream": "stdout",
       "text": [
        "\r",
        "Ransac iteration 83 of 500"
       ]
      },
      {
       "output_type": "stream",
       "stream": "stdout",
       "text": [
        "\r",
        "Ransac iteration 84 of 500"
       ]
      },
      {
       "output_type": "stream",
       "stream": "stdout",
       "text": [
        "\r",
        "Ransac iteration 85 of 500"
       ]
      },
      {
       "output_type": "stream",
       "stream": "stdout",
       "text": [
        "\r",
        "Ransac iteration 86 of 500"
       ]
      },
      {
       "output_type": "stream",
       "stream": "stdout",
       "text": [
        "\r",
        "Ransac iteration 87 of 500"
       ]
      },
      {
       "output_type": "stream",
       "stream": "stdout",
       "text": [
        "\r",
        "Ransac iteration 88 of 500"
       ]
      },
      {
       "output_type": "stream",
       "stream": "stdout",
       "text": [
        "\r",
        "Ransac iteration 89 of 500"
       ]
      },
      {
       "output_type": "stream",
       "stream": "stdout",
       "text": [
        "\r",
        "Ransac iteration 90 of 500"
       ]
      },
      {
       "output_type": "stream",
       "stream": "stdout",
       "text": [
        "\r",
        "Ransac iteration 91 of 500"
       ]
      },
      {
       "output_type": "stream",
       "stream": "stdout",
       "text": [
        "\r",
        "Ransac iteration 92 of 500"
       ]
      },
      {
       "output_type": "stream",
       "stream": "stdout",
       "text": [
        "\r",
        "Ransac iteration 93 of 500"
       ]
      },
      {
       "output_type": "stream",
       "stream": "stdout",
       "text": [
        "\r",
        "Ransac iteration 94 of 500"
       ]
      },
      {
       "output_type": "stream",
       "stream": "stdout",
       "text": [
        "\r",
        "Ransac iteration 95 of 500"
       ]
      },
      {
       "output_type": "stream",
       "stream": "stdout",
       "text": [
        "\r",
        "Ransac iteration 96 of 500"
       ]
      },
      {
       "output_type": "stream",
       "stream": "stdout",
       "text": [
        "\r",
        "Ransac iteration 97 of 500"
       ]
      },
      {
       "output_type": "stream",
       "stream": "stdout",
       "text": [
        "\r",
        "Ransac iteration 98 of 500"
       ]
      },
      {
       "output_type": "stream",
       "stream": "stdout",
       "text": [
        "\r",
        "Ransac iteration 99 of 500"
       ]
      },
      {
       "output_type": "stream",
       "stream": "stdout",
       "text": [
        "\r",
        "Ransac iteration 100 of 500"
       ]
      },
      {
       "output_type": "stream",
       "stream": "stdout",
       "text": [
        "\r",
        "Ransac iteration 101 of 500"
       ]
      },
      {
       "output_type": "stream",
       "stream": "stdout",
       "text": [
        "\r",
        "Ransac iteration 102 of 500"
       ]
      },
      {
       "output_type": "stream",
       "stream": "stdout",
       "text": [
        "\r",
        "Ransac iteration 103 of 500"
       ]
      },
      {
       "output_type": "stream",
       "stream": "stdout",
       "text": [
        "\r",
        "Ransac iteration 104 of 500"
       ]
      },
      {
       "output_type": "stream",
       "stream": "stdout",
       "text": [
        "\r",
        "Ransac iteration 105 of 500"
       ]
      },
      {
       "output_type": "stream",
       "stream": "stdout",
       "text": [
        "\r",
        "Ransac iteration 106 of 500"
       ]
      },
      {
       "output_type": "stream",
       "stream": "stdout",
       "text": [
        "\r",
        "Ransac iteration 107 of 500"
       ]
      },
      {
       "output_type": "stream",
       "stream": "stdout",
       "text": [
        "\r",
        "Ransac iteration 108 of 500"
       ]
      },
      {
       "output_type": "stream",
       "stream": "stdout",
       "text": [
        "\r",
        "Ransac iteration 109 of 500"
       ]
      },
      {
       "output_type": "stream",
       "stream": "stdout",
       "text": [
        "\r",
        "Ransac iteration 110 of 500"
       ]
      },
      {
       "output_type": "stream",
       "stream": "stdout",
       "text": [
        "\r",
        "Ransac iteration 111 of 500"
       ]
      },
      {
       "output_type": "stream",
       "stream": "stdout",
       "text": [
        "\r",
        "Ransac iteration 112 of 500"
       ]
      },
      {
       "output_type": "stream",
       "stream": "stdout",
       "text": [
        "\r",
        "Ransac iteration 113 of 500"
       ]
      },
      {
       "output_type": "stream",
       "stream": "stdout",
       "text": [
        "\r",
        "Ransac iteration 114 of 500"
       ]
      },
      {
       "output_type": "stream",
       "stream": "stdout",
       "text": [
        "\r",
        "Ransac iteration 115 of 500"
       ]
      },
      {
       "output_type": "stream",
       "stream": "stdout",
       "text": [
        "\r",
        "Ransac iteration 116 of 500"
       ]
      },
      {
       "output_type": "stream",
       "stream": "stdout",
       "text": [
        "\r",
        "Ransac iteration 117 of 500"
       ]
      },
      {
       "output_type": "stream",
       "stream": "stdout",
       "text": [
        "\r",
        "Ransac iteration 118 of 500"
       ]
      },
      {
       "output_type": "stream",
       "stream": "stdout",
       "text": [
        "\r",
        "Ransac iteration 119 of 500"
       ]
      },
      {
       "output_type": "stream",
       "stream": "stdout",
       "text": [
        "\r",
        "Ransac iteration 120 of 500"
       ]
      },
      {
       "output_type": "stream",
       "stream": "stdout",
       "text": [
        "\r",
        "Ransac iteration 121 of 500"
       ]
      },
      {
       "output_type": "stream",
       "stream": "stdout",
       "text": [
        "\r",
        "Ransac iteration 122 of 500"
       ]
      },
      {
       "output_type": "stream",
       "stream": "stdout",
       "text": [
        "\r",
        "Ransac iteration 123 of 500"
       ]
      },
      {
       "output_type": "stream",
       "stream": "stdout",
       "text": [
        "\r",
        "Ransac iteration 124 of 500"
       ]
      },
      {
       "output_type": "stream",
       "stream": "stdout",
       "text": [
        "\r",
        "Ransac iteration 125 of 500"
       ]
      },
      {
       "output_type": "stream",
       "stream": "stdout",
       "text": [
        "\r",
        "Ransac iteration 126 of 500"
       ]
      },
      {
       "output_type": "stream",
       "stream": "stdout",
       "text": [
        "\r",
        "Ransac iteration 127 of 500"
       ]
      },
      {
       "output_type": "stream",
       "stream": "stdout",
       "text": [
        "\r",
        "Ransac iteration 128 of 500"
       ]
      },
      {
       "output_type": "stream",
       "stream": "stdout",
       "text": [
        "\r",
        "Ransac iteration 129 of 500"
       ]
      },
      {
       "output_type": "stream",
       "stream": "stdout",
       "text": [
        "\r",
        "Ransac iteration 130 of 500"
       ]
      },
      {
       "output_type": "stream",
       "stream": "stdout",
       "text": [
        "\r",
        "Ransac iteration 131 of 500"
       ]
      },
      {
       "output_type": "stream",
       "stream": "stdout",
       "text": [
        "\r",
        "Ransac iteration 132 of 500"
       ]
      },
      {
       "output_type": "stream",
       "stream": "stdout",
       "text": [
        "\r",
        "Ransac iteration 133 of 500"
       ]
      },
      {
       "output_type": "stream",
       "stream": "stdout",
       "text": [
        "\r",
        "Ransac iteration 134 of 500"
       ]
      },
      {
       "output_type": "stream",
       "stream": "stdout",
       "text": [
        "\r",
        "Ransac iteration 135 of 500"
       ]
      },
      {
       "output_type": "stream",
       "stream": "stdout",
       "text": [
        "\r",
        "Ransac iteration 136 of 500"
       ]
      },
      {
       "output_type": "stream",
       "stream": "stdout",
       "text": [
        "\r",
        "Ransac iteration 137 of 500"
       ]
      },
      {
       "output_type": "stream",
       "stream": "stdout",
       "text": [
        "\r",
        "Ransac iteration 138 of 500"
       ]
      },
      {
       "output_type": "stream",
       "stream": "stdout",
       "text": [
        "\r",
        "Ransac iteration 139 of 500"
       ]
      },
      {
       "output_type": "stream",
       "stream": "stdout",
       "text": [
        "\r",
        "Ransac iteration 140 of 500"
       ]
      },
      {
       "output_type": "stream",
       "stream": "stdout",
       "text": [
        "\r",
        "Ransac iteration 141 of 500"
       ]
      },
      {
       "output_type": "stream",
       "stream": "stdout",
       "text": [
        "\r",
        "Ransac iteration 142 of 500"
       ]
      },
      {
       "output_type": "stream",
       "stream": "stdout",
       "text": [
        "\r",
        "Ransac iteration 143 of 500"
       ]
      },
      {
       "output_type": "stream",
       "stream": "stdout",
       "text": [
        "\r",
        "Ransac iteration 144 of 500"
       ]
      },
      {
       "output_type": "stream",
       "stream": "stdout",
       "text": [
        "\r",
        "Ransac iteration 145 of 500"
       ]
      },
      {
       "output_type": "stream",
       "stream": "stdout",
       "text": [
        "\r",
        "Ransac iteration 146 of 500"
       ]
      },
      {
       "output_type": "stream",
       "stream": "stdout",
       "text": [
        "\r",
        "Ransac iteration 147 of 500"
       ]
      },
      {
       "output_type": "stream",
       "stream": "stdout",
       "text": [
        "\r",
        "Ransac iteration 148 of 500"
       ]
      },
      {
       "output_type": "stream",
       "stream": "stdout",
       "text": [
        "\r",
        "Ransac iteration 149 of 500"
       ]
      },
      {
       "output_type": "stream",
       "stream": "stdout",
       "text": [
        "\r",
        "Ransac iteration 150 of 500"
       ]
      },
      {
       "output_type": "stream",
       "stream": "stdout",
       "text": [
        "\r",
        "Ransac iteration 151 of 500"
       ]
      },
      {
       "output_type": "stream",
       "stream": "stdout",
       "text": [
        "\r",
        "Ransac iteration 152 of 500"
       ]
      },
      {
       "output_type": "stream",
       "stream": "stdout",
       "text": [
        "\r",
        "Ransac iteration 153 of 500"
       ]
      },
      {
       "output_type": "stream",
       "stream": "stdout",
       "text": [
        "\r",
        "Ransac iteration 154 of 500"
       ]
      },
      {
       "output_type": "stream",
       "stream": "stdout",
       "text": [
        "\r",
        "Ransac iteration 155 of 500"
       ]
      },
      {
       "output_type": "stream",
       "stream": "stdout",
       "text": [
        "\r",
        "Ransac iteration 156 of 500"
       ]
      },
      {
       "output_type": "stream",
       "stream": "stdout",
       "text": [
        "\r",
        "Ransac iteration 157 of 500"
       ]
      },
      {
       "output_type": "stream",
       "stream": "stdout",
       "text": [
        "\r",
        "Ransac iteration 158 of 500"
       ]
      },
      {
       "output_type": "stream",
       "stream": "stdout",
       "text": [
        "\r",
        "Ransac iteration 159 of 500"
       ]
      },
      {
       "output_type": "stream",
       "stream": "stdout",
       "text": [
        "\r",
        "Ransac iteration 160 of 500"
       ]
      },
      {
       "output_type": "stream",
       "stream": "stdout",
       "text": [
        "\r",
        "Ransac iteration 161 of 500"
       ]
      },
      {
       "output_type": "stream",
       "stream": "stdout",
       "text": [
        "\r",
        "Ransac iteration 162 of 500"
       ]
      },
      {
       "output_type": "stream",
       "stream": "stdout",
       "text": [
        "\r",
        "Ransac iteration 163 of 500"
       ]
      },
      {
       "output_type": "stream",
       "stream": "stdout",
       "text": [
        "\r",
        "Ransac iteration 164 of 500"
       ]
      },
      {
       "output_type": "stream",
       "stream": "stdout",
       "text": [
        "\r",
        "Ransac iteration 165 of 500"
       ]
      },
      {
       "output_type": "stream",
       "stream": "stdout",
       "text": [
        "\r",
        "Ransac iteration 166 of 500"
       ]
      },
      {
       "output_type": "stream",
       "stream": "stdout",
       "text": [
        "\r",
        "Ransac iteration 167 of 500"
       ]
      },
      {
       "output_type": "stream",
       "stream": "stdout",
       "text": [
        "\r",
        "Ransac iteration 168 of 500"
       ]
      },
      {
       "output_type": "stream",
       "stream": "stdout",
       "text": [
        "\r",
        "Ransac iteration 169 of 500"
       ]
      },
      {
       "output_type": "stream",
       "stream": "stdout",
       "text": [
        "\r",
        "Ransac iteration 170 of 500"
       ]
      },
      {
       "output_type": "stream",
       "stream": "stdout",
       "text": [
        "\r",
        "Ransac iteration 171 of 500"
       ]
      },
      {
       "output_type": "stream",
       "stream": "stdout",
       "text": [
        "\r",
        "Ransac iteration 172 of 500"
       ]
      },
      {
       "output_type": "stream",
       "stream": "stdout",
       "text": [
        "\r",
        "Ransac iteration 173 of 500"
       ]
      },
      {
       "output_type": "stream",
       "stream": "stdout",
       "text": [
        "\r",
        "Ransac iteration 174 of 500"
       ]
      },
      {
       "output_type": "stream",
       "stream": "stdout",
       "text": [
        "\r",
        "Ransac iteration 175 of 500"
       ]
      },
      {
       "output_type": "stream",
       "stream": "stdout",
       "text": [
        "\r",
        "Ransac iteration 176 of 500"
       ]
      },
      {
       "output_type": "stream",
       "stream": "stdout",
       "text": [
        "\r",
        "Ransac iteration 177 of 500"
       ]
      },
      {
       "output_type": "stream",
       "stream": "stdout",
       "text": [
        "\r",
        "Ransac iteration 178 of 500"
       ]
      },
      {
       "output_type": "stream",
       "stream": "stdout",
       "text": [
        "\r",
        "Ransac iteration 179 of 500"
       ]
      },
      {
       "output_type": "stream",
       "stream": "stdout",
       "text": [
        "\r",
        "Ransac iteration 180 of 500"
       ]
      },
      {
       "output_type": "stream",
       "stream": "stdout",
       "text": [
        "\r",
        "Ransac iteration 181 of 500"
       ]
      },
      {
       "output_type": "stream",
       "stream": "stdout",
       "text": [
        "\r",
        "Ransac iteration 182 of 500"
       ]
      },
      {
       "output_type": "stream",
       "stream": "stdout",
       "text": [
        "\r",
        "Ransac iteration 183 of 500"
       ]
      },
      {
       "output_type": "stream",
       "stream": "stdout",
       "text": [
        "\r",
        "Ransac iteration 184 of 500"
       ]
      },
      {
       "output_type": "stream",
       "stream": "stdout",
       "text": [
        "\r",
        "Ransac iteration 185 of 500"
       ]
      },
      {
       "output_type": "stream",
       "stream": "stdout",
       "text": [
        "\r",
        "Ransac iteration 186 of 500"
       ]
      },
      {
       "output_type": "stream",
       "stream": "stdout",
       "text": [
        "\r",
        "Ransac iteration 187 of 500"
       ]
      },
      {
       "output_type": "stream",
       "stream": "stdout",
       "text": [
        "\r",
        "Ransac iteration 188 of 500"
       ]
      },
      {
       "output_type": "stream",
       "stream": "stdout",
       "text": [
        "\r",
        "Ransac iteration 189 of 500"
       ]
      },
      {
       "output_type": "stream",
       "stream": "stdout",
       "text": [
        "\r",
        "Ransac iteration 190 of 500"
       ]
      },
      {
       "output_type": "stream",
       "stream": "stdout",
       "text": [
        "\r",
        "Ransac iteration 191 of 500"
       ]
      },
      {
       "output_type": "stream",
       "stream": "stdout",
       "text": [
        "\r",
        "Ransac iteration 192 of 500"
       ]
      },
      {
       "output_type": "stream",
       "stream": "stdout",
       "text": [
        "\r",
        "Ransac iteration 193 of 500"
       ]
      },
      {
       "output_type": "stream",
       "stream": "stdout",
       "text": [
        "\r",
        "Ransac iteration 194 of 500"
       ]
      },
      {
       "output_type": "stream",
       "stream": "stdout",
       "text": [
        "\r",
        "Ransac iteration 195 of 500"
       ]
      },
      {
       "output_type": "stream",
       "stream": "stdout",
       "text": [
        "\r",
        "Ransac iteration 196 of 500"
       ]
      },
      {
       "output_type": "stream",
       "stream": "stdout",
       "text": [
        "\r",
        "Ransac iteration 197 of 500"
       ]
      },
      {
       "output_type": "stream",
       "stream": "stdout",
       "text": [
        "\r",
        "Ransac iteration 198 of 500"
       ]
      },
      {
       "output_type": "stream",
       "stream": "stdout",
       "text": [
        "\r",
        "Ransac iteration 199 of 500"
       ]
      },
      {
       "output_type": "stream",
       "stream": "stdout",
       "text": [
        "\r",
        "Ransac iteration 200 of 500"
       ]
      },
      {
       "output_type": "stream",
       "stream": "stdout",
       "text": [
        "\r",
        "Ransac iteration 201 of 500"
       ]
      },
      {
       "output_type": "stream",
       "stream": "stdout",
       "text": [
        "\r",
        "Ransac iteration 202 of 500"
       ]
      },
      {
       "output_type": "stream",
       "stream": "stdout",
       "text": [
        "\r",
        "Ransac iteration 203 of 500"
       ]
      },
      {
       "output_type": "stream",
       "stream": "stdout",
       "text": [
        "\r",
        "Ransac iteration 204 of 500"
       ]
      },
      {
       "output_type": "stream",
       "stream": "stdout",
       "text": [
        "\r",
        "Ransac iteration 205 of 500"
       ]
      },
      {
       "output_type": "stream",
       "stream": "stdout",
       "text": [
        "\r",
        "Ransac iteration 206 of 500"
       ]
      },
      {
       "output_type": "stream",
       "stream": "stdout",
       "text": [
        "\r",
        "Ransac iteration 207 of 500"
       ]
      },
      {
       "output_type": "stream",
       "stream": "stdout",
       "text": [
        "\r",
        "Ransac iteration 208 of 500"
       ]
      },
      {
       "output_type": "stream",
       "stream": "stdout",
       "text": [
        "\r",
        "Ransac iteration 209 of 500"
       ]
      },
      {
       "output_type": "stream",
       "stream": "stdout",
       "text": [
        "\r",
        "Ransac iteration 210 of 500"
       ]
      },
      {
       "output_type": "stream",
       "stream": "stdout",
       "text": [
        "\r",
        "Ransac iteration 211 of 500"
       ]
      },
      {
       "output_type": "stream",
       "stream": "stdout",
       "text": [
        "\r",
        "Ransac iteration 212 of 500"
       ]
      },
      {
       "output_type": "stream",
       "stream": "stdout",
       "text": [
        "\r",
        "Ransac iteration 213 of 500"
       ]
      },
      {
       "output_type": "stream",
       "stream": "stdout",
       "text": [
        "\r",
        "Ransac iteration 214 of 500"
       ]
      },
      {
       "output_type": "stream",
       "stream": "stdout",
       "text": [
        "\r",
        "Ransac iteration 215 of 500"
       ]
      },
      {
       "output_type": "stream",
       "stream": "stdout",
       "text": [
        "\r",
        "Ransac iteration 216 of 500"
       ]
      },
      {
       "output_type": "stream",
       "stream": "stdout",
       "text": [
        "\r",
        "Ransac iteration 217 of 500"
       ]
      },
      {
       "output_type": "stream",
       "stream": "stdout",
       "text": [
        "\r",
        "Ransac iteration 218 of 500"
       ]
      },
      {
       "output_type": "stream",
       "stream": "stdout",
       "text": [
        "\r",
        "Ransac iteration 219 of 500"
       ]
      },
      {
       "output_type": "stream",
       "stream": "stdout",
       "text": [
        "\r",
        "Ransac iteration 220 of 500"
       ]
      },
      {
       "output_type": "stream",
       "stream": "stdout",
       "text": [
        "\r",
        "Ransac iteration 221 of 500"
       ]
      },
      {
       "output_type": "stream",
       "stream": "stdout",
       "text": [
        "\r",
        "Ransac iteration 222 of 500"
       ]
      },
      {
       "output_type": "stream",
       "stream": "stdout",
       "text": [
        "\r",
        "Ransac iteration 223 of 500"
       ]
      },
      {
       "output_type": "stream",
       "stream": "stdout",
       "text": [
        "\r",
        "Ransac iteration 224 of 500"
       ]
      },
      {
       "output_type": "stream",
       "stream": "stdout",
       "text": [
        "\r",
        "Ransac iteration 225 of 500"
       ]
      },
      {
       "output_type": "stream",
       "stream": "stdout",
       "text": [
        "\r",
        "Ransac iteration 226 of 500"
       ]
      },
      {
       "output_type": "stream",
       "stream": "stdout",
       "text": [
        "\r",
        "Ransac iteration 227 of 500"
       ]
      },
      {
       "output_type": "stream",
       "stream": "stdout",
       "text": [
        "\r",
        "Ransac iteration 228 of 500"
       ]
      },
      {
       "output_type": "stream",
       "stream": "stdout",
       "text": [
        "\r",
        "Ransac iteration 229 of 500"
       ]
      },
      {
       "output_type": "stream",
       "stream": "stdout",
       "text": [
        "\r",
        "Ransac iteration 230 of 500"
       ]
      },
      {
       "output_type": "stream",
       "stream": "stdout",
       "text": [
        "\r",
        "Ransac iteration 231 of 500"
       ]
      },
      {
       "output_type": "stream",
       "stream": "stdout",
       "text": [
        "\r",
        "Ransac iteration 232 of 500"
       ]
      },
      {
       "output_type": "stream",
       "stream": "stdout",
       "text": [
        "\r",
        "Ransac iteration 233 of 500"
       ]
      },
      {
       "output_type": "stream",
       "stream": "stdout",
       "text": [
        "\r",
        "Ransac iteration 234 of 500"
       ]
      },
      {
       "output_type": "stream",
       "stream": "stdout",
       "text": [
        "\r",
        "Ransac iteration 235 of 500"
       ]
      },
      {
       "output_type": "stream",
       "stream": "stdout",
       "text": [
        "\r",
        "Ransac iteration 236 of 500"
       ]
      },
      {
       "output_type": "stream",
       "stream": "stdout",
       "text": [
        "\r",
        "Ransac iteration 237 of 500"
       ]
      },
      {
       "output_type": "stream",
       "stream": "stdout",
       "text": [
        "\r",
        "Ransac iteration 238 of 500"
       ]
      },
      {
       "output_type": "stream",
       "stream": "stdout",
       "text": [
        "\r",
        "Ransac iteration 239 of 500"
       ]
      },
      {
       "output_type": "stream",
       "stream": "stdout",
       "text": [
        "\r",
        "Ransac iteration 240 of 500"
       ]
      },
      {
       "output_type": "stream",
       "stream": "stdout",
       "text": [
        "\r",
        "Ransac iteration 241 of 500"
       ]
      },
      {
       "output_type": "stream",
       "stream": "stdout",
       "text": [
        "\r",
        "Ransac iteration 242 of 500"
       ]
      },
      {
       "output_type": "stream",
       "stream": "stdout",
       "text": [
        "\r",
        "Ransac iteration 243 of 500"
       ]
      },
      {
       "output_type": "stream",
       "stream": "stdout",
       "text": [
        "\r",
        "Ransac iteration 244 of 500"
       ]
      },
      {
       "output_type": "stream",
       "stream": "stdout",
       "text": [
        "\r",
        "Ransac iteration 245 of 500"
       ]
      },
      {
       "output_type": "stream",
       "stream": "stdout",
       "text": [
        "\r",
        "Ransac iteration 246 of 500"
       ]
      },
      {
       "output_type": "stream",
       "stream": "stdout",
       "text": [
        "\r",
        "Ransac iteration 247 of 500"
       ]
      },
      {
       "output_type": "stream",
       "stream": "stdout",
       "text": [
        "\r",
        "Ransac iteration 248 of 500"
       ]
      },
      {
       "output_type": "stream",
       "stream": "stdout",
       "text": [
        "\r",
        "Ransac iteration 249 of 500"
       ]
      },
      {
       "output_type": "stream",
       "stream": "stdout",
       "text": [
        "\r",
        "Ransac iteration 250 of 500"
       ]
      },
      {
       "output_type": "stream",
       "stream": "stdout",
       "text": [
        "\r",
        "Ransac iteration 251 of 500"
       ]
      },
      {
       "output_type": "stream",
       "stream": "stdout",
       "text": [
        "\r",
        "Ransac iteration 252 of 500"
       ]
      },
      {
       "output_type": "stream",
       "stream": "stdout",
       "text": [
        "\r",
        "Ransac iteration 253 of 500"
       ]
      },
      {
       "output_type": "stream",
       "stream": "stdout",
       "text": [
        "\r",
        "Ransac iteration 254 of 500"
       ]
      },
      {
       "output_type": "stream",
       "stream": "stdout",
       "text": [
        "\r",
        "Ransac iteration 255 of 500"
       ]
      },
      {
       "output_type": "stream",
       "stream": "stdout",
       "text": [
        "\r",
        "Ransac iteration 256 of 500"
       ]
      },
      {
       "output_type": "stream",
       "stream": "stdout",
       "text": [
        "\r",
        "Ransac iteration 257 of 500"
       ]
      },
      {
       "output_type": "stream",
       "stream": "stdout",
       "text": [
        "\r",
        "Ransac iteration 258 of 500"
       ]
      },
      {
       "output_type": "stream",
       "stream": "stdout",
       "text": [
        "\r",
        "Ransac iteration 259 of 500"
       ]
      },
      {
       "output_type": "stream",
       "stream": "stdout",
       "text": [
        "\r",
        "Ransac iteration 260 of 500"
       ]
      },
      {
       "output_type": "stream",
       "stream": "stdout",
       "text": [
        "\r",
        "Ransac iteration 261 of 500"
       ]
      },
      {
       "output_type": "stream",
       "stream": "stdout",
       "text": [
        "\r",
        "Ransac iteration 262 of 500"
       ]
      },
      {
       "output_type": "stream",
       "stream": "stdout",
       "text": [
        "\r",
        "Ransac iteration 263 of 500"
       ]
      },
      {
       "output_type": "stream",
       "stream": "stdout",
       "text": [
        "\r",
        "Ransac iteration 264 of 500"
       ]
      },
      {
       "output_type": "stream",
       "stream": "stdout",
       "text": [
        "\r",
        "Ransac iteration 265 of 500"
       ]
      },
      {
       "output_type": "stream",
       "stream": "stdout",
       "text": [
        "\r",
        "Ransac iteration 266 of 500"
       ]
      },
      {
       "output_type": "stream",
       "stream": "stdout",
       "text": [
        "\r",
        "Ransac iteration 267 of 500"
       ]
      },
      {
       "output_type": "stream",
       "stream": "stdout",
       "text": [
        "\r",
        "Ransac iteration 268 of 500"
       ]
      },
      {
       "output_type": "stream",
       "stream": "stdout",
       "text": [
        "\r",
        "Ransac iteration 269 of 500"
       ]
      },
      {
       "output_type": "stream",
       "stream": "stdout",
       "text": [
        "\r",
        "Ransac iteration 270 of 500"
       ]
      },
      {
       "output_type": "stream",
       "stream": "stdout",
       "text": [
        "\r",
        "Ransac iteration 271 of 500"
       ]
      },
      {
       "output_type": "stream",
       "stream": "stdout",
       "text": [
        "\r",
        "Ransac iteration 272 of 500"
       ]
      },
      {
       "output_type": "stream",
       "stream": "stdout",
       "text": [
        "\r",
        "Ransac iteration 273 of 500"
       ]
      },
      {
       "output_type": "stream",
       "stream": "stdout",
       "text": [
        "\r",
        "Ransac iteration 274 of 500"
       ]
      },
      {
       "output_type": "stream",
       "stream": "stdout",
       "text": [
        "\r",
        "Ransac iteration 275 of 500"
       ]
      },
      {
       "output_type": "stream",
       "stream": "stdout",
       "text": [
        "\r",
        "Ransac iteration 276 of 500"
       ]
      },
      {
       "output_type": "stream",
       "stream": "stdout",
       "text": [
        "\r",
        "Ransac iteration 277 of 500"
       ]
      },
      {
       "output_type": "stream",
       "stream": "stdout",
       "text": [
        "\r",
        "Ransac iteration 278 of 500"
       ]
      },
      {
       "output_type": "stream",
       "stream": "stdout",
       "text": [
        "\r",
        "Ransac iteration 279 of 500"
       ]
      },
      {
       "output_type": "stream",
       "stream": "stdout",
       "text": [
        "\r",
        "Ransac iteration 280 of 500"
       ]
      },
      {
       "output_type": "stream",
       "stream": "stdout",
       "text": [
        "\r",
        "Ransac iteration 281 of 500"
       ]
      },
      {
       "output_type": "stream",
       "stream": "stdout",
       "text": [
        "\r",
        "Ransac iteration 282 of 500"
       ]
      },
      {
       "output_type": "stream",
       "stream": "stdout",
       "text": [
        "\r",
        "Ransac iteration 283 of 500"
       ]
      },
      {
       "output_type": "stream",
       "stream": "stdout",
       "text": [
        "\r",
        "Ransac iteration 284 of 500"
       ]
      },
      {
       "output_type": "stream",
       "stream": "stdout",
       "text": [
        "\r",
        "Ransac iteration 285 of 500"
       ]
      },
      {
       "output_type": "stream",
       "stream": "stdout",
       "text": [
        "\r",
        "Ransac iteration 286 of 500"
       ]
      },
      {
       "output_type": "stream",
       "stream": "stdout",
       "text": [
        "\r",
        "Ransac iteration 287 of 500"
       ]
      },
      {
       "output_type": "stream",
       "stream": "stdout",
       "text": [
        "\r",
        "Ransac iteration 288 of 500"
       ]
      },
      {
       "output_type": "stream",
       "stream": "stdout",
       "text": [
        "\r",
        "Ransac iteration 289 of 500"
       ]
      },
      {
       "output_type": "stream",
       "stream": "stdout",
       "text": [
        "\r",
        "Ransac iteration 290 of 500"
       ]
      },
      {
       "output_type": "stream",
       "stream": "stdout",
       "text": [
        "\r",
        "Ransac iteration 291 of 500"
       ]
      },
      {
       "output_type": "stream",
       "stream": "stdout",
       "text": [
        "\r",
        "Ransac iteration 292 of 500"
       ]
      },
      {
       "output_type": "stream",
       "stream": "stdout",
       "text": [
        "\r",
        "Ransac iteration 293 of 500"
       ]
      },
      {
       "output_type": "stream",
       "stream": "stdout",
       "text": [
        "\r",
        "Ransac iteration 294 of 500"
       ]
      },
      {
       "output_type": "stream",
       "stream": "stdout",
       "text": [
        "\r",
        "Ransac iteration 295 of 500"
       ]
      },
      {
       "output_type": "stream",
       "stream": "stdout",
       "text": [
        "\r",
        "Ransac iteration 296 of 500"
       ]
      },
      {
       "output_type": "stream",
       "stream": "stdout",
       "text": [
        "\r",
        "Ransac iteration 297 of 500"
       ]
      },
      {
       "output_type": "stream",
       "stream": "stdout",
       "text": [
        "\r",
        "Ransac iteration 298 of 500"
       ]
      },
      {
       "output_type": "stream",
       "stream": "stdout",
       "text": [
        "\r",
        "Ransac iteration 299 of 500"
       ]
      },
      {
       "output_type": "stream",
       "stream": "stdout",
       "text": [
        "\r",
        "Ransac iteration 300 of 500"
       ]
      },
      {
       "output_type": "stream",
       "stream": "stdout",
       "text": [
        "\r",
        "Ransac iteration 301 of 500"
       ]
      },
      {
       "output_type": "stream",
       "stream": "stdout",
       "text": [
        "\r",
        "Ransac iteration 302 of 500"
       ]
      },
      {
       "output_type": "stream",
       "stream": "stdout",
       "text": [
        "\r",
        "Ransac iteration 303 of 500"
       ]
      },
      {
       "output_type": "stream",
       "stream": "stdout",
       "text": [
        "\r",
        "Ransac iteration 304 of 500"
       ]
      },
      {
       "output_type": "stream",
       "stream": "stdout",
       "text": [
        "\r",
        "Ransac iteration 305 of 500"
       ]
      },
      {
       "output_type": "stream",
       "stream": "stdout",
       "text": [
        "\r",
        "Ransac iteration 306 of 500"
       ]
      },
      {
       "output_type": "stream",
       "stream": "stdout",
       "text": [
        "\r",
        "Ransac iteration 307 of 500"
       ]
      },
      {
       "output_type": "stream",
       "stream": "stdout",
       "text": [
        "\r",
        "Ransac iteration 308 of 500"
       ]
      },
      {
       "output_type": "stream",
       "stream": "stdout",
       "text": [
        "\r",
        "Ransac iteration 309 of 500"
       ]
      },
      {
       "output_type": "stream",
       "stream": "stdout",
       "text": [
        "\r",
        "Ransac iteration 310 of 500"
       ]
      },
      {
       "output_type": "stream",
       "stream": "stdout",
       "text": [
        "\r",
        "Ransac iteration 311 of 500"
       ]
      },
      {
       "output_type": "stream",
       "stream": "stdout",
       "text": [
        "\r",
        "Ransac iteration 312 of 500"
       ]
      },
      {
       "output_type": "stream",
       "stream": "stdout",
       "text": [
        "\r",
        "Ransac iteration 313 of 500"
       ]
      },
      {
       "output_type": "stream",
       "stream": "stdout",
       "text": [
        "\r",
        "Ransac iteration 314 of 500"
       ]
      },
      {
       "output_type": "stream",
       "stream": "stdout",
       "text": [
        "\r",
        "Ransac iteration 315 of 500"
       ]
      },
      {
       "output_type": "stream",
       "stream": "stdout",
       "text": [
        "\r",
        "Ransac iteration 316 of 500"
       ]
      },
      {
       "output_type": "stream",
       "stream": "stdout",
       "text": [
        "\r",
        "Ransac iteration 317 of 500"
       ]
      },
      {
       "output_type": "stream",
       "stream": "stdout",
       "text": [
        "\r",
        "Ransac iteration 318 of 500"
       ]
      },
      {
       "output_type": "stream",
       "stream": "stdout",
       "text": [
        "\r",
        "Ransac iteration 319 of 500"
       ]
      },
      {
       "output_type": "stream",
       "stream": "stdout",
       "text": [
        "\r",
        "Ransac iteration 320 of 500"
       ]
      },
      {
       "output_type": "stream",
       "stream": "stdout",
       "text": [
        "\r",
        "Ransac iteration 321 of 500"
       ]
      },
      {
       "output_type": "stream",
       "stream": "stdout",
       "text": [
        "\r",
        "Ransac iteration 322 of 500"
       ]
      },
      {
       "output_type": "stream",
       "stream": "stdout",
       "text": [
        "\r",
        "Ransac iteration 323 of 500"
       ]
      },
      {
       "output_type": "stream",
       "stream": "stdout",
       "text": [
        "\r",
        "Ransac iteration 324 of 500"
       ]
      },
      {
       "output_type": "stream",
       "stream": "stdout",
       "text": [
        "\r",
        "Ransac iteration 325 of 500"
       ]
      },
      {
       "output_type": "stream",
       "stream": "stdout",
       "text": [
        "\r",
        "Ransac iteration 326 of 500"
       ]
      },
      {
       "output_type": "stream",
       "stream": "stdout",
       "text": [
        "\r",
        "Ransac iteration 327 of 500"
       ]
      },
      {
       "output_type": "stream",
       "stream": "stdout",
       "text": [
        "\r",
        "Ransac iteration 328 of 500"
       ]
      },
      {
       "output_type": "stream",
       "stream": "stdout",
       "text": [
        "\r",
        "Ransac iteration 329 of 500"
       ]
      },
      {
       "output_type": "stream",
       "stream": "stdout",
       "text": [
        "\r",
        "Ransac iteration 330 of 500"
       ]
      },
      {
       "output_type": "stream",
       "stream": "stdout",
       "text": [
        "\r",
        "Ransac iteration 331 of 500"
       ]
      },
      {
       "output_type": "stream",
       "stream": "stdout",
       "text": [
        "\r",
        "Ransac iteration 332 of 500"
       ]
      },
      {
       "output_type": "stream",
       "stream": "stdout",
       "text": [
        "\r",
        "Ransac iteration 333 of 500"
       ]
      },
      {
       "output_type": "stream",
       "stream": "stdout",
       "text": [
        "\r",
        "Ransac iteration 334 of 500"
       ]
      },
      {
       "output_type": "stream",
       "stream": "stdout",
       "text": [
        "\r",
        "Ransac iteration 335 of 500"
       ]
      },
      {
       "output_type": "stream",
       "stream": "stdout",
       "text": [
        "\r",
        "Ransac iteration 336 of 500"
       ]
      },
      {
       "output_type": "stream",
       "stream": "stdout",
       "text": [
        "\r",
        "Ransac iteration 337 of 500"
       ]
      },
      {
       "output_type": "stream",
       "stream": "stdout",
       "text": [
        "\r",
        "Ransac iteration 338 of 500"
       ]
      },
      {
       "output_type": "stream",
       "stream": "stdout",
       "text": [
        "\r",
        "Ransac iteration 339 of 500"
       ]
      },
      {
       "output_type": "stream",
       "stream": "stdout",
       "text": [
        "\r",
        "Ransac iteration 340 of 500"
       ]
      },
      {
       "output_type": "stream",
       "stream": "stdout",
       "text": [
        "\r",
        "Ransac iteration 341 of 500"
       ]
      },
      {
       "output_type": "stream",
       "stream": "stdout",
       "text": [
        "\r",
        "Ransac iteration 342 of 500"
       ]
      },
      {
       "output_type": "stream",
       "stream": "stdout",
       "text": [
        "\r",
        "Ransac iteration 343 of 500"
       ]
      },
      {
       "output_type": "stream",
       "stream": "stdout",
       "text": [
        "\r",
        "Ransac iteration 344 of 500"
       ]
      },
      {
       "output_type": "stream",
       "stream": "stdout",
       "text": [
        "\r",
        "Ransac iteration 345 of 500"
       ]
      },
      {
       "output_type": "stream",
       "stream": "stdout",
       "text": [
        "\r",
        "Ransac iteration 346 of 500"
       ]
      },
      {
       "output_type": "stream",
       "stream": "stdout",
       "text": [
        "\r",
        "Ransac iteration 347 of 500"
       ]
      },
      {
       "output_type": "stream",
       "stream": "stdout",
       "text": [
        "\r",
        "Ransac iteration 348 of 500"
       ]
      },
      {
       "output_type": "stream",
       "stream": "stdout",
       "text": [
        "\r",
        "Ransac iteration 349 of 500"
       ]
      },
      {
       "output_type": "stream",
       "stream": "stdout",
       "text": [
        "\r",
        "Ransac iteration 350 of 500"
       ]
      },
      {
       "output_type": "stream",
       "stream": "stdout",
       "text": [
        "\r",
        "Ransac iteration 351 of 500"
       ]
      },
      {
       "output_type": "stream",
       "stream": "stdout",
       "text": [
        "\r",
        "Ransac iteration 352 of 500"
       ]
      },
      {
       "output_type": "stream",
       "stream": "stdout",
       "text": [
        "\r",
        "Ransac iteration 353 of 500"
       ]
      },
      {
       "output_type": "stream",
       "stream": "stdout",
       "text": [
        "\r",
        "Ransac iteration 354 of 500"
       ]
      },
      {
       "output_type": "stream",
       "stream": "stdout",
       "text": [
        "\r",
        "Ransac iteration 355 of 500"
       ]
      },
      {
       "output_type": "stream",
       "stream": "stdout",
       "text": [
        "\r",
        "Ransac iteration 356 of 500"
       ]
      },
      {
       "output_type": "stream",
       "stream": "stdout",
       "text": [
        "\r",
        "Ransac iteration 357 of 500"
       ]
      },
      {
       "output_type": "stream",
       "stream": "stdout",
       "text": [
        "\r",
        "Ransac iteration 358 of 500"
       ]
      },
      {
       "output_type": "stream",
       "stream": "stdout",
       "text": [
        "\r",
        "Ransac iteration 359 of 500"
       ]
      },
      {
       "output_type": "stream",
       "stream": "stdout",
       "text": [
        "\r",
        "Ransac iteration 360 of 500"
       ]
      },
      {
       "output_type": "stream",
       "stream": "stdout",
       "text": [
        "\r",
        "Ransac iteration 361 of 500"
       ]
      },
      {
       "output_type": "stream",
       "stream": "stdout",
       "text": [
        "\r",
        "Ransac iteration 362 of 500"
       ]
      },
      {
       "output_type": "stream",
       "stream": "stdout",
       "text": [
        "\r",
        "Ransac iteration 363 of 500"
       ]
      },
      {
       "output_type": "stream",
       "stream": "stdout",
       "text": [
        "\r",
        "Ransac iteration 364 of 500"
       ]
      },
      {
       "output_type": "stream",
       "stream": "stdout",
       "text": [
        "\r",
        "Ransac iteration 365 of 500"
       ]
      },
      {
       "output_type": "stream",
       "stream": "stdout",
       "text": [
        "\r",
        "Ransac iteration 366 of 500"
       ]
      },
      {
       "output_type": "stream",
       "stream": "stdout",
       "text": [
        "\r",
        "Ransac iteration 367 of 500"
       ]
      },
      {
       "output_type": "stream",
       "stream": "stdout",
       "text": [
        "\r",
        "Ransac iteration 368 of 500"
       ]
      },
      {
       "output_type": "stream",
       "stream": "stdout",
       "text": [
        "\r",
        "Ransac iteration 369 of 500"
       ]
      },
      {
       "output_type": "stream",
       "stream": "stdout",
       "text": [
        "\r",
        "Ransac iteration 370 of 500"
       ]
      },
      {
       "output_type": "stream",
       "stream": "stdout",
       "text": [
        "\r",
        "Ransac iteration 371 of 500"
       ]
      },
      {
       "output_type": "stream",
       "stream": "stdout",
       "text": [
        "\r",
        "Ransac iteration 372 of 500"
       ]
      },
      {
       "output_type": "stream",
       "stream": "stdout",
       "text": [
        "\r",
        "Ransac iteration 373 of 500"
       ]
      },
      {
       "output_type": "stream",
       "stream": "stdout",
       "text": [
        "\r",
        "Ransac iteration 374 of 500"
       ]
      },
      {
       "output_type": "stream",
       "stream": "stdout",
       "text": [
        "\r",
        "Ransac iteration 375 of 500"
       ]
      },
      {
       "output_type": "stream",
       "stream": "stdout",
       "text": [
        "\r",
        "Ransac iteration 376 of 500"
       ]
      },
      {
       "output_type": "stream",
       "stream": "stdout",
       "text": [
        "\r",
        "Ransac iteration 377 of 500"
       ]
      },
      {
       "output_type": "stream",
       "stream": "stdout",
       "text": [
        "\r",
        "Ransac iteration 378 of 500"
       ]
      },
      {
       "output_type": "stream",
       "stream": "stdout",
       "text": [
        "\r",
        "Ransac iteration 379 of 500"
       ]
      },
      {
       "output_type": "stream",
       "stream": "stdout",
       "text": [
        "\r",
        "Ransac iteration 380 of 500"
       ]
      },
      {
       "output_type": "stream",
       "stream": "stdout",
       "text": [
        "\r",
        "Ransac iteration 381 of 500"
       ]
      },
      {
       "output_type": "stream",
       "stream": "stdout",
       "text": [
        "\r",
        "Ransac iteration 382 of 500"
       ]
      },
      {
       "output_type": "stream",
       "stream": "stdout",
       "text": [
        "\r",
        "Ransac iteration 383 of 500"
       ]
      },
      {
       "output_type": "stream",
       "stream": "stdout",
       "text": [
        "\r",
        "Ransac iteration 384 of 500"
       ]
      },
      {
       "output_type": "stream",
       "stream": "stdout",
       "text": [
        "\r",
        "Ransac iteration 385 of 500"
       ]
      },
      {
       "output_type": "stream",
       "stream": "stdout",
       "text": [
        "\r",
        "Ransac iteration 386 of 500"
       ]
      },
      {
       "output_type": "stream",
       "stream": "stdout",
       "text": [
        "\r",
        "Ransac iteration 387 of 500"
       ]
      },
      {
       "output_type": "stream",
       "stream": "stdout",
       "text": [
        "\r",
        "Ransac iteration 388 of 500"
       ]
      },
      {
       "output_type": "stream",
       "stream": "stdout",
       "text": [
        "\r",
        "Ransac iteration 389 of 500"
       ]
      },
      {
       "output_type": "stream",
       "stream": "stdout",
       "text": [
        "\r",
        "Ransac iteration 390 of 500"
       ]
      },
      {
       "output_type": "stream",
       "stream": "stdout",
       "text": [
        "\r",
        "Ransac iteration 391 of 500"
       ]
      },
      {
       "output_type": "stream",
       "stream": "stdout",
       "text": [
        "\r",
        "Ransac iteration 392 of 500"
       ]
      },
      {
       "output_type": "stream",
       "stream": "stdout",
       "text": [
        "\r",
        "Ransac iteration 393 of 500"
       ]
      },
      {
       "output_type": "stream",
       "stream": "stdout",
       "text": [
        "\r",
        "Ransac iteration 394 of 500"
       ]
      },
      {
       "output_type": "stream",
       "stream": "stdout",
       "text": [
        "\r",
        "Ransac iteration 395 of 500"
       ]
      },
      {
       "output_type": "stream",
       "stream": "stdout",
       "text": [
        "\r",
        "Ransac iteration 396 of 500"
       ]
      },
      {
       "output_type": "stream",
       "stream": "stdout",
       "text": [
        "\r",
        "Ransac iteration 397 of 500"
       ]
      },
      {
       "output_type": "stream",
       "stream": "stdout",
       "text": [
        "\r",
        "Ransac iteration 398 of 500"
       ]
      },
      {
       "output_type": "stream",
       "stream": "stdout",
       "text": [
        "\r",
        "Ransac iteration 399 of 500"
       ]
      },
      {
       "output_type": "stream",
       "stream": "stdout",
       "text": [
        "\r",
        "Ransac iteration 400 of 500"
       ]
      },
      {
       "output_type": "stream",
       "stream": "stdout",
       "text": [
        "\r",
        "Ransac iteration 401 of 500"
       ]
      },
      {
       "output_type": "stream",
       "stream": "stdout",
       "text": [
        "\r",
        "Ransac iteration 402 of 500"
       ]
      },
      {
       "output_type": "stream",
       "stream": "stdout",
       "text": [
        "\r",
        "Ransac iteration 403 of 500"
       ]
      },
      {
       "output_type": "stream",
       "stream": "stdout",
       "text": [
        "\r",
        "Ransac iteration 404 of 500"
       ]
      },
      {
       "output_type": "stream",
       "stream": "stdout",
       "text": [
        "\r",
        "Ransac iteration 405 of 500"
       ]
      },
      {
       "output_type": "stream",
       "stream": "stdout",
       "text": [
        "\r",
        "Ransac iteration 406 of 500"
       ]
      },
      {
       "output_type": "stream",
       "stream": "stdout",
       "text": [
        "\r",
        "Ransac iteration 407 of 500"
       ]
      },
      {
       "output_type": "stream",
       "stream": "stdout",
       "text": [
        "\r",
        "Ransac iteration 408 of 500"
       ]
      },
      {
       "output_type": "stream",
       "stream": "stdout",
       "text": [
        "\r",
        "Ransac iteration 409 of 500"
       ]
      },
      {
       "output_type": "stream",
       "stream": "stdout",
       "text": [
        "\r",
        "Ransac iteration 410 of 500"
       ]
      },
      {
       "output_type": "stream",
       "stream": "stdout",
       "text": [
        "\r",
        "Ransac iteration 411 of 500"
       ]
      },
      {
       "output_type": "stream",
       "stream": "stdout",
       "text": [
        "\r",
        "Ransac iteration 412 of 500"
       ]
      },
      {
       "output_type": "stream",
       "stream": "stdout",
       "text": [
        "\r",
        "Ransac iteration 413 of 500"
       ]
      },
      {
       "output_type": "stream",
       "stream": "stdout",
       "text": [
        "\r",
        "Ransac iteration 414 of 500"
       ]
      },
      {
       "output_type": "stream",
       "stream": "stdout",
       "text": [
        "\r",
        "Ransac iteration 415 of 500"
       ]
      },
      {
       "output_type": "stream",
       "stream": "stdout",
       "text": [
        "\r",
        "Ransac iteration 416 of 500"
       ]
      },
      {
       "output_type": "stream",
       "stream": "stdout",
       "text": [
        "\r",
        "Ransac iteration 417 of 500"
       ]
      },
      {
       "output_type": "stream",
       "stream": "stdout",
       "text": [
        "\r",
        "Ransac iteration 418 of 500"
       ]
      },
      {
       "output_type": "stream",
       "stream": "stdout",
       "text": [
        "\r",
        "Ransac iteration 419 of 500"
       ]
      },
      {
       "output_type": "stream",
       "stream": "stdout",
       "text": [
        "\r",
        "Ransac iteration 420 of 500"
       ]
      },
      {
       "output_type": "stream",
       "stream": "stdout",
       "text": [
        "\r",
        "Ransac iteration 421 of 500"
       ]
      },
      {
       "output_type": "stream",
       "stream": "stdout",
       "text": [
        "\r",
        "Ransac iteration 422 of 500"
       ]
      },
      {
       "output_type": "stream",
       "stream": "stdout",
       "text": [
        "\r",
        "Ransac iteration 423 of 500"
       ]
      },
      {
       "output_type": "stream",
       "stream": "stdout",
       "text": [
        "\r",
        "Ransac iteration 424 of 500"
       ]
      },
      {
       "output_type": "stream",
       "stream": "stdout",
       "text": [
        "\r",
        "Ransac iteration 425 of 500"
       ]
      },
      {
       "output_type": "stream",
       "stream": "stdout",
       "text": [
        "\r",
        "Ransac iteration 426 of 500"
       ]
      },
      {
       "output_type": "stream",
       "stream": "stdout",
       "text": [
        "\r",
        "Ransac iteration 427 of 500"
       ]
      },
      {
       "output_type": "stream",
       "stream": "stdout",
       "text": [
        "\r",
        "Ransac iteration 428 of 500"
       ]
      },
      {
       "output_type": "stream",
       "stream": "stdout",
       "text": [
        "\r",
        "Ransac iteration 429 of 500"
       ]
      },
      {
       "output_type": "stream",
       "stream": "stdout",
       "text": [
        "\r",
        "Ransac iteration 430 of 500"
       ]
      },
      {
       "output_type": "stream",
       "stream": "stdout",
       "text": [
        "\r",
        "Ransac iteration 431 of 500"
       ]
      },
      {
       "output_type": "stream",
       "stream": "stdout",
       "text": [
        "\r",
        "Ransac iteration 432 of 500"
       ]
      },
      {
       "output_type": "stream",
       "stream": "stdout",
       "text": [
        "\r",
        "Ransac iteration 433 of 500"
       ]
      },
      {
       "output_type": "stream",
       "stream": "stdout",
       "text": [
        "\r",
        "Ransac iteration 434 of 500"
       ]
      },
      {
       "output_type": "stream",
       "stream": "stdout",
       "text": [
        "\r",
        "Ransac iteration 435 of 500"
       ]
      },
      {
       "output_type": "stream",
       "stream": "stdout",
       "text": [
        "\r",
        "Ransac iteration 436 of 500"
       ]
      },
      {
       "output_type": "stream",
       "stream": "stdout",
       "text": [
        "\r",
        "Ransac iteration 437 of 500"
       ]
      },
      {
       "output_type": "stream",
       "stream": "stdout",
       "text": [
        "\r",
        "Ransac iteration 438 of 500"
       ]
      },
      {
       "output_type": "stream",
       "stream": "stdout",
       "text": [
        "\r",
        "Ransac iteration 439 of 500"
       ]
      },
      {
       "output_type": "stream",
       "stream": "stdout",
       "text": [
        "\r",
        "Ransac iteration 440 of 500"
       ]
      },
      {
       "output_type": "stream",
       "stream": "stdout",
       "text": [
        "\r",
        "Ransac iteration 441 of 500"
       ]
      },
      {
       "output_type": "stream",
       "stream": "stdout",
       "text": [
        "\r",
        "Ransac iteration 442 of 500"
       ]
      },
      {
       "output_type": "stream",
       "stream": "stdout",
       "text": [
        "\r",
        "Ransac iteration 443 of 500"
       ]
      },
      {
       "output_type": "stream",
       "stream": "stdout",
       "text": [
        "\r",
        "Ransac iteration 444 of 500"
       ]
      },
      {
       "output_type": "stream",
       "stream": "stdout",
       "text": [
        "\r",
        "Ransac iteration 445 of 500"
       ]
      },
      {
       "output_type": "stream",
       "stream": "stdout",
       "text": [
        "\r",
        "Ransac iteration 446 of 500"
       ]
      },
      {
       "output_type": "stream",
       "stream": "stdout",
       "text": [
        "\r",
        "Ransac iteration 447 of 500"
       ]
      },
      {
       "output_type": "stream",
       "stream": "stdout",
       "text": [
        "\r",
        "Ransac iteration 448 of 500"
       ]
      },
      {
       "output_type": "stream",
       "stream": "stdout",
       "text": [
        "\r",
        "Ransac iteration 449 of 500"
       ]
      },
      {
       "output_type": "stream",
       "stream": "stdout",
       "text": [
        "\r",
        "Ransac iteration 450 of 500"
       ]
      },
      {
       "output_type": "stream",
       "stream": "stdout",
       "text": [
        "\r",
        "Ransac iteration 451 of 500"
       ]
      },
      {
       "output_type": "stream",
       "stream": "stdout",
       "text": [
        "\r",
        "Ransac iteration 452 of 500"
       ]
      },
      {
       "output_type": "stream",
       "stream": "stdout",
       "text": [
        "\r",
        "Ransac iteration 453 of 500"
       ]
      },
      {
       "output_type": "stream",
       "stream": "stdout",
       "text": [
        "\r",
        "Ransac iteration 454 of 500"
       ]
      },
      {
       "output_type": "stream",
       "stream": "stdout",
       "text": [
        "\r",
        "Ransac iteration 455 of 500"
       ]
      },
      {
       "output_type": "stream",
       "stream": "stdout",
       "text": [
        "\r",
        "Ransac iteration 456 of 500"
       ]
      },
      {
       "output_type": "stream",
       "stream": "stdout",
       "text": [
        "\r",
        "Ransac iteration 457 of 500"
       ]
      },
      {
       "output_type": "stream",
       "stream": "stdout",
       "text": [
        "\r",
        "Ransac iteration 458 of 500"
       ]
      },
      {
       "output_type": "stream",
       "stream": "stdout",
       "text": [
        "\r",
        "Ransac iteration 459 of 500"
       ]
      },
      {
       "output_type": "stream",
       "stream": "stdout",
       "text": [
        "\r",
        "Ransac iteration 460 of 500"
       ]
      },
      {
       "output_type": "stream",
       "stream": "stdout",
       "text": [
        "\r",
        "Ransac iteration 461 of 500"
       ]
      },
      {
       "output_type": "stream",
       "stream": "stdout",
       "text": [
        "\r",
        "Ransac iteration 462 of 500"
       ]
      },
      {
       "output_type": "stream",
       "stream": "stdout",
       "text": [
        "\r",
        "Ransac iteration 463 of 500"
       ]
      },
      {
       "output_type": "stream",
       "stream": "stdout",
       "text": [
        "\r",
        "Ransac iteration 464 of 500"
       ]
      },
      {
       "output_type": "stream",
       "stream": "stdout",
       "text": [
        "\r",
        "Ransac iteration 465 of 500"
       ]
      },
      {
       "output_type": "stream",
       "stream": "stdout",
       "text": [
        "\r",
        "Ransac iteration 466 of 500"
       ]
      },
      {
       "output_type": "stream",
       "stream": "stdout",
       "text": [
        "\r",
        "Ransac iteration 467 of 500"
       ]
      },
      {
       "output_type": "stream",
       "stream": "stdout",
       "text": [
        "\r",
        "Ransac iteration 468 of 500"
       ]
      },
      {
       "output_type": "stream",
       "stream": "stdout",
       "text": [
        "\r",
        "Ransac iteration 469 of 500"
       ]
      },
      {
       "output_type": "stream",
       "stream": "stdout",
       "text": [
        "\r",
        "Ransac iteration 470 of 500"
       ]
      },
      {
       "output_type": "stream",
       "stream": "stdout",
       "text": [
        "\r",
        "Ransac iteration 471 of 500"
       ]
      },
      {
       "output_type": "stream",
       "stream": "stdout",
       "text": [
        "\r",
        "Ransac iteration 472 of 500"
       ]
      },
      {
       "output_type": "stream",
       "stream": "stdout",
       "text": [
        "\r",
        "Ransac iteration 473 of 500"
       ]
      },
      {
       "output_type": "stream",
       "stream": "stdout",
       "text": [
        "\r",
        "Ransac iteration 474 of 500"
       ]
      },
      {
       "output_type": "stream",
       "stream": "stdout",
       "text": [
        "\r",
        "Ransac iteration 475 of 500"
       ]
      },
      {
       "output_type": "stream",
       "stream": "stdout",
       "text": [
        "\r",
        "Ransac iteration 476 of 500"
       ]
      },
      {
       "output_type": "stream",
       "stream": "stdout",
       "text": [
        "\r",
        "Ransac iteration 477 of 500"
       ]
      },
      {
       "output_type": "stream",
       "stream": "stdout",
       "text": [
        "\r",
        "Ransac iteration 478 of 500"
       ]
      },
      {
       "output_type": "stream",
       "stream": "stdout",
       "text": [
        "\r",
        "Ransac iteration 479 of 500"
       ]
      },
      {
       "output_type": "stream",
       "stream": "stdout",
       "text": [
        "\r",
        "Ransac iteration 480 of 500"
       ]
      },
      {
       "output_type": "stream",
       "stream": "stdout",
       "text": [
        "\r",
        "Ransac iteration 481 of 500"
       ]
      },
      {
       "output_type": "stream",
       "stream": "stdout",
       "text": [
        "\r",
        "Ransac iteration 482 of 500"
       ]
      },
      {
       "output_type": "stream",
       "stream": "stdout",
       "text": [
        "\r",
        "Ransac iteration 483 of 500"
       ]
      },
      {
       "output_type": "stream",
       "stream": "stdout",
       "text": [
        "\r",
        "Ransac iteration 484 of 500"
       ]
      },
      {
       "output_type": "stream",
       "stream": "stdout",
       "text": [
        "\r",
        "Ransac iteration 485 of 500"
       ]
      },
      {
       "output_type": "stream",
       "stream": "stdout",
       "text": [
        "\r",
        "Ransac iteration 486 of 500"
       ]
      },
      {
       "output_type": "stream",
       "stream": "stdout",
       "text": [
        "\r",
        "Ransac iteration 487 of 500"
       ]
      },
      {
       "output_type": "stream",
       "stream": "stdout",
       "text": [
        "\r",
        "Ransac iteration 488 of 500"
       ]
      },
      {
       "output_type": "stream",
       "stream": "stdout",
       "text": [
        "\r",
        "Ransac iteration 489 of 500"
       ]
      },
      {
       "output_type": "stream",
       "stream": "stdout",
       "text": [
        "\r",
        "Ransac iteration 490 of 500"
       ]
      },
      {
       "output_type": "stream",
       "stream": "stdout",
       "text": [
        "\r",
        "Ransac iteration 491 of 500"
       ]
      },
      {
       "output_type": "stream",
       "stream": "stdout",
       "text": [
        "\r",
        "Ransac iteration 492 of 500"
       ]
      },
      {
       "output_type": "stream",
       "stream": "stdout",
       "text": [
        "\r",
        "Ransac iteration 493 of 500"
       ]
      },
      {
       "output_type": "stream",
       "stream": "stdout",
       "text": [
        "\r",
        "Ransac iteration 494 of 500"
       ]
      },
      {
       "output_type": "stream",
       "stream": "stdout",
       "text": [
        "\r",
        "Ransac iteration 495 of 500"
       ]
      },
      {
       "output_type": "stream",
       "stream": "stdout",
       "text": [
        "\r",
        "Ransac iteration 496 of 500"
       ]
      },
      {
       "output_type": "stream",
       "stream": "stdout",
       "text": [
        "\r",
        "Ransac iteration 497 of 500"
       ]
      },
      {
       "output_type": "stream",
       "stream": "stdout",
       "text": [
        "\r",
        "Ransac iteration 498 of 500"
       ]
      },
      {
       "output_type": "stream",
       "stream": "stdout",
       "text": [
        "\r",
        "Ransac iteration 499 of 500"
       ]
      },
      {
       "output_type": "stream",
       "stream": "stdout",
       "text": [
        "\n",
        "\r",
        "Ransac iteration 0 of 500"
       ]
      },
      {
       "output_type": "stream",
       "stream": "stdout",
       "text": [
        "\r",
        "Ransac iteration 1 of 500"
       ]
      },
      {
       "output_type": "stream",
       "stream": "stdout",
       "text": [
        "\r",
        "Ransac iteration 2 of 500"
       ]
      },
      {
       "output_type": "stream",
       "stream": "stdout",
       "text": [
        "\r",
        "Ransac iteration 3 of 500"
       ]
      },
      {
       "output_type": "stream",
       "stream": "stdout",
       "text": [
        "\r",
        "Ransac iteration 4 of 500"
       ]
      },
      {
       "output_type": "stream",
       "stream": "stdout",
       "text": [
        "\r",
        "Ransac iteration 5 of 500"
       ]
      },
      {
       "output_type": "stream",
       "stream": "stdout",
       "text": [
        "\r",
        "Ransac iteration 6 of 500"
       ]
      },
      {
       "output_type": "stream",
       "stream": "stdout",
       "text": [
        "\r",
        "Ransac iteration 7 of 500"
       ]
      },
      {
       "output_type": "stream",
       "stream": "stdout",
       "text": [
        "\r",
        "Ransac iteration 8 of 500"
       ]
      },
      {
       "output_type": "stream",
       "stream": "stdout",
       "text": [
        "\r",
        "Ransac iteration 9 of 500"
       ]
      },
      {
       "output_type": "stream",
       "stream": "stdout",
       "text": [
        "\r",
        "Ransac iteration 10 of 500"
       ]
      },
      {
       "output_type": "stream",
       "stream": "stdout",
       "text": [
        "\r",
        "Ransac iteration 11 of 500"
       ]
      },
      {
       "output_type": "stream",
       "stream": "stdout",
       "text": [
        "\r",
        "Ransac iteration 12 of 500"
       ]
      },
      {
       "output_type": "stream",
       "stream": "stdout",
       "text": [
        "\r",
        "Ransac iteration 13 of 500"
       ]
      },
      {
       "output_type": "stream",
       "stream": "stdout",
       "text": [
        "\r",
        "Ransac iteration 14 of 500"
       ]
      },
      {
       "output_type": "stream",
       "stream": "stdout",
       "text": [
        "\r",
        "Ransac iteration 15 of 500"
       ]
      },
      {
       "output_type": "stream",
       "stream": "stdout",
       "text": [
        "\r",
        "Ransac iteration 16 of 500"
       ]
      },
      {
       "output_type": "stream",
       "stream": "stdout",
       "text": [
        "\r",
        "Ransac iteration 17 of 500"
       ]
      },
      {
       "output_type": "stream",
       "stream": "stdout",
       "text": [
        "\r",
        "Ransac iteration 18 of 500"
       ]
      },
      {
       "output_type": "stream",
       "stream": "stdout",
       "text": [
        "\r",
        "Ransac iteration 19 of 500"
       ]
      },
      {
       "output_type": "stream",
       "stream": "stdout",
       "text": [
        "\r",
        "Ransac iteration 20 of 500"
       ]
      },
      {
       "output_type": "stream",
       "stream": "stdout",
       "text": [
        "\r",
        "Ransac iteration 21 of 500"
       ]
      },
      {
       "output_type": "stream",
       "stream": "stdout",
       "text": [
        "\r",
        "Ransac iteration 22 of 500"
       ]
      },
      {
       "output_type": "stream",
       "stream": "stdout",
       "text": [
        "\r",
        "Ransac iteration 23 of 500"
       ]
      },
      {
       "output_type": "stream",
       "stream": "stdout",
       "text": [
        "\r",
        "Ransac iteration 24 of 500"
       ]
      },
      {
       "output_type": "stream",
       "stream": "stdout",
       "text": [
        "\r",
        "Ransac iteration 25 of 500"
       ]
      },
      {
       "output_type": "stream",
       "stream": "stdout",
       "text": [
        "\r",
        "Ransac iteration 26 of 500"
       ]
      },
      {
       "output_type": "stream",
       "stream": "stdout",
       "text": [
        "\r",
        "Ransac iteration 27 of 500"
       ]
      },
      {
       "output_type": "stream",
       "stream": "stdout",
       "text": [
        "\r",
        "Ransac iteration 28 of 500"
       ]
      },
      {
       "output_type": "stream",
       "stream": "stdout",
       "text": [
        "\r",
        "Ransac iteration 29 of 500"
       ]
      },
      {
       "output_type": "stream",
       "stream": "stdout",
       "text": [
        "\r",
        "Ransac iteration 30 of 500"
       ]
      },
      {
       "output_type": "stream",
       "stream": "stdout",
       "text": [
        "\r",
        "Ransac iteration 31 of 500"
       ]
      },
      {
       "output_type": "stream",
       "stream": "stdout",
       "text": [
        "\r",
        "Ransac iteration 32 of 500"
       ]
      },
      {
       "output_type": "stream",
       "stream": "stdout",
       "text": [
        "\r",
        "Ransac iteration 33 of 500"
       ]
      },
      {
       "output_type": "stream",
       "stream": "stdout",
       "text": [
        "\r",
        "Ransac iteration 34 of 500"
       ]
      },
      {
       "output_type": "stream",
       "stream": "stdout",
       "text": [
        "\r",
        "Ransac iteration 35 of 500"
       ]
      },
      {
       "output_type": "stream",
       "stream": "stdout",
       "text": [
        "\r",
        "Ransac iteration 36 of 500"
       ]
      },
      {
       "output_type": "stream",
       "stream": "stdout",
       "text": [
        "\r",
        "Ransac iteration 37 of 500"
       ]
      },
      {
       "output_type": "stream",
       "stream": "stdout",
       "text": [
        "\r",
        "Ransac iteration 38 of 500"
       ]
      },
      {
       "output_type": "stream",
       "stream": "stdout",
       "text": [
        "\r",
        "Ransac iteration 39 of 500"
       ]
      },
      {
       "output_type": "stream",
       "stream": "stdout",
       "text": [
        "\r",
        "Ransac iteration 40 of 500"
       ]
      },
      {
       "output_type": "stream",
       "stream": "stdout",
       "text": [
        "\r",
        "Ransac iteration 41 of 500"
       ]
      },
      {
       "output_type": "stream",
       "stream": "stdout",
       "text": [
        "\r",
        "Ransac iteration 42 of 500"
       ]
      },
      {
       "output_type": "stream",
       "stream": "stdout",
       "text": [
        "\r",
        "Ransac iteration 43 of 500"
       ]
      },
      {
       "output_type": "stream",
       "stream": "stdout",
       "text": [
        "\r",
        "Ransac iteration 44 of 500"
       ]
      },
      {
       "output_type": "stream",
       "stream": "stdout",
       "text": [
        "\r",
        "Ransac iteration 45 of 500"
       ]
      },
      {
       "output_type": "stream",
       "stream": "stdout",
       "text": [
        "\r",
        "Ransac iteration 46 of 500"
       ]
      },
      {
       "output_type": "stream",
       "stream": "stdout",
       "text": [
        "\r",
        "Ransac iteration 47 of 500"
       ]
      },
      {
       "output_type": "stream",
       "stream": "stdout",
       "text": [
        "\r",
        "Ransac iteration 48 of 500"
       ]
      },
      {
       "output_type": "stream",
       "stream": "stdout",
       "text": [
        "\r",
        "Ransac iteration 49 of 500"
       ]
      },
      {
       "output_type": "stream",
       "stream": "stdout",
       "text": [
        "\r",
        "Ransac iteration 50 of 500"
       ]
      },
      {
       "output_type": "stream",
       "stream": "stdout",
       "text": [
        "\r",
        "Ransac iteration 51 of 500"
       ]
      },
      {
       "output_type": "stream",
       "stream": "stdout",
       "text": [
        "\r",
        "Ransac iteration 52 of 500"
       ]
      },
      {
       "output_type": "stream",
       "stream": "stdout",
       "text": [
        "\r",
        "Ransac iteration 53 of 500"
       ]
      },
      {
       "output_type": "stream",
       "stream": "stdout",
       "text": [
        "\r",
        "Ransac iteration 54 of 500"
       ]
      },
      {
       "output_type": "stream",
       "stream": "stdout",
       "text": [
        "\r",
        "Ransac iteration 55 of 500"
       ]
      },
      {
       "output_type": "stream",
       "stream": "stdout",
       "text": [
        "\r",
        "Ransac iteration 56 of 500"
       ]
      },
      {
       "output_type": "stream",
       "stream": "stdout",
       "text": [
        "\r",
        "Ransac iteration 57 of 500"
       ]
      },
      {
       "output_type": "stream",
       "stream": "stdout",
       "text": [
        "\r",
        "Ransac iteration 58 of 500"
       ]
      },
      {
       "output_type": "stream",
       "stream": "stdout",
       "text": [
        "\r",
        "Ransac iteration 59 of 500"
       ]
      },
      {
       "output_type": "stream",
       "stream": "stdout",
       "text": [
        "\r",
        "Ransac iteration 60 of 500"
       ]
      },
      {
       "output_type": "stream",
       "stream": "stdout",
       "text": [
        "\r",
        "Ransac iteration 61 of 500"
       ]
      },
      {
       "output_type": "stream",
       "stream": "stdout",
       "text": [
        "\r",
        "Ransac iteration 62 of 500"
       ]
      },
      {
       "output_type": "stream",
       "stream": "stdout",
       "text": [
        "\r",
        "Ransac iteration 63 of 500"
       ]
      },
      {
       "output_type": "stream",
       "stream": "stdout",
       "text": [
        "\r",
        "Ransac iteration 64 of 500"
       ]
      },
      {
       "output_type": "stream",
       "stream": "stdout",
       "text": [
        "\r",
        "Ransac iteration 65 of 500"
       ]
      },
      {
       "output_type": "stream",
       "stream": "stdout",
       "text": [
        "\r",
        "Ransac iteration 66 of 500"
       ]
      },
      {
       "output_type": "stream",
       "stream": "stdout",
       "text": [
        "\r",
        "Ransac iteration 67 of 500"
       ]
      },
      {
       "output_type": "stream",
       "stream": "stdout",
       "text": [
        "\r",
        "Ransac iteration 68 of 500"
       ]
      },
      {
       "output_type": "stream",
       "stream": "stdout",
       "text": [
        "\r",
        "Ransac iteration 69 of 500"
       ]
      },
      {
       "output_type": "stream",
       "stream": "stdout",
       "text": [
        "\r",
        "Ransac iteration 70 of 500"
       ]
      },
      {
       "output_type": "stream",
       "stream": "stdout",
       "text": [
        "\r",
        "Ransac iteration 71 of 500"
       ]
      },
      {
       "output_type": "stream",
       "stream": "stdout",
       "text": [
        "\r",
        "Ransac iteration 72 of 500"
       ]
      },
      {
       "output_type": "stream",
       "stream": "stdout",
       "text": [
        "\r",
        "Ransac iteration 73 of 500"
       ]
      },
      {
       "output_type": "stream",
       "stream": "stdout",
       "text": [
        "\r",
        "Ransac iteration 74 of 500"
       ]
      },
      {
       "output_type": "stream",
       "stream": "stdout",
       "text": [
        "\r",
        "Ransac iteration 75 of 500"
       ]
      },
      {
       "output_type": "stream",
       "stream": "stdout",
       "text": [
        "\r",
        "Ransac iteration 76 of 500"
       ]
      },
      {
       "output_type": "stream",
       "stream": "stdout",
       "text": [
        "\r",
        "Ransac iteration 77 of 500"
       ]
      },
      {
       "output_type": "stream",
       "stream": "stdout",
       "text": [
        "\r",
        "Ransac iteration 78 of 500"
       ]
      },
      {
       "output_type": "stream",
       "stream": "stdout",
       "text": [
        "\r",
        "Ransac iteration 79 of 500"
       ]
      },
      {
       "output_type": "stream",
       "stream": "stdout",
       "text": [
        "\r",
        "Ransac iteration 80 of 500"
       ]
      },
      {
       "output_type": "stream",
       "stream": "stdout",
       "text": [
        "\r",
        "Ransac iteration 81 of 500"
       ]
      },
      {
       "output_type": "stream",
       "stream": "stdout",
       "text": [
        "\r",
        "Ransac iteration 82 of 500"
       ]
      },
      {
       "output_type": "stream",
       "stream": "stdout",
       "text": [
        "\r",
        "Ransac iteration 83 of 500"
       ]
      },
      {
       "output_type": "stream",
       "stream": "stdout",
       "text": [
        "\r",
        "Ransac iteration 84 of 500"
       ]
      },
      {
       "output_type": "stream",
       "stream": "stdout",
       "text": [
        "\r",
        "Ransac iteration 85 of 500"
       ]
      },
      {
       "output_type": "stream",
       "stream": "stdout",
       "text": [
        "\r",
        "Ransac iteration 86 of 500"
       ]
      },
      {
       "output_type": "stream",
       "stream": "stdout",
       "text": [
        "\r",
        "Ransac iteration 87 of 500"
       ]
      },
      {
       "output_type": "stream",
       "stream": "stdout",
       "text": [
        "\r",
        "Ransac iteration 88 of 500"
       ]
      },
      {
       "output_type": "stream",
       "stream": "stdout",
       "text": [
        "\r",
        "Ransac iteration 89 of 500"
       ]
      },
      {
       "output_type": "stream",
       "stream": "stdout",
       "text": [
        "\r",
        "Ransac iteration 90 of 500"
       ]
      },
      {
       "output_type": "stream",
       "stream": "stdout",
       "text": [
        "\r",
        "Ransac iteration 91 of 500"
       ]
      },
      {
       "output_type": "stream",
       "stream": "stdout",
       "text": [
        "\r",
        "Ransac iteration 92 of 500"
       ]
      },
      {
       "output_type": "stream",
       "stream": "stdout",
       "text": [
        "\r",
        "Ransac iteration 93 of 500"
       ]
      },
      {
       "output_type": "stream",
       "stream": "stdout",
       "text": [
        "\r",
        "Ransac iteration 94 of 500"
       ]
      },
      {
       "output_type": "stream",
       "stream": "stdout",
       "text": [
        "\r",
        "Ransac iteration 95 of 500"
       ]
      },
      {
       "output_type": "stream",
       "stream": "stdout",
       "text": [
        "\r",
        "Ransac iteration 96 of 500"
       ]
      },
      {
       "output_type": "stream",
       "stream": "stdout",
       "text": [
        "\r",
        "Ransac iteration 97 of 500"
       ]
      },
      {
       "output_type": "stream",
       "stream": "stdout",
       "text": [
        "\r",
        "Ransac iteration 98 of 500"
       ]
      },
      {
       "output_type": "stream",
       "stream": "stdout",
       "text": [
        "\r",
        "Ransac iteration 99 of 500"
       ]
      },
      {
       "output_type": "stream",
       "stream": "stdout",
       "text": [
        "\r",
        "Ransac iteration 100 of 500"
       ]
      },
      {
       "output_type": "stream",
       "stream": "stdout",
       "text": [
        "\r",
        "Ransac iteration 101 of 500"
       ]
      },
      {
       "output_type": "stream",
       "stream": "stdout",
       "text": [
        "\r",
        "Ransac iteration 102 of 500"
       ]
      },
      {
       "output_type": "stream",
       "stream": "stdout",
       "text": [
        "\r",
        "Ransac iteration 103 of 500"
       ]
      },
      {
       "output_type": "stream",
       "stream": "stdout",
       "text": [
        "\r",
        "Ransac iteration 104 of 500"
       ]
      },
      {
       "output_type": "stream",
       "stream": "stdout",
       "text": [
        "\r",
        "Ransac iteration 105 of 500"
       ]
      },
      {
       "output_type": "stream",
       "stream": "stdout",
       "text": [
        "\r",
        "Ransac iteration 106 of 500"
       ]
      },
      {
       "output_type": "stream",
       "stream": "stdout",
       "text": [
        "\r",
        "Ransac iteration 107 of 500"
       ]
      },
      {
       "output_type": "stream",
       "stream": "stdout",
       "text": [
        "\r",
        "Ransac iteration 108 of 500"
       ]
      },
      {
       "output_type": "stream",
       "stream": "stdout",
       "text": [
        "\r",
        "Ransac iteration 109 of 500"
       ]
      },
      {
       "output_type": "stream",
       "stream": "stdout",
       "text": [
        "\r",
        "Ransac iteration 110 of 500"
       ]
      },
      {
       "output_type": "stream",
       "stream": "stdout",
       "text": [
        "\r",
        "Ransac iteration 111 of 500"
       ]
      },
      {
       "output_type": "stream",
       "stream": "stdout",
       "text": [
        "\r",
        "Ransac iteration 112 of 500"
       ]
      },
      {
       "output_type": "stream",
       "stream": "stdout",
       "text": [
        "\r",
        "Ransac iteration 113 of 500"
       ]
      },
      {
       "output_type": "stream",
       "stream": "stdout",
       "text": [
        "\r",
        "Ransac iteration 114 of 500"
       ]
      },
      {
       "output_type": "stream",
       "stream": "stdout",
       "text": [
        "\r",
        "Ransac iteration 115 of 500"
       ]
      },
      {
       "output_type": "stream",
       "stream": "stdout",
       "text": [
        "\r",
        "Ransac iteration 116 of 500"
       ]
      },
      {
       "output_type": "stream",
       "stream": "stdout",
       "text": [
        "\r",
        "Ransac iteration 117 of 500"
       ]
      },
      {
       "output_type": "stream",
       "stream": "stdout",
       "text": [
        "\r",
        "Ransac iteration 118 of 500"
       ]
      },
      {
       "output_type": "stream",
       "stream": "stdout",
       "text": [
        "\r",
        "Ransac iteration 119 of 500"
       ]
      },
      {
       "output_type": "stream",
       "stream": "stdout",
       "text": [
        "\r",
        "Ransac iteration 120 of 500"
       ]
      },
      {
       "output_type": "stream",
       "stream": "stdout",
       "text": [
        "\r",
        "Ransac iteration 121 of 500"
       ]
      },
      {
       "output_type": "stream",
       "stream": "stdout",
       "text": [
        "\r",
        "Ransac iteration 122 of 500"
       ]
      },
      {
       "output_type": "stream",
       "stream": "stdout",
       "text": [
        "\r",
        "Ransac iteration 123 of 500"
       ]
      },
      {
       "output_type": "stream",
       "stream": "stdout",
       "text": [
        "\r",
        "Ransac iteration 124 of 500"
       ]
      },
      {
       "output_type": "stream",
       "stream": "stdout",
       "text": [
        "\r",
        "Ransac iteration 125 of 500"
       ]
      },
      {
       "output_type": "stream",
       "stream": "stdout",
       "text": [
        "\r",
        "Ransac iteration 126 of 500"
       ]
      },
      {
       "output_type": "stream",
       "stream": "stdout",
       "text": [
        "\r",
        "Ransac iteration 127 of 500"
       ]
      },
      {
       "output_type": "stream",
       "stream": "stdout",
       "text": [
        "\r",
        "Ransac iteration 128 of 500"
       ]
      },
      {
       "output_type": "stream",
       "stream": "stdout",
       "text": [
        "\r",
        "Ransac iteration 129 of 500"
       ]
      },
      {
       "output_type": "stream",
       "stream": "stdout",
       "text": [
        "\r",
        "Ransac iteration 130 of 500"
       ]
      },
      {
       "output_type": "stream",
       "stream": "stdout",
       "text": [
        "\r",
        "Ransac iteration 131 of 500"
       ]
      },
      {
       "output_type": "stream",
       "stream": "stdout",
       "text": [
        "\r",
        "Ransac iteration 132 of 500"
       ]
      },
      {
       "output_type": "stream",
       "stream": "stdout",
       "text": [
        "\r",
        "Ransac iteration 133 of 500"
       ]
      },
      {
       "output_type": "stream",
       "stream": "stdout",
       "text": [
        "\r",
        "Ransac iteration 134 of 500"
       ]
      },
      {
       "output_type": "stream",
       "stream": "stdout",
       "text": [
        "\r",
        "Ransac iteration 135 of 500"
       ]
      },
      {
       "output_type": "stream",
       "stream": "stdout",
       "text": [
        "\r",
        "Ransac iteration 136 of 500"
       ]
      },
      {
       "output_type": "stream",
       "stream": "stdout",
       "text": [
        "\r",
        "Ransac iteration 137 of 500"
       ]
      },
      {
       "output_type": "stream",
       "stream": "stdout",
       "text": [
        "\r",
        "Ransac iteration 138 of 500"
       ]
      },
      {
       "output_type": "stream",
       "stream": "stdout",
       "text": [
        "\r",
        "Ransac iteration 139 of 500"
       ]
      },
      {
       "output_type": "stream",
       "stream": "stdout",
       "text": [
        "\r",
        "Ransac iteration 140 of 500"
       ]
      },
      {
       "output_type": "stream",
       "stream": "stdout",
       "text": [
        "\r",
        "Ransac iteration 141 of 500"
       ]
      },
      {
       "output_type": "stream",
       "stream": "stdout",
       "text": [
        "\r",
        "Ransac iteration 142 of 500"
       ]
      },
      {
       "output_type": "stream",
       "stream": "stdout",
       "text": [
        "\r",
        "Ransac iteration 143 of 500"
       ]
      },
      {
       "output_type": "stream",
       "stream": "stdout",
       "text": [
        "\r",
        "Ransac iteration 144 of 500"
       ]
      },
      {
       "output_type": "stream",
       "stream": "stdout",
       "text": [
        "\r",
        "Ransac iteration 145 of 500"
       ]
      },
      {
       "output_type": "stream",
       "stream": "stdout",
       "text": [
        "\r",
        "Ransac iteration 146 of 500"
       ]
      },
      {
       "output_type": "stream",
       "stream": "stdout",
       "text": [
        "\r",
        "Ransac iteration 147 of 500"
       ]
      },
      {
       "output_type": "stream",
       "stream": "stdout",
       "text": [
        "\r",
        "Ransac iteration 148 of 500"
       ]
      },
      {
       "output_type": "stream",
       "stream": "stdout",
       "text": [
        "\r",
        "Ransac iteration 149 of 500"
       ]
      },
      {
       "output_type": "stream",
       "stream": "stdout",
       "text": [
        "\r",
        "Ransac iteration 150 of 500"
       ]
      },
      {
       "output_type": "stream",
       "stream": "stdout",
       "text": [
        "\r",
        "Ransac iteration 151 of 500"
       ]
      },
      {
       "output_type": "stream",
       "stream": "stdout",
       "text": [
        "\r",
        "Ransac iteration 152 of 500"
       ]
      },
      {
       "output_type": "stream",
       "stream": "stdout",
       "text": [
        "\r",
        "Ransac iteration 153 of 500"
       ]
      },
      {
       "output_type": "stream",
       "stream": "stdout",
       "text": [
        "\r",
        "Ransac iteration 154 of 500"
       ]
      },
      {
       "output_type": "stream",
       "stream": "stdout",
       "text": [
        "\r",
        "Ransac iteration 155 of 500"
       ]
      },
      {
       "output_type": "stream",
       "stream": "stdout",
       "text": [
        "\r",
        "Ransac iteration 156 of 500"
       ]
      },
      {
       "output_type": "stream",
       "stream": "stdout",
       "text": [
        "\r",
        "Ransac iteration 157 of 500"
       ]
      },
      {
       "output_type": "stream",
       "stream": "stdout",
       "text": [
        "\r",
        "Ransac iteration 158 of 500"
       ]
      },
      {
       "output_type": "stream",
       "stream": "stdout",
       "text": [
        "\r",
        "Ransac iteration 159 of 500"
       ]
      },
      {
       "output_type": "stream",
       "stream": "stdout",
       "text": [
        "\r",
        "Ransac iteration 160 of 500"
       ]
      },
      {
       "output_type": "stream",
       "stream": "stdout",
       "text": [
        "\r",
        "Ransac iteration 161 of 500"
       ]
      },
      {
       "output_type": "stream",
       "stream": "stdout",
       "text": [
        "\r",
        "Ransac iteration 162 of 500"
       ]
      },
      {
       "output_type": "stream",
       "stream": "stdout",
       "text": [
        "\r",
        "Ransac iteration 163 of 500"
       ]
      },
      {
       "output_type": "stream",
       "stream": "stdout",
       "text": [
        "\r",
        "Ransac iteration 164 of 500"
       ]
      },
      {
       "output_type": "stream",
       "stream": "stdout",
       "text": [
        "\r",
        "Ransac iteration 165 of 500"
       ]
      },
      {
       "output_type": "stream",
       "stream": "stdout",
       "text": [
        "\r",
        "Ransac iteration 166 of 500"
       ]
      },
      {
       "output_type": "stream",
       "stream": "stdout",
       "text": [
        "\r",
        "Ransac iteration 167 of 500"
       ]
      },
      {
       "output_type": "stream",
       "stream": "stdout",
       "text": [
        "\r",
        "Ransac iteration 168 of 500"
       ]
      },
      {
       "output_type": "stream",
       "stream": "stdout",
       "text": [
        "\r",
        "Ransac iteration 169 of 500"
       ]
      },
      {
       "output_type": "stream",
       "stream": "stdout",
       "text": [
        "\r",
        "Ransac iteration 170 of 500"
       ]
      },
      {
       "output_type": "stream",
       "stream": "stdout",
       "text": [
        "\r",
        "Ransac iteration 171 of 500"
       ]
      },
      {
       "output_type": "stream",
       "stream": "stdout",
       "text": [
        "\r",
        "Ransac iteration 172 of 500"
       ]
      },
      {
       "output_type": "stream",
       "stream": "stdout",
       "text": [
        "\r",
        "Ransac iteration 173 of 500"
       ]
      },
      {
       "output_type": "stream",
       "stream": "stdout",
       "text": [
        "\r",
        "Ransac iteration 174 of 500"
       ]
      },
      {
       "output_type": "stream",
       "stream": "stdout",
       "text": [
        "\r",
        "Ransac iteration 175 of 500"
       ]
      },
      {
       "output_type": "stream",
       "stream": "stdout",
       "text": [
        "\r",
        "Ransac iteration 176 of 500"
       ]
      },
      {
       "output_type": "stream",
       "stream": "stdout",
       "text": [
        "\r",
        "Ransac iteration 177 of 500"
       ]
      },
      {
       "output_type": "stream",
       "stream": "stdout",
       "text": [
        "\r",
        "Ransac iteration 178 of 500"
       ]
      },
      {
       "output_type": "stream",
       "stream": "stdout",
       "text": [
        "\r",
        "Ransac iteration 179 of 500"
       ]
      },
      {
       "output_type": "stream",
       "stream": "stdout",
       "text": [
        "\r",
        "Ransac iteration 180 of 500"
       ]
      },
      {
       "output_type": "stream",
       "stream": "stdout",
       "text": [
        "\r",
        "Ransac iteration 181 of 500"
       ]
      },
      {
       "output_type": "stream",
       "stream": "stdout",
       "text": [
        "\r",
        "Ransac iteration 182 of 500"
       ]
      },
      {
       "output_type": "stream",
       "stream": "stdout",
       "text": [
        "\r",
        "Ransac iteration 183 of 500"
       ]
      },
      {
       "output_type": "stream",
       "stream": "stdout",
       "text": [
        "\r",
        "Ransac iteration 184 of 500"
       ]
      },
      {
       "output_type": "stream",
       "stream": "stdout",
       "text": [
        "\r",
        "Ransac iteration 185 of 500"
       ]
      },
      {
       "output_type": "stream",
       "stream": "stdout",
       "text": [
        "\r",
        "Ransac iteration 186 of 500"
       ]
      },
      {
       "output_type": "stream",
       "stream": "stdout",
       "text": [
        "\r",
        "Ransac iteration 187 of 500"
       ]
      },
      {
       "output_type": "stream",
       "stream": "stdout",
       "text": [
        "\r",
        "Ransac iteration 188 of 500"
       ]
      },
      {
       "output_type": "stream",
       "stream": "stdout",
       "text": [
        "\r",
        "Ransac iteration 189 of 500"
       ]
      },
      {
       "output_type": "stream",
       "stream": "stdout",
       "text": [
        "\r",
        "Ransac iteration 190 of 500"
       ]
      },
      {
       "output_type": "stream",
       "stream": "stdout",
       "text": [
        "\r",
        "Ransac iteration 191 of 500"
       ]
      },
      {
       "output_type": "stream",
       "stream": "stdout",
       "text": [
        "\r",
        "Ransac iteration 192 of 500"
       ]
      },
      {
       "output_type": "stream",
       "stream": "stdout",
       "text": [
        "\r",
        "Ransac iteration 193 of 500"
       ]
      },
      {
       "output_type": "stream",
       "stream": "stdout",
       "text": [
        "\r",
        "Ransac iteration 194 of 500"
       ]
      },
      {
       "output_type": "stream",
       "stream": "stdout",
       "text": [
        "\r",
        "Ransac iteration 195 of 500"
       ]
      },
      {
       "output_type": "stream",
       "stream": "stdout",
       "text": [
        "\r",
        "Ransac iteration 196 of 500"
       ]
      },
      {
       "output_type": "stream",
       "stream": "stdout",
       "text": [
        "\r",
        "Ransac iteration 197 of 500"
       ]
      },
      {
       "output_type": "stream",
       "stream": "stdout",
       "text": [
        "\r",
        "Ransac iteration 198 of 500"
       ]
      },
      {
       "output_type": "stream",
       "stream": "stdout",
       "text": [
        "\r",
        "Ransac iteration 199 of 500"
       ]
      },
      {
       "output_type": "stream",
       "stream": "stdout",
       "text": [
        "\r",
        "Ransac iteration 200 of 500"
       ]
      },
      {
       "output_type": "stream",
       "stream": "stdout",
       "text": [
        "\r",
        "Ransac iteration 201 of 500"
       ]
      },
      {
       "output_type": "stream",
       "stream": "stdout",
       "text": [
        "\r",
        "Ransac iteration 202 of 500"
       ]
      },
      {
       "output_type": "stream",
       "stream": "stdout",
       "text": [
        "\r",
        "Ransac iteration 203 of 500"
       ]
      },
      {
       "output_type": "stream",
       "stream": "stdout",
       "text": [
        "\r",
        "Ransac iteration 204 of 500"
       ]
      },
      {
       "output_type": "stream",
       "stream": "stdout",
       "text": [
        "\r",
        "Ransac iteration 205 of 500"
       ]
      },
      {
       "output_type": "stream",
       "stream": "stdout",
       "text": [
        "\r",
        "Ransac iteration 206 of 500"
       ]
      },
      {
       "output_type": "stream",
       "stream": "stdout",
       "text": [
        "\r",
        "Ransac iteration 207 of 500"
       ]
      },
      {
       "output_type": "stream",
       "stream": "stdout",
       "text": [
        "\r",
        "Ransac iteration 208 of 500"
       ]
      },
      {
       "output_type": "stream",
       "stream": "stdout",
       "text": [
        "\r",
        "Ransac iteration 209 of 500"
       ]
      },
      {
       "output_type": "stream",
       "stream": "stdout",
       "text": [
        "\r",
        "Ransac iteration 210 of 500"
       ]
      },
      {
       "output_type": "stream",
       "stream": "stdout",
       "text": [
        "\r",
        "Ransac iteration 211 of 500"
       ]
      },
      {
       "output_type": "stream",
       "stream": "stdout",
       "text": [
        "\r",
        "Ransac iteration 212 of 500"
       ]
      },
      {
       "output_type": "stream",
       "stream": "stdout",
       "text": [
        "\r",
        "Ransac iteration 213 of 500"
       ]
      },
      {
       "output_type": "stream",
       "stream": "stdout",
       "text": [
        "\r",
        "Ransac iteration 214 of 500"
       ]
      },
      {
       "output_type": "stream",
       "stream": "stdout",
       "text": [
        "\r",
        "Ransac iteration 215 of 500"
       ]
      },
      {
       "output_type": "stream",
       "stream": "stdout",
       "text": [
        "\r",
        "Ransac iteration 216 of 500"
       ]
      },
      {
       "output_type": "stream",
       "stream": "stdout",
       "text": [
        "\r",
        "Ransac iteration 217 of 500"
       ]
      },
      {
       "output_type": "stream",
       "stream": "stdout",
       "text": [
        "\r",
        "Ransac iteration 218 of 500"
       ]
      },
      {
       "output_type": "stream",
       "stream": "stdout",
       "text": [
        "\r",
        "Ransac iteration 219 of 500"
       ]
      },
      {
       "output_type": "stream",
       "stream": "stdout",
       "text": [
        "\r",
        "Ransac iteration 220 of 500"
       ]
      },
      {
       "output_type": "stream",
       "stream": "stdout",
       "text": [
        "\r",
        "Ransac iteration 221 of 500"
       ]
      },
      {
       "output_type": "stream",
       "stream": "stdout",
       "text": [
        "\r",
        "Ransac iteration 222 of 500"
       ]
      },
      {
       "output_type": "stream",
       "stream": "stdout",
       "text": [
        "\r",
        "Ransac iteration 223 of 500"
       ]
      },
      {
       "output_type": "stream",
       "stream": "stdout",
       "text": [
        "\r",
        "Ransac iteration 224 of 500"
       ]
      },
      {
       "output_type": "stream",
       "stream": "stdout",
       "text": [
        "\r",
        "Ransac iteration 225 of 500"
       ]
      },
      {
       "output_type": "stream",
       "stream": "stdout",
       "text": [
        "\r",
        "Ransac iteration 226 of 500"
       ]
      },
      {
       "output_type": "stream",
       "stream": "stdout",
       "text": [
        "\r",
        "Ransac iteration 227 of 500"
       ]
      },
      {
       "output_type": "stream",
       "stream": "stdout",
       "text": [
        "\r",
        "Ransac iteration 228 of 500"
       ]
      },
      {
       "output_type": "stream",
       "stream": "stdout",
       "text": [
        "\r",
        "Ransac iteration 229 of 500"
       ]
      },
      {
       "output_type": "stream",
       "stream": "stdout",
       "text": [
        "\r",
        "Ransac iteration 230 of 500"
       ]
      },
      {
       "output_type": "stream",
       "stream": "stdout",
       "text": [
        "\r",
        "Ransac iteration 231 of 500"
       ]
      },
      {
       "output_type": "stream",
       "stream": "stdout",
       "text": [
        "\r",
        "Ransac iteration 232 of 500"
       ]
      },
      {
       "output_type": "stream",
       "stream": "stdout",
       "text": [
        "\r",
        "Ransac iteration 233 of 500"
       ]
      },
      {
       "output_type": "stream",
       "stream": "stdout",
       "text": [
        "\r",
        "Ransac iteration 234 of 500"
       ]
      },
      {
       "output_type": "stream",
       "stream": "stdout",
       "text": [
        "\r",
        "Ransac iteration 235 of 500"
       ]
      },
      {
       "output_type": "stream",
       "stream": "stdout",
       "text": [
        "\r",
        "Ransac iteration 236 of 500"
       ]
      },
      {
       "output_type": "stream",
       "stream": "stdout",
       "text": [
        "\r",
        "Ransac iteration 237 of 500"
       ]
      },
      {
       "output_type": "stream",
       "stream": "stdout",
       "text": [
        "\r",
        "Ransac iteration 238 of 500"
       ]
      },
      {
       "output_type": "stream",
       "stream": "stdout",
       "text": [
        "\r",
        "Ransac iteration 239 of 500"
       ]
      },
      {
       "output_type": "stream",
       "stream": "stdout",
       "text": [
        "\r",
        "Ransac iteration 240 of 500"
       ]
      },
      {
       "output_type": "stream",
       "stream": "stdout",
       "text": [
        "\r",
        "Ransac iteration 241 of 500"
       ]
      },
      {
       "output_type": "stream",
       "stream": "stdout",
       "text": [
        "\r",
        "Ransac iteration 242 of 500"
       ]
      },
      {
       "output_type": "stream",
       "stream": "stdout",
       "text": [
        "\r",
        "Ransac iteration 243 of 500"
       ]
      },
      {
       "output_type": "stream",
       "stream": "stdout",
       "text": [
        "\r",
        "Ransac iteration 244 of 500"
       ]
      },
      {
       "output_type": "stream",
       "stream": "stdout",
       "text": [
        "\r",
        "Ransac iteration 245 of 500"
       ]
      },
      {
       "output_type": "stream",
       "stream": "stdout",
       "text": [
        "\r",
        "Ransac iteration 246 of 500"
       ]
      },
      {
       "output_type": "stream",
       "stream": "stdout",
       "text": [
        "\r",
        "Ransac iteration 247 of 500"
       ]
      },
      {
       "output_type": "stream",
       "stream": "stdout",
       "text": [
        "\r",
        "Ransac iteration 248 of 500"
       ]
      },
      {
       "output_type": "stream",
       "stream": "stdout",
       "text": [
        "\r",
        "Ransac iteration 249 of 500"
       ]
      },
      {
       "output_type": "stream",
       "stream": "stdout",
       "text": [
        "\r",
        "Ransac iteration 250 of 500"
       ]
      },
      {
       "output_type": "stream",
       "stream": "stdout",
       "text": [
        "\r",
        "Ransac iteration 251 of 500"
       ]
      },
      {
       "output_type": "stream",
       "stream": "stdout",
       "text": [
        "\r",
        "Ransac iteration 252 of 500"
       ]
      },
      {
       "output_type": "stream",
       "stream": "stdout",
       "text": [
        "\r",
        "Ransac iteration 253 of 500"
       ]
      },
      {
       "output_type": "stream",
       "stream": "stdout",
       "text": [
        "\r",
        "Ransac iteration 254 of 500"
       ]
      },
      {
       "output_type": "stream",
       "stream": "stdout",
       "text": [
        "\r",
        "Ransac iteration 255 of 500"
       ]
      },
      {
       "output_type": "stream",
       "stream": "stdout",
       "text": [
        "\r",
        "Ransac iteration 256 of 500"
       ]
      },
      {
       "output_type": "stream",
       "stream": "stdout",
       "text": [
        "\r",
        "Ransac iteration 257 of 500"
       ]
      },
      {
       "output_type": "stream",
       "stream": "stdout",
       "text": [
        "\r",
        "Ransac iteration 258 of 500"
       ]
      },
      {
       "output_type": "stream",
       "stream": "stdout",
       "text": [
        "\r",
        "Ransac iteration 259 of 500"
       ]
      },
      {
       "output_type": "stream",
       "stream": "stdout",
       "text": [
        "\r",
        "Ransac iteration 260 of 500"
       ]
      },
      {
       "output_type": "stream",
       "stream": "stdout",
       "text": [
        "\r",
        "Ransac iteration 261 of 500"
       ]
      },
      {
       "output_type": "stream",
       "stream": "stdout",
       "text": [
        "\r",
        "Ransac iteration 262 of 500"
       ]
      },
      {
       "output_type": "stream",
       "stream": "stdout",
       "text": [
        "\r",
        "Ransac iteration 263 of 500"
       ]
      },
      {
       "output_type": "stream",
       "stream": "stdout",
       "text": [
        "\r",
        "Ransac iteration 264 of 500"
       ]
      },
      {
       "output_type": "stream",
       "stream": "stdout",
       "text": [
        "\r",
        "Ransac iteration 265 of 500"
       ]
      },
      {
       "output_type": "stream",
       "stream": "stdout",
       "text": [
        "\r",
        "Ransac iteration 266 of 500"
       ]
      },
      {
       "output_type": "stream",
       "stream": "stdout",
       "text": [
        "\r",
        "Ransac iteration 267 of 500"
       ]
      },
      {
       "output_type": "stream",
       "stream": "stdout",
       "text": [
        "\r",
        "Ransac iteration 268 of 500"
       ]
      },
      {
       "output_type": "stream",
       "stream": "stdout",
       "text": [
        "\r",
        "Ransac iteration 269 of 500"
       ]
      },
      {
       "output_type": "stream",
       "stream": "stdout",
       "text": [
        "\r",
        "Ransac iteration 270 of 500"
       ]
      },
      {
       "output_type": "stream",
       "stream": "stdout",
       "text": [
        "\r",
        "Ransac iteration 271 of 500"
       ]
      },
      {
       "output_type": "stream",
       "stream": "stdout",
       "text": [
        "\r",
        "Ransac iteration 272 of 500"
       ]
      },
      {
       "output_type": "stream",
       "stream": "stdout",
       "text": [
        "\r",
        "Ransac iteration 273 of 500"
       ]
      },
      {
       "output_type": "stream",
       "stream": "stdout",
       "text": [
        "\r",
        "Ransac iteration 274 of 500"
       ]
      },
      {
       "output_type": "stream",
       "stream": "stdout",
       "text": [
        "\r",
        "Ransac iteration 275 of 500"
       ]
      },
      {
       "output_type": "stream",
       "stream": "stdout",
       "text": [
        "\r",
        "Ransac iteration 276 of 500"
       ]
      },
      {
       "output_type": "stream",
       "stream": "stdout",
       "text": [
        "\r",
        "Ransac iteration 277 of 500"
       ]
      },
      {
       "output_type": "stream",
       "stream": "stdout",
       "text": [
        "\r",
        "Ransac iteration 278 of 500"
       ]
      },
      {
       "output_type": "stream",
       "stream": "stdout",
       "text": [
        "\r",
        "Ransac iteration 279 of 500"
       ]
      },
      {
       "output_type": "stream",
       "stream": "stdout",
       "text": [
        "\r",
        "Ransac iteration 280 of 500"
       ]
      },
      {
       "output_type": "stream",
       "stream": "stdout",
       "text": [
        "\r",
        "Ransac iteration 281 of 500"
       ]
      },
      {
       "output_type": "stream",
       "stream": "stdout",
       "text": [
        "\r",
        "Ransac iteration 282 of 500"
       ]
      },
      {
       "output_type": "stream",
       "stream": "stdout",
       "text": [
        "\r",
        "Ransac iteration 283 of 500"
       ]
      },
      {
       "output_type": "stream",
       "stream": "stdout",
       "text": [
        "\r",
        "Ransac iteration 284 of 500"
       ]
      },
      {
       "output_type": "stream",
       "stream": "stdout",
       "text": [
        "\r",
        "Ransac iteration 285 of 500"
       ]
      },
      {
       "output_type": "stream",
       "stream": "stdout",
       "text": [
        "\r",
        "Ransac iteration 286 of 500"
       ]
      },
      {
       "output_type": "stream",
       "stream": "stdout",
       "text": [
        "\r",
        "Ransac iteration 287 of 500"
       ]
      },
      {
       "output_type": "stream",
       "stream": "stdout",
       "text": [
        "\r",
        "Ransac iteration 288 of 500"
       ]
      },
      {
       "output_type": "stream",
       "stream": "stdout",
       "text": [
        "\r",
        "Ransac iteration 289 of 500"
       ]
      },
      {
       "output_type": "stream",
       "stream": "stdout",
       "text": [
        "\r",
        "Ransac iteration 290 of 500"
       ]
      },
      {
       "output_type": "stream",
       "stream": "stdout",
       "text": [
        "\r",
        "Ransac iteration 291 of 500"
       ]
      },
      {
       "output_type": "stream",
       "stream": "stdout",
       "text": [
        "\r",
        "Ransac iteration 292 of 500"
       ]
      },
      {
       "output_type": "stream",
       "stream": "stdout",
       "text": [
        "\r",
        "Ransac iteration 293 of 500"
       ]
      },
      {
       "output_type": "stream",
       "stream": "stdout",
       "text": [
        "\r",
        "Ransac iteration 294 of 500"
       ]
      },
      {
       "output_type": "stream",
       "stream": "stdout",
       "text": [
        "\r",
        "Ransac iteration 295 of 500"
       ]
      },
      {
       "output_type": "stream",
       "stream": "stdout",
       "text": [
        "\r",
        "Ransac iteration 296 of 500"
       ]
      },
      {
       "output_type": "stream",
       "stream": "stdout",
       "text": [
        "\r",
        "Ransac iteration 297 of 500"
       ]
      },
      {
       "output_type": "stream",
       "stream": "stdout",
       "text": [
        "\r",
        "Ransac iteration 298 of 500"
       ]
      },
      {
       "output_type": "stream",
       "stream": "stdout",
       "text": [
        "\r",
        "Ransac iteration 299 of 500"
       ]
      },
      {
       "output_type": "stream",
       "stream": "stdout",
       "text": [
        "\r",
        "Ransac iteration 300 of 500"
       ]
      },
      {
       "output_type": "stream",
       "stream": "stdout",
       "text": [
        "\r",
        "Ransac iteration 301 of 500"
       ]
      },
      {
       "output_type": "stream",
       "stream": "stdout",
       "text": [
        "\r",
        "Ransac iteration 302 of 500"
       ]
      },
      {
       "output_type": "stream",
       "stream": "stdout",
       "text": [
        "\r",
        "Ransac iteration 303 of 500"
       ]
      },
      {
       "output_type": "stream",
       "stream": "stdout",
       "text": [
        "\r",
        "Ransac iteration 304 of 500"
       ]
      },
      {
       "output_type": "stream",
       "stream": "stdout",
       "text": [
        "\r",
        "Ransac iteration 305 of 500"
       ]
      },
      {
       "output_type": "stream",
       "stream": "stdout",
       "text": [
        "\r",
        "Ransac iteration 306 of 500"
       ]
      },
      {
       "output_type": "stream",
       "stream": "stdout",
       "text": [
        "\r",
        "Ransac iteration 307 of 500"
       ]
      },
      {
       "output_type": "stream",
       "stream": "stdout",
       "text": [
        "\r",
        "Ransac iteration 308 of 500"
       ]
      },
      {
       "output_type": "stream",
       "stream": "stdout",
       "text": [
        "\r",
        "Ransac iteration 309 of 500"
       ]
      },
      {
       "output_type": "stream",
       "stream": "stdout",
       "text": [
        "\r",
        "Ransac iteration 310 of 500"
       ]
      },
      {
       "output_type": "stream",
       "stream": "stdout",
       "text": [
        "\r",
        "Ransac iteration 311 of 500"
       ]
      },
      {
       "output_type": "stream",
       "stream": "stdout",
       "text": [
        "\r",
        "Ransac iteration 312 of 500"
       ]
      },
      {
       "output_type": "stream",
       "stream": "stdout",
       "text": [
        "\r",
        "Ransac iteration 313 of 500"
       ]
      },
      {
       "output_type": "stream",
       "stream": "stdout",
       "text": [
        "\r",
        "Ransac iteration 314 of 500"
       ]
      },
      {
       "output_type": "stream",
       "stream": "stdout",
       "text": [
        "\r",
        "Ransac iteration 315 of 500"
       ]
      },
      {
       "output_type": "stream",
       "stream": "stdout",
       "text": [
        "\r",
        "Ransac iteration 316 of 500"
       ]
      },
      {
       "output_type": "stream",
       "stream": "stdout",
       "text": [
        "\r",
        "Ransac iteration 317 of 500"
       ]
      },
      {
       "output_type": "stream",
       "stream": "stdout",
       "text": [
        "\r",
        "Ransac iteration 318 of 500"
       ]
      },
      {
       "output_type": "stream",
       "stream": "stdout",
       "text": [
        "\r",
        "Ransac iteration 319 of 500"
       ]
      },
      {
       "output_type": "stream",
       "stream": "stdout",
       "text": [
        "\r",
        "Ransac iteration 320 of 500"
       ]
      },
      {
       "output_type": "stream",
       "stream": "stdout",
       "text": [
        "\r",
        "Ransac iteration 321 of 500"
       ]
      },
      {
       "output_type": "stream",
       "stream": "stdout",
       "text": [
        "\r",
        "Ransac iteration 322 of 500"
       ]
      },
      {
       "output_type": "stream",
       "stream": "stdout",
       "text": [
        "\r",
        "Ransac iteration 323 of 500"
       ]
      },
      {
       "output_type": "stream",
       "stream": "stdout",
       "text": [
        "\r",
        "Ransac iteration 324 of 500"
       ]
      },
      {
       "output_type": "stream",
       "stream": "stdout",
       "text": [
        "\r",
        "Ransac iteration 325 of 500"
       ]
      },
      {
       "output_type": "stream",
       "stream": "stdout",
       "text": [
        "\r",
        "Ransac iteration 326 of 500"
       ]
      },
      {
       "output_type": "stream",
       "stream": "stdout",
       "text": [
        "\r",
        "Ransac iteration 327 of 500"
       ]
      },
      {
       "output_type": "stream",
       "stream": "stdout",
       "text": [
        "\r",
        "Ransac iteration 328 of 500"
       ]
      },
      {
       "output_type": "stream",
       "stream": "stdout",
       "text": [
        "\r",
        "Ransac iteration 329 of 500"
       ]
      },
      {
       "output_type": "stream",
       "stream": "stdout",
       "text": [
        "\r",
        "Ransac iteration 330 of 500"
       ]
      },
      {
       "output_type": "stream",
       "stream": "stdout",
       "text": [
        "\r",
        "Ransac iteration 331 of 500"
       ]
      },
      {
       "output_type": "stream",
       "stream": "stdout",
       "text": [
        "\r",
        "Ransac iteration 332 of 500"
       ]
      },
      {
       "output_type": "stream",
       "stream": "stdout",
       "text": [
        "\r",
        "Ransac iteration 333 of 500"
       ]
      },
      {
       "output_type": "stream",
       "stream": "stdout",
       "text": [
        "\r",
        "Ransac iteration 334 of 500"
       ]
      },
      {
       "output_type": "stream",
       "stream": "stdout",
       "text": [
        "\r",
        "Ransac iteration 335 of 500"
       ]
      },
      {
       "output_type": "stream",
       "stream": "stdout",
       "text": [
        "\r",
        "Ransac iteration 336 of 500"
       ]
      },
      {
       "output_type": "stream",
       "stream": "stdout",
       "text": [
        "\r",
        "Ransac iteration 337 of 500"
       ]
      },
      {
       "output_type": "stream",
       "stream": "stdout",
       "text": [
        "\r",
        "Ransac iteration 338 of 500"
       ]
      },
      {
       "output_type": "stream",
       "stream": "stdout",
       "text": [
        "\r",
        "Ransac iteration 339 of 500"
       ]
      },
      {
       "output_type": "stream",
       "stream": "stdout",
       "text": [
        "\r",
        "Ransac iteration 340 of 500"
       ]
      },
      {
       "output_type": "stream",
       "stream": "stdout",
       "text": [
        "\r",
        "Ransac iteration 341 of 500"
       ]
      },
      {
       "output_type": "stream",
       "stream": "stdout",
       "text": [
        "\r",
        "Ransac iteration 342 of 500"
       ]
      },
      {
       "output_type": "stream",
       "stream": "stdout",
       "text": [
        "\r",
        "Ransac iteration 343 of 500"
       ]
      },
      {
       "output_type": "stream",
       "stream": "stdout",
       "text": [
        "\r",
        "Ransac iteration 344 of 500"
       ]
      },
      {
       "output_type": "stream",
       "stream": "stdout",
       "text": [
        "\r",
        "Ransac iteration 345 of 500"
       ]
      },
      {
       "output_type": "stream",
       "stream": "stdout",
       "text": [
        "\r",
        "Ransac iteration 346 of 500"
       ]
      },
      {
       "output_type": "stream",
       "stream": "stdout",
       "text": [
        "\r",
        "Ransac iteration 347 of 500"
       ]
      },
      {
       "output_type": "stream",
       "stream": "stdout",
       "text": [
        "\r",
        "Ransac iteration 348 of 500"
       ]
      },
      {
       "output_type": "stream",
       "stream": "stdout",
       "text": [
        "\r",
        "Ransac iteration 349 of 500"
       ]
      },
      {
       "output_type": "stream",
       "stream": "stdout",
       "text": [
        "\r",
        "Ransac iteration 350 of 500"
       ]
      },
      {
       "output_type": "stream",
       "stream": "stdout",
       "text": [
        "\r",
        "Ransac iteration 351 of 500"
       ]
      },
      {
       "output_type": "stream",
       "stream": "stdout",
       "text": [
        "\r",
        "Ransac iteration 352 of 500"
       ]
      },
      {
       "output_type": "stream",
       "stream": "stdout",
       "text": [
        "\r",
        "Ransac iteration 353 of 500"
       ]
      },
      {
       "output_type": "stream",
       "stream": "stdout",
       "text": [
        "\r",
        "Ransac iteration 354 of 500"
       ]
      },
      {
       "output_type": "stream",
       "stream": "stdout",
       "text": [
        "\r",
        "Ransac iteration 355 of 500"
       ]
      },
      {
       "output_type": "stream",
       "stream": "stdout",
       "text": [
        "\r",
        "Ransac iteration 356 of 500"
       ]
      },
      {
       "output_type": "stream",
       "stream": "stdout",
       "text": [
        "\r",
        "Ransac iteration 357 of 500"
       ]
      },
      {
       "output_type": "stream",
       "stream": "stdout",
       "text": [
        "\r",
        "Ransac iteration 358 of 500"
       ]
      },
      {
       "output_type": "stream",
       "stream": "stdout",
       "text": [
        "\r",
        "Ransac iteration 359 of 500"
       ]
      },
      {
       "output_type": "stream",
       "stream": "stdout",
       "text": [
        "\r",
        "Ransac iteration 360 of 500"
       ]
      },
      {
       "output_type": "stream",
       "stream": "stdout",
       "text": [
        "\r",
        "Ransac iteration 361 of 500"
       ]
      },
      {
       "output_type": "stream",
       "stream": "stdout",
       "text": [
        "\r",
        "Ransac iteration 362 of 500"
       ]
      },
      {
       "output_type": "stream",
       "stream": "stdout",
       "text": [
        "\r",
        "Ransac iteration 363 of 500"
       ]
      },
      {
       "output_type": "stream",
       "stream": "stdout",
       "text": [
        "\r",
        "Ransac iteration 364 of 500"
       ]
      },
      {
       "output_type": "stream",
       "stream": "stdout",
       "text": [
        "\r",
        "Ransac iteration 365 of 500"
       ]
      },
      {
       "output_type": "stream",
       "stream": "stdout",
       "text": [
        "\r",
        "Ransac iteration 366 of 500"
       ]
      },
      {
       "output_type": "stream",
       "stream": "stdout",
       "text": [
        "\r",
        "Ransac iteration 367 of 500"
       ]
      },
      {
       "output_type": "stream",
       "stream": "stdout",
       "text": [
        "\r",
        "Ransac iteration 368 of 500"
       ]
      },
      {
       "output_type": "stream",
       "stream": "stdout",
       "text": [
        "\r",
        "Ransac iteration 369 of 500"
       ]
      },
      {
       "output_type": "stream",
       "stream": "stdout",
       "text": [
        "\r",
        "Ransac iteration 370 of 500"
       ]
      },
      {
       "output_type": "stream",
       "stream": "stdout",
       "text": [
        "\r",
        "Ransac iteration 371 of 500"
       ]
      },
      {
       "output_type": "stream",
       "stream": "stdout",
       "text": [
        "\r",
        "Ransac iteration 372 of 500"
       ]
      },
      {
       "output_type": "stream",
       "stream": "stdout",
       "text": [
        "\r",
        "Ransac iteration 373 of 500"
       ]
      },
      {
       "output_type": "stream",
       "stream": "stdout",
       "text": [
        "\r",
        "Ransac iteration 374 of 500"
       ]
      },
      {
       "output_type": "stream",
       "stream": "stdout",
       "text": [
        "\r",
        "Ransac iteration 375 of 500"
       ]
      },
      {
       "output_type": "stream",
       "stream": "stdout",
       "text": [
        "\r",
        "Ransac iteration 376 of 500"
       ]
      },
      {
       "output_type": "stream",
       "stream": "stdout",
       "text": [
        "\r",
        "Ransac iteration 377 of 500"
       ]
      },
      {
       "output_type": "stream",
       "stream": "stdout",
       "text": [
        "\r",
        "Ransac iteration 378 of 500"
       ]
      },
      {
       "output_type": "stream",
       "stream": "stdout",
       "text": [
        "\r",
        "Ransac iteration 379 of 500"
       ]
      },
      {
       "output_type": "stream",
       "stream": "stdout",
       "text": [
        "\r",
        "Ransac iteration 380 of 500"
       ]
      },
      {
       "output_type": "stream",
       "stream": "stdout",
       "text": [
        "\r",
        "Ransac iteration 381 of 500"
       ]
      },
      {
       "output_type": "stream",
       "stream": "stdout",
       "text": [
        "\r",
        "Ransac iteration 382 of 500"
       ]
      },
      {
       "output_type": "stream",
       "stream": "stdout",
       "text": [
        "\r",
        "Ransac iteration 383 of 500"
       ]
      },
      {
       "output_type": "stream",
       "stream": "stdout",
       "text": [
        "\r",
        "Ransac iteration 384 of 500"
       ]
      },
      {
       "output_type": "stream",
       "stream": "stdout",
       "text": [
        "\r",
        "Ransac iteration 385 of 500"
       ]
      },
      {
       "output_type": "stream",
       "stream": "stdout",
       "text": [
        "\r",
        "Ransac iteration 386 of 500"
       ]
      },
      {
       "output_type": "stream",
       "stream": "stdout",
       "text": [
        "\r",
        "Ransac iteration 387 of 500"
       ]
      },
      {
       "output_type": "stream",
       "stream": "stdout",
       "text": [
        "\r",
        "Ransac iteration 388 of 500"
       ]
      },
      {
       "output_type": "stream",
       "stream": "stdout",
       "text": [
        "\r",
        "Ransac iteration 389 of 500"
       ]
      },
      {
       "output_type": "stream",
       "stream": "stdout",
       "text": [
        "\r",
        "Ransac iteration 390 of 500"
       ]
      },
      {
       "output_type": "stream",
       "stream": "stdout",
       "text": [
        "\r",
        "Ransac iteration 391 of 500"
       ]
      },
      {
       "output_type": "stream",
       "stream": "stdout",
       "text": [
        "\r",
        "Ransac iteration 392 of 500"
       ]
      },
      {
       "output_type": "stream",
       "stream": "stdout",
       "text": [
        "\r",
        "Ransac iteration 393 of 500"
       ]
      },
      {
       "output_type": "stream",
       "stream": "stdout",
       "text": [
        "\r",
        "Ransac iteration 394 of 500"
       ]
      },
      {
       "output_type": "stream",
       "stream": "stdout",
       "text": [
        "\r",
        "Ransac iteration 395 of 500"
       ]
      },
      {
       "output_type": "stream",
       "stream": "stdout",
       "text": [
        "\r",
        "Ransac iteration 396 of 500"
       ]
      },
      {
       "output_type": "stream",
       "stream": "stdout",
       "text": [
        "\r",
        "Ransac iteration 397 of 500"
       ]
      },
      {
       "output_type": "stream",
       "stream": "stdout",
       "text": [
        "\r",
        "Ransac iteration 398 of 500"
       ]
      },
      {
       "output_type": "stream",
       "stream": "stdout",
       "text": [
        "\r",
        "Ransac iteration 399 of 500"
       ]
      },
      {
       "output_type": "stream",
       "stream": "stdout",
       "text": [
        "\r",
        "Ransac iteration 400 of 500"
       ]
      },
      {
       "output_type": "stream",
       "stream": "stdout",
       "text": [
        "\r",
        "Ransac iteration 401 of 500"
       ]
      },
      {
       "output_type": "stream",
       "stream": "stdout",
       "text": [
        "\r",
        "Ransac iteration 402 of 500"
       ]
      },
      {
       "output_type": "stream",
       "stream": "stdout",
       "text": [
        "\r",
        "Ransac iteration 403 of 500"
       ]
      },
      {
       "output_type": "stream",
       "stream": "stdout",
       "text": [
        "\r",
        "Ransac iteration 404 of 500"
       ]
      },
      {
       "output_type": "stream",
       "stream": "stdout",
       "text": [
        "\r",
        "Ransac iteration 405 of 500"
       ]
      },
      {
       "output_type": "stream",
       "stream": "stdout",
       "text": [
        "\r",
        "Ransac iteration 406 of 500"
       ]
      },
      {
       "output_type": "stream",
       "stream": "stdout",
       "text": [
        "\r",
        "Ransac iteration 407 of 500"
       ]
      },
      {
       "output_type": "stream",
       "stream": "stdout",
       "text": [
        "\r",
        "Ransac iteration 408 of 500"
       ]
      },
      {
       "output_type": "stream",
       "stream": "stdout",
       "text": [
        "\r",
        "Ransac iteration 409 of 500"
       ]
      },
      {
       "output_type": "stream",
       "stream": "stdout",
       "text": [
        "\r",
        "Ransac iteration 410 of 500"
       ]
      },
      {
       "output_type": "stream",
       "stream": "stdout",
       "text": [
        "\r",
        "Ransac iteration 411 of 500"
       ]
      },
      {
       "output_type": "stream",
       "stream": "stdout",
       "text": [
        "\r",
        "Ransac iteration 412 of 500"
       ]
      },
      {
       "output_type": "stream",
       "stream": "stdout",
       "text": [
        "\r",
        "Ransac iteration 413 of 500"
       ]
      },
      {
       "output_type": "stream",
       "stream": "stdout",
       "text": [
        "\r",
        "Ransac iteration 414 of 500"
       ]
      },
      {
       "output_type": "stream",
       "stream": "stdout",
       "text": [
        "\r",
        "Ransac iteration 415 of 500"
       ]
      },
      {
       "output_type": "stream",
       "stream": "stdout",
       "text": [
        "\r",
        "Ransac iteration 416 of 500"
       ]
      },
      {
       "output_type": "stream",
       "stream": "stdout",
       "text": [
        "\r",
        "Ransac iteration 417 of 500"
       ]
      },
      {
       "output_type": "stream",
       "stream": "stdout",
       "text": [
        "\r",
        "Ransac iteration 418 of 500"
       ]
      },
      {
       "output_type": "stream",
       "stream": "stdout",
       "text": [
        "\r",
        "Ransac iteration 419 of 500"
       ]
      },
      {
       "output_type": "stream",
       "stream": "stdout",
       "text": [
        "\r",
        "Ransac iteration 420 of 500"
       ]
      },
      {
       "output_type": "stream",
       "stream": "stdout",
       "text": [
        "\r",
        "Ransac iteration 421 of 500"
       ]
      },
      {
       "output_type": "stream",
       "stream": "stdout",
       "text": [
        "\r",
        "Ransac iteration 422 of 500"
       ]
      },
      {
       "output_type": "stream",
       "stream": "stdout",
       "text": [
        "\r",
        "Ransac iteration 423 of 500"
       ]
      },
      {
       "output_type": "stream",
       "stream": "stdout",
       "text": [
        "\r",
        "Ransac iteration 424 of 500"
       ]
      },
      {
       "output_type": "stream",
       "stream": "stdout",
       "text": [
        "\r",
        "Ransac iteration 425 of 500"
       ]
      },
      {
       "output_type": "stream",
       "stream": "stdout",
       "text": [
        "\r",
        "Ransac iteration 426 of 500"
       ]
      },
      {
       "output_type": "stream",
       "stream": "stdout",
       "text": [
        "\r",
        "Ransac iteration 427 of 500"
       ]
      },
      {
       "output_type": "stream",
       "stream": "stdout",
       "text": [
        "\r",
        "Ransac iteration 428 of 500"
       ]
      },
      {
       "output_type": "stream",
       "stream": "stdout",
       "text": [
        "\r",
        "Ransac iteration 429 of 500"
       ]
      },
      {
       "output_type": "stream",
       "stream": "stdout",
       "text": [
        "\r",
        "Ransac iteration 430 of 500"
       ]
      },
      {
       "output_type": "stream",
       "stream": "stdout",
       "text": [
        "\r",
        "Ransac iteration 431 of 500"
       ]
      },
      {
       "output_type": "stream",
       "stream": "stdout",
       "text": [
        "\r",
        "Ransac iteration 432 of 500"
       ]
      },
      {
       "output_type": "stream",
       "stream": "stdout",
       "text": [
        "\r",
        "Ransac iteration 433 of 500"
       ]
      },
      {
       "output_type": "stream",
       "stream": "stdout",
       "text": [
        "\r",
        "Ransac iteration 434 of 500"
       ]
      },
      {
       "output_type": "stream",
       "stream": "stdout",
       "text": [
        "\r",
        "Ransac iteration 435 of 500"
       ]
      },
      {
       "output_type": "stream",
       "stream": "stdout",
       "text": [
        "\r",
        "Ransac iteration 436 of 500"
       ]
      },
      {
       "output_type": "stream",
       "stream": "stdout",
       "text": [
        "\r",
        "Ransac iteration 437 of 500"
       ]
      },
      {
       "output_type": "stream",
       "stream": "stdout",
       "text": [
        "\r",
        "Ransac iteration 438 of 500"
       ]
      },
      {
       "output_type": "stream",
       "stream": "stdout",
       "text": [
        "\r",
        "Ransac iteration 439 of 500"
       ]
      },
      {
       "output_type": "stream",
       "stream": "stdout",
       "text": [
        "\r",
        "Ransac iteration 440 of 500"
       ]
      },
      {
       "output_type": "stream",
       "stream": "stdout",
       "text": [
        "\r",
        "Ransac iteration 441 of 500"
       ]
      },
      {
       "output_type": "stream",
       "stream": "stdout",
       "text": [
        "\r",
        "Ransac iteration 442 of 500"
       ]
      },
      {
       "output_type": "stream",
       "stream": "stdout",
       "text": [
        "\r",
        "Ransac iteration 443 of 500"
       ]
      },
      {
       "output_type": "stream",
       "stream": "stdout",
       "text": [
        "\r",
        "Ransac iteration 444 of 500"
       ]
      },
      {
       "output_type": "stream",
       "stream": "stdout",
       "text": [
        "\r",
        "Ransac iteration 445 of 500"
       ]
      },
      {
       "output_type": "stream",
       "stream": "stdout",
       "text": [
        "\r",
        "Ransac iteration 446 of 500"
       ]
      },
      {
       "output_type": "stream",
       "stream": "stdout",
       "text": [
        "\r",
        "Ransac iteration 447 of 500"
       ]
      },
      {
       "output_type": "stream",
       "stream": "stdout",
       "text": [
        "\r",
        "Ransac iteration 448 of 500"
       ]
      },
      {
       "output_type": "stream",
       "stream": "stdout",
       "text": [
        "\r",
        "Ransac iteration 449 of 500"
       ]
      },
      {
       "output_type": "stream",
       "stream": "stdout",
       "text": [
        "\r",
        "Ransac iteration 450 of 500"
       ]
      },
      {
       "output_type": "stream",
       "stream": "stdout",
       "text": [
        "\r",
        "Ransac iteration 451 of 500"
       ]
      },
      {
       "output_type": "stream",
       "stream": "stdout",
       "text": [
        "\r",
        "Ransac iteration 452 of 500"
       ]
      },
      {
       "output_type": "stream",
       "stream": "stdout",
       "text": [
        "\r",
        "Ransac iteration 453 of 500"
       ]
      },
      {
       "output_type": "stream",
       "stream": "stdout",
       "text": [
        "\r",
        "Ransac iteration 454 of 500"
       ]
      },
      {
       "output_type": "stream",
       "stream": "stdout",
       "text": [
        "\r",
        "Ransac iteration 455 of 500"
       ]
      },
      {
       "output_type": "stream",
       "stream": "stdout",
       "text": [
        "\r",
        "Ransac iteration 456 of 500"
       ]
      },
      {
       "output_type": "stream",
       "stream": "stdout",
       "text": [
        "\r",
        "Ransac iteration 457 of 500"
       ]
      },
      {
       "output_type": "stream",
       "stream": "stdout",
       "text": [
        "\r",
        "Ransac iteration 458 of 500"
       ]
      },
      {
       "output_type": "stream",
       "stream": "stdout",
       "text": [
        "\r",
        "Ransac iteration 459 of 500"
       ]
      },
      {
       "output_type": "stream",
       "stream": "stdout",
       "text": [
        "\r",
        "Ransac iteration 460 of 500"
       ]
      },
      {
       "output_type": "stream",
       "stream": "stdout",
       "text": [
        "\r",
        "Ransac iteration 461 of 500"
       ]
      },
      {
       "output_type": "stream",
       "stream": "stdout",
       "text": [
        "\r",
        "Ransac iteration 462 of 500"
       ]
      },
      {
       "output_type": "stream",
       "stream": "stdout",
       "text": [
        "\r",
        "Ransac iteration 463 of 500"
       ]
      },
      {
       "output_type": "stream",
       "stream": "stdout",
       "text": [
        "\r",
        "Ransac iteration 464 of 500"
       ]
      },
      {
       "output_type": "stream",
       "stream": "stdout",
       "text": [
        "\r",
        "Ransac iteration 465 of 500"
       ]
      },
      {
       "output_type": "stream",
       "stream": "stdout",
       "text": [
        "\r",
        "Ransac iteration 466 of 500"
       ]
      },
      {
       "output_type": "stream",
       "stream": "stdout",
       "text": [
        "\r",
        "Ransac iteration 467 of 500"
       ]
      },
      {
       "output_type": "stream",
       "stream": "stdout",
       "text": [
        "\r",
        "Ransac iteration 468 of 500"
       ]
      },
      {
       "output_type": "stream",
       "stream": "stdout",
       "text": [
        "\r",
        "Ransac iteration 469 of 500"
       ]
      },
      {
       "output_type": "stream",
       "stream": "stdout",
       "text": [
        "\r",
        "Ransac iteration 470 of 500"
       ]
      },
      {
       "output_type": "stream",
       "stream": "stdout",
       "text": [
        "\r",
        "Ransac iteration 471 of 500"
       ]
      },
      {
       "output_type": "stream",
       "stream": "stdout",
       "text": [
        "\r",
        "Ransac iteration 472 of 500"
       ]
      },
      {
       "output_type": "stream",
       "stream": "stdout",
       "text": [
        "\r",
        "Ransac iteration 473 of 500"
       ]
      },
      {
       "output_type": "stream",
       "stream": "stdout",
       "text": [
        "\r",
        "Ransac iteration 474 of 500"
       ]
      },
      {
       "output_type": "stream",
       "stream": "stdout",
       "text": [
        "\r",
        "Ransac iteration 475 of 500"
       ]
      },
      {
       "output_type": "stream",
       "stream": "stdout",
       "text": [
        "\r",
        "Ransac iteration 476 of 500"
       ]
      },
      {
       "output_type": "stream",
       "stream": "stdout",
       "text": [
        "\r",
        "Ransac iteration 477 of 500"
       ]
      },
      {
       "output_type": "stream",
       "stream": "stdout",
       "text": [
        "\r",
        "Ransac iteration 478 of 500"
       ]
      },
      {
       "output_type": "stream",
       "stream": "stdout",
       "text": [
        "\r",
        "Ransac iteration 479 of 500"
       ]
      },
      {
       "output_type": "stream",
       "stream": "stdout",
       "text": [
        "\r",
        "Ransac iteration 480 of 500"
       ]
      },
      {
       "output_type": "stream",
       "stream": "stdout",
       "text": [
        "\r",
        "Ransac iteration 481 of 500"
       ]
      },
      {
       "output_type": "stream",
       "stream": "stdout",
       "text": [
        "\r",
        "Ransac iteration 482 of 500"
       ]
      },
      {
       "output_type": "stream",
       "stream": "stdout",
       "text": [
        "\r",
        "Ransac iteration 483 of 500"
       ]
      },
      {
       "output_type": "stream",
       "stream": "stdout",
       "text": [
        "\r",
        "Ransac iteration 484 of 500"
       ]
      },
      {
       "output_type": "stream",
       "stream": "stdout",
       "text": [
        "\r",
        "Ransac iteration 485 of 500"
       ]
      },
      {
       "output_type": "stream",
       "stream": "stdout",
       "text": [
        "\r",
        "Ransac iteration 486 of 500"
       ]
      },
      {
       "output_type": "stream",
       "stream": "stdout",
       "text": [
        "\r",
        "Ransac iteration 487 of 500"
       ]
      },
      {
       "output_type": "stream",
       "stream": "stdout",
       "text": [
        "\r",
        "Ransac iteration 488 of 500"
       ]
      },
      {
       "output_type": "stream",
       "stream": "stdout",
       "text": [
        "\r",
        "Ransac iteration 489 of 500"
       ]
      },
      {
       "output_type": "stream",
       "stream": "stdout",
       "text": [
        "\r",
        "Ransac iteration 490 of 500"
       ]
      },
      {
       "output_type": "stream",
       "stream": "stdout",
       "text": [
        "\r",
        "Ransac iteration 491 of 500"
       ]
      },
      {
       "output_type": "stream",
       "stream": "stdout",
       "text": [
        "\r",
        "Ransac iteration 492 of 500"
       ]
      },
      {
       "output_type": "stream",
       "stream": "stdout",
       "text": [
        "\r",
        "Ransac iteration 493 of 500"
       ]
      },
      {
       "output_type": "stream",
       "stream": "stdout",
       "text": [
        "\r",
        "Ransac iteration 494 of 500"
       ]
      },
      {
       "output_type": "stream",
       "stream": "stdout",
       "text": [
        "\r",
        "Ransac iteration 495 of 500"
       ]
      },
      {
       "output_type": "stream",
       "stream": "stdout",
       "text": [
        "\r",
        "Ransac iteration 496 of 500"
       ]
      },
      {
       "output_type": "stream",
       "stream": "stdout",
       "text": [
        "\r",
        "Ransac iteration 497 of 500"
       ]
      },
      {
       "output_type": "stream",
       "stream": "stdout",
       "text": [
        "\r",
        "Ransac iteration 498 of 500"
       ]
      },
      {
       "output_type": "stream",
       "stream": "stdout",
       "text": [
        "got same indices\n",
        "\r",
        "Ransac iteration 499 of 500"
       ]
      },
      {
       "output_type": "stream",
       "stream": "stdout",
       "text": [
        "\n"
       ]
      }
     ],
     "prompt_number": 3
    },
    {
     "cell_type": "code",
     "collapsed": false,
     "input": [
      "print lines"
     ],
     "language": "python",
     "metadata": {},
     "outputs": [
      {
       "output_type": "stream",
       "stream": "stdout",
       "text": [
        "[[  0.83246355  -0.55407982   0.         -43.71572481]\n",
        " [  0.44727426   0.89439686   0.          32.82528998]]\n"
       ]
      }
     ],
     "prompt_number": 5
    },
    {
     "cell_type": "code",
     "collapsed": false,
     "input": [
      "## find which camera belongs to which segment based on distance and slope\n",
      "# find slopes of found lines\n",
      "slopes = np.zeros(len(lines))\n",
      "for i in xrange(0,len(lines)) :\n",
      "    # find 2 points on line\n",
      "    p1 = lines[i][2:4]+lines[i][0:2]\n",
      "    p2 = lines[i][2:4]-lines[i][0:2]\n",
      "    slopes[i] = (p1[1] - p2[1])/(p1[0] - p2[0])\n",
      "    \n",
      "print 'slopes:', slopes\n",
      "\n",
      "\n",
      "## compute average distance of camera locations from their assinged line\n",
      "distances = list()\n",
      "for i in xrange(0, len(lines)) :\n",
      "    for loc in linesInliers[i] :\n",
      "        a = np.ndarray.flatten(lines[i][2:4])\n",
      "        n = np.ndarray.flatten(lines[i][0:2])\n",
      "        p = cameraLocs2D[loc]\n",
      "        distances.append(np.linalg.norm(a - p - np.dot(np.dot(a-p, n), n))) # distance between point p and line x = a +tn\n",
      "\n",
      "\n",
      "## find cameras that after fitting lines using L2 are outside ransac threshold\n",
      "distThresh = 3*np.average(distances)\n",
      "# contains all the cameras that are outliers (according to ransac distance threshold) after fitting of lines using L2 min\n",
      "outliers = list()\n",
      "\n",
      "# for idx in xrange(0, len(cameraLocs2D)) :\n",
      "#     isOutlier = True\n",
      "#     for line in lines :\n",
      "#         a = np.ndarray.flatten(line[2:4])\n",
      "#         n = np.ndarray.flatten(line[0:2])\n",
      "#         p = cameraLocs2D[idx]\n",
      "#         distance = np.linalg.norm(a - p - np.dot(np.dot(a-p, n), n)) # distance between point p and line x = a +tn\n",
      "#         if distance < distThresh :\n",
      "#             isOutlier = False\n",
      "#         if idx == 215 :\n",
      "#             print \"gne\", distance, distThresh\n",
      "#     if isOutlier :\n",
      "#         outliers.append(idx)\n",
      "print distThresh\n",
      "for i in xrange(0, len(lines)) :\n",
      "    for cam in linesInliers[i] :\n",
      "#         print cam,\n",
      "        a = lines[i][2:4]\n",
      "        n = lines[i][0:2]\n",
      "        p = cameraLocs2D[cam]\n",
      "        distance = np.linalg.norm(a - p - np.dot(np.dot(a-p, n), n)) # distance between point p and line x = a +tn\n",
      "#         print distance\n",
      "        if distance > distThresh :\n",
      "            outliers.append(cam)\n",
      "        \n",
      "print 'outliers:', outliers\n"
     ],
     "language": "python",
     "metadata": {},
     "outputs": [
      {
       "output_type": "stream",
       "stream": "stdout",
       "text": [
        "slopes: [-0.66465943  2.00148106]\n",
        "0.425288697536\n",
        "outliers: [215, 216, 217, 218, 219, 220, 221, 222, 223, 224, 225, 226, 227, 228, 229, 230, 231, 232, 233, 234, 235, 236, 237, 238, 239, 240, 241, 242]\n"
       ]
      }
     ],
     "prompt_number": 4
    },
    {
     "cell_type": "code",
     "collapsed": false,
     "input": [
      "## for each outlier check which line they are closer to and add them to their list of inliers\n",
      "# cameras belonging to each fitted line\n",
      "camerasForLine = np.copy(linesInliers)\n",
      "\n",
      "## this will probably fail if the camera locations are not following maze path but follow irregular path\n",
      "for outlier in outliers :\n",
      "    minDist = np.finfo(float).max\n",
      "    bestFit = -1\n",
      "    for i in xrange(0, len(lines)) :\n",
      "        # make sure this line doesn't contain outlier from ransac fitting\n",
      "        if outlier in linesInliers[i] :\n",
      "            camerasForLine[i] = np.delete(camerasForLine[i], np.where(camerasForLine[i] == outlier))\n",
      "        a = np.ndarray.flatten(lines[i][2:4])\n",
      "        n = np.ndarray.flatten(lines[i][0:2])\n",
      "        p = cameraLocs2D[outlier]\n",
      "        distance = np.linalg.norm(a - p - np.dot(np.dot(a-p, n), n))\n",
      "        if distance < minDist :\n",
      "            minDist = distance\n",
      "            bestFit = i\n",
      "    camerasForLine[bestFit] = np.hstack((camerasForLine[bestFit], [outlier]))\n",
      "\n",
      "## sort camerasForLine\n",
      "for l in xrange(0, len(camerasForLine)) :\n",
      "    camerasForLine[l] = np.sort(camerasForLine[l])\n",
      "# print camerasForLine"
     ],
     "language": "python",
     "metadata": {},
     "outputs": [],
     "prompt_number": 5
    },
    {
     "cell_type": "code",
     "collapsed": false,
     "input": [
      "fig = plt.figure(figsize=(10, 10))\n",
      "ax = fig.add_subplot(111)\n",
      "cols = ['b', 'g']\n",
      "## find distance from each camera location to the turn by first projecting them onto the line fitted to them\n",
      "## assumes that camera locations are sorted\n",
      "projectedCameraLocs2D = np.zeros_like(cameraLocs2D) ## camera locations projected onto their respective fitted lines\n",
      "for l in xrange(0, len(camerasForLine)) :\n",
      "    lastCameraLoc = cameraLocs2D[camerasForLine[l][-1]]\n",
      "    lastCameraLoc = lastCameraLoc#/np.linalg.norm(lastCameraLoc)\n",
      "    ax.scatter([lastCameraLoc[0]], [lastCameraLoc[1]], c=cols[l], marker='o')\n",
      "    u = lines[l][0:2]\n",
      "    for c in xrange(0, len(camerasForLine[l])) :\n",
      "        loc = cameraLocs2D[camerasForLine[l][c]]\n",
      "        ## project point onto vector in the line direction u\n",
      "        pLoc = (np.dot(loc, u)/np.dot(u, u))*u\n",
      "        projectedCameraLocs2D[camerasForLine[l][c]] = pLoc\n",
      "\n",
      "cameraDistsToTurn = np.zeros_like(camerasForLine)\n",
      "for l in xrange(0, len(camerasForLine)) :\n",
      "    cameraDistsToTurn[l] = np.zeros(camerasForLine[l].shape, dtype=float)\n",
      "    for c in xrange(0, len(camerasForLine[l])) :\n",
      "        cameraDistsToTurn[l][c] = np.linalg.norm(projectedCameraLocs2D[camerasForLine[l][c]]-projectedCameraLocs2D[camerasForLine[l][-1]])\n",
      "\n",
      "## plot lines and projected camera locs\n",
      "for l in xrange(0, len(lines)) :\n",
      "    a = lines[l][2:4]\n",
      "    u = lines[l][0:2]\n",
      "    for loc, pLoc in zip(cameraLocs2D[camerasForLine[l]], projectedCameraLocs2D[camerasForLine[l]]):\n",
      "        \n",
      "        lineNormal = (pLoc-loc)/np.linalg.norm(pLoc-loc)\n",
      "        \n",
      "        distanceToLine = np.linalg.norm(a - pLoc - np.dot(np.dot(a-pLoc, u), u))\n",
      "        tmp = pLoc - distanceToLine*lineNormal\n",
      "        ax.scatter([tmp[0]], [tmp[1]], c=cols[l], marker='x')\n",
      "    p1 = a+200*u\n",
      "    p2 = a-200*u\n",
      "    ax.plot([p1[0], p2[0]], [p1[1], p2[1]], c=cols[l])\n",
      "\n",
      "ax.scatter([0], [0], c='r', marker='x')\n",
      "    \n",
      "ax.set_xlabel('X')\n",
      "ax.set_ylabel('Y')\n",
      "\n",
      "## set axis range\n",
      "ax.set_autoscale_on(False)\n",
      "# ax.set_xlim([-35.0,-25.0])\n",
      "# ax.set_ylim([-30.0,-20.0])\n",
      "ax.set_xlim([-40.0,20.0])\n",
      "ax.set_ylim([-40.0,20.0])\n",
      "\n",
      "plt.show()"
     ],
     "language": "python",
     "metadata": {},
     "outputs": [],
     "prompt_number": 6
    },
    {
     "cell_type": "code",
     "collapsed": false,
     "input": [
      "## HACK : initialize some mock input 2d maze map (eventually it would come from drawn input or whatevs)\n",
      "\n",
      "mazeMap = np.array([[0.0, 0.0], [0.0, 20.0], [7.0, 20.0], [7.0, 5.0], [2.0, 5.0]])\n",
      "\n",
      "seqSegments = np.zeros([len(camerasForLine), 2]) ## contains length for each video sequence segment and associated length in frames\n",
      "mapSegments = np.zeros([len(mazeMap)-1, 2]) ## contains length for each map segment and associated length in frames\n",
      "\n",
      "for i in xrange(0, len(seqSegments)) :\n",
      "    seqSegments[i, 0] = cameraDistsToTurn[i][0] ## distance of first frame to turn is length of segment\n",
      "    seqSegments[i, 1] = len(camerasForLine[i])\n",
      "maxSeqSegmentLen = np.max(seqSegments[:, 0]);\n",
      "\n",
      "for i in xrange(1, len(mazeMap)) :\n",
      "    mapSegments[i-1, 0] = np.linalg.norm(mazeMap[i-1]-mazeMap[i])\n",
      "maxMapSegmentLen = np.max(mapSegments[:, 0]);\n",
      "\n",
      "print maxSeqSegmentLen, maxMapSegmentLen\n",
      "\n",
      "## find max length of video sequence segments in number of frames\n",
      "maxFramesPerSegment = np.int(np.ndarray.flatten(seqSegments[np.where(seqSegments[:, 0]==maxSeqSegmentLen), 1]))\n",
      "print maxFramesPerSegment\n",
      "\n",
      "## find length in frames for each map segment\n",
      "for i in xrange(0, len(mapSegments)) :\n",
      "    mapSegments[i, 1] = np.round(mapSegments[i, 0]/maxMapSegmentLen*maxFramesPerSegment)\n",
      "\n",
      "print seqSegments\n",
      "print mapSegments"
     ],
     "language": "python",
     "metadata": {},
     "outputs": [
      {
       "output_type": "stream",
       "stream": "stdout",
       "text": [
        "44.4704028743 20.0\n",
        "543\n",
        "[[  17.74708135  226.        ]\n",
        " [  44.47040287  543.        ]]\n",
        "[[  20.  543.]\n",
        " [   7.  190.]\n",
        " [  15.  407.]\n",
        " [   5.  136.]]\n"
       ]
      }
     ],
     "prompt_number": 7
    },
    {
     "cell_type": "code",
     "collapsed": false,
     "input": [
      "## Turn distances to probabilities\n",
      "def dist2prob(dM, normalize) :\n",
      "    sigma = 0.2*np.mean(dM[np.nonzero(dM)])\n",
      "    print 'sigma', sigma\n",
      "    pM = np.exp((-dM)/sigma)\n",
      "## proba at i,j depends on distance at i+1,j\n",
      "    pM = np.vstack([pM[1:pM.shape[0], :], np.zeros([1, pM.shape[1]])])\n",
      "\n",
      "#     pM = np.exp((1-np.roll(distMat, 1, axis=1))/sigma)\n",
      "#     pM = pM[range(2, )]\n",
      "## normalize probabilities row-wise\n",
      "    if normalize :\n",
      "        normTerm = np.sum(pM, axis=1)\n",
      "        normTerm = cv2.repeat(normTerm, 1, dM.shape[1])\n",
      "        pM = pM / normTerm\n",
      "    return pM\n",
      "\n",
      "## returns a diagonal kernel based on given binomial coefficients\n",
      "def diagkernel(c) :\n",
      "    k = np.eye(len(c))\n",
      "    k = k * c/np.sum(c)\n",
      "    return k\n",
      "\n",
      "## Preserve dynamics: convolve wih binomial kernel\n",
      "kernel = diagkernel(np.array([1, 4, 6, 4, 1], dtype=np.float))\n",
      "print kernel\n",
      "filteredDistMatrix = cv2.filter2D(distanceMatrix, -1, kernel)\n",
      "\n",
      "\n",
      "## find the \n",
      "finalFrames = np.zeros(np.sum(mapSegments[:, 1]))\n",
      "print finalFrames.shape\n",
      "probMatrix = dist2prob(filteredDistMatrix, True)\n",
      "\n",
      "scale = maxSeqSegmentLen/maxMapSegmentLen\n",
      "frameIdx = 0\n",
      "for i in xrange(0, len(mapSegments)) :\n",
      "    framesNeeded = np.int(mapSegments[i, 1])\n",
      "    for f in xrange(0, framesNeeded) :\n",
      "        distToTurn = mapSegments[i, 0] - f*mapSegments[i, 0]/(framesNeeded-1)\n",
      "        minDist = np.max([maxMapSegmentLen, maxSeqSegmentLen])+1\n",
      "        bestFrame= -1\n",
      "        bestDistFrames = np.zeros([len(seqSegments), 2]) # for sequence j; [j, 0] = minDist; [j, 1] = bestFrame\n",
      "        for j in xrange(0, len(seqSegments)) :\n",
      "            scaledDist = distToTurn*scale\n",
      "            hackMod = 0\n",
      "            if j == 1 : ## HACK: second segment doesn't actually go to the turn so add some extra distance\n",
      "                hackMod += 10.0\n",
      "            dist = np.min(np.abs(cameraDistsToTurn[j]-scaledDist+hackMod)) \n",
      "            bestDistFrames[j, 0] = dist\n",
      "            bestDistFrames[j, 1] = camerasForLine[j][np.where(np.abs(cameraDistsToTurn[j]-scaledDist+hackMod) == dist)]\n",
      "        \n",
      "        if frameIdx > 0 : ## check distanceMatrix for dist between possible frames\n",
      "#             print distanceMatrix[finalFrames[frameIdx-1], np.array(bestDistFrames[:, 1], dtype=int)]\n",
      "            print \"1\", finalFrames[frameIdx-1], np.array(bestDistFrames[:, 1], dtype=int), probMatrix[finalFrames[frameIdx-1], np.array(bestDistFrames[:, 1], dtype=int)]\n",
      "            print \"2\", bestDistFrames\n",
      "            bestDistFrames[:, 0] = bestDistFrames[:, 0]/probMatrix[finalFrames[frameIdx-1], np.array(bestDistFrames[:, 1], dtype=int)]\n",
      "        bestFrame = bestDistFrames[np.where(bestDistFrames[:, 0] == np.min(bestDistFrames[:, 0])), 1]\n",
      "        print \"la\", bestDistFrames\n",
      "        finalFrames[frameIdx] = bestFrame\n",
      "        if frameIdx != np.sum(mapSegments[0:i, 1])+f :\n",
      "            print frameIdx, np.sum(mapSegments[0:i, 1])+f\n",
      "            raise ValueError(\"Inconsistent final frame index\")\n",
      "        frameIdx += 1\n",
      "#         print bestFrame\n",
      "#     print np.sum(mapSegments[0:i, 1])"
     ],
     "language": "python",
     "metadata": {},
     "outputs": [
      {
       "output_type": "stream",
       "stream": "stdout",
       "text": [
        "[[ 0.0625  0.      0.      0.      0.    ]\n",
        " [ 0.      0.25    0.      0.      0.    ]\n",
        " [ 0.      0.      0.375   0.      0.    ]\n",
        " [ 0.      0.      0.      0.25    0.    ]\n",
        " [ 0.      0.      0.      0.      0.0625]]\n",
        "(1276,)\n",
        "sigma 56.7005757252\n",
        "la"
       ]
      },
      {
       "output_type": "stream",
       "stream": "stdout",
       "text": [
        " [[  2.67233215e+01   0.00000000e+00]\n",
        " [  1.41952314e-03   3.84000000e+02]]\n",
        "1 384.0 [  0 385] [ 0.00133757  0.12420188]\n",
        "2 [[  2.66412728e+01   0.00000000e+00]\n",
        " [  3.94670606e-03   3.85000000e+02]]\n",
        "la [[  1.99176139e+04   0.00000000e+00]\n",
        " [  3.17765396e-02   3.85000000e+02]]\n",
        "1 385.0 [  0 386] [ 0.00134418  0.12465447]\n",
        "2 [[  2.65592241e+01   0.00000000e+00]\n",
        " [  4.60731554e-03   3.86000000e+02]]\n",
        "la [[  1.97586815e+04   0.00000000e+00]\n",
        " [  3.69606913e-02   3.86000000e+02]]\n",
        "1 386.0 [  0 387] [ 0.00135589  0.1250908 ]\n",
        "2 [[  2.64771754e+01   0.00000000e+00]\n",
        " [  3.53194824e-03   3.87000000e+02]]\n",
        "la [[  1.95275775e+04   0.00000000e+00]\n",
        " [  2.82350759e-02   3.87000000e+02]]\n",
        "1 387.0 [  0 388] [ 0.00137012  0.12575447]\n",
        "2 [[  2.63951267e+01   0.00000000e+00]\n",
        " [  5.14018334e-03   3.88000000e+02]]\n",
        "la [[  1.92648913e+04   0.00000000e+00]\n",
        " [  4.08747573e-02   3.88000000e+02]]\n",
        "1 388.0 [  0 389] [ 0.00136904  0.12625916]\n",
        "2 [[  2.63130780e+01   0.00000000e+00]\n",
        " [  8.00671668e-03   3.89000000e+02]]\n",
        "la [[  1.92200655e+04   0.00000000e+00]\n",
        " [  6.34149352e-02   3.89000000e+02]]\n",
        "1 389.0 [  0 390] [ 0.0013802   0.12637302]\n",
        "2 [[  2.62310292e+01   0.00000000e+00]\n",
        " [  1.02024952e-02   3.90000000e+02]]\n",
        "la [[  1.90052022e+04   0.00000000e+00]\n",
        " [  8.07331753e-02   3.90000000e+02]]\n",
        "1 390.0 [  0 391] [ 0.00137411  0.12623702]\n",
        "2 [[  2.61489805e+01   0.00000000e+00]\n",
        " [  1.12353138e-02   3.91000000e+02]]\n",
        "la [[  1.90297223e+04   0.00000000e+00]\n",
        " [  8.90017376e-02   3.91000000e+02]]\n",
        "1 391.0 [  0 392] [ 0.00135477  0.12575238]\n",
        "2 [[  2.60669318e+01   0.00000000e+00]\n",
        " [  1.63528025e-02   3.92000000e+02]]\n",
        "la [[  1.92408425e+04   0.00000000e+00]\n",
        " [  1.30039709e-01   3.92000000e+02]]\n",
        "1 392.0 [  0 393] [ 0.00136176  0.12477266]\n",
        "2 [[  2.59848831e+01   0.00000000e+00]\n",
        " [  1.97235935e-02   3.93000000e+02]]\n",
        "la [[  1.90819009e+04   0.00000000e+00]\n",
        " [  1.58076247e-01   3.93000000e+02]]\n",
        "1 393.0 [  0 394] [ 0.00136115  0.12348418]\n",
        "2 [[  2.59028344e+01   0.00000000e+00]\n",
        " [  1.81646163e-02   3.94000000e+02]]\n",
        "la [[  1.90301147e+04   0.00000000e+00]\n",
        " [  1.47100754e-01   3.94000000e+02]]\n",
        "1 394.0 [  0 395] [ 0.00135004  0.1221678 ]\n",
        "2 [[  2.58207857e+01   0.00000000e+00]\n",
        " [  1.74078209e-02   3.95000000e+02]]\n",
        "la [[  1.91259956e+04   0.00000000e+00]\n",
        " [  1.42491071e-01   3.95000000e+02]]\n",
        "1 395.0 [  0 396] [ 0.00132929  0.12093878]\n",
        "2 [[  2.57387370e+01   0.00000000e+00]\n",
        " [  2.15468696e-02   3.96000000e+02]]\n",
        "la [[  1.93627408e+04   0.00000000e+00]\n",
        " [  1.78163447e-01   3.96000000e+02]]\n",
        "1 396.0 [  0 397] [ 0.00133764  0.11984542]\n",
        "2 [[  2.56566882e+01   0.00000000e+00]\n",
        " [  2.82273636e-02   3.97000000e+02]]\n",
        "la [[  1.91805589e+04   0.00000000e+00]\n",
        " [  2.35531429e-01   3.97000000e+02]]\n",
        "1 397.0 [  0 398] [ 0.00134881  0.11871605]\n",
        "2 [[  2.55746395e+01   0.00000000e+00]\n",
        " [  2.67053317e-02   3.98000000e+02]]\n",
        "la [[  1.89608470e+04   0.00000000e+00]\n",
        " [  2.24951320e-01   3.98000000e+02]]\n",
        "1 398.0 [  0 399] [ 0.00136013  0.11710972]\n",
        "2 [[  2.54925908e+01   0.00000000e+00]\n",
        " [  2.70908264e-02   3.99000000e+02]]\n",
        "la [[  1.87428084e+04   0.00000000e+00]\n",
        " [  2.31328595e-01   3.99000000e+02]]\n",
        "1 399.0 [  0 400] [ 0.00137114  0.1153795 ]\n",
        "2 [[  2.54105421e+01   0.00000000e+00]\n",
        " [  3.31507811e-02   4.00000000e+02]]\n",
        "la [[  1.85324344e+04   0.00000000e+00]\n",
        " [  2.87319505e-01   4.00000000e+02]]\n",
        "1 400.0 [  0 401] [ 0.00138382  0.11471789]\n",
        "2 [[  2.53284934e+01   0.00000000e+00]\n",
        " [  3.86216909e-02   4.01000000e+02]]\n",
        "la [[  1.83033460e+04   0.00000000e+00]\n",
        " [  3.36666665e-01   4.01000000e+02]]\n",
        "1 401.0 [  0 403] [ 0.00137642  0.00671862]\n",
        "2 [[  2.52464447e+01   0.00000000e+00]\n",
        " [  3.71590866e-02   4.03000000e+02]]\n",
        "la [[  1.83421393e+04   0.00000000e+00]\n",
        " [  5.53076079e+00   4.03000000e+02]]\n",
        "1 403.0 [  0 404] [ 0.00136817  0.11723769]\n",
        "2 [[  2.51643960e+01   0.00000000e+00]\n",
        " [  3.35469032e-02   4.04000000e+02]]\n",
        "la [[  1.83927789e+04   0.00000000e+00]\n",
        " [  2.86144367e-01   4.04000000e+02]]\n",
        "1 404.0 [  0 405] [ 0.00136884  0.11785628]\n",
        "2 [[  2.50823472e+01   0.00000000e+00]\n",
        " [  3.00950553e-02   4.05000000e+02]]\n",
        "la [[  1.83237603e+04   0.00000000e+00]\n",
        " [  2.55353853e-01   4.05000000e+02]]\n",
        "1 405.0 [  0 406] [ 0.00135858  0.11872271]\n",
        "2 [[  2.50002985e+01   0.00000000e+00]\n",
        " [  2.73753125e-02   4.06000000e+02]]\n",
        "la [[  1.84018245e+04   0.00000000e+00]\n",
        " [  2.30581932e-01   4.06000000e+02]]\n",
        "1 406.0 [  0 407] [ 0.00135258  0.11963052]\n",
        "2 [[  2.49182498e+01   0.00000000e+00]\n",
        " [  2.11155557e-02   4.07000000e+02]]\n",
        "la [[  1.84227706e+04   0.00000000e+00]\n",
        " [  1.76506434e-01   4.07000000e+02]]\n",
        "1 407.0 [  0 408] [ 0.00134231  0.12013098]\n",
        "2 [[  2.48362011e+01   0.00000000e+00]\n",
        " [  1.64696065e-02   4.08000000e+02]]\n",
        "la [[  1.85025269e+04   0.00000000e+00]\n",
        " [  1.37097082e-01   4.08000000e+02]]\n",
        "1 408.0 [  0 409] [ 0.00134167  0.12006607]\n",
        "2 [[  2.47541524e+01   0.00000000e+00]\n",
        " [  1.26468103e-02   4.09000000e+02]]\n",
        "la [[  1.84502660e+04   0.00000000e+00]\n",
        " [  1.05332093e-01   4.09000000e+02]]\n",
        "1 409.0 [  0 410] [ 0.00134363  0.11955144]\n",
        "2 [[  2.46721037e+01   0.00000000e+00]\n",
        " [  1.03740414e-02   4.10000000e+02]]\n",
        "la [[  1.83622679e+04   0.00000000e+00]\n",
        " [  8.67747100e-02   4.10000000e+02]]\n",
        "1 410.0 [  0 411] [ 0.0013149   0.11850266]\n",
        "2 [[  2.45900550e+01   0.00000000e+00]\n",
        " [  5.63607354e-03   4.11000000e+02]]\n",
        "la [[  1.87010218e+04   0.00000000e+00]\n",
        " [  4.75607335e-02   4.11000000e+02]]\n",
        "1 411.0 [  0 412] [ 0.00132672  0.11688764]\n",
        "2 [[  2.45080063e+01   0.00000000e+00]\n",
        " [  7.38042139e-03   4.12000000e+02]]\n",
        "la [[  1.84725607e+04   0.00000000e+00]\n",
        " [  6.31411597e-02   4.12000000e+02]]\n",
        "1 412.0 [  0 413] [ 0.00132343  0.11448663]\n",
        "2 [[  2.44259575e+01   0.00000000e+00]\n",
        " [  1.40698139e-02   4.13000000e+02]]\n",
        "la [[  1.84565907e+04   0.00000000e+00]\n",
        " [  1.22894823e-01   4.13000000e+02]]\n",
        "1 413.0 [  0 414] [ 0.00132653  0.11024719]\n",
        "2 [[  2.43439088e+01   0.00000000e+00]\n",
        " [  1.17634917e-02   4.14000000e+02]]\n",
        "la [[  1.83515961e+04   0.00000000e+00]\n",
        " [  1.06701059e-01   4.14000000e+02]]\n",
        "1 414.0 [  0 415] [ 0.00132052  0.10477569]\n",
        "2 [[  2.42618601e+01   0.00000000e+00]\n",
        " [  7.58905121e-03   4.15000000e+02]]\n",
        "la [[  1.83729656e+04   0.00000000e+00]\n",
        " [  7.24314127e-02   4.15000000e+02]]\n",
        "1 415.0 [  0 416] [ 0.00130992  0.10103286]\n",
        "2 [[  2.41798114e+01   0.00000000e+00]\n",
        " [  1.15397202e-02   4.16000000e+02]]\n",
        "la [[  1.84590670e+04   0.00000000e+00]\n",
        " [  1.14217498e-01   4.16000000e+02]]\n",
        "1 416.0 [  0 417] [ 0.00128586  0.10100278]\n",
        "2 [[  2.40977627e+01   0.00000000e+00]\n",
        " [  7.29243235e-03   4.17000000e+02]]\n",
        "la [[  1.87405200e+04   0.00000000e+00]\n",
        " [  7.22003113e-02   4.17000000e+02]]\n",
        "1 417.0 [  0 418] [ 0.00127703  0.10447463]\n",
        "2 [[  2.40157140e+01   0.00000000e+00]\n",
        " [  3.97081494e-03   4.18000000e+02]]\n",
        "la [[  1.88059636e+04   0.00000000e+00]\n",
        " [  3.80074559e-02   4.18000000e+02]]\n",
        "1 418.0 [  0 419] [ 0.00124981  0.10915964]\n",
        "2 [[  2.39336653e+01   0.00000000e+00]\n",
        " [  1.83797943e-02   4.19000000e+02]]\n",
        "la [[  1.91498659e+04   0.00000000e+00]\n",
        " [  1.68375368e-01   4.19000000e+02]]\n",
        "1 419.0 [  0 420] [ 0.00125258  0.11194613]\n",
        "2 [[  2.38516165e+01   0.00000000e+00]\n",
        " [  2.59389670e-02   4.20000000e+02]]\n",
        "la [[  1.90420230e+04   0.00000000e+00]\n",
        " [  2.31709369e-01   4.20000000e+02]]\n",
        "1 420.0 [  0 421] [ 0.00124784  0.11229283]\n",
        "2 [[  2.37695678e+01   0.00000000e+00]\n",
        " [  3.36135054e-02   4.21000000e+02]]\n",
        "la [[  1.90485368e+04   0.00000000e+00]\n",
        " [  2.99337947e-01   4.21000000e+02]]\n",
        "1 421.0 [  0 422] [ 0.00126896  0.11201476]\n",
        "2 [[  2.36875191e+01   0.00000000e+00]\n",
        " [  3.35827036e-02   4.22000000e+02]]\n",
        "la [[  1.86668026e+04   0.00000000e+00]\n",
        " [  2.99806050e-01   4.22000000e+02]]\n",
        "1 422.0 [  0 423] [ 0.00126688  0.11233943]\n",
        "2 [[  2.36054704e+01   0.00000000e+00]\n",
        " [  3.57088368e-02   4.23000000e+02]]\n",
        "la [[  1.86327421e+04   0.00000000e+00]\n",
        " [  3.17865566e-01   4.23000000e+02]]\n",
        "1 423.0 [  0 424] [ 0.00127752  0.11330151]\n",
        "2 [[  2.35234217e+01   0.00000000e+00]\n",
        " [  3.63215136e-02   4.24000000e+02]]\n",
        "la [[  1.84133244e+04   0.00000000e+00]\n",
        " [  3.20573948e-01   4.24000000e+02]]\n",
        "1 424.0 [  0 425] [ 0.0012659   0.11439731]\n",
        "2 [[  2.34413730e+01   0.00000000e+00]\n",
        " [  3.98681799e-02   4.25000000e+02]]\n",
        "la [[  1.85175003e+04   0.00000000e+00]\n",
        " [  3.48506283e-01   4.25000000e+02]]\n",
        "1 425.0 [  0 426] [ 0.00125909  0.11526703]\n",
        "2 [[  2.33593243e+01   0.00000000e+00]\n",
        " [  3.91594760e-02   4.26000000e+02]]\n",
        "la [[  1.85525117e+04   0.00000000e+00]\n",
        " [  3.39728335e-01   4.26000000e+02]]\n",
        "1 426.0 [  0 427] [ 0.00124777  0.11617951]\n",
        "2 [[  2.32772755e+01   0.00000000e+00]\n",
        " [  3.57892796e-02   4.27000000e+02]]\n",
        "la [[  1.86551616e+04   0.00000000e+00]\n",
        " [  3.08051561e-01   4.27000000e+02]]\n",
        "1 427.0 [  0 428] [ 0.00124259  0.11707071]\n",
        "2 [[  2.31952268e+01   0.00000000e+00]\n",
        " [  2.55582597e-02   4.28000000e+02]]\n",
        "la [[  1.86668800e+04   0.00000000e+00]\n",
        " [  2.18314728e-01   4.28000000e+02]]\n",
        "1 428.0 [  0 429] [ 0.00123209  0.11687475]\n",
        "2 [[  2.31131781e+01   0.00000000e+00]\n",
        " [  1.52638280e-02   4.29000000e+02]]\n",
        "la [[  1.87593262e+04   0.00000000e+00]\n",
        " [  1.30599878e-01   4.29000000e+02]]\n",
        "1 429.0 [  0 430] [ 0.00121825  0.11554957]\n",
        "2 [[  2.30311294e+01   0.00000000e+00]\n",
        " [  2.12522825e-02   4.30000000e+02]]\n",
        "la [[  1.89051633e+04   0.00000000e+00]\n",
        " [  1.83923516e-01   4.30000000e+02]]\n",
        "1 430.0 [  0 431] [ 0.00125278  0.11459452]\n",
        "2 [[  2.29490807e+01   0.00000000e+00]\n",
        " [  1.82796006e-02   4.31000000e+02]]\n",
        "la [[  1.83184916e+04   0.00000000e+00]\n",
        " [  1.59515487e-01   4.31000000e+02]]\n",
        "1 431.0 [  0 432] [ 0.00127611  0.11433633]\n",
        "2 [[  2.28670320e+01   0.00000000e+00]\n",
        " [  1.26606573e-02   4.32000000e+02]]\n",
        "la [[  1.79193815e+04   0.00000000e+00]\n",
        " [  1.10731710e-01   4.32000000e+02]]\n",
        "1 432.0 [  0 433] [ 0.00128851  0.11388978]\n",
        "2 [[  2.27849833e+01   0.00000000e+00]\n",
        " [  7.36112755e-03   4.33000000e+02]]\n",
        "la [[  1.76831883e+04   0.00000000e+00]\n",
        " [  6.46337840e-02   4.33000000e+02]]\n",
        "1 433.0 [  0 434] [ 0.00130451  0.11308649]\n",
        "2 [[  2.27029345e+01   0.00000000e+00]\n",
        " [  6.65733501e-03   4.34000000e+02]]\n",
        "la [[  1.74034852e+04   0.00000000e+00]\n",
        " [  5.88694081e-02   4.34000000e+02]]\n",
        "1 434.0 [  0 435] [ 0.00131754  0.1122948 ]\n",
        "2 [[  2.26208858e+01   0.00000000e+00]\n",
        " [  8.78579959e-03   4.35000000e+02]]\n",
        "la [[  1.71690890e+04   0.00000000e+00]\n",
        " [  7.82387063e-02   4.35000000e+02]]\n",
        "1 435.0 [  0 436] [ 0.00131381  0.11171565]\n",
        "2 [[  2.25388371e+01   0.00000000e+00]\n",
        " [  3.88613829e-03   4.36000000e+02]]\n",
        "la [[  1.71553014e+04   0.00000000e+00]\n",
        " [  3.47859795e-02   4.36000000e+02]]\n",
        "1 436.0 [  0 437] [ 0.00130666  0.1110689 ]\n",
        "2 [[  2.24567884e+01   0.00000000e+00]\n",
        " [  8.90868875e-04   4.37000000e+02]]"
       ]
      },
      {
       "output_type": "stream",
       "stream": "stdout",
       "text": [
        "\n",
        "la [[  1.71863929e+04   0.00000000e+00]\n",
        " [  8.02086671e-03   4.37000000e+02]]\n",
        "1 437.0 [  0 438] [ 0.00129457  0.1101268 ]\n",
        "2 [[  2.23747397e+01   0.00000000e+00]\n",
        " [  2.44513906e-04   4.38000000e+02]]\n",
        "la [[  1.72835867e+04   0.00000000e+00]\n",
        " [  2.22029431e-03   4.38000000e+02]]\n",
        "1 438.0 [  0 439] [ 0.00130774  0.1097616 ]\n",
        "2 [[  2.22926910e+01   0.00000000e+00]\n",
        " [  2.83674633e-03   4.39000000e+02]]\n",
        "la [[  1.70467381e+04   0.00000000e+00]\n",
        " [  2.58446156e-02   4.39000000e+02]]\n",
        "1 439.0 [  0 440] [ 0.00131377  0.11080796]\n",
        "2 [[  2.22106423e+01   0.00000000e+00]\n",
        " [  6.32998846e-03   4.40000000e+02]]\n",
        "la [[  1.69060531e+04   0.00000000e+00]\n",
        " [  5.71257551e-02   4.40000000e+02]]\n",
        "1 440.0 [  0 441] [ 0.0013414   0.11258904]\n",
        "2 [[  2.21285936e+01   0.00000000e+00]\n",
        " [  1.16977641e-02   4.41000000e+02]]\n",
        "la [[  1.64966821e+04   0.00000000e+00]\n",
        " [  1.03897889e-01   4.41000000e+02]]\n",
        "1 441.0 [  0 442] [ 0.00133692  0.11395428]\n",
        "2 [[  2.20465448e+01   0.00000000e+00]\n",
        " [  1.50232942e-02   4.42000000e+02]]\n",
        "la [[  1.64905527e+04   0.00000000e+00]\n",
        " [  1.31836161e-01   4.42000000e+02]]\n",
        "1 442.0 [  0 443] [ 0.00132027  0.11485934]\n",
        "2 [[  2.19644961e+01   0.00000000e+00]\n",
        " [  1.69824565e-02   4.43000000e+02]]\n",
        "la [[  1.66363279e+04   0.00000000e+00]\n",
        " [  1.47854379e-01   4.43000000e+02]]\n",
        "1 443.0 [  0 444] [ 0.00128211  0.11596047]\n",
        "2 [[  2.18824474e+01   0.00000000e+00]\n",
        " [  2.22935164e-02   4.44000000e+02]]\n",
        "la [[  1.70675619e+04   0.00000000e+00]\n",
        " [  1.92250997e-01   4.44000000e+02]]\n",
        "1 444.0 [  0 445] [ 0.0012495   0.11703927]\n",
        "2 [[  2.18003987e+01   0.00000000e+00]\n",
        " [  2.62535577e-02   4.45000000e+02]]\n",
        "la [[  1.74473239e+04   0.00000000e+00]\n",
        " [  2.24314098e-01   4.45000000e+02]]\n",
        "1 445.0 [  0 446] [ 0.00121183  0.11747661]\n",
        "2 [[  2.17183500e+01   0.00000000e+00]\n",
        " [  2.77593963e-02   4.46000000e+02]]\n",
        "la [[  1.79219914e+04   0.00000000e+00]\n",
        " [  2.36297224e-01   4.46000000e+02]]\n",
        "1 446.0 [  0 447] [ 0.00121437  0.11744397]\n",
        "2 [[  2.16363013e+01   0.00000000e+00]\n",
        " [  3.17109702e-02   4.47000000e+02]]\n",
        "la [[  1.78168612e+04   0.00000000e+00]\n",
        " [  2.70009351e-01   4.47000000e+02]]\n",
        "1 447.0 [  0 448] [ 0.00120687  0.11690643]\n",
        "2 [[  2.15542526e+01   0.00000000e+00]\n",
        " [  3.82963370e-02   4.48000000e+02]]\n",
        "la [[  1.78595660e+04   0.00000000e+00]\n",
        " [  3.27581090e-01   4.48000000e+02]]\n",
        "1 448.0 [  0 449] [ 0.00125212  0.11552737]\n",
        "2 [[  2.14722038e+01   0.00000000e+00]\n",
        " [  4.34796779e-02   4.49000000e+02]]\n",
        "la [[  1.71487400e+04   0.00000000e+00]\n",
        " [  3.76358234e-01   4.49000000e+02]]\n",
        "1 449.0 [  0 449] [ 0.00128486  0.00547215]\n",
        "2 [[  2.13901551e+01   0.00000000e+00]\n",
        " [  3.85690359e-02   4.49000000e+02]]\n",
        "la [[  1.66478546e+04   0.00000000e+00]\n",
        " [  7.04824411e+00   4.49000000e+02]]\n",
        "1 449.0 [  0 450] [ 0.00128486  0.11402095]\n",
        "2 [[  2.13081064e+01   0.00000000e+00]\n",
        " [  3.27790180e-02   4.50000000e+02]]\n",
        "la [[  1.65839965e+04   0.00000000e+00]\n",
        " [  2.87482416e-01   4.50000000e+02]]\n",
        "1 450.0 [  0 451] [ 0.00130378  0.11356582]\n",
        "2 [[  2.12260577e+01   0.00000000e+00]\n",
        " [  2.88771632e-02   4.51000000e+02]]\n",
        "la [[  1.62804327e+04   0.00000000e+00]\n",
        " [  2.54276885e-01   4.51000000e+02]]\n",
        "1 451.0 [  0 452] [ 0.00127013  0.11434945]\n",
        "2 [[  2.11440090e+01   0.00000000e+00]\n",
        " [  2.19286660e-02   4.52000000e+02]]\n",
        "la [[  1.66471639e+04   0.00000000e+00]\n",
        " [  1.91768888e-01   4.52000000e+02]]\n",
        "1 452.0 [  0 453] [ 0.00128369  0.11515099]\n",
        "2 [[  2.10619603e+01   0.00000000e+00]\n",
        " [  1.99615184e-02   4.53000000e+02]]\n",
        "la [[  1.64074139e+04   0.00000000e+00]\n",
        " [  1.73350818e-01   4.53000000e+02]]\n",
        "1 453.0 [  0 454] [ 0.00127051  0.11446532]\n",
        "2 [[  2.09799116e+01   0.00000000e+00]\n",
        " [  2.01069368e-02   4.54000000e+02]]\n",
        "la [[  1.65129357e+04   0.00000000e+00]\n",
        " [  1.75659640e-01   4.54000000e+02]]\n",
        "1 454.0 [  0 455] [ 0.00129134  0.11261306]\n",
        "2 [[  2.08978628e+01   0.00000000e+00]\n",
        " [  1.96419713e-02   4.55000000e+02]]\n",
        "la [[  1.61830831e+04   0.00000000e+00]\n",
        " [  1.74420006e-01   4.55000000e+02]]\n",
        "1 455.0 [  0 456] [ 0.00131645  0.11137476]\n",
        "2 [[  2.08158141e+01   0.00000000e+00]\n",
        " [  1.83806933e-02   4.56000000e+02]]\n",
        "la [[  1.58120396e+04   0.00000000e+00]\n",
        " [  1.65034635e-01   4.56000000e+02]]\n",
        "1 456.0 [  0 457] [ 0.00130756  0.11105202]\n",
        "2 [[  2.07337654e+01   0.00000000e+00]\n",
        " [  1.81691013e-02   4.57000000e+02]]\n",
        "la [[  1.58568702e+04   0.00000000e+00]\n",
        " [  1.63608915e-01   4.57000000e+02]]\n",
        "1 457.0 [  0 458] [ 0.00129599  0.1104975 ]\n",
        "2 [[  2.06517167e+01   0.00000000e+00]\n",
        " [  2.05794168e-02   4.58000000e+02]]\n",
        "la [[  1.59350728e+04   0.00000000e+00]\n",
        " [  1.86243280e-01   4.58000000e+02]]\n",
        "1 458.0 [  0 459] [ 0.00126718  0.11000821]\n",
        "2 [[  2.05696680e+01   0.00000000e+00]\n",
        " [  1.97359529e-02   4.59000000e+02]]\n",
        "la [[  1.62326543e+04   0.00000000e+00]\n",
        " [  1.79404370e-01   4.59000000e+02]]\n",
        "1 459.0 [  0 460] [ 0.00125345  0.11073219]\n",
        "2 [[  2.04876193e+01   0.00000000e+00]\n",
        " [  1.15868937e-02   4.60000000e+02]]\n",
        "la [[  1.63449928e+04   0.00000000e+00]\n",
        " [  1.04638896e-01   4.60000000e+02]]\n",
        "1 460.0 [  0 461] [ 0.00126263  0.11200287]\n",
        "2 [[  2.04055706e+01   0.00000000e+00]\n",
        " [  7.41860050e-03   4.61000000e+02]]\n",
        "la [[  1.61611599e+04   0.00000000e+00]\n",
        " [  6.62358045e-02   4.61000000e+02]]\n",
        "1 461.0 [  0 462] [ 0.00129192  0.1124352 ]\n",
        "2 [[  2.03235218e+01   0.00000000e+00]\n",
        " [  3.59924619e-04   4.62000000e+02]]\n",
        "la [[  1.57312934e+04   0.00000000e+00]\n",
        " [  3.20117395e-03   4.62000000e+02]]\n",
        "1 462.0 [  0 463] [ 0.00129986  0.11221906]\n",
        "2 [[  2.02414731e+01   0.00000000e+00]\n",
        " [  8.57852006e-03   4.63000000e+02]]\n",
        "la [[  1.55720559e+04   0.00000000e+00]\n",
        " [  7.64444136e-02   4.63000000e+02]]\n",
        "1 463.0 [  0 464] [ 0.00129764  0.11229797]\n",
        "2 [[  2.01594244e+01   0.00000000e+00]\n",
        " [  2.21716854e-02   4.64000000e+02]]\n",
        "la [[  1.55354787e+04   0.00000000e+00]\n",
        " [  1.97436205e-01   4.64000000e+02]]\n",
        "1 464.0 [  0 465] [ 0.00128566  0.11257619]\n",
        "2 [[  2.00773757e+01   0.00000000e+00]\n",
        " [  3.57320169e-02   4.65000000e+02]]\n",
        "la [[  1.56163400e+04   0.00000000e+00]\n",
        " [  3.17402957e-01   4.65000000e+02]]\n",
        "1 465.0 [  0 465] [ 0.00134427  0.00507839]\n",
        "2 [[  1.99953270e+01   0.00000000e+00]\n",
        " [  4.63166969e-02   4.65000000e+02]]\n",
        "la [[  1.48745038e+04   0.00000000e+00]\n",
        " [  9.12034771e+00   4.65000000e+02]]\n",
        "1 465.0 [  0 466] [ 0.00134427  0.11249279]\n",
        "2 [[  1.99132783e+01   0.00000000e+00]\n",
        " [  3.12954246e-02   4.66000000e+02]]\n",
        "la [[  1.48134678e+04   0.00000000e+00]\n",
        " [  2.78199391e-01   4.66000000e+02]]\n",
        "1 466.0 [  0 467] [ 0.0013416   0.11246443]\n",
        "2 [[  1.98312296e+01   0.00000000e+00]\n",
        " [  1.49038337e-02   4.67000000e+02]]\n",
        "la [[  1.47818279e+04   0.00000000e+00]\n",
        " [  1.32520427e-01   4.67000000e+02]]\n",
        "1 467.0 [  0 468] [ 0.00137048  0.11302751]\n",
        "2 [[  1.97491809e+01   0.00000000e+00]\n",
        " [  2.37223338e-03   4.68000000e+02]]\n",
        "la [[  1.44103635e+04   0.00000000e+00]\n",
        " [  2.09881055e-02   4.68000000e+02]]\n",
        "1 468.0 [  0 469] [ 0.00137109  0.11383149]\n",
        "2 [[  1.96671321e+01   0.00000000e+00]\n",
        " [  1.00277894e-02   4.69000000e+02]]\n",
        "la [[  1.43441396e+04   0.00000000e+00]\n",
        " [  8.80932792e-02   4.69000000e+02]]\n",
        "1 469.0 [  0 470] [ 0.0013149   0.11428487]\n",
        "2 [[  1.95850834e+01   0.00000000e+00]\n",
        " [  2.25523366e-02   4.70000000e+02]]\n",
        "la [[  1.48947866e+04   0.00000000e+00]\n",
        " [  1.97334403e-01   4.70000000e+02]]\n",
        "1 470.0 [  0 471] [ 0.00127474  0.1137382 ]\n",
        "2 [[  1.95030347e+01   0.00000000e+00]\n",
        " [  3.34294075e-02   4.71000000e+02]]\n",
        "la [[  1.52995826e+04   0.00000000e+00]\n",
        " [  2.93915379e-01   4.71000000e+02]]\n",
        "1 471.0 [  0 472] [ 0.00123131  0.11160113]\n",
        "2 [[  1.94209860e+01   0.00000000e+00]\n",
        " [  4.50583099e-02   4.72000000e+02]]\n",
        "la [[  1.57726816e+04   0.00000000e+00]\n",
        " [  4.03744222e-01   4.72000000e+02]]\n",
        "1 472.0 [  0 472] [ 0.00121983  0.00581879]\n",
        "2 [[  1.93389373e+01   0.00000000e+00]\n",
        " [  3.69904039e-02   4.72000000e+02]]\n",
        "la [[  1.58537924e+04   0.00000000e+00]\n",
        " [  6.35706613e+00   4.72000000e+02]]\n",
        "1 472.0 [  0 473] [ 0.00121983  0.10861525]\n",
        "2 [[  1.92568886e+01   0.00000000e+00]\n",
        " [  2.41266559e-02   4.73000000e+02]]\n",
        "la [[  1.57865300e+04   0.00000000e+00]\n",
        " [  2.22129548e-01   4.73000000e+02]]\n",
        "1 473.0 [  0 474] [ 0.00123463  0.10620379]\n",
        "2 [[  1.91748399e+01   0.00000000e+00]\n",
        " [  1.44527962e-02   4.74000000e+02]]\n",
        "la [[  1.55308989e+04   0.00000000e+00]\n",
        " [  1.36085503e-01   4.74000000e+02]]\n",
        "1 474.0 [  0 475] [ 0.00125147  0.10467322]\n",
        "2 [[  1.90927911e+01   0.00000000e+00]\n",
        " [  8.41283265e-04   4.75000000e+02]]\n",
        "la [[  1.52563174e+04   0.00000000e+00]\n",
        " [  8.03723533e-03   4.75000000e+02]]\n",
        "1 475.0 [  0 476] [ 0.0012744   0.10398363]\n",
        "2 [[  1.90107424e+01   0.00000000e+00]\n",
        " [  1.21469468e-02   4.76000000e+02]]\n",
        "la [[  1.49173587e+04   0.00000000e+00]\n",
        " [  1.16815949e-01   4.76000000e+02]]\n",
        "1 476.0 [  0 477] [ 0.0012895   0.10456261]\n",
        "2 [[  1.89286937e+01   0.00000000e+00]\n",
        " [  2.45945538e-02   4.77000000e+02]]\n",
        "la [[  1.46790447e+04   0.00000000e+00]\n",
        " [  2.35213662e-01   4.77000000e+02]]\n",
        "1 477.0 [  0 478] [ 0.00127005  0.10651271]\n",
        "2 [[  1.88466450e+01   0.00000000e+00]\n",
        " [  3.87752210e-02   4.78000000e+02]]\n",
        "la [[  1.48392461e+04   0.00000000e+00]\n",
        " [  3.64043153e-01   4.78000000e+02]]\n",
        "1 478.0 [  0 478] [ 0.00125285  0.00578761]\n",
        "2 [[  1.87645963e+01   0.00000000e+00]\n",
        " [  4.32734928e-02   4.78000000e+02]]\n",
        "la [[  1.49774937e+04   0.00000000e+00]\n",
        " [  7.47692338e+00   4.78000000e+02]]\n",
        "1 478.0 [  0 479] [ 0.00125285  0.10922244]\n",
        "2 [[  1.86825476e+01   0.00000000e+00]\n",
        " [  2.49735852e-02   4.79000000e+02]]\n",
        "la [[  1.49120042e+04   0.00000000e+00]\n",
        " [  2.28648856e-01   4.79000000e+02]]\n",
        "1 479.0 [  0 480] [ 0.0012706   0.11122717]\n",
        "2 [[  1.86004989e+01   0.00000000e+00]\n",
        " [  5.80091158e-03   4.80000000e+02]]\n",
        "la [[  1.46390889e+04   0.00000000e+00]\n",
        " [  5.21537299e-02   4.80000000e+02]]\n",
        "1 480.0 [  0 481] [ 0.00128008  0.11084051]\n",
        "2 [[  1.85184501e+01   0.00000000e+00]\n",
        " [  7.88823042e-03   4.81000000e+02]]\n",
        "la [[  1.44666811e+04   0.00000000e+00]\n",
        " [  7.11673945e-02   4.81000000e+02]]\n",
        "1 481.0 [  0 482] [ 0.00128515  0.10867407]\n",
        "2 [[  1.84364014e+01   0.00000000e+00]\n",
        " [  1.75950018e-02   4.82000000e+02]]\n",
        "la [[  1.43457298e+04   0.00000000e+00]\n",
        " [  1.61906167e-01   4.82000000e+02]]\n",
        "1 482.0 [  0 483] [ 0.00131679  0.10742176]\n",
        "2 [[  1.83543527e+01   0.00000000e+00]\n",
        " [  3.29455568e-02   4.83000000e+02]]\n",
        "la [[  1.39387335e+04   0.00000000e+00]\n",
        " [  3.06693514e-01   4.83000000e+02]]\n",
        "1 483.0 [  0 484]"
       ]
      },
      {
       "output_type": "stream",
       "stream": "stdout",
       "text": [
        " [ 0.00131773  0.10833037]\n",
        "2 [[  1.82723040e+01   0.00000000e+00]\n",
        " [  4.80175993e-02   4.84000000e+02]]\n",
        "la [[  1.38664584e+04   0.00000000e+00]\n",
        " [  4.43251488e-01   4.84000000e+02]]\n",
        "1 484.0 [  0 484] [ 0.00132569  0.00530138]\n",
        "2 [[  1.81902553e+01   0.00000000e+00]\n",
        " [  3.40311145e-02   4.84000000e+02]]\n",
        "la [[  1.37213480e+04   0.00000000e+00]\n",
        " [  6.41929233e+00   4.84000000e+02]]\n",
        "1 484.0 [  0 485] [ 0.00132569  0.11050301]\n",
        "2 [[  1.81082066e+01   0.00000000e+00]\n",
        " [  1.59552119e-02   4.85000000e+02]]\n",
        "la [[  1.36594566e+04   0.00000000e+00]\n",
        " [  1.44387119e-01   4.85000000e+02]]\n",
        "1 485.0 [  0 486] [ 0.00130513  0.11230604]\n",
        "2 [[  1.80261579e+01   0.00000000e+00]\n",
        " [  5.26017429e-03   4.86000000e+02]]\n",
        "la [[  1.38117407e+04   0.00000000e+00]\n",
        " [  4.68378567e-02   4.86000000e+02]]\n",
        "1 486.0 [  0 487] [ 0.00128883  0.1124553 ]\n",
        "2 [[  1.79441091e+01   0.00000000e+00]\n",
        " [  2.45232064e-02   4.87000000e+02]]\n",
        "la [[  1.39227641e+04   0.00000000e+00]\n",
        " [  2.18070701e-01   4.87000000e+02]]\n",
        "1 487.0 [  0 488] [ 0.00126317  0.11112487]\n",
        "2 [[  1.78620604e+01   0.00000000e+00]\n",
        " [  4.09800695e-02   4.88000000e+02]]\n",
        "la [[  1.41406704e+04   0.00000000e+00]\n",
        " [  3.68774963e-01   4.88000000e+02]]\n",
        "1 488.0 [  0 488] [ 0.00123288  0.00504744]\n",
        "2 [[  1.77800117e+01   0.00000000e+00]\n",
        " [  4.10686443e-02   4.88000000e+02]]\n",
        "la [[  1.44215180e+04   0.00000000e+00]\n",
        " [  8.13653186e+00   4.88000000e+02]]\n",
        "1 488.0 [  0 489] [ 0.00123288  0.10960285]\n",
        "2 [[  1.76979630e+01   0.00000000e+00]\n",
        " [  3.02363133e-02   4.89000000e+02]]\n",
        "la [[  1.43549676e+04   0.00000000e+00]\n",
        " [  2.75871594e-01   4.89000000e+02]]\n",
        "1 489.0 [  0 490] [ 0.00121479  0.10821891]\n",
        "2 [[  1.76159143e+01   0.00000000e+00]\n",
        " [  2.00920577e-02   4.90000000e+02]]\n",
        "la [[  1.45012412e+04   0.00000000e+00]\n",
        " [  1.85661248e-01   4.90000000e+02]]\n",
        "1 490.0 [  0 491] [ 0.00119662  0.10632632]\n",
        "2 [[  1.75338656e+01   0.00000000e+00]\n",
        " [  7.21166411e-03   4.91000000e+02]]\n",
        "la [[  1.46528423e+04   0.00000000e+00]\n",
        " [  6.78257634e-02   4.91000000e+02]]\n",
        "1 491.0 [  0 492] [ 0.00120201  0.10526787]\n",
        "2 [[  1.74518169e+01   0.00000000e+00]\n",
        " [  1.94124083e-02   4.92000000e+02]]\n",
        "la [[  1.45189096e+04   0.00000000e+00]\n",
        " [  1.84409622e-01   4.92000000e+02]]\n",
        "1 492.0 [  0 493] [ 0.00123232  0.10691688]\n",
        "2 [[  1.73697682e+01   0.00000000e+00]\n",
        " [  8.70549325e-03   4.93000000e+02]]\n",
        "la [[  1.40951370e+04   0.00000000e+00]\n",
        " [  8.14230007e-02   4.93000000e+02]]\n",
        "1 493.0 [  0 494] [ 0.00125144  0.10987088]\n",
        "2 [[  1.72877194e+01   0.00000000e+00]\n",
        " [  2.22708049e-02   4.94000000e+02]]\n",
        "la [[  1.38142485e+04   0.00000000e+00]\n",
        " [  2.02699791e-01   4.94000000e+02]]\n",
        "1 494.0 [  0 495] [ 0.00123635  0.11167507]\n",
        "2 [[  1.72056707e+01   0.00000000e+00]\n",
        " [  3.85185956e-02   4.95000000e+02]]\n",
        "la [[  1.39165483e+04   0.00000000e+00]\n",
        " [  3.44916684e-01   4.95000000e+02]]\n",
        "1 495.0 [  0 496] [ 0.00124676  0.11189557]\n",
        "2 [[  1.71236220e+01   0.00000000e+00]\n",
        " [  4.34320220e-02   4.96000000e+02]]\n",
        "la [[  1.37345054e+04   0.00000000e+00]\n",
        " [  3.88147827e-01   4.96000000e+02]]\n",
        "1 496.0 [  0 496] [ 0.00123969  0.00588704]\n",
        "2 [[  1.70415733e+01   0.00000000e+00]\n",
        " [  3.86166918e-02   4.96000000e+02]]\n",
        "la [[  1.37466209e+04   0.00000000e+00]\n",
        " [  6.55961059e+00   4.96000000e+02]]\n",
        "1 496.0 [  0 497] [ 0.00123969  0.11133764]\n",
        "2 [[  1.69595246e+01   0.00000000e+00]\n",
        " [  3.25643202e-02   4.97000000e+02]]\n",
        "la [[  1.36804361e+04   0.00000000e+00]\n",
        " [  2.92482590e-01   4.97000000e+02]]\n",
        "1 497.0 [  0 498] [ 0.00124339  0.11122086]\n",
        "2 [[  1.68774759e+01   0.00000000e+00]\n",
        " [  2.41610025e-02   4.98000000e+02]]\n",
        "la [[  1.35737658e+04   0.00000000e+00]\n",
        " [  2.17234456e-01   4.98000000e+02]]\n",
        "1 498.0 [  0 499] [ 0.00122384  0.11243629]\n",
        "2 [[  1.67954272e+01   0.00000000e+00]\n",
        " [  6.38244065e-03   4.99000000e+02]]\n",
        "la [[  1.37234970e+04   0.00000000e+00]\n",
        " [  5.67649527e-02   4.99000000e+02]]\n",
        "1 499.0 [  0 500] [ 0.00125341  0.11440452]\n",
        "2 [[  1.67133784e+01   0.00000000e+00]\n",
        " [  9.14455642e-03   5.00000000e+02]]\n",
        "la [[  1.33343369e+04   0.00000000e+00]\n",
        " [  7.99317763e-02   5.00000000e+02]]\n",
        "1 500.0 [  0 501] [ 0.00123396  0.11565135]\n",
        "2 [[  1.66313297e+01   0.00000000e+00]\n",
        " [  1.31709267e-02   5.01000000e+02]]\n",
        "la [[  1.34780628e+04   0.00000000e+00]\n",
        " [  1.13884768e-01   5.01000000e+02]]\n",
        "1 501.0 [  0 502] [ 0.00125698  0.11576021]\n",
        "2 [[  1.65492810e+01   0.00000000e+00]\n",
        " [  1.81606224e-02   5.02000000e+02]]\n",
        "la [[  1.31658841e+04   0.00000000e+00]\n",
        " [  1.56881384e-01   5.02000000e+02]]\n",
        "1 502.0 [  0 503] [ 0.00126722  0.11514095]\n",
        "2 [[  1.64672323e+01   0.00000000e+00]\n",
        " [  2.30513279e-02   5.03000000e+02]]\n",
        "la [[  1.29947937e+04   0.00000000e+00]\n",
        " [  2.00200958e-01   5.03000000e+02]]\n",
        "1 503.0 [  0 504] [ 0.00124981  0.11310901]\n",
        "2 [[  1.63851836e+01   0.00000000e+00]\n",
        " [  2.10894846e-02   5.04000000e+02]]\n",
        "la [[  1.31100928e+04   0.00000000e+00]\n",
        " [  1.86452732e-01   5.04000000e+02]]\n",
        "1 504.0 [  0 505] [ 0.00124934  0.1096335 ]\n",
        "2 [[  1.63031349e+01   0.00000000e+00]\n",
        " [  1.51904150e-02   5.05000000e+02]]\n",
        "la [[  1.30493910e+04   0.00000000e+00]\n",
        " [  1.38556330e-01   5.05000000e+02]]\n",
        "1 505.0 [  0 506] [ 0.00122974  0.10710422]\n",
        "2 [[  1.62210862e+01   0.00000000e+00]\n",
        " [  2.96062710e-02   5.06000000e+02]]\n",
        "la [[  1.31906376e+04   0.00000000e+00]\n",
        " [  2.76424888e-01   5.06000000e+02]]\n",
        "1 506.0 [  0 507] [ 0.00123311  0.10723103]\n",
        "2 [[  1.61390374e+01   0.00000000e+00]\n",
        " [  4.69697858e-02   5.07000000e+02]]\n",
        "la [[  1.30881290e+04   0.00000000e+00]\n",
        " [  4.38024183e-01   5.07000000e+02]]\n",
        "1 507.0 [  0 507] [ 0.00122686  0.00636603]\n",
        "2 [[  1.60569887e+01   0.00000000e+00]\n",
        " [  3.50789280e-02   5.07000000e+02]]\n",
        "la [[  1.30879131e+04   0.00000000e+00]\n",
        " [  5.51032851e+00   5.07000000e+02]]\n",
        "1 507.0 [  0 508] [ 0.00122686  0.10902767]\n",
        "2 [[  1.59749400e+01   0.00000000e+00]\n",
        " [  2.00219404e-02   5.08000000e+02]]\n",
        "la [[  1.30210359e+04   0.00000000e+00]\n",
        " [  1.83640903e-01   5.08000000e+02]]\n",
        "1 508.0 [  0 509] [ 0.0011673   0.11033625]\n",
        "2 [[  1.58928913e+01   0.00000000e+00]\n",
        " [  4.54562975e-03   5.09000000e+02]]\n",
        "la [[  1.36150584e+04   0.00000000e+00]\n",
        " [  4.11979733e-02   5.09000000e+02]]\n",
        "1 509.0 [  0 510] [ 0.00115259  0.11037904]\n",
        "2 [[  1.58108426e+01   0.00000000e+00]\n",
        " [  8.04703722e-03   5.10000000e+02]]\n",
        "la [[  1.37176136e+04   0.00000000e+00]\n",
        " [  7.29036689e-02   5.10000000e+02]]\n",
        "1 510.0 [  0 511] [ 0.00112914  0.11040299]\n",
        "2 [[  1.57287939e+01   0.00000000e+00]\n",
        " [  2.23648341e-03   5.11000000e+02]]\n",
        "la [[  1.39298602e+04   0.00000000e+00]\n",
        " [  2.02574538e-02   5.11000000e+02]]\n",
        "1 511.0 [  0 512] [ 0.00111021  0.11087327]\n",
        "2 [[  1.56467452e+01   0.00000000e+00]\n",
        " [  3.62207356e-03   5.12000000e+02]]\n",
        "la [[  1.40934925e+04   0.00000000e+00]\n",
        " [  3.26685914e-02   5.12000000e+02]]\n",
        "1 512.0 [  0 513] [ 0.00109503  0.11069694]\n",
        "2 [[  1.55646964e+01   0.00000000e+00]\n",
        " [  6.01715838e-03   5.13000000e+02]]\n",
        "la [[  1.42139778e+04   0.00000000e+00]\n",
        " [  5.43570433e-02   5.13000000e+02]]\n",
        "1 513.0 [  0 514] [ 0.00110535  0.11003511]\n",
        "2 [[  1.54826477e+01   0.00000000e+00]\n",
        " [  1.64853281e-02   5.14000000e+02]]\n",
        "la [[  1.40069523e+04   0.00000000e+00]\n",
        " [  1.49818804e-01   5.14000000e+02]]\n",
        "1 514.0 [  0 515] [ 0.00112535  0.11057922]\n",
        "2 [[  1.54005990e+01   0.00000000e+00]\n",
        " [  2.49966665e-02   5.15000000e+02]]\n",
        "la [[  1.36851754e+04   0.00000000e+00]\n",
        " [  2.26052112e-01   5.15000000e+02]]\n",
        "1 515.0 [  0 516] [ 0.00110365  0.1127732 ]\n",
        "2 [[  1.53185503e+01   0.00000000e+00]\n",
        " [  2.81775912e-02   5.16000000e+02]]\n",
        "la [[  1.38799528e+04   0.00000000e+00]\n",
        " [  2.49860715e-01   5.16000000e+02]]\n",
        "1 516.0 [  0 517] [ 0.00108348  0.11492245]\n",
        "2 [[  1.52365016e+01   0.00000000e+00]\n",
        " [  3.11979445e-02   5.17000000e+02]]\n",
        "la [[  1.40625760e+04   0.00000000e+00]\n",
        " [  2.71469538e-01   5.17000000e+02]]\n",
        "1 517.0 [  0 518] [ 0.0010779   0.11574124]\n",
        "2 [[  1.51544529e+01   0.00000000e+00]\n",
        " [  3.52437069e-02   5.18000000e+02]]\n",
        "la [[  1.40592661e+04   0.00000000e+00]\n",
        " [  3.04504306e-01   5.18000000e+02]]\n",
        "1 518.0 [  0 519] [ 0.00109075  0.11610636]\n",
        "2 [[  1.50724042e+01   0.00000000e+00]\n",
        " [  4.24125667e-02   5.19000000e+02]]\n",
        "la [[  1.38183289e+04   0.00000000e+00]\n",
        " [  3.65290641e-01   5.19000000e+02]]\n",
        "1 519.0 [  0 519] [ 0.00109001  0.00659839]\n",
        "2 [[  1.49903555e+01   0.00000000e+00]\n",
        " [  3.96361471e-02   5.19000000e+02]]\n",
        "la [[  1.37525089e+04   0.00000000e+00]\n",
        " [  6.00694033e+00   5.19000000e+02]]\n",
        "1 519.0 [  0 520] [ 0.00109001  0.11688473]\n",
        "2 [[  1.49083067e+01   0.00000000e+00]\n",
        " [  3.55721079e-02   5.20000000e+02]]\n",
        "la [[  1.36772355e+04   0.00000000e+00]\n",
        " [  3.04334933e-01   5.20000000e+02]]\n",
        "1 520.0 [  0 521] [ 0.00110303  0.1171709 ]\n",
        "2 [[  1.48262580e+01   0.00000000e+00]\n",
        " [  3.35882171e-02   5.21000000e+02]]\n",
        "la [[  1.34413571e+04   0.00000000e+00]\n",
        " [  2.86660069e-01   5.21000000e+02]]\n",
        "1 521.0 [  0 522] [ 0.00111871  0.11601656]\n",
        "2 [[  1.47442093e+01   0.00000000e+00]\n",
        " [  3.30917615e-02   5.22000000e+02]]\n",
        "la [[  1.31795990e+04   0.00000000e+00]\n",
        " [  2.85233089e-01   5.22000000e+02]]\n",
        "1 522.0 [  0 523] [ 0.00114682  0.11425535]\n",
        "2 [[  1.46621606e+01   0.00000000e+00]\n",
        " [  3.04002060e-02   5.23000000e+02]]\n",
        "la [[  1.27850439e+04   0.00000000e+00]\n",
        " [  2.66072498e-01   5.23000000e+02]]\n",
        "1 523.0 [  0 524] [ 0.00113949  0.1134544 ]\n",
        "2 [[  1.45801119e+01   0.00000000e+00]\n",
        " [  2.97758898e-02   5.24000000e+02]]\n",
        "la [[  1.27952972e+04   0.00000000e+00]\n",
        " [  2.62448079e-01   5.24000000e+02]]\n",
        "1 524.0 [  0 525] [ 0.00115715  0.11396681]\n",
        "2 [[  1.44980632e+01   0.00000000e+00]\n",
        " [  2.21701912e-02   5.25000000e+02]]\n",
        "la [[  1.25290659e+04   0.00000000e+00]\n",
        " [  1.94531999e-01   5.25000000e+02]]\n",
        "1 525.0 [  0 526] [ 0.00116148  0.11488828]\n",
        "2 [[  1.44160145e+01   0.00000000e+00]\n",
        " [  1.83994366e-02   5.26000000e+02]]\n",
        "la [[  1.24117665e+04   0.00000000e+00]\n",
        " [  1.60150690e-01   5.26000000e+02]]\n",
        "1 526.0 [  0 527] [ 0.00112722  0.11520553]\n",
        "2 [[  1.43339657e+01   0.00000000e+00]\n",
        " [  4.58602531e-03   5.27000000e+02]]\n",
        "la [[  1.27162058e+04   0.00000000e+00]\n",
        " [  3.98073377e-02   5.27000000e+02]]\n",
        "1 527.0 [  0 528] [ 0.00114368  0.11467959]\n",
        "2 [[  1.42519170e+01   0.00000000e+00]\n",
        " [  1.10321906e-02   5.28000000e+02]]\n",
        "la [[  1.24614594e+04   0.00000000e+00]\n",
        " [  9.62001240e-02   5.28000000e+02]]\n",
        "1 528.0 [  0 529] [ 0.00117978  0.11332097]\n",
        "2 [[  1.41698683e+01   0.00000000e+00]\n",
        " [  2.02804478e-02   5.29000000e+02]]\n",
        "la [[  1.20105946e+04   0.00000000e+00]\n",
        " [  1.78964657e-01   5.29000000e+02]]\n",
        "1 529.0 [  0 529] [ 0.00121527  0.00414123]\n",
        "2 [[  1.40878196e+01   0.00000000e+00]\n",
        " [  6.17682660e-02   5.29000000e+02]]\n",
        "la [[ 11592.31329194      0.        ]\n",
        " [    14.91544163    529.        ]]\n",
        "1 529.0 [  0 530]"
       ]
      },
      {
       "output_type": "stream",
       "stream": "stdout",
       "text": [
        " [ 0.00121527  0.1106838 ]\n",
        "2 [[  1.40057709e+01   0.00000000e+00]\n",
        " [  3.99860494e-02   5.30000000e+02]]\n",
        "la [[  1.15247986e+04   0.00000000e+00]\n",
        " [  3.61263801e-01   5.30000000e+02]]\n",
        "1 530.0 [  0 530] [ 0.00127291  0.00421703]\n",
        "2 [[  1.39237222e+01   0.00000000e+00]\n",
        " [  4.20626644e-02   5.30000000e+02]]\n",
        "la [[  1.09384603e+04   0.00000000e+00]\n",
        " [  9.97446886e+00   5.30000000e+02]]\n",
        "1 530.0 [  0 531] [ 0.00127291  0.10753571]\n",
        "2 [[  1.38416735e+01   0.00000000e+00]\n",
        " [  1.88065824e-02   5.31000000e+02]]\n",
        "la [[  1.08740029e+04   0.00000000e+00]\n",
        " [  1.74886855e-01   5.31000000e+02]]\n",
        "1 531.0 [  0 532] [ 0.0013134   0.10557127]\n",
        "2 [[  1.37596247e+01   0.00000000e+00]\n",
        " [  3.80333575e-03   5.32000000e+02]]\n",
        "la [[  1.04763305e+04   0.00000000e+00]\n",
        " [  3.60262370e-02   5.32000000e+02]]\n",
        "1 532.0 [  0 533] [ 0.00130616  0.10424091]\n",
        "2 [[  1.36775760e+01   0.00000000e+00]\n",
        " [  1.61005250e-02   5.33000000e+02]]\n",
        "la [[  1.04716259e+04   0.00000000e+00]\n",
        " [  1.54454960e-01   5.33000000e+02]]\n",
        "1 533.0 [  0 534] [ 0.00131366  0.10188317]\n",
        "2 [[  1.35955273e+01   0.00000000e+00]\n",
        " [  2.90294997e-02   5.34000000e+02]]\n",
        "la [[  1.03493486e+04   0.00000000e+00]\n",
        " [  2.84929296e-01   5.34000000e+02]]\n",
        "1 534.0 [  0 535] [ 0.00130811  0.09910544]\n",
        "2 [[  1.35134786e+01   0.00000000e+00]\n",
        " [  4.15821699e-02   5.35000000e+02]]\n",
        "la [[  1.03305517e+04   0.00000000e+00]\n",
        " [  4.19575033e-01   5.35000000e+02]]\n",
        "1 535.0 [  0 535] [ 0.00129777  0.00440255]\n",
        "2 [[  1.34314299e+01   0.00000000e+00]\n",
        " [  4.04665439e-02   5.35000000e+02]]\n",
        "la [[  1.03496141e+04   0.00000000e+00]\n",
        " [  9.19161705e+00   5.35000000e+02]]\n",
        "1 535.0 [  0 536] [ 0.00129777  0.09756794]\n",
        "2 [[  1.33493812e+01   0.00000000e+00]\n",
        " [  2.84344594e-02   5.36000000e+02]]\n",
        "la [[  1.02863913e+04   0.00000000e+00]\n",
        " [  2.91432409e-01   5.36000000e+02]]\n",
        "1 536.0 [  0 537] [ 0.00128958  0.09792241]\n",
        "2 [[  1.32673325e+01   0.00000000e+00]\n",
        " [  1.59697929e-02   5.37000000e+02]]\n",
        "la [[  1.02880970e+04   0.00000000e+00]\n",
        " [  1.63086185e-01   5.37000000e+02]]\n",
        "1 537.0 [  0 538] [ 0.00131387  0.10022928]\n",
        "2 [[  1.31852837e+01   0.00000000e+00]\n",
        " [  4.42174007e-04   5.38000000e+02]]\n",
        "la [[  1.00354710e+04   0.00000000e+00]\n",
        " [  4.41162499e-03   5.38000000e+02]]\n",
        "1 538.0 [  0 539] [ 0.00131804  0.10369847]\n",
        "2 [[  1.31032350e+01   0.00000000e+00]\n",
        " [  1.61162463e-02   5.39000000e+02]]\n",
        "la [[  9.94143155e+03   0.00000000e+00]\n",
        " [  1.55414500e-01   5.39000000e+02]]\n",
        "1 539.0 [  0 540] [ 0.0013347   0.10690943]\n",
        "2 [[  1.30211863e+01   0.00000000e+00]\n",
        " [  3.08218499e-02   5.40000000e+02]]\n",
        "la [[  9.75587821e+03   0.00000000e+00]\n",
        " [  2.88298697e-01   5.40000000e+02]]\n",
        "1 540.0 [  0 541] [ 0.00137462  0.10950364]\n",
        "2 [[  1.29391376e+01   0.00000000e+00]\n",
        " [  4.55923730e-02   5.41000000e+02]]\n",
        "la [[  9.41289980e+03   0.00000000e+00]\n",
        " [  4.16354851e-01   5.41000000e+02]]\n",
        "1 541.0 [  0 541] [ 0.00139443  0.00443986]\n",
        "2 [[  1.28570889e+01   0.00000000e+00]\n",
        " [  3.64563408e-02   5.41000000e+02]]\n",
        "la [[  9.22033127e+03   0.00000000e+00]\n",
        " [  8.21114991e+00   5.41000000e+02]]\n",
        "1 541.0 [  0 542] [ 0.00139443  0.11183779]\n",
        "2 [[  1.27750402e+01   0.00000000e+00]\n",
        " [  2.75841420e-02   5.42000000e+02]]\n",
        "la [[  9.16149087e+03   0.00000000e+00]\n",
        " [  2.46644195e-01   5.42000000e+02]]\n",
        "1 542.0 [  0 543] [ 0.00134265  0.11384466]\n",
        "2 [[  1.26929915e+01   0.00000000e+00]\n",
        " [  1.78399728e-02   5.43000000e+02]]\n",
        "la [[  9.45370460e+03   0.00000000e+00]\n",
        " [  1.56704521e-01   5.43000000e+02]]\n",
        "1 543.0 [  0 544] [ 0.00132267  0.11533213]\n",
        "2 [[  1.26109428e+01   0.00000000e+00]\n",
        " [  3.44057390e-03   5.44000000e+02]]\n",
        "la [[  9.53444200e+03   0.00000000e+00]\n",
        " [  2.98318758e-02   5.44000000e+02]]\n",
        "1 544.0 [  0 545] [ 0.00129339  0.11598597]\n",
        "2 [[  1.25288940e+01   0.00000000e+00]\n",
        " [  1.20089721e-02   5.45000000e+02]]\n",
        "la [[  9.68686890e+03   0.00000000e+00]\n",
        " [  1.03538140e-01   5.45000000e+02]]\n",
        "1 545.0 [  0 546] [ 0.00127802  0.11536127]\n",
        "2 [[  1.24468453e+01   0.00000000e+00]\n",
        " [  2.67661548e-02   5.46000000e+02]]\n",
        "la [[  9.73917582e+03   0.00000000e+00]\n",
        " [  2.32020291e-01   5.46000000e+02]]\n",
        "1 546.0 [  0 547] [ 0.00127478  0.11416076]\n",
        "2 [[  1.23647966e+01   0.00000000e+00]\n",
        " [  4.26812089e-02   5.47000000e+02]]\n",
        "la [[  9.69958502e+03   0.00000000e+00]\n",
        " [  3.73869341e-01   5.47000000e+02]]\n",
        "1 547.0 [  0 547] [ 0.00125844  0.00570997]\n",
        "2 [[  1.22827479e+01   0.00000000e+00]\n",
        " [  3.93675049e-02   5.47000000e+02]]\n",
        "la [[  9.76032441e+03   0.00000000e+00]\n",
        " [  6.89451750e+00   5.47000000e+02]]\n",
        "1 547.0 [  0 548] [ 0.00125844  0.11414996]\n",
        "2 [[  1.22006992e+01   0.00000000e+00]\n",
        " [  2.90972403e-02   5.48000000e+02]]\n",
        "la [[  9.69512548e+03   0.00000000e+00]\n",
        " [  2.54903643e-01   5.48000000e+02]]\n",
        "1 548.0 [  0 549] [ 0.00123248  0.11578085]\n",
        "2 [[  1.21186505e+01   0.00000000e+00]\n",
        " [  1.85942674e-02   5.49000000e+02]]\n",
        "la [[  9.83275123e+03   0.00000000e+00]\n",
        " [  1.60598821e-01   5.49000000e+02]]\n",
        "1 549.0 [  0 550] [ 0.00125571  0.11763065]\n",
        "2 [[  1.20366018e+01   0.00000000e+00]\n",
        " [  6.87785069e-03   5.50000000e+02]]\n",
        "la [[  9.58552087e+03   0.00000000e+00]\n",
        " [  5.84698849e-02   5.50000000e+02]]\n",
        "1 550.0 [  0 551] [ 0.00126753  0.11862227]\n",
        "2 [[  1.19545530e+01   0.00000000e+00]\n",
        " [  4.13766298e-03   5.51000000e+02]]\n",
        "la [[  9.43137339e+03   0.00000000e+00]\n",
        " [  3.48809976e-02   5.51000000e+02]]\n",
        "1 551.0 [  0 552] [ 0.00126924  0.1189952 ]\n",
        "2 [[  1.18725043e+01   0.00000000e+00]\n",
        " [  1.81428224e-02   5.52000000e+02]]\n",
        "la [[  9.35406043e+03   0.00000000e+00]\n",
        " [  1.52466846e-01   5.52000000e+02]]\n",
        "1 552.0 [  0 553] [ 0.00128085  0.11914687]\n",
        "2 [[  1.17904556e+01   0.00000000e+00]\n",
        " [  2.75642844e-02   5.53000000e+02]]\n",
        "la [[  9.20519885e+03   0.00000000e+00]\n",
        " [  2.31347116e-01   5.53000000e+02]]\n",
        "1 553.0 [  0 554] [ 0.00127986  0.11903547]\n",
        "2 [[  1.17084069e+01   0.00000000e+00]\n",
        " [  4.62520758e-02   5.54000000e+02]]\n",
        "la [[  9.14819733e+03   0.00000000e+00]\n",
        " [  3.88557093e-01   5.54000000e+02]]\n",
        "1 554.0 [  0 554] [ 0.00130728  0.00496245]\n",
        "2 [[  1.16263582e+01   0.00000000e+00]\n",
        " [  3.57966380e-02   5.54000000e+02]]\n",
        "la [[  8.89354158e+03   0.00000000e+00]\n",
        " [  7.21350278e+00   5.54000000e+02]]\n",
        "1 554.0 [  0 555] [ 0.00130728  0.11838887]\n",
        "2 [[  1.15443095e+01   0.00000000e+00]\n",
        " [  1.96058900e-02   5.55000000e+02]]\n",
        "la [[  8.83077871e+03   0.00000000e+00]\n",
        " [  1.65605858e-01   5.55000000e+02]]\n",
        "1 555.0 [  0 556] [ 0.0012892  0.1170821]\n",
        "2 [[  1.14622608e+01   0.00000000e+00]\n",
        " [  1.17208312e-02   5.56000000e+02]]\n",
        "la [[  8.89097455e+03   0.00000000e+00]\n",
        " [  1.00107795e-01   5.56000000e+02]]\n",
        "1 556.0 [  0 557] [ 0.00126434  0.11529106]\n",
        "2 [[  1.13802120e+01   0.00000000e+00]\n",
        " [  6.61484057e-03   5.57000000e+02]]\n",
        "la [[  9.00087652e+03   0.00000000e+00]\n",
        " [  5.73751364e-02   5.57000000e+02]]\n",
        "1 557.0 [  0 558] [ 0.00128385  0.11345714]\n",
        "2 [[  1.12981633e+01   0.00000000e+00]\n",
        " [  6.99636155e-04   5.58000000e+02]]\n",
        "la [[  8.80021975e+03   0.00000000e+00]\n",
        " [  6.16652403e-03   5.58000000e+02]]\n",
        "1 558.0 [  0 559] [ 0.00131108  0.11239195]\n",
        "2 [[  1.12161146e+01   0.00000000e+00]\n",
        " [  2.09983770e-02   5.59000000e+02]]\n",
        "la [[  8.55485852e+03   0.00000000e+00]\n",
        " [  1.86831679e-01   5.59000000e+02]]\n",
        "1 559.0 [  0 560] [ 0.00129339  0.11241382]\n",
        "2 [[  1.11340659e+01   0.00000000e+00]\n",
        " [  3.79702036e-02   5.60000000e+02]]\n",
        "la [[  8.60842051e+03   0.00000000e+00]\n",
        " [  3.37771661e-01   5.60000000e+02]]\n",
        "1 560.0 [  0 560] [ 0.00124637  0.00518122]\n",
        "2 [[  1.10520172e+01   0.00000000e+00]\n",
        " [  4.40785102e-02   5.60000000e+02]]\n",
        "la [[  8.86735681e+03   0.00000000e+00]\n",
        " [  8.50736485e+00   5.60000000e+02]]\n",
        "1 560.0 [  0 561] [ 0.00124637  0.11280174]\n",
        "2 [[  1.09699685e+01   0.00000000e+00]\n",
        " [  3.04852807e-02   5.61000000e+02]]\n",
        "la [[  8.80152672e+03   0.00000000e+00]\n",
        " [  2.70255416e-01   5.61000000e+02]]\n",
        "1 561.0 [  0 562] [ 0.00123483  0.11296582]\n",
        "2 [[  1.08879198e+01   0.00000000e+00]\n",
        " [  1.65671353e-02   5.62000000e+02]]\n",
        "la [[  8.81732461e+03   0.00000000e+00]\n",
        " [  1.46656181e-01   5.62000000e+02]]\n",
        "1 562.0 [  0 563] [ 0.00123491  0.11306791]\n",
        "2 [[  1.08058710e+01   0.00000000e+00]\n",
        " [  1.03121342e-03   5.63000000e+02]]\n",
        "la [[  8.75030620e+03   0.00000000e+00]\n",
        " [  9.12030099e-03   5.63000000e+02]]\n",
        "1 563.0 [  0 564] [ 0.00125549  0.11369345]\n",
        "2 [[  1.07238223e+01   0.00000000e+00]\n",
        " [  1.43252423e-02   5.64000000e+02]]\n",
        "la [[  8.54155374e+03   0.00000000e+00]\n",
        " [  1.25998833e-01   5.64000000e+02]]\n",
        "1 564.0 [  0 565] [ 0.00126085  0.11517378]\n",
        "2 [[  1.06417736e+01   0.00000000e+00]\n",
        " [  2.75750805e-02   5.65000000e+02]]\n",
        "la [[  8.44018965e+03   0.00000000e+00]\n",
        " [  2.39421511e-01   5.65000000e+02]]\n",
        "1 565.0 [  0 566] [ 0.0012872   0.11669169]\n",
        "2 [[  1.05597249e+01   0.00000000e+00]\n",
        " [  3.75493101e-02   5.66000000e+02]]\n",
        "la [[  8.20361341e+03   0.00000000e+00]\n",
        " [  3.21782210e-01   5.66000000e+02]]\n",
        "1 566.0 [  0 566] [ 0.0012804   0.00532455]\n",
        "2 [[  1.04776762e+01   0.00000000e+00]\n",
        " [  4.44994037e-02   5.66000000e+02]]\n",
        "la [[ 8183.13527877     0.        ]\n",
        " [    8.35740647   566.        ]]\n",
        "1 566.0 [  0 567] [ 0.0012804   0.11715868]\n",
        "2 [[  1.03956275e+01   0.00000000e+00]\n",
        " [  3.52462259e-02   5.67000000e+02]]\n",
        "la [[  8.11905468e+03   0.00000000e+00]\n",
        " [  3.00841777e-01   5.67000000e+02]]\n",
        "1 567.0 [  0 568] [ 0.00127672  0.11659048]\n",
        "2 [[  1.03135788e+01   0.00000000e+00]\n",
        " [  2.69210622e-02   5.68000000e+02]]\n",
        "la [[  8.07821308e+03   0.00000000e+00]\n",
        " [  2.30902750e-01   5.68000000e+02]]\n",
        "1 568.0 [  0 569] [ 0.00129417  0.11560653]\n",
        "2 [[  1.02315301e+01   0.00000000e+00]\n",
        " [  2.00079127e-02   5.69000000e+02]]\n",
        "la [[  7.90585330e+03   0.00000000e+00]\n",
        " [  1.73069057e-01   5.69000000e+02]]\n",
        "1 569.0 [  0 570] [ 0.00131924  0.11472618]\n",
        "2 [[  1.01494813e+01   0.00000000e+00]\n",
        " [  1.14399435e-02   5.70000000e+02]]\n",
        "la [[  7.69340522e+03   0.00000000e+00]\n",
        " [  9.97151920e-02   5.70000000e+02]]\n",
        "1 570.0 [  0 571] [ 0.00134356  0.11417019]\n",
        "2 [[  1.00674326e+01   0.00000000e+00]\n",
        " [  2.41753722e-03   5.71000000e+02]]\n",
        "la [[  7.49307682e+03   0.00000000e+00]\n",
        " [  2.11748551e-02   5.71000000e+02]]\n",
        "1 571.0 [  0 572] [ 0.00136931  0.11346975]\n",
        "2 [[  9.98538391e+00   0.00000000e+00]\n",
        " [  7.79898130e-03   5.72000000e+02]]\n",
        "la [[  7.29228474e+03   0.00000000e+00]\n",
        " [  6.87318117e-02   5.72000000e+02]]\n",
        "1 572.0 [  0 573] [ 0.00138099  0.11220117]\n",
        "2 [[  9.90333520e+00   0.00000000e+00]\n",
        " [  2.03708674e-02   5.73000000e+02]]\n",
        "la [[  7.17118455e+03   0.00000000e+00]\n",
        " [  1.81556644e-01   5.73000000e+02]]\n",
        "1 573.0 [  0 574] [ 0.0014101   0.11111007]\n",
        "2 [[  9.82128648e+00   0.00000000e+00]\n",
        " [  3.20519206e-02   5.74000000e+02]]\n",
        "la"
       ]
      },
      {
       "output_type": "stream",
       "stream": "stdout",
       "text": [
        " [[  6.96495264e+03   0.00000000e+00]\n",
        " [  2.88469997e-01   5.74000000e+02]]\n",
        "1 574.0 [  0 574] [ 0.00136691  0.00538214]\n",
        "2 [[  9.73923777e+00   0.00000000e+00]\n",
        " [  4.99967932e-02   5.74000000e+02]]\n",
        "la [[ 7124.99615236     0.        ]\n",
        " [    9.28938832   574.        ]]\n",
        "1 574.0 [  0 575] [ 0.00136691  0.11123622]\n",
        "2 [[  9.65718906e+00   0.00000000e+00]\n",
        " [  2.68905508e-02   5.75000000e+02]]\n",
        "la [[  7.06497125e+03   0.00000000e+00]\n",
        " [  2.41742770e-01   5.75000000e+02]]\n",
        "1 575.0 [  0 576] [ 0.00138069  0.11228242]\n",
        "2 [[  9.57514034e+00   0.00000000e+00]\n",
        " [  7.61101535e-03   5.76000000e+02]]\n",
        "la [[  6.93501645e+03   0.00000000e+00]\n",
        " [  6.77845668e-02   5.76000000e+02]]\n",
        "1 576.0 [  0 577] [ 0.00135091  0.11273117]\n",
        "2 [[  9.49309163e+00   0.00000000e+00]\n",
        " [  1.17885062e-02   5.77000000e+02]]\n",
        "la [[  7.02719315e+03   0.00000000e+00]\n",
        " [  1.04571843e-01   5.77000000e+02]]\n",
        "1 577.0 [  0 578] [ 0.00135354  0.11161547]\n",
        "2 [[  9.41104291e+00   0.00000000e+00]\n",
        " [  3.89803774e-02   5.78000000e+02]]\n",
        "la [[  6.95292602e+03   0.00000000e+00]\n",
        " [  3.49238112e-01   5.78000000e+02]]\n",
        "1 578.0 [  0 578] [ 0.00132844  0.00499854]\n",
        "2 [[  9.32899420e+00   0.00000000e+00]\n",
        " [  4.30683364e-02   5.78000000e+02]]\n",
        "la [[ 7022.52378217     0.        ]\n",
        " [    8.6161853    578.        ]]\n",
        "1 578.0 [  0 579] [ 0.00132844  0.10999605]\n",
        "2 [[  9.24694549e+00   0.00000000e+00]\n",
        " [  1.72362891e-02   5.79000000e+02]]\n",
        "la [[  6.96076053e+03   0.00000000e+00]\n",
        " [  1.56699167e-01   5.79000000e+02]]\n",
        "1 579.0 [  0 580] [ 0.0013217   0.10977019]\n",
        "2 [[  9.16489677e+00   0.00000000e+00]\n",
        " [  4.64556865e-03   5.80000000e+02]]\n",
        "la [[  6.93415487e+03   0.00000000e+00]\n",
        " [  4.23208596e-02   5.80000000e+02]]\n",
        "1 580.0 [  0 581] [ 0.00131326  0.11127873]\n",
        "2 [[  9.08284806e+00   0.00000000e+00]\n",
        " [  2.18447420e-02   5.81000000e+02]]\n",
        "la [[  6.91625258e+03   0.00000000e+00]\n",
        " [  1.96306544e-01   5.81000000e+02]]\n",
        "1 581.0 [  0 582] [ 0.00128371  0.11334752]\n",
        "2 [[  9.00079935e+00   0.00000000e+00]\n",
        " [  3.86530719e-02   5.82000000e+02]]\n",
        "la [[  7.01154695e+03   0.00000000e+00]\n",
        " [  3.41013817e-01   5.82000000e+02]]\n",
        "1 582.0 [  0 582] [ 0.00124447  0.00498408]\n",
        "2 [[  8.91875063e+00   0.00000000e+00]\n",
        " [  4.33956419e-02   5.82000000e+02]]\n",
        "la [[ 7166.70980833     0.        ]\n",
        " [    8.70684517   582.        ]]\n",
        "1 582.0 [  0 583] [ 0.00124447  0.11522754]\n",
        "2 [[  8.83670192e+00   0.00000000e+00]\n",
        " [  2.74514757e-02   5.83000000e+02]]\n",
        "la [[  7.10077913e+03   0.00000000e+00]\n",
        " [  2.38237114e-01   5.83000000e+02]]\n",
        "1 583.0 [  0 584] [ 0.00124079  0.11691312]\n",
        "2 [[  8.75465320e+00   0.00000000e+00]\n",
        " [  8.03408397e-03   5.84000000e+02]]\n",
        "la [[  7.05569776e+03   0.00000000e+00]\n",
        " [  6.87184113e-02   5.84000000e+02]]\n",
        "1 584.0 [  0 585] [ 0.0012614   0.11799029]\n",
        "2 [[  8.67260449e+00   0.00000000e+00]\n",
        " [  4.95178319e-03   5.85000000e+02]]\n",
        "la [[  6.87539805e+03   0.00000000e+00]\n",
        " [  4.19677170e-02   5.85000000e+02]]\n",
        "1 585.0 [  0 586] [ 0.0012534   0.11775925]\n",
        "2 [[  8.59055578e+00   0.00000000e+00]\n",
        " [  1.81669429e-02   5.86000000e+02]]\n",
        "la [[  6.85381607e+03   0.00000000e+00]\n",
        " [  1.54271898e-01   5.86000000e+02]]\n",
        "1 586.0 [  0 587] [ 0.00128473  0.1161612 ]\n",
        "2 [[  8.50850706e+00   0.00000000e+00]\n",
        " [  2.73681842e-02   5.87000000e+02]]\n",
        "la [[  6.62279861e+03   0.00000000e+00]\n",
        " [  2.35605217e-01   5.87000000e+02]]\n",
        "1 587.0 [  0 588] [ 0.00129483  0.11370455]\n",
        "2 [[  8.42645835e+00   0.00000000e+00]\n",
        " [  3.76700149e-02   5.88000000e+02]]\n",
        "la [[  6.50775091e+03   0.00000000e+00]\n",
        " [  3.31297351e-01   5.88000000e+02]]\n",
        "1 588.0 [  0 588] [ 0.00131034  0.00542459]\n",
        "2 [[  8.34440963e+00   0.00000000e+00]\n",
        " [  4.43786989e-02   5.88000000e+02]]\n",
        "la [[ 6368.10208462     0.        ]\n",
        " [    8.18102495   588.        ]]\n",
        "1 588.0 [  0 589] [ 0.00131034  0.11157115]\n",
        "2 [[  8.26236092e+00   0.00000000e+00]\n",
        " [  3.43251202e-02   5.89000000e+02]]\n",
        "la [[  6.30548596e+03   0.00000000e+00]\n",
        " [  3.07652289e-01   5.89000000e+02]]\n",
        "1 589.0 [  0 590] [ 0.00133195  0.11128379]\n",
        "2 [[  8.18031221e+00   0.00000000e+00]\n",
        " [  1.90596156e-02   5.90000000e+02]]\n",
        "la [[  6.14159356e+03   0.00000000e+00]\n",
        " [  1.71270368e-01   5.90000000e+02]]\n",
        "1 590.0 [  0 591] [ 0.0013371   0.11273959]\n",
        "2 [[  8.09826349e+00   0.00000000e+00]\n",
        " [  4.68059131e-03   5.91000000e+02]]\n",
        "la [[  6.05660217e+03   0.00000000e+00]\n",
        " [  4.15168396e-02   5.91000000e+02]]\n",
        "1 591.0 [  0 592] [ 0.00133505  0.11427958]\n",
        "2 [[  8.01621478e+00   0.00000000e+00]\n",
        " [  6.42427715e-03   5.92000000e+02]]\n",
        "la [[  6.00442012e+03   0.00000000e+00]\n",
        " [  5.62154440e-02   5.92000000e+02]]\n",
        "1 592.0 [  0 593] [ 0.00132163  0.11447579]\n",
        "2 [[  7.93416607e+00   0.00000000e+00]\n",
        " [  1.78977530e-02   5.93000000e+02]]\n",
        "la [[  6.00330513e+03   0.00000000e+00]\n",
        " [  1.56345310e-01   5.93000000e+02]]\n",
        "1 593.0 [  0 594] [ 0.00133094  0.11239575]\n",
        "2 [[  7.85211735e+00   0.00000000e+00]\n",
        " [  3.09871965e-02   5.94000000e+02]]\n",
        "la [[  5.89965601e+03   0.00000000e+00]\n",
        " [  2.75697226e-01   5.94000000e+02]]\n",
        "1 594.0 [  0 595] [ 0.00132371  0.10884177]\n",
        "2 [[  7.77006864e+00   0.00000000e+00]\n",
        " [  5.02363586e-02   5.95000000e+02]]\n",
        "la [[  5.86993116e+03   0.00000000e+00]\n",
        " [  4.61554060e-01   5.95000000e+02]]\n",
        "1 595.0 [  0 595] [ 0.00130737  0.00547933]\n",
        "2 [[  7.68801992e+00   0.00000000e+00]\n",
        " [  3.18123552e-02   5.95000000e+02]]\n",
        "la [[  5.88051381e+03   0.00000000e+00]\n",
        " [  5.80587971e+00   5.95000000e+02]]\n",
        "1 595.0 [  0 596] [ 0.00130737  0.10671018]\n",
        "2 [[  7.60597121e+00   0.00000000e+00]\n",
        " [  2.06235180e-02   5.96000000e+02]]\n",
        "la [[  5.81775531e+03   0.00000000e+00]\n",
        " [  1.93266647e-01   5.96000000e+02]]\n",
        "1 596.0 [  0 597] [ 0.00130146  0.10780291]\n",
        "2 [[  7.52392250e+00   0.00000000e+00]\n",
        " [  8.84101995e-03   5.97000000e+02]]\n",
        "la [[  5.78114763e+03   0.00000000e+00]\n",
        " [  8.20109616e-02   5.97000000e+02]]\n",
        "1 597.0 [  0 598] [ 0.00128795  0.11093064]\n",
        "2 [[  7.44187378e+00   0.00000000e+00]\n",
        " [  4.52618651e-04   5.98000000e+02]]\n",
        "la [[  5.77807554e+03   0.00000000e+00]\n",
        " [  4.08019521e-03   5.98000000e+02]]\n",
        "1 598.0 [  0 599] [ 0.00128456  0.1133604 ]\n",
        "2 [[  7.35982507e+00   0.00000000e+00]\n",
        " [  1.27105702e-02   5.99000000e+02]]\n",
        "la [[  5.72945142e+03   0.00000000e+00]\n",
        " [  1.12125311e-01   5.99000000e+02]]\n",
        "1 599.0 [  0 600] [ 0.00125718  0.11380606]\n",
        "2 [[  7.27777636e+00   0.00000000e+00]\n",
        " [  1.76655177e-02   6.00000000e+02]]\n",
        "la [[  5.78898219e+03   0.00000000e+00]\n",
        " [  1.55224760e-01   6.00000000e+02]]\n",
        "1 600.0 [  0 601] [ 0.0012844   0.11323322]\n",
        "2 [[  7.19572764e+00   0.00000000e+00]\n",
        " [  2.39050898e-02   6.01000000e+02]]\n",
        "la [[  5.60240484e+03   0.00000000e+00]\n",
        " [  2.11113742e-01   6.01000000e+02]]\n",
        "1 601.0 [  0 602] [ 0.00128265  0.11285621]\n",
        "2 [[  7.11367893e+00   0.00000000e+00]\n",
        " [  2.95900567e-02   6.02000000e+02]]\n",
        "la [[  5.54606436e+03   0.00000000e+00]\n",
        " [  2.62192540e-01   6.02000000e+02]]\n",
        "1 602.0 [  0 603] [ 0.00127652  0.11319763]\n",
        "2 [[  7.03163021e+00   0.00000000e+00]\n",
        " [  3.52538085e-02   6.03000000e+02]]\n",
        "la [[  5.50842745e+03   0.00000000e+00]\n",
        " [  3.11435910e-01   6.03000000e+02]]\n",
        "1 603.0 [  0 604] [ 0.0013154   0.11402427]\n",
        "2 [[  6.94958150e+00   0.00000000e+00]\n",
        " [  4.49963804e-02   6.04000000e+02]]\n",
        "la [[  5.28324642e+03   0.00000000e+00]\n",
        " [  3.94621070e-01   6.04000000e+02]]\n",
        "1 604.0 [  0 604] [ 0.00134517  0.00570147]\n",
        "2 [[  6.86753279e+00   0.00000000e+00]\n",
        " [  3.70523334e-02   6.04000000e+02]]\n",
        "la [[ 5105.32786873     0.        ]\n",
        " [    6.49873163   604.        ]]\n",
        "1 604.0 [  0 605] [ 0.00134517  0.11460434]\n",
        "2 [[  6.78548407e+00   0.00000000e+00]\n",
        " [  2.97480440e-02   6.05000000e+02]]\n",
        "la [[  5.04433281e+03   0.00000000e+00]\n",
        " [  2.59571716e-01   6.05000000e+02]]\n",
        "1 605.0 [  0 606] [ 0.00134181  0.11494248]\n",
        "2 [[  6.70343536e+00   0.00000000e+00]\n",
        " [  1.62487427e-02   6.06000000e+02]]\n",
        "la [[  4.99582066e+03   0.00000000e+00]\n",
        " [  1.41364121e-01   6.06000000e+02]]\n",
        "1 606.0 [  0 607] [ 0.00136328  0.11569265]\n",
        "2 [[  6.62138665e+00   0.00000000e+00]\n",
        " [  1.77333613e-03   6.07000000e+02]]\n",
        "la [[  4.85695886e+03   0.00000000e+00]\n",
        " [  1.53279928e-02   6.07000000e+02]]\n",
        "1 607.0 [  0 608] [ 0.00142414  0.1171186 ]\n",
        "2 [[  6.53933793e+00   0.00000000e+00]\n",
        " [  6.56321044e-03   6.08000000e+02]]\n",
        "la [[  4.59178811e+03   0.00000000e+00]\n",
        " [  5.60390111e-02   6.08000000e+02]]\n",
        "1 608.0 [  0 609] [ 0.00143641  0.11865159]\n",
        "2 [[  6.45728922e+00   0.00000000e+00]\n",
        " [  2.41757240e-02   6.09000000e+02]]\n",
        "la [[  4.49543309e+03   0.00000000e+00]\n",
        " [  2.03753890e-01   6.09000000e+02]]\n",
        "1 609.0 [  0 610] [ 0.00144358  0.11905329]\n",
        "2 [[  6.37524050e+00   0.00000000e+00]\n",
        " [  4.33787355e-02   6.10000000e+02]]\n",
        "la [[  4.41625993e+03   0.00000000e+00]\n",
        " [  3.64364013e-01   6.10000000e+02]]\n",
        "1 610.0 [  0 610] [ 0.00140363  0.00450361]\n",
        "2 [[  6.29319179e+00   0.00000000e+00]\n",
        " [  3.86699783e-02   6.10000000e+02]]\n",
        "la [[ 4483.51812998     0.        ]\n",
        " [    8.58644568   610.        ]]\n",
        "1 610.0 [  0 611] [ 0.00140363  0.11814151]\n",
        "2 [[  6.21114308e+00   0.00000000e+00]\n",
        " [  2.15207354e-02   6.11000000e+02]]\n",
        "la [[  4.42506339e+03   0.00000000e+00]\n",
        " [  1.82160667e-01   6.11000000e+02]]\n",
        "1 611.0 [  0 612] [ 0.0013895  0.1174432]\n",
        "2 [[  6.12909436e+00   0.00000000e+00]\n",
        " [  1.29660914e-02   6.12000000e+02]]\n",
        "la [[  4.41099303e+03   0.00000000e+00]\n",
        " [  1.10403085e-01   6.12000000e+02]]\n",
        "1 612.0 [  0 613] [ 0.00136855  0.11805638]\n",
        "2 [[  6.04704565e+00   0.00000000e+00]\n",
        " [  3.35657380e-03   6.13000000e+02]]\n",
        "la [[  4.41859283e+03   0.00000000e+00]\n",
        " [  2.84319567e-02   6.13000000e+02]]\n",
        "1 613.0 [  0 614] [ 0.0013895   0.11965943]\n",
        "2 [[  5.96499693e+00   0.00000000e+00]\n",
        " [  2.19991748e-02   6.14000000e+02]]\n",
        "la [[  4.29292017e+03   0.00000000e+00]\n",
        " [  1.83848226e-01   6.14000000e+02]]\n",
        "1 614.0 [  0 615] [ 0.00141597  0.12077131]\n",
        "2 [[  5.88294822e+00   0.00000000e+00]\n",
        " [  4.18149519e-02   6.15000000e+02]]\n",
        "la [[  4.15472702e+03   0.00000000e+00]\n",
        " [  3.46232484e-01   6.15000000e+02]]\n",
        "1 615.0 [  0 615] [ 0.00148847  0.00379284]\n",
        "2 [[  5.80089951e+00   0.00000000e+00]\n",
        " [  4.02337619e-02   6.15000000e+02]]\n",
        "la [[ 3897.21547513     0.        ]\n",
        " [   10.60781315   615.        ]]"
       ]
      },
      {
       "output_type": "stream",
       "stream": "stdout",
       "text": [
        "\n",
        "1 615.0 [  0 616] [ 0.00148847  0.1192595 ]\n",
        "2 [[  5.71885079e+00   0.00000000e+00]\n",
        " [  2.53669460e-02   6.16000000e+02]]\n",
        "la [[  3.84209273e+03   0.00000000e+00]\n",
        " [  2.12703784e-01   6.16000000e+02]]\n",
        "1 616.0 [  0 617] [ 0.00150669  0.11553627]\n",
        "2 [[  5.63680208e+00   0.00000000e+00]\n",
        " [  1.05045698e-02   6.17000000e+02]]\n",
        "la [[  3.74117751e+03   0.00000000e+00]\n",
        " [  9.09201051e-02   6.17000000e+02]]\n",
        "1 617.0 [  0 618] [ 0.00148754  0.11276415]\n",
        "2 [[  5.55475337e+00   0.00000000e+00]\n",
        " [  1.20823573e-02   6.18000000e+02]]\n",
        "la [[  3.73419268e+03   0.00000000e+00]\n",
        " [  1.07147146e-01   6.18000000e+02]]\n",
        "1 618.0 [  0 619] [ 0.00140789  0.11177537]\n",
        "2 [[  5.47270465e+00   0.00000000e+00]\n",
        " [  7.39398925e-03   6.19000000e+02]]\n",
        "la [[  3.88717233e+03   0.00000000e+00]\n",
        " [  6.61504333e-02   6.19000000e+02]]\n",
        "1 619.0 [  0 620] [ 0.00141744  0.11093659]\n",
        "2 [[  5.39065594e+00   0.00000000e+00]\n",
        " [  7.87227152e-04   6.20000000e+02]]\n",
        "la [[  3.80309152e+03   0.00000000e+00]\n",
        " [  7.09619019e-03   6.20000000e+02]]\n",
        "1 620.0 [  0 621] [ 0.00140896  0.11083015]\n",
        "2 [[  5.30860722e+00   0.00000000e+00]\n",
        " [  9.99180442e-03   6.21000000e+02]]\n",
        "la [[  3.76774372e+03   0.00000000e+00]\n",
        " [  9.01542073e-02   6.21000000e+02]]\n",
        "1 621.0 [  0 622] [ 0.00138395  0.11356653]\n",
        "2 [[  5.22655851e+00   0.00000000e+00]\n",
        " [  1.23774396e-02   6.22000000e+02]]\n",
        "la [[  3.77655309e+03   0.00000000e+00]\n",
        " [  1.08988447e-01   6.22000000e+02]]\n",
        "1 622.0 [  0 623] [ 0.00137632  0.11850773]\n",
        "2 [[  5.14450980e+00   0.00000000e+00]\n",
        " [  4.30979294e-03   6.23000000e+02]]\n",
        "la [[  3.73786008e+03   0.00000000e+00]\n",
        " [  3.63671898e-02   6.23000000e+02]]\n",
        "1 623.0 [  0 624] [ 0.00132904  0.12288093]\n",
        "2 [[  5.06246108e+00   0.00000000e+00]\n",
        " [  4.45131518e-03   6.24000000e+02]]\n",
        "la [[  3.80911179e+03   0.00000000e+00]\n",
        " [  3.62246205e-02   6.24000000e+02]]\n",
        "1 624.0 [  0 625] [ 0.00129513  0.12490827]\n",
        "2 [[  4.98041237e+00   0.00000000e+00]\n",
        " [  1.50104402e-02   6.25000000e+02]]\n",
        "la [[  3.84548119e+03   0.00000000e+00]\n",
        " [  1.20171712e-01   6.25000000e+02]]\n",
        "1 625.0 [  0 626] [ 0.00128063  0.123827  ]\n",
        "2 [[  4.89836366e+00   0.00000000e+00]\n",
        " [  2.06807285e-02   6.26000000e+02]]\n",
        "la [[  3.82496482e+03   0.00000000e+00]\n",
        " [  1.67013077e-01   6.26000000e+02]]\n",
        "1 626.0 [  0 627] [ 0.00130353  0.12049037]\n",
        "2 [[  4.81631494e+00   0.00000000e+00]\n",
        " [  1.99799192e-02   6.27000000e+02]]\n",
        "la [[  3.69482394e+03   0.00000000e+00]\n",
        " [  1.65821705e-01   6.27000000e+02]]\n",
        "1 627.0 [  0 628] [ 0.00129957  0.11814525]\n",
        "2 [[  4.73426623e+00   0.00000000e+00]\n",
        " [  3.80694369e-02   6.28000000e+02]]\n",
        "la [[  3.64294640e+03   0.00000000e+00]\n",
        " [  3.22225707e-01   6.28000000e+02]]\n",
        "1 628.0 [  0 628] [ 0.00126183  0.00471938]\n",
        "2 [[  4.65221751e+00   0.00000000e+00]\n",
        " [  4.39792769e-02   6.28000000e+02]]\n",
        "la [[ 3686.87447441     0.        ]\n",
        " [    9.31886191   628.        ]]\n",
        "1 628.0 [  0 629] [ 0.00126183  0.11902827]\n",
        "2 [[  4.57016880e+00   0.00000000e+00]\n",
        " [  3.08719481e-02   6.29000000e+02]]\n",
        "la [[  3.62185101e+03   0.00000000e+00]\n",
        " [  2.59366509e-01   6.29000000e+02]]\n",
        "1 629.0 [  0 630] [ 0.00124319  0.12192258]\n",
        "2 [[  4.48812009e+00   0.00000000e+00]\n",
        " [  1.17365023e-02   6.30000000e+02]]\n",
        "la [[  3.61016701e+03   0.00000000e+00]\n",
        " [  9.62619247e-02   6.30000000e+02]]\n",
        "1 630.0 [  0 631] [ 0.00123825  0.1244011 ]\n",
        "2 [[  4.40607137e+00   0.00000000e+00]\n",
        " [  4.53321612e-03   6.31000000e+02]]\n",
        "la [[  3.55831117e+03   0.00000000e+00]\n",
        " [  3.64403229e-02   6.31000000e+02]]\n",
        "1 631.0 [  0 632] [ 0.00123739  0.12580548]\n",
        "2 [[  4.32402266e+00   0.00000000e+00]\n",
        " [  4.97817770e-03   6.32000000e+02]]\n",
        "la [[  3.49445659e+03   0.00000000e+00]\n",
        " [  3.95704352e-02   6.32000000e+02]]\n",
        "1 632.0 [  0 633] [ 0.00123553  0.12661673]\n",
        "2 [[  4.24197395e+00   0.00000000e+00]\n",
        " [  6.55700114e-03   6.33000000e+02]]\n",
        "la [[  3.43331718e+03   0.00000000e+00]\n",
        " [  5.17862138e-02   6.33000000e+02]]\n",
        "1 633.0 [  0 634] [ 0.00124224  0.12674558]\n",
        "2 [[  4.15992523e+00   0.00000000e+00]\n",
        " [  2.69271092e-02   6.34000000e+02]]\n",
        "la [[  3.34871564e+03   0.00000000e+00]\n",
        " [  2.12450086e-01   6.34000000e+02]]\n",
        "1 634.0 [  0 634] [ 0.00121113  0.00442747]\n",
        "2 [[  4.07787652e+00   0.00000000e+00]\n",
        " [  5.51216046e-02   6.34000000e+02]]\n",
        "la [[ 3367.00058677     0.        ]\n",
        " [   12.44990551   634.        ]]\n",
        "1 634.0 [  0 635] [ 0.00121113  0.12623349]\n",
        "2 [[  3.99582780e+00   0.00000000e+00]\n",
        " [  2.31944506e-02   6.35000000e+02]]\n",
        "la [[  3.29925502e+03   0.00000000e+00]\n",
        " [  1.83742455e-01   6.35000000e+02]]\n",
        "1 635.0 [  0 636] [ 0.00118669  0.12532754]\n",
        "2 [[  3.91377909e+00   0.00000000e+00]\n",
        " [  2.69665170e-02   6.36000000e+02]]\n",
        "la [[  3.29807707e+03   0.00000000e+00]\n",
        " [  2.15168329e-01   6.36000000e+02]]\n",
        "1 636.0 [  0 637] [ 0.00117389  0.12373207]\n",
        "2 [[  3.83173038e+00   0.00000000e+00]\n",
        " [  1.31161068e-02   6.37000000e+02]]\n",
        "la [[  3.26413835e+03   0.00000000e+00]\n",
        " [  1.06004101e-01   6.37000000e+02]]\n",
        "1 637.0 [  0 638] [ 0.00117029  0.12189845]\n",
        "2 [[  3.74968166e+00   0.00000000e+00]\n",
        " [  1.08601426e-02   6.38000000e+02]]\n",
        "la [[  3.20406276e+03   0.00000000e+00]\n",
        " [  8.90917223e-02   6.38000000e+02]]\n",
        "1 638.0 [  0 639] [ 0.00118161  0.1207637 ]\n",
        "2 [[  3.66763295e+00   0.00000000e+00]\n",
        " [  3.86459792e-02   6.39000000e+02]]\n",
        "la [[  3.10392529e+03   0.00000000e+00]\n",
        " [  3.20013196e-01   6.39000000e+02]]\n",
        "1 639.0 [  0 640] [ 0.00116105  0.12034604]\n",
        "2 [[  3.58558424e+00   0.00000000e+00]\n",
        " [  3.30476322e-02   6.40000000e+02]]\n",
        "la [[  3.08821936e+03   0.00000000e+00]\n",
        " [  2.74605072e-01   6.40000000e+02]]\n",
        "1 640.0 [  0 640] [ 0.00113421  0.00499373]\n",
        "2 [[  3.50353552e+00   0.00000000e+00]\n",
        " [  4.90010816e-02   6.40000000e+02]]\n",
        "la [[ 3088.95977802     0.        ]\n",
        " [    9.81252357   640.        ]]\n",
        "1 640.0 [  0 641] [ 0.00113421  0.12086409]\n",
        "2 [[  3.42148681e+00   0.00000000e+00]\n",
        " [  2.79755338e-02   6.41000000e+02]]\n",
        "la [[  3.01661994e+03   0.00000000e+00]\n",
        " [  2.31462749e-01   6.41000000e+02]]\n",
        "1 641.0 [  0 642] [ 0.00113552  0.12247601]\n",
        "2 [[  3.33943809e+00   0.00000000e+00]\n",
        " [  2.54245470e-02   6.42000000e+02]]\n",
        "la [[  2.94089640e+03   0.00000000e+00]\n",
        " [  2.07587978e-01   6.42000000e+02]]\n",
        "1 642.0 [  0 643] [ 0.00115332  0.12397188]\n",
        "2 [[  3.25738938e+00   0.00000000e+00]\n",
        " [  4.99661087e-04   6.43000000e+02]]\n",
        "la [[  2.82435291e+03   0.00000000e+00]\n",
        " [  4.03043878e-03   6.43000000e+02]]\n",
        "1 643.0 [  0 644] [ 0.00114638  0.1244546 ]\n",
        "2 [[  3.17534067e+00   0.00000000e+00]\n",
        " [  5.84224062e-03   6.44000000e+02]]\n",
        "la [[  2.76988300e+03   0.00000000e+00]\n",
        " [  4.69427439e-02   6.44000000e+02]]\n",
        "1 644.0 [  0 645] [ 0.0011468   0.12486474]\n",
        "2 [[  3.09329195e+00   0.00000000e+00]\n",
        " [  1.03079103e-02   6.45000000e+02]]\n",
        "la [[  2.69731821e+03   0.00000000e+00]\n",
        " [  8.25526132e-02   6.45000000e+02]]\n",
        "1 645.0 [  0 646] [ 0.00111946  0.12663388]\n",
        "2 [[  3.01124324e+00   0.00000000e+00]\n",
        " [  1.22186697e-03   6.46000000e+02]]\n",
        "la [[  2.68990736e+03   0.00000000e+00]\n",
        " [  9.64881557e-03   6.46000000e+02]]\n",
        "1 646.0 [  0 647] [ 0.00113039  0.12972499]\n",
        "2 [[  2.92919452e+00   0.00000000e+00]\n",
        " [  1.42813598e-02   6.47000000e+02]]\n",
        "la [[  2.59132053e+03   0.00000000e+00]\n",
        " [  1.10089500e-01   6.47000000e+02]]\n",
        "1 647.0 [  0 648] [ 0.00112469  0.13275731]\n",
        "2 [[  2.84714581e+00   0.00000000e+00]\n",
        " [  3.11312704e-02   6.48000000e+02]]\n",
        "la [[  2.53149324e+03   0.00000000e+00]\n",
        " [  2.34497602e-01   6.48000000e+02]]\n",
        "1 648.0 [  0 648] [ 0.00110149  0.00447486]\n",
        "2 [[  2.76509710e+00   0.00000000e+00]\n",
        " [  5.09174434e-02   6.48000000e+02]]\n",
        "la [[ 2510.32371988     0.        ]\n",
        " [   11.3785652    648.        ]]\n",
        "1 648.0 [  0 649] [ 0.00110149  0.134596  ]\n",
        "2 [[  2.68304838e+00   0.00000000e+00]\n",
        " [  2.96737672e-02   6.49000000e+02]]\n",
        "la [[  2.43583490e+03   0.00000000e+00]\n",
        " [  2.20465442e-01   6.49000000e+02]]\n",
        "1 649.0 [  0 650] [ 0.00110159  0.13528762]\n",
        "2 [[  2.60099967e+00   0.00000000e+00]\n",
        " [  9.13444247e-03   6.50000000e+02]]\n",
        "la [[  2.36113824e+03   0.00000000e+00]\n",
        " [  6.75186847e-02   6.50000000e+02]]\n",
        "1 650.0 [  0 651] [ 0.00108427  0.13525107]\n",
        "2 [[  2.51895096e+00   0.00000000e+00]\n",
        " [  1.10888496e-02   6.51000000e+02]]\n",
        "la [[  2.32317790e+03   0.00000000e+00]\n",
        " [  8.19871510e-02   6.51000000e+02]]\n",
        "1 651.0 [  0 652] [ 0.00108643  0.13391941]\n",
        "2 [[  2.43690224e+00   0.00000000e+00]\n",
        " [  6.76681422e-03   6.52000000e+02]]\n",
        "la [[  2.24304047e+03   0.00000000e+00]\n",
        " [  5.05290029e-02   6.52000000e+02]]\n",
        "1 652.0 [  0 653] [ 0.00107773  0.13159673]\n",
        "2 [[  2.35485353e+00   0.00000000e+00]\n",
        " [  1.64665105e-02   6.53000000e+02]]\n",
        "la [[  2.18502142e+03   0.00000000e+00]\n",
        " [  1.25128565e-01   6.53000000e+02]]\n",
        "1 653.0 [  0 654] [ 0.0010921   0.13072507]\n",
        "2 [[  2.27280481e+00   0.00000000e+00]\n",
        " [  2.12309172e-02   6.54000000e+02]]\n",
        "la [[  2.08113059e+03   0.00000000e+00]\n",
        " [  1.62408923e-01   6.54000000e+02]]\n",
        "1 654.0 [  0 655] [ 0.00105443  0.13199831]\n",
        "2 [[  2.19075610e+00   0.00000000e+00]\n",
        " [  1.94517341e-02   6.55000000e+02]]\n",
        "la [[  2.07766050e+03   0.00000000e+00]\n",
        " [  1.47363505e-01   6.55000000e+02]]\n",
        "1 655.0 [  0 657] [ 0.0010486   0.00600454]\n",
        "2 [[  2.10870739e+00   0.00000000e+00]\n",
        " [  3.35477276e-02   6.57000000e+02]]\n",
        "la [[ 2010.98139224     0.        ]\n",
        " [    5.58706013   657.        ]]\n",
        "1 657.0 [  0 657] [ 0.00104493  0.00610446]\n",
        "2 [[  2.02665867e+00   0.00000000e+00]\n",
        " [  4.85009862e-02   6.57000000e+02]]\n",
        "la [[ 1939.51077405     0.        ]\n",
        " [    7.94517833   657.        ]]\n",
        "1 657.0 [  0 658] [ 0.00104493  0.13714301]\n",
        "2 [[  1.94460996e+00   0.00000000e+00]\n",
        " [  2.77783297e-02   6.58000000e+02]]\n",
        "la [[  1.86099022e+03   0.00000000e+00]\n",
        " [  2.02550092e-01   6.58000000e+02]]\n",
        "1"
       ]
      },
      {
       "output_type": "stream",
       "stream": "stdout",
       "text": [
        " 658.0 [  0 659] [ 0.00103942  0.13947174]\n",
        "2 [[  1.86256125e+00   0.00000000e+00]\n",
        " [  2.53924211e-02   6.59000000e+02]]\n",
        "la [[  1.79191835e+03   0.00000000e+00]\n",
        " [  1.82061412e-01   6.59000000e+02]]\n",
        "1 659.0 [  0 660] [ 0.00103393  0.14117802]\n",
        "2 [[  1.78051253e+00   0.00000000e+00]\n",
        " [  3.20622941e-02   6.60000000e+02]]\n",
        "la [[  1.72207449e+03   0.00000000e+00]\n",
        " [  2.27105426e-01   6.60000000e+02]]\n",
        "1 660.0 [  0 662] [ 0.00104055  0.0064796 ]\n",
        "2 [[  1.69846382e+00   0.00000000e+00]\n",
        " [  3.03391514e-02   6.62000000e+02]]\n",
        "la [[ 1632.26971221     0.        ]\n",
        " [    4.68225811   662.        ]]\n",
        "1 662.0 [  0 663] [ 0.00100965  0.14547701]\n",
        "2 [[  1.61641510e+00   0.00000000e+00]\n",
        " [  3.11571223e-02   6.63000000e+02]]\n",
        "la [[  1.60097350e+03   0.00000000e+00]\n",
        " [  2.14172133e-01   6.63000000e+02]]\n",
        "1 663.0 [  0 664] [ 0.00099195  0.14767878]\n",
        "2 [[  1.53436639e+00   0.00000000e+00]\n",
        " [  4.55838507e-02   6.64000000e+02]]\n",
        "la [[  1.54681304e+03   0.00000000e+00]\n",
        " [  3.08668926e-01   6.64000000e+02]]\n",
        "1 664.0 [  0 664] [ 0.00100061  0.00624995]\n",
        "2 [[  1.45231768e+00   0.00000000e+00]\n",
        " [  3.64648631e-02   6.64000000e+02]]\n",
        "la [[ 1451.4367737      0.        ]\n",
        " [    5.83442251   664.        ]]\n",
        "1 664.0 [  0 665] [ 0.00100061  0.14875815]\n",
        "2 [[  1.37026896e+00   0.00000000e+00]\n",
        " [  2.25875772e-02   6.65000000e+02]]\n",
        "la [[  1.36943783e+03   0.00000000e+00]\n",
        " [  1.51840939e-01   6.65000000e+02]]\n",
        "1 665.0 [  0 667] [ 0.00098424  0.00656326]\n",
        "2 [[  1.28822025e+00   0.00000000e+00]\n",
        " [  3.08568389e-02   6.67000000e+02]]\n",
        "la [[ 1308.84123193     0.        ]\n",
        " [    4.70144735   667.        ]]\n",
        "1 667.0 [  0 668] [ 0.00095937  0.14905246]\n",
        "2 [[  1.20617154e+00   0.00000000e+00]\n",
        " [  2.18341945e-02   6.68000000e+02]]\n",
        "la [[  1.25725023e+03   0.00000000e+00]\n",
        " [  1.46486641e-01   6.68000000e+02]]\n",
        "1 668.0 [  0 668] [ 0.00095122  0.00660419]\n",
        "2 [[  1.12412282e+00   0.00000000e+00]\n",
        " [  6.02145193e-02   6.68000000e+02]]\n",
        "la [[ 1181.76694111     0.        ]\n",
        " [    9.11762824   668.        ]]\n",
        "1 668.0 [  0 669] [ 0.00095122  0.15178111]\n",
        "2 [[  1.04207411e+00   0.00000000e+00]\n",
        " [  1.74685672e-03   6.69000000e+02]]\n",
        "la [[  1.09551083e+03   0.00000000e+00]\n",
        " [  1.15090523e-02   6.69000000e+02]]\n",
        "1 669.0 [  0 670] [ 0.00094354  0.15372706]\n",
        "2 [[  9.60025394e-01   0.00000000e+00]\n",
        " [  6.50467365e-02   6.70000000e+02]]\n",
        "la [[  1.01746725e+03   0.00000000e+00]\n",
        " [  4.23131325e-01   6.70000000e+02]]\n",
        "1 670.0 [  0 670] [ 0.00095578  0.00698906]\n",
        "2 [[  8.77976680e-01   0.00000000e+00]\n",
        " [  1.70019773e-02   6.70000000e+02]]\n",
        "la [[ 918.59519852    0.        ]\n",
        " [   2.43265648  670.        ]]\n",
        "1 670.0 [  0 671] [ 0.00095578  0.15304172]\n",
        "2 [[  7.95927966e-01   0.00000000e+00]\n",
        " [  6.27113668e-03   6.71000000e+02]]\n",
        "la [[  8.32750601e+02   0.00000000e+00]\n",
        " [  4.09766488e-02   6.71000000e+02]]\n",
        "1 671.0 [  0 672] [ 0.00096129  0.15112302]\n",
        "2 [[  7.13879252e-01   0.00000000e+00]\n",
        " [  2.01432491e-02   6.72000000e+02]]\n",
        "la [[  7.42629129e+02   0.00000000e+00]\n",
        " [  1.33290408e-01   6.72000000e+02]]\n",
        "1 672.0 [  0 673] [ 0.00098102  0.14981524]\n",
        "2 [[  6.31830539e-01   0.00000000e+00]\n",
        " [  1.45743607e-02   6.73000000e+02]]\n",
        "la [[  6.44056117e+02   0.00000000e+00]\n",
        " [  9.72822317e-02   6.73000000e+02]]\n",
        "1 673.0 [  0 674] [ 0.00096559  0.14863414]\n",
        "2 [[  5.49781825e-01   0.00000000e+00]\n",
        " [  2.70611192e-02   6.74000000e+02]]\n",
        "la [[  5.69375261e+02   0.00000000e+00]\n",
        " [  1.82065297e-01   6.74000000e+02]]\n",
        "1 674.0 [  0 675] [ 0.00095526  0.14707657]\n",
        "2 [[  4.67733111e-01   0.00000000e+00]\n",
        " [  1.74297351e-02   6.75000000e+02]]\n",
        "la [[  4.89640106e+02   0.00000000e+00]\n",
        " [  1.18507898e-01   6.75000000e+02]]\n",
        "1 675.0 [  0 677] [ 0.00094949  0.00725737]\n",
        "2 [[  3.85684397e-01   0.00000000e+00]\n",
        " [  4.60663996e-02   6.77000000e+02]]\n",
        "la [[ 406.20003997    0.        ]\n",
        " [   6.34753466  677.        ]]\n",
        "1 677.0 [  0 677] [ 0.00093708  0.00726726]\n",
        "2 [[  3.03635683e-01   0.00000000e+00]\n",
        " [  3.59823142e-02   6.77000000e+02]]\n",
        "la [[ 324.02361895    0.        ]\n",
        " [   4.95128991  677.        ]]\n",
        "1 677.0 [  0 678] [ 0.00093708  0.14911556]\n",
        "2 [[  2.21586970e-01   0.00000000e+00]\n",
        " [  3.16520916e-02   6.78000000e+02]]\n",
        "la [[  2.36465658e+02   0.00000000e+00]\n",
        " [  2.12265523e-01   6.78000000e+02]]\n",
        "1 678.0 [  0 679] [ 0.00092056  0.14995952]\n",
        "2 [[  1.39538256e-01   0.00000000e+00]\n",
        " [  4.31357897e-02   6.79000000e+02]]\n",
        "la [[  1.51580106e+02   0.00000000e+00]\n",
        " [  2.87649555e-01   6.79000000e+02]]\n",
        "1 679.0 [  0 680] [ 0.00092597  0.15016442]\n",
        "2 [[  5.74895421e-02   0.00000000e+00]\n",
        " [  1.83884218e-02   6.80000000e+02]]\n",
        "la [[  6.20859809e+01   0.00000000e+00]\n",
        " [  1.22455254e-01   6.80000000e+02]]\n",
        "1 680.0 [  0 681] [ 0.00091939  0.15046133]\n",
        "2 [[  2.45591717e-02   0.00000000e+00]\n",
        " [  8.37168153e-03   6.81000000e+02]]\n",
        "la [[  2.67124244e+01   0.00000000e+00]\n",
        " [  5.56400860e-02   6.81000000e+02]]\n",
        "1 681.0 [  1 682] [ 0.00091154  0.15119606]\n",
        "2 [[  2.50955408e-02   1.00000000e+00]\n",
        " [  5.49853224e-03   6.82000000e+02]]\n",
        "la [[  2.75310489e+01   1.00000000e+00]\n",
        " [  3.63669020e-02   6.82000000e+02]]\n",
        "1 682.0 [  2 683] [ 0.0008905   0.15156949]\n",
        "2 [[  2.11497412e-02   2.00000000e+00]\n",
        " [  4.28748348e-02   6.83000000e+02]]\n",
        "la [[  2.37504257e+01   2.00000000e+00]\n",
        " [  2.82872458e-01   6.83000000e+02]]\n",
        "1 683.0 [  3 684] [ 0.00086764  0.15069348]\n",
        "2 [[  1.67849281e-02   3.00000000e+00]\n",
        " [  8.35720702e-03   6.84000000e+02]]\n",
        "la [[  1.93454317e+01   3.00000000e+00]\n",
        " [  5.54583201e-02   6.84000000e+02]]\n",
        "1 684.0 [  4 685] [ 0.00085867  0.14942271]\n",
        "2 [[  1.37545656e-02   4.00000000e+00]\n",
        " [  9.61670180e-03   6.85000000e+02]]\n",
        "la [[  1.60183712e+01   4.00000000e+00]\n",
        " [  6.43590396e-02   6.85000000e+02]]\n",
        "1 685.0 [  5 686] [ 0.00086909  0.14913542]\n",
        "2 [[  1.65135438e-02   5.00000000e+00]\n",
        " [  2.88837955e-03   6.86000000e+02]]\n",
        "la [[  1.90009813e+01   5.00000000e+00]\n",
        " [  1.93674948e-02   6.86000000e+02]]\n",
        "1 686.0 [  6 687] [ 0.00088347  0.15013859]\n",
        "2 [[  8.35294818e-03   6.00000000e+00]\n",
        " [  1.08349889e-02   6.87000000e+02]]\n",
        "la [[  9.45473922e+00   6.00000000e+00]\n",
        " [  7.21665838e-02   6.87000000e+02]]\n",
        "1 687.0 [  7 688] [ 0.00088393  0.15216035]\n",
        "2 [[  4.67302063e-03   7.00000000e+00]\n",
        " [  1.32990852e-02   6.88000000e+02]]\n",
        "la [[  5.28666335e+00   7.00000000e+00]\n",
        " [  8.74017768e-02   6.88000000e+02]]\n",
        "1 688.0 [  8 689] [ 0.00087344  0.15443169]\n",
        "2 [[  1.94047876e-03   8.00000000e+00]\n",
        " [  9.94009324e-03   6.89000000e+02]]\n",
        "la [[  2.22165817e+00   8.00000000e+00]\n",
        " [  6.43656304e-02   6.89000000e+02]]\n",
        "1 689.0 [  9 690] [ 0.00086435  0.15559838]\n",
        "2 [[  4.78739731e-03   9.00000000e+00]\n",
        " [  2.45609138e-04   6.90000000e+02]]\n",
        "la [[  5.53871090e+00   9.00000000e+00]\n",
        " [  1.57848137e-03   6.90000000e+02]]\n",
        "1 690.0 [ 10 691] [ 0.00085658  0.15503801]\n",
        "2 [[  8.01651709e-03   1.00000000e+01]\n",
        " [  2.28219715e-02   6.91000000e+02]]\n",
        "la [[  9.35869845e+00   1.00000000e+01]\n",
        " [  1.47202430e-01   6.91000000e+02]]\n",
        "1 691.0 [ 11 692] [ 0.00083927  0.15346455]\n",
        "2 [[  9.07241972e-03   1.10000000e+01]\n",
        " [  1.87388566e-02   6.92000000e+02]]\n",
        "la [[  1.08099377e+01   1.10000000e+01]\n",
        " [  1.22105443e-01   6.92000000e+02]]\n",
        "1 692.0 [ 12 693] [ 0.0008126   0.15149934]\n",
        "2 [[  1.54548582e-02   1.20000000e+01]\n",
        " [  3.97020494e-02   6.93000000e+02]]\n",
        "la [[  1.90190201e+01   1.20000000e+01]\n",
        " [  2.62060879e-01   6.93000000e+02]]\n",
        "1 693.0 [ 13 694] [ 0.00079192  0.14895323]\n",
        "2 [[  1.24986588e-02   1.30000000e+01]\n",
        " [  1.39845729e-02   6.94000000e+02]]\n",
        "la [[  1.57827463e+01   1.30000000e+01]\n",
        " [  9.38856655e-02   6.94000000e+02]]\n",
        "1 694.0 [ 14 695] [ 0.00078797  0.14585782]\n",
        "2 [[  1.46066176e-02   1.40000000e+01]\n",
        " [  3.89582451e-05   6.95000000e+02]]\n",
        "la [[  1.85371090e+01   1.40000000e+01]\n",
        " [  2.67097413e-04   6.95000000e+02]]\n",
        "1 695.0 [ 15 696] [ 0.000803   0.1430275]\n",
        "2 [[  1.83122940e-02   1.50000000e+01]\n",
        " [  1.33326112e-03   6.96000000e+02]]\n",
        "la [[  2.28048722e+01   1.50000000e+01]\n",
        " [  9.32171205e-03   6.96000000e+02]]\n",
        "1 696.0 [ 16 697] [ 0.00084729  0.14156219]\n",
        "2 [[  2.00311533e-02   1.60000000e+01]\n",
        " [  1.66755139e-02   6.97000000e+02]]\n",
        "la [[  2.36414366e+01   1.60000000e+01]\n",
        " [  1.17796385e-01   6.97000000e+02]]\n",
        "1 697.0 [ 17 698] [ 0.00093058  0.14202677]\n",
        "2 [[  1.22588453e-02   1.70000000e+01]\n",
        " [  2.17535622e-02   6.98000000e+02]]\n",
        "la [[  1.31733464e+01   1.70000000e+01]\n",
        " [  1.53165228e-01   6.98000000e+02]]\n",
        "1 698.0 [ 18 699] [ 0.00101791  0.14369092]\n",
        "2 [[  3.81968009e-02   1.80000000e+01]\n",
        " [  3.41765718e-02   6.99000000e+02]]\n",
        "la [[  3.75247630e+01   1.80000000e+01]\n",
        " [  2.37847822e-01   6.99000000e+02]]\n",
        "1 699.0 [ 18 700] [ 0.00102783  0.14479002]\n",
        "2 [[  4.38519128e-02   1.80000000e+01]\n",
        " [  2.56415968e-02   7.00000000e+02]]\n",
        "la [[  4.26643593e+01   1.80000000e+01]\n",
        " [  1.77095055e-01   7.00000000e+02]]\n",
        "1 700.0 [ 20 701] [ 0.00101395  0.14429154]\n",
        "2 [[  1.87964939e-02   2.00000000e+01]\n",
        " [  2.05698960e-02   7.01000000e+02]]\n",
        "la [[  1.85379428e+01   2.00000000e+01]\n",
        " [  1.42557884e-01   7.01000000e+02]]\n",
        "1 701.0 [ 21 702] [ 0.00098701  0.14236501]\n",
        "2 [[  1.19987917e-02   2.10000000e+01]\n",
        " [  1.56924591e-02   7.02000000e+02]]\n",
        "la [[  1.21567491e+01   2.10000000e+01]\n",
        " [  1.10226938e-01   7.02000000e+02]]\n",
        "1 702.0 [ 22 703] [ 0.0010106   0.13956803]\n",
        "2 [[  7.64912994e-03   2.20000000e+01]\n",
        " [  2.75887637e-02   7.03000000e+02]]\n",
        "la [[  7.56892994e+00   2.20000000e+01]\n",
        " [  1.97672519e-01   7.03000000e+02]]\n",
        "1 703.0 [ 23 704] [ 0.00106839  0.13684039]\n",
        "2 [[  1.69212000e-02   2.30000000e+01]\n",
        " [  5.32283477e-02   7.04000000e+02]]\n",
        "la [[  1.58380902e+01   2.30000000e+01]\n",
        " [  3.88981249e-01   7.04000000e+02]]\n",
        "1 704.0 [ 24 704] [ 0.0010856   0.00736364]\n",
        "2 [[  2.04365934e-02   2.40000000e+01]\n",
        " [  2.88203661e-02   7.04000000e+02]]\n",
        "la [[  18.82508863   24.        ]\n",
        " [   3.91387419  704.        ]]\n",
        "1 704.0 [ 25 705] [ 0.00105199  0.13489944]\n",
        "2 [[  1.71219861e-02   2.50000000e+01]\n",
        " [  2.76953492e-02   7.05000000e+02]]\n",
        "la [[  1.62758791e+01   2.50000000e+01]\n",
        " [  2.05303656e-01   7.05000000e+02]]\n",
        "1 705.0 [ 26 706] [ 0.00100229  0.1333927 ]\n",
        "2 [[  7.60845443e-03   2.60000000e+01]\n",
        " [  3.75704190e-02   7.06000000e+02]]\n",
        "la [[  7.59107026e+00   2.60000000e+01]\n",
        " [  2.81652743e-01   7.06000000e+02]]\n",
        "1 706.0 [ 27 707]"
       ]
      },
      {
       "output_type": "stream",
       "stream": "stdout",
       "text": [
        " [ 0.00097562  0.13135049]\n",
        "2 [[  5.61868267e-03   2.70000000e+01]\n",
        " [  1.36220138e-02   7.07000000e+02]]\n",
        "la [[  5.75910236e+00   2.70000000e+01]\n",
        " [  1.03707370e-01   7.07000000e+02]]\n",
        "1 707.0 [ 28 708] [ 0.00097792  0.12878413]\n",
        "2 [[  8.33972254e-03   2.80000000e+01]\n",
        " [  1.26419320e-02   7.08000000e+02]]\n",
        "la [[  8.52802060e+00   2.80000000e+01]\n",
        " [  9.81637446e-02   7.08000000e+02]]\n",
        "1 708.0 [ 29 709] [ 0.00099234  0.12683508]\n",
        "2 [[  4.70915510e-03   2.90000000e+01]\n",
        " [  1.28050480e-02   7.09000000e+02]]\n",
        "la [[  4.74548703e+00   2.90000000e+01]\n",
        " [  1.00958253e-01   7.09000000e+02]]\n",
        "1 709.0 [ 30 710] [ 0.00100213  0.12546948]\n",
        "2 [[  2.30966652e-03   3.00000000e+01]\n",
        " [  3.34132488e-02   7.10000000e+02]]\n",
        "la [[  2.30475099e+00   3.00000000e+01]\n",
        " [  2.66305779e-01   7.10000000e+02]]\n",
        "1 710.0 [ 31 711] [ 0.00100761  0.12451541]\n",
        "2 [[  4.33393274e-03   3.10000000e+01]\n",
        " [  2.41060904e-02   7.11000000e+02]]\n",
        "la [[  4.30122080e+00   3.10000000e+01]\n",
        " [  1.93599260e-01   7.11000000e+02]]\n",
        "1 711.0 [ 32 712] [ 0.00101282  0.12546515]\n",
        "2 [[  6.04011049e-03   3.20000000e+01]\n",
        " [  3.43315529e-02   7.12000000e+02]]\n",
        "la [[  5.96365769e+00   3.20000000e+01]\n",
        " [  2.73634172e-01   7.12000000e+02]]\n",
        "1 712.0 [ 33 712] [ 0.00101292  0.00786223]\n",
        "2 [[  1.15584909e-02   3.30000000e+01]\n",
        " [  4.77171609e-02   7.12000000e+02]]\n",
        "la [[  11.41109277   33.        ]\n",
        " [   6.06916534  712.        ]]\n",
        "1 712.0 [ 34 713] [ 0.0009893   0.12859033]\n",
        "2 [[  1.67380378e-02   3.40000000e+01]\n",
        " [  3.22073800e-02   7.13000000e+02]]\n",
        "la [[  1.69190873e+01   3.40000000e+01]\n",
        " [  2.50465027e-01   7.13000000e+02]]\n",
        "1 713.0 [ 35 714] [ 0.00096895  0.13233597]\n",
        "2 [[  2.13077570e-02   3.50000000e+01]\n",
        " [  1.83351660e-02   7.14000000e+02]]\n",
        "la [[  2.19905863e+01   3.50000000e+01]\n",
        " [  1.38550136e-01   7.14000000e+02]]\n",
        "1 714.0 [ 36 715] [ 0.00096966  0.1356863 ]\n",
        "2 [[  1.74832412e-02   3.60000000e+01]\n",
        " [  8.85459037e-03   7.15000000e+02]]\n",
        "la [[  1.80301946e+01   3.60000000e+01]\n",
        " [  6.52578070e-02   7.15000000e+02]]\n",
        "1 715.0 [ 37 716] [ 0.0009941  0.1383839]\n",
        "2 [[  1.51678390e-02   3.70000000e+01]\n",
        " [  1.20241002e-02   7.16000000e+02]]\n",
        "la [[  1.52578579e+01   3.70000000e+01]\n",
        " [  8.68894444e-02   7.16000000e+02]]\n",
        "1 716.0 [ 38 717] [ 0.00102974  0.14037984]\n",
        "2 [[  1.71285216e-02   3.80000000e+01]\n",
        " [  6.84547078e-03   7.17000000e+02]]\n",
        "la [[  1.66338915e+01   3.80000000e+01]\n",
        " [  4.87639164e-02   7.17000000e+02]]\n",
        "1 717.0 [ 39 718] [ 0.00105546  0.14139458]\n",
        "2 [[  1.56471587e-02   3.90000000e+01]\n",
        " [  1.07588099e-02   7.18000000e+02]]\n",
        "la [[  1.48250198e+01   3.90000000e+01]\n",
        " [  7.60906817e-02   7.18000000e+02]]\n",
        "1 718.0 [ 40 719] [ 0.00105978  0.14099947]\n",
        "2 [[  1.47891846e-02   4.00000000e+01]\n",
        " [  2.32012389e-02   7.19000000e+02]]\n",
        "la [[  1.39549564e+01   4.00000000e+01]\n",
        " [  1.64548414e-01   7.19000000e+02]]\n",
        "1 719.0 [ 41 720] [ 0.0010457   0.13935124]\n",
        "2 [[  1.07335372e-02   4.10000000e+01]\n",
        " [  4.97858034e-03   7.20000000e+02]]\n",
        "la [[  1.02644517e+01   4.10000000e+01]\n",
        " [  3.57268468e-02   7.20000000e+02]]\n",
        "1 720.0 [ 42 721] [ 0.00102287  0.13642865]\n",
        "2 [[  7.66204646e-03   4.20000000e+01]\n",
        " [  6.05662196e-03   7.21000000e+02]]\n",
        "la [[  7.49075453e+00   4.20000000e+01]\n",
        " [  4.43940610e-02   7.21000000e+02]]\n",
        "1 721.0 [ 43 721] [ 0.00100338  0.00522868]\n",
        "2 [[  9.21918258e-03   4.30000000e+01]\n",
        " [  8.81053357e-02   7.21000000e+02]]\n",
        "la [[   9.18813323   43.        ]\n",
        " [  16.8503975   721.        ]]\n",
        "1 43.0 [ 44 722] [ 0.1429866   0.00105334]\n",
        "2 [[  1.06591607e-02   4.40000000e+01]\n",
        " [  3.71211387e-02   7.22000000e+02]]\n",
        "la [[  7.45465726e-02   4.40000000e+01]\n",
        " [  3.52412629e+01   7.22000000e+02]]\n",
        "1 44.0 [ 45 722] [ 0.14219991  0.00105771]\n",
        "2 [[  1.32182613e-02   4.50000000e+01]\n",
        " [  4.49275751e-02   7.22000000e+02]]\n",
        "la [[  9.29554807e-02   4.50000000e+01]\n",
        " [  4.24764285e+01   7.22000000e+02]]\n",
        "1 45.0 [ 46 723] [ 0.13990951  0.00106862]\n",
        "2 [[  1.15170284e-02   4.60000000e+01]\n",
        " [  3.31175574e-02   7.23000000e+02]]\n",
        "la [[  8.23176942e-02   4.60000000e+01]\n",
        " [  3.09908659e+01   7.23000000e+02]]\n",
        "1 46.0 [ 47 724] [ 0.13775927  0.00104155]\n",
        "2 [[  2.19194287e-02   4.70000000e+01]\n",
        " [  2.78060899e-02   7.24000000e+02]]\n",
        "la [[  1.59114000e-01   4.70000000e+01]\n",
        " [  2.66967232e+01   7.24000000e+02]]\n",
        "1 47.0 [ 48 725] [ 0.1364565   0.00099957]\n",
        "2 [[  2.65095258e-02   4.80000000e+01]\n",
        " [  1.03904271e-02   7.25000000e+02]]\n",
        "la [[  1.94270886e-01   4.80000000e+01]\n",
        " [  1.03948766e+01   7.25000000e+02]]\n",
        "1 48.0 [ 49 726] [ 0.13580061  0.00097492]\n",
        "2 [[  2.90981703e-02   4.90000000e+01]\n",
        " [  7.17789943e-03   7.26000000e+02]]\n",
        "la [[  2.14271281e-01   4.90000000e+01]\n",
        " [  7.36255803e+00   7.26000000e+02]]\n",
        "1 49.0 [ 50 727] [ 0.13617066  0.0009774 ]\n",
        "2 [[  3.10200048e-02   5.00000000e+01]\n",
        " [  8.37041461e-03   7.27000000e+02]]\n",
        "la [[  2.27802419e-01   5.00000000e+01]\n",
        " [  8.56398176e+00   7.27000000e+02]]\n",
        "1 50.0 [ 51 728] [ 0.13811729  0.00099446]\n",
        "2 [[  3.16580018e-02   5.10000000e+01]\n",
        " [  1.28022444e-02   7.28000000e+02]]\n",
        "la [[  2.29210996e-01   5.10000000e+01]\n",
        " [  1.28735804e+01   7.28000000e+02]]\n",
        "1 51.0 [ 52 729] [ 0.14067885  0.00100105]\n",
        "2 [[  3.41005571e-02   5.20000000e+01]\n",
        " [  2.84866648e-02   7.29000000e+02]]\n",
        "la [[  2.42400035e-01   5.20000000e+01]\n",
        " [  2.84568334e+01   7.29000000e+02]]\n",
        "1 52.0 [ 53 730] [ 0.14160148  0.00098862]\n",
        "2 [[  3.68585373e-02   5.30000000e+01]\n",
        " [  4.02526126e-02   7.30000000e+02]]\n",
        "la [[  2.60297691e-01   5.30000000e+01]\n",
        " [  4.07157936e+01   7.30000000e+02]]\n",
        "1 53.0 [ 54 730] [ 0.13996579  0.00099901]\n",
        "2 [[  3.73855187e-02   5.40000000e+01]\n",
        " [  4.17961012e-02   7.30000000e+02]]\n",
        "la [[  2.67104684e-01   5.40000000e+01]\n",
        " [  4.18373952e+01   7.30000000e+02]]\n",
        "1 54.0 [ 56 731] [ 0.00630903  0.00099064]\n",
        "2 [[  3.82088129e-02   5.60000000e+01]\n",
        " [  2.25035054e-02   7.31000000e+02]]\n",
        "la [[   6.05620791   56.        ]\n",
        " [  22.71601631  731.        ]]\n",
        "1 56.0 [ 57 732] [ 0.13821999  0.00102214]\n",
        "2 [[  3.33530524e-02   5.70000000e+01]\n",
        " [  1.74457128e-02   7.32000000e+02]]\n",
        "la [[  2.41304111e-01   5.70000000e+01]\n",
        " [  1.70678254e+01   7.32000000e+02]]\n",
        "1 57.0 [ 58 733] [ 0.14002853  0.0010448 ]\n",
        "2 [[  2.45863650e-02   5.80000000e+01]\n",
        " [  1.32748266e-02   7.33000000e+02]]\n",
        "la [[  1.75581111e-01   5.80000000e+01]\n",
        " [  1.27056475e+01   7.33000000e+02]]\n",
        "1 58.0 [ 59 734] [ 0.1415302   0.00107422]\n",
        "2 [[  1.71693750e-02   5.90000000e+01]\n",
        " [  2.19911080e-03   7.34000000e+02]]\n",
        "la [[  1.21312449e-01   5.90000000e+01]\n",
        " [  2.04716910e+00   7.34000000e+02]]\n",
        "1 59.0 [ 60 735] [ 0.14171892  0.00110136]\n",
        "2 [[  3.84111788e-03   6.00000000e+01]\n",
        " [  6.19056686e-03   7.35000000e+02]]\n",
        "la [[  2.71037757e-02   6.00000000e+01]\n",
        " [  5.62086379e+00   7.35000000e+02]]\n",
        "1 60.0 [ 61 736] [ 0.14009272  0.00111776]\n",
        "2 [[  4.79753529e-03   6.10000000e+01]\n",
        " [  3.08950761e-03   7.36000000e+02]]\n",
        "la [[  3.42454290e-02   6.10000000e+01]\n",
        " [  2.76401443e+00   7.36000000e+02]]\n",
        "1 61.0 [ 62 737] [ 0.13694963  0.00112422]\n",
        "2 [[  1.93687242e-02   6.20000000e+01]\n",
        " [  1.38685557e-03   7.37000000e+02]]\n",
        "la [[  1.41429546e-01   6.20000000e+01]\n",
        " [  1.23361692e+00   7.37000000e+02]]\n",
        "1 62.0 [ 64 738] [ 0.00743226  0.00112666]\n",
        "2 [[  3.45444381e-02   6.40000000e+01]\n",
        " [  1.24343761e-02   7.38000000e+02]]\n",
        "la [[   4.6479059    64.        ]\n",
        " [  11.03654172  738.        ]]\n",
        "1 64.0 [ 65 740] [ 0.13276952  0.00111312]\n",
        "2 [[  2.61074880e-02   6.50000000e+01]\n",
        " [  1.00563460e-03   7.40000000e+02]]\n",
        "la [[  1.96637669e-01   6.50000000e+01]\n",
        " [  9.03434487e-01   7.40000000e+02]]\n",
        "1 65.0 [ 66 741] [ 0.13652231  0.00109356]\n",
        "2 [[  1.51345275e-02   6.60000000e+01]\n",
        " [  1.79956060e-02   7.41000000e+02]]\n",
        "la [[  1.10857539e-01   6.60000000e+01]\n",
        " [  1.64559314e+01   7.41000000e+02]]\n",
        "1 66.0 [ 67 742] [ 0.14012633  0.00109148]\n",
        "2 [[  6.05424646e-03   6.70000000e+01]\n",
        " [  4.44363363e-02   7.42000000e+02]]\n",
        "la [[  4.32056312e-02   6.70000000e+01]\n",
        " [  4.07118681e+01   7.42000000e+02]]\n",
        "1 67.0 [ 68 742] [ 0.14214168  0.00110775]\n",
        "2 [[  1.55392263e-03   6.80000000e+01]\n",
        " [  3.76123775e-02   7.42000000e+02]]\n",
        "la [[  1.09322093e-02   6.80000000e+01]\n",
        " [  3.39539313e+01   7.42000000e+02]]\n",
        "1 68.0 [ 69 743] [ 0.14177437  0.00111283]\n",
        "2 [[  9.86916788e-03   6.90000000e+01]\n",
        " [  1.59146876e-02   7.43000000e+02]]\n",
        "la [[  6.96117936e-02   6.90000000e+01]\n",
        " [  1.43010824e+01   7.43000000e+02]]\n",
        "1 69.0 [ 70 744] [ 0.13893158  0.00108849]\n",
        "2 [[  1.40015731e-02   7.00000000e+01]\n",
        " [  3.18252131e-02   7.44000000e+02]]\n",
        "la [[  1.00780345e-01   7.00000000e+01]\n",
        " [  2.92378184e+01   7.44000000e+02]]\n",
        "1 70.0 [ 71 744] [ 0.13571852  0.00109889]\n",
        "2 [[  1.03043536e-02   7.10000000e+01]\n",
        " [  5.02235007e-02   7.44000000e+02]]\n",
        "la [[  7.59244470e-02   7.10000000e+01]\n",
        " [  4.57037806e+01   7.44000000e+02]]\n",
        "1 71.0 [ 72 745] [ 0.1350262   0.00103375]\n",
        "2 [[  4.38829797e-03   7.20000000e+01]\n",
        " [  1.16247446e-02   7.45000000e+02]]\n",
        "la [[  3.24996034e-02   7.20000000e+01]\n",
        " [  1.12451773e+01   7.45000000e+02]]\n",
        "1 72.0 [ 73 746] [ 0.13805123  0.00095312]\n",
        "2 [[  5.20271494e-03   7.30000000e+01]\n",
        " [  3.85422706e-03   7.46000000e+02]]\n",
        "la [[  3.76868412e-02   7.30000000e+01]\n",
        " [  4.04379132e+00   7.46000000e+02]]\n",
        "1 73.0 [ 74 747] [ 0.1435247   0.00089422]\n",
        "2 [[  5.17486948e-03   7.40000000e+01]\n",
        " [  1.19944556e-02   7.47000000e+02]]\n",
        "la [[  3.60556018e-02   7.40000000e+01]\n",
        " [  1.34133671e+01   7.47000000e+02]]\n",
        "1 74.0 [ 75 748] [ 0.14860149  0.00087492]\n",
        "2 [[  2.16175290e-03   7.50000000e+01]\n",
        " [  9.28876830e-03   7.48000000e+02]]\n",
        "la [[  1.45473162e-02   7.50000000e+01]\n",
        " [  1.06166762e+01   7.48000000e+02]]\n",
        "1 75.0 [ 76 749] [ 0.15147617  0.00088971]\n",
        "2 [[  1.68939411e-03   7.60000000e+01]\n",
        " [  1.34253047e-03   7.49000000e+02]]\n",
        "la [[  1.11528706e-02   7.60000000e+01]\n",
        " [  1.50895100e+00   7.49000000e+02]]\n",
        "1 76.0 [ 77 750] [ 0.15263016  0.00091941]\n",
        "2 [[  1.10753162e-03   7.70000000e+01]\n",
        " [  6.78160052e-03   7.50000000e+02]]\n",
        "la [[  7.25630904e-03   7.70000000e+01]\n",
        " [  7.37603741e+00   7.50000000e+02]]\n",
        "1 77.0 [ 78 751] [ 0.15260056  0.00094097]"
       ]
      },
      {
       "output_type": "stream",
       "stream": "stdout",
       "text": [
        "\n",
        "2 [[  4.53385514e-03   7.80000000e+01]\n",
        " [  1.01024872e-02   7.51000000e+02]]\n",
        "la [[  2.97106064e-02   7.80000000e+01]\n",
        " [  1.07362459e+01   7.51000000e+02]]\n",
        "1 78.0 [ 79 752] [ 0.1507979   0.00094765]\n",
        "2 [[  9.99644127e-03   7.90000000e+01]\n",
        " [  6.54307901e-03   7.52000000e+02]]\n",
        "la [[  6.62903234e-02   7.90000000e+01]\n",
        " [  6.90454942e+00   7.52000000e+02]]\n",
        "1 79.0 [ 80 753] [ 0.14788099  0.00095649]\n",
        "2 [[  1.57049265e-02   8.00000000e+01]\n",
        " [  4.73189384e-03   7.53000000e+02]]\n",
        "la [[  1.06199769e-01   8.00000000e+01]\n",
        " [  4.94713537e+00   7.53000000e+02]]\n",
        "1 80.0 [ 81 754] [ 0.1464027   0.00097496]\n",
        "2 [[  2.23647982e-02   8.10000000e+01]\n",
        " [  1.31911438e-02   7.54000000e+02]]\n",
        "la [[  1.52762196e-01   8.10000000e+01]\n",
        " [  1.35299038e+01   7.54000000e+02]]\n",
        "1 81.0 [ 82 755] [ 0.14748224  0.00098725]\n",
        "2 [[  2.74303477e-02   8.20000000e+01]\n",
        " [  1.50509036e-02   7.55000000e+02]]\n",
        "la [[  1.85990850e-01   8.20000000e+01]\n",
        " [  1.52452543e+01   7.55000000e+02]]\n",
        "1 82.0 [ 83 756] [ 0.14944115  0.00098723]\n",
        "2 [[  2.98105426e-02   8.30000000e+01]\n",
        " [  1.29972490e-02   7.56000000e+02]]\n",
        "la [[  1.99480147e-01   8.30000000e+01]\n",
        " [  1.31653861e+01   7.56000000e+02]]\n",
        "1 83.0 [ 84 757] [ 0.14966448  0.00098793]\n",
        "2 [[  3.53341450e-02   8.40000000e+01]\n",
        " [  1.08456586e-02   7.57000000e+02]]\n",
        "la [[  2.36089044e-01   8.40000000e+01]\n",
        " [  1.09781376e+01   7.57000000e+02]]\n",
        "1 84.0 [ 85 758] [ 0.14649921  0.00099736]\n",
        "2 [[  3.79320097e-02   8.50000000e+01]\n",
        " [  2.64452486e-02   7.58000000e+02]]\n",
        "la [[  2.58922969e-01   8.50000000e+01]\n",
        " [  2.65151718e+01   7.58000000e+02]]\n",
        "1 85.0 [ 86 759] [ 0.14130974  0.00101114]\n",
        "2 [[  3.14849059e-02   8.60000000e+01]\n",
        " [  1.20065691e-02   7.59000000e+02]]\n",
        "la [[  2.22807754e-01   8.60000000e+01]\n",
        " [  1.18742972e+01   7.59000000e+02]]\n",
        "1 86.0 [ 87 760] [ 0.13804039  0.00102565]\n",
        "2 [[  3.75457352e-02   8.70000000e+01]\n",
        " [  6.38370648e-03   7.60000000e+02]]\n",
        "la [[  2.71990935e-01   8.70000000e+01]\n",
        " [  6.22405498e+00   7.60000000e+02]]\n",
        "1 87.0 [ 89 761] [ 0.00817622  0.00103923]\n",
        "2 [[  2.01964227e-02   8.90000000e+01]\n",
        " [  2.27378097e-02   7.61000000e+02]]\n",
        "la [[   2.47014307   89.        ]\n",
        " [  21.87958262  761.        ]]\n",
        "1 89.0 [ 90 762] [ 0.15582986  0.00103131]\n",
        "2 [[  1.88203419e-02   9.00000000e+01]\n",
        " [  3.55410693e-02   7.62000000e+02]]\n",
        "la [[  1.20774940e-01   9.00000000e+01]\n",
        " [  3.44622054e+01   7.62000000e+02]]\n",
        "1 90.0 [ 91 763] [ 0.1593762   0.00102504]\n",
        "2 [[  1.21055824e-02   9.10000000e+01]\n",
        " [  3.04656559e-02   7.63000000e+02]]\n",
        "la [[  7.59560252e-02   9.10000000e+01]\n",
        " [  2.97215589e+01   7.63000000e+02]]\n",
        "1 91.0 [ 92 763] [ 0.15660271  0.00102772]\n",
        "2 [[  3.53566142e-03   9.20000000e+01]\n",
        " [  5.15830579e-02   7.63000000e+02]]\n",
        "la [[  2.25772682e-02   9.20000000e+01]\n",
        " [  5.01918023e+01   7.63000000e+02]]\n",
        "1 92.0 [ 93 764] [ 0.15164462  0.00102961]\n",
        "2 [[  5.92795479e-03   9.30000000e+01]\n",
        " [  2.42377853e-02   7.64000000e+02]]\n",
        "la [[  3.90910981e-02   9.30000000e+01]\n",
        " [  2.35408561e+01   7.64000000e+02]]\n",
        "1 93.0 [ 94 765] [ 0.14850063  0.00101685]\n",
        "2 [[  1.67581799e-02   9.40000000e+01]\n",
        " [  1.71852030e-04   7.65000000e+02]]\n",
        "la [[  1.12849215e-01   9.40000000e+01]\n",
        " [  1.69004674e-01   7.65000000e+02]]\n",
        "1 94.0 [ 95 766] [ 0.14803824  0.00098013]\n",
        "2 [[  2.14307077e-02   9.50000000e+01]\n",
        " [  9.68182488e-03   7.66000000e+02]]\n",
        "la [[  1.44764680e-01   9.50000000e+01]\n",
        " [  9.87811680e+00   7.66000000e+02]]\n",
        "1 95.0 [ 96 767] [ 0.14899621  0.00093934]\n",
        "2 [[  2.70788792e-02   9.60000000e+01]\n",
        " [  7.48389610e-03   7.67000000e+02]]\n",
        "la [[  1.81742067e-01   9.60000000e+01]\n",
        " [  7.96718433e+00   7.67000000e+02]]\n",
        "1 96.0 [ 97 768] [ 0.15101631  0.00092504]\n",
        "2 [[  3.16922888e-02   9.70000000e+01]\n",
        " [  9.94308241e-03   7.68000000e+02]]\n",
        "la [[  2.09860040e-01   9.70000000e+01]\n",
        " [  1.07488379e+01   7.68000000e+02]]\n",
        "1 97.0 [ 99 768] [ 0.01040343  0.00091768]\n",
        "2 [[  1.05276939e-02   9.90000000e+01]\n",
        " [  7.21056314e-02   7.68000000e+02]]\n",
        "la [[   1.01194428   99.        ]\n",
        " [  78.57417514  768.        ]]\n",
        "1 99.0 [100 768] [ 0.16222889  0.00094222]\n",
        "2 [[  1.89088381e-03   1.00000000e+02]\n",
        " [  1.54154345e-01   7.68000000e+02]]\n",
        "la [[  1.16556539e-02   1.00000000e+02]\n",
        " [  1.63607517e+02   7.68000000e+02]]\n",
        "1 100.0 [101 768] [ 0.16364733  0.00096008]\n",
        "2 [[  6.20423836e-03   1.01000000e+02]\n",
        " [  2.36203059e-01   7.68000000e+02]]\n",
        "la [[  3.79122499e-02   1.01000000e+02]\n",
        " [  2.46025312e+02   7.68000000e+02]]\n",
        "1 101.0 [102 768] [ 0.16297109  0.00095983]\n",
        "2 [[  2.18707441e-02   1.02000000e+02]\n",
        " [  3.18251773e-01   7.68000000e+02]]\n",
        "la [[  1.34200143e-01   1.02000000e+02]\n",
        " [  3.31572283e+02   7.68000000e+02]]\n",
        "1 102.0 [103 768] [ 0.16207179  0.00096489]\n",
        "2 [[  2.81528834e-02   1.03000000e+02]\n",
        " [  4.00300487e-01   7.68000000e+02]]\n",
        "la [[  1.73706254e-01   1.03000000e+02]\n",
        " [  4.14865377e+02   7.68000000e+02]]\n",
        "1 103.0 [104 768] [ 0.16312845  0.00096536]\n",
        "2 [[  3.67300899e-02   1.04000000e+02]\n",
        " [  4.82349200e-01   7.68000000e+02]]\n",
        "la [[  2.25160542e-01   1.04000000e+02]\n",
        " [  4.99656959e+02   7.68000000e+02]]\n",
        "1 104.0 [105 768] [ 0.16649434  0.00095603]\n",
        "2 [[  4.02478429e-02   1.05000000e+02]\n",
        " [  5.64397914e-01   7.68000000e+02]]\n",
        "la [[  2.41737006e-01   1.05000000e+02]\n",
        " [  5.90354476e+02   7.68000000e+02]]\n",
        "1 105.0 [107 768] [ 0.00756949  0.00095143]\n",
        "2 [[  3.80728107e-02   1.07000000e+02]\n",
        " [  6.46446628e-01   7.68000000e+02]]\n",
        "la [[   5.02977203  107.        ]\n",
        " [ 679.44476346  768.        ]]\n",
        "1 107.0 [108 768] [ 0.17593987  0.00094515]\n",
        "2 [[  3.50185147e-02   1.08000000e+02]\n",
        " [  7.28495342e-01   7.68000000e+02]]\n",
        "la [[  1.99036837e-01   1.08000000e+02]\n",
        " [  7.70769413e+02   7.68000000e+02]]\n",
        "1 108.0 [109 768] [ 0.17702696  0.00095474]\n",
        "2 [[  3.29451953e-02   1.09000000e+02]\n",
        " [  8.10544055e-01   7.68000000e+02]]\n",
        "la [[  1.86102700e-01   1.09000000e+02]\n",
        " [  8.48965565e+02   7.68000000e+02]]\n",
        "1 109.0 [110 768] [ 0.17767846  0.00096732]\n",
        "2 [[  3.00896364e-02   1.10000000e+02]\n",
        " [  8.92592769e-01   7.68000000e+02]]\n",
        "la [[  1.69348810e-01   1.10000000e+02]\n",
        " [  9.22749755e+02   7.68000000e+02]]\n",
        "1 110.0 [111 768] [ 0.17811398  0.00095737]\n",
        "2 [[  2.68371925e-02   1.11000000e+02]\n",
        " [  9.74641483e-01   7.68000000e+02]]\n",
        "la [[  1.50674262e-01   1.11000000e+02]\n",
        " [  1.01803985e+03   7.68000000e+02]]\n",
        "1 111.0 [112 768] [ 0.17824371  0.00096653]\n",
        "2 [[  1.67543415e-02   1.12000000e+02]\n",
        " [  1.05669020e+00   7.68000000e+02]]\n",
        "la [[  9.39968198e-02   1.12000000e+02]\n",
        " [  1.09327821e+03   7.68000000e+02]]\n",
        "1 112.0 [113 768] [ 0.17810706  0.00096843]\n",
        "2 [[  1.65656801e-02   1.13000000e+02]\n",
        " [  1.13873891e+00   7.68000000e+02]]\n",
        "la [[  9.30096763e-02   1.13000000e+02]\n",
        " [  1.17586425e+03   7.68000000e+02]]\n",
        "1 113.0 [114 768] [ 0.17824     0.00096575]\n",
        "2 [[  7.31406941e-03   1.14000000e+02]\n",
        " [  1.22078762e+00   7.68000000e+02]]\n",
        "la [[  4.10349493e-02   1.14000000e+02]\n",
        " [  1.26407615e+03   7.68000000e+02]]\n",
        "1 114.0 [115 768] [ 0.17863622  0.00097217]\n",
        "2 [[  1.31993918e-03   1.15000000e+02]\n",
        " [  1.30283634e+00   7.68000000e+02]]\n",
        "la [[  7.38897837e-03   1.15000000e+02]\n",
        " [  1.34013091e+03   7.68000000e+02]]\n",
        "1 115.0 [116 768] [ 0.17850751  0.000988  ]\n",
        "2 [[  5.21957509e-03   1.16000000e+02]\n",
        " [  1.38488505e+00   7.68000000e+02]]\n",
        "la [[  2.92400869e-02   1.16000000e+02]\n",
        " [  1.40170664e+03   7.68000000e+02]]\n",
        "1 116.0 [117 768] [ 0.17775499  0.00099623]\n",
        "2 [[  6.22447627e-03   1.17000000e+02]\n",
        " [  1.46693377e+00   7.68000000e+02]]\n",
        "la [[  3.50171683e-02   1.17000000e+02]\n",
        " [  1.47248350e+03   7.68000000e+02]]\n",
        "1 117.0 [118 768] [ 0.17647212  0.00101546]\n",
        "2 [[  6.74469898e-03   1.18000000e+02]\n",
        " [  1.54898248e+00   7.68000000e+02]]\n",
        "la [[  3.82196294e-02   1.18000000e+02]\n",
        " [  1.52539403e+03   7.68000000e+02]]\n",
        "1 118.0 [119 768] [ 0.1738667   0.00102305]\n",
        "2 [[  1.50667516e-02   1.19000000e+02]\n",
        " [  1.63103119e+00   7.68000000e+02]]\n",
        "la [[  8.66569113e-02   1.19000000e+02]\n",
        " [  1.59428819e+03   7.68000000e+02]]\n",
        "1 119.0 [120 768] [ 0.17067338  0.00102418]\n",
        "2 [[  2.69938527e-02   1.20000000e+02]\n",
        " [  1.71307991e+00   7.68000000e+02]]\n",
        "la [[  1.58160889e-01   1.20000000e+02]\n",
        " [  1.67262877e+03   7.68000000e+02]]\n",
        "1 120.0 [121 768] [ 0.16950133  0.00103362]\n",
        "2 [[  2.83192623e-02   1.21000000e+02]\n",
        " [  1.79512862e+00   7.68000000e+02]]\n",
        "la [[  1.67073985e-01   1.21000000e+02]\n",
        " [  1.73674232e+03   7.68000000e+02]]\n",
        "1 121.0 [122 768] [ 0.17104526  0.00103387]\n",
        "2 [[  3.07823243e-02   1.22000000e+02]\n",
        " [  1.87717733e+00   7.68000000e+02]]\n",
        "la [[  1.79965959e-01   1.22000000e+02]\n",
        " [  1.81568304e+03   7.68000000e+02]]\n",
        "1 122.0 [123 768] [ 0.17341757  0.00102564]\n",
        "2 [[  2.76291828e-02   1.23000000e+02]\n",
        " [  1.95922605e+00   7.68000000e+02]]\n",
        "la [[  1.59321704e-01   1.23000000e+02]\n",
        " [  1.91024720e+03   7.68000000e+02]]\n",
        "1 123.0 [124 768] [ 0.17451063  0.00103098]\n",
        "2 [[  2.90629638e-02   1.24000000e+02]\n",
        " [  2.04127476e+00   7.68000000e+02]]\n",
        "la [[  1.66539789e-01   1.24000000e+02]\n",
        " [  1.97993840e+03   7.68000000e+02]]\n",
        "1 124.0 [125 768] [ 0.1740186   0.00105172]\n",
        "2 [[  3.22041778e-02   1.25000000e+02]\n",
        " [  2.12332348e+00   7.68000000e+02]]\n",
        "la [[  1.85061700e-01   1.25000000e+02]\n",
        " [  2.01890006e+03   7.68000000e+02]]\n",
        "1 125.0 [126 768] [ 0.17293296  0.00107555]\n",
        "2 [[  3.54453504e-02   1.26000000e+02]\n",
        " [  2.20537219e+00   7.68000000e+02]]\n",
        "la [[  2.04965845e-01   1.26000000e+02]\n",
        " [  2.05046924e+03   7.68000000e+02]]\n",
        "1 126.0 [128 768] [ 0.00945108  0.00109784]\n",
        "2 [[  4.04108541e-02   1.28000000e+02]\n",
        " [  2.28742090e+00   7.68000000e+02]]\n",
        "la [[    4.27579244   128.        ]\n",
        " [ 2083.55767003   768.        ]]\n",
        "1 128.0 [128 768] [ 0.01053743  0.00113371]\n",
        "2 [[  4.16378597e-02   1.28000000e+02]\n",
        " [  2.36946962e+00   7.68000000e+02]]\n",
        "la [[    3.95142504   128.        ]\n",
        " [ 2090.0212196    768.        ]]\n",
        "1 128.0 [129 768] [ 0.15842303  0.00113371]\n",
        "2 [[  2.62764872e-02   1.29000000e+02]\n",
        " [  2.45151833e+00   7.68000000e+02]]\n",
        "la [[  1.65862798e-01   1.29000000e+02]\n",
        " [  2.16239335e+03   7.68000000e+02]]\n",
        "1 129.0 [130 768] [ 0.1580307   0.00114883]\n",
        "2 [[  2.65000226e-02   1.30000000e+02]\n",
        " [  2.53356705e+00   7.68000000e+02]]\n",
        "la [[  1.67689078e-01   1.30000000e+02]\n",
        " [  2.20534546e+03   7.68000000e+02]]\n",
        "1 130.0 [132 768] [ 0.00910264  0.001155  ]\n",
        "2 [[  2.05986611e-02   1.32000000e+02]\n",
        " [  2.61561576e+00   7.68000000e+02]]\n",
        "la [[  2.26293229e+00   1.32000000e+02]\n",
        " [  2.26460554e+03   7.68000000e+02]]\n",
        "1 132.0 [133 768]"
       ]
      },
      {
       "output_type": "stream",
       "stream": "stdout",
       "text": [
        " [ 0.17366973  0.0011952 ]\n",
        "2 [[  1.78847106e-02   1.33000000e+02]\n",
        " [  2.69766447e+00   7.68000000e+02]]\n",
        "la [[  1.02981161e-01   1.33000000e+02]\n",
        " [  2.25707335e+03   7.68000000e+02]]\n",
        "1 133.0 [134 768] [ 0.17633479  0.00120792]\n",
        "2 [[  1.86372338e-02   1.34000000e+02]\n",
        " [  2.77971319e+00   7.68000000e+02]]\n",
        "la [[  1.05692325e-01   1.34000000e+02]\n",
        " [  2.30123913e+03   7.68000000e+02]]\n",
        "1 134.0 [135 768] [ 0.17772947  0.00124027]\n",
        "2 [[  1.39197391e-02   1.35000000e+02]\n",
        " [  2.86176190e+00   7.68000000e+02]]\n",
        "la [[  7.83198122e-02   1.35000000e+02]\n",
        " [  2.30737862e+03   7.68000000e+02]]\n",
        "1 135.0 [136 768] [ 0.17907241  0.00125174]\n",
        "2 [[  7.22774981e-06   1.36000000e+02]\n",
        " [  2.94381061e+00   7.68000000e+02]]\n",
        "la [[  4.03621638e-05   1.36000000e+02]\n",
        " [  2.35178182e+03   7.68000000e+02]]\n",
        "1 136.0 [137 768] [ 0.18346081  0.00124211]\n",
        "2 [[  3.99735195e-03   1.37000000e+02]\n",
        " [  3.02585933e+00   7.68000000e+02]]\n",
        "la [[  2.17885872e-02   1.37000000e+02]\n",
        " [  2.43606173e+03   7.68000000e+02]]\n",
        "1 137.0 [138 768] [ 0.19067628  0.00120786]\n",
        "2 [[  4.08912532e-03   1.38000000e+02]\n",
        " [  3.10790804e+00   7.68000000e+02]]\n",
        "la [[  2.14453799e-02   1.38000000e+02]\n",
        " [  2.57307691e+03   7.68000000e+02]]\n",
        "1 138.0 [139 768] [ 0.19604695  0.00119321]\n",
        "2 [[  5.43108164e-03   1.39000000e+02]\n",
        " [  3.18995676e+00   7.68000000e+02]]\n",
        "la [[  2.77029649e-02   1.39000000e+02]\n",
        " [  2.67342951e+03   7.68000000e+02]]\n",
        "1 139.0 [140 768] [ 0.19678703  0.00119603]\n",
        "2 [[  8.65688579e-03   1.40000000e+02]\n",
        " [  3.27200547e+00   7.68000000e+02]]\n",
        "la [[  4.39911406e-02   1.40000000e+02]\n",
        " [  2.73571166e+03   7.68000000e+02]]\n",
        "1 140.0 [141 768] [ 0.19456036  0.00120521]\n",
        "2 [[  1.33123986e-02   1.41000000e+02]\n",
        " [  3.35405418e+00   7.68000000e+02]]\n",
        "la [[  6.84229745e-02   1.41000000e+02]\n",
        " [  2.78296776e+03   7.68000000e+02]]\n",
        "1 141.0 [142 768] [ 0.19309821  0.00121377]\n",
        "2 [[  1.29404165e-02   1.42000000e+02]\n",
        " [  3.43610290e+00   7.68000000e+02]]\n",
        "la [[  6.70146888e-02   1.42000000e+02]\n",
        " [  2.83093014e+03   7.68000000e+02]]\n",
        "1 142.0 [143 768] [ 0.19487798  0.00122308]\n",
        "2 [[  1.99874448e-02   1.43000000e+02]\n",
        " [  3.51815161e+00   7.68000000e+02]]\n",
        "la [[  1.02563895e-01   1.43000000e+02]\n",
        " [  2.87646231e+03   7.68000000e+02]]\n",
        "1 143.0 [145 768] [ 0.00858607  0.00123716]\n",
        "2 [[  2.64402442e-02   1.45000000e+02]\n",
        " [  3.60020032e+00   7.68000000e+02]]\n",
        "la [[    3.07943356   145.        ]\n",
        " [ 2910.05009787   768.        ]]\n",
        "1 145.0 [146 768] [ 0.199407   0.0013055]\n",
        "2 [[  3.38364272e-02   1.46000000e+02]\n",
        " [  3.68224904e+00   7.68000000e+02]]\n",
        "la [[  1.69685250e-01   1.46000000e+02]\n",
        " [  2.82056499e+03   7.68000000e+02]]\n",
        "1 146.0 [147 768] [ 0.19945525  0.00133125]\n",
        "2 [[  1.12310117e-02   1.47000000e+02]\n",
        " [  3.76429775e+00   7.68000000e+02]]\n",
        "la [[  5.63084296e-02   1.47000000e+02]\n",
        " [  2.82764913e+03   7.68000000e+02]]\n",
        "1 147.0 [148 768] [ 0.20068263  0.0013436 ]\n",
        "2 [[  2.90235211e-02   1.48000000e+02]\n",
        " [  3.84634647e+00   7.68000000e+02]]\n",
        "la [[  1.44623979e-01   1.48000000e+02]\n",
        " [  2.86272529e+03   7.68000000e+02]]\n",
        "1 148.0 [149 768] [ 0.20309126  0.00137579]\n",
        "2 [[  4.36952250e-02   1.49000000e+02]\n",
        " [  3.92839518e+00   7.68000000e+02]]\n",
        "la [[  2.15150691e-01   1.49000000e+02]\n",
        " [  2.85537807e+03   7.68000000e+02]]\n",
        "1 149.0 [149 768] [ 0.00778736  0.00138021]\n",
        "2 [[  3.83534888e-02   1.49000000e+02]\n",
        " [  4.01044389e+00   7.68000000e+02]]\n",
        "la [[    4.92509461   149.        ]\n",
        " [ 2905.6800896    768.        ]]\n",
        "1 149.0 [150 768] [ 0.20518313  0.00138021]\n",
        "2 [[  3.21421744e-02   1.50000000e+02]\n",
        " [  4.09249261e+00   7.68000000e+02]]\n",
        "la [[  1.56651152e-01   1.50000000e+02]\n",
        " [  2.96512670e+03   7.68000000e+02]]\n",
        "1 150.0 [151 768] [ 0.2052066   0.00137971]\n",
        "2 [[  2.50826247e-02   1.51000000e+02]\n",
        " [  4.17454132e+00   7.68000000e+02]]\n",
        "la [[  1.22231084e-01   1.51000000e+02]\n",
        " [  3.02565531e+03   7.68000000e+02]]\n",
        "1 151.0 [152 768] [ 0.20526381  0.00140827]\n",
        "2 [[  5.48894756e-03   1.52000000e+02]\n",
        " [  4.25659003e+00   7.68000000e+02]]\n",
        "la [[  2.67409419e-02   1.52000000e+02]\n",
        " [  3.02256823e+03   7.68000000e+02]]\n",
        "1 152.0 [153 768] [ 0.2080897   0.00144704]\n",
        "2 [[  1.74031623e-02   1.53000000e+02]\n",
        " [  4.33863875e+00   7.68000000e+02]]\n",
        "la [[  8.36329827e-02   1.53000000e+02]\n",
        " [  2.99829406e+03   7.68000000e+02]]\n",
        "1 153.0 [154 768] [ 0.21229055  0.00146757]\n",
        "2 [[  3.67588906e-02   1.54000000e+02]\n",
        " [  4.42068746e+00   7.68000000e+02]]\n",
        "la [[  1.73153682e-01   1.54000000e+02]\n",
        " [  3.01224435e+03   7.68000000e+02]]\n",
        "1 154.0 [154 768] [ 0.00560363  0.00144884]\n",
        "2 [[  4.52898232e-02   1.54000000e+02]\n",
        " [  4.50273618e+00   7.68000000e+02]]\n",
        "la [[    8.0822342    154.        ]\n",
        " [ 3107.81190087   768.        ]]\n",
        "1 154.0 [155 768] [ 0.21524884  0.00144884]\n",
        "2 [[  2.85112327e-02   1.55000000e+02]\n",
        " [  4.58478489e+00   7.68000000e+02]]\n",
        "la [[  1.32457082e-01   1.55000000e+02]\n",
        " [  3.16444235e+03   7.68000000e+02]]\n",
        "1 155.0 [156 768] [ 0.21616929  0.00139124]\n",
        "2 [[  1.59615834e-02   1.56000000e+02]\n",
        " [  4.66683360e+00   7.68000000e+02]]\n",
        "la [[  7.38383504e-02   1.56000000e+02]\n",
        " [  3.35443190e+03   7.68000000e+02]]\n",
        "1 156.0 [157 768] [ 0.21515538  0.00134823]\n",
        "2 [[  8.08689918e-03   1.57000000e+02]\n",
        " [  4.74888232e+00   7.68000000e+02]]\n",
        "la [[  3.75863211e-02   1.57000000e+02]\n",
        " [  3.52229702e+03   7.68000000e+02]]\n",
        "1 157.0 [158 768] [ 0.21251615  0.00136046]\n",
        "2 [[  8.68188554e-03   1.58000000e+02]\n",
        " [  4.83093103e+00   7.68000000e+02]]\n",
        "la [[  4.08528270e-02   1.58000000e+02]\n",
        " [  3.55095367e+03   7.68000000e+02]]\n",
        "1 158.0 [159 768] [ 0.20750668  0.00141455]\n",
        "2 [[  1.27178918e-02   1.59000000e+02]\n",
        " [  4.91297975e+00   7.68000000e+02]]\n",
        "la [[  6.12890708e-02   1.59000000e+02]\n",
        " [  3.47317462e+03   7.68000000e+02]]\n",
        "1 159.0 [160 768] [ 0.19735878  0.00146085]\n",
        "2 [[  1.54755253e-02   1.60000000e+02]\n",
        " [  4.99502846e+00   7.68000000e+02]]\n",
        "la [[  7.84131585e-02   1.60000000e+02]\n",
        " [  3.41927117e+03   7.68000000e+02]]\n",
        "1 160.0 [161 768] [ 0.18284288  0.00148259]\n",
        "2 [[  1.63822744e-03   1.61000000e+02]\n",
        " [  5.07707717e+00   7.68000000e+02]]\n",
        "la [[  8.95975534e-03   1.61000000e+02]\n",
        " [  3.42446951e+03   7.68000000e+02]]\n",
        "1 161.0 [162 768] [ 0.17289861  0.00150884]\n",
        "2 [[  6.09161989e-03   1.62000000e+02]\n",
        " [  5.15912589e+00   7.68000000e+02]]\n",
        "la [[  3.52323251e-02   1.62000000e+02]\n",
        " [  3.41926789e+03   7.68000000e+02]]\n",
        "1 162.0 [163 768] [ 0.17633889  0.001498  ]\n",
        "2 [[  1.00823308e-02   1.63000000e+02]\n",
        " [  5.24117460e+00   7.68000000e+02]]\n",
        "la [[  5.71758763e-02   1.63000000e+02]\n",
        " [  3.49878692e+03   7.68000000e+02]]\n",
        "1 163.0 [165 768] [ 0.01060921  0.00142875]\n",
        "2 [[  3.50595750e-02   1.65000000e+02]\n",
        " [  5.32322331e+00   7.68000000e+02]]\n",
        "la [[  3.30463437e+00   1.65000000e+02]\n",
        " [  3.72579588e+03   7.68000000e+02]]\n",
        "1 165.0 [166 768] [ 0.20008382  0.00139476]\n",
        "2 [[  3.16263491e-02   1.66000000e+02]\n",
        " [  5.40527203e+00   7.68000000e+02]]\n",
        "la [[  1.58065498e-01   1.66000000e+02]\n",
        " [  3.87541704e+03   7.68000000e+02]]\n",
        "1 166.0 [167 768] [ 0.1865711   0.00145272]\n",
        "2 [[  3.78084824e-02   1.67000000e+02]\n",
        " [  5.48732074e+00   7.68000000e+02]]\n",
        "la [[  2.02649194e-01   1.67000000e+02]\n",
        " [  3.77726621e+03   7.68000000e+02]]\n",
        "1 167.0 [168 768] [ 0.1807073  0.001509 ]\n",
        "2 [[  2.40406518e-02   1.68000000e+02]\n",
        " [  5.56936946e+00   7.68000000e+02]]\n",
        "la [[  1.33036417e-01   1.68000000e+02]\n",
        " [  3.69077149e+03   7.68000000e+02]]\n",
        "1 168.0 [169 768] [ 0.189316    0.00150692]\n",
        "2 [[  4.36038693e-02   1.69000000e+02]\n",
        " [  5.65141817e+00   7.68000000e+02]]\n",
        "la [[  2.30323208e-01   1.69000000e+02]\n",
        " [  3.75030148e+03   7.68000000e+02]]\n",
        "1 169.0 [170 768] [ 0.20371258  0.00146028]\n",
        "2 [[  3.60638367e-02   1.70000000e+02]\n",
        " [  5.73346688e+00   7.68000000e+02]]\n",
        "la [[  1.77032942e-01   1.70000000e+02]\n",
        " [  3.92626983e+03   7.68000000e+02]]\n",
        "1 170.0 [171 768] [ 0.21277107  0.00144866]\n",
        "2 [[  3.51571462e-02   1.71000000e+02]\n",
        " [  5.81551560e+00   7.68000000e+02]]\n",
        "la [[  1.65234615e-01   1.71000000e+02]\n",
        " [  4.01440754e+03   7.68000000e+02]]\n",
        "1 171.0 [172 768] [ 0.21517836  0.00146692]\n",
        "2 [[  2.48595592e-02   1.72000000e+02]\n",
        " [  5.89756431e+00   7.68000000e+02]]\n",
        "la [[  1.15530013e-01   1.72000000e+02]\n",
        " [  4.02036993e+03   7.68000000e+02]]\n",
        "1 172.0 [173 768] [ 0.2160841   0.00146414]\n",
        "2 [[  1.86078649e-02   1.73000000e+02]\n",
        " [  5.97961302e+00   7.68000000e+02]]\n",
        "la [[  8.61139943e-02   1.73000000e+02]\n",
        " [  4.08404406e+03   7.68000000e+02]]\n",
        "1 173.0 [174 768] [ 0.21876236  0.001421  ]\n",
        "2 [[  8.43907464e-03   1.74000000e+02]\n",
        " [  6.06166174e+00   7.68000000e+02]]\n",
        "la [[  3.85764471e-02   1.74000000e+02]\n",
        " [  4.26576453e+03   7.68000000e+02]]\n",
        "1 174.0 [175 768] [ 0.22264744  0.00137977]\n",
        "2 [[  2.67268880e-02   1.75000000e+02]\n",
        " [  6.14371045e+00   7.68000000e+02]]\n",
        "la [[  1.20041298e-01   1.75000000e+02]\n",
        " [  4.45269214e+03   7.68000000e+02]]\n",
        "1 175.0 [177 768] [ 0.01347419  0.0013415 ]\n",
        "2 [[  3.23784587e-02   1.77000000e+02]\n",
        " [  6.22575917e+00   7.68000000e+02]]\n",
        "la [[  2.40299904e+00   1.77000000e+02]\n",
        " [  4.64089703e+03   7.68000000e+02]]\n",
        "1 177.0 [179 768] [ 0.01349611  0.00126594]\n",
        "2 [[  1.35547228e-02   1.79000000e+02]\n",
        " [  6.30780788e+00   7.68000000e+02]]\n",
        "la [[  1.00434280e+00   1.79000000e+02]\n",
        " [  4.98270853e+03   7.68000000e+02]]\n",
        "1 179.0 [180 768] [ 0.23664912  0.00122732]\n",
        "2 [[  2.14282441e-02   1.80000000e+02]\n",
        " [  6.38985659e+00   7.68000000e+02]]\n",
        "la [[  9.05485882e-02   1.80000000e+02]\n",
        " [  5.20636984e+03   7.68000000e+02]]\n",
        "1 180.0 [181 768] [ 0.23985341  0.00122849]\n",
        "2 [[  1.63646653e-02   1.81000000e+02]\n",
        " [  6.47190531e+00   7.68000000e+02]]\n",
        "la [[  6.82277790e-02   1.81000000e+02]\n",
        " [  5.26816191e+03   7.68000000e+02]]\n",
        "1 181.0 [182 768] [ 0.24269071  0.00122977]\n",
        "2 [[  2.69310921e-03   1.82000000e+02]\n",
        " [  6.55395402e+00   7.68000000e+02]]\n",
        "la [[  1.10968783e-02   1.82000000e+02]\n",
        " [  5.32940756e+03   7.68000000e+02]]\n",
        "1 182.0 [183 768] [ 0.24545493  0.00122868]\n",
        "2 [[  2.76663865e-02   1.83000000e+02]\n",
        " [  6.63600273e+00   7.68000000e+02]]\n",
        "la [[  1.12714730e-01   1.83000000e+02]\n",
        " [  5.40093385e+03   7.68000000e+02]]\n",
        "1 183.0 [184 768] [ 0.24887347  0.00121197]\n",
        "2 [[  3.09114490e-02   1.84000000e+02]\n",
        " [  6.71805145e+00   7.68000000e+02]]\n",
        "la [[  1.24205482e-01   1.84000000e+02]\n",
        " [  5.54310354e+03   7.68000000e+02]]\n",
        "1 184.0 [185 768] [ 0.25312023  0.00118079]\n",
        "2 [[  8.64224958e-03   1.85000000e+02]\n",
        " [  6.80010016e+00   7.68000000e+02]]\n",
        "la [[  3.41428633e-02   1.85000000e+02]\n",
        " [  5.75893659e+03   7.68000000e+02]]\n",
        "1 185.0 [186 768] [ 0.25782181  0.0011768 ]"
       ]
      },
      {
       "output_type": "stream",
       "stream": "stdout",
       "text": [
        "\n",
        "2 [[  2.87650292e-03   1.86000000e+02]\n",
        " [  6.88214888e+00   7.68000000e+02]]\n",
        "la [[  1.11569418e-02   1.86000000e+02]\n",
        " [  5.84817447e+03   7.68000000e+02]]\n",
        "1 186.0 [187 768] [ 0.26234549  0.00117331]\n",
        "2 [[  1.52418790e-02   1.87000000e+02]\n",
        " [  6.96419759e+00   7.68000000e+02]]\n",
        "la [[  5.80984976e-02   1.87000000e+02]\n",
        " [  5.93550960e+03   7.68000000e+02]]\n",
        "1 187.0 [189 768] [ 0.0165034   0.00117707]\n",
        "2 [[  3.46529120e-02   1.89000000e+02]\n",
        " [  7.04624630e+00   7.68000000e+02]]\n",
        "la [[  2.09974396e+00   1.89000000e+02]\n",
        " [  5.98626576e+03   7.68000000e+02]]\n",
        "1 189.0 [190 768] [ 0.26950279  0.00120439]\n",
        "2 [[  3.17325812e-02   1.90000000e+02]\n",
        " [  7.12829502e+00   7.68000000e+02]]\n",
        "la [[  1.17744909e-01   1.90000000e+02]\n",
        " [  5.91858962e+03   7.68000000e+02]]\n",
        "1 190.0 [191 768] [ 0.26927172  0.001193  ]\n",
        "2 [[  2.30858877e-02   1.91000000e+02]\n",
        " [  7.21034373e+00   7.68000000e+02]]\n",
        "la [[  8.57345431e-02   1.91000000e+02]\n",
        " [  6.04389288e+03   7.68000000e+02]]\n",
        "1 191.0 [192 768] [ 0.26657447  0.00118358]\n",
        "2 [[  1.98447984e-02   1.92000000e+02]\n",
        " [  7.29239244e+00   7.68000000e+02]]\n",
        "la [[  7.44437306e-02   1.92000000e+02]\n",
        " [  6.16128668e+03   7.68000000e+02]]\n",
        "1 192.0 [192 768] [ 0.0158988   0.00117298]\n",
        "2 [[  6.22039154e-02   1.92000000e+02]\n",
        " [  7.37444116e+00   7.68000000e+02]]\n",
        "la [[  3.91249021e+00   1.92000000e+02]\n",
        " [  6.28692255e+03   7.68000000e+02]]\n",
        "1 192.0 [193 768] [ 0.26355448  0.00117298]\n",
        "2 [[  1.84590540e-02   1.93000000e+02]\n",
        " [  7.45648987e+00   7.68000000e+02]]\n",
        "la [[  7.00388553e-02   1.93000000e+02]\n",
        " [  6.35687143e+03   7.68000000e+02]]\n",
        "1 193.0 [195 768] [ 0.01532756  0.00115703]\n",
        "2 [[  1.59085089e-02   1.95000000e+02]\n",
        " [  7.53853859e+00   7.68000000e+02]]\n",
        "la [[  1.03790212e+00   1.95000000e+02]\n",
        " [  6.51541673e+03   7.68000000e+02]]\n",
        "1 195.0 [196 768] [ 0.2783692   0.00112388]\n",
        "2 [[  4.76476220e-02   1.96000000e+02]\n",
        " [  7.62058730e+00   7.68000000e+02]]\n",
        "la [[  1.71167004e-01   1.96000000e+02]\n",
        " [  6.78057619e+03   7.68000000e+02]]\n",
        "1 196.0 [197 768] [ 0.2824709   0.00111473]\n",
        "2 [[  1.29734448e-02   1.97000000e+02]\n",
        " [  7.70263601e+00   7.68000000e+02]]\n",
        "la [[  4.59284294e-02   1.97000000e+02]\n",
        " [  6.90983720e+03   7.68000000e+02]]\n",
        "1 197.0 [198 768] [ 0.28440573  0.00112713]\n",
        "2 [[  1.30093650e-03   1.98000000e+02]\n",
        " [  7.78468473e+00   7.68000000e+02]]\n",
        "la [[  4.57422738e-03   1.98000000e+02]\n",
        " [  6.90667152e+03   7.68000000e+02]]\n",
        "1 198.0 [199 768] [ 0.28318436  0.00114204]\n",
        "2 [[  9.05562884e-03   1.99000000e+02]\n",
        " [  7.86673344e+00   7.68000000e+02]]\n",
        "la [[  3.19778566e-02   1.99000000e+02]\n",
        " [  6.88834625e+03   7.68000000e+02]]\n",
        "1 199.0 [200 768] [ 0.27929527  0.00115491]\n",
        "2 [[  7.91149408e-03   2.00000000e+02]\n",
        " [  7.94878216e+00   7.68000000e+02]]\n",
        "la [[  2.83266314e-02   2.00000000e+02]\n",
        " [  6.88258665e+03   7.68000000e+02]]\n",
        "1 200.0 [201 768] [ 0.27721518  0.0011806 ]\n",
        "2 [[  5.52033214e-03   2.01000000e+02]\n",
        " [  8.03083087e+00   7.68000000e+02]]\n",
        "la [[  1.99135279e-02   2.01000000e+02]\n",
        " [  6.80231720e+03   7.68000000e+02]]\n",
        "1 201.0 [202 768] [ 0.28098331  0.00117816]\n",
        "2 [[  1.18518276e-02   2.02000000e+02]\n",
        " [  8.11287958e+00   7.68000000e+02]]\n",
        "la [[  4.21798275e-02   2.02000000e+02]\n",
        " [  6.88604187e+03   7.68000000e+02]]\n",
        "1 202.0 [203 768] [ 0.28937421  0.00115617]\n",
        "2 [[  1.74548739e-02   2.03000000e+02]\n",
        " [  8.19492830e+00   7.68000000e+02]]\n",
        "la [[  6.03193825e-02   2.03000000e+02]\n",
        " [  7.08800878e+03   7.68000000e+02]]\n",
        "1 203.0 [204 768] [ 0.29771207  0.0011251 ]\n",
        "2 [[  4.24929662e-02   2.04000000e+02]\n",
        " [  8.27697701e+00   7.68000000e+02]]\n",
        "la [[  1.42731756e-01   2.04000000e+02]\n",
        " [  7.35669035e+03   7.68000000e+02]]\n",
        "1 204.0 [204 768] [ 0.01081492  0.00114455]\n",
        "2 [[  3.95557476e-02   2.04000000e+02]\n",
        " [  8.35902572e+00   7.68000000e+02]]\n",
        "la [[  3.65751747e+00   2.04000000e+02]\n",
        " [  7.30330384e+03   7.68000000e+02]]\n",
        "1 204.0 [205 768] [ 0.30277853  0.00114455]\n",
        "2 [[  1.86938539e-02   2.05000000e+02]\n",
        " [  8.44107444e+00   7.68000000e+02]]\n",
        "la [[  6.17410161e-02   2.05000000e+02]\n",
        " [  7.37499003e+03   7.68000000e+02]]\n",
        "1 205.0 [206 768] [ 0.304024    0.00115724]\n",
        "2 [[  6.31814098e-03   2.06000000e+02]\n",
        " [  8.52312315e+00   7.68000000e+02]]\n",
        "la [[  2.07817180e-02   2.06000000e+02]\n",
        " [  7.36507534e+03   7.68000000e+02]]\n",
        "1 206.0 [207 768] [ 0.3010639   0.00117203]\n",
        "2 [[  3.79284920e-03   2.07000000e+02]\n",
        " [  8.60517187e+00   7.68000000e+02]]\n",
        "la [[  1.25981535e-02   2.07000000e+02]\n",
        " [  7.34213919e+03   7.68000000e+02]]\n",
        "1 207.0 [208 768] [ 0.29418538  0.00118043]\n",
        "2 [[  5.21250370e-03   2.08000000e+02]\n",
        " [  8.68722058e+00   7.68000000e+02]]\n",
        "la [[  1.77184323e-02   2.08000000e+02]\n",
        " [  7.35939635e+03   7.68000000e+02]]\n",
        "1 208.0 [209 768] [ 0.28722553  0.00120082]\n",
        "2 [[  1.16277343e-02   2.09000000e+02]\n",
        " [  8.76926929e+00   7.68000000e+02]]\n",
        "la [[  4.04829419e-02   2.09000000e+02]\n",
        " [  7.30270576e+03   7.68000000e+02]]\n",
        "1 209.0 [210 768] [ 0.28425047  0.00121108]\n",
        "2 [[  2.66853546e-02   2.10000000e+02]\n",
        " [  8.85131801e+00   7.68000000e+02]]\n",
        "la [[  9.38797187e-02   2.10000000e+02]\n",
        " [  7.30861359e+03   7.68000000e+02]]\n",
        "1 210.0 [211 768] [ 0.2846058  0.0012182]\n",
        "2 [[  2.98739370e-02   2.11000000e+02]\n",
        " [  8.93336672e+00   7.68000000e+02]]\n",
        "la [[  1.04966017e-01   2.11000000e+02]\n",
        " [  7.33327132e+03   7.68000000e+02]]\n",
        "1 211.0 [212 768] [ 0.28387268  0.00122259]\n",
        "2 [[  3.57762410e-02   2.12000000e+02]\n",
        " [  9.01541543e+00   7.68000000e+02]]\n",
        "la [[  1.26029181e-01   2.12000000e+02]\n",
        " [  7.37401314e+03   7.68000000e+02]]\n",
        "1 212.0 [213 768] [ 0.2792991   0.00124515]\n",
        "2 [[  4.34898277e-02   2.13000000e+02]\n",
        " [  9.09746415e+00   7.68000000e+02]]\n",
        "la [[  1.55710591e-01   2.13000000e+02]\n",
        " [  7.30634503e+03   7.68000000e+02]]\n",
        "1 213.0 [213 768] [ 0.0085643   0.00129343]\n",
        "2 [[  3.85588861e-02   2.13000000e+02]\n",
        " [  9.17951286e+00   7.68000000e+02]]\n",
        "la [[  4.50228238e+00   2.13000000e+02]\n",
        " [  7.09702762e+03   7.68000000e+02]]\n",
        "1 213.0 [214 768] [ 0.27385142  0.00129343]\n",
        "2 [[  3.53197818e-02   2.14000000e+02]\n",
        " [  9.26156158e+00   7.68000000e+02]]\n",
        "la [[  1.28974253e-01   2.14000000e+02]\n",
        " [  7.16046257e+03   7.68000000e+02]]\n",
        "1 214.0 [215 768] [ 0.27147704  0.00131233]\n",
        "2 [[  3.03859672e-02   2.15000000e+02]\n",
        " [  9.34361029e+00   7.68000000e+02]]\n",
        "la [[  1.11928313e-01   2.15000000e+02]\n",
        " [  7.11986581e+03   7.68000000e+02]]\n",
        "1 215.0 [216 768] [ 0.2724703   0.00131902]\n",
        "2 [[  3.04473499e-02   2.16000000e+02]\n",
        " [  9.42565900e+00   7.68000000e+02]]\n",
        "la [[  1.11745572e-01   2.16000000e+02]\n",
        " [  7.14595021e+03   7.68000000e+02]]\n",
        "1 216.0 [217 768] [ 0.27592689  0.00132827]\n",
        "2 [[  3.50513979e-02   2.17000000e+02]\n",
        " [  9.50770772e+00   7.68000000e+02]]\n",
        "la [[  1.27031468e-01   2.17000000e+02]\n",
        " [  7.15798108e+03   7.68000000e+02]]\n",
        "1 217.0 [219 768] [ 0.00511166  0.00134196]\n",
        "2 [[  2.94499356e-02   2.19000000e+02]\n",
        " [  9.58975643e+00   7.68000000e+02]]\n",
        "la [[  5.76132365e+00   2.19000000e+02]\n",
        " [  7.14610558e+03   7.68000000e+02]]\n",
        "1 219.0 [220 768] [ 0.29270383  0.0012625 ]\n",
        "2 [[  1.67812969e-02   2.20000000e+02]\n",
        " [  9.67180514e+00   7.68000000e+02]]\n",
        "la [[  5.73320035e-02   2.20000000e+02]\n",
        " [  7.66083639e+03   7.68000000e+02]]\n",
        "1 220.0 [221 768] [ 0.29521436  0.00126502]\n",
        "2 [[  1.69897337e-03   2.21000000e+02]\n",
        " [  9.75385386e+00   7.68000000e+02]]\n",
        "la [[  5.75504993e-03   2.21000000e+02]\n",
        " [  7.71042207e+03   7.68000000e+02]]\n",
        "1 221.0 [222 768] [ 0.29317858  0.00126356]\n",
        "2 [[  1.88562909e-02   2.22000000e+02]\n",
        " [  9.83590257e+00   7.68000000e+02]]\n",
        "la [[  6.43167403e-02   2.22000000e+02]\n",
        " [  7.78428106e+03   7.68000000e+02]]\n",
        "1 222.0 [224 768] [ 0.00326125  0.00123874]\n",
        "2 [[  2.47569175e-02   2.24000000e+02]\n",
        " [  9.91795129e+00   7.68000000e+02]]\n",
        "la [[  7.59123655e+00   2.24000000e+02]\n",
        " [  8.00648847e+03   7.68000000e+02]]\n",
        "1 224.0 [225 768] [ 0.27125625  0.00126015]\n",
        "2 [[   0.  225.]\n",
        " [  10.  768.]]\n",
        "la [[    0.           225.        ]\n",
        " [ 7935.58904888   768.        ]]\n",
        "1 225.0 [ 26 707] [ 0.00085776  0.00110714]\n",
        "2 [[  1.70061597e-02   2.60000000e+01]\n",
        " [  4.38120859e-02   7.07000000e+02]]\n",
        "la [[  19.82622988   26.        ]\n",
        " [  39.57223676  707.        ]]\n",
        "1 26.0 [ 27 707] [ 0.13551952  0.00100658]\n",
        "2 [[  1.92998156e-02   2.70000000e+01]\n",
        " [  3.85405120e-02   7.07000000e+02]]\n",
        "la [[  1.42413550e-01   2.70000000e+01]\n",
        " [  3.82884353e+01   7.07000000e+02]]\n",
        "1 27.0 [ 28 708] [ 0.13670243  0.00103805]\n",
        "2 [[  1.68826598e-02   2.80000000e+01]\n",
        " [  1.25804504e-02   7.08000000e+02]]\n",
        "la [[  1.23499341e-01   2.80000000e+01]\n",
        " [  1.21193389e+01   7.08000000e+02]]\n",
        "1 28.0 [ 29 709] [ 0.13631044  0.00106648]\n",
        "2 [[  2.08171114e-02   2.90000000e+01]\n",
        " [  1.27212185e-02   7.09000000e+02]]\n",
        "la [[  1.52718398e-01   2.90000000e+01]\n",
        " [  1.19282514e+01   7.09000000e+02]]\n",
        "1 29.0 [ 30 710] [ 0.13559572  0.00108301]\n",
        "2 [[  2.81398172e-02   3.00000000e+01]\n",
        " [  7.58309821e-03   7.10000000e+02]]\n",
        "la [[  2.07527332e-01   3.00000000e+01]\n",
        " [  7.00186217e+00   7.10000000e+02]]\n",
        "1 30.0 [ 31 711] [ 0.13511596  0.00109339]\n",
        "2 [[  3.04679675e-02   3.10000000e+01]\n",
        " [  2.02794437e-03   7.11000000e+02]]\n",
        "la [[  2.25494958e-01   3.10000000e+01]\n",
        " [  1.85473577e+00   7.11000000e+02]]\n",
        "1 31.0 [ 32 712] [ 0.13454023  0.00108608]\n",
        "2 [[  3.24780294e-02   3.20000000e+01]\n",
        " [  7.89363404e-03   7.12000000e+02]]\n",
        "la [[  2.41400128e-01   3.20000000e+01]\n",
        " [  7.26801400e+00   7.12000000e+02]]\n",
        "1 32.0 [ 33 713] [ 0.13434253  0.00105823]\n",
        "2 [[  3.83002939e-02   3.30000000e+01]\n",
        " [  2.30995308e-02   7.13000000e+02]]\n",
        "la [[  2.85094341e-01   3.30000000e+01]\n",
        " [  2.18285081e+01   7.13000000e+02]]\n",
        "1 33.0 [ 35 714] [ 0.00480865  0.00102964]\n",
        "2 [[  3.36952696e-02   3.50000000e+01]\n",
        " [  3.66678607e-02   7.14000000e+02]]\n",
        "la [[   7.00722016   35.        ]\n",
        " [  35.61243481  714.        ]]\n",
        "1 35.0 [ 36 714] [ 0.13899014  0.00098438]\n",
        "2 [[  3.72159013e-02   3.60000000e+01]\n",
        " [  4.56847372e-02   7.14000000e+02]]\n",
        "la [[  2.67759300e-01   3.60000000e+01]\n",
        " [  4.64096741e+01   7.14000000e+02]]\n",
        "1 36.0 "
       ]
      },
      {
       "output_type": "stream",
       "stream": "stdout",
       "text": [
        "[ 37 715] [ 0.13854883  0.00097858]\n",
        "2 [[  3.92274194e-02   3.70000000e+01]\n",
        " [  3.65080458e-02   7.15000000e+02]]\n",
        "la [[  2.83130651e-01   3.70000000e+01]\n",
        " [  3.73071042e+01   7.15000000e+02]]\n",
        "1 37.0 [ 38 716] [ 0.13665854  0.00099334]\n",
        "2 [[  3.69628527e-02   3.80000000e+01]\n",
        " [  1.59332393e-02   7.16000000e+02]]\n",
        "la [[  2.70475976e-01   3.80000000e+01]\n",
        " [  1.60400438e+01   7.16000000e+02]]\n",
        "1 38.0 [ 39 717] [ 0.13502224  0.00101003]\n",
        "2 [[  3.81403315e-02   3.90000000e+01]\n",
        " [  2.14157529e-02   7.17000000e+02]]\n",
        "la [[  2.82474438e-01   3.90000000e+01]\n",
        " [  2.12030473e+01   7.17000000e+02]]\n",
        "1 39.0 [ 40 718] [ 0.13500448  0.00102058]\n",
        "2 [[  3.86944215e-02   4.00000000e+01]\n",
        " [  1.78062979e-02   7.18000000e+02]]\n",
        "la [[  2.86615843e-01   4.00000000e+01]\n",
        " [  1.74472023e+01   7.18000000e+02]]\n",
        "1 40.0 [ 41 719] [ 0.1366211   0.00102435]\n",
        "2 [[  4.24461847e-02   4.10000000e+01]\n",
        " [  5.66775296e-03   7.19000000e+02]]\n",
        "la [[  3.10685421e-01   4.10000000e+01]\n",
        " [  5.53304392e+00   7.19000000e+02]]\n",
        "1 41.0 [ 41 720] [ 0.00470581  0.00102322]\n",
        "2 [[  3.99064132e-02   4.10000000e+01]\n",
        " [  2.41942957e-02   7.20000000e+02]]\n",
        "la [[   8.48024547   41.        ]\n",
        " [  23.64534093  720.        ]]\n",
        "1 41.0 [ 42 721] [ 0.13915893  0.00104334]\n",
        "2 [[  3.71388066e-02   4.20000000e+01]\n",
        " [  3.55333821e-02   7.21000000e+02]]\n",
        "la [[  2.66880522e-01   4.20000000e+01]\n",
        " [  3.40574288e+01   7.21000000e+02]]\n",
        "1 42.0 [ 43 722] [ 0.1416738   0.00107091]\n",
        "2 [[  3.89998268e-02   4.30000000e+01]\n",
        " [  8.93892083e-02   7.22000000e+02]]\n",
        "la [[  2.75279031e-01   4.30000000e+01]\n",
        " [  8.34699997e+01   7.22000000e+02]]\n",
        "1 43.0 [ 45 722] [ 0.00450408  0.00105334]\n",
        "2 [[  3.87459241e-02   4.50000000e+01]\n",
        " [  7.03661035e-03   7.22000000e+02]]\n",
        "la [[   8.60239752   45.        ]\n",
        " [   6.68026476  722.        ]]\n",
        "1 722.0 [ 46 723] [ 0.00100035  0.13097076]\n",
        "2 [[  4.01432729e-02   4.60000000e+01]\n",
        " [  1.85427439e-02   7.23000000e+02]]\n",
        "la [[  4.01292540e+01   4.60000000e+01]\n",
        " [  1.41579265e-01   7.23000000e+02]]\n",
        "1 723.0 [ 47 724] [ 0.00100452  0.13286095]\n",
        "2 [[  2.94369885e-02   4.70000000e+01]\n",
        " [  2.35503272e-02   7.24000000e+02]]\n",
        "la [[  2.93045387e+01   4.70000000e+01]\n",
        " [  1.77255445e-01   7.24000000e+02]]\n",
        "1 724.0 [ 48 725] [ 0.00100015  0.13653591]\n",
        "2 [[  2.45430073e-02   4.80000000e+01]\n",
        " [  4.06621060e-02   7.25000000e+02]]\n",
        "la [[  2.45392379e+01   4.80000000e+01]\n",
        " [  2.97812543e-01   7.25000000e+02]]\n",
        "1 725.0 [ 49 725] [ 0.00099748  0.00541032]\n",
        "2 [[  2.16504786e-02   4.90000000e+01]\n",
        " [  4.16904920e-02   7.25000000e+02]]\n",
        "la [[  21.70516529   49.        ]\n",
        " [   7.70573632  725.        ]]\n",
        "1 725.0 [ 50 726] [ 0.00100965  0.13894326]\n",
        "2 [[  1.94247599e-02   5.00000000e+01]\n",
        " [  2.44260496e-02   7.26000000e+02]]\n",
        "la [[  1.92390279e+01   5.00000000e+01]\n",
        " [  1.75798738e-01   7.26000000e+02]]\n",
        "1 726.0 [ 51 727] [ 0.00099303  0.13864871]\n",
        "2 [[  1.84828789e-02   5.10000000e+01]\n",
        " [  2.35374185e-02   7.27000000e+02]]\n",
        "la [[  1.86126576e+01   5.10000000e+01]\n",
        " [  1.69762978e-01   7.27000000e+02]]\n",
        "1 727.0 [ 52 728] [ 0.00097706  0.13709639]\n",
        "2 [[  1.57364394e-02   5.20000000e+01]\n",
        " [  1.94094729e-02   7.28000000e+02]]\n",
        "la [[  1.61058507e+01   5.20000000e+01]\n",
        " [  1.41575375e-01   7.28000000e+02]]\n",
        "1 728.0 [ 53 729] [ 0.00097681  0.1372854 ]\n",
        "2 [[  1.26745751e-02   5.30000000e+01]\n",
        " [  4.02893661e-03   7.29000000e+02]]\n",
        "la [[  1.29755286e+01   5.30000000e+01]\n",
        " [  2.93471593e-02   7.29000000e+02]]\n",
        "1 729.0 [ 54 730] [ 0.00099689  0.1396677 ]\n",
        "2 [[  1.18437096e-02   5.40000000e+01]\n",
        " [  7.43312706e-03   7.30000000e+02]]\n",
        "la [[  1.18807143e+01   5.40000000e+01]\n",
        " [  5.32200879e-02   7.30000000e+02]]\n",
        "1 730.0 [ 55 731] [ 0.00102296  0.14219146]\n",
        "2 [[  5.68602165e-03   5.50000000e+01]\n",
        " [  2.64218388e-02   7.31000000e+02]]\n",
        "la [[  5.55839686e+00   5.50000000e+01]\n",
        " [  1.85818746e-01   7.31000000e+02]]\n",
        "1 731.0 [ 56 732] [ 0.00103666  0.14359057]\n",
        "2 [[  4.78155912e-03   5.60000000e+01]\n",
        " [  3.11757472e-02   7.32000000e+02]]\n",
        "la [[  4.61246376e+00   5.60000000e+01]\n",
        " [  2.17115560e-01   7.32000000e+02]]\n",
        "1 732.0 [ 57 733] [ 0.00104026  0.14309282]\n",
        "2 [[  3.78085495e-04   5.70000000e+01]\n",
        " [  3.50427493e-02   7.33000000e+02]]\n",
        "la [[  3.63452093e-01   5.70000000e+01]\n",
        " [  2.44895238e-01   7.33000000e+02]]\n",
        "1 733.0 [ 58 733] [ 0.00103972  0.00583094]\n",
        "2 [[  9.44865701e-03   5.80000000e+01]\n",
        " [  4.73098486e-02   7.33000000e+02]]\n",
        "la [[   9.08766163   58.        ]\n",
        " [   8.11359346  733.        ]]\n",
        "1 733.0 [ 59 734] [ 0.00106602  0.14044993]\n",
        "2 [[  1.71695311e-02   5.90000000e+01]\n",
        " [  3.21397953e-02   7.34000000e+02]]\n",
        "la [[  1.61061830e+01   5.90000000e+01]\n",
        " [  2.28834540e-01   7.34000000e+02]]\n",
        "1 734.0 [ 60 735] [ 0.001067    0.13729831]\n",
        "2 [[  3.08016724e-02   6.00000000e+01]\n",
        " [  2.84522234e-02   7.35000000e+02]]\n",
        "la [[  2.88675272e+01   6.00000000e+01]\n",
        " [  2.07229230e-01   7.35000000e+02]]\n",
        "1 735.0 [ 62 736] [ 0.00113595  0.13527599]\n",
        "2 [[  2.77333152e-02   6.20000000e+01]\n",
        " [  3.80361820e-02   7.36000000e+02]]\n",
        "la [[  2.44141284e+01   6.20000000e+01]\n",
        " [  2.81174677e-01   7.36000000e+02]]\n",
        "1 736.0 [ 63 737] [ 0.00115901  0.13444838]\n",
        "2 [[  1.19869817e-02   6.30000000e+01]\n",
        " [  3.38637029e-02   7.37000000e+02]]\n",
        "la [[  1.03424484e+01   6.30000000e+01]\n",
        " [  2.51871405e-01   7.37000000e+02]]\n",
        "1 737.0 [ 64 739] [ 0.00116461  0.0076786 ]\n",
        "2 [[  1.01000458e-03   6.40000000e+01]\n",
        " [  1.58289168e-02   7.39000000e+02]]\n",
        "la [[   0.86724698   64.        ]\n",
        " [   2.06143371  739.        ]]\n",
        "1 64.0 [ 65 740] [ 0.13276952  0.00111312]\n",
        "2 [[  9.75083877e-03   6.50000000e+01]\n",
        " [  3.48526922e-02   7.40000000e+02]]\n",
        "la [[  7.34418496e-02   6.50000000e+01]\n",
        " [  3.13107006e+01   7.40000000e+02]]\n",
        "1 65.0 [ 66 741] [ 0.13652231  0.00109356]\n",
        "2 [[  2.10276834e-02   6.60000000e+01]\n",
        " [  1.81666049e-02   7.41000000e+02]]\n",
        "la [[  1.54023786e-01   6.60000000e+01]\n",
        " [  1.66123000e+01   7.41000000e+02]]\n",
        "1 66.0 [ 67 742] [ 0.14012633  0.00109148]\n",
        "2 [[  3.04118486e-02   6.70000000e+01]\n",
        " [  7.97024124e-03   7.42000000e+02]]\n",
        "la [[  2.17031652e-01   6.70000000e+01]\n",
        " [  7.30220890e+00   7.42000000e+02]]\n",
        "1 67.0 [ 69 743] [ 0.00714651  0.00109968]\n",
        "2 [[  3.54095668e-02   6.90000000e+01]\n",
        " [  2.93640470e-02   7.43000000e+02]]\n",
        "la [[   4.95480562   69.        ]\n",
        " [  26.70245782  743.        ]]\n",
        "1 69.0 [ 70 743] [ 0.13893158  0.00112329]\n",
        "2 [[  3.09732775e-02   7.00000000e+01]\n",
        " [  5.29885509e-02   7.43000000e+02]]\n",
        "la [[  2.22939064e-01   7.00000000e+01]\n",
        " [  4.71726099e+01   7.43000000e+02]]\n",
        "1 70.0 [ 71 744] [ 0.13571852  0.00109889]\n",
        "2 [[  3.43666128e-02   7.10000000e+01]\n",
        " [  5.55253434e-03   7.44000000e+02]]\n",
        "la [[  2.53219771e-01   7.10000000e+01]\n",
        " [  5.05284991e+00   7.44000000e+02]]\n",
        "1 71.0 [ 72 745] [ 0.1350262   0.00103375]\n",
        "2 [[  3.99787843e-02   7.20000000e+01]\n",
        " [  3.27423376e-02   7.45000000e+02]]\n",
        "la [[  2.96081679e-01   7.20000000e+01]\n",
        " [  3.16732455e+01   7.45000000e+02]]\n",
        "1 72.0 [ 72 746] [ 0.00754555  0.00095312]\n",
        "2 [[  4.23738136e-02   7.20000000e+01]\n",
        " [  4.79174252e-02   7.46000000e+02]]\n",
        "la [[   5.61573435   72.        ]\n",
        " [  50.2741704   746.        ]]\n",
        "1 72.0 [ 73 746] [ 0.13805123  0.00095312]\n",
        "2 [[  3.30866848e-02   7.30000000e+01]\n",
        " [  3.44351727e-02   7.46000000e+02]]\n",
        "la [[  2.39669606e-01   7.30000000e+01]\n",
        " [  3.61288139e+01   7.46000000e+02]]\n",
        "1 73.0 [ 74 747] [ 0.1435247   0.00089422]\n",
        "2 [[  3.34184144e-02   7.40000000e+01]\n",
        " [  2.65988283e-02   7.47000000e+02]]\n",
        "la [[  2.32840857e-01   7.40000000e+01]\n",
        " [  2.97453973e+01   7.47000000e+02]]\n",
        "1 74.0 [ 75 748] [ 0.14860149  0.00087492]\n",
        "2 [[  3.67354151e-02   7.50000000e+01]\n",
        " [  2.96083997e-02   7.48000000e+02]]\n",
        "la [[  2.47207579e-01   7.50000000e+01]\n",
        " [  3.38411706e+01   7.48000000e+02]]\n",
        "1 75.0 [ 76 750] [ 0.15147617  0.00091764]\n",
        "2 [[  3.75116580e-02   7.60000000e+01]\n",
        " [  3.60660611e-02   7.50000000e+02]]\n",
        "la [[  2.47640658e-01   7.60000000e+01]\n",
        " [  3.93032731e+01   7.50000000e+02]]\n",
        "1 76.0 [ 78 751] [ 0.00721598  0.00092972]\n",
        "2 [[  3.80099224e-02   7.80000000e+01]\n",
        " [  3.24412903e-02   7.51000000e+02]]\n",
        "la [[   5.26746421   78.        ]\n",
        " [  34.89373499  751.        ]]\n",
        "1 78.0 [ 79 752] [ 0.1507979   0.00094765]\n",
        "2 [[  3.22434521e-02   7.90000000e+01]\n",
        " [  3.56968144e-02   7.52000000e+02]]\n",
        "la [[  2.13818979e-01   7.90000000e+01]\n",
        " [  3.76688740e+01   7.52000000e+02]]\n",
        "1 79.0 [ 80 753] [ 0.14788099  0.00095649]\n",
        "2 [[  2.62310827e-02   8.00000000e+01]\n",
        " [  3.72041154e-02   7.53000000e+02]]\n",
        "la [[  1.77379685e-01   8.00000000e+01]\n",
        " [  3.88964338e+01   7.53000000e+02]]\n",
        "1 80.0 [ 81 754] [ 0.1464027   0.00097496]\n",
        "2 [[  1.92673270e-02   8.10000000e+01]\n",
        " [  2.84409813e-02   7.54000000e+02]]\n",
        "la [[  1.31604997e-01   8.10000000e+01]\n",
        " [  2.91713703e+01   7.54000000e+02]]\n",
        "1 81.0 [ 82 755] [ 0.14748224  0.00098725]\n",
        "2 [[  1.38978934e-02   8.20000000e+01]\n",
        " [  2.62773374e-02   7.55000000e+02]]\n",
        "la [[  9.42343504e-02   8.20000000e+01]\n",
        " [  2.66166537e+01   7.55000000e+02]]\n",
        "1 82.0 [ 83 756] [ 0.14944115  0.00098723]\n",
        "2 [[  1.12138143e-02   8.30000000e+01]\n",
        " [  2.80271079e-02   7.56000000e+02]]\n",
        "la [[  7.50383300e-02   8.30000000e+01]\n",
        " [  2.83896768e+01   7.56000000e+02]]\n",
        "1 83.0 [ 84 757] [ 0.14966448  0.00098793]\n",
        "2 [[  5.38632780e-03   8.40000000e+01]\n",
        " [  5.15661314e-02   7.57000000e+02]]\n",
        "la [[  3.59893520e-02   8.40000000e+01]\n",
        " [  5.21960083e+01   7.57000000e+02]]\n",
        "1 84.0 [ 85 757] [ 0.14649921  0.00098172]\n",
        "2 [[  2.48457894e-03   8.50000000e+01]\n",
        " [  3.07864665e-02   7.57000000e+02]]\n",
        "la [[  1.69596749e-02   8.50000000e+01]\n",
        " [  3.13595663e+01   7.57000000e+02]]\n",
        "1 85.0 [ 86 758] [ 0.14130974  0.0009951 ]\n",
        "2 [[  8.62779861e-03   8.60000000e+01]\n",
        " [  1.54907607e-02   7.58000000e+02]]\n",
        "la [[  6.10559369e-02   8.60000000e+01]\n",
        " [  1.55670367e+01   7.58000000e+02]]\n",
        "1 86.0 [ 87 759] [ 0.13804039  0.0010088 ]\n",
        "2 [[  2.26308521e-03   8.70000000e+01]\n",
        " [  3.02333243e-02   7.59000000e+02]]\n",
        "la [[  1.63943697e-02   8.70000000e+01]\n",
        " [  2.99697287e+01   7.59000000e+02]]\n",
        "1 87.0 [ 88 761] [ 0.13988711  0.00103923]\n",
        "2 [[  2.66166943e-03   8.80000000e+01]\n",
        " [  1.67671266e-02   7.61000000e+02]]\n",
        "la [[  1.90272668e-02   8.80000000e+01]\n",
        " [  1.61342600e+01   7.61000000e+02]]\n",
        "1 88.0 [ 89 762] [ 0.14721768  0.00104077]\n",
        "2 [[  2.26512389e-02   8.90000000e+01]\n",
        " [  3.65998280e-03   7.62000000e+02]]\n",
        "la [[  1.53862221e-01   8.90000000e+01]\n",
        " [  3.51659711e+00   7.62000000e+02]]\n",
        "1"
       ]
      },
      {
       "output_type": "stream",
       "stream": "stdout",
       "text": [
        " 89.0 [ 90 763] [ 0.15582986  0.00102653]\n",
        "2 [[  2.43312039e-02   9.00000000e+01]\n",
        " [  6.93628239e-02   7.63000000e+02]]\n",
        "la [[  1.56139548e-01   9.00000000e+01]\n",
        " [  6.75700300e+01   7.63000000e+02]]\n",
        "1 90.0 [ 91 763] [ 0.1593762   0.00102504]\n",
        "2 [[  3.13498475e-02   9.10000000e+01]\n",
        " [  1.29897740e-02   7.63000000e+02]]\n",
        "la [[  1.96703448e-01   9.10000000e+01]\n",
        " [  1.26725101e+01   7.63000000e+02]]\n",
        "1 91.0 [ 93 764] [ 0.00891309  0.00101967]\n",
        "2 [[  3.23614450e-02   9.30000000e+01]\n",
        " [  1.40516145e-02   7.64000000e+02]]\n",
        "la [[   3.63077652   93.        ]\n",
        " [  13.78053278  764.        ]]\n",
        "1 93.0 [ 94 765] [ 0.14850063  0.00101685]\n",
        "2 [[  2.12273357e-02   9.40000000e+01]\n",
        " [  3.78136636e-02   7.65000000e+02]]\n",
        "la [[  1.42944412e-01   9.40000000e+01]\n",
        " [  3.71871422e+01   7.65000000e+02]]\n",
        "1 94.0 [ 95 765] [ 0.14803824  0.00102262]\n",
        "2 [[  1.62509238e-02   9.50000000e+01]\n",
        " [  4.45389343e-02   7.65000000e+02]]\n",
        "la [[  1.09775179e-01   9.50000000e+01]\n",
        " [  4.35539448e+01   7.65000000e+02]]\n",
        "1 95.0 [ 96 766] [ 0.14899621  0.00098861]\n",
        "2 [[  1.02988681e-02   9.60000000e+01]\n",
        " [  3.49891415e-02   7.66000000e+02]]\n",
        "la [[  6.91216785e-02   9.60000000e+01]\n",
        " [  3.53924372e+01   7.66000000e+02]]\n",
        "1 96.0 [ 97 767] [ 0.15101631  0.00093906]\n",
        "2 [[  5.38157450e-03   9.70000000e+01]\n",
        " [  3.74909544e-02   7.67000000e+02]]\n",
        "la [[  3.56357173e-02   9.70000000e+01]\n",
        " [  3.99240242e+01   7.67000000e+02]]\n",
        "1 97.0 [ 98 768] [ 0.1545171   0.00091768]\n",
        "2 [[  1.30323924e-02   9.80000000e+01]\n",
        " [  3.53356522e-02   7.68000000e+02]]\n",
        "la [[  8.43427218e-02   9.80000000e+01]\n",
        " [  3.85055879e+01   7.68000000e+02]]\n",
        "1 98.0 [ 99 768] [ 0.15876154  0.0009279 ]\n",
        "2 [[  3.50549249e-02   9.90000000e+01]\n",
        " [  1.17688250e-01   7.68000000e+02]]\n",
        "la [[  2.20802373e-01   9.90000000e+01]\n",
        " [  1.26832971e+02   7.68000000e+02]]\n",
        "1 99.0 [101 768] [ 0.00915994  0.00094222]\n",
        "2 [[  2.99579725e-02   1.01000000e+02]\n",
        " [  2.00040848e-01   7.68000000e+02]]\n",
        "la [[   3.27054252  101.        ]\n",
        " [ 212.3079072   768.        ]]\n",
        "1 101.0 [102 768] [ 0.16297109  0.00095983]\n",
        "2 [[  1.39875827e-02   1.02000000e+02]\n",
        " [  2.82393446e-01   7.68000000e+02]]\n",
        "la [[  8.58286110e-02   1.02000000e+02]\n",
        " [  2.94213096e+02   7.68000000e+02]]\n",
        "1 102.0 [103 768] [ 0.16207179  0.00096489]\n",
        "2 [[  7.40155924e-03   1.03000000e+02]\n",
        " [  3.64746044e-01   7.68000000e+02]]\n",
        "la [[  4.56683996e-02   1.03000000e+02]\n",
        " [  3.78017290e+02   7.68000000e+02]]\n",
        "1 103.0 [104 768] [ 0.16312845  0.00096536]\n",
        "2 [[  1.47953138e-03   1.04000000e+02]\n",
        " [  4.47098642e-01   7.68000000e+02]]\n",
        "la [[  9.06973242e-03   1.04000000e+02]\n",
        " [  4.63141532e+02   7.68000000e+02]]\n",
        "1 104.0 [105 768] [ 0.16649434  0.00095603]\n",
        "2 [[  5.30116849e-03   1.05000000e+02]\n",
        " [  5.29451240e-01   7.68000000e+02]]\n",
        "la [[  3.18399325e-02   1.05000000e+02]\n",
        " [  5.53800610e+02   7.68000000e+02]]\n",
        "1 105.0 [106 768] [ 0.1706794   0.00095143]\n",
        "2 [[  6.92295888e-03   1.06000000e+02]\n",
        " [  6.11803838e-01   7.68000000e+02]]\n",
        "la [[  4.05611867e-02   1.06000000e+02]\n",
        " [  6.43033618e+02   7.68000000e+02]]\n",
        "1 106.0 [107 768] [ 0.17397974  0.00095232]\n",
        "2 [[  9.63699690e-03   1.07000000e+02]\n",
        " [  6.94156436e-01   7.68000000e+02]]\n",
        "la [[  5.53914890e-02   1.07000000e+02]\n",
        " [  7.28912188e+02   7.68000000e+02]]\n",
        "1 107.0 [108 768] [ 0.17593987  0.00094515]\n",
        "2 [[  1.29951771e-02   1.08000000e+02]\n",
        " [  7.76509033e-01   7.68000000e+02]]\n",
        "la [[  7.38614694e-02   1.08000000e+02]\n",
        " [  8.21569305e+02   7.68000000e+02]]\n",
        "1 108.0 [109 768] [ 0.17702696  0.00095474]\n",
        "2 [[  1.53723806e-02   1.09000000e+02]\n",
        " [  8.58861631e-01   7.68000000e+02]]\n",
        "la [[  8.68363805e-02   1.09000000e+02]\n",
        " [  8.99573497e+02   7.68000000e+02]]\n",
        "1 109.0 [110 768] [ 0.17767846  0.00096732]\n",
        "2 [[  1.85318236e-02   1.10000000e+02]\n",
        " [  9.41214229e-01   7.68000000e+02]]\n",
        "la [[  1.04299774e-01   1.10000000e+02]\n",
        " [  9.73013932e+02   7.68000000e+02]]\n",
        "1 110.0 [111 768] [ 0.17811398  0.00095737]\n",
        "2 [[  2.20881517e-02   1.11000000e+02]\n",
        " [  1.02356683e+00   7.68000000e+02]]\n",
        "la [[  1.24011331e-01   1.11000000e+02]\n",
        " [  1.06914372e+03   7.68000000e+02]]\n",
        "1 111.0 [112 768] [ 0.17824371  0.00096653]\n",
        "2 [[  3.24748868e-02   1.12000000e+02]\n",
        " [  1.10591943e+00   7.68000000e+02]]\n",
        "la [[  1.82193737e-01   1.12000000e+02]\n",
        " [  1.14421200e+03   7.68000000e+02]]\n",
        "1 112.0 [113 768] [ 0.17810706  0.00096843]\n",
        "2 [[  3.29674323e-02   1.13000000e+02]\n",
        " [  1.18827202e+00   7.68000000e+02]]\n",
        "la [[  1.85098963e-01   1.13000000e+02]\n",
        " [  1.22701225e+03   7.68000000e+02]]\n",
        "1 113.0 [115 768] [ 0.00835965  0.00096575]\n",
        "2 [[  3.35316564e-02   1.15000000e+02]\n",
        " [  1.27062462e+00   7.68000000e+02]]\n",
        "la [[    4.01113161   115.        ]\n",
        " [ 1315.6803368    768.        ]]\n",
        "1 115.0 [116 768] [ 0.17850751  0.000988  ]\n",
        "2 [[  2.66882581e-02   1.16000000e+02]\n",
        " [  1.35297722e+00   7.68000000e+02]]\n",
        "la [[  1.49507761e-01   1.16000000e+02]\n",
        " [  1.36941124e+03   7.68000000e+02]]\n",
        "1 116.0 [117 768] [ 0.17775499  0.00099623]\n",
        "2 [[  2.53794727e-02   1.17000000e+02]\n",
        " [  1.43532982e+00   7.68000000e+02]]\n",
        "la [[  1.42777839e-01   1.17000000e+02]\n",
        " [  1.44075999e+03   7.68000000e+02]]\n",
        "1 117.0 [118 768] [ 0.17647212  0.00101546]\n",
        "2 [[  2.45553659e-02   1.18000000e+02]\n",
        " [  1.51768241e+00   7.68000000e+02]]\n",
        "la [[  1.39145867e-01   1.18000000e+02]\n",
        " [  1.49457061e+03   7.68000000e+02]]\n",
        "1 118.0 [119 768] [ 0.1738667   0.00102305]\n",
        "2 [[  1.59294292e-02   1.19000000e+02]\n",
        " [  1.60003501e+00   7.68000000e+02]]\n",
        "la [[  9.16186295e-02   1.19000000e+02]\n",
        " [  1.56399028e+03   7.68000000e+02]]\n",
        "1 119.0 [120 768] [ 0.17067338  0.00102418]\n",
        "2 [[  3.69844393e-03   1.20000000e+02]\n",
        " [  1.68238761e+00   7.68000000e+02]]\n",
        "la [[  2.16697181e-02   1.20000000e+02]\n",
        " [  1.64266122e+03   7.68000000e+02]]\n",
        "1 120.0 [121 768] [ 0.16950133  0.00103362]\n",
        "2 [[  2.06915026e-03   1.21000000e+02]\n",
        " [  1.76474021e+00   7.68000000e+02]]\n",
        "la [[  1.22072806e-02   1.21000000e+02]\n",
        " [  1.70734229e+03   7.68000000e+02]]\n",
        "1 121.0 [122 768] [ 0.17104526  0.00103387]\n",
        "2 [[  6.97795922e-04   1.22000000e+02]\n",
        " [  1.84709281e+00   7.68000000e+02]]\n",
        "la [[  4.07959813e-03   1.22000000e+02]\n",
        " [  1.78658404e+03   7.68000000e+02]]\n",
        "1 122.0 [123 768] [ 0.17341757  0.00102564]\n",
        "2 [[  2.15146150e-03   1.23000000e+02]\n",
        " [  1.92944540e+00   7.68000000e+02]]\n",
        "la [[  1.24062487e-02   1.23000000e+02]\n",
        " [  1.88121104e+03   7.68000000e+02]]\n",
        "1 123.0 [124 768] [ 0.17451063  0.00103098]\n",
        "2 [[  4.13796337e-04   1.24000000e+02]\n",
        " [  2.01179800e+00   7.68000000e+02]]\n",
        "la [[  2.37118124e-03   1.24000000e+02]\n",
        " [  1.95134736e+03   7.68000000e+02]]\n",
        "1 124.0 [125 768] [ 0.1740186   0.00105172]\n",
        "2 [[  3.03130181e-03   1.25000000e+02]\n",
        " [  2.09415060e+00   7.68000000e+02]]\n",
        "la [[  1.74194128e-02   1.25000000e+02]\n",
        " [  1.99116188e+03   7.68000000e+02]]\n",
        "1 125.0 [126 768] [ 0.17293296  0.00107555]\n",
        "2 [[  6.57635853e-03   1.26000000e+02]\n",
        " [  2.17650320e+00   7.68000000e+02]]\n",
        "la [[  3.80283696e-02   1.26000000e+02]\n",
        " [  2.02362798e+03   7.68000000e+02]]\n",
        "1 126.0 [127 768] [ 0.17035778  0.00109784]\n",
        "2 [[  1.23685468e-02   1.27000000e+02]\n",
        " [  2.25885580e+00   7.68000000e+02]]\n",
        "la [[  7.26033572e-02   1.27000000e+02]\n",
        " [  2.05753839e+03   7.68000000e+02]]\n",
        "1 127.0 [128 768] [ 0.16450267  0.00111367]\n",
        "2 [[  1.33766361e-02   1.28000000e+02]\n",
        " [  2.34120839e+00   7.68000000e+02]]\n",
        "la [[  8.13156180e-02   1.28000000e+02]\n",
        " [  2.10224447e+03   7.68000000e+02]]\n",
        "1 128.0 [129 768] [ 0.15842303  0.00113371]\n",
        "2 [[  1.68085230e-03   1.29000000e+02]\n",
        " [  2.42356099e+00   7.68000000e+02]]\n",
        "la [[  1.06098986e-02   1.29000000e+02]\n",
        " [  2.13773321e+03   7.68000000e+02]]\n",
        "1 129.0 [130 768] [ 0.1580307   0.00114883]\n",
        "2 [[  1.15343278e-03   1.30000000e+02]\n",
        " [  2.50591359e+00   7.68000000e+02]]\n",
        "la [[  7.29878920e-03   1.30000000e+02]\n",
        " [  2.18127449e+03   7.68000000e+02]]\n",
        "1 130.0 [131 768] [ 0.16348885  0.001155  ]\n",
        "2 [[  2.08581229e-02   1.31000000e+02]\n",
        " [  2.58826619e+00   7.68000000e+02]]\n",
        "la [[  1.27581316e-01   1.31000000e+02]\n",
        " [  2.24092622e+03   7.68000000e+02]]\n",
        "1 131.0 [132 768] [ 0.16959442  0.00116277]\n",
        "2 [[  3.44043655e-02   1.32000000e+02]\n",
        " [  2.67061879e+00   7.68000000e+02]]\n",
        "la [[  2.02862608e-01   1.32000000e+02]\n",
        " [  2.29678168e+03   7.68000000e+02]]\n",
        "1 132.0 [133 768] [ 0.17366973  0.0011952 ]\n",
        "2 [[  3.74222002e-02   1.33000000e+02]\n",
        " [  2.75297138e+00   7.68000000e+02]]\n",
        "la [[  2.15479115e-01   1.33000000e+02]\n",
        " [  2.30334737e+03   7.68000000e+02]]\n",
        "1 133.0 [134 768] [ 0.17633479  0.00120792]\n",
        "2 [[  3.69735611e-02   1.34000000e+02]\n",
        " [  2.83532398e+00   7.68000000e+02]]\n",
        "la [[  2.09678200e-01   1.34000000e+02]\n",
        " [  2.34727759e+03   7.68000000e+02]]\n",
        "1 134.0 [136 768] [ 0.00796156  0.00124027]\n",
        "2 [[  2.61412625e-02   1.36000000e+02]\n",
        " [  2.91767658e+00   7.68000000e+02]]\n",
        "la [[    3.28343573   136.        ]\n",
        " [ 2352.46145359   768.        ]]\n",
        "1 136.0 [137 768] [ 0.18346081  0.00124211]\n",
        "2 [[  2.18327987e-02   1.37000000e+02]\n",
        " [  3.00002918e+00   7.68000000e+02]]\n",
        "la [[  1.19005242e-01   1.37000000e+02]\n",
        " [  2.41526636e+03   7.68000000e+02]]\n",
        "1 137.0 [138 768] [ 0.19067628  0.00120786]\n",
        "2 [[  2.14371412e-02   1.38000000e+02]\n",
        " [  3.08238178e+00   7.68000000e+02]]\n",
        "la [[  1.12426889e-01   1.38000000e+02]\n",
        " [  2.55194339e+03   7.68000000e+02]]\n",
        "1 138.0 [139 768] [ 0.19604695  0.00119321]\n",
        "2 [[  1.97913007e-02   1.39000000e+02]\n",
        " [  3.16473437e+00   7.68000000e+02]]\n",
        "la [[  1.00951845e-01   1.39000000e+02]\n",
        " [  2.65229121e+03   7.68000000e+02]]\n",
        "1 139.0 [140 768] [ 0.19678703  0.00119603]\n",
        "2 [[  1.62616125e-02   1.40000000e+02]\n",
        " [  3.24708697e+00   7.68000000e+02]]\n",
        "la [[  8.26355919e-02   1.40000000e+02]\n",
        " [  2.71487740e+03   7.68000000e+02]]\n",
        "1 140.0 [141 768] [ 0.19456036  0.00120521]\n",
        "2 [[  1.13022155e-02   1.41000000e+02]\n",
        " [  3.32943957e+00   7.68000000e+02]]\n",
        "la [[  5.80910490e-02   1.41000000e+02]\n",
        " [  2.76254422e+03   7.68000000e+02]]\n",
        "1 141.0 [142 768] [ 0.19309821  0.00121377]\n",
        "2 [[  1.13703135e-02   1.42000000e+02]\n",
        " [  3.41179217e+00   7.68000000e+02]]\n",
        "la [[  5.88835781e-02   1.42000000e+02]\n",
        " [  2.81090106e+03   7.68000000e+02]]\n",
        "1 142.0 [143 768] [ 0.19487798  0.00122308]\n",
        "2 [[  4.01940104e-03   1.43000000e+02]\n",
        " [  3.49414476e+00   7.68000000e+02]]\n",
        "la [[  2.06252189e-02   1.43000000e+02]\n",
        " [  2.85683416e+03   7.68000000e+02]]\n",
        "1 143.0 [144 768] [ 0.19815235  0.00123716]\n",
        "2 [[  2.18062149e-02   1.44000000e+02]\n",
        " [  3.57649736e+00   7.68000000e+02]]\n",
        "la [[  1.10047722e-01   1.44000000e+02]\n",
        " [  2.89089094e+03   7.68000000e+02]]\n",
        "1 144.0 [145 768]"
       ]
      },
      {
       "output_type": "stream",
       "stream": "stdout",
       "text": [
        " [ 0.19964731  0.00126708]\n",
        "2 [[  3.22093919e-02   1.45000000e+02]\n",
        " [  3.65884996e+00   7.68000000e+02]]\n",
        "la [[  1.61331461e-01   1.45000000e+02]\n",
        " [  2.88762468e+03   7.68000000e+02]]\n",
        "1 145.0 [146 768] [ 0.199407   0.0013055]\n",
        "2 [[  2.51170931e-02   1.46000000e+02]\n",
        " [  3.74120256e+00   7.68000000e+02]]\n",
        "la [[  1.25958932e-01   1.46000000e+02]\n",
        " [  2.86572279e+03   7.68000000e+02]]\n",
        "1 146.0 [147 768] [ 0.19945525  0.00133125]\n",
        "2 [[  4.80263927e-02   1.47000000e+02]\n",
        " [  3.82355516e+00   7.68000000e+02]]\n",
        "la [[  2.40787813e-01   1.47000000e+02]\n",
        " [  2.87216185e+03   7.68000000e+02]]\n",
        "1 147.0 [148 768] [ 0.20068263  0.0013436 ]\n",
        "2 [[  3.05377675e-02   1.48000000e+02]\n",
        " [  3.90590775e+00   7.68000000e+02]]\n",
        "la [[  1.52169457e-01   1.48000000e+02]\n",
        " [  2.90705505e+03   7.68000000e+02]]\n",
        "1 148.0 [149 768] [ 0.20309126  0.00137579]\n",
        "2 [[  1.61699477e-02   1.49000000e+02]\n",
        " [  3.98826035e+00   7.68000000e+02]]\n",
        "la [[  7.96191212e-02   1.49000000e+02]\n",
        " [  2.89889143e+03   7.68000000e+02]]\n",
        "1 149.0 [150 768] [ 0.20518313  0.00138021]\n",
        "2 [[  1.02625173e-02   1.50000000e+02]\n",
        " [  4.07061295e+00   7.68000000e+02]]\n",
        "la [[  5.00163788e-02   1.50000000e+02]\n",
        " [  2.94927427e+03   7.68000000e+02]]\n",
        "1 150.0 [151 768] [ 0.2052066   0.00137971]\n",
        "2 [[  3.50685184e-03   1.51000000e+02]\n",
        " [  4.15296555e+00   7.68000000e+02]]\n",
        "la [[  1.70893719e-02   1.51000000e+02]\n",
        " [  3.01001746e+03   7.68000000e+02]]\n",
        "1 151.0 [152 768] [ 0.20526381  0.00140827]\n",
        "2 [[  1.57829412e-02   1.52000000e+02]\n",
        " [  4.23531815e+00   7.68000000e+02]]\n",
        "la [[  7.68910086e-02   1.52000000e+02]\n",
        " [  3.00746325e+03   7.68000000e+02]]\n",
        "1 152.0 [153 768] [ 0.2080897   0.00144704]\n",
        "2 [[  3.83711670e-02   1.53000000e+02]\n",
        " [  4.31767074e+00   7.68000000e+02]]\n",
        "la [[  1.84397242e-01   1.53000000e+02]\n",
        " [  2.98380375e+03   7.68000000e+02]]\n",
        "1 153.0 [153 768] [ 0.00614037  0.00146757]\n",
        "2 [[  4.39814309e-02   1.53000000e+02]\n",
        " [  4.40002334e+00   7.68000000e+02]]\n",
        "la [[    7.16266473   153.        ]\n",
        " [ 2998.16387553   768.        ]]\n",
        "1 153.0 [154 768] [ 0.21229055  0.00146757]\n",
        "2 [[  2.49295869e-02   1.54000000e+02]\n",
        " [  4.48237594e+00   7.68000000e+02]]\n",
        "la [[  1.17431448e-01   1.54000000e+02]\n",
        " [  3.05427871e+03   7.68000000e+02]]\n",
        "1 154.0 [155 768] [ 0.21524884  0.00144884]\n",
        "2 [[  8.45488047e-03   1.55000000e+02]\n",
        " [  4.56472854e+00   7.68000000e+02]]\n",
        "la [[  3.92795641e-02   1.55000000e+02]\n",
        " [  3.15059935e+03   7.68000000e+02]]\n",
        "1 155.0 [156 768] [ 0.21616929  0.00139124]\n",
        "2 [[  3.79088471e-03   1.56000000e+02]\n",
        " [  4.64708114e+00   7.68000000e+02]]\n",
        "la [[  1.75366482e-02   1.56000000e+02]\n",
        " [  3.34023420e+03   7.68000000e+02]]\n",
        "1 156.0 [157 768] [ 0.21515538  0.00134823]\n",
        "2 [[  1.13616848e-02   1.57000000e+02]\n",
        " [  4.72943373e+00   7.68000000e+02]]\n",
        "la [[  5.28068824e-02   1.57000000e+02]\n",
        " [  3.50787179e+03   7.68000000e+02]]\n",
        "1 157.0 [158 768] [ 0.21251615  0.00136046]\n",
        "2 [[  1.04628143e-02   1.58000000e+02]\n",
        " [  4.81178633e+00   7.68000000e+02]]\n",
        "la [[  4.92330315e-02   1.58000000e+02]\n",
        " [  3.53688145e+03   7.68000000e+02]]\n",
        "1 158.0 [159 768] [ 0.20750668  0.00141455]\n",
        "2 [[  6.12292394e-03   1.59000000e+02]\n",
        " [  4.89413893e+00   7.68000000e+02]]\n",
        "la [[  2.95071168e-02   1.59000000e+02]\n",
        " [  3.45985533e+03   7.68000000e+02]]\n",
        "1 159.0 [160 768] [ 0.19735878  0.00146085]\n",
        "2 [[  3.06140629e-03   1.60000000e+02]\n",
        " [  4.97649153e+00   7.68000000e+02]]\n",
        "la [[  1.55118829e-02   1.60000000e+02]\n",
        " [  3.40658199e+03   7.68000000e+02]]\n",
        "1 160.0 [161 768] [ 0.18284288  0.00148259]\n",
        "2 [[  1.65948201e-02   1.61000000e+02]\n",
        " [  5.05884413e+00   7.68000000e+02]]\n",
        "la [[  9.07600035e-02   1.61000000e+02]\n",
        " [  3.41217139e+03   7.68000000e+02]]\n",
        "1 161.0 [162 768] [ 0.17289861  0.00150884]\n",
        "2 [[  2.40207833e-02   1.62000000e+02]\n",
        " [  5.14119672e+00   7.68000000e+02]]\n",
        "la [[  1.38929884e-01   1.62000000e+02]\n",
        " [  3.40738514e+03   7.68000000e+02]]\n",
        "1 162.0 [163 768] [ 0.17633889  0.001498  ]\n",
        "2 [[  7.54294843e-03   1.63000000e+02]\n",
        " [  5.22354932e+00   7.68000000e+02]]\n",
        "la [[  4.27752961e-02   1.63000000e+02]\n",
        " [  3.48702103e+03   7.68000000e+02]]\n",
        "1 163.0 [164 768] [ 0.19123979  0.00142875]\n",
        "2 [[  2.54792830e-02   1.64000000e+02]\n",
        " [  5.30590192e+00   7.68000000e+02]]\n",
        "la [[  1.33232121e-01   1.64000000e+02]\n",
        " [  3.71367240e+03   7.68000000e+02]]\n",
        "1 164.0 [165 768] [ 0.20354829  0.00139337]\n",
        "2 [[  2.99716278e-02   1.65000000e+02]\n",
        " [  5.38825452e+00   7.68000000e+02]]\n",
        "la [[  1.47245788e-01   1.65000000e+02]\n",
        " [  3.86706568e+03   7.68000000e+02]]\n",
        "1 165.0 [166 768] [ 0.20008382  0.00139476]\n",
        "2 [[  3.37087378e-02   1.66000000e+02]\n",
        " [  5.47060711e+00   7.68000000e+02]]\n",
        "la [[  1.68473080e-01   1.66000000e+02]\n",
        " [  3.92226033e+03   7.68000000e+02]]\n",
        "1 166.0 [167 768] [ 0.1865711   0.00145272]\n",
        "2 [[  2.78304886e-02   1.67000000e+02]\n",
        " [  5.55295971e+00   7.68000000e+02]]\n",
        "la [[  1.49168275e-01   1.67000000e+02]\n",
        " [  3.82244962e+03   7.68000000e+02]]\n",
        "1 167.0 [168 768] [ 0.1807073  0.001509 ]\n",
        "2 [[  4.19022034e-02   1.68000000e+02]\n",
        " [  5.63531231e+00   7.68000000e+02]]\n",
        "la [[  2.31878864e-01   1.68000000e+02]\n",
        " [  3.73447123e+03   7.68000000e+02]]\n",
        "1 168.0 [169 768] [ 0.189316    0.00150692]\n",
        "2 [[  2.26428699e-02   1.69000000e+02]\n",
        " [  5.71766491e+00   7.68000000e+02]]\n",
        "la [[  1.19603570e-01   1.69000000e+02]\n",
        " [  3.79426306e+03   7.68000000e+02]]\n",
        "1 169.0 [170 768] [ 0.20371258  0.00146028]\n",
        "2 [[  3.04867867e-02   1.70000000e+02]\n",
        " [  5.80001751e+00   7.68000000e+02]]\n",
        "la [[  1.49655889e-01   1.70000000e+02]\n",
        " [  3.97184360e+03   7.68000000e+02]]\n",
        "1 170.0 [171 768] [ 0.21277107  0.00144866]\n",
        "2 [[  3.16973613e-02   1.71000000e+02]\n",
        " [  5.88237010e+00   7.68000000e+02]]\n",
        "la [[  1.48974016e-01   1.71000000e+02]\n",
        " [  4.06055672e+03   7.68000000e+02]]\n",
        "1 171.0 [173 768] [ 0.01349242  0.00146692]\n",
        "2 [[  3.34981870e-02   1.73000000e+02]\n",
        " [  5.96472270e+00   7.68000000e+02]]\n",
        "la [[  2.48274206e+00   1.73000000e+02]\n",
        " [  4.06615181e+03   7.68000000e+02]]\n",
        "1 173.0 [174 768] [ 0.21876236  0.001421  ]\n",
        "2 [[  6.14736336e-03   1.74000000e+02]\n",
        " [  6.04707530e+00   7.68000000e+02]]\n",
        "la [[  2.81006447e-02   1.74000000e+02]\n",
        " [  4.25549964e+03   7.68000000e+02]]\n",
        "1 174.0 [175 768] [ 0.22264744  0.00137977]\n",
        "2 [[  1.24443341e-02   1.75000000e+02]\n",
        " [  6.12942790e+00   7.68000000e+02]]\n",
        "la [[  5.58925538e-02   1.75000000e+02]\n",
        " [  4.44234077e+03   7.68000000e+02]]\n",
        "1 175.0 [176 768] [ 0.22597292  0.0013415 ]\n",
        "2 [[  2.99871379e-02   1.76000000e+02]\n",
        " [  6.21178050e+00   7.68000000e+02]]\n",
        "la [[  1.32702353e-01   1.76000000e+02]\n",
        " [  4.63047685e+03   7.68000000e+02]]\n",
        "1 176.0 [179 768] [ 0.007026    0.00130675]\n",
        "2 [[  2.72295084e-02   1.79000000e+02]\n",
        " [  6.29413309e+00   7.68000000e+02]]\n",
        "la [[  3.87553734e+00   1.79000000e+02]\n",
        " [  4.81662187e+03   7.68000000e+02]]\n",
        "1 179.0 [180 768] [ 0.23664912  0.00122732]\n",
        "2 [[  8.05734257e-03   1.80000000e+02]\n",
        " [  6.37648569e+00   7.68000000e+02]]\n",
        "la [[  3.40476332e-02   1.80000000e+02]\n",
        " [  5.19547541e+03   7.68000000e+02]]\n",
        "1 180.0 [181 768] [ 0.23985341  0.00122849]\n",
        "2 [[  2.94316827e-02   1.81000000e+02]\n",
        " [  6.45883829e+00   7.68000000e+02]]\n",
        "la [[  1.22706961e-01   1.81000000e+02]\n",
        " [  5.25752530e+03   7.68000000e+02]]\n",
        "1 181.0 [182 768] [ 0.24269071  0.00122977]\n",
        "2 [[  1.00700240e-02   1.82000000e+02]\n",
        " [  6.54119089e+00   7.68000000e+02]]\n",
        "la [[  4.14932415e-02   1.82000000e+02]\n",
        " [  5.31902910e+03   7.68000000e+02]]\n",
        "1 182.0 [183 768] [ 0.24545493  0.00122868]\n",
        "2 [[  1.52071374e-02   1.83000000e+02]\n",
        " [  6.62354349e+00   7.68000000e+02]]\n",
        "la [[  6.19549065e-02   1.83000000e+02]\n",
        " [  5.39079347e+03   7.68000000e+02]]\n",
        "1 183.0 [184 768] [ 0.24887347  0.00121197]\n",
        "2 [[  1.87560840e-02   1.84000000e+02]\n",
        " [  6.70589608e+00   7.68000000e+02]]\n",
        "la [[  7.53639359e-02   1.84000000e+02]\n",
        " [  5.53307407e+03   7.68000000e+02]]\n",
        "1 184.0 [185 768] [ 0.25312023  0.00118079]\n",
        "2 [[  3.20923130e-03   1.85000000e+02]\n",
        " [  6.78824868e+00   7.68000000e+02]]\n",
        "la [[  1.26786833e-02   1.85000000e+02]\n",
        " [  5.74889969e+03   7.68000000e+02]]\n",
        "1 185.0 [186 768] [ 0.25782181  0.0011768 ]\n",
        "2 [[  8.67109383e-03   1.86000000e+02]\n",
        " [  6.87060128e+00   7.68000000e+02]]\n",
        "la [[  3.36321193e-02   1.86000000e+02]\n",
        " [  5.83836178e+03   7.68000000e+02]]\n",
        "1 186.0 [187 768] [ 0.26234549  0.00117331]\n",
        "2 [[  3.99816637e-03   1.87000000e+02]\n",
        " [  6.95295388e+00   7.68000000e+02]]\n",
        "la [[  1.52400803e-02   1.87000000e+02]\n",
        " [  5.92592670e+03   7.68000000e+02]]\n",
        "1 187.0 [188 768] [ 0.26598299  0.00117707]\n",
        "2 [[  2.42233335e-02   1.88000000e+02]\n",
        " [  7.03530648e+00   7.68000000e+02]]\n",
        "la [[  9.10709872e-02   1.88000000e+02]\n",
        " [  5.97697163e+03   7.68000000e+02]]\n",
        "1 188.0 [189 768] [ 0.26831777  0.0011905 ]\n",
        "2 [[  3.67598574e-02   1.89000000e+02]\n",
        " [  7.11765907e+00   7.68000000e+02]]\n",
        "la [[  1.37001204e-01   1.89000000e+02]\n",
        " [  5.97869153e+03   7.68000000e+02]]\n",
        "1 189.0 [191 768] [ 0.0161149   0.00120439]\n",
        "2 [[  3.34179480e-02   1.91000000e+02]\n",
        " [  7.20001167e+00   7.68000000e+02]]\n",
        "la [[  2.07373022e+00   1.91000000e+02]\n",
        " [  5.97813562e+03   7.68000000e+02]]\n",
        "1 191.0 [192 768] [ 0.26657447  0.00118358]\n",
        "2 [[  2.98729745e-02   1.92000000e+02]\n",
        " [  7.28236427e+00   7.68000000e+02]]\n",
        "la [[  1.12062397e-01   1.92000000e+02]\n",
        " [  6.15281395e+03   7.68000000e+02]]\n",
        "1 192.0 [192 768] [ 0.0158988   0.00117298]\n",
        "2 [[  5.24796234e-02   1.92000000e+02]\n",
        " [  7.36471687e+00   7.68000000e+02]]\n",
        "la [[  3.30085352e+00   1.92000000e+02]\n",
        " [  6.27863231e+03   7.68000000e+02]]\n",
        "1 192.0 [193 768] [ 0.26355448  0.00117298]\n",
        "2 [[  9.03864613e-03   1.93000000e+02]\n",
        " [  7.44706946e+00   7.68000000e+02]]\n",
        "la [[  3.42951718e-02   1.93000000e+02]\n",
        " [  6.34884027e+03   7.68000000e+02]]\n",
        "1 193.0 [195 768] [ 0.01532756  0.00115703]\n",
        "2 [[  6.79198515e-03   1.95000000e+02]\n",
        " [  7.52942206e+00   7.68000000e+02]]\n",
        "la [[  4.43122344e-01   1.95000000e+02]\n",
        " [  6.50753749e+03   7.68000000e+02]]\n",
        "1 195.0 [196 768] [ 0.2783692   0.00112388]\n",
        "2 [[  3.88349824e-02   1.96000000e+02]\n",
        " [  7.61177466e+00   7.68000000e+02]]\n",
        "la [[  1.39508905e-01   1.96000000e+02]\n",
        " [  6.77273496e+03   7.68000000e+02]]\n",
        "1 196.0 [197 768] [ 0.2824709   0.00111473]\n",
        "2 [[  4.46468927e-03   1.97000000e+02]\n",
        " [  7.69412726e+00   7.68000000e+02]]\n",
        "la [[  1.58058380e-02   1.97000000e+02]\n",
        " [  6.90220421e+03   7.68000000e+02]]\n",
        "1 197.0 [198 768] [ 0.28440573  0.00112713]\n",
        "2 [[  9.50580788e-03   1.98000000e+02]\n",
        " [  7.77647986e+00   7.68000000e+02]]\n",
        "la [[  3.34234044e-02   1.98000000e+02]\n",
        " [  6.89939205e+03   7.68000000e+02]]"
       ]
      },
      {
       "output_type": "stream",
       "stream": "stdout",
       "text": [
        "\n",
        "1 198.0 [199 768] [ 0.28318436  0.00114204]\n",
        "2 [[  1.15464158e-03   1.99000000e+02]\n",
        " [  7.85883245e+00   7.68000000e+02]]\n",
        "la [[  4.07734942e-03   1.99000000e+02]\n",
        " [  6.88142791e+03   7.68000000e+02]]\n",
        "1 199.0 [200 768] [ 0.27929527  0.00115491]\n",
        "2 [[  3.14390953e-04   2.00000000e+02]\n",
        " [  7.94118505e+00   7.68000000e+02]]\n",
        "la [[  1.12565801e-03   2.00000000e+02]\n",
        " [  6.87600857e+03   7.68000000e+02]]\n",
        "1 200.0 [201 768] [ 0.27721518  0.0011806 ]\n",
        "2 [[  1.28135511e-02   2.01000000e+02]\n",
        " [  8.02353765e+00   7.68000000e+02]]\n",
        "la [[  4.62224015e-02   2.01000000e+02]\n",
        " [  6.79613966e+03   7.68000000e+02]]\n",
        "1 201.0 [202 768] [ 0.28098331  0.00117816]\n",
        "2 [[  1.88411625e-02   2.02000000e+02]\n",
        " [  8.10589025e+00   7.68000000e+02]]\n",
        "la [[  6.70543827e-02   2.02000000e+02]\n",
        " [  6.88010947e+03   7.68000000e+02]]\n",
        "1 202.0 [203 768] [ 0.28937421  0.00115617]\n",
        "2 [[  2.41403246e-02   2.03000000e+02]\n",
        " [  8.18824285e+00   7.68000000e+02]]\n",
        "la [[  8.34225148e-02   2.03000000e+02]\n",
        " [  7.08222635e+03   7.68000000e+02]]\n",
        "1 203.0 [204 768] [ 0.29771207  0.0011251 ]\n",
        "2 [[  4.88745329e-02   2.04000000e+02]\n",
        " [  8.27059544e+00   7.68000000e+02]]\n",
        "la [[  1.64167121e-01   2.04000000e+02]\n",
        " [  7.35101833e+03   7.68000000e+02]]\n",
        "1 204.0 [204 768] [ 0.01081492  0.00114455]\n",
        "2 [[  3.34780651e-02   2.04000000e+02]\n",
        " [  8.35294804e+00   7.68000000e+02]]\n",
        "la [[  3.09554528e+00   2.04000000e+02]\n",
        " [  7.29799375e+03   7.68000000e+02]]\n",
        "1 204.0 [205 768] [ 0.30277853  0.00114455]\n",
        "2 [[  1.29200555e-02   2.05000000e+02]\n",
        " [  8.43530064e+00   7.68000000e+02]]\n",
        "la [[  4.26716375e-02   2.05000000e+02]\n",
        " [  7.36994545e+03   7.68000000e+02]]\n",
        "1 205.0 [206 768] [ 0.304024    0.00115724]\n",
        "2 [[  8.48226725e-04   2.06000000e+02]\n",
        " [  8.51765324e+00   7.68000000e+02]]\n",
        "la [[  2.78999926e-03   2.06000000e+02]\n",
        " [  7.36034863e+03   7.68000000e+02]]\n",
        "1 206.0 [207 768] [ 0.3010639   0.00117203]\n",
        "2 [[  8.95887933e-03   2.07000000e+02]\n",
        " [  8.60000584e+00   7.68000000e+02]]\n",
        "la [[  2.97574015e-02   2.07000000e+02]\n",
        " [  7.33773141e+03   7.68000000e+02]]\n",
        "1 207.0 [208 768] [ 0.29418538  0.00118043]\n",
        "2 [[  1.00746497e-02   2.08000000e+02]\n",
        " [  8.68235843e+00   7.68000000e+02]]\n",
        "la [[  3.42459227e-02   2.08000000e+02]\n",
        " [  7.35527737e+03   7.68000000e+02]]\n",
        "1 208.0 [209 768] [ 0.28722553  0.00120082]\n",
        "2 [[  1.61859961e-02   2.09000000e+02]\n",
        " [  8.76471103e+00   7.68000000e+02]]\n",
        "la [[  5.63529168e-02   2.09000000e+02]\n",
        " [  7.29890981e+03   7.68000000e+02]]\n",
        "1 209.0 [210 768] [ 0.28425047  0.00121108]\n",
        "2 [[  3.09397323e-02   2.10000000e+02]\n",
        " [  8.84706363e+00   7.68000000e+02]]\n",
        "la [[  1.08846722e-01   2.10000000e+02]\n",
        " [  7.30510071e+03   7.68000000e+02]]\n",
        "1 210.0 [211 768] [ 0.2846058  0.0012182]\n",
        "2 [[  3.38244306e-02   2.11000000e+02]\n",
        " [  8.92941623e+00   7.68000000e+02]]\n",
        "la [[  1.18846598e-01   2.11000000e+02]\n",
        " [  7.33002842e+03   7.68000000e+02]]\n",
        "1 211.0 [212 768] [ 0.28387268  0.00122259]\n",
        "2 [[  3.94228505e-02   2.12000000e+02]\n",
        " [  9.01176883e+00   7.68000000e+02]]\n",
        "la [[  1.38875114e-01   2.12000000e+02]\n",
        " [  7.37103046e+03   7.68000000e+02]]\n",
        "1 212.0 [212 768] [ 0.00902769  0.00124515]\n",
        "2 [[  4.29297475e-02   2.12000000e+02]\n",
        " [  9.09412142e+00   7.68000000e+02]]\n",
        "la [[  4.75533930e+00   2.12000000e+02]\n",
        " [  7.30366042e+03   7.68000000e+02]]\n",
        "1 212.0 [213 768] [ 0.2792991   0.00124515]\n",
        "2 [[  3.55200448e-02   2.13000000e+02]\n",
        " [  9.17647402e+00   7.68000000e+02]]\n",
        "la [[  1.27175651e-01   2.13000000e+02]\n",
        " [  7.36979935e+03   7.68000000e+02]]\n",
        "1 213.0 [214 768] [ 0.27385142  0.00129343]\n",
        "2 [[  3.25848246e-02   2.14000000e+02]\n",
        " [  9.25882662e+00   7.68000000e+02]]\n",
        "la [[  1.18987242e-01   2.14000000e+02]\n",
        " [  7.15834808e+03   7.68000000e+02]]\n",
        "1 214.0 [215 768] [ 0.27147704  0.00131233]\n",
        "2 [[  2.79548942e-02   2.15000000e+02]\n",
        " [  9.34117922e+00   7.68000000e+02]]\n",
        "la [[  1.02973327e-01   2.15000000e+02]\n",
        " [  7.11801332e+03   7.68000000e+02]]\n",
        "1 215.0 [216 768] [ 0.2724703   0.00131902]\n",
        "2 [[  2.83201610e-02   2.16000000e+02]\n",
        " [  9.42353181e+00   7.68000000e+02]]\n",
        "la [[  1.03938524e-01   2.16000000e+02]\n",
        " [  7.14433751e+03   7.68000000e+02]]\n",
        "1 216.0 [217 768] [ 0.27592689  0.00132827]\n",
        "2 [[  3.32280931e-02   2.17000000e+02]\n",
        " [  9.50588441e+00   7.68000000e+02]]\n",
        "la [[  1.20423541e-01   2.17000000e+02]\n",
        " [  7.15660838e+03   7.68000000e+02]]\n",
        "1 217.0 [219 768] [ 0.00511166  0.00134196]\n",
        "2 [[  3.09693562e-02   2.19000000e+02]\n",
        " [  9.58823701e+00   7.68000000e+02]]\n",
        "la [[  6.05856960e+00   2.19000000e+02]\n",
        " [  7.14497333e+03   7.68000000e+02]]\n",
        "1 219.0 [220 768] [ 0.29270383  0.0012625 ]\n",
        "2 [[  1.79968334e-02   2.20000000e+02]\n",
        " [  9.67058961e+00   7.68000000e+02]]\n",
        "la [[  6.14847900e-02   2.20000000e+02]\n",
        " [  7.65987359e+03   7.68000000e+02]]\n",
        "1 220.0 [221 768] [ 0.29521436  0.00126502]\n",
        "2 [[  7.87320998e-04   2.21000000e+02]\n",
        " [  9.75294221e+00   7.68000000e+02]]\n",
        "la [[  2.66694683e-03   2.21000000e+02]\n",
        " [  7.70970141e+03   7.68000000e+02]]\n",
        "1 221.0 [222 768] [ 0.29317858  0.00126356]\n",
        "2 [[  1.82485226e-02   2.22000000e+02]\n",
        " [  9.83529480e+00   7.68000000e+02]]\n",
        "la [[  6.22437095e-02   2.22000000e+02]\n",
        " [  7.78380006e+03   7.68000000e+02]]\n",
        "1 222.0 [224 768] [ 0.00326125  0.00123874]\n",
        "2 [[  2.50608017e-02   2.24000000e+02]\n",
        " [  9.91764740e+00   7.68000000e+02]]\n",
        "la [[  7.68441682e+00   2.24000000e+02]\n",
        " [  8.00624315e+03   7.68000000e+02]]\n",
        "1 224.0 [225 768] [ 0.27125625  0.00126015]\n",
        "2 [[   0.  225.]\n",
        " [  10.  768.]]\n",
        "la [[    0.           225.        ]\n",
        " [ 7935.58904888   768.        ]]\n",
        "1 225.0 [  0 512] [ 0.0006394  0.00087  ]\n",
        "2 [[  1.56057208e+01   0.00000000e+00]\n",
        " [  3.74022833e-02   5.12000000e+02]]\n",
        "la [[ 24406.95301599      0.        ]\n",
        " [    42.99112834    512.        ]]\n",
        "1 512.0 [  0 513] [ 0.00109503  0.11069694]\n",
        "2 [[  1.55235710e+01   0.00000000e+00]\n",
        " [  3.51082437e-02   5.13000000e+02]]\n",
        "la [[  1.41764213e+04   0.00000000e+00]\n",
        " [  3.17156406e-01   5.13000000e+02]]\n",
        "1 513.0 [  0 514] [ 0.00110535  0.11003511]\n",
        "2 [[  1.54414213e+01   0.00000000e+00]\n",
        " [  2.47411192e-02   5.14000000e+02]]\n",
        "la [[  1.39696552e+04   0.00000000e+00]\n",
        " [  2.24847505e-01   5.14000000e+02]]\n",
        "1 514.0 [  0 515] [ 0.00112535  0.11057922]\n",
        "2 [[  1.53592715e+01   0.00000000e+00]\n",
        " [  1.63308261e-02   5.15000000e+02]]\n",
        "la [[  1.36484512e+04   0.00000000e+00]\n",
        " [  1.47684401e-01   5.15000000e+02]]\n",
        "1 515.0 [  0 516] [ 0.00110365  0.1127732 ]\n",
        "2 [[  1.52771218e+01   0.00000000e+00]\n",
        " [  1.32509466e-02   5.16000000e+02]]\n",
        "la [[  1.38424149e+04   0.00000000e+00]\n",
        " [  1.17500853e-01   5.16000000e+02]]\n",
        "1 516.0 [  0 517] [ 0.00108348  0.11492245]\n",
        "2 [[  1.51949720e+01   0.00000000e+00]\n",
        " [  1.03316385e-02   5.17000000e+02]]\n",
        "la [[  1.40242462e+04   0.00000000e+00]\n",
        " [  8.99009588e-02   5.17000000e+02]]\n",
        "1 517.0 [  0 518] [ 0.0010779   0.11574124]\n",
        "2 [[  1.51128223e+01   0.00000000e+00]\n",
        " [  6.38692133e-03   5.18000000e+02]]\n",
        "la [[  1.40206441e+04   0.00000000e+00]\n",
        " [  5.51827609e-02   5.18000000e+02]]\n",
        "1 518.0 [  0 519] [ 0.00109075  0.11610636]\n",
        "2 [[  1.50306725e+01   0.00000000e+00]\n",
        " [  6.80893285e-04   5.19000000e+02]]\n",
        "la [[  1.37800694e+04   0.00000000e+00]\n",
        " [  5.86439265e-03   5.19000000e+02]]\n",
        "1 519.0 [  0 520] [ 0.00109001  0.11688473]\n",
        "2 [[  1.49485227e+01   0.00000000e+00]\n",
        " [  4.64388724e-03   5.20000000e+02]]\n",
        "la [[  1.37141306e+04   0.00000000e+00]\n",
        " [  3.97304852e-02   5.20000000e+02]]\n",
        "1 520.0 [  0 521] [ 0.00110303  0.1171709 ]\n",
        "2 [[  1.48663730e+01   0.00000000e+00]\n",
        " [  6.52673290e-03   5.21000000e+02]]\n",
        "la [[  1.34777250e+04   0.00000000e+00]\n",
        " [  5.57026799e-02   5.21000000e+02]]\n",
        "1 521.0 [  0 522] [ 0.00111871  0.11601656]\n",
        "2 [[  1.47842232e+01   0.00000000e+00]\n",
        " [  6.92214330e-03   5.22000000e+02]]\n",
        "la [[  1.32153668e+04   0.00000000e+00]\n",
        " [  5.96651320e-02   5.22000000e+02]]\n",
        "1 522.0 [  0 523] [ 0.00114682  0.11425535]\n",
        "2 [[  1.47020735e+01   0.00000000e+00]\n",
        " [  9.51265352e-03   5.23000000e+02]]\n",
        "la [[  1.28198470e+04   0.00000000e+00]\n",
        " [  8.32578400e-02   5.23000000e+02]]\n",
        "1 523.0 [  0 524] [ 0.00113949  0.1134544 ]\n",
        "2 [[  1.46199237e+01   0.00000000e+00]\n",
        " [  1.00359245e-02   5.24000000e+02]]\n",
        "la [[  1.28302355e+04   0.00000000e+00]\n",
        " [  8.84577798e-02   5.24000000e+02]]\n",
        "1 524.0 [  0 525] [ 0.00115715  0.11396681]\n",
        "2 [[  1.45377739e+01   0.00000000e+00]\n",
        " [  1.75405780e-02   5.25000000e+02]]\n",
        "la [[  1.25633835e+04   0.00000000e+00]\n",
        " [  1.53909530e-01   5.25000000e+02]]\n",
        "1 525.0 [  0 526] [ 0.00116148  0.11488828]\n",
        "2 [[  1.44556242e+01   0.00000000e+00]\n",
        " [  2.12102872e-02   5.26000000e+02]]\n",
        "la [[  1.24458693e+04   0.00000000e+00]\n",
        " [  1.84616638e-01   5.26000000e+02]]\n",
        "1 526.0 [  0 527] [ 0.00112722  0.11520553]\n",
        "2 [[  1.43734744e+01   0.00000000e+00]\n",
        " [  3.49226534e-02   5.27000000e+02]]\n",
        "la [[  1.27512555e+04   0.00000000e+00]\n",
        " [  3.03133490e-01   5.27000000e+02]]\n",
        "1 527.0 [  0 527] [ 0.00114368  0.00518439]\n",
        "2 [[  1.42913247e+01   0.00000000e+00]\n",
        " [  4.72271056e-02   5.27000000e+02]]\n",
        "la [[  1.24959163e+04   0.00000000e+00]\n",
        " [  9.10947903e+00   5.27000000e+02]]\n",
        "1 527.0 [  0 528] [ 0.00114368  0.11467959]\n",
        "2 [[  1.42091749e+01   0.00000000e+00]\n",
        " [  3.17099349e-02   5.28000000e+02]]\n",
        "la [[  1.24240870e+04   0.00000000e+00]\n",
        " [  2.76508972e-01   5.28000000e+02]]\n",
        "1 528.0 [  0 529] [ 0.00117978  0.11332097]\n",
        "2 [[  1.41270251e+01   0.00000000e+00]\n",
        " [  2.25627229e-02   5.29000000e+02]]\n",
        "la [[  1.19742800e+04   0.00000000e+00]\n",
        " [  1.99104576e-01   5.29000000e+02]]\n",
        "1 529.0 [  0 530] [ 0.00121527  0.1106838 ]\n",
        "2 [[  1.40448754e+01   0.00000000e+00]\n",
        " [  7.90905473e-02   5.30000000e+02]]\n",
        "la [[  1.15569762e+04   0.00000000e+00]\n",
        " [  7.14563007e-01   5.30000000e+02]]\n",
        "1 530.0 [  0 530] [ 0.00127291  0.00421703]\n",
        "2 [[  1.39627256e+01   0.00000000e+00]\n",
        " [  3.05921174e-03   5.30000000e+02]]\n",
        "la [[  1.09691013e+04   0.00000000e+00]\n",
        " [  7.25441735e-01   5.30000000e+02]]\n",
        "1 530.0 [  0 531] [ 0.00127291  0.10753571]\n",
        "2 [[  1.38805759e+01   0.00000000e+00]\n",
        " [  2.00958250e-02   5.31000000e+02]]\n",
        "la [[  1.09045646e+04   0.00000000e+00]\n",
        " [  1.86875828e-01   5.31000000e+02]]\n",
        "1 531.0 [  0 532] [ 0.0013134   0.10557127]\n",
        "2 [[  1.37984261e+01   0.00000000e+00]\n",
        " [  4.26046979e-02   5.32000000e+02]]\n",
        "la [[  1.05058732e+04   0.00000000e+00]\n",
        " [  4.03563358e-01   5.32000000e+02]]\n",
        "1 532.0 [  0 532] [ 0.00130616  0.00481931]\n",
        "2 [[  1.37162763e+01   0.00000000e+00]\n",
        " [  3.95450611e-02   5.32000000e+02]]\n",
        "la [[  1.05012550e+04   0.00000000e+00]\n",
        " [  8.20553963e+00   5.32000000e+02]]\n",
        "1 532.0 [  0 533] [ 0.00130616  0.10424091]\n",
        "2 [[  1.36341266e+01   0.00000000e+00]\n",
        " [  2.73489170e-02   5.33000000e+02]]\n",
        "la"
       ]
      },
      {
       "output_type": "stream",
       "stream": "stdout",
       "text": [
        " [[  1.04383607e+04   0.00000000e+00]\n",
        " [  2.62362617e-01   5.33000000e+02]]\n",
        "1 533.0 [  0 534] [ 0.00131366  0.10188317]\n",
        "2 [[  1.35519768e+01   0.00000000e+00]\n",
        " [  1.45209875e-02   5.34000000e+02]]\n",
        "la [[  1.03161966e+04   0.00000000e+00]\n",
        " [  1.42525872e-01   5.34000000e+02]]\n",
        "1 534.0 [  0 535] [ 0.00130811  0.09910544]\n",
        "2 [[  1.34698271e+01   0.00000000e+00]\n",
        " [  2.06936259e-03   5.35000000e+02]]\n",
        "la [[  1.02971817e+04   0.00000000e+00]\n",
        " [  2.08804129e-02   5.35000000e+02]]\n",
        "1 535.0 [  0 536] [ 0.00129777  0.09756794]\n",
        "2 [[  1.33876773e+01   0.00000000e+00]\n",
        " [  9.86167669e-03   5.36000000e+02]]\n",
        "la [[  1.03159005e+04   0.00000000e+00]\n",
        " [  1.01074972e-01   5.36000000e+02]]\n",
        "1 536.0 [  0 537] [ 0.00128958  0.09792241]\n",
        "2 [[  1.33055276e+01   0.00000000e+00]\n",
        " [  2.22252980e-02   5.37000000e+02]]\n",
        "la [[  1.03177153e+04   0.00000000e+00]\n",
        " [  2.26968446e-01   5.37000000e+02]]\n",
        "1 537.0 [  0 538] [ 0.00131387  0.10022928]\n",
        "2 [[  1.32233778e+01   0.00000000e+00]\n",
        " [  3.76518717e-02   5.38000000e+02]]\n",
        "la [[  1.00644648e+04   0.00000000e+00]\n",
        " [  3.75657400e-01   5.38000000e+02]]\n",
        "1 538.0 [  0 538] [ 0.00131804  0.00407178]\n",
        "2 [[  1.31412280e+01   0.00000000e+00]\n",
        " [  4.44978873e-02   5.38000000e+02]]\n",
        "la [[ 9970.25686396     0.        ]\n",
        " [   10.92835464   538.        ]]\n",
        "1 538.0 [  0 539] [ 0.00131804  0.10369847]\n",
        "2 [[  1.30590783e+01   0.00000000e+00]\n",
        " [  2.80405122e-02   5.39000000e+02]]\n",
        "la [[  9.90792980e+03   0.00000000e+00]\n",
        " [  2.70404293e-01   5.39000000e+02]]\n",
        "1 539.0 [  0 540] [ 0.0013347   0.10690943]\n",
        "2 [[  1.29769285e+01   0.00000000e+00]\n",
        " [  1.34359539e-02   5.40000000e+02]]\n",
        "la [[  9.72271888e+03   0.00000000e+00]\n",
        " [  1.25676039e-01   5.40000000e+02]]\n",
        "1 540.0 [  0 541] [ 0.00137462  0.10950364]\n",
        "2 [[  1.28947788e+01   0.00000000e+00]\n",
        " [  1.23352405e-03   5.41000000e+02]]\n",
        "la [[  9.38062985e+03   0.00000000e+00]\n",
        " [  1.12646851e-02   5.41000000e+02]]\n",
        "1 541.0 [  0 542] [ 0.00139443  0.11183779]\n",
        "2 [[  1.28126290e+01   0.00000000e+00]\n",
        " [  1.00046776e-02   5.42000000e+02]]\n",
        "la [[  9.18844731e+03   0.00000000e+00]\n",
        " [  8.94570389e-02   5.42000000e+02]]\n",
        "1 542.0 [  0 543] [ 0.00134265  0.11384466]\n",
        "2 [[  1.27304792e+01   0.00000000e+00]\n",
        " [  1.96478016e-02   5.43000000e+02]]\n",
        "la [[  9.48162539e+03   0.00000000e+00]\n",
        " [  1.72584308e-01   5.43000000e+02]]\n",
        "1 543.0 [  0 544] [ 0.00132267  0.11533213]\n",
        "2 [[  1.26483295e+01   0.00000000e+00]\n",
        " [  3.39461553e-02   5.44000000e+02]]\n",
        "la [[  9.56270805e+03   0.00000000e+00]\n",
        " [  2.94333887e-01   5.44000000e+02]]\n",
        "1 544.0 [  0 544] [ 0.00129339  0.00522816]\n",
        "2 [[  1.25661797e+01   0.00000000e+00]\n",
        " [  4.82036037e-02   5.44000000e+02]]\n",
        "la [[  9.71569679e+03   0.00000000e+00]\n",
        " [  9.21999850e+00   5.44000000e+02]]\n",
        "1 544.0 [  0 545] [ 0.00129339  0.11598597]\n",
        "2 [[  1.24840300e+01   0.00000000e+00]\n",
        " [  3.28551030e-02   5.45000000e+02]]\n",
        "la [[  9.65218169e+03   0.00000000e+00]\n",
        " [  2.83267895e-01   5.45000000e+02]]\n",
        "1 545.0 [  0 546] [ 0.00127802  0.11536127]\n",
        "2 [[  1.24018802e+01   0.00000000e+00]\n",
        " [  1.81989654e-02   5.46000000e+02]]\n",
        "la [[  9.70399235e+03   0.00000000e+00]\n",
        " [  1.57756289e-01   5.46000000e+02]]\n",
        "1 546.0 [  0 547] [ 0.00127478  0.11416076]\n",
        "2 [[  1.23197304e+01   0.00000000e+00]\n",
        " [  2.38495658e-03   5.47000000e+02]]\n",
        "la [[  9.66423279e+03   0.00000000e+00]\n",
        " [  2.08912112e-02   5.47000000e+02]]\n",
        "1 547.0 [  0 548] [ 0.00125844  0.11414996]\n",
        "2 [[  1.22375807e+01   0.00000000e+00]\n",
        " [  7.78426277e-03   5.48000000e+02]]\n",
        "la [[  9.72443288e+03   0.00000000e+00]\n",
        " [  6.81933033e-02   5.48000000e+02]]\n",
        "1 548.0 [  0 549] [ 0.00123248  0.11578085]\n",
        "2 [[  1.21554309e+01   0.00000000e+00]\n",
        " [  1.81861905e-02   5.49000000e+02]]\n",
        "la [[  9.86259392e+03   0.00000000e+00]\n",
        " [  1.57074258e-01   5.49000000e+02]]\n",
        "1 549.0 [  0 550] [ 0.00125571  0.11763065]\n",
        "2 [[  1.20732812e+01   0.00000000e+00]\n",
        " [  2.98015620e-02   5.50000000e+02]]\n",
        "la [[  9.61473104e+03   0.00000000e+00]\n",
        " [  2.53348608e-01   5.50000000e+02]]\n",
        "1 550.0 [  0 551] [ 0.00126753  0.11862227]\n",
        "2 [[  1.19911314e+01   0.00000000e+00]\n",
        " [  4.07160305e-02   5.51000000e+02]]\n",
        "la [[  9.46023137e+03   0.00000000e+00]\n",
        " [  3.43241044e-01   5.51000000e+02]]\n",
        "1 551.0 [  0 551] [ 0.00126924  0.00510931]\n",
        "2 [[  1.19089817e+01   0.00000000e+00]\n",
        " [  4.14337285e-02   5.51000000e+02]]\n",
        "la [[  9.38280003e+03   0.00000000e+00]\n",
        " [  8.10944985e+00   5.51000000e+02]]\n",
        "1 551.0 [  0 552] [ 0.00126924  0.1189952 ]\n",
        "2 [[  1.18268319e+01   0.00000000e+00]\n",
        " [  2.75296143e-02   5.52000000e+02]]\n",
        "la [[  9.31807621e+03   0.00000000e+00]\n",
        " [  2.31350634e-01   5.52000000e+02]]\n",
        "1 552.0 [  0 553] [ 0.00128085  0.11914687]\n",
        "2 [[  1.17446821e+01   0.00000000e+00]\n",
        " [  1.82091975e-02   5.53000000e+02]]\n",
        "la [[  9.16946197e+03   0.00000000e+00]\n",
        " [  1.52829846e-01   5.53000000e+02]]\n",
        "1 553.0 [  0 554] [ 0.00127986  0.11903547]\n",
        "2 [[  1.16625324e+01   0.00000000e+00]\n",
        " [  3.77548651e-04   5.54000000e+02]]\n",
        "la [[  9.11235392e+03   0.00000000e+00]\n",
        " [  3.17173238e-03   5.54000000e+02]]\n",
        "1 554.0 [  0 555] [ 0.00130728  0.11838887]\n",
        "2 [[  1.15803826e+01   0.00000000e+00]\n",
        " [  1.64672514e-02   5.55000000e+02]]\n",
        "la [[  8.85837273e+03   0.00000000e+00]\n",
        " [  1.39094594e-01   5.55000000e+02]]\n",
        "1 555.0 [  0 556] [ 0.0012892  0.1170821]\n",
        "2 [[  1.14982329e+01   0.00000000e+00]\n",
        " [  2.42512650e-02   5.56000000e+02]]\n",
        "la [[  8.91887716e+03   0.00000000e+00]\n",
        " [  2.07130418e-01   5.56000000e+02]]\n",
        "1 556.0 [  0 557] [ 0.00126434  0.11529106]\n",
        "2 [[  1.14160831e+01   0.00000000e+00]\n",
        " [  2.92562104e-02   5.57000000e+02]]\n",
        "la [[  9.02924777e+03   0.00000000e+00]\n",
        " [  2.53759565e-01   5.57000000e+02]]\n",
        "1 557.0 [  0 558] [ 0.00128385  0.11345714]\n",
        "2 [[  1.13339333e+01   0.00000000e+00]\n",
        " [  3.50703696e-02   5.58000000e+02]]\n",
        "la [[  8.82808126e+03   0.00000000e+00]\n",
        " [  3.09106777e-01   5.58000000e+02]]\n",
        "1 558.0 [  0 558] [ 0.00131108  0.00554086]\n",
        "2 [[  1.12517836e+01   0.00000000e+00]\n",
        " [  4.70793894e-02   5.58000000e+02]]\n",
        "la [[  8.58206428e+03   0.00000000e+00]\n",
        " [  8.49676907e+00   5.58000000e+02]]\n",
        "1 558.0 [  0 559] [ 0.00131108  0.11239195]\n",
        "2 [[  1.11696338e+01   0.00000000e+00]\n",
        " [  2.54824215e-02   5.59000000e+02]]\n",
        "la [[  8.51940625e+03   0.00000000e+00]\n",
        " [  2.26728170e-01   5.59000000e+02]]\n",
        "1 559.0 [  0 560] [ 0.00129339  0.11241382]\n",
        "2 [[  1.10874841e+01   0.00000000e+00]\n",
        " [  8.61164006e-03   5.60000000e+02]]\n",
        "la [[  8.57240526e+03   0.00000000e+00]\n",
        " [  7.66065938e-02   5.60000000e+02]]\n",
        "1 560.0 [  0 561] [ 0.00124637  0.11280174]\n",
        "2 [[  1.10053343e+01   0.00000000e+00]\n",
        " [  4.88054426e-03   5.61000000e+02]]\n",
        "la [[  8.82990176e+03   0.00000000e+00]\n",
        " [  4.32665697e-02   5.61000000e+02]]\n",
        "1 561.0 [  0 562] [ 0.00123483  0.11296582]\n",
        "2 [[  1.09231845e+01   0.00000000e+00]\n",
        " [  1.86976444e-02   5.62000000e+02]]\n",
        "la [[  8.84588296e+03   0.00000000e+00]\n",
        " [  1.65515948e-01   5.62000000e+02]]\n",
        "1 562.0 [  0 563] [ 0.00123491  0.11306791]\n",
        "2 [[  1.08410348e+01   0.00000000e+00]\n",
        " [  3.41325211e-02   5.63000000e+02]]\n",
        "la [[  8.77878085e+03   0.00000000e+00]\n",
        " [  3.01876276e-01   5.63000000e+02]]\n",
        "1 563.0 [  0 563] [ 0.00125549  0.00497742]\n",
        "2 [[  1.07588850e+01   0.00000000e+00]\n",
        " [  4.80172379e-02   5.63000000e+02]]\n",
        "la [[ 8569.48126485     0.        ]\n",
        " [    9.64700499   563.        ]]\n",
        "1 563.0 [  0 564] [ 0.00125549  0.11369345]\n",
        "2 [[  1.06767353e+01   0.00000000e+00]\n",
        " [  3.27618274e-02   5.64000000e+02]]\n",
        "la [[  8.50404876e+03   0.00000000e+00]\n",
        " [  2.88159316e-01   5.64000000e+02]]\n",
        "1 564.0 [  0 565] [ 0.00126085  0.11517378]\n",
        "2 [[  1.05945855e+01   0.00000000e+00]\n",
        " [  1.96130345e-02   5.65000000e+02]]\n",
        "la [[  8.40276387e+03   0.00000000e+00]\n",
        " [  1.70290794e-01   5.65000000e+02]]\n",
        "1 565.0 [  0 566] [ 0.0012872   0.11669169]\n",
        "2 [[  1.05124357e+01   0.00000000e+00]\n",
        " [  9.73985003e-03   5.66000000e+02]]\n",
        "la [[  8.16687552e+03   0.00000000e+00]\n",
        " [  8.34665261e-02   5.66000000e+02]]\n",
        "1 566.0 [  0 567] [ 0.0012804   0.11715868]\n",
        "2 [[  1.04302860e+01   0.00000000e+00]\n",
        " [  5.87717513e-04   5.67000000e+02]]\n",
        "la [[  8.14612321e+03   0.00000000e+00]\n",
        " [  5.01642308e-03   5.67000000e+02]]\n",
        "1 567.0 [  0 568] [ 0.00127672  0.11659048]\n",
        "2 [[  1.03481362e+01   0.00000000e+00]\n",
        " [  7.63640103e-03   5.68000000e+02]]\n",
        "la [[  8.10528056e+03   0.00000000e+00]\n",
        " [  6.54976384e-02   5.68000000e+02]]\n",
        "1 568.0 [  0 569] [ 0.00129417  0.11560653]\n",
        "2 [[  1.02659865e+01   0.00000000e+00]\n",
        " [  1.44485053e-02   5.69000000e+02]]\n",
        "la [[  7.93247760e+03   0.00000000e+00]\n",
        " [  1.24980013e-01   5.69000000e+02]]\n",
        "1 569.0 [  0 570] [ 0.00131924  0.11472618]\n",
        "2 [[  1.01838367e+01   0.00000000e+00]\n",
        " [  2.29154293e-02   5.70000000e+02]]\n",
        "la [[  7.71944692e+03   0.00000000e+00]\n",
        " [  1.99740185e-01   5.70000000e+02]]\n",
        "1 570.0 [  0 571] [ 0.00134356  0.11417019]\n",
        "2 [[  1.01016870e+01   0.00000000e+00]\n",
        " [  3.18367903e-02   5.71000000e+02]]\n",
        "la [[  7.51857193e+03   0.00000000e+00]\n",
        " [  2.78853793e-01   5.71000000e+02]]\n",
        "1 571.0 [  0 572] [ 0.00136931  0.11346975]\n",
        "2 [[  1.00195372e+01   0.00000000e+00]\n",
        " [  4.19522636e-02   5.72000000e+02]]\n",
        "la [[  7.31722674e+03   0.00000000e+00]\n",
        " [  3.69722016e-01   5.72000000e+02]]\n",
        "1 572.0 [  0 572] [ 0.00138099  0.00568708]\n",
        "2 [[  9.93738743e+00   0.00000000e+00]\n",
        " [  4.01974954e-02   5.72000000e+02]]\n",
        "la [[  7.19584239e+03   0.00000000e+00]\n",
        " [  7.06820912e+00   5.72000000e+02]]\n",
        "1 572.0 [  0 573] [ 0.00138099  0.11220117]\n",
        "2 [[  9.85523768e+00   0.00000000e+00]\n",
        " [  2.77266544e-02   5.73000000e+02]]\n",
        "la [[  7.13635626e+03   0.00000000e+00]\n",
        " [  2.47115561e-01   5.73000000e+02]]\n",
        "1 573.0 [  0 574] [ 0.0014101   0.11111007]\n",
        "2 [[  9.77308792e+00   0.00000000e+00]\n",
        " [  1.61466465e-02   5.74000000e+02]]\n",
        "la [[  6.93077170e+03   0.00000000e+00]\n",
        " [  1.45321185e-01   5.74000000e+02]]\n",
        "1 574.0 [  0 575] [ 0.00136691  0.11123622]\n",
        "2 [[  9.69093816e+00   0.00000000e+00]\n",
        " [  6.85855069e-03   5.75000000e+02]]\n",
        "la [[  7.08966130e+03   0.00000000e+00]\n",
        " [  6.16575337e-02   5.75000000e+02]]\n",
        "1 575.0 [  0 576] [ 0.00138069  0.11228242]\n",
        "2 [[  9.60878840e+00   0.00000000e+00]\n",
        " [  2.60370409e-02   5.76000000e+02]]\n",
        "la [[  6.95938683e+03   0.00000000e+00]\n",
        " [  2.31888843e-01   5.76000000e+02]]\n",
        "1 576.0 [  0 577] [ 0.00135091  0.11273117]\n",
        "2 [[  9.52663864e+00   0.00000000e+00]\n",
        " [  4.53355172e-02   5.77000000e+02]]\n",
        "la [[  7.05202608e+03   0.00000000e+00]\n",
        " [  4.02156009e-01   5.77000000e+02]]\n",
        "1 577.0 [  0 577] [ 0.00135354  0.00483804]\n",
        "2 [[  9.44448888e+00   0.00000000e+00]\n",
        " [  3.68142418e-02   5.77000000e+02]]\n",
        "la [[ 6977.63606658     0.        ]\n",
        " [    7.60933524   577.        ]]\n"
       ]
      },
      {
       "output_type": "stream",
       "stream": "stdout",
       "text": [
        "1 577.0 [  0 578] [ 0.00135354  0.11161547]\n",
        "2 [[  9.36233912e+00   0.00000000e+00]\n",
        " [  9.72341579e-03   5.78000000e+02]]\n",
        "la [[  6.91694341e+03   0.00000000e+00]\n",
        " [  8.71153028e-02   5.78000000e+02]]\n",
        "1 578.0 [  0 579] [ 0.00132844  0.10999605]\n",
        "2 [[  9.28018936e+00   0.00000000e+00]\n",
        " [  1.60075863e-02   5.79000000e+02]]\n",
        "la [[  6.98578529e+03   0.00000000e+00]\n",
        " [  1.45528741e-01   5.79000000e+02]]\n",
        "1 579.0 [  0 580] [ 0.0013217   0.10977019]\n",
        "2 [[  9.19803960e+00   0.00000000e+00]\n",
        " [  3.77883988e-02   5.80000000e+02]]\n",
        "la [[  6.95923071e+03   0.00000000e+00]\n",
        " [  3.44250111e-01   5.80000000e+02]]\n",
        "1 580.0 [  0 580] [ 0.00131326  0.00506799]\n",
        "2 [[  9.11588984e+00   0.00000000e+00]\n",
        " [  4.43613602e-02   5.80000000e+02]]\n",
        "la [[ 6941.41267694     0.        ]\n",
        " [    8.75324222   580.        ]]\n",
        "1 580.0 [  0 581] [ 0.00131326  0.11127873]\n",
        "2 [[  9.03374008e+00   0.00000000e+00]\n",
        " [  2.72632320e-02   5.81000000e+02]]\n",
        "la [[  6.87885868e+03   0.00000000e+00]\n",
        " [  2.44999499e-01   5.81000000e+02]]\n",
        "1 581.0 [  0 582] [ 0.00128371  0.11334752]\n",
        "2 [[  8.95159033e+00   0.00000000e+00]\n",
        " [  1.05559473e-02   5.82000000e+02]]\n",
        "la [[  6.97321354e+03   0.00000000e+00]\n",
        " [  9.31290503e-02   5.82000000e+02]]\n",
        "1 582.0 [  0 583] [ 0.00124447  0.11522754]\n",
        "2 [[  8.86944057e+00   0.00000000e+00]\n",
        " [  5.28717365e-03   5.83000000e+02]]\n",
        "la [[  7.12708644e+03   0.00000000e+00]\n",
        " [  4.58846369e-02   5.83000000e+02]]\n",
        "1 583.0 [  0 584] [ 0.00124079  0.11691312]\n",
        "2 [[  8.78729081e+00   0.00000000e+00]\n",
        " [  2.46035202e-02   5.84000000e+02]]\n",
        "la [[  7.08200161e+03   0.00000000e+00]\n",
        " [  2.10442762e-01   5.84000000e+02]]\n",
        "1 584.0 [  0 585] [ 0.0012614   0.11799029]\n",
        "2 [[  8.70514105e+00   0.00000000e+00]\n",
        " [  3.74883421e-02   5.85000000e+02]]\n",
        "la [[  6.90119212e+03   0.00000000e+00]\n",
        " [  3.17723954e-01   5.85000000e+02]]\n",
        "1 585.0 [  0 585] [ 0.0012534   0.00474798]\n",
        "2 [[  8.62299129e+00   0.00000000e+00]\n",
        " [  4.46614169e-02   5.85000000e+02]]\n",
        "la [[ 6879.69414916     0.        ]\n",
        " [    9.40640022   585.        ]]\n",
        "1 585.0 [  0 586] [ 0.0012534   0.11775925]\n",
        "2 [[  8.54084153e+00   0.00000000e+00]\n",
        " [  3.15473024e-02   5.86000000e+02]]\n",
        "la [[  6.81415248e+03   0.00000000e+00]\n",
        " [  2.67896600e-01   5.86000000e+02]]\n",
        "1 586.0 [  0 587] [ 0.00128473  0.1161612 ]\n",
        "2 [[  8.45869177e+00   0.00000000e+00]\n",
        " [  2.24471063e-02   5.87000000e+02]]\n",
        "la [[  6.58402369e+03   0.00000000e+00]\n",
        " [  1.93241003e-01   5.87000000e+02]]\n",
        "1 587.0 [  0 588] [ 0.00129483  0.11370455]\n",
        "2 [[  8.37654201e+00   0.00000000e+00]\n",
        " [  1.22463209e-02   5.88000000e+02]]\n",
        "la [[  6.46920054e+03   0.00000000e+00]\n",
        " [  1.07703001e-01   5.88000000e+02]]\n",
        "1 588.0 [  0 589] [ 0.00131034  0.11157115]\n",
        "2 [[  8.29439225e+00   0.00000000e+00]\n",
        " [  2.29378734e-03   5.89000000e+02]]\n",
        "la [[  6.32993093e+03   0.00000000e+00]\n",
        " [  2.05589645e-02   5.89000000e+02]]\n",
        "1 589.0 [  0 590] [ 0.00133195  0.11128379]\n",
        "2 [[  8.21224249e+00   0.00000000e+00]\n",
        " [  1.28706721e-02   5.90000000e+02]]\n",
        "la [[  6.16556610e+03   0.00000000e+00]\n",
        " [  1.15656306e-01   5.90000000e+02]]\n",
        "1 590.0 [  0 591] [ 0.0013371   0.11273959]\n",
        "2 [[  8.13009274e+00   0.00000000e+00]\n",
        " [  2.71486511e-02   5.91000000e+02]]\n",
        "la [[  6.08040691e+03   0.00000000e+00]\n",
        " [  2.40808505e-01   5.91000000e+02]]\n",
        "1 591.0 [  0 592] [ 0.00133505  0.11427958]\n",
        "2 [[  8.04794298e+00   0.00000000e+00]\n",
        " [  3.81524743e-02   5.92000000e+02]]\n",
        "la [[  6.02818562e+03   0.00000000e+00]\n",
        " [  3.33852080e-01   5.92000000e+02]]\n",
        "1 592.0 [  0 592] [ 0.00132163  0.00509863]\n",
        "2 [[  7.96579322e+00   0.00000000e+00]\n",
        " [  4.39972847e-02   5.92000000e+02]]\n",
        "la [[ 6027.23548625     0.        ]\n",
        " [    8.62923172   592.        ]]\n",
        "1 592.0 [  0 593] [ 0.00132163  0.11447579]\n",
        "2 [[  7.88364346e+00   0.00000000e+00]\n",
        " [  3.26248540e-02   5.93000000e+02]]\n",
        "la [[  5.96507772e+03   0.00000000e+00]\n",
        " [  2.84993481e-01   5.93000000e+02]]\n",
        "1 593.0 [  0 594] [ 0.00133094  0.11239575]\n",
        "2 [[  7.80149370e+00   0.00000000e+00]\n",
        " [  1.96364557e-02   5.94000000e+02]]\n",
        "la [[  5.86162014e+03   0.00000000e+00]\n",
        " [  1.74708169e-01   5.94000000e+02]]\n",
        "1 594.0 [  0 595] [ 0.00132371  0.10884177]\n",
        "2 [[  7.71934394e+00   0.00000000e+00]\n",
        " [  4.88338818e-04   5.95000000e+02]]\n",
        "la [[  5.83161098e+03   0.00000000e+00]\n",
        " [  4.48668594e-03   5.95000000e+02]]\n",
        "1 595.0 [  0 596] [ 0.00130737  0.10671018]\n",
        "2 [[  7.63719418e+00   0.00000000e+00]\n",
        " [  1.05994531e-02   5.96000000e+02]]\n",
        "la [[  5.84163755e+03   0.00000000e+00]\n",
        " [  9.93293557e-02   5.96000000e+02]]\n",
        "1 596.0 [  0 597] [ 0.00130146  0.10780291]\n",
        "2 [[  7.55504442e+00   0.00000000e+00]\n",
        " [  2.22809060e-02   5.97000000e+02]]\n",
        "la [[  5.80506075e+03   0.00000000e+00]\n",
        " [  2.06681869e-01   5.97000000e+02]]\n",
        "1 597.0 [  0 598] [ 0.00128795  0.11093064]\n",
        "2 [[  7.47289466e+00   0.00000000e+00]\n",
        " [  3.14734994e-02   5.98000000e+02]]\n",
        "la [[  5.80216100e+03   0.00000000e+00]\n",
        " [  2.83722337e-01   5.98000000e+02]]\n",
        "1 598.0 [  0 599] [ 0.00128456  0.1133604 ]\n",
        "2 [[  7.39074490e+00   0.00000000e+00]\n",
        " [  4.36304056e-02   5.99000000e+02]]\n",
        "la [[  5.75352178e+03   0.00000000e+00]\n",
        " [  3.84882247e-01   5.99000000e+02]]\n",
        "1 599.0 [  0 599] [ 0.00125718  0.00589231]\n",
        "2 [[  7.30859515e+00   0.00000000e+00]\n",
        " [  3.85193534e-02   5.99000000e+02]]\n",
        "la [[ 5813.49646287     0.        ]\n",
        " [    6.53722277   599.        ]]\n",
        "1 599.0 [  0 600] [ 0.00125718  0.11380606]\n",
        "2 [[  7.22644539e+00   0.00000000e+00]\n",
        " [  3.36654510e-02   6.00000000e+02]]\n",
        "la [[  5.74815185e+03   0.00000000e+00]\n",
        " [  2.95814231e-01   6.00000000e+02]]\n",
        "1 600.0 [  0 601] [ 0.0012844   0.11323322]\n",
        "2 [[  7.14429563e+00   0.00000000e+00]\n",
        " [  2.75269242e-02   6.01000000e+02]]\n",
        "la [[  5.56236123e+03   0.00000000e+00]\n",
        " [  2.43099358e-01   6.01000000e+02]]\n",
        "1 601.0 [  0 602] [ 0.00128265  0.11285621]\n",
        "2 [[  7.06214587e+00   0.00000000e+00]\n",
        " [  2.19430025e-02   6.02000000e+02]]\n",
        "la [[  5.50588745e+03   0.00000000e+00]\n",
        " [  1.94433272e-01   6.02000000e+02]]\n",
        "1 602.0 [  0 603] [ 0.00127652  0.11319763]\n",
        "2 [[  6.97999611e+00   0.00000000e+00]\n",
        " [  1.63802959e-02   6.03000000e+02]]\n",
        "la [[  5.46797840e+03   0.00000000e+00]\n",
        " [  1.44705284e-01   6.03000000e+02]]\n",
        "1 603.0 [  0 604] [ 0.0013154   0.11402427]\n",
        "2 [[  6.89784635e+00   0.00000000e+00]\n",
        " [  6.73876916e-03   6.04000000e+02]]\n",
        "la [[  5.24391606e+03   0.00000000e+00]\n",
        " [  5.90994269e-02   6.04000000e+02]]\n",
        "1 604.0 [  0 605] [ 0.00134517  0.11460434]\n",
        "2 [[  6.81569659e+00   0.00000000e+00]\n",
        " [  4.64474980e-04   6.05000000e+02]]\n",
        "la [[  5.06679281e+03   0.00000000e+00]\n",
        " [  4.05285696e-03   6.05000000e+02]]\n",
        "1 605.0 [  0 606] [ 0.00134181  0.11494248]\n",
        "2 [[  6.73354683e+00   0.00000000e+00]\n",
        " [  1.38627311e-02   6.06000000e+02]]\n",
        "la [[  5.01826162e+03   0.00000000e+00]\n",
        " [  1.20605811e-01   6.06000000e+02]]\n",
        "1 606.0 [  0 607] [ 0.00136328  0.11569265]\n",
        "2 [[  6.65139707e+00   0.00000000e+00]\n",
        " [  2.82370924e-02   6.07000000e+02]]\n",
        "la [[  4.87897229e+03   0.00000000e+00]\n",
        " [  2.44069887e-01   6.07000000e+02]]\n",
        "1 607.0 [  0 608] [ 0.00142414  0.1171186 ]\n",
        "2 [[  6.56924731e+00   0.00000000e+00]\n",
        " [  3.64725938e-02   6.08000000e+02]]\n",
        "la [[  4.61278986e+03   0.00000000e+00]\n",
        " [  3.11415900e-01   6.08000000e+02]]\n",
        "1 608.0 [  0 608] [ 0.00143641  0.00469844]\n",
        "2 [[  6.48709756e+00   0.00000000e+00]\n",
        " [  4.56771652e-02   6.08000000e+02]]\n",
        "la [[ 4516.18504907     0.        ]\n",
        " [    9.72176244   608.        ]]\n",
        "1 608.0 [  0 609] [ 0.00143641  0.11865159]\n",
        "2 [[  6.40494780e+00   0.00000000e+00]\n",
        " [  2.81656968e-02   6.09000000e+02]]\n",
        "la [[  4.45899406e+03   0.00000000e+00]\n",
        " [  2.37381528e-01   6.09000000e+02]]\n",
        "1 609.0 [  0 610] [ 0.00144358  0.11905329]\n",
        "2 [[  6.32279804e+00   0.00000000e+00]\n",
        " [  9.06373054e-03   6.10000000e+02]]\n",
        "la [[  4.37993196e+03   0.00000000e+00]\n",
        " [  7.61317082e-02   6.10000000e+02]]\n",
        "1 610.0 [  0 611] [ 0.00140363  0.11814151]\n",
        "2 [[  6.24064828e+00   0.00000000e+00]\n",
        " [  7.98446711e-03   6.11000000e+02]]\n",
        "la [[  4.44608406e+03   0.00000000e+00]\n",
        " [  6.75839291e-02   6.11000000e+02]]\n",
        "1 611.0 [  0 612] [ 0.0013895  0.1174432]\n",
        "2 [[  6.15849852e+00   0.00000000e+00]\n",
        " [  1.64380659e-02   6.12000000e+02]]\n",
        "la [[  4.43215465e+03   0.00000000e+00]\n",
        " [  1.39966095e-01   6.12000000e+02]]\n",
        "1 612.0 [  0 613] [ 0.00136855  0.11805638]\n",
        "2 [[  6.07634876e+00   0.00000000e+00]\n",
        " [  3.26596859e-02   6.13000000e+02]]\n",
        "la [[  4.44000469e+03   0.00000000e+00]\n",
        " [  2.76644825e-01   6.13000000e+02]]\n",
        "1 613.0 [  0 613] [ 0.0013895   0.00397377]\n",
        "2 [[  5.99419900e+00   0.00000000e+00]\n",
        " [  4.94900731e-02   6.13000000e+02]]\n",
        "la [[ 4313.936463      0.       ]\n",
        " [   12.4541908   613.       ]]\n",
        "1 613.0 [  0 614] [ 0.0013895   0.11965943]\n",
        "2 [[  5.91204924e+00   0.00000000e+00]\n",
        " [  3.09485174e-02   6.14000000e+02]]\n",
        "la [[  4.25481450e+03   0.00000000e+00]\n",
        " [  2.58638339e-01   6.14000000e+02]]\n",
        "1 614.0 [  0 615] [ 0.00141597  0.12077131]\n",
        "2 [[  5.82989948e+00   0.00000000e+00]\n",
        " [  1.12337855e-02   6.15000000e+02]]\n",
        "la [[  4.11726230e+03   0.00000000e+00]\n",
        " [  9.30170015e-02   6.15000000e+02]]\n",
        "1 615.0 [  0 616] [ 0.00148847  0.1192595 ]\n",
        "2 [[  5.74774972e+00   0.00000000e+00]\n",
        " [  3.53198521e-03   6.16000000e+02]]\n",
        "la [[  3.86150788e+03   0.00000000e+00]\n",
        " [  2.96159663e-02   6.16000000e+02]]\n",
        "1 616.0 [  0 617] [ 0.00150669  0.11553627]\n",
        "2 [[  5.66559997e+00   0.00000000e+00]\n",
        " [  1.82933162e-02   6.17000000e+02]]\n",
        "la [[  3.76029083e+03   0.00000000e+00]\n",
        " [  1.58333969e-01   6.17000000e+02]]\n",
        "1 617.0 [  0 618] [ 0.00148754  0.11276415]\n",
        "2 [[  5.58345021e+00   0.00000000e+00]\n",
        " [  1.66144835e-02   6.18000000e+02]]\n",
        "la [[  3.75348418e+03   0.00000000e+00]\n",
        " [  1.47338341e-01   6.18000000e+02]]\n",
        "1 618.0 [  0 619] [ 0.00140789  0.11177537]\n",
        "2 [[  5.50130045e+00   0.00000000e+00]\n",
        " [  2.12018063e-02   6.19000000e+02]]\n",
        "la [[  3.90748346e+03   0.00000000e+00]\n",
        " [  1.89682271e-01   6.19000000e+02]]\n",
        "1 619.0 [  0 620] [ 0.00141744  0.11093659]\n",
        "2 [[  5.41915069e+00   0.00000000e+00]\n",
        " [  2.92819775e-02   6.20000000e+02]]\n",
        "la [[  3.82319448e+03   0.00000000e+00]\n",
        " [  2.63952382e-01   6.20000000e+02]]\n",
        "1 620.0 [  0 621] [ 0.00140896  0.11083015]\n",
        "2 [[  5.33700093e+00   0.00000000e+00]\n",
        " [  3.83855096e-02   6.21000000e+02]]\n",
        "la [[  3.78789594e+03   0.00000000e+00]\n",
        " [  3.46345369e-01   6.21000000e+02]]\n",
        "1 621.0 [  0 622] [ 0.00138395  0.11356653]\n",
        "2 [[  5.25485117e+00   0.00000000e+00]\n",
        " [  4.06700995e-02   6.22000000e+02]]\n",
        "la [[  3.79699651e+03   0.00000000e+00]\n",
        " [  3.58116956e-01   6.22000000e+02]]\n",
        "1 622.0 [  0 623] [ 0.00137632  0.11850773]\n",
        "2 [[  5.17270141e+00   0.00000000e+00]\n",
        " [  3.25014077e-02   6.23000000e+02]]\n",
        "la [[  3.75834334e+03   0.00000000e+00]\n",
        " [  2.74255603e-01   6.23000000e+02]]\n",
        "1"
       ]
      },
      {
       "output_type": "stream",
       "stream": "stdout",
       "text": [
        " 623.0 [  0 624] [ 0.00132904  0.12288093]\n",
        "2 [[  5.09055165e+00   0.00000000e+00]\n",
        " [  3.25418847e-02   6.24000000e+02]]\n",
        "la [[  3.83024777e+03   0.00000000e+00]\n",
        " [  2.64824524e-01   6.24000000e+02]]\n",
        "1 624.0 [  0 625] [ 0.00129513  0.12490827]\n",
        "2 [[  5.00840189e+00   0.00000000e+00]\n",
        " [  4.29999645e-02   6.25000000e+02]]\n",
        "la [[  3.86709249e+03   0.00000000e+00]\n",
        " [  3.44252352e-01   6.25000000e+02]]\n",
        "1 625.0 [  0 625] [ 0.00128063  0.00409491]\n",
        "2 [[  4.92625213e+00   0.00000000e+00]\n",
        " [  3.91497945e-02   6.25000000e+02]]\n",
        "la [[ 3846.74197587     0.        ]\n",
        " [    9.56060422   625.        ]]\n",
        "1 625.0 [  0 626] [ 0.00128063  0.123827  ]\n",
        "2 [[  4.84410238e+00   0.00000000e+00]\n",
        " [  3.35805515e-02   6.26000000e+02]]\n",
        "la [[  3.78259404e+03   0.00000000e+00]\n",
        " [  2.71189249e-01   6.26000000e+02]]\n",
        "1 626.0 [  0 627] [ 0.00130353  0.12049037]\n",
        "2 [[  4.76195262e+00   0.00000000e+00]\n",
        " [  3.43824059e-02   6.27000000e+02]]\n",
        "la [[  3.65312002e+03   0.00000000e+00]\n",
        " [  2.85353966e-01   6.27000000e+02]]\n",
        "1 627.0 [  0 628] [ 0.00129957  0.11814525]\n",
        "2 [[  4.67980286e+00   0.00000000e+00]\n",
        " [  1.63939335e-02   6.28000000e+02]]\n",
        "la [[  3.60103766e+03   0.00000000e+00]\n",
        " [  1.38760834e-01   6.28000000e+02]]\n",
        "1 628.0 [  0 629] [ 0.00126183  0.11902827]\n",
        "2 [[  4.59765310e+00   0.00000000e+00]\n",
        " [  3.38764984e-03   6.29000000e+02]]\n",
        "la [[  3.64363227e+03   0.00000000e+00]\n",
        " [  2.84608834e-02   6.29000000e+02]]\n",
        "1 629.0 [  0 630] [ 0.00124319  0.12192258]\n",
        "2 [[  4.51550334e+00   0.00000000e+00]\n",
        " [  1.56467507e-02   6.30000000e+02]]\n",
        "la [[  3.63219363e+03   0.00000000e+00]\n",
        " [  1.28333493e-01   6.30000000e+02]]\n",
        "1 630.0 [  0 631] [ 0.00123825  0.1244011 ]\n",
        "2 [[  4.43335358e+00   0.00000000e+00]\n",
        " [  2.27489917e-02   6.31000000e+02]]\n",
        "la [[  3.58034408e+03   0.00000000e+00]\n",
        " [  1.82868096e-01   6.31000000e+02]]\n",
        "1 631.0 [  0 632] [ 0.00123739  0.12580548]\n",
        "2 [[  4.35120382e+00   0.00000000e+00]\n",
        " [  2.22029849e-02   6.32000000e+02]]\n",
        "la [[  3.51642304e+03   0.00000000e+00]\n",
        " [  1.76486624e-01   6.32000000e+02]]\n",
        "1 632.0 [  0 633] [ 0.00123553  0.12661673]\n",
        "2 [[  4.26905406e+00   0.00000000e+00]\n",
        " [  3.36371185e-02   6.33000000e+02]]\n",
        "la [[  3.45523496e+03   0.00000000e+00]\n",
        " [  2.65660928e-01   6.33000000e+02]]\n",
        "1 633.0 [  0 633] [ 0.00124224  0.00429082]\n",
        "2 [[  4.18690430e+00   0.00000000e+00]\n",
        " [  4.85126405e-02   6.33000000e+02]]\n",
        "la [[ 3370.43363341     0.        ]\n",
        " [   11.30615196   633.        ]]\n",
        "1 633.0 [  0 634] [ 0.00124224  0.12674558]\n",
        "2 [[  4.10475454e+00   0.00000000e+00]\n",
        " [  2.82435776e-02   6.34000000e+02]]\n",
        "la [[  3.30430355e+03   0.00000000e+00]\n",
        " [  2.22836787e-01   6.34000000e+02]]\n",
        "1 634.0 [  0 635] [ 0.00121113  0.12623349]\n",
        "2 [[  4.02260479e+00   0.00000000e+00]\n",
        " [  3.58253110e-03   6.35000000e+02]]\n",
        "la [[  3.32136410e+03   0.00000000e+00]\n",
        " [  2.83801962e-02   6.35000000e+02]]\n",
        "1 635.0 [  0 636] [ 0.00118669  0.12532754]\n",
        "2 [[  3.94045503e+00   0.00000000e+00]\n",
        " [  2.90580533e-04   6.36000000e+02]]\n",
        "la [[  3.32055644e+03   0.00000000e+00]\n",
        " [  2.31856890e-03   6.36000000e+02]]\n",
        "1 636.0 [  0 637] [ 0.00117389  0.12373207]\n",
        "2 [[  3.85830527e+00   0.00000000e+00]\n",
        " [  1.34587845e-02   6.37000000e+02]]\n",
        "la [[  3.28677672e+03   0.00000000e+00]\n",
        " [  1.08773615e-01   6.37000000e+02]]\n",
        "1 637.0 [  0 638] [ 0.00117029  0.12189845]\n",
        "2 [[  3.77615551e+00   0.00000000e+00]\n",
        " [  3.73339887e-02   6.38000000e+02]]\n",
        "la [[  3.22668437e+03   0.00000000e+00]\n",
        " [  3.06271241e-01   6.38000000e+02]]\n",
        "1 638.0 [  0 638] [ 0.00118161  0.00465601]\n",
        "2 [[  3.69400575e+00   0.00000000e+00]\n",
        " [  4.48157703e-02   6.38000000e+02]]\n",
        "la [[ 3126.24464999     0.        ]\n",
        " [    9.62536507   638.        ]]\n",
        "1 638.0 [  0 639] [ 0.00118161  0.1207637 ]\n",
        "2 [[  3.61185599e+00   0.00000000e+00]\n",
        " [  1.71309789e-02   6.39000000e+02]]\n",
        "la [[  3.05672114e+03   0.00000000e+00]\n",
        " [  1.41855361e-01   6.39000000e+02]]\n",
        "1 639.0 [  0 640] [ 0.00116105  0.12034604]\n",
        "2 [[  3.52970623e+00   0.00000000e+00]\n",
        " [  2.28303711e-02   6.40000000e+02]]\n",
        "la [[  3.04009233e+03   0.00000000e+00]\n",
        " [  1.89706048e-01   6.40000000e+02]]\n",
        "1 640.0 [  0 641] [ 0.00113421  0.12086409]\n",
        "2 [[  3.44755647e+00   0.00000000e+00]\n",
        " [  1.90586862e-03   6.41000000e+02]]\n",
        "la [[  3.03960477e+03   0.00000000e+00]\n",
        " [  1.57686925e-02   6.41000000e+02]]\n",
        "1 641.0 [  0 642] [ 0.00113552  0.12247601]\n",
        "2 [[  3.36540671e+00   0.00000000e+00]\n",
        " [  5.44073031e-04   6.42000000e+02]]\n",
        "la [[  2.96376583e+03   0.00000000e+00]\n",
        " [  4.44228250e-03   6.42000000e+02]]\n",
        "1 642.0 [  0 643] [ 0.00115332  0.12397188]\n",
        "2 [[  3.28325695e+00   0.00000000e+00]\n",
        " [  2.63672359e-02   6.43000000e+02]]\n",
        "la [[  2.84678166e+03   0.00000000e+00]\n",
        " [  2.12687225e-01   6.43000000e+02]]\n",
        "1 643.0 [  0 644] [ 0.00114638  0.1244546 ]\n",
        "2 [[  3.20110720e+00   0.00000000e+00]\n",
        " [  1.99242890e-02   6.44000000e+02]]\n",
        "la [[  2.79235941e+03   0.00000000e+00]\n",
        " [  1.60092823e-01   6.44000000e+02]]\n",
        "1 644.0 [  0 645] [ 0.0011468   0.12486474]\n",
        "2 [[  3.11895744e+00   0.00000000e+00]\n",
        " [  1.53575741e-02   6.45000000e+02]]\n",
        "la [[  2.71969824e+03   0.00000000e+00]\n",
        " [  1.22993685e-01   6.45000000e+02]]\n",
        "1 645.0 [  0 646] [ 0.00111946  0.12663388]\n",
        "2 [[  3.03680768e+00   0.00000000e+00]\n",
        " [  2.67863061e-02   6.46000000e+02]]\n",
        "la [[  2.71274376e+03   0.00000000e+00]\n",
        " [  2.11525586e-01   6.46000000e+02]]\n",
        "1 646.0 [  0 647] [ 0.00113039  0.12972499]\n",
        "2 [[  2.95465792e+00   0.00000000e+00]\n",
        " [  3.97447538e-02   6.47000000e+02]]\n",
        "la [[  2.61384679e+03   0.00000000e+00]\n",
        " [  3.06376993e-01   6.47000000e+02]]\n",
        "1 647.0 [  0 647] [ 0.00112469  0.00455304]\n",
        "2 [[  2.87250816e+00   0.00000000e+00]\n",
        " [  4.24050053e-02   6.47000000e+02]]\n",
        "la [[ 2554.04375703     0.        ]\n",
        " [    9.31355806   647.        ]]\n",
        "1 647.0 [  0 648] [ 0.00112469  0.13275731]\n",
        "2 [[  2.79035840e+00   0.00000000e+00]\n",
        " [  2.56561399e-02   6.48000000e+02]]\n",
        "la [[  2.48100164e+03   0.00000000e+00]\n",
        " [  1.93255951e-01   6.48000000e+02]]\n",
        "1 648.0 [  0 649] [ 0.00110149  0.134596  ]\n",
        "2 [[  2.70820864e+00   0.00000000e+00]\n",
        " [  4.51350893e-03   6.49000000e+02]]\n",
        "la [[  2.45867691e+03   0.00000000e+00]\n",
        " [  3.35337516e-02   6.49000000e+02]]\n",
        "1 649.0 [  0 650] [ 0.00110159  0.13528762]\n",
        "2 [[  2.62605888e+00   0.00000000e+00]\n",
        " [  1.59247706e-02   6.50000000e+02]]\n",
        "la [[  2.38388652e+03   0.00000000e+00]\n",
        " [  1.17710475e-01   6.50000000e+02]]\n",
        "1 650.0 [  0 651] [ 0.00108427  0.13525107]\n",
        "2 [[  2.54390912e+00   0.00000000e+00]\n",
        " [  1.38693182e-02   6.51000000e+02]]\n",
        "la [[  2.34619631e+03   0.00000000e+00]\n",
        " [  1.02544982e-01   6.51000000e+02]]\n",
        "1 651.0 [  0 652] [ 0.00108643  0.13391941]\n",
        "2 [[  2.46175936e+00   0.00000000e+00]\n",
        " [  1.80903084e-02   6.52000000e+02]]\n",
        "la [[  2.26592015e+03   0.00000000e+00]\n",
        " [  1.35083544e-01   6.52000000e+02]]\n",
        "1 652.0 [  0 653] [ 0.00107773  0.13159673]\n",
        "2 [[  2.37960961e+00   0.00000000e+00]\n",
        " [  8.28956690e-03   6.53000000e+02]]\n",
        "la [[  2.20799209e+03   0.00000000e+00]\n",
        " [  6.29921931e-02   6.53000000e+02]]\n",
        "1 653.0 [  0 654] [ 0.0010921   0.13072507]\n",
        "2 [[  2.29745985e+00   0.00000000e+00]\n",
        " [  3.42411498e-03   6.54000000e+02]]\n",
        "la [[  2.10370638e+03   0.00000000e+00]\n",
        " [  2.61932548e-02   6.54000000e+02]]\n",
        "1 654.0 [  0 655] [ 0.00105443  0.13199831]\n",
        "2 [[  2.21531009e+00   0.00000000e+00]\n",
        " [  5.10225288e-03   6.55000000e+02]]\n",
        "la [[  2.10094691e+03   0.00000000e+00]\n",
        " [  3.86539247e-02   6.55000000e+02]]\n",
        "1 655.0 [  0 656] [ 0.0010486   0.13356794]\n",
        "2 [[  2.13316033e+00   0.00000000e+00]\n",
        " [  2.35812019e-02   6.56000000e+02]]\n",
        "la [[  2.03430109e+03   0.00000000e+00]\n",
        " [  1.76548364e-01   6.56000000e+02]]\n",
        "1 656.0 [  0 657] [ 0.00104328  0.13503127]\n",
        "2 [[  2.05101057e+00   0.00000000e+00]\n",
        " [  2.41490896e-02   6.57000000e+02]]\n",
        "la [[  1.96593233e+03   0.00000000e+00]\n",
        " [  1.78840722e-01   6.57000000e+02]]\n",
        "1 657.0 [  0 658] [ 0.00104493  0.13714301]\n",
        "2 [[  1.96886081e+00   0.00000000e+00]\n",
        " [  3.52747836e-03   6.58000000e+02]]\n",
        "la [[  1.88419826e+03   0.00000000e+00]\n",
        " [  2.57211673e-02   6.58000000e+02]]\n",
        "1 658.0 [  0 659] [ 0.00103942  0.13947174]\n",
        "2 [[  1.88671105e+00   0.00000000e+00]\n",
        " [  1.24261496e-03   6.59000000e+02]]\n",
        "la [[  1.81515221e+03   0.00000000e+00]\n",
        " [  8.90943931e-03   6.59000000e+02]]\n",
        "1 659.0 [  0 660] [ 0.00103393  0.14117802]\n",
        "2 [[  1.80456129e+00   0.00000000e+00]\n",
        " [  8.01353313e-03   6.60000000e+02]]\n",
        "la [[  1.74533394e+03   0.00000000e+00]\n",
        " [  5.67619040e-02   6.60000000e+02]]\n",
        "1 660.0 [  0 661] [ 0.00104055  0.14218376]\n",
        "2 [[  1.72241153e+00   0.00000000e+00]\n",
        " [  1.96953638e-02   6.61000000e+02]]\n",
        "la [[  1.65528412e+03   0.00000000e+00]\n",
        " [  1.38520491e-01   6.61000000e+02]]\n",
        "1 661.0 [  0 662] [ 0.00103151  0.14338345]\n",
        "2 [[  1.64026177e+00   0.00000000e+00]\n",
        " [  2.78628918e-02   6.62000000e+02]]\n",
        "la [[  1.59016216e+03   0.00000000e+00]\n",
        " [  1.94324321e-01   6.62000000e+02]]\n",
        "1 662.0 [  0 663] [ 0.00100965  0.14547701]\n",
        "2 [[  1.55811202e+00   0.00000000e+00]\n",
        " [  2.71459662e-02   6.63000000e+02]]\n",
        "la [[  1.54322738e+03   0.00000000e+00]\n",
        " [  1.86599694e-01   6.63000000e+02]]\n",
        "1 663.0 [  0 664] [ 0.00099195  0.14767878]\n",
        "2 [[  1.47596226e+00   0.00000000e+00]\n",
        " [  1.28202830e-02   6.64000000e+02]]\n",
        "la [[  1.48793514e+03   0.00000000e+00]\n",
        " [  8.68119502e-02   6.64000000e+02]]\n",
        "1 664.0 [  0 665] [ 0.00100061  0.14875815]\n",
        "2 [[  1.39381250e+00   0.00000000e+00]\n",
        " [  9.55957625e-04   6.65000000e+02]]\n",
        "la [[  1.39296708e+03   0.00000000e+00]\n",
        " [  6.42625376e-03   6.65000000e+02]]\n",
        "1 665.0 [  0 666] [ 0.00098424  0.14849873]\n",
        "2 [[  1.31166274e+00   0.00000000e+00]\n",
        " [  8.47517880e-03   6.66000000e+02]]\n",
        "la [[  1.33265897e+03   0.00000000e+00]\n",
        " [  5.70724003e-02   6.66000000e+02]]\n",
        "1 666.0 [  0 667] [ 0.000975    0.14800075]\n",
        "2 [[  1.22951298e+00   0.00000000e+00]\n",
        " [  2.78504304e-02   6.67000000e+02]]\n",
        "la [[  1.26104319e+03   0.00000000e+00]\n",
        " [  1.88177634e-01   6.67000000e+02]]\n",
        "1 667.0 [  0 668] [ 0.00095937  0.14905246]\n",
        "2 [[  1.14736322e+00   0.00000000e+00]\n",
        " [  3.69741200e-02   6.68000000e+02]]\n",
        "la [[  1.19595151e+03   0.00000000e+00]\n",
        " [  2.48061115e-01   6.68000000e+02]]\n",
        "1 668.0 [  0 669] [ 0.00095122  0.15178111]\n",
        "2 [[  1.06521346e+00   0.00000000e+00]\n",
        " [  2.48862107e-02   6.69000000e+02]]\n",
        "la [[  1.11983676e+03   0.00000000e+00]\n",
        " [  1.63961187e-01   6.69000000e+02]]\n",
        "1 669.0 [  0 669] [ 0.00094354  0.00673315]\n",
        "2 [[  9.83063703e-01   0.00000000e+00]\n",
        " [  5.72635483e-02   6.69000000e+02]]\n",
        "la [[ 1041.88402777     0.        ]\n",
        " [    8.50472366   669.        ]]\n",
        "1 669.0 [  0 670] [ 0.00094354  0.15372706]\n",
        "2 [[  9.00913944e-01   0.00000000e+00]\n",
        " [  5.93528628e-03   6.70000000e+02]]\n",
        "la"
       ]
      },
      {
       "output_type": "stream",
       "stream": "stdout",
       "text": [
        " [[  9.54818946e+02   0.00000000e+00]\n",
        " [  3.86092476e-02   6.70000000e+02]]\n",
        "1 670.0 [  0 671] [ 0.00095578  0.15304172]\n",
        "2 [[  8.18764185e-01   0.00000000e+00]\n",
        " [  1.65650817e-02   6.71000000e+02]]\n",
        "la [[  8.56643309e+02   0.00000000e+00]\n",
        " [  1.08238996e-01   6.71000000e+02]]\n",
        "1 671.0 [  0 672] [ 0.00096129  0.15112302]\n",
        "2 [[  7.36614426e-01   0.00000000e+00]\n",
        " [  2.59192405e-03   6.72000000e+02]]\n",
        "la [[  7.66279910e+02   0.00000000e+00]\n",
        " [  1.71510868e-02   6.72000000e+02]]\n",
        "1 672.0 [  0 673] [ 0.00098102  0.14981524]\n",
        "2 [[  6.54464667e-01   0.00000000e+00]\n",
        " [  8.05976724e-03   6.73000000e+02]]\n",
        "la [[  6.67128203e+02   0.00000000e+00]\n",
        " [  5.37980471e-02   6.73000000e+02]]\n",
        "1 673.0 [  0 674] [ 0.00096559  0.14863414]\n",
        "2 [[  5.72314908e-01   0.00000000e+00]\n",
        " [  4.52803644e-03   6.74000000e+02]]\n",
        "la [[  5.92711391e+02   0.00000000e+00]\n",
        " [  3.04643091e-02   6.74000000e+02]]\n",
        "1 674.0 [  0 675] [ 0.00095526  0.14707657]\n",
        "2 [[  4.90165149e-01   0.00000000e+00]\n",
        " [  5.00230238e-03   6.75000000e+02]]\n",
        "la [[  5.13122782e+02   0.00000000e+00]\n",
        " [  3.40115517e-02   6.75000000e+02]]\n",
        "1 675.0 [  0 676] [ 0.00094949  0.14646049]\n",
        "2 [[  4.08015390e-01   0.00000000e+00]\n",
        " [  2.43355081e-02   6.76000000e+02]]\n",
        "la [[  4.29718881e+02   0.00000000e+00]\n",
        " [  1.66157496e-01   6.76000000e+02]]\n",
        "1 676.0 [  0 677] [ 0.0009418   0.14753711]\n",
        "2 [[  3.25865631e-01   0.00000000e+00]\n",
        " [  1.37523671e-02   6.77000000e+02]]\n",
        "la [[  3.46002337e+02   0.00000000e+00]\n",
        " [  9.32129376e-02   6.77000000e+02]]\n",
        "1 677.0 [  0 678] [ 0.00093708  0.14911556]\n",
        "2 [[  2.43715872e-01   0.00000000e+00]\n",
        " [  9.52318971e-03   6.78000000e+02]]\n",
        "la [[  2.60080429e+02   0.00000000e+00]\n",
        " [  6.38644951e-02   6.78000000e+02]]\n",
        "1 678.0 [  0 679] [ 0.00092056  0.14995952]\n",
        "2 [[  1.61566113e-01   0.00000000e+00]\n",
        " [  2.11079330e-02   6.79000000e+02]]\n",
        "la [[  1.75508919e+02   0.00000000e+00]\n",
        " [  1.40757538e-01   6.79000000e+02]]\n",
        "1 679.0 [  0 680] [ 0.00092597  0.15016442]\n",
        "2 [[  7.94163535e-02   0.00000000e+00]\n",
        " [  3.53838968e-03   6.80000000e+02]]\n",
        "la [[  8.57658981e+01   0.00000000e+00]\n",
        " [  2.35634365e-02   6.80000000e+02]]\n",
        "1 680.0 [  0 681] [ 0.00091939  0.15046133]\n",
        "2 [[  2.73340549e-03   0.00000000e+00]\n",
        " [  1.34540847e-02   6.81000000e+02]]\n",
        "la [[  2.97305985e+00   0.00000000e+00]\n",
        " [  8.94188853e-02   6.81000000e+02]]\n",
        "1 681.0 [  1 682] [ 0.00091154  0.15119606]\n",
        "2 [[  3.37081980e-03   1.00000000e+00]\n",
        " [  2.72232533e-02   6.82000000e+02]]\n",
        "la [[  3.69795596e+00   1.00000000e+00]\n",
        " [  1.80052665e-01   6.82000000e+02]]\n",
        "1 682.0 [  2 682] [ 0.0008905   0.00721292]\n",
        "2 [[  4.73934578e-04   2.00000000e+00]\n",
        " [  5.49265057e-02   6.82000000e+02]]\n",
        "la [[  5.32212091e-01   2.00000000e+00]\n",
        " [  7.61501536e+00   6.82000000e+02]]\n",
        "1 2.0 [  3 683] [ 0.13216454  0.00076302]\n",
        "2 [[  4.73770247e-03   3.00000000e+00]\n",
        " [  1.76512484e-02   6.83000000e+02]]\n",
        "la [[  3.58470027e-02   3.00000000e+00]\n",
        " [  2.31333173e+01   6.83000000e+02]]\n",
        "1 3.0 [  4 685] [ 0.13386235  0.00076926]\n",
        "2 [[  7.66701974e-03   4.00000000e+00]\n",
        " [  1.18048836e-02   6.85000000e+02]]\n",
        "la [[  5.72753997e-02   4.00000000e+00]\n",
        " [  1.53458633e+01   6.85000000e+02]]\n",
        "1 4.0 [  5 686] [ 0.13384312  0.00077997]\n",
        "2 [[  4.80699635e-03   5.00000000e+00]\n",
        " [  2.42089197e-02   6.86000000e+02]]\n",
        "la [[  3.59151548e-02   5.00000000e+00]\n",
        " [  3.10381567e+01   6.86000000e+02]]\n",
        "1 5.0 [  6 687] [ 0.13325008  0.00078409]\n",
        "2 [[  1.28665468e-02   6.00000000e+00]\n",
        " [  3.20544839e-02   6.87000000e+02]]\n",
        "la [[  9.65593905e-02   6.00000000e+00]\n",
        " [  4.08811772e+01   6.87000000e+02]]\n",
        "1 6.0 [  7 688] [ 0.13342993  0.00077512]\n",
        "2 [[  1.64454291e-02   7.00000000e+00]\n",
        " [  3.44175350e-02   6.88000000e+02]]\n",
        "la [[  1.23251429e-01   7.00000000e+00]\n",
        " [  4.44029661e+01   6.88000000e+02]]\n",
        "1 7.0 [  8 689] [ 0.13404935  0.00075816]\n",
        "2 [[  2.29578833e-02   8.00000000e+00]\n",
        " [  3.09574978e-02   6.89000000e+02]]\n",
        "la [[  1.71264415e-01   8.00000000e+00]\n",
        " [  4.08324950e+01   6.89000000e+02]]\n",
        "1 8.0 [  9 690] [ 0.13486388  0.00074917]\n",
        "2 [[  2.57037566e-02   9.00000000e+00]\n",
        " [  2.06707502e-02   6.90000000e+02]]\n",
        "la [[  1.90590363e-01   9.00000000e+00]\n",
        " [  2.75914714e+01   6.90000000e+02]]\n",
        "1 9.0 [ 10 691] [ 0.13657537  0.00075458]\n",
        "2 [[  2.88318312e-02   1.00000000e+01]\n",
        " [  4.36372856e-02   6.91000000e+02]]\n",
        "la [[  2.11105644e-01   1.00000000e+01]\n",
        " [  5.78300082e+01   6.91000000e+02]]\n",
        "1 10.0 [ 11 691] [ 0.13942098  0.00074981]\n",
        "2 [[  2.97866886e-02   1.10000000e+01]\n",
        " [  3.85124734e-02   6.91000000e+02]]\n",
        "la [[  2.13645671e-01   1.10000000e+01]\n",
        " [  5.13632841e+01   6.91000000e+02]]\n",
        "1 11.0 [ 12 692] [ 0.14255231  0.00076002]\n",
        "2 [[  3.60680818e-02   1.20000000e+01]\n",
        " [  4.26966336e-02   6.92000000e+02]]\n",
        "la [[  2.53016459e-01   1.20000000e+01]\n",
        " [  5.61784285e+01   6.92000000e+02]]\n",
        "1 12.0 [ 13 693] [ 0.14487232  0.00077048]\n",
        "2 [[  3.30108372e-02   1.30000000e+01]\n",
        " [  2.18344859e-02   6.93000000e+02]]\n",
        "la [[  2.27861595e-01   1.30000000e+01]\n",
        " [  2.83386764e+01   6.93000000e+02]]\n",
        "1 13.0 [ 14 695] [ 0.14598794  0.00078867]\n",
        "2 [[  3.50177508e-02   1.40000000e+01]\n",
        " [  2.04500915e-02   6.95000000e+02]]\n",
        "la [[  2.39867415e-01   1.40000000e+01]\n",
        " [  2.59298683e+01   6.95000000e+02]]\n",
        "1 14.0 [ 15 696] [ 0.14575819  0.00081833]\n",
        "2 [[  3.86223820e-02   1.50000000e+01]\n",
        " [  2.16433491e-02   6.96000000e+02]]\n",
        "la [[  2.64975731e-01   1.50000000e+01]\n",
        " [  2.64481886e+01   6.96000000e+02]]\n",
        "1 15.0 [ 16 697] [ 0.14256854  0.00085331]\n",
        "2 [[  4.02401961e-02   1.60000000e+01]\n",
        " [  3.68845567e-02   6.97000000e+02]]\n",
        "la [[  2.82251577e-01   1.60000000e+01]\n",
        " [  4.32251025e+01   6.97000000e+02]]\n",
        "1 16.0 [ 17 698] [ 0.13480992  0.00088329]\n",
        "2 [[  3.23668429e-02   1.70000000e+01]\n",
        " [  4.18615598e-02   6.98000000e+02]]\n",
        "la [[  2.40092446e-01   1.70000000e+01]\n",
        " [  4.73925759e+01   6.98000000e+02]]\n",
        "1 17.0 [ 17 698] [ 0.00537741  0.00086806]\n",
        "2 [[  4.97829161e-02   1.70000000e+01]\n",
        " [  4.02881992e-02   6.98000000e+02]]\n",
        "la [[   9.25778539   17.        ]\n",
        " [  46.41154376  698.        ]]\n",
        "1 17.0 [ 18 699] [ 0.12608777  0.00089321]\n",
        "2 [[  2.39460057e-02   1.80000000e+01]\n",
        " [  2.79662349e-02   6.99000000e+02]]\n",
        "la [[  1.89915378e-01   1.80000000e+01]\n",
        " [  3.13098752e+01   6.99000000e+02]]\n",
        "1 18.0 [ 19 700] [ 0.12261778  0.00088512]\n",
        "2 [[  1.69251383e-02   1.90000000e+01]\n",
        " [  3.66022550e-02   7.00000000e+02]]\n",
        "la [[  1.38031681e-01   1.90000000e+01]\n",
        " [  4.13528661e+01   7.00000000e+02]]\n",
        "1 19.0 [ 21 702] [ 0.0056872   0.00089277]\n",
        "2 [[  3.17026084e-02   2.10000000e+01]\n",
        " [  3.53962759e-02   7.02000000e+02]]\n",
        "la [[   5.57437884   21.        ]\n",
        " [  39.64789706  702.        ]]\n",
        "1 21.0 [ 22 702] [ 0.12683334  0.00089377]\n",
        "2 [[  2.72519015e-02   2.20000000e+01]\n",
        " [  4.67534831e-02   7.02000000e+02]]\n",
        "la [[  2.14863860e-01   2.20000000e+01]\n",
        " [  5.23105900e+01   7.02000000e+02]]\n",
        "1 22.0 [ 23 703] [ 0.12141322  0.00092216]\n",
        "2 [[  3.64229263e-02   2.30000000e+01]\n",
        " [  3.49582237e-02   7.03000000e+02]]\n",
        "la [[  2.99991434e-01   2.30000000e+01]\n",
        " [  3.79089594e+01   7.03000000e+02]]\n",
        "1 23.0 [ 24 704] [ 0.12006102  0.00095249]\n",
        "2 [[  3.98372745e-02   2.40000000e+01]\n",
        " [  9.41968504e-03   7.04000000e+02]]\n",
        "la [[  3.31808560e-01   2.40000000e+01]\n",
        " [  9.88953581e+00   7.04000000e+02]]\n",
        "1 24.0 [ 25 705] [ 0.12499406  0.00097474]\n",
        "2 [[  3.64216220e-02   2.50000000e+01]\n",
        " [  8.39571333e-03   7.05000000e+02]]\n",
        "la [[  2.91386819e-01   2.50000000e+01]\n",
        " [  8.61328260e+00   7.05000000e+02]]\n",
        "1 25.0 [ 26 706] [ 0.13151267  0.00098816]\n",
        "2 [[  2.68070451e-02   2.60000000e+01]\n",
        " [  1.83718284e-02   7.06000000e+02]]\n",
        "la [[  2.03836219e-01   2.60000000e+01]\n",
        " [  1.85918844e+01   7.06000000e+02]]\n",
        "1 26.0 [ 27 707] [ 0.13551952  0.00100658]\n",
        "2 [[  2.47162281e-02   2.70000000e+01]\n",
        " [  5.47553170e-03   7.07000000e+02]]\n",
        "la [[  1.82381317e-01   2.70000000e+01]\n",
        " [  5.43971862e+00   7.07000000e+02]]\n",
        "1 27.0 [ 28 708] [ 0.13670243  0.00103805]\n",
        "2 [[  2.73362228e-02   2.80000000e+01]\n",
        " [  3.16384322e-02   7.08000000e+02]]\n",
        "la [[  1.99968815e-01   2.80000000e+01]\n",
        " [  3.04787882e+01   7.08000000e+02]]\n",
        "1 28.0 [ 29 709] [ 0.13631044  0.00106648]\n",
        "2 [[  2.36046101e-02   2.90000000e+01]\n",
        " [  3.17005030e-02   7.09000000e+02]]\n",
        "la [[  1.73168033e-01   2.90000000e+01]\n",
        " [  2.97244773e+01   7.09000000e+02]]\n",
        "1 29.0 [ 30 709] [ 0.13559572  0.00108264]\n",
        "2 [[  1.64847433e-02   3.00000000e+01]\n",
        " [  5.04492560e-02   7.09000000e+02]]\n",
        "la [[  1.21572744e-01   3.00000000e+01]\n",
        " [  4.65984586e+01   7.09000000e+02]]\n",
        "1 30.0 [ 31 710] [ 0.13511596  0.00109866]\n",
        "2 [[  1.43594319e-02   3.10000000e+01]\n",
        " [  2.99421004e-02   7.10000000e+02]]\n",
        "la [[  1.06274876e-01   3.10000000e+01]\n",
        " [  2.72531697e+01   7.10000000e+02]]\n",
        "1 31.0 [ 32 711] [ 0.13454023  0.00110356]\n",
        "2 [[  1.25522089e-02   3.20000000e+01]\n",
        " [  3.93503040e-02   7.11000000e+02]]\n",
        "la [[  9.32970655e-02   3.20000000e+01]\n",
        " [  3.56574595e+01   7.11000000e+02]]\n",
        "1 32.0 [ 33 712] [ 0.13434253  0.00108377]\n",
        "2 [[  6.93278328e-03   3.30000000e+01]\n",
        " [  2.92258867e-02   7.12000000e+02]]\n",
        "la [[  5.16052771e-02   3.30000000e+01]\n",
        " [  2.69667865e+01   7.12000000e+02]]\n",
        "1 33.0 [ 34 713] [ 0.13556831  0.00104298]\n",
        "2 [[  1.65219120e-03   3.40000000e+01]\n",
        " [  1.38171510e-02   7.13000000e+02]]\n",
        "la [[  1.21871491e-02   3.40000000e+01]\n",
        " [  1.32477162e+01   7.13000000e+02]]\n",
        "1 34.0 [ 35 714] [ 0.13764617  0.00100783]\n",
        "2 [[  3.01857328e-03   3.50000000e+01]\n",
        " [  4.59822342e-05   7.14000000e+02]]\n",
        "la [[  2.19299476e-02   3.50000000e+01]\n",
        " [  4.56250028e-02   7.14000000e+02]]\n",
        "1 35.0 [ 36 715] [ 0.13899014  0.00099328]\n",
        "2 [[  7.04897330e-04   3.60000000e+01]\n",
        " [  9.33354816e-03   7.15000000e+02]]\n",
        "la [[  5.07156373e-03   3.60000000e+01]\n",
        " [  9.39674105e+00   7.15000000e+02]]\n",
        "1 36.0 [ 37 716] [ 0.13854883  0.00099528]\n",
        "2 [[  2.91925428e-03   3.70000000e+01]\n",
        " [  3.01111935e-02   7.16000000e+02]]\n",
        "la [[  2.10702202e-02   3.70000000e+01]\n",
        " [  3.02538425e+01   7.16000000e+02]]\n",
        "1 37.0 [ 38 717] [ 0.13665854  0.00100244]\n",
        "2 [[  8.57526545e-04   3.80000000e+01]\n",
        " [  2.48315189e-02   7.17000000e+02]]\n",
        "la [[  6.27495749e-03   3.80000000e+01]\n",
        " [  2.47710964e+01   7.17000000e+02]]\n",
        "1 38.0 [ 39 718] [ 0.13502224  0.00100789]\n",
        "2 [[  2.23784419e-03   3.90000000e+01]\n",
        " [  2.86438128e-02   7.18000000e+02]]\n",
        "la [[  1.65738932e-02   3.90000000e+01]\n",
        " [  2.84196071e+01   7.18000000e+02]]\n",
        "1 39.0 [ 40 719] [ 0.13500448  0.00101472]\n",
        "2 [[  2.99477310e-03   4.00000000e+01]\n",
        " [  4.09851966e-02   7.19000000e+02]]\n",
        "la [[  2.21827690e-02   4.00000000e+01]\n",
        " [  4.03906264e+01   7.19000000e+02]]"
       ]
      },
      {
       "output_type": "stream",
       "stream": "stdout",
       "text": [
        "\n",
        "1 40.0 [ 41 720] [ 0.1366211   0.00102521]\n",
        "2 [[  6.94937525e-03   4.10000000e+01]\n",
        " [  2.26614928e-02   7.20000000e+02]]\n",
        "la [[  5.08660458e-02   4.10000000e+01]\n",
        " [  2.21041821e+01   7.20000000e+02]]\n",
        "1 41.0 [ 42 721] [ 0.13915893  0.00104334]\n",
        "2 [[  9.91982078e-03   4.20000000e+01]\n",
        " [  1.15252453e-02   7.21000000e+02]]\n",
        "la [[  7.12841147e-02   4.20000000e+01]\n",
        " [  1.10465201e+01   7.21000000e+02]]\n",
        "1 42.0 [ 43 721] [ 0.1416738   0.00103076]\n",
        "2 [[  8.26163945e-03   4.30000000e+01]\n",
        " [  7.06245137e-02   7.21000000e+02]]\n",
        "la [[  5.83145179e-02   4.30000000e+01]\n",
        " [  6.85168049e+01   7.21000000e+02]]\n",
        "1 43.0 [ 44 722] [ 0.1429866   0.00105334]\n",
        "2 [[  6.72061615e-03   4.40000000e+01]\n",
        " [  5.45009155e-02   7.22000000e+02]]\n",
        "la [[  4.70017214e-02   4.40000000e+01]\n",
        " [  5.17408991e+01   7.22000000e+02]]\n",
        "1 44.0 [ 45 722] [ 0.14219991  0.00105771]\n",
        "2 [[  4.06047030e-03   4.50000000e+01]\n",
        " [  2.76488435e-02   7.22000000e+02]]\n",
        "la [[  2.85546608e-02   4.50000000e+01]\n",
        " [  2.61403853e+01   7.22000000e+02]]\n",
        "1 45.0 [ 46 723] [ 0.13990951  0.00106862]\n",
        "2 [[  5.66065797e-03   4.60000000e+01]\n",
        " [  1.59398710e-02   7.23000000e+02]]\n",
        "la [[  4.04594219e-02   4.60000000e+01]\n",
        " [  1.49162693e+01   7.23000000e+02]]\n",
        "1 46.0 [ 47 724] [ 0.13775927  0.00104155]\n",
        "2 [[  4.84278751e-03   4.70000000e+01]\n",
        " [  1.07294488e-02   7.24000000e+02]]\n",
        "la [[  3.51539862e-02   4.70000000e+01]\n",
        " [  1.03013809e+01   7.24000000e+02]]\n",
        "1 47.0 [ 48 725] [ 0.1364565   0.00099957]\n",
        "2 [[  9.53392982e-03   4.80000000e+01]\n",
        " [  6.58516889e-03   7.25000000e+02]]\n",
        "la [[  6.98679037e-02   4.80000000e+01]\n",
        " [  6.58798890e+00   7.25000000e+02]]\n",
        "1 48.0 [ 49 726] [ 0.13580061  0.00097492]\n",
        "2 [[  1.22236195e-02   4.90000000e+01]\n",
        " [  2.40524502e-02   7.26000000e+02]]\n",
        "la [[  9.00115228e-02   4.90000000e+01]\n",
        " [  2.46712233e+01   7.26000000e+02]]\n",
        "1 49.0 [ 50 727] [ 0.13617066  0.0009774 ]\n",
        "2 [[  1.42464993e-02   5.00000000e+01]\n",
        " [  2.51439201e-02   7.27000000e+02]]\n",
        "la [[  1.04622389e-01   5.00000000e+01]\n",
        " [  2.57253772e+01   7.27000000e+02]]\n",
        "1 50.0 [ 51 728] [ 0.13811729  0.00099446]\n",
        "2 [[  1.49855415e-02   5.10000000e+01]\n",
        " [  2.94747047e-02   7.28000000e+02]]\n",
        "la [[  1.08498664e-01   5.10000000e+01]\n",
        " [  2.96389423e+01   7.28000000e+02]]\n",
        "1 51.0 [ 52 729] [ 0.14067885  0.00100105]\n",
        "2 [[  1.75291420e-02   5.20000000e+01]\n",
        " [  4.50580799e-02   7.29000000e+02]]\n",
        "la [[  1.24603965e-01   5.20000000e+01]\n",
        " [  4.50108949e+01   7.29000000e+02]]\n",
        "1 52.0 [ 53 729] [ 0.14160148  0.00100752]\n",
        "2 [[  2.03881674e-02   5.30000000e+01]\n",
        " [  3.70916791e-02   7.29000000e+02]]\n",
        "la [[  1.43982732e-01   5.30000000e+01]\n",
        " [  3.68149935e+01   7.29000000e+02]]\n",
        "1 53.0 [ 54 730] [ 0.13996579  0.00099901]\n",
        "2 [[  2.10161940e-02   5.40000000e+01]\n",
        " [  2.54267765e-02   7.30000000e+02]]\n",
        "la [[  1.50152360e-01   5.40000000e+01]\n",
        " [  2.54518979e+01   7.30000000e+02]]\n",
        "1 54.0 [ 55 731] [ 0.13769956  0.00099064]\n",
        "2 [[  2.69710430e-02   5.50000000e+01]\n",
        " [  6.23522592e-03   7.31000000e+02]]\n",
        "la [[  1.95868765e-01   5.50000000e+01]\n",
        " [  6.29410802e+00   7.31000000e+02]]\n",
        "1 55.0 [ 56 732] [ 0.13708886  0.00098972]\n",
        "2 [[  2.76726667e-02   5.60000000e+01]\n",
        " [  1.27847860e-03   7.32000000e+02]]\n",
        "la [[  2.01859341e-01   5.60000000e+01]\n",
        " [  1.29175652e+00   7.32000000e+02]]\n",
        "1 56.0 [ 57 733] [ 0.13821999  0.00100484]\n",
        "2 [[  3.26294724e-02   5.70000000e+01]\n",
        " [  2.79136246e-03   7.33000000e+02]]\n",
        "la [[  2.36069122e-01   5.70000000e+01]\n",
        " [  2.77792398e+00   7.33000000e+02]]\n",
        "1 57.0 [ 59 734] [ 0.0066618  0.0010366]\n",
        "2 [[  3.31345188e-02   5.90000000e+01]\n",
        " [  1.81642546e-02   7.34000000e+02]]\n",
        "la [[   4.97380628   59.        ]\n",
        " [  17.52284598  734.        ]]\n",
        "1 59.0 [ 60 735] [ 0.14171892  0.00110136]\n",
        "2 [[  1.97052165e-02   6.00000000e+01]\n",
        " [  2.20546655e-02   7.35000000e+02]]\n",
        "la [[  1.39044358e-01   6.00000000e+01]\n",
        " [  2.00250273e+01   7.35000000e+02]]\n",
        "1 60.0 [ 61 736] [ 0.14009272  0.00111776]\n",
        "2 [[  1.09655181e-02   6.10000000e+01]\n",
        " [  1.26735458e-02   7.36000000e+02]]\n",
        "la [[  7.82732901e-02   6.10000000e+01]\n",
        " [  1.13383321e+01   7.36000000e+02]]\n",
        "1 61.0 [ 62 737] [ 0.13694963  0.00112422]\n",
        "2 [[  3.70671604e-03   6.20000000e+01]\n",
        " [  1.70488637e-02   7.37000000e+02]]\n",
        "la [[  2.70662724e-02   6.20000000e+01]\n",
        " [  1.51650737e+01   7.37000000e+02]]\n",
        "1 62.0 [ 63 738] [ 0.13333197  0.00112666]\n",
        "2 [[  1.92502106e-02   6.30000000e+01]\n",
        " [  3.12658689e-03   7.38000000e+02]]\n",
        "la [[  1.44378052e-01   6.30000000e+01]\n",
        " [  2.77510559e+00   7.38000000e+02]]\n",
        "1 63.0 [ 64 739] [ 0.13136772  0.00112597]\n",
        "2 [[  3.20443580e-02   6.40000000e+01]\n",
        " [  1.52054366e-02   7.39000000e+02]]\n",
        "la [[  2.43928699e-01   6.40000000e+01]\n",
        " [  1.35043491e+01   7.39000000e+02]]\n",
        "1 64.0 [ 66 741] [ 0.00721133  0.00110087]\n",
        "2 [[  3.04934000e-02   6.60000000e+01]\n",
        " [  3.33544785e-02   7.41000000e+02]]\n",
        "la [[   4.22853798   66.        ]\n",
        " [  30.29827603  741.        ]]\n",
        "1 66.0 [ 67 741] [ 0.14012633  0.00110708]\n",
        "2 [[  2.13120738e-02   6.70000000e+01]\n",
        " [  4.87952805e-02   7.41000000e+02]]\n",
        "la [[  1.52091859e-01   6.70000000e+01]\n",
        " [  4.40756090e+01   7.41000000e+02]]\n",
        "1 67.0 [ 68 742] [ 0.14214168  0.00110775]\n",
        "2 [[  1.36028595e-02   6.80000000e+01]\n",
        " [  2.24555954e-02   7.42000000e+02]]\n",
        "la [[  9.56992994e-02   6.80000000e+01]\n",
        " [  2.02714052e+01   7.42000000e+02]]\n",
        "1 68.0 [ 69 743] [ 0.14177437  0.00111283]\n",
        "2 [[  5.18656901e-03   6.90000000e+01]\n",
        " [  8.58950729e-04   7.43000000e+02]]\n",
        "la [[  3.65832637e-02   6.90000000e+01]\n",
        " [  7.71860904e-01   7.43000000e+02]]\n",
        "1 69.0 [ 70 744] [ 0.13893158  0.00108849]\n",
        "2 [[  9.53118616e-04   7.00000000e+01]\n",
        " [  4.67799047e-02   7.44000000e+02]]\n",
        "la [[  6.86034510e-03   7.00000000e+01]\n",
        " [  4.29766914e+01   7.44000000e+02]]\n",
        "1 70.0 [ 71 744] [ 0.13571852  0.00109889]\n",
        "2 [[  4.54929282e-03   7.10000000e+01]\n",
        " [  3.53698543e-02   7.44000000e+02]]\n",
        "la [[  3.35200590e-02   7.10000000e+01]\n",
        " [  3.21868455e+01   7.44000000e+02]]\n",
        "1 71.0 [ 72 745] [ 0.1350262   0.00103375]\n",
        "2 [[  1.03643033e-02   7.20000000e+01]\n",
        " [  3.12785662e-03   7.45000000e+02]]\n",
        "la [[  7.67577197e-02   7.20000000e+01]\n",
        " [  3.02572687e+00   7.45000000e+02]]\n",
        "1 72.0 [ 73 746] [ 0.13805123  0.00095312]\n",
        "2 [[  1.98542710e-02   7.30000000e+01]\n",
        " [  1.85057831e-02   7.46000000e+02]]\n",
        "la [[  1.43818135e-01   7.30000000e+01]\n",
        " [  1.94159617e+01   7.46000000e+02]]\n",
        "1 73.0 [ 74 747] [ 0.1435247   0.00089422]\n",
        "2 [[  1.97253803e-02   7.40000000e+01]\n",
        " [  2.65449664e-02   7.47000000e+02]]\n",
        "la [[  1.37435439e-01   7.40000000e+01]\n",
        " [  2.96851638e+01   7.47000000e+02]]\n",
        "1 74.0 [ 75 748] [ 0.14860149  0.00087492]\n",
        "2 [[  1.66112185e-02   7.50000000e+01]\n",
        " [  2.37382339e-02   7.48000000e+02]]\n",
        "la [[  1.11783659e-01   7.50000000e+01]\n",
        " [  2.71318150e+01   7.48000000e+02]]\n",
        "1 75.0 [ 76 749] [ 0.15147617  0.00088971]\n",
        "2 [[  1.60378145e-02   7.60000000e+01]\n",
        " [  1.56909509e-02   7.49000000e+02]]\n",
        "la [[  1.05876816e-01   7.60000000e+01]\n",
        " [  1.76360064e+01   7.49000000e+02]]\n",
        "1 76.0 [ 77 750] [ 0.15263016  0.00091941]\n",
        "2 [[  1.31398436e-02   7.70000000e+01]\n",
        " [  7.46577466e-03   7.50000000e+02]]\n",
        "la [[  8.60894299e-02   7.70000000e+01]\n",
        " [  8.12018241e+00   7.50000000e+02]]\n",
        "1 77.0 [ 78 751] [ 0.15260056  0.00094097]\n",
        "2 [[  9.61247482e-03   7.80000000e+01]\n",
        " [  4.04384276e-03   7.51000000e+02]]\n",
        "la [[  6.29910853e-02   7.80000000e+01]\n",
        " [  4.29752491e+00   7.51000000e+02]]\n",
        "1 78.0 [ 79 752] [ 0.1507979   0.00094765]\n",
        "2 [[  4.04884348e-03   7.90000000e+01]\n",
        " [  7.50220574e-03   7.52000000e+02]]\n",
        "la [[  2.68494694e-02   7.90000000e+01]\n",
        " [  7.91666282e+00   7.52000000e+02]]\n",
        "1 79.0 [ 80 753] [ 0.14788099  0.00095649]\n",
        "2 [[  1.76068701e-03   8.00000000e+01]\n",
        " [  9.21234570e-03   7.53000000e+02]]\n",
        "la [[  1.19061081e-02   8.00000000e+01]\n",
        " [  9.63139131e+00   7.53000000e+02]]\n",
        "1 80.0 [ 81 754] [ 0.1464027   0.00097496]\n",
        "2 [[  8.52160384e-03   8.10000000e+01]\n",
        " [  6.52050486e-04   7.54000000e+02]]\n",
        "la [[  5.82066026e-02   8.10000000e+01]\n",
        " [  6.68795706e-01   7.54000000e+02]]\n",
        "1 81.0 [ 82 755] [ 0.14748224  0.00098725]\n",
        "2 [[  1.36881986e-02   8.20000000e+01]\n",
        " [  1.30875452e-03   7.55000000e+02]]\n",
        "la [[  9.28125195e-02   8.20000000e+01]\n",
        " [  1.32565432e+00   7.55000000e+02]]\n",
        "1 82.0 [ 83 756] [ 0.14944115  0.00098723]\n",
        "2 [[  1.61694387e-02   8.30000000e+01]\n",
        " [  6.43854894e-04   7.56000000e+02]]\n",
        "la [[  1.08199373e-01   8.30000000e+01]\n",
        " [  6.52184035e-01   7.56000000e+02]]\n",
        "1 83.0 [ 84 757] [ 0.14966448  0.00098793]\n",
        "2 [[  2.17940863e-02   8.40000000e+01]\n",
        " [  2.43857173e-02   7.57000000e+02]]\n",
        "la [[  1.45619626e-01   8.40000000e+01]\n",
        " [  2.46835872e+01   7.57000000e+02]]\n",
        "1 84.0 [ 85 758] [ 0.14649921  0.00099736]\n",
        "2 [[  2.44929962e-02   8.50000000e+01]\n",
        " [  3.98842621e-02   7.58000000e+02]]\n",
        "la [[  1.67188592e-01   8.50000000e+01]\n",
        " [  3.99897190e+01   7.58000000e+02]]\n",
        "1 85.0 [ 86 759] [ 0.14130974  0.00101114]\n",
        "2 [[  1.81469377e-02   8.60000000e+01]\n",
        " [  2.53445373e-02   7.59000000e+02]]\n",
        "la [[  1.28419581e-01   8.60000000e+01]\n",
        " [  2.50653262e+01   7.59000000e+02]]\n",
        "1 86.0 [ 87 760] [ 0.13804039  0.00102565]\n",
        "2 [[  2.43088121e-02   8.70000000e+01]\n",
        " [  6.85321656e-03   7.60000000e+02]]\n",
        "la [[  1.76099269e-01   8.70000000e+01]\n",
        " [  6.68182299e+00   7.60000000e+02]]\n",
        "1 87.0 [ 88 761] [ 0.13988711  0.00103923]\n",
        "2 [[  2.90307279e-02   8.80000000e+01]\n",
        " [  9.60193183e-03   7.61000000e+02]]\n",
        "la [[  2.07529679e-01   8.80000000e+01]\n",
        " [  9.23951181e+00   7.61000000e+02]]\n",
        "1 88.0 [ 90 762] [ 0.00758386  0.00104077]\n",
        "2 [[  3.18551745e-02   9.00000000e+01]\n",
        " [  2.25062367e-02   7.62000000e+02]]\n",
        "la [[   4.20038852   90.        ]\n",
        " [  21.62451883  762.        ]]\n",
        "1 90.0 [ 91 763] [ 0.1593762   0.00102504]\n",
        "2 [[  2.50393698e-02   9.10000000e+01]\n",
        " [  4.33994433e-02   7.63000000e+02]]\n",
        "la [[  1.57108592e-01   9.10000000e+01]\n",
        " [  4.23394498e+01   7.63000000e+02]]\n",
        "1 91.0 [ 92 763] [ 0.15660271  0.00102772]\n",
        "2 [[  1.63684036e-02   9.20000000e+01]\n",
        " [  3.87503157e-02   7.63000000e+02]]\n",
        "la [[  1.04521840e-01   9.20000000e+01]\n",
        " [  3.77051742e+01   7.63000000e+02]]\n",
        "1 92.0 [ 93 764] [ 0.15164462  0.00102961]\n",
        "2 [[  6.80374218e-03   9.30000000e+01]\n",
        " [  1.15060883e-02   7.64000000e+02]]\n",
        "la [[  4.48663599e-02   9.30000000e+01]\n",
        " [  1.11752442e+01   7.64000000e+02]]\n",
        "1 93.0 [ 94 765] [ 0.14850063  0.00101685]\n",
        "2 [[  4.12752814e-03   9.40000000e+01]\n",
        " [  1.24587997e-02   7.65000000e+02]]\n",
        "la [[  2.77946838e-02   9.40000000e+01]\n",
        " [  1.22523742e+01   7.65000000e+02]]\n",
        "1 94.0 [ 95 766] [ 0.14803824  0.00098013]\n",
        "2 [[  8.90110117e-03   9.50000000e+01]\n",
        " [  2.22114314e-02   7.66000000e+02]]\n",
        "la [[  6.01270419e-02   9.50000000e+01]\n",
        " [  2.26617520e+01   7.66000000e+02]]\n",
        "1"
       ]
      },
      {
       "output_type": "stream",
       "stream": "stdout",
       "text": [
        " 95.0 [ 96 767] [ 0.14899621  0.00093934]\n",
        "2 [[  1.46503179e-02   9.60000000e+01]\n",
        " [  1.99124574e-02   7.67000000e+02]]\n",
        "la [[  9.83267822e-02   9.60000000e+01]\n",
        " [  2.11983460e+01   7.67000000e+02]]\n",
        "1 96.0 [ 97 768] [ 0.15101631  0.00092504]\n",
        "2 [[  1.93647727e-02   9.70000000e+01]\n",
        " [  2.22705985e-02   7.68000000e+02]]\n",
        "la [[  1.28229677e-01   9.70000000e+01]\n",
        " [  2.40753364e+01   7.68000000e+02]]\n",
        "1 97.0 [ 99 768] [ 0.01040343  0.00091768]\n",
        "2 [[  2.27541648e-02   9.90000000e+01]\n",
        " [  5.98791605e-02   7.68000000e+02]]\n",
        "la [[   2.18717862   99.        ]\n",
        " [  65.25087643  768.        ]]\n",
        "1 99.0 [100 768] [ 0.16222889  0.00094222]\n",
        "2 [[  1.40163095e-02   1.00000000e+02]\n",
        " [  1.42028919e-01   7.68000000e+02]]\n",
        "la [[  8.63983561e-02   1.00000000e+02]\n",
        " [  1.50738526e+02   7.68000000e+02]]\n",
        "1 100.0 [101 768] [ 0.16364733  0.00096008]\n",
        "2 [[  5.82014211e-03   1.01000000e+02]\n",
        " [  2.24178678e-01   7.68000000e+02]]\n",
        "la [[  3.55651522e-02   1.01000000e+02]\n",
        " [  2.33500911e+02   7.68000000e+02]]\n",
        "1 101.0 [102 768] [ 0.16297109  0.00095983]\n",
        "2 [[  9.94740885e-03   1.02000000e+02]\n",
        " [  3.06328437e-01   7.68000000e+02]]\n",
        "la [[  6.10378723e-02   1.02000000e+02]\n",
        " [  3.19149893e+02   7.68000000e+02]]\n",
        "1 102.0 [103 768] [ 0.16207179  0.00096489]\n",
        "2 [[  1.63305934e-02   1.03000000e+02]\n",
        " [  3.88478196e-01   7.68000000e+02]]\n",
        "la [[  1.00761480e-01   1.03000000e+02]\n",
        " [  4.02612934e+02   7.68000000e+02]]\n",
        "1 103.0 [104 768] [ 0.16312845  0.00096536]\n",
        "2 [[  2.50088451e-02   1.04000000e+02]\n",
        " [  4.70627956e-01   7.68000000e+02]]\n",
        "la [[  1.53307687e-01   1.04000000e+02]\n",
        " [  4.87515130e+02   7.68000000e+02]]\n",
        "1 104.0 [105 768] [ 0.16649434  0.00095603]\n",
        "2 [[  2.86276433e-02   1.05000000e+02]\n",
        " [  5.52777715e-01   7.68000000e+02]]\n",
        "la [[  1.71943644e-01   1.05000000e+02]\n",
        " [  5.78199865e+02   7.68000000e+02]]\n",
        "1 105.0 [106 768] [ 0.1706794   0.00095143]\n",
        "2 [[  3.00465948e-02   1.06000000e+02]\n",
        " [  6.34927474e-01   7.68000000e+02]]\n",
        "la [[  1.76041135e-01   1.06000000e+02]\n",
        " [  6.67337609e+02   7.68000000e+02]]\n",
        "1 106.0 [107 768] [ 0.17397974  0.00095232]\n",
        "2 [[  3.25577939e-02   1.07000000e+02]\n",
        " [  7.17077233e-01   7.68000000e+02]]\n",
        "la [[  1.87135546e-01   1.07000000e+02]\n",
        " [  7.52980607e+02   7.68000000e+02]]\n",
        "1 107.0 [108 768] [ 0.17593987  0.00094515]\n",
        "2 [[  3.57131352e-02   1.08000000e+02]\n",
        " [  7.99226992e-01   7.68000000e+02]]\n",
        "la [[  2.02984893e-01   1.08000000e+02]\n",
        " [  8.45605571e+02   7.68000000e+02]]\n",
        "1 108.0 [109 768] [ 0.17702696  0.00095474]\n",
        "2 [[  3.78874997e-02   1.09000000e+02]\n",
        " [  8.81376751e-01   7.68000000e+02]]\n",
        "la [[  2.14021070e-01   1.09000000e+02]\n",
        " [  9.23155880e+02   7.68000000e+02]]\n",
        "1 109.0 [111 768] [ 0.00708505  0.00096732]\n",
        "2 [[  3.79521660e-02   1.11000000e+02]\n",
        " [  9.63526510e-01   7.68000000e+02]]\n",
        "la [[   5.35665746  111.        ]\n",
        " [ 996.08005071  768.        ]]\n",
        "1 111.0 [112 768] [ 0.17824371  0.00096653]\n",
        "2 [[  2.77682698e-02   1.12000000e+02]\n",
        " [  1.04567627e+00   7.68000000e+02]]\n",
        "la [[  1.55788221e-01   1.12000000e+02]\n",
        " [  1.08188292e+03   7.68000000e+02]]\n",
        "1 112.0 [113 768] [ 0.17810706  0.00096843]\n",
        "2 [[  2.74785632e-02   1.13000000e+02]\n",
        " [  1.12782603e+00   7.68000000e+02]]\n",
        "la [[  1.54281156e-01   1.13000000e+02]\n",
        " [  1.16459558e+03   7.68000000e+02]]\n",
        "1 113.0 [114 768] [ 0.17824     0.00096575]\n",
        "2 [[  1.81259073e-02   1.14000000e+02]\n",
        " [  1.20997579e+00   7.68000000e+02]]\n",
        "la [[  1.01693824e-01   1.14000000e+02]\n",
        " [  1.25288092e+03   7.68000000e+02]]\n",
        "1 114.0 [115 768] [ 0.17863622  0.00097217]\n",
        "2 [[  1.20307319e-02   1.15000000e+02]\n",
        " [  1.29212555e+00   7.68000000e+02]]\n",
        "la [[  6.73476621e-02   1.15000000e+02]\n",
        " [  1.32911352e+03   7.68000000e+02]]\n",
        "1 115.0 [116 768] [ 0.17850751  0.000988  ]\n",
        "2 [[  5.39017238e-03   1.16000000e+02]\n",
        " [  1.37427530e+00   7.68000000e+02]]\n",
        "la [[  3.01957739e-02   1.16000000e+02]\n",
        " [  1.39096802e+03   7.68000000e+02]]\n",
        "1 116.0 [117 768] [ 0.17775499  0.00099623]\n",
        "2 [[  4.28422599e-03   1.17000000e+02]\n",
        " [  1.45642506e+00   7.68000000e+02]]\n",
        "la [[  2.41018611e-02   1.17000000e+02]\n",
        " [  1.46193505e+03   7.68000000e+02]]\n",
        "1 117.0 [118 768] [ 0.17647212  0.00101546]\n",
        "2 [[  3.66295806e-03   1.18000000e+02]\n",
        " [  1.53857482e+00   7.68000000e+02]]\n",
        "la [[  2.07565823e-02   1.18000000e+02]\n",
        " [  1.51514486e+03   7.68000000e+02]]\n",
        "1 118.0 [119 768] [ 0.1738667   0.00102305]\n",
        "2 [[  4.76013976e-03   1.19000000e+02]\n",
        " [  1.62072458e+00   7.68000000e+02]]\n",
        "la [[  2.73780985e-02   1.19000000e+02]\n",
        " [  1.58421376e+03   7.68000000e+02]]\n",
        "1 119.0 [120 768] [ 0.17067338  0.00102418]\n",
        "2 [[  1.67882861e-02   1.20000000e+02]\n",
        " [  1.70287434e+00   7.68000000e+02]]\n",
        "la [[  9.83649973e-02   1.20000000e+02]\n",
        " [  1.66266419e+03   7.68000000e+02]]\n",
        "1 120.0 [121 768] [ 0.16950133  0.00103362]\n",
        "2 [[  1.82147408e-02   1.21000000e+02]\n",
        " [  1.78502410e+00   7.68000000e+02]]\n",
        "la [[  1.07460757e-01   1.21000000e+02]\n",
        " [  1.72696645e+03   7.68000000e+02]]\n",
        "1 121.0 [122 768] [ 0.17104526  0.00103387]\n",
        "2 [[  2.07788481e-02   1.22000000e+02]\n",
        " [  1.86717386e+00   7.68000000e+02]]\n",
        "la [[  1.21481578e-01   1.22000000e+02]\n",
        " [  1.80600726e+03   7.68000000e+02]]\n",
        "1 122.0 [123 768] [ 0.17341757  0.00102564]\n",
        "2 [[  1.77267518e-02   1.23000000e+02]\n",
        " [  1.94932362e+00   7.68000000e+02]]\n",
        "la [[  1.02220045e-01   1.23000000e+02]\n",
        " [  1.90059232e+03   7.68000000e+02]]\n",
        "1 123.0 [124 768] [ 0.17451063  0.00103098]\n",
        "2 [[  1.92615780e-02   1.24000000e+02]\n",
        " [  2.03147338e+00   7.68000000e+02]]\n",
        "la [[  1.10374811e-01   1.24000000e+02]\n",
        " [  1.97043153e+03   7.68000000e+02]]\n",
        "1 124.0 [125 768] [ 0.1740186   0.00105172]\n",
        "2 [[  2.25038373e-02   1.25000000e+02]\n",
        " [  2.11362314e+00   7.68000000e+02]]\n",
        "la [[  1.29318575e-01   1.25000000e+02]\n",
        " [  2.00967678e+03   7.68000000e+02]]\n",
        "1 125.0 [126 768] [ 0.17293296  0.00107555]\n",
        "2 [[  2.58460551e-02   1.26000000e+02]\n",
        " [  2.19577289e+00   7.68000000e+02]]\n",
        "la [[  1.49457079e-01   1.26000000e+02]\n",
        " [  2.04154419e+03   7.68000000e+02]]\n",
        "1 126.0 [127 768] [ 0.17035778  0.00109784]\n",
        "2 [[  3.14354044e-02   1.27000000e+02]\n",
        " [  2.27792265e+00   7.68000000e+02]]\n",
        "la [[  1.84525792e-01   1.27000000e+02]\n",
        " [  2.07490594e+03   7.68000000e+02]]\n",
        "1 127.0 [128 768] [ 0.16450267  0.00111367]\n",
        "2 [[  3.22406548e-02   1.28000000e+02]\n",
        " [  2.36007241e+00   7.68000000e+02]]\n",
        "la [[  1.95988644e-01   1.28000000e+02]\n",
        " [  2.11918307e+03   7.68000000e+02]]\n",
        "1 128.0 [129 768] [ 0.15842303  0.00113371]\n",
        "2 [[  1.69803275e-02   1.29000000e+02]\n",
        " [  2.44222217e+00   7.68000000e+02]]\n",
        "la [[  1.07183453e-01   1.29000000e+02]\n",
        " [  2.15419355e+03   7.68000000e+02]]\n",
        "1 129.0 [130 768] [ 0.1580307   0.00114883]\n",
        "2 [[  1.73049081e-02   1.30000000e+02]\n",
        " [  2.52437193e+00   7.68000000e+02]]\n",
        "la [[  1.09503457e-01   1.30000000e+02]\n",
        " [  2.19734157e+03   7.68000000e+02]]\n",
        "1 130.0 [132 768] [ 0.00910264  0.001155  ]\n",
        "2 [[  2.96927304e-02   1.32000000e+02]\n",
        " [  2.60652169e+00   7.68000000e+02]]\n",
        "la [[    3.26199056   132.        ]\n",
        " [ 2256.7318741    768.        ]]\n",
        "1 132.0 [133 768] [ 0.17366973  0.0011952 ]\n",
        "2 [[  2.68777346e-02   1.33000000e+02]\n",
        " [  2.68867145e+00   7.68000000e+02]]\n",
        "la [[  1.54763494e-01   1.33000000e+02]\n",
        " [  2.24954910e+03   7.68000000e+02]]\n",
        "1 133.0 [134 768] [ 0.17633479  0.00120792]\n",
        "2 [[  2.75292126e-02   1.34000000e+02]\n",
        " [  2.77082121e+00   7.68000000e+02]]\n",
        "la [[  1.56119010e-01   1.34000000e+02]\n",
        " [  2.29387773e+03   7.68000000e+02]]\n",
        "1 134.0 [135 768] [ 0.17772947  0.00124027]\n",
        "2 [[  2.27106727e-02   1.35000000e+02]\n",
        " [  2.85297097e+00   7.68000000e+02]]\n",
        "la [[  1.27782253e-01   1.35000000e+02]\n",
        " [  2.30029067e+03   7.68000000e+02]]\n",
        "1 135.0 [136 768] [ 0.17907241  0.00125174]\n",
        "2 [[  8.69711616e-03   1.36000000e+02]\n",
        " [  2.93512073e+00   7.68000000e+02]]\n",
        "la [[  4.85675952e-02   1.36000000e+02]\n",
        " [  2.34483955e+03   7.68000000e+02]]\n",
        "1 136.0 [137 768] [ 0.18346081  0.00124211]\n",
        "2 [[  4.59149124e-03   1.37000000e+02]\n",
        " [  3.01727048e+00   7.68000000e+02]]\n",
        "la [[  2.50270950e-02   1.37000000e+02]\n",
        " [  2.42914701e+03   7.68000000e+02]]\n",
        "1 137.0 [138 768] [ 0.19067628  0.00120786]\n",
        "2 [[  4.39867266e-03   1.38000000e+02]\n",
        " [  3.09942024e+00   7.68000000e+02]]\n",
        "la [[  2.30687981e-02   1.38000000e+02]\n",
        " [  2.56604976e+03   7.68000000e+02]]\n",
        "1 138.0 [139 768] [ 0.19604695  0.00119321]\n",
        "2 [[  2.95567112e-03   1.39000000e+02]\n",
        " [  3.18157000e+00   7.68000000e+02]]\n",
        "la [[  1.50763437e-02   1.39000000e+02]\n",
        " [  2.66640077e+03   7.68000000e+02]]\n",
        "1 139.0 [140 768] [ 0.19678703  0.00119603]\n",
        "2 [[  3.71178235e-04   1.40000000e+02]\n",
        " [  3.26371976e+00   7.68000000e+02]]\n",
        "la [[  1.88619260e-03   1.40000000e+02]\n",
        " [  2.72878401e+03   7.68000000e+02]]\n",
        "1 140.0 [141 768] [ 0.19456036  0.00120521]\n",
        "2 [[  5.12773631e-03   1.41000000e+02]\n",
        " [  3.34586952e+00   7.68000000e+02]]\n",
        "la [[  2.63555036e-02   1.41000000e+02]\n",
        " [  2.77617668e+03   7.68000000e+02]]\n",
        "1 141.0 [142 768] [ 0.19309821  0.00121377]\n",
        "2 [[  4.85679935e-03   1.42000000e+02]\n",
        " [  3.42801928e+00   7.68000000e+02]]\n",
        "la [[  2.51519646e-02   1.42000000e+02]\n",
        " [  2.82427023e+03   7.68000000e+02]]\n",
        "1 142.0 [143 768] [ 0.19487798  0.00122308]\n",
        "2 [[  1.20048729e-02   1.43000000e+02]\n",
        " [  3.51016904e+00   7.68000000e+02]]\n",
        "la [[  6.16019975e-02   1.43000000e+02]\n",
        " [  2.86993571e+03   7.68000000e+02]]\n",
        "1 143.0 [145 768] [ 0.00858607  0.00123716]\n",
        "2 [[  3.43217709e-02   1.45000000e+02]\n",
        " [  3.59231880e+00   7.68000000e+02]]\n",
        "la [[    3.99737658   145.        ]\n",
        " [ 2903.67944195   768.        ]]\n",
        "1 145.0 [146 768] [ 0.199407   0.0013055]\n",
        "2 [[  4.16169086e-02   1.46000000e+02]\n",
        " [  3.67446856e+00   7.68000000e+02]]\n",
        "la [[  2.08703346e-01   1.46000000e+02]\n",
        " [  2.81460522e+03   7.68000000e+02]]\n",
        "1 146.0 [147 768] [ 0.19945525  0.00133125]\n",
        "2 [[  1.89104480e-02   1.47000000e+02]\n",
        " [  3.75661832e+00   7.68000000e+02]]\n",
        "la [[  9.48104815e-02   1.47000000e+02]\n",
        " [  2.82188052e+03   7.68000000e+02]]\n",
        "1 147.0 [148 768] [ 0.20068263  0.0013436 ]\n",
        "2 [[  3.66019121e-02   1.48000000e+02]\n",
        " [  3.83876807e+00   7.68000000e+02]]\n",
        "la [[  1.82387042e-01   1.48000000e+02]\n",
        " [  2.85708491e+03   7.68000000e+02]]\n",
        "1 148.0 [148 768] [ 0.0087285   0.00137579]\n",
        "2 [[  4.55478469e-02   1.48000000e+02]\n",
        " [  3.92091783e+00   7.68000000e+02]]\n",
        "la [[    5.21829266   148.        ]\n",
        " [ 2849.94311061   768.        ]]\n",
        "1 148.0 [149 768] [ 0.20309126  0.00137579]"
       ]
      },
      {
       "output_type": "stream",
       "stream": "stdout",
       "text": [
        "\n",
        "2 [[  3.09771882e-02   1.49000000e+02]\n",
        " [  4.00306759e+00   7.68000000e+02]]\n",
        "la [[  1.52528416e-01   1.49000000e+02]\n",
        " [  2.90965417e+03   7.68000000e+02]]\n",
        "1 149.0 [150 768] [ 0.20518313  0.00138021]\n",
        "2 [[  2.48669189e-02   1.50000000e+02]\n",
        " [  4.08521735e+00   7.68000000e+02]]\n",
        "la [[  1.21193777e-01   1.50000000e+02]\n",
        " [  2.95985558e+03   7.68000000e+02]]\n",
        "1 150.0 [151 768] [ 0.2052066   0.00137971]\n",
        "2 [[  1.79084145e-02   1.51000000e+02]\n",
        " [  4.16736711e+00   7.68000000e+02]]\n",
        "la [[  8.72701700e-02   1.51000000e+02]\n",
        " [  3.02045553e+03   7.68000000e+02]]\n",
        "1 151.0 [152 768] [ 0.20526381  0.00140827]\n",
        "2 [[  1.58421742e-03   1.52000000e+02]\n",
        " [  4.24951687e+00   7.68000000e+02]]\n",
        "la [[  7.71795787e-03   1.52000000e+02]\n",
        " [  3.01754564e+03   7.68000000e+02]]\n",
        "1 152.0 [153 768] [ 0.2080897   0.00144704]\n",
        "2 [[  2.43752821e-02   1.53000000e+02]\n",
        " [  4.33166663e+00   7.68000000e+02]]\n",
        "la [[  1.17138340e-01   1.53000000e+02]\n",
        " [  2.99347585e+03   7.68000000e+02]]\n",
        "1 153.0 [154 768] [ 0.21229055  0.00146757]\n",
        "2 [[  4.36299651e-02   1.54000000e+02]\n",
        " [  4.41381639e+00   7.68000000e+02]]\n",
        "la [[  2.05520052e-01   1.54000000e+02]\n",
        " [  3.00756242e+03   7.68000000e+02]]\n",
        "1 154.0 [154 768] [ 0.00560363  0.00144884]\n",
        "2 [[  3.85197939e-02   1.54000000e+02]\n",
        " [  4.49596615e+00   7.68000000e+02]]\n",
        "la [[    6.87408281   154.        ]\n",
        " [ 3103.13919145   768.        ]]\n",
        "1 154.0 [155 768] [ 0.21524884  0.00144884]\n",
        "2 [[  2.18422486e-02   1.55000000e+02]\n",
        " [  4.57811591e+00   7.68000000e+02]]\n",
        "la [[  1.01474410e-01   1.55000000e+02]\n",
        " [  3.15983938e+03   7.68000000e+02]]\n",
        "1 155.0 [156 768] [ 0.21616929  0.00139124]\n",
        "2 [[  9.39364451e-03   1.56000000e+02]\n",
        " [  4.66026566e+00   7.68000000e+02]]\n",
        "la [[  4.34550381e-02   1.56000000e+02]\n",
        " [  3.34971099e+03   7.68000000e+02]]\n",
        "1 156.0 [157 768] [ 0.21515538  0.00134823]\n",
        "2 [[  1.62000548e-03   1.57000000e+02]\n",
        " [  4.74241542e+00   7.68000000e+02]]\n",
        "la [[  7.52946770e-03   1.57000000e+02]\n",
        " [  3.51750045e+03   7.68000000e+02]]\n",
        "1 157.0 [158 768] [ 0.21251615  0.00136046]\n",
        "2 [[  2.31603706e-03   1.58000000e+02]\n",
        " [  4.82456518e+00   7.68000000e+02]]\n",
        "la [[  1.08981696e-02   1.58000000e+02]\n",
        " [  3.54627448e+03   7.68000000e+02]]\n",
        "1 158.0 [159 768] [ 0.20750668  0.00141455]\n",
        "2 [[  6.45308854e-03   1.59000000e+02]\n",
        " [  4.90671494e+00   7.68000000e+02]]\n",
        "la [[  3.10982202e-02   1.59000000e+02]\n",
        " [  3.46874579e+03   7.68000000e+02]]\n",
        "1 159.0 [160 768] [ 0.19735878  0.00146085]\n",
        "2 [[  9.31176729e-03   1.60000000e+02]\n",
        " [  4.98886470e+00   7.68000000e+02]]\n",
        "la [[  4.71819256e-02   1.60000000e+02]\n",
        " [  3.41505186e+03   7.68000000e+02]]\n",
        "1 160.0 [161 768] [ 0.18284288  0.00148259]\n",
        "2 [[  4.42448541e-03   1.61000000e+02]\n",
        " [  5.07101446e+00   7.68000000e+02]]\n",
        "la [[  2.41982925e-02   1.61000000e+02]\n",
        " [  3.42038024e+03   7.68000000e+02]]\n",
        "1 161.0 [162 768] [ 0.17289861  0.00150884]\n",
        "2 [[  1.20532875e-02   1.62000000e+02]\n",
        " [  5.15316422e+00   7.68000000e+02]]\n",
        "la [[  6.97130406e-02   1.62000000e+02]\n",
        " [  3.41531673e+03   7.68000000e+02]]\n",
        "1 162.0 [163 768] [ 0.17633889  0.001498  ]\n",
        "2 [[  4.22170841e-03   1.63000000e+02]\n",
        " [  5.23531398e+00   7.68000000e+02]]\n",
        "la [[  2.39408805e-02   1.63000000e+02]\n",
        " [  3.49487462e+03   7.68000000e+02]]\n",
        "1 163.0 [164 768] [ 0.19123979  0.00142875]\n",
        "2 [[  3.70411009e-02   1.64000000e+02]\n",
        " [  5.31746374e+00   7.68000000e+02]]\n",
        "la [[  1.93689299e-01   1.64000000e+02]\n",
        " [  3.72176467e+03   7.68000000e+02]]\n",
        "1 164.0 [166 768] [ 0.01025777  0.00139337]\n",
        "2 [[  3.72848811e-02   1.66000000e+02]\n",
        " [  5.39961350e+00   7.68000000e+02]]\n",
        "la [[  3.63479240e+00   1.66000000e+02]\n",
        " [  3.87521784e+03   7.68000000e+02]]\n",
        "1 166.0 [167 768] [ 0.1865711   0.00145272]\n",
        "2 [[  4.33659692e-02   1.67000000e+02]\n",
        " [  5.48176325e+00   7.68000000e+02]]\n",
        "la [[  2.32436695e-01   1.67000000e+02]\n",
        " [  3.77344065e+03   7.68000000e+02]]\n",
        "1 167.0 [168 768] [ 0.1807073  0.001509 ]\n",
        "2 [[  2.94970933e-02   1.68000000e+02]\n",
        " [  5.56391301e+00   7.68000000e+02]]\n",
        "la [[  1.63231332e-01   1.68000000e+02]\n",
        " [  3.68715555e+03   7.68000000e+02]]\n",
        "1 168.0 [169 768] [ 0.189316    0.00150692]\n",
        "2 [[  4.89592657e-02   1.69000000e+02]\n",
        " [  5.64606277e+00   7.68000000e+02]]\n",
        "la [[  2.58611341e-01   1.69000000e+02]\n",
        " [  3.74674762e+03   7.68000000e+02]]\n",
        "1 169.0 [169 768] [ 0.01312439  0.00146028]\n",
        "2 [[  3.31904933e-02   1.69000000e+02]\n",
        " [  5.72821253e+00   7.68000000e+02]]\n",
        "la [[  2.52891767e+00   1.69000000e+02]\n",
        " [  3.92267166e+03   7.68000000e+02]]\n",
        "1 169.0 [171 768] [ 0.01156956  0.00146028]\n",
        "2 [[  4.03104522e-02   1.71000000e+02]\n",
        " [  5.81036229e+00   7.68000000e+02]]\n",
        "la [[  3.48418054e+00   1.71000000e+02]\n",
        " [  3.97892770e+03   7.68000000e+02]]\n",
        "1 171.0 [172 768] [ 0.21517836  0.00146692]\n",
        "2 [[  2.99118200e-02   1.72000000e+02]\n",
        " [  5.89251205e+00   7.68000000e+02]]\n",
        "la [[  1.39009422e-01   1.72000000e+02]\n",
        " [  4.01692580e+03   7.68000000e+02]]\n",
        "1 172.0 [173 768] [ 0.2160841   0.00146414]\n",
        "2 [[  2.35590804e-02   1.73000000e+02]\n",
        " [  5.97466181e+00   7.68000000e+02]]\n",
        "la [[  1.09027367e-01   1.73000000e+02]\n",
        " [  4.08066241e+03   7.68000000e+02]]\n",
        "1 173.0 [174 768] [ 0.21876236  0.001421  ]\n",
        "2 [[  3.58890437e-03   1.74000000e+02]\n",
        " [  6.05681157e+00   7.68000000e+02]]\n",
        "la [[  1.64054930e-02   1.74000000e+02]\n",
        " [  4.26235133e+03   7.68000000e+02]]\n",
        "1 174.0 [175 768] [ 0.22264744  0.00137977]\n",
        "2 [[  2.19777630e-02   1.75000000e+02]\n",
        " [  6.13896133e+00   7.68000000e+02]]\n",
        "la [[  9.87110508e-02   1.75000000e+02]\n",
        " [  4.44925018e+03   7.68000000e+02]]\n",
        "1 175.0 [177 768] [ 0.01347419  0.0013415 ]\n",
        "2 [[  3.70265386e-02   1.77000000e+02]\n",
        " [  6.22111109e+00   7.68000000e+02]]\n",
        "la [[  2.74796084e+00   1.77000000e+02]\n",
        " [  4.63743219e+03   7.68000000e+02]]\n",
        "1 177.0 [179 768] [ 0.01349611  0.00126594]\n",
        "2 [[  1.81017574e-02   1.79000000e+02]\n",
        " [  6.30326084e+00   7.68000000e+02]]\n",
        "la [[  1.34125721e+00   1.79000000e+02]\n",
        " [  4.97911670e+03   7.68000000e+02]]\n",
        "1 179.0 [180 768] [ 0.23664912  0.00122732]\n",
        "2 [[  1.69822547e-02   1.80000000e+02]\n",
        " [  6.38541060e+00   7.68000000e+02]]\n",
        "la [[  7.17613249e-02   1.80000000e+02]\n",
        " [  5.20274731e+03   7.68000000e+02]]\n",
        "1 180.0 [181 768] [ 0.23985341  0.00122849]\n",
        "2 [[  2.07096095e-02   1.81000000e+02]\n",
        " [  6.46756036e+00   7.68000000e+02]]\n",
        "la [[  8.63427778e-02   1.81000000e+02]\n",
        " [  5.26462511e+03   7.68000000e+02]]\n",
        "1 181.0 [182 768] [ 0.24269071  0.00122977]\n",
        "2 [[  1.55078978e-03   1.82000000e+02]\n",
        " [  6.54971012e+00   7.68000000e+02]]\n",
        "la [[  6.38998422e-03   1.82000000e+02]\n",
        " [  5.32595659e+03   7.68000000e+02]]\n",
        "1 182.0 [183 768] [ 0.24545493  0.00122868]\n",
        "2 [[  2.35235327e-02   1.83000000e+02]\n",
        " [  6.63185988e+00   7.68000000e+02]]\n",
        "la [[  9.58364638e-02   1.83000000e+02]\n",
        " [  5.39756205e+03   7.68000000e+02]]\n",
        "1 183.0 [184 768] [ 0.24887347  0.00121197]\n",
        "2 [[  2.68696405e-02   1.84000000e+02]\n",
        " [  6.71400964e+00   7.68000000e+02]]\n",
        "la [[  1.07965067e-01   1.84000000e+02]\n",
        " [  5.53976862e+03   7.68000000e+02]]\n",
        "1 184.0 [185 768] [ 0.25312023  0.00118079]\n",
        "2 [[  4.70148623e-03   1.85000000e+02]\n",
        " [  6.79615940e+00   7.68000000e+02]]\n",
        "la [[  1.85741224e-02   1.85000000e+02]\n",
        " [  5.75559919e+03   7.68000000e+02]]\n",
        "1 185.0 [186 768] [ 0.25782181  0.0011768 ]\n",
        "2 [[  9.63215209e-04   1.86000000e+02]\n",
        " [  6.87830916e+00   7.68000000e+02]]\n",
        "la [[  3.73597259e-03   1.86000000e+02]\n",
        " [  5.84491163e+03   7.68000000e+02]]\n",
        "1 186.0 [187 768] [ 0.26234549  0.00117331]\n",
        "2 [[  1.15032061e-02   1.87000000e+02]\n",
        " [  6.96045892e+00   7.68000000e+02]]\n",
        "la [[  4.38475460e-02   1.87000000e+02]\n",
        " [  5.93232317e+03   7.68000000e+02]]\n",
        "1 187.0 [188 768] [ 0.26598299  0.00117707]\n",
        "2 [[  3.15255343e-02   1.88000000e+02]\n",
        " [  7.04260868e+00   7.68000000e+02]]\n",
        "la [[  1.18524625e-01   1.88000000e+02]\n",
        " [  5.98317534e+03   7.68000000e+02]]\n",
        "1 188.0 [190 768] [ 0.01623074  0.0011905 ]\n",
        "2 [[  3.52691637e-02   1.90000000e+02]\n",
        " [  7.12475843e+00   7.68000000e+02]]\n",
        "la [[  2.17298550e+00   1.90000000e+02]\n",
        " [  5.98465486e+03   7.68000000e+02]]\n",
        "1 190.0 [191 768] [ 0.26927172  0.001193  ]\n",
        "2 [[  2.65214250e-02   1.91000000e+02]\n",
        " [  7.20690819e+00   7.68000000e+02]]\n",
        "la [[  9.84931696e-02   1.91000000e+02]\n",
        " [  6.04101312e+03   7.68000000e+02]]\n",
        "1 191.0 [192 768] [ 0.26657447  0.00118358]\n",
        "2 [[  2.31792905e-02   1.92000000e+02]\n",
        " [  7.28905795e+00   7.68000000e+02]]\n",
        "la [[  8.69524003e-02   1.92000000e+02]\n",
        " [  6.15846940e+03   7.68000000e+02]]\n",
        "1 192.0 [192 768] [ 0.0158988   0.00117298]\n",
        "2 [[  5.89704685e-02   1.92000000e+02]\n",
        " [  7.37120771e+00   7.68000000e+02]]\n",
        "la [[  3.70911348e+00   1.92000000e+02]\n",
        " [  6.28416595e+03   7.68000000e+02]]\n",
        "1 192.0 [193 768] [ 0.26355448  0.00117298]\n",
        "2 [[  1.53266524e-02   1.93000000e+02]\n",
        " [  7.45335747e+00   7.68000000e+02]]\n",
        "la [[  5.81536404e-02   1.93000000e+02]\n",
        " [  6.35420097e+03   7.68000000e+02]]\n",
        "1 193.0 [195 768] [ 0.01532756  0.00115703]\n",
        "2 [[  1.28771525e-02   1.95000000e+02]\n",
        " [  7.53550723e+00   7.68000000e+02]]\n",
        "la [[  8.40130517e-01   1.95000000e+02]\n",
        " [  6.51279679e+03   7.68000000e+02]]\n",
        "1 195.0 [196 768] [ 0.2783692   0.00112388]\n",
        "2 [[  4.47173108e-02   1.96000000e+02]\n",
        " [  7.61765699e+00   7.68000000e+02]]\n",
        "la [[  1.60640296e-01   1.96000000e+02]\n",
        " [  6.77796888e+03   7.68000000e+02]]\n",
        "1 196.0 [197 768] [ 0.2824709   0.00111473]\n",
        "2 [[  1.01441788e-02   1.97000000e+02]\n",
        " [  7.69980675e+00   7.68000000e+02]]\n",
        "la [[  3.59122968e-02   1.97000000e+02]\n",
        " [  6.90729914e+03   7.68000000e+02]]\n",
        "1 197.0 [198 768] [ 0.28440573  0.00112713]\n",
        "2 [[  4.02915728e-03   1.98000000e+02]\n",
        " [  7.78195651e+00   7.68000000e+02]]\n",
        "la [[  1.41669340e-02   1.98000000e+02]\n",
        " [  6.90425101e+03   7.68000000e+02]]\n",
        "1 198.0 [199 768] [ 0.28318436  0.00114204]\n",
        "2 [[  6.42845327e-03   1.99000000e+02]\n",
        " [  7.86410627e+00   7.68000000e+02]]\n",
        "la [[  2.27005943e-02   1.99000000e+02]\n",
        " [  6.88604582e+03   7.68000000e+02]]\n",
        "1"
       ]
      },
      {
       "output_type": "stream",
       "stream": "stdout",
       "text": [
        " 199.0 [200 768] [ 0.27929527  0.00115491]\n",
        "2 [[  5.38536373e-03   2.00000000e+02]\n",
        " [  7.94625602e+00   7.68000000e+02]]\n",
        "la [[  1.92819728e-02   2.00000000e+02]\n",
        " [  6.88039936e+03   7.68000000e+02]]\n",
        "1 200.0 [201 768] [ 0.27721518  0.0011806 ]\n",
        "2 [[  7.94541728e-03   2.01000000e+02]\n",
        " [  8.02840578e+00   7.68000000e+02]]\n",
        "la [[  2.86615524e-02   2.01000000e+02]\n",
        " [  6.80026309e+03   7.68000000e+02]]\n",
        "1 201.0 [202 768] [ 0.28098331  0.00117816]\n",
        "2 [[  1.41758675e-02   2.02000000e+02]\n",
        " [  8.11055554e+00   7.68000000e+02]]\n",
        "la [[  5.04509234e-02   2.02000000e+02]\n",
        " [  6.88406928e+03   7.68000000e+02]]\n",
        "1 202.0 [203 768] [ 0.28937421  0.00115617]\n",
        "2 [[  1.96778686e-02   2.03000000e+02]\n",
        " [  8.19270530e+00   7.68000000e+02]]\n",
        "la [[  6.80014585e-02   2.03000000e+02]\n",
        " [  7.08608605e+03   7.68000000e+02]]\n",
        "1 203.0 [204 768] [ 0.29771207  0.0011251 ]\n",
        "2 [[  4.46149157e-02   2.04000000e+02]\n",
        " [  8.27485506e+00   7.68000000e+02]]\n",
        "la [[  1.49859279e-01   2.04000000e+02]\n",
        " [  7.35480434e+03   7.68000000e+02]]\n",
        "1 204.0 [204 768] [ 0.01081492  0.00114455]\n",
        "2 [[  3.75348433e-02   2.04000000e+02]\n",
        " [  8.35700482e+00   7.68000000e+02]]\n",
        "la [[  3.47065480e+00   2.04000000e+02]\n",
        " [  7.30153817e+03   7.68000000e+02]]\n",
        "1 204.0 [205 768] [ 0.30277853  0.00114455]\n",
        "2 [[  1.67739948e-02   2.05000000e+02]\n",
        " [  8.43915458e+00   7.68000000e+02]]\n",
        "la [[  5.54002129e-02   2.05000000e+02]\n",
        " [  7.37331264e+03   7.68000000e+02]]\n",
        "1 205.0 [206 768] [ 0.304024    0.00115724]\n",
        "2 [[  4.49932713e-03   2.06000000e+02]\n",
        " [  8.52130434e+00   7.68000000e+02]]\n",
        "la [[  1.47992500e-02   2.06000000e+02]\n",
        " [  7.36350365e+03   7.68000000e+02]]\n",
        "1 206.0 [207 768] [ 0.3010639   0.00117203]\n",
        "2 [[  5.51061784e-03   2.07000000e+02]\n",
        " [  8.60345410e+00   7.68000000e+02]]\n",
        "la [[  1.83038148e-02   2.07000000e+02]\n",
        " [  7.34067355e+03   7.68000000e+02]]\n",
        "1 207.0 [208 768] [ 0.29418538  0.00118043]\n",
        "2 [[  6.82922713e-03   2.08000000e+02]\n",
        " [  8.68560386e+00   7.68000000e+02]]\n",
        "la [[  2.32140264e-02   2.08000000e+02]\n",
        " [  7.35802674e+03   7.68000000e+02]]\n",
        "1 208.0 [209 768] [ 0.28722553  0.00120082]\n",
        "2 [[  1.31434125e-02   2.09000000e+02]\n",
        " [  8.76775361e+00   7.68000000e+02]]\n",
        "la [[  4.57599040e-02   2.09000000e+02]\n",
        " [  7.30144356e+03   7.68000000e+02]]\n",
        "1 209.0 [210 768] [ 0.28425047  0.00121108]\n",
        "2 [[  2.80999876e-02   2.10000000e+02]\n",
        " [  8.84990337e+00   7.68000000e+02]]\n",
        "la [[  9.88564316e-02   2.10000000e+02]\n",
        " [  7.30744552e+03   7.68000000e+02]]\n",
        "1 210.0 [211 768] [ 0.2846058  0.0012182]\n",
        "2 [[  3.11875248e-02   2.11000000e+02]\n",
        " [  8.93205313e+00   7.68000000e+02]]\n",
        "la [[  1.09581481e-01   2.11000000e+02]\n",
        " [  7.33219302e+03   7.68000000e+02]]\n",
        "1 211.0 [212 768] [ 0.28387268  0.00122259]\n",
        "2 [[  3.69887835e-02   2.12000000e+02]\n",
        " [  9.01420289e+00   7.68000000e+02]]\n",
        "la [[  1.30300612e-01   2.12000000e+02]\n",
        " [  7.37302136e+03   7.68000000e+02]]\n",
        "1 212.0 [213 768] [ 0.2792991   0.00124515]\n",
        "2 [[  4.46013251e-02   2.13000000e+02]\n",
        " [  9.09635265e+00   7.68000000e+02]]\n",
        "la [[  1.59690186e-01   2.13000000e+02]\n",
        " [  7.30545236e+03   7.68000000e+02]]\n",
        "1 213.0 [213 768] [ 0.0085643   0.00129343]\n",
        "2 [[  3.75484339e-02   2.13000000e+02]\n",
        " [  9.17850241e+00   7.68000000e+02]]\n",
        "la [[  4.38429814e+00   2.13000000e+02]\n",
        " [  7.09624640e+03   7.68000000e+02]]\n",
        "1 213.0 [214 768] [ 0.27385142  0.00129343]\n",
        "2 [[  3.44103748e-02   2.14000000e+02]\n",
        " [  9.26065217e+00   7.68000000e+02]]\n",
        "la [[  1.25653449e-01   2.14000000e+02]\n",
        " [  7.15975948e+03   7.68000000e+02]]\n",
        "1 214.0 [215 768] [ 0.27147704  0.00131233]\n",
        "2 [[  2.95776055e-02   2.15000000e+02]\n",
        " [  9.34280193e+00   7.68000000e+02]]\n",
        "la [[  1.08950670e-01   2.15000000e+02]\n",
        " [  7.11924983e+03   7.68000000e+02]]\n",
        "1 215.0 [216 768] [ 0.2724703   0.00131902]\n",
        "2 [[  2.97400334e-02   2.16000000e+02]\n",
        " [  9.42495169e+00   7.68000000e+02]]\n",
        "la [[  1.09149632e-01   2.16000000e+02]\n",
        " [  7.14541397e+03   7.68000000e+02]]\n",
        "1 216.0 [217 768] [ 0.27592689  0.00132827]\n",
        "2 [[  3.44451266e-02   2.17000000e+02]\n",
        " [  9.50710145e+00   7.68000000e+02]]\n",
        "la [[  1.24834251e-01   2.17000000e+02]\n",
        " [  7.15752464e+03   7.68000000e+02]]\n",
        "1 217.0 [219 768] [ 0.00511166  0.00134196]\n",
        "2 [[  2.99551616e-02   2.19000000e+02]\n",
        " [  9.58925120e+00   7.68000000e+02]]\n",
        "la [[  5.86016159e+00   2.19000000e+02]\n",
        " [  7.14572909e+03   7.68000000e+02]]\n",
        "1 219.0 [220 768] [ 0.29270383  0.0012625 ]\n",
        "2 [[  1.71854777e-02   2.20000000e+02]\n",
        " [  9.67140096e+00   7.68000000e+02]]\n",
        "la [[  5.87128562e-02   2.20000000e+02]\n",
        " [  7.66051625e+03   7.68000000e+02]]\n",
        "1 220.0 [221 768] [ 0.29521436  0.00126502]\n",
        "2 [[  1.39583773e-03   2.21000000e+02]\n",
        " [  9.75355072e+00   7.68000000e+02]]\n",
        "la [[  4.72821762e-03   2.21000000e+02]\n",
        " [  7.71018244e+03   7.68000000e+02]]\n",
        "1 221.0 [222 768] [ 0.29317858  0.00126356]\n",
        "2 [[  1.86542005e-02   2.22000000e+02]\n",
        " [  9.83570048e+00   7.68000000e+02]]\n",
        "la [[  6.36274321e-02   2.22000000e+02]\n",
        " [  7.78412112e+03   7.68000000e+02]]\n",
        "1 222.0 [224 768] [ 0.00326125  0.00123874]\n",
        "2 [[  2.48579627e-02   2.24000000e+02]\n",
        " [  9.91785024e+00   7.68000000e+02]]\n",
        "la [[  7.62222013e+00   2.24000000e+02]\n",
        " [  8.00640690e+03   7.68000000e+02]]\n",
        "1 224.0 [225 768] [ 0.27125625  0.00126015]\n",
        "2 [[   0.  225.]\n",
        " [  10.  768.]]\n",
        "la [[    0.           225.        ]\n",
        " [ 7935.58904888   768.        ]]\n",
        "1 225.0 [ 83 756] [ 0.00124987  0.0012562 ]\n",
        "2 [[  1.12138143e-02   8.30000000e+01]\n",
        " [  2.80271079e-02   7.56000000e+02]]\n",
        "la [[   8.97198539   83.        ]\n",
        " [  22.31097309  756.        ]]\n",
        "1 83.0 [ 84 757] [ 0.14966448  0.00098793]\n",
        "2 [[  5.38632780e-03   8.40000000e+01]\n",
        " [  5.15661314e-02   7.57000000e+02]]\n",
        "la [[  3.59893520e-02   8.40000000e+01]\n",
        " [  5.21960083e+01   7.57000000e+02]]\n",
        "1 84.0 [ 85 757] [ 0.14649921  0.00098172]\n",
        "2 [[  2.48457894e-03   8.50000000e+01]\n",
        " [  3.07864665e-02   7.57000000e+02]]\n",
        "la [[  1.69596749e-02   8.50000000e+01]\n",
        " [  3.13595663e+01   7.57000000e+02]]\n",
        "1 85.0 [ 86 758] [ 0.14130974  0.0009951 ]\n",
        "2 [[  8.62779861e-03   8.60000000e+01]\n",
        " [  1.54907607e-02   7.58000000e+02]]\n",
        "la [[  6.10559369e-02   8.60000000e+01]\n",
        " [  1.55670367e+01   7.58000000e+02]]\n",
        "1 86.0 [ 87 759] [ 0.13804039  0.0010088 ]\n",
        "2 [[  2.26308521e-03   8.70000000e+01]\n",
        " [  3.02333243e-02   7.59000000e+02]]\n",
        "la [[  1.63943697e-02   8.70000000e+01]\n",
        " [  2.99697287e+01   7.59000000e+02]]\n",
        "1 87.0 [ 88 761] [ 0.13988711  0.00103923]\n",
        "2 [[  2.66166943e-03   8.80000000e+01]\n",
        " [  1.67671266e-02   7.61000000e+02]]\n",
        "la [[  1.90272668e-02   8.80000000e+01]\n",
        " [  1.61342600e+01   7.61000000e+02]]\n",
        "1 88.0 [ 89 762] [ 0.14721768  0.00104077]\n",
        "2 [[  2.26512389e-02   8.90000000e+01]\n",
        " [  3.65998280e-03   7.62000000e+02]]\n",
        "la [[  1.53862221e-01   8.90000000e+01]\n",
        " [  3.51659711e+00   7.62000000e+02]]\n",
        "1 89.0 [ 90 763] [ 0.15582986  0.00102653]\n",
        "2 [[  2.43312039e-02   9.00000000e+01]\n",
        " [  6.93628239e-02   7.63000000e+02]]\n",
        "la [[  1.56139548e-01   9.00000000e+01]\n",
        " [  6.75700300e+01   7.63000000e+02]]\n",
        "1 90.0 [ 91 763] [ 0.1593762   0.00102504]\n",
        "2 [[  3.13498475e-02   9.10000000e+01]\n",
        " [  1.29897740e-02   7.63000000e+02]]\n",
        "la [[  1.96703448e-01   9.10000000e+01]\n",
        " [  1.26725101e+01   7.63000000e+02]]\n",
        "1 91.0 [ 93 764] [ 0.00891309  0.00101967]\n",
        "2 [[  3.23614450e-02   9.30000000e+01]\n",
        " [  1.40516145e-02   7.64000000e+02]]\n",
        "la [[   3.63077652   93.        ]\n",
        " [  13.78053278  764.        ]]\n",
        "1 93.0 [ 94 765] [ 0.14850063  0.00101685]\n",
        "2 [[  2.12273357e-02   9.40000000e+01]\n",
        " [  3.78136636e-02   7.65000000e+02]]\n",
        "la [[  1.42944412e-01   9.40000000e+01]\n",
        " [  3.71871422e+01   7.65000000e+02]]\n",
        "1 94.0 [ 95 765] [ 0.14803824  0.00102262]\n",
        "2 [[  1.62509238e-02   9.50000000e+01]\n",
        " [  4.45389343e-02   7.65000000e+02]]\n",
        "la [[  1.09775179e-01   9.50000000e+01]\n",
        " [  4.35539448e+01   7.65000000e+02]]\n",
        "1 95.0 [ 96 766] [ 0.14899621  0.00098861]\n",
        "2 [[  1.02988681e-02   9.60000000e+01]\n",
        " [  3.49891415e-02   7.66000000e+02]]\n",
        "la [[  6.91216785e-02   9.60000000e+01]\n",
        " [  3.53924372e+01   7.66000000e+02]]\n",
        "1 96.0 [ 97 767] [ 0.15101631  0.00093906]\n",
        "2 [[  5.38157450e-03   9.70000000e+01]\n",
        " [  3.74909544e-02   7.67000000e+02]]\n",
        "la [[  3.56357173e-02   9.70000000e+01]\n",
        " [  3.99240242e+01   7.67000000e+02]]\n",
        "1 97.0 [ 98 768] [ 0.1545171   0.00091768]\n",
        "2 [[  1.30323924e-02   9.80000000e+01]\n",
        " [  3.53356522e-02   7.68000000e+02]]\n",
        "la [[  8.43427218e-02   9.80000000e+01]\n",
        " [  3.85055879e+01   7.68000000e+02]]\n",
        "1 98.0 [ 99 768] [ 0.15876154  0.0009279 ]\n",
        "2 [[  3.50549249e-02   9.90000000e+01]\n",
        " [  1.17688250e-01   7.68000000e+02]]\n",
        "la [[  2.20802373e-01   9.90000000e+01]\n",
        " [  1.26832971e+02   7.68000000e+02]]\n",
        "1 99.0 [101 768] [ 0.00915994  0.00094222]\n",
        "2 [[  2.99579725e-02   1.01000000e+02]\n",
        " [  2.00040848e-01   7.68000000e+02]]\n",
        "la [[   3.27054252  101.        ]\n",
        " [ 212.3079072   768.        ]]\n",
        "1 101.0 [102 768] [ 0.16297109  0.00095983]\n",
        "2 [[  1.39875827e-02   1.02000000e+02]\n",
        " [  2.82393446e-01   7.68000000e+02]]\n",
        "la [[  8.58286110e-02   1.02000000e+02]\n",
        " [  2.94213096e+02   7.68000000e+02]]\n",
        "1 102.0 [103 768] [ 0.16207179  0.00096489]\n",
        "2 [[  7.40155924e-03   1.03000000e+02]\n",
        " [  3.64746044e-01   7.68000000e+02]]\n",
        "la [[  4.56683996e-02   1.03000000e+02]\n",
        " [  3.78017290e+02   7.68000000e+02]]\n",
        "1 103.0 [104 768] [ 0.16312845  0.00096536]\n",
        "2 [[  1.47953138e-03   1.04000000e+02]\n",
        " [  4.47098642e-01   7.68000000e+02]]\n",
        "la [[  9.06973242e-03   1.04000000e+02]\n",
        " [  4.63141532e+02   7.68000000e+02]]\n",
        "1 104.0 [105 768] [ 0.16649434  0.00095603]\n",
        "2 [[  5.30116849e-03   1.05000000e+02]\n",
        " [  5.29451240e-01   7.68000000e+02]]\n",
        "la [[  3.18399325e-02   1.05000000e+02]\n",
        " [  5.53800610e+02   7.68000000e+02]]\n",
        "1 105.0 [106 768] [ 0.1706794   0.00095143]\n",
        "2 [[  6.92295888e-03   1.06000000e+02]\n",
        " [  6.11803838e-01   7.68000000e+02]]\n",
        "la [[  4.05611867e-02   1.06000000e+02]\n",
        " [  6.43033618e+02   7.68000000e+02]]\n",
        "1 106.0 [107 768] [ 0.17397974  0.00095232]\n",
        "2 [[  9.63699690e-03   1.07000000e+02]\n",
        " [  6.94156436e-01   7.68000000e+02]]\n",
        "la [[  5.53914890e-02   1.07000000e+02]\n",
        " [  7.28912188e+02   7.68000000e+02]]\n",
        "1 107.0 [108 768] [ 0.17593987  0.00094515]\n",
        "2 [[  1.29951771e-02   1.08000000e+02]\n",
        " [  7.76509033e-01   7.68000000e+02]]\n",
        "la [[  7.38614694e-02   1.08000000e+02]\n",
        " [  8.21569305e+02   7.68000000e+02]]\n",
        "1 108.0 [109 768] [ 0.17702696  0.00095474]\n",
        "2 [[  1.53723806e-02   1.09000000e+02]\n",
        " [  8.58861631e-01   7.68000000e+02]]\n",
        "la [[  8.68363805e-02   1.09000000e+02]\n",
        " [  8.99573497e+02   7.68000000e+02]]\n",
        "1 109.0 [110 768] [ 0.17767846  0.00096732]\n",
        "2 [[  1.85318236e-02   1.10000000e+02]\n",
        " [  9.41214229e-01   7.68000000e+02]]\n",
        "la [[  1.04299774e-01   1.10000000e+02]\n",
        " [  9.73013932e+02   7.68000000e+02]]\n",
        "1 110.0 [111 768]"
       ]
      },
      {
       "output_type": "stream",
       "stream": "stdout",
       "text": [
        " [ 0.17811398  0.00095737]\n",
        "2 [[  2.20881517e-02   1.11000000e+02]\n",
        " [  1.02356683e+00   7.68000000e+02]]\n",
        "la [[  1.24011331e-01   1.11000000e+02]\n",
        " [  1.06914372e+03   7.68000000e+02]]\n",
        "1 111.0 [112 768] [ 0.17824371  0.00096653]\n",
        "2 [[  3.24748868e-02   1.12000000e+02]\n",
        " [  1.10591943e+00   7.68000000e+02]]\n",
        "la [[  1.82193737e-01   1.12000000e+02]\n",
        " [  1.14421200e+03   7.68000000e+02]]\n",
        "1 112.0 [113 768] [ 0.17810706  0.00096843]\n",
        "2 [[  3.29674323e-02   1.13000000e+02]\n",
        " [  1.18827202e+00   7.68000000e+02]]\n",
        "la [[  1.85098963e-01   1.13000000e+02]\n",
        " [  1.22701225e+03   7.68000000e+02]]\n",
        "1 113.0 [115 768] [ 0.00835965  0.00096575]\n",
        "2 [[  3.35316564e-02   1.15000000e+02]\n",
        " [  1.27062462e+00   7.68000000e+02]]\n",
        "la [[    4.01113161   115.        ]\n",
        " [ 1315.6803368    768.        ]]\n",
        "1 115.0 [116 768] [ 0.17850751  0.000988  ]\n",
        "2 [[  2.66882581e-02   1.16000000e+02]\n",
        " [  1.35297722e+00   7.68000000e+02]]\n",
        "la [[  1.49507761e-01   1.16000000e+02]\n",
        " [  1.36941124e+03   7.68000000e+02]]\n",
        "1 116.0 [117 768] [ 0.17775499  0.00099623]\n",
        "2 [[  2.53794727e-02   1.17000000e+02]\n",
        " [  1.43532982e+00   7.68000000e+02]]\n",
        "la [[  1.42777839e-01   1.17000000e+02]\n",
        " [  1.44075999e+03   7.68000000e+02]]\n",
        "1 117.0 [118 768] [ 0.17647212  0.00101546]\n",
        "2 [[  2.45553659e-02   1.18000000e+02]\n",
        " [  1.51768241e+00   7.68000000e+02]]\n",
        "la [[  1.39145867e-01   1.18000000e+02]\n",
        " [  1.49457061e+03   7.68000000e+02]]\n",
        "1 118.0 [119 768] [ 0.1738667   0.00102305]\n",
        "2 [[  1.59294292e-02   1.19000000e+02]\n",
        " [  1.60003501e+00   7.68000000e+02]]\n",
        "la [[  9.16186295e-02   1.19000000e+02]\n",
        " [  1.56399028e+03   7.68000000e+02]]\n",
        "1 119.0 [120 768] [ 0.17067338  0.00102418]\n",
        "2 [[  3.69844393e-03   1.20000000e+02]\n",
        " [  1.68238761e+00   7.68000000e+02]]\n",
        "la [[  2.16697181e-02   1.20000000e+02]\n",
        " [  1.64266122e+03   7.68000000e+02]]\n",
        "1 120.0 [121 768] [ 0.16950133  0.00103362]\n",
        "2 [[  2.06915026e-03   1.21000000e+02]\n",
        " [  1.76474021e+00   7.68000000e+02]]\n",
        "la [[  1.22072806e-02   1.21000000e+02]\n",
        " [  1.70734229e+03   7.68000000e+02]]\n",
        "1 121.0 [122 768] [ 0.17104526  0.00103387]\n",
        "2 [[  6.97795922e-04   1.22000000e+02]\n",
        " [  1.84709281e+00   7.68000000e+02]]\n",
        "la [[  4.07959813e-03   1.22000000e+02]\n",
        " [  1.78658404e+03   7.68000000e+02]]\n",
        "1 122.0 [123 768] [ 0.17341757  0.00102564]\n",
        "2 [[  2.15146150e-03   1.23000000e+02]\n",
        " [  1.92944540e+00   7.68000000e+02]]\n",
        "la [[  1.24062487e-02   1.23000000e+02]\n",
        " [  1.88121104e+03   7.68000000e+02]]\n",
        "1 123.0 [124 768] [ 0.17451063  0.00103098]\n",
        "2 [[  4.13796337e-04   1.24000000e+02]\n",
        " [  2.01179800e+00   7.68000000e+02]]\n",
        "la [[  2.37118124e-03   1.24000000e+02]\n",
        " [  1.95134736e+03   7.68000000e+02]]\n",
        "1 124.0 [125 768] [ 0.1740186   0.00105172]\n",
        "2 [[  3.03130181e-03   1.25000000e+02]\n",
        " [  2.09415060e+00   7.68000000e+02]]\n",
        "la [[  1.74194128e-02   1.25000000e+02]\n",
        " [  1.99116188e+03   7.68000000e+02]]\n",
        "1 125.0 [126 768] [ 0.17293296  0.00107555]\n",
        "2 [[  6.57635853e-03   1.26000000e+02]\n",
        " [  2.17650320e+00   7.68000000e+02]]\n",
        "la [[  3.80283696e-02   1.26000000e+02]\n",
        " [  2.02362798e+03   7.68000000e+02]]\n",
        "1 126.0 [127 768] [ 0.17035778  0.00109784]\n",
        "2 [[  1.23685468e-02   1.27000000e+02]\n",
        " [  2.25885580e+00   7.68000000e+02]]\n",
        "la [[  7.26033572e-02   1.27000000e+02]\n",
        " [  2.05753839e+03   7.68000000e+02]]\n",
        "1 127.0 [128 768] [ 0.16450267  0.00111367]\n",
        "2 [[  1.33766361e-02   1.28000000e+02]\n",
        " [  2.34120839e+00   7.68000000e+02]]\n",
        "la [[  8.13156180e-02   1.28000000e+02]\n",
        " [  2.10224447e+03   7.68000000e+02]]\n",
        "1 128.0 [129 768] [ 0.15842303  0.00113371]\n",
        "2 [[  1.68085230e-03   1.29000000e+02]\n",
        " [  2.42356099e+00   7.68000000e+02]]\n",
        "la [[  1.06098986e-02   1.29000000e+02]\n",
        " [  2.13773321e+03   7.68000000e+02]]\n",
        "1 129.0 [130 768] [ 0.1580307   0.00114883]\n",
        "2 [[  1.15343278e-03   1.30000000e+02]\n",
        " [  2.50591359e+00   7.68000000e+02]]\n",
        "la [[  7.29878920e-03   1.30000000e+02]\n",
        " [  2.18127449e+03   7.68000000e+02]]\n",
        "1 130.0 [131 768] [ 0.16348885  0.001155  ]\n",
        "2 [[  2.08581229e-02   1.31000000e+02]\n",
        " [  2.58826619e+00   7.68000000e+02]]\n",
        "la [[  1.27581316e-01   1.31000000e+02]\n",
        " [  2.24092622e+03   7.68000000e+02]]\n",
        "1 131.0 [132 768] [ 0.16959442  0.00116277]\n",
        "2 [[  3.44043655e-02   1.32000000e+02]\n",
        " [  2.67061879e+00   7.68000000e+02]]\n",
        "la [[  2.02862608e-01   1.32000000e+02]\n",
        " [  2.29678168e+03   7.68000000e+02]]\n",
        "1 132.0 [133 768] [ 0.17366973  0.0011952 ]\n",
        "2 [[  3.74222002e-02   1.33000000e+02]\n",
        " [  2.75297138e+00   7.68000000e+02]]\n",
        "la [[  2.15479115e-01   1.33000000e+02]\n",
        " [  2.30334737e+03   7.68000000e+02]]\n",
        "1 133.0 [134 768] [ 0.17633479  0.00120792]\n",
        "2 [[  3.69735611e-02   1.34000000e+02]\n",
        " [  2.83532398e+00   7.68000000e+02]]\n",
        "la [[  2.09678200e-01   1.34000000e+02]\n",
        " [  2.34727759e+03   7.68000000e+02]]\n",
        "1 134.0 [136 768] [ 0.00796156  0.00124027]\n",
        "2 [[  2.61412625e-02   1.36000000e+02]\n",
        " [  2.91767658e+00   7.68000000e+02]]\n",
        "la [[    3.28343573   136.        ]\n",
        " [ 2352.46145359   768.        ]]\n",
        "1 136.0 [137 768] [ 0.18346081  0.00124211]\n",
        "2 [[  2.18327987e-02   1.37000000e+02]\n",
        " [  3.00002918e+00   7.68000000e+02]]\n",
        "la [[  1.19005242e-01   1.37000000e+02]\n",
        " [  2.41526636e+03   7.68000000e+02]]\n",
        "1 137.0 [138 768] [ 0.19067628  0.00120786]\n",
        "2 [[  2.14371412e-02   1.38000000e+02]\n",
        " [  3.08238178e+00   7.68000000e+02]]\n",
        "la [[  1.12426889e-01   1.38000000e+02]\n",
        " [  2.55194339e+03   7.68000000e+02]]\n",
        "1 138.0 [139 768] [ 0.19604695  0.00119321]\n",
        "2 [[  1.97913007e-02   1.39000000e+02]\n",
        " [  3.16473437e+00   7.68000000e+02]]\n",
        "la [[  1.00951845e-01   1.39000000e+02]\n",
        " [  2.65229121e+03   7.68000000e+02]]\n",
        "1 139.0 [140 768] [ 0.19678703  0.00119603]\n",
        "2 [[  1.62616125e-02   1.40000000e+02]\n",
        " [  3.24708697e+00   7.68000000e+02]]\n",
        "la [[  8.26355919e-02   1.40000000e+02]\n",
        " [  2.71487740e+03   7.68000000e+02]]\n",
        "1 140.0 [141 768] [ 0.19456036  0.00120521]\n",
        "2 [[  1.13022155e-02   1.41000000e+02]\n",
        " [  3.32943957e+00   7.68000000e+02]]\n",
        "la [[  5.80910490e-02   1.41000000e+02]\n",
        " [  2.76254422e+03   7.68000000e+02]]\n",
        "1 141.0 [142 768] [ 0.19309821  0.00121377]\n",
        "2 [[  1.13703135e-02   1.42000000e+02]\n",
        " [  3.41179217e+00   7.68000000e+02]]\n",
        "la [[  5.88835781e-02   1.42000000e+02]\n",
        " [  2.81090106e+03   7.68000000e+02]]\n",
        "1 142.0 [143 768] [ 0.19487798  0.00122308]\n",
        "2 [[  4.01940104e-03   1.43000000e+02]\n",
        " [  3.49414476e+00   7.68000000e+02]]\n",
        "la [[  2.06252189e-02   1.43000000e+02]\n",
        " [  2.85683416e+03   7.68000000e+02]]\n",
        "1 143.0 [144 768] [ 0.19815235  0.00123716]\n",
        "2 [[  2.18062149e-02   1.44000000e+02]\n",
        " [  3.57649736e+00   7.68000000e+02]]\n",
        "la [[  1.10047722e-01   1.44000000e+02]\n",
        " [  2.89089094e+03   7.68000000e+02]]\n",
        "1 144.0 [145 768] [ 0.19964731  0.00126708]\n",
        "2 [[  3.22093919e-02   1.45000000e+02]\n",
        " [  3.65884996e+00   7.68000000e+02]]\n",
        "la [[  1.61331461e-01   1.45000000e+02]\n",
        " [  2.88762468e+03   7.68000000e+02]]\n",
        "1 145.0 [146 768] [ 0.199407   0.0013055]\n",
        "2 [[  2.51170931e-02   1.46000000e+02]\n",
        " [  3.74120256e+00   7.68000000e+02]]\n",
        "la [[  1.25958932e-01   1.46000000e+02]\n",
        " [  2.86572279e+03   7.68000000e+02]]\n",
        "1 146.0 [147 768] [ 0.19945525  0.00133125]\n",
        "2 [[  4.80263927e-02   1.47000000e+02]\n",
        " [  3.82355516e+00   7.68000000e+02]]\n",
        "la [[  2.40787813e-01   1.47000000e+02]\n",
        " [  2.87216185e+03   7.68000000e+02]]\n",
        "1 147.0 [148 768] [ 0.20068263  0.0013436 ]\n",
        "2 [[  3.05377675e-02   1.48000000e+02]\n",
        " [  3.90590775e+00   7.68000000e+02]]\n",
        "la [[  1.52169457e-01   1.48000000e+02]\n",
        " [  2.90705505e+03   7.68000000e+02]]\n",
        "1 148.0 [149 768] [ 0.20309126  0.00137579]\n",
        "2 [[  1.61699477e-02   1.49000000e+02]\n",
        " [  3.98826035e+00   7.68000000e+02]]\n",
        "la [[  7.96191212e-02   1.49000000e+02]\n",
        " [  2.89889143e+03   7.68000000e+02]]\n",
        "1 149.0 [150 768] [ 0.20518313  0.00138021]\n",
        "2 [[  1.02625173e-02   1.50000000e+02]\n",
        " [  4.07061295e+00   7.68000000e+02]]\n",
        "la [[  5.00163788e-02   1.50000000e+02]\n",
        " [  2.94927427e+03   7.68000000e+02]]\n",
        "1 150.0 [151 768] [ 0.2052066   0.00137971]\n",
        "2 [[  3.50685184e-03   1.51000000e+02]\n",
        " [  4.15296555e+00   7.68000000e+02]]\n",
        "la [[  1.70893719e-02   1.51000000e+02]\n",
        " [  3.01001746e+03   7.68000000e+02]]\n",
        "1 151.0 [152 768] [ 0.20526381  0.00140827]\n",
        "2 [[  1.57829412e-02   1.52000000e+02]\n",
        " [  4.23531815e+00   7.68000000e+02]]\n",
        "la [[  7.68910086e-02   1.52000000e+02]\n",
        " [  3.00746325e+03   7.68000000e+02]]\n",
        "1 152.0 [153 768] [ 0.2080897   0.00144704]\n",
        "2 [[  3.83711670e-02   1.53000000e+02]\n",
        " [  4.31767074e+00   7.68000000e+02]]\n",
        "la [[  1.84397242e-01   1.53000000e+02]\n",
        " [  2.98380375e+03   7.68000000e+02]]\n",
        "1 153.0 [153 768] [ 0.00614037  0.00146757]\n",
        "2 [[  4.39814309e-02   1.53000000e+02]\n",
        " [  4.40002334e+00   7.68000000e+02]]\n",
        "la [[    7.16266473   153.        ]\n",
        " [ 2998.16387553   768.        ]]\n",
        "1 153.0 [154 768] [ 0.21229055  0.00146757]\n",
        "2 [[  2.49295869e-02   1.54000000e+02]\n",
        " [  4.48237594e+00   7.68000000e+02]]\n",
        "la [[  1.17431448e-01   1.54000000e+02]\n",
        " [  3.05427871e+03   7.68000000e+02]]\n",
        "1 154.0 [155 768] [ 0.21524884  0.00144884]\n",
        "2 [[  8.45488047e-03   1.55000000e+02]\n",
        " [  4.56472854e+00   7.68000000e+02]]\n",
        "la [[  3.92795641e-02   1.55000000e+02]\n",
        " [  3.15059935e+03   7.68000000e+02]]\n",
        "1 155.0 [156 768] [ 0.21616929  0.00139124]\n",
        "2 [[  3.79088471e-03   1.56000000e+02]\n",
        " [  4.64708114e+00   7.68000000e+02]]\n",
        "la [[  1.75366482e-02   1.56000000e+02]\n",
        " [  3.34023420e+03   7.68000000e+02]]\n",
        "1 156.0 [157 768] [ 0.21515538  0.00134823]\n",
        "2 [[  1.13616848e-02   1.57000000e+02]\n",
        " [  4.72943373e+00   7.68000000e+02]]\n",
        "la [[  5.28068824e-02   1.57000000e+02]\n",
        " [  3.50787179e+03   7.68000000e+02]]\n",
        "1 157.0 [158 768] [ 0.21251615  0.00136046]\n",
        "2 [[  1.04628143e-02   1.58000000e+02]\n",
        " [  4.81178633e+00   7.68000000e+02]]\n",
        "la [[  4.92330315e-02   1.58000000e+02]\n",
        " [  3.53688145e+03   7.68000000e+02]]\n",
        "1 158.0 [159 768] [ 0.20750668  0.00141455]\n",
        "2 [[  6.12292394e-03   1.59000000e+02]\n",
        " [  4.89413893e+00   7.68000000e+02]]\n",
        "la [[  2.95071168e-02   1.59000000e+02]\n",
        " [  3.45985533e+03   7.68000000e+02]]\n",
        "1 159.0 [160 768] [ 0.19735878  0.00146085]\n",
        "2 [[  3.06140629e-03   1.60000000e+02]\n",
        " [  4.97649153e+00   7.68000000e+02]]\n",
        "la [[  1.55118829e-02   1.60000000e+02]\n",
        " [  3.40658199e+03   7.68000000e+02]]\n",
        "1 160.0 [161 768] [ 0.18284288  0.00148259]\n",
        "2 [[  1.65948201e-02   1.61000000e+02]\n",
        " [  5.05884413e+00   7.68000000e+02]]\n",
        "la [[  9.07600035e-02   1.61000000e+02]\n",
        " [  3.41217139e+03   7.68000000e+02]]\n",
        "1 161.0 [162 768] [ 0.17289861  0.00150884]\n",
        "2 [[  2.40207833e-02   1.62000000e+02]\n",
        " [  5.14119672e+00   7.68000000e+02]]\n",
        "la [[  1.38929884e-01   1.62000000e+02]\n",
        " [  3.40738514e+03   7.68000000e+02]]\n",
        "1 162.0 [163 768] [ 0.17633889  0.001498  ]\n",
        "2 [[  7.54294843e-03   1.63000000e+02]\n",
        " [  5.22354932e+00   7.68000000e+02]]\n",
        "la [[  4.27752961e-02   1.63000000e+02]\n",
        " [  3.48702103e+03   7.68000000e+02]]\n",
        "1 163.0 [164 768]"
       ]
      },
      {
       "output_type": "stream",
       "stream": "stdout",
       "text": [
        " [ 0.19123979  0.00142875]\n",
        "2 [[  2.54792830e-02   1.64000000e+02]\n",
        " [  5.30590192e+00   7.68000000e+02]]\n",
        "la [[  1.33232121e-01   1.64000000e+02]\n",
        " [  3.71367240e+03   7.68000000e+02]]\n",
        "1 164.0 [165 768] [ 0.20354829  0.00139337]\n",
        "2 [[  2.99716278e-02   1.65000000e+02]\n",
        " [  5.38825452e+00   7.68000000e+02]]\n",
        "la [[  1.47245788e-01   1.65000000e+02]\n",
        " [  3.86706568e+03   7.68000000e+02]]\n",
        "1 165.0 [166 768] [ 0.20008382  0.00139476]\n",
        "2 [[  3.37087378e-02   1.66000000e+02]\n",
        " [  5.47060711e+00   7.68000000e+02]]\n",
        "la [[  1.68473080e-01   1.66000000e+02]\n",
        " [  3.92226033e+03   7.68000000e+02]]\n",
        "1 166.0 [167 768] [ 0.1865711   0.00145272]\n",
        "2 [[  2.78304886e-02   1.67000000e+02]\n",
        " [  5.55295971e+00   7.68000000e+02]]\n",
        "la [[  1.49168275e-01   1.67000000e+02]\n",
        " [  3.82244962e+03   7.68000000e+02]]\n",
        "1 167.0 [168 768] [ 0.1807073  0.001509 ]\n",
        "2 [[  4.19022034e-02   1.68000000e+02]\n",
        " [  5.63531231e+00   7.68000000e+02]]\n",
        "la [[  2.31878864e-01   1.68000000e+02]\n",
        " [  3.73447123e+03   7.68000000e+02]]\n",
        "1 168.0 [169 768] [ 0.189316    0.00150692]\n",
        "2 [[  2.26428699e-02   1.69000000e+02]\n",
        " [  5.71766491e+00   7.68000000e+02]]\n",
        "la [[  1.19603570e-01   1.69000000e+02]\n",
        " [  3.79426306e+03   7.68000000e+02]]\n",
        "1 169.0 [170 768] [ 0.20371258  0.00146028]\n",
        "2 [[  3.04867867e-02   1.70000000e+02]\n",
        " [  5.80001751e+00   7.68000000e+02]]\n",
        "la [[  1.49655889e-01   1.70000000e+02]\n",
        " [  3.97184360e+03   7.68000000e+02]]\n",
        "1 170.0 [171 768] [ 0.21277107  0.00144866]\n",
        "2 [[  3.16973613e-02   1.71000000e+02]\n",
        " [  5.88237010e+00   7.68000000e+02]]\n",
        "la [[  1.48974016e-01   1.71000000e+02]\n",
        " [  4.06055672e+03   7.68000000e+02]]\n",
        "1 171.0 [173 768] [ 0.01349242  0.00146692]\n",
        "2 [[  3.34981870e-02   1.73000000e+02]\n",
        " [  5.96472270e+00   7.68000000e+02]]\n",
        "la [[  2.48274206e+00   1.73000000e+02]\n",
        " [  4.06615181e+03   7.68000000e+02]]\n",
        "1 173.0 [174 768] [ 0.21876236  0.001421  ]\n",
        "2 [[  6.14736336e-03   1.74000000e+02]\n",
        " [  6.04707530e+00   7.68000000e+02]]\n",
        "la [[  2.81006447e-02   1.74000000e+02]\n",
        " [  4.25549964e+03   7.68000000e+02]]\n",
        "1 174.0 [175 768] [ 0.22264744  0.00137977]\n",
        "2 [[  1.24443341e-02   1.75000000e+02]\n",
        " [  6.12942790e+00   7.68000000e+02]]\n",
        "la [[  5.58925538e-02   1.75000000e+02]\n",
        " [  4.44234077e+03   7.68000000e+02]]\n",
        "1 175.0 [176 768] [ 0.22597292  0.0013415 ]\n",
        "2 [[  2.99871379e-02   1.76000000e+02]\n",
        " [  6.21178050e+00   7.68000000e+02]]\n",
        "la [[  1.32702353e-01   1.76000000e+02]\n",
        " [  4.63047685e+03   7.68000000e+02]]\n",
        "1 176.0 [179 768] [ 0.007026    0.00130675]\n",
        "2 [[  2.72295084e-02   1.79000000e+02]\n",
        " [  6.29413309e+00   7.68000000e+02]]\n",
        "la [[  3.87553734e+00   1.79000000e+02]\n",
        " [  4.81662187e+03   7.68000000e+02]]\n",
        "1 179.0 [180 768] [ 0.23664912  0.00122732]\n",
        "2 [[  8.05734257e-03   1.80000000e+02]\n",
        " [  6.37648569e+00   7.68000000e+02]]\n",
        "la [[  3.40476332e-02   1.80000000e+02]\n",
        " [  5.19547541e+03   7.68000000e+02]]\n",
        "1 180.0 [181 768] [ 0.23985341  0.00122849]\n",
        "2 [[  2.94316827e-02   1.81000000e+02]\n",
        " [  6.45883829e+00   7.68000000e+02]]\n",
        "la [[  1.22706961e-01   1.81000000e+02]\n",
        " [  5.25752530e+03   7.68000000e+02]]\n",
        "1 181.0 [182 768] [ 0.24269071  0.00122977]\n",
        "2 [[  1.00700240e-02   1.82000000e+02]\n",
        " [  6.54119089e+00   7.68000000e+02]]\n",
        "la [[  4.14932415e-02   1.82000000e+02]\n",
        " [  5.31902910e+03   7.68000000e+02]]\n",
        "1 182.0 [183 768] [ 0.24545493  0.00122868]\n",
        "2 [[  1.52071374e-02   1.83000000e+02]\n",
        " [  6.62354349e+00   7.68000000e+02]]\n",
        "la [[  6.19549065e-02   1.83000000e+02]\n",
        " [  5.39079347e+03   7.68000000e+02]]\n",
        "1 183.0 [184 768] [ 0.24887347  0.00121197]\n",
        "2 [[  1.87560840e-02   1.84000000e+02]\n",
        " [  6.70589608e+00   7.68000000e+02]]\n",
        "la [[  7.53639359e-02   1.84000000e+02]\n",
        " [  5.53307407e+03   7.68000000e+02]]\n",
        "1 184.0 [185 768] [ 0.25312023  0.00118079]\n",
        "2 [[  3.20923130e-03   1.85000000e+02]\n",
        " [  6.78824868e+00   7.68000000e+02]]\n",
        "la [[  1.26786833e-02   1.85000000e+02]\n",
        " [  5.74889969e+03   7.68000000e+02]]\n",
        "1 185.0 [186 768] [ 0.25782181  0.0011768 ]\n",
        "2 [[  8.67109383e-03   1.86000000e+02]\n",
        " [  6.87060128e+00   7.68000000e+02]]\n",
        "la [[  3.36321193e-02   1.86000000e+02]\n",
        " [  5.83836178e+03   7.68000000e+02]]\n",
        "1 186.0 [187 768] [ 0.26234549  0.00117331]\n",
        "2 [[  3.99816637e-03   1.87000000e+02]\n",
        " [  6.95295388e+00   7.68000000e+02]]\n",
        "la [[  1.52400803e-02   1.87000000e+02]\n",
        " [  5.92592670e+03   7.68000000e+02]]\n",
        "1 187.0 [188 768] [ 0.26598299  0.00117707]\n",
        "2 [[  2.42233335e-02   1.88000000e+02]\n",
        " [  7.03530648e+00   7.68000000e+02]]\n",
        "la [[  9.10709872e-02   1.88000000e+02]\n",
        " [  5.97697163e+03   7.68000000e+02]]\n",
        "1 188.0 [189 768] [ 0.26831777  0.0011905 ]\n",
        "2 [[  3.67598574e-02   1.89000000e+02]\n",
        " [  7.11765907e+00   7.68000000e+02]]\n",
        "la [[  1.37001204e-01   1.89000000e+02]\n",
        " [  5.97869153e+03   7.68000000e+02]]\n",
        "1 189.0 [191 768] [ 0.0161149   0.00120439]\n",
        "2 [[  3.34179480e-02   1.91000000e+02]\n",
        " [  7.20001167e+00   7.68000000e+02]]\n",
        "la [[  2.07373022e+00   1.91000000e+02]\n",
        " [  5.97813562e+03   7.68000000e+02]]\n",
        "1 191.0 [192 768] [ 0.26657447  0.00118358]\n",
        "2 [[  2.98729745e-02   1.92000000e+02]\n",
        " [  7.28236427e+00   7.68000000e+02]]\n",
        "la [[  1.12062397e-01   1.92000000e+02]\n",
        " [  6.15281395e+03   7.68000000e+02]]\n",
        "1 192.0 [192 768] [ 0.0158988   0.00117298]\n",
        "2 [[  5.24796234e-02   1.92000000e+02]\n",
        " [  7.36471687e+00   7.68000000e+02]]\n",
        "la [[  3.30085352e+00   1.92000000e+02]\n",
        " [  6.27863231e+03   7.68000000e+02]]\n",
        "1 192.0 [193 768] [ 0.26355448  0.00117298]\n",
        "2 [[  9.03864613e-03   1.93000000e+02]\n",
        " [  7.44706946e+00   7.68000000e+02]]\n",
        "la [[  3.42951718e-02   1.93000000e+02]\n",
        " [  6.34884027e+03   7.68000000e+02]]\n",
        "1 193.0 [195 768] [ 0.01532756  0.00115703]\n",
        "2 [[  6.79198515e-03   1.95000000e+02]\n",
        " [  7.52942206e+00   7.68000000e+02]]\n",
        "la [[  4.43122344e-01   1.95000000e+02]\n",
        " [  6.50753749e+03   7.68000000e+02]]\n",
        "1 195.0 [196 768] [ 0.2783692   0.00112388]\n",
        "2 [[  3.88349824e-02   1.96000000e+02]\n",
        " [  7.61177466e+00   7.68000000e+02]]\n",
        "la [[  1.39508905e-01   1.96000000e+02]\n",
        " [  6.77273496e+03   7.68000000e+02]]\n",
        "1 196.0 [197 768] [ 0.2824709   0.00111473]\n",
        "2 [[  4.46468927e-03   1.97000000e+02]\n",
        " [  7.69412726e+00   7.68000000e+02]]\n",
        "la [[  1.58058380e-02   1.97000000e+02]\n",
        " [  6.90220421e+03   7.68000000e+02]]\n",
        "1 197.0 [198 768] [ 0.28440573  0.00112713]\n",
        "2 [[  9.50580788e-03   1.98000000e+02]\n",
        " [  7.77647986e+00   7.68000000e+02]]\n",
        "la [[  3.34234044e-02   1.98000000e+02]\n",
        " [  6.89939205e+03   7.68000000e+02]]\n",
        "1 198.0 [199 768] [ 0.28318436  0.00114204]\n",
        "2 [[  1.15464158e-03   1.99000000e+02]\n",
        " [  7.85883245e+00   7.68000000e+02]]\n",
        "la [[  4.07734942e-03   1.99000000e+02]\n",
        " [  6.88142791e+03   7.68000000e+02]]\n",
        "1 199.0 [200 768] [ 0.27929527  0.00115491]\n",
        "2 [[  3.14390953e-04   2.00000000e+02]\n",
        " [  7.94118505e+00   7.68000000e+02]]\n",
        "la [[  1.12565801e-03   2.00000000e+02]\n",
        " [  6.87600857e+03   7.68000000e+02]]\n",
        "1 200.0 [201 768] [ 0.27721518  0.0011806 ]\n",
        "2 [[  1.28135511e-02   2.01000000e+02]\n",
        " [  8.02353765e+00   7.68000000e+02]]\n",
        "la [[  4.62224015e-02   2.01000000e+02]\n",
        " [  6.79613966e+03   7.68000000e+02]]\n",
        "1 201.0 [202 768] [ 0.28098331  0.00117816]\n",
        "2 [[  1.88411625e-02   2.02000000e+02]\n",
        " [  8.10589025e+00   7.68000000e+02]]\n",
        "la [[  6.70543827e-02   2.02000000e+02]\n",
        " [  6.88010947e+03   7.68000000e+02]]\n",
        "1 202.0 [203 768] [ 0.28937421  0.00115617]\n",
        "2 [[  2.41403246e-02   2.03000000e+02]\n",
        " [  8.18824285e+00   7.68000000e+02]]\n",
        "la [[  8.34225148e-02   2.03000000e+02]\n",
        " [  7.08222635e+03   7.68000000e+02]]\n",
        "1 203.0 [204 768] [ 0.29771207  0.0011251 ]\n",
        "2 [[  4.88745329e-02   2.04000000e+02]\n",
        " [  8.27059544e+00   7.68000000e+02]]\n",
        "la [[  1.64167121e-01   2.04000000e+02]\n",
        " [  7.35101833e+03   7.68000000e+02]]\n",
        "1 204.0 [204 768] [ 0.01081492  0.00114455]\n",
        "2 [[  3.34780651e-02   2.04000000e+02]\n",
        " [  8.35294804e+00   7.68000000e+02]]\n",
        "la [[  3.09554528e+00   2.04000000e+02]\n",
        " [  7.29799375e+03   7.68000000e+02]]\n",
        "1 204.0 [205 768] [ 0.30277853  0.00114455]\n",
        "2 [[  1.29200555e-02   2.05000000e+02]\n",
        " [  8.43530064e+00   7.68000000e+02]]\n",
        "la [[  4.26716375e-02   2.05000000e+02]\n",
        " [  7.36994545e+03   7.68000000e+02]]\n",
        "1 205.0 [206 768] [ 0.304024    0.00115724]\n",
        "2 [[  8.48226725e-04   2.06000000e+02]\n",
        " [  8.51765324e+00   7.68000000e+02]]\n",
        "la [[  2.78999926e-03   2.06000000e+02]\n",
        " [  7.36034863e+03   7.68000000e+02]]\n",
        "1 206.0 [207 768] [ 0.3010639   0.00117203]\n",
        "2 [[  8.95887933e-03   2.07000000e+02]\n",
        " [  8.60000584e+00   7.68000000e+02]]\n",
        "la [[  2.97574015e-02   2.07000000e+02]\n",
        " [  7.33773141e+03   7.68000000e+02]]\n",
        "1 207.0 [208 768] [ 0.29418538  0.00118043]\n",
        "2 [[  1.00746497e-02   2.08000000e+02]\n",
        " [  8.68235843e+00   7.68000000e+02]]\n",
        "la [[  3.42459227e-02   2.08000000e+02]\n",
        " [  7.35527737e+03   7.68000000e+02]]\n",
        "1 208.0 [209 768] [ 0.28722553  0.00120082]\n",
        "2 [[  1.61859961e-02   2.09000000e+02]\n",
        " [  8.76471103e+00   7.68000000e+02]]\n",
        "la [[  5.63529168e-02   2.09000000e+02]\n",
        " [  7.29890981e+03   7.68000000e+02]]\n",
        "1 209.0 [210 768] [ 0.28425047  0.00121108]\n",
        "2 [[  3.09397323e-02   2.10000000e+02]\n",
        " [  8.84706363e+00   7.68000000e+02]]\n",
        "la [[  1.08846722e-01   2.10000000e+02]\n",
        " [  7.30510071e+03   7.68000000e+02]]\n",
        "1 210.0 [211 768] [ 0.2846058  0.0012182]\n",
        "2 [[  3.38244306e-02   2.11000000e+02]\n",
        " [  8.92941623e+00   7.68000000e+02]]\n",
        "la [[  1.18846598e-01   2.11000000e+02]\n",
        " [  7.33002842e+03   7.68000000e+02]]\n",
        "1 211.0 [212 768] [ 0.28387268  0.00122259]\n",
        "2 [[  3.94228505e-02   2.12000000e+02]\n",
        " [  9.01176883e+00   7.68000000e+02]]\n",
        "la [[  1.38875114e-01   2.12000000e+02]\n",
        " [  7.37103046e+03   7.68000000e+02]]\n",
        "1 212.0 [212 768] [ 0.00902769  0.00124515]\n",
        "2 [[  4.29297475e-02   2.12000000e+02]\n",
        " [  9.09412142e+00   7.68000000e+02]]\n",
        "la [[  4.75533930e+00   2.12000000e+02]\n",
        " [  7.30366042e+03   7.68000000e+02]]\n",
        "1 212.0 [213 768] [ 0.2792991   0.00124515]\n",
        "2 [[  3.55200448e-02   2.13000000e+02]\n",
        " [  9.17647402e+00   7.68000000e+02]]\n",
        "la [[  1.27175651e-01   2.13000000e+02]\n",
        " [  7.36979935e+03   7.68000000e+02]]\n",
        "1 213.0 [214 768] [ 0.27385142  0.00129343]\n",
        "2 [[  3.25848246e-02   2.14000000e+02]\n",
        " [  9.25882662e+00   7.68000000e+02]]\n",
        "la [[  1.18987242e-01   2.14000000e+02]\n",
        " [  7.15834808e+03   7.68000000e+02]]\n",
        "1 214.0 [215 768] [ 0.27147704  0.00131233]\n",
        "2 [[  2.79548942e-02   2.15000000e+02]\n",
        " [  9.34117922e+00   7.68000000e+02]]\n",
        "la [[  1.02973327e-01   2.15000000e+02]\n",
        " [  7.11801332e+03   7.68000000e+02]]\n",
        "1 215.0 [216 768] [ 0.2724703   0.00131902]\n",
        "2 [[  2.83201610e-02   2.16000000e+02]\n",
        " [  9.42353181e+00   7.68000000e+02]]\n",
        "la [[  1.03938524e-01   2.16000000e+02]\n",
        " [  7.14433751e+03   7.68000000e+02]]\n",
        "1 216.0 [217 768] [ 0.27592689  0.00132827]\n",
        "2 [[  3.32280931e-02   2.17000000e+02]\n",
        " [  9.50588441e+00   7.68000000e+02]]\n",
        "la [[  1.20423541e-01   2.17000000e+02]\n",
        " [  7.15660838e+03   7.68000000e+02]]\n",
        "1 217.0 [219 768] [ 0.00511166  0.00134196]"
       ]
      },
      {
       "output_type": "stream",
       "stream": "stdout",
       "text": [
        "\n",
        "2 [[  3.09693562e-02   2.19000000e+02]\n",
        " [  9.58823701e+00   7.68000000e+02]]\n",
        "la [[  6.05856960e+00   2.19000000e+02]\n",
        " [  7.14497333e+03   7.68000000e+02]]\n",
        "1 219.0 [220 768] [ 0.29270383  0.0012625 ]\n",
        "2 [[  1.79968334e-02   2.20000000e+02]\n",
        " [  9.67058961e+00   7.68000000e+02]]\n",
        "la [[  6.14847900e-02   2.20000000e+02]\n",
        " [  7.65987359e+03   7.68000000e+02]]\n",
        "1 220.0 [221 768] [ 0.29521436  0.00126502]\n",
        "2 [[  7.87320998e-04   2.21000000e+02]\n",
        " [  9.75294221e+00   7.68000000e+02]]\n",
        "la [[  2.66694683e-03   2.21000000e+02]\n",
        " [  7.70970141e+03   7.68000000e+02]]\n",
        "1 221.0 [222 768] [ 0.29317858  0.00126356]\n",
        "2 [[  1.82485226e-02   2.22000000e+02]\n",
        " [  9.83529480e+00   7.68000000e+02]]\n",
        "la [[  6.22437095e-02   2.22000000e+02]\n",
        " [  7.78380006e+03   7.68000000e+02]]\n",
        "1 222.0 [224 768] [ 0.00326125  0.00123874]\n",
        "2 [[  2.50608017e-02   2.24000000e+02]\n",
        " [  9.91764740e+00   7.68000000e+02]]\n",
        "la [[  7.68441682e+00   2.24000000e+02]\n",
        " [  8.00624315e+03   7.68000000e+02]]\n",
        "1 224.0 [225 768] [ 0.27125625  0.00126015]\n",
        "2 [[   0.  225.]\n",
        " [  10.  768.]]\n",
        "la [[    0.           225.        ]\n",
        " [ 7935.58904888   768.        ]]\n"
       ]
      }
     ],
     "prompt_number": 62
    },
    {
     "cell_type": "code",
     "collapsed": false,
     "input": [
      "frames = finalFrames\n",
      "for f in frames :\n",
      "    print f,\n",
      "# print straights[0]"
     ],
     "language": "python",
     "metadata": {},
     "outputs": [
      {
       "output_type": "stream",
       "stream": "stdout",
       "text": [
        "384.0 385.0 386.0 387.0 388.0 389.0 390.0 391.0 392.0 393.0 394.0 395.0 396.0 397.0 398.0 399.0 400.0 401.0 403.0 404.0 405.0 406.0 407.0 408.0 409.0 410.0 411.0 412.0 413.0 414.0 415.0 416.0 417.0 418.0 419.0 420.0 421.0 422.0 423.0 424.0 425.0 426.0 427.0 428.0 429.0 430.0 431.0 432.0 433.0 434.0 435.0 436.0 437.0 438.0 439.0 440.0 441.0 442.0 443.0 444.0 445.0 446.0 447.0 448.0 449.0 449.0 450.0 451.0 452.0 453.0 454.0 455.0 456.0 457.0 458.0 459.0 460.0 461.0 462.0 463.0 464.0 465.0 465.0 466.0 467.0 468.0 469.0 470.0 471.0 472.0 472.0 473.0 474.0 475.0 476.0 477.0 478.0 478.0 479.0 480.0 481.0 482.0 483.0 484.0 484.0 485.0 486.0 487.0 488.0 488.0 489.0 490.0 491.0 492.0 493.0 494.0 495.0 496.0 496.0 497.0 498.0 499.0 500.0 501.0 502.0 503.0 504.0 505.0 506.0 507.0 507.0 508.0 509.0 510.0 511.0 512.0 513.0 514.0 515.0 516.0 517.0 518.0 519.0 519.0 520.0 521.0 522.0 523.0 524.0 525.0 526.0 527.0 528.0 529.0 529.0 530.0 530.0 531.0 532.0 533.0 534.0 535.0 535.0 536.0 537.0 538.0 539.0 540.0 541.0 541.0 542.0 543.0 544.0 545.0 546.0 547.0 547.0 548.0 549.0 550.0 551.0 552.0 553.0 554.0 554.0 555.0 556.0 557.0 558.0 559.0 560.0 560.0 561.0 562.0 563.0 564.0 565.0 566.0 566.0 567.0 568.0 569.0 570.0 571.0 572.0 573.0 574.0 574.0 575.0 576.0 577.0 578.0 578.0 579.0 580.0 581.0 582.0 582.0 583.0 584.0 585.0 586.0 587.0 588.0 588.0 589.0 590.0 591.0 592.0 593.0 594.0 595.0 595.0 596.0 597.0 598.0 599.0 600.0 601.0 602.0 603.0 604.0 604.0 605.0 606.0 607.0 608.0 609.0 610.0 610.0 611.0 612.0 613.0 614.0 615.0 615.0 616.0 617.0 618.0 619.0 620.0 621.0 622.0 623.0 624.0 625.0 626.0 627.0 628.0 628.0 629.0 630.0 631.0 632.0 633.0 634.0 634.0 635.0 636.0 637.0 638.0 639.0 640.0 640.0 641.0 642.0 643.0 644.0 645.0 646.0 647.0 648.0 648.0 649.0 650.0 651.0 652.0 653.0 654.0 655.0 657.0 657.0 658.0 659.0 660.0 662.0 663.0 664.0 664.0 665.0 667.0 668.0 668.0 669.0 670.0 670.0 671.0 672.0 673.0 674.0 675.0 677.0 677.0 678.0 679.0 680.0 681.0 682.0 2.0 684.0 685.0 686.0 6.0 7.0 8.0 690.0 10.0 11.0 12.0 13.0 695.0 696.0 697.0 17.0 699.0 700.0 20.0 21.0 22.0 23.0 24.0 25.0 26.0 27.0 28.0 29.0 30.0 31.0 32.0 33.0 34.0 714.0 715.0 716.0 717.0 718.0 40.0 720.0 721.0 43.0 44.0 45.0 46.0 47.0 725.0 726.0 727.0 728.0 729.0 53.0 54.0 731.0 732.0 733.0 734.0 60.0 736.0 737.0 738.0 740.0 66.0 67.0 68.0 69.0 70.0 71.0 72.0 746.0 74.0 75.0 749.0 77.0 78.0 752.0 753.0 754.0 755.0 756.0 757.0 758.0 759.0 760.0 89.0 90.0 91.0 92.0 93.0 765.0 766.0 767.0 768.0 99.0 100.0 101.0 102.0 103.0 104.0 105.0 107.0 108.0 109.0 110.0 111.0 112.0 113.0 114.0 115.0 116.0 117.0 118.0 119.0 120.0 121.0 122.0 123.0 124.0 125.0 126.0 128.0 128.0 129.0 130.0 132.0 133.0 134.0 135.0 136.0 137.0 138.0 139.0 140.0 141.0 142.0 143.0 145.0 146.0 147.0 148.0 149.0 149.0 150.0 151.0 152.0 153.0 154.0 154.0 155.0 156.0 157.0 158.0 159.0 160.0 161.0 162.0 163.0 165.0 166.0 167.0 168.0 169.0 170.0 171.0 172.0 173.0 174.0 175.0 177.0 179.0 180.0 181.0 182.0 183.0 184.0 185.0 186.0 187.0 189.0 190.0 191.0 192.0 192.0 193.0 195.0 196.0 197.0 198.0 199.0 200.0 201.0 202.0 203.0 204.0 204.0 205.0 206.0 207.0 208.0 209.0 210.0 211.0 212.0 213.0 213.0 214.0 215.0 216.0 217.0 219.0 220.0 221.0 222.0 224.0 225.0 26.0 27.0 708.0 709.0 710.0 711.0 712.0 713.0 35.0 36.0 715.0 716.0 717.0 718.0 719.0 720.0 721.0 43.0 722.0 723.0 724.0 48.0 49.0 50.0 51.0 52.0 729.0 730.0 55.0 56.0 57.0 58.0 59.0 735.0 62.0 63.0 64.0 65.0 741.0 742.0 743.0 70.0 744.0 745.0 72.0 73.0 747.0 748.0 750.0 751.0 79.0 80.0 81.0 82.0 83.0 84.0 85.0 86.0 87.0 88.0 762.0 90.0 763.0 764.0 94.0 95.0 96.0 97.0 98.0 99.0 101.0 102.0 103.0 104.0 105.0 106.0 107.0 108.0 109.0 110.0 111.0 112.0 113.0 115.0 116.0 117.0 118.0 119.0 120.0 121.0 122.0 123.0 124.0 125.0 126.0 127.0 128.0 129.0 130.0 131.0 132.0 133.0 134.0 136.0 137.0 138.0 139.0 140.0 141.0 142.0 143.0 144.0 145.0 146.0 147.0 148.0 149.0 150.0 151.0 152.0 153.0 153.0 154.0 155.0 156.0 157.0 158.0 159.0 160.0 161.0 162.0 163.0 164.0 165.0 166.0 167.0 168.0 169.0 170.0 171.0 173.0 174.0 175.0 176.0 179.0 180.0 181.0 182.0 183.0 184.0 185.0 186.0 187.0 188.0 189.0 191.0 192.0 192.0 193.0 195.0 196.0 197.0 198.0 199.0 200.0 201.0 202.0 203.0 204.0 204.0 205.0 206.0 207.0 208.0 209.0 210.0 211.0 212.0 212.0 213.0 214.0 215.0 216.0 217.0 219.0 220.0 221.0 222.0 224.0 225.0 512.0 513.0 514.0 515.0 516.0 517.0 518.0 519.0 520.0 521.0 522.0 523.0 524.0 525.0 526.0 527.0 527.0 528.0 529.0 530.0 530.0 531.0 532.0 532.0 533.0 534.0 535.0 536.0 537.0 538.0 538.0 539.0 540.0 541.0 542.0 543.0 544.0 544.0 545.0 546.0 547.0 548.0 549.0 550.0 551.0 551.0 552.0 553.0 554.0 555.0 556.0 557.0 558.0 558.0 559.0 560.0 561.0 562.0 563.0 563.0 564.0 565.0 566.0 567.0 568.0 569.0 570.0 571.0 572.0 572.0 573.0 574.0 575.0 576.0 577.0 577.0 578.0 579.0 580.0 580.0 581.0 582.0 583.0 584.0 585.0 585.0 586.0 587.0 588.0 589.0 590.0 591.0 592.0 592.0 593.0 594.0 595.0 596.0 597.0 598.0 599.0 599.0 600.0 601.0 602.0 603.0 604.0 605.0 606.0 607.0 608.0 608.0 609.0 610.0 611.0 612.0 613.0 613.0 614.0 615.0 616.0 617.0 618.0 619.0 620.0 621.0 622.0 623.0 624.0 625.0 625.0 626.0 627.0 628.0 629.0 630.0 631.0 632.0 633.0 633.0 634.0 635.0 636.0 637.0 638.0 638.0 639.0 640.0 641.0 642.0 643.0 644.0 645.0 646.0 647.0 647.0 648.0 649.0 650.0 651.0 652.0 653.0 654.0 655.0 656.0 657.0 658.0 659.0 660.0 661.0 662.0 663.0 664.0 665.0 666.0 667.0 668.0 669.0 669.0 670.0 671.0 672.0 673.0 674.0 675.0 676.0 677.0 678.0 679.0 680.0 0.0 1.0 2.0 3.0 4.0 5.0 6.0 7.0 8.0 690.0 10.0 11.0 12.0 693.0 695.0 696.0 697.0 17.0 698.0 18.0 19.0 21.0 22.0 703.0 704.0 705.0 706.0 707.0 28.0 29.0 30.0 31.0 32.0 33.0 34.0 714.0 36.0 37.0 38.0 39.0 40.0 41.0 42.0 43.0 44.0 45.0 46.0 47.0 725.0 49.0 50.0 51.0 52.0 53.0 54.0 731.0 732.0 733.0 734.0 60.0 61.0 62.0 738.0 739.0 66.0 67.0 68.0 743.0 70.0 71.0 745.0 746.0 74.0 75.0 749.0 750.0 751.0 79.0 80.0 754.0 755.0 756.0 84.0 85.0 86.0 760.0 761.0 762.0 91.0 92.0 93.0 94.0 95.0 96.0 97.0 99.0 100.0 101.0 102.0 103.0 104.0 105.0 106.0 107.0 108.0 109.0 111.0 112.0 113.0 114.0 115.0 116.0 117.0 118.0 119.0 120.0 121.0 122.0 123.0 124.0 125.0 126.0 127.0 128.0 129.0 130.0 132.0 133.0 134.0 135.0 136.0 137.0 138.0 139.0 140.0 141.0 142.0 143.0 145.0 146.0 147.0 148.0 148.0 149.0 150.0 151.0 152.0 153.0 154.0 154.0 155.0 156.0 157.0 158.0 159.0 160.0 161.0 162.0 163.0 164.0 166.0 167.0 168.0 169.0 169.0 171.0 172.0 173.0 174.0 175.0 177.0 179.0 180.0 181.0 182.0 183.0 184.0 185.0 186.0 187.0 188.0 190.0 191.0 192.0 192.0 193.0 195.0 196.0 197.0 198.0 199.0 200.0 201.0 202.0 203.0 204.0 204.0 205.0 206.0 207.0 208.0 209.0 210.0 211.0 212.0 213.0 213.0 214.0 215.0 216.0 217.0 219.0 220.0 221.0 222.0 224.0 225.0 83.0 84.0 85.0 86.0 87.0 88.0 762.0 90.0 763.0 764.0 94.0 95.0 96.0 97.0 98.0 99.0 101.0 102.0 103.0 104.0 105.0 106.0 107.0 108.0 109.0 110.0 111.0 112.0 113.0 115.0 116.0 117.0 118.0 119.0 120.0 121.0 122.0 123.0 124.0 125.0 126.0 127.0 128.0 129.0 130.0 131.0 132.0 133.0 134.0 136.0 137.0 138.0 139.0 140.0 141.0 142.0 143.0 144.0 145.0 146.0 147.0 148.0 149.0 150.0 151.0 152.0 153.0 153.0 154.0 155.0 156.0 157.0 158.0 159.0 160.0 161.0 162.0 163.0 164.0 165.0 166.0 167.0 168.0 169.0 170.0 171.0 173.0 174.0 175.0 176.0 179.0 180.0 181.0 182.0 183.0 184.0 185.0 186.0 187.0 188.0 189.0 191.0 192.0 192.0 193.0 195.0 196.0 197.0 198.0 199.0 200.0 201.0 202.0 203.0 204.0 204.0 205.0 206.0 207.0 208.0 209.0 210.0 211.0 212.0 212.0 213.0 214.0 215.0 216.0 217.0 219.0 220.0 221.0 222.0 224.0 225.0\n"
       ]
      }
     ],
     "prompt_number": 35
    },
    {
     "cell_type": "code",
     "collapsed": false,
     "input": [
      "frames = finalFrames\n",
      "for f in frames :\n",
      "    print f,\n",
      "# print straights[0]"
     ],
     "language": "python",
     "metadata": {},
     "outputs": [
      {
       "output_type": "stream",
       "stream": "stdout",
       "text": [
        "384.0 385.0 386.0 387.0 388.0 389.0 390.0 391.0 392.0 393.0 394.0 395.0 396.0 397.0 398.0 399.0 400.0 401.0 403.0 404.0 405.0 406.0 407.0 408.0 409.0 410.0 411.0 412.0 413.0 414.0 415.0 416.0 417.0 418.0 419.0 420.0 421.0 422.0 423.0 424.0 425.0 426.0 427.0 428.0 429.0 430.0 431.0 432.0 433.0 434.0 435.0 436.0 437.0 438.0 439.0 440.0 441.0 442.0 443.0 444.0 445.0 446.0 447.0 448.0 449.0 449.0 450.0 451.0 452.0 453.0 454.0 455.0 456.0 457.0 458.0 459.0 460.0 461.0 462.0 463.0 464.0 465.0 465.0 466.0 467.0 468.0 469.0 470.0 471.0 472.0 472.0 473.0 474.0 475.0 476.0 477.0 478.0 478.0 479.0 480.0 481.0 482.0 483.0 484.0 484.0 485.0 486.0 487.0 488.0 488.0 489.0 490.0 491.0 492.0 493.0 494.0 495.0 496.0 496.0 497.0 498.0 499.0 500.0 501.0 502.0 503.0 504.0 505.0 506.0 507.0 507.0 508.0 509.0 510.0 511.0 512.0 513.0 514.0 515.0 516.0 517.0 518.0 519.0 519.0 520.0 521.0 522.0 523.0 524.0 525.0 526.0 527.0 528.0 529.0 529.0 530.0 530.0 531.0 532.0 533.0 534.0 535.0 535.0 536.0 537.0 538.0 539.0 540.0 541.0 541.0 542.0 543.0 544.0 545.0 546.0 547.0 547.0 548.0 549.0 550.0 551.0 552.0 553.0 554.0 554.0 555.0 556.0 557.0 558.0 559.0 560.0 560.0 561.0 562.0 563.0 564.0 565.0 566.0 566.0 567.0 568.0 569.0 570.0 571.0 572.0 573.0 574.0 574.0 575.0 576.0 577.0 578.0 578.0 579.0 580.0 581.0 582.0 582.0 583.0 584.0 585.0 586.0 587.0 588.0 588.0 589.0 590.0 591.0 592.0 593.0 594.0 595.0 595.0 596.0 597.0 598.0 599.0 600.0 601.0 602.0 603.0 604.0 604.0 605.0 606.0 607.0 608.0 609.0 610.0 610.0 611.0 612.0 613.0 614.0 615.0 615.0 616.0 617.0 618.0 619.0 620.0 621.0 622.0 623.0 624.0 625.0 626.0 627.0 628.0 628.0 629.0 630.0 631.0 632.0 633.0 634.0 634.0 635.0 636.0 637.0 638.0 639.0 640.0 640.0 641.0 642.0 643.0 644.0 645.0 646.0 647.0 648.0 648.0 649.0 650.0 651.0 652.0 653.0 654.0 655.0 657.0 657.0 658.0 659.0 660.0 662.0 663.0 664.0 664.0 665.0 667.0 668.0 668.0 669.0 670.0 670.0 671.0 672.0 673.0 674.0 675.0 677.0 677.0 678.0 679.0 680.0 681.0 682.0 683.0 684.0 685.0 686.0 687.0 688.0 689.0 690.0 691.0 692.0 693.0 694.0 695.0 696.0 697.0 698.0 699.0 700.0 701.0 702.0 703.0 704.0 704.0 705.0 706.0 707.0 708.0 709.0 710.0 711.0 712.0 712.0 713.0 714.0 715.0 716.0 717.0 718.0 719.0 720.0 721.0 43.0 44.0 45.0 46.0 47.0 48.0 49.0 50.0 51.0 52.0 53.0 54.0 56.0 57.0 58.0 59.0 60.0 61.0 62.0 64.0 65.0 66.0 67.0 68.0 69.0 70.0 71.0 72.0 73.0 74.0 75.0 76.0 77.0 78.0 79.0 80.0 81.0 82.0 83.0 84.0 85.0 86.0 87.0 89.0 90.0 91.0 92.0 93.0 94.0 95.0 96.0 97.0 99.0 100.0 101.0 102.0 103.0 104.0 105.0 107.0 108.0 109.0 110.0 111.0 112.0 113.0 114.0 115.0 116.0 117.0 118.0 119.0 120.0 121.0 122.0 123.0 124.0 125.0 126.0 128.0 128.0 129.0 130.0 132.0 133.0 134.0 135.0 136.0 137.0 138.0 139.0 140.0 141.0 142.0 143.0 145.0 146.0 147.0 148.0 149.0 149.0 150.0 151.0 152.0 153.0 154.0 154.0 155.0 156.0 157.0 158.0 159.0 160.0 161.0 162.0 163.0 165.0 166.0 167.0 168.0 169.0 170.0 171.0 172.0 173.0 174.0 175.0 177.0 179.0 180.0 181.0 182.0 183.0 184.0 185.0 186.0 187.0 189.0 190.0 191.0 192.0 192.0 193.0 195.0 196.0 197.0 198.0 199.0 200.0 201.0 202.0 203.0 204.0 204.0 205.0 206.0 207.0 208.0 209.0 210.0 211.0 212.0 213.0 213.0 214.0 215.0 216.0 217.0 219.0 220.0 221.0 222.0 224.0 225.0 26.0 27.0 28.0 29.0 30.0 31.0 32.0 33.0 35.0 36.0 37.0 38.0 39.0 40.0 41.0 41.0 42.0 43.0 722.0 723.0 724.0 725.0 725.0 726.0 727.0 728.0 729.0 730.0 731.0 732.0 733.0 733.0 734.0 735.0 736.0 737.0 64.0 65.0 66.0 67.0 69.0 70.0 71.0 72.0 72.0 73.0 74.0 75.0 76.0 78.0 79.0 80.0 81.0 82.0 83.0 84.0 85.0 86.0 87.0 88.0 89.0 90.0 91.0 93.0 94.0 95.0 96.0 97.0 98.0 99.0 101.0 102.0 103.0 104.0 105.0 106.0 107.0 108.0 109.0 110.0 111.0 112.0 113.0 115.0 116.0 117.0 118.0 119.0 120.0 121.0 122.0 123.0 124.0 125.0 126.0 127.0 128.0 129.0 130.0 131.0 132.0 133.0 134.0 136.0 137.0 138.0 139.0 140.0 141.0 142.0 143.0 144.0 145.0 146.0 147.0 148.0 149.0 150.0 151.0 152.0 153.0 153.0 154.0 155.0 156.0 157.0 158.0 159.0 160.0 161.0 162.0 163.0 164.0 165.0 166.0 167.0 168.0 169.0 170.0 171.0 173.0 174.0 175.0 176.0 179.0 180.0 181.0 182.0 183.0 184.0 185.0 186.0 187.0 188.0 189.0 191.0 192.0 192.0 193.0 195.0 196.0 197.0 198.0 199.0 200.0 201.0 202.0 203.0 204.0 204.0 205.0 206.0 207.0 208.0 209.0 210.0 211.0 212.0 212.0 213.0 214.0 215.0 216.0 217.0 219.0 220.0 221.0 222.0 224.0 225.0 512.0 513.0 514.0 515.0 516.0 517.0 518.0 519.0 520.0 521.0 522.0 523.0 524.0 525.0 526.0 527.0 527.0 528.0 529.0 530.0 530.0 531.0 532.0 532.0 533.0 534.0 535.0 536.0 537.0 538.0 538.0 539.0 540.0 541.0 542.0 543.0 544.0 544.0 545.0 546.0 547.0 548.0 549.0 550.0 551.0 551.0 552.0 553.0 554.0 555.0 556.0 557.0 558.0 558.0 559.0 560.0 561.0 562.0 563.0 563.0 564.0 565.0 566.0 567.0 568.0 569.0 570.0 571.0 572.0 572.0 573.0 574.0 575.0 576.0 577.0 577.0 578.0 579.0 580.0 580.0 581.0 582.0 583.0 584.0 585.0 585.0 586.0 587.0 588.0 589.0 590.0 591.0 592.0 592.0 593.0 594.0 595.0 596.0 597.0 598.0 599.0 599.0 600.0 601.0 602.0 603.0 604.0 605.0 606.0 607.0 608.0 608.0 609.0 610.0 611.0 612.0 613.0 613.0 614.0 615.0 616.0 617.0 618.0 619.0 620.0 621.0 622.0 623.0 624.0 625.0 625.0 626.0 627.0 628.0 629.0 630.0 631.0 632.0 633.0 633.0 634.0 635.0 636.0 637.0 638.0 638.0 639.0 640.0 641.0 642.0 643.0 644.0 645.0 646.0 647.0 647.0 648.0 649.0 650.0 651.0 652.0 653.0 654.0 655.0 656.0 657.0 658.0 659.0 660.0 661.0 662.0 663.0 664.0 665.0 666.0 667.0 668.0 669.0 669.0 670.0 671.0 672.0 673.0 674.0 675.0 676.0 677.0 678.0 679.0 680.0 681.0 682.0 2.0 3.0 4.0 5.0 6.0 7.0 8.0 9.0 10.0 11.0 12.0 13.0 14.0 15.0 16.0 17.0 17.0 18.0 19.0 21.0 22.0 23.0 24.0 25.0 26.0 27.0 28.0 29.0 30.0 31.0 32.0 33.0 34.0 35.0 36.0 37.0 38.0 39.0 40.0 41.0 42.0 43.0 44.0 45.0 46.0 47.0 48.0 49.0 50.0 51.0 52.0 53.0 54.0 55.0 56.0 57.0 59.0 60.0 61.0 62.0 63.0 64.0 66.0 67.0 68.0 69.0 70.0 71.0 72.0 73.0 74.0 75.0 76.0 77.0 78.0 79.0 80.0 81.0 82.0 83.0 84.0 85.0 86.0 87.0 88.0 90.0 91.0 92.0 93.0 94.0 95.0 96.0 97.0 99.0 100.0 101.0 102.0 103.0 104.0 105.0 106.0 107.0 108.0 109.0 111.0 112.0 113.0 114.0 115.0 116.0 117.0 118.0 119.0 120.0 121.0 122.0 123.0 124.0 125.0 126.0 127.0 128.0 129.0 130.0 132.0 133.0 134.0 135.0 136.0 137.0 138.0 139.0 140.0 141.0 142.0 143.0 145.0 146.0 147.0 148.0 148.0 149.0 150.0 151.0 152.0 153.0 154.0 154.0 155.0 156.0 157.0 158.0 159.0 160.0 161.0 162.0 163.0 164.0 166.0 167.0 168.0 169.0 169.0 171.0 172.0 173.0 174.0 175.0 177.0 179.0 180.0 181.0 182.0 183.0 184.0 185.0 186.0 187.0 188.0 190.0 191.0 192.0 192.0 193.0 195.0 196.0 197.0 198.0 199.0 200.0 201.0 202.0 203.0 204.0 204.0 205.0 206.0 207.0 208.0 209.0 210.0 211.0 212.0 213.0 213.0 214.0 215.0 216.0 217.0 219.0 220.0 221.0 222.0 224.0 225.0 83.0 84.0 85.0 86.0 87.0 88.0 89.0 90.0 91.0 93.0 94.0 95.0 96.0 97.0 98.0 99.0 101.0 102.0 103.0 104.0 105.0 106.0 107.0 108.0 109.0 110.0 111.0 112.0 113.0 115.0 116.0 117.0 118.0 119.0 120.0 121.0 122.0 123.0 124.0 125.0 126.0 127.0 128.0 129.0 130.0 131.0 132.0 133.0 134.0 136.0 137.0 138.0 139.0 140.0 141.0 142.0 143.0 144.0 145.0 146.0 147.0 148.0 149.0 150.0 151.0 152.0 153.0 153.0 154.0 155.0 156.0 157.0 158.0 159.0 160.0 161.0 162.0 163.0 164.0 165.0 166.0 167.0 168.0 169.0 170.0 171.0 173.0 174.0 175.0 176.0 179.0 180.0 181.0 182.0 183.0 184.0 185.0 186.0 187.0 188.0 189.0 191.0 192.0 192.0 193.0 195.0 196.0 197.0 198.0 199.0 200.0 201.0 202.0 203.0 204.0 204.0 205.0 206.0 207.0 208.0 209.0 210.0 211.0 212.0 212.0 213.0 214.0 215.0 216.0 217.0 219.0 220.0 221.0 222.0 224.0 225.0\n"
       ]
      }
     ],
     "prompt_number": 63
    },
    {
     "cell_type": "code",
     "collapsed": false,
     "input": [
      "print finalFrames"
     ],
     "language": "python",
     "metadata": {},
     "outputs": [
      {
       "output_type": "stream",
       "stream": "stdout",
       "text": [
        "[ 422.  423.  424. ...,  222.  224.  225.]\n"
       ]
      }
     ],
     "prompt_number": 11
    },
    {
     "cell_type": "code",
     "collapsed": false,
     "input": [
      "## HACK : now take 10% of frames from the end of each straight (inliers of fitted lines) to add to turns (outliers)\n",
      "\n",
      "straights = list()\n",
      "turns = list()\n",
      "\n",
      "## each line corresponds to 1 straight\n",
      "for i in xrange(1, len(lines)) :\n",
      "    # idx of first outlier camera in inlier array for first straight\n",
      "    idx = np.argwhere(linesInliers[i-1] == outliers[0])\n",
      "    if len(idx) == 0 :\n",
      "        idx = len(linesInliers[i-1])\n",
      "    # length of first straight\n",
      "    l = np.int(np.round(len(linesInliers[i-1])-idx - 0.1*len(linesInliers[i-1])))\n",
      "    # add first straight\n",
      "    straights.append(linesInliers[i-1][0:l])\n",
      "    \n",
      "    # build turn\n",
      "    turn = np.hstack([linesInliers[i-1][l:], outliers])\n",
      "    \n",
      "    # idx of last outlier camera in inlier array for second straight\n",
      "    idx = np.argwhere(linesInliers[1] == outliers[len(outliers)-1])\n",
      "    if len(idx) == 0 :\n",
      "        idx = len(linesInliers[i])\n",
      "    # length of second straight\n",
      "    l = np.int(np.round(len(linesInliers[i])-idx - 0.1*len(linesInliers[i])))\n",
      "    \n",
      "    # add turn ## HACK : using unique because I don't know ot which linesInliers array the \n",
      "               ## outliers belong to so they get added twice \n",
      "               ## (once from outliers and once from whichever linesInliers they belong to)\n",
      "    turn = np.unique(np.hstack([turn, linesInliers[i][0:len(linesInliers[i])-l]]))\n",
      "    turns.append(turn)\n",
      "    \n",
      "    # add second straight\n",
      "    straights.append(linesInliers[i][len(linesInliers[i])-l:len(linesInliers[i])])\n",
      "\n",
      "print straights\n",
      "print turns"
     ],
     "language": "python",
     "metadata": {},
     "outputs": [
      {
       "output_type": "stream",
       "stream": "stdout",
       "text": [
        "[array([  0,   1,   2,   3,   4,   5,   6,   7,   8,   9,  10,  11,  12,\n",
        "        13,  14,  15,  16,  17,  18,  19,  20,  21,  22,  23,  24,  25,\n",
        "        26,  27,  28,  29,  30,  31,  32,  33,  34,  35,  36,  37,  38,\n",
        "        39,  40,  41,  42,  43,  44,  45,  46,  47,  48,  49,  50,  51,\n",
        "        52,  53,  54,  55,  56,  57,  58,  59,  60,  61,  62,  63,  64,\n",
        "        65,  66,  67,  68,  69,  70,  71,  72,  73,  74,  75,  76,  77,\n",
        "        78,  79,  80,  81,  82,  83,  84,  85,  86,  87,  88,  89,  90,\n",
        "        91,  92,  93,  94,  95,  96,  97,  98,  99, 100, 101, 102, 103,\n",
        "       104, 105, 106, 107, 108, 109, 110, 111, 112, 113, 114, 115, 116,\n",
        "       117, 118, 119, 120, 121, 122, 123, 124, 125, 126, 127, 128, 129,\n",
        "       130, 131, 132, 133, 134, 135, 136, 137, 138, 139, 140, 141, 142,\n",
        "       143, 144, 145, 146, 147, 148, 149, 150, 151, 152, 153, 154, 155,\n",
        "       156, 157, 158, 159, 160, 161, 162, 163, 164, 165, 166, 167, 168,\n",
        "       169, 170, 171, 172, 173, 174, 175, 176, 177, 178, 179, 180, 181,\n",
        "       182, 183, 184, 185, 186, 187, 188, 189, 190, 191, 192]), array([297, 298, 299, 300, 301, 302, 303, 304, 305, 306, 307, 308, 309,\n",
        "       310, 311, 312, 313, 314, 315, 316, 317, 318, 319, 320, 321, 322,\n",
        "       323, 324, 325, 326, 327, 328, 329, 330, 331, 332, 333, 334, 335,\n",
        "       336, 337, 338, 339, 340, 341, 342, 343, 344, 345, 346, 347, 348,\n",
        "       349, 350, 351, 352, 353, 354, 355, 356, 357, 358, 359, 360, 361,\n",
        "       362, 363, 364, 365, 366, 367, 368, 369, 370, 371, 372, 373, 374,\n",
        "       375, 376, 377, 378, 379, 380, 381, 382, 383, 384, 385, 386, 387,\n",
        "       388, 389, 390, 391, 392, 393, 394, 395, 396, 397, 398, 399, 400,\n",
        "       401, 402, 403, 404, 405, 406, 407, 408, 409, 410, 411, 412, 413,\n",
        "       414, 415, 416, 417, 418, 419, 420, 421, 422, 423, 424, 425, 426,\n",
        "       427, 428, 429, 430, 431, 432, 433, 434, 435, 436, 437, 438, 439,\n",
        "       440, 441, 442, 443, 444, 445, 446, 447, 448, 449, 450, 451, 452,\n",
        "       453, 454, 455, 456, 457, 458, 459, 460, 461, 462, 463, 464, 465,\n",
        "       466, 467, 468, 469, 470, 471, 472, 473, 474, 475, 476, 477, 478,\n",
        "       479, 480, 481, 482, 483, 484, 485, 486, 487, 488, 489, 490, 491,\n",
        "       492, 493, 494, 495, 496, 497, 498, 499, 500, 501, 502, 503, 504,\n",
        "       505, 506, 507, 508, 509, 510, 511, 512, 513, 514, 515, 516, 517,\n",
        "       518, 519, 520, 521, 522, 523, 524, 525, 526, 527, 528, 529, 530,\n",
        "       531, 532, 533, 534, 535, 536, 537, 538, 539, 540, 541, 542, 543,\n",
        "       544, 545, 546, 547, 548, 549, 550, 551, 552, 553, 554, 555, 556,\n",
        "       557, 558, 559, 560, 561, 562, 563, 564, 565, 566, 567, 568, 569,\n",
        "       570, 571, 572, 573, 574, 575, 576, 577, 578, 579, 580, 581, 582,\n",
        "       583, 584, 585, 586, 587, 588, 589, 590, 591, 592, 593, 594, 595,\n",
        "       596, 597, 598, 599, 600, 601, 602, 603, 604, 605, 606, 607, 608,\n",
        "       609, 610, 611, 612, 613, 614, 615, 616, 617, 618, 619, 620, 621,\n",
        "       622, 623, 624, 625, 626, 627, 628, 629, 630, 631, 632, 633, 634,\n",
        "       635, 636, 637, 638, 639, 640, 641, 642, 643, 644, 645, 646, 647,\n",
        "       648, 649, 650, 651, 652, 653, 654, 655, 656, 657, 658, 659, 660,\n",
        "       661, 662, 663, 664, 665, 666, 667, 668, 669, 670, 671, 672, 673,\n",
        "       674, 675, 676, 677, 678, 679, 680, 681, 682, 683, 684, 685, 686,\n",
        "       687, 688, 689, 690, 691, 692, 693, 694, 695, 696, 697, 698, 699,\n",
        "       700, 701, 702, 703, 704, 705, 706, 707, 708, 709, 710, 711, 712,\n",
        "       713, 714, 715, 716, 717, 718, 719, 720, 721, 722, 723, 724, 725,\n",
        "       726, 727, 728, 729, 730, 731, 732, 733, 734, 735, 736, 737, 738,\n",
        "       739, 740, 741, 742, 743, 744, 745, 746, 747, 748, 749, 750, 751,\n",
        "       752, 753, 754, 755, 756, 757, 758, 759, 760, 761, 762, 763, 764,\n",
        "       765, 766, 767, 768])]\n",
        "[array([193, 194, 195, 196, 197, 198, 199, 200, 201, 202, 203, 204, 205,\n",
        "       206, 207, 208, 209, 210, 211, 212, 213, 214, 215, 216, 217, 218,\n",
        "       219, 220, 221, 222, 223, 224, 225, 226, 227, 228, 229, 230, 231,\n",
        "       232, 233, 234, 235, 236, 237, 238, 239, 240, 241, 242, 243, 244,\n",
        "       245, 246, 247, 248, 249, 250, 251, 252, 253, 254, 255, 256, 257,\n",
        "       258, 259, 260, 261, 262, 263, 264, 265, 266, 267, 268, 269, 270,\n",
        "       271, 272, 273, 274, 275, 276, 277, 278, 279, 280, 281, 282, 283,\n",
        "       284, 285, 286, 287, 288, 289, 290, 291, 292, 293, 294, 295, 296])]\n"
       ]
      }
     ],
     "prompt_number": 21
    },
    {
     "cell_type": "code",
     "collapsed": false,
     "input": [
      "## HACK : initialize some mock input 2d maze map (eventually it would come from drawn input or whatevs)\n",
      "\n",
      "mazeMap = np.array([[0.0, 0.0], [0.0, 20.0], [7.0, 20.0], [7.0, 5.0], [2.0, 5.0]])\n",
      "\n",
      "## now define 2 graphs where nodes are turns and edges are straights\n",
      "# one for the input sequences \n",
      "# one for the input maze\n",
      "\n",
      "## init sequence graph edges with straights' length in frames\n",
      "seqEdges = np.zeros(len(straights))\n",
      "for i in xrange(0, len(straights)) :\n",
      "    seqEdges[i] = len(straights[i])\n",
      "maxSequenceLen = np.max(seqEdges);\n",
      "    \n",
      "## init sequence graph nodes with [i, 0] = seq length, [i, 1] = left/right turn, [i, 2:len] = edges connected to node\n",
      "seqNodes = np.zeros([len(turns), 4])\n",
      "for i in xrange(0, len(turns)) :\n",
      "    seqNodes[i, 0] = len(turns[i])\n",
      "    ## HACK : need auto way of finding which way the turn turns\n",
      "    seqNodes[i, 1] = 1\n",
      "    ## HACK : need auto way of finding which straights are connected to turn\n",
      "    seqNodes[i, 2] = 0\n",
      "    seqNodes[i, 3] = 1\n",
      "\n",
      "## init map graph edges with [i, 0] = segment length, [i, 1:len] = extremes from mazeMap\n",
      "mapEdges = np.zeros([len(mazeMap)-1, 3])\n",
      "## init map graph nodes with [i, 0] = left/right turn, [i, 1:len] = edges connected to node\n",
      "mapNodes = np.zeros([len(mapEdges)-1, 3])\n",
      "\n",
      "maxSegmentLen = 0\n",
      "currentSegment = 0\n",
      "for i in xrange(1, len(mazeMap)) :\n",
      "    ## find the longest length of any given segment\n",
      "    current = np.linalg.norm(mazeMap[i]-mazeMap[i-1])\n",
      "    if current > maxSegmentLen :\n",
      "        maxSegmentLen = current\n",
      "    \n",
      "    ## set the extremes of edge\n",
      "    mapEdges[i-1, 1] = i-1\n",
      "    mapEdges[i-1, 2] = i\n",
      "    \n",
      "    ## only add node if there's already an edge\n",
      "    if i > 1 :\n",
      "        mapNodes[i-2, 0] = 1\n",
      "        mapNodes[i-2, 1] = currentSegment-1\n",
      "        mapNodes[i-2, 2] = currentSegment\n",
      "        \n",
      "    currentSegment += 1\n",
      "\n",
      "## set edge lenght for map graph\n",
      "for i in xrange(0, len(mapEdges)) :\n",
      "    mapEdges[i, 0] = np.round(np.linalg.norm(mazeMap[mapEdges[i, 1]]-mazeMap[mapEdges[i, 2]])*maxSequenceLen/maxSegmentLen)\n",
      "\n",
      "print mapNodes    \n",
      "print mapEdges\n",
      "print maxSegmentLen, maxSequenceLen"
     ],
     "language": "python",
     "metadata": {},
     "outputs": [
      {
       "output_type": "stream",
       "stream": "stdout",
       "text": [
        "[[ 1.  0.  1.]\n",
        " [ 1.  1.  2.]\n",
        " [ 1.  2.  3.]]\n",
        "[[ 472.    0.    1.]\n",
        " [ 165.    1.    2.]\n",
        " [ 354.    2.    3.]\n",
        " [ 118.    3.    4.]]\n",
        "20.0 472.0\n"
       ]
      }
     ],
     "prompt_number": 5
    },
    {
     "cell_type": "code",
     "collapsed": false,
     "input": [
      "## build movie based on map graph\n",
      "\n",
      "# go through all the nodes and get ordered list of straights and their length\n",
      "# each node is as long as the sequence node they are replaced by (for now only 1 node so no need to worry which is best)\n",
      "bestSeqNode = 0\n",
      "nodeLen = seqNodes[bestSeqNode, 0] ## lenght of turn in frames\n",
      "frames = np.zeros(np.sum(mapEdges[:, 0])+nodeLen*len(mapNodes))\n",
      "print frames.shape\n",
      "## add the frames representing the turns to the frames array\n",
      "currentFrame = 0 \n",
      "straightStartFrame = np.zeros(len(mapEdges))\n",
      "count = 1\n",
      "for n in mapNodes :\n",
      "    prevLen = mapEdges[n[1], 0]\n",
      "    nextLen = mapEdges[n[2], 0]\n",
      "    frames[currentFrame+prevLen:currentFrame+prevLen+nodeLen] = turns[bestSeqNode]\n",
      "    currentFrame = currentFrame+prevLen+nodeLen\n",
      "    straightStartFrame[count] = currentFrame\n",
      "    count +=1\n",
      "\n",
      "print straightStartFrame\n",
      "\n",
      "n = 0\n",
      "for e in xrange(0, len(mapEdges)) :\n",
      "    # find which straight sequence connects best with turn \n",
      "    minDist = np.max(distanceMatrix)\n",
      "    startSequence = -1;\n",
      "    for s in xrange(0, len(straights)) :\n",
      "        ## need to check bestSeqNode which still needs to be found automatically somehow\n",
      "        dist = distanceMatrix[straights[s][-1], turns[bestSeqNode][0]]\n",
      "        if dist <= minDist :\n",
      "            minDist = dist\n",
      "            startSequence = s\n",
      "    print startSequence\n",
      "    \n",
      "    ## deal with joint between end of straight and beginning of turn\n",
      "    \n",
      "    ## check for all sequence edges that are long enough for current map edge\n",
      "    viableSequences = np.hstack(np.where(seqEdges >= mapEdges[e, 0])) # i.e long enough sequences\n",
      "    startSequenceLen = len(straights[startSequence])\n",
      "    if startSequence in viableSequences :\n",
      "        print \"using best sequence, start at frame #\", straightStartFrame[e]\n",
      "        startTurnFrame = straightStartFrame[e] + mapEdges[e, 0]\n",
      "        frames[straightStartFrame[e]:startTurnFrame] = straights[startSequence][startSequenceLen-mapEdges[e, 0]:startSequenceLen]\n",
      "    else :\n",
      "        print \"find best fitting, start at frame #\", straightStartFrame[e]\n",
      "        bestFrame = -1\n",
      "        bestSequence = -1\n",
      "        minDist = np.max(distanceMatrix)\n",
      "        ## check which viable sequence fits best the startSequence and where\n",
      "        for s in viableSequences :\n",
      "            print \"lala\", mapEdges[e, 0], startSequenceLen, seqEdges[s]\n",
      "            framesNeeded = mapEdges[e, 0] ## frames needed for current map edge e\n",
      "            for toUse in xrange(1, startSequenceLen) : ## frames from start sequence to be used\n",
      "                additionalNeeded = framesNeeded-toUse ## additional frames needed to be taken from viable sequence\n",
      "                remaining = seqEdges[s] - additionalNeeded ## frames from viable sequence remaining that can be chosen from to stitch to start sequence\n",
      "                dist = np.min(distanceMatrix[straights[startSequence][-toUse-1], straights[s][len(straights[s])-remaining-1:len(straights[s])]])\n",
      "                print toUse, additionalNeeded, remaining, dist, straights[startSequence][-toUse-1]#, straights[s][remaining-1:len(straights[s])]\n",
      "                if dist <= minDist :\n",
      "                    minDist = dist\n",
      "                    bestFrame = straights[startSequence][-toUse-1]\n",
      "                    bestSequence = s\n",
      "        bestMatch = np.int(np.hstack(np.where(distanceMatrix[bestFrame, :] == minDist)))\n",
      "        print \"best matching frames (\", cameraNames[bestFrame], \",\", cameraNames[bestMatch], \")\"\n",
      "        print np.where(straights[bestSequence]==bestMatch)\n",
      "        print \"best frames to stitch together (\", cameraNames[straights[startSequence][np.int(np.hstack(np.where(straights[startSequence]==bestFrame)))+1]],\n",
      "        print \",\", cameraNames[straights[bestSequence][np.where(straights[bestSequence]==bestMatch)]], \")\"\n",
      "        \n",
      "        a = np.int(np.hstack(np.where(straights[startSequence] == bestFrame)))\n",
      "        b = np.int(np.hstack(np.where(straights[bestSequence] == bestMatch)))\n",
      "        seqA = straights[startSequence][a:startSequenceLen]\n",
      "        seqB = straights[bestSequence][0:b]\n",
      "        \n",
      "        startTurnFrame = straightStartFrame[e] + mapEdges[e, 0]\n",
      "        print \"gne\", startTurnFrame\n",
      "        frames[straightStartFrame[e]:startTurnFrame] = np.hstack((seqB[len(seqA)+len(seqB)-mapEdges[e, 0]:len(seqB)], seqA))\n",
      "        \n",
      "    \n",
      "    ## deal with joint between end of turn and beginning of straight\n",
      "    if e > 0 :     \n",
      "        \n",
      "        n += 1\n",
      "    else :\n",
      "        print \"rendering 1st straight\"\n",
      "        \n",
      "        "
     ],
     "language": "python",
     "metadata": {},
     "outputs": [
      {
       "output_type": "stream",
       "stream": "stdout",
       "text": [
        "(1418,)\n",
        "[    0.   575.   843.  1300.]\n",
        "0\n",
        "find best fitting, start at frame # 0.0\n",
        "lala 472.0 194 472.0\n",
        "1 471.0 1.0 308.060172399 192\n",
        "2 470.0 2.0 307.249492077 191\n",
        "3 469.0 3.0 305.139594248 190\n",
        "4 468.0 4.0 304.946715151 189\n",
        "5 467.0 5.0 303.130120184 188\n",
        "6 466.0 6.0 304.410679726 187\n",
        "7 465.0 7.0 301.371179795 186\n",
        "8 464.0 8.0 299.561125228 185\n",
        "9 463.0 9.0 295.98630886 184\n",
        "10 462.0 10.0 293.793308578 183\n",
        "11 461.0 11.0 293.371650659 182\n",
        "12 460.0 12.0 293.652750521 181\n",
        "13 459.0 13.0 292.592967326 180\n",
        "14 458.0 14.0 291.383091007 179\n",
        "15 457.0 15.0 288.937161224 178\n",
        "16 456.0 16.0 287.172043002 177\n",
        "17 455.0 17.0 286.535283149 176\n",
        "18 454.0 18.0 282.567306002 175\n",
        "19 453.0 19.0 278.626744221 174\n",
        "20 452.0 20.0 277.154611333 173\n",
        "21 451.0 21.0 279.332099616 172\n",
        "22 450.0 22.0 279.700263064 171\n",
        "23 449.0 23.0 279.005683683 170\n",
        "24 448.0 24.0 268.040567386 169\n",
        "25 447.0 25.0 258.907395138 168\n",
        "26 446.0 26.0 262.592833331 167\n",
        "27 445.0 27.0 279.998017745 166\n",
        "28 444.0 28.0 278.942839466 165\n",
        "29 443.0 29.0 273.523138163 164\n",
        "30 442.0 30.0 258.518820453 163\n",
        "31 441.0 31.0 256.963052291 162\n",
        "32 440.0 32.0 263.420437276 161\n",
        "33 439.0 33.0 273.526083291 160\n",
        "34 438.0 34.0 275.887181693 159\n",
        "35 437.0 35.0 275.946312875 158\n",
        "36 436.0 36.0 277.365461303 157\n",
        "37 435.0 37.0 277.506198627 156\n",
        "38 434.0 38.0 277.77756698 155\n",
        "39 433.0 39.0 276.850855937 154\n",
        "40 432.0 40.0 276.310497027 153\n",
        "41 431.0 41.0 274.688422953 152\n",
        "42 430.0 42.0 275.554529632 151\n",
        "43 429.0 43.0 277.24517286 150\n",
        "44 428.0 44.0 274.493642899 149\n",
        "45 427.0 45.0 276.718240319 148\n",
        "46 426.0 46.0 276.806466088 147\n",
        "47 425.0 47.0 279.112175207 146\n",
        "48 424.0 48.0 281.19375421 145\n",
        "49 423.0 49.0 281.490903665 144\n",
        "50 422.0 50.0 276.848745631 143\n",
        "51 421.0 51.0 273.208381947 142\n",
        "52 420.0 52.0 276.378849478 141\n",
        "53 419.0 53.0 279.107211762 140\n",
        "54 418.0 54.0 280.300716631 139\n",
        "55 417.0 55.0 280.415638004 138\n",
        "56 416.0 56.0 275.299907728 137\n",
        "57 415.0 57.0 275.712836057 136\n",
        "58 414.0 58.0 277.54856814 135\n",
        "59 413.0 59.0 276.55038554 134\n",
        "60 412.0 60.0 278.20244519 133\n",
        "61 411.0 61.0 277.654381272 132\n",
        "62 410.0 62.0 276.166172248 131\n",
        "63 409.0 63.0 269.073823858 130\n",
        "64 408.0 64.0 270.078313338 129\n",
        "65 407.0 65.0 277.456911365 128\n",
        "66 406.0 66.0 280.726253462 127\n",
        "67 405.0 67.0 279.483853576 126\n",
        "68 404.0 68.0 280.084016225 125\n",
        "69 403.0 69.0 281.660086435 124\n",
        "70 402.0 70.0 280.560681114 123\n",
        "71 401.0 71.0 280.510811406 122\n",
        "72 400.0 72.0 279.858715279 121\n",
        "73 399.0 73.0 280.311830895 120\n",
        "74 398.0 74.0 285.467218127 119\n",
        "75 397.0 75.0 286.234755627 118\n",
        "76 396.0 76.0 287.742878903 117\n",
        "77 395.0 77.0 290.890172544 116\n",
        "78 394.0 78.0 292.458825684 115\n",
        "79 393.0 79.0 291.732410612 114\n",
        "80 392.0 80.0 291.585881976 113\n",
        "81 391.0 81.0 292.269845182 112\n",
        "82 390.0 82.0 290.144482162 111\n",
        "83 389.0 83.0 289.451393178 110\n",
        "84 388.0 84.0 288.227901304 109\n",
        "85 387.0 85.0 288.801418474 108\n",
        "86 386.0 86.0 290.087111331 107\n",
        "87 385.0 87.0 288.918655602 106\n",
        "88 384.0 88.0 286.799761621 105\n",
        "89 383.0 89.0 285.566999651 104\n",
        "90 382.0 90.0 284.672422297 103\n",
        "91 381.0 91.0 282.771959815 102\n",
        "92 380.0 92.0 283.95769323 101\n",
        "93 379.0 93.0 284.167125147 100\n",
        "94 378.0 94.0 283.122986013 99\n",
        "95 377.0 95.0 282.191647288 98\n",
        "96 376.0 96.0 278.838283869 97\n",
        "97 375.0 97.0 277.744111765 96\n",
        "98 374.0 98.0 276.219145846 95\n",
        "99 373.0 99.0 274.119157563 94\n",
        "100 372.0 100.0 275.489492474 93\n",
        "101 371.0 101.0 281.588825413 92\n",
        "102 370.0 102.0 282.263045807 91\n",
        "103 369.0 103.0 283.678798893 90\n",
        "104 368.0 104.0 274.263711592 89\n",
        "105 367.0 105.0 271.528683578 88\n",
        "106 366.0 106.0 270.431858854 87\n",
        "107 365.0 107.0 271.209040383 86\n",
        "108 364.0 108.0 276.963759894 85\n",
        "109 363.0 109.0 277.353208826 84\n",
        "110 362.0 110.0 276.887942398 83\n",
        "111 361.0 111.0 275.661388879 82\n",
        "112 360.0 112.0 274.553097185 81\n",
        "113 359.0 113.0 273.90319386 80\n",
        "114 358.0 114.0 275.259103586 79\n",
        "115 357.0 115.0 273.553013538 78\n",
        "116 356.0 116.0 273.322365899 77\n",
        "117 355.0 117.0 272.104957756 76\n",
        "118 354.0 118.0 270.451338952 75\n",
        "119 353.0 119.0 267.248078239 74\n",
        "120 352.0 120.0 262.479058619 73\n",
        "121 351.0 121.0 261.716191703 72\n",
        "122 350.0 122.0 259.863467518 71\n",
        "123 349.0 123.0 264.529471845 70\n",
        "124 348.0 124.0 268.170381369 69\n",
        "125 347.0 125.0 266.854308118 68\n",
        "126 346.0 126.0 267.268065727 67\n",
        "127 345.0 127.0 264.852855671 66\n",
        "128 344.0 128.0 260.459037124 65\n",
        "129 343.0 129.0 257.17745476 64\n",
        "130 342.0 130.0 259.444496641 63\n",
        "131 341.0 131.0 261.177582212 62\n",
        "132 340.0 132.0 262.04461168 61\n",
        "133 339.0 133.0 262.720185881 60\n",
        "134 338.0 134.0 262.679054725 59\n",
        "135 337.0 135.0 260.974630332 58\n",
        "136 336.0 136.0 260.958316941 57\n",
        "137 335.0 137.0 258.748290482 56\n",
        "138 334.0 138.0 256.319793033 55\n",
        "139 333.0 139.0 259.087935894 54\n",
        "140 332.0 140.0 261.216594923 53\n",
        "141 331.0 141.0 261.471964654 52\n",
        "142 330.0 142.0 259.768327937 51\n",
        "143 329.0 143.0 257.679981913 50\n",
        "144 328.0 144.0 257.236891087 49\n",
        "145 327.0 145.0 256.789056998 48\n",
        "146 326.0 146.0 258.923455029 47\n",
        "147 325.0 147.0 257.081001563 46\n",
        "148 324.0 148.0 259.576277522 45\n",
        "149 323.0 149.0 260.170455913 44\n",
        "150 322.0 150.0 260.410268139 43\n",
        "151 321.0 151.0 257.200260575 42\n",
        "152 320.0 152.0 255.922093961 41\n",
        "153 319.0 153.0 254.356586133 40\n",
        "154 318.0 154.0 254.417941771 39\n",
        "155 317.0 155.0 255.972986462 38\n",
        "156 316.0 156.0 257.17941568 37\n",
        "157 315.0 157.0 257.239317708 36\n",
        "158 314.0 158.0 256.870037497 35\n",
        "159 313.0 159.0 255.797892201 34\n",
        "160 312.0 160.0 254.485052454 33\n",
        "161 311.0 161.0 257.085169028 32\n",
        "162 310.0 162.0 258.687002184 31\n",
        "163 309.0 163.0 257.374336172 30\n",
        "164 308.0 164.0 255.698058711 29\n",
        "165 307.0 165.0 256.242486588 28\n",
        "166 306.0 166.0 253.978411244 27\n",
        "167 305.0 167.0 253.617371516 26\n",
        "168 304.0 168.0 250.577942556 25\n",
        "169 303.0 169.0 245.507730075 24\n",
        "170 302.0 170.0 243.526146188 23\n",
        "171 301.0 171.0 253.564401464 22\n",
        "172 300.0 172.0 250.429844084 21\n",
        "173 299.0 173.0 247.447662204 20\n",
        "174 298.0 174.0 242.993946799 19\n",
        "175 297.0 175.0 242.567436509 18\n",
        "176 296.0 176.0 254.079603612 17\n",
        "177 295.0 177.0 257.553587094 16\n",
        "178 294.0 178.0 258.088743482 15\n",
        "179 293.0 179.0 254.387771689 14\n",
        "180 292.0 180.0 254.562926746 13\n",
        "181 291.0 181.0 253.142613631 12\n",
        "182 290.0 182.0 250.33998565 11\n",
        "183 289.0 183.0 250.25998816 10\n",
        "184 288.0 184.0 250.933389579 9\n",
        "185 287.0 185.0 251.673481818 8\n",
        "186 286.0 186.0 250.52913153 7\n",
        "187 285.0 187.0 246.476590368 6\n",
        "188 284.0 188.0 244.796096229 5\n",
        "189 283.0 189.0 249.383547975 4\n",
        "190 282.0 190.0 248.148016082 3\n",
        "191 281.0 191.0 246.443926822 2\n",
        "192 280.0 192.0 242.190375561 1\n",
        "193 279.0 193.0 242.461337837 0\n",
        "best matching frames ( frame-00002.jpg , frame-00623.jpg )\n",
        "(array([320]),)\n",
        "best frames to stitch together ( frame-00003.jpg , ['frame-00623.jpg'] )\n",
        "gne 472.0\n",
        "rendering 1st straight\n",
        "0\n",
        "using best sequence, start at frame # 575.0\n",
        "0\n",
        "find best fitting, start at frame # 843.0\n",
        "lala 354.0 194 472.0\n",
        "1 353.0 119.0 308.060172399 192\n",
        "2 352.0 120.0 307.249492077 191\n",
        "3 351.0 121.0 305.139594248 190\n",
        "4 350.0 122.0 304.823816219 189\n",
        "5 349.0 123.0 303.130120184 188\n",
        "6 348.0 124.0 303.61188646 187\n",
        "7 347.0 125.0 301.371179795 186\n",
        "8 346.0 126.0 299.561125228 185\n",
        "9 345.0 127.0 295.98630886 184\n",
        "10 344.0 128.0 293.793308578 183\n",
        "11 343.0 129.0 293.371650659 182\n",
        "12 342.0 130.0 293.652750521 181\n",
        "13 341.0 131.0 292.592967326 180\n",
        "14 340.0 132.0 291.383091007 179\n",
        "15 339.0 133.0 288.937161224 178\n",
        "16 338.0 134.0 287.172043002 177\n",
        "17 337.0 135.0 286.535283149 176\n",
        "18 336.0 136.0 282.567306002 175\n",
        "19 335.0 137.0 278.626744221 174\n",
        "20 334.0 138.0 277.154611333 173\n",
        "21 333.0 139.0 279.332099616 172\n",
        "22 332.0 140.0 279.700263064 171\n",
        "23 331.0 141.0 279.005683683 170\n",
        "24 330.0 142.0 268.040567386 169\n",
        "25 329.0 143.0 258.907395138 168\n",
        "26 328.0 144.0 262.592833331 167\n",
        "27 327.0 145.0 279.998017745 166\n",
        "28 326.0 146.0 278.942839466 165\n",
        "29 325.0 147.0 273.523138163 164\n",
        "30 324.0 148.0 258.518820453 163\n",
        "31 323.0 149.0 256.963052291 162\n",
        "32 322.0 150.0 263.420437276 161\n",
        "33 321.0 151.0 273.526083291 160\n",
        "34 320.0 152.0 275.887181693 159\n",
        "35 319.0 153.0 275.946312875 158\n",
        "36 318.0 154.0 277.365461303 157\n",
        "37 317.0 155.0 277.506198627 156\n",
        "38 316.0 156.0 277.77756698 155\n",
        "39 315.0 157.0 276.850855937 154\n",
        "40 314.0 158.0 276.310497027 153\n",
        "41 313.0 159.0 274.688422953 152\n",
        "42 312.0 160.0 275.554529632 151\n",
        "43 311.0 161.0 277.24517286 150\n",
        "44 310.0 162.0 274.493642899 149\n",
        "45 309.0 163.0 276.718240319 148\n",
        "46 308.0 164.0 276.806466088 147\n",
        "47 307.0 165.0 279.112175207 146\n",
        "48 306.0 166.0 281.19375421 145\n",
        "49 305.0 167.0 281.490903665 144\n",
        "50 304.0 168.0 276.848745631 143\n",
        "51 303.0 169.0 273.208381947 142\n",
        "52 302.0 170.0 276.378849478 141\n",
        "53 301.0 171.0 279.107211762 140\n",
        "54 300.0 172.0 280.300716631 139\n",
        "55 299.0 173.0 280.415638004 138\n",
        "56 298.0 174.0 275.299907728 137\n",
        "57 297.0 175.0 275.712836057 136\n",
        "58 296.0 176.0 277.54856814 135\n",
        "59 295.0 177.0 276.55038554 134\n",
        "60 294.0 178.0 278.20244519 133\n",
        "61 293.0 179.0 277.654381272 132\n",
        "62 292.0 180.0 276.166172248 131\n",
        "63 291.0 181.0 269.073823858 130\n",
        "64 290.0 182.0 270.078313338 129\n",
        "65 289.0 183.0 277.456911365 128\n",
        "66 288.0 184.0 280.726253462 127\n",
        "67 287.0 185.0 279.483853576 126\n",
        "68 286.0 186.0 280.084016225 125\n",
        "69 285.0 187.0 281.660086435 124\n",
        "70 284.0 188.0 280.560681114 123\n",
        "71 283.0 189.0 280.510811406 122\n",
        "72 282.0 190.0 279.858715279 121\n",
        "73 281.0 191.0 280.061187963 120\n",
        "74 280.0 192.0 282.698186313 119\n",
        "75 279.0 193.0 283.004562844 118\n",
        "76 278.0 194.0 282.759445669 117\n",
        "77 277.0 195.0 283.050112901 116\n",
        "78 276.0 196.0 282.113185308 115\n",
        "79 275.0 197.0 282.695588243 114\n",
        "80 274.0 198.0 282.081006158 113\n",
        "81 273.0 199.0 282.730116298 112\n",
        "82 272.0 200.0 281.342252246 111\n",
        "83 271.0 201.0 280.10928369 110\n",
        "84 270.0 202.0 279.273740536 109\n",
        "85 269.0 203.0 278.781204626 108\n",
        "86 268.0 204.0 278.005644866 107\n",
        "87 267.0 205.0 275.955825238 106\n",
        "88 266.0 206.0 272.973171136 105\n",
        "89 265.0 207.0 270.463648145 104\n",
        "90 264.0 208.0 271.646473296 103\n",
        "91 263.0 209.0 274.039635665 102\n",
        "92 262.0 210.0 276.839384729 101\n",
        "93 261.0 211.0 274.693873878 100\n",
        "94 260.0 212.0 273.012557849 99\n",
        "95 259.0 213.0 270.95617634 98\n",
        "96 258.0 214.0 267.045918897 97\n",
        "97 257.0 215.0 266.541384806 96\n",
        "98 256.0 216.0 265.611045176 95\n",
        "99 255.0 217.0 264.979575104 94\n",
        "100 254.0 218.0 266.887122459 93\n",
        "101 253.0 219.0 271.013860901 92\n",
        "102 252.0 220.0 270.645362015 91\n",
        "103 251.0 221.0 271.762602743 90\n",
        "104 250.0 222.0 260.65800778 89\n",
        "105 249.0 223.0 256.918300137 88\n",
        "106 248.0 224.0 256.315228085 87\n",
        "107 247.0 225.0 258.630822533 86\n",
        "108 246.0 226.0 264.859540043 85\n",
        "109 245.0 227.0 266.543706346 84\n",
        "110 244.0 228.0 263.556195243 83\n",
        "111 243.0 229.0 259.835758234 82\n",
        "112 242.0 230.0 258.35317531 81\n",
        "113 241.0 231.0 259.039202823 80\n",
        "114 240.0 232.0 261.783476044 79\n",
        "115 239.0 233.0 263.036611842 78\n",
        "116 238.0 234.0 263.646568813 77\n",
        "117 237.0 235.0 261.146107288 76\n",
        "118 236.0 236.0 260.639115438 75\n",
        "119 235.0 237.0 257.114889249 74\n",
        "120 234.0 238.0 253.357478155 73\n",
        "121 233.0 239.0 251.084336294 72\n",
        "122 232.0 240.0 251.721070939 71\n",
        "123 231.0 241.0 253.172493656 70\n",
        "124 230.0 242.0 255.614814887 69\n",
        "125 229.0 243.0 255.047338636 68\n",
        "126 228.0 244.0 253.598545036 67\n",
        "127 227.0 245.0 251.81465423 66\n",
        "128 226.0 246.0 247.227635721 65\n",
        "129 225.0 247.0 245.573910004 64\n",
        "130 224.0 248.0 248.411037911 63\n",
        "131 223.0 249.0 252.407865983 62\n",
        "132 222.0 250.0 253.464045233 61\n",
        "133 221.0 251.0 255.138685184 60\n",
        "134 220.0 252.0 252.905072643 59\n",
        "135 219.0 253.0 251.057447477 58\n",
        "136 218.0 254.0 249.388922752 57\n",
        "137 217.0 255.0 249.097633273 56\n",
        "138 216.0 256.0 248.40538185 55\n",
        "139 215.0 257.0 253.003666273 54\n",
        "140 214.0 258.0 255.212990665 53\n",
        "141 213.0 259.0 251.71945625 52\n",
        "142 212.0 260.0 249.733194562 51\n",
        "143 211.0 261.0 247.091075181 50\n",
        "144 210.0 262.0 247.635668873 49\n",
        "145 209.0 263.0 249.631978565 48\n",
        "146 208.0 264.0 249.092165281 47\n",
        "147 207.0 265.0 249.630877601 46\n",
        "148 206.0 266.0 253.365001534 45\n",
        "149 205.0 267.0 254.326953116 44\n",
        "150 204.0 268.0 254.839424985 43\n",
        "151 203.0 269.0 252.724759652 42\n",
        "152 202.0 270.0 250.319044957 41\n",
        "153 201.0 271.0 248.421549393 40\n",
        "154 200.0 272.0 248.052874846 39\n",
        "155 199.0 273.0 249.27676508 38\n",
        "156 198.0 274.0 252.023095415 37\n",
        "157 197.0 275.0 251.56589131 36\n",
        "158 196.0 276.0 250.114106269 35\n",
        "159 195.0 277.0 248.939852061 34\n",
        "160 194.0 278.0 248.239297074 33\n",
        "161 193.0 279.0 251.09503344 32\n",
        "162 192.0 280.0 248.478275629 31\n",
        "163 191.0 281.0 248.210375129 30\n",
        "164 190.0 282.0 251.522869 29\n",
        "165 189.0 283.0 250.583225066 28\n",
        "166 188.0 284.0 251.182922214 27\n",
        "167 187.0 285.0 248.411553153 26\n",
        "168 186.0 286.0 243.848529704 25\n",
        "169 185.0 287.0 238.135280242 24\n",
        "170 184.0 288.0 238.174312238 23\n",
        "171 183.0 289.0 248.170846211 22\n",
        "172 182.0 290.0 245.959003719 21\n",
        "173 181.0 291.0 244.525392093 20\n",
        "174 180.0 292.0 240.25115967 19\n",
        "175 179.0 293.0 242.567436509 18\n",
        "176 178.0 294.0 254.079603612 17\n",
        "177 177.0 295.0 257.553587094 16\n",
        "178 176.0 296.0 257.370446873 15\n",
        "179 175.0 297.0 254.387771689 14\n",
        "180 174.0 298.0 254.562926746 13\n",
        "181 173.0 299.0 253.142613631 12\n",
        "182 172.0 300.0 250.33998565 11\n",
        "183 171.0 301.0 250.25998816 10\n",
        "184 170.0 302.0 250.689065234 9\n",
        "185 169.0 303.0 249.921457769 8\n",
        "186 168.0 304.0 246.301199438 7\n",
        "187 167.0 305.0 243.859398428 6\n",
        "188 166.0 306.0 243.963176201 5\n",
        "189 165.0 307.0 247.337200292 4\n",
        "190 164.0 308.0 245.992982739 3\n",
        "191 163.0 309.0 245.649838957 2\n",
        "192 162.0 310.0 242.190375561 1\n",
        "193 161.0 311.0 242.461337837 0\n",
        "best matching frames ( frame-00025.jpg , frame-00585.jpg )\n",
        "(array([282]),)\n",
        "best frames to stitch together ( frame-00026.jpg , ['frame-00585.jpg'] )\n",
        "gne 1197.0\n",
        "0\n",
        "using best sequence, start at frame # 1300.0\n"
       ]
      }
     ],
     "prompt_number": 7
    },
    {
     "cell_type": "code",
     "collapsed": false,
     "input": [
      "## load downsampled frames for visualizing\n",
      "def downsample(a, shape):\n",
      "    sh = shape[0],a.shape[0]//shape[0],shape[1],a.shape[1]//shape[1]\n",
      "    return a.reshape(sh).mean(-1).mean(1)\n",
      "\n",
      "frameSize = np.array(cv2.imread(dataLoc+cameraNames[0]).shape[0:2])/2\n",
      "movie = np.zeros(np.hstack([frameSize[0], frameSize[1], len(cameraNames)]))\n",
      "im = np.array(cv2.imread(dataLoc+cameraNames[0]))/255.0\n",
      "im = np.dot(im[:,:,:3], [0.0722, 0.7152, 0.2126])\n",
      "\n",
      "for i in range(0, len(cameraNames)) :\n",
      "    im = np.array(cv2.imread(dataLoc+cameraNames[i]))/255.0\n",
      "    im = np.dot(im[:,:,:3], [0.0722, 0.7152, 0.2126]) # matlab RGB2GRAY multiplies [0.299, 0.587, 0.144] but cv2 is BGR\n",
      "    movie[:, :, i] = downsample(im, frameSize)\n",
      "    sys.stdout.write('\\r' + \"Loading frame \" + np.string_(i) + \" of \" + np.string_(len(cameraNames)))\n",
      "    sys.stdout.flush()"
     ],
     "language": "python",
     "metadata": {},
     "outputs": [
      {
       "output_type": "stream",
       "stream": "stdout",
       "text": [
        "\r",
        "Loading frame 0 of 769"
       ]
      },
      {
       "output_type": "stream",
       "stream": "stdout",
       "text": [
        "\r",
        "Loading frame 1 of 769"
       ]
      },
      {
       "output_type": "stream",
       "stream": "stdout",
       "text": [
        "\r",
        "Loading frame 2 of 769"
       ]
      },
      {
       "output_type": "stream",
       "stream": "stdout",
       "text": [
        "\r",
        "Loading frame 3 of 769"
       ]
      },
      {
       "output_type": "stream",
       "stream": "stdout",
       "text": [
        "\r",
        "Loading frame 4 of 769"
       ]
      },
      {
       "output_type": "stream",
       "stream": "stdout",
       "text": [
        "\r",
        "Loading frame 5 of 769"
       ]
      },
      {
       "output_type": "stream",
       "stream": "stdout",
       "text": [
        "\r",
        "Loading frame 6 of 769"
       ]
      },
      {
       "output_type": "stream",
       "stream": "stdout",
       "text": [
        "\r",
        "Loading frame 7 of 769"
       ]
      },
      {
       "output_type": "stream",
       "stream": "stdout",
       "text": [
        "\r",
        "Loading frame 8 of 769"
       ]
      },
      {
       "output_type": "stream",
       "stream": "stdout",
       "text": [
        "\r",
        "Loading frame 9 of 769"
       ]
      },
      {
       "output_type": "stream",
       "stream": "stdout",
       "text": [
        "\r",
        "Loading frame 10 of 769"
       ]
      },
      {
       "output_type": "stream",
       "stream": "stdout",
       "text": [
        "\r",
        "Loading frame 11 of 769"
       ]
      },
      {
       "output_type": "stream",
       "stream": "stdout",
       "text": [
        "\r",
        "Loading frame 12 of 769"
       ]
      },
      {
       "output_type": "stream",
       "stream": "stdout",
       "text": [
        "\r",
        "Loading frame 13 of 769"
       ]
      },
      {
       "output_type": "stream",
       "stream": "stdout",
       "text": [
        "\r",
        "Loading frame 14 of 769"
       ]
      },
      {
       "output_type": "stream",
       "stream": "stdout",
       "text": [
        "\r",
        "Loading frame 15 of 769"
       ]
      },
      {
       "output_type": "stream",
       "stream": "stdout",
       "text": [
        "\r",
        "Loading frame 16 of 769"
       ]
      },
      {
       "output_type": "stream",
       "stream": "stdout",
       "text": [
        "\r",
        "Loading frame 17 of 769"
       ]
      },
      {
       "output_type": "stream",
       "stream": "stdout",
       "text": [
        "\r",
        "Loading frame 18 of 769"
       ]
      },
      {
       "output_type": "stream",
       "stream": "stdout",
       "text": [
        "\r",
        "Loading frame 19 of 769"
       ]
      },
      {
       "output_type": "stream",
       "stream": "stdout",
       "text": [
        "\r",
        "Loading frame 20 of 769"
       ]
      },
      {
       "output_type": "stream",
       "stream": "stdout",
       "text": [
        "\r",
        "Loading frame 21 of 769"
       ]
      },
      {
       "output_type": "stream",
       "stream": "stdout",
       "text": [
        "\r",
        "Loading frame 22 of 769"
       ]
      },
      {
       "output_type": "stream",
       "stream": "stdout",
       "text": [
        "\r",
        "Loading frame 23 of 769"
       ]
      },
      {
       "output_type": "stream",
       "stream": "stdout",
       "text": [
        "\r",
        "Loading frame 24 of 769"
       ]
      },
      {
       "output_type": "stream",
       "stream": "stdout",
       "text": [
        "\r",
        "Loading frame 25 of 769"
       ]
      },
      {
       "output_type": "stream",
       "stream": "stdout",
       "text": [
        "\r",
        "Loading frame 26 of 769"
       ]
      },
      {
       "output_type": "stream",
       "stream": "stdout",
       "text": [
        "\r",
        "Loading frame 27 of 769"
       ]
      },
      {
       "output_type": "stream",
       "stream": "stdout",
       "text": [
        "\r",
        "Loading frame 28 of 769"
       ]
      },
      {
       "output_type": "stream",
       "stream": "stdout",
       "text": [
        "\r",
        "Loading frame 29 of 769"
       ]
      },
      {
       "output_type": "stream",
       "stream": "stdout",
       "text": [
        "\r",
        "Loading frame 30 of 769"
       ]
      },
      {
       "output_type": "stream",
       "stream": "stdout",
       "text": [
        "\r",
        "Loading frame 31 of 769"
       ]
      },
      {
       "output_type": "stream",
       "stream": "stdout",
       "text": [
        "\r",
        "Loading frame 32 of 769"
       ]
      },
      {
       "output_type": "stream",
       "stream": "stdout",
       "text": [
        "\r",
        "Loading frame 33 of 769"
       ]
      },
      {
       "output_type": "stream",
       "stream": "stdout",
       "text": [
        "\r",
        "Loading frame 34 of 769"
       ]
      },
      {
       "output_type": "stream",
       "stream": "stdout",
       "text": [
        "\r",
        "Loading frame 35 of 769"
       ]
      },
      {
       "output_type": "stream",
       "stream": "stdout",
       "text": [
        "\r",
        "Loading frame 36 of 769"
       ]
      },
      {
       "output_type": "stream",
       "stream": "stdout",
       "text": [
        "\r",
        "Loading frame 37 of 769"
       ]
      },
      {
       "output_type": "stream",
       "stream": "stdout",
       "text": [
        "\r",
        "Loading frame 38 of 769"
       ]
      },
      {
       "output_type": "stream",
       "stream": "stdout",
       "text": [
        "\r",
        "Loading frame 39 of 769"
       ]
      },
      {
       "output_type": "stream",
       "stream": "stdout",
       "text": [
        "\r",
        "Loading frame 40 of 769"
       ]
      },
      {
       "output_type": "stream",
       "stream": "stdout",
       "text": [
        "\r",
        "Loading frame 41 of 769"
       ]
      },
      {
       "output_type": "stream",
       "stream": "stdout",
       "text": [
        "\r",
        "Loading frame 42 of 769"
       ]
      },
      {
       "output_type": "stream",
       "stream": "stdout",
       "text": [
        "\r",
        "Loading frame 43 of 769"
       ]
      },
      {
       "output_type": "stream",
       "stream": "stdout",
       "text": [
        "\r",
        "Loading frame 44 of 769"
       ]
      },
      {
       "output_type": "stream",
       "stream": "stdout",
       "text": [
        "\r",
        "Loading frame 45 of 769"
       ]
      },
      {
       "output_type": "stream",
       "stream": "stdout",
       "text": [
        "\r",
        "Loading frame 46 of 769"
       ]
      },
      {
       "output_type": "stream",
       "stream": "stdout",
       "text": [
        "\r",
        "Loading frame 47 of 769"
       ]
      },
      {
       "output_type": "stream",
       "stream": "stdout",
       "text": [
        "\r",
        "Loading frame 48 of 769"
       ]
      },
      {
       "output_type": "stream",
       "stream": "stdout",
       "text": [
        "\r",
        "Loading frame 49 of 769"
       ]
      },
      {
       "output_type": "stream",
       "stream": "stdout",
       "text": [
        "\r",
        "Loading frame 50 of 769"
       ]
      },
      {
       "output_type": "stream",
       "stream": "stdout",
       "text": [
        "\r",
        "Loading frame 51 of 769"
       ]
      },
      {
       "output_type": "stream",
       "stream": "stdout",
       "text": [
        "\r",
        "Loading frame 52 of 769"
       ]
      },
      {
       "output_type": "stream",
       "stream": "stdout",
       "text": [
        "\r",
        "Loading frame 53 of 769"
       ]
      },
      {
       "output_type": "stream",
       "stream": "stdout",
       "text": [
        "\r",
        "Loading frame 54 of 769"
       ]
      },
      {
       "output_type": "stream",
       "stream": "stdout",
       "text": [
        "\r",
        "Loading frame 55 of 769"
       ]
      },
      {
       "output_type": "stream",
       "stream": "stdout",
       "text": [
        "\r",
        "Loading frame 56 of 769"
       ]
      },
      {
       "output_type": "stream",
       "stream": "stdout",
       "text": [
        "\r",
        "Loading frame 57 of 769"
       ]
      },
      {
       "output_type": "stream",
       "stream": "stdout",
       "text": [
        "\r",
        "Loading frame 58 of 769"
       ]
      },
      {
       "output_type": "stream",
       "stream": "stdout",
       "text": [
        "\r",
        "Loading frame 59 of 769"
       ]
      },
      {
       "output_type": "stream",
       "stream": "stdout",
       "text": [
        "\r",
        "Loading frame 60 of 769"
       ]
      },
      {
       "output_type": "stream",
       "stream": "stdout",
       "text": [
        "\r",
        "Loading frame 61 of 769"
       ]
      },
      {
       "output_type": "stream",
       "stream": "stdout",
       "text": [
        "\r",
        "Loading frame 62 of 769"
       ]
      },
      {
       "output_type": "stream",
       "stream": "stdout",
       "text": [
        "\r",
        "Loading frame 63 of 769"
       ]
      },
      {
       "output_type": "stream",
       "stream": "stdout",
       "text": [
        "\r",
        "Loading frame 64 of 769"
       ]
      },
      {
       "output_type": "stream",
       "stream": "stdout",
       "text": [
        "\r",
        "Loading frame 65 of 769"
       ]
      },
      {
       "output_type": "stream",
       "stream": "stdout",
       "text": [
        "\r",
        "Loading frame 66 of 769"
       ]
      },
      {
       "output_type": "stream",
       "stream": "stdout",
       "text": [
        "\r",
        "Loading frame 67 of 769"
       ]
      },
      {
       "output_type": "stream",
       "stream": "stdout",
       "text": [
        "\r",
        "Loading frame 68 of 769"
       ]
      },
      {
       "output_type": "stream",
       "stream": "stdout",
       "text": [
        "\r",
        "Loading frame 69 of 769"
       ]
      },
      {
       "output_type": "stream",
       "stream": "stdout",
       "text": [
        "\r",
        "Loading frame 70 of 769"
       ]
      },
      {
       "output_type": "stream",
       "stream": "stdout",
       "text": [
        "\r",
        "Loading frame 71 of 769"
       ]
      },
      {
       "output_type": "stream",
       "stream": "stdout",
       "text": [
        "\r",
        "Loading frame 72 of 769"
       ]
      },
      {
       "output_type": "stream",
       "stream": "stdout",
       "text": [
        "\r",
        "Loading frame 73 of 769"
       ]
      },
      {
       "output_type": "stream",
       "stream": "stdout",
       "text": [
        "\r",
        "Loading frame 74 of 769"
       ]
      },
      {
       "output_type": "stream",
       "stream": "stdout",
       "text": [
        "\r",
        "Loading frame 75 of 769"
       ]
      },
      {
       "output_type": "stream",
       "stream": "stdout",
       "text": [
        "\r",
        "Loading frame 76 of 769"
       ]
      },
      {
       "output_type": "stream",
       "stream": "stdout",
       "text": [
        "\r",
        "Loading frame 77 of 769"
       ]
      },
      {
       "output_type": "stream",
       "stream": "stdout",
       "text": [
        "\r",
        "Loading frame 78 of 769"
       ]
      },
      {
       "output_type": "stream",
       "stream": "stdout",
       "text": [
        "\r",
        "Loading frame 79 of 769"
       ]
      },
      {
       "output_type": "stream",
       "stream": "stdout",
       "text": [
        "\r",
        "Loading frame 80 of 769"
       ]
      },
      {
       "output_type": "stream",
       "stream": "stdout",
       "text": [
        "\r",
        "Loading frame 81 of 769"
       ]
      },
      {
       "output_type": "stream",
       "stream": "stdout",
       "text": [
        "\r",
        "Loading frame 82 of 769"
       ]
      },
      {
       "output_type": "stream",
       "stream": "stdout",
       "text": [
        "\r",
        "Loading frame 83 of 769"
       ]
      },
      {
       "output_type": "stream",
       "stream": "stdout",
       "text": [
        "\r",
        "Loading frame 84 of 769"
       ]
      },
      {
       "output_type": "stream",
       "stream": "stdout",
       "text": [
        "\r",
        "Loading frame 85 of 769"
       ]
      },
      {
       "output_type": "stream",
       "stream": "stdout",
       "text": [
        "\r",
        "Loading frame 86 of 769"
       ]
      },
      {
       "output_type": "stream",
       "stream": "stdout",
       "text": [
        "\r",
        "Loading frame 87 of 769"
       ]
      },
      {
       "output_type": "stream",
       "stream": "stdout",
       "text": [
        "\r",
        "Loading frame 88 of 769"
       ]
      },
      {
       "output_type": "stream",
       "stream": "stdout",
       "text": [
        "\r",
        "Loading frame 89 of 769"
       ]
      },
      {
       "output_type": "stream",
       "stream": "stdout",
       "text": [
        "\r",
        "Loading frame 90 of 769"
       ]
      },
      {
       "output_type": "stream",
       "stream": "stdout",
       "text": [
        "\r",
        "Loading frame 91 of 769"
       ]
      },
      {
       "output_type": "stream",
       "stream": "stdout",
       "text": [
        "\r",
        "Loading frame 92 of 769"
       ]
      },
      {
       "output_type": "stream",
       "stream": "stdout",
       "text": [
        "\r",
        "Loading frame 93 of 769"
       ]
      },
      {
       "output_type": "stream",
       "stream": "stdout",
       "text": [
        "\r",
        "Loading frame 94 of 769"
       ]
      },
      {
       "output_type": "stream",
       "stream": "stdout",
       "text": [
        "\r",
        "Loading frame 95 of 769"
       ]
      },
      {
       "output_type": "stream",
       "stream": "stdout",
       "text": [
        "\r",
        "Loading frame 96 of 769"
       ]
      },
      {
       "output_type": "stream",
       "stream": "stdout",
       "text": [
        "\r",
        "Loading frame 97 of 769"
       ]
      },
      {
       "output_type": "stream",
       "stream": "stdout",
       "text": [
        "\r",
        "Loading frame 98 of 769"
       ]
      },
      {
       "output_type": "stream",
       "stream": "stdout",
       "text": [
        "\r",
        "Loading frame 99 of 769"
       ]
      },
      {
       "output_type": "stream",
       "stream": "stdout",
       "text": [
        "\r",
        "Loading frame 100 of 769"
       ]
      },
      {
       "output_type": "stream",
       "stream": "stdout",
       "text": [
        "\r",
        "Loading frame 101 of 769"
       ]
      },
      {
       "output_type": "stream",
       "stream": "stdout",
       "text": [
        "\r",
        "Loading frame 102 of 769"
       ]
      },
      {
       "output_type": "stream",
       "stream": "stdout",
       "text": [
        "\r",
        "Loading frame 103 of 769"
       ]
      },
      {
       "output_type": "stream",
       "stream": "stdout",
       "text": [
        "\r",
        "Loading frame 104 of 769"
       ]
      },
      {
       "output_type": "stream",
       "stream": "stdout",
       "text": [
        "\r",
        "Loading frame 105 of 769"
       ]
      },
      {
       "output_type": "stream",
       "stream": "stdout",
       "text": [
        "\r",
        "Loading frame 106 of 769"
       ]
      },
      {
       "output_type": "stream",
       "stream": "stdout",
       "text": [
        "\r",
        "Loading frame 107 of 769"
       ]
      },
      {
       "output_type": "stream",
       "stream": "stdout",
       "text": [
        "\r",
        "Loading frame 108 of 769"
       ]
      },
      {
       "output_type": "stream",
       "stream": "stdout",
       "text": [
        "\r",
        "Loading frame 109 of 769"
       ]
      },
      {
       "output_type": "stream",
       "stream": "stdout",
       "text": [
        "\r",
        "Loading frame 110 of 769"
       ]
      },
      {
       "output_type": "stream",
       "stream": "stdout",
       "text": [
        "\r",
        "Loading frame 111 of 769"
       ]
      },
      {
       "output_type": "stream",
       "stream": "stdout",
       "text": [
        "\r",
        "Loading frame 112 of 769"
       ]
      },
      {
       "output_type": "stream",
       "stream": "stdout",
       "text": [
        "\r",
        "Loading frame 113 of 769"
       ]
      },
      {
       "output_type": "stream",
       "stream": "stdout",
       "text": [
        "\r",
        "Loading frame 114 of 769"
       ]
      },
      {
       "output_type": "stream",
       "stream": "stdout",
       "text": [
        "\r",
        "Loading frame 115 of 769"
       ]
      },
      {
       "output_type": "stream",
       "stream": "stdout",
       "text": [
        "\r",
        "Loading frame 116 of 769"
       ]
      },
      {
       "output_type": "stream",
       "stream": "stdout",
       "text": [
        "\r",
        "Loading frame 117 of 769"
       ]
      },
      {
       "output_type": "stream",
       "stream": "stdout",
       "text": [
        "\r",
        "Loading frame 118 of 769"
       ]
      },
      {
       "output_type": "stream",
       "stream": "stdout",
       "text": [
        "\r",
        "Loading frame 119 of 769"
       ]
      },
      {
       "output_type": "stream",
       "stream": "stdout",
       "text": [
        "\r",
        "Loading frame 120 of 769"
       ]
      },
      {
       "output_type": "stream",
       "stream": "stdout",
       "text": [
        "\r",
        "Loading frame 121 of 769"
       ]
      },
      {
       "output_type": "stream",
       "stream": "stdout",
       "text": [
        "\r",
        "Loading frame 122 of 769"
       ]
      },
      {
       "output_type": "stream",
       "stream": "stdout",
       "text": [
        "\r",
        "Loading frame 123 of 769"
       ]
      },
      {
       "output_type": "stream",
       "stream": "stdout",
       "text": [
        "\r",
        "Loading frame 124 of 769"
       ]
      },
      {
       "output_type": "stream",
       "stream": "stdout",
       "text": [
        "\r",
        "Loading frame 125 of 769"
       ]
      },
      {
       "output_type": "stream",
       "stream": "stdout",
       "text": [
        "\r",
        "Loading frame 126 of 769"
       ]
      },
      {
       "output_type": "stream",
       "stream": "stdout",
       "text": [
        "\r",
        "Loading frame 127 of 769"
       ]
      },
      {
       "output_type": "stream",
       "stream": "stdout",
       "text": [
        "\r",
        "Loading frame 128 of 769"
       ]
      },
      {
       "output_type": "stream",
       "stream": "stdout",
       "text": [
        "\r",
        "Loading frame 129 of 769"
       ]
      },
      {
       "output_type": "stream",
       "stream": "stdout",
       "text": [
        "\r",
        "Loading frame 130 of 769"
       ]
      },
      {
       "output_type": "stream",
       "stream": "stdout",
       "text": [
        "\r",
        "Loading frame 131 of 769"
       ]
      },
      {
       "output_type": "stream",
       "stream": "stdout",
       "text": [
        "\r",
        "Loading frame 132 of 769"
       ]
      },
      {
       "output_type": "stream",
       "stream": "stdout",
       "text": [
        "\r",
        "Loading frame 133 of 769"
       ]
      },
      {
       "output_type": "stream",
       "stream": "stdout",
       "text": [
        "\r",
        "Loading frame 134 of 769"
       ]
      },
      {
       "output_type": "stream",
       "stream": "stdout",
       "text": [
        "\r",
        "Loading frame 135 of 769"
       ]
      },
      {
       "output_type": "stream",
       "stream": "stdout",
       "text": [
        "\r",
        "Loading frame 136 of 769"
       ]
      },
      {
       "output_type": "stream",
       "stream": "stdout",
       "text": [
        "\r",
        "Loading frame 137 of 769"
       ]
      },
      {
       "output_type": "stream",
       "stream": "stdout",
       "text": [
        "\r",
        "Loading frame 138 of 769"
       ]
      },
      {
       "output_type": "stream",
       "stream": "stdout",
       "text": [
        "\r",
        "Loading frame 139 of 769"
       ]
      },
      {
       "output_type": "stream",
       "stream": "stdout",
       "text": [
        "\r",
        "Loading frame 140 of 769"
       ]
      },
      {
       "output_type": "stream",
       "stream": "stdout",
       "text": [
        "\r",
        "Loading frame 141 of 769"
       ]
      },
      {
       "output_type": "stream",
       "stream": "stdout",
       "text": [
        "\r",
        "Loading frame 142 of 769"
       ]
      },
      {
       "output_type": "stream",
       "stream": "stdout",
       "text": [
        "\r",
        "Loading frame 143 of 769"
       ]
      },
      {
       "output_type": "stream",
       "stream": "stdout",
       "text": [
        "\r",
        "Loading frame 144 of 769"
       ]
      },
      {
       "output_type": "stream",
       "stream": "stdout",
       "text": [
        "\r",
        "Loading frame 145 of 769"
       ]
      },
      {
       "output_type": "stream",
       "stream": "stdout",
       "text": [
        "\r",
        "Loading frame 146 of 769"
       ]
      },
      {
       "output_type": "stream",
       "stream": "stdout",
       "text": [
        "\r",
        "Loading frame 147 of 769"
       ]
      },
      {
       "output_type": "stream",
       "stream": "stdout",
       "text": [
        "\r",
        "Loading frame 148 of 769"
       ]
      },
      {
       "output_type": "stream",
       "stream": "stdout",
       "text": [
        "\r",
        "Loading frame 149 of 769"
       ]
      },
      {
       "output_type": "stream",
       "stream": "stdout",
       "text": [
        "\r",
        "Loading frame 150 of 769"
       ]
      },
      {
       "output_type": "stream",
       "stream": "stdout",
       "text": [
        "\r",
        "Loading frame 151 of 769"
       ]
      },
      {
       "output_type": "stream",
       "stream": "stdout",
       "text": [
        "\r",
        "Loading frame 152 of 769"
       ]
      },
      {
       "output_type": "stream",
       "stream": "stdout",
       "text": [
        "\r",
        "Loading frame 153 of 769"
       ]
      },
      {
       "output_type": "stream",
       "stream": "stdout",
       "text": [
        "\r",
        "Loading frame 154 of 769"
       ]
      },
      {
       "output_type": "stream",
       "stream": "stdout",
       "text": [
        "\r",
        "Loading frame 155 of 769"
       ]
      },
      {
       "output_type": "stream",
       "stream": "stdout",
       "text": [
        "\r",
        "Loading frame 156 of 769"
       ]
      },
      {
       "output_type": "stream",
       "stream": "stdout",
       "text": [
        "\r",
        "Loading frame 157 of 769"
       ]
      },
      {
       "output_type": "stream",
       "stream": "stdout",
       "text": [
        "\r",
        "Loading frame 158 of 769"
       ]
      },
      {
       "output_type": "stream",
       "stream": "stdout",
       "text": [
        "\r",
        "Loading frame 159 of 769"
       ]
      },
      {
       "output_type": "stream",
       "stream": "stdout",
       "text": [
        "\r",
        "Loading frame 160 of 769"
       ]
      },
      {
       "output_type": "stream",
       "stream": "stdout",
       "text": [
        "\r",
        "Loading frame 161 of 769"
       ]
      },
      {
       "output_type": "stream",
       "stream": "stdout",
       "text": [
        "\r",
        "Loading frame 162 of 769"
       ]
      },
      {
       "output_type": "stream",
       "stream": "stdout",
       "text": [
        "\r",
        "Loading frame 163 of 769"
       ]
      },
      {
       "output_type": "stream",
       "stream": "stdout",
       "text": [
        "\r",
        "Loading frame 164 of 769"
       ]
      },
      {
       "output_type": "stream",
       "stream": "stdout",
       "text": [
        "\r",
        "Loading frame 165 of 769"
       ]
      },
      {
       "output_type": "stream",
       "stream": "stdout",
       "text": [
        "\r",
        "Loading frame 166 of 769"
       ]
      },
      {
       "output_type": "stream",
       "stream": "stdout",
       "text": [
        "\r",
        "Loading frame 167 of 769"
       ]
      },
      {
       "output_type": "stream",
       "stream": "stdout",
       "text": [
        "\r",
        "Loading frame 168 of 769"
       ]
      },
      {
       "output_type": "stream",
       "stream": "stdout",
       "text": [
        "\r",
        "Loading frame 169 of 769"
       ]
      },
      {
       "output_type": "stream",
       "stream": "stdout",
       "text": [
        "\r",
        "Loading frame 170 of 769"
       ]
      },
      {
       "output_type": "stream",
       "stream": "stdout",
       "text": [
        "\r",
        "Loading frame 171 of 769"
       ]
      },
      {
       "output_type": "stream",
       "stream": "stdout",
       "text": [
        "\r",
        "Loading frame 172 of 769"
       ]
      },
      {
       "output_type": "stream",
       "stream": "stdout",
       "text": [
        "\r",
        "Loading frame 173 of 769"
       ]
      },
      {
       "output_type": "stream",
       "stream": "stdout",
       "text": [
        "\r",
        "Loading frame 174 of 769"
       ]
      },
      {
       "output_type": "stream",
       "stream": "stdout",
       "text": [
        "\r",
        "Loading frame 175 of 769"
       ]
      },
      {
       "output_type": "stream",
       "stream": "stdout",
       "text": [
        "\r",
        "Loading frame 176 of 769"
       ]
      },
      {
       "output_type": "stream",
       "stream": "stdout",
       "text": [
        "\r",
        "Loading frame 177 of 769"
       ]
      },
      {
       "output_type": "stream",
       "stream": "stdout",
       "text": [
        "\r",
        "Loading frame 178 of 769"
       ]
      },
      {
       "output_type": "stream",
       "stream": "stdout",
       "text": [
        "\r",
        "Loading frame 179 of 769"
       ]
      },
      {
       "output_type": "stream",
       "stream": "stdout",
       "text": [
        "\r",
        "Loading frame 180 of 769"
       ]
      },
      {
       "output_type": "stream",
       "stream": "stdout",
       "text": [
        "\r",
        "Loading frame 181 of 769"
       ]
      },
      {
       "output_type": "stream",
       "stream": "stdout",
       "text": [
        "\r",
        "Loading frame 182 of 769"
       ]
      },
      {
       "output_type": "stream",
       "stream": "stdout",
       "text": [
        "\r",
        "Loading frame 183 of 769"
       ]
      },
      {
       "output_type": "stream",
       "stream": "stdout",
       "text": [
        "\r",
        "Loading frame 184 of 769"
       ]
      },
      {
       "output_type": "stream",
       "stream": "stdout",
       "text": [
        "\r",
        "Loading frame 185 of 769"
       ]
      },
      {
       "output_type": "stream",
       "stream": "stdout",
       "text": [
        "\r",
        "Loading frame 186 of 769"
       ]
      },
      {
       "output_type": "stream",
       "stream": "stdout",
       "text": [
        "\r",
        "Loading frame 187 of 769"
       ]
      },
      {
       "output_type": "stream",
       "stream": "stdout",
       "text": [
        "\r",
        "Loading frame 188 of 769"
       ]
      },
      {
       "output_type": "stream",
       "stream": "stdout",
       "text": [
        "\r",
        "Loading frame 189 of 769"
       ]
      },
      {
       "output_type": "stream",
       "stream": "stdout",
       "text": [
        "\r",
        "Loading frame 190 of 769"
       ]
      },
      {
       "output_type": "stream",
       "stream": "stdout",
       "text": [
        "\r",
        "Loading frame 191 of 769"
       ]
      },
      {
       "output_type": "stream",
       "stream": "stdout",
       "text": [
        "\r",
        "Loading frame 192 of 769"
       ]
      },
      {
       "output_type": "stream",
       "stream": "stdout",
       "text": [
        "\r",
        "Loading frame 193 of 769"
       ]
      },
      {
       "output_type": "stream",
       "stream": "stdout",
       "text": [
        "\r",
        "Loading frame 194 of 769"
       ]
      },
      {
       "output_type": "stream",
       "stream": "stdout",
       "text": [
        "\r",
        "Loading frame 195 of 769"
       ]
      },
      {
       "output_type": "stream",
       "stream": "stdout",
       "text": [
        "\r",
        "Loading frame 196 of 769"
       ]
      },
      {
       "output_type": "stream",
       "stream": "stdout",
       "text": [
        "\r",
        "Loading frame 197 of 769"
       ]
      },
      {
       "output_type": "stream",
       "stream": "stdout",
       "text": [
        "\r",
        "Loading frame 198 of 769"
       ]
      },
      {
       "output_type": "stream",
       "stream": "stdout",
       "text": [
        "\r",
        "Loading frame 199 of 769"
       ]
      },
      {
       "output_type": "stream",
       "stream": "stdout",
       "text": [
        "\r",
        "Loading frame 200 of 769"
       ]
      },
      {
       "output_type": "stream",
       "stream": "stdout",
       "text": [
        "\r",
        "Loading frame 201 of 769"
       ]
      },
      {
       "output_type": "stream",
       "stream": "stdout",
       "text": [
        "\r",
        "Loading frame 202 of 769"
       ]
      },
      {
       "output_type": "stream",
       "stream": "stdout",
       "text": [
        "\r",
        "Loading frame 203 of 769"
       ]
      },
      {
       "output_type": "stream",
       "stream": "stdout",
       "text": [
        "\r",
        "Loading frame 204 of 769"
       ]
      },
      {
       "output_type": "stream",
       "stream": "stdout",
       "text": [
        "\r",
        "Loading frame 205 of 769"
       ]
      },
      {
       "output_type": "stream",
       "stream": "stdout",
       "text": [
        "\r",
        "Loading frame 206 of 769"
       ]
      },
      {
       "output_type": "stream",
       "stream": "stdout",
       "text": [
        "\r",
        "Loading frame 207 of 769"
       ]
      },
      {
       "output_type": "stream",
       "stream": "stdout",
       "text": [
        "\r",
        "Loading frame 208 of 769"
       ]
      },
      {
       "output_type": "stream",
       "stream": "stdout",
       "text": [
        "\r",
        "Loading frame 209 of 769"
       ]
      },
      {
       "output_type": "stream",
       "stream": "stdout",
       "text": [
        "\r",
        "Loading frame 210 of 769"
       ]
      },
      {
       "output_type": "stream",
       "stream": "stdout",
       "text": [
        "\r",
        "Loading frame 211 of 769"
       ]
      },
      {
       "output_type": "stream",
       "stream": "stdout",
       "text": [
        "\r",
        "Loading frame 212 of 769"
       ]
      },
      {
       "output_type": "stream",
       "stream": "stdout",
       "text": [
        "\r",
        "Loading frame 213 of 769"
       ]
      },
      {
       "output_type": "stream",
       "stream": "stdout",
       "text": [
        "\r",
        "Loading frame 214 of 769"
       ]
      },
      {
       "output_type": "stream",
       "stream": "stdout",
       "text": [
        "\r",
        "Loading frame 215 of 769"
       ]
      },
      {
       "output_type": "stream",
       "stream": "stdout",
       "text": [
        "\r",
        "Loading frame 216 of 769"
       ]
      },
      {
       "output_type": "stream",
       "stream": "stdout",
       "text": [
        "\r",
        "Loading frame 217 of 769"
       ]
      },
      {
       "output_type": "stream",
       "stream": "stdout",
       "text": [
        "\r",
        "Loading frame 218 of 769"
       ]
      },
      {
       "output_type": "stream",
       "stream": "stdout",
       "text": [
        "\r",
        "Loading frame 219 of 769"
       ]
      },
      {
       "output_type": "stream",
       "stream": "stdout",
       "text": [
        "\r",
        "Loading frame 220 of 769"
       ]
      },
      {
       "output_type": "stream",
       "stream": "stdout",
       "text": [
        "\r",
        "Loading frame 221 of 769"
       ]
      },
      {
       "output_type": "stream",
       "stream": "stdout",
       "text": [
        "\r",
        "Loading frame 222 of 769"
       ]
      },
      {
       "output_type": "stream",
       "stream": "stdout",
       "text": [
        "\r",
        "Loading frame 223 of 769"
       ]
      },
      {
       "output_type": "stream",
       "stream": "stdout",
       "text": [
        "\r",
        "Loading frame 224 of 769"
       ]
      },
      {
       "output_type": "stream",
       "stream": "stdout",
       "text": [
        "\r",
        "Loading frame 225 of 769"
       ]
      },
      {
       "output_type": "stream",
       "stream": "stdout",
       "text": [
        "\r",
        "Loading frame 226 of 769"
       ]
      },
      {
       "output_type": "stream",
       "stream": "stdout",
       "text": [
        "\r",
        "Loading frame 227 of 769"
       ]
      },
      {
       "output_type": "stream",
       "stream": "stdout",
       "text": [
        "\r",
        "Loading frame 228 of 769"
       ]
      },
      {
       "output_type": "stream",
       "stream": "stdout",
       "text": [
        "\r",
        "Loading frame 229 of 769"
       ]
      },
      {
       "output_type": "stream",
       "stream": "stdout",
       "text": [
        "\r",
        "Loading frame 230 of 769"
       ]
      },
      {
       "output_type": "stream",
       "stream": "stdout",
       "text": [
        "\r",
        "Loading frame 231 of 769"
       ]
      },
      {
       "output_type": "stream",
       "stream": "stdout",
       "text": [
        "\r",
        "Loading frame 232 of 769"
       ]
      },
      {
       "output_type": "stream",
       "stream": "stdout",
       "text": [
        "\r",
        "Loading frame 233 of 769"
       ]
      },
      {
       "output_type": "stream",
       "stream": "stdout",
       "text": [
        "\r",
        "Loading frame 234 of 769"
       ]
      },
      {
       "output_type": "stream",
       "stream": "stdout",
       "text": [
        "\r",
        "Loading frame 235 of 769"
       ]
      },
      {
       "output_type": "stream",
       "stream": "stdout",
       "text": [
        "\r",
        "Loading frame 236 of 769"
       ]
      },
      {
       "output_type": "stream",
       "stream": "stdout",
       "text": [
        "\r",
        "Loading frame 237 of 769"
       ]
      },
      {
       "output_type": "stream",
       "stream": "stdout",
       "text": [
        "\r",
        "Loading frame 238 of 769"
       ]
      },
      {
       "output_type": "stream",
       "stream": "stdout",
       "text": [
        "\r",
        "Loading frame 239 of 769"
       ]
      },
      {
       "output_type": "stream",
       "stream": "stdout",
       "text": [
        "\r",
        "Loading frame 240 of 769"
       ]
      },
      {
       "output_type": "stream",
       "stream": "stdout",
       "text": [
        "\r",
        "Loading frame 241 of 769"
       ]
      },
      {
       "output_type": "stream",
       "stream": "stdout",
       "text": [
        "\r",
        "Loading frame 242 of 769"
       ]
      },
      {
       "output_type": "stream",
       "stream": "stdout",
       "text": [
        "\r",
        "Loading frame 243 of 769"
       ]
      },
      {
       "output_type": "stream",
       "stream": "stdout",
       "text": [
        "\r",
        "Loading frame 244 of 769"
       ]
      },
      {
       "output_type": "stream",
       "stream": "stdout",
       "text": [
        "\r",
        "Loading frame 245 of 769"
       ]
      },
      {
       "output_type": "stream",
       "stream": "stdout",
       "text": [
        "\r",
        "Loading frame 246 of 769"
       ]
      },
      {
       "output_type": "stream",
       "stream": "stdout",
       "text": [
        "\r",
        "Loading frame 247 of 769"
       ]
      },
      {
       "output_type": "stream",
       "stream": "stdout",
       "text": [
        "\r",
        "Loading frame 248 of 769"
       ]
      },
      {
       "output_type": "stream",
       "stream": "stdout",
       "text": [
        "\r",
        "Loading frame 249 of 769"
       ]
      },
      {
       "output_type": "stream",
       "stream": "stdout",
       "text": [
        "\r",
        "Loading frame 250 of 769"
       ]
      },
      {
       "output_type": "stream",
       "stream": "stdout",
       "text": [
        "\r",
        "Loading frame 251 of 769"
       ]
      },
      {
       "output_type": "stream",
       "stream": "stdout",
       "text": [
        "\r",
        "Loading frame 252 of 769"
       ]
      },
      {
       "output_type": "stream",
       "stream": "stdout",
       "text": [
        "\r",
        "Loading frame 253 of 769"
       ]
      },
      {
       "output_type": "stream",
       "stream": "stdout",
       "text": [
        "\r",
        "Loading frame 254 of 769"
       ]
      },
      {
       "output_type": "stream",
       "stream": "stdout",
       "text": [
        "\r",
        "Loading frame 255 of 769"
       ]
      },
      {
       "output_type": "stream",
       "stream": "stdout",
       "text": [
        "\r",
        "Loading frame 256 of 769"
       ]
      },
      {
       "output_type": "stream",
       "stream": "stdout",
       "text": [
        "\r",
        "Loading frame 257 of 769"
       ]
      },
      {
       "output_type": "stream",
       "stream": "stdout",
       "text": [
        "\r",
        "Loading frame 258 of 769"
       ]
      },
      {
       "output_type": "stream",
       "stream": "stdout",
       "text": [
        "\r",
        "Loading frame 259 of 769"
       ]
      },
      {
       "output_type": "stream",
       "stream": "stdout",
       "text": [
        "\r",
        "Loading frame 260 of 769"
       ]
      },
      {
       "output_type": "stream",
       "stream": "stdout",
       "text": [
        "\r",
        "Loading frame 261 of 769"
       ]
      },
      {
       "output_type": "stream",
       "stream": "stdout",
       "text": [
        "\r",
        "Loading frame 262 of 769"
       ]
      },
      {
       "output_type": "stream",
       "stream": "stdout",
       "text": [
        "\r",
        "Loading frame 263 of 769"
       ]
      },
      {
       "output_type": "stream",
       "stream": "stdout",
       "text": [
        "\r",
        "Loading frame 264 of 769"
       ]
      },
      {
       "output_type": "stream",
       "stream": "stdout",
       "text": [
        "\r",
        "Loading frame 265 of 769"
       ]
      },
      {
       "output_type": "stream",
       "stream": "stdout",
       "text": [
        "\r",
        "Loading frame 266 of 769"
       ]
      },
      {
       "output_type": "stream",
       "stream": "stdout",
       "text": [
        "\r",
        "Loading frame 267 of 769"
       ]
      },
      {
       "output_type": "stream",
       "stream": "stdout",
       "text": [
        "\r",
        "Loading frame 268 of 769"
       ]
      },
      {
       "output_type": "stream",
       "stream": "stdout",
       "text": [
        "\r",
        "Loading frame 269 of 769"
       ]
      },
      {
       "output_type": "stream",
       "stream": "stdout",
       "text": [
        "\r",
        "Loading frame 270 of 769"
       ]
      },
      {
       "output_type": "stream",
       "stream": "stdout",
       "text": [
        "\r",
        "Loading frame 271 of 769"
       ]
      },
      {
       "output_type": "stream",
       "stream": "stdout",
       "text": [
        "\r",
        "Loading frame 272 of 769"
       ]
      },
      {
       "output_type": "stream",
       "stream": "stdout",
       "text": [
        "\r",
        "Loading frame 273 of 769"
       ]
      },
      {
       "output_type": "stream",
       "stream": "stdout",
       "text": [
        "\r",
        "Loading frame 274 of 769"
       ]
      },
      {
       "output_type": "stream",
       "stream": "stdout",
       "text": [
        "\r",
        "Loading frame 275 of 769"
       ]
      },
      {
       "output_type": "stream",
       "stream": "stdout",
       "text": [
        "\r",
        "Loading frame 276 of 769"
       ]
      },
      {
       "output_type": "stream",
       "stream": "stdout",
       "text": [
        "\r",
        "Loading frame 277 of 769"
       ]
      },
      {
       "output_type": "stream",
       "stream": "stdout",
       "text": [
        "\r",
        "Loading frame 278 of 769"
       ]
      },
      {
       "output_type": "stream",
       "stream": "stdout",
       "text": [
        "\r",
        "Loading frame 279 of 769"
       ]
      },
      {
       "output_type": "stream",
       "stream": "stdout",
       "text": [
        "\r",
        "Loading frame 280 of 769"
       ]
      },
      {
       "output_type": "stream",
       "stream": "stdout",
       "text": [
        "\r",
        "Loading frame 281 of 769"
       ]
      },
      {
       "output_type": "stream",
       "stream": "stdout",
       "text": [
        "\r",
        "Loading frame 282 of 769"
       ]
      },
      {
       "output_type": "stream",
       "stream": "stdout",
       "text": [
        "\r",
        "Loading frame 283 of 769"
       ]
      },
      {
       "output_type": "stream",
       "stream": "stdout",
       "text": [
        "\r",
        "Loading frame 284 of 769"
       ]
      },
      {
       "output_type": "stream",
       "stream": "stdout",
       "text": [
        "\r",
        "Loading frame 285 of 769"
       ]
      },
      {
       "output_type": "stream",
       "stream": "stdout",
       "text": [
        "\r",
        "Loading frame 286 of 769"
       ]
      },
      {
       "output_type": "stream",
       "stream": "stdout",
       "text": [
        "\r",
        "Loading frame 287 of 769"
       ]
      },
      {
       "output_type": "stream",
       "stream": "stdout",
       "text": [
        "\r",
        "Loading frame 288 of 769"
       ]
      },
      {
       "output_type": "stream",
       "stream": "stdout",
       "text": [
        "\r",
        "Loading frame 289 of 769"
       ]
      },
      {
       "output_type": "stream",
       "stream": "stdout",
       "text": [
        "\r",
        "Loading frame 290 of 769"
       ]
      },
      {
       "output_type": "stream",
       "stream": "stdout",
       "text": [
        "\r",
        "Loading frame 291 of 769"
       ]
      },
      {
       "output_type": "stream",
       "stream": "stdout",
       "text": [
        "\r",
        "Loading frame 292 of 769"
       ]
      },
      {
       "output_type": "stream",
       "stream": "stdout",
       "text": [
        "\r",
        "Loading frame 293 of 769"
       ]
      },
      {
       "output_type": "stream",
       "stream": "stdout",
       "text": [
        "\r",
        "Loading frame 294 of 769"
       ]
      },
      {
       "output_type": "stream",
       "stream": "stdout",
       "text": [
        "\r",
        "Loading frame 295 of 769"
       ]
      },
      {
       "output_type": "stream",
       "stream": "stdout",
       "text": [
        "\r",
        "Loading frame 296 of 769"
       ]
      },
      {
       "output_type": "stream",
       "stream": "stdout",
       "text": [
        "\r",
        "Loading frame 297 of 769"
       ]
      },
      {
       "output_type": "stream",
       "stream": "stdout",
       "text": [
        "\r",
        "Loading frame 298 of 769"
       ]
      },
      {
       "output_type": "stream",
       "stream": "stdout",
       "text": [
        "\r",
        "Loading frame 299 of 769"
       ]
      },
      {
       "output_type": "stream",
       "stream": "stdout",
       "text": [
        "\r",
        "Loading frame 300 of 769"
       ]
      },
      {
       "output_type": "stream",
       "stream": "stdout",
       "text": [
        "\r",
        "Loading frame 301 of 769"
       ]
      },
      {
       "output_type": "stream",
       "stream": "stdout",
       "text": [
        "\r",
        "Loading frame 302 of 769"
       ]
      },
      {
       "output_type": "stream",
       "stream": "stdout",
       "text": [
        "\r",
        "Loading frame 303 of 769"
       ]
      },
      {
       "output_type": "stream",
       "stream": "stdout",
       "text": [
        "\r",
        "Loading frame 304 of 769"
       ]
      },
      {
       "output_type": "stream",
       "stream": "stdout",
       "text": [
        "\r",
        "Loading frame 305 of 769"
       ]
      },
      {
       "output_type": "stream",
       "stream": "stdout",
       "text": [
        "\r",
        "Loading frame 306 of 769"
       ]
      },
      {
       "output_type": "stream",
       "stream": "stdout",
       "text": [
        "\r",
        "Loading frame 307 of 769"
       ]
      },
      {
       "output_type": "stream",
       "stream": "stdout",
       "text": [
        "\r",
        "Loading frame 308 of 769"
       ]
      },
      {
       "output_type": "stream",
       "stream": "stdout",
       "text": [
        "\r",
        "Loading frame 309 of 769"
       ]
      },
      {
       "output_type": "stream",
       "stream": "stdout",
       "text": [
        "\r",
        "Loading frame 310 of 769"
       ]
      },
      {
       "output_type": "stream",
       "stream": "stdout",
       "text": [
        "\r",
        "Loading frame 311 of 769"
       ]
      },
      {
       "output_type": "stream",
       "stream": "stdout",
       "text": [
        "\r",
        "Loading frame 312 of 769"
       ]
      },
      {
       "output_type": "stream",
       "stream": "stdout",
       "text": [
        "\r",
        "Loading frame 313 of 769"
       ]
      },
      {
       "output_type": "stream",
       "stream": "stdout",
       "text": [
        "\r",
        "Loading frame 314 of 769"
       ]
      },
      {
       "output_type": "stream",
       "stream": "stdout",
       "text": [
        "\r",
        "Loading frame 315 of 769"
       ]
      },
      {
       "output_type": "stream",
       "stream": "stdout",
       "text": [
        "\r",
        "Loading frame 316 of 769"
       ]
      },
      {
       "output_type": "stream",
       "stream": "stdout",
       "text": [
        "\r",
        "Loading frame 317 of 769"
       ]
      },
      {
       "output_type": "stream",
       "stream": "stdout",
       "text": [
        "\r",
        "Loading frame 318 of 769"
       ]
      },
      {
       "output_type": "stream",
       "stream": "stdout",
       "text": [
        "\r",
        "Loading frame 319 of 769"
       ]
      },
      {
       "output_type": "stream",
       "stream": "stdout",
       "text": [
        "\r",
        "Loading frame 320 of 769"
       ]
      },
      {
       "output_type": "stream",
       "stream": "stdout",
       "text": [
        "\r",
        "Loading frame 321 of 769"
       ]
      },
      {
       "output_type": "stream",
       "stream": "stdout",
       "text": [
        "\r",
        "Loading frame 322 of 769"
       ]
      },
      {
       "output_type": "stream",
       "stream": "stdout",
       "text": [
        "\r",
        "Loading frame 323 of 769"
       ]
      },
      {
       "output_type": "stream",
       "stream": "stdout",
       "text": [
        "\r",
        "Loading frame 324 of 769"
       ]
      },
      {
       "output_type": "stream",
       "stream": "stdout",
       "text": [
        "\r",
        "Loading frame 325 of 769"
       ]
      },
      {
       "output_type": "stream",
       "stream": "stdout",
       "text": [
        "\r",
        "Loading frame 326 of 769"
       ]
      },
      {
       "output_type": "stream",
       "stream": "stdout",
       "text": [
        "\r",
        "Loading frame 327 of 769"
       ]
      },
      {
       "output_type": "stream",
       "stream": "stdout",
       "text": [
        "\r",
        "Loading frame 328 of 769"
       ]
      },
      {
       "output_type": "stream",
       "stream": "stdout",
       "text": [
        "\r",
        "Loading frame 329 of 769"
       ]
      },
      {
       "output_type": "stream",
       "stream": "stdout",
       "text": [
        "\r",
        "Loading frame 330 of 769"
       ]
      },
      {
       "output_type": "stream",
       "stream": "stdout",
       "text": [
        "\r",
        "Loading frame 331 of 769"
       ]
      },
      {
       "output_type": "stream",
       "stream": "stdout",
       "text": [
        "\r",
        "Loading frame 332 of 769"
       ]
      },
      {
       "output_type": "stream",
       "stream": "stdout",
       "text": [
        "\r",
        "Loading frame 333 of 769"
       ]
      },
      {
       "output_type": "stream",
       "stream": "stdout",
       "text": [
        "\r",
        "Loading frame 334 of 769"
       ]
      },
      {
       "output_type": "stream",
       "stream": "stdout",
       "text": [
        "\r",
        "Loading frame 335 of 769"
       ]
      },
      {
       "output_type": "stream",
       "stream": "stdout",
       "text": [
        "\r",
        "Loading frame 336 of 769"
       ]
      },
      {
       "output_type": "stream",
       "stream": "stdout",
       "text": [
        "\r",
        "Loading frame 337 of 769"
       ]
      },
      {
       "output_type": "stream",
       "stream": "stdout",
       "text": [
        "\r",
        "Loading frame 338 of 769"
       ]
      },
      {
       "output_type": "stream",
       "stream": "stdout",
       "text": [
        "\r",
        "Loading frame 339 of 769"
       ]
      },
      {
       "output_type": "stream",
       "stream": "stdout",
       "text": [
        "\r",
        "Loading frame 340 of 769"
       ]
      },
      {
       "output_type": "stream",
       "stream": "stdout",
       "text": [
        "\r",
        "Loading frame 341 of 769"
       ]
      },
      {
       "output_type": "stream",
       "stream": "stdout",
       "text": [
        "\r",
        "Loading frame 342 of 769"
       ]
      },
      {
       "output_type": "stream",
       "stream": "stdout",
       "text": [
        "\r",
        "Loading frame 343 of 769"
       ]
      },
      {
       "output_type": "stream",
       "stream": "stdout",
       "text": [
        "\r",
        "Loading frame 344 of 769"
       ]
      },
      {
       "output_type": "stream",
       "stream": "stdout",
       "text": [
        "\r",
        "Loading frame 345 of 769"
       ]
      },
      {
       "output_type": "stream",
       "stream": "stdout",
       "text": [
        "\r",
        "Loading frame 346 of 769"
       ]
      },
      {
       "output_type": "stream",
       "stream": "stdout",
       "text": [
        "\r",
        "Loading frame 347 of 769"
       ]
      },
      {
       "output_type": "stream",
       "stream": "stdout",
       "text": [
        "\r",
        "Loading frame 348 of 769"
       ]
      },
      {
       "output_type": "stream",
       "stream": "stdout",
       "text": [
        "\r",
        "Loading frame 349 of 769"
       ]
      },
      {
       "output_type": "stream",
       "stream": "stdout",
       "text": [
        "\r",
        "Loading frame 350 of 769"
       ]
      },
      {
       "output_type": "stream",
       "stream": "stdout",
       "text": [
        "\r",
        "Loading frame 351 of 769"
       ]
      },
      {
       "output_type": "stream",
       "stream": "stdout",
       "text": [
        "\r",
        "Loading frame 352 of 769"
       ]
      },
      {
       "output_type": "stream",
       "stream": "stdout",
       "text": [
        "\r",
        "Loading frame 353 of 769"
       ]
      },
      {
       "output_type": "stream",
       "stream": "stdout",
       "text": [
        "\r",
        "Loading frame 354 of 769"
       ]
      },
      {
       "output_type": "stream",
       "stream": "stdout",
       "text": [
        "\r",
        "Loading frame 355 of 769"
       ]
      },
      {
       "output_type": "stream",
       "stream": "stdout",
       "text": [
        "\r",
        "Loading frame 356 of 769"
       ]
      },
      {
       "output_type": "stream",
       "stream": "stdout",
       "text": [
        "\r",
        "Loading frame 357 of 769"
       ]
      },
      {
       "output_type": "stream",
       "stream": "stdout",
       "text": [
        "\r",
        "Loading frame 358 of 769"
       ]
      },
      {
       "output_type": "stream",
       "stream": "stdout",
       "text": [
        "\r",
        "Loading frame 359 of 769"
       ]
      },
      {
       "output_type": "stream",
       "stream": "stdout",
       "text": [
        "\r",
        "Loading frame 360 of 769"
       ]
      },
      {
       "output_type": "stream",
       "stream": "stdout",
       "text": [
        "\r",
        "Loading frame 361 of 769"
       ]
      },
      {
       "output_type": "stream",
       "stream": "stdout",
       "text": [
        "\r",
        "Loading frame 362 of 769"
       ]
      },
      {
       "output_type": "stream",
       "stream": "stdout",
       "text": [
        "\r",
        "Loading frame 363 of 769"
       ]
      },
      {
       "output_type": "stream",
       "stream": "stdout",
       "text": [
        "\r",
        "Loading frame 364 of 769"
       ]
      },
      {
       "output_type": "stream",
       "stream": "stdout",
       "text": [
        "\r",
        "Loading frame 365 of 769"
       ]
      },
      {
       "output_type": "stream",
       "stream": "stdout",
       "text": [
        "\r",
        "Loading frame 366 of 769"
       ]
      },
      {
       "output_type": "stream",
       "stream": "stdout",
       "text": [
        "\r",
        "Loading frame 367 of 769"
       ]
      },
      {
       "output_type": "stream",
       "stream": "stdout",
       "text": [
        "\r",
        "Loading frame 368 of 769"
       ]
      },
      {
       "output_type": "stream",
       "stream": "stdout",
       "text": [
        "\r",
        "Loading frame 369 of 769"
       ]
      },
      {
       "output_type": "stream",
       "stream": "stdout",
       "text": [
        "\r",
        "Loading frame 370 of 769"
       ]
      },
      {
       "output_type": "stream",
       "stream": "stdout",
       "text": [
        "\r",
        "Loading frame 371 of 769"
       ]
      },
      {
       "output_type": "stream",
       "stream": "stdout",
       "text": [
        "\r",
        "Loading frame 372 of 769"
       ]
      },
      {
       "output_type": "stream",
       "stream": "stdout",
       "text": [
        "\r",
        "Loading frame 373 of 769"
       ]
      },
      {
       "output_type": "stream",
       "stream": "stdout",
       "text": [
        "\r",
        "Loading frame 374 of 769"
       ]
      },
      {
       "output_type": "stream",
       "stream": "stdout",
       "text": [
        "\r",
        "Loading frame 375 of 769"
       ]
      },
      {
       "output_type": "stream",
       "stream": "stdout",
       "text": [
        "\r",
        "Loading frame 376 of 769"
       ]
      },
      {
       "output_type": "stream",
       "stream": "stdout",
       "text": [
        "\r",
        "Loading frame 377 of 769"
       ]
      },
      {
       "output_type": "stream",
       "stream": "stdout",
       "text": [
        "\r",
        "Loading frame 378 of 769"
       ]
      },
      {
       "output_type": "stream",
       "stream": "stdout",
       "text": [
        "\r",
        "Loading frame 379 of 769"
       ]
      },
      {
       "output_type": "stream",
       "stream": "stdout",
       "text": [
        "\r",
        "Loading frame 380 of 769"
       ]
      },
      {
       "output_type": "stream",
       "stream": "stdout",
       "text": [
        "\r",
        "Loading frame 381 of 769"
       ]
      },
      {
       "output_type": "stream",
       "stream": "stdout",
       "text": [
        "\r",
        "Loading frame 382 of 769"
       ]
      },
      {
       "output_type": "stream",
       "stream": "stdout",
       "text": [
        "\r",
        "Loading frame 383 of 769"
       ]
      },
      {
       "output_type": "stream",
       "stream": "stdout",
       "text": [
        "\r",
        "Loading frame 384 of 769"
       ]
      },
      {
       "output_type": "stream",
       "stream": "stdout",
       "text": [
        "\r",
        "Loading frame 385 of 769"
       ]
      },
      {
       "output_type": "stream",
       "stream": "stdout",
       "text": [
        "\r",
        "Loading frame 386 of 769"
       ]
      },
      {
       "output_type": "stream",
       "stream": "stdout",
       "text": [
        "\r",
        "Loading frame 387 of 769"
       ]
      },
      {
       "output_type": "stream",
       "stream": "stdout",
       "text": [
        "\r",
        "Loading frame 388 of 769"
       ]
      },
      {
       "output_type": "stream",
       "stream": "stdout",
       "text": [
        "\r",
        "Loading frame 389 of 769"
       ]
      },
      {
       "output_type": "stream",
       "stream": "stdout",
       "text": [
        "\r",
        "Loading frame 390 of 769"
       ]
      },
      {
       "output_type": "stream",
       "stream": "stdout",
       "text": [
        "\r",
        "Loading frame 391 of 769"
       ]
      },
      {
       "output_type": "stream",
       "stream": "stdout",
       "text": [
        "\r",
        "Loading frame 392 of 769"
       ]
      },
      {
       "output_type": "stream",
       "stream": "stdout",
       "text": [
        "\r",
        "Loading frame 393 of 769"
       ]
      },
      {
       "output_type": "stream",
       "stream": "stdout",
       "text": [
        "\r",
        "Loading frame 394 of 769"
       ]
      },
      {
       "output_type": "stream",
       "stream": "stdout",
       "text": [
        "\r",
        "Loading frame 395 of 769"
       ]
      },
      {
       "output_type": "stream",
       "stream": "stdout",
       "text": [
        "\r",
        "Loading frame 396 of 769"
       ]
      },
      {
       "output_type": "stream",
       "stream": "stdout",
       "text": [
        "\r",
        "Loading frame 397 of 769"
       ]
      },
      {
       "output_type": "stream",
       "stream": "stdout",
       "text": [
        "\r",
        "Loading frame 398 of 769"
       ]
      },
      {
       "output_type": "stream",
       "stream": "stdout",
       "text": [
        "\r",
        "Loading frame 399 of 769"
       ]
      },
      {
       "output_type": "stream",
       "stream": "stdout",
       "text": [
        "\r",
        "Loading frame 400 of 769"
       ]
      },
      {
       "output_type": "stream",
       "stream": "stdout",
       "text": [
        "\r",
        "Loading frame 401 of 769"
       ]
      },
      {
       "output_type": "stream",
       "stream": "stdout",
       "text": [
        "\r",
        "Loading frame 402 of 769"
       ]
      },
      {
       "output_type": "stream",
       "stream": "stdout",
       "text": [
        "\r",
        "Loading frame 403 of 769"
       ]
      },
      {
       "output_type": "stream",
       "stream": "stdout",
       "text": [
        "\r",
        "Loading frame 404 of 769"
       ]
      },
      {
       "output_type": "stream",
       "stream": "stdout",
       "text": [
        "\r",
        "Loading frame 405 of 769"
       ]
      },
      {
       "output_type": "stream",
       "stream": "stdout",
       "text": [
        "\r",
        "Loading frame 406 of 769"
       ]
      },
      {
       "output_type": "stream",
       "stream": "stdout",
       "text": [
        "\r",
        "Loading frame 407 of 769"
       ]
      },
      {
       "output_type": "stream",
       "stream": "stdout",
       "text": [
        "\r",
        "Loading frame 408 of 769"
       ]
      },
      {
       "output_type": "stream",
       "stream": "stdout",
       "text": [
        "\r",
        "Loading frame 409 of 769"
       ]
      },
      {
       "output_type": "stream",
       "stream": "stdout",
       "text": [
        "\r",
        "Loading frame 410 of 769"
       ]
      },
      {
       "output_type": "stream",
       "stream": "stdout",
       "text": [
        "\r",
        "Loading frame 411 of 769"
       ]
      },
      {
       "output_type": "stream",
       "stream": "stdout",
       "text": [
        "\r",
        "Loading frame 412 of 769"
       ]
      },
      {
       "output_type": "stream",
       "stream": "stdout",
       "text": [
        "\r",
        "Loading frame 413 of 769"
       ]
      },
      {
       "output_type": "stream",
       "stream": "stdout",
       "text": [
        "\r",
        "Loading frame 414 of 769"
       ]
      },
      {
       "output_type": "stream",
       "stream": "stdout",
       "text": [
        "\r",
        "Loading frame 415 of 769"
       ]
      },
      {
       "output_type": "stream",
       "stream": "stdout",
       "text": [
        "\r",
        "Loading frame 416 of 769"
       ]
      },
      {
       "output_type": "stream",
       "stream": "stdout",
       "text": [
        "\r",
        "Loading frame 417 of 769"
       ]
      },
      {
       "output_type": "stream",
       "stream": "stdout",
       "text": [
        "\r",
        "Loading frame 418 of 769"
       ]
      },
      {
       "output_type": "stream",
       "stream": "stdout",
       "text": [
        "\r",
        "Loading frame 419 of 769"
       ]
      },
      {
       "output_type": "stream",
       "stream": "stdout",
       "text": [
        "\r",
        "Loading frame 420 of 769"
       ]
      },
      {
       "output_type": "stream",
       "stream": "stdout",
       "text": [
        "\r",
        "Loading frame 421 of 769"
       ]
      },
      {
       "output_type": "stream",
       "stream": "stdout",
       "text": [
        "\r",
        "Loading frame 422 of 769"
       ]
      },
      {
       "output_type": "stream",
       "stream": "stdout",
       "text": [
        "\r",
        "Loading frame 423 of 769"
       ]
      },
      {
       "output_type": "stream",
       "stream": "stdout",
       "text": [
        "\r",
        "Loading frame 424 of 769"
       ]
      },
      {
       "output_type": "stream",
       "stream": "stdout",
       "text": [
        "\r",
        "Loading frame 425 of 769"
       ]
      },
      {
       "output_type": "stream",
       "stream": "stdout",
       "text": [
        "\r",
        "Loading frame 426 of 769"
       ]
      },
      {
       "output_type": "stream",
       "stream": "stdout",
       "text": [
        "\r",
        "Loading frame 427 of 769"
       ]
      },
      {
       "output_type": "stream",
       "stream": "stdout",
       "text": [
        "\r",
        "Loading frame 428 of 769"
       ]
      },
      {
       "output_type": "stream",
       "stream": "stdout",
       "text": [
        "\r",
        "Loading frame 429 of 769"
       ]
      },
      {
       "output_type": "stream",
       "stream": "stdout",
       "text": [
        "\r",
        "Loading frame 430 of 769"
       ]
      },
      {
       "output_type": "stream",
       "stream": "stdout",
       "text": [
        "\r",
        "Loading frame 431 of 769"
       ]
      },
      {
       "output_type": "stream",
       "stream": "stdout",
       "text": [
        "\r",
        "Loading frame 432 of 769"
       ]
      },
      {
       "output_type": "stream",
       "stream": "stdout",
       "text": [
        "\r",
        "Loading frame 433 of 769"
       ]
      },
      {
       "output_type": "stream",
       "stream": "stdout",
       "text": [
        "\r",
        "Loading frame 434 of 769"
       ]
      },
      {
       "output_type": "stream",
       "stream": "stdout",
       "text": [
        "\r",
        "Loading frame 435 of 769"
       ]
      },
      {
       "output_type": "stream",
       "stream": "stdout",
       "text": [
        "\r",
        "Loading frame 436 of 769"
       ]
      },
      {
       "output_type": "stream",
       "stream": "stdout",
       "text": [
        "\r",
        "Loading frame 437 of 769"
       ]
      },
      {
       "output_type": "stream",
       "stream": "stdout",
       "text": [
        "\r",
        "Loading frame 438 of 769"
       ]
      },
      {
       "output_type": "stream",
       "stream": "stdout",
       "text": [
        "\r",
        "Loading frame 439 of 769"
       ]
      },
      {
       "output_type": "stream",
       "stream": "stdout",
       "text": [
        "\r",
        "Loading frame 440 of 769"
       ]
      },
      {
       "output_type": "stream",
       "stream": "stdout",
       "text": [
        "\r",
        "Loading frame 441 of 769"
       ]
      },
      {
       "output_type": "stream",
       "stream": "stdout",
       "text": [
        "\r",
        "Loading frame 442 of 769"
       ]
      },
      {
       "output_type": "stream",
       "stream": "stdout",
       "text": [
        "\r",
        "Loading frame 443 of 769"
       ]
      },
      {
       "output_type": "stream",
       "stream": "stdout",
       "text": [
        "\r",
        "Loading frame 444 of 769"
       ]
      },
      {
       "output_type": "stream",
       "stream": "stdout",
       "text": [
        "\r",
        "Loading frame 445 of 769"
       ]
      },
      {
       "output_type": "stream",
       "stream": "stdout",
       "text": [
        "\r",
        "Loading frame 446 of 769"
       ]
      },
      {
       "output_type": "stream",
       "stream": "stdout",
       "text": [
        "\r",
        "Loading frame 447 of 769"
       ]
      },
      {
       "output_type": "stream",
       "stream": "stdout",
       "text": [
        "\r",
        "Loading frame 448 of 769"
       ]
      },
      {
       "output_type": "stream",
       "stream": "stdout",
       "text": [
        "\r",
        "Loading frame 449 of 769"
       ]
      },
      {
       "output_type": "stream",
       "stream": "stdout",
       "text": [
        "\r",
        "Loading frame 450 of 769"
       ]
      },
      {
       "output_type": "stream",
       "stream": "stdout",
       "text": [
        "\r",
        "Loading frame 451 of 769"
       ]
      },
      {
       "output_type": "stream",
       "stream": "stdout",
       "text": [
        "\r",
        "Loading frame 452 of 769"
       ]
      },
      {
       "output_type": "stream",
       "stream": "stdout",
       "text": [
        "\r",
        "Loading frame 453 of 769"
       ]
      },
      {
       "output_type": "stream",
       "stream": "stdout",
       "text": [
        "\r",
        "Loading frame 454 of 769"
       ]
      },
      {
       "output_type": "stream",
       "stream": "stdout",
       "text": [
        "\r",
        "Loading frame 455 of 769"
       ]
      },
      {
       "output_type": "stream",
       "stream": "stdout",
       "text": [
        "\r",
        "Loading frame 456 of 769"
       ]
      },
      {
       "output_type": "stream",
       "stream": "stdout",
       "text": [
        "\r",
        "Loading frame 457 of 769"
       ]
      },
      {
       "output_type": "stream",
       "stream": "stdout",
       "text": [
        "\r",
        "Loading frame 458 of 769"
       ]
      },
      {
       "output_type": "stream",
       "stream": "stdout",
       "text": [
        "\r",
        "Loading frame 459 of 769"
       ]
      },
      {
       "output_type": "stream",
       "stream": "stdout",
       "text": [
        "\r",
        "Loading frame 460 of 769"
       ]
      },
      {
       "output_type": "stream",
       "stream": "stdout",
       "text": [
        "\r",
        "Loading frame 461 of 769"
       ]
      },
      {
       "output_type": "stream",
       "stream": "stdout",
       "text": [
        "\r",
        "Loading frame 462 of 769"
       ]
      },
      {
       "output_type": "stream",
       "stream": "stdout",
       "text": [
        "\r",
        "Loading frame 463 of 769"
       ]
      },
      {
       "output_type": "stream",
       "stream": "stdout",
       "text": [
        "\r",
        "Loading frame 464 of 769"
       ]
      },
      {
       "output_type": "stream",
       "stream": "stdout",
       "text": [
        "\r",
        "Loading frame 465 of 769"
       ]
      },
      {
       "output_type": "stream",
       "stream": "stdout",
       "text": [
        "\r",
        "Loading frame 466 of 769"
       ]
      },
      {
       "output_type": "stream",
       "stream": "stdout",
       "text": [
        "\r",
        "Loading frame 467 of 769"
       ]
      },
      {
       "output_type": "stream",
       "stream": "stdout",
       "text": [
        "\r",
        "Loading frame 468 of 769"
       ]
      },
      {
       "output_type": "stream",
       "stream": "stdout",
       "text": [
        "\r",
        "Loading frame 469 of 769"
       ]
      },
      {
       "output_type": "stream",
       "stream": "stdout",
       "text": [
        "\r",
        "Loading frame 470 of 769"
       ]
      },
      {
       "output_type": "stream",
       "stream": "stdout",
       "text": [
        "\r",
        "Loading frame 471 of 769"
       ]
      },
      {
       "output_type": "stream",
       "stream": "stdout",
       "text": [
        "\r",
        "Loading frame 472 of 769"
       ]
      },
      {
       "output_type": "stream",
       "stream": "stdout",
       "text": [
        "\r",
        "Loading frame 473 of 769"
       ]
      },
      {
       "output_type": "stream",
       "stream": "stdout",
       "text": [
        "\r",
        "Loading frame 474 of 769"
       ]
      },
      {
       "output_type": "stream",
       "stream": "stdout",
       "text": [
        "\r",
        "Loading frame 475 of 769"
       ]
      },
      {
       "output_type": "stream",
       "stream": "stdout",
       "text": [
        "\r",
        "Loading frame 476 of 769"
       ]
      },
      {
       "output_type": "stream",
       "stream": "stdout",
       "text": [
        "\r",
        "Loading frame 477 of 769"
       ]
      },
      {
       "output_type": "stream",
       "stream": "stdout",
       "text": [
        "\r",
        "Loading frame 478 of 769"
       ]
      },
      {
       "output_type": "stream",
       "stream": "stdout",
       "text": [
        "\r",
        "Loading frame 479 of 769"
       ]
      },
      {
       "output_type": "stream",
       "stream": "stdout",
       "text": [
        "\r",
        "Loading frame 480 of 769"
       ]
      },
      {
       "output_type": "stream",
       "stream": "stdout",
       "text": [
        "\r",
        "Loading frame 481 of 769"
       ]
      },
      {
       "output_type": "stream",
       "stream": "stdout",
       "text": [
        "\r",
        "Loading frame 482 of 769"
       ]
      },
      {
       "output_type": "stream",
       "stream": "stdout",
       "text": [
        "\r",
        "Loading frame 483 of 769"
       ]
      },
      {
       "output_type": "stream",
       "stream": "stdout",
       "text": [
        "\r",
        "Loading frame 484 of 769"
       ]
      },
      {
       "output_type": "stream",
       "stream": "stdout",
       "text": [
        "\r",
        "Loading frame 485 of 769"
       ]
      },
      {
       "output_type": "stream",
       "stream": "stdout",
       "text": [
        "\r",
        "Loading frame 486 of 769"
       ]
      },
      {
       "output_type": "stream",
       "stream": "stdout",
       "text": [
        "\r",
        "Loading frame 487 of 769"
       ]
      },
      {
       "output_type": "stream",
       "stream": "stdout",
       "text": [
        "\r",
        "Loading frame 488 of 769"
       ]
      },
      {
       "output_type": "stream",
       "stream": "stdout",
       "text": [
        "\r",
        "Loading frame 489 of 769"
       ]
      },
      {
       "output_type": "stream",
       "stream": "stdout",
       "text": [
        "\r",
        "Loading frame 490 of 769"
       ]
      },
      {
       "output_type": "stream",
       "stream": "stdout",
       "text": [
        "\r",
        "Loading frame 491 of 769"
       ]
      },
      {
       "output_type": "stream",
       "stream": "stdout",
       "text": [
        "\r",
        "Loading frame 492 of 769"
       ]
      },
      {
       "output_type": "stream",
       "stream": "stdout",
       "text": [
        "\r",
        "Loading frame 493 of 769"
       ]
      },
      {
       "output_type": "stream",
       "stream": "stdout",
       "text": [
        "\r",
        "Loading frame 494 of 769"
       ]
      },
      {
       "output_type": "stream",
       "stream": "stdout",
       "text": [
        "\r",
        "Loading frame 495 of 769"
       ]
      },
      {
       "output_type": "stream",
       "stream": "stdout",
       "text": [
        "\r",
        "Loading frame 496 of 769"
       ]
      },
      {
       "output_type": "stream",
       "stream": "stdout",
       "text": [
        "\r",
        "Loading frame 497 of 769"
       ]
      },
      {
       "output_type": "stream",
       "stream": "stdout",
       "text": [
        "\r",
        "Loading frame 498 of 769"
       ]
      },
      {
       "output_type": "stream",
       "stream": "stdout",
       "text": [
        "\r",
        "Loading frame 499 of 769"
       ]
      },
      {
       "output_type": "stream",
       "stream": "stdout",
       "text": [
        "\r",
        "Loading frame 500 of 769"
       ]
      },
      {
       "output_type": "stream",
       "stream": "stdout",
       "text": [
        "\r",
        "Loading frame 501 of 769"
       ]
      },
      {
       "output_type": "stream",
       "stream": "stdout",
       "text": [
        "\r",
        "Loading frame 502 of 769"
       ]
      },
      {
       "output_type": "stream",
       "stream": "stdout",
       "text": [
        "\r",
        "Loading frame 503 of 769"
       ]
      },
      {
       "output_type": "stream",
       "stream": "stdout",
       "text": [
        "\r",
        "Loading frame 504 of 769"
       ]
      },
      {
       "output_type": "stream",
       "stream": "stdout",
       "text": [
        "\r",
        "Loading frame 505 of 769"
       ]
      },
      {
       "output_type": "stream",
       "stream": "stdout",
       "text": [
        "\r",
        "Loading frame 506 of 769"
       ]
      },
      {
       "output_type": "stream",
       "stream": "stdout",
       "text": [
        "\r",
        "Loading frame 507 of 769"
       ]
      },
      {
       "output_type": "stream",
       "stream": "stdout",
       "text": [
        "\r",
        "Loading frame 508 of 769"
       ]
      },
      {
       "output_type": "stream",
       "stream": "stdout",
       "text": [
        "\r",
        "Loading frame 509 of 769"
       ]
      },
      {
       "output_type": "stream",
       "stream": "stdout",
       "text": [
        "\r",
        "Loading frame 510 of 769"
       ]
      },
      {
       "output_type": "stream",
       "stream": "stdout",
       "text": [
        "\r",
        "Loading frame 511 of 769"
       ]
      },
      {
       "output_type": "stream",
       "stream": "stdout",
       "text": [
        "\r",
        "Loading frame 512 of 769"
       ]
      },
      {
       "output_type": "stream",
       "stream": "stdout",
       "text": [
        "\r",
        "Loading frame 513 of 769"
       ]
      },
      {
       "output_type": "stream",
       "stream": "stdout",
       "text": [
        "\r",
        "Loading frame 514 of 769"
       ]
      },
      {
       "output_type": "stream",
       "stream": "stdout",
       "text": [
        "\r",
        "Loading frame 515 of 769"
       ]
      },
      {
       "output_type": "stream",
       "stream": "stdout",
       "text": [
        "\r",
        "Loading frame 516 of 769"
       ]
      },
      {
       "output_type": "stream",
       "stream": "stdout",
       "text": [
        "\r",
        "Loading frame 517 of 769"
       ]
      },
      {
       "output_type": "stream",
       "stream": "stdout",
       "text": [
        "\r",
        "Loading frame 518 of 769"
       ]
      },
      {
       "output_type": "stream",
       "stream": "stdout",
       "text": [
        "\r",
        "Loading frame 519 of 769"
       ]
      },
      {
       "output_type": "stream",
       "stream": "stdout",
       "text": [
        "\r",
        "Loading frame 520 of 769"
       ]
      },
      {
       "output_type": "stream",
       "stream": "stdout",
       "text": [
        "\r",
        "Loading frame 521 of 769"
       ]
      },
      {
       "output_type": "stream",
       "stream": "stdout",
       "text": [
        "\r",
        "Loading frame 522 of 769"
       ]
      },
      {
       "output_type": "stream",
       "stream": "stdout",
       "text": [
        "\r",
        "Loading frame 523 of 769"
       ]
      },
      {
       "output_type": "stream",
       "stream": "stdout",
       "text": [
        "\r",
        "Loading frame 524 of 769"
       ]
      },
      {
       "output_type": "stream",
       "stream": "stdout",
       "text": [
        "\r",
        "Loading frame 525 of 769"
       ]
      },
      {
       "output_type": "stream",
       "stream": "stdout",
       "text": [
        "\r",
        "Loading frame 526 of 769"
       ]
      },
      {
       "output_type": "stream",
       "stream": "stdout",
       "text": [
        "\r",
        "Loading frame 527 of 769"
       ]
      },
      {
       "output_type": "stream",
       "stream": "stdout",
       "text": [
        "\r",
        "Loading frame 528 of 769"
       ]
      },
      {
       "output_type": "stream",
       "stream": "stdout",
       "text": [
        "\r",
        "Loading frame 529 of 769"
       ]
      },
      {
       "output_type": "stream",
       "stream": "stdout",
       "text": [
        "\r",
        "Loading frame 530 of 769"
       ]
      },
      {
       "output_type": "stream",
       "stream": "stdout",
       "text": [
        "\r",
        "Loading frame 531 of 769"
       ]
      },
      {
       "output_type": "stream",
       "stream": "stdout",
       "text": [
        "\r",
        "Loading frame 532 of 769"
       ]
      },
      {
       "output_type": "stream",
       "stream": "stdout",
       "text": [
        "\r",
        "Loading frame 533 of 769"
       ]
      },
      {
       "output_type": "stream",
       "stream": "stdout",
       "text": [
        "\r",
        "Loading frame 534 of 769"
       ]
      },
      {
       "output_type": "stream",
       "stream": "stdout",
       "text": [
        "\r",
        "Loading frame 535 of 769"
       ]
      },
      {
       "output_type": "stream",
       "stream": "stdout",
       "text": [
        "\r",
        "Loading frame 536 of 769"
       ]
      },
      {
       "output_type": "stream",
       "stream": "stdout",
       "text": [
        "\r",
        "Loading frame 537 of 769"
       ]
      },
      {
       "output_type": "stream",
       "stream": "stdout",
       "text": [
        "\r",
        "Loading frame 538 of 769"
       ]
      },
      {
       "output_type": "stream",
       "stream": "stdout",
       "text": [
        "\r",
        "Loading frame 539 of 769"
       ]
      },
      {
       "output_type": "stream",
       "stream": "stdout",
       "text": [
        "\r",
        "Loading frame 540 of 769"
       ]
      },
      {
       "output_type": "stream",
       "stream": "stdout",
       "text": [
        "\r",
        "Loading frame 541 of 769"
       ]
      },
      {
       "output_type": "stream",
       "stream": "stdout",
       "text": [
        "\r",
        "Loading frame 542 of 769"
       ]
      },
      {
       "output_type": "stream",
       "stream": "stdout",
       "text": [
        "\r",
        "Loading frame 543 of 769"
       ]
      },
      {
       "output_type": "stream",
       "stream": "stdout",
       "text": [
        "\r",
        "Loading frame 544 of 769"
       ]
      },
      {
       "output_type": "stream",
       "stream": "stdout",
       "text": [
        "\r",
        "Loading frame 545 of 769"
       ]
      },
      {
       "output_type": "stream",
       "stream": "stdout",
       "text": [
        "\r",
        "Loading frame 546 of 769"
       ]
      },
      {
       "output_type": "stream",
       "stream": "stdout",
       "text": [
        "\r",
        "Loading frame 547 of 769"
       ]
      },
      {
       "output_type": "stream",
       "stream": "stdout",
       "text": [
        "\r",
        "Loading frame 548 of 769"
       ]
      },
      {
       "output_type": "stream",
       "stream": "stdout",
       "text": [
        "\r",
        "Loading frame 549 of 769"
       ]
      },
      {
       "output_type": "stream",
       "stream": "stdout",
       "text": [
        "\r",
        "Loading frame 550 of 769"
       ]
      },
      {
       "output_type": "stream",
       "stream": "stdout",
       "text": [
        "\r",
        "Loading frame 551 of 769"
       ]
      },
      {
       "output_type": "stream",
       "stream": "stdout",
       "text": [
        "\r",
        "Loading frame 552 of 769"
       ]
      },
      {
       "output_type": "stream",
       "stream": "stdout",
       "text": [
        "\r",
        "Loading frame 553 of 769"
       ]
      },
      {
       "output_type": "stream",
       "stream": "stdout",
       "text": [
        "\r",
        "Loading frame 554 of 769"
       ]
      },
      {
       "output_type": "stream",
       "stream": "stdout",
       "text": [
        "\r",
        "Loading frame 555 of 769"
       ]
      },
      {
       "output_type": "stream",
       "stream": "stdout",
       "text": [
        "\r",
        "Loading frame 556 of 769"
       ]
      },
      {
       "output_type": "stream",
       "stream": "stdout",
       "text": [
        "\r",
        "Loading frame 557 of 769"
       ]
      },
      {
       "output_type": "stream",
       "stream": "stdout",
       "text": [
        "\r",
        "Loading frame 558 of 769"
       ]
      },
      {
       "output_type": "stream",
       "stream": "stdout",
       "text": [
        "\r",
        "Loading frame 559 of 769"
       ]
      },
      {
       "output_type": "stream",
       "stream": "stdout",
       "text": [
        "\r",
        "Loading frame 560 of 769"
       ]
      },
      {
       "output_type": "stream",
       "stream": "stdout",
       "text": [
        "\r",
        "Loading frame 561 of 769"
       ]
      },
      {
       "output_type": "stream",
       "stream": "stdout",
       "text": [
        "\r",
        "Loading frame 562 of 769"
       ]
      },
      {
       "output_type": "stream",
       "stream": "stdout",
       "text": [
        "\r",
        "Loading frame 563 of 769"
       ]
      },
      {
       "output_type": "stream",
       "stream": "stdout",
       "text": [
        "\r",
        "Loading frame 564 of 769"
       ]
      },
      {
       "output_type": "stream",
       "stream": "stdout",
       "text": [
        "\r",
        "Loading frame 565 of 769"
       ]
      },
      {
       "output_type": "stream",
       "stream": "stdout",
       "text": [
        "\r",
        "Loading frame 566 of 769"
       ]
      },
      {
       "output_type": "stream",
       "stream": "stdout",
       "text": [
        "\r",
        "Loading frame 567 of 769"
       ]
      },
      {
       "output_type": "stream",
       "stream": "stdout",
       "text": [
        "\r",
        "Loading frame 568 of 769"
       ]
      },
      {
       "output_type": "stream",
       "stream": "stdout",
       "text": [
        "\r",
        "Loading frame 569 of 769"
       ]
      },
      {
       "output_type": "stream",
       "stream": "stdout",
       "text": [
        "\r",
        "Loading frame 570 of 769"
       ]
      },
      {
       "output_type": "stream",
       "stream": "stdout",
       "text": [
        "\r",
        "Loading frame 571 of 769"
       ]
      },
      {
       "output_type": "stream",
       "stream": "stdout",
       "text": [
        "\r",
        "Loading frame 572 of 769"
       ]
      },
      {
       "output_type": "stream",
       "stream": "stdout",
       "text": [
        "\r",
        "Loading frame 573 of 769"
       ]
      },
      {
       "output_type": "stream",
       "stream": "stdout",
       "text": [
        "\r",
        "Loading frame 574 of 769"
       ]
      },
      {
       "output_type": "stream",
       "stream": "stdout",
       "text": [
        "\r",
        "Loading frame 575 of 769"
       ]
      },
      {
       "output_type": "stream",
       "stream": "stdout",
       "text": [
        "\r",
        "Loading frame 576 of 769"
       ]
      },
      {
       "output_type": "stream",
       "stream": "stdout",
       "text": [
        "\r",
        "Loading frame 577 of 769"
       ]
      },
      {
       "output_type": "stream",
       "stream": "stdout",
       "text": [
        "\r",
        "Loading frame 578 of 769"
       ]
      },
      {
       "output_type": "stream",
       "stream": "stdout",
       "text": [
        "\r",
        "Loading frame 579 of 769"
       ]
      },
      {
       "output_type": "stream",
       "stream": "stdout",
       "text": [
        "\r",
        "Loading frame 580 of 769"
       ]
      },
      {
       "output_type": "stream",
       "stream": "stdout",
       "text": [
        "\r",
        "Loading frame 581 of 769"
       ]
      },
      {
       "output_type": "stream",
       "stream": "stdout",
       "text": [
        "\r",
        "Loading frame 582 of 769"
       ]
      },
      {
       "output_type": "stream",
       "stream": "stdout",
       "text": [
        "\r",
        "Loading frame 583 of 769"
       ]
      },
      {
       "output_type": "stream",
       "stream": "stdout",
       "text": [
        "\r",
        "Loading frame 584 of 769"
       ]
      },
      {
       "output_type": "stream",
       "stream": "stdout",
       "text": [
        "\r",
        "Loading frame 585 of 769"
       ]
      },
      {
       "output_type": "stream",
       "stream": "stdout",
       "text": [
        "\r",
        "Loading frame 586 of 769"
       ]
      },
      {
       "output_type": "stream",
       "stream": "stdout",
       "text": [
        "\r",
        "Loading frame 587 of 769"
       ]
      },
      {
       "output_type": "stream",
       "stream": "stdout",
       "text": [
        "\r",
        "Loading frame 588 of 769"
       ]
      },
      {
       "output_type": "stream",
       "stream": "stdout",
       "text": [
        "\r",
        "Loading frame 589 of 769"
       ]
      },
      {
       "output_type": "stream",
       "stream": "stdout",
       "text": [
        "\r",
        "Loading frame 590 of 769"
       ]
      },
      {
       "output_type": "stream",
       "stream": "stdout",
       "text": [
        "\r",
        "Loading frame 591 of 769"
       ]
      },
      {
       "output_type": "stream",
       "stream": "stdout",
       "text": [
        "\r",
        "Loading frame 592 of 769"
       ]
      },
      {
       "output_type": "stream",
       "stream": "stdout",
       "text": [
        "\r",
        "Loading frame 593 of 769"
       ]
      },
      {
       "output_type": "stream",
       "stream": "stdout",
       "text": [
        "\r",
        "Loading frame 594 of 769"
       ]
      },
      {
       "output_type": "stream",
       "stream": "stdout",
       "text": [
        "\r",
        "Loading frame 595 of 769"
       ]
      },
      {
       "output_type": "stream",
       "stream": "stdout",
       "text": [
        "\r",
        "Loading frame 596 of 769"
       ]
      },
      {
       "output_type": "stream",
       "stream": "stdout",
       "text": [
        "\r",
        "Loading frame 597 of 769"
       ]
      },
      {
       "output_type": "stream",
       "stream": "stdout",
       "text": [
        "\r",
        "Loading frame 598 of 769"
       ]
      },
      {
       "output_type": "stream",
       "stream": "stdout",
       "text": [
        "\r",
        "Loading frame 599 of 769"
       ]
      },
      {
       "output_type": "stream",
       "stream": "stdout",
       "text": [
        "\r",
        "Loading frame 600 of 769"
       ]
      },
      {
       "output_type": "stream",
       "stream": "stdout",
       "text": [
        "\r",
        "Loading frame 601 of 769"
       ]
      },
      {
       "output_type": "stream",
       "stream": "stdout",
       "text": [
        "\r",
        "Loading frame 602 of 769"
       ]
      },
      {
       "output_type": "stream",
       "stream": "stdout",
       "text": [
        "\r",
        "Loading frame 603 of 769"
       ]
      },
      {
       "output_type": "stream",
       "stream": "stdout",
       "text": [
        "\r",
        "Loading frame 604 of 769"
       ]
      },
      {
       "output_type": "stream",
       "stream": "stdout",
       "text": [
        "\r",
        "Loading frame 605 of 769"
       ]
      },
      {
       "output_type": "stream",
       "stream": "stdout",
       "text": [
        "\r",
        "Loading frame 606 of 769"
       ]
      },
      {
       "output_type": "stream",
       "stream": "stdout",
       "text": [
        "\r",
        "Loading frame 607 of 769"
       ]
      },
      {
       "output_type": "stream",
       "stream": "stdout",
       "text": [
        "\r",
        "Loading frame 608 of 769"
       ]
      },
      {
       "output_type": "stream",
       "stream": "stdout",
       "text": [
        "\r",
        "Loading frame 609 of 769"
       ]
      },
      {
       "output_type": "stream",
       "stream": "stdout",
       "text": [
        "\r",
        "Loading frame 610 of 769"
       ]
      },
      {
       "output_type": "stream",
       "stream": "stdout",
       "text": [
        "\r",
        "Loading frame 611 of 769"
       ]
      },
      {
       "output_type": "stream",
       "stream": "stdout",
       "text": [
        "\r",
        "Loading frame 612 of 769"
       ]
      },
      {
       "output_type": "stream",
       "stream": "stdout",
       "text": [
        "\r",
        "Loading frame 613 of 769"
       ]
      },
      {
       "output_type": "stream",
       "stream": "stdout",
       "text": [
        "\r",
        "Loading frame 614 of 769"
       ]
      },
      {
       "output_type": "stream",
       "stream": "stdout",
       "text": [
        "\r",
        "Loading frame 615 of 769"
       ]
      },
      {
       "output_type": "stream",
       "stream": "stdout",
       "text": [
        "\r",
        "Loading frame 616 of 769"
       ]
      },
      {
       "output_type": "stream",
       "stream": "stdout",
       "text": [
        "\r",
        "Loading frame 617 of 769"
       ]
      },
      {
       "output_type": "stream",
       "stream": "stdout",
       "text": [
        "\r",
        "Loading frame 618 of 769"
       ]
      },
      {
       "output_type": "stream",
       "stream": "stdout",
       "text": [
        "\r",
        "Loading frame 619 of 769"
       ]
      },
      {
       "output_type": "stream",
       "stream": "stdout",
       "text": [
        "\r",
        "Loading frame 620 of 769"
       ]
      },
      {
       "output_type": "stream",
       "stream": "stdout",
       "text": [
        "\r",
        "Loading frame 621 of 769"
       ]
      },
      {
       "output_type": "stream",
       "stream": "stdout",
       "text": [
        "\r",
        "Loading frame 622 of 769"
       ]
      },
      {
       "output_type": "stream",
       "stream": "stdout",
       "text": [
        "\r",
        "Loading frame 623 of 769"
       ]
      },
      {
       "output_type": "stream",
       "stream": "stdout",
       "text": [
        "\r",
        "Loading frame 624 of 769"
       ]
      },
      {
       "output_type": "stream",
       "stream": "stdout",
       "text": [
        "\r",
        "Loading frame 625 of 769"
       ]
      },
      {
       "output_type": "stream",
       "stream": "stdout",
       "text": [
        "\r",
        "Loading frame 626 of 769"
       ]
      },
      {
       "output_type": "stream",
       "stream": "stdout",
       "text": [
        "\r",
        "Loading frame 627 of 769"
       ]
      },
      {
       "output_type": "stream",
       "stream": "stdout",
       "text": [
        "\r",
        "Loading frame 628 of 769"
       ]
      },
      {
       "output_type": "stream",
       "stream": "stdout",
       "text": [
        "\r",
        "Loading frame 629 of 769"
       ]
      },
      {
       "output_type": "stream",
       "stream": "stdout",
       "text": [
        "\r",
        "Loading frame 630 of 769"
       ]
      },
      {
       "output_type": "stream",
       "stream": "stdout",
       "text": [
        "\r",
        "Loading frame 631 of 769"
       ]
      },
      {
       "output_type": "stream",
       "stream": "stdout",
       "text": [
        "\r",
        "Loading frame 632 of 769"
       ]
      },
      {
       "output_type": "stream",
       "stream": "stdout",
       "text": [
        "\r",
        "Loading frame 633 of 769"
       ]
      },
      {
       "output_type": "stream",
       "stream": "stdout",
       "text": [
        "\r",
        "Loading frame 634 of 769"
       ]
      },
      {
       "output_type": "stream",
       "stream": "stdout",
       "text": [
        "\r",
        "Loading frame 635 of 769"
       ]
      },
      {
       "output_type": "stream",
       "stream": "stdout",
       "text": [
        "\r",
        "Loading frame 636 of 769"
       ]
      },
      {
       "output_type": "stream",
       "stream": "stdout",
       "text": [
        "\r",
        "Loading frame 637 of 769"
       ]
      },
      {
       "output_type": "stream",
       "stream": "stdout",
       "text": [
        "\r",
        "Loading frame 638 of 769"
       ]
      },
      {
       "output_type": "stream",
       "stream": "stdout",
       "text": [
        "\r",
        "Loading frame 639 of 769"
       ]
      },
      {
       "output_type": "stream",
       "stream": "stdout",
       "text": [
        "\r",
        "Loading frame 640 of 769"
       ]
      },
      {
       "output_type": "stream",
       "stream": "stdout",
       "text": [
        "\r",
        "Loading frame 641 of 769"
       ]
      },
      {
       "output_type": "stream",
       "stream": "stdout",
       "text": [
        "\r",
        "Loading frame 642 of 769"
       ]
      },
      {
       "output_type": "stream",
       "stream": "stdout",
       "text": [
        "\r",
        "Loading frame 643 of 769"
       ]
      },
      {
       "output_type": "stream",
       "stream": "stdout",
       "text": [
        "\r",
        "Loading frame 644 of 769"
       ]
      },
      {
       "output_type": "stream",
       "stream": "stdout",
       "text": [
        "\r",
        "Loading frame 645 of 769"
       ]
      },
      {
       "output_type": "stream",
       "stream": "stdout",
       "text": [
        "\r",
        "Loading frame 646 of 769"
       ]
      },
      {
       "output_type": "stream",
       "stream": "stdout",
       "text": [
        "\r",
        "Loading frame 647 of 769"
       ]
      },
      {
       "output_type": "stream",
       "stream": "stdout",
       "text": [
        "\r",
        "Loading frame 648 of 769"
       ]
      },
      {
       "output_type": "stream",
       "stream": "stdout",
       "text": [
        "\r",
        "Loading frame 649 of 769"
       ]
      },
      {
       "output_type": "stream",
       "stream": "stdout",
       "text": [
        "\r",
        "Loading frame 650 of 769"
       ]
      },
      {
       "output_type": "stream",
       "stream": "stdout",
       "text": [
        "\r",
        "Loading frame 651 of 769"
       ]
      },
      {
       "output_type": "stream",
       "stream": "stdout",
       "text": [
        "\r",
        "Loading frame 652 of 769"
       ]
      },
      {
       "output_type": "stream",
       "stream": "stdout",
       "text": [
        "\r",
        "Loading frame 653 of 769"
       ]
      },
      {
       "output_type": "stream",
       "stream": "stdout",
       "text": [
        "\r",
        "Loading frame 654 of 769"
       ]
      },
      {
       "output_type": "stream",
       "stream": "stdout",
       "text": [
        "\r",
        "Loading frame 655 of 769"
       ]
      },
      {
       "output_type": "stream",
       "stream": "stdout",
       "text": [
        "\r",
        "Loading frame 656 of 769"
       ]
      },
      {
       "output_type": "stream",
       "stream": "stdout",
       "text": [
        "\r",
        "Loading frame 657 of 769"
       ]
      },
      {
       "output_type": "stream",
       "stream": "stdout",
       "text": [
        "\r",
        "Loading frame 658 of 769"
       ]
      },
      {
       "output_type": "stream",
       "stream": "stdout",
       "text": [
        "\r",
        "Loading frame 659 of 769"
       ]
      },
      {
       "output_type": "stream",
       "stream": "stdout",
       "text": [
        "\r",
        "Loading frame 660 of 769"
       ]
      },
      {
       "output_type": "stream",
       "stream": "stdout",
       "text": [
        "\r",
        "Loading frame 661 of 769"
       ]
      },
      {
       "output_type": "stream",
       "stream": "stdout",
       "text": [
        "\r",
        "Loading frame 662 of 769"
       ]
      },
      {
       "output_type": "stream",
       "stream": "stdout",
       "text": [
        "\r",
        "Loading frame 663 of 769"
       ]
      },
      {
       "output_type": "stream",
       "stream": "stdout",
       "text": [
        "\r",
        "Loading frame 664 of 769"
       ]
      },
      {
       "output_type": "stream",
       "stream": "stdout",
       "text": [
        "\r",
        "Loading frame 665 of 769"
       ]
      },
      {
       "output_type": "stream",
       "stream": "stdout",
       "text": [
        "\r",
        "Loading frame 666 of 769"
       ]
      },
      {
       "output_type": "stream",
       "stream": "stdout",
       "text": [
        "\r",
        "Loading frame 667 of 769"
       ]
      },
      {
       "output_type": "stream",
       "stream": "stdout",
       "text": [
        "\r",
        "Loading frame 668 of 769"
       ]
      },
      {
       "output_type": "stream",
       "stream": "stdout",
       "text": [
        "\r",
        "Loading frame 669 of 769"
       ]
      },
      {
       "output_type": "stream",
       "stream": "stdout",
       "text": [
        "\r",
        "Loading frame 670 of 769"
       ]
      },
      {
       "output_type": "stream",
       "stream": "stdout",
       "text": [
        "\r",
        "Loading frame 671 of 769"
       ]
      },
      {
       "output_type": "stream",
       "stream": "stdout",
       "text": [
        "\r",
        "Loading frame 672 of 769"
       ]
      },
      {
       "output_type": "stream",
       "stream": "stdout",
       "text": [
        "\r",
        "Loading frame 673 of 769"
       ]
      },
      {
       "output_type": "stream",
       "stream": "stdout",
       "text": [
        "\r",
        "Loading frame 674 of 769"
       ]
      },
      {
       "output_type": "stream",
       "stream": "stdout",
       "text": [
        "\r",
        "Loading frame 675 of 769"
       ]
      },
      {
       "output_type": "stream",
       "stream": "stdout",
       "text": [
        "\r",
        "Loading frame 676 of 769"
       ]
      },
      {
       "output_type": "stream",
       "stream": "stdout",
       "text": [
        "\r",
        "Loading frame 677 of 769"
       ]
      },
      {
       "output_type": "stream",
       "stream": "stdout",
       "text": [
        "\r",
        "Loading frame 678 of 769"
       ]
      },
      {
       "output_type": "stream",
       "stream": "stdout",
       "text": [
        "\r",
        "Loading frame 679 of 769"
       ]
      },
      {
       "output_type": "stream",
       "stream": "stdout",
       "text": [
        "\r",
        "Loading frame 680 of 769"
       ]
      },
      {
       "output_type": "stream",
       "stream": "stdout",
       "text": [
        "\r",
        "Loading frame 681 of 769"
       ]
      },
      {
       "output_type": "stream",
       "stream": "stdout",
       "text": [
        "\r",
        "Loading frame 682 of 769"
       ]
      },
      {
       "output_type": "stream",
       "stream": "stdout",
       "text": [
        "\r",
        "Loading frame 683 of 769"
       ]
      },
      {
       "output_type": "stream",
       "stream": "stdout",
       "text": [
        "\r",
        "Loading frame 684 of 769"
       ]
      },
      {
       "output_type": "stream",
       "stream": "stdout",
       "text": [
        "\r",
        "Loading frame 685 of 769"
       ]
      },
      {
       "output_type": "stream",
       "stream": "stdout",
       "text": [
        "\r",
        "Loading frame 686 of 769"
       ]
      },
      {
       "output_type": "stream",
       "stream": "stdout",
       "text": [
        "\r",
        "Loading frame 687 of 769"
       ]
      },
      {
       "output_type": "stream",
       "stream": "stdout",
       "text": [
        "\r",
        "Loading frame 688 of 769"
       ]
      },
      {
       "output_type": "stream",
       "stream": "stdout",
       "text": [
        "\r",
        "Loading frame 689 of 769"
       ]
      },
      {
       "output_type": "stream",
       "stream": "stdout",
       "text": [
        "\r",
        "Loading frame 690 of 769"
       ]
      },
      {
       "output_type": "stream",
       "stream": "stdout",
       "text": [
        "\r",
        "Loading frame 691 of 769"
       ]
      },
      {
       "output_type": "stream",
       "stream": "stdout",
       "text": [
        "\r",
        "Loading frame 692 of 769"
       ]
      },
      {
       "output_type": "stream",
       "stream": "stdout",
       "text": [
        "\r",
        "Loading frame 693 of 769"
       ]
      },
      {
       "output_type": "stream",
       "stream": "stdout",
       "text": [
        "\r",
        "Loading frame 694 of 769"
       ]
      },
      {
       "output_type": "stream",
       "stream": "stdout",
       "text": [
        "\r",
        "Loading frame 695 of 769"
       ]
      },
      {
       "output_type": "stream",
       "stream": "stdout",
       "text": [
        "\r",
        "Loading frame 696 of 769"
       ]
      },
      {
       "output_type": "stream",
       "stream": "stdout",
       "text": [
        "\r",
        "Loading frame 697 of 769"
       ]
      },
      {
       "output_type": "stream",
       "stream": "stdout",
       "text": [
        "\r",
        "Loading frame 698 of 769"
       ]
      },
      {
       "output_type": "stream",
       "stream": "stdout",
       "text": [
        "\r",
        "Loading frame 699 of 769"
       ]
      },
      {
       "output_type": "stream",
       "stream": "stdout",
       "text": [
        "\r",
        "Loading frame 700 of 769"
       ]
      },
      {
       "output_type": "stream",
       "stream": "stdout",
       "text": [
        "\r",
        "Loading frame 701 of 769"
       ]
      },
      {
       "output_type": "stream",
       "stream": "stdout",
       "text": [
        "\r",
        "Loading frame 702 of 769"
       ]
      },
      {
       "output_type": "stream",
       "stream": "stdout",
       "text": [
        "\r",
        "Loading frame 703 of 769"
       ]
      },
      {
       "output_type": "stream",
       "stream": "stdout",
       "text": [
        "\r",
        "Loading frame 704 of 769"
       ]
      },
      {
       "output_type": "stream",
       "stream": "stdout",
       "text": [
        "\r",
        "Loading frame 705 of 769"
       ]
      },
      {
       "output_type": "stream",
       "stream": "stdout",
       "text": [
        "\r",
        "Loading frame 706 of 769"
       ]
      },
      {
       "output_type": "stream",
       "stream": "stdout",
       "text": [
        "\r",
        "Loading frame 707 of 769"
       ]
      },
      {
       "output_type": "stream",
       "stream": "stdout",
       "text": [
        "\r",
        "Loading frame 708 of 769"
       ]
      },
      {
       "output_type": "stream",
       "stream": "stdout",
       "text": [
        "\r",
        "Loading frame 709 of 769"
       ]
      },
      {
       "output_type": "stream",
       "stream": "stdout",
       "text": [
        "\r",
        "Loading frame 710 of 769"
       ]
      },
      {
       "output_type": "stream",
       "stream": "stdout",
       "text": [
        "\r",
        "Loading frame 711 of 769"
       ]
      },
      {
       "output_type": "stream",
       "stream": "stdout",
       "text": [
        "\r",
        "Loading frame 712 of 769"
       ]
      },
      {
       "output_type": "stream",
       "stream": "stdout",
       "text": [
        "\r",
        "Loading frame 713 of 769"
       ]
      },
      {
       "output_type": "stream",
       "stream": "stdout",
       "text": [
        "\r",
        "Loading frame 714 of 769"
       ]
      },
      {
       "output_type": "stream",
       "stream": "stdout",
       "text": [
        "\r",
        "Loading frame 715 of 769"
       ]
      },
      {
       "output_type": "stream",
       "stream": "stdout",
       "text": [
        "\r",
        "Loading frame 716 of 769"
       ]
      },
      {
       "output_type": "stream",
       "stream": "stdout",
       "text": [
        "\r",
        "Loading frame 717 of 769"
       ]
      },
      {
       "output_type": "stream",
       "stream": "stdout",
       "text": [
        "\r",
        "Loading frame 718 of 769"
       ]
      },
      {
       "output_type": "stream",
       "stream": "stdout",
       "text": [
        "\r",
        "Loading frame 719 of 769"
       ]
      },
      {
       "output_type": "stream",
       "stream": "stdout",
       "text": [
        "\r",
        "Loading frame 720 of 769"
       ]
      },
      {
       "output_type": "stream",
       "stream": "stdout",
       "text": [
        "\r",
        "Loading frame 721 of 769"
       ]
      },
      {
       "output_type": "stream",
       "stream": "stdout",
       "text": [
        "\r",
        "Loading frame 722 of 769"
       ]
      },
      {
       "output_type": "stream",
       "stream": "stdout",
       "text": [
        "\r",
        "Loading frame 723 of 769"
       ]
      },
      {
       "output_type": "stream",
       "stream": "stdout",
       "text": [
        "\r",
        "Loading frame 724 of 769"
       ]
      },
      {
       "output_type": "stream",
       "stream": "stdout",
       "text": [
        "\r",
        "Loading frame 725 of 769"
       ]
      },
      {
       "output_type": "stream",
       "stream": "stdout",
       "text": [
        "\r",
        "Loading frame 726 of 769"
       ]
      },
      {
       "output_type": "stream",
       "stream": "stdout",
       "text": [
        "\r",
        "Loading frame 727 of 769"
       ]
      },
      {
       "output_type": "stream",
       "stream": "stdout",
       "text": [
        "\r",
        "Loading frame 728 of 769"
       ]
      },
      {
       "output_type": "stream",
       "stream": "stdout",
       "text": [
        "\r",
        "Loading frame 729 of 769"
       ]
      },
      {
       "output_type": "stream",
       "stream": "stdout",
       "text": [
        "\r",
        "Loading frame 730 of 769"
       ]
      },
      {
       "output_type": "stream",
       "stream": "stdout",
       "text": [
        "\r",
        "Loading frame 731 of 769"
       ]
      },
      {
       "output_type": "stream",
       "stream": "stdout",
       "text": [
        "\r",
        "Loading frame 732 of 769"
       ]
      },
      {
       "output_type": "stream",
       "stream": "stdout",
       "text": [
        "\r",
        "Loading frame 733 of 769"
       ]
      },
      {
       "output_type": "stream",
       "stream": "stdout",
       "text": [
        "\r",
        "Loading frame 734 of 769"
       ]
      },
      {
       "output_type": "stream",
       "stream": "stdout",
       "text": [
        "\r",
        "Loading frame 735 of 769"
       ]
      },
      {
       "output_type": "stream",
       "stream": "stdout",
       "text": [
        "\r",
        "Loading frame 736 of 769"
       ]
      },
      {
       "output_type": "stream",
       "stream": "stdout",
       "text": [
        "\r",
        "Loading frame 737 of 769"
       ]
      },
      {
       "output_type": "stream",
       "stream": "stdout",
       "text": [
        "\r",
        "Loading frame 738 of 769"
       ]
      },
      {
       "output_type": "stream",
       "stream": "stdout",
       "text": [
        "\r",
        "Loading frame 739 of 769"
       ]
      },
      {
       "output_type": "stream",
       "stream": "stdout",
       "text": [
        "\r",
        "Loading frame 740 of 769"
       ]
      },
      {
       "output_type": "stream",
       "stream": "stdout",
       "text": [
        "\r",
        "Loading frame 741 of 769"
       ]
      },
      {
       "output_type": "stream",
       "stream": "stdout",
       "text": [
        "\r",
        "Loading frame 742 of 769"
       ]
      },
      {
       "output_type": "stream",
       "stream": "stdout",
       "text": [
        "\r",
        "Loading frame 743 of 769"
       ]
      },
      {
       "output_type": "stream",
       "stream": "stdout",
       "text": [
        "\r",
        "Loading frame 744 of 769"
       ]
      },
      {
       "output_type": "stream",
       "stream": "stdout",
       "text": [
        "\r",
        "Loading frame 745 of 769"
       ]
      },
      {
       "output_type": "stream",
       "stream": "stdout",
       "text": [
        "\r",
        "Loading frame 746 of 769"
       ]
      },
      {
       "output_type": "stream",
       "stream": "stdout",
       "text": [
        "\r",
        "Loading frame 747 of 769"
       ]
      },
      {
       "output_type": "stream",
       "stream": "stdout",
       "text": [
        "\r",
        "Loading frame 748 of 769"
       ]
      },
      {
       "output_type": "stream",
       "stream": "stdout",
       "text": [
        "\r",
        "Loading frame 749 of 769"
       ]
      },
      {
       "output_type": "stream",
       "stream": "stdout",
       "text": [
        "\r",
        "Loading frame 750 of 769"
       ]
      },
      {
       "output_type": "stream",
       "stream": "stdout",
       "text": [
        "\r",
        "Loading frame 751 of 769"
       ]
      },
      {
       "output_type": "stream",
       "stream": "stdout",
       "text": [
        "\r",
        "Loading frame 752 of 769"
       ]
      },
      {
       "output_type": "stream",
       "stream": "stdout",
       "text": [
        "\r",
        "Loading frame 753 of 769"
       ]
      },
      {
       "output_type": "stream",
       "stream": "stdout",
       "text": [
        "\r",
        "Loading frame 754 of 769"
       ]
      },
      {
       "output_type": "stream",
       "stream": "stdout",
       "text": [
        "\r",
        "Loading frame 755 of 769"
       ]
      },
      {
       "output_type": "stream",
       "stream": "stdout",
       "text": [
        "\r",
        "Loading frame 756 of 769"
       ]
      },
      {
       "output_type": "stream",
       "stream": "stdout",
       "text": [
        "\r",
        "Loading frame 757 of 769"
       ]
      },
      {
       "output_type": "stream",
       "stream": "stdout",
       "text": [
        "\r",
        "Loading frame 758 of 769"
       ]
      },
      {
       "output_type": "stream",
       "stream": "stdout",
       "text": [
        "\r",
        "Loading frame 759 of 769"
       ]
      },
      {
       "output_type": "stream",
       "stream": "stdout",
       "text": [
        "\r",
        "Loading frame 760 of 769"
       ]
      },
      {
       "output_type": "stream",
       "stream": "stdout",
       "text": [
        "\r",
        "Loading frame 761 of 769"
       ]
      },
      {
       "output_type": "stream",
       "stream": "stdout",
       "text": [
        "\r",
        "Loading frame 762 of 769"
       ]
      },
      {
       "output_type": "stream",
       "stream": "stdout",
       "text": [
        "\r",
        "Loading frame 763 of 769"
       ]
      },
      {
       "output_type": "stream",
       "stream": "stdout",
       "text": [
        "\r",
        "Loading frame 764 of 769"
       ]
      },
      {
       "output_type": "stream",
       "stream": "stdout",
       "text": [
        "\r",
        "Loading frame 765 of 769"
       ]
      },
      {
       "output_type": "stream",
       "stream": "stdout",
       "text": [
        "\r",
        "Loading frame 766 of 769"
       ]
      },
      {
       "output_type": "stream",
       "stream": "stdout",
       "text": [
        "\r",
        "Loading frame 767 of 769"
       ]
      },
      {
       "output_type": "stream",
       "stream": "stdout",
       "text": [
        "\r",
        "Loading frame 768 of 769"
       ]
      }
     ],
     "prompt_number": 13
    },
    {
     "cell_type": "code",
     "collapsed": false,
     "input": [
      "## plot 2d camera locations\n",
      "fig = plt.figure(figsize=(10, 10))\n",
      "\n",
      "ax = fig.add_subplot(111)\n",
      "ax.set_xlabel('X')\n",
      "ax.set_ylabel('Y')\n",
      "\n",
      "## set axis range\n",
      "ax.set_autoscale_on(False)\n",
      "ax.set_xlim([-40.0,20.0])\n",
      "ax.set_ylim([-40.0,20.0])\n",
      "\n",
      "\n",
      "# plot fitted lines\n",
      "for line in lines : \n",
      "    color = \"#\" + random.choice(colVals) + random.choice(colVals) + random.choice(colVals) + random.choice(colVals) + random.choice(colVals) + random.choice(colVals)\n",
      "    p1 = line[2:4]+200*line[0:2]\n",
      "    p2 = line[2:4]-200*line[0:2]\n",
      "    ax.plot([p1[0], p2[0]], [p1[1], p2[1]], c=color)\n",
      "\n",
      "\n",
      "## plot outliers\n",
      "# ax.plot(cameraLocs2D[np.hstack(outliers), 0], cameraLocs2D[np.hstack(outliers), 1], marker='o', color='r', ls='-')\n",
      "\n",
      "# ## plot straights\n",
      "# for straight in straights :\n",
      "#     ax.plot(cameraLocs2D[np.hstack(straight), 0], cameraLocs2D[np.hstack(straight), 1], marker='o', color='r', ls=' ')\n",
      "# ## plot turns\n",
      "# for turn in turns :\n",
      "#     ax.plot(cameraLocs2D[np.hstack(turn), 0], cameraLocs2D[np.hstack(turn), 1], marker='o', color='b', ls=' ')\n",
      "\n",
      "# plane = pm.fitPlane(cameras[:, 4:7])\n",
      "\n",
      "# n = plane[0:3]\n",
      "# p = plane[3:6]\n",
      "\n",
      "for i in xrange(0, len(cameraLocs2D), 10) :\n",
      "    rotation = msu.qToR(cameras[i, 0:4]).T # take transpose of result of qToR\n",
      "    ## HACK for the computation of transf\n",
      "    transf = np.hstack([np.array(np.vstack([rotation, np.zeros(3)])), np.array(([cameraLocs2D[i, 0]], [0], [cameraLocs2D[i, 1]], [1]))]) # 4x4 transformation matrix\n",
      "    tmp = np.dot(transf, ([0.0], [0.0],[0.5],[1.0]))\n",
      "    tmp = tmp[0:3, 0]\n",
      "    tmp = tmp - np.dot(tmp - plane[3:6], plane[0:3])*plane[0:3] # project 3D point\n",
      "    tmp = tmp[[0, 2]]\n",
      "    ax.plot([cameraLocs2D[i, 0], tmp[0]], [cameraLocs2D[i, 1], tmp[1]], c='r')\n",
      "    ax.scatter(cameraLocs2D[i, 0], cameraLocs2D[i, 1], marker='o', color='g')\n",
      "\n",
      "\n",
      "plt.show()"
     ],
     "language": "python",
     "metadata": {},
     "outputs": [],
     "prompt_number": 146
    },
    {
     "cell_type": "code",
     "collapsed": false,
     "input": [
      "frames = finalFrames\n",
      "## visualize frames automatically\n",
      "\n",
      "def _blit_draw(self, artists, bg_cache):\n",
      "    # Handles blitted drawing, which renders only the artists given instead\n",
      "    # of the entire figure.\n",
      "    updated_ax = []\n",
      "    for a in artists:\n",
      "        # If we haven't cached the background for this axes object, do\n",
      "        # so now. This might not always be reliable, but it's an attempt\n",
      "        # to automate the process.\n",
      "        if a.axes not in bg_cache:\n",
      "            # bg_cache[a.axes] = a.figure.canvas.copy_from_bbox(a.axes.bbox)\n",
      "            # change here\n",
      "            bg_cache[a.axes] = a.figure.canvas.copy_from_bbox(a.axes.figure.bbox)\n",
      "        a.axes.draw_artist(a)\n",
      "        updated_ax.append(a.axes)\n",
      "\n",
      "    # After rendering all the needed artists, blit each axes individually.\n",
      "    for ax in set(updated_ax):\n",
      "        # and here\n",
      "        # ax.figure.canvas.blit(ax.bbox)\n",
      "        ax.figure.canvas.blit(ax.figure.bbox)\n",
      "\n",
      "# MONKEY PATCH!!\n",
      "matplotlib.animation.Animation._blit_draw = _blit_draw\n",
      "\n",
      "fig=plt.figure()\n",
      "img = plt.imshow(movie[:, :, frames[0]])\n",
      "img.set_cmap(cm.Greys_r)\n",
      "img.axes.set_axis_off()\n",
      "ax = plt.axes()\n",
      "ttl = ax.text(.5, 1.05, '', transform = ax.transAxes, va='center')\n",
      "\n",
      "def init():\n",
      "    ttl.set_text('')\n",
      "    img.set_data(movie[:, :, frames[0]])\n",
      "    return img, ttl\n",
      "\n",
      "def func(f):\n",
      "    ttl.set_text('Frame ' + str(f))\n",
      "    img.set_data(movie[:, :, frames[f]])\n",
      "    return img, ttl\n",
      "\n",
      "ani = animation.FuncAnimation(fig,func,init_func=init,frames=len(frames),interval=30,blit=True)\n",
      "\n",
      "plt.show()"
     ],
     "language": "python",
     "metadata": {},
     "outputs": [],
     "prompt_number": 61
    },
    {
     "cell_type": "heading",
     "level": 1,
     "metadata": {},
     "source": [
      "From here on there's code for visualizing the data in 3D"
     ]
    },
    {
     "cell_type": "code",
     "collapsed": false,
     "input": [
      "## look for all the 3D lines \n",
      "points3D = cameras[:, 4:7]\n",
      "linesInliers3D = list()\n",
      "## each line in line is a 6D array where first 3 elements give the line direction and last 3 elements give a point on line\n",
      "lines3D = list()\n",
      "while len(points3D) > 1 : # can't find lines with less than 2 points\n",
      "    fittedLine, inliers, bestCameras = msu.ransac(points3D, 1.0, 500)\n",
      "    if len(inliers) > 1 :\n",
      "        line = msu.fitLine3D(cameras[inliers, 4:7])#cv2.fitLine(np.array(cameras[inliers, 4:7], dtype=float32), cv.CV_DIST_L2, 0, 0.01, 0.01)\n",
      "        lines3D.append(line)\n",
      "        linesInliers3D.append(inliers)\n",
      "        points3D = cameras[np.delete(np.arange(0, len(cameras), 1), np.hstack(linesInliers3D)), 4:7]"
     ],
     "language": "python",
     "metadata": {},
     "outputs": [
      {
       "output_type": "stream",
       "stream": "stdout",
       "text": [
        "\r",
        "Ransac iteration 0 of 500"
       ]
      },
      {
       "output_type": "stream",
       "stream": "stdout",
       "text": [
        "\r",
        "Ransac iteration 1 of 500"
       ]
      },
      {
       "output_type": "stream",
       "stream": "stdout",
       "text": [
        "\r",
        "Ransac iteration 2 of 500"
       ]
      },
      {
       "output_type": "stream",
       "stream": "stdout",
       "text": [
        "\r",
        "Ransac iteration 3 of 500"
       ]
      },
      {
       "output_type": "stream",
       "stream": "stdout",
       "text": [
        "\r",
        "Ransac iteration 4 of 500"
       ]
      },
      {
       "output_type": "stream",
       "stream": "stdout",
       "text": [
        "\r",
        "Ransac iteration 5 of 500"
       ]
      },
      {
       "output_type": "stream",
       "stream": "stdout",
       "text": [
        "\r",
        "Ransac iteration 6 of 500"
       ]
      },
      {
       "output_type": "stream",
       "stream": "stdout",
       "text": [
        "\r",
        "Ransac iteration 7 of 500"
       ]
      },
      {
       "output_type": "stream",
       "stream": "stdout",
       "text": [
        "\r",
        "Ransac iteration 8 of 500"
       ]
      },
      {
       "output_type": "stream",
       "stream": "stdout",
       "text": [
        "\r",
        "Ransac iteration 9 of 500"
       ]
      },
      {
       "output_type": "stream",
       "stream": "stdout",
       "text": [
        "\r",
        "Ransac iteration 10 of 500"
       ]
      },
      {
       "output_type": "stream",
       "stream": "stdout",
       "text": [
        "\r",
        "Ransac iteration 11 of 500"
       ]
      },
      {
       "output_type": "stream",
       "stream": "stdout",
       "text": [
        "\r",
        "Ransac iteration 12 of 500"
       ]
      },
      {
       "output_type": "stream",
       "stream": "stdout",
       "text": [
        "\r",
        "Ransac iteration 13 of 500"
       ]
      },
      {
       "output_type": "stream",
       "stream": "stdout",
       "text": [
        "\r",
        "Ransac iteration 14 of 500"
       ]
      },
      {
       "output_type": "stream",
       "stream": "stdout",
       "text": [
        "\r",
        "Ransac iteration 15 of 500"
       ]
      },
      {
       "output_type": "stream",
       "stream": "stdout",
       "text": [
        "\r",
        "Ransac iteration 16 of 500"
       ]
      },
      {
       "output_type": "stream",
       "stream": "stdout",
       "text": [
        "\r",
        "Ransac iteration 17 of 500"
       ]
      },
      {
       "output_type": "stream",
       "stream": "stdout",
       "text": [
        "\r",
        "Ransac iteration 18 of 500"
       ]
      },
      {
       "output_type": "stream",
       "stream": "stdout",
       "text": [
        "\r",
        "Ransac iteration 19 of 500"
       ]
      },
      {
       "output_type": "stream",
       "stream": "stdout",
       "text": [
        "\r",
        "Ransac iteration 20 of 500"
       ]
      },
      {
       "output_type": "stream",
       "stream": "stdout",
       "text": [
        "\r",
        "Ransac iteration 21 of 500"
       ]
      },
      {
       "output_type": "stream",
       "stream": "stdout",
       "text": [
        "\r",
        "Ransac iteration 22 of 500"
       ]
      },
      {
       "output_type": "stream",
       "stream": "stdout",
       "text": [
        "\r",
        "Ransac iteration 23 of 500"
       ]
      },
      {
       "output_type": "stream",
       "stream": "stdout",
       "text": [
        "\r",
        "Ransac iteration 24 of 500"
       ]
      },
      {
       "output_type": "stream",
       "stream": "stdout",
       "text": [
        "\r",
        "Ransac iteration 25 of 500"
       ]
      },
      {
       "output_type": "stream",
       "stream": "stdout",
       "text": [
        "\r",
        "Ransac iteration 26 of 500"
       ]
      },
      {
       "output_type": "stream",
       "stream": "stdout",
       "text": [
        "\r",
        "Ransac iteration 27 of 500"
       ]
      },
      {
       "output_type": "stream",
       "stream": "stdout",
       "text": [
        "\r",
        "Ransac iteration 28 of 500"
       ]
      },
      {
       "output_type": "stream",
       "stream": "stdout",
       "text": [
        "\r",
        "Ransac iteration 29 of 500"
       ]
      },
      {
       "output_type": "stream",
       "stream": "stdout",
       "text": [
        "\r",
        "Ransac iteration 30 of 500"
       ]
      },
      {
       "output_type": "stream",
       "stream": "stdout",
       "text": [
        "\r",
        "Ransac iteration 31 of 500"
       ]
      },
      {
       "output_type": "stream",
       "stream": "stdout",
       "text": [
        "\r",
        "Ransac iteration 32 of 500"
       ]
      },
      {
       "output_type": "stream",
       "stream": "stdout",
       "text": [
        "\r",
        "Ransac iteration 33 of 500"
       ]
      },
      {
       "output_type": "stream",
       "stream": "stdout",
       "text": [
        "\r",
        "Ransac iteration 34 of 500"
       ]
      },
      {
       "output_type": "stream",
       "stream": "stdout",
       "text": [
        "\r",
        "Ransac iteration 35 of 500"
       ]
      },
      {
       "output_type": "stream",
       "stream": "stdout",
       "text": [
        "\r",
        "Ransac iteration 36 of 500"
       ]
      },
      {
       "output_type": "stream",
       "stream": "stdout",
       "text": [
        "\r",
        "Ransac iteration 37 of 500"
       ]
      },
      {
       "output_type": "stream",
       "stream": "stdout",
       "text": [
        "\r",
        "Ransac iteration 38 of 500"
       ]
      },
      {
       "output_type": "stream",
       "stream": "stdout",
       "text": [
        "\r",
        "Ransac iteration 39 of 500"
       ]
      },
      {
       "output_type": "stream",
       "stream": "stdout",
       "text": [
        "\r",
        "Ransac iteration 40 of 500"
       ]
      },
      {
       "output_type": "stream",
       "stream": "stdout",
       "text": [
        "\r",
        "Ransac iteration 41 of 500"
       ]
      },
      {
       "output_type": "stream",
       "stream": "stdout",
       "text": [
        "\r",
        "Ransac iteration 42 of 500"
       ]
      },
      {
       "output_type": "stream",
       "stream": "stdout",
       "text": [
        "\r",
        "Ransac iteration 43 of 500"
       ]
      },
      {
       "output_type": "stream",
       "stream": "stdout",
       "text": [
        "\r",
        "Ransac iteration 44 of 500"
       ]
      },
      {
       "output_type": "stream",
       "stream": "stdout",
       "text": [
        "\r",
        "Ransac iteration 45 of 500"
       ]
      },
      {
       "output_type": "stream",
       "stream": "stdout",
       "text": [
        "\r",
        "Ransac iteration 46 of 500"
       ]
      },
      {
       "output_type": "stream",
       "stream": "stdout",
       "text": [
        "\r",
        "Ransac iteration 47 of 500"
       ]
      },
      {
       "output_type": "stream",
       "stream": "stdout",
       "text": [
        "\r",
        "Ransac iteration 48 of 500"
       ]
      },
      {
       "output_type": "stream",
       "stream": "stdout",
       "text": [
        "\r",
        "Ransac iteration 49 of 500"
       ]
      },
      {
       "output_type": "stream",
       "stream": "stdout",
       "text": [
        "\r",
        "Ransac iteration 50 of 500"
       ]
      },
      {
       "output_type": "stream",
       "stream": "stdout",
       "text": [
        "\r",
        "Ransac iteration 51 of 500"
       ]
      },
      {
       "output_type": "stream",
       "stream": "stdout",
       "text": [
        "\r",
        "Ransac iteration 52 of 500"
       ]
      },
      {
       "output_type": "stream",
       "stream": "stdout",
       "text": [
        "\r",
        "Ransac iteration 53 of 500"
       ]
      },
      {
       "output_type": "stream",
       "stream": "stdout",
       "text": [
        "\r",
        "Ransac iteration 54 of 500"
       ]
      },
      {
       "output_type": "stream",
       "stream": "stdout",
       "text": [
        "\r",
        "Ransac iteration 55 of 500"
       ]
      },
      {
       "output_type": "stream",
       "stream": "stdout",
       "text": [
        "\r",
        "Ransac iteration 56 of 500"
       ]
      },
      {
       "output_type": "stream",
       "stream": "stdout",
       "text": [
        "\r",
        "Ransac iteration 57 of 500"
       ]
      },
      {
       "output_type": "stream",
       "stream": "stdout",
       "text": [
        "\r",
        "Ransac iteration 58 of 500"
       ]
      },
      {
       "output_type": "stream",
       "stream": "stdout",
       "text": [
        "\r",
        "Ransac iteration 59 of 500"
       ]
      },
      {
       "output_type": "stream",
       "stream": "stdout",
       "text": [
        "\r",
        "Ransac iteration 60 of 500"
       ]
      },
      {
       "output_type": "stream",
       "stream": "stdout",
       "text": [
        "\r",
        "Ransac iteration 61 of 500"
       ]
      },
      {
       "output_type": "stream",
       "stream": "stdout",
       "text": [
        "\r",
        "Ransac iteration 62 of 500"
       ]
      },
      {
       "output_type": "stream",
       "stream": "stdout",
       "text": [
        "\r",
        "Ransac iteration 63 of 500"
       ]
      },
      {
       "output_type": "stream",
       "stream": "stdout",
       "text": [
        "\r",
        "Ransac iteration 64 of 500"
       ]
      },
      {
       "output_type": "stream",
       "stream": "stdout",
       "text": [
        "\r",
        "Ransac iteration 65 of 500"
       ]
      },
      {
       "output_type": "stream",
       "stream": "stdout",
       "text": [
        "\r",
        "Ransac iteration 66 of 500"
       ]
      },
      {
       "output_type": "stream",
       "stream": "stdout",
       "text": [
        "\r",
        "Ransac iteration 67 of 500"
       ]
      },
      {
       "output_type": "stream",
       "stream": "stdout",
       "text": [
        "\r",
        "Ransac iteration 68 of 500"
       ]
      },
      {
       "output_type": "stream",
       "stream": "stdout",
       "text": [
        "\r",
        "Ransac iteration 69 of 500"
       ]
      },
      {
       "output_type": "stream",
       "stream": "stdout",
       "text": [
        "\r",
        "Ransac iteration 70 of 500"
       ]
      },
      {
       "output_type": "stream",
       "stream": "stdout",
       "text": [
        "\r",
        "Ransac iteration 71 of 500"
       ]
      },
      {
       "output_type": "stream",
       "stream": "stdout",
       "text": [
        "\r",
        "Ransac iteration 72 of 500"
       ]
      },
      {
       "output_type": "stream",
       "stream": "stdout",
       "text": [
        "\r",
        "Ransac iteration 73 of 500"
       ]
      },
      {
       "output_type": "stream",
       "stream": "stdout",
       "text": [
        "\r",
        "Ransac iteration 74 of 500"
       ]
      },
      {
       "output_type": "stream",
       "stream": "stdout",
       "text": [
        "\r",
        "Ransac iteration 75 of 500"
       ]
      },
      {
       "output_type": "stream",
       "stream": "stdout",
       "text": [
        "\r",
        "Ransac iteration 76 of 500"
       ]
      },
      {
       "output_type": "stream",
       "stream": "stdout",
       "text": [
        "\r",
        "Ransac iteration 77 of 500"
       ]
      },
      {
       "output_type": "stream",
       "stream": "stdout",
       "text": [
        "\r",
        "Ransac iteration 78 of 500"
       ]
      },
      {
       "output_type": "stream",
       "stream": "stdout",
       "text": [
        "\r",
        "Ransac iteration 79 of 500"
       ]
      },
      {
       "output_type": "stream",
       "stream": "stdout",
       "text": [
        "\r",
        "Ransac iteration 80 of 500"
       ]
      },
      {
       "output_type": "stream",
       "stream": "stdout",
       "text": [
        "\r",
        "Ransac iteration 81 of 500"
       ]
      },
      {
       "output_type": "stream",
       "stream": "stdout",
       "text": [
        "\r",
        "Ransac iteration 82 of 500"
       ]
      },
      {
       "output_type": "stream",
       "stream": "stdout",
       "text": [
        "\r",
        "Ransac iteration 83 of 500"
       ]
      },
      {
       "output_type": "stream",
       "stream": "stdout",
       "text": [
        "\r",
        "Ransac iteration 84 of 500"
       ]
      },
      {
       "output_type": "stream",
       "stream": "stdout",
       "text": [
        "\r",
        "Ransac iteration 85 of 500"
       ]
      },
      {
       "output_type": "stream",
       "stream": "stdout",
       "text": [
        "\r",
        "Ransac iteration 86 of 500"
       ]
      },
      {
       "output_type": "stream",
       "stream": "stdout",
       "text": [
        "\r",
        "Ransac iteration 87 of 500"
       ]
      },
      {
       "output_type": "stream",
       "stream": "stdout",
       "text": [
        "\r",
        "Ransac iteration 88 of 500"
       ]
      },
      {
       "output_type": "stream",
       "stream": "stdout",
       "text": [
        "\r",
        "Ransac iteration 89 of 500"
       ]
      },
      {
       "output_type": "stream",
       "stream": "stdout",
       "text": [
        "\r",
        "Ransac iteration 90 of 500"
       ]
      },
      {
       "output_type": "stream",
       "stream": "stdout",
       "text": [
        "\r",
        "Ransac iteration 91 of 500"
       ]
      },
      {
       "output_type": "stream",
       "stream": "stdout",
       "text": [
        "\r",
        "Ransac iteration 92 of 500"
       ]
      },
      {
       "output_type": "stream",
       "stream": "stdout",
       "text": [
        "\r",
        "Ransac iteration 93 of 500"
       ]
      },
      {
       "output_type": "stream",
       "stream": "stdout",
       "text": [
        "\r",
        "Ransac iteration 94 of 500"
       ]
      },
      {
       "output_type": "stream",
       "stream": "stdout",
       "text": [
        "\r",
        "Ransac iteration 95 of 500"
       ]
      },
      {
       "output_type": "stream",
       "stream": "stdout",
       "text": [
        "\r",
        "Ransac iteration 96 of 500"
       ]
      },
      {
       "output_type": "stream",
       "stream": "stdout",
       "text": [
        "\r",
        "Ransac iteration 97 of 500"
       ]
      },
      {
       "output_type": "stream",
       "stream": "stdout",
       "text": [
        "\r",
        "Ransac iteration 98 of 500"
       ]
      },
      {
       "output_type": "stream",
       "stream": "stdout",
       "text": [
        "\r",
        "Ransac iteration 99 of 500"
       ]
      },
      {
       "output_type": "stream",
       "stream": "stdout",
       "text": [
        "\r",
        "Ransac iteration 100 of 500"
       ]
      },
      {
       "output_type": "stream",
       "stream": "stdout",
       "text": [
        "\r",
        "Ransac iteration 101 of 500"
       ]
      },
      {
       "output_type": "stream",
       "stream": "stdout",
       "text": [
        "\r",
        "Ransac iteration 102 of 500"
       ]
      },
      {
       "output_type": "stream",
       "stream": "stdout",
       "text": [
        "\r",
        "Ransac iteration 103 of 500"
       ]
      },
      {
       "output_type": "stream",
       "stream": "stdout",
       "text": [
        "\r",
        "Ransac iteration 104 of 500"
       ]
      },
      {
       "output_type": "stream",
       "stream": "stdout",
       "text": [
        "\r",
        "Ransac iteration 105 of 500"
       ]
      },
      {
       "output_type": "stream",
       "stream": "stdout",
       "text": [
        "\r",
        "Ransac iteration 106 of 500"
       ]
      },
      {
       "output_type": "stream",
       "stream": "stdout",
       "text": [
        "\r",
        "Ransac iteration 107 of 500"
       ]
      },
      {
       "output_type": "stream",
       "stream": "stdout",
       "text": [
        "\r",
        "Ransac iteration 108 of 500"
       ]
      },
      {
       "output_type": "stream",
       "stream": "stdout",
       "text": [
        "\r",
        "Ransac iteration 109 of 500"
       ]
      },
      {
       "output_type": "stream",
       "stream": "stdout",
       "text": [
        "\r",
        "Ransac iteration 110 of 500"
       ]
      },
      {
       "output_type": "stream",
       "stream": "stdout",
       "text": [
        "\r",
        "Ransac iteration 111 of 500"
       ]
      },
      {
       "output_type": "stream",
       "stream": "stdout",
       "text": [
        "\r",
        "Ransac iteration 112 of 500"
       ]
      },
      {
       "output_type": "stream",
       "stream": "stdout",
       "text": [
        "\r",
        "Ransac iteration 113 of 500"
       ]
      },
      {
       "output_type": "stream",
       "stream": "stdout",
       "text": [
        "\r",
        "Ransac iteration 114 of 500"
       ]
      },
      {
       "output_type": "stream",
       "stream": "stdout",
       "text": [
        "\r",
        "Ransac iteration 115 of 500"
       ]
      },
      {
       "output_type": "stream",
       "stream": "stdout",
       "text": [
        "\r",
        "Ransac iteration 116 of 500"
       ]
      },
      {
       "output_type": "stream",
       "stream": "stdout",
       "text": [
        "\r",
        "Ransac iteration 117 of 500"
       ]
      },
      {
       "output_type": "stream",
       "stream": "stdout",
       "text": [
        "\r",
        "Ransac iteration 118 of 500"
       ]
      },
      {
       "output_type": "stream",
       "stream": "stdout",
       "text": [
        "\r",
        "Ransac iteration 119 of 500"
       ]
      },
      {
       "output_type": "stream",
       "stream": "stdout",
       "text": [
        "\r",
        "Ransac iteration 120 of 500"
       ]
      },
      {
       "output_type": "stream",
       "stream": "stdout",
       "text": [
        "\r",
        "Ransac iteration 121 of 500"
       ]
      },
      {
       "output_type": "stream",
       "stream": "stdout",
       "text": [
        "\r",
        "Ransac iteration 122 of 500"
       ]
      },
      {
       "output_type": "stream",
       "stream": "stdout",
       "text": [
        "\r",
        "Ransac iteration 123 of 500"
       ]
      },
      {
       "output_type": "stream",
       "stream": "stdout",
       "text": [
        "\r",
        "Ransac iteration 124 of 500"
       ]
      },
      {
       "output_type": "stream",
       "stream": "stdout",
       "text": [
        "\r",
        "Ransac iteration 125 of 500"
       ]
      },
      {
       "output_type": "stream",
       "stream": "stdout",
       "text": [
        "\r",
        "Ransac iteration 126 of 500"
       ]
      },
      {
       "output_type": "stream",
       "stream": "stdout",
       "text": [
        "\r",
        "Ransac iteration 127 of 500"
       ]
      },
      {
       "output_type": "stream",
       "stream": "stdout",
       "text": [
        "\r",
        "Ransac iteration 128 of 500"
       ]
      },
      {
       "output_type": "stream",
       "stream": "stdout",
       "text": [
        "\r",
        "Ransac iteration 129 of 500"
       ]
      },
      {
       "output_type": "stream",
       "stream": "stdout",
       "text": [
        "\r",
        "Ransac iteration 130 of 500"
       ]
      },
      {
       "output_type": "stream",
       "stream": "stdout",
       "text": [
        "\r",
        "Ransac iteration 131 of 500"
       ]
      },
      {
       "output_type": "stream",
       "stream": "stdout",
       "text": [
        "\r",
        "Ransac iteration 132 of 500"
       ]
      },
      {
       "output_type": "stream",
       "stream": "stdout",
       "text": [
        "\r",
        "Ransac iteration 133 of 500"
       ]
      },
      {
       "output_type": "stream",
       "stream": "stdout",
       "text": [
        "\r",
        "Ransac iteration 134 of 500"
       ]
      },
      {
       "output_type": "stream",
       "stream": "stdout",
       "text": [
        "\r",
        "Ransac iteration 135 of 500"
       ]
      },
      {
       "output_type": "stream",
       "stream": "stdout",
       "text": [
        "\r",
        "Ransac iteration 136 of 500"
       ]
      },
      {
       "output_type": "stream",
       "stream": "stdout",
       "text": [
        "\r",
        "Ransac iteration 137 of 500"
       ]
      },
      {
       "output_type": "stream",
       "stream": "stdout",
       "text": [
        "\r",
        "Ransac iteration 138 of 500"
       ]
      },
      {
       "output_type": "stream",
       "stream": "stdout",
       "text": [
        "\r",
        "Ransac iteration 139 of 500"
       ]
      },
      {
       "output_type": "stream",
       "stream": "stdout",
       "text": [
        "\r",
        "Ransac iteration 140 of 500"
       ]
      },
      {
       "output_type": "stream",
       "stream": "stdout",
       "text": [
        "\r",
        "Ransac iteration 141 of 500"
       ]
      },
      {
       "output_type": "stream",
       "stream": "stdout",
       "text": [
        "\r",
        "Ransac iteration 142 of 500"
       ]
      },
      {
       "output_type": "stream",
       "stream": "stdout",
       "text": [
        "\r",
        "Ransac iteration 143 of 500"
       ]
      },
      {
       "output_type": "stream",
       "stream": "stdout",
       "text": [
        "\r",
        "Ransac iteration 144 of 500"
       ]
      },
      {
       "output_type": "stream",
       "stream": "stdout",
       "text": [
        "\r",
        "Ransac iteration 145 of 500"
       ]
      },
      {
       "output_type": "stream",
       "stream": "stdout",
       "text": [
        "\r",
        "Ransac iteration 146 of 500"
       ]
      },
      {
       "output_type": "stream",
       "stream": "stdout",
       "text": [
        "\r",
        "Ransac iteration 147 of 500"
       ]
      },
      {
       "output_type": "stream",
       "stream": "stdout",
       "text": [
        "\r",
        "Ransac iteration 148 of 500"
       ]
      },
      {
       "output_type": "stream",
       "stream": "stdout",
       "text": [
        "\r",
        "Ransac iteration 149 of 500"
       ]
      },
      {
       "output_type": "stream",
       "stream": "stdout",
       "text": [
        "\r",
        "Ransac iteration 150 of 500"
       ]
      },
      {
       "output_type": "stream",
       "stream": "stdout",
       "text": [
        "\r",
        "Ransac iteration 151 of 500"
       ]
      },
      {
       "output_type": "stream",
       "stream": "stdout",
       "text": [
        "\r",
        "Ransac iteration 152 of 500"
       ]
      },
      {
       "output_type": "stream",
       "stream": "stdout",
       "text": [
        "\r",
        "Ransac iteration 153 of 500"
       ]
      },
      {
       "output_type": "stream",
       "stream": "stdout",
       "text": [
        "\r",
        "Ransac iteration 154 of 500"
       ]
      },
      {
       "output_type": "stream",
       "stream": "stdout",
       "text": [
        "\r",
        "Ransac iteration 155 of 500"
       ]
      },
      {
       "output_type": "stream",
       "stream": "stdout",
       "text": [
        "\r",
        "Ransac iteration 156 of 500"
       ]
      },
      {
       "output_type": "stream",
       "stream": "stdout",
       "text": [
        "\r",
        "Ransac iteration 157 of 500"
       ]
      },
      {
       "output_type": "stream",
       "stream": "stdout",
       "text": [
        "\r",
        "Ransac iteration 158 of 500"
       ]
      },
      {
       "output_type": "stream",
       "stream": "stdout",
       "text": [
        "\r",
        "Ransac iteration 159 of 500"
       ]
      },
      {
       "output_type": "stream",
       "stream": "stdout",
       "text": [
        "\r",
        "Ransac iteration 160 of 500"
       ]
      },
      {
       "output_type": "stream",
       "stream": "stdout",
       "text": [
        "\r",
        "Ransac iteration 161 of 500"
       ]
      },
      {
       "output_type": "stream",
       "stream": "stdout",
       "text": [
        "\r",
        "Ransac iteration 162 of 500"
       ]
      },
      {
       "output_type": "stream",
       "stream": "stdout",
       "text": [
        "\r",
        "Ransac iteration 163 of 500"
       ]
      },
      {
       "output_type": "stream",
       "stream": "stdout",
       "text": [
        "\r",
        "Ransac iteration 164 of 500"
       ]
      },
      {
       "output_type": "stream",
       "stream": "stdout",
       "text": [
        "\r",
        "Ransac iteration 165 of 500"
       ]
      },
      {
       "output_type": "stream",
       "stream": "stdout",
       "text": [
        "\r",
        "Ransac iteration 166 of 500"
       ]
      },
      {
       "output_type": "stream",
       "stream": "stdout",
       "text": [
        "\r",
        "Ransac iteration 167 of 500"
       ]
      },
      {
       "output_type": "stream",
       "stream": "stdout",
       "text": [
        "\r",
        "Ransac iteration 168 of 500"
       ]
      },
      {
       "output_type": "stream",
       "stream": "stdout",
       "text": [
        "\r",
        "Ransac iteration 169 of 500"
       ]
      },
      {
       "output_type": "stream",
       "stream": "stdout",
       "text": [
        "\r",
        "Ransac iteration 170 of 500"
       ]
      },
      {
       "output_type": "stream",
       "stream": "stdout",
       "text": [
        "\r",
        "Ransac iteration 171 of 500"
       ]
      },
      {
       "output_type": "stream",
       "stream": "stdout",
       "text": [
        "\r",
        "Ransac iteration 172 of 500"
       ]
      },
      {
       "output_type": "stream",
       "stream": "stdout",
       "text": [
        "\r",
        "Ransac iteration 173 of 500"
       ]
      },
      {
       "output_type": "stream",
       "stream": "stdout",
       "text": [
        "\r",
        "Ransac iteration 174 of 500"
       ]
      },
      {
       "output_type": "stream",
       "stream": "stdout",
       "text": [
        "\r",
        "Ransac iteration 175 of 500"
       ]
      },
      {
       "output_type": "stream",
       "stream": "stdout",
       "text": [
        "\r",
        "Ransac iteration 176 of 500"
       ]
      },
      {
       "output_type": "stream",
       "stream": "stdout",
       "text": [
        "\r",
        "Ransac iteration 177 of 500"
       ]
      },
      {
       "output_type": "stream",
       "stream": "stdout",
       "text": [
        "\r",
        "Ransac iteration 178 of 500"
       ]
      },
      {
       "output_type": "stream",
       "stream": "stdout",
       "text": [
        "\r",
        "Ransac iteration 179 of 500"
       ]
      },
      {
       "output_type": "stream",
       "stream": "stdout",
       "text": [
        "\r",
        "Ransac iteration 180 of 500"
       ]
      },
      {
       "output_type": "stream",
       "stream": "stdout",
       "text": [
        "\r",
        "Ransac iteration 181 of 500"
       ]
      },
      {
       "output_type": "stream",
       "stream": "stdout",
       "text": [
        "\r",
        "Ransac iteration 182 of 500"
       ]
      },
      {
       "output_type": "stream",
       "stream": "stdout",
       "text": [
        "\r",
        "Ransac iteration 183 of 500"
       ]
      },
      {
       "output_type": "stream",
       "stream": "stdout",
       "text": [
        "\r",
        "Ransac iteration 184 of 500"
       ]
      },
      {
       "output_type": "stream",
       "stream": "stdout",
       "text": [
        "\r",
        "Ransac iteration 185 of 500"
       ]
      },
      {
       "output_type": "stream",
       "stream": "stdout",
       "text": [
        "\r",
        "Ransac iteration 186 of 500"
       ]
      },
      {
       "output_type": "stream",
       "stream": "stdout",
       "text": [
        "\r",
        "Ransac iteration 187 of 500"
       ]
      },
      {
       "output_type": "stream",
       "stream": "stdout",
       "text": [
        "\r",
        "Ransac iteration 188 of 500"
       ]
      },
      {
       "output_type": "stream",
       "stream": "stdout",
       "text": [
        "\r",
        "Ransac iteration 189 of 500"
       ]
      },
      {
       "output_type": "stream",
       "stream": "stdout",
       "text": [
        "\r",
        "Ransac iteration 190 of 500"
       ]
      },
      {
       "output_type": "stream",
       "stream": "stdout",
       "text": [
        "\r",
        "Ransac iteration 191 of 500"
       ]
      },
      {
       "output_type": "stream",
       "stream": "stdout",
       "text": [
        "\r",
        "Ransac iteration 192 of 500"
       ]
      },
      {
       "output_type": "stream",
       "stream": "stdout",
       "text": [
        "\r",
        "Ransac iteration 193 of 500"
       ]
      },
      {
       "output_type": "stream",
       "stream": "stdout",
       "text": [
        "\r",
        "Ransac iteration 194 of 500"
       ]
      },
      {
       "output_type": "stream",
       "stream": "stdout",
       "text": [
        "\r",
        "Ransac iteration 195 of 500"
       ]
      },
      {
       "output_type": "stream",
       "stream": "stdout",
       "text": [
        "\r",
        "Ransac iteration 196 of 500"
       ]
      },
      {
       "output_type": "stream",
       "stream": "stdout",
       "text": [
        "\r",
        "Ransac iteration 197 of 500"
       ]
      },
      {
       "output_type": "stream",
       "stream": "stdout",
       "text": [
        "\r",
        "Ransac iteration 198 of 500"
       ]
      },
      {
       "output_type": "stream",
       "stream": "stdout",
       "text": [
        "\r",
        "Ransac iteration 199 of 500"
       ]
      },
      {
       "output_type": "stream",
       "stream": "stdout",
       "text": [
        "\r",
        "Ransac iteration 200 of 500"
       ]
      },
      {
       "output_type": "stream",
       "stream": "stdout",
       "text": [
        "\r",
        "Ransac iteration 201 of 500"
       ]
      },
      {
       "output_type": "stream",
       "stream": "stdout",
       "text": [
        "\r",
        "Ransac iteration 202 of 500"
       ]
      },
      {
       "output_type": "stream",
       "stream": "stdout",
       "text": [
        "\r",
        "Ransac iteration 203 of 500"
       ]
      },
      {
       "output_type": "stream",
       "stream": "stdout",
       "text": [
        "\r",
        "Ransac iteration 204 of 500"
       ]
      },
      {
       "output_type": "stream",
       "stream": "stdout",
       "text": [
        "\r",
        "Ransac iteration 205 of 500"
       ]
      },
      {
       "output_type": "stream",
       "stream": "stdout",
       "text": [
        "\r",
        "Ransac iteration 206 of 500"
       ]
      },
      {
       "output_type": "stream",
       "stream": "stdout",
       "text": [
        "\r",
        "Ransac iteration 207 of 500"
       ]
      },
      {
       "output_type": "stream",
       "stream": "stdout",
       "text": [
        "\r",
        "Ransac iteration 208 of 500"
       ]
      },
      {
       "output_type": "stream",
       "stream": "stdout",
       "text": [
        "\r",
        "Ransac iteration 209 of 500"
       ]
      },
      {
       "output_type": "stream",
       "stream": "stdout",
       "text": [
        "\r",
        "Ransac iteration 210 of 500"
       ]
      },
      {
       "output_type": "stream",
       "stream": "stdout",
       "text": [
        "\r",
        "Ransac iteration 211 of 500"
       ]
      },
      {
       "output_type": "stream",
       "stream": "stdout",
       "text": [
        "\r",
        "Ransac iteration 212 of 500"
       ]
      },
      {
       "output_type": "stream",
       "stream": "stdout",
       "text": [
        "\r",
        "Ransac iteration 213 of 500"
       ]
      },
      {
       "output_type": "stream",
       "stream": "stdout",
       "text": [
        "\r",
        "Ransac iteration 214 of 500"
       ]
      },
      {
       "output_type": "stream",
       "stream": "stdout",
       "text": [
        "\r",
        "Ransac iteration 215 of 500"
       ]
      },
      {
       "output_type": "stream",
       "stream": "stdout",
       "text": [
        "\r",
        "Ransac iteration 216 of 500"
       ]
      },
      {
       "output_type": "stream",
       "stream": "stdout",
       "text": [
        "\r",
        "Ransac iteration 217 of 500"
       ]
      },
      {
       "output_type": "stream",
       "stream": "stdout",
       "text": [
        "\r",
        "Ransac iteration 218 of 500"
       ]
      },
      {
       "output_type": "stream",
       "stream": "stdout",
       "text": [
        "\r",
        "Ransac iteration 219 of 500"
       ]
      },
      {
       "output_type": "stream",
       "stream": "stdout",
       "text": [
        "\r",
        "Ransac iteration 220 of 500"
       ]
      },
      {
       "output_type": "stream",
       "stream": "stdout",
       "text": [
        "\r",
        "Ransac iteration 221 of 500"
       ]
      },
      {
       "output_type": "stream",
       "stream": "stdout",
       "text": [
        "\r",
        "Ransac iteration 222 of 500"
       ]
      },
      {
       "output_type": "stream",
       "stream": "stdout",
       "text": [
        "\r",
        "Ransac iteration 223 of 500"
       ]
      },
      {
       "output_type": "stream",
       "stream": "stdout",
       "text": [
        "\r",
        "Ransac iteration 224 of 500"
       ]
      },
      {
       "output_type": "stream",
       "stream": "stdout",
       "text": [
        "\r",
        "Ransac iteration 225 of 500"
       ]
      },
      {
       "output_type": "stream",
       "stream": "stdout",
       "text": [
        "\r",
        "Ransac iteration 226 of 500"
       ]
      },
      {
       "output_type": "stream",
       "stream": "stdout",
       "text": [
        "\r",
        "Ransac iteration 227 of 500"
       ]
      },
      {
       "output_type": "stream",
       "stream": "stdout",
       "text": [
        "\r",
        "Ransac iteration 228 of 500"
       ]
      },
      {
       "output_type": "stream",
       "stream": "stdout",
       "text": [
        "\r",
        "Ransac iteration 229 of 500"
       ]
      },
      {
       "output_type": "stream",
       "stream": "stdout",
       "text": [
        "\r",
        "Ransac iteration 230 of 500"
       ]
      },
      {
       "output_type": "stream",
       "stream": "stdout",
       "text": [
        "\r",
        "Ransac iteration 231 of 500"
       ]
      },
      {
       "output_type": "stream",
       "stream": "stdout",
       "text": [
        "\r",
        "Ransac iteration 232 of 500"
       ]
      },
      {
       "output_type": "stream",
       "stream": "stdout",
       "text": [
        "\r",
        "Ransac iteration 233 of 500"
       ]
      },
      {
       "output_type": "stream",
       "stream": "stdout",
       "text": [
        "\r",
        "Ransac iteration 234 of 500"
       ]
      },
      {
       "output_type": "stream",
       "stream": "stdout",
       "text": [
        "\r",
        "Ransac iteration 235 of 500"
       ]
      },
      {
       "output_type": "stream",
       "stream": "stdout",
       "text": [
        "\r",
        "Ransac iteration 236 of 500"
       ]
      },
      {
       "output_type": "stream",
       "stream": "stdout",
       "text": [
        "\r",
        "Ransac iteration 237 of 500"
       ]
      },
      {
       "output_type": "stream",
       "stream": "stdout",
       "text": [
        "\r",
        "Ransac iteration 238 of 500"
       ]
      },
      {
       "output_type": "stream",
       "stream": "stdout",
       "text": [
        "\r",
        "Ransac iteration 239 of 500"
       ]
      },
      {
       "output_type": "stream",
       "stream": "stdout",
       "text": [
        "\r",
        "Ransac iteration 240 of 500"
       ]
      },
      {
       "output_type": "stream",
       "stream": "stdout",
       "text": [
        "\r",
        "Ransac iteration 241 of 500"
       ]
      },
      {
       "output_type": "stream",
       "stream": "stdout",
       "text": [
        "\r",
        "Ransac iteration 242 of 500"
       ]
      },
      {
       "output_type": "stream",
       "stream": "stdout",
       "text": [
        "\r",
        "Ransac iteration 243 of 500"
       ]
      },
      {
       "output_type": "stream",
       "stream": "stdout",
       "text": [
        "\r",
        "Ransac iteration 244 of 500"
       ]
      },
      {
       "output_type": "stream",
       "stream": "stdout",
       "text": [
        "\r",
        "Ransac iteration 245 of 500"
       ]
      },
      {
       "output_type": "stream",
       "stream": "stdout",
       "text": [
        "\r",
        "Ransac iteration 246 of 500"
       ]
      },
      {
       "output_type": "stream",
       "stream": "stdout",
       "text": [
        "\r",
        "Ransac iteration 247 of 500"
       ]
      },
      {
       "output_type": "stream",
       "stream": "stdout",
       "text": [
        "\r",
        "Ransac iteration 248 of 500"
       ]
      },
      {
       "output_type": "stream",
       "stream": "stdout",
       "text": [
        "\r",
        "Ransac iteration 249 of 500"
       ]
      },
      {
       "output_type": "stream",
       "stream": "stdout",
       "text": [
        "\r",
        "Ransac iteration 250 of 500"
       ]
      },
      {
       "output_type": "stream",
       "stream": "stdout",
       "text": [
        "\r",
        "Ransac iteration 251 of 500"
       ]
      },
      {
       "output_type": "stream",
       "stream": "stdout",
       "text": [
        "\r",
        "Ransac iteration 252 of 500"
       ]
      },
      {
       "output_type": "stream",
       "stream": "stdout",
       "text": [
        "\r",
        "Ransac iteration 253 of 500"
       ]
      },
      {
       "output_type": "stream",
       "stream": "stdout",
       "text": [
        "\r",
        "Ransac iteration 254 of 500"
       ]
      },
      {
       "output_type": "stream",
       "stream": "stdout",
       "text": [
        "\r",
        "Ransac iteration 255 of 500"
       ]
      },
      {
       "output_type": "stream",
       "stream": "stdout",
       "text": [
        "\r",
        "Ransac iteration 256 of 500"
       ]
      },
      {
       "output_type": "stream",
       "stream": "stdout",
       "text": [
        "\r",
        "Ransac iteration 257 of 500"
       ]
      },
      {
       "output_type": "stream",
       "stream": "stdout",
       "text": [
        "\r",
        "Ransac iteration 258 of 500"
       ]
      },
      {
       "output_type": "stream",
       "stream": "stdout",
       "text": [
        "\r",
        "Ransac iteration 259 of 500"
       ]
      },
      {
       "output_type": "stream",
       "stream": "stdout",
       "text": [
        "\r",
        "Ransac iteration 260 of 500"
       ]
      },
      {
       "output_type": "stream",
       "stream": "stdout",
       "text": [
        "\r",
        "Ransac iteration 261 of 500"
       ]
      },
      {
       "output_type": "stream",
       "stream": "stdout",
       "text": [
        "\r",
        "Ransac iteration 262 of 500"
       ]
      },
      {
       "output_type": "stream",
       "stream": "stdout",
       "text": [
        "\r",
        "Ransac iteration 263 of 500"
       ]
      },
      {
       "output_type": "stream",
       "stream": "stdout",
       "text": [
        "\r",
        "Ransac iteration 264 of 500"
       ]
      },
      {
       "output_type": "stream",
       "stream": "stdout",
       "text": [
        "\r",
        "Ransac iteration 265 of 500"
       ]
      },
      {
       "output_type": "stream",
       "stream": "stdout",
       "text": [
        "\r",
        "Ransac iteration 266 of 500"
       ]
      },
      {
       "output_type": "stream",
       "stream": "stdout",
       "text": [
        "\r",
        "Ransac iteration 267 of 500"
       ]
      },
      {
       "output_type": "stream",
       "stream": "stdout",
       "text": [
        "\r",
        "Ransac iteration 268 of 500"
       ]
      },
      {
       "output_type": "stream",
       "stream": "stdout",
       "text": [
        "\r",
        "Ransac iteration 269 of 500"
       ]
      },
      {
       "output_type": "stream",
       "stream": "stdout",
       "text": [
        "\r",
        "Ransac iteration 270 of 500"
       ]
      },
      {
       "output_type": "stream",
       "stream": "stdout",
       "text": [
        "\r",
        "Ransac iteration 271 of 500"
       ]
      },
      {
       "output_type": "stream",
       "stream": "stdout",
       "text": [
        "\r",
        "Ransac iteration 272 of 500"
       ]
      },
      {
       "output_type": "stream",
       "stream": "stdout",
       "text": [
        "\r",
        "Ransac iteration 273 of 500"
       ]
      },
      {
       "output_type": "stream",
       "stream": "stdout",
       "text": [
        "\r",
        "Ransac iteration 274 of 500"
       ]
      },
      {
       "output_type": "stream",
       "stream": "stdout",
       "text": [
        "\r",
        "Ransac iteration 275 of 500"
       ]
      },
      {
       "output_type": "stream",
       "stream": "stdout",
       "text": [
        "\r",
        "Ransac iteration 276 of 500"
       ]
      },
      {
       "output_type": "stream",
       "stream": "stdout",
       "text": [
        "\r",
        "Ransac iteration 277 of 500"
       ]
      },
      {
       "output_type": "stream",
       "stream": "stdout",
       "text": [
        "\r",
        "Ransac iteration 278 of 500"
       ]
      },
      {
       "output_type": "stream",
       "stream": "stdout",
       "text": [
        "\r",
        "Ransac iteration 279 of 500"
       ]
      },
      {
       "output_type": "stream",
       "stream": "stdout",
       "text": [
        "\r",
        "Ransac iteration 280 of 500"
       ]
      },
      {
       "output_type": "stream",
       "stream": "stdout",
       "text": [
        "\r",
        "Ransac iteration 281 of 500"
       ]
      },
      {
       "output_type": "stream",
       "stream": "stdout",
       "text": [
        "\r",
        "Ransac iteration 282 of 500"
       ]
      },
      {
       "output_type": "stream",
       "stream": "stdout",
       "text": [
        "\r",
        "Ransac iteration 283 of 500"
       ]
      },
      {
       "output_type": "stream",
       "stream": "stdout",
       "text": [
        "\r",
        "Ransac iteration 284 of 500"
       ]
      },
      {
       "output_type": "stream",
       "stream": "stdout",
       "text": [
        "\r",
        "Ransac iteration 285 of 500"
       ]
      },
      {
       "output_type": "stream",
       "stream": "stdout",
       "text": [
        "\r",
        "Ransac iteration 286 of 500"
       ]
      },
      {
       "output_type": "stream",
       "stream": "stdout",
       "text": [
        "\r",
        "Ransac iteration 287 of 500"
       ]
      },
      {
       "output_type": "stream",
       "stream": "stdout",
       "text": [
        "\r",
        "Ransac iteration 288 of 500"
       ]
      },
      {
       "output_type": "stream",
       "stream": "stdout",
       "text": [
        "\r",
        "Ransac iteration 289 of 500"
       ]
      },
      {
       "output_type": "stream",
       "stream": "stdout",
       "text": [
        "\r",
        "Ransac iteration 290 of 500"
       ]
      },
      {
       "output_type": "stream",
       "stream": "stdout",
       "text": [
        "\r",
        "Ransac iteration 291 of 500"
       ]
      },
      {
       "output_type": "stream",
       "stream": "stdout",
       "text": [
        "\r",
        "Ransac iteration 292 of 500"
       ]
      },
      {
       "output_type": "stream",
       "stream": "stdout",
       "text": [
        "\r",
        "Ransac iteration 293 of 500"
       ]
      },
      {
       "output_type": "stream",
       "stream": "stdout",
       "text": [
        "\r",
        "Ransac iteration 294 of 500"
       ]
      },
      {
       "output_type": "stream",
       "stream": "stdout",
       "text": [
        "\r",
        "Ransac iteration 295 of 500"
       ]
      },
      {
       "output_type": "stream",
       "stream": "stdout",
       "text": [
        "\r",
        "Ransac iteration 296 of 500"
       ]
      },
      {
       "output_type": "stream",
       "stream": "stdout",
       "text": [
        "\r",
        "Ransac iteration 297 of 500"
       ]
      },
      {
       "output_type": "stream",
       "stream": "stdout",
       "text": [
        "\r",
        "Ransac iteration 298 of 500"
       ]
      },
      {
       "output_type": "stream",
       "stream": "stdout",
       "text": [
        "\r",
        "Ransac iteration 299 of 500"
       ]
      },
      {
       "output_type": "stream",
       "stream": "stdout",
       "text": [
        "\r",
        "Ransac iteration 300 of 500"
       ]
      },
      {
       "output_type": "stream",
       "stream": "stdout",
       "text": [
        "\r",
        "Ransac iteration 301 of 500"
       ]
      },
      {
       "output_type": "stream",
       "stream": "stdout",
       "text": [
        "\r",
        "Ransac iteration 302 of 500"
       ]
      },
      {
       "output_type": "stream",
       "stream": "stdout",
       "text": [
        "\r",
        "Ransac iteration 303 of 500"
       ]
      },
      {
       "output_type": "stream",
       "stream": "stdout",
       "text": [
        "\r",
        "Ransac iteration 304 of 500"
       ]
      },
      {
       "output_type": "stream",
       "stream": "stdout",
       "text": [
        "\r",
        "Ransac iteration 305 of 500"
       ]
      },
      {
       "output_type": "stream",
       "stream": "stdout",
       "text": [
        "\r",
        "Ransac iteration 306 of 500"
       ]
      },
      {
       "output_type": "stream",
       "stream": "stdout",
       "text": [
        "\r",
        "Ransac iteration 307 of 500"
       ]
      },
      {
       "output_type": "stream",
       "stream": "stdout",
       "text": [
        "\r",
        "Ransac iteration 308 of 500"
       ]
      },
      {
       "output_type": "stream",
       "stream": "stdout",
       "text": [
        "\r",
        "Ransac iteration 309 of 500"
       ]
      },
      {
       "output_type": "stream",
       "stream": "stdout",
       "text": [
        "\r",
        "Ransac iteration 310 of 500"
       ]
      },
      {
       "output_type": "stream",
       "stream": "stdout",
       "text": [
        "\r",
        "Ransac iteration 311 of 500"
       ]
      },
      {
       "output_type": "stream",
       "stream": "stdout",
       "text": [
        "\r",
        "Ransac iteration 312 of 500"
       ]
      },
      {
       "output_type": "stream",
       "stream": "stdout",
       "text": [
        "\r",
        "Ransac iteration 313 of 500"
       ]
      },
      {
       "output_type": "stream",
       "stream": "stdout",
       "text": [
        "\r",
        "Ransac iteration 314 of 500"
       ]
      },
      {
       "output_type": "stream",
       "stream": "stdout",
       "text": [
        "\r",
        "Ransac iteration 315 of 500"
       ]
      },
      {
       "output_type": "stream",
       "stream": "stdout",
       "text": [
        "\r",
        "Ransac iteration 316 of 500"
       ]
      },
      {
       "output_type": "stream",
       "stream": "stdout",
       "text": [
        "\r",
        "Ransac iteration 317 of 500"
       ]
      },
      {
       "output_type": "stream",
       "stream": "stdout",
       "text": [
        "\r",
        "Ransac iteration 318 of 500"
       ]
      },
      {
       "output_type": "stream",
       "stream": "stdout",
       "text": [
        "\r",
        "Ransac iteration 319 of 500"
       ]
      },
      {
       "output_type": "stream",
       "stream": "stdout",
       "text": [
        "\r",
        "Ransac iteration 320 of 500"
       ]
      },
      {
       "output_type": "stream",
       "stream": "stdout",
       "text": [
        "\r",
        "Ransac iteration 321 of 500"
       ]
      },
      {
       "output_type": "stream",
       "stream": "stdout",
       "text": [
        "\r",
        "Ransac iteration 322 of 500"
       ]
      },
      {
       "output_type": "stream",
       "stream": "stdout",
       "text": [
        "\r",
        "Ransac iteration 323 of 500"
       ]
      },
      {
       "output_type": "stream",
       "stream": "stdout",
       "text": [
        "\r",
        "Ransac iteration 324 of 500"
       ]
      },
      {
       "output_type": "stream",
       "stream": "stdout",
       "text": [
        "\r",
        "Ransac iteration 325 of 500"
       ]
      },
      {
       "output_type": "stream",
       "stream": "stdout",
       "text": [
        "\r",
        "Ransac iteration 326 of 500"
       ]
      },
      {
       "output_type": "stream",
       "stream": "stdout",
       "text": [
        "\r",
        "Ransac iteration 327 of 500"
       ]
      },
      {
       "output_type": "stream",
       "stream": "stdout",
       "text": [
        "\r",
        "Ransac iteration 328 of 500"
       ]
      },
      {
       "output_type": "stream",
       "stream": "stdout",
       "text": [
        "\r",
        "Ransac iteration 329 of 500"
       ]
      },
      {
       "output_type": "stream",
       "stream": "stdout",
       "text": [
        "\r",
        "Ransac iteration 330 of 500"
       ]
      },
      {
       "output_type": "stream",
       "stream": "stdout",
       "text": [
        "\r",
        "Ransac iteration 331 of 500"
       ]
      },
      {
       "output_type": "stream",
       "stream": "stdout",
       "text": [
        "\r",
        "Ransac iteration 332 of 500"
       ]
      },
      {
       "output_type": "stream",
       "stream": "stdout",
       "text": [
        "\r",
        "Ransac iteration 333 of 500"
       ]
      },
      {
       "output_type": "stream",
       "stream": "stdout",
       "text": [
        "\r",
        "Ransac iteration 334 of 500"
       ]
      },
      {
       "output_type": "stream",
       "stream": "stdout",
       "text": [
        "\r",
        "Ransac iteration 335 of 500"
       ]
      },
      {
       "output_type": "stream",
       "stream": "stdout",
       "text": [
        "\r",
        "Ransac iteration 336 of 500"
       ]
      },
      {
       "output_type": "stream",
       "stream": "stdout",
       "text": [
        "\r",
        "Ransac iteration 337 of 500"
       ]
      },
      {
       "output_type": "stream",
       "stream": "stdout",
       "text": [
        "\r",
        "Ransac iteration 338 of 500"
       ]
      },
      {
       "output_type": "stream",
       "stream": "stdout",
       "text": [
        "\r",
        "Ransac iteration 339 of 500"
       ]
      },
      {
       "output_type": "stream",
       "stream": "stdout",
       "text": [
        "\r",
        "Ransac iteration 340 of 500"
       ]
      },
      {
       "output_type": "stream",
       "stream": "stdout",
       "text": [
        "\r",
        "Ransac iteration 341 of 500"
       ]
      },
      {
       "output_type": "stream",
       "stream": "stdout",
       "text": [
        "\r",
        "Ransac iteration 342 of 500"
       ]
      },
      {
       "output_type": "stream",
       "stream": "stdout",
       "text": [
        "\r",
        "Ransac iteration 343 of 500"
       ]
      },
      {
       "output_type": "stream",
       "stream": "stdout",
       "text": [
        "\r",
        "Ransac iteration 344 of 500"
       ]
      },
      {
       "output_type": "stream",
       "stream": "stdout",
       "text": [
        "\r",
        "Ransac iteration 345 of 500"
       ]
      },
      {
       "output_type": "stream",
       "stream": "stdout",
       "text": [
        "\r",
        "Ransac iteration 346 of 500"
       ]
      },
      {
       "output_type": "stream",
       "stream": "stdout",
       "text": [
        "\r",
        "Ransac iteration 347 of 500"
       ]
      },
      {
       "output_type": "stream",
       "stream": "stdout",
       "text": [
        "\r",
        "Ransac iteration 348 of 500"
       ]
      },
      {
       "output_type": "stream",
       "stream": "stdout",
       "text": [
        "\r",
        "Ransac iteration 349 of 500"
       ]
      },
      {
       "output_type": "stream",
       "stream": "stdout",
       "text": [
        "\r",
        "Ransac iteration 350 of 500"
       ]
      },
      {
       "output_type": "stream",
       "stream": "stdout",
       "text": [
        "\r",
        "Ransac iteration 351 of 500"
       ]
      },
      {
       "output_type": "stream",
       "stream": "stdout",
       "text": [
        "\r",
        "Ransac iteration 352 of 500"
       ]
      },
      {
       "output_type": "stream",
       "stream": "stdout",
       "text": [
        "\r",
        "Ransac iteration 353 of 500"
       ]
      },
      {
       "output_type": "stream",
       "stream": "stdout",
       "text": [
        "\r",
        "Ransac iteration 354 of 500"
       ]
      },
      {
       "output_type": "stream",
       "stream": "stdout",
       "text": [
        "\r",
        "Ransac iteration 355 of 500"
       ]
      },
      {
       "output_type": "stream",
       "stream": "stdout",
       "text": [
        "\r",
        "Ransac iteration 356 of 500"
       ]
      },
      {
       "output_type": "stream",
       "stream": "stdout",
       "text": [
        "\r",
        "Ransac iteration 357 of 500"
       ]
      },
      {
       "output_type": "stream",
       "stream": "stdout",
       "text": [
        "\r",
        "Ransac iteration 358 of 500"
       ]
      },
      {
       "output_type": "stream",
       "stream": "stdout",
       "text": [
        "\r",
        "Ransac iteration 359 of 500"
       ]
      },
      {
       "output_type": "stream",
       "stream": "stdout",
       "text": [
        "\r",
        "Ransac iteration 360 of 500"
       ]
      },
      {
       "output_type": "stream",
       "stream": "stdout",
       "text": [
        "\r",
        "Ransac iteration 361 of 500"
       ]
      },
      {
       "output_type": "stream",
       "stream": "stdout",
       "text": [
        "\r",
        "Ransac iteration 362 of 500"
       ]
      },
      {
       "output_type": "stream",
       "stream": "stdout",
       "text": [
        "\r",
        "Ransac iteration 363 of 500"
       ]
      },
      {
       "output_type": "stream",
       "stream": "stdout",
       "text": [
        "\r",
        "Ransac iteration 364 of 500"
       ]
      },
      {
       "output_type": "stream",
       "stream": "stdout",
       "text": [
        "\r",
        "Ransac iteration 365 of 500"
       ]
      },
      {
       "output_type": "stream",
       "stream": "stdout",
       "text": [
        "\r",
        "Ransac iteration 366 of 500"
       ]
      },
      {
       "output_type": "stream",
       "stream": "stdout",
       "text": [
        "\r",
        "Ransac iteration 367 of 500"
       ]
      },
      {
       "output_type": "stream",
       "stream": "stdout",
       "text": [
        "\r",
        "Ransac iteration 368 of 500"
       ]
      },
      {
       "output_type": "stream",
       "stream": "stdout",
       "text": [
        "\r",
        "Ransac iteration 369 of 500"
       ]
      },
      {
       "output_type": "stream",
       "stream": "stdout",
       "text": [
        "\r",
        "Ransac iteration 370 of 500"
       ]
      },
      {
       "output_type": "stream",
       "stream": "stdout",
       "text": [
        "\r",
        "Ransac iteration 371 of 500"
       ]
      },
      {
       "output_type": "stream",
       "stream": "stdout",
       "text": [
        "\r",
        "Ransac iteration 372 of 500"
       ]
      },
      {
       "output_type": "stream",
       "stream": "stdout",
       "text": [
        "\r",
        "Ransac iteration 373 of 500"
       ]
      },
      {
       "output_type": "stream",
       "stream": "stdout",
       "text": [
        "\r",
        "Ransac iteration 374 of 500"
       ]
      },
      {
       "output_type": "stream",
       "stream": "stdout",
       "text": [
        "\r",
        "Ransac iteration 375 of 500"
       ]
      },
      {
       "output_type": "stream",
       "stream": "stdout",
       "text": [
        "\r",
        "Ransac iteration 376 of 500"
       ]
      },
      {
       "output_type": "stream",
       "stream": "stdout",
       "text": [
        "\r",
        "Ransac iteration 377 of 500"
       ]
      },
      {
       "output_type": "stream",
       "stream": "stdout",
       "text": [
        "\r",
        "Ransac iteration 378 of 500"
       ]
      },
      {
       "output_type": "stream",
       "stream": "stdout",
       "text": [
        "\r",
        "Ransac iteration 379 of 500"
       ]
      },
      {
       "output_type": "stream",
       "stream": "stdout",
       "text": [
        "\r",
        "Ransac iteration 380 of 500"
       ]
      },
      {
       "output_type": "stream",
       "stream": "stdout",
       "text": [
        "\r",
        "Ransac iteration 381 of 500"
       ]
      },
      {
       "output_type": "stream",
       "stream": "stdout",
       "text": [
        "\r",
        "Ransac iteration 382 of 500"
       ]
      },
      {
       "output_type": "stream",
       "stream": "stdout",
       "text": [
        "\r",
        "Ransac iteration 383 of 500"
       ]
      },
      {
       "output_type": "stream",
       "stream": "stdout",
       "text": [
        "\r",
        "Ransac iteration 384 of 500"
       ]
      },
      {
       "output_type": "stream",
       "stream": "stdout",
       "text": [
        "\r",
        "Ransac iteration 385 of 500"
       ]
      },
      {
       "output_type": "stream",
       "stream": "stdout",
       "text": [
        "\r",
        "Ransac iteration 386 of 500"
       ]
      },
      {
       "output_type": "stream",
       "stream": "stdout",
       "text": [
        "\r",
        "Ransac iteration 387 of 500"
       ]
      },
      {
       "output_type": "stream",
       "stream": "stdout",
       "text": [
        "\r",
        "Ransac iteration 388 of 500"
       ]
      },
      {
       "output_type": "stream",
       "stream": "stdout",
       "text": [
        "\r",
        "Ransac iteration 389 of 500"
       ]
      },
      {
       "output_type": "stream",
       "stream": "stdout",
       "text": [
        "\r",
        "Ransac iteration 390 of 500"
       ]
      },
      {
       "output_type": "stream",
       "stream": "stdout",
       "text": [
        "\r",
        "Ransac iteration 391 of 500"
       ]
      },
      {
       "output_type": "stream",
       "stream": "stdout",
       "text": [
        "\r",
        "Ransac iteration 392 of 500"
       ]
      },
      {
       "output_type": "stream",
       "stream": "stdout",
       "text": [
        "\r",
        "Ransac iteration 393 of 500"
       ]
      },
      {
       "output_type": "stream",
       "stream": "stdout",
       "text": [
        "\r",
        "Ransac iteration 394 of 500"
       ]
      },
      {
       "output_type": "stream",
       "stream": "stdout",
       "text": [
        "\r",
        "Ransac iteration 395 of 500"
       ]
      },
      {
       "output_type": "stream",
       "stream": "stdout",
       "text": [
        "\r",
        "Ransac iteration 396 of 500"
       ]
      },
      {
       "output_type": "stream",
       "stream": "stdout",
       "text": [
        "\r",
        "Ransac iteration 397 of 500"
       ]
      },
      {
       "output_type": "stream",
       "stream": "stdout",
       "text": [
        "\r",
        "Ransac iteration 398 of 500"
       ]
      },
      {
       "output_type": "stream",
       "stream": "stdout",
       "text": [
        "\r",
        "Ransac iteration 399 of 500"
       ]
      },
      {
       "output_type": "stream",
       "stream": "stdout",
       "text": [
        "\r",
        "Ransac iteration 400 of 500"
       ]
      },
      {
       "output_type": "stream",
       "stream": "stdout",
       "text": [
        "\r",
        "Ransac iteration 401 of 500"
       ]
      },
      {
       "output_type": "stream",
       "stream": "stdout",
       "text": [
        "\r",
        "Ransac iteration 402 of 500"
       ]
      },
      {
       "output_type": "stream",
       "stream": "stdout",
       "text": [
        "\r",
        "Ransac iteration 403 of 500"
       ]
      },
      {
       "output_type": "stream",
       "stream": "stdout",
       "text": [
        "\r",
        "Ransac iteration 404 of 500"
       ]
      },
      {
       "output_type": "stream",
       "stream": "stdout",
       "text": [
        "\r",
        "Ransac iteration 405 of 500"
       ]
      },
      {
       "output_type": "stream",
       "stream": "stdout",
       "text": [
        "\r",
        "Ransac iteration 406 of 500"
       ]
      },
      {
       "output_type": "stream",
       "stream": "stdout",
       "text": [
        "\r",
        "Ransac iteration 407 of 500"
       ]
      },
      {
       "output_type": "stream",
       "stream": "stdout",
       "text": [
        "\r",
        "Ransac iteration 408 of 500"
       ]
      },
      {
       "output_type": "stream",
       "stream": "stdout",
       "text": [
        "\r",
        "Ransac iteration 409 of 500"
       ]
      },
      {
       "output_type": "stream",
       "stream": "stdout",
       "text": [
        "\r",
        "Ransac iteration 410 of 500"
       ]
      },
      {
       "output_type": "stream",
       "stream": "stdout",
       "text": [
        "\r",
        "Ransac iteration 411 of 500"
       ]
      },
      {
       "output_type": "stream",
       "stream": "stdout",
       "text": [
        "\r",
        "Ransac iteration 412 of 500"
       ]
      },
      {
       "output_type": "stream",
       "stream": "stdout",
       "text": [
        "\r",
        "Ransac iteration 413 of 500"
       ]
      },
      {
       "output_type": "stream",
       "stream": "stdout",
       "text": [
        "\r",
        "Ransac iteration 414 of 500"
       ]
      },
      {
       "output_type": "stream",
       "stream": "stdout",
       "text": [
        "\r",
        "Ransac iteration 415 of 500"
       ]
      },
      {
       "output_type": "stream",
       "stream": "stdout",
       "text": [
        "\r",
        "Ransac iteration 416 of 500"
       ]
      },
      {
       "output_type": "stream",
       "stream": "stdout",
       "text": [
        "\r",
        "Ransac iteration 417 of 500"
       ]
      },
      {
       "output_type": "stream",
       "stream": "stdout",
       "text": [
        "\r",
        "Ransac iteration 418 of 500"
       ]
      },
      {
       "output_type": "stream",
       "stream": "stdout",
       "text": [
        "\r",
        "Ransac iteration 419 of 500"
       ]
      },
      {
       "output_type": "stream",
       "stream": "stdout",
       "text": [
        "\r",
        "Ransac iteration 420 of 500"
       ]
      },
      {
       "output_type": "stream",
       "stream": "stdout",
       "text": [
        "\r",
        "Ransac iteration 421 of 500"
       ]
      },
      {
       "output_type": "stream",
       "stream": "stdout",
       "text": [
        "\r",
        "Ransac iteration 422 of 500"
       ]
      },
      {
       "output_type": "stream",
       "stream": "stdout",
       "text": [
        "\r",
        "Ransac iteration 423 of 500"
       ]
      },
      {
       "output_type": "stream",
       "stream": "stdout",
       "text": [
        "\r",
        "Ransac iteration 424 of 500"
       ]
      },
      {
       "output_type": "stream",
       "stream": "stdout",
       "text": [
        "\r",
        "Ransac iteration 425 of 500"
       ]
      },
      {
       "output_type": "stream",
       "stream": "stdout",
       "text": [
        "\r",
        "Ransac iteration 426 of 500"
       ]
      },
      {
       "output_type": "stream",
       "stream": "stdout",
       "text": [
        "\r",
        "Ransac iteration 427 of 500"
       ]
      },
      {
       "output_type": "stream",
       "stream": "stdout",
       "text": [
        "\r",
        "Ransac iteration 428 of 500"
       ]
      },
      {
       "output_type": "stream",
       "stream": "stdout",
       "text": [
        "\r",
        "Ransac iteration 429 of 500"
       ]
      },
      {
       "output_type": "stream",
       "stream": "stdout",
       "text": [
        "\r",
        "Ransac iteration 430 of 500"
       ]
      },
      {
       "output_type": "stream",
       "stream": "stdout",
       "text": [
        "\r",
        "Ransac iteration 431 of 500"
       ]
      },
      {
       "output_type": "stream",
       "stream": "stdout",
       "text": [
        "\r",
        "Ransac iteration 432 of 500"
       ]
      },
      {
       "output_type": "stream",
       "stream": "stdout",
       "text": [
        "\r",
        "Ransac iteration 433 of 500"
       ]
      },
      {
       "output_type": "stream",
       "stream": "stdout",
       "text": [
        "\r",
        "Ransac iteration 434 of 500"
       ]
      },
      {
       "output_type": "stream",
       "stream": "stdout",
       "text": [
        "\r",
        "Ransac iteration 435 of 500"
       ]
      },
      {
       "output_type": "stream",
       "stream": "stdout",
       "text": [
        "\r",
        "Ransac iteration 436 of 500"
       ]
      },
      {
       "output_type": "stream",
       "stream": "stdout",
       "text": [
        "\r",
        "Ransac iteration 437 of 500"
       ]
      },
      {
       "output_type": "stream",
       "stream": "stdout",
       "text": [
        "\r",
        "Ransac iteration 438 of 500"
       ]
      },
      {
       "output_type": "stream",
       "stream": "stdout",
       "text": [
        "\r",
        "Ransac iteration 439 of 500"
       ]
      },
      {
       "output_type": "stream",
       "stream": "stdout",
       "text": [
        "\r",
        "Ransac iteration 440 of 500"
       ]
      },
      {
       "output_type": "stream",
       "stream": "stdout",
       "text": [
        "\r",
        "Ransac iteration 441 of 500"
       ]
      },
      {
       "output_type": "stream",
       "stream": "stdout",
       "text": [
        "\r",
        "Ransac iteration 442 of 500"
       ]
      },
      {
       "output_type": "stream",
       "stream": "stdout",
       "text": [
        "\r",
        "Ransac iteration 443 of 500"
       ]
      },
      {
       "output_type": "stream",
       "stream": "stdout",
       "text": [
        "\r",
        "Ransac iteration 444 of 500"
       ]
      },
      {
       "output_type": "stream",
       "stream": "stdout",
       "text": [
        "\r",
        "Ransac iteration 445 of 500"
       ]
      },
      {
       "output_type": "stream",
       "stream": "stdout",
       "text": [
        "\r",
        "Ransac iteration 446 of 500"
       ]
      },
      {
       "output_type": "stream",
       "stream": "stdout",
       "text": [
        "\r",
        "Ransac iteration 447 of 500"
       ]
      },
      {
       "output_type": "stream",
       "stream": "stdout",
       "text": [
        "\r",
        "Ransac iteration 448 of 500"
       ]
      },
      {
       "output_type": "stream",
       "stream": "stdout",
       "text": [
        "\r",
        "Ransac iteration 449 of 500"
       ]
      },
      {
       "output_type": "stream",
       "stream": "stdout",
       "text": [
        "\r",
        "Ransac iteration 450 of 500"
       ]
      },
      {
       "output_type": "stream",
       "stream": "stdout",
       "text": [
        "\r",
        "Ransac iteration 451 of 500"
       ]
      },
      {
       "output_type": "stream",
       "stream": "stdout",
       "text": [
        "\r",
        "Ransac iteration 452 of 500"
       ]
      },
      {
       "output_type": "stream",
       "stream": "stdout",
       "text": [
        "\r",
        "Ransac iteration 453 of 500"
       ]
      },
      {
       "output_type": "stream",
       "stream": "stdout",
       "text": [
        "\r",
        "Ransac iteration 454 of 500"
       ]
      },
      {
       "output_type": "stream",
       "stream": "stdout",
       "text": [
        "\r",
        "Ransac iteration 455 of 500"
       ]
      },
      {
       "output_type": "stream",
       "stream": "stdout",
       "text": [
        "\r",
        "Ransac iteration 456 of 500"
       ]
      },
      {
       "output_type": "stream",
       "stream": "stdout",
       "text": [
        "\r",
        "Ransac iteration 457 of 500"
       ]
      },
      {
       "output_type": "stream",
       "stream": "stdout",
       "text": [
        "\r",
        "Ransac iteration 458 of 500"
       ]
      },
      {
       "output_type": "stream",
       "stream": "stdout",
       "text": [
        "\r",
        "Ransac iteration 459 of 500"
       ]
      },
      {
       "output_type": "stream",
       "stream": "stdout",
       "text": [
        "\r",
        "Ransac iteration 460 of 500"
       ]
      },
      {
       "output_type": "stream",
       "stream": "stdout",
       "text": [
        "\r",
        "Ransac iteration 461 of 500"
       ]
      },
      {
       "output_type": "stream",
       "stream": "stdout",
       "text": [
        "\r",
        "Ransac iteration 462 of 500"
       ]
      },
      {
       "output_type": "stream",
       "stream": "stdout",
       "text": [
        "\r",
        "Ransac iteration 463 of 500"
       ]
      },
      {
       "output_type": "stream",
       "stream": "stdout",
       "text": [
        "\r",
        "Ransac iteration 464 of 500"
       ]
      },
      {
       "output_type": "stream",
       "stream": "stdout",
       "text": [
        "\r",
        "Ransac iteration 465 of 500"
       ]
      },
      {
       "output_type": "stream",
       "stream": "stdout",
       "text": [
        "\r",
        "Ransac iteration 466 of 500"
       ]
      },
      {
       "output_type": "stream",
       "stream": "stdout",
       "text": [
        "\r",
        "Ransac iteration 467 of 500"
       ]
      },
      {
       "output_type": "stream",
       "stream": "stdout",
       "text": [
        "\r",
        "Ransac iteration 468 of 500"
       ]
      },
      {
       "output_type": "stream",
       "stream": "stdout",
       "text": [
        "\r",
        "Ransac iteration 469 of 500"
       ]
      },
      {
       "output_type": "stream",
       "stream": "stdout",
       "text": [
        "\r",
        "Ransac iteration 470 of 500"
       ]
      },
      {
       "output_type": "stream",
       "stream": "stdout",
       "text": [
        "\r",
        "Ransac iteration 471 of 500"
       ]
      },
      {
       "output_type": "stream",
       "stream": "stdout",
       "text": [
        "\r",
        "Ransac iteration 472 of 500"
       ]
      },
      {
       "output_type": "stream",
       "stream": "stdout",
       "text": [
        "\r",
        "Ransac iteration 473 of 500"
       ]
      },
      {
       "output_type": "stream",
       "stream": "stdout",
       "text": [
        "\r",
        "Ransac iteration 474 of 500"
       ]
      },
      {
       "output_type": "stream",
       "stream": "stdout",
       "text": [
        "\r",
        "Ransac iteration 475 of 500"
       ]
      },
      {
       "output_type": "stream",
       "stream": "stdout",
       "text": [
        "\r",
        "Ransac iteration 476 of 500"
       ]
      },
      {
       "output_type": "stream",
       "stream": "stdout",
       "text": [
        "\r",
        "Ransac iteration 477 of 500"
       ]
      },
      {
       "output_type": "stream",
       "stream": "stdout",
       "text": [
        "\r",
        "Ransac iteration 478 of 500"
       ]
      },
      {
       "output_type": "stream",
       "stream": "stdout",
       "text": [
        "\r",
        "Ransac iteration 479 of 500"
       ]
      },
      {
       "output_type": "stream",
       "stream": "stdout",
       "text": [
        "\r",
        "Ransac iteration 480 of 500"
       ]
      },
      {
       "output_type": "stream",
       "stream": "stdout",
       "text": [
        "\r",
        "Ransac iteration 481 of 500"
       ]
      },
      {
       "output_type": "stream",
       "stream": "stdout",
       "text": [
        "\r",
        "Ransac iteration 482 of 500"
       ]
      },
      {
       "output_type": "stream",
       "stream": "stdout",
       "text": [
        "\r",
        "Ransac iteration 483 of 500"
       ]
      },
      {
       "output_type": "stream",
       "stream": "stdout",
       "text": [
        "\r",
        "Ransac iteration 484 of 500"
       ]
      },
      {
       "output_type": "stream",
       "stream": "stdout",
       "text": [
        "\r",
        "Ransac iteration 485 of 500"
       ]
      },
      {
       "output_type": "stream",
       "stream": "stdout",
       "text": [
        "\r",
        "Ransac iteration 486 of 500"
       ]
      },
      {
       "output_type": "stream",
       "stream": "stdout",
       "text": [
        "\r",
        "Ransac iteration 487 of 500"
       ]
      },
      {
       "output_type": "stream",
       "stream": "stdout",
       "text": [
        "\r",
        "Ransac iteration 488 of 500"
       ]
      },
      {
       "output_type": "stream",
       "stream": "stdout",
       "text": [
        "\r",
        "Ransac iteration 489 of 500"
       ]
      },
      {
       "output_type": "stream",
       "stream": "stdout",
       "text": [
        "\r",
        "Ransac iteration 490 of 500"
       ]
      },
      {
       "output_type": "stream",
       "stream": "stdout",
       "text": [
        "\r",
        "Ransac iteration 491 of 500"
       ]
      },
      {
       "output_type": "stream",
       "stream": "stdout",
       "text": [
        "\r",
        "Ransac iteration 492 of 500"
       ]
      },
      {
       "output_type": "stream",
       "stream": "stdout",
       "text": [
        "\r",
        "Ransac iteration 493 of 500"
       ]
      },
      {
       "output_type": "stream",
       "stream": "stdout",
       "text": [
        "\r",
        "Ransac iteration 494 of 500"
       ]
      },
      {
       "output_type": "stream",
       "stream": "stdout",
       "text": [
        "\r",
        "Ransac iteration 495 of 500"
       ]
      },
      {
       "output_type": "stream",
       "stream": "stdout",
       "text": [
        "\r",
        "Ransac iteration 496 of 500"
       ]
      },
      {
       "output_type": "stream",
       "stream": "stdout",
       "text": [
        "\r",
        "Ransac iteration 497 of 500"
       ]
      },
      {
       "output_type": "stream",
       "stream": "stdout",
       "text": [
        "\r",
        "Ransac iteration 498 of 500"
       ]
      },
      {
       "output_type": "stream",
       "stream": "stdout",
       "text": [
        "\r",
        "Ransac iteration 499 of 500"
       ]
      },
      {
       "output_type": "stream",
       "stream": "stdout",
       "text": [
        "\n",
        "\r",
        "Ransac iteration 0 of 500"
       ]
      },
      {
       "output_type": "stream",
       "stream": "stdout",
       "text": [
        "\r",
        "Ransac iteration 1 of 500"
       ]
      },
      {
       "output_type": "stream",
       "stream": "stdout",
       "text": [
        "\r",
        "Ransac iteration 2 of 500"
       ]
      },
      {
       "output_type": "stream",
       "stream": "stdout",
       "text": [
        "\r",
        "Ransac iteration 3 of 500"
       ]
      },
      {
       "output_type": "stream",
       "stream": "stdout",
       "text": [
        "\r",
        "Ransac iteration 4 of 500"
       ]
      },
      {
       "output_type": "stream",
       "stream": "stdout",
       "text": [
        "\r",
        "Ransac iteration 5 of 500"
       ]
      },
      {
       "output_type": "stream",
       "stream": "stdout",
       "text": [
        "\r",
        "Ransac iteration 6 of 500"
       ]
      },
      {
       "output_type": "stream",
       "stream": "stdout",
       "text": [
        "\r",
        "Ransac iteration 7 of 500"
       ]
      },
      {
       "output_type": "stream",
       "stream": "stdout",
       "text": [
        "\r",
        "Ransac iteration 8 of 500"
       ]
      },
      {
       "output_type": "stream",
       "stream": "stdout",
       "text": [
        "\r",
        "Ransac iteration 9 of 500"
       ]
      },
      {
       "output_type": "stream",
       "stream": "stdout",
       "text": [
        "\r",
        "Ransac iteration 10 of 500"
       ]
      },
      {
       "output_type": "stream",
       "stream": "stdout",
       "text": [
        "\r",
        "Ransac iteration 11 of 500"
       ]
      },
      {
       "output_type": "stream",
       "stream": "stdout",
       "text": [
        "\r",
        "Ransac iteration 12 of 500"
       ]
      },
      {
       "output_type": "stream",
       "stream": "stdout",
       "text": [
        "\r",
        "Ransac iteration 13 of 500"
       ]
      },
      {
       "output_type": "stream",
       "stream": "stdout",
       "text": [
        "\r",
        "Ransac iteration 14 of 500"
       ]
      },
      {
       "output_type": "stream",
       "stream": "stdout",
       "text": [
        "\r",
        "Ransac iteration 15 of 500"
       ]
      },
      {
       "output_type": "stream",
       "stream": "stdout",
       "text": [
        "\r",
        "Ransac iteration 16 of 500"
       ]
      },
      {
       "output_type": "stream",
       "stream": "stdout",
       "text": [
        "\r",
        "Ransac iteration 17 of 500"
       ]
      },
      {
       "output_type": "stream",
       "stream": "stdout",
       "text": [
        "\r",
        "Ransac iteration 18 of 500"
       ]
      },
      {
       "output_type": "stream",
       "stream": "stdout",
       "text": [
        "\r",
        "Ransac iteration 19 of 500"
       ]
      },
      {
       "output_type": "stream",
       "stream": "stdout",
       "text": [
        "\r",
        "Ransac iteration 20 of 500"
       ]
      },
      {
       "output_type": "stream",
       "stream": "stdout",
       "text": [
        "\r",
        "Ransac iteration 21 of 500"
       ]
      },
      {
       "output_type": "stream",
       "stream": "stdout",
       "text": [
        "\r",
        "Ransac iteration 22 of 500"
       ]
      },
      {
       "output_type": "stream",
       "stream": "stdout",
       "text": [
        "\r",
        "Ransac iteration 23 of 500"
       ]
      },
      {
       "output_type": "stream",
       "stream": "stdout",
       "text": [
        "\r",
        "Ransac iteration 24 of 500"
       ]
      },
      {
       "output_type": "stream",
       "stream": "stdout",
       "text": [
        "\r",
        "Ransac iteration 25 of 500"
       ]
      },
      {
       "output_type": "stream",
       "stream": "stdout",
       "text": [
        "\r",
        "Ransac iteration 26 of 500"
       ]
      },
      {
       "output_type": "stream",
       "stream": "stdout",
       "text": [
        "\r",
        "Ransac iteration 27 of 500"
       ]
      },
      {
       "output_type": "stream",
       "stream": "stdout",
       "text": [
        "\r",
        "Ransac iteration 28 of 500"
       ]
      },
      {
       "output_type": "stream",
       "stream": "stdout",
       "text": [
        "\r",
        "Ransac iteration 29 of 500"
       ]
      },
      {
       "output_type": "stream",
       "stream": "stdout",
       "text": [
        "\r",
        "Ransac iteration 30 of 500"
       ]
      },
      {
       "output_type": "stream",
       "stream": "stdout",
       "text": [
        "\r",
        "Ransac iteration 31 of 500"
       ]
      },
      {
       "output_type": "stream",
       "stream": "stdout",
       "text": [
        "\r",
        "Ransac iteration 32 of 500"
       ]
      },
      {
       "output_type": "stream",
       "stream": "stdout",
       "text": [
        "\r",
        "Ransac iteration 33 of 500"
       ]
      },
      {
       "output_type": "stream",
       "stream": "stdout",
       "text": [
        "\r",
        "Ransac iteration 34 of 500"
       ]
      },
      {
       "output_type": "stream",
       "stream": "stdout",
       "text": [
        "\r",
        "Ransac iteration 35 of 500"
       ]
      },
      {
       "output_type": "stream",
       "stream": "stdout",
       "text": [
        "\r",
        "Ransac iteration 36 of 500"
       ]
      },
      {
       "output_type": "stream",
       "stream": "stdout",
       "text": [
        "\r",
        "Ransac iteration 37 of 500"
       ]
      },
      {
       "output_type": "stream",
       "stream": "stdout",
       "text": [
        "\r",
        "Ransac iteration 38 of 500"
       ]
      },
      {
       "output_type": "stream",
       "stream": "stdout",
       "text": [
        "\r",
        "Ransac iteration 39 of 500"
       ]
      },
      {
       "output_type": "stream",
       "stream": "stdout",
       "text": [
        "\r",
        "Ransac iteration 40 of 500"
       ]
      },
      {
       "output_type": "stream",
       "stream": "stdout",
       "text": [
        "\r",
        "Ransac iteration 41 of 500"
       ]
      },
      {
       "output_type": "stream",
       "stream": "stdout",
       "text": [
        "\r",
        "Ransac iteration 42 of 500"
       ]
      },
      {
       "output_type": "stream",
       "stream": "stdout",
       "text": [
        "\r",
        "Ransac iteration 43 of 500"
       ]
      },
      {
       "output_type": "stream",
       "stream": "stdout",
       "text": [
        "\r",
        "Ransac iteration 44 of 500"
       ]
      },
      {
       "output_type": "stream",
       "stream": "stdout",
       "text": [
        "\r",
        "Ransac iteration 45 of 500"
       ]
      },
      {
       "output_type": "stream",
       "stream": "stdout",
       "text": [
        "\r",
        "Ransac iteration 46 of 500"
       ]
      },
      {
       "output_type": "stream",
       "stream": "stdout",
       "text": [
        "\r",
        "Ransac iteration 47 of 500"
       ]
      },
      {
       "output_type": "stream",
       "stream": "stdout",
       "text": [
        "\r",
        "Ransac iteration 48 of 500"
       ]
      },
      {
       "output_type": "stream",
       "stream": "stdout",
       "text": [
        "\r",
        "Ransac iteration 49 of 500"
       ]
      },
      {
       "output_type": "stream",
       "stream": "stdout",
       "text": [
        "\r",
        "Ransac iteration 50 of 500"
       ]
      },
      {
       "output_type": "stream",
       "stream": "stdout",
       "text": [
        "\r",
        "Ransac iteration 51 of 500"
       ]
      },
      {
       "output_type": "stream",
       "stream": "stdout",
       "text": [
        "\r",
        "Ransac iteration 52 of 500"
       ]
      },
      {
       "output_type": "stream",
       "stream": "stdout",
       "text": [
        "\r",
        "Ransac iteration 53 of 500"
       ]
      },
      {
       "output_type": "stream",
       "stream": "stdout",
       "text": [
        "\r",
        "Ransac iteration 54 of 500"
       ]
      },
      {
       "output_type": "stream",
       "stream": "stdout",
       "text": [
        "\r",
        "Ransac iteration 55 of 500"
       ]
      },
      {
       "output_type": "stream",
       "stream": "stdout",
       "text": [
        "\r",
        "Ransac iteration 56 of 500"
       ]
      },
      {
       "output_type": "stream",
       "stream": "stdout",
       "text": [
        "\r",
        "Ransac iteration 57 of 500"
       ]
      },
      {
       "output_type": "stream",
       "stream": "stdout",
       "text": [
        "\r",
        "Ransac iteration 58 of 500"
       ]
      },
      {
       "output_type": "stream",
       "stream": "stdout",
       "text": [
        "\r",
        "Ransac iteration 59 of 500"
       ]
      },
      {
       "output_type": "stream",
       "stream": "stdout",
       "text": [
        "\r",
        "Ransac iteration 60 of 500"
       ]
      },
      {
       "output_type": "stream",
       "stream": "stdout",
       "text": [
        "\r",
        "Ransac iteration 61 of 500"
       ]
      },
      {
       "output_type": "stream",
       "stream": "stdout",
       "text": [
        "\r",
        "Ransac iteration 62 of 500"
       ]
      },
      {
       "output_type": "stream",
       "stream": "stdout",
       "text": [
        "\r",
        "Ransac iteration 63 of 500"
       ]
      },
      {
       "output_type": "stream",
       "stream": "stdout",
       "text": [
        "\r",
        "Ransac iteration 64 of 500"
       ]
      },
      {
       "output_type": "stream",
       "stream": "stdout",
       "text": [
        "\r",
        "Ransac iteration 65 of 500"
       ]
      },
      {
       "output_type": "stream",
       "stream": "stdout",
       "text": [
        "\r",
        "Ransac iteration 66 of 500"
       ]
      },
      {
       "output_type": "stream",
       "stream": "stdout",
       "text": [
        "\r",
        "Ransac iteration 67 of 500"
       ]
      },
      {
       "output_type": "stream",
       "stream": "stdout",
       "text": [
        "\r",
        "Ransac iteration 68 of 500"
       ]
      },
      {
       "output_type": "stream",
       "stream": "stdout",
       "text": [
        "\r",
        "Ransac iteration 69 of 500"
       ]
      },
      {
       "output_type": "stream",
       "stream": "stdout",
       "text": [
        "\r",
        "Ransac iteration 70 of 500"
       ]
      },
      {
       "output_type": "stream",
       "stream": "stdout",
       "text": [
        "\r",
        "Ransac iteration 71 of 500"
       ]
      },
      {
       "output_type": "stream",
       "stream": "stdout",
       "text": [
        "\r",
        "Ransac iteration 72 of 500"
       ]
      },
      {
       "output_type": "stream",
       "stream": "stdout",
       "text": [
        "\r",
        "Ransac iteration 73 of 500"
       ]
      },
      {
       "output_type": "stream",
       "stream": "stdout",
       "text": [
        "\r",
        "Ransac iteration 74 of 500"
       ]
      },
      {
       "output_type": "stream",
       "stream": "stdout",
       "text": [
        "\r",
        "Ransac iteration 75 of 500"
       ]
      },
      {
       "output_type": "stream",
       "stream": "stdout",
       "text": [
        "\r",
        "Ransac iteration 76 of 500"
       ]
      },
      {
       "output_type": "stream",
       "stream": "stdout",
       "text": [
        "\r",
        "Ransac iteration 77 of 500"
       ]
      },
      {
       "output_type": "stream",
       "stream": "stdout",
       "text": [
        "\r",
        "Ransac iteration 78 of 500"
       ]
      },
      {
       "output_type": "stream",
       "stream": "stdout",
       "text": [
        "\r",
        "Ransac iteration 79 of 500"
       ]
      },
      {
       "output_type": "stream",
       "stream": "stdout",
       "text": [
        "\r",
        "Ransac iteration 80 of 500"
       ]
      },
      {
       "output_type": "stream",
       "stream": "stdout",
       "text": [
        "\r",
        "Ransac iteration 81 of 500"
       ]
      },
      {
       "output_type": "stream",
       "stream": "stdout",
       "text": [
        "\r",
        "Ransac iteration 82 of 500"
       ]
      },
      {
       "output_type": "stream",
       "stream": "stdout",
       "text": [
        "\r",
        "Ransac iteration 83 of 500"
       ]
      },
      {
       "output_type": "stream",
       "stream": "stdout",
       "text": [
        "\r",
        "Ransac iteration 84 of 500"
       ]
      },
      {
       "output_type": "stream",
       "stream": "stdout",
       "text": [
        "\r",
        "Ransac iteration 85 of 500"
       ]
      },
      {
       "output_type": "stream",
       "stream": "stdout",
       "text": [
        "\r",
        "Ransac iteration 86 of 500"
       ]
      },
      {
       "output_type": "stream",
       "stream": "stdout",
       "text": [
        "\r",
        "Ransac iteration 87 of 500"
       ]
      },
      {
       "output_type": "stream",
       "stream": "stdout",
       "text": [
        "\r",
        "Ransac iteration 88 of 500"
       ]
      },
      {
       "output_type": "stream",
       "stream": "stdout",
       "text": [
        "\r",
        "Ransac iteration 89 of 500"
       ]
      },
      {
       "output_type": "stream",
       "stream": "stdout",
       "text": [
        "\r",
        "Ransac iteration 90 of 500"
       ]
      },
      {
       "output_type": "stream",
       "stream": "stdout",
       "text": [
        "\r",
        "Ransac iteration 91 of 500"
       ]
      },
      {
       "output_type": "stream",
       "stream": "stdout",
       "text": [
        "\r",
        "Ransac iteration 92 of 500"
       ]
      },
      {
       "output_type": "stream",
       "stream": "stdout",
       "text": [
        "\r",
        "Ransac iteration 93 of 500"
       ]
      },
      {
       "output_type": "stream",
       "stream": "stdout",
       "text": [
        "\r",
        "Ransac iteration 94 of 500"
       ]
      },
      {
       "output_type": "stream",
       "stream": "stdout",
       "text": [
        "\r",
        "Ransac iteration 95 of 500"
       ]
      },
      {
       "output_type": "stream",
       "stream": "stdout",
       "text": [
        "\r",
        "Ransac iteration 96 of 500"
       ]
      },
      {
       "output_type": "stream",
       "stream": "stdout",
       "text": [
        "\r",
        "Ransac iteration 97 of 500"
       ]
      },
      {
       "output_type": "stream",
       "stream": "stdout",
       "text": [
        "\r",
        "Ransac iteration 98 of 500"
       ]
      },
      {
       "output_type": "stream",
       "stream": "stdout",
       "text": [
        "\r",
        "Ransac iteration 99 of 500"
       ]
      },
      {
       "output_type": "stream",
       "stream": "stdout",
       "text": [
        "\r",
        "Ransac iteration 100 of 500"
       ]
      },
      {
       "output_type": "stream",
       "stream": "stdout",
       "text": [
        "\r",
        "Ransac iteration 101 of 500"
       ]
      },
      {
       "output_type": "stream",
       "stream": "stdout",
       "text": [
        "\r",
        "Ransac iteration 102 of 500"
       ]
      },
      {
       "output_type": "stream",
       "stream": "stdout",
       "text": [
        "\r",
        "Ransac iteration 103 of 500"
       ]
      },
      {
       "output_type": "stream",
       "stream": "stdout",
       "text": [
        "\r",
        "Ransac iteration 104 of 500"
       ]
      },
      {
       "output_type": "stream",
       "stream": "stdout",
       "text": [
        "\r",
        "Ransac iteration 105 of 500"
       ]
      },
      {
       "output_type": "stream",
       "stream": "stdout",
       "text": [
        "\r",
        "Ransac iteration 106 of 500"
       ]
      },
      {
       "output_type": "stream",
       "stream": "stdout",
       "text": [
        "\r",
        "Ransac iteration 107 of 500"
       ]
      },
      {
       "output_type": "stream",
       "stream": "stdout",
       "text": [
        "\r",
        "Ransac iteration 108 of 500"
       ]
      },
      {
       "output_type": "stream",
       "stream": "stdout",
       "text": [
        "\r",
        "Ransac iteration 109 of 500"
       ]
      },
      {
       "output_type": "stream",
       "stream": "stdout",
       "text": [
        "\r",
        "Ransac iteration 110 of 500"
       ]
      },
      {
       "output_type": "stream",
       "stream": "stdout",
       "text": [
        "\r",
        "Ransac iteration 111 of 500"
       ]
      },
      {
       "output_type": "stream",
       "stream": "stdout",
       "text": [
        "\r",
        "Ransac iteration 112 of 500"
       ]
      },
      {
       "output_type": "stream",
       "stream": "stdout",
       "text": [
        "\r",
        "Ransac iteration 113 of 500"
       ]
      },
      {
       "output_type": "stream",
       "stream": "stdout",
       "text": [
        "\r",
        "Ransac iteration 114 of 500"
       ]
      },
      {
       "output_type": "stream",
       "stream": "stdout",
       "text": [
        "\r",
        "Ransac iteration 115 of 500"
       ]
      },
      {
       "output_type": "stream",
       "stream": "stdout",
       "text": [
        "\r",
        "Ransac iteration 116 of 500"
       ]
      },
      {
       "output_type": "stream",
       "stream": "stdout",
       "text": [
        "\r",
        "Ransac iteration 117 of 500"
       ]
      },
      {
       "output_type": "stream",
       "stream": "stdout",
       "text": [
        "\r",
        "Ransac iteration 118 of 500"
       ]
      },
      {
       "output_type": "stream",
       "stream": "stdout",
       "text": [
        "\r",
        "Ransac iteration 119 of 500"
       ]
      },
      {
       "output_type": "stream",
       "stream": "stdout",
       "text": [
        "\r",
        "Ransac iteration 120 of 500"
       ]
      },
      {
       "output_type": "stream",
       "stream": "stdout",
       "text": [
        "\r",
        "Ransac iteration 121 of 500"
       ]
      },
      {
       "output_type": "stream",
       "stream": "stdout",
       "text": [
        "\r",
        "Ransac iteration 122 of 500"
       ]
      },
      {
       "output_type": "stream",
       "stream": "stdout",
       "text": [
        "\r",
        "Ransac iteration 123 of 500"
       ]
      },
      {
       "output_type": "stream",
       "stream": "stdout",
       "text": [
        "\r",
        "Ransac iteration 124 of 500"
       ]
      },
      {
       "output_type": "stream",
       "stream": "stdout",
       "text": [
        "\r",
        "Ransac iteration 125 of 500"
       ]
      },
      {
       "output_type": "stream",
       "stream": "stdout",
       "text": [
        "\r",
        "Ransac iteration 126 of 500"
       ]
      },
      {
       "output_type": "stream",
       "stream": "stdout",
       "text": [
        "\r",
        "Ransac iteration 127 of 500"
       ]
      },
      {
       "output_type": "stream",
       "stream": "stdout",
       "text": [
        "\r",
        "Ransac iteration 128 of 500"
       ]
      },
      {
       "output_type": "stream",
       "stream": "stdout",
       "text": [
        "\r",
        "Ransac iteration 129 of 500"
       ]
      },
      {
       "output_type": "stream",
       "stream": "stdout",
       "text": [
        "\r",
        "Ransac iteration 130 of 500"
       ]
      },
      {
       "output_type": "stream",
       "stream": "stdout",
       "text": [
        "\r",
        "Ransac iteration 131 of 500"
       ]
      },
      {
       "output_type": "stream",
       "stream": "stdout",
       "text": [
        "\r",
        "Ransac iteration 132 of 500"
       ]
      },
      {
       "output_type": "stream",
       "stream": "stdout",
       "text": [
        "\r",
        "Ransac iteration 133 of 500"
       ]
      },
      {
       "output_type": "stream",
       "stream": "stdout",
       "text": [
        "\r",
        "Ransac iteration 134 of 500"
       ]
      },
      {
       "output_type": "stream",
       "stream": "stdout",
       "text": [
        "\r",
        "Ransac iteration 135 of 500"
       ]
      },
      {
       "output_type": "stream",
       "stream": "stdout",
       "text": [
        "\r",
        "Ransac iteration 136 of 500"
       ]
      },
      {
       "output_type": "stream",
       "stream": "stdout",
       "text": [
        "\r",
        "Ransac iteration 137 of 500"
       ]
      },
      {
       "output_type": "stream",
       "stream": "stdout",
       "text": [
        "\r",
        "Ransac iteration 138 of 500"
       ]
      },
      {
       "output_type": "stream",
       "stream": "stdout",
       "text": [
        "\r",
        "Ransac iteration 139 of 500"
       ]
      },
      {
       "output_type": "stream",
       "stream": "stdout",
       "text": [
        "\r",
        "Ransac iteration 140 of 500"
       ]
      },
      {
       "output_type": "stream",
       "stream": "stdout",
       "text": [
        "\r",
        "Ransac iteration 141 of 500"
       ]
      },
      {
       "output_type": "stream",
       "stream": "stdout",
       "text": [
        "\r",
        "Ransac iteration 142 of 500"
       ]
      },
      {
       "output_type": "stream",
       "stream": "stdout",
       "text": [
        "\r",
        "Ransac iteration 143 of 500"
       ]
      },
      {
       "output_type": "stream",
       "stream": "stdout",
       "text": [
        "\r",
        "Ransac iteration 144 of 500"
       ]
      },
      {
       "output_type": "stream",
       "stream": "stdout",
       "text": [
        "\r",
        "Ransac iteration 145 of 500"
       ]
      },
      {
       "output_type": "stream",
       "stream": "stdout",
       "text": [
        "\r",
        "Ransac iteration 146 of 500"
       ]
      },
      {
       "output_type": "stream",
       "stream": "stdout",
       "text": [
        "\r",
        "Ransac iteration 147 of 500"
       ]
      },
      {
       "output_type": "stream",
       "stream": "stdout",
       "text": [
        "\r",
        "Ransac iteration 148 of 500"
       ]
      },
      {
       "output_type": "stream",
       "stream": "stdout",
       "text": [
        "\r",
        "Ransac iteration 149 of 500"
       ]
      },
      {
       "output_type": "stream",
       "stream": "stdout",
       "text": [
        "\r",
        "Ransac iteration 150 of 500"
       ]
      },
      {
       "output_type": "stream",
       "stream": "stdout",
       "text": [
        "\r",
        "Ransac iteration 151 of 500"
       ]
      },
      {
       "output_type": "stream",
       "stream": "stdout",
       "text": [
        "\r",
        "Ransac iteration 152 of 500"
       ]
      },
      {
       "output_type": "stream",
       "stream": "stdout",
       "text": [
        "\r",
        "Ransac iteration 153 of 500"
       ]
      },
      {
       "output_type": "stream",
       "stream": "stdout",
       "text": [
        "\r",
        "Ransac iteration 154 of 500"
       ]
      },
      {
       "output_type": "stream",
       "stream": "stdout",
       "text": [
        "\r",
        "Ransac iteration 155 of 500"
       ]
      },
      {
       "output_type": "stream",
       "stream": "stdout",
       "text": [
        "\r",
        "Ransac iteration 156 of 500"
       ]
      },
      {
       "output_type": "stream",
       "stream": "stdout",
       "text": [
        "\r",
        "Ransac iteration 157 of 500"
       ]
      },
      {
       "output_type": "stream",
       "stream": "stdout",
       "text": [
        "\r",
        "Ransac iteration 158 of 500"
       ]
      },
      {
       "output_type": "stream",
       "stream": "stdout",
       "text": [
        "\r",
        "Ransac iteration 159 of 500"
       ]
      },
      {
       "output_type": "stream",
       "stream": "stdout",
       "text": [
        "\r",
        "Ransac iteration 160 of 500"
       ]
      },
      {
       "output_type": "stream",
       "stream": "stdout",
       "text": [
        "\r",
        "Ransac iteration 161 of 500"
       ]
      },
      {
       "output_type": "stream",
       "stream": "stdout",
       "text": [
        "\r",
        "Ransac iteration 162 of 500"
       ]
      },
      {
       "output_type": "stream",
       "stream": "stdout",
       "text": [
        "\r",
        "Ransac iteration 163 of 500"
       ]
      },
      {
       "output_type": "stream",
       "stream": "stdout",
       "text": [
        "\r",
        "Ransac iteration 164 of 500"
       ]
      },
      {
       "output_type": "stream",
       "stream": "stdout",
       "text": [
        "\r",
        "Ransac iteration 165 of 500"
       ]
      },
      {
       "output_type": "stream",
       "stream": "stdout",
       "text": [
        "\r",
        "Ransac iteration 166 of 500"
       ]
      },
      {
       "output_type": "stream",
       "stream": "stdout",
       "text": [
        "\r",
        "Ransac iteration 167 of 500"
       ]
      },
      {
       "output_type": "stream",
       "stream": "stdout",
       "text": [
        "\r",
        "Ransac iteration 168 of 500"
       ]
      },
      {
       "output_type": "stream",
       "stream": "stdout",
       "text": [
        "\r",
        "Ransac iteration 169 of 500"
       ]
      },
      {
       "output_type": "stream",
       "stream": "stdout",
       "text": [
        "\r",
        "Ransac iteration 170 of 500"
       ]
      },
      {
       "output_type": "stream",
       "stream": "stdout",
       "text": [
        "\r",
        "Ransac iteration 171 of 500"
       ]
      },
      {
       "output_type": "stream",
       "stream": "stdout",
       "text": [
        "\r",
        "Ransac iteration 172 of 500"
       ]
      },
      {
       "output_type": "stream",
       "stream": "stdout",
       "text": [
        "\r",
        "Ransac iteration 173 of 500"
       ]
      },
      {
       "output_type": "stream",
       "stream": "stdout",
       "text": [
        "\r",
        "Ransac iteration 174 of 500"
       ]
      },
      {
       "output_type": "stream",
       "stream": "stdout",
       "text": [
        "\r",
        "Ransac iteration 175 of 500"
       ]
      },
      {
       "output_type": "stream",
       "stream": "stdout",
       "text": [
        "\r",
        "Ransac iteration 176 of 500"
       ]
      },
      {
       "output_type": "stream",
       "stream": "stdout",
       "text": [
        "\r",
        "Ransac iteration 177 of 500"
       ]
      },
      {
       "output_type": "stream",
       "stream": "stdout",
       "text": [
        "\r",
        "Ransac iteration 178 of 500"
       ]
      },
      {
       "output_type": "stream",
       "stream": "stdout",
       "text": [
        "\r",
        "Ransac iteration 179 of 500"
       ]
      },
      {
       "output_type": "stream",
       "stream": "stdout",
       "text": [
        "\r",
        "Ransac iteration 180 of 500"
       ]
      },
      {
       "output_type": "stream",
       "stream": "stdout",
       "text": [
        "\r",
        "Ransac iteration 181 of 500"
       ]
      },
      {
       "output_type": "stream",
       "stream": "stdout",
       "text": [
        "\r",
        "Ransac iteration 182 of 500"
       ]
      },
      {
       "output_type": "stream",
       "stream": "stdout",
       "text": [
        "\r",
        "Ransac iteration 183 of 500"
       ]
      },
      {
       "output_type": "stream",
       "stream": "stdout",
       "text": [
        "\r",
        "Ransac iteration 184 of 500"
       ]
      },
      {
       "output_type": "stream",
       "stream": "stdout",
       "text": [
        "\r",
        "Ransac iteration 185 of 500"
       ]
      },
      {
       "output_type": "stream",
       "stream": "stdout",
       "text": [
        "\r",
        "Ransac iteration 186 of 500"
       ]
      },
      {
       "output_type": "stream",
       "stream": "stdout",
       "text": [
        "\r",
        "Ransac iteration 187 of 500"
       ]
      },
      {
       "output_type": "stream",
       "stream": "stdout",
       "text": [
        "\r",
        "Ransac iteration 188 of 500"
       ]
      },
      {
       "output_type": "stream",
       "stream": "stdout",
       "text": [
        "\r",
        "Ransac iteration 189 of 500"
       ]
      },
      {
       "output_type": "stream",
       "stream": "stdout",
       "text": [
        "\r",
        "Ransac iteration 190 of 500"
       ]
      },
      {
       "output_type": "stream",
       "stream": "stdout",
       "text": [
        "\r",
        "Ransac iteration 191 of 500"
       ]
      },
      {
       "output_type": "stream",
       "stream": "stdout",
       "text": [
        "\r",
        "Ransac iteration 192 of 500"
       ]
      },
      {
       "output_type": "stream",
       "stream": "stdout",
       "text": [
        "\r",
        "Ransac iteration 193 of 500"
       ]
      },
      {
       "output_type": "stream",
       "stream": "stdout",
       "text": [
        "\r",
        "Ransac iteration 194 of 500"
       ]
      },
      {
       "output_type": "stream",
       "stream": "stdout",
       "text": [
        "\r",
        "Ransac iteration 195 of 500"
       ]
      },
      {
       "output_type": "stream",
       "stream": "stdout",
       "text": [
        "\r",
        "Ransac iteration 196 of 500"
       ]
      },
      {
       "output_type": "stream",
       "stream": "stdout",
       "text": [
        "\r",
        "Ransac iteration 197 of 500"
       ]
      },
      {
       "output_type": "stream",
       "stream": "stdout",
       "text": [
        "\r",
        "Ransac iteration 198 of 500"
       ]
      },
      {
       "output_type": "stream",
       "stream": "stdout",
       "text": [
        "\r",
        "Ransac iteration 199 of 500"
       ]
      },
      {
       "output_type": "stream",
       "stream": "stdout",
       "text": [
        "\r",
        "Ransac iteration 200 of 500"
       ]
      },
      {
       "output_type": "stream",
       "stream": "stdout",
       "text": [
        "\r",
        "Ransac iteration 201 of 500"
       ]
      },
      {
       "output_type": "stream",
       "stream": "stdout",
       "text": [
        "\r",
        "Ransac iteration 202 of 500"
       ]
      },
      {
       "output_type": "stream",
       "stream": "stdout",
       "text": [
        "\r",
        "Ransac iteration 203 of 500"
       ]
      },
      {
       "output_type": "stream",
       "stream": "stdout",
       "text": [
        "\r",
        "Ransac iteration 204 of 500"
       ]
      },
      {
       "output_type": "stream",
       "stream": "stdout",
       "text": [
        "\r",
        "Ransac iteration 205 of 500"
       ]
      },
      {
       "output_type": "stream",
       "stream": "stdout",
       "text": [
        "\r",
        "Ransac iteration 206 of 500"
       ]
      },
      {
       "output_type": "stream",
       "stream": "stdout",
       "text": [
        "\r",
        "Ransac iteration 207 of 500"
       ]
      },
      {
       "output_type": "stream",
       "stream": "stdout",
       "text": [
        "\r",
        "Ransac iteration 208 of 500"
       ]
      },
      {
       "output_type": "stream",
       "stream": "stdout",
       "text": [
        "\r",
        "Ransac iteration 209 of 500"
       ]
      },
      {
       "output_type": "stream",
       "stream": "stdout",
       "text": [
        "\r",
        "Ransac iteration 210 of 500"
       ]
      },
      {
       "output_type": "stream",
       "stream": "stdout",
       "text": [
        "\r",
        "Ransac iteration 211 of 500"
       ]
      },
      {
       "output_type": "stream",
       "stream": "stdout",
       "text": [
        "\r",
        "Ransac iteration 212 of 500"
       ]
      },
      {
       "output_type": "stream",
       "stream": "stdout",
       "text": [
        "\r",
        "Ransac iteration 213 of 500"
       ]
      },
      {
       "output_type": "stream",
       "stream": "stdout",
       "text": [
        "\r",
        "Ransac iteration 214 of 500"
       ]
      },
      {
       "output_type": "stream",
       "stream": "stdout",
       "text": [
        "\r",
        "Ransac iteration 215 of 500"
       ]
      },
      {
       "output_type": "stream",
       "stream": "stdout",
       "text": [
        "\r",
        "Ransac iteration 216 of 500"
       ]
      },
      {
       "output_type": "stream",
       "stream": "stdout",
       "text": [
        "\r",
        "Ransac iteration 217 of 500"
       ]
      },
      {
       "output_type": "stream",
       "stream": "stdout",
       "text": [
        "\r",
        "Ransac iteration 218 of 500"
       ]
      },
      {
       "output_type": "stream",
       "stream": "stdout",
       "text": [
        "\r",
        "Ransac iteration 219 of 500"
       ]
      },
      {
       "output_type": "stream",
       "stream": "stdout",
       "text": [
        "\r",
        "Ransac iteration 220 of 500"
       ]
      },
      {
       "output_type": "stream",
       "stream": "stdout",
       "text": [
        "\r",
        "Ransac iteration 221 of 500"
       ]
      },
      {
       "output_type": "stream",
       "stream": "stdout",
       "text": [
        "\r",
        "Ransac iteration 222 of 500"
       ]
      },
      {
       "output_type": "stream",
       "stream": "stdout",
       "text": [
        "\r",
        "Ransac iteration 223 of 500"
       ]
      },
      {
       "output_type": "stream",
       "stream": "stdout",
       "text": [
        "\r",
        "Ransac iteration 224 of 500"
       ]
      },
      {
       "output_type": "stream",
       "stream": "stdout",
       "text": [
        "\r",
        "Ransac iteration 225 of 500"
       ]
      },
      {
       "output_type": "stream",
       "stream": "stdout",
       "text": [
        "\r",
        "Ransac iteration 226 of 500"
       ]
      },
      {
       "output_type": "stream",
       "stream": "stdout",
       "text": [
        "\r",
        "Ransac iteration 227 of 500"
       ]
      },
      {
       "output_type": "stream",
       "stream": "stdout",
       "text": [
        "\r",
        "Ransac iteration 228 of 500"
       ]
      },
      {
       "output_type": "stream",
       "stream": "stdout",
       "text": [
        "\r",
        "Ransac iteration 229 of 500"
       ]
      },
      {
       "output_type": "stream",
       "stream": "stdout",
       "text": [
        "\r",
        "Ransac iteration 230 of 500"
       ]
      },
      {
       "output_type": "stream",
       "stream": "stdout",
       "text": [
        "\r",
        "Ransac iteration 231 of 500"
       ]
      },
      {
       "output_type": "stream",
       "stream": "stdout",
       "text": [
        "\r",
        "Ransac iteration 232 of 500"
       ]
      },
      {
       "output_type": "stream",
       "stream": "stdout",
       "text": [
        "\r",
        "Ransac iteration 233 of 500"
       ]
      },
      {
       "output_type": "stream",
       "stream": "stdout",
       "text": [
        "\r",
        "Ransac iteration 234 of 500"
       ]
      },
      {
       "output_type": "stream",
       "stream": "stdout",
       "text": [
        "\r",
        "Ransac iteration 235 of 500"
       ]
      },
      {
       "output_type": "stream",
       "stream": "stdout",
       "text": [
        "\r",
        "Ransac iteration 236 of 500"
       ]
      },
      {
       "output_type": "stream",
       "stream": "stdout",
       "text": [
        "\r",
        "Ransac iteration 237 of 500"
       ]
      },
      {
       "output_type": "stream",
       "stream": "stdout",
       "text": [
        "\r",
        "Ransac iteration 238 of 500"
       ]
      },
      {
       "output_type": "stream",
       "stream": "stdout",
       "text": [
        "\r",
        "Ransac iteration 239 of 500"
       ]
      },
      {
       "output_type": "stream",
       "stream": "stdout",
       "text": [
        "\r",
        "Ransac iteration 240 of 500"
       ]
      },
      {
       "output_type": "stream",
       "stream": "stdout",
       "text": [
        "\r",
        "Ransac iteration 241 of 500"
       ]
      },
      {
       "output_type": "stream",
       "stream": "stdout",
       "text": [
        "\r",
        "Ransac iteration 242 of 500"
       ]
      },
      {
       "output_type": "stream",
       "stream": "stdout",
       "text": [
        "\r",
        "Ransac iteration 243 of 500"
       ]
      },
      {
       "output_type": "stream",
       "stream": "stdout",
       "text": [
        "\r",
        "Ransac iteration 244 of 500"
       ]
      },
      {
       "output_type": "stream",
       "stream": "stdout",
       "text": [
        "\r",
        "Ransac iteration 245 of 500"
       ]
      },
      {
       "output_type": "stream",
       "stream": "stdout",
       "text": [
        "\r",
        "Ransac iteration 246 of 500"
       ]
      },
      {
       "output_type": "stream",
       "stream": "stdout",
       "text": [
        "\r",
        "Ransac iteration 247 of 500"
       ]
      },
      {
       "output_type": "stream",
       "stream": "stdout",
       "text": [
        "\r",
        "Ransac iteration 248 of 500"
       ]
      },
      {
       "output_type": "stream",
       "stream": "stdout",
       "text": [
        "\r",
        "Ransac iteration 249 of 500"
       ]
      },
      {
       "output_type": "stream",
       "stream": "stdout",
       "text": [
        "\r",
        "Ransac iteration 250 of 500"
       ]
      },
      {
       "output_type": "stream",
       "stream": "stdout",
       "text": [
        "\r",
        "Ransac iteration 251 of 500"
       ]
      },
      {
       "output_type": "stream",
       "stream": "stdout",
       "text": [
        "\r",
        "Ransac iteration 252 of 500"
       ]
      },
      {
       "output_type": "stream",
       "stream": "stdout",
       "text": [
        "\r",
        "Ransac iteration 253 of 500"
       ]
      },
      {
       "output_type": "stream",
       "stream": "stdout",
       "text": [
        "\r",
        "Ransac iteration 254 of 500"
       ]
      },
      {
       "output_type": "stream",
       "stream": "stdout",
       "text": [
        "\r",
        "Ransac iteration 255 of 500"
       ]
      },
      {
       "output_type": "stream",
       "stream": "stdout",
       "text": [
        "\r",
        "Ransac iteration 256 of 500"
       ]
      },
      {
       "output_type": "stream",
       "stream": "stdout",
       "text": [
        "\r",
        "Ransac iteration 257 of 500"
       ]
      },
      {
       "output_type": "stream",
       "stream": "stdout",
       "text": [
        "\r",
        "Ransac iteration 258 of 500"
       ]
      },
      {
       "output_type": "stream",
       "stream": "stdout",
       "text": [
        "\r",
        "Ransac iteration 259 of 500"
       ]
      },
      {
       "output_type": "stream",
       "stream": "stdout",
       "text": [
        "\r",
        "Ransac iteration 260 of 500"
       ]
      },
      {
       "output_type": "stream",
       "stream": "stdout",
       "text": [
        "\r",
        "Ransac iteration 261 of 500"
       ]
      },
      {
       "output_type": "stream",
       "stream": "stdout",
       "text": [
        "\r",
        "Ransac iteration 262 of 500"
       ]
      },
      {
       "output_type": "stream",
       "stream": "stdout",
       "text": [
        "\r",
        "Ransac iteration 263 of 500"
       ]
      },
      {
       "output_type": "stream",
       "stream": "stdout",
       "text": [
        "\r",
        "Ransac iteration 264 of 500"
       ]
      },
      {
       "output_type": "stream",
       "stream": "stdout",
       "text": [
        "\r",
        "Ransac iteration 265 of 500"
       ]
      },
      {
       "output_type": "stream",
       "stream": "stdout",
       "text": [
        "\r",
        "Ransac iteration 266 of 500"
       ]
      },
      {
       "output_type": "stream",
       "stream": "stdout",
       "text": [
        "\r",
        "Ransac iteration 267 of 500"
       ]
      },
      {
       "output_type": "stream",
       "stream": "stdout",
       "text": [
        "\r",
        "Ransac iteration 268 of 500"
       ]
      },
      {
       "output_type": "stream",
       "stream": "stdout",
       "text": [
        "\r",
        "Ransac iteration 269 of 500"
       ]
      },
      {
       "output_type": "stream",
       "stream": "stdout",
       "text": [
        "\r",
        "Ransac iteration 270 of 500"
       ]
      },
      {
       "output_type": "stream",
       "stream": "stdout",
       "text": [
        "\r",
        "Ransac iteration 271 of 500"
       ]
      },
      {
       "output_type": "stream",
       "stream": "stdout",
       "text": [
        "\r",
        "Ransac iteration 272 of 500"
       ]
      },
      {
       "output_type": "stream",
       "stream": "stdout",
       "text": [
        "\r",
        "Ransac iteration 273 of 500"
       ]
      },
      {
       "output_type": "stream",
       "stream": "stdout",
       "text": [
        "\r",
        "Ransac iteration 274 of 500"
       ]
      },
      {
       "output_type": "stream",
       "stream": "stdout",
       "text": [
        "\r",
        "Ransac iteration 275 of 500"
       ]
      },
      {
       "output_type": "stream",
       "stream": "stdout",
       "text": [
        "\r",
        "Ransac iteration 276 of 500"
       ]
      },
      {
       "output_type": "stream",
       "stream": "stdout",
       "text": [
        "\r",
        "Ransac iteration 277 of 500"
       ]
      },
      {
       "output_type": "stream",
       "stream": "stdout",
       "text": [
        "\r",
        "Ransac iteration 278 of 500"
       ]
      },
      {
       "output_type": "stream",
       "stream": "stdout",
       "text": [
        "\r",
        "Ransac iteration 279 of 500"
       ]
      },
      {
       "output_type": "stream",
       "stream": "stdout",
       "text": [
        "\r",
        "Ransac iteration 280 of 500"
       ]
      },
      {
       "output_type": "stream",
       "stream": "stdout",
       "text": [
        "\r",
        "Ransac iteration 281 of 500"
       ]
      },
      {
       "output_type": "stream",
       "stream": "stdout",
       "text": [
        "\r",
        "Ransac iteration 282 of 500"
       ]
      },
      {
       "output_type": "stream",
       "stream": "stdout",
       "text": [
        "\r",
        "Ransac iteration 283 of 500"
       ]
      },
      {
       "output_type": "stream",
       "stream": "stdout",
       "text": [
        "\r",
        "Ransac iteration 284 of 500"
       ]
      },
      {
       "output_type": "stream",
       "stream": "stdout",
       "text": [
        "\r",
        "Ransac iteration 285 of 500"
       ]
      },
      {
       "output_type": "stream",
       "stream": "stdout",
       "text": [
        "\r",
        "Ransac iteration 286 of 500"
       ]
      },
      {
       "output_type": "stream",
       "stream": "stdout",
       "text": [
        "\r",
        "Ransac iteration 287 of 500"
       ]
      },
      {
       "output_type": "stream",
       "stream": "stdout",
       "text": [
        "\r",
        "Ransac iteration 288 of 500"
       ]
      },
      {
       "output_type": "stream",
       "stream": "stdout",
       "text": [
        "\r",
        "Ransac iteration 289 of 500"
       ]
      },
      {
       "output_type": "stream",
       "stream": "stdout",
       "text": [
        "\r",
        "Ransac iteration 290 of 500"
       ]
      },
      {
       "output_type": "stream",
       "stream": "stdout",
       "text": [
        "\r",
        "Ransac iteration 291 of 500"
       ]
      },
      {
       "output_type": "stream",
       "stream": "stdout",
       "text": [
        "\r",
        "Ransac iteration 292 of 500"
       ]
      },
      {
       "output_type": "stream",
       "stream": "stdout",
       "text": [
        "\r",
        "Ransac iteration 293 of 500"
       ]
      },
      {
       "output_type": "stream",
       "stream": "stdout",
       "text": [
        "\r",
        "Ransac iteration 294 of 500"
       ]
      },
      {
       "output_type": "stream",
       "stream": "stdout",
       "text": [
        "\r",
        "Ransac iteration 295 of 500"
       ]
      },
      {
       "output_type": "stream",
       "stream": "stdout",
       "text": [
        "\r",
        "Ransac iteration 296 of 500"
       ]
      },
      {
       "output_type": "stream",
       "stream": "stdout",
       "text": [
        "\r",
        "Ransac iteration 297 of 500"
       ]
      },
      {
       "output_type": "stream",
       "stream": "stdout",
       "text": [
        "\r",
        "Ransac iteration 298 of 500"
       ]
      },
      {
       "output_type": "stream",
       "stream": "stdout",
       "text": [
        "\r",
        "Ransac iteration 299 of 500"
       ]
      },
      {
       "output_type": "stream",
       "stream": "stdout",
       "text": [
        "\r",
        "Ransac iteration 300 of 500"
       ]
      },
      {
       "output_type": "stream",
       "stream": "stdout",
       "text": [
        "\r",
        "Ransac iteration 301 of 500"
       ]
      },
      {
       "output_type": "stream",
       "stream": "stdout",
       "text": [
        "\r",
        "Ransac iteration 302 of 500"
       ]
      },
      {
       "output_type": "stream",
       "stream": "stdout",
       "text": [
        "\r",
        "Ransac iteration 303 of 500"
       ]
      },
      {
       "output_type": "stream",
       "stream": "stdout",
       "text": [
        "\r",
        "Ransac iteration 304 of 500"
       ]
      },
      {
       "output_type": "stream",
       "stream": "stdout",
       "text": [
        "\r",
        "Ransac iteration 305 of 500"
       ]
      },
      {
       "output_type": "stream",
       "stream": "stdout",
       "text": [
        "\r",
        "Ransac iteration 306 of 500"
       ]
      },
      {
       "output_type": "stream",
       "stream": "stdout",
       "text": [
        "\r",
        "Ransac iteration 307 of 500"
       ]
      },
      {
       "output_type": "stream",
       "stream": "stdout",
       "text": [
        "\r",
        "Ransac iteration 308 of 500"
       ]
      },
      {
       "output_type": "stream",
       "stream": "stdout",
       "text": [
        "\r",
        "Ransac iteration 309 of 500"
       ]
      },
      {
       "output_type": "stream",
       "stream": "stdout",
       "text": [
        "\r",
        "Ransac iteration 310 of 500"
       ]
      },
      {
       "output_type": "stream",
       "stream": "stdout",
       "text": [
        "\r",
        "Ransac iteration 311 of 500"
       ]
      },
      {
       "output_type": "stream",
       "stream": "stdout",
       "text": [
        "\r",
        "Ransac iteration 312 of 500"
       ]
      },
      {
       "output_type": "stream",
       "stream": "stdout",
       "text": [
        "\r",
        "Ransac iteration 313 of 500"
       ]
      },
      {
       "output_type": "stream",
       "stream": "stdout",
       "text": [
        "\r",
        "Ransac iteration 314 of 500"
       ]
      },
      {
       "output_type": "stream",
       "stream": "stdout",
       "text": [
        "\r",
        "Ransac iteration 315 of 500"
       ]
      },
      {
       "output_type": "stream",
       "stream": "stdout",
       "text": [
        "\r",
        "Ransac iteration 316 of 500"
       ]
      },
      {
       "output_type": "stream",
       "stream": "stdout",
       "text": [
        "\r",
        "Ransac iteration 317 of 500"
       ]
      },
      {
       "output_type": "stream",
       "stream": "stdout",
       "text": [
        "\r",
        "Ransac iteration 318 of 500"
       ]
      },
      {
       "output_type": "stream",
       "stream": "stdout",
       "text": [
        "\r",
        "Ransac iteration 319 of 500"
       ]
      },
      {
       "output_type": "stream",
       "stream": "stdout",
       "text": [
        "\r",
        "Ransac iteration 320 of 500"
       ]
      },
      {
       "output_type": "stream",
       "stream": "stdout",
       "text": [
        "\r",
        "Ransac iteration 321 of 500"
       ]
      },
      {
       "output_type": "stream",
       "stream": "stdout",
       "text": [
        "\r",
        "Ransac iteration 322 of 500"
       ]
      },
      {
       "output_type": "stream",
       "stream": "stdout",
       "text": [
        "\r",
        "Ransac iteration 323 of 500"
       ]
      },
      {
       "output_type": "stream",
       "stream": "stdout",
       "text": [
        "\r",
        "Ransac iteration 324 of 500"
       ]
      },
      {
       "output_type": "stream",
       "stream": "stdout",
       "text": [
        "\r",
        "Ransac iteration 325 of 500"
       ]
      },
      {
       "output_type": "stream",
       "stream": "stdout",
       "text": [
        "\r",
        "Ransac iteration 326 of 500"
       ]
      },
      {
       "output_type": "stream",
       "stream": "stdout",
       "text": [
        "\r",
        "Ransac iteration 327 of 500"
       ]
      },
      {
       "output_type": "stream",
       "stream": "stdout",
       "text": [
        "\r",
        "Ransac iteration 328 of 500"
       ]
      },
      {
       "output_type": "stream",
       "stream": "stdout",
       "text": [
        "\r",
        "Ransac iteration 329 of 500"
       ]
      },
      {
       "output_type": "stream",
       "stream": "stdout",
       "text": [
        "\r",
        "Ransac iteration 330 of 500"
       ]
      },
      {
       "output_type": "stream",
       "stream": "stdout",
       "text": [
        "\r",
        "Ransac iteration 331 of 500"
       ]
      },
      {
       "output_type": "stream",
       "stream": "stdout",
       "text": [
        "\r",
        "Ransac iteration 332 of 500"
       ]
      },
      {
       "output_type": "stream",
       "stream": "stdout",
       "text": [
        "\r",
        "Ransac iteration 333 of 500"
       ]
      },
      {
       "output_type": "stream",
       "stream": "stdout",
       "text": [
        "\r",
        "Ransac iteration 334 of 500"
       ]
      },
      {
       "output_type": "stream",
       "stream": "stdout",
       "text": [
        "\r",
        "Ransac iteration 335 of 500"
       ]
      },
      {
       "output_type": "stream",
       "stream": "stdout",
       "text": [
        "\r",
        "Ransac iteration 336 of 500"
       ]
      },
      {
       "output_type": "stream",
       "stream": "stdout",
       "text": [
        "\r",
        "Ransac iteration 337 of 500"
       ]
      },
      {
       "output_type": "stream",
       "stream": "stdout",
       "text": [
        "\r",
        "Ransac iteration 338 of 500"
       ]
      },
      {
       "output_type": "stream",
       "stream": "stdout",
       "text": [
        "\r",
        "Ransac iteration 339 of 500"
       ]
      },
      {
       "output_type": "stream",
       "stream": "stdout",
       "text": [
        "\r",
        "Ransac iteration 340 of 500"
       ]
      },
      {
       "output_type": "stream",
       "stream": "stdout",
       "text": [
        "\r",
        "Ransac iteration 341 of 500"
       ]
      },
      {
       "output_type": "stream",
       "stream": "stdout",
       "text": [
        "\r",
        "Ransac iteration 342 of 500"
       ]
      },
      {
       "output_type": "stream",
       "stream": "stdout",
       "text": [
        "\r",
        "Ransac iteration 343 of 500"
       ]
      },
      {
       "output_type": "stream",
       "stream": "stdout",
       "text": [
        "\r",
        "Ransac iteration 344 of 500"
       ]
      },
      {
       "output_type": "stream",
       "stream": "stdout",
       "text": [
        "\r",
        "Ransac iteration 345 of 500"
       ]
      },
      {
       "output_type": "stream",
       "stream": "stdout",
       "text": [
        "\r",
        "Ransac iteration 346 of 500"
       ]
      },
      {
       "output_type": "stream",
       "stream": "stdout",
       "text": [
        "\r",
        "Ransac iteration 347 of 500"
       ]
      },
      {
       "output_type": "stream",
       "stream": "stdout",
       "text": [
        "\r",
        "Ransac iteration 348 of 500"
       ]
      },
      {
       "output_type": "stream",
       "stream": "stdout",
       "text": [
        "\r",
        "Ransac iteration 349 of 500"
       ]
      },
      {
       "output_type": "stream",
       "stream": "stdout",
       "text": [
        "\r",
        "Ransac iteration 350 of 500"
       ]
      },
      {
       "output_type": "stream",
       "stream": "stdout",
       "text": [
        "\r",
        "Ransac iteration 351 of 500"
       ]
      },
      {
       "output_type": "stream",
       "stream": "stdout",
       "text": [
        "\r",
        "Ransac iteration 352 of 500"
       ]
      },
      {
       "output_type": "stream",
       "stream": "stdout",
       "text": [
        "\r",
        "Ransac iteration 353 of 500"
       ]
      },
      {
       "output_type": "stream",
       "stream": "stdout",
       "text": [
        "\r",
        "Ransac iteration 354 of 500"
       ]
      },
      {
       "output_type": "stream",
       "stream": "stdout",
       "text": [
        "\r",
        "Ransac iteration 355 of 500"
       ]
      },
      {
       "output_type": "stream",
       "stream": "stdout",
       "text": [
        "\r",
        "Ransac iteration 356 of 500"
       ]
      },
      {
       "output_type": "stream",
       "stream": "stdout",
       "text": [
        "\r",
        "Ransac iteration 357 of 500"
       ]
      },
      {
       "output_type": "stream",
       "stream": "stdout",
       "text": [
        "\r",
        "Ransac iteration 358 of 500"
       ]
      },
      {
       "output_type": "stream",
       "stream": "stdout",
       "text": [
        "\r",
        "Ransac iteration 359 of 500"
       ]
      },
      {
       "output_type": "stream",
       "stream": "stdout",
       "text": [
        "\r",
        "Ransac iteration 360 of 500"
       ]
      },
      {
       "output_type": "stream",
       "stream": "stdout",
       "text": [
        "\r",
        "Ransac iteration 361 of 500"
       ]
      },
      {
       "output_type": "stream",
       "stream": "stdout",
       "text": [
        "\r",
        "Ransac iteration 362 of 500"
       ]
      },
      {
       "output_type": "stream",
       "stream": "stdout",
       "text": [
        "\r",
        "Ransac iteration 363 of 500"
       ]
      },
      {
       "output_type": "stream",
       "stream": "stdout",
       "text": [
        "\r",
        "Ransac iteration 364 of 500"
       ]
      },
      {
       "output_type": "stream",
       "stream": "stdout",
       "text": [
        "\r",
        "Ransac iteration 365 of 500"
       ]
      },
      {
       "output_type": "stream",
       "stream": "stdout",
       "text": [
        "\r",
        "Ransac iteration 366 of 500"
       ]
      },
      {
       "output_type": "stream",
       "stream": "stdout",
       "text": [
        "\r",
        "Ransac iteration 367 of 500"
       ]
      },
      {
       "output_type": "stream",
       "stream": "stdout",
       "text": [
        "\r",
        "Ransac iteration 368 of 500"
       ]
      },
      {
       "output_type": "stream",
       "stream": "stdout",
       "text": [
        "\r",
        "Ransac iteration 369 of 500"
       ]
      },
      {
       "output_type": "stream",
       "stream": "stdout",
       "text": [
        "\r",
        "Ransac iteration 370 of 500"
       ]
      },
      {
       "output_type": "stream",
       "stream": "stdout",
       "text": [
        "\r",
        "Ransac iteration 371 of 500"
       ]
      },
      {
       "output_type": "stream",
       "stream": "stdout",
       "text": [
        "\r",
        "Ransac iteration 372 of 500"
       ]
      },
      {
       "output_type": "stream",
       "stream": "stdout",
       "text": [
        "\r",
        "Ransac iteration 373 of 500"
       ]
      },
      {
       "output_type": "stream",
       "stream": "stdout",
       "text": [
        "\r",
        "Ransac iteration 374 of 500"
       ]
      },
      {
       "output_type": "stream",
       "stream": "stdout",
       "text": [
        "\r",
        "Ransac iteration 375 of 500"
       ]
      },
      {
       "output_type": "stream",
       "stream": "stdout",
       "text": [
        "\r",
        "Ransac iteration 376 of 500"
       ]
      },
      {
       "output_type": "stream",
       "stream": "stdout",
       "text": [
        "\r",
        "Ransac iteration 377 of 500"
       ]
      },
      {
       "output_type": "stream",
       "stream": "stdout",
       "text": [
        "\r",
        "Ransac iteration 378 of 500"
       ]
      },
      {
       "output_type": "stream",
       "stream": "stdout",
       "text": [
        "\r",
        "Ransac iteration 379 of 500"
       ]
      },
      {
       "output_type": "stream",
       "stream": "stdout",
       "text": [
        "\r",
        "Ransac iteration 380 of 500"
       ]
      },
      {
       "output_type": "stream",
       "stream": "stdout",
       "text": [
        "\r",
        "Ransac iteration 381 of 500"
       ]
      },
      {
       "output_type": "stream",
       "stream": "stdout",
       "text": [
        "\r",
        "Ransac iteration 382 of 500"
       ]
      },
      {
       "output_type": "stream",
       "stream": "stdout",
       "text": [
        "\r",
        "Ransac iteration 383 of 500"
       ]
      },
      {
       "output_type": "stream",
       "stream": "stdout",
       "text": [
        "\r",
        "Ransac iteration 384 of 500"
       ]
      },
      {
       "output_type": "stream",
       "stream": "stdout",
       "text": [
        "\r",
        "Ransac iteration 385 of 500"
       ]
      },
      {
       "output_type": "stream",
       "stream": "stdout",
       "text": [
        "\r",
        "Ransac iteration 386 of 500"
       ]
      },
      {
       "output_type": "stream",
       "stream": "stdout",
       "text": [
        "\r",
        "Ransac iteration 387 of 500"
       ]
      },
      {
       "output_type": "stream",
       "stream": "stdout",
       "text": [
        "\r",
        "Ransac iteration 388 of 500"
       ]
      },
      {
       "output_type": "stream",
       "stream": "stdout",
       "text": [
        "\r",
        "Ransac iteration 389 of 500"
       ]
      },
      {
       "output_type": "stream",
       "stream": "stdout",
       "text": [
        "\r",
        "Ransac iteration 390 of 500"
       ]
      },
      {
       "output_type": "stream",
       "stream": "stdout",
       "text": [
        "\r",
        "Ransac iteration 391 of 500"
       ]
      },
      {
       "output_type": "stream",
       "stream": "stdout",
       "text": [
        "\r",
        "Ransac iteration 392 of 500"
       ]
      },
      {
       "output_type": "stream",
       "stream": "stdout",
       "text": [
        "\r",
        "Ransac iteration 393 of 500"
       ]
      },
      {
       "output_type": "stream",
       "stream": "stdout",
       "text": [
        "\r",
        "Ransac iteration 394 of 500"
       ]
      },
      {
       "output_type": "stream",
       "stream": "stdout",
       "text": [
        "\r",
        "Ransac iteration 395 of 500"
       ]
      },
      {
       "output_type": "stream",
       "stream": "stdout",
       "text": [
        "\r",
        "Ransac iteration 396 of 500"
       ]
      },
      {
       "output_type": "stream",
       "stream": "stdout",
       "text": [
        "\r",
        "Ransac iteration 397 of 500"
       ]
      },
      {
       "output_type": "stream",
       "stream": "stdout",
       "text": [
        "\r",
        "Ransac iteration 398 of 500"
       ]
      },
      {
       "output_type": "stream",
       "stream": "stdout",
       "text": [
        "\r",
        "Ransac iteration 399 of 500"
       ]
      },
      {
       "output_type": "stream",
       "stream": "stdout",
       "text": [
        "\r",
        "Ransac iteration 400 of 500"
       ]
      },
      {
       "output_type": "stream",
       "stream": "stdout",
       "text": [
        "\r",
        "Ransac iteration 401 of 500"
       ]
      },
      {
       "output_type": "stream",
       "stream": "stdout",
       "text": [
        "\r",
        "Ransac iteration 402 of 500"
       ]
      },
      {
       "output_type": "stream",
       "stream": "stdout",
       "text": [
        "\r",
        "Ransac iteration 403 of 500"
       ]
      },
      {
       "output_type": "stream",
       "stream": "stdout",
       "text": [
        "\r",
        "Ransac iteration 404 of 500"
       ]
      },
      {
       "output_type": "stream",
       "stream": "stdout",
       "text": [
        "\r",
        "Ransac iteration 405 of 500"
       ]
      },
      {
       "output_type": "stream",
       "stream": "stdout",
       "text": [
        "\r",
        "Ransac iteration 406 of 500"
       ]
      },
      {
       "output_type": "stream",
       "stream": "stdout",
       "text": [
        "\r",
        "Ransac iteration 407 of 500"
       ]
      },
      {
       "output_type": "stream",
       "stream": "stdout",
       "text": [
        "\r",
        "Ransac iteration 408 of 500"
       ]
      },
      {
       "output_type": "stream",
       "stream": "stdout",
       "text": [
        "\r",
        "Ransac iteration 409 of 500"
       ]
      },
      {
       "output_type": "stream",
       "stream": "stdout",
       "text": [
        "\r",
        "Ransac iteration 410 of 500"
       ]
      },
      {
       "output_type": "stream",
       "stream": "stdout",
       "text": [
        "\r",
        "Ransac iteration 411 of 500"
       ]
      },
      {
       "output_type": "stream",
       "stream": "stdout",
       "text": [
        "\r",
        "Ransac iteration 412 of 500"
       ]
      },
      {
       "output_type": "stream",
       "stream": "stdout",
       "text": [
        "\r",
        "Ransac iteration 413 of 500"
       ]
      },
      {
       "output_type": "stream",
       "stream": "stdout",
       "text": [
        "\r",
        "Ransac iteration 414 of 500"
       ]
      },
      {
       "output_type": "stream",
       "stream": "stdout",
       "text": [
        "\r",
        "Ransac iteration 415 of 500"
       ]
      },
      {
       "output_type": "stream",
       "stream": "stdout",
       "text": [
        "\r",
        "Ransac iteration 416 of 500"
       ]
      },
      {
       "output_type": "stream",
       "stream": "stdout",
       "text": [
        "\r",
        "Ransac iteration 417 of 500"
       ]
      },
      {
       "output_type": "stream",
       "stream": "stdout",
       "text": [
        "\r",
        "Ransac iteration 418 of 500"
       ]
      },
      {
       "output_type": "stream",
       "stream": "stdout",
       "text": [
        "\r",
        "Ransac iteration 419 of 500"
       ]
      },
      {
       "output_type": "stream",
       "stream": "stdout",
       "text": [
        "\r",
        "Ransac iteration 420 of 500"
       ]
      },
      {
       "output_type": "stream",
       "stream": "stdout",
       "text": [
        "\r",
        "Ransac iteration 421 of 500"
       ]
      },
      {
       "output_type": "stream",
       "stream": "stdout",
       "text": [
        "\r",
        "Ransac iteration 422 of 500"
       ]
      },
      {
       "output_type": "stream",
       "stream": "stdout",
       "text": [
        "\r",
        "Ransac iteration 423 of 500"
       ]
      },
      {
       "output_type": "stream",
       "stream": "stdout",
       "text": [
        "\r",
        "Ransac iteration 424 of 500"
       ]
      },
      {
       "output_type": "stream",
       "stream": "stdout",
       "text": [
        "\r",
        "Ransac iteration 425 of 500"
       ]
      },
      {
       "output_type": "stream",
       "stream": "stdout",
       "text": [
        "\r",
        "Ransac iteration 426 of 500"
       ]
      },
      {
       "output_type": "stream",
       "stream": "stdout",
       "text": [
        "\r",
        "Ransac iteration 427 of 500"
       ]
      },
      {
       "output_type": "stream",
       "stream": "stdout",
       "text": [
        "\r",
        "Ransac iteration 428 of 500"
       ]
      },
      {
       "output_type": "stream",
       "stream": "stdout",
       "text": [
        "\r",
        "Ransac iteration 429 of 500"
       ]
      },
      {
       "output_type": "stream",
       "stream": "stdout",
       "text": [
        "\r",
        "Ransac iteration 430 of 500"
       ]
      },
      {
       "output_type": "stream",
       "stream": "stdout",
       "text": [
        "\r",
        "Ransac iteration 431 of 500"
       ]
      },
      {
       "output_type": "stream",
       "stream": "stdout",
       "text": [
        "\r",
        "Ransac iteration 432 of 500"
       ]
      },
      {
       "output_type": "stream",
       "stream": "stdout",
       "text": [
        "\r",
        "Ransac iteration 433 of 500"
       ]
      },
      {
       "output_type": "stream",
       "stream": "stdout",
       "text": [
        "\r",
        "Ransac iteration 434 of 500"
       ]
      },
      {
       "output_type": "stream",
       "stream": "stdout",
       "text": [
        "\r",
        "Ransac iteration 435 of 500"
       ]
      },
      {
       "output_type": "stream",
       "stream": "stdout",
       "text": [
        "\r",
        "Ransac iteration 436 of 500"
       ]
      },
      {
       "output_type": "stream",
       "stream": "stdout",
       "text": [
        "\r",
        "Ransac iteration 437 of 500"
       ]
      },
      {
       "output_type": "stream",
       "stream": "stdout",
       "text": [
        "\r",
        "Ransac iteration 438 of 500"
       ]
      },
      {
       "output_type": "stream",
       "stream": "stdout",
       "text": [
        "\r",
        "Ransac iteration 439 of 500"
       ]
      },
      {
       "output_type": "stream",
       "stream": "stdout",
       "text": [
        "\r",
        "Ransac iteration 440 of 500"
       ]
      },
      {
       "output_type": "stream",
       "stream": "stdout",
       "text": [
        "\r",
        "Ransac iteration 441 of 500"
       ]
      },
      {
       "output_type": "stream",
       "stream": "stdout",
       "text": [
        "\r",
        "Ransac iteration 442 of 500"
       ]
      },
      {
       "output_type": "stream",
       "stream": "stdout",
       "text": [
        "\r",
        "Ransac iteration 443 of 500"
       ]
      },
      {
       "output_type": "stream",
       "stream": "stdout",
       "text": [
        "\r",
        "Ransac iteration 444 of 500"
       ]
      },
      {
       "output_type": "stream",
       "stream": "stdout",
       "text": [
        "\r",
        "Ransac iteration 445 of 500"
       ]
      },
      {
       "output_type": "stream",
       "stream": "stdout",
       "text": [
        "\r",
        "Ransac iteration 446 of 500"
       ]
      },
      {
       "output_type": "stream",
       "stream": "stdout",
       "text": [
        "\r",
        "Ransac iteration 447 of 500"
       ]
      },
      {
       "output_type": "stream",
       "stream": "stdout",
       "text": [
        "\r",
        "Ransac iteration 448 of 500"
       ]
      },
      {
       "output_type": "stream",
       "stream": "stdout",
       "text": [
        "\r",
        "Ransac iteration 449 of 500"
       ]
      },
      {
       "output_type": "stream",
       "stream": "stdout",
       "text": [
        "\r",
        "Ransac iteration 450 of 500"
       ]
      },
      {
       "output_type": "stream",
       "stream": "stdout",
       "text": [
        "\r",
        "Ransac iteration 451 of 500"
       ]
      },
      {
       "output_type": "stream",
       "stream": "stdout",
       "text": [
        "\r",
        "Ransac iteration 452 of 500"
       ]
      },
      {
       "output_type": "stream",
       "stream": "stdout",
       "text": [
        "\r",
        "Ransac iteration 453 of 500"
       ]
      },
      {
       "output_type": "stream",
       "stream": "stdout",
       "text": [
        "\r",
        "Ransac iteration 454 of 500"
       ]
      },
      {
       "output_type": "stream",
       "stream": "stdout",
       "text": [
        "\r",
        "Ransac iteration 455 of 500"
       ]
      },
      {
       "output_type": "stream",
       "stream": "stdout",
       "text": [
        "\r",
        "Ransac iteration 456 of 500"
       ]
      },
      {
       "output_type": "stream",
       "stream": "stdout",
       "text": [
        "\r",
        "Ransac iteration 457 of 500"
       ]
      },
      {
       "output_type": "stream",
       "stream": "stdout",
       "text": [
        "\r",
        "Ransac iteration 458 of 500"
       ]
      },
      {
       "output_type": "stream",
       "stream": "stdout",
       "text": [
        "\r",
        "Ransac iteration 459 of 500"
       ]
      },
      {
       "output_type": "stream",
       "stream": "stdout",
       "text": [
        "\r",
        "Ransac iteration 460 of 500"
       ]
      },
      {
       "output_type": "stream",
       "stream": "stdout",
       "text": [
        "\r",
        "Ransac iteration 461 of 500"
       ]
      },
      {
       "output_type": "stream",
       "stream": "stdout",
       "text": [
        "\r",
        "Ransac iteration 462 of 500"
       ]
      },
      {
       "output_type": "stream",
       "stream": "stdout",
       "text": [
        "\r",
        "Ransac iteration 463 of 500"
       ]
      },
      {
       "output_type": "stream",
       "stream": "stdout",
       "text": [
        "\r",
        "Ransac iteration 464 of 500"
       ]
      },
      {
       "output_type": "stream",
       "stream": "stdout",
       "text": [
        "\r",
        "Ransac iteration 465 of 500"
       ]
      },
      {
       "output_type": "stream",
       "stream": "stdout",
       "text": [
        "\r",
        "Ransac iteration 466 of 500"
       ]
      },
      {
       "output_type": "stream",
       "stream": "stdout",
       "text": [
        "\r",
        "Ransac iteration 467 of 500"
       ]
      },
      {
       "output_type": "stream",
       "stream": "stdout",
       "text": [
        "\r",
        "Ransac iteration 468 of 500"
       ]
      },
      {
       "output_type": "stream",
       "stream": "stdout",
       "text": [
        "\r",
        "Ransac iteration 469 of 500"
       ]
      },
      {
       "output_type": "stream",
       "stream": "stdout",
       "text": [
        "\r",
        "Ransac iteration 470 of 500"
       ]
      },
      {
       "output_type": "stream",
       "stream": "stdout",
       "text": [
        "\r",
        "Ransac iteration 471 of 500"
       ]
      },
      {
       "output_type": "stream",
       "stream": "stdout",
       "text": [
        "\r",
        "Ransac iteration 472 of 500"
       ]
      },
      {
       "output_type": "stream",
       "stream": "stdout",
       "text": [
        "\r",
        "Ransac iteration 473 of 500"
       ]
      },
      {
       "output_type": "stream",
       "stream": "stdout",
       "text": [
        "\r",
        "Ransac iteration 474 of 500"
       ]
      },
      {
       "output_type": "stream",
       "stream": "stdout",
       "text": [
        "\r",
        "Ransac iteration 475 of 500"
       ]
      },
      {
       "output_type": "stream",
       "stream": "stdout",
       "text": [
        "\r",
        "Ransac iteration 476 of 500"
       ]
      },
      {
       "output_type": "stream",
       "stream": "stdout",
       "text": [
        "\r",
        "Ransac iteration 477 of 500"
       ]
      },
      {
       "output_type": "stream",
       "stream": "stdout",
       "text": [
        "\r",
        "Ransac iteration 478 of 500"
       ]
      },
      {
       "output_type": "stream",
       "stream": "stdout",
       "text": [
        "\r",
        "Ransac iteration 479 of 500"
       ]
      },
      {
       "output_type": "stream",
       "stream": "stdout",
       "text": [
        "\r",
        "Ransac iteration 480 of 500"
       ]
      },
      {
       "output_type": "stream",
       "stream": "stdout",
       "text": [
        "\r",
        "Ransac iteration 481 of 500"
       ]
      },
      {
       "output_type": "stream",
       "stream": "stdout",
       "text": [
        "\r",
        "Ransac iteration 482 of 500"
       ]
      },
      {
       "output_type": "stream",
       "stream": "stdout",
       "text": [
        "\r",
        "Ransac iteration 483 of 500"
       ]
      },
      {
       "output_type": "stream",
       "stream": "stdout",
       "text": [
        "\r",
        "Ransac iteration 484 of 500"
       ]
      },
      {
       "output_type": "stream",
       "stream": "stdout",
       "text": [
        "\r",
        "Ransac iteration 485 of 500"
       ]
      },
      {
       "output_type": "stream",
       "stream": "stdout",
       "text": [
        "\r",
        "Ransac iteration 486 of 500"
       ]
      },
      {
       "output_type": "stream",
       "stream": "stdout",
       "text": [
        "\r",
        "Ransac iteration 487 of 500"
       ]
      },
      {
       "output_type": "stream",
       "stream": "stdout",
       "text": [
        "\r",
        "Ransac iteration 488 of 500"
       ]
      },
      {
       "output_type": "stream",
       "stream": "stdout",
       "text": [
        "\r",
        "Ransac iteration 489 of 500"
       ]
      },
      {
       "output_type": "stream",
       "stream": "stdout",
       "text": [
        "\r",
        "Ransac iteration 490 of 500"
       ]
      },
      {
       "output_type": "stream",
       "stream": "stdout",
       "text": [
        "\r",
        "Ransac iteration 491 of 500"
       ]
      },
      {
       "output_type": "stream",
       "stream": "stdout",
       "text": [
        "\r",
        "Ransac iteration 492 of 500"
       ]
      },
      {
       "output_type": "stream",
       "stream": "stdout",
       "text": [
        "\r",
        "Ransac iteration 493 of 500"
       ]
      },
      {
       "output_type": "stream",
       "stream": "stdout",
       "text": [
        "\r",
        "Ransac iteration 494 of 500"
       ]
      },
      {
       "output_type": "stream",
       "stream": "stdout",
       "text": [
        "\r",
        "Ransac iteration 495 of 500"
       ]
      },
      {
       "output_type": "stream",
       "stream": "stdout",
       "text": [
        "\r",
        "Ransac iteration 496 of 500"
       ]
      },
      {
       "output_type": "stream",
       "stream": "stdout",
       "text": [
        "\r",
        "Ransac iteration 497 of 500"
       ]
      },
      {
       "output_type": "stream",
       "stream": "stdout",
       "text": [
        "\r",
        "Ransac iteration 498 of 500"
       ]
      },
      {
       "output_type": "stream",
       "stream": "stdout",
       "text": [
        "\r",
        "Ransac iteration 499 of 500"
       ]
      },
      {
       "output_type": "stream",
       "stream": "stdout",
       "text": [
        "\n"
       ]
      }
     ],
     "prompt_number": 10
    },
    {
     "cell_type": "code",
     "collapsed": false,
     "input": [
      "## plot found lines and their related camera locations\n",
      "fig = plt.figure(figsize=(10, 10))\n",
      "\n",
      "ax = fig.add_subplot(111, projection='3d')\n",
      "\n",
      "## plot axis centerd at [0, 0, 0]\n",
      "\n",
      "ax.plot3D([0, 10], [0, 0], [0, 0], c='r') # x\n",
      "ax.plot3D([0, 0], [0, 10], [0, 0], c='g') # y\n",
      "ax.plot3D([0, 0], [0, 0], [0, 10], c='b') # z\n",
      "\n",
      "plane = msu.fitPlane(cameras[:, 4:7])\n",
      "tmp = plane[2]\n",
      "plane[2] = plane[1]\n",
      "plane[1] = tmp\n",
      "print plane\n",
      "\n",
      "x_surf=np.arange(-50.0, 60.0, 100.0)                # generate a mesh\n",
      "y_surf=np.arange(-50.0, 60.0, 100.0)\n",
      "x_surf, y_surf = np.meshgrid(x_surf, y_surf)\n",
      "z_surf = np.zeros_like(x_surf) #np.sqrt(x_surf+y_surf)             # ex. function, which depends on x and y\n",
      "print x_surf\n",
      "print y_surf\n",
      "print z_surf\n",
      "surf = np.zeros([3, x_surf.shape[0], x_surf.shape[1]])\n",
      "surf[0] = x_surf\n",
      "surf[1] = y_surf\n",
      "surf[2] = (-x_surf*plane[0] - y_surf*plane[1] + plane[3])/plane[2] #z_surf\n",
      "\n",
      "print (-x_surf*plane[0] - y_surf*plane[1] - plane[3])/plane[2]\n",
      "\n",
      "n = plane[0:3]\n",
      "p = plane[3:6]\n",
      "# p = np.array([0.0, 0.0, 0.0])\n",
      "# n = np.array([0.0, 0.0, 1.0])\n",
      "for i in xrange(0,len(x_surf)) :\n",
      "    for j in xrange(0,len(x_surf)) :\n",
      "        s = surf[:, i, j]\n",
      "#         print s,\n",
      "#         s = s - np.dot(s - p, n)*n\n",
      "#         surf[:, i, j] = s\n",
      "\n",
      "\n",
      "ax.plot_surface(surf[0], surf[1], surf[2], cmap=cm.Blues_r, alpha=0.2);    # plot a 3d surface plot\n",
      "\n",
      "for line, inliers in zip(lines, linesInliers) : \n",
      "    color = \"#\" + random.choice(colVals) + random.choice(colVals) + random.choice(colVals) + random.choice(colVals) + random.choice(colVals) + random.choice(colVals)\n",
      "    p1 = line[3:6]+200*line[0:3]\n",
      "    p2 = line[3:6]-200*line[0:3]\n",
      "    ax.plot3D([p1[0], p2[0]], [p1[1], p2[1]], [p1[2], p2[2]], c=color, zdir='y')\n",
      "    # cq is camera quaternion, cc is camera center\n",
      "    count = 0\n",
      "    for cq, cc in zip(cameras[inliers, 0:4], cameras[inliers, 4:7]):\n",
      "        if np.mod(count, 10) == 0 :\n",
      "            print cq\n",
      "            rotation = msu.qToR(cq).T # take transpose of result of qToR\n",
      "            transf = np.hstack([np.array(np.vstack([rotation, np.zeros(3)])), np.array(([cc[0]], [cc[1]], [cc[2]], [1]))]) # 4x4 transformation matrix\n",
      "            tmp = np.dot(transf, ([0.0], [0.0],[0.5],[1.0]))\n",
      "            print \"gne\", tmp\n",
      "            ax.scatter3D(cc[0], cc[1], cc[2], c=color, marker='o', zdir='y')\n",
      "            ax.plot3D([cc[0], tmp[0]], [cc[1], tmp[1]], [cc[2], tmp[2]], c='r', zdir='y')\n",
      "        count += 1\n",
      "\n",
      "ax.set_xlabel('X')\n",
      "ax.set_ylabel('Y')\n",
      "ax.set_zlabel('Z')\n",
      "\n",
      "## set axis range\n",
      "ax.set_autoscale_on(False)\n",
      "ax.set_xlim([-20.0,20.0])\n",
      "ax.set_ylim([-20.0,20.0])\n",
      "ax.set_zlim([-20.0,20.0])\n",
      "\n",
      "plt.show()"
     ],
     "language": "python",
     "metadata": {},
     "outputs": [
      {
       "output_type": "stream",
       "stream": "stdout",
       "text": [
        "[ 0.89064749  0.03969447  0.45295587 -0.00194224]\n",
        "gne [[ -1.35637766e+01]\n",
        " [  2.87617505e-03]\n",
        " [ -3.46858509e+01]\n",
        " [  1.00000000e+00]]\n",
        "[ 0.89351784  0.0472743   0.4465159   0.00404197]\n",
        "gne [[-14.28136722]\n",
        " [ -0.06028531]\n",
        " [-34.22582612]\n",
        " [  1.        ]]\n",
        "[ 0.89420329  0.03905114  0.44594397 -0.00333656]\n",
        "gne [[ -1.49717308e+01]\n",
        " [ -6.51392573e-03]\n",
        " [ -3.37618106e+01]\n",
        " [  1.00000000e+00]]\n",
        "[ 0.8898172   0.04068396  0.45448966 -0.00323429]\n",
        "gne [[ -1.55995755e+01]\n",
        " [ -2.66296175e-02]\n",
        " [ -3.32614572e+01]\n",
        " [  1.00000000e+00]]\n",
        "[ 0.88711676  0.04166053  0.45965097 -0.00331446]\n",
        "gne [[-16.25605241]\n",
        " [ -0.05214388]\n",
        " [-32.78898344]\n",
        " [  1.        ]]\n",
        "[ 0.88564253  0.03500219  0.46298205 -0.00781825]\n",
        "gne [[ -1.69190230e+01]\n",
        " [ -1.15760845e-02]\n",
        " [ -3.23327758e+01]\n",
        " [  1.00000000e+00]]\n",
        "[ 0.88406265  0.04390066  0.4652568  -0.0065638 ]\n",
        "gne [[-17.54817429]\n",
        " [ -0.05696525]\n",
        " [-31.88281936]\n",
        " [  1.        ]]\n",
        "[ 0.88781629  0.03778497  0.45848766 -0.01204395]\n",
        "gne [[ -1.81763144e+01]\n",
        " [ -8.45121086e-03]\n",
        " [ -3.15258698e+01]\n",
        " [  1.00000000e+00]]\n",
        "[ 0.89467143  0.03588289  0.44509604 -0.01291537]\n",
        "gne [[ -1.89099697e+01]\n",
        " [  2.65634071e-02]\n",
        " [ -3.11517821e+01]\n",
        " [  1.00000000e+00]]\n",
        "[ 0.898159    0.04272968  0.43751826 -0.00799388]\n",
        "gne [[ -1.95651051e+01]\n",
        " [ -1.57190233e-02]\n",
        " [ -3.07426171e+01]\n",
        " [  1.00000000e+00]]\n",
        "[ 0.9026697   0.03813442  0.42849418 -0.01132132]\n",
        "gne [[-20.17955786]\n",
        " [  0.03713651]\n",
        " [-30.36499201]\n",
        " [  1.        ]]\n",
        "[ 0.9045306   0.04018039  0.42444339 -0.00772893]\n",
        "gne [[-20.81898982]\n",
        " [  0.03271644]\n",
        " [-29.94319449]\n",
        " [  1.        ]]\n",
        "[ 0.90126426  0.04351358  0.4310127  -0.00767745]\n",
        "gne [[ -2.14295066e+01]\n",
        " [  2.09523037e-02]\n",
        " [ -2.94815298e+01]\n",
        " [  1.00000000e+00]]\n",
        "[ 0.8982825   0.04013174  0.43729868 -0.01578006]"
       ]
      },
      {
       "output_type": "stream",
       "stream": "stdout",
       "text": [
        "\n",
        "gne [[-22.09980708]\n",
        " [  0.06710466]\n",
        " [-29.0053897 ]\n",
        " [  1.        ]]\n",
        "[ 0.89183205  0.05372416  0.44915338 -0.00341976]\n",
        "gne [[-22.73356064]\n",
        " [  0.04555613]\n",
        " [-28.59313803]\n",
        " [  1.        ]]\n",
        "[ 0.88900739  0.04356998  0.45571677 -0.00952549]\n",
        "gne [[-23.39398062]\n",
        " [  0.09891155]\n",
        " [-28.14510915]\n",
        " [  1.        ]]\n",
        "[ 0.88618683  0.01691108  0.46265693 -0.01835808]\n",
        "gne [[-24.08638972]\n",
        " [  0.0694131 ]\n",
        " [-27.52384212]\n",
        " [  1.        ]]\n",
        "[ 0.88599928  0.02255465  0.46302002 -0.01051216]\n",
        "gne [[-24.71809923]\n",
        " [  0.02850772]\n",
        " [-27.04708317]\n",
        " [  1.        ]]\n",
        "[ 0.88048403  0.02233624  0.4732694  -0.01632554]\n",
        "gne [[-25.1262955 ]\n",
        " [  0.14290311]\n",
        " [-26.57976202]\n",
        " [  1.        ]]\n",
        "[ 0.89945709  0.04373139  0.43475022 -0.00760185]\n",
        "gne [[ -2.60572823e+01]\n",
        " [ -1.97604763e-03]\n",
        " [ -2.65542829e+01]\n",
        " [  1.00000000e+00]]\n",
        "[ 0.90743697  0.05169918  0.416812   -0.01238316]\n",
        "gne [[-26.69114003]\n",
        " [  0.02796201]\n",
        " [-26.1017532 ]\n",
        " [  1.        ]]\n",
        "[ 0.91924565  0.06704946  0.38771801 -0.0128964 ]\n",
        "gne [[ -2.72836415e+01]\n",
        " [  3.11084902e-03]\n",
        " [ -2.53108269e+01]\n",
        " [  1.00000000e+00]]\n",
        "[ 0.92536961  0.07204371  0.37175083 -0.01739171]\n",
        "gne [[ -2.74865296e+01]\n",
        " [  1.13604243e-02]\n",
        " [ -2.48364983e+01]\n",
        " [  1.00000000e+00]]\n",
        "[ 0.93824331  0.07508134  0.33647068 -0.02912876]\n",
        "gne [[-27.68032041]\n",
        " [  0.05952581]\n",
        " [-23.90435566]\n",
        " [  1.        ]]\n",
        "[ 0.9542146   0.07985018  0.28548197 -0.03998155]\n",
        "gne [[-27.67374355]\n",
        " [  0.04956682]\n",
        " [-23.10113206]\n",
        " [  1.        ]]\n",
        "[ 0.99201231  0.07761825  0.09133736 -0.0393021 ]"
       ]
      },
      {
       "output_type": "stream",
       "stream": "stdout",
       "text": [
        "\n",
        "gne [[ -2.77158240e+01]\n",
        " [  1.49604300e-02]\n",
        " [ -2.22696694e+01]\n",
        " [  1.00000000e+00]]\n",
        "[ 0.99665635  0.06173118 -0.03482335 -0.04070006]\n",
        "gne [[-27.5827481 ]\n",
        " [  0.07291848]\n",
        " [-21.91198677]\n",
        " [  1.        ]]\n",
        "[ 0.98873456  0.06585876 -0.12992259 -0.03448609]\n",
        "gne [[ -2.74412771e+01]\n",
        " [  2.47193501e-02]\n",
        " [ -2.14699312e+01]\n",
        " [  1.00000000e+00]]\n",
        "[ 0.97844039  0.05852488 -0.19470964 -0.03633847]\n",
        "gne [[-27.22910303]\n",
        " [  0.0683149 ]\n",
        " [-21.01619661]\n",
        " [  1.        ]]\n",
        "[ 0.9699231   0.05820332 -0.23359332 -0.03602925]\n",
        "gne [[-27.00587614]\n",
        " [  0.07869865]\n",
        " [-20.49618088]\n",
        " [  1.        ]]\n",
        "[ 0.96708437  0.05360201 -0.24637128 -0.03432562]\n",
        "gne [[-26.76112145]\n",
        " [  0.10779894]\n",
        " [-19.96222381]\n",
        " [  1.        ]]\n",
        "[ 0.96500874  0.04926937 -0.25571479 -0.0307065 ]\n",
        "gne [[-26.55487101]\n",
        " [  0.11387178]\n",
        " [-19.44257606]\n",
        " [  1.        ]]\n",
        "[ 0.96282981  0.04155613 -0.26515949 -0.0303872 ]\n",
        "gne [[-26.33583549]\n",
        " [  0.07029527]\n",
        " [-19.14897836]\n",
        " [  1.        ]]\n",
        "[ 0.96685308  0.01940306 -0.25346814 -0.02395423]\n",
        "gne [[-25.97404534]\n",
        " [  0.10972668]\n",
        " [-18.52403357]\n",
        " [  1.        ]]\n",
        "[ 0.96981038  0.02506147 -0.24154538 -0.02227951]\n",
        "gne [[ -2.55841171e+01]\n",
        " [  2.40232307e-02]\n",
        " [ -1.77723107e+01]\n",
        " [  1.00000000e+00]]\n",
        "[ 0.97256102  0.01515139 -0.23164852 -0.01536363]\n",
        "gne [[-25.20143315]\n",
        " [  0.05739746]\n",
        " [-17.05564266]\n",
        " [  1.        ]]\n",
        "[ 0.97547687  0.01498687 -0.21929331 -0.01151239]\n",
        "gne [[-24.73962231]\n",
        " [  0.02892557]\n",
        " [-16.34230434]\n",
        " [  1.        ]]\n",
        "[ 0.97746894  0.01808791 -0.21016898 -0.0076298 ]"
       ]
      },
      {
       "output_type": "stream",
       "stream": "stdout",
       "text": [
        "\n",
        "gne [[ -2.42946128e+01]\n",
        " [ -1.87062374e-02]\n",
        " [ -1.56492946e+01]\n",
        " [  1.00000000e+00]]\n",
        "[ 0.97644093  0.01766377 -0.2149684  -0.00642278]\n",
        "gne [[ -2.39872386e+01]\n",
        " [  6.08411072e-04]\n",
        " [ -1.49311290e+01]\n",
        " [  1.00000000e+00]]\n",
        "[ 0.97635965  0.03429843 -0.21324276 -0.00861673]\n",
        "gne [[-23.61724154]\n",
        " [ -0.06502973]\n",
        " [-14.25355168]\n",
        " [  1.        ]]\n",
        "[ 0.97682231  0.0419872  -0.20969642 -0.00918675]\n",
        "gne [[ -2.31970388e+01]\n",
        " [ -1.37356843e-02]\n",
        " [ -1.35620587e+01]\n",
        " [  1.00000000e+00]]\n",
        "[ 0.97507256  0.06196124 -0.21279312 -0.0107006 ]\n",
        "gne [[-22.8494983 ]\n",
        " [ -0.03357922]\n",
        " [-12.85940512]\n",
        " [  1.        ]]\n",
        "[ 0.97411748  0.07102701 -0.21416307 -0.0136372 ]\n",
        "gne [[ -2.24715745e+01]\n",
        " [  1.20498089e-03]\n",
        " [ -1.21575059e+01]\n",
        " [  1.00000000e+00]]\n",
        "[ 0.97387724  0.0705307  -0.21507211 -0.01829703]\n",
        "gne [[-22.09576123]\n",
        " [  0.05873912]\n",
        " [-11.48105907]\n",
        " [  1.        ]]\n",
        "[ 0.97222299  0.07568466 -0.22037413 -0.02219677]\n",
        "gne [[-21.75356409]\n",
        " [  0.02394191]\n",
        " [-10.70103511]\n",
        " [  1.        ]]\n",
        "[ 0.97300428  0.07105793 -0.21850574 -0.0216975 ]\n",
        "gne [[-21.37948232]\n",
        " [  0.05303505]\n",
        " [ -9.93074647]\n",
        " [  1.        ]]\n",
        "[ 0.97343832  0.07047954 -0.21656728 -0.02350068]\n",
        "gne [[-21.0190576 ]\n",
        " [  0.04874765]\n",
        " [ -9.15324655]\n",
        " [  1.        ]]\n",
        "[ 0.97445837  0.06899527 -0.21242085 -0.02345156]\n",
        "gne [[-20.6369003 ]\n",
        " [  0.02899791]\n",
        " [ -8.36502743]\n",
        " [  1.        ]]\n",
        "[ 0.97461746  0.06303522 -0.2138811  -0.02012394]\n",
        "gne [[-20.28998576]\n",
        " [  0.0607762 ]\n",
        " [ -7.47744728]\n",
        " [  1.        ]]\n",
        "[ 0.9749307   0.06267537 -0.21249479 -0.02073759]\n",
        "gne [[-19.90636807]\n",
        " [  0.04276314]\n",
        " [ -6.58543093]\n",
        " [  1.        ]]\n",
        "[ 0.97665944  0.05057171 -0.20796858 -0.01816677]"
       ]
      },
      {
       "output_type": "stream",
       "stream": "stdout",
       "text": [
        "\n",
        "gne [[-19.52868117]\n",
        " [  0.0855529 ]\n",
        " [ -5.70275641]\n",
        " [  1.        ]]\n",
        "[ 0.97820978  0.04904178 -0.2011101  -0.01602733]\n",
        "gne [[-19.14357764]\n",
        " [  0.08292348]\n",
        " [ -4.91249134]\n",
        " [  1.        ]]\n",
        "[ 0.97822334  0.05822214 -0.19814987 -0.0207073 ]\n",
        "gne [[-18.67373814]\n",
        " [  0.05792267]\n",
        " [ -4.12888965]\n",
        " [  1.        ]]\n",
        "[ 0.97665754  0.05776795 -0.20577561 -0.0215173 ]\n",
        "gne [[-18.26284853]\n",
        " [  0.14190896]\n",
        " [ -3.37727813]\n",
        " [  1.        ]]\n",
        "[ 0.97634646  0.05979548 -0.20716263 -0.01606705]\n",
        "gne [[-17.75702649]\n",
        " [  0.04169996]\n",
        " [ -2.45834778]\n",
        " [  1.        ]]\n",
        "[ 0.9777171   0.03944911 -0.205946   -0.01019677]\n",
        "gne [[ -1.72962034e+01]\n",
        " [  8.50154386e-03]\n",
        " [ -1.61868469e+00]\n",
        " [  1.00000000e+00]]\n",
        "[ 0.97909195  0.03580043 -0.19992841 -0.0114279 ]\n",
        "gne [[-16.77996447]\n",
        " [  0.06958386]\n",
        " [ -0.81125641]\n",
        " [  1.        ]]\n",
        "[ 0.97768383  0.05111371 -0.20304897 -0.01729787]\n",
        "gne [[ -1.63258249e+01]\n",
        " [  3.89101917e-03]\n",
        " [  2.18793984e-02]\n",
        " [  1.00000000e+00]]\n",
        "[ 0.97622933  0.04827866 -0.21050446 -0.01839797]\n",
        "gne [[-15.916571  ]\n",
        " [  0.07120457]\n",
        " [  0.85800077]\n",
        " [  1.        ]]\n",
        "[ 0.97446915  0.06158615 -0.2144852  -0.02490354]\n",
        "gne [[-15.40857713]\n",
        " [  0.02452624]\n",
        " [  1.7385688 ]\n",
        " [  1.        ]]\n",
        "[ 0.97280371  0.06811217 -0.21965716 -0.02777497]\n",
        "gne [[-14.97015908]\n",
        " [  0.038334  ]\n",
        " [  2.57814507]\n",
        " [  1.        ]]\n",
        "[ 0.97213832  0.07004639 -0.2221183  -0.02666592]\n",
        "gne [[-14.58269965]\n",
        " [  0.09916783]\n",
        " [  3.39569997]\n",
        " [  1.        ]]\n",
        "[ 0.97250378  0.07548877 -0.2186678  -0.02698091]\n",
        "gne [[-14.13432836]\n",
        " [  0.03896975]\n",
        " [  4.25945958]\n",
        " [  1.        ]]\n",
        "[ 0.97536358  0.05761866 -0.21208152 -0.01929349]"
       ]
      },
      {
       "output_type": "stream",
       "stream": "stdout",
       "text": [
        "\n",
        "gne [[-13.73698598]\n",
        " [  0.03971628]\n",
        " [  5.04271689]\n",
        " [  1.        ]]\n",
        "[ 0.97751734  0.05491278 -0.20233678 -0.0225851 ]\n",
        "gne [[-13.35341264]\n",
        " [  0.07083988]\n",
        " [  5.9088271 ]\n",
        " [  1.        ]]\n",
        "[ 0.98082329  0.05436128 -0.18559388 -0.02428534]\n",
        "gne [[-12.95124529]\n",
        " [ -0.03579355]\n",
        " [  6.72962311]\n",
        " [  1.        ]]\n",
        "[ 0.98473253  0.03363563 -0.16782365 -0.03175823]\n",
        "gne [[-12.60813041]\n",
        " [  0.03015557]\n",
        " [  7.55693225]\n",
        " [  1.        ]]\n",
        "[ 0.98729235  0.04147711 -0.15129152 -0.02550327]\n",
        "gne [[-12.30077503]\n",
        " [ -0.07041056]\n",
        " [  8.31357506]\n",
        " [  1.        ]]\n",
        "[ 0.9885099   0.03497389 -0.14470804 -0.02604637]\n",
        "gne [[-11.95883874]\n",
        " [ -0.05730769]\n",
        " [  9.15681701]\n",
        " [  1.        ]]\n",
        "[ 0.98843462  0.04058329 -0.14461027 -0.02109888]\n",
        "gne [[-11.61529132]\n",
        " [ -0.0635903 ]\n",
        " [  9.91066442]\n",
        " [  1.        ]]\n",
        "[ 0.98754777  0.04831845 -0.1484363  -0.01965774]\n",
        "gne [[-11.23937738]\n",
        " [ -0.07710771]\n",
        " [ 10.65076059]\n",
        " [  1.        ]]\n",
        "[ 0.98535407  0.04387041 -0.16339577 -0.02149455]\n",
        "gne [[ -1.08734829e+01]\n",
        " [ -6.69603440e-03]\n",
        " [  1.14489848e+01]\n",
        " [  1.00000000e+00]]\n",
        "[ 0.98339276  0.05699826 -0.17100758 -0.02120851]\n",
        "gne [[-10.38967518]\n",
        " [ -0.04744077]\n",
        " [ 12.23669729]\n",
        " [  1.        ]]\n",
        "[ 0.9821615   0.05423152 -0.17848352 -0.0237532 ]\n",
        "gne [[ -9.87958598e+00]\n",
        " [  7.42398096e-04]\n",
        " [  1.30820978e+01]\n",
        " [  1.00000000e+00]]\n",
        "[ 0.98100933  0.05370846 -0.18481475 -0.02415136]\n",
        "gne [[ -9.47745235]\n",
        " [  0.01592266]\n",
        " [ 13.90942338]\n",
        " [  1.        ]]\n",
        "[ 0.98176366  0.07251013 -0.17401389 -0.02461808]\n",
        "gne [[ -9.04573107]\n",
        " [ -0.05506712]\n",
        " [ 14.67855785]\n",
        " [  1.        ]]\n",
        "[ 0.9825796   0.07770182 -0.16436274 -0.03856885]"
       ]
      },
      {
       "output_type": "stream",
       "stream": "stdout",
       "text": [
        "\n",
        "gne [[ -8.7182369 ]\n",
        " [  0.09717275]\n",
        " [ 15.42584159]\n",
        " [  1.        ]]\n",
        "[ 0.98326416  0.08588642 -0.15924247 -0.02145465]\n",
        "gne [[ -8.31053624]\n",
        " [ -0.05610233]\n",
        " [ 16.24577427]\n",
        " [  1.        ]]\n"
       ]
      }
     ],
     "prompt_number": 12
    },
    {
     "cell_type": "code",
     "collapsed": false,
     "input": [
      "fittedLine, inliers, bestCameras = ransac(cameras[:, 4:7], 1.0, 1000)\n",
      "print \"best cameras:\", bestCameras, \"#inliers:\", len(inliers)\n",
      "\n",
      "\n",
      "## plot points and fitted line\n",
      "fig = plt.figure(figsize=(10, 10))\n",
      "\n",
      "ax = fig.add_subplot(111, projection='3d')\n",
      "# cq is camera quaternion, cc is camera center\n",
      "count = 0\n",
      "for cq, cc in zip(cameras[:, 0:4], cameras[:, 4:7]):\n",
      "    if np.mod(count, 10) == 0 :\n",
      "        rotation = qToR(cq).T # take transpose of result of qToR\n",
      "        transf = np.hstack([np.array(np.vstack([rotation, np.zeros(3)])), np.array(([cc[0]], [cc[1]], [cc[2]], [1]))]) # 4x4 transformation matrix\n",
      "        tmp = np.dot(transf, ([0.0], [0.0],[0.5],[1.0]))\n",
      "        if count in inliers :\n",
      "            ax.scatter3D(cc[0], cc[1], cc[2], c='b', marker='x')\n",
      "        else :\n",
      "            ax.scatter3D(cc[0], cc[1], cc[2], c='g', marker='x')\n",
      "        ax.plot3D([cc[0], tmp[0]], [cc[1], tmp[1]], [cc[2], tmp[2]], c='r')\n",
      "    count += 1\n",
      "\n",
      "ax.set_xlabel('X')\n",
      "ax.set_ylabel('Y')\n",
      "ax.set_zlabel('Z')\n",
      "\n",
      "## set axis range\n",
      "ax.set_autoscale_on(False)\n",
      "ax.set_xlim([-40.0,0.0])\n",
      "ax.set_ylim([-40.0,40.0])\n",
      "ax.set_zlim([-40.0,0.0])\n",
      "        \n",
      "# plot fitted line\n",
      "p1 = fittedLine[0, :]+70*fittedLine[1,:]\n",
      "p2 = fittedLine[0, :]-70*fittedLine[1,:]\n",
      "\n",
      "ax.plot3D([p1[0], p2[0]], [p1[1], p2[1]], [p1[2], p2[2]], c='b')\n",
      "\n",
      "plt.show()"
     ],
     "language": "python",
     "metadata": {},
     "outputs": []
    },
    {
     "cell_type": "code",
     "collapsed": false,
     "input": [
      "values = np.array(cameraLocs2D[segments[0], :])\n",
      "\n",
      "## fit line\n",
      "A = np.hstack((values, np.ones([len(values), 1])))\n",
      "print A.shape\n",
      "\n",
      "U, S, V = np.linalg.svd(A)\n",
      "\n",
      "# print U.shape, S.shape, V.shape\n",
      "\n",
      "# print S\n",
      "print V\n",
      "\n",
      "params = V.T[:, len(V)-1]\n",
      "print params\n",
      "\n",
      "a = np.array([0, -params[2]/params[1]])\n",
      "b = np.array([-params[2]/params[0], 0])\n",
      "\n",
      "\n",
      "######\n",
      "# A = np.hstack((np.reshape(values[:, 0],[len(values), 1]), np.ones([len(values), 1])))\n",
      "# print A.shape\n",
      "\n",
      "# params = np.dot(np.linalg.pinv(A), np.reshape(values[:, 1],[len(values), 1]))\n",
      "# print params\n",
      "\n",
      "# a = np.array([0, params[1]])\n",
      "# b = np.array([-params[1]/params[0], 0])\n",
      "\n",
      "######\n",
      "\n",
      "\n",
      "\n",
      "v = a - b\n",
      "n = v / np.linalg.norm(v)\n",
      "print n\n",
      "\n",
      "p1 = a+70*n\n",
      "p2 = a-70*n\n",
      "\n",
      "print p1, p2\n",
      "\n",
      "fig = plt.figure(figsize=(10, 10))\n",
      "\n",
      "ax = fig.add_subplot(111)\n",
      "\n",
      "ax.plot([p1[0], p2[0]], [p1[1], p2[1]], marker='o', color='g', ls='-')\n",
      "\n",
      "ax.plot(values[:, 0], values[:, 1], marker='o', color='r', ls='-')\n",
      "\n",
      "ax.set_xlabel('X')\n",
      "ax.set_ylabel('Y')\n",
      "\n",
      "## set axis range\n",
      "ax.set_autoscale_on(False)\n",
      "ax.set_xlim([-80.0,50.0])\n",
      "ax.set_ylim([-80.0,50.0])\n",
      "\n",
      "\n",
      "n1 = np.array([params[0]/params[2],params[1]/params[2]])\n",
      "\n",
      "p3 = a+70*n1\n",
      "p4 = a-70*n1 \n",
      "\n",
      "print 'la', p3, p4\n",
      "\n",
      "ax.plot([p3[0], p4[0]], [p3[1], p4[1]], marker='o', color='b', ls='-')\n",
      "\n",
      "\n",
      "plt.show()"
     ],
     "language": "python",
     "metadata": {},
     "outputs": []
    },
    {
     "cell_type": "code",
     "collapsed": false,
     "input": [
      "values = np.array(cameraLocs2D[linesInliers[1], :])\n",
      "line = fitLine2D(values)\n",
      "\n",
      "print line\n",
      "\n",
      "a = line[2:4]\n",
      "n = line[0:2]\n",
      "\n",
      "p1 = a+70*n\n",
      "p2 = a-70*n\n",
      "\n",
      "print 'la', p1, p2\n",
      "\n",
      "fig = plt.figure(figsize=(10, 10))\n",
      "\n",
      "ax = fig.add_subplot(111)\n",
      "\n",
      "ax.plot([p1[0], p2[0]], [p1[1], p2[1]], marker='', color='g', ls='-')\n",
      "\n",
      "ax.plot(values[:, 0], values[:, 1], marker='o', color='r', ls='-')\n",
      "\n",
      "ax.set_xlabel('X')\n",
      "ax.set_ylabel('Y')\n",
      "\n",
      "## set axis range\n",
      "ax.set_autoscale_on(False)\n",
      "ax.set_xlim([-80.0,50.0])\n",
      "ax.set_ylim([-80.0,50.0])\n",
      "\n",
      "plt.show()"
     ],
     "language": "python",
     "metadata": {},
     "outputs": []
    },
    {
     "cell_type": "code",
     "collapsed": false,
     "input": [
      "values = np.array(cameras[linesInliers[1], 4:7])\n",
      "line = fitLine3D(values)\n",
      "\n",
      "a = line[3:6]\n",
      "n = line[0:3]\n",
      "print a, n\n",
      "\n",
      "p1 = a+70*n\n",
      "p2 = a-70*n\n",
      "\n",
      "## plot found lines and their related camera locations\n",
      "fig = plt.figure(figsize=(10, 10))\n",
      "\n",
      "ax = fig.add_subplot(111, projection='3d')\n",
      "\n",
      "ax.plot3D([p1[0], p2[0]], [p1[1], p2[1]], [p1[2], p2[2]], marker='', color='g', ls='-')\n",
      "\n",
      "ax.plot3D(values[:, 0], values[:, 1], values[:, 2], marker='o', color='r', ls='-')\n",
      "\n",
      "ax.set_xlabel('X')\n",
      "ax.set_ylabel('Y')\n",
      "ax.set_zlabel('Z')\n",
      "\n",
      "## set axis range\n",
      "ax.set_autoscale_on(False)\n",
      "ax.set_xlim([-40.0,0.0])\n",
      "ax.set_ylim([-40.0,40.0])\n",
      "ax.set_zlim([-40.0,0.0])\n",
      "\n",
      "plt.show()"
     ],
     "language": "python",
     "metadata": {},
     "outputs": []
    }
   ],
   "metadata": {}
  }
 ]
}