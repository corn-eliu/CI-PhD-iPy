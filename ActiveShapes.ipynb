{
 "metadata": {
  "name": ""
 },
 "nbformat": 3,
 "nbformat_minor": 0,
 "worksheets": [
  {
   "cells": [
    {
     "cell_type": "code",
     "collapsed": false,
     "input": [
      "## Imports and defines\n",
      "%pylab\n",
      "import numpy as np\n",
      "import scipy as sp\n",
      "from scipy import io\n",
      "from scipy import ndimage\n",
      "import re\n",
      "import cv2\n",
      "import sys\n",
      "import glob\n",
      "import Image\n",
      "\n",
      "from mpl_toolkits.mplot3d import Axes3D\n",
      "import matplotlib.animation as animation\n",
      "\n",
      "import MazeSequenceUtils as msu\n",
      "import ActiveShapesUtils as asu\n",
      "\n",
      "dataLoc = \"/home/ilisescu/PhD/iPy/data/flower/\"\n",
      "nameLength = len(filter(None, re.split('/',dataLoc)))\n",
      "\n",
      "colVals = ['0', '1', '2', '3', '4', '5', '6', '7', '8', '9', 'a', 'b', 'c', 'd', 'e', 'f']"
     ],
     "language": "python",
     "metadata": {},
     "outputs": [
      {
       "output_type": "stream",
       "stream": "stdout",
       "text": [
        "Using matplotlib backend: TkAgg\n",
        "Populating the interactive namespace from numpy and matplotlib\n"
       ]
      }
     ],
     "prompt_number": 1
    },
    {
     "cell_type": "code",
     "collapsed": false,
     "input": [
      "## load image\n",
      "frameName = \"/home/ilisescu/PhD/iPy/data/frame-00001-mask.png\"\n",
      "frame = cv2.imread(frameName)\n",
      "\n",
      "## make bbox of snake\n",
      "bbox = np.array([[5, 25], [45, 5], [90, 70], [45, 95]])\n",
      "bbox = np.array([[667, 711], [443, 318], [540, 262], [765, 655]])\n",
      "## build the snake initialization by supersampling the bbox\n",
      "numOfPoints = 81\n",
      "interval = (np.linalg.norm(bbox[0, :]-bbox[1, :])+np.linalg.norm(bbox[1, :]-bbox[2, :]))/(numOfPoints*0.5)\n",
      "initialSnake = []\n",
      "for i, j in zip(arange(0, len(bbox)), np.hstack((arange(1, len(bbox)), 0))):\n",
      "    currentPoint = bbox[i, :]\n",
      "#     snake.append(currentPoint)\n",
      "    currentDir = (bbox[j, :]-bbox[i, :])/np.linalg.norm(bbox[j, :]-bbox[i, :])\n",
      "    while np.linalg.norm(currentPoint-bbox[j, :]) > interval :\n",
      "        initialSnake.append(currentPoint)\n",
      "        currentPoint = currentPoint + interval*currentDir\n",
      "    \n",
      "    ##divide last remaining bit into half\n",
      "    initialSnake.append((initialSnake[-1]+bbox[j, :])/2)\n",
      "\n",
      "initialSnake = np.round(np.array(initialSnake))\n",
      "initialSnake = np.vstack((initialSnake, initialSnake[0, :]))\n",
      "print initialSnake.shape\n",
      "\n",
      "\n",
      "## visualize snake\n",
      "fig = plt.figure(figsize=(10, 10))\n",
      "\n",
      "ax = fig.add_subplot(111)\n",
      "ax.set_xlabel('X')\n",
      "ax.set_ylabel('Y')\n",
      "# ax.imshow(distanceMatrix*edges, interpolation='nearest')\n",
      "ax.imshow(frame, interpolation='nearest')\n",
      "ax.autoscale(False)\n",
      "ax.plot(initialSnake[:, 0], initialSnake[:, 1], c='y', marker=\"o\")\n",
      "draw()"
     ],
     "language": "python",
     "metadata": {},
     "outputs": [
      {
       "ename": "TypeError",
       "evalue": "Image data can not convert to float",
       "output_type": "pyerr",
       "traceback": [
        "\u001b[0;31m---------------------------------------------------------------------------\u001b[0m\n\u001b[0;31mTypeError\u001b[0m                                 Traceback (most recent call last)",
        "\u001b[0;32m<ipython-input-2-cd17fced83c8>\u001b[0m in \u001b[0;36m<module>\u001b[0;34m()\u001b[0m\n\u001b[1;32m     33\u001b[0m \u001b[0max\u001b[0m\u001b[0;34m.\u001b[0m\u001b[0mset_ylabel\u001b[0m\u001b[0;34m(\u001b[0m\u001b[0;34m'Y'\u001b[0m\u001b[0;34m)\u001b[0m\u001b[0;34m\u001b[0m\u001b[0m\n\u001b[1;32m     34\u001b[0m \u001b[0;31m# ax.imshow(distanceMatrix*edges, interpolation='nearest')\u001b[0m\u001b[0;34m\u001b[0m\u001b[0;34m\u001b[0m\u001b[0m\n\u001b[0;32m---> 35\u001b[0;31m \u001b[0max\u001b[0m\u001b[0;34m.\u001b[0m\u001b[0mimshow\u001b[0m\u001b[0;34m(\u001b[0m\u001b[0mframe\u001b[0m\u001b[0;34m,\u001b[0m \u001b[0minterpolation\u001b[0m\u001b[0;34m=\u001b[0m\u001b[0;34m'nearest'\u001b[0m\u001b[0;34m)\u001b[0m\u001b[0;34m\u001b[0m\u001b[0m\n\u001b[0m\u001b[1;32m     36\u001b[0m \u001b[0max\u001b[0m\u001b[0;34m.\u001b[0m\u001b[0mautoscale\u001b[0m\u001b[0;34m(\u001b[0m\u001b[0mFalse\u001b[0m\u001b[0;34m)\u001b[0m\u001b[0;34m\u001b[0m\u001b[0m\n\u001b[1;32m     37\u001b[0m \u001b[0max\u001b[0m\u001b[0;34m.\u001b[0m\u001b[0mplot\u001b[0m\u001b[0;34m(\u001b[0m\u001b[0minitialSnake\u001b[0m\u001b[0;34m[\u001b[0m\u001b[0;34m:\u001b[0m\u001b[0;34m,\u001b[0m \u001b[0;36m0\u001b[0m\u001b[0;34m]\u001b[0m\u001b[0;34m,\u001b[0m \u001b[0minitialSnake\u001b[0m\u001b[0;34m[\u001b[0m\u001b[0;34m:\u001b[0m\u001b[0;34m,\u001b[0m \u001b[0;36m1\u001b[0m\u001b[0;34m]\u001b[0m\u001b[0;34m,\u001b[0m \u001b[0mc\u001b[0m\u001b[0;34m=\u001b[0m\u001b[0;34m'y'\u001b[0m\u001b[0;34m,\u001b[0m \u001b[0mmarker\u001b[0m\u001b[0;34m=\u001b[0m\u001b[0;34m\"o\"\u001b[0m\u001b[0;34m)\u001b[0m\u001b[0;34m\u001b[0m\u001b[0m\n",
        "\u001b[0;32m/usr/lib/pymodules/python2.7/matplotlib/axes.pyc\u001b[0m in \u001b[0;36mimshow\u001b[0;34m(self, X, cmap, norm, aspect, interpolation, alpha, vmin, vmax, origin, extent, shape, filternorm, filterrad, imlim, resample, url, **kwargs)\u001b[0m\n\u001b[1;32m   7298\u001b[0m                        filterrad=filterrad, resample=resample, **kwargs)\n\u001b[1;32m   7299\u001b[0m \u001b[0;34m\u001b[0m\u001b[0m\n\u001b[0;32m-> 7300\u001b[0;31m         \u001b[0mim\u001b[0m\u001b[0;34m.\u001b[0m\u001b[0mset_data\u001b[0m\u001b[0;34m(\u001b[0m\u001b[0mX\u001b[0m\u001b[0;34m)\u001b[0m\u001b[0;34m\u001b[0m\u001b[0m\n\u001b[0m\u001b[1;32m   7301\u001b[0m         \u001b[0mim\u001b[0m\u001b[0;34m.\u001b[0m\u001b[0mset_alpha\u001b[0m\u001b[0;34m(\u001b[0m\u001b[0malpha\u001b[0m\u001b[0;34m)\u001b[0m\u001b[0;34m\u001b[0m\u001b[0m\n\u001b[1;32m   7302\u001b[0m         \u001b[0mself\u001b[0m\u001b[0;34m.\u001b[0m\u001b[0m_set_artist_props\u001b[0m\u001b[0;34m(\u001b[0m\u001b[0mim\u001b[0m\u001b[0;34m)\u001b[0m\u001b[0;34m\u001b[0m\u001b[0m\n",
        "\u001b[0;32m/usr/lib/pymodules/python2.7/matplotlib/image.pyc\u001b[0m in \u001b[0;36mset_data\u001b[0;34m(self, A)\u001b[0m\n\u001b[1;32m    423\u001b[0m         if (self._A.dtype != np.uint8 and\n\u001b[1;32m    424\u001b[0m             not np.can_cast(self._A.dtype, np.float)):\n\u001b[0;32m--> 425\u001b[0;31m             \u001b[0;32mraise\u001b[0m \u001b[0mTypeError\u001b[0m\u001b[0;34m(\u001b[0m\u001b[0;34m\"Image data can not convert to float\"\u001b[0m\u001b[0;34m)\u001b[0m\u001b[0;34m\u001b[0m\u001b[0m\n\u001b[0m\u001b[1;32m    426\u001b[0m \u001b[0;34m\u001b[0m\u001b[0m\n\u001b[1;32m    427\u001b[0m         if (self._A.ndim not in (2, 3) or\n",
        "\u001b[0;31mTypeError\u001b[0m: Image data can not convert to float"
       ]
      },
      {
       "output_type": "stream",
       "stream": "stdout",
       "text": [
        "(85, 2)\n"
       ]
      }
     ],
     "prompt_number": 2
    },
    {
     "cell_type": "code",
     "collapsed": false,
     "input": [
      "## compute canny edge and distance to edge for frame\n",
      "edges = cv2.Canny(frame, 100, 200)\n",
      "edges = edges/np.max(edges)\n",
      "distanceMatrix = ndimage.distance_transform_edt(1-edges)\n",
      "\n",
      "## get user points\n",
      "userPoints = np.load(\"userPoints.npy\")\n",
      "discreteUserPoints = userPoints[0, :]\n",
      "for i in xrange(1, len(userPoints)) :\n",
      "    if np.linalg.norm(userPoints[i-1, :]-userPoints[i, :]) >= 1 :\n",
      "        discreteUserPoints = np.vstack((discreteUserPoints, asu.discretizeLine(userPoints[i-1:i+1, :])))\n",
      "discreteUserPoints = np.array(discreteUserPoints, dtype=np.int)\n",
      "userPointsMap = np.ones(frame.shape[0:2])\n",
      "userPointsMap[discreteUserPoints[:, 1], discreteUserPoints[:, 0]] = 0\n",
      "userPointsDistance = ndimage.distance_transform_edt(userPointsMap)\n",
      "# distanceMatrix = (userPointsDistance/np.max(userPointsDistance))*distanceMatrix\n",
      "\n",
      "figure(); imshow(edges, interpolation='nearest')\n",
      "figure(); imshow(distanceMatrix, interpolation='nearest')"
     ],
     "language": "python",
     "metadata": {},
     "outputs": [
      {
       "metadata": {},
       "output_type": "pyout",
       "prompt_number": 3,
       "text": [
        "<matplotlib.image.AxesImage at 0x7f45be48e9d0>"
       ]
      }
     ],
     "prompt_number": 3
    },
    {
     "cell_type": "code",
     "collapsed": false,
     "input": [
      "## show unary costs in an image together with the edges\n",
      "img = np.array(edges, dtype=float)\n",
      "\n",
      "for n in xrange(0, len(snakeIdxs)) :\n",
      "    img[snakeIdxs[n, 0]-2:snakeIdxs[n, 0]+3, snakeIdxs[n, 1]-2:snakeIdxs[n, 1]+3] = np.reshape(unaryCosts[:, n], [neighbourhoodSize, neighbourhoodSize])/np.max(unaryCosts[:, n])\n",
      "\n",
      "print img.shape\n",
      "\n",
      "## visualize snake\n",
      "fig = plt.figure(figsize=(10, 10))\n",
      "\n",
      "ax = fig.add_subplot(111)\n",
      "ax.set_xlabel('X')\n",
      "ax.set_ylabel('Y')\n",
      "# ax.imshow(distanceMatrix*edges, interpolation='nearest')\n",
      "ax.imshow(img, interpolation='nearest')\n",
      "ax.autoscale(False)\n",
      "ax.plot(snakeIdxs[:, 1], snakeIdxs[:, 0], c='y', marker=\"o\", )\n",
      "draw()\n",
      "\n"
     ],
     "language": "python",
     "metadata": {},
     "outputs": [
      {
       "output_type": "stream",
       "stream": "stdout",
       "text": [
        "(720, 1280)\n"
       ]
      }
     ],
     "prompt_number": 65
    },
    {
     "cell_type": "code",
     "collapsed": false,
     "input": [
      "meanSpacing = 0.0\n",
      "for p in xrange(0, len(initialSnake)) :\n",
      "    pNext = p+1 if p < len(initialSnake)-1 else 0\n",
      "    meanSpacing += np.linalg.norm(initialSnake[p, :]-initialSnake[pNext, :])\n",
      "\n",
      "meanSpacing = meanSpacing/len(initialSnake)\n",
      "meanSpacing = 22.3076923077\n",
      "print meanSpacing\n",
      "neighbourhoodSize = 5\n",
      "\n",
      "activeSnake = np.copy(initialSnake)\n",
      "## need to swap columns in snake to get indices in distanceMatrix as snake contains (x, y) coords and I need (r, c)\n",
      "## x == c, y==r\n",
      "\n",
      "snakeIdxs = np.array([activeSnake[:, 1], activeSnake[:, 0]]).T\n",
      "\n",
      "## remove bad points and retry\n",
      "# clampedSnake = np.vstack((snakeIdxs[0:24, :], snakeIdxs[26, :], snakeIdxs[35:70, :], snakeIdxs[74, :], snakeIdxs[78, :], snakeIdxs[84:len(snakeIdxs), :]))\n",
      "# snakeIdxs = np.copy(clampedSnake)\n",
      "\n",
      "\n",
      "fig = plt.figure(figsize=(10, 10))\n",
      "\n",
      "ax = fig.add_subplot(111)\n",
      "ax.set_xlabel('X')\n",
      "ax.set_ylabel('Y')\n",
      "# ax.imshow(distanceMatrix*edges, interpolation='nearest')\n",
      "ax.imshow(frame, interpolation='nearest')\n",
      "ax.autoscale(False)\n",
      "s, = ax.plot(snakeIdxs[:, 1], snakeIdxs[:, 0], c='y', marker=\"o\")\n",
      "draw()\n",
      "\n",
      "asu.optimizeSnake(snakeIdxs, distanceMatrix, neighbourhoodSize, 0.9, s, 18, False)\n"
     ],
     "language": "python",
     "metadata": {},
     "outputs": [
      {
       "output_type": "stream",
       "stream": "stdout",
       "text": [
        "22.3076923077\n",
        "mean"
       ]
      },
      {
       "output_type": "stream",
       "stream": "stdout",
       "text": [
        " 13.298682007\n",
        "1801.06261367"
       ]
      },
      {
       "output_type": "stream",
       "stream": "stdout",
       "text": [
        "\n",
        "mean 13.3107382862\n",
        "1613.68242585"
       ]
      },
      {
       "output_type": "stream",
       "stream": "stdout",
       "text": [
        "\n",
        "mean 13.335521698\n",
        "1457.62132301"
       ]
      },
      {
       "output_type": "stream",
       "stream": "stdout",
       "text": [
        "\n",
        "mean 13.3280702026\n",
        "1318.61492583"
       ]
      },
      {
       "output_type": "stream",
       "stream": "stdout",
       "text": [
        "\n",
        "mean 13.2947942606\n",
        "1190.58029649"
       ]
      },
      {
       "output_type": "stream",
       "stream": "stdout",
       "text": [
        "\n",
        "mean 13.2827039286\n",
        "1079.70322478"
       ]
      },
      {
       "output_type": "stream",
       "stream": "stdout",
       "text": [
        "\n",
        "mean 13.2727648826\n",
        "990.967950183"
       ]
      },
      {
       "output_type": "stream",
       "stream": "stdout",
       "text": [
        "\n",
        "mean 13.2420078582\n",
        "904.542866555"
       ]
      },
      {
       "output_type": "stream",
       "stream": "stdout",
       "text": [
        "\n",
        "mean 13.1900797145\n",
        "817.828635193"
       ]
      },
      {
       "output_type": "stream",
       "stream": "stdout",
       "text": [
        "\n",
        "mean 13.1724459095\n",
        "751.688014726"
       ]
      },
      {
       "output_type": "stream",
       "stream": "stdout",
       "text": [
        "\n",
        "mean 13.1458855116\n",
        "690.10460667"
       ]
      },
      {
       "output_type": "stream",
       "stream": "stdout",
       "text": [
        "\n",
        "mean 13.1136241754\n",
        "649.837505713"
       ]
      },
      {
       "output_type": "stream",
       "stream": "stdout",
       "text": [
        "\n",
        "mean 13.0554336967\n",
        "602.144623776"
       ]
      },
      {
       "output_type": "stream",
       "stream": "stdout",
       "text": [
        "\n",
        "mean 13.0032153105\n",
        "565.425276115"
       ]
      },
      {
       "output_type": "stream",
       "stream": "stdout",
       "text": [
        "\n",
        "mean 12.9792621142\n",
        "537.5384376"
       ]
      },
      {
       "output_type": "stream",
       "stream": "stdout",
       "text": [
        "\n",
        "mean 12.9292323821\n",
        "501.840103663"
       ]
      },
      {
       "output_type": "stream",
       "stream": "stdout",
       "text": [
        "\n",
        "mean 12.8217333005\n",
        "468.800835315"
       ]
      },
      {
       "output_type": "stream",
       "stream": "stdout",
       "text": [
        "\n",
        "mean 12.7467044004\n",
        "433.948064775"
       ]
      },
      {
       "output_type": "stream",
       "stream": "stdout",
       "text": [
        "\n"
       ]
      }
     ],
     "prompt_number": 5
    },
    {
     "cell_type": "code",
     "collapsed": false,
     "input": [
      "fig = plt.figure(figsize=(10, 10))\n",
      "\n",
      "ax = fig.add_subplot(111)\n",
      "ax.set_xlabel('X')\n",
      "ax.set_ylabel('Y')\n",
      "# ax.imshow(distanceMatrix*edges, interpolation='nearest')\n",
      "ax.imshow(frame, interpolation='nearest')\n",
      "ax.autoscale(False)\n",
      "for i in xrange(0, 2):#len(testkIdxNexts)) :\n",
      "    ax.plot(np.hstack((testkIdxPrevs[i, 1], testkIdx[1], testkIdxNexts[i, 1])), np.hstack((testkIdxPrevs[i, 0], testkIdx[0], testkIdxNexts[i, 0])), c='y', marker=\"o\")\n",
      "    print -((testkIdxPrevs[i, :]-2*testkIdx+testkIdxNexts[i, :])*(testkIdxPrevs[i, :]-2*testkIdx+testkIdxNexts[i, :])).sum()\n",
      "draw()"
     ],
     "language": "python",
     "metadata": {},
     "outputs": [
      {
       "output_type": "stream",
       "stream": "stdout",
       "text": [
        "-949.0\n",
        "-914.0\n"
       ]
      }
     ],
     "prompt_number": 233
    },
    {
     "cell_type": "code",
     "collapsed": false,
     "input": [
      "testA = testkIdxPrevs[1, :]\n",
      "testO = testkIdx\n",
      "testB = testkIdxNexts[1, :]\n",
      "print testA, testO, testB\n",
      "\n",
      "testArea = (testA[1]*(testO[0]-testB[0])+testO[1]*(testB[0]-testA[0])+testB[1]*(testA[0]-testO[0]))/2.0\n",
      "testCurve = (4*testArea)/(np.linalg.norm(testA-testO)*np.linalg.norm(testO-testB)*np.linalg.norm(testB-testA))\n",
      "print testCurve"
     ],
     "language": "python",
     "metadata": {},
     "outputs": [
      {
       "output_type": "stream",
       "stream": "stdout",
       "text": [
        "[ 21.  17.] [ 15.  44.] [ 22.  59.]\n",
        "0.0290105421567\n"
       ]
      }
     ],
     "prompt_number": 126
    },
    {
     "cell_type": "code",
     "collapsed": false,
     "input": [
      "## try out the curvature thing\n",
      "print snakeIdxs[0:3, :]\n",
      "testkIdx = np.array([15., 44.])#snakeIdxs[1, :]\n",
      "testkIdxPrevs = np.zeros((neighbourhoodSize**2, snakeIdxs.shape[1]))\n",
      "testkIdxNexts = np.zeros((neighbourhoodSize**2, snakeIdxs.shape[1]))\n",
      "for i in xrange(0, neighbourhoodSize**2) :\n",
      "    testkIdxPrevs[i, :] = deltaCoords(linearTo2DCoord(i, neighbourhoodSize), neighbourhoodSize)+snakeIdxs[0, :]\n",
      "    testkIdxNexts[i, :] = deltaCoords(linearTo2DCoord(12, neighbourhoodSize), neighbourhoodSize)+snakeIdxs[2, :]\n",
      "    \n",
      "print testkIdx\n",
      "print testkIdxPrevs\n",
      "print testkIdxNexts\n",
      "\n",
      "testcurveTerms = -((testkIdxPrevs-2*testkIdx+testkIdxNexts)*(testkIdxPrevs-2*testkIdx+testkIdxNexts)).sum(axis=1)\n",
      "print testcurveTerms"
     ],
     "language": "python",
     "metadata": {},
     "outputs": [
      {
       "output_type": "stream",
       "stream": "stdout",
       "text": [
        "[[ 35.  23.]\n",
        " [ 25.  34.]\n",
        " [ 22.  49.]]\n",
        "[ 15.  44.]\n",
        "[[ 33.  21.]\n",
        " [ 33.  22.]\n",
        " [ 33.  23.]\n",
        " [ 33.  24.]\n",
        " [ 33.  25.]\n",
        " [ 34.  21.]\n",
        " [ 34.  22.]\n",
        " [ 34.  23.]\n",
        " [ 34.  24.]\n",
        " [ 34.  25.]\n",
        " [ 35.  21.]\n",
        " [ 35.  22.]\n",
        " [ 35.  23.]\n",
        " [ 35.  24.]\n",
        " [ 35.  25.]\n",
        " [ 36.  21.]\n",
        " [ 36.  22.]\n",
        " [ 36.  23.]\n",
        " [ 36.  24.]\n",
        " [ 36.  25.]\n",
        " [ 37.  21.]\n",
        " [ 37.  22.]\n",
        " [ 37.  23.]\n",
        " [ 37.  24.]\n",
        " [ 37.  25.]]\n",
        "[[ 22.  49.]\n",
        " [ 22.  49.]\n",
        " [ 22.  49.]\n",
        " [ 22.  49.]\n",
        " [ 22.  49.]\n",
        " [ 22.  49.]\n",
        " [ 22.  49.]\n",
        " [ 22.  49.]\n",
        " [ 22.  49.]\n",
        " [ 22.  49.]\n",
        " [ 22.  49.]\n",
        " [ 22.  49.]\n",
        " [ 22.  49.]\n",
        " [ 22.  49.]\n",
        " [ 22.  49.]\n",
        " [ 22.  49.]\n",
        " [ 22.  49.]\n",
        " [ 22.  49.]\n",
        " [ 22.  49.]\n",
        " [ 22.  49.]\n",
        " [ 22.  49.]\n",
        " [ 22.  49.]\n",
        " [ 22.  49.]\n",
        " [ 22.  49.]\n",
        " [ 22.  49.]]\n",
        "[ -949.  -914.  -881.  -850.  -821. -1000.  -965.  -932.  -901.  -872.\n",
        " -1053. -1018.  -985.  -954.  -925. -1108. -1073. -1040. -1009.  -980.\n",
        " -1165. -1130. -1097. -1066. -1037.]\n"
       ]
      }
     ],
     "prompt_number": 232
    },
    {
     "cell_type": "code",
     "collapsed": false,
     "input": [
      "activeSnake = np.zeros_like(snake)\n",
      "for i in xrange(0, len(snake)) :\n",
      "    activeSnake[i, :] = deltaCoords(linearTo2DCoord(minCostTraversal[i], neighbourhoodSize), neighbourhoodSize)+snakeIndices[i, :]\n",
      "    \n",
      "\n",
      "activeSnake = np.array([activeSnake[:, 1], activeSnake[:, 0]]).T\n",
      "\n",
      "fig = plt.figure(figsize=(10, 10))\n",
      "\n",
      "ax = fig.add_subplot(111)\n",
      "ax.set_xlabel('X')\n",
      "ax.set_ylabel('Y')\n",
      "# ax.imshow(distanceMatrix*edges, interpolation='nearest')\n",
      "ax.imshow(frame, interpolation='nearest')\n",
      "ax.autoscale(False)\n",
      "ax.plot(activeSnake[:, 0], activeSnake[:, 1], c='y', marker=\"o\")\n",
      "draw()"
     ],
     "language": "python",
     "metadata": {},
     "outputs": [],
     "prompt_number": 271
    }
   ],
   "metadata": {}
  }
 ]
}