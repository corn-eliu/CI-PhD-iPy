{
 "metadata": {
  "name": "",
  "signature": "sha256:5bc1f2d04e2c3d3ce038eb10b7624ccb8899b1217af101eca26a3dee680be2fd"
 },
 "nbformat": 3,
 "nbformat_minor": 0,
 "worksheets": [
  {
   "cells": [
    {
     "cell_type": "code",
     "collapsed": false,
     "input": [
      "%pylab\n",
      "import numpy as np\n",
      "import sys\n",
      "import scipy as sp\n",
      "from scipy import optimize\n",
      "\n",
      "import itertools\n",
      "\n",
      "import time\n",
      "import os\n",
      "\n",
      "from sklearn import ensemble\n",
      "import cv2\n",
      "\n",
      "import scipy.io as sio\n",
      "import glob\n",
      "import commands\n",
      "\n",
      "from PIL import Image\n",
      "\n",
      "import GraphWithValues as gwv\n",
      "import VideoTexturesUtils as vtu"
     ],
     "language": "python",
     "metadata": {},
     "outputs": [
      {
       "output_type": "stream",
       "stream": "stdout",
       "text": [
        "Using matplotlib backend: TkAgg\n",
        "Populating the interactive namespace from numpy and matplotlib\n"
       ]
      }
     ],
     "prompt_number": 1
    },
    {
     "cell_type": "code",
     "collapsed": false,
     "input": [
      "# dataPath = \"/home/ilisescu/PhD/data/\"\n",
      "dataPath = \"/media/ilisescu/Data1/PhD/data/\"\n",
      "\n",
      "# dataSet = \"pendulum/\"\n",
      "# dataSet = \"tree/\"\n",
      "# dataSet = \"splashes_water/\"\n",
      "# dataSet = \"small_waterfall/\"\n",
      "# dataSet = \"sisi_flag/\"\n",
      "dataSet = \"eu_flag_ph_left/\"\n",
      "# dataSet = \"ribbon2/\"\n",
      "# dataSet = \"candle1/segmentedAndCropped/\"\n",
      "framePaths = np.sort(glob.glob(dataPath + dataSet + \"frame*.png\"))\n",
      "numFrames = len(framePaths)\n",
      "print numFrames\n",
      "imageSize = np.array(Image.open(framePaths[0])).shape[0:2]"
     ],
     "language": "python",
     "metadata": {},
     "outputs": [
      {
       "output_type": "stream",
       "stream": "stdout",
       "text": [
        "1208\n"
       ]
      }
     ],
     "prompt_number": 2
    },
    {
     "cell_type": "code",
     "collapsed": false,
     "input": [
      "## make small toy example with known L2 distance for 3 examples\n",
      "greyImage1 = np.ones((1, 2, 3), dtype=int)*127 + np.random.randint(-10, 10, 3)\n",
      "greyImage1[:, 1, :] = np.random.randint(120, 134, 3)##(0, 255, 3)\n",
      "# greyImage1[0, 1, 2] = 0 ## setting last dimension to 0 and see if that dimension is leveraged to get the good examples right\n",
      "\n",
      "greyImage2 = np.ones((1, 2, 3), dtype=int)*127 + np.random.randint(-10, 10, 3)\n",
      "greyImage2[:, 1, :] = np.random.randint(120, 134, 3)##(0, 255, 3)\n",
      "# greyImage2[0, 1, 2] = 0\n",
      "\n",
      "blackImage1 = np.zeros((1, 2, 3), dtype=int) + np.random.randint(0, 10, 3)\n",
      "blackImage1[:, 1, :] = np.random.randint(120, 134, 3)##(0, 255, 3)\n",
      "# blackImage1[0, 1, 2] = 127\n",
      "\n",
      "blackImage2 = np.zeros((1, 2, 3), dtype=int) + np.random.randint(0, 10, 3)\n",
      "blackImage2[:, 1, :] = np.random.randint(120, 134, 3)##(0, 255, 3)\n",
      "# blackImage2[0, 1, 2] = 127\n",
      "\n",
      "whiteImage1 = np.ones((1, 2, 3), dtype=int)*255 + np.random.randint(-10, 0, 3)\n",
      "whiteImage1[:, 1, :] = np.random.randint(120, 134, 3)##(0, 255, 3)\n",
      "# whiteImage1[0, 1, 2] = 255\n",
      "\n",
      "whiteImage2 = np.ones((1, 2, 3), dtype=int)*255 + np.random.randint(-10, 0, 3)\n",
      "whiteImage2[:, 1, :] = np.random.randint(120, 134, 3)##(0, 255, 3)\n",
      "# whiteImage2[0, 1, 2] = 255\n",
      "\n",
      "# X = np.array([(blackImage1.flatten()/255.0-blackImage1.flatten()/255.0)**2,\n",
      "#               (whiteImage1.flatten()/255.0-whiteImage2.flatten()/255.0)**2,\n",
      "#               (greyImage1.flatten()/255.0-greyImage2.flatten()/255.0)**2,\n",
      "#               (greyImage1.flatten()/255.0-blackImage1.flatten()/255.0)**2,\n",
      "#               (greyImage1.flatten()/255.0-blackImage2.flatten()/255.0)**2,\n",
      "#               (greyImage2.flatten()/255.0-blackImage1.flatten()/255.0)**2,\n",
      "#               (greyImage2.flatten()/255.0-blackImage2.flatten()/255.0)**2,\n",
      "#               (greyImage1.flatten()/255.0-whiteImage1.flatten()/255.0)**2,\n",
      "#               (greyImage1.flatten()/255.0-whiteImage2.flatten()/255.0)**2,\n",
      "#               (greyImage2.flatten()/255.0-whiteImage1.flatten()/255.0)**2,\n",
      "#               (greyImage2.flatten()/255.0-whiteImage2.flatten()/255.0)**2,\n",
      "#               (whiteImage1.flatten()/255.0-blackImage1.flatten()/255.0)**2,\n",
      "#               (whiteImage1.flatten()/255.0-blackImage2.flatten()/255.0)**2,\n",
      "#               (whiteImage2.flatten()/255.0-blackImage1.flatten()/255.0)**2,\n",
      "#               (whiteImage2.flatten()/255.0-blackImage2.flatten()/255.0)**2]).T\n",
      "# w = np.array([[0.0, 0.0, 0.0, 100.0, 100.0, 100.0, 100.0, 100.0, 100.0, 100.0, 100.0, 100.0, 100.0, 100.0, 100.0]]).T\n",
      "X = np.array([(blackImage1.flatten()/255.0-blackImage1.flatten()/255.0)**2,\n",
      "              (whiteImage1.flatten()/255.0-whiteImage2.flatten()/255.0)**2,\n",
      "              (whiteImage1.flatten()/255.0-blackImage1.flatten()/255.0)**2]).T\n",
      "w = np.array([[0.0, 0.0, 100.0]]).T\n",
      "\n",
      "N = X.shape[0]\n",
      "phi0 = np.ones((N, 1))\n",
      "sio.savemat(dataPath + \"trainingExamplesForSmallToyExample\", {\"X\":X, \"w\":w})\n",
      "print N, X.shape, w.shape, phi0.shape\n",
      "\n",
      "## now call the matlab script to fit phi using psi\n",
      "trainingExamplesLoc = dataPath + \"trainingExamplesForSmallToyExample.mat\"\n",
      "phiSaveLoc = dataPath + \"fittedPhiForSmallToyExampleUsingPsi.mat\"\n",
      "\n",
      "matlabCommand = \"cd ~/PhD/MATLAB/; matlab -nosplash -nodesktop -nodisplay -r \"\n",
      "matlabCommand += \"\\\"fitPsiForRegression '\" + trainingExamplesLoc + \"' '\"\n",
      "matlabCommand += phiSaveLoc + \"'; exit;\\\"\"\n",
      "\n",
      "stat, output = commands.getstatusoutput(matlabCommand)\n",
      "stat /= 256\n",
      "\n",
      "if stat == 10 :\n",
      "    print \"Error when saving result\"\n",
      "elif stat == 11 :\n",
      "    print \"Error when loading examples\"\n",
      "else :\n",
      "    print \"Optimization completed with status\", stat\n",
      "    \n",
      "print output"
     ],
     "language": "python",
     "metadata": {},
     "outputs": []
    },
    {
     "cell_type": "code",
     "collapsed": false,
     "input": [
      "print sio.loadmat(phiSaveLoc)['phi_MAP']\n",
      "toyDist = np.zeros((6, 6))\n",
      "for imgI, i in zip([greyImage1.flatten(), greyImage2.flatten(), \n",
      "                    whiteImage1.flatten(), whiteImage2.flatten(), \n",
      "                    blackImage1.flatten(), blackImage2.flatten()], arange(6)):\n",
      "    for imgJ, j in zip([greyImage1.flatten(), greyImage2.flatten(), \n",
      "                        whiteImage1.flatten(), whiteImage2.flatten(), \n",
      "                        blackImage1.flatten(), blackImage2.flatten()], arange(6)):\n",
      "#         toyDist[i, j] = np.sqrt(np.dot(((imgI/255.0-imgJ/255.0)**2).reshape((1, 6)), sio.loadmat(phiSaveLoc)['phi_MAP']))\n",
      "#         toyDist[i, j] = np.sqrt(np.dot(((imgI[0:3]/255.0-imgJ[0:3]/255.0)**2).reshape((1, 3)), sio.loadmat(phiSaveLoc)['phi_MAP'][0:3]))\n",
      "        toyDist[i, j] = np.sqrt(np.dot(((imgI/255.0-imgJ/255.0)**2).reshape((1, 6)), np.ones_like(sio.loadmat(phiSaveLoc)['phi_MAP'])))\n",
      "#         toyDist[i, j] = np.sqrt(np.dot(((imgI[0:3]/255.0-imgJ[0:3]/255.0)**2).reshape((1, 3)), np.ones_like(sio.loadmat(phiSaveLoc)['phi_MAP'])[0:3]))\n",
      "        \n",
      "gwv.showCustomGraph(toyDist, \"L2 distance for toy example with random pixel-best examples\")"
     ],
     "language": "python",
     "metadata": {},
     "outputs": [
      {
       "output_type": "stream",
       "stream": "stdout",
       "text": [
        "[[ 13.10876814]\n",
        " [ 19.00014788]\n",
        " [ 78.43141307]\n",
        " [  1.00059359]\n",
        " [  0.99998199]\n",
        " [  1.00035327]]\n"
       ]
      }
     ],
     "prompt_number": 124
    },
    {
     "cell_type": "heading",
     "level": 2,
     "metadata": {},
     "source": [
      "White vs Grey vs Black example"
     ]
    },
    {
     "cell_type": "code",
     "collapsed": false,
     "input": [
      "## automatically generated toy example\n",
      "## number of toy images for white, grey and black pixels\n",
      "numToyImages = [50, 50, 50]\n",
      "## make the 2D images with a white/grey/black pixel and a random pixel\n",
      "toyImages = np.concatenate((np.array([np.ones(numToyImages[0])*255 + np.random.randint(-10, 0, numToyImages[0]), np.random.randint(0, 255, numToyImages[0])]),\n",
      "                            np.array([np.ones(numToyImages[1])*127 + np.random.randint(-5, 5, numToyImages[1]), np.random.randint(0, 255, numToyImages[1])]),\n",
      "                            np.array([np.zeros(numToyImages[2]) + np.random.randint(0, 10, numToyImages[2]), np.random.randint(0, 255, numToyImages[2])])), axis=-1)\n",
      "\n",
      "# print toyImages\n",
      "\n",
      "## generating all possible indices for good examples\n",
      "goodExamplesIdxs = np.zeros((np.sum(numToyImages), np.sum(numToyImages)))\n",
      "goodExamplesIdxs[0:numToyImages[0], \n",
      "                 0:numToyImages[0]] = np.triu(np.ones((numToyImages[0], numToyImages[0])), k=1) ## white vs white\n",
      "goodExamplesIdxs[numToyImages[0]:np.sum(numToyImages[:2]), \n",
      "                 numToyImages[0]:np.sum(numToyImages[:2])] = np.triu(np.ones((numToyImages[1], numToyImages[1])), k=1) ## grey vs grey\n",
      "goodExamplesIdxs[np.sum(numToyImages[:2]):np.sum(numToyImages), \n",
      "                 np.sum(numToyImages[:2]):np.sum(numToyImages)] = np.triu(np.ones((numToyImages[2], numToyImages[2])), k=1) ## black vs black\n",
      "goodExamplesIdxs = np.argwhere(goodExamplesIdxs)\n",
      "print goodExamplesIdxs.shape[0], \"possible good examples\"\n",
      "\n",
      "## generating all possible indices for bad examples\n",
      "badExamplesIdxs = np.zeros((np.sum(numToyImages), np.sum(numToyImages)))\n",
      "# badExamplesIdxs[0:numToyImages[0], numToyImages[0]:np.sum(numToyImages[:2])] = 1 ## white vs grey\n",
      "badExamplesIdxs[0:numToyImages[0], np.sum(numToyImages[:2]):] = 1 ## white vs black\n",
      "# badExamplesIdxs[numToyImages[0]:np.sum(numToyImages[:2]), np.sum(numToyImages[:2]):] = 1 ## grey vs black\n",
      "badExamplesIdxs = np.argwhere(badExamplesIdxs)\n",
      "print badExamplesIdxs.shape[0], \"possible bad examples\"\n",
      "\n",
      "randomGoodPairs = goodExamplesIdxs[np.random.choice(np.arange(len(goodExamplesIdxs)), size=2300, replace=False), :]\n",
      "randomBadPairs = badExamplesIdxs[np.random.choice(np.arange(len(badExamplesIdxs)), size=2300, replace=False), :]"
     ],
     "language": "python",
     "metadata": {},
     "outputs": [
      {
       "output_type": "stream",
       "stream": "stdout",
       "text": [
        "3675 possible good examples\n",
        "2500 possible bad examples\n"
       ]
      }
     ],
     "prompt_number": 5
    },
    {
     "cell_type": "heading",
     "level": 2,
     "metadata": {},
     "source": [
      "White to Black and Back Animation example"
     ]
    },
    {
     "cell_type": "code",
     "collapsed": false,
     "input": [
      "animationLength = 20\n",
      "numLoops = 10\n",
      "numToyImages = animationLength*numLoops\n",
      "## animation goes from 0 to 255 and back in animationLength frames\n",
      "animFrameIdxs = np.repeat(np.concatenate((np.arange(0, animationLength/2+1),\n",
      "                                          np.arange(0, animationLength/2+1)[1:-1][::-1])).reshape((1, animationLength)),\n",
      "                          numLoops, axis=-0).flatten()\n",
      "# toyImages = (animFrameIdxs*((255.0*2.0)/animationLength)).reshape((1, animationLength*numLoops))\n",
      "# ## add noise to animation colors\n",
      "# toyImages = np.clip(toyImages + np.random.randint(-5, 5, toyImages.shape[-1]), 0, 255)\n",
      "# ## add random dimension\n",
      "# toyImages = np.array(np.concatenate((toyImages, np.random.randint(0, 255, toyImages.shape[-1]).reshape((1, toyImages.shape[-1])))), int)\n",
      "# print toyImages\n",
      "\n",
      "\n",
      "desiredIdxs = np.zeros((animationLength*numLoops, animationLength*numLoops))\n",
      "\n",
      "## good pairings are instances where the same color is show as stored in animFrameIdxs\n",
      "\n",
      "## this allows for switching animation direction when reaching half-way mark\n",
      "# desiredIdxs = np.array([animFrameIdxs == i for i in animFrameIdxs], dtype=int)*2\n",
      "## this one doesn't\n",
      "desiredIdxs = np.array([np.mod(np.arange(animationLength*numLoops),\n",
      "                               animationLength) == i for i in np.mod(np.arange(animationLength*numLoops),\n",
      "                                                                     animationLength)], dtype=int)*2\n",
      "\n",
      "## bad pairings are instances where different colors are picked\n",
      "turnDist = 2 ## distance from animation switch (i.e. when I switch going from white to black to going from black to white and viceversa)\n",
      "desiredIdxs += cv2.erode(np.array(1.0 - np.array([animFrameIdxs == i for i in animFrameIdxs], dtype=int), np.uint8), np.ones((turnDist*2+1, turnDist*2+1), np.uint8))\n",
      "# desiredIdxs += cv2.erode(np.array(1.0 - desiredIdxs/np.max(desiredIdxs), np.uint8), np.ones((turnDist*2+1, turnDist*2+1), np.uint8))\n",
      "\n",
      "desiredIdxs = np.roll(desiredIdxs, 1, axis=-1)\n",
      "desiredIdxs = np.triu(desiredIdxs, k=1)\n",
      "gwv.showCustomGraph(desiredIdxs)\n",
      "\n",
      "goodExamplesIdxs = np.argwhere(desiredIdxs==2)\n",
      "badExamplesIdxs = np.argwhere(desiredIdxs==1)\n",
      "\n",
      "print goodExamplesIdxs.shape\n",
      "print badExamplesIdxs.shape\n",
      "\n",
      "\n",
      "randomGoodPairs = goodExamplesIdxs[np.random.choice(np.arange(len(goodExamplesIdxs)), size=1000, replace=False), :]\n",
      "randomBadPairs = badExamplesIdxs[np.random.choice(np.arange(len(badExamplesIdxs)), size=1000, replace=False), :]"
     ],
     "language": "python",
     "metadata": {},
     "outputs": [
      {
       "output_type": "stream",
       "stream": "stdout",
       "text": [
        "(1090, 2)\n",
        "(6010, 2)\n"
       ]
      }
     ],
     "prompt_number": 243
    },
    {
     "cell_type": "code",
     "collapsed": false,
     "input": [
      "# toyImages = np.copy(toyImages[:2, :])\n",
      "useAugment = True\n",
      "augmentSymmetric = True\n",
      "useTemporal = False\n",
      "\n",
      "## computing feature vectures for all pairs\n",
      "allPairsIdxs = np.argwhere(np.triu(np.ones((np.sum(numToyImages), np.sum(numToyImages)))))#, k=1))\n",
      "allPairs = (toyImages[:, allPairsIdxs[:, 0]]/1.0-toyImages[:, allPairsIdxs[:, 1]]/1.0)**2\n",
      "## add augmentation to x\n",
      "if useAugment :\n",
      "    if augmentSymmetric :\n",
      "        print \"using symmetric augmentation\"\n",
      "#         allPairs = np.concatenate((allPairs, \n",
      "#                                    (((255-toyImages[0, allPairsIdxs[:, 0]])/255.0-toyImages[0, allPairsIdxs[:, 1]]/255.0)**2+\n",
      "#                                     ((255-toyImages[0, allPairsIdxs[:, 1]])/255.0-toyImages[0, allPairsIdxs[:, 0]]/255.0)**2).reshape((1, len(allPairsIdxs)))))\n",
      "        allPairs = np.concatenate((allPairs,\n",
      "                                   (((255-toyImages[:, allPairsIdxs[:, 0]])/1.0-toyImages[:, allPairsIdxs[:, 1]]/1.0)**2+\n",
      "                                    ((255-toyImages[:, allPairsIdxs[:, 1]])/1.0-toyImages[:, allPairsIdxs[:, 0]]/1.0)**2).reshape((toyImages.shape[0], len(allPairsIdxs)))))\n",
      "    else :\n",
      "        print \"using non-symmetric augmentation\"\n",
      "        allPairs = np.concatenate((allPairs, \n",
      "                                   ((255-toyImages[:, allPairsIdxs[:, 0]])/255.0-toyImages[:, allPairsIdxs[:, 1]]/255.0).reshape((toyImages.shape[0], len(allPairsIdxs)))**2))\n",
      "        \n",
      "if useTemporal :\n",
      "    print \"using temporal features augmentation\"\n",
      "    shiftedIdxs1 = allPairsIdxs[:, 0]+1\n",
      "    np.place(shiftedIdxs1, shiftedIdxs1==numToyImages, -1)\n",
      "    shiftedIdxs2 = allPairsIdxs[:, 1]+1\n",
      "    np.place(shiftedIdxs2, shiftedIdxs2==numToyImages, -1)\n",
      "    allPairs = np.concatenate((allPairs,\n",
      "                               ((toyImages[0, allPairsIdxs[:, 0]]/255.0-toyImages[0, allPairsIdxs[:, 1]-1]/255.0)**2).reshape((1, len(allPairsIdxs))),\n",
      "                               ((toyImages[0, shiftedIdxs1]/255.0-toyImages[0, allPairsIdxs[:, 1]]/255.0)**2).reshape((1, len(allPairsIdxs))),\n",
      "                               ((toyImages[0, allPairsIdxs[:, 0]-1]/255.0-toyImages[0, allPairsIdxs[:, 1]-1]/255.0)**2).reshape((1, len(allPairsIdxs))),\n",
      "                               ((toyImages[0, shiftedIdxs1]/255.0-toyImages[0, shiftedIdxs2]/255.0)**2).reshape((1, len(allPairsIdxs)))))\n",
      "        \n",
      "print allPairs.shape"
     ],
     "language": "python",
     "metadata": {},
     "outputs": [
      {
       "output_type": "stream",
       "stream": "stdout",
       "text": [
        "using symmetric augmentation\n",
        "(4, 11325)\n"
       ]
      }
     ],
     "prompt_number": 12
    },
    {
     "cell_type": "code",
     "collapsed": false,
     "input": [
      "print np.max(allPairs[0:2, :])\n",
      "print np.max(toyImages)"
     ],
     "language": "python",
     "metadata": {},
     "outputs": [
      {
       "output_type": "stream",
       "stream": "stdout",
       "text": [
        "0.992172241446\n",
        "254.0\n"
       ]
      }
     ],
     "prompt_number": 13
    },
    {
     "cell_type": "code",
     "collapsed": false,
     "input": [
      "print X.T\n",
      "print w\n",
      "print goodExamplesToUse\n",
      "print badExamplesToUse\n",
      "print toyImages[:, 42]\n",
      "print toyImages[:, 117]"
     ],
     "language": "python",
     "metadata": {},
     "outputs": [
      {
       "output_type": "stream",
       "stream": "stdout",
       "text": [
        "[[  9.35640138e-02   9.15586313e-01   1.92233756e-02   3.72164552e-03]\n",
        " [  2.72033833e-01   4.98269896e-01   2.41138024e-02   6.22837370e-02]\n",
        " [  1.12110727e-02   1.21814687e-01   1.59889273e+00   8.31680123e-02]\n",
        " ..., \n",
        " [  7.75240292e-02   3.98631296e-01   4.88304498e-01   3.14955786e-02]\n",
        " [  1.03960015e-02   1.03960015e-02   5.27827759e-01   5.68704344e-02]\n",
        " [  8.13533256e-03   1.47697040e-01   4.88304498e-01   1.50711265e-03]]\n",
        "[[ 0.]\n",
        " [ 0.]\n",
        " [ 0.]\n",
        " ..., \n",
        " [ 1.]\n",
        " [ 1.]\n",
        " [ 1.]]\n",
        "[[ 34  43]\n",
        " [ 63  88]\n",
        " [ 59  80]\n",
        " ..., \n",
        " [  4  17]\n",
        " [119 125]\n",
        " [134 141]]\n",
        "[[ 13 106]\n",
        " [ 31 112]\n",
        " [  1 139]\n",
        " ..., \n",
        " [ 36 141]\n",
        " [ 32 107]\n",
        " [ 42 117]]\n",
        "[53 82]\n",
        "[ 76 180]\n"
       ]
      }
     ],
     "prompt_number": 280
    },
    {
     "cell_type": "code",
     "collapsed": false,
     "input": [
      "## number of good and bad examples to use in training per try\n",
      "numExamples = np.array([[1, 1],\n",
      "                        [3, 3],\n",
      "                        [9, 9],\n",
      "                        [27, 27],\n",
      "                        [81, 81],\n",
      "                        [243, 243],\n",
      "                        [729, 729],\n",
      "                        [2187, 2187]])\n",
      "# numExamples = numExamples[:-1, :]\n",
      "\n",
      "## weights fitted for each combination of numbers of examples\n",
      "fittedWeights = []\n",
      "## sum of squared differences between regressed distances and given labels w\n",
      "trainingErrors = []\n",
      "## sum of squared differences between l2 distance between training pairs and the desired labels w\n",
      "l2DistErrors = []\n",
      "## distance matrices using the regressed weights\n",
      "regressedDistanceMats = []\n",
      "\n",
      "\n",
      "for currentTry in numExamples[0:] :\n",
      "    print currentTry\n",
      "    goodExamplesToUse = randomGoodPairs[:currentTry[0], :] # goodExamplesIdxs[np.random.choice(np.arange(len(goodExamplesIdxs)), size=currentTry[0], replace=False), :]\n",
      "    badExamplesToUse = randomBadPairs[:currentTry[1], :] # badExamplesIdxs[np.random.choice(np.arange(len(badExamplesIdxs)), size=currentTry[1], replace=False), :]\n",
      "#     print toyImages[0, goodExamplesToUse[:, 0]]\n",
      "#     print toyImages[0, goodExamplesToUse[:, 1]]\n",
      "    print np.min(np.sqrt((toyImages[0, goodExamplesToUse[:, 0]]-toyImages[0, goodExamplesToUse[:, 1]])**2)),\n",
      "    print np.max(np.sqrt((toyImages[0, goodExamplesToUse[:, 0]]-toyImages[0, goodExamplesToUse[:, 1]])**2))\n",
      "    print\n",
      "#     print toyImages[0, badExamplesToUse[:, 0]]\n",
      "#     print toyImages[0, badExamplesToUse[:, 1]]\n",
      "    print np.min(np.sqrt((toyImages[0, badExamplesToUse[:, 0]]-toyImages[0, badExamplesToUse[:, 1]])**2)),\n",
      "    print np.max(np.sqrt((toyImages[0, badExamplesToUse[:, 0]]-toyImages[0, badExamplesToUse[:, 1]])**2))\n",
      "    \n",
      "    goodExamplesData = (toyImages[:, goodExamplesToUse[:, 0]]/1.0-toyImages[:, goodExamplesToUse[:, 1]]/1.0)**2\n",
      "    ## add augmentation to x\n",
      "    if useAugment :\n",
      "        if augmentSymmetric :\n",
      "#             goodExamplesData = np.concatenate((goodExamplesData, \n",
      "#                                                (((255-toyImages[0, goodExamplesToUse[:, 0]])/255.0-toyImages[0, goodExamplesToUse[:, 1]]/255.0)**2+\n",
      "#                                                 ((255-toyImages[0, goodExamplesToUse[:, 1]])/255.0-toyImages[0, goodExamplesToUse[:, 0]]/255.0)**2).reshape((1, len(goodExamplesToUse)))))\n",
      "            goodExamplesData = np.concatenate((goodExamplesData, \n",
      "                                               (((255-toyImages[:, goodExamplesToUse[:, 0]])/1.0-toyImages[:, goodExamplesToUse[:, 1]]/1.0)**2+\n",
      "                                                ((255-toyImages[:, goodExamplesToUse[:, 1]])/1.0-toyImages[:, goodExamplesToUse[:, 0]]/1.0)**2).reshape((toyImages.shape[0], len(goodExamplesToUse)))))\n",
      "\n",
      "        else :\n",
      "            goodExamplesData = np.concatenate((goodExamplesData, \n",
      "                                               ((255-toyImages[:, goodExamplesToUse[:, 0]])/255.0-toyImages[:, goodExamplesToUse[:, 1]]/255.0).reshape((toyImages.shape[0], len(goodExamplesToUse)))**2))\n",
      "    \n",
      "    if useTemporal :\n",
      "        shiftedIdxs1 = goodExamplesToUse[:, 0]+1\n",
      "        np.place(shiftedIdxs1, shiftedIdxs1==numToyImages, -1)\n",
      "        shiftedIdxs2 = goodExamplesToUse[:, 1]+1\n",
      "        np.place(shiftedIdxs2, shiftedIdxs2==numToyImages, -1)\n",
      "        goodExamplesData = np.concatenate((goodExamplesData,\n",
      "                                           ((toyImages[0, goodExamplesToUse[:, 0]]/255.0-toyImages[0, goodExamplesToUse[:, 1]-1]/255.0)**2).reshape((1, len(goodExamplesToUse))),\n",
      "                                           ((toyImages[0, shiftedIdxs1]/255.0-toyImages[0, goodExamplesToUse[:, 1]]/255.0)**2).reshape((1, len(goodExamplesToUse))),\n",
      "                                           ((toyImages[0, goodExamplesToUse[:, 0]-1]/255.0-toyImages[0, goodExamplesToUse[:, 1]-1]/255.0)**2).reshape((1, len(goodExamplesToUse))),\n",
      "                                           ((toyImages[0, shiftedIdxs1]/255.0-toyImages[0, shiftedIdxs2]/255.0)**2).reshape((1, len(goodExamplesToUse)))))\n",
      "    \n",
      "    badExamplesData = (toyImages[:, badExamplesToUse[:, 0]]/1.0-toyImages[:, badExamplesToUse[:, 1]]/1.0)**2\n",
      "    ## add augmentation to x\n",
      "    if useAugment :\n",
      "        if augmentSymmetric :\n",
      "#             badExamplesData = np.concatenate((badExamplesData, \n",
      "#                                               (((255-toyImages[0, badExamplesToUse[:, 0]])/255.0-toyImages[0, badExamplesToUse[:, 1]]/255.0)**2+\n",
      "#                                                ((255-toyImages[0, badExamplesToUse[:, 1]])/255.0-toyImages[0, badExamplesToUse[:, 0]]/255.0)**2).reshape((1, len(badExamplesToUse)))))\n",
      "            badExamplesData = np.concatenate((badExamplesData, \n",
      "                                              (((255-toyImages[:, badExamplesToUse[:, 0]])/1.0-toyImages[:, badExamplesToUse[:, 1]]/1.0)**2+\n",
      "                                               ((255-toyImages[:, badExamplesToUse[:, 1]])/1.0-toyImages[:, badExamplesToUse[:, 0]]/1.0)**2).reshape((toyImages.shape[0], len(badExamplesToUse)))))\n",
      "        else :\n",
      "            badExamplesData = np.concatenate((badExamplesData, \n",
      "                                              ((255-toyImages[:, badExamplesToUse[:, 0]])/255.0-toyImages[:, badExamplesToUse[:, 1]]/255.0).reshape((toyImages.shape[0], len(badExamplesToUse)))**2))\n",
      "            \n",
      "    \n",
      "    if useTemporal :\n",
      "        shiftedIdxs1 = badExamplesToUse[:, 0]+1\n",
      "        np.place(shiftedIdxs1, shiftedIdxs1==numToyImages, -1)\n",
      "        shiftedIdxs2 = badExamplesToUse[:, 1]+1\n",
      "        np.place(shiftedIdxs2, shiftedIdxs2==numToyImages, -1)\n",
      "        badExamplesData = np.concatenate((badExamplesData,\n",
      "                                          ((toyImages[0, badExamplesToUse[:, 0]]/255.0-toyImages[0, badExamplesToUse[:, 1]-1]/255.0)**2).reshape((1, len(badExamplesToUse))),\n",
      "                                          ((toyImages[0, shiftedIdxs1]/255.0-toyImages[0, badExamplesToUse[:, 1]]/255.0)**2).reshape((1, len(badExamplesToUse))),\n",
      "                                          ((toyImages[0, badExamplesToUse[:, 0]-1]/255.0-toyImages[0, badExamplesToUse[:, 1]-1]/255.0)**2).reshape((1, len(badExamplesToUse))),\n",
      "                                          ((toyImages[0, shiftedIdxs1]/255.0-toyImages[0, shiftedIdxs2]/255.0)**2).reshape((1, len(badExamplesToUse)))))\n",
      "    \n",
      "    X = np.concatenate((goodExamplesData, badExamplesData), axis=1)\n",
      "    \n",
      "    print X.shape\n",
      "    \n",
      "    w = np.array([np.concatenate((np.ones(currentTry[0]), np.zeros(currentTry[1])))]).T\n",
      "\n",
      "    N = X.shape[0]\n",
      "    phi0 = np.ones((N, 1))\n",
      "    sio.savemat(dataPath + \"trainingExamplesForSmallToyExample\", {\"X\":X, \"w\":w})\n",
      "    print N, X.shape, w.shape, phi0.shape\n",
      "\n",
      "    ## now call the matlab script to fit phi using psi\n",
      "    trainingExamplesLoc = dataPath + \"trainingExamplesForSmallToyExample.mat\"\n",
      "    phiSaveLoc = dataPath + \"fittedPhiForSmallToyExampleUsingPsi.mat\"\n",
      "\n",
      "    matlabCommand = \"cd ~/PhD/MATLAB/; matlab -nosplash -nodesktop -nodisplay -r \"\n",
      "    matlabCommand += \"\\\"fitPsiForRegression '\" + trainingExamplesLoc + \"' '\"\n",
      "    matlabCommand += phiSaveLoc + \"'; exit;\\\"\"\n",
      "\n",
      "    stat, output = commands.getstatusoutput(matlabCommand)\n",
      "    stat /= 256\n",
      "\n",
      "    if stat == 10 :\n",
      "        print \"Error when saving result\"\n",
      "    elif stat == 11 :\n",
      "        print \"Error when loading examples\"\n",
      "    else :\n",
      "        print \"Optimization completed with status\", stat\n",
      "\n",
      "#     print output\n",
      "    sys.stdout.flush()\n",
      "    fittedWeights.append(sio.loadmat(phiSaveLoc)['phi_MAP'])\n",
      "    trainingErrors.append(np.sum(np.sqrt((np.sqrt(np.dot(X.T, sio.loadmat(phiSaveLoc)['phi_MAP']))-w)**2)))\n",
      "    l2DistErrors.append(np.sum(np.sqrt((np.sqrt(np.dot(X.T, np.ones_like(sio.loadmat(phiSaveLoc)['phi_MAP'])))-w)**2)))\n",
      "    \n",
      "    toyRegDistMat = np.zeros((np.sum(numToyImages), np.sum(numToyImages)))\n",
      "    toyRegDistMat[allPairsIdxs[:, 0], allPairsIdxs[:, 1]] = np.sqrt(np.dot(allPairs.T, sio.loadmat(phiSaveLoc)['phi_MAP']))[:, 0]\n",
      "    toyRegDistMat[allPairsIdxs[:, 1], allPairsIdxs[:, 0]] = toyRegDistMat[allPairsIdxs[:, 0], allPairsIdxs[:, 1]]\n",
      "    regressedDistanceMats.append(toyRegDistMat)\n",
      "\n",
      "## distance matrix using the all one weights (i.e L2)\n",
      "toyL2DistMat = np.zeros((np.sum(numToyImages), np.sum(numToyImages)))\n",
      "toyL2DistMat[allPairsIdxs[:, 0], allPairsIdxs[:, 1]] = np.sqrt(np.dot(allPairs.T, np.ones_like(sio.loadmat(phiSaveLoc)['phi_MAP'])))[:, 0]\n",
      "toyL2DistMat[allPairsIdxs[:, 1], allPairsIdxs[:, 0]] = toyL2DistMat[allPairsIdxs[:, 0], allPairsIdxs[:, 1]]\n",
      "gwv.showCustomGraph(toyL2DistMat)"
     ],
     "language": "python",
     "metadata": {},
     "outputs": [
      {
       "output_type": "stream",
       "stream": "stdout",
       "text": [
        "[1 1]\n",
        "6.0 6.0\n",
        "\n",
        "243.0 243.0\n",
        "(4, 2)\n",
        "4 (4, 2) (2, 1) (4, 1)\n",
        "Optimization completed with status"
       ]
      },
      {
       "output_type": "stream",
       "stream": "stdout",
       "text": [
        " 0\n"
       ]
      },
      {
       "output_type": "stream",
       "stream": "stdout",
       "text": [
        "[3 3]\n",
        "3.0 6.0\n",
        "\n",
        "239.0 249.0\n",
        "(4, 6)\n",
        "4 (4, 6) (6, 1) (4, 1)\n",
        "Optimization completed with status"
       ]
      },
      {
       "output_type": "stream",
       "stream": "stdout",
       "text": [
        " 0\n"
       ]
      },
      {
       "output_type": "stream",
       "stream": "stdout",
       "text": [
        "[9 9]\n",
        "0.0 6.0\n",
        "\n",
        "236.0 252.0\n",
        "(4, 18)\n",
        "4 (4, 18) (18, 1) (4, 1)\n",
        "Optimization completed with status"
       ]
      },
      {
       "output_type": "stream",
       "stream": "stdout",
       "text": [
        " 0\n"
       ]
      },
      {
       "output_type": "stream",
       "stream": "stdout",
       "text": [
        "[27 27]\n",
        "0.0 9.0\n",
        "\n",
        "236.0 252.0\n",
        "(4, 54)\n",
        "4 (4, 54) (54, 1) (4, 1)\n",
        "Optimization completed with status"
       ]
      },
      {
       "output_type": "stream",
       "stream": "stdout",
       "text": [
        " 0\n"
       ]
      },
      {
       "output_type": "stream",
       "stream": "stdout",
       "text": [
        "[81 81]\n",
        "0.0 9.0\n",
        "\n",
        "236.0 253.0\n",
        "(4, 162)\n",
        "4 (4, 162) (162, 1) (4, 1)\n",
        "Optimization completed with status"
       ]
      },
      {
       "output_type": "stream",
       "stream": "stdout",
       "text": [
        " 0\n"
       ]
      },
      {
       "output_type": "stream",
       "stream": "stdout",
       "text": [
        "[243 243]\n",
        "0.0 9.0\n",
        "\n",
        "236.0 253.0\n",
        "(4, 486)\n",
        "4 (4, 486) (486, 1) (4, 1)\n",
        "Optimization completed with status"
       ]
      },
      {
       "output_type": "stream",
       "stream": "stdout",
       "text": [
        " 0\n"
       ]
      },
      {
       "output_type": "stream",
       "stream": "stdout",
       "text": [
        "[729 729]\n",
        "0.0 9.0\n",
        "\n",
        "236.0 254.0\n",
        "(4, 1458)\n",
        "4 (4, 1458) (1458, 1) (4, 1)\n",
        "Optimization completed with status"
       ]
      },
      {
       "output_type": "stream",
       "stream": "stdout",
       "text": [
        " 0\n"
       ]
      },
      {
       "output_type": "stream",
       "stream": "stdout",
       "text": [
        "[2187 2187]\n",
        "0.0 9.0\n",
        "\n",
        "236.0 254.0\n",
        "(4, 4374)\n",
        "4 (4, 4374) (4374, 1) (4, 1)\n",
        "Optimization completed with status"
       ]
      },
      {
       "output_type": "stream",
       "stream": "stdout",
       "text": [
        " 0\n"
       ]
      }
     ],
     "prompt_number": 39
    },
    {
     "cell_type": "code",
     "collapsed": false,
     "input": [
      "print allPairs.T[:20, :]\n",
      "print allPairsIdxs[:20, :]\n",
      "print toyImages[:, allPairsIdxs[:20, 0]]\n",
      "print toyImages[:, allPairsIdxs[:20, 1]]\n",
      "print randomGoodPairs\n",
      "print toyImages[:, 81], toyImages[:, 121]\n",
      "# print goodExamplesIdxs[:100, :]"
     ],
     "language": "python",
     "metadata": {},
     "outputs": [
      {
       "output_type": "stream",
       "stream": "stdout",
       "text": [
        "[[ 0.01293349  0.07752403]\n",
        " [ 0.03692426  0.10340638]\n",
        " [ 0.07752403  0.010396  ]\n",
        " [ 0.16633602  0.17279508]\n",
        " [ 0.26391388  0.19986159]\n",
        " [ 0.37906959  0.01121107]\n",
        " [ 0.46026913  0.10089965]\n",
        " [ 0.61514802  0.17607074]\n",
        " [ 0.82774318  0.00186082]\n",
        " [ 0.976609    0.00186082]\n",
        " [ 0.77854671  0.15687812]\n",
        " [ 0.64        0.00153787]\n",
        " [ 0.50382161  0.13879277]\n",
        " [ 0.36472126  0.05911572]\n",
        " [ 0.2402922   0.25990004]\n",
        " [ 0.16633602  0.02712803]\n",
        " [ 0.08650519  0.28864283]\n",
        " [ 0.04319877  0.11640138]\n",
        " [ 0.010396    0.02220684]\n",
        " [ 0.          0.03114187]]\n",
        "[[ 0  1]\n",
        " [ 0  2]\n",
        " [ 0  3]\n",
        " [ 0  4]\n",
        " [ 0  5]\n",
        " [ 0  6]\n",
        " [ 0  7]\n",
        " [ 0  8]\n",
        " [ 0  9]\n",
        " [ 0 10]\n",
        " [ 0 11]\n",
        " [ 0 12]\n",
        " [ 0 13]\n",
        " [ 0 14]\n",
        " [ 0 15]\n",
        " [ 0 16]\n",
        " [ 0 17]\n",
        " [ 0 18]\n",
        " [ 0 19]\n",
        " [ 0 20]]\n",
        "[[  0   0   0   0   0   0   0   0   0   0   0   0   0   0   0   0   0   0\n",
        "    0   0]\n",
        " [109 109 109 109 109 109 109 109 109 109 109 109 109 109 109 109 109 109\n",
        "  109 109]]\n",
        "[[ 29  49  71 104 131 157 173 200 232 252 225 204 181 154 125 104  75  53\n",
        "   26   0]\n",
        " [180  27  83   3 223 136 190 216  98 120   8  99  14  47 239 151 246 196\n",
        "  147  64]]\n",
        "[[ 18 118]\n",
        " [138 182]\n",
        " [139 199]\n",
        " ..., \n",
        " [171 171]\n",
        " [ 63 103]\n",
        " [ 72 168]]\n",
        "[29 66] [ 20 214]\n"
       ]
      }
     ],
     "prompt_number": 50
    },
    {
     "cell_type": "code",
     "collapsed": false,
     "input": [
      "gwv.showCustomGraph(toyL2DistMat)"
     ],
     "language": "python",
     "metadata": {},
     "outputs": [],
     "prompt_number": 167
    },
    {
     "cell_type": "code",
     "collapsed": false,
     "input": [
      "## plot training error wrt l2 distance errors\n",
      "figure()\n",
      "wErrHandle, = plot(np.array(numExamples)[0:, 0], trainingErrors/np.array(numExamples)[0:, 0], 'b.-')\n",
      "l2ErrHandle, = plot(np.array(numExamples)[0:, 0], l2DistErrors/np.array(numExamples)[0:, 0], 'g.-')\n",
      "legend([wErrHandle, l2ErrHandle], ['Weighted L2 Error', 'Normal L2 Error'])\n",
      "## plot how fitted weights change\n",
      "figure()\n",
      "legendHandles = plot(numExamples[0:], np.array(fittedWeights)[:, :, 0])\n",
      "# legend(legendHandles, ['Color Dimension Weight', 'Random Dimension Weight', 'Color Complement Dimension Weight'])\n",
      "legend(legendHandles, ['Color Dimension Weight', 'Random Dimension Weight', 'i minus j-1', 'i+1 minus j', 'i-1 minus j-1', 'i+1 minus j+1'])\n",
      "gca().text(.5,1.05,\"Regressed weights\",\n",
      "        horizontalalignment='center',\n",
      "        transform=gca().transAxes)\n",
      "## plot regressed distance vs l2 distance for given X\n",
      "figure()\n",
      "wDistHandle, = plot(np.sqrt(np.dot(X.T, sio.loadmat(phiSaveLoc)['phi_MAP'])), c='y', zorder=0)\n",
      "# l2DistHandle, = plot(np.sqrt(np.dot(X.T, np.ones_like(sio.loadmat(phiSaveLoc)['phi_MAP']))), 'g.')\n",
      "markerColors = np.zeros(len(X.T))\n",
      "markerColors[X[0, :] <= 0.25] = 0\n",
      "markerColors[np.all((X[0, :] < 0.75, X[0, :] > 0.25), axis=0)] = 1\n",
      "markerColors[X[0, :] >= 0.75] = 2\n",
      "# l2DistHandle = scatter(arange(len(X.T)), np.sqrt(np.dot(X.T, np.ones_like(sio.loadmat(phiSaveLoc)['phi_MAP']))), c=markerColors, marker='d', cmap='brg', edgecolors='none', alpha=.9)\n",
      "l2DistHandle = scatter(arange(len(X.T)), np.sqrt(np.dot(X.T, np.ones_like(sio.loadmat(phiSaveLoc)['phi_MAP']))), c='b', marker='d', cmap='brg', edgecolors='none', alpha=.9)\n",
      "legend([wDistHandle, l2DistHandle], ['Weighted L2 Distance', 'Normal L2 Distance (brg colors for 1st dim diff)'])"
     ],
     "language": "python",
     "metadata": {},
     "outputs": [
      {
       "metadata": {},
       "output_type": "pyout",
       "prompt_number": 41,
       "text": [
        "<matplotlib.legend.Legend at 0x7f9247a65e90>"
       ]
      }
     ],
     "prompt_number": 41
    },
    {
     "cell_type": "code",
     "collapsed": false,
     "input": [
      "print np.array(fittedWeights)"
     ],
     "language": "python",
     "metadata": {},
     "outputs": [
      {
       "output_type": "stream",
       "stream": "stdout",
       "text": [
        "[[[  3.51116019e-01]\n",
        "  [  6.50612416e-01]\n",
        "  [  5.06810605e-01]\n",
        "  [  8.60520556e-01]]\n",
        "\n",
        " [[  2.01972293e-01]\n",
        "  [  4.05914611e-01]\n",
        "  [  4.31706000e-01]\n",
        "  [  3.81429868e-01]]\n",
        "\n",
        " [[  1.11742089e-01]\n",
        "  [  3.05022226e-01]\n",
        "  [  4.56300265e-01]\n",
        "  [  3.83076751e-01]]\n",
        "\n",
        " [[  5.71748338e-02]\n",
        "  [  3.59400142e-01]\n",
        "  [  4.87272101e-01]\n",
        "  [  2.22844256e-01]]\n",
        "\n",
        " [[  2.07700178e-02]\n",
        "  [  5.22134669e-01]\n",
        "  [  4.67620609e-01]\n",
        "  [  2.00241503e-01]]\n",
        "\n",
        " [[  7.34309186e-03]\n",
        "  [  4.70209500e-01]\n",
        "  [  4.68964352e-01]\n",
        "  [  2.32635911e-01]]\n",
        "\n",
        " [[  2.39958005e-03]\n",
        "  [  4.75510550e-01]\n",
        "  [  4.57546808e-01]\n",
        "  [  2.54771782e-01]]\n",
        "\n",
        " [[  7.60242149e-04]\n",
        "  [  5.32588937e-01]\n",
        "  [  4.53678580e-01]\n",
        "  [  2.56171434e-01]]]\n"
       ]
      }
     ],
     "prompt_number": 35
    },
    {
     "cell_type": "code",
     "collapsed": false,
     "input": [
      "la = np.array([[[  5.75370303e-06],\n",
      "  [  1.98026170e-05],\n",
      "  [  6.08683678e-06],\n",
      "  [  4.13045091e-05]],\n",
      "\n",
      " [[  3.30627742e-06],\n",
      "  [  8.23000196e-06],\n",
      "  [  6.45439079e-06],\n",
      "  [  7.30920523e-06]],\n",
      "\n",
      " [[  1.73742169e-06],\n",
      "  [  5.67529264e-06],\n",
      "  [  6.91068515e-06],\n",
      "  [  6.85317573e-06]],\n",
      "\n",
      " [[  8.61059748e-07],\n",
      "  [  6.43230557e-06],\n",
      "  [  7.44591657e-06],\n",
      "  [  3.71514172e-06]],\n",
      "\n",
      " [[  3.15566188e-07],\n",
      "  [  8.39728250e-06],\n",
      "  [  7.16540943e-06],\n",
      "  [  3.17361636e-06]],\n",
      "\n",
      " [[  1.12285405e-07],\n",
      "  [  7.36157139e-06],\n",
      "  [  7.20373431e-06],\n",
      "  [  3.61047410e-06]],\n",
      "\n",
      " [[  3.68339760e-08],\n",
      "  [  7.35595027e-06],\n",
      "  [  7.03334438e-06],\n",
      "  [  3.92868692e-06]],\n",
      "\n",
      " [[  1.16844047e-08],\n",
      "  [  8.20602475e-06],\n",
      "  [  6.97588908e-06],\n",
      "  [  3.94293922e-06]]])\n",
      "bla = np.array([[[  3.51116019e-01],\n",
      "  [  6.50612416e-01],\n",
      "  [  5.06810605e-01],\n",
      "  [  8.60520556e-01]],\n",
      "\n",
      " [[  2.01972293e-01],\n",
      "  [  4.05914611e-01],\n",
      "  [  4.31706000e-01],\n",
      "  [  3.81429868e-01]],\n",
      "\n",
      " [[  1.11742089e-01],\n",
      "  [  3.05022226e-01],\n",
      "  [  4.56300265e-01],\n",
      "  [  3.83076751e-01]],\n",
      "\n",
      " [[  5.71748338e-02],\n",
      "  [  3.59400142e-01],\n",
      "  [  4.87272101e-01],\n",
      "  [  2.22844256e-01]],\n",
      "\n",
      " [[  2.07700178e-02],\n",
      "  [  5.22134669e-01],\n",
      "  [  4.67620609e-01],\n",
      "  [  2.00241503e-01]],\n",
      "\n",
      " [[  7.34309186e-03],\n",
      "  [  4.70209500e-01],\n",
      "  [  4.68964352e-01],\n",
      "  [  2.32635911e-01]],\n",
      "\n",
      " [[  2.39958005e-03],\n",
      "  [  4.75510550e-01],\n",
      "  [  4.57546808e-01],\n",
      "  [  2.54771782e-01]],\n",
      "\n",
      " [[  7.60242149e-04],\n",
      "  [  5.32588937e-01],\n",
      "  [  4.53678580e-01],\n",
      "  [  2.56171434e-01]]])\n",
      "\n",
      "print bla/la"
     ],
     "language": "python",
     "metadata": {},
     "outputs": [
      {
       "output_type": "stream",
       "stream": "stdout",
       "text": [
        "[[[ 61024.35547495]\n",
        "  [ 32854.87044465]\n",
        "  [ 83263.38019532]\n",
        "  [ 20833.57422108]]\n",
        "\n",
        " [[ 61087.52150629]\n",
        "  [ 49321.32616406]\n",
        "  [ 66885.63089004]\n",
        "  [ 52184.86223844]]\n",
        "\n",
        " [[ 64314.89237365]\n",
        "  [ 53745.63839231]\n",
        "  [ 66028.22369935]\n",
        "  [ 55897.69854041]]\n",
        "\n",
        " [[ 66400.54181234]\n",
        "  [ 55874.23328833]\n",
        "  [ 65441.52038491]\n",
        "  [ 59982.7066624 ]]\n",
        "\n",
        " [[ 65818.26123907]\n",
        "  [ 62179.00481495]\n",
        "  [ 65260.83590453]\n",
        "  [ 63095.68652463]]\n",
        "\n",
        " [[ 65396.67252391]\n",
        "  [ 63873.52306856]\n",
        "  [ 65100.17330164]\n",
        "  [ 64433.6185655 ]]\n",
        "\n",
        " [[ 65145.83302112]\n",
        "  [ 64642.98051868]\n",
        "  [ 65053.94635603]\n",
        "  [ 64849.09263271]]\n",
        "\n",
        " [[ 65064.68823354]\n",
        "  [ 64902.18506835]\n",
        "  [ 65035.23418982]\n",
        "  [ 64969.66341774]]]\n"
       ]
      }
     ],
     "prompt_number": 45
    },
    {
     "cell_type": "code",
     "collapsed": false,
     "input": [
      "print np.array(fittedWeights)"
     ],
     "language": "python",
     "metadata": {},
     "outputs": [
      {
       "output_type": "stream",
       "stream": "stdout",
       "text": [
        "[[[  5.75370303e-06]\n",
        "  [  1.98026170e-05]\n",
        "  [  6.08683678e-06]\n",
        "  [  4.13045091e-05]]\n",
        "\n",
        " [[  3.30627742e-06]\n",
        "  [  8.23000196e-06]\n",
        "  [  6.45439079e-06]\n",
        "  [  7.30920523e-06]]\n",
        "\n",
        " [[  1.73742169e-06]\n",
        "  [  5.67529264e-06]\n",
        "  [  6.91068515e-06]\n",
        "  [  6.85317573e-06]]\n",
        "\n",
        " [[  8.61059748e-07]\n",
        "  [  6.43230557e-06]\n",
        "  [  7.44591657e-06]\n",
        "  [  3.71514172e-06]]\n",
        "\n",
        " [[  3.15566188e-07]\n",
        "  [  8.39728250e-06]\n",
        "  [  7.16540943e-06]\n",
        "  [  3.17361636e-06]]\n",
        "\n",
        " [[  1.12285405e-07]\n",
        "  [  7.36157139e-06]\n",
        "  [  7.20373431e-06]\n",
        "  [  3.61047410e-06]]\n",
        "\n",
        " [[  3.68339760e-08]\n",
        "  [  7.35595027e-06]\n",
        "  [  7.03334438e-06]\n",
        "  [  3.92868692e-06]]\n",
        "\n",
        " [[  1.16844047e-08]\n",
        "  [  8.20602475e-06]\n",
        "  [  6.97588908e-06]\n",
        "  [  3.94293922e-06]]]\n"
       ]
      }
     ],
     "prompt_number": 40
    },
    {
     "cell_type": "code",
     "collapsed": false,
     "input": [
      "print goodExamplesToUse\n",
      "print np.sqrt(X.T)*255\n",
      "# print toyImages[:, 114], toyImages[:, 115]\n",
      "# print goodExamplesData.T\n",
      "# print ((toyImages[:, goodExamplesToUse[0, 0]]/255.0-toyImages[:, goodExamplesToUse[0, 1]]/255.0)**2).T\n",
      "# print toyImages[:, goodExamplesToUse[0, 0]], toyImages[:, goodExamplesToUse[0, 1]]\n",
      "# print 153/255.0, 128/255.0, 153/255.0- 128/255.0"
     ],
     "language": "python",
     "metadata": {},
     "outputs": [
      {
       "output_type": "stream",
       "stream": "stdout",
       "text": [
        "[[166 186]\n",
        " [ 17 197]\n",
        " [ 23  63]\n",
        " ..., \n",
        " [ 43  83]\n",
        " [ 81 121]\n",
        " [ 69 149]]\n",
        "[[   3.  192.   32.   21.    4.    6.]\n",
        " [   8.  147.   32.   30.    2.    4.]\n",
        " [   1.    7.   25.   24.    2.    6.]\n",
        " ..., \n",
        " [ 125.   76.  101.   94.  121.   72.]\n",
        " [ 132.  171.  105.  107.  132.  128.]\n",
        " [ 130.   62.  100.  106.  128.  130.]]\n"
       ]
      }
     ],
     "prompt_number": 257
    },
    {
     "cell_type": "code",
     "collapsed": false,
     "input": [
      "bob = -1\n",
      "# bob += 1\n",
      "gwv.showCustomGraph(regressedDistanceMats[bob])\n",
      "gca().text(.5,1.05,np.string_(np.array(numExamples)[bob, 0]) + \" training examples\",\n",
      "        horizontalalignment='center',\n",
      "        transform=gca().transAxes)"
     ],
     "language": "python",
     "metadata": {},
     "outputs": [
      {
       "metadata": {},
       "output_type": "pyout",
       "prompt_number": 25,
       "text": [
        "<matplotlib.text.Text at 0x7f924711f390>"
       ]
      }
     ],
     "prompt_number": 25
    },
    {
     "cell_type": "code",
     "collapsed": false,
     "input": [
      "gwv.showCustomGraph(vtu.filterDistanceMatrix(toyL2DistMat, 4, True))\n",
      "gwv.showCustomGraph(vtu.filterDistanceMatrix(regressedDistanceMats[1], 4, True))"
     ],
     "language": "python",
     "metadata": {},
     "outputs": [],
     "prompt_number": 234
    },
    {
     "cell_type": "code",
     "collapsed": false,
     "input": [
      "id1 = 9\n",
      "id2 = 1\n",
      "im1 = np.concatenate((toyImages[:, id1], [toyImages[0, id1]], [255.0-toyImages[0, id1]]))\n",
      "im2 = np.concatenate((toyImages[:, id2], [255.0-toyImages[0, id2]], [toyImages[0, id2]]))\n",
      "print im1, im2\n",
      "print allPairsIdxs\n",
      "print allPairs[:, 1]\n",
      "print (im1/255.0-im2/255.0)**2\n",
      "print np.sqrt(np.sum((im1/255.0-im2/255.0)**2)), np.sqrt(np.sum((im2/255.0-im1/255.0)**2))"
     ],
     "language": "python",
     "metadata": {},
     "outputs": [
      {
       "output_type": "stream",
       "stream": "stdout",
       "text": [
        "[ 253.  229.  253.    2.] [ 249.   16.    6.  249.]\n",
        "[[  0   1]\n",
        " [  0   2]\n",
        " [  0   3]\n",
        " ..., \n",
        " [147 148]\n",
        " [147 149]\n",
        " [148 149]]\n",
        "[  7.53556324e-04   1.05943868e-01   1.83117263e+00]\n",
        "[  2.46059208e-04   6.97716263e-01   9.38239139e-01   9.38239139e-01]\n",
        "1.60450634146 1.60450634146\n"
       ]
      }
     ],
     "prompt_number": 59
    },
    {
     "cell_type": "code",
     "collapsed": false,
     "input": [
      "la = np.zeros_like(regressedDistanceMats[0])\n",
      "la[allPairsIdxs[:, 0], allPairsIdxs[:, 1]] = np.sqrt(np.dot(allPairs.T, sio.loadmat(phiSaveLoc)['phi_MAP']))[:, 0]\n",
      "la2 = np.copy(allPairs)\n",
      "la2[-1, :] = ((255-toyImages[0, allPairsIdxs[:, 1]])/255.0-toyImages[0, allPairsIdxs[:, 0]]/255.0)**2\n",
      "la[allPairsIdxs[:, 1], allPairsIdxs[:, 0]] = np.sqrt(np.dot(la2.T, sio.loadmat(phiSaveLoc)['phi_MAP']))[:, 0]\n",
      "gwv.showCustomGraph(la)"
     ],
     "language": "python",
     "metadata": {},
     "outputs": [],
     "prompt_number": 455
    },
    {
     "cell_type": "code",
     "collapsed": false,
     "input": [
      "gwv.showCustomGraph(la-regressedDistanceMats[bob])"
     ],
     "language": "python",
     "metadata": {},
     "outputs": [],
     "prompt_number": 457
    }
   ],
   "metadata": {}
  }
 ]
}