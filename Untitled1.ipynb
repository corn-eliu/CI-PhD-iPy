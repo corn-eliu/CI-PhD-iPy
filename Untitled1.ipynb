{
 "metadata": {
  "name": "",
  "signature": "sha256:00f22d7f49ed7e46f9253d1ecfa94455255d4059fa72d64841f20143606840c8"
 },
 "nbformat": 3,
 "nbformat_minor": 0,
 "worksheets": [
  {
   "cells": [
    {
     "cell_type": "code",
     "collapsed": false,
     "input": [
      "#!/usr/bin/python\n",
      "#! -*- encoding: utf-8 -*-\n",
      "\n",
      "# Python script to launch OpenMVG SfM tools on an image dataset\n",
      "#\n",
      "# usage : python tutorial_demo.py \n",
      "# \n",
      "\n",
      "# Indicate the openMVG binary directory\n",
      "OPENMVG_SFM_BIN = \"/home/ilisescu/openMVG/openMVG_build/Linux-x86_64-RELEASE\"\n",
      "\n",
      "# Indicate the openMVG camera sensor width directory\n",
      "CAMERA_SENSOR_WIDTH_DIRECTORY = \"/home/ilisescu/openMVG/openMVG/src/software/SfM\" + \"/../../openMVG/exif/sensor_width_database\"\n",
      "\n",
      "import commands\n",
      "import os\n",
      "import subprocess\n",
      "import sys\n",
      "\n",
      "def get_parent_dir(directory):\n",
      "    import os\n",
      "    return os.path.dirname(directory)\n",
      "\n",
      "input_eval_dir = \"/media/ilisescu/Data2/PhD/raw videos/park/gopro_subset/\"\n",
      "# # Checkout an OpenMVG image dataset with Git\n",
      "# if not os.path.exists(input_eval_dir):\n",
      "#   pImageDataCheckout = subprocess.Popen([ \"git\", \"clone\", \"https://github.com/openMVG/ImageDataset_SceauxCastle.git\" ])\n",
      "#   pImageDataCheckout.wait()\n",
      "\n",
      "output_eval_dir = os.path.join(get_parent_dir(input_eval_dir), \"tutorial_out\")\n",
      "input_eval_dir = os.path.join(input_eval_dir, \"images\")\n",
      "if not os.path.exists(output_eval_dir):\n",
      "  os.mkdir(output_eval_dir)\n",
      "\n",
      "input_dir = input_eval_dir\n",
      "output_dir = output_eval_dir\n",
      "print (\"Using input dir  : \", input_dir)\n",
      "print (\"      output_dir : \", output_dir)\n",
      "    \n",
      "matches_dir = os.path.join(output_dir, \"matches\")\n",
      "camera_file_params = os.path.join(CAMERA_SENSOR_WIDTH_DIRECTORY, \"sensor_width_camera_database.txt\")\n",
      "\n",
      "# Create the ouput/matches folder if not present\n",
      "if not os.path.exists(matches_dir):\n",
      "  os.mkdir(matches_dir)\n",
      "\n",
      "print (\"1. Intrinsics analysis\") \n",
      "pIntrisics = subprocess.Popen( [os.path.join(OPENMVG_SFM_BIN, \"openMVG_main_SfMInit_ImageListing\"),  \"-i\", input_dir, \"-o\", matches_dir, \"-d\", camera_file_params, \"-c\", \"3\"] )\n",
      "pIntrisics.wait()\n",
      "\n",
      "print (\"2. Compute features\")\n",
      "pFeatures = subprocess.Popen( [os.path.join(OPENMVG_SFM_BIN, \"openMVG_main_ComputeFeatures\"),  \"-i\", matches_dir+\"/sfm_data.json\", \"-o\", matches_dir, \"-m\", \"SIFT\", \"-f\" , \"1\"] )\n",
      "pFeatures.wait()\n",
      "\n",
      "print (\"2. Compute matches\")\n",
      "pMatches = subprocess.Popen( [os.path.join(OPENMVG_SFM_BIN, \"openMVG_main_ComputeMatches\"),  \"-i\", matches_dir+\"/sfm_data.json\", \"-o\", matches_dir, \"-f\", \"1\"] )\n",
      "pMatches.wait()\n",
      "\n",
      "reconstruction_dir = os.path.join(output_dir,\"reconstruction_sequential\")\n",
      "print (\"3. Do Incremental/Sequential reconstruction\") #set manually the initial pair to avoid the prompt question\n",
      "# pRecons = subprocess.Popen( [os.path.join(OPENMVG_SFM_BIN, \"openMVG_main_IncrementalSfM\"),  \"-i\", matches_dir+\"/sfm_data.json\", \"-m\", matches_dir, \"-o\", reconstruction_dir, \"-a\", \"100_7104.JPG\", \"-b\", \"100_7105.JPG\"] )\n",
      "pRecons = subprocess.Popen( [os.path.join(OPENMVG_SFM_BIN, \"openMVG_main_IncrementalSfM\"),  \"-i\", matches_dir+\"/sfm_data.json\", \"-m\", matches_dir, \"-o\", reconstruction_dir, \"-a\", \"frame-03700.png\", \"-b\", \"frame-03800.png\"] )\n",
      "pRecons.wait()\n",
      "\n",
      "print (\"5. Colorize Structure\")\n",
      "pRecons = subprocess.Popen( [os.path.join(OPENMVG_SFM_BIN, \"openMVG_main_ComputeSfM_DataColor\"),  \"-i\", reconstruction_dir+\"/sfm_data.json\", \"-o\", os.path.join(reconstruction_dir,\"colorized.ply\")] )\n",
      "pRecons.wait()\n",
      "\n",
      "print (\"4. Structure from Known Poses (robust triangulation)\")\n",
      "pRecons = subprocess.Popen( [os.path.join(OPENMVG_SFM_BIN, \"openMVG_main_ComputeStructureFromKnownPoses\"),  \"-i\", reconstruction_dir+\"/sfm_data.json\", \"-m\", matches_dir, \"-o\", os.path.join(reconstruction_dir,\"robust.ply\")] )\n",
      "pRecons.wait()\n",
      "\n",
      "# Reconstruction for the global SfM pipeline\n",
      "# - global SfM pipeline use matches filtered by the essential matrices\n",
      "# - here we reuse photometric matches and perform only the essential matrix filering\n",
      "print (\"2. Compute matches (for the global SfM Pipeline)\")\n",
      "pMatches = subprocess.Popen( [os.path.join(OPENMVG_SFM_BIN, \"openMVG_main_ComputeMatches\"),  \"-i\", matches_dir+\"/sfm_data.json\", \"-o\", matches_dir, \"-r\", \"0.8\", \"-g\", \"e\"] )\n",
      "pMatches.wait()\n",
      "\n",
      "reconstruction_dir = os.path.join(output_dir,\"reconstruction_global\")\n",
      "print (\"3. Do Global reconstruction\")\n",
      "pRecons = subprocess.Popen( [os.path.join(OPENMVG_SFM_BIN, \"openMVG_main_GlobalSfM\"),  \"-i\", matches_dir+\"/sfm_data.json\", \"-m\", matches_dir, \"-o\", reconstruction_dir] )\n",
      "pRecons.wait()\n",
      "\n",
      "print (\"5. Colorize Structure\")\n",
      "pRecons = subprocess.Popen( [os.path.join(OPENMVG_SFM_BIN, \"openMVG_main_ComputeSfM_DataColor\"),  \"-i\", reconstruction_dir+\"/sfm_data.json\", \"-o\", os.path.join(reconstruction_dir,\"colorized.ply\")] )\n",
      "pRecons.wait()\n",
      "\n",
      "print (\"4. Structure from Known Poses (robust triangulation)\")\n",
      "pRecons = subprocess.Popen( [os.path.join(OPENMVG_SFM_BIN, \"openMVG_main_ComputeStructureFromKnownPoses\"),  \"-i\", reconstruction_dir+\"/sfm_data.json\", \"-m\", matches_dir, \"-o\", os.path.join(reconstruction_dir,\"robust.ply\")] )\n",
      "pRecons.wait()\n",
      "\n"
     ],
     "language": "python",
     "metadata": {},
     "outputs": [
      {
       "output_type": "stream",
       "stream": "stdout",
       "text": [
        "('Using input dir  : ', '/media/ilisescu/Data2/PhD/raw videos/park/gopro_subset/images')\n",
        "('      output_dir : ', '/media/ilisescu/Data2/PhD/raw videos/park/gopro_subset/tutorial_out')\n",
        "1. Intrinsics analysis\n",
        "2. Compute features"
       ]
      },
      {
       "output_type": "stream",
       "stream": "stdout",
       "text": [
        "\n",
        "2. Compute matches"
       ]
      },
      {
       "output_type": "stream",
       "stream": "stdout",
       "text": [
        "\n",
        "3. Do Incremental/Sequential reconstruction"
       ]
      },
      {
       "output_type": "stream",
       "stream": "stdout",
       "text": [
        "\n",
        "5. Colorize Structure"
       ]
      },
      {
       "output_type": "stream",
       "stream": "stdout",
       "text": [
        "\n",
        "4. Structure from Known Poses (robust triangulation)\n",
        "2. Compute matches (for the global SfM Pipeline)\n",
        "3. Do Global reconstruction"
       ]
      },
      {
       "output_type": "stream",
       "stream": "stdout",
       "text": [
        "\n",
        "5. Colorize Structure"
       ]
      },
      {
       "output_type": "stream",
       "stream": "stdout",
       "text": [
        "\n",
        "4. Structure from Known Poses (robust triangulation)\n"
       ]
      },
      {
       "metadata": {},
       "output_type": "pyout",
       "prompt_number": 2,
       "text": [
        "1"
       ]
      }
     ],
     "prompt_number": 2
    }
   ],
   "metadata": {}
  }
 ]
}