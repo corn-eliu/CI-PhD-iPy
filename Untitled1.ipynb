{
 "metadata": {
  "name": ""
 },
 "nbformat": 3,
 "nbformat_minor": 0,
 "worksheets": [
  {
   "cells": [
    {
     "cell_type": "code",
     "collapsed": false,
     "input": [
      "%pylab\n",
      "\n",
      "from PIL import Image\n",
      "\n",
      "import numpy as np\n",
      "\n",
      "import scipy as sp\n",
      "import scipy.io as sio\n",
      "import cv2\n",
      "import cv\n",
      "import glob\n",
      "import time\n",
      "import gc\n",
      "import re\n",
      "\n",
      "import sys\n",
      "import os\n",
      "\n",
      "dataFolder = \"/home/ilisescu/PhD/data/\""
     ],
     "language": "python",
     "metadata": {},
     "outputs": [
      {
       "output_type": "stream",
       "stream": "stdout",
       "text": [
        "Using matplotlib backend: TkAgg\n",
        "Populating the interactive namespace from numpy and matplotlib\n"
       ]
      }
     ],
     "prompt_number": 1
    },
    {
     "cell_type": "code",
     "collapsed": false,
     "input": [
      "basePath = \"/media/ilisescu/Data1/PhD/data/havana/\"\n",
      "bgImage = np.array(Image.open(basePath+\"median.png\"))\n",
      "for i in np.arange(800, 800+476) :\n",
      "    currentFrame = np.array(Image.open(basePath+\"bus1/bus1-frame-{0:05d}.png\".format(i)))\n",
      "    spriteLoc = np.argwhere(currentFrame[:, :, -1] != 0)\n",
      "    alphas = currentFrame[spriteLoc[:, 0], spriteLoc[:, 1], -1].reshape((len(spriteLoc), 1)).repeat(3, axis=-1)\n",
      "    \n",
      "    finalFrame = np.copy(bgImage)\n",
      "    finalFrame[spriteLoc[:, 0], spriteLoc[:, 1], :] = (currentFrame[spriteLoc[:, 0], spriteLoc[:, 1], 0:-1]*(alphas/255.0) + \n",
      "                                                       bgImage[spriteLoc[:, 0], spriteLoc[:, 1], :]*((255-alphas)/255.0))\n",
      "\n",
      "    \n",
      "    Image.fromarray((finalFrame).astype(numpy.uint8)).save(basePath+\"bus1OnMedian/bus1-frame-{0:05d}.png\".format(i))"
     ],
     "language": "python",
     "metadata": {},
     "outputs": [],
     "prompt_number": 3
    },
    {
     "cell_type": "code",
     "collapsed": false,
     "input": [
      "img = np.array(Image.open(dataFolder+\"testImage.png\"))\n",
      "figure(); imshow(img)"
     ],
     "language": "python",
     "metadata": {},
     "outputs": [
      {
       "metadata": {},
       "output_type": "pyout",
       "prompt_number": 204,
       "text": [
        "<matplotlib.image.AxesImage at 0x7fce4b249850>"
       ]
      }
     ],
     "prompt_number": 204
    },
    {
     "cell_type": "code",
     "collapsed": false,
     "input": [
      "square = np.vstack((np.array([[-0.5, -0.5, 0.0], [-0.5, 0.5, 0.0], [0.5, 0.5, 0.0], [0.5, -0.5, 0.0], [-0.5, -0.5, 0.0]]).T, ones(5)))\n",
      "print square\n",
      "intrinsics = np.array([[640.0, 0.0, 320.0, 0.0], [0.0, 360.0, 180.0, 0.0], [0.0, 0.0, 1.0, 0.0]])\n",
      "extrinsics = np.array([[1.0, 0.0, 0.0, 0.0], [0.0, 1.0, 0.0, 0.0], [0.0, 0.0, 1.0, 4.0], [0.0, 0.0, 0.0, 1.0]])\n",
      "\n",
      "\n",
      "theta = 10.0*(np.pi/180.0)\n",
      "R = np.array([[np.cos(theta), 0.0, np.sin(theta), 0.], [0.0, 1.0, 0.0, 0.0], [-np.sin(theta), 0.0, np.cos(theta), 0.0], [0.0, 0.0, 0.0, 1.0]])\n",
      "\n",
      "squareImg = np.dot(np.dot(intrinsics, extrinsics), np.dot(R, square))\n",
      "squareImg = squareImg/squareImg[-1, :]\n",
      "print squareImg[0:2, :]\n",
      "\n",
      "figure(); \n",
      "xlim(0, 640); ylim(0, 360)\n",
      "plot(squareImg[0, :], squareImg[1, :])"
     ],
     "language": "python",
     "metadata": {},
     "outputs": [
      {
       "output_type": "stream",
       "stream": "stdout",
       "text": [
        "[[-0.5 -0.5  0.5  0.5 -0.5]\n",
        " [-0.5  0.5  0.5 -0.5 -0.5]\n",
        " [ 0.   0.   0.   0.   0. ]\n",
        " [ 1.   1.   1.   1.   1. ]]\n",
        "[[ 242.88914959  242.88914959  400.53266404  400.53266404  242.88914959]\n",
        " [ 135.95601962  224.04398038  225.99844323  134.00155677  135.95601962]]\n"
       ]
      },
      {
       "metadata": {},
       "output_type": "pyout",
       "prompt_number": 356,
       "text": [
        "[<matplotlib.lines.Line2D at 0x7fce452f0410>]"
       ]
      }
     ],
     "prompt_number": 356
    },
    {
     "cell_type": "code",
     "collapsed": false,
     "input": [
      "origSquare = np.copy(squareImg)"
     ],
     "language": "python",
     "metadata": {},
     "outputs": [],
     "prompt_number": 344
    },
    {
     "cell_type": "code",
     "collapsed": false,
     "input": [
      "H = cv2.findHomography(squareImg[0:2, 0:-1].T, origSquare[0:2, 0:-1].T)[0]\n",
      "xs = np.ndarray.flatten(np.arange(img.shape[1], dtype=float).reshape((img.shape[1], 1)).repeat(img.shape[0], axis=-1))\n",
      "ys = np.ndarray.flatten(np.arange(img.shape[0], dtype=float).reshape((1, img.shape[0])).repeat(img.shape[1], axis=0))\n",
      "data = np.array(np.vstack((xs.reshape((1, len(xs))), ys.reshape((1, len(ys))), np.ones(len(ys)))), dtype=int)\n",
      "imgWarped = np.zeros(img.shape, dtype=np.uint8)\n",
      "\n",
      "warpedCoords = np.dot(H, data)\n",
      "warpedCoords /= warpedCoords[-1, :]\n",
      "\n",
      "for warpedCoord, coord in zip(np.array(warpedCoords.T, dtype=int), data.T) :\n",
      "    if warpedCoord[0] < img.shape[1] and warpedCoord[0] > 0 and warpedCoord[1] < img.shape[0] and warpedCoord[1] > 0 :\n",
      "        imgWarped[coord[1], coord[0], :] = img[warpedCoord[1], warpedCoord[0], :]\n",
      "        \n",
      "figure(); imshow(imgWarped)\n",
      "figure(); imshow(img)"
     ],
     "language": "python",
     "metadata": {},
     "outputs": [
      {
       "metadata": {},
       "output_type": "pyout",
       "prompt_number": 358,
       "text": [
        "<matplotlib.image.AxesImage at 0x7fce45fab290>"
       ]
      }
     ],
     "prompt_number": 358
    },
    {
     "cell_type": "code",
     "collapsed": false,
     "input": [
      "square = np.vstack((np.array([[-0.5, -0.5, 0.0], [-0.5, 0.5, 0.0], [0.5, 0.5, 0.0], [0.5, -0.5, 0.0], [-0.5, -0.5, 0.0]]).T, ones(5)))\n",
      "print square\n",
      "intrinsics = np.eye(3, 4)#np.array([[640.0, 0.0, 320.0, 0.0], [0.0, 360.0, 180.0, 0.0], [0.0, 0.0, 1.0, 0.0]])\n",
      "extrinsics = np.array([[1.0, 0.0, 0.0, 0.0], [0.0, 1.0, 0.0, 0.0], [0.0, 0.0, 1.0, 2.0], [0.0, 0.0, 0.0, 1.0]])\n",
      "print intrinsics\n",
      "print extrinsics\n",
      "print np.dot(intrinsics, extrinsics)\n",
      "\n",
      "# square = np.dot(np.dot(intrinsics, extrinsics), square)\n",
      "# square = square/square[-1, :]\n",
      "print square\n",
      "\n",
      "theta = 10.0*(np.pi/180.0)\n",
      "R = np.array([[np.cos(theta), 0.0, np.sin(theta)], [0.0, 1.0, 0.0], [-np.sin(theta), 0.0, np.cos(theta)]])\n",
      "t = np.array([0.0, 0.0, 0.0])\n",
      "n = np.array([0.0, 0.0, 1.0])\n",
      "d = 2.0\n",
      "\n",
      "# H = R-np.dot(t, n.T)/d\n",
      "# H = np.dot(np.dot(R, np.eye(3)-np.dot(extrinsics[0:3, -1]-t, n.T)/d), extrinsics[0:3, 0:3].T)\n",
      "print H\n",
      "# print np.dot(t, n.T)/d\n",
      "\n",
      "H = np.hstack((np.vstack((R, np.zeros((1, 3)))), np.array([[0.0], [0], [0], [1]])))\n",
      "extrinsicsCam2 = np.dot(H, extrinsics)\n",
      "print H\n",
      "print extrinsicsCam2\n",
      "\n",
      "# square = np.dot(np.dot(np.dot(intrinsics[:, 0:-1], H), np.linalg.inv(intrinsics[:, 0:-1])), square)\n",
      "# square = np.dot(np.linalg.inv(intrinsics[:, 0:-1]), square)\n",
      "# square =  np.dot(np.dot(intrinsics, np.dot(extrinsics, H)), square)\n",
      "\n",
      "# cam2 = np.dot(np.dot(np.dot(intrinsics, extrinsicsCam2), \n",
      "#                      np.hstack((np.linalg.inv(intrinsics[:, 0:-1]), np.zeros((3, 1))))), \n",
      "#               np.linalg.inv(extrinsicsCam2))\n",
      "print cam2.shape\n",
      "# square = np.dot(np.dot(intrinsics[:, 0:3], np.dot(np.linalg.inv(extrinsics), extrinsicsCam2)[0:3, :]), square)\n",
      "# square = np.dot(np.dot(intrinsics, extrinsicsCam2), square)\n",
      "\n",
      "square = square/square[-1, :]\n",
      "print square[0:2, :]\n",
      "\n",
      "figure(); \n",
      "xlim(0, 640); ylim(0, 360)\n",
      "plot(square[0, :], square[1, :], )"
     ],
     "language": "python",
     "metadata": {},
     "outputs": [
      {
       "output_type": "stream",
       "stream": "stdout",
       "text": [
        "[[-0.5 -0.5  0.5  0.5 -0.5]\n",
        " [-0.5  0.5  0.5 -0.5 -0.5]\n",
        " [ 0.   0.   0.   0.   0. ]\n",
        " [ 1.   1.   1.   1.   1. ]]\n",
        "[[ 1.  0.  0.  0.]\n",
        " [ 0.  1.  0.  0.]\n",
        " [ 0.  0.  1.  0.]]\n",
        "[[ 1.  0.  0.  0.]\n",
        " [ 0.  1.  0.  0.]\n",
        " [ 0.  0.  1.  2.]\n",
        " [ 0.  0.  0.  1.]]\n",
        "[[ 1.  0.  0.  0.]\n",
        " [ 0.  1.  0.  0.]\n",
        " [ 0.  0.  1.  2.]]\n",
        "[[-0.5 -0.5  0.5  0.5 -0.5]\n",
        " [-0.5  0.5  0.5 -0.5 -0.5]\n",
        " [ 0.   0.   0.   0.   0. ]\n",
        " [ 1.   1.   1.   1.   1. ]]\n",
        "[[ 0.98480775  0.          0.17364818  0.        ]\n",
        " [ 0.          1.          0.          0.        ]\n",
        " [-0.17364818  0.          0.98480775  0.        ]\n",
        " [ 0.          0.          0.          1.        ]]\n",
        "[[ 0.98480775  0.          0.17364818  0.        ]\n",
        " [ 0.          1.          0.          0.        ]\n",
        " [-0.17364818  0.          0.98480775  0.        ]\n",
        " [ 0.          0.          0.          1.        ]]\n",
        "[[ 0.98480775  0.          0.17364818  0.34729636]\n",
        " [ 0.          1.          0.          0.        ]\n",
        " [-0.17364818  0.          0.98480775  1.96961551]\n",
        " [ 0.          0.          0.          1.        ]]\n",
        "(3, 4)\n",
        "[[-0.5 -0.5  0.5  0.5 -0.5]\n",
        " [-0.5  0.5  0.5 -0.5 -0.5]]\n"
       ]
      },
      {
       "metadata": {},
       "output_type": "pyout",
       "prompt_number": 254,
       "text": [
        "[<matplotlib.lines.Line2D at 0x7fce4a73f150>]"
       ]
      }
     ],
     "prompt_number": 254
    },
    {
     "cell_type": "code",
     "collapsed": false,
     "input": [
      "xs = np.ndarray.flatten(np.arange(img.shape[1], dtype=float).reshape((img.shape[1], 1)).repeat(img.shape[0], axis=-1))\n",
      "ys = np.ndarray.flatten(np.arange(img.shape[0], dtype=float).reshape((1, img.shape[0])).repeat(img.shape[1], axis=0))\n",
      "data = np.array(np.vstack((xs.reshape((1, len(xs))), ys.reshape((1, len(ys))), np.ones(len(ys)))), dtype=int)\n",
      "imgWarped = np.zeros(img.shape, dtype=np.uint8)\n",
      "\n",
      "\n",
      "theta = 45.0*(np.pi/180.0)\n",
      "R = np.array([[np.cos(theta), 0.0, np.sin(theta)], [0.0, 1.0, 0.0], [-np.sin(theta), 0.0, np.cos(theta)]])\n",
      "originT = (np.array([[img.shape[1]], [img.shape[0]], [0]])/2).repeat(data.shape[-1], axis=-1)\n",
      "\n",
      "warpedCoords = np.dot(R, data-originT)+originT\n",
      "warpedCoords /= warpedCoords[-1, :]\n",
      "\n",
      "for warpedCoord, coord in zip(np.array(warpedCoords.T, dtype=int), data.T) :\n",
      "    if warpedCoord[0] < img.shape[1] and warpedCoord[0] > 0 and warpedCoord[1] < img.shape[0] and warpedCoord[1] > 0 :\n",
      "        imgWarped[coord[1], coord[0], :] = img[warpedCoord[1], warpedCoord[0], :]\n",
      "        \n",
      "figure(); imshow(imgWarped)\n",
      "figure(); imshow(img)"
     ],
     "language": "python",
     "metadata": {},
     "outputs": [
      {
       "metadata": {},
       "output_type": "pyout",
       "prompt_number": 251,
       "text": [
        "<matplotlib.image.AxesImage at 0x7fce49364410>"
       ]
      }
     ],
     "prompt_number": 251
    },
    {
     "cell_type": "code",
     "collapsed": false,
     "input": [
      "print warpedCoords\n",
      "print data"
     ],
     "language": "python",
     "metadata": {},
     "outputs": [
      {
       "output_type": "stream",
       "stream": "stdout",
       "text": [
        "[[ 1.00626959  1.00626959  1.00626959 ...,  0.99375     0.99375     0.99375   ]\n",
        " [ 0.79798884  0.79355557  0.7891223  ...,  0.78223688  0.78665629\n",
        "   0.79107571]\n",
        " [ 1.          1.          1.         ...,  1.          1.          1.        ]]\n",
        "[[  0   0   0 ..., 639 639 639]\n",
        " [  0   1   2 ..., 357 358 359]\n",
        " [  1   1   1 ...,   1   1   1]]\n"
       ]
      }
     ],
     "prompt_number": 247
    },
    {
     "cell_type": "code",
     "collapsed": false,
     "input": [
      "print np.max(warpedCoords[0, :]), np.min(warpedCoords[0, :]), np.max(warpedCoords[1, :]), np.min(warpedCoords[1, :])\n",
      "print R\n",
      "print np.linalg.inv(R)"
     ],
     "language": "python",
     "metadata": {},
     "outputs": [
      {
       "output_type": "stream",
       "stream": "stdout",
       "text": [
        "629 0 359 0\n",
        "[[ 0.98480775  0.          0.17364818]\n",
        " [ 0.          1.          0.        ]\n",
        " [-0.17364818  0.          0.98480775]]\n",
        "[[ 0.98480775  0.         -0.17364818]\n",
        " [ 0.          1.          0.        ]\n",
        " [ 0.17364818  0.          0.98480775]]\n"
       ]
      }
     ],
     "prompt_number": 226
    },
    {
     "cell_type": "code",
     "collapsed": false,
     "input": [
      "print np.dot(intrinsics, extrinsicsCam2)\n",
      "print np.hstack((np.linalg.inv(intrinsics[:, 0:-1]), np.zeros((3, 1))))"
     ],
     "language": "python",
     "metadata": {},
     "outputs": [
      {
       "output_type": "stream",
       "stream": "stdout",
       "text": [
        "[[  3.94256258e+02   0.00000000e+00   5.97128129e+02   1.28000000e+03]\n",
        " [ -9.00000000e+01   3.60000000e+02   1.55884573e+02   7.20000000e+02]\n",
        " [ -5.00000000e-01   0.00000000e+00   8.66025404e-01   4.00000000e+00]]\n",
        "[[ 0.0015625   0.         -0.5         0.        ]\n",
        " [ 0.          0.00277778 -0.5         0.        ]\n",
        " [ 0.          0.          1.          0.        ]]\n"
       ]
      }
     ],
     "prompt_number": 141
    },
    {
     "cell_type": "code",
     "collapsed": false,
     "input": [
      "print np.dot(extrinsicsCam2, np.linalg.inv(extrinsics))\n",
      "print extrinsics\n",
      "print extrinsicsCam2"
     ],
     "language": "python",
     "metadata": {},
     "outputs": [
      {
       "output_type": "stream",
       "stream": "stdout",
       "text": [
        "[[ 0.8660254   0.          0.5        -2.        ]\n",
        " [ 0.          1.          0.          0.        ]\n",
        " [-0.5         0.          0.8660254   0.53589838]\n",
        " [ 0.          0.          0.          1.        ]]\n",
        "[[ 1.  0.  0.  0.]\n",
        " [ 0.  1.  0.  0.]\n",
        " [ 0.  0.  1.  4.]\n",
        " [ 0.  0.  0.  1.]]\n",
        "[[ 0.8660254  0.         0.5        0.       ]\n",
        " [ 0.         1.         0.         0.       ]\n",
        " [-0.5        0.         0.8660254  4.       ]\n",
        " [ 0.         0.         0.         1.       ]]\n"
       ]
      }
     ],
     "prompt_number": 110
    },
    {
     "cell_type": "code",
     "collapsed": false,
     "input": [
      "print np.dot(extrinsics[0:3, -1]-t, n.T)/d"
     ],
     "language": "python",
     "metadata": {},
     "outputs": [
      {
       "output_type": "stream",
       "stream": "stdout",
       "text": [
        "1.0\n"
       ]
      }
     ],
     "prompt_number": 77
    },
    {
     "cell_type": "code",
     "collapsed": false,
     "input": [
      "print np.dot(extrinsics, H).shape\n",
      "print extrinsics.shape"
     ],
     "language": "python",
     "metadata": {},
     "outputs": [
      {
       "output_type": "stream",
       "stream": "stdout",
       "text": [
        "(4, 4)\n",
        "(4, 4)\n"
       ]
      }
     ],
     "prompt_number": 56
    },
    {
     "cell_type": "code",
     "collapsed": false,
     "input": [
      "print np.dot(t, n.T)/d"
     ],
     "language": "python",
     "metadata": {},
     "outputs": [
      {
       "output_type": "stream",
       "stream": "stdout",
       "text": [
        "0.0\n"
       ]
      }
     ],
     "prompt_number": 22
    },
    {
     "cell_type": "code",
     "collapsed": false,
     "input": [
      "import sift"
     ],
     "language": "python",
     "metadata": {},
     "outputs": [],
     "prompt_number": 2
    },
    {
     "cell_type": "code",
     "collapsed": false,
     "input": [
      "sift.process_image(dataFolder + '/mopeds/frame-00001.png', 'tmp.key')\n",
      "l1,d1 = sift.read_features_from_file('tmp.key')\n",
      "im = array(Image.open(dataFolder + '/mopeds/frame-00001.png'))\n",
      "sift.plot_features(im,l1)"
     ],
     "language": "python",
     "metadata": {},
     "outputs": [
      {
       "output_type": "stream",
       "stream": "stdout",
       "text": [
        "processed tmp.pgm\n"
       ]
      }
     ],
     "prompt_number": 9
    },
    {
     "cell_type": "code",
     "collapsed": false,
     "input": [
      "f = loadtxt('tmp2.key')\n",
      "l = f[:,:4]\n",
      "d = f[:,4:]"
     ],
     "language": "python",
     "metadata": {},
     "outputs": [],
     "prompt_number": 11
    },
    {
     "cell_type": "code",
     "collapsed": false,
     "input": [
      "def draw_circle(c,r):\n",
      "    t = arange(0,1.01,.01)*2*pi\n",
      "    x = r*cos(t) + c[0]\n",
      "    y = r*sin(t) + c[1]\n",
      "    plot(x,y,'b',linewidth=2)\n",
      "\n",
      "figure(); imshow(im)\n",
      "if False:\n",
      "    [draw_circle([p[0],p[1]],p[2]) for p in l]\n",
      "else:\n",
      "    plot(l[:,0],l[:,1],'ob')\n",
      "axis('off')"
     ],
     "language": "python",
     "metadata": {},
     "outputs": [
      {
       "metadata": {},
       "output_type": "pyout",
       "prompt_number": 12,
       "text": [
        "(-100.0, 500.0, 400.0, -50.0)"
       ]
      }
     ],
     "prompt_number": 12
    },
    {
     "cell_type": "code",
     "collapsed": false,
     "input": [
      "gray = cv2.cvtColor(im,cv2.COLOR_BGR2GRAY)\n",
      "gray = np.float32(gray)\n",
      "\n",
      "dst = cv2.cornerHarris(gray,2,3,0.04)\n",
      "# dst = cv2.dilate(dst,None)\n",
      "# Threshold for an optimal value, it may vary depending on the image.\n",
      "corners  = np.zeros(gray.shape)\n",
      "corners[dst>0.01*dst.max()]=255"
     ],
     "language": "python",
     "metadata": {},
     "outputs": [],
     "prompt_number": 47
    },
    {
     "cell_type": "code",
     "collapsed": false,
     "input": [
      "figure(); imshow(im)\n",
      "scatter(np.argwhere(corners == 255)[:, 1], np.argwhere(corners == 255)[:, 0])"
     ],
     "language": "python",
     "metadata": {},
     "outputs": [
      {
       "metadata": {},
       "output_type": "pyout",
       "prompt_number": 48,
       "text": [
        "<matplotlib.collections.PathCollection at 0x7fa5f83eb550>"
       ]
      }
     ],
     "prompt_number": 48
    },
    {
     "cell_type": "code",
     "collapsed": false,
     "input": [
      "## read frames from sequence of images\n",
      "# sampleData = \"pendulum/\"\n",
      "sampleData = \"ribbon2/\"\n",
      "# sampleData = \"ribbon1_matted/\"\n",
      "# sampleData = \"little_palm1_cropped/\"\n",
      "# sampleData = \"ballAnimation/\"\n",
      "outputData = dataFolder+sampleData\n",
      "\n",
      "## Find pngs in sample data\n",
      "frames = glob.glob(dataFolder + sampleData + \"frame-*.png\")\n",
      "mattes = glob.glob(dataFolder + sampleData + \"matte-*.png\")\n",
      "frames = np.sort(frames)\n",
      "mattes = np.sort(mattes)#[0:len(frames)-10]\n",
      "numFrames = len(frames)\n",
      "frameSize = cv2.imread(frames[0]).shape\n",
      "print numFrames, len(mattes)\n",
      "\n",
      "lowThresh = 96\n",
      "highThresh = lowThresh*2"
     ],
     "language": "python",
     "metadata": {},
     "outputs": [
      {
       "output_type": "stream",
       "stream": "stdout",
       "text": [
        "1280 1280\n"
       ]
      }
     ],
     "prompt_number": 3
    },
    {
     "cell_type": "code",
     "collapsed": false,
     "input": [
      "img = cv2.cvtColor(cv2.imread(frames[0]), cv2.COLOR_BGR2RGB)\n",
      "matte = cv2.cvtColor(cv2.imread(mattes[0]), cv2.COLOR_BGR2GRAY)\n",
      "\n",
      "imgEdges = cv2.Canny(cv2.cvtColor(img, cv2.COLOR_RGB2GRAY), lowThresh, highThresh)\n",
      "matteEdges = cv2.Canny(matte, lowThresh, highThresh)\n",
      "matteEdges = cv2.dilate(matteEdges, np.ones((6,6),dtype=np.uint8))\n",
      "matteEdges = cv2.erode(matteEdges, np.ones((6,6),dtype=np.uint8))\n",
      "\n",
      "# figure(); imshow(imgEdges*(matte/255.0), interpolation='nearest')\n",
      "figure(); imshow(matteEdges, interpolation='nearest')"
     ],
     "language": "python",
     "metadata": {},
     "outputs": [
      {
       "metadata": {},
       "output_type": "pyout",
       "prompt_number": 61,
       "text": [
        "<matplotlib.image.AxesImage at 0x7eff368e9a10>"
       ]
      }
     ],
     "prompt_number": 61
    },
    {
     "cell_type": "code",
     "collapsed": false,
     "input": [
      "## find points on matte edges\n",
      "edgePoints = np.argwhere(matteEdges == np.max(matteEdges))\n",
      "## closes point to top-left (i.e.) [0, 0]\n",
      "startPoint = edgePoints[np.argmin(np.sum(edgePoints, axis=1)), :]\n",
      "print startPoint\n",
      "scatter(startPoint[1], startPoint[0])"
     ],
     "language": "python",
     "metadata": {},
     "outputs": [
      {
       "output_type": "stream",
       "stream": "stdout",
       "text": [
        "[179 661]\n"
       ]
      },
      {
       "metadata": {},
       "output_type": "pyout",
       "prompt_number": 60,
       "text": [
        "<matplotlib.collections.PathCollection at 0x7eff3697e5d0>"
       ]
      }
     ],
     "prompt_number": 60
    },
    {
     "cell_type": "code",
     "collapsed": false,
     "input": [
      "edgePoints"
     ],
     "language": "python",
     "metadata": {},
     "outputs": [
      {
       "metadata": {},
       "output_type": "pyout",
       "prompt_number": 34,
       "text": [
        "array([[161, 662],\n",
        "       [161, 663],\n",
        "       [162, 660],\n",
        "       ..., \n",
        "       [487, 647],\n",
        "       [487, 648],\n",
        "       [487, 649]])"
       ]
      }
     ],
     "prompt_number": 34
    }
   ],
   "metadata": {}
  }
 ]
}