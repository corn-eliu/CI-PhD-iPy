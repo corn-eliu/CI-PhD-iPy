{
 "metadata": {
  "name": "",
  "signature": "sha256:00f22d7f49ed7e46f9253d1ecfa94455255d4059fa72d64841f20143606840c8"
 },
 "nbformat": 3,
 "nbformat_minor": 0,
 "worksheets": [
  {
   "cells": [
    {
     "cell_type": "code",
     "collapsed": false,
     "input": [
      "#!/usr/bin/python\n",
      "#! -*- encoding: utf-8 -*-\n",
      "\n",
      "# Python script to launch OpenMVG SfM tools on an image dataset\n",
      "#\n",
      "# usage : python tutorial_demo.py \n",
      "# \n",
      "\n",
      "# Indicate the openMVG binary directory\n",
      "OPENMVG_SFM_BIN = \"/home/ilisescu/openMVG/openMVG_build/Linux-x86_64-RELEASE\"\n",
      "\n",
      "# Indicate the openMVG camera sensor width directory\n",
      "CAMERA_SENSOR_WIDTH_DIRECTORY = \"/home/ilisescu/openMVG/openMVG/src/software/SfM\" + \"/../../openMVG/exif/sensor_width_database\"\n",
      "\n",
      "import commands\n",
      "import os\n",
      "import subprocess\n",
      "import sys\n",
      "\n",
<<<<<<< HEAD
      "def get_parent_dir(directory):\n",
      "    import os\n",
      "    return os.path.dirname(directory)\n",
      "\n",
      "input_eval_dir = \"/media/ilisescu/Data2/PhD/raw videos/park/gopro_subset/\"\n",
      "# # Checkout an OpenMVG image dataset with Git\n",
      "# if not os.path.exists(input_eval_dir):\n",
      "#   pImageDataCheckout = subprocess.Popen([ \"git\", \"clone\", \"https://github.com/openMVG/ImageDataset_SceauxCastle.git\" ])\n",
      "#   pImageDataCheckout.wait()\n",
      "\n",
      "output_eval_dir = os.path.join(get_parent_dir(input_eval_dir), \"tutorial_out\")\n",
      "input_eval_dir = os.path.join(input_eval_dir, \"images\")\n",
      "if not os.path.exists(output_eval_dir):\n",
      "  os.mkdir(output_eval_dir)\n",
      "\n",
      "input_dir = input_eval_dir\n",
      "output_dir = output_eval_dir\n",
      "print (\"Using input dir  : \", input_dir)\n",
      "print (\"      output_dir : \", output_dir)\n",
=======
      "# dataFolder = \"/home/ilisescu/PhD/data/\"\n",
      "dataFolder = \"/media/ilisescu/Data1/PhD/data/\"\n",
      "# dataSet = \"clouds_subsample10/\"\n",
      "# dataSet = \"theme_park_cloudy/\"\n",
      "dataSet = \"theme_park_sunny/\""
     ],
     "language": "python",
     "metadata": {},
     "outputs": [
      {
       "output_type": "stream",
       "stream": "stdout",
       "text": [
        "Using matplotlib backend: TkAgg\n",
        "Populating the interactive namespace from numpy and matplotlib\n"
       ]
      }
     ],
     "prompt_number": 2
    },
    {
     "cell_type": "code",
     "collapsed": false,
     "input": [
      "figure(); imshow(np.load(dataFolder+\"Videos/6489810.avi_distanceMatrix.npy\"), interpolation='nearest')"
     ],
     "language": "python",
     "metadata": {},
     "outputs": [
      {
       "metadata": {},
       "output_type": "pyout",
       "prompt_number": 3,
       "text": [
        "<matplotlib.image.AxesImage at 0x7f5bb73621d0>"
       ]
      }
     ],
     "prompt_number": 3
    },
    {
     "cell_type": "code",
     "collapsed": false,
     "input": [
      "frameLocs = np.sort(glob.glob(dataFolder + dataSet + \"/frame-*.png\"))\n",
      "frameSize = np.array(Image.open(frameLocs[0])).shape[0:2]\n",
      "numOfFrames = len(frameLocs)\n",
      "print numOfFrames, frameSize\n",
      "medianImage = np.zeros((frameSize[0], frameSize[1], 3), dtype=np.uint8)"
     ],
     "language": "python",
     "metadata": {},
     "outputs": [
      {
       "output_type": "stream",
       "stream": "stdout",
       "text": [
        "8597 (540, 960)\n"
       ]
      }
     ],
     "prompt_number": 2
    },
    {
     "cell_type": "heading",
     "level": 2,
     "metadata": {},
     "source": [
      "COMPUTE IMAGE MEDIAN"
     ]
    },
    {
     "cell_type": "code",
     "collapsed": false,
     "input": [
      "allFrames = np.zeros((frameSize[0], frameSize[1], numOfFrames), dtype=np.uint8)\n",
      "channel = 2\n",
      "for i in xrange(len(frameLocs)) :\n",
      "    allFrames[:, :, i] = np.array(Image.open(frameLocs[i]))[:, :, channel]\n",
      "    if np.mod(i, 100) == 0 :\n",
      "        sys.stdout.write('\\r' + \"Loaded image \" + np.string_(i) + \" (\" + np.string_(len(frameLocs)) + \")\")\n",
      "        sys.stdout.flush()"
     ],
     "language": "python",
     "metadata": {},
     "outputs": [
      {
       "output_type": "stream",
       "stream": "stdout",
       "text": [
        "\r",
        "Loaded image 0 (8597)"
       ]
      },
      {
       "output_type": "stream",
       "stream": "stdout",
       "text": [
        "\r",
        "Loaded image 100 (8597)"
       ]
      },
      {
       "output_type": "stream",
       "stream": "stdout",
       "text": [
        "\r",
        "Loaded image 200 (8597)"
       ]
      },
      {
       "output_type": "stream",
       "stream": "stdout",
       "text": [
        "\r",
        "Loaded image 300 (8597)"
       ]
      },
      {
       "output_type": "stream",
       "stream": "stdout",
       "text": [
        "\r",
        "Loaded image 400 (8597)"
       ]
      },
      {
       "output_type": "stream",
       "stream": "stdout",
       "text": [
        "\r",
        "Loaded image 500 (8597)"
       ]
      },
      {
       "output_type": "stream",
       "stream": "stdout",
       "text": [
        "\r",
        "Loaded image 600 (8597)"
       ]
      },
      {
       "output_type": "stream",
       "stream": "stdout",
       "text": [
        "\r",
        "Loaded image 700 (8597)"
       ]
      },
      {
       "output_type": "stream",
       "stream": "stdout",
       "text": [
        "\r",
        "Loaded image 800 (8597)"
       ]
      },
      {
       "output_type": "stream",
       "stream": "stdout",
       "text": [
        "\r",
        "Loaded image 900 (8597)"
       ]
      },
      {
       "output_type": "stream",
       "stream": "stdout",
       "text": [
        "\r",
        "Loaded image 1000 (8597)"
       ]
      },
      {
       "output_type": "stream",
       "stream": "stdout",
       "text": [
        "\r",
        "Loaded image 1100 (8597)"
       ]
      },
      {
       "output_type": "stream",
       "stream": "stdout",
       "text": [
        "\r",
        "Loaded image 1200 (8597)"
       ]
      },
      {
       "output_type": "stream",
       "stream": "stdout",
       "text": [
        "\r",
        "Loaded image 1300 (8597)"
       ]
      },
      {
       "output_type": "stream",
       "stream": "stdout",
       "text": [
        "\r",
        "Loaded image 1400 (8597)"
       ]
      },
      {
       "output_type": "stream",
       "stream": "stdout",
       "text": [
        "\r",
        "Loaded image 1500 (8597)"
       ]
      },
      {
       "output_type": "stream",
       "stream": "stdout",
       "text": [
        "\r",
        "Loaded image 1600 (8597)"
       ]
      },
      {
       "output_type": "stream",
       "stream": "stdout",
       "text": [
        "\r",
        "Loaded image 1700 (8597)"
       ]
      },
      {
       "output_type": "stream",
       "stream": "stdout",
       "text": [
        "\r",
        "Loaded image 1800 (8597)"
       ]
      },
      {
       "output_type": "stream",
       "stream": "stdout",
       "text": [
        "\r",
        "Loaded image 1900 (8597)"
       ]
      },
      {
       "output_type": "stream",
       "stream": "stdout",
       "text": [
        "\r",
        "Loaded image 2000 (8597)"
       ]
      },
      {
       "output_type": "stream",
       "stream": "stdout",
       "text": [
        "\r",
        "Loaded image 2100 (8597)"
       ]
      },
      {
       "output_type": "stream",
       "stream": "stdout",
       "text": [
        "\r",
        "Loaded image 2200 (8597)"
       ]
      },
      {
       "output_type": "stream",
       "stream": "stdout",
       "text": [
        "\r",
        "Loaded image 2300 (8597)"
       ]
      },
      {
       "output_type": "stream",
       "stream": "stdout",
       "text": [
        "\r",
        "Loaded image 2400 (8597)"
       ]
      },
      {
       "output_type": "stream",
       "stream": "stdout",
       "text": [
        "\r",
        "Loaded image 2500 (8597)"
       ]
      },
      {
       "output_type": "stream",
       "stream": "stdout",
       "text": [
        "\r",
        "Loaded image 2600 (8597)"
       ]
      },
      {
       "output_type": "stream",
       "stream": "stdout",
       "text": [
        "\r",
        "Loaded image 2700 (8597)"
       ]
      },
      {
       "output_type": "stream",
       "stream": "stdout",
       "text": [
        "\r",
        "Loaded image 2800 (8597)"
       ]
      },
      {
       "output_type": "stream",
       "stream": "stdout",
       "text": [
        "\r",
        "Loaded image 2900 (8597)"
       ]
      },
      {
       "output_type": "stream",
       "stream": "stdout",
       "text": [
        "\r",
        "Loaded image 3000 (8597)"
       ]
      },
      {
       "output_type": "stream",
       "stream": "stdout",
       "text": [
        "\r",
        "Loaded image 3100 (8597)"
       ]
      },
      {
       "output_type": "stream",
       "stream": "stdout",
       "text": [
        "\r",
        "Loaded image 3200 (8597)"
       ]
      },
      {
       "output_type": "stream",
       "stream": "stdout",
       "text": [
        "\r",
        "Loaded image 3300 (8597)"
       ]
      },
      {
       "output_type": "stream",
       "stream": "stdout",
       "text": [
        "\r",
        "Loaded image 3400 (8597)"
       ]
      },
      {
       "output_type": "stream",
       "stream": "stdout",
       "text": [
        "\r",
        "Loaded image 3500 (8597)"
       ]
      },
      {
       "output_type": "stream",
       "stream": "stdout",
       "text": [
        "\r",
        "Loaded image 3600 (8597)"
       ]
      },
      {
       "output_type": "stream",
       "stream": "stdout",
       "text": [
        "\r",
        "Loaded image 3700 (8597)"
       ]
      },
      {
       "output_type": "stream",
       "stream": "stdout",
       "text": [
        "\r",
        "Loaded image 3800 (8597)"
       ]
      },
      {
       "output_type": "stream",
       "stream": "stdout",
       "text": [
        "\r",
        "Loaded image 3900 (8597)"
       ]
      },
      {
       "output_type": "stream",
       "stream": "stdout",
       "text": [
        "\r",
        "Loaded image 4000 (8597)"
       ]
      },
      {
       "output_type": "stream",
       "stream": "stdout",
       "text": [
        "\r",
        "Loaded image 4100 (8597)"
       ]
      },
      {
       "output_type": "stream",
       "stream": "stdout",
       "text": [
        "\r",
        "Loaded image 4200 (8597)"
       ]
      },
      {
       "output_type": "stream",
       "stream": "stdout",
       "text": [
        "\r",
        "Loaded image 4300 (8597)"
       ]
      },
      {
       "output_type": "stream",
       "stream": "stdout",
       "text": [
        "\r",
        "Loaded image 4400 (8597)"
       ]
      },
      {
       "output_type": "stream",
       "stream": "stdout",
       "text": [
        "\r",
        "Loaded image 4500 (8597)"
       ]
      },
      {
       "output_type": "stream",
       "stream": "stdout",
       "text": [
        "\r",
        "Loaded image 4600 (8597)"
       ]
      },
      {
       "output_type": "stream",
       "stream": "stdout",
       "text": [
        "\r",
        "Loaded image 4700 (8597)"
       ]
      },
      {
       "output_type": "stream",
       "stream": "stdout",
       "text": [
        "\r",
        "Loaded image 4800 (8597)"
       ]
      },
      {
       "output_type": "stream",
       "stream": "stdout",
       "text": [
        "\r",
        "Loaded image 4900 (8597)"
       ]
      },
      {
       "output_type": "stream",
       "stream": "stdout",
       "text": [
        "\r",
        "Loaded image 5000 (8597)"
       ]
      },
      {
       "output_type": "stream",
       "stream": "stdout",
       "text": [
        "\r",
        "Loaded image 5100 (8597)"
       ]
      },
      {
       "output_type": "stream",
       "stream": "stdout",
       "text": [
        "\r",
        "Loaded image 5200 (8597)"
       ]
      },
      {
       "output_type": "stream",
       "stream": "stdout",
       "text": [
        "\r",
        "Loaded image 5300 (8597)"
       ]
      },
      {
       "output_type": "stream",
       "stream": "stdout",
       "text": [
        "\r",
        "Loaded image 5400 (8597)"
       ]
      },
      {
       "output_type": "stream",
       "stream": "stdout",
       "text": [
        "\r",
        "Loaded image 5500 (8597)"
       ]
      },
      {
       "output_type": "stream",
       "stream": "stdout",
       "text": [
        "\r",
        "Loaded image 5600 (8597)"
       ]
      },
      {
       "output_type": "stream",
       "stream": "stdout",
       "text": [
        "\r",
        "Loaded image 5700 (8597)"
       ]
      },
      {
       "output_type": "stream",
       "stream": "stdout",
       "text": [
        "\r",
        "Loaded image 5800 (8597)"
       ]
      },
      {
       "output_type": "stream",
       "stream": "stdout",
       "text": [
        "\r",
        "Loaded image 5900 (8597)"
       ]
      },
      {
       "output_type": "stream",
       "stream": "stdout",
       "text": [
        "\r",
        "Loaded image 6000 (8597)"
       ]
      },
      {
       "output_type": "stream",
       "stream": "stdout",
       "text": [
        "\r",
        "Loaded image 6100 (8597)"
       ]
      },
      {
       "output_type": "stream",
       "stream": "stdout",
       "text": [
        "\r",
        "Loaded image 6200 (8597)"
       ]
      },
      {
       "output_type": "stream",
       "stream": "stdout",
       "text": [
        "\r",
        "Loaded image 6300 (8597)"
       ]
      },
      {
       "output_type": "stream",
       "stream": "stdout",
       "text": [
        "\r",
        "Loaded image 6400 (8597)"
       ]
      },
      {
       "output_type": "stream",
       "stream": "stdout",
       "text": [
        "\r",
        "Loaded image 6500 (8597)"
       ]
      },
      {
       "output_type": "stream",
       "stream": "stdout",
       "text": [
        "\r",
        "Loaded image 6600 (8597)"
       ]
      },
      {
       "output_type": "stream",
       "stream": "stdout",
       "text": [
        "\r",
        "Loaded image 6700 (8597)"
       ]
      },
      {
       "output_type": "stream",
       "stream": "stdout",
       "text": [
        "\r",
        "Loaded image 6800 (8597)"
       ]
      },
      {
       "output_type": "stream",
       "stream": "stdout",
       "text": [
        "\r",
        "Loaded image 6900 (8597)"
       ]
      },
      {
       "output_type": "stream",
       "stream": "stdout",
       "text": [
        "\r",
        "Loaded image 7000 (8597)"
       ]
      },
      {
       "output_type": "stream",
       "stream": "stdout",
       "text": [
        "\r",
        "Loaded image 7100 (8597)"
       ]
      },
      {
       "output_type": "stream",
       "stream": "stdout",
       "text": [
        "\r",
        "Loaded image 7200 (8597)"
       ]
      },
      {
       "output_type": "stream",
       "stream": "stdout",
       "text": [
        "\r",
        "Loaded image 7300 (8597)"
       ]
      },
      {
       "output_type": "stream",
       "stream": "stdout",
       "text": [
        "\r",
        "Loaded image 7400 (8597)"
       ]
      },
      {
       "output_type": "stream",
       "stream": "stdout",
       "text": [
        "\r",
        "Loaded image 7500 (8597)"
       ]
      },
      {
       "output_type": "stream",
       "stream": "stdout",
       "text": [
        "\r",
        "Loaded image 7600 (8597)"
       ]
      },
      {
       "output_type": "stream",
       "stream": "stdout",
       "text": [
        "\r",
        "Loaded image 7700 (8597)"
       ]
      },
      {
       "output_type": "stream",
       "stream": "stdout",
       "text": [
        "\r",
        "Loaded image 7800 (8597)"
       ]
      },
      {
       "output_type": "stream",
       "stream": "stdout",
       "text": [
        "\r",
        "Loaded image 7900 (8597)"
       ]
      },
      {
       "output_type": "stream",
       "stream": "stdout",
       "text": [
        "\r",
        "Loaded image 8000 (8597)"
       ]
      },
      {
       "output_type": "stream",
       "stream": "stdout",
       "text": [
        "\r",
        "Loaded image 8100 (8597)"
       ]
      },
      {
       "output_type": "stream",
       "stream": "stdout",
       "text": [
        "\r",
        "Loaded image 8200 (8597)"
       ]
      },
      {
       "output_type": "stream",
       "stream": "stdout",
       "text": [
        "\r",
        "Loaded image 8300 (8597)"
       ]
      },
      {
       "output_type": "stream",
       "stream": "stdout",
       "text": [
        "\r",
        "Loaded image 8400 (8597)"
       ]
      },
      {
       "output_type": "stream",
       "stream": "stdout",
       "text": [
        "\r",
        "Loaded image 8500 (8597)"
       ]
      }
     ],
     "prompt_number": 12
    },
    {
     "cell_type": "code",
     "collapsed": false,
     "input": [
      "medianImage[:, :, channel] = np.median(allFrames, axis=-1)"
     ],
     "language": "python",
     "metadata": {},
     "outputs": [],
     "prompt_number": 13
    },
    {
     "cell_type": "code",
     "collapsed": false,
     "input": [
      "figure(); imshow(medianImage)"
     ],
     "language": "python",
     "metadata": {},
     "outputs": [
      {
       "metadata": {},
       "output_type": "pyout",
       "prompt_number": 14,
       "text": [
        "<matplotlib.image.AxesImage at 0x7fe54f2a6cd0>"
       ]
      }
     ],
     "prompt_number": 14
    },
    {
     "cell_type": "code",
     "collapsed": false,
     "input": [
      "Image.fromarray(np.array(medianImage, dtype=np.uint8)).save(dataFolder + dataSet + \"median.png\")"
     ],
     "language": "python",
     "metadata": {},
     "outputs": [],
     "prompt_number": 15
    },
    {
     "cell_type": "code",
     "collapsed": false,
     "input": [
      "figure(); imshow(np.array(tmp, dtype=np.uint8))"
     ],
     "language": "python",
     "metadata": {},
     "outputs": [
      {
       "metadata": {},
       "output_type": "pyout",
       "prompt_number": 14,
       "text": [
        "<matplotlib.image.AxesImage at 0x7f32692c1390>"
       ]
      }
     ],
     "prompt_number": 14
    },
    {
     "cell_type": "heading",
     "level": 2,
     "metadata": {},
     "source": [
      "RENDER SPRITE ON BACKGROUND"
     ]
    },
    {
     "cell_type": "code",
     "collapsed": false,
     "input": [
      "basePath = \"/media/ilisescu/Data1/PhD/data/havana/\"\n",
      "bgImage = np.array(Image.open(basePath+\"median.png\"))\n",
      "for i in np.arange(800, 800+476) :\n",
      "    currentFrame = np.array(Image.open(basePath+\"bus1/bus1-frame-{0:05d}.png\".format(i)))\n",
      "    spriteLoc = np.argwhere(currentFrame[:, :, -1] != 0)\n",
      "    alphas = currentFrame[spriteLoc[:, 0], spriteLoc[:, 1], -1].reshape((len(spriteLoc), 1)).repeat(3, axis=-1)\n",
>>>>>>> fe1b005d2ec4d7eb0bc61da731ff4fa25b905e36
      "    \n",
      "matches_dir = os.path.join(output_dir, \"matches\")\n",
      "camera_file_params = os.path.join(CAMERA_SENSOR_WIDTH_DIRECTORY, \"sensor_width_camera_database.txt\")\n",
      "\n",
      "# Create the ouput/matches folder if not present\n",
      "if not os.path.exists(matches_dir):\n",
      "  os.mkdir(matches_dir)\n",
      "\n",
      "print (\"1. Intrinsics analysis\") \n",
      "pIntrisics = subprocess.Popen( [os.path.join(OPENMVG_SFM_BIN, \"openMVG_main_SfMInit_ImageListing\"),  \"-i\", input_dir, \"-o\", matches_dir, \"-d\", camera_file_params, \"-c\", \"3\"] )\n",
      "pIntrisics.wait()\n",
      "\n",
      "print (\"2. Compute features\")\n",
      "pFeatures = subprocess.Popen( [os.path.join(OPENMVG_SFM_BIN, \"openMVG_main_ComputeFeatures\"),  \"-i\", matches_dir+\"/sfm_data.json\", \"-o\", matches_dir, \"-m\", \"SIFT\", \"-f\" , \"1\"] )\n",
      "pFeatures.wait()\n",
      "\n",
      "print (\"2. Compute matches\")\n",
      "pMatches = subprocess.Popen( [os.path.join(OPENMVG_SFM_BIN, \"openMVG_main_ComputeMatches\"),  \"-i\", matches_dir+\"/sfm_data.json\", \"-o\", matches_dir, \"-f\", \"1\"] )\n",
      "pMatches.wait()\n",
      "\n",
      "reconstruction_dir = os.path.join(output_dir,\"reconstruction_sequential\")\n",
      "print (\"3. Do Incremental/Sequential reconstruction\") #set manually the initial pair to avoid the prompt question\n",
      "# pRecons = subprocess.Popen( [os.path.join(OPENMVG_SFM_BIN, \"openMVG_main_IncrementalSfM\"),  \"-i\", matches_dir+\"/sfm_data.json\", \"-m\", matches_dir, \"-o\", reconstruction_dir, \"-a\", \"100_7104.JPG\", \"-b\", \"100_7105.JPG\"] )\n",
      "pRecons = subprocess.Popen( [os.path.join(OPENMVG_SFM_BIN, \"openMVG_main_IncrementalSfM\"),  \"-i\", matches_dir+\"/sfm_data.json\", \"-m\", matches_dir, \"-o\", reconstruction_dir, \"-a\", \"frame-03700.png\", \"-b\", \"frame-03800.png\"] )\n",
      "pRecons.wait()\n",
      "\n",
      "print (\"5. Colorize Structure\")\n",
      "pRecons = subprocess.Popen( [os.path.join(OPENMVG_SFM_BIN, \"openMVG_main_ComputeSfM_DataColor\"),  \"-i\", reconstruction_dir+\"/sfm_data.json\", \"-o\", os.path.join(reconstruction_dir,\"colorized.ply\")] )\n",
      "pRecons.wait()\n",
      "\n",
      "print (\"4. Structure from Known Poses (robust triangulation)\")\n",
      "pRecons = subprocess.Popen( [os.path.join(OPENMVG_SFM_BIN, \"openMVG_main_ComputeStructureFromKnownPoses\"),  \"-i\", reconstruction_dir+\"/sfm_data.json\", \"-m\", matches_dir, \"-o\", os.path.join(reconstruction_dir,\"robust.ply\")] )\n",
      "pRecons.wait()\n",
      "\n",
      "# Reconstruction for the global SfM pipeline\n",
      "# - global SfM pipeline use matches filtered by the essential matrices\n",
      "# - here we reuse photometric matches and perform only the essential matrix filering\n",
      "print (\"2. Compute matches (for the global SfM Pipeline)\")\n",
      "pMatches = subprocess.Popen( [os.path.join(OPENMVG_SFM_BIN, \"openMVG_main_ComputeMatches\"),  \"-i\", matches_dir+\"/sfm_data.json\", \"-o\", matches_dir, \"-r\", \"0.8\", \"-g\", \"e\"] )\n",
      "pMatches.wait()\n",
      "\n",
      "reconstruction_dir = os.path.join(output_dir,\"reconstruction_global\")\n",
      "print (\"3. Do Global reconstruction\")\n",
      "pRecons = subprocess.Popen( [os.path.join(OPENMVG_SFM_BIN, \"openMVG_main_GlobalSfM\"),  \"-i\", matches_dir+\"/sfm_data.json\", \"-m\", matches_dir, \"-o\", reconstruction_dir] )\n",
      "pRecons.wait()\n",
      "\n",
      "print (\"5. Colorize Structure\")\n",
      "pRecons = subprocess.Popen( [os.path.join(OPENMVG_SFM_BIN, \"openMVG_main_ComputeSfM_DataColor\"),  \"-i\", reconstruction_dir+\"/sfm_data.json\", \"-o\", os.path.join(reconstruction_dir,\"colorized.ply\")] )\n",
      "pRecons.wait()\n",
      "\n",
      "print (\"4. Structure from Known Poses (robust triangulation)\")\n",
      "pRecons = subprocess.Popen( [os.path.join(OPENMVG_SFM_BIN, \"openMVG_main_ComputeStructureFromKnownPoses\"),  \"-i\", reconstruction_dir+\"/sfm_data.json\", \"-m\", matches_dir, \"-o\", os.path.join(reconstruction_dir,\"robust.ply\")] )\n",
      "pRecons.wait()\n",
      "\n"
     ],
     "language": "python",
     "metadata": {},
     "outputs": [
      {
       "output_type": "stream",
       "stream": "stdout",
       "text": [
        "('Using input dir  : ', '/media/ilisescu/Data2/PhD/raw videos/park/gopro_subset/images')\n",
        "('      output_dir : ', '/media/ilisescu/Data2/PhD/raw videos/park/gopro_subset/tutorial_out')\n",
        "1. Intrinsics analysis\n",
        "2. Compute features"
       ]
      },
      {
       "output_type": "stream",
       "stream": "stdout",
       "text": [
        "\n",
        "2. Compute matches"
       ]
      },
      {
       "output_type": "stream",
       "stream": "stdout",
       "text": [
        "\n",
        "3. Do Incremental/Sequential reconstruction"
       ]
      },
      {
       "output_type": "stream",
       "stream": "stdout",
       "text": [
        "\n",
        "5. Colorize Structure"
       ]
      },
      {
       "output_type": "stream",
       "stream": "stdout",
       "text": [
        "\n",
        "4. Structure from Known Poses (robust triangulation)\n",
        "2. Compute matches (for the global SfM Pipeline)\n",
        "3. Do Global reconstruction"
       ]
      },
      {
       "output_type": "stream",
       "stream": "stdout",
       "text": [
        "\n",
        "5. Colorize Structure"
       ]
      },
      {
       "output_type": "stream",
       "stream": "stdout",
       "text": [
        "\n",
        "4. Structure from Known Poses (robust triangulation)\n"
       ]
      },
      {
       "metadata": {},
       "output_type": "pyout",
       "prompt_number": 2,
       "text": [
        "1"
       ]
      }
     ],
     "prompt_number": 2
    }
   ],
   "metadata": {}
  }
 ]
}