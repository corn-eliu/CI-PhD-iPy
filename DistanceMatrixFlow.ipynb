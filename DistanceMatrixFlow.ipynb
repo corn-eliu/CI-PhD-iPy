{
 "metadata": {
  "name": ""
 },
 "nbformat": 3,
 "nbformat_minor": 0,
 "worksheets": [
  {
   "cells": [
    {
     "cell_type": "code",
     "collapsed": false,
     "input": [
      "## Imports and defines\n",
      "%pylab \n",
      "import numpy as np\n",
      "import scipy as sp\n",
      "import cv2\n",
      "import glob\n",
      "import time\n",
      "import sys\n",
      "import os\n",
      "from scipy import ndimage\n",
      "from scipy import stats\n",
      "\n",
      "from mpl_toolkits.mplot3d import Axes3D\n",
      "import matplotlib.animation as animation\n",
      "\n",
      "dataFolder = \"/home/ilisescu/PhD/data/\""
     ],
     "language": "python",
     "metadata": {},
     "outputs": [
      {
       "output_type": "stream",
       "stream": "stdout",
       "text": [
        "Using matplotlib backend: TkAgg\n",
        "Populating the interactive namespace from numpy and matplotlib\n"
       ]
      }
     ],
     "prompt_number": 1
    },
    {
     "cell_type": "code",
     "collapsed": false,
     "input": [
      "## read frames from sequence of images\n",
      "sampleData = \"ballAnimation/\"\n",
      "outputData = dataFolder+sampleData\n",
      "\n",
      "## Find pngs in sample data\n",
      "frames = glob.glob(dataFolder + sampleData + \"*.png\")\n",
      "frames = np.sort(frames)#[0:len(frames)-10]\n",
      "numFrames = len(frames)\n",
      "frameSize = cv2.imread(frames[0]).shape\n",
      "print numFrames\n",
      "movie = np.zeros(np.hstack([frameSize[0], frameSize[1], frameSize[2], numFrames]), dtype=uint8)\n",
      "for f, idx in zip(frames, xrange(0, numFrames)) :\n",
      "    movie[:, :, :, idx] = np.array(cv2.imread(f))"
     ],
     "language": "python",
     "metadata": {},
     "outputs": [
      {
       "output_type": "stream",
       "stream": "stdout",
       "text": [
        "48\n"
       ]
      }
     ],
     "prompt_number": 3
    },
    {
     "cell_type": "code",
     "collapsed": false,
     "input": [
      "## compute euclidean distance assuming f is an array where each row is a flattened image (1xN array, N=W*H*Channels)\n",
      "## euclidean distance defined as the length of the the displacement vector:\n",
      "## len(q-p) = sqrt(len(q)^2+len(p)^2 - 2*dot(p, q)) where p and q are two images in vector format and 1xN size\n",
      "def distEuc(f) :\n",
      "    ## gives sum over squared intensity values for each image\n",
      "    ff = np.sum(f*f, axis=1)\n",
      "    ## first term is sum between each possible combination of frames\n",
      "    ## second term is the the dot product between each frame as in the formula above\n",
      "    d = np.sqrt(np.reshape(ff, [len(ff),1])+ff.T - 2*np.dot(f, f.T))\n",
      "    return d\n",
      "\n",
      "def distEuc2(f1, f2) :\n",
      "    ## gives sum over squared intensity values for each image\n",
      "    ff1 = np.sum(f1*f1, axis=1)\n",
      "    ff2 = np.sum(f2*f2, axis=1)\n",
      "#     print ff1.shape\n",
      "#     print ff2.shape\n",
      "    ## first term is sum between each possible combination of frames\n",
      "    ## second term is the the dot product between each frame as in the formula above\n",
      "#     print \"askdfh\", np.repeat(np.reshape(ff1, [len(ff1),1]), len(ff2), axis=1).shape, np.repeat(np.reshape(ff2, [1, len(ff2)]), len(ff1), axis=0).shape\n",
      "    d = np.sqrt(np.repeat(np.reshape(ff1, [len(ff1),1]), len(ff2), axis=1)+np.repeat(np.reshape(ff2, [1, len(ff2)]), len(ff1), axis=0) - 2*np.dot(f1, f2.T))\n",
      "    return d"
     ],
     "language": "python",
     "metadata": {},
     "outputs": [],
     "prompt_number": 4
    },
    {
     "cell_type": "code",
     "collapsed": false,
     "input": [
      "tmp = distFlow(movie[...,0], movie[...,4])\n",
      "figure(); imshow(tmp)"
     ],
     "language": "python",
     "metadata": {},
     "outputs": [
      {
       "metadata": {},
       "output_type": "pyout",
       "prompt_number": 22,
       "text": [
        "<matplotlib.image.AxesImage at 0x7ff40e3a9d50>"
       ]
      }
     ],
     "prompt_number": 22
    },
    {
     "cell_type": "code",
     "collapsed": false,
     "input": [
      "def distFlow(f1, f2) :\n",
      "    hsv = np.zeros_like(f1)\n",
      "    hsv[...,1] = 255\n",
      "    \n",
      "    flow = cv2.calcOpticalFlowFarneback(cv2.cvtColor(f1, cv2.COLOR_BGR2GRAY)/255.0, cv2.cvtColor(f2, cv2.COLOR_BGR2GRAY)/255.0, 0.5, 3, 15, 3, 5, 1.2, 0)\n",
      "    \n",
      "    mag, ang = cv2.cartToPolar(flow[...,0], flow[...,1])\n",
      "    hsv[...,0] = ang*180/np.pi/2\n",
      "    hsv[...,2] = cv2.normalize(mag,None,0,255,cv2.NORM_MINMAX)\n",
      "    rgb = cv2.cvtColor(hsv,cv2.COLOR_HSV2RGB)\n",
      "    \n",
      "    return rgb\n"
     ],
     "language": "python",
     "metadata": {},
     "outputs": [],
     "prompt_number": 18
    },
    {
     "cell_type": "code",
     "collapsed": false,
     "input": [
      "## divide data into subblocks\n",
      "s = time.time()\n",
      "numBlocks = 1\n",
      "blockSize = numFrames/numBlocks\n",
      "print numFrames, numBlocks, blockSize\n",
      "distanceMatrix = np.zeros([numFrames, numFrames])\n",
      "\n",
      "for i in xrange(0, numBlocks) :\n",
      "    \n",
      "    t = time.time()\n",
      "    \n",
      "    ##load row frames\n",
      "    f1s = np.zeros(np.hstack([frameSize[0], frameSize[1], frameSize[2], blockSize]))\n",
      "    for f, idx in zip(xrange(i*blockSize, i*blockSize+blockSize), xrange(0, blockSize)) :\n",
      "        f1s[:, :, :, idx] = np.array(cv2.cvtColor(cv2.imread(frames[f]), cv2.COLOR_BGR2RGB))/255.0\n",
      "\n",
      "    ##compute distance between every pair of row frames\n",
      "    data1 = np.reshape(f1s, [np.prod(f1s.shape[0:-1]), f1s.shape[-1]]).T\n",
      "    distanceMatrix[i*blockSize:i*blockSize+blockSize, i*blockSize:i*blockSize+blockSize] = distEuc(data1)\n",
      "    \n",
      "    sys.stdout.write('\\r' + \"Row Frames \" + np.string_(i*blockSize) + \" to \" + np.string_(i*blockSize+blockSize-1) + \" in \" + np.string_(time.time() - t))\n",
      "    sys.stdout.flush()\n",
      "    print\n",
      "    \n",
      "    for j in xrange(i+1, numBlocks) :\n",
      "        \n",
      "        t = time.time()\n",
      "        \n",
      "        ##load column frames\n",
      "        f2s = np.zeros(np.hstack([frameSize[0], frameSize[1], frameSize[2], blockSize]))\n",
      "        for f, idx in zip(xrange(j*blockSize, j*blockSize+blockSize), xrange(0, blockSize)) :\n",
      "            f2s[:, :, :, idx] = np.array(cv2.cvtColor(cv2.imread(frames[f]), cv2.COLOR_BGR2RGB))/255.0\n",
      "            \n",
      "        ##compute distance between every pair of row-column frames\n",
      "        data2 = np.reshape(f2s, [np.prod(f2s.shape[0:-1]), f2s.shape[-1]]).T\n",
      "        distanceMatrix[i*blockSize:i*blockSize+blockSize, j*blockSize:j*blockSize+blockSize] = distEuc2(data1, data2)\n",
      "        distanceMatrix[j*blockSize:j*blockSize+blockSize, i*blockSize:i*blockSize+blockSize] = distanceMatrix[i*blockSize:i*blockSize+blockSize, j*blockSize:j*blockSize+blockSize].T\n",
      "    \n",
      "        sys.stdout.write('\\r' + \"Column Frames \" + np.string_(j*blockSize) + \" to \" + np.string_(j*blockSize+blockSize-1) + \" in \" + np.string_(time.time() - t))\n",
      "        sys.stdout.flush()\n",
      "        print\n",
      "\n",
      "figure(); imshow(distanceMatrix, interpolation='nearest')\n",
      "print\n",
      "print \"finished in\", time.time() - s"
     ],
     "language": "python",
     "metadata": {},
     "outputs": [
      {
       "output_type": "stream",
       "stream": "stdout",
       "text": [
        "48 1 48\n",
        "\r",
        "Row Frames 0 to 47 in 1.97235703468"
       ]
      },
      {
       "output_type": "stream",
       "stream": "stdout",
       "text": [
        "\n",
        "\n"
       ]
      },
      {
       "output_type": "stream",
       "stream": "stdout",
       "text": [
        "finished in 2.08517217636\n"
       ]
      }
     ],
     "prompt_number": 4
    },
    {
     "cell_type": "code",
     "collapsed": false,
     "input": [
      "print outputData"
     ],
     "language": "python",
     "metadata": {},
     "outputs": [
      {
       "output_type": "stream",
       "stream": "stdout",
       "text": [
        "/home/ilisescu/PhD/data/little_palm1/\n"
       ]
      }
     ],
     "prompt_number": 5
    },
    {
     "cell_type": "code",
     "collapsed": false,
     "input": [
      "np.save(outputData + \"distMat\", distanceMatrix)"
     ],
     "language": "python",
     "metadata": {},
     "outputs": [],
     "prompt_number": 7
    },
    {
     "cell_type": "code",
     "collapsed": false,
     "input": [
      "s = time.time()\n",
      "if numFrames > 0 :\n",
      "    frameSize = cv2.imread(frames[0]).shape\n",
      "    movie = np.zeros(np.hstack([frameSize[0], frameSize[1], frameSize[2], numFrames]))\n",
      "    for i in range(0, numFrames) :\n",
      "        im = np.array(cv2.cvtColor(cv2.imread(frames[i]), cv2.COLOR_BGR2RGB))#/255.0\n",
      "        movie[:, :, :, i] = im#np.dot(im[:,:,:3], [0.0722, 0.7152, 0.2126])   # matlab RGB2GRAY multiplies [0.299, 0.587, 0.144] but cv2 is BGR\n",
      "        \n",
      "print 'Movie has shape', movie.shape\n",
      "distanceMatrix1 = np.zeros([movie.shape[3], movie.shape[3]])\n",
      "data = np.reshape(movie/255.0, [np.prod(movie.shape[0:-1]), movie.shape[-1]]).T\n",
      "distanceMatrix1 = distEuc2(data, data)\n",
      "figure(); imshow(distanceMatrix1, interpolation='nearest')\n",
      "print\n",
      "print \"finished in\", time.time() - s"
     ],
     "language": "python",
     "metadata": {},
     "outputs": [
      {
       "output_type": "stream",
       "stream": "stdout",
       "text": [
        "Movie has shape (240, 240, 3, 66)\n",
        "(66,)"
       ]
      },
      {
       "output_type": "stream",
       "stream": "stdout",
       "text": [
        "\n",
        "(66,)\n",
        "askdfh (66, 66) (66, 66)\n",
        "\n"
       ]
      },
      {
       "output_type": "stream",
       "stream": "stdout",
       "text": [
        "finished in 1.2457780838\n"
       ]
      }
     ],
     "prompt_number": 75
    },
    {
     "cell_type": "code",
     "collapsed": false,
     "input": [
      "print distanceMatrix1[0:blockSize, blockSize:blockSize+blockSize]"
     ],
     "language": "python",
     "metadata": {},
     "outputs": [
      {
       "output_type": "stream",
       "stream": "stdout",
       "text": [
        "[[ 11.17567386   9.27806672  12.66016163 ...,  31.2307489   35.37335658\n",
        "   41.90399786]\n",
        " [  9.54487006  13.5124355   15.25358833 ...,  32.46859613  36.71980254\n",
        "   41.17689206]\n",
        " [ 13.66511258  16.05835044  17.45194269 ...,  33.66882883  37.94652503\n",
        "   42.45735441]\n",
        " ..., \n",
        " [ 18.07631607  19.7529622   20.82054703 ...,  35.87411327  40.15672258\n",
        "   44.54070569]\n",
        " [ 15.3064219   17.66135761  19.0215281  ...,  34.90124784  39.19588363\n",
        "   43.51543584]\n",
        " [ 11.0029621   14.36717231  16.14921102 ...,  33.52303712  37.92180424\n",
        "   42.22312877]]\n"
       ]
      }
     ],
     "prompt_number": 78
    },
    {
     "cell_type": "code",
     "collapsed": false,
     "input": [
      "print distanceMatrix[0:blockSize, blockSize:blockSize+blockSize]"
     ],
     "language": "python",
     "metadata": {},
     "outputs": [
      {
       "output_type": "stream",
       "stream": "stdout",
       "text": [
        "[[ 10.47302388  14.4535502   17.71082814 ...,  18.37513364  15.22947273\n",
        "   11.17567386]\n",
        " [  0.          10.74957828  15.32326433 ...,  15.9030995   11.40519317\n",
        "    9.54487006]\n",
        " [ 10.74957828   0.          10.7734819  ...,  10.85914289   9.18581726\n",
        "   13.66511258]\n",
        " ..., \n",
        " [ 18.61223238  15.14534885  10.40763331 ...,  10.39934934  14.76558339\n",
        "   18.07631607]\n",
        " [ 15.9030995   10.85914289   9.29115366 ...,   0.          10.90591831\n",
        "   15.3064219 ]\n",
        " [ 11.40519317   9.18581726  13.78046581 ...,  10.90591831   0.          11.0029621 ]]\n"
       ]
      }
     ],
     "prompt_number": 79
    },
    {
     "cell_type": "code",
     "collapsed": false,
     "input": [
      "# numFrames = 3\n",
      "distanceMatrix = np.zeros([numFrames, numFrames])\n",
      "s = time.time()\n",
      "for i in range(0, numFrames) :\n",
      "    p = np.ndarray.flatten(np.array(cv2.cvtColor(cv2.imread(frames[i]), cv2.COLOR_BGR2RGB))/255.0)\n",
      "    t = time.time()\n",
      "#     print p.shape\n",
      "    for j in range(i+1, numFrames) :\n",
      "        ## len(q-p) = sqrt(len(q)^2+len(p)^2 - 2*dot(p, q)) where p and q are two images in vector format and 1xN size\n",
      "        q = np.ndarray.flatten(np.array(cv2.cvtColor(cv2.imread(frames[j]), cv2.COLOR_BGR2RGB))/255.0)\n",
      "        distanceMatrix[j, i] = distanceMatrix[i, j] = np.sqrt(np.linalg.norm(q)**2+np.linalg.norm(p)**2 - 2*np.dot(p, q))\n",
      "#         distanceMatrix[j, i] = distanceMatrix[i, j] = np.linalg.norm(q-p)\n",
      "#         print distanceMatrix[j, i],\n",
      "    sys.stdout.write('\\r' + \"Frame \" + np.string_(i) + \" of \" + np.string_(numFrames) + \" in \" + np.string_(time.time() - t))\n",
      "    sys.stdout.flush()\n",
      "figure(); imshow(distanceMatrix, interpolation='nearest')\n",
      "print\n",
      "print \"finished in\", time.time() - s"
     ],
     "language": "python",
     "metadata": {},
     "outputs": [
      {
       "output_type": "stream",
       "stream": "stdout",
       "text": [
        "\r",
        "Frame 0 of 66 in 0.279089927673"
       ]
      },
      {
       "output_type": "stream",
       "stream": "stdout",
       "text": [
        "\r",
        "Frame 1 of 66 in 0.262724161148"
       ]
      },
      {
       "output_type": "stream",
       "stream": "stdout",
       "text": [
        "\r",
        "Frame 2 of 66 in 0.2661921978"
       ]
      },
      {
       "output_type": "stream",
       "stream": "stdout",
       "text": [
        "\r",
        "Frame 3 of 66 in 0.252657175064"
       ]
      },
      {
       "output_type": "stream",
       "stream": "stdout",
       "text": [
        "\r",
        "Frame 4 of 66 in 0.246515989304"
       ]
      },
      {
       "output_type": "stream",
       "stream": "stdout",
       "text": [
        "\r",
        "Frame 5 of 66 in 0.248393058777"
       ]
      },
      {
       "output_type": "stream",
       "stream": "stdout",
       "text": [
        "\r",
        "Frame 6 of 66 in 0.241777896881"
       ]
      },
      {
       "output_type": "stream",
       "stream": "stdout",
       "text": [
        "\r",
        "Frame 7 of 66 in 0.233123064041"
       ]
      },
      {
       "output_type": "stream",
       "stream": "stdout",
       "text": [
        "\r",
        "Frame 8 of 66 in 0.232068061829"
       ]
      },
      {
       "output_type": "stream",
       "stream": "stdout",
       "text": [
        "\r",
        "Frame 9 of 66 in 0.226457834244"
       ]
      },
      {
       "output_type": "stream",
       "stream": "stdout",
       "text": [
        "\r",
        "Frame 10 of 66 in 0.223256111145"
       ]
      },
      {
       "output_type": "stream",
       "stream": "stdout",
       "text": [
        "\r",
        "Frame 11 of 66 in 0.221013069153"
       ]
      },
      {
       "output_type": "stream",
       "stream": "stdout",
       "text": [
        "\r",
        "Frame 12 of 66 in 0.212456941605"
       ]
      },
      {
       "output_type": "stream",
       "stream": "stdout",
       "text": [
        "\r",
        "Frame 13 of 66 in 0.209338903427"
       ]
      },
      {
       "output_type": "stream",
       "stream": "stdout",
       "text": [
        "\r",
        "Frame 14 of 66 in 0.206727027893"
       ]
      },
      {
       "output_type": "stream",
       "stream": "stdout",
       "text": [
        "\r",
        "Frame 15 of 66 in 0.202167034149"
       ]
      },
      {
       "output_type": "stream",
       "stream": "stdout",
       "text": [
        "\r",
        "Frame 16 of 66 in 0.197742938995"
       ]
      },
      {
       "output_type": "stream",
       "stream": "stdout",
       "text": [
        "\r",
        "Frame 17 of 66 in 0.197292804718"
       ]
      },
      {
       "output_type": "stream",
       "stream": "stdout",
       "text": [
        "\r",
        "Frame 18 of 66 in 0.193111896515"
       ]
      },
      {
       "output_type": "stream",
       "stream": "stdout",
       "text": [
        "\r",
        "Frame 19 of 66 in 0.185876846313"
       ]
      },
      {
       "output_type": "stream",
       "stream": "stdout",
       "text": [
        "\r",
        "Frame 20 of 66 in 0.181474208832"
       ]
      },
      {
       "output_type": "stream",
       "stream": "stdout",
       "text": [
        "\r",
        "Frame 21 of 66 in 0.179843902588"
       ]
      },
      {
       "output_type": "stream",
       "stream": "stdout",
       "text": [
        "\r",
        "Frame 22 of 66 in 0.174144983292"
       ]
      },
      {
       "output_type": "stream",
       "stream": "stdout",
       "text": [
        "\r",
        "Frame 23 of 66 in 0.168337106705"
       ]
      },
      {
       "output_type": "stream",
       "stream": "stdout",
       "text": [
        "\r",
        "Frame 24 of 66 in 0.166848897934"
       ]
      },
      {
       "output_type": "stream",
       "stream": "stdout",
       "text": [
        "\r",
        "Frame 25 of 66 in 0.160906076431"
       ]
      },
      {
       "output_type": "stream",
       "stream": "stdout",
       "text": [
        "\r",
        "Frame 26 of 66 in 0.158223152161"
       ]
      },
      {
       "output_type": "stream",
       "stream": "stdout",
       "text": [
        "\r",
        "Frame 27 of 66 in 0.153589963913"
       ]
      },
      {
       "output_type": "stream",
       "stream": "stdout",
       "text": [
        "\r",
        "Frame 28 of 66 in 0.148893117905"
       ]
      },
      {
       "output_type": "stream",
       "stream": "stdout",
       "text": [
        "\r",
        "Frame 29 of 66 in 0.145374059677"
       ]
      },
      {
       "output_type": "stream",
       "stream": "stdout",
       "text": [
        "\r",
        "Frame 30 of 66 in 0.142683029175"
       ]
      },
      {
       "output_type": "stream",
       "stream": "stdout",
       "text": [
        "\r",
        "Frame 31 of 66 in 0.140752077103"
       ]
      },
      {
       "output_type": "stream",
       "stream": "stdout",
       "text": [
        "\r",
        "Frame 32 of 66 in 0.135797023773"
       ]
      },
      {
       "output_type": "stream",
       "stream": "stdout",
       "text": [
        "\r",
        "Frame 33 of 66 in 0.12975692749"
       ]
      },
      {
       "output_type": "stream",
       "stream": "stdout",
       "text": [
        "\r",
        "Frame 34 of 66 in 0.12833404541"
       ]
      },
      {
       "output_type": "stream",
       "stream": "stdout",
       "text": [
        "\r",
        "Frame 35 of 66 in 0.122220039368"
       ]
      },
      {
       "output_type": "stream",
       "stream": "stdout",
       "text": [
        "\r",
        "Frame 36 of 66 in 0.117805957794"
       ]
      },
      {
       "output_type": "stream",
       "stream": "stdout",
       "text": [
        "\r",
        "Frame 37 of 66 in 0.115044116974"
       ]
      },
      {
       "output_type": "stream",
       "stream": "stdout",
       "text": [
        "\r",
        "Frame 38 of 66 in 0.11275601387"
       ]
      },
      {
       "output_type": "stream",
       "stream": "stdout",
       "text": [
        "\r",
        "Frame 39 of 66 in 0.105520009995"
       ]
      },
      {
       "output_type": "stream",
       "stream": "stdout",
       "text": [
        "\r",
        "Frame 40 of 66 in 0.100501060486"
       ]
      },
      {
       "output_type": "stream",
       "stream": "stdout",
       "text": [
        "\r",
        "Frame 41 of 66 in 0.098925113678"
       ]
      },
      {
       "output_type": "stream",
       "stream": "stdout",
       "text": [
        "\r",
        "Frame 42 of 66 in 0.092404127121"
       ]
      },
      {
       "output_type": "stream",
       "stream": "stdout",
       "text": [
        "\r",
        "Frame 43 of 66 in 0.0912141799927"
       ]
      },
      {
       "output_type": "stream",
       "stream": "stdout",
       "text": [
        "\r",
        "Frame 44 of 66 in 0.084853887558"
       ]
      },
      {
       "output_type": "stream",
       "stream": "stdout",
       "text": [
        "\r",
        "Frame 45 of 66 in 0.0812950134277"
       ]
      },
      {
       "output_type": "stream",
       "stream": "stdout",
       "text": [
        "\r",
        "Frame 46 of 66 in 0.0771019458771"
       ]
      },
      {
       "output_type": "stream",
       "stream": "stdout",
       "text": [
        "\r",
        "Frame 47 of 66 in 0.0727009773254"
       ]
      },
      {
       "output_type": "stream",
       "stream": "stdout",
       "text": [
        "\r",
        "Frame 48 of 66 in 0.0694348812103"
       ]
      },
      {
       "output_type": "stream",
       "stream": "stdout",
       "text": [
        "\r",
        "Frame 49 of 66 in 0.0650858879089"
       ]
      },
      {
       "output_type": "stream",
       "stream": "stdout",
       "text": [
        "\r",
        "Frame 50 of 66 in 0.0624008178711"
       ]
      },
      {
       "output_type": "stream",
       "stream": "stdout",
       "text": [
        "\r",
        "Frame 51 of 66 in 0.058100938797"
       ]
      },
      {
       "output_type": "stream",
       "stream": "stdout",
       "text": [
        "\r",
        "Frame 52 of 66 in 0.0537538528442"
       ]
      },
      {
       "output_type": "stream",
       "stream": "stdout",
       "text": [
        "\r",
        "Frame 53 of 66 in 0.0488829612732"
       ]
      },
      {
       "output_type": "stream",
       "stream": "stdout",
       "text": [
        "\r",
        "Frame 54 of 66 in 0.0460360050201"
       ]
      },
      {
       "output_type": "stream",
       "stream": "stdout",
       "text": [
        "\r",
        "Frame 55 of 66 in 0.0408680438995"
       ]
      },
      {
       "output_type": "stream",
       "stream": "stdout",
       "text": [
        "\r",
        "Frame 56 of 66 in 0.0361130237579"
       ]
      },
      {
       "output_type": "stream",
       "stream": "stdout",
       "text": [
        "\r",
        "Frame 57 of 66 in 0.0320258140564"
       ]
      },
      {
       "output_type": "stream",
       "stream": "stdout",
       "text": [
        "\r",
        "Frame 58 of 66 in 0.0287020206451"
       ]
      },
      {
       "output_type": "stream",
       "stream": "stdout",
       "text": [
        "\r",
        "Frame 59 of 66 in 0.0284268856049"
       ]
      },
      {
       "output_type": "stream",
       "stream": "stdout",
       "text": [
        "\r",
        "Frame 60 of 66 in 0.023421049118"
       ]
      },
      {
       "output_type": "stream",
       "stream": "stdout",
       "text": [
        "\r",
        "Frame 61 of 66 in 0.0158681869507"
       ]
      },
      {
       "output_type": "stream",
       "stream": "stdout",
       "text": [
        "\r",
        "Frame 62 of 66 in 0.0122921466827"
       ]
      },
      {
       "output_type": "stream",
       "stream": "stdout",
       "text": [
        "\r",
        "Frame 63 of 66 in 0.00933218002319"
       ]
      },
      {
       "output_type": "stream",
       "stream": "stdout",
       "text": [
        "\r",
        "Frame 64 of 66 in 0.00404500961304"
       ]
      },
      {
       "output_type": "stream",
       "stream": "stdout",
       "text": [
        "\r",
        "Frame 65 of 66 in 1.09672546387e-05"
       ]
      },
      {
       "output_type": "stream",
       "stream": "stdout",
       "text": [
        "\n",
        "finished in 9.12017512321\n"
       ]
      }
     ],
     "prompt_number": 34
    },
    {
     "cell_type": "code",
     "collapsed": false,
     "input": [
      "print distanceMatrix"
     ],
     "language": "python",
     "metadata": {},
     "outputs": [
      {
       "output_type": "stream",
       "stream": "stdout",
       "text": [
        "[[       0.          3910017.65618704  3910017.65647359]\n",
        " [ 3910017.65618704        0.          3910017.65623104]\n",
        " [ 3910017.65647359  3910017.65623104        0.        ]]\n"
       ]
      }
     ],
     "prompt_number": 12
    },
    {
     "cell_type": "code",
     "collapsed": false,
     "input": [
      "print distanceMatrix"
     ],
     "language": "python",
     "metadata": {},
     "outputs": [
      {
       "output_type": "stream",
       "stream": "stdout",
       "text": [
        "[[  0.          48.48591277  67.44212265]\n",
        " [ 48.48591277   0.          54.20580033]\n",
        " [ 67.44212265  54.20580033   0.        ]]\n"
       ]
      }
     ],
     "prompt_number": 14
    },
    {
     "cell_type": "code",
     "collapsed": false,
     "input": [
      "print distanceMatrix"
     ],
     "language": "python",
     "metadata": {},
     "outputs": [
      {
       "output_type": "stream",
       "stream": "stdout",
       "text": [
        "[[  0.          48.48591277  67.44212265]\n",
        " [ 48.48591277   0.          54.20580033]\n",
        " [ 67.44212265  54.20580033   0.        ]]\n"
       ]
      }
     ],
     "prompt_number": 16
    }
   ],
   "metadata": {}
  }
 ]
}