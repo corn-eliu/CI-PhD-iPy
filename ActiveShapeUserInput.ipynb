{
 "metadata": {
  "name": ""
 },
 "nbformat": 3,
 "nbformat_minor": 0,
 "worksheets": [
  {
   "cells": [
    {
     "cell_type": "code",
     "collapsed": false,
     "input": [
      "## Imports and defines\n",
      "%pylab\n",
      "import numpy as np\n",
      "import scipy as sp\n",
      "from scipy import io\n",
      "from scipy import ndimage\n",
      "import re\n",
      "import cv2\n",
      "import sys\n",
      "import glob\n",
      "import Image \n",
      "\n",
      "from mpl_toolkits.mplot3d import Axes3D\n",
      "import matplotlib.animation as animation\n",
      "\n",
      "import MazeSequenceUtils as msu\n",
      "\n",
      "dataLoc = \"/home/ilisescu/PhD/iPy/data/flower/\"\n",
      "nameLength = len(filter(None, re.split('/',dataLoc)))\n",
      "\n",
      "colVals = ['0', '1', '2', '3', '4', '5', '6', '7', '8', '9', 'a', 'b', 'c', 'd', 'e', 'f']"
     ],
     "language": "python",
     "metadata": {},
     "outputs": [
      {
       "output_type": "stream",
       "stream": "stdout",
       "text": [
        "Using matplotlib backend: TkAgg\n",
        "Populating the interactive namespace from numpy and matplotlib\n"
       ]
      }
     ],
     "prompt_number": 1
    },
    {
     "cell_type": "code",
     "collapsed": false,
     "input": [
      "def insideRect(point, rectSize) :\n",
      "    width = rectSize[1]\n",
      "    height = rectSize[0]\n",
      "    result = point[0] >= 0 and point[1] >= 0 and point[0] <= width and point[1] <= height\n",
      "#     print \"inside rect\", result\n",
      "    return result\n",
      "    \n",
      "    \n",
      "def findSplitSegment(line, rectSize) :\n",
      "    points = []\n",
      "    ## line-line intersection using cramer's rule\n",
      "    a = line[2:4]\n",
      "    u = line[0:2]\n",
      "    width = rectSize[1]\n",
      "    height = rectSize[0]\n",
      "#     print rectSize\n",
      "    \n",
      "    \n",
      "    # check intersection with x axis\n",
      "    b = np.array([0, 0])\n",
      "    v = np.array([1, 0])\n",
      "    \n",
      "    A = np.array([[u[0], -v[0]], [u[1], -v[1]]])\n",
      "    c = np.array([[b[0]-a[0]], [b[1]-a[1]]])\n",
      "    x = np.linalg.det(np.array([c, A[:, 1]]))/np.linalg.det(A)\n",
      "    point = np.array(np.round(a+x*u), dtype=int)\n",
      "#     print point\n",
      "    \n",
      "    if insideRect(point, rectSize) :\n",
      "        points.append(point)\n",
      "        \n",
      "        \n",
      "    ## check intersection with height axis\n",
      "    b = np.array([0, height])\n",
      "    A = np.array([[u[0], -v[0]], [u[1], -v[1]]])\n",
      "    c = np.array([[b[0]-a[0]], [b[1]-a[1]]])\n",
      "    x = np.linalg.det(np.array([c, A[:, 1]]))/np.linalg.det(A)\n",
      "    point = np.array(np.round(a+x*u), dtype=int)\n",
      "#     print point\n",
      "    \n",
      "    if insideRect(point, rectSize) :\n",
      "        isNew = True\n",
      "        for p in points :\n",
      "            if np.linalg.norm(point-p) < 2 and len(points) >= 2 :\n",
      "                isNew = False\n",
      "                break\n",
      "        if isNew :\n",
      "            points.append(point)\n",
      "        \n",
      "        \n",
      "    # check instersection with y axis\n",
      "    b = np.array([0, 0])\n",
      "    v = np.array([0, 1])\n",
      "    \n",
      "    A = np.array([[u[0], -v[0]], [u[1], -v[1]]])\n",
      "    c = np.array([[b[0]-a[0]], [b[1]-a[1]]])\n",
      "    x = np.linalg.det(np.array([c, A[:, 1]]))/np.linalg.det(A)\n",
      "    point = np.array(np.round(a+x*u), dtype=int)\n",
      "#     print point\n",
      "    \n",
      "    if insideRect(point, rectSize) :\n",
      "        isNew = True\n",
      "        for p in points :\n",
      "            if np.linalg.norm(point-p) < 2 and len(points) >= 2 :\n",
      "#             if (point == p).all() :\n",
      "                isNew = False\n",
      "                break\n",
      "        if isNew :\n",
      "            points.append(point)\n",
      "        \n",
      "    \n",
      "    ## check intersection with width axis\n",
      "    b = np.array([width, 0])\n",
      "    A = np.array([[u[0], -v[0]], [u[1], -v[1]]])\n",
      "    c = np.array([[b[0]-a[0]], [b[1]-a[1]]])\n",
      "    x = np.linalg.det(np.array([c, A[:, 1]]))/np.linalg.det(A)\n",
      "    point = np.array(np.round(a+x*u), dtype=int)\n",
      "#     print point\n",
      "    \n",
      "    if insideRect(point, rectSize) :\n",
      "        isNew = True\n",
      "        for p in points :\n",
      "            if np.linalg.norm(point-p) < 2 and len(points) >= 2 :\n",
      "#             if (point == p).all() :\n",
      "                isNew = False\n",
      "                break\n",
      "        if isNew :\n",
      "            points.append(point)\n",
      "    \n",
      "    if len(points) != 2 :\n",
      "        print \"Incorrect number of points in split segment:\", len(points)\n",
      "        print points\n",
      "        raise BaseException\n",
      "    return np.array(points)\n",
      "    \n",
      "    "
     ],
     "language": "python",
     "metadata": {},
     "outputs": [],
     "prompt_number": 69
    },
    {
     "cell_type": "code",
     "collapsed": false,
     "input": [
      "def discretizeLine(segmentExtremes) :\n",
      "    ## discretize line segment\n",
      "    lN = np.int(np.linalg.norm(segmentExtremes[1, :]-segmentExtremes[0, :]))\n",
      "    lDir = (segmentExtremes[1, :]-segmentExtremes[0, :])/np.float(lN)\n",
      "    discretizedSegment = np.array(np.round(np.repeat(np.reshape(np.array(segmentExtremes[1, :], dtype=int), [len(segmentExtremes[1, :]), 1]), lN+1, axis=1)-np.arange(0, lN+1)*np.reshape(lDir,[len(lDir), 1])), dtype=np.int).T\n",
      "    return discretizedSegment"
     ],
     "language": "python",
     "metadata": {},
     "outputs": [],
     "prompt_number": 3
    },
    {
     "cell_type": "code",
     "collapsed": false,
     "input": [
      "def positiveHalfspaceMask(segmentExtremes, rectSize, inclusive) :\n",
      "    hsMask = np.zeros(rectSize)\n",
      "    A = segmentExtremes[0, :]\n",
      "    B = segmentExtremes[1, :]\n",
      "    Xs = np.repeat(np.reshape(np.arange(0, rectSize[1], 1), [1, rectSize[1]]), rectSize[0], axis=0)\n",
      "    Ys = np.repeat(np.reshape(np.arange(0, rectSize[0], 1), [rectSize[0], 1]), rectSize[1], axis=1)\n",
      "    distances = (B[0]-A[0])*(Ys-A[1])-(B[1]-A[1])*(Xs-A[0])\n",
      "    \n",
      "    if inclusive :\n",
      "        hsMask[np.where(distances>=0)] = 1\n",
      "    else :\n",
      "        hsMask[np.where(distances>0)] = 1\n",
      "    return hsMask"
     ],
     "language": "python",
     "metadata": {},
     "outputs": [],
     "prompt_number": 4
    },
    {
     "cell_type": "code",
     "collapsed": false,
     "input": [
      "## load frames\n",
      "frameNames = np.sort(glob.glob(dataLoc + \"*.png\"))\n",
      "frameSize = cv2.imread(frameNames[0]).shape\n",
      "movie = np.zeros(np.hstack([frameSize, len(frameNames)]), dtype=uint8)\n",
      "print movie.shape\n",
      "for i in xrange(0, len(frameNames)):\n",
      "#     im = np.array(cv2.imread(location+frames[i]))/255.0\n",
      "#     movie[:, :, i] = np.dot(im[:,:,:3], [0.0722, 0.7152, 0.2126])   # matlab RGB2GRAY multiplies [0.299, 0.587, 0.144] but cv2 is BGR\n",
      "#     movie[:, :, :, i] = np.array(cv2.imread(frameNames[i]))/255.0\n",
      "    movie[:, :, :, i] = cv2.imread(frameNames[i])\n",
      "    sys.stdout.write('\\r' + \"Loading frame \" + np.string_(i) + \" of \" + np.string_(len(frameNames)))\n",
      "    sys.stdout.flush()"
     ],
     "language": "python",
     "metadata": {},
     "outputs": [
      {
       "output_type": "stream",
       "stream": "stdout",
       "text": [
        "(720, 1280, 3, 236)\n",
        "\r",
        "Loading frame 0 of 236"
       ]
      },
      {
       "output_type": "stream",
       "stream": "stdout",
       "text": [
        "\r",
        "Loading frame 1 of 236"
       ]
      },
      {
       "output_type": "stream",
       "stream": "stdout",
       "text": [
        "\r",
        "Loading frame 2 of 236"
       ]
      },
      {
       "output_type": "stream",
       "stream": "stdout",
       "text": [
        "\r",
        "Loading frame 3 of 236"
       ]
      },
      {
       "output_type": "stream",
       "stream": "stdout",
       "text": [
        "\r",
        "Loading frame 4 of 236"
       ]
      },
      {
       "output_type": "stream",
       "stream": "stdout",
       "text": [
        "\r",
        "Loading frame 5 of 236"
       ]
      },
      {
       "output_type": "stream",
       "stream": "stdout",
       "text": [
        "\r",
        "Loading frame 6 of 236"
       ]
      },
      {
       "output_type": "stream",
       "stream": "stdout",
       "text": [
        "\r",
        "Loading frame 7 of 236"
       ]
      },
      {
       "output_type": "stream",
       "stream": "stdout",
       "text": [
        "\r",
        "Loading frame 8 of 236"
       ]
      },
      {
       "output_type": "stream",
       "stream": "stdout",
       "text": [
        "\r",
        "Loading frame 9 of 236"
       ]
      },
      {
       "output_type": "stream",
       "stream": "stdout",
       "text": [
        "\r",
        "Loading frame 10 of 236"
       ]
      },
      {
       "output_type": "stream",
       "stream": "stdout",
       "text": [
        "\r",
        "Loading frame 11 of 236"
       ]
      },
      {
       "output_type": "stream",
       "stream": "stdout",
       "text": [
        "\r",
        "Loading frame 12 of 236"
       ]
      },
      {
       "output_type": "stream",
       "stream": "stdout",
       "text": [
        "\r",
        "Loading frame 13 of 236"
       ]
      },
      {
       "output_type": "stream",
       "stream": "stdout",
       "text": [
        "\r",
        "Loading frame 14 of 236"
       ]
      },
      {
       "output_type": "stream",
       "stream": "stdout",
       "text": [
        "\r",
        "Loading frame 15 of 236"
       ]
      },
      {
       "output_type": "stream",
       "stream": "stdout",
       "text": [
        "\r",
        "Loading frame 16 of 236"
       ]
      },
      {
       "output_type": "stream",
       "stream": "stdout",
       "text": [
        "\r",
        "Loading frame 17 of 236"
       ]
      },
      {
       "output_type": "stream",
       "stream": "stdout",
       "text": [
        "\r",
        "Loading frame 18 of 236"
       ]
      },
      {
       "output_type": "stream",
       "stream": "stdout",
       "text": [
        "\r",
        "Loading frame 19 of 236"
       ]
      },
      {
       "output_type": "stream",
       "stream": "stdout",
       "text": [
        "\r",
        "Loading frame 20 of 236"
       ]
      },
      {
       "output_type": "stream",
       "stream": "stdout",
       "text": [
        "\r",
        "Loading frame 21 of 236"
       ]
      },
      {
       "output_type": "stream",
       "stream": "stdout",
       "text": [
        "\r",
        "Loading frame 22 of 236"
       ]
      },
      {
       "output_type": "stream",
       "stream": "stdout",
       "text": [
        "\r",
        "Loading frame 23 of 236"
       ]
      },
      {
       "output_type": "stream",
       "stream": "stdout",
       "text": [
        "\r",
        "Loading frame 24 of 236"
       ]
      },
      {
       "output_type": "stream",
       "stream": "stdout",
       "text": [
        "\r",
        "Loading frame 25 of 236"
       ]
      },
      {
       "output_type": "stream",
       "stream": "stdout",
       "text": [
        "\r",
        "Loading frame 26 of 236"
       ]
      },
      {
       "output_type": "stream",
       "stream": "stdout",
       "text": [
        "\r",
        "Loading frame 27 of 236"
       ]
      },
      {
       "output_type": "stream",
       "stream": "stdout",
       "text": [
        "\r",
        "Loading frame 28 of 236"
       ]
      },
      {
       "output_type": "stream",
       "stream": "stdout",
       "text": [
        "\r",
        "Loading frame 29 of 236"
       ]
      },
      {
       "output_type": "stream",
       "stream": "stdout",
       "text": [
        "\r",
        "Loading frame 30 of 236"
       ]
      },
      {
       "output_type": "stream",
       "stream": "stdout",
       "text": [
        "\r",
        "Loading frame 31 of 236"
       ]
      },
      {
       "output_type": "stream",
       "stream": "stdout",
       "text": [
        "\r",
        "Loading frame 32 of 236"
       ]
      },
      {
       "output_type": "stream",
       "stream": "stdout",
       "text": [
        "\r",
        "Loading frame 33 of 236"
       ]
      },
      {
       "output_type": "stream",
       "stream": "stdout",
       "text": [
        "\r",
        "Loading frame 34 of 236"
       ]
      },
      {
       "output_type": "stream",
       "stream": "stdout",
       "text": [
        "\r",
        "Loading frame 35 of 236"
       ]
      },
      {
       "output_type": "stream",
       "stream": "stdout",
       "text": [
        "\r",
        "Loading frame 36 of 236"
       ]
      },
      {
       "output_type": "stream",
       "stream": "stdout",
       "text": [
        "\r",
        "Loading frame 37 of 236"
       ]
      },
      {
       "output_type": "stream",
       "stream": "stdout",
       "text": [
        "\r",
        "Loading frame 38 of 236"
       ]
      },
      {
       "output_type": "stream",
       "stream": "stdout",
       "text": [
        "\r",
        "Loading frame 39 of 236"
       ]
      },
      {
       "output_type": "stream",
       "stream": "stdout",
       "text": [
        "\r",
        "Loading frame 40 of 236"
       ]
      },
      {
       "output_type": "stream",
       "stream": "stdout",
       "text": [
        "\r",
        "Loading frame 41 of 236"
       ]
      },
      {
       "output_type": "stream",
       "stream": "stdout",
       "text": [
        "\r",
        "Loading frame 42 of 236"
       ]
      },
      {
       "output_type": "stream",
       "stream": "stdout",
       "text": [
        "\r",
        "Loading frame 43 of 236"
       ]
      },
      {
       "output_type": "stream",
       "stream": "stdout",
       "text": [
        "\r",
        "Loading frame 44 of 236"
       ]
      },
      {
       "output_type": "stream",
       "stream": "stdout",
       "text": [
        "\r",
        "Loading frame 45 of 236"
       ]
      },
      {
       "output_type": "stream",
       "stream": "stdout",
       "text": [
        "\r",
        "Loading frame 46 of 236"
       ]
      },
      {
       "output_type": "stream",
       "stream": "stdout",
       "text": [
        "\r",
        "Loading frame 47 of 236"
       ]
      },
      {
       "output_type": "stream",
       "stream": "stdout",
       "text": [
        "\r",
        "Loading frame 48 of 236"
       ]
      },
      {
       "output_type": "stream",
       "stream": "stdout",
       "text": [
        "\r",
        "Loading frame 49 of 236"
       ]
      },
      {
       "output_type": "stream",
       "stream": "stdout",
       "text": [
        "\r",
        "Loading frame 50 of 236"
       ]
      },
      {
       "output_type": "stream",
       "stream": "stdout",
       "text": [
        "\r",
        "Loading frame 51 of 236"
       ]
      },
      {
       "output_type": "stream",
       "stream": "stdout",
       "text": [
        "\r",
        "Loading frame 52 of 236"
       ]
      },
      {
       "output_type": "stream",
       "stream": "stdout",
       "text": [
        "\r",
        "Loading frame 53 of 236"
       ]
      },
      {
       "output_type": "stream",
       "stream": "stdout",
       "text": [
        "\r",
        "Loading frame 54 of 236"
       ]
      },
      {
       "output_type": "stream",
       "stream": "stdout",
       "text": [
        "\r",
        "Loading frame 55 of 236"
       ]
      },
      {
       "output_type": "stream",
       "stream": "stdout",
       "text": [
        "\r",
        "Loading frame 56 of 236"
       ]
      },
      {
       "output_type": "stream",
       "stream": "stdout",
       "text": [
        "\r",
        "Loading frame 57 of 236"
       ]
      },
      {
       "output_type": "stream",
       "stream": "stdout",
       "text": [
        "\r",
        "Loading frame 58 of 236"
       ]
      },
      {
       "output_type": "stream",
       "stream": "stdout",
       "text": [
        "\r",
        "Loading frame 59 of 236"
       ]
      },
      {
       "output_type": "stream",
       "stream": "stdout",
       "text": [
        "\r",
        "Loading frame 60 of 236"
       ]
      },
      {
       "output_type": "stream",
       "stream": "stdout",
       "text": [
        "\r",
        "Loading frame 61 of 236"
       ]
      },
      {
       "output_type": "stream",
       "stream": "stdout",
       "text": [
        "\r",
        "Loading frame 62 of 236"
       ]
      },
      {
       "output_type": "stream",
       "stream": "stdout",
       "text": [
        "\r",
        "Loading frame 63 of 236"
       ]
      },
      {
       "output_type": "stream",
       "stream": "stdout",
       "text": [
        "\r",
        "Loading frame 64 of 236"
       ]
      },
      {
       "output_type": "stream",
       "stream": "stdout",
       "text": [
        "\r",
        "Loading frame 65 of 236"
       ]
      },
      {
       "output_type": "stream",
       "stream": "stdout",
       "text": [
        "\r",
        "Loading frame 66 of 236"
       ]
      },
      {
       "output_type": "stream",
       "stream": "stdout",
       "text": [
        "\r",
        "Loading frame 67 of 236"
       ]
      },
      {
       "output_type": "stream",
       "stream": "stdout",
       "text": [
        "\r",
        "Loading frame 68 of 236"
       ]
      },
      {
       "output_type": "stream",
       "stream": "stdout",
       "text": [
        "\r",
        "Loading frame 69 of 236"
       ]
      },
      {
       "output_type": "stream",
       "stream": "stdout",
       "text": [
        "\r",
        "Loading frame 70 of 236"
       ]
      },
      {
       "output_type": "stream",
       "stream": "stdout",
       "text": [
        "\r",
        "Loading frame 71 of 236"
       ]
      },
      {
       "output_type": "stream",
       "stream": "stdout",
       "text": [
        "\r",
        "Loading frame 72 of 236"
       ]
      },
      {
       "output_type": "stream",
       "stream": "stdout",
       "text": [
        "\r",
        "Loading frame 73 of 236"
       ]
      },
      {
       "output_type": "stream",
       "stream": "stdout",
       "text": [
        "\r",
        "Loading frame 74 of 236"
       ]
      },
      {
       "output_type": "stream",
       "stream": "stdout",
       "text": [
        "\r",
        "Loading frame 75 of 236"
       ]
      },
      {
       "output_type": "stream",
       "stream": "stdout",
       "text": [
        "\r",
        "Loading frame 76 of 236"
       ]
      },
      {
       "output_type": "stream",
       "stream": "stdout",
       "text": [
        "\r",
        "Loading frame 77 of 236"
       ]
      },
      {
       "output_type": "stream",
       "stream": "stdout",
       "text": [
        "\r",
        "Loading frame 78 of 236"
       ]
      },
      {
       "output_type": "stream",
       "stream": "stdout",
       "text": [
        "\r",
        "Loading frame 79 of 236"
       ]
      },
      {
       "output_type": "stream",
       "stream": "stdout",
       "text": [
        "\r",
        "Loading frame 80 of 236"
       ]
      },
      {
       "output_type": "stream",
       "stream": "stdout",
       "text": [
        "\r",
        "Loading frame 81 of 236"
       ]
      },
      {
       "output_type": "stream",
       "stream": "stdout",
       "text": [
        "\r",
        "Loading frame 82 of 236"
       ]
      },
      {
       "output_type": "stream",
       "stream": "stdout",
       "text": [
        "\r",
        "Loading frame 83 of 236"
       ]
      },
      {
       "output_type": "stream",
       "stream": "stdout",
       "text": [
        "\r",
        "Loading frame 84 of 236"
       ]
      },
      {
       "output_type": "stream",
       "stream": "stdout",
       "text": [
        "\r",
        "Loading frame 85 of 236"
       ]
      },
      {
       "output_type": "stream",
       "stream": "stdout",
       "text": [
        "\r",
        "Loading frame 86 of 236"
       ]
      },
      {
       "output_type": "stream",
       "stream": "stdout",
       "text": [
        "\r",
        "Loading frame 87 of 236"
       ]
      },
      {
       "output_type": "stream",
       "stream": "stdout",
       "text": [
        "\r",
        "Loading frame 88 of 236"
       ]
      },
      {
       "output_type": "stream",
       "stream": "stdout",
       "text": [
        "\r",
        "Loading frame 89 of 236"
       ]
      },
      {
       "output_type": "stream",
       "stream": "stdout",
       "text": [
        "\r",
        "Loading frame 90 of 236"
       ]
      },
      {
       "output_type": "stream",
       "stream": "stdout",
       "text": [
        "\r",
        "Loading frame 91 of 236"
       ]
      },
      {
       "output_type": "stream",
       "stream": "stdout",
       "text": [
        "\r",
        "Loading frame 92 of 236"
       ]
      },
      {
       "output_type": "stream",
       "stream": "stdout",
       "text": [
        "\r",
        "Loading frame 93 of 236"
       ]
      },
      {
       "output_type": "stream",
       "stream": "stdout",
       "text": [
        "\r",
        "Loading frame 94 of 236"
       ]
      },
      {
       "output_type": "stream",
       "stream": "stdout",
       "text": [
        "\r",
        "Loading frame 95 of 236"
       ]
      },
      {
       "output_type": "stream",
       "stream": "stdout",
       "text": [
        "\r",
        "Loading frame 96 of 236"
       ]
      },
      {
       "output_type": "stream",
       "stream": "stdout",
       "text": [
        "\r",
        "Loading frame 97 of 236"
       ]
      },
      {
       "output_type": "stream",
       "stream": "stdout",
       "text": [
        "\r",
        "Loading frame 98 of 236"
       ]
      },
      {
       "output_type": "stream",
       "stream": "stdout",
       "text": [
        "\r",
        "Loading frame 99 of 236"
       ]
      },
      {
       "output_type": "stream",
       "stream": "stdout",
       "text": [
        "\r",
        "Loading frame 100 of 236"
       ]
      },
      {
       "output_type": "stream",
       "stream": "stdout",
       "text": [
        "\r",
        "Loading frame 101 of 236"
       ]
      },
      {
       "output_type": "stream",
       "stream": "stdout",
       "text": [
        "\r",
        "Loading frame 102 of 236"
       ]
      },
      {
       "output_type": "stream",
       "stream": "stdout",
       "text": [
        "\r",
        "Loading frame 103 of 236"
       ]
      },
      {
       "output_type": "stream",
       "stream": "stdout",
       "text": [
        "\r",
        "Loading frame 104 of 236"
       ]
      },
      {
       "output_type": "stream",
       "stream": "stdout",
       "text": [
        "\r",
        "Loading frame 105 of 236"
       ]
      },
      {
       "output_type": "stream",
       "stream": "stdout",
       "text": [
        "\r",
        "Loading frame 106 of 236"
       ]
      },
      {
       "output_type": "stream",
       "stream": "stdout",
       "text": [
        "\r",
        "Loading frame 107 of 236"
       ]
      },
      {
       "output_type": "stream",
       "stream": "stdout",
       "text": [
        "\r",
        "Loading frame 108 of 236"
       ]
      },
      {
       "output_type": "stream",
       "stream": "stdout",
       "text": [
        "\r",
        "Loading frame 109 of 236"
       ]
      },
      {
       "output_type": "stream",
       "stream": "stdout",
       "text": [
        "\r",
        "Loading frame 110 of 236"
       ]
      },
      {
       "output_type": "stream",
       "stream": "stdout",
       "text": [
        "\r",
        "Loading frame 111 of 236"
       ]
      },
      {
       "output_type": "stream",
       "stream": "stdout",
       "text": [
        "\r",
        "Loading frame 112 of 236"
       ]
      },
      {
       "output_type": "stream",
       "stream": "stdout",
       "text": [
        "\r",
        "Loading frame 113 of 236"
       ]
      },
      {
       "output_type": "stream",
       "stream": "stdout",
       "text": [
        "\r",
        "Loading frame 114 of 236"
       ]
      },
      {
       "output_type": "stream",
       "stream": "stdout",
       "text": [
        "\r",
        "Loading frame 115 of 236"
       ]
      },
      {
       "output_type": "stream",
       "stream": "stdout",
       "text": [
        "\r",
        "Loading frame 116 of 236"
       ]
      },
      {
       "output_type": "stream",
       "stream": "stdout",
       "text": [
        "\r",
        "Loading frame 117 of 236"
       ]
      },
      {
       "output_type": "stream",
       "stream": "stdout",
       "text": [
        "\r",
        "Loading frame 118 of 236"
       ]
      },
      {
       "output_type": "stream",
       "stream": "stdout",
       "text": [
        "\r",
        "Loading frame 119 of 236"
       ]
      },
      {
       "output_type": "stream",
       "stream": "stdout",
       "text": [
        "\r",
        "Loading frame 120 of 236"
       ]
      },
      {
       "output_type": "stream",
       "stream": "stdout",
       "text": [
        "\r",
        "Loading frame 121 of 236"
       ]
      },
      {
       "output_type": "stream",
       "stream": "stdout",
       "text": [
        "\r",
        "Loading frame 122 of 236"
       ]
      },
      {
       "output_type": "stream",
       "stream": "stdout",
       "text": [
        "\r",
        "Loading frame 123 of 236"
       ]
      },
      {
       "output_type": "stream",
       "stream": "stdout",
       "text": [
        "\r",
        "Loading frame 124 of 236"
       ]
      },
      {
       "output_type": "stream",
       "stream": "stdout",
       "text": [
        "\r",
        "Loading frame 125 of 236"
       ]
      },
      {
       "output_type": "stream",
       "stream": "stdout",
       "text": [
        "\r",
        "Loading frame 126 of 236"
       ]
      },
      {
       "output_type": "stream",
       "stream": "stdout",
       "text": [
        "\r",
        "Loading frame 127 of 236"
       ]
      },
      {
       "output_type": "stream",
       "stream": "stdout",
       "text": [
        "\r",
        "Loading frame 128 of 236"
       ]
      },
      {
       "output_type": "stream",
       "stream": "stdout",
       "text": [
        "\r",
        "Loading frame 129 of 236"
       ]
      },
      {
       "output_type": "stream",
       "stream": "stdout",
       "text": [
        "\r",
        "Loading frame 130 of 236"
       ]
      },
      {
       "output_type": "stream",
       "stream": "stdout",
       "text": [
        "\r",
        "Loading frame 131 of 236"
       ]
      },
      {
       "output_type": "stream",
       "stream": "stdout",
       "text": [
        "\r",
        "Loading frame 132 of 236"
       ]
      },
      {
       "output_type": "stream",
       "stream": "stdout",
       "text": [
        "\r",
        "Loading frame 133 of 236"
       ]
      },
      {
       "output_type": "stream",
       "stream": "stdout",
       "text": [
        "\r",
        "Loading frame 134 of 236"
       ]
      },
      {
       "output_type": "stream",
       "stream": "stdout",
       "text": [
        "\r",
        "Loading frame 135 of 236"
       ]
      },
      {
       "output_type": "stream",
       "stream": "stdout",
       "text": [
        "\r",
        "Loading frame 136 of 236"
       ]
      },
      {
       "output_type": "stream",
       "stream": "stdout",
       "text": [
        "\r",
        "Loading frame 137 of 236"
       ]
      },
      {
       "output_type": "stream",
       "stream": "stdout",
       "text": [
        "\r",
        "Loading frame 138 of 236"
       ]
      },
      {
       "output_type": "stream",
       "stream": "stdout",
       "text": [
        "\r",
        "Loading frame 139 of 236"
       ]
      },
      {
       "output_type": "stream",
       "stream": "stdout",
       "text": [
        "\r",
        "Loading frame 140 of 236"
       ]
      },
      {
       "output_type": "stream",
       "stream": "stdout",
       "text": [
        "\r",
        "Loading frame 141 of 236"
       ]
      },
      {
       "output_type": "stream",
       "stream": "stdout",
       "text": [
        "\r",
        "Loading frame 142 of 236"
       ]
      },
      {
       "output_type": "stream",
       "stream": "stdout",
       "text": [
        "\r",
        "Loading frame 143 of 236"
       ]
      },
      {
       "output_type": "stream",
       "stream": "stdout",
       "text": [
        "\r",
        "Loading frame 144 of 236"
       ]
      },
      {
       "output_type": "stream",
       "stream": "stdout",
       "text": [
        "\r",
        "Loading frame 145 of 236"
       ]
      },
      {
       "output_type": "stream",
       "stream": "stdout",
       "text": [
        "\r",
        "Loading frame 146 of 236"
       ]
      },
      {
       "output_type": "stream",
       "stream": "stdout",
       "text": [
        "\r",
        "Loading frame 147 of 236"
       ]
      },
      {
       "output_type": "stream",
       "stream": "stdout",
       "text": [
        "\r",
        "Loading frame 148 of 236"
       ]
      },
      {
       "output_type": "stream",
       "stream": "stdout",
       "text": [
        "\r",
        "Loading frame 149 of 236"
       ]
      },
      {
       "output_type": "stream",
       "stream": "stdout",
       "text": [
        "\r",
        "Loading frame 150 of 236"
       ]
      },
      {
       "output_type": "stream",
       "stream": "stdout",
       "text": [
        "\r",
        "Loading frame 151 of 236"
       ]
      },
      {
       "output_type": "stream",
       "stream": "stdout",
       "text": [
        "\r",
        "Loading frame 152 of 236"
       ]
      },
      {
       "output_type": "stream",
       "stream": "stdout",
       "text": [
        "\r",
        "Loading frame 153 of 236"
       ]
      },
      {
       "output_type": "stream",
       "stream": "stdout",
       "text": [
        "\r",
        "Loading frame 154 of 236"
       ]
      },
      {
       "output_type": "stream",
       "stream": "stdout",
       "text": [
        "\r",
        "Loading frame 155 of 236"
       ]
      },
      {
       "output_type": "stream",
       "stream": "stdout",
       "text": [
        "\r",
        "Loading frame 156 of 236"
       ]
      },
      {
       "output_type": "stream",
       "stream": "stdout",
       "text": [
        "\r",
        "Loading frame 157 of 236"
       ]
      },
      {
       "output_type": "stream",
       "stream": "stdout",
       "text": [
        "\r",
        "Loading frame 158 of 236"
       ]
      },
      {
       "output_type": "stream",
       "stream": "stdout",
       "text": [
        "\r",
        "Loading frame 159 of 236"
       ]
      },
      {
       "output_type": "stream",
       "stream": "stdout",
       "text": [
        "\r",
        "Loading frame 160 of 236"
       ]
      },
      {
       "output_type": "stream",
       "stream": "stdout",
       "text": [
        "\r",
        "Loading frame 161 of 236"
       ]
      },
      {
       "output_type": "stream",
       "stream": "stdout",
       "text": [
        "\r",
        "Loading frame 162 of 236"
       ]
      },
      {
       "output_type": "stream",
       "stream": "stdout",
       "text": [
        "\r",
        "Loading frame 163 of 236"
       ]
      },
      {
       "output_type": "stream",
       "stream": "stdout",
       "text": [
        "\r",
        "Loading frame 164 of 236"
       ]
      },
      {
       "output_type": "stream",
       "stream": "stdout",
       "text": [
        "\r",
        "Loading frame 165 of 236"
       ]
      },
      {
       "output_type": "stream",
       "stream": "stdout",
       "text": [
        "\r",
        "Loading frame 166 of 236"
       ]
      },
      {
       "output_type": "stream",
       "stream": "stdout",
       "text": [
        "\r",
        "Loading frame 167 of 236"
       ]
      },
      {
       "output_type": "stream",
       "stream": "stdout",
       "text": [
        "\r",
        "Loading frame 168 of 236"
       ]
      },
      {
       "output_type": "stream",
       "stream": "stdout",
       "text": [
        "\r",
        "Loading frame 169 of 236"
       ]
      },
      {
       "output_type": "stream",
       "stream": "stdout",
       "text": [
        "\r",
        "Loading frame 170 of 236"
       ]
      },
      {
       "output_type": "stream",
       "stream": "stdout",
       "text": [
        "\r",
        "Loading frame 171 of 236"
       ]
      },
      {
       "output_type": "stream",
       "stream": "stdout",
       "text": [
        "\r",
        "Loading frame 172 of 236"
       ]
      },
      {
       "output_type": "stream",
       "stream": "stdout",
       "text": [
        "\r",
        "Loading frame 173 of 236"
       ]
      },
      {
       "output_type": "stream",
       "stream": "stdout",
       "text": [
        "\r",
        "Loading frame 174 of 236"
       ]
      },
      {
       "output_type": "stream",
       "stream": "stdout",
       "text": [
        "\r",
        "Loading frame 175 of 236"
       ]
      },
      {
       "output_type": "stream",
       "stream": "stdout",
       "text": [
        "\r",
        "Loading frame 176 of 236"
       ]
      },
      {
       "output_type": "stream",
       "stream": "stdout",
       "text": [
        "\r",
        "Loading frame 177 of 236"
       ]
      },
      {
       "output_type": "stream",
       "stream": "stdout",
       "text": [
        "\r",
        "Loading frame 178 of 236"
       ]
      },
      {
       "output_type": "stream",
       "stream": "stdout",
       "text": [
        "\r",
        "Loading frame 179 of 236"
       ]
      },
      {
       "output_type": "stream",
       "stream": "stdout",
       "text": [
        "\r",
        "Loading frame 180 of 236"
       ]
      },
      {
       "output_type": "stream",
       "stream": "stdout",
       "text": [
        "\r",
        "Loading frame 181 of 236"
       ]
      },
      {
       "output_type": "stream",
       "stream": "stdout",
       "text": [
        "\r",
        "Loading frame 182 of 236"
       ]
      },
      {
       "output_type": "stream",
       "stream": "stdout",
       "text": [
        "\r",
        "Loading frame 183 of 236"
       ]
      },
      {
       "output_type": "stream",
       "stream": "stdout",
       "text": [
        "\r",
        "Loading frame 184 of 236"
       ]
      },
      {
       "output_type": "stream",
       "stream": "stdout",
       "text": [
        "\r",
        "Loading frame 185 of 236"
       ]
      },
      {
       "output_type": "stream",
       "stream": "stdout",
       "text": [
        "\r",
        "Loading frame 186 of 236"
       ]
      },
      {
       "output_type": "stream",
       "stream": "stdout",
       "text": [
        "\r",
        "Loading frame 187 of 236"
       ]
      },
      {
       "output_type": "stream",
       "stream": "stdout",
       "text": [
        "\r",
        "Loading frame 188 of 236"
       ]
      },
      {
       "output_type": "stream",
       "stream": "stdout",
       "text": [
        "\r",
        "Loading frame 189 of 236"
       ]
      },
      {
       "output_type": "stream",
       "stream": "stdout",
       "text": [
        "\r",
        "Loading frame 190 of 236"
       ]
      },
      {
       "output_type": "stream",
       "stream": "stdout",
       "text": [
        "\r",
        "Loading frame 191 of 236"
       ]
      },
      {
       "output_type": "stream",
       "stream": "stdout",
       "text": [
        "\r",
        "Loading frame 192 of 236"
       ]
      },
      {
       "output_type": "stream",
       "stream": "stdout",
       "text": [
        "\r",
        "Loading frame 193 of 236"
       ]
      },
      {
       "output_type": "stream",
       "stream": "stdout",
       "text": [
        "\r",
        "Loading frame 194 of 236"
       ]
      },
      {
       "output_type": "stream",
       "stream": "stdout",
       "text": [
        "\r",
        "Loading frame 195 of 236"
       ]
      },
      {
       "output_type": "stream",
       "stream": "stdout",
       "text": [
        "\r",
        "Loading frame 196 of 236"
       ]
      },
      {
       "output_type": "stream",
       "stream": "stdout",
       "text": [
        "\r",
        "Loading frame 197 of 236"
       ]
      },
      {
       "output_type": "stream",
       "stream": "stdout",
       "text": [
        "\r",
        "Loading frame 198 of 236"
       ]
      },
      {
       "output_type": "stream",
       "stream": "stdout",
       "text": [
        "\r",
        "Loading frame 199 of 236"
       ]
      },
      {
       "output_type": "stream",
       "stream": "stdout",
       "text": [
        "\r",
        "Loading frame 200 of 236"
       ]
      },
      {
       "output_type": "stream",
       "stream": "stdout",
       "text": [
        "\r",
        "Loading frame 201 of 236"
       ]
      },
      {
       "output_type": "stream",
       "stream": "stdout",
       "text": [
        "\r",
        "Loading frame 202 of 236"
       ]
      },
      {
       "output_type": "stream",
       "stream": "stdout",
       "text": [
        "\r",
        "Loading frame 203 of 236"
       ]
      },
      {
       "output_type": "stream",
       "stream": "stdout",
       "text": [
        "\r",
        "Loading frame 204 of 236"
       ]
      },
      {
       "output_type": "stream",
       "stream": "stdout",
       "text": [
        "\r",
        "Loading frame 205 of 236"
       ]
      },
      {
       "output_type": "stream",
       "stream": "stdout",
       "text": [
        "\r",
        "Loading frame 206 of 236"
       ]
      },
      {
       "output_type": "stream",
       "stream": "stdout",
       "text": [
        "\r",
        "Loading frame 207 of 236"
       ]
      },
      {
       "output_type": "stream",
       "stream": "stdout",
       "text": [
        "\r",
        "Loading frame 208 of 236"
       ]
      },
      {
       "output_type": "stream",
       "stream": "stdout",
       "text": [
        "\r",
        "Loading frame 209 of 236"
       ]
      },
      {
       "output_type": "stream",
       "stream": "stdout",
       "text": [
        "\r",
        "Loading frame 210 of 236"
       ]
      },
      {
       "output_type": "stream",
       "stream": "stdout",
       "text": [
        "\r",
        "Loading frame 211 of 236"
       ]
      },
      {
       "output_type": "stream",
       "stream": "stdout",
       "text": [
        "\r",
        "Loading frame 212 of 236"
       ]
      },
      {
       "output_type": "stream",
       "stream": "stdout",
       "text": [
        "\r",
        "Loading frame 213 of 236"
       ]
      },
      {
       "output_type": "stream",
       "stream": "stdout",
       "text": [
        "\r",
        "Loading frame 214 of 236"
       ]
      },
      {
       "output_type": "stream",
       "stream": "stdout",
       "text": [
        "\r",
        "Loading frame 215 of 236"
       ]
      },
      {
       "output_type": "stream",
       "stream": "stdout",
       "text": [
        "\r",
        "Loading frame 216 of 236"
       ]
      },
      {
       "output_type": "stream",
       "stream": "stdout",
       "text": [
        "\r",
        "Loading frame 217 of 236"
       ]
      },
      {
       "output_type": "stream",
       "stream": "stdout",
       "text": [
        "\r",
        "Loading frame 218 of 236"
       ]
      },
      {
       "output_type": "stream",
       "stream": "stdout",
       "text": [
        "\r",
        "Loading frame 219 of 236"
       ]
      },
      {
       "output_type": "stream",
       "stream": "stdout",
       "text": [
        "\r",
        "Loading frame 220 of 236"
       ]
      },
      {
       "output_type": "stream",
       "stream": "stdout",
       "text": [
        "\r",
        "Loading frame 221 of 236"
       ]
      },
      {
       "output_type": "stream",
       "stream": "stdout",
       "text": [
        "\r",
        "Loading frame 222 of 236"
       ]
      },
      {
       "output_type": "stream",
       "stream": "stdout",
       "text": [
        "\r",
        "Loading frame 223 of 236"
       ]
      },
      {
       "output_type": "stream",
       "stream": "stdout",
       "text": [
        "\r",
        "Loading frame 224 of 236"
       ]
      },
      {
       "output_type": "stream",
       "stream": "stdout",
       "text": [
        "\r",
        "Loading frame 225 of 236"
       ]
      },
      {
       "output_type": "stream",
       "stream": "stdout",
       "text": [
        "\r",
        "Loading frame 226 of 236"
       ]
      },
      {
       "output_type": "stream",
       "stream": "stdout",
       "text": [
        "\r",
        "Loading frame 227 of 236"
       ]
      },
      {
       "output_type": "stream",
       "stream": "stdout",
       "text": [
        "\r",
        "Loading frame 228 of 236"
       ]
      },
      {
       "output_type": "stream",
       "stream": "stdout",
       "text": [
        "\r",
        "Loading frame 229 of 236"
       ]
      },
      {
       "output_type": "stream",
       "stream": "stdout",
       "text": [
        "\r",
        "Loading frame 230 of 236"
       ]
      },
      {
       "output_type": "stream",
       "stream": "stdout",
       "text": [
        "\r",
        "Loading frame 231 of 236"
       ]
      },
      {
       "output_type": "stream",
       "stream": "stdout",
       "text": [
        "\r",
        "Loading frame 232 of 236"
       ]
      },
      {
       "output_type": "stream",
       "stream": "stdout",
       "text": [
        "\r",
        "Loading frame 233 of 236"
       ]
      },
      {
       "output_type": "stream",
       "stream": "stdout",
       "text": [
        "\r",
        "Loading frame 234 of 236"
       ]
      },
      {
       "output_type": "stream",
       "stream": "stdout",
       "text": [
        "\r",
        "Loading frame 235 of 236"
       ]
      }
     ],
     "prompt_number": 5
    },
    {
     "cell_type": "code",
     "collapsed": false,
     "input": [
      "close('all')\n",
      "## show first image and let user draw some points\n",
      "fig = plt.figure()\n",
      "ax = fig.add_subplot(111)\n",
      "firstFrame = cv2.cvtColor(movie[:, :, :, 0], cv2.COLOR_BGR2RGB)\n",
      "ax.imshow(firstFrame)\n",
      "ax.set_autoscale_on(False)\n",
      "# ax.set_xlim(firstFrame.shape[1])\n",
      "# ax.set_ylim(firstFrame.shape[0])\n",
      "\n",
      "userPoints = list()\n",
      "line, = ax.plot(0, 0, color='b', lw=4.0)\n",
      "buttonClicked = False\n",
      "\n",
      "def onclick(event):\n",
      "    global buttonClicked\n",
      "    global userPoints\n",
      "    if event.button == 1 :\n",
      "        buttonClicked = True\n",
      "        userPoints = list()\n",
      "        userPoints.append(np.array([event.xdata, event.ydata]))\n",
      "\n",
      "def onmove(event):\n",
      "    global buttonClicked\n",
      "    global userPoints\n",
      "    global line\n",
      "    if buttonClicked == True :\n",
      "        userPoints.append(np.array([event.xdata, event.ydata]))\n",
      "        line.set_ydata(np.array(userPoints)[:, 1])\n",
      "        line.set_xdata(np.array(userPoints)[:, 0])\n",
      "        draw()\n",
      "        \n",
      "def onrelease(event):\n",
      "    global buttonClicked\n",
      "    global userPoints\n",
      "    global line\n",
      "    if buttonClicked == True and event.button == 1 :\n",
      "        buttonClicked = False\n",
      "        userPoints.append(np.array([event.xdata, event.ydata]))\n",
      "        line.set_ydata(np.array(userPoints)[:, 1])\n",
      "        line.set_xdata(np.array(userPoints)[:, 0])\n",
      "        draw()\n",
      "    \n",
      "cid = fig.canvas.mpl_connect('button_press_event', onclick)\n",
      "cid = fig.canvas.mpl_connect('motion_notify_event', onmove)\n",
      "cid = fig.canvas.mpl_connect('button_release_event', onrelease)"
     ],
     "language": "python",
     "metadata": {},
     "outputs": [],
     "prompt_number": 6
    },
    {
     "cell_type": "code",
     "collapsed": false,
     "input": [
      "## find bestFitLine that best fits user given points and that will be the skeleton --> one line for now\n",
      "userPoints = np.round(np.array(userPoints))\n",
      "line = msu.fitLine2D(userPoints)\n",
      "## project first and last userPoint onto line\n",
      "u = line[0:2]\n",
      "a = line[2:4]\n",
      "\n",
      "## first row is first point, second row is last point (project first and last user points onto fitted line)\n",
      "bestFitLine = ((np.dot(userPoints[[0, -1], :], u)/np.dot(u, u))*np.reshape(u, [len(u), 1])).T\n",
      "\n",
      "## normalized vector from projected point to user point is line normal\n",
      "lineNormal = (bestFitLine[0, :]-userPoints[0, :])/np.linalg.norm(bestFitLine[0, :]-userPoints[0, :])\n",
      "## the fitted line is moved along normal by a certain scalar (i.e. distanceToLine)\n",
      "distanceToLine = np.linalg.norm(a - bestFitLine[0, :] - np.dot(np.dot(a-bestFitLine[0, :], u), u))\n",
      "## correct for that certain scalar found above\n",
      "bestFitLine =  bestFitLine - distanceToLine*lineNormal\n",
      "\n",
      "## show\n",
      "fig = plt.figure()\n",
      "ax = fig.add_subplot(111)\n",
      "ax.imshow(firstFrame)\n",
      "ax.set_autoscale_on(False)\n",
      "ax.plot(userPoints[:, 0], userPoints[:, 1], color=\"b\") ## plot user points\n",
      "ax.plot(bestFitLine[:, 0],bestFitLine[:, 1], color=\"g\") ## plot fitted line segment\n",
      "\n",
      "\n",
      "# print userPoints"
     ],
     "language": "python",
     "metadata": {},
     "outputs": [
      {
       "metadata": {},
       "output_type": "pyout",
       "prompt_number": 7,
       "text": [
        "[<matplotlib.lines.Line2D at 0x7f658c5e1c50>]"
       ]
      }
     ],
     "prompt_number": 7
    },
    {
     "cell_type": "code",
     "collapsed": false,
     "input": [
      "## compute canny edge for first frame\n",
      "frame = cv2.cvtColor(movie[:, :, :, 0],cv2.COLOR_BGR2GRAY)\n",
      "\n",
      "edges = cv2.Canny(frame, 100, 200)\n",
      "edges = edges/np.max(edges)\n",
      "\n",
      "figure(); imshow(edges, interpolation='nearest')\n",
      "\n",
      "# dilEdges1 = sp.ndimage.morphology.binary_dilation(edges1, iterations=5)\n",
      "# dilEdges2 = sp.ndimage.morphology.binary_dilation(edges2, iterations=5)\n",
      "\n",
      "discreteLine = discretizeLine(bestFitLine)\n",
      "distanceMatrix = np.ones(firstFrame.shape[0:-1], dtype=np.uint)\n",
      "distanceMatrix[discreteLine[:, 1], discreteLine[:, 0]] = 0\n",
      "distanceMatrix = ndimage.distance_transform_edt(distanceMatrix)\n",
      "\n",
      "figure(); imshow(distanceMatrix*edges, interpolation='nearest')"
     ],
     "language": "python",
     "metadata": {},
     "outputs": [
      {
       "metadata": {},
       "output_type": "pyout",
       "prompt_number": 8,
       "text": [
        "<matplotlib.image.AxesImage at 0x7f658c399250>"
       ]
      }
     ],
     "prompt_number": 8
    },
    {
     "cell_type": "code",
     "collapsed": false,
     "input": [
      "## now check for each discrete point on line segment what's the closest canny edge in both positive and negative half space\n",
      "\n",
      "posHalfSpaceClosestEdges = np.zeros_like(discreteLine)\n",
      "negHalfSpaceClosestEdges = np.zeros_like(discreteLine)\n",
      "\n",
      "positiveMask = positiveHalfspaceMask(np.vstack((discreteLine[0, :], discreteLine[-1, :])), firstFrame.shape[0:2], True)\n",
      "figure(); imshow(positiveMask, interpolation='nearest')\n",
      "\n",
      "dCoords = discreteLine[0, :] - discreteLine[-1, :] ## delta coordinates, dX and dY\n",
      "discreteNormals = np.array([[-dCoords[1], dCoords[0]],[dCoords[1], -dCoords[0]]])\n",
      "\n",
      "fig = plt.figure(figsize=(10, 10))\n",
      "\n",
      "ax = fig.add_subplot(111)\n",
      "ax.set_xlabel('X')\n",
      "ax.set_ylabel('Y')\n",
      "ax.imshow(distanceMatrix*edges, interpolation='nearest')\n",
      "\n",
      "ax.plot(bestFitLine[:, 0], bestFitLine[:, 1], c='r')\n",
      "\n",
      "for i in xrange(0, len(discreteLine)) :\n",
      "    currentPoint = discreteLine[i, :]\n",
      "    sys.stdout.write('\\r' + \"Processing point \" + np.string_(i) + \" of \" + np.string_(len(discreteLine)) + \" at \" + np.string_(currentPoint))\n",
      "    sys.stdout.flush()\n",
      "    splitPoints = findSplitSegment(np.hstack((discreteNormals[0, :], currentPoint)), [firstFrame.shape[0]-1,firstFrame.shape[1]-1])\n",
      "    seg = np.vstack((splitPoints[0, :], splitPoints[1, :]))\n",
      "    dSeg = discretizeLine(seg)\n",
      "    \n",
      "    mask = np.zeros(firstFrame.shape[0:-1], dtype=np.uint)\n",
      "    mask[dSeg[:, 1], dSeg[:, 0]] = 1\n",
      "    \n",
      "    filteredDistMat = distanceMatrix*edges*mask*positiveMask\n",
      "    posHalfSpaceClosestEdges[i, :] = np.argwhere(filteredDistMat == np.min(filteredDistMat[np.where(filteredDistMat > 0)]))[0]\n",
      "    \n",
      "    filteredDistMat = distanceMatrix*edges*mask*(1-positiveMask)\n",
      "    negHalfSpaceClosestEdges[i, :] = np.argwhere(filteredDistMat == np.min(filteredDistMat[np.where(filteredDistMat > 0)]))[0]\n",
      "    \n",
      "    ax.scatter(splitPoints[:, 0], splitPoints[:, 1], c='r')\n",
      "    draw()\n",
      "\n",
      "ax.scatter(negHalfSpaceClosestEdges[:, 1], negHalfSpaceClosestEdges[:, 0], c='y')\n",
      "\n",
      "ax.scatter(posHalfSpaceClosestEdges[:, 1], posHalfSpaceClosestEdges[:, 0], c='g')\n",
      "draw()"
     ],
     "language": "python",
     "metadata": {},
     "outputs": [
      {
       "output_type": "stream",
       "stream": "stdout",
       "text": [
        "\r",
        "Processing point 0 of 412 at [512 302]"
       ]
      },
      {
       "output_type": "stream",
       "stream": "stdout",
       "text": [
        "\r",
        "Processing point 1 of 412 at [512 303]"
       ]
      },
      {
       "output_type": "stream",
       "stream": "stdout",
       "text": [
        "\r",
        "Processing point 2 of 412 at [513 304]"
       ]
      },
      {
       "output_type": "stream",
       "stream": "stdout",
       "text": [
        "\r",
        "Processing point 3 of 412 at [513 305]"
       ]
      },
      {
       "output_type": "stream",
       "stream": "stdout",
       "text": [
        "\r",
        "Processing point 4 of 412 at [514 305]"
       ]
      },
      {
       "output_type": "stream",
       "stream": "stdout",
       "text": [
        "\r",
        "Processing point 5 of 412 at [514 306]"
       ]
      },
      {
       "output_type": "stream",
       "stream": "stdout",
       "text": [
        "\r",
        "Processing point 6 of 412 at [515 307]"
       ]
      },
      {
       "output_type": "stream",
       "stream": "stdout",
       "text": [
        "\r",
        "Processing point 7 of 412 at [515 308]"
       ]
      },
      {
       "output_type": "stream",
       "stream": "stdout",
       "text": [
        "\r",
        "Processing point 8 of 412 at [516 309]"
       ]
      },
      {
       "output_type": "stream",
       "stream": "stdout",
       "text": [
        "\r",
        "Processing point 9 of 412 at [516 310]"
       ]
      },
      {
       "output_type": "stream",
       "stream": "stdout",
       "text": [
        "\r",
        "Processing point 10 of 412 at [517 311]"
       ]
      },
      {
       "output_type": "stream",
       "stream": "stdout",
       "text": [
        "\r",
        "Processing point 11 of 412 at [517 312]"
       ]
      },
      {
       "output_type": "stream",
       "stream": "stdout",
       "text": [
        "\r",
        "Processing point 12 of 412 at [518 312]"
       ]
      },
      {
       "output_type": "stream",
       "stream": "stdout",
       "text": [
        "\r",
        "Processing point 13 of 412 at [518 313]"
       ]
      },
      {
       "output_type": "stream",
       "stream": "stdout",
       "text": [
        "\r",
        "Processing point 14 of 412 at [519 314]"
       ]
      },
      {
       "output_type": "stream",
       "stream": "stdout",
       "text": [
        "\r",
        "Processing point 15 of 412 at [519 315]"
       ]
      },
      {
       "output_type": "stream",
       "stream": "stdout",
       "text": [
        "\r",
        "Processing point 16 of 412 at [520 316]"
       ]
      },
      {
       "output_type": "stream",
       "stream": "stdout",
       "text": [
        "\r",
        "Processing point 17 of 412 at [520 317]"
       ]
      },
      {
       "output_type": "stream",
       "stream": "stdout",
       "text": [
        "\r",
        "Processing point 18 of 412 at [521 318]"
       ]
      },
      {
       "output_type": "stream",
       "stream": "stdout",
       "text": [
        "\r",
        "Processing point 19 of 412 at [521 318]"
       ]
      },
      {
       "output_type": "stream",
       "stream": "stdout",
       "text": [
        "\r",
        "Processing point 20 of 412 at [522 319]"
       ]
      },
      {
       "output_type": "stream",
       "stream": "stdout",
       "text": [
        "\r",
        "Processing point 21 of 412 at [522 320]"
       ]
      },
      {
       "output_type": "stream",
       "stream": "stdout",
       "text": [
        "\r",
        "Processing point 22 of 412 at [523 321]"
       ]
      },
      {
       "output_type": "stream",
       "stream": "stdout",
       "text": [
        "\r",
        "Processing point 23 of 412 at [523 322]"
       ]
      },
      {
       "output_type": "stream",
       "stream": "stdout",
       "text": [
        "\r",
        "Processing point 24 of 412 at [524 323]"
       ]
      },
      {
       "output_type": "stream",
       "stream": "stdout",
       "text": [
        "\r",
        "Processing point 25 of 412 at [524 324]"
       ]
      },
      {
       "output_type": "stream",
       "stream": "stdout",
       "text": [
        "\r",
        "Processing point 26 of 412 at [525 325]"
       ]
      },
      {
       "output_type": "stream",
       "stream": "stdout",
       "text": [
        "\r",
        "Processing point 27 of 412 at [525 325]"
       ]
      },
      {
       "output_type": "stream",
       "stream": "stdout",
       "text": [
        "\r",
        "Processing point 28 of 412 at [526 326]"
       ]
      },
      {
       "output_type": "stream",
       "stream": "stdout",
       "text": [
        "\r",
        "Processing point 29 of 412 at [526 327]"
       ]
      },
      {
       "output_type": "stream",
       "stream": "stdout",
       "text": [
        "\r",
        "Processing point 30 of 412 at [527 328]"
       ]
      },
      {
       "output_type": "stream",
       "stream": "stdout",
       "text": [
        "\r",
        "Processing point 31 of 412 at [527 329]"
       ]
      },
      {
       "output_type": "stream",
       "stream": "stdout",
       "text": [
        "\r",
        "Processing point 32 of 412 at [528 330]"
       ]
      },
      {
       "output_type": "stream",
       "stream": "stdout",
       "text": [
        "\r",
        "Processing point 33 of 412 at [528 331]"
       ]
      },
      {
       "output_type": "stream",
       "stream": "stdout",
       "text": [
        "\r",
        "Processing point 34 of 412 at [529 332]"
       ]
      },
      {
       "output_type": "stream",
       "stream": "stdout",
       "text": [
        "\r",
        "Processing point 35 of 412 at [529 332]"
       ]
      },
      {
       "output_type": "stream",
       "stream": "stdout",
       "text": [
        "\r",
        "Processing point 36 of 412 at [530 333]"
       ]
      },
      {
       "output_type": "stream",
       "stream": "stdout",
       "text": [
        "\r",
        "Processing point 37 of 412 at [530 334]"
       ]
      },
      {
       "output_type": "stream",
       "stream": "stdout",
       "text": [
        "\r",
        "Processing point 38 of 412 at [531 335]"
       ]
      },
      {
       "output_type": "stream",
       "stream": "stdout",
       "text": [
        "\r",
        "Processing point 39 of 412 at [531 336]"
       ]
      },
      {
       "output_type": "stream",
       "stream": "stdout",
       "text": [
        "\r",
        "Processing point 40 of 412 at [532 337]"
       ]
      },
      {
       "output_type": "stream",
       "stream": "stdout",
       "text": [
        "\r",
        "Processing point 41 of 412 at [532 338]"
       ]
      },
      {
       "output_type": "stream",
       "stream": "stdout",
       "text": [
        "\r",
        "Processing point 42 of 412 at [533 338]"
       ]
      },
      {
       "output_type": "stream",
       "stream": "stdout",
       "text": [
        "\r",
        "Processing point 43 of 412 at [533 339]"
       ]
      },
      {
       "output_type": "stream",
       "stream": "stdout",
       "text": [
        "\r",
        "Processing point 44 of 412 at [534 340]"
       ]
      },
      {
       "output_type": "stream",
       "stream": "stdout",
       "text": [
        "\r",
        "Processing point 45 of 412 at [534 341]"
       ]
      },
      {
       "output_type": "stream",
       "stream": "stdout",
       "text": [
        "\r",
        "Processing point 46 of 412 at [535 342]"
       ]
      },
      {
       "output_type": "stream",
       "stream": "stdout",
       "text": [
        "\r",
        "Processing point 47 of 412 at [535 343]"
       ]
      },
      {
       "output_type": "stream",
       "stream": "stdout",
       "text": [
        "\r",
        "Processing point 48 of 412 at [536 344]"
       ]
      },
      {
       "output_type": "stream",
       "stream": "stdout",
       "text": [
        "\r",
        "Processing point 49 of 412 at [536 345]"
       ]
      },
      {
       "output_type": "stream",
       "stream": "stdout",
       "text": [
        "\r",
        "Processing point 50 of 412 at [537 345]"
       ]
      },
      {
       "output_type": "stream",
       "stream": "stdout",
       "text": [
        "\r",
        "Processing point 51 of 412 at [537 346]"
       ]
      },
      {
       "output_type": "stream",
       "stream": "stdout",
       "text": [
        "\r",
        "Processing point 52 of 412 at [538 347]"
       ]
      },
      {
       "output_type": "stream",
       "stream": "stdout",
       "text": [
        "\r",
        "Processing point 53 of 412 at [538 348]"
       ]
      },
      {
       "output_type": "stream",
       "stream": "stdout",
       "text": [
        "\r",
        "Processing point 54 of 412 at [539 349]"
       ]
      },
      {
       "output_type": "stream",
       "stream": "stdout",
       "text": [
        "\r",
        "Processing point 55 of 412 at [539 350]"
       ]
      },
      {
       "output_type": "stream",
       "stream": "stdout",
       "text": [
        "\r",
        "Processing point 56 of 412 at [540 351]"
       ]
      },
      {
       "output_type": "stream",
       "stream": "stdout",
       "text": [
        "\r",
        "Processing point 57 of 412 at [540 351]"
       ]
      },
      {
       "output_type": "stream",
       "stream": "stdout",
       "text": [
        "\r",
        "Processing point 58 of 412 at [541 352]"
       ]
      },
      {
       "output_type": "stream",
       "stream": "stdout",
       "text": [
        "\r",
        "Processing point 59 of 412 at [541 353]"
       ]
      },
      {
       "output_type": "stream",
       "stream": "stdout",
       "text": [
        "\r",
        "Processing point 60 of 412 at [542 354]"
       ]
      },
      {
       "output_type": "stream",
       "stream": "stdout",
       "text": [
        "\r",
        "Processing point 61 of 412 at [542 355]"
       ]
      },
      {
       "output_type": "stream",
       "stream": "stdout",
       "text": [
        "\r",
        "Processing point 62 of 412 at [543 356]"
       ]
      },
      {
       "output_type": "stream",
       "stream": "stdout",
       "text": [
        "\r",
        "Processing point 63 of 412 at [543 357]"
       ]
      },
      {
       "output_type": "stream",
       "stream": "stdout",
       "text": [
        "\r",
        "Processing point 64 of 412 at [544 358]"
       ]
      },
      {
       "output_type": "stream",
       "stream": "stdout",
       "text": [
        "\r",
        "Processing point 65 of 412 at [544 358]"
       ]
      },
      {
       "output_type": "stream",
       "stream": "stdout",
       "text": [
        "\r",
        "Processing point 66 of 412 at [545 359]"
       ]
      },
      {
       "output_type": "stream",
       "stream": "stdout",
       "text": [
        "\r",
        "Processing point 67 of 412 at [545 360]"
       ]
      },
      {
       "output_type": "stream",
       "stream": "stdout",
       "text": [
        "\r",
        "Processing point 68 of 412 at [546 361]"
       ]
      },
      {
       "output_type": "stream",
       "stream": "stdout",
       "text": [
        "\r",
        "Processing point 69 of 412 at [546 362]"
       ]
      },
      {
       "output_type": "stream",
       "stream": "stdout",
       "text": [
        "\r",
        "Processing point 70 of 412 at [547 363]"
       ]
      },
      {
       "output_type": "stream",
       "stream": "stdout",
       "text": [
        "\r",
        "Processing point 71 of 412 at [547 364]"
       ]
      },
      {
       "output_type": "stream",
       "stream": "stdout",
       "text": [
        "\r",
        "Processing point 72 of 412 at [548 364]"
       ]
      },
      {
       "output_type": "stream",
       "stream": "stdout",
       "text": [
        "\r",
        "Processing point 73 of 412 at [548 365]"
       ]
      },
      {
       "output_type": "stream",
       "stream": "stdout",
       "text": [
        "\r",
        "Processing point 74 of 412 at [549 366]"
       ]
      },
      {
       "output_type": "stream",
       "stream": "stdout",
       "text": [
        "\r",
        "Processing point 75 of 412 at [549 367]"
       ]
      },
      {
       "output_type": "stream",
       "stream": "stdout",
       "text": [
        "\r",
        "Processing point 76 of 412 at [550 368]"
       ]
      },
      {
       "output_type": "stream",
       "stream": "stdout",
       "text": [
        "\r",
        "Processing point 77 of 412 at [550 369]"
       ]
      },
      {
       "output_type": "stream",
       "stream": "stdout",
       "text": [
        "\r",
        "Processing point 78 of 412 at [551 370]"
       ]
      },
      {
       "output_type": "stream",
       "stream": "stdout",
       "text": [
        "\r",
        "Processing point 79 of 412 at [551 371]"
       ]
      },
      {
       "output_type": "stream",
       "stream": "stdout",
       "text": [
        "\r",
        "Processing point 80 of 412 at [552 371]"
       ]
      },
      {
       "output_type": "stream",
       "stream": "stdout",
       "text": [
        "\r",
        "Processing point 81 of 412 at [552 372]"
       ]
      },
      {
       "output_type": "stream",
       "stream": "stdout",
       "text": [
        "\r",
        "Processing point 82 of 412 at [553 373]"
       ]
      },
      {
       "output_type": "stream",
       "stream": "stdout",
       "text": [
        "\r",
        "Processing point 83 of 412 at [553 374]"
       ]
      },
      {
       "output_type": "stream",
       "stream": "stdout",
       "text": [
        "\r",
        "Processing point 84 of 412 at [554 375]"
       ]
      },
      {
       "output_type": "stream",
       "stream": "stdout",
       "text": [
        "\r",
        "Processing point 85 of 412 at [554 376]"
       ]
      },
      {
       "output_type": "stream",
       "stream": "stdout",
       "text": [
        "\r",
        "Processing point 86 of 412 at [555 377]"
       ]
      },
      {
       "output_type": "stream",
       "stream": "stdout",
       "text": [
        "\r",
        "Processing point 87 of 412 at [555 378]"
       ]
      },
      {
       "output_type": "stream",
       "stream": "stdout",
       "text": [
        "\r",
        "Processing point 88 of 412 at [556 378]"
       ]
      },
      {
       "output_type": "stream",
       "stream": "stdout",
       "text": [
        "\r",
        "Processing point 89 of 412 at [556 379]"
       ]
      },
      {
       "output_type": "stream",
       "stream": "stdout",
       "text": [
        "\r",
        "Processing point 90 of 412 at [557 380]"
       ]
      },
      {
       "output_type": "stream",
       "stream": "stdout",
       "text": [
        "\r",
        "Processing point 91 of 412 at [557 381]"
       ]
      },
      {
       "output_type": "stream",
       "stream": "stdout",
       "text": [
        "\r",
        "Processing point 92 of 412 at [558 382]"
       ]
      },
      {
       "output_type": "stream",
       "stream": "stdout",
       "text": [
        "\r",
        "Processing point 93 of 412 at [558 383]"
       ]
      },
      {
       "output_type": "stream",
       "stream": "stdout",
       "text": [
        "\r",
        "Processing point 94 of 412 at [559 384]"
       ]
      },
      {
       "output_type": "stream",
       "stream": "stdout",
       "text": [
        "\r",
        "Processing point 95 of 412 at [559 384]"
       ]
      },
      {
       "output_type": "stream",
       "stream": "stdout",
       "text": [
        "\r",
        "Processing point 96 of 412 at [560 385]"
       ]
      },
      {
       "output_type": "stream",
       "stream": "stdout",
       "text": [
        "\r",
        "Processing point 97 of 412 at [560 386]"
       ]
      },
      {
       "output_type": "stream",
       "stream": "stdout",
       "text": [
        "\r",
        "Processing point 98 of 412 at [561 387]"
       ]
      },
      {
       "output_type": "stream",
       "stream": "stdout",
       "text": [
        "\r",
        "Processing point 99 of 412 at [561 388]"
       ]
      },
      {
       "output_type": "stream",
       "stream": "stdout",
       "text": [
        "\r",
        "Processing point 100 of 412 at [562 389]"
       ]
      },
      {
       "output_type": "stream",
       "stream": "stdout",
       "text": [
        "\r",
        "Processing point 101 of 412 at [562 390]"
       ]
      },
      {
       "output_type": "stream",
       "stream": "stdout",
       "text": [
        "\r",
        "Processing point 102 of 412 at [563 391]"
       ]
      },
      {
       "output_type": "stream",
       "stream": "stdout",
       "text": [
        "\r",
        "Processing point 103 of 412 at [563 391]"
       ]
      },
      {
       "output_type": "stream",
       "stream": "stdout",
       "text": [
        "\r",
        "Processing point 104 of 412 at [564 392]"
       ]
      },
      {
       "output_type": "stream",
       "stream": "stdout",
       "text": [
        "\r",
        "Processing point 105 of 412 at [564 393]"
       ]
      },
      {
       "output_type": "stream",
       "stream": "stdout",
       "text": [
        "\r",
        "Processing point 106 of 412 at [565 394]"
       ]
      },
      {
       "output_type": "stream",
       "stream": "stdout",
       "text": [
        "\r",
        "Processing point 107 of 412 at [565 395]"
       ]
      },
      {
       "output_type": "stream",
       "stream": "stdout",
       "text": [
        "\r",
        "Processing point 108 of 412 at [566 396]"
       ]
      },
      {
       "output_type": "stream",
       "stream": "stdout",
       "text": [
        "\r",
        "Processing point 109 of 412 at [566 397]"
       ]
      },
      {
       "output_type": "stream",
       "stream": "stdout",
       "text": [
        "\r",
        "Processing point 110 of 412 at [567 397]"
       ]
      },
      {
       "output_type": "stream",
       "stream": "stdout",
       "text": [
        "\r",
        "Processing point 111 of 412 at [567 398]"
       ]
      },
      {
       "output_type": "stream",
       "stream": "stdout",
       "text": [
        "\r",
        "Processing point 112 of 412 at [568 399]"
       ]
      },
      {
       "output_type": "stream",
       "stream": "stdout",
       "text": [
        "\r",
        "Processing point 113 of 412 at [568 400]"
       ]
      },
      {
       "output_type": "stream",
       "stream": "stdout",
       "text": [
        "\r",
        "Processing point 114 of 412 at [569 401]"
       ]
      },
      {
       "output_type": "stream",
       "stream": "stdout",
       "text": [
        "\r",
        "Processing point 115 of 412 at [569 402]"
       ]
      },
      {
       "output_type": "stream",
       "stream": "stdout",
       "text": [
        "\r",
        "Processing point 116 of 412 at [570 403]"
       ]
      },
      {
       "output_type": "stream",
       "stream": "stdout",
       "text": [
        "\r",
        "Processing point 117 of 412 at [570 404]"
       ]
      },
      {
       "output_type": "stream",
       "stream": "stdout",
       "text": [
        "\r",
        "Processing point 118 of 412 at [571 404]"
       ]
      },
      {
       "output_type": "stream",
       "stream": "stdout",
       "text": [
        "\r",
        "Processing point 119 of 412 at [571 405]"
       ]
      },
      {
       "output_type": "stream",
       "stream": "stdout",
       "text": [
        "\r",
        "Processing point 120 of 412 at [572 406]"
       ]
      },
      {
       "output_type": "stream",
       "stream": "stdout",
       "text": [
        "\r",
        "Processing point 121 of 412 at [572 407]"
       ]
      },
      {
       "output_type": "stream",
       "stream": "stdout",
       "text": [
        "\r",
        "Processing point 122 of 412 at [573 408]"
       ]
      },
      {
       "output_type": "stream",
       "stream": "stdout",
       "text": [
        "\r",
        "Processing point 123 of 412 at [573 409]"
       ]
      },
      {
       "output_type": "stream",
       "stream": "stdout",
       "text": [
        "\r",
        "Processing point 124 of 412 at [574 410]"
       ]
      },
      {
       "output_type": "stream",
       "stream": "stdout",
       "text": [
        "\r",
        "Processing point 125 of 412 at [574 410]"
       ]
      },
      {
       "output_type": "stream",
       "stream": "stdout",
       "text": [
        "\r",
        "Processing point 126 of 412 at [575 411]"
       ]
      },
      {
       "output_type": "stream",
       "stream": "stdout",
       "text": [
        "\r",
        "Processing point 127 of 412 at [575 412]"
       ]
      },
      {
       "output_type": "stream",
       "stream": "stdout",
       "text": [
        "\r",
        "Processing point 128 of 412 at [576 413]"
       ]
      },
      {
       "output_type": "stream",
       "stream": "stdout",
       "text": [
        "\r",
        "Processing point 129 of 412 at [576 414]"
       ]
      },
      {
       "output_type": "stream",
       "stream": "stdout",
       "text": [
        "\r",
        "Processing point 130 of 412 at [577 415]"
       ]
      },
      {
       "output_type": "stream",
       "stream": "stdout",
       "text": [
        "\r",
        "Processing point 131 of 412 at [577 416]"
       ]
      },
      {
       "output_type": "stream",
       "stream": "stdout",
       "text": [
        "\r",
        "Processing point 132 of 412 at [578 417]"
       ]
      },
      {
       "output_type": "stream",
       "stream": "stdout",
       "text": [
        "\r",
        "Processing point 133 of 412 at [578 417]"
       ]
      },
      {
       "output_type": "stream",
       "stream": "stdout",
       "text": [
        "\r",
        "Processing point 134 of 412 at [579 418]"
       ]
      },
      {
       "output_type": "stream",
       "stream": "stdout",
       "text": [
        "\r",
        "Processing point 135 of 412 at [579 419]"
       ]
      },
      {
       "output_type": "stream",
       "stream": "stdout",
       "text": [
        "\r",
        "Processing point 136 of 412 at [580 420]"
       ]
      },
      {
       "output_type": "stream",
       "stream": "stdout",
       "text": [
        "\r",
        "Processing point 137 of 412 at [580 421]"
       ]
      },
      {
       "output_type": "stream",
       "stream": "stdout",
       "text": [
        "\r",
        "Processing point 138 of 412 at [581 422]"
       ]
      },
      {
       "output_type": "stream",
       "stream": "stdout",
       "text": [
        "\r",
        "Processing point 139 of 412 at [581 423]"
       ]
      },
      {
       "output_type": "stream",
       "stream": "stdout",
       "text": [
        "\r",
        "Processing point 140 of 412 at [582 424]"
       ]
      },
      {
       "output_type": "stream",
       "stream": "stdout",
       "text": [
        "\r",
        "Processing point 141 of 412 at [582 424]"
       ]
      },
      {
       "output_type": "stream",
       "stream": "stdout",
       "text": [
        "\r",
        "Processing point 142 of 412 at [583 425]"
       ]
      },
      {
       "output_type": "stream",
       "stream": "stdout",
       "text": [
        "\r",
        "Processing point 143 of 412 at [583 426]"
       ]
      },
      {
       "output_type": "stream",
       "stream": "stdout",
       "text": [
        "\r",
        "Processing point 144 of 412 at [584 427]"
       ]
      },
      {
       "output_type": "stream",
       "stream": "stdout",
       "text": [
        "\r",
        "Processing point 145 of 412 at [584 428]"
       ]
      },
      {
       "output_type": "stream",
       "stream": "stdout",
       "text": [
        "\r",
        "Processing point 146 of 412 at [585 429]"
       ]
      },
      {
       "output_type": "stream",
       "stream": "stdout",
       "text": [
        "\r",
        "Processing point 147 of 412 at [585 430]"
       ]
      },
      {
       "output_type": "stream",
       "stream": "stdout",
       "text": [
        "\r",
        "Processing point 148 of 412 at [586 430]"
       ]
      },
      {
       "output_type": "stream",
       "stream": "stdout",
       "text": [
        "\r",
        "Processing point 149 of 412 at [586 431]"
       ]
      },
      {
       "output_type": "stream",
       "stream": "stdout",
       "text": [
        "\r",
        "Processing point 150 of 412 at [587 432]"
       ]
      },
      {
       "output_type": "stream",
       "stream": "stdout",
       "text": [
        "\r",
        "Processing point 151 of 412 at [587 433]"
       ]
      },
      {
       "output_type": "stream",
       "stream": "stdout",
       "text": [
        "\r",
        "Processing point 152 of 412 at [588 434]"
       ]
      },
      {
       "output_type": "stream",
       "stream": "stdout",
       "text": [
        "\r",
        "Processing point 153 of 412 at [588 435]"
       ]
      },
      {
       "output_type": "stream",
       "stream": "stdout",
       "text": [
        "\r",
        "Processing point 154 of 412 at [589 436]"
       ]
      },
      {
       "output_type": "stream",
       "stream": "stdout",
       "text": [
        "\r",
        "Processing point 155 of 412 at [589 437]"
       ]
      },
      {
       "output_type": "stream",
       "stream": "stdout",
       "text": [
        "\r",
        "Processing point 156 of 412 at [590 437]"
       ]
      },
      {
       "output_type": "stream",
       "stream": "stdout",
       "text": [
        "\r",
        "Processing point 157 of 412 at [590 438]"
       ]
      },
      {
       "output_type": "stream",
       "stream": "stdout",
       "text": [
        "\r",
        "Processing point 158 of 412 at [591 439]"
       ]
      },
      {
       "output_type": "stream",
       "stream": "stdout",
       "text": [
        "\r",
        "Processing point 159 of 412 at [591 440]"
       ]
      },
      {
       "output_type": "stream",
       "stream": "stdout",
       "text": [
        "\r",
        "Processing point 160 of 412 at [592 441]"
       ]
      },
      {
       "output_type": "stream",
       "stream": "stdout",
       "text": [
        "\r",
        "Processing point 161 of 412 at [592 442]"
       ]
      },
      {
       "output_type": "stream",
       "stream": "stdout",
       "text": [
        "\r",
        "Processing point 162 of 412 at [593 443]"
       ]
      },
      {
       "output_type": "stream",
       "stream": "stdout",
       "text": [
        "\r",
        "Processing point 163 of 412 at [593 443]"
       ]
      },
      {
       "output_type": "stream",
       "stream": "stdout",
       "text": [
        "\r",
        "Processing point 164 of 412 at [594 444]"
       ]
      },
      {
       "output_type": "stream",
       "stream": "stdout",
       "text": [
        "\r",
        "Processing point 165 of 412 at [594 445]"
       ]
      },
      {
       "output_type": "stream",
       "stream": "stdout",
       "text": [
        "\r",
        "Processing point 166 of 412 at [595 446]"
       ]
      },
      {
       "output_type": "stream",
       "stream": "stdout",
       "text": [
        "\r",
        "Processing point 167 of 412 at [595 447]"
       ]
      },
      {
       "output_type": "stream",
       "stream": "stdout",
       "text": [
        "\r",
        "Processing point 168 of 412 at [596 448]"
       ]
      },
      {
       "output_type": "stream",
       "stream": "stdout",
       "text": [
        "\r",
        "Processing point 169 of 412 at [596 449]"
       ]
      },
      {
       "output_type": "stream",
       "stream": "stdout",
       "text": [
        "\r",
        "Processing point 170 of 412 at [597 450]"
       ]
      },
      {
       "output_type": "stream",
       "stream": "stdout",
       "text": [
        "\r",
        "Processing point 171 of 412 at [597 450]"
       ]
      },
      {
       "output_type": "stream",
       "stream": "stdout",
       "text": [
        "\r",
        "Processing point 172 of 412 at [598 451]"
       ]
      },
      {
       "output_type": "stream",
       "stream": "stdout",
       "text": [
        "\r",
        "Processing point 173 of 412 at [598 452]"
       ]
      },
      {
       "output_type": "stream",
       "stream": "stdout",
       "text": [
        "\r",
        "Processing point 174 of 412 at [599 453]"
       ]
      },
      {
       "output_type": "stream",
       "stream": "stdout",
       "text": [
        "\r",
        "Processing point 175 of 412 at [599 454]"
       ]
      },
      {
       "output_type": "stream",
       "stream": "stdout",
       "text": [
        "\r",
        "Processing point 176 of 412 at [600 455]"
       ]
      },
      {
       "output_type": "stream",
       "stream": "stdout",
       "text": [
        "\r",
        "Processing point 177 of 412 at [600 456]"
       ]
      },
      {
       "output_type": "stream",
       "stream": "stdout",
       "text": [
        "\r",
        "Processing point 178 of 412 at [601 456]"
       ]
      },
      {
       "output_type": "stream",
       "stream": "stdout",
       "text": [
        "\r",
        "Processing point 179 of 412 at [601 457]"
       ]
      },
      {
       "output_type": "stream",
       "stream": "stdout",
       "text": [
        "\r",
        "Processing point 180 of 412 at [602 458]"
       ]
      },
      {
       "output_type": "stream",
       "stream": "stdout",
       "text": [
        "\r",
        "Processing point 181 of 412 at [602 459]"
       ]
      },
      {
       "output_type": "stream",
       "stream": "stdout",
       "text": [
        "\r",
        "Processing point 182 of 412 at [603 460]"
       ]
      },
      {
       "output_type": "stream",
       "stream": "stdout",
       "text": [
        "\r",
        "Processing point 183 of 412 at [603 461]"
       ]
      },
      {
       "output_type": "stream",
       "stream": "stdout",
       "text": [
        "\r",
        "Processing point 184 of 412 at [604 462]"
       ]
      },
      {
       "output_type": "stream",
       "stream": "stdout",
       "text": [
        "\r",
        "Processing point 185 of 412 at [604 463]"
       ]
      },
      {
       "output_type": "stream",
       "stream": "stdout",
       "text": [
        "\r",
        "Processing point 186 of 412 at [605 463]"
       ]
      },
      {
       "output_type": "stream",
       "stream": "stdout",
       "text": [
        "\r",
        "Processing point 187 of 412 at [605 464]"
       ]
      },
      {
       "output_type": "stream",
       "stream": "stdout",
       "text": [
        "\r",
        "Processing point 188 of 412 at [606 465]"
       ]
      },
      {
       "output_type": "stream",
       "stream": "stdout",
       "text": [
        "\r",
        "Processing point 189 of 412 at [606 466]"
       ]
      },
      {
       "output_type": "stream",
       "stream": "stdout",
       "text": [
        "\r",
        "Processing point 190 of 412 at [607 467]"
       ]
      },
      {
       "output_type": "stream",
       "stream": "stdout",
       "text": [
        "\r",
        "Processing point 191 of 412 at [607 468]"
       ]
      },
      {
       "output_type": "stream",
       "stream": "stdout",
       "text": [
        "\r",
        "Processing point 192 of 412 at [608 469]"
       ]
      },
      {
       "output_type": "stream",
       "stream": "stdout",
       "text": [
        "\r",
        "Processing point 193 of 412 at [608 470]"
       ]
      },
      {
       "output_type": "stream",
       "stream": "stdout",
       "text": [
        "\r",
        "Processing point 194 of 412 at [609 470]"
       ]
      },
      {
       "output_type": "stream",
       "stream": "stdout",
       "text": [
        "\r",
        "Processing point 195 of 412 at [609 471]"
       ]
      },
      {
       "output_type": "stream",
       "stream": "stdout",
       "text": [
        "\r",
        "Processing point 196 of 412 at [610 472]"
       ]
      },
      {
       "output_type": "stream",
       "stream": "stdout",
       "text": [
        "\r",
        "Processing point 197 of 412 at [610 473]"
       ]
      },
      {
       "output_type": "stream",
       "stream": "stdout",
       "text": [
        "\r",
        "Processing point 198 of 412 at [611 474]"
       ]
      },
      {
       "output_type": "stream",
       "stream": "stdout",
       "text": [
        "\r",
        "Processing point 199 of 412 at [611 475]"
       ]
      },
      {
       "output_type": "stream",
       "stream": "stdout",
       "text": [
        "\r",
        "Processing point 200 of 412 at [611 476]"
       ]
      },
      {
       "output_type": "stream",
       "stream": "stdout",
       "text": [
        "\r",
        "Processing point 201 of 412 at [612 476]"
       ]
      },
      {
       "output_type": "stream",
       "stream": "stdout",
       "text": [
        "\r",
        "Processing point 202 of 412 at [612 477]"
       ]
      },
      {
       "output_type": "stream",
       "stream": "stdout",
       "text": [
        "\r",
        "Processing point 203 of 412 at [613 478]"
       ]
      },
      {
       "output_type": "stream",
       "stream": "stdout",
       "text": [
        "\r",
        "Processing point 204 of 412 at [613 479]"
       ]
      },
      {
       "output_type": "stream",
       "stream": "stdout",
       "text": [
        "\r",
        "Processing point 205 of 412 at [614 480]"
       ]
      },
      {
       "output_type": "stream",
       "stream": "stdout",
       "text": [
        "\r",
        "Processing point 206 of 412 at [614 481]"
       ]
      },
      {
       "output_type": "stream",
       "stream": "stdout",
       "text": [
        "\r",
        "Processing point 207 of 412 at [615 482]"
       ]
      },
      {
       "output_type": "stream",
       "stream": "stdout",
       "text": [
        "\r",
        "Processing point 208 of 412 at [615 483]"
       ]
      },
      {
       "output_type": "stream",
       "stream": "stdout",
       "text": [
        "\r",
        "Processing point 209 of 412 at [616 483]"
       ]
      },
      {
       "output_type": "stream",
       "stream": "stdout",
       "text": [
        "\r",
        "Processing point 210 of 412 at [616 484]"
       ]
      },
      {
       "output_type": "stream",
       "stream": "stdout",
       "text": [
        "\r",
        "Processing point 211 of 412 at [617 485]"
       ]
      },
      {
       "output_type": "stream",
       "stream": "stdout",
       "text": [
        "\r",
        "Processing point 212 of 412 at [617 486]"
       ]
      },
      {
       "output_type": "stream",
       "stream": "stdout",
       "text": [
        "\r",
        "Processing point 213 of 412 at [618 487]"
       ]
      },
      {
       "output_type": "stream",
       "stream": "stdout",
       "text": [
        "\r",
        "Processing point 214 of 412 at [618 488]"
       ]
      },
      {
       "output_type": "stream",
       "stream": "stdout",
       "text": [
        "\r",
        "Processing point 215 of 412 at [619 489]"
       ]
      },
      {
       "output_type": "stream",
       "stream": "stdout",
       "text": [
        "\r",
        "Processing point 216 of 412 at [619 489]"
       ]
      },
      {
       "output_type": "stream",
       "stream": "stdout",
       "text": [
        "\r",
        "Processing point 217 of 412 at [620 490]"
       ]
      },
      {
       "output_type": "stream",
       "stream": "stdout",
       "text": [
        "\r",
        "Processing point 218 of 412 at [620 491]"
       ]
      },
      {
       "output_type": "stream",
       "stream": "stdout",
       "text": [
        "\r",
        "Processing point 219 of 412 at [621 492]"
       ]
      },
      {
       "output_type": "stream",
       "stream": "stdout",
       "text": [
        "\r",
        "Processing point 220 of 412 at [621 493]"
       ]
      },
      {
       "output_type": "stream",
       "stream": "stdout",
       "text": [
        "\r",
        "Processing point 221 of 412 at [622 494]"
       ]
      },
      {
       "output_type": "stream",
       "stream": "stdout",
       "text": [
        "\r",
        "Processing point 222 of 412 at [622 495]"
       ]
      },
      {
       "output_type": "stream",
       "stream": "stdout",
       "text": [
        "\r",
        "Processing point 223 of 412 at [623 496]"
       ]
      },
      {
       "output_type": "stream",
       "stream": "stdout",
       "text": [
        "\r",
        "Processing point 224 of 412 at [623 496]"
       ]
      },
      {
       "output_type": "stream",
       "stream": "stdout",
       "text": [
        "\r",
        "Processing point 225 of 412 at [624 497]"
       ]
      },
      {
       "output_type": "stream",
       "stream": "stdout",
       "text": [
        "\r",
        "Processing point 226 of 412 at [624 498]"
       ]
      },
      {
       "output_type": "stream",
       "stream": "stdout",
       "text": [
        "\r",
        "Processing point 227 of 412 at [625 499]"
       ]
      },
      {
       "output_type": "stream",
       "stream": "stdout",
       "text": [
        "\r",
        "Processing point 228 of 412 at [625 500]"
       ]
      },
      {
       "output_type": "stream",
       "stream": "stdout",
       "text": [
        "\r",
        "Processing point 229 of 412 at [626 501]"
       ]
      },
      {
       "output_type": "stream",
       "stream": "stdout",
       "text": [
        "\r",
        "Processing point 230 of 412 at [626 502]"
       ]
      },
      {
       "output_type": "stream",
       "stream": "stdout",
       "text": [
        "\r",
        "Processing point 231 of 412 at [627 502]"
       ]
      },
      {
       "output_type": "stream",
       "stream": "stdout",
       "text": [
        "\r",
        "Processing point 232 of 412 at [627 503]"
       ]
      },
      {
       "output_type": "stream",
       "stream": "stdout",
       "text": [
        "\r",
        "Processing point 233 of 412 at [628 504]"
       ]
      },
      {
       "output_type": "stream",
       "stream": "stdout",
       "text": [
        "\r",
        "Processing point 234 of 412 at [628 505]"
       ]
      },
      {
       "output_type": "stream",
       "stream": "stdout",
       "text": [
        "\r",
        "Processing point 235 of 412 at [629 506]"
       ]
      },
      {
       "output_type": "stream",
       "stream": "stdout",
       "text": [
        "\r",
        "Processing point 236 of 412 at [629 507]"
       ]
      },
      {
       "output_type": "stream",
       "stream": "stdout",
       "text": [
        "\r",
        "Processing point 237 of 412 at [630 508]"
       ]
      },
      {
       "output_type": "stream",
       "stream": "stdout",
       "text": [
        "\r",
        "Processing point 238 of 412 at [630 509]"
       ]
      },
      {
       "output_type": "stream",
       "stream": "stdout",
       "text": [
        "\r",
        "Processing point 239 of 412 at [631 509]"
       ]
      },
      {
       "output_type": "stream",
       "stream": "stdout",
       "text": [
        "\r",
        "Processing point 240 of 412 at [631 510]"
       ]
      },
      {
       "output_type": "stream",
       "stream": "stdout",
       "text": [
        "\r",
        "Processing point 241 of 412 at [632 511]"
       ]
      },
      {
       "output_type": "stream",
       "stream": "stdout",
       "text": [
        "\r",
        "Processing point 242 of 412 at [632 512]"
       ]
      },
      {
       "output_type": "stream",
       "stream": "stdout",
       "text": [
        "\r",
        "Processing point 243 of 412 at [633 513]"
       ]
      },
      {
       "output_type": "stream",
       "stream": "stdout",
       "text": [
        "\r",
        "Processing point 244 of 412 at [633 514]"
       ]
      },
      {
       "output_type": "stream",
       "stream": "stdout",
       "text": [
        "\r",
        "Processing point 245 of 412 at [634 515]"
       ]
      },
      {
       "output_type": "stream",
       "stream": "stdout",
       "text": [
        "\r",
        "Processing point 246 of 412 at [634 516]"
       ]
      },
      {
       "output_type": "stream",
       "stream": "stdout",
       "text": [
        "\r",
        "Processing point 247 of 412 at [635 516]"
       ]
      },
      {
       "output_type": "stream",
       "stream": "stdout",
       "text": [
        "\r",
        "Processing point 248 of 412 at [635 517]"
       ]
      },
      {
       "output_type": "stream",
       "stream": "stdout",
       "text": [
        "\r",
        "Processing point 249 of 412 at [636 518]"
       ]
      },
      {
       "output_type": "stream",
       "stream": "stdout",
       "text": [
        "\r",
        "Processing point 250 of 412 at [636 519]"
       ]
      },
      {
       "output_type": "stream",
       "stream": "stdout",
       "text": [
        "\r",
        "Processing point 251 of 412 at [637 520]"
       ]
      },
      {
       "output_type": "stream",
       "stream": "stdout",
       "text": [
        "\r",
        "Processing point 252 of 412 at [637 521]"
       ]
      },
      {
       "output_type": "stream",
       "stream": "stdout",
       "text": [
        "\r",
        "Processing point 253 of 412 at [638 522]"
       ]
      },
      {
       "output_type": "stream",
       "stream": "stdout",
       "text": [
        "\r",
        "Processing point 254 of 412 at [638 522]"
       ]
      },
      {
       "output_type": "stream",
       "stream": "stdout",
       "text": [
        "\r",
        "Processing point 255 of 412 at [639 523]"
       ]
      },
      {
       "output_type": "stream",
       "stream": "stdout",
       "text": [
        "\r",
        "Processing point 256 of 412 at [639 524]"
       ]
      },
      {
       "output_type": "stream",
       "stream": "stdout",
       "text": [
        "\r",
        "Processing point 257 of 412 at [640 525]"
       ]
      },
      {
       "output_type": "stream",
       "stream": "stdout",
       "text": [
        "\r",
        "Processing point 258 of 412 at [640 526]"
       ]
      },
      {
       "output_type": "stream",
       "stream": "stdout",
       "text": [
        "\r",
        "Processing point 259 of 412 at [641 527]"
       ]
      },
      {
       "output_type": "stream",
       "stream": "stdout",
       "text": [
        "\r",
        "Processing point 260 of 412 at [641 528]"
       ]
      },
      {
       "output_type": "stream",
       "stream": "stdout",
       "text": [
        "\r",
        "Processing point 261 of 412 at [642 529]"
       ]
      },
      {
       "output_type": "stream",
       "stream": "stdout",
       "text": [
        "\r",
        "Processing point 262 of 412 at [642 529]"
       ]
      },
      {
       "output_type": "stream",
       "stream": "stdout",
       "text": [
        "\r",
        "Processing point 263 of 412 at [643 530]"
       ]
      },
      {
       "output_type": "stream",
       "stream": "stdout",
       "text": [
        "\r",
        "Processing point 264 of 412 at [643 531]"
       ]
      },
      {
       "output_type": "stream",
       "stream": "stdout",
       "text": [
        "\r",
        "Processing point 265 of 412 at [644 532]"
       ]
      },
      {
       "output_type": "stream",
       "stream": "stdout",
       "text": [
        "\r",
        "Processing point 266 of 412 at [644 533]"
       ]
      },
      {
       "output_type": "stream",
       "stream": "stdout",
       "text": [
        "\r",
        "Processing point 267 of 412 at [645 534]"
       ]
      },
      {
       "output_type": "stream",
       "stream": "stdout",
       "text": [
        "\r",
        "Processing point 268 of 412 at [645 535]"
       ]
      },
      {
       "output_type": "stream",
       "stream": "stdout",
       "text": [
        "\r",
        "Processing point 269 of 412 at [646 535]"
       ]
      },
      {
       "output_type": "stream",
       "stream": "stdout",
       "text": [
        "\r",
        "Processing point 270 of 412 at [646 536]"
       ]
      },
      {
       "output_type": "stream",
       "stream": "stdout",
       "text": [
        "\r",
        "Processing point 271 of 412 at [647 537]"
       ]
      },
      {
       "output_type": "stream",
       "stream": "stdout",
       "text": [
        "\r",
        "Processing point 272 of 412 at [647 538]"
       ]
      },
      {
       "output_type": "stream",
       "stream": "stdout",
       "text": [
        "\r",
        "Processing point 273 of 412 at [648 539]"
       ]
      },
      {
       "output_type": "stream",
       "stream": "stdout",
       "text": [
        "\r",
        "Processing point 274 of 412 at [648 540]"
       ]
      },
      {
       "output_type": "stream",
       "stream": "stdout",
       "text": [
        "\r",
        "Processing point 275 of 412 at [649 541]"
       ]
      },
      {
       "output_type": "stream",
       "stream": "stdout",
       "text": [
        "\r",
        "Processing point 276 of 412 at [649 542]"
       ]
      },
      {
       "output_type": "stream",
       "stream": "stdout",
       "text": [
        "\r",
        "Processing point 277 of 412 at [650 542]"
       ]
      },
      {
       "output_type": "stream",
       "stream": "stdout",
       "text": [
        "\r",
        "Processing point 278 of 412 at [650 543]"
       ]
      },
      {
       "output_type": "stream",
       "stream": "stdout",
       "text": [
        "\r",
        "Processing point 279 of 412 at [651 544]"
       ]
      },
      {
       "output_type": "stream",
       "stream": "stdout",
       "text": [
        "\r",
        "Processing point 280 of 412 at [651 545]"
       ]
      },
      {
       "output_type": "stream",
       "stream": "stdout",
       "text": [
        "\r",
        "Processing point 281 of 412 at [652 546]"
       ]
      },
      {
       "output_type": "stream",
       "stream": "stdout",
       "text": [
        "\r",
        "Processing point 282 of 412 at [652 547]"
       ]
      },
      {
       "output_type": "stream",
       "stream": "stdout",
       "text": [
        "\r",
        "Processing point 283 of 412 at [653 548]"
       ]
      },
      {
       "output_type": "stream",
       "stream": "stdout",
       "text": [
        "\r",
        "Processing point 284 of 412 at [653 548]"
       ]
      },
      {
       "output_type": "stream",
       "stream": "stdout",
       "text": [
        "\r",
        "Processing point 285 of 412 at [654 549]"
       ]
      },
      {
       "output_type": "stream",
       "stream": "stdout",
       "text": [
        "\r",
        "Processing point 286 of 412 at [654 550]"
       ]
      },
      {
       "output_type": "stream",
       "stream": "stdout",
       "text": [
        "\r",
        "Processing point 287 of 412 at [655 551]"
       ]
      },
      {
       "output_type": "stream",
       "stream": "stdout",
       "text": [
        "\r",
        "Processing point 288 of 412 at [655 552]"
       ]
      },
      {
       "output_type": "stream",
       "stream": "stdout",
       "text": [
        "\r",
        "Processing point 289 of 412 at [656 553]"
       ]
      },
      {
       "output_type": "stream",
       "stream": "stdout",
       "text": [
        "\r",
        "Processing point 290 of 412 at [656 554]"
       ]
      },
      {
       "output_type": "stream",
       "stream": "stdout",
       "text": [
        "\r",
        "Processing point 291 of 412 at [657 555]"
       ]
      },
      {
       "output_type": "stream",
       "stream": "stdout",
       "text": [
        "\r",
        "Processing point 292 of 412 at [657 555]"
       ]
      },
      {
       "output_type": "stream",
       "stream": "stdout",
       "text": [
        "\r",
        "Processing point 293 of 412 at [658 556]"
       ]
      },
      {
       "output_type": "stream",
       "stream": "stdout",
       "text": [
        "\r",
        "Processing point 294 of 412 at [658 557]"
       ]
      },
      {
       "output_type": "stream",
       "stream": "stdout",
       "text": [
        "\r",
        "Processing point 295 of 412 at [659 558]"
       ]
      },
      {
       "output_type": "stream",
       "stream": "stdout",
       "text": [
        "\r",
        "Processing point 296 of 412 at [659 559]"
       ]
      },
      {
       "output_type": "stream",
       "stream": "stdout",
       "text": [
        "\r",
        "Processing point 297 of 412 at [660 560]"
       ]
      },
      {
       "output_type": "stream",
       "stream": "stdout",
       "text": [
        "\r",
        "Processing point 298 of 412 at [660 561]"
       ]
      },
      {
       "output_type": "stream",
       "stream": "stdout",
       "text": [
        "\r",
        "Processing point 299 of 412 at [661 562]"
       ]
      },
      {
       "output_type": "stream",
       "stream": "stdout",
       "text": [
        "\r",
        "Processing point 300 of 412 at [661 562]"
       ]
      },
      {
       "output_type": "stream",
       "stream": "stdout",
       "text": [
        "\r",
        "Processing point 301 of 412 at [662 563]"
       ]
      },
      {
       "output_type": "stream",
       "stream": "stdout",
       "text": [
        "\r",
        "Processing point 302 of 412 at [662 564]"
       ]
      },
      {
       "output_type": "stream",
       "stream": "stdout",
       "text": [
        "\r",
        "Processing point 303 of 412 at [663 565]"
       ]
      },
      {
       "output_type": "stream",
       "stream": "stdout",
       "text": [
        "\r",
        "Processing point 304 of 412 at [663 566]"
       ]
      },
      {
       "output_type": "stream",
       "stream": "stdout",
       "text": [
        "\r",
        "Processing point 305 of 412 at [664 567]"
       ]
      },
      {
       "output_type": "stream",
       "stream": "stdout",
       "text": [
        "\r",
        "Processing point 306 of 412 at [664 568]"
       ]
      },
      {
       "output_type": "stream",
       "stream": "stdout",
       "text": [
        "\r",
        "Processing point 307 of 412 at [665 568]"
       ]
      },
      {
       "output_type": "stream",
       "stream": "stdout",
       "text": [
        "\r",
        "Processing point 308 of 412 at [665 569]"
       ]
      },
      {
       "output_type": "stream",
       "stream": "stdout",
       "text": [
        "\r",
        "Processing point 309 of 412 at [666 570]"
       ]
      },
      {
       "output_type": "stream",
       "stream": "stdout",
       "text": [
        "\r",
        "Processing point 310 of 412 at [666 571]"
       ]
      },
      {
       "output_type": "stream",
       "stream": "stdout",
       "text": [
        "\r",
        "Processing point 311 of 412 at [667 572]"
       ]
      },
      {
       "output_type": "stream",
       "stream": "stdout",
       "text": [
        "\r",
        "Processing point 312 of 412 at [667 573]"
       ]
      },
      {
       "output_type": "stream",
       "stream": "stdout",
       "text": [
        "\r",
        "Processing point 313 of 412 at [668 574]"
       ]
      },
      {
       "output_type": "stream",
       "stream": "stdout",
       "text": [
        "\r",
        "Processing point 314 of 412 at [668 575]"
       ]
      },
      {
       "output_type": "stream",
       "stream": "stdout",
       "text": [
        "\r",
        "Processing point 315 of 412 at [669 575]"
       ]
      },
      {
       "output_type": "stream",
       "stream": "stdout",
       "text": [
        "\r",
        "Processing point 316 of 412 at [669 576]"
       ]
      },
      {
       "output_type": "stream",
       "stream": "stdout",
       "text": [
        "\r",
        "Processing point 317 of 412 at [670 577]"
       ]
      },
      {
       "output_type": "stream",
       "stream": "stdout",
       "text": [
        "\r",
        "Processing point 318 of 412 at [670 578]"
       ]
      },
      {
       "output_type": "stream",
       "stream": "stdout",
       "text": [
        "\r",
        "Processing point 319 of 412 at [671 579]"
       ]
      },
      {
       "output_type": "stream",
       "stream": "stdout",
       "text": [
        "\r",
        "Processing point 320 of 412 at [671 580]"
       ]
      },
      {
       "output_type": "stream",
       "stream": "stdout",
       "text": [
        "\r",
        "Processing point 321 of 412 at [672 581]"
       ]
      },
      {
       "output_type": "stream",
       "stream": "stdout",
       "text": [
        "\r",
        "Processing point 322 of 412 at [672 581]"
       ]
      },
      {
       "output_type": "stream",
       "stream": "stdout",
       "text": [
        "\r",
        "Processing point 323 of 412 at [673 582]"
       ]
      },
      {
       "output_type": "stream",
       "stream": "stdout",
       "text": [
        "\r",
        "Processing point 324 of 412 at [673 583]"
       ]
      },
      {
       "output_type": "stream",
       "stream": "stdout",
       "text": [
        "\r",
        "Processing point 325 of 412 at [674 584]"
       ]
      },
      {
       "output_type": "stream",
       "stream": "stdout",
       "text": [
        "\r",
        "Processing point 326 of 412 at [674 585]"
       ]
      },
      {
       "output_type": "stream",
       "stream": "stdout",
       "text": [
        "\r",
        "Processing point 327 of 412 at [675 586]"
       ]
      },
      {
       "output_type": "stream",
       "stream": "stdout",
       "text": [
        "\r",
        "Processing point 328 of 412 at [675 587]"
       ]
      },
      {
       "output_type": "stream",
       "stream": "stdout",
       "text": [
        "\r",
        "Processing point 329 of 412 at [676 588]"
       ]
      },
      {
       "output_type": "stream",
       "stream": "stdout",
       "text": [
        "\r",
        "Processing point 330 of 412 at [676 588]"
       ]
      },
      {
       "output_type": "stream",
       "stream": "stdout",
       "text": [
        "\r",
        "Processing point 331 of 412 at [677 589]"
       ]
      },
      {
       "output_type": "stream",
       "stream": "stdout",
       "text": [
        "\r",
        "Processing point 332 of 412 at [677 590]"
       ]
      },
      {
       "output_type": "stream",
       "stream": "stdout",
       "text": [
        "\r",
        "Processing point 333 of 412 at [678 591]"
       ]
      },
      {
       "output_type": "stream",
       "stream": "stdout",
       "text": [
        "\r",
        "Processing point 334 of 412 at [678 592]"
       ]
      },
      {
       "output_type": "stream",
       "stream": "stdout",
       "text": [
        "\r",
        "Processing point 335 of 412 at [679 593]"
       ]
      },
      {
       "output_type": "stream",
       "stream": "stdout",
       "text": [
        "\r",
        "Processing point 336 of 412 at [679 594]"
       ]
      },
      {
       "output_type": "stream",
       "stream": "stdout",
       "text": [
        "\r",
        "Processing point 337 of 412 at [680 595]"
       ]
      },
      {
       "output_type": "stream",
       "stream": "stdout",
       "text": [
        "\r",
        "Processing point 338 of 412 at [680 595]"
       ]
      },
      {
       "output_type": "stream",
       "stream": "stdout",
       "text": [
        "\r",
        "Processing point 339 of 412 at [681 596]"
       ]
      },
      {
       "output_type": "stream",
       "stream": "stdout",
       "text": [
        "\r",
        "Processing point 340 of 412 at [681 597]"
       ]
      },
      {
       "output_type": "stream",
       "stream": "stdout",
       "text": [
        "\r",
        "Processing point 341 of 412 at [682 598]"
       ]
      },
      {
       "output_type": "stream",
       "stream": "stdout",
       "text": [
        "\r",
        "Processing point 342 of 412 at [682 599]"
       ]
      },
      {
       "output_type": "stream",
       "stream": "stdout",
       "text": [
        "\r",
        "Processing point 343 of 412 at [683 600]"
       ]
      },
      {
       "output_type": "stream",
       "stream": "stdout",
       "text": [
        "\r",
        "Processing point 344 of 412 at [683 601]"
       ]
      },
      {
       "output_type": "stream",
       "stream": "stdout",
       "text": [
        "\r",
        "Processing point 345 of 412 at [684 601]"
       ]
      },
      {
       "output_type": "stream",
       "stream": "stdout",
       "text": [
        "\r",
        "Processing point 346 of 412 at [684 602]"
       ]
      },
      {
       "output_type": "stream",
       "stream": "stdout",
       "text": [
        "\r",
        "Processing point 347 of 412 at [685 603]"
       ]
      },
      {
       "output_type": "stream",
       "stream": "stdout",
       "text": [
        "\r",
        "Processing point 348 of 412 at [685 604]"
       ]
      },
      {
       "output_type": "stream",
       "stream": "stdout",
       "text": [
        "\r",
        "Processing point 349 of 412 at [686 605]"
       ]
      },
      {
       "output_type": "stream",
       "stream": "stdout",
       "text": [
        "\r",
        "Processing point 350 of 412 at [686 606]"
       ]
      },
      {
       "output_type": "stream",
       "stream": "stdout",
       "text": [
        "\r",
        "Processing point 351 of 412 at [687 607]"
       ]
      },
      {
       "output_type": "stream",
       "stream": "stdout",
       "text": [
        "\r",
        "Processing point 352 of 412 at [687 608]"
       ]
      },
      {
       "output_type": "stream",
       "stream": "stdout",
       "text": [
        "\r",
        "Processing point 353 of 412 at [688 608]"
       ]
      },
      {
       "output_type": "stream",
       "stream": "stdout",
       "text": [
        "\r",
        "Processing point 354 of 412 at [688 609]"
       ]
      },
      {
       "output_type": "stream",
       "stream": "stdout",
       "text": [
        "\r",
        "Processing point 355 of 412 at [689 610]"
       ]
      },
      {
       "output_type": "stream",
       "stream": "stdout",
       "text": [
        "\r",
        "Processing point 356 of 412 at [689 611]"
       ]
      },
      {
       "output_type": "stream",
       "stream": "stdout",
       "text": [
        "\r",
        "Processing point 357 of 412 at [690 612]"
       ]
      },
      {
       "output_type": "stream",
       "stream": "stdout",
       "text": [
        "\r",
        "Processing point 358 of 412 at [690 613]"
       ]
      },
      {
       "output_type": "stream",
       "stream": "stdout",
       "text": [
        "\r",
        "Processing point 359 of 412 at [691 614]"
       ]
      },
      {
       "output_type": "stream",
       "stream": "stdout",
       "text": [
        "\r",
        "Processing point 360 of 412 at [691 614]"
       ]
      },
      {
       "output_type": "stream",
       "stream": "stdout",
       "text": [
        "\r",
        "Processing point 361 of 412 at [692 615]"
       ]
      },
      {
       "output_type": "stream",
       "stream": "stdout",
       "text": [
        "\r",
        "Processing point 362 of 412 at [692 616]"
       ]
      },
      {
       "output_type": "stream",
       "stream": "stdout",
       "text": [
        "\r",
        "Processing point 363 of 412 at [693 617]"
       ]
      },
      {
       "output_type": "stream",
       "stream": "stdout",
       "text": [
        "\r",
        "Processing point 364 of 412 at [693 618]"
       ]
      },
      {
       "output_type": "stream",
       "stream": "stdout",
       "text": [
        "\r",
        "Processing point 365 of 412 at [694 619]"
       ]
      },
      {
       "output_type": "stream",
       "stream": "stdout",
       "text": [
        "\r",
        "Processing point 366 of 412 at [694 620]"
       ]
      },
      {
       "output_type": "stream",
       "stream": "stdout",
       "text": [
        "\r",
        "Processing point 367 of 412 at [695 621]"
       ]
      },
      {
       "output_type": "stream",
       "stream": "stdout",
       "text": [
        "\r",
        "Processing point 368 of 412 at [695 621]"
       ]
      },
      {
       "output_type": "stream",
       "stream": "stdout",
       "text": [
        "\r",
        "Processing point 369 of 412 at [696 622]"
       ]
      },
      {
       "output_type": "stream",
       "stream": "stdout",
       "text": [
        "\r",
        "Processing point 370 of 412 at [696 623]"
       ]
      },
      {
       "output_type": "stream",
       "stream": "stdout",
       "text": [
        "\r",
        "Processing point 371 of 412 at [697 624]"
       ]
      },
      {
       "output_type": "stream",
       "stream": "stdout",
       "text": [
        "\r",
        "Processing point 372 of 412 at [697 625]"
       ]
      },
      {
       "output_type": "stream",
       "stream": "stdout",
       "text": [
        "\r",
        "Processing point 373 of 412 at [698 626]"
       ]
      },
      {
       "output_type": "stream",
       "stream": "stdout",
       "text": [
        "\r",
        "Processing point 374 of 412 at [698 627]"
       ]
      },
      {
       "output_type": "stream",
       "stream": "stdout",
       "text": [
        "\r",
        "Processing point 375 of 412 at [699 627]"
       ]
      },
      {
       "output_type": "stream",
       "stream": "stdout",
       "text": [
        "\r",
        "Processing point 376 of 412 at [699 628]"
       ]
      },
      {
       "output_type": "stream",
       "stream": "stdout",
       "text": [
        "\r",
        "Processing point 377 of 412 at [700 629]"
       ]
      },
      {
       "output_type": "stream",
       "stream": "stdout",
       "text": [
        "\r",
        "Processing point 378 of 412 at [700 630]"
       ]
      },
      {
       "output_type": "stream",
       "stream": "stdout",
       "text": [
        "\r",
        "Processing point 379 of 412 at [701 631]"
       ]
      },
      {
       "output_type": "stream",
       "stream": "stdout",
       "text": [
        "\r",
        "Processing point 380 of 412 at [701 632]"
       ]
      },
      {
       "output_type": "stream",
       "stream": "stdout",
       "text": [
        "\r",
        "Processing point 381 of 412 at [702 633]"
       ]
      },
      {
       "output_type": "stream",
       "stream": "stdout",
       "text": [
        "\r",
        "Processing point 382 of 412 at [702 634]"
       ]
      },
      {
       "output_type": "stream",
       "stream": "stdout",
       "text": [
        "\r",
        "Processing point 383 of 412 at [703 634]"
       ]
      },
      {
       "output_type": "stream",
       "stream": "stdout",
       "text": [
        "\r",
        "Processing point 384 of 412 at [703 635]"
       ]
      },
      {
       "output_type": "stream",
       "stream": "stdout",
       "text": [
        "\r",
        "Processing point 385 of 412 at [704 636]"
       ]
      },
      {
       "output_type": "stream",
       "stream": "stdout",
       "text": [
        "\r",
        "Processing point 386 of 412 at [704 637]"
       ]
      },
      {
       "output_type": "stream",
       "stream": "stdout",
       "text": [
        "\r",
        "Processing point 387 of 412 at [705 638]"
       ]
      },
      {
       "output_type": "stream",
       "stream": "stdout",
       "text": [
        "\r",
        "Processing point 388 of 412 at [705 639]"
       ]
      },
      {
       "output_type": "stream",
       "stream": "stdout",
       "text": [
        "\r",
        "Processing point 389 of 412 at [706 640]"
       ]
      },
      {
       "output_type": "stream",
       "stream": "stdout",
       "text": [
        "\r",
        "Processing point 390 of 412 at [706 641]"
       ]
      },
      {
       "output_type": "stream",
       "stream": "stdout",
       "text": [
        "\r",
        "Processing point 391 of 412 at [707 641]"
       ]
      },
      {
       "output_type": "stream",
       "stream": "stdout",
       "text": [
        "\r",
        "Processing point 392 of 412 at [707 642]"
       ]
      },
      {
       "output_type": "stream",
       "stream": "stdout",
       "text": [
        "\r",
        "Processing point 393 of 412 at [708 643]"
       ]
      },
      {
       "output_type": "stream",
       "stream": "stdout",
       "text": [
        "\r",
        "Processing point 394 of 412 at [708 644]"
       ]
      },
      {
       "output_type": "stream",
       "stream": "stdout",
       "text": [
        "\r",
        "Processing point 395 of 412 at [709 645]"
       ]
      },
      {
       "output_type": "stream",
       "stream": "stdout",
       "text": [
        "\r",
        "Processing point 396 of 412 at [709 646]"
       ]
      },
      {
       "output_type": "stream",
       "stream": "stdout",
       "text": [
        "\r",
        "Processing point 397 of 412 at [710 647]"
       ]
      },
      {
       "output_type": "stream",
       "stream": "stdout",
       "text": [
        "\r",
        "Processing point 398 of 412 at [710 647]"
       ]
      },
      {
       "output_type": "stream",
       "stream": "stdout",
       "text": [
        "\r",
        "Processing point 399 of 412 at [711 648]"
       ]
      },
      {
       "output_type": "stream",
       "stream": "stdout",
       "text": [
        "\r",
        "Processing point 400 of 412 at [711 649]"
       ]
      },
      {
       "output_type": "stream",
       "stream": "stdout",
       "text": [
        "\r",
        "Processing point 401 of 412 at [711 650]"
       ]
      },
      {
       "output_type": "stream",
       "stream": "stdout",
       "text": [
        "\r",
        "Processing point 402 of 412 at [712 651]"
       ]
      },
      {
       "output_type": "stream",
       "stream": "stdout",
       "text": [
        "\r",
        "Processing point 403 of 412 at [712 652]"
       ]
      },
      {
       "output_type": "stream",
       "stream": "stdout",
       "text": [
        "\r",
        "Processing point 404 of 412 at [713 653]"
       ]
      },
      {
       "output_type": "stream",
       "stream": "stdout",
       "text": [
        "\r",
        "Processing point 405 of 412 at [713 654]"
       ]
      },
      {
       "output_type": "stream",
       "stream": "stdout",
       "text": [
        "\r",
        "Processing point 406 of 412 at [714 654]"
       ]
      },
      {
       "output_type": "stream",
       "stream": "stdout",
       "text": [
        "\r",
        "Processing point 407 of 412 at [714 655]"
       ]
      },
      {
       "output_type": "stream",
       "stream": "stdout",
       "text": [
        "\r",
        "Processing point 408 of 412 at [715 656]"
       ]
      },
      {
       "output_type": "stream",
       "stream": "stdout",
       "text": [
        "\r",
        "Processing point 409 of 412 at [715 657]"
       ]
      },
      {
       "output_type": "stream",
       "stream": "stdout",
       "text": [
        "\r",
        "Processing point 410 of 412 at [716 658]"
       ]
      },
      {
       "output_type": "stream",
       "stream": "stdout",
       "text": [
        "\r",
        "Processing point 411 of 412 at [716 659]"
       ]
      }
     ],
     "prompt_number": 70
    },
    {
     "cell_type": "code",
     "collapsed": false,
     "input": [
      "## find distances between closest edges and best fit line\n",
      "As = np.repeat(np.reshape(line[2:4], [1, 2]), len(discreteLine), axis=0)\n",
      "Ns = np.repeat(np.reshape(line[0:2], [1, 2]), len(discreteLine), axis=0)\n",
      "\n",
      "# remember that negHalfSpaceClosestEdges and posHalfSpaceClosestEdges contain row, column indices not x, y coords\n",
      "closestEdges = np.array([negHalfSpaceClosestEdges[:, 1], negHalfSpaceClosestEdges[:, 0]]).T \n",
      "negHSEdgeDists = np.linalg.norm(As-closestEdges - Ns*np.repeat(np.reshape(np.dot(As-closestEdges, line[0:2]), [len(Ns), 1]), 1, axis=1), axis=1)\n",
      "\n",
      "closestEdges = np.array([posHalfSpaceClosestEdges[:, 1], posHalfSpaceClosestEdges[:, 0]]).T\n",
      "posHSEdgeDists = np.linalg.norm(As-closestEdges - Ns*np.repeat(np.reshape(np.dot(As-closestEdges, line[0:2]), [len(Ns), 1]), 1, axis=1), axis=1)\n",
      "\n",
      "\n",
      "figure(); plot(negHSEdgeDists, 'r', posHSEdgeDists, 'b')"
     ],
     "language": "python",
     "metadata": {},
     "outputs": [
      {
       "metadata": {},
       "output_type": "pyout",
       "prompt_number": 71,
       "text": [
        "[<matplotlib.lines.Line2D at 0x7f656ccb8ad0>,\n",
        " <matplotlib.lines.Line2D at 0x7f656ccb8d50>]"
       ]
      }
     ],
     "prompt_number": 71
    },
    {
     "cell_type": "code",
     "collapsed": false,
     "input": [
      "## compute histogram\n",
      "negHist, negBins = np.histogram(negHSEdgeDists)\n",
      "posHist, posBins = np.histogram(posHSEdgeDists)\n",
      "\n",
      "figure()\n",
      "plt.bar(negBins[:-1], negHist, color='yellow', width=2)\n",
      "plt.bar(posBins[:-1], posHist, color='green', width=2)\n",
      "plt.xlim(min(np.hstack((negBins, posBins))), max(np.hstack((negBins, posBins))))\n",
      "plt.show()\n",
      "\n",
      "## find 4 corners of box around bone to use as active shape input\n",
      "# the bbox is aligned to the bestFitLine\n",
      "bbox = np.zeros([4, 2])\n",
      "\n",
      "# distance from bestFitLine to edge of bbox in positive and negative halfspace respectively\n",
      "\n",
      "distType = 2\n",
      "\n",
      "if distType == 0 :\n",
      "    ## distance is given by mean distance to closest edge points\n",
      "    posDist = np.mean(posHSEdgeDists)\n",
      "    negDist = np.mean(negHSEdgeDists)\n",
      "elif distType == 1:\n",
      "    ## distance is given by the right boundary of highest value bin in distance to edge histogram\n",
      "    posDist = posBins[np.argmax(posHist)+1]\n",
      "    negDist = negBins[np.argmax(negHist)+1]\n",
      "elif distType == 2:\n",
      "    ## distance is the mean of right boundary of top 3 highest value bins in distance to edge histogram\n",
      "    posDist = np.mean((posBins[np.argsort(posHist)+1])[-3:])\n",
      "    negDist = np.mean((negBins[np.argsort(negHist)+1])[-3:])\n",
      "\n",
      "print posDist\n",
      "print negDist\n",
      "\n",
      "## HACK:::HACK\n",
      "inflation = 0.5\n",
      "inflatedStart = discreteLine[0, :] + (discreteLine[-1, :]-discreteLine[0, :])*(1+inflation*0.1)\n",
      "print discreteLine[0, :], inflatedStart\n",
      "inflatedEnd = discreteLine[-1, :] + (discreteLine[0, :]-discreteLine[-1, :])*(1+inflation*0.1)\n",
      "print discreteLine[1, :], inflatedEnd\n",
      "\n",
      "bbox[0, :] = inflatedStart + posDist*(1+inflation)*discreteNormals[1, :]/np.linalg.norm(discreteNormals[1, :])\n",
      "bbox[1, :] = inflatedEnd + posDist*(1+inflation)*discreteNormals[1, :]/np.linalg.norm(discreteNormals[1, :])\n",
      "bbox[2, :] = inflatedEnd + negDist*(1+inflation)*discreteNormals[0, :]/np.linalg.norm(discreteNormals[0, :])\n",
      "bbox[3, :] = inflatedStart + negDist*(1+inflation)*discreteNormals[0, :]/np.linalg.norm(discreteNormals[0, :])\n",
      "print bbox\n",
      "\n",
      "## inflate bbox\n",
      "\n",
      "\n",
      "fig = plt.figure(figsize=(10, 10))\n",
      "\n",
      "ax = fig.add_subplot(111)\n",
      "ax.set_xlabel('X')\n",
      "ax.set_ylabel('Y')\n",
      "ax.imshow(distanceMatrix*edges, interpolation='nearest')\n",
      "ax.autoscale(False)\n",
      "ax.plot(bestFitLine[:, 0], bestFitLine[:, 1], c='r')\n",
      "ax.plot(bbox[:, 0], bbox[:, 1], c='y')\n",
      "draw()\n",
      "\n",
      "# discreteLine[-1, :]"
     ],
     "language": "python",
     "metadata": {},
     "outputs": [
      {
       "output_type": "stream",
       "stream": "stdout",
       "text": [
        "45.351155032\n",
        "29.456600715\n",
        "[512 302] [ 726.2   676.85]\n",
        "[512 303] [ 501.8   284.15]\n",
        "[[ 667.13625598  710.60071087]\n",
        " [ 442.73625598  317.90071087]\n",
        " [ 540.16323734  262.22815009]\n",
        " [ 764.56323734  654.92815009]]\n"
       ]
      }
     ],
     "prompt_number": 72
    },
    {
     "cell_type": "code",
     "collapsed": false,
     "input": [
      "## build the snake initialization by supersampling the bbox\n",
      "numOfPoints = 100\n",
      "interval = (np.linalg.norm(bbox[0, :]-bbox[1, :])+np.linalg.norm(bbox[1, :]-bbox[2, :]))/(numOfPoints*0.5)\n",
      "snake = []\n",
      "for i, j in zip(arange(0, len(bbox)), np.hstack((arange(1, len(bbox)), 0))):\n",
      "    currentPoint = bbox[i, :]\n",
      "#     snake.append(currentPoint)\n",
      "    currentDir = (bbox[j, :]-bbox[i, :])/np.linalg.norm(bbox[j, :]-bbox[i, :])\n",
      "    while np.linalg.norm(currentPoint-bbox[j, :]) > interval :\n",
      "        snake.append(currentPoint)\n",
      "        currentPoint = currentPoint + interval*currentDir\n",
      "    \n",
      "    ##divide last remaining bit into half\n",
      "    snake.append((snake[-1]+bbox[j, :])/2)\n",
      "\n",
      "snake = np.array(snake)\n",
      "print snake.shape"
     ],
     "language": "python",
     "metadata": {},
     "outputs": [
      {
       "output_type": "stream",
       "stream": "stdout",
       "text": [
        "(102, 2)\n"
       ]
      }
     ],
     "prompt_number": 23
    },
    {
     "cell_type": "code",
     "collapsed": false,
     "input": [
      "np.save(\"userPoints\", userPoints)"
     ],
     "language": "python",
     "metadata": {},
     "outputs": [],
     "prompt_number": 75
    },
    {
     "cell_type": "code",
     "collapsed": false,
     "input": [
      "fig = plt.figure(figsize=(10, 10))\n",
      "\n",
      "ax = fig.add_subplot(111)\n",
      "ax.set_xlabel('X')\n",
      "ax.set_ylabel('Y')\n",
      "# ax.imshow(distanceMatrix*edges, interpolation='nearest')\n",
      "ax.imshow(firstFrame, interpolation='nearest')\n",
      "ax.autoscale(False)\n",
      "ax.plot(bestFitLine[:, 0], bestFitLine[:, 1], c='r')\n",
      "ax.scatter(snake[:, 0], snake[:, 1], c='y')\n",
      "draw()"
     ],
     "language": "python",
     "metadata": {},
     "outputs": [],
     "prompt_number": 24
    },
    {
     "cell_type": "code",
     "collapsed": false,
     "input": [
      "testBox = np.copy(bbox)\n",
      "print testBox\n",
      "testMidPoint = (discreteLine[0, :]+discreteLine[-1, :])/2\n",
      "testMidPoint = np.repeat(np.reshape(testMidPoint, [1, len(testMidPoint)]), len(testBox), axis=0)\n",
      "print testMidPoint\n",
      "testInflated = ((testBox-testMidPoint)*1.2)+testMidPoint\n",
      "\n",
      "fig = plt.figure(figsize=(10, 10))\n",
      "\n",
      "ax = fig.add_subplot(111)\n",
      "ax.set_xlabel('X')\n",
      "ax.set_ylabel('Y')\n",
      "ax.imshow(distanceMatrix*edges, interpolation='nearest')\n",
      "ax.autoscale(False)\n",
      "ax.plot(bestFitLine[:, 0], bestFitLine[:, 1], c='r')\n",
      "ax.plot(testBox[:, 0], testBox[:, 1], c='y')\n",
      "ax.plot(testInflated[:, 0], testInflated[:, 1], c='g')\n",
      "draw()"
     ],
     "language": "python",
     "metadata": {},
     "outputs": [
      {
       "output_type": "stream",
       "stream": "stdout",
       "text": [
        "[[ 468.59240193  315.08052488]\n",
        " [ 672.59240193  677.08052488]\n",
        " [ 737.9459295   640.25146514]\n",
        " [ 533.9459295   278.25146514]]\n",
        "[[608 475]\n",
        " [608 475]\n",
        " [608 475]\n",
        " [608 475]]\n"
       ]
      }
     ],
     "prompt_number": 148
    },
    {
     "cell_type": "code",
     "collapsed": false,
     "input": [
      "points = []\n",
      "points.append(np.array([0, 1]))\n",
      "points.append(np.array([0, 2]))\n",
      "points.append(np.array([0, 3]))\n",
      "if any(np.array([0, 5]) == p for p in points):\n",
      "    print \"yay\""
     ],
     "language": "python",
     "metadata": {},
     "outputs": [
      {
       "output_type": "stream",
       "stream": "stdout",
       "text": [
        "yay\n"
       ]
      }
     ],
     "prompt_number": 101
    },
    {
     "cell_type": "code",
     "collapsed": false,
     "input": [
      "#sign( (Bx-Ax)*(Y-Ay) - (By-Ay)*(X-Ax) )\n",
      "print np.vstack((discreteLine[0, :], discreteLine[-1, :]))\n",
      "positiveMask = positiveHalfspaceMask(np.vstack((discreteLine[0, :], discreteLine[-1, :])), firstFrame.shape[0:2], True)\n",
      "figure(); imshow(positiveMask, interpolation='nearest')"
     ],
     "language": "python",
     "metadata": {},
     "outputs": [
      {
       "output_type": "stream",
       "stream": "stdout",
       "text": [
        "[[509 286]\n",
        " [704 665]]\n"
       ]
      },
      {
       "metadata": {},
       "output_type": "pyout",
       "prompt_number": 58,
       "text": [
        "<matplotlib.image.AxesImage at 0x7fec3e623e50>"
       ]
      }
     ],
     "prompt_number": 58
    },
    {
     "cell_type": "code",
     "collapsed": false,
     "input": [
      "print discreteLine"
     ],
     "language": "python",
     "metadata": {},
     "outputs": [
      {
       "output_type": "stream",
       "stream": "stdout",
       "text": [
        "[[509 286]\n",
        " [509 287]\n",
        " [510 288]\n",
        " [510 289]\n",
        " [511 290]\n",
        " [511 290]\n",
        " [512 291]\n",
        " [512 292]\n",
        " [513 293]\n",
        " [513 294]\n",
        " [514 295]\n",
        " [514 296]\n",
        " [515 297]\n",
        " [515 298]\n",
        " [515 298]\n",
        " [516 299]\n",
        " [516 300]\n",
        " [517 301]\n",
        " [517 302]\n",
        " [518 303]\n",
        " [518 304]\n",
        " [519 305]\n",
        " [519 306]\n",
        " [520 306]\n",
        " [520 307]\n",
        " [520 308]\n",
        " [521 309]\n",
        " [521 310]\n",
        " [522 311]\n",
        " [522 312]\n",
        " [523 313]\n",
        " [523 314]\n",
        " [524 315]\n",
        " [524 315]\n",
        " [525 316]\n",
        " [525 317]\n",
        " [526 318]\n",
        " [526 319]\n",
        " [526 320]\n",
        " [527 321]\n",
        " [527 322]\n",
        " [528 323]\n",
        " [528 323]\n",
        " [529 324]\n",
        " [529 325]\n",
        " [530 326]\n",
        " [530 327]\n",
        " [531 328]\n",
        " [531 329]\n",
        " [532 330]\n",
        " [532 331]\n",
        " [532 331]\n",
        " [533 332]\n",
        " [533 333]\n",
        " [534 334]\n",
        " [534 335]\n",
        " [535 336]\n",
        " [535 337]\n",
        " [536 338]\n",
        " [536 339]\n",
        " [537 339]\n",
        " [537 340]\n",
        " [538 341]\n",
        " [538 342]\n",
        " [538 343]\n",
        " [539 344]\n",
        " [539 345]\n",
        " [540 346]\n",
        " [540 347]\n",
        " [541 347]\n",
        " [541 348]\n",
        " [542 349]\n",
        " [542 350]\n",
        " [543 351]\n",
        " [543 352]\n",
        " [543 353]\n",
        " [544 354]\n",
        " [544 355]\n",
        " [545 355]\n",
        " [545 356]\n",
        " [546 357]\n",
        " [546 358]\n",
        " [547 359]\n",
        " [547 360]\n",
        " [548 361]\n",
        " [548 362]\n",
        " [549 363]\n",
        " [549 363]\n",
        " [549 364]\n",
        " [550 365]\n",
        " [550 366]\n",
        " [551 367]\n",
        " [551 368]\n",
        " [552 369]\n",
        " [552 370]\n",
        " [553 371]\n",
        " [553 372]\n",
        " [554 372]\n",
        " [554 373]\n",
        " [555 374]\n",
        " [555 375]\n",
        " [555 376]\n",
        " [556 377]\n",
        " [556 378]\n",
        " [557 379]\n",
        " [557 380]\n",
        " [558 380]\n",
        " [558 381]\n",
        " [559 382]\n",
        " [559 383]\n",
        " [560 384]\n",
        " [560 385]\n",
        " [560 386]\n",
        " [561 387]\n",
        " [561 388]\n",
        " [562 388]\n",
        " [562 389]\n",
        " [563 390]\n",
        " [563 391]\n",
        " [564 392]\n",
        " [564 393]\n",
        " [565 394]\n",
        " [565 395]\n",
        " [566 396]\n",
        " [566 396]\n",
        " [566 397]\n",
        " [567 398]\n",
        " [567 399]\n",
        " [568 400]\n",
        " [568 401]\n",
        " [569 402]\n",
        " [569 403]\n",
        " [570 404]\n",
        " [570 404]\n",
        " [571 405]\n",
        " [571 406]\n",
        " [572 407]\n",
        " [572 408]\n",
        " [572 409]\n",
        " [573 410]\n",
        " [573 411]\n",
        " [574 412]\n",
        " [574 412]\n",
        " [575 413]\n",
        " [575 414]\n",
        " [576 415]\n",
        " [576 416]\n",
        " [577 417]\n",
        " [577 418]\n",
        " [578 419]\n",
        " [578 420]\n",
        " [578 420]\n",
        " [579 421]\n",
        " [579 422]\n",
        " [580 423]\n",
        " [580 424]\n",
        " [581 425]\n",
        " [581 426]\n",
        " [582 427]\n",
        " [582 428]\n",
        " [583 429]\n",
        " [583 429]\n",
        " [583 430]\n",
        " [584 431]\n",
        " [584 432]\n",
        " [585 433]\n",
        " [585 434]\n",
        " [586 435]\n",
        " [586 436]\n",
        " [587 437]\n",
        " [587 437]\n",
        " [588 438]\n",
        " [588 439]\n",
        " [589 440]\n",
        " [589 441]\n",
        " [589 442]\n",
        " [590 443]\n",
        " [590 444]\n",
        " [591 445]\n",
        " [591 445]\n",
        " [592 446]\n",
        " [592 447]\n",
        " [593 448]\n",
        " [593 449]\n",
        " [594 450]\n",
        " [594 451]\n",
        " [595 452]\n",
        " [595 453]\n",
        " [595 453]\n",
        " [596 454]\n",
        " [596 455]\n",
        " [597 456]\n",
        " [597 457]\n",
        " [598 458]\n",
        " [598 459]\n",
        " [599 460]\n",
        " [599 461]\n",
        " [600 461]\n",
        " [600 462]\n",
        " [600 463]\n",
        " [601 464]\n",
        " [601 465]\n",
        " [602 466]\n",
        " [602 467]\n",
        " [603 468]\n",
        " [603 469]\n",
        " [604 469]\n",
        " [604 470]\n",
        " [605 471]\n",
        " [605 472]\n",
        " [606 473]\n",
        " [606 474]\n",
        " [606 475]\n",
        " [607 476]\n",
        " [607 477]\n",
        " [608 477]\n",
        " [608 478]\n",
        " [609 479]\n",
        " [609 480]\n",
        " [610 481]\n",
        " [610 482]\n",
        " [611 483]\n",
        " [611 484]\n",
        " [612 485]\n",
        " [612 486]\n",
        " [612 486]\n",
        " [613 487]\n",
        " [613 488]\n",
        " [614 489]\n",
        " [614 490]\n",
        " [615 491]\n",
        " [615 492]\n",
        " [616 493]\n",
        " [616 494]\n",
        " [617 494]\n",
        " [617 495]\n",
        " [618 496]\n",
        " [618 497]\n",
        " [618 498]\n",
        " [619 499]\n",
        " [619 500]\n",
        " [620 501]\n",
        " [620 502]\n",
        " [621 502]\n",
        " [621 503]\n",
        " [622 504]\n",
        " [622 505]\n",
        " [623 506]\n",
        " [623 507]\n",
        " [623 508]\n",
        " [624 509]\n",
        " [624 510]\n",
        " [625 510]\n",
        " [625 511]\n",
        " [626 512]\n",
        " [626 513]\n",
        " [627 514]\n",
        " [627 515]\n",
        " [628 516]\n",
        " [628 517]\n",
        " [629 518]\n",
        " [629 518]\n",
        " [629 519]\n",
        " [630 520]\n",
        " [630 521]\n",
        " [631 522]\n",
        " [631 523]\n",
        " [632 524]\n",
        " [632 525]\n",
        " [633 526]\n",
        " [633 526]\n",
        " [634 527]\n",
        " [634 528]\n",
        " [635 529]\n",
        " [635 530]\n",
        " [635 531]\n",
        " [636 532]\n",
        " [636 533]\n",
        " [637 534]\n",
        " [637 534]\n",
        " [638 535]\n",
        " [638 536]\n",
        " [639 537]\n",
        " [639 538]\n",
        " [640 539]\n",
        " [640 540]\n",
        " [641 541]\n",
        " [641 542]\n",
        " [641 543]\n",
        " [642 543]\n",
        " [642 544]\n",
        " [643 545]\n",
        " [643 546]\n",
        " [644 547]\n",
        " [644 548]\n",
        " [645 549]\n",
        " [645 550]\n",
        " [646 551]\n",
        " [646 551]\n",
        " [646 552]\n",
        " [647 553]\n",
        " [647 554]\n",
        " [648 555]\n",
        " [648 556]\n",
        " [649 557]\n",
        " [649 558]\n",
        " [650 559]\n",
        " [650 559]\n",
        " [651 560]\n",
        " [651 561]\n",
        " [652 562]\n",
        " [652 563]\n",
        " [652 564]\n",
        " [653 565]\n",
        " [653 566]\n",
        " [654 567]\n",
        " [654 567]\n",
        " [655 568]\n",
        " [655 569]\n",
        " [656 570]\n",
        " [656 571]\n",
        " [657 572]\n",
        " [657 573]\n",
        " [658 574]\n",
        " [658 575]\n",
        " [658 575]\n",
        " [659 576]\n",
        " [659 577]\n",
        " [660 578]\n",
        " [660 579]\n",
        " [661 580]\n",
        " [661 581]\n",
        " [662 582]\n",
        " [662 583]\n",
        " [663 583]\n",
        " [663 584]\n",
        " [663 585]\n",
        " [664 586]\n",
        " [664 587]\n",
        " [665 588]\n",
        " [665 589]\n",
        " [666 590]\n",
        " [666 591]\n",
        " [667 591]\n",
        " [667 592]\n",
        " [668 593]\n",
        " [668 594]\n",
        " [669 595]\n",
        " [669 596]\n",
        " [669 597]\n",
        " [670 598]\n",
        " [670 599]\n",
        " [671 600]\n",
        " [671 600]\n",
        " [672 601]\n",
        " [672 602]\n",
        " [673 603]\n",
        " [673 604]\n",
        " [674 605]\n",
        " [674 606]\n",
        " [675 607]\n",
        " [675 608]\n",
        " [675 608]\n",
        " [676 609]\n",
        " [676 610]\n",
        " [677 611]\n",
        " [677 612]\n",
        " [678 613]\n",
        " [678 614]\n",
        " [679 615]\n",
        " [679 616]\n",
        " [680 616]\n",
        " [680 617]\n",
        " [681 618]\n",
        " [681 619]\n",
        " [681 620]\n",
        " [682 621]\n",
        " [682 622]\n",
        " [683 623]\n",
        " [683 624]\n",
        " [684 624]\n",
        " [684 625]\n",
        " [685 626]\n",
        " [685 627]\n",
        " [686 628]\n",
        " [686 629]\n",
        " [686 630]\n",
        " [687 631]\n",
        " [687 632]\n",
        " [688 632]\n",
        " [688 633]\n",
        " [689 634]\n",
        " [689 635]\n",
        " [690 636]\n",
        " [690 637]\n",
        " [691 638]\n",
        " [691 639]\n",
        " [692 640]\n",
        " [692 640]\n",
        " [692 641]\n",
        " [693 642]\n",
        " [693 643]\n",
        " [694 644]\n",
        " [694 645]\n",
        " [695 646]\n",
        " [695 647]\n",
        " [696 648]\n",
        " [696 648]\n",
        " [697 649]\n",
        " [697 650]\n",
        " [698 651]\n",
        " [698 652]\n",
        " [698 653]\n",
        " [699 654]\n",
        " [699 655]\n",
        " [700 656]\n",
        " [700 657]\n",
        " [701 657]\n",
        " [701 658]\n",
        " [702 659]\n",
        " [702 660]\n",
        " [703 661]\n",
        " [703 662]\n",
        " [703 663]\n",
        " [704 664]\n",
        " [704 665]]\n"
       ]
      }
     ],
     "prompt_number": 52
    },
    {
     "cell_type": "code",
     "collapsed": false,
     "input": [
      "tmp = np.where((distanceMatrix*edges) == np.min((distanceMatrix*edges)[np.nonzero(distanceMatrix*edges)]))\n",
      "print tmp\n",
      "ax.scatter(tmp[1], tmp[0], c='g')"
     ],
     "language": "python",
     "metadata": {},
     "outputs": [
      {
       "output_type": "stream",
       "stream": "stdout",
       "text": [
        "(array([537, 537, 538, 540]), array([641, 643, 643, 642]))\n"
       ]
      },
      {
       "metadata": {},
       "output_type": "pyout",
       "prompt_number": 38,
       "text": [
        "<matplotlib.collections.PathCollection at 0x7f4ef1694090>"
       ]
      }
     ],
     "prompt_number": 38
    },
    {
     "cell_type": "code",
     "collapsed": false,
     "input": [
      "points = findSplitSegment(line, [firstFrame.shape[0]-1,firstFrame.shape[1]-1])\n",
      "\n",
      "\n",
      "fig = plt.figure(figsize=(10, 10))\n",
      "\n",
      "ax = fig.add_subplot(111)\n",
      "ax.set_xlabel('X')\n",
      "ax.set_ylabel('Y')\n",
      "ax.imshow(distanceMatrix*edges, interpolation='nearest')\n",
      "\n",
      "ax.scatter(points[:, 0], points[:, 1], c='r')\n",
      "#     ax.scatter(point2[0], point2[1], c='b')\n",
      "ax.plot(bestFitLine[:, 0], bestFitLine[:, 1], c='r')"
     ],
     "language": "python",
     "metadata": {},
     "outputs": [
      {
       "metadata": {},
       "output_type": "pyout",
       "prompt_number": 9,
       "text": [
        "[<matplotlib.lines.Line2D at 0x7f3091663bd0>]"
       ]
      }
     ],
     "prompt_number": 9
    }
   ],
   "metadata": {}
  }
 ]
}