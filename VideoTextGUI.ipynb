{
 "metadata": {
  "name": ""
 },
 "nbformat": 3,
 "nbformat_minor": 0,
 "worksheets": [
  {
   "cells": [
    {
     "cell_type": "code",
     "collapsed": false,
     "input": [
      "%pylab\n",
      "from PySide import QtCore, QtGui\n",
      "import sys\n",
      "import numpy as np\n",
      "import scipy as sp\n",
      "import cv2\n",
      "import glob\n",
      "\n",
      "import VideoTexturesUtils as vtu\n",
      "\n",
      "dataFolder = \"data/\"\n",
      "\n",
      "app = QtGui.QApplication(sys.argv)"
     ],
     "language": "python",
     "metadata": {},
     "outputs": [
      {
       "output_type": "stream",
       "stream": "stdout",
       "text": [
        "Using matplotlib backend: TkAgg\n",
        "Populating the interactive namespace from numpy and matplotlib\n"
       ]
      }
     ],
     "prompt_number": 1
    },
    {
     "cell_type": "code",
     "collapsed": false,
     "input": [
      "class MainWidgetGroup(QtGui.QGroupBox):\n",
      "\n",
      "    valueChanged = QtCore.Signal(int)\n",
      "\n",
      "    def __init__(self, orientation, title, parent=None):\n",
      "        super(MainWidgetGroup, self).__init__(title, parent)\n",
      "        \n",
      "        self.imageLabel = QtGui.QLabel(\"Original Video\")\n",
      "        self.imageLabel.setBackgroundRole(QtGui.QPalette.Base)\n",
      "        self.imageLabel.setSizePolicy(QtGui.QSizePolicy.MinimumExpanding, QtGui.QSizePolicy.MinimumExpanding)\n",
      "        \n",
      "        self.textureLabel = QtGui.QLabel(\"Video Texture\")\n",
      "        self.textureLabel.setBackgroundRole(QtGui.QPalette.Base)\n",
      "        self.textureLabel.setSizePolicy(QtGui.QSizePolicy.MinimumExpanding, QtGui.QSizePolicy.MinimumExpanding)\n",
      "        \n",
      "#         self.imageLabel.setScaledContents(True)\n",
      "        labelLayout = QtGui.QHBoxLayout()\n",
      "        labelLayout.addStretch()\n",
      "        labelLayout.addWidget(self.imageLabel)\n",
      "        labelLayout.addStretch()\n",
      "        labelLayout.addWidget(self.textureLabel)\n",
      "        labelLayout.addStretch()\n",
      "\n",
      "        self.slider = QtGui.QSlider(orientation)\n",
      "        self.slider.setSizePolicy(QtGui.QSizePolicy.MinimumExpanding, QtGui.QSizePolicy.Minimum)\n",
      "        self.slider.setFocusPolicy(QtCore.Qt.StrongFocus)\n",
      "        self.slider.setTickPosition(QtGui.QSlider.TicksBothSides)\n",
      "        self.slider.setMaximum(0)\n",
      "        self.slider.setMinimum(0)\n",
      "        self.slider.setTickInterval(10)\n",
      "        self.slider.setSingleStep(1)\n",
      "        style = \"QSlider::handle:horizontal { background: #000000; width: 4px; \"\n",
      "        style += \"border-radius: 3px; } \"#QSlider::handle::horizontal:hover {width: 8px; margin: -2px 0px} \"\n",
      "        style += \"QSlider::groove:horizontal {background: white} \"\n",
      "#         style += \"QSlider {border: 2px solid grey;}\"\n",
      "        self.slider.setStyleSheet(style)\n",
      "    \n",
      "        self.renderTextureButton = QtGui.QPushButton(\"&Render Texture\")\n",
      "        \n",
      "        self.recomputeFramesCheckBox = QtGui.QCheckBox(\"Re-sample\")\n",
      "        self.recomputeFramesCheckBox.setChecked(True)\n",
      "        \n",
      "        self.frameNumLabel = QtGui.QLabel()\n",
      "        self.frameNumLabel.setAlignment(QtCore.Qt.AlignCenter)\n",
      "    \n",
      "        comandLayout = QtGui.QHBoxLayout()\n",
      "        comandLayout.addWidget(self.slider)\n",
      "        comandLayout.addWidget(self.renderTextureButton)\n",
      "        comandLayout.addWidget(self.recomputeFramesCheckBox)\n",
      "\n",
      "        if orientation == QtCore.Qt.Horizontal:\n",
      "            direction = QtGui.QBoxLayout.TopToBottom\n",
      "        else:\n",
      "            direction = QtGui.QBoxLayout.LeftToRight\n",
      "\n",
      "        mainLayout = QtGui.QBoxLayout(direction)\n",
      "        mainLayout.addWidget(self.frameNumLabel)\n",
      "        mainLayout.addLayout(labelLayout)\n",
      "        mainLayout.addLayout(comandLayout)\n",
      "        self.setLayout(mainLayout)\n",
      "        self.setSizePolicy(QtGui.QSizePolicy.MinimumExpanding, QtGui.QSizePolicy.MinimumExpanding)\n",
      "        \n",
      "        self.setStyleSheet(\"QGroupBox { margin: 5px; border: 2px groove gray; border-radius: 3px; } QGroupBox::title {left: 15px; top: -10px;}\")\n",
      "        \n",
      "    def setFrame(self, im):\n",
      "        qim = QtGui.QImage(im.data, im.shape[1], im.shape[0], im.strides[0], QtGui.QImage.Format_RGB888);\n",
      "        self.imageLabel.setPixmap(QtGui.QPixmap.fromImage(qim))\n",
      "        \n",
      "    def setTextureFrame(self, im):\n",
      "        qim = QtGui.QImage(im.data, im.shape[1], im.shape[0], im.strides[0], QtGui.QImage.Format_RGB888);\n",
      "        self.textureLabel.setPixmap(QtGui.QPixmap.fromImage(qim))\n",
      "\n",
      "    def setValue(self, value):\n",
      "        self.slider.setValue(value)\n",
      "\n",
      "    def setMinimum(self, value):\n",
      "        self.slider.setMinimum(value)  \n",
      "\n",
      "    def setMaximum(self, value):\n",
      "        self.slider.setMaximum(value)\n",
      "        \n",
      "    def setFrameInterval(self, interval, feather):\n",
      "        s2 = np.float(interval[0])/np.float(self.slider.maximum()-self.slider.minimum())\n",
      "        s4 = np.float(interval[1])/np.float(self.slider.maximum()-self.slider.minimum())\n",
      "        s3 = s2+((s4-s2)*feather)\n",
      "        s6 = np.float(interval[2])/np.float(self.slider.maximum()-self.slider.minimum())\n",
      "        s5 = s6-((s6-s4)*feather)\n",
      "#         print \"stops\", 0.0, s2, s3, s4, s5, s6, 1.0\n",
      "        style = self.slider.styleSheet()\n",
      "        style += \"QSlider::groove:horizontal {background: qlineargradient(x1:0, y1:0, x2:1, y2:0, stop:0.0 #ffffff, \"\n",
      "        style += \"stop:\"+np.str_(s2)+\" #ffffff, stop:\"+np.str_(s3)+\" #ff0000, stop:\"+np.str_(s4)+\" #ff0000, \"\n",
      "        style += \"stop:\"+np.str_(s5)+\" #ff0000, stop:\"+np.str_(s6)+\" #ffffff, stop:1.0 #ffffff);} \"\n",
      "        self.slider.setStyleSheet(style)\n",
      "\n",
      "\n",
      "class Window(QtGui.QWidget):\n",
      "    def __init__(self):\n",
      "        super(Window, self).__init__()\n",
      "        \n",
      "        self.frameRange = np.zeros(3)\n",
      "        self.featherLevel = 0.5\n",
      "\n",
      "        self.mainWidgetGroup = MainWidgetGroup(QtCore.Qt.Horizontal, \"Video Texture\")\n",
      "        \n",
      "        self.numInterpolationFrames = 4\n",
      "        self.textureLength = 100\n",
      "        self.loopTexture = True\n",
      "\n",
      "        self.createControls(\"Controls\")\n",
      "\n",
      "        layout = QtGui.QHBoxLayout()\n",
      "        layout.addWidget(self.controlsGroup)\n",
      "        layout.addWidget(self.mainWidgetGroup)\n",
      "        self.setLayout(layout)\n",
      "        \n",
      "        self.frameSpinBox.setValue(0)\n",
      "\n",
      "        self.setWindowTitle(\"Video Textures GUI\")\n",
      "        self.resize(1500, 750)\n",
      "        \n",
      "        ## lock gui elements until video or sequence is loaded\n",
      "        \n",
      "        self.frameSpinBox.setEnabled(False)\n",
      "        self.textureLengthSpinBox.setEnabled(False)\n",
      "        self.loopTextureCheckBox.setEnabled(False)\n",
      "        self.renderFpsSpinBox.setEnabled(False)\n",
      "        self.frameRangeSpinBox.setEnabled(False)\n",
      "        self.featherLevelSpinBox.setEnabled(False)\n",
      "        self.numInterpolationFramesSpinBox.setEnabled(False)\n",
      "        \n",
      "        self.textureTimer = QtCore.QTimer(self)\n",
      "        self.textureTimer.setInterval(1000/30)\n",
      "        self.textureTimer.start()\n",
      "        self.textureTimer.timeout.connect(self.renderOneFrame)\n",
      "        self.visualizeTexture = False\n",
      "        self.currentVisFrame = 0\n",
      "        \n",
      "    def renderOneFrame(self):\n",
      "        if self.visualizeTexture:\n",
      "            try:\n",
      "                self.finalMovie\n",
      "                self.currentVisFrame\n",
      "            except AttributeError:\n",
      "                return\n",
      "            else:\n",
      "                self.mainWidgetGroup.setTextureFrame(self.finalMovie[self.currentVisFrame])\n",
      "                if self.currentVisFrame in self.finalJumps :\n",
      "                    self.mainWidgetGroup.frameNumLabel.setText(\"jump---\" + np.str_(self.currentVisFrame) + \" from \" + np.str_(self.finalFrames[self.currentVisFrame]) + \"---jump\")\n",
      "                else :\n",
      "                    self.mainWidgetGroup.frameNumLabel.setText(np.str_(self.currentVisFrame) + \" from \" + np.str_(self.finalFrames[self.currentVisFrame]))\n",
      "                self.currentVisFrame = np.mod(self.currentVisFrame+1, len(self.finalMovie))\n",
      "        \n",
      "    def showLoading(self, show) :\n",
      "        if show :\n",
      "            self.loadingLabel.setText(\"Loading... Please wait\")\n",
      "            self.loadingLabel.setVisible(True)\n",
      "            self.loadingSpinner.setVisible(True)\n",
      "            self.infoLabel.setVisible(False)\n",
      "        else :\n",
      "            self.loadingLabel.setVisible(False)\n",
      "            self.loadingSpinner.setVisible(False)\n",
      "            self.infoLabel.setVisible(True)\n",
      "            \n",
      "    def setRenderFps(self, value) :\n",
      "        self.textureTimer.setInterval(1000/value)\n",
      "        \n",
      "    def openVideo(self):\n",
      "        fileName, _ = QtGui.QFileDialog.getOpenFileName(self, \"Open File\",\n",
      "                QtCore.QDir.currentPath()+\"/\"+dataFolder)\n",
      "        if fileName :\n",
      "            self.outputData = fileName\n",
      "            self.lockGUI(True)\n",
      "            self.showLoading(True)\n",
      "#             im = np.array(cv2.cvtColor(cv2.imread(fileName), cv2.COLOR_BGR2RGB))\n",
      "#             self.mainWidgetGroup.setFrame(im)\n",
      "\n",
      "            self.loadingLabel.setText(\"Loading set of frames...\")\n",
      "            \n",
      "            cap = cv2.VideoCapture(fileName)\n",
      "            \n",
      "            self.frames = []\n",
      "            while(cap.isOpened()):\n",
      "                ret, frame = cap.read()\n",
      "                if ret==True:\n",
      "                    self.frames.append(np.array(cv2.cvtColor(frame, cv2.COLOR_BGR2RGB)))\n",
      "                    k = cv2.waitKey(30)\n",
      "                    \n",
      "                    sys.stdout.write('\\r' + \"Frames read: \" + np.string_(len(self.frames)))\n",
      "                    sys.stdout.flush()\n",
      "                else:\n",
      "                    break\n",
      "            \n",
      "            # Release everything if job is finished\n",
      "            cap.release()\n",
      "            \n",
      "            ## init movie array\n",
      "            if len(self.frames) > 0 :\n",
      "                self.movie = np.zeros(np.hstack([self.frames[0].shape, len(self.frames)]))\n",
      "                for i in xrange(0, len(self.frames)) :\n",
      "                    self.movie[:, :, :, i] = self.frames[i]\n",
      "                    \n",
      "                    sys.stdout.write('\\r' + \"Frames saved: \" + np.string_(i) + \" of \" + np.string_(len(self.frames)))\n",
      "                    sys.stdout.flush()\n",
      "                    \n",
      "#             del frames\n",
      "            \n",
      "            if self.frameSpinBox.value() < len(self.frames) :\n",
      "                self.mainWidgetGroup.setFrame(self.frames[self.frameSpinBox.value()])\n",
      "            else :\n",
      "                self.mainWidgetGroup.setFrame(self.frames[0])\n",
      "                self.frameSpinBox.setValue(0)\n",
      "                \n",
      "            self.frameSpinBox.setRange(0, len(self.frames)-1)\n",
      "            self.mainWidgetGroup.setMaximum(len(self.frames)-1)\n",
      "            self.setFrameRange(self.frameRangeSpinBox.value())\n",
      "            self.frameRangeSpinBox.setRange(1, len(self.frames)*0.6)\n",
      "            infoText = \"Loaded video:\\n\\t\"+fileName+\"\\nNumber of Frames:\\n\\t\"+np.string_(len(self.frames))\n",
      "            infoText += \"\\nFrame size:\\n\\t\"+np.string_(self.movie.shape[1])+\"x\"+np.string_(self.movie.shape[0])\n",
      "            self.infoLabel.setText(infoText)\n",
      "            \n",
      "            self.loadingLabel.setText(\"Preprocessing movie sequence...\")\n",
      "            \n",
      "            self.preProcessMovie(self.movie, self.outputData)\n",
      "            \n",
      "            self.lockGUI(False)\n",
      "            self.showLoading(False)\n",
      "    \n",
      "    def openSequence(self):\n",
      "        dirName = QtGui.QFileDialog.getExistingDirectory(self, \"Open Sequence\",\n",
      "                QtCore.QDir.currentPath()+\"/\"+dataFolder)\n",
      "        if dirName :\n",
      "            self.outputData = dirName\n",
      "            self.lockGUI(True)\n",
      "            self.showLoading(True)\n",
      "#             im = np.array(cv2.cvtColor(cv2.imread(fileName), cv2.COLOR_BGR2RGB))\n",
      "#             self.mainWidgetGroup.setFrame(im)\n",
      "\n",
      "            self.loadingLabel.setText(\"Loading set of frames...\")\n",
      "\n",
      "            ## Find pngs in sample data\n",
      "            frameNames = glob.glob(dirName + \"/*.png\")\n",
      "            frameNames = np.sort(frameNames)\n",
      "            if len(frameNames) > 0 :\n",
      "                frameSize = cv2.imread(frameNames[0]).shape\n",
      "                self.movie = np.zeros(np.hstack([frameSize[0], frameSize[1], frameSize[2], len(frameNames)]))\n",
      "                self.frames = []\n",
      "                for i in range(0, len(frameNames)) :\n",
      "                    im = np.array(cv2.cvtColor(cv2.imread(frameNames[i]), cv2.COLOR_BGR2RGB))#/255.0\n",
      "                    self.movie[:, :, :, i] = im#np.dot(im[:,:,:3], [0.0722, 0.7152, 0.2126])   # matlab RGB2GRAY multiplies [0.299, 0.587, 0.144] but cv2 is BGR\n",
      "                    self.frames.append(im)\n",
      "            \n",
      "            if self.frameSpinBox.value() < len(self.frames) :\n",
      "                self.mainWidgetGroup.setFrame(self.frames[self.frameSpinBox.value()])\n",
      "            else :\n",
      "                self.mainWidgetGroup.setFrame(self.frames[0])\n",
      "                self.frameSpinBox.setValue(0)\n",
      "                \n",
      "            self.frameSpinBox.setRange(0, len(self.frames)-1)\n",
      "            self.mainWidgetGroup.setMaximum(len(self.frames)-1)\n",
      "            self.setFrameRange(self.frameRangeSpinBox.value())\n",
      "            self.frameRangeSpinBox.setRange(1, len(self.frames)*0.6)\n",
      "            infoText = \"Loaded sequence:\\n\\t\"+dirName+\"\\nNumber of Frames:\\n\\t\"+np.string_(len(self.frames))\n",
      "            infoText += \"\\nFrame size:\\n\\t\"+np.string_(self.movie.shape[1])+\"x\"+np.string_(self.movie.shape[0])\n",
      "            self.infoLabel.setText(infoText)\n",
      "            \n",
      "            self.loadingLabel.setText(\"Preprocessing movie sequence...\")\n",
      "            \n",
      "            self.preProcessMovie(self.movie, self.outputData)\n",
      "            \n",
      "            self.lockGUI(False)\n",
      "            self.showLoading(False)\n",
      "        \n",
      "    def setFrameRange(self, value) :\n",
      "        currentFrame = self.mainWidgetGroup.slider.value()\n",
      "        self.frameRange = np.array([currentFrame-((value-1)/2), currentFrame, currentFrame+((value-1)/2)])\n",
      "        self.mainWidgetGroup.setFrameInterval(self.frameRange, self.featherLevel)\n",
      "        \n",
      "    def setFeatherLevel(self, value) :\n",
      "        self.featherLevel = value\n",
      "        self.mainWidgetGroup.setFrameInterval(self.frameRange, self.featherLevel)\n",
      "    \n",
      "    def setNumInterpolationFrames(self, value) :\n",
      "        self.numInterpolationFrames = value\n",
      "    \n",
      "    def setTextureLength(self, value) :\n",
      "        self.textureLength = value\n",
      "        \n",
      "    def setLoopTexture(self, value) :\n",
      "        self.loopTexture = (value == QtCore.Qt.Checked)\n",
      "        \n",
      "    def changeFrame(self, idx):\n",
      "        if idx >= 0 and idx < len(self.frames):\n",
      "            self.mainWidgetGroup.setFrame(self.frames[idx])\n",
      "            self.setFrameRange(self.frameRangeSpinBox.value())\n",
      "    \n",
      "    def lockGUI(self, lock):\n",
      "        self.visualizeTexture = not lock\n",
      "        self.mainWidgetGroup.slider.setEnabled(not lock)\n",
      "        \n",
      "        self.openVideoButton.setEnabled(not lock)\n",
      "        self.openSequenceButton.setEnabled(not lock)\n",
      "        \n",
      "        self.frameSpinBox.setEnabled(not lock)\n",
      "        self.textureLengthSpinBox.setEnabled(not lock)\n",
      "        self.loopTextureCheckBox.setEnabled(not lock)\n",
      "        self.renderFpsSpinBox.setEnabled(not lock)\n",
      "        \n",
      "        self.frameRangeSpinBox.setEnabled(not lock)\n",
      "        self.featherLevelSpinBox.setEnabled(not lock)\n",
      "        self.numInterpolationFramesSpinBox.setEnabled(not lock)\n",
      "    \n",
      "    def preProcessMovie(self, movie, outputData):\n",
      "        self.numFilterFrames = 4\n",
      "        distanceMatrix = vtu.computeDistanceMatrix(movie, outputData)\n",
      "        distanceMatrixFilt = vtu.filterDistanceMatrix(distanceMatrix, self.numFilterFrames, False)\n",
      "        \n",
      "        if self.frameRangeSpinBox.value() > 1 :\n",
      "            ## create the filter for distance matrix to only consider user given frame range\n",
      "            kernelLength = np.float(self.frameRange[1]-self.frameRange[0])\n",
      "            interval = 1.0/(np.floor(kernelLength*self.featherLevel)+1.0)\n",
      "            kernelRange = np.arange(interval, 1.0+interval, interval)\n",
      "            kernel = np.hstack((kernelRange, np.ones(np.ceil(kernelLength-kernelLength*self.featherLevel))))\n",
      "            kernel = np.hstack((kernel, kernel[np.arange(len(kernel)-2, -1, -1)]))\n",
      "            kernel = np.reshape(kernel, [len(kernel), 1])\n",
      "            \n",
      "            kernel = kernel+kernel.T\n",
      "            kernel = kernel/np.max(kernel)\n",
      "#             kernel = np.repeat(kernel, kernel.shape[0], axis=1)\n",
      "            \n",
      "            filterMat = np.zeros(distanceMatrixFilt.shape)\n",
      "            filterMat[self.frameRange[0]:self.frameRange[2]+1, self.frameRange[0]:self.frameRange[2]+1] = kernel\n",
      "            \n",
      "            distanceMatrixFilt = distanceMatrixFilt+((1.0-filterMat)*50)\n",
      "            \n",
      "        self.distMat = vtu.estimateFutureCost(0.999, 2.0, distanceMatrixFilt)\n",
      "    \n",
      "#         fig = plt.figure()\n",
      "#         a=fig.add_subplot(1,2,1)\n",
      "#         imgplot = plt.imshow(distanceMatrix, cmap = cm.Greys_r, interpolation='nearest')\n",
      "#         a.set_title('distance matrix grey')\n",
      "#         a=fig.add_subplot(1,2,2)\n",
      "#         imgplot = plt.imshow(distanceMatrix, interpolation='nearest')\n",
      "#         maxDist = np.max(distanceMatrix)\n",
      "#         plt.colorbar(ticks=[0.1*maxDist,0.3*maxDist,0.5*maxDist,0.7*maxDist,0.9*maxDist], orientation ='horizontal')\n",
      "#         a.set_title('distance matrix color')\n",
      "    \n",
      "#         fig = plt.figure()\n",
      "#         a=fig.add_subplot(1,2,1)\n",
      "#         imgplot = plt.imshow(distanceMatrixFilt, cmap = cm.Greys_r, interpolation='nearest')\n",
      "#         a.set_title('filtered matrix grey')\n",
      "#         a=fig.add_subplot(1,2,2)\n",
      "#         imgplot = plt.imshow(distanceMatrixFilt, interpolation='nearest')\n",
      "#         maxDist = np.max(distanceMatrixFilt)\n",
      "#         plt.colorbar(ticks=[0.1*maxDist,0.3*maxDist,0.5*maxDist,0.7*maxDist,0.9*maxDist], orientation ='horizontal')\n",
      "#         a.set_title('filtered matrix color')\n",
      "        \n",
      "#         fig = plt.figure()\n",
      "#         a=fig.add_subplot(1,2,1)\n",
      "#         imgplot = plt.imshow(self.distMat, cmap = cm.Greys_r, interpolation='nearest')\n",
      "#         a.set_title('future cost matrix grey')\n",
      "#         a=fig.add_subplot(1,2,2)\n",
      "#         imgplot = plt.imshow(self.distMat, interpolation='nearest')\n",
      "#         maxDist = np.max(self.distMat)\n",
      "#         plt.colorbar(ticks=[0.1*maxDist,0.3*maxDist,0.5*maxDist,0.7*maxDist,0.9*maxDist], orientation ='horizontal')\n",
      "#         a.set_title('future cost matrix color')\n",
      "        \n",
      "    def computeRangedProbs(self, distMat):\n",
      "        \n",
      "        self.probabilities, self.cumProb = vtu.getProbabilities(distMat, 0.005, True)\n",
      "        \n",
      "        if False : #self.frameRangeSpinBox.value() > 1 :\n",
      "            ## create the filter for distance matrix to only consider user given frame range\n",
      "            kernelLength = np.float(self.frameRange[1]-self.frameRange[0])\n",
      "            interval = 1.0/(np.floor(kernelLength*self.featherLevel)+1.0)\n",
      "            kernelRange = np.arange(interval, 1.0+interval, interval)\n",
      "            kernel = np.hstack((kernelRange, np.ones(np.ceil(kernelLength-kernelLength*self.featherLevel))))\n",
      "            kernel = np.hstack((kernel, kernel[np.arange(len(kernel)-2, -1, -1)]))\n",
      "            kernel = np.reshape(kernel, [len(kernel), 1])\n",
      "            \n",
      "            kernel = kernel+kernel.T\n",
      "            kernel = kernel/np.max(kernel)\n",
      "#             kernel = np.repeat(kernel, kernel.shape[0], axis=1)\n",
      "            \n",
      "            self.filterMat = np.zeros(self.probabilities.shape)\n",
      "            self.filterMat[self.frameRange[0]:self.frameRange[2]+1, self.frameRange[0]:self.frameRange[2]+1] = kernel\n",
      "            self.filterMat = self.filterMat+0.01 ## still leave some chance for frames outside range to be chosen\n",
      "            self.filterMat = self.filterMat/np.max(self.filterMat)\n",
      "#             print kernel\n",
      "            \n",
      "            self.probabilities = self.probabilities*self.filterMat\n",
      "            \n",
      "            ## renormalize probabilities\n",
      "            normTerm = np.sum(self.probabilities, axis=1)\n",
      "            normTerm = cv2.repeat(normTerm, 1, self.probabilities.shape[1])\n",
      "            self.probabilities = self.probabilities / normTerm\n",
      "            \n",
      "            self.cumProb = np.cumsum(self.probabilities, axis=1)\n",
      "        \n",
      "#     def renderTexture(self):\n",
      "#         try:\n",
      "#             self.distMat\n",
      "#         except AttributeError:\n",
      "#             print \"tried rendering texture before computing distance matrix\"\n",
      "#         else:\n",
      "#             print \"rendering texture\"\n",
      "#             self.visualizeTexture = False\n",
      "            \n",
      "#             self.preProcessMovie(self.movie, self.outputData)\n",
      "            \n",
      "#             distMat = self.distMat#+((1.0-filterMat)*1000) ## this needs to be filtered based on frame range and feather\n",
      "# #             figure(); imshow(distMat, interpolation='nearest')            \n",
      "            \n",
      "#             self.computeRangedProbs(distMat)\n",
      "#             figure(); imshow(self.probabilities, interpolation='nearest'); plt.draw()\n",
      "#             startFrame = self.frameRange[1]\n",
      "#             ## check if frames have been computed before, if not compute them, otherwise only recompute if checkbox is checked\n",
      "#             try:\n",
      "#                 self.finalFrames\n",
      "#             except AttributeError:\n",
      "#                 self.finalFrames = vtu.getFinalFrames(self.cumProb, self.textureLength, self.numFilterFrames+1, startFrame)\n",
      "#             else:\n",
      "#                 if self.mainWidgetGroup.recomputeFramesCheckBox.isChecked() :\n",
      "#                     self.finalFrames = vtu.getFinalFrames(self.cumProb, 100, self.numFilterFrames+1, startFrame)\n",
      "#             self.finalMovie, self.finalJumps = vtu.renderFinalFrames(self.movie, self.finalFrames, self.numInterpolationFrames)\n",
      "#             self.visualizeTexture = True\n",
      "\n",
      "    ## Avoid dead ends: estimate future costs\n",
      "    def estimateFutureCost(self, alpha, p, distanceMatrixFilt, weights) :\n",
      "        # alpha = 0.999\n",
      "        # p = 2.0\n",
      "        \n",
      "        distMatFilt = distanceMatrixFilt[1:distanceMatrixFilt.shape[1], 0:-1]\n",
      "        distMat = distMatFilt ** p\n",
      "        \n",
      "        last = np.copy(distMat)\n",
      "        current = np.zeros(distMat.shape)\n",
      "        \n",
      "        ## while distance between last and current is larger than threshold\n",
      "        iterations = 0 \n",
      "        while np.linalg.norm(last - current) > 0.1 : \n",
      "            for i in range(distMat.shape[0]-1, -1, -1) :\n",
      "                m = np.min(distMat*weights[1:distanceMatrixFilt.shape[1], 0:-1], axis=1)\n",
      "                distMat[i, :] = (distMatFilt[i, :] ** p) + alpha*m\n",
      "                \n",
      "            last = np.copy(current)\n",
      "            current = np.copy(distMat)\n",
      "            \n",
      "            sys.stdout.write('\\r' + \"Iteration \" + np.string_(iterations) + \"; distance \" + np.string_(np.linalg.norm(last - current)))\n",
      "            sys.stdout.flush()\n",
      "            \n",
      "            iterations += 1\n",
      "        \n",
      "        print\n",
      "        print 'finished in', iterations, 'iterations'\n",
      "        \n",
      "        return distMat\n",
      "    \n",
      "    def getRangeWeights(self, l, frameRange, featherLevel, weightShape) :\n",
      "#         kernelLength = np.float(frameRange[1]-frameRange[0])\n",
      "#         interval = l/(np.floor(kernelLength*featherLevel)+1.0)\n",
      "#         kernelRange = np.arange(1.0+l, 1.0, -interval)\n",
      "#         kernel = np.hstack((kernelRange, np.ones(np.ceil(kernelLength-kernelLength*featherLevel))))\n",
      "#         kernel = np.hstack((kernel, kernel[np.arange(len(kernel)-2, -1, -1)]))\n",
      "#         kernel = np.reshape(kernel, [len(kernel), 1])\n",
      "\n",
      "#         kernelLength = np.float(frameRange[1]-frameRange[0])\n",
      "#         interval = l/np.floor(kernelLength*featherLevel)\n",
      "#         kernelRange = interval*np.arange(np.floor(kernelLength*featherLevel), 0.0, -1.0)\n",
      "#         kernel = np.ones(kernelLength+1)\n",
      "#         kernel[0:len(kernelRange)] = kernelRange+np.ones(kernelRange.shape)\n",
      "#         kernel = np.hstack((kernel, kernel[np.arange(len(kernel)-2, -1, -1)]))\n",
      "#         kernel = np.reshape(kernel, [len(kernel), 1])\n",
      "\n",
      "        kernelLength = np.float(frameRange[1]-frameRange[0])\n",
      "        kernelRange = np.arange(1.0, l, -(1.0-l)/np.floor(kernelLength*featherLevel))\n",
      "        kernel = np.ones(kernelLength+1)*l\n",
      "        kernel[0:len(kernelRange)] = kernelRange#+np.ones(kernelRange.shape)\n",
      "        kernel = np.hstack((kernel, kernel[np.arange(len(kernel)-2, -1, -1)]))\n",
      "        kernel = np.reshape(kernel, [len(kernel), 1])\n",
      "        \n",
      "        print kernel\n",
      "        \n",
      "        kernel = kernel+kernel.T\n",
      "        kernel = kernel/np.max(kernel)#np.mean(kernel) \n",
      "        \n",
      "        rangeWeights = np.ones(weightShape)+l*0.5\n",
      "        rangeWeights[frameRange[0]:frameRange[2]+1, frameRange[0]:frameRange[2]+1] = kernel\n",
      "#         filterMat = self.filterMat+0.01 ## still leave some chance for frames outside range to be chosen\n",
      "#         filterMat = self.filterMat/np.max(self.filterMat)\n",
      "#         filterMat = (1.7-self.filterMat)#*10.0 +1.0\n",
      "        return rangeWeights\n",
      "     \n",
      "    def renderTextureNew(self):\n",
      "        try:\n",
      "            self.distMat\n",
      "        except AttributeError:\n",
      "            print \"tried rendering texture before computing distance matrix\"\n",
      "        else:\n",
      "            print \"rendering texture\"\n",
      "            self.visualizeTexture = False\n",
      "            \n",
      "            self.numFilterFrames = 4\n",
      "            distanceMatrix = vtu.computeDistanceMatrix(self.movie, self.outputData)\n",
      "            distanceMatrixFilt = vtu.filterDistanceMatrix(distanceMatrix, self.numFilterFrames, False)\n",
      "                \n",
      "#             figure(); imshow(distanceMatrixFilt, interpolation='nearest'); draw()\n",
      "            \n",
      "            if self.frameRangeSpinBox.value() > 1 :\n",
      "                frameRange = self.frameRange-(self.numFilterFrames+1)\n",
      "                print frameRange\n",
      "                self.rangeWeights = self.getRangeWeights(0.7, frameRange, self.featherLevel, distanceMatrixFilt.shape)\n",
      "#                 figure(); imshow(self.rangeWeights, interpolation='nearest'); draw()\n",
      "                \n",
      "                self.distMat = self.estimateFutureCost(0.999, 2.0, distanceMatrixFilt, self.rangeWeights)\n",
      "            else :\n",
      "                self.distMat = self.estimateFutureCost(0.999, 2.0, distanceMatrixFilt, np.ones(distanceMatrixFilt.shape))\n",
      "                \n",
      "                \n",
      "            figure(); imshow(self.distMat, interpolation='nearest'); draw()\n",
      "#                 self.cumProb = np.cumsum(self.probabilities, axis=1)\n",
      "            \n",
      "#             distMat = self.distMat#+((1.0-filterMat)*1000) ## this needs to be filtered based on frame range and feather\n",
      "# #             figure(); imshow(distMat, interpolation='nearest')            \n",
      "            \n",
      "            self.computeRangedProbs(self.distMat)\n",
      "#             figure(); imshow(self.probabilities, interpolation='nearest'); plt.draw()\n",
      "            figure(); imshow(self.cumProb, interpolation='nearest'); plt.draw()\n",
      "            startFrame = frameRange[1]\n",
      "            ## check if frames have been computed before, if not compute them, otherwise only recompute if checkbox is checked\n",
      "            try:\n",
      "                self.finalFrames\n",
      "            except AttributeError:\n",
      "                self.finalFrames = vtu.getFinalFrames(self.cumProb, self.textureLength, self.numFilterFrames+1, startFrame, self.loopTexture)\n",
      "            else:\n",
      "                if self.mainWidgetGroup.recomputeFramesCheckBox.isChecked() :\n",
      "                    self.finalFrames = vtu.getFinalFrames(self.cumProb, 100, self.numFilterFrames+1, startFrame, self.loopTexture)\n",
      "            self.finalMovie, self.finalJumps = vtu.renderFinalFrames(self.movie, self.finalFrames, self.numInterpolationFrames)\n",
      "            self.visualizeTexture = True\n",
      "\n",
      "    def renderTexture(self):\n",
      "#         self.renderTextureOld()\n",
      "        self.renderTextureNew()\n",
      "\n",
      "    def renderTextureOld(self):\n",
      "        try:\n",
      "            self.distMat\n",
      "        except AttributeError:\n",
      "            print \"tried rendering texture before computing distance matrix\"\n",
      "        else:\n",
      "            print \"rendering texture\"\n",
      "            self.visualizeTexture = False\n",
      "            \n",
      "            self.numFilterFrames = 4\n",
      "            distanceMatrix = vtu.computeDistanceMatrix(self.movie, self.outputData)\n",
      "            distanceMatrixFilt = vtu.filterDistanceMatrix(distanceMatrix, self.numFilterFrames, False)\n",
      "            \n",
      "            if self.frameRangeSpinBox.value() > 1 :\n",
      "                frameRange = self.frameRange-(self.numFilterFrames+1)\n",
      "                ## create the filter for distance matrix to only consider user given frame range\n",
      "                kernelLength = np.float(frameRange[1]-frameRange[0])\n",
      "                interval = 1.0/(np.floor(kernelLength*self.featherLevel)+1.0)\n",
      "                kernelRange = np.arange(interval, 1.0+interval, interval)\n",
      "                kernel = np.hstack((kernelRange, np.ones(np.ceil(kernelLength-kernelLength*self.featherLevel))))\n",
      "                kernel = np.hstack((kernel, kernel[np.arange(len(kernel)-2, -1, -1)]))\n",
      "                kernel = np.reshape(kernel, [len(kernel), 1])\n",
      "                \n",
      "                print kernel\n",
      "                \n",
      "                kernel = kernel+kernel.T\n",
      "                self.kernel = kernel/np.max(kernel)\n",
      "    #             kernel = np.repeat(kernel, kernel.shape[0], axis=1)\n",
      "\n",
      "                \n",
      "                self.filterMat = np.zeros(distanceMatrixFilt.shape)\n",
      "                self.filterMat[frameRange[0]:frameRange[2]+1, frameRange[0]:frameRange[2]+1] = self.kernel\n",
      "                self.filterMat = self.filterMat+0.01 ## still leave some chance for frames outside range to be chosen\n",
      "                self.filterMat = self.filterMat/np.max(self.filterMat)\n",
      "                self.filterMat = (1.5-self.filterMat)#*10.0 +1.0\n",
      "    #             print kernel\n",
      "                figure(); imshow(self.filterMat, interpolation='nearest'); draw()\n",
      "#                 self.probabilities = self.probabilities*self.filterMat\n",
      "                \n",
      "#                 ## renormalize probabilities\n",
      "#                 normTerm = np.sum(self.probabilities, axis=1)\n",
      "#                 normTerm = cv2.repeat(normTerm, 1, self.probabilities.shape[1])\n",
      "#                 self.probabilities = self.probabilities / normTerm\n",
      "\n",
      "            figure(); imshow(distanceMatrixFilt, interpolation='nearest'); draw()\n",
      "            self.distMat = self.estimateFutureCost(0.999, 2.0, distanceMatrixFilt, self.filterMat)\n",
      "            figure(); imshow(self.distMat, interpolation='nearest'); draw()\n",
      "#                 self.cumProb = np.cumsum(self.probabilities, axis=1)\n",
      "            \n",
      "#             distMat = self.distMat#+((1.0-filterMat)*1000) ## this needs to be filtered based on frame range and feather\n",
      "# #             figure(); imshow(distMat, interpolation='nearest')            \n",
      "            \n",
      "            self.computeRangedProbs(self.distMat)\n",
      "            figure(); imshow(self.probabilities, interpolation='nearest'); plt.draw()\n",
      "            figure(); imshow(self.cumProb, interpolation='nearest'); plt.draw()\n",
      "            startFrame = frameRange[1]\n",
      "            ## check if frames have been computed before, if not compute them, otherwise only recompute if checkbox is checked\n",
      "            try:\n",
      "                self.finalFrames\n",
      "            except AttributeError:\n",
      "                self.finalFrames = vtu.getFinalFrames(self.cumProb, self.textureLength, self.numFilterFrames+1, startFrame, self.loopTexture)\n",
      "            else:\n",
      "                if self.mainWidgetGroup.recomputeFramesCheckBox.isChecked() :\n",
      "                    self.finalFrames = vtu.getFinalFrames(self.cumProb, 100, self.numFilterFrames+1, startFrame, self.loopTexture)\n",
      "            self.finalMovie, self.finalJumps = vtu.renderFinalFrames(self.movie, self.finalFrames, self.numInterpolationFrames)\n",
      "            self.visualizeTexture = True\n",
      "\n",
      "\n",
      "    def createControls(self, title):\n",
      "        self.controlsGroup = QtGui.QGroupBox(title)\n",
      "        self.controlsGroup.setStyleSheet(\"QGroupBox { margin: 5px; border: 2px groove gray; border-radius: 3px; } QGroupBox::title {left: 15px; top: -10px;}\")\n",
      "        self.setSizePolicy(QtGui.QSizePolicy.Minimum, QtGui.QSizePolicy.Minimum)\n",
      "\n",
      "        self.infoLabel = QtGui.QLabel(\"No video loaded\")\n",
      "        self.infoLabel.setSizePolicy(QtGui.QSizePolicy.Minimum, QtGui.QSizePolicy.MinimumExpanding)\n",
      "        self.infoLabel.setAlignment(QtCore.Qt.AlignLeft | QtCore.Qt.AlignTop)\n",
      "        frameLabel = QtGui.QLabel(\"Current frame:\")\n",
      "        renderFpsLabel = QtGui.QLabel(\"Texture render fps:\")\n",
      "        loopTextureLabel = QtGui.QLabel(\"Loop texture:\")\n",
      "        textureLengthLabel = QtGui.QLabel(\"Video texture length:\")\n",
      "        frameRangeLabel = QtGui.QLabel(\"Frame range:\")\n",
      "        featherLevelLabel = QtGui.QLabel(\"Feather level:\")\n",
      "        numInterpolationFramesLabel = QtGui.QLabel(\"# Frames to interpolate:\")\n",
      "        \n",
      "        \n",
      "        self.loadingLabel = QtGui.QLabel(\"Loading... Please wait!\")\n",
      "        self.loadingLabel.setSizePolicy(QtGui.QSizePolicy.Minimum, QtGui.QSizePolicy.MinimumExpanding)\n",
      "        self.loadingLabel.setAlignment(QtCore.Qt.AlignCenter | QtCore.Qt.AlignTop)\n",
      "        self.loadingLabel.setVisible(False)\n",
      "        movie = QtGui.QMovie(\"loader.gif\")\n",
      "        self.loadingSpinner = QtGui.QLabel()\n",
      "        self.loadingSpinner.setSizePolicy(QtGui.QSizePolicy.Minimum, QtGui.QSizePolicy.MinimumExpanding)\n",
      "        self.loadingSpinner.setAlignment(QtCore.Qt.AlignHCenter | QtCore.Qt.AlignBottom)\n",
      "        self.loadingSpinner.setMovie(movie)\n",
      "        movie.start()\n",
      "        self.loadingSpinner.setVisible(False)\n",
      "        \n",
      "        self.openVideoButton = QtGui.QPushButton(\"Open &Video\")\n",
      "        self.openSequenceButton = QtGui.QPushButton(\"Open &Sequence\")\n",
      "\n",
      "        self.frameSpinBox = QtGui.QSpinBox()\n",
      "        self.frameSpinBox.setRange(0, 0)\n",
      "        self.frameSpinBox.setSingleStep(1)\n",
      "        \n",
      "        self.textureLengthSpinBox = QtGui.QSpinBox()\n",
      "        self.textureLengthSpinBox.setRange(30, 1000)\n",
      "        self.textureLengthSpinBox.setSingleStep(1)\n",
      "        self.textureLengthSpinBox.setValue(self.textureLength)\n",
      "        \n",
      "        self.loopTextureCheckBox = QtGui.QCheckBox()\n",
      "        self.loopTextureCheckBox.setChecked(self.loopTexture)\n",
      "        \n",
      "        self.renderFpsSpinBox = QtGui.QSpinBox()\n",
      "        self.renderFpsSpinBox.setRange(1, 30)\n",
      "        self.renderFpsSpinBox.setSingleStep(1)\n",
      "        self.renderFpsSpinBox.setValue(30)\n",
      "        \n",
      "        self.frameRangeSpinBox = QtGui.QSpinBox()\n",
      "        self.frameRangeSpinBox.setRange(1, 21)\n",
      "        self.frameRangeSpinBox.setSingleStep(2)\n",
      "        \n",
      "        self.featherLevelSpinBox = QtGui.QDoubleSpinBox()\n",
      "        self.featherLevelSpinBox.setRange(0.01, 1.0)\n",
      "        self.featherLevelSpinBox.setSingleStep(0.01)\n",
      "        self.featherLevelSpinBox.setValue(self.featherLevel)\n",
      "        \n",
      "        self.numInterpolationFramesSpinBox = QtGui.QSpinBox()\n",
      "        self.numInterpolationFramesSpinBox.setRange(0, 10)\n",
      "        self.numInterpolationFramesSpinBox.setSingleStep(1)\n",
      "        self.numInterpolationFramesSpinBox.setValue(self.numInterpolationFrames)\n",
      "        \n",
      "        \n",
      "        self.openVideoButton.clicked.connect(self.openVideo)\n",
      "        self.openSequenceButton.clicked.connect(self.openSequence)\n",
      "        \n",
      "        self.mainWidgetGroup.slider.valueChanged[int].connect(self.frameSpinBox.setValue)\n",
      "        self.frameSpinBox.valueChanged[int].connect(self.mainWidgetGroup.slider.setValue)\n",
      "        self.frameSpinBox.valueChanged[int].connect(self.changeFrame)\n",
      "        self.textureLengthSpinBox.valueChanged[int].connect(self.setTextureLength)\n",
      "        self.loopTextureCheckBox.stateChanged[int].connect(self.setLoopTexture)\n",
      "        self.renderFpsSpinBox.valueChanged[int].connect(self.setRenderFps)\n",
      "        \n",
      "        self.frameRangeSpinBox.valueChanged[int].connect(self.setFrameRange)\n",
      "        self.featherLevelSpinBox.valueChanged[float].connect(self.setFeatherLevel)\n",
      "        self.numInterpolationFramesSpinBox.valueChanged[int].connect(self.setNumInterpolationFrames)\n",
      "        \n",
      "        self.mainWidgetGroup.renderTextureButton.clicked.connect(self.renderTexture)\n",
      "        \n",
      "        \n",
      "        mainBox = QtGui.QGroupBox(\"Main Controls\")\n",
      "        mainBox.setStyleSheet(\"QGroupBox { margin: 5px; border: 2px groove gray; border-radius: 3px; } QGroupBox::title {left: 15px; top: -10px;}\")\n",
      "        mainBoxLayout = QtGui.QGridLayout()\n",
      "        mainBoxLayout.addWidget(self.loadingSpinner, 0, 0, 1, 2)\n",
      "        mainBoxLayout.addWidget(self.loadingLabel, 1, 0, 1, 2)\n",
      "        mainBoxLayout.addWidget(self.infoLabel, 1, 0, 1, 2)\n",
      "        mainBoxLayout.addWidget(self.openVideoButton, 2, 0)\n",
      "        mainBoxLayout.addWidget(self.openSequenceButton, 2, 1)\n",
      "        mainBox.setLayout(mainBoxLayout)\n",
      "        \n",
      "        renderingControls = QtGui.QGroupBox(\"Texture Rendering Controls\")\n",
      "        renderingControls.setStyleSheet(\"QGroupBox { margin: 5px; border: 2px groove gray; border-radius: 3px; } QGroupBox::title {left: 15px; top: -10px;}\")\n",
      "        renderingControlsLayout = QtGui.QGridLayout()\n",
      "        renderingControlsLayout.addWidget(frameLabel, 0, 0)\n",
      "        renderingControlsLayout.addWidget(self.frameSpinBox, 0, 1)\n",
      "        renderingControlsLayout.addWidget(textureLengthLabel, 1, 0)\n",
      "        renderingControlsLayout.addWidget(self.textureLengthSpinBox, 1, 1)\n",
      "        renderingControlsLayout.addWidget(loopTextureLabel, 2, 0)\n",
      "        renderingControlsLayout.addWidget(self.loopTextureCheckBox, 2, 1)\n",
      "        renderingControlsLayout.addWidget(renderFpsLabel, 3, 0)\n",
      "        renderingControlsLayout.addWidget(self.renderFpsSpinBox, 3, 1)\n",
      "        renderingControls.setLayout(renderingControlsLayout)\n",
      "        \n",
      "        processingControls = QtGui.QGroupBox(\"Processing Controls\")\n",
      "        processingControls.setStyleSheet(\"QGroupBox { margin: 5px; border: 2px groove gray; border-radius: 3px; } QGroupBox::title {left: 15px; top: -10px;}\")\n",
      "        processingControlsLayout = QtGui.QGridLayout()\n",
      "        processingControlsLayout.addWidget(frameRangeLabel, 0, 0)\n",
      "        processingControlsLayout.addWidget(self.frameRangeSpinBox, 0, 1)\n",
      "        processingControlsLayout.addWidget(featherLevelLabel, 1, 0)\n",
      "        processingControlsLayout.addWidget(self.featherLevelSpinBox, 1, 1)\n",
      "        processingControlsLayout.addWidget(numInterpolationFramesLabel, 2, 0)\n",
      "        processingControlsLayout.addWidget(self.numInterpolationFramesSpinBox, 2, 1)\n",
      "        processingControls.setLayout(processingControlsLayout)\n",
      "        \n",
      "        controlsLayout = QtGui.QVBoxLayout()\n",
      "        controlsLayout.addWidget(mainBox)\n",
      "        controlsLayout.addWidget(renderingControls)\n",
      "        controlsLayout.addWidget(processingControls)\n",
      "        self.controlsGroup.setLayout(controlsLayout)"
     ],
     "language": "python",
     "metadata": {},
     "outputs": [],
     "prompt_number": 2
    },
    {
     "cell_type": "code",
     "collapsed": false,
     "input": [
      "window = Window()\n",
      "window.show()\n",
      "app.exec_()"
     ],
     "language": "python",
     "metadata": {},
     "outputs": [
      {
       "output_type": "stream",
       "stream": "stdout",
       "text": [
        "loaded distance matrix from  /home/ilisescu/PhD/iPy/data/pendulum _distanceMatrix.npy\n",
        "[  1.   8.  28.  56.  70.  56.  28.   8.   1.]\n",
        "\r",
        "Iteration 0; distance 24163.7271601"
       ]
      },
      {
       "output_type": "stream",
       "stream": "stdout",
       "text": [
        "\r",
        "Iteration 1; distance 3700.20284355"
       ]
      },
      {
       "output_type": "stream",
       "stream": "stdout",
       "text": [
        "\r",
        "Iteration 2; distance 2803.62053554"
       ]
      },
      {
       "output_type": "stream",
       "stream": "stdout",
       "text": [
        "\r",
        "Iteration 3; distance 2524.70462276"
       ]
      },
      {
       "output_type": "stream",
       "stream": "stdout",
       "text": [
        "\r",
        "Iteration 4; distance 2466.26797314"
       ]
      },
      {
       "output_type": "stream",
       "stream": "stdout",
       "text": [
        "\r",
        "Iteration 5; distance 2414.39356119"
       ]
      },
      {
       "output_type": "stream",
       "stream": "stdout",
       "text": [
        "\r",
        "Iteration 6; distance 2363.05558891"
       ]
      },
      {
       "output_type": "stream",
       "stream": "stdout",
       "text": [
        "\r",
        "Iteration 7; distance 2313.04975345"
       ]
      },
      {
       "output_type": "stream",
       "stream": "stdout",
       "text": [
        "\r",
        "Iteration 8; distance 2264.51750941"
       ]
      },
      {
       "output_type": "stream",
       "stream": "stdout",
       "text": [
        "\r",
        "Iteration 9; distance 2216.97714066"
       ]
      },
      {
       "output_type": "stream",
       "stream": "stdout",
       "text": [
        "\r",
        "Iteration 10; distance 2170.69595396"
       ]
      },
      {
       "output_type": "stream",
       "stream": "stdout",
       "text": [
        "\r",
        "Iteration 11; distance 2125.15532706"
       ]
      },
      {
       "output_type": "stream",
       "stream": "stdout",
       "text": [
        "\r",
        "Iteration 12; distance 2080.62573545"
       ]
      },
      {
       "output_type": "stream",
       "stream": "stdout",
       "text": [
        "\r",
        "Iteration 13; distance 2037.15266628"
       ]
      },
      {
       "output_type": "stream",
       "stream": "stdout",
       "text": [
        "\r",
        "Iteration 14; distance 1989.6387634"
       ]
      },
      {
       "output_type": "stream",
       "stream": "stdout",
       "text": [
        "\r",
        "Iteration 15; distance 1921.410901"
       ]
      },
      {
       "output_type": "stream",
       "stream": "stdout",
       "text": [
        "\r",
        "Iteration 16; distance 1841.82395448"
       ]
      },
      {
       "output_type": "stream",
       "stream": "stdout",
       "text": [
        "\r",
        "Iteration 17; distance 1764.26618705"
       ]
      },
      {
       "output_type": "stream",
       "stream": "stdout",
       "text": [
        "\r",
        "Iteration 18; distance 1689.97431661"
       ]
      },
      {
       "output_type": "stream",
       "stream": "stdout",
       "text": [
        "\r",
        "Iteration 19; distance 1618.81081877"
       ]
      },
      {
       "output_type": "stream",
       "stream": "stdout",
       "text": [
        "\r",
        "Iteration 20; distance 1550.64396022"
       ]
      },
      {
       "output_type": "stream",
       "stream": "stdout",
       "text": [
        "\r",
        "Iteration 21; distance 1485.34755481"
       ]
      },
      {
       "output_type": "stream",
       "stream": "stdout",
       "text": [
        "\r",
        "Iteration 22; distance 1422.80073001"
       ]
      },
      {
       "output_type": "stream",
       "stream": "stdout",
       "text": [
        "\r",
        "Iteration 23; distance 1362.88770312"
       ]
      },
      {
       "output_type": "stream",
       "stream": "stdout",
       "text": [
        "\r",
        "Iteration 24; distance 1305.49756697"
       ]
      },
      {
       "output_type": "stream",
       "stream": "stdout",
       "text": [
        "\r",
        "Iteration 25; distance 1250.52408461"
       ]
      },
      {
       "output_type": "stream",
       "stream": "stdout",
       "text": [
        "\r",
        "Iteration 26; distance 1197.86549264"
       ]
      },
      {
       "output_type": "stream",
       "stream": "stdout",
       "text": [
        "\r",
        "Iteration 27; distance 1147.42431282"
       ]
      },
      {
       "output_type": "stream",
       "stream": "stdout",
       "text": [
        "\r",
        "Iteration 28; distance 1099.10717167"
       ]
      },
      {
       "output_type": "stream",
       "stream": "stdout",
       "text": [
        "\r",
        "Iteration 29; distance 1052.82462757"
       ]
      },
      {
       "output_type": "stream",
       "stream": "stdout",
       "text": [
        "\r",
        "Iteration 30; distance 1008.49100523"
       ]
      },
      {
       "output_type": "stream",
       "stream": "stdout",
       "text": [
        "\r",
        "Iteration 31; distance 966.024237092"
       ]
      },
      {
       "output_type": "stream",
       "stream": "stdout",
       "text": [
        "\r",
        "Iteration 32; distance 925.345711372"
       ]
      },
      {
       "output_type": "stream",
       "stream": "stdout",
       "text": [
        "\r",
        "Iteration 33; distance 886.38012658"
       ]
      },
      {
       "output_type": "stream",
       "stream": "stdout",
       "text": [
        "\r",
        "Iteration 34; distance 849.055352115"
       ]
      },
      {
       "output_type": "stream",
       "stream": "stdout",
       "text": [
        "\r",
        "Iteration 35; distance 813.302294735"
       ]
      },
      {
       "output_type": "stream",
       "stream": "stdout",
       "text": [
        "\r",
        "Iteration 36; distance 779.054770661"
       ]
      },
      {
       "output_type": "stream",
       "stream": "stdout",
       "text": [
        "\r",
        "Iteration 37; distance 746.249383064"
       ]
      },
      {
       "output_type": "stream",
       "stream": "stdout",
       "text": [
        "\r",
        "Iteration 38; distance 714.825404702"
       ]
      },
      {
       "output_type": "stream",
       "stream": "stdout",
       "text": [
        "\r",
        "Iteration 39; distance 684.724665513"
       ]
      },
      {
       "output_type": "stream",
       "stream": "stdout",
       "text": [
        "\r",
        "Iteration 40; distance 655.891444929"
       ]
      },
      {
       "output_type": "stream",
       "stream": "stdout",
       "text": [
        "\r",
        "Iteration 41; distance 628.272368731"
       ]
      },
      {
       "output_type": "stream",
       "stream": "stdout",
       "text": [
        "\r",
        "Iteration 42; distance 601.81631025"
       ]
      },
      {
       "output_type": "stream",
       "stream": "stdout",
       "text": [
        "\r",
        "Iteration 43; distance 576.474295716"
       ]
      },
      {
       "output_type": "stream",
       "stream": "stdout",
       "text": [
        "\r",
        "Iteration 44; distance 552.199413612"
       ]
      },
      {
       "output_type": "stream",
       "stream": "stdout",
       "text": [
        "\r",
        "Iteration 45; distance 528.946727823"
       ]
      },
      {
       "output_type": "stream",
       "stream": "stdout",
       "text": [
        "\r",
        "Iteration 46; distance 506.673194461"
       ]
      },
      {
       "output_type": "stream",
       "stream": "stdout",
       "text": [
        "\r",
        "Iteration 47; distance 485.337582184"
       ]
      },
      {
       "output_type": "stream",
       "stream": "stdout",
       "text": [
        "\r",
        "Iteration 48; distance 464.900395867"
       ]
      },
      {
       "output_type": "stream",
       "stream": "stdout",
       "text": [
        "\r",
        "Iteration 49; distance 445.323803495"
       ]
      },
      {
       "output_type": "stream",
       "stream": "stdout",
       "text": [
        "\r",
        "Iteration 50; distance 426.57156613"
       ]
      },
      {
       "output_type": "stream",
       "stream": "stdout",
       "text": [
        "\r",
        "Iteration 51; distance 408.608970826"
       ]
      },
      {
       "output_type": "stream",
       "stream": "stdout",
       "text": [
        "\r",
        "Iteration 52; distance 391.402766373"
       ]
      },
      {
       "output_type": "stream",
       "stream": "stdout",
       "text": [
        "\r",
        "Iteration 53; distance 374.921101744"
       ]
      },
      {
       "output_type": "stream",
       "stream": "stdout",
       "text": [
        "\r",
        "Iteration 54; distance 359.133467133"
       ]
      },
      {
       "output_type": "stream",
       "stream": "stdout",
       "text": [
        "\r",
        "Iteration 55; distance 344.010637478"
       ]
      },
      {
       "output_type": "stream",
       "stream": "stdout",
       "text": [
        "\r",
        "Iteration 56; distance 329.524618362"
       ]
      },
      {
       "output_type": "stream",
       "stream": "stdout",
       "text": [
        "\r",
        "Iteration 57; distance 315.648594191"
       ]
      },
      {
       "output_type": "stream",
       "stream": "stdout",
       "text": [
        "\r",
        "Iteration 58; distance 302.356878555"
       ]
      },
      {
       "output_type": "stream",
       "stream": "stdout",
       "text": [
        "\r",
        "Iteration 59; distance 289.624866677"
       ]
      },
      {
       "output_type": "stream",
       "stream": "stdout",
       "text": [
        "\r",
        "Iteration 60; distance 277.428989869"
       ]
      },
      {
       "output_type": "stream",
       "stream": "stdout",
       "text": [
        "\r",
        "Iteration 61; distance 265.746671904"
       ]
      },
      {
       "output_type": "stream",
       "stream": "stdout",
       "text": [
        "\r",
        "Iteration 62; distance 254.556287218"
       ]
      },
      {
       "output_type": "stream",
       "stream": "stdout",
       "text": [
        "\r",
        "Iteration 63; distance 243.837120888"
       ]
      },
      {
       "output_type": "stream",
       "stream": "stdout",
       "text": [
        "\r",
        "Iteration 64; distance 233.569330274"
       ]
      },
      {
       "output_type": "stream",
       "stream": "stdout",
       "text": [
        "\r",
        "Iteration 65; distance 223.7339083"
       ]
      },
      {
       "output_type": "stream",
       "stream": "stdout",
       "text": [
        "\r",
        "Iteration 66; distance 214.312648259"
       ]
      },
      {
       "output_type": "stream",
       "stream": "stdout",
       "text": [
        "\r",
        "Iteration 67; distance 205.288110116"
       ]
      },
      {
       "output_type": "stream",
       "stream": "stdout",
       "text": [
        "\r",
        "Iteration 68; distance 196.643588222"
       ]
      },
      {
       "output_type": "stream",
       "stream": "stdout",
       "text": [
        "\r",
        "Iteration 69; distance 188.36308039"
       ]
      },
      {
       "output_type": "stream",
       "stream": "stdout",
       "text": [
        "\r",
        "Iteration 70; distance 180.431258272"
       ]
      },
      {
       "output_type": "stream",
       "stream": "stdout",
       "text": [
        "\r",
        "Iteration 71; distance 172.833438985"
       ]
      },
      {
       "output_type": "stream",
       "stream": "stdout",
       "text": [
        "\r",
        "Iteration 72; distance 165.55555793"
       ]
      },
      {
       "output_type": "stream",
       "stream": "stdout",
       "text": [
        "\r",
        "Iteration 73; distance 158.58414276"
       ]
      },
      {
       "output_type": "stream",
       "stream": "stdout",
       "text": [
        "\r",
        "Iteration 74; distance 151.906288434"
       ]
      },
      {
       "output_type": "stream",
       "stream": "stdout",
       "text": [
        "\r",
        "Iteration 75; distance 145.509633336"
       ]
      },
      {
       "output_type": "stream",
       "stream": "stdout",
       "text": [
        "\r",
        "Iteration 76; distance 139.382336385"
       ]
      },
      {
       "output_type": "stream",
       "stream": "stdout",
       "text": [
        "\r",
        "Iteration 77; distance 133.513055121"
       ]
      },
      {
       "output_type": "stream",
       "stream": "stdout",
       "text": [
        "\r",
        "Iteration 78; distance 127.890924704"
       ]
      },
      {
       "output_type": "stream",
       "stream": "stdout",
       "text": [
        "\r",
        "Iteration 79; distance 122.505537806"
       ]
      },
      {
       "output_type": "stream",
       "stream": "stdout",
       "text": [
        "\r",
        "Iteration 80; distance 117.346925341"
       ]
      },
      {
       "output_type": "stream",
       "stream": "stdout",
       "text": [
        "\r",
        "Iteration 81; distance 112.405538016"
       ]
      },
      {
       "output_type": "stream",
       "stream": "stdout",
       "text": [
        "\r",
        "Iteration 82; distance 107.67222865"
       ]
      },
      {
       "output_type": "stream",
       "stream": "stdout",
       "text": [
        "\r",
        "Iteration 83; distance 103.138235242"
       ]
      },
      {
       "output_type": "stream",
       "stream": "stdout",
       "text": [
        "\r",
        "Iteration 84; distance 98.795164754"
       ]
      },
      {
       "output_type": "stream",
       "stream": "stdout",
       "text": [
        "\r",
        "Iteration 85; distance 94.63497757"
       ]
      },
      {
       "output_type": "stream",
       "stream": "stdout",
       "text": [
        "\r",
        "Iteration 86; distance 90.6499726173"
       ]
      },
      {
       "output_type": "stream",
       "stream": "stdout",
       "text": [
        "\r",
        "Iteration 87; distance 86.8327731091"
       ]
      },
      {
       "output_type": "stream",
       "stream": "stdout",
       "text": [
        "\r",
        "Iteration 88; distance 83.1763128893"
       ]
      },
      {
       "output_type": "stream",
       "stream": "stdout",
       "text": [
        "\r",
        "Iteration 89; distance 79.6738233519"
       ]
      },
      {
       "output_type": "stream",
       "stream": "stdout",
       "text": [
        "\r",
        "Iteration 90; distance 76.318820912"
       ]
      },
      {
       "output_type": "stream",
       "stream": "stdout",
       "text": [
        "\r",
        "Iteration 91; distance 73.105095003"
       ]
      },
      {
       "output_type": "stream",
       "stream": "stdout",
       "text": [
        "\r",
        "Iteration 92; distance 70.0266965806"
       ]
      },
      {
       "output_type": "stream",
       "stream": "stdout",
       "text": [
        "\r",
        "Iteration 93; distance 67.0779271103"
       ]
      },
      {
       "output_type": "stream",
       "stream": "stdout",
       "text": [
        "\r",
        "Iteration 94; distance 64.2533280179"
       ]
      },
      {
       "output_type": "stream",
       "stream": "stdout",
       "text": [
        "\r",
        "Iteration 95; distance 61.547670586"
       ]
      },
      {
       "output_type": "stream",
       "stream": "stdout",
       "text": [
        "\r",
        "Iteration 96; distance 58.9559462743"
       ]
      },
      {
       "output_type": "stream",
       "stream": "stdout",
       "text": [
        "\r",
        "Iteration 97; distance 56.473357448"
       ]
      },
      {
       "output_type": "stream",
       "stream": "stdout",
       "text": [
        "\r",
        "Iteration 98; distance 54.0953084972"
       ]
      },
      {
       "output_type": "stream",
       "stream": "stdout",
       "text": [
        "\r",
        "Iteration 99; distance 51.8173973294"
       ]
      },
      {
       "output_type": "stream",
       "stream": "stdout",
       "text": [
        "\r",
        "Iteration 100; distance 49.6354072207"
       ]
      },
      {
       "output_type": "stream",
       "stream": "stdout",
       "text": [
        "\r",
        "Iteration 101; distance 47.5452990104"
       ]
      },
      {
       "output_type": "stream",
       "stream": "stdout",
       "text": [
        "\r",
        "Iteration 102; distance 45.5432036235"
       ]
      },
      {
       "output_type": "stream",
       "stream": "stdout",
       "text": [
        "\r",
        "Iteration 103; distance 43.6254149088"
       ]
      },
      {
       "output_type": "stream",
       "stream": "stdout",
       "text": [
        "\r",
        "Iteration 104; distance 41.7883827783"
       ]
      },
      {
       "output_type": "stream",
       "stream": "stdout",
       "text": [
        "\r",
        "Iteration 105; distance 40.0287066351"
       ]
      },
      {
       "output_type": "stream",
       "stream": "stdout",
       "text": [
        "\r",
        "Iteration 106; distance 38.3431290793"
       ]
      },
      {
       "output_type": "stream",
       "stream": "stdout",
       "text": [
        "\r",
        "Iteration 107; distance 36.7285298771"
       ]
      },
      {
       "output_type": "stream",
       "stream": "stdout",
       "text": [
        "\r",
        "Iteration 108; distance 35.1819201856"
       ]
      },
      {
       "output_type": "stream",
       "stream": "stdout",
       "text": [
        "\r",
        "Iteration 109; distance 33.7004370196"
       ]
      },
      {
       "output_type": "stream",
       "stream": "stdout",
       "text": [
        "\r",
        "Iteration 110; distance 32.2813379521"
       ]
      },
      {
       "output_type": "stream",
       "stream": "stdout",
       "text": [
        "\r",
        "Iteration 111; distance 30.9219960373"
       ]
      },
      {
       "output_type": "stream",
       "stream": "stdout",
       "text": [
        "\r",
        "Iteration 112; distance 29.6198949483"
       ]
      },
      {
       "output_type": "stream",
       "stream": "stdout",
       "text": [
        "\r",
        "Iteration 113; distance 28.3726243185"
       ]
      },
      {
       "output_type": "stream",
       "stream": "stdout",
       "text": [
        "\r",
        "Iteration 114; distance 27.1778752804"
       ]
      },
      {
       "output_type": "stream",
       "stream": "stdout",
       "text": [
        "\r",
        "Iteration 115; distance 26.0334361906"
       ]
      },
      {
       "output_type": "stream",
       "stream": "stdout",
       "text": [
        "\r",
        "Iteration 116; distance 24.9371885365"
       ]
      },
      {
       "output_type": "stream",
       "stream": "stdout",
       "text": [
        "\r",
        "Iteration 117; distance 23.8871030145"
       ]
      },
      {
       "output_type": "stream",
       "stream": "stdout",
       "text": [
        "\r",
        "Iteration 118; distance 22.8812357732"
       ]
      },
      {
       "output_type": "stream",
       "stream": "stdout",
       "text": [
        "\r",
        "Iteration 119; distance 21.9177248154"
       ]
      },
      {
       "output_type": "stream",
       "stream": "stdout",
       "text": [
        "\r",
        "Iteration 120; distance 20.9947865511"
       ]
      },
      {
       "output_type": "stream",
       "stream": "stdout",
       "text": [
        "\r",
        "Iteration 121; distance 20.1107124959"
       ]
      },
      {
       "output_type": "stream",
       "stream": "stdout",
       "text": [
        "\r",
        "Iteration 122; distance 19.2638661083"
       ]
      },
      {
       "output_type": "stream",
       "stream": "stdout",
       "text": [
        "\r",
        "Iteration 123; distance 18.4526797603"
       ]
      },
      {
       "output_type": "stream",
       "stream": "stdout",
       "text": [
        "\r",
        "Iteration 124; distance 17.6756518355"
       ]
      },
      {
       "output_type": "stream",
       "stream": "stdout",
       "text": [
        "\r",
        "Iteration 125; distance 16.9313439494"
       ]
      },
      {
       "output_type": "stream",
       "stream": "stdout",
       "text": [
        "\r",
        "Iteration 126; distance 16.2183782868"
       ]
      },
      {
       "output_type": "stream",
       "stream": "stdout",
       "text": [
        "\r",
        "Iteration 127; distance 15.535435051"
       ]
      },
      {
       "output_type": "stream",
       "stream": "stdout",
       "text": [
        "\r",
        "Iteration 128; distance 14.8812500212"
       ]
      },
      {
       "output_type": "stream",
       "stream": "stdout",
       "text": [
        "\r",
        "Iteration 129; distance 14.2546122119"
       ]
      },
      {
       "output_type": "stream",
       "stream": "stdout",
       "text": [
        "\r",
        "Iteration 130; distance 13.6543616309"
       ]
      },
      {
       "output_type": "stream",
       "stream": "stdout",
       "text": [
        "\r",
        "Iteration 131; distance 13.0793871329"
       ]
      },
      {
       "output_type": "stream",
       "stream": "stdout",
       "text": [
        "\r",
        "Iteration 132; distance 12.5286243616"
       ]
      },
      {
       "output_type": "stream",
       "stream": "stdout",
       "text": [
        "\r",
        "Iteration 133; distance 12.0010537803"
       ]
      },
      {
       "output_type": "stream",
       "stream": "stdout",
       "text": [
        "\r",
        "Iteration 134; distance 11.4956987839"
       ]
      },
      {
       "output_type": "stream",
       "stream": "stdout",
       "text": [
        "\r",
        "Iteration 135; distance 11.0116238915"
       ]
      },
      {
       "output_type": "stream",
       "stream": "stdout",
       "text": [
        "\r",
        "Iteration 136; distance 10.5479330145"
       ]
      },
      {
       "output_type": "stream",
       "stream": "stdout",
       "text": [
        "\r",
        "Iteration 137; distance 10.1037677979"
       ]
      },
      {
       "output_type": "stream",
       "stream": "stdout",
       "text": [
        "\r",
        "Iteration 138; distance 9.67830603158"
       ]
      },
      {
       "output_type": "stream",
       "stream": "stdout",
       "text": [
        "\r",
        "Iteration 139; distance 9.27076012775"
       ]
      },
      {
       "output_type": "stream",
       "stream": "stdout",
       "text": [
        "\r",
        "Iteration 140; distance 8.88037566344"
       ]
      },
      {
       "output_type": "stream",
       "stream": "stdout",
       "text": [
        "\r",
        "Iteration 141; distance 8.50642998381"
       ]
      },
      {
       "output_type": "stream",
       "stream": "stdout",
       "text": [
        "\r",
        "Iteration 142; distance 8.14823086459"
       ]
      },
      {
       "output_type": "stream",
       "stream": "stdout",
       "text": [
        "\r",
        "Iteration 143; distance 7.80511523034"
       ]
      },
      {
       "output_type": "stream",
       "stream": "stdout",
       "text": [
        "\r",
        "Iteration 144; distance 7.47644792733"
       ]
      },
      {
       "output_type": "stream",
       "stream": "stdout",
       "text": [
        "\r",
        "Iteration 145; distance 7.16162054762"
       ]
      },
      {
       "output_type": "stream",
       "stream": "stdout",
       "text": [
        "\r",
        "Iteration 146; distance 6.86005030283"
       ]
      },
      {
       "output_type": "stream",
       "stream": "stdout",
       "text": [
        "\r",
        "Iteration 147; distance 6.57117894541"
       ]
      },
      {
       "output_type": "stream",
       "stream": "stdout",
       "text": [
        "\r",
        "Iteration 148; distance 6.29447173508"
       ]
      },
      {
       "output_type": "stream",
       "stream": "stdout",
       "text": [
        "\r",
        "Iteration 149; distance 6.02941644916"
       ]
      },
      {
       "output_type": "stream",
       "stream": "stdout",
       "text": [
        "\r",
        "Iteration 150; distance 5.77552243417"
       ]
      },
      {
       "output_type": "stream",
       "stream": "stdout",
       "text": [
        "\r",
        "Iteration 151; distance 5.53231969778"
       ]
      },
      {
       "output_type": "stream",
       "stream": "stdout",
       "text": [
        "\r",
        "Iteration 152; distance 5.29935803855"
       ]
      },
      {
       "output_type": "stream",
       "stream": "stdout",
       "text": [
        "\r",
        "Iteration 153; distance 5.07620621275"
       ]
      },
      {
       "output_type": "stream",
       "stream": "stdout",
       "text": [
        "\r",
        "Iteration 154; distance 4.86245113594"
       ]
      },
      {
       "output_type": "stream",
       "stream": "stdout",
       "text": [
        "\r",
        "Iteration 155; distance 4.65769711837"
       ]
      },
      {
       "output_type": "stream",
       "stream": "stdout",
       "text": [
        "\r",
        "Iteration 156; distance 4.4615651325"
       ]
      },
      {
       "output_type": "stream",
       "stream": "stdout",
       "text": [
        "\r",
        "Iteration 157; distance 4.27369211131"
       ]
      },
      {
       "output_type": "stream",
       "stream": "stdout",
       "text": [
        "\r",
        "Iteration 158; distance 4.09373027618"
       ]
      },
      {
       "output_type": "stream",
       "stream": "stdout",
       "text": [
        "\r",
        "Iteration 159; distance 3.92134649332"
       ]
      },
      {
       "output_type": "stream",
       "stream": "stdout",
       "text": [
        "\r",
        "Iteration 160; distance 3.75622165682"
       ]
      },
      {
       "output_type": "stream",
       "stream": "stdout",
       "text": [
        "\r",
        "Iteration 161; distance 3.59805009815"
       ]
      },
      {
       "output_type": "stream",
       "stream": "stdout",
       "text": [
        "\r",
        "Iteration 162; distance 3.44653902022"
       ]
      },
      {
       "output_type": "stream",
       "stream": "stdout",
       "text": [
        "\r",
        "Iteration 163; distance 3.30140795537"
       ]
      },
      {
       "output_type": "stream",
       "stream": "stdout",
       "text": [
        "\r",
        "Iteration 164; distance 3.1623882463"
       ]
      },
      {
       "output_type": "stream",
       "stream": "stdout",
       "text": [
        "\r",
        "Iteration 165; distance 3.02922254852"
       ]
      },
      {
       "output_type": "stream",
       "stream": "stdout",
       "text": [
        "\r",
        "Iteration 166; distance 2.90166435419"
       ]
      },
      {
       "output_type": "stream",
       "stream": "stdout",
       "text": [
        "\r",
        "Iteration 167; distance 2.77947753576"
       ]
      },
      {
       "output_type": "stream",
       "stream": "stdout",
       "text": [
        "\r",
        "Iteration 168; distance 2.66243590876"
       ]
      },
      {
       "output_type": "stream",
       "stream": "stdout",
       "text": [
        "\r",
        "Iteration 169; distance 2.55032281319"
       ]
      },
      {
       "output_type": "stream",
       "stream": "stdout",
       "text": [
        "\r",
        "Iteration 170; distance 2.44293071247"
       ]
      },
      {
       "output_type": "stream",
       "stream": "stdout",
       "text": [
        "\r",
        "Iteration 171; distance 2.34006080923"
       ]
      },
      {
       "output_type": "stream",
       "stream": "stdout",
       "text": [
        "\r",
        "Iteration 172; distance 2.2415226772"
       ]
      },
      {
       "output_type": "stream",
       "stream": "stdout",
       "text": [
        "\r",
        "Iteration 173; distance 2.14713390894"
       ]
      },
      {
       "output_type": "stream",
       "stream": "stdout",
       "text": [
        "\r",
        "Iteration 174; distance 2.0567197779"
       ]
      },
      {
       "output_type": "stream",
       "stream": "stdout",
       "text": [
        "\r",
        "Iteration 175; distance 1.97011291529"
       ]
      },
      {
       "output_type": "stream",
       "stream": "stdout",
       "text": [
        "\r",
        "Iteration 176; distance 1.88715299997"
       ]
      },
      {
       "output_type": "stream",
       "stream": "stdout",
       "text": [
        "\r",
        "Iteration 177; distance 1.80768646185"
       ]
      },
      {
       "output_type": "stream",
       "stream": "stdout",
       "text": [
        "\r",
        "Iteration 178; distance 1.73156619757"
       ]
      },
      {
       "output_type": "stream",
       "stream": "stdout",
       "text": [
        "\r",
        "Iteration 179; distance 1.65865129812"
       ]
      },
      {
       "output_type": "stream",
       "stream": "stdout",
       "text": [
        "\r",
        "Iteration 180; distance 1.58880678815"
       ]
      },
      {
       "output_type": "stream",
       "stream": "stdout",
       "text": [
        "\r",
        "Iteration 181; distance 1.52190337584"
       ]
      },
      {
       "output_type": "stream",
       "stream": "stdout",
       "text": [
        "\r",
        "Iteration 182; distance 1.45781721399"
       ]
      },
      {
       "output_type": "stream",
       "stream": "stdout",
       "text": [
        "\r",
        "Iteration 183; distance 1.39642967034"
       ]
      },
      {
       "output_type": "stream",
       "stream": "stdout",
       "text": [
        "\r",
        "Iteration 184; distance 1.33762710815"
       ]
      },
      {
       "output_type": "stream",
       "stream": "stdout",
       "text": [
        "\r",
        "Iteration 185; distance 1.28130067588"
       ]
      },
      {
       "output_type": "stream",
       "stream": "stdout",
       "text": [
        "\r",
        "Iteration 186; distance 1.22734610574"
       ]
      },
      {
       "output_type": "stream",
       "stream": "stdout",
       "text": [
        "\r",
        "Iteration 187; distance 1.17566352034"
       ]
      },
      {
       "output_type": "stream",
       "stream": "stdout",
       "text": [
        "\r",
        "Iteration 188; distance 1.12615724821"
       ]
      },
      {
       "output_type": "stream",
       "stream": "stdout",
       "text": [
        "\r",
        "Iteration 189; distance 1.07873564654"
       ]
      },
      {
       "output_type": "stream",
       "stream": "stdout",
       "text": [
        "\r",
        "Iteration 190; distance 1.03331093146"
       ]
      },
      {
       "output_type": "stream",
       "stream": "stdout",
       "text": [
        "\r",
        "Iteration 191; distance 0.989799015615"
       ]
      },
      {
       "output_type": "stream",
       "stream": "stdout",
       "text": [
        "\r",
        "Iteration 192; distance 0.948119352529"
       ]
      },
      {
       "output_type": "stream",
       "stream": "stdout",
       "text": [
        "\r",
        "Iteration 193; distance 0.908194787498"
       ]
      },
      {
       "output_type": "stream",
       "stream": "stdout",
       "text": [
        "\r",
        "Iteration 194; distance 0.869951414739"
       ]
      },
      {
       "output_type": "stream",
       "stream": "stdout",
       "text": [
        "\r",
        "Iteration 195; distance 0.833318440479"
       ]
      },
      {
       "output_type": "stream",
       "stream": "stdout",
       "text": [
        "\r",
        "Iteration 196; distance 0.798228052151"
       ]
      },
      {
       "output_type": "stream",
       "stream": "stdout",
       "text": [
        "\r",
        "Iteration 197; distance 0.764615292645"
       ]
      },
      {
       "output_type": "stream",
       "stream": "stdout",
       "text": [
        "\r",
        "Iteration 198; distance 0.732417940184"
       ]
      },
      {
       "output_type": "stream",
       "stream": "stdout",
       "text": [
        "\r",
        "Iteration 199; distance 0.701576393094"
       ]
      },
      {
       "output_type": "stream",
       "stream": "stdout",
       "text": [
        "\r",
        "Iteration 200; distance 0.672033559439"
       ]
      },
      {
       "output_type": "stream",
       "stream": "stdout",
       "text": [
        "\r",
        "Iteration 201; distance 0.643734751392"
       ]
      },
      {
       "output_type": "stream",
       "stream": "stdout",
       "text": [
        "\r",
        "Iteration 202; distance 0.616627584077"
       ]
      },
      {
       "output_type": "stream",
       "stream": "stdout",
       "text": [
        "\r",
        "Iteration 203; distance 0.590661878399"
       ]
      },
      {
       "output_type": "stream",
       "stream": "stdout",
       "text": [
        "\r",
        "Iteration 204; distance 0.565789568223"
       ]
      },
      {
       "output_type": "stream",
       "stream": "stdout",
       "text": [
        "\r",
        "Iteration 205; distance 0.541964611653"
       ]
      },
      {
       "output_type": "stream",
       "stream": "stdout",
       "text": [
        "\r",
        "Iteration 206; distance 0.51914290538"
       ]
      },
      {
       "output_type": "stream",
       "stream": "stdout",
       "text": [
        "\r",
        "Iteration 207; distance 0.497282203286"
       ]
      },
      {
       "output_type": "stream",
       "stream": "stdout",
       "text": [
        "\r",
        "Iteration 208; distance 0.47634203833"
       ]
      },
      {
       "output_type": "stream",
       "stream": "stdout",
       "text": [
        "\r",
        "Iteration 209; distance 0.456283647352"
       ]
      },
      {
       "output_type": "stream",
       "stream": "stdout",
       "text": [
        "\r",
        "Iteration 210; distance 0.437069899505"
       ]
      },
      {
       "output_type": "stream",
       "stream": "stdout",
       "text": [
        "\r",
        "Iteration 211; distance 0.418665227579"
       ]
      },
      {
       "output_type": "stream",
       "stream": "stdout",
       "text": [
        "\r",
        "Iteration 212; distance 0.401035562027"
       ]
      },
      {
       "output_type": "stream",
       "stream": "stdout",
       "text": [
        "\r",
        "Iteration 213; distance 0.384148267898"
       ]
      },
      {
       "output_type": "stream",
       "stream": "stdout",
       "text": [
        "\r",
        "Iteration 214; distance 0.367972084543"
       ]
      },
      {
       "output_type": "stream",
       "stream": "stdout",
       "text": [
        "\r",
        "Iteration 215; distance 0.35247706763"
       ]
      },
      {
       "output_type": "stream",
       "stream": "stdout",
       "text": [
        "\r",
        "Iteration 216; distance 0.337634533762"
       ]
      },
      {
       "output_type": "stream",
       "stream": "stdout",
       "text": [
        "\r",
        "Iteration 217; distance 0.323417007361"
       ]
      },
      {
       "output_type": "stream",
       "stream": "stdout",
       "text": [
        "\r",
        "Iteration 218; distance 0.309798169918"
       ]
      },
      {
       "output_type": "stream",
       "stream": "stdout",
       "text": [
        "\r",
        "Iteration 219; distance 0.296752811112"
       ]
      },
      {
       "output_type": "stream",
       "stream": "stdout",
       "text": [
        "\r",
        "Iteration 220; distance 0.284256782142"
       ]
      },
      {
       "output_type": "stream",
       "stream": "stdout",
       "text": [
        "\r",
        "Iteration 221; distance 0.272286951177"
       ]
      },
      {
       "output_type": "stream",
       "stream": "stdout",
       "text": [
        "\r",
        "Iteration 222; distance 0.26082116042"
       ]
      },
      {
       "output_type": "stream",
       "stream": "stdout",
       "text": [
        "\r",
        "Iteration 223; distance 0.249838185171"
       ]
      },
      {
       "output_type": "stream",
       "stream": "stdout",
       "text": [
        "\r",
        "Iteration 224; distance 0.239317694421"
       ]
      },
      {
       "output_type": "stream",
       "stream": "stdout",
       "text": [
        "\r",
        "Iteration 225; distance 0.229240213334"
       ]
      },
      {
       "output_type": "stream",
       "stream": "stdout",
       "text": [
        "\r",
        "Iteration 226; distance 0.219587087072"
       ]
      },
      {
       "output_type": "stream",
       "stream": "stdout",
       "text": [
        "\r",
        "Iteration 227; distance 0.210340446447"
       ]
      },
      {
       "output_type": "stream",
       "stream": "stdout",
       "text": [
        "\r",
        "Iteration 228; distance 0.201483174605"
       ]
      },
      {
       "output_type": "stream",
       "stream": "stdout",
       "text": [
        "\r",
        "Iteration 229; distance 0.192998875571"
       ]
      },
      {
       "output_type": "stream",
       "stream": "stdout",
       "text": [
        "\r",
        "Iteration 230; distance 0.184871843763"
       ]
      },
      {
       "output_type": "stream",
       "stream": "stdout",
       "text": [
        "\r",
        "Iteration 231; distance 0.177087034926"
       ]
      },
      {
       "output_type": "stream",
       "stream": "stdout",
       "text": [
        "\r",
        "Iteration 232; distance 0.16963003825"
       ]
      },
      {
       "output_type": "stream",
       "stream": "stdout",
       "text": [
        "\r",
        "Iteration 233; distance 0.162487049894"
       ]
      },
      {
       "output_type": "stream",
       "stream": "stdout",
       "text": [
        "\r",
        "Iteration 234; distance 0.155644847193"
       ]
      },
      {
       "output_type": "stream",
       "stream": "stdout",
       "text": [
        "\r",
        "Iteration 235; distance 0.149090764302"
       ]
      },
      {
       "output_type": "stream",
       "stream": "stdout",
       "text": [
        "\r",
        "Iteration 236; distance 0.142812668707"
       ]
      },
      {
       "output_type": "stream",
       "stream": "stdout",
       "text": [
        "\r",
        "Iteration 237; distance 0.136798938869"
       ]
      },
      {
       "output_type": "stream",
       "stream": "stdout",
       "text": [
        "\r",
        "Iteration 238; distance 0.131038442435"
       ]
      },
      {
       "output_type": "stream",
       "stream": "stdout",
       "text": [
        "\r",
        "Iteration 239; distance 0.125520515998"
       ]
      },
      {
       "output_type": "stream",
       "stream": "stdout",
       "text": [
        "\r",
        "Iteration 240; distance 0.120234945183"
       ]
      },
      {
       "output_type": "stream",
       "stream": "stdout",
       "text": [
        "\r",
        "Iteration 241; distance 0.115171945622"
       ]
      },
      {
       "output_type": "stream",
       "stream": "stdout",
       "text": [
        "\r",
        "Iteration 242; distance 0.110322144941"
       ]
      },
      {
       "output_type": "stream",
       "stream": "stdout",
       "text": [
        "\r",
        "Iteration 243; distance 0.105676565648"
       ]
      },
      {
       "output_type": "stream",
       "stream": "stdout",
       "text": [
        "\r",
        "Iteration 244; distance 0.101226608039"
       ]
      },
      {
       "output_type": "stream",
       "stream": "stdout",
       "text": [
        "\r",
        "Iteration 245; distance 0.0969640346927"
       ]
      },
      {
       "output_type": "stream",
       "stream": "stdout",
       "text": [
        "\n",
        "finished in 246 iterations\n",
        "rendering texture"
       ]
      },
      {
       "output_type": "stream",
       "stream": "stdout",
       "text": [
        "\n",
        "loaded distance matrix from  /home/ilisescu/PhD/iPy/data/pendulum _distanceMatrix.npy\n",
        "[  1.   8.  28.  56.  70.  56.  28.   8.   1.]\n",
        "[16 35 54]\n",
        "[[ 1.        ]\n",
        " [ 0.96666667]\n",
        " [ 0.93333333]\n",
        " [ 0.9       ]\n",
        " [ 0.86666667]\n",
        " [ 0.83333333]\n",
        " [ 0.8       ]\n",
        " [ 0.76666667]\n",
        " [ 0.73333333]\n",
        " [ 0.7       ]\n",
        " [ 0.7       ]\n",
        " [ 0.7       ]\n",
        " [ 0.7       ]\n",
        " [ 0.7       ]\n",
        " [ 0.7       ]\n",
        " [ 0.7       ]\n",
        " [ 0.7       ]\n",
        " [ 0.7       ]\n",
        " [ 0.7       ]\n",
        " [ 0.7       ]\n",
        " [ 0.7       ]\n",
        " [ 0.7       ]\n",
        " [ 0.7       ]\n",
        " [ 0.7       ]\n",
        " [ 0.7       ]\n",
        " [ 0.7       ]\n",
        " [ 0.7       ]\n",
        " [ 0.7       ]\n",
        " [ 0.7       ]\n",
        " [ 0.7       ]\n",
        " [ 0.73333333]\n",
        " [ 0.76666667]\n",
        " [ 0.8       ]\n",
        " [ 0.83333333]\n",
        " [ 0.86666667]\n",
        " [ 0.9       ]\n",
        " [ 0.93333333]\n",
        " [ 0.96666667]\n",
        " [ 1.        ]]\n",
        "\r",
        "Iteration 0; distance 23880.4962687"
       ]
      },
      {
       "output_type": "stream",
       "stream": "stdout",
       "text": [
        "\r",
        "Iteration 1; distance 3005.33781126"
       ]
      },
      {
       "output_type": "stream",
       "stream": "stdout",
       "text": [
        "\r",
        "Iteration 2; distance 535.778788029"
       ]
      },
      {
       "output_type": "stream",
       "stream": "stdout",
       "text": [
        "\r",
        "Iteration 3; distance 0.248774436542"
       ]
      },
      {
       "output_type": "stream",
       "stream": "stdout",
       "text": [
        "\r",
        "Iteration 4; distance 0.000167268820712"
       ]
      },
      {
       "output_type": "stream",
       "stream": "stdout",
       "text": [
        "\n",
        "finished in 5 iterations\n",
        "sigma"
       ]
      },
      {
       "output_type": "stream",
       "stream": "stdout",
       "text": [
        " 1.90699763425\n",
        "(57, 57) (57, 57)\n",
        "35"
       ]
      },
      {
       "output_type": "stream",
       "stream": "stdout",
       "text": [
        "\n",
        "starting at frame 40\n",
        "frame 1 of 100 taken from frame 41 [ 0.56932142]\n",
        "frame 2 of 100 taken from frame 42 [ 0.81025745]\n",
        "frame 3 of 100 taken from frame 43 [ 0.69630956]\n",
        "frame 4 of 100 taken from frame 44 [ 0.9316405]\n",
        "frame 5 of 100 taken from frame 45 [ 0.64065826]\n",
        "frame 6 of 100 taken from frame 46 [ 0.70788256]\n",
        "frame 7 of 100 taken from frame 47 [ 0.17176146]\n",
        "frame 8 of 100 taken from frame 48 [ 0.32374069]\n",
        "frame 9 of 100 taken from frame 49 [ 0.66906632]\n",
        "frame 10 of 100 taken from frame 50 [ 0.77028318]\n",
        "frame 11 of 100 taken from frame 8 [ 0.2222739]\n",
        "frame 12 of 100 taken from frame 9 [ 0.75389544]\n",
        "frame 13 of 100 taken from frame 10 [ 0.47963173]\n",
        "frame 14 of 100 taken from frame 11 [ 0.33868561]\n",
        "frame 15 of 100 taken from frame 12 [ 0.59616052]\n",
        "frame 16 of 100 taken from frame 13 [ 0.49381004]\n",
        "frame 17 of 100 taken from frame 14 [ 0.92004991]\n",
        "frame 18 of 100 taken from frame 15 [ 0.0763325]\n",
        "frame 19 of 100 taken from frame 16 [ 0.49816077]\n",
        "frame 20 of 100 taken from frame 17 [ 0.28881375]\n",
        "frame 21 of 100 taken from frame 18 [ 0.62838453]\n",
        "frame 22 of 100 taken from frame 19 [ 0.00538203]\n",
        "frame 23 of 100 taken from frame 20 [ 0.48890434]\n",
        "frame 24 of 100 taken from frame 21 [ 0.98416029]\n",
        "frame 25 of 100 taken from frame 22 [ 0.08352175]\n",
        "frame 26 of 100 taken from frame 23 [ 0.54849789]\n",
        "frame 27 of 100 taken from frame 24 [ 0.22488566]\n",
        "frame 28 of 100 taken from frame 25 [ 0.51474267]\n",
        "frame 29 of 100 taken from frame 26 [ 0.74174297]\n",
        "frame 30 of 100 taken from frame 27 [ 0.59278816]\n",
        "frame 31 of 100 taken from frame 28 [ 0.61206201]\n",
        "frame 32 of 100 taken from frame 29 [ 0.54668414]\n",
        "frame 33 of 100 taken from frame 30 [ 0.49212277]\n",
        "frame 34 of 100 taken from frame 31 [ 0.1927519]\n",
        "frame 35 of 100 taken from frame 32 [ 0.61561258]\n",
        "frame 36 of 100 taken from frame 33 [ 0.59932422]\n",
        "frame 37 of 100 taken from frame 34 [ 0.14838128]\n",
        "frame 38 of 100 taken from frame 35 [ 0.94383379]\n",
        "frame 39 of 100 taken from frame 36 [ 0.24033629]\n",
        "frame 40 of 100 taken from frame 37 [ 0.28565838]\n",
        "frame 41 of 100 taken from frame 38 [ 0.41713704]\n",
        "frame 42 of 100 taken from frame 39 [ 0.54400282]\n",
        "frame 43 of 100 taken from frame 40 [ 0.55373733]\n",
        "frame 44 of 100 taken from frame 41 [ 0.18543948]\n",
        "frame 45 of 100 taken from frame 42 [ 0.44301459]\n",
        "frame 46 of 100 taken from frame 43 [ 0.03228241]\n",
        "frame 47 of 100 taken from frame 44 [ 0.34917131]\n",
        "frame 48 of 100 taken from frame 45 [ 0.79646758]\n",
        "frame 49 of 100 taken from frame 46 [ 0.54143311]\n",
        "frame 50 of 100 taken from frame 47 [ 0.84983539]\n",
        "frame 51 of 100 taken from frame 48 [ 0.20298186]\n",
        "frame 52 of 100 taken from frame 49 [ 0.22621629]\n",
        "frame 53 of 100 taken from frame 50 [ 0.28259181]\n",
        "frame 54 of 100 taken from frame 8 [ 0.31489566]\n",
        "frame 55 of 100 taken from frame 9 [ 0.07188665]\n",
        "frame 56 of 100 taken from frame 10 [ 0.91252466]\n",
        "frame 57 of 100 taken from frame 11 [ 0.02722796]\n",
        "frame 58 of 100 taken from frame 12 [ 0.67334172]\n",
        "frame 59 of 100 taken from frame 13 [ 0.98864271]\n",
        "frame 60 of 100 taken from frame 14 [ 0.35274478]\n",
        "frame 61 of 100 taken from frame 15 [ 0.99574056]\n",
        "frame 62 of 100 taken from frame 16 [ 0.81943239]\n",
        "frame 63 of 100 taken from frame 17 [ 0.16861113]\n",
        "frame 64 of 100 taken from frame 18 [ 0.49841971]\n",
        "frame 65 of 100 taken from frame 19 [ 0.37546252]\n",
        "frame 66 of 100 taken from frame 20 [ 0.58483926]\n",
        "frame 67 of 100 taken from frame 21 [ 0.10574399]\n",
        "frame 68 of 100 taken from frame 22 [ 0.34398796]\n",
        "frame 69 of 100 taken from frame 23 [ 0.37303721]\n",
        "frame 70 of 100 taken from frame 24 [ 0.65699631]\n",
        "frame 71 of 100 taken from frame 25 [ 0.83170112]\n",
        "frame 72 of 100 taken from frame 26 [ 0.75597406]\n",
        "frame 73 of 100 taken from frame 27 [ 0.47469533]\n",
        "frame 74 of 100 taken from frame 28 [ 0.03081761]\n",
        "frame 75 of 100 taken from frame 29 [ 0.36133632]\n",
        "frame 76 of 100 taken from frame 30 [ 0.38254322]\n",
        "frame 77 of 100 taken from frame 31 [ 0.276941]\n",
        "frame 78 of 100 taken from frame 32 [ 0.01304947]\n",
        "frame 79 of 100 taken from frame 33 [ 0.70204334]\n",
        "frame 80 of 100 taken from frame 34 [ 0.34536939]\n",
        "frame 81 of 100 taken from frame 35 [ 0.07241237]\n",
        "frame 82 of 100 taken from frame 36 [ 0.31292966]\n",
        "frame 83 of 100 taken from frame 37 [ 0.58564747]\n",
        "frame 84 of 100 taken from frame 38 [ 0.90764384]\n",
        "frame 85 of 100 taken from frame 39 [ 0.07822949]\n",
        "frame 86 of 100 taken from frame 40 [ 0.21424372]\n",
        "frame 87 of 100 taken from frame 41 [ 0.03631454]\n",
        "frame 88 of 100 taken from frame 42 [ 0.37996174]\n",
        "frame 89 of 100 taken from frame 43 [ 0.59919979]\n",
        "frame 90 of 100 taken from frame 44 [ 0.10190947]\n",
        "frame 91 of 100 taken from frame 45 [ 0.52613928]\n",
        "frame 92 of 100 taken from frame 46 [ 0.84375397]\n",
        "frame 93 of 100 taken from frame 47 [ 0.19084671]\n",
        "frame 94 of 100 taken from frame 48 [ 0.01369819]\n",
        "frame 95 of 100 taken from frame 49 [ 0.03396159]\n",
        "frame 96 of 100 taken from frame 50 [ 0.53606638]\n",
        "frame 97 of 100 taken from frame 8 [ 0.14245626]\n",
        "frame 98 of 100 taken from frame 9 [ 0.24805701]\n",
        "frame 99 of 100 taken from frame 10 [ 0.76336986]\n",
        "total additional frames [ 5  6  7  8  9 10 11 12 13 14 15 16 17 18 19 20 21 22 23 24 25 26 27 28 29\n",
        " 30 31 32 33 34]\n",
        "jump 1 from frame 50 to frame 8\n",
        "jump"
       ]
      },
      {
       "output_type": "stream",
       "stream": "stdout",
       "text": [
        " 2 from frame 50 to frame 8\n",
        "jump"
       ]
      },
      {
       "output_type": "stream",
       "stream": "stdout",
       "text": [
        " 3 from frame 50 to frame 8\n",
        "rendering texture"
       ]
      },
      {
       "output_type": "stream",
       "stream": "stdout",
       "text": [
        "\n",
        "loaded distance matrix from  /home/ilisescu/PhD/iPy/data/pendulum _distanceMatrix.npy\n",
        "[  1.   8.  28.  56.  70.  56.  28.   8.   1.]\n",
        "[ 6 25 44]\n",
        "[[ 1.        ]\n",
        " [ 0.96666667]\n",
        " [ 0.93333333]\n",
        " [ 0.9       ]\n",
        " [ 0.86666667]\n",
        " [ 0.83333333]\n",
        " [ 0.8       ]\n",
        " [ 0.76666667]\n",
        " [ 0.73333333]\n",
        " [ 0.7       ]\n",
        " [ 0.7       ]\n",
        " [ 0.7       ]\n",
        " [ 0.7       ]\n",
        " [ 0.7       ]\n",
        " [ 0.7       ]\n",
        " [ 0.7       ]\n",
        " [ 0.7       ]\n",
        " [ 0.7       ]\n",
        " [ 0.7       ]\n",
        " [ 0.7       ]\n",
        " [ 0.7       ]\n",
        " [ 0.7       ]\n",
        " [ 0.7       ]\n",
        " [ 0.7       ]\n",
        " [ 0.7       ]\n",
        " [ 0.7       ]\n",
        " [ 0.7       ]\n",
        " [ 0.7       ]\n",
        " [ 0.7       ]\n",
        " [ 0.7       ]\n",
        " [ 0.73333333]\n",
        " [ 0.76666667]\n",
        " [ 0.8       ]\n",
        " [ 0.83333333]\n",
        " [ 0.86666667]\n",
        " [ 0.9       ]\n",
        " [ 0.93333333]\n",
        " [ 0.96666667]\n",
        " [ 1.        ]]\n",
        "\r",
        "Iteration 0; distance 24813.6227734"
       ]
      },
      {
       "output_type": "stream",
       "stream": "stdout",
       "text": [
        "\r",
        "Iteration 1; distance 3332.7703216"
       ]
      },
      {
       "output_type": "stream",
       "stream": "stdout",
       "text": [
        "\r",
        "Iteration 2; distance 540.990300103"
       ]
      },
      {
       "output_type": "stream",
       "stream": "stdout",
       "text": [
        "\r",
        "Iteration 3; distance 0.00146575364159"
       ]
      },
      {
       "output_type": "stream",
       "stream": "stdout",
       "text": [
        "\n",
        "finished in 4 iterations\n",
        "sigma"
       ]
      },
      {
       "output_type": "stream",
       "stream": "stdout",
       "text": [
        " 1.99340803229\n",
        "(57, 57) (57, 57)\n",
        "25"
       ]
      },
      {
       "output_type": "stream",
       "stream": "stdout",
       "text": [
        "\n",
        "starting at frame 30\n",
        "frame 1 of 100 taken from frame 31 [ 0.88031269]\n",
        "frame 2 of 100 taken from frame 32 [ 0.71085436]\n",
        "frame 3 of 100 taken from frame 33 [ 0.77866745]\n",
        "frame 4 of 100 taken from frame 34 [ 0.41977985]\n",
        "frame 5 of 100 taken from frame 35 [ 0.09275005]\n",
        "frame 6 of 100 taken from frame 36 [ 0.03076199]\n",
        "frame 7 of 100 taken from frame 37 [ 0.06951308]\n",
        "frame 8 of 100 taken from frame 38 [ 0.82727368]\n",
        "frame 9 of 100 taken from frame 39 [ 0.64462825]\n",
        "frame 10 of 100 taken from frame 40 [ 0.74495078]\n",
        "frame 11 of 100 taken from frame 41 [ 0.98926987]\n",
        "frame 12 of 100 taken from frame 42 [ 0.26761752]\n",
        "frame 13 of 100 taken from frame 43 [ 0.87116334]\n",
        "frame 14 of 100 taken from frame 44 [ 0.15732359]\n",
        "frame 15 of 100 taken from frame 45 [ 0.9059606]\n",
        "frame 16 of 100 taken from frame 46 [ 0.85999698]\n",
        "frame 17 of 100 taken from frame 47 [ 0.3913979]\n",
        "frame 18 of 100 taken from frame 48 [ 0.75919763]\n",
        "frame 19 of 100 taken from frame 6 [ 0.52676367]\n",
        "frame 20 of 100 taken from frame 7 [ 0.64554516]\n",
        "frame 21 of 100 taken from frame 8 [ 0.4795118]\n",
        "frame 22 of 100 taken from frame 9 [ 0.77876627]\n",
        "frame 23 of 100 taken from frame 10 [ 0.65634266]\n",
        "frame 24 of 100 taken from frame 11 [ 0.61651999]\n",
        "frame 25 of 100 taken from frame 12 [ 0.64001923]\n",
        "frame 26 of 100 taken from frame 13 [ 0.56679389]\n",
        "frame 27 of 100 taken from frame 14 [ 0.14280964]\n",
        "frame 28 of 100 taken from frame 15 [ 0.40498905]\n",
        "frame 29 of 100 taken from frame 16 [ 0.8361885]\n",
        "frame 30 of 100 taken from frame 17 [ 0.78813541]\n",
        "frame 31 of 100 taken from frame 18 [ 0.18568718]\n",
        "frame 32 of 100 taken from frame 19 [ 0.69743722]\n",
        "frame 33 of 100 taken from frame 20 [ 0.87585036]\n",
        "frame 34 of 100 taken from frame 21 [ 0.81654382]\n",
        "frame 35 of 100 taken from frame 22 [ 0.25791307]\n",
        "frame 36 of 100 taken from frame 23 [ 0.42983237]\n",
        "frame 37 of 100 taken from frame 24 [ 0.70823164]\n",
        "frame 38 of 100 taken from frame 25 [ 0.46708635]\n",
        "frame 39 of 100 taken from frame 26 [ 0.59815857]\n",
        "frame 40 of 100 taken from frame 27 [ 0.79638739]\n",
        "frame 41 of 100 taken from frame 28 [ 0.09942437]\n",
        "frame 42 of 100 taken from frame 29 [ 0.78649273]\n",
        "frame 43 of 100 taken from frame 30 [ 0.0549313]\n",
        "frame 44 of 100 taken from frame 31 [ 0.90091701]\n",
        "frame 45 of 100 taken from frame 32 [ 0.93791227]\n",
        "frame 46 of 100 taken from frame 33 [ 0.70595373]\n",
        "frame 47 of 100 taken from frame 34 [ 0.29702979]\n",
        "frame 48 of 100 taken from frame 35 [ 0.68195643]\n",
        "frame 49 of 100 taken from frame 36 [ 0.16535784]\n",
        "frame 50 of 100 taken from frame 37 [ 0.11773023]\n",
        "frame 51 of 100 taken from frame 38 [ 0.9001448]\n",
        "frame 52 of 100 taken from frame 39 [ 0.66215759]\n",
        "frame 53 of 100 taken from frame 40 [ 0.75693428]\n",
        "frame 54 of 100 taken from frame 41 [ 0.14448084]\n",
        "frame 55 of 100 taken from frame 42 [ 0.94124848]\n",
        "frame 56 of 100 taken from frame 43 [ 0.78517045]\n",
        "frame 57 of 100 taken from frame 44 [ 0.56326405]\n",
        "frame 58 of 100 taken from frame 45 [ 0.81184338]\n",
        "frame 59 of 100 taken from frame 46 [ 0.26257072]\n",
        "frame 60 of 100 taken from frame 47 [ 0.19424509]\n",
        "frame 61 of 100 taken from frame 48 [ 0.42689632]\n",
        "frame 62 of 100 taken from frame 6 [ 0.6103966]\n",
        "frame 63 of 100 taken from frame 7 [ 0.6943628]\n",
        "frame 64 of 100 taken from frame 8 [ 0.9387676]\n",
        "frame 65 of 100 taken from frame 9 [ 0.12457021]\n",
        "frame 66 of 100 taken from frame 10 [ 0.05067034]\n",
        "frame 67 of 100 taken from frame 11 [ 0.39618813]\n",
        "frame 68 of 100 taken from frame 12 [ 0.94480574]\n",
        "frame 69 of 100 taken from frame 13 [ 0.05276538]\n",
        "frame 70 of 100 taken from frame 14 [ 0.95015852]\n",
        "frame 71 of 100 taken from frame 15 [ 0.41992975]\n",
        "frame 72 of 100 taken from frame 16 [ 0.40540587]\n",
        "frame 73 of 100 taken from frame 17 [ 0.4223055]\n",
        "frame 74 of 100 taken from frame 18 [ 0.35935892]\n",
        "frame 75 of 100 taken from frame 19 [ 0.40727575]\n",
        "frame 76 of 100 taken from frame 20 [ 0.91114325]\n",
        "frame 77 of 100 taken from frame 21 [ 0.71102651]\n",
        "frame 78 of 100 taken from frame 22 [ 0.40161187]\n",
        "frame 79 of 100 taken from frame 23 [ 0.76195843]\n",
        "frame 80 of 100 taken from frame 24 [ 0.6174792]\n",
        "frame 81 of 100 taken from frame 25 [ 0.57494357]\n",
        "frame 82 of 100 taken from frame 26 [ 0.10868951]\n",
        "frame 83 of 100 taken from frame 27 [ 0.71917541]\n",
        "frame 84 of 100 taken from frame 28 [ 0.67141614]\n",
        "frame 85 of 100 taken from frame 29 [ 0.37808008]\n",
        "frame 86 of 100 taken from frame 30 [ 0.78328641]\n",
        "frame 87 of 100 taken from frame 31 [ 0.81187975]\n",
        "frame 88 of 100 taken from frame 32 [ 0.60870562]\n",
        "frame 89 of 100 taken from frame 33 [ 0.92088704]\n",
        "frame 90 of 100 taken from frame 34 [ 0.57336264]\n",
        "frame 91 of 100 taken from frame 35 [ 0.58748428]\n",
        "frame 92 of 100 taken from frame 36 [ 0.28008756]\n",
        "frame 93 of 100 taken from frame 37 [ 0.20035818]\n",
        "frame 94 of 100 taken from frame 38 [ 0.1624219]\n",
        "frame 95 of 100 taken from frame 39 [ 0.85495326]\n",
        "frame 96 of 100 taken from frame 40 [ 0.72059635]\n",
        "frame 97 of 100 taken from frame 41 [ 0.66224537]\n",
        "frame 98 of 100 taken from frame 42 [ 0.33205355]\n",
        "frame 99 of 100 taken from frame 43 [ 0.33287989]\n",
        "additional frame 1 taken from frame 44 [ 0.01124894]\n",
        "additional frame 2 taken from frame 45 [ 0.96557518]\n",
        "additional frame 3 taken from frame 46 [ 0.6738507]\n",
        "additional frame 4 taken from frame 47 [ 0.43778914]\n",
        "additional frame 5 taken from frame 48 [ 0.45843326]\n",
        "additional frame 6 taken from frame 6 [ 0.02622045]\n",
        "total additional frames [39 40 41 42 43  1  1  2  3  4  5  6  7  8  9 10 11 12 13 14 15 16 17 18 19\n",
        " 20 21 22 23 24]\n",
        "jump"
       ]
      },
      {
       "output_type": "stream",
       "stream": "stdout",
       "text": [
        " 1 from frame 48 to frame 6\n",
        "jump"
       ]
      },
      {
       "output_type": "stream",
       "stream": "stdout",
       "text": [
        " 2 from frame 48 to frame 6\n",
        "jump"
       ]
      },
      {
       "output_type": "stream",
       "stream": "stdout",
       "text": [
        " 3 from frame 48 to frame 6\n",
        "\r",
        "Frames read: 1"
       ]
      },
      {
       "output_type": "stream",
       "stream": "stdout",
       "text": [
        "\r",
        "Frames read: 2"
       ]
      },
      {
       "output_type": "stream",
       "stream": "stdout",
       "text": [
        "\r",
        "Frames read: 3"
       ]
      },
      {
       "output_type": "stream",
       "stream": "stdout",
       "text": [
        "\r",
        "Frames read: 4"
       ]
      },
      {
       "output_type": "stream",
       "stream": "stdout",
       "text": [
        "\r",
        "Frames read: 5"
       ]
      },
      {
       "output_type": "stream",
       "stream": "stdout",
       "text": [
        "\r",
        "Frames read: 6"
       ]
      },
      {
       "output_type": "stream",
       "stream": "stdout",
       "text": [
        "\r",
        "Frames read: 7"
       ]
      },
      {
       "output_type": "stream",
       "stream": "stdout",
       "text": [
        "\r",
        "Frames read: 8"
       ]
      },
      {
       "output_type": "stream",
       "stream": "stdout",
       "text": [
        "\r",
        "Frames read: 9"
       ]
      },
      {
       "output_type": "stream",
       "stream": "stdout",
       "text": [
        "\r",
        "Frames read: 10"
       ]
      },
      {
       "output_type": "stream",
       "stream": "stdout",
       "text": [
        "\r",
        "Frames read: 11"
       ]
      },
      {
       "output_type": "stream",
       "stream": "stdout",
       "text": [
        "\r",
        "Frames read: 12"
       ]
      },
      {
       "output_type": "stream",
       "stream": "stdout",
       "text": [
        "\r",
        "Frames read: 13"
       ]
      },
      {
       "output_type": "stream",
       "stream": "stdout",
       "text": [
        "\r",
        "Frames read: 14"
       ]
      },
      {
       "output_type": "stream",
       "stream": "stdout",
       "text": [
        "\r",
        "Frames read: 15"
       ]
      },
      {
       "output_type": "stream",
       "stream": "stdout",
       "text": [
        "\r",
        "Frames read: 16"
       ]
      },
      {
       "output_type": "stream",
       "stream": "stdout",
       "text": [
        "\r",
        "Frames read: 17"
       ]
      },
      {
       "output_type": "stream",
       "stream": "stdout",
       "text": [
        "\r",
        "Frames read: 18"
       ]
      },
      {
       "output_type": "stream",
       "stream": "stdout",
       "text": [
        "\r",
        "Frames read: 19"
       ]
      },
      {
       "output_type": "stream",
       "stream": "stdout",
       "text": [
        "\r",
        "Frames read: 20"
       ]
      },
      {
       "output_type": "stream",
       "stream": "stdout",
       "text": [
        "\r",
        "Frames read: 21"
       ]
      },
      {
       "output_type": "stream",
       "stream": "stdout",
       "text": [
        "\r",
        "Frames read: 22"
       ]
      },
      {
       "output_type": "stream",
       "stream": "stdout",
       "text": [
        "\r",
        "Frames read: 23"
       ]
      },
      {
       "output_type": "stream",
       "stream": "stdout",
       "text": [
        "\r",
        "Frames read: 24"
       ]
      },
      {
       "output_type": "stream",
       "stream": "stdout",
       "text": [
        "\r",
        "Frames read: 25"
       ]
      },
      {
       "output_type": "stream",
       "stream": "stdout",
       "text": [
        "\r",
        "Frames read: 26"
       ]
      },
      {
       "output_type": "stream",
       "stream": "stdout",
       "text": [
        "\r",
        "Frames read: 27"
       ]
      },
      {
       "output_type": "stream",
       "stream": "stdout",
       "text": [
        "\r",
        "Frames read: 28"
       ]
      },
      {
       "output_type": "stream",
       "stream": "stdout",
       "text": [
        "\r",
        "Frames read: 29"
       ]
      },
      {
       "output_type": "stream",
       "stream": "stdout",
       "text": [
        "\r",
        "Frames read: 30"
       ]
      },
      {
       "output_type": "stream",
       "stream": "stdout",
       "text": [
        "\r",
        "Frames read: 31"
       ]
      },
      {
       "output_type": "stream",
       "stream": "stdout",
       "text": [
        "\r",
        "Frames read: 32"
       ]
      },
      {
       "output_type": "stream",
       "stream": "stdout",
       "text": [
        "\r",
        "Frames read: 33"
       ]
      },
      {
       "output_type": "stream",
       "stream": "stdout",
       "text": [
        "\r",
        "Frames read: 34"
       ]
      },
      {
       "output_type": "stream",
       "stream": "stdout",
       "text": [
        "\r",
        "Frames read: 35"
       ]
      },
      {
       "output_type": "stream",
       "stream": "stdout",
       "text": [
        "\r",
        "Frames read: 36"
       ]
      },
      {
       "output_type": "stream",
       "stream": "stdout",
       "text": [
        "\r",
        "Frames read: 37"
       ]
      },
      {
       "output_type": "stream",
       "stream": "stdout",
       "text": [
        "\r",
        "Frames read: 38"
       ]
      },
      {
       "output_type": "stream",
       "stream": "stdout",
       "text": [
        "\r",
        "Frames read: 39"
       ]
      },
      {
       "output_type": "stream",
       "stream": "stdout",
       "text": [
        "\r",
        "Frames read: 40"
       ]
      },
      {
       "output_type": "stream",
       "stream": "stdout",
       "text": [
        "\r",
        "Frames read: 41"
       ]
      },
      {
       "output_type": "stream",
       "stream": "stdout",
       "text": [
        "\r",
        "Frames read: 42"
       ]
      },
      {
       "output_type": "stream",
       "stream": "stdout",
       "text": [
        "\r",
        "Frames read: 43"
       ]
      },
      {
       "output_type": "stream",
       "stream": "stdout",
       "text": [
        "\r",
        "Frames read: 44"
       ]
      },
      {
       "output_type": "stream",
       "stream": "stdout",
       "text": [
        "\r",
        "Frames read: 45"
       ]
      },
      {
       "output_type": "stream",
       "stream": "stdout",
       "text": [
        "\r",
        "Frames read: 46"
       ]
      },
      {
       "output_type": "stream",
       "stream": "stdout",
       "text": [
        "\r",
        "Frames read: 47"
       ]
      },
      {
       "output_type": "stream",
       "stream": "stdout",
       "text": [
        "\r",
        "Frames read: 48"
       ]
      },
      {
       "output_type": "stream",
       "stream": "stdout",
       "text": [
        "\r",
        "Frames read: 49"
       ]
      },
      {
       "output_type": "stream",
       "stream": "stdout",
       "text": [
        "\r",
        "Frames read: 50"
       ]
      },
      {
       "output_type": "stream",
       "stream": "stdout",
       "text": [
        "\r",
        "Frames read: 51"
       ]
      },
      {
       "output_type": "stream",
       "stream": "stdout",
       "text": [
        "\r",
        "Frames read: 52"
       ]
      },
      {
       "output_type": "stream",
       "stream": "stdout",
       "text": [
        "\r",
        "Frames read: 53"
       ]
      },
      {
       "output_type": "stream",
       "stream": "stdout",
       "text": [
        "\r",
        "Frames read: 54"
       ]
      },
      {
       "output_type": "stream",
       "stream": "stdout",
       "text": [
        "\r",
        "Frames read: 55"
       ]
      },
      {
       "output_type": "stream",
       "stream": "stdout",
       "text": [
        "\r",
        "Frames read: 56"
       ]
      },
      {
       "output_type": "stream",
       "stream": "stdout",
       "text": [
        "\r",
        "Frames read: 57"
       ]
      },
      {
       "output_type": "stream",
       "stream": "stdout",
       "text": [
        "\r",
        "Frames read: 58"
       ]
      },
      {
       "output_type": "stream",
       "stream": "stdout",
       "text": [
        "\r",
        "Frames read: 59"
       ]
      },
      {
       "output_type": "stream",
       "stream": "stdout",
       "text": [
        "\r",
        "Frames read: 60"
       ]
      },
      {
       "output_type": "stream",
       "stream": "stdout",
       "text": [
        "\r",
        "Frames read: 61"
       ]
      },
      {
       "output_type": "stream",
       "stream": "stdout",
       "text": [
        "\r",
        "Frames read: 62"
       ]
      },
      {
       "output_type": "stream",
       "stream": "stdout",
       "text": [
        "\r",
        "Frames read: 63"
       ]
      },
      {
       "output_type": "stream",
       "stream": "stdout",
       "text": [
        "\r",
        "Frames read: 64"
       ]
      },
      {
       "output_type": "stream",
       "stream": "stdout",
       "text": [
        "\r",
        "Frames read: 65"
       ]
      },
      {
       "output_type": "stream",
       "stream": "stdout",
       "text": [
        "\r",
        "Frames read: 66"
       ]
      },
      {
       "output_type": "stream",
       "stream": "stdout",
       "text": [
        "\r",
        "Frames read: 67"
       ]
      },
      {
       "output_type": "stream",
       "stream": "stdout",
       "text": [
        "\r",
        "Frames read: 68"
       ]
      },
      {
       "output_type": "stream",
       "stream": "stdout",
       "text": [
        "\r",
        "Frames read: 69"
       ]
      },
      {
       "output_type": "stream",
       "stream": "stdout",
       "text": [
        "\r",
        "Frames read: 70"
       ]
      },
      {
       "output_type": "stream",
       "stream": "stdout",
       "text": [
        "\r",
        "Frames read: 71"
       ]
      },
      {
       "output_type": "stream",
       "stream": "stdout",
       "text": [
        "\r",
        "Frames read: 72"
       ]
      },
      {
       "output_type": "stream",
       "stream": "stdout",
       "text": [
        "\r",
        "Frames read: 73"
       ]
      },
      {
       "output_type": "stream",
       "stream": "stdout",
       "text": [
        "\r",
        "Frames read: 74"
       ]
      },
      {
       "output_type": "stream",
       "stream": "stdout",
       "text": [
        "\r",
        "Frames read: 75"
       ]
      },
      {
       "output_type": "stream",
       "stream": "stdout",
       "text": [
        "\r",
        "Frames read: 76"
       ]
      },
      {
       "output_type": "stream",
       "stream": "stdout",
       "text": [
        "\r",
        "Frames read: 77"
       ]
      },
      {
       "output_type": "stream",
       "stream": "stdout",
       "text": [
        "\r",
        "Frames read: 78"
       ]
      },
      {
       "output_type": "stream",
       "stream": "stdout",
       "text": [
        "\r",
        "Frames read: 79"
       ]
      },
      {
       "output_type": "stream",
       "stream": "stdout",
       "text": [
        "\r",
        "Frames read: 80"
       ]
      },
      {
       "output_type": "stream",
       "stream": "stdout",
       "text": [
        "\r",
        "Frames read: 81"
       ]
      },
      {
       "output_type": "stream",
       "stream": "stdout",
       "text": [
        "\r",
        "Frames read: 82"
       ]
      },
      {
       "output_type": "stream",
       "stream": "stdout",
       "text": [
        "\r",
        "Frames read: 83"
       ]
      },
      {
       "output_type": "stream",
       "stream": "stdout",
       "text": [
        "\r",
        "Frames read: 84"
       ]
      },
      {
       "output_type": "stream",
       "stream": "stdout",
       "text": [
        "\r",
        "Frames read: 85"
       ]
      },
      {
       "output_type": "stream",
       "stream": "stdout",
       "text": [
        "\r",
        "Frames read: 86"
       ]
      },
      {
       "output_type": "stream",
       "stream": "stdout",
       "text": [
        "\r",
        "Frames read: 87"
       ]
      },
      {
       "output_type": "stream",
       "stream": "stdout",
       "text": [
        "\r",
        "Frames read: 88"
       ]
      },
      {
       "output_type": "stream",
       "stream": "stdout",
       "text": [
        "\r",
        "Frames read: 89"
       ]
      },
      {
       "output_type": "stream",
       "stream": "stdout",
       "text": [
        "\r",
        "Frames read: 90"
       ]
      },
      {
       "output_type": "stream",
       "stream": "stdout",
       "text": [
        "\r",
        "Frames read: 91"
       ]
      },
      {
       "output_type": "stream",
       "stream": "stdout",
       "text": [
        "\r",
        "Frames read: 92"
       ]
      },
      {
       "output_type": "stream",
       "stream": "stdout",
       "text": [
        "\r",
        "Frames read: 93"
       ]
      },
      {
       "output_type": "stream",
       "stream": "stdout",
       "text": [
        "\r",
        "Frames read: 94"
       ]
      },
      {
       "output_type": "stream",
       "stream": "stdout",
       "text": [
        "\r",
        "Frames read: 95"
       ]
      },
      {
       "output_type": "stream",
       "stream": "stdout",
       "text": [
        "\r",
        "Frames read: 96"
       ]
      },
      {
       "output_type": "stream",
       "stream": "stdout",
       "text": [
        "\r",
        "Frames read: 97"
       ]
      },
      {
       "output_type": "stream",
       "stream": "stdout",
       "text": [
        "\r",
        "Frames read: 98"
       ]
      },
      {
       "output_type": "stream",
       "stream": "stdout",
       "text": [
        "\r",
        "Frames read: 99"
       ]
      },
      {
       "output_type": "stream",
       "stream": "stdout",
       "text": [
        "\r",
        "Frames read: 100"
       ]
      },
      {
       "output_type": "stream",
       "stream": "stdout",
       "text": [
        "\r",
        "Frames read: 101"
       ]
      },
      {
       "output_type": "stream",
       "stream": "stdout",
       "text": [
        "\r",
        "Frames read: 102"
       ]
      },
      {
       "output_type": "stream",
       "stream": "stdout",
       "text": [
        "\r",
        "Frames read: 103"
       ]
      },
      {
       "output_type": "stream",
       "stream": "stdout",
       "text": [
        "\r",
        "Frames read: 104"
       ]
      },
      {
       "output_type": "stream",
       "stream": "stdout",
       "text": [
        "\r",
        "Frames read: 105"
       ]
      },
      {
       "output_type": "stream",
       "stream": "stdout",
       "text": [
        "\r",
        "Frames read: 106"
       ]
      },
      {
       "output_type": "stream",
       "stream": "stdout",
       "text": [
        "\r",
        "Frames read: 107"
       ]
      },
      {
       "output_type": "stream",
       "stream": "stdout",
       "text": [
        "\r",
        "Frames read: 108"
       ]
      },
      {
       "output_type": "stream",
       "stream": "stdout",
       "text": [
        "\r",
        "Frames read: 109"
       ]
      },
      {
       "output_type": "stream",
       "stream": "stdout",
       "text": [
        "\r",
        "Frames read: 110"
       ]
      },
      {
       "output_type": "stream",
       "stream": "stdout",
       "text": [
        "\r",
        "Frames read: 111"
       ]
      },
      {
       "output_type": "stream",
       "stream": "stdout",
       "text": [
        "\r",
        "Frames read: 112"
       ]
      },
      {
       "output_type": "stream",
       "stream": "stdout",
       "text": [
        "\r",
        "Frames read: 113"
       ]
      },
      {
       "output_type": "stream",
       "stream": "stdout",
       "text": [
        "\r",
        "Frames read: 114"
       ]
      },
      {
       "output_type": "stream",
       "stream": "stdout",
       "text": [
        "\r",
        "Frames read: 115"
       ]
      },
      {
       "output_type": "stream",
       "stream": "stdout",
       "text": [
        "\r",
        "Frames read: 116"
       ]
      },
      {
       "output_type": "stream",
       "stream": "stdout",
       "text": [
        "\r",
        "Frames read: 117"
       ]
      },
      {
       "output_type": "stream",
       "stream": "stdout",
       "text": [
        "\r",
        "Frames read: 118"
       ]
      },
      {
       "output_type": "stream",
       "stream": "stdout",
       "text": [
        "\r",
        "Frames read: 119"
       ]
      },
      {
       "output_type": "stream",
       "stream": "stdout",
       "text": [
        "\r",
        "Frames read: 120"
       ]
      },
      {
       "output_type": "stream",
       "stream": "stdout",
       "text": [
        "\r",
        "Frames read: 121"
       ]
      },
      {
       "output_type": "stream",
       "stream": "stdout",
       "text": [
        "\r",
        "Frames read: 122"
       ]
      },
      {
       "output_type": "stream",
       "stream": "stdout",
       "text": [
        "\r",
        "Frames read: 123"
       ]
      },
      {
       "output_type": "stream",
       "stream": "stdout",
       "text": [
        "\r",
        "Frames read: 124"
       ]
      },
      {
       "output_type": "stream",
       "stream": "stdout",
       "text": [
        "\r",
        "Frames read: 125"
       ]
      },
      {
       "output_type": "stream",
       "stream": "stdout",
       "text": [
        "\r",
        "Frames read: 126"
       ]
      },
      {
       "output_type": "stream",
       "stream": "stdout",
       "text": [
        "\r",
        "Frames read: 127"
       ]
      },
      {
       "output_type": "stream",
       "stream": "stdout",
       "text": [
        "\r",
        "Frames read: 128"
       ]
      },
      {
       "output_type": "stream",
       "stream": "stdout",
       "text": [
        "\r",
        "Frames read: 129"
       ]
      },
      {
       "output_type": "stream",
       "stream": "stdout",
       "text": [
        "\r",
        "Frames read: 130"
       ]
      },
      {
       "output_type": "stream",
       "stream": "stdout",
       "text": [
        "\r",
        "Frames read: 131"
       ]
      },
      {
       "output_type": "stream",
       "stream": "stdout",
       "text": [
        "\r",
        "Frames read: 132"
       ]
      },
      {
       "output_type": "stream",
       "stream": "stdout",
       "text": [
        "\r",
        "Frames read: 133"
       ]
      },
      {
       "output_type": "stream",
       "stream": "stdout",
       "text": [
        "\r",
        "Frames read: 134"
       ]
      },
      {
       "output_type": "stream",
       "stream": "stdout",
       "text": [
        "\r",
        "Frames read: 135"
       ]
      },
      {
       "output_type": "stream",
       "stream": "stdout",
       "text": [
        "\r",
        "Frames read: 136"
       ]
      },
      {
       "output_type": "stream",
       "stream": "stdout",
       "text": [
        "\r",
        "Frames read: 137"
       ]
      },
      {
       "output_type": "stream",
       "stream": "stdout",
       "text": [
        "\r",
        "Frames read: 138"
       ]
      },
      {
       "output_type": "stream",
       "stream": "stdout",
       "text": [
        "\r",
        "Frames read: 139"
       ]
      },
      {
       "output_type": "stream",
       "stream": "stdout",
       "text": [
        "\r",
        "Frames read: 140"
       ]
      },
      {
       "output_type": "stream",
       "stream": "stdout",
       "text": [
        "\r",
        "Frames read: 141"
       ]
      },
      {
       "output_type": "stream",
       "stream": "stdout",
       "text": [
        "\r",
        "Frames read: 142"
       ]
      },
      {
       "output_type": "stream",
       "stream": "stdout",
       "text": [
        "\r",
        "Frames read: 143"
       ]
      },
      {
       "output_type": "stream",
       "stream": "stdout",
       "text": [
        "\r",
        "Frames read: 144"
       ]
      },
      {
       "output_type": "stream",
       "stream": "stdout",
       "text": [
        "\r",
        "Frames read: 145"
       ]
      },
      {
       "output_type": "stream",
       "stream": "stdout",
       "text": [
        "\r",
        "Frames read: 146"
       ]
      },
      {
       "output_type": "stream",
       "stream": "stdout",
       "text": [
        "\r",
        "Frames read: 147"
       ]
      },
      {
       "output_type": "stream",
       "stream": "stdout",
       "text": [
        "\r",
        "Frames read: 148"
       ]
      },
      {
       "output_type": "stream",
       "stream": "stdout",
       "text": [
        "\r",
        "Frames read: 149"
       ]
      },
      {
       "output_type": "stream",
       "stream": "stdout",
       "text": [
        "\r",
        "Frames read: 150"
       ]
      },
      {
       "output_type": "stream",
       "stream": "stdout",
       "text": [
        "\r",
        "Frames read: 151"
       ]
      },
      {
       "output_type": "stream",
       "stream": "stdout",
       "text": [
        "\r",
        "Frames read: 152"
       ]
      },
      {
       "output_type": "stream",
       "stream": "stdout",
       "text": [
        "\r",
        "Frames read: 153"
       ]
      },
      {
       "output_type": "stream",
       "stream": "stdout",
       "text": [
        "\r",
        "Frames read: 154"
       ]
      },
      {
       "output_type": "stream",
       "stream": "stdout",
       "text": [
        "\r",
        "Frames read: 155"
       ]
      },
      {
       "output_type": "stream",
       "stream": "stdout",
       "text": [
        "\r",
        "Frames read: 156"
       ]
      },
      {
       "output_type": "stream",
       "stream": "stdout",
       "text": [
        "\r",
        "Frames read: 157"
       ]
      },
      {
       "output_type": "stream",
       "stream": "stdout",
       "text": [
        "\r",
        "Frames read: 158"
       ]
      },
      {
       "output_type": "stream",
       "stream": "stdout",
       "text": [
        "\r",
        "Frames read: 159"
       ]
      },
      {
       "output_type": "stream",
       "stream": "stdout",
       "text": [
        "\r",
        "Frames read: 160"
       ]
      },
      {
       "output_type": "stream",
       "stream": "stdout",
       "text": [
        "\r",
        "Frames read: 161"
       ]
      },
      {
       "output_type": "stream",
       "stream": "stdout",
       "text": [
        "\r",
        "Frames read: 162"
       ]
      },
      {
       "output_type": "stream",
       "stream": "stdout",
       "text": [
        "\r",
        "Frames read: 163"
       ]
      },
      {
       "output_type": "stream",
       "stream": "stdout",
       "text": [
        "\r",
        "Frames read: 164"
       ]
      },
      {
       "output_type": "stream",
       "stream": "stdout",
       "text": [
        "\r",
        "Frames read: 165"
       ]
      },
      {
       "output_type": "stream",
       "stream": "stdout",
       "text": [
        "\r",
        "Frames read: 166"
       ]
      },
      {
       "output_type": "stream",
       "stream": "stdout",
       "text": [
        "\r",
        "Frames read: 167"
       ]
      },
      {
       "output_type": "stream",
       "stream": "stdout",
       "text": [
        "\r",
        "Frames read: 168"
       ]
      },
      {
       "output_type": "stream",
       "stream": "stdout",
       "text": [
        "\r",
        "Frames read: 169"
       ]
      },
      {
       "output_type": "stream",
       "stream": "stdout",
       "text": [
        "\r",
        "Frames read: 170"
       ]
      },
      {
       "output_type": "stream",
       "stream": "stdout",
       "text": [
        "\r",
        "Frames read: 171"
       ]
      },
      {
       "output_type": "stream",
       "stream": "stdout",
       "text": [
        "\r",
        "Frames read: 172"
       ]
      },
      {
       "output_type": "stream",
       "stream": "stdout",
       "text": [
        "\r",
        "Frames read: 173"
       ]
      },
      {
       "output_type": "stream",
       "stream": "stdout",
       "text": [
        "\r",
        "Frames read: 174"
       ]
      },
      {
       "output_type": "stream",
       "stream": "stdout",
       "text": [
        "\r",
        "Frames read: 175"
       ]
      },
      {
       "output_type": "stream",
       "stream": "stdout",
       "text": [
        "\r",
        "Frames read: 176"
       ]
      },
      {
       "output_type": "stream",
       "stream": "stdout",
       "text": [
        "\r",
        "Frames read: 177"
       ]
      },
      {
       "output_type": "stream",
       "stream": "stdout",
       "text": [
        "\r",
        "Frames read: 178"
       ]
      },
      {
       "output_type": "stream",
       "stream": "stdout",
       "text": [
        "\r",
        "Frames read: 179"
       ]
      },
      {
       "output_type": "stream",
       "stream": "stdout",
       "text": [
        "\r",
        "Frames read: 180"
       ]
      },
      {
       "output_type": "stream",
       "stream": "stdout",
       "text": [
        "\r",
        "Frames read: 181"
       ]
      },
      {
       "output_type": "stream",
       "stream": "stdout",
       "text": [
        "\r",
        "Frames read: 182"
       ]
      },
      {
       "output_type": "stream",
       "stream": "stdout",
       "text": [
        "\r",
        "Frames read: 183"
       ]
      },
      {
       "output_type": "stream",
       "stream": "stdout",
       "text": [
        "\r",
        "Frames read: 184"
       ]
      },
      {
       "output_type": "stream",
       "stream": "stdout",
       "text": [
        "\r",
        "Frames read: 185"
       ]
      },
      {
       "output_type": "stream",
       "stream": "stdout",
       "text": [
        "\r",
        "Frames read: 186"
       ]
      },
      {
       "output_type": "stream",
       "stream": "stdout",
       "text": [
        "\r",
        "Frames read: 187"
       ]
      },
      {
       "output_type": "stream",
       "stream": "stdout",
       "text": [
        "\r",
        "Frames read: 188"
       ]
      },
      {
       "output_type": "stream",
       "stream": "stdout",
       "text": [
        "\r",
        "Frames read: 189"
       ]
      },
      {
       "output_type": "stream",
       "stream": "stdout",
       "text": [
        "\r",
        "Frames read: 190"
       ]
      },
      {
       "output_type": "stream",
       "stream": "stdout",
       "text": [
        "\r",
        "Frames read: 191"
       ]
      },
      {
       "output_type": "stream",
       "stream": "stdout",
       "text": [
        "\r",
        "Frames read: 192"
       ]
      },
      {
       "output_type": "stream",
       "stream": "stdout",
       "text": [
        "\r",
        "Frames read: 193"
       ]
      },
      {
       "output_type": "stream",
       "stream": "stdout",
       "text": [
        "\r",
        "Frames read: 194"
       ]
      },
      {
       "output_type": "stream",
       "stream": "stdout",
       "text": [
        "\r",
        "Frames read: 195"
       ]
      },
      {
       "output_type": "stream",
       "stream": "stdout",
       "text": [
        "\r",
        "Frames read: 196"
       ]
      },
      {
       "output_type": "stream",
       "stream": "stdout",
       "text": [
        "\r",
        "Frames read: 197"
       ]
      },
      {
       "output_type": "stream",
       "stream": "stdout",
       "text": [
        "\r",
        "Frames read: 198"
       ]
      },
      {
       "output_type": "stream",
       "stream": "stdout",
       "text": [
        "\r",
        "Frames read: 199"
       ]
      },
      {
       "output_type": "stream",
       "stream": "stdout",
       "text": [
        "\r",
        "Frames read: 200"
       ]
      },
      {
       "output_type": "stream",
       "stream": "stdout",
       "text": [
        "\r",
        "Frames read: 201"
       ]
      },
      {
       "output_type": "stream",
       "stream": "stdout",
       "text": [
        "\r",
        "Frames read: 202"
       ]
      },
      {
       "output_type": "stream",
       "stream": "stdout",
       "text": [
        "\r",
        "Frames read: 203"
       ]
      },
      {
       "output_type": "stream",
       "stream": "stdout",
       "text": [
        "\r",
        "Frames read: 204"
       ]
      },
      {
       "output_type": "stream",
       "stream": "stdout",
       "text": [
        "\r",
        "Frames read: 205"
       ]
      },
      {
       "output_type": "stream",
       "stream": "stdout",
       "text": [
        "\r",
        "Frames read: 206"
       ]
      },
      {
       "output_type": "stream",
       "stream": "stdout",
       "text": [
        "\r",
        "Frames read: 207"
       ]
      },
      {
       "output_type": "stream",
       "stream": "stdout",
       "text": [
        "\r",
        "Frames read: 208"
       ]
      },
      {
       "output_type": "stream",
       "stream": "stdout",
       "text": [
        "\r",
        "Frames read: 209"
       ]
      },
      {
       "output_type": "stream",
       "stream": "stdout",
       "text": [
        "\r",
        "Frames read: 210"
       ]
      },
      {
       "output_type": "stream",
       "stream": "stdout",
       "text": [
        "\r",
        "Frames read: 211"
       ]
      },
      {
       "output_type": "stream",
       "stream": "stdout",
       "text": [
        "\r",
        "Frames read: 212"
       ]
      },
      {
       "output_type": "stream",
       "stream": "stdout",
       "text": [
        "\r",
        "Frames read: 213"
       ]
      },
      {
       "output_type": "stream",
       "stream": "stdout",
       "text": [
        "\r",
        "Frames read: 214"
       ]
      },
      {
       "output_type": "stream",
       "stream": "stdout",
       "text": [
        "\r",
        "Frames read: 215"
       ]
      },
      {
       "output_type": "stream",
       "stream": "stdout",
       "text": [
        "\r",
        "Frames read: 216"
       ]
      },
      {
       "output_type": "stream",
       "stream": "stdout",
       "text": [
        "\r",
        "Frames read: 217"
       ]
      },
      {
       "output_type": "stream",
       "stream": "stdout",
       "text": [
        "\r",
        "Frames read: 218"
       ]
      },
      {
       "output_type": "stream",
       "stream": "stdout",
       "text": [
        "\r",
        "Frames read: 219"
       ]
      },
      {
       "output_type": "stream",
       "stream": "stdout",
       "text": [
        "\r",
        "Frames read: 220"
       ]
      },
      {
       "output_type": "stream",
       "stream": "stdout",
       "text": [
        "\r",
        "Frames read: 221"
       ]
      },
      {
       "output_type": "stream",
       "stream": "stdout",
       "text": [
        "\r",
        "Frames read: 222"
       ]
      },
      {
       "output_type": "stream",
       "stream": "stdout",
       "text": [
        "\r",
        "Frames read: 223"
       ]
      },
      {
       "output_type": "stream",
       "stream": "stdout",
       "text": [
        "\r",
        "Frames read: 224"
       ]
      },
      {
       "output_type": "stream",
       "stream": "stdout",
       "text": [
        "\r",
        "Frames read: 225"
       ]
      },
      {
       "output_type": "stream",
       "stream": "stdout",
       "text": [
        "\r",
        "Frames read: 226"
       ]
      },
      {
       "output_type": "stream",
       "stream": "stdout",
       "text": [
        "\r",
        "Frames read: 227"
       ]
      },
      {
       "output_type": "stream",
       "stream": "stdout",
       "text": [
        "\r",
        "Frames read: 228"
       ]
      },
      {
       "output_type": "stream",
       "stream": "stdout",
       "text": [
        "\r",
        "Frames read: 229"
       ]
      },
      {
       "output_type": "stream",
       "stream": "stdout",
       "text": [
        "\r",
        "Frames read: 230"
       ]
      },
      {
       "output_type": "stream",
       "stream": "stdout",
       "text": [
        "\r",
        "Frames read: 231"
       ]
      },
      {
       "output_type": "stream",
       "stream": "stdout",
       "text": [
        "\r",
        "Frames read: 232"
       ]
      },
      {
       "output_type": "stream",
       "stream": "stdout",
       "text": [
        "\r",
        "Frames read: 233"
       ]
      },
      {
       "output_type": "stream",
       "stream": "stdout",
       "text": [
        "\r",
        "Frames read: 234"
       ]
      },
      {
       "output_type": "stream",
       "stream": "stdout",
       "text": [
        "\r",
        "Frames read: 235"
       ]
      },
      {
       "output_type": "stream",
       "stream": "stdout",
       "text": [
        "\r",
        "Frames read: 236"
       ]
      },
      {
       "output_type": "stream",
       "stream": "stdout",
       "text": [
        "\r",
        "Frames read: 237"
       ]
      },
      {
       "output_type": "stream",
       "stream": "stdout",
       "text": [
        "\r",
        "Frames read: 238"
       ]
      },
      {
       "output_type": "stream",
       "stream": "stdout",
       "text": [
        "\r",
        "Frames read: 239"
       ]
      },
      {
       "output_type": "stream",
       "stream": "stdout",
       "text": [
        "\r",
        "Frames read: 240"
       ]
      },
      {
       "output_type": "stream",
       "stream": "stdout",
       "text": [
        "\r",
        "Frames read: 241"
       ]
      },
      {
       "output_type": "stream",
       "stream": "stdout",
       "text": [
        "\r",
        "Frames read: 242"
       ]
      },
      {
       "output_type": "stream",
       "stream": "stdout",
       "text": [
        "\r",
        "Frames read: 243"
       ]
      },
      {
       "output_type": "stream",
       "stream": "stdout",
       "text": [
        "\r",
        "Frames read: 244"
       ]
      },
      {
       "output_type": "stream",
       "stream": "stdout",
       "text": [
        "\r",
        "Frames read: 245"
       ]
      },
      {
       "output_type": "stream",
       "stream": "stdout",
       "text": [
        "\r",
        "Frames read: 246"
       ]
      },
      {
       "output_type": "stream",
       "stream": "stdout",
       "text": [
        "\r",
        "Frames read: 247"
       ]
      },
      {
       "output_type": "stream",
       "stream": "stdout",
       "text": [
        "\r",
        "Frames read: 248"
       ]
      },
      {
       "output_type": "stream",
       "stream": "stdout",
       "text": [
        "\r",
        "Frames read: 249"
       ]
      },
      {
       "output_type": "stream",
       "stream": "stdout",
       "text": [
        "\r",
        "Frames read: 250"
       ]
      },
      {
       "output_type": "stream",
       "stream": "stdout",
       "text": [
        "\r",
        "Frames saved: 0 of 250"
       ]
      },
      {
       "output_type": "stream",
       "stream": "stdout",
       "text": [
        "\r",
        "Frames saved: 1 of 250"
       ]
      },
      {
       "output_type": "stream",
       "stream": "stdout",
       "text": [
        "\r",
        "Frames saved: 2 of 250"
       ]
      },
      {
       "output_type": "stream",
       "stream": "stdout",
       "text": [
        "\r",
        "Frames saved: 3 of 250"
       ]
      },
      {
       "output_type": "stream",
       "stream": "stdout",
       "text": [
        "\r",
        "Frames saved: 4 of 250"
       ]
      },
      {
       "output_type": "stream",
       "stream": "stdout",
       "text": [
        "\r",
        "Frames saved: 5 of 250"
       ]
      },
      {
       "output_type": "stream",
       "stream": "stdout",
       "text": [
        "\r",
        "Frames saved: 6 of 250"
       ]
      },
      {
       "output_type": "stream",
       "stream": "stdout",
       "text": [
        "\r",
        "Frames saved: 7 of 250"
       ]
      },
      {
       "output_type": "stream",
       "stream": "stdout",
       "text": [
        "\r",
        "Frames saved: 8 of 250"
       ]
      },
      {
       "output_type": "stream",
       "stream": "stdout",
       "text": [
        "\r",
        "Frames saved: 9 of 250"
       ]
      },
      {
       "output_type": "stream",
       "stream": "stdout",
       "text": [
        "\r",
        "Frames saved: 10 of 250"
       ]
      },
      {
       "output_type": "stream",
       "stream": "stdout",
       "text": [
        "\r",
        "Frames saved: 11 of 250"
       ]
      },
      {
       "output_type": "stream",
       "stream": "stdout",
       "text": [
        "\r",
        "Frames saved: 12 of 250"
       ]
      },
      {
       "output_type": "stream",
       "stream": "stdout",
       "text": [
        "\r",
        "Frames saved: 13 of 250"
       ]
      },
      {
       "output_type": "stream",
       "stream": "stdout",
       "text": [
        "\r",
        "Frames saved: 14 of 250"
       ]
      },
      {
       "output_type": "stream",
       "stream": "stdout",
       "text": [
        "\r",
        "Frames saved: 15 of 250"
       ]
      },
      {
       "output_type": "stream",
       "stream": "stdout",
       "text": [
        "\r",
        "Frames saved: 16 of 250"
       ]
      },
      {
       "output_type": "stream",
       "stream": "stdout",
       "text": [
        "\r",
        "Frames saved: 17 of 250"
       ]
      },
      {
       "output_type": "stream",
       "stream": "stdout",
       "text": [
        "\r",
        "Frames saved: 18 of 250"
       ]
      },
      {
       "output_type": "stream",
       "stream": "stdout",
       "text": [
        "\r",
        "Frames saved: 19 of 250"
       ]
      },
      {
       "output_type": "stream",
       "stream": "stdout",
       "text": [
        "\r",
        "Frames saved: 20 of 250"
       ]
      },
      {
       "output_type": "stream",
       "stream": "stdout",
       "text": [
        "\r",
        "Frames saved: 21 of 250"
       ]
      },
      {
       "output_type": "stream",
       "stream": "stdout",
       "text": [
        "\r",
        "Frames saved: 22 of 250"
       ]
      },
      {
       "output_type": "stream",
       "stream": "stdout",
       "text": [
        "\r",
        "Frames saved: 23 of 250"
       ]
      },
      {
       "output_type": "stream",
       "stream": "stdout",
       "text": [
        "\r",
        "Frames saved: 24 of 250"
       ]
      },
      {
       "output_type": "stream",
       "stream": "stdout",
       "text": [
        "\r",
        "Frames saved: 25 of 250"
       ]
      },
      {
       "output_type": "stream",
       "stream": "stdout",
       "text": [
        "\r",
        "Frames saved: 26 of 250"
       ]
      },
      {
       "output_type": "stream",
       "stream": "stdout",
       "text": [
        "\r",
        "Frames saved: 27 of 250"
       ]
      },
      {
       "output_type": "stream",
       "stream": "stdout",
       "text": [
        "\r",
        "Frames saved: 28 of 250"
       ]
      },
      {
       "output_type": "stream",
       "stream": "stdout",
       "text": [
        "\r",
        "Frames saved: 29 of 250"
       ]
      },
      {
       "output_type": "stream",
       "stream": "stdout",
       "text": [
        "\r",
        "Frames saved: 30 of 250"
       ]
      },
      {
       "output_type": "stream",
       "stream": "stdout",
       "text": [
        "\r",
        "Frames saved: 31 of 250"
       ]
      },
      {
       "output_type": "stream",
       "stream": "stdout",
       "text": [
        "\r",
        "Frames saved: 32 of 250"
       ]
      },
      {
       "output_type": "stream",
       "stream": "stdout",
       "text": [
        "\r",
        "Frames saved: 33 of 250"
       ]
      },
      {
       "output_type": "stream",
       "stream": "stdout",
       "text": [
        "\r",
        "Frames saved: 34 of 250"
       ]
      },
      {
       "output_type": "stream",
       "stream": "stdout",
       "text": [
        "\r",
        "Frames saved: 35 of 250"
       ]
      },
      {
       "output_type": "stream",
       "stream": "stdout",
       "text": [
        "\r",
        "Frames saved: 36 of 250"
       ]
      },
      {
       "output_type": "stream",
       "stream": "stdout",
       "text": [
        "\r",
        "Frames saved: 37 of 250"
       ]
      },
      {
       "output_type": "stream",
       "stream": "stdout",
       "text": [
        "\r",
        "Frames saved: 38 of 250"
       ]
      },
      {
       "output_type": "stream",
       "stream": "stdout",
       "text": [
        "\r",
        "Frames saved: 39 of 250"
       ]
      },
      {
       "output_type": "stream",
       "stream": "stdout",
       "text": [
        "\r",
        "Frames saved: 40 of 250"
       ]
      },
      {
       "output_type": "stream",
       "stream": "stdout",
       "text": [
        "\r",
        "Frames saved: 41 of 250"
       ]
      },
      {
       "output_type": "stream",
       "stream": "stdout",
       "text": [
        "\r",
        "Frames saved: 42 of 250"
       ]
      },
      {
       "output_type": "stream",
       "stream": "stdout",
       "text": [
        "\r",
        "Frames saved: 43 of 250"
       ]
      },
      {
       "output_type": "stream",
       "stream": "stdout",
       "text": [
        "\r",
        "Frames saved: 44 of 250"
       ]
      },
      {
       "output_type": "stream",
       "stream": "stdout",
       "text": [
        "\r",
        "Frames saved: 45 of 250"
       ]
      },
      {
       "output_type": "stream",
       "stream": "stdout",
       "text": [
        "\r",
        "Frames saved: 46 of 250"
       ]
      },
      {
       "output_type": "stream",
       "stream": "stdout",
       "text": [
        "\r",
        "Frames saved: 47 of 250"
       ]
      },
      {
       "output_type": "stream",
       "stream": "stdout",
       "text": [
        "\r",
        "Frames saved: 48 of 250"
       ]
      },
      {
       "output_type": "stream",
       "stream": "stdout",
       "text": [
        "\r",
        "Frames saved: 49 of 250"
       ]
      },
      {
       "output_type": "stream",
       "stream": "stdout",
       "text": [
        "\r",
        "Frames saved: 50 of 250"
       ]
      },
      {
       "output_type": "stream",
       "stream": "stdout",
       "text": [
        "\r",
        "Frames saved: 51 of 250"
       ]
      },
      {
       "output_type": "stream",
       "stream": "stdout",
       "text": [
        "\r",
        "Frames saved: 52 of 250"
       ]
      },
      {
       "output_type": "stream",
       "stream": "stdout",
       "text": [
        "\r",
        "Frames saved: 53 of 250"
       ]
      },
      {
       "output_type": "stream",
       "stream": "stdout",
       "text": [
        "\r",
        "Frames saved: 54 of 250"
       ]
      },
      {
       "output_type": "stream",
       "stream": "stdout",
       "text": [
        "\r",
        "Frames saved: 55 of 250"
       ]
      },
      {
       "output_type": "stream",
       "stream": "stdout",
       "text": [
        "\r",
        "Frames saved: 56 of 250"
       ]
      },
      {
       "output_type": "stream",
       "stream": "stdout",
       "text": [
        "\r",
        "Frames saved: 57 of 250"
       ]
      },
      {
       "output_type": "stream",
       "stream": "stdout",
       "text": [
        "\r",
        "Frames saved: 58 of 250"
       ]
      },
      {
       "output_type": "stream",
       "stream": "stdout",
       "text": [
        "\r",
        "Frames saved: 59 of 250"
       ]
      },
      {
       "output_type": "stream",
       "stream": "stdout",
       "text": [
        "\r",
        "Frames saved: 60 of 250"
       ]
      },
      {
       "output_type": "stream",
       "stream": "stdout",
       "text": [
        "\r",
        "Frames saved: 61 of 250"
       ]
      },
      {
       "output_type": "stream",
       "stream": "stdout",
       "text": [
        "\r",
        "Frames saved: 62 of 250"
       ]
      },
      {
       "output_type": "stream",
       "stream": "stdout",
       "text": [
        "\r",
        "Frames saved: 63 of 250"
       ]
      },
      {
       "output_type": "stream",
       "stream": "stdout",
       "text": [
        "\r",
        "Frames saved: 64 of 250"
       ]
      },
      {
       "output_type": "stream",
       "stream": "stdout",
       "text": [
        "\r",
        "Frames saved: 65 of 250"
       ]
      },
      {
       "output_type": "stream",
       "stream": "stdout",
       "text": [
        "\r",
        "Frames saved: 66 of 250"
       ]
      },
      {
       "output_type": "stream",
       "stream": "stdout",
       "text": [
        "\r",
        "Frames saved: 67 of 250"
       ]
      },
      {
       "output_type": "stream",
       "stream": "stdout",
       "text": [
        "\r",
        "Frames saved: 68 of 250"
       ]
      },
      {
       "output_type": "stream",
       "stream": "stdout",
       "text": [
        "\r",
        "Frames saved: 69 of 250"
       ]
      },
      {
       "output_type": "stream",
       "stream": "stdout",
       "text": [
        "\r",
        "Frames saved: 70 of 250"
       ]
      },
      {
       "output_type": "stream",
       "stream": "stdout",
       "text": [
        "\r",
        "Frames saved: 71 of 250"
       ]
      },
      {
       "output_type": "stream",
       "stream": "stdout",
       "text": [
        "\r",
        "Frames saved: 72 of 250"
       ]
      },
      {
       "output_type": "stream",
       "stream": "stdout",
       "text": [
        "\r",
        "Frames saved: 73 of 250"
       ]
      },
      {
       "output_type": "stream",
       "stream": "stdout",
       "text": [
        "\r",
        "Frames saved: 74 of 250"
       ]
      },
      {
       "output_type": "stream",
       "stream": "stdout",
       "text": [
        "\r",
        "Frames saved: 75 of 250"
       ]
      },
      {
       "output_type": "stream",
       "stream": "stdout",
       "text": [
        "\r",
        "Frames saved: 76 of 250"
       ]
      },
      {
       "output_type": "stream",
       "stream": "stdout",
       "text": [
        "\r",
        "Frames saved: 77 of 250"
       ]
      },
      {
       "output_type": "stream",
       "stream": "stdout",
       "text": [
        "\r",
        "Frames saved: 78 of 250"
       ]
      },
      {
       "output_type": "stream",
       "stream": "stdout",
       "text": [
        "\r",
        "Frames saved: 79 of 250"
       ]
      },
      {
       "output_type": "stream",
       "stream": "stdout",
       "text": [
        "\r",
        "Frames saved: 80 of 250"
       ]
      },
      {
       "output_type": "stream",
       "stream": "stdout",
       "text": [
        "\r",
        "Frames saved: 81 of 250"
       ]
      },
      {
       "output_type": "stream",
       "stream": "stdout",
       "text": [
        "\r",
        "Frames saved: 82 of 250"
       ]
      },
      {
       "output_type": "stream",
       "stream": "stdout",
       "text": [
        "\r",
        "Frames saved: 83 of 250"
       ]
      },
      {
       "output_type": "stream",
       "stream": "stdout",
       "text": [
        "\r",
        "Frames saved: 84 of 250"
       ]
      },
      {
       "output_type": "stream",
       "stream": "stdout",
       "text": [
        "\r",
        "Frames saved: 85 of 250"
       ]
      },
      {
       "output_type": "stream",
       "stream": "stdout",
       "text": [
        "\r",
        "Frames saved: 86 of 250"
       ]
      },
      {
       "output_type": "stream",
       "stream": "stdout",
       "text": [
        "\r",
        "Frames saved: 87 of 250"
       ]
      },
      {
       "output_type": "stream",
       "stream": "stdout",
       "text": [
        "\r",
        "Frames saved: 88 of 250"
       ]
      },
      {
       "output_type": "stream",
       "stream": "stdout",
       "text": [
        "\r",
        "Frames saved: 89 of 250"
       ]
      },
      {
       "output_type": "stream",
       "stream": "stdout",
       "text": [
        "\r",
        "Frames saved: 90 of 250"
       ]
      },
      {
       "output_type": "stream",
       "stream": "stdout",
       "text": [
        "\r",
        "Frames saved: 91 of 250"
       ]
      },
      {
       "output_type": "stream",
       "stream": "stdout",
       "text": [
        "\r",
        "Frames saved: 92 of 250"
       ]
      },
      {
       "output_type": "stream",
       "stream": "stdout",
       "text": [
        "\r",
        "Frames saved: 93 of 250"
       ]
      },
      {
       "output_type": "stream",
       "stream": "stdout",
       "text": [
        "\r",
        "Frames saved: 94 of 250"
       ]
      },
      {
       "output_type": "stream",
       "stream": "stdout",
       "text": [
        "\r",
        "Frames saved: 95 of 250"
       ]
      },
      {
       "output_type": "stream",
       "stream": "stdout",
       "text": [
        "\r",
        "Frames saved: 96 of 250"
       ]
      },
      {
       "output_type": "stream",
       "stream": "stdout",
       "text": [
        "\r",
        "Frames saved: 97 of 250"
       ]
      },
      {
       "output_type": "stream",
       "stream": "stdout",
       "text": [
        "\r",
        "Frames saved: 98 of 250"
       ]
      },
      {
       "output_type": "stream",
       "stream": "stdout",
       "text": [
        "\r",
        "Frames saved: 99 of 250"
       ]
      },
      {
       "output_type": "stream",
       "stream": "stdout",
       "text": [
        "\r",
        "Frames saved: 100 of 250"
       ]
      },
      {
       "output_type": "stream",
       "stream": "stdout",
       "text": [
        "\r",
        "Frames saved: 101 of 250"
       ]
      },
      {
       "output_type": "stream",
       "stream": "stdout",
       "text": [
        "\r",
        "Frames saved: 102 of 250"
       ]
      },
      {
       "output_type": "stream",
       "stream": "stdout",
       "text": [
        "\r",
        "Frames saved: 103 of 250"
       ]
      },
      {
       "output_type": "stream",
       "stream": "stdout",
       "text": [
        "\r",
        "Frames saved: 104 of 250"
       ]
      },
      {
       "output_type": "stream",
       "stream": "stdout",
       "text": [
        "\r",
        "Frames saved: 105 of 250"
       ]
      },
      {
       "output_type": "stream",
       "stream": "stdout",
       "text": [
        "\r",
        "Frames saved: 106 of 250"
       ]
      },
      {
       "output_type": "stream",
       "stream": "stdout",
       "text": [
        "\r",
        "Frames saved: 107 of 250"
       ]
      },
      {
       "output_type": "stream",
       "stream": "stdout",
       "text": [
        "\r",
        "Frames saved: 108 of 250"
       ]
      },
      {
       "output_type": "stream",
       "stream": "stdout",
       "text": [
        "\r",
        "Frames saved: 109 of 250"
       ]
      },
      {
       "output_type": "stream",
       "stream": "stdout",
       "text": [
        "\r",
        "Frames saved: 110 of 250"
       ]
      },
      {
       "output_type": "stream",
       "stream": "stdout",
       "text": [
        "\r",
        "Frames saved: 111 of 250"
       ]
      },
      {
       "output_type": "stream",
       "stream": "stdout",
       "text": [
        "\r",
        "Frames saved: 112 of 250"
       ]
      },
      {
       "output_type": "stream",
       "stream": "stdout",
       "text": [
        "\r",
        "Frames saved: 113 of 250"
       ]
      },
      {
       "output_type": "stream",
       "stream": "stdout",
       "text": [
        "\r",
        "Frames saved: 114 of 250"
       ]
      },
      {
       "output_type": "stream",
       "stream": "stdout",
       "text": [
        "\r",
        "Frames saved: 115 of 250"
       ]
      },
      {
       "output_type": "stream",
       "stream": "stdout",
       "text": [
        "\r",
        "Frames saved: 116 of 250"
       ]
      },
      {
       "output_type": "stream",
       "stream": "stdout",
       "text": [
        "\r",
        "Frames saved: 117 of 250"
       ]
      },
      {
       "output_type": "stream",
       "stream": "stdout",
       "text": [
        "\r",
        "Frames saved: 118 of 250"
       ]
      },
      {
       "output_type": "stream",
       "stream": "stdout",
       "text": [
        "\r",
        "Frames saved: 119 of 250"
       ]
      },
      {
       "output_type": "stream",
       "stream": "stdout",
       "text": [
        "\r",
        "Frames saved: 120 of 250"
       ]
      },
      {
       "output_type": "stream",
       "stream": "stdout",
       "text": [
        "\r",
        "Frames saved: 121 of 250"
       ]
      },
      {
       "output_type": "stream",
       "stream": "stdout",
       "text": [
        "\r",
        "Frames saved: 122 of 250"
       ]
      },
      {
       "output_type": "stream",
       "stream": "stdout",
       "text": [
        "\r",
        "Frames saved: 123 of 250"
       ]
      },
      {
       "output_type": "stream",
       "stream": "stdout",
       "text": [
        "\r",
        "Frames saved: 124 of 250"
       ]
      },
      {
       "output_type": "stream",
       "stream": "stdout",
       "text": [
        "\r",
        "Frames saved: 125 of 250"
       ]
      },
      {
       "output_type": "stream",
       "stream": "stdout",
       "text": [
        "\r",
        "Frames saved: 126 of 250"
       ]
      },
      {
       "output_type": "stream",
       "stream": "stdout",
       "text": [
        "\r",
        "Frames saved: 127 of 250"
       ]
      },
      {
       "output_type": "stream",
       "stream": "stdout",
       "text": [
        "\r",
        "Frames saved: 128 of 250"
       ]
      },
      {
       "output_type": "stream",
       "stream": "stdout",
       "text": [
        "\r",
        "Frames saved: 129 of 250"
       ]
      },
      {
       "output_type": "stream",
       "stream": "stdout",
       "text": [
        "\r",
        "Frames saved: 130 of 250"
       ]
      },
      {
       "output_type": "stream",
       "stream": "stdout",
       "text": [
        "\r",
        "Frames saved: 131 of 250"
       ]
      },
      {
       "output_type": "stream",
       "stream": "stdout",
       "text": [
        "\r",
        "Frames saved: 132 of 250"
       ]
      },
      {
       "output_type": "stream",
       "stream": "stdout",
       "text": [
        "\r",
        "Frames saved: 133 of 250"
       ]
      },
      {
       "output_type": "stream",
       "stream": "stdout",
       "text": [
        "\r",
        "Frames saved: 134 of 250"
       ]
      },
      {
       "output_type": "stream",
       "stream": "stdout",
       "text": [
        "\r",
        "Frames saved: 135 of 250"
       ]
      },
      {
       "output_type": "stream",
       "stream": "stdout",
       "text": [
        "\r",
        "Frames saved: 136 of 250"
       ]
      },
      {
       "output_type": "stream",
       "stream": "stdout",
       "text": [
        "\r",
        "Frames saved: 137 of 250"
       ]
      },
      {
       "output_type": "stream",
       "stream": "stdout",
       "text": [
        "\r",
        "Frames saved: 138 of 250"
       ]
      },
      {
       "output_type": "stream",
       "stream": "stdout",
       "text": [
        "\r",
        "Frames saved: 139 of 250"
       ]
      },
      {
       "output_type": "stream",
       "stream": "stdout",
       "text": [
        "\r",
        "Frames saved: 140 of 250"
       ]
      },
      {
       "output_type": "stream",
       "stream": "stdout",
       "text": [
        "\r",
        "Frames saved: 141 of 250"
       ]
      },
      {
       "output_type": "stream",
       "stream": "stdout",
       "text": [
        "\r",
        "Frames saved: 142 of 250"
       ]
      },
      {
       "output_type": "stream",
       "stream": "stdout",
       "text": [
        "\r",
        "Frames saved: 143 of 250"
       ]
      },
      {
       "output_type": "stream",
       "stream": "stdout",
       "text": [
        "\r",
        "Frames saved: 144 of 250"
       ]
      },
      {
       "output_type": "stream",
       "stream": "stdout",
       "text": [
        "\r",
        "Frames saved: 145 of 250"
       ]
      },
      {
       "output_type": "stream",
       "stream": "stdout",
       "text": [
        "\r",
        "Frames saved: 146 of 250"
       ]
      },
      {
       "output_type": "stream",
       "stream": "stdout",
       "text": [
        "\r",
        "Frames saved: 147 of 250"
       ]
      },
      {
       "output_type": "stream",
       "stream": "stdout",
       "text": [
        "\r",
        "Frames saved: 148 of 250"
       ]
      },
      {
       "output_type": "stream",
       "stream": "stdout",
       "text": [
        "\r",
        "Frames saved: 149 of 250"
       ]
      },
      {
       "output_type": "stream",
       "stream": "stdout",
       "text": [
        "\r",
        "Frames saved: 150 of 250"
       ]
      },
      {
       "output_type": "stream",
       "stream": "stdout",
       "text": [
        "\r",
        "Frames saved: 151 of 250"
       ]
      },
      {
       "output_type": "stream",
       "stream": "stdout",
       "text": [
        "\r",
        "Frames saved: 152 of 250"
       ]
      },
      {
       "output_type": "stream",
       "stream": "stdout",
       "text": [
        "\r",
        "Frames saved: 153 of 250"
       ]
      },
      {
       "output_type": "stream",
       "stream": "stdout",
       "text": [
        "\r",
        "Frames saved: 154 of 250"
       ]
      },
      {
       "output_type": "stream",
       "stream": "stdout",
       "text": [
        "\r",
        "Frames saved: 155 of 250"
       ]
      },
      {
       "output_type": "stream",
       "stream": "stdout",
       "text": [
        "\r",
        "Frames saved: 156 of 250"
       ]
      },
      {
       "output_type": "stream",
       "stream": "stdout",
       "text": [
        "\r",
        "Frames saved: 157 of 250"
       ]
      },
      {
       "output_type": "stream",
       "stream": "stdout",
       "text": [
        "\r",
        "Frames saved: 158 of 250"
       ]
      },
      {
       "output_type": "stream",
       "stream": "stdout",
       "text": [
        "\r",
        "Frames saved: 159 of 250"
       ]
      },
      {
       "output_type": "stream",
       "stream": "stdout",
       "text": [
        "\r",
        "Frames saved: 160 of 250"
       ]
      },
      {
       "output_type": "stream",
       "stream": "stdout",
       "text": [
        "\r",
        "Frames saved: 161 of 250"
       ]
      },
      {
       "output_type": "stream",
       "stream": "stdout",
       "text": [
        "\r",
        "Frames saved: 162 of 250"
       ]
      },
      {
       "output_type": "stream",
       "stream": "stdout",
       "text": [
        "\r",
        "Frames saved: 163 of 250"
       ]
      },
      {
       "output_type": "stream",
       "stream": "stdout",
       "text": [
        "\r",
        "Frames saved: 164 of 250"
       ]
      },
      {
       "output_type": "stream",
       "stream": "stdout",
       "text": [
        "\r",
        "Frames saved: 165 of 250"
       ]
      },
      {
       "output_type": "stream",
       "stream": "stdout",
       "text": [
        "\r",
        "Frames saved: 166 of 250"
       ]
      },
      {
       "output_type": "stream",
       "stream": "stdout",
       "text": [
        "\r",
        "Frames saved: 167 of 250"
       ]
      },
      {
       "output_type": "stream",
       "stream": "stdout",
       "text": [
        "\r",
        "Frames saved: 168 of 250"
       ]
      },
      {
       "output_type": "stream",
       "stream": "stdout",
       "text": [
        "\r",
        "Frames saved: 169 of 250"
       ]
      },
      {
       "output_type": "stream",
       "stream": "stdout",
       "text": [
        "\r",
        "Frames saved: 170 of 250"
       ]
      },
      {
       "output_type": "stream",
       "stream": "stdout",
       "text": [
        "\r",
        "Frames saved: 171 of 250"
       ]
      },
      {
       "output_type": "stream",
       "stream": "stdout",
       "text": [
        "\r",
        "Frames saved: 172 of 250"
       ]
      },
      {
       "output_type": "stream",
       "stream": "stdout",
       "text": [
        "\r",
        "Frames saved: 173 of 250"
       ]
      },
      {
       "output_type": "stream",
       "stream": "stdout",
       "text": [
        "\r",
        "Frames saved: 174 of 250"
       ]
      },
      {
       "output_type": "stream",
       "stream": "stdout",
       "text": [
        "\r",
        "Frames saved: 175 of 250"
       ]
      },
      {
       "output_type": "stream",
       "stream": "stdout",
       "text": [
        "\r",
        "Frames saved: 176 of 250"
       ]
      },
      {
       "output_type": "stream",
       "stream": "stdout",
       "text": [
        "\r",
        "Frames saved: 177 of 250"
       ]
      },
      {
       "output_type": "stream",
       "stream": "stdout",
       "text": [
        "\r",
        "Frames saved: 178 of 250"
       ]
      },
      {
       "output_type": "stream",
       "stream": "stdout",
       "text": [
        "\r",
        "Frames saved: 179 of 250"
       ]
      },
      {
       "output_type": "stream",
       "stream": "stdout",
       "text": [
        "\r",
        "Frames saved: 180 of 250"
       ]
      },
      {
       "output_type": "stream",
       "stream": "stdout",
       "text": [
        "\r",
        "Frames saved: 181 of 250"
       ]
      },
      {
       "output_type": "stream",
       "stream": "stdout",
       "text": [
        "\r",
        "Frames saved: 182 of 250"
       ]
      },
      {
       "output_type": "stream",
       "stream": "stdout",
       "text": [
        "\r",
        "Frames saved: 183 of 250"
       ]
      },
      {
       "output_type": "stream",
       "stream": "stdout",
       "text": [
        "\r",
        "Frames saved: 184 of 250"
       ]
      },
      {
       "output_type": "stream",
       "stream": "stdout",
       "text": [
        "\r",
        "Frames saved: 185 of 250"
       ]
      },
      {
       "output_type": "stream",
       "stream": "stdout",
       "text": [
        "\r",
        "Frames saved: 186 of 250"
       ]
      },
      {
       "output_type": "stream",
       "stream": "stdout",
       "text": [
        "\r",
        "Frames saved: 187 of 250"
       ]
      },
      {
       "output_type": "stream",
       "stream": "stdout",
       "text": [
        "\r",
        "Frames saved: 188 of 250"
       ]
      },
      {
       "output_type": "stream",
       "stream": "stdout",
       "text": [
        "\r",
        "Frames saved: 189 of 250"
       ]
      },
      {
       "output_type": "stream",
       "stream": "stdout",
       "text": [
        "\r",
        "Frames saved: 190 of 250"
       ]
      },
      {
       "output_type": "stream",
       "stream": "stdout",
       "text": [
        "\r",
        "Frames saved: 191 of 250"
       ]
      },
      {
       "output_type": "stream",
       "stream": "stdout",
       "text": [
        "\r",
        "Frames saved: 192 of 250"
       ]
      },
      {
       "output_type": "stream",
       "stream": "stdout",
       "text": [
        "\r",
        "Frames saved: 193 of 250"
       ]
      },
      {
       "output_type": "stream",
       "stream": "stdout",
       "text": [
        "\r",
        "Frames saved: 194 of 250"
       ]
      },
      {
       "output_type": "stream",
       "stream": "stdout",
       "text": [
        "\r",
        "Frames saved: 195 of 250"
       ]
      },
      {
       "output_type": "stream",
       "stream": "stdout",
       "text": [
        "\r",
        "Frames saved: 196 of 250"
       ]
      },
      {
       "output_type": "stream",
       "stream": "stdout",
       "text": [
        "\r",
        "Frames saved: 197 of 250"
       ]
      },
      {
       "output_type": "stream",
       "stream": "stdout",
       "text": [
        "\r",
        "Frames saved: 198 of 250"
       ]
      },
      {
       "output_type": "stream",
       "stream": "stdout",
       "text": [
        "\r",
        "Frames saved: 199 of 250"
       ]
      },
      {
       "output_type": "stream",
       "stream": "stdout",
       "text": [
        "\r",
        "Frames saved: 200 of 250"
       ]
      },
      {
       "output_type": "stream",
       "stream": "stdout",
       "text": [
        "\r",
        "Frames saved: 201 of 250"
       ]
      },
      {
       "output_type": "stream",
       "stream": "stdout",
       "text": [
        "\r",
        "Frames saved: 202 of 250"
       ]
      },
      {
       "output_type": "stream",
       "stream": "stdout",
       "text": [
        "\r",
        "Frames saved: 203 of 250"
       ]
      },
      {
       "output_type": "stream",
       "stream": "stdout",
       "text": [
        "\r",
        "Frames saved: 204 of 250"
       ]
      },
      {
       "output_type": "stream",
       "stream": "stdout",
       "text": [
        "\r",
        "Frames saved: 205 of 250"
       ]
      },
      {
       "output_type": "stream",
       "stream": "stdout",
       "text": [
        "\r",
        "Frames saved: 206 of 250"
       ]
      },
      {
       "output_type": "stream",
       "stream": "stdout",
       "text": [
        "\r",
        "Frames saved: 207 of 250"
       ]
      },
      {
       "output_type": "stream",
       "stream": "stdout",
       "text": [
        "\r",
        "Frames saved: 208 of 250"
       ]
      },
      {
       "output_type": "stream",
       "stream": "stdout",
       "text": [
        "\r",
        "Frames saved: 209 of 250"
       ]
      },
      {
       "output_type": "stream",
       "stream": "stdout",
       "text": [
        "\r",
        "Frames saved: 210 of 250"
       ]
      },
      {
       "output_type": "stream",
       "stream": "stdout",
       "text": [
        "\r",
        "Frames saved: 211 of 250"
       ]
      },
      {
       "output_type": "stream",
       "stream": "stdout",
       "text": [
        "\r",
        "Frames saved: 212 of 250"
       ]
      },
      {
       "output_type": "stream",
       "stream": "stdout",
       "text": [
        "\r",
        "Frames saved: 213 of 250"
       ]
      },
      {
       "output_type": "stream",
       "stream": "stdout",
       "text": [
        "\r",
        "Frames saved: 214 of 250"
       ]
      },
      {
       "output_type": "stream",
       "stream": "stdout",
       "text": [
        "\r",
        "Frames saved: 215 of 250"
       ]
      },
      {
       "output_type": "stream",
       "stream": "stdout",
       "text": [
        "\r",
        "Frames saved: 216 of 250"
       ]
      },
      {
       "output_type": "stream",
       "stream": "stdout",
       "text": [
        "\r",
        "Frames saved: 217 of 250"
       ]
      },
      {
       "output_type": "stream",
       "stream": "stdout",
       "text": [
        "\r",
        "Frames saved: 218 of 250"
       ]
      },
      {
       "output_type": "stream",
       "stream": "stdout",
       "text": [
        "\r",
        "Frames saved: 219 of 250"
       ]
      },
      {
       "output_type": "stream",
       "stream": "stdout",
       "text": [
        "\r",
        "Frames saved: 220 of 250"
       ]
      },
      {
       "output_type": "stream",
       "stream": "stdout",
       "text": [
        "\r",
        "Frames saved: 221 of 250"
       ]
      },
      {
       "output_type": "stream",
       "stream": "stdout",
       "text": [
        "\r",
        "Frames saved: 222 of 250"
       ]
      },
      {
       "output_type": "stream",
       "stream": "stdout",
       "text": [
        "\r",
        "Frames saved: 223 of 250"
       ]
      },
      {
       "output_type": "stream",
       "stream": "stdout",
       "text": [
        "\r",
        "Frames saved: 224 of 250"
       ]
      },
      {
       "output_type": "stream",
       "stream": "stdout",
       "text": [
        "\r",
        "Frames saved: 225 of 250"
       ]
      },
      {
       "output_type": "stream",
       "stream": "stdout",
       "text": [
        "\r",
        "Frames saved: 226 of 250"
       ]
      },
      {
       "output_type": "stream",
       "stream": "stdout",
       "text": [
        "\r",
        "Frames saved: 227 of 250"
       ]
      },
      {
       "output_type": "stream",
       "stream": "stdout",
       "text": [
        "\r",
        "Frames saved: 228 of 250"
       ]
      },
      {
       "output_type": "stream",
       "stream": "stdout",
       "text": [
        "\r",
        "Frames saved: 229 of 250"
       ]
      },
      {
       "output_type": "stream",
       "stream": "stdout",
       "text": [
        "\r",
        "Frames saved: 230 of 250"
       ]
      },
      {
       "output_type": "stream",
       "stream": "stdout",
       "text": [
        "\r",
        "Frames saved: 231 of 250"
       ]
      },
      {
       "output_type": "stream",
       "stream": "stdout",
       "text": [
        "\r",
        "Frames saved: 232 of 250"
       ]
      },
      {
       "output_type": "stream",
       "stream": "stdout",
       "text": [
        "\r",
        "Frames saved: 233 of 250"
       ]
      },
      {
       "output_type": "stream",
       "stream": "stdout",
       "text": [
        "\r",
        "Frames saved: 234 of 250"
       ]
      },
      {
       "output_type": "stream",
       "stream": "stdout",
       "text": [
        "\r",
        "Frames saved: 235 of 250"
       ]
      },
      {
       "output_type": "stream",
       "stream": "stdout",
       "text": [
        "\r",
        "Frames saved: 236 of 250"
       ]
      },
      {
       "output_type": "stream",
       "stream": "stdout",
       "text": [
        "\r",
        "Frames saved: 237 of 250"
       ]
      },
      {
       "output_type": "stream",
       "stream": "stdout",
       "text": [
        "\r",
        "Frames saved: 238 of 250"
       ]
      },
      {
       "output_type": "stream",
       "stream": "stdout",
       "text": [
        "\r",
        "Frames saved: 239 of 250"
       ]
      },
      {
       "output_type": "stream",
       "stream": "stdout",
       "text": [
        "\r",
        "Frames saved: 240 of 250"
       ]
      },
      {
       "output_type": "stream",
       "stream": "stdout",
       "text": [
        "\r",
        "Frames saved: 241 of 250"
       ]
      },
      {
       "output_type": "stream",
       "stream": "stdout",
       "text": [
        "\r",
        "Frames saved: 242 of 250"
       ]
      },
      {
       "output_type": "stream",
       "stream": "stdout",
       "text": [
        "\r",
        "Frames saved: 243 of 250"
       ]
      },
      {
       "output_type": "stream",
       "stream": "stdout",
       "text": [
        "\r",
        "Frames saved: 244 of 250"
       ]
      },
      {
       "output_type": "stream",
       "stream": "stdout",
       "text": [
        "\r",
        "Frames saved: 245 of 250"
       ]
      },
      {
       "output_type": "stream",
       "stream": "stdout",
       "text": [
        "\r",
        "Frames saved: 246 of 250"
       ]
      },
      {
       "output_type": "stream",
       "stream": "stdout",
       "text": [
        "\r",
        "Frames saved: 247 of 250"
       ]
      },
      {
       "output_type": "stream",
       "stream": "stdout",
       "text": [
        "\r",
        "Frames saved: 248 of 250"
       ]
      },
      {
       "output_type": "stream",
       "stream": "stdout",
       "text": [
        "\r",
        "Frames saved: 249 of 250"
       ]
      },
      {
       "output_type": "stream",
       "stream": "stdout",
       "text": [
        "loaded distance matrix from  /home/ilisescu/PhD/iPy/data/Videos/649f810.avi _distanceMatrix.npy\n",
        "[  1.   8.  28.  56.  70.  56.  28.   8.   1.]\n",
        "\r",
        "Iteration 0; distance 6234289.83599"
       ]
      },
      {
       "output_type": "stream",
       "stream": "stdout",
       "text": [
        "\r",
        "Iteration 1; distance 1903180.32245"
       ]
      },
      {
       "output_type": "stream",
       "stream": "stdout",
       "text": [
        "\r",
        "Iteration 2; distance 950831.580297"
       ]
      },
      {
       "output_type": "stream",
       "stream": "stdout",
       "text": [
        "\r",
        "Iteration 3; distance 733705.796153"
       ]
      },
      {
       "output_type": "stream",
       "stream": "stdout",
       "text": [
        "\r",
        "Iteration 4; distance 729031.836376"
       ]
      },
      {
       "output_type": "stream",
       "stream": "stdout",
       "text": [
        "\r",
        "Iteration 5; distance 725373.715581"
       ]
      },
      {
       "output_type": "stream",
       "stream": "stdout",
       "text": [
        "\r",
        "Iteration 6; distance 721949.287924"
       ]
      },
      {
       "output_type": "stream",
       "stream": "stdout",
       "text": [
        "\r",
        "Iteration 7; distance 719186.938261"
       ]
      },
      {
       "output_type": "stream",
       "stream": "stdout",
       "text": [
        "\r",
        "Iteration 8; distance 717466.971992"
       ]
      },
      {
       "output_type": "stream",
       "stream": "stdout",
       "text": [
        "\r",
        "Iteration 9; distance 716040.944837"
       ]
      },
      {
       "output_type": "stream",
       "stream": "stdout",
       "text": [
        "\r",
        "Iteration 10; distance 714756.350427"
       ]
      },
      {
       "output_type": "stream",
       "stream": "stdout",
       "text": [
        "\r",
        "Iteration 11; distance 713592.729641"
       ]
      },
      {
       "output_type": "stream",
       "stream": "stdout",
       "text": [
        "\r",
        "Iteration 12; distance 712474.174233"
       ]
      },
      {
       "output_type": "stream",
       "stream": "stdout",
       "text": [
        "\r",
        "Iteration 13; distance 711600.497626"
       ]
      },
      {
       "output_type": "stream",
       "stream": "stdout",
       "text": [
        "\r",
        "Iteration 14; distance 710793.425002"
       ]
      },
      {
       "output_type": "stream",
       "stream": "stdout",
       "text": [
        "\r",
        "Iteration 15; distance 710002.882222"
       ]
      },
      {
       "output_type": "stream",
       "stream": "stdout",
       "text": [
        "\r",
        "Iteration 16; distance 709228.675752"
       ]
      },
      {
       "output_type": "stream",
       "stream": "stdout",
       "text": [
        "\r",
        "Iteration 17; distance 708409.936881"
       ]
      },
      {
       "output_type": "stream",
       "stream": "stdout",
       "text": [
        "\r",
        "Iteration 18; distance 707601.198677"
       ]
      },
      {
       "output_type": "stream",
       "stream": "stdout",
       "text": [
        "\r",
        "Iteration 19; distance 706857.069127"
       ]
      },
      {
       "output_type": "stream",
       "stream": "stdout",
       "text": [
        "\r",
        "Iteration 20; distance 706089.225193"
       ]
      },
      {
       "output_type": "stream",
       "stream": "stdout",
       "text": [
        "\r",
        "Iteration 21; distance 705312.759415"
       ]
      },
      {
       "output_type": "stream",
       "stream": "stdout",
       "text": [
        "\r",
        "Iteration 22; distance 704538.116493"
       ]
      },
      {
       "output_type": "stream",
       "stream": "stdout",
       "text": [
        "\r",
        "Iteration 23; distance 703785.735675"
       ]
      },
      {
       "output_type": "stream",
       "stream": "stdout",
       "text": [
        "\r",
        "Iteration 24; distance 703021.882386"
       ]
      },
      {
       "output_type": "stream",
       "stream": "stdout",
       "text": [
        "\r",
        "Iteration 25; distance 702289.180025"
       ]
      },
      {
       "output_type": "stream",
       "stream": "stdout",
       "text": [
        "\r",
        "Iteration 26; distance 701534.918185"
       ]
      },
      {
       "output_type": "stream",
       "stream": "stdout",
       "text": [
        "\r",
        "Iteration 27; distance 700743.933381"
       ]
      },
      {
       "output_type": "stream",
       "stream": "stdout",
       "text": [
        "\r",
        "Iteration 28; distance 699966.267865"
       ]
      },
      {
       "output_type": "stream",
       "stream": "stdout",
       "text": [
        "\r",
        "Iteration 29; distance 699172.877986"
       ]
      },
      {
       "output_type": "stream",
       "stream": "stdout",
       "text": [
        "\r",
        "Iteration 30; distance 698443.338007"
       ]
      },
      {
       "output_type": "stream",
       "stream": "stdout",
       "text": [
        "\r",
        "Iteration 31; distance 697683.898073"
       ]
      },
      {
       "output_type": "stream",
       "stream": "stdout",
       "text": [
        "\r",
        "Iteration 32; distance 696881.982513"
       ]
      },
      {
       "output_type": "stream",
       "stream": "stdout",
       "text": [
        "\r",
        "Iteration 33; distance 696131.595201"
       ]
      },
      {
       "output_type": "stream",
       "stream": "stdout",
       "text": [
        "\r",
        "Iteration 34; distance 695359.120557"
       ]
      },
      {
       "output_type": "stream",
       "stream": "stdout",
       "text": [
        "\r",
        "Iteration 35; distance 694572.321639"
       ]
      },
      {
       "output_type": "stream",
       "stream": "stdout",
       "text": [
        "\r",
        "Iteration 36; distance 693801.560279"
       ]
      },
      {
       "output_type": "stream",
       "stream": "stdout",
       "text": [
        "\r",
        "Iteration 37; distance 693065.078375"
       ]
      },
      {
       "output_type": "stream",
       "stream": "stdout",
       "text": [
        "\r",
        "Iteration 38; distance 692337.322605"
       ]
      },
      {
       "output_type": "stream",
       "stream": "stdout",
       "text": [
        "\r",
        "Iteration 39; distance 691636.510089"
       ]
      },
      {
       "output_type": "stream",
       "stream": "stdout",
       "text": [
        "\r",
        "Iteration 40; distance 690923.568864"
       ]
      },
      {
       "output_type": "stream",
       "stream": "stdout",
       "text": [
        "\r",
        "Iteration 41; distance 690208.715853"
       ]
      },
      {
       "output_type": "stream",
       "stream": "stdout",
       "text": [
        "\r",
        "Iteration 42; distance 689479.268056"
       ]
      },
      {
       "output_type": "stream",
       "stream": "stdout",
       "text": [
        "\r",
        "Iteration 43; distance 688745.723145"
       ]
      },
      {
       "output_type": "stream",
       "stream": "stdout",
       "text": [
        "\r",
        "Iteration 44; distance 688014.428594"
       ]
      },
      {
       "output_type": "stream",
       "stream": "stdout",
       "text": [
        "\r",
        "Iteration 45; distance 687289.76675"
       ]
      },
      {
       "output_type": "stream",
       "stream": "stdout",
       "text": [
        "\r",
        "Iteration 46; distance 686576.569938"
       ]
      },
      {
       "output_type": "stream",
       "stream": "stdout",
       "text": [
        "\r",
        "Iteration 47; distance 685868.552211"
       ]
      },
      {
       "output_type": "stream",
       "stream": "stdout",
       "text": [
        "\r",
        "Iteration 48; distance 685163.858518"
       ]
      },
      {
       "output_type": "stream",
       "stream": "stdout",
       "text": [
        "\r",
        "Iteration 49; distance 684444.586381"
       ]
      },
      {
       "output_type": "stream",
       "stream": "stdout",
       "text": [
        "\r",
        "Iteration 50; distance 683670.551642"
       ]
      },
      {
       "output_type": "stream",
       "stream": "stdout",
       "text": [
        "\r",
        "Iteration 51; distance 682862.178645"
       ]
      },
      {
       "output_type": "stream",
       "stream": "stdout",
       "text": [
        "\r",
        "Iteration 52; distance 682133.575755"
       ]
      },
      {
       "output_type": "stream",
       "stream": "stdout",
       "text": [
        "\r",
        "Iteration 53; distance 681421.541254"
       ]
      },
      {
       "output_type": "stream",
       "stream": "stdout",
       "text": [
        "\r",
        "Iteration 54; distance 680627.862456"
       ]
      },
      {
       "output_type": "stream",
       "stream": "stdout",
       "text": [
        "\r",
        "Iteration 55; distance 679866.433853"
       ]
      },
      {
       "output_type": "stream",
       "stream": "stdout",
       "text": [
        "\r",
        "Iteration 56; distance 679154.236568"
       ]
      },
      {
       "output_type": "stream",
       "stream": "stdout",
       "text": [
        "\r",
        "Iteration 57; distance 678420.774872"
       ]
      },
      {
       "output_type": "stream",
       "stream": "stdout",
       "text": [
        "\r",
        "Iteration 58; distance 677706.336339"
       ]
      },
      {
       "output_type": "stream",
       "stream": "stdout",
       "text": [
        "\r",
        "Iteration 59; distance 676926.256202"
       ]
      },
      {
       "output_type": "stream",
       "stream": "stdout",
       "text": [
        "\r",
        "Iteration 60; distance 676156.576922"
       ]
      },
      {
       "output_type": "stream",
       "stream": "stdout",
       "text": [
        "\r",
        "Iteration 61; distance 675382.696178"
       ]
      },
      {
       "output_type": "stream",
       "stream": "stdout",
       "text": [
        "\r",
        "Iteration 62; distance 674620.840595"
       ]
      },
      {
       "output_type": "stream",
       "stream": "stdout",
       "text": [
        "\r",
        "Iteration 63; distance 673898.682395"
       ]
      },
      {
       "output_type": "stream",
       "stream": "stdout",
       "text": [
        "\r",
        "Iteration 64; distance 673181.570261"
       ]
      },
      {
       "output_type": "stream",
       "stream": "stdout",
       "text": [
        "\r",
        "Iteration 65; distance 672398.788899"
       ]
      },
      {
       "output_type": "stream",
       "stream": "stdout",
       "text": [
        "\r",
        "Iteration 66; distance 671630.015172"
       ]
      },
      {
       "output_type": "stream",
       "stream": "stdout",
       "text": [
        "\r",
        "Iteration 67; distance 670867.090064"
       ]
      },
      {
       "output_type": "stream",
       "stream": "stdout",
       "text": [
        "\r",
        "Iteration 68; distance 670131.629746"
       ]
      },
      {
       "output_type": "stream",
       "stream": "stdout",
       "text": [
        "\r",
        "Iteration 69; distance 669358.190578"
       ]
      },
      {
       "output_type": "stream",
       "stream": "stdout",
       "text": [
        "\r",
        "Iteration 70; distance 667900.379706"
       ]
      },
      {
       "output_type": "stream",
       "stream": "stdout",
       "text": [
        "\r",
        "Iteration 71; distance 662480.479955"
       ]
      },
      {
       "output_type": "stream",
       "stream": "stdout",
       "text": [
        "\r",
        "Iteration 72; distance 654471.653937"
       ]
      },
      {
       "output_type": "stream",
       "stream": "stdout",
       "text": [
        "\r",
        "Iteration 73; distance 645992.447369"
       ]
      },
      {
       "output_type": "stream",
       "stream": "stdout",
       "text": [
        "\r",
        "Iteration 74; distance 637603.075438"
       ]
      },
      {
       "output_type": "stream",
       "stream": "stdout",
       "text": [
        "\r",
        "Iteration 75; distance 629360.592543"
       ]
      },
      {
       "output_type": "stream",
       "stream": "stdout",
       "text": [
        "\r",
        "Iteration 76; distance 621219.25433"
       ]
      },
      {
       "output_type": "stream",
       "stream": "stdout",
       "text": [
        "\r",
        "Iteration 77; distance 613165.233039"
       ]
      },
      {
       "output_type": "stream",
       "stream": "stdout",
       "text": [
        "\r",
        "Iteration 78; distance 605206.31952"
       ]
      },
      {
       "output_type": "stream",
       "stream": "stdout",
       "text": [
        "\r",
        "Iteration 79; distance 597370.671732"
       ]
      },
      {
       "output_type": "stream",
       "stream": "stdout",
       "text": [
        "\r",
        "Iteration 80; distance 589646.711108"
       ]
      },
      {
       "output_type": "stream",
       "stream": "stdout",
       "text": [
        "\r",
        "Iteration 81; distance 582025.984702"
       ]
      },
      {
       "output_type": "stream",
       "stream": "stdout",
       "text": [
        "\r",
        "Iteration 82; distance 574498.478229"
       ]
      },
      {
       "output_type": "stream",
       "stream": "stdout",
       "text": [
        "\r",
        "Iteration 83; distance 567067.872256"
       ]
      },
      {
       "output_type": "stream",
       "stream": "stdout",
       "text": [
        "\r",
        "Iteration 84; distance 559705.323967"
       ]
      },
      {
       "output_type": "stream",
       "stream": "stdout",
       "text": [
        "\r",
        "Iteration 85; distance 552441.526298"
       ]
      },
      {
       "output_type": "stream",
       "stream": "stdout",
       "text": [
        "\r",
        "Iteration 86; distance 545295.554008"
       ]
      },
      {
       "output_type": "stream",
       "stream": "stdout",
       "text": [
        "\r",
        "Iteration 87; distance 538247.076189"
       ]
      },
      {
       "output_type": "stream",
       "stream": "stdout",
       "text": [
        "\r",
        "Iteration 88; distance 531289.771238"
       ]
      },
      {
       "output_type": "stream",
       "stream": "stdout",
       "text": [
        "\r",
        "Iteration 89; distance 524423.349249"
       ]
      },
      {
       "output_type": "stream",
       "stream": "stdout",
       "text": [
        "\r",
        "Iteration 90; distance 517642.630617"
       ]
      },
      {
       "output_type": "stream",
       "stream": "stdout",
       "text": [
        "\r",
        "Iteration 91; distance 510948.74143"
       ]
      },
      {
       "output_type": "stream",
       "stream": "stdout",
       "text": [
        "\r",
        "Iteration 92; distance 504334.340288"
       ]
      },
      {
       "output_type": "stream",
       "stream": "stdout",
       "text": [
        "\r",
        "Iteration 93; distance 497804.553775"
       ]
      },
      {
       "output_type": "stream",
       "stream": "stdout",
       "text": [
        "\r",
        "Iteration 94; distance 491360.793296"
       ]
      },
      {
       "output_type": "stream",
       "stream": "stdout",
       "text": [
        "\r",
        "Iteration 95; distance 484998.866103"
       ]
      },
      {
       "output_type": "stream",
       "stream": "stdout",
       "text": [
        "\r",
        "Iteration 96; distance 478719.900153"
       ]
      },
      {
       "output_type": "stream",
       "stream": "stdout",
       "text": [
        "\r",
        "Iteration 97; distance 472516.230086"
       ]
      },
      {
       "output_type": "stream",
       "stream": "stdout",
       "text": [
        "\r",
        "Iteration 98; distance 466375.219556"
       ]
      },
      {
       "output_type": "stream",
       "stream": "stdout",
       "text": [
        "\r",
        "Iteration 99; distance 460324.487669"
       ]
      },
      {
       "output_type": "stream",
       "stream": "stdout",
       "text": [
        "\r",
        "Iteration 100; distance 454366.627594"
       ]
      },
      {
       "output_type": "stream",
       "stream": "stdout",
       "text": [
        "\r",
        "Iteration 101; distance 448494.903635"
       ]
      },
      {
       "output_type": "stream",
       "stream": "stdout",
       "text": [
        "\r",
        "Iteration 102; distance 442697.36772"
       ]
      },
      {
       "output_type": "stream",
       "stream": "stdout",
       "text": [
        "\r",
        "Iteration 103; distance 436969.241221"
       ]
      },
      {
       "output_type": "stream",
       "stream": "stdout",
       "text": [
        "\r",
        "Iteration 104; distance 431314.890179"
       ]
      },
      {
       "output_type": "stream",
       "stream": "stdout",
       "text": [
        "\r",
        "Iteration 105; distance 425732.272189"
       ]
      },
      {
       "output_type": "stream",
       "stream": "stdout",
       "text": [
        "\r",
        "Iteration 106; distance 420222.822138"
       ]
      },
      {
       "output_type": "stream",
       "stream": "stdout",
       "text": [
        "\r",
        "Iteration 107; distance 414790.38436"
       ]
      },
      {
       "output_type": "stream",
       "stream": "stdout",
       "text": [
        "\r",
        "Iteration 108; distance 409427.515351"
       ]
      },
      {
       "output_type": "stream",
       "stream": "stdout",
       "text": [
        "\r",
        "Iteration 109; distance 404109.514097"
       ]
      },
      {
       "output_type": "stream",
       "stream": "stdout",
       "text": [
        "\r",
        "Iteration 110; distance 397421.190633"
       ]
      },
      {
       "output_type": "stream",
       "stream": "stdout",
       "text": [
        "\r",
        "Iteration 111; distance 388992.585546"
       ]
      },
      {
       "output_type": "stream",
       "stream": "stdout",
       "text": [
        "\r",
        "Iteration 112; distance 380140.94221"
       ]
      },
      {
       "output_type": "stream",
       "stream": "stdout",
       "text": [
        "\r",
        "Iteration 113; distance 371492.177497"
       ]
      },
      {
       "output_type": "stream",
       "stream": "stdout",
       "text": [
        "\r",
        "Iteration 114; distance 363023.593181"
       ]
      },
      {
       "output_type": "stream",
       "stream": "stdout",
       "text": [
        "\r",
        "Iteration 115; distance 354762.845668"
       ]
      },
      {
       "output_type": "stream",
       "stream": "stdout",
       "text": [
        "\r",
        "Iteration 116; distance 346691.885944"
       ]
      },
      {
       "output_type": "stream",
       "stream": "stdout",
       "text": [
        "\r",
        "Iteration 117; distance 338799.40928"
       ]
      },
      {
       "output_type": "stream",
       "stream": "stdout",
       "text": [
        "\r",
        "Iteration 118; distance 331078.746366"
       ]
      },
      {
       "output_type": "stream",
       "stream": "stdout",
       "text": [
        "\r",
        "Iteration 119; distance 323532.833387"
       ]
      },
      {
       "output_type": "stream",
       "stream": "stdout",
       "text": [
        "\r",
        "Iteration 120; distance 316163.663426"
       ]
      },
      {
       "output_type": "stream",
       "stream": "stdout",
       "text": [
        "\r",
        "Iteration 121; distance 308965.719616"
       ]
      },
      {
       "output_type": "stream",
       "stream": "stdout",
       "text": [
        "\r",
        "Iteration 122; distance 301936.592793"
       ]
      },
      {
       "output_type": "stream",
       "stream": "stdout",
       "text": [
        "\r",
        "Iteration 123; distance 295064.519162"
       ]
      },
      {
       "output_type": "stream",
       "stream": "stdout",
       "text": [
        "\r",
        "Iteration 124; distance 288347.862044"
       ]
      },
      {
       "output_type": "stream",
       "stream": "stdout",
       "text": [
        "\r",
        "Iteration 125; distance 281783.245532"
       ]
      },
      {
       "output_type": "stream",
       "stream": "stdout",
       "text": [
        "\r",
        "Iteration 126; distance 275370.846574"
       ]
      },
      {
       "output_type": "stream",
       "stream": "stdout",
       "text": [
        "\r",
        "Iteration 127; distance 269103.603266"
       ]
      },
      {
       "output_type": "stream",
       "stream": "stdout",
       "text": [
        "\r",
        "Iteration 128; distance 262980.216732"
       ]
      },
      {
       "output_type": "stream",
       "stream": "stdout",
       "text": [
        "\r",
        "Iteration 129; distance 256996.735412"
       ]
      },
      {
       "output_type": "stream",
       "stream": "stdout",
       "text": [
        "\r",
        "Iteration 130; distance 251145.401976"
       ]
      },
      {
       "output_type": "stream",
       "stream": "stdout",
       "text": [
        "\r",
        "Iteration 131; distance 245429.126754"
       ]
      },
      {
       "output_type": "stream",
       "stream": "stdout",
       "text": [
        "\r",
        "Iteration 132; distance 239845.663982"
       ]
      },
      {
       "output_type": "stream",
       "stream": "stdout",
       "text": [
        "\r",
        "Iteration 133; distance 234387.89635"
       ]
      },
      {
       "output_type": "stream",
       "stream": "stdout",
       "text": [
        "\r",
        "Iteration 134; distance 229051.964466"
       ]
      },
      {
       "output_type": "stream",
       "stream": "stdout",
       "text": [
        "\r",
        "Iteration 135; distance 223837.334962"
       ]
      },
      {
       "output_type": "stream",
       "stream": "stdout",
       "text": [
        "\r",
        "Iteration 136; distance 218742.822057"
       ]
      },
      {
       "output_type": "stream",
       "stream": "stdout",
       "text": [
        "\r",
        "Iteration 137; distance 213766.274748"
       ]
      },
      {
       "output_type": "stream",
       "stream": "stdout",
       "text": [
        "\r",
        "Iteration 138; distance 208903.356602"
       ]
      },
      {
       "output_type": "stream",
       "stream": "stdout",
       "text": [
        "\r",
        "Iteration 139; distance 204151.063824"
       ]
      },
      {
       "output_type": "stream",
       "stream": "stdout",
       "text": [
        "\r",
        "Iteration 140; distance 199506.879825"
       ]
      },
      {
       "output_type": "stream",
       "stream": "stdout",
       "text": [
        "\r",
        "Iteration 141; distance 194968.188913"
       ]
      },
      {
       "output_type": "stream",
       "stream": "stdout",
       "text": [
        "\r",
        "Iteration 142; distance 190532.157041"
       ]
      },
      {
       "output_type": "stream",
       "stream": "stdout",
       "text": [
        "\r",
        "Iteration 143; distance 186197.194785"
       ]
      },
      {
       "output_type": "stream",
       "stream": "stdout",
       "text": [
        "\r",
        "Iteration 144; distance 181961.285447"
       ]
      },
      {
       "output_type": "stream",
       "stream": "stdout",
       "text": [
        "\r",
        "Iteration 145; distance 177821.299836"
       ]
      },
      {
       "output_type": "stream",
       "stream": "stdout",
       "text": [
        "\r",
        "Iteration 146; distance 173774.246833"
       ]
      },
      {
       "output_type": "stream",
       "stream": "stdout",
       "text": [
        "\r",
        "Iteration 147; distance 169818.785236"
       ]
      },
      {
       "output_type": "stream",
       "stream": "stdout",
       "text": [
        "\r",
        "Iteration 148; distance 165953.808348"
       ]
      },
      {
       "output_type": "stream",
       "stream": "stdout",
       "text": [
        "\r",
        "Iteration 149; distance 162176.607775"
       ]
      },
      {
       "output_type": "stream",
       "stream": "stdout",
       "text": [
        "\r",
        "Iteration 150; distance 158487.290694"
       ]
      },
      {
       "output_type": "stream",
       "stream": "stdout",
       "text": [
        "\r",
        "Iteration 151; distance 154881.90101"
       ]
      },
      {
       "output_type": "stream",
       "stream": "stdout",
       "text": [
        "\r",
        "Iteration 152; distance 151358.529478"
       ]
      },
      {
       "output_type": "stream",
       "stream": "stdout",
       "text": [
        "\r",
        "Iteration 153; distance 147915.310287"
       ]
      },
      {
       "output_type": "stream",
       "stream": "stdout",
       "text": [
        "\r",
        "Iteration 154; distance 144550.283822"
       ]
      },
      {
       "output_type": "stream",
       "stream": "stdout",
       "text": [
        "\r",
        "Iteration 155; distance 141259.631529"
       ]
      },
      {
       "output_type": "stream",
       "stream": "stdout",
       "text": [
        "\r",
        "Iteration 156; distance 138043.972906"
       ]
      },
      {
       "output_type": "stream",
       "stream": "stdout",
       "text": [
        "\r",
        "Iteration 157; distance 134903.009482"
       ]
      },
      {
       "output_type": "stream",
       "stream": "stdout",
       "text": [
        "\r",
        "Iteration 158; distance 131830.107517"
       ]
      },
      {
       "output_type": "stream",
       "stream": "stdout",
       "text": [
        "\r",
        "Iteration 159; distance 128829.023284"
       ]
      },
      {
       "output_type": "stream",
       "stream": "stdout",
       "text": [
        "\r",
        "Iteration 160; distance 125896.946208"
       ]
      },
      {
       "output_type": "stream",
       "stream": "stdout",
       "text": [
        "\r",
        "Iteration 161; distance 123032.94652"
       ]
      },
      {
       "output_type": "stream",
       "stream": "stdout",
       "text": [
        "\r",
        "Iteration 162; distance 120233.073746"
       ]
      },
      {
       "output_type": "stream",
       "stream": "stdout",
       "text": [
        "\r",
        "Iteration 163; distance 117496.629843"
       ]
      },
      {
       "output_type": "stream",
       "stream": "stdout",
       "text": [
        "\r",
        "Iteration 164; distance 114822.216362"
       ]
      },
      {
       "output_type": "stream",
       "stream": "stdout",
       "text": [
        "\r",
        "Iteration 165; distance 112207.834434"
       ]
      },
      {
       "output_type": "stream",
       "stream": "stdout",
       "text": [
        "\r",
        "Iteration 166; distance 109654.315234"
       ]
      },
      {
       "output_type": "stream",
       "stream": "stdout",
       "text": [
        "\r",
        "Iteration 167; distance 107159.365628"
       ]
      },
      {
       "output_type": "stream",
       "stream": "stdout",
       "text": [
        "\r",
        "Iteration 168; distance 104720.531846"
       ]
      },
      {
       "output_type": "stream",
       "stream": "stdout",
       "text": [
        "\r",
        "Iteration 169; distance 102337.145945"
       ]
      },
      {
       "output_type": "stream",
       "stream": "stdout",
       "text": [
        "\r",
        "Iteration 170; distance 100007.481824"
       ]
      },
      {
       "output_type": "stream",
       "stream": "stdout",
       "text": [
        "\r",
        "Iteration 171; distance 97731.3139953"
       ]
      },
      {
       "output_type": "stream",
       "stream": "stdout",
       "text": [
        "\r",
        "Iteration 172; distance 95506.9653068"
       ]
      },
      {
       "output_type": "stream",
       "stream": "stdout",
       "text": [
        "\r",
        "Iteration 173; distance 93333.2111259"
       ]
      },
      {
       "output_type": "stream",
       "stream": "stdout",
       "text": [
        "\r",
        "Iteration 174; distance 91209.9961026"
       ]
      },
      {
       "output_type": "stream",
       "stream": "stdout",
       "text": [
        "\r",
        "Iteration 175; distance 89135.081593"
       ]
      },
      {
       "output_type": "stream",
       "stream": "stdout",
       "text": [
        "\r",
        "Iteration 176; distance 87107.3688201"
       ]
      },
      {
       "output_type": "stream",
       "stream": "stdout",
       "text": [
        "\r",
        "Iteration 177; distance 85125.7840028"
       ]
      },
      {
       "output_type": "stream",
       "stream": "stdout",
       "text": [
        "\r",
        "Iteration 178; distance 83189.2777872"
       ]
      },
      {
       "output_type": "stream",
       "stream": "stdout",
       "text": [
        "\r",
        "Iteration 179; distance 81296.824691"
       ]
      },
      {
       "output_type": "stream",
       "stream": "stdout",
       "text": [
        "\r",
        "Iteration 180; distance 79447.2572596"
       ]
      },
      {
       "output_type": "stream",
       "stream": "stdout",
       "text": [
        "\r",
        "Iteration 181; distance 77639.5710765"
       ]
      },
      {
       "output_type": "stream",
       "stream": "stdout",
       "text": [
        "\r",
        "Iteration 182; distance 75872.6921495"
       ]
      },
      {
       "output_type": "stream",
       "stream": "stdout",
       "text": [
        "\r",
        "Iteration 183; distance 74145.9020057"
       ]
      },
      {
       "output_type": "stream",
       "stream": "stdout",
       "text": [
        "\r",
        "Iteration 184; distance 72458.9490798"
       ]
      },
      {
       "output_type": "stream",
       "stream": "stdout",
       "text": [
        "\r",
        "Iteration 185; distance 70810.4670091"
       ]
      },
      {
       "output_type": "stream",
       "stream": "stdout",
       "text": [
        "\r",
        "Iteration 186; distance 69198.7644634"
       ]
      },
      {
       "output_type": "stream",
       "stream": "stdout",
       "text": [
        "\r",
        "Iteration 187; distance 67623.2625252"
       ]
      },
      {
       "output_type": "stream",
       "stream": "stdout",
       "text": [
        "\r",
        "Iteration 188; distance 66084.9170083"
       ]
      },
      {
       "output_type": "stream",
       "stream": "stdout",
       "text": [
        "\r",
        "Iteration 189; distance 64581.5669477"
       ]
      },
      {
       "output_type": "stream",
       "stream": "stdout",
       "text": [
        "\r",
        "Iteration 190; distance 63112.41624"
       ]
      },
      {
       "output_type": "stream",
       "stream": "stdout",
       "text": [
        "\r",
        "Iteration 191; distance 61676.6328516"
       ]
      },
      {
       "output_type": "stream",
       "stream": "stdout",
       "text": [
        "\r",
        "Iteration 192; distance 60273.1633512"
       ]
      },
      {
       "output_type": "stream",
       "stream": "stdout",
       "text": [
        "\r",
        "Iteration 193; distance 58901.9925643"
       ]
      },
      {
       "output_type": "stream",
       "stream": "stdout",
       "text": [
        "\r",
        "Iteration 194; distance 57562.0451436"
       ]
      },
      {
       "output_type": "stream",
       "stream": "stdout",
       "text": [
        "\r",
        "Iteration 195; distance 56252.5798681"
       ]
      },
      {
       "output_type": "stream",
       "stream": "stdout",
       "text": [
        "\r",
        "Iteration 196; distance 54972.4276935"
       ]
      },
      {
       "output_type": "stream",
       "stream": "stdout",
       "text": [
        "\r",
        "Iteration 197; distance 53721.3566396"
       ]
      },
      {
       "output_type": "stream",
       "stream": "stdout",
       "text": [
        "\r",
        "Iteration 198; distance 52499.1448313"
       ]
      },
      {
       "output_type": "stream",
       "stream": "stdout",
       "text": [
        "\r",
        "Iteration 199; distance 51304.8542709"
       ]
      },
      {
       "output_type": "stream",
       "stream": "stdout",
       "text": [
        "\r",
        "Iteration 200; distance 50137.7323425"
       ]
      },
      {
       "output_type": "stream",
       "stream": "stdout",
       "text": [
        "\r",
        "Iteration 201; distance 48997.1609933"
       ]
      },
      {
       "output_type": "stream",
       "stream": "stdout",
       "text": [
        "\r",
        "Iteration 202; distance 47882.4688765"
       ]
      },
      {
       "output_type": "stream",
       "stream": "stdout",
       "text": [
        "\r",
        "Iteration 203; distance 46793.1072087"
       ]
      },
      {
       "output_type": "stream",
       "stream": "stdout",
       "text": [
        "\r",
        "Iteration 204; distance 45728.4011874"
       ]
      },
      {
       "output_type": "stream",
       "stream": "stdout",
       "text": [
        "\r",
        "Iteration 205; distance 44687.586065"
       ]
      },
      {
       "output_type": "stream",
       "stream": "stdout",
       "text": [
        "\r",
        "Iteration 206; distance 43670.6103127"
       ]
      },
      {
       "output_type": "stream",
       "stream": "stdout",
       "text": [
        "\r",
        "Iteration 207; distance 42677.1579845"
       ]
      },
      {
       "output_type": "stream",
       "stream": "stdout",
       "text": [
        "\r",
        "Iteration 208; distance 41706.3054671"
       ]
      },
      {
       "output_type": "stream",
       "stream": "stdout",
       "text": [
        "\r",
        "Iteration 209; distance 40757.5386427"
       ]
      },
      {
       "output_type": "stream",
       "stream": "stdout",
       "text": [
        "\r",
        "Iteration 210; distance 39830.3550891"
       ]
      },
      {
       "output_type": "stream",
       "stream": "stdout",
       "text": [
        "\r",
        "Iteration 211; distance 38924.2638137"
       ]
      },
      {
       "output_type": "stream",
       "stream": "stdout",
       "text": [
        "\r",
        "Iteration 212; distance 38038.7849932"
       ]
      },
      {
       "output_type": "stream",
       "stream": "stdout",
       "text": [
        "\r",
        "Iteration 213; distance 37173.4497198"
       ]
      },
      {
       "output_type": "stream",
       "stream": "stdout",
       "text": [
        "\r",
        "Iteration 214; distance 36327.7997528"
       ]
      },
      {
       "output_type": "stream",
       "stream": "stdout",
       "text": [
        "\r",
        "Iteration 215; distance 35501.3872758"
       ]
      },
      {
       "output_type": "stream",
       "stream": "stdout",
       "text": [
        "\r",
        "Iteration 216; distance 34693.7746596"
       ]
      },
      {
       "output_type": "stream",
       "stream": "stdout",
       "text": [
        "\r",
        "Iteration 217; distance 33904.5342308"
       ]
      },
      {
       "output_type": "stream",
       "stream": "stdout",
       "text": [
        "\r",
        "Iteration 218; distance 33133.0393505"
       ]
      },
      {
       "output_type": "stream",
       "stream": "stdout",
       "text": [
        "\r",
        "Iteration 219; distance 32378.9427601"
       ]
      },
      {
       "output_type": "stream",
       "stream": "stdout",
       "text": [
        "\r",
        "Iteration 220; distance 31642.238434"
       ]
      },
      {
       "output_type": "stream",
       "stream": "stdout",
       "text": [
        "\r",
        "Iteration 221; distance 30922.4166771"
       ]
      },
      {
       "output_type": "stream",
       "stream": "stdout",
       "text": [
        "\r",
        "Iteration 222; distance 30218.9699741"
       ]
      },
      {
       "output_type": "stream",
       "stream": "stdout",
       "text": [
        "\r",
        "Iteration 223; distance 29531.5258129"
       ]
      },
      {
       "output_type": "stream",
       "stream": "stdout",
       "text": [
        "\r",
        "Iteration 224; distance 28859.7201553"
       ]
      },
      {
       "output_type": "stream",
       "stream": "stdout",
       "text": [
        "\r",
        "Iteration 225; distance 28203.197245"
       ]
      },
      {
       "output_type": "stream",
       "stream": "stdout",
       "text": [
        "\r",
        "Iteration 226; distance 27561.6094182"
       ]
      },
      {
       "output_type": "stream",
       "stream": "stdout",
       "text": [
        "\r",
        "Iteration 227; distance 26934.6169203"
       ]
      },
      {
       "output_type": "stream",
       "stream": "stdout",
       "text": [
        "\r",
        "Iteration 228; distance 26321.8877256"
       ]
      },
      {
       "output_type": "stream",
       "stream": "stdout",
       "text": [
        "\r",
        "Iteration 229; distance 25723.0973617"
       ]
      },
      {
       "output_type": "stream",
       "stream": "stdout",
       "text": [
        "\r",
        "Iteration 230; distance 25137.9287373"
       ]
      },
      {
       "output_type": "stream",
       "stream": "stdout",
       "text": [
        "\r",
        "Iteration 231; distance 24566.0719748"
       ]
      },
      {
       "output_type": "stream",
       "stream": "stdout",
       "text": [
        "\r",
        "Iteration 232; distance 24007.2242458"
       ]
      },
      {
       "output_type": "stream",
       "stream": "stdout",
       "text": [
        "\r",
        "Iteration 233; distance 23461.0896108"
       ]
      },
      {
       "output_type": "stream",
       "stream": "stdout",
       "text": [
        "\r",
        "Iteration 234; distance 22927.3788628"
       ]
      },
      {
       "output_type": "stream",
       "stream": "stdout",
       "text": [
        "\r",
        "Iteration 235; distance 22405.8093737"
       ]
      },
      {
       "output_type": "stream",
       "stream": "stdout",
       "text": [
        "\r",
        "Iteration 236; distance 21896.1049448"
       ]
      },
      {
       "output_type": "stream",
       "stream": "stdout",
       "text": [
        "\r",
        "Iteration 237; distance 21397.9956608"
       ]
      },
      {
       "output_type": "stream",
       "stream": "stdout",
       "text": [
        "\r",
        "Iteration 238; distance 20911.2177464"
       ]
      },
      {
       "output_type": "stream",
       "stream": "stdout",
       "text": [
        "\r",
        "Iteration 239; distance 20435.513427"
       ]
      },
      {
       "output_type": "stream",
       "stream": "stdout",
       "text": [
        "\r",
        "Iteration 240; distance 19970.6307921"
       ]
      },
      {
       "output_type": "stream",
       "stream": "stdout",
       "text": [
        "\r",
        "Iteration 241; distance 19516.3236616"
       ]
      },
      {
       "output_type": "stream",
       "stream": "stdout",
       "text": [
        "\r",
        "Iteration 242; distance 19072.3514561"
       ]
      },
      {
       "output_type": "stream",
       "stream": "stdout",
       "text": [
        "\r",
        "Iteration 243; distance 18638.4790686"
       ]
      },
      {
       "output_type": "stream",
       "stream": "stdout",
       "text": [
        "\r",
        "Iteration 244; distance 18214.4767409"
       ]
      },
      {
       "output_type": "stream",
       "stream": "stdout",
       "text": [
        "\r",
        "Iteration 245; distance 17800.1199413"
       ]
      },
      {
       "output_type": "stream",
       "stream": "stdout",
       "text": [
        "\r",
        "Iteration 246; distance 17395.1639793"
       ]
      },
      {
       "output_type": "stream",
       "stream": "stdout",
       "text": [
        "\r",
        "Iteration 247; distance 16999.3000805"
       ]
      },
      {
       "output_type": "stream",
       "stream": "stdout",
       "text": [
        "\r",
        "Iteration 248; distance 16612.4012848"
       ]
      },
      {
       "output_type": "stream",
       "stream": "stdout",
       "text": [
        "\r",
        "Iteration 249; distance 16234.4897187"
       ]
      },
      {
       "output_type": "stream",
       "stream": "stdout",
       "text": [
        "\r",
        "Iteration 250; distance 15865.175173"
       ]
      },
      {
       "output_type": "stream",
       "stream": "stdout",
       "text": [
        "\r",
        "Iteration 251; distance 15504.2620761"
       ]
      },
      {
       "output_type": "stream",
       "stream": "stdout",
       "text": [
        "\r",
        "Iteration 252; distance 15151.5593054"
       ]
      },
      {
       "output_type": "stream",
       "stream": "stdout",
       "text": [
        "\r",
        "Iteration 253; distance 14806.8800861"
       ]
      },
      {
       "output_type": "stream",
       "stream": "stdout",
       "text": [
        "\r",
        "Iteration 254; distance 14470.0418924"
       ]
      },
      {
       "output_type": "stream",
       "stream": "stdout",
       "text": [
        "\r",
        "Iteration 255; distance 14140.8663507"
       ]
      },
      {
       "output_type": "stream",
       "stream": "stdout",
       "text": [
        "\r",
        "Iteration 256; distance 13819.1791451"
       ]
      },
      {
       "output_type": "stream",
       "stream": "stdout",
       "text": [
        "\r",
        "Iteration 257; distance 13504.8099252"
       ]
      },
      {
       "output_type": "stream",
       "stream": "stdout",
       "text": [
        "\r",
        "Iteration 258; distance 13197.5922159"
       ]
      },
      {
       "output_type": "stream",
       "stream": "stdout",
       "text": [
        "\r",
        "Iteration 259; distance 12897.3633293"
       ]
      },
      {
       "output_type": "stream",
       "stream": "stdout",
       "text": [
        "\r",
        "Iteration 260; distance 12603.9642782"
       ]
      },
      {
       "output_type": "stream",
       "stream": "stdout",
       "text": [
        "\r",
        "Iteration 261; distance 12317.2396923"
       ]
      },
      {
       "output_type": "stream",
       "stream": "stdout",
       "text": [
        "\r",
        "Iteration 262; distance 12037.0377358"
       ]
      },
      {
       "output_type": "stream",
       "stream": "stdout",
       "text": [
        "\r",
        "Iteration 263; distance 11763.2100271"
       ]
      },
      {
       "output_type": "stream",
       "stream": "stdout",
       "text": [
        "\r",
        "Iteration 264; distance 11495.6115597"
       ]
      },
      {
       "output_type": "stream",
       "stream": "stdout",
       "text": [
        "\r",
        "Iteration 265; distance 11234.1006262"
       ]
      },
      {
       "output_type": "stream",
       "stream": "stdout",
       "text": [
        "\r",
        "Iteration 266; distance 10978.5387428"
       ]
      },
      {
       "output_type": "stream",
       "stream": "stdout",
       "text": [
        "\r",
        "Iteration 267; distance 10728.7905759"
       ]
      },
      {
       "output_type": "stream",
       "stream": "stdout",
       "text": [
        "\r",
        "Iteration 268; distance 10484.7238706"
       ]
      },
      {
       "output_type": "stream",
       "stream": "stdout",
       "text": [
        "\r",
        "Iteration 269; distance 10246.2093807"
       ]
      },
      {
       "output_type": "stream",
       "stream": "stdout",
       "text": [
        "\r",
        "Iteration 270; distance 10013.1208003"
       ]
      },
      {
       "output_type": "stream",
       "stream": "stdout",
       "text": [
        "\r",
        "Iteration 271; distance 9785.33469657"
       ]
      },
      {
       "output_type": "stream",
       "stream": "stdout",
       "text": [
        "\r",
        "Iteration 272; distance 9562.73044472"
       ]
      },
      {
       "output_type": "stream",
       "stream": "stdout",
       "text": [
        "\r",
        "Iteration 273; distance 9345.19016405"
       ]
      },
      {
       "output_type": "stream",
       "stream": "stdout",
       "text": [
        "\r",
        "Iteration 274; distance 9132.59865551"
       ]
      },
      {
       "output_type": "stream",
       "stream": "stdout",
       "text": [
        "\r",
        "Iteration 275; distance 8924.8433406"
       ]
      },
      {
       "output_type": "stream",
       "stream": "stdout",
       "text": [
        "\r",
        "Iteration 276; distance 8721.81420198"
       ]
      },
      {
       "output_type": "stream",
       "stream": "stdout",
       "text": [
        "\r",
        "Iteration 277; distance 8523.40372494"
       ]
      },
      {
       "output_type": "stream",
       "stream": "stdout",
       "text": [
        "\r",
        "Iteration 278; distance 8329.50684066"
       ]
      },
      {
       "output_type": "stream",
       "stream": "stdout",
       "text": [
        "\r",
        "Iteration 279; distance 8140.02087047"
       ]
      },
      {
       "output_type": "stream",
       "stream": "stdout",
       "text": [
        "\r",
        "Iteration 280; distance 7954.84547154"
       ]
      },
      {
       "output_type": "stream",
       "stream": "stdout",
       "text": [
        "\r",
        "Iteration 281; distance 7773.88258372"
       ]
      },
      {
       "output_type": "stream",
       "stream": "stdout",
       "text": [
        "\r",
        "Iteration 282; distance 7597.03637763"
       ]
      },
      {
       "output_type": "stream",
       "stream": "stdout",
       "text": [
        "\r",
        "Iteration 283; distance 7424.21320383"
       ]
      },
      {
       "output_type": "stream",
       "stream": "stdout",
       "text": [
        "\r",
        "Iteration 284; distance 7255.3215433"
       ]
      },
      {
       "output_type": "stream",
       "stream": "stdout",
       "text": [
        "\r",
        "Iteration 285; distance 7090.27195896"
       ]
      },
      {
       "output_type": "stream",
       "stream": "stdout",
       "text": [
        "\r",
        "Iteration 286; distance 6928.9770484"
       ]
      },
      {
       "output_type": "stream",
       "stream": "stdout",
       "text": [
        "\r",
        "Iteration 287; distance 6771.35139739"
       ]
      },
      {
       "output_type": "stream",
       "stream": "stdout",
       "text": [
        "\r",
        "Iteration 288; distance 6617.31153483"
       ]
      },
      {
       "output_type": "stream",
       "stream": "stdout",
       "text": [
        "\r",
        "Iteration 289; distance 6466.77588845"
       ]
      },
      {
       "output_type": "stream",
       "stream": "stdout",
       "text": [
        "\r",
        "Iteration 290; distance 6319.6647417"
       ]
      },
      {
       "output_type": "stream",
       "stream": "stdout",
       "text": [
        "\r",
        "Iteration 291; distance 6175.89541025"
       ]
      },
      {
       "output_type": "stream",
       "stream": "stdout",
       "text": [
        "\r",
        "Iteration 292; distance 6035.38411409"
       ]
      },
      {
       "output_type": "stream",
       "stream": "stdout",
       "text": [
        "\r",
        "Iteration 293; distance 5898.08382017"
       ]
      },
      {
       "output_type": "stream",
       "stream": "stdout",
       "text": [
        "\r",
        "Iteration 294; distance 5763.90971402"
       ]
      },
      {
       "output_type": "stream",
       "stream": "stdout",
       "text": [
        "\r",
        "Iteration 295; distance 5632.78790273"
       ]
      },
      {
       "output_type": "stream",
       "stream": "stdout",
       "text": [
        "\r",
        "Iteration 296; distance 5504.64895035"
       ]
      },
      {
       "output_type": "stream",
       "stream": "stdout",
       "text": [
        "\r",
        "Iteration 297; distance 5379.42500046"
       ]
      },
      {
       "output_type": "stream",
       "stream": "stdout",
       "text": [
        "\r",
        "Iteration 298; distance 5257.04974049"
       ]
      },
      {
       "output_type": "stream",
       "stream": "stdout",
       "text": [
        "\r",
        "Iteration 299; distance 5137.4583662"
       ]
      },
      {
       "output_type": "stream",
       "stream": "stdout",
       "text": [
        "\r",
        "Iteration 300; distance 5020.5875476"
       ]
      },
      {
       "output_type": "stream",
       "stream": "stdout",
       "text": [
        "\r",
        "Iteration 301; distance 4906.37539548"
       ]
      },
      {
       "output_type": "stream",
       "stream": "stdout",
       "text": [
        "\r",
        "Iteration 302; distance 4794.76142845"
       ]
      },
      {
       "output_type": "stream",
       "stream": "stdout",
       "text": [
        "\r",
        "Iteration 303; distance 4685.68654103"
       ]
      },
      {
       "output_type": "stream",
       "stream": "stdout",
       "text": [
        "\r",
        "Iteration 304; distance 4579.09297226"
       ]
      },
      {
       "output_type": "stream",
       "stream": "stdout",
       "text": [
        "\r",
        "Iteration 305; distance 4474.92427522"
       ]
      },
      {
       "output_type": "stream",
       "stream": "stdout",
       "text": [
        "\r",
        "Iteration 306; distance 4373.12528711"
       ]
      },
      {
       "output_type": "stream",
       "stream": "stdout",
       "text": [
        "\r",
        "Iteration 307; distance 4273.6421"
       ]
      },
      {
       "output_type": "stream",
       "stream": "stdout",
       "text": [
        "\r",
        "Iteration 308; distance 4176.42203223"
       ]
      },
      {
       "output_type": "stream",
       "stream": "stdout",
       "text": [
        "\r",
        "Iteration 309; distance 4081.41360068"
       ]
      },
      {
       "output_type": "stream",
       "stream": "stdout",
       "text": [
        "\r",
        "Iteration 310; distance 3988.5664933"
       ]
      },
      {
       "output_type": "stream",
       "stream": "stdout",
       "text": [
        "\r",
        "Iteration 311; distance 3897.8315427"
       ]
      },
      {
       "output_type": "stream",
       "stream": "stdout",
       "text": [
        "\r",
        "Iteration 312; distance 3809.16069993"
       ]
      },
      {
       "output_type": "stream",
       "stream": "stdout",
       "text": [
        "\r",
        "Iteration 313; distance 3722.50700909"
       ]
      },
      {
       "output_type": "stream",
       "stream": "stdout",
       "text": [
        "\r",
        "Iteration 314; distance 3637.82458242"
       ]
      },
      {
       "output_type": "stream",
       "stream": "stdout",
       "text": [
        "\r",
        "Iteration 315; distance 3555.06857615"
       ]
      },
      {
       "output_type": "stream",
       "stream": "stdout",
       "text": [
        "\r",
        "Iteration 316; distance 3474.19516659"
       ]
      },
      {
       "output_type": "stream",
       "stream": "stdout",
       "text": [
        "\r",
        "Iteration 317; distance 3395.16152697"
       ]
      },
      {
       "output_type": "stream",
       "stream": "stdout",
       "text": [
        "\r",
        "Iteration 318; distance 3317.92580482"
       ]
      },
      {
       "output_type": "stream",
       "stream": "stdout",
       "text": [
        "\r",
        "Iteration 319; distance 3242.44709977"
       ]
      },
      {
       "output_type": "stream",
       "stream": "stdout",
       "text": [
        "\r",
        "Iteration 320; distance 3168.68544184"
       ]
      },
      {
       "output_type": "stream",
       "stream": "stdout",
       "text": [
        "\r",
        "Iteration 321; distance 3096.6017703"
       ]
      },
      {
       "output_type": "stream",
       "stream": "stdout",
       "text": [
        "\r",
        "Iteration 322; distance 3026.15791308"
       ]
      },
      {
       "output_type": "stream",
       "stream": "stdout",
       "text": [
        "\r",
        "Iteration 323; distance 2957.3165664"
       ]
      },
      {
       "output_type": "stream",
       "stream": "stdout",
       "text": [
        "\r",
        "Iteration 324; distance 2890.04127512"
       ]
      },
      {
       "output_type": "stream",
       "stream": "stdout",
       "text": [
        "\r",
        "Iteration 325; distance 2824.29641346"
       ]
      },
      {
       "output_type": "stream",
       "stream": "stdout",
       "text": [
        "\r",
        "Iteration 326; distance 2760.04716605"
       ]
      },
      {
       "output_type": "stream",
       "stream": "stdout",
       "text": [
        "\r",
        "Iteration 327; distance 2697.25950948"
       ]
      },
      {
       "output_type": "stream",
       "stream": "stdout",
       "text": [
        "\r",
        "Iteration 328; distance 2635.90019436"
       ]
      },
      {
       "output_type": "stream",
       "stream": "stdout",
       "text": [
        "\r",
        "Iteration 329; distance 2575.9367277"
       ]
      },
      {
       "output_type": "stream",
       "stream": "stdout",
       "text": [
        "\r",
        "Iteration 330; distance 2517.33226466"
       ]
      },
      {
       "output_type": "stream",
       "stream": "stdout",
       "text": [
        "\r",
        "Iteration 331; distance 2460.06176127"
       ]
      },
      {
       "output_type": "stream",
       "stream": "stdout",
       "text": [
        "\r",
        "Iteration 332; distance 2404.09756317"
       ]
      },
      {
       "output_type": "stream",
       "stream": "stdout",
       "text": [
        "\r",
        "Iteration 333; distance 2349.40731944"
       ]
      },
      {
       "output_type": "stream",
       "stream": "stdout",
       "text": [
        "\r",
        "Iteration 334; distance 2295.96121108"
       ]
      },
      {
       "output_type": "stream",
       "stream": "stdout",
       "text": [
        "\r",
        "Iteration 335; distance 2243.73093552"
       ]
      },
      {
       "output_type": "stream",
       "stream": "stdout",
       "text": [
        "\r",
        "Iteration 336; distance 2192.68883407"
       ]
      },
      {
       "output_type": "stream",
       "stream": "stdout",
       "text": [
        "\r",
        "Iteration 337; distance 2142.80787725"
       ]
      },
      {
       "output_type": "stream",
       "stream": "stdout",
       "text": [
        "\r",
        "Iteration 338; distance 2094.06165045"
       ]
      },
      {
       "output_type": "stream",
       "stream": "stdout",
       "text": [
        "\r",
        "Iteration 339; distance 2046.42433999"
       ]
      },
      {
       "output_type": "stream",
       "stream": "stdout",
       "text": [
        "\r",
        "Iteration 340; distance 1999.87071937"
       ]
      },
      {
       "output_type": "stream",
       "stream": "stdout",
       "text": [
        "\r",
        "Iteration 341; distance 1954.37613596"
       ]
      },
      {
       "output_type": "stream",
       "stream": "stdout",
       "text": [
        "\r",
        "Iteration 342; distance 1909.91649803"
       ]
      },
      {
       "output_type": "stream",
       "stream": "stdout",
       "text": [
        "\r",
        "Iteration 343; distance 1866.46826185"
       ]
      },
      {
       "output_type": "stream",
       "stream": "stdout",
       "text": [
        "\r",
        "Iteration 344; distance 1824.00841926"
       ]
      },
      {
       "output_type": "stream",
       "stream": "stdout",
       "text": [
        "\r",
        "Iteration 345; distance 1782.51448551"
       ]
      },
      {
       "output_type": "stream",
       "stream": "stdout",
       "text": [
        "\r",
        "Iteration 346; distance 1741.96448738"
       ]
      },
      {
       "output_type": "stream",
       "stream": "stdout",
       "text": [
        "\r",
        "Iteration 347; distance 1702.33695154"
       ]
      },
      {
       "output_type": "stream",
       "stream": "stdout",
       "text": [
        "\r",
        "Iteration 348; distance 1663.61089308"
       ]
      },
      {
       "output_type": "stream",
       "stream": "stdout",
       "text": [
        "\r",
        "Iteration 349; distance 1625.76580453"
       ]
      },
      {
       "output_type": "stream",
       "stream": "stdout",
       "text": [
        "\r",
        "Iteration 350; distance 1588.78164487"
       ]
      },
      {
       "output_type": "stream",
       "stream": "stdout",
       "text": [
        "\r",
        "Iteration 351; distance 1552.63882908"
       ]
      },
      {
       "output_type": "stream",
       "stream": "stdout",
       "text": [
        "\r",
        "Iteration 352; distance 1517.31821761"
       ]
      },
      {
       "output_type": "stream",
       "stream": "stdout",
       "text": [
        "\r",
        "Iteration 353; distance 1482.80110633"
       ]
      },
      {
       "output_type": "stream",
       "stream": "stdout",
       "text": [
        "\r",
        "Iteration 354; distance 1449.06921661"
       ]
      },
      {
       "output_type": "stream",
       "stream": "stdout",
       "text": [
        "\r",
        "Iteration 355; distance 1416.10468562"
       ]
      },
      {
       "output_type": "stream",
       "stream": "stdout",
       "text": [
        "\r",
        "Iteration 356; distance 1383.89005693"
       ]
      },
      {
       "output_type": "stream",
       "stream": "stdout",
       "text": [
        "\r",
        "Iteration 357; distance 1352.40827114"
       ]
      },
      {
       "output_type": "stream",
       "stream": "stdout",
       "text": [
        "\r",
        "Iteration 358; distance 1321.64265701"
       ]
      },
      {
       "output_type": "stream",
       "stream": "stdout",
       "text": [
        "\r",
        "Iteration 359; distance 1291.57692251"
       ]
      },
      {
       "output_type": "stream",
       "stream": "stdout",
       "text": [
        "\r",
        "Iteration 360; distance 1262.19514626"
       ]
      },
      {
       "output_type": "stream",
       "stream": "stdout",
       "text": [
        "\r",
        "Iteration 361; distance 1233.48176906"
       ]
      },
      {
       "output_type": "stream",
       "stream": "stdout",
       "text": [
        "\r",
        "Iteration 362; distance 1205.42158564"
       ]
      },
      {
       "output_type": "stream",
       "stream": "stdout",
       "text": [
        "\r",
        "Iteration 363; distance 1177.99973666"
       ]
      },
      {
       "output_type": "stream",
       "stream": "stdout",
       "text": [
        "\r",
        "Iteration 364; distance 1151.2017008"
       ]
      },
      {
       "output_type": "stream",
       "stream": "stdout",
       "text": [
        "\r",
        "Iteration 365; distance 1125.01328708"
       ]
      },
      {
       "output_type": "stream",
       "stream": "stdout",
       "text": [
        "\r",
        "Iteration 366; distance 1099.42062739"
       ]
      },
      {
       "output_type": "stream",
       "stream": "stdout",
       "text": [
        "\r",
        "Iteration 367; distance 1074.41016897"
       ]
      },
      {
       "output_type": "stream",
       "stream": "stdout",
       "text": [
        "\r",
        "Iteration 368; distance 1049.96866753"
       ]
      },
      {
       "output_type": "stream",
       "stream": "stdout",
       "text": [
        "\r",
        "Iteration 369; distance 1026.08318002"
       ]
      },
      {
       "output_type": "stream",
       "stream": "stdout",
       "text": [
        "\r",
        "Iteration 370; distance 1002.7410578"
       ]
      },
      {
       "output_type": "stream",
       "stream": "stdout",
       "text": [
        "\r",
        "Iteration 371; distance 979.929939964"
       ]
      },
      {
       "output_type": "stream",
       "stream": "stdout",
       "text": [
        "\r",
        "Iteration 372; distance 957.637746823"
       ]
      },
      {
       "output_type": "stream",
       "stream": "stdout",
       "text": [
        "\r",
        "Iteration 373; distance 935.852673466"
       ]
      },
      {
       "output_type": "stream",
       "stream": "stdout",
       "text": [
        "\r",
        "Iteration 374; distance 914.563183546"
       ]
      },
      {
       "output_type": "stream",
       "stream": "stdout",
       "text": [
        "\r",
        "Iteration 375; distance 893.75800317"
       ]
      },
      {
       "output_type": "stream",
       "stream": "stdout",
       "text": [
        "\r",
        "Iteration 376; distance 873.426114922"
       ]
      },
      {
       "output_type": "stream",
       "stream": "stdout",
       "text": [
        "\r",
        "Iteration 377; distance 853.556751976"
       ]
      },
      {
       "output_type": "stream",
       "stream": "stdout",
       "text": [
        "\r",
        "Iteration 378; distance 834.13939241"
       ]
      },
      {
       "output_type": "stream",
       "stream": "stdout",
       "text": [
        "\r",
        "Iteration 379; distance 815.163753728"
       ]
      },
      {
       "output_type": "stream",
       "stream": "stdout",
       "text": [
        "\r",
        "Iteration 380; distance 796.619787349"
       ]
      },
      {
       "output_type": "stream",
       "stream": "stdout",
       "text": [
        "\r",
        "Iteration 381; distance 778.497673295"
       ]
      },
      {
       "output_type": "stream",
       "stream": "stdout",
       "text": [
        "\r",
        "Iteration 382; distance 760.787814873"
       ]
      },
      {
       "output_type": "stream",
       "stream": "stdout",
       "text": [
        "\r",
        "Iteration 383; distance 743.480833788"
       ]
      },
      {
       "output_type": "stream",
       "stream": "stdout",
       "text": [
        "\r",
        "Iteration 384; distance 726.567565103"
       ]
      },
      {
       "output_type": "stream",
       "stream": "stdout",
       "text": [
        "\r",
        "Iteration 385; distance 710.039052364"
       ]
      },
      {
       "output_type": "stream",
       "stream": "stdout",
       "text": [
        "\r",
        "Iteration 386; distance 693.886542832"
       ]
      },
      {
       "output_type": "stream",
       "stream": "stdout",
       "text": [
        "\r",
        "Iteration 387; distance 678.101482886"
       ]
      },
      {
       "output_type": "stream",
       "stream": "stdout",
       "text": [
        "\r",
        "Iteration 388; distance 662.675513497"
       ]
      },
      {
       "output_type": "stream",
       "stream": "stdout",
       "text": [
        "\r",
        "Iteration 389; distance 647.60046587"
       ]
      },
      {
       "output_type": "stream",
       "stream": "stdout",
       "text": [
        "\r",
        "Iteration 390; distance 632.868356891"
       ]
      },
      {
       "output_type": "stream",
       "stream": "stdout",
       "text": [
        "\r",
        "Iteration 391; distance 618.471385145"
       ]
      },
      {
       "output_type": "stream",
       "stream": "stdout",
       "text": [
        "\r",
        "Iteration 392; distance 604.401926675"
       ]
      },
      {
       "output_type": "stream",
       "stream": "stdout",
       "text": [
        "\r",
        "Iteration 393; distance 590.652530981"
       ]
      },
      {
       "output_type": "stream",
       "stream": "stdout",
       "text": [
        "\r",
        "Iteration 394; distance 577.215917046"
       ]
      },
      {
       "output_type": "stream",
       "stream": "stdout",
       "text": [
        "\r",
        "Iteration 395; distance 564.084969436"
       ]
      },
      {
       "output_type": "stream",
       "stream": "stdout",
       "text": [
        "\r",
        "Iteration 396; distance 551.252734606"
       ]
      },
      {
       "output_type": "stream",
       "stream": "stdout",
       "text": [
        "\r",
        "Iteration 397; distance 538.712417244"
       ]
      },
      {
       "output_type": "stream",
       "stream": "stdout",
       "text": [
        "\r",
        "Iteration 398; distance 526.457376579"
       ]
      },
      {
       "output_type": "stream",
       "stream": "stdout",
       "text": [
        "\r",
        "Iteration 399; distance 514.481122922"
       ]
      },
      {
       "output_type": "stream",
       "stream": "stdout",
       "text": [
        "\r",
        "Iteration 400; distance 502.777314229"
       ]
      },
      {
       "output_type": "stream",
       "stream": "stdout",
       "text": [
        "\r",
        "Iteration 401; distance 491.339752664"
       ]
      },
      {
       "output_type": "stream",
       "stream": "stdout",
       "text": [
        "\r",
        "Iteration 402; distance 480.162381485"
       ]
      },
      {
       "output_type": "stream",
       "stream": "stdout",
       "text": [
        "\r",
        "Iteration 403; distance 469.239281677"
       ]
      },
      {
       "output_type": "stream",
       "stream": "stdout",
       "text": [
        "\r",
        "Iteration 404; distance 458.56466883"
       ]
      },
      {
       "output_type": "stream",
       "stream": "stdout",
       "text": [
        "\r",
        "Iteration 405; distance 448.13289022"
       ]
      },
      {
       "output_type": "stream",
       "stream": "stdout",
       "text": [
        "\r",
        "Iteration 406; distance 437.938421678"
       ]
      },
      {
       "output_type": "stream",
       "stream": "stdout",
       "text": [
        "\r",
        "Iteration 407; distance 427.975864694"
       ]
      },
      {
       "output_type": "stream",
       "stream": "stdout",
       "text": [
        "\r",
        "Iteration 408; distance 418.239943543"
       ]
      },
      {
       "output_type": "stream",
       "stream": "stdout",
       "text": [
        "\r",
        "Iteration 409; distance 408.72550252"
       ]
      },
      {
       "output_type": "stream",
       "stream": "stdout",
       "text": [
        "\r",
        "Iteration 410; distance 399.427503254"
       ]
      },
      {
       "output_type": "stream",
       "stream": "stdout",
       "text": [
        "\r",
        "Iteration 411; distance 390.341022"
       ]
      },
      {
       "output_type": "stream",
       "stream": "stdout",
       "text": [
        "\r",
        "Iteration 412; distance 381.461246934"
       ]
      },
      {
       "output_type": "stream",
       "stream": "stdout",
       "text": [
        "\r",
        "Iteration 413; distance 372.783475726"
       ]
      },
      {
       "output_type": "stream",
       "stream": "stdout",
       "text": [
        "\r",
        "Iteration 414; distance 364.303113098"
       ]
      },
      {
       "output_type": "stream",
       "stream": "stdout",
       "text": [
        "\r",
        "Iteration 415; distance 356.01566821"
       ]
      },
      {
       "output_type": "stream",
       "stream": "stdout",
       "text": [
        "\r",
        "Iteration 416; distance 347.916752452"
       ]
      },
      {
       "output_type": "stream",
       "stream": "stdout",
       "text": [
        "\r",
        "Iteration 417; distance 340.002077001"
       ]
      },
      {
       "output_type": "stream",
       "stream": "stdout",
       "text": [
        "\r",
        "Iteration 418; distance 332.267450601"
       ]
      },
      {
       "output_type": "stream",
       "stream": "stdout",
       "text": [
        "\r",
        "Iteration 419; distance 324.708777375"
       ]
      },
      {
       "output_type": "stream",
       "stream": "stdout",
       "text": [
        "\r",
        "Iteration 420; distance 317.322054626"
       ]
      },
      {
       "output_type": "stream",
       "stream": "stdout",
       "text": [
        "\r",
        "Iteration 421; distance 310.103370653"
       ]
      },
      {
       "output_type": "stream",
       "stream": "stdout",
       "text": [
        "\r",
        "Iteration 422; distance 303.048902828"
       ]
      },
      {
       "output_type": "stream",
       "stream": "stdout",
       "text": [
        "\r",
        "Iteration 423; distance 296.154915396"
       ]
      },
      {
       "output_type": "stream",
       "stream": "stdout",
       "text": [
        "\r",
        "Iteration 424; distance 289.417757661"
       ]
      },
      {
       "output_type": "stream",
       "stream": "stdout",
       "text": [
        "\r",
        "Iteration 425; distance 282.833861942"
       ]
      },
      {
       "output_type": "stream",
       "stream": "stdout",
       "text": [
        "\r",
        "Iteration 426; distance 276.39974169"
       ]
      },
      {
       "output_type": "stream",
       "stream": "stdout",
       "text": [
        "\r",
        "Iteration 427; distance 270.111989666"
       ]
      },
      {
       "output_type": "stream",
       "stream": "stdout",
       "text": [
        "\r",
        "Iteration 428; distance 263.967276258"
       ]
      },
      {
       "output_type": "stream",
       "stream": "stdout",
       "text": [
        "\r",
        "Iteration 429; distance 257.962347483"
       ]
      },
      {
       "output_type": "stream",
       "stream": "stdout",
       "text": [
        "\r",
        "Iteration 430; distance 252.094023367"
       ]
      },
      {
       "output_type": "stream",
       "stream": "stdout",
       "text": [
        "\r",
        "Iteration 431; distance 246.359196374"
       ]
      },
      {
       "output_type": "stream",
       "stream": "stdout",
       "text": [
        "\r",
        "Iteration 432; distance 240.754829603"
       ]
      },
      {
       "output_type": "stream",
       "stream": "stdout",
       "text": [
        "\r",
        "Iteration 433; distance 235.277955254"
       ]
      },
      {
       "output_type": "stream",
       "stream": "stdout",
       "text": [
        "\r",
        "Iteration 434; distance 229.925673031"
       ]
      },
      {
       "output_type": "stream",
       "stream": "stdout",
       "text": [
        "\r",
        "Iteration 435; distance 224.695148576"
       ]
      },
      {
       "output_type": "stream",
       "stream": "stdout",
       "text": [
        "\r",
        "Iteration 436; distance 219.583612069"
       ]
      },
      {
       "output_type": "stream",
       "stream": "stdout",
       "text": [
        "\r",
        "Iteration 437; distance 214.588356714"
       ]
      },
      {
       "output_type": "stream",
       "stream": "stdout",
       "text": [
        "\r",
        "Iteration 438; distance 209.706737232"
       ]
      },
      {
       "output_type": "stream",
       "stream": "stdout",
       "text": [
        "\r",
        "Iteration 439; distance 204.936168544"
       ]
      },
      {
       "output_type": "stream",
       "stream": "stdout",
       "text": [
        "\r",
        "Iteration 440; distance 200.274124359"
       ]
      },
      {
       "output_type": "stream",
       "stream": "stdout",
       "text": [
        "\r",
        "Iteration 441; distance 195.718135931"
       ]
      },
      {
       "output_type": "stream",
       "stream": "stdout",
       "text": [
        "\r",
        "Iteration 442; distance 191.265790619"
       ]
      },
      {
       "output_type": "stream",
       "stream": "stdout",
       "text": [
        "\r",
        "Iteration 443; distance 186.914730645"
       ]
      },
      {
       "output_type": "stream",
       "stream": "stdout",
       "text": [
        "\r",
        "Iteration 444; distance 182.662651866"
       ]
      },
      {
       "output_type": "stream",
       "stream": "stdout",
       "text": [
        "\r",
        "Iteration 445; distance 178.507302652"
       ]
      },
      {
       "output_type": "stream",
       "stream": "stdout",
       "text": [
        "\r",
        "Iteration 446; distance 174.446482461"
       ]
      },
      {
       "output_type": "stream",
       "stream": "stdout",
       "text": [
        "\r",
        "Iteration 447; distance 170.478040912"
       ]
      },
      {
       "output_type": "stream",
       "stream": "stdout",
       "text": [
        "\r",
        "Iteration 448; distance 166.599876505"
       ]
      },
      {
       "output_type": "stream",
       "stream": "stdout",
       "text": [
        "\r",
        "Iteration 449; distance 162.809935537"
       ]
      },
      {
       "output_type": "stream",
       "stream": "stdout",
       "text": [
        "\r",
        "Iteration 450; distance 159.106211022"
       ]
      },
      {
       "output_type": "stream",
       "stream": "stdout",
       "text": [
        "\r",
        "Iteration 451; distance 155.486741677"
       ]
      },
      {
       "output_type": "stream",
       "stream": "stdout",
       "text": [
        "\r",
        "Iteration 452; distance 151.949610766"
       ]
      },
      {
       "output_type": "stream",
       "stream": "stdout",
       "text": [
        "\r",
        "Iteration 453; distance 148.492945213"
       ]
      },
      {
       "output_type": "stream",
       "stream": "stdout",
       "text": [
        "\r",
        "Iteration 454; distance 145.114914507"
       ]
      },
      {
       "output_type": "stream",
       "stream": "stdout",
       "text": [
        "\r",
        "Iteration 455; distance 141.813729849"
       ]
      },
      {
       "output_type": "stream",
       "stream": "stdout",
       "text": [
        "\r",
        "Iteration 456; distance 138.587643014"
       ]
      },
      {
       "output_type": "stream",
       "stream": "stdout",
       "text": [
        "\r",
        "Iteration 457; distance 135.434945682"
       ]
      },
      {
       "output_type": "stream",
       "stream": "stdout",
       "text": [
        "\r",
        "Iteration 458; distance 132.353968327"
       ]
      },
      {
       "output_type": "stream",
       "stream": "stdout",
       "text": [
        "\r",
        "Iteration 459; distance 129.34307938"
       ]
      },
      {
       "output_type": "stream",
       "stream": "stdout",
       "text": [
        "\r",
        "Iteration 460; distance 126.400684433"
       ]
      },
      {
       "output_type": "stream",
       "stream": "stdout",
       "text": [
        "\r",
        "Iteration 461; distance 123.52522534"
       ]
      },
      {
       "output_type": "stream",
       "stream": "stdout",
       "text": [
        "\r",
        "Iteration 462; distance 120.715179364"
       ]
      },
      {
       "output_type": "stream",
       "stream": "stdout",
       "text": [
        "\r",
        "Iteration 463; distance 117.969058435"
       ]
      },
      {
       "output_type": "stream",
       "stream": "stdout",
       "text": [
        "\r",
        "Iteration 464; distance 115.28540836"
       ]
      },
      {
       "output_type": "stream",
       "stream": "stdout",
       "text": [
        "\r",
        "Iteration 465; distance 112.66280801"
       ]
      },
      {
       "output_type": "stream",
       "stream": "stdout",
       "text": [
        "\r",
        "Iteration 466; distance 110.09986858"
       ]
      },
      {
       "output_type": "stream",
       "stream": "stdout",
       "text": [
        "\r",
        "Iteration 467; distance 107.595232873"
       ]
      },
      {
       "output_type": "stream",
       "stream": "stdout",
       "text": [
        "\r",
        "Iteration 468; distance 105.147574529"
       ]
      },
      {
       "output_type": "stream",
       "stream": "stdout",
       "text": [
        "\r",
        "Iteration 469; distance 102.755597361"
       ]
      },
      {
       "output_type": "stream",
       "stream": "stdout",
       "text": [
        "\r",
        "Iteration 470; distance 100.418034722"
       ]
      },
      {
       "output_type": "stream",
       "stream": "stdout",
       "text": [
        "\r",
        "Iteration 471; distance 98.1336487018"
       ]
      },
      {
       "output_type": "stream",
       "stream": "stdout",
       "text": [
        "\r",
        "Iteration 472; distance 95.9012296777"
       ]
      },
      {
       "output_type": "stream",
       "stream": "stdout",
       "text": [
        "\r",
        "Iteration 473; distance 93.7195954104"
       ]
      },
      {
       "output_type": "stream",
       "stream": "stdout",
       "text": [
        "\r",
        "Iteration 474; distance 91.5875906334"
       ]
      },
      {
       "output_type": "stream",
       "stream": "stdout",
       "text": [
        "\r",
        "Iteration 475; distance 89.5040863327"
       ]
      },
      {
       "output_type": "stream",
       "stream": "stdout",
       "text": [
        "\r",
        "Iteration 476; distance 87.4679791628"
       ]
      },
      {
       "output_type": "stream",
       "stream": "stdout",
       "text": [
        "\r",
        "Iteration 477; distance 85.4781908752"
       ]
      },
      {
       "output_type": "stream",
       "stream": "stdout",
       "text": [
        "\r",
        "Iteration 478; distance 83.5336678425"
       ]
      },
      {
       "output_type": "stream",
       "stream": "stdout",
       "text": [
        "\r",
        "Iteration 479; distance 81.6333802975"
       ]
      },
      {
       "output_type": "stream",
       "stream": "stdout",
       "text": [
        "\r",
        "Iteration 480; distance 79.7763219269"
       ]
      },
      {
       "output_type": "stream",
       "stream": "stdout",
       "text": [
        "\r",
        "Iteration 481; distance 77.9615093603"
       ]
      },
      {
       "output_type": "stream",
       "stream": "stdout",
       "text": [
        "\r",
        "Iteration 482; distance 76.1879815565"
       ]
      },
      {
       "output_type": "stream",
       "stream": "stdout",
       "text": [
        "\r",
        "Iteration 483; distance 74.4547992905"
       ]
      },
      {
       "output_type": "stream",
       "stream": "stdout",
       "text": [
        "\r",
        "Iteration 484; distance 72.7610447414"
       ]
      },
      {
       "output_type": "stream",
       "stream": "stdout",
       "text": [
        "\r",
        "Iteration 485; distance 71.1058210446"
       ]
      },
      {
       "output_type": "stream",
       "stream": "stdout",
       "text": [
        "\r",
        "Iteration 486; distance 69.4882516324"
       ]
      },
      {
       "output_type": "stream",
       "stream": "stdout",
       "text": [
        "\r",
        "Iteration 487; distance 67.9074799202"
       ]
      },
      {
       "output_type": "stream",
       "stream": "stdout",
       "text": [
        "\r",
        "Iteration 488; distance 66.3626688149"
       ]
      },
      {
       "output_type": "stream",
       "stream": "stdout",
       "text": [
        "\r",
        "Iteration 489; distance 64.8530002354"
       ]
      },
      {
       "output_type": "stream",
       "stream": "stdout",
       "text": [
        "\r",
        "Iteration 490; distance 63.3776747508"
       ]
      },
      {
       "output_type": "stream",
       "stream": "stdout",
       "text": [
        "\r",
        "Iteration 491; distance 61.9359111053"
       ]
      },
      {
       "output_type": "stream",
       "stream": "stdout",
       "text": [
        "\r",
        "Iteration 492; distance 60.5269457967"
       ]
      },
      {
       "output_type": "stream",
       "stream": "stdout",
       "text": [
        "\r",
        "Iteration 493; distance 59.1500327"
       ]
      },
      {
       "output_type": "stream",
       "stream": "stdout",
       "text": [
        "\r",
        "Iteration 494; distance 57.8044426714"
       ]
      },
      {
       "output_type": "stream",
       "stream": "stdout",
       "text": [
        "\r",
        "Iteration 495; distance 56.4894631629"
       ]
      },
      {
       "output_type": "stream",
       "stream": "stdout",
       "text": [
        "\r",
        "Iteration 496; distance 55.2043977812"
       ]
      },
      {
       "output_type": "stream",
       "stream": "stdout",
       "text": [
        "\r",
        "Iteration 497; distance 53.9485660644"
       ]
      },
      {
       "output_type": "stream",
       "stream": "stdout",
       "text": [
        "\r",
        "Iteration 498; distance 52.7213029465"
       ]
      },
      {
       "output_type": "stream",
       "stream": "stdout",
       "text": [
        "\r",
        "Iteration 499; distance 51.521958587"
       ]
      },
      {
       "output_type": "stream",
       "stream": "stdout",
       "text": [
        "\r",
        "Iteration 500; distance 50.3498978246"
       ]
      },
      {
       "output_type": "stream",
       "stream": "stdout",
       "text": [
        "\r",
        "Iteration 501; distance 49.204499974"
       ]
      },
      {
       "output_type": "stream",
       "stream": "stdout",
       "text": [
        "\r",
        "Iteration 502; distance 48.0851584946"
       ]
      },
      {
       "output_type": "stream",
       "stream": "stdout",
       "text": [
        "\r",
        "Iteration 503; distance 46.9912806698"
       ]
      },
      {
       "output_type": "stream",
       "stream": "stdout",
       "text": [
        "\r",
        "Iteration 504; distance 45.9222872023"
       ]
      },
      {
       "output_type": "stream",
       "stream": "stdout",
       "text": [
        "\r",
        "Iteration 505; distance 44.8776120157"
       ]
      },
      {
       "output_type": "stream",
       "stream": "stdout",
       "text": [
        "\r",
        "Iteration 506; distance 43.8567018833"
       ]
      },
      {
       "output_type": "stream",
       "stream": "stdout",
       "text": [
        "\r",
        "Iteration 507; distance 42.8590161851"
       ]
      },
      {
       "output_type": "stream",
       "stream": "stdout",
       "text": [
        "\r",
        "Iteration 508; distance 41.8840266211"
       ]
      },
      {
       "output_type": "stream",
       "stream": "stdout",
       "text": [
        "\r",
        "Iteration 509; distance 40.9312168639"
       ]
      },
      {
       "output_type": "stream",
       "stream": "stdout",
       "text": [
        "\r",
        "Iteration 510; distance 40.0000823809"
       ]
      },
      {
       "output_type": "stream",
       "stream": "stdout",
       "text": [
        "\r",
        "Iteration 511; distance 39.0901299833"
       ]
      },
      {
       "output_type": "stream",
       "stream": "stdout",
       "text": [
        "\r",
        "Iteration 512; distance 38.2008779"
       ]
      },
      {
       "output_type": "stream",
       "stream": "stdout",
       "text": [
        "\r",
        "Iteration 513; distance 37.3318552192"
       ]
      },
      {
       "output_type": "stream",
       "stream": "stdout",
       "text": [
        "\r",
        "Iteration 514; distance 36.4826017348"
       ]
      },
      {
       "output_type": "stream",
       "stream": "stdout",
       "text": [
        "\r",
        "Iteration 515; distance 35.6526676857"
       ]
      },
      {
       "output_type": "stream",
       "stream": "stdout",
       "text": [
        "\r",
        "Iteration 516; distance 34.8416136301"
       ]
      },
      {
       "output_type": "stream",
       "stream": "stdout",
       "text": [
        "\r",
        "Iteration 517; distance 34.0490100584"
       ]
      },
      {
       "output_type": "stream",
       "stream": "stdout",
       "text": [
        "\r",
        "Iteration 518; distance 33.2744372304"
       ]
      },
      {
       "output_type": "stream",
       "stream": "stdout",
       "text": [
        "\r",
        "Iteration 519; distance 32.5174849686"
       ]
      },
      {
       "output_type": "stream",
       "stream": "stdout",
       "text": [
        "\r",
        "Iteration 520; distance 31.777752444"
       ]
      },
      {
       "output_type": "stream",
       "stream": "stdout",
       "text": [
        "\r",
        "Iteration 521; distance 31.0548479205"
       ]
      },
      {
       "output_type": "stream",
       "stream": "stdout",
       "text": [
        "\r",
        "Iteration 522; distance 30.348388532"
       ]
      },
      {
       "output_type": "stream",
       "stream": "stdout",
       "text": [
        "\r",
        "Iteration 523; distance 29.6580002522"
       ]
      },
      {
       "output_type": "stream",
       "stream": "stdout",
       "text": [
        "\r",
        "Iteration 524; distance 28.983317473"
       ]
      },
      {
       "output_type": "stream",
       "stream": "stdout",
       "text": [
        "\r",
        "Iteration 525; distance 28.3239828961"
       ]
      },
      {
       "output_type": "stream",
       "stream": "stdout",
       "text": [
        "\r",
        "Iteration 526; distance 27.6796473315"
       ]
      },
      {
       "output_type": "stream",
       "stream": "stdout",
       "text": [
        "\r",
        "Iteration 527; distance 27.049969624"
       ]
      },
      {
       "output_type": "stream",
       "stream": "stdout",
       "text": [
        "\r",
        "Iteration 528; distance 26.4346163098"
       ]
      },
      {
       "output_type": "stream",
       "stream": "stdout",
       "text": [
        "\r",
        "Iteration 529; distance 25.8332615263"
       ]
      },
      {
       "output_type": "stream",
       "stream": "stdout",
       "text": [
        "\r",
        "Iteration 530; distance 25.2455867913"
       ]
      },
      {
       "output_type": "stream",
       "stream": "stdout",
       "text": [
        "\r",
        "Iteration 531; distance 24.671280919"
       ]
      },
      {
       "output_type": "stream",
       "stream": "stdout",
       "text": [
        "\r",
        "Iteration 532; distance 24.1100398098"
       ]
      },
      {
       "output_type": "stream",
       "stream": "stdout",
       "text": [
        "\r",
        "Iteration 533; distance 23.5615662568"
       ]
      },
      {
       "output_type": "stream",
       "stream": "stdout",
       "text": [
        "\r",
        "Iteration 534; distance 23.0255697897"
       ]
      },
      {
       "output_type": "stream",
       "stream": "stdout",
       "text": [
        "\r",
        "Iteration 535; distance 22.5017665952"
       ]
      },
      {
       "output_type": "stream",
       "stream": "stdout",
       "text": [
        "\r",
        "Iteration 536; distance 21.9898792507"
       ]
      },
      {
       "output_type": "stream",
       "stream": "stdout",
       "text": [
        "\r",
        "Iteration 537; distance 21.489636727"
       ]
      },
      {
       "output_type": "stream",
       "stream": "stdout",
       "text": [
        "\r",
        "Iteration 538; distance 21.0007740883"
       ]
      },
      {
       "output_type": "stream",
       "stream": "stdout",
       "text": [
        "\r",
        "Iteration 539; distance 20.5230324705"
       ]
      },
      {
       "output_type": "stream",
       "stream": "stdout",
       "text": [
        "\r",
        "Iteration 540; distance 20.0561589006"
       ]
      },
      {
       "output_type": "stream",
       "stream": "stdout",
       "text": [
        "\r",
        "Iteration 541; distance 19.5999061109"
       ]
      },
      {
       "output_type": "stream",
       "stream": "stdout",
       "text": [
        "\r",
        "Iteration 542; distance 19.1540324835"
       ]
      },
      {
       "output_type": "stream",
       "stream": "stdout",
       "text": [
        "\r",
        "Iteration 543; distance 18.7183019668"
       ]
      },
      {
       "output_type": "stream",
       "stream": "stdout",
       "text": [
        "\r",
        "Iteration 544; distance 18.292483757"
       ]
      },
      {
       "output_type": "stream",
       "stream": "stdout",
       "text": [
        "\r",
        "Iteration 545; distance 17.8763524067"
       ]
      },
      {
       "output_type": "stream",
       "stream": "stdout",
       "text": [
        "\r",
        "Iteration 546; distance 17.4696875188"
       ]
      },
      {
       "output_type": "stream",
       "stream": "stdout",
       "text": [
        "\r",
        "Iteration 547; distance 17.0722737543"
       ]
      },
      {
       "output_type": "stream",
       "stream": "stdout",
       "text": [
        "\r",
        "Iteration 548; distance 16.6839006444"
       ]
      },
      {
       "output_type": "stream",
       "stream": "stdout",
       "text": [
        "\r",
        "Iteration 549; distance 16.3043625494"
       ]
      },
      {
       "output_type": "stream",
       "stream": "stdout",
       "text": [
        "\r",
        "Iteration 550; distance 15.9334584864"
       ]
      },
      {
       "output_type": "stream",
       "stream": "stdout",
       "text": [
        "\r",
        "Iteration 551; distance 15.5709920125"
       ]
      },
      {
       "output_type": "stream",
       "stream": "stdout",
       "text": [
        "\r",
        "Iteration 552; distance 15.2167712419"
       ]
      },
      {
       "output_type": "stream",
       "stream": "stdout",
       "text": [
        "\r",
        "Iteration 553; distance 14.8706085377"
       ]
      },
      {
       "output_type": "stream",
       "stream": "stdout",
       "text": [
        "\r",
        "Iteration 554; distance 14.5323205864"
       ]
      },
      {
       "output_type": "stream",
       "stream": "stdout",
       "text": [
        "\r",
        "Iteration 555; distance 14.2017282932"
       ]
      },
      {
       "output_type": "stream",
       "stream": "stdout",
       "text": [
        "\r",
        "Iteration 556; distance 13.8786565383"
       ]
      },
      {
       "output_type": "stream",
       "stream": "stdout",
       "text": [
        "\r",
        "Iteration 557; distance 13.5629342721"
       ]
      },
      {
       "output_type": "stream",
       "stream": "stdout",
       "text": [
        "\r",
        "Iteration 558; distance 13.254394313"
       ]
      },
      {
       "output_type": "stream",
       "stream": "stdout",
       "text": [
        "\r",
        "Iteration 559; distance 12.9528732571"
       ]
      },
      {
       "output_type": "stream",
       "stream": "stdout",
       "text": [
        "\r",
        "Iteration 560; distance 12.6582114296"
       ]
      },
      {
       "output_type": "stream",
       "stream": "stdout",
       "text": [
        "\r",
        "Iteration 561; distance 12.370252797"
       ]
      },
      {
       "output_type": "stream",
       "stream": "stdout",
       "text": [
        "\r",
        "Iteration 562; distance 12.0888448479"
       ]
      },
      {
       "output_type": "stream",
       "stream": "stdout",
       "text": [
        "\r",
        "Iteration 563; distance 11.8138385798"
       ]
      },
      {
       "output_type": "stream",
       "stream": "stdout",
       "text": [
        "\r",
        "Iteration 564; distance 11.5450883971"
       ]
      },
      {
       "output_type": "stream",
       "stream": "stdout",
       "text": [
        "\r",
        "Iteration 565; distance 11.2824519043"
       ]
      },
      {
       "output_type": "stream",
       "stream": "stdout",
       "text": [
        "\r",
        "Iteration 566; distance 11.0257900855"
       ]
      },
      {
       "output_type": "stream",
       "stream": "stdout",
       "text": [
        "\r",
        "Iteration 567; distance 10.7749669966"
       ]
      },
      {
       "output_type": "stream",
       "stream": "stdout",
       "text": [
        "\r",
        "Iteration 568; distance 10.5298498475"
       ]
      },
      {
       "output_type": "stream",
       "stream": "stdout",
       "text": [
        "\r",
        "Iteration 569; distance 10.2903088448"
       ]
      },
      {
       "output_type": "stream",
       "stream": "stdout",
       "text": [
        "\r",
        "Iteration 570; distance 10.0562170348"
       ]
      },
      {
       "output_type": "stream",
       "stream": "stdout",
       "text": [
        "\r",
        "Iteration 571; distance 9.82745054838"
       ]
      },
      {
       "output_type": "stream",
       "stream": "stdout",
       "text": [
        "\r",
        "Iteration 572; distance 9.60388820402"
       ]
      },
      {
       "output_type": "stream",
       "stream": "stdout",
       "text": [
        "\r",
        "Iteration 573; distance 9.38541163633"
       ]
      },
      {
       "output_type": "stream",
       "stream": "stdout",
       "text": [
        "\r",
        "Iteration 574; distance 9.17190515951"
       ]
      },
      {
       "output_type": "stream",
       "stream": "stdout",
       "text": [
        "\r",
        "Iteration 575; distance 8.96325564953"
       ]
      },
      {
       "output_type": "stream",
       "stream": "stdout",
       "text": [
        "\r",
        "Iteration 576; distance 8.75935265302"
       ]
      },
      {
       "output_type": "stream",
       "stream": "stdout",
       "text": [
        "\r",
        "Iteration 577; distance 8.5600882173"
       ]
      },
      {
       "output_type": "stream",
       "stream": "stdout",
       "text": [
        "\r",
        "Iteration 578; distance 8.36535679994"
       ]
      },
      {
       "output_type": "stream",
       "stream": "stdout",
       "text": [
        "\r",
        "Iteration 579; distance 8.17505529226"
       ]
      },
      {
       "output_type": "stream",
       "stream": "stdout",
       "text": [
        "\r",
        "Iteration 580; distance 7.98908291795"
       ]
      },
      {
       "output_type": "stream",
       "stream": "stdout",
       "text": [
        "\r",
        "Iteration 581; distance 7.80734117122"
       ]
      },
      {
       "output_type": "stream",
       "stream": "stdout",
       "text": [
        "\r",
        "Iteration 582; distance 7.6297338323"
       ]
      },
      {
       "output_type": "stream",
       "stream": "stdout",
       "text": [
        "\r",
        "Iteration 583; distance 7.45616683762"
       ]
      },
      {
       "output_type": "stream",
       "stream": "stdout",
       "text": [
        "\r",
        "Iteration 584; distance 7.286548288"
       ]
      },
      {
       "output_type": "stream",
       "stream": "stdout",
       "text": [
        "\r",
        "Iteration 585; distance 7.1207883181"
       ]
      },
      {
       "output_type": "stream",
       "stream": "stdout",
       "text": [
        "\r",
        "Iteration 586; distance 6.95879917441"
       ]
      },
      {
       "output_type": "stream",
       "stream": "stdout",
       "text": [
        "\r",
        "Iteration 587; distance 6.80049512165"
       ]
      },
      {
       "output_type": "stream",
       "stream": "stdout",
       "text": [
        "\r",
        "Iteration 588; distance 6.64579229221"
       ]
      },
      {
       "output_type": "stream",
       "stream": "stdout",
       "text": [
        "\r",
        "Iteration 589; distance 6.4946087483"
       ]
      },
      {
       "output_type": "stream",
       "stream": "stdout",
       "text": [
        "\r",
        "Iteration 590; distance 6.3468644236"
       ]
      },
      {
       "output_type": "stream",
       "stream": "stdout",
       "text": [
        "\r",
        "Iteration 591; distance 6.20248112373"
       ]
      },
      {
       "output_type": "stream",
       "stream": "stdout",
       "text": [
        "\r",
        "Iteration 592; distance 6.06138234174"
       ]
      },
      {
       "output_type": "stream",
       "stream": "stdout",
       "text": [
        "\r",
        "Iteration 593; distance 5.92349339548"
       ]
      },
      {
       "output_type": "stream",
       "stream": "stdout",
       "text": [
        "\r",
        "Iteration 594; distance 5.78874124588"
       ]
      },
      {
       "output_type": "stream",
       "stream": "stdout",
       "text": [
        "\r",
        "Iteration 595; distance 5.65705455452"
       ]
      },
      {
       "output_type": "stream",
       "stream": "stdout",
       "text": [
        "\r",
        "Iteration 596; distance 5.52836358365"
       ]
      },
      {
       "output_type": "stream",
       "stream": "stdout",
       "text": [
        "\r",
        "Iteration 597; distance 5.4026001391"
       ]
      },
      {
       "output_type": "stream",
       "stream": "stdout",
       "text": [
        "\r",
        "Iteration 598; distance 5.27969766163"
       ]
      },
      {
       "output_type": "stream",
       "stream": "stdout",
       "text": [
        "\r",
        "Iteration 599; distance 5.15959110031"
       ]
      },
      {
       "output_type": "stream",
       "stream": "stdout",
       "text": [
        "\r",
        "Iteration 600; distance 5.0422167688"
       ]
      },
      {
       "output_type": "stream",
       "stream": "stdout",
       "text": [
        "\r",
        "Iteration 601; distance 4.92751257956"
       ]
      },
      {
       "output_type": "stream",
       "stream": "stdout",
       "text": [
        "\r",
        "Iteration 602; distance 4.81541776376"
       ]
      },
      {
       "output_type": "stream",
       "stream": "stdout",
       "text": [
        "\r",
        "Iteration 603; distance 4.70587296868"
       ]
      },
      {
       "output_type": "stream",
       "stream": "stdout",
       "text": [
        "\r",
        "Iteration 604; distance 4.59882020956"
       ]
      },
      {
       "output_type": "stream",
       "stream": "stdout",
       "text": [
        "\r",
        "Iteration 605; distance 4.4942027264"
       ]
      },
      {
       "output_type": "stream",
       "stream": "stdout",
       "text": [
        "\r",
        "Iteration 606; distance 4.39196516514"
       ]
      },
      {
       "output_type": "stream",
       "stream": "stdout",
       "text": [
        "\r",
        "Iteration 607; distance 4.29205340544"
       ]
      },
      {
       "output_type": "stream",
       "stream": "stdout",
       "text": [
        "\r",
        "Iteration 608; distance 4.19441449988"
       ]
      },
      {
       "output_type": "stream",
       "stream": "stdout",
       "text": [
        "\r",
        "Iteration 609; distance 4.09899677911"
       ]
      },
      {
       "output_type": "stream",
       "stream": "stdout",
       "text": [
        "\r",
        "Iteration 610; distance 4.00574967864"
       ]
      },
      {
       "output_type": "stream",
       "stream": "stdout",
       "text": [
        "\r",
        "Iteration 611; distance 3.91462381077"
       ]
      },
      {
       "output_type": "stream",
       "stream": "stdout",
       "text": [
        "\r",
        "Iteration 612; distance 3.82557097332"
       ]
      },
      {
       "output_type": "stream",
       "stream": "stdout",
       "text": [
        "\r",
        "Iteration 613; distance 3.73854398467"
       ]
      },
      {
       "output_type": "stream",
       "stream": "stdout",
       "text": [
        "\r",
        "Iteration 614; distance 3.65349672096"
       ]
      },
      {
       "output_type": "stream",
       "stream": "stdout",
       "text": [
        "\r",
        "Iteration 615; distance 3.57038418294"
       ]
      },
      {
       "output_type": "stream",
       "stream": "stdout",
       "text": [
        "\r",
        "Iteration 616; distance 3.48916235638"
       ]
      },
      {
       "output_type": "stream",
       "stream": "stdout",
       "text": [
        "\r",
        "Iteration 617; distance 3.40978823646"
       ]
      },
      {
       "output_type": "stream",
       "stream": "stdout",
       "text": [
        "\r",
        "Iteration 618; distance 3.33221977145"
       ]
      },
      {
       "output_type": "stream",
       "stream": "stdout",
       "text": [
        "\r",
        "Iteration 619; distance 3.25641589009"
       ]
      },
      {
       "output_type": "stream",
       "stream": "stdout",
       "text": [
        "\r",
        "Iteration 620; distance 3.18233646426"
       ]
      },
      {
       "output_type": "stream",
       "stream": "stdout",
       "text": [
        "\r",
        "Iteration 621; distance 3.10994225939"
       ]
      },
      {
       "output_type": "stream",
       "stream": "stdout",
       "text": [
        "\r",
        "Iteration 622; distance 3.03919493748"
       ]
      },
      {
       "output_type": "stream",
       "stream": "stdout",
       "text": [
        "\r",
        "Iteration 623; distance 2.97005701404"
       ]
      },
      {
       "output_type": "stream",
       "stream": "stdout",
       "text": [
        "\r",
        "Iteration 624; distance 2.90249187376"
       ]
      },
      {
       "output_type": "stream",
       "stream": "stdout",
       "text": [
        "\r",
        "Iteration 625; distance 2.83646378254"
       ]
      },
      {
       "output_type": "stream",
       "stream": "stdout",
       "text": [
        "\r",
        "Iteration 626; distance 2.77193775019"
       ]
      },
      {
       "output_type": "stream",
       "stream": "stdout",
       "text": [
        "\r",
        "Iteration 627; distance 2.70887960163"
       ]
      },
      {
       "output_type": "stream",
       "stream": "stdout",
       "text": [
        "\r",
        "Iteration 628; distance 2.64725594072"
       ]
      },
      {
       "output_type": "stream",
       "stream": "stdout",
       "text": [
        "\r",
        "Iteration 629; distance 2.58703413641"
       ]
      },
      {
       "output_type": "stream",
       "stream": "stdout",
       "text": [
        "\r",
        "Iteration 630; distance 2.52818231411"
       ]
      },
      {
       "output_type": "stream",
       "stream": "stdout",
       "text": [
        "\r",
        "Iteration 631; distance 2.47066931109"
       ]
      },
      {
       "output_type": "stream",
       "stream": "stdout",
       "text": [
        "\r",
        "Iteration 632; distance 2.41446464636"
       ]
      },
      {
       "output_type": "stream",
       "stream": "stdout",
       "text": [
        "\r",
        "Iteration 633; distance 2.35953856016"
       ]
      },
      {
       "output_type": "stream",
       "stream": "stdout",
       "text": [
        "\r",
        "Iteration 634; distance 2.30586200067"
       ]
      },
      {
       "output_type": "stream",
       "stream": "stdout",
       "text": [
        "\r",
        "Iteration 635; distance 2.25340647355"
       ]
      },
      {
       "output_type": "stream",
       "stream": "stdout",
       "text": [
        "\r",
        "Iteration 636; distance 2.20214426029"
       ]
      },
      {
       "output_type": "stream",
       "stream": "stdout",
       "text": [
        "\r",
        "Iteration 637; distance 2.1520482175"
       ]
      },
      {
       "output_type": "stream",
       "stream": "stdout",
       "text": [
        "\r",
        "Iteration 638; distance 2.1030917633"
       ]
      },
      {
       "output_type": "stream",
       "stream": "stdout",
       "text": [
        "\r",
        "Iteration 639; distance 2.05524903524"
       ]
      },
      {
       "output_type": "stream",
       "stream": "stdout",
       "text": [
        "\r",
        "Iteration 640; distance 2.00849465846"
       ]
      },
      {
       "output_type": "stream",
       "stream": "stdout",
       "text": [
        "\r",
        "Iteration 641; distance 1.96280387367"
       ]
      },
      {
       "output_type": "stream",
       "stream": "stdout",
       "text": [
        "\r",
        "Iteration 642; distance 1.91815253647"
       ]
      },
      {
       "output_type": "stream",
       "stream": "stdout",
       "text": [
        "\r",
        "Iteration 643; distance 1.87451694534"
       ]
      },
      {
       "output_type": "stream",
       "stream": "stdout",
       "text": [
        "\r",
        "Iteration 644; distance 1.83187400253"
       ]
      },
      {
       "output_type": "stream",
       "stream": "stdout",
       "text": [
        "\r",
        "Iteration 645; distance 1.79020114278"
       ]
      },
      {
       "output_type": "stream",
       "stream": "stdout",
       "text": [
        "\r",
        "Iteration 646; distance 1.74947626152"
       ]
      },
      {
       "output_type": "stream",
       "stream": "stdout",
       "text": [
        "\r",
        "Iteration 647; distance 1.70967786146"
       ]
      },
      {
       "output_type": "stream",
       "stream": "stdout",
       "text": [
        "\r",
        "Iteration 648; distance 1.67078480924"
       ]
      },
      {
       "output_type": "stream",
       "stream": "stdout",
       "text": [
        "\r",
        "Iteration 649; distance 1.63277650694"
       ]
      },
      {
       "output_type": "stream",
       "stream": "stdout",
       "text": [
        "\r",
        "Iteration 650; distance 1.59563287176"
       ]
      },
      {
       "output_type": "stream",
       "stream": "stdout",
       "text": [
        "\r",
        "Iteration 651; distance 1.55933421401"
       ]
      },
      {
       "output_type": "stream",
       "stream": "stdout",
       "text": [
        "\r",
        "Iteration 652; distance 1.52386127808"
       ]
      },
      {
       "output_type": "stream",
       "stream": "stdout",
       "text": [
        "\r",
        "Iteration 653; distance 1.48919529888"
       ]
      },
      {
       "output_type": "stream",
       "stream": "stdout",
       "text": [
        "\r",
        "Iteration 654; distance 1.4553179546"
       ]
      },
      {
       "output_type": "stream",
       "stream": "stdout",
       "text": [
        "\r",
        "Iteration 655; distance 1.42221131102"
       ]
      },
      {
       "output_type": "stream",
       "stream": "stdout",
       "text": [
        "\r",
        "Iteration 656; distance 1.38985776888"
       ]
      },
      {
       "output_type": "stream",
       "stream": "stdout",
       "text": [
        "\r",
        "Iteration 657; distance 1.35824020499"
       ]
      },
      {
       "output_type": "stream",
       "stream": "stdout",
       "text": [
        "\r",
        "Iteration 658; distance 1.32734189863"
       ]
      },
      {
       "output_type": "stream",
       "stream": "stdout",
       "text": [
        "\r",
        "Iteration 659; distance 1.29714653663"
       ]
      },
      {
       "output_type": "stream",
       "stream": "stdout",
       "text": [
        "\r",
        "Iteration 660; distance 1.26763806073"
       ]
      },
      {
       "output_type": "stream",
       "stream": "stdout",
       "text": [
        "\r",
        "Iteration 661; distance 1.23880084071"
       ]
      },
      {
       "output_type": "stream",
       "stream": "stdout",
       "text": [
        "\r",
        "Iteration 662; distance 1.21061965375"
       ]
      },
      {
       "output_type": "stream",
       "stream": "stdout",
       "text": [
        "\r",
        "Iteration 663; distance 1.18307956037"
       ]
      },
      {
       "output_type": "stream",
       "stream": "stdout",
       "text": [
        "\r",
        "Iteration 664; distance 1.15616595906"
       ]
      },
      {
       "output_type": "stream",
       "stream": "stdout",
       "text": [
        "\r",
        "Iteration 665; distance 1.12986463755"
       ]
      },
      {
       "output_type": "stream",
       "stream": "stdout",
       "text": [
        "\r",
        "Iteration 666; distance 1.10416159361"
       ]
      },
      {
       "output_type": "stream",
       "stream": "stdout",
       "text": [
        "\r",
        "Iteration 667; distance 1.07904331159"
       ]
      },
      {
       "output_type": "stream",
       "stream": "stdout",
       "text": [
        "\r",
        "Iteration 668; distance 1.05449641627"
       ]
      },
      {
       "output_type": "stream",
       "stream": "stdout",
       "text": [
        "\r",
        "Iteration 669; distance 1.03050790009"
       ]
      },
      {
       "output_type": "stream",
       "stream": "stdout",
       "text": [
        "\r",
        "Iteration 670; distance 1.00706510367"
       ]
      },
      {
       "output_type": "stream",
       "stream": "stdout",
       "text": [
        "\r",
        "Iteration 671; distance 0.984155601541"
       ]
      },
      {
       "output_type": "stream",
       "stream": "stdout",
       "text": [
        "\r",
        "Iteration 672; distance 0.961767307005"
       ]
      },
      {
       "output_type": "stream",
       "stream": "stdout",
       "text": [
        "\r",
        "Iteration 673; distance 0.939888296207"
       ]
      },
      {
       "output_type": "stream",
       "stream": "stdout",
       "text": [
        "\r",
        "Iteration 674; distance 0.918506996367"
       ]
      },
      {
       "output_type": "stream",
       "stream": "stdout",
       "text": [
        "\r",
        "Iteration 675; distance 0.897612113326"
       ]
      },
      {
       "output_type": "stream",
       "stream": "stdout",
       "text": [
        "\r",
        "Iteration 676; distance 0.87719254031"
       ]
      },
      {
       "output_type": "stream",
       "stream": "stdout",
       "text": [
        "\r",
        "Iteration 677; distance 0.857237490916"
       ]
      },
      {
       "output_type": "stream",
       "stream": "stdout",
       "text": [
        "\r",
        "Iteration 678; distance 0.837736419018"
       ]
      },
      {
       "output_type": "stream",
       "stream": "stdout",
       "text": [
        "\r",
        "Iteration 679; distance 0.818678954126"
       ]
      },
      {
       "output_type": "stream",
       "stream": "stdout",
       "text": [
        "\r",
        "Iteration 680; distance 0.800054999535"
       ]
      },
      {
       "output_type": "stream",
       "stream": "stdout",
       "text": [
        "\r",
        "Iteration 681; distance 0.781854747515"
       ]
      },
      {
       "output_type": "stream",
       "stream": "stdout",
       "text": [
        "\r",
        "Iteration 682; distance 0.764068522585"
       ]
      },
      {
       "output_type": "stream",
       "stream": "stdout",
       "text": [
        "\r",
        "Iteration 683; distance 0.746686898333"
       ]
      },
      {
       "output_type": "stream",
       "stream": "stdout",
       "text": [
        "\r",
        "Iteration 684; distance 0.729700705429"
       ]
      },
      {
       "output_type": "stream",
       "stream": "stdout",
       "text": [
        "\r",
        "Iteration 685; distance 0.713100923199"
       ]
      },
      {
       "output_type": "stream",
       "stream": "stdout",
       "text": [
        "\r",
        "Iteration 686; distance 0.696878746476"
       ]
      },
      {
       "output_type": "stream",
       "stream": "stdout",
       "text": [
        "\r",
        "Iteration 687; distance 0.681025600573"
       ]
      },
      {
       "output_type": "stream",
       "stream": "stdout",
       "text": [
        "\r",
        "Iteration 688; distance 0.665533130147"
       ]
      },
      {
       "output_type": "stream",
       "stream": "stdout",
       "text": [
        "\r",
        "Iteration 689; distance 0.650393089965"
       ]
      },
      {
       "output_type": "stream",
       "stream": "stdout",
       "text": [
        "\r",
        "Iteration 690; distance 0.635597443991"
       ]
      },
      {
       "output_type": "stream",
       "stream": "stdout",
       "text": [
        "\r",
        "Iteration 691; distance 0.621138378471"
       ]
      },
      {
       "output_type": "stream",
       "stream": "stdout",
       "text": [
        "\r",
        "Iteration 692; distance 0.607008254017"
       ]
      },
      {
       "output_type": "stream",
       "stream": "stdout",
       "text": [
        "\r",
        "Iteration 693; distance 0.593199567621"
       ]
      },
      {
       "output_type": "stream",
       "stream": "stdout",
       "text": [
        "\r",
        "Iteration 694; distance 0.57970501804"
       ]
      },
      {
       "output_type": "stream",
       "stream": "stdout",
       "text": [
        "\r",
        "Iteration 695; distance 0.56651744922"
       ]
      },
      {
       "output_type": "stream",
       "stream": "stdout",
       "text": [
        "\r",
        "Iteration 696; distance 0.553629873113"
       ]
      },
      {
       "output_type": "stream",
       "stream": "stdout",
       "text": [
        "\r",
        "Iteration 697; distance 0.541035477732"
       ]
      },
      {
       "output_type": "stream",
       "stream": "stdout",
       "text": [
        "\r",
        "Iteration 698; distance 0.52872759377"
       ]
      },
      {
       "output_type": "stream",
       "stream": "stdout",
       "text": [
        "\r",
        "Iteration 699; distance 0.516699671378"
       ]
      },
      {
       "output_type": "stream",
       "stream": "stdout",
       "text": [
        "\r",
        "Iteration 700; distance 0.504945408358"
       ]
      },
      {
       "output_type": "stream",
       "stream": "stdout",
       "text": [
        "\r",
        "Iteration 701; distance 0.493458540864"
       ]
      },
      {
       "output_type": "stream",
       "stream": "stdout",
       "text": [
        "\r",
        "Iteration 702; distance 0.482232958439"
       ]
      },
      {
       "output_type": "stream",
       "stream": "stdout",
       "text": [
        "\r",
        "Iteration 703; distance 0.471262741109"
       ]
      },
      {
       "output_type": "stream",
       "stream": "stdout",
       "text": [
        "\r",
        "Iteration 704; distance 0.460542109365"
       ]
      },
      {
       "output_type": "stream",
       "stream": "stdout",
       "text": [
        "\r",
        "Iteration 705; distance 0.450065353309"
       ]
      },
      {
       "output_type": "stream",
       "stream": "stdout",
       "text": [
        "\r",
        "Iteration 706; distance 0.439826929091"
       ]
      },
      {
       "output_type": "stream",
       "stream": "stdout",
       "text": [
        "\r",
        "Iteration 707; distance 0.429821402736"
       ]
      },
      {
       "output_type": "stream",
       "stream": "stdout",
       "text": [
        "\r",
        "Iteration 708; distance 0.42004348488"
       ]
      },
      {
       "output_type": "stream",
       "stream": "stdout",
       "text": [
        "\r",
        "Iteration 709; distance 0.41048803504"
       ]
      },
      {
       "output_type": "stream",
       "stream": "stdout",
       "text": [
        "\r",
        "Iteration 710; distance 0.40114992477"
       ]
      },
      {
       "output_type": "stream",
       "stream": "stdout",
       "text": [
        "\r",
        "Iteration 711; distance 0.392024256307"
       ]
      },
      {
       "output_type": "stream",
       "stream": "stdout",
       "text": [
        "\r",
        "Iteration 712; distance 0.383106218767"
       ]
      },
      {
       "output_type": "stream",
       "stream": "stdout",
       "text": [
        "\r",
        "Iteration 713; distance 0.37439102105"
       ]
      },
      {
       "output_type": "stream",
       "stream": "stdout",
       "text": [
        "\r",
        "Iteration 714; distance 0.365874087418"
       ]
      },
      {
       "output_type": "stream",
       "stream": "stdout",
       "text": [
        "\r",
        "Iteration 715; distance 0.357550910345"
       ]
      },
      {
       "output_type": "stream",
       "stream": "stdout",
       "text": [
        "\r",
        "Iteration 716; distance 0.349417065558"
       ]
      },
      {
       "output_type": "stream",
       "stream": "stdout",
       "text": [
        "\r",
        "Iteration 717; distance 0.341468243637"
       ]
      },
      {
       "output_type": "stream",
       "stream": "stdout",
       "text": [
        "\r",
        "Iteration 718; distance 0.33370026661"
       ]
      },
      {
       "output_type": "stream",
       "stream": "stdout",
       "text": [
        "\r",
        "Iteration 719; distance 0.326109003314"
       ]
      },
      {
       "output_type": "stream",
       "stream": "stdout",
       "text": [
        "\r",
        "Iteration 720; distance 0.318690431692"
       ]
      },
      {
       "output_type": "stream",
       "stream": "stdout",
       "text": [
        "\r",
        "Iteration 721; distance 0.311440609635"
       ]
      },
      {
       "output_type": "stream",
       "stream": "stdout",
       "text": [
        "\r",
        "Iteration 722; distance 0.30435572827"
       ]
      },
      {
       "output_type": "stream",
       "stream": "stdout",
       "text": [
        "\r",
        "Iteration 723; distance 0.297431997927"
       ]
      },
      {
       "output_type": "stream",
       "stream": "stdout",
       "text": [
        "\r",
        "Iteration 724; distance 0.290665788019"
       ]
      },
      {
       "output_type": "stream",
       "stream": "stdout",
       "text": [
        "\r",
        "Iteration 725; distance 0.284053514624"
       ]
      },
      {
       "output_type": "stream",
       "stream": "stdout",
       "text": [
        "\r",
        "Iteration 726; distance 0.277591620123"
       ]
      },
      {
       "output_type": "stream",
       "stream": "stdout",
       "text": [
        "\r",
        "Iteration 727; distance 0.271276781829"
       ]
      },
      {
       "output_type": "stream",
       "stream": "stdout",
       "text": [
        "\r",
        "Iteration 728; distance 0.265105589958"
       ]
      },
      {
       "output_type": "stream",
       "stream": "stdout",
       "text": [
        "\r",
        "Iteration 729; distance 0.259074741943"
       ]
      },
      {
       "output_type": "stream",
       "stream": "stdout",
       "text": [
        "\r",
        "Iteration 730; distance 0.253181119675"
       ]
      },
      {
       "output_type": "stream",
       "stream": "stdout",
       "text": [
        "\r",
        "Iteration 731; distance 0.247421553816"
       ]
      },
      {
       "output_type": "stream",
       "stream": "stdout",
       "text": [
        "\r",
        "Iteration 732; distance 0.241793024298"
       ]
      },
      {
       "output_type": "stream",
       "stream": "stdout",
       "text": [
        "\r",
        "Iteration 733; distance 0.236292550479"
       ]
      },
      {
       "output_type": "stream",
       "stream": "stdout",
       "text": [
        "\r",
        "Iteration 734; distance 0.230917194338"
       ]
      },
      {
       "output_type": "stream",
       "stream": "stdout",
       "text": [
        "\r",
        "Iteration 735; distance 0.225664116726"
       ]
      },
      {
       "output_type": "stream",
       "stream": "stdout",
       "text": [
        "\r",
        "Iteration 736; distance 0.220530517131"
       ]
      },
      {
       "output_type": "stream",
       "stream": "stdout",
       "text": [
        "\r",
        "Iteration 737; distance 0.215513719063"
       ]
      },
      {
       "output_type": "stream",
       "stream": "stdout",
       "text": [
        "\r",
        "Iteration 738; distance 0.210611070849"
       ]
      },
      {
       "output_type": "stream",
       "stream": "stdout",
       "text": [
        "\r",
        "Iteration 739; distance 0.205819911358"
       ]
      },
      {
       "output_type": "stream",
       "stream": "stdout",
       "text": [
        "\r",
        "Iteration 740; distance 0.201137726895"
       ]
      },
      {
       "output_type": "stream",
       "stream": "stdout",
       "text": [
        "\r",
        "Iteration 741; distance 0.196562096666"
       ]
      },
      {
       "output_type": "stream",
       "stream": "stdout",
       "text": [
        "\r",
        "Iteration 742; distance 0.192090591158"
       ]
      },
      {
       "output_type": "stream",
       "stream": "stdout",
       "text": [
        "\r",
        "Iteration 743; distance 0.187720757874"
       ]
      },
      {
       "output_type": "stream",
       "stream": "stdout",
       "text": [
        "\r",
        "Iteration 744; distance 0.183450329549"
       ]
      },
      {
       "output_type": "stream",
       "stream": "stdout",
       "text": [
        "\r",
        "Iteration 745; distance 0.179277085294"
       ]
      },
      {
       "output_type": "stream",
       "stream": "stdout",
       "text": [
        "\r",
        "Iteration 746; distance 0.175198761083"
       ]
      },
      {
       "output_type": "stream",
       "stream": "stdout",
       "text": [
        "\r",
        "Iteration 747; distance 0.171213207195"
       ]
      },
      {
       "output_type": "stream",
       "stream": "stdout",
       "text": [
        "\r",
        "Iteration 748; distance 0.167318314694"
       ]
      },
      {
       "output_type": "stream",
       "stream": "stdout",
       "text": [
        "\r",
        "Iteration 749; distance 0.163512014562"
       ]
      },
      {
       "output_type": "stream",
       "stream": "stdout",
       "text": [
        "\r",
        "Iteration 750; distance 0.159792304545"
       ]
      },
      {
       "output_type": "stream",
       "stream": "stdout",
       "text": [
        "\r",
        "Iteration 751; distance 0.156157232697"
       ]
      },
      {
       "output_type": "stream",
       "stream": "stdout",
       "text": [
        "\r",
        "Iteration 752; distance 0.152604824235"
       ]
      },
      {
       "output_type": "stream",
       "stream": "stdout",
       "text": [
        "\r",
        "Iteration 753; distance 0.149133272381"
       ]
      },
      {
       "output_type": "stream",
       "stream": "stdout",
       "text": [
        "\r",
        "Iteration 754; distance 0.145740686622"
       ]
      },
      {
       "output_type": "stream",
       "stream": "stdout",
       "text": [
        "\r",
        "Iteration 755; distance 0.14242527038"
       ]
      },
      {
       "output_type": "stream",
       "stream": "stdout",
       "text": [
        "\r",
        "Iteration 756; distance 0.139185259267"
       ]
      },
      {
       "output_type": "stream",
       "stream": "stdout",
       "text": [
        "\r",
        "Iteration 757; distance 0.136018942855"
       ]
      },
      {
       "output_type": "stream",
       "stream": "stdout",
       "text": [
        "\r",
        "Iteration 758; distance 0.132924668795"
       ]
      },
      {
       "output_type": "stream",
       "stream": "stdout",
       "text": [
        "\r",
        "Iteration 759; distance 0.129900828743"
       ]
      },
      {
       "output_type": "stream",
       "stream": "stdout",
       "text": [
        "\r",
        "Iteration 760; distance 0.126945755216"
       ]
      },
      {
       "output_type": "stream",
       "stream": "stdout",
       "text": [
        "\r",
        "Iteration 761; distance 0.124057893073"
       ]
      },
      {
       "output_type": "stream",
       "stream": "stdout",
       "text": [
        "\r",
        "Iteration 762; distance 0.121235744757"
       ]
      },
      {
       "output_type": "stream",
       "stream": "stdout",
       "text": [
        "\r",
        "Iteration 763; distance 0.118477784372"
       ]
      },
      {
       "output_type": "stream",
       "stream": "stdout",
       "text": [
        "\r",
        "Iteration 764; distance 0.115782546296"
       ]
      },
      {
       "output_type": "stream",
       "stream": "stdout",
       "text": [
        "\r",
        "Iteration 765; distance 0.113148620511"
       ]
      },
      {
       "output_type": "stream",
       "stream": "stdout",
       "text": [
        "\r",
        "Iteration 766; distance 0.110574636191"
       ]
      },
      {
       "output_type": "stream",
       "stream": "stdout",
       "text": [
        "\r",
        "Iteration 767; distance 0.108059226146"
       ]
      },
      {
       "output_type": "stream",
       "stream": "stdout",
       "text": [
        "\r",
        "Iteration 768; distance 0.105600994711"
       ]
      },
      {
       "output_type": "stream",
       "stream": "stdout",
       "text": [
        "\r",
        "Iteration 769; distance 0.103198698494"
       ]
      },
      {
       "output_type": "stream",
       "stream": "stdout",
       "text": [
        "\r",
        "Iteration 770; distance 0.100851064881"
       ]
      },
      {
       "output_type": "stream",
       "stream": "stdout",
       "text": [
        "\r",
        "Iteration 771; distance 0.0985568203063"
       ]
      },
      {
       "output_type": "stream",
       "stream": "stdout",
       "text": [
        "\n",
        "finished in 772 iterations\n",
        "rendering texture"
       ]
      },
      {
       "output_type": "stream",
       "stream": "stdout",
       "text": [
        "\n",
        "loaded distance matrix from  /home/ilisescu/PhD/iPy/data/Videos/649f810.avi _distanceMatrix.npy\n",
        "[  1.   8.  28.  56.  70.  56.  28.   8.   1.]\n",
        "[ 51 125 199]\n",
        "[[ 1.        ]\n",
        " [ 0.99189189]\n",
        " [ 0.98378378]\n",
        " [ 0.97567568]\n",
        " [ 0.96756757]\n",
        " [ 0.95945946]\n",
        " [ 0.95135135]\n",
        " [ 0.94324324]\n",
        " [ 0.93513514]\n",
        " [ 0.92702703]\n",
        " [ 0.91891892]\n",
        " [ 0.91081081]\n",
        " [ 0.9027027 ]\n",
        " [ 0.89459459]\n",
        " [ 0.88648649]\n",
        " [ 0.87837838]\n",
        " [ 0.87027027]\n",
        " [ 0.86216216]\n",
        " [ 0.85405405]\n",
        " [ 0.84594595]\n",
        " [ 0.83783784]\n",
        " [ 0.82972973]\n",
        " [ 0.82162162]\n",
        " [ 0.81351351]\n",
        " [ 0.80540541]\n",
        " [ 0.7972973 ]\n",
        " [ 0.78918919]\n",
        " [ 0.78108108]\n",
        " [ 0.77297297]\n",
        " [ 0.76486486]\n",
        " [ 0.75675676]\n",
        " [ 0.74864865]\n",
        " [ 0.74054054]\n",
        " [ 0.73243243]\n",
        " [ 0.72432432]\n",
        " [ 0.71621622]\n",
        " [ 0.70810811]\n",
        " [ 0.7       ]\n",
        " [ 0.7       ]\n",
        " [ 0.7       ]\n",
        " [ 0.7       ]\n",
        " [ 0.7       ]\n",
        " [ 0.7       ]\n",
        " [ 0.7       ]\n",
        " [ 0.7       ]\n",
        " [ 0.7       ]\n",
        " [ 0.7       ]\n",
        " [ 0.7       ]\n",
        " [ 0.7       ]\n",
        " [ 0.7       ]\n",
        " [ 0.7       ]\n",
        " [ 0.7       ]\n",
        " [ 0.7       ]\n",
        " [ 0.7       ]\n",
        " [ 0.7       ]\n",
        " [ 0.7       ]\n",
        " [ 0.7       ]\n",
        " [ 0.7       ]\n",
        " [ 0.7       ]\n",
        " [ 0.7       ]\n",
        " [ 0.7       ]\n",
        " [ 0.7       ]\n",
        " [ 0.7       ]\n",
        " [ 0.7       ]\n",
        " [ 0.7       ]\n",
        " [ 0.7       ]\n",
        " [ 0.7       ]\n",
        " [ 0.7       ]\n",
        " [ 0.7       ]\n",
        " [ 0.7       ]\n",
        " [ 0.7       ]\n",
        " [ 0.7       ]\n",
        " [ 0.7       ]\n",
        " [ 0.7       ]\n",
        " [ 0.7       ]\n",
        " [ 0.7       ]\n",
        " [ 0.7       ]\n",
        " [ 0.7       ]\n",
        " [ 0.7       ]\n",
        " [ 0.7       ]\n",
        " [ 0.7       ]\n",
        " [ 0.7       ]\n",
        " [ 0.7       ]\n",
        " [ 0.7       ]\n",
        " [ 0.7       ]\n",
        " [ 0.7       ]\n",
        " [ 0.7       ]\n",
        " [ 0.7       ]\n",
        " [ 0.7       ]\n",
        " [ 0.7       ]\n",
        " [ 0.7       ]\n",
        " [ 0.7       ]\n",
        " [ 0.7       ]\n",
        " [ 0.7       ]\n",
        " [ 0.7       ]\n",
        " [ 0.7       ]\n",
        " [ 0.7       ]\n",
        " [ 0.7       ]\n",
        " [ 0.7       ]\n",
        " [ 0.7       ]\n",
        " [ 0.7       ]\n",
        " [ 0.7       ]\n",
        " [ 0.7       ]\n",
        " [ 0.7       ]\n",
        " [ 0.7       ]\n",
        " [ 0.7       ]\n",
        " [ 0.7       ]\n",
        " [ 0.7       ]\n",
        " [ 0.7       ]\n",
        " [ 0.7       ]\n",
        " [ 0.7       ]\n",
        " [ 0.7       ]\n",
        " [ 0.70810811]\n",
        " [ 0.71621622]\n",
        " [ 0.72432432]\n",
        " [ 0.73243243]\n",
        " [ 0.74054054]\n",
        " [ 0.74864865]\n",
        " [ 0.75675676]\n",
        " [ 0.76486486]\n",
        " [ 0.77297297]\n",
        " [ 0.78108108]\n",
        " [ 0.78918919]\n",
        " [ 0.7972973 ]\n",
        " [ 0.80540541]\n",
        " [ 0.81351351]\n",
        " [ 0.82162162]\n",
        " [ 0.82972973]\n",
        " [ 0.83783784]\n",
        " [ 0.84594595]\n",
        " [ 0.85405405]\n",
        " [ 0.86216216]\n",
        " [ 0.87027027]\n",
        " [ 0.87837838]\n",
        " [ 0.88648649]\n",
        " [ 0.89459459]\n",
        " [ 0.9027027 ]\n",
        " [ 0.91081081]\n",
        " [ 0.91891892]\n",
        " [ 0.92702703]\n",
        " [ 0.93513514]\n",
        " [ 0.94324324]\n",
        " [ 0.95135135]\n",
        " [ 0.95945946]\n",
        " [ 0.96756757]\n",
        " [ 0.97567568]\n",
        " [ 0.98378378]\n",
        " [ 0.99189189]\n",
        " [ 1.        ]]\n",
        "\r",
        "Iteration 0; distance 1929626.9691"
       ]
      },
      {
       "output_type": "stream",
       "stream": "stdout",
       "text": [
        "\r",
        "Iteration 1; distance 325293.330868"
       ]
      },
      {
       "output_type": "stream",
       "stream": "stdout",
       "text": [
        "\r",
        "Iteration 2; distance 79493.6354412"
       ]
      },
      {
       "output_type": "stream",
       "stream": "stdout",
       "text": [
        "\r",
        "Iteration 3; distance 3387.74918623"
       ]
      },
      {
       "output_type": "stream",
       "stream": "stdout",
       "text": [
        "\r",
        "Iteration 4; distance 423.097666658"
       ]
      },
      {
       "output_type": "stream",
       "stream": "stdout",
       "text": [
        "\r",
        "Iteration 5; distance 53.4371887373"
       ]
      },
      {
       "output_type": "stream",
       "stream": "stdout",
       "text": [
        "\r",
        "Iteration 6; distance 6.95031584463"
       ]
      },
      {
       "output_type": "stream",
       "stream": "stdout",
       "text": [
        "\r",
        "Iteration 7; distance 0.903993856753"
       ]
      },
      {
       "output_type": "stream",
       "stream": "stdout",
       "text": [
        "\r",
        "Iteration 8; distance 0.117578094483"
       ]
      },
      {
       "output_type": "stream",
       "stream": "stdout",
       "text": [
        "\r",
        "Iteration 9; distance 0.0152928122245"
       ]
      },
      {
       "output_type": "stream",
       "stream": "stdout",
       "text": [
        "\n",
        "finished in 10 iterations\n",
        "sigma"
       ]
      },
      {
       "output_type": "stream",
       "stream": "stdout",
       "text": [
        " 41.7004520297\n",
        "(241, 241) (241, 241)\n",
        "125"
       ]
      },
      {
       "output_type": "stream",
       "stream": "stdout",
       "text": [
        "\n",
        "starting at frame 130\n",
        "frame 1 of 100 taken from frame 131 [ 0.96809017]\n",
        "frame 2 of 100 taken from frame 132 [ 0.84997282]\n",
        "frame 3 of 100 taken from frame 133 [ 0.60196359]\n",
        "frame 4 of 100 taken from frame 134 [ 0.92582821]\n",
        "frame 5 of 100 taken from frame 135 [ 0.07574803]\n",
        "frame 6 of 100 taken from frame 136 [ 0.72858506]\n",
        "frame 7 of 100 taken from frame 137 [ 0.66491161]\n",
        "frame 8 of 100 taken from frame 138 [ 0.34561224]\n",
        "frame 9 of 100 taken from frame 139 [ 0.82685864]\n",
        "frame 10 of 100 taken from frame 140 [ 0.25551767]\n",
        "frame 11 of 100 taken from frame 141 [ 0.94044609]\n",
        "frame 12 of 100 taken from frame 142 [ 0.77239277]\n",
        "frame 13 of 100 taken from frame 143 [ 0.79903958]\n",
        "frame 14 of 100 taken from frame 144 [ 0.91947292]\n",
        "frame 15 of 100 taken from frame 145 [ 0.16310653]\n",
        "frame 16 of 100 taken from frame 146 [ 0.72095281]\n",
        "frame 17 of 100 taken from frame 147 [ 0.85706323]\n",
        "frame 18 of 100 taken from frame 148 [ 0.60976127]\n",
        "frame 19 of 100 taken from frame 149 [ 0.27712691]\n",
        "frame 20 of 100 taken from frame 150 [ 0.29909696]\n",
        "frame 21 of 100 taken from frame 151 [ 0.56784509]\n",
        "frame 22 of 100 taken from frame 152 [ 0.48995521]\n",
        "frame 23 of 100 taken from frame 153 [ 0.09981619]\n",
        "frame 24 of 100 taken from frame 154 [ 0.30581138]\n",
        "frame 25 of 100 taken from frame 155 [ 0.14172792]\n",
        "frame 26 of 100 taken from frame 156 [ 0.42616534]\n",
        "frame 27 of 100 taken from frame 157 [ 0.02301199]\n",
        "frame 28 of 100 taken from frame 158 [ 0.86457212]\n",
        "frame 29 of 100 taken from frame 159 [ 0.13363824]\n",
        "frame 30 of 100 taken from frame 160 [ 0.83473201]\n",
        "frame 31 of 100 taken from frame 161 [ 0.61899298]\n",
        "frame 32 of 100 taken from frame 162 [ 0.03712823]\n",
        "frame 33 of 100 taken from frame 163 [ 0.8692119]\n",
        "frame 34 of 100 taken from frame 164 [ 0.46009973]\n",
        "frame 35 of 100 taken from frame 165 [ 0.99024027]\n",
        "frame 36 of 100 taken from frame 166 [ 0.95289383]\n",
        "frame 37 of 100 taken from frame 167 [ 0.84203783]\n",
        "frame 38 of 100 taken from frame 168 [ 0.80913724]\n",
        "frame 39 of 100 taken from frame 169 [ 0.84947832]\n",
        "frame 40 of 100 taken from frame 170 [ 0.99165611]\n",
        "frame 41 of 100 taken from frame 171 [ 0.25703656]\n",
        "frame 42 of 100 taken from frame 172 [ 0.31830893]\n",
        "frame 43 of 100 taken from frame 173 [ 0.53802158]\n",
        "frame 44 of 100 taken from frame 174 [ 0.21517084]\n",
        "frame 45 of 100 taken from frame 175 [ 0.36049482]\n",
        "frame 46 of 100 taken from frame 176 [ 0.63156023]\n",
        "frame 47 of 100 taken from frame 177 [ 0.19622968]\n",
        "frame 48 of 100 taken from frame 178 [ 0.28249163]\n",
        "frame 49 of 100 taken from frame 179 [ 0.81222232]\n",
        "frame 50 of 100 taken from frame 180 [ 0.1774263]\n",
        "frame 51 of 100 taken from frame 181 [ 0.62468202]\n",
        "frame 52 of 100 taken from frame 182 [ 0.70362436]\n",
        "frame 53 of 100 taken from frame 183 [ 0.76927248]\n",
        "frame 54 of 100 taken from frame 184 [ 0.1261072]\n",
        "frame 55 of 100 taken from frame 185 [ 0.46043824]\n",
        "frame 56 of 100 taken from frame 186 [ 0.1487371]\n",
        "frame 57 of 100 taken from frame 187 [ 0.87264083]\n",
        "frame 58 of 100 taken from frame 188 [ 0.46883374]\n",
        "frame 59 of 100 taken from frame 189 [ 0.29974074]\n",
        "frame 60 of 100 taken from frame 190 [ 0.16625075]\n",
        "frame 61 of 100 taken from frame 191 [ 0.20203139]\n",
        "frame 62 of 100 taken from frame 192 [ 0.97068792]\n",
        "frame 63 of 100 taken from frame 193 [ 0.95712523]\n",
        "frame 64 of 100 taken from frame 194 [ 0.40244497]\n",
        "frame 65 of 100 taken from frame 195 [ 0.52019601]\n",
        "frame 66 of 100 taken from frame 196 [ 0.2637822]\n",
        "frame 67 of 100 taken from frame 197 [ 0.33153175]\n",
        "frame 68 of 100 taken from frame 198 [ 0.17865039]\n",
        "frame 69 of 100 taken from frame 199 [ 0.24126662]\n",
        "frame 70 of 100 taken from frame 200 [ 0.03392439]\n",
        "frame 71 of 100 taken from frame 201 [ 0.52317139]\n",
        "frame 72 of 100 taken from frame 202 [ 0.08724291]\n",
        "frame 73 of 100 taken from frame 203 [ 0.34731335]\n",
        "frame 74 of 100 taken from frame 25 [ 0.80222173]\n",
        "frame 75 of 100 taken from frame 26 [ 0.12337575]\n",
        "frame 76 of 100 taken from frame 27 [ 0.8440275]\n",
        "frame 77 of 100 taken from frame 28 [ 0.2097126]\n",
        "frame 78 of 100 taken from frame 29 [ 0.88240466]\n",
        "frame 79 of 100 taken from frame 30 [ 0.01759814]\n",
        "frame 80 of 100 taken from frame 31 [ 0.80083367]\n",
        "frame 81 of 100 taken from frame 32 [ 0.04921632]\n",
        "frame 82 of 100 taken from frame 33 [ 0.75987682]\n",
        "frame 83 of 100 taken from frame 34 [ 0.2169754]\n",
        "frame 84 of 100 taken from frame 35 [ 0.79476898]\n",
        "frame 85 of 100 taken from frame 36 [ 0.75624783]\n",
        "frame 86 of 100 taken from frame 37 [ 0.78198205]\n",
        "frame 87 of 100 taken from frame 38 [ 0.08837617]\n",
        "frame 88 of 100 taken from frame 39 [ 0.7303772]\n",
        "frame 89 of 100 taken from frame 40 [ 0.23141993]\n",
        "frame 90 of 100 taken from frame 41 [ 0.30567811]\n",
        "frame 91 of 100 taken from frame 42 [ 0.03106458]\n",
        "frame 92 of 100 taken from frame 43 [ 0.54674186]\n",
        "frame 93 of 100 taken from frame 44 [ 0.74333119]\n",
        "frame 94 of 100 taken from frame 45 [ 0.9606194]\n",
        "frame 95 of 100 taken from frame 46 [ 0.25346201]\n",
        "frame 96 of 100 taken from frame 47 [ 0.47995046]\n",
        "frame 97 of 100 taken from frame 48 [ 0.49573695]\n",
        "frame 98 of 100 taken from frame 49 [ 0.37055124]\n",
        "frame 99 of 100 taken from frame 50 [ 0.52336731]\n",
        "total additional frames [ 45  46  47  48  49  50  51  52  53  54  55  56  57  58  59  60  61  62\n",
        "  63  64  65  66  67  68  69  70  71  72  73  74  75  76  77  78  79  80\n",
        "  81  82  83  84  85  86  87  88  89  90  91  92  93  94  95  96  97  98\n",
        "  99 100 101 102 103 104 105 106 107 108 109 110 111 112 113 114 115 116\n",
        " 117 118 119 120 121 122 123 124]\n",
        "jump"
       ]
      },
      {
       "output_type": "stream",
       "stream": "stdout",
       "text": [
        " 1 from frame 203 to frame 25\n",
        "jump"
       ]
      },
      {
       "output_type": "stream",
       "stream": "stdout",
       "text": [
        " 2 from frame 50 to frame 50\n"
       ]
      },
      {
       "metadata": {},
       "output_type": "pyout",
       "prompt_number": 3,
       "text": [
        "0"
       ]
      }
     ],
     "prompt_number": 3
    },
    {
     "cell_type": "code",
     "collapsed": false,
     "input": [
      "tmp = []\n",
      "tmp.append(0)\n",
      "tmp.append(0)\n",
      "tmp.append(0)\n",
      "tmp.append(0)\n",
      "print tmp\n",
      "print np.concatenate((tmp, list(np.arange(0, 5)))).shape"
     ],
     "language": "python",
     "metadata": {},
     "outputs": [
      {
       "output_type": "stream",
       "stream": "stdout",
       "text": [
        "[0, 0, 0, 0]\n",
        "(9,)\n"
       ]
      }
     ],
     "prompt_number": 10
    },
    {
     "cell_type": "code",
     "collapsed": false,
     "input": [
      "frameRange = window.frameRange-(window.numFilterFrames+1)\n",
      "featherLevel = window.featherLevel\n",
      "print frameRange, featherLevel\n",
      "l = 0.5\n",
      "weightShape = np.array(window.distMat.shape)+1\n",
      "kernelLength = np.float(frameRange[1]-frameRange[0])\n",
      "interval = (1-l)/(np.floor(kernelLength*featherLevel))\n",
      "print interval\n",
      "# kernelRange = interval*np.arange(np.floor(kernelLength*featherLevel), 0.0, -1.0)\n",
      "kernelRange = np.arange(1.0, l, -(1.0-l)/np.floor(kernelLength*featherLevel))\n",
      "print kernelRange\n",
      "kernel = np.ones(kernelLength+1)*l\n",
      "kernel[0:len(kernelRange)] = kernelRange#+np.ones(kernelRange.shape)\n",
      "kernel = np.hstack((kernel, kernel[np.arange(len(kernel)-2, -1, -1)]))\n",
      "kernel = np.reshape(kernel, [len(kernel), 1])\n",
      "\n",
      "print kernel\n",
      "print window.frameRange\n",
      "print frameRange\n",
      "\n",
      "# interval = l/(np.floor(kernelLength*featherLevel))\n",
      "# print interval\n",
      "# kernelRange = np.arange(1.0+l, 1.0, -interval)\n",
      "# print kernelRange\n",
      "# kernel = np.hstack((kernelRange, np.ones(np.floor(kernelLength-kernelLength*featherLevel-1))))\n",
      "# kernel = np.hstack((kernel, kernel[np.arange(len(kernel)-2, -1, -1)]))\n",
      "# kernel = np.reshape(kernel, [len(kernel), 1])\n",
      "\n",
      "# print kernel\n",
      "\n",
      "kernel = kernel+kernel.T\n",
      "kernel = kernel/np.min(kernel)\n",
      "print kernel.shape\n",
      "\n",
      "rangeWeights = np.ones(weightShape)*np.max(kernel)\n",
      "print rangeWeights[frameRange[0]:frameRange[2]+1, frameRange[0]:frameRange[2]+1].shape\n",
      "rangeWeights[frameRange[0]:frameRange[2]+1, frameRange[0]:frameRange[2]+1] = kernel\n",
      "figure(); imshow(kernel, interpolation='nearest')"
     ],
     "language": "python",
     "metadata": {},
     "outputs": [
      {
       "output_type": "stream",
       "stream": "stdout",
       "text": [
        "[33 45 57] 0.5\n",
        "0.0833333333333\n",
        "[ 1.      0.9167  0.8333  0.75    0.6667  0.5833]\n",
        "[[ 1.    ]\n",
        " [ 0.9167]\n",
        " [ 0.8333]\n",
        " [ 0.75  ]\n",
        " [ 0.6667]\n",
        " [ 0.5833]\n",
        " [ 0.5   ]\n",
        " [ 0.5   ]\n",
        " [ 0.5   ]\n",
        " [ 0.5   ]\n",
        " [ 0.5   ]\n",
        " [ 0.5   ]\n",
        " [ 0.5   ]\n",
        " [ 0.5   ]\n",
        " [ 0.5   ]\n",
        " [ 0.5   ]\n",
        " [ 0.5   ]\n",
        " [ 0.5   ]\n",
        " [ 0.5   ]\n",
        " [ 0.5833]\n",
        " [ 0.6667]\n",
        " [ 0.75  ]\n",
        " [ 0.8333]\n",
        " [ 0.9167]\n",
        " [ 1.    ]]\n",
        "[38 50 62]\n",
        "[33 45 57]\n",
        "(25, 25)\n",
        "(25, 25)\n"
       ]
      },
      {
       "metadata": {},
       "output_type": "pyout",
       "prompt_number": 295,
       "text": [
        "<matplotlib.image.AxesImage at 0x7ff053a7aed0>"
       ]
      }
     ],
     "prompt_number": 295
    },
    {
     "cell_type": "code",
     "collapsed": false,
     "input": [
      "# print window.kernel.shape\n",
      "print window.frameRange\n",
      "print window.rangeWeights.shape\n",
      "print window.rangeWeights[window.frameRange[0]:window.frameRange[2]+1, window.frameRange[0]:window.frameRange[2]+1].shape"
     ],
     "language": "python",
     "metadata": {},
     "outputs": [
      {
       "ename": "AttributeError",
       "evalue": "'Window' object has no attribute 'rangeWeights'",
       "output_type": "pyerr",
       "traceback": [
        "\u001b[0;31m---------------------------------------------------------------------------\u001b[0m\n\u001b[0;31mAttributeError\u001b[0m                            Traceback (most recent call last)",
        "\u001b[0;32m<ipython-input-145-4cc6f0b97cd4>\u001b[0m in \u001b[0;36m<module>\u001b[0;34m()\u001b[0m\n\u001b[1;32m      1\u001b[0m \u001b[0;31m# print window.kernel.shape\u001b[0m\u001b[0;34m\u001b[0m\u001b[0;34m\u001b[0m\u001b[0m\n\u001b[1;32m      2\u001b[0m \u001b[0;32mprint\u001b[0m \u001b[0mwindow\u001b[0m\u001b[0;34m.\u001b[0m\u001b[0mframeRange\u001b[0m\u001b[0;34m\u001b[0m\u001b[0m\n\u001b[0;32m----> 3\u001b[0;31m \u001b[0;32mprint\u001b[0m \u001b[0mwindow\u001b[0m\u001b[0;34m.\u001b[0m\u001b[0mrangeWeights\u001b[0m\u001b[0;34m.\u001b[0m\u001b[0mshape\u001b[0m\u001b[0;34m\u001b[0m\u001b[0m\n\u001b[0m\u001b[1;32m      4\u001b[0m \u001b[0;32mprint\u001b[0m \u001b[0mwindow\u001b[0m\u001b[0;34m.\u001b[0m\u001b[0mrangeWeights\u001b[0m\u001b[0;34m[\u001b[0m\u001b[0mwindow\u001b[0m\u001b[0;34m.\u001b[0m\u001b[0mframeRange\u001b[0m\u001b[0;34m[\u001b[0m\u001b[0;36m0\u001b[0m\u001b[0;34m]\u001b[0m\u001b[0;34m:\u001b[0m\u001b[0mwindow\u001b[0m\u001b[0;34m.\u001b[0m\u001b[0mframeRange\u001b[0m\u001b[0;34m[\u001b[0m\u001b[0;36m2\u001b[0m\u001b[0;34m]\u001b[0m\u001b[0;34m+\u001b[0m\u001b[0;36m1\u001b[0m\u001b[0;34m,\u001b[0m \u001b[0mwindow\u001b[0m\u001b[0;34m.\u001b[0m\u001b[0mframeRange\u001b[0m\u001b[0;34m[\u001b[0m\u001b[0;36m0\u001b[0m\u001b[0;34m]\u001b[0m\u001b[0;34m:\u001b[0m\u001b[0mwindow\u001b[0m\u001b[0;34m.\u001b[0m\u001b[0mframeRange\u001b[0m\u001b[0;34m[\u001b[0m\u001b[0;36m2\u001b[0m\u001b[0;34m]\u001b[0m\u001b[0;34m+\u001b[0m\u001b[0;36m1\u001b[0m\u001b[0;34m]\u001b[0m\u001b[0;34m.\u001b[0m\u001b[0mshape\u001b[0m\u001b[0;34m\u001b[0m\u001b[0m\n",
        "\u001b[0;31mAttributeError\u001b[0m: 'Window' object has no attribute 'rangeWeights'"
       ]
      },
      {
       "output_type": "stream",
       "stream": "stdout",
       "text": [
        "[38 50 62]\n"
       ]
      }
     ],
     "prompt_number": 145
    },
    {
     "cell_type": "code",
     "collapsed": false,
     "input": [
      "print window.frameRange\n",
      "print np.max(window.rangeWeights)"
     ],
     "language": "python",
     "metadata": {},
     "outputs": [
      {
       "output_type": "stream",
       "stream": "stdout",
       "text": [
        "[38 50 62]\n",
        "3.4\n"
       ]
      }
     ],
     "prompt_number": 133
    },
    {
     "cell_type": "code",
     "collapsed": false,
     "input": [
      "fig = plt.figure()\n",
      "ax = fig.add_subplot(111)\n",
      "ax.imshow(window.filterMat, cmap=cm.jet, interpolation='nearest')\n",
      "\n",
      "numrows, numcols = window.filterMat.shape\n",
      "def format_coord(x, y):\n",
      "    col = int(x+0.5)\n",
      "    row = int(y+0.5)\n",
      "    if col>=0 and col<numcols and row>=0 and row<numrows:\n",
      "        z = window.filterMat[row,col]\n",
      "        return 'x=%1.4f, y=%1.4f, z=%1.4f'%(x, y, z)\n",
      "    else:\n",
      "        return 'x=%1.4f, y=%1.4f'%(x, y)\n",
      "\n",
      "ax.format_coord = format_coord\n",
      "show()\n",
      "print np.min(window.filterMat), np.max(window.filterMat)"
     ],
     "language": "python",
     "metadata": {},
     "outputs": [
      {
       "output_type": "stream",
       "stream": "stdout",
       "text": [
        "0.5 1.4900990099\n"
       ]
      }
     ],
     "prompt_number": 4
    },
    {
     "cell_type": "code",
     "collapsed": false,
     "input": [
      "fig = plt.figure()\n",
      "ax = fig.add_subplot(111)\n",
      "ax.imshow(window.rangeWeights, cmap=cm.jet, interpolation='nearest')\n",
      "\n",
      "numrows, numcols = window.rangeWeights.shape\n",
      "def format_coord(x, y):\n",
      "    col = int(x+0.5)\n",
      "    row = int(y+0.5)\n",
      "    if col>=0 and col<numcols and row>=0 and row<numrows:\n",
      "        z = window.rangeWeights[row,col]\n",
      "        return 'x=%1.4f, y=%1.4f, z=%1.4f'%(x, y, z)\n",
      "    else:\n",
      "        return 'x=%1.4f, y=%1.4f'%(x, y)\n",
      "\n",
      "ax.format_coord = format_coord\n",
      "show()\n",
      "print np.min(window.rangeWeights), np.max(window.rangeWeights)"
     ],
     "language": "python",
     "metadata": {},
     "outputs": [
      {
       "output_type": "stream",
       "stream": "stdout",
       "text": [
        "0.7 1.35\n"
       ]
      }
     ],
     "prompt_number": 17
    },
    {
     "cell_type": "code",
     "collapsed": false,
     "input": [
      "featherLevel = window.featherLevel\n",
      "frameRange = window.frameRange\n",
      "frameRange\n",
      "print featherLevel, frameRange\n",
      "distMat = window.distMat"
     ],
     "language": "python",
     "metadata": {},
     "outputs": [
      {
       "output_type": "stream",
       "stream": "stdout",
       "text": [
        "0.5 [26 30 34]\n"
       ]
      }
     ],
     "prompt_number": 94
    },
    {
     "cell_type": "code",
     "collapsed": false,
     "input": [
      "filterMat = np.zeros(distMat.shape)\n",
      "filterMat[frameRange[0]:frameRange[2]+1, frameRange[0]:frameRange[2]+1] = finalKernel\n",
      "print np.max(distMat)"
     ],
     "language": "python",
     "metadata": {},
     "outputs": [
      {
       "output_type": "stream",
       "stream": "stdout",
       "text": [
        "2716.82908849\n"
       ]
      }
     ],
     "prompt_number": 95
    },
    {
     "cell_type": "code",
     "collapsed": false,
     "input": [
      "kernelLength = np.float(frameRange[1]-frameRange[0])\n",
      "interval = 1.0/(np.floor(kernelLength*featherLevel)+1.0)\n",
      "kernelRange = np.arange(interval, 1.0+interval, interval)\n",
      "kernel = np.hstack((kernelRange, np.ones(np.ceil(kernelLength-kernelLength*featherLevel))))\n",
      "kernel = np.hstack((kernel, kernel[np.arange(len(kernel)-2, -1, -1)]))\n",
      "kernel = np.reshape(kernel, [len(kernel), 1])\n",
      "print kernel, kernel.shape"
     ],
     "language": "python",
     "metadata": {},
     "outputs": [
      {
       "output_type": "stream",
       "stream": "stdout",
       "text": [
        "[[ 0.33333333]\n",
        " [ 0.66666667]\n",
        " [ 1.        ]\n",
        " [ 1.        ]\n",
        " [ 1.        ]\n",
        " [ 1.        ]\n",
        " [ 1.        ]\n",
        " [ 0.66666667]\n",
        " [ 0.33333333]] (9, 1)\n"
       ]
      }
     ],
     "prompt_number": 96
    },
    {
     "cell_type": "code",
     "collapsed": false,
     "input": [
      "filterMat[frameRange[0]:frameRange[2]+1, frameRange[0]:frameRange[2]+1] = finalKernel"
     ],
     "language": "python",
     "metadata": {},
     "outputs": [],
     "prompt_number": 104
    },
    {
     "cell_type": "code",
     "collapsed": false,
     "input": [
      "finalKernel = kernel+kernel.T\n",
      "finalKernel = finalKernel/np.max(finalKernel)\n",
      "figure(); imshow(finalKernel, cmap=cm.Greys_r, interpolation='nearest')\n",
      "figure(); imshow(1.0-finalKernel, cmap=cm.Greys_r, interpolation='nearest')"
     ],
     "language": "python",
     "metadata": {},
     "outputs": [
      {
       "metadata": {},
       "output_type": "pyout",
       "prompt_number": 107,
       "text": [
        "<matplotlib.image.AxesImage at 0x7fc156613250>"
       ]
      }
     ],
     "prompt_number": 107
    },
    {
     "cell_type": "code",
     "collapsed": false,
     "input": [
      "figure(); imshow(window.cumProb, interpolation='nearest')"
     ],
     "language": "python",
     "metadata": {},
     "outputs": [
      {
       "metadata": {},
       "output_type": "pyout",
       "prompt_number": 24,
       "text": [
        "<matplotlib.image.AxesImage at 0x7f7d199b90d0>"
       ]
      }
     ],
     "prompt_number": 24
    },
    {
     "cell_type": "code",
     "collapsed": false,
     "input": [
      "print window.cumProb[18, :]"
     ],
     "language": "python",
     "metadata": {},
     "outputs": [
      {
       "output_type": "stream",
       "stream": "stdout",
       "text": [
        "[  0.00000000e+00   0.00000000e+00   0.00000000e+00   0.00000000e+00\n",
        "   0.00000000e+00   0.00000000e+00   0.00000000e+00   0.00000000e+00\n",
        "   0.00000000e+00   0.00000000e+00   0.00000000e+00   0.00000000e+00\n",
        "   0.00000000e+00   0.00000000e+00   0.00000000e+00   0.00000000e+00\n",
        "   0.00000000e+00   0.00000000e+00   5.25092521e-07   2.14269011e-01\n",
        "   2.14269972e-01   2.14269972e-01   2.14269972e-01   2.14269972e-01\n",
        "   2.14269972e-01   2.14269972e-01   2.14269972e-01   2.14269972e-01\n",
        "   2.14269972e-01   2.14269972e-01   2.14269972e-01   2.14269972e-01\n",
        "   2.14269972e-01   2.14269972e-01   2.14269972e-01   2.14269972e-01\n",
        "   2.14269972e-01   2.14269972e-01   2.14269972e-01   2.14269972e-01\n",
        "   2.14290242e-01   2.14290759e-01   2.14290759e-01   2.14290759e-01\n",
        "   2.14290759e-01   2.14290759e-01   2.14290759e-01   2.14290759e-01\n",
        "   2.14290759e-01   2.14290759e-01   2.14290759e-01   2.14290759e-01\n",
        "   2.14290759e-01   2.14290759e-01   2.14290759e-01   2.14290759e-01\n",
        "   2.14290759e-01]\n"
       ]
      }
     ],
     "prompt_number": 7
    },
    {
     "cell_type": "code",
     "collapsed": false,
     "input": [
      "from mpl_toolkits.mplot3d import Axes3D\n",
      "import matplotlib.animation as animation\n",
      "\n",
      "finalMovie = window.finalMovie\n",
      "\n",
      "## visualize frames automatically\n",
      "\n",
      "def _blit_draw(self, artists, bg_cache):\n",
      "    # Handles blitted drawing, which renders only the artists given instead\n",
      "    # of the entire figure.\n",
      "    updated_ax = []\n",
      "    for a in artists:\n",
      "        # If we haven't cached the background for this axes object, do\n",
      "        # so now. This might not always be reliable, but it's an attempt\n",
      "        # to automate the process.\n",
      "        if a.axes not in bg_cache:\n",
      "            # bg_cache[a.axes] = a.figure.canvas.copy_from_bbox(a.axes.bbox)\n",
      "            # change here\n",
      "            bg_cache[a.axes] = a.figure.canvas.copy_from_bbox(a.axes.figure.bbox)\n",
      "        a.axes.draw_artist(a)\n",
      "        updated_ax.append(a.axes)\n",
      "\n",
      "    # After rendering all the needed artists, blit each axes individually.\n",
      "    for ax in set(updated_ax):\n",
      "        # and here\n",
      "        # ax.figure.canvas.blit(ax.bbox)\n",
      "        ax.figure.canvas.blit(ax.figure.bbox)\n",
      "\n",
      "# MONKEY PATCH!!\n",
      "matplotlib.animation.Animation._blit_draw = _blit_draw\n",
      "\n",
      "fig=plt.figure()\n",
      "img = plt.imshow(np.array(finalMovie[0], dtype=uint8))\n",
      "# img.set_cmap(cm.Greys_r)\n",
      "img.axes.set_axis_off()\n",
      "ax = plt.axes()\n",
      "ttl = ax.text(.5, 1.05, '', transform = ax.transAxes, va='center')\n",
      "\n",
      "def init():\n",
      "    ttl.set_text('')\n",
      "    img.set_data(np.array(finalMovie[0], dtype=uint8))\n",
      "    return img, ttl\n",
      "\n",
      "def func(f):\n",
      "    ttl.set_text('Frame ' + str(f) + ' taken from ')\n",
      "    img.set_data(np.array(finalMovie[f], dtype=uint8))\n",
      "    return img, ttl\n",
      "\n",
      "ani = animation.FuncAnimation(fig,func,init_func=init,frames=len(finalMovie),interval=33,blit=True)\n",
      "\n",
      "# writer = animation.writers['ffmpeg'](fps=30)\n",
      "# ani.save('demoa.mp4', writer=writer,dpi=160, bitrate=100)\n",
      "\n",
      "plt.show()"
     ],
     "language": "python",
     "metadata": {},
     "outputs": [],
     "prompt_number": 4
    },
    {
     "cell_type": "code",
     "collapsed": false,
     "input": [
      "tmp = np.ones((2, 2, 2, 1))\n",
      "tmp[0, :, :, :] = np.reshape([[0, 1], [2, 3]], [2, 2, 1])\n",
      "tmp[1, :, :, :] = np.reshape([[4, 5], [6, 7]], [2, 2, 1])"
     ],
     "language": "python",
     "metadata": {},
     "outputs": [],
     "prompt_number": 48
    },
    {
     "cell_type": "code",
     "collapsed": false,
     "input": [
      "print tmp[0, :, :, :]\n",
      "print tmp[1, :, :, :]"
     ],
     "language": "python",
     "metadata": {},
     "outputs": [
      {
       "output_type": "stream",
       "stream": "stdout",
       "text": [
        "[[[ 0.  4.]]\n",
        "\n",
        " [[ 1.  5.]]]\n",
        "[[[ 2.  6.]]\n",
        "\n",
        " [[ 3.  7.]]]\n"
       ]
      }
     ],
     "prompt_number": 51
    },
    {
     "cell_type": "code",
     "collapsed": false,
     "input": [
      "tmp2 = np.reshape(tmp, (2, 2, 1, 2))\n",
      "tmp2 = np.swapaxes(tmp, 0, 3)"
     ],
     "language": "python",
     "metadata": {},
     "outputs": [],
     "prompt_number": 54
    },
    {
     "cell_type": "code",
     "collapsed": false,
     "input": [
      "print tmp2[:, :, :, 0]\n",
      "print tmp2[:, :, :, 1]"
     ],
     "language": "python",
     "metadata": {},
     "outputs": [
      {
       "output_type": "stream",
       "stream": "stdout",
       "text": [
        "[[[ 0.]\n",
        "  [ 1.]]\n",
        "\n",
        " [[ 4.]\n",
        "  [ 5.]]]\n",
        "[[[ 2.]\n",
        "  [ 3.]]\n",
        "\n",
        " [[ 6.]\n",
        "  [ 7.]]]\n"
       ]
      }
     ],
     "prompt_number": 55
    },
    {
     "cell_type": "code",
     "collapsed": false,
     "input": [
      "%pylab "
     ],
     "language": "python",
     "metadata": {},
     "outputs": [
      {
       "output_type": "stream",
       "stream": "stdout",
       "text": [
        "Using matplotlib backend: TkAgg\n",
        "Populating the interactive namespace from numpy and matplotlib\n"
       ]
      }
     ],
     "prompt_number": 56
    },
    {
     "cell_type": "code",
     "collapsed": false,
     "input": [
      "imshow()"
     ],
     "language": "python",
     "metadata": {},
     "outputs": []
    }
   ],
   "metadata": {}
  }
 ]
}