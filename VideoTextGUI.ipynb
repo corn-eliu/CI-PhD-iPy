{
 "metadata": {
  "name": ""
 },
 "nbformat": 3,
 "nbformat_minor": 0,
 "worksheets": [
  {
   "cells": [
    {
     "cell_type": "code",
     "collapsed": false,
     "input": [
      "%pylab\n",
      "\n",
      "from PIL import Image\n",
      "from PySide import QtCore, QtGui\n",
      "\n",
      "import sys\n",
      "import numpy as np\n",
      "import scipy as sp\n",
      "import scipy.io as sio\n",
      "import time\n",
      "import cv2\n",
      "import re\n",
      "import glob\n",
      "import os\n",
      "import os.path\n",
      "from sklearn.ensemble import ExtraTreesClassifier\n",
      "from sklearn.utils.sparsetools import _graph_tools\n",
      "from sklearn.utils.sparsetools import _graph_validation\n",
      "from sklearn.utils import lgamma\n",
      "\n",
      "import VideoTexturesTabGUI as vttg\n",
      "import PreProcessingTabGUI as pptg\n",
      "import GraphWithValues as gwv\n",
      "import scipy.stats as ss\n",
      "\n",
      "import VideoTexturesUtils as vtu\n",
      "import ComputeDistanceMatrix as cdm\n",
      "\n",
      "dataFolder = \"..\" + os.sep + \"data\" + os.sep\n",
      "\n",
      "app = QtGui.QApplication(sys.argv)"
     ],
     "language": "python",
     "metadata": {},
     "outputs": [
      {
       "output_type": "stream",
       "stream": "stdout",
       "text": [
        "Using matplotlib backend: TkAgg\n",
        "Populating the interactive namespace from numpy and matplotlib\n"
       ]
      }
     ],
     "prompt_number": 1
    },
    {
     "cell_type": "code",
     "collapsed": false,
     "input": [
      "class ImageLabel(QtGui.QLabel) :\n",
      "    \n",
      "    def __init__(self, text, parent=None):\n",
      "        super(ImageLabel, self).__init__(text, parent)\n",
      "        \n",
      "    def setPixmap(self, pixmap) :\n",
      "        if pixmap.width() > self.width() :\n",
      "            super(ImageLabel, self).setPixmap(pixmap.scaledToWidth(self.width()))\n",
      "        else :\n",
      "            super(ImageLabel, self).setPixmap(pixmap)\n",
      "        \n",
      "    def resizeEvent(self, event) :\n",
      "        if self.pixmap() != None :\n",
      "            if self.pixmap().width() > self.width() :\n",
      "                self.setPixmap(self.pixmap().scaledToWidth(self.width()))\n",
      "                \n",
      "                \n",
      "class CustomDockWidget(QtGui.QDockWidget) :\n",
      "    \n",
      "    def __init__(self, parent=None):\n",
      "        super(CustomDockWidget, self).__init__(parent)\n",
      "        \n",
      "        self.setFeatures(~QtGui.QDockWidget.DockWidgetClosable & ~QtGui.QDockWidget.DockWidgetVerticalTitleBar)\n",
      "        \n",
      "        self.isMoving = False\n",
      "        self.prevPos = None\n",
      "        \n",
      "    def mousePressEvent(self, event):\n",
      "        if event.button() == QtCore.Qt.LeftButton and self.isFloating():\n",
      "#             print \"pressed\"\n",
      "            self.isMoving = True\n",
      "            self.prevPos = event.globalPos()\n",
      "        \n",
      "    def mouseReleaseEvent(self, event):\n",
      "        if event.button() == QtCore.Qt.LeftButton:\n",
      "#             print \"released\"\n",
      "            self.isMoving = False\n",
      "            self.prevPos = None\n",
      "        \n",
      "    def mouseMoveEvent(self, event):\n",
      "        if self.prevPos != None and self.isFloating():\n",
      "            # not sure why this is not working\n",
      "#             if not self.isFloating():\n",
      "#                 print \"floated\"\n",
      "#                 self.setFloating(True)\n",
      "#             print \"moved\"\n",
      "            self.move(self.pos()+event.globalPos()-self.prevPos)\n",
      "            self.prevPos = event.globalPos()\n",
      "        "
     ],
     "language": "python",
     "metadata": {},
     "outputs": [],
     "prompt_number": 2
    },
    {
     "cell_type": "code",
     "collapsed": false,
     "input": [
      "class BarGraph(QtGui.QLabel) :\n",
      "    \n",
      "    def __init__(self, text, parent=None):\n",
      "        super(BarGraph, self).__init__(text, parent)\n",
      "        \n",
      "        self.marginSize = 10\n",
      "        \n",
      "        self.bars = []\n",
      "        self.probs = None\n",
      "        self.classClrs = [QtGui.QColor.fromRgb(255, 0, 0), QtGui.QColor.fromRgb(0, 255, 0), QtGui.QColor.fromRgb(0, 0, 255), QtGui.QColor.fromRgb(255, 0, 255)]\n",
      "        \n",
      "    def paintEvent(self, event):\n",
      "        painter = QtGui.QPainter(self)\n",
      "        self.paintBargraph(painter)\n",
      "        \n",
      "    def resizeEvent(self, event):\n",
      "        self.marginSize = np.int(self.width()/25)\n",
      "        self.computeBars()\n",
      "    \n",
      "    def setProbs(self, probs):\n",
      "        self.probs = probs\n",
      "        self.computeBars()\n",
      "        \n",
      "    def computeBars(self):\n",
      "#         print \"he\", self.probs\n",
      "        self.bars = []\n",
      "        if self.probs != None and len(self.probs) > 0 :\n",
      "            barWidth = np.int((self.width()-(self.marginSize*(len(self.probs)-1)))/len(self.probs))\n",
      "            \n",
      "            h = self.height()-self.marginSize\n",
      "            for i in xrange(0, len(self.probs)) :\n",
      "#                 print \"tra\", i*(barWidth+self.marginSize), self.height()-h*self.probs[i], barWidth, h\n",
      "                bar = QtCore.QRect(i*(barWidth+self.marginSize), self.height()-h*self.probs[i], barWidth, h)\n",
      "                self.bars.append(bar)\n",
      "                \n",
      "            self.update()\n",
      "        \n",
      "    def paintBargraph(self, painter):\n",
      "        \n",
      "        for b in xrange(0, len(self.bars)):\n",
      "            ## paint midlines\n",
      "            painter.setPen(QtGui.QPen(QtGui.QColor.fromRgb(192, 192, 192), 1, QtCore.Qt.SolidLine, QtCore.Qt.RoundCap, QtCore.Qt.RoundJoin))\n",
      "            painter.drawLine(QtCore.QPoint(self.bars[b].center().x(), 0), QtCore.QPoint(self.bars[b].center().x(), self.height()))\n",
      "            \n",
      "            ## paint the bar rectangle\n",
      "            painter.setPen(QtGui.QPen(self.classClrs[b], 1, QtCore.Qt.SolidLine, QtCore.Qt.RoundCap, QtCore.Qt.RoundJoin))\n",
      "            painter.setBrush(QtGui.QBrush(self.classClrs[b]))\n",
      "            painter.drawRect(self.bars[b])\n",
      "            \n",
      "            ## paint the text\n",
      "            painter.setPen(QtGui.QPen(QtGui.QColor.fromRgb(0, 0, 0), 1, QtCore.Qt.SolidLine, QtCore.Qt.RoundCap, QtCore.Qt.RoundJoin))\n",
      "            textRect = QtCore.QRect(self.bars[b].left(), 0, self.bars[b].width(), self.height())\n",
      "            painter.drawText(textRect, QtCore.Qt.AlignCenter, np.string_(np.round(self.probs[b]*100, decimals=1)) + \"%\")\n",
      "            \n",
      "        if len(self.bars) < 1:\n",
      "            painter.setPen(QtGui.QPen(QtGui.QColor.fromRgb(0, 0, 0), 1, QtCore.Qt.SolidLine, QtCore.Qt.RoundCap, QtCore.Qt.RoundJoin))\n",
      "            painter.drawText(self.rect(), QtCore.Qt.AlignCenter, self.text())\n",
      "            \n",
      "        ## draw axes\n",
      "        painter.setPen(QtGui.QPen(QtGui.QColor.fromRgb(0, 0, 0), 1, QtCore.Qt.SolidLine, QtCore.Qt.RoundCap, QtCore.Qt.RoundJoin))\n",
      "        ## x axis\n",
      "        painter.drawLine(QtCore.QPoint(0, self.height()-1), QtCore.QPoint(self.width()-1, self.height()-1))\n",
      "        ## y axis\n",
      "        painter.drawLine(QtCore.QPoint(0, 0), QtCore.QPoint(0, self.height()-1))\n",
      "        "
     ],
     "language": "python",
     "metadata": {},
     "outputs": [],
     "prompt_number": 3
    },
    {
     "cell_type": "code",
     "collapsed": false,
     "input": [
      "class LineGraph(QtGui.QLabel) :\n",
      "    \n",
      "    def __init__(self, text, parent=None):\n",
      "        super(LineGraph, self).__init__(text, parent)\n",
      "        \n",
      "        self.polylines = []\n",
      "        self.numClasses = 0\n",
      "        self.dataPoints = 0\n",
      "        self.currentFrame = 0\n",
      "        self.xPoints = 0\n",
      "        self.yPoints = 100\n",
      "        self.transform = QtGui.QMatrix()\n",
      "        self.classClrs = [QtGui.QColor.fromRgb(255, 0, 0), QtGui.QColor.fromRgb(0, 255, 0), QtGui.QColor.fromRgb(0, 0, 255), QtGui.QColor.fromRgb(255, 0, 255)]\n",
      "        \n",
      "    def paintEvent(self, event):\n",
      "        painter = QtGui.QPainter(self)\n",
      "        self.paintLinegraph(painter)\n",
      "    \n",
      "    def setProbs(self, probs, idxCorrection):\n",
      "        self.numClasses = probs.shape[-1]\n",
      "        self.dataPoints = probs.shape[0]\n",
      "        self.xPoints = self.dataPoints+idxCorrection*2\n",
      "        self.polylines = []\n",
      "        for i in xrange(0, self.numClasses) :\n",
      "            if self.dataPoints > 0 :\n",
      "                self.polylines.append(QtGui.QPolygonF())\n",
      "                for j in xrange(0, self.dataPoints) :\n",
      "                    ## need to do 1.0- for the y axis because in numpy y goes bottom to top and in qt it goes top to bottom\n",
      "                    self.polylines[i].append(QtCore.QPointF(np.float(j+idxCorrection), (1.0-probs[j, i])*self.yPoints))\n",
      "    \n",
      "        self.updateTransform()\n",
      "        self.update()\n",
      "    \n",
      "    def updateTransform(self) :\n",
      "        if self.xPoints > 0 :\n",
      "            self.transform = QtGui.QMatrix()\n",
      "            self.transform = self.transform.scale(np.float(self.width())/np.float(self.xPoints), np.float(self.height())/np.float(self.yPoints))\n",
      "    \n",
      "    def setCurrentFrame(self, currentFrame):\n",
      "        self.currentFrame = currentFrame\n",
      "        self.update()\n",
      "        \n",
      "    def resizeEvent(self, event):\n",
      "        self.updateTransform()\n",
      "        \n",
      "    def paintLinegraph(self, painter):\n",
      "        if self.xPoints > 0 :\n",
      "            ## draw currentFrame line\n",
      "            painter.setPen(QtGui.QPen(QtGui.QColor.fromRgb(192, 192, 192), 1, QtCore.Qt.SolidLine, QtCore.Qt.RoundCap, QtCore.Qt.RoundJoin))\n",
      "            ratio = np.float(self.width())/np.float(self.xPoints)\n",
      "            painter.drawLine(QtCore.QPoint(np.float(self.currentFrame)*ratio, 0), QtCore.QPoint(np.float(self.currentFrame)*ratio, self.height()))\n",
      "            \n",
      "        if self.dataPoints > 0 and self.numClasses > 0 :\n",
      "            for p in xrange(0, self.numClasses):\n",
      "                ## paint the polyline for current class probabilities\n",
      "                painter.setPen(QtGui.QPen(self.classClrs[p], 1, QtCore.Qt.SolidLine, QtCore.Qt.RoundCap, QtCore.Qt.RoundJoin))\n",
      "                painter.drawPolyline(self.transform.map(self.polylines[p]))\n",
      "        else :\n",
      "            painter.setPen(QtGui.QPen(QtGui.QColor.fromRgb(0, 0, 0), 1, QtCore.Qt.SolidLine, QtCore.Qt.RoundCap, QtCore.Qt.RoundJoin))\n",
      "            painter.drawText(self.rect(), QtCore.Qt.AlignCenter, self.text())\n",
      "            \n",
      "        ## draw axes\n",
      "        painter.setPen(QtGui.QPen(QtGui.QColor.fromRgb(0, 0, 0), 1, QtCore.Qt.SolidLine, QtCore.Qt.RoundCap, QtCore.Qt.RoundJoin))\n",
      "        ## x axis\n",
      "        painter.drawLine(QtCore.QPoint(0, self.height()-1), QtCore.QPoint(self.width()-1, self.height()-1))\n",
      "        ## y axis\n",
      "        painter.drawLine(QtCore.QPoint(0, 0), QtCore.QPoint(0, self.height()-1))\n",
      "        "
     ],
     "language": "python",
     "metadata": {},
     "outputs": [],
     "prompt_number": 4
    },
    {
     "cell_type": "code",
     "collapsed": false,
     "input": [
      "class ScatterGraph(QtGui.QLabel) :\n",
      "    \n",
      "    def __init__(self, text, parent=None):\n",
      "        super(ScatterGraph, self).__init__(text, parent)\n",
      "        \n",
      "        self.points = []\n",
      "        self.numClasses = 0\n",
      "        self.currentFrame = 0\n",
      "        self.dataPoints = 0\n",
      "        self.idxCorrection = 0\n",
      "        self.transform = QtGui.QMatrix()\n",
      "        self.classClrs = [QtGui.QColor.fromRgb(255, 0, 0), QtGui.QColor.fromRgb(0, 255, 0), QtGui.QColor.fromRgb(0, 0, 255), QtGui.QColor.fromRgb(255, 0, 255)]\n",
      "        \n",
      "    def paintEvent(self, event):\n",
      "        painter = QtGui.QPainter(self)\n",
      "        self.paintScattergraph(painter)\n",
      "    \n",
      "    def setPoints(self, scatterPoints, labels, idxCorrection):\n",
      "        self.scatterPoints = np.copy(scatterPoints)\n",
      "        ## normalize the scatterPoints to fit the full label canvas\n",
      "        self.scatterPoints[0, :] = (self.scatterPoints[0, :]-np.min(self.scatterPoints[0, :]))/(np.max(self.scatterPoints[0, :])-np.min(self.scatterPoints[0, :]))\n",
      "        ## need to do 1.0- for the y axis because in numpy y goes bottom to top and in qt it goes top to bottom\n",
      "        self.scatterPoints[1, :] = 1.0-((self.scatterPoints[1, :]-np.min(self.scatterPoints[1, :]))/(np.max(self.scatterPoints[1, :])-np.min(self.scatterPoints[1, :])))\n",
      "        self.labels = labels\n",
      "        self.dataPoints = self.scatterPoints.shape[-1]\n",
      "        self.numClasses = len(self.labels)\n",
      "        self.idxCorrection = idxCorrection\n",
      "        self.points = []\n",
      "        for i in xrange(0, self.numClasses) :\n",
      "            if len(self.labels[i]) > 0 :\n",
      "                self.points.append(QtGui.QPolygonF())\n",
      "                for j in xrange(0, len(self.labels[i])) :\n",
      "                    self.points[i].append(QtCore.QPointF(np.float(self.scatterPoints[0, self.labels[i][j]]), np.float(self.scatterPoints[1, self.labels[i][j]])))\n",
      "    \n",
      "        self.updateTransform()\n",
      "        self.update()\n",
      "    \n",
      "    def updateTransform(self) :\n",
      "        if self.dataPoints > 0 :\n",
      "            self.transform = QtGui.QMatrix()\n",
      "            self.transform = self.transform.scale(np.float(self.width()), np.float(self.height()))\n",
      "            sys.stdout.flush()\n",
      "    \n",
      "    def setCurrentFrame(self, currentFrame):\n",
      "        self.currentFrame = currentFrame - self.idxCorrection\n",
      "        self.update()\n",
      "        \n",
      "    def resizeEvent(self, event):\n",
      "        self.updateTransform()\n",
      "        \n",
      "    def paintScattergraph(self, painter):\n",
      "            \n",
      "        if self.dataPoints > 0 and self.numClasses > 0 :\n",
      "            for p in xrange(0, self.numClasses):\n",
      "                ## paint the points for current class\n",
      "                painter.setPen(QtGui.QPen(self.classClrs[p], len(np.string_(self.width())), QtCore.Qt.SolidLine, QtCore.Qt.RoundCap, QtCore.Qt.RoundJoin))\n",
      "                painter.drawPoints(self.transform.map(self.points[p]))\n",
      "        else :\n",
      "            painter.setPen(QtGui.QPen(QtGui.QColor.fromRgb(0, 0, 0), 1, QtCore.Qt.SolidLine, QtCore.Qt.RoundCap, QtCore.Qt.RoundJoin))\n",
      "            painter.drawText(self.rect(), QtCore.Qt.AlignCenter, self.text())\n",
      "            \n",
      "        if self.currentFrame >= 0 and self.currentFrame < self.dataPoints:\n",
      "#             ## draw currentFrame circle\n",
      "            painter.setPen(QtGui.QPen(QtGui.QColor.fromRgb(0, 0, 0), 1, QtCore.Qt.SolidLine, QtCore.Qt.RoundCap, QtCore.Qt.RoundJoin))\n",
      "            painter.drawEllipse(self.transform.map(QtCore.QPointF(np.float(self.scatterPoints[0, self.currentFrame]), \n",
      "                                                                  np.float(self.scatterPoints[1, self.currentFrame]))), \n",
      "                                len(np.string_(self.width())), len(np.string_(self.width())))\n",
      "            \n",
      "        ## draw axes\n",
      "        painter.setPen(QtGui.QPen(QtGui.QColor.fromRgb(0, 0, 0), 1, QtCore.Qt.SolidLine, QtCore.Qt.RoundCap, QtCore.Qt.RoundJoin))\n",
      "        ## x axis\n",
      "        painter.drawLine(QtCore.QPoint(0, self.height()-1), QtCore.QPoint(self.width()-1, self.height()-1))\n",
      "        ## y axis\n",
      "        painter.drawLine(QtCore.QPoint(0, 0), QtCore.QPoint(0, self.height()-1))\n",
      "        "
     ],
     "language": "python",
     "metadata": {},
     "outputs": [],
     "prompt_number": 5
    },
    {
     "cell_type": "code",
     "collapsed": false,
     "input": [
      "class LabelViewerGroup(QtGui.QGroupBox):\n",
      "\n",
      "    def __init__(self, title, parent=None):\n",
      "        super(LabelViewerGroup, self).__init__(title, parent)\n",
      "        \n",
      "        self.createGUI()\n",
      "        \n",
      "    def setCurrentFrame(self, frame):\n",
      "        self.imageLabel.setFixedSize(frame.shape[1], frame.shape[0])\n",
      "        \n",
      "        im = np.ascontiguousarray(frame)\n",
      "        qim = QtGui.QImage(im.data, im.shape[1], im.shape[0], im.strides[0], QtGui.QImage.Format_RGB888);\n",
      "            \n",
      "        self.imageLabel.setPixmap(QtGui.QPixmap.fromImage(qim))\n",
      "\n",
      "    def setValue(self, value):\n",
      "        self.slider.setValue(value)\n",
      "        self.classesProbsGraph.setCurrentFrame(value)\n",
      "        self.labelsMapGraph.setCurrentFrame(value)\n",
      "\n",
      "    def setMinimum(self, value):\n",
      "        self.slider.setMinimum(value)\n",
      "        self.frameSpinBox.setMinimum(value)\n",
      "\n",
      "    def setMaximum(self, value):\n",
      "        self.slider.setMaximum(value)\n",
      "        self.frameSpinBox.setMaximum(value)\n",
      "        \n",
      "    def setFrameLabel(self, label):\n",
      "        if label == 0 :\n",
      "            self.imageGroup.setStyleSheet(\"background-color: red\")\n",
      "        elif label == 1 :\n",
      "            self.imageGroup.setStyleSheet(\"background-color: green\")\n",
      "        elif label == 2 :\n",
      "            self.imageGroup.setStyleSheet(\"background-color: blue\")\n",
      "        elif label == 3 :\n",
      "            self.imageGroup.setStyleSheet(\"background-color: magenta\")\n",
      "        else :\n",
      "            self.imageGroup.setStyleSheet(\"\")\n",
      "    \n",
      "    def setFrameLabelProbs(self, labelProbs):\n",
      "        self.labelProbsGraph.setProbs(labelProbs)\n",
      "    \n",
      "    def setClassesProbs(self, classesProbs, idxCorrection):\n",
      "        self.classesProbsGraph.setProbs(classesProbs, idxCorrection)\n",
      "#         self.classesProbsGraph.setCurrentFrame(self.slider.value())\n",
      "    \n",
      "    def setLabelMap(self, mapPoints, labeledPoints, idxCorrection):\n",
      "        self.labelsMapGraph.setPoints(mapPoints, labeledPoints, idxCorrection)\n",
      "#         self.labelsMapGraph.setCurrentFrame(self.slider.value())\n",
      "        \n",
      "    def createGUI(self):\n",
      "        \n",
      "        self.setStyleSheet(\"QGroupBox { margin: 5px; border: 2px groove gray; border-radius: 3px; } QGroupBox::title {left: 15px; top: -7px; font: bold;}\")\n",
      "        self.setSizePolicy(QtGui.QSizePolicy.MinimumExpanding, QtGui.QSizePolicy.MinimumExpanding)\n",
      "\n",
      "        ## WIDGETS ##\n",
      "        self.imageLabel = ImageLabel(\"Current Frame\")\n",
      "        self.imageLabel.setAlignment(QtCore.Qt.AlignCenter)\n",
      "        self.imageGroup = QtGui.QGroupBox()\n",
      "        self.imageGroup.setSizePolicy(QtGui.QSizePolicy.Minimum, QtGui.QSizePolicy.Minimum)\n",
      "        imageLayout = QtGui.QVBoxLayout()\n",
      "        imageLayout.addWidget(self.imageLabel)\n",
      "        self.imageGroup.setLayout(imageLayout)\n",
      "        self.imageGroup.setMinimumSize(200, 200)\n",
      "        \n",
      "        self.labelProbsGraph = BarGraph(\"Label probabilities\")\n",
      "        self.labelProbsGraph.setMinimumHeight(150)\n",
      "        self.labelProbsGraph.setAlignment(QtCore.Qt.AlignCenter)\n",
      "        \n",
      "        self.classesProbsGraph = LineGraph(\"Class probabilities\")\n",
      "        self.classesProbsGraph.setMinimumHeight(150)\n",
      "        self.classesProbsGraph.setAlignment(QtCore.Qt.AlignCenter)\n",
      "        self.classesProbsGraph.setSizePolicy(QtGui.QSizePolicy.MinimumExpanding, QtGui.QSizePolicy.Minimum)\n",
      "        \n",
      "        self.labelsMapGraph = ScatterGraph(\"Labels Map\")\n",
      "        self.labelsMapGraph.setMinimumHeight(150)\n",
      "        self.labelsMapGraph.setAlignment(QtCore.Qt.AlignCenter)\n",
      "        self.labelsMapGraph.setSizePolicy(QtGui.QSizePolicy.MinimumExpanding, QtGui.QSizePolicy.MinimumExpanding)\n",
      "        \n",
      "        self.slider = QtGui.QSlider(QtCore.Qt.Horizontal)\n",
      "        self.slider.setSizePolicy(QtGui.QSizePolicy.MinimumExpanding, QtGui.QSizePolicy.Minimum)\n",
      "        self.slider.setFocusPolicy(QtCore.Qt.StrongFocus)\n",
      "        self.slider.setTickPosition(QtGui.QSlider.TicksBothSides)\n",
      "        self.slider.setMaximum(0)\n",
      "        self.slider.setMinimum(0)\n",
      "        self.slider.setTickInterval(10)\n",
      "        self.slider.setSingleStep(1)\n",
      "        style = \"QSlider::handle:horizontal { background: #000000; width: 4px; \"\n",
      "        style += \"border-radius: 3px; } QSlider {border: 1px solid gray;}\"\n",
      "        style += \"QSlider::groove:horizontal {background: #eeeeee;}\"\n",
      "        self.slider.setStyleSheet(style)\n",
      "    \n",
      "        self.frameSpinBox = QtGui.QSpinBox()\n",
      "        self.frameSpinBox.setRange(0, 0)\n",
      "        self.frameSpinBox.setSingleStep(1)\n",
      "        \n",
      "        \n",
      "        ## SIGNALS ##\n",
      "        self.slider.valueChanged[int].connect(self.frameSpinBox.setValue)\n",
      "        self.frameSpinBox.valueChanged[int].connect(self.setValue)\n",
      "        \n",
      "        \n",
      "        ## LAYOUTS ##\n",
      "        labelsLayout = QtGui.QHBoxLayout()\n",
      "        labelsLayout.addStretch()\n",
      "        vertLayout = QtGui.QVBoxLayout()\n",
      "        vertLayout.addStretch()\n",
      "        vertLayout.addWidget(self.imageGroup)\n",
      "        vertLayout.addWidget(self.labelProbsGraph)\n",
      "        vertLayout.addStretch()\n",
      "        labelsLayout.addLayout(vertLayout)\n",
      "        labelsLayout.addStretch()\n",
      "        \n",
      "        navLayout = QtGui.QHBoxLayout()\n",
      "        navLayout.addWidget(self.slider)\n",
      "        navLayout.addWidget(self.frameSpinBox)\n",
      "        \n",
      "        mainLayout = QtGui.QVBoxLayout()\n",
      "#         mainLayout.addStretch()\n",
      "        mainLayout.addLayout(labelsLayout)\n",
      "#         mainLayout.addStretch()\n",
      "        mainLayout.addWidget(self.classesProbsGraph)\n",
      "        mainLayout.addWidget(self.labelsMapGraph)\n",
      "        mainLayout.addLayout(navLayout)\n",
      "        \n",
      "        \n",
      "        self.setLayout(mainLayout)"
     ],
     "language": "python",
     "metadata": {},
     "outputs": [],
     "prompt_number": 6
    },
    {
     "cell_type": "code",
     "collapsed": false,
     "input": [
      "class LabellingTab(QtGui.QWidget):\n",
      "    def __init__(self, mainWindow, parent=None):\n",
      "        super(LabellingTab, self).__init__(parent)\n",
      "        \n",
      "        self.mainWindow = mainWindow\n",
      "        self.labeledPoints = None\n",
      "        self.labelProbs = None\n",
      "        self.mapPoints = None\n",
      "        self.predictedLabels = None\n",
      "        self.idxCorrection = None\n",
      "        \n",
      "        self.createGUI()\n",
      "        \n",
      "        self.lockGUI(True)\n",
      "        \n",
      "    def lockGUI(self, lock):\n",
      "        \n",
      "        self.labelViewerGroupLeft.slider.setEnabled(not lock)\n",
      "        self.labelViewerGroupLeft.frameSpinBox.setEnabled(not lock)\n",
      "        \n",
      "        self.labelViewerGroupRight.slider.setEnabled(not lock)\n",
      "        self.labelViewerGroupRight.frameSpinBox.setEnabled(not lock)\n",
      "        \n",
      "        self.loadLabelsButton.setEnabled(not lock)\n",
      "        self.loadMapButton.setEnabled(not lock)\n",
      "        \n",
      "    def setLoadedMovie(self, movie, frameNames, dataLocation, downsampleFactor) :\n",
      "        self.movie = movie\n",
      "        self.frameNames = frameNames\n",
      "        self.dataLocation = dataLocation\n",
      "        self.downsampleFactor = downsampleFactor\n",
      "        \n",
      "        self.labelViewerGroupLeft.setMaximum(self.movie.shape[-1]-1)\n",
      "        self.labelViewerGroupLeft.setValue(0)\n",
      "        \n",
      "        self.labelViewerGroupRight.setMaximum(self.movie.shape[-1]-1)\n",
      "        self.labelViewerGroupRight.setValue(0)\n",
      "            \n",
      "        self.showFrameLeft(0)\n",
      "        self.showFrameRight(0)\n",
      "    \n",
      "    def loadLabels(self) :\n",
      "        fileName, _ = QtGui.QFileDialog.getOpenFileName(self, \"Load Propagated Labels\", \n",
      "            QtCore.QDir.currentPath()+os.sep+dataFolder, \"Labels(*labels.npy)\")\n",
      "        if fileName :\n",
      "            \n",
      "            labelData = np.load(fileName)[()]\n",
      "            if \"labeledPoints\" in labelData.keys() and \"labelProbs\" in labelData.keys() :\n",
      "                self.loadedLabelsLabel.setText(fileName.split(os.sep)[-1])\n",
      "                \n",
      "                self.labeledPoints = labelData[\"labeledPoints\"]\n",
      "                self.labelProbs = labelData[\"labelProbs\"]\n",
      "                self.idxCorrection = np.int((self.movie.shape[-1]-self.labelProbs.shape[0])/2)\n",
      "                # need to correct for idx due to filtering\n",
      "                self.labeledPoints += self.idxCorrection\n",
      "                \n",
      "                self.labelViewerGroupLeft.setClassesProbs(self.labelProbs, self.idxCorrection)\n",
      "                self.labelViewerGroupRight.setClassesProbs(self.labelProbs, self.idxCorrection)\n",
      "                \n",
      "                ## refresh viewers in case frame has been changed before loading labels\n",
      "                self.showFrameLeft(self.labelViewerGroupLeft.slider.value())\n",
      "                self.showFrameRight(self.labelViewerGroupRight.slider.value())\n",
      "            else :\n",
      "                QtGui.QMessageBox.warning(self, \"The selected file is not valid\",\n",
      "                            \"<p align='center'>The propagated labels file does not contain the necessary data.<br>\"\n",
      "                            \"Please select a valid file.</p>\")\n",
      "    \n",
      "    def loadMap(self) :\n",
      "        fileName, _ = QtGui.QFileDialog.getOpenFileName(self, \"Load Labels Map\", \n",
      "            QtCore.QDir.currentPath()+os.sep+dataFolder, \"Maps(*map.npy)\")\n",
      "        if fileName :\n",
      "            \n",
      "            mapData = np.load(fileName)[()]\n",
      "            if \"mapPoints\" in mapData.keys() and \"predictedLabels\" in mapData.keys() :\n",
      "                self.loadedMapLabel.setText(fileName.split(os.sep)[-1])\n",
      "                \n",
      "                self.mapPoints = mapData[\"mapPoints\"]\n",
      "                self.predictedLabels = mapData[\"predictedLabels\"]\n",
      "                self.idxCorrection = np.int((self.movie.shape[-1]-self.mapPoints.shape[-1])/2)\n",
      "                \n",
      "                self.labelViewerGroupLeft.setLabelMap(self.mapPoints, self.predictedLabels, self.idxCorrection)\n",
      "                self.labelViewerGroupRight.setLabelMap(self.mapPoints, self.predictedLabels, self.idxCorrection)\n",
      "                \n",
      "                ## refresh viewers in case frame has been changed before loading map\n",
      "                self.showFrameLeft(self.labelViewerGroupLeft.slider.value())\n",
      "                self.showFrameRight(self.labelViewerGroupRight.slider.value())\n",
      "                \n",
      "            else :\n",
      "                QtGui.QMessageBox.warning(self, \"The selected file is not valid\",\n",
      "                            \"<p align='center'>The labels map file does not contain the necessary data.<br>\"\n",
      "                            \"Please select a valid file.</p>\")\n",
      "    \n",
      "    def showFrameLeft(self, idx) :\n",
      "        self.showFrame(idx, 1)\n",
      "        \n",
      "    def showFrameRight(self, idx) :\n",
      "        self.showFrame(idx, 2)\n",
      "        \n",
      "    def showFrame(self, idx, which) :\n",
      "        if idx >= 0 and idx < self.movie.shape[-1] :\n",
      "            label = -1\n",
      "            if self.labeledPoints != None and idx in self.labeledPoints :\n",
      "                label = np.ndarray.flatten(np.argwhere(self.labeledPoints == idx))[0]\n",
      "                \n",
      "            labelProbs = None\n",
      "            if self.labelProbs != None and idx-self.idxCorrection >=0 and idx-self.idxCorrection < self.labelProbs.shape[0] :\n",
      "                labelProbs = self.labelProbs[idx-self.idxCorrection, :]\n",
      "                \n",
      "            if which == 1 :\n",
      "                self.labelViewerGroupLeft.setCurrentFrame(self.movie[:, :, :, idx])\n",
      "                self.labelViewerGroupLeft.setFrameLabel(label)\n",
      "                self.labelViewerGroupLeft.setFrameLabelProbs(labelProbs)\n",
      "            elif which == 2 :\n",
      "                self.labelViewerGroupRight.setCurrentFrame(self.movie[:, :, :, idx])\n",
      "                self.labelViewerGroupRight.setFrameLabel(label)\n",
      "                self.labelViewerGroupRight.setFrameLabelProbs(labelProbs)\n",
      "        \n",
      "    def createGUI(self) :\n",
      "                \n",
      "        ## WIDGETS ##\n",
      "\n",
      "        self.labelViewerGroupLeft = LabelViewerGroup(\"Labelling Area 1\")\n",
      "        self.labelViewerGroupRight = LabelViewerGroup(\"Labelling Area 2\")\n",
      "        \n",
      "        labelViewerGroupLeftDock = CustomDockWidget()\n",
      "        labelViewerGroupLeftDock.setWidget(self.labelViewerGroupLeft)\n",
      "        labelViewerGroupRightDock = CustomDockWidget()\n",
      "        labelViewerGroupRightDock.setWidget(self.labelViewerGroupRight)\n",
      "        \n",
      "        self.loadedLabelsLabel = QtGui.QLabel(\"No Loaded Labels\")\n",
      "        self.loadedMapLabel = QtGui.QLabel(\"No Loaded Map\")\n",
      "        \n",
      "        self.loadLabelsButton = QtGui.QPushButton(\"Load Labels\")\n",
      "        self.loadMapButton = QtGui.QPushButton(\"Load Map\")\n",
      "        \n",
      "        labellingControlsBox = QtGui.QGroupBox(\"Labelling Controls\")\n",
      "        labellingControlsBox.setStyleSheet(\"QGroupBox { margin: 5px; border: 2px groove gray; border-radius: 3px; } QGroupBox::title {left: 15px; top: -7px; font: bold;}\")\n",
      "        \n",
      "        loadLabelsControlsBox = QtGui.QGroupBox(\"Loaded Labels\")\n",
      "        loadLabelsControlsBox.setStyleSheet(\"QGroupBox { margin: 5px; border: 2px groove gray; border-radius: 3px; } QGroupBox::title {left: 15px; top: -7px; font: bold;}\")\n",
      "        \n",
      "        loadMapControlsBox = QtGui.QGroupBox(\"Loaded Map\")\n",
      "        loadMapControlsBox.setStyleSheet(\"QGroupBox { margin: 5px; border: 2px groove gray; border-radius: 3px; } QGroupBox::title {left: 15px; top: -7px; font: bold;}\")\n",
      "                \n",
      "        ## SIGNALS ##\n",
      "        \n",
      "        self.labelViewerGroupLeft.frameSpinBox.valueChanged[int].connect(self.showFrameLeft)\n",
      "        self.labelViewerGroupRight.frameSpinBox.valueChanged[int].connect(self.showFrameRight)\n",
      "        \n",
      "        self.loadLabelsButton.clicked.connect(self.loadLabels)\n",
      "        self.loadMapButton.clicked.connect(self.loadMap)\n",
      "        \n",
      "        ## LAYOUTS ##\n",
      "        labellingControlsBoxLayout = QtGui.QVBoxLayout()\n",
      "\n",
      "        loadLabelsControlsBoxLayout = QtGui.QVBoxLayout()\n",
      "        loadLabelsControlsBoxLayout.addWidget(self.loadedLabelsLabel)\n",
      "        loadLabelsControlsBoxLayout.addWidget(self.loadLabelsButton)\n",
      "        loadLabelsControlsBox.setLayout(loadLabelsControlsBoxLayout)\n",
      "        \n",
      "        loadMapControlsBoxLayout = QtGui.QVBoxLayout()\n",
      "        loadMapControlsBoxLayout.addWidget(self.loadedMapLabel)\n",
      "        loadMapControlsBoxLayout.addWidget(self.loadMapButton)\n",
      "        loadMapControlsBox.setLayout(loadMapControlsBoxLayout)\n",
      "        \n",
      "        labellingControlsBoxLayout.addStretch()\n",
      "        labellingControlsBoxLayout.addWidget(loadLabelsControlsBox)\n",
      "        labellingControlsBoxLayout.addWidget(loadMapControlsBox)\n",
      "        labellingControlsBoxLayout.addStretch()\n",
      "        labellingControlsBox.setLayout(labellingControlsBoxLayout)\n",
      "        \n",
      "        mainLayout = QtGui.QHBoxLayout()\n",
      "        mainLayout.addWidget(labellingControlsBox)\n",
      "#         self.mainWindow.addDockWidget(QtCore.Qt.LeftDockWidgetArea, labelViewerGroupLeftDock)\n",
      "        mainLayout.addWidget(labelViewerGroupLeftDock)\n",
      "        mainLayout.addWidget(labelViewerGroupRightDock)\n",
      "        self.setLayout(mainLayout)\n"
     ],
     "language": "python",
     "metadata": {},
     "outputs": [],
     "prompt_number": 7
    },
    {
     "cell_type": "code",
     "collapsed": false,
     "input": [
      "class Window(QtGui.QWidget):\n",
      "    def __init__(self):\n",
      "        super(Window, self).__init__()\n",
      "        \n",
      "        self.createGUI()\n",
      "        \n",
      "        self.showLoading(False)\n",
      "        \n",
      "        self.setWindowTitle(\"Video Textures GUI\")\n",
      "        self.resize(1920, 750)\n",
      "        \n",
      "        self.readyForVT = False\n",
      "        self.firstLoad = True\n",
      "        self.dataLocation = \"\"\n",
      "        \n",
      "    def openVideo(self):\n",
      "        fileName, _ = QtGui.QFileDialog.getOpenFileName(self, \"Open Video File\",\n",
      "                QtCore.QDir.currentPath()+os.sep+dataFolder)\n",
      "        if fileName :\n",
      "            self.dataLocation = fileName\n",
      "            self.lockGUI(True)\n",
      "            self.showLoading(True)\n",
      "\n",
      "            self.loadingLabel.setText(\"Loading video...\")\n",
      "            self.loadingText = self.loadingLabel.text()\n",
      "            QtCore.QCoreApplication.processEvents()\n",
      "            \n",
      "            cap = cv2.VideoCapture(fileName)\n",
      "            \n",
      "            numFrames = 0\n",
      "            while(cap.isOpened()):\n",
      "                ret, frame = cap.read()\n",
      "                if ret==True:\n",
      "                    numFrames += 1\n",
      "                    frameSize = frame.shape\n",
      "                    k = cv2.waitKey(30)\n",
      "                    \n",
      "                    sys.stdout.write('\\r' + \"Frame count: \" + np.string_(numFrames))\n",
      "                    sys.stdout.flush()\n",
      "                    self.loadingLabel.setText(self.loadingText+\"\\nframe count: \" + np.string_(numFrames))\n",
      "                    QtCore.QCoreApplication.processEvents()\n",
      "                else:\n",
      "                    break\n",
      "            \n",
      "            # Release everything if job is finished\n",
      "            cap.release()\n",
      "            print\n",
      "            self.loadingText = self.loadingLabel.text()\n",
      "            cap = cv2.VideoCapture(fileName)\n",
      "            self.movie = np.zeros(np.hstack([frameSize, numFrames]))\n",
      "            i = 0\n",
      "            while(cap.isOpened()):\n",
      "                ret, frame = cap.read()\n",
      "                if ret==True:\n",
      "                    self.movie[:, :, :, i] = frame\n",
      "                    k = cv2.waitKey(30)\n",
      "                    \n",
      "                    sys.stdout.write('\\r' + \"Frames read: \" + np.string_(i) + \" of \" + np.string_(numFrames))\n",
      "                    sys.stdout.flush()\n",
      "                    self.loadingLabel.setText(self.loadingText+\"\\nframes read: \" + np.string_(i) + \" of \" + np.string_(numFrames))\n",
      "                    QtCore.QCoreApplication.processEvents() \n",
      "                    \n",
      "                    i += 1\n",
      "                else:\n",
      "                    break\n",
      "            \n",
      "            # Release everything if job is finished\n",
      "            cap.release()\n",
      "            \n",
      "            self.videoTexturesTab.setLoadedMovie(self.movie)\n",
      "            \n",
      "            self.lockGUI(False)\n",
      "            self.showLoading(False)\n",
      "    \n",
      "    def openSequence(self):\n",
      "        self.frameNames = np.array(QtGui.QFileDialog.getOpenFileNames(self, \"Open Sequence\", \n",
      "                    QtCore.QDir.currentPath()+os.sep+dataFolder, \"Images(*.png)\")[0])\n",
      "        if len(self.frameNames) > 1 :\n",
      "#             self.dataLocation = '\\\\'.join(filter(None, self.frameNames[0].split('\\\\'))[0:-1])\n",
      "            self.dataLocation = os.sep.join(filter(None, self.frameNames[0].split(os.sep))[0:-1])\n",
      "            if os.sep == \"/\" :\n",
      "                self.dataLocation = os.sep + self.dataLocation \n",
      "            self.lockGUI(True)\n",
      "            self.showLoading(True)\n",
      "\n",
      "            self.loadingLabel.setText(\"Loading set of frames...\")\n",
      "            self.loadingText = self.loadingLabel.text()\n",
      "            QtCore.QCoreApplication.processEvents()\n",
      "\n",
      "            ## sort frame names\n",
      "            self.frameNames = np.sort(self.frameNames)\n",
      "            self.downsampleFactor = 1\n",
      "            if len(self.frameNames) > 0 :\n",
      "                frameSize = cv2.imread(self.frameNames[0]).shape\n",
      "                requiredSpace = 2.0*(np.prod(frameSize)*float(len(self.frameNames)))/(1024**3) ## GB\n",
      "                maxSpace = 2\n",
      "                if requiredSpace > maxSpace :\n",
      "                    self.downsampleFactor = 2 + np.argmin(np.abs(maxSpace-requiredSpace/np.arange(2.0, 6.0)))\n",
      "                    print \"Downsample Factor of\", self.downsampleFactor\n",
      "                    \n",
      "                if self.downsampleFactor < 2 and frameSize[0]*3 > 1920 :\n",
      "                    self.downsampleFactor = 3\n",
      "                    \n",
      "                if self.downsampleFactor > 1 :\n",
      "                    self.movie = np.zeros(np.hstack([frameSize[0]/self.downsampleFactor, frameSize[1]/self.downsampleFactor, frameSize[2], len(self.frameNames)]), dtype=np.uint8)\n",
      "                else :\n",
      "                    self.movie = np.zeros(np.hstack([frameSize[0], frameSize[1], frameSize[2], len(self.frameNames)]), dtype=np.uint8)\n",
      "                \n",
      "                for i in range(0, len(self.frameNames)) :\n",
      "                    im = Image.open(self.frameNames[i])\n",
      "                    if self.downsampleFactor > 1 :\n",
      "                        im = im.resize(np.array([frameSize[1], frameSize[0]])/self.downsampleFactor)\n",
      "                    self.movie[:, :, :, i] = np.array(im, dtype=np.uint8)[:, :, 0:3]\n",
      "                    sys.stdout.write('\\r' + \"Loading frame \" + np.string_(i) + \" of \" + np.string_(len(self.frameNames)))\n",
      "                    sys.stdout.flush()\n",
      "                    self.loadingLabel.setText(self.loadingText+\"\\nframe \" + np.string_(i) + \" of \" + np.string_(len(self.frameNames)))\n",
      "                    QtCore.QCoreApplication.processEvents() \n",
      "                print\n",
      "                \n",
      "            self.setLoadedMovie()\n",
      "            \n",
      "            self.lockGUI(False)\n",
      "            self.showLoading(False)\n",
      "            \n",
      "    def setLoadedMovie(self) :\n",
      "        self.firstLoad = False\n",
      "        frameSize = cv2.imread(self.frameNames[0])\n",
      "        infoText = \"Loaded video:\\n\\t\"+self.dataLocation+\"\\nNumber of Frames:\\n\\t\"+np.string_(len(self.frameNames))\n",
      "        infoText += \"\\nFrame size:\\n\\t\"+np.string_(frameSize.shape[1])+\"x\"+np.string_(frameSize.shape[0])\n",
      "        if self.downsampleFactor > 1 :\n",
      "            infoText += \"\\tdownscaled to: \"+np.string_(self.movie.shape[1])+\"x\"+np.string_(self.movie.shape[0])\n",
      "        self.infoLabel.setText(infoText)\n",
      "        \n",
      "        self.preProcessingTab.setLoadedMovie(self.movie, self.frameNames, self.dataLocation, self.downsampleFactor)        \n",
      "        self.videoTexturesTab.setLoadedMovie(self.movie, self.frameNames, self.dataLocation, self.downsampleFactor)\n",
      "        self.labellingTab.setLoadedMovie(self.movie, self.frameNames, self.dataLocation, self.downsampleFactor)\n",
      "        \n",
      "        distMatName = \"proc_distMat.npy\"\n",
      "#         distMatName = \"proc_hist2demd_32x48_distMat.npy\"\n",
      "        if os.path.isfile(self.dataLocation + os.sep + distMatName) :\n",
      "            self.readyForVT = True\n",
      "            self.videoTexturesTab.setDistMat(np.load(self.dataLocation + os.sep + distMatName))\n",
      "        else :\n",
      "            self.readyForVT = False\n",
      "    \n",
      "    def tabChanged(self, tabIdx) :\n",
      "        try :\n",
      "            self.movie\n",
      "            self.frameNames\n",
      "            self.dataLocation\n",
      "        except:\n",
      "            return\n",
      "        \n",
      "        if tabIdx == 1:\n",
      "            if self.readyForVT == False :#and not os.path.isfile(self.dataLocation + os.sep + \"proc_distMat.npy\") :\n",
      "                QtGui.QMessageBox.warning(self, \"Pre-processing not ready\",\n",
      "                            \"<p align='center'>The pre-processing step has not been completed<br>\"\n",
      "                            \"Please return to the pre-processing tab and compute a distance matrix</p>\")\n",
      "                self.tabWidget.setCurrentIndex(0)\n",
      "                #self.readyForVT = False\n",
      "            #else : \n",
      "            #    self.readyForVT = True\n",
      "            #    self.videoTexturesTab.setLoadedMovie(self.movie, self.frameNames, self.dataLocation, np.load(self.dataLocation + os.sep + \"proc_distMat.npy\"))\n",
      "            #    self.lockGUI(False)\n",
      "                \n",
      "    def updateDistMat(self) :\n",
      "        self.readyForVT = True\n",
      "        self.videoTexturesTab.setDistMat(np.load(self.dataLocation + os.sep + \"proc_distMat.npy\"))\n",
      "        \n",
      "    def showLoading(self, show) :\n",
      "        if show :\n",
      "            self.loadingLabel.setText(\"Loading... Please wait\")\n",
      "            self.loadingWidget.setVisible(True)\n",
      "            self.infoLabel.setVisible(False)\n",
      "        else :\n",
      "            self.loadingWidget.setVisible(False)\n",
      "            self.infoLabel.setVisible(True)\n",
      "            \n",
      "    def lockGUI(self, lock):\n",
      "        \n",
      "        self.openVideoButton.setEnabled(False)#not lock)\n",
      "        self.openSequenceButton.setEnabled(not lock)\n",
      "        \n",
      "        if self.readyForVT :\n",
      "            self.videoTexturesTab.lockGUI(lock)\n",
      "        else :\n",
      "            self.videoTexturesTab.lockGUI(True)\n",
      "            if self.tabWidget.currentIndex() == 1 and not self.firstLoad :\n",
      "                QtGui.QMessageBox.warning(self, \"Pre-processing not ready\",\n",
      "                        \"<p align='center'>The pre-processing step has not been completed<br>\"\n",
      "                        \"Please return to the pre-processing tab and compute a distance matrix</p>\")\n",
      "                self.tabWidget.setCurrentIndex(0)\n",
      "            \n",
      "        self.preProcessingTab.lockGUI(lock)\n",
      "        self.labellingTab.lockGUI(lock)\n",
      "        \n",
      "    def createGUI(self) :\n",
      "        \n",
      "        ## WIDGETS ##\n",
      "\n",
      "        self.infoLabel = QtGui.QLabel(\"No data loaded\")\n",
      "        self.infoLabel.setSizePolicy(QtGui.QSizePolicy.Minimum, QtGui.QSizePolicy.Minimum)\n",
      "        self.infoLabel.setAlignment(QtCore.Qt.AlignLeft | QtCore.Qt.AlignTop)\n",
      "        \n",
      "        self.openVideoButton = QtGui.QPushButton(\"Open &Video\")\n",
      "        self.openVideoButton.setEnabled(False)\n",
      "        self.openSequenceButton = QtGui.QPushButton(\"Open &Sequence\")\n",
      "        \n",
      "        self.loadingLabel = QtGui.QLabel(\"Loading... Please wait!\")\n",
      "        self.loadingLabel.setSizePolicy(QtGui.QSizePolicy.Minimum, QtGui.QSizePolicy.Minimum)\n",
      "        self.loadingLabel.setAlignment(QtCore.Qt.AlignCenter | QtCore.Qt.AlignTop)\n",
      "        movie = QtGui.QMovie(\"loader.gif\")\n",
      "        self.loadingSpinner = QtGui.QLabel()\n",
      "        self.loadingSpinner.setSizePolicy(QtGui.QSizePolicy.Minimum, QtGui.QSizePolicy.Minimum)\n",
      "        self.loadingSpinner.setAlignment(QtCore.Qt.AlignHCenter | QtCore.Qt.AlignBottom)\n",
      "        self.loadingSpinner.setMovie(movie)\n",
      "        movie.start()\n",
      "        \n",
      "        self.preProcessingTab = pptg.PreProcessingTab(self)\n",
      "        self.videoTexturesTab = vttg.VideoTexturesTab(self)\n",
      "        self.labellingTab = LabellingTab(self)\n",
      "\n",
      "        self.tabWidget = QtGui.QTabWidget()\n",
      "        self.tabWidget.addTab(self.preProcessingTab, self.tr(\"Pre-Processing\"))\n",
      "        self.tabWidget.addTab(self.videoTexturesTab, self.tr(\"Video-Textures\"))\n",
      "        self.tabWidget.addTab(self.labellingTab, self.tr(\"Labelling\"))\n",
      "        \n",
      "        ## SIGNALS ##\n",
      "        \n",
      "        self.openVideoButton.clicked.connect(self.openVideo)\n",
      "        self.openSequenceButton.clicked.connect(self.openSequence)\n",
      "        \n",
      "        self.tabWidget.currentChanged.connect(self.tabChanged)\n",
      "        \n",
      "        ## LAYOUTS ##\n",
      "        \n",
      "        mainBox = QtGui.QGroupBox(\"Main Controls\")\n",
      "        mainBox.setStyleSheet(\"QGroupBox { margin: 5px; border: 2px groove gray; border-radius: 3px; } QGroupBox::title {left: 15px; top: -7px; font: bold;}\")\n",
      "        mainBoxLayout = QtGui.QHBoxLayout()\n",
      "        \n",
      "        self.loadingWidget = QtGui.QWidget()\n",
      "        loadingLayout = QtGui.QHBoxLayout()\n",
      "        loadingLayout.addWidget(self.loadingSpinner)\n",
      "        loadingLayout.addWidget(self.loadingLabel)\n",
      "        self.loadingWidget.setLayout(loadingLayout)\n",
      "        \n",
      "        mainBoxLayout.addWidget(self.loadingWidget)\n",
      "        mainBoxLayout.addWidget(self.infoLabel)\n",
      "        mainBoxLayout.addStretch()\n",
      "        \n",
      "        buttonLayout = QtGui.QVBoxLayout()\n",
      "        buttonLayout.addWidget(self.openSequenceButton)\n",
      "        buttonLayout.addWidget(self.openVideoButton)\n",
      "        \n",
      "        mainBoxLayout.addLayout(buttonLayout)\n",
      "        mainBox.setLayout(mainBoxLayout)\n",
      "        \n",
      "        mainLayout = QtGui.QVBoxLayout()\n",
      "        mainLayout.addWidget(self.tabWidget)\n",
      "        mainLayout.addWidget(mainBox)\n",
      "        self.setLayout(mainLayout)"
     ],
     "language": "python",
     "metadata": {},
     "outputs": [],
     "prompt_number": 8
    },
    {
     "cell_type": "code",
     "collapsed": false,
     "input": [
      "window = Window()\n",
      "window.show()\n",
      "app.exec_()"
     ],
     "language": "python",
     "metadata": {},
     "outputs": [
      {
       "output_type": "stream",
       "stream": "stdout",
       "text": [
        "Downsample Factor of 3\n",
        "\r",
        "Loading frame 0 of 1200"
       ]
      },
      {
       "output_type": "stream",
       "stream": "stdout",
       "text": [
        "\r",
        "Loading frame 1 of 1200"
       ]
      },
      {
       "output_type": "stream",
       "stream": "stdout",
       "text": [
        "\r",
        "Loading frame 2 of 1200"
       ]
      },
      {
       "output_type": "stream",
       "stream": "stdout",
       "text": [
        "\r",
        "Loading frame 3 of 1200"
       ]
      },
      {
       "output_type": "stream",
       "stream": "stdout",
       "text": [
        "\r",
        "Loading frame 4 of 1200"
       ]
      },
      {
       "output_type": "stream",
       "stream": "stdout",
       "text": [
        "\r",
        "Loading frame 5 of 1200"
       ]
      },
      {
       "output_type": "stream",
       "stream": "stdout",
       "text": [
        "\r",
        "Loading frame 6 of 1200"
       ]
      },
      {
       "output_type": "stream",
       "stream": "stdout",
       "text": [
        "\r",
        "Loading frame 7 of 1200"
       ]
      },
      {
       "output_type": "stream",
       "stream": "stdout",
       "text": [
        "\r",
        "Loading frame 8 of 1200"
       ]
      },
      {
       "output_type": "stream",
       "stream": "stdout",
       "text": [
        "\r",
        "Loading frame 9 of 1200"
       ]
      },
      {
       "output_type": "stream",
       "stream": "stdout",
       "text": [
        "\r",
        "Loading frame 10 of 1200"
       ]
      },
      {
       "output_type": "stream",
       "stream": "stdout",
       "text": [
        "\r",
        "Loading frame 11 of 1200"
       ]
      },
      {
       "output_type": "stream",
       "stream": "stdout",
       "text": [
        "\r",
        "Loading frame 12 of 1200"
       ]
      },
      {
       "output_type": "stream",
       "stream": "stdout",
       "text": [
        "\r",
        "Loading frame 13 of 1200"
       ]
      },
      {
       "output_type": "stream",
       "stream": "stdout",
       "text": [
        "\r",
        "Loading frame 14 of 1200"
       ]
      },
      {
       "output_type": "stream",
       "stream": "stdout",
       "text": [
        "\r",
        "Loading frame 15 of 1200"
       ]
      },
      {
       "output_type": "stream",
       "stream": "stdout",
       "text": [
        "\r",
        "Loading frame 16 of 1200"
       ]
      },
      {
       "output_type": "stream",
       "stream": "stdout",
       "text": [
        "\r",
        "Loading frame 17 of 1200"
       ]
      },
      {
       "output_type": "stream",
       "stream": "stdout",
       "text": [
        "\r",
        "Loading frame 18 of 1200"
       ]
      },
      {
       "output_type": "stream",
       "stream": "stdout",
       "text": [
        "\r",
        "Loading frame 19 of 1200"
       ]
      },
      {
       "output_type": "stream",
       "stream": "stdout",
       "text": [
        "\r",
        "Loading frame 20 of 1200"
       ]
      },
      {
       "output_type": "stream",
       "stream": "stdout",
       "text": [
        "\r",
        "Loading frame 21 of 1200"
       ]
      },
      {
       "output_type": "stream",
       "stream": "stdout",
       "text": [
        "\r",
        "Loading frame 22 of 1200"
       ]
      },
      {
       "output_type": "stream",
       "stream": "stdout",
       "text": [
        "\r",
        "Loading frame 23 of 1200"
       ]
      },
      {
       "output_type": "stream",
       "stream": "stdout",
       "text": [
        "\r",
        "Loading frame 24 of 1200"
       ]
      },
      {
       "output_type": "stream",
       "stream": "stdout",
       "text": [
        "\r",
        "Loading frame 25 of 1200"
       ]
      },
      {
       "output_type": "stream",
       "stream": "stdout",
       "text": [
        "\r",
        "Loading frame 26 of 1200"
       ]
      },
      {
       "output_type": "stream",
       "stream": "stdout",
       "text": [
        "\r",
        "Loading frame 27 of 1200"
       ]
      },
      {
       "output_type": "stream",
       "stream": "stdout",
       "text": [
        "\r",
        "Loading frame 28 of 1200"
       ]
      },
      {
       "output_type": "stream",
       "stream": "stdout",
       "text": [
        "\r",
        "Loading frame 29 of 1200"
       ]
      },
      {
       "output_type": "stream",
       "stream": "stdout",
       "text": [
        "\r",
        "Loading frame 30 of 1200"
       ]
      },
      {
       "output_type": "stream",
       "stream": "stdout",
       "text": [
        "\r",
        "Loading frame 31 of 1200"
       ]
      },
      {
       "output_type": "stream",
       "stream": "stdout",
       "text": [
        "\r",
        "Loading frame 32 of 1200"
       ]
      },
      {
       "output_type": "stream",
       "stream": "stdout",
       "text": [
        "\r",
        "Loading frame 33 of 1200"
       ]
      },
      {
       "output_type": "stream",
       "stream": "stdout",
       "text": [
        "\r",
        "Loading frame 34 of 1200"
       ]
      },
      {
       "output_type": "stream",
       "stream": "stdout",
       "text": [
        "\r",
        "Loading frame 35 of 1200"
       ]
      },
      {
       "output_type": "stream",
       "stream": "stdout",
       "text": [
        "\r",
        "Loading frame 36 of 1200"
       ]
      },
      {
       "output_type": "stream",
       "stream": "stdout",
       "text": [
        "\r",
        "Loading frame 37 of 1200"
       ]
      },
      {
       "output_type": "stream",
       "stream": "stdout",
       "text": [
        "\r",
        "Loading frame 38 of 1200"
       ]
      },
      {
       "output_type": "stream",
       "stream": "stdout",
       "text": [
        "\r",
        "Loading frame 39 of 1200"
       ]
      },
      {
       "output_type": "stream",
       "stream": "stdout",
       "text": [
        "\r",
        "Loading frame 40 of 1200"
       ]
      },
      {
       "output_type": "stream",
       "stream": "stdout",
       "text": [
        "\r",
        "Loading frame 41 of 1200"
       ]
      },
      {
       "output_type": "stream",
       "stream": "stdout",
       "text": [
        "\r",
        "Loading frame 42 of 1200"
       ]
      },
      {
       "output_type": "stream",
       "stream": "stdout",
       "text": [
        "\r",
        "Loading frame 43 of 1200"
       ]
      },
      {
       "output_type": "stream",
       "stream": "stdout",
       "text": [
        "\r",
        "Loading frame 44 of 1200"
       ]
      },
      {
       "output_type": "stream",
       "stream": "stdout",
       "text": [
        "\r",
        "Loading frame 45 of 1200"
       ]
      },
      {
       "output_type": "stream",
       "stream": "stdout",
       "text": [
        "\r",
        "Loading frame 46 of 1200"
       ]
      },
      {
       "output_type": "stream",
       "stream": "stdout",
       "text": [
        "\r",
        "Loading frame 47 of 1200"
       ]
      },
      {
       "output_type": "stream",
       "stream": "stdout",
       "text": [
        "\r",
        "Loading frame 48 of 1200"
       ]
      },
      {
       "output_type": "stream",
       "stream": "stdout",
       "text": [
        "\r",
        "Loading frame 49 of 1200"
       ]
      },
      {
       "output_type": "stream",
       "stream": "stdout",
       "text": [
        "\r",
        "Loading frame 50 of 1200"
       ]
      },
      {
       "output_type": "stream",
       "stream": "stdout",
       "text": [
        "\r",
        "Loading frame 51 of 1200"
       ]
      },
      {
       "output_type": "stream",
       "stream": "stdout",
       "text": [
        "\r",
        "Loading frame 52 of 1200"
       ]
      },
      {
       "output_type": "stream",
       "stream": "stdout",
       "text": [
        "\r",
        "Loading frame 53 of 1200"
       ]
      },
      {
       "output_type": "stream",
       "stream": "stdout",
       "text": [
        "\r",
        "Loading frame 54 of 1200"
       ]
      },
      {
       "output_type": "stream",
       "stream": "stdout",
       "text": [
        "\r",
        "Loading frame 55 of 1200"
       ]
      },
      {
       "output_type": "stream",
       "stream": "stdout",
       "text": [
        "\r",
        "Loading frame 56 of 1200"
       ]
      },
      {
       "output_type": "stream",
       "stream": "stdout",
       "text": [
        "\r",
        "Loading frame 57 of 1200"
       ]
      },
      {
       "output_type": "stream",
       "stream": "stdout",
       "text": [
        "\r",
        "Loading frame 58 of 1200"
       ]
      },
      {
       "output_type": "stream",
       "stream": "stdout",
       "text": [
        "\r",
        "Loading frame 59 of 1200"
       ]
      },
      {
       "output_type": "stream",
       "stream": "stdout",
       "text": [
        "\r",
        "Loading frame 60 of 1200"
       ]
      },
      {
       "output_type": "stream",
       "stream": "stdout",
       "text": [
        "\r",
        "Loading frame 61 of 1200"
       ]
      },
      {
       "output_type": "stream",
       "stream": "stdout",
       "text": [
        "\r",
        "Loading frame 62 of 1200"
       ]
      },
      {
       "output_type": "stream",
       "stream": "stdout",
       "text": [
        "\r",
        "Loading frame 63 of 1200"
       ]
      },
      {
       "output_type": "stream",
       "stream": "stdout",
       "text": [
        "\r",
        "Loading frame 64 of 1200"
       ]
      },
      {
       "output_type": "stream",
       "stream": "stdout",
       "text": [
        "\r",
        "Loading frame 65 of 1200"
       ]
      },
      {
       "output_type": "stream",
       "stream": "stdout",
       "text": [
        "\r",
        "Loading frame 66 of 1200"
       ]
      },
      {
       "output_type": "stream",
       "stream": "stdout",
       "text": [
        "\r",
        "Loading frame 67 of 1200"
       ]
      },
      {
       "output_type": "stream",
       "stream": "stdout",
       "text": [
        "\r",
        "Loading frame 68 of 1200"
       ]
      },
      {
       "output_type": "stream",
       "stream": "stdout",
       "text": [
        "\r",
        "Loading frame 69 of 1200"
       ]
      },
      {
       "output_type": "stream",
       "stream": "stdout",
       "text": [
        "\r",
        "Loading frame 70 of 1200"
       ]
      },
      {
       "output_type": "stream",
       "stream": "stdout",
       "text": [
        "\r",
        "Loading frame 71 of 1200"
       ]
      },
      {
       "output_type": "stream",
       "stream": "stdout",
       "text": [
        "\r",
        "Loading frame 72 of 1200"
       ]
      },
      {
       "output_type": "stream",
       "stream": "stdout",
       "text": [
        "\r",
        "Loading frame 73 of 1200"
       ]
      },
      {
       "output_type": "stream",
       "stream": "stdout",
       "text": [
        "\r",
        "Loading frame 74 of 1200"
       ]
      },
      {
       "output_type": "stream",
       "stream": "stdout",
       "text": [
        "\r",
        "Loading frame 75 of 1200"
       ]
      },
      {
       "output_type": "stream",
       "stream": "stdout",
       "text": [
        "\r",
        "Loading frame 76 of 1200"
       ]
      },
      {
       "output_type": "stream",
       "stream": "stdout",
       "text": [
        "\r",
        "Loading frame 77 of 1200"
       ]
      },
      {
       "output_type": "stream",
       "stream": "stdout",
       "text": [
        "\r",
        "Loading frame 78 of 1200"
       ]
      },
      {
       "output_type": "stream",
       "stream": "stdout",
       "text": [
        "\r",
        "Loading frame 79 of 1200"
       ]
      },
      {
       "output_type": "stream",
       "stream": "stdout",
       "text": [
        "\r",
        "Loading frame 80 of 1200"
       ]
      },
      {
       "output_type": "stream",
       "stream": "stdout",
       "text": [
        "\r",
        "Loading frame 81 of 1200"
       ]
      },
      {
       "output_type": "stream",
       "stream": "stdout",
       "text": [
        "\r",
        "Loading frame 82 of 1200"
       ]
      },
      {
       "output_type": "stream",
       "stream": "stdout",
       "text": [
        "\r",
        "Loading frame 83 of 1200"
       ]
      },
      {
       "output_type": "stream",
       "stream": "stdout",
       "text": [
        "\r",
        "Loading frame 84 of 1200"
       ]
      },
      {
       "output_type": "stream",
       "stream": "stdout",
       "text": [
        "\r",
        "Loading frame 85 of 1200"
       ]
      },
      {
       "output_type": "stream",
       "stream": "stdout",
       "text": [
        "\r",
        "Loading frame 86 of 1200"
       ]
      },
      {
       "output_type": "stream",
       "stream": "stdout",
       "text": [
        "\r",
        "Loading frame 87 of 1200"
       ]
      },
      {
       "output_type": "stream",
       "stream": "stdout",
       "text": [
        "\r",
        "Loading frame 88 of 1200"
       ]
      },
      {
       "output_type": "stream",
       "stream": "stdout",
       "text": [
        "\r",
        "Loading frame 89 of 1200"
       ]
      },
      {
       "output_type": "stream",
       "stream": "stdout",
       "text": [
        "\r",
        "Loading frame 90 of 1200"
       ]
      },
      {
       "output_type": "stream",
       "stream": "stdout",
       "text": [
        "\r",
        "Loading frame 91 of 1200"
       ]
      },
      {
       "output_type": "stream",
       "stream": "stdout",
       "text": [
        "\r",
        "Loading frame 92 of 1200"
       ]
      },
      {
       "output_type": "stream",
       "stream": "stdout",
       "text": [
        "\r",
        "Loading frame 93 of 1200"
       ]
      },
      {
       "output_type": "stream",
       "stream": "stdout",
       "text": [
        "\r",
        "Loading frame 94 of 1200"
       ]
      },
      {
       "output_type": "stream",
       "stream": "stdout",
       "text": [
        "\r",
        "Loading frame 95 of 1200"
       ]
      },
      {
       "output_type": "stream",
       "stream": "stdout",
       "text": [
        "\r",
        "Loading frame 96 of 1200"
       ]
      },
      {
       "output_type": "stream",
       "stream": "stdout",
       "text": [
        "\r",
        "Loading frame 97 of 1200"
       ]
      },
      {
       "output_type": "stream",
       "stream": "stdout",
       "text": [
        "\r",
        "Loading frame 98 of 1200"
       ]
      },
      {
       "output_type": "stream",
       "stream": "stdout",
       "text": [
        "\r",
        "Loading frame 99 of 1200"
       ]
      },
      {
       "output_type": "stream",
       "stream": "stdout",
       "text": [
        "\r",
        "Loading frame 100 of 1200"
       ]
      },
      {
       "output_type": "stream",
       "stream": "stdout",
       "text": [
        "\r",
        "Loading frame 101 of 1200"
       ]
      },
      {
       "output_type": "stream",
       "stream": "stdout",
       "text": [
        "\r",
        "Loading frame 102 of 1200"
       ]
      },
      {
       "output_type": "stream",
       "stream": "stdout",
       "text": [
        "\r",
        "Loading frame 103 of 1200"
       ]
      },
      {
       "output_type": "stream",
       "stream": "stdout",
       "text": [
        "\r",
        "Loading frame 104 of 1200"
       ]
      },
      {
       "output_type": "stream",
       "stream": "stdout",
       "text": [
        "\r",
        "Loading frame 105 of 1200"
       ]
      },
      {
       "output_type": "stream",
       "stream": "stdout",
       "text": [
        "\r",
        "Loading frame 106 of 1200"
       ]
      },
      {
       "output_type": "stream",
       "stream": "stdout",
       "text": [
        "\r",
        "Loading frame 107 of 1200"
       ]
      },
      {
       "output_type": "stream",
       "stream": "stdout",
       "text": [
        "\r",
        "Loading frame 108 of 1200"
       ]
      },
      {
       "output_type": "stream",
       "stream": "stdout",
       "text": [
        "\r",
        "Loading frame 109 of 1200"
       ]
      },
      {
       "output_type": "stream",
       "stream": "stdout",
       "text": [
        "\r",
        "Loading frame 110 of 1200"
       ]
      },
      {
       "output_type": "stream",
       "stream": "stdout",
       "text": [
        "\r",
        "Loading frame 111 of 1200"
       ]
      },
      {
       "output_type": "stream",
       "stream": "stdout",
       "text": [
        "\r",
        "Loading frame 112 of 1200"
       ]
      },
      {
       "output_type": "stream",
       "stream": "stdout",
       "text": [
        "\r",
        "Loading frame 113 of 1200"
       ]
      },
      {
       "output_type": "stream",
       "stream": "stdout",
       "text": [
        "\r",
        "Loading frame 114 of 1200"
       ]
      },
      {
       "output_type": "stream",
       "stream": "stdout",
       "text": [
        "\r",
        "Loading frame 115 of 1200"
       ]
      },
      {
       "output_type": "stream",
       "stream": "stdout",
       "text": [
        "\r",
        "Loading frame 116 of 1200"
       ]
      },
      {
       "output_type": "stream",
       "stream": "stdout",
       "text": [
        "\r",
        "Loading frame 117 of 1200"
       ]
      },
      {
       "output_type": "stream",
       "stream": "stdout",
       "text": [
        "\r",
        "Loading frame 118 of 1200"
       ]
      },
      {
       "output_type": "stream",
       "stream": "stdout",
       "text": [
        "\r",
        "Loading frame 119 of 1200"
       ]
      },
      {
       "output_type": "stream",
       "stream": "stdout",
       "text": [
        "\r",
        "Loading frame 120 of 1200"
       ]
      },
      {
       "output_type": "stream",
       "stream": "stdout",
       "text": [
        "\r",
        "Loading frame 121 of 1200"
       ]
      },
      {
       "output_type": "stream",
       "stream": "stdout",
       "text": [
        "\r",
        "Loading frame 122 of 1200"
       ]
      },
      {
       "output_type": "stream",
       "stream": "stdout",
       "text": [
        "\r",
        "Loading frame 123 of 1200"
       ]
      },
      {
       "output_type": "stream",
       "stream": "stdout",
       "text": [
        "\r",
        "Loading frame 124 of 1200"
       ]
      },
      {
       "output_type": "stream",
       "stream": "stdout",
       "text": [
        "\r",
        "Loading frame 125 of 1200"
       ]
      },
      {
       "output_type": "stream",
       "stream": "stdout",
       "text": [
        "\r",
        "Loading frame 126 of 1200"
       ]
      },
      {
       "output_type": "stream",
       "stream": "stdout",
       "text": [
        "\r",
        "Loading frame 127 of 1200"
       ]
      },
      {
       "output_type": "stream",
       "stream": "stdout",
       "text": [
        "\r",
        "Loading frame 128 of 1200"
       ]
      },
      {
       "output_type": "stream",
       "stream": "stdout",
       "text": [
        "\r",
        "Loading frame 129 of 1200"
       ]
      },
      {
       "output_type": "stream",
       "stream": "stdout",
       "text": [
        "\r",
        "Loading frame 130 of 1200"
       ]
      },
      {
       "output_type": "stream",
       "stream": "stdout",
       "text": [
        "\r",
        "Loading frame 131 of 1200"
       ]
      },
      {
       "output_type": "stream",
       "stream": "stdout",
       "text": [
        "\r",
        "Loading frame 132 of 1200"
       ]
      },
      {
       "output_type": "stream",
       "stream": "stdout",
       "text": [
        "\r",
        "Loading frame 133 of 1200"
       ]
      },
      {
       "output_type": "stream",
       "stream": "stdout",
       "text": [
        "\r",
        "Loading frame 134 of 1200"
       ]
      },
      {
       "output_type": "stream",
       "stream": "stdout",
       "text": [
        "\r",
        "Loading frame 135 of 1200"
       ]
      },
      {
       "output_type": "stream",
       "stream": "stdout",
       "text": [
        "\r",
        "Loading frame 136 of 1200"
       ]
      },
      {
       "output_type": "stream",
       "stream": "stdout",
       "text": [
        "\r",
        "Loading frame 137 of 1200"
       ]
      },
      {
       "output_type": "stream",
       "stream": "stdout",
       "text": [
        "\r",
        "Loading frame 138 of 1200"
       ]
      },
      {
       "output_type": "stream",
       "stream": "stdout",
       "text": [
        "\r",
        "Loading frame 139 of 1200"
       ]
      },
      {
       "output_type": "stream",
       "stream": "stdout",
       "text": [
        "\r",
        "Loading frame 140 of 1200"
       ]
      },
      {
       "output_type": "stream",
       "stream": "stdout",
       "text": [
        "\r",
        "Loading frame 141 of 1200"
       ]
      },
      {
       "output_type": "stream",
       "stream": "stdout",
       "text": [
        "\r",
        "Loading frame 142 of 1200"
       ]
      },
      {
       "output_type": "stream",
       "stream": "stdout",
       "text": [
        "\r",
        "Loading frame 143 of 1200"
       ]
      },
      {
       "output_type": "stream",
       "stream": "stdout",
       "text": [
        "\r",
        "Loading frame 144 of 1200"
       ]
      },
      {
       "output_type": "stream",
       "stream": "stdout",
       "text": [
        "\r",
        "Loading frame 145 of 1200"
       ]
      },
      {
       "output_type": "stream",
       "stream": "stdout",
       "text": [
        "\r",
        "Loading frame 146 of 1200"
       ]
      },
      {
       "output_type": "stream",
       "stream": "stdout",
       "text": [
        "\r",
        "Loading frame 147 of 1200"
       ]
      },
      {
       "output_type": "stream",
       "stream": "stdout",
       "text": [
        "\r",
        "Loading frame 148 of 1200"
       ]
      },
      {
       "output_type": "stream",
       "stream": "stdout",
       "text": [
        "\r",
        "Loading frame 149 of 1200"
       ]
      },
      {
       "output_type": "stream",
       "stream": "stdout",
       "text": [
        "\r",
        "Loading frame 150 of 1200"
       ]
      },
      {
       "output_type": "stream",
       "stream": "stdout",
       "text": [
        "\r",
        "Loading frame 151 of 1200"
       ]
      },
      {
       "output_type": "stream",
       "stream": "stdout",
       "text": [
        "\r",
        "Loading frame 152 of 1200"
       ]
      },
      {
       "output_type": "stream",
       "stream": "stdout",
       "text": [
        "\r",
        "Loading frame 153 of 1200"
       ]
      },
      {
       "output_type": "stream",
       "stream": "stdout",
       "text": [
        "\r",
        "Loading frame 154 of 1200"
       ]
      },
      {
       "output_type": "stream",
       "stream": "stdout",
       "text": [
        "\r",
        "Loading frame 155 of 1200"
       ]
      },
      {
       "output_type": "stream",
       "stream": "stdout",
       "text": [
        "\r",
        "Loading frame 156 of 1200"
       ]
      },
      {
       "output_type": "stream",
       "stream": "stdout",
       "text": [
        "\r",
        "Loading frame 157 of 1200"
       ]
      },
      {
       "output_type": "stream",
       "stream": "stdout",
       "text": [
        "\r",
        "Loading frame 158 of 1200"
       ]
      },
      {
       "output_type": "stream",
       "stream": "stdout",
       "text": [
        "\r",
        "Loading frame 159 of 1200"
       ]
      },
      {
       "output_type": "stream",
       "stream": "stdout",
       "text": [
        "\r",
        "Loading frame 160 of 1200"
       ]
      },
      {
       "output_type": "stream",
       "stream": "stdout",
       "text": [
        "\r",
        "Loading frame 161 of 1200"
       ]
      },
      {
       "output_type": "stream",
       "stream": "stdout",
       "text": [
        "\r",
        "Loading frame 162 of 1200"
       ]
      },
      {
       "output_type": "stream",
       "stream": "stdout",
       "text": [
        "\r",
        "Loading frame 163 of 1200"
       ]
      },
      {
       "output_type": "stream",
       "stream": "stdout",
       "text": [
        "\r",
        "Loading frame 164 of 1200"
       ]
      },
      {
       "output_type": "stream",
       "stream": "stdout",
       "text": [
        "\r",
        "Loading frame 165 of 1200"
       ]
      },
      {
       "output_type": "stream",
       "stream": "stdout",
       "text": [
        "\r",
        "Loading frame 166 of 1200"
       ]
      },
      {
       "output_type": "stream",
       "stream": "stdout",
       "text": [
        "\r",
        "Loading frame 167 of 1200"
       ]
      },
      {
       "output_type": "stream",
       "stream": "stdout",
       "text": [
        "\r",
        "Loading frame 168 of 1200"
       ]
      },
      {
       "output_type": "stream",
       "stream": "stdout",
       "text": [
        "\r",
        "Loading frame 169 of 1200"
       ]
      },
      {
       "output_type": "stream",
       "stream": "stdout",
       "text": [
        "\r",
        "Loading frame 170 of 1200"
       ]
      },
      {
       "output_type": "stream",
       "stream": "stdout",
       "text": [
        "\r",
        "Loading frame 171 of 1200"
       ]
      },
      {
       "output_type": "stream",
       "stream": "stdout",
       "text": [
        "\r",
        "Loading frame 172 of 1200"
       ]
      },
      {
       "output_type": "stream",
       "stream": "stdout",
       "text": [
        "\r",
        "Loading frame 173 of 1200"
       ]
      },
      {
       "output_type": "stream",
       "stream": "stdout",
       "text": [
        "\r",
        "Loading frame 174 of 1200"
       ]
      },
      {
       "output_type": "stream",
       "stream": "stdout",
       "text": [
        "\r",
        "Loading frame 175 of 1200"
       ]
      },
      {
       "output_type": "stream",
       "stream": "stdout",
       "text": [
        "\r",
        "Loading frame 176 of 1200"
       ]
      },
      {
       "output_type": "stream",
       "stream": "stdout",
       "text": [
        "\r",
        "Loading frame 177 of 1200"
       ]
      },
      {
       "output_type": "stream",
       "stream": "stdout",
       "text": [
        "\r",
        "Loading frame 178 of 1200"
       ]
      },
      {
       "output_type": "stream",
       "stream": "stdout",
       "text": [
        "\r",
        "Loading frame 179 of 1200"
       ]
      },
      {
       "output_type": "stream",
       "stream": "stdout",
       "text": [
        "\r",
        "Loading frame 180 of 1200"
       ]
      },
      {
       "output_type": "stream",
       "stream": "stdout",
       "text": [
        "\r",
        "Loading frame 181 of 1200"
       ]
      },
      {
       "output_type": "stream",
       "stream": "stdout",
       "text": [
        "\r",
        "Loading frame 182 of 1200"
       ]
      },
      {
       "output_type": "stream",
       "stream": "stdout",
       "text": [
        "\r",
        "Loading frame 183 of 1200"
       ]
      },
      {
       "output_type": "stream",
       "stream": "stdout",
       "text": [
        "\r",
        "Loading frame 184 of 1200"
       ]
      },
      {
       "output_type": "stream",
       "stream": "stdout",
       "text": [
        "\r",
        "Loading frame 185 of 1200"
       ]
      },
      {
       "output_type": "stream",
       "stream": "stdout",
       "text": [
        "\r",
        "Loading frame 186 of 1200"
       ]
      },
      {
       "output_type": "stream",
       "stream": "stdout",
       "text": [
        "\r",
        "Loading frame 187 of 1200"
       ]
      },
      {
       "output_type": "stream",
       "stream": "stdout",
       "text": [
        "\r",
        "Loading frame 188 of 1200"
       ]
      },
      {
       "output_type": "stream",
       "stream": "stdout",
       "text": [
        "\r",
        "Loading frame 189 of 1200"
       ]
      },
      {
       "output_type": "stream",
       "stream": "stdout",
       "text": [
        "\r",
        "Loading frame 190 of 1200"
       ]
      },
      {
       "output_type": "stream",
       "stream": "stdout",
       "text": [
        "\r",
        "Loading frame 191 of 1200"
       ]
      },
      {
       "output_type": "stream",
       "stream": "stdout",
       "text": [
        "\r",
        "Loading frame 192 of 1200"
       ]
      },
      {
       "output_type": "stream",
       "stream": "stdout",
       "text": [
        "\r",
        "Loading frame 193 of 1200"
       ]
      },
      {
       "output_type": "stream",
       "stream": "stdout",
       "text": [
        "\r",
        "Loading frame 194 of 1200"
       ]
      },
      {
       "output_type": "stream",
       "stream": "stdout",
       "text": [
        "\r",
        "Loading frame 195 of 1200"
       ]
      },
      {
       "output_type": "stream",
       "stream": "stdout",
       "text": [
        "\r",
        "Loading frame 196 of 1200"
       ]
      },
      {
       "output_type": "stream",
       "stream": "stdout",
       "text": [
        "\r",
        "Loading frame 197 of 1200"
       ]
      },
      {
       "output_type": "stream",
       "stream": "stdout",
       "text": [
        "\r",
        "Loading frame 198 of 1200"
       ]
      },
      {
       "output_type": "stream",
       "stream": "stdout",
       "text": [
        "\r",
        "Loading frame 199 of 1200"
       ]
      },
      {
       "output_type": "stream",
       "stream": "stdout",
       "text": [
        "\r",
        "Loading frame 200 of 1200"
       ]
      },
      {
       "output_type": "stream",
       "stream": "stdout",
       "text": [
        "\r",
        "Loading frame 201 of 1200"
       ]
      },
      {
       "output_type": "stream",
       "stream": "stdout",
       "text": [
        "\r",
        "Loading frame 202 of 1200"
       ]
      },
      {
       "output_type": "stream",
       "stream": "stdout",
       "text": [
        "\r",
        "Loading frame 203 of 1200"
       ]
      },
      {
       "output_type": "stream",
       "stream": "stdout",
       "text": [
        "\r",
        "Loading frame 204 of 1200"
       ]
      },
      {
       "output_type": "stream",
       "stream": "stdout",
       "text": [
        "\r",
        "Loading frame 205 of 1200"
       ]
      },
      {
       "output_type": "stream",
       "stream": "stdout",
       "text": [
        "\r",
        "Loading frame 206 of 1200"
       ]
      },
      {
       "output_type": "stream",
       "stream": "stdout",
       "text": [
        "\r",
        "Loading frame 207 of 1200"
       ]
      },
      {
       "output_type": "stream",
       "stream": "stdout",
       "text": [
        "\r",
        "Loading frame 208 of 1200"
       ]
      },
      {
       "output_type": "stream",
       "stream": "stdout",
       "text": [
        "\r",
        "Loading frame 209 of 1200"
       ]
      },
      {
       "output_type": "stream",
       "stream": "stdout",
       "text": [
        "\r",
        "Loading frame 210 of 1200"
       ]
      },
      {
       "output_type": "stream",
       "stream": "stdout",
       "text": [
        "\r",
        "Loading frame 211 of 1200"
       ]
      },
      {
       "output_type": "stream",
       "stream": "stdout",
       "text": [
        "\r",
        "Loading frame 212 of 1200"
       ]
      },
      {
       "output_type": "stream",
       "stream": "stdout",
       "text": [
        "\r",
        "Loading frame 213 of 1200"
       ]
      },
      {
       "output_type": "stream",
       "stream": "stdout",
       "text": [
        "\r",
        "Loading frame 214 of 1200"
       ]
      },
      {
       "output_type": "stream",
       "stream": "stdout",
       "text": [
        "\r",
        "Loading frame 215 of 1200"
       ]
      },
      {
       "output_type": "stream",
       "stream": "stdout",
       "text": [
        "\r",
        "Loading frame 216 of 1200"
       ]
      },
      {
       "output_type": "stream",
       "stream": "stdout",
       "text": [
        "\r",
        "Loading frame 217 of 1200"
       ]
      },
      {
       "output_type": "stream",
       "stream": "stdout",
       "text": [
        "\r",
        "Loading frame 218 of 1200"
       ]
      },
      {
       "output_type": "stream",
       "stream": "stdout",
       "text": [
        "\r",
        "Loading frame 219 of 1200"
       ]
      },
      {
       "output_type": "stream",
       "stream": "stdout",
       "text": [
        "\r",
        "Loading frame 220 of 1200"
       ]
      },
      {
       "output_type": "stream",
       "stream": "stdout",
       "text": [
        "\r",
        "Loading frame 221 of 1200"
       ]
      },
      {
       "output_type": "stream",
       "stream": "stdout",
       "text": [
        "\r",
        "Loading frame 222 of 1200"
       ]
      },
      {
       "output_type": "stream",
       "stream": "stdout",
       "text": [
        "\r",
        "Loading frame 223 of 1200"
       ]
      },
      {
       "output_type": "stream",
       "stream": "stdout",
       "text": [
        "\r",
        "Loading frame 224 of 1200"
       ]
      },
      {
       "output_type": "stream",
       "stream": "stdout",
       "text": [
        "\r",
        "Loading frame 225 of 1200"
       ]
      },
      {
       "output_type": "stream",
       "stream": "stdout",
       "text": [
        "\r",
        "Loading frame 226 of 1200"
       ]
      },
      {
       "output_type": "stream",
       "stream": "stdout",
       "text": [
        "\r",
        "Loading frame 227 of 1200"
       ]
      },
      {
       "output_type": "stream",
       "stream": "stdout",
       "text": [
        "\r",
        "Loading frame 228 of 1200"
       ]
      },
      {
       "output_type": "stream",
       "stream": "stdout",
       "text": [
        "\r",
        "Loading frame 229 of 1200"
       ]
      },
      {
       "output_type": "stream",
       "stream": "stdout",
       "text": [
        "\r",
        "Loading frame 230 of 1200"
       ]
      },
      {
       "output_type": "stream",
       "stream": "stdout",
       "text": [
        "\r",
        "Loading frame 231 of 1200"
       ]
      },
      {
       "output_type": "stream",
       "stream": "stdout",
       "text": [
        "\r",
        "Loading frame 232 of 1200"
       ]
      },
      {
       "output_type": "stream",
       "stream": "stdout",
       "text": [
        "\r",
        "Loading frame 233 of 1200"
       ]
      },
      {
       "output_type": "stream",
       "stream": "stdout",
       "text": [
        "\r",
        "Loading frame 234 of 1200"
       ]
      },
      {
       "output_type": "stream",
       "stream": "stdout",
       "text": [
        "\r",
        "Loading frame 235 of 1200"
       ]
      },
      {
       "output_type": "stream",
       "stream": "stdout",
       "text": [
        "\r",
        "Loading frame 236 of 1200"
       ]
      },
      {
       "output_type": "stream",
       "stream": "stdout",
       "text": [
        "\r",
        "Loading frame 237 of 1200"
       ]
      },
      {
       "output_type": "stream",
       "stream": "stdout",
       "text": [
        "\r",
        "Loading frame 238 of 1200"
       ]
      },
      {
       "output_type": "stream",
       "stream": "stdout",
       "text": [
        "\r",
        "Loading frame 239 of 1200"
       ]
      },
      {
       "output_type": "stream",
       "stream": "stdout",
       "text": [
        "\r",
        "Loading frame 240 of 1200"
       ]
      },
      {
       "output_type": "stream",
       "stream": "stdout",
       "text": [
        "\r",
        "Loading frame 241 of 1200"
       ]
      },
      {
       "output_type": "stream",
       "stream": "stdout",
       "text": [
        "\r",
        "Loading frame 242 of 1200"
       ]
      },
      {
       "output_type": "stream",
       "stream": "stdout",
       "text": [
        "\r",
        "Loading frame 243 of 1200"
       ]
      },
      {
       "output_type": "stream",
       "stream": "stdout",
       "text": [
        "\r",
        "Loading frame 244 of 1200"
       ]
      },
      {
       "output_type": "stream",
       "stream": "stdout",
       "text": [
        "\r",
        "Loading frame 245 of 1200"
       ]
      },
      {
       "output_type": "stream",
       "stream": "stdout",
       "text": [
        "\r",
        "Loading frame 246 of 1200"
       ]
      },
      {
       "output_type": "stream",
       "stream": "stdout",
       "text": [
        "\r",
        "Loading frame 247 of 1200"
       ]
      },
      {
       "output_type": "stream",
       "stream": "stdout",
       "text": [
        "\r",
        "Loading frame 248 of 1200"
       ]
      },
      {
       "output_type": "stream",
       "stream": "stdout",
       "text": [
        "\r",
        "Loading frame 249 of 1200"
       ]
      },
      {
       "output_type": "stream",
       "stream": "stdout",
       "text": [
        "\r",
        "Loading frame 250 of 1200"
       ]
      },
      {
       "output_type": "stream",
       "stream": "stdout",
       "text": [
        "\r",
        "Loading frame 251 of 1200"
       ]
      },
      {
       "output_type": "stream",
       "stream": "stdout",
       "text": [
        "\r",
        "Loading frame 252 of 1200"
       ]
      },
      {
       "output_type": "stream",
       "stream": "stdout",
       "text": [
        "\r",
        "Loading frame 253 of 1200"
       ]
      },
      {
       "output_type": "stream",
       "stream": "stdout",
       "text": [
        "\r",
        "Loading frame 254 of 1200"
       ]
      },
      {
       "output_type": "stream",
       "stream": "stdout",
       "text": [
        "\r",
        "Loading frame 255 of 1200"
       ]
      },
      {
       "output_type": "stream",
       "stream": "stdout",
       "text": [
        "\r",
        "Loading frame 256 of 1200"
       ]
      },
      {
       "output_type": "stream",
       "stream": "stdout",
       "text": [
        "\r",
        "Loading frame 257 of 1200"
       ]
      },
      {
       "output_type": "stream",
       "stream": "stdout",
       "text": [
        "\r",
        "Loading frame 258 of 1200"
       ]
      },
      {
       "output_type": "stream",
       "stream": "stdout",
       "text": [
        "\r",
        "Loading frame 259 of 1200"
       ]
      },
      {
       "output_type": "stream",
       "stream": "stdout",
       "text": [
        "\r",
        "Loading frame 260 of 1200"
       ]
      },
      {
       "output_type": "stream",
       "stream": "stdout",
       "text": [
        "\r",
        "Loading frame 261 of 1200"
       ]
      },
      {
       "output_type": "stream",
       "stream": "stdout",
       "text": [
        "\r",
        "Loading frame 262 of 1200"
       ]
      },
      {
       "output_type": "stream",
       "stream": "stdout",
       "text": [
        "\r",
        "Loading frame 263 of 1200"
       ]
      },
      {
       "output_type": "stream",
       "stream": "stdout",
       "text": [
        "\r",
        "Loading frame 264 of 1200"
       ]
      },
      {
       "output_type": "stream",
       "stream": "stdout",
       "text": [
        "\r",
        "Loading frame 265 of 1200"
       ]
      },
      {
       "output_type": "stream",
       "stream": "stdout",
       "text": [
        "\r",
        "Loading frame 266 of 1200"
       ]
      },
      {
       "output_type": "stream",
       "stream": "stdout",
       "text": [
        "\r",
        "Loading frame 267 of 1200"
       ]
      },
      {
       "output_type": "stream",
       "stream": "stdout",
       "text": [
        "\r",
        "Loading frame 268 of 1200"
       ]
      },
      {
       "output_type": "stream",
       "stream": "stdout",
       "text": [
        "\r",
        "Loading frame 269 of 1200"
       ]
      },
      {
       "output_type": "stream",
       "stream": "stdout",
       "text": [
        "\r",
        "Loading frame 270 of 1200"
       ]
      },
      {
       "output_type": "stream",
       "stream": "stdout",
       "text": [
        "\r",
        "Loading frame 271 of 1200"
       ]
      },
      {
       "output_type": "stream",
       "stream": "stdout",
       "text": [
        "\r",
        "Loading frame 272 of 1200"
       ]
      },
      {
       "output_type": "stream",
       "stream": "stdout",
       "text": [
        "\r",
        "Loading frame 273 of 1200"
       ]
      },
      {
       "output_type": "stream",
       "stream": "stdout",
       "text": [
        "\r",
        "Loading frame 274 of 1200"
       ]
      },
      {
       "output_type": "stream",
       "stream": "stdout",
       "text": [
        "\r",
        "Loading frame 275 of 1200"
       ]
      },
      {
       "output_type": "stream",
       "stream": "stdout",
       "text": [
        "\r",
        "Loading frame 276 of 1200"
       ]
      },
      {
       "output_type": "stream",
       "stream": "stdout",
       "text": [
        "\r",
        "Loading frame 277 of 1200"
       ]
      },
      {
       "output_type": "stream",
       "stream": "stdout",
       "text": [
        "\r",
        "Loading frame 278 of 1200"
       ]
      },
      {
       "output_type": "stream",
       "stream": "stdout",
       "text": [
        "\r",
        "Loading frame 279 of 1200"
       ]
      },
      {
       "output_type": "stream",
       "stream": "stdout",
       "text": [
        "\r",
        "Loading frame 280 of 1200"
       ]
      },
      {
       "output_type": "stream",
       "stream": "stdout",
       "text": [
        "\r",
        "Loading frame 281 of 1200"
       ]
      },
      {
       "output_type": "stream",
       "stream": "stdout",
       "text": [
        "\r",
        "Loading frame 282 of 1200"
       ]
      },
      {
       "output_type": "stream",
       "stream": "stdout",
       "text": [
        "\r",
        "Loading frame 283 of 1200"
       ]
      },
      {
       "output_type": "stream",
       "stream": "stdout",
       "text": [
        "\r",
        "Loading frame 284 of 1200"
       ]
      },
      {
       "output_type": "stream",
       "stream": "stdout",
       "text": [
        "\r",
        "Loading frame 285 of 1200"
       ]
      },
      {
       "output_type": "stream",
       "stream": "stdout",
       "text": [
        "\r",
        "Loading frame 286 of 1200"
       ]
      },
      {
       "output_type": "stream",
       "stream": "stdout",
       "text": [
        "\r",
        "Loading frame 287 of 1200"
       ]
      },
      {
       "output_type": "stream",
       "stream": "stdout",
       "text": [
        "\r",
        "Loading frame 288 of 1200"
       ]
      },
      {
       "output_type": "stream",
       "stream": "stdout",
       "text": [
        "\r",
        "Loading frame 289 of 1200"
       ]
      },
      {
       "output_type": "stream",
       "stream": "stdout",
       "text": [
        "\r",
        "Loading frame 290 of 1200"
       ]
      },
      {
       "output_type": "stream",
       "stream": "stdout",
       "text": [
        "\r",
        "Loading frame 291 of 1200"
       ]
      },
      {
       "output_type": "stream",
       "stream": "stdout",
       "text": [
        "\r",
        "Loading frame 292 of 1200"
       ]
      },
      {
       "output_type": "stream",
       "stream": "stdout",
       "text": [
        "\r",
        "Loading frame 293 of 1200"
       ]
      },
      {
       "output_type": "stream",
       "stream": "stdout",
       "text": [
        "\r",
        "Loading frame 294 of 1200"
       ]
      },
      {
       "output_type": "stream",
       "stream": "stdout",
       "text": [
        "\r",
        "Loading frame 295 of 1200"
       ]
      },
      {
       "output_type": "stream",
       "stream": "stdout",
       "text": [
        "\r",
        "Loading frame 296 of 1200"
       ]
      },
      {
       "output_type": "stream",
       "stream": "stdout",
       "text": [
        "\r",
        "Loading frame 297 of 1200"
       ]
      },
      {
       "output_type": "stream",
       "stream": "stdout",
       "text": [
        "\r",
        "Loading frame 298 of 1200"
       ]
      },
      {
       "output_type": "stream",
       "stream": "stdout",
       "text": [
        "\r",
        "Loading frame 299 of 1200"
       ]
      },
      {
       "output_type": "stream",
       "stream": "stdout",
       "text": [
        "\r",
        "Loading frame 300 of 1200"
       ]
      },
      {
       "output_type": "stream",
       "stream": "stdout",
       "text": [
        "\r",
        "Loading frame 301 of 1200"
       ]
      },
      {
       "output_type": "stream",
       "stream": "stdout",
       "text": [
        "\r",
        "Loading frame 302 of 1200"
       ]
      },
      {
       "output_type": "stream",
       "stream": "stdout",
       "text": [
        "\r",
        "Loading frame 303 of 1200"
       ]
      },
      {
       "output_type": "stream",
       "stream": "stdout",
       "text": [
        "\r",
        "Loading frame 304 of 1200"
       ]
      },
      {
       "output_type": "stream",
       "stream": "stdout",
       "text": [
        "\r",
        "Loading frame 305 of 1200"
       ]
      },
      {
       "output_type": "stream",
       "stream": "stdout",
       "text": [
        "\r",
        "Loading frame 306 of 1200"
       ]
      },
      {
       "output_type": "stream",
       "stream": "stdout",
       "text": [
        "\r",
        "Loading frame 307 of 1200"
       ]
      },
      {
       "output_type": "stream",
       "stream": "stdout",
       "text": [
        "\r",
        "Loading frame 308 of 1200"
       ]
      },
      {
       "output_type": "stream",
       "stream": "stdout",
       "text": [
        "\r",
        "Loading frame 309 of 1200"
       ]
      },
      {
       "output_type": "stream",
       "stream": "stdout",
       "text": [
        "\r",
        "Loading frame 310 of 1200"
       ]
      },
      {
       "output_type": "stream",
       "stream": "stdout",
       "text": [
        "\r",
        "Loading frame 311 of 1200"
       ]
      },
      {
       "output_type": "stream",
       "stream": "stdout",
       "text": [
        "\r",
        "Loading frame 312 of 1200"
       ]
      },
      {
       "output_type": "stream",
       "stream": "stdout",
       "text": [
        "\r",
        "Loading frame 313 of 1200"
       ]
      },
      {
       "output_type": "stream",
       "stream": "stdout",
       "text": [
        "\r",
        "Loading frame 314 of 1200"
       ]
      },
      {
       "output_type": "stream",
       "stream": "stdout",
       "text": [
        "\r",
        "Loading frame 315 of 1200"
       ]
      },
      {
       "output_type": "stream",
       "stream": "stdout",
       "text": [
        "\r",
        "Loading frame 316 of 1200"
       ]
      },
      {
       "output_type": "stream",
       "stream": "stdout",
       "text": [
        "\r",
        "Loading frame 317 of 1200"
       ]
      },
      {
       "output_type": "stream",
       "stream": "stdout",
       "text": [
        "\r",
        "Loading frame 318 of 1200"
       ]
      },
      {
       "output_type": "stream",
       "stream": "stdout",
       "text": [
        "\r",
        "Loading frame 319 of 1200"
       ]
      },
      {
       "output_type": "stream",
       "stream": "stdout",
       "text": [
        "\r",
        "Loading frame 320 of 1200"
       ]
      },
      {
       "output_type": "stream",
       "stream": "stdout",
       "text": [
        "\r",
        "Loading frame 321 of 1200"
       ]
      },
      {
       "output_type": "stream",
       "stream": "stdout",
       "text": [
        "\r",
        "Loading frame 322 of 1200"
       ]
      },
      {
       "output_type": "stream",
       "stream": "stdout",
       "text": [
        "\r",
        "Loading frame 323 of 1200"
       ]
      },
      {
       "output_type": "stream",
       "stream": "stdout",
       "text": [
        "\r",
        "Loading frame 324 of 1200"
       ]
      },
      {
       "output_type": "stream",
       "stream": "stdout",
       "text": [
        "\r",
        "Loading frame 325 of 1200"
       ]
      },
      {
       "output_type": "stream",
       "stream": "stdout",
       "text": [
        "\r",
        "Loading frame 326 of 1200"
       ]
      },
      {
       "output_type": "stream",
       "stream": "stdout",
       "text": [
        "\r",
        "Loading frame 327 of 1200"
       ]
      },
      {
       "output_type": "stream",
       "stream": "stdout",
       "text": [
        "\r",
        "Loading frame 328 of 1200"
       ]
      },
      {
       "output_type": "stream",
       "stream": "stdout",
       "text": [
        "\r",
        "Loading frame 329 of 1200"
       ]
      },
      {
       "output_type": "stream",
       "stream": "stdout",
       "text": [
        "\r",
        "Loading frame 330 of 1200"
       ]
      },
      {
       "output_type": "stream",
       "stream": "stdout",
       "text": [
        "\r",
        "Loading frame 331 of 1200"
       ]
      },
      {
       "output_type": "stream",
       "stream": "stdout",
       "text": [
        "\r",
        "Loading frame 332 of 1200"
       ]
      },
      {
       "output_type": "stream",
       "stream": "stdout",
       "text": [
        "\r",
        "Loading frame 333 of 1200"
       ]
      },
      {
       "output_type": "stream",
       "stream": "stdout",
       "text": [
        "\r",
        "Loading frame 334 of 1200"
       ]
      },
      {
       "output_type": "stream",
       "stream": "stdout",
       "text": [
        "\r",
        "Loading frame 335 of 1200"
       ]
      },
      {
       "output_type": "stream",
       "stream": "stdout",
       "text": [
        "\r",
        "Loading frame 336 of 1200"
       ]
      },
      {
       "output_type": "stream",
       "stream": "stdout",
       "text": [
        "\r",
        "Loading frame 337 of 1200"
       ]
      },
      {
       "output_type": "stream",
       "stream": "stdout",
       "text": [
        "\r",
        "Loading frame 338 of 1200"
       ]
      },
      {
       "output_type": "stream",
       "stream": "stdout",
       "text": [
        "\r",
        "Loading frame 339 of 1200"
       ]
      },
      {
       "output_type": "stream",
       "stream": "stdout",
       "text": [
        "\r",
        "Loading frame 340 of 1200"
       ]
      },
      {
       "output_type": "stream",
       "stream": "stdout",
       "text": [
        "\r",
        "Loading frame 341 of 1200"
       ]
      },
      {
       "output_type": "stream",
       "stream": "stdout",
       "text": [
        "\r",
        "Loading frame 342 of 1200"
       ]
      },
      {
       "output_type": "stream",
       "stream": "stdout",
       "text": [
        "\r",
        "Loading frame 343 of 1200"
       ]
      },
      {
       "output_type": "stream",
       "stream": "stdout",
       "text": [
        "\r",
        "Loading frame 344 of 1200"
       ]
      },
      {
       "output_type": "stream",
       "stream": "stdout",
       "text": [
        "\r",
        "Loading frame 345 of 1200"
       ]
      },
      {
       "output_type": "stream",
       "stream": "stdout",
       "text": [
        "\r",
        "Loading frame 346 of 1200"
       ]
      },
      {
       "output_type": "stream",
       "stream": "stdout",
       "text": [
        "\r",
        "Loading frame 347 of 1200"
       ]
      },
      {
       "output_type": "stream",
       "stream": "stdout",
       "text": [
        "\r",
        "Loading frame 348 of 1200"
       ]
      },
      {
       "output_type": "stream",
       "stream": "stdout",
       "text": [
        "\r",
        "Loading frame 349 of 1200"
       ]
      },
      {
       "output_type": "stream",
       "stream": "stdout",
       "text": [
        "\r",
        "Loading frame 350 of 1200"
       ]
      },
      {
       "output_type": "stream",
       "stream": "stdout",
       "text": [
        "\r",
        "Loading frame 351 of 1200"
       ]
      },
      {
       "output_type": "stream",
       "stream": "stdout",
       "text": [
        "\r",
        "Loading frame 352 of 1200"
       ]
      },
      {
       "output_type": "stream",
       "stream": "stdout",
       "text": [
        "\r",
        "Loading frame 353 of 1200"
       ]
      },
      {
       "output_type": "stream",
       "stream": "stdout",
       "text": [
        "\r",
        "Loading frame 354 of 1200"
       ]
      },
      {
       "output_type": "stream",
       "stream": "stdout",
       "text": [
        "\r",
        "Loading frame 355 of 1200"
       ]
      },
      {
       "output_type": "stream",
       "stream": "stdout",
       "text": [
        "\r",
        "Loading frame 356 of 1200"
       ]
      },
      {
       "output_type": "stream",
       "stream": "stdout",
       "text": [
        "\r",
        "Loading frame 357 of 1200"
       ]
      },
      {
       "output_type": "stream",
       "stream": "stdout",
       "text": [
        "\r",
        "Loading frame 358 of 1200"
       ]
      },
      {
       "output_type": "stream",
       "stream": "stdout",
       "text": [
        "\r",
        "Loading frame 359 of 1200"
       ]
      },
      {
       "output_type": "stream",
       "stream": "stdout",
       "text": [
        "\r",
        "Loading frame 360 of 1200"
       ]
      },
      {
       "output_type": "stream",
       "stream": "stdout",
       "text": [
        "\r",
        "Loading frame 361 of 1200"
       ]
      },
      {
       "output_type": "stream",
       "stream": "stdout",
       "text": [
        "\r",
        "Loading frame 362 of 1200"
       ]
      },
      {
       "output_type": "stream",
       "stream": "stdout",
       "text": [
        "\r",
        "Loading frame 363 of 1200"
       ]
      },
      {
       "output_type": "stream",
       "stream": "stdout",
       "text": [
        "\r",
        "Loading frame 364 of 1200"
       ]
      },
      {
       "output_type": "stream",
       "stream": "stdout",
       "text": [
        "\r",
        "Loading frame 365 of 1200"
       ]
      },
      {
       "output_type": "stream",
       "stream": "stdout",
       "text": [
        "\r",
        "Loading frame 366 of 1200"
       ]
      },
      {
       "output_type": "stream",
       "stream": "stdout",
       "text": [
        "\r",
        "Loading frame 367 of 1200"
       ]
      },
      {
       "output_type": "stream",
       "stream": "stdout",
       "text": [
        "\r",
        "Loading frame 368 of 1200"
       ]
      },
      {
       "output_type": "stream",
       "stream": "stdout",
       "text": [
        "\r",
        "Loading frame 369 of 1200"
       ]
      },
      {
       "output_type": "stream",
       "stream": "stdout",
       "text": [
        "\r",
        "Loading frame 370 of 1200"
       ]
      },
      {
       "output_type": "stream",
       "stream": "stdout",
       "text": [
        "\r",
        "Loading frame 371 of 1200"
       ]
      },
      {
       "output_type": "stream",
       "stream": "stdout",
       "text": [
        "\r",
        "Loading frame 372 of 1200"
       ]
      },
      {
       "output_type": "stream",
       "stream": "stdout",
       "text": [
        "\r",
        "Loading frame 373 of 1200"
       ]
      },
      {
       "output_type": "stream",
       "stream": "stdout",
       "text": [
        "\r",
        "Loading frame 374 of 1200"
       ]
      },
      {
       "output_type": "stream",
       "stream": "stdout",
       "text": [
        "\r",
        "Loading frame 375 of 1200"
       ]
      },
      {
       "output_type": "stream",
       "stream": "stdout",
       "text": [
        "\r",
        "Loading frame 376 of 1200"
       ]
      },
      {
       "output_type": "stream",
       "stream": "stdout",
       "text": [
        "\r",
        "Loading frame 377 of 1200"
       ]
      },
      {
       "output_type": "stream",
       "stream": "stdout",
       "text": [
        "\r",
        "Loading frame 378 of 1200"
       ]
      },
      {
       "output_type": "stream",
       "stream": "stdout",
       "text": [
        "\r",
        "Loading frame 379 of 1200"
       ]
      },
      {
       "output_type": "stream",
       "stream": "stdout",
       "text": [
        "\r",
        "Loading frame 380 of 1200"
       ]
      },
      {
       "output_type": "stream",
       "stream": "stdout",
       "text": [
        "\r",
        "Loading frame 381 of 1200"
       ]
      },
      {
       "output_type": "stream",
       "stream": "stdout",
       "text": [
        "\r",
        "Loading frame 382 of 1200"
       ]
      },
      {
       "output_type": "stream",
       "stream": "stdout",
       "text": [
        "\r",
        "Loading frame 383 of 1200"
       ]
      },
      {
       "output_type": "stream",
       "stream": "stdout",
       "text": [
        "\r",
        "Loading frame 384 of 1200"
       ]
      },
      {
       "output_type": "stream",
       "stream": "stdout",
       "text": [
        "\r",
        "Loading frame 385 of 1200"
       ]
      },
      {
       "output_type": "stream",
       "stream": "stdout",
       "text": [
        "\r",
        "Loading frame 386 of 1200"
       ]
      },
      {
       "output_type": "stream",
       "stream": "stdout",
       "text": [
        "\r",
        "Loading frame 387 of 1200"
       ]
      },
      {
       "output_type": "stream",
       "stream": "stdout",
       "text": [
        "\r",
        "Loading frame 388 of 1200"
       ]
      },
      {
       "output_type": "stream",
       "stream": "stdout",
       "text": [
        "\r",
        "Loading frame 389 of 1200"
       ]
      },
      {
       "output_type": "stream",
       "stream": "stdout",
       "text": [
        "\r",
        "Loading frame 390 of 1200"
       ]
      },
      {
       "output_type": "stream",
       "stream": "stdout",
       "text": [
        "\r",
        "Loading frame 391 of 1200"
       ]
      },
      {
       "output_type": "stream",
       "stream": "stdout",
       "text": [
        "\r",
        "Loading frame 392 of 1200"
       ]
      },
      {
       "output_type": "stream",
       "stream": "stdout",
       "text": [
        "\r",
        "Loading frame 393 of 1200"
       ]
      },
      {
       "output_type": "stream",
       "stream": "stdout",
       "text": [
        "\r",
        "Loading frame 394 of 1200"
       ]
      },
      {
       "output_type": "stream",
       "stream": "stdout",
       "text": [
        "\r",
        "Loading frame 395 of 1200"
       ]
      },
      {
       "output_type": "stream",
       "stream": "stdout",
       "text": [
        "\r",
        "Loading frame 396 of 1200"
       ]
      },
      {
       "output_type": "stream",
       "stream": "stdout",
       "text": [
        "\r",
        "Loading frame 397 of 1200"
       ]
      },
      {
       "output_type": "stream",
       "stream": "stdout",
       "text": [
        "\r",
        "Loading frame 398 of 1200"
       ]
      },
      {
       "output_type": "stream",
       "stream": "stdout",
       "text": [
        "\r",
        "Loading frame 399 of 1200"
       ]
      },
      {
       "output_type": "stream",
       "stream": "stdout",
       "text": [
        "\r",
        "Loading frame 400 of 1200"
       ]
      },
      {
       "output_type": "stream",
       "stream": "stdout",
       "text": [
        "\r",
        "Loading frame 401 of 1200"
       ]
      },
      {
       "output_type": "stream",
       "stream": "stdout",
       "text": [
        "\r",
        "Loading frame 402 of 1200"
       ]
      },
      {
       "output_type": "stream",
       "stream": "stdout",
       "text": [
        "\r",
        "Loading frame 403 of 1200"
       ]
      },
      {
       "output_type": "stream",
       "stream": "stdout",
       "text": [
        "\r",
        "Loading frame 404 of 1200"
       ]
      },
      {
       "output_type": "stream",
       "stream": "stdout",
       "text": [
        "\r",
        "Loading frame 405 of 1200"
       ]
      },
      {
       "output_type": "stream",
       "stream": "stdout",
       "text": [
        "\r",
        "Loading frame 406 of 1200"
       ]
      },
      {
       "output_type": "stream",
       "stream": "stdout",
       "text": [
        "\r",
        "Loading frame 407 of 1200"
       ]
      },
      {
       "output_type": "stream",
       "stream": "stdout",
       "text": [
        "\r",
        "Loading frame 408 of 1200"
       ]
      },
      {
       "output_type": "stream",
       "stream": "stdout",
       "text": [
        "\r",
        "Loading frame 409 of 1200"
       ]
      },
      {
       "output_type": "stream",
       "stream": "stdout",
       "text": [
        "\r",
        "Loading frame 410 of 1200"
       ]
      },
      {
       "output_type": "stream",
       "stream": "stdout",
       "text": [
        "\r",
        "Loading frame 411 of 1200"
       ]
      },
      {
       "output_type": "stream",
       "stream": "stdout",
       "text": [
        "\r",
        "Loading frame 412 of 1200"
       ]
      },
      {
       "output_type": "stream",
       "stream": "stdout",
       "text": [
        "\r",
        "Loading frame 413 of 1200"
       ]
      },
      {
       "output_type": "stream",
       "stream": "stdout",
       "text": [
        "\r",
        "Loading frame 414 of 1200"
       ]
      },
      {
       "output_type": "stream",
       "stream": "stdout",
       "text": [
        "\r",
        "Loading frame 415 of 1200"
       ]
      },
      {
       "output_type": "stream",
       "stream": "stdout",
       "text": [
        "\r",
        "Loading frame 416 of 1200"
       ]
      },
      {
       "output_type": "stream",
       "stream": "stdout",
       "text": [
        "\r",
        "Loading frame 417 of 1200"
       ]
      },
      {
       "output_type": "stream",
       "stream": "stdout",
       "text": [
        "\r",
        "Loading frame 418 of 1200"
       ]
      },
      {
       "output_type": "stream",
       "stream": "stdout",
       "text": [
        "\r",
        "Loading frame 419 of 1200"
       ]
      },
      {
       "output_type": "stream",
       "stream": "stdout",
       "text": [
        "\r",
        "Loading frame 420 of 1200"
       ]
      },
      {
       "output_type": "stream",
       "stream": "stdout",
       "text": [
        "\r",
        "Loading frame 421 of 1200"
       ]
      },
      {
       "output_type": "stream",
       "stream": "stdout",
       "text": [
        "\r",
        "Loading frame 422 of 1200"
       ]
      },
      {
       "output_type": "stream",
       "stream": "stdout",
       "text": [
        "\r",
        "Loading frame 423 of 1200"
       ]
      },
      {
       "output_type": "stream",
       "stream": "stdout",
       "text": [
        "\r",
        "Loading frame 424 of 1200"
       ]
      },
      {
       "output_type": "stream",
       "stream": "stdout",
       "text": [
        "\r",
        "Loading frame 425 of 1200"
       ]
      },
      {
       "output_type": "stream",
       "stream": "stdout",
       "text": [
        "\r",
        "Loading frame 426 of 1200"
       ]
      },
      {
       "output_type": "stream",
       "stream": "stdout",
       "text": [
        "\r",
        "Loading frame 427 of 1200"
       ]
      },
      {
       "output_type": "stream",
       "stream": "stdout",
       "text": [
        "\r",
        "Loading frame 428 of 1200"
       ]
      },
      {
       "output_type": "stream",
       "stream": "stdout",
       "text": [
        "\r",
        "Loading frame 429 of 1200"
       ]
      },
      {
       "output_type": "stream",
       "stream": "stdout",
       "text": [
        "\r",
        "Loading frame 430 of 1200"
       ]
      },
      {
       "output_type": "stream",
       "stream": "stdout",
       "text": [
        "\r",
        "Loading frame 431 of 1200"
       ]
      },
      {
       "output_type": "stream",
       "stream": "stdout",
       "text": [
        "\r",
        "Loading frame 432 of 1200"
       ]
      },
      {
       "output_type": "stream",
       "stream": "stdout",
       "text": [
        "\r",
        "Loading frame 433 of 1200"
       ]
      },
      {
       "output_type": "stream",
       "stream": "stdout",
       "text": [
        "\r",
        "Loading frame 434 of 1200"
       ]
      },
      {
       "output_type": "stream",
       "stream": "stdout",
       "text": [
        "\r",
        "Loading frame 435 of 1200"
       ]
      },
      {
       "output_type": "stream",
       "stream": "stdout",
       "text": [
        "\r",
        "Loading frame 436 of 1200"
       ]
      },
      {
       "output_type": "stream",
       "stream": "stdout",
       "text": [
        "\r",
        "Loading frame 437 of 1200"
       ]
      },
      {
       "output_type": "stream",
       "stream": "stdout",
       "text": [
        "\r",
        "Loading frame 438 of 1200"
       ]
      },
      {
       "output_type": "stream",
       "stream": "stdout",
       "text": [
        "\r",
        "Loading frame 439 of 1200"
       ]
      },
      {
       "output_type": "stream",
       "stream": "stdout",
       "text": [
        "\r",
        "Loading frame 440 of 1200"
       ]
      },
      {
       "output_type": "stream",
       "stream": "stdout",
       "text": [
        "\r",
        "Loading frame 441 of 1200"
       ]
      },
      {
       "output_type": "stream",
       "stream": "stdout",
       "text": [
        "\r",
        "Loading frame 442 of 1200"
       ]
      },
      {
       "output_type": "stream",
       "stream": "stdout",
       "text": [
        "\r",
        "Loading frame 443 of 1200"
       ]
      },
      {
       "output_type": "stream",
       "stream": "stdout",
       "text": [
        "\r",
        "Loading frame 444 of 1200"
       ]
      },
      {
       "output_type": "stream",
       "stream": "stdout",
       "text": [
        "\r",
        "Loading frame 445 of 1200"
       ]
      },
      {
       "output_type": "stream",
       "stream": "stdout",
       "text": [
        "\r",
        "Loading frame 446 of 1200"
       ]
      },
      {
       "output_type": "stream",
       "stream": "stdout",
       "text": [
        "\r",
        "Loading frame 447 of 1200"
       ]
      },
      {
       "output_type": "stream",
       "stream": "stdout",
       "text": [
        "\r",
        "Loading frame 448 of 1200"
       ]
      },
      {
       "output_type": "stream",
       "stream": "stdout",
       "text": [
        "\r",
        "Loading frame 449 of 1200"
       ]
      },
      {
       "output_type": "stream",
       "stream": "stdout",
       "text": [
        "\r",
        "Loading frame 450 of 1200"
       ]
      },
      {
       "output_type": "stream",
       "stream": "stdout",
       "text": [
        "\r",
        "Loading frame 451 of 1200"
       ]
      },
      {
       "output_type": "stream",
       "stream": "stdout",
       "text": [
        "\r",
        "Loading frame 452 of 1200"
       ]
      },
      {
       "output_type": "stream",
       "stream": "stdout",
       "text": [
        "\r",
        "Loading frame 453 of 1200"
       ]
      },
      {
       "output_type": "stream",
       "stream": "stdout",
       "text": [
        "\r",
        "Loading frame 454 of 1200"
       ]
      },
      {
       "output_type": "stream",
       "stream": "stdout",
       "text": [
        "\r",
        "Loading frame 455 of 1200"
       ]
      },
      {
       "output_type": "stream",
       "stream": "stdout",
       "text": [
        "\r",
        "Loading frame 456 of 1200"
       ]
      },
      {
       "output_type": "stream",
       "stream": "stdout",
       "text": [
        "\r",
        "Loading frame 457 of 1200"
       ]
      },
      {
       "output_type": "stream",
       "stream": "stdout",
       "text": [
        "\r",
        "Loading frame 458 of 1200"
       ]
      },
      {
       "output_type": "stream",
       "stream": "stdout",
       "text": [
        "\r",
        "Loading frame 459 of 1200"
       ]
      },
      {
       "output_type": "stream",
       "stream": "stdout",
       "text": [
        "\r",
        "Loading frame 460 of 1200"
       ]
      },
      {
       "output_type": "stream",
       "stream": "stdout",
       "text": [
        "\r",
        "Loading frame 461 of 1200"
       ]
      },
      {
       "output_type": "stream",
       "stream": "stdout",
       "text": [
        "\r",
        "Loading frame 462 of 1200"
       ]
      },
      {
       "output_type": "stream",
       "stream": "stdout",
       "text": [
        "\r",
        "Loading frame 463 of 1200"
       ]
      },
      {
       "output_type": "stream",
       "stream": "stdout",
       "text": [
        "\r",
        "Loading frame 464 of 1200"
       ]
      },
      {
       "output_type": "stream",
       "stream": "stdout",
       "text": [
        "\r",
        "Loading frame 465 of 1200"
       ]
      },
      {
       "output_type": "stream",
       "stream": "stdout",
       "text": [
        "\r",
        "Loading frame 466 of 1200"
       ]
      },
      {
       "output_type": "stream",
       "stream": "stdout",
       "text": [
        "\r",
        "Loading frame 467 of 1200"
       ]
      },
      {
       "output_type": "stream",
       "stream": "stdout",
       "text": [
        "\r",
        "Loading frame 468 of 1200"
       ]
      },
      {
       "output_type": "stream",
       "stream": "stdout",
       "text": [
        "\r",
        "Loading frame 469 of 1200"
       ]
      },
      {
       "output_type": "stream",
       "stream": "stdout",
       "text": [
        "\r",
        "Loading frame 470 of 1200"
       ]
      },
      {
       "output_type": "stream",
       "stream": "stdout",
       "text": [
        "\r",
        "Loading frame 471 of 1200"
       ]
      },
      {
       "output_type": "stream",
       "stream": "stdout",
       "text": [
        "\r",
        "Loading frame 472 of 1200"
       ]
      },
      {
       "output_type": "stream",
       "stream": "stdout",
       "text": [
        "\r",
        "Loading frame 473 of 1200"
       ]
      },
      {
       "output_type": "stream",
       "stream": "stdout",
       "text": [
        "\r",
        "Loading frame 474 of 1200"
       ]
      },
      {
       "output_type": "stream",
       "stream": "stdout",
       "text": [
        "\r",
        "Loading frame 475 of 1200"
       ]
      },
      {
       "output_type": "stream",
       "stream": "stdout",
       "text": [
        "\r",
        "Loading frame 476 of 1200"
       ]
      },
      {
       "output_type": "stream",
       "stream": "stdout",
       "text": [
        "\r",
        "Loading frame 477 of 1200"
       ]
      },
      {
       "output_type": "stream",
       "stream": "stdout",
       "text": [
        "\r",
        "Loading frame 478 of 1200"
       ]
      },
      {
       "output_type": "stream",
       "stream": "stdout",
       "text": [
        "\r",
        "Loading frame 479 of 1200"
       ]
      },
      {
       "output_type": "stream",
       "stream": "stdout",
       "text": [
        "\r",
        "Loading frame 480 of 1200"
       ]
      },
      {
       "output_type": "stream",
       "stream": "stdout",
       "text": [
        "\r",
        "Loading frame 481 of 1200"
       ]
      },
      {
       "output_type": "stream",
       "stream": "stdout",
       "text": [
        "\r",
        "Loading frame 482 of 1200"
       ]
      },
      {
       "output_type": "stream",
       "stream": "stdout",
       "text": [
        "\r",
        "Loading frame 483 of 1200"
       ]
      },
      {
       "output_type": "stream",
       "stream": "stdout",
       "text": [
        "\r",
        "Loading frame 484 of 1200"
       ]
      },
      {
       "output_type": "stream",
       "stream": "stdout",
       "text": [
        "\r",
        "Loading frame 485 of 1200"
       ]
      },
      {
       "output_type": "stream",
       "stream": "stdout",
       "text": [
        "\r",
        "Loading frame 486 of 1200"
       ]
      },
      {
       "output_type": "stream",
       "stream": "stdout",
       "text": [
        "\r",
        "Loading frame 487 of 1200"
       ]
      },
      {
       "output_type": "stream",
       "stream": "stdout",
       "text": [
        "\r",
        "Loading frame 488 of 1200"
       ]
      },
      {
       "output_type": "stream",
       "stream": "stdout",
       "text": [
        "\r",
        "Loading frame 489 of 1200"
       ]
      },
      {
       "output_type": "stream",
       "stream": "stdout",
       "text": [
        "\r",
        "Loading frame 490 of 1200"
       ]
      },
      {
       "output_type": "stream",
       "stream": "stdout",
       "text": [
        "\r",
        "Loading frame 491 of 1200"
       ]
      },
      {
       "output_type": "stream",
       "stream": "stdout",
       "text": [
        "\r",
        "Loading frame 492 of 1200"
       ]
      },
      {
       "output_type": "stream",
       "stream": "stdout",
       "text": [
        "\r",
        "Loading frame 493 of 1200"
       ]
      },
      {
       "output_type": "stream",
       "stream": "stdout",
       "text": [
        "\r",
        "Loading frame 494 of 1200"
       ]
      },
      {
       "output_type": "stream",
       "stream": "stdout",
       "text": [
        "\r",
        "Loading frame 495 of 1200"
       ]
      },
      {
       "output_type": "stream",
       "stream": "stdout",
       "text": [
        "\r",
        "Loading frame 496 of 1200"
       ]
      },
      {
       "output_type": "stream",
       "stream": "stdout",
       "text": [
        "\r",
        "Loading frame 497 of 1200"
       ]
      },
      {
       "output_type": "stream",
       "stream": "stdout",
       "text": [
        "\r",
        "Loading frame 498 of 1200"
       ]
      },
      {
       "output_type": "stream",
       "stream": "stdout",
       "text": [
        "\r",
        "Loading frame 499 of 1200"
       ]
      },
      {
       "output_type": "stream",
       "stream": "stdout",
       "text": [
        "\r",
        "Loading frame 500 of 1200"
       ]
      },
      {
       "output_type": "stream",
       "stream": "stdout",
       "text": [
        "\r",
        "Loading frame 501 of 1200"
       ]
      },
      {
       "output_type": "stream",
       "stream": "stdout",
       "text": [
        "\r",
        "Loading frame 502 of 1200"
       ]
      },
      {
       "output_type": "stream",
       "stream": "stdout",
       "text": [
        "\r",
        "Loading frame 503 of 1200"
       ]
      },
      {
       "output_type": "stream",
       "stream": "stdout",
       "text": [
        "\r",
        "Loading frame 504 of 1200"
       ]
      },
      {
       "output_type": "stream",
       "stream": "stdout",
       "text": [
        "\r",
        "Loading frame 505 of 1200"
       ]
      },
      {
       "output_type": "stream",
       "stream": "stdout",
       "text": [
        "\r",
        "Loading frame 506 of 1200"
       ]
      },
      {
       "output_type": "stream",
       "stream": "stdout",
       "text": [
        "\r",
        "Loading frame 507 of 1200"
       ]
      },
      {
       "output_type": "stream",
       "stream": "stdout",
       "text": [
        "\r",
        "Loading frame 508 of 1200"
       ]
      },
      {
       "output_type": "stream",
       "stream": "stdout",
       "text": [
        "\r",
        "Loading frame 509 of 1200"
       ]
      },
      {
       "output_type": "stream",
       "stream": "stdout",
       "text": [
        "\r",
        "Loading frame 510 of 1200"
       ]
      },
      {
       "output_type": "stream",
       "stream": "stdout",
       "text": [
        "\r",
        "Loading frame 511 of 1200"
       ]
      },
      {
       "output_type": "stream",
       "stream": "stdout",
       "text": [
        "\r",
        "Loading frame 512 of 1200"
       ]
      },
      {
       "output_type": "stream",
       "stream": "stdout",
       "text": [
        "\r",
        "Loading frame 513 of 1200"
       ]
      },
      {
       "output_type": "stream",
       "stream": "stdout",
       "text": [
        "\r",
        "Loading frame 514 of 1200"
       ]
      },
      {
       "output_type": "stream",
       "stream": "stdout",
       "text": [
        "\r",
        "Loading frame 515 of 1200"
       ]
      },
      {
       "output_type": "stream",
       "stream": "stdout",
       "text": [
        "\r",
        "Loading frame 516 of 1200"
       ]
      },
      {
       "output_type": "stream",
       "stream": "stdout",
       "text": [
        "\r",
        "Loading frame 517 of 1200"
       ]
      },
      {
       "output_type": "stream",
       "stream": "stdout",
       "text": [
        "\r",
        "Loading frame 518 of 1200"
       ]
      },
      {
       "output_type": "stream",
       "stream": "stdout",
       "text": [
        "\r",
        "Loading frame 519 of 1200"
       ]
      },
      {
       "output_type": "stream",
       "stream": "stdout",
       "text": [
        "\r",
        "Loading frame 520 of 1200"
       ]
      },
      {
       "output_type": "stream",
       "stream": "stdout",
       "text": [
        "\r",
        "Loading frame 521 of 1200"
       ]
      },
      {
       "output_type": "stream",
       "stream": "stdout",
       "text": [
        "\r",
        "Loading frame 522 of 1200"
       ]
      },
      {
       "output_type": "stream",
       "stream": "stdout",
       "text": [
        "\r",
        "Loading frame 523 of 1200"
       ]
      },
      {
       "output_type": "stream",
       "stream": "stdout",
       "text": [
        "\r",
        "Loading frame 524 of 1200"
       ]
      },
      {
       "output_type": "stream",
       "stream": "stdout",
       "text": [
        "\r",
        "Loading frame 525 of 1200"
       ]
      },
      {
       "output_type": "stream",
       "stream": "stdout",
       "text": [
        "\r",
        "Loading frame 526 of 1200"
       ]
      },
      {
       "output_type": "stream",
       "stream": "stdout",
       "text": [
        "\r",
        "Loading frame 527 of 1200"
       ]
      },
      {
       "output_type": "stream",
       "stream": "stdout",
       "text": [
        "\r",
        "Loading frame 528 of 1200"
       ]
      },
      {
       "output_type": "stream",
       "stream": "stdout",
       "text": [
        "\r",
        "Loading frame 529 of 1200"
       ]
      },
      {
       "output_type": "stream",
       "stream": "stdout",
       "text": [
        "\r",
        "Loading frame 530 of 1200"
       ]
      },
      {
       "output_type": "stream",
       "stream": "stdout",
       "text": [
        "\r",
        "Loading frame 531 of 1200"
       ]
      },
      {
       "output_type": "stream",
       "stream": "stdout",
       "text": [
        "\r",
        "Loading frame 532 of 1200"
       ]
      },
      {
       "output_type": "stream",
       "stream": "stdout",
       "text": [
        "\r",
        "Loading frame 533 of 1200"
       ]
      },
      {
       "output_type": "stream",
       "stream": "stdout",
       "text": [
        "\r",
        "Loading frame 534 of 1200"
       ]
      },
      {
       "output_type": "stream",
       "stream": "stdout",
       "text": [
        "\r",
        "Loading frame 535 of 1200"
       ]
      },
      {
       "output_type": "stream",
       "stream": "stdout",
       "text": [
        "\r",
        "Loading frame 536 of 1200"
       ]
      },
      {
       "output_type": "stream",
       "stream": "stdout",
       "text": [
        "\r",
        "Loading frame 537 of 1200"
       ]
      },
      {
       "output_type": "stream",
       "stream": "stdout",
       "text": [
        "\r",
        "Loading frame 538 of 1200"
       ]
      },
      {
       "output_type": "stream",
       "stream": "stdout",
       "text": [
        "\r",
        "Loading frame 539 of 1200"
       ]
      },
      {
       "output_type": "stream",
       "stream": "stdout",
       "text": [
        "\r",
        "Loading frame 540 of 1200"
       ]
      },
      {
       "output_type": "stream",
       "stream": "stdout",
       "text": [
        "\r",
        "Loading frame 541 of 1200"
       ]
      },
      {
       "output_type": "stream",
       "stream": "stdout",
       "text": [
        "\r",
        "Loading frame 542 of 1200"
       ]
      },
      {
       "output_type": "stream",
       "stream": "stdout",
       "text": [
        "\r",
        "Loading frame 543 of 1200"
       ]
      },
      {
       "output_type": "stream",
       "stream": "stdout",
       "text": [
        "\r",
        "Loading frame 544 of 1200"
       ]
      },
      {
       "output_type": "stream",
       "stream": "stdout",
       "text": [
        "\r",
        "Loading frame 545 of 1200"
       ]
      },
      {
       "output_type": "stream",
       "stream": "stdout",
       "text": [
        "\r",
        "Loading frame 546 of 1200"
       ]
      },
      {
       "output_type": "stream",
       "stream": "stdout",
       "text": [
        "\r",
        "Loading frame 547 of 1200"
       ]
      },
      {
       "output_type": "stream",
       "stream": "stdout",
       "text": [
        "\r",
        "Loading frame 548 of 1200"
       ]
      },
      {
       "output_type": "stream",
       "stream": "stdout",
       "text": [
        "\r",
        "Loading frame 549 of 1200"
       ]
      },
      {
       "output_type": "stream",
       "stream": "stdout",
       "text": [
        "\r",
        "Loading frame 550 of 1200"
       ]
      },
      {
       "output_type": "stream",
       "stream": "stdout",
       "text": [
        "\r",
        "Loading frame 551 of 1200"
       ]
      },
      {
       "output_type": "stream",
       "stream": "stdout",
       "text": [
        "\r",
        "Loading frame 552 of 1200"
       ]
      },
      {
       "output_type": "stream",
       "stream": "stdout",
       "text": [
        "\r",
        "Loading frame 553 of 1200"
       ]
      },
      {
       "output_type": "stream",
       "stream": "stdout",
       "text": [
        "\r",
        "Loading frame 554 of 1200"
       ]
      },
      {
       "output_type": "stream",
       "stream": "stdout",
       "text": [
        "\r",
        "Loading frame 555 of 1200"
       ]
      },
      {
       "output_type": "stream",
       "stream": "stdout",
       "text": [
        "\r",
        "Loading frame 556 of 1200"
       ]
      },
      {
       "output_type": "stream",
       "stream": "stdout",
       "text": [
        "\r",
        "Loading frame 557 of 1200"
       ]
      },
      {
       "output_type": "stream",
       "stream": "stdout",
       "text": [
        "\r",
        "Loading frame 558 of 1200"
       ]
      },
      {
       "output_type": "stream",
       "stream": "stdout",
       "text": [
        "\r",
        "Loading frame 559 of 1200"
       ]
      },
      {
       "output_type": "stream",
       "stream": "stdout",
       "text": [
        "\r",
        "Loading frame 560 of 1200"
       ]
      },
      {
       "output_type": "stream",
       "stream": "stdout",
       "text": [
        "\r",
        "Loading frame 561 of 1200"
       ]
      },
      {
       "output_type": "stream",
       "stream": "stdout",
       "text": [
        "\r",
        "Loading frame 562 of 1200"
       ]
      },
      {
       "output_type": "stream",
       "stream": "stdout",
       "text": [
        "\r",
        "Loading frame 563 of 1200"
       ]
      },
      {
       "output_type": "stream",
       "stream": "stdout",
       "text": [
        "\r",
        "Loading frame 564 of 1200"
       ]
      },
      {
       "output_type": "stream",
       "stream": "stdout",
       "text": [
        "\r",
        "Loading frame 565 of 1200"
       ]
      },
      {
       "output_type": "stream",
       "stream": "stdout",
       "text": [
        "\r",
        "Loading frame 566 of 1200"
       ]
      },
      {
       "output_type": "stream",
       "stream": "stdout",
       "text": [
        "\r",
        "Loading frame 567 of 1200"
       ]
      },
      {
       "output_type": "stream",
       "stream": "stdout",
       "text": [
        "\r",
        "Loading frame 568 of 1200"
       ]
      },
      {
       "output_type": "stream",
       "stream": "stdout",
       "text": [
        "\r",
        "Loading frame 569 of 1200"
       ]
      },
      {
       "output_type": "stream",
       "stream": "stdout",
       "text": [
        "\r",
        "Loading frame 570 of 1200"
       ]
      },
      {
       "output_type": "stream",
       "stream": "stdout",
       "text": [
        "\r",
        "Loading frame 571 of 1200"
       ]
      },
      {
       "output_type": "stream",
       "stream": "stdout",
       "text": [
        "\r",
        "Loading frame 572 of 1200"
       ]
      },
      {
       "output_type": "stream",
       "stream": "stdout",
       "text": [
        "\r",
        "Loading frame 573 of 1200"
       ]
      },
      {
       "output_type": "stream",
       "stream": "stdout",
       "text": [
        "\r",
        "Loading frame 574 of 1200"
       ]
      },
      {
       "output_type": "stream",
       "stream": "stdout",
       "text": [
        "\r",
        "Loading frame 575 of 1200"
       ]
      },
      {
       "output_type": "stream",
       "stream": "stdout",
       "text": [
        "\r",
        "Loading frame 576 of 1200"
       ]
      },
      {
       "output_type": "stream",
       "stream": "stdout",
       "text": [
        "\r",
        "Loading frame 577 of 1200"
       ]
      },
      {
       "output_type": "stream",
       "stream": "stdout",
       "text": [
        "\r",
        "Loading frame 578 of 1200"
       ]
      },
      {
       "output_type": "stream",
       "stream": "stdout",
       "text": [
        "\r",
        "Loading frame 579 of 1200"
       ]
      },
      {
       "output_type": "stream",
       "stream": "stdout",
       "text": [
        "\r",
        "Loading frame 580 of 1200"
       ]
      },
      {
       "output_type": "stream",
       "stream": "stdout",
       "text": [
        "\r",
        "Loading frame 581 of 1200"
       ]
      },
      {
       "output_type": "stream",
       "stream": "stdout",
       "text": [
        "\r",
        "Loading frame 582 of 1200"
       ]
      },
      {
       "output_type": "stream",
       "stream": "stdout",
       "text": [
        "\r",
        "Loading frame 583 of 1200"
       ]
      },
      {
       "output_type": "stream",
       "stream": "stdout",
       "text": [
        "\r",
        "Loading frame 584 of 1200"
       ]
      },
      {
       "output_type": "stream",
       "stream": "stdout",
       "text": [
        "\r",
        "Loading frame 585 of 1200"
       ]
      },
      {
       "output_type": "stream",
       "stream": "stdout",
       "text": [
        "\r",
        "Loading frame 586 of 1200"
       ]
      },
      {
       "output_type": "stream",
       "stream": "stdout",
       "text": [
        "\r",
        "Loading frame 587 of 1200"
       ]
      },
      {
       "output_type": "stream",
       "stream": "stdout",
       "text": [
        "\r",
        "Loading frame 588 of 1200"
       ]
      },
      {
       "output_type": "stream",
       "stream": "stdout",
       "text": [
        "\r",
        "Loading frame 589 of 1200"
       ]
      },
      {
       "output_type": "stream",
       "stream": "stdout",
       "text": [
        "\r",
        "Loading frame 590 of 1200"
       ]
      },
      {
       "output_type": "stream",
       "stream": "stdout",
       "text": [
        "\r",
        "Loading frame 591 of 1200"
       ]
      },
      {
       "output_type": "stream",
       "stream": "stdout",
       "text": [
        "\r",
        "Loading frame 592 of 1200"
       ]
      },
      {
       "output_type": "stream",
       "stream": "stdout",
       "text": [
        "\r",
        "Loading frame 593 of 1200"
       ]
      },
      {
       "output_type": "stream",
       "stream": "stdout",
       "text": [
        "\r",
        "Loading frame 594 of 1200"
       ]
      },
      {
       "output_type": "stream",
       "stream": "stdout",
       "text": [
        "\r",
        "Loading frame 595 of 1200"
       ]
      },
      {
       "output_type": "stream",
       "stream": "stdout",
       "text": [
        "\r",
        "Loading frame 596 of 1200"
       ]
      },
      {
       "output_type": "stream",
       "stream": "stdout",
       "text": [
        "\r",
        "Loading frame 597 of 1200"
       ]
      },
      {
       "output_type": "stream",
       "stream": "stdout",
       "text": [
        "\r",
        "Loading frame 598 of 1200"
       ]
      },
      {
       "output_type": "stream",
       "stream": "stdout",
       "text": [
        "\r",
        "Loading frame 599 of 1200"
       ]
      },
      {
       "output_type": "stream",
       "stream": "stdout",
       "text": [
        "\r",
        "Loading frame 600 of 1200"
       ]
      },
      {
       "output_type": "stream",
       "stream": "stdout",
       "text": [
        "\r",
        "Loading frame 601 of 1200"
       ]
      },
      {
       "output_type": "stream",
       "stream": "stdout",
       "text": [
        "\r",
        "Loading frame 602 of 1200"
       ]
      },
      {
       "output_type": "stream",
       "stream": "stdout",
       "text": [
        "\r",
        "Loading frame 603 of 1200"
       ]
      },
      {
       "output_type": "stream",
       "stream": "stdout",
       "text": [
        "\r",
        "Loading frame 604 of 1200"
       ]
      },
      {
       "output_type": "stream",
       "stream": "stdout",
       "text": [
        "\r",
        "Loading frame 605 of 1200"
       ]
      },
      {
       "output_type": "stream",
       "stream": "stdout",
       "text": [
        "\r",
        "Loading frame 606 of 1200"
       ]
      },
      {
       "output_type": "stream",
       "stream": "stdout",
       "text": [
        "\r",
        "Loading frame 607 of 1200"
       ]
      },
      {
       "output_type": "stream",
       "stream": "stdout",
       "text": [
        "\r",
        "Loading frame 608 of 1200"
       ]
      },
      {
       "output_type": "stream",
       "stream": "stdout",
       "text": [
        "\r",
        "Loading frame 609 of 1200"
       ]
      },
      {
       "output_type": "stream",
       "stream": "stdout",
       "text": [
        "\r",
        "Loading frame 610 of 1200"
       ]
      },
      {
       "output_type": "stream",
       "stream": "stdout",
       "text": [
        "\r",
        "Loading frame 611 of 1200"
       ]
      },
      {
       "output_type": "stream",
       "stream": "stdout",
       "text": [
        "\r",
        "Loading frame 612 of 1200"
       ]
      },
      {
       "output_type": "stream",
       "stream": "stdout",
       "text": [
        "\r",
        "Loading frame 613 of 1200"
       ]
      },
      {
       "output_type": "stream",
       "stream": "stdout",
       "text": [
        "\r",
        "Loading frame 614 of 1200"
       ]
      },
      {
       "output_type": "stream",
       "stream": "stdout",
       "text": [
        "\r",
        "Loading frame 615 of 1200"
       ]
      },
      {
       "output_type": "stream",
       "stream": "stdout",
       "text": [
        "\r",
        "Loading frame 616 of 1200"
       ]
      },
      {
       "output_type": "stream",
       "stream": "stdout",
       "text": [
        "\r",
        "Loading frame 617 of 1200"
       ]
      },
      {
       "output_type": "stream",
       "stream": "stdout",
       "text": [
        "\r",
        "Loading frame 618 of 1200"
       ]
      },
      {
       "output_type": "stream",
       "stream": "stdout",
       "text": [
        "\r",
        "Loading frame 619 of 1200"
       ]
      },
      {
       "output_type": "stream",
       "stream": "stdout",
       "text": [
        "\r",
        "Loading frame 620 of 1200"
       ]
      },
      {
       "output_type": "stream",
       "stream": "stdout",
       "text": [
        "\r",
        "Loading frame 621 of 1200"
       ]
      },
      {
       "output_type": "stream",
       "stream": "stdout",
       "text": [
        "\r",
        "Loading frame 622 of 1200"
       ]
      },
      {
       "output_type": "stream",
       "stream": "stdout",
       "text": [
        "\r",
        "Loading frame 623 of 1200"
       ]
      },
      {
       "output_type": "stream",
       "stream": "stdout",
       "text": [
        "\r",
        "Loading frame 624 of 1200"
       ]
      },
      {
       "output_type": "stream",
       "stream": "stdout",
       "text": [
        "\r",
        "Loading frame 625 of 1200"
       ]
      },
      {
       "output_type": "stream",
       "stream": "stdout",
       "text": [
        "\r",
        "Loading frame 626 of 1200"
       ]
      },
      {
       "output_type": "stream",
       "stream": "stdout",
       "text": [
        "\r",
        "Loading frame 627 of 1200"
       ]
      },
      {
       "output_type": "stream",
       "stream": "stdout",
       "text": [
        "\r",
        "Loading frame 628 of 1200"
       ]
      },
      {
       "output_type": "stream",
       "stream": "stdout",
       "text": [
        "\r",
        "Loading frame 629 of 1200"
       ]
      },
      {
       "output_type": "stream",
       "stream": "stdout",
       "text": [
        "\r",
        "Loading frame 630 of 1200"
       ]
      },
      {
       "output_type": "stream",
       "stream": "stdout",
       "text": [
        "\r",
        "Loading frame 631 of 1200"
       ]
      },
      {
       "output_type": "stream",
       "stream": "stdout",
       "text": [
        "\r",
        "Loading frame 632 of 1200"
       ]
      },
      {
       "output_type": "stream",
       "stream": "stdout",
       "text": [
        "\r",
        "Loading frame 633 of 1200"
       ]
      },
      {
       "output_type": "stream",
       "stream": "stdout",
       "text": [
        "\r",
        "Loading frame 634 of 1200"
       ]
      },
      {
       "output_type": "stream",
       "stream": "stdout",
       "text": [
        "\r",
        "Loading frame 635 of 1200"
       ]
      },
      {
       "output_type": "stream",
       "stream": "stdout",
       "text": [
        "\r",
        "Loading frame 636 of 1200"
       ]
      },
      {
       "output_type": "stream",
       "stream": "stdout",
       "text": [
        "\r",
        "Loading frame 637 of 1200"
       ]
      },
      {
       "output_type": "stream",
       "stream": "stdout",
       "text": [
        "\r",
        "Loading frame 638 of 1200"
       ]
      },
      {
       "output_type": "stream",
       "stream": "stdout",
       "text": [
        "\r",
        "Loading frame 639 of 1200"
       ]
      },
      {
       "output_type": "stream",
       "stream": "stdout",
       "text": [
        "\r",
        "Loading frame 640 of 1200"
       ]
      },
      {
       "output_type": "stream",
       "stream": "stdout",
       "text": [
        "\r",
        "Loading frame 641 of 1200"
       ]
      },
      {
       "output_type": "stream",
       "stream": "stdout",
       "text": [
        "\r",
        "Loading frame 642 of 1200"
       ]
      },
      {
       "output_type": "stream",
       "stream": "stdout",
       "text": [
        "\r",
        "Loading frame 643 of 1200"
       ]
      },
      {
       "output_type": "stream",
       "stream": "stdout",
       "text": [
        "\r",
        "Loading frame 644 of 1200"
       ]
      },
      {
       "output_type": "stream",
       "stream": "stdout",
       "text": [
        "\r",
        "Loading frame 645 of 1200"
       ]
      },
      {
       "output_type": "stream",
       "stream": "stdout",
       "text": [
        "\r",
        "Loading frame 646 of 1200"
       ]
      },
      {
       "output_type": "stream",
       "stream": "stdout",
       "text": [
        "\r",
        "Loading frame 647 of 1200"
       ]
      },
      {
       "output_type": "stream",
       "stream": "stdout",
       "text": [
        "\r",
        "Loading frame 648 of 1200"
       ]
      },
      {
       "output_type": "stream",
       "stream": "stdout",
       "text": [
        "\r",
        "Loading frame 649 of 1200"
       ]
      },
      {
       "output_type": "stream",
       "stream": "stdout",
       "text": [
        "\r",
        "Loading frame 650 of 1200"
       ]
      },
      {
       "output_type": "stream",
       "stream": "stdout",
       "text": [
        "\r",
        "Loading frame 651 of 1200"
       ]
      },
      {
       "output_type": "stream",
       "stream": "stdout",
       "text": [
        "\r",
        "Loading frame 652 of 1200"
       ]
      },
      {
       "output_type": "stream",
       "stream": "stdout",
       "text": [
        "\r",
        "Loading frame 653 of 1200"
       ]
      },
      {
       "output_type": "stream",
       "stream": "stdout",
       "text": [
        "\r",
        "Loading frame 654 of 1200"
       ]
      },
      {
       "output_type": "stream",
       "stream": "stdout",
       "text": [
        "\r",
        "Loading frame 655 of 1200"
       ]
      },
      {
       "output_type": "stream",
       "stream": "stdout",
       "text": [
        "\r",
        "Loading frame 656 of 1200"
       ]
      },
      {
       "output_type": "stream",
       "stream": "stdout",
       "text": [
        "\r",
        "Loading frame 657 of 1200"
       ]
      },
      {
       "output_type": "stream",
       "stream": "stdout",
       "text": [
        "\r",
        "Loading frame 658 of 1200"
       ]
      },
      {
       "output_type": "stream",
       "stream": "stdout",
       "text": [
        "\r",
        "Loading frame 659 of 1200"
       ]
      },
      {
       "output_type": "stream",
       "stream": "stdout",
       "text": [
        "\r",
        "Loading frame 660 of 1200"
       ]
      },
      {
       "output_type": "stream",
       "stream": "stdout",
       "text": [
        "\r",
        "Loading frame 661 of 1200"
       ]
      },
      {
       "output_type": "stream",
       "stream": "stdout",
       "text": [
        "\r",
        "Loading frame 662 of 1200"
       ]
      },
      {
       "output_type": "stream",
       "stream": "stdout",
       "text": [
        "\r",
        "Loading frame 663 of 1200"
       ]
      },
      {
       "output_type": "stream",
       "stream": "stdout",
       "text": [
        "\r",
        "Loading frame 664 of 1200"
       ]
      },
      {
       "output_type": "stream",
       "stream": "stdout",
       "text": [
        "\r",
        "Loading frame 665 of 1200"
       ]
      },
      {
       "output_type": "stream",
       "stream": "stdout",
       "text": [
        "\r",
        "Loading frame 666 of 1200"
       ]
      },
      {
       "output_type": "stream",
       "stream": "stdout",
       "text": [
        "\r",
        "Loading frame 667 of 1200"
       ]
      },
      {
       "output_type": "stream",
       "stream": "stdout",
       "text": [
        "\r",
        "Loading frame 668 of 1200"
       ]
      },
      {
       "output_type": "stream",
       "stream": "stdout",
       "text": [
        "\r",
        "Loading frame 669 of 1200"
       ]
      },
      {
       "output_type": "stream",
       "stream": "stdout",
       "text": [
        "\r",
        "Loading frame 670 of 1200"
       ]
      },
      {
       "output_type": "stream",
       "stream": "stdout",
       "text": [
        "\r",
        "Loading frame 671 of 1200"
       ]
      },
      {
       "output_type": "stream",
       "stream": "stdout",
       "text": [
        "\r",
        "Loading frame 672 of 1200"
       ]
      },
      {
       "output_type": "stream",
       "stream": "stdout",
       "text": [
        "\r",
        "Loading frame 673 of 1200"
       ]
      },
      {
       "output_type": "stream",
       "stream": "stdout",
       "text": [
        "\r",
        "Loading frame 674 of 1200"
       ]
      },
      {
       "output_type": "stream",
       "stream": "stdout",
       "text": [
        "\r",
        "Loading frame 675 of 1200"
       ]
      },
      {
       "output_type": "stream",
       "stream": "stdout",
       "text": [
        "\r",
        "Loading frame 676 of 1200"
       ]
      },
      {
       "output_type": "stream",
       "stream": "stdout",
       "text": [
        "\r",
        "Loading frame 677 of 1200"
       ]
      },
      {
       "output_type": "stream",
       "stream": "stdout",
       "text": [
        "\r",
        "Loading frame 678 of 1200"
       ]
      },
      {
       "output_type": "stream",
       "stream": "stdout",
       "text": [
        "\r",
        "Loading frame 679 of 1200"
       ]
      },
      {
       "output_type": "stream",
       "stream": "stdout",
       "text": [
        "\r",
        "Loading frame 680 of 1200"
       ]
      },
      {
       "output_type": "stream",
       "stream": "stdout",
       "text": [
        "\r",
        "Loading frame 681 of 1200"
       ]
      },
      {
       "output_type": "stream",
       "stream": "stdout",
       "text": [
        "\r",
        "Loading frame 682 of 1200"
       ]
      },
      {
       "output_type": "stream",
       "stream": "stdout",
       "text": [
        "\r",
        "Loading frame 683 of 1200"
       ]
      },
      {
       "output_type": "stream",
       "stream": "stdout",
       "text": [
        "\r",
        "Loading frame 684 of 1200"
       ]
      },
      {
       "output_type": "stream",
       "stream": "stdout",
       "text": [
        "\r",
        "Loading frame 685 of 1200"
       ]
      },
      {
       "output_type": "stream",
       "stream": "stdout",
       "text": [
        "\r",
        "Loading frame 686 of 1200"
       ]
      },
      {
       "output_type": "stream",
       "stream": "stdout",
       "text": [
        "\r",
        "Loading frame 687 of 1200"
       ]
      },
      {
       "output_type": "stream",
       "stream": "stdout",
       "text": [
        "\r",
        "Loading frame 688 of 1200"
       ]
      },
      {
       "output_type": "stream",
       "stream": "stdout",
       "text": [
        "\r",
        "Loading frame 689 of 1200"
       ]
      },
      {
       "output_type": "stream",
       "stream": "stdout",
       "text": [
        "\r",
        "Loading frame 690 of 1200"
       ]
      },
      {
       "output_type": "stream",
       "stream": "stdout",
       "text": [
        "\r",
        "Loading frame 691 of 1200"
       ]
      },
      {
       "output_type": "stream",
       "stream": "stdout",
       "text": [
        "\r",
        "Loading frame 692 of 1200"
       ]
      },
      {
       "output_type": "stream",
       "stream": "stdout",
       "text": [
        "\r",
        "Loading frame 693 of 1200"
       ]
      },
      {
       "output_type": "stream",
       "stream": "stdout",
       "text": [
        "\r",
        "Loading frame 694 of 1200"
       ]
      },
      {
       "output_type": "stream",
       "stream": "stdout",
       "text": [
        "\r",
        "Loading frame 695 of 1200"
       ]
      },
      {
       "output_type": "stream",
       "stream": "stdout",
       "text": [
        "\r",
        "Loading frame 696 of 1200"
       ]
      },
      {
       "output_type": "stream",
       "stream": "stdout",
       "text": [
        "\r",
        "Loading frame 697 of 1200"
       ]
      },
      {
       "output_type": "stream",
       "stream": "stdout",
       "text": [
        "\r",
        "Loading frame 698 of 1200"
       ]
      },
      {
       "output_type": "stream",
       "stream": "stdout",
       "text": [
        "\r",
        "Loading frame 699 of 1200"
       ]
      },
      {
       "output_type": "stream",
       "stream": "stdout",
       "text": [
        "\r",
        "Loading frame 700 of 1200"
       ]
      },
      {
       "output_type": "stream",
       "stream": "stdout",
       "text": [
        "\r",
        "Loading frame 701 of 1200"
       ]
      },
      {
       "output_type": "stream",
       "stream": "stdout",
       "text": [
        "\r",
        "Loading frame 702 of 1200"
       ]
      },
      {
       "output_type": "stream",
       "stream": "stdout",
       "text": [
        "\r",
        "Loading frame 703 of 1200"
       ]
      },
      {
       "output_type": "stream",
       "stream": "stdout",
       "text": [
        "\r",
        "Loading frame 704 of 1200"
       ]
      },
      {
       "output_type": "stream",
       "stream": "stdout",
       "text": [
        "\r",
        "Loading frame 705 of 1200"
       ]
      },
      {
       "output_type": "stream",
       "stream": "stdout",
       "text": [
        "\r",
        "Loading frame 706 of 1200"
       ]
      },
      {
       "output_type": "stream",
       "stream": "stdout",
       "text": [
        "\r",
        "Loading frame 707 of 1200"
       ]
      },
      {
       "output_type": "stream",
       "stream": "stdout",
       "text": [
        "\r",
        "Loading frame 708 of 1200"
       ]
      },
      {
       "output_type": "stream",
       "stream": "stdout",
       "text": [
        "\r",
        "Loading frame 709 of 1200"
       ]
      },
      {
       "output_type": "stream",
       "stream": "stdout",
       "text": [
        "\r",
        "Loading frame 710 of 1200"
       ]
      },
      {
       "output_type": "stream",
       "stream": "stdout",
       "text": [
        "\r",
        "Loading frame 711 of 1200"
       ]
      },
      {
       "output_type": "stream",
       "stream": "stdout",
       "text": [
        "\r",
        "Loading frame 712 of 1200"
       ]
      },
      {
       "output_type": "stream",
       "stream": "stdout",
       "text": [
        "\r",
        "Loading frame 713 of 1200"
       ]
      },
      {
       "output_type": "stream",
       "stream": "stdout",
       "text": [
        "\r",
        "Loading frame 714 of 1200"
       ]
      },
      {
       "output_type": "stream",
       "stream": "stdout",
       "text": [
        "\r",
        "Loading frame 715 of 1200"
       ]
      },
      {
       "output_type": "stream",
       "stream": "stdout",
       "text": [
        "\r",
        "Loading frame 716 of 1200"
       ]
      },
      {
       "output_type": "stream",
       "stream": "stdout",
       "text": [
        "\r",
        "Loading frame 717 of 1200"
       ]
      },
      {
       "output_type": "stream",
       "stream": "stdout",
       "text": [
        "\r",
        "Loading frame 718 of 1200"
       ]
      },
      {
       "output_type": "stream",
       "stream": "stdout",
       "text": [
        "\r",
        "Loading frame 719 of 1200"
       ]
      },
      {
       "output_type": "stream",
       "stream": "stdout",
       "text": [
        "\r",
        "Loading frame 720 of 1200"
       ]
      },
      {
       "output_type": "stream",
       "stream": "stdout",
       "text": [
        "\r",
        "Loading frame 721 of 1200"
       ]
      },
      {
       "output_type": "stream",
       "stream": "stdout",
       "text": [
        "\r",
        "Loading frame 722 of 1200"
       ]
      },
      {
       "output_type": "stream",
       "stream": "stdout",
       "text": [
        "\r",
        "Loading frame 723 of 1200"
       ]
      },
      {
       "output_type": "stream",
       "stream": "stdout",
       "text": [
        "\r",
        "Loading frame 724 of 1200"
       ]
      },
      {
       "output_type": "stream",
       "stream": "stdout",
       "text": [
        "\r",
        "Loading frame 725 of 1200"
       ]
      },
      {
       "output_type": "stream",
       "stream": "stdout",
       "text": [
        "\r",
        "Loading frame 726 of 1200"
       ]
      },
      {
       "output_type": "stream",
       "stream": "stdout",
       "text": [
        "\r",
        "Loading frame 727 of 1200"
       ]
      },
      {
       "output_type": "stream",
       "stream": "stdout",
       "text": [
        "\r",
        "Loading frame 728 of 1200"
       ]
      },
      {
       "output_type": "stream",
       "stream": "stdout",
       "text": [
        "\r",
        "Loading frame 729 of 1200"
       ]
      },
      {
       "output_type": "stream",
       "stream": "stdout",
       "text": [
        "\r",
        "Loading frame 730 of 1200"
       ]
      },
      {
       "output_type": "stream",
       "stream": "stdout",
       "text": [
        "\r",
        "Loading frame 731 of 1200"
       ]
      },
      {
       "output_type": "stream",
       "stream": "stdout",
       "text": [
        "\r",
        "Loading frame 732 of 1200"
       ]
      },
      {
       "output_type": "stream",
       "stream": "stdout",
       "text": [
        "\r",
        "Loading frame 733 of 1200"
       ]
      },
      {
       "output_type": "stream",
       "stream": "stdout",
       "text": [
        "\r",
        "Loading frame 734 of 1200"
       ]
      },
      {
       "output_type": "stream",
       "stream": "stdout",
       "text": [
        "\r",
        "Loading frame 735 of 1200"
       ]
      },
      {
       "output_type": "stream",
       "stream": "stdout",
       "text": [
        "\r",
        "Loading frame 736 of 1200"
       ]
      },
      {
       "output_type": "stream",
       "stream": "stdout",
       "text": [
        "\r",
        "Loading frame 737 of 1200"
       ]
      },
      {
       "output_type": "stream",
       "stream": "stdout",
       "text": [
        "\r",
        "Loading frame 738 of 1200"
       ]
      },
      {
       "output_type": "stream",
       "stream": "stdout",
       "text": [
        "\r",
        "Loading frame 739 of 1200"
       ]
      },
      {
       "output_type": "stream",
       "stream": "stdout",
       "text": [
        "\r",
        "Loading frame 740 of 1200"
       ]
      },
      {
       "output_type": "stream",
       "stream": "stdout",
       "text": [
        "\r",
        "Loading frame 741 of 1200"
       ]
      },
      {
       "output_type": "stream",
       "stream": "stdout",
       "text": [
        "\r",
        "Loading frame 742 of 1200"
       ]
      },
      {
       "output_type": "stream",
       "stream": "stdout",
       "text": [
        "\r",
        "Loading frame 743 of 1200"
       ]
      },
      {
       "output_type": "stream",
       "stream": "stdout",
       "text": [
        "\r",
        "Loading frame 744 of 1200"
       ]
      },
      {
       "output_type": "stream",
       "stream": "stdout",
       "text": [
        "\r",
        "Loading frame 745 of 1200"
       ]
      },
      {
       "output_type": "stream",
       "stream": "stdout",
       "text": [
        "\r",
        "Loading frame 746 of 1200"
       ]
      },
      {
       "output_type": "stream",
       "stream": "stdout",
       "text": [
        "\r",
        "Loading frame 747 of 1200"
       ]
      },
      {
       "output_type": "stream",
       "stream": "stdout",
       "text": [
        "\r",
        "Loading frame 748 of 1200"
       ]
      },
      {
       "output_type": "stream",
       "stream": "stdout",
       "text": [
        "\r",
        "Loading frame 749 of 1200"
       ]
      },
      {
       "output_type": "stream",
       "stream": "stdout",
       "text": [
        "\r",
        "Loading frame 750 of 1200"
       ]
      },
      {
       "output_type": "stream",
       "stream": "stdout",
       "text": [
        "\r",
        "Loading frame 751 of 1200"
       ]
      },
      {
       "output_type": "stream",
       "stream": "stdout",
       "text": [
        "\r",
        "Loading frame 752 of 1200"
       ]
      },
      {
       "output_type": "stream",
       "stream": "stdout",
       "text": [
        "\r",
        "Loading frame 753 of 1200"
       ]
      },
      {
       "output_type": "stream",
       "stream": "stdout",
       "text": [
        "\r",
        "Loading frame 754 of 1200"
       ]
      },
      {
       "output_type": "stream",
       "stream": "stdout",
       "text": [
        "\r",
        "Loading frame 755 of 1200"
       ]
      },
      {
       "output_type": "stream",
       "stream": "stdout",
       "text": [
        "\r",
        "Loading frame 756 of 1200"
       ]
      },
      {
       "output_type": "stream",
       "stream": "stdout",
       "text": [
        "\r",
        "Loading frame 757 of 1200"
       ]
      },
      {
       "output_type": "stream",
       "stream": "stdout",
       "text": [
        "\r",
        "Loading frame 758 of 1200"
       ]
      },
      {
       "output_type": "stream",
       "stream": "stdout",
       "text": [
        "\r",
        "Loading frame 759 of 1200"
       ]
      },
      {
       "output_type": "stream",
       "stream": "stdout",
       "text": [
        "\r",
        "Loading frame 760 of 1200"
       ]
      },
      {
       "output_type": "stream",
       "stream": "stdout",
       "text": [
        "\r",
        "Loading frame 761 of 1200"
       ]
      },
      {
       "output_type": "stream",
       "stream": "stdout",
       "text": [
        "\r",
        "Loading frame 762 of 1200"
       ]
      },
      {
       "output_type": "stream",
       "stream": "stdout",
       "text": [
        "\r",
        "Loading frame 763 of 1200"
       ]
      },
      {
       "output_type": "stream",
       "stream": "stdout",
       "text": [
        "\r",
        "Loading frame 764 of 1200"
       ]
      },
      {
       "output_type": "stream",
       "stream": "stdout",
       "text": [
        "\r",
        "Loading frame 765 of 1200"
       ]
      },
      {
       "output_type": "stream",
       "stream": "stdout",
       "text": [
        "\r",
        "Loading frame 766 of 1200"
       ]
      },
      {
       "output_type": "stream",
       "stream": "stdout",
       "text": [
        "\r",
        "Loading frame 767 of 1200"
       ]
      },
      {
       "output_type": "stream",
       "stream": "stdout",
       "text": [
        "\r",
        "Loading frame 768 of 1200"
       ]
      },
      {
       "output_type": "stream",
       "stream": "stdout",
       "text": [
        "\r",
        "Loading frame 769 of 1200"
       ]
      },
      {
       "output_type": "stream",
       "stream": "stdout",
       "text": [
        "\r",
        "Loading frame 770 of 1200"
       ]
      },
      {
       "output_type": "stream",
       "stream": "stdout",
       "text": [
        "\r",
        "Loading frame 771 of 1200"
       ]
      },
      {
       "output_type": "stream",
       "stream": "stdout",
       "text": [
        "\r",
        "Loading frame 772 of 1200"
       ]
      },
      {
       "output_type": "stream",
       "stream": "stdout",
       "text": [
        "\r",
        "Loading frame 773 of 1200"
       ]
      },
      {
       "output_type": "stream",
       "stream": "stdout",
       "text": [
        "\r",
        "Loading frame 774 of 1200"
       ]
      },
      {
       "output_type": "stream",
       "stream": "stdout",
       "text": [
        "\r",
        "Loading frame 775 of 1200"
       ]
      },
      {
       "output_type": "stream",
       "stream": "stdout",
       "text": [
        "\r",
        "Loading frame 776 of 1200"
       ]
      },
      {
       "output_type": "stream",
       "stream": "stdout",
       "text": [
        "\r",
        "Loading frame 777 of 1200"
       ]
      },
      {
       "output_type": "stream",
       "stream": "stdout",
       "text": [
        "\r",
        "Loading frame 778 of 1200"
       ]
      },
      {
       "output_type": "stream",
       "stream": "stdout",
       "text": [
        "\r",
        "Loading frame 779 of 1200"
       ]
      },
      {
       "output_type": "stream",
       "stream": "stdout",
       "text": [
        "\r",
        "Loading frame 780 of 1200"
       ]
      },
      {
       "output_type": "stream",
       "stream": "stdout",
       "text": [
        "\r",
        "Loading frame 781 of 1200"
       ]
      },
      {
       "output_type": "stream",
       "stream": "stdout",
       "text": [
        "\r",
        "Loading frame 782 of 1200"
       ]
      },
      {
       "output_type": "stream",
       "stream": "stdout",
       "text": [
        "\r",
        "Loading frame 783 of 1200"
       ]
      },
      {
       "output_type": "stream",
       "stream": "stdout",
       "text": [
        "\r",
        "Loading frame 784 of 1200"
       ]
      },
      {
       "output_type": "stream",
       "stream": "stdout",
       "text": [
        "\r",
        "Loading frame 785 of 1200"
       ]
      },
      {
       "output_type": "stream",
       "stream": "stdout",
       "text": [
        "\r",
        "Loading frame 786 of 1200"
       ]
      },
      {
       "output_type": "stream",
       "stream": "stdout",
       "text": [
        "\r",
        "Loading frame 787 of 1200"
       ]
      },
      {
       "output_type": "stream",
       "stream": "stdout",
       "text": [
        "\r",
        "Loading frame 788 of 1200"
       ]
      },
      {
       "output_type": "stream",
       "stream": "stdout",
       "text": [
        "\r",
        "Loading frame 789 of 1200"
       ]
      },
      {
       "output_type": "stream",
       "stream": "stdout",
       "text": [
        "\r",
        "Loading frame 790 of 1200"
       ]
      },
      {
       "output_type": "stream",
       "stream": "stdout",
       "text": [
        "\r",
        "Loading frame 791 of 1200"
       ]
      },
      {
       "output_type": "stream",
       "stream": "stdout",
       "text": [
        "\r",
        "Loading frame 792 of 1200"
       ]
      },
      {
       "output_type": "stream",
       "stream": "stdout",
       "text": [
        "\r",
        "Loading frame 793 of 1200"
       ]
      },
      {
       "output_type": "stream",
       "stream": "stdout",
       "text": [
        "\r",
        "Loading frame 794 of 1200"
       ]
      },
      {
       "output_type": "stream",
       "stream": "stdout",
       "text": [
        "\r",
        "Loading frame 795 of 1200"
       ]
      },
      {
       "output_type": "stream",
       "stream": "stdout",
       "text": [
        "\r",
        "Loading frame 796 of 1200"
       ]
      },
      {
       "output_type": "stream",
       "stream": "stdout",
       "text": [
        "\r",
        "Loading frame 797 of 1200"
       ]
      },
      {
       "output_type": "stream",
       "stream": "stdout",
       "text": [
        "\r",
        "Loading frame 798 of 1200"
       ]
      },
      {
       "output_type": "stream",
       "stream": "stdout",
       "text": [
        "\r",
        "Loading frame 799 of 1200"
       ]
      },
      {
       "output_type": "stream",
       "stream": "stdout",
       "text": [
        "\r",
        "Loading frame 800 of 1200"
       ]
      },
      {
       "output_type": "stream",
       "stream": "stdout",
       "text": [
        "\r",
        "Loading frame 801 of 1200"
       ]
      },
      {
       "output_type": "stream",
       "stream": "stdout",
       "text": [
        "\r",
        "Loading frame 802 of 1200"
       ]
      },
      {
       "output_type": "stream",
       "stream": "stdout",
       "text": [
        "\r",
        "Loading frame 803 of 1200"
       ]
      },
      {
       "output_type": "stream",
       "stream": "stdout",
       "text": [
        "\r",
        "Loading frame 804 of 1200"
       ]
      },
      {
       "output_type": "stream",
       "stream": "stdout",
       "text": [
        "\r",
        "Loading frame 805 of 1200"
       ]
      },
      {
       "output_type": "stream",
       "stream": "stdout",
       "text": [
        "\r",
        "Loading frame 806 of 1200"
       ]
      },
      {
       "output_type": "stream",
       "stream": "stdout",
       "text": [
        "\r",
        "Loading frame 807 of 1200"
       ]
      },
      {
       "output_type": "stream",
       "stream": "stdout",
       "text": [
        "\r",
        "Loading frame 808 of 1200"
       ]
      },
      {
       "output_type": "stream",
       "stream": "stdout",
       "text": [
        "\r",
        "Loading frame 809 of 1200"
       ]
      },
      {
       "output_type": "stream",
       "stream": "stdout",
       "text": [
        "\r",
        "Loading frame 810 of 1200"
       ]
      },
      {
       "output_type": "stream",
       "stream": "stdout",
       "text": [
        "\r",
        "Loading frame 811 of 1200"
       ]
      },
      {
       "output_type": "stream",
       "stream": "stdout",
       "text": [
        "\r",
        "Loading frame 812 of 1200"
       ]
      },
      {
       "output_type": "stream",
       "stream": "stdout",
       "text": [
        "\r",
        "Loading frame 813 of 1200"
       ]
      },
      {
       "output_type": "stream",
       "stream": "stdout",
       "text": [
        "\r",
        "Loading frame 814 of 1200"
       ]
      },
      {
       "output_type": "stream",
       "stream": "stdout",
       "text": [
        "\r",
        "Loading frame 815 of 1200"
       ]
      },
      {
       "output_type": "stream",
       "stream": "stdout",
       "text": [
        "\r",
        "Loading frame 816 of 1200"
       ]
      },
      {
       "output_type": "stream",
       "stream": "stdout",
       "text": [
        "\r",
        "Loading frame 817 of 1200"
       ]
      },
      {
       "output_type": "stream",
       "stream": "stdout",
       "text": [
        "\r",
        "Loading frame 818 of 1200"
       ]
      },
      {
       "output_type": "stream",
       "stream": "stdout",
       "text": [
        "\r",
        "Loading frame 819 of 1200"
       ]
      },
      {
       "output_type": "stream",
       "stream": "stdout",
       "text": [
        "\r",
        "Loading frame 820 of 1200"
       ]
      },
      {
       "output_type": "stream",
       "stream": "stdout",
       "text": [
        "\r",
        "Loading frame 821 of 1200"
       ]
      },
      {
       "output_type": "stream",
       "stream": "stdout",
       "text": [
        "\r",
        "Loading frame 822 of 1200"
       ]
      },
      {
       "output_type": "stream",
       "stream": "stdout",
       "text": [
        "\r",
        "Loading frame 823 of 1200"
       ]
      },
      {
       "output_type": "stream",
       "stream": "stdout",
       "text": [
        "\r",
        "Loading frame 824 of 1200"
       ]
      },
      {
       "output_type": "stream",
       "stream": "stdout",
       "text": [
        "\r",
        "Loading frame 825 of 1200"
       ]
      },
      {
       "output_type": "stream",
       "stream": "stdout",
       "text": [
        "\r",
        "Loading frame 826 of 1200"
       ]
      },
      {
       "output_type": "stream",
       "stream": "stdout",
       "text": [
        "\r",
        "Loading frame 827 of 1200"
       ]
      },
      {
       "output_type": "stream",
       "stream": "stdout",
       "text": [
        "\r",
        "Loading frame 828 of 1200"
       ]
      },
      {
       "output_type": "stream",
       "stream": "stdout",
       "text": [
        "\r",
        "Loading frame 829 of 1200"
       ]
      },
      {
       "output_type": "stream",
       "stream": "stdout",
       "text": [
        "\r",
        "Loading frame 830 of 1200"
       ]
      },
      {
       "output_type": "stream",
       "stream": "stdout",
       "text": [
        "\r",
        "Loading frame 831 of 1200"
       ]
      },
      {
       "output_type": "stream",
       "stream": "stdout",
       "text": [
        "\r",
        "Loading frame 832 of 1200"
       ]
      },
      {
       "output_type": "stream",
       "stream": "stdout",
       "text": [
        "\r",
        "Loading frame 833 of 1200"
       ]
      },
      {
       "output_type": "stream",
       "stream": "stdout",
       "text": [
        "\r",
        "Loading frame 834 of 1200"
       ]
      },
      {
       "output_type": "stream",
       "stream": "stdout",
       "text": [
        "\r",
        "Loading frame 835 of 1200"
       ]
      },
      {
       "output_type": "stream",
       "stream": "stdout",
       "text": [
        "\r",
        "Loading frame 836 of 1200"
       ]
      },
      {
       "output_type": "stream",
       "stream": "stdout",
       "text": [
        "\r",
        "Loading frame 837 of 1200"
       ]
      },
      {
       "output_type": "stream",
       "stream": "stdout",
       "text": [
        "\r",
        "Loading frame 838 of 1200"
       ]
      },
      {
       "output_type": "stream",
       "stream": "stdout",
       "text": [
        "\r",
        "Loading frame 839 of 1200"
       ]
      },
      {
       "output_type": "stream",
       "stream": "stdout",
       "text": [
        "\r",
        "Loading frame 840 of 1200"
       ]
      },
      {
       "output_type": "stream",
       "stream": "stdout",
       "text": [
        "\r",
        "Loading frame 841 of 1200"
       ]
      },
      {
       "output_type": "stream",
       "stream": "stdout",
       "text": [
        "\r",
        "Loading frame 842 of 1200"
       ]
      },
      {
       "output_type": "stream",
       "stream": "stdout",
       "text": [
        "\r",
        "Loading frame 843 of 1200"
       ]
      },
      {
       "output_type": "stream",
       "stream": "stdout",
       "text": [
        "\r",
        "Loading frame 844 of 1200"
       ]
      },
      {
       "output_type": "stream",
       "stream": "stdout",
       "text": [
        "\r",
        "Loading frame 845 of 1200"
       ]
      },
      {
       "output_type": "stream",
       "stream": "stdout",
       "text": [
        "\r",
        "Loading frame 846 of 1200"
       ]
      },
      {
       "output_type": "stream",
       "stream": "stdout",
       "text": [
        "\r",
        "Loading frame 847 of 1200"
       ]
      },
      {
       "output_type": "stream",
       "stream": "stdout",
       "text": [
        "\r",
        "Loading frame 848 of 1200"
       ]
      },
      {
       "output_type": "stream",
       "stream": "stdout",
       "text": [
        "\r",
        "Loading frame 849 of 1200"
       ]
      },
      {
       "output_type": "stream",
       "stream": "stdout",
       "text": [
        "\r",
        "Loading frame 850 of 1200"
       ]
      },
      {
       "output_type": "stream",
       "stream": "stdout",
       "text": [
        "\r",
        "Loading frame 851 of 1200"
       ]
      },
      {
       "output_type": "stream",
       "stream": "stdout",
       "text": [
        "\r",
        "Loading frame 852 of 1200"
       ]
      },
      {
       "output_type": "stream",
       "stream": "stdout",
       "text": [
        "\r",
        "Loading frame 853 of 1200"
       ]
      },
      {
       "output_type": "stream",
       "stream": "stdout",
       "text": [
        "\r",
        "Loading frame 854 of 1200"
       ]
      },
      {
       "output_type": "stream",
       "stream": "stdout",
       "text": [
        "\r",
        "Loading frame 855 of 1200"
       ]
      },
      {
       "output_type": "stream",
       "stream": "stdout",
       "text": [
        "\r",
        "Loading frame 856 of 1200"
       ]
      },
      {
       "output_type": "stream",
       "stream": "stdout",
       "text": [
        "\r",
        "Loading frame 857 of 1200"
       ]
      },
      {
       "output_type": "stream",
       "stream": "stdout",
       "text": [
        "\r",
        "Loading frame 858 of 1200"
       ]
      },
      {
       "output_type": "stream",
       "stream": "stdout",
       "text": [
        "\r",
        "Loading frame 859 of 1200"
       ]
      },
      {
       "output_type": "stream",
       "stream": "stdout",
       "text": [
        "\r",
        "Loading frame 860 of 1200"
       ]
      },
      {
       "output_type": "stream",
       "stream": "stdout",
       "text": [
        "\r",
        "Loading frame 861 of 1200"
       ]
      },
      {
       "output_type": "stream",
       "stream": "stdout",
       "text": [
        "\r",
        "Loading frame 862 of 1200"
       ]
      },
      {
       "output_type": "stream",
       "stream": "stdout",
       "text": [
        "\r",
        "Loading frame 863 of 1200"
       ]
      },
      {
       "output_type": "stream",
       "stream": "stdout",
       "text": [
        "\r",
        "Loading frame 864 of 1200"
       ]
      },
      {
       "output_type": "stream",
       "stream": "stdout",
       "text": [
        "\r",
        "Loading frame 865 of 1200"
       ]
      },
      {
       "output_type": "stream",
       "stream": "stdout",
       "text": [
        "\r",
        "Loading frame 866 of 1200"
       ]
      },
      {
       "output_type": "stream",
       "stream": "stdout",
       "text": [
        "\r",
        "Loading frame 867 of 1200"
       ]
      },
      {
       "output_type": "stream",
       "stream": "stdout",
       "text": [
        "\r",
        "Loading frame 868 of 1200"
       ]
      },
      {
       "output_type": "stream",
       "stream": "stdout",
       "text": [
        "\r",
        "Loading frame 869 of 1200"
       ]
      },
      {
       "output_type": "stream",
       "stream": "stdout",
       "text": [
        "\r",
        "Loading frame 870 of 1200"
       ]
      },
      {
       "output_type": "stream",
       "stream": "stdout",
       "text": [
        "\r",
        "Loading frame 871 of 1200"
       ]
      },
      {
       "output_type": "stream",
       "stream": "stdout",
       "text": [
        "\r",
        "Loading frame 872 of 1200"
       ]
      },
      {
       "output_type": "stream",
       "stream": "stdout",
       "text": [
        "\r",
        "Loading frame 873 of 1200"
       ]
      },
      {
       "output_type": "stream",
       "stream": "stdout",
       "text": [
        "\r",
        "Loading frame 874 of 1200"
       ]
      },
      {
       "output_type": "stream",
       "stream": "stdout",
       "text": [
        "\r",
        "Loading frame 875 of 1200"
       ]
      },
      {
       "output_type": "stream",
       "stream": "stdout",
       "text": [
        "\r",
        "Loading frame 876 of 1200"
       ]
      },
      {
       "output_type": "stream",
       "stream": "stdout",
       "text": [
        "\r",
        "Loading frame 877 of 1200"
       ]
      },
      {
       "output_type": "stream",
       "stream": "stdout",
       "text": [
        "\r",
        "Loading frame 878 of 1200"
       ]
      },
      {
       "output_type": "stream",
       "stream": "stdout",
       "text": [
        "\r",
        "Loading frame 879 of 1200"
       ]
      },
      {
       "output_type": "stream",
       "stream": "stdout",
       "text": [
        "\r",
        "Loading frame 880 of 1200"
       ]
      },
      {
       "output_type": "stream",
       "stream": "stdout",
       "text": [
        "\r",
        "Loading frame 881 of 1200"
       ]
      },
      {
       "output_type": "stream",
       "stream": "stdout",
       "text": [
        "\r",
        "Loading frame 882 of 1200"
       ]
      },
      {
       "output_type": "stream",
       "stream": "stdout",
       "text": [
        "\r",
        "Loading frame 883 of 1200"
       ]
      },
      {
       "output_type": "stream",
       "stream": "stdout",
       "text": [
        "\r",
        "Loading frame 884 of 1200"
       ]
      },
      {
       "output_type": "stream",
       "stream": "stdout",
       "text": [
        "\r",
        "Loading frame 885 of 1200"
       ]
      },
      {
       "output_type": "stream",
       "stream": "stdout",
       "text": [
        "\r",
        "Loading frame 886 of 1200"
       ]
      },
      {
       "output_type": "stream",
       "stream": "stdout",
       "text": [
        "\r",
        "Loading frame 887 of 1200"
       ]
      },
      {
       "output_type": "stream",
       "stream": "stdout",
       "text": [
        "\r",
        "Loading frame 888 of 1200"
       ]
      },
      {
       "output_type": "stream",
       "stream": "stdout",
       "text": [
        "\r",
        "Loading frame 889 of 1200"
       ]
      },
      {
       "output_type": "stream",
       "stream": "stdout",
       "text": [
        "\r",
        "Loading frame 890 of 1200"
       ]
      },
      {
       "output_type": "stream",
       "stream": "stdout",
       "text": [
        "\r",
        "Loading frame 891 of 1200"
       ]
      },
      {
       "output_type": "stream",
       "stream": "stdout",
       "text": [
        "\r",
        "Loading frame 892 of 1200"
       ]
      },
      {
       "output_type": "stream",
       "stream": "stdout",
       "text": [
        "\r",
        "Loading frame 893 of 1200"
       ]
      },
      {
       "output_type": "stream",
       "stream": "stdout",
       "text": [
        "\r",
        "Loading frame 894 of 1200"
       ]
      },
      {
       "output_type": "stream",
       "stream": "stdout",
       "text": [
        "\r",
        "Loading frame 895 of 1200"
       ]
      },
      {
       "output_type": "stream",
       "stream": "stdout",
       "text": [
        "\r",
        "Loading frame 896 of 1200"
       ]
      },
      {
       "output_type": "stream",
       "stream": "stdout",
       "text": [
        "\r",
        "Loading frame 897 of 1200"
       ]
      },
      {
       "output_type": "stream",
       "stream": "stdout",
       "text": [
        "\r",
        "Loading frame 898 of 1200"
       ]
      },
      {
       "output_type": "stream",
       "stream": "stdout",
       "text": [
        "\r",
        "Loading frame 899 of 1200"
       ]
      },
      {
       "output_type": "stream",
       "stream": "stdout",
       "text": [
        "\r",
        "Loading frame 900 of 1200"
       ]
      },
      {
       "output_type": "stream",
       "stream": "stdout",
       "text": [
        "\r",
        "Loading frame 901 of 1200"
       ]
      },
      {
       "output_type": "stream",
       "stream": "stdout",
       "text": [
        "\r",
        "Loading frame 902 of 1200"
       ]
      },
      {
       "output_type": "stream",
       "stream": "stdout",
       "text": [
        "\r",
        "Loading frame 903 of 1200"
       ]
      },
      {
       "output_type": "stream",
       "stream": "stdout",
       "text": [
        "\r",
        "Loading frame 904 of 1200"
       ]
      },
      {
       "output_type": "stream",
       "stream": "stdout",
       "text": [
        "\r",
        "Loading frame 905 of 1200"
       ]
      },
      {
       "output_type": "stream",
       "stream": "stdout",
       "text": [
        "\r",
        "Loading frame 906 of 1200"
       ]
      },
      {
       "output_type": "stream",
       "stream": "stdout",
       "text": [
        "\r",
        "Loading frame 907 of 1200"
       ]
      },
      {
       "output_type": "stream",
       "stream": "stdout",
       "text": [
        "\r",
        "Loading frame 908 of 1200"
       ]
      },
      {
       "output_type": "stream",
       "stream": "stdout",
       "text": [
        "\r",
        "Loading frame 909 of 1200"
       ]
      },
      {
       "output_type": "stream",
       "stream": "stdout",
       "text": [
        "\r",
        "Loading frame 910 of 1200"
       ]
      },
      {
       "output_type": "stream",
       "stream": "stdout",
       "text": [
        "\r",
        "Loading frame 911 of 1200"
       ]
      },
      {
       "output_type": "stream",
       "stream": "stdout",
       "text": [
        "\r",
        "Loading frame 912 of 1200"
       ]
      },
      {
       "output_type": "stream",
       "stream": "stdout",
       "text": [
        "\r",
        "Loading frame 913 of 1200"
       ]
      },
      {
       "output_type": "stream",
       "stream": "stdout",
       "text": [
        "\r",
        "Loading frame 914 of 1200"
       ]
      },
      {
       "output_type": "stream",
       "stream": "stdout",
       "text": [
        "\r",
        "Loading frame 915 of 1200"
       ]
      },
      {
       "output_type": "stream",
       "stream": "stdout",
       "text": [
        "\r",
        "Loading frame 916 of 1200"
       ]
      },
      {
       "output_type": "stream",
       "stream": "stdout",
       "text": [
        "\r",
        "Loading frame 917 of 1200"
       ]
      },
      {
       "output_type": "stream",
       "stream": "stdout",
       "text": [
        "\r",
        "Loading frame 918 of 1200"
       ]
      },
      {
       "output_type": "stream",
       "stream": "stdout",
       "text": [
        "\r",
        "Loading frame 919 of 1200"
       ]
      },
      {
       "output_type": "stream",
       "stream": "stdout",
       "text": [
        "\r",
        "Loading frame 920 of 1200"
       ]
      },
      {
       "output_type": "stream",
       "stream": "stdout",
       "text": [
        "\r",
        "Loading frame 921 of 1200"
       ]
      },
      {
       "output_type": "stream",
       "stream": "stdout",
       "text": [
        "\r",
        "Loading frame 922 of 1200"
       ]
      },
      {
       "output_type": "stream",
       "stream": "stdout",
       "text": [
        "\r",
        "Loading frame 923 of 1200"
       ]
      },
      {
       "output_type": "stream",
       "stream": "stdout",
       "text": [
        "\r",
        "Loading frame 924 of 1200"
       ]
      },
      {
       "output_type": "stream",
       "stream": "stdout",
       "text": [
        "\r",
        "Loading frame 925 of 1200"
       ]
      },
      {
       "output_type": "stream",
       "stream": "stdout",
       "text": [
        "\r",
        "Loading frame 926 of 1200"
       ]
      },
      {
       "output_type": "stream",
       "stream": "stdout",
       "text": [
        "\r",
        "Loading frame 927 of 1200"
       ]
      },
      {
       "output_type": "stream",
       "stream": "stdout",
       "text": [
        "\r",
        "Loading frame 928 of 1200"
       ]
      },
      {
       "output_type": "stream",
       "stream": "stdout",
       "text": [
        "\r",
        "Loading frame 929 of 1200"
       ]
      },
      {
       "output_type": "stream",
       "stream": "stdout",
       "text": [
        "\r",
        "Loading frame 930 of 1200"
       ]
      },
      {
       "output_type": "stream",
       "stream": "stdout",
       "text": [
        "\r",
        "Loading frame 931 of 1200"
       ]
      },
      {
       "output_type": "stream",
       "stream": "stdout",
       "text": [
        "\r",
        "Loading frame 932 of 1200"
       ]
      },
      {
       "output_type": "stream",
       "stream": "stdout",
       "text": [
        "\r",
        "Loading frame 933 of 1200"
       ]
      },
      {
       "output_type": "stream",
       "stream": "stdout",
       "text": [
        "\r",
        "Loading frame 934 of 1200"
       ]
      },
      {
       "output_type": "stream",
       "stream": "stdout",
       "text": [
        "\r",
        "Loading frame 935 of 1200"
       ]
      },
      {
       "output_type": "stream",
       "stream": "stdout",
       "text": [
        "\r",
        "Loading frame 936 of 1200"
       ]
      },
      {
       "output_type": "stream",
       "stream": "stdout",
       "text": [
        "\r",
        "Loading frame 937 of 1200"
       ]
      },
      {
       "output_type": "stream",
       "stream": "stdout",
       "text": [
        "\r",
        "Loading frame 938 of 1200"
       ]
      },
      {
       "output_type": "stream",
       "stream": "stdout",
       "text": [
        "\r",
        "Loading frame 939 of 1200"
       ]
      },
      {
       "output_type": "stream",
       "stream": "stdout",
       "text": [
        "\r",
        "Loading frame 940 of 1200"
       ]
      },
      {
       "output_type": "stream",
       "stream": "stdout",
       "text": [
        "\r",
        "Loading frame 941 of 1200"
       ]
      },
      {
       "output_type": "stream",
       "stream": "stdout",
       "text": [
        "\r",
        "Loading frame 942 of 1200"
       ]
      },
      {
       "output_type": "stream",
       "stream": "stdout",
       "text": [
        "\r",
        "Loading frame 943 of 1200"
       ]
      },
      {
       "output_type": "stream",
       "stream": "stdout",
       "text": [
        "\r",
        "Loading frame 944 of 1200"
       ]
      },
      {
       "output_type": "stream",
       "stream": "stdout",
       "text": [
        "\r",
        "Loading frame 945 of 1200"
       ]
      },
      {
       "output_type": "stream",
       "stream": "stdout",
       "text": [
        "\r",
        "Loading frame 946 of 1200"
       ]
      },
      {
       "output_type": "stream",
       "stream": "stdout",
       "text": [
        "\r",
        "Loading frame 947 of 1200"
       ]
      },
      {
       "output_type": "stream",
       "stream": "stdout",
       "text": [
        "\r",
        "Loading frame 948 of 1200"
       ]
      },
      {
       "output_type": "stream",
       "stream": "stdout",
       "text": [
        "\r",
        "Loading frame 949 of 1200"
       ]
      },
      {
       "output_type": "stream",
       "stream": "stdout",
       "text": [
        "\r",
        "Loading frame 950 of 1200"
       ]
      },
      {
       "output_type": "stream",
       "stream": "stdout",
       "text": [
        "\r",
        "Loading frame 951 of 1200"
       ]
      },
      {
       "output_type": "stream",
       "stream": "stdout",
       "text": [
        "\r",
        "Loading frame 952 of 1200"
       ]
      },
      {
       "output_type": "stream",
       "stream": "stdout",
       "text": [
        "\r",
        "Loading frame 953 of 1200"
       ]
      },
      {
       "output_type": "stream",
       "stream": "stdout",
       "text": [
        "\r",
        "Loading frame 954 of 1200"
       ]
      },
      {
       "output_type": "stream",
       "stream": "stdout",
       "text": [
        "\r",
        "Loading frame 955 of 1200"
       ]
      },
      {
       "output_type": "stream",
       "stream": "stdout",
       "text": [
        "\r",
        "Loading frame 956 of 1200"
       ]
      },
      {
       "output_type": "stream",
       "stream": "stdout",
       "text": [
        "\r",
        "Loading frame 957 of 1200"
       ]
      },
      {
       "output_type": "stream",
       "stream": "stdout",
       "text": [
        "\r",
        "Loading frame 958 of 1200"
       ]
      },
      {
       "output_type": "stream",
       "stream": "stdout",
       "text": [
        "\r",
        "Loading frame 959 of 1200"
       ]
      },
      {
       "output_type": "stream",
       "stream": "stdout",
       "text": [
        "\r",
        "Loading frame 960 of 1200"
       ]
      },
      {
       "output_type": "stream",
       "stream": "stdout",
       "text": [
        "\r",
        "Loading frame 961 of 1200"
       ]
      },
      {
       "output_type": "stream",
       "stream": "stdout",
       "text": [
        "\r",
        "Loading frame 962 of 1200"
       ]
      },
      {
       "output_type": "stream",
       "stream": "stdout",
       "text": [
        "\r",
        "Loading frame 963 of 1200"
       ]
      },
      {
       "output_type": "stream",
       "stream": "stdout",
       "text": [
        "\r",
        "Loading frame 964 of 1200"
       ]
      },
      {
       "output_type": "stream",
       "stream": "stdout",
       "text": [
        "\r",
        "Loading frame 965 of 1200"
       ]
      },
      {
       "output_type": "stream",
       "stream": "stdout",
       "text": [
        "\r",
        "Loading frame 966 of 1200"
       ]
      },
      {
       "output_type": "stream",
       "stream": "stdout",
       "text": [
        "\r",
        "Loading frame 967 of 1200"
       ]
      },
      {
       "output_type": "stream",
       "stream": "stdout",
       "text": [
        "\r",
        "Loading frame 968 of 1200"
       ]
      },
      {
       "output_type": "stream",
       "stream": "stdout",
       "text": [
        "\r",
        "Loading frame 969 of 1200"
       ]
      },
      {
       "output_type": "stream",
       "stream": "stdout",
       "text": [
        "\r",
        "Loading frame 970 of 1200"
       ]
      },
      {
       "output_type": "stream",
       "stream": "stdout",
       "text": [
        "\r",
        "Loading frame 971 of 1200"
       ]
      },
      {
       "output_type": "stream",
       "stream": "stdout",
       "text": [
        "\r",
        "Loading frame 972 of 1200"
       ]
      },
      {
       "output_type": "stream",
       "stream": "stdout",
       "text": [
        "\r",
        "Loading frame 973 of 1200"
       ]
      },
      {
       "output_type": "stream",
       "stream": "stdout",
       "text": [
        "\r",
        "Loading frame 974 of 1200"
       ]
      },
      {
       "output_type": "stream",
       "stream": "stdout",
       "text": [
        "\r",
        "Loading frame 975 of 1200"
       ]
      },
      {
       "output_type": "stream",
       "stream": "stdout",
       "text": [
        "\r",
        "Loading frame 976 of 1200"
       ]
      },
      {
       "output_type": "stream",
       "stream": "stdout",
       "text": [
        "\r",
        "Loading frame 977 of 1200"
       ]
      },
      {
       "output_type": "stream",
       "stream": "stdout",
       "text": [
        "\r",
        "Loading frame 978 of 1200"
       ]
      },
      {
       "output_type": "stream",
       "stream": "stdout",
       "text": [
        "\r",
        "Loading frame 979 of 1200"
       ]
      },
      {
       "output_type": "stream",
       "stream": "stdout",
       "text": [
        "\r",
        "Loading frame 980 of 1200"
       ]
      },
      {
       "output_type": "stream",
       "stream": "stdout",
       "text": [
        "\r",
        "Loading frame 981 of 1200"
       ]
      },
      {
       "output_type": "stream",
       "stream": "stdout",
       "text": [
        "\r",
        "Loading frame 982 of 1200"
       ]
      },
      {
       "output_type": "stream",
       "stream": "stdout",
       "text": [
        "\r",
        "Loading frame 983 of 1200"
       ]
      },
      {
       "output_type": "stream",
       "stream": "stdout",
       "text": [
        "\r",
        "Loading frame 984 of 1200"
       ]
      },
      {
       "output_type": "stream",
       "stream": "stdout",
       "text": [
        "\r",
        "Loading frame 985 of 1200"
       ]
      },
      {
       "output_type": "stream",
       "stream": "stdout",
       "text": [
        "\r",
        "Loading frame 986 of 1200"
       ]
      },
      {
       "output_type": "stream",
       "stream": "stdout",
       "text": [
        "\r",
        "Loading frame 987 of 1200"
       ]
      },
      {
       "output_type": "stream",
       "stream": "stdout",
       "text": [
        "\r",
        "Loading frame 988 of 1200"
       ]
      },
      {
       "output_type": "stream",
       "stream": "stdout",
       "text": [
        "\r",
        "Loading frame 989 of 1200"
       ]
      },
      {
       "output_type": "stream",
       "stream": "stdout",
       "text": [
        "\r",
        "Loading frame 990 of 1200"
       ]
      },
      {
       "output_type": "stream",
       "stream": "stdout",
       "text": [
        "\r",
        "Loading frame 991 of 1200"
       ]
      },
      {
       "output_type": "stream",
       "stream": "stdout",
       "text": [
        "\r",
        "Loading frame 992 of 1200"
       ]
      },
      {
       "output_type": "stream",
       "stream": "stdout",
       "text": [
        "\r",
        "Loading frame 993 of 1200"
       ]
      },
      {
       "output_type": "stream",
       "stream": "stdout",
       "text": [
        "\r",
        "Loading frame 994 of 1200"
       ]
      },
      {
       "output_type": "stream",
       "stream": "stdout",
       "text": [
        "\r",
        "Loading frame 995 of 1200"
       ]
      },
      {
       "output_type": "stream",
       "stream": "stdout",
       "text": [
        "\r",
        "Loading frame 996 of 1200"
       ]
      },
      {
       "output_type": "stream",
       "stream": "stdout",
       "text": [
        "\r",
        "Loading frame 997 of 1200"
       ]
      },
      {
       "output_type": "stream",
       "stream": "stdout",
       "text": [
        "\r",
        "Loading frame 998 of 1200"
       ]
      },
      {
       "output_type": "stream",
       "stream": "stdout",
       "text": [
        "\r",
        "Loading frame 999 of 1200"
       ]
      },
      {
       "output_type": "stream",
       "stream": "stdout",
       "text": [
        "\r",
        "Loading frame 1000 of 1200"
       ]
      },
      {
       "output_type": "stream",
       "stream": "stdout",
       "text": [
        "\r",
        "Loading frame 1001 of 1200"
       ]
      },
      {
       "output_type": "stream",
       "stream": "stdout",
       "text": [
        "\r",
        "Loading frame 1002 of 1200"
       ]
      },
      {
       "output_type": "stream",
       "stream": "stdout",
       "text": [
        "\r",
        "Loading frame 1003 of 1200"
       ]
      },
      {
       "output_type": "stream",
       "stream": "stdout",
       "text": [
        "\r",
        "Loading frame 1004 of 1200"
       ]
      },
      {
       "output_type": "stream",
       "stream": "stdout",
       "text": [
        "\r",
        "Loading frame 1005 of 1200"
       ]
      },
      {
       "output_type": "stream",
       "stream": "stdout",
       "text": [
        "\r",
        "Loading frame 1006 of 1200"
       ]
      },
      {
       "output_type": "stream",
       "stream": "stdout",
       "text": [
        "\r",
        "Loading frame 1007 of 1200"
       ]
      },
      {
       "output_type": "stream",
       "stream": "stdout",
       "text": [
        "\r",
        "Loading frame 1008 of 1200"
       ]
      },
      {
       "output_type": "stream",
       "stream": "stdout",
       "text": [
        "\r",
        "Loading frame 1009 of 1200"
       ]
      },
      {
       "output_type": "stream",
       "stream": "stdout",
       "text": [
        "\r",
        "Loading frame 1010 of 1200"
       ]
      },
      {
       "output_type": "stream",
       "stream": "stdout",
       "text": [
        "\r",
        "Loading frame 1011 of 1200"
       ]
      },
      {
       "output_type": "stream",
       "stream": "stdout",
       "text": [
        "\r",
        "Loading frame 1012 of 1200"
       ]
      },
      {
       "output_type": "stream",
       "stream": "stdout",
       "text": [
        "\r",
        "Loading frame 1013 of 1200"
       ]
      },
      {
       "output_type": "stream",
       "stream": "stdout",
       "text": [
        "\r",
        "Loading frame 1014 of 1200"
       ]
      },
      {
       "output_type": "stream",
       "stream": "stdout",
       "text": [
        "\r",
        "Loading frame 1015 of 1200"
       ]
      },
      {
       "output_type": "stream",
       "stream": "stdout",
       "text": [
        "\r",
        "Loading frame 1016 of 1200"
       ]
      },
      {
       "output_type": "stream",
       "stream": "stdout",
       "text": [
        "\r",
        "Loading frame 1017 of 1200"
       ]
      },
      {
       "output_type": "stream",
       "stream": "stdout",
       "text": [
        "\r",
        "Loading frame 1018 of 1200"
       ]
      },
      {
       "output_type": "stream",
       "stream": "stdout",
       "text": [
        "\r",
        "Loading frame 1019 of 1200"
       ]
      },
      {
       "output_type": "stream",
       "stream": "stdout",
       "text": [
        "\r",
        "Loading frame 1020 of 1200"
       ]
      },
      {
       "output_type": "stream",
       "stream": "stdout",
       "text": [
        "\r",
        "Loading frame 1021 of 1200"
       ]
      },
      {
       "output_type": "stream",
       "stream": "stdout",
       "text": [
        "\r",
        "Loading frame 1022 of 1200"
       ]
      },
      {
       "output_type": "stream",
       "stream": "stdout",
       "text": [
        "\r",
        "Loading frame 1023 of 1200"
       ]
      },
      {
       "output_type": "stream",
       "stream": "stdout",
       "text": [
        "\r",
        "Loading frame 1024 of 1200"
       ]
      },
      {
       "output_type": "stream",
       "stream": "stdout",
       "text": [
        "\r",
        "Loading frame 1025 of 1200"
       ]
      },
      {
       "output_type": "stream",
       "stream": "stdout",
       "text": [
        "\r",
        "Loading frame 1026 of 1200"
       ]
      },
      {
       "output_type": "stream",
       "stream": "stdout",
       "text": [
        "\r",
        "Loading frame 1027 of 1200"
       ]
      },
      {
       "output_type": "stream",
       "stream": "stdout",
       "text": [
        "\r",
        "Loading frame 1028 of 1200"
       ]
      },
      {
       "output_type": "stream",
       "stream": "stdout",
       "text": [
        "\r",
        "Loading frame 1029 of 1200"
       ]
      },
      {
       "output_type": "stream",
       "stream": "stdout",
       "text": [
        "\r",
        "Loading frame 1030 of 1200"
       ]
      },
      {
       "output_type": "stream",
       "stream": "stdout",
       "text": [
        "\r",
        "Loading frame 1031 of 1200"
       ]
      },
      {
       "output_type": "stream",
       "stream": "stdout",
       "text": [
        "\r",
        "Loading frame 1032 of 1200"
       ]
      },
      {
       "output_type": "stream",
       "stream": "stdout",
       "text": [
        "\r",
        "Loading frame 1033 of 1200"
       ]
      },
      {
       "output_type": "stream",
       "stream": "stdout",
       "text": [
        "\r",
        "Loading frame 1034 of 1200"
       ]
      },
      {
       "output_type": "stream",
       "stream": "stdout",
       "text": [
        "\r",
        "Loading frame 1035 of 1200"
       ]
      },
      {
       "output_type": "stream",
       "stream": "stdout",
       "text": [
        "\r",
        "Loading frame 1036 of 1200"
       ]
      },
      {
       "output_type": "stream",
       "stream": "stdout",
       "text": [
        "\r",
        "Loading frame 1037 of 1200"
       ]
      },
      {
       "output_type": "stream",
       "stream": "stdout",
       "text": [
        "\r",
        "Loading frame 1038 of 1200"
       ]
      },
      {
       "output_type": "stream",
       "stream": "stdout",
       "text": [
        "\r",
        "Loading frame 1039 of 1200"
       ]
      },
      {
       "output_type": "stream",
       "stream": "stdout",
       "text": [
        "\r",
        "Loading frame 1040 of 1200"
       ]
      },
      {
       "output_type": "stream",
       "stream": "stdout",
       "text": [
        "\r",
        "Loading frame 1041 of 1200"
       ]
      },
      {
       "output_type": "stream",
       "stream": "stdout",
       "text": [
        "\r",
        "Loading frame 1042 of 1200"
       ]
      },
      {
       "output_type": "stream",
       "stream": "stdout",
       "text": [
        "\r",
        "Loading frame 1043 of 1200"
       ]
      },
      {
       "output_type": "stream",
       "stream": "stdout",
       "text": [
        "\r",
        "Loading frame 1044 of 1200"
       ]
      },
      {
       "output_type": "stream",
       "stream": "stdout",
       "text": [
        "\r",
        "Loading frame 1045 of 1200"
       ]
      },
      {
       "output_type": "stream",
       "stream": "stdout",
       "text": [
        "\r",
        "Loading frame 1046 of 1200"
       ]
      },
      {
       "output_type": "stream",
       "stream": "stdout",
       "text": [
        "\r",
        "Loading frame 1047 of 1200"
       ]
      },
      {
       "output_type": "stream",
       "stream": "stdout",
       "text": [
        "\r",
        "Loading frame 1048 of 1200"
       ]
      },
      {
       "output_type": "stream",
       "stream": "stdout",
       "text": [
        "\r",
        "Loading frame 1049 of 1200"
       ]
      },
      {
       "output_type": "stream",
       "stream": "stdout",
       "text": [
        "\r",
        "Loading frame 1050 of 1200"
       ]
      },
      {
       "output_type": "stream",
       "stream": "stdout",
       "text": [
        "\r",
        "Loading frame 1051 of 1200"
       ]
      },
      {
       "output_type": "stream",
       "stream": "stdout",
       "text": [
        "\r",
        "Loading frame 1052 of 1200"
       ]
      },
      {
       "output_type": "stream",
       "stream": "stdout",
       "text": [
        "\r",
        "Loading frame 1053 of 1200"
       ]
      },
      {
       "output_type": "stream",
       "stream": "stdout",
       "text": [
        "\r",
        "Loading frame 1054 of 1200"
       ]
      },
      {
       "output_type": "stream",
       "stream": "stdout",
       "text": [
        "\r",
        "Loading frame 1055 of 1200"
       ]
      },
      {
       "output_type": "stream",
       "stream": "stdout",
       "text": [
        "\r",
        "Loading frame 1056 of 1200"
       ]
      },
      {
       "output_type": "stream",
       "stream": "stdout",
       "text": [
        "\r",
        "Loading frame 1057 of 1200"
       ]
      },
      {
       "output_type": "stream",
       "stream": "stdout",
       "text": [
        "\r",
        "Loading frame 1058 of 1200"
       ]
      },
      {
       "output_type": "stream",
       "stream": "stdout",
       "text": [
        "\r",
        "Loading frame 1059 of 1200"
       ]
      },
      {
       "output_type": "stream",
       "stream": "stdout",
       "text": [
        "\r",
        "Loading frame 1060 of 1200"
       ]
      },
      {
       "output_type": "stream",
       "stream": "stdout",
       "text": [
        "\r",
        "Loading frame 1061 of 1200"
       ]
      },
      {
       "output_type": "stream",
       "stream": "stdout",
       "text": [
        "\r",
        "Loading frame 1062 of 1200"
       ]
      },
      {
       "output_type": "stream",
       "stream": "stdout",
       "text": [
        "\r",
        "Loading frame 1063 of 1200"
       ]
      },
      {
       "output_type": "stream",
       "stream": "stdout",
       "text": [
        "\r",
        "Loading frame 1064 of 1200"
       ]
      },
      {
       "output_type": "stream",
       "stream": "stdout",
       "text": [
        "\r",
        "Loading frame 1065 of 1200"
       ]
      },
      {
       "output_type": "stream",
       "stream": "stdout",
       "text": [
        "\r",
        "Loading frame 1066 of 1200"
       ]
      },
      {
       "output_type": "stream",
       "stream": "stdout",
       "text": [
        "\r",
        "Loading frame 1067 of 1200"
       ]
      },
      {
       "output_type": "stream",
       "stream": "stdout",
       "text": [
        "\r",
        "Loading frame 1068 of 1200"
       ]
      },
      {
       "output_type": "stream",
       "stream": "stdout",
       "text": [
        "\r",
        "Loading frame 1069 of 1200"
       ]
      },
      {
       "output_type": "stream",
       "stream": "stdout",
       "text": [
        "\r",
        "Loading frame 1070 of 1200"
       ]
      },
      {
       "output_type": "stream",
       "stream": "stdout",
       "text": [
        "\r",
        "Loading frame 1071 of 1200"
       ]
      },
      {
       "output_type": "stream",
       "stream": "stdout",
       "text": [
        "\r",
        "Loading frame 1072 of 1200"
       ]
      },
      {
       "output_type": "stream",
       "stream": "stdout",
       "text": [
        "\r",
        "Loading frame 1073 of 1200"
       ]
      },
      {
       "output_type": "stream",
       "stream": "stdout",
       "text": [
        "\r",
        "Loading frame 1074 of 1200"
       ]
      },
      {
       "output_type": "stream",
       "stream": "stdout",
       "text": [
        "\r",
        "Loading frame 1075 of 1200"
       ]
      },
      {
       "output_type": "stream",
       "stream": "stdout",
       "text": [
        "\r",
        "Loading frame 1076 of 1200"
       ]
      },
      {
       "output_type": "stream",
       "stream": "stdout",
       "text": [
        "\r",
        "Loading frame 1077 of 1200"
       ]
      },
      {
       "output_type": "stream",
       "stream": "stdout",
       "text": [
        "\r",
        "Loading frame 1078 of 1200"
       ]
      },
      {
       "output_type": "stream",
       "stream": "stdout",
       "text": [
        "\r",
        "Loading frame 1079 of 1200"
       ]
      },
      {
       "output_type": "stream",
       "stream": "stdout",
       "text": [
        "\r",
        "Loading frame 1080 of 1200"
       ]
      },
      {
       "output_type": "stream",
       "stream": "stdout",
       "text": [
        "\r",
        "Loading frame 1081 of 1200"
       ]
      },
      {
       "output_type": "stream",
       "stream": "stdout",
       "text": [
        "\r",
        "Loading frame 1082 of 1200"
       ]
      },
      {
       "output_type": "stream",
       "stream": "stdout",
       "text": [
        "\r",
        "Loading frame 1083 of 1200"
       ]
      },
      {
       "output_type": "stream",
       "stream": "stdout",
       "text": [
        "\r",
        "Loading frame 1084 of 1200"
       ]
      },
      {
       "output_type": "stream",
       "stream": "stdout",
       "text": [
        "\r",
        "Loading frame 1085 of 1200"
       ]
      },
      {
       "output_type": "stream",
       "stream": "stdout",
       "text": [
        "\r",
        "Loading frame 1086 of 1200"
       ]
      },
      {
       "output_type": "stream",
       "stream": "stdout",
       "text": [
        "\r",
        "Loading frame 1087 of 1200"
       ]
      },
      {
       "output_type": "stream",
       "stream": "stdout",
       "text": [
        "\r",
        "Loading frame 1088 of 1200"
       ]
      },
      {
       "output_type": "stream",
       "stream": "stdout",
       "text": [
        "\r",
        "Loading frame 1089 of 1200"
       ]
      },
      {
       "output_type": "stream",
       "stream": "stdout",
       "text": [
        "\r",
        "Loading frame 1090 of 1200"
       ]
      },
      {
       "output_type": "stream",
       "stream": "stdout",
       "text": [
        "\r",
        "Loading frame 1091 of 1200"
       ]
      },
      {
       "output_type": "stream",
       "stream": "stdout",
       "text": [
        "\r",
        "Loading frame 1092 of 1200"
       ]
      },
      {
       "output_type": "stream",
       "stream": "stdout",
       "text": [
        "\r",
        "Loading frame 1093 of 1200"
       ]
      },
      {
       "output_type": "stream",
       "stream": "stdout",
       "text": [
        "\r",
        "Loading frame 1094 of 1200"
       ]
      },
      {
       "output_type": "stream",
       "stream": "stdout",
       "text": [
        "\r",
        "Loading frame 1095 of 1200"
       ]
      },
      {
       "output_type": "stream",
       "stream": "stdout",
       "text": [
        "\r",
        "Loading frame 1096 of 1200"
       ]
      },
      {
       "output_type": "stream",
       "stream": "stdout",
       "text": [
        "\r",
        "Loading frame 1097 of 1200"
       ]
      },
      {
       "output_type": "stream",
       "stream": "stdout",
       "text": [
        "\r",
        "Loading frame 1098 of 1200"
       ]
      },
      {
       "output_type": "stream",
       "stream": "stdout",
       "text": [
        "\r",
        "Loading frame 1099 of 1200"
       ]
      },
      {
       "output_type": "stream",
       "stream": "stdout",
       "text": [
        "\r",
        "Loading frame 1100 of 1200"
       ]
      },
      {
       "output_type": "stream",
       "stream": "stdout",
       "text": [
        "\r",
        "Loading frame 1101 of 1200"
       ]
      },
      {
       "output_type": "stream",
       "stream": "stdout",
       "text": [
        "\r",
        "Loading frame 1102 of 1200"
       ]
      },
      {
       "output_type": "stream",
       "stream": "stdout",
       "text": [
        "\r",
        "Loading frame 1103 of 1200"
       ]
      },
      {
       "output_type": "stream",
       "stream": "stdout",
       "text": [
        "\r",
        "Loading frame 1104 of 1200"
       ]
      },
      {
       "output_type": "stream",
       "stream": "stdout",
       "text": [
        "\r",
        "Loading frame 1105 of 1200"
       ]
      },
      {
       "output_type": "stream",
       "stream": "stdout",
       "text": [
        "\r",
        "Loading frame 1106 of 1200"
       ]
      },
      {
       "output_type": "stream",
       "stream": "stdout",
       "text": [
        "\r",
        "Loading frame 1107 of 1200"
       ]
      },
      {
       "output_type": "stream",
       "stream": "stdout",
       "text": [
        "\r",
        "Loading frame 1108 of 1200"
       ]
      },
      {
       "output_type": "stream",
       "stream": "stdout",
       "text": [
        "\r",
        "Loading frame 1109 of 1200"
       ]
      },
      {
       "output_type": "stream",
       "stream": "stdout",
       "text": [
        "\r",
        "Loading frame 1110 of 1200"
       ]
      },
      {
       "output_type": "stream",
       "stream": "stdout",
       "text": [
        "\r",
        "Loading frame 1111 of 1200"
       ]
      },
      {
       "output_type": "stream",
       "stream": "stdout",
       "text": [
        "\r",
        "Loading frame 1112 of 1200"
       ]
      },
      {
       "output_type": "stream",
       "stream": "stdout",
       "text": [
        "\r",
        "Loading frame 1113 of 1200"
       ]
      },
      {
       "output_type": "stream",
       "stream": "stdout",
       "text": [
        "\r",
        "Loading frame 1114 of 1200"
       ]
      },
      {
       "output_type": "stream",
       "stream": "stdout",
       "text": [
        "\r",
        "Loading frame 1115 of 1200"
       ]
      },
      {
       "output_type": "stream",
       "stream": "stdout",
       "text": [
        "\r",
        "Loading frame 1116 of 1200"
       ]
      },
      {
       "output_type": "stream",
       "stream": "stdout",
       "text": [
        "\r",
        "Loading frame 1117 of 1200"
       ]
      },
      {
       "output_type": "stream",
       "stream": "stdout",
       "text": [
        "\r",
        "Loading frame 1118 of 1200"
       ]
      },
      {
       "output_type": "stream",
       "stream": "stdout",
       "text": [
        "\r",
        "Loading frame 1119 of 1200"
       ]
      },
      {
       "output_type": "stream",
       "stream": "stdout",
       "text": [
        "\r",
        "Loading frame 1120 of 1200"
       ]
      },
      {
       "output_type": "stream",
       "stream": "stdout",
       "text": [
        "\r",
        "Loading frame 1121 of 1200"
       ]
      },
      {
       "output_type": "stream",
       "stream": "stdout",
       "text": [
        "\r",
        "Loading frame 1122 of 1200"
       ]
      },
      {
       "output_type": "stream",
       "stream": "stdout",
       "text": [
        "\r",
        "Loading frame 1123 of 1200"
       ]
      },
      {
       "output_type": "stream",
       "stream": "stdout",
       "text": [
        "\r",
        "Loading frame 1124 of 1200"
       ]
      },
      {
       "output_type": "stream",
       "stream": "stdout",
       "text": [
        "\r",
        "Loading frame 1125 of 1200"
       ]
      },
      {
       "output_type": "stream",
       "stream": "stdout",
       "text": [
        "\r",
        "Loading frame 1126 of 1200"
       ]
      },
      {
       "output_type": "stream",
       "stream": "stdout",
       "text": [
        "\r",
        "Loading frame 1127 of 1200"
       ]
      },
      {
       "output_type": "stream",
       "stream": "stdout",
       "text": [
        "\r",
        "Loading frame 1128 of 1200"
       ]
      },
      {
       "output_type": "stream",
       "stream": "stdout",
       "text": [
        "\r",
        "Loading frame 1129 of 1200"
       ]
      },
      {
       "output_type": "stream",
       "stream": "stdout",
       "text": [
        "\r",
        "Loading frame 1130 of 1200"
       ]
      },
      {
       "output_type": "stream",
       "stream": "stdout",
       "text": [
        "\r",
        "Loading frame 1131 of 1200"
       ]
      },
      {
       "output_type": "stream",
       "stream": "stdout",
       "text": [
        "\r",
        "Loading frame 1132 of 1200"
       ]
      },
      {
       "output_type": "stream",
       "stream": "stdout",
       "text": [
        "\r",
        "Loading frame 1133 of 1200"
       ]
      },
      {
       "output_type": "stream",
       "stream": "stdout",
       "text": [
        "\r",
        "Loading frame 1134 of 1200"
       ]
      },
      {
       "output_type": "stream",
       "stream": "stdout",
       "text": [
        "\r",
        "Loading frame 1135 of 1200"
       ]
      },
      {
       "output_type": "stream",
       "stream": "stdout",
       "text": [
        "\r",
        "Loading frame 1136 of 1200"
       ]
      },
      {
       "output_type": "stream",
       "stream": "stdout",
       "text": [
        "\r",
        "Loading frame 1137 of 1200"
       ]
      },
      {
       "output_type": "stream",
       "stream": "stdout",
       "text": [
        "\r",
        "Loading frame 1138 of 1200"
       ]
      },
      {
       "output_type": "stream",
       "stream": "stdout",
       "text": [
        "\r",
        "Loading frame 1139 of 1200"
       ]
      },
      {
       "output_type": "stream",
       "stream": "stdout",
       "text": [
        "\r",
        "Loading frame 1140 of 1200"
       ]
      },
      {
       "output_type": "stream",
       "stream": "stdout",
       "text": [
        "\r",
        "Loading frame 1141 of 1200"
       ]
      },
      {
       "output_type": "stream",
       "stream": "stdout",
       "text": [
        "\r",
        "Loading frame 1142 of 1200"
       ]
      },
      {
       "output_type": "stream",
       "stream": "stdout",
       "text": [
        "\r",
        "Loading frame 1143 of 1200"
       ]
      },
      {
       "output_type": "stream",
       "stream": "stdout",
       "text": [
        "\r",
        "Loading frame 1144 of 1200"
       ]
      },
      {
       "output_type": "stream",
       "stream": "stdout",
       "text": [
        "\r",
        "Loading frame 1145 of 1200"
       ]
      },
      {
       "output_type": "stream",
       "stream": "stdout",
       "text": [
        "\r",
        "Loading frame 1146 of 1200"
       ]
      },
      {
       "output_type": "stream",
       "stream": "stdout",
       "text": [
        "\r",
        "Loading frame 1147 of 1200"
       ]
      },
      {
       "output_type": "stream",
       "stream": "stdout",
       "text": [
        "\r",
        "Loading frame 1148 of 1200"
       ]
      },
      {
       "output_type": "stream",
       "stream": "stdout",
       "text": [
        "\r",
        "Loading frame 1149 of 1200"
       ]
      },
      {
       "output_type": "stream",
       "stream": "stdout",
       "text": [
        "\r",
        "Loading frame 1150 of 1200"
       ]
      },
      {
       "output_type": "stream",
       "stream": "stdout",
       "text": [
        "\r",
        "Loading frame 1151 of 1200"
       ]
      },
      {
       "output_type": "stream",
       "stream": "stdout",
       "text": [
        "\r",
        "Loading frame 1152 of 1200"
       ]
      },
      {
       "output_type": "stream",
       "stream": "stdout",
       "text": [
        "\r",
        "Loading frame 1153 of 1200"
       ]
      },
      {
       "output_type": "stream",
       "stream": "stdout",
       "text": [
        "\r",
        "Loading frame 1154 of 1200"
       ]
      },
      {
       "output_type": "stream",
       "stream": "stdout",
       "text": [
        "\r",
        "Loading frame 1155 of 1200"
       ]
      },
      {
       "output_type": "stream",
       "stream": "stdout",
       "text": [
        "\r",
        "Loading frame 1156 of 1200"
       ]
      },
      {
       "output_type": "stream",
       "stream": "stdout",
       "text": [
        "\r",
        "Loading frame 1157 of 1200"
       ]
      },
      {
       "output_type": "stream",
       "stream": "stdout",
       "text": [
        "\r",
        "Loading frame 1158 of 1200"
       ]
      },
      {
       "output_type": "stream",
       "stream": "stdout",
       "text": [
        "\r",
        "Loading frame 1159 of 1200"
       ]
      },
      {
       "output_type": "stream",
       "stream": "stdout",
       "text": [
        "\r",
        "Loading frame 1160 of 1200"
       ]
      },
      {
       "output_type": "stream",
       "stream": "stdout",
       "text": [
        "\r",
        "Loading frame 1161 of 1200"
       ]
      },
      {
       "output_type": "stream",
       "stream": "stdout",
       "text": [
        "\r",
        "Loading frame 1162 of 1200"
       ]
      },
      {
       "output_type": "stream",
       "stream": "stdout",
       "text": [
        "\r",
        "Loading frame 1163 of 1200"
       ]
      },
      {
       "output_type": "stream",
       "stream": "stdout",
       "text": [
        "\r",
        "Loading frame 1164 of 1200"
       ]
      },
      {
       "output_type": "stream",
       "stream": "stdout",
       "text": [
        "\r",
        "Loading frame 1165 of 1200"
       ]
      },
      {
       "output_type": "stream",
       "stream": "stdout",
       "text": [
        "\r",
        "Loading frame 1166 of 1200"
       ]
      },
      {
       "output_type": "stream",
       "stream": "stdout",
       "text": [
        "\r",
        "Loading frame 1167 of 1200"
       ]
      },
      {
       "output_type": "stream",
       "stream": "stdout",
       "text": [
        "\r",
        "Loading frame 1168 of 1200"
       ]
      },
      {
       "output_type": "stream",
       "stream": "stdout",
       "text": [
        "\r",
        "Loading frame 1169 of 1200"
       ]
      },
      {
       "output_type": "stream",
       "stream": "stdout",
       "text": [
        "\r",
        "Loading frame 1170 of 1200"
       ]
      },
      {
       "output_type": "stream",
       "stream": "stdout",
       "text": [
        "\r",
        "Loading frame 1171 of 1200"
       ]
      },
      {
       "output_type": "stream",
       "stream": "stdout",
       "text": [
        "\r",
        "Loading frame 1172 of 1200"
       ]
      },
      {
       "output_type": "stream",
       "stream": "stdout",
       "text": [
        "\r",
        "Loading frame 1173 of 1200"
       ]
      },
      {
       "output_type": "stream",
       "stream": "stdout",
       "text": [
        "\r",
        "Loading frame 1174 of 1200"
       ]
      },
      {
       "output_type": "stream",
       "stream": "stdout",
       "text": [
        "\r",
        "Loading frame 1175 of 1200"
       ]
      },
      {
       "output_type": "stream",
       "stream": "stdout",
       "text": [
        "\r",
        "Loading frame 1176 of 1200"
       ]
      },
      {
       "output_type": "stream",
       "stream": "stdout",
       "text": [
        "\r",
        "Loading frame 1177 of 1200"
       ]
      },
      {
       "output_type": "stream",
       "stream": "stdout",
       "text": [
        "\r",
        "Loading frame 1178 of 1200"
       ]
      },
      {
       "output_type": "stream",
       "stream": "stdout",
       "text": [
        "\r",
        "Loading frame 1179 of 1200"
       ]
      },
      {
       "output_type": "stream",
       "stream": "stdout",
       "text": [
        "\r",
        "Loading frame 1180 of 1200"
       ]
      },
      {
       "output_type": "stream",
       "stream": "stdout",
       "text": [
        "\r",
        "Loading frame 1181 of 1200"
       ]
      },
      {
       "output_type": "stream",
       "stream": "stdout",
       "text": [
        "\r",
        "Loading frame 1182 of 1200"
       ]
      },
      {
       "output_type": "stream",
       "stream": "stdout",
       "text": [
        "\r",
        "Loading frame 1183 of 1200"
       ]
      },
      {
       "output_type": "stream",
       "stream": "stdout",
       "text": [
        "\r",
        "Loading frame 1184 of 1200"
       ]
      },
      {
       "output_type": "stream",
       "stream": "stdout",
       "text": [
        "\r",
        "Loading frame 1185 of 1200"
       ]
      },
      {
       "output_type": "stream",
       "stream": "stdout",
       "text": [
        "\r",
        "Loading frame 1186 of 1200"
       ]
      },
      {
       "output_type": "stream",
       "stream": "stdout",
       "text": [
        "\r",
        "Loading frame 1187 of 1200"
       ]
      },
      {
       "output_type": "stream",
       "stream": "stdout",
       "text": [
        "\r",
        "Loading frame 1188 of 1200"
       ]
      },
      {
       "output_type": "stream",
       "stream": "stdout",
       "text": [
        "\r",
        "Loading frame 1189 of 1200"
       ]
      },
      {
       "output_type": "stream",
       "stream": "stdout",
       "text": [
        "\r",
        "Loading frame 1190 of 1200"
       ]
      },
      {
       "output_type": "stream",
       "stream": "stdout",
       "text": [
        "\r",
        "Loading frame 1191 of 1200"
       ]
      },
      {
       "output_type": "stream",
       "stream": "stdout",
       "text": [
        "\r",
        "Loading frame 1192 of 1200"
       ]
      },
      {
       "output_type": "stream",
       "stream": "stdout",
       "text": [
        "\r",
        "Loading frame 1193 of 1200"
       ]
      },
      {
       "output_type": "stream",
       "stream": "stdout",
       "text": [
        "\r",
        "Loading frame 1194 of 1200"
       ]
      },
      {
       "output_type": "stream",
       "stream": "stdout",
       "text": [
        "\r",
        "Loading frame 1195 of 1200"
       ]
      },
      {
       "output_type": "stream",
       "stream": "stdout",
       "text": [
        "\r",
        "Loading frame 1196 of 1200"
       ]
      },
      {
       "output_type": "stream",
       "stream": "stdout",
       "text": [
        "\r",
        "Loading frame 1197 of 1200"
       ]
      },
      {
       "output_type": "stream",
       "stream": "stdout",
       "text": [
        "\r",
        "Loading frame 1198 of 1200"
       ]
      },
      {
       "output_type": "stream",
       "stream": "stdout",
       "text": [
        "\r",
        "Loading frame 1199 of 1200"
       ]
      },
      {
       "output_type": "stream",
       "stream": "stdout",
       "text": [
        "\n",
        "\r",
        "Loading trimap 0 of 1"
       ]
      },
      {
       "output_type": "stream",
       "stream": "stdout",
       "text": [
        "\n",
        "immediate\n",
        "immediate"
       ]
      },
      {
       "output_type": "stream",
       "stream": "stdout",
       "text": [
        "\n",
        "sigma"
       ]
      },
      {
       "output_type": "stream",
       "stream": "stdout",
       "text": [
        " 367.601381863\n",
        "(1191, 1191)"
       ]
      },
      {
       "output_type": "stream",
       "stream": "stdout",
       "text": [
        " (1191, 1191)\n",
        "starting frame= 1187\n",
        "total final frames ="
       ]
      },
      {
       "output_type": "stream",
       "stream": "stdout",
       "text": [
        " 1189 - jumps = 1\n",
        "delayed\n",
        "sigma"
       ]
      },
      {
       "output_type": "stream",
       "stream": "stdout",
       "text": [
        " 367.601381863\n",
        "(1191, 1191) (1191, 1191)\n",
        "starting frame= 1187\n",
        "total final frames ="
       ]
      },
      {
       "output_type": "stream",
       "stream": "stdout",
       "text": [
        " 1188 - jumps = 1\n",
        "immediate"
       ]
      },
      {
       "output_type": "stream",
       "stream": "stdout",
       "text": [
        "\n",
        "sigma"
       ]
      },
      {
       "output_type": "stream",
       "stream": "stdout",
       "text": [
        " 367.601381863\n",
        "(1191, 1191)"
       ]
      },
      {
       "output_type": "stream",
       "stream": "stdout",
       "text": [
        " (1191, 1191)\n",
        "starting frame= 703\n",
        "total final frames ="
       ]
      },
      {
       "output_type": "stream",
       "stream": "stdout",
       "text": [
        " 140 - jumps = 1\n",
        "delayed"
       ]
      },
      {
       "output_type": "stream",
       "stream": "stdout",
       "text": [
        "\n",
        "sigma"
       ]
      },
      {
       "output_type": "stream",
       "stream": "stdout",
       "text": [
        " 367.601381863\n",
        "(1191, 1191)"
       ]
      },
      {
       "output_type": "stream",
       "stream": "stdout",
       "text": [
        " (1191, 1191)\n",
        "starting frame= 918\n",
        "total final frames ="
       ]
      },
      {
       "output_type": "stream",
       "stream": "stdout",
       "text": [
        " 368 - jumps = 1\n",
        "immediate"
       ]
      },
      {
       "output_type": "stream",
       "stream": "stdout",
       "text": [
        "\n",
        "sigma"
       ]
      },
      {
       "output_type": "stream",
       "stream": "stdout",
       "text": [
        " 367.601381863\n",
        "(1191, 1191)"
       ]
      },
      {
       "output_type": "stream",
       "stream": "stdout",
       "text": [
        " (1191, 1191)\n",
        "starting frame= 908\n",
        "total final frames ="
       ]
      },
      {
       "output_type": "stream",
       "stream": "stdout",
       "text": [
        " 363 - jumps = 1\n",
        "delayed\n",
        "sigma"
       ]
      },
      {
       "output_type": "stream",
       "stream": "stdout",
       "text": [
        " 367.601381863\n",
        "(1191, 1191)"
       ]
      },
      {
       "output_type": "stream",
       "stream": "stdout",
       "text": [
        " (1191, 1191)\n",
        "starting frame= 719\n",
        "total final frames ="
       ]
      },
      {
       "output_type": "stream",
       "stream": "stdout",
       "text": [
        " 334 - jumps = 1\n",
        "immediate\n",
        "sigma"
       ]
      },
      {
       "output_type": "stream",
       "stream": "stdout",
       "text": [
        " 367.601381863\n",
        "(1191, 1191)"
       ]
      },
      {
       "output_type": "stream",
       "stream": "stdout",
       "text": [
        " (1191, 1191)\n",
        "starting frame= 712\n",
        "total final frames ="
       ]
      },
      {
       "output_type": "stream",
       "stream": "stdout",
       "text": [
        " 331 - jumps = 1\n",
        "delayed\n",
        "sigma"
       ]
      },
      {
       "output_type": "stream",
       "stream": "stdout",
       "text": [
        " 367.601381863\n",
        "(1191, 1191)"
       ]
      },
      {
       "output_type": "stream",
       "stream": "stdout",
       "text": [
        " (1191, 1191)\n",
        "starting frame= 590\n",
        "total final frames ="
       ]
      },
      {
       "output_type": "stream",
       "stream": "stdout",
       "text": [
        " 363 - jumps = 1\n",
        "\r",
        "Saving frame 0 of 363"
       ]
      },
      {
       "output_type": "stream",
       "stream": "stdout",
       "text": [
        "\r",
        "Saving frame 1 of 363"
       ]
      },
      {
       "output_type": "stream",
       "stream": "stdout",
       "text": [
        "\r",
        "Saving frame 2 of 363"
       ]
      },
      {
       "output_type": "stream",
       "stream": "stdout",
       "text": [
        "\r",
        "Saving frame 3 of 363"
       ]
      },
      {
       "output_type": "stream",
       "stream": "stdout",
       "text": [
        "\r",
        "Saving frame 4 of 363"
       ]
      },
      {
       "output_type": "stream",
       "stream": "stdout",
       "text": [
        "\r",
        "Saving frame 5 of 363"
       ]
      },
      {
       "output_type": "stream",
       "stream": "stdout",
       "text": [
        "\r",
        "Saving frame 6 of 363"
       ]
      },
      {
       "output_type": "stream",
       "stream": "stdout",
       "text": [
        "\r",
        "Saving frame 7 of 363"
       ]
      },
      {
       "output_type": "stream",
       "stream": "stdout",
       "text": [
        "\r",
        "Saving frame 8 of 363"
       ]
      },
      {
       "output_type": "stream",
       "stream": "stdout",
       "text": [
        "\r",
        "Saving frame 9 of 363"
       ]
      },
      {
       "output_type": "stream",
       "stream": "stdout",
       "text": [
        "\r",
        "Saving frame 10 of 363"
       ]
      },
      {
       "output_type": "stream",
       "stream": "stdout",
       "text": [
        "\r",
        "Saving frame 11 of 363"
       ]
      },
      {
       "output_type": "stream",
       "stream": "stdout",
       "text": [
        "\r",
        "Saving frame 12 of 363"
       ]
      },
      {
       "output_type": "stream",
       "stream": "stdout",
       "text": [
        "\r",
        "Saving frame 13 of 363"
       ]
      },
      {
       "output_type": "stream",
       "stream": "stdout",
       "text": [
        "\r",
        "Saving frame 14 of 363"
       ]
      },
      {
       "output_type": "stream",
       "stream": "stdout",
       "text": [
        "\r",
        "Saving frame 15 of 363"
       ]
      },
      {
       "output_type": "stream",
       "stream": "stdout",
       "text": [
        "\r",
        "Saving frame 16 of 363"
       ]
      },
      {
       "output_type": "stream",
       "stream": "stdout",
       "text": [
        "\r",
        "Saving frame 17 of 363"
       ]
      },
      {
       "output_type": "stream",
       "stream": "stdout",
       "text": [
        "\r",
        "Saving frame 18 of 363"
       ]
      },
      {
       "output_type": "stream",
       "stream": "stdout",
       "text": [
        "\r",
        "Saving frame 19 of 363"
       ]
      },
      {
       "output_type": "stream",
       "stream": "stdout",
       "text": [
        "\r",
        "Saving frame 20 of 363"
       ]
      },
      {
       "output_type": "stream",
       "stream": "stdout",
       "text": [
        "\r",
        "Saving frame 21 of 363"
       ]
      },
      {
       "output_type": "stream",
       "stream": "stdout",
       "text": [
        "\r",
        "Saving frame 22 of 363"
       ]
      },
      {
       "output_type": "stream",
       "stream": "stdout",
       "text": [
        "\r",
        "Saving frame 23 of 363"
       ]
      },
      {
       "output_type": "stream",
       "stream": "stdout",
       "text": [
        "\r",
        "Saving frame 24 of 363"
       ]
      },
      {
       "output_type": "stream",
       "stream": "stdout",
       "text": [
        "\r",
        "Saving frame 25 of 363"
       ]
      },
      {
       "output_type": "stream",
       "stream": "stdout",
       "text": [
        "\r",
        "Saving frame 26 of 363"
       ]
      },
      {
       "output_type": "stream",
       "stream": "stdout",
       "text": [
        "\r",
        "Saving frame 27 of 363"
       ]
      },
      {
       "output_type": "stream",
       "stream": "stdout",
       "text": [
        "\r",
        "Saving frame 28 of 363"
       ]
      },
      {
       "output_type": "stream",
       "stream": "stdout",
       "text": [
        "\r",
        "Saving frame 29 of 363"
       ]
      },
      {
       "output_type": "stream",
       "stream": "stdout",
       "text": [
        "\r",
        "Saving frame 30 of 363"
       ]
      },
      {
       "output_type": "stream",
       "stream": "stdout",
       "text": [
        "\r",
        "Saving frame 31 of 363"
       ]
      },
      {
       "output_type": "stream",
       "stream": "stdout",
       "text": [
        "\r",
        "Saving frame 32 of 363"
       ]
      },
      {
       "output_type": "stream",
       "stream": "stdout",
       "text": [
        "\r",
        "Saving frame 33 of 363"
       ]
      },
      {
       "output_type": "stream",
       "stream": "stdout",
       "text": [
        "\r",
        "Saving frame 34 of 363"
       ]
      },
      {
       "output_type": "stream",
       "stream": "stdout",
       "text": [
        "\r",
        "Saving frame 35 of 363"
       ]
      },
      {
       "output_type": "stream",
       "stream": "stdout",
       "text": [
        "\r",
        "Saving frame 36 of 363"
       ]
      },
      {
       "output_type": "stream",
       "stream": "stdout",
       "text": [
        "\r",
        "Saving frame 37 of 363"
       ]
      },
      {
       "output_type": "stream",
       "stream": "stdout",
       "text": [
        "\r",
        "Saving frame 38 of 363"
       ]
      },
      {
       "output_type": "stream",
       "stream": "stdout",
       "text": [
        "\r",
        "Saving frame 39 of 363"
       ]
      },
      {
       "output_type": "stream",
       "stream": "stdout",
       "text": [
        "\r",
        "Saving frame 40 of 363"
       ]
      },
      {
       "output_type": "stream",
       "stream": "stdout",
       "text": [
        "\r",
        "Saving frame 41 of 363"
       ]
      },
      {
       "output_type": "stream",
       "stream": "stdout",
       "text": [
        "\r",
        "Saving frame 42 of 363"
       ]
      },
      {
       "output_type": "stream",
       "stream": "stdout",
       "text": [
        "\r",
        "Saving frame 43 of 363"
       ]
      },
      {
       "output_type": "stream",
       "stream": "stdout",
       "text": [
        "\r",
        "Saving frame 44 of 363"
       ]
      },
      {
       "output_type": "stream",
       "stream": "stdout",
       "text": [
        "\r",
        "Saving frame 45 of 363"
       ]
      },
      {
       "output_type": "stream",
       "stream": "stdout",
       "text": [
        "\r",
        "Saving frame 46 of 363"
       ]
      },
      {
       "output_type": "stream",
       "stream": "stdout",
       "text": [
        "\r",
        "Saving frame 47 of 363"
       ]
      },
      {
       "output_type": "stream",
       "stream": "stdout",
       "text": [
        "\r",
        "Saving frame 48 of 363"
       ]
      },
      {
       "output_type": "stream",
       "stream": "stdout",
       "text": [
        "\r",
        "Saving frame 49 of 363"
       ]
      },
      {
       "output_type": "stream",
       "stream": "stdout",
       "text": [
        "\r",
        "Saving frame 50 of 363"
       ]
      },
      {
       "output_type": "stream",
       "stream": "stdout",
       "text": [
        "\r",
        "Saving frame 51 of 363"
       ]
      },
      {
       "output_type": "stream",
       "stream": "stdout",
       "text": [
        "\r",
        "Saving frame 52 of 363"
       ]
      },
      {
       "output_type": "stream",
       "stream": "stdout",
       "text": [
        "\r",
        "Saving frame 53 of 363"
       ]
      },
      {
       "output_type": "stream",
       "stream": "stdout",
       "text": [
        "\r",
        "Saving frame 54 of 363"
       ]
      },
      {
       "output_type": "stream",
       "stream": "stdout",
       "text": [
        "\r",
        "Saving frame 55 of 363"
       ]
      },
      {
       "output_type": "stream",
       "stream": "stdout",
       "text": [
        "\r",
        "Saving frame 56 of 363"
       ]
      },
      {
       "output_type": "stream",
       "stream": "stdout",
       "text": [
        "\r",
        "Saving frame 57 of 363"
       ]
      },
      {
       "output_type": "stream",
       "stream": "stdout",
       "text": [
        "\r",
        "Saving frame 58 of 363"
       ]
      },
      {
       "output_type": "stream",
       "stream": "stdout",
       "text": [
        "\r",
        "Saving frame 59 of 363"
       ]
      },
      {
       "output_type": "stream",
       "stream": "stdout",
       "text": [
        "\r",
        "Saving frame 60 of 363"
       ]
      },
      {
       "output_type": "stream",
       "stream": "stdout",
       "text": [
        "\r",
        "Saving frame 61 of 363"
       ]
      },
      {
       "output_type": "stream",
       "stream": "stdout",
       "text": [
        "\r",
        "Saving frame 62 of 363"
       ]
      },
      {
       "output_type": "stream",
       "stream": "stdout",
       "text": [
        "\r",
        "Saving frame 63 of 363"
       ]
      },
      {
       "output_type": "stream",
       "stream": "stdout",
       "text": [
        "\r",
        "Saving frame 64 of 363"
       ]
      },
      {
       "output_type": "stream",
       "stream": "stdout",
       "text": [
        "\r",
        "Saving frame 65 of 363"
       ]
      },
      {
       "output_type": "stream",
       "stream": "stdout",
       "text": [
        "\r",
        "Saving frame 66 of 363"
       ]
      },
      {
       "output_type": "stream",
       "stream": "stdout",
       "text": [
        "\r",
        "Saving frame 67 of 363"
       ]
      },
      {
       "output_type": "stream",
       "stream": "stdout",
       "text": [
        "\r",
        "Saving frame 68 of 363"
       ]
      },
      {
       "output_type": "stream",
       "stream": "stdout",
       "text": [
        "\r",
        "Saving frame 69 of 363"
       ]
      },
      {
       "output_type": "stream",
       "stream": "stdout",
       "text": [
        "\r",
        "Saving frame 70 of 363"
       ]
      },
      {
       "output_type": "stream",
       "stream": "stdout",
       "text": [
        "\r",
        "Saving frame 71 of 363"
       ]
      },
      {
       "output_type": "stream",
       "stream": "stdout",
       "text": [
        "\r",
        "Saving frame 72 of 363"
       ]
      },
      {
       "output_type": "stream",
       "stream": "stdout",
       "text": [
        "\r",
        "Saving frame 73 of 363"
       ]
      },
      {
       "output_type": "stream",
       "stream": "stdout",
       "text": [
        "\r",
        "Saving frame 74 of 363"
       ]
      },
      {
       "output_type": "stream",
       "stream": "stdout",
       "text": [
        "\r",
        "Saving frame 75 of 363"
       ]
      },
      {
       "output_type": "stream",
       "stream": "stdout",
       "text": [
        "\r",
        "Saving frame 76 of 363"
       ]
      },
      {
       "output_type": "stream",
       "stream": "stdout",
       "text": [
        "\r",
        "Saving frame 77 of 363"
       ]
      },
      {
       "output_type": "stream",
       "stream": "stdout",
       "text": [
        "\r",
        "Saving frame 78 of 363"
       ]
      },
      {
       "output_type": "stream",
       "stream": "stdout",
       "text": [
        "\r",
        "Saving frame 79 of 363"
       ]
      },
      {
       "output_type": "stream",
       "stream": "stdout",
       "text": [
        "\r",
        "Saving frame 80 of 363"
       ]
      },
      {
       "output_type": "stream",
       "stream": "stdout",
       "text": [
        "\r",
        "Saving frame 81 of 363"
       ]
      },
      {
       "output_type": "stream",
       "stream": "stdout",
       "text": [
        "\r",
        "Saving frame 82 of 363"
       ]
      },
      {
       "output_type": "stream",
       "stream": "stdout",
       "text": [
        "\r",
        "Saving frame 83 of 363"
       ]
      },
      {
       "output_type": "stream",
       "stream": "stdout",
       "text": [
        "\r",
        "Saving frame 84 of 363"
       ]
      },
      {
       "output_type": "stream",
       "stream": "stdout",
       "text": [
        "\r",
        "Saving frame 85 of 363"
       ]
      },
      {
       "output_type": "stream",
       "stream": "stdout",
       "text": [
        "\r",
        "Saving frame 86 of 363"
       ]
      },
      {
       "output_type": "stream",
       "stream": "stdout",
       "text": [
        "\r",
        "Saving frame 87 of 363"
       ]
      },
      {
       "output_type": "stream",
       "stream": "stdout",
       "text": [
        "\r",
        "Saving frame 88 of 363"
       ]
      },
      {
       "output_type": "stream",
       "stream": "stdout",
       "text": [
        "\r",
        "Saving frame 89 of 363"
       ]
      },
      {
       "output_type": "stream",
       "stream": "stdout",
       "text": [
        "\r",
        "Saving frame 90 of 363"
       ]
      },
      {
       "output_type": "stream",
       "stream": "stdout",
       "text": [
        "\r",
        "Saving frame 91 of 363"
       ]
      },
      {
       "output_type": "stream",
       "stream": "stdout",
       "text": [
        "\r",
        "Saving frame 92 of 363"
       ]
      },
      {
       "output_type": "stream",
       "stream": "stdout",
       "text": [
        "\r",
        "Saving frame 93 of 363"
       ]
      },
      {
       "output_type": "stream",
       "stream": "stdout",
       "text": [
        "\r",
        "Saving frame 94 of 363"
       ]
      },
      {
       "output_type": "stream",
       "stream": "stdout",
       "text": [
        "\r",
        "Saving frame 95 of 363"
       ]
      },
      {
       "output_type": "stream",
       "stream": "stdout",
       "text": [
        "\r",
        "Saving frame 96 of 363"
       ]
      },
      {
       "output_type": "stream",
       "stream": "stdout",
       "text": [
        "\r",
        "Saving frame 97 of 363"
       ]
      },
      {
       "output_type": "stream",
       "stream": "stdout",
       "text": [
        "\r",
        "Saving frame 98 of 363"
       ]
      },
      {
       "output_type": "stream",
       "stream": "stdout",
       "text": [
        "\r",
        "Saving frame 99 of 363"
       ]
      },
      {
       "output_type": "stream",
       "stream": "stdout",
       "text": [
        "\r",
        "Saving frame 100 of 363"
       ]
      },
      {
       "output_type": "stream",
       "stream": "stdout",
       "text": [
        "\r",
        "Saving frame 101 of 363"
       ]
      },
      {
       "output_type": "stream",
       "stream": "stdout",
       "text": [
        "\r",
        "Saving frame 102 of 363"
       ]
      },
      {
       "output_type": "stream",
       "stream": "stdout",
       "text": [
        "\r",
        "Saving frame 103 of 363"
       ]
      },
      {
       "output_type": "stream",
       "stream": "stdout",
       "text": [
        "\r",
        "Saving frame 104 of 363"
       ]
      },
      {
       "output_type": "stream",
       "stream": "stdout",
       "text": [
        "\r",
        "Saving frame 105 of 363"
       ]
      },
      {
       "output_type": "stream",
       "stream": "stdout",
       "text": [
        "\r",
        "Saving frame 106 of 363"
       ]
      },
      {
       "output_type": "stream",
       "stream": "stdout",
       "text": [
        "\r",
        "Saving frame 107 of 363"
       ]
      },
      {
       "output_type": "stream",
       "stream": "stdout",
       "text": [
        "\r",
        "Saving frame 108 of 363"
       ]
      },
      {
       "output_type": "stream",
       "stream": "stdout",
       "text": [
        "\r",
        "Saving frame 109 of 363"
       ]
      },
      {
       "output_type": "stream",
       "stream": "stdout",
       "text": [
        "\r",
        "Saving frame 110 of 363"
       ]
      },
      {
       "output_type": "stream",
       "stream": "stdout",
       "text": [
        "\r",
        "Saving frame 111 of 363"
       ]
      },
      {
       "output_type": "stream",
       "stream": "stdout",
       "text": [
        "\r",
        "Saving frame 112 of 363"
       ]
      },
      {
       "output_type": "stream",
       "stream": "stdout",
       "text": [
        "\r",
        "Saving frame 113 of 363"
       ]
      },
      {
       "output_type": "stream",
       "stream": "stdout",
       "text": [
        "\r",
        "Saving frame 114 of 363"
       ]
      },
      {
       "output_type": "stream",
       "stream": "stdout",
       "text": [
        "\r",
        "Saving frame 115 of 363"
       ]
      },
      {
       "output_type": "stream",
       "stream": "stdout",
       "text": [
        "\r",
        "Saving frame 116 of 363"
       ]
      },
      {
       "output_type": "stream",
       "stream": "stdout",
       "text": [
        "\r",
        "Saving frame 117 of 363"
       ]
      },
      {
       "output_type": "stream",
       "stream": "stdout",
       "text": [
        "\r",
        "Saving frame 118 of 363"
       ]
      },
      {
       "output_type": "stream",
       "stream": "stdout",
       "text": [
        "\r",
        "Saving frame 119 of 363"
       ]
      },
      {
       "output_type": "stream",
       "stream": "stdout",
       "text": [
        "\r",
        "Saving frame 120 of 363"
       ]
      },
      {
       "output_type": "stream",
       "stream": "stdout",
       "text": [
        "\r",
        "Saving frame 121 of 363"
       ]
      },
      {
       "output_type": "stream",
       "stream": "stdout",
       "text": [
        "\r",
        "Saving frame 122 of 363"
       ]
      },
      {
       "output_type": "stream",
       "stream": "stdout",
       "text": [
        "\r",
        "Saving frame 123 of 363"
       ]
      },
      {
       "output_type": "stream",
       "stream": "stdout",
       "text": [
        "\r",
        "Saving frame 124 of 363"
       ]
      },
      {
       "output_type": "stream",
       "stream": "stdout",
       "text": [
        "\r",
        "Saving frame 125 of 363"
       ]
      },
      {
       "output_type": "stream",
       "stream": "stdout",
       "text": [
        "\r",
        "Saving frame 126 of 363"
       ]
      },
      {
       "output_type": "stream",
       "stream": "stdout",
       "text": [
        "\r",
        "Saving frame 127 of 363"
       ]
      },
      {
       "output_type": "stream",
       "stream": "stdout",
       "text": [
        "\r",
        "Saving frame 128 of 363"
       ]
      },
      {
       "output_type": "stream",
       "stream": "stdout",
       "text": [
        "\r",
        "Saving frame 129 of 363"
       ]
      },
      {
       "output_type": "stream",
       "stream": "stdout",
       "text": [
        "\r",
        "Saving frame 130 of 363"
       ]
      },
      {
       "output_type": "stream",
       "stream": "stdout",
       "text": [
        "\r",
        "Saving frame 131 of 363"
       ]
      },
      {
       "output_type": "stream",
       "stream": "stdout",
       "text": [
        "\r",
        "Saving frame 132 of 363"
       ]
      },
      {
       "output_type": "stream",
       "stream": "stdout",
       "text": [
        "\r",
        "Saving frame 133 of 363"
       ]
      },
      {
       "output_type": "stream",
       "stream": "stdout",
       "text": [
        "\r",
        "Saving frame 134 of 363"
       ]
      },
      {
       "output_type": "stream",
       "stream": "stdout",
       "text": [
        "\r",
        "Saving frame 135 of 363"
       ]
      },
      {
       "output_type": "stream",
       "stream": "stdout",
       "text": [
        "\r",
        "Saving frame 136 of 363"
       ]
      },
      {
       "output_type": "stream",
       "stream": "stdout",
       "text": [
        "\r",
        "Saving frame 137 of 363"
       ]
      },
      {
       "output_type": "stream",
       "stream": "stdout",
       "text": [
        "\r",
        "Saving frame 138 of 363"
       ]
      },
      {
       "output_type": "stream",
       "stream": "stdout",
       "text": [
        "\r",
        "Saving frame 139 of 363"
       ]
      },
      {
       "output_type": "stream",
       "stream": "stdout",
       "text": [
        "\r",
        "Saving frame 140 of 363"
       ]
      },
      {
       "output_type": "stream",
       "stream": "stdout",
       "text": [
        "\r",
        "Saving frame 141 of 363"
       ]
      },
      {
       "output_type": "stream",
       "stream": "stdout",
       "text": [
        "\r",
        "Saving frame 142 of 363"
       ]
      },
      {
       "output_type": "stream",
       "stream": "stdout",
       "text": [
        "\r",
        "Saving frame 143 of 363"
       ]
      },
      {
       "output_type": "stream",
       "stream": "stdout",
       "text": [
        "\r",
        "Saving frame 144 of 363"
       ]
      },
      {
       "output_type": "stream",
       "stream": "stdout",
       "text": [
        "\r",
        "Saving frame 145 of 363"
       ]
      },
      {
       "output_type": "stream",
       "stream": "stdout",
       "text": [
        "\r",
        "Saving frame 146 of 363"
       ]
      },
      {
       "output_type": "stream",
       "stream": "stdout",
       "text": [
        "\r",
        "Saving frame 147 of 363"
       ]
      },
      {
       "output_type": "stream",
       "stream": "stdout",
       "text": [
        "\r",
        "Saving frame 148 of 363"
       ]
      },
      {
       "output_type": "stream",
       "stream": "stdout",
       "text": [
        "\r",
        "Saving frame 149 of 363"
       ]
      },
      {
       "output_type": "stream",
       "stream": "stdout",
       "text": [
        "\r",
        "Saving frame 150 of 363"
       ]
      },
      {
       "output_type": "stream",
       "stream": "stdout",
       "text": [
        "\r",
        "Saving frame 151 of 363"
       ]
      },
      {
       "output_type": "stream",
       "stream": "stdout",
       "text": [
        "\r",
        "Saving frame 152 of 363"
       ]
      },
      {
       "output_type": "stream",
       "stream": "stdout",
       "text": [
        "\r",
        "Saving frame 153 of 363"
       ]
      },
      {
       "output_type": "stream",
       "stream": "stdout",
       "text": [
        "\r",
        "Saving frame 154 of 363"
       ]
      },
      {
       "output_type": "stream",
       "stream": "stdout",
       "text": [
        "\r",
        "Saving frame 155 of 363"
       ]
      },
      {
       "output_type": "stream",
       "stream": "stdout",
       "text": [
        "\r",
        "Saving frame 156 of 363"
       ]
      },
      {
       "output_type": "stream",
       "stream": "stdout",
       "text": [
        "\r",
        "Saving frame 157 of 363"
       ]
      },
      {
       "output_type": "stream",
       "stream": "stdout",
       "text": [
        "\r",
        "Saving frame 158 of 363"
       ]
      },
      {
       "output_type": "stream",
       "stream": "stdout",
       "text": [
        "\r",
        "Saving frame 159 of 363"
       ]
      },
      {
       "output_type": "stream",
       "stream": "stdout",
       "text": [
        "\r",
        "Saving frame 160 of 363"
       ]
      },
      {
       "output_type": "stream",
       "stream": "stdout",
       "text": [
        "\r",
        "Saving frame 161 of 363"
       ]
      },
      {
       "output_type": "stream",
       "stream": "stdout",
       "text": [
        "\r",
        "Saving frame 162 of 363"
       ]
      },
      {
       "output_type": "stream",
       "stream": "stdout",
       "text": [
        "\r",
        "Saving frame 163 of 363"
       ]
      },
      {
       "output_type": "stream",
       "stream": "stdout",
       "text": [
        "\r",
        "Saving frame 164 of 363"
       ]
      },
      {
       "output_type": "stream",
       "stream": "stdout",
       "text": [
        "\r",
        "Saving frame 165 of 363"
       ]
      },
      {
       "output_type": "stream",
       "stream": "stdout",
       "text": [
        "\r",
        "Saving frame 166 of 363"
       ]
      },
      {
       "output_type": "stream",
       "stream": "stdout",
       "text": [
        "\r",
        "Saving frame 167 of 363"
       ]
      },
      {
       "output_type": "stream",
       "stream": "stdout",
       "text": [
        "\r",
        "Saving frame 168 of 363"
       ]
      },
      {
       "output_type": "stream",
       "stream": "stdout",
       "text": [
        "\r",
        "Saving frame 169 of 363"
       ]
      },
      {
       "output_type": "stream",
       "stream": "stdout",
       "text": [
        "\r",
        "Saving frame 170 of 363"
       ]
      },
      {
       "output_type": "stream",
       "stream": "stdout",
       "text": [
        "\r",
        "Saving frame 171 of 363"
       ]
      },
      {
       "output_type": "stream",
       "stream": "stdout",
       "text": [
        "\r",
        "Saving frame 172 of 363"
       ]
      },
      {
       "output_type": "stream",
       "stream": "stdout",
       "text": [
        "\r",
        "Saving frame 173 of 363"
       ]
      },
      {
       "output_type": "stream",
       "stream": "stdout",
       "text": [
        "\r",
        "Saving frame 174 of 363"
       ]
      },
      {
       "output_type": "stream",
       "stream": "stdout",
       "text": [
        "\r",
        "Saving frame 175 of 363"
       ]
      },
      {
       "output_type": "stream",
       "stream": "stdout",
       "text": [
        "\r",
        "Saving frame 176 of 363"
       ]
      },
      {
       "output_type": "stream",
       "stream": "stdout",
       "text": [
        "\r",
        "Saving frame 177 of 363"
       ]
      },
      {
       "output_type": "stream",
       "stream": "stdout",
       "text": [
        "\r",
        "Saving frame 178 of 363"
       ]
      },
      {
       "output_type": "stream",
       "stream": "stdout",
       "text": [
        "\r",
        "Saving frame 179 of 363"
       ]
      },
      {
       "output_type": "stream",
       "stream": "stdout",
       "text": [
        "\r",
        "Saving frame 180 of 363"
       ]
      },
      {
       "output_type": "stream",
       "stream": "stdout",
       "text": [
        "\r",
        "Saving frame 181 of 363"
       ]
      },
      {
       "output_type": "stream",
       "stream": "stdout",
       "text": [
        "\r",
        "Saving frame 182 of 363"
       ]
      },
      {
       "output_type": "stream",
       "stream": "stdout",
       "text": [
        "\r",
        "Saving frame 183 of 363"
       ]
      },
      {
       "output_type": "stream",
       "stream": "stdout",
       "text": [
        "\r",
        "Saving frame 184 of 363"
       ]
      },
      {
       "output_type": "stream",
       "stream": "stdout",
       "text": [
        "\r",
        "Saving frame 185 of 363"
       ]
      },
      {
       "output_type": "stream",
       "stream": "stdout",
       "text": [
        "\r",
        "Saving frame 186 of 363"
       ]
      },
      {
       "output_type": "stream",
       "stream": "stdout",
       "text": [
        "\r",
        "Saving frame 187 of 363"
       ]
      },
      {
       "output_type": "stream",
       "stream": "stdout",
       "text": [
        "\r",
        "Saving frame 188 of 363"
       ]
      },
      {
       "output_type": "stream",
       "stream": "stdout",
       "text": [
        "\r",
        "Saving frame 189 of 363"
       ]
      },
      {
       "output_type": "stream",
       "stream": "stdout",
       "text": [
        "\r",
        "Saving frame 190 of 363"
       ]
      },
      {
       "output_type": "stream",
       "stream": "stdout",
       "text": [
        "\r",
        "Saving frame 191 of 363"
       ]
      },
      {
       "output_type": "stream",
       "stream": "stdout",
       "text": [
        "\r",
        "Saving frame 192 of 363"
       ]
      },
      {
       "output_type": "stream",
       "stream": "stdout",
       "text": [
        "\r",
        "Saving frame 193 of 363"
       ]
      },
      {
       "output_type": "stream",
       "stream": "stdout",
       "text": [
        "\r",
        "Saving frame 194 of 363"
       ]
      },
      {
       "output_type": "stream",
       "stream": "stdout",
       "text": [
        "\r",
        "Saving frame 195 of 363"
       ]
      },
      {
       "output_type": "stream",
       "stream": "stdout",
       "text": [
        "\r",
        "Saving frame 196 of 363"
       ]
      },
      {
       "output_type": "stream",
       "stream": "stdout",
       "text": [
        "\r",
        "Saving frame 197 of 363"
       ]
      },
      {
       "output_type": "stream",
       "stream": "stdout",
       "text": [
        "\r",
        "Saving frame 198 of 363"
       ]
      },
      {
       "output_type": "stream",
       "stream": "stdout",
       "text": [
        "\r",
        "Saving frame 199 of 363"
       ]
      },
      {
       "output_type": "stream",
       "stream": "stdout",
       "text": [
        "\r",
        "Saving frame 200 of 363"
       ]
      },
      {
       "output_type": "stream",
       "stream": "stdout",
       "text": [
        "\r",
        "Saving frame 201 of 363"
       ]
      },
      {
       "output_type": "stream",
       "stream": "stdout",
       "text": [
        "\r",
        "Saving frame 202 of 363"
       ]
      },
      {
       "output_type": "stream",
       "stream": "stdout",
       "text": [
        "\r",
        "Saving frame 203 of 363"
       ]
      },
      {
       "output_type": "stream",
       "stream": "stdout",
       "text": [
        "\r",
        "Saving frame 204 of 363"
       ]
      },
      {
       "output_type": "stream",
       "stream": "stdout",
       "text": [
        "\r",
        "Saving frame 205 of 363"
       ]
      },
      {
       "output_type": "stream",
       "stream": "stdout",
       "text": [
        "\r",
        "Saving frame 206 of 363"
       ]
      },
      {
       "output_type": "stream",
       "stream": "stdout",
       "text": [
        "\r",
        "Saving frame 207 of 363"
       ]
      },
      {
       "output_type": "stream",
       "stream": "stdout",
       "text": [
        "\r",
        "Saving frame 208 of 363"
       ]
      },
      {
       "output_type": "stream",
       "stream": "stdout",
       "text": [
        "\r",
        "Saving frame 209 of 363"
       ]
      },
      {
       "output_type": "stream",
       "stream": "stdout",
       "text": [
        "\r",
        "Saving frame 210 of 363"
       ]
      },
      {
       "output_type": "stream",
       "stream": "stdout",
       "text": [
        "\r",
        "Saving frame 211 of 363"
       ]
      },
      {
       "output_type": "stream",
       "stream": "stdout",
       "text": [
        "\r",
        "Saving frame 212 of 363"
       ]
      },
      {
       "output_type": "stream",
       "stream": "stdout",
       "text": [
        "\r",
        "Saving frame 213 of 363"
       ]
      },
      {
       "output_type": "stream",
       "stream": "stdout",
       "text": [
        "\r",
        "Saving frame 214 of 363"
       ]
      },
      {
       "output_type": "stream",
       "stream": "stdout",
       "text": [
        "\r",
        "Saving frame 215 of 363"
       ]
      },
      {
       "output_type": "stream",
       "stream": "stdout",
       "text": [
        "\r",
        "Saving frame 216 of 363"
       ]
      },
      {
       "output_type": "stream",
       "stream": "stdout",
       "text": [
        "\r",
        "Saving frame 217 of 363"
       ]
      },
      {
       "output_type": "stream",
       "stream": "stdout",
       "text": [
        "\r",
        "Saving frame 218 of 363"
       ]
      },
      {
       "output_type": "stream",
       "stream": "stdout",
       "text": [
        "\r",
        "Saving frame 219 of 363"
       ]
      },
      {
       "output_type": "stream",
       "stream": "stdout",
       "text": [
        "\r",
        "Saving frame 220 of 363"
       ]
      },
      {
       "output_type": "stream",
       "stream": "stdout",
       "text": [
        "\r",
        "Saving frame 221 of 363"
       ]
      },
      {
       "output_type": "stream",
       "stream": "stdout",
       "text": [
        "\r",
        "Saving frame 222 of 363"
       ]
      },
      {
       "output_type": "stream",
       "stream": "stdout",
       "text": [
        "\r",
        "Saving frame 223 of 363"
       ]
      },
      {
       "output_type": "stream",
       "stream": "stdout",
       "text": [
        "\r",
        "Saving frame 224 of 363"
       ]
      },
      {
       "output_type": "stream",
       "stream": "stdout",
       "text": [
        "\r",
        "Saving frame 225 of 363"
       ]
      },
      {
       "output_type": "stream",
       "stream": "stdout",
       "text": [
        "\r",
        "Saving frame 226 of 363"
       ]
      },
      {
       "output_type": "stream",
       "stream": "stdout",
       "text": [
        "\r",
        "Saving frame 227 of 363"
       ]
      },
      {
       "output_type": "stream",
       "stream": "stdout",
       "text": [
        "\r",
        "Saving frame 228 of 363"
       ]
      },
      {
       "output_type": "stream",
       "stream": "stdout",
       "text": [
        "\r",
        "Saving frame 229 of 363"
       ]
      },
      {
       "output_type": "stream",
       "stream": "stdout",
       "text": [
        "\r",
        "Saving frame 230 of 363"
       ]
      },
      {
       "output_type": "stream",
       "stream": "stdout",
       "text": [
        "\r",
        "Saving frame 231 of 363"
       ]
      },
      {
       "output_type": "stream",
       "stream": "stdout",
       "text": [
        "\r",
        "Saving frame 232 of 363"
       ]
      },
      {
       "output_type": "stream",
       "stream": "stdout",
       "text": [
        "\r",
        "Saving frame 233 of 363"
       ]
      },
      {
       "output_type": "stream",
       "stream": "stdout",
       "text": [
        "\r",
        "Saving frame 234 of 363"
       ]
      },
      {
       "output_type": "stream",
       "stream": "stdout",
       "text": [
        "\r",
        "Saving frame 235 of 363"
       ]
      },
      {
       "output_type": "stream",
       "stream": "stdout",
       "text": [
        "\r",
        "Saving frame 236 of 363"
       ]
      },
      {
       "output_type": "stream",
       "stream": "stdout",
       "text": [
        "\r",
        "Saving frame 237 of 363"
       ]
      },
      {
       "output_type": "stream",
       "stream": "stdout",
       "text": [
        "\r",
        "Saving frame 238 of 363"
       ]
      },
      {
       "output_type": "stream",
       "stream": "stdout",
       "text": [
        "\r",
        "Saving frame 239 of 363"
       ]
      },
      {
       "output_type": "stream",
       "stream": "stdout",
       "text": [
        "\r",
        "Saving frame 240 of 363"
       ]
      },
      {
       "output_type": "stream",
       "stream": "stdout",
       "text": [
        "\r",
        "Saving frame 241 of 363"
       ]
      },
      {
       "output_type": "stream",
       "stream": "stdout",
       "text": [
        "\r",
        "Saving frame 242 of 363"
       ]
      },
      {
       "output_type": "stream",
       "stream": "stdout",
       "text": [
        "\r",
        "Saving frame 243 of 363"
       ]
      },
      {
       "output_type": "stream",
       "stream": "stdout",
       "text": [
        "\r",
        "Saving frame 244 of 363"
       ]
      },
      {
       "output_type": "stream",
       "stream": "stdout",
       "text": [
        "\r",
        "Saving frame 245 of 363"
       ]
      },
      {
       "output_type": "stream",
       "stream": "stdout",
       "text": [
        "\r",
        "Saving frame 246 of 363"
       ]
      },
      {
       "output_type": "stream",
       "stream": "stdout",
       "text": [
        "\r",
        "Saving frame 247 of 363"
       ]
      },
      {
       "output_type": "stream",
       "stream": "stdout",
       "text": [
        "\r",
        "Saving frame 248 of 363"
       ]
      },
      {
       "output_type": "stream",
       "stream": "stdout",
       "text": [
        "\r",
        "Saving frame 249 of 363"
       ]
      },
      {
       "output_type": "stream",
       "stream": "stdout",
       "text": [
        "\r",
        "Saving frame 250 of 363"
       ]
      },
      {
       "output_type": "stream",
       "stream": "stdout",
       "text": [
        "\r",
        "Saving frame 251 of 363"
       ]
      },
      {
       "output_type": "stream",
       "stream": "stdout",
       "text": [
        "\r",
        "Saving frame 252 of 363"
       ]
      },
      {
       "output_type": "stream",
       "stream": "stdout",
       "text": [
        "\r",
        "Saving frame 253 of 363"
       ]
      },
      {
       "output_type": "stream",
       "stream": "stdout",
       "text": [
        "\r",
        "Saving frame 254 of 363"
       ]
      },
      {
       "output_type": "stream",
       "stream": "stdout",
       "text": [
        "\r",
        "Saving frame 255 of 363"
       ]
      },
      {
       "output_type": "stream",
       "stream": "stdout",
       "text": [
        "\r",
        "Saving frame 256 of 363"
       ]
      },
      {
       "output_type": "stream",
       "stream": "stdout",
       "text": [
        "\r",
        "Saving frame 257 of 363"
       ]
      },
      {
       "output_type": "stream",
       "stream": "stdout",
       "text": [
        "\r",
        "Saving frame 258 of 363"
       ]
      },
      {
       "output_type": "stream",
       "stream": "stdout",
       "text": [
        "\r",
        "Saving frame 259 of 363"
       ]
      },
      {
       "output_type": "stream",
       "stream": "stdout",
       "text": [
        "\r",
        "Saving frame 260 of 363"
       ]
      },
      {
       "output_type": "stream",
       "stream": "stdout",
       "text": [
        "\r",
        "Saving frame 261 of 363"
       ]
      },
      {
       "output_type": "stream",
       "stream": "stdout",
       "text": [
        "\r",
        "Saving frame 262 of 363"
       ]
      },
      {
       "output_type": "stream",
       "stream": "stdout",
       "text": [
        "\r",
        "Saving frame 263 of 363"
       ]
      },
      {
       "output_type": "stream",
       "stream": "stdout",
       "text": [
        "\r",
        "Saving frame 264 of 363"
       ]
      },
      {
       "output_type": "stream",
       "stream": "stdout",
       "text": [
        "\r",
        "Saving frame 265 of 363"
       ]
      },
      {
       "output_type": "stream",
       "stream": "stdout",
       "text": [
        "\r",
        "Saving frame 266 of 363"
       ]
      },
      {
       "output_type": "stream",
       "stream": "stdout",
       "text": [
        "\r",
        "Saving frame 267 of 363"
       ]
      },
      {
       "output_type": "stream",
       "stream": "stdout",
       "text": [
        "\r",
        "Saving frame 268 of 363"
       ]
      },
      {
       "output_type": "stream",
       "stream": "stdout",
       "text": [
        "\r",
        "Saving frame 269 of 363"
       ]
      },
      {
       "output_type": "stream",
       "stream": "stdout",
       "text": [
        "\r",
        "Saving frame 270 of 363"
       ]
      },
      {
       "output_type": "stream",
       "stream": "stdout",
       "text": [
        "\r",
        "Saving frame 271 of 363"
       ]
      },
      {
       "output_type": "stream",
       "stream": "stdout",
       "text": [
        "\r",
        "Saving frame 272 of 363"
       ]
      },
      {
       "output_type": "stream",
       "stream": "stdout",
       "text": [
        "\r",
        "Saving frame 273 of 363"
       ]
      },
      {
       "output_type": "stream",
       "stream": "stdout",
       "text": [
        "\r",
        "Saving frame 274 of 363"
       ]
      },
      {
       "output_type": "stream",
       "stream": "stdout",
       "text": [
        "\r",
        "Saving frame 275 of 363"
       ]
      },
      {
       "output_type": "stream",
       "stream": "stdout",
       "text": [
        "\r",
        "Saving frame 276 of 363"
       ]
      },
      {
       "output_type": "stream",
       "stream": "stdout",
       "text": [
        "\r",
        "Saving frame 277 of 363"
       ]
      },
      {
       "output_type": "stream",
       "stream": "stdout",
       "text": [
        "\r",
        "Saving frame 278 of 363"
       ]
      },
      {
       "output_type": "stream",
       "stream": "stdout",
       "text": [
        "\r",
        "Saving frame 279 of 363"
       ]
      },
      {
       "output_type": "stream",
       "stream": "stdout",
       "text": [
        "\r",
        "Saving frame 280 of 363"
       ]
      },
      {
       "output_type": "stream",
       "stream": "stdout",
       "text": [
        "\r",
        "Saving frame 281 of 363"
       ]
      },
      {
       "output_type": "stream",
       "stream": "stdout",
       "text": [
        "\r",
        "Saving frame 282 of 363"
       ]
      },
      {
       "output_type": "stream",
       "stream": "stdout",
       "text": [
        "\r",
        "Saving frame 283 of 363"
       ]
      },
      {
       "output_type": "stream",
       "stream": "stdout",
       "text": [
        "\r",
        "Saving frame 284 of 363"
       ]
      },
      {
       "output_type": "stream",
       "stream": "stdout",
       "text": [
        "\r",
        "Saving frame 285 of 363"
       ]
      },
      {
       "output_type": "stream",
       "stream": "stdout",
       "text": [
        "\r",
        "Saving frame 286 of 363"
       ]
      },
      {
       "output_type": "stream",
       "stream": "stdout",
       "text": [
        "\r",
        "Saving frame 287 of 363"
       ]
      },
      {
       "output_type": "stream",
       "stream": "stdout",
       "text": [
        "\r",
        "Saving frame 288 of 363"
       ]
      },
      {
       "output_type": "stream",
       "stream": "stdout",
       "text": [
        "\r",
        "Saving frame 289 of 363"
       ]
      },
      {
       "output_type": "stream",
       "stream": "stdout",
       "text": [
        "\r",
        "Saving frame 290 of 363"
       ]
      },
      {
       "output_type": "stream",
       "stream": "stdout",
       "text": [
        "\r",
        "Saving frame 291 of 363"
       ]
      },
      {
       "output_type": "stream",
       "stream": "stdout",
       "text": [
        "\r",
        "Saving frame 292 of 363"
       ]
      },
      {
       "output_type": "stream",
       "stream": "stdout",
       "text": [
        "\r",
        "Saving frame 293 of 363"
       ]
      },
      {
       "output_type": "stream",
       "stream": "stdout",
       "text": [
        "\r",
        "Saving frame 294 of 363"
       ]
      },
      {
       "output_type": "stream",
       "stream": "stdout",
       "text": [
        "\r",
        "Saving frame 295 of 363"
       ]
      },
      {
       "output_type": "stream",
       "stream": "stdout",
       "text": [
        "\r",
        "Saving frame 296 of 363"
       ]
      },
      {
       "output_type": "stream",
       "stream": "stdout",
       "text": [
        "\r",
        "Saving frame 297 of 363"
       ]
      },
      {
       "output_type": "stream",
       "stream": "stdout",
       "text": [
        "\r",
        "Saving frame 298 of 363"
       ]
      },
      {
       "output_type": "stream",
       "stream": "stdout",
       "text": [
        "\r",
        "Saving frame 299 of 363"
       ]
      },
      {
       "output_type": "stream",
       "stream": "stdout",
       "text": [
        "\r",
        "Saving frame 300 of 363"
       ]
      },
      {
       "output_type": "stream",
       "stream": "stdout",
       "text": [
        "\r",
        "Saving frame 301 of 363"
       ]
      },
      {
       "output_type": "stream",
       "stream": "stdout",
       "text": [
        "\r",
        "Saving frame 302 of 363"
       ]
      },
      {
       "output_type": "stream",
       "stream": "stdout",
       "text": [
        "\r",
        "Saving frame 303 of 363"
       ]
      },
      {
       "output_type": "stream",
       "stream": "stdout",
       "text": [
        "\r",
        "Saving frame 304 of 363"
       ]
      },
      {
       "output_type": "stream",
       "stream": "stdout",
       "text": [
        "\r",
        "Saving frame 305 of 363"
       ]
      },
      {
       "output_type": "stream",
       "stream": "stdout",
       "text": [
        "\r",
        "Saving frame 306 of 363"
       ]
      },
      {
       "output_type": "stream",
       "stream": "stdout",
       "text": [
        "\r",
        "Saving frame 307 of 363"
       ]
      },
      {
       "output_type": "stream",
       "stream": "stdout",
       "text": [
        "\r",
        "Saving frame 308 of 363"
       ]
      },
      {
       "output_type": "stream",
       "stream": "stdout",
       "text": [
        "\r",
        "Saving frame 309 of 363"
       ]
      },
      {
       "output_type": "stream",
       "stream": "stdout",
       "text": [
        "\r",
        "Saving frame 310 of 363"
       ]
      },
      {
       "output_type": "stream",
       "stream": "stdout",
       "text": [
        "\r",
        "Saving frame 311 of 363"
       ]
      },
      {
       "output_type": "stream",
       "stream": "stdout",
       "text": [
        "\r",
        "Saving frame 312 of 363"
       ]
      },
      {
       "output_type": "stream",
       "stream": "stdout",
       "text": [
        "\r",
        "Saving frame 313 of 363"
       ]
      },
      {
       "output_type": "stream",
       "stream": "stdout",
       "text": [
        "\r",
        "Saving frame 314 of 363"
       ]
      },
      {
       "output_type": "stream",
       "stream": "stdout",
       "text": [
        "\r",
        "Saving frame 315 of 363"
       ]
      },
      {
       "output_type": "stream",
       "stream": "stdout",
       "text": [
        "\r",
        "Saving frame 316 of 363"
       ]
      },
      {
       "output_type": "stream",
       "stream": "stdout",
       "text": [
        "\r",
        "Saving frame 317 of 363"
       ]
      },
      {
       "output_type": "stream",
       "stream": "stdout",
       "text": [
        "\r",
        "Saving frame 318 of 363"
       ]
      },
      {
       "output_type": "stream",
       "stream": "stdout",
       "text": [
        "\r",
        "Saving frame 319 of 363"
       ]
      },
      {
       "output_type": "stream",
       "stream": "stdout",
       "text": [
        "\r",
        "Saving frame 320 of 363"
       ]
      },
      {
       "output_type": "stream",
       "stream": "stdout",
       "text": [
        "\r",
        "Saving frame 321 of 363"
       ]
      },
      {
       "output_type": "stream",
       "stream": "stdout",
       "text": [
        "\r",
        "Saving frame 322 of 363"
       ]
      },
      {
       "output_type": "stream",
       "stream": "stdout",
       "text": [
        "\r",
        "Saving frame 323 of 363"
       ]
      },
      {
       "output_type": "stream",
       "stream": "stdout",
       "text": [
        "\r",
        "Saving frame 324 of 363"
       ]
      },
      {
       "output_type": "stream",
       "stream": "stdout",
       "text": [
        "\r",
        "Saving frame 325 of 363"
       ]
      },
      {
       "output_type": "stream",
       "stream": "stdout",
       "text": [
        "\r",
        "Saving frame 326 of 363"
       ]
      },
      {
       "output_type": "stream",
       "stream": "stdout",
       "text": [
        "\r",
        "Saving frame 327 of 363"
       ]
      },
      {
       "output_type": "stream",
       "stream": "stdout",
       "text": [
        "\r",
        "Saving frame 328 of 363"
       ]
      },
      {
       "output_type": "stream",
       "stream": "stdout",
       "text": [
        "\r",
        "Saving frame 329 of 363"
       ]
      },
      {
       "output_type": "stream",
       "stream": "stdout",
       "text": [
        "\r",
        "Saving frame 330 of 363"
       ]
      },
      {
       "output_type": "stream",
       "stream": "stdout",
       "text": [
        "\r",
        "Saving frame 331 of 363"
       ]
      },
      {
       "output_type": "stream",
       "stream": "stdout",
       "text": [
        "\r",
        "Saving frame 332 of 363"
       ]
      },
      {
       "output_type": "stream",
       "stream": "stdout",
       "text": [
        "\r",
        "Saving frame 333 of 363"
       ]
      },
      {
       "output_type": "stream",
       "stream": "stdout",
       "text": [
        "\r",
        "Saving frame 334 of 363"
       ]
      },
      {
       "output_type": "stream",
       "stream": "stdout",
       "text": [
        "\r",
        "Saving frame 335 of 363"
       ]
      },
      {
       "output_type": "stream",
       "stream": "stdout",
       "text": [
        "\r",
        "Saving frame 336 of 363"
       ]
      },
      {
       "output_type": "stream",
       "stream": "stdout",
       "text": [
        "\r",
        "Saving frame 337 of 363"
       ]
      },
      {
       "output_type": "stream",
       "stream": "stdout",
       "text": [
        "\r",
        "Saving frame 338 of 363"
       ]
      },
      {
       "output_type": "stream",
       "stream": "stdout",
       "text": [
        "\r",
        "Saving frame 339 of 363"
       ]
      },
      {
       "output_type": "stream",
       "stream": "stdout",
       "text": [
        "\r",
        "Saving frame 340 of 363"
       ]
      },
      {
       "output_type": "stream",
       "stream": "stdout",
       "text": [
        "\r",
        "Saving frame 341 of 363"
       ]
      },
      {
       "output_type": "stream",
       "stream": "stdout",
       "text": [
        "\r",
        "Saving frame 342 of 363"
       ]
      },
      {
       "output_type": "stream",
       "stream": "stdout",
       "text": [
        "\r",
        "Saving frame 343 of 363"
       ]
      },
      {
       "output_type": "stream",
       "stream": "stdout",
       "text": [
        "\r",
        "Saving frame 344 of 363"
       ]
      },
      {
       "output_type": "stream",
       "stream": "stdout",
       "text": [
        "\r",
        "Saving frame 345 of 363"
       ]
      },
      {
       "output_type": "stream",
       "stream": "stdout",
       "text": [
        "\r",
        "Saving frame 346 of 363"
       ]
      },
      {
       "output_type": "stream",
       "stream": "stdout",
       "text": [
        "\r",
        "Saving frame 347 of 363"
       ]
      },
      {
       "output_type": "stream",
       "stream": "stdout",
       "text": [
        "\r",
        "Saving frame 348 of 363"
       ]
      },
      {
       "output_type": "stream",
       "stream": "stdout",
       "text": [
        "\r",
        "Saving frame 349 of 363"
       ]
      },
      {
       "output_type": "stream",
       "stream": "stdout",
       "text": [
        "\r",
        "Saving frame 350 of 363"
       ]
      },
      {
       "output_type": "stream",
       "stream": "stdout",
       "text": [
        "\r",
        "Saving frame 351 of 363"
       ]
      },
      {
       "output_type": "stream",
       "stream": "stdout",
       "text": [
        "\r",
        "Saving frame 352 of 363"
       ]
      },
      {
       "output_type": "stream",
       "stream": "stdout",
       "text": [
        "\r",
        "Saving frame 353 of 363"
       ]
      },
      {
       "output_type": "stream",
       "stream": "stdout",
       "text": [
        "\r",
        "Saving frame 354 of 363"
       ]
      },
      {
       "output_type": "stream",
       "stream": "stdout",
       "text": [
        "\r",
        "Saving frame 355 of 363"
       ]
      },
      {
       "output_type": "stream",
       "stream": "stdout",
       "text": [
        "\r",
        "Saving frame 356 of 363"
       ]
      },
      {
       "output_type": "stream",
       "stream": "stdout",
       "text": [
        "\r",
        "Saving frame 357 of 363"
       ]
      },
      {
       "output_type": "stream",
       "stream": "stdout",
       "text": [
        "\r",
        "Saving frame 358 of 363"
       ]
      },
      {
       "output_type": "stream",
       "stream": "stdout",
       "text": [
        "\r",
        "Saving frame 359 of 363"
       ]
      },
      {
       "output_type": "stream",
       "stream": "stdout",
       "text": [
        "\r",
        "Saving frame 360 of 363"
       ]
      },
      {
       "output_type": "stream",
       "stream": "stdout",
       "text": [
        "\r",
        "Saving frame 361 of 363"
       ]
      },
      {
       "output_type": "stream",
       "stream": "stdout",
       "text": [
        "\r",
        "Saving frame 362 of 363"
       ]
      }
     ],
     "prompt_number": "*"
    },
    {
     "cell_type": "code",
     "collapsed": false,
     "input": [
      "from scipy import special\n",
      "print special.binom(window.preProcessingTab.numFilterFrames*2, range(0, window.preProcessingTab.numFilterFrames*2 +1))"
     ],
     "language": "python",
     "metadata": {},
     "outputs": [
      {
       "output_type": "stream",
       "stream": "stdout",
       "text": [
        "[  1.   8.  28.  56.  70.  56.  28.   8.   1.]\n"
       ]
      }
     ],
     "prompt_number": 12
    },
    {
     "cell_type": "code",
     "collapsed": false,
     "input": [
      "figure(); imshow(np.load(dataFolder + \"palm_tree1/proc_distMat.npy\"), interpolation='nearest')"
     ],
     "language": "python",
     "metadata": {},
     "outputs": [
      {
       "metadata": {},
       "output_type": "pyout",
       "prompt_number": 10,
       "text": [
        "<matplotlib.image.AxesImage at 0x7f080ad6a090>"
       ]
      }
     ],
     "prompt_number": 10
    },
    {
     "cell_type": "code",
     "collapsed": false,
     "input": [
      "gwv.showCustomGraph(np.load(dataFolder + \"flag_blender/proc_distMat.npy\"))"
     ],
     "language": "python",
     "metadata": {},
     "outputs": [],
     "prompt_number": 3
    },
    {
     "cell_type": "code",
     "collapsed": false,
     "input": [
      "print window.frameNames[189]\n",
      "print window.frameNames"
     ],
     "language": "python",
     "metadata": {},
     "outputs": [
      {
       "output_type": "stream",
       "stream": "stdout",
       "text": [
        "/home/ilisescu/PhD/data/flag_blender/frame-0190.png\n",
        "[u'/home/ilisescu/PhD/data/flag_blender/frame-0001.png'\n",
        " u'/home/ilisescu/PhD/data/flag_blender/frame-0002.png'\n",
        " u'/home/ilisescu/PhD/data/flag_blender/frame-0003.png' ...,\n",
        " u'/home/ilisescu/PhD/data/flag_blender/frame-1250.png'\n",
        " u'/home/ilisescu/PhD/data/flag_blender/frame-1251.png'\n",
        " u'/home/ilisescu/PhD/data/flag_blender/frame-1252.png']\n"
       ]
      }
     ],
     "prompt_number": 13
    },
    {
     "cell_type": "code",
     "collapsed": false,
     "input": [
      "matteNames = np.sort(glob.glob(window.dataLocation + os.sep + \"matte-*.png\"))\n",
      "img = np.array(cv2.cvtColor(cv2.imread(window.frameNames[189]), cv2.COLOR_BGR2RGB))\n",
      "alpha = np.array(cv2.cvtColor(cv2.imread(matteNames[189]), cv2.COLOR_BGR2GRAY))/255.0\n",
      "f1 = img*np.repeat(np.reshape(alpha, (alpha.shape[0], alpha.shape[1], 1)), 3, axis=-1)\n",
      "figure(); imshow(f1)"
     ],
     "language": "python",
     "metadata": {},
     "outputs": [
      {
       "metadata": {},
       "output_type": "pyout",
       "prompt_number": 14,
       "text": [
        "<matplotlib.image.AxesImage at 0x7f88f5221e50>"
       ]
      }
     ],
     "prompt_number": 14
    },
    {
     "cell_type": "code",
     "collapsed": false,
     "input": [
      "data_frames = []\n",
      "trimaps = []\n",
      "for frameName in window.preProcessingTab.trimaps.keys() :\n",
      "    idx = np.ndarray.flatten(np.argwhere(window.preProcessingTab.frameNames == window.preProcessingTab.dataLocation + os.sep + frameName))[0]\n",
      "    data_frames.append(cv2.cvtColor(cv2.imread(window.preProcessingTab.frameNames[idx]), cv2.COLOR_BGR2RGB))\n",
      "    trimaps.append(window.preProcessingTab.trimaps[frameName])\n",
      "\n",
      "# classifier = self.trainClassifier(data, tmaps)"
     ],
     "language": "python",
     "metadata": {},
     "outputs": [],
     "prompt_number": 16
    },
    {
     "cell_type": "code",
     "collapsed": false,
     "input": [
      "idxs = np.indices(data_frames[0].shape[:2]).swapaxes(-1, 0).swapaxes(0, 1)\n",
      "#         print idxs.shape, data_frames[0].shape\n",
      "data = np.concatenate((data_frames[0], idxs), axis=-1)\n",
      "\n",
      "# extract training data\n",
      "background = data[trimaps[0] == 0]\n",
      "foreground = data[trimaps[0] == 2]\n",
      "\n",
      "for data_frame, trimap in zip(data_frames[1:], trimaps[1:]) :\n",
      "#             print background.shape, foreground.shape\n",
      "    \n",
      "    idxs = np.indices(data_frame.shape[:2]).swapaxes(-1, 0).swapaxes(0, 1)\n",
      "#             print idxs.shape, data_frame.shape\n",
      "    data = np.concatenate((data_frame, idxs), axis=-1)\n",
      "\n",
      "    # extract training data\n",
      "    background = np.vstack((background, data[trimap == 0]))\n",
      "    foreground = np.vstack((foreground, data[trimap == 2]))\n",
      "    \n",
      "#         print background.shape, foreground.shape\n",
      "\n",
      "X = np.vstack((background, foreground))\n",
      "y = np.repeat([0.0, 1.0], [background.shape[0], foreground.shape[0]])"
     ],
     "language": "python",
     "metadata": {},
     "outputs": [],
     "prompt_number": 17
    },
    {
     "cell_type": "code",
     "collapsed": false,
     "input": [
      "del clf"
     ],
     "language": "python",
     "metadata": {},
     "outputs": [],
     "prompt_number": 21
    },
    {
     "cell_type": "code",
     "collapsed": false,
     "input": [
      "clf = ExtraTreesClassifier(verbose=1)\n",
      "clf.fit(X, y)"
     ],
     "language": "python",
     "metadata": {},
     "outputs": [
      {
       "ename": "KeyboardInterrupt",
       "evalue": "",
       "output_type": "pyerr",
       "traceback": [
        "\u001b[0;31m---------------------------------------------------------------------------\u001b[0m\n\u001b[0;31mKeyboardInterrupt\u001b[0m                         Traceback (most recent call last)",
        "\u001b[0;32m<ipython-input-20-1f6d2e47d846>\u001b[0m in \u001b[0;36m<module>\u001b[0;34m()\u001b[0m\n\u001b[1;32m      1\u001b[0m \u001b[0mclf\u001b[0m \u001b[0;34m=\u001b[0m \u001b[0mExtraTreesClassifier\u001b[0m\u001b[0;34m(\u001b[0m\u001b[0mverbose\u001b[0m\u001b[0;34m=\u001b[0m\u001b[0;36m1\u001b[0m\u001b[0;34m)\u001b[0m\u001b[0;34m\u001b[0m\u001b[0m\n\u001b[0;32m----> 2\u001b[0;31m \u001b[0mclf\u001b[0m\u001b[0;34m.\u001b[0m\u001b[0mfit\u001b[0m\u001b[0;34m(\u001b[0m\u001b[0mX\u001b[0m\u001b[0;34m,\u001b[0m \u001b[0my\u001b[0m\u001b[0;34m)\u001b[0m\u001b[0;34m\u001b[0m\u001b[0m\n\u001b[0m",
        "\u001b[0;32m/usr/lib/python2.7/dist-packages/sklearn/ensemble/forest.pyc\u001b[0m in \u001b[0;36mfit\u001b[0;34m(self, X, y, sample_weight)\u001b[0m\n\u001b[1;32m    300\u001b[0m                 \u001b[0mseeds\u001b[0m\u001b[0;34m[\u001b[0m\u001b[0mi\u001b[0m\u001b[0;34m]\u001b[0m\u001b[0;34m,\u001b[0m\u001b[0;34m\u001b[0m\u001b[0m\n\u001b[1;32m    301\u001b[0m                 verbose=self.verbose)\n\u001b[0;32m--> 302\u001b[0;31m             for i in range(n_jobs))\n\u001b[0m\u001b[1;32m    303\u001b[0m \u001b[0;34m\u001b[0m\u001b[0m\n\u001b[1;32m    304\u001b[0m         \u001b[0;31m# Reduce\u001b[0m\u001b[0;34m\u001b[0m\u001b[0;34m\u001b[0m\u001b[0m\n",
        "\u001b[0;32m/usr/lib/python2.7/dist-packages/joblib/parallel.pyc\u001b[0m in \u001b[0;36m__call__\u001b[0;34m(self, iterable)\u001b[0m\n\u001b[1;32m    651\u001b[0m             \u001b[0mself\u001b[0m\u001b[0;34m.\u001b[0m\u001b[0m_iterating\u001b[0m \u001b[0;34m=\u001b[0m \u001b[0mTrue\u001b[0m\u001b[0;34m\u001b[0m\u001b[0m\n\u001b[1;32m    652\u001b[0m             \u001b[0;32mfor\u001b[0m \u001b[0mfunction\u001b[0m\u001b[0;34m,\u001b[0m \u001b[0margs\u001b[0m\u001b[0;34m,\u001b[0m \u001b[0mkwargs\u001b[0m \u001b[0;32min\u001b[0m \u001b[0miterable\u001b[0m\u001b[0;34m:\u001b[0m\u001b[0;34m\u001b[0m\u001b[0m\n\u001b[0;32m--> 653\u001b[0;31m                 \u001b[0mself\u001b[0m\u001b[0;34m.\u001b[0m\u001b[0mdispatch\u001b[0m\u001b[0;34m(\u001b[0m\u001b[0mfunction\u001b[0m\u001b[0;34m,\u001b[0m \u001b[0margs\u001b[0m\u001b[0;34m,\u001b[0m \u001b[0mkwargs\u001b[0m\u001b[0;34m)\u001b[0m\u001b[0;34m\u001b[0m\u001b[0m\n\u001b[0m\u001b[1;32m    654\u001b[0m \u001b[0;34m\u001b[0m\u001b[0m\n\u001b[1;32m    655\u001b[0m             \u001b[0;32mif\u001b[0m \u001b[0mpre_dispatch\u001b[0m \u001b[0;34m==\u001b[0m \u001b[0;34m\"all\"\u001b[0m \u001b[0;32mor\u001b[0m \u001b[0mn_jobs\u001b[0m \u001b[0;34m==\u001b[0m \u001b[0;36m1\u001b[0m\u001b[0;34m:\u001b[0m\u001b[0;34m\u001b[0m\u001b[0m\n",
        "\u001b[0;32m/usr/lib/python2.7/dist-packages/joblib/parallel.pyc\u001b[0m in \u001b[0;36mdispatch\u001b[0;34m(self, func, args, kwargs)\u001b[0m\n\u001b[1;32m    398\u001b[0m         \"\"\"\n\u001b[1;32m    399\u001b[0m         \u001b[0;32mif\u001b[0m \u001b[0mself\u001b[0m\u001b[0;34m.\u001b[0m\u001b[0m_pool\u001b[0m \u001b[0;32mis\u001b[0m \u001b[0mNone\u001b[0m\u001b[0;34m:\u001b[0m\u001b[0;34m\u001b[0m\u001b[0m\n\u001b[0;32m--> 400\u001b[0;31m             \u001b[0mjob\u001b[0m \u001b[0;34m=\u001b[0m \u001b[0mImmediateApply\u001b[0m\u001b[0;34m(\u001b[0m\u001b[0mfunc\u001b[0m\u001b[0;34m,\u001b[0m \u001b[0margs\u001b[0m\u001b[0;34m,\u001b[0m \u001b[0mkwargs\u001b[0m\u001b[0;34m)\u001b[0m\u001b[0;34m\u001b[0m\u001b[0m\n\u001b[0m\u001b[1;32m    401\u001b[0m             \u001b[0mindex\u001b[0m \u001b[0;34m=\u001b[0m \u001b[0mlen\u001b[0m\u001b[0;34m(\u001b[0m\u001b[0mself\u001b[0m\u001b[0;34m.\u001b[0m\u001b[0m_jobs\u001b[0m\u001b[0;34m)\u001b[0m\u001b[0;34m\u001b[0m\u001b[0m\n\u001b[1;32m    402\u001b[0m             \u001b[0;32mif\u001b[0m \u001b[0;32mnot\u001b[0m \u001b[0m_verbosity_filter\u001b[0m\u001b[0;34m(\u001b[0m\u001b[0mindex\u001b[0m\u001b[0;34m,\u001b[0m \u001b[0mself\u001b[0m\u001b[0;34m.\u001b[0m\u001b[0mverbose\u001b[0m\u001b[0;34m)\u001b[0m\u001b[0;34m:\u001b[0m\u001b[0;34m\u001b[0m\u001b[0m\n",
        "\u001b[0;32m/usr/lib/python2.7/dist-packages/joblib/parallel.pyc\u001b[0m in \u001b[0;36m__init__\u001b[0;34m(self, func, args, kwargs)\u001b[0m\n\u001b[1;32m    136\u001b[0m         \u001b[0;31m# Don't delay the application, to avoid keeping the input\u001b[0m\u001b[0;34m\u001b[0m\u001b[0;34m\u001b[0m\u001b[0m\n\u001b[1;32m    137\u001b[0m         \u001b[0;31m# arguments in memory\u001b[0m\u001b[0;34m\u001b[0m\u001b[0;34m\u001b[0m\u001b[0m\n\u001b[0;32m--> 138\u001b[0;31m         \u001b[0mself\u001b[0m\u001b[0;34m.\u001b[0m\u001b[0mresults\u001b[0m \u001b[0;34m=\u001b[0m \u001b[0mfunc\u001b[0m\u001b[0;34m(\u001b[0m\u001b[0;34m*\u001b[0m\u001b[0margs\u001b[0m\u001b[0;34m,\u001b[0m \u001b[0;34m**\u001b[0m\u001b[0mkwargs\u001b[0m\u001b[0;34m)\u001b[0m\u001b[0;34m\u001b[0m\u001b[0m\n\u001b[0m\u001b[1;32m    139\u001b[0m \u001b[0;34m\u001b[0m\u001b[0m\n\u001b[1;32m    140\u001b[0m     \u001b[0;32mdef\u001b[0m \u001b[0mget\u001b[0m\u001b[0;34m(\u001b[0m\u001b[0mself\u001b[0m\u001b[0;34m)\u001b[0m\u001b[0;34m:\u001b[0m\u001b[0;34m\u001b[0m\u001b[0m\n",
        "\u001b[0;32m/usr/lib/python2.7/dist-packages/sklearn/ensemble/forest.pyc\u001b[0m in \u001b[0;36m_parallel_build_trees\u001b[0;34m(n_trees, forest, X, y, sample_weight, seeds, verbose)\u001b[0m\n\u001b[1;32m    103\u001b[0m             tree.fit(X, y,\n\u001b[1;32m    104\u001b[0m                      \u001b[0msample_weight\u001b[0m\u001b[0;34m=\u001b[0m\u001b[0msample_weight\u001b[0m\u001b[0;34m,\u001b[0m\u001b[0;34m\u001b[0m\u001b[0m\n\u001b[0;32m--> 105\u001b[0;31m                      check_input=False)\n\u001b[0m\u001b[1;32m    106\u001b[0m \u001b[0;34m\u001b[0m\u001b[0m\n\u001b[1;32m    107\u001b[0m         \u001b[0mtrees\u001b[0m\u001b[0;34m.\u001b[0m\u001b[0mappend\u001b[0m\u001b[0;34m(\u001b[0m\u001b[0mtree\u001b[0m\u001b[0;34m)\u001b[0m\u001b[0;34m\u001b[0m\u001b[0m\n",
        "\u001b[0;32m/usr/lib/python2.7/dist-packages/sklearn/tree/tree.pyc\u001b[0m in \u001b[0;36mfit\u001b[0;34m(self, X, y, sample_mask, X_argsorted, check_input, sample_weight)\u001b[0m\n\u001b[1;32m    243\u001b[0m                           random_state)\n\u001b[1;32m    244\u001b[0m \u001b[0;34m\u001b[0m\u001b[0m\n\u001b[0;32m--> 245\u001b[0;31m         \u001b[0mself\u001b[0m\u001b[0;34m.\u001b[0m\u001b[0mtree_\u001b[0m\u001b[0;34m.\u001b[0m\u001b[0mbuild\u001b[0m\u001b[0;34m(\u001b[0m\u001b[0mX\u001b[0m\u001b[0;34m,\u001b[0m \u001b[0my\u001b[0m\u001b[0;34m,\u001b[0m \u001b[0msample_weight\u001b[0m\u001b[0;34m=\u001b[0m\u001b[0msample_weight\u001b[0m\u001b[0;34m)\u001b[0m\u001b[0;34m\u001b[0m\u001b[0m\n\u001b[0m\u001b[1;32m    246\u001b[0m \u001b[0;34m\u001b[0m\u001b[0m\n\u001b[1;32m    247\u001b[0m         \u001b[0;32mif\u001b[0m \u001b[0mself\u001b[0m\u001b[0;34m.\u001b[0m\u001b[0mn_outputs_\u001b[0m \u001b[0;34m==\u001b[0m \u001b[0;36m1\u001b[0m\u001b[0;34m:\u001b[0m\u001b[0;34m\u001b[0m\u001b[0m\n",
        "\u001b[0;31mKeyboardInterrupt\u001b[0m: "
       ]
      }
     ],
     "prompt_number": 20
    },
    {
     "cell_type": "code",
     "collapsed": false,
     "input": [
      "figure(); imshow(window.videoTexturesTab.probabilities, interpolation='nearest')"
     ],
     "language": "python",
     "metadata": {},
     "outputs": [
      {
       "metadata": {},
       "output_type": "pyout",
       "prompt_number": 25,
       "text": [
        "<matplotlib.image.AxesImage at 0x7fb8d3223390>"
       ]
      }
     ],
     "prompt_number": 25
    },
    {
     "cell_type": "code",
     "collapsed": false,
     "input": [
      "figure(); imshow(window.videoTexturesTab.cumProb, interpolation='nearest')\n",
      "print window.videoTexturesTab.frameRange"
     ],
     "language": "python",
     "metadata": {},
     "outputs": [
      {
       "output_type": "stream",
       "stream": "stdout",
       "text": [
        "[201 300 399]\n"
       ]
      }
     ],
     "prompt_number": 10
    },
    {
     "cell_type": "code",
     "collapsed": false,
     "input": [
      "figure(); imshow(np.cumsum(ss.t.pdf(window.videoTexturesTab.distMat, 1.0), axis=-1))"
     ],
     "language": "python",
     "metadata": {},
     "outputs": [
      {
       "metadata": {},
       "output_type": "pyout",
       "prompt_number": 28,
       "text": [
        "<matplotlib.image.AxesImage at 0x7fb8d1be1590>"
       ]
      }
     ],
     "prompt_number": 28
    },
    {
     "cell_type": "code",
     "collapsed": false,
     "input": [
      "# testDistMat = np.load(dataFolder+\"eu_flag_ph_left/proc_distMat.npy\")\n",
      "testDistMat = np.load(dataFolder+\"eu_flag_ph_left/proc_hist2demd_32x48_distMat.npy\")"
     ],
     "language": "python",
     "metadata": {},
     "outputs": [],
     "prompt_number": 10
    },
    {
     "cell_type": "code",
     "collapsed": false,
     "input": [
      "frameRange = np.array([180, 350, 520])#window.videoTexturesTab.frameRange\n",
      "rangeDistances = window.videoTexturesTab.getRangeDistances(0.7, frameRange, 0.5, testDistMat.shape)\n",
      "print rangeDistances.shape"
     ],
     "language": "python",
     "metadata": {},
     "outputs": [
      {
       "output_type": "stream",
       "stream": "stdout",
       "text": [
        "(1199, 1199)\n"
       ]
      }
     ],
     "prompt_number": 11
    },
    {
     "cell_type": "code",
     "collapsed": false,
     "input": [
      "sigma = 0.05\n",
      "# tdistProbs = np.zeros((1199, 1199))\n",
      "# # t = (window.videoTexturesTab.distMat - np.repeat(np.mean(window.videoTexturesTab.distMat, axis=-1).reshape((1199, 1)), 1199, axis=-1))/sigma\n",
      "# for i in xrange(1199) :\n",
      "#     t = window.videoTexturesTab.distMat[i, :]/sigma\n",
      "#     tdistProbs[i, :] = ss.t.pdf(t, 10.0)/sigma\n",
      "#     tdistProbs[i, :] /= np.sum(tdistProbs[i, :])\n",
      "\n",
      "t = testDistMat/sigma + rangeDistances\n",
      "tProbs = ss.t.pdf(t, 10.0)/sigma\n",
      "## normalize\n",
      "tProbs /= np.repeat(np.sum(tProbs, axis=-1).reshape((tProbs.shape[0], 1)), tProbs.shape[1], axis=-1)\n",
      "\n",
      "# figure(); imshow(tProbs, interpolation='nearest')\n",
      "figure(); imshow(np.cumsum(tProbs, axis=-1), interpolation='nearest')"
     ],
     "language": "python",
     "metadata": {},
     "outputs": [
      {
       "metadata": {},
       "output_type": "pyout",
       "prompt_number": 24,
       "text": [
        "<matplotlib.image.AxesImage at 0x7f526e84c790>"
       ]
      }
     ],
     "prompt_number": 24
    },
    {
     "cell_type": "code",
     "collapsed": false,
     "input": [
      "print window"
     ],
     "language": "python",
     "metadata": {},
     "outputs": []
    },
    {
     "cell_type": "code",
     "collapsed": false,
     "input": [
      "print arange(startFrame-5, startFrame+6)\n",
      "print cumProb[startFrame, 280]"
     ],
     "language": "python",
     "metadata": {},
     "outputs": [
      {
       "output_type": "stream",
       "stream": "stdout",
       "text": [
        "[355 356 357 358 359 360 361 362 363 364 365]\n",
        "0.452198935223\n"
       ]
      }
     ],
     "prompt_number": 62
    },
    {
     "cell_type": "code",
     "collapsed": false,
     "input": [
      "# frameRange = window.videoTexturesTab.frameRange\n",
      "probs, cumProb = vtu.getProbabilities(testDistMat, 0.005, rangeDistances, True)# window.videoTexturesTab.cumProb\n",
      "startFrame = frameRange[0]+np.argmin(np.round(np.sum(cumProb[:, frameRange[0]:frameRange[2]+1] < 0.5, axis=0))) \n",
      "# startFrameProbs = np.max(rangeDistances[0, frameRange[0]:frameRange[-1]])-rangeDistances[0, frameRange[0]:frameRange[-1]]\n",
      "# startFrameProbs = startFrameProbs / float(np.sum(startFrameProbs))\n",
      "# startFrameProbs = np.concatenate((np.zeros(frameRange[0]), startFrameProbs, np.zeros(tProbs.shape[0]-frameRange[-1])))\n",
      "# startFrame = np.random.choice(arange(tProbs.shape[0]), p=startFrameProbs)\n",
      "print frameRange, startFrame\n",
      "# print gwv.showCustomGraph(cumProb[startFrame-5:startFrame+6, :])\n",
      "# finalFrames = vtu.getFinalFrames(cumProb, 100, 5, startFrame, True, True)\n",
      "finalFrames = vtu.getFinalFrames(np.cumsum(tProbs, axis=-1), 100, 5, startFrame, True, True)"
     ],
     "language": "python",
     "metadata": {},
     "outputs": [
      {
       "output_type": "stream",
       "stream": "stdout",
       "text": [
        "sigma 0.0262008820572\n",
        "(1199, 1199)"
       ]
      },
      {
       "output_type": "stream",
       "stream": "stdout",
       "text": [
        " (1199, 1199)\n",
        "[180 350 520] 498\n",
        "starting at frame 503\n",
        "tralal 312 498 False True\n",
        "frame 1 of 100 taken from frame 317\n",
        "tralal 313 312 True False\n",
        "frame 2 of 100 taken from frame 318\n",
        "tralal 314 313 True False\n",
        "frame 3 of 100 taken from frame 319\n",
        "tralal 315 314 True False\n",
        "frame 4 of 100 taken from frame 320\n",
        "tralal 316 315 True False\n",
        "frame 5 of 100 taken from frame 321\n",
        "tralal 317 316 True False\n",
        "frame 6 of 100 taken from frame 322\n",
        "tralal 318 317 True False\n",
        "frame 7 of 100 taken from frame 323\n",
        "tralal 319 318 True False\n",
        "frame 8 of 100 taken from frame 324\n",
        "tralal 320 319 True False\n",
        "frame 9 of 100 taken from frame 325\n",
        "tralal 321 320 True False\n",
        "frame 10 of 100 taken from frame 326\n",
        "tralal 322 321 True False\n",
        "frame 11 of 100 taken from frame 327\n",
        "tralal 323 322 True False\n",
        "frame 12 of 100 taken from frame 328\n",
        "tralal 324 323 True False\n",
        "frame 13 of 100 taken from frame 329\n",
        "tralal 325 324 True False\n",
        "frame 14 of 100 taken from frame 330\n",
        "tralal 326 325 True False\n",
        "frame 15 of 100 taken from frame 331\n",
        "tralal 327 326 True False\n",
        "frame 16 of 100 taken from frame 332\n",
        "tralal 328 327 True False\n",
        "frame 17 of 100 taken from frame 333\n",
        "tralal 330 328 True True\n",
        "tralal 329 328 True False\n",
        "frame 18 of 100 taken from frame 334\n",
        "tralal 331 329 True True\n",
        "tralal 330 329 True False\n",
        "frame 19 of 100 taken from frame 335\n",
        "tralal 332 330 True True\n",
        "tralal 331 330 True False\n",
        "frame 20 of 100 taken from frame 336\n",
        "tralal 333 331 True True\n",
        "tralal 332 331 True False\n",
        "frame 21 of 100 taken from frame 337\n",
        "tralal 333 332 True False\n",
        "frame 22 of 100 taken from frame 338\n",
        "tralal 335 333 True True\n",
        "tralal 332 333 True True\n",
        "tralal 334 333 True False\n",
        "frame 23 of 100 taken from frame 339\n",
        "tralal 336 334 True True\n",
        "tralal 334 334 True True\n",
        "tralal 335 334 True False\n",
        "frame 24 of 100 taken from frame 340\n",
        "tralal 336 335 True False\n",
        "frame 25 of 100 taken from frame 341\n",
        "tralal 337 336 True False\n",
        "frame 26 of 100 taken from frame 342\n",
        "tralal 338 337 True False\n",
        "frame 27 of 100 taken from frame 343\n",
        "tralal 339 338 True False\n",
        "frame 28 of 100 taken from frame 344\n",
        "tralal 340 339 True False\n",
        "frame 29 of 100 taken from frame 345\n",
        "tralal 340 340 True True\n",
        "tralal 341 340 True False\n",
        "frame 30 of 100 taken from frame 346\n",
        "tralal 343 341 True True\n",
        "tralal 342 341 True False\n",
        "frame 31 of 100 taken from frame 347\n",
        "tralal 343 342 True False\n",
        "frame 32 of 100 taken from frame 348\n",
        "tralal 344 343 True False\n",
        "frame 33 of 100 taken from frame 349\n",
        "tralal 345 344 True False\n",
        "frame 34 of 100 taken from frame 350\n",
        "tralal 346 345 True False\n",
        "frame 35 of 100 taken from frame 351\n",
        "tralal 347 346 True False\n",
        "frame 36 of 100 taken from frame 352\n",
        "tralal 348 347 True False\n",
        "frame 37 of 100 taken from frame 353\n",
        "tralal 349 348 True False\n",
        "frame 38 of 100 taken from frame 354\n",
        "tralal 350 349 True False\n",
        "frame 39 of 100 taken from frame 355\n",
        "tralal 351 350 True False\n",
        "frame 40 of 100 taken from frame 356\n",
        "tralal 352 351 True False\n",
        "frame 41 of 100 taken from frame 357\n",
        "tralal 353 352 True False\n",
        "frame 42 of 100 taken from frame 358\n",
        "tralal 355 353 True True\n",
        "tralal 354 353 True False\n",
        "frame 43 of 100 taken from frame 359\n",
        "tralal 354 354 True True\n",
        "tralal 355 354 True False\n",
        "frame 44 of 100 taken from frame 360\n",
        "tralal 356 355 True False\n",
        "frame 45 of 100 taken from frame 361\n",
        "tralal 356 356 True True\n",
        "tralal 357 356 True False\n",
        "frame 46 of 100 taken from frame 362\n",
        "tralal 358 357 True False\n",
        "frame 47 of 100 taken from frame 363\n",
        "tralal 359 358 True False\n",
        "frame 48 of 100 taken from frame 364\n",
        "tralal 359 359 True True\n",
        "tralal 360 359 True False\n",
        "frame 49 of 100 taken from frame 365\n",
        "tralal 360 360 True True\n",
        "tralal 362 360 True True\n",
        "tralal 361 360 True False\n",
        "frame 50 of 100 taken from frame 366\n",
        "tralal 362 361 True False\n",
        "frame 51 of 100 taken from frame 367\n",
        "tralal 363 362 True False\n",
        "frame 52 of 100 taken from frame 368\n",
        "tralal 364 363 True False\n",
        "frame 53 of 100 taken from frame 369\n",
        "tralal 365 364 True False\n",
        "frame 54 of 100 taken from frame 370\n",
        "tralal 366 365 True False\n",
        "frame 55 of 100 taken from frame 371\n",
        "tralal 367 366 True False\n",
        "frame 56 of 100 taken from frame 372\n",
        "tralal 368 367 True False\n",
        "frame 57 of 100 taken from frame 373\n",
        "tralal 369 368 True False\n",
        "frame 58 of 100 taken from frame 374\n",
        "tralal 370 369 True False\n",
        "frame 59 of 100 taken from frame 375\n",
        "tralal 371 370 True False\n",
        "frame 60 of 100 taken from frame 376\n",
        "tralal 371 371 True True\n",
        "tralal 372 371 True False\n",
        "frame 61 of 100 taken from frame 377\n",
        "tralal 373 372 True False\n",
        "frame 62 of 100 taken from frame 378\n",
        "tralal 374 373 True False\n",
        "frame 63 of 100 taken from frame 379\n",
        "tralal 375 374 True False\n",
        "frame 64 of 100 taken from frame 380\n",
        "tralal 376 375 True False\n",
        "frame 65 of 100 taken from frame 381\n",
        "tralal 377 376 True False\n",
        "frame 66 of 100 taken from frame 382\n",
        "tralal 378 377 True False\n",
        "frame 67 of 100 taken from frame 383\n",
        "tralal 379 378 True False\n",
        "frame 68 of 100 taken from frame 384\n",
        "tralal 380 379 True False\n",
        "frame 69 of 100 taken from frame 385\n",
        "tralal 381 380 True False\n",
        "frame 70 of 100 taken from frame 386\n",
        "tralal 382 381 True False\n",
        "frame 71 of 100 taken from frame 387\n",
        "tralal 383 382 True False\n",
        "frame 72 of 100 taken from frame 388\n",
        "tralal 384 383 True False\n",
        "frame 73 of 100 taken from frame 389\n",
        "tralal 385 384 True False\n",
        "frame 74 of 100 taken from frame 390\n",
        "tralal 386 385 True False\n",
        "frame 75 of 100 taken from frame 391\n",
        "tralal 387 386 True False\n",
        "frame 76 of 100 taken from frame 392\n",
        "tralal 388 387 True False\n",
        "frame 77 of 100 taken from frame 393\n",
        "tralal 389 388 True False\n",
        "frame 78 of 100 taken from frame 394\n",
        "tralal 390 389 True False\n",
        "frame 79 of 100 taken from frame 395\n",
        "tralal 391 390 True False\n",
        "frame 80 of 100 taken from frame 396\n",
        "tralal 392 391 True False\n",
        "frame 81 of 100 taken from frame 397\n",
        "tralal 393 392 True False\n",
        "frame 82 of 100 taken from frame 398\n",
        "tralal 394 393 True False\n",
        "frame 83 of 100 taken from frame 399\n",
        "tralal 395 394 True False\n",
        "frame 84 of 100 taken from frame 400\n",
        "tralal 396 395 True False\n",
        "frame 85 of 100 taken from frame 401\n",
        "tralal 396 396 True True\n",
        "tralal 396 396 True True\n",
        "tralal 397 396 True False\n",
        "frame 86 of 100 taken from frame 402\n",
        "tralal 398 397 True False\n",
        "frame 87 of 100 taken from frame 403\n",
        "tralal 400 398 True True\n",
        "tralal 399 398 True False\n",
        "frame 88 of 100 taken from frame 404\n",
        "tralal 400 399 True False\n",
        "frame 89 of 100 taken from frame 405\n",
        "tralal 401 400 True False\n",
        "frame 90 of 100 taken from frame 406\n",
        "tralal 402 401 True False\n",
        "frame 91 of 100 taken from frame 407\n",
        "tralal 403 402 True False\n",
        "frame 92 of 100 taken from frame 408\n",
        "tralal 404 403 True False\n",
        "frame 93 of 100 taken from frame 409\n",
        "tralal 405 404 True False\n",
        "frame 94 of 100 taken from frame 410\n",
        "tralal 406 405 True False\n",
        "frame 95 of 100 taken from frame 411\n",
        "tralal 407 406 True False\n",
        "frame 96 of 100 taken from frame 412\n",
        "tralal 408 407 True False\n",
        "frame 97 of 100 taken from frame 413\n",
        "tralal 409 408 True False\n",
        "frame 98 of 100 taken from frame 414\n",
        "tralal 410 409 True False\n",
        "frame 99 of 100 taken from frame 415\n",
        "total additional frames 87\n",
        "[411 412 413 414 415 416 417 418 419 420 421 422 423 424 425 426 427 428\n",
        " 429 430 431 432 433 434 435 436 437 438 439 440 441 442 443 444 445 446\n",
        " 447 448 449 450 451 452 453 454 455 456 457 458 459 460 461 462 463 464\n",
        " 465 466 467 468 469 470 471 472 473 474 475 476 477 478 479 480 481 482\n",
        " 483 484 485 486 487 488 489 490 491 492 493 494 495 496 497]\n"
       ]
      }
     ],
     "prompt_number": 27
    },
    {
     "cell_type": "code",
     "collapsed": false,
     "input": [
      "rangeDistances = window.videoTexturesTab.getRangeDistances(0.7, window.videoTexturesTab.frameRange, window.videoTexturesTab.featherLevel, window.videoTexturesTab.distMat.shape)\n",
      "probabilities, cumProb = vtu.getProbabilities(window.videoTexturesTab.distMat, 0.005, rangeDistances, True)"
     ],
     "language": "python",
     "metadata": {},
     "outputs": [
      {
       "output_type": "stream",
       "stream": "stdout",
       "text": [
        "sigma 0.026272939315\n",
        "(1199, 1199)"
       ]
      },
      {
       "output_type": "stream",
       "stream": "stdout",
       "text": [
        " (1199, 1199)\n"
       ]
      }
     ],
     "prompt_number": 11
    },
    {
     "cell_type": "code",
     "collapsed": false,
     "input": [
      "import VideoTexturesUtils as vtu"
     ],
     "language": "python",
     "metadata": {},
     "outputs": [],
     "prompt_number": 151
    },
    {
     "cell_type": "code",
     "collapsed": false,
     "input": [
      "prev = finalFrames[0]-1\n",
      "count = 0\n",
      "for f in finalFrames :\n",
      "    print f, \n",
      "    if f != prev + 1 :\n",
      "        print \"jump\"\n",
      "        count += 1\n",
      "    else :\n",
      "        print\n",
      "    prev = f\n",
      "print \"jumps\", count"
     ],
     "language": "python",
     "metadata": {},
     "outputs": [
      {
       "output_type": "stream",
       "stream": "stdout",
       "text": [
        "503\n",
        "317 jump\n",
        "318\n",
        "319\n",
        "320\n",
        "321\n",
        "322\n",
        "323\n",
        "324\n",
        "325\n",
        "326\n",
        "327\n",
        "328\n",
        "329\n",
        "330\n",
        "331\n",
        "332\n",
        "333\n",
        "334\n",
        "335\n",
        "336\n",
        "337\n",
        "338\n",
        "339\n",
        "340\n",
        "341\n",
        "342\n",
        "343\n",
        "344\n",
        "345\n",
        "346\n",
        "347\n",
        "348\n",
        "349\n",
        "350\n",
        "351\n",
        "352\n",
        "353\n",
        "354\n",
        "355\n",
        "356\n",
        "357\n",
        "358\n",
        "359\n",
        "360\n",
        "361\n",
        "362\n",
        "363\n",
        "364\n",
        "365\n",
        "366\n",
        "367\n",
        "368\n",
        "369\n",
        "370\n",
        "371\n",
        "372\n",
        "373\n",
        "374\n",
        "375\n",
        "376\n",
        "377\n",
        "378\n",
        "379\n",
        "380\n",
        "381\n",
        "382\n",
        "383\n",
        "384\n",
        "385\n",
        "386\n",
        "387\n",
        "388\n",
        "389\n",
        "390\n",
        "391\n",
        "392\n",
        "393\n",
        "394\n",
        "395\n",
        "396\n",
        "397\n",
        "398\n",
        "399\n",
        "400\n",
        "401\n",
        "402\n",
        "403\n",
        "404\n",
        "405\n",
        "406\n",
        "407\n",
        "408\n",
        "409\n",
        "410\n",
        "411\n",
        "412\n",
        "413\n",
        "414\n",
        "415\n",
        "416\n",
        "417\n",
        "418\n",
        "419\n",
        "420\n",
        "421\n",
        "422\n",
        "423\n",
        "424\n",
        "425\n",
        "426\n",
        "427\n",
        "428\n",
        "429\n",
        "430\n",
        "431\n",
        "432\n",
        "433\n",
        "434\n",
        "435\n",
        "436\n",
        "437\n",
        "438\n",
        "439\n",
        "440\n",
        "441\n",
        "442\n",
        "443\n",
        "444\n",
        "445\n",
        "446\n",
        "447\n",
        "448\n",
        "449\n",
        "450\n",
        "451\n",
        "452\n",
        "453\n",
        "454\n",
        "455\n",
        "456\n",
        "457\n",
        "458\n",
        "459\n",
        "460\n",
        "461\n",
        "462\n",
        "463\n",
        "464\n",
        "465\n",
        "466\n",
        "467\n",
        "468\n",
        "469\n",
        "470\n",
        "471\n",
        "472\n",
        "473\n",
        "474\n",
        "475\n",
        "476\n",
        "477\n",
        "478\n",
        "479\n",
        "480\n",
        "481\n",
        "482\n",
        "483\n",
        "484\n",
        "485\n",
        "486\n",
        "487\n",
        "488\n",
        "489\n",
        "490\n",
        "491\n",
        "492\n",
        "493\n",
        "494\n",
        "495\n",
        "496\n",
        "497\n",
        "498\n",
        "499\n",
        "500\n",
        "501\n",
        "502\n",
        "jumps 1\n"
       ]
      }
     ],
     "prompt_number": 28
    },
    {
     "cell_type": "code",
     "collapsed": false,
     "input": [
      "## find best transitions given the processed distance matrix\n",
      "testDistMat = np.load(dataFolder+\"flag_blender/proc_distMat.npy\")\n",
      "# testDistMat = np.load(dataFolder+\"eu_flag_ph_left/proc_hist2demd_32x48_distMat.npy\")\n",
      "figure(); imshow(testDistMat, interpolation='nearest')\n",
      "\n",
      "sortedBestFirst = np.argsort(testDistMat, axis=-1)\n",
      "\n",
      "shortestJumpLength = 100\n",
      "longestJumpLength = 400\n",
      "numBestTransitionPerFrame = 10\n",
      "numTotalTransitions = 50\n",
      "bestTransitions = np.zeros((len(testDistMat), numBestTransitionPerFrame), dtype=int)\n",
      "bestTransitionsCosts = np.zeros((len(testDistMat), numBestTransitionPerFrame))\n",
      "\n",
      "for i in xrange(len(testDistMat)) :\n",
      "    condition = np.all((np.abs(sortedBestFirst[i, :]-i) > shortestJumpLength, np.abs(sortedBestFirst[i, :]-i) <= longestJumpLength), axis = 0)\n",
      "#     print sortedBestFirst[i, 0:100]\n",
      "    bestTransitions[i, :] = np.ndarray.flatten(sortedBestFirst[i, np.argwhere(condition)][0:numBestTransitionPerFrame])\n",
      "    bestTransitionsCosts[i, :] = testDistMat[i, bestTransitions[i, :]]\n",
      "#     print testDistMat[i, np.ndarray.flatten(sortedBestFirst[0, np.argwhere(condition)][0:numBestTransitionPerFrame])]\n",
      "\n",
      "## find best transitions\n",
      "finalBestTransitions = np.zeros((numTotalTransitions, 2), dtype=int)\n",
      "for i, bT in zip(arange(numTotalTransitions), np.argsort(np.reshape(bestTransitionsCosts, (np.prod(bestTransitionsCosts.shape))))[0:numTotalTransitions]) :\n",
      "    finalBestTransitions[i, 0] = bT/numBestTransitionPerFrame\n",
      "    finalBestTransitions[i, 1] = bestTransitions[bT/numBestTransitionPerFrame, np.mod(bT, numBestTransitionPerFrame)]"
     ],
     "language": "python",
     "metadata": {},
     "outputs": [],
     "prompt_number": 4
    },
    {
     "cell_type": "code",
     "collapsed": false,
     "input": [
      "# print testDistMat[0, 1]\n",
      "# print testDistMat[137, 219]\n",
      "# print testDistMat[217, 137]\n",
      "# print np.sort(np.ndarray.flatten(testDistMat))[0:10]\n",
      "print finalBestTransitions"
     ],
     "language": "python",
     "metadata": {},
     "outputs": [
      {
       "output_type": "stream",
       "stream": "stdout",
       "text": [
        "[[ 266   57]\n",
        " [ 230   48]\n",
        " [ 229   47]\n",
        " [ 267   58]\n",
        " [ 230   47]\n",
        " [ 266   58]\n",
        " [ 267   57]\n",
        " [ 227   73]\n",
        " [ 228   73]\n",
        " [ 228   74]\n",
        " [ 231   49]\n",
        " [ 230   49]\n",
        " [ 266   56]\n",
        " [ 265   57]\n",
        " [ 229   48]\n",
        " [ 229   46]\n",
        " [ 229   73]\n",
        " [ 228   46]\n",
        " [ 265   56]\n",
        " [ 227   72]\n",
        " [ 231   48]\n",
        " [ 229   74]\n",
        " [ 228   72]\n",
        " [ 226   72]\n",
        " [ 228   47]\n",
        " [ 230   74]\n",
        " [ 230   46]\n",
        " [ 231   50]\n",
        " [ 279   71]\n",
        " [ 229   75]\n",
        " [ 230   73]\n",
        " [ 229   72]\n",
        " [ 268   58]\n",
        " [ 231   47]\n",
        " [ 227   74]\n",
        " [ 267   59]\n",
        " [1150 1024]\n",
        " [ 280   72]\n",
        " [ 228   45]\n",
        " [ 278   70]\n",
        " [ 230   75]\n",
        " [ 267   56]\n",
        " [1150 1023]\n",
        " [ 226   73]\n",
        " [ 226   71]\n",
        " [1151 1024]\n",
        " [1149 1023]\n",
        " [ 227   71]\n",
        " [1151 1025]\n",
        " [ 265   58]]\n"
       ]
      }
     ],
     "prompt_number": 5
    },
    {
     "cell_type": "code",
     "collapsed": false,
     "input": [
      "print bestTransitionsCosts[298, :]"
     ],
     "language": "python",
     "metadata": {},
     "outputs": [
      {
       "output_type": "stream",
       "stream": "stdout",
       "text": [
        "[ 42807.30430826  42911.38442223  43018.5558353   44509.1402291\n",
        "  44543.44035578  44962.51650684  46002.77085901  46219.32660461\n",
        "  46302.74886798  46609.7992822 ]\n"
       ]
      }
     ],
     "prompt_number": 53
    },
    {
     "cell_type": "code",
     "collapsed": false,
     "input": [
      "print window.labellingTab.labelViewerGroupLeft.labelsMapGraph.transform\n",
      "maxi = 0\n",
      "mini = 300\n",
      "for point in window.labellingTab.labelViewerGroupLeft.labelsMapGraph.points[1].toList() :\n",
      "    if maxi <= window.labellingTab.labelViewerGroupLeft.labelsMapGraph.transform.map(point).x() :\n",
      "        maxi = window.labellingTab.labelViewerGroupLeft.labelsMapGraph.transform.map(point).x()\n",
      "    if mini >= window.labellingTab.labelViewerGroupLeft.labelsMapGraph.transform.map(point).x() :\n",
      "        mini = window.labellingTab.labelViewerGroupLeft.labelsMapGraph.transform.map(point).x()\n",
      "        \n",
      "print mini, maxi\n",
      "print np.max(window.labellingTab.labelViewerGroupLeft.labelsMapGraph.scatterPoints[1, :])\n",
      "print 264/np.max(window.labellingTab.labelViewerGroupLeft.labelsMapGraph.scatterPoints[1, :])"
     ],
     "language": "python",
     "metadata": {},
     "outputs": [
      {
       "ename": "IndexError",
       "evalue": "list index out of range",
       "output_type": "pyerr",
       "traceback": [
        "\u001b[0;31m---------------------------------------------------------------------------\u001b[0m\n\u001b[0;31mIndexError\u001b[0m                                Traceback (most recent call last)",
        "\u001b[0;32m<ipython-input-10-058085856fad>\u001b[0m in \u001b[0;36m<module>\u001b[0;34m()\u001b[0m\n\u001b[1;32m      2\u001b[0m \u001b[0mmaxi\u001b[0m \u001b[0;34m=\u001b[0m \u001b[0;36m0\u001b[0m\u001b[0;34m\u001b[0m\u001b[0m\n\u001b[1;32m      3\u001b[0m \u001b[0mmini\u001b[0m \u001b[0;34m=\u001b[0m \u001b[0;36m300\u001b[0m\u001b[0;34m\u001b[0m\u001b[0m\n\u001b[0;32m----> 4\u001b[0;31m \u001b[0;32mfor\u001b[0m \u001b[0mpoint\u001b[0m \u001b[0;32min\u001b[0m \u001b[0mwindow\u001b[0m\u001b[0;34m.\u001b[0m\u001b[0mlabellingTab\u001b[0m\u001b[0;34m.\u001b[0m\u001b[0mlabelViewerGroupLeft\u001b[0m\u001b[0;34m.\u001b[0m\u001b[0mlabelsMapGraph\u001b[0m\u001b[0;34m.\u001b[0m\u001b[0mpoints\u001b[0m\u001b[0;34m[\u001b[0m\u001b[0;36m1\u001b[0m\u001b[0;34m]\u001b[0m\u001b[0;34m.\u001b[0m\u001b[0mtoList\u001b[0m\u001b[0;34m(\u001b[0m\u001b[0;34m)\u001b[0m \u001b[0;34m:\u001b[0m\u001b[0;34m\u001b[0m\u001b[0m\n\u001b[0m\u001b[1;32m      5\u001b[0m     \u001b[0;32mif\u001b[0m \u001b[0mmaxi\u001b[0m \u001b[0;34m<=\u001b[0m \u001b[0mwindow\u001b[0m\u001b[0;34m.\u001b[0m\u001b[0mlabellingTab\u001b[0m\u001b[0;34m.\u001b[0m\u001b[0mlabelViewerGroupLeft\u001b[0m\u001b[0;34m.\u001b[0m\u001b[0mlabelsMapGraph\u001b[0m\u001b[0;34m.\u001b[0m\u001b[0mtransform\u001b[0m\u001b[0;34m.\u001b[0m\u001b[0mmap\u001b[0m\u001b[0;34m(\u001b[0m\u001b[0mpoint\u001b[0m\u001b[0;34m)\u001b[0m\u001b[0;34m.\u001b[0m\u001b[0mx\u001b[0m\u001b[0;34m(\u001b[0m\u001b[0;34m)\u001b[0m \u001b[0;34m:\u001b[0m\u001b[0;34m\u001b[0m\u001b[0m\n\u001b[1;32m      6\u001b[0m         \u001b[0mmaxi\u001b[0m \u001b[0;34m=\u001b[0m \u001b[0mwindow\u001b[0m\u001b[0;34m.\u001b[0m\u001b[0mlabellingTab\u001b[0m\u001b[0;34m.\u001b[0m\u001b[0mlabelViewerGroupLeft\u001b[0m\u001b[0;34m.\u001b[0m\u001b[0mlabelsMapGraph\u001b[0m\u001b[0;34m.\u001b[0m\u001b[0mtransform\u001b[0m\u001b[0;34m.\u001b[0m\u001b[0mmap\u001b[0m\u001b[0;34m(\u001b[0m\u001b[0mpoint\u001b[0m\u001b[0;34m)\u001b[0m\u001b[0;34m.\u001b[0m\u001b[0mx\u001b[0m\u001b[0;34m(\u001b[0m\u001b[0;34m)\u001b[0m\u001b[0;34m\u001b[0m\u001b[0m\n",
        "\u001b[0;31mIndexError\u001b[0m: list index out of range"
       ]
      },
      {
       "output_type": "stream",
       "stream": "stdout",
       "text": [
        "PySide.QtGui.QMatrix(1.000000, 0.000000, 0.000000, 1.000000, 0.000000, 0.000000)\n"
       ]
      }
     ],
     "prompt_number": 10
    },
    {
     "cell_type": "code",
     "collapsed": false,
     "input": [
      "def main():\n",
      "    app = QtGui.QApplication(sys.argv)\n",
      "    window = Window()\n",
      "    window.show()\n",
      "    sys.exit(app.exec_())\n",
      "    \n",
      "if  __name__ =='__main__':main()"
     ],
     "language": "python",
     "metadata": {},
     "outputs": [
      {
       "metadata": {},
       "output_type": "pyout",
       "prompt_number": 20,
       "text": [
        "<matplotlib.image.AxesImage at 0x7ff3e6527c90>"
       ]
      }
     ],
     "prompt_number": 20
    },
    {
     "cell_type": "code",
     "collapsed": false,
     "input": [
      "import scipy.io as sio\n",
      "predictedLabels = sio.loadmat(\"predictedLabels.mat\")[\"predictedLabels\"]\n",
      "mapPoints = sio.loadmat(\"mapPoints.mat\")[\"mapPoints\"]\n",
      "print predictedLabels.shape\n",
      "print mapPoints.shape\n",
      "print np.ndarray.flatten(np.ndarray.flatten(predictedLabels)[0][0])"
     ],
     "language": "python",
     "metadata": {},
     "outputs": [
      {
       "output_type": "stream",
       "stream": "stdout",
       "text": [
        "(1, 1)\n",
        "(2, 1272)\n",
        "[  1  73  74  75  76  77  79  80  81  82  83  84  85  86  87  88  89  90\n",
        "  91  92  93  94  95  96  97  98  99 100 101 102 103 104 105 106 107 108\n",
        " 109 110 111 112 113 114 115 116 117 118 119 120 121 122 123 124 125 126\n",
        " 127 128 129 130 131 132 133 134 135 136 137 138 139 140 141 142 143 144\n",
        " 145 146 147 148 149 150 151 152 153 154 155 156 157 158 159 160 161 162\n",
        " 163 164 165 166 167 168 169 170 171 172 173 174 175 176 177 178 188 189\n",
        " 190 191 192 193 194 195 196 197 198 199 200 204 205 206 207 208 209 210\n",
        " 211 212 213 214 215 216 221 222 223]\n"
       ]
      }
     ],
     "prompt_number": 18
    },
    {
     "cell_type": "code",
     "collapsed": false,
     "input": [
      "class W(QtGui.QTableWidget):\n",
      "    def __init__(self):\n",
      "        super(W,self).__init__(3, 3)\n",
      "\n",
      "        self.currentCellChanged.connect(self.onSectionClicked)\n",
      "\n",
      "    def onSectionClicked(self, curr):\n",
      "        print \"onSectionClicked:\", curr\n",
      "        sys.stdout.flush()\n",
      "\n",
      "\n",
      "#     app = QtGui.QApplication(sys.argv)\n",
      "w = ScatterGraph(\"scatter\")\n",
      "# w.setFixedSize(100, 100)\n",
      "w.setPoints(mapPoints, predictedLabels, 4)\n",
      "w.show()\n",
      "app.exec_()"
     ],
     "language": "python",
     "metadata": {},
     "outputs": [
      {
       "output_type": "stream",
       "stream": "stdout",
       "text": [
        "render current 1272 4\n",
        "render current"
       ]
      },
      {
       "output_type": "stream",
       "stream": "stdout",
       "text": [
        " 1272 4\n",
        "render current"
       ]
      },
      {
       "output_type": "stream",
       "stream": "stdout",
       "text": [
        " 1272 4\n",
        "render current 1272 4\n",
        "render current"
       ]
      },
      {
       "output_type": "stream",
       "stream": "stdout",
       "text": [
        " 1272 4\n",
        "render current 1272 4\n",
        "render current 1272 4\n",
        "render current"
       ]
      },
      {
       "output_type": "stream",
       "stream": "stdout",
       "text": [
        " 1272 4\n",
        "render current 1272 4\n",
        "render current"
       ]
      },
      {
       "output_type": "stream",
       "stream": "stdout",
       "text": [
        " 1272 4\n",
        "render current 1272 4\n",
        "render current 1272 4\n",
        "render current"
       ]
      },
      {
       "output_type": "stream",
       "stream": "stdout",
       "text": [
        " 1272 4\n",
        "render current 1272 4\n",
        "render current 1272 4\n",
        "render current"
       ]
      },
      {
       "output_type": "stream",
       "stream": "stdout",
       "text": [
        " 1272 4\n",
        "render current 1272 4\n",
        "render current"
       ]
      },
      {
       "output_type": "stream",
       "stream": "stdout",
       "text": [
        " 1272 4\n",
        "render current 1272 4\n",
        "render current"
       ]
      },
      {
       "output_type": "stream",
       "stream": "stdout",
       "text": [
        " 1272 4\n",
        "render current 1272 4\n",
        "render current"
       ]
      },
      {
       "output_type": "stream",
       "stream": "stdout",
       "text": [
        " 1272 4\n",
        "render current 1272 4\n",
        "render current 1272 4\n",
        "render current"
       ]
      },
      {
       "output_type": "stream",
       "stream": "stdout",
       "text": [
        " 1272 4\n",
        "render current 1272 4\n",
        "render current"
       ]
      },
      {
       "output_type": "stream",
       "stream": "stdout",
       "text": [
        " 1272 4\n",
        "render current 1272 4\n",
        "render current"
       ]
      },
      {
       "output_type": "stream",
       "stream": "stdout",
       "text": [
        " 1272 4\n",
        "render current 1272 4\n",
        "render current"
       ]
      },
      {
       "output_type": "stream",
       "stream": "stdout",
       "text": [
        " 1272 4\n",
        "render current"
       ]
      },
      {
       "output_type": "stream",
       "stream": "stdout",
       "text": [
        " 1272 4\n",
        "render current 1272 4\n",
        "render current"
       ]
      },
      {
       "output_type": "stream",
       "stream": "stdout",
       "text": [
        " 1272 4\n",
        "render current 1272 4\n",
        "render current"
       ]
      },
      {
       "output_type": "stream",
       "stream": "stdout",
       "text": [
        " 1272 4\n",
        "render current 1272 4\n",
        "render current 1272 4\n",
        "render current"
       ]
      },
      {
       "output_type": "stream",
       "stream": "stdout",
       "text": [
        " 1272 4\n",
        "render current 1272 4\n",
        "render current 1272 4\n",
        "render current"
       ]
      },
      {
       "output_type": "stream",
       "stream": "stdout",
       "text": [
        " 1272 4\n",
        "render current 1272 4\n",
        "render current"
       ]
      },
      {
       "output_type": "stream",
       "stream": "stdout",
       "text": [
        " 1272 4\n",
        "render current 1272 4\n",
        "render current"
       ]
      },
      {
       "output_type": "stream",
       "stream": "stdout",
       "text": [
        " 1272 4\n",
        "render current 1272 4\n",
        "render current"
       ]
      },
      {
       "output_type": "stream",
       "stream": "stdout",
       "text": [
        " 1272 4\n",
        "render current"
       ]
      },
      {
       "output_type": "stream",
       "stream": "stdout",
       "text": [
        " 1272 4\n",
        "render current 1272 4\n",
        "render current"
       ]
      },
      {
       "output_type": "stream",
       "stream": "stdout",
       "text": [
        " 1272 4\n",
        "render current 1272 4\n",
        "render current"
       ]
      },
      {
       "output_type": "stream",
       "stream": "stdout",
       "text": [
        " 1272 4\n",
        "render current"
       ]
      },
      {
       "output_type": "stream",
       "stream": "stdout",
       "text": [
        " 1272 4\n",
        "render current 1272 4\n",
        "render current"
       ]
      },
      {
       "output_type": "stream",
       "stream": "stdout",
       "text": [
        " 1272 4\n",
        "render current 1272 4\n",
        "render current"
       ]
      },
      {
       "output_type": "stream",
       "stream": "stdout",
       "text": [
        " 1272 4\n",
        "render current"
       ]
      },
      {
       "output_type": "stream",
       "stream": "stdout",
       "text": [
        " 1272 4\n",
        "render current"
       ]
      },
      {
       "output_type": "stream",
       "stream": "stdout",
       "text": [
        " 1272 4\n",
        "render current"
       ]
      },
      {
       "output_type": "stream",
       "stream": "stdout",
       "text": [
        " 1272 4\n",
        "render current"
       ]
      },
      {
       "output_type": "stream",
       "stream": "stdout",
       "text": [
        " 1272 4\n",
        "render current 1272 4\n",
        "render current"
       ]
      },
      {
       "output_type": "stream",
       "stream": "stdout",
       "text": [
        " 1272 4\n",
        "render current"
       ]
      },
      {
       "output_type": "stream",
       "stream": "stdout",
       "text": [
        " 1272 4\n"
       ]
      },
      {
       "metadata": {},
       "output_type": "pyout",
       "prompt_number": 33,
       "text": [
        "0"
       ]
      }
     ],
     "prompt_number": 33
    },
    {
     "cell_type": "code",
     "collapsed": false,
     "input": [
      "print len(\"1234\")"
     ],
     "language": "python",
     "metadata": {},
     "outputs": [
      {
       "output_type": "stream",
       "stream": "stdout",
       "text": [
        "4\n"
       ]
      }
     ],
     "prompt_number": 21
    },
    {
     "cell_type": "code",
     "collapsed": false,
     "input": [
      "tmp = sio.loadmat(\"../data/ribbon2\"+os.sep+\"predictedLabels.mat\")[\"predictedLabels\"]\n",
      "mapPoints = sio.loadmat(\"../data/ribbon2\"+os.sep+\"mapPoints.mat\")[\"mapPoints\"]\n",
      "predictedLabels = []\n",
      "for i in xrange(0,len(np.ndarray.flatten(tmp)[0])) :\n",
      "    predictedLabels.append(np.ndarray.flatten(np.ndarray.flatten(tmp)[0][i])-1)\n",
      "    \n",
      "del tmp\n",
      "print mapPoints.shape, predictedLabels[0].shape\n",
      "print mapPoints\n",
      "print predictedLabels\n",
      "# idxCorrection = np.int((self.movie.shape[-1]-self.mapPoints.shape[-1])/2)\n",
      "# labelViewerGroupLeft.setLabelMap(mapPoints, predictedLabels, 4)"
     ],
     "language": "python",
     "metadata": {},
     "outputs": [
      {
       "output_type": "stream",
       "stream": "stdout",
       "text": [
        "(2, 1272) (135,)\n",
        "[[ 0.41235608  0.38765717  0.36092774 ...,  0.90936922  0.88250881\n",
        "   0.82902456]\n",
        " [ 0.20684421  0.22219138  0.23209336 ...,  0.41423797  0.35355698\n",
        "   0.35331556]]\n",
        "[array([  0,  72,  73,  74,  75,  76,  78,  79,  80,  81,  82,  83,  84,\n",
        "        85,  86,  87,  88,  89,  90,  91,  92,  93,  94,  95,  96,  97,\n",
        "        98,  99, 100, 101, 102, 103, 104, 105, 106, 107, 108, 109, 110,\n",
        "       111, 112, 113, 114, 115, 116, 117, 118, 119, 120, 121, 122, 123,\n",
        "       124, 125, 126, 127, 128, 129, 130, 131, 132, 133, 134, 135, 136,\n",
        "       137, 138, 139, 140, 141, 142, 143, 144, 145, 146, 147, 148, 149,\n",
        "       150, 151, 152, 153, 154, 155, 156, 157, 158, 159, 160, 161, 162,\n",
        "       163, 164, 165, 166, 167, 168, 169, 170, 171, 172, 173, 174, 175,\n",
        "       176, 177, 187, 188, 189, 190, 191, 192, 193, 194, 195, 196, 197,\n",
        "       198, 199, 203, 204, 205, 206, 207, 208, 209, 210, 211, 212, 213,\n",
        "       214, 215, 220, 221, 222], dtype=uint8), array([  1,   2,   3,   4,   5,   6,   7,   8,   9,  10,  11,  12,  13,\n",
        "        14,  15,  16,  17,  18,  19,  20,  21,  22,  23,  24,  25,  26,\n",
        "        27,  28,  29,  30,  31,  32,  33,  34,  35,  36,  37,  38,  39,\n",
        "        40,  41,  42,  43,  44,  45,  46,  47,  48,  49,  50,  51,  52,\n",
        "        53,  54,  55,  56,  57,  58,  59,  60,  61,  62,  63,  64,  65,\n",
        "       223, 248, 249, 250, 251, 252, 253, 254, 255, 256, 257, 258, 259,\n",
        "       260, 261, 262, 263, 264, 265, 266, 267, 268, 269, 270, 271, 272,\n",
        "       273, 274, 275, 276, 277, 278, 279, 280, 281, 282, 283, 284, 285,\n",
        "       286, 287, 288, 289, 290, 291, 292, 293, 294, 295, 296, 297, 298,\n",
        "       299, 300, 301, 302, 303, 304, 305, 306, 307, 308, 309, 310, 311,\n",
        "       312, 313, 314, 315, 316, 317, 318, 319, 320, 321, 322, 323, 324,\n",
        "       325, 326, 327, 328, 329, 330, 331, 332, 333, 334, 335, 336, 337,\n",
        "       338, 339, 340, 341, 342, 343, 344, 345, 346, 347, 348, 349, 350,\n",
        "       351, 352, 353, 354, 355, 356, 357, 358, 359, 360, 361, 362, 363,\n",
        "       364, 365, 366, 367, 368, 369, 370, 371, 372, 373, 374, 375, 376,\n",
        "       377, 378, 379, 380, 381, 382, 383, 384, 385, 386, 387, 388, 389,\n",
        "       390, 391, 392, 393, 394, 395, 396, 397, 398, 399, 400, 401, 402,\n",
        "       403, 404, 405, 406, 407, 408, 409, 410, 411, 412, 413, 414, 415,\n",
        "       416, 417, 418, 419, 420, 421, 422, 423, 424, 425, 426, 427, 428,\n",
        "       429, 430, 431, 432, 433, 434, 435, 436, 437, 438, 439, 440, 441,\n",
        "       442, 443, 444, 445, 446, 447, 448, 449, 450, 451, 452, 453, 454,\n",
        "       455, 456, 457, 458, 459, 460, 461, 462, 463, 464, 465, 466, 467,\n",
        "       468, 469, 470, 471, 472, 473, 474, 475, 476, 477, 478, 479, 480,\n",
        "       481, 482, 483, 484, 485, 486, 487, 488, 489, 490, 491, 492, 493,\n",
        "       494, 495, 496, 497, 498, 499, 500, 501, 502, 503, 504, 505, 506,\n",
        "       507, 508, 509, 510, 511, 512, 513, 514, 515, 516, 517, 518, 519,\n",
        "       520, 521, 522, 523, 524, 525, 526, 527, 528, 529, 530, 531, 532,\n",
        "       533, 534, 535, 536, 537, 538, 539, 540, 541, 542, 543, 544, 545,\n",
        "       546, 547, 548, 549, 550, 551, 552, 553, 554, 555, 556, 557, 558,\n",
        "       559, 560, 561, 562, 563, 564, 565, 566, 567, 568, 569, 570, 571,\n",
        "       572, 573, 574, 575, 576, 577, 578, 579, 580, 581, 582, 583, 584,\n",
        "       585, 586, 587, 588, 589, 590, 591, 592, 593, 594, 595, 596, 597,\n",
        "       598, 599, 600, 601, 602, 603, 604, 605, 606, 607, 608, 609, 610,\n",
        "       611, 612, 613, 614, 615, 616, 617, 618, 619, 620, 621, 622, 623,\n",
        "       624, 625, 626, 627, 628, 629, 630, 631, 632, 633, 634, 635, 636,\n",
        "       637, 638, 639, 640, 641, 642, 643, 644, 645, 646, 647, 648, 649,\n",
        "       650, 651, 652, 653, 654, 655, 656, 657, 658, 659, 660, 661, 662,\n",
        "       663, 664, 665, 666, 667, 668, 669, 670, 671, 672, 673, 674, 675,\n",
        "       676, 677, 678, 679, 680, 681, 682, 683, 684, 685, 686, 687, 688,\n",
        "       689, 690, 691, 692, 693, 694, 695, 696, 697, 698, 699, 700, 701,\n",
        "       702, 703, 704, 705, 706, 707, 708, 709, 710, 711, 712, 713, 714,\n",
        "       715, 716, 717, 718, 719, 720, 721, 722, 723, 733, 734, 735, 736,\n",
        "       737, 738, 739, 740, 741, 742, 743, 744, 745, 746, 747, 748, 749,\n",
        "       750, 751, 752, 753, 754, 755, 756, 757, 768, 769, 770, 771, 772,\n",
        "       773, 774, 775, 776, 777, 778, 779, 780, 781, 782, 783, 804, 805,\n",
        "       806, 807, 808, 809, 810, 811, 812, 813, 814, 815, 816, 817, 818,\n",
        "       819, 820, 821], dtype=uint16), array([ 66,  67,  68,  69,  77, 178, 179, 180, 181, 182, 183, 184, 185,\n",
        "       186, 200, 201, 202, 216, 217, 218, 219, 224, 225, 226, 227, 228,\n",
        "       229, 230, 231, 232, 233, 234, 235, 236, 237, 238, 239, 240, 241,\n",
        "       242, 243, 244, 245, 246, 247, 724, 725, 726, 727, 728, 729, 730,\n",
        "       731, 732, 758, 759, 760, 761, 762, 763, 764, 765, 766, 767, 784,\n",
        "       785, 789, 790, 791, 792, 793, 794, 795, 796, 797, 798, 799, 800,\n",
        "       801, 802, 803, 822, 823, 824, 825, 826, 827, 828, 829, 830, 831,\n",
        "       832, 833, 834, 835, 836, 837, 838, 839, 840, 841, 842, 843, 844,\n",
        "       845, 846, 847, 848, 849, 850, 851, 852, 853, 854, 855, 856, 857,\n",
        "       858, 859, 860, 861, 862, 863, 864, 865, 866, 867, 868, 881, 882,\n",
        "       883, 884, 885, 905, 906, 907, 908, 909, 910, 911, 912, 913], dtype=uint16), array([  70,   71,  786,  787,  788,  869,  870,  871,  872,  873,  874,\n",
        "        875,  876,  877,  878,  879,  880,  886,  887,  888,  889,  890,\n",
        "        891,  892,  893,  894,  895,  896,  897,  898,  899,  900,  901,\n",
        "        902,  903,  904,  914,  915,  916,  917,  918,  919,  920,  921,\n",
        "        922,  923,  924,  925,  926,  927,  928,  929,  930,  931,  932,\n",
        "        933,  934,  935,  936,  937,  938,  939,  940,  941,  942,  943,\n",
        "        944,  945,  946,  947,  948,  949,  950,  951,  952,  953,  954,\n",
        "        955,  956,  957,  958,  959,  960,  961,  962,  963,  964,  965,\n",
        "        966,  967,  968,  969,  970,  971,  972,  973,  974,  975,  976,\n",
        "        977,  978,  979,  980,  981,  982,  983,  984,  985,  986,  987,\n",
        "        988,  989,  990,  991,  992,  993,  994,  995,  996,  997,  998,\n",
        "        999, 1000, 1001, 1002, 1003, 1004, 1005, 1006, 1007, 1008, 1009,\n",
        "       1010, 1011, 1012, 1013, 1014, 1015, 1016, 1017, 1018, 1019, 1020,\n",
        "       1021, 1022, 1023, 1024, 1025, 1026, 1027, 1028, 1029, 1030, 1031,\n",
        "       1032, 1033, 1034, 1035, 1036, 1037, 1038, 1039, 1040, 1041, 1042,\n",
        "       1043, 1044, 1045, 1046, 1047, 1048, 1049, 1050, 1051, 1052, 1053,\n",
        "       1054, 1055, 1056, 1057, 1058, 1059, 1060, 1061, 1062, 1063, 1064,\n",
        "       1065, 1066, 1067, 1068, 1069, 1070, 1071, 1072, 1073, 1074, 1075,\n",
        "       1076, 1077, 1078, 1079, 1080, 1081, 1082, 1083, 1084, 1085, 1086,\n",
        "       1087, 1088, 1089, 1090, 1091, 1092, 1093, 1094, 1095, 1096, 1097,\n",
        "       1098, 1099, 1100, 1101, 1102, 1103, 1104, 1105, 1106, 1107, 1108,\n",
        "       1109, 1110, 1111, 1112, 1113, 1114, 1115, 1116, 1117, 1118, 1119,\n",
        "       1120, 1121, 1122, 1123, 1124, 1125, 1126, 1127, 1128, 1129, 1130,\n",
        "       1131, 1132, 1133, 1134, 1135, 1136, 1137, 1138, 1139, 1140, 1141,\n",
        "       1142, 1143, 1144, 1145, 1146, 1147, 1148, 1149, 1150, 1151, 1152,\n",
        "       1153, 1154, 1155, 1156, 1157, 1158, 1159, 1160, 1161, 1162, 1163,\n",
        "       1164, 1165, 1166, 1167, 1168, 1169, 1170, 1171, 1172, 1173, 1174,\n",
        "       1175, 1176, 1177, 1178, 1179, 1180, 1181, 1182, 1183, 1184, 1185,\n",
        "       1186, 1187, 1188, 1189, 1190, 1191, 1192, 1193, 1194, 1195, 1196,\n",
        "       1197, 1198, 1199, 1200, 1201, 1202, 1203, 1204, 1205, 1206, 1207,\n",
        "       1208, 1209, 1210, 1211, 1212, 1213, 1214, 1215, 1216, 1217, 1218,\n",
        "       1219, 1220, 1221, 1222, 1223, 1224, 1225, 1226, 1227, 1228, 1229,\n",
        "       1230, 1231, 1232, 1233, 1234, 1235, 1236, 1237, 1238, 1239, 1240,\n",
        "       1241, 1242, 1243, 1244, 1245, 1246, 1247, 1248, 1249, 1250, 1251,\n",
        "       1252, 1253, 1254, 1255, 1256, 1257, 1258, 1259, 1260, 1261, 1262,\n",
        "       1263, 1264, 1265, 1266, 1267, 1268, 1269, 1270, 1271], dtype=uint16)]\n"
       ]
      }
     ],
     "prompt_number": 6
    },
    {
     "cell_type": "code",
     "collapsed": false,
     "input": [
      "print np.round(window.labellingTab.labelProbs[0, 0]*100, decimals=1)"
     ],
     "language": "python",
     "metadata": {},
     "outputs": [
      {
       "output_type": "stream",
       "stream": "stdout",
       "text": [
        "87.2\n"
       ]
      }
     ],
     "prompt_number": 14
    },
    {
     "cell_type": "code",
     "collapsed": false,
     "input": [
      "print os.sep\n",
      "\n",
      "\n",
      "# print window.preProcessingTab.trimaps[np.argsort(window.preProcessingTab.trimaps.keys())]\n",
      "# print window.preProcessingTab.trimaps[np.sort(window.preProcessingTab.trimaps.keys())]\n",
      "print sorted(window.preProcessingTab.trimaps)"
     ],
     "language": "python",
     "metadata": {},
     "outputs": [
      {
       "output_type": "stream",
       "stream": "stdout",
       "text": [
        "/\n",
        "[u'000020.png', u'000033.png', u'000050.png', u'000066.png']\n"
       ]
      }
     ],
     "prompt_number": 50
    },
    {
     "cell_type": "code",
     "collapsed": false,
     "input": [
      "a = cv2.imread(window.dataLocation + \"/000014.png\")\n",
      "b = np.reshape(cv2.cvtColor(cv2.imread(window.dataLocation + \"/matte-000014.png\"), cv2.COLOR_BGR2GRAY), np.hstack((a.shape[0:-1], 1)))\n",
      "\n",
      "png = np.concatenate((a, b), axis=-1)\n",
      "print png.shape, png.strides\n",
      "# figure(); imshow(tmpImg)\n",
      "#b = 255 << 24 | a[:,:,0] << 16 | a[:,:,1] << 8 | a[:,:,2] # pack RGB values\n",
      "im = QtGui.QImage(png, png.shape[1], png.shape[0], png.strides[0], QtGui.QImage.Format_ARGB32)\n",
      "label = QtGui.QLabel(\"Hello\")\n",
      "label.resize(300, 300)\n",
      "label.setPixmap(QtGui.QPixmap(im))\n",
      "label.show()\n",
      "app.exec_()"
     ],
     "language": "python",
     "metadata": {},
     "outputs": [
      {
       "output_type": "stream",
       "stream": "stdout",
       "text": [
        "(240, 240, 4) (960, 4, 1)\n"
       ]
      },
      {
       "metadata": {},
       "output_type": "pyout",
       "prompt_number": 446,
       "text": [
        "0"
       ]
      }
     ],
     "prompt_number": 446
    },
    {
     "cell_type": "code",
     "collapsed": false,
     "input": [
      "tmpImg = cv2.cvtColor(cv2.imread(window.dataLocation + \"/000014.png\"), cv2.COLOR_BGR2RGB)\n",
      "tmpAlpha = np.reshape(cv2.cvtColor(cv2.imread(window.dataLocation + \"/matte-000014.png\"), cv2.COLOR_BGR2GRAY), np.hstack((tmpImg.shape[0:-1], 1)))\n",
      "# figure(); imshow(tmpImg)\n",
      "# figure(); imshow(tmpAlpha, interpolation='nearest')\n",
      "print tmpImg.shape, tmpAlpha.shape\n",
      "print np.concatenate((tmpImg, tmpAlpha), axis=-1).shape"
     ],
     "language": "python",
     "metadata": {},
     "outputs": [
      {
       "output_type": "stream",
       "stream": "stdout",
       "text": [
        "(240, 240, 3) (240, 240, 1)\n",
        "(240, 240, 4)\n"
       ]
      }
     ],
     "prompt_number": 346
    },
    {
     "cell_type": "code",
     "collapsed": false,
     "input": [
      "tmp = window.preProcessingTab.trimaps\n",
      "\n",
      "print tmp.keys()\n",
      "\n",
      "print np.argwhere(window.preProcessingTab.frameNames == window.dataLocation + \"/\" + tmp.keys()[0])\n",
      "print tmp[0].shape\n",
      "\n",
      "# tmp.pop(\"000001.png\", None)\n",
      "\n",
      "# print tmp.keys()\n",
      "\n",
      "\n",
      "\n",
      "# tmp2 = cv2.resize(window.preProcessingTab.trimaps[\"000001.png\"], (120, 120))\n",
      "# print tmp2.shape\n",
      "# figure(); imshow(window.preProcessingTab.trimaps[\"000001.png\"], interpolation='nearest')"
     ],
     "language": "python",
     "metadata": {},
     "outputs": [
      {
       "ename": "KeyError",
       "evalue": "0",
       "output_type": "pyerr",
       "traceback": [
        "\u001b[0;31m---------------------------------------------------------------------------\u001b[0m\n\u001b[0;31mKeyError\u001b[0m                                  Traceback (most recent call last)",
        "\u001b[0;32m<ipython-input-250-55e80b949378>\u001b[0m in \u001b[0;36m<module>\u001b[0;34m()\u001b[0m\n\u001b[1;32m      4\u001b[0m \u001b[0;34m\u001b[0m\u001b[0m\n\u001b[1;32m      5\u001b[0m \u001b[0;32mprint\u001b[0m \u001b[0mnp\u001b[0m\u001b[0;34m.\u001b[0m\u001b[0margwhere\u001b[0m\u001b[0;34m(\u001b[0m\u001b[0mwindow\u001b[0m\u001b[0;34m.\u001b[0m\u001b[0mpreProcessingTab\u001b[0m\u001b[0;34m.\u001b[0m\u001b[0mframeNames\u001b[0m \u001b[0;34m==\u001b[0m \u001b[0mwindow\u001b[0m\u001b[0;34m.\u001b[0m\u001b[0mdataLocation\u001b[0m \u001b[0;34m+\u001b[0m \u001b[0;34m\"/\"\u001b[0m \u001b[0;34m+\u001b[0m \u001b[0mtmp\u001b[0m\u001b[0;34m.\u001b[0m\u001b[0mkeys\u001b[0m\u001b[0;34m(\u001b[0m\u001b[0;34m)\u001b[0m\u001b[0;34m[\u001b[0m\u001b[0;36m0\u001b[0m\u001b[0;34m]\u001b[0m\u001b[0;34m)\u001b[0m\u001b[0;34m\u001b[0m\u001b[0m\n\u001b[0;32m----> 6\u001b[0;31m \u001b[0;32mprint\u001b[0m \u001b[0mtmp\u001b[0m\u001b[0;34m[\u001b[0m\u001b[0;36m0\u001b[0m\u001b[0;34m]\u001b[0m\u001b[0;34m.\u001b[0m\u001b[0mshape\u001b[0m\u001b[0;34m\u001b[0m\u001b[0m\n\u001b[0m\u001b[1;32m      7\u001b[0m \u001b[0;34m\u001b[0m\u001b[0m\n\u001b[1;32m      8\u001b[0m \u001b[0;31m# tmp.pop(\"000001.png\", None)\u001b[0m\u001b[0;34m\u001b[0m\u001b[0;34m\u001b[0m\u001b[0m\n",
        "\u001b[0;31mKeyError\u001b[0m: 0"
       ]
      },
      {
       "output_type": "stream",
       "stream": "stdout",
       "text": [
        "[u'000050.png', u'000020.png', u'000033.png']\n",
        "[[49]]\n"
       ]
      }
     ],
     "prompt_number": 250
    },
    {
     "cell_type": "code",
     "collapsed": false,
     "input": [
      "# tmp = window.dataLocation + \"/trimap-\" + window.frameNames[0].split('/')[-1]\n",
      "tmp = \"/asd/asda/asd/asd/ad-asd-ad.png\"\n",
      "print tmp.split('/')[-1].split('-')[1:]\n",
      "print filter(None, tmp.split(os.sep)[-1].split('-')[1:])\n",
      "print os.sep.join(filter(None, tmp.split('/')[-1].split('-')[1:]))\n",
      "# tmpTrimap = np.array(cv2.cvtColor(cv2.imread(tmp), cv2.COLOR_BGR2GRAY))\n",
      "# figure(); imshow(tmpTrimap, interpolation='nearest')\n",
      "# tmp = np.zeros(shape.tmpTrimap)\n",
      "# print tmpTrimap.shape\n",
      "# import GraphWithValues as gwv\n",
      "# gwv.showCustomGraph(tmpTrimap)\n",
      "# gwv.showCustomGraph(window.preProcessingTab.trimap)"
     ],
     "language": "python",
     "metadata": {},
     "outputs": [
      {
       "output_type": "stream",
       "stream": "stdout",
       "text": [
        "['asd', 'ad.png']\n",
        "['asd', 'ad.png']\n",
        "asd/ad.png\n"
       ]
      }
     ],
     "prompt_number": 8
    },
    {
     "cell_type": "code",
     "collapsed": false,
     "input": [
      "expandedScribble = np.zeros(scribble.shape, dtype=int32)\n",
      "expandedScribble[scribble == 0] = 1\n",
      "expandedScribble[scribble == 255] = 2\n",
      "cv2.watershed(img, expandedScribble)\n",
      "mask = np.zeros(expandedScribble.shape)\n",
      "mask[expandedScribble == 2] = 1\n",
      "mask = cv2.morphologyEx(mask, cv2.MORPH_CLOSE, np.ones((1,1),np.uint8))\n",
      "figure(); imshow(mask, interpolation='nearest')\n",
      "\n",
      "edges = cv2.Canny(np.array(mask, dtype=np.uint8), 1, 2)\n",
      "edges = cv2.dilate(edges, np.ones((5,5),np.uint8), iterations=3)\n",
      "figure(); imshow(edges, interpolation='nearest')\n",
      "\n",
      "trimap = np.zeros(mask.shape)\n",
      "trimap[mask == 1] = 2\n",
      "trimap[edges == np.max(edges)] = 1\n",
      "figure(); imshow(trimap, interpolation='nearest')"
     ],
     "language": "python",
     "metadata": {},
     "outputs": []
    },
    {
     "cell_type": "code",
     "collapsed": false,
     "input": [
      "scribble = np.copy(cv2.cvtColor(window.preProcessingTab.scribbleImg, cv2.COLOR_BGR2RGB))\n",
      "print scribble.shape\n",
      "figure(); imshow(scribble, interpolation='nearest')\n",
      "matte = np.zeros(scribble.shape[0:2])\n",
      "## foreground is red\n",
      "fgIdx = np.argwhere(scribble[:, :, 0] == 255)\n",
      "## background is blue\n",
      "bgIdx = np.argwhere(scribble[:, :, 2] == 255)\n",
      "matte[fgIdx[:, 0], fgIdx[:, 1]] = 2\n",
      "matte[bgIdx[:, 0], bgIdx[:, 1]] = 1\n",
      "# matte[np.argwhere(scribble == np.array([255, 0, 0]))] = 1\n",
      "figure(); imshow(matte, interpolation='nearest')"
     ],
     "language": "python",
     "metadata": {},
     "outputs": [
      {
       "output_type": "stream",
       "stream": "stdout",
       "text": [
        "(240, 240, 3)\n"
       ]
      },
      {
       "metadata": {},
       "output_type": "pyout",
       "prompt_number": 95,
       "text": [
        "<matplotlib.image.AxesImage at 0x7f43b59d0a10>"
       ]
      }
     ],
     "prompt_number": 95
    },
    {
     "cell_type": "code",
     "collapsed": false,
     "input": [
      "# distMat = np.copy(window.distMat)\n",
      "figure(); imshow(distMat, interpolation='nearest')\n",
      "def getRangeDistances(self, l, frameRange, featherLevel, weightShape) :\n",
      "\n",
      "    kernelLength = np.float(frameRange[1]-frameRange[0])\n",
      "    print kernelLength\n",
      "    kernelRange = np.arange(1.0, 0.0, -(1.0)/np.floor(kernelLength*featherLevel))\n",
      "    print kernelRange\n",
      "    kernel = np.zeros(kernelLength+1)\n",
      "    kernel[0:len(kernelRange)] = kernelRange#+np.ones(kernelRange.shape)\n",
      "    kernel = np.hstack((kernel, kernel[np.arange(len(kernel)-2, -1, -1)]))\n",
      "    \n",
      "    rangeDistances = np.arange(0, weightShape[0])\n",
      "    rangeDistances = np.abs(rangeDistances - frameRange[1])\n",
      "    rangeDistances[frameRange[0]:frameRange[2]+1] = rangeDistances[frameRange[0]:frameRange[2]+1]*kernel\n",
      "    print rangeDistances\n",
      "    \n",
      "    rangeDistances = np.repeat(np.reshape(rangeDistances, (1, len(rangeDistances))), len(rangeDistances), axis=0)\n",
      "    \n",
      "    return rangeDistances\n",
      "rangeDistances = getRangeDistances(0.7, [24, 35, 46], 0.5, distMat.shape)\n",
      "figure(); imshow(rangeDistances, interpolation='nearest')\n",
      "print rangeWeights"
     ],
     "language": "python",
     "metadata": {},
     "outputs": [
      {
       "output_type": "stream",
       "stream": "stdout",
       "text": [
        "11.0\n",
        "[ 1.   0.8  0.6  0.4  0.2]\n",
        "[35 34 33 32 31 30 29 28 27 26 25 24 23 22 21 20 19 18 17 16 15 14 13 12 11\n",
        "  8  5  3  1  0  0  0  0  0  0  0  0  0  0  0  0  0  1  3  5  8 11 12 13 14\n",
        " 15 16 17 18 19 20 21]\n",
        "[[35 34 33 ..., 19 20 21]\n",
        " [35 34 33 ..., 19 20 21]\n",
        " [35 34 33 ..., 19 20 21]\n",
        " ..., \n",
        " [35 34 33 ..., 19 20 21]\n",
        " [35 34 33 ..., 19 20 21]\n",
        " [35 34 33 ..., 19 20 21]]"
       ]
      },
      {
       "output_type": "stream",
       "stream": "stdout",
       "text": [
        "\n"
       ]
      }
     ],
     "prompt_number": 42
    },
    {
     "cell_type": "code",
     "collapsed": false,
     "input": [
      "## Turn distances to probabilities\n",
      "def rangedist2prob(dM, sigmaMult, rangeDist, normalize) :\n",
      "    sigma = sigmaMult*np.mean(dM[np.nonzero(dM)])\n",
      "    print 'sigma', sigma\n",
      "    pM = np.exp(-(dM/sigma+ rangeDist))\n",
      "## normalize probabilities row-wise\n",
      "    if normalize :\n",
      "        normTerm = np.sum(pM, axis=1)\n",
      "        normTerm = cv2.repeat(normTerm, 1, dM.shape[1])\n",
      "        pM = pM / normTerm\n",
      "    return pM\n",
      "\n",
      "def getProbabilities(distMat, sigmaMult, rangeDist, normalizeRows) :\n",
      "    ## compute probabilities from distanceMatrix and the cumulative probabilities\n",
      "    if normalizeRows = None :\n",
      "        probabilities = dist2prob(distMat, sigmaMult, normalizeRows)\n",
      "    else :\n",
      "        probabilities = rangedist2prob(distMat, sigmaMult, rangeDist, normalizeRows)\n",
      "    # since the probabilities are normalized on each row, the right most column will be all ones\n",
      "    cumProb = np.cumsum(probabilities, axis=1)\n",
      "    print probabilities.shape, cumProb.shape\n",
      "    \n",
      "    return probabilities, cumProb"
     ],
     "language": "python",
     "metadata": {},
     "outputs": [],
     "prompt_number": 38
    },
    {
     "cell_type": "code",
     "collapsed": false,
     "input": [
      "probs, cumProb = getProbabilities(distMat, 0.005, rangeWeights, True)\n",
      "figure(); imshow(probs, interpolation='nearest')\n",
      "figure(); imshow(cumProb, interpolation='nearest')"
     ],
     "language": "python",
     "metadata": {},
     "outputs": [
      {
       "output_type": "stream",
       "stream": "stdout",
       "text": [
        "sigma 8.77812188294\n",
        "(57, 57) (57, 57)\n"
       ]
      },
      {
       "metadata": {},
       "output_type": "pyout",
       "prompt_number": 44,
       "text": [
        "<matplotlib.image.AxesImage at 0x7f09fb6dcc50>"
       ]
      }
     ],
     "prompt_number": 44
    }
   ],
   "metadata": {}
  }
 ]
}