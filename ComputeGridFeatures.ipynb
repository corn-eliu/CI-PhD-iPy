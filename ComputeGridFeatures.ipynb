{
 "metadata": {
  "name": ""
 },
 "nbformat": 3,
 "nbformat_minor": 0,
 "worksheets": [
  {
   "cells": [
    {
     "cell_type": "code",
     "collapsed": false,
     "input": [
      "## Imports and defines\n",
      "import numpy as np\n",
      "import cv2\n",
      "import time\n",
      "import sys\n",
      "import os"
     ],
     "language": "python",
     "metadata": {},
     "outputs": [],
     "prompt_number": 11
    },
    {
     "cell_type": "code",
     "collapsed": false,
     "input": [
      "def stencil2D(blocksPerWidth, blocksPerHeight, imageSize):\n",
      "    \"\"\"Given block sizes and image size, it returns indices representing each block in 3D.\"\"\"\n",
      "    stencils = []\n",
      "    bRows = imageSize[0]/blocksPerHeight\n",
      "    bCols = imageSize[1]/blocksPerWidth\n",
      "    for r in xrange(0, blocksPerHeight) :\n",
      "        for c in xrange(0, blocksPerWidth) :\n",
      "            stencil = np.zeros(imageSize[0:-1], dtype=int)\n",
      "            stencil[r*bRows:r*bRows+bRows, c*bCols:c*bCols+bCols] = np.ones((bRows, bCols))\n",
      "            stencils.append(list(np.argwhere(stencil==1).T))\n",
      "            \n",
      "    return stencils\n",
      "\n",
      "def stencil3D(blocksPerWidth, blocksPerHeight, imageSize) :\n",
      "    \"\"\"Given block sizes and image size, it returns indices representing each block in 3D.\"\"\"\n",
      "    \n",
      "    stencils = []\n",
      "    bRows = imageSize[0]/blocksPerHeight\n",
      "    bCols = imageSize[1]/blocksPerWidth\n",
      "    for r in xrange(0, blocksPerHeight) :\n",
      "        for c in xrange(0, blocksPerWidth) :\n",
      "            stencil = np.zeros(imageSize, dtype=int)\n",
      "            stencil[r*bRows:r*bRows+bRows, c*bCols:c*bCols+bCols] = np.ones((bRows, bCols, imageSize[-1]))\n",
      "            stencils.append(list(np.argwhere(stencil==1).T))\n",
      "    \n",
      "    return stencils"
     ],
     "language": "python",
     "metadata": {},
     "outputs": [],
     "prompt_number": 27
    },
    {
     "cell_type": "code",
     "collapsed": false,
     "input": [
      "def histFgFeatures(stencils, subDivisions, frames, mattes) :\n",
      "    \"\"\"Computes a feature vector as number of foreground pixels per subsection as defined in stencils.\n",
      "       It assumes 2D stencils and they contain indices within the size of a frame.\"\"\"\n",
      "    st = time.time()\n",
      "    \n",
      "    numFrames = len(frames)\n",
      "    features = np.zeros([numFrames, subDivisions])\n",
      "    for i in xrange(0, numFrames) :\n",
      "        \n",
      "        t = time.time()\n",
      "        \n",
      "        ##load frame\n",
      "        img = np.array(cv2.cvtColor(cv2.imread(frames[i]), cv2.COLOR_BGR2RGB))/255.0\n",
      "        alpha = np.zeros(img.shape[0:-1])\n",
      "        if os.path.isfile(mattes[i]) :\n",
      "            alpha = np.array(cv2.cvtColor(cv2.imread(mattes[i]), cv2.COLOR_BGR2GRAY))/255.0\n",
      "            img *= np.repeat(np.reshape(alpha, (alpha.shape[0], alpha.shape[1], 1)), 3, axis=-1)\n",
      "    \n",
      "        ## use stencils to divide the image into blocks and count number of foreground pixels\n",
      "        for s in xrange(0, len(stencils)) :\n",
      "    #         index = s + idx*len(stencils)\n",
      "            features[i, s] = len(np.argwhere(alpha[stencils[s]] != 0))\n",
      "        sys.stdout.write('\\r' + \"Computed features for frame \" + np.string_(i) + \" of \" + np.string_(numFrames) + \" in \" + np.string_(time.time() - t))\n",
      "        sys.stdout.flush()\n",
      "        \n",
      "    print\n",
      "    print \"finished in\", time.time() - st\n",
      "    \n",
      "    ## normalize\n",
      "#     features /= np.repeat(np.reshape(np.linalg.norm(features, axis=-1), (numFrames, 1)), subDivisions, axis=-1)\n",
      "    return features"
     ],
     "language": "python",
     "metadata": {},
     "outputs": [],
     "prompt_number": 28
    }
   ],
   "metadata": {}
  }
 ]
}