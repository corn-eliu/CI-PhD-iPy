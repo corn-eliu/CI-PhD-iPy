{
 "metadata": {
  "name": "",
<<<<<<< HEAD
  "signature": "sha256:d53d9b4ffc8d2120c2990f99e2fd497e85bfd137f0378986017387da74e6bc4b"
=======
  "signature": "sha256:d2e067c162320af7815ee9efe3bcf59d8a1692a57e01cd2fa9f49de782ddba0f"
>>>>>>> fe1b005d2ec4d7eb0bc61da731ff4fa25b905e36
 },
 "nbformat": 3,
 "nbformat_minor": 0,
 "worksheets": [
  {
   "cells": [
    {
     "cell_type": "code",
     "collapsed": false,
     "input": [
      "## Imports and defines\n",
      "%pylab\n",
      "import numpy as np\n",
      "import sys\n",
      "import scipy as sp\n",
      "\n",
      "import cv2\n",
      "import time\n",
      "import os\n",
      "import scipy.io as sio\n",
      "import glob\n",
      "from scipy import ndimage as spimg\n",
<<<<<<< HEAD
      "import shutil\n",
=======
>>>>>>> fe1b005d2ec4d7eb0bc61da731ff4fa25b905e36
      "\n",
      "from PIL import Image\n",
      "from PySide import QtCore, QtGui\n",
      "\n",
      "import GraphWithValues as gwv\n",
      "\n",
      "app = QtGui.QApplication(sys.argv)"
     ],
     "language": "python",
     "metadata": {},
     "outputs": [
      {
       "output_type": "stream",
       "stream": "stdout",
       "text": [
        "Using matplotlib backend: TkAgg\n",
        "Populating the interactive namespace from numpy and matplotlib\n"
       ]
      }
     ],
     "prompt_number": 1
    },
    {
     "cell_type": "code",
     "collapsed": false,
     "input": [
<<<<<<< HEAD
      "DICT_SEQUENCE_NAME = 'semantic_sequence_name'\n",
=======
      "DICT_SPRITE_NAME = 'sprite_name'\n",
>>>>>>> fe1b005d2ec4d7eb0bc61da731ff4fa25b905e36
      "DICT_BBOXES = 'bboxes'\n",
      "DICT_FOOTPRINTS = 'footprints' ## same as bboxes but it indicates the footprint of the sprite on the ground plane\n",
      "DICT_BBOX_ROTATIONS = 'bbox_rotations'\n",
      "DICT_BBOX_CENTERS = 'bbox_centers'\n",
      "DICT_FRAMES_LOCATIONS = 'frame_locs'\n",
<<<<<<< HEAD
      "DICT_MASK_LOCATION = 'frame_masks_location'\n",
      "DICT_SEQUENCE_FRAMES = 'sequence_frames'\n",
      "DICT_SEQUENCE_IDX = 'semantic_sequence_idx' # index of the instantiated sem sequence in the list of all used sem sequences for a synthesised sequence\n",
      "DICT_DESIRED_SEMANTICS = 'desired_semantics' # stores what the desired semantics are for a certain sprite \n",
      "#(I could index them by the frame when the toggle happened instead of using the below but maybe ordering is important and I would lose that using a dict)\n",
      "DICT_FRAME_SEMANTIC_TOGGLE = 'frame_semantic_toggle'# stores the frame index in the generated sequence when the desired semantics have changed\n",
      "DICT_ICON_TOP_LEFT = \"icon_top_left\"\n",
      "DICT_ICON_FRAME_KEY = \"icon_frame_key\"\n",
      "DICT_ICON_SIZE = \"icon_size\"\n",
      "DICT_REPRESENTATIVE_COLOR = 'representative_color'\n",
      "DICT_OFFSET = \"instance_offset\"\n",
      "DICT_SCALE = \"instance_scale\"\n",
      "DICT_FRAME_SEMANTICS = \"semantics_per_frame\"\n",
      "DICT_USED_SEQUENCES = \"used_semantic_sequences\"\n",
      "DICT_SEQUENCE_INSTANCES = \"sequence_instances\"\n",
      "DICT_SEQUENCE_BG = \"sequence_background_image\"\n",
      "DICT_SEQUENCE_LOCATION = \"sequence_location\"\n",
      "DICT_PATCHES_LOCATION = \"sequence_preloaded_patches_location\"\n",
=======
      "DICT_SEQUENCE_FRAMES = 'sequence_frames'\n",
      "DICT_SPRITE_IDX = 'sprite_idx' # stores the index in the self.trackedSprites array of the sprite used in the generated sequence\n",
      "DICT_DESIRED_SEMANTICS = 'desired_semantics' # stores what the desired semantics are for a certain sprite \n",
      "#(I could index them by the frame when the toggle happened instead of using the below but maybe ordering is important and I would lose that using a dict)\n",
      "DICT_FRAME_SEMANTIC_TOGGLE = 'frame_semantic_toggle'# stores the frame index in the generated sequence when the desired semantics have changed\n",
      "DICT_MEDIAN_COLOR = 'median_color'\n",
>>>>>>> fe1b005d2ec4d7eb0bc61da731ff4fa25b905e36
      "\n",
      "TL_IDX = 0\n",
      "TR_IDX = 1\n",
      "BR_IDX = 2\n",
      "BL_IDX = 3\n",
      "\n",
      "dataPath = \"/home/ilisescu/PhD/data/\"\n",
      "dataSet = \"havana/\"\n",
      "# dataPath = \"/media/ilisescu/Data1/PhD/data/\"\n",
      "# dataSet = \"clouds_subsample10/\"\n",
      "# dataSet = \"theme_park_cloudy/\"\n",
      "# dataSet = \"theme_park_sunny/\""
     ],
     "language": "python",
     "metadata": {},
     "outputs": [],
<<<<<<< HEAD
     "prompt_number": 4
=======
     "prompt_number": 91
>>>>>>> fe1b005d2ec4d7eb0bc61da731ff4fa25b905e36
    },
    {
     "cell_type": "code",
     "collapsed": false,
     "input": [
      "## load \n",
      "trackedSprites = []\n",
      "for sprite in np.sort(glob.glob(dataPath + dataSet + \"sprite*.npy\")) :\n",
      "    trackedSprites.append(np.load(sprite).item())\n",
<<<<<<< HEAD
      "    print trackedSprites[-1][DICT_SEQUENCE_NAME], DICT_FOOTPRINTS in trackedSprites[-1].keys()"
=======
      "    print trackedSprites[-1][DICT_SPRITE_NAME], DICT_FOOTPRINTS in trackedSprites[-1].keys()"
>>>>>>> fe1b005d2ec4d7eb0bc61da731ff4fa25b905e36
     ],
     "language": "python",
     "metadata": {},
     "outputs": [
      {
       "output_type": "stream",
       "stream": "stdout",
       "text": [
        "blue_car1 True\n",
        "blue_car2 True\n",
        "blue_orange_bus1 True\n",
        "bordeaux_car1 True\n",
        "grey_car1 True\n",
        "pink_car1 True\n",
        "red_car1 True\n",
        "red_car2 True\n",
        "white_bus1"
       ]
      },
      {
       "output_type": "stream",
       "stream": "stdout",
       "text": [
        " True\n",
        "white_car1 True\n",
        "yellow_taxi1 True\n",
<<<<<<< HEAD
        "yellow_taxi2 True\n",
        "black_car1 False\n"
       ]
      }
     ],
     "prompt_number": 5
=======
        "yellow_taxi2 True\n"
       ]
      }
     ],
     "prompt_number": 120
    },
    {
     "cell_type": "code",
     "collapsed": false,
     "input": [
      "im = cv2.cvtColor(cv2.imread(dataPath+dataSet+\"median.png\", cv2.CV_LOAD_IMAGE_UNCHANGED), cv2.COLOR_BGRA2RGBA)\n",
      "figure(); imshow(im)\n",
      "undistorted = cv2.undistort(im, np.array([[1280, 0, 640], [0, 1280, 320], [0, 0, 1]]), np.array([-0.18, -0.18, 0.0, 0.0, 0.0]))\n",
      "figure(); imshow(undistorted)\n",
      "blurred = cv2.GaussianBlur(undistorted, (0, 0), 1)\n",
      "sharpened = cv2.addWeighted(undistorted, 1.5, blurred, -0.5, 0)\n",
      "figure(); imshow(sharpened)"
     ],
     "language": "python",
     "metadata": {},
     "outputs": [
      {
       "metadata": {},
       "output_type": "pyout",
       "prompt_number": 4,
       "text": [
        "<matplotlib.image.AxesImage at 0x7f5a06dd1b50>"
       ]
      }
     ],
     "prompt_number": 4
    },
    {
     "cell_type": "code",
     "collapsed": false,
     "input": [
      "# im = cv2.cvtColor(cv2.imread(dataPath+dataSet+\"white_bus1-masked-blended/frame-01078.png\", cv2.CV_LOAD_IMAGE_UNCHANGED), cv2.COLOR_BGRA2RGBA)\n",
      "spriteName = trackedSprites[8][DICT_SPRITE_NAME]\n",
      "spriteFrames = np.sort(glob.glob(dataPath+dataSet+spriteName+\"-masked-blended/frame*.png\"))\n",
      "for path in spriteFrames[0:1] :\n",
      "    im = np.array(Image.open(path))\n",
      "    rgb = im[:, :, :-1]\n",
      "    mask = im[:, :, -1]\n",
      "#     figure(); imshow(rgb)\n",
      "#     figure(); imshow(mask, interpolation='nearest')\n",
      "    ## undistort mask\n",
      "    undistorted = cv2.undistort(mask, np.array([[1280, 0, 640], [0, 1280, 320], [0, 0, 1]]), np.array([-0.18, -0.18, 0.0, 0.0, 0.0]))\n",
      "    figure(); imshow(undistorted)\n",
      "    sharpened = cv2.addWeighted(undistorted, 1.5, cv2.GaussianBlur(undistorted, (0, 0), 1), -0.5, 0)\n",
      "    figure(); imshow(sharpened)\n",
      "    figure(); imshow(sharpened == 255)"
     ],
     "language": "python",
     "metadata": {},
     "outputs": [],
     "prompt_number": 21
    },
    {
     "cell_type": "code",
     "collapsed": false,
     "input": [
      "print projectedPoints.shape"
     ],
     "language": "python",
     "metadata": {},
     "outputs": [
      {
       "output_type": "stream",
       "stream": "stdout",
       "text": [
        "(3, 784)\n"
       ]
      }
     ],
     "prompt_number": 113
    },
    {
     "cell_type": "code",
     "collapsed": false,
     "input": [
      "Image.fromarray(np.array(sharpened, dtype=np.uint8)).save(\"tralalala.png\")"
     ],
     "language": "python",
     "metadata": {},
     "outputs": [],
     "prompt_number": 244
    },
    {
     "cell_type": "code",
     "collapsed": false,
     "input": [
      "bgImage = cv2.cvtColor(cv2.imread(dataPath+dataSet+\"undistorted_manual_median.png\"), cv2.COLOR_BGR2RGB)\n",
      "# fourCorners = np.array([[421, 316], [466, 305], [500, 315], [453, 328]], dtype=float)\n",
      "fourCorners = np.array([[715.6, 288.5], [953, 331], [877.8, 400.4], [641.5, 337.5]], dtype=float)\n",
      "figure(); imshow(bgImage)\n",
      "plot(fourCorners[[0, 1, 2, 3, 0], 0], fourCorners[[0, 1, 2, 3, 0], 1])\n",
      "hom = cv2.findHomography(np.array([[0, 0], [1, 0], [1, 1], [0, 1]], dtype=float), fourCorners)[0]\n",
      "\n",
      "gridIdxs = meshgrid(arange(-4, 10, 0.5), arange(-4, 10, 0.5))\n",
      "xs = np.ndarray.flatten(gridIdxs[0])\n",
      "ys = np.ndarray.flatten(gridIdxs[1])\n",
      "gridPoints = np.array([xs, ys, np.ones(len(xs))])\n",
      "\n",
      "projectedPoints = np.dot(hom, gridPoints)\n",
      "projectedPoints /= projectedPoints[-1, :]\n",
      "scatter(projectedPoints[0, :], projectedPoints[1, :], c='r')"
     ],
     "language": "python",
     "metadata": {},
     "outputs": [
      {
       "metadata": {},
       "output_type": "pyout",
       "prompt_number": 10,
       "text": [
        "<matplotlib.collections.PathCollection at 0x7f5a06c7c8d0>"
       ]
      }
     ],
     "prompt_number": 10
    },
    {
     "cell_type": "code",
     "collapsed": false,
     "input": [
      "edges = cv2.Canny(bgImage, 50, 200, 3)\n",
      "# edges = cv2.cvtColor(edges, cv2.COLOR_GRAY2BGR)\n",
      "# figure(); imshow(edges)\n",
      "lines = cv2.HoughLinesP(edges, 1, cv2.cv.CV_PI/180.0, 150, 50, 10)\n",
      "print lines.shape\n",
      "figure(); imshow(edges)\n",
      "for i in xrange(lines.shape[1]) :\n",
      "    plot(lines[0, i, [0, 2]], lines[0, i, [1, 3]])"
     ],
     "language": "python",
     "metadata": {},
     "outputs": [
      {
       "output_type": "stream",
       "stream": "stdout",
       "text": [
        "(1, 259, 4)\n"
       ]
      }
     ],
     "prompt_number": 6
>>>>>>> fe1b005d2ec4d7eb0bc61da731ff4fa25b905e36
    },
    {
     "cell_type": "code",
     "collapsed": false,
     "input": [
<<<<<<< HEAD
=======
      "## manually defined pairs of points per line\n",
      "xAxisLines = np.array([[299.3, 488.0, 63.0, 238.7], \n",
      "                       [508.7, 307.7, 213.7, 217.3], \n",
      "                       [701.3, 286.0, 338.0, 219.7]], dtype=float)\n",
      "yAxisLines = np.array([[401.0, 461.0, 938.5, 138.0], \n",
      "                       [1313.7, 602.0, 1087.7, 162.0]], dtype=float)\n",
      "\n",
      "figure(); imshow(bgImage)\n",
      "for line in xAxisLines[0:2, :] :\n",
      "    plot(line[[0, 2]], line[[1, 3]], c='b')\n",
      "for line in yAxisLines :\n",
      "    plot(line[[0, 2]], line[[1, 3]], c='r')\n",
      "    \n",
>>>>>>> fe1b005d2ec4d7eb0bc61da731ff4fa25b905e36
      "def line2lineIntersection(line1, line2) :\n",
      "    x1, y1, x2, y2 = line1\n",
      "    x3, y3, x4, y4 = line2\n",
      "    denominator = (x1-x2)*(y3-y4)-(y1-y2)*(x3-x4)\n",
      "    if denominator != 0 :\n",
      "        Px = ((x1*y2-y1*x2)*(x3-x4)-(x1-x2)*(x3*y4-y3*x4))/denominator\n",
      "        Py = ((x1*y2-y1*x2)*(y3-y4)-(y1-y2)*(x3*y4-y3*x4))/denominator\n",
      "        return np.array([Px, Py])\n",
      "    else :\n",
<<<<<<< HEAD
      "        raise Exception(\"lines are parallel\")"
     ],
     "language": "python",
     "metadata": {},
     "outputs": [],
     "prompt_number": 6
=======
      "        raise Exception(\"lines are parallel\")\n",
      "\n",
      "intersectionPoints = []        \n",
      "for line1 in xAxisLines[0:2, :] :\n",
      "    for line2 in yAxisLines :\n",
      "        intersectionPoints.append(line2lineIntersection(line1, line2))\n",
      "        scatter(intersectionPoints[-1][0], intersectionPoints[-1][1], c='g')\n",
      "        \n",
      "vanishingPointX = line2lineIntersection(xAxisLines[0, :], xAxisLines[1, :])\n",
      "scatter(vanishingPointX[0], vanishingPointX[1], c='b')\n",
      "\n",
      "vanishingPointY = line2lineIntersection(yAxisLines[0, :], yAxisLines[1, :])\n",
      "scatter(vanishingPointY[0], vanishingPointY[1], c='r')\n",
      "\n",
      "plot([vanishingPointX[0], vanishingPointY[0]], [vanishingPointX[1], vanishingPointY[1]], c='c')"
     ],
     "language": "python",
     "metadata": {},
     "outputs": [
      {
       "metadata": {},
       "output_type": "pyout",
       "prompt_number": 11,
       "text": [
        "[<matplotlib.lines.Line2D at 0x7f5a06bed250>]"
       ]
      }
     ],
     "prompt_number": 11
>>>>>>> fe1b005d2ec4d7eb0bc61da731ff4fa25b905e36
    },
    {
     "cell_type": "code",
     "collapsed": false,
     "input": [
<<<<<<< HEAD
      "# im = cv2.cvtColor(cv2.imread(dataPath+dataSet+\"median.png\", cv2.CV_LOAD_IMAGE_UNCHANGED), cv2.COLOR_BGRA2RGBA)\n",
      "# figure(); imshow(im)\n",
      "# undistorted = cv2.undistort(im, np.array([[1280, 0, 640], [0, 1280, 320], [0, 0, 1]]), np.array([-0.18, -0.18, 0.0, 0.0, 0.0]))\n",
      "# figure(); imshow(undistorted)\n",
      "# blurred = cv2.GaussianBlur(undistorted, (0, 0), 1)\n",
      "# sharpened = cv2.addWeighted(undistorted, 1.5, blurred, -0.5, 0)\n",
      "# figure(); imshow(sharpened)"
     ],
     "language": "python",
     "metadata": {},
     "outputs": [],
     "prompt_number": 5
=======
      "fourCorners = np.array(intersectionPoints)[[0, 2, 3, 1], :]\n",
      "figure(); imshow(bgImage)\n",
      "plot(fourCorners[[0, 1, 2, 3, 0], 0], fourCorners[[0, 1, 2, 3, 0], 1])\n",
      "hom = cv2.findHomography(np.array([[0, 0], [1, 0], [1, 1], [0, 1]], dtype=float), fourCorners)[0]\n",
      "\n",
      "gridIdxs = meshgrid(arange(-0.4, 8, 0.1), arange(-5, 1.2, 0.2))\n",
      "xs = np.ndarray.flatten(gridIdxs[0])\n",
      "ys = np.ndarray.flatten(gridIdxs[1])\n",
      "gridPoints = np.array([xs, ys, np.ones(len(xs))])\n",
      "\n",
      "projectedPoints = np.dot(hom, gridPoints)\n",
      "projectedPoints /= projectedPoints[-1, :]\n",
      "scatter(projectedPoints[0, :], projectedPoints[1, :], c='r')"
     ],
     "language": "python",
     "metadata": {},
     "outputs": [
      {
       "metadata": {},
       "output_type": "pyout",
       "prompt_number": 116,
       "text": [
        "<matplotlib.collections.PathCollection at 0x7f236ce962d0>"
       ]
      }
     ],
     "prompt_number": 116
>>>>>>> fe1b005d2ec4d7eb0bc61da731ff4fa25b905e36
    },
    {
     "cell_type": "code",
     "collapsed": false,
     "input": [
<<<<<<< HEAD
      "# edges = cv2.Canny(bgImage, 50, 200, 3)\n",
      "# # edges = cv2.cvtColor(edges, cv2.COLOR_GRAY2BGR)\n",
      "# # figure(); imshow(edges)\n",
      "# lines = cv2.HoughLinesP(edges, 1, cv2.cv.CV_PI/180.0, 150, 50, 10)\n",
      "# print lines.shape\n",
      "# figure(); imshow(edges)\n",
      "# for i in xrange(lines.shape[1]) :\n",
      "#     plot(lines[0, i, [0, 2]], lines[0, i, [1, 3]])"
=======
      "undistortParameters = np.array([-0.18, -0.18, 0.0, 0.0, 0.0])\n",
      "cameraMatrix = np.array([[1280, 0, 640], [0, 1280, 320], [0, 0, 1]])\n",
      "mapX, mapY = cv2.initUndistortRectifyMap(cameraMatrix, undistortParameters, None, cameraMatrix,\n",
      "                                         bgImage.shape[0:2][::-1], cv2.CV_32FC1)\n",
      "# gwv.showCustomGraph(mapX)\n",
      "# gwv.showCustomGraph(mapY)"
>>>>>>> fe1b005d2ec4d7eb0bc61da731ff4fa25b905e36
     ],
     "language": "python",
     "metadata": {},
     "outputs": [],
<<<<<<< HEAD
     "prompt_number": 6
=======
     "prompt_number": 127
>>>>>>> fe1b005d2ec4d7eb0bc61da731ff4fa25b905e36
    },
    {
     "cell_type": "code",
     "collapsed": false,
     "input": [
<<<<<<< HEAD
      "# ## manually defined pairs of points per line\n",
      "# xAxisLines = np.array([[299.3, 488.0, 63.0, 238.7], \n",
      "#                        [508.7, 307.7, 213.7, 217.3], \n",
      "#                        [701.3, 286.0, 338.0, 219.7]], dtype=float)\n",
      "# yAxisLines = np.array([[401.0, 461.0, 938.5, 138.0], \n",
      "#                        [1313.7, 602.0, 1087.7, 162.0]], dtype=float)\n",
      "\n",
      "# figure(); imshow(bgImage)\n",
      "# for line in xAxisLines[0:2, :] :\n",
      "#     plot(line[[0, 2]], line[[1, 3]], c='b')\n",
      "# for line in yAxisLines :\n",
      "#     plot(line[[0, 2]], line[[1, 3]], c='r')\n",
      "    \n",
      "# def line2lineIntersection(line1, line2) :\n",
      "#     x1, y1, x2, y2 = line1\n",
      "#     x3, y3, x4, y4 = line2\n",
      "#     denominator = (x1-x2)*(y3-y4)-(y1-y2)*(x3-x4)\n",
      "#     if denominator != 0 :\n",
      "#         Px = ((x1*y2-y1*x2)*(x3-x4)-(x1-x2)*(x3*y4-y3*x4))/denominator\n",
      "#         Py = ((x1*y2-y1*x2)*(y3-y4)-(y1-y2)*(x3*y4-y3*x4))/denominator\n",
      "#         return np.array([Px, Py])\n",
      "#     else :\n",
      "#         raise Exception(\"lines are parallel\")\n",
      "\n",
      "# intersectionPoints = []        \n",
      "# for line1 in xAxisLines[0:2, :] :\n",
      "#     for line2 in yAxisLines :\n",
      "#         intersectionPoints.append(line2lineIntersection(line1, line2))\n",
      "#         scatter(intersectionPoints[-1][0], intersectionPoints[-1][1], c='g')\n",
      "        \n",
      "# vanishingPointX = line2lineIntersection(xAxisLines[0, :], xAxisLines[1, :])\n",
      "# scatter(vanishingPointX[0], vanishingPointX[1], c='b')\n",
      "\n",
      "# vanishingPointY = line2lineIntersection(yAxisLines[0, :], yAxisLines[1, :])\n",
      "# scatter(vanishingPointY[0], vanishingPointY[1], c='r')\n",
      "\n",
      "# plot([vanishingPointX[0], vanishingPointY[0]], [vanishingPointX[1], vanishingPointY[1]], c='c')"
     ],
     "language": "python",
     "metadata": {},
     "outputs": [],
     "prompt_number": 7
=======
      "pointsUndistorted = projectedPoints[0:2, np.all((projectedPoints[0, :] > 0,\n",
      "                                                 projectedPoints[0, :] < bgImage.shape[1],\n",
      "                                                 projectedPoints[1, :] > 0,\n",
      "                                                 projectedPoints[1, :] < bgImage.shape[0]), axis=0)]\n",
      "figure(); imshow(bgImage)\n",
      "scatter(pointsUndistorted[0, :], pointsUndistorted[1, :])\n",
      "\n",
      "pointsDistorted = np.array(pointsUndistorted, dtype=int)\n",
      "figure(); imshow(cv2.cvtColor(cv2.imread(dataPath+dataSet+\"median.png\"), cv2.COLOR_BGR2RGB))\n",
      "pointsDistorted = np.array([mapX[pointsDistorted[1, :], pointsDistorted[0, :]], mapY[pointsDistorted[1, :], pointsDistorted[0, :]]])\n",
      "scatter(pointsDistorted[0, :], pointsDistorted[1, :])"
     ],
     "language": "python",
     "metadata": {},
     "outputs": [
      {
       "metadata": {},
       "output_type": "pyout",
       "prompt_number": 123,
       "text": [
        "<matplotlib.collections.PathCollection at 0x7f234facbad0>"
       ]
      }
     ],
     "prompt_number": 123
>>>>>>> fe1b005d2ec4d7eb0bc61da731ff4fa25b905e36
    },
    {
     "cell_type": "code",
     "collapsed": false,
     "input": [
<<<<<<< HEAD
      "# spriteIdx = 8\n",
      "# xs, ys = np.array([trackedSprites[spriteIdx][DICT_BBOX_CENTERS][i] for i in np.sort(trackedSprites[spriteIdx][DICT_BBOX_CENTERS].keys())]).T\n",
      "# ## compute bbox areas\n",
      "# areas = np.zeros((len(trackedSprites[spriteIdx][DICT_BBOXES]),))\n",
      "# for key, idx in zip(np.sort(trackedSprites[spriteIdx][DICT_BBOXES].keys()), xrange(len(areas))) :\n",
      "#     areas[idx] = np.linalg.norm(trackedSprites[spriteIdx][DICT_BBOXES][key][TL_IDX, :] - trackedSprites[spriteIdx][DICT_BBOXES][key][TR_IDX, :])\n",
      "#     areas[idx] *= np.linalg.norm(trackedSprites[spriteIdx][DICT_BBOXES][key][TR_IDX, :] - trackedSprites[spriteIdx][DICT_BBOXES][key][BR_IDX, :])\n",
      "\n",
      "# filteredAreas = spimg.filters.gaussian_filter1d(areas, 30, axis=0)\n",
      "\n",
      "# smoothedPath = np.array([spimg.filters.gaussian_filter1d(xs, 15, axis=0), \n",
      "#                          spimg.filters.gaussian_filter1d(ys, 15, axis=0)]).T#+filteredAreas*0.0005]).T\n",
      "\n",
      "# # ## adjust ys to account for height of car\n",
      "# # if True :\n",
      "# #     interpolated = interpolate_polyline(np.array([xs, ys+filteredAreas*0.0009]).T, 20)\n",
      "    \n",
      "# # interpolated = interpolate_polyline(interpolated, 1000)\n",
      "\n",
      "# figure(); imshow(cv2.cvtColor(cv2.imread(dataPath+dataSet+\"median.png\"), cv2.COLOR_BGR2RGB))\n",
      "# plot(xs, ys)\n",
      "# # plot(interpolated[:, 0], interpolated[:, 1])\n",
      "# plot(smoothedPath[:, 0], smoothedPath[:, 1])\n",
      "\n",
      "# undistortedPoints = cv2.undistortPoints(smoothedPath.reshape((1, len(smoothedPath), 2)),#projectedPoints.T[:, 0:2].reshape((1, len(projectedPoints.T), 2)), \n",
      "#                                         np.array([[1280, 0, 640], [0, 1280, 320], [0, 0, 1]]), undistortParameters,\n",
      "#                                         P=np.array([[1280, 0, 640], [0, 1280, 320], [0, 0, 1]]))\n",
      "# figure(); imshow(bgImage)\n",
      "# # plot(interpolated[:, 0], interpolated[:, 1])\n",
      "# plot(undistortedPoints[0, :, 0], undistortedPoints[0, :, 1], 'o-')"
     ],
     "language": "python",
     "metadata": {},
     "outputs": [],
     "prompt_number": 8
=======
      "print projectedPoints.shape"
     ],
     "language": "python",
     "metadata": {},
     "outputs": [
      {
       "output_type": "stream",
       "stream": "stdout",
       "text": [
        "(3, 2604)\n"
       ]
      }
     ],
     "prompt_number": 88
    },
    {
     "cell_type": "code",
     "collapsed": false,
     "input": [
      "print gridPoints.shape\n",
      "print 0.0 - gridPoints[1, :] < 1e-10\n",
      "print gridPoints[1, 25*len(arange(-0.4, 8, 0.1))]\n",
      "print gridPoints[:, 2104]\n",
      "print gridPoints[:, 2524]"
     ],
     "language": "python",
     "metadata": {},
     "outputs": [
      {
       "output_type": "stream",
       "stream": "stdout",
       "text": [
        "(3, 2604)\n",
        "[False False False ...,  True  True  True]\n",
        "4.4408920985e-15\n",
        "[ -1.11022302e-16   4.44089210e-15   1.00000000e+00]\n",
        "[ -1.11022302e-16   1.00000000e+00   1.00000000e+00]\n"
       ]
      }
     ],
     "prompt_number": 83
    },
    {
     "cell_type": "code",
     "collapsed": false,
     "input": [
      "print np.argwhere(np.all((np.abs(gridPoints[0, :]) < 1e-10, np.abs(gridPoints[1, :]) < 1e-10), axis=0))\n",
      "print np.argwhere(np.all((np.abs(gridPoints[0, :]) < 1e-10, np.abs(gridPoints[1, :]-1.0) < 1e-10), axis=0))\n",
      "print np.linalg.norm(projectedPoints[:2, 2104]-projectedPoints[:2, 2524])\n",
      "print np.linalg.norm(undistortedPoints[0, 2104, :2]-undistortedPoints[0, 2524, :2])\n",
      "print np.linalg.norm(undistortedPoints[0, 2104, :2]-undistortedPoints[0, 2524, :2])*np.linalg.norm(projectedPoints[:2, 2104]-projectedPoints[:2, 2524])"
     ],
     "language": "python",
     "metadata": {},
     "outputs": [
      {
       "output_type": "stream",
       "stream": "stdout",
       "text": [
        "[[2104]]\n",
        "[[2524]]\n",
        "3003.08669395\n",
        "0.478356658176\n",
        "1436.54651513\n"
       ]
      }
     ],
     "prompt_number": 92
    },
    {
     "cell_type": "code",
     "collapsed": false,
     "input": [
      "spriteIdx = 8\n",
      "xs, ys = np.array([trackedSprites[spriteIdx][DICT_BBOX_CENTERS][i] for i in np.sort(trackedSprites[spriteIdx][DICT_BBOX_CENTERS].keys())]).T\n",
      "## compute bbox areas\n",
      "areas = np.zeros((len(trackedSprites[spriteIdx][DICT_BBOXES]),))\n",
      "for key, idx in zip(np.sort(trackedSprites[spriteIdx][DICT_BBOXES].keys()), xrange(len(areas))) :\n",
      "    areas[idx] = np.linalg.norm(trackedSprites[spriteIdx][DICT_BBOXES][key][TL_IDX, :] - trackedSprites[spriteIdx][DICT_BBOXES][key][TR_IDX, :])\n",
      "    areas[idx] *= np.linalg.norm(trackedSprites[spriteIdx][DICT_BBOXES][key][TR_IDX, :] - trackedSprites[spriteIdx][DICT_BBOXES][key][BR_IDX, :])\n",
      "\n",
      "filteredAreas = spimg.filters.gaussian_filter1d(areas, 30, axis=0)\n",
      "\n",
      "smoothedPath = np.array([spimg.filters.gaussian_filter1d(xs, 15, axis=0), \n",
      "                         spimg.filters.gaussian_filter1d(ys, 15, axis=0)]).T#+filteredAreas*0.0005]).T\n",
      "\n",
      "# ## adjust ys to account for height of car\n",
      "# if True :\n",
      "#     interpolated = interpolate_polyline(np.array([xs, ys+filteredAreas*0.0009]).T, 20)\n",
      "    \n",
      "# interpolated = interpolate_polyline(interpolated, 1000)\n",
      "\n",
      "figure(); imshow(cv2.cvtColor(cv2.imread(dataPath+dataSet+\"median.png\"), cv2.COLOR_BGR2RGB))\n",
      "plot(xs, ys)\n",
      "# plot(interpolated[:, 0], interpolated[:, 1])\n",
      "plot(smoothedPath[:, 0], smoothedPath[:, 1])\n",
      "\n",
      "undistortedPoints = cv2.undistortPoints(smoothedPath.reshape((1, len(smoothedPath), 2)),#projectedPoints.T[:, 0:2].reshape((1, len(projectedPoints.T), 2)), \n",
      "                                        np.array([[1280, 0, 640], [0, 1280, 320], [0, 0, 1]]), undistortParameters,\n",
      "                                        P=np.array([[1280, 0, 640], [0, 1280, 320], [0, 0, 1]]))\n",
      "figure(); imshow(bgImage)\n",
      "# plot(interpolated[:, 0], interpolated[:, 1])\n",
      "plot(undistortedPoints[0, :, 0], undistortedPoints[0, :, 1], 'o-')"
     ],
     "language": "python",
     "metadata": {},
     "outputs": [
      {
       "metadata": {},
       "output_type": "pyout",
       "prompt_number": 133,
       "text": [
        "[<matplotlib.lines.Line2D at 0x7f234f4fe450>]"
       ]
      }
     ],
     "prompt_number": 133
    },
    {
     "cell_type": "code",
     "collapsed": false,
     "input": [
      "print undistortedPoints[0, :, :].shape"
     ],
     "language": "python",
     "metadata": {},
     "outputs": [
      {
       "output_type": "stream",
       "stream": "stdout",
       "text": [
        "(1305, 2)\n"
       ]
      }
     ],
     "prompt_number": 168
>>>>>>> fe1b005d2ec4d7eb0bc61da731ff4fa25b905e36
    },
    {
     "cell_type": "code",
     "collapsed": false,
     "input": [
      "preloadedSpritePatches = list(np.load(dataPath + dataSet + \"preloadedSpritePatches.npy\"))"
     ],
     "language": "python",
     "metadata": {},
     "outputs": [],
<<<<<<< HEAD
     "prompt_number": 7
=======
     "prompt_number": 13
>>>>>>> fe1b005d2ec4d7eb0bc61da731ff4fa25b905e36
    },
    {
     "cell_type": "code",
     "collapsed": false,
     "input": [
      "POINT_SELECTION_RADIUS = 30\n",
      "\n",
      "class ImageLabel(QtGui.QLabel) :\n",
      "    \n",
      "    def __init__(self, text=\"\", parent=None):\n",
      "        super(ImageLabel, self).__init__(text, parent)\n",
      "        \n",
      "        self.image = None\n",
      "        self.spritePatch = None\n",
      "        self.lines = None\n",
      "        self.selectedPoint = None\n",
      "        self.intersectionRectanglePoints = None\n",
      "        self.planeGrid = None\n",
      "        self.trajectory = None\n",
      "        self.bboxRectangle = None\n",
      "        \n",
      "    def setImage(self, image) : \n",
      "        self.image = image.copy()\n",
      "        self.setMinimumSize(self.image.size())\n",
      "        self.update()\n",
      "        \n",
      "    def setSpritePatch(self, spritePatch) : \n",
      "        self.spritePatch = spritePatch\n",
      "        self.update()\n",
      "        \n",
      "    def setSelectedPoint(self, selectedPoint) :\n",
      "        self.selectedPoint = selectedPoint\n",
      "        self.update()\n",
      "        \n",
      "    def setLines(self, lines) :\n",
      "        self.lines = lines\n",
      "        self.update()\n",
      "    \n",
      "    def setIntersectionRectangle(self, intersectionRectanglePoints):\n",
      "        self.intersectionRectanglePoints = intersectionRectanglePoints\n",
      "        self.update()\n",
      "        \n",
      "    def setPlaneGrid(self, planeGrid):\n",
      "        self.planeGrid = planeGrid\n",
      "        self.update()\n",
      "        \n",
      "    def setTrajectory(self, trajectory):\n",
      "        self.trajectory = trajectory\n",
      "        self.update()\n",
      "        \n",
      "    def setBBoxRectangle(self, bboxRectangle):\n",
      "        self.bboxRectangle = bboxRectangle\n",
      "        self.update()\n",
      "        \n",
      "    def paintEvent(self, event):\n",
      "        super(ImageLabel, self).paintEvent(event)\n",
      "        painter = QtGui.QPainter(self)\n",
      "        \n",
      "        if self.image != None :\n",
      "            upperLeft = ((self.width()-self.image.width())/2, (self.height()-self.image.height())/2)\n",
      "            \n",
      "            ## draw image\n",
      "            painter.drawImage(QtCore.QPoint(upperLeft[0], upperLeft[1]), self.image)\n",
      "            \n",
      "            ## draw sprite patch\n",
      "            if self.spritePatch != None :\n",
      "                reconstructedImg = np.ascontiguousarray(np.zeros((self.spritePatch['patch_size'][0], self.spritePatch['patch_size'][1], 4)), dtype=np.uint8)\n",
      "                reconstructedImg[self.spritePatch['visible_indices'][:, 0], self.spritePatch['visible_indices'][:, 1], :] = self.spritePatch['sprite_colors']\n",
      "                reconstructedQImage = QtGui.QImage(reconstructedImg.data, reconstructedImg.shape[1], reconstructedImg.shape[0], \n",
      "                                                   reconstructedImg.strides[0], QtGui.QImage.Format_ARGB32)\n",
      "\n",
      "                painter.drawImage(QtCore.QRect(self.spritePatch['top_left_pos'][1]+upperLeft[0], self.spritePatch['top_left_pos'][0]+upperLeft[1],\n",
      "                                   self.spritePatch['patch_size'][1], self.spritePatch['patch_size'][0]), reconstructedQImage)\n",
      "            \n",
      "            ## draw point grid to show depth\n",
      "            if self.planeGrid != None :\n",
      "                planeGrid = self.planeGrid + np.array([upperLeft[0], upperLeft[1]]).reshape((1, 2))\n",
      "                \n",
      "                painter.setPen(QtGui.QPen(QtGui.QColor.fromRgb(255, 255, 0, 128), 5, \n",
      "                              QtCore.Qt.SolidLine, QtCore.Qt.RoundCap, QtCore.Qt.RoundJoin))\n",
      "                \n",
      "                for point in planeGrid :\n",
      "                    painter.drawPoint(QtCore.QPointF(point[0], point[1]))\n",
      "            \n",
      "            ## draw lines\n",
      "            if self.lines != None :\n",
      "                lines = self.lines + repeat(np.array([[upperLeft[0], upperLeft[1]]]), 2, axis=0).flatten().reshape((1, 4))\n",
      "                for i in xrange(len(lines)) :\n",
      "                    \n",
      "                    ## draw line\n",
      "                    painter.setPen(QtGui.QPen(QtGui.QColor.fromRgb(0, 0, 255, 255), 2, \n",
      "                                  QtCore.Qt.SolidLine, QtCore.Qt.RoundCap, QtCore.Qt.RoundJoin))\n",
      "                    \n",
      "                    painter.drawLine(QtCore.QPointF(lines[i, 0], lines[i, 1]),\n",
      "                                     QtCore.QPointF(lines[i, 2], lines[i, 3]))\n",
      "                    \n",
      "                    ## draw points\n",
      "                    painter.setPen(QtGui.QPen(QtGui.QColor.fromRgb(0, 0, 255, 255), 7, \n",
      "                                  QtCore.Qt.SolidLine, QtCore.Qt.RoundCap, QtCore.Qt.RoundJoin))\n",
      "                    \n",
      "                    painter.drawPoint(QtCore.QPointF(lines[i, 0], lines[i, 1]))\n",
      "                    painter.drawPoint(QtCore.QPointF(lines[i, 2], lines[i, 3]))\n",
      "                    \n",
      "                    ## draw circle around points to know where to click to select\n",
      "                    painter.setPen(QtGui.QPen(QtGui.QColor.fromRgb(255, 255, 255, 127), 2, \n",
      "                                  QtCore.Qt.SolidLine, QtCore.Qt.RoundCap, QtCore.Qt.RoundJoin))\n",
      "                    \n",
      "                    painter.drawEllipse(QtCore.QPointF(lines[i, 0], lines[i, 1]), POINT_SELECTION_RADIUS, POINT_SELECTION_RADIUS)\n",
      "                    painter.drawEllipse(QtCore.QPointF(lines[i, 2], lines[i, 3]), POINT_SELECTION_RADIUS, POINT_SELECTION_RADIUS)\n",
      "                    \n",
      "            ## draw selected point        \n",
      "            if self.selectedPoint != None :\n",
      "                selectedPoint = self.selectedPoint + upperLeft\n",
      "                painter.setPen(QtGui.QPen(QtGui.QColor.fromRgb(255, 0, 0, 255), 11, \n",
      "                              QtCore.Qt.SolidLine, QtCore.Qt.RoundCap, QtCore.Qt.RoundJoin))\n",
      "                \n",
      "                painter.drawPoint(QtCore.QPointF(selectedPoint[0], selectedPoint[1]))\n",
      "                \n",
      "            ## draw intersection rectangle\n",
      "            if self.intersectionRectanglePoints != None :\n",
      "                intersectionRectanglePoints = self.intersectionRectanglePoints + np.array([upperLeft[0], upperLeft[1]]).reshape((1, 2))\n",
      "                \n",
      "                painter.setPen(QtGui.QPen(QtGui.QColor.fromRgb(255, 0, 255, 255), 3, \n",
      "                              QtCore.Qt.SolidLine, QtCore.Qt.RoundCap, QtCore.Qt.RoundJoin))\n",
      "                \n",
      "                for i, j in zip(intersectionRectanglePoints, intersectionRectanglePoints[np.roll(np.arange(len(intersectionRectanglePoints)), -1), :]) :\n",
      "                    painter.drawLine(QtCore.QPointF(i[0], i[1]),\n",
      "                                     QtCore.QPointF(j[0], j[1]))\n",
      "                    \n",
      "                            \n",
      "            ## draw trajectory\n",
      "            if self.trajectory != None :\n",
      "                trajectory = self.trajectory + np.array([upperLeft[0], upperLeft[1]]).reshape((1, 2))\n",
      "                \n",
      "                painter.setPen(QtGui.QPen(QtGui.QColor.fromRgb(0, 255, 0, 255), 2, \n",
      "                              QtCore.Qt.SolidLine, QtCore.Qt.RoundCap, QtCore.Qt.RoundJoin))\n",
      "                for i, j in zip(trajectory[0:-1, :], trajectory[1:, :]) :\n",
      "                    \n",
      "                    painter.drawLine(QtCore.QPointF(i[0], i[1]),\n",
      "                                     QtCore.QPointF(j[0], j[1]))\n",
      "                    \n",
      "            ## draw bbox rectangle\n",
      "            if self.bboxRectangle != None :\n",
      "                bboxRectangle = self.bboxRectangle + np.array([upperLeft[0], upperLeft[1]]).reshape((1, 2))\n",
      "                \n",
      "                painter.setPen(QtGui.QPen(QtGui.QColor.fromRgb(255, 255, 255, 255), 2, \n",
      "                              QtCore.Qt.SolidLine, QtCore.Qt.RoundCap, QtCore.Qt.RoundJoin))\n",
      "                for i, j in zip(bboxRectangle, bboxRectangle[np.roll(np.arange(len(bboxRectangle)), -1), :]) :\n",
      "                    \n",
      "                    painter.drawLine(QtCore.QPointF(i[0], i[1]),\n",
      "                                     QtCore.QPointF(j[0], j[1]))"
     ],
     "language": "python",
     "metadata": {},
     "outputs": [],
<<<<<<< HEAD
     "prompt_number": 8
=======
     "prompt_number": 37
>>>>>>> fe1b005d2ec4d7eb0bc61da731ff4fa25b905e36
    },
    {
     "cell_type": "code",
     "collapsed": false,
     "input": [
      "class LineGraph(QtGui.QLabel) :\n",
      "    \n",
      "    def __init__(self, text, parent=None):\n",
      "        super(LineGraph, self).__init__(text, parent)\n",
      "        \n",
      "        self.polyline = QtGui.QPolygonF()\n",
      "        self.currentFrame = 0\n",
      "        self.xPoints = 0\n",
      "        self.yPoints = 360\n",
      "        self.transform = QtGui.QMatrix()\n",
      "        \n",
      "    def paintEvent(self, event):\n",
      "        painter = QtGui.QPainter(self)\n",
      "        self.paintLinegraph(painter)\n",
      "        \n",
      "    def setYs(self, ys) :\n",
      "        self.xPoints = ys.shape[0]\n",
      "#         print ys.shape\n",
      "#         print ys\n",
      "        self.polyline = QtGui.QPolygonF()\n",
      "        if self.xPoints > 0 :\n",
      "            for i in xrange(0, self.xPoints) :\n",
      "                self.polyline.append(QtCore.QPointF(np.float(i), self.yPoints - ys[i]))\n",
      "            \n",
      "        self.updateTransform()\n",
      "        self.update()\n",
      "    \n",
      "    def updateTransform(self) :\n",
      "        if self.xPoints > 0 :\n",
      "            self.transform = QtGui.QMatrix()\n",
      "            self.transform = self.transform.scale(np.float(self.width())/np.float(self.xPoints), np.float(self.height())/np.float(self.yPoints))\n",
      "    \n",
      "    def setCurrentFrame(self, currentFrame):\n",
      "        self.currentFrame = currentFrame\n",
      "        self.update()\n",
      "        \n",
      "    def resizeEvent(self, event):\n",
      "        self.updateTransform()\n",
      "        \n",
      "    def paintLinegraph(self, painter):\n",
      "        if self.xPoints > 0 :\n",
      "            ## draw currentFrame line\n",
      "            painter.setPen(QtGui.QPen(QtGui.QColor.fromRgb(192, 192, 192), 1, QtCore.Qt.SolidLine, QtCore.Qt.RoundCap, QtCore.Qt.RoundJoin))\n",
      "            ratio = np.float(self.width())/np.float(self.xPoints)\n",
      "            painter.drawLine(QtCore.QPoint(np.float(self.currentFrame)*ratio, 0), QtCore.QPoint(np.float(self.currentFrame)*ratio, self.height()))\n",
      "            \n",
      "        if self.xPoints > 0 : #and self.numClasses > 0 :\n",
      "#             for p in xrange(0, self.numClasses):\n",
      "#                 ## paint the polyline for current class probabilities\n",
      "#                 painter.setPen(QtGui.QPen(self.classClrs[p], 1, QtCore.Qt.SolidLine, QtCore.Qt.RoundCap, QtCore.Qt.RoundJoin))\n",
      "#                 painter.drawPolyline(self.transform.map(self.polylines[p]))\n",
      "            painter.setPen(QtGui.QPen(QtGui.QColor.fromRgb(0, 0, 255), 1, QtCore.Qt.SolidLine, QtCore.Qt.RoundCap, QtCore.Qt.RoundJoin))\n",
      "            painter.drawPolyline(self.transform.map(self.polyline))\n",
      "        else :\n",
      "            painter.setPen(QtGui.QPen(QtGui.QColor.fromRgb(0, 0, 0), 1, QtCore.Qt.SolidLine, QtCore.Qt.RoundCap, QtCore.Qt.RoundJoin))\n",
      "            painter.drawText(self.rect(), QtCore.Qt.AlignCenter, self.text())\n",
      "            \n",
      "        ## draw axes\n",
      "        painter.setPen(QtGui.QPen(QtGui.QColor.fromRgb(0, 0, 0), 1, QtCore.Qt.SolidLine, QtCore.Qt.RoundCap, QtCore.Qt.RoundJoin))\n",
      "        ## x axis\n",
      "        painter.drawLine(QtCore.QPoint(0, self.height()-1), QtCore.QPoint(self.width()-1, self.height()-1))\n",
      "        ## y axis\n",
      "        painter.drawLine(QtCore.QPoint(0, 0), QtCore.QPoint(0, self.height()-1))"
     ],
     "language": "python",
     "metadata": {},
     "outputs": [],
<<<<<<< HEAD
     "prompt_number": 9
=======
     "prompt_number": 6
>>>>>>> fe1b005d2ec4d7eb0bc61da731ff4fa25b905e36
    },
    {
     "cell_type": "code",
     "collapsed": false,
     "input": [
      "class Window(QtGui.QWidget):\n",
      "    def __init__(self):\n",
      "        super(Window, self).__init__()\n",
      "        \n",
      "        ## parameters changed through UI\n",
      "        self.spriteIdx = 8\n",
      "        self.currentFrame = 0\n",
      "        self.trajectorySmoothness = 15\n",
      "        self.orientationsSmoothness = 60\n",
      "        \n",
      "        self.bboxSize = np.array([180, 60], dtype=float)\n",
      "        self.unitSquareSize = np.array([[500, 300]])\n",
      "        self.unitSquarePos = np.array([[4000, 2500]])\n",
      "        \n",
      "        self.trajectorySizeDelta = np.array([[0, 0]])\n",
      "        self.trajectoryPositionDelta = np.array([[0, 0]])\n",
      "        \n",
      "        self.distortionParameter = -0.18\n",
      "        \n",
      "        self.lines = np.array([[  281.3,   472. ,    66. ,   251.7],\n",
      "                               [  458.7,   329.7,   191.7,   224.3],\n",
      "                               [  401. ,   461. ,   905.5,   161. ],\n",
      "                               [ 1269.7,   595. ,  1113.7,   186. ]], dtype=float)\n",
      "        \n",
      "        self.defaultSettings = {'bboxWidthSpinBox':180,\n",
      "                                'bboxHeightSpinBox':60, \n",
      "                                'unitSquareWidthSpinBox':500,\n",
      "                                'unitSquareHeightSpinBox':300,\n",
      "                                'unitSquareXSpinBox':4000,\n",
      "                                'unitSquareYSpinBox':2500,\n",
      "                                'trajectorySmoothnessSpinBox':15,\n",
      "                                'orientationsSmoothnessSpinBox':60,\n",
      "                                'trajectoryWidthSpinBox':0,\n",
      "                                'trajectoryHeightSpinBox':0,\n",
      "                                'trajectoryXSpinBox':0,\n",
      "                                'trajectoryYSpinBox':0,\n",
      "                                'distortionParameterSpinBox':-0.18, \n",
      "                                'lines':np.array([[  281.3,   472. ,    66. ,   251.7],\n",
      "                                                  [  458.7,   329.7,   191.7,   224.3],\n",
      "                                                  [  401. ,   461. ,   905.5,   161. ],\n",
      "                                                  [ 1269.7,   595. ,  1113.7,   186. ]], dtype=float)}\n",
      "        \n",
      "        ## create all widgets and layout\n",
      "        self.createGUI()\n",
      "        \n",
      "        self.setWindowTitle(\"Adjust Ground Plane\")\n",
      "        self.resize(1700, 900)\n",
      "\n",
      "        ## manually adjusted parameters        \n",
      "        \n",
      "        self.topDownScaling = np.eye(2)*0.1\n",
      "        \n",
      "        self.cameraMatrix = np.array([[1280, 0, 640], [0, 1280, 320], [0, 0, 1]])\n",
      "        self.undistortParameters = np.array([self.distortionParameter, self.distortionParameter, 0.0, 0.0, 0.0])\n",
      "        \n",
      "        ## plane grid points\n",
      "        gridIdxs = meshgrid(arange(-8, 1.4, 0.1), arange(-8, 2.6, 0.2))\n",
      "        xs = np.ndarray.flatten(gridIdxs[0])*self.unitSquareSize[0, 0]+self.unitSquarePos[0, 0]\n",
      "        ys = np.ndarray.flatten(gridIdxs[1])*self.unitSquareSize[0, 1]+self.unitSquarePos[0, 1]\n",
      "        self.gridPoints = np.array([xs, ys, np.ones(len(xs))])\n",
      "        \n",
      "        ## data computed using the manually adjusted parameters\n",
      "        self.originalTrajectory = None\n",
      "        self.undistortedTrajectory = None\n",
      "        self.topDownTrajectory = None\n",
      "        self.orientations = None #np.zeros(len(self.topDownTrajectory))\n",
      "        \n",
      "        self.originalGridPoints = None\n",
      "        self.undistortedGridPoints  = None\n",
      "        \n",
      "        self.currentFrameTrajectoryPoint = np.array([[0, 0]], dtype=float)\n",
      "        \n",
      "        self.rectangleCorners = None\n",
      "        \n",
      "        self.homography = np.eye(3)\n",
      "        \n",
      "        self.originalBgImage = np.ascontiguousarray(Image.open(dataPath+dataSet+\"median.png\"))\n",
      "        self.undistortedBgImage = None\n",
      "        self.topDownBgImage = None\n",
      "        \n",
      "        ## UI bookeeping\n",
      "        self.movingPoint = None\n",
      "        self.prevMousePosition = QtCore.QPoint(0, 0)\n",
      "        \n",
      "        \n",
      "        ## update the data and views\n",
<<<<<<< HEAD
      "        self.updateTrajectory()\n",
      "        self.updateIntersectionRectangle()\n",
      "        self.updateData()\n",
=======
      "#         self.updateData(True, True, True, True, True, True, True)\n",
      "        \n",
      "#         self.updateData\n",
      "#         self.updateViewsBasedOnData()\n",
      "#         self.updateIntersectionRectangle()\n",
      "#         self.updateTrajectory()\n",
      "#         self.changeFrame(self.frameSpinBox.value())\n",
      "        self.updateTrajectory()\n",
      "        self.updateIntersectionRectangle()\n",
      "        self.updateData()\n",
      "#         self.updateOrientations()\n",
>>>>>>> fe1b005d2ec4d7eb0bc61da731ff4fa25b905e36
      "\n",
      "        self.loadSettings()\n",
      "        \n",
      "        self.setFocus()\n",
      "            \n",
      "    def updateData(self) :\n",
      "        ## update undistorted bg image\n",
      "        self.undistortedBgImage = np.ascontiguousarray(cv2.undistort(self.originalBgImage, self.cameraMatrix, self.undistortParameters))\n",
      "        \n",
      "        ## update undistorted trajectory\n",
      "        self.undistortedTrajectory = cv2.undistortPoints(self.originalTrajectory.reshape((1, len(self.originalTrajectory), 2)),\n",
      "                                                         self.cameraMatrix, self.undistortParameters, P=self.cameraMatrix)[0, :, :]\n",
      "        \n",
      "        ## update homography (update rectangleCorners in a different method called before this one and after lines have been changed)\n",
      "        self.homography = cv2.findHomography(np.array([[0, 0], [1, 0], [1, 1], [0, 1]], dtype=float)*self.unitSquareSize+self.unitSquarePos, \n",
      "                                             self.rectangleCorners[[1, 2, 3, 0], :])[0]\n",
      "        \n",
      "        \n",
      "        ## update grid points for undistorted view\n",
      "        self.undistortedGridPoints = np.dot(self.homography, self.gridPoints)\n",
      "        self.undistortedGridPoints /= self.undistortedGridPoints[-1, :]\n",
      "        self.undistortedGridPoints = self.undistortedGridPoints[0:2, :].T\n",
      "        \n",
      "        ## update grid points for original view\n",
      "        self.originalGridPoints = cv2.undistortPoints(self.undistortedGridPoints.reshape((1, len(self.undistortedGridPoints), 2)),\n",
      "                                                      self.cameraMatrix, -self.undistortParameters, P=self.cameraMatrix)[0, :, :]\n",
      "        \n",
      "        ## update top down background image\n",
      "        self.topDownBgImage = np.ascontiguousarray(cv2.resize(cv2.warpPerspective(self.undistortedBgImage, np.linalg.inv(self.homography), (5000, 3000)), \n",
      "                                                        (0, 0), fx=self.topDownScaling[0, 0], fy=self.topDownScaling[1, 1]))\n",
      "        \n",
      "        ## update top down trajectory\n",
      "        self.topDownTrajectory = np.dot(np.linalg.inv(self.homography), np.array([self.undistortedTrajectory[:, 0], \n",
      "                                                                                    self.undistortedTrajectory[:, 1], \n",
      "                                                                                    np.ones(len(self.undistortedTrajectory))]))\n",
      "        self.topDownTrajectory /= self.topDownTrajectory[-1, :]\n",
      "        self.topDownTrajectory = self.topDownTrajectory[0:2, :].T\n",
      "        \n",
      "        self.updateOrientations()\n",
      "        \n",
      "        ## update top down intersection rectangle\n",
      "        self.topDownRectangle = np.dot(np.linalg.inv(self.homography), \n",
      "                                       np.array([self.rectangleCorners[:, 0], self.rectangleCorners[:, 1], np.ones(len(self.rectangleCorners))]))\n",
      "        self.topDownRectangle /= self.topDownRectangle[-1, :]\n",
      "        self.topDownRectangle = self.topDownRectangle[0:2, :].T\n",
      "        \n",
      "        ## update top down bbox\n",
      "        self.currentFrameTrajectoryPoint = self.topDownTrajectory[self.currentFrame, :]\n",
      "        self.topDownBBox = np.array([-self.bboxSize/2, [-self.bboxSize[0]/2, self.bboxSize[1]/2], \n",
      "                                self.bboxSize/2, [self.bboxSize[0]/2, -self.bboxSize[1]/2]], dtype=float)\n",
      "\n",
      "        rotation = np.array([[np.cos(self.orientations[self.currentFrame]), -np.sin(self.orientations[self.currentFrame])], \n",
      "                             [np.sin(self.orientations[self.currentFrame]), np.cos(self.orientations[self.currentFrame])]])\n",
      "        self.topDownBBox = np.dot(self.topDownBBox, rotation)\n",
      "        \n",
      "        ## update undistorted bbox\n",
      "        self.undistortedBBox = np.dot(self.homography, np.array([self.topDownBBox[:, 0]+self.currentFrameTrajectoryPoint[0], \n",
      "                                                                 self.topDownBBox[:, 1]+self.currentFrameTrajectoryPoint[1], np.ones(len(self.topDownBBox))]))\n",
      "        self.undistortedBBox /= self.undistortedBBox[-1, :]\n",
      "        self.undistortedBBox = self.undistortedBBox[0:2, :].T\n",
      "        \n",
      "        ## update original bbox\n",
      "        self.originalBBox = cv2.undistortPoints(self.undistortedBBox.reshape((1, len(self.undistortedBBox), 2)),\n",
      "                                                self.cameraMatrix, -self.undistortParameters, P=self.cameraMatrix)[0, :, :]\n",
      "        \n",
      "        self.updateOriginalView()\n",
      "        self.updateTopDownView()\n",
      "        \n",
      "         \n",
      "    def mousePressEvent(self, event):\n",
      "        sizeDiff = (self.originalImageLabel.size() - self.originalImageLabel.image.size())/2\n",
      "        mousePos = event.pos() - self.originalImageLabel.pos() - QtCore.QPoint(sizeDiff.width(), sizeDiff.height())\n",
      "        mousePos = np.array([mousePos.x(), mousePos.y()])\n",
      "        \n",
      "        for l in xrange(len(self.lines)) :\n",
      "            if np.sqrt(np.sum((self.lines[l, 0:2]-mousePos)**2)) < POINT_SELECTION_RADIUS :\n",
      "                self.movingPoint = l*2\n",
      "            \n",
      "            if np.sqrt(np.sum((self.lines[l, 2:]-mousePos)**2)) < POINT_SELECTION_RADIUS :\n",
      "                self.movingPoint = l*2+1\n",
      "                \n",
      "        self.prevMousePosition = event.pos()            \n",
      "        \n",
      "    def mouseReleaseEvent(self, event) :\n",
      "        self.movingPoint = None\n",
      "        self.prevMousePosition = QtCore.QPoint(0, 0)\n",
      "        \n",
      "        self.originalImageLabel.setSelectedPoint(None)\n",
      "        \n",
      "    def mouseMoveEvent(self, event) :\n",
      "        if self.movingPoint != None :\n",
      "            sizeDiff = (self.originalImageLabel.size() - self.originalImageLabel.image.size())/2\n",
      "            mousePos = event.pos() - self.originalImageLabel.pos() - QtCore.QPoint(sizeDiff.width(), sizeDiff.height())\n",
      "            if (event.x() >= 0 and event.y() >= 0 and \n",
      "                    event.x() < self.originalImageLabel.width() and \n",
      "                    event.y() < self.originalImageLabel.height()) :\n",
      "                \n",
      "                deltaMove = event.pos() - self.prevMousePosition\n",
      "                \n",
      "                pointRow = int(np.floor(self.movingPoint/2.0))\n",
      "                pointCol = np.mod(self.movingPoint, 2)*2\n",
      "                \n",
      "                self.lines[pointRow, pointCol] += deltaMove.x()\n",
      "                self.lines[pointRow, pointCol+1] += deltaMove.y()\n",
      "                \n",
      "                self.originalImageLabel.setSelectedPoint(self.lines[pointRow, pointCol:pointCol+2])\n",
      "                \n",
      "                self.updateIntersectionRectangle()\n",
      "                self.updateData()\n",
      "#                 self.updateData(True, True, True, True, True, False, True)\n",
      "        \n",
      "            self.prevMousePosition = event.pos()\n",
      "    \n",
      "    def updateIntersectionRectangle(self) :\n",
      "        intersectionPoints = []\n",
      "        for line1 in self.lines[0:2, :] :\n",
      "            for line2 in self.lines[2:, :] :\n",
      "                intersectionPoints.append(line2lineIntersection(line1, line2))\n",
      "                \n",
      "        self.rectangleCorners = np.array(intersectionPoints)[[0, 2, 3, 1], :]\n",
      "        \n",
      "                \n",
      "    def updateTrajectory(self) :\n",
      "        xs, ys = np.array([trackedSprites[self.spriteIdx][DICT_BBOX_CENTERS][i] for i in np.sort(trackedSprites[self.spriteIdx][DICT_BBOX_CENTERS].keys())]).T\n",
      "\n",
      "        smoothedPath = np.array([xs, ys]).T\n",
      "        \n",
      "        ## find topLeft of path bbox\n",
      "        trajTopLeft = np.array([[np.min(smoothedPath[:, 0]), np.min(smoothedPath[:, 1])]])\n",
      "        trajSize = np.array([[np.max(smoothedPath[:, 0]), np.max(smoothedPath[:, 1])]]) - trajTopLeft\n",
      "        ## move to origin\n",
      "        smoothedPath = smoothedPath - trajTopLeft\n",
      "        ## resize\n",
      "        sizeRatio = (trajSize+self.trajectorySizeDelta)/trajSize\n",
      "        smoothedPath = np.dot(smoothedPath, np.array([[sizeRatio[0, 0], 0], [0, sizeRatio[0, 1]]]))\n",
      "        ## translate by delta\n",
      "        smoothedPath = smoothedPath + self.trajectoryPositionDelta\n",
      "        ## move back to original top left\n",
      "        smoothedPath = smoothedPath + trajTopLeft\n",
      "        \n",
      "        ## now do the filtering\n",
      "        smoothedPath = np.array([spimg.filters.gaussian_filter1d(smoothedPath[:, 0], self.trajectorySmoothness, axis=0), \n",
      "                                 spimg.filters.gaussian_filter1d(smoothedPath[:, 1], self.trajectorySmoothness, axis=0)]).T#+filteredAreas*0.0005]).T\n",
      "        \n",
      "        ## reinitialize the trajectory\n",
      "        self.originalTrajectory = smoothedPath\n",
      "            \n",
      "        \n",
      "    def updateOrientations(self) :\n",
      "        if self.topDownTrajectory != None :\n",
      "            self.orientations = np.zeros(len(self.topDownTrajectory))\n",
      "            \n",
      "            tmp = self.topDownTrajectory[1:, :] - self.topDownTrajectory[0:-1, :]\n",
      "            tmp /= np.linalg.norm(tmp, axis=-1).reshape((len(tmp), 1))\n",
      "            self.orientations[:-1] = np.arctan2(tmp[:, 0], tmp[:, 1])\n",
      "\n",
      "            ## deal with last one\n",
      "            tmp = -(self.topDownTrajectory[-1, :] - self.topDownTrajectory[-2, :])\n",
      "            tmp /= np.linalg.norm(tmp, axis=-1)\n",
      "            self.orientations[-1] = np.arctan2(tmp[0], tmp[1])\n",
      "\n",
      "            self.orientations = spimg.filters.gaussian_filter1d(np.pi/2 +self.orientations, self.orientationsSmoothness, axis=0)\n",
      "\n",
      "            self.orientationsGraph.setYs(np.mod(360.0+self.orientations*180.0/np.pi, 360.0))\n",
      "        \n",
      "    def updateOriginalView(self) :\n",
      "        \n",
      "        ## show the UI needed to adjust the straight lines and intersection rectangle\n",
      "        if self.doShowUndistortedCheckBox.isChecked() :\n",
      "            ## don't show the sprite patch\n",
      "            self.originalImageLabel.setSpritePatch(None)\n",
      "            \n",
      "            ## show the undistorted bg image\n",
      "            if self.undistortedBgImage != None :\n",
      "                qim = QtGui.QImage(self.undistortedBgImage.data, self.undistortedBgImage.shape[1], \n",
      "                                   self.undistortedBgImage.shape[0], self.undistortedBgImage.strides[0], QtGui.QImage.Format_RGB888);\n",
      "                self.originalImageLabel.setImage(qim)\n",
      "            \n",
      "            ## show the intersection rectangle\n",
      "            if self.rectangleCorners != None :\n",
      "                self.originalImageLabel.setIntersectionRectangle(self.rectangleCorners)\n",
      "\n",
      "            ## show the undistorted trajectory\n",
      "            if self.undistortedTrajectory != None :\n",
      "                self.originalImageLabel.setTrajectory(self.undistortedTrajectory)\n",
      "            \n",
      "            ## show the undistorted grid\n",
      "            if self.undistortedGridPoints != None :\n",
      "                self.originalImageLabel.setPlaneGrid(self.undistortedGridPoints)\n",
      "                \n",
      "            ## show the undistorted bbox\n",
      "            if self.undistortedBBox != None :\n",
      "                self.originalImageLabel.setBBoxRectangle(self.undistortedBBox)\n",
      "            \n",
      "            ## show the user defined straight lines\n",
      "            self.originalImageLabel.setLines(self.lines)\n",
      "            \n",
      "        ## show the ultimate output from all of this \n",
      "        else :\n",
      "            ## get the sprite patch and give it to original image label\n",
      "            self.originalImageLabel.setSpritePatch(preloadedSpritePatches[self.spriteIdx][self.currentFrame])\n",
      "            \n",
      "            ## show the distorted bg image\n",
      "            qim = QtGui.QImage(self.originalBgImage.data, self.originalBgImage.shape[1], \n",
      "                               self.originalBgImage.shape[0], self.originalBgImage.strides[0], QtGui.QImage.Format_RGB888);\n",
      "            self.originalImageLabel.setImage(qim)\n",
      "            \n",
      "            ## do not show the intersection rectangle\n",
      "            self.originalImageLabel.setIntersectionRectangle(None)\n",
      "\n",
      "            ## show the distorted trajectory\n",
      "            if self.originalTrajectory != None :\n",
      "                self.originalImageLabel.setTrajectory(self.originalTrajectory)\n",
      "                \n",
      "            ## show the grid in the original (distorted) space\n",
      "            if self.originalGridPoints != None :\n",
      "                self.originalImageLabel.setPlaneGrid(self.originalGridPoints)\n",
      "            \n",
      "            ## show the distorted bbox\n",
      "            if self.originalBBox != None :\n",
      "                self.originalImageLabel.setBBoxRectangle(self.originalBBox)\n",
      "            \n",
      "            ## do not show the user defined straight lines\n",
      "            self.originalImageLabel.setLines(None)\n",
      "            \n",
      "        \n",
      "    def updateTopDownView(self) :\n",
      "        \n",
      "        ## show the top down bg image\n",
      "        if self.topDownBgImage != None :\n",
      "            qim = QtGui.QImage(self.topDownBgImage.data, self.topDownBgImage.shape[1], \n",
      "                               self.topDownBgImage.shape[0], self.topDownBgImage.strides[0], QtGui.QImage.Format_RGB888);\n",
      "            self.topDownImageLabel.setImage(qim)\n",
      "        \n",
      "        ## show top down trajectory\n",
      "        if self.topDownTrajectory != None :\n",
      "            self.topDownImageLabel.setTrajectory(np.dot(self.topDownTrajectory, self.topDownScaling))\n",
      "        \n",
      "        ## get morphed intersection rectangle\n",
      "        if self.topDownRectangle != None :\n",
      "            self.topDownImageLabel.setIntersectionRectangle(np.dot(self.topDownRectangle, self.topDownScaling))\n",
      "            \n",
      "        ## show the top down bbox\n",
      "        if self.topDownBBox != None :\n",
      "            self.topDownImageLabel.setBBoxRectangle(np.dot(self.topDownBBox + self.currentFrameTrajectoryPoint, self.topDownScaling))\n",
      "        \n",
      "        \n",
      "    def changeFrame(self, idx) :\n",
      "        self.currentFrame = idx\n",
      "        self.orientationsGraph.setCurrentFrame(self.currentFrame)\n",
      "        \n",
      "        self.updateData()\n",
      "        \n",
      "    def changeBBox(self) :\n",
      "        self.bboxSize = np.array([self.bboxWidthSpinBox.value(), self.bboxHeightSpinBox.value()], dtype=float)\n",
      "        \n",
      "        self.updateData()\n",
      "        \n",
      "    def changeUnitSquare(self) :\n",
      "        self.unitSquareSize = np.array([[self.unitSquareWidthSpinBox.value(), self.unitSquareHeightSpinBox.value()]])\n",
      "        self.unitSquarePos = np.array([[self.unitSquareXSpinBox.value(), self.unitSquareYSpinBox.value()]])\n",
      "        \n",
      "        self.updateIntersectionRectangle()\n",
      "        self.updateData()\n",
      "        \n",
      "    def changeTrajectoryDeltas(self) :\n",
      "        self.trajectorySizeDelta = np.array([[self.trajectoryWidthSpinBox.value(), self.trajectoryHeightSpinBox.value()]])\n",
      "        self.trajectoryPositionDelta = np.array([[self.trajectoryXSpinBox.value(), self.trajectoryYSpinBox.value()]])\n",
      "        \n",
      "        self.updateTrajectory()\n",
      "        self.updateData()\n",
      "        \n",
      "    def changeSprite(self, idx) :\n",
      "        self.spriteIdx = idx\n",
      "        \n",
      "        ## set slider limits\n",
      "        self.frameSpinBox.setRange(0, len(trackedSprites[self.spriteIdx][DICT_BBOXES])-1)\n",
      "        self.frameSlider.setMaximum(len(trackedSprites[self.spriteIdx][DICT_BBOXES])-1)\n",
      "        \n",
      "\n",
      "        self.loadSettings()\n",
      "        self.updateTrajectory()\n",
      "        self.updateData()\n",
      "        \n",
      "    def changeTrajectoryFiltering(self) :\n",
      "        self.trajectorySmoothness = self.trajectorySmoothnessSpinBox.value()\n",
      "        self.orientationsSmoothness = self.orientationsSmoothnessSpinBox.value()\n",
      "        \n",
      "        self.updateTrajectory()\n",
      "        self.updateData()\n",
      "        \n",
      "    def changeDistortionParameter(self) :\n",
      "        self.distortionParameter = self.distortionParameterSpinBox.value()\n",
      "        self.undistortParameters = np.array([self.distortionParameter, self.distortionParameter, 0.0, 0.0, 0.0])\n",
      "        \n",
      "        self.updateData()\n",
      "        \n",
      "    def doShowUndistortedChanged(self) :\n",
      "        self.updateOriginalView()\n",
      "        \n",
      "    def saveFootprints(self) :\n",
<<<<<<< HEAD
      "        self.saveSettings()\n",
      "        \n",
      "        spriteName = trackedSprites[self.spriteIdx][DICT_SEQUENCE_NAME]\n",
=======
      "        spriteName = trackedSprites[self.spriteIdx][DICT_SPRITE_NAME]\n",
>>>>>>> fe1b005d2ec4d7eb0bc61da731ff4fa25b905e36
      "        sprite = np.load(dataPath+dataSet+\"sprite-{0:04d}-\".format(self.spriteIdx)+spriteName+\".npy\").item(0)\n",
      "        sortedKeys = np.sort(sprite[DICT_BBOXES].keys())\n",
      "        sprite[DICT_FOOTPRINTS] = {}\n",
      "\n",
      "        for i in arange(len(sortedKeys)) :\n",
      "\n",
      "            ## get top down bbox\n",
      "            currentFrameTrajectoryPoint = self.topDownTrajectory[i, :]\n",
      "            topDownBBox = np.array([-self.bboxSize/2, [-self.bboxSize[0]/2, self.bboxSize[1]/2], \n",
      "                                    self.bboxSize/2, [self.bboxSize[0]/2, -self.bboxSize[1]/2]], dtype=float)\n",
      "\n",
      "            rotation = np.array([[np.cos(self.orientations[i]), -np.sin(self.orientations[i])], \n",
      "                                 [np.sin(self.orientations[i]), np.cos(self.orientations[i])]])\n",
      "            topDownBBox = np.dot(topDownBBox, rotation)\n",
      "\n",
      "            ## get undistorted bbox\n",
      "            undistortedBBox = np.dot(self.homography, np.array([topDownBBox[:, 0]+currentFrameTrajectoryPoint[0], \n",
      "                                                                topDownBBox[:, 1]+currentFrameTrajectoryPoint[1], np.ones(len(topDownBBox))]))\n",
      "            undistortedBBox /= undistortedBBox[-1, :]\n",
      "            undistortedBBox = undistortedBBox[0:2, :].T\n",
      "\n",
      "            ## get original bbox (i.e. undistort)\n",
      "            originalBBox = cv2.undistortPoints(undistortedBBox.reshape((1, len(undistortedBBox), 2)),\n",
      "                                               self.cameraMatrix, -self.undistortParameters, P=self.cameraMatrix)[0, :, :]\n",
      "\n",
      "\n",
      "            sprite[DICT_FOOTPRINTS][sortedKeys[i]] = originalBBox\n",
      "        np.save(dataPath+dataSet+\"sprite-{0:04d}-\".format(self.spriteIdx)+spriteName+\".npy\", sprite)\n",
      "\n",
      "        print \"Saved footprints in\", dataPath+dataSet+\"sprite-{0:04d}-\".format(self.spriteIdx)+spriteName+\".npy\"\n",
      "        \n",
      "    def saveSettings(self) :\n",
      "        \n",
      "        settings = {DICT_SPRITE_IDX:self.spriteIdx,\n",
<<<<<<< HEAD
      "                    DICT_SEQUENCE_NAME:trackedSprites[self.spriteIdx][DICT_SEQUENCE_NAME],\n",
=======
      "                    DICT_SPRITE_NAME:trackedSprites[self.spriteIdx][DICT_SPRITE_NAME],\n",
>>>>>>> fe1b005d2ec4d7eb0bc61da731ff4fa25b905e36
      "                    'bboxWidthSpinBox':self.bboxWidthSpinBox.value(),\n",
      "                    'bboxHeightSpinBox':self.bboxHeightSpinBox.value(), \n",
      "                    'unitSquareWidthSpinBox':self.unitSquareWidthSpinBox.value(),\n",
      "                    'unitSquareHeightSpinBox':self.unitSquareHeightSpinBox.value(),\n",
      "                    'unitSquareXSpinBox':self.unitSquareXSpinBox.value(),\n",
      "                    'unitSquareYSpinBox':self.unitSquareYSpinBox.value(),\n",
      "                    'trajectorySmoothnessSpinBox':self.trajectorySmoothnessSpinBox.value(),\n",
      "                    'orientationsSmoothnessSpinBox':self.orientationsSmoothnessSpinBox.value(),\n",
      "                    'trajectoryWidthSpinBox':self.trajectoryWidthSpinBox.value(),\n",
      "                    'trajectoryHeightSpinBox':self.trajectoryHeightSpinBox.value(),\n",
      "                    'trajectoryXSpinBox':self.trajectoryXSpinBox.value(),\n",
      "                    'trajectoryYSpinBox':self.trajectoryYSpinBox.value(),\n",
      "                    'distortionParameterSpinBox':self.distortionParameterSpinBox.value(), \n",
      "                    'lines':self.lines}\n",
      "        \n",
<<<<<<< HEAD
      "        np.save(dataPath+dataSet+trackedSprites[self.spriteIdx][DICT_SEQUENCE_NAME]+\"-ground-plane-settings.npy\", settings)\n",
      "        \n",
      "        print \"Saved\", dataPath+dataSet+trackedSprites[self.spriteIdx][DICT_SEQUENCE_NAME]+\"-ground-plane-settings.npy\"\n",
      "        \n",
      "    def loadSettings(self) :\n",
      "        \n",
      "        if os.path.isfile(dataPath+dataSet+trackedSprites[self.spriteIdx][DICT_SEQUENCE_NAME]+\"-ground-plane-settings.npy\") :\n",
      "            settings = np.load(dataPath+dataSet+trackedSprites[self.spriteIdx][DICT_SEQUENCE_NAME]+\"-ground-plane-settings.npy\").item(0)\n",
=======
      "        np.save(dataPath+dataSet+trackedSprites[self.spriteIdx][DICT_SPRITE_NAME]+\"-ground-plane-settings.npy\", settings)\n",
      "        \n",
      "        print \"Saved\", dataPath+dataSet+trackedSprites[self.spriteIdx][DICT_SPRITE_NAME]+\"-ground-plane-settings.npy\"\n",
      "        \n",
      "    def loadSettings(self) :\n",
      "        \n",
      "        if os.path.isfile(dataPath+dataSet+trackedSprites[self.spriteIdx][DICT_SPRITE_NAME]+\"-ground-plane-settings.npy\") :\n",
      "            settings = np.load(dataPath+dataSet+trackedSprites[self.spriteIdx][DICT_SPRITE_NAME]+\"-ground-plane-settings.npy\").item(0)\n",
>>>>>>> fe1b005d2ec4d7eb0bc61da731ff4fa25b905e36
      "            \n",
      "            self.bboxWidthSpinBox.setValue(settings['bboxWidthSpinBox'])\n",
      "            self.bboxHeightSpinBox.setValue(settings['bboxHeightSpinBox'])\n",
      "            self.unitSquareWidthSpinBox.setValue(settings['unitSquareWidthSpinBox'])\n",
      "            self.unitSquareHeightSpinBox.setValue(settings['unitSquareHeightSpinBox'])\n",
      "            self.unitSquareXSpinBox.setValue(settings['unitSquareXSpinBox'])\n",
      "            self.unitSquareYSpinBox.setValue(settings['unitSquareYSpinBox'])\n",
      "            self.trajectorySmoothnessSpinBox.setValue(settings['trajectorySmoothnessSpinBox'])\n",
      "            self.orientationsSmoothnessSpinBox.setValue(settings['orientationsSmoothnessSpinBox'])\n",
      "            self.trajectoryWidthSpinBox.setValue(settings['trajectoryWidthSpinBox'])\n",
      "            self.trajectoryHeightSpinBox.setValue(settings['trajectoryHeightSpinBox'])\n",
      "            self.trajectoryXSpinBox.setValue(settings['trajectoryXSpinBox'])\n",
      "            self.trajectoryYSpinBox.setValue(settings['trajectoryYSpinBox'])\n",
      "            self.distortionParameterSpinBox.setValue(settings['distortionParameterSpinBox'])\n",
      "            self.lines = settings['lines']\n",
      "            \n",
<<<<<<< HEAD
      "            print \"Loaded\", dataPath+dataSet+trackedSprites[self.spriteIdx][DICT_SEQUENCE_NAME]+\"-ground-plane-settings.npy\"\n",
=======
      "            print \"Loaded\", dataPath+dataSet+trackedSprites[self.spriteIdx][DICT_SPRITE_NAME]+\"-ground-plane-settings.npy\"\n",
>>>>>>> fe1b005d2ec4d7eb0bc61da731ff4fa25b905e36
      "        else :\n",
      "            self.bboxWidthSpinBox.setValue(self.defaultSettings['bboxWidthSpinBox'])\n",
      "            self.bboxHeightSpinBox.setValue(self.defaultSettings['bboxHeightSpinBox'])\n",
      "            self.unitSquareWidthSpinBox.setValue(self.defaultSettings['unitSquareWidthSpinBox'])\n",
      "            self.unitSquareHeightSpinBox.setValue(self.defaultSettings['unitSquareHeightSpinBox'])\n",
      "            self.unitSquareXSpinBox.setValue(self.defaultSettings['unitSquareXSpinBox'])\n",
      "            self.unitSquareYSpinBox.setValue(self.defaultSettings['unitSquareYSpinBox'])\n",
      "            self.trajectorySmoothnessSpinBox.setValue(self.defaultSettings['trajectorySmoothnessSpinBox'])\n",
      "            self.orientationsSmoothnessSpinBox.setValue(self.defaultSettings['orientationsSmoothnessSpinBox'])\n",
      "            self.trajectoryWidthSpinBox.setValue(self.defaultSettings['trajectoryWidthSpinBox'])\n",
      "            self.trajectoryHeightSpinBox.setValue(self.defaultSettings['trajectoryHeightSpinBox'])\n",
      "            self.trajectoryXSpinBox.setValue(self.defaultSettings['trajectoryXSpinBox'])\n",
      "            self.trajectoryYSpinBox.setValue(self.defaultSettings['trajectoryYSpinBox'])\n",
      "            self.distortionParameterSpinBox.setValue(self.defaultSettings['distortionParameterSpinBox'])\n",
      "            self.lines = self.defaultSettings['lines']\n",
      "            \n",
<<<<<<< HEAD
      "            print \"Loaded defaults for\", trackedSprites[self.spriteIdx][DICT_SEQUENCE_NAME]\n",
=======
      "            print \"Loaded defaults for\", trackedSprites[self.spriteIdx][DICT_SPRITE_NAME]\n",
>>>>>>> fe1b005d2ec4d7eb0bc61da731ff4fa25b905e36
      "        \n",
      "    def createGUI(self) :\n",
      "        \n",
      "        ## WIDGETS ##\n",
      "        \n",
      "        self.originalImageLabel = ImageLabel()\n",
      "        self.originalImageLabel.setSizePolicy(QtGui.QSizePolicy.MinimumExpanding, QtGui.QSizePolicy.MinimumExpanding)\n",
      "        self.originalImageLabel.setAlignment(QtCore.Qt.AlignCenter | QtCore.Qt.AlignHCenter)\n",
      "        \n",
      "        self.originalImageInfo = QtGui.QLabel(\"Original\")\n",
      "        self.originalImageInfo.setAlignment(QtCore.Qt.AlignCenter | QtCore.Qt.AlignHCenter)\n",
      "        \n",
      "        self.topDownImageLabel = ImageLabel()\n",
      "        self.topDownImageLabel.setSizePolicy(QtGui.QSizePolicy.MinimumExpanding, QtGui.QSizePolicy.MinimumExpanding)\n",
      "        self.topDownImageLabel.setAlignment(QtCore.Qt.AlignCenter | QtCore.Qt.AlignHCenter)\n",
      "        \n",
      "        self.topDownImageInfo = QtGui.QLabel(\"Top Down\")\n",
      "        self.topDownImageInfo.setAlignment(QtCore.Qt.AlignCenter | QtCore.Qt.AlignHCenter)\n",
      "        \n",
      "        \n",
      "        self.frameSpinBox = QtGui.QSpinBox()\n",
      "        self.frameSpinBox.setRange(0, len(trackedSprites[self.spriteIdx][DICT_BBOXES])-1)\n",
      "        self.frameSpinBox.setSingleStep(1)\n",
      "        \n",
      "        self.frameSlider = QtGui.QSlider(QtCore.Qt.Horizontal)\n",
      "        self.frameSlider.setSizePolicy(QtGui.QSizePolicy.MinimumExpanding, QtGui.QSizePolicy.Minimum)\n",
      "        self.frameSlider.setMinimum(0)\n",
      "        self.frameSlider.setMaximum(len(trackedSprites[self.spriteIdx][DICT_BBOXES])-1)\n",
      "        \n",
      "        \n",
      "        controlsGroup = QtGui.QGroupBox(\"Controls\")\n",
      "        controlsGroup.setStyleSheet(\"QGroupBox { margin: 5px; border: 2px groove gray; border-radius: 3px; } \"+\n",
      "                                             \"QGroupBox::title {left: 15px; top: -7px; font: bold;}\")\n",
      "        controlsGroup.setSizePolicy(QtGui.QSizePolicy.Minimum, QtGui.QSizePolicy.Minimum)\n",
      "        \n",
      "        self.bboxWidthSpinBox = QtGui.QSpinBox()\n",
      "        self.bboxWidthSpinBox.setRange(1, 500)\n",
      "        self.bboxWidthSpinBox.setValue(self.bboxSize[0])\n",
      "        \n",
      "        self.bboxHeightSpinBox = QtGui.QSpinBox()\n",
      "        self.bboxHeightSpinBox.setRange(1, 500)\n",
      "        self.bboxHeightSpinBox.setValue(self.bboxSize[1])\n",
      "        \n",
      "        unitSquareSizeLabel = QtGui.QLabel(\"Unit square size (w, h)\")\n",
      "        unitSquareSizeLabel.setToolTip(\"Set the size of the square to map to the intersection rectangle\")\n",
      "        self.unitSquareWidthSpinBox = QtGui.QSpinBox()\n",
      "        self.unitSquareWidthSpinBox.setRange(1, 2000)\n",
      "        self.unitSquareWidthSpinBox.setSingleStep(10)\n",
      "        self.unitSquareWidthSpinBox.setValue(self.unitSquareSize[0, 0])\n",
      "        \n",
      "        self.unitSquareHeightSpinBox = QtGui.QSpinBox()\n",
      "        self.unitSquareHeightSpinBox.setRange(1, 1500)\n",
      "        self.unitSquareHeightSpinBox.setSingleStep(10)\n",
      "        self.unitSquareHeightSpinBox.setValue(self.unitSquareSize[0, 1])\n",
      "        \n",
      "        unitSquarePosLabel = QtGui.QLabel(\"Unit square position (x, y)\")\n",
      "        unitSquarePosLabel.setToolTip(\"Set the position of the unit square in the top down morphed space\")\n",
      "        self.unitSquareXSpinBox = QtGui.QSpinBox()\n",
      "        self.unitSquareXSpinBox.setRange(1, 10000)\n",
      "        self.unitSquareXSpinBox.setValue(self.unitSquarePos[0, 0])\n",
      "        \n",
      "        self.unitSquareYSpinBox = QtGui.QSpinBox()\n",
      "        self.unitSquareYSpinBox.setRange(1, 5000)\n",
      "        self.unitSquareYSpinBox.setValue(self.unitSquarePos[0, 1])\n",
      "        \n",
      "        \n",
      "        self.trajectoryWidthSpinBox = QtGui.QSpinBox()\n",
      "        self.trajectoryWidthSpinBox.setRange(-500, 500)\n",
      "        self.trajectoryWidthSpinBox.setValue(self.trajectorySizeDelta[0, 0])\n",
      "        \n",
      "        self.trajectoryHeightSpinBox = QtGui.QSpinBox()\n",
      "        self.trajectoryHeightSpinBox.setRange(-500, 500)\n",
      "        self.trajectoryHeightSpinBox.setValue(self.trajectorySizeDelta[0, 1])\n",
      "        \n",
      "        self.trajectoryXSpinBox = QtGui.QSpinBox()\n",
      "        self.trajectoryXSpinBox.setRange(-500, 500)\n",
      "        self.trajectoryXSpinBox.setValue(self.trajectoryPositionDelta[0, 0])\n",
      "        \n",
      "        self.trajectoryYSpinBox = QtGui.QSpinBox()\n",
      "        self.trajectoryYSpinBox.setRange(-500, 500)\n",
      "        self.trajectoryYSpinBox.setValue(self.trajectoryPositionDelta[0, 1])\n",
      "        \n",
      "        \n",
      "        self.spriteIdxSpinBox = QtGui.QSpinBox()\n",
      "        self.spriteIdxSpinBox.setRange(0, len(trackedSprites)-1)\n",
      "        self.spriteIdxSpinBox.setValue(self.spriteIdx)\n",
      "        \n",
      "        \n",
      "        self.trajectorySmoothnessSpinBox = QtGui.QSpinBox()\n",
      "        self.trajectorySmoothnessSpinBox.setRange(1, 200)\n",
      "        self.trajectorySmoothnessSpinBox.setValue(self.trajectorySmoothness)\n",
      "        \n",
      "        self.orientationsSmoothnessSpinBox = QtGui.QSpinBox()\n",
      "        self.orientationsSmoothnessSpinBox.setRange(1, 200)\n",
      "        self.orientationsSmoothnessSpinBox.setValue(self.orientationsSmoothness)\n",
      "        \n",
      "        \n",
      "        self.orientationsGraph = LineGraph(\"Trajectory orientations\")\n",
      "        self.orientationsGraph.setMinimumHeight(150)\n",
      "        self.orientationsGraph.setAlignment(QtCore.Qt.AlignCenter)\n",
      "        self.orientationsGraph.setSizePolicy(QtGui.QSizePolicy.MinimumExpanding, QtGui.QSizePolicy.Minimum)\n",
      "        \n",
      "        \n",
      "        self.distortionParameterSpinBox = QtGui.QDoubleSpinBox()\n",
      "        self.distortionParameterSpinBox.setRange(-1.0, 1.0)\n",
      "        self.distortionParameterSpinBox.setSingleStep(0.01)\n",
      "        self.distortionParameterSpinBox.setValue(self.distortionParameter)\n",
      "        \n",
      "        \n",
      "        self.doShowUndistortedCheckBox = QtGui.QCheckBox(\"\")\n",
      "        self.doShowUndistortedCheckBox.setChecked(True)\n",
      "        \n",
      "        \n",
      "        self.saveSettingsForSpriteButton = QtGui.QPushButton(\"&Save settings\")\n",
      "        \n",
      "        \n",
      "        self.saveFootprintsForSpriteButton = QtGui.QPushButton(\"Save &footprints\")\n",
      "        \n",
      "        \n",
      "        ## SIGNALS ##\n",
      "        \n",
      "        self.frameSpinBox.valueChanged[int].connect(self.frameSlider.setValue)\n",
      "        self.frameSlider.valueChanged[int].connect(self.frameSpinBox.setValue)\n",
      "        self.frameSpinBox.valueChanged[int].connect(self.changeFrame)\n",
      "        \n",
      "        self.bboxWidthSpinBox.valueChanged[int].connect(self.changeBBox)\n",
      "        self.bboxHeightSpinBox.valueChanged[int].connect(self.changeBBox)\n",
      "        \n",
      "        self.unitSquareWidthSpinBox.valueChanged[int].connect(self.changeUnitSquare)\n",
      "        self.unitSquareHeightSpinBox.valueChanged[int].connect(self.changeUnitSquare)\n",
      "        self.unitSquareXSpinBox.valueChanged[int].connect(self.changeUnitSquare)\n",
      "        self.unitSquareYSpinBox.valueChanged[int].connect(self.changeUnitSquare)\n",
      "        \n",
      "        \n",
      "        self.trajectoryWidthSpinBox.valueChanged[int].connect(self.changeTrajectoryDeltas)\n",
      "        self.trajectoryHeightSpinBox.valueChanged[int].connect(self.changeTrajectoryDeltas)\n",
      "        self.trajectoryXSpinBox.valueChanged[int].connect(self.changeTrajectoryDeltas)\n",
      "        self.trajectoryYSpinBox.valueChanged[int].connect(self.changeTrajectoryDeltas)\n",
      "        \n",
      "        self.spriteIdxSpinBox.valueChanged[int].connect(self.changeSprite)\n",
      "        \n",
      "        self.trajectorySmoothnessSpinBox.valueChanged[int].connect(self.changeTrajectoryFiltering)\n",
      "        self.orientationsSmoothnessSpinBox.valueChanged[int].connect(self.changeTrajectoryFiltering)\n",
      "        \n",
      "        self.distortionParameterSpinBox.valueChanged[float].connect(self.changeDistortionParameter)\n",
      "        \n",
      "        \n",
      "        self.doShowUndistortedCheckBox.stateChanged.connect(self.doShowUndistortedChanged)\n",
      "        \n",
      "        self.saveSettingsForSpriteButton.clicked.connect(self.saveSettings)\n",
      "        \n",
      "        self.saveFootprintsForSpriteButton.clicked.connect(self.saveFootprints)\n",
      "        \n",
      "        \n",
      "        ## LAYOUTS ##\n",
      "        \n",
      "        mainLayout = QtGui.QHBoxLayout()\n",
      "        \n",
      "        sliderLayout = QtGui.QHBoxLayout()\n",
      "        sliderLayout.addWidget(self.frameSlider)\n",
      "        sliderLayout.addWidget(self.frameSpinBox)\n",
      "        \n",
      "        originalImageLayout = QtGui.QVBoxLayout()\n",
      "        originalImageLayout.addWidget(self.originalImageLabel)\n",
      "        originalImageLayout.addWidget(self.originalImageInfo)\n",
      "        originalImageLayout.addLayout(sliderLayout)\n",
      "        \n",
      "        controlsLayout = QtGui.QGridLayout()\n",
      "        controlsLayout.addWidget(QtGui.QLabel(\"Sprite box size (w, h)\"), 0, 0, 1, 1, QtCore.Qt.AlignLeft)\n",
      "        controlsLayout.addWidget(self.bboxWidthSpinBox, 0, 1, 1, 1, QtCore.Qt.AlignLeft)\n",
      "        controlsLayout.addWidget(self.bboxHeightSpinBox, 0, 2, 1, 1, QtCore.Qt.AlignLeft)\n",
      "        controlsLayout.addWidget(unitSquareSizeLabel, 1, 0, 1, 1, QtCore.Qt.AlignLeft)\n",
      "        controlsLayout.addWidget(self.unitSquareWidthSpinBox, 1, 1, 1, 1, QtCore.Qt.AlignLeft)\n",
      "        controlsLayout.addWidget(self.unitSquareHeightSpinBox, 1, 2, 1, 1, QtCore.Qt.AlignLeft)\n",
      "        controlsLayout.addWidget(unitSquarePosLabel, 2, 0, 1, 1, QtCore.Qt.AlignLeft)\n",
      "        controlsLayout.addWidget(self.unitSquareXSpinBox, 2, 1, 1, 1, QtCore.Qt.AlignLeft)\n",
      "        controlsLayout.addWidget(self.unitSquareYSpinBox, 2, 2, 1, 1, QtCore.Qt.AlignLeft)\n",
      "        controlsLayout.addWidget(QtGui.QLabel(\"Sprite\"), 3, 0, 1, 1, QtCore.Qt.AlignLeft)\n",
      "        controlsLayout.addWidget(self.spriteIdxSpinBox, 3, 1, 1, 2, QtCore.Qt.AlignLeft)\n",
      "        controlsLayout.addWidget(QtGui.QLabel(\"Trajectory Smoothness\"), 4, 0, 1, 1, QtCore.Qt.AlignLeft)\n",
      "        controlsLayout.addWidget(self.trajectorySmoothnessSpinBox, 4, 1, 1, 2, QtCore.Qt.AlignLeft)\n",
      "        controlsLayout.addWidget(QtGui.QLabel(\"Orientations Smoothness\"), 5, 0, 1, 1, QtCore.Qt.AlignLeft)\n",
      "        controlsLayout.addWidget(self.orientationsSmoothnessSpinBox, 5, 1, 1, 2, QtCore.Qt.AlignLeft)\n",
      "        controlsLayout.addWidget(QtGui.QLabel(\"Trajectory size delta (w, h)\"), 6, 0, 1, 1, QtCore.Qt.AlignLeft)\n",
      "        controlsLayout.addWidget(self.trajectoryWidthSpinBox, 6, 1, 1, 1, QtCore.Qt.AlignLeft)\n",
      "        controlsLayout.addWidget(self.trajectoryHeightSpinBox, 6, 2, 1, 1, QtCore.Qt.AlignLeft)\n",
      "        controlsLayout.addWidget(QtGui.QLabel(\"Trajectory position delta (x, y)\"), 7, 0, 1, 1, QtCore.Qt.AlignLeft)\n",
      "        controlsLayout.addWidget(self.trajectoryXSpinBox, 7, 1, 1, 1, QtCore.Qt.AlignLeft)\n",
      "        controlsLayout.addWidget(self.trajectoryYSpinBox, 7, 2, 1, 1, QtCore.Qt.AlignLeft)\n",
      "        controlsLayout.addWidget(QtGui.QLabel(\"Distortion Parameter\"), 8, 0, 1, 1, QtCore.Qt.AlignLeft)\n",
      "        controlsLayout.addWidget(self.distortionParameterSpinBox, 8, 1, 1, 2, QtCore.Qt.AlignLeft)\n",
      "        controlsLayout.addWidget(QtGui.QLabel(\"Show Undistorted\"), 9, 0, 1, 1, QtCore.Qt.AlignLeft)\n",
      "        controlsLayout.addWidget(self.doShowUndistortedCheckBox, 9, 1, 1, 2, QtCore.Qt.AlignLeft)\n",
      "        controlsLayout.addWidget(self.saveSettingsForSpriteButton, 10, 0, 1, 1, QtCore.Qt.AlignLeft)\n",
      "        controlsLayout.addWidget(self.saveFootprintsForSpriteButton, 10, 1, 1, 2, QtCore.Qt.AlignLeft)\n",
      "        controlsGroup.setLayout(controlsLayout)\n",
      "        \n",
      "        topDownImageLayout = QtGui.QVBoxLayout()\n",
      "        topDownImageLayout.addStretch()\n",
      "        topDownImageLayout.addWidget(self.topDownImageLabel)\n",
      "        topDownImageLayout.addWidget(self.topDownImageInfo)\n",
      "        topDownImageLayout.addStretch()\n",
      "        topDownImageLayout.addWidget(self.orientationsGraph)\n",
      "        topDownImageLayout.addWidget(controlsGroup)\n",
      "        topDownImageLayout.addStretch()\n",
      "        \n",
      "        mainLayout.addLayout(originalImageLayout)\n",
      "        mainLayout.addLayout(topDownImageLayout)\n",
      "        self.setLayout(mainLayout)"
     ],
     "language": "python",
     "metadata": {},
     "outputs": [],
<<<<<<< HEAD
     "prompt_number": 12
=======
     "prompt_number": 118
>>>>>>> fe1b005d2ec4d7eb0bc61da731ff4fa25b905e36
    },
    {
     "cell_type": "code",
     "collapsed": false,
     "input": [
      "window = Window()\n",
      "window.show()\n",
      "app.exec_()"
     ],
     "language": "python",
     "metadata": {},
     "outputs": [
      {
       "output_type": "stream",
       "stream": "stdout",
       "text": [
        "Loaded /home/ilisescu/PhD/data/havana/white_bus1-ground-plane-settings.npy\n",
        "Loaded"
       ]
      },
      {
       "output_type": "stream",
       "stream": "stdout",
       "text": [
<<<<<<< HEAD
        " /home/ilisescu/PhD/data/havana/white_car1-ground-plane-settings.npy\n",
        "Loaded"
       ]
      },
      {
       "output_type": "stream",
       "stream": "stdout",
       "text": [
        " /home/ilisescu/PhD/data/havana/yellow_taxi1-ground-plane-settings.npy\n",
        "Loaded"
       ]
      },
      {
       "output_type": "stream",
       "stream": "stdout",
       "text": [
        " /home/ilisescu/PhD/data/havana/yellow_taxi2-ground-plane-settings.npy\n",
        "Loaded defaults for"
       ]
      },
      {
       "output_type": "stream",
       "stream": "stdout",
       "text": [
        " black_car1\n",
        "Saved"
       ]
      },
      {
       "output_type": "stream",
       "stream": "stdout",
       "text": [
        " /home/ilisescu/PhD/data/havana/black_car1-ground-plane-settings.npy\n",
        "Saved"
       ]
      },
      {
       "output_type": "stream",
       "stream": "stdout",
       "text": [
        " /home/ilisescu/PhD/data/havana/black_car1-ground-plane-settings.npy\n",
        "Saved footprints in /home/ilisescu/PhD/data/havana/sprite-0012-black_car1.npy\n",
        "Saved"
=======
        " /home/ilisescu/PhD/data/havana/red_car2-ground-plane-settings.npy\n",
        "Saved footprints in"
>>>>>>> fe1b005d2ec4d7eb0bc61da731ff4fa25b905e36
       ]
      },
      {
       "output_type": "stream",
       "stream": "stdout",
       "text": [
<<<<<<< HEAD
        " /home/ilisescu/PhD/data/havana/black_car1-ground-plane-settings.npy\n"
=======
        " /home/ilisescu/PhD/data/havana/sprite-0007-red_car2.npy\n"
>>>>>>> fe1b005d2ec4d7eb0bc61da731ff4fa25b905e36
       ]
      },
      {
       "metadata": {},
       "output_type": "pyout",
<<<<<<< HEAD
       "prompt_number": 13,
=======
       "prompt_number": 124,
>>>>>>> fe1b005d2ec4d7eb0bc61da731ff4fa25b905e36
       "text": [
        "0"
       ]
      }
     ],
<<<<<<< HEAD
     "prompt_number": 13
=======
     "prompt_number": 124
>>>>>>> fe1b005d2ec4d7eb0bc61da731ff4fa25b905e36
    },
    {
     "cell_type": "code",
     "collapsed": false,
     "input": [
<<<<<<< HEAD
      "distances = np.concatenate((np.linalg.norm(window.topDownTrajectory[1:, :] - window.topDownTrajectory[0:-1, :], axis=1), [0]))\n",
      "# directions = (window.topDownTrajectory[1:, :] - window.topDownTrajectory[0:-1, :])/distances[0:-1].reshape((len(distances)-1, 1))\n",
      "\n",
      "figure()\n",
      "ax = gca()\n",
      "scatter(window.topDownTrajectory[:, 0], window.topDownTrajectory[:, 1], c=cm.jet(distances), edgecolor='none', marker='.')\n",
      "ax.set_ylim(ax.get_ylim()[::-1])\n",
      "ax.set_aspect('equal')"
     ],
     "language": "python",
     "metadata": {},
     "outputs": [],
     "prompt_number": 166
=======
      "trackedSprites[window.spriteIdx].keys()"
     ],
     "language": "python",
     "metadata": {},
     "outputs": [
      {
       "metadata": {},
       "output_type": "pyout",
       "prompt_number": 88,
       "text": [
        "['bbox_centers',\n",
        " 'sprite_name',\n",
        " 'bbox_rotations',\n",
        " 'bboxes',\n",
        " 'frame_locs',\n",
        " 'median_color']"
       ]
      }
     ],
     "prompt_number": 88
>>>>>>> fe1b005d2ec4d7eb0bc61da731ff4fa25b905e36
    },
    {
     "cell_type": "code",
     "collapsed": false,
     "input": [
<<<<<<< HEAD
      "print \"max distance\", np.max(distances)\n",
      "print\n",
      "desiredDistance = 0.5 ## distance to travel between frames\n",
      "cumDistances = np.cumsum(distances)\n",
      "print cumDistances.shape\n",
      "\n",
      "corrected = True\n",
      "\n",
      "resampledTopDownTrajectoryIdxs = [0]\n",
      "while (len(resampledTopDownTrajectoryIdxs)-1)*desiredDistance < cumDistances[-1] :\n",
      "    idx = len(np.argwhere(cumDistances<desiredDistance*len(resampledTopDownTrajectoryIdxs)))-1\n",
      "    if corrected :\n",
      "        if (idx < len(cumDistances)-1 and \n",
      "            np.abs(desiredDistance*len(resampledTopDownTrajectoryIdxs)-cumDistances[idx]) >\n",
      "            np.abs(desiredDistance*len(resampledTopDownTrajectoryIdxs)-cumDistances[idx+1])) :\n",
      "            idx += 1\n",
      "#     print np.abs(desiredDistance*len(resampledTopDownTrajectoryIdxs)-cumDistances[idx]),\n",
      "    resampledTopDownTrajectoryIdxs.append(idx)\n",
      "print\n",
      "print len(resampledTopDownTrajectoryIdxs)"
=======
      "figure()\n",
      "plot(window.orientations)\n",
      "# plot(spimg.filters.gaussian_filter1d(window.orientations, 60, axis=0))"
     ],
     "language": "python",
     "metadata": {},
     "outputs": [
      {
       "metadata": {},
       "output_type": "pyout",
       "prompt_number": 234,
       "text": [
        "[<matplotlib.lines.Line2D at 0x7f35eb7560d0>]"
       ]
      }
     ],
     "prompt_number": 234
    },
    {
     "cell_type": "code",
     "collapsed": false,
     "input": [
      "#print window.trajectoryInTopDown[]\n",
      "print arange(10)\n",
      "print arange(10)[0:-1]\n",
      "print arange(10)[1:]\n",
      "\n",
      "def computeOrientations(self) :\n",
      "    orientations = np.zeros(len(self.trajectoryInTopDown))\n",
      "    tmp = self.trajectoryInTopDown[1:, :] - self.trajectoryInTopDown[0:-1, :]\n",
      "    tmp /= np.linalg.norm(tmp, axis=-1).reshape((len(tmp), 1))\n",
      "    \n",
      "    ## deal with last one\n",
      "    orientations[:-1] = np.arctan2(tmp[:, 1], tmp[:, 0])\n",
      "    tmp = -(self.trajectoryInTopDown[-1, :] - self.trajectoryInTopDown[-2, :])\n",
      "    tmp /= np.linalg.norm(tmp, axis=-1)\n",
      "    orientations[-1] = np.arctan2(tmp[1], tmp[0])\n",
      "    \n",
      "    orientations = np.pi - orientations\n",
      "    \n",
      "computeOrientations(window)"
>>>>>>> fe1b005d2ec4d7eb0bc61da731ff4fa25b905e36
     ],
     "language": "python",
     "metadata": {},
     "outputs": [
      {
       "output_type": "stream",
       "stream": "stdout",
       "text": [
<<<<<<< HEAD
        "max distance 4.75414108081\n",
        "\n",
        "(273,)\n",
        "\n",
        "1917\n"
       ]
      }
     ],
     "prompt_number": 167
=======
        "[0 1 2 3 4 5 6 7 8 9]\n",
        "[0 1 2 3 4 5 6 7 8]\n",
        "[1 2 3 4 5 6 7 8 9]\n"
       ]
      }
     ],
     "prompt_number": 191
>>>>>>> fe1b005d2ec4d7eb0bc61da731ff4fa25b905e36
    },
    {
     "cell_type": "code",
     "collapsed": false,
     "input": [
<<<<<<< HEAD
      "resampledTopDownTrajectory = window.topDownTrajectory[resampledTopDownTrajectoryIdxs, :]\n",
      "resampledDistances = np.concatenate((np.linalg.norm(resampledTopDownTrajectory[1:, :] - resampledTopDownTrajectory[0:-1, :], axis=1), [0]))\n",
      "\n",
      "if corrected :\n",
      "    scatter(resampledTopDownTrajectory[:, 0], resampledTopDownTrajectory[:, 1], c='green', edgecolor='none', marker='.')\n",
      "else :\n",
      "    figure()\n",
      "    ax = gca()\n",
      "    # scatter(resampledTopDownTrajectory[:, 0], resampledTopDownTrajectory[:, 1], c=cm.jet(resampledDistances), edgecolor='none', marker='.')\n",
      "    scatter(resampledTopDownTrajectory[:, 0], resampledTopDownTrajectory[:, 1], c='none', edgecolor='red', marker='o')\n",
      "    ax.set_ylim(ax.get_ylim()[::-1])\n",
      "    ax.set_aspect('equal')"
     ],
     "language": "python",
     "metadata": {},
     "outputs": [],
     "prompt_number": 168
=======
      "print window.lines"
     ],
     "language": "python",
     "metadata": {},
     "outputs": [
      {
       "output_type": "stream",
       "stream": "stdout",
       "text": [
        "[[  281.3   472.     66.    251.7]\n",
        " [  458.7   329.7   191.7   224.3]\n",
        " [  401.    461.    905.5   161. ]\n",
        " [ 1269.7   595.   1113.7   186. ]]\n"
       ]
      }
     ],
     "prompt_number": 172
>>>>>>> fe1b005d2ec4d7eb0bc61da731ff4fa25b905e36
    },
    {
     "cell_type": "code",
     "collapsed": false,
     "input": [
<<<<<<< HEAD
      "# ## no interpolation, just closest frame\n",
      "# sortedKeys = np.sort(trackedSprites[window.spriteIdx][DICT_FRAMES_LOCATIONS].keys())\n",
      "# bgImage = np.array(Image.open(dataPath+dataSet+\"median.png\"))\n",
      "# for i in xrange(len(resampledTopDownTrajectoryIdxs)) :\n",
      "#     frameName = trackedSprites[window.spriteIdx][DICT_FRAMES_LOCATIONS][sortedKeys[resampledTopDownTrajectoryIdxs[i]]].split('/')[-1]\n",
      "# #     shutil.copyfile(dataPath+dataSet+trackedSprites[window.spriteIdx][DICT_SEQUENCE_NAME]+\"-masked-blended/\"+frameName, \n",
      "# #                     \"/media/ilisescu/Data1/hello4/frame-{0:05d}.png\".format(i+1))\n",
      "#     currentFrame = np.array(Image.open(dataPath+dataSet+trackedSprites[window.spriteIdx][DICT_SEQUENCE_NAME]+\"-masked-blended/\"+frameName))\n",
      "#     idxs = np.argwhere(currentFrame[:, :, -1] != 0)\n",
      "#     img = np.copy(bgImage)\n",
      "#     img[idxs[:, 0], idxs[:, 1], :] = currentFrame[idxs[:, 0], idxs[:, 1], :-1]\n",
      "#     Image.fromarray(np.array(img, dtype=np.uint8)).save(\"/media/ilisescu/Data1/hello1/frame-{0:05d}.png\".format(i+1))\n",
      "#     del img\n",
      "# #     shutil.copyfile(trackedSprites[window.spriteIdx][DICT_FRAMES_LOCATIONS][sortedKeys[resampledTopDownTrajectoryIdxs[i]]], \n",
      "# #                     \"/media/ilisescu/Data1/hello2/frame-{0:05d}.png\".format(i))\n",
      "#     sys.stdout.write('\\r' + \"Image \" + np.string_(i) + \" of \" + np.string_(len(resampledTopDownTrajectoryIdxs)) + \" done\")\n",
      "#     sys.stdout.flush()"
=======
      "import scipy.interpolate as interp\n",
      "\n",
      "def interpolate_polyline(polyline, num_points):\n",
      "    duplicates = []\n",
      "    for i in range(1, len(polyline)):\n",
      "        if np.allclose(polyline[i], polyline[i-1]):\n",
      "            duplicates.append(i)\n",
      "    if duplicates:\n",
      "        polyline = np.delete(polyline, duplicates, axis=0)\n",
      "    tck, u = interp.splprep(polyline.T, s=0)\n",
      "    u = np.linspace(0.0, 1.0, num_points)\n",
      "    return np.column_stack(interp.splev(u, tck))"
>>>>>>> fe1b005d2ec4d7eb0bc61da731ff4fa25b905e36
     ],
     "language": "python",
     "metadata": {},
     "outputs": [],
<<<<<<< HEAD
     "prompt_number": 169
=======
     "prompt_number": 7
>>>>>>> fe1b005d2ec4d7eb0bc61da731ff4fa25b905e36
    },
    {
     "cell_type": "code",
     "collapsed": false,
     "input": [
<<<<<<< HEAD
      "## find what interpolations need to be done\n",
      "frameIdxDelta = np.array(resampledTopDownTrajectoryIdxs)[1:]-np.array(resampledTopDownTrajectoryIdxs)[:-1]\n",
      "incrementLocations = np.concatenate(([-1], np.argwhere(frameIdxDelta != 0).flatten()))\n",
      "numToInterpolate = incrementLocations[1:]-incrementLocations[:-1]-1\n",
      "idxFramesToInterpolateBetween = incrementLocations+1\n",
      "## interpolate n (col 2) frames between a (col 0) and b (col 1)\n",
      "necessaryInterpolations = np.array([np.array(resampledTopDownTrajectoryIdxs)[idxFramesToInterpolateBetween][:-1],\n",
      "                                    np.array(resampledTopDownTrajectoryIdxs)[idxFramesToInterpolateBetween][1:],\n",
      "                                    numToInterpolate]).T\n",
      "\n",
      "## these are the weights for interpolation if I need to create k new frames through interpolation\n",
      "k = 5\n",
      "# print np.concatenate((np.arange(0.0, 1.0, 1.0/(2+k-1))[1:], [1.0]))\n",
      "print necessaryInterpolations[np.argmax(necessaryInterpolations[:, -1]), :]\n",
      "# print necessaryInterpolations[:100, :]"
=======
      "print filteredAreas.shape\n",
      "print np.array([xs, ys]).T\n",
      "print np.array([xs, ys+filteredAreas.flatten()*0.1]).T"
>>>>>>> fe1b005d2ec4d7eb0bc61da731ff4fa25b905e36
     ],
     "language": "python",
     "metadata": {},
     "outputs": [
      {
       "output_type": "stream",
       "stream": "stdout",
       "text": [
<<<<<<< HEAD
        "[129 130   9]\n"
       ]
      }
     ],
     "prompt_number": 170
=======
        "(1305, 1)\n",
        "[[  884.    167. ]\n",
        " [  883.5   166.5]\n",
        " [  884.    167. ]\n",
        " ..., \n",
        " [ 1472.    704.5]\n",
        " [ 1405.5   680.5]\n",
        " [ 1401.    680.5]]\n",
        "[[   884.            435.27991108]\n",
        " [   883.5           434.81623154]\n",
        " [   884.            435.3886683 ]\n",
        " ..., \n",
        " [  1472.          15075.67670521]\n",
        " [  1405.5         15051.16471898]\n",
        " [  1401.          15050.9070306 ]]\n"
       ]
      }
     ],
     "prompt_number": 44
>>>>>>> fe1b005d2ec4d7eb0bc61da731ff4fa25b905e36
    },
    {
     "cell_type": "code",
     "collapsed": false,
     "input": [
<<<<<<< HEAD
      "# ## does interpolation using alpha blending\n",
      "# saveLocation = \"/media/ilisescu/Data1/bus_interpolated/\"\n",
      "# sortedKeys = np.sort(trackedSprites[window.spriteIdx][DICT_FRAMES_LOCATIONS].keys())\n",
      "# bgImage = np.array(Image.open(dataPath+dataSet+\"median.png\"))\n",
      "# i = 0\n",
      "\n",
      "# ## merge first frame with bg and save\n",
      "# frame1Name = trackedSprites[window.spriteIdx][DICT_FRAMES_LOCATIONS][sortedKeys[necessaryInterpolations[0, 0]]].split('/')[-1]\n",
      "# frame1 = np.array(Image.open(dataPath+dataSet+trackedSprites[window.spriteIdx][DICT_SEQUENCE_NAME]+\"-masked-blended/\"+frame1Name))\n",
      "# alpha1 = frame1[:, :, -1].reshape((frame1.shape[0], frame1.shape[1], 1))/255.0\n",
      "# compositeImg = np.array(frame1[:, :, :-1]*alpha1 + bgImage*(1.0-alpha1), dtype=uint8)\n",
      "# Image.fromarray(compositeImg).save(saveLocation + \"frame-{0:05d}.png\".format(i+1))\n",
      "# i += 1\n",
      "\n",
      "# ## do all the rest\n",
      "# for pair in necessaryInterpolations :\n",
      "#     frame1Idx, frame2Idx, k = pair\n",
      "# #     print frame1Idx, frame2Idx, k\n",
      "#     frame1Name = trackedSprites[window.spriteIdx][DICT_FRAMES_LOCATIONS][sortedKeys[frame1Idx]].split('/')[-1]\n",
      "#     frame2Name = trackedSprites[window.spriteIdx][DICT_FRAMES_LOCATIONS][sortedKeys[frame2Idx]].split('/')[-1]\n",
      "    \n",
      "#     frame1 = np.array(Image.open(dataPath+dataSet+trackedSprites[window.spriteIdx][DICT_SEQUENCE_NAME]+\"-masked-blended/\"+frame1Name))\n",
      "#     frame2 = np.array(Image.open(dataPath+dataSet+trackedSprites[window.spriteIdx][DICT_SEQUENCE_NAME]+\"-masked-blended/\"+frame2Name))\n",
      "    \n",
      "#     alpha1 = frame1[:, :, -1].reshape((frame1.shape[0], frame1.shape[1], 1))/255.0\n",
      "#     alpha2 = frame2[:, :, -1].reshape((frame2.shape[0], frame2.shape[1], 1))/255.0\n",
      "    \n",
      "#     for ratio in np.concatenate((np.arange(0.0, 1.0, 1.0/(2+k-1))[1:], [1.0])) :\n",
      "#         globalAlpha = alpha1*(1.0-ratio) + alpha2*ratio\n",
      "#         compositeImg = np.array(frame1[:, :, :-1]*alpha1*(1.0-ratio) + frame2[:, :, :-1]*alpha2*ratio + bgImage*(1.0-globalAlpha), dtype=uint8)\n",
      "#         Image.fromarray(compositeImg).save(saveLocation + \"frame-{0:05d}.png\".format(i+1))\n",
      "        \n",
      "#         i += 1\n",
      "    \n",
      "#     sys.stdout.write('\\r' + \"Image \" + np.string_(i) + \" of \" + np.string_(len(resampledTopDownTrajectoryIdxs)) + \" done\")\n",
      "#     sys.stdout.flush()"
     ],
     "language": "python",
     "metadata": {},
     "outputs": [],
     "prompt_number": 171
=======
      "print ys.shape"
     ],
     "language": "python",
     "metadata": {},
     "outputs": [
      {
       "output_type": "stream",
       "stream": "stdout",
       "text": [
        "(1305,)\n"
       ]
      }
     ],
     "prompt_number": 42
>>>>>>> fe1b005d2ec4d7eb0bc61da731ff4fa25b905e36
    },
    {
     "cell_type": "code",
     "collapsed": false,
     "input": [
<<<<<<< HEAD
      "def getSpritePatch(im) :\n",
      "    visiblePixelsGlobalIndices = np.argwhere(im[:, :, -1] != 0)\n",
      "    topLeftPos = np.min(visiblePixelsGlobalIndices, axis=0)\n",
      "    patchSize = np.max(visiblePixelsGlobalIndices, axis=0) - topLeftPos + 1\n",
      "    imgSize = np.array(im.shape[0:2])\n",
      "\n",
      "#     currentSpriteImages.append({'top_left_pos':topLeft, 'sprite_colors':im[visiblePixels[:, 0], visiblePixels[:, 1], :], \n",
      "#                                 'visible_indices': visiblePixels-topLeft, 'patch_size': patchSize})\n",
      "    \n",
      "#     topLeftPos = np.copy(preloadedSpritePatches[spriteIdx][frameIdx]['top_left_pos'])\n",
      "#     patchSize = np.copy(preloadedSpritePatches[spriteIdx][frameIdx]['patch_size'])\n",
      "#     visiblePixelsGlobalIndices = preloadedSpritePatches[spriteIdx][frameIdx]['visible_indices']+topLeftPos\n",
      "\n",
      "    ## when the mask touches the border of the patch there's some weird white halos going on so I enlarge the patch slightly\n",
      "    ## not sure what happens when the patch goes outside of the bounds of the original image...\n",
      "    topLeftPos -= 1\n",
      "    patchSize += 2\n",
      "    ## make sure we're within bounds\n",
      "    topLeftPos[np.argwhere(topLeftPos < 0)] = 0\n",
      "    patchSize[(topLeftPos+patchSize) > imgSize] += (imgSize-(topLeftPos+patchSize))[(topLeftPos+patchSize) > imgSize]\n",
      "\n",
      "#     if True :\n",
      "#         spriteData.append(np.ndarray.flatten(np.vstack((topLeftPos[::-1], trackedSprites[spriteIdx][DICT_FOOTPRINTS][sortedKeys[frameIdx]]))))\n",
      "#     else :\n",
      "#         spriteData.append(np.ndarray.flatten(np.vstack((topLeftPos[::-1], trackedSprites[spriteIdx][DICT_BBOXES][sortedKeys[frameIdx]]))))\n",
      "\n",
      "        \n",
      "#     patch = im[topLeftPos[0]:topLeftPos[0]+patchSize[0], topLeftPos[1]:topLeftPos[1]+patchSize[1], :]\n",
      "\n",
      "    ## save patch\n",
      "#     PIL.Image.fromarray(np.uint8(patch)).save(saveLoc+spriteName+\"/frame-{:05d}.png\".format(frameIdx+1))\n",
      "    \n",
      "    return topLeftPos[::-1], im[topLeftPos[0]:topLeftPos[0]+patchSize[0], topLeftPos[1]:topLeftPos[1]+patchSize[1], :]"
     ],
     "language": "python",
     "metadata": {},
     "outputs": [],
     "prompt_number": 172
=======
      "print interpolatedZAdjusted\n",
      "print np.array([xs, ys]).T+filteredAreas"
     ],
     "language": "python",
     "metadata": {},
     "outputs": [
      {
       "output_type": "stream",
       "stream": "stdout",
       "text": [
        "[[  884.           167.        ]\n",
        " [  885.24502675   166.93594601]\n",
        " [  886.490407     166.87900817]\n",
        " ..., \n",
        " [ 1399.7451127    678.34573413]\n",
        " [ 1400.35756786   679.43160104]\n",
        " [ 1401.           680.5       ]]\n",
        "[[  884.           167.        ]\n",
        " [  886.71809831   166.86939934]\n",
        " [  889.3323145    166.77780356]\n",
        " ..., \n",
        " [ 1399.67737013   678.22033084]\n",
        " [ 1400.29383552   679.32212664]\n",
        " [ 1401.           680.5       ]]\n"
       ]
      }
     ],
     "prompt_number": 37
>>>>>>> fe1b005d2ec4d7eb0bc61da731ff4fa25b905e36
    },
    {
     "cell_type": "code",
     "collapsed": false,
     "input": [
<<<<<<< HEAD
      "## does interpolation using optical flow\n",
      "saveLocation = dataPath+dataSet+\"resampledSprites/\"#+trackedSprites[window.spriteIdx][DICT_SEQUENCE_NAME]+\"-resampled/\"\n",
      "spriteName = trackedSprites[window.spriteIdx][DICT_SEQUENCE_NAME]\n",
      "if not os.path.isdir(saveLocation+spriteName) :\n",
      "    os.mkdir(saveLocation+spriteName)\n",
      "# frameLocSuffix = \"-masked-blended/\"\n",
      "frameLocSuffix = \"-maskedFlow-blended/\"\n",
      "sortedKeys = np.sort(trackedSprites[window.spriteIdx][DICT_FRAMES_LOCATIONS].keys())\n",
      "bgImage = np.array(Image.open(dataPath+dataSet+\"median.png\"))\n",
      "spriteData = []\n",
      "\n",
      "allXs = arange(bgImage.shape[1], dtype=float32).reshape((1, bgImage.shape[1])).repeat(bgImage.shape[0], axis=0)\n",
      "allYs = arange(bgImage.shape[0], dtype=float32).reshape((bgImage.shape[0], 1)).repeat(bgImage.shape[1], axis=1)\n",
      "\n",
      "i = 0\n",
      "\n",
      "## merge first frame with bg and save\n",
      "frame1Name = trackedSprites[window.spriteIdx][DICT_FRAMES_LOCATIONS][sortedKeys[necessaryInterpolations[0, 0]]].split('/')[-1]\n",
      "frame1 = np.array(Image.open(dataPath+dataSet+trackedSprites[window.spriteIdx][DICT_SEQUENCE_NAME]+frameLocSuffix+frame1Name))\n",
      "\n",
      "topLeft, patch = getSpritePatch(frame1)\n",
      "spriteData.append(np.ndarray.flatten(np.vstack((topLeft, trackedSprites[window.spriteIdx][DICT_FOOTPRINTS][sortedKeys[necessaryInterpolations[0, 0]]]))))\n",
      "Image.fromarray(patch).save(saveLocation + spriteName + \"/frame-{0:05d}.png\".format(i+1))\n",
      "# alpha1 = frame1[:, :, -1].reshape((frame1.shape[0], frame1.shape[1], 1))/255.0\n",
      "# compositeImg = np.array(frame1[:, :, :-1]*alpha1 + bgImage*(1.0-alpha1), dtype=uint8)\n",
      "# Image.fromarray(compositeImg).save(saveLocation + spriteName + \"/frame-{0:05d}.png\".format(i+1))\n",
      "i += 1\n",
      "\n",
      "## do all the rest\n",
      "for pair in necessaryInterpolations :\n",
      "    frame1Idx, frame2Idx, k = pair\n",
      "#     print frame1Idx, frame2Idx, k\n",
      "    frame1Name = trackedSprites[window.spriteIdx][DICT_FRAMES_LOCATIONS][sortedKeys[frame1Idx]].split('/')[-1]\n",
      "    frame2Name = trackedSprites[window.spriteIdx][DICT_FRAMES_LOCATIONS][sortedKeys[frame2Idx]].split('/')[-1]\n",
      "    \n",
      "    frame1 = np.array(Image.open(dataPath+dataSet+trackedSprites[window.spriteIdx][DICT_SEQUENCE_NAME]+frameLocSuffix+frame1Name))\n",
      "    frame2 = np.array(Image.open(dataPath+dataSet+trackedSprites[window.spriteIdx][DICT_SEQUENCE_NAME]+frameLocSuffix+frame2Name))\n",
      "    \n",
      "    alpha1 = frame1[:, :, -1].reshape((frame1.shape[0], frame1.shape[1], 1))/255.0\n",
      "    alpha2 = frame2[:, :, -1].reshape((frame2.shape[0], frame2.shape[1], 1))/255.0\n",
      "    \n",
      "    if k > 0 :\n",
      "#         flow = cv2.calcOpticalFlowFarneback(cv2.cvtColor(frame2, cv2.COLOR_RGBA2GRAY), \n",
      "#                                             cv2.cvtColor(frame1, cv2.COLOR_RGBA2GRAY), \n",
      "#                                             0.5, 3, 15, 3, 5, 1.1, 0)\n",
      "        \n",
      "        flow = cv2.calcOpticalFlowFarneback(cv2.cvtColor(np.array(Image.open(trackedSprites[window.spriteIdx][DICT_FRAMES_LOCATIONS][sortedKeys[frame2Idx]])), cv2.COLOR_RGB2GRAY), \n",
      "                                            cv2.cvtColor(np.array(Image.open(trackedSprites[window.spriteIdx][DICT_FRAMES_LOCATIONS][sortedKeys[frame1Idx]])), cv2.COLOR_RGB2GRAY), \n",
      "                                            0.5, 3, 15, 3, 5, 1.1, 0)\n",
      "        \n",
      "        for ratio in np.arange(0.0, 1.0, 1.0/(2+k-1), dtype=float32)[1:] :\n",
      "#             print ratio\n",
      "            interpolated = cv2.remap(frame1, flow[:, :, 0]*ratio+allXs, flow[:, :, 1]*ratio+allYs, cv2.INTER_LINEAR)\n",
      "            alpha = (interpolated[:, :, -1] == np.max(interpolated[:, :, -1])).reshape((bgImage.shape[0], bgImage.shape[1], 1))\n",
      "            interpolated[:, :, -1] = np.array(alpha[:, :, 0], dtype=int)*255\n",
      "#             compositeImg = np.array(interpolated[:, :, :-1]*alpha + bgImage*(1.0-alpha), dtype=uint8)\n",
      "            \n",
      "# #             globalAlpha = alpha1*(1.0-ratio) + alpha2*ratio\n",
      "# #             compositeImg = np.array(frame1[:, :, :-1]*alpha1*(1.0-ratio) + frame2[:, :, :-1]*alpha2*ratio + bgImage*(1.0-globalAlpha), dtype=uint8)\n",
      "#             Image.fromarray(compositeImg).save(saveLocation + spriteName + \"/frame-{0:05d}.png\".format(i+1))\n",
      "\n",
      "            topLeft, patch = getSpritePatch(interpolated)\n",
      "            spriteData.append(np.ndarray.flatten(np.vstack((topLeft, trackedSprites[window.spriteIdx][DICT_FOOTPRINTS][sortedKeys[frame1Idx]]))))\n",
      "            Image.fromarray(patch).save(saveLocation + spriteName + \"/frame-{0:05d}.png\".format(i+1))\n",
      "\n",
      "            i += 1\n",
      "    ## merge second frame with bg and save\n",
      "#     compositeImg = np.array(frame2[:, :, :-1]*alpha2 + bgImage*(1.0-alpha2), dtype=uint8)\n",
      "#     Image.fromarray(compositeImg).save(saveLocation + spriteName + \"/frame-{0:05d}.png\".format(i+1))\n",
      "    \n",
      "    topLeft, patch = getSpritePatch(frame2)\n",
      "    spriteData.append(np.ndarray.flatten(np.vstack((topLeft, trackedSprites[window.spriteIdx][DICT_FOOTPRINTS][sortedKeys[frame2Idx]]))))\n",
      "    Image.fromarray(patch).save(saveLocation + spriteName + \"/frame-{0:05d}.png\".format(i+1))\n",
      "    \n",
      "    i += 1\n",
      "    \n",
      "    sys.stdout.write('\\r' + \"Image \" + np.string_(i) + \" of \" + np.string_(len(resampledTopDownTrajectoryIdxs)) + \" done\")\n",
      "    sys.stdout.flush()\n",
      "\n",
      "numpy.savetxt(saveLocation + spriteName + \".csv\", numpy.asarray(spriteData), delimiter=\",\")"
=======
      "figure()\n",
      "plot(areas) \n",
      "plot(spimg.filters.gaussian_filter1d(areas, 30, axis=0))"
     ],
     "language": "python",
     "metadata": {},
     "outputs": [
      {
       "metadata": {},
       "output_type": "pyout",
       "prompt_number": 26,
       "text": [
        "[<matplotlib.lines.Line2D at 0x7f360c36ad90>]"
       ]
      }
     ],
     "prompt_number": 26
    },
    {
     "cell_type": "code",
     "collapsed": false,
     "input": [
      "unitSquare = np.array([[0, 0], [500, 0], [500, 300], [0, 300]], dtype=float)+np.array([[4000, 2500]], dtype=float)\n",
      "## changed the order of the corners to make the bus come from top to bottom\n",
      "# hom = cv2.findHomography(unitSquare, window.rectangleCorners[[0, 3, 2, 1], :])[0]\n",
      "hom = cv2.findHomography(unitSquare, window.rectangleCorners[[1, 2, 3, 0], :])[0]\n",
      "# hom = cv2.findHomography(unitSquare, window.rectangleCorners[[2, 3, 0, 1], :])[0]\n",
      "morphedBackground = cv2.warpPerspective(bgImage, np.linalg.inv(hom), (5000, 3000))\n",
      "\n",
      "figure(); \n",
      "ax = plt.subplot(111)\n",
      "\n",
      "ax.imshow(morphedBackground)#, origin='lower')\n",
      "ax.set_autoscale_on(False)\n",
      "\n",
      "ax.plot(unitSquare[[0, 1, 2, 3, 0], 0], unitSquare[[0, 1, 2, 3, 0], 1])\n",
      "\n",
      "trajectoryInTopDown = np.dot(np.linalg.inv(hom), np.array([interpolated[:, 0], interpolated[:, 1], np.ones(len(interpolated))]))\n",
      "trajectoryInTopDown /= trajectoryInTopDown[-1, :]\n",
      "trajectoryInTopDown = trajectoryInTopDown[0:2, :].T\n",
      "ax.plot(trajectoryInTopDown[:, 0], trajectoryInTopDown[:, 1])\n",
      "\n",
      "# figure()\n",
      "# ax = plt.subplot(111)\n",
      "# ax.plot(unitSquare[[0, 1, 2, 3, 0], 0], unitSquare[[0, 1, 2, 3, 0], 1])\n",
      "\n",
      "# ax.set_xlim([-5000, 5000])\n",
      "# ax.set_ylim([-5000, 5000])"
>>>>>>> fe1b005d2ec4d7eb0bc61da731ff4fa25b905e36
     ],
     "language": "python",
     "metadata": {},
     "outputs": [
      {
<<<<<<< HEAD
       "output_type": "stream",
       "stream": "stdout",
       "text": [
        "\r",
        "Image 3 of 1917 done"
       ]
      },
      {
       "output_type": "stream",
       "stream": "stdout",
       "text": [
        "\r",
        "Image 4 of 1917 done"
       ]
      },
      {
       "output_type": "stream",
       "stream": "stdout",
       "text": [
        "\r",
        "Image 6 of 1917 done"
       ]
      },
      {
       "output_type": "stream",
       "stream": "stdout",
       "text": [
        "\r",
        "Image 8 of 1917 done"
       ]
      },
      {
       "output_type": "stream",
       "stream": "stdout",
       "text": [
        "\r",
        "Image 11 of 1917 done"
       ]
      },
      {
       "output_type": "stream",
       "stream": "stdout",
       "text": [
        "\r",
        "Image 14 of 1917 done"
       ]
      },
      {
       "output_type": "stream",
       "stream": "stdout",
       "text": [
        "\r",
        "Image 17 of 1917 done"
       ]
      },
      {
       "output_type": "stream",
       "stream": "stdout",
       "text": [
        "\r",
        "Image 21 of 1917 done"
       ]
      },
      {
       "output_type": "stream",
       "stream": "stdout",
       "text": [
        "\r",
        "Image 25 of 1917 done"
       ]
      },
      {
       "output_type": "stream",
       "stream": "stdout",
       "text": [
        "\r",
        "Image 30 of 1917 done"
       ]
      },
      {
       "output_type": "stream",
       "stream": "stdout",
       "text": [
        "\r",
        "Image 35 of 1917 done"
       ]
      },
      {
       "output_type": "stream",
       "stream": "stdout",
       "text": [
        "\r",
        "Image 39 of 1917 done"
       ]
      },
      {
       "output_type": "stream",
       "stream": "stdout",
       "text": [
        "\r",
        "Image 44 of 1917 done"
       ]
      },
      {
       "output_type": "stream",
       "stream": "stdout",
       "text": [
        "\r",
        "Image 50 of 1917 done"
       ]
      },
      {
       "output_type": "stream",
       "stream": "stdout",
       "text": [
        "\r",
        "Image 55 of 1917 done"
       ]
      },
      {
       "output_type": "stream",
       "stream": "stdout",
       "text": [
        "\r",
        "Image 60 of 1917 done"
       ]
      },
      {
       "output_type": "stream",
       "stream": "stdout",
       "text": [
        "\r",
        "Image 66 of 1917 done"
       ]
      },
      {
       "output_type": "stream",
       "stream": "stdout",
       "text": [
        "\r",
        "Image 71 of 1917 done"
       ]
      },
      {
       "output_type": "stream",
       "stream": "stdout",
       "text": [
        "\r",
        "Image 77 of 1917 done"
       ]
      },
      {
       "output_type": "stream",
       "stream": "stdout",
       "text": [
        "\r",
        "Image 82 of 1917 done"
       ]
      },
      {
       "output_type": "stream",
       "stream": "stdout",
       "text": [
        "\r",
        "Image 88 of 1917 done"
       ]
      },
      {
       "output_type": "stream",
       "stream": "stdout",
       "text": [
        "\r",
        "Image 94 of 1917 done"
       ]
      },
      {
       "output_type": "stream",
       "stream": "stdout",
       "text": [
        "\r",
        "Image 99 of 1917 done"
       ]
      },
      {
       "output_type": "stream",
       "stream": "stdout",
       "text": [
        "\r",
        "Image 105 of 1917 done"
       ]
      },
      {
       "output_type": "stream",
       "stream": "stdout",
       "text": [
        "\r",
        "Image 110 of 1917 done"
       ]
      },
=======
       "metadata": {},
       "output_type": "pyout",
       "prompt_number": 226,
       "text": [
        "[<matplotlib.lines.Line2D at 0x7f007c94cad0>]"
       ]
      }
     ],
     "prompt_number": 226
    },
    {
     "cell_type": "code",
     "collapsed": false,
     "input": [
      "print window.rectangleCorners"
     ],
     "language": "python",
     "metadata": {},
     "outputs": [
>>>>>>> fe1b005d2ec4d7eb0bc61da731ff4fa25b905e36
      {
       "output_type": "stream",
       "stream": "stdout",
       "text": [
<<<<<<< HEAD
        "\r",
        "Image 116 of 1917 done"
       ]
      },
      {
       "output_type": "stream",
       "stream": "stdout",
       "text": [
        "\r",
        "Image 122 of 1917 done"
       ]
      },
      {
       "output_type": "stream",
       "stream": "stdout",
       "text": [
        "\r",
        "Image 127 of 1917 done"
       ]
      },
      {
       "output_type": "stream",
       "stream": "stdout",
       "text": [
        "\r",
        "Image 133 of 1917 done"
       ]
      },
      {
       "output_type": "stream",
       "stream": "stdout",
       "text": [
        "\r",
        "Image 139 of 1917 done"
       ]
      },
      {
       "output_type": "stream",
       "stream": "stdout",
       "text": [
        "\r",
        "Image 145 of 1917 done"
       ]
      },
      {
       "output_type": "stream",
       "stream": "stdout",
       "text": [
        "\r",
        "Image 150 of 1917 done"
       ]
      },
      {
       "output_type": "stream",
       "stream": "stdout",
       "text": [
        "\r",
        "Image 156 of 1917 done"
       ]
      },
      {
       "output_type": "stream",
       "stream": "stdout",
       "text": [
        "\r",
        "Image 162 of 1917 done"
       ]
      },
      {
       "output_type": "stream",
       "stream": "stdout",
       "text": [
        "\r",
        "Image 167 of 1917 done"
       ]
      },
      {
       "output_type": "stream",
       "stream": "stdout",
       "text": [
        "\r",
        "Image 173 of 1917 done"
       ]
      },
      {
       "output_type": "stream",
       "stream": "stdout",
       "text": [
        "\r",
        "Image 179 of 1917 done"
       ]
      },
      {
       "output_type": "stream",
       "stream": "stdout",
       "text": [
        "\r",
        "Image 185 of 1917 done"
       ]
      },
      {
       "output_type": "stream",
       "stream": "stdout",
       "text": [
        "\r",
        "Image 190 of 1917 done"
       ]
      },
      {
       "output_type": "stream",
       "stream": "stdout",
       "text": [
        "\r",
        "Image 196 of 1917 done"
       ]
      },
      {
       "output_type": "stream",
       "stream": "stdout",
       "text": [
        "\r",
        "Image 202 of 1917 done"
       ]
      },
      {
       "output_type": "stream",
       "stream": "stdout",
       "text": [
        "\r",
        "Image 208 of 1917 done"
       ]
      },
      {
       "output_type": "stream",
       "stream": "stdout",
       "text": [
        "\r",
        "Image 213 of 1917 done"
       ]
      },
      {
       "output_type": "stream",
       "stream": "stdout",
       "text": [
        "\r",
        "Image 219 of 1917 done"
       ]
      },
      {
       "output_type": "stream",
       "stream": "stdout",
       "text": [
        "\r",
        "Image 225 of 1917 done"
       ]
      },
      {
       "output_type": "stream",
       "stream": "stdout",
       "text": [
        "\r",
        "Image 231 of 1917 done"
       ]
      },
      {
       "output_type": "stream",
       "stream": "stdout",
       "text": [
        "\r",
        "Image 236 of 1917 done"
       ]
      },
      {
       "output_type": "stream",
       "stream": "stdout",
       "text": [
        "\r",
        "Image 242 of 1917 done"
       ]
      },
      {
       "output_type": "stream",
       "stream": "stdout",
       "text": [
        "\r",
        "Image 248 of 1917 done"
       ]
      },
      {
       "output_type": "stream",
       "stream": "stdout",
       "text": [
        "\r",
        "Image 254 of 1917 done"
       ]
      },
      {
       "output_type": "stream",
       "stream": "stdout",
       "text": [
        "\r",
        "Image 260 of 1917 done"
       ]
      },
      {
       "output_type": "stream",
       "stream": "stdout",
       "text": [
        "\r",
        "Image 265 of 1917 done"
       ]
      },
      {
       "output_type": "stream",
       "stream": "stdout",
       "text": [
        "\r",
        "Image 271 of 1917 done"
       ]
      },
      {
       "output_type": "stream",
       "stream": "stdout",
       "text": [
        "\r",
        "Image 277 of 1917 done"
       ]
      },
      {
       "output_type": "stream",
       "stream": "stdout",
       "text": [
        "\r",
        "Image 283 of 1917 done"
       ]
      },
      {
       "output_type": "stream",
       "stream": "stdout",
       "text": [
        "\r",
        "Image 289 of 1917 done"
       ]
      },
      {
       "output_type": "stream",
       "stream": "stdout",
       "text": [
        "\r",
        "Image 294 of 1917 done"
       ]
      },
      {
       "output_type": "stream",
       "stream": "stdout",
       "text": [
        "\r",
        "Image 300 of 1917 done"
       ]
      },
      {
       "output_type": "stream",
       "stream": "stdout",
       "text": [
        "\r",
        "Image 306 of 1917 done"
       ]
      },
      {
       "output_type": "stream",
       "stream": "stdout",
       "text": [
        "\r",
        "Image 312 of 1917 done"
       ]
      },
      {
       "output_type": "stream",
       "stream": "stdout",
       "text": [
        "\r",
        "Image 318 of 1917 done"
       ]
      },
      {
       "output_type": "stream",
       "stream": "stdout",
       "text": [
        "\r",
        "Image 324 of 1917 done"
       ]
      },
      {
       "output_type": "stream",
       "stream": "stdout",
       "text": [
        "\r",
        "Image 330 of 1917 done"
       ]
      },
      {
       "output_type": "stream",
       "stream": "stdout",
       "text": [
        "\r",
        "Image 336 of 1917 done"
       ]
      },
      {
       "output_type": "stream",
       "stream": "stdout",
       "text": [
        "\r",
        "Image 342 of 1917 done"
       ]
      },
      {
       "output_type": "stream",
       "stream": "stdout",
       "text": [
        "\r",
        "Image 348 of 1917 done"
       ]
      },
      {
       "output_type": "stream",
       "stream": "stdout",
       "text": [
        "\r",
        "Image 354 of 1917 done"
       ]
      },
      {
       "output_type": "stream",
       "stream": "stdout",
       "text": [
        "\r",
        "Image 360 of 1917 done"
       ]
      },
      {
       "output_type": "stream",
       "stream": "stdout",
       "text": [
        "\r",
        "Image 367 of 1917 done"
       ]
      },
      {
       "output_type": "stream",
       "stream": "stdout",
       "text": [
        "\r",
        "Image 373 of 1917 done"
       ]
      },
      {
       "output_type": "stream",
       "stream": "stdout",
       "text": [
        "\r",
        "Image 379 of 1917 done"
       ]
      },
      {
       "output_type": "stream",
       "stream": "stdout",
       "text": [
        "\r",
        "Image 386 of 1917 done"
       ]
      },
      {
       "output_type": "stream",
       "stream": "stdout",
       "text": [
        "\r",
        "Image 392 of 1917 done"
       ]
      },
      {
       "output_type": "stream",
       "stream": "stdout",
       "text": [
        "\r",
        "Image 399 of 1917 done"
       ]
      },
      {
       "output_type": "stream",
       "stream": "stdout",
       "text": [
        "\r",
        "Image 405 of 1917 done"
       ]
      },
      {
       "output_type": "stream",
       "stream": "stdout",
       "text": [
        "\r",
        "Image 411 of 1917 done"
       ]
      },
      {
       "output_type": "stream",
       "stream": "stdout",
       "text": [
        "\r",
        "Image 418 of 1917 done"
       ]
      },
      {
       "output_type": "stream",
       "stream": "stdout",
       "text": [
        "\r",
        "Image 424 of 1917 done"
       ]
      },
      {
       "output_type": "stream",
       "stream": "stdout",
       "text": [
        "\r",
        "Image 431 of 1917 done"
       ]
      },
      {
       "output_type": "stream",
       "stream": "stdout",
       "text": [
        "\r",
        "Image 438 of 1917 done"
       ]
      },
      {
       "output_type": "stream",
       "stream": "stdout",
       "text": [
        "\r",
        "Image 444 of 1917 done"
       ]
      },
      {
       "output_type": "stream",
       "stream": "stdout",
       "text": [
        "\r",
        "Image 451 of 1917 done"
       ]
      },
      {
       "output_type": "stream",
       "stream": "stdout",
       "text": [
        "\r",
        "Image 457 of 1917 done"
       ]
      },
      {
       "output_type": "stream",
       "stream": "stdout",
       "text": [
        "\r",
        "Image 464 of 1917 done"
       ]
      },
      {
       "output_type": "stream",
       "stream": "stdout",
       "text": [
        "\r",
        "Image 471 of 1917 done"
       ]
      },
      {
       "output_type": "stream",
       "stream": "stdout",
       "text": [
        "\r",
        "Image 477 of 1917 done"
       ]
      },
      {
       "output_type": "stream",
       "stream": "stdout",
       "text": [
        "\r",
        "Image 484 of 1917 done"
       ]
      },
      {
       "output_type": "stream",
       "stream": "stdout",
       "text": [
        "\r",
        "Image 491 of 1917 done"
       ]
      },
      {
       "output_type": "stream",
       "stream": "stdout",
       "text": [
        "\r",
        "Image 497 of 1917 done"
       ]
      },
      {
       "output_type": "stream",
       "stream": "stdout",
       "text": [
        "\r",
        "Image 504 of 1917 done"
       ]
      },
      {
       "output_type": "stream",
       "stream": "stdout",
       "text": [
        "\r",
        "Image 511 of 1917 done"
       ]
      },
      {
       "output_type": "stream",
       "stream": "stdout",
       "text": [
        "\r",
        "Image 518 of 1917 done"
       ]
      },
      {
       "output_type": "stream",
       "stream": "stdout",
       "text": [
        "\r",
        "Image 525 of 1917 done"
       ]
      },
      {
       "output_type": "stream",
       "stream": "stdout",
       "text": [
        "\r",
        "Image 532 of 1917 done"
       ]
      },
      {
       "output_type": "stream",
       "stream": "stdout",
       "text": [
        "\r",
        "Image 540 of 1917 done"
       ]
      },
      {
       "output_type": "stream",
       "stream": "stdout",
       "text": [
        "\r",
        "Image 547 of 1917 done"
       ]
      },
      {
       "output_type": "stream",
       "stream": "stdout",
       "text": [
        "\r",
        "Image 554 of 1917 done"
       ]
      },
      {
       "output_type": "stream",
       "stream": "stdout",
       "text": [
        "\r",
        "Image 562 of 1917 done"
       ]
      },
      {
       "output_type": "stream",
       "stream": "stdout",
       "text": [
        "\r",
        "Image 569 of 1917 done"
       ]
      },
      {
       "output_type": "stream",
       "stream": "stdout",
       "text": [
        "\r",
        "Image 577 of 1917 done"
       ]
      },
      {
       "output_type": "stream",
       "stream": "stdout",
       "text": [
        "\r",
        "Image 585 of 1917 done"
       ]
      },
      {
       "output_type": "stream",
       "stream": "stdout",
       "text": [
        "\r",
        "Image 593 of 1917 done"
       ]
      },
      {
       "output_type": "stream",
       "stream": "stdout",
       "text": [
        "\r",
        "Image 601 of 1917 done"
       ]
      },
      {
       "output_type": "stream",
       "stream": "stdout",
       "text": [
        "\r",
        "Image 609 of 1917 done"
       ]
      },
      {
       "output_type": "stream",
       "stream": "stdout",
       "text": [
        "\r",
        "Image 617 of 1917 done"
       ]
      },
      {
       "output_type": "stream",
       "stream": "stdout",
       "text": [
        "\r",
        "Image 625 of 1917 done"
       ]
      },
      {
       "output_type": "stream",
       "stream": "stdout",
       "text": [
        "\r",
        "Image 633 of 1917 done"
       ]
      },
      {
       "output_type": "stream",
       "stream": "stdout",
       "text": [
        "\r",
        "Image 641 of 1917 done"
       ]
      },
      {
       "output_type": "stream",
       "stream": "stdout",
       "text": [
        "\r",
        "Image 650 of 1917 done"
       ]
      },
      {
       "output_type": "stream",
       "stream": "stdout",
       "text": [
        "\r",
        "Image 658 of 1917 done"
       ]
      },
      {
       "output_type": "stream",
       "stream": "stdout",
       "text": [
        "\r",
        "Image 666 of 1917 done"
       ]
      },
      {
       "output_type": "stream",
       "stream": "stdout",
       "text": [
        "\r",
        "Image 674 of 1917 done"
       ]
      },
      {
       "output_type": "stream",
       "stream": "stdout",
       "text": [
        "\r",
        "Image 682 of 1917 done"
       ]
      },
      {
       "output_type": "stream",
       "stream": "stdout",
       "text": [
        "\r",
        "Image 691 of 1917 done"
       ]
      },
      {
       "output_type": "stream",
       "stream": "stdout",
       "text": [
        "\r",
        "Image 699 of 1917 done"
       ]
      },
      {
       "output_type": "stream",
       "stream": "stdout",
       "text": [
        "\r",
        "Image 707 of 1917 done"
       ]
      },
      {
       "output_type": "stream",
       "stream": "stdout",
       "text": [
        "\r",
        "Image 715 of 1917 done"
       ]
      },
      {
       "output_type": "stream",
       "stream": "stdout",
       "text": [
        "\r",
        "Image 724 of 1917 done"
       ]
      },
      {
       "output_type": "stream",
       "stream": "stdout",
       "text": [
        "\r",
        "Image 732 of 1917 done"
       ]
      },
      {
       "output_type": "stream",
       "stream": "stdout",
       "text": [
        "\r",
        "Image 741 of 1917 done"
       ]
      },
      {
       "output_type": "stream",
       "stream": "stdout",
       "text": [
        "\r",
        "Image 749 of 1917 done"
       ]
      },
      {
       "output_type": "stream",
       "stream": "stdout",
       "text": [
        "\r",
        "Image 758 of 1917 done"
       ]
      },
      {
       "output_type": "stream",
       "stream": "stdout",
       "text": [
        "\r",
        "Image 767 of 1917 done"
       ]
      },
      {
       "output_type": "stream",
       "stream": "stdout",
       "text": [
        "\r",
        "Image 776 of 1917 done"
       ]
      },
      {
       "output_type": "stream",
       "stream": "stdout",
       "text": [
        "\r",
        "Image 785 of 1917 done"
       ]
      },
      {
       "output_type": "stream",
       "stream": "stdout",
       "text": [
        "\r",
        "Image 794 of 1917 done"
       ]
      },
      {
       "output_type": "stream",
       "stream": "stdout",
       "text": [
        "\r",
        "Image 803 of 1917 done"
       ]
      },
      {
       "output_type": "stream",
       "stream": "stdout",
       "text": [
        "\r",
        "Image 812 of 1917 done"
       ]
      },
      {
       "output_type": "stream",
       "stream": "stdout",
       "text": [
        "\r",
        "Image 821 of 1917 done"
       ]
      },
      {
       "output_type": "stream",
       "stream": "stdout",
       "text": [
        "\r",
        "Image 831 of 1917 done"
       ]
      },
      {
       "output_type": "stream",
       "stream": "stdout",
       "text": [
        "\r",
        "Image 840 of 1917 done"
       ]
      },
      {
       "output_type": "stream",
       "stream": "stdout",
       "text": [
        "\r",
        "Image 850 of 1917 done"
       ]
      },
      {
       "output_type": "stream",
       "stream": "stdout",
       "text": [
        "\r",
        "Image 859 of 1917 done"
       ]
      },
      {
       "output_type": "stream",
       "stream": "stdout",
       "text": [
        "\r",
        "Image 868 of 1917 done"
       ]
      },
      {
       "output_type": "stream",
       "stream": "stdout",
       "text": [
        "\r",
        "Image 878 of 1917 done"
       ]
      },
      {
       "output_type": "stream",
       "stream": "stdout",
       "text": [
        "\r",
        "Image 887 of 1917 done"
       ]
      },
      {
       "output_type": "stream",
       "stream": "stdout",
       "text": [
        "\r",
        "Image 896 of 1917 done"
       ]
      },
      {
       "output_type": "stream",
       "stream": "stdout",
       "text": [
        "\r",
        "Image 905 of 1917 done"
       ]
      },
      {
       "output_type": "stream",
       "stream": "stdout",
       "text": [
        "\r",
        "Image 915 of 1917 done"
       ]
      },
      {
       "output_type": "stream",
       "stream": "stdout",
       "text": [
        "\r",
        "Image 924 of 1917 done"
       ]
      },
      {
       "output_type": "stream",
       "stream": "stdout",
       "text": [
        "\r",
        "Image 933 of 1917 done"
       ]
      },
      {
       "output_type": "stream",
       "stream": "stdout",
       "text": [
        "\r",
        "Image 942 of 1917 done"
       ]
      },
      {
       "output_type": "stream",
       "stream": "stdout",
       "text": [
        "\r",
        "Image 951 of 1917 done"
       ]
      },
      {
       "output_type": "stream",
       "stream": "stdout",
       "text": [
        "\r",
        "Image 961 of 1917 done"
       ]
      },
      {
       "output_type": "stream",
       "stream": "stdout",
       "text": [
        "\r",
        "Image 970 of 1917 done"
       ]
      },
      {
       "output_type": "stream",
       "stream": "stdout",
       "text": [
        "\r",
        "Image 979 of 1917 done"
       ]
      },
      {
       "output_type": "stream",
       "stream": "stdout",
       "text": [
        "\r",
        "Image 988 of 1917 done"
       ]
      },
      {
       "output_type": "stream",
       "stream": "stdout",
       "text": [
        "\r",
        "Image 997 of 1917 done"
       ]
      },
      {
       "output_type": "stream",
       "stream": "stdout",
       "text": [
        "\r",
        "Image 1006 of 1917 done"
       ]
      },
      {
       "output_type": "stream",
       "stream": "stdout",
       "text": [
        "\r",
        "Image 1016 of 1917 done"
       ]
      },
      {
       "output_type": "stream",
       "stream": "stdout",
       "text": [
        "\r",
        "Image 1025 of 1917 done"
       ]
      },
      {
       "output_type": "stream",
       "stream": "stdout",
       "text": [
        "\r",
        "Image 1034 of 1917 done"
       ]
      },
      {
       "output_type": "stream",
       "stream": "stdout",
       "text": [
        "\r",
        "Image 1044 of 1917 done"
       ]
      },
      {
       "output_type": "stream",
       "stream": "stdout",
       "text": [
        "\r",
        "Image 1053 of 1917 done"
       ]
      },
      {
       "output_type": "stream",
       "stream": "stdout",
       "text": [
        "\r",
        "Image 1063 of 1917 done"
       ]
      },
      {
       "output_type": "stream",
       "stream": "stdout",
       "text": [
        "\r",
        "Image 1072 of 1917 done"
       ]
      },
      {
       "output_type": "stream",
       "stream": "stdout",
       "text": [
        "\r",
        "Image 1081 of 1917 done"
       ]
      },
      {
       "output_type": "stream",
       "stream": "stdout",
       "text": [
        "\r",
        "Image 1091 of 1917 done"
       ]
      },
      {
       "output_type": "stream",
       "stream": "stdout",
       "text": [
        "\r",
        "Image 1101 of 1917 done"
       ]
      },
      {
       "output_type": "stream",
       "stream": "stdout",
       "text": [
        "\r",
        "Image 1110 of 1917 done"
       ]
      },
      {
       "output_type": "stream",
       "stream": "stdout",
       "text": [
        "\r",
        "Image 1119 of 1917 done"
       ]
      },
      {
       "output_type": "stream",
       "stream": "stdout",
       "text": [
        "\r",
        "Image 1129 of 1917 done"
       ]
      },
      {
       "output_type": "stream",
       "stream": "stdout",
       "text": [
        "\r",
        "Image 1138 of 1917 done"
       ]
      },
      {
       "output_type": "stream",
       "stream": "stdout",
       "text": [
        "\r",
        "Image 1148 of 1917 done"
       ]
      },
      {
       "output_type": "stream",
       "stream": "stdout",
       "text": [
        "\r",
        "Image 1157 of 1917 done"
       ]
      },
      {
       "output_type": "stream",
       "stream": "stdout",
       "text": [
        "\r",
        "Image 1166 of 1917 done"
       ]
      },
      {
       "output_type": "stream",
       "stream": "stdout",
       "text": [
        "\r",
        "Image 1175 of 1917 done"
       ]
      },
      {
       "output_type": "stream",
       "stream": "stdout",
       "text": [
        "\r",
        "Image 1184 of 1917 done"
       ]
      },
      {
       "output_type": "stream",
       "stream": "stdout",
       "text": [
        "\r",
        "Image 1193 of 1917 done"
       ]
      },
      {
       "output_type": "stream",
       "stream": "stdout",
       "text": [
        "\r",
        "Image 1202 of 1917 done"
       ]
      },
      {
       "output_type": "stream",
       "stream": "stdout",
       "text": [
        "\r",
        "Image 1210 of 1917 done"
       ]
      },
      {
       "output_type": "stream",
       "stream": "stdout",
       "text": [
        "\r",
        "Image 1219 of 1917 done"
       ]
      },
      {
       "output_type": "stream",
       "stream": "stdout",
       "text": [
        "\r",
        "Image 1228 of 1917 done"
       ]
      },
      {
       "output_type": "stream",
       "stream": "stdout",
       "text": [
        "\r",
        "Image 1236 of 1917 done"
       ]
      },
      {
       "output_type": "stream",
       "stream": "stdout",
       "text": [
        "\r",
        "Image 1245 of 1917 done"
       ]
      },
      {
       "output_type": "stream",
       "stream": "stdout",
       "text": [
        "\r",
        "Image 1253 of 1917 done"
       ]
      },
      {
       "output_type": "stream",
       "stream": "stdout",
       "text": [
        "\r",
        "Image 1261 of 1917 done"
       ]
      },
      {
       "output_type": "stream",
       "stream": "stdout",
       "text": [
        "\r",
        "Image 1270 of 1917 done"
       ]
      },
      {
       "output_type": "stream",
       "stream": "stdout",
       "text": [
        "\r",
        "Image 1278 of 1917 done"
       ]
      },
      {
       "output_type": "stream",
       "stream": "stdout",
       "text": [
        "\r",
        "Image 1287 of 1917 done"
       ]
      },
      {
       "output_type": "stream",
       "stream": "stdout",
       "text": [
        "\r",
        "Image 1295 of 1917 done"
       ]
      },
      {
       "output_type": "stream",
       "stream": "stdout",
       "text": [
        "\r",
        "Image 1303 of 1917 done"
       ]
      },
      {
       "output_type": "stream",
       "stream": "stdout",
       "text": [
        "\r",
        "Image 1312 of 1917 done"
       ]
      },
      {
       "output_type": "stream",
       "stream": "stdout",
       "text": [
        "\r",
        "Image 1320 of 1917 done"
       ]
      },
      {
       "output_type": "stream",
       "stream": "stdout",
       "text": [
        "\r",
        "Image 1328 of 1917 done"
       ]
      },
      {
       "output_type": "stream",
       "stream": "stdout",
       "text": [
        "\r",
        "Image 1336 of 1917 done"
       ]
      },
      {
       "output_type": "stream",
       "stream": "stdout",
       "text": [
        "\r",
        "Image 1344 of 1917 done"
       ]
      },
      {
       "output_type": "stream",
       "stream": "stdout",
       "text": [
        "\r",
        "Image 1353 of 1917 done"
       ]
      },
      {
       "output_type": "stream",
       "stream": "stdout",
       "text": [
        "\r",
        "Image 1361 of 1917 done"
       ]
      },
      {
       "output_type": "stream",
       "stream": "stdout",
       "text": [
        "\r",
        "Image 1369 of 1917 done"
       ]
      },
      {
       "output_type": "stream",
       "stream": "stdout",
       "text": [
        "\r",
        "Image 1377 of 1917 done"
       ]
      },
      {
       "output_type": "stream",
       "stream": "stdout",
       "text": [
        "\r",
        "Image 1384 of 1917 done"
       ]
      },
      {
       "output_type": "stream",
       "stream": "stdout",
       "text": [
        "\r",
        "Image 1392 of 1917 done"
       ]
      },
      {
       "output_type": "stream",
       "stream": "stdout",
       "text": [
        "\r",
        "Image 1400 of 1917 done"
       ]
      },
      {
       "output_type": "stream",
       "stream": "stdout",
       "text": [
        "\r",
        "Image 1408 of 1917 done"
       ]
      },
      {
       "output_type": "stream",
       "stream": "stdout",
       "text": [
        "\r",
        "Image 1415 of 1917 done"
       ]
      },
      {
       "output_type": "stream",
       "stream": "stdout",
       "text": [
        "\r",
        "Image 1423 of 1917 done"
       ]
      },
      {
       "output_type": "stream",
       "stream": "stdout",
       "text": [
        "\r",
        "Image 1430 of 1917 done"
       ]
      },
      {
       "output_type": "stream",
       "stream": "stdout",
       "text": [
        "\r",
        "Image 1438 of 1917 done"
       ]
      },
      {
       "output_type": "stream",
       "stream": "stdout",
       "text": [
        "\r",
        "Image 1445 of 1917 done"
       ]
      },
      {
       "output_type": "stream",
       "stream": "stdout",
       "text": [
        "\r",
        "Image 1453 of 1917 done"
       ]
      },
      {
       "output_type": "stream",
       "stream": "stdout",
       "text": [
        "\r",
        "Image 1460 of 1917 done"
       ]
      },
      {
       "output_type": "stream",
       "stream": "stdout",
       "text": [
        "\r",
        "Image 1468 of 1917 done"
       ]
      },
      {
       "output_type": "stream",
       "stream": "stdout",
       "text": [
        "\r",
        "Image 1475 of 1917 done"
       ]
      },
      {
       "output_type": "stream",
       "stream": "stdout",
       "text": [
        "\r",
        "Image 1483 of 1917 done"
       ]
      },
      {
       "output_type": "stream",
       "stream": "stdout",
       "text": [
        "\r",
        "Image 1491 of 1917 done"
       ]
      },
      {
       "output_type": "stream",
       "stream": "stdout",
       "text": [
        "\r",
        "Image 1499 of 1917 done"
       ]
      },
      {
       "output_type": "stream",
       "stream": "stdout",
       "text": [
        "\r",
        "Image 1506 of 1917 done"
       ]
      },
      {
       "output_type": "stream",
       "stream": "stdout",
       "text": [
        "\r",
        "Image 1514 of 1917 done"
       ]
      },
      {
       "output_type": "stream",
       "stream": "stdout",
       "text": [
        "\r",
        "Image 1522 of 1917 done"
       ]
      },
      {
       "output_type": "stream",
       "stream": "stdout",
       "text": [
        "\r",
        "Image 1530 of 1917 done"
       ]
      },
      {
       "output_type": "stream",
       "stream": "stdout",
       "text": [
        "\r",
        "Image 1539 of 1917 done"
       ]
      },
      {
       "output_type": "stream",
       "stream": "stdout",
       "text": [
        "\r",
        "Image 1547 of 1917 done"
       ]
      },
      {
       "output_type": "stream",
       "stream": "stdout",
       "text": [
        "\r",
        "Image 1555 of 1917 done"
       ]
      },
      {
       "output_type": "stream",
       "stream": "stdout",
       "text": [
        "\r",
        "Image 1563 of 1917 done"
       ]
      },
      {
       "output_type": "stream",
       "stream": "stdout",
       "text": [
        "\r",
        "Image 1572 of 1917 done"
       ]
      },
      {
       "output_type": "stream",
       "stream": "stdout",
       "text": [
        "\r",
        "Image 1580 of 1917 done"
       ]
      },
      {
       "output_type": "stream",
       "stream": "stdout",
       "text": [
        "\r",
        "Image 1588 of 1917 done"
       ]
      },
      {
       "output_type": "stream",
       "stream": "stdout",
       "text": [
        "\r",
        "Image 1597 of 1917 done"
       ]
      },
      {
       "output_type": "stream",
       "stream": "stdout",
       "text": [
        "\r",
        "Image 1605 of 1917 done"
       ]
      },
      {
       "output_type": "stream",
       "stream": "stdout",
       "text": [
        "\r",
        "Image 1614 of 1917 done"
       ]
      },
      {
       "output_type": "stream",
       "stream": "stdout",
       "text": [
        "\r",
        "Image 1622 of 1917 done"
       ]
      },
      {
       "output_type": "stream",
       "stream": "stdout",
       "text": [
        "\r",
        "Image 1630 of 1917 done"
       ]
      },
      {
       "output_type": "stream",
       "stream": "stdout",
       "text": [
        "\r",
        "Image 1638 of 1917 done"
       ]
      },
      {
       "output_type": "stream",
       "stream": "stdout",
       "text": [
        "\r",
        "Image 1646 of 1917 done"
       ]
      },
      {
       "output_type": "stream",
       "stream": "stdout",
       "text": [
        "\r",
        "Image 1654 of 1917 done"
       ]
      },
      {
       "output_type": "stream",
       "stream": "stdout",
       "text": [
        "\r",
        "Image 1662 of 1917 done"
       ]
      },
      {
       "output_type": "stream",
       "stream": "stdout",
       "text": [
        "\r",
        "Image 1670 of 1917 done"
       ]
      },
      {
       "output_type": "stream",
       "stream": "stdout",
       "text": [
        "\r",
        "Image 1677 of 1917 done"
       ]
      },
      {
       "output_type": "stream",
       "stream": "stdout",
       "text": [
        "\r",
        "Image 1685 of 1917 done"
       ]
      },
      {
       "output_type": "stream",
       "stream": "stdout",
       "text": [
        "\r",
        "Image 1692 of 1917 done"
       ]
      },
      {
       "output_type": "stream",
       "stream": "stdout",
       "text": [
        "\r",
        "Image 1700 of 1917 done"
       ]
      },
      {
       "output_type": "stream",
       "stream": "stdout",
       "text": [
        "\r",
        "Image 1707 of 1917 done"
       ]
      },
      {
       "output_type": "stream",
       "stream": "stdout",
       "text": [
        "\r",
        "Image 1714 of 1917 done"
       ]
      },
      {
       "output_type": "stream",
       "stream": "stdout",
       "text": [
        "\r",
        "Image 1721 of 1917 done"
       ]
      },
      {
       "output_type": "stream",
       "stream": "stdout",
       "text": [
        "\r",
        "Image 1728 of 1917 done"
       ]
      },
      {
       "output_type": "stream",
       "stream": "stdout",
       "text": [
        "\r",
        "Image 1735 of 1917 done"
       ]
      },
      {
       "output_type": "stream",
       "stream": "stdout",
       "text": [
        "\r",
        "Image 1742 of 1917 done"
       ]
      },
      {
       "output_type": "stream",
       "stream": "stdout",
       "text": [
        "\r",
        "Image 1749 of 1917 done"
       ]
      },
      {
       "output_type": "stream",
       "stream": "stdout",
       "text": [
        "\r",
        "Image 1756 of 1917 done"
       ]
      },
      {
       "output_type": "stream",
       "stream": "stdout",
       "text": [
        "\r",
        "Image 1763 of 1917 done"
       ]
      },
      {
       "output_type": "stream",
       "stream": "stdout",
       "text": [
        "\r",
        "Image 1770 of 1917 done"
       ]
      },
      {
       "output_type": "stream",
       "stream": "stdout",
       "text": [
        "\r",
        "Image 1776 of 1917 done"
       ]
      },
      {
       "output_type": "stream",
       "stream": "stdout",
       "text": [
        "\r",
        "Image 1783 of 1917 done"
       ]
      },
      {
       "output_type": "stream",
       "stream": "stdout",
       "text": [
        "\r",
        "Image 1789 of 1917 done"
       ]
      },
      {
       "output_type": "stream",
       "stream": "stdout",
       "text": [
        "\r",
        "Image 1796 of 1917 done"
       ]
      },
      {
       "output_type": "stream",
       "stream": "stdout",
       "text": [
        "\r",
        "Image 1802 of 1917 done"
       ]
      },
      {
       "output_type": "stream",
       "stream": "stdout",
       "text": [
        "\r",
        "Image 1809 of 1917 done"
       ]
      },
      {
       "output_type": "stream",
       "stream": "stdout",
       "text": [
        "\r",
        "Image 1815 of 1917 done"
       ]
      },
      {
       "output_type": "stream",
       "stream": "stdout",
       "text": [
        "\r",
        "Image 1822 of 1917 done"
       ]
      },
      {
       "output_type": "stream",
       "stream": "stdout",
       "text": [
        "\r",
        "Image 1828 of 1917 done"
       ]
      },
      {
       "output_type": "stream",
       "stream": "stdout",
       "text": [
        "\r",
        "Image 1834 of 1917 done"
       ]
      },
      {
       "output_type": "stream",
       "stream": "stdout",
       "text": [
        "\r",
        "Image 1840 of 1917 done"
       ]
      },
      {
       "output_type": "stream",
       "stream": "stdout",
       "text": [
        "\r",
        "Image 1846 of 1917 done"
       ]
      },
      {
       "output_type": "stream",
       "stream": "stdout",
       "text": [
        "\r",
        "Image 1852 of 1917 done"
       ]
      },
      {
       "output_type": "stream",
       "stream": "stdout",
       "text": [
        "\r",
        "Image 1858 of 1917 done"
       ]
      },
      {
       "output_type": "stream",
       "stream": "stdout",
       "text": [
        "\r",
        "Image 1864 of 1917 done"
       ]
      },
      {
       "output_type": "stream",
       "stream": "stdout",
       "text": [
        "\r",
        "Image 1870 of 1917 done"
       ]
      },
      {
       "output_type": "stream",
       "stream": "stdout",
       "text": [
        "\r",
        "Image 1875 of 1917 done"
       ]
      },
      {
       "output_type": "stream",
       "stream": "stdout",
       "text": [
        "\r",
        "Image 1880 of 1917 done"
       ]
      },
      {
       "output_type": "stream",
       "stream": "stdout",
       "text": [
        "\r",
        "Image 1886 of 1917 done"
       ]
      },
      {
       "output_type": "stream",
       "stream": "stdout",
       "text": [
        "\r",
        "Image 1890 of 1917 done"
       ]
      },
      {
       "output_type": "stream",
       "stream": "stdout",
       "text": [
        "\r",
        "Image 1895 of 1917 done"
       ]
      },
      {
       "output_type": "stream",
       "stream": "stdout",
       "text": [
        "\r",
        "Image 1899 of 1917 done"
       ]
      },
      {
       "output_type": "stream",
       "stream": "stdout",
       "text": [
        "\r",
        "Image 1903 of 1917 done"
       ]
      },
      {
       "output_type": "stream",
       "stream": "stdout",
       "text": [
        "\r",
        "Image 1907 of 1917 done"
       ]
      },
      {
       "output_type": "stream",
       "stream": "stdout",
       "text": [
        "\r",
        "Image 1910 of 1917 done"
       ]
      },
      {
       "output_type": "stream",
       "stream": "stdout",
       "text": [
        "\r",
        "Image 1912 of 1917 done"
       ]
      },
      {
       "output_type": "stream",
       "stream": "stdout",
       "text": [
        "\r",
        "Image 1914 of 1917 done"
       ]
      },
      {
       "output_type": "stream",
       "stream": "stdout",
       "text": [
        "\r",
        "Image 1916 of 1917 done"
       ]
      },
      {
       "output_type": "stream",
       "stream": "stdout",
       "text": [
        "\r",
        "Image 1917 of 1917 done"
       ]
      }
     ],
     "prompt_number": 173
    },
    {
     "cell_type": "code",
     "collapsed": false,
     "input": [
      "class ImageLabel(QtGui.QLabel) :\n",
      "    \n",
      "    def __init__(self, text=\"\", parent=None):\n",
      "        super(ImageLabel, self).__init__(text, parent)\n",
      "        \n",
      "        self.image = None\n",
      "        self.footprint = None\n",
      "        \n",
      "    def setImage(self, image) : \n",
      "        self.image = image.copy()\n",
      "        self.setMinimumSize(self.image.size())\n",
      "        self.update()\n",
      "        \n",
      "    def setFootprint(self, footprint) :\n",
      "        self.footprint = footprint\n",
      "        \n",
      "    def paintEvent(self, event):\n",
      "        super(ImageLabel, self).paintEvent(event)\n",
      "        painter = QtGui.QPainter(self)\n",
      "        \n",
      "        if self.image != None :\n",
      "            upperLeft = (self.width()/2-self.image.width()/2, self.height()-self.image.height())\n",
      "            \n",
      "            ## draw image\n",
      "            painter.drawImage(QtCore.QPoint(upperLeft[0], upperLeft[1]), self.image)\n",
      "            \n",
      "        if self.footprint != None :\n",
      "            ## draw footprint\n",
      "            painter.setPen(QtGui.QPen(QtGui.QColor.fromRgb(0, 0, 255, 255), 3, \n",
      "                          QtCore.Qt.SolidLine, QtCore.Qt.RoundCap, QtCore.Qt.RoundJoin))\n",
      "            ## draw bbox\n",
      "                    \n",
      "            for p1, p2 in zip(np.mod(arange(4), 4), np.mod(arange(1, 5), 4)) :\n",
      "                painter.drawLine(QtCore.QPointF(self.footprint[p1, 0], self.footprint[p1, 1]), \n",
      "                                 QtCore.QPointF(self.footprint[p2, 0], self.footprint[p2, 1]))\n",
      "                \n",
      "                \n",
      "class Window(QtGui.QWidget):\n",
      "    def __init__(self):\n",
      "        super(Window, self).__init__()\n",
      "        \n",
      "        self.setWindowTitle(\"Resampled Sprites\")\n",
      "        self.resize(1280, 720)\n",
      "        \n",
      "        self.playIcon = QtGui.QIcon(\"play.png\")\n",
      "        self.pauseIcon = QtGui.QIcon(\"pause.png\")\n",
      "        self.doPlaySequence = False\n",
      "        \n",
      "        self.playTimer = QtCore.QTimer(self)\n",
      "        self.playTimer.setInterval(1000/30)\n",
      "        self.playTimer.timeout.connect(self.renderOneFrame)\n",
      "        self.lastRenderTime = time.time()\n",
      "        self.oldInfoText = \"\"\n",
      "        \n",
      "        self.createGUI()\n",
      "        \n",
      "        self.frameIdx = 0\n",
      "        self.spriteIdx = 8\n",
      "        self.frameLocs = np.sort(glob.glob(saveLocation + trackedSprites[self.spriteIdx][DICT_SEQUENCE_NAME]+ \"/frame-*.png\"))\n",
      "        self.savedData = numpy.loadtxt(saveLocation+trackedSprites[self.spriteIdx][DICT_SEQUENCE_NAME]+\".csv\", delimiter=\",\")\n",
      "        self.renderOneFrame()\n",
      "        \n",
      "        self.setFocus()\n",
      "        \n",
      "    def renderOneFrame(self) :\n",
      "        ## get background image\n",
      "        if self.frameIdx >= 0 and self.frameIdx < len(self.frameLocs) :\n",
      "            sprite = cv2.imread(self.frameLocs[self.frameIdx], cv2.CV_LOAD_IMAGE_UNCHANGED)[:, :, [2, 1, 0, 3]]\n",
      "            im = np.copy(bgImage)\n",
      "            fgPixels = np.argwhere(sprite[:, :, -1] != 0)\n",
      "            im[fgPixels[:, 0]+int(self.savedData[self.frameIdx, 1]), fgPixels[:, 1]+int(self.savedData[self.frameIdx, 0]), :] = sprite[fgPixels[:, 0], fgPixels[:, 1], :-1]\n",
      "            \n",
      "            self.im = np.ascontiguousarray(im)\n",
      "            img = QtGui.QImage(self.im.data, self.im.shape[1], self.im.shape[0], self.im.strides[0], QtGui.QImage.Format_RGB888);\n",
      "            self.frameLabel.setImage(img)\n",
      "            self.frameLabel.setFootprint(np.array([self.savedData[self.frameIdx, [2, 4, 6, 8, 2]], self.savedData[self.frameIdx, [3, 5, 7, 9, 3]]]).T)\n",
      "\n",
      "            self.frameInfo.setText(\"Rendering at \" + np.string_(int(1.0/(time.time() - self.lastRenderTime))) + \" FPS\\n\" + \n",
      "                                   self.frameLocs[self.frameIdx])\n",
      "            self.lastRenderTime = time.time()\n",
      "            self.frameIdx = np.mod(self.frameIdx+1, len(self.frameLocs))\n",
      "            \n",
      "    def closeEvent(self, event) :\n",
      "        print \"closing\"\n",
      "        sys.stdout.flush()\n",
      "    \n",
      "    def playSequenceButtonPressed(self) :\n",
      "        if self.doPlaySequence :\n",
      "            self.doPlaySequence = False\n",
      "            self.playSequenceButton.setIcon(self.playIcon)\n",
      "            self.playTimer.stop()\n",
      "            \n",
      "            self.frameInfo.setText(self.oldInfoText)\n",
      "        else :\n",
      "            self.lastRenderTime = time.time()\n",
      "            self.doPlaySequence = True\n",
      "            self.playSequenceButton.setIcon(self.pauseIcon)\n",
      "            self.playTimer.start()\n",
      "            \n",
      "            self.oldInfoText = self.frameInfo.text()\n",
      "            \n",
      "    def setRenderFps(self, value) :\n",
      "        self.playTimer.setInterval(1000/value)\n",
      "        \n",
      "    def setBackgroundColor(self) :\n",
      "        newBgColor = QtGui.QColorDialog.getColor(QtCore.Qt.black, self, \"Choose Background Color\")\n",
      "        self.frameLabel.setBackgroundColor(newBgColor)\n",
      "        \n",
      "    def createGUI(self) :\n",
      "        \n",
      "        ## WIDGETS ##\n",
      "        \n",
      "        self.frameLabel = ImageLabel(\"Frame\")\n",
      "        self.frameLabel.setSizePolicy(QtGui.QSizePolicy.MinimumExpanding, QtGui.QSizePolicy.MinimumExpanding)\n",
      "        self.frameLabel.setAlignment(QtCore.Qt.AlignCenter | QtCore.Qt.AlignHCenter)\n",
      "        self.frameLabel.installEventFilter(self)\n",
      "        \n",
      "        self.frameInfo = QtGui.QLabel(\"Info text\")\n",
      "        self.frameInfo.setAlignment(QtCore.Qt.AlignCenter | QtCore.Qt.AlignHCenter)\n",
      "        \n",
      "        self.renderFpsSpinBox = QtGui.QSpinBox()\n",
      "        self.renderFpsSpinBox.setRange(1, 60)\n",
      "        self.renderFpsSpinBox.setSingleStep(1)\n",
      "        self.renderFpsSpinBox.setValue(30)\n",
      "        \n",
      "        self.playSequenceButton = QtGui.QToolButton()\n",
      "        self.playSequenceButton.setToolTip(\"Play Generated Sequence\")\n",
      "        self.playSequenceButton.setCheckable(False)\n",
      "        self.playSequenceButton.setShortcut(QtGui.QKeySequence(\"Alt+P\"))\n",
      "        self.playSequenceButton.setSizePolicy(QtGui.QSizePolicy.MinimumExpanding, QtGui.QSizePolicy.Maximum)\n",
      "        self.playSequenceButton.setIcon(self.playIcon)\n",
      "        \n",
      "        self.setBackgroundColorButton = QtGui.QPushButton(\"&Background Color\")\n",
      "        \n",
      "        \n",
      "        ## SIGNALS ##\n",
      "        \n",
      "        self.renderFpsSpinBox.valueChanged[int].connect(self.setRenderFps)\n",
      "        \n",
      "        self.playSequenceButton.clicked.connect(self.playSequenceButtonPressed)\n",
      "        self.setBackgroundColorButton.clicked.connect(self.setBackgroundColor)\n",
      "        \n",
      "        ## LAYOUTS ##\n",
      "        \n",
      "        mainLayout = QtGui.QHBoxLayout()\n",
      "        \n",
      "        renderingControls = QtGui.QGroupBox(\"Rendering Controls\")\n",
      "        renderingControls.setSizePolicy(QtGui.QSizePolicy.Maximum, QtGui.QSizePolicy.Maximum)\n",
      "        renderingControls.setStyleSheet(\"QGroupBox { margin: 5px; border: 2px groove gray; border-radius: 3px; } QGroupBox::title {left: 15px; top: -7px; font: bold;}\")\n",
      "        renderingControlsLayout = QtGui.QVBoxLayout()\n",
      "        renderingControlsLayout.addWidget(self.playSequenceButton)\n",
      "        renderingControlsLayout.addWidget(self.renderFpsSpinBox)\n",
      "        renderingControlsLayout.addWidget(self.setBackgroundColorButton)\n",
      "        renderingControls.setLayout(renderingControlsLayout)        \n",
      "        \n",
      "        controlsLayout = QtGui.QVBoxLayout()\n",
      "        controlsLayout.addWidget(renderingControls)\n",
      "        \n",
      "        frameHLayout = QtGui.QHBoxLayout()\n",
      "        frameHLayout.addStretch()\n",
      "        frameHLayout.addWidget(self.frameLabel)\n",
      "        frameHLayout.addStretch()\n",
      "        \n",
      "        frameVLayout = QtGui.QVBoxLayout()\n",
      "        frameVLayout.addStretch()\n",
      "        frameVLayout.addLayout(frameHLayout)\n",
      "        frameVLayout.addStretch()\n",
      "        frameVLayout.addWidget(self.frameInfo)\n",
      "        \n",
      "        mainLayout.addLayout(controlsLayout)\n",
      "        mainLayout.addLayout(frameVLayout)\n",
      "        self.setLayout(mainLayout)"
     ],
     "language": "python",
     "metadata": {},
     "outputs": [],
     "prompt_number": 177
    },
    {
     "cell_type": "code",
     "collapsed": false,
     "input": [
      "window = Window()\n",
      "window.show()\n",
      "app.exec_()"
     ],
     "language": "python",
     "metadata": {},
     "outputs": [
      {
       "output_type": "stream",
       "stream": "stdout",
       "text": [
        "closing\n"
       ]
      },
      {
       "metadata": {},
       "output_type": "pyout",
       "prompt_number": 178,
       "text": [
        "0"
       ]
      }
     ],
     "prompt_number": 178
=======
        "[[  318.83364363   510.49072761]\n",
        " [  550.10310076   371.19169802]\n",
        " [ 1324.37501958   722.66617071]\n",
        " [ 1949.80930611  2183.05522977]]\n"
       ]
      }
     ],
     "prompt_number": 112
>>>>>>> fe1b005d2ec4d7eb0bc61da731ff4fa25b905e36
    },
    {
     "cell_type": "code",
     "collapsed": false,
     "input": [
      "# class Window(QtGui.QWidget):\n",
      "#     def __init__(self):\n",
      "#         super(Window, self).__init__()\n",
      "        \n",
      "#         ## parameters cahnged through UI\n",
      "#         self.spriteIdx = 8\n",
      "#         self.trajectorySmoothness = 15\n",
      "#         self.orientationsSmoothness = 60\n",
      "        \n",
      "#         self.bboxSize = np.array([180, 60], dtype=float)\n",
      "#         self.unitSquareSize = np.array([[500, 300]])\n",
      "#         self.unitSquarePos = np.array([[4000, 2500]])\n",
      "        \n",
      "#         self.trajectorySizeDelta = np.array([[0, 0]])\n",
      "#         self.trajectoryPositionDelta = np.array([[0, 0]])\n",
      "        \n",
      "#         self.distortionParameter = -0.18\n",
      "        \n",
      "#         ## create all widgets and layout\n",
      "#         self.createGUI()\n",
      "        \n",
      "#         self.setWindowTitle(\"Adjust Ground Plane\")\n",
      "#         self.resize(1700, 900)\n",
      "        \n",
      "# #         self.lines = np.array([[299.3, 488.0, 63.0, 238.7], \n",
      "# #                                [508.7, 307.7, 213.7, 217.3], \n",
      "# #                                [401.0, 461.0, 938.5, 138.0], \n",
      "# #                                [1313.7, 602.0, 1087.7, 162.0]], dtype=float)\n",
      "# #         ## manually adjusted\n",
      "# #         self.lines = np.array([[  281.3,   472. ,    46. ,   230.7],\n",
      "# #                                [  458.7,   329.7,   217.7,   220.3],\n",
      "# #                                [  401. ,   461. ,   960.5,   124. ],\n",
      "# #                                [ 1269.7,   595. ,  1069.7,   128. ]], dtype=float)\n",
      "\n",
      "#         ## manually adjusted parameters\n",
      "#         self.lines = np.array([[  281.3,   472. ,    66. ,   251.7],\n",
      "#                                [  458.7,   329.7,   191.7,   224.3],\n",
      "#                                [  401. ,   461. ,   905.5,   161. ],\n",
      "#                                [ 1269.7,   595. ,  1113.7,   186. ]], dtype=float)\n",
      "        \n",
      "        \n",
      "#         self.topDownScaling = np.eye(2)*0.1\n",
      "        \n",
      "#         self.cameraMatrix = np.array([[1280, 0, 640], [0, 1280, 320], [0, 0, 1]])\n",
      "#         self.undistortParameters = np.array([self.distortionParameter, self.distortionParameter, 0.0, 0.0, 0.0])\n",
      "        \n",
      "#         ## plane grid points\n",
      "#         gridIdxs = meshgrid(arange(-8, 1.4, 0.1), arange(-8, 2.6, 0.2))\n",
      "#         xs = np.ndarray.flatten(gridIdxs[0])*self.unitSquareSize[0, 0]+self.unitSquarePos[0, 0]\n",
      "#         ys = np.ndarray.flatten(gridIdxs[1])*self.unitSquareSize[0, 1]+self.unitSquarePos[0, 1]\n",
      "#         self.gridPoints = np.array([xs, ys, np.ones(len(xs))])\n",
      "        \n",
      "#         ## data computed using the manually adjusted parameters\n",
      "#         self.originalTrajectory = None\n",
      "#         self.undistortedTrajectory = None\n",
      "#         self.topDownTrajectory = None\n",
      "#         self.orientations = None #np.zeros(len(self.topDownTrajectory))\n",
      "        \n",
      "#         self.originalGridPoints = None\n",
      "#         self.undistortedGridPoints  = None\n",
      "        \n",
      "#         self.rectangleCorners = None\n",
      "        \n",
      "#         self.homography = np.eye(3)\n",
      "        \n",
      "#         self.originalBgImage = np.ascontiguousarray(Image.open(dataPath+dataSet+\"median.png\"))\n",
      "#         self.undistortedBgImage = None\n",
      "        \n",
      "#         ## UI bookeeping\n",
      "#         self.movingPoint = None\n",
      "#         self.prevMousePosition = QtCore.QPoint(0, 0)\n",
      "        \n",
      "#         ## update the data and views\n",
      "#         self.updateData(True, True, True, True, True, True, True)\n",
      "        \n",
      "# #         self.updateData\n",
      "# #         self.updateViewsBasedOnData()\n",
      "# #         self.updateRectangleHomography()\n",
      "# #         self.updateTrajectory()\n",
      "# #         self.changeFrame(self.frameSpinBox.value())\n",
      "        \n",
      "        \n",
      "#         self.setFocus()\n",
      "            \n",
      "#     def updateData(self, updateRectangleHomography, updateTrajectory, updateDistortions, updateOrientations, updateOriginalView, updateTopDownView, updateFrameView) :\n",
      "#         if updateRectangleHomography :\n",
      "#             self.updateRectangleHomography()\n",
      "#         if updateTrajectory :\n",
      "#             self.updateTrajectory()\n",
      "#         if updateDistortions :\n",
      "#             self.updateDistortions()\n",
      "#         if updateOrientations :\n",
      "#             self.updateOrientations()\n",
      "#         if updateOriginalView :\n",
      "#             self.updateOriginalView()\n",
      "#         if updateTopDownView :\n",
      "#             self.updateTopDownView()\n",
      "#         if updateFrameView :\n",
      "#             self.changeFrame(self.frameSpinBox.value())\n",
      "         \n",
      "#     def mousePressEvent(self, event):\n",
      "#         sizeDiff = (self.originalImageLabel.size() - self.originalImageLabel.image.size())/2\n",
      "#         mousePos = event.pos() - self.originalImageLabel.pos() - QtCore.QPoint(sizeDiff.width(), sizeDiff.height())\n",
      "#         mousePos = np.array([mousePos.x(), mousePos.y()])\n",
      "        \n",
      "#         for l in xrange(len(self.lines)) :\n",
      "#             if np.sqrt(np.sum((self.lines[l, 0:2]-mousePos)**2)) < POINT_SELECTION_RADIUS :\n",
      "#                 self.movingPoint = l*2\n",
      "            \n",
      "#             if np.sqrt(np.sum((self.lines[l, 2:]-mousePos)**2)) < POINT_SELECTION_RADIUS :\n",
      "#                 self.movingPoint = l*2+1\n",
      "                \n",
      "#         self.prevMousePosition = event.pos()            \n",
      "        \n",
      "#     def mouseReleaseEvent(self, event) :\n",
      "#         self.movingPoint = None\n",
      "#         self.prevMousePosition = QtCore.QPoint(0, 0)\n",
      "        \n",
      "#         self.updateData(True, True, True, True, True, False, True)\n",
      "        \n",
      "# #         self.originalImageLabel.setLines(self.lines)\n",
      "# #         self.updateRectangleHomography()\n",
      "# #         self.updateTrajectory()\n",
      "# #         self.changeFrame(self.frameSpinBox.value())\n",
      "        \n",
      "#     def mouseMoveEvent(self, event) :\n",
      "#         if self.movingPoint != None :\n",
      "#             sizeDiff = (self.originalImageLabel.size() - self.originalImageLabel.image.size())/2\n",
      "#             mousePos = event.pos() - self.originalImageLabel.pos() - QtCore.QPoint(sizeDiff.width(), sizeDiff.height())\n",
      "#             if (event.x() >= 0 and event.y() >= 0 and \n",
      "#                     event.x() < self.originalImageLabel.width() and \n",
      "#                     event.y() < self.originalImageLabel.height()) :\n",
      "                \n",
      "#                 deltaMove = event.pos() - self.prevMousePosition\n",
      "                \n",
      "#                 pointRow = int(np.floor(self.movingPoint/2.0))\n",
      "#                 pointCol = np.mod(self.movingPoint, 2)*2\n",
      "                \n",
      "#                 self.lines[pointRow, pointCol] += deltaMove.x()\n",
      "#                 self.lines[pointRow, pointCol+1] += deltaMove.y()\n",
      "                \n",
      "#                 self.originalImageLabel.setSelectedPoint(self.lines[pointRow, pointCol:pointCol+2])\n",
      "                \n",
      "#                 self.updateData(True, True, True, True, True, False, True)\n",
      "                \n",
      "# #                 self.originalImageLabel.setLines(self.lines, self.lines[pointRow, pointCol:pointCol+2])\n",
      "                \n",
      "# #                 self.updateRectangleHomography()\n",
      "# #                 self.updateTrajectory()\n",
      "# #                 self.changeFrame(self.frameSpinBox.value())\n",
      "        \n",
      "#             self.prevMousePosition = event.pos()\n",
      "    \n",
      "#     def updateRectangleHomography(self) :\n",
      "#         intersectionPoints = []\n",
      "#         for line1 in self.lines[0:2, :] :\n",
      "#             for line2 in self.lines[2:, :] :\n",
      "#                 intersectionPoints.append(line2lineIntersection(line1, line2))\n",
      "                \n",
      "#         self.rectangleCorners = np.array(intersectionPoints)[[0, 2, 3, 1], :]\n",
      "        \n",
      "#         ## get transformation and transform grid points to show in the original image\n",
      "#         self.homography = cv2.findHomography(np.array([[0, 0], [1, 0], [1, 1], [0, 1]], dtype=float)*self.unitSquareSize+self.unitSquarePos, self.rectangleCorners[[1, 2, 3, 0], :])[0]\n",
      "# #         self.homography = cv2.findHomography(np.array([[0, 0], [1, 0], [1, 1], [0, 1]], dtype=float)*self.unitSquareSize+self.unitSquarePos, self.rectangleCorners[[0, 3, 2, 1], :])[0]\n",
      "        \n",
      "# #         ## update the views\n",
      "# #         self.updateOriginalView()\n",
      "# #         self.updateTopDownView()\n",
      "                \n",
      "#     def updateTrajectory(self) :\n",
      "#         xs, ys = np.array([trackedSprites[self.spriteIdx][DICT_BBOX_CENTERS][i] for i in np.sort(trackedSprites[self.spriteIdx][DICT_BBOX_CENTERS].keys())]).T\n",
      "#         ## compute bbox areas\n",
      "# #         areas = np.zeros((len(trackedSprites[self.spriteIdx][DICT_BBOXES]),))\n",
      "# #         for key, idx in zip(np.sort(trackedSprites[self.spriteIdx][DICT_BBOXES].keys()), xrange(len(areas))) :\n",
      "# #             areas[idx] = np.linalg.norm(trackedSprites[self.spriteIdx][DICT_BBOXES][key][TL_IDX, :] - trackedSprites[self.spriteIdx][DICT_BBOXES][key][TR_IDX, :])\n",
      "# #             areas[idx] *= np.linalg.norm(trackedSprites[self.spriteIdx][DICT_BBOXES][key][TR_IDX, :] - trackedSprites[self.spriteIdx][DICT_BBOXES][key][BR_IDX, :])\n",
      "\n",
      "# #         filteredAreas = spimg.filters.gaussian_filter1d(areas, 30, axis=0)\n",
      "\n",
      "#         smoothedPath = np.array([xs, ys]).T#+filteredAreas*0.0005]).T\n",
      "        \n",
      "#         ## find topLeft of path bbox\n",
      "#         trajTopLeft = np.array([[np.min(smoothedPath[:, 0]), np.min(smoothedPath[:, 1])]])\n",
      "#         trajSize = np.array([[np.max(smoothedPath[:, 0]), np.max(smoothedPath[:, 1])]]) - trajTopLeft\n",
      "# #         print trajSize, trajSize+self.trajectorySizeDelta\n",
      "#         ## move to origin\n",
      "#         smoothedPath = smoothedPath - trajTopLeft\n",
      "#         ## resize\n",
      "#         sizeRatio = (trajSize+self.trajectorySizeDelta)/trajSize\n",
      "#         smoothedPath = np.dot(smoothedPath, np.array([[sizeRatio[0, 0], 0], [0, sizeRatio[0, 1]]]))\n",
      "#         ## translate by delta\n",
      "#         smoothedPath = smoothedPath + self.trajectoryPositionDelta\n",
      "#         ## move back to original top left\n",
      "#         smoothedPath = smoothedPath + trajTopLeft\n",
      "        \n",
      "#         ## now do the filtering\n",
      "#         smoothedPath = np.array([spimg.filters.gaussian_filter1d(smoothedPath[:, 0], self.trajectorySmoothness, axis=0), \n",
      "#                                  spimg.filters.gaussian_filter1d(smoothedPath[:, 1], self.trajectorySmoothness, axis=0)]).T#+filteredAreas*0.0005]).T\n",
      "        \n",
      "#         ## reinitialize the trajectory\n",
      "#         self.originalTrajectory = smoothedPath\n",
      "# #         ## and get it's top down projection\n",
      "# #         self.topDownTrajectory = np.dot(np.linalg.inv(self.homography), np.array([self.originalTrajectory[:, 0], self.originalTrajectory[:, 1], np.ones(len(self.originalTrajectory))]))\n",
      "# #         self.topDownTrajectory /= self.topDownTrajectory[-1, :]\n",
      "# #         self.topDownTrajectory = self.topDownTrajectory[0:2, :].T\n",
      "#         ## update the orientations now\n",
      "# #         self.updateOrientations()\n",
      "        \n",
      "# #         ## update the views\n",
      "# #         self.updateOriginalView()\n",
      "# #         self.updateTopDownView()\n",
      "\n",
      "#     def updateDistortions(self) :\n",
      "        \n",
      "#         ## update undistorted bg image\n",
      "#         self.undistortedBgImage = np.ascontiguousarray(cv2.undistort(self.originalBgImage, self.cameraMatrix, self.undistortParameters))\n",
      "        \n",
      "#         ## update undistorted trajectory\n",
      "#         if self.originalTrajectory != None :\n",
      "#             self.undistortedTrajectory = cv2.undistortPoints(self.originalTrajectory.reshape((1, len(self.originalTrajectory), 2)),\n",
      "#                                                              self.cameraMatrix, self.undistortParameters, P=self.cameraMatrix)[0, :, :]\n",
      "            \n",
      "#             ## and get it's top down projection\n",
      "#             self.topDownTrajectory = np.dot(np.linalg.inv(self.homography), np.array([self.undistortedTrajectory[:, 0], \n",
      "#                                                                                         self.undistortedTrajectory[:, 1], \n",
      "#                                                                                         np.ones(len(self.undistortedTrajectory))]))\n",
      "#             self.topDownTrajectory /= self.topDownTrajectory[-1, :]\n",
      "#             self.topDownTrajectory = self.topDownTrajectory[0:2, :].T\n",
      "            \n",
      "        \n",
      "#     def updateOrientations(self) :\n",
      "#         if self.topDownTrajectory != None :\n",
      "#             self.orientations = np.zeros(len(self.topDownTrajectory))\n",
      "            \n",
      "#             tmp = self.topDownTrajectory[1:, :] - self.topDownTrajectory[0:-1, :]\n",
      "#             tmp /= np.linalg.norm(tmp, axis=-1).reshape((len(tmp), 1))\n",
      "#             self.orientations[:-1] = np.arctan2(tmp[:, 0], tmp[:, 1])\n",
      "\n",
      "#             ## deal with last one\n",
      "#             tmp = -(self.topDownTrajectory[-1, :] - self.topDownTrajectory[-2, :])\n",
      "#             tmp /= np.linalg.norm(tmp, axis=-1)\n",
      "#             self.orientations[-1] = np.arctan2(tmp[0], tmp[1])\n",
      "\n",
      "#             self.orientations = spimg.filters.gaussian_filter1d(np.pi/2 +self.orientations, self.orientationsSmoothness, axis=0)\n",
      "\n",
      "#             self.orientationsGraph.setYs(np.mod(360.0+self.orientations*180.0/np.pi, 360.0))\n",
      "        \n",
      "#     def updateOriginalView(self) :\n",
      "\n",
      "#         self.undistortedGridPoints = np.dot(self.homography, self.gridPoints)\n",
      "#         self.undistortedGridPoints /= self.undistortedGridPoints[-1, :]\n",
      "#         self.undistortedGridPoints = self.undistortedGridPoints[0:2, :].T\n",
      "        \n",
      "#         ## show the UI needed to adjust the straight lines and intersection rectangle\n",
      "#         if self.doSetGroundPlaneCheckBox.isChecked() :\n",
      "#             ## show the undistorted bg image\n",
      "#             if self.undistortedBgImage != None :\n",
      "#                 qim = QtGui.QImage(self.undistortedBgImage.data, self.undistortedBgImage.shape[1], \n",
      "#                                    self.undistortedBgImage.shape[0], self.undistortedBgImage.strides[0], QtGui.QImage.Format_RGB888);\n",
      "#                 self.originalImageLabel.setImage(qim)\n",
      "            \n",
      "#             ## show the intersection rectangle\n",
      "#             if self.rectangleCorners != None :\n",
      "#                 self.originalImageLabel.setIntersectionRectangle(self.rectangleCorners)\n",
      "\n",
      "#             ## show the undistorted trajectory\n",
      "#             if self.undistortedTrajectory != None :\n",
      "#                 self.originalImageLabel.setTrajectory(self.undistortedTrajectory)\n",
      "            \n",
      "#             ## show the undistorted grid\n",
      "#             if self.undistortedGridPoints != None :\n",
      "#                 self.originalImageLabel.setPlaneGrid(self.undistortedGridPoints)\n",
      "            \n",
      "#             ## show the user defined straight lines\n",
      "#             self.originalImageLabel.setLines(self.lines)\n",
      "            \n",
      "#         ## show the ultimate output from all of this \n",
      "#         else :\n",
      "#             ## show the distorted bg image\n",
      "#             qim = QtGui.QImage(self.originalBgImage.data, self.originalBgImage.shape[1], \n",
      "#                                self.originalBgImage.shape[0], self.originalBgImage.strides[0], QtGui.QImage.Format_RGB888);\n",
      "#             self.originalImageLabel.setImage(qim)\n",
      "            \n",
      "#             ## do not show the intersection rectangle\n",
      "#             self.originalImageLabel.setIntersectionRectangle(None)\n",
      "\n",
      "#             ## show the distorted trajectory\n",
      "#             if self.originalTrajectory != None :\n",
      "#                 self.originalImageLabel.setTrajectory(self.originalTrajectory)\n",
      "                \n",
      "#             ## show the grid in the original (distorted) space\n",
      "#             self.originalGridPoints = cv2.undistortPoints(self.undistortedGridPoints.reshape((1, len(self.undistortedGridPoints), 2)), \n",
      "#                                                                      self.cameraMatrix, -self.undistortParameters, P=self.cameraMatrix)[0, :, :]\n",
      "#             if self.originalGridPoints != None :\n",
      "#                 self.originalImageLabel.setPlaneGrid(self.originalGridPoints)\n",
      "            \n",
      "#             ## do not show the user defined straight lines\n",
      "#             self.originalImageLabel.setLines(None)\n",
      "            \n",
      "        \n",
      "#     def updateTopDownView(self) :\n",
      "        \n",
      "#         ## get morphed background using the inverse of the homography and show it in the top down label\n",
      "#         if self.undistortedBgImage != None :\n",
      "#             morphedBackground = np.ascontiguousarray(cv2.resize(cv2.warpPerspective(self.undistortedBgImage, np.linalg.inv(self.homography), (5000, 3000)), \n",
      "#                                                             (0, 0), fx=self.topDownScaling[0, 0], fy=self.topDownScaling[1, 1]))\n",
      "#             qim = QtGui.QImage(morphedBackground.data, morphedBackground.shape[1], morphedBackground.shape[0], morphedBackground.strides[0], QtGui.QImage.Format_RGB888);\n",
      "#             self.topDownImageLabel.setImage(qim)\n",
      "        \n",
      "#         ## set morphed trajectory\n",
      "#         if self.topDownTrajectory != None :\n",
      "#             self.topDownImageLabel.setTrajectory(np.dot(self.topDownTrajectory, self.topDownScaling))\n",
      "        \n",
      "#         ## get morphed intersection rectangle\n",
      "#         if self.rectangleCorners != None :\n",
      "#             morphedRectangle = np.dot(np.linalg.inv(self.homography), np.array([self.rectangleCorners[:, 0], self.rectangleCorners[:, 1], np.ones(len(self.rectangleCorners))]))\n",
      "#             morphedRectangle /= morphedRectangle[-1, :]\n",
      "#             morphedRectangle = np.dot(morphedRectangle[0:2, :].T, self.topDownScaling)\n",
      "#             self.topDownImageLabel.setIntersectionRectangle(morphedRectangle)\n",
      "        \n",
      "        \n",
      "#     def changeFrame(self, idx) :\n",
      "#         ## get the sprite patch and give it to original image label\n",
      "#         self.originalImageLabel.setSpritePatch(preloadedSpritePatches[self.spriteIdx][idx])\n",
      "#         self.orientationsGraph.setCurrentFrame(idx)\n",
      "        \n",
      "#         if self.orientations != None and self.topDownTrajectory != None :\n",
      "#             bboxCenter = self.topDownTrajectory[idx, :]\n",
      "#             bboxInTopDown = np.array([-self.bboxSize/2, \n",
      "#                                       [-self.bboxSize[0]/2, self.bboxSize[1]/2], \n",
      "#                                       self.bboxSize/2, \n",
      "#                                       [self.bboxSize[0]/2, -self.bboxSize[1]/2]], dtype=float)\n",
      "            \n",
      "#             rotation = np.array([[np.cos(self.orientations[idx]), -np.sin(self.orientations[idx])], [np.sin(self.orientations[idx]), np.cos(self.orientations[idx])]])\n",
      "#             bboxInTopDown = np.dot(bboxInTopDown, rotation)\n",
      "            \n",
      "#             ## bbox in top down aligned to trajectory\n",
      "#             self.topDownImageLabel.setBBoxRectangle(np.dot(bboxInTopDown+bboxCenter, self.topDownScaling))\n",
      "            \n",
      "#             ## bbox in original view morphed using homography\n",
      "#             bbox = np.dot(self.homography, np.array([bboxInTopDown[:, 0]+bboxCenter[0], bboxInTopDown[:, 1]+bboxCenter[1], np.ones(len(bboxInTopDown))]))\n",
      "#             bbox /= bbox[-1, :]\n",
      "#             bbox = bbox[0:2, :].T\n",
      "#             self.originalImageLabel.setBBoxRectangle(bbox)\n",
      "        \n",
      "#     def changeBBox(self) :\n",
      "#         self.bboxSize = np.array([self.bboxWidthSpinBox.value(), self.bboxHeightSpinBox.value()], dtype=float)\n",
      "        \n",
      "# #         self.changeFrame(self.frameSpinBox.value())\n",
      "        \n",
      "#     def changeUnitSquare(self) :\n",
      "#         self.unitSquareSize = np.array([[self.unitSquareWidthSpinBox.value(), self.unitSquareHeightSpinBox.value()]])\n",
      "#         self.unitSquarePos = np.array([[self.unitSquareXSpinBox.value(), self.unitSquareYSpinBox.value()]])\n",
      "        \n",
      "# #         self.updateRectangleHomography()\n",
      "# #         self.updateTrajectory()\n",
      "# #         self.changeFrame(self.frameSpinBox.value())\n",
      "        \n",
      "#     def changeTrajectoryDeltas(self) :\n",
      "#         self.trajectorySizeDelta = np.array([[self.trajectoryWidthSpinBox.value(), self.trajectoryHeightSpinBox.value()]])\n",
      "#         self.trajectoryPositionDelta = np.array([[self.trajectoryXSpinBox.value(), self.trajectoryYSpinBox.value()]])\n",
      "        \n",
      "# #         self.updateTrajectory()\n",
      "# #         self.changeFrame(self.frameSpinBox.value())\n",
      "        \n",
      "#     def changeSprite(self, idx) :\n",
      "#         self.spriteIdx = idx\n",
      "        \n",
      "#         ## set slider limits\n",
      "#         self.frameSpinBox.setRange(0, len(trackedSprites[self.spriteIdx][DICT_BBOXES])-1)\n",
      "#         self.frameSlider.setMaximum(len(trackedSprites[self.spriteIdx][DICT_BBOXES])-1)\n",
      "        \n",
      "# #         self.updateTrajectory()\n",
      "# #         self.changeFrame(self.frameSpinBox.value())\n",
      "        \n",
      "#     def changeTrajectoryFiltering(self) :\n",
      "#         self.trajectorySmoothness = self.trajectorySmoothnessSpinBox.value()\n",
      "#         self.orientationsSmoothness = self.orientationsSmoothnessSpinBox.value()\n",
      "        \n",
      "# #         self.updateTrajectory()\n",
      "# #         self.changeFrame(self.frameSpinBox.value())\n",
      "        \n",
      "#     def changeDistortionParameter(self) :\n",
      "#         self.distortionParameter = self.distortionParameterSpinBox.value()\n",
      "#         self.undistortParameters = np.array([self.distortionParameter, self.distortionParameter, 0.0, 0.0, 0.0])\n",
      "        \n",
      "        \n",
      "#         self.updateData(False, False, True, True, True, True, True)\n",
      "#         ## update undistorted bg image\n",
      "# #         self.undistortedBgImage = np.ascontiguousarray(cv2.undistort(self.originalBgImage, self.cameraMatrix, self.undistortParameters))\n",
      "#         ## update undistorted trajectory\n",
      "        \n",
      "# #         self.updateViewsBasedOnData()\n",
      "        \n",
      "#     def doSetGroundPlaneChanged(self) :\n",
      "#         print \n",
      "        \n",
      "# #         ## show the undistorted background where a ground plane can be defined\n",
      "# #         if self.doSetGroundPlaneCheckBox.isChecked() :\n",
      "# #             self.undistortedBgImage = np.ascontiguousarray(cv2.undistort(self.originalBgImage, self.cameraMatrix, self.undistortParameters))\n",
      "\n",
      "# #             ## HACK ##\n",
      "# #             qim = QtGui.QImage(self.undistortedBgImage.data, self.undistortedBgImage.shape[1], \n",
      "# #                                self.undistortedBgImage.shape[0], self.undistortedBgImage.strides[0], QtGui.QImage.Format_RGB888);\n",
      "            \n",
      "# #             ## show undistorted bg image\n",
      "# #             self.originalImageLabel.setImage(qim)\n",
      "# #             ## show user defined straight lines\n",
      "# #             self.originalImageLabel.setLines(self.lines)\n",
      "# #             ## show undistorted trajectory\n",
      "# # #             self.originalImageLabel.setTrajectory(cv2.undistortPoints(self.originalTrajectory.reshape((1, len(self.originalTrajectory), 2)),\n",
      "# # #                                                                       self.cameraMatrix, self.undistortParameters, P=self.cameraMatrix))\n",
      "# #         else :\n",
      "# #             ## HACK ##\n",
      "# #             qim = QtGui.QImage(self.originalBgImage.data, self.originalBgImage.shape[1], \n",
      "# #                                self.originalBgImage.shape[0], self.originalBgImage.strides[0], QtGui.QImage.Format_RGB888);\n",
      "            \n",
      "# #             ## show distorted bg image\n",
      "# #             self.originalImageLabel.setImage(qim)\n",
      "# #             ## do not show the user defiend lines\n",
      "# #             self.originalImageLabel.setLines(None)\n",
      "# #             ## show distorted trajectory\n",
      "# #             self.originalImageLabel.setTrajectory(self.originalTrajectory)\n",
      "            \n",
      "        \n",
      "#     def createGUI(self) :\n",
      "        \n",
      "#         ## WIDGETS ##\n",
      "        \n",
      "#         self.originalImageLabel = ImageLabel()\n",
      "#         self.originalImageLabel.setSizePolicy(QtGui.QSizePolicy.MinimumExpanding, QtGui.QSizePolicy.MinimumExpanding)\n",
      "#         self.originalImageLabel.setAlignment(QtCore.Qt.AlignCenter | QtCore.Qt.AlignHCenter)\n",
      "        \n",
      "#         self.originalImageInfo = QtGui.QLabel(\"Original\")\n",
      "#         self.originalImageInfo.setAlignment(QtCore.Qt.AlignCenter | QtCore.Qt.AlignHCenter)\n",
      "        \n",
      "#         self.topDownImageLabel = ImageLabel()\n",
      "#         self.topDownImageLabel.setSizePolicy(QtGui.QSizePolicy.MinimumExpanding, QtGui.QSizePolicy.MinimumExpanding)\n",
      "#         self.topDownImageLabel.setAlignment(QtCore.Qt.AlignCenter | QtCore.Qt.AlignHCenter)\n",
      "        \n",
      "#         self.topDownImageInfo = QtGui.QLabel(\"Top Down\")\n",
      "#         self.topDownImageInfo.setAlignment(QtCore.Qt.AlignCenter | QtCore.Qt.AlignHCenter)\n",
      "        \n",
      "        \n",
      "#         self.frameSpinBox = QtGui.QSpinBox()\n",
      "#         self.frameSpinBox.setRange(0, len(trackedSprites[self.spriteIdx][DICT_BBOXES])-1)\n",
      "#         self.frameSpinBox.setSingleStep(1)\n",
      "        \n",
      "#         self.frameSlider = QtGui.QSlider(QtCore.Qt.Horizontal)\n",
      "#         self.frameSlider.setSizePolicy(QtGui.QSizePolicy.MinimumExpanding, QtGui.QSizePolicy.Minimum)\n",
      "#         self.frameSlider.setMinimum(0)\n",
      "#         self.frameSlider.setMaximum(len(trackedSprites[self.spriteIdx][DICT_BBOXES])-1)\n",
      "        \n",
      "        \n",
      "#         controlsGroup = QtGui.QGroupBox(\"Controls\")\n",
      "#         controlsGroup.setStyleSheet(\"QGroupBox { margin: 5px; border: 2px groove gray; border-radius: 3px; } \"+\n",
      "#                                              \"QGroupBox::title {left: 15px; top: -7px; font: bold;}\")\n",
      "#         controlsGroup.setSizePolicy(QtGui.QSizePolicy.Minimum, QtGui.QSizePolicy.Minimum)\n",
      "        \n",
      "#         self.bboxWidthSpinBox = QtGui.QSpinBox()\n",
      "#         self.bboxWidthSpinBox.setRange(1, 500)\n",
      "#         self.bboxWidthSpinBox.setValue(self.bboxSize[0])\n",
      "        \n",
      "#         self.bboxHeightSpinBox = QtGui.QSpinBox()\n",
      "#         self.bboxHeightSpinBox.setRange(1, 500)\n",
      "#         self.bboxHeightSpinBox.setValue(self.bboxSize[1])\n",
      "        \n",
      "#         unitSquareSizeLabel = QtGui.QLabel(\"Unit square size (w, h)\")\n",
      "#         unitSquareSizeLabel.setToolTip(\"Set the size of the square to map to the intersection rectangle\")\n",
      "#         self.unitSquareWidthSpinBox = QtGui.QSpinBox()\n",
      "#         self.unitSquareWidthSpinBox.setRange(1, 2000)\n",
      "#         self.unitSquareWidthSpinBox.setSingleStep(10)\n",
      "#         self.unitSquareWidthSpinBox.setValue(self.unitSquareSize[0, 0])\n",
      "        \n",
      "#         self.unitSquareHeightSpinBox = QtGui.QSpinBox()\n",
      "#         self.unitSquareHeightSpinBox.setRange(1, 1500)\n",
      "#         self.unitSquareHeightSpinBox.setSingleStep(10)\n",
      "#         self.unitSquareHeightSpinBox.setValue(self.unitSquareSize[0, 1])\n",
      "        \n",
      "#         unitSquarePosLabel = QtGui.QLabel(\"Unit square position (x, y)\")\n",
      "#         unitSquarePosLabel.setToolTip(\"Set the position of the unit square in the top down morphed space\")\n",
      "#         self.unitSquareXSpinBox = QtGui.QSpinBox()\n",
      "#         self.unitSquareXSpinBox.setRange(1, 10000)\n",
      "#         self.unitSquareXSpinBox.setValue(self.unitSquarePos[0, 0])\n",
      "        \n",
      "#         self.unitSquareYSpinBox = QtGui.QSpinBox()\n",
      "#         self.unitSquareYSpinBox.setRange(1, 5000)\n",
      "#         self.unitSquareYSpinBox.setValue(self.unitSquarePos[0, 1])\n",
      "        \n",
      "        \n",
      "#         self.trajectoryWidthSpinBox = QtGui.QSpinBox()\n",
      "#         self.trajectoryWidthSpinBox.setRange(-500, 500)\n",
      "#         self.trajectoryWidthSpinBox.setValue(self.trajectorySizeDelta[0, 0])\n",
      "        \n",
      "#         self.trajectoryHeightSpinBox = QtGui.QSpinBox()\n",
      "#         self.trajectoryHeightSpinBox.setRange(-500, 500)\n",
      "#         self.trajectoryHeightSpinBox.setValue(self.trajectorySizeDelta[0, 1])\n",
      "        \n",
      "#         self.trajectoryXSpinBox = QtGui.QSpinBox()\n",
      "#         self.trajectoryXSpinBox.setRange(-500, 500)\n",
      "#         self.trajectoryXSpinBox.setValue(self.trajectoryPositionDelta[0, 0])\n",
      "        \n",
      "#         self.trajectoryYSpinBox = QtGui.QSpinBox()\n",
      "#         self.trajectoryYSpinBox.setRange(-500, 500)\n",
      "#         self.trajectoryYSpinBox.setValue(self.trajectoryPositionDelta[0, 1])\n",
      "        \n",
      "        \n",
      "#         self.spriteIdxSpinBox = QtGui.QSpinBox()\n",
      "#         self.spriteIdxSpinBox.setRange(0, len(trackedSprites)-1)\n",
      "#         self.spriteIdxSpinBox.setValue(self.spriteIdx)\n",
      "        \n",
      "        \n",
      "#         self.trajectorySmoothnessSpinBox = QtGui.QSpinBox()\n",
      "#         self.trajectorySmoothnessSpinBox.setRange(1, 200)\n",
      "#         self.trajectorySmoothnessSpinBox.setValue(self.trajectorySmoothness)\n",
      "        \n",
      "#         self.orientationsSmoothnessSpinBox = QtGui.QSpinBox()\n",
      "#         self.orientationsSmoothnessSpinBox.setRange(1, 200)\n",
      "#         self.orientationsSmoothnessSpinBox.setValue(self.orientationsSmoothness)\n",
      "        \n",
      "        \n",
      "#         self.orientationsGraph = LineGraph(\"Trajectory orientations\")\n",
      "#         self.orientationsGraph.setMinimumHeight(150)\n",
      "#         self.orientationsGraph.setAlignment(QtCore.Qt.AlignCenter)\n",
      "#         self.orientationsGraph.setSizePolicy(QtGui.QSizePolicy.MinimumExpanding, QtGui.QSizePolicy.Minimum)\n",
      "        \n",
      "        \n",
      "#         self.distortionParameterSpinBox = QtGui.QDoubleSpinBox()\n",
      "#         self.distortionParameterSpinBox.setRange(-1.0, 1.0)\n",
      "#         self.distortionParameterSpinBox.setSingleStep(0.01)\n",
      "#         self.distortionParameterSpinBox.setValue(self.distortionParameter)\n",
      "        \n",
      "        \n",
      "#         self.doSetGroundPlaneCheckBox = QtGui.QCheckBox(\"\")\n",
      "#         self.doSetGroundPlaneCheckBox.setChecked(True)\n",
      "        \n",
      "        \n",
      "#         ## SIGNALS ##\n",
      "        \n",
      "#         self.frameSpinBox.valueChanged[int].connect(self.frameSlider.setValue)\n",
      "#         self.frameSlider.valueChanged[int].connect(self.frameSpinBox.setValue)\n",
      "#         self.frameSpinBox.valueChanged[int].connect(self.changeFrame)\n",
      "        \n",
      "#         self.bboxWidthSpinBox.valueChanged[int].connect(self.changeBBox)\n",
      "#         self.bboxHeightSpinBox.valueChanged[int].connect(self.changeBBox)\n",
      "        \n",
      "#         self.unitSquareWidthSpinBox.valueChanged[int].connect(self.changeUnitSquare)\n",
      "#         self.unitSquareHeightSpinBox.valueChanged[int].connect(self.changeUnitSquare)\n",
      "#         self.unitSquareXSpinBox.valueChanged[int].connect(self.changeUnitSquare)\n",
      "#         self.unitSquareYSpinBox.valueChanged[int].connect(self.changeUnitSquare)\n",
      "        \n",
      "        \n",
      "#         self.trajectoryWidthSpinBox.valueChanged[int].connect(self.changeTrajectoryDeltas)\n",
      "#         self.trajectoryHeightSpinBox.valueChanged[int].connect(self.changeTrajectoryDeltas)\n",
      "#         self.trajectoryXSpinBox.valueChanged[int].connect(self.changeTrajectoryDeltas)\n",
      "#         self.trajectoryYSpinBox.valueChanged[int].connect(self.changeTrajectoryDeltas)\n",
      "        \n",
      "#         self.spriteIdxSpinBox.valueChanged[int].connect(self.changeSprite)\n",
      "        \n",
      "#         self.trajectorySmoothnessSpinBox.valueChanged[int].connect(self.changeTrajectoryFiltering)\n",
      "#         self.orientationsSmoothnessSpinBox.valueChanged[int].connect(self.changeTrajectoryFiltering)\n",
      "        \n",
      "        \n",
      "#         self.distortionParameterSpinBox.valueChanged[float].connect(self.changeDistortionParameter)\n",
      "        \n",
      "#         self.doSetGroundPlaneCheckBox.stateChanged.connect(self.doSetGroundPlaneChanged)\n",
      "        \n",
      "        \n",
      "#         ## LAYOUTS ##\n",
      "        \n",
      "#         mainLayout = QtGui.QHBoxLayout()\n",
      "        \n",
      "#         sliderLayout = QtGui.QHBoxLayout()\n",
      "#         sliderLayout.addWidget(self.frameSlider)\n",
      "#         sliderLayout.addWidget(self.frameSpinBox)\n",
      "        \n",
      "#         originalImageLayout = QtGui.QVBoxLayout()\n",
      "#         originalImageLayout.addWidget(self.originalImageLabel)\n",
      "#         originalImageLayout.addWidget(self.originalImageInfo)\n",
      "#         originalImageLayout.addLayout(sliderLayout)\n",
      "        \n",
      "#         controlsLayout = QtGui.QGridLayout()\n",
      "#         controlsLayout.addWidget(QtGui.QLabel(\"Sprite box size (w, h)\"), 0, 0, 1, 1, QtCore.Qt.AlignLeft)\n",
      "#         controlsLayout.addWidget(self.bboxWidthSpinBox, 0, 1, 1, 1, QtCore.Qt.AlignLeft)\n",
      "#         controlsLayout.addWidget(self.bboxHeightSpinBox, 0, 2, 1, 1, QtCore.Qt.AlignLeft)\n",
      "#         controlsLayout.addWidget(unitSquareSizeLabel, 1, 0, 1, 1, QtCore.Qt.AlignLeft)\n",
      "#         controlsLayout.addWidget(self.unitSquareWidthSpinBox, 1, 1, 1, 1, QtCore.Qt.AlignLeft)\n",
      "#         controlsLayout.addWidget(self.unitSquareHeightSpinBox, 1, 2, 1, 1, QtCore.Qt.AlignLeft)\n",
      "#         controlsLayout.addWidget(unitSquarePosLabel, 2, 0, 1, 1, QtCore.Qt.AlignLeft)\n",
      "#         controlsLayout.addWidget(self.unitSquareXSpinBox, 2, 1, 1, 1, QtCore.Qt.AlignLeft)\n",
      "#         controlsLayout.addWidget(self.unitSquareYSpinBox, 2, 2, 1, 1, QtCore.Qt.AlignLeft)\n",
      "#         controlsLayout.addWidget(QtGui.QLabel(\"Sprite\"), 3, 0, 1, 1, QtCore.Qt.AlignLeft)\n",
      "#         controlsLayout.addWidget(self.spriteIdxSpinBox, 3, 1, 1, 2, QtCore.Qt.AlignLeft)\n",
      "#         controlsLayout.addWidget(QtGui.QLabel(\"Trajectory Smoothness\"), 4, 0, 1, 1, QtCore.Qt.AlignLeft)\n",
      "#         controlsLayout.addWidget(self.trajectorySmoothnessSpinBox, 4, 1, 1, 2, QtCore.Qt.AlignLeft)\n",
      "#         controlsLayout.addWidget(QtGui.QLabel(\"Orientations Smoothness\"), 5, 0, 1, 1, QtCore.Qt.AlignLeft)\n",
      "#         controlsLayout.addWidget(self.orientationsSmoothnessSpinBox, 5, 1, 1, 2, QtCore.Qt.AlignLeft)\n",
      "#         controlsLayout.addWidget(QtGui.QLabel(\"Trajectory size delta (w, h)\"), 6, 0, 1, 1, QtCore.Qt.AlignLeft)\n",
      "#         controlsLayout.addWidget(self.trajectoryWidthSpinBox, 6, 1, 1, 1, QtCore.Qt.AlignLeft)\n",
      "#         controlsLayout.addWidget(self.trajectoryHeightSpinBox, 6, 2, 1, 1, QtCore.Qt.AlignLeft)\n",
      "#         controlsLayout.addWidget(QtGui.QLabel(\"Trajectory position delta (x, y)\"), 7, 0, 1, 1, QtCore.Qt.AlignLeft)\n",
      "#         controlsLayout.addWidget(self.trajectoryXSpinBox, 7, 1, 1, 1, QtCore.Qt.AlignLeft)\n",
      "#         controlsLayout.addWidget(self.trajectoryYSpinBox, 7, 2, 1, 1, QtCore.Qt.AlignLeft)\n",
      "#         controlsLayout.addWidget(QtGui.QLabel(\"Distortion Parameter\"), 8, 0, 1, 1, QtCore.Qt.AlignLeft)\n",
      "#         controlsLayout.addWidget(self.distortionParameterSpinBox, 8, 1, 1, 2, QtCore.Qt.AlignLeft)\n",
      "#         controlsLayout.addWidget(QtGui.QLabel(\"Set ground plane\"), 9, 0, 1, 1, QtCore.Qt.AlignLeft)\n",
      "#         controlsLayout.addWidget(self.doSetGroundPlaneCheckBox, 9, 1, 1, 2, QtCore.Qt.AlignLeft)\n",
      "#         controlsGroup.setLayout(controlsLayout)\n",
      "        \n",
      "#         topDownImageLayout = QtGui.QVBoxLayout()\n",
      "#         topDownImageLayout.addStretch()\n",
      "#         topDownImageLayout.addWidget(self.topDownImageLabel)\n",
      "#         topDownImageLayout.addWidget(self.topDownImageInfo)\n",
      "#         topDownImageLayout.addStretch()\n",
      "#         topDownImageLayout.addWidget(self.orientationsGraph)\n",
      "#         topDownImageLayout.addWidget(controlsGroup)\n",
      "#         topDownImageLayout.addStretch()\n",
      "        \n",
      "#         mainLayout.addLayout(originalImageLayout)\n",
      "#         mainLayout.addLayout(topDownImageLayout)\n",
      "#         self.setLayout(mainLayout)"
     ],
     "language": "python",
     "metadata": {},
     "outputs": [],
     "prompt_number": 16
    }
   ],
   "metadata": {}
  }
 ]
}