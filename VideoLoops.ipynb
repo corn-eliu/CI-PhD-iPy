{
 "metadata": {
  "name": ""
 },
 "nbformat": 3,
 "nbformat_minor": 0,
 "worksheets": [
  {
   "cells": [
    {
     "cell_type": "code",
     "collapsed": false,
     "input": [
      "## Imports and defines\n",
      "%pylab\n",
      "import numpy as np\n",
      "import scipy as sp\n",
      "import cv2\n",
      "import glob\n",
      "import time\n",
      "import sys\n",
      "import ssim\n",
      "import opengm\n",
      "\n",
      "from pygraph.classes.graph import graph\n",
      "from pygraph.classes.digraph import digraph\n",
      "from pygraph.algorithms.searching import breadth_first_search\n",
      "from pygraph.readwrite.dot import write\n",
      "from pygraph.algorithms.cycles import find_cycle\n",
      "import pygraph.algorithms.minmax as mm\n",
      "import pygraph.algorithms.searching as search\n",
      "\n",
      "import pygraphviz as gv\n",
      "\n",
      "import VideoTexturesUtils as vtu\n",
      "\n",
      "from mpl_toolkits.mplot3d import Axes3D\n",
      "import matplotlib.animation as animation\n",
      "\n",
      "dataFolder = \"/home/ilisescu/PhD/data/\""
     ],
     "language": "python",
     "metadata": {},
     "outputs": [
      {
       "output_type": "stream",
       "stream": "stdout",
       "text": [
        "Using matplotlib backend: TkAgg\n",
        "Populating the interactive namespace from numpy and matplotlib\n"
       ]
      }
     ],
     "prompt_number": 1
    },
    {
     "cell_type": "code",
     "collapsed": false,
     "input": [
      "## read frames from sequence of images\n",
      "# sampleData = \"pendulum/\"\n",
      "# sampleData = \"ribbon1_matted/\"\n",
      "# sampleData = \"little_palm1_cropped/\"\n",
      "sampleData = \"ribbon2_matted/\"\n",
      "outputData = dataFolder+sampleData\n",
      "\n",
      "## Find pngs in sample data\n",
      "frames = glob.glob(dataFolder + sampleData + \"frame*.png\")\n",
      "maxFrames = len(frames)\n",
      "frames = np.sort(frames)[0:maxFrames]\n",
      "numFrames = len(frames)\n",
      "frameSize = cv2.imread(frames[0]).shape\n",
      "print numFrames\n",
      "# if numFrames > 0 :\n",
      "#     frameSize = cv2.imread(frames[0]).shape\n",
      "#     movie = np.zeros(np.hstack([frameSize[0], frameSize[1], frameSize[2], numFrames]), dtype=np.uint8)\n",
      "#     for i in range(0, numFrames) :\n",
      "#         movie[:, :, :, i] = np.array(cv2.cvtColor(cv2.imread(frames[i]), cv2.COLOR_BGR2RGB), dtype=np.uint8)\n",
      "        \n",
      "#         sys.stdout.write('\\r' + \"Loaded frame \" + np.string_(i) + \" of \" + np.string_(numFrames))\n",
      "#         sys.stdout.flush()\n",
      "\n",
      "# print        \n",
      "# print 'Movie has shape', movie.shape"
     ],
     "language": "python",
     "metadata": {},
     "outputs": [
      {
       "output_type": "stream",
       "stream": "stdout",
       "text": [
        "1280\n"
       ]
      }
     ],
     "prompt_number": 2
    },
    {
     "cell_type": "code",
     "collapsed": false,
     "input": [
      "## compute euclidean distance assuming f is an array where each row is a flattened image (1xN array, N=W*H*Channels)\n",
      "## euclidean distance defined as the length of the the displacement vector:\n",
      "## len(q-p) = sqrt(len(q)^2+len(p)^2 - 2*dot(p, q)) where p and q are two images in vector format and 1xN size\n",
      "def distEuc(f) :\n",
      "    ## gives sum over squared intensity values for each image\n",
      "    ff = np.sum(f*f, axis=1)\n",
      "    ## first term is sum between each possible combination of frames\n",
      "    ## second term is the the dot product between each frame as in the formula above\n",
      "    d = np.sqrt(np.reshape(ff, [len(ff),1])+ff.T - 2*np.dot(f, f.T))\n",
      "    return d\n",
      "\n",
      "def distEuc2(f1, f2) :\n",
      "    ## gives sum over squared intensity values for each image\n",
      "    ff1 = np.sum(f1*f1, axis=1)\n",
      "    ff2 = np.sum(f2*f2, axis=1)\n",
      "#     print ff1.shape\n",
      "#     print ff2.shape\n",
      "    ## first term is sum between each possible combination of frames\n",
      "    ## second term is the the dot product between each frame as in the formula above\n",
      "#     print \"askdfh\", np.repeat(np.reshape(ff1, [len(ff1),1]), len(ff2), axis=1).shape, np.repeat(np.reshape(ff2, [1, len(ff2)]), len(ff1), axis=0).shape\n",
      "    d = np.sqrt(np.repeat(np.reshape(ff1, [len(ff1),1]), len(ff2), axis=1)+np.repeat(np.reshape(ff2, [1, len(ff2)]), len(ff1), axis=0) - 2*np.dot(f1, f2.T))\n",
      "    return d"
     ],
     "language": "python",
     "metadata": {},
     "outputs": [],
     "prompt_number": 3
    },
    {
     "cell_type": "code",
     "collapsed": false,
     "input": [
      "def computeDist(distType, f1, f2) :\n",
      "    if distType == \"Euc\" :\n",
      "        if f2 != None :\n",
      "            return distEuc2(f1, f2)\n",
      "        else :\n",
      "            return distEuc(f1)\n",
      "    elif distType == \"SSIM\" :\n",
      "        return distSSIM(f1, f2)"
     ],
     "language": "python",
     "metadata": {},
     "outputs": [],
     "prompt_number": 4
    },
    {
     "cell_type": "code",
     "collapsed": false,
     "input": [
      "def areOverlapping(r1, r2) :\n",
      "    if r1[0] > r1[1] or r2[0] > r2[1] :\n",
      "        raise BaseException, np.string_(\"given ranges are not sorted: \" + np.string_(r1) + \", \" + np.string_(r2))\n",
      "    return r1[1] >= r2[0] and r2[1] >= r1[0]\n",
      "\n",
      "def mergeRanges(r1, r2) :\n",
      "    united = union1d(r1, r2)\n",
      "    return np.array((united[0], united[-1]))"
     ],
     "language": "python",
     "metadata": {},
     "outputs": [],
     "prompt_number": 5
    },
    {
     "cell_type": "code",
     "collapsed": false,
     "input": [
      "## divide data into subblocks\n",
      "s = time.time()\n",
      "numBlocks = 1\n",
      "blockSize = numFrames/numBlocks\n",
      "print numFrames, numBlocks, blockSize\n",
      "distanceMatrix = np.zeros([numFrames, numFrames])\n",
      "\n",
      "distanceType = \"Euc\"\n",
      "\n",
      "for i in xrange(0, numBlocks) :\n",
      "    \n",
      "    t = time.time()\n",
      "    \n",
      "    ##load row frames\n",
      "    f1s = np.zeros(np.hstack([frameSize[0], frameSize[1], frameSize[2], blockSize]))\n",
      "    for f, idx in zip(xrange(i*blockSize, i*blockSize+blockSize), xrange(0, blockSize)) :\n",
      "        f1s[:, :, :, idx] = np.array(cv2.cvtColor(cv2.imread(frames[f]), cv2.COLOR_BGR2RGB))/255.0\n",
      "\n",
      "    ##compute distance between every pair of row frames\n",
      "    data1 = np.reshape(f1s, [np.prod(f1s.shape[0:-1]), f1s.shape[-1]]).T\n",
      "    distanceMatrix[i*blockSize:i*blockSize+blockSize, i*blockSize:i*blockSize+blockSize] = computeDist(distanceType, data1, None)\n",
      "    \n",
      "    sys.stdout.write('\\r' + \"Row Frames \" + np.string_(i*blockSize) + \" to \" + np.string_(i*blockSize+blockSize-1) + \" in \" + np.string_(time.time() - t))\n",
      "    sys.stdout.flush()\n",
      "    print\n",
      "    \n",
      "    for j in xrange(i+1, numBlocks) :\n",
      "        \n",
      "        t = time.time()\n",
      "        \n",
      "        ##load column frames\n",
      "        f2s = np.zeros(np.hstack([frameSize[0], frameSize[1], frameSize[2], blockSize]))\n",
      "        for f, idx in zip(xrange(j*blockSize, j*blockSize+blockSize), xrange(0, blockSize)) :\n",
      "            f2s[:, :, :, idx] = np.array(cv2.cvtColor(cv2.imread(frames[f]), cv2.COLOR_BGR2RGB))/255.0\n",
      "            \n",
      "        ##compute distance between every pair of row-column frames\n",
      "        data2 = np.reshape(f2s, [np.prod(f2s.shape[0:-1]), f2s.shape[-1]]).T\n",
      "        distanceMatrix[i*blockSize:i*blockSize+blockSize, j*blockSize:j*blockSize+blockSize] = computeDist(distanceType, data1, data2)\n",
      "        distanceMatrix[j*blockSize:j*blockSize+blockSize, i*blockSize:i*blockSize+blockSize] = distanceMatrix[i*blockSize:i*blockSize+blockSize, j*blockSize:j*blockSize+blockSize].T\n",
      "    \n",
      "        sys.stdout.write('\\r' + \"Column Frames \" + np.string_(j*blockSize) + \" to \" + np.string_(j*blockSize+blockSize-1) + \" in \" + np.string_(time.time() - t))\n",
      "        sys.stdout.flush()\n",
      "        print\n",
      "\n",
      "figure(); imshow(distanceMatrix, interpolation='nearest')\n",
      "print \"finished in\", time.time() - s"
     ],
     "language": "python",
     "metadata": {},
     "outputs": [
      {
       "ename": "KeyboardInterrupt",
       "evalue": "",
       "output_type": "pyerr",
       "traceback": [
        "\u001b[0;31m---------------------------------------------------------------------------\u001b[0m\n\u001b[0;31mKeyboardInterrupt\u001b[0m                         Traceback (most recent call last)",
        "\u001b[0;32m<ipython-input-6-fb5776341632>\u001b[0m in \u001b[0;36m<module>\u001b[0;34m()\u001b[0m\n\u001b[1;32m     19\u001b[0m     \u001b[0;31m##compute distance between every pair of row frames\u001b[0m\u001b[0;34m\u001b[0m\u001b[0;34m\u001b[0m\u001b[0m\n\u001b[1;32m     20\u001b[0m     \u001b[0mdata1\u001b[0m \u001b[0;34m=\u001b[0m \u001b[0mnp\u001b[0m\u001b[0;34m.\u001b[0m\u001b[0mreshape\u001b[0m\u001b[0;34m(\u001b[0m\u001b[0mf1s\u001b[0m\u001b[0;34m,\u001b[0m \u001b[0;34m[\u001b[0m\u001b[0mnp\u001b[0m\u001b[0;34m.\u001b[0m\u001b[0mprod\u001b[0m\u001b[0;34m(\u001b[0m\u001b[0mf1s\u001b[0m\u001b[0;34m.\u001b[0m\u001b[0mshape\u001b[0m\u001b[0;34m[\u001b[0m\u001b[0;36m0\u001b[0m\u001b[0;34m:\u001b[0m\u001b[0;34m-\u001b[0m\u001b[0;36m1\u001b[0m\u001b[0;34m]\u001b[0m\u001b[0;34m)\u001b[0m\u001b[0;34m,\u001b[0m \u001b[0mf1s\u001b[0m\u001b[0;34m.\u001b[0m\u001b[0mshape\u001b[0m\u001b[0;34m[\u001b[0m\u001b[0;34m-\u001b[0m\u001b[0;36m1\u001b[0m\u001b[0;34m]\u001b[0m\u001b[0;34m]\u001b[0m\u001b[0;34m)\u001b[0m\u001b[0;34m.\u001b[0m\u001b[0mT\u001b[0m\u001b[0;34m\u001b[0m\u001b[0m\n\u001b[0;32m---> 21\u001b[0;31m     \u001b[0mdistanceMatrix\u001b[0m\u001b[0;34m[\u001b[0m\u001b[0mi\u001b[0m\u001b[0;34m*\u001b[0m\u001b[0mblockSize\u001b[0m\u001b[0;34m:\u001b[0m\u001b[0mi\u001b[0m\u001b[0;34m*\u001b[0m\u001b[0mblockSize\u001b[0m\u001b[0;34m+\u001b[0m\u001b[0mblockSize\u001b[0m\u001b[0;34m,\u001b[0m \u001b[0mi\u001b[0m\u001b[0;34m*\u001b[0m\u001b[0mblockSize\u001b[0m\u001b[0;34m:\u001b[0m\u001b[0mi\u001b[0m\u001b[0;34m*\u001b[0m\u001b[0mblockSize\u001b[0m\u001b[0;34m+\u001b[0m\u001b[0mblockSize\u001b[0m\u001b[0;34m]\u001b[0m \u001b[0;34m=\u001b[0m \u001b[0mcomputeDist\u001b[0m\u001b[0;34m(\u001b[0m\u001b[0mdistanceType\u001b[0m\u001b[0;34m,\u001b[0m \u001b[0mdata1\u001b[0m\u001b[0;34m,\u001b[0m \u001b[0mNone\u001b[0m\u001b[0;34m)\u001b[0m\u001b[0;34m\u001b[0m\u001b[0m\n\u001b[0m\u001b[1;32m     22\u001b[0m \u001b[0;34m\u001b[0m\u001b[0m\n\u001b[1;32m     23\u001b[0m     \u001b[0msys\u001b[0m\u001b[0;34m.\u001b[0m\u001b[0mstdout\u001b[0m\u001b[0;34m.\u001b[0m\u001b[0mwrite\u001b[0m\u001b[0;34m(\u001b[0m\u001b[0;34m'\\r'\u001b[0m \u001b[0;34m+\u001b[0m \u001b[0;34m\"Row Frames \"\u001b[0m \u001b[0;34m+\u001b[0m \u001b[0mnp\u001b[0m\u001b[0;34m.\u001b[0m\u001b[0mstring_\u001b[0m\u001b[0;34m(\u001b[0m\u001b[0mi\u001b[0m\u001b[0;34m*\u001b[0m\u001b[0mblockSize\u001b[0m\u001b[0;34m)\u001b[0m \u001b[0;34m+\u001b[0m \u001b[0;34m\" to \"\u001b[0m \u001b[0;34m+\u001b[0m \u001b[0mnp\u001b[0m\u001b[0;34m.\u001b[0m\u001b[0mstring_\u001b[0m\u001b[0;34m(\u001b[0m\u001b[0mi\u001b[0m\u001b[0;34m*\u001b[0m\u001b[0mblockSize\u001b[0m\u001b[0;34m+\u001b[0m\u001b[0mblockSize\u001b[0m\u001b[0;34m-\u001b[0m\u001b[0;36m1\u001b[0m\u001b[0;34m)\u001b[0m \u001b[0;34m+\u001b[0m \u001b[0;34m\" in \"\u001b[0m \u001b[0;34m+\u001b[0m \u001b[0mnp\u001b[0m\u001b[0;34m.\u001b[0m\u001b[0mstring_\u001b[0m\u001b[0;34m(\u001b[0m\u001b[0mtime\u001b[0m\u001b[0;34m.\u001b[0m\u001b[0mtime\u001b[0m\u001b[0;34m(\u001b[0m\u001b[0;34m)\u001b[0m \u001b[0;34m-\u001b[0m \u001b[0mt\u001b[0m\u001b[0;34m)\u001b[0m\u001b[0;34m)\u001b[0m\u001b[0;34m\u001b[0m\u001b[0m\n",
        "\u001b[0;32m<ipython-input-3-dab5cd1b61df>\u001b[0m in \u001b[0;36mcomputeDist\u001b[0;34m(distType, f1, f2)\u001b[0m\n\u001b[1;32m      4\u001b[0m             \u001b[0;32mreturn\u001b[0m \u001b[0mdistEuc2\u001b[0m\u001b[0;34m(\u001b[0m\u001b[0mf1\u001b[0m\u001b[0;34m,\u001b[0m \u001b[0mf2\u001b[0m\u001b[0;34m)\u001b[0m\u001b[0;34m\u001b[0m\u001b[0m\n\u001b[1;32m      5\u001b[0m         \u001b[0;32melse\u001b[0m \u001b[0;34m:\u001b[0m\u001b[0;34m\u001b[0m\u001b[0m\n\u001b[0;32m----> 6\u001b[0;31m             \u001b[0;32mreturn\u001b[0m \u001b[0mdistEuc\u001b[0m\u001b[0;34m(\u001b[0m\u001b[0mf1\u001b[0m\u001b[0;34m)\u001b[0m\u001b[0;34m\u001b[0m\u001b[0m\n\u001b[0m\u001b[1;32m      7\u001b[0m     \u001b[0;32melif\u001b[0m \u001b[0mdistType\u001b[0m \u001b[0;34m==\u001b[0m \u001b[0;34m\"SSIM\"\u001b[0m \u001b[0;34m:\u001b[0m\u001b[0;34m\u001b[0m\u001b[0m\n\u001b[1;32m      8\u001b[0m         \u001b[0;32mreturn\u001b[0m \u001b[0mdistSSIM\u001b[0m\u001b[0;34m(\u001b[0m\u001b[0mf1\u001b[0m\u001b[0;34m,\u001b[0m \u001b[0mf2\u001b[0m\u001b[0;34m)\u001b[0m\u001b[0;34m\u001b[0m\u001b[0m\n",
        "\u001b[0;32m<ipython-input-2-c91fc3dea4b5>\u001b[0m in \u001b[0;36mdistEuc\u001b[0;34m(f)\u001b[0m\n\u001b[1;32m      7\u001b[0m     \u001b[0;31m## first term is sum between each possible combination of frames\u001b[0m\u001b[0;34m\u001b[0m\u001b[0;34m\u001b[0m\u001b[0m\n\u001b[1;32m      8\u001b[0m     \u001b[0;31m## second term is the the dot product between each frame as in the formula above\u001b[0m\u001b[0;34m\u001b[0m\u001b[0;34m\u001b[0m\u001b[0m\n\u001b[0;32m----> 9\u001b[0;31m     \u001b[0md\u001b[0m \u001b[0;34m=\u001b[0m \u001b[0mnp\u001b[0m\u001b[0;34m.\u001b[0m\u001b[0msqrt\u001b[0m\u001b[0;34m(\u001b[0m\u001b[0mnp\u001b[0m\u001b[0;34m.\u001b[0m\u001b[0mreshape\u001b[0m\u001b[0;34m(\u001b[0m\u001b[0mff\u001b[0m\u001b[0;34m,\u001b[0m \u001b[0;34m[\u001b[0m\u001b[0mlen\u001b[0m\u001b[0;34m(\u001b[0m\u001b[0mff\u001b[0m\u001b[0;34m)\u001b[0m\u001b[0;34m,\u001b[0m\u001b[0;36m1\u001b[0m\u001b[0;34m]\u001b[0m\u001b[0;34m)\u001b[0m\u001b[0;34m+\u001b[0m\u001b[0mff\u001b[0m\u001b[0;34m.\u001b[0m\u001b[0mT\u001b[0m \u001b[0;34m-\u001b[0m \u001b[0;36m2\u001b[0m\u001b[0;34m*\u001b[0m\u001b[0mnp\u001b[0m\u001b[0;34m.\u001b[0m\u001b[0mdot\u001b[0m\u001b[0;34m(\u001b[0m\u001b[0mf\u001b[0m\u001b[0;34m,\u001b[0m \u001b[0mf\u001b[0m\u001b[0;34m.\u001b[0m\u001b[0mT\u001b[0m\u001b[0;34m)\u001b[0m\u001b[0;34m)\u001b[0m\u001b[0;34m\u001b[0m\u001b[0m\n\u001b[0m\u001b[1;32m     10\u001b[0m     \u001b[0;32mreturn\u001b[0m \u001b[0md\u001b[0m\u001b[0;34m\u001b[0m\u001b[0m\n\u001b[1;32m     11\u001b[0m \u001b[0;34m\u001b[0m\u001b[0m\n",
        "\u001b[0;31mKeyboardInterrupt\u001b[0m: "
       ]
      },
      {
       "output_type": "stream",
       "stream": "stdout",
       "text": [
        "60 1 60\n"
       ]
      }
     ],
     "prompt_number": 6
    },
    {
     "cell_type": "code",
     "collapsed": false,
     "input": [
      "## load ssim based dist matrix computed externally\n",
      "distanceMatrix = np.load(\"ssimDist60-little_palm.npy\")\n",
      "figure(); imshow(distanceMatrix, interpolation='nearest')"
     ],
     "language": "python",
     "metadata": {},
     "outputs": [
      {
       "metadata": {},
       "output_type": "pyout",
       "prompt_number": 79,
       "text": [
        "<matplotlib.image.AxesImage at 0x7f225f4ca2d0>"
       ]
      }
     ],
     "prompt_number": 79
    },
    {
     "cell_type": "code",
     "collapsed": false,
     "input": [
      "## load full precomputed distMat for dataset\n",
      "distanceMatrix = np.load(dataFolder + sampleData + \"distMat.npy\")\n",
      "figure(); imshow(distanceMatrix, interpolation='nearest')"
     ],
     "language": "python",
     "metadata": {},
     "outputs": [
      {
       "metadata": {},
       "output_type": "pyout",
       "prompt_number": 6,
       "text": [
        "<matplotlib.image.AxesImage at 0x7f3898021c50>"
       ]
      }
     ],
     "prompt_number": 6
    },
    {
     "cell_type": "code",
     "collapsed": false,
     "input": [
      "distMat = vtu.filterDistanceMatrix(distanceMatrix, 4, True)\n",
      "figure(); imshow(distMat, interpolation='nearest')"
     ],
     "language": "python",
     "metadata": {},
     "outputs": [
      {
       "metadata": {},
       "output_type": "pyout",
       "prompt_number": 7,
       "text": [
        "<matplotlib.image.AxesImage at 0x7f3897e48b50>"
       ]
      }
     ],
     "prompt_number": 7
    },
    {
     "cell_type": "code",
     "collapsed": false,
     "input": [
      "def estimateFutureCost(alpha, p, distanceMatrixFilt, weights) :\n",
      "    \n",
      "    distMatFilt = distanceMatrixFilt[1:distanceMatrixFilt.shape[1], 0:-1]\n",
      "    distMat = distMatFilt ** p\n",
      "    \n",
      "    last = np.copy(distMat)\n",
      "    current = np.zeros(distMat.shape)\n",
      "    \n",
      "    ## while distance between last and current is larger than threshold\n",
      "    iterations = 0 \n",
      "    while np.linalg.norm(last - current) > 0.1 : \n",
      "        for i in range(distMat.shape[0]-1, -1, -1) :\n",
      "            m = np.min(distMat*weights[1:distanceMatrixFilt.shape[1], 0:-1], axis=1)\n",
      "            distMat[i, :] = (distMatFilt[i, :] ** p) + alpha*m\n",
      "            \n",
      "        last = np.copy(current)\n",
      "        current = np.copy(distMat)\n",
      "        \n",
      "        sys.stdout.write('\\r' + \"Iteration \" + np.string_(iterations) + \"; distance \" + np.string_(np.linalg.norm(last - current)))\n",
      "        sys.stdout.flush()\n",
      "        \n",
      "        iterations += 1\n",
      "    \n",
      "    print\n",
      "    print 'finished in', iterations, 'iterations'\n",
      "    \n",
      "    return distMat\n",
      "\n",
      "distMatFut = estimateFutureCost(0.999, 2.0, distMat, np.ones(distMat.shape))"
     ],
     "language": "python",
     "metadata": {},
     "outputs": [
      {
       "output_type": "stream",
       "stream": "stdout",
       "text": [
        "\r",
        "Iteration 0; distance 106378849.774"
       ]
      },
      {
       "output_type": "stream",
       "stream": "stdout",
       "text": [
        "\r",
        "Iteration 1; distance 5417690.58144"
       ]
      },
      {
       "output_type": "stream",
       "stream": "stdout",
       "text": [
        "\r",
        "Iteration 2; distance 4746982.79867"
       ]
      },
      {
       "output_type": "stream",
       "stream": "stdout",
       "text": [
        "\r",
        "Iteration 3; distance 4457303.16251"
       ]
      },
      {
       "output_type": "stream",
       "stream": "stdout",
       "text": [
        "\r",
        "Iteration 4; distance 4045198.97186"
       ]
      },
      {
       "output_type": "stream",
       "stream": "stdout",
       "text": [
        "\r",
        "Iteration 5; distance 3452824.87126"
       ]
      },
      {
       "output_type": "stream",
       "stream": "stdout",
       "text": [
        "\r",
        "Iteration 6; distance 2862088.00513"
       ]
      },
      {
       "output_type": "stream",
       "stream": "stdout",
       "text": [
        "\r",
        "Iteration 7; distance 2370558.96363"
       ]
      },
      {
       "output_type": "stream",
       "stream": "stdout",
       "text": [
        "\r",
        "Iteration 8; distance 1963583.90756"
       ]
      },
      {
       "output_type": "stream",
       "stream": "stdout",
       "text": [
        "\r",
        "Iteration 9; distance 1626765.52359"
       ]
      },
      {
       "output_type": "stream",
       "stream": "stdout",
       "text": [
        "\r",
        "Iteration 10; distance 1347721.87799"
       ]
      },
      {
       "output_type": "stream",
       "stream": "stdout",
       "text": [
        "\r",
        "Iteration 11; distance 1116572.04363"
       ]
      },
      {
       "output_type": "stream",
       "stream": "stdout",
       "text": [
        "\r",
        "Iteration 12; distance 925040.53267"
       ]
      },
      {
       "output_type": "stream",
       "stream": "stdout",
       "text": [
        "\r",
        "Iteration 13; distance 763822.949974"
       ]
      },
      {
       "output_type": "stream",
       "stream": "stdout",
       "text": [
        "\r",
        "Iteration 14; distance 601883.256631"
       ]
      },
      {
       "output_type": "stream",
       "stream": "stdout",
       "text": [
        "\r",
        "Iteration 15; distance 439155.490592"
       ]
      },
      {
       "output_type": "stream",
       "stream": "stdout",
       "text": [
        "\r",
        "Iteration 16; distance 326151.434543"
       ]
      },
      {
       "output_type": "stream",
       "stream": "stdout",
       "text": [
        "\r",
        "Iteration 17; distance 143833.561554"
       ]
      },
      {
       "output_type": "stream",
       "stream": "stdout",
       "text": [
        "\r",
        "Iteration 18; distance 19611.2344756"
       ]
      },
      {
       "output_type": "stream",
       "stream": "stdout",
       "text": [
        "\r",
        "Iteration 19; distance 8363.47580137"
       ]
      },
      {
       "output_type": "stream",
       "stream": "stdout",
       "text": [
        "\r",
        "Iteration 20; distance 3836.20787665"
       ]
      },
      {
       "output_type": "stream",
       "stream": "stdout",
       "text": [
        "\r",
        "Iteration 21; distance 1759.61421092"
       ]
      },
      {
       "output_type": "stream",
       "stream": "stdout",
       "text": [
        "\r",
        "Iteration 22; distance 807.110112618"
       ]
      },
      {
       "output_type": "stream",
       "stream": "stdout",
       "text": [
        "\r",
        "Iteration 23; distance 370.209975464"
       ]
      },
      {
       "output_type": "stream",
       "stream": "stdout",
       "text": [
        "\r",
        "Iteration 24; distance 169.810071491"
       ]
      },
      {
       "output_type": "stream",
       "stream": "stdout",
       "text": [
        "\r",
        "Iteration 25; distance 77.8894743611"
       ]
      },
      {
       "output_type": "stream",
       "stream": "stdout",
       "text": [
        "\r",
        "Iteration 26; distance 35.7267985406"
       ]
      },
      {
       "output_type": "stream",
       "stream": "stdout",
       "text": [
        "\r",
        "Iteration 27; distance 16.3873763764"
       ]
      },
      {
       "output_type": "stream",
       "stream": "stdout",
       "text": [
        "\r",
        "Iteration 28; distance 7.51665738835"
       ]
      },
      {
       "output_type": "stream",
       "stream": "stdout",
       "text": [
        "\r",
        "Iteration 29; distance 3.44778428937"
       ]
      },
      {
       "output_type": "stream",
       "stream": "stdout",
       "text": [
        "\r",
        "Iteration 30; distance 1.58144983887"
       ]
      },
      {
       "output_type": "stream",
       "stream": "stdout",
       "text": [
        "\r",
        "Iteration 31; distance 0.725388660532"
       ]
      },
      {
       "output_type": "stream",
       "stream": "stdout",
       "text": [
        "\r",
        "Iteration 32; distance 0.332725487657"
       ]
      },
      {
       "output_type": "stream",
       "stream": "stdout",
       "text": [
        "\r",
        "Iteration 33; distance 0.152616443532"
       ]
      },
      {
       "output_type": "stream",
       "stream": "stdout",
       "text": [
        "\r",
        "Iteration 34; distance 0.0700030018765"
       ]
      },
      {
       "output_type": "stream",
       "stream": "stdout",
       "text": [
        "\n",
        "finished in 35 iterations\n"
       ]
      }
     ],
     "prompt_number": 8
    },
    {
     "cell_type": "code",
     "collapsed": false,
     "input": [
      "print np.max(distMat)\n",
      "print np.max(distMatFut)\n",
      "figure(); imshow(distMat, interpolation='nearest')\n",
      "figure(); imshow(distMatFut, interpolation='nearest')"
     ],
     "language": "python",
     "metadata": {},
     "outputs": [
      {
       "output_type": "stream",
       "stream": "stdout",
       "text": [
        "241.284619632\n",
        "3298830.81356\n"
       ]
      },
      {
       "metadata": {},
       "output_type": "pyout",
       "prompt_number": 39,
       "text": [
        "<matplotlib.image.AxesImage at 0x7ffc7ae0fc50>"
       ]
      }
     ],
     "prompt_number": 39
    },
    {
     "cell_type": "code",
     "collapsed": false,
     "input": [
      "# Graph creation\n",
      "gr = digraph()\n",
      "\n",
      "size=distMatFut.shape[0]\n",
      "numNeighbours = 2\n",
      "weights = (distMatFut-np.min(distMatFut))/(np.max(distMatFut)-np.min(distMatFut))\n",
      "\n",
      "gr.add_nodes(arange(size))\n",
      "for i in xrange(size) :\n",
      "    neighbours = np.argsort(distMatFut[i ,:])\n",
      "#     neighbours = np.delete(neighbours, np.where(neighbours==i))\n",
      "    if i > numNeighbours or True :\n",
      "        for j in xrange(numNeighbours) :\n",
      "            if (i, neighbours[j]) not in gr.edges():\n",
      "                gr.add_edge((i, neighbours[j]), wt=weights[i, neighbours[j]], label=np.str(weights[i, neighbours[j]]))\n",
      "\n",
      "# Draw as PNG\n",
      "if True :\n",
      "    dot = write(gr)\n",
      "    gvv = gv.AGraph()\n",
      "    gvv.from_string(dot)\n",
      "    gvv.layout(prog='dot')\n",
      "    gvv.draw(path='frameGraph.png', format='png')"
     ],
     "language": "python",
     "metadata": {},
     "outputs": [],
     "prompt_number": 41
    },
    {
     "cell_type": "code",
     "collapsed": false,
     "input": [
      "## find which of the nodes in distMat get added to graph\n",
      "threshold = np.ones(distMatFut.shape)*np.max(weights)*2\n",
      "threshold[np.repeat(arange(size), numNeighbours), np.reshape(np.argsort(distMatFut)[:, 0:numNeighbours], numNeighbours*size)] = 1\n",
      "figure(); imshow(threshold, interpolation='nearest')\n",
      "figure(); imshow(threshold*weights, interpolation='nearest')"
     ],
     "language": "python",
     "metadata": {},
     "outputs": [
      {
       "metadata": {},
       "output_type": "pyout",
       "prompt_number": 34,
       "text": [
        "<matplotlib.image.AxesImage at 0x7ffc7b6afe90>"
       ]
      }
     ],
     "prompt_number": 34
    },
    {
     "cell_type": "code",
     "collapsed": false,
     "input": [
      "def strongly_connected_components(graph):\n",
      "    \"\"\"\n",
      "    Tarjan's Algorithm (named for its discoverer, Robert Tarjan) is a graph theory algorithm\n",
      "    for finding the strongly connected components of a graph.\n",
      "    \n",
      "    Based on: http://en.wikipedia.org/wiki/Tarjan%27s_strongly_connected_components_algorithm\n",
      "    \"\"\"\n",
      "\n",
      "    index_counter = [0]\n",
      "    stack = []\n",
      "    lowlinks = {}\n",
      "    index = {}\n",
      "    result = []\n",
      "    \n",
      "    def strongconnect(node):\n",
      "        # set the depth index for this node to the smallest unused index\n",
      "        index[node] = index_counter[0]\n",
      "        lowlinks[node] = index_counter[0]\n",
      "        index_counter[0] += 1\n",
      "        stack.append(node)\n",
      "    \n",
      "        # Consider successors of `node`\n",
      "        try:\n",
      "            successors = graph[node]\n",
      "        except:\n",
      "            successors = []\n",
      "        for successor in successors:\n",
      "            if successor not in lowlinks:\n",
      "                # Successor has not yet been visited; recurse on it\n",
      "                strongconnect(successor)\n",
      "                lowlinks[node] = min(lowlinks[node],lowlinks[successor])\n",
      "            elif successor in stack:\n",
      "                # the successor is in the stack and hence in the current strongly connected component (SCC)\n",
      "                lowlinks[node] = min(lowlinks[node],index[successor])\n",
      "        \n",
      "        # If `node` is a root node, pop the stack and generate an SCC\n",
      "        if lowlinks[node] == index[node]:\n",
      "            connected_component = []\n",
      "            \n",
      "            while True:\n",
      "                successor = stack.pop()\n",
      "                connected_component.append(successor)\n",
      "                if successor == node: break\n",
      "            component = tuple(connected_component)\n",
      "            # storing the result\n",
      "            result.append(component)\n",
      "    \n",
      "    for node in graph:\n",
      "        if node not in lowlinks:\n",
      "            strongconnect(node)\n",
      "    \n",
      "    return result"
     ],
     "language": "python",
     "metadata": {},
     "outputs": [],
     "prompt_number": 43
    },
    {
     "cell_type": "code",
     "collapsed": false,
     "input": [
      "gr.add_edge((15, 9), wt=gr.edge_weight((15, 0)))\n",
      "gr.del_edge((15,0))\n",
      "\n",
      "if True :\n",
      "    dot = write(gr)\n",
      "    gvv = gv.AGraph()\n",
      "    gvv.from_string(dot)\n",
      "    gvv.layout(prog='dot')\n",
      "    gvv.draw(path='frameGraph.png', format='png')"
     ],
     "language": "python",
     "metadata": {},
     "outputs": [],
     "prompt_number": 54
    },
    {
     "cell_type": "code",
     "collapsed": false,
     "input": [
      "strongly_connected_components(gr)"
     ],
     "language": "python",
     "metadata": {},
     "outputs": [
      {
       "metadata": {},
       "output_type": "pyout",
       "prompt_number": 55,
       "text": [
        "[(8, 7, 6, 5, 4, 3, 2, 1, 0), (15, 14, 13, 12, 11, 10, 9)]"
       ]
      }
     ],
     "prompt_number": 55
    },
    {
     "cell_type": "code",
     "collapsed": false,
     "input": [
      "aCycle = np.array(find_cycle(gr))\n",
      "print aCycle.shape, aCycle[-1]-aCycle[0]\n",
      "print aCycle - arange(aCycle[0], aCycle[-1]+1)\n",
      "print frames[aCycle[0]+5]\n",
      "print frames[aCycle[-1]+5]\n",
      "# print gr\n",
      "print aCycle\n",
      "# print\n",
      "# tmp = mm.maximum_flow(gr, 0, 15)\n",
      "# print tmp[0]\n",
      "# print\n",
      "# print tmp[1]\n",
      "# for edge in gr.edges():\n",
      "#     print edge, gr.edge_weight(edge)"
     ],
     "language": "python",
     "metadata": {},
     "outputs": [
      {
       "output_type": "stream",
       "stream": "stdout",
       "text": [
        "(779,) 778\n",
        "[0 0 0 0 0 0 0 0 0 0 0 0 0 0 0 0 0 0 0 0 0 0 0 0 0 0 0 0 0 0 0 0 0 0 0 0 0\n",
        " 0 0 0 0 0 0 0 0 0 0 0 0 0 0 0 0 0 0 0 0 0 0 0 0 0 0 0 0 0 0 0 0 0 0 0 0 0\n",
        " 0 0 0 0 0 0 0 0 0 0 0 0 0 0 0 0 0 0 0 0 0 0 0 0 0 0 0 0 0 0 0 0 0 0 0 0 0\n",
        " 0 0 0 0 0 0 0 0 0 0 0 0 0 0 0 0 0 0 0 0 0 0 0 0 0 0 0 0 0 0 0 0 0 0 0 0 0\n",
        " 0 0 0 0 0 0 0 0 0 0 0 0 0 0 0 0 0 0 0 0 0 0 0 0 0 0 0 0 0 0 0 0 0 0 0 0 0\n",
        " 0 0 0 0 0 0 0 0 0 0 0 0 0 0 0 0 0 0 0 0 0 0 0 0 0 0 0 0 0 0 0 0 0 0 0 0 0\n",
        " 0 0 0 0 0 0 0 0 0 0 0 0 0 0 0 0 0 0 0 0 0 0 0 0 0 0 0 0 0 0 0 0 0 0 0 0 0\n",
        " 0 0 0 0 0 0 0 0 0 0 0 0 0 0 0 0 0 0 0 0 0 0 0 0 0 0 0 0 0 0 0 0 0 0 0 0 0\n",
        " 0 0 0 0 0 0 0 0 0 0 0 0 0 0 0 0 0 0 0 0 0 0 0 0 0 0 0 0 0 0 0 0 0 0 0 0 0\n",
        " 0 0 0 0 0 0 0 0 0 0 0 0 0 0 0 0 0 0 0 0 0 0 0 0 0 0 0 0 0 0 0 0 0 0 0 0 0\n",
        " 0 0 0 0 0 0 0 0 0 0 0 0 0 0 0 0 0 0 0 0 0 0 0 0 0 0 0 0 0 0 0 0 0 0 0 0 0\n",
        " 0 0 0 0 0 0 0 0 0 0 0 0 0 0 0 0 0 0 0 0 0 0 0 0 0 0 0 0 0 0 0 0 0 0 0 0 0\n",
        " 0 0 0 0 0 0 0 0 0 0 0 0 0 0 0 0 0 0 0 0 0 0 0 0 0 0 0 0 0 0 0 0 0 0 0 0 0\n",
        " 0 0 0 0 0 0 0 0 0 0 0 0 0 0 0 0 0 0 0 0 0 0 0 0 0 0 0 0 0 0 0 0 0 0 0 0 0\n",
        " 0 0 0 0 0 0 0 0 0 0 0 0 0 0 0 0 0 0 0 0 0 0 0 0 0 0 0 0 0 0 0 0 0 0 0 0 0\n",
        " 0 0 0 0 0 0 0 0 0 0 0 0 0 0 0 0 0 0 0 0 0 0 0 0 0 0 0 0 0 0 0 0 0 0 0 0 0\n",
        " 0 0 0 0 0 0 0 0 0 0 0 0 0 0 0 0 0 0 0 0 0 0 0 0 0 0 0 0 0 0 0 0 0 0 0 0 0\n",
        " 0 0 0 0 0 0 0 0 0 0 0 0 0 0 0 0 0 0 0 0 0 0 0 0 0 0 0 0 0 0 0 0 0 0 0 0 0\n",
        " 0 0 0 0 0 0 0 0 0 0 0 0 0 0 0 0 0 0 0 0 0 0 0 0 0 0 0 0 0 0 0 0 0 0 0 0 0\n",
        " 0 0 0 0 0 0 0 0 0 0 0 0 0 0 0 0 0 0 0 0 0 0 0 0 0 0 0 0 0 0 0 0 0 0 0 0 0\n",
        " 0 0 0 0 0 0 0 0 0 0 0 0 0 0 0 0 0 0 0 0 0 0 0 0 0 0 0 0 0 0 0 0 0 0 0 0 0\n",
        " 0 0]\n",
        "/home/ilisescu/PhD/data/ribbon2_matted/frame-00036.png\n",
        "/home/ilisescu/PhD/data/ribbon2_matted/frame-00814.png\n",
        "[ 30  31  32  33  34  35  36  37  38  39  40  41  42  43  44  45  46  47\n",
        "  48  49  50  51  52  53  54  55  56  57  58  59  60  61  62  63  64  65\n",
        "  66  67  68  69  70  71  72  73  74  75  76  77  78  79  80  81  82  83\n",
        "  84  85  86  87  88  89  90  91  92  93  94  95  96  97  98  99 100 101\n",
        " 102 103 104 105 106 107 108 109 110 111 112 113 114 115 116 117 118 119\n",
        " 120 121 122 123 124 125 126 127 128 129 130 131 132 133 134 135 136 137\n",
        " 138 139 140 141 142 143 144 145 146 147 148 149 150 151 152 153 154 155\n",
        " 156 157 158 159 160 161 162 163 164 165 166 167 168 169 170 171 172 173\n",
        " 174 175 176 177 178 179 180 181 182 183 184 185 186 187 188 189 190 191\n",
        " 192 193 194 195 196 197 198 199 200 201 202 203 204 205 206 207 208 209\n",
        " 210 211 212 213 214 215 216 217 218 219 220 221 222 223 224 225 226 227\n",
        " 228 229 230 231 232 233 234 235 236 237 238 239 240 241 242 243 244 245\n",
        " 246 247 248 249 250 251 252 253 254 255 256 257 258 259 260 261 262 263\n",
        " 264 265 266 267 268 269 270 271 272 273 274 275 276 277 278 279 280 281\n",
        " 282 283 284 285 286 287 288 289 290 291 292 293 294 295 296 297 298 299\n",
        " 300 301 302 303 304 305 306 307 308 309 310 311 312 313 314 315 316 317\n",
        " 318 319 320 321 322 323 324 325 326 327 328 329 330 331 332 333 334 335\n",
        " 336 337 338 339 340 341 342 343 344 345 346 347 348 349 350 351 352 353\n",
        " 354 355 356 357 358 359 360 361 362 363 364 365 366 367 368 369 370 371\n",
        " 372 373 374 375 376 377 378 379 380 381 382 383 384 385 386 387 388 389\n",
        " 390 391 392 393 394 395 396 397 398 399 400 401 402 403 404 405 406 407\n",
        " 408 409 410 411 412 413 414 415 416 417 418 419 420 421 422 423 424 425\n",
        " 426 427 428 429 430 431 432 433 434 435 436 437 438 439 440 441 442 443\n",
        " 444 445 446 447 448 449 450 451 452 453 454 455 456 457 458 459 460 461\n",
        " 462 463 464 465 466 467 468 469 470 471 472 473 474 475 476 477 478 479\n",
        " 480 481 482 483 484 485 486 487 488 489 490 491 492 493 494 495 496 497\n",
        " 498 499 500 501 502 503 504 505 506 507 508 509 510 511 512 513 514 515\n",
        " 516 517 518 519 520 521 522 523 524 525 526 527 528 529 530 531 532 533\n",
        " 534 535 536 537 538 539 540 541 542 543 544 545 546 547 548 549 550 551\n",
        " 552 553 554 555 556 557 558 559 560 561 562 563 564 565 566 567 568 569\n",
        " 570 571 572 573 574 575 576 577 578 579 580 581 582 583 584 585 586 587\n",
        " 588 589 590 591 592 593 594 595 596 597 598 599 600 601 602 603 604 605\n",
        " 606 607 608 609 610 611 612 613 614 615 616 617 618 619 620 621 622 623\n",
        " 624 625 626 627 628 629 630 631 632 633 634 635 636 637 638 639 640 641\n",
        " 642 643 644 645 646 647 648 649 650 651 652 653 654 655 656 657 658 659\n",
        " 660 661 662 663 664 665 666 667 668 669 670 671 672 673 674 675 676 677\n",
        " 678 679 680 681 682 683 684 685 686 687 688 689 690 691 692 693 694 695\n",
        " 696 697 698 699 700 701 702 703 704 705 706 707 708 709 710 711 712 713\n",
        " 714 715 716 717 718 719 720 721 722 723 724 725 726 727 728 729 730 731\n",
        " 732 733 734 735 736 737 738 739 740 741 742 743 744 745 746 747 748 749\n",
        " 750 751 752 753 754 755 756 757 758 759 760 761 762 763 764 765 766 767\n",
        " 768 769 770 771 772 773 774 775 776 777 778 779 780 781 782 783 784 785\n",
        " 786 787 788 789 790 791 792 793 794 795 796 797 798 799 800 801 802 803\n",
        " 804 805 806 807 808]\n"
       ]
      }
     ],
     "prompt_number": 20
    },
    {
     "cell_type": "code",
     "collapsed": false,
     "input": [
      "from pygraph.algorithms.cycles import find_cycle\n",
      "import pygraph.algorithms.minmax as mm\n",
      "import pygraph.algorithms.searching as search\n",
      "print find_cycle(gr)\n",
      "print mm.minimal_spanning_tree(gr)\n",
      "print search.breadth_first_search(gr)"
     ],
     "language": "python",
     "metadata": {},
     "outputs": [
      {
       "output_type": "stream",
       "stream": "stdout",
       "text": [
        "[30, 31, 32, 33, 34, 35, 36, 37, 38, 39, 40, 41, 42, 43, 44, 45, 46, 47, 48, 49, 50, 51, 52, 53, 54, 55, 56, 57, 58, 59, 60, 61, 62, 63, 64, 65, 66, 67, 68, 69, 70, 71, 72, 73, 74, 75, 76, 77, 78, 79, 80, 81, 82, 83, 84, 85, 86, 87, 88, 89, 90, 91, 92, 93, 94, 95, 96, 97, 98, 99, 100, 101, 102, 103, 104, 105, 106, 107, 108, 109, 110, 111, 112, 113, 114, 115, 116, 117, 118, 119, 120, 121, 122, 123, 124, 125, 126, 127, 128, 129, 130, 131, 132, 133, 134, 135, 136, 137, 138, 139, 140, 141, 142, 143, 144, 145, 146, 147, 148, 149, 150, 151, 152, 153, 154, 155, 156, 157, 158, 159, 160, 161, 162, 163, 164, 165, 166, 167, 168, 169, 170, 171, 172, 173, 174, 175, 176, 177, 178, 179, 180, 181, 182, 183, 184, 185, 186, 187, 188, 189, 190, 191, 192, 193, 194, 195, 196, 197, 198, 199, 200, 201, 202, 203, 204, 205, 206, 207, 208, 209, 210, 211, 212, 213, 214, 215, 216, 217, 218, 219, 220, 221, 222, 223, 224, 225, 226, 227, 228, 229, 230, 231, 232, 233, 234, 235, 236, 237, 238, 239, 240, 241, 242, 243, 244, 245, 246, 247, 248, 249, 250, 251, 252, 253, 254, 255, 256, 257, 258, 259, 260, 261, 262, 263, 264, 265, 266, 267, 268, 269, 270, 271, 272, 273, 274, 275, 276, 277, 278, 279, 280, 281, 282, 283, 284, 285, 286, 287, 288, 289, 290, 291, 292, 293, 294, 295, 296, 297, 298, 299, 300, 301, 302, 303, 304, 305, 306, 307, 308, 309, 310, 311, 312, 313, 314, 315, 316, 317, 318, 319, 320, 321, 322, 323, 324, 325, 326, 327, 328, 329, 330, 331, 332, 333, 334, 335, 336, 337, 338, 339, 340, 341, 342, 343, 344, 345, 346, 347, 348, 349, 350, 351, 352, 353, 354, 355, 356, 357, 358, 359, 360, 361, 362, 363, 364, 365, 366, 367, 368, 369, 370, 371, 372, 373, 374, 375, 376, 377, 378, 379, 380, 381, 382, 383, 384, 385, 386, 387, 388, 389, 390, 391, 392, 393, 394, 395, 396, 397, 398, 399, 400, 401, 402, 403, 404, 405, 406, 407, 408, 409, 410, 411, 412, 413, 414, 415, 416, 417, 418, 419, 420, 421, 422, 423, 424, 425, 426, 427, 428, 429, 430, 431, 432, 433, 434, 435, 436, 437, 438, 439, 440, 441, 442, 443, 444, 445, 446, 447, 448, 449, 450, 451, 452, 453, 454, 455, 456, 457, 458, 459, 460, 461, 462, 463, 464, 465, 466, 467, 468, 469, 470, 471, 472, 473, 474, 475, 476, 477, 478, 479, 480, 481, 482, 483, 484, 485, 486, 487, 488, 489, 490, 491, 492, 493, 494, 495, 496, 497, 498, 499, 500, 501, 502, 503, 504, 505, 506, 507, 508, 509, 510, 511, 512, 513, 514, 515, 516, 517, 518, 519, 520, 521, 522, 523, 524, 525, 526, 527, 528, 529, 530, 531, 532, 533, 534, 535, 536, 537, 538, 539, 540, 541, 542, 543, 544, 545, 546, 547, 548, 549, 550, 551, 552, 553, 554, 555, 556, 557, 558, 559, 560, 561, 562, 563, 564, 565, 566, 567, 568, 569, 570, 571, 572, 573, 574, 575, 576, 577, 578, 579, 580, 581, 582, 583, 584, 585, 586, 587, 588, 589, 590, 591, 592, 593, 594, 595, 596, 597, 598, 599, 600, 601, 602, 603, 604, 605, 606, 607, 608, 609, 610, 611, 612, 613, 614, 615, 616, 617, 618, 619, 620, 621, 622, 623, 624, 625, 626, 627, 628, 629, 630, 631, 632, 633, 634, 635, 636, 637, 638, 639, 640, 641, 642, 643, 644, 645, 646, 647, 648, 649, 650, 651, 652, 653, 654, 655, 656, 657, 658, 659, 660, 661, 662, 663, 664, 665, 666, 667, 668, 669, 670, 671, 672, 673, 674, 675, 676, 677, 678, 679, 680, 681, 682, 683, 684, 685, 686, 687, 688, 689, 690, 691, 692, 693, 694, 695, 696, 697, 698, 699, 700, 701, 702, 703, 704, 705, 706, 707, 708, 709, 710, 711, 712, 713, 714, 715, 716, 717, 718, 719, 720, 721, 722, 723, 724, 725, 726, 727, 728, 729, 730, 731, 732, 733, 734, 735, 736, 737, 738, 739, 740, 741, 742, 743, 744, 745, 746, 747, 748, 749, 750, 751, 752, 753, 754, 755, 756, 757, 758, 759, 760, 761, 762, 763, 764, 765, 766, 767, 768, 769, 770, 771, 772, 773, 774, 775, 776, 777, 778, 779, 780, 781, 782, 783, 784, 785, 786, 787, 788, 789, 790, 791, 792, 793, 794, 795, 796, 797, 798, 799, 800, 801, 802, 803, 804, 805, 806, 807, 808]\n",
        "{0: None, 1: 0, 2: 1, 3: 2, 4: 3, 5: 4, 6: 5, 7: 6, 8: 7, 9: 8, 10: 9, 11: 10, 12: 11, 13: 12, 14: 13, 15: 14, 16: 15, 17: 16, 18: 17, 19: 18, 20: 19, 21: 20, 22: 21, 23: 22, 24: 23, 25: 24, 26: 25, 27: 26, 28: 27, 29: 28, 30: 29, 31: 30, 32: 31, 33: 32, 34: 33, 35: 34, 36: 35, 37: 36, 38: 37, 39: 38, 40: 39, 41: 40, 42: 41, 43: 42, 44: 43, 45: 44, 46: 45, 47: 46, 48: 47, 49: 48, 50: 49, 51: 50, 52: 51, 53: 52, 54: 53, 55: 54, 56: 55, 57: 56, 58: 57, 59: 58, 60: 59, 61: 60, 62: 61, 63: 62, 64: 63, 65: 64, 66: 65, 67: 66, 68: 67, 69: 68, 70: 69, 71: 70, 72: 71, 73: 72, 74: 73, 75: 74, 76: 75, 77: 76, 78: 77, 79: 78, 80: 79, 81: 80, 82: 81, 83: 82, 84: 83, 85: 84, 86: 85, 87: 86, 88: 87, 89: 88, 90: 89, 91: 90, 92: 91, 93: 92, 94: 93, 95: 94, 96: 95, 97: 96, 98: 97, 99: 98, 100: 99, 101: 100, 102: 101, 103: 102, 104: 103, 105: 104, 106: 105, 107: 106, 108: 107, 109: 108, 110: 109, 111: 110, 112: 111, 113: 112, 114: 113, 115: 114, 116: 115, 117: 116, 118: 117, 119: 118, 120: 119, 121: 120, 122: 121, 123: 122, 124: 123, 125: 124, 126: 125, 127: 126, 128: 127, 129: 128, 130: 129, 131: 130, 132: 131, 133: 132, 134: 133, 135: 134, 136: 135, 137: 136, 138: 137, 139: 138, 140: 139, 141: 140, 142: 141, 143: 142, 144: 143, 145: 144, 146: 145, 147: 146, 148: 147, 149: 148, 150: 149, 151: 150, 152: 151, 153: 152, 154: 153, 155: 154, 156: 155, 157: 156, 158: 157, 159: 158, 160: 159, 161: 160, 162: 161, 163: 162, 164: 163, 165: 164, 166: 165, 167: 166, 168: 167, 169: 168, 170: 169, 171: 170, 172: 171, 173: 172, 174: 173, 175: 174, 176: 175, 177: 176, 178: 177, 179: 178, 180: 179, 181: 180, 182: 181, 183: 182, 184: 183, 185: 184, 186: 185, 187: 186, 188: 187, 189: 188, 190: 189, 191: 190, 192: 191, 193: 192, 194: 193, 195: 194, 196: 195, 197: 196, 198: 197, 199: 198, 200: 199, 201: 200, 202: 201, 203: 202, 204: 203, 205: 204, 206: 205, 207: 206, 208: 207, 209: 208, 210: 209, 211: 210, 212: 211, 213: 212, 214: 213, 215: 214, 216: 215, 217: 216, 218: 217, 219: 218, 220: 219, 221: 220, 222: 221, 223: 222, 224: 223, 225: 224, 226: 225, 227: 226, 228: 227, 229: 228, 230: 229, 231: 230, 232: 231, 233: 232, 234: 233, 235: 234, 236: 235, 237: 236, 238: 237, 239: 238, 240: 239, 241: 240, 242: 241, 243: 242, 244: 243, 245: 244, 246: 245, 247: 246, 248: 247, 249: 248, 250: 249, 251: 250, 252: 251, 253: 252, 254: 253, 255: 254, 256: 255, 257: 256, 258: 257, 259: 258, 260: 259, 261: 260, 262: 261, 263: 262, 264: 263, 265: 264, 266: 265, 267: 266, 268: 267, 269: 268, 270: 269, 271: 270, 272: 271, 273: 272, 274: 273, 275: 274, 276: 275, 277: 276, 278: 277, 279: 278, 280: 279, 281: 280, 282: 281, 283: 282, 284: 283, 285: 284, 286: 285, 287: 286, 288: 287, 289: 288, 290: 289, 291: 290, 292: 291, 293: 292, 294: 293, 295: 294, 296: 295, 297: 296, 298: 297, 299: 298, 300: 299, 301: 300, 302: 301, 303: 302, 304: 303, 305: 304, 306: 305, 307: 306, 308: 307, 309: 308, 310: 309, 311: 310, 312: 311, 313: 312, 314: 313, 315: 314, 316: 315, 317: 316, 318: 317, 319: 318, 320: 319, 321: 320, 322: 321, 323: 322, 324: 323, 325: 324, 326: 325, 327: 326, 328: 327, 329: 328, 330: 329, 331: 330, 332: 331, 333: 332, 334: 333, 335: 334, 336: 335, 337: 336, 338: 337, 339: 338, 340: 339, 341: 340, 342: 341, 343: 342, 344: 343, 345: 344, 346: 345, 347: 346, 348: 347, 349: 348, 350: 349, 351: 350, 352: 351, 353: 352, 354: 353, 355: 354, 356: 355, 357: 356, 358: 357, 359: 358, 360: 359, 361: 360, 362: 361, 363: 362, 364: 363, 365: 364, 366: 365, 367: 366, 368: 367, 369: 368, 370: 369, 371: 370, 372: 371, 373: 372, 374: 373, 375: 374, 376: 375, 377: 376, 378: 377, 379: 378, 380: 379, 381: 380, 382: 381, 383: 382, 384: 383, 385: 384, 386: 385, 387: 386, 388: 387, 389: 388, 390: 389, 391: 390, 392: 391, 393: 392, 394: 393, 395: 394, 396: 395, 397: 396, 398: 397, 399: 398, 400: 399, 401: 400, 402: 401, 403: 402, 404: 403, 405: 404, 406: 405, 407: 406, 408: 407, 409: 408, 410: 409, 411: 410, 412: 411, 413: 412, 414: 413, 415: 414, 416: 415, 417: 416, 418: 417, 419: 418, 420: 419, 421: 420, 422: 421, 423: 422, 424: 423, 425: 424, 426: 425, 427: 426, 428: 427, 429: 428, 430: 429, 431: 430, 432: 431, 433: 432, 434: 433, 435: 434, 436: 435, 437: 436, 438: 437, 439: 438, 440: 439, 441: 440, 442: 441, 443: 442, 444: 443, 445: 444, 446: 445, 447: 446, 448: 447, 449: 448, 450: 449, 451: 450, 452: 451, 453: 452, 454: 453, 455: 454, 456: 455, 457: 456, 458: 457, 459: 458, 460: 459, 461: 460, 462: 461, 463: 462, 464: 463, 465: 464, 466: 465, 467: 466, 468: 467, 469: 468, 470: 469, 471: 470, 472: 471, 473: 472, 474: 473, 475: 474, 476: 475, 477: 476, 478: 477, 479: 478, 480: 479, 481: 480, 482: 481, 483: 482, 484: 483, 485: 484, 486: 485, 487: 486, 488: 487, 489: 488, 490: 489, 491: 490, 492: 491, 493: 492, 494: 493, 495: 494, 496: 495, 497: 496, 498: 497, 499: 498, 500: 499, 501: 500, 502: 501, 503: 502, 504: 503, 505: 504, 506: 505, 507: 506, 508: 507, 509: 508, 510: 509, 511: 510, 512: 511, 513: 512, 514: 513, 515: 514, 516: 515, 517: 516, 518: 517, 519: 518, 520: 519, 521: 520, 522: 521, 523: 522, 524: 523, 525: 524, 526: 525, 527: 526, 528: 527, 529: 528, 530: 529, 531: 530, 532: 531, 533: 532, 534: 533, 535: 534, 536: 535, 537: 536, 538: 537, 539: 538, 540: 539, 541: 540, 542: 541, 543: 542, 544: 543, 545: 544, 546: 545, 547: 546, 548: 547, 549: 548, 550: 549, 551: 550, 552: 551, 553: 552, 554: 553, 555: 554, 556: 555, 557: 556, 558: 557, 559: 558, 560: 559, 561: 560, 562: 561, 563: 562, 564: 563, 565: 564, 566: 565, 567: 566, 568: 567, 569: 568, 570: 569, 571: 570, 572: 571, 573: 572, 574: 573, 575: 574, 576: 575, 577: 576, 578: 577, 579: 578, 580: 579, 581: 580, 582: 581, 583: 582, 584: 583, 585: 584, 586: 585, 587: 586, 588: 587, 589: 588, 590: 589, 591: 590, 592: 591, 593: 592, 594: 593, 595: 594, 596: 595, 597: 596, 598: 597, 599: 598, 600: 599, 601: 600, 602: 601, 603: 602, 604: 603, 605: 604, 606: 605, 607: 606, 608: 607, 609: 608, 610: 609, 611: 610, 612: 611, 613: 612, 614: 613, 615: 614, 616: 615, 617: 616, 618: 617, 619: 618, 620: 619, 621: 620, 622: 621, 623: 622, 624: 623, 625: 624, 626: 625, 627: 626, 628: 627, 629: 628, 630: 629, 631: 630, 632: 631, 633: 632, 634: 633, 635: 634, 636: 635, 637: 636, 638: 637, 639: 638, 640: 639, 641: 640, 642: 641, 643: 642, 644: 643, 645: 644, 646: 645, 647: 646, 648: 647, 649: 648, 650: 649, 651: 650, 652: 651, 653: 652, 654: 653, 655: 654, 656: 655, 657: 656, 658: 657, 659: 658, 660: 659, 661: 660, 662: 661, 663: 662, 664: 663, 665: 664, 666: 665, 667: 666, 668: 667, 669: 668, 670: 669, 671: 670, 672: 671, 673: 672, 674: 673, 675: 674, 676: 675, 677: 676, 678: 677, 679: 678, 680: 679, 681: 680, 682: 681, 683: 682, 684: 683, 685: 684, 686: 685, 687: 686, 688: 687, 689: 688, 690: 689, 691: 690, 692: 691, 693: 692, 694: 693, 695: 694, 696: 695, 697: 696, 698: 697, 699: 698, 700: 699, 701: 700, 702: 701, 703: 702, 704: 703, 705: 704, 706: 705, 707: 706, 708: 707, 709: 708, 710: 709, 711: 710, 712: 711, 713: 712, 714: 713, 715: 714, 716: 715, 717: 716, 718: 717, 719: 718, 720: 719, 721: 720, 722: 721, 723: 722, 724: 723, 725: 724, 726: 725, 727: 726, 728: 727, 729: 728, 730: 729, 731: 730, 732: 731, 733: 732, 734: 733, 735: 734, 736: 735, 737: 736, 738: 737, 739: 738, 740: 739, 741: 740, 742: 741, 743: 742, 744: 743, 745: 744, 746: 745, 747: 746, 748: 747, 749: 748, 750: 749, 751: 750, 752: 751, 753: 752, 754: 753, 755: 754, 756: 755, 757: 756, 758: 757, 759: 758, 760: 759, 761: 760, 762: 761, 763: 762, 764: 763, 765: 764, 766: 765, 767: 766, 768: 767, 769: 768, 770: 769, 771: 770, 772: 771, 773: 772, 774: 773, 775: 774, 776: 775, 777: 776, 778: 777, 779: 778, 780: 779, 781: 780, 782: 781, 783: 782, 784: 783, 785: 784, 786: 785, 787: 786, 788: 787, 789: 788, 790: 789, 791: 790, 792: 791, 793: 792, 794: 793, 795: 794, 796: 795, 797: 796, 798: 797, 799: 798, 800: 799, 801: 800, 802: 801, 803: 802, 804: 803, 805: 804, 806: 805, 807: 806, 808: 807, 809: None, 810: 809, 811: 810, 812: 811, 813: 812, 814: 813, 815: 814, 816: 815, 817: 816, 818: 817, 819: 818, 820: 819, 821: 820, 822: 821, 823: 822, 824: 823, 825: 824, 826: 791, 827: 826, 828: 827, 829: 828, 830: 829, 831: 830, 832: 831, 833: 832, 834: 833, 835: 834, 836: 835, 837: 836, 838: 837, 839: 838, 840: 839, 841: 840, 842: 841, 843: 842, 844: 843, 845: 844, 846: 845, 847: 846, 848: 847, 849: 848, 850: 849, 851: 850, 852: 851, 853: 852, 854: 853, 855: 854, 856: 855, 857: 856, 858: 857, 859: 858, 860: 859, 861: 860, 862: 861, 863: 862, 864: 863, 865: 864, 866: 865, 867: 866, 868: 867, 869: 868, 870: 869, 871: 870, 872: 871, 873: 872, 874: 873, 875: 874, 876: 875, 877: 876, 878: 877, 879: 878, 880: 879, 881: 880, 882: 881, 883: 882, 884: 883, 885: 884, 886: 885, 887: 886, 888: 887, 889: 888, 890: 889, 891: 890, 892: 891, 893: 892, 894: 893, 895: 894, 896: 895, 897: 896, 898: 897, 899: 898, 900: 899, 901: 900, 902: 901, 903: 902, 904: 903, 905: 904, 906: 905, 907: 906, 908: 907, 909: 908, 910: 909, 911: 910, 912: 911, 913: 912, 914: 913, 915: 914, 916: 915, 917: 916, 918: 917, 919: 918, 920: 919, 921: 920, 922: 921, 923: 922, 924: 923, 925: 924, 926: 925, 927: 926, 928: 927, 929: 928, 930: 929, 931: 930, 932: 931, 933: 932, 934: 933, 935: 934, 936: 935, 937: 936, 938: 937, 939: 938, 940: 939, 941: 940, 942: 941, 943: 942, 944: 943, 945: 944, 946: 945, 947: 946, 948: 947, 949: 948, 950: 949, 951: 950, 952: 951, 953: 952, 954: 953, 955: 954, 956: 955, 957: 956, 958: 957, 959: 958, 960: 959, 961: 960, 962: 961, 963: 962, 964: 963, 965: 964, 966: 965, 967: 966, 968: 967, 969: 968, 970: 969, 971: 970, 972: 971, 973: 972, 974: 973, 975: 974, 976: 975, 977: 976, 978: 977, 979: 978, 980: 979, 981: 980, 982: 981, 983: 982, 984: 983, 985: 984, 986: 985, 987: 986, 988: 987, 989: 988, 990: 989, 991: 990, 992: 991, 993: 992, 994: 993, 995: 994, 996: 995, 997: 996, 998: 997, 999: 998, 1000: 999, 1001: 1000, 1002: 1001, 1003: 1002, 1004: 1003, 1005: 1004, 1006: 1005, 1007: 1006, 1008: 1007, 1009: 1008, 1010: 1009, 1011: 1010, 1012: 1011, 1013: 1012, 1014: 1013, 1015: 1014, 1016: 1015, 1017: 1016, 1018: 1017, 1019: 1018, 1020: 1019, 1021: 1020, 1022: 1021, 1023: 1022, 1024: 1023, 1025: 1024, 1026: 1025, 1027: 1026, 1028: 1027, 1029: 1028, 1030: 1029, 1031: 1030, 1032: 1031, 1033: 1032, 1034: 1033, 1035: 1034, 1036: 1035, 1037: 1036, 1038: 1037, 1039: 1038, 1040: 1039, 1041: 1040, 1042: 1041, 1043: 1042, 1044: 1043, 1045: 1044, 1046: 1045, 1047: 1046, 1048: 1047, 1049: 1048, 1050: 1049, 1051: 1050, 1052: 1051, 1053: 1052, 1054: 1053, 1055: 1054, 1056: 1055, 1057: 1056, 1058: 1057, 1059: 1058, 1060: 1059, 1061: 1060, 1062: 1061, 1063: 1062, 1064: 1063, 1065: 1064, 1066: 1065, 1067: 1066, 1068: 1067, 1069: 1068, 1070: 1069, 1071: 1070, 1072: 1071, 1073: 1072, 1074: 1073, 1075: 1074, 1076: 1075, 1077: 1076, 1078: 1077, 1079: 1078, 1080: 1079, 1081: 1080, 1082: 1081, 1083: 1082, 1084: 1083, 1085: 1084, 1086: 1085, 1087: 1086, 1088: 1087, 1089: 1088, 1090: 1089, 1091: 1090, 1092: 1091, 1093: 1092, 1094: 1093, 1095: 1094, 1096: 1095, 1097: 1096, 1098: 1097, 1099: 1098, 1100: 1099, 1101: 1100, 1102: 1101, 1103: 1102, 1104: 1103, 1105: 1104, 1106: 1105, 1107: 1106, 1108: 1107, 1109: 1108, 1110: 1109, 1111: 1110, 1112: 1111, 1113: 1112, 1114: 1113, 1115: 1114, 1116: 1115, 1117: 1116, 1118: 1117, 1119: 1118, 1120: 1119, 1121: 1120, 1122: 1121, 1123: 1122, 1124: 1123, 1125: 1124, 1126: 1125, 1127: 1126, 1128: 1127, 1129: 1128, 1130: 1129, 1131: 1130, 1132: 1131, 1133: 1132, 1134: 1133, 1135: 1134, 1136: 1135, 1137: 1136, 1138: 1137, 1139: 1138, 1140: 1139, 1141: 1140, 1142: 1141, 1143: 1142, 1144: 1143, 1145: 1144, 1146: 1145, 1147: 1146, 1148: 1147, 1149: 1148, 1150: 1149, 1151: 1150, 1152: 1151, 1153: 1152, 1154: 1153, 1155: 1154, 1156: 1155, 1157: 1156, 1158: 1157, 1159: 1158, 1160: 1159, 1161: 1160, 1162: 1161, 1163: 1162, 1164: 1163, 1165: 1164, 1166: 1165, 1167: 1166, 1168: 1167, 1169: 1168, 1170: 1169, 1171: 1170, 1172: 1171, 1173: 1172, 1174: 1173, 1175: 1174, 1176: 1175, 1177: 1176, 1178: 1177, 1179: 1178, 1180: 1179, 1181: 1180, 1182: 1181, 1183: 1182, 1184: 1183, 1185: 1184, 1186: 1185, 1187: 1186, 1188: 1187, 1189: 1188, 1190: 1189, 1191: 1190, 1192: 1191, 1193: 1192, 1194: 1193, 1195: 1194, 1196: 1195, 1197: 1196, 1198: 1197, 1199: 1198, 1200: 1199, 1201: 1200, 1202: 1201, 1203: 1202, 1204: 1203, 1205: 1204, 1206: 1205, 1207: 1206, 1208: 1207, 1209: 1208, 1210: 1209, 1211: 1210, 1212: 1211, 1213: 1212, 1214: 1213, 1215: 1214, 1216: 1215, 1217: 1216, 1218: 1217, 1219: 1218, 1220: 1219, 1221: 1220, 1222: 1221, 1223: 1222, 1224: 1223, 1225: 1224, 1226: 1225, 1227: 1226, 1228: 1227, 1229: 1228, 1230: 1229, 1231: 1230, 1232: 1231, 1233: 1232, 1234: 1233, 1235: 1234, 1236: 1235, 1237: 1236, 1238: 1237, 1239: 1238, 1240: 1239, 1241: 1240, 1242: 1241, 1243: 1242, 1244: None, 1245: None, 1246: 1245, 1247: 1246, 1248: 1247, 1249: 1248, 1250: 1249, 1251: 1250, 1252: 1251, 1253: 1252, 1254: 1253, 1255: 1254, 1256: 1255, 1257: 1256, 1258: 1257, 1259: None, 1260: None, 1261: None, 1262: None, 1263: 1262, 1264: None, 1265: None, 1266: None, 1267: None, 1268: 1267, 1269: 1268, 1270: None}"
       ]
      },
      {
       "output_type": "stream",
       "stream": "stdout",
       "text": [
        "\n",
        "({0: None, 1: 0, 2: 1, 3: 2, 4: 3, 5: 4, 6: 5, 7: 6, 8: 7, 9: 8, 10: 8, 11: 9, 12: 10, 13: 11, 14: 12, 15: 13, 16: 14, 17: 15, 18: 16, 19: 17, 20: 18, 21: 19, 22: 20, 23: 22, 24: 22, 25: 23, 26: 24, 27: 25, 28: 26, 29: 27, 30: 28, 31: 30, 32: 31, 33: 32, 34: 33, 35: 34, 36: 35, 37: 36, 38: 37, 39: 38, 40: 39, 41: 40, 42: 41, 43: 42, 44: 43, 45: 43, 46: 44, 47: 45, 48: 47, 49: 47, 50: 49, 51: 50, 52: 50, 53: 52, 54: 52, 55: 54, 56: 55, 57: 55, 58: 56, 59: 57, 60: 59, 61: 60, 62: 61, 63: 62, 64: 63, 65: 63, 66: 65, 67: 65, 68: 66, 69: 67, 70: 68, 71: 69, 72: 70, 73: 72, 74: 73, 75: 74, 76: 75, 77: 76, 78: 77, 79: 78, 80: 79, 81: 80, 82: 80, 83: 81, 84: 82, 85: 83, 86: 84, 87: 86, 88: 87, 89: 88, 90: 89, 91: 172, 92: 173, 93: 79, 94: 93, 95: 94, 96: 95, 97: 96, 98: 96, 99: 97, 100: 99, 101: 99, 102: 100, 103: 102, 104: 102, 105: 103, 106: 104, 107: 105, 108: 106, 109: 108, 110: 109, 111: 110, 112: 110, 113: 111, 114: 112, 115: 114, 116: 115, 117: 116, 118: 88, 119: 89, 120: 118, 121: 119, 122: 121, 123: 122, 124: 122, 125: 123, 126: 124, 127: 94, 128: 95, 129: 127, 130: 128, 131: 129, 132: 131, 133: 132, 134: 133, 135: 134, 136: 135, 137: 136, 138: 137, 139: 138, 140: 139, 141: 139, 142: 140, 143: 141, 144: 142, 145: 143, 146: 144, 147: 146, 148: 147, 149: 148, 150: 149, 151: 150, 152: 150, 153: 152, 154: 153, 155: 153, 156: 154, 157: 155, 158: 156, 159: 157, 160: 158, 161: 160, 162: 160, 163: 161, 164: 163, 165: 163, 166: 164, 167: 166, 168: 167, 169: 168, 170: 169, 171: 75, 172: 76, 173: 77, 174: 78, 175: 174, 176: 175, 177: 175, 178: 176, 179: 178, 180: 178, 181: 179, 182: 180, 183: 181, 184: 182, 185: 183, 186: 185, 187: 186, 188: 186, 189: 187, 190: 188, 191: 190, 192: 191, 193: 192, 194: 193, 195: 194, 196: 195, 197: 196, 198: 196, 199: 198, 200: 199, 201: 199, 202: 200, 203: 201, 204: 202, 205: 203, 206: 204, 207: 205, 208: 206, 209: 207, 210: 208, 211: 209, 212: 211, 213: 212, 214: 193, 215: 194, 216: 214, 217: 215, 218: 217, 219: 217, 220: 218, 221: 219, 222: 221, 223: 222, 224: 223, 225: 224, 226: 225, 227: 225, 228: 226, 229: 227, 230: 228, 231: 229, 232: 230, 233: 231, 234: 232, 235: 234, 236: 235, 237: 236, 238: 237, 239: 238, 240: 239, 241: 239, 242: 241, 243: 242, 244: 243, 245: 243, 246: 244, 247: 246, 248: 247, 249: 248, 250: 249, 251: 250, 252: 251, 253: 251, 254: 252, 255: 253, 256: 254, 257: 255, 258: 256, 259: 257, 260: 258, 261: 259, 262: 260, 263: 262, 264: 263, 265: 264, 266: 265, 267: 266, 268: 267, 269: 268, 270: 269, 271: 270, 272: 271, 273: 272, 274: 273, 275: 274, 276: 275, 277: 276, 278: 276, 279: 277, 280: 278, 281: 279, 282: 280, 283: 282, 284: 283, 285: 284, 286: 284, 287: 286, 288: 286, 289: 287, 290: 288, 291: 289, 292: 290, 293: 291, 294: 292, 295: 293, 296: 295, 297: 296, 298: 297, 299: 298, 300: 298, 301: 299, 302: 300, 303: 302, 304: 303, 305: 304, 306: 305, 307: 306, 308: 306, 309: 307, 310: 308, 311: 309, 312: 311, 313: 311, 314: 313, 315: 313, 316: 314, 317: 316, 318: 317, 319: 318, 320: 319, 321: 319, 322: 320, 323: 321, 324: 322, 325: 323, 326: 324, 327: 325, 328: 326, 329: 328, 330: 329, 331: 330, 332: 331, 333: 332, 334: 332, 335: 334, 336: 335, 337: 336, 338: 337, 339: 337, 340: 339, 341: 340, 342: 341, 343: 342, 344: 343, 345: 343, 346: 345, 347: 346, 348: 347, 349: 348, 350: 349, 351: 350, 352: 350, 353: 352, 354: 353, 355: 354, 356: 355, 357: 356, 358: 357, 359: 358, 360: 358, 361: 359, 362: 360, 363: 361, 364: 362, 365: 363, 366: 365, 367: 366, 368: 367, 369: 368, 370: 369, 371: 370, 372: 370, 373: 371, 374: 373, 375: 374, 376: 375, 377: 376, 378: 376, 379: 378, 380: 379, 381: 380, 382: 381, 383: 382, 384: 383, 385: 383, 386: 384, 387: 386, 388: 387, 389: 388, 390: 389, 391: 390, 392: 391, 393: 392, 394: 392, 395: 393, 396: 394, 397: 395, 398: 396, 399: 397, 400: 399, 401: 400, 402: 400, 403: 401, 404: 402, 405: 403, 406: 404, 407: 405, 408: 407, 409: 408, 410: 421, 411: 479, 412: 411, 413: 412, 414: 413, 415: 414, 416: 415, 417: 416, 418: 416, 419: 417, 420: 419, 421: 478, 422: 421, 423: 422, 424: 423, 425: 424, 426: 425, 427: 426, 428: 427, 429: 428, 430: 429, 431: 430, 432: 431, 433: 432, 434: 433, 435: 434, 436: 435, 437: 436, 438: 437, 439: 438, 440: 439, 441: 439, 442: 441, 443: 442, 444: 443, 445: 444, 446: 444, 447: 445, 448: 446, 449: 447, 450: 449, 451: 449, 452: 450, 453: 452, 454: 453, 455: 454, 456: 455, 457: 456, 458: 457, 459: 458, 460: 459, 461: 460, 462: 461, 463: 462, 464: 463, 465: 464, 466: 465, 467: 465, 468: 466, 469: 467, 470: 469, 471: 470, 472: 471, 473: 521, 474: 473, 475: 474, 476: 399, 477: 476, 478: 477, 479: 478, 480: 479, 481: 480, 482: 481, 483: 482, 484: 483, 485: 484, 486: 485, 487: 486, 488: 487, 489: 488, 490: 489, 491: 490, 492: 491, 493: 492, 494: 493, 495: 493, 496: 495, 497: 496, 498: 497, 499: 497, 500: 498, 501: 500, 502: 500, 503: 501, 504: 503, 505: 495, 506: 496, 507: 506, 508: 507, 509: 507, 510: 508, 511: 509, 512: 511, 513: 512, 514: 527, 515: 528, 516: 388, 517: 389, 518: 517, 519: 518, 520: 519, 521: 520, 522: 521, 523: 522, 524: 522, 525: 523, 526: 525, 527: 526, 528: 527, 529: 528, 530: 529, 531: 529, 532: 531, 533: 532, 534: 533, 535: 534, 536: 534, 537: 535, 538: 536, 539: 537, 540: 538, 541: 539, 542: 540, 543: 541, 544: 543, 545: 544, 546: 545, 547: 546, 548: 546, 549: 548, 550: 549, 551: 550, 552: 550, 553: 552, 554: 553, 555: 553, 556: 554, 557: 556, 558: 557, 559: 558, 560: 559, 561: 560, 562: 561, 563: 562, 564: 390, 565: 391, 566: 565, 567: 566, 568: 567, 569: 568, 570: 569, 571: 570, 572: 571, 573: 572, 574: 573, 575: 574, 576: 575, 577: 576, 578: 577, 579: 578, 580: 579, 581: 580, 582: 581, 583: 582, 584: 583, 585: 584, 586: 585, 587: 586, 588: 587, 589: 588, 590: 589, 591: 590, 592: 591, 593: 592, 594: 593, 595: 594, 596: 595, 597: 596, 598: 597, 599: 598, 600: 599, 601: 600, 602: 600, 603: 601, 604: 603, 605: 604, 606: 605, 607: 606, 608: 607, 609: 608, 610: 609, 611: 610, 612: 611, 613: 612, 614: 613, 615: 613, 616: 615, 617: 616, 618: 616, 619: 617, 620: 619, 621: 620, 622: 621, 623: 622, 624: 623, 625: 624, 626: 625, 627: 626, 628: 627, 629: 628, 630: 629, 631: 630, 632: 631, 633: 632, 634: 633, 635: 634, 636: 635, 637: 636, 638: 637, 639: 638, 640: 639, 641: 639, 642: 640, 643: 641, 644: 642, 645: 643, 646: 645, 647: 646, 648: 647, 649: 648, 650: 649, 651: 650, 652: 651, 653: 652, 654: 653, 655: 654, 656: 655, 657: 656, 658: 657, 659: 658, 660: 659, 661: 660, 662: 661, 663: 662, 664: 663, 665: 664, 666: 665, 667: 666, 668: 667, 669: 668, 670: 669, 671: 670, 672: 671, 673: 672, 674: 628, 675: 629, 676: 630, 677: 631, 678: 677, 679: 678, 680: 679, 681: 588, 682: 589, 683: 681, 684: 682, 685: 683, 686: 685, 687: 686, 688: 687, 689: 687, 690: 689, 691: 690, 692: 691, 693: 692, 694: 693, 695: 694, 696: 695, 697: 696, 698: 697, 699: 698, 700: 699, 701: 700, 702: 701, 703: 702, 704: 703, 705: 703, 706: 704, 707: 705, 708: 706, 709: 707, 710: 708, 711: 710, 712: 711, 713: 712, 714: 713, 715: 714, 716: 715, 717: 716, 718: 717, 719: 718, 720: 719, 721: 720, 722: 721, 723: 722, 724: 722, 725: 723, 726: 725, 727: 726, 728: 727, 729: 728, 730: 729, 731: 729, 732: 730, 733: 731, 734: 733, 735: 733, 736: 735, 737: 736, 738: 737, 739: 738, 740: 739, 741: 740, 742: 741, 743: 742, 744: 743, 745: 744, 746: 744, 747: 745, 748: 746, 749: 748, 750: 749, 751: 750, 752: 750, 753: 751, 754: 753, 755: 754, 756: 755, 757: 756, 758: 757, 759: 758, 760: 759, 761: 760, 762: 761, 763: 762, 764: 763, 765: 764, 766: 765, 767: 766, 768: 767, 769: 768, 770: 769, 771: 770, 772: 771, 773: 772, 774: 773, 775: 774, 776: 775, 777: 776, 778: 777, 779: 778, 780: 779, 781: 779, 782: 780, 783: 782, 784: 783, 785: 783, 786: 784, 787: 785, 788: 786, 789: 787, 790: 789, 791: 790, 792: 791, 793: 792, 794: 793, 795: 794, 796: 795, 797: 796, 798: 797, 799: 798, 800: 799, 801: 800, 802: 847, 803: 848, 804: 768, 805: 769, 806: 770, 807: 806, 808: 807, 809: None, 810: 809, 811: 810, 812: 811, 813: 812, 814: 813, 815: 814, 816: 815, 817: 816, 818: 816, 819: 817, 820: 818, 821: 819, 822: 821, 823: 822, 824: 823, 825: 824, 826: 791, 827: 792, 828: 793, 829: 794, 830: 795, 831: 796, 832: 797, 833: 831, 834: 832, 835: 833, 836: 834, 837: 836, 838: 836, 839: 837, 840: 839, 841: 840, 842: 841, 843: 842, 844: 843, 845: 798, 846: 799, 847: 845, 848: 847, 849: 848, 850: 849, 851: 850, 852: 851, 853: 851, 854: 852, 855: 853, 856: 855, 857: 856, 858: 857, 859: 858, 860: 859, 861: 860, 862: 861, 863: 862, 864: 863, 865: 864, 866: 865, 867: 865, 868: 866, 869: 867, 870: 868, 871: 869, 872: 870, 873: 872, 874: 873, 875: 874, 876: 875, 877: 876, 878: 877, 879: 878, 880: 879, 881: 880, 882: 881, 883: 882, 884: 883, 885: 884, 886: 885, 887: 886, 888: 927, 889: 928, 890: 929, 891: 930, 892: 931, 893: 891, 894: 892, 895: 893, 896: 895, 897: 896, 898: 875, 899: 876, 900: 877, 901: 878, 902: 879, 903: 880, 904: 881, 905: 904, 906: 905, 907: 906, 908: 907, 909: 908, 910: 874, 911: 910, 912: 911, 913: 912, 914: 913, 915: 914, 916: 914, 917: 915, 918: 916, 919: 917, 920: 919, 921: 871, 922: 872, 923: 921, 924: 923, 925: 924, 926: 925, 927: 926, 928: 927, 929: 928, 930: 929, 931: 930, 932: 931, 933: 932, 934: 932, 935: 933, 936: 934, 937: 935, 938: 937, 939: 937, 940: 938, 941: 939, 942: 940, 943: 942, 944: 943, 945: 944, 946: 945, 947: 946, 948: 947, 949: 948, 950: 949, 951: 950, 952: 951, 953: 951, 954: 952, 955: 953, 956: 954, 957: 955, 958: 956, 959: 958, 960: 959, 961: 960, 962: 961, 963: 962, 964: 963, 965: 964, 966: 965, 967: 965, 968: 966, 969: 967, 970: 968, 971: 970, 972: 971, 973: 972, 974: 972, 975: 974, 976: 974, 977: 975, 978: 976, 979: 977, 980: 978, 981: 979, 982: 980, 983: 981, 984: 983, 985: 983, 986: 985, 987: 986, 988: 987, 989: 988, 990: 988, 991: 989, 992: 990, 993: 991, 994: 993, 995: 994, 996: 994, 997: 995, 998: 997, 999: 998, 1000: 999, 1001: 999, 1002: 1001, 1003: 1001, 1004: 1003, 1005: 1004, 1006: 1005, 1007: 1006, 1008: 1007, 1009: 1008, 1010: 1009, 1011: 1010, 1012: 1011, 1013: 1012, 1014: 1013, 1015: 1014, 1016: 1015, 1017: 1016, 1018: 1017, 1019: 1018, 1020: 1019, 1021: 1020, 1022: 1020, 1023: 1022, 1024: 1023, 1025: 1023, 1026: 1024, 1027: 1025, 1028: 1026, 1029: 1027, 1030: 1029, 1031: 1030, 1032: 1031, 1033: 1032, 1034: 1033, 1035: 1034, 1036: 1035, 1037: 1036, 1038: 1037, 1039: 1038, 1040: 1039, 1041: 1040, 1042: 1041, 1043: 1041, 1044: 1043, 1045: 1044, 1046: 1045, 1047: 1046, 1048: 1047, 1049: 1048, 1050: 1049, 1051: 1050, 1052: 1050, 1053: 1052, 1054: 1052, 1055: 1054, 1056: 1055, 1057: 1056, 1058: 1056, 1059: 1057, 1060: 1058, 1061: 1059, 1062: 1060, 1063: 1062, 1064: 1063, 1065: 1064, 1066: 1065, 1067: 1066, 1068: 1067, 1069: 1068, 1070: 1069, 1071: 1070, 1072: 1071, 1073: 1072, 1074: 1073, 1075: 1073, 1076: 1075, 1077: 1076, 1078: 1077, 1079: 1078, 1080: 1079, 1081: 1080, 1082: 1081, 1083: 1082, 1084: 1083, 1085: 1084, 1086: 1085, 1087: 1086, 1088: 1087, 1089: 1088, 1090: 1089, 1091: 1090, 1092: 1091, 1093: 1091, 1094: 1093, 1095: 1094, 1096: 1095, 1097: 1096, 1098: 1097, 1099: 1098, 1100: 1099, 1101: 1100, 1102: 1101, 1103: 1102, 1104: 1103, 1105: 1104, 1106: 1104, 1107: 1106, 1108: 1107, 1109: 1108, 1110: 1109, 1111: 1110, 1112: 1111, 1113: 1112, 1114: 1083, 1115: 1084, 1116: 1115, 1117: 1116, 1118: 1117, 1119: 1118, 1120: 1119, 1121: 1120, 1122: 1121, 1123: 1122, 1124: 1123, 1125: 1124, 1126: 1125, 1127: 1126, 1128: 1127, 1129: 1128, 1130: 1129, 1131: 1130, 1132: 1131, 1133: 1132, 1134: 1133, 1135: 1134, 1136: 1135, 1137: 1136, 1138: 1136, 1139: 1137, 1140: 1138, 1141: 1140, 1142: 1141, 1143: 1141, 1144: 1142, 1145: 1144, 1146: 1145, 1147: 1146, 1148: 1147, 1149: 1148, 1150: 1149, 1151: 1150, 1152: 1151, 1153: 1152, 1154: 1153, 1155: 1154, 1156: 1155, 1157: 1156, 1158: 1157, 1159: 1158, 1160: 1159, 1161: 1160, 1162: 1161, 1163: 1162, 1164: 1163, 1165: 1164, 1166: 1165, 1167: 1166, 1168: 1167, 1169: 1168, 1170: 1169, 1171: 1170, 1172: 1171, 1173: 1172, 1174: 1173, 1175: 1174, 1176: 1175, 1177: 1176, 1178: 1177, 1179: 1178, 1180: 1179, 1181: 1180, 1182: 1181, 1183: 1182, 1184: 1183, 1185: 1184, 1186: 1185, 1187: 1186, 1188: 1187, 1189: 1188, 1190: 1189, 1191: 1190, 1192: 1191, 1193: 1192, 1194: 1193, 1195: 1194, 1196: 1195, 1197: 1196, 1198: 1197, 1199: 1198, 1200: 1199, 1201: 1200, 1202: 1201, 1203: 1202, 1204: 1203, 1205: 1204, 1206: 1205, 1207: 1206, 1208: 1207, 1209: 1208, 1210: 1209, 1211: 1210, 1212: 1211, 1213: 1212, 1214: 1213, 1215: 1214, 1216: 1215, 1217: 1216, 1218: 1217, 1219: 1218, 1220: 1219, 1221: 1220, 1222: 1221, 1223: 1222, 1224: 1223, 1225: 1224, 1226: 1225, 1227: 1226, 1228: 1227, 1229: 1228, 1230: 1229, 1231: 1230, 1232: 1231, 1233: 1232, 1234: 1233, 1235: 1234, 1236: 1235, 1237: 1236, 1238: 1237, 1239: 1238, 1240: 1239, 1241: 1240, 1242: 1241, 1243: 1242, 1244: None, 1245: None, 1246: 1245, 1247: 1246, 1248: 1247, 1249: 1248, 1250: 1249, 1251: 1250, 1252: 1251, 1253: 1252, 1254: 1253, 1255: 1254, 1256: 1255, 1257: 1256, 1258: 1257, 1259: None, 1260: None, 1261: None, 1262: None, 1263: 1262, 1264: None, 1265: None, 1266: None, 1267: None, 1268: 1267, 1269: 1268, 1270: None}, [0, 1, 2, 3, 4, 5, 6, 7, 8, 9, 10, 11, 12, 13, 14, 15, 16, 17, 18, 19, 20, 21, 22, 23, 24, 25, 26, 27, 28, 29, 30, 31, 32, 33, 34, 35, 36, 37, 38, 39, 40, 41, 42, 43, 44, 45, 46, 47, 48, 49, 50, 51, 52, 53, 54, 55, 56, 57, 58, 59, 60, 61, 62, 63, 64, 65, 66, 67, 68, 69, 70, 71, 72, 73, 74, 75, 76, 171, 77, 172, 78, 173, 91, 79, 174, 92, 80, 93, 175, 81, 82, 94, 176, 177, 83, 84, 95, 127, 178, 85, 86, 96, 128, 129, 179, 180, 87, 97, 98, 130, 131, 181, 182, 88, 99, 132, 183, 184, 89, 118, 100, 101, 133, 185, 90, 119, 120, 102, 134, 186, 121, 103, 104, 135, 187, 188, 122, 105, 106, 136, 189, 190, 123, 124, 107, 108, 137, 191, 125, 126, 109, 138, 192, 110, 139, 193, 111, 112, 140, 141, 194, 214, 113, 114, 142, 143, 195, 215, 216, 115, 144, 145, 196, 217, 116, 146, 197, 198, 218, 219, 117, 147, 199, 220, 221, 148, 200, 201, 222, 149, 202, 203, 223, 150, 204, 205, 224, 151, 152, 206, 207, 225, 153, 208, 209, 226, 227, 154, 155, 210, 211, 228, 229, 156, 157, 212, 230, 231, 158, 159, 213, 232, 233, 160, 234, 161, 162, 235, 163, 236, 164, 165, 237, 166, 238, 167, 239, 168, 240, 241, 169, 242, 170, 243, 244, 245, 246, 247, 248, 249, 250, 251, 252, 253, 254, 255, 256, 257, 258, 259, 260, 261, 262, 263, 264, 265, 266, 267, 268, 269, 270, 271, 272, 273, 274, 275, 276, 277, 278, 279, 280, 281, 282, 283, 284, 285, 286, 287, 288, 289, 290, 291, 292, 293, 294, 295, 296, 297, 298, 299, 300, 301, 302, 303, 304, 305, 306, 307, 308, 309, 310, 311, 312, 313, 314, 315, 316, 317, 318, 319, 320, 321, 322, 323, 324, 325, 326, 327, 328, 329, 330, 331, 332, 333, 334, 335, 336, 337, 338, 339, 340, 341, 342, 343, 344, 345, 346, 347, 348, 349, 350, 351, 352, 353, 354, 355, 356, 357, 358, 359, 360, 361, 362, 363, 364, 365, 366, 367, 368, 369, 370, 371, 372, 373, 374, 375, 376, 377, 378, 379, 380, 381, 382, 383, 384, 385, 386, 387, 388, 389, 516, 390, 517, 391, 564, 518, 392, 565, 519, 393, 394, 566, 520, 395, 396, 567, 521, 397, 398, 568, 522, 473, 399, 569, 523, 524, 474, 400, 476, 570, 525, 475, 401, 402, 477, 571, 526, 403, 404, 478, 572, 527, 405, 406, 479, 421, 573, 528, 514, 407, 480, 411, 422, 410, 574, 529, 515, 408, 481, 412, 423, 575, 530, 531, 409, 482, 413, 424, 576, 532, 483, 414, 425, 577, 533, 484, 415, 426, 578, 534, 485, 416, 427, 579, 535, 536, 486, 417, 418, 428, 580, 537, 538, 487, 419, 429, 581, 539, 540, 488, 420, 430, 582, 541, 542, 489, 431, 583, 543, 490, 432, 584, 544, 491, 433, 585, 545, 492, 434, 586, 546, 493, 435, 587, 547, 548, 494, 495, 436, 588, 549, 496, 505, 437, 589, 681, 550, 497, 506, 438, 590, 682, 683, 551, 552, 498, 499, 507, 439, 591, 684, 685, 553, 500, 508, 509, 440, 441, 592, 686, 554, 555, 501, 502, 510, 511, 442, 593, 687, 556, 503, 512, 443, 594, 688, 689, 557, 504, 513, 444, 595, 690, 558, 445, 446, 596, 691, 559, 447, 448, 597, 692, 560, 449, 598, 693, 561, 450, 451, 599, 694, 562, 452, 600, 695, 563, 453, 601, 602, 696, 454, 603, 697, 455, 604, 698, 456, 605, 699, 457, 606, 700, 458, 607, 701, 459, 608, 702, 460, 609, 703, 461, 610, 704, 705, 462, 611, 706, 707, 463, 612, 708, 709, 464, 613, 710, 465, 614, 615, 711, 466, 467, 616, 712, 468, 469, 617, 618, 713, 470, 619, 714, 471, 620, 715, 472, 621, 716, 622, 717, 623, 718, 624, 719, 625, 720, 626, 721, 627, 722, 628, 723, 724, 629, 674, 725, 630, 675, 726, 631, 676, 727, 632, 677, 728, 633, 678, 729, 634, 679, 730, 731, 635, 680, 732, 733, 636, 734, 735, 637, 736, 638, 737, 639, 738, 640, 641, 739, 642, 643, 740, 644, 645, 741, 646, 742, 647, 743, 648, 744, 649, 745, 746, 650, 747, 748, 651, 749, 652, 750, 653, 751, 752, 654, 753, 655, 754, 656, 755, 657, 756, 658, 757, 659, 758, 660, 759, 661, 760, 662, 761, 663, 762, 664, 763, 665, 764, 666, 765, 667, 766, 668, 767, 669, 768, 670, 769, 804, 671, 770, 805, 672, 771, 806, 673, 772, 807, 773, 808, 774, 775, 776, 777, 778, 779, 780, 781, 782, 783, 784, 785, 786, 787, 788, 789, 790, 791, 792, 826, 793, 827, 794, 828, 795, 829, 796, 830, 797, 831, 798, 832, 833, 799, 845, 834, 835, 800, 846, 847, 836, 801, 848, 802, 837, 838, 849, 803, 839, 850, 840, 851, 841, 852, 853, 842, 854, 855, 843, 856, 844, 857, 858, 859, 860, 861, 862, 863, 864, 865, 866, 867, 868, 869, 870, 871, 872, 921, 873, 922, 923, 874, 924, 875, 910, 925, 876, 898, 911, 926, 877, 899, 912, 927, 878, 900, 913, 928, 888, 879, 901, 914, 929, 889, 880, 902, 915, 916, 930, 890, 881, 903, 917, 918, 931, 891, 882, 904, 919, 932, 892, 893, 883, 905, 920, 933, 934, 894, 895, 884, 906, 935, 936, 896, 885, 907, 937, 897, 886, 908, 938, 939, 887, 909, 940, 941, 942, 943, 944, 945, 946, 947, 948, 949, 950, 951, 952, 953, 954, 955, 956, 957, 958, 959, 960, 961, 962, 963, 964, 965, 966, 967, 968, 969, 970, 971, 972, 973, 974, 975, 976, 977, 978, 979, 980, 981, 982, 983, 984, 985, 986, 987, 988, 989, 990, 991, 992, 993, 994, 995, 996, 997, 998, 999, 1000, 1001, 1002, 1003, 1004, 1005, 1006, 1007, 1008, 1009, 1010, 1011, 1012, 1013, 1014, 1015, 1016, 1017, 1018, 1019, 1020, 1021, 1022, 1023, 1024, 1025, 1026, 1027, 1028, 1029, 1030, 1031, 1032, 1033, 1034, 1035, 1036, 1037, 1038, 1039, 1040, 1041, 1042, 1043, 1044, 1045, 1046, 1047, 1048, 1049, 1050, 1051, 1052, 1053, 1054, 1055, 1056, 1057, 1058, 1059, 1060, 1061, 1062, 1063, 1064, 1065, 1066, 1067, 1068, 1069, 1070, 1071, 1072, 1073, 1074, 1075, 1076, 1077, 1078, 1079, 1080, 1081, 1082, 1083, 1084, 1114, 1085, 1115, 1086, 1116, 1087, 1117, 1088, 1118, 1089, 1119, 1090, 1120, 1091, 1121, 1092, 1093, 1122, 1094, 1123, 1095, 1124, 1096, 1125, 1097, 1126, 1098, 1127, 1099, 1128, 1100, 1129, 1101, 1130, 1102, 1131, 1103, 1132, 1104, 1133, 1105, 1106, 1134, 1107, 1135, 1108, 1136, 1109, 1137, 1138, 1110, 1139, 1140, 1111, 1141, 1112, 1142, 1143, 1113, 1144, 1145, 1146, 1147, 1148, 1149, 1150, 1151, 1152, 1153, 1154, 1155, 1156, 1157, 1158, 1159, 1160, 1161, 1162, 1163, 1164, 1165, 1166, 1167, 1168, 1169, 1170, 1171, 1172, 1173, 1174, 1175, 1176, 1177, 1178, 1179, 1180, 1181, 1182, 1183, 1184, 1185, 1186, 1187, 1188, 1189, 1190, 1191, 1192, 1193, 1194, 1195, 1196, 1197, 1198, 1199, 1200, 1201, 1202, 1203, 1204, 1205, 1206, 1207, 1208, 1209, 1210, 1211, 1212, 1213, 1214, 1215, 1216, 1217, 1218, 1219, 1220, 1221, 1222, 1223, 1224, 1225, 1226, 1227, 1228, 1229, 1230, 1231, 1232, 1233, 1234, 1235, 1236, 1237, 1238, 1239, 1240, 1241, 1242, 1243, 809, 810, 811, 812, 813, 814, 815, 816, 817, 818, 819, 820, 821, 822, 823, 824, 825, 1244, 1245, 1246, 1247, 1248, 1249, 1250, 1251, 1252, 1253, 1254, 1255, 1256, 1257, 1258, 1259, 1260, 1261, 1262, 1263, 1264, 1265, 1266, 1267, 1268, 1269, 1270])\n"
       ]
      }
     ],
     "prompt_number": 19
    },
    {
     "cell_type": "code",
     "collapsed": false,
     "input": [
      "print gr.edges()\n",
      "print (i, neighbours[j])\n",
      "print size"
     ],
     "language": "python",
     "metadata": {},
     "outputs": [
      {
       "output_type": "stream",
       "stream": "stdout",
       "text": [
        "[(6, 7), (6, 8), (6, 2), (6, 0), (6, 1), (7, 8), (7, 0), (7, 9), (7, 1), (7, 3), (8, 9), (8, 0), (8, 1), (8, 10), (8, 2), (9, 10), (9, 1), (9, 0), (9, 2), (9, 11), (10, 11), (10, 1), (10, 0), (10, 2), (10, 3), (11, 12), (11, 0), (11, 1), (11, 3), (11, 2), (12, 13), (12, 0), (12, 1), (12, 5), (12, 4), (13, 14), (13, 0), (13, 1), (13, 6), (13, 2), (14, 15), (14, 0), (14, 2), (14, 1), (14, 7), (15, 0), (15, 1), (15, 3), (15, 2), (15, 8)]\n",
        "(15, 8)\n",
        "16\n"
       ]
      }
     ],
     "prompt_number": 78
    },
    {
     "cell_type": "code",
     "collapsed": false,
     "input": [
      "## make a graph with 1 node for each frame\n",
      "f1=numpy.ones([2])\n",
      "# f2=numpy.ones([2,2])\n",
      "\n",
      "size=distMatFut.shape[0]\n",
      "numLabels=2 ## dunno what to set this to\n",
      "numNeighbours = 5\n",
      "gm=opengm.gm([numLabels]*size, operator='adder')\n",
      "\n",
      "unaryId = gm.addFunction(np.ones(size))\n",
      "pairwiseId=gm.addFunction(distMatFut)\n",
      "for i in xrange(size) :\n",
      "    gm.addFactor(unaryId,i)\n",
      "    neighbours = np.argsort(distMatFut[i ,:])\n",
      "    neighbours = np.delete(neighbours, np.where(neighbours==i))\n",
      "    if i > numNeighbours :\n",
      "        for j in xrange(numNeighbours) :\n",
      "            gm.addFactor(pairwiseId,np.sort([i, neighbours[j]]))\n",
      "#     print \"unary factor f1\", i\n",
      "    \n",
      "    \n",
      "\n",
      "print gm\n",
      "opengm.visualizeGm(gm,layout='neato',iterations=3000,\n",
      "                    show=True,plotFunctions=True,\n",
      "                    plotNonShared=True,relNodeSize=0.5)\n",
      "# plt.savefig(\"graph.png\",bbox_inches='tight',dpi=300) \n",
      "# plt.close()"
     ],
     "language": "python",
     "metadata": {},
     "outputs": [
      {
       "output_type": "stream",
       "stream": "stdout",
       "text": [
        "-number of variables :51\n",
        "-number of function(type-0)2\n",
        "-number of function(type-1)0\n",
        "-number of function(type-2)0\n",
        "-number of function(type-3)0\n",
        "-number of function(type-4)0\n",
        "-number of function(type-5)0\n",
        "-number of function(type-6)0\n",
        "-number of function(type-7)0\n",
        "-number of factors :276\n",
        "-max. factor order :2\n",
        "get node position...\n",
        "....done "
       ]
      },
      {
       "output_type": "stream",
       "stream": "stdout",
       "text": [
        "\n"
       ]
      }
     ],
     "prompt_number": 96
    },
    {
     "cell_type": "code",
     "collapsed": false,
     "input": [
      "print np.min(distMatFut)"
     ],
     "language": "python",
     "metadata": {},
     "outputs": [
      {
       "output_type": "stream",
       "stream": "stdout",
       "text": [
        "25433982.1368\n"
       ]
      }
     ],
     "prompt_number": 92
    },
    {
     "cell_type": "code",
     "collapsed": false,
     "input": [
      "chainLength=20\n",
      "numLabels=1024\n",
      "print numpy.ones(chainLength,dtype=opengm.label_type)*numLabels"
     ],
     "language": "python",
     "metadata": {},
     "outputs": [
      {
       "output_type": "stream",
       "stream": "stdout",
       "text": [
        "[1024 1024 1024 1024 1024 1024 1024 1024 1024 1024 1024 1024 1024 1024 1024\n",
        " 1024 1024 1024 1024 1024]\n"
       ]
      }
     ],
     "prompt_number": 41
    },
    {
     "cell_type": "code",
     "collapsed": false,
     "input": [
      "## example graph and printout\n",
      "f1=numpy.ones([2])\n",
      "f2=numpy.ones([2,2])\n",
      "\n",
      "\"\"\"\n",
      "Grid:\n",
      "    - 4x4=16 variables\n",
      "    - second order factors in 4-neigbourhood\n",
      "      all connected to the same function\n",
      "    - higher order functions are shared\n",
      "\"\"\"\n",
      "\n",
      "size=3\n",
      "gm=opengm.gm([2]*size*size)\n",
      "\n",
      "fid=gm.addFunction(f2)\n",
      "print fid.functionIndex, fid.functionType\n",
      "countU = 0\n",
      "countP = 0\n",
      "for y in range(size):   \n",
      "    for x in range(size):\n",
      "        fid2 = gm.addFunction(f1)\n",
      "        gm.addFactor(fid2,x*size+y)\n",
      "        print \"unary factor f1\", x, y, x*size+y, \"la\", fid2.functionIndex, fid2.functionType\n",
      "        countU += 1\n",
      "        if(x+1<size):\n",
      "            gm.addFactor(fid,[x*size+y,(x+1)*size+y])\n",
      "            print \"pairwise factor f2 (x+1)\", x, y, [x*size+y,(x+1)*size+y]\n",
      "            countP += 1\n",
      "        if(y+1<size):\n",
      "            gm.addFactor(fid,[x*size+y,x*size+(y+1)])\n",
      "            print \"pairwise factor f2 (y+1)\", x, y, [x*size+y,x*size+(y+1)]\n",
      "            countP += 1\n",
      "\n",
      "print countU, countP\n",
      "print gm\n",
      "opengm.visualizeGm( gm,layout='spring',iterations=3000,\n",
      "                    show=True,plotFunctions=True,\n",
      "                    plotNonShared=True,relNodeSize=0.4)\n",
      "# plt.savefig(\"grid3.png\",bbox_inches='tight',dpi=300) \n",
      "# plt.close()"
     ],
     "language": "python",
     "metadata": {},
     "outputs": [
      {
       "output_type": "stream",
       "stream": "stdout",
       "text": [
        "0 0\n",
        "unary factor f1 0 0 0 la 1 0\n",
        "pairwise factor f2 (x+1) 0 0 [0, 3]\n",
        "pairwise factor f2 (y+1) 0 0 [0, 1]\n",
        "unary factor f1 1 0 3 la 2 0\n",
        "pairwise factor f2 (x+1) 1 0 [3, 6]\n",
        "pairwise factor f2 (y+1) 1 0 [3, 4]\n",
        "unary factor f1 2 0 6 la 3 0\n",
        "pairwise factor f2 (y+1) 2 0 [6, 7]\n",
        "unary factor f1 0 1 1 la 4 0\n",
        "pairwise factor f2 (x+1) 0 1 [1, 4]\n",
        "pairwise factor f2 (y+1) 0 1 [1, 2]\n",
        "unary factor f1 1 1 4 la 5 0\n",
        "pairwise factor f2 (x+1) 1 1 [4, 7]\n",
        "pairwise factor f2 (y+1) 1 1 [4, 5]\n",
        "unary factor f1 2 1 7 la 6 0\n",
        "pairwise factor f2 (y+1) 2 1 [7, 8]\n",
        "unary factor f1 0 2 2 la 7 0\n",
        "pairwise factor f2 (x+1) 0 2 [2, 5]\n",
        "unary factor f1 1 2 5 la 8 0\n",
        "pairwise factor f2 (x+1) 1 2 [5, 8]\n",
        "unary factor f1 2 2 8 la 9 0\n",
        "9 12\n",
        "-number of variables :9\n",
        "-number of function(type-0)10\n",
        "-number of function(type-1)0\n",
        "-number of function(type-2)0\n",
        "-number of function(type-3)0\n",
        "-number of function(type-4)0\n",
        "-number of function(type-5)0\n",
        "-number of function(type-6)0\n",
        "-number of function(type-7)0\n",
        "-number of factors :21\n",
        "-max. factor order :2\n",
        "get node position...\n",
        "....done "
       ]
      },
      {
       "output_type": "stream",
       "stream": "stdout",
       "text": [
        "\n"
       ]
      }
     ],
     "prompt_number": 45
    },
    {
     "cell_type": "code",
     "collapsed": false,
     "input": [
      "probs, cumprobs = vtu.getProbabilities(distMat, 0.105, True)\n",
      "figure(); imshow(probs, interpolation='nearest')\n",
      "figure(); imshow(cumprobs, interpolation='nearest')\n",
      "finalFrames = vtu.getFinalFrames(cumprobs, 100, 5, 30, False, False)\n",
      "print finalFrames"
     ],
     "language": "python",
     "metadata": {},
     "outputs": [
      {
       "output_type": "stream",
       "stream": "stdout",
       "text": [
        "sigma 17.1086232735\n",
        "(58, 58) (58, 58)\n",
        "[35 35 35 35 35 35 57 57 57 57 57 57 57 57 57 57 57 57 57 57 57 57 57 57 57\n",
        " 57 57 57 57 57 57 57 57 57 57 57 57 57 57 57 57 57 57 57 57 57 57 57 57 57\n",
        " 57 57 57 57 57 57 57 57 57 57 57 57 57 57 57 57 57 57 57 57 57 57 57 57 57\n",
        " 57 57 57 57 57 57 57 57 57 57 57 57 57 57 57 57 57 57 57 57 57 57 57 57 57]"
       ]
      },
      {
       "output_type": "stream",
       "stream": "stdout",
       "text": [
        "\n"
       ]
      }
     ],
     "prompt_number": 11
    },
    {
     "cell_type": "code",
     "collapsed": false,
     "input": [
      "## build dynamic programming table for finding optimal loops\n",
      "# find a set of primitive loops\n",
      "numOfBestTransitions = 1 # keep only numOfBestTransitions best transitions from frame i\n",
      "primitiveLoops = np.zeros(((distMat.shape[0]-numOfBestTransitions)*numOfBestTransitions, 2), dtype=uint)\n",
      "\n",
      "for i in xrange(numOfBestTransitions, distMat.shape[0]) :\n",
      "    j = np.argsort(distMat[i, 0:i])[0:numOfBestTransitions]\n",
      "    for t in xrange(0, numOfBestTransitions) :\n",
      "        loopIdx = numOfBestTransitions*(i-numOfBestTransitions)+t\n",
      "        primitiveLoops[loopIdx, :]= np.array([j[t], i])\n",
      "\n",
      "numPrimitiveLoops = len(primitiveLoops) # distMat.shape[0]\n",
      "\n",
      "## we'll consider loops of maximum maxLoopLength frames and each frame is a primitive loop\n",
      "maxLoopLength = 40\n",
      "# the costTable contains the cost of the cheapest loop in the corresponding cell in the loopsTable\n",
      "costTable = np.ones((maxLoopLength+1, numPrimitiveLoops))*sys.float_info.max\n",
      "\n",
      "# the loopsTable contains the possible primitive and compound loops\n",
      "# there's one row for each considered loop lenght and one column for each considered primitive loop\n",
      "# each cell, apart from the cells on first row, contains a set of indices that reference loops in the loopsTable\n",
      "loopsTable = [] #-np.ones((maxLoopLength, numPrimitiveLoops, 2), dtype=int)\n",
      "\n",
      "primitiveLoopsLength = np.ndarray.flatten(np.diff(primitiveLoops, axis=1)+1)\n",
      "# row 0 contains info relative to primitive loops\n",
      "costTable[0, :] = distMat[primitiveLoops[:, 0], primitiveLoops[:, 1]]\n",
      "loopsTable.append(primitiveLoops)\n",
      "\n",
      "# row 1 has no loops as I don't want loops with only 1 frame\n",
      "loopsTable.append(np.reshape(-np.ones((2, numPrimitiveLoops), dtype=int), (numPrimitiveLoops, 2)))\n",
      "## now compute lowest cost compound loops of row r-length\n",
      "for r in xrange(2, 3):#len(costTable)) :\n",
      "    print r\n",
      "    if r in primitiveLoopsLength :\n",
      "        print \"lala\"\n",
      "    # find"
     ],
     "language": "python",
     "metadata": {},
     "outputs": [
      {
       "output_type": "stream",
       "stream": "stdout",
       "text": [
        "2\n",
        "lala\n"
       ]
      }
     ],
     "prompt_number": 11
    },
    {
     "cell_type": "code",
     "collapsed": false,
     "input": [
      "i = 50\n",
      "j = costMat[i:i+windowSize, :]\n",
      "figure(); imshow(j, interpolation='nearest')\n",
      "sortIndices = np.argsort(j, axis=-1)\n",
      "print sortIndices\n",
      "print j\n",
      "print sortIndices[:, 0]\n",
      "print np.sort(j, axis=-1)[:, 0]\n",
      "print [sortIndices[np.argmin(np.sort(j, axis=-1)[:, 0]), 0], i+np.argmin(np.sort(j, axis=-1)[:, 0])]"
     ],
     "language": "python",
     "metadata": {},
     "outputs": []
    },
    {
     "cell_type": "code",
     "collapsed": false,
     "input": [
      "## find primitive loops with sliding window and min loop length\n",
      "windowSize = 20 ## maybe change this value based on average loop length after a preliminary first pass or numFrames\n",
      "minLoopLength = 10\n",
      "costMat = np.copy(distMat)\n",
      "# only allow backwards transitions\n",
      "costMat[np.triu_indices(len(costMat), k=-minLoopLength+1)] = np.max(costMat)\n",
      "# figure(); imshow(costMat, interpolation='nearest')\n",
      "\n",
      "primitiveLoops = []\n",
      "currentMinCost = np.max(costMat)\n",
      "currentBestTransition = [-1, -1]\n",
      "primitiveLoopsCosts = []\n",
      "for i in xrange(minLoopLength, costMat.shape[0], windowSize) :\n",
      "#     print i, i+windowSize\n",
      "    j = costMat[i:i+windowSize, :]\n",
      "    sortIndices = np.argsort(j, axis=-1)\n",
      "    if np.min(np.sort(j, axis=-1)[:, 0]) <= currentMinCost :\n",
      "#         print \"better from\", currentMinCost,\n",
      "        currentMinCost = np.min(np.sort(j, axis=-1)[:, 0])\n",
      "        currentBestTransition = [sortIndices[np.argmin(np.sort(j, axis=-1)[:, 0]), 0], i+np.argmin(np.sort(j, axis=-1)[:, 0])]\n",
      "#         print \"to\", currentMinCost\n",
      "    else :\n",
      "#         print \"tralala\", primitiveLoopsCosts, np.mean(primitiveLoopsCosts), np.median(primitiveLoopsCosts)\n",
      "        print \"new best\", currentMinCost, currentBestTransition, np.min(np.sort(j, axis=-1)[:, 0])\n",
      "        primitiveLoopsCosts.append(currentMinCost)\n",
      "        primitiveLoops.append(currentBestTransition)\n",
      "        currentMinCost = np.max(costMat)\n",
      "# #     j = np.argsort(costMat[i, 0:i], )[0:numOfBestTransitions]\n",
      "#     for t in xrange(0, numOfBestTransitions) :\n",
      "#         loopIdx = numOfBestTransitions*(i-numOfBestTransitions)+t\n",
      "#         primitiveLoops[loopIdx, :]= np.array([j[t], i])\n",
      "\n",
      "## not sure if I should keep the last best transition \n",
      "if not np.all(primitiveLoops[-1] == currentBestTransition) and not np.all(primitiveLoopsCosts[-1] == currentMinCost):\n",
      "    primitiveLoopsCosts.append(currentMinCost)\n",
      "    primitiveLoops.append(currentBestTransition)\n",
      "    \n",
      "\n",
      "## only keep transitions with cost lower than median plus certain percentage\n",
      "thresh = 0.1 ## maybe change this depending on how many potential transitions have been found \n",
      "             ## (the more, the higher the probability that there are more outliers so lower tresh should be)\n",
      "medianCost = np.median(primitiveLoopsCosts)\n",
      "goodTransitions = np.ndarray.flatten(np.argwhere(primitiveLoopsCosts <= medianCost+medianCost*thresh))\n",
      "print \"keeping\", len(goodTransitions), \"of\", len(primitiveLoopsCosts)\n",
      "primitiveLoopsCosts = np.array(primitiveLoopsCosts)[goodTransitions]\n",
      "primitiveLoops = np.array(primitiveLoops)[goodTransitions, :]\n",
      "# primitiveLoops = np.reshape(primitiveLoops, (len(primitiveLoops), 2))\n",
      "print primitiveLoopsCosts\n",
      "print primitiveLoops\n",
      "\n",
      "print \"stats\"\n",
      "print np.median(np.diff(primitiveLoops)), np.mean(np.diff(primitiveLoops))\n",
      "print np.diff(primitiveLoops)"
     ],
     "language": "python",
     "metadata": {},
     "outputs": [
      {
       "output_type": "stream",
       "stream": "stdout",
       "text": [
        "new best 127.638360402 [23, 33] 149.017543789\n",
        "new best 97.1914924755 [97, 129] 99.3406067984\n",
        "new best 96.3419844872 [115, 156] 100.053138782\n",
        "new best 104.476420622 [196, 216] 117.067923832\n",
        "new best 154.263364417 [48, 269] 157.099082372\n",
        "new best 130.020853064 [59, 328] 143.478041657\n",
        "new best 149.122559554 [29, 351] 172.546042496\n",
        "new best 134.828120193 [410, 422] 168.649830467\n",
        "new best 133.34013894 [400, 476] 147.382133758\n",
        "new best 120.469012122 [515, 529] 125.632838027\n",
        "new best"
       ]
      },
      {
       "output_type": "stream",
       "stream": "stdout",
       "text": [
        " 120.689331471 [515, 562] 159.937547939\n",
        "new best 123.715603369 [506, 624] 145.973997144\n",
        "new best 127.863648822 [631, 676] 133.991924534\n",
        "new best 133.209881682 [682, 738] 152.061674183\n",
        "new best 111.74244125 [792, 826] 159.682918247\n",
        "new best 176.843379209 [804, 850] 180.493792166\n",
        "new best"
       ]
      },
      {
       "output_type": "stream",
       "stream": "stdout",
       "text": [
        " 153.020186336 [882, 904] 169.508946732\n",
        "new best 166.017018069 [941, 969] 168.982300509\n",
        "new best 108.411096945 [997, 1010] 110.171505064\n",
        "new best 121.839308484 [1028, 1058] 126.831258788\n",
        "new best 108.528313708 [1029, 1102] 109.835395862\n",
        "new best 79.6589632419 [1107, 1168] "
       ]
      },
      {
       "output_type": "stream",
       "stream": "stdout",
       "text": [
        "87.2216113217\n",
        "new best 94.4897332326 [1048, 1197] 103.354931791\n",
        "new best 95.7024143641 [1043, 1231] 118.403451427\n",
        "keeping 19 of 25\n",
        "[ 127.6383604    97.19149248   96.34198449  104.47642062  130.02085306\n",
        "  134.82812019  133.34013894  120.46901212  120.68933147  123.71560337\n",
        "  127.86364882  133.20988168  111.74244125  108.41109695  121.83930848\n",
        "  108.52831371   79.65896324   94.48973323   95.70241436]\n",
        "[[  23   33]\n",
        " [  97  129]\n",
        " [ 115  156]\n",
        " [ 196  216]\n",
        " [  59  328]\n",
        " [ 410  422]\n",
        " [ 400  476]\n",
        " [ 515  529]\n",
        " [ 515  562]\n",
        " [ 506  624]\n",
        " [ 631  676]\n",
        " [ 682  738]\n",
        " [ 792  826]\n",
        " [ 997 1010]\n",
        " [1028 1058]\n",
        " [1029 1102]\n",
        " [1107 1168]\n",
        " [1048 1197]\n",
        " [1043 1231]]\n",
        "stats\n",
        "45.0 67.7894736842\n",
        "[[ 10]\n",
        " [ 32]\n",
        " [ 41]\n",
        " [ 20]\n",
        " [269]\n",
        " [ 12]\n",
        " [ 76]\n",
        " [ 14]\n",
        " [ 47]\n",
        " [118]\n",
        " [ 45]\n",
        " [ 56]\n",
        " [ 34]\n",
        " [ 13]\n",
        " [ 30]\n",
        " [ 73]\n",
        " [ 61]\n",
        " [149]\n",
        " [188]]\n"
       ]
      }
     ],
     "prompt_number": 10
    },
    {
     "cell_type": "code",
     "collapsed": false,
     "input": [
      "## print the frame names fro qualitative comparison\n",
      "correction = 5\n",
      "print np.reshape(frames[np.ndarray.flatten(primitiveLoops+5)], primitiveLoops.shape)"
     ],
     "language": "python",
     "metadata": {},
     "outputs": [
      {
       "output_type": "stream",
       "stream": "stdout",
       "text": [
        "[['/home/ilisescu/PhD/data/little_palm1_cropped/frame-00006.png'\n",
        "  '/home/ilisescu/PhD/data/little_palm1_cropped/frame-00049.png']\n",
        " ['/home/ilisescu/PhD/data/little_palm1_cropped/frame-00168.png'\n",
        "  '/home/ilisescu/PhD/data/little_palm1_cropped/frame-00179.png']\n",
        " ['/home/ilisescu/PhD/data/little_palm1_cropped/frame-00314.png'\n",
        "  '/home/ilisescu/PhD/data/little_palm1_cropped/frame-00325.png']\n",
        " ['/home/ilisescu/PhD/data/little_palm1_cropped/frame-00421.png'\n",
        "  '/home/ilisescu/PhD/data/little_palm1_cropped/frame-00433.png']\n",
        " ['/home/ilisescu/PhD/data/little_palm1_cropped/frame-00545.png'\n",
        "  '/home/ilisescu/PhD/data/little_palm1_cropped/frame-00568.png']\n",
        " ['/home/ilisescu/PhD/data/little_palm1_cropped/frame-00200.png'\n",
        "  '/home/ilisescu/PhD/data/little_palm1_cropped/frame-00871.png']\n",
        " ['/home/ilisescu/PhD/data/little_palm1_cropped/frame-00199.png'\n",
        "  '/home/ilisescu/PhD/data/little_palm1_cropped/frame-00998.png']]\n"
       ]
      }
     ],
     "prompt_number": 21
    },
    {
     "cell_type": "code",
     "collapsed": false,
     "input": [
      "print currentMinCost, currentBestTransition"
     ],
     "language": "python",
     "metadata": {},
     "outputs": [
      {
       "output_type": "stream",
       "stream": "stdout",
       "text": [
        "3117467.9545 [401, 1169]\n"
       ]
      }
     ],
     "prompt_number": 15
    },
    {
     "cell_type": "code",
     "collapsed": false,
     "input": [
      "# figure(); imshow(costMat, interpolation='nearest')\n",
      "tmpCostMat = (costMat-np.min(costMat))/(np.max(costMat)-np.min(costMat))\n",
      "print tmpCostMat[43, 0], tmpCostMat[26, 0], tmpCostMat[43, 0], np.max(tmpCostMat)\n",
      "figure(); imshow(tmpCostMat, interpolation='nearest')"
     ],
     "language": "python",
     "metadata": {},
     "outputs": [
      {
       "output_type": "stream",
       "stream": "stdout",
       "text": [
        "0.0517222824347 0.110627511695 0.0109627622988 1.0\n"
       ]
      },
      {
       "metadata": {},
       "output_type": "pyout",
       "prompt_number": 14,
       "text": [
        "<matplotlib.image.AxesImage at 0x7f82741bf6d0>"
       ]
      }
     ],
     "prompt_number": 14
    },
    {
     "cell_type": "code",
     "collapsed": false,
     "input": [
      "U, s, Vh = sp.linalg.svd(distMat)\n",
      "w, v = np.linalg.eig(distMat)\n",
      "print w, np.linalg.det(distMat), np.prod(w), v.shape\n",
      "print v[:, 0]\n",
      "print np.dot(distMat, v[:, 0]), w[0]*v[:, 0]"
     ],
     "language": "python",
     "metadata": {},
     "outputs": [
      {
       "output_type": "stream",
       "stream": "stdout",
       "text": [
        "[ 75069.73110209  -4164.16987418  -3423.88403816  -3191.57192729\n",
        "  -2860.97724844  -2482.22969519  -2403.03529534  -2381.34452355\n",
        "  -2341.30413019  -2311.0263614   -2246.26597142  -2177.24359693\n",
        "  -2084.98609309  -2040.62990767  -2002.28018276  -1960.4298696\n",
        "  -1888.6185201   -1693.5468845   -1517.26446127  -1407.0210072\n",
        "  -1372.91438908  -1336.0282163   -1296.91485527  -1261.36347369\n",
        "  -1163.40087457  -1142.11753487  -1121.17493791  -1104.61026402\n",
        "  -1064.57426509  -1033.18829258  -1018.56199647   -707.68928431\n",
        "   -720.49965374   -972.58791378   -962.28013267   -747.17715778\n",
        "   -751.70205195   -758.4679941    -772.57706333   -934.27854672\n",
        "   -928.79669167   -789.49650514   -801.62442917   -807.99817665\n",
        "   -823.70866756   -828.22864666   -836.80677707   -908.96944146\n",
        "   -900.81179548   -867.73846042   -870.76282144   -884.85020285] -5.04759579062e+163 -5.04759579062e+163 (52, 52)\n",
        "[ 0.14096872  0.14063963  0.14096111  0.14009529  0.13946878  0.13750943\n",
        "  0.13647521  0.13614951  0.13459832  0.13518514  0.13414862  0.13493778\n",
        "  0.13539744  0.13519027  0.1354505   0.13588514  0.13582136  0.13624162\n",
        "  0.13529869  0.13468178  0.13362737  0.13312275  0.13383755  0.1346298\n",
        "  0.134967    0.1360751   0.13630518  0.13599442  0.13713574  0.13936267\n",
        "  0.14007882  0.1422598   0.14375334  0.14504054  0.14572027  0.14633573\n",
        "  0.14711402  0.14614946  0.14522328  0.14525289  0.14293016  0.14165897\n",
        "  0.14025653  0.13934084  0.13878087  0.13838948  0.13935927  0.13893513\n",
        "  0.1381574   0.13795352  0.13759033  0.13798017]\n",
        "[ 10582.4842711   10557.77924116  10581.91277507  10516.91554252\n",
        "  10469.88358773  10322.7959377   10245.15755166  10220.70732452\n",
        "  10104.25960104  10148.31193376  10070.50051798  10129.74314535\n",
        "  10164.24956607  10148.69723728  10168.2328669   10200.86118651\n",
        "  10196.07296928  10227.62160355  10156.83652999  10110.52501532\n",
        "  10031.37087651   9993.48924878  10047.14877188  10106.6231077\n",
        "  10131.93657614  10215.12123219  10232.39351518  10209.06446293\n",
        "  10294.74324091  10461.91819782  10515.6789986   10679.40473511\n",
        "  10791.52489586  10888.15460234  10939.18184434  10985.38391604\n",
        "  11043.8098445   10971.40070279  10901.87247128  10904.09547302\n",
        "  10729.72835811  10634.30053603  10529.02005036  10460.27906538\n",
        "  10418.24248261  10388.86111261  10461.66271861  10429.82309371\n",
        "  10371.43875679  10356.13344611  10328.86925062  10358.13390157] [ 10582.4842711   10557.77924116  10581.91277507  10516.91554252\n",
        "  10469.88358773  10322.7959377   10245.15755166  10220.70732452\n",
        "  10104.25960104  10148.31193376  10070.50051798  10129.74314535\n",
        "  10164.24956607  10148.69723728  10168.2328669   10200.86118651\n",
        "  10196.07296928  10227.62160355  10156.83652999  10110.52501532\n",
        "  10031.37087651   9993.48924878  10047.14877188  10106.6231077\n",
        "  10131.93657614  10215.12123219  10232.39351518  10209.06446293\n",
        "  10294.74324091  10461.91819782  10515.6789986   10679.40473511\n",
        "  10791.52489586  10888.15460234  10939.18184434  10985.38391604\n",
        "  11043.8098445   10971.40070279  10901.87247128  10904.09547302\n",
        "  10729.72835811  10634.30053603  10529.02005036  10460.27906538\n",
        "  10418.24248261  10388.86111261  10461.66271861  10429.82309371\n",
        "  10371.43875679  10356.13344611  10328.86925062  10358.13390157]\n"
       ]
      }
     ],
     "prompt_number": 76
    },
    {
     "cell_type": "code",
     "collapsed": false,
     "input": [
      "print np.argmin(costMat), np.min(costMat), costMat.shape, costMat[38, 17]\n",
      "print currentBestTransition, currentMinCost\n",
      "print primitiveLoopsCosts\n",
      "print np.mean(primitiveLoopsCosts), np.median(primitiveLoopsCosts), np.median(primitiveLoopsCosts)+np.median(primitiveLoopsCosts)*thresh\n",
      "print sp.constants.e, np.exp(1.0/len(primitiveLoopsCosts)), np.exp(1.0/1.0)"
     ],
     "language": "python",
     "metadata": {},
     "outputs": [
      {
       "output_type": "stream",
       "stream": "stdout",
       "text": [
        "2193 14.2693017686 (51, 51) 14.7729875886\n",
        "[2, 50] 14.4548444187\n",
        "[ 14.31315178  14.382842    14.26930177]\n",
        "14.3217651824 14.3131517773 15.7444669551\n",
        "1.602176565e-19 1.39561242509 2.71828182846\n"
       ]
      }
     ],
     "prompt_number": 84
    },
    {
     "cell_type": "code",
     "collapsed": false,
     "input": [
      "# print minCosts\n",
      "print primitiveLoops\n",
      "print len(primitiveLoops)\n",
      "# print np.array(minCosts)[np.where(minCosts <= np.median(minCosts)+np.median(minCosts)*0.1)]"
     ],
     "language": "python",
     "metadata": {},
     "outputs": [
      {
       "output_type": "stream",
       "stream": "stdout",
       "text": [
        "[[   0    1]\n",
        " [   1    2]\n",
        " [   2    3]\n",
        " ..., \n",
        " [1188 1189]\n",
        " [1189 1190]\n",
        " [1190 1191]]\n",
        "1191\n"
       ]
      }
     ],
     "prompt_number": 27
    },
    {
     "cell_type": "code",
     "collapsed": false,
     "input": [
      "print costMat[20, 0]\n",
      "print costMat[50, 8]"
     ],
     "language": "python",
     "metadata": {},
     "outputs": [
      {
       "output_type": "stream",
       "stream": "stdout",
       "text": [
        "124314.931132\n",
        "132456.008921\n"
       ]
      }
     ],
     "prompt_number": 14
    },
    {
     "cell_type": "code",
     "collapsed": false,
     "input": [
      "# print primitiveLoops\n",
      "tmpMat = np.copy(distMat)\n",
      "tmpMat[np.triu_indices(len(tmpMat), k=-minLoopLength+1)] = np.max(tmpMat)\n",
      "figure(); imshow(tmpMat, interpolation='nearest')\n",
      "print np.argsort(tmpMat)[0, 1]\n",
      "tmpSort = np.argsort(np.reshape(tmpMat, (np.prod(tmpMat.shape))))[0:10]\n",
      "print tmpSort\n",
      "tmpBest = np.reshape(np.mod(tmpSort, len(tmpMat)*np.ones(len(tmpSort))), (len(tmpSort), 1))\n",
      "tmpBest = np.array(np.hstack((tmpBest, np.reshape(tmpSort/len(tmpMat)*np.ones(len(tmpSort)), (len(tmpSort), 1)))), dtype=int)\n",
      "print tmpBest\n",
      "print distMatFut[tmpBest[:, 0], tmpBest[:, 1]]\n",
      "print np.reshape(tmpMat, (np.prod(tmpMat.shape)))[tmpSort]\n",
      "print np.diff(tmpBest, axis=1)"
     ],
     "language": "python",
     "metadata": {},
     "outputs": [
      {
       "output_type": "stream",
       "stream": "stdout",
       "text": [
        "797\n",
        "[381748 380555 379362 381747 382940 379363 380556 381749 382941 380554]"
       ]
      },
      {
       "output_type": "stream",
       "stream": "stdout",
       "text": [
        "\n",
        "[[308 320]\n",
        " [307 319]\n",
        " [306 318]\n",
        " [307 320]\n",
        " [308 321]\n",
        " [307 318]\n",
        " [308 319]\n",
        " [309 320]\n",
        " [309 321]\n",
        " [306 319]]\n",
        "[ 2220307.93302971  2216339.77358003  2214099.8447834   2183396.62199914\n",
        "  2230137.00244597  2297780.25287439  2274055.33753505  2277132.56053998\n",
        "  2263284.75210852  2186844.76681066]\n",
        "[ 922.77343804  925.35984815  926.18572454  934.55004229  938.20776983\n",
        "  940.67873393  941.16197083  942.56147226  947.05753752  947.59675366]\n",
        "[[12]\n",
        " [12]\n",
        " [12]\n",
        " [13]\n",
        " [13]\n",
        " [11]\n",
        " [11]\n",
        " [11]\n",
        " [12]\n",
        " [13]]\n"
       ]
      }
     ],
     "prompt_number": 24
    },
    {
     "cell_type": "code",
     "collapsed": false,
     "input": [
      "print costTable[0, :]\n",
      "print loopsTable[1]\n",
      "print primitiveLoops.shape"
     ],
     "language": "python",
     "metadata": {},
     "outputs": [
      {
       "output_type": "stream",
       "stream": "stdout",
       "text": [
        "[  78.48178626   78.75894867   78.92181703   78.89369436   78.90595459\n",
        "   80.12419383   82.89050026   85.16300021   82.93904021   79.4242995\n",
        "   76.93285294   75.47443721   74.45727336   74.94212997   76.45340415\n",
        "   78.76797792   81.4359351    85.75597902   86.83523758   83.58456055\n",
        "   76.25251817   76.81571087   76.92379852   77.17479298   77.56704793\n",
        "   77.85821557   77.47708031   77.09274627   75.46065233   73.11929589\n",
        "   70.96605484   69.25450643   67.83482142   66.46054644   65.68112882\n",
        "   64.94236675   63.90066348   63.82889112   64.95337788   66.90996741\n",
        "   68.20869037   70.45962592   71.2811491    72.21176902   74.00780064\n",
        "   81.7951957    88.1951058    93.84331353   99.16117449  106.12226896\n",
        "  114.03175068  123.63744018  125.45879423  128.82743235  128.34739696\n",
        "  127.00163062  133.57079357]\n",
        "[[-1 -1]\n",
        " [-1 -1]\n",
        " [-1 -1]\n",
        " [-1 -1]\n",
        " [-1 -1]\n",
        " [-1 -1]\n",
        " [-1 -1]\n",
        " [-1 -1]\n",
        " [-1 -1]\n",
        " [-1 -1]\n",
        " [-1 -1]\n",
        " [-1 -1]\n",
        " [-1 -1]\n",
        " [-1 -1]\n",
        " [-1 -1]\n",
        " [-1 -1]\n",
        " [-1 -1]\n",
        " [-1 -1]\n",
        " [-1 -1]\n",
        " [-1 -1]\n",
        " [-1 -1]\n",
        " [-1 -1]\n",
        " [-1 -1]\n",
        " [-1 -1]\n",
        " [-1 -1]\n",
        " [-1 -1]\n",
        " [-1 -1]\n",
        " [-1 -1]\n",
        " [-1 -1]\n",
        " [-1 -1]\n",
        " [-1 -1]\n",
        " [-1 -1]\n",
        " [-1 -1]\n",
        " [-1 -1]\n",
        " [-1 -1]\n",
        " [-1 -1]\n",
        " [-1 -1]\n",
        " [-1 -1]\n",
        " [-1 -1]\n",
        " [-1 -1]\n",
        " [-1 -1]\n",
        " [-1 -1]\n",
        " [-1 -1]\n",
        " [-1 -1]\n",
        " [-1 -1]\n",
        " [-1 -1]\n",
        " [-1 -1]\n",
        " [-1 -1]\n",
        " [-1 -1]\n",
        " [-1 -1]\n",
        " [-1 -1]\n",
        " [-1 -1]\n",
        " [-1 -1]\n",
        " [-1 -1]\n",
        " [-1 -1]\n",
        " [-1 -1]\n",
        " [-1 -1]]\n",
        "(57, 2)\n"
       ]
      }
     ],
     "prompt_number": 125
    },
    {
     "cell_type": "raw",
     "metadata": {},
     "source": [
      "####################################### OBSOLETE #####################################\n",
      "\n",
      "## build dynamic programming table for finding optimal loops\n",
      "# find a set of primitive loops\n",
      "numOfBestTransitions = 1 # keep only numOfBestTransitions best transitions from frame i\n",
      "primitiveLoops = np.zeros(((distMat.shape[0]-numOfBestTransitions)*numOfBestTransitions, 2), dtype=uint)\n",
      "\n",
      "for i in xrange(numOfBestTransitions, distMat.shape[0]) :\n",
      "    j = np.argsort(distMat[i, 0:i])[0:numOfBestTransitions]\n",
      "    for t in xrange(0, numOfBestTransitions) :\n",
      "        loopIdx = numOfBestTransitions*(i-numOfBestTransitions)+t\n",
      "        primitiveLoops[loopIdx, :]= np.array([j[t], i])\n",
      "\n",
      "numPrimitiveLoops = len(primitiveLoops) # distMat.shape[0]\n",
      "\n",
      "## we'll consider loops of maximum maxLoopLength frames and each frame is a primitive loop\n",
      "maxLoopLength = 40\n",
      "# the costTable contains the cost of the cheapest loop in the corresponding cell in the loopsTable\n",
      "costTable = np.ones((maxLoopLength+1, numPrimitiveLoops))*sys.float_info.max\n",
      "\n",
      "# the loopsTable contains the possible primitive and compound loops\n",
      "# there's one row for each considered loop lenght and one column for each considered primitive loop\n",
      "# each cell, apart from the cells on first row, contains a set of indices that reference loops in the loopsTable\n",
      "loopsTable = [] #-np.ones((maxLoopLength, numPrimitiveLoops, 2), dtype=int)\n",
      "\n",
      "# row 0 is ignored and row 1 contains cost of primitive loops of length 1 (i.e. one transition from frame i to i-1 )\n",
      "singleFrameLoops = np.where(np.ndarray.flatten(np.diff(primitiveLoops, axis=1)+1) == 1)[0]\n",
      "costTable[0, singleFrameLoops] = distMat[primitiveLoops[singleFrameLoops, 0], primitiveLoops[singleFrameLoops, 1]]\n",
      "# the first row only contains 1-length loops from primitiveLoops\n",
      "loopsTable.append(np.reshape(-np.ones((1, numPrimitiveLoops), dtype=int), (numPrimitiveLoops, 1)))\n",
      "loopsTable[0][singleFrameLoops] = np.reshape(primitiveLoops[singleFrameLoops, 0], (len(singleFrameLoops), 1))\n",
      "# loopsTable[0, singleFrameLoops, :] = primitiveLoops[singleFrameLoops, :]\n",
      "\n",
      "## now compute lowest cost compound loops of row r+1 length\n",
      "for r in xrange(1, maxLoopLength) :\n",
      "    currentLoopLength = r+1\n",
      "    # find "
     ]
    },
    {
     "cell_type": "code",
     "collapsed": false,
     "input": [
      "print singleFrameLoops\n",
      "print loopsTable[0][singleFrameLoops].shape\n",
      "print primitiveLoops[singleFrameLoops, 0].shape"
     ],
     "language": "python",
     "metadata": {},
     "outputs": [
      {
       "output_type": "stream",
       "stream": "stdout",
       "text": [
        "[]\n",
        "[]\n",
        "[]\n"
       ]
      }
     ],
     "prompt_number": 85
    },
    {
     "cell_type": "code",
     "collapsed": false,
     "input": [
      "# for loop, cost in zip(loopsTable[0, :, :], costTable[0, :]) :\n",
      "#     print loop, cost\n",
      "for loop, cost in zip(loopsTable[0], costTable[0, :]) :\n",
      "    print loop, cost, primitiveLoops[loop]"
     ],
     "language": "python",
     "metadata": {},
     "outputs": [
      {
       "output_type": "stream",
       "stream": "stdout",
       "text": [
        "[0] 78.4817862596 [[0 1]]\n",
        "[1] 78.7589486683 [[1 2]]\n",
        "[2] 78.9218170269 [[2 3]]\n",
        "[3] 78.893694358 [[3 4]]\n",
        "[4] 78.905954588 [[4 5]]\n",
        "[5] 80.1241938291 [[5 6]]\n",
        "[6] 82.8905002583 [[6 7]]\n",
        "[7] 85.1630002076 [[7 8]]\n",
        "[8] 82.9390402051 [[8 9]]\n",
        "[9] 79.4242994952 [[ 9 10]]\n",
        "[10] 76.9328529432 [[10 11]]\n",
        "[11] 75.4744372129 [[11 12]]\n",
        "[12] 74.4572733634 [[12 13]]\n",
        "[13] 74.9421299659 [[13 14]]\n",
        "[14] 76.453404155 [[14 15]]\n",
        "[15] 78.7679779193 [[15 16]]\n",
        "[16] 81.4359351035 [[16 17]]\n",
        "[17] 85.7559790237 [[17 18]]\n",
        "[18] 86.8352375842 [[18 19]]\n",
        "[19] 83.5845605518 [[19 20]]\n",
        "[-1] 1.79769313486e+308 [[56 57]]\n",
        "[-1] 1.79769313486e+308 [[56 57]]\n",
        "[-1] 1.79769313486e+308 [[56 57]]\n",
        "[-1] 1.79769313486e+308 [[56 57]]\n",
        "[-1] 1.79769313486e+308 [[56 57]]\n",
        "[-1] 1.79769313486e+308 [[56 57]]\n",
        "[-1] 1.79769313486e+308 [[56 57]]\n",
        "[-1] 1.79769313486e+308 [[56 57]]\n",
        "[-1] 1.79769313486e+308 [[56 57]]\n",
        "[-1] 1.79769313486e+308 [[56 57]]\n",
        "[-1] 1.79769313486e+308 [[56 57]]\n",
        "[-1] 1.79769313486e+308 [[56 57]]\n",
        "[-1] 1.79769313486e+308 [[56 57]]\n",
        "[-1] 1.79769313486e+308 [[56 57]]\n",
        "[-1] 1.79769313486e+308 [[56 57]]\n",
        "[-1] 1.79769313486e+308 [[56 57]]\n",
        "[-1] 1.79769313486e+308 [[56 57]]\n",
        "[-1] 1.79769313486e+308 [[56 57]]\n",
        "[-1] 1.79769313486e+308 [[56 57]]\n",
        "[-1] 1.79769313486e+308 [[56 57]]\n",
        "[-1] 1.79769313486e+308 [[56 57]]\n",
        "[-1] 1.79769313486e+308 [[56 57]]\n",
        "[-1] 1.79769313486e+308 [[56 57]]\n",
        "[-1] 1.79769313486e+308 [[56 57]]\n",
        "[-1] 1.79769313486e+308 [[56 57]]\n",
        "[-1] 1.79769313486e+308 [[56 57]]\n",
        "[-1] 1.79769313486e+308 [[56 57]]\n",
        "[-1] 1.79769313486e+308 [[56 57]]\n",
        "[-1] 1.79769313486e+308 [[56 57]]\n",
        "[-1] 1.79769313486e+308 [[56 57]]\n",
        "[-1] 1.79769313486e+308 [[56 57]]\n",
        "[51] 123.637440184 [[51 52]]\n",
        "[52] 125.458794231 [[52 53]]\n",
        "[53] 128.827432346 [[53 54]]\n",
        "[54] 128.347396956 [[54 55]]\n",
        "[55] 127.001630623 [[55 56]]\n",
        "[56] 133.570793575 [[56 57]]\n"
       ]
      }
     ],
     "prompt_number": 77
    },
    {
     "cell_type": "code",
     "collapsed": false,
     "input": [
      "for loop, cost in zip(primitiveLoops, costTable[0, :]) :\n",
      "    print areOverlapping(primitiveLoops[27, :], loop), primitiveLoops[27, :], loop, cost,\n",
      "    if areOverlapping(primitiveLoops[27, :], loop) :\n",
      "        print mergeRanges(primitiveLoops[27, :], loop)\n",
      "    else :\n",
      "        print"
     ],
     "language": "python",
     "metadata": {},
     "outputs": [
      {
       "output_type": "stream",
       "stream": "stdout",
       "text": [
        "False [ 7 28] [0 1] 78.4817862596\n",
        "False [ 7 28] [1 2] 78.7589486683\n",
        "False [ 7 28] [2 3] 78.9218170269\n",
        "False [ 7 28] [3 4] 78.893694358\n",
        "False [ 7 28] [4 5] 78.905954588\n",
        "False [ 7 28] [5 6] 80.1241938291\n",
        "True [ 7 28] [6 7] 82.8905002583 [ 6 28]\n",
        "True [ 7 28] [7 8] 85.1630002076 [ 7 28]\n",
        "True [ 7 28] [8 9] 82.9390402051 [ 7 28]\n",
        "True [ 7 28] [ 9 10] 79.4242994952 [ 7 28]\n",
        "True [ 7 28] [10 11] 76.9328529432 [ 7 28]\n",
        "True [ 7 28] [11 12] 75.4744372129 [ 7 28]\n",
        "True [ 7 28] [12 13] 74.4572733634 [ 7 28]\n",
        "True [ 7 28] [13 14] 74.9421299659 [ 7 28]\n",
        "True [ 7 28] [14 15] 76.453404155 [ 7 28]\n",
        "True [ 7 28] [15 16] 78.7679779193 [ 7 28]\n",
        "True [ 7 28] [16 17] 81.4359351035 [ 7 28]\n",
        "True [ 7 28] [17 18] 85.7559790237 [ 7 28]\n",
        "True [ 7 28] [18 19] 86.8352375842 [ 7 28]\n",
        "True [ 7 28] [19 20] 83.5845605518 [ 7 28]\n",
        "True [ 7 28] [ 0 21] 1.79769313486e+308 [ 0 28]\n",
        "True [ 7 28] [ 1 22] 1.79769313486e+308 [ 1 28]\n",
        "True [ 7 28] [ 2 23] 1.79769313486e+308 [ 2 28]\n",
        "True [ 7 28] [ 3 24] 1.79769313486e+308 [ 3 28]\n",
        "True [ 7 28] [ 4 25] 1.79769313486e+308 [ 4 28]\n",
        "True [ 7 28] [ 5 26] 1.79769313486e+308 [ 5 28]\n",
        "True [ 7 28] [ 6 27] 1.79769313486e+308 [ 6 28]\n",
        "True [ 7 28] [ 7 28] 1.79769313486e+308 [ 7 28]\n",
        "True [ 7 28] [ 8 29] 1.79769313486e+308 [ 7 29]\n",
        "True [ 7 28] [ 9 30] 1.79769313486e+308 [ 7 30]\n",
        "True [ 7 28] [10 31] 1.79769313486e+308 [ 7 31]\n",
        "True [ 7 28] [11 32] 1.79769313486e+308 [ 7 32]\n",
        "True [ 7 28] [12 33] 1.79769313486e+308 [ 7 33]\n",
        "True [ 7 28] [13 34] 1.79769313486e+308 [ 7 34]\n",
        "True [ 7 28] [14 35] 1.79769313486e+308 [ 7 35]\n",
        "True [ 7 28] [15 36] 1.79769313486e+308 [ 7 36]\n",
        "True [ 7 28] [16 37] 1.79769313486e+308 [ 7 37]\n",
        "True [ 7 28] [17 38] 1.79769313486e+308 [ 7 38]\n",
        "True [ 7 28] [18 39] 1.79769313486e+308 [ 7 39]\n",
        "True [ 7 28] [19 40] 1.79769313486e+308 [ 7 40]\n",
        "True [ 7 28] [20 41] 1.79769313486e+308 [ 7 41]\n",
        "True [ 7 28] [21 42] 1.79769313486e+308 [ 7 42]\n",
        "True [ 7 28] [22 43] 1.79769313486e+308 [ 7 43]\n",
        "True [ 7 28] [ 1 44] 1.79769313486e+308 [ 1 44]\n",
        "True [ 7 28] [ 2 45] 1.79769313486e+308 [ 2 45]\n",
        "True [ 7 28] [ 3 46] 1.79769313486e+308 [ 3 46]\n",
        "True [ 7 28] [ 4 47] 1.79769313486e+308 [ 4 47]\n",
        "True [ 7 28] [ 5 48] 1.79769313486e+308 [ 5 48]\n",
        "True [ 7 28] [ 6 49] 1.79769313486e+308 [ 6 49]\n",
        "True [ 7 28] [ 7 50] 1.79769313486e+308 [ 7 50]\n",
        "True [ 7 28] [ 8 51] 1.79769313486e+308 [ 7 51]\n",
        "False [ 7 28] [51 52] 123.637440184\n",
        "False [ 7 28] [52 53] 125.458794231\n",
        "False [ 7 28] [53 54] 128.827432346\n",
        "False [ 7 28] [54 55] 128.347396956\n",
        "False [ 7 28] [55 56] 127.001630623\n",
        "False [ 7 28] [56 57] 133.570793575\n"
       ]
      }
     ],
     "prompt_number": 32
    },
    {
     "cell_type": "code",
     "collapsed": false,
     "input": [
      "print distMat[np.array(primitiveLoops)[:, 0], np.array(primitiveLoops)[:, 1]]\n",
      "print np.argsort(distMat[np.array(primitiveLoops)[:, 0], np.array(primitiveLoops)[:, 1]])\n",
      "print primitiveLoops[np.argsort(distMat[np.array(primitiveLoops)[:, 0], np.array(primitiveLoops)[:, 1]])[0]]"
     ],
     "language": "python",
     "metadata": {},
     "outputs": [
      {
       "output_type": "stream",
       "stream": "stdout",
       "text": [
        "[  78.48178626   78.75894867   78.92181703   78.89369436   78.90595459\n",
        "   80.12419383   82.89050026   85.16300021   82.93904021   79.4242995\n",
        "   76.93285294   75.47443721   74.45727336   74.94212997   76.45340415\n",
        "   78.76797792   81.4359351    85.75597902   86.83523758   83.58456055\n",
        "   76.25251817   76.81571087   76.92379852   77.17479298   77.56704793\n",
        "   77.85821557   77.47708031   77.09274627   75.46065233   73.11929589\n",
        "   70.96605484   69.25450643   67.83482142   66.46054644   65.68112882\n",
        "   64.94236675   63.90066348   63.82889112   64.95337788   66.90996741\n",
        "   68.20869037   70.45962592   71.2811491    72.21176902   74.00780064\n",
        "   81.7951957    88.1951058    93.84331353   99.16117449  106.12226896\n",
        "  114.03175068  123.63744018  125.45879423  128.82743235  128.34739696\n",
        "  127.00163062  133.57079357]\n",
        "[37 36 35 38 34 33 39 32 40 31 41 30 42 43 29 44 12 13 28 11 20 14 21 22 10\n",
        " 27 23 26 24 25  0  1 15  3  4  2  9  5 16 45  6  8 19  7 17 18 46 47 48 49\n",
        " 50 51 52 55 54 53 56]\n",
        "[17 38]\n"
       ]
      }
     ],
     "prompt_number": 16
    },
    {
     "cell_type": "code",
     "collapsed": false,
     "input": [
      "## test finalFrames\n",
      "# bestLoop = np.argsort(distMat[np.array(primitiveLoops)[:, 0], np.array(primitiveLoops)[:, 1]])[0]\n",
      "# print bestLoop, primitiveLoops[bestLoop]\n",
      "# finalFrames = np.arange(primitiveLoops[bestLoop][0], primitiveLoops[bestLoop][1])\n",
      "finalFrames = np.arange(aCycle[0]+5, aCycle[-1]+5)\n",
      "# print frames[finalFrames]\n",
      "print"
     ],
     "language": "python",
     "metadata": {},
     "outputs": [
      {
       "output_type": "stream",
       "stream": "stdout",
       "text": [
        "\n"
       ]
      }
     ],
     "prompt_number": 82
    },
    {
     "cell_type": "code",
     "collapsed": false,
     "input": [
      "idx = 1\n",
      "print np.argsort(distMat[idx, 0:idx])\n",
      "figure(); imshow(np.reshape(distMat[idx, 0:idx], (1, distMat[idx, 0:idx].shape[0])), interpolation='nearest')"
     ],
     "language": "python",
     "metadata": {},
     "outputs": [
      {
       "output_type": "stream",
       "stream": "stdout",
       "text": [
        "[0]\n"
       ]
      },
      {
       "metadata": {},
       "output_type": "pyout",
       "prompt_number": 70,
       "text": [
        "<matplotlib.image.AxesImage at 0x7f51dea8cdd0>"
       ]
      }
     ],
     "prompt_number": 70
    },
    {
     "cell_type": "code",
     "collapsed": false,
     "input": [
      "loopsTable = []\n",
      "loopsTable.append([0, 1, 2])\n",
      "loopsTable.append([3, 4, 5])\n",
      "loopsTable.append([0, 1, 2])\n",
      "# loopsTable[0].append([5, 1, 2])\n",
      "loopsTable = list(reshape(loopsTable, (3, 1, 3)))\n",
      "# loopsTable[0][0].append([5, 1, 2])\n",
      "print loopsTable\n",
      "print loopsTable[0][0][:]"
     ],
     "language": "python",
     "metadata": {},
     "outputs": [
      {
       "output_type": "stream",
       "stream": "stdout",
       "text": [
        "[array([[0, 1, 2]]), array([[3, 4, 5]]), array([[0, 1, 2]])]\n",
        "[0 1 2]\n"
       ]
      }
     ],
     "prompt_number": 95
    },
    {
     "cell_type": "code",
     "collapsed": false,
     "input": [
      "## visualize frames automatically\n",
      "\n",
      "def _blit_draw(self, artists, bg_cache):\n",
      "    # Handles blitted drawing, which renders only the artists given instead\n",
      "    # of the entire figure.\n",
      "    updated_ax = []\n",
      "    for a in artists:\n",
      "        # If we haven't cached the background for this axes object, do\n",
      "        # so now. This might not always be reliable, but it's an attempt\n",
      "        # to automate the process.\n",
      "        if a.axes not in bg_cache:\n",
      "            # bg_cache[a.axes] = a.figure.canvas.copy_from_bbox(a.axes.bbox)\n",
      "            # change here\n",
      "            bg_cache[a.axes] = a.figure.canvas.copy_from_bbox(a.axes.figure.bbox)\n",
      "        a.axes.draw_artist(a)\n",
      "        updated_ax.append(a.axes)\n",
      "\n",
      "    # After rendering all the needed artists, blit each axes individually.\n",
      "    for ax in set(updated_ax):\n",
      "        # and here\n",
      "        # ax.figure.canvas.blit(ax.bbox)\n",
      "        ax.figure.canvas.blit(ax.figure.bbox)\n",
      "\n",
      "# MONKEY PATCH!!\n",
      "matplotlib.animation.Animation._blit_draw = _blit_draw\n",
      "\n",
      "fig=plt.figure()\n",
      "img = plt.imshow(np.array(cv2.cvtColor(cv2.imread(frames[finalFrames[0]]), cv2.COLOR_BGR2RGB), dtype=np.uint8))\n",
      "img.set_cmap(cm.Greys_r)\n",
      "img.axes.set_axis_off()\n",
      "ax = plt.axes()\n",
      "ttl = ax.text(.5, 1.05, '', transform = ax.transAxes, va='center')\n",
      "\n",
      "def init():\n",
      "    ttl.set_text('')\n",
      "#     img.set_data(movie[:, :, :, finalFrames[0]])\n",
      "    img.set_data(np.array(cv2.cvtColor(cv2.imread(frames[finalFrames[0]]), cv2.COLOR_BGR2RGB), dtype=np.uint8))\n",
      "    return img, ttl\n",
      "\n",
      "def func(f):\n",
      "    ttl.set_text('Frame ' + str(f) + ' from ' + str(finalFrames[f]))\n",
      "#     img.set_data(movie[:, :, :, finalFrames[f]])\n",
      "    img.set_data(np.array(cv2.cvtColor(cv2.imread(frames[finalFrames[f]]), cv2.COLOR_BGR2RGB), dtype=np.uint8))\n",
      "    return img, ttl\n",
      "\n",
      "ani = animation.FuncAnimation(fig,func,init_func=init,frames=len(finalFrames),interval=33,blit=True)\n",
      "\n",
      "plt.show()"
     ],
     "language": "python",
     "metadata": {},
     "outputs": [],
     "prompt_number": 86
    },
    {
     "cell_type": "code",
     "collapsed": false,
     "input": [],
     "language": "python",
     "metadata": {},
     "outputs": [
      {
       "output_type": "stream",
       "stream": "stdout",
       "text": [
        "(240, 240, 3, 66)\n"
       ]
      }
     ],
     "prompt_number": 121
    }
   ],
   "metadata": {}
  }
 ]
}