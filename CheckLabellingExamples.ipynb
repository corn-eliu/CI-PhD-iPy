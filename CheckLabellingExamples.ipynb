{
 "metadata": {
  "name": "",
  "signature": "sha256:28a3d26c86b126c85981f517e2d39ff0803d88b5cd6d5485e0ecc0604143820c"
 },
 "nbformat": 3,
 "nbformat_minor": 0,
 "worksheets": [
  {
   "cells": [
    {
     "cell_type": "code",
     "collapsed": false,
     "input": [
      "import numpy as np\n",
      "import glob\n",
      "\n",
      "\n",
      "DICT_SEQUENCE_NAME = 'semantic_sequence_name'\n",
      "DICT_BBOXES = 'bboxes'\n",
      "DICT_FOOTPRINTS = 'footprints' ## same as bboxes but it indicates the footprint of the sprite on the ground plane\n",
      "DICT_BBOX_ROTATIONS = 'bbox_rotations'\n",
      "DICT_BBOX_CENTERS = 'bbox_centers'\n",
      "DICT_FRAMES_LOCATIONS = 'frame_locs'\n",
      "DICT_MASK_LOCATION = 'frame_masks_location'\n",
      "DICT_ICON_TOP_LEFT = \"icon_top_left\"\n",
      "DICT_ICON_FRAME_KEY = \"icon_frame_key\"\n",
      "DICT_ICON_SIZE = \"icon_size\"\n",
      "DICT_REPRESENTATIVE_COLOR = 'representative_color'\n",
      "DICT_FRAME_SEMANTICS = \"semantics_per_frame\"\n",
      "DICT_SEMANTICS_NAMES = \"semantics_names\"\n",
      "DICT_NUM_SEMANTICS = \"number_of_semantic_classes\"\n",
      "DICT_PATCHES_LOCATION = \"sequence_preloaded_patches_location\"\n",
      "DICT_TRANSITION_COSTS_LOCATION = \"sequence_precomputed_transition_costs_location\"\n",
      "# DICT_FRAME_COMPATIBILITY_LABELS = 'compatibiliy_labels_per_frame'\n",
      "DICT_LABELLED_FRAMES = 'labelled_frames' ## includes the frames labelled for the semantic labels (the first [DICT_FRAME_SEMANTICS].shape[1])\n",
      "DICT_NUM_EXTRA_FRAMES = 'num_extra_frames' ## same len as DICT_LABELLED_FRAMES\n",
      "DICT_CONFLICTING_SEQUENCES = 'conflicting_sequences'\n",
      "DICT_DISTANCE_MATRIX_LOCATION = 'sequence_precomputed_distance_matrix_location' ## for label propagation\n",
      "DICT_SEQUENCE_LOCATION = \"sequence_location\""
     ],
     "language": "python",
     "metadata": {},
     "outputs": [],
     "prompt_number": 6
    },
    {
     "cell_type": "code",
     "collapsed": true,
     "input": [
      "for seqLoc in np.sort(glob.glob(\"/media/ilisescu/Data1/PhD/data/wave1/semantic_sequence-*.npy\")) :\n",
      "    tmp = np.load(seqLoc).item()\n",
      "    numFrames = len(tmp[DICT_FRAMES_LOCATIONS].keys())\n",
      "#     print numFrames, seqLoc\n",
      "    if DICT_LABELLED_FRAMES in tmp.keys() and DICT_NUM_EXTRA_FRAMES in tmp.keys() :\n",
      "        for i in xrange(len(tmp[DICT_LABELLED_FRAMES])) :\n",
      "            listToKeep = []\n",
      "            for j in xrange(len(tmp[DICT_LABELLED_FRAMES][i])) :\n",
      "                if tmp[DICT_LABELLED_FRAMES][i][j] >= 0 and tmp[DICT_LABELLED_FRAMES][i][j] < numFrames :\n",
      "                    listToKeep.append(j)\n",
      "                \n",
      "#             print tmp[DICT_LABELLED_FRAMES][i], listToKeep,\n",
      "            tmp[DICT_LABELLED_FRAMES][i] = [tmp[DICT_LABELLED_FRAMES][i][j] for j in listToKeep]\n",
      "            tmp[DICT_NUM_EXTRA_FRAMES][i] = [tmp[DICT_NUM_EXTRA_FRAMES][i][j] for j in listToKeep]\n",
      "#             print tmp[DICT_LABELLED_FRAMES][i], tmp[DICT_NUM_EXTRA_FRAMES][i]\n",
      "    np.save(tmp[DICT_SEQUENCE_LOCATION], tmp)"
     ],
     "language": "python",
     "metadata": {},
     "outputs": [],
     "prompt_number": 19
    }
   ],
   "metadata": {}
  }
 ]
}