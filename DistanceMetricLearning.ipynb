{
 "metadata": {
  "name": ""
 },
 "nbformat": 3,
 "nbformat_minor": 0,
 "worksheets": [
  {
   "cells": [
    {
     "cell_type": "code",
     "collapsed": false,
     "input": [
      "## Imports and defines\n",
      "%pylab\n",
      "\n",
      "from PIL import Image\n",
      "from PySide import QtCore, QtGui\n",
      "\n",
      "import numpy as np\n",
      "\n",
      "import scipy as sp\n",
      "import scipy.io as sio\n",
      "import cv2\n",
      "import cv\n",
      "import glob\n",
      "import time\n",
      "import gc\n",
      "import re\n",
      "\n",
      "import sys\n",
      "import os\n",
      "from scipy import ndimage\n",
      "from scipy import stats\n",
      "\n",
      "from sklearn import ensemble\n",
      "from sklearn.cluster import KMeans\n",
      "from sklearn.mixture import GMM\n",
      "from sklearn.datasets.samples_generator import make_blobs\n",
      "from skimage.feature import hog\n",
      "from skimage import color\n",
      "\n",
      "import ComputeGridFeatures as cgf\n",
      "import GraphWithValues as gwv\n",
      "\n",
      "dataFolder = \"/home/ilisescu/PhD/data/\"\n",
      "supportedFrameExt = [\".png\"]\n",
      "\n",
      "app = QtGui.QApplication(sys.argv)"
     ],
     "language": "python",
     "metadata": {},
     "outputs": [
      {
       "output_type": "stream",
       "stream": "stdout",
       "text": [
        "Using matplotlib backend: TkAgg\n",
        "Populating the interactive namespace from numpy and matplotlib\n"
       ]
      }
     ],
     "prompt_number": 2
    },
    {
     "cell_type": "code",
     "collapsed": false,
     "input": [
      "## define feature types\n",
      "# ALL = 0 ## compute all possible features\n",
      "# ALL_FRAME = 1 ## compute all possible frame features\n",
      "# ALL_PAIR = 2 ## compute all possible pairwise features\n",
      "idx = 0\n",
      "## single frame feature\n",
      "STD_RGB = idx; idx +=1 ## compute standard rgb frame features (i.e. each variable is a 3D RGB vector)\n",
      "FULL_RGB = idx; idx +=1 ## compute full rgb frame features (i.e. each RGB component is a variable)\n",
      "HOG_FEAT = idx; idx +=1 ## compute HOG features\n",
      "\n",
      "## frame pair feature\n",
      "L2_DIST = idx; idx +=1 ## compute l2 distance between RGB pixel pairs\n",
      "ABS_DIFF = idx; idx +=1 ## compute pairwise absolute difference feature\n",
      "AVG = idx; idx +=1 ## compute average\n",
      "\n",
      "## encoding\n",
      "K_MEANS_HIST = idx; idx +=1\n",
      "FISHER = idx; idx +=1"
     ],
     "language": "python",
     "metadata": {},
     "outputs": [],
     "prompt_number": 3
    },
    {
     "cell_type": "code",
     "collapsed": false,
     "input": [
      "## read frames from sequence of images\n",
      "# sampleData = \"pendulum/\"\n",
      "sampleData = \"ribbon2/\"\n",
      "# sampleData = \"ribbon1_matted/\"\n",
      "# sampleData = \"little_palm1_cropped/\"\n",
      "# sampleData = \"ballAnimation/\"\n",
      "outputData = dataFolder+sampleData\n",
      "\n",
      "## Find pngs in sample data\n",
      "frames = glob.glob(dataFolder + sampleData + \"frame-*.png\")\n",
      "mattes = glob.glob(dataFolder + sampleData + \"matte-*.png\")\n",
      "frames = np.sort(frames)\n",
      "mattes = np.sort(mattes)#[0:len(frames)-10]\n",
      "numFrames = len(frames)\n",
      "frameSize = cv2.imread(frames[0]).shape\n",
      "print numFrames, len(mattes)\n",
      "hogOrientations = 8"
     ],
     "language": "python",
     "metadata": {},
     "outputs": [
      {
       "output_type": "stream",
       "stream": "stdout",
       "text": [
        "1280 1280\n"
       ]
      }
     ],
     "prompt_number": 4
    },
    {
     "cell_type": "code",
     "collapsed": false,
     "input": [
      "############# GETTING FEATURES FROM FRAMES ###############\n",
      "\n",
      "## compute features for image\n",
      "blocksPerWidth = 32\n",
      "blocksPerHeight = 48\n",
      "subDivisions = blocksPerWidth*blocksPerHeight\n",
      "\n",
      "## given block sizes and img sizes build indices representing each block\n",
      "imageSize = np.array(cv2.cvtColor(cv2.imread(frames[0]), cv2.COLOR_BGR2RGB)).shape\n",
      "stencils = cgf.stencil2D(blocksPerWidth, blocksPerHeight, imageSize)\n",
      "\n",
      "features = cgf.histFgFeatures(stencils, subDivisions, frames, mattes)\n",
      "# features = np.load(\"tmpfeat.npy\")\n",
      "figure(); imshow(features.T, interpolation='nearest')\n",
      "\n",
      "# np.save(\"tmpfeat.npy\", features)"
     ],
     "language": "python",
     "metadata": {},
     "outputs": [
      {
       "ename": "KeyboardInterrupt",
       "evalue": "",
       "output_type": "pyerr",
       "traceback": [
        "\u001b[0;31m---------------------------------------------------------------------------\u001b[0m\n\u001b[0;31mKeyboardInterrupt\u001b[0m                         Traceback (most recent call last)",
        "\u001b[0;32m<ipython-input-5-61815acc1990>\u001b[0m in \u001b[0;36m<module>\u001b[0;34m()\u001b[0m\n\u001b[1;32m      8\u001b[0m \u001b[0;31m## given block sizes and img sizes build indices representing each block\u001b[0m\u001b[0;34m\u001b[0m\u001b[0;34m\u001b[0m\u001b[0m\n\u001b[1;32m      9\u001b[0m \u001b[0mimageSize\u001b[0m \u001b[0;34m=\u001b[0m \u001b[0mnp\u001b[0m\u001b[0;34m.\u001b[0m\u001b[0marray\u001b[0m\u001b[0;34m(\u001b[0m\u001b[0mcv2\u001b[0m\u001b[0;34m.\u001b[0m\u001b[0mcvtColor\u001b[0m\u001b[0;34m(\u001b[0m\u001b[0mcv2\u001b[0m\u001b[0;34m.\u001b[0m\u001b[0mimread\u001b[0m\u001b[0;34m(\u001b[0m\u001b[0mframes\u001b[0m\u001b[0;34m[\u001b[0m\u001b[0;36m0\u001b[0m\u001b[0;34m]\u001b[0m\u001b[0;34m)\u001b[0m\u001b[0;34m,\u001b[0m \u001b[0mcv2\u001b[0m\u001b[0;34m.\u001b[0m\u001b[0mCOLOR_BGR2RGB\u001b[0m\u001b[0;34m)\u001b[0m\u001b[0;34m)\u001b[0m\u001b[0;34m.\u001b[0m\u001b[0mshape\u001b[0m\u001b[0;34m\u001b[0m\u001b[0m\n\u001b[0;32m---> 10\u001b[0;31m \u001b[0mstencils\u001b[0m \u001b[0;34m=\u001b[0m \u001b[0mcgf\u001b[0m\u001b[0;34m.\u001b[0m\u001b[0mstencil2D\u001b[0m\u001b[0;34m(\u001b[0m\u001b[0mblocksPerWidth\u001b[0m\u001b[0;34m,\u001b[0m \u001b[0mblocksPerHeight\u001b[0m\u001b[0;34m,\u001b[0m \u001b[0mimageSize\u001b[0m\u001b[0;34m)\u001b[0m\u001b[0;34m\u001b[0m\u001b[0m\n\u001b[0m\u001b[1;32m     11\u001b[0m \u001b[0;34m\u001b[0m\u001b[0m\n\u001b[1;32m     12\u001b[0m \u001b[0mfeatures\u001b[0m \u001b[0;34m=\u001b[0m \u001b[0mcgf\u001b[0m\u001b[0;34m.\u001b[0m\u001b[0mhistFgFeatures\u001b[0m\u001b[0;34m(\u001b[0m\u001b[0mstencils\u001b[0m\u001b[0;34m,\u001b[0m \u001b[0msubDivisions\u001b[0m\u001b[0;34m,\u001b[0m \u001b[0mframes\u001b[0m\u001b[0;34m,\u001b[0m \u001b[0mmattes\u001b[0m\u001b[0;34m)\u001b[0m\u001b[0;34m\u001b[0m\u001b[0m\n",
        "\u001b[0;32m/home/ilisescu/PhD/iPy/ComputeGridFeatures.pyc\u001b[0m in \u001b[0;36mstencil2D\u001b[0;34m(blocksPerWidth, blocksPerHeight, imageSize)\u001b[0m\n\u001b[1;32m     22\u001b[0m             \u001b[0mstencil\u001b[0m \u001b[0;34m=\u001b[0m \u001b[0mnp\u001b[0m\u001b[0;34m.\u001b[0m\u001b[0mzeros\u001b[0m\u001b[0;34m(\u001b[0m\u001b[0mimageSize\u001b[0m\u001b[0;34m[\u001b[0m\u001b[0;36m0\u001b[0m\u001b[0;34m:\u001b[0m\u001b[0;34m-\u001b[0m\u001b[0;36m1\u001b[0m\u001b[0;34m]\u001b[0m\u001b[0;34m,\u001b[0m \u001b[0mdtype\u001b[0m\u001b[0;34m=\u001b[0m\u001b[0mint\u001b[0m\u001b[0;34m)\u001b[0m\u001b[0;34m\u001b[0m\u001b[0m\n\u001b[1;32m     23\u001b[0m             \u001b[0mstencil\u001b[0m\u001b[0;34m[\u001b[0m\u001b[0mr\u001b[0m\u001b[0;34m*\u001b[0m\u001b[0mbRows\u001b[0m\u001b[0;34m:\u001b[0m\u001b[0mr\u001b[0m\u001b[0;34m*\u001b[0m\u001b[0mbRows\u001b[0m\u001b[0;34m+\u001b[0m\u001b[0mbRows\u001b[0m\u001b[0;34m,\u001b[0m \u001b[0mc\u001b[0m\u001b[0;34m*\u001b[0m\u001b[0mbCols\u001b[0m\u001b[0;34m:\u001b[0m\u001b[0mc\u001b[0m\u001b[0;34m*\u001b[0m\u001b[0mbCols\u001b[0m\u001b[0;34m+\u001b[0m\u001b[0mbCols\u001b[0m\u001b[0;34m]\u001b[0m \u001b[0;34m=\u001b[0m \u001b[0mnp\u001b[0m\u001b[0;34m.\u001b[0m\u001b[0mones\u001b[0m\u001b[0;34m(\u001b[0m\u001b[0;34m(\u001b[0m\u001b[0mbRows\u001b[0m\u001b[0;34m,\u001b[0m \u001b[0mbCols\u001b[0m\u001b[0;34m)\u001b[0m\u001b[0;34m)\u001b[0m\u001b[0;34m\u001b[0m\u001b[0m\n\u001b[0;32m---> 24\u001b[0;31m             \u001b[0mstencils\u001b[0m\u001b[0;34m.\u001b[0m\u001b[0mappend\u001b[0m\u001b[0;34m(\u001b[0m\u001b[0mlist\u001b[0m\u001b[0;34m(\u001b[0m\u001b[0mnp\u001b[0m\u001b[0;34m.\u001b[0m\u001b[0margwhere\u001b[0m\u001b[0;34m(\u001b[0m\u001b[0mstencil\u001b[0m\u001b[0;34m==\u001b[0m\u001b[0;36m1\u001b[0m\u001b[0;34m)\u001b[0m\u001b[0;34m.\u001b[0m\u001b[0mT\u001b[0m\u001b[0;34m)\u001b[0m\u001b[0;34m)\u001b[0m\u001b[0;34m\u001b[0m\u001b[0m\n\u001b[0m\u001b[1;32m     25\u001b[0m \u001b[0;34m\u001b[0m\u001b[0m\n\u001b[1;32m     26\u001b[0m     \u001b[0;32mreturn\u001b[0m \u001b[0mstencils\u001b[0m\u001b[0;34m\u001b[0m\u001b[0m\n",
        "\u001b[0;32m/usr/lib/python2.7/dist-packages/numpy/core/numeric.pyc\u001b[0m in \u001b[0;36margwhere\u001b[0;34m(a)\u001b[0m\n\u001b[1;32m    767\u001b[0m \u001b[0;34m\u001b[0m\u001b[0m\n\u001b[1;32m    768\u001b[0m     \"\"\"\n\u001b[0;32m--> 769\u001b[0;31m     \u001b[0;32mreturn\u001b[0m \u001b[0mtranspose\u001b[0m\u001b[0;34m(\u001b[0m\u001b[0masanyarray\u001b[0m\u001b[0;34m(\u001b[0m\u001b[0ma\u001b[0m\u001b[0;34m)\u001b[0m\u001b[0;34m.\u001b[0m\u001b[0mnonzero\u001b[0m\u001b[0;34m(\u001b[0m\u001b[0;34m)\u001b[0m\u001b[0;34m)\u001b[0m\u001b[0;34m\u001b[0m\u001b[0m\n\u001b[0m\u001b[1;32m    770\u001b[0m \u001b[0;34m\u001b[0m\u001b[0m\n\u001b[1;32m    771\u001b[0m \u001b[0;32mdef\u001b[0m \u001b[0mflatnonzero\u001b[0m\u001b[0;34m(\u001b[0m\u001b[0ma\u001b[0m\u001b[0;34m)\u001b[0m\u001b[0;34m:\u001b[0m\u001b[0;34m\u001b[0m\u001b[0m\n",
        "\u001b[0;31mKeyboardInterrupt\u001b[0m: "
       ]
      }
     ],
     "prompt_number": 5
    },
    {
     "cell_type": "code",
     "collapsed": false,
     "input": [
      "def getKMeansHistEncoding(feats, featsShape, kmeansClusterer) :\n",
      "    \"\"\"Take feats feature vector and encode it using K-Means Histograms\n",
      "    \n",
      "           feats: feature vector\n",
      "           featsShape: shape that feats had when the clusterer was trained (if e.g. feats are hog features and it has been flattened)\n",
      "           kmeansClusterer: a trained sklearn.cluster.KMeans clusterer\n",
      "           \n",
      "        return: 1D encoded feature vector encodedFeats\"\"\"\n",
      "    \n",
      "    if kmeansClusterer != None :\n",
      "        try :\n",
      "            bins = len(kmeansClusterer.cluster_centers_)\n",
      "            encodedFeats = np.histogram(kmeansClusterer.predict(np.reshape(feats, featsShape)), bins=bins)[0]\n",
      "            return encodedFeats\n",
      "        except Exception :\n",
      "            raise Exception, \"Untrained kmeansClusterer\"\n",
      "    else :\n",
      "        print \"No kmeansClusterer has been specified\"\n",
      "        return feats\n",
      "    \n",
      "def getFisherEncoding(feats, featsShape, gmm) :\n",
      "    \"\"\"Take feats feature vector and encode it using Fisher encoding\n",
      "    \n",
      "           feats: feature vector\n",
      "           featsShape: shape that feats had when the gmm was fitted (if e.g. feats are hog features and it has been flattened)\n",
      "           gmm: a fitted sklearn.mixture.GMM model\n",
      "           \n",
      "        return: 1D encoded feature vector encodedFeats\"\"\"\n",
      "    \n",
      "    if gmm != None :\n",
      "        try :\n",
      "            modelMeans = gmm.means_\n",
      "            numComponents = modelMeans.shape[0]\n",
      "            featDim = featsShape[-1]\n",
      "            ##get prior probability pi for each component\n",
      "            priors = gmm.weights_\n",
      "            ##get posterior probabilities q for each data point and each component\n",
      "            posteriors = gmm.predict_proba(np.reshape(feats, featsShape))\n",
      "            \n",
      "            us = np.empty(0)\n",
      "            vs = np.empty(0)\n",
      "            ## this one uses the formulation given by vlfeat\n",
      "            for k in xrange(numComponents) :\n",
      "                ## get covariance matrix for component k\n",
      "                kCompCov = gmm.covars_[k, :]\n",
      "                \n",
      "                kCompMeansRep = modelMeans[k, :].reshape((1, featDim)).repeat(featsShape[0], axis=0)\n",
      "                kCompCovRep = kCompCov.reshape((1, featDim)).repeat(featsShape[0], axis=0)\n",
      "                kCompPostRep = posteriors[:, k].reshape((featsShape[0], 1)).repeat(featDim, axis=-1)\n",
      "                \n",
      "                uk = np.sum(kCompPostRep*(np.reshape(feats, featsShape)-kCompMeansRep)/kCompCovRep, axis=0)\n",
      "                uk /= (featsShape[0]*np.sqrt(priors[k]))\n",
      "                us = np.concatenate((us, uk))\n",
      "                \n",
      "                vk = np.sum(kCompPostRep*((((np.reshape(feats, featsShape)-kCompMeansRep)/kCompCovRep)**2)-1), axis=0)\n",
      "                vk /= (featsShape[0]*np.sqrt(2*priors[k]))\n",
      "                vs = np.concatenate((vs, vk))\n",
      "                \n",
      "            encodedFeats = np.concatenate((us, vs))\n",
      "            return encodedFeats\n",
      "        except Exception :\n",
      "            raise Exception, \"Unfitted gmm\"\n",
      "    else :\n",
      "        print \"No gm model has been specified\"\n",
      "        return feats"
     ],
     "language": "python",
     "metadata": {},
     "outputs": [],
     "prompt_number": 4
    },
    {
     "cell_type": "code",
     "collapsed": false,
     "input": [
      "def getStdRGBFeats(imageData) :\n",
      "    \"\"\"Take RGB imageData and reshape it as a W*Hx3 vector\n",
      "    \n",
      "           imageData: input RGB image data\n",
      "           \n",
      "        return: 3D vector feats\"\"\"\n",
      "    \n",
      "    feats = np.reshape(imageData, (np.prod(imageData.shape[0:-1]), 3))\n",
      "    return feats\n",
      "\n",
      "def getFullRGBFeats(imageData) :\n",
      "    \"\"\"Take RGB imageData and reshape it as a 1D vector\n",
      "    \n",
      "           imageData: input RGB image data\n",
      "           \n",
      "        return: 1D vector feats\"\"\"\n",
      "    \n",
      "    feats = np.reshape(imageData, (np.prod(imageData.shape)))\n",
      "    return feats\n",
      "\n",
      "def getHOGFeats(imageData) :\n",
      "    \"\"\"Take RGB imageData and compute HOG features\n",
      "    \n",
      "           imageData: input RGB image data\n",
      "           \n",
      "        return: 1D vector feats\"\"\"\n",
      "    \n",
      "    feats = hog(color.rgb2gray(imageData), orientations=hogOrientations, pixels_per_cell=(16, 16), cells_per_block=(1, 1), visualise=False)\n",
      "    return feats\n",
      "    \n",
      "def getFrameFeatures(frameLocation, featureTypes, **kwargs) :\n",
      "    \"\"\"Reads image at frameLocation and returns formatted features specified in featureTypes.\n",
      "    \n",
      "           frameLocation: location on disk of an image\n",
      "           featureTypes: array containing the types of features that need to be computed for the image\n",
      "           \n",
      "           accepted kwargs:\n",
      "               downsampleFactor[float]: if > 1.0 the frame and relative matte will be downsampled\n",
      "               matteLocation[string]: location on disk of its background substracting matte\n",
      "               kmeansClusterer[sklearn.cluster.KMeans]: trained kmeans clusterer\n",
      "               gmModel[sklearn.mixture.GMM]: trained gaussian mixture model\n",
      "           \n",
      "           \n",
      "        return: 1D vector features\"\"\"\n",
      "    \n",
      "    if os.path.splitext(frameLocation)[-1] not in supportedFrameExt :\n",
      "        raise Exception(\"Image type not supported\")\n",
      "        \n",
      "    if STD_RGB in featureTypes and (FULL_RGB in featureTypes or HOG_FEAT in featureTypes) :\n",
      "        raise Exception(\"Can't use STD_RGB and FULL_RGB together\")\n",
      "    \n",
      "    ## accepted kwargs\n",
      "    downsampleFactor = 1.0\n",
      "    matteLocation = None\n",
      "    kmeansClusterer = None\n",
      "    gmModel = None\n",
      "    ## parse kwargs\n",
      "    if \"downsampleFactor\" in kwargs.keys() :\n",
      "        downsampleFactor = kwargs[\"downsampleFactor\"]\n",
      "    if \"matteLocation\" in kwargs.keys() :\n",
      "        matteLocation = kwargs[\"matteLocation\"]\n",
      "    if \"kmeansClusterer\" in kwargs.keys() :\n",
      "        kmeansClusterer = kwargs[\"kmeansClusterer\"]\n",
      "    if \"gmModel\" in kwargs.keys() :\n",
      "        gmModel = kwargs[\"gmModel\"]\n",
      "        \n",
      "    frameData = cv2.cvtColor(cv2.imread(frameLocation), cv2.COLOR_BGR2RGB)\n",
      "    if downsampleFactor > 1.0 :\n",
      "        frameData = cv2.resize(frameData, (int(frameData.shape[1]/downsampleFactor), int(frameData.shape[0]/downsampleFactor)), interpolation=cv2.INTER_AREA)\n",
      "    frameData = np.array(frameData, dtype=np.float32)\n",
      "#     figure(); imshow(frameData)\n",
      "    if matteLocation != None and os.path.splitext(frameLocation)[-1] in supportedFrameExt:\n",
      "        matte = cv2.cvtColor(cv2.imread(matteLocation), cv2.COLOR_BGR2GRAY)\n",
      "        if downsampleFactor > 1.0 :\n",
      "            matte = cv2.resize(matte, (int(matte.shape[1]/downsampleFactor), int(matte.shape[0]/downsampleFactor)), interpolation=cv2.INTER_AREA)\n",
      "        matte = np.array(matte)/255.0\n",
      "        \n",
      "        frameData = frameData*np.repeat(np.reshape(matte, (matte.shape[0], matte.shape[1], 1)), 3, axis=-1)\n",
      "#     figure(); imshow(frameData)\n",
      "    features = np.empty(0)\n",
      "    ## init feature vecotr\n",
      "    if FULL_RGB in featureTypes or HOG_FEAT in featureTypes :\n",
      "        features = np.empty(0)\n",
      "    elif STD_RGB in featureTypes :\n",
      "        features = np.empty((0, 3))\n",
      "          \n",
      "    if STD_RGB in featureTypes :#or ALL_FRAME in featureTypes or ALL in featureTypes :\n",
      "        features = np.concatenate((features, getStdRGBFeats(frameData)))\n",
      "        \n",
      "    if FULL_RGB in featureTypes :#or ALL_FRAME in featureTypes or ALL in featureTypes :\n",
      "        features = np.concatenate((features, getFullRGBFeats(frameData)))\n",
      "        \n",
      "    if HOG_FEAT in featureTypes :#or ALL_FRAME in featureTypes or ALL in featureTypes :\n",
      "        features = np.concatenate((features, getHOGFeats(frameData)))\n",
      "        \n",
      "    if K_MEANS_HIST in featureTypes :\n",
      "        if HOG_FEAT in frameFeatTypes :\n",
      "            features = getKMeansHistEncoding(features, (len(features)/hogOrientations, hogOrientations), kmeansClusterer)\n",
      "        else :\n",
      "            features = getKMeansHistEncoding(features, features.shape, kmeansClusterer)\n",
      "        \n",
      "    if FISHER in featureTypes :\n",
      "        if HOG_FEAT in frameFeatTypes :\n",
      "            features = getFisherEncoding(features, (len(features)/hogOrientations, hogOrientations), gmModel)\n",
      "        else :\n",
      "            features = getFisherEncoding(features, features.shape, gmModel)\n",
      "        \n",
      "    return features"
     ],
     "language": "python",
     "metadata": {},
     "outputs": [],
     "prompt_number": 5
    },
    {
     "cell_type": "code",
     "collapsed": false,
     "input": [
      "def getL2Dist(image1Data, image2Data) :\n",
      "    \"\"\"Take image1Data and image2Data and compute l2 distance between every pair of corresponding N-D data points (e.g. RGB pixels)\n",
      "    \n",
      "           image1Data: input RGB image data\n",
      "           image1Data: input RGB image data\n",
      "           \n",
      "        return: 1D vector feats\"\"\"\n",
      "    \n",
      "    feats = np.sqrt(np.sum(np.power(image1Data-image2Data,2), axis=-1))\n",
      "    return feats\n",
      "\n",
      "def getAbsDiff(image1Data, image2Data) :\n",
      "    \"\"\"Take image1Data and image2Data and compute absolute difference between every pair of corresponding data points\n",
      "    \n",
      "           image1Data: input RGB image data\n",
      "           image1Data: input RGB image data\n",
      "           \n",
      "        return: 1D vector feats\"\"\"\n",
      "    \n",
      "    feats = np.sqrt((image1Data-image2Data)**2)\n",
      "    return feats\n",
      "\n",
      "def getAvg(image1Data, image2Data) :\n",
      "    \"\"\"Take image1Data and image2Data and compute feature average between every pair of corresponding data points\n",
      "    \n",
      "           image1Data: input RGB image data\n",
      "           image1Data: input RGB image data\n",
      "           \n",
      "        return: 1D vector feats\"\"\"\n",
      "    \n",
      "    if len(image1Data.shape) == 1 :\n",
      "        feats = np.mean(np.hstack((image1Data.reshape((len(image1Data), 1)),image2Data.reshape((len(image2Data), 1)))), axis=1)\n",
      "    else :\n",
      "        feats = np.mean(np.hstack((image1Data,image2Data)), axis=1)\n",
      "    return feats\n",
      "    \n",
      "def getFramesPairFeatures(frame1Features, frame2Features, featureTypes, **kwargs) :\n",
      "    \"\"\"Takes the feature vectors of 2 frames and computes the pairwise features specified in featureTypes\n",
      "    \n",
      "           frame1Features: features of frame 1\n",
      "           frame2Features: features of frame 2\n",
      "           featureTypes: array containing the types of pairwise features to compute for the 2 given frames\n",
      "           \n",
      "           accepted kwargs:\n",
      "               kmeansClusterer[sklearn.cluster.KMeans]: trained kmeans clusterer\n",
      "               gmModel[sklearn.mixture.GMM]: trained gaussian mixture model\n",
      "           \n",
      "        return: 1D vector features\"\"\"\n",
      "    \n",
      "    ## accepted kwargs\n",
      "    kmeansClusterer = None\n",
      "    gmModel = None\n",
      "    ## parse kwargs\n",
      "    if \"kmeansClusterer\" in kwargs.keys() :\n",
      "        kmeansClusterer = kwargs[\"kmeansClusterer\"]\n",
      "    if \"gmModel\" in kwargs.keys() :\n",
      "        gmModel = kwargs[\"gmModel\"]\n",
      "    \n",
      "    if L2_DIST in featureTypes and ABS_DIFF in featureTypes :\n",
      "        raise Exception(\"Can't use L2_DIST and ABS_DIFF together\")\n",
      "    \n",
      "    features = np.empty(0)\n",
      "    if L2_DIST in featureTypes :#or ALL_PAIR in featureTypes or ALL in featureTypes :\n",
      "        features = np.concatenate((features, getL2Dist(frame1Features, frame2Features)))\n",
      "        \n",
      "    if ABS_DIFF in featureTypes :#or ALL_PAIR in featureTypes or ALL in featureTypes :\n",
      "        features = np.concatenate((features, getAbsDiff(frame1Features, frame2Features)))\n",
      "        \n",
      "    if AVG in featureTypes :#or ALL_PAIR in featureTypes or ALL in featureTypes :\n",
      "        features = np.concatenate((features, getAvg(frame1Features, frame2Features)))\n",
      "        \n",
      "    if K_MEANS_HIST in featureTypes :\n",
      "        if HOG_FEAT in frameFeatTypes :\n",
      "            features = getKMeansHistEncoding(features, (len(features)/hogOrientations, hogOrientations), kmeansClusterer)\n",
      "        else :\n",
      "            features = getKMeansHistEncoding(features, features.shape, kmeansClusterer)\n",
      "        \n",
      "    if FISHER in featureTypes :\n",
      "        if HOG_FEAT in frameFeatTypes :\n",
      "            features = getFisherEncoding(features, (len(features)/hogOrientations, hogOrientations), gmModel)\n",
      "        else :\n",
      "            features = getFisherEncoding(features, features.shape, gmModel)\n",
      "        \n",
      "    return features"
     ],
     "language": "python",
     "metadata": {},
     "outputs": [],
     "prompt_number": 6
    },
    {
     "cell_type": "code",
     "collapsed": false,
     "input": [
      "## example encoding\n",
      "print getFrameFeatures(frames[0], [HOG_FEAT, K_MEANS_HIST], matteLocation=mattes[0], kmeansClusterer=clusterer)\n",
      "print getFramesPairFeatures(frameFeatures[0], frameFeatures[1], [ABS_DIFF, K_MEANS_HIST], kmeansClusterer=clusterer)"
     ],
     "language": "python",
     "metadata": {},
     "outputs": [],
     "prompt_number": 54
    },
    {
     "cell_type": "code",
     "collapsed": false,
     "input": [
      "def fitKmeansClusterer(trainingFeats, bins) :\n",
      "    \"\"\"Takes a set of features trainingFeats and returns a kmeans clusterer with bins clusters\n",
      "        Descriptors of an image can be assigned to one cluster center for the purpose of doing histogram encoding\n",
      "    \n",
      "           trainingFeats: training features\n",
      "           bins: number of k-means centers to find and use as words\n",
      "           \n",
      "        return: kmeans clusterer\"\"\"\n",
      "    \n",
      "    clusterer = KMeans(n_clusters=bins, n_jobs=6)\n",
      "    clusterer.fit(trainingFeats)\n",
      "    return clusterer"
     ],
     "language": "python",
     "metadata": {},
     "outputs": [],
     "prompt_number": 7
    },
    {
     "cell_type": "code",
     "collapsed": false,
     "input": [
      "def fitGMM(trainingFeats, ncomp) :\n",
      "    \"\"\"Takes a set of features trainingFeats and returns Gaussian Mixture Model with ncomp components\n",
      "        Descriptors of an image can be softly assinged to each K Gaussian component and used for Fisher encoding\n",
      "    \n",
      "           trainingFeats: training features\n",
      "           ncomp: number of gaussians in the GMM\n",
      "           \n",
      "        return: gmm model\"\"\"\n",
      "    \n",
      "    model = GMM(n_components=ncomp, covariance_type='diag')\n",
      "    model.fit(trainingFeats)\n",
      "    return model"
     ],
     "language": "python",
     "metadata": {},
     "outputs": [],
     "prompt_number": 8
    },
    {
     "cell_type": "code",
     "collapsed": false,
     "input": [
      "frameFeatTypes = [HOG_FEAT]\n",
      "pairFeatTypes = [ABS_DIFF, FISHER]#[L2_DIST]#[L2_DIST, AVG]"
     ],
     "language": "python",
     "metadata": {},
     "outputs": [],
     "prompt_number": 9
    },
    {
     "cell_type": "code",
     "collapsed": false,
     "input": [
      "## compute HOG features of labelled frames and transform it to be (N*M)xb where N is number of individual frames\n",
      "## and M and b are number of cells and number of bins in HOG respectively\n",
      "# labelledPairs = np.load(\"labelledPairs.npy\")\n",
      "labelledPairs = np.load(\"labelledPairs_better.npy\")\n",
      "labelledFramesFeats = []\n",
      "\n",
      "## compute the cluster centers on the single frame features\n",
      "if False :\n",
      "    alreadyComputed = []\n",
      "    for labelledPair in labelledPairs :\n",
      "        f1 = int(labelledPair[0])\n",
      "        f2 = int(labelledPair[1])\n",
      "        if f1 not in alreadyComputed :\n",
      "            print f1\n",
      "            alreadyComputed.append(f1)\n",
      "            labelledFramesFeats.append(getFrameFeatures(frames[f1], frameFeatTypes, mattes[f1]))\n",
      "        else :\n",
      "            print \"skipping\", f1\n",
      "            \n",
      "        if f2 not in alreadyComputed :\n",
      "            print f2\n",
      "            alreadyComputed.append(f2)\n",
      "            labelledFramesFeats.append(getFrameFeatures(frames[f2], frameFeatTypes, mattes[f2]))\n",
      "        else :\n",
      "            print \"skipping\", f2\n",
      "## compute the cluster centers on the pairwise features\n",
      "else :\n",
      "    for labelledPair, i in zip(labelledPairs, arange(len(labelledPairs))) :\n",
      "        frame1Loc = frames[int(labelledPair[0])]\n",
      "        frame1Matte = mattes[int(labelledPair[0])]\n",
      "        frame2Loc = frames[int(labelledPair[1])]\n",
      "        frame2Matte = mattes[int(labelledPair[1])]\n",
      "        labelledFramesFeats.append(getFramesPairFeatures(getFrameFeatures(frame1Loc, frameFeatTypes, matteLocation=frame1Matte), getFrameFeatures(frame2Loc, frameFeatTypes, matteLocation=frame2Matte), pairFeatTypes))\n",
      "        \n",
      "        sys.stdout.write('\\r' + \"Done \" + np.string_(i+1) + \" pairs: \" + np.string_(int(labelledPair[0])) + \" - \" + np.string_(int(labelledPair[1])))\n",
      "        sys.stdout.flush()\n",
      "        \n",
      "flatLabelledData = np.ndarray.flatten(np.array(labelledFramesFeats))\n",
      "flatLabelledData = flatLabelledData.reshape((len(flatLabelledData)/hogOrientations, hogOrientations))\n",
      "print flatLabelledData.shape\n",
      "tic = time.time()\n",
      "clusterer = fitKmeansClusterer(flatLabelledData, 256)\n",
      "print time.time()-tic"
     ],
     "language": "python",
     "metadata": {},
     "outputs": [
      {
       "output_type": "stream",
       "stream": "stdout",
       "text": [
        "\r",
        "Done 1 pairs: 931 - 959"
       ]
      },
      {
       "output_type": "stream",
       "stream": "stdout",
       "text": [
        "\r",
        "Done 2 pairs: 898 - 998"
       ]
      },
      {
       "output_type": "stream",
       "stream": "stdout",
       "text": [
        "\r",
        "Done 3 pairs: 774 - 951"
       ]
      },
      {
       "output_type": "stream",
       "stream": "stdout",
       "text": [
        "\r",
        "Done 4 pairs: 887 - 1006"
       ]
      },
      {
       "output_type": "stream",
       "stream": "stdout",
       "text": [
        "\r",
        "Done 5 pairs: 814 - 1003"
       ]
      },
      {
       "output_type": "stream",
       "stream": "stdout",
       "text": [
        "\r",
        "Done 6 pairs: 876 - 1120"
       ]
      },
      {
       "output_type": "stream",
       "stream": "stdout",
       "text": [
        "\r",
        "Done 7 pairs: 767 - 975"
       ]
      },
      {
       "output_type": "stream",
       "stream": "stdout",
       "text": [
        "\r",
        "Done 8 pairs: 915 - 1110"
       ]
      },
      {
       "output_type": "stream",
       "stream": "stdout",
       "text": [
        "\r",
        "Done 9 pairs: 244 - 408"
       ]
      },
      {
       "output_type": "stream",
       "stream": "stdout",
       "text": [
        "\r",
        "Done 10 pairs: 80 - 399"
       ]
      },
      {
       "output_type": "stream",
       "stream": "stdout",
       "text": [
        "\r",
        "Done 11 pairs: 187 - 294"
       ]
      },
      {
       "output_type": "stream",
       "stream": "stdout",
       "text": [
        "\r",
        "Done 12 pairs: 87 - 613"
       ]
      },
      {
       "output_type": "stream",
       "stream": "stdout",
       "text": [
        "\r",
        "Done 13 pairs: 255 - 280"
       ]
      },
      {
       "output_type": "stream",
       "stream": "stdout",
       "text": [
        "\r",
        "Done 14 pairs: 182 - 824"
       ]
      },
      {
       "output_type": "stream",
       "stream": "stdout",
       "text": [
        "\r",
        "Done 15 pairs: 95 - 928"
       ]
      },
      {
       "output_type": "stream",
       "stream": "stdout",
       "text": [
        "\r",
        "Done 16 pairs: 66 - 847"
       ]
      },
      {
       "output_type": "stream",
       "stream": "stdout",
       "text": [
        "\r",
        "Done 17 pairs: 132 - 898"
       ]
      },
      {
       "output_type": "stream",
       "stream": "stdout",
       "text": [
        "\r",
        "Done 18 pairs: 133 - 808"
       ]
      },
      {
       "output_type": "stream",
       "stream": "stdout",
       "text": [
        "\r",
        "Done 19 pairs: 165 - 904"
       ]
      },
      {
       "output_type": "stream",
       "stream": "stdout",
       "text": [
        "\r",
        "Done 20 pairs: 184 - 1260"
       ]
      },
      {
       "output_type": "stream",
       "stream": "stdout",
       "text": [
        "\r",
        "Done 21 pairs: 196 - 959"
       ]
      },
      {
       "output_type": "stream",
       "stream": "stdout",
       "text": [
        "\r",
        "Done 22 pairs: 198 - 1201"
       ]
      },
      {
       "output_type": "stream",
       "stream": "stdout",
       "text": [
        "\r",
        "Done 23 pairs: 57 - 966"
       ]
      },
      {
       "output_type": "stream",
       "stream": "stdout",
       "text": [
        "\r",
        "Done 24 pairs: 49 - 1042"
       ]
      },
      {
       "output_type": "stream",
       "stream": "stdout",
       "text": [
        "\r",
        "Done 25 pairs: 467 - 854"
       ]
      },
      {
       "output_type": "stream",
       "stream": "stdout",
       "text": [
        "\r",
        "Done 26 pairs: 425 - 810"
       ]
      },
      {
       "output_type": "stream",
       "stream": "stdout",
       "text": [
        "\r",
        "Done 27 pairs: 424 - 879"
       ]
      },
      {
       "output_type": "stream",
       "stream": "stdout",
       "text": [
        "\r",
        "Done 28 pairs: 515 - 872"
       ]
      },
      {
       "output_type": "stream",
       "stream": "stdout",
       "text": [
        "\r",
        "Done 29 pairs: 417 - 812"
       ]
      },
      {
       "output_type": "stream",
       "stream": "stdout",
       "text": [
        "\r",
        "Done 30 pairs: 648 - 804"
       ]
      },
      {
       "output_type": "stream",
       "stream": "stdout",
       "text": [
        "\r",
        "Done 31 pairs: 298 - 1071"
       ]
      },
      {
       "output_type": "stream",
       "stream": "stdout",
       "text": [
        "\r",
        "Done 32 pairs: 393 - 1008"
       ]
      },
      {
       "output_type": "stream",
       "stream": "stdout",
       "text": [
        "\r",
        "Done 33 pairs: 440 - 1094"
       ]
      },
      {
       "output_type": "stream",
       "stream": "stdout",
       "text": [
        "\r",
        "Done 34 pairs: 433 - 973"
       ]
      },
      {
       "output_type": "stream",
       "stream": "stdout",
       "text": [
        "\r",
        "Done 35 pairs: 592 - 1123"
       ]
      },
      {
       "output_type": "stream",
       "stream": "stdout",
       "text": [
        "\r",
        "Done 36 pairs: 145 - 262"
       ]
      },
      {
       "output_type": "stream",
       "stream": "stdout",
       "text": [
        "\r",
        "Done 37 pairs: 209 - 277"
       ]
      },
      {
       "output_type": "stream",
       "stream": "stdout",
       "text": [
        "\r",
        "Done 38 pairs: 219 - 92"
       ]
      },
      {
       "output_type": "stream",
       "stream": "stdout",
       "text": [
        "\r",
        "Done 39 pairs: 103 - 152"
       ]
      },
      {
       "output_type": "stream",
       "stream": "stdout",
       "text": [
        "\r",
        "Done 40 pairs: 170 - 159"
       ]
      },
      {
       "output_type": "stream",
       "stream": "stdout",
       "text": [
        "\r",
        "Done 41 pairs: 314 - 630"
       ]
      },
      {
       "output_type": "stream",
       "stream": "stdout",
       "text": [
        "\r",
        "Done 42 pairs: 593 - 521"
       ]
      },
      {
       "output_type": "stream",
       "stream": "stdout",
       "text": [
        "\r",
        "Done 43 pairs: 669 - 739"
       ]
      },
      {
       "output_type": "stream",
       "stream": "stdout",
       "text": [
        "\r",
        "Done 44 pairs: 404 - 744"
       ]
      },
      {
       "output_type": "stream",
       "stream": "stdout",
       "text": [
        "\r",
        "Done 45 pairs: 597 - 300"
       ]
      },
      {
       "output_type": "stream",
       "stream": "stdout",
       "text": [
        "\r",
        "Done 46 pairs: 799 - 920"
       ]
      },
      {
       "output_type": "stream",
       "stream": "stdout",
       "text": [
        "\r",
        "Done 47 pairs: 818 - 791"
       ]
      },
      {
       "output_type": "stream",
       "stream": "stdout",
       "text": [
        "\r",
        "Done 48 pairs: 920 - 800"
       ]
      },
      {
       "output_type": "stream",
       "stream": "stdout",
       "text": [
        "\r",
        "Done 49 pairs: 853 - 904"
       ]
      },
      {
       "output_type": "stream",
       "stream": "stdout",
       "text": [
        "\r",
        "Done 50 pairs: 923 - 850"
       ]
      },
      {
       "output_type": "stream",
       "stream": "stdout",
       "text": [
        "\r",
        "Done 51 pairs: 1109 - 1034"
       ]
      },
      {
       "output_type": "stream",
       "stream": "stdout",
       "text": [
        "\r",
        "Done 52 pairs: 1009 - 1011"
       ]
      },
      {
       "output_type": "stream",
       "stream": "stdout",
       "text": [
        "\r",
        "Done 53 pairs: 1257 - 1269"
       ]
      },
      {
       "output_type": "stream",
       "stream": "stdout",
       "text": [
        "\r",
        "Done 54 pairs: 979 - 1205"
       ]
      },
      {
       "output_type": "stream",
       "stream": "stdout",
       "text": [
        "\r",
        "Done 55 pairs: 1009 - 1216"
       ]
      },
      {
       "ename": "NameError",
       "evalue": "name 'trainKmeansClusterer' is not defined",
       "output_type": "pyerr",
       "traceback": [
        "\u001b[0;31m---------------------------------------------------------------------------\u001b[0m\n\u001b[0;31mNameError\u001b[0m                                 Traceback (most recent call last)",
        "\u001b[0;32m<ipython-input-16-8a5ddf8e5115>\u001b[0m in \u001b[0;36m<module>\u001b[0;34m()\u001b[0m\n\u001b[1;32m     40\u001b[0m \u001b[0;32mprint\u001b[0m \u001b[0mflatLabelledData\u001b[0m\u001b[0;34m.\u001b[0m\u001b[0mshape\u001b[0m\u001b[0;34m\u001b[0m\u001b[0m\n\u001b[1;32m     41\u001b[0m \u001b[0mtic\u001b[0m \u001b[0;34m=\u001b[0m \u001b[0mtime\u001b[0m\u001b[0;34m.\u001b[0m\u001b[0mtime\u001b[0m\u001b[0;34m(\u001b[0m\u001b[0;34m)\u001b[0m\u001b[0;34m\u001b[0m\u001b[0m\n\u001b[0;32m---> 42\u001b[0;31m \u001b[0mclusterer\u001b[0m \u001b[0;34m=\u001b[0m \u001b[0mtrainKmeansClusterer\u001b[0m\u001b[0;34m(\u001b[0m\u001b[0mflatLabelledData\u001b[0m\u001b[0;34m,\u001b[0m \u001b[0;36m256\u001b[0m\u001b[0;34m)\u001b[0m\u001b[0;34m\u001b[0m\u001b[0m\n\u001b[0m\u001b[1;32m     43\u001b[0m \u001b[0;32mprint\u001b[0m \u001b[0mtime\u001b[0m\u001b[0;34m.\u001b[0m\u001b[0mtime\u001b[0m\u001b[0;34m(\u001b[0m\u001b[0;34m)\u001b[0m\u001b[0;34m-\u001b[0m\u001b[0mtic\u001b[0m\u001b[0;34m\u001b[0m\u001b[0m\n",
        "\u001b[0;31mNameError\u001b[0m: name 'trainKmeansClusterer' is not defined"
       ]
      },
      {
       "output_type": "stream",
       "stream": "stdout",
       "text": [
        "(198000, 9)\n"
       ]
      }
     ],
     "prompt_number": 16
    },
    {
     "cell_type": "code",
     "collapsed": false,
     "input": [
      "tic = time.time()\n",
      "clusterer = fitKmeansClusterer(flatLabelledData, 256)\n",
      "print time.time()-tic"
     ],
     "language": "python",
     "metadata": {},
     "outputs": [
      {
       "output_type": "stream",
       "stream": "stdout",
       "text": [
        "288.831285\n"
       ]
      }
     ],
     "prompt_number": 17
    },
    {
     "cell_type": "code",
     "collapsed": false,
     "input": [
      "tmp = KMeans(n_clusters=256, n_jobs=6)\n",
      "print len(clusterer.cluster_centers_)\n",
      "\n",
      "try :\n",
      "    tmp.cluster_centers_ \n",
      "    print len(tmp.cluster_centers_)\n",
      "except Exception :\n",
      "    raise Exception, \"la\""
     ],
     "language": "python",
     "metadata": {},
     "outputs": [
      {
       "ename": "Exception",
       "evalue": "la",
       "output_type": "pyerr",
       "traceback": [
        "\u001b[0;31m---------------------------------------------------------------------------\u001b[0m\n\u001b[0;31mException\u001b[0m                                 Traceback (most recent call last)",
        "\u001b[0;32m<ipython-input-122-9dcf20fa483b>\u001b[0m in \u001b[0;36m<module>\u001b[0;34m()\u001b[0m\n\u001b[1;32m      6\u001b[0m     \u001b[0;32mprint\u001b[0m \u001b[0mlen\u001b[0m\u001b[0;34m(\u001b[0m\u001b[0mtmp\u001b[0m\u001b[0;34m.\u001b[0m\u001b[0mcluster_centers_\u001b[0m\u001b[0;34m)\u001b[0m\u001b[0;34m\u001b[0m\u001b[0m\n\u001b[1;32m      7\u001b[0m \u001b[0;32mexcept\u001b[0m \u001b[0mException\u001b[0m \u001b[0;34m:\u001b[0m\u001b[0;34m\u001b[0m\u001b[0m\n\u001b[0;32m----> 8\u001b[0;31m     \u001b[0;32mraise\u001b[0m \u001b[0mException\u001b[0m\u001b[0;34m,\u001b[0m \u001b[0;34m\"la\"\u001b[0m\u001b[0;34m\u001b[0m\u001b[0m\n\u001b[0m",
        "\u001b[0;31mException\u001b[0m: la"
       ]
      },
      {
       "output_type": "stream",
       "stream": "stdout",
       "text": [
        "256\n"
       ]
      }
     ],
     "prompt_number": 122
    },
    {
     "cell_type": "code",
     "collapsed": false,
     "input": [
      "## compute frame features for all frames\n",
      "frameFeatures = []\n",
      "downsampleFactor = 1.0\n",
      "for i in xrange(0, len(frames)) :\n",
      "    frameFeatures.append(getFrameFeatures(frames[i], frameFeatTypes, downsampleFactor=downsampleFactor, matteLocation=mattes[i]))\n",
      "    print i, "
     ],
     "language": "python",
     "metadata": {},
     "outputs": [
      {
       "output_type": "stream",
       "stream": "stdout",
       "text": [
        "0 "
       ]
      },
      {
       "output_type": "stream",
       "stream": "stdout",
       "text": [
        "1 "
       ]
      },
      {
       "output_type": "stream",
       "stream": "stdout",
       "text": [
        "2 "
       ]
      },
      {
       "output_type": "stream",
       "stream": "stdout",
       "text": [
        "3 "
       ]
      },
      {
       "output_type": "stream",
       "stream": "stdout",
       "text": [
        "4 "
       ]
      },
      {
       "output_type": "stream",
       "stream": "stdout",
       "text": [
        "5 "
       ]
      },
      {
       "output_type": "stream",
       "stream": "stdout",
       "text": [
        "6 "
       ]
      },
      {
       "output_type": "stream",
       "stream": "stdout",
       "text": [
        "7 "
       ]
      },
      {
       "output_type": "stream",
       "stream": "stdout",
       "text": [
        "8 "
       ]
      },
      {
       "output_type": "stream",
       "stream": "stdout",
       "text": [
        "9 "
       ]
      },
      {
       "output_type": "stream",
       "stream": "stdout",
       "text": [
        "10 "
       ]
      },
      {
       "output_type": "stream",
       "stream": "stdout",
       "text": [
        "11 "
       ]
      },
      {
       "output_type": "stream",
       "stream": "stdout",
       "text": [
        "12 "
       ]
      },
      {
       "output_type": "stream",
       "stream": "stdout",
       "text": [
        "13 "
       ]
      },
      {
       "output_type": "stream",
       "stream": "stdout",
       "text": [
        "14 "
       ]
      },
      {
       "output_type": "stream",
       "stream": "stdout",
       "text": [
        "15 "
       ]
      },
      {
       "output_type": "stream",
       "stream": "stdout",
       "text": [
        "16 "
       ]
      },
      {
       "output_type": "stream",
       "stream": "stdout",
       "text": [
        "17 "
       ]
      },
      {
       "output_type": "stream",
       "stream": "stdout",
       "text": [
        "18 "
       ]
      },
      {
       "output_type": "stream",
       "stream": "stdout",
       "text": [
        "19 "
       ]
      },
      {
       "output_type": "stream",
       "stream": "stdout",
       "text": [
        "20 "
       ]
      },
      {
       "output_type": "stream",
       "stream": "stdout",
       "text": [
        "21 "
       ]
      },
      {
       "output_type": "stream",
       "stream": "stdout",
       "text": [
        "22 "
       ]
      },
      {
       "output_type": "stream",
       "stream": "stdout",
       "text": [
        "23 "
       ]
      },
      {
       "output_type": "stream",
       "stream": "stdout",
       "text": [
        "24 "
       ]
      },
      {
       "output_type": "stream",
       "stream": "stdout",
       "text": [
        "25 "
       ]
      },
      {
       "output_type": "stream",
       "stream": "stdout",
       "text": [
        "26 "
       ]
      },
      {
       "output_type": "stream",
       "stream": "stdout",
       "text": [
        "27 "
       ]
      },
      {
       "output_type": "stream",
       "stream": "stdout",
       "text": [
        "28 "
       ]
      },
      {
       "output_type": "stream",
       "stream": "stdout",
       "text": [
        "29 "
       ]
      },
      {
       "output_type": "stream",
       "stream": "stdout",
       "text": [
        "30 "
       ]
      },
      {
       "output_type": "stream",
       "stream": "stdout",
       "text": [
        "31 "
       ]
      },
      {
       "output_type": "stream",
       "stream": "stdout",
       "text": [
        "32 "
       ]
      },
      {
       "output_type": "stream",
       "stream": "stdout",
       "text": [
        "33 "
       ]
      },
      {
       "output_type": "stream",
       "stream": "stdout",
       "text": [
        "34 "
       ]
      },
      {
       "output_type": "stream",
       "stream": "stdout",
       "text": [
        "35 "
       ]
      },
      {
       "output_type": "stream",
       "stream": "stdout",
       "text": [
        "36 "
       ]
      },
      {
       "output_type": "stream",
       "stream": "stdout",
       "text": [
        "37 "
       ]
      },
      {
       "output_type": "stream",
       "stream": "stdout",
       "text": [
        "38 "
       ]
      },
      {
       "output_type": "stream",
       "stream": "stdout",
       "text": [
        "39 "
       ]
      },
      {
       "output_type": "stream",
       "stream": "stdout",
       "text": [
        "40 "
       ]
      },
      {
       "output_type": "stream",
       "stream": "stdout",
       "text": [
        "41 "
       ]
      },
      {
       "output_type": "stream",
       "stream": "stdout",
       "text": [
        "42 "
       ]
      },
      {
       "output_type": "stream",
       "stream": "stdout",
       "text": [
        "43 "
       ]
      },
      {
       "output_type": "stream",
       "stream": "stdout",
       "text": [
        "44 "
       ]
      },
      {
       "output_type": "stream",
       "stream": "stdout",
       "text": [
        "45 "
       ]
      },
      {
       "output_type": "stream",
       "stream": "stdout",
       "text": [
        "46 "
       ]
      },
      {
       "output_type": "stream",
       "stream": "stdout",
       "text": [
        "47 "
       ]
      },
      {
       "output_type": "stream",
       "stream": "stdout",
       "text": [
        "48 "
       ]
      },
      {
       "output_type": "stream",
       "stream": "stdout",
       "text": [
        "49 "
       ]
      },
      {
       "output_type": "stream",
       "stream": "stdout",
       "text": [
        "50 "
       ]
      },
      {
       "output_type": "stream",
       "stream": "stdout",
       "text": [
        "51 "
       ]
      },
      {
       "output_type": "stream",
       "stream": "stdout",
       "text": [
        "52 "
       ]
      },
      {
       "output_type": "stream",
       "stream": "stdout",
       "text": [
        "53 "
       ]
      },
      {
       "output_type": "stream",
       "stream": "stdout",
       "text": [
        "54 "
       ]
      },
      {
       "output_type": "stream",
       "stream": "stdout",
       "text": [
        "55 "
       ]
      },
      {
       "output_type": "stream",
       "stream": "stdout",
       "text": [
        "56 "
       ]
      },
      {
       "output_type": "stream",
       "stream": "stdout",
       "text": [
        "57 "
       ]
      },
      {
       "output_type": "stream",
       "stream": "stdout",
       "text": [
        "58 "
       ]
      },
      {
       "output_type": "stream",
       "stream": "stdout",
       "text": [
        "59 "
       ]
      },
      {
       "output_type": "stream",
       "stream": "stdout",
       "text": [
        "60 "
       ]
      },
      {
       "output_type": "stream",
       "stream": "stdout",
       "text": [
        "61 "
       ]
      },
      {
       "output_type": "stream",
       "stream": "stdout",
       "text": [
        "62 "
       ]
      },
      {
       "output_type": "stream",
       "stream": "stdout",
       "text": [
        "63 "
       ]
      },
      {
       "output_type": "stream",
       "stream": "stdout",
       "text": [
        "64 "
       ]
      },
      {
       "output_type": "stream",
       "stream": "stdout",
       "text": [
        "65 "
       ]
      },
      {
       "output_type": "stream",
       "stream": "stdout",
       "text": [
        "66 "
       ]
      },
      {
       "output_type": "stream",
       "stream": "stdout",
       "text": [
        "67 "
       ]
      },
      {
       "output_type": "stream",
       "stream": "stdout",
       "text": [
        "68 "
       ]
      },
      {
       "output_type": "stream",
       "stream": "stdout",
       "text": [
        "69 "
       ]
      },
      {
       "output_type": "stream",
       "stream": "stdout",
       "text": [
        "70 "
       ]
      },
      {
       "output_type": "stream",
       "stream": "stdout",
       "text": [
        "71 "
       ]
      },
      {
       "output_type": "stream",
       "stream": "stdout",
       "text": [
        "72 "
       ]
      },
      {
       "output_type": "stream",
       "stream": "stdout",
       "text": [
        "73 "
       ]
      },
      {
       "output_type": "stream",
       "stream": "stdout",
       "text": [
        "74 "
       ]
      },
      {
       "output_type": "stream",
       "stream": "stdout",
       "text": [
        "75 "
       ]
      },
      {
       "output_type": "stream",
       "stream": "stdout",
       "text": [
        "76 "
       ]
      },
      {
       "output_type": "stream",
       "stream": "stdout",
       "text": [
        "77 "
       ]
      },
      {
       "output_type": "stream",
       "stream": "stdout",
       "text": [
        "78 "
       ]
      },
      {
       "output_type": "stream",
       "stream": "stdout",
       "text": [
        "79 "
       ]
      },
      {
       "output_type": "stream",
       "stream": "stdout",
       "text": [
        "80 "
       ]
      },
      {
       "output_type": "stream",
       "stream": "stdout",
       "text": [
        "81 "
       ]
      },
      {
       "output_type": "stream",
       "stream": "stdout",
       "text": [
        "82 "
       ]
      },
      {
       "output_type": "stream",
       "stream": "stdout",
       "text": [
        "83 "
       ]
      },
      {
       "output_type": "stream",
       "stream": "stdout",
       "text": [
        "84 "
       ]
      },
      {
       "output_type": "stream",
       "stream": "stdout",
       "text": [
        "85 "
       ]
      },
      {
       "output_type": "stream",
       "stream": "stdout",
       "text": [
        "86 "
       ]
      },
      {
       "output_type": "stream",
       "stream": "stdout",
       "text": [
        "87 "
       ]
      },
      {
       "output_type": "stream",
       "stream": "stdout",
       "text": [
        "88 "
       ]
      },
      {
       "output_type": "stream",
       "stream": "stdout",
       "text": [
        "89 "
       ]
      },
      {
       "output_type": "stream",
       "stream": "stdout",
       "text": [
        "90 "
       ]
      },
      {
       "output_type": "stream",
       "stream": "stdout",
       "text": [
        "91 "
       ]
      },
      {
       "output_type": "stream",
       "stream": "stdout",
       "text": [
        "92 "
       ]
      },
      {
       "output_type": "stream",
       "stream": "stdout",
       "text": [
        "93 "
       ]
      },
      {
       "output_type": "stream",
       "stream": "stdout",
       "text": [
        "94 "
       ]
      },
      {
       "output_type": "stream",
       "stream": "stdout",
       "text": [
        "95 "
       ]
      },
      {
       "output_type": "stream",
       "stream": "stdout",
       "text": [
        "96 "
       ]
      },
      {
       "output_type": "stream",
       "stream": "stdout",
       "text": [
        "97 "
       ]
      },
      {
       "output_type": "stream",
       "stream": "stdout",
       "text": [
        "98 "
       ]
      },
      {
       "output_type": "stream",
       "stream": "stdout",
       "text": [
        "99 "
       ]
      },
      {
       "output_type": "stream",
       "stream": "stdout",
       "text": [
        "100 "
       ]
      },
      {
       "output_type": "stream",
       "stream": "stdout",
       "text": [
        "101 "
       ]
      },
      {
       "output_type": "stream",
       "stream": "stdout",
       "text": [
        "102 "
       ]
      },
      {
       "output_type": "stream",
       "stream": "stdout",
       "text": [
        "103 "
       ]
      },
      {
       "output_type": "stream",
       "stream": "stdout",
       "text": [
        "104 "
       ]
      },
      {
       "output_type": "stream",
       "stream": "stdout",
       "text": [
        "105 "
       ]
      },
      {
       "output_type": "stream",
       "stream": "stdout",
       "text": [
        "106 "
       ]
      },
      {
       "output_type": "stream",
       "stream": "stdout",
       "text": [
        "107 "
       ]
      },
      {
       "output_type": "stream",
       "stream": "stdout",
       "text": [
        "108 "
       ]
      },
      {
       "output_type": "stream",
       "stream": "stdout",
       "text": [
        "109 "
       ]
      },
      {
       "output_type": "stream",
       "stream": "stdout",
       "text": [
        "110 "
       ]
      },
      {
       "output_type": "stream",
       "stream": "stdout",
       "text": [
        "111 "
       ]
      },
      {
       "output_type": "stream",
       "stream": "stdout",
       "text": [
        "112 "
       ]
      },
      {
       "output_type": "stream",
       "stream": "stdout",
       "text": [
        "113 "
       ]
      },
      {
       "output_type": "stream",
       "stream": "stdout",
       "text": [
        "114 "
       ]
      },
      {
       "output_type": "stream",
       "stream": "stdout",
       "text": [
        "115 "
       ]
      },
      {
       "output_type": "stream",
       "stream": "stdout",
       "text": [
        "116 "
       ]
      },
      {
       "output_type": "stream",
       "stream": "stdout",
       "text": [
        "117 "
       ]
      },
      {
       "output_type": "stream",
       "stream": "stdout",
       "text": [
        "118 "
       ]
      },
      {
       "output_type": "stream",
       "stream": "stdout",
       "text": [
        "119 "
       ]
      },
      {
       "output_type": "stream",
       "stream": "stdout",
       "text": [
        "120 "
       ]
      },
      {
       "output_type": "stream",
       "stream": "stdout",
       "text": [
        "121 "
       ]
      },
      {
       "output_type": "stream",
       "stream": "stdout",
       "text": [
        "122 "
       ]
      },
      {
       "output_type": "stream",
       "stream": "stdout",
       "text": [
        "123 "
       ]
      },
      {
       "output_type": "stream",
       "stream": "stdout",
       "text": [
        "124 "
       ]
      },
      {
       "output_type": "stream",
       "stream": "stdout",
       "text": [
        "125 "
       ]
      },
      {
       "output_type": "stream",
       "stream": "stdout",
       "text": [
        "126 "
       ]
      },
      {
       "output_type": "stream",
       "stream": "stdout",
       "text": [
        "127 "
       ]
      },
      {
       "output_type": "stream",
       "stream": "stdout",
       "text": [
        "128 "
       ]
      },
      {
       "output_type": "stream",
       "stream": "stdout",
       "text": [
        "129 "
       ]
      },
      {
       "output_type": "stream",
       "stream": "stdout",
       "text": [
        "130 "
       ]
      },
      {
       "output_type": "stream",
       "stream": "stdout",
       "text": [
        "131 "
       ]
      },
      {
       "output_type": "stream",
       "stream": "stdout",
       "text": [
        "132 "
       ]
      },
      {
       "output_type": "stream",
       "stream": "stdout",
       "text": [
        "133 "
       ]
      },
      {
       "output_type": "stream",
       "stream": "stdout",
       "text": [
        "134 "
       ]
      },
      {
       "output_type": "stream",
       "stream": "stdout",
       "text": [
        "135 "
       ]
      },
      {
       "output_type": "stream",
       "stream": "stdout",
       "text": [
        "136 "
       ]
      },
      {
       "output_type": "stream",
       "stream": "stdout",
       "text": [
        "137 "
       ]
      },
      {
       "output_type": "stream",
       "stream": "stdout",
       "text": [
        "138 "
       ]
      },
      {
       "output_type": "stream",
       "stream": "stdout",
       "text": [
        "139 "
       ]
      },
      {
       "output_type": "stream",
       "stream": "stdout",
       "text": [
        "140 "
       ]
      },
      {
       "output_type": "stream",
       "stream": "stdout",
       "text": [
        "141 "
       ]
      },
      {
       "output_type": "stream",
       "stream": "stdout",
       "text": [
        "142 "
       ]
      },
      {
       "output_type": "stream",
       "stream": "stdout",
       "text": [
        "143 "
       ]
      },
      {
       "output_type": "stream",
       "stream": "stdout",
       "text": [
        "144 "
       ]
      },
      {
       "output_type": "stream",
       "stream": "stdout",
       "text": [
        "145 "
       ]
      },
      {
       "output_type": "stream",
       "stream": "stdout",
       "text": [
        "146 "
       ]
      },
      {
       "output_type": "stream",
       "stream": "stdout",
       "text": [
        "147 "
       ]
      },
      {
       "output_type": "stream",
       "stream": "stdout",
       "text": [
        "148 "
       ]
      },
      {
       "output_type": "stream",
       "stream": "stdout",
       "text": [
        "149 "
       ]
      },
      {
       "output_type": "stream",
       "stream": "stdout",
       "text": [
        "150 "
       ]
      },
      {
       "output_type": "stream",
       "stream": "stdout",
       "text": [
        "151 "
       ]
      },
      {
       "output_type": "stream",
       "stream": "stdout",
       "text": [
        "152 "
       ]
      },
      {
       "output_type": "stream",
       "stream": "stdout",
       "text": [
        "153 "
       ]
      },
      {
       "output_type": "stream",
       "stream": "stdout",
       "text": [
        "154 "
       ]
      },
      {
       "output_type": "stream",
       "stream": "stdout",
       "text": [
        "155 "
       ]
      },
      {
       "output_type": "stream",
       "stream": "stdout",
       "text": [
        "156 "
       ]
      },
      {
       "output_type": "stream",
       "stream": "stdout",
       "text": [
        "157 "
       ]
      },
      {
       "output_type": "stream",
       "stream": "stdout",
       "text": [
        "158 "
       ]
      },
      {
       "output_type": "stream",
       "stream": "stdout",
       "text": [
        "159 "
       ]
      },
      {
       "output_type": "stream",
       "stream": "stdout",
       "text": [
        "160 "
       ]
      },
      {
       "output_type": "stream",
       "stream": "stdout",
       "text": [
        "161 "
       ]
      },
      {
       "output_type": "stream",
       "stream": "stdout",
       "text": [
        "162 "
       ]
      },
      {
       "output_type": "stream",
       "stream": "stdout",
       "text": [
        "163 "
       ]
      },
      {
       "output_type": "stream",
       "stream": "stdout",
       "text": [
        "164 "
       ]
      },
      {
       "output_type": "stream",
       "stream": "stdout",
       "text": [
        "165 "
       ]
      },
      {
       "output_type": "stream",
       "stream": "stdout",
       "text": [
        "166 "
       ]
      },
      {
       "output_type": "stream",
       "stream": "stdout",
       "text": [
        "167 "
       ]
      },
      {
       "output_type": "stream",
       "stream": "stdout",
       "text": [
        "168 "
       ]
      },
      {
       "output_type": "stream",
       "stream": "stdout",
       "text": [
        "169 "
       ]
      },
      {
       "output_type": "stream",
       "stream": "stdout",
       "text": [
        "170 "
       ]
      },
      {
       "output_type": "stream",
       "stream": "stdout",
       "text": [
        "171 "
       ]
      },
      {
       "output_type": "stream",
       "stream": "stdout",
       "text": [
        "172 "
       ]
      },
      {
       "output_type": "stream",
       "stream": "stdout",
       "text": [
        "173 "
       ]
      },
      {
       "output_type": "stream",
       "stream": "stdout",
       "text": [
        "174 "
       ]
      },
      {
       "output_type": "stream",
       "stream": "stdout",
       "text": [
        "175 "
       ]
      },
      {
       "output_type": "stream",
       "stream": "stdout",
       "text": [
        "176 "
       ]
      },
      {
       "output_type": "stream",
       "stream": "stdout",
       "text": [
        "177 "
       ]
      },
      {
       "output_type": "stream",
       "stream": "stdout",
       "text": [
        "178 "
       ]
      },
      {
       "output_type": "stream",
       "stream": "stdout",
       "text": [
        "179 "
       ]
      },
      {
       "output_type": "stream",
       "stream": "stdout",
       "text": [
        "180 "
       ]
      },
      {
       "output_type": "stream",
       "stream": "stdout",
       "text": [
        "181 "
       ]
      },
      {
       "output_type": "stream",
       "stream": "stdout",
       "text": [
        "182 "
       ]
      },
      {
       "output_type": "stream",
       "stream": "stdout",
       "text": [
        "183 "
       ]
      },
      {
       "output_type": "stream",
       "stream": "stdout",
       "text": [
        "184 "
       ]
      },
      {
       "output_type": "stream",
       "stream": "stdout",
       "text": [
        "185 "
       ]
      },
      {
       "output_type": "stream",
       "stream": "stdout",
       "text": [
        "186 "
       ]
      },
      {
       "output_type": "stream",
       "stream": "stdout",
       "text": [
        "187 "
       ]
      },
      {
       "output_type": "stream",
       "stream": "stdout",
       "text": [
        "188 "
       ]
      },
      {
       "output_type": "stream",
       "stream": "stdout",
       "text": [
        "189 "
       ]
      },
      {
       "output_type": "stream",
       "stream": "stdout",
       "text": [
        "190 "
       ]
      },
      {
       "output_type": "stream",
       "stream": "stdout",
       "text": [
        "191 "
       ]
      },
      {
       "output_type": "stream",
       "stream": "stdout",
       "text": [
        "192 "
       ]
      },
      {
       "output_type": "stream",
       "stream": "stdout",
       "text": [
        "193 "
       ]
      },
      {
       "output_type": "stream",
       "stream": "stdout",
       "text": [
        "194 "
       ]
      },
      {
       "output_type": "stream",
       "stream": "stdout",
       "text": [
        "195 "
       ]
      },
      {
       "output_type": "stream",
       "stream": "stdout",
       "text": [
        "196 "
       ]
      },
      {
       "output_type": "stream",
       "stream": "stdout",
       "text": [
        "197 "
       ]
      },
      {
       "output_type": "stream",
       "stream": "stdout",
       "text": [
        "198 "
       ]
      },
      {
       "output_type": "stream",
       "stream": "stdout",
       "text": [
        "199 "
       ]
      },
      {
       "output_type": "stream",
       "stream": "stdout",
       "text": [
        "200 "
       ]
      },
      {
       "output_type": "stream",
       "stream": "stdout",
       "text": [
        "201 "
       ]
      },
      {
       "output_type": "stream",
       "stream": "stdout",
       "text": [
        "202 "
       ]
      },
      {
       "output_type": "stream",
       "stream": "stdout",
       "text": [
        "203 "
       ]
      },
      {
       "output_type": "stream",
       "stream": "stdout",
       "text": [
        "204 "
       ]
      },
      {
       "output_type": "stream",
       "stream": "stdout",
       "text": [
        "205 "
       ]
      },
      {
       "output_type": "stream",
       "stream": "stdout",
       "text": [
        "206 "
       ]
      },
      {
       "output_type": "stream",
       "stream": "stdout",
       "text": [
        "207 "
       ]
      },
      {
       "output_type": "stream",
       "stream": "stdout",
       "text": [
        "208 "
       ]
      },
      {
       "output_type": "stream",
       "stream": "stdout",
       "text": [
        "209 "
       ]
      },
      {
       "output_type": "stream",
       "stream": "stdout",
       "text": [
        "210 "
       ]
      },
      {
       "output_type": "stream",
       "stream": "stdout",
       "text": [
        "211 "
       ]
      },
      {
       "output_type": "stream",
       "stream": "stdout",
       "text": [
        "212 "
       ]
      },
      {
       "output_type": "stream",
       "stream": "stdout",
       "text": [
        "213 "
       ]
      },
      {
       "output_type": "stream",
       "stream": "stdout",
       "text": [
        "214 "
       ]
      },
      {
       "output_type": "stream",
       "stream": "stdout",
       "text": [
        "215 "
       ]
      },
      {
       "output_type": "stream",
       "stream": "stdout",
       "text": [
        "216 "
       ]
      },
      {
       "output_type": "stream",
       "stream": "stdout",
       "text": [
        "217 "
       ]
      },
      {
       "output_type": "stream",
       "stream": "stdout",
       "text": [
        "218 "
       ]
      },
      {
       "output_type": "stream",
       "stream": "stdout",
       "text": [
        "219 "
       ]
      },
      {
       "output_type": "stream",
       "stream": "stdout",
       "text": [
        "220 "
       ]
      },
      {
       "output_type": "stream",
       "stream": "stdout",
       "text": [
        "221 "
       ]
      },
      {
       "output_type": "stream",
       "stream": "stdout",
       "text": [
        "222 "
       ]
      },
      {
       "output_type": "stream",
       "stream": "stdout",
       "text": [
        "223 "
       ]
      },
      {
       "output_type": "stream",
       "stream": "stdout",
       "text": [
        "224 "
       ]
      },
      {
       "output_type": "stream",
       "stream": "stdout",
       "text": [
        "225 "
       ]
      },
      {
       "output_type": "stream",
       "stream": "stdout",
       "text": [
        "226 "
       ]
      },
      {
       "output_type": "stream",
       "stream": "stdout",
       "text": [
        "227 "
       ]
      },
      {
       "output_type": "stream",
       "stream": "stdout",
       "text": [
        "228 "
       ]
      },
      {
       "output_type": "stream",
       "stream": "stdout",
       "text": [
        "229 "
       ]
      },
      {
       "output_type": "stream",
       "stream": "stdout",
       "text": [
        "230 "
       ]
      },
      {
       "output_type": "stream",
       "stream": "stdout",
       "text": [
        "231 "
       ]
      },
      {
       "output_type": "stream",
       "stream": "stdout",
       "text": [
        "232 "
       ]
      },
      {
       "output_type": "stream",
       "stream": "stdout",
       "text": [
        "233 "
       ]
      },
      {
       "output_type": "stream",
       "stream": "stdout",
       "text": [
        "234 "
       ]
      },
      {
       "output_type": "stream",
       "stream": "stdout",
       "text": [
        "235 "
       ]
      },
      {
       "output_type": "stream",
       "stream": "stdout",
       "text": [
        "236 "
       ]
      },
      {
       "output_type": "stream",
       "stream": "stdout",
       "text": [
        "237 "
       ]
      },
      {
       "output_type": "stream",
       "stream": "stdout",
       "text": [
        "238 "
       ]
      },
      {
       "output_type": "stream",
       "stream": "stdout",
       "text": [
        "239 "
       ]
      },
      {
       "output_type": "stream",
       "stream": "stdout",
       "text": [
        "240 "
       ]
      },
      {
       "output_type": "stream",
       "stream": "stdout",
       "text": [
        "241 "
       ]
      },
      {
       "output_type": "stream",
       "stream": "stdout",
       "text": [
        "242 "
       ]
      },
      {
       "output_type": "stream",
       "stream": "stdout",
       "text": [
        "243 "
       ]
      },
      {
       "output_type": "stream",
       "stream": "stdout",
       "text": [
        "244 "
       ]
      },
      {
       "output_type": "stream",
       "stream": "stdout",
       "text": [
        "245 "
       ]
      },
      {
       "output_type": "stream",
       "stream": "stdout",
       "text": [
        "246 "
       ]
      },
      {
       "output_type": "stream",
       "stream": "stdout",
       "text": [
        "247 "
       ]
      },
      {
       "output_type": "stream",
       "stream": "stdout",
       "text": [
        "248 "
       ]
      },
      {
       "output_type": "stream",
       "stream": "stdout",
       "text": [
        "249 "
       ]
      },
      {
       "output_type": "stream",
       "stream": "stdout",
       "text": [
        "250 "
       ]
      },
      {
       "output_type": "stream",
       "stream": "stdout",
       "text": [
        "251 "
       ]
      },
      {
       "output_type": "stream",
       "stream": "stdout",
       "text": [
        "252 "
       ]
      },
      {
       "output_type": "stream",
       "stream": "stdout",
       "text": [
        "253 "
       ]
      },
      {
       "output_type": "stream",
       "stream": "stdout",
       "text": [
        "254 "
       ]
      },
      {
       "output_type": "stream",
       "stream": "stdout",
       "text": [
        "255 "
       ]
      },
      {
       "output_type": "stream",
       "stream": "stdout",
       "text": [
        "256 "
       ]
      },
      {
       "output_type": "stream",
       "stream": "stdout",
       "text": [
        "257 "
       ]
      },
      {
       "output_type": "stream",
       "stream": "stdout",
       "text": [
        "258 "
       ]
      },
      {
       "output_type": "stream",
       "stream": "stdout",
       "text": [
        "259 "
       ]
      },
      {
       "output_type": "stream",
       "stream": "stdout",
       "text": [
        "260 "
       ]
      },
      {
       "output_type": "stream",
       "stream": "stdout",
       "text": [
        "261 "
       ]
      },
      {
       "output_type": "stream",
       "stream": "stdout",
       "text": [
        "262 "
       ]
      },
      {
       "output_type": "stream",
       "stream": "stdout",
       "text": [
        "263 "
       ]
      },
      {
       "output_type": "stream",
       "stream": "stdout",
       "text": [
        "264 "
       ]
      },
      {
       "output_type": "stream",
       "stream": "stdout",
       "text": [
        "265 "
       ]
      },
      {
       "output_type": "stream",
       "stream": "stdout",
       "text": [
        "266 "
       ]
      },
      {
       "output_type": "stream",
       "stream": "stdout",
       "text": [
        "267 "
       ]
      },
      {
       "output_type": "stream",
       "stream": "stdout",
       "text": [
        "268 "
       ]
      },
      {
       "output_type": "stream",
       "stream": "stdout",
       "text": [
        "269 "
       ]
      },
      {
       "output_type": "stream",
       "stream": "stdout",
       "text": [
        "270 "
       ]
      },
      {
       "output_type": "stream",
       "stream": "stdout",
       "text": [
        "271 "
       ]
      },
      {
       "output_type": "stream",
       "stream": "stdout",
       "text": [
        "272 "
       ]
      },
      {
       "output_type": "stream",
       "stream": "stdout",
       "text": [
        "273 "
       ]
      },
      {
       "output_type": "stream",
       "stream": "stdout",
       "text": [
        "274 "
       ]
      },
      {
       "output_type": "stream",
       "stream": "stdout",
       "text": [
        "275 "
       ]
      },
      {
       "output_type": "stream",
       "stream": "stdout",
       "text": [
        "276 "
       ]
      },
      {
       "output_type": "stream",
       "stream": "stdout",
       "text": [
        "277 "
       ]
      },
      {
       "output_type": "stream",
       "stream": "stdout",
       "text": [
        "278 "
       ]
      },
      {
       "output_type": "stream",
       "stream": "stdout",
       "text": [
        "279 "
       ]
      },
      {
       "output_type": "stream",
       "stream": "stdout",
       "text": [
        "280 "
       ]
      },
      {
       "output_type": "stream",
       "stream": "stdout",
       "text": [
        "281 "
       ]
      },
      {
       "output_type": "stream",
       "stream": "stdout",
       "text": [
        "282 "
       ]
      },
      {
       "output_type": "stream",
       "stream": "stdout",
       "text": [
        "283 "
       ]
      },
      {
       "output_type": "stream",
       "stream": "stdout",
       "text": [
        "284 "
       ]
      },
      {
       "output_type": "stream",
       "stream": "stdout",
       "text": [
        "285 "
       ]
      },
      {
       "output_type": "stream",
       "stream": "stdout",
       "text": [
        "286 "
       ]
      },
      {
       "output_type": "stream",
       "stream": "stdout",
       "text": [
        "287 "
       ]
      },
      {
       "output_type": "stream",
       "stream": "stdout",
       "text": [
        "288 "
       ]
      },
      {
       "output_type": "stream",
       "stream": "stdout",
       "text": [
        "289 "
       ]
      },
      {
       "output_type": "stream",
       "stream": "stdout",
       "text": [
        "290 "
       ]
      },
      {
       "output_type": "stream",
       "stream": "stdout",
       "text": [
        "291 "
       ]
      },
      {
       "output_type": "stream",
       "stream": "stdout",
       "text": [
        "292 "
       ]
      },
      {
       "output_type": "stream",
       "stream": "stdout",
       "text": [
        "293 "
       ]
      },
      {
       "output_type": "stream",
       "stream": "stdout",
       "text": [
        "294 "
       ]
      },
      {
       "output_type": "stream",
       "stream": "stdout",
       "text": [
        "295 "
       ]
      },
      {
       "output_type": "stream",
       "stream": "stdout",
       "text": [
        "296 "
       ]
      },
      {
       "output_type": "stream",
       "stream": "stdout",
       "text": [
        "297 "
       ]
      },
      {
       "output_type": "stream",
       "stream": "stdout",
       "text": [
        "298 "
       ]
      },
      {
       "output_type": "stream",
       "stream": "stdout",
       "text": [
        "299 "
       ]
      },
      {
       "output_type": "stream",
       "stream": "stdout",
       "text": [
        "300 "
       ]
      },
      {
       "output_type": "stream",
       "stream": "stdout",
       "text": [
        "301 "
       ]
      },
      {
       "output_type": "stream",
       "stream": "stdout",
       "text": [
        "302 "
       ]
      },
      {
       "output_type": "stream",
       "stream": "stdout",
       "text": [
        "303 "
       ]
      },
      {
       "output_type": "stream",
       "stream": "stdout",
       "text": [
        "304 "
       ]
      },
      {
       "output_type": "stream",
       "stream": "stdout",
       "text": [
        "305 "
       ]
      },
      {
       "output_type": "stream",
       "stream": "stdout",
       "text": [
        "306 "
       ]
      },
      {
       "output_type": "stream",
       "stream": "stdout",
       "text": [
        "307 "
       ]
      },
      {
       "output_type": "stream",
       "stream": "stdout",
       "text": [
        "308 "
       ]
      },
      {
       "output_type": "stream",
       "stream": "stdout",
       "text": [
        "309 "
       ]
      },
      {
       "output_type": "stream",
       "stream": "stdout",
       "text": [
        "310 "
       ]
      },
      {
       "output_type": "stream",
       "stream": "stdout",
       "text": [
        "311 "
       ]
      },
      {
       "output_type": "stream",
       "stream": "stdout",
       "text": [
        "312 "
       ]
      },
      {
       "output_type": "stream",
       "stream": "stdout",
       "text": [
        "313 "
       ]
      },
      {
       "output_type": "stream",
       "stream": "stdout",
       "text": [
        "314 "
       ]
      },
      {
       "output_type": "stream",
       "stream": "stdout",
       "text": [
        "315 "
       ]
      },
      {
       "output_type": "stream",
       "stream": "stdout",
       "text": [
        "316 "
       ]
      },
      {
       "output_type": "stream",
       "stream": "stdout",
       "text": [
        "317 "
       ]
      },
      {
       "output_type": "stream",
       "stream": "stdout",
       "text": [
        "318 "
       ]
      },
      {
       "output_type": "stream",
       "stream": "stdout",
       "text": [
        "319 "
       ]
      },
      {
       "output_type": "stream",
       "stream": "stdout",
       "text": [
        "320 "
       ]
      },
      {
       "output_type": "stream",
       "stream": "stdout",
       "text": [
        "321 "
       ]
      },
      {
       "output_type": "stream",
       "stream": "stdout",
       "text": [
        "322 "
       ]
      },
      {
       "output_type": "stream",
       "stream": "stdout",
       "text": [
        "323 "
       ]
      },
      {
       "output_type": "stream",
       "stream": "stdout",
       "text": [
        "324 "
       ]
      },
      {
       "output_type": "stream",
       "stream": "stdout",
       "text": [
        "325 "
       ]
      },
      {
       "output_type": "stream",
       "stream": "stdout",
       "text": [
        "326 "
       ]
      },
      {
       "output_type": "stream",
       "stream": "stdout",
       "text": [
        "327 "
       ]
      },
      {
       "output_type": "stream",
       "stream": "stdout",
       "text": [
        "328 "
       ]
      },
      {
       "output_type": "stream",
       "stream": "stdout",
       "text": [
        "329 "
       ]
      },
      {
       "output_type": "stream",
       "stream": "stdout",
       "text": [
        "330 "
       ]
      },
      {
       "output_type": "stream",
       "stream": "stdout",
       "text": [
        "331 "
       ]
      },
      {
       "output_type": "stream",
       "stream": "stdout",
       "text": [
        "332 "
       ]
      },
      {
       "output_type": "stream",
       "stream": "stdout",
       "text": [
        "333 "
       ]
      },
      {
       "output_type": "stream",
       "stream": "stdout",
       "text": [
        "334 "
       ]
      },
      {
       "output_type": "stream",
       "stream": "stdout",
       "text": [
        "335 "
       ]
      },
      {
       "output_type": "stream",
       "stream": "stdout",
       "text": [
        "336 "
       ]
      },
      {
       "output_type": "stream",
       "stream": "stdout",
       "text": [
        "337 "
       ]
      },
      {
       "output_type": "stream",
       "stream": "stdout",
       "text": [
        "338 "
       ]
      },
      {
       "output_type": "stream",
       "stream": "stdout",
       "text": [
        "339 "
       ]
      },
      {
       "output_type": "stream",
       "stream": "stdout",
       "text": [
        "340 "
       ]
      },
      {
       "output_type": "stream",
       "stream": "stdout",
       "text": [
        "341 "
       ]
      },
      {
       "output_type": "stream",
       "stream": "stdout",
       "text": [
        "342 "
       ]
      },
      {
       "output_type": "stream",
       "stream": "stdout",
       "text": [
        "343 "
       ]
      },
      {
       "output_type": "stream",
       "stream": "stdout",
       "text": [
        "344 "
       ]
      },
      {
       "output_type": "stream",
       "stream": "stdout",
       "text": [
        "345 "
       ]
      },
      {
       "output_type": "stream",
       "stream": "stdout",
       "text": [
        "346 "
       ]
      },
      {
       "output_type": "stream",
       "stream": "stdout",
       "text": [
        "347 "
       ]
      },
      {
       "output_type": "stream",
       "stream": "stdout",
       "text": [
        "348 "
       ]
      },
      {
       "output_type": "stream",
       "stream": "stdout",
       "text": [
        "349 "
       ]
      },
      {
       "output_type": "stream",
       "stream": "stdout",
       "text": [
        "350 "
       ]
      },
      {
       "output_type": "stream",
       "stream": "stdout",
       "text": [
        "351 "
       ]
      },
      {
       "output_type": "stream",
       "stream": "stdout",
       "text": [
        "352 "
       ]
      },
      {
       "output_type": "stream",
       "stream": "stdout",
       "text": [
        "353 "
       ]
      },
      {
       "output_type": "stream",
       "stream": "stdout",
       "text": [
        "354 "
       ]
      },
      {
       "output_type": "stream",
       "stream": "stdout",
       "text": [
        "355 "
       ]
      },
      {
       "output_type": "stream",
       "stream": "stdout",
       "text": [
        "356 "
       ]
      },
      {
       "output_type": "stream",
       "stream": "stdout",
       "text": [
        "357 "
       ]
      },
      {
       "output_type": "stream",
       "stream": "stdout",
       "text": [
        "358 "
       ]
      },
      {
       "output_type": "stream",
       "stream": "stdout",
       "text": [
        "359 "
       ]
      },
      {
       "output_type": "stream",
       "stream": "stdout",
       "text": [
        "360 "
       ]
      },
      {
       "output_type": "stream",
       "stream": "stdout",
       "text": [
        "361 "
       ]
      },
      {
       "output_type": "stream",
       "stream": "stdout",
       "text": [
        "362 "
       ]
      },
      {
       "output_type": "stream",
       "stream": "stdout",
       "text": [
        "363 "
       ]
      },
      {
       "output_type": "stream",
       "stream": "stdout",
       "text": [
        "364 "
       ]
      },
      {
       "output_type": "stream",
       "stream": "stdout",
       "text": [
        "365 "
       ]
      },
      {
       "output_type": "stream",
       "stream": "stdout",
       "text": [
        "366 "
       ]
      },
      {
       "output_type": "stream",
       "stream": "stdout",
       "text": [
        "367 "
       ]
      },
      {
       "output_type": "stream",
       "stream": "stdout",
       "text": [
        "368 "
       ]
      },
      {
       "output_type": "stream",
       "stream": "stdout",
       "text": [
        "369 "
       ]
      },
      {
       "output_type": "stream",
       "stream": "stdout",
       "text": [
        "370 "
       ]
      },
      {
       "output_type": "stream",
       "stream": "stdout",
       "text": [
        "371 "
       ]
      },
      {
       "output_type": "stream",
       "stream": "stdout",
       "text": [
        "372 "
       ]
      },
      {
       "output_type": "stream",
       "stream": "stdout",
       "text": [
        "373 "
       ]
      },
      {
       "output_type": "stream",
       "stream": "stdout",
       "text": [
        "374 "
       ]
      },
      {
       "output_type": "stream",
       "stream": "stdout",
       "text": [
        "375 "
       ]
      },
      {
       "output_type": "stream",
       "stream": "stdout",
       "text": [
        "376 "
       ]
      },
      {
       "output_type": "stream",
       "stream": "stdout",
       "text": [
        "377 "
       ]
      },
      {
       "output_type": "stream",
       "stream": "stdout",
       "text": [
        "378 "
       ]
      },
      {
       "output_type": "stream",
       "stream": "stdout",
       "text": [
        "379 "
       ]
      },
      {
       "output_type": "stream",
       "stream": "stdout",
       "text": [
        "380 "
       ]
      },
      {
       "output_type": "stream",
       "stream": "stdout",
       "text": [
        "381 "
       ]
      },
      {
       "output_type": "stream",
       "stream": "stdout",
       "text": [
        "382 "
       ]
      },
      {
       "output_type": "stream",
       "stream": "stdout",
       "text": [
        "383 "
       ]
      },
      {
       "output_type": "stream",
       "stream": "stdout",
       "text": [
        "384 "
       ]
      },
      {
       "output_type": "stream",
       "stream": "stdout",
       "text": [
        "385 "
       ]
      },
      {
       "output_type": "stream",
       "stream": "stdout",
       "text": [
        "386 "
       ]
      },
      {
       "output_type": "stream",
       "stream": "stdout",
       "text": [
        "387 "
       ]
      },
      {
       "output_type": "stream",
       "stream": "stdout",
       "text": [
        "388 "
       ]
      },
      {
       "output_type": "stream",
       "stream": "stdout",
       "text": [
        "389 "
       ]
      },
      {
       "output_type": "stream",
       "stream": "stdout",
       "text": [
        "390 "
       ]
      },
      {
       "output_type": "stream",
       "stream": "stdout",
       "text": [
        "391 "
       ]
      },
      {
       "output_type": "stream",
       "stream": "stdout",
       "text": [
        "392 "
       ]
      },
      {
       "output_type": "stream",
       "stream": "stdout",
       "text": [
        "393 "
       ]
      },
      {
       "output_type": "stream",
       "stream": "stdout",
       "text": [
        "394 "
       ]
      },
      {
       "output_type": "stream",
       "stream": "stdout",
       "text": [
        "395 "
       ]
      },
      {
       "output_type": "stream",
       "stream": "stdout",
       "text": [
        "396 "
       ]
      },
      {
       "output_type": "stream",
       "stream": "stdout",
       "text": [
        "397 "
       ]
      },
      {
       "output_type": "stream",
       "stream": "stdout",
       "text": [
        "398 "
       ]
      },
      {
       "output_type": "stream",
       "stream": "stdout",
       "text": [
        "399 "
       ]
      },
      {
       "output_type": "stream",
       "stream": "stdout",
       "text": [
        "400 "
       ]
      },
      {
       "output_type": "stream",
       "stream": "stdout",
       "text": [
        "401 "
       ]
      },
      {
       "output_type": "stream",
       "stream": "stdout",
       "text": [
        "402 "
       ]
      },
      {
       "output_type": "stream",
       "stream": "stdout",
       "text": [
        "403 "
       ]
      },
      {
       "output_type": "stream",
       "stream": "stdout",
       "text": [
        "404 "
       ]
      },
      {
       "output_type": "stream",
       "stream": "stdout",
       "text": [
        "405 "
       ]
      },
      {
       "output_type": "stream",
       "stream": "stdout",
       "text": [
        "406 "
       ]
      },
      {
       "output_type": "stream",
       "stream": "stdout",
       "text": [
        "407 "
       ]
      },
      {
       "output_type": "stream",
       "stream": "stdout",
       "text": [
        "408 "
       ]
      },
      {
       "output_type": "stream",
       "stream": "stdout",
       "text": [
        "409 "
       ]
      },
      {
       "output_type": "stream",
       "stream": "stdout",
       "text": [
        "410 "
       ]
      },
      {
       "output_type": "stream",
       "stream": "stdout",
       "text": [
        "411 "
       ]
      },
      {
       "output_type": "stream",
       "stream": "stdout",
       "text": [
        "412 "
       ]
      },
      {
       "output_type": "stream",
       "stream": "stdout",
       "text": [
        "413 "
       ]
      },
      {
       "output_type": "stream",
       "stream": "stdout",
       "text": [
        "414 "
       ]
      },
      {
       "output_type": "stream",
       "stream": "stdout",
       "text": [
        "415 "
       ]
      },
      {
       "output_type": "stream",
       "stream": "stdout",
       "text": [
        "416 "
       ]
      },
      {
       "output_type": "stream",
       "stream": "stdout",
       "text": [
        "417 "
       ]
      },
      {
       "output_type": "stream",
       "stream": "stdout",
       "text": [
        "418 "
       ]
      },
      {
       "output_type": "stream",
       "stream": "stdout",
       "text": [
        "419 "
       ]
      },
      {
       "output_type": "stream",
       "stream": "stdout",
       "text": [
        "420 "
       ]
      },
      {
       "output_type": "stream",
       "stream": "stdout",
       "text": [
        "421 "
       ]
      },
      {
       "output_type": "stream",
       "stream": "stdout",
       "text": [
        "422 "
       ]
      },
      {
       "output_type": "stream",
       "stream": "stdout",
       "text": [
        "423 "
       ]
      },
      {
       "output_type": "stream",
       "stream": "stdout",
       "text": [
        "424 "
       ]
      },
      {
       "output_type": "stream",
       "stream": "stdout",
       "text": [
        "425 "
       ]
      },
      {
       "output_type": "stream",
       "stream": "stdout",
       "text": [
        "426 "
       ]
      },
      {
       "output_type": "stream",
       "stream": "stdout",
       "text": [
        "427 "
       ]
      },
      {
       "output_type": "stream",
       "stream": "stdout",
       "text": [
        "428 "
       ]
      },
      {
       "output_type": "stream",
       "stream": "stdout",
       "text": [
        "429 "
       ]
      },
      {
       "output_type": "stream",
       "stream": "stdout",
       "text": [
        "430 "
       ]
      },
      {
       "output_type": "stream",
       "stream": "stdout",
       "text": [
        "431 "
       ]
      },
      {
       "output_type": "stream",
       "stream": "stdout",
       "text": [
        "432 "
       ]
      },
      {
       "output_type": "stream",
       "stream": "stdout",
       "text": [
        "433 "
       ]
      },
      {
       "output_type": "stream",
       "stream": "stdout",
       "text": [
        "434 "
       ]
      },
      {
       "output_type": "stream",
       "stream": "stdout",
       "text": [
        "435 "
       ]
      },
      {
       "output_type": "stream",
       "stream": "stdout",
       "text": [
        "436 "
       ]
      },
      {
       "output_type": "stream",
       "stream": "stdout",
       "text": [
        "437 "
       ]
      },
      {
       "output_type": "stream",
       "stream": "stdout",
       "text": [
        "438 "
       ]
      },
      {
       "output_type": "stream",
       "stream": "stdout",
       "text": [
        "439 "
       ]
      },
      {
       "output_type": "stream",
       "stream": "stdout",
       "text": [
        "440 "
       ]
      },
      {
       "output_type": "stream",
       "stream": "stdout",
       "text": [
        "441 "
       ]
      },
      {
       "output_type": "stream",
       "stream": "stdout",
       "text": [
        "442 "
       ]
      },
      {
       "output_type": "stream",
       "stream": "stdout",
       "text": [
        "443 "
       ]
      },
      {
       "output_type": "stream",
       "stream": "stdout",
       "text": [
        "444 "
       ]
      },
      {
       "output_type": "stream",
       "stream": "stdout",
       "text": [
        "445 "
       ]
      },
      {
       "output_type": "stream",
       "stream": "stdout",
       "text": [
        "446 "
       ]
      },
      {
       "output_type": "stream",
       "stream": "stdout",
       "text": [
        "447 "
       ]
      },
      {
       "output_type": "stream",
       "stream": "stdout",
       "text": [
        "448 "
       ]
      },
      {
       "output_type": "stream",
       "stream": "stdout",
       "text": [
        "449 "
       ]
      },
      {
       "output_type": "stream",
       "stream": "stdout",
       "text": [
        "450 "
       ]
      },
      {
       "output_type": "stream",
       "stream": "stdout",
       "text": [
        "451 "
       ]
      },
      {
       "output_type": "stream",
       "stream": "stdout",
       "text": [
        "452 "
       ]
      },
      {
       "output_type": "stream",
       "stream": "stdout",
       "text": [
        "453 "
       ]
      },
      {
       "output_type": "stream",
       "stream": "stdout",
       "text": [
        "454 "
       ]
      },
      {
       "output_type": "stream",
       "stream": "stdout",
       "text": [
        "455 "
       ]
      },
      {
       "output_type": "stream",
       "stream": "stdout",
       "text": [
        "456 "
       ]
      },
      {
       "output_type": "stream",
       "stream": "stdout",
       "text": [
        "457 "
       ]
      },
      {
       "output_type": "stream",
       "stream": "stdout",
       "text": [
        "458 "
       ]
      },
      {
       "output_type": "stream",
       "stream": "stdout",
       "text": [
        "459 "
       ]
      },
      {
       "output_type": "stream",
       "stream": "stdout",
       "text": [
        "460 "
       ]
      },
      {
       "output_type": "stream",
       "stream": "stdout",
       "text": [
        "461 "
       ]
      },
      {
       "output_type": "stream",
       "stream": "stdout",
       "text": [
        "462 "
       ]
      },
      {
       "output_type": "stream",
       "stream": "stdout",
       "text": [
        "463 "
       ]
      },
      {
       "output_type": "stream",
       "stream": "stdout",
       "text": [
        "464 "
       ]
      },
      {
       "output_type": "stream",
       "stream": "stdout",
       "text": [
        "465 "
       ]
      },
      {
       "output_type": "stream",
       "stream": "stdout",
       "text": [
        "466 "
       ]
      },
      {
       "output_type": "stream",
       "stream": "stdout",
       "text": [
        "467 "
       ]
      },
      {
       "output_type": "stream",
       "stream": "stdout",
       "text": [
        "468 "
       ]
      },
      {
       "output_type": "stream",
       "stream": "stdout",
       "text": [
        "469 "
       ]
      },
      {
       "output_type": "stream",
       "stream": "stdout",
       "text": [
        "470 "
       ]
      },
      {
       "output_type": "stream",
       "stream": "stdout",
       "text": [
        "471 "
       ]
      },
      {
       "output_type": "stream",
       "stream": "stdout",
       "text": [
        "472 "
       ]
      },
      {
       "output_type": "stream",
       "stream": "stdout",
       "text": [
        "473 "
       ]
      },
      {
       "output_type": "stream",
       "stream": "stdout",
       "text": [
        "474 "
       ]
      },
      {
       "output_type": "stream",
       "stream": "stdout",
       "text": [
        "475 "
       ]
      },
      {
       "output_type": "stream",
       "stream": "stdout",
       "text": [
        "476 "
       ]
      },
      {
       "output_type": "stream",
       "stream": "stdout",
       "text": [
        "477 "
       ]
      },
      {
       "output_type": "stream",
       "stream": "stdout",
       "text": [
        "478 "
       ]
      },
      {
       "output_type": "stream",
       "stream": "stdout",
       "text": [
        "479 "
       ]
      },
      {
       "output_type": "stream",
       "stream": "stdout",
       "text": [
        "480 "
       ]
      },
      {
       "output_type": "stream",
       "stream": "stdout",
       "text": [
        "481 "
       ]
      },
      {
       "output_type": "stream",
       "stream": "stdout",
       "text": [
        "482 "
       ]
      },
      {
       "output_type": "stream",
       "stream": "stdout",
       "text": [
        "483 "
       ]
      },
      {
       "output_type": "stream",
       "stream": "stdout",
       "text": [
        "484 "
       ]
      },
      {
       "output_type": "stream",
       "stream": "stdout",
       "text": [
        "485 "
       ]
      },
      {
       "output_type": "stream",
       "stream": "stdout",
       "text": [
        "486 "
       ]
      },
      {
       "output_type": "stream",
       "stream": "stdout",
       "text": [
        "487 "
       ]
      },
      {
       "output_type": "stream",
       "stream": "stdout",
       "text": [
        "488 "
       ]
      },
      {
       "output_type": "stream",
       "stream": "stdout",
       "text": [
        "489 "
       ]
      },
      {
       "output_type": "stream",
       "stream": "stdout",
       "text": [
        "490 "
       ]
      },
      {
       "output_type": "stream",
       "stream": "stdout",
       "text": [
        "491 "
       ]
      },
      {
       "output_type": "stream",
       "stream": "stdout",
       "text": [
        "492 "
       ]
      },
      {
       "output_type": "stream",
       "stream": "stdout",
       "text": [
        "493 "
       ]
      },
      {
       "output_type": "stream",
       "stream": "stdout",
       "text": [
        "494 "
       ]
      },
      {
       "output_type": "stream",
       "stream": "stdout",
       "text": [
        "495 "
       ]
      },
      {
       "output_type": "stream",
       "stream": "stdout",
       "text": [
        "496 "
       ]
      },
      {
       "output_type": "stream",
       "stream": "stdout",
       "text": [
        "497 "
       ]
      },
      {
       "output_type": "stream",
       "stream": "stdout",
       "text": [
        "498 "
       ]
      },
      {
       "output_type": "stream",
       "stream": "stdout",
       "text": [
        "499 "
       ]
      },
      {
       "output_type": "stream",
       "stream": "stdout",
       "text": [
        "500 "
       ]
      },
      {
       "output_type": "stream",
       "stream": "stdout",
       "text": [
        "501 "
       ]
      },
      {
       "output_type": "stream",
       "stream": "stdout",
       "text": [
        "502 "
       ]
      },
      {
       "output_type": "stream",
       "stream": "stdout",
       "text": [
        "503 "
       ]
      },
      {
       "output_type": "stream",
       "stream": "stdout",
       "text": [
        "504 "
       ]
      },
      {
       "output_type": "stream",
       "stream": "stdout",
       "text": [
        "505 "
       ]
      },
      {
       "output_type": "stream",
       "stream": "stdout",
       "text": [
        "506 "
       ]
      },
      {
       "output_type": "stream",
       "stream": "stdout",
       "text": [
        "507 "
       ]
      },
      {
       "output_type": "stream",
       "stream": "stdout",
       "text": [
        "508 "
       ]
      },
      {
       "output_type": "stream",
       "stream": "stdout",
       "text": [
        "509 "
       ]
      },
      {
       "output_type": "stream",
       "stream": "stdout",
       "text": [
        "510 "
       ]
      },
      {
       "output_type": "stream",
       "stream": "stdout",
       "text": [
        "511 "
       ]
      },
      {
       "output_type": "stream",
       "stream": "stdout",
       "text": [
        "512 "
       ]
      },
      {
       "output_type": "stream",
       "stream": "stdout",
       "text": [
        "513 "
       ]
      },
      {
       "output_type": "stream",
       "stream": "stdout",
       "text": [
        "514 "
       ]
      },
      {
       "output_type": "stream",
       "stream": "stdout",
       "text": [
        "515 "
       ]
      },
      {
       "output_type": "stream",
       "stream": "stdout",
       "text": [
        "516 "
       ]
      },
      {
       "output_type": "stream",
       "stream": "stdout",
       "text": [
        "517 "
       ]
      },
      {
       "output_type": "stream",
       "stream": "stdout",
       "text": [
        "518 "
       ]
      },
      {
       "output_type": "stream",
       "stream": "stdout",
       "text": [
        "519 "
       ]
      },
      {
       "output_type": "stream",
       "stream": "stdout",
       "text": [
        "520 "
       ]
      },
      {
       "output_type": "stream",
       "stream": "stdout",
       "text": [
        "521 "
       ]
      },
      {
       "output_type": "stream",
       "stream": "stdout",
       "text": [
        "522 "
       ]
      },
      {
       "output_type": "stream",
       "stream": "stdout",
       "text": [
        "523 "
       ]
      },
      {
       "output_type": "stream",
       "stream": "stdout",
       "text": [
        "524 "
       ]
      },
      {
       "output_type": "stream",
       "stream": "stdout",
       "text": [
        "525 "
       ]
      },
      {
       "output_type": "stream",
       "stream": "stdout",
       "text": [
        "526 "
       ]
      },
      {
       "output_type": "stream",
       "stream": "stdout",
       "text": [
        "527 "
       ]
      },
      {
       "output_type": "stream",
       "stream": "stdout",
       "text": [
        "528 "
       ]
      },
      {
       "output_type": "stream",
       "stream": "stdout",
       "text": [
        "529 "
       ]
      },
      {
       "output_type": "stream",
       "stream": "stdout",
       "text": [
        "530 "
       ]
      },
      {
       "output_type": "stream",
       "stream": "stdout",
       "text": [
        "531 "
       ]
      },
      {
       "output_type": "stream",
       "stream": "stdout",
       "text": [
        "532 "
       ]
      },
      {
       "output_type": "stream",
       "stream": "stdout",
       "text": [
        "533 "
       ]
      },
      {
       "output_type": "stream",
       "stream": "stdout",
       "text": [
        "534 "
       ]
      },
      {
       "output_type": "stream",
       "stream": "stdout",
       "text": [
        "535 "
       ]
      },
      {
       "output_type": "stream",
       "stream": "stdout",
       "text": [
        "536 "
       ]
      },
      {
       "output_type": "stream",
       "stream": "stdout",
       "text": [
        "537 "
       ]
      },
      {
       "output_type": "stream",
       "stream": "stdout",
       "text": [
        "538 "
       ]
      },
      {
       "output_type": "stream",
       "stream": "stdout",
       "text": [
        "539 "
       ]
      },
      {
       "output_type": "stream",
       "stream": "stdout",
       "text": [
        "540 "
       ]
      },
      {
       "output_type": "stream",
       "stream": "stdout",
       "text": [
        "541 "
       ]
      },
      {
       "output_type": "stream",
       "stream": "stdout",
       "text": [
        "542 "
       ]
      },
      {
       "output_type": "stream",
       "stream": "stdout",
       "text": [
        "543 "
       ]
      },
      {
       "output_type": "stream",
       "stream": "stdout",
       "text": [
        "544 "
       ]
      },
      {
       "output_type": "stream",
       "stream": "stdout",
       "text": [
        "545 "
       ]
      },
      {
       "output_type": "stream",
       "stream": "stdout",
       "text": [
        "546 "
       ]
      },
      {
       "output_type": "stream",
       "stream": "stdout",
       "text": [
        "547 "
       ]
      },
      {
       "output_type": "stream",
       "stream": "stdout",
       "text": [
        "548 "
       ]
      },
      {
       "output_type": "stream",
       "stream": "stdout",
       "text": [
        "549 "
       ]
      },
      {
       "output_type": "stream",
       "stream": "stdout",
       "text": [
        "550 "
       ]
      },
      {
       "output_type": "stream",
       "stream": "stdout",
       "text": [
        "551 "
       ]
      },
      {
       "output_type": "stream",
       "stream": "stdout",
       "text": [
        "552 "
       ]
      },
      {
       "output_type": "stream",
       "stream": "stdout",
       "text": [
        "553 "
       ]
      },
      {
       "output_type": "stream",
       "stream": "stdout",
       "text": [
        "554 "
       ]
      },
      {
       "output_type": "stream",
       "stream": "stdout",
       "text": [
        "555 "
       ]
      },
      {
       "output_type": "stream",
       "stream": "stdout",
       "text": [
        "556 "
       ]
      },
      {
       "output_type": "stream",
       "stream": "stdout",
       "text": [
        "557 "
       ]
      },
      {
       "output_type": "stream",
       "stream": "stdout",
       "text": [
        "558 "
       ]
      },
      {
       "output_type": "stream",
       "stream": "stdout",
       "text": [
        "559 "
       ]
      },
      {
       "output_type": "stream",
       "stream": "stdout",
       "text": [
        "560 "
       ]
      },
      {
       "output_type": "stream",
       "stream": "stdout",
       "text": [
        "561 "
       ]
      },
      {
       "output_type": "stream",
       "stream": "stdout",
       "text": [
        "562 "
       ]
      },
      {
       "output_type": "stream",
       "stream": "stdout",
       "text": [
        "563 "
       ]
      },
      {
       "output_type": "stream",
       "stream": "stdout",
       "text": [
        "564 "
       ]
      },
      {
       "output_type": "stream",
       "stream": "stdout",
       "text": [
        "565 "
       ]
      },
      {
       "output_type": "stream",
       "stream": "stdout",
       "text": [
        "566 "
       ]
      },
      {
       "output_type": "stream",
       "stream": "stdout",
       "text": [
        "567 "
       ]
      },
      {
       "output_type": "stream",
       "stream": "stdout",
       "text": [
        "568 "
       ]
      },
      {
       "output_type": "stream",
       "stream": "stdout",
       "text": [
        "569 "
       ]
      },
      {
       "output_type": "stream",
       "stream": "stdout",
       "text": [
        "570 "
       ]
      },
      {
       "output_type": "stream",
       "stream": "stdout",
       "text": [
        "571 "
       ]
      },
      {
       "output_type": "stream",
       "stream": "stdout",
       "text": [
        "572 "
       ]
      },
      {
       "output_type": "stream",
       "stream": "stdout",
       "text": [
        "573 "
       ]
      },
      {
       "output_type": "stream",
       "stream": "stdout",
       "text": [
        "574 "
       ]
      },
      {
       "output_type": "stream",
       "stream": "stdout",
       "text": [
        "575 "
       ]
      },
      {
       "output_type": "stream",
       "stream": "stdout",
       "text": [
        "576 "
       ]
      },
      {
       "output_type": "stream",
       "stream": "stdout",
       "text": [
        "577 "
       ]
      },
      {
       "output_type": "stream",
       "stream": "stdout",
       "text": [
        "578 "
       ]
      },
      {
       "output_type": "stream",
       "stream": "stdout",
       "text": [
        "579 "
       ]
      },
      {
       "output_type": "stream",
       "stream": "stdout",
       "text": [
        "580 "
       ]
      },
      {
       "output_type": "stream",
       "stream": "stdout",
       "text": [
        "581 "
       ]
      },
      {
       "output_type": "stream",
       "stream": "stdout",
       "text": [
        "582 "
       ]
      },
      {
       "output_type": "stream",
       "stream": "stdout",
       "text": [
        "583 "
       ]
      },
      {
       "output_type": "stream",
       "stream": "stdout",
       "text": [
        "584 "
       ]
      },
      {
       "output_type": "stream",
       "stream": "stdout",
       "text": [
        "585 "
       ]
      },
      {
       "output_type": "stream",
       "stream": "stdout",
       "text": [
        "586 "
       ]
      },
      {
       "output_type": "stream",
       "stream": "stdout",
       "text": [
        "587 "
       ]
      },
      {
       "output_type": "stream",
       "stream": "stdout",
       "text": [
        "588 "
       ]
      },
      {
       "output_type": "stream",
       "stream": "stdout",
       "text": [
        "589 "
       ]
      },
      {
       "output_type": "stream",
       "stream": "stdout",
       "text": [
        "590 "
       ]
      },
      {
       "output_type": "stream",
       "stream": "stdout",
       "text": [
        "591 "
       ]
      },
      {
       "output_type": "stream",
       "stream": "stdout",
       "text": [
        "592 "
       ]
      },
      {
       "output_type": "stream",
       "stream": "stdout",
       "text": [
        "593 "
       ]
      },
      {
       "output_type": "stream",
       "stream": "stdout",
       "text": [
        "594 "
       ]
      },
      {
       "output_type": "stream",
       "stream": "stdout",
       "text": [
        "595 "
       ]
      },
      {
       "output_type": "stream",
       "stream": "stdout",
       "text": [
        "596 "
       ]
      },
      {
       "output_type": "stream",
       "stream": "stdout",
       "text": [
        "597 "
       ]
      },
      {
       "output_type": "stream",
       "stream": "stdout",
       "text": [
        "598 "
       ]
      },
      {
       "output_type": "stream",
       "stream": "stdout",
       "text": [
        "599 "
       ]
      },
      {
       "output_type": "stream",
       "stream": "stdout",
       "text": [
        "600 "
       ]
      },
      {
       "output_type": "stream",
       "stream": "stdout",
       "text": [
        "601 "
       ]
      },
      {
       "output_type": "stream",
       "stream": "stdout",
       "text": [
        "602 "
       ]
      },
      {
       "output_type": "stream",
       "stream": "stdout",
       "text": [
        "603 "
       ]
      },
      {
       "output_type": "stream",
       "stream": "stdout",
       "text": [
        "604 "
       ]
      },
      {
       "output_type": "stream",
       "stream": "stdout",
       "text": [
        "605 "
       ]
      },
      {
       "output_type": "stream",
       "stream": "stdout",
       "text": [
        "606 "
       ]
      },
      {
       "output_type": "stream",
       "stream": "stdout",
       "text": [
        "607 "
       ]
      },
      {
       "output_type": "stream",
       "stream": "stdout",
       "text": [
        "608 "
       ]
      },
      {
       "output_type": "stream",
       "stream": "stdout",
       "text": [
        "609 "
       ]
      },
      {
       "output_type": "stream",
       "stream": "stdout",
       "text": [
        "610 "
       ]
      },
      {
       "output_type": "stream",
       "stream": "stdout",
       "text": [
        "611 "
       ]
      },
      {
       "output_type": "stream",
       "stream": "stdout",
       "text": [
        "612 "
       ]
      },
      {
       "output_type": "stream",
       "stream": "stdout",
       "text": [
        "613 "
       ]
      },
      {
       "output_type": "stream",
       "stream": "stdout",
       "text": [
        "614 "
       ]
      },
      {
       "output_type": "stream",
       "stream": "stdout",
       "text": [
        "615 "
       ]
      },
      {
       "output_type": "stream",
       "stream": "stdout",
       "text": [
        "616 "
       ]
      },
      {
       "output_type": "stream",
       "stream": "stdout",
       "text": [
        "617 "
       ]
      },
      {
       "output_type": "stream",
       "stream": "stdout",
       "text": [
        "618 "
       ]
      },
      {
       "output_type": "stream",
       "stream": "stdout",
       "text": [
        "619 "
       ]
      },
      {
       "output_type": "stream",
       "stream": "stdout",
       "text": [
        "620 "
       ]
      },
      {
       "output_type": "stream",
       "stream": "stdout",
       "text": [
        "621 "
       ]
      },
      {
       "output_type": "stream",
       "stream": "stdout",
       "text": [
        "622 "
       ]
      },
      {
       "output_type": "stream",
       "stream": "stdout",
       "text": [
        "623 "
       ]
      },
      {
       "output_type": "stream",
       "stream": "stdout",
       "text": [
        "624 "
       ]
      },
      {
       "output_type": "stream",
       "stream": "stdout",
       "text": [
        "625 "
       ]
      },
      {
       "output_type": "stream",
       "stream": "stdout",
       "text": [
        "626 "
       ]
      },
      {
       "output_type": "stream",
       "stream": "stdout",
       "text": [
        "627 "
       ]
      },
      {
       "output_type": "stream",
       "stream": "stdout",
       "text": [
        "628 "
       ]
      },
      {
       "output_type": "stream",
       "stream": "stdout",
       "text": [
        "629 "
       ]
      },
      {
       "output_type": "stream",
       "stream": "stdout",
       "text": [
        "630 "
       ]
      },
      {
       "output_type": "stream",
       "stream": "stdout",
       "text": [
        "631 "
       ]
      },
      {
       "output_type": "stream",
       "stream": "stdout",
       "text": [
        "632 "
       ]
      },
      {
       "output_type": "stream",
       "stream": "stdout",
       "text": [
        "633 "
       ]
      },
      {
       "output_type": "stream",
       "stream": "stdout",
       "text": [
        "634 "
       ]
      },
      {
       "output_type": "stream",
       "stream": "stdout",
       "text": [
        "635 "
       ]
      },
      {
       "output_type": "stream",
       "stream": "stdout",
       "text": [
        "636 "
       ]
      },
      {
       "output_type": "stream",
       "stream": "stdout",
       "text": [
        "637 "
       ]
      },
      {
       "output_type": "stream",
       "stream": "stdout",
       "text": [
        "638 "
       ]
      },
      {
       "output_type": "stream",
       "stream": "stdout",
       "text": [
        "639 "
       ]
      },
      {
       "output_type": "stream",
       "stream": "stdout",
       "text": [
        "640 "
       ]
      },
      {
       "output_type": "stream",
       "stream": "stdout",
       "text": [
        "641 "
       ]
      },
      {
       "output_type": "stream",
       "stream": "stdout",
       "text": [
        "642 "
       ]
      },
      {
       "output_type": "stream",
       "stream": "stdout",
       "text": [
        "643 "
       ]
      },
      {
       "output_type": "stream",
       "stream": "stdout",
       "text": [
        "644 "
       ]
      },
      {
       "output_type": "stream",
       "stream": "stdout",
       "text": [
        "645 "
       ]
      },
      {
       "output_type": "stream",
       "stream": "stdout",
       "text": [
        "646 "
       ]
      },
      {
       "output_type": "stream",
       "stream": "stdout",
       "text": [
        "647 "
       ]
      },
      {
       "output_type": "stream",
       "stream": "stdout",
       "text": [
        "648 "
       ]
      },
      {
       "output_type": "stream",
       "stream": "stdout",
       "text": [
        "649 "
       ]
      },
      {
       "output_type": "stream",
       "stream": "stdout",
       "text": [
        "650 "
       ]
      },
      {
       "output_type": "stream",
       "stream": "stdout",
       "text": [
        "651 "
       ]
      },
      {
       "output_type": "stream",
       "stream": "stdout",
       "text": [
        "652 "
       ]
      },
      {
       "output_type": "stream",
       "stream": "stdout",
       "text": [
        "653 "
       ]
      },
      {
       "output_type": "stream",
       "stream": "stdout",
       "text": [
        "654 "
       ]
      },
      {
       "output_type": "stream",
       "stream": "stdout",
       "text": [
        "655 "
       ]
      },
      {
       "output_type": "stream",
       "stream": "stdout",
       "text": [
        "656 "
       ]
      },
      {
       "output_type": "stream",
       "stream": "stdout",
       "text": [
        "657 "
       ]
      },
      {
       "output_type": "stream",
       "stream": "stdout",
       "text": [
        "658 "
       ]
      },
      {
       "output_type": "stream",
       "stream": "stdout",
       "text": [
        "659 "
       ]
      },
      {
       "output_type": "stream",
       "stream": "stdout",
       "text": [
        "660 "
       ]
      },
      {
       "output_type": "stream",
       "stream": "stdout",
       "text": [
        "661 "
       ]
      },
      {
       "output_type": "stream",
       "stream": "stdout",
       "text": [
        "662 "
       ]
      },
      {
       "output_type": "stream",
       "stream": "stdout",
       "text": [
        "663 "
       ]
      },
      {
       "output_type": "stream",
       "stream": "stdout",
       "text": [
        "664 "
       ]
      },
      {
       "output_type": "stream",
       "stream": "stdout",
       "text": [
        "665 "
       ]
      },
      {
       "output_type": "stream",
       "stream": "stdout",
       "text": [
        "666 "
       ]
      },
      {
       "output_type": "stream",
       "stream": "stdout",
       "text": [
        "667 "
       ]
      },
      {
       "output_type": "stream",
       "stream": "stdout",
       "text": [
        "668 "
       ]
      },
      {
       "output_type": "stream",
       "stream": "stdout",
       "text": [
        "669 "
       ]
      },
      {
       "output_type": "stream",
       "stream": "stdout",
       "text": [
        "670 "
       ]
      },
      {
       "output_type": "stream",
       "stream": "stdout",
       "text": [
        "671 "
       ]
      },
      {
       "output_type": "stream",
       "stream": "stdout",
       "text": [
        "672 "
       ]
      },
      {
       "output_type": "stream",
       "stream": "stdout",
       "text": [
        "673 "
       ]
      },
      {
       "output_type": "stream",
       "stream": "stdout",
       "text": [
        "674 "
       ]
      },
      {
       "output_type": "stream",
       "stream": "stdout",
       "text": [
        "675 "
       ]
      },
      {
       "output_type": "stream",
       "stream": "stdout",
       "text": [
        "676 "
       ]
      },
      {
       "output_type": "stream",
       "stream": "stdout",
       "text": [
        "677 "
       ]
      },
      {
       "output_type": "stream",
       "stream": "stdout",
       "text": [
        "678 "
       ]
      },
      {
       "output_type": "stream",
       "stream": "stdout",
       "text": [
        "679 "
       ]
      },
      {
       "output_type": "stream",
       "stream": "stdout",
       "text": [
        "680 "
       ]
      },
      {
       "output_type": "stream",
       "stream": "stdout",
       "text": [
        "681 "
       ]
      },
      {
       "output_type": "stream",
       "stream": "stdout",
       "text": [
        "682 "
       ]
      },
      {
       "output_type": "stream",
       "stream": "stdout",
       "text": [
        "683 "
       ]
      },
      {
       "output_type": "stream",
       "stream": "stdout",
       "text": [
        "684 "
       ]
      },
      {
       "output_type": "stream",
       "stream": "stdout",
       "text": [
        "685 "
       ]
      },
      {
       "output_type": "stream",
       "stream": "stdout",
       "text": [
        "686 "
       ]
      },
      {
       "output_type": "stream",
       "stream": "stdout",
       "text": [
        "687 "
       ]
      },
      {
       "output_type": "stream",
       "stream": "stdout",
       "text": [
        "688 "
       ]
      },
      {
       "output_type": "stream",
       "stream": "stdout",
       "text": [
        "689 "
       ]
      },
      {
       "output_type": "stream",
       "stream": "stdout",
       "text": [
        "690 "
       ]
      },
      {
       "output_type": "stream",
       "stream": "stdout",
       "text": [
        "691 "
       ]
      },
      {
       "output_type": "stream",
       "stream": "stdout",
       "text": [
        "692 "
       ]
      },
      {
       "output_type": "stream",
       "stream": "stdout",
       "text": [
        "693 "
       ]
      },
      {
       "output_type": "stream",
       "stream": "stdout",
       "text": [
        "694 "
       ]
      },
      {
       "output_type": "stream",
       "stream": "stdout",
       "text": [
        "695 "
       ]
      },
      {
       "output_type": "stream",
       "stream": "stdout",
       "text": [
        "696 "
       ]
      },
      {
       "output_type": "stream",
       "stream": "stdout",
       "text": [
        "697 "
       ]
      },
      {
       "output_type": "stream",
       "stream": "stdout",
       "text": [
        "698 "
       ]
      },
      {
       "output_type": "stream",
       "stream": "stdout",
       "text": [
        "699 "
       ]
      },
      {
       "output_type": "stream",
       "stream": "stdout",
       "text": [
        "700 "
       ]
      },
      {
       "output_type": "stream",
       "stream": "stdout",
       "text": [
        "701 "
       ]
      },
      {
       "output_type": "stream",
       "stream": "stdout",
       "text": [
        "702 "
       ]
      },
      {
       "output_type": "stream",
       "stream": "stdout",
       "text": [
        "703 "
       ]
      },
      {
       "output_type": "stream",
       "stream": "stdout",
       "text": [
        "704 "
       ]
      },
      {
       "output_type": "stream",
       "stream": "stdout",
       "text": [
        "705 "
       ]
      },
      {
       "output_type": "stream",
       "stream": "stdout",
       "text": [
        "706 "
       ]
      },
      {
       "output_type": "stream",
       "stream": "stdout",
       "text": [
        "707 "
       ]
      },
      {
       "output_type": "stream",
       "stream": "stdout",
       "text": [
        "708 "
       ]
      },
      {
       "output_type": "stream",
       "stream": "stdout",
       "text": [
        "709 "
       ]
      },
      {
       "output_type": "stream",
       "stream": "stdout",
       "text": [
        "710 "
       ]
      },
      {
       "output_type": "stream",
       "stream": "stdout",
       "text": [
        "711 "
       ]
      },
      {
       "output_type": "stream",
       "stream": "stdout",
       "text": [
        "712 "
       ]
      },
      {
       "output_type": "stream",
       "stream": "stdout",
       "text": [
        "713 "
       ]
      },
      {
       "output_type": "stream",
       "stream": "stdout",
       "text": [
        "714 "
       ]
      },
      {
       "output_type": "stream",
       "stream": "stdout",
       "text": [
        "715 "
       ]
      },
      {
       "output_type": "stream",
       "stream": "stdout",
       "text": [
        "716 "
       ]
      },
      {
       "output_type": "stream",
       "stream": "stdout",
       "text": [
        "717 "
       ]
      },
      {
       "output_type": "stream",
       "stream": "stdout",
       "text": [
        "718 "
       ]
      },
      {
       "output_type": "stream",
       "stream": "stdout",
       "text": [
        "719 "
       ]
      },
      {
       "output_type": "stream",
       "stream": "stdout",
       "text": [
        "720 "
       ]
      },
      {
       "output_type": "stream",
       "stream": "stdout",
       "text": [
        "721 "
       ]
      },
      {
       "output_type": "stream",
       "stream": "stdout",
       "text": [
        "722 "
       ]
      },
      {
       "output_type": "stream",
       "stream": "stdout",
       "text": [
        "723 "
       ]
      },
      {
       "output_type": "stream",
       "stream": "stdout",
       "text": [
        "724 "
       ]
      },
      {
       "output_type": "stream",
       "stream": "stdout",
       "text": [
        "725 "
       ]
      },
      {
       "output_type": "stream",
       "stream": "stdout",
       "text": [
        "726 "
       ]
      },
      {
       "output_type": "stream",
       "stream": "stdout",
       "text": [
        "727 "
       ]
      },
      {
       "output_type": "stream",
       "stream": "stdout",
       "text": [
        "728 "
       ]
      },
      {
       "output_type": "stream",
       "stream": "stdout",
       "text": [
        "729 "
       ]
      },
      {
       "output_type": "stream",
       "stream": "stdout",
       "text": [
        "730 "
       ]
      },
      {
       "output_type": "stream",
       "stream": "stdout",
       "text": [
        "731 "
       ]
      },
      {
       "output_type": "stream",
       "stream": "stdout",
       "text": [
        "732 "
       ]
      },
      {
       "output_type": "stream",
       "stream": "stdout",
       "text": [
        "733 "
       ]
      },
      {
       "output_type": "stream",
       "stream": "stdout",
       "text": [
        "734 "
       ]
      },
      {
       "output_type": "stream",
       "stream": "stdout",
       "text": [
        "735 "
       ]
      },
      {
       "output_type": "stream",
       "stream": "stdout",
       "text": [
        "736 "
       ]
      },
      {
       "output_type": "stream",
       "stream": "stdout",
       "text": [
        "737 "
       ]
      },
      {
       "output_type": "stream",
       "stream": "stdout",
       "text": [
        "738 "
       ]
      },
      {
       "output_type": "stream",
       "stream": "stdout",
       "text": [
        "739 "
       ]
      },
      {
       "output_type": "stream",
       "stream": "stdout",
       "text": [
        "740 "
       ]
      },
      {
       "output_type": "stream",
       "stream": "stdout",
       "text": [
        "741 "
       ]
      },
      {
       "output_type": "stream",
       "stream": "stdout",
       "text": [
        "742 "
       ]
      },
      {
       "output_type": "stream",
       "stream": "stdout",
       "text": [
        "743 "
       ]
      },
      {
       "output_type": "stream",
       "stream": "stdout",
       "text": [
        "744 "
       ]
      },
      {
       "output_type": "stream",
       "stream": "stdout",
       "text": [
        "745 "
       ]
      },
      {
       "output_type": "stream",
       "stream": "stdout",
       "text": [
        "746 "
       ]
      },
      {
       "output_type": "stream",
       "stream": "stdout",
       "text": [
        "747 "
       ]
      },
      {
       "output_type": "stream",
       "stream": "stdout",
       "text": [
        "748 "
       ]
      },
      {
       "output_type": "stream",
       "stream": "stdout",
       "text": [
        "749 "
       ]
      },
      {
       "output_type": "stream",
       "stream": "stdout",
       "text": [
        "750 "
       ]
      },
      {
       "output_type": "stream",
       "stream": "stdout",
       "text": [
        "751 "
       ]
      },
      {
       "output_type": "stream",
       "stream": "stdout",
       "text": [
        "752 "
       ]
      },
      {
       "output_type": "stream",
       "stream": "stdout",
       "text": [
        "753 "
       ]
      },
      {
       "output_type": "stream",
       "stream": "stdout",
       "text": [
        "754 "
       ]
      },
      {
       "output_type": "stream",
       "stream": "stdout",
       "text": [
        "755 "
       ]
      },
      {
       "output_type": "stream",
       "stream": "stdout",
       "text": [
        "756 "
       ]
      },
      {
       "output_type": "stream",
       "stream": "stdout",
       "text": [
        "757 "
       ]
      },
      {
       "output_type": "stream",
       "stream": "stdout",
       "text": [
        "758 "
       ]
      },
      {
       "output_type": "stream",
       "stream": "stdout",
       "text": [
        "759 "
       ]
      },
      {
       "output_type": "stream",
       "stream": "stdout",
       "text": [
        "760 "
       ]
      },
      {
       "output_type": "stream",
       "stream": "stdout",
       "text": [
        "761 "
       ]
      },
      {
       "output_type": "stream",
       "stream": "stdout",
       "text": [
        "762 "
       ]
      },
      {
       "output_type": "stream",
       "stream": "stdout",
       "text": [
        "763 "
       ]
      },
      {
       "output_type": "stream",
       "stream": "stdout",
       "text": [
        "764 "
       ]
      },
      {
       "output_type": "stream",
       "stream": "stdout",
       "text": [
        "765 "
       ]
      },
      {
       "output_type": "stream",
       "stream": "stdout",
       "text": [
        "766 "
       ]
      },
      {
       "output_type": "stream",
       "stream": "stdout",
       "text": [
        "767 "
       ]
      },
      {
       "output_type": "stream",
       "stream": "stdout",
       "text": [
        "768 "
       ]
      },
      {
       "output_type": "stream",
       "stream": "stdout",
       "text": [
        "769 "
       ]
      },
      {
       "output_type": "stream",
       "stream": "stdout",
       "text": [
        "770 "
       ]
      },
      {
       "output_type": "stream",
       "stream": "stdout",
       "text": [
        "771 "
       ]
      },
      {
       "output_type": "stream",
       "stream": "stdout",
       "text": [
        "772 "
       ]
      },
      {
       "output_type": "stream",
       "stream": "stdout",
       "text": [
        "773 "
       ]
      },
      {
       "output_type": "stream",
       "stream": "stdout",
       "text": [
        "774 "
       ]
      },
      {
       "output_type": "stream",
       "stream": "stdout",
       "text": [
        "775 "
       ]
      },
      {
       "output_type": "stream",
       "stream": "stdout",
       "text": [
        "776 "
       ]
      },
      {
       "output_type": "stream",
       "stream": "stdout",
       "text": [
        "777 "
       ]
      },
      {
       "output_type": "stream",
       "stream": "stdout",
       "text": [
        "778 "
       ]
      },
      {
       "output_type": "stream",
       "stream": "stdout",
       "text": [
        "779 "
       ]
      },
      {
       "output_type": "stream",
       "stream": "stdout",
       "text": [
        "780 "
       ]
      },
      {
       "output_type": "stream",
       "stream": "stdout",
       "text": [
        "781 "
       ]
      },
      {
       "output_type": "stream",
       "stream": "stdout",
       "text": [
        "782 "
       ]
      },
      {
       "output_type": "stream",
       "stream": "stdout",
       "text": [
        "783 "
       ]
      },
      {
       "output_type": "stream",
       "stream": "stdout",
       "text": [
        "784 "
       ]
      },
      {
       "output_type": "stream",
       "stream": "stdout",
       "text": [
        "785 "
       ]
      },
      {
       "output_type": "stream",
       "stream": "stdout",
       "text": [
        "786 "
       ]
      },
      {
       "output_type": "stream",
       "stream": "stdout",
       "text": [
        "787 "
       ]
      },
      {
       "output_type": "stream",
       "stream": "stdout",
       "text": [
        "788 "
       ]
      },
      {
       "output_type": "stream",
       "stream": "stdout",
       "text": [
        "789 "
       ]
      },
      {
       "output_type": "stream",
       "stream": "stdout",
       "text": [
        "790 "
       ]
      },
      {
       "output_type": "stream",
       "stream": "stdout",
       "text": [
        "791 "
       ]
      },
      {
       "output_type": "stream",
       "stream": "stdout",
       "text": [
        "792 "
       ]
      },
      {
       "output_type": "stream",
       "stream": "stdout",
       "text": [
        "793 "
       ]
      },
      {
       "output_type": "stream",
       "stream": "stdout",
       "text": [
        "794 "
       ]
      },
      {
       "output_type": "stream",
       "stream": "stdout",
       "text": [
        "795 "
       ]
      },
      {
       "output_type": "stream",
       "stream": "stdout",
       "text": [
        "796 "
       ]
      },
      {
       "output_type": "stream",
       "stream": "stdout",
       "text": [
        "797 "
       ]
      },
      {
       "output_type": "stream",
       "stream": "stdout",
       "text": [
        "798 "
       ]
      },
      {
       "output_type": "stream",
       "stream": "stdout",
       "text": [
        "799 "
       ]
      },
      {
       "output_type": "stream",
       "stream": "stdout",
       "text": [
        "800 "
       ]
      },
      {
       "output_type": "stream",
       "stream": "stdout",
       "text": [
        "801 "
       ]
      },
      {
       "output_type": "stream",
       "stream": "stdout",
       "text": [
        "802 "
       ]
      },
      {
       "output_type": "stream",
       "stream": "stdout",
       "text": [
        "803 "
       ]
      },
      {
       "output_type": "stream",
       "stream": "stdout",
       "text": [
        "804 "
       ]
      },
      {
       "output_type": "stream",
       "stream": "stdout",
       "text": [
        "805 "
       ]
      },
      {
       "output_type": "stream",
       "stream": "stdout",
       "text": [
        "806 "
       ]
      },
      {
       "output_type": "stream",
       "stream": "stdout",
       "text": [
        "807 "
       ]
      },
      {
       "output_type": "stream",
       "stream": "stdout",
       "text": [
        "808 "
       ]
      },
      {
       "output_type": "stream",
       "stream": "stdout",
       "text": [
        "809 "
       ]
      },
      {
       "output_type": "stream",
       "stream": "stdout",
       "text": [
        "810 "
       ]
      },
      {
       "output_type": "stream",
       "stream": "stdout",
       "text": [
        "811 "
       ]
      },
      {
       "output_type": "stream",
       "stream": "stdout",
       "text": [
        "812 "
       ]
      },
      {
       "output_type": "stream",
       "stream": "stdout",
       "text": [
        "813 "
       ]
      },
      {
       "output_type": "stream",
       "stream": "stdout",
       "text": [
        "814 "
       ]
      },
      {
       "output_type": "stream",
       "stream": "stdout",
       "text": [
        "815 "
       ]
      },
      {
       "output_type": "stream",
       "stream": "stdout",
       "text": [
        "816 "
       ]
      },
      {
       "output_type": "stream",
       "stream": "stdout",
       "text": [
        "817 "
       ]
      },
      {
       "output_type": "stream",
       "stream": "stdout",
       "text": [
        "818 "
       ]
      },
      {
       "output_type": "stream",
       "stream": "stdout",
       "text": [
        "819 "
       ]
      },
      {
       "output_type": "stream",
       "stream": "stdout",
       "text": [
        "820 "
       ]
      },
      {
       "output_type": "stream",
       "stream": "stdout",
       "text": [
        "821 "
       ]
      },
      {
       "output_type": "stream",
       "stream": "stdout",
       "text": [
        "822 "
       ]
      },
      {
       "output_type": "stream",
       "stream": "stdout",
       "text": [
        "823 "
       ]
      },
      {
       "output_type": "stream",
       "stream": "stdout",
       "text": [
        "824 "
       ]
      },
      {
       "output_type": "stream",
       "stream": "stdout",
       "text": [
        "825 "
       ]
      },
      {
       "output_type": "stream",
       "stream": "stdout",
       "text": [
        "826 "
       ]
      },
      {
       "output_type": "stream",
       "stream": "stdout",
       "text": [
        "827 "
       ]
      },
      {
       "output_type": "stream",
       "stream": "stdout",
       "text": [
        "828 "
       ]
      },
      {
       "output_type": "stream",
       "stream": "stdout",
       "text": [
        "829 "
       ]
      },
      {
       "output_type": "stream",
       "stream": "stdout",
       "text": [
        "830 "
       ]
      },
      {
       "output_type": "stream",
       "stream": "stdout",
       "text": [
        "831 "
       ]
      },
      {
       "output_type": "stream",
       "stream": "stdout",
       "text": [
        "832 "
       ]
      },
      {
       "output_type": "stream",
       "stream": "stdout",
       "text": [
        "833 "
       ]
      },
      {
       "output_type": "stream",
       "stream": "stdout",
       "text": [
        "834 "
       ]
      },
      {
       "output_type": "stream",
       "stream": "stdout",
       "text": [
        "835 "
       ]
      },
      {
       "output_type": "stream",
       "stream": "stdout",
       "text": [
        "836 "
       ]
      },
      {
       "output_type": "stream",
       "stream": "stdout",
       "text": [
        "837 "
       ]
      },
      {
       "output_type": "stream",
       "stream": "stdout",
       "text": [
        "838 "
       ]
      },
      {
       "output_type": "stream",
       "stream": "stdout",
       "text": [
        "839 "
       ]
      },
      {
       "output_type": "stream",
       "stream": "stdout",
       "text": [
        "840 "
       ]
      },
      {
       "output_type": "stream",
       "stream": "stdout",
       "text": [
        "841 "
       ]
      },
      {
       "output_type": "stream",
       "stream": "stdout",
       "text": [
        "842 "
       ]
      },
      {
       "output_type": "stream",
       "stream": "stdout",
       "text": [
        "843 "
       ]
      },
      {
       "output_type": "stream",
       "stream": "stdout",
       "text": [
        "844 "
       ]
      },
      {
       "output_type": "stream",
       "stream": "stdout",
       "text": [
        "845 "
       ]
      },
      {
       "output_type": "stream",
       "stream": "stdout",
       "text": [
        "846 "
       ]
      },
      {
       "output_type": "stream",
       "stream": "stdout",
       "text": [
        "847 "
       ]
      },
      {
       "output_type": "stream",
       "stream": "stdout",
       "text": [
        "848 "
       ]
      },
      {
       "output_type": "stream",
       "stream": "stdout",
       "text": [
        "849 "
       ]
      },
      {
       "output_type": "stream",
       "stream": "stdout",
       "text": [
        "850 "
       ]
      },
      {
       "output_type": "stream",
       "stream": "stdout",
       "text": [
        "851 "
       ]
      },
      {
       "output_type": "stream",
       "stream": "stdout",
       "text": [
        "852 "
       ]
      },
      {
       "output_type": "stream",
       "stream": "stdout",
       "text": [
        "853 "
       ]
      },
      {
       "output_type": "stream",
       "stream": "stdout",
       "text": [
        "854 "
       ]
      },
      {
       "output_type": "stream",
       "stream": "stdout",
       "text": [
        "855 "
       ]
      },
      {
       "output_type": "stream",
       "stream": "stdout",
       "text": [
        "856 "
       ]
      },
      {
       "output_type": "stream",
       "stream": "stdout",
       "text": [
        "857 "
       ]
      },
      {
       "output_type": "stream",
       "stream": "stdout",
       "text": [
        "858 "
       ]
      },
      {
       "output_type": "stream",
       "stream": "stdout",
       "text": [
        "859 "
       ]
      },
      {
       "output_type": "stream",
       "stream": "stdout",
       "text": [
        "860 "
       ]
      },
      {
       "output_type": "stream",
       "stream": "stdout",
       "text": [
        "861 "
       ]
      },
      {
       "output_type": "stream",
       "stream": "stdout",
       "text": [
        "862 "
       ]
      },
      {
       "output_type": "stream",
       "stream": "stdout",
       "text": [
        "863 "
       ]
      },
      {
       "output_type": "stream",
       "stream": "stdout",
       "text": [
        "864 "
       ]
      },
      {
       "output_type": "stream",
       "stream": "stdout",
       "text": [
        "865 "
       ]
      },
      {
       "output_type": "stream",
       "stream": "stdout",
       "text": [
        "866 "
       ]
      },
      {
       "output_type": "stream",
       "stream": "stdout",
       "text": [
        "867 "
       ]
      },
      {
       "output_type": "stream",
       "stream": "stdout",
       "text": [
        "868 "
       ]
      },
      {
       "output_type": "stream",
       "stream": "stdout",
       "text": [
        "869 "
       ]
      },
      {
       "output_type": "stream",
       "stream": "stdout",
       "text": [
        "870 "
       ]
      },
      {
       "output_type": "stream",
       "stream": "stdout",
       "text": [
        "871 "
       ]
      },
      {
       "output_type": "stream",
       "stream": "stdout",
       "text": [
        "872 "
       ]
      },
      {
       "output_type": "stream",
       "stream": "stdout",
       "text": [
        "873 "
       ]
      },
      {
       "output_type": "stream",
       "stream": "stdout",
       "text": [
        "874 "
       ]
      },
      {
       "output_type": "stream",
       "stream": "stdout",
       "text": [
        "875 "
       ]
      },
      {
       "output_type": "stream",
       "stream": "stdout",
       "text": [
        "876 "
       ]
      },
      {
       "output_type": "stream",
       "stream": "stdout",
       "text": [
        "877 "
       ]
      },
      {
       "output_type": "stream",
       "stream": "stdout",
       "text": [
        "878 "
       ]
      },
      {
       "output_type": "stream",
       "stream": "stdout",
       "text": [
        "879 "
       ]
      },
      {
       "output_type": "stream",
       "stream": "stdout",
       "text": [
        "880 "
       ]
      },
      {
       "output_type": "stream",
       "stream": "stdout",
       "text": [
        "881 "
       ]
      },
      {
       "output_type": "stream",
       "stream": "stdout",
       "text": [
        "882 "
       ]
      },
      {
       "output_type": "stream",
       "stream": "stdout",
       "text": [
        "883 "
       ]
      },
      {
       "output_type": "stream",
       "stream": "stdout",
       "text": [
        "884 "
       ]
      },
      {
       "output_type": "stream",
       "stream": "stdout",
       "text": [
        "885 "
       ]
      },
      {
       "output_type": "stream",
       "stream": "stdout",
       "text": [
        "886 "
       ]
      },
      {
       "output_type": "stream",
       "stream": "stdout",
       "text": [
        "887 "
       ]
      },
      {
       "output_type": "stream",
       "stream": "stdout",
       "text": [
        "888 "
       ]
      },
      {
       "output_type": "stream",
       "stream": "stdout",
       "text": [
        "889 "
       ]
      },
      {
       "output_type": "stream",
       "stream": "stdout",
       "text": [
        "890 "
       ]
      },
      {
       "output_type": "stream",
       "stream": "stdout",
       "text": [
        "891 "
       ]
      },
      {
       "output_type": "stream",
       "stream": "stdout",
       "text": [
        "892 "
       ]
      },
      {
       "output_type": "stream",
       "stream": "stdout",
       "text": [
        "893 "
       ]
      },
      {
       "output_type": "stream",
       "stream": "stdout",
       "text": [
        "894 "
       ]
      },
      {
       "output_type": "stream",
       "stream": "stdout",
       "text": [
        "895 "
       ]
      },
      {
       "output_type": "stream",
       "stream": "stdout",
       "text": [
        "896 "
       ]
      },
      {
       "output_type": "stream",
       "stream": "stdout",
       "text": [
        "897 "
       ]
      },
      {
       "output_type": "stream",
       "stream": "stdout",
       "text": [
        "898 "
       ]
      },
      {
       "output_type": "stream",
       "stream": "stdout",
       "text": [
        "899 "
       ]
      },
      {
       "output_type": "stream",
       "stream": "stdout",
       "text": [
        "900 "
       ]
      },
      {
       "output_type": "stream",
       "stream": "stdout",
       "text": [
        "901 "
       ]
      },
      {
       "output_type": "stream",
       "stream": "stdout",
       "text": [
        "902 "
       ]
      },
      {
       "output_type": "stream",
       "stream": "stdout",
       "text": [
        "903 "
       ]
      },
      {
       "output_type": "stream",
       "stream": "stdout",
       "text": [
        "904 "
       ]
      },
      {
       "output_type": "stream",
       "stream": "stdout",
       "text": [
        "905 "
       ]
      },
      {
       "output_type": "stream",
       "stream": "stdout",
       "text": [
        "906 "
       ]
      },
      {
       "output_type": "stream",
       "stream": "stdout",
       "text": [
        "907 "
       ]
      },
      {
       "output_type": "stream",
       "stream": "stdout",
       "text": [
        "908 "
       ]
      },
      {
       "output_type": "stream",
       "stream": "stdout",
       "text": [
        "909 "
       ]
      },
      {
       "output_type": "stream",
       "stream": "stdout",
       "text": [
        "910 "
       ]
      },
      {
       "output_type": "stream",
       "stream": "stdout",
       "text": [
        "911 "
       ]
      },
      {
       "output_type": "stream",
       "stream": "stdout",
       "text": [
        "912 "
       ]
      },
      {
       "output_type": "stream",
       "stream": "stdout",
       "text": [
        "913 "
       ]
      },
      {
       "output_type": "stream",
       "stream": "stdout",
       "text": [
        "914 "
       ]
      },
      {
       "output_type": "stream",
       "stream": "stdout",
       "text": [
        "915 "
       ]
      },
      {
       "output_type": "stream",
       "stream": "stdout",
       "text": [
        "916 "
       ]
      },
      {
       "output_type": "stream",
       "stream": "stdout",
       "text": [
        "917 "
       ]
      },
      {
       "output_type": "stream",
       "stream": "stdout",
       "text": [
        "918 "
       ]
      },
      {
       "output_type": "stream",
       "stream": "stdout",
       "text": [
        "919 "
       ]
      },
      {
       "output_type": "stream",
       "stream": "stdout",
       "text": [
        "920 "
       ]
      },
      {
       "output_type": "stream",
       "stream": "stdout",
       "text": [
        "921 "
       ]
      },
      {
       "output_type": "stream",
       "stream": "stdout",
       "text": [
        "922 "
       ]
      },
      {
       "output_type": "stream",
       "stream": "stdout",
       "text": [
        "923 "
       ]
      },
      {
       "output_type": "stream",
       "stream": "stdout",
       "text": [
        "924 "
       ]
      },
      {
       "output_type": "stream",
       "stream": "stdout",
       "text": [
        "925 "
       ]
      },
      {
       "output_type": "stream",
       "stream": "stdout",
       "text": [
        "926 "
       ]
      },
      {
       "output_type": "stream",
       "stream": "stdout",
       "text": [
        "927 "
       ]
      },
      {
       "output_type": "stream",
       "stream": "stdout",
       "text": [
        "928 "
       ]
      },
      {
       "output_type": "stream",
       "stream": "stdout",
       "text": [
        "929 "
       ]
      },
      {
       "output_type": "stream",
       "stream": "stdout",
       "text": [
        "930 "
       ]
      },
      {
       "output_type": "stream",
       "stream": "stdout",
       "text": [
        "931 "
       ]
      },
      {
       "output_type": "stream",
       "stream": "stdout",
       "text": [
        "932 "
       ]
      },
      {
       "output_type": "stream",
       "stream": "stdout",
       "text": [
        "933 "
       ]
      },
      {
       "output_type": "stream",
       "stream": "stdout",
       "text": [
        "934 "
       ]
      },
      {
       "output_type": "stream",
       "stream": "stdout",
       "text": [
        "935 "
       ]
      },
      {
       "output_type": "stream",
       "stream": "stdout",
       "text": [
        "936 "
       ]
      },
      {
       "output_type": "stream",
       "stream": "stdout",
       "text": [
        "937 "
       ]
      },
      {
       "output_type": "stream",
       "stream": "stdout",
       "text": [
        "938 "
       ]
      },
      {
       "output_type": "stream",
       "stream": "stdout",
       "text": [
        "939 "
       ]
      },
      {
       "output_type": "stream",
       "stream": "stdout",
       "text": [
        "940 "
       ]
      },
      {
       "output_type": "stream",
       "stream": "stdout",
       "text": [
        "941 "
       ]
      },
      {
       "output_type": "stream",
       "stream": "stdout",
       "text": [
        "942 "
       ]
      },
      {
       "output_type": "stream",
       "stream": "stdout",
       "text": [
        "943 "
       ]
      },
      {
       "output_type": "stream",
       "stream": "stdout",
       "text": [
        "944 "
       ]
      },
      {
       "output_type": "stream",
       "stream": "stdout",
       "text": [
        "945 "
       ]
      },
      {
       "output_type": "stream",
       "stream": "stdout",
       "text": [
        "946 "
       ]
      },
      {
       "output_type": "stream",
       "stream": "stdout",
       "text": [
        "947 "
       ]
      },
      {
       "output_type": "stream",
       "stream": "stdout",
       "text": [
        "948 "
       ]
      },
      {
       "output_type": "stream",
       "stream": "stdout",
       "text": [
        "949 "
       ]
      },
      {
       "output_type": "stream",
       "stream": "stdout",
       "text": [
        "950 "
       ]
      },
      {
       "output_type": "stream",
       "stream": "stdout",
       "text": [
        "951 "
       ]
      },
      {
       "output_type": "stream",
       "stream": "stdout",
       "text": [
        "952 "
       ]
      },
      {
       "output_type": "stream",
       "stream": "stdout",
       "text": [
        "953 "
       ]
      },
      {
       "output_type": "stream",
       "stream": "stdout",
       "text": [
        "954 "
       ]
      },
      {
       "output_type": "stream",
       "stream": "stdout",
       "text": [
        "955 "
       ]
      },
      {
       "output_type": "stream",
       "stream": "stdout",
       "text": [
        "956 "
       ]
      },
      {
       "output_type": "stream",
       "stream": "stdout",
       "text": [
        "957 "
       ]
      },
      {
       "output_type": "stream",
       "stream": "stdout",
       "text": [
        "958 "
       ]
      },
      {
       "output_type": "stream",
       "stream": "stdout",
       "text": [
        "959 "
       ]
      },
      {
       "output_type": "stream",
       "stream": "stdout",
       "text": [
        "960 "
       ]
      },
      {
       "output_type": "stream",
       "stream": "stdout",
       "text": [
        "961 "
       ]
      },
      {
       "output_type": "stream",
       "stream": "stdout",
       "text": [
        "962 "
       ]
      },
      {
       "output_type": "stream",
       "stream": "stdout",
       "text": [
        "963 "
       ]
      },
      {
       "output_type": "stream",
       "stream": "stdout",
       "text": [
        "964 "
       ]
      },
      {
       "output_type": "stream",
       "stream": "stdout",
       "text": [
        "965 "
       ]
      },
      {
       "output_type": "stream",
       "stream": "stdout",
       "text": [
        "966 "
       ]
      },
      {
       "output_type": "stream",
       "stream": "stdout",
       "text": [
        "967 "
       ]
      },
      {
       "output_type": "stream",
       "stream": "stdout",
       "text": [
        "968 "
       ]
      },
      {
       "output_type": "stream",
       "stream": "stdout",
       "text": [
        "969 "
       ]
      },
      {
       "output_type": "stream",
       "stream": "stdout",
       "text": [
        "970 "
       ]
      },
      {
       "output_type": "stream",
       "stream": "stdout",
       "text": [
        "971 "
       ]
      },
      {
       "output_type": "stream",
       "stream": "stdout",
       "text": [
        "972 "
       ]
      },
      {
       "output_type": "stream",
       "stream": "stdout",
       "text": [
        "973 "
       ]
      },
      {
       "output_type": "stream",
       "stream": "stdout",
       "text": [
        "974 "
       ]
      },
      {
       "output_type": "stream",
       "stream": "stdout",
       "text": [
        "975 "
       ]
      },
      {
       "output_type": "stream",
       "stream": "stdout",
       "text": [
        "976 "
       ]
      },
      {
       "output_type": "stream",
       "stream": "stdout",
       "text": [
        "977 "
       ]
      },
      {
       "output_type": "stream",
       "stream": "stdout",
       "text": [
        "978 "
       ]
      },
      {
       "output_type": "stream",
       "stream": "stdout",
       "text": [
        "979 "
       ]
      },
      {
       "output_type": "stream",
       "stream": "stdout",
       "text": [
        "980 "
       ]
      },
      {
       "output_type": "stream",
       "stream": "stdout",
       "text": [
        "981 "
       ]
      },
      {
       "output_type": "stream",
       "stream": "stdout",
       "text": [
        "982 "
       ]
      },
      {
       "output_type": "stream",
       "stream": "stdout",
       "text": [
        "983 "
       ]
      },
      {
       "output_type": "stream",
       "stream": "stdout",
       "text": [
        "984 "
       ]
      },
      {
       "output_type": "stream",
       "stream": "stdout",
       "text": [
        "985 "
       ]
      },
      {
       "output_type": "stream",
       "stream": "stdout",
       "text": [
        "986 "
       ]
      },
      {
       "output_type": "stream",
       "stream": "stdout",
       "text": [
        "987 "
       ]
      },
      {
       "output_type": "stream",
       "stream": "stdout",
       "text": [
        "988 "
       ]
      },
      {
       "output_type": "stream",
       "stream": "stdout",
       "text": [
        "989 "
       ]
      },
      {
       "output_type": "stream",
       "stream": "stdout",
       "text": [
        "990 "
       ]
      },
      {
       "output_type": "stream",
       "stream": "stdout",
       "text": [
        "991 "
       ]
      },
      {
       "output_type": "stream",
       "stream": "stdout",
       "text": [
        "992 "
       ]
      },
      {
       "output_type": "stream",
       "stream": "stdout",
       "text": [
        "993 "
       ]
      },
      {
       "output_type": "stream",
       "stream": "stdout",
       "text": [
        "994 "
       ]
      },
      {
       "output_type": "stream",
       "stream": "stdout",
       "text": [
        "995 "
       ]
      },
      {
       "output_type": "stream",
       "stream": "stdout",
       "text": [
        "996 "
       ]
      },
      {
       "output_type": "stream",
       "stream": "stdout",
       "text": [
        "997 "
       ]
      },
      {
       "output_type": "stream",
       "stream": "stdout",
       "text": [
        "998 "
       ]
      },
      {
       "output_type": "stream",
       "stream": "stdout",
       "text": [
        "999 "
       ]
      },
      {
       "output_type": "stream",
       "stream": "stdout",
       "text": [
        "1000 "
       ]
      },
      {
       "output_type": "stream",
       "stream": "stdout",
       "text": [
        "1001 "
       ]
      },
      {
       "output_type": "stream",
       "stream": "stdout",
       "text": [
        "1002 "
       ]
      },
      {
       "output_type": "stream",
       "stream": "stdout",
       "text": [
        "1003 "
       ]
      },
      {
       "output_type": "stream",
       "stream": "stdout",
       "text": [
        "1004 "
       ]
      },
      {
       "output_type": "stream",
       "stream": "stdout",
       "text": [
        "1005 "
       ]
      },
      {
       "output_type": "stream",
       "stream": "stdout",
       "text": [
        "1006 "
       ]
      },
      {
       "output_type": "stream",
       "stream": "stdout",
       "text": [
        "1007 "
       ]
      },
      {
       "output_type": "stream",
       "stream": "stdout",
       "text": [
        "1008 "
       ]
      },
      {
       "output_type": "stream",
       "stream": "stdout",
       "text": [
        "1009 "
       ]
      },
      {
       "output_type": "stream",
       "stream": "stdout",
       "text": [
        "1010 "
       ]
      },
      {
       "output_type": "stream",
       "stream": "stdout",
       "text": [
        "1011 "
       ]
      },
      {
       "output_type": "stream",
       "stream": "stdout",
       "text": [
        "1012 "
       ]
      },
      {
       "output_type": "stream",
       "stream": "stdout",
       "text": [
        "1013 "
       ]
      },
      {
       "output_type": "stream",
       "stream": "stdout",
       "text": [
        "1014 "
       ]
      },
      {
       "output_type": "stream",
       "stream": "stdout",
       "text": [
        "1015 "
       ]
      },
      {
       "output_type": "stream",
       "stream": "stdout",
       "text": [
        "1016 "
       ]
      },
      {
       "output_type": "stream",
       "stream": "stdout",
       "text": [
        "1017 "
       ]
      },
      {
       "output_type": "stream",
       "stream": "stdout",
       "text": [
        "1018 "
       ]
      },
      {
       "output_type": "stream",
       "stream": "stdout",
       "text": [
        "1019 "
       ]
      },
      {
       "output_type": "stream",
       "stream": "stdout",
       "text": [
        "1020 "
       ]
      },
      {
       "output_type": "stream",
       "stream": "stdout",
       "text": [
        "1021 "
       ]
      },
      {
       "output_type": "stream",
       "stream": "stdout",
       "text": [
        "1022 "
       ]
      },
      {
       "output_type": "stream",
       "stream": "stdout",
       "text": [
        "1023 "
       ]
      },
      {
       "output_type": "stream",
       "stream": "stdout",
       "text": [
        "1024 "
       ]
      },
      {
       "output_type": "stream",
       "stream": "stdout",
       "text": [
        "1025 "
       ]
      },
      {
       "output_type": "stream",
       "stream": "stdout",
       "text": [
        "1026 "
       ]
      },
      {
       "output_type": "stream",
       "stream": "stdout",
       "text": [
        "1027 "
       ]
      },
      {
       "output_type": "stream",
       "stream": "stdout",
       "text": [
        "1028 "
       ]
      },
      {
       "output_type": "stream",
       "stream": "stdout",
       "text": [
        "1029 "
       ]
      },
      {
       "output_type": "stream",
       "stream": "stdout",
       "text": [
        "1030 "
       ]
      },
      {
       "output_type": "stream",
       "stream": "stdout",
       "text": [
        "1031 "
       ]
      },
      {
       "output_type": "stream",
       "stream": "stdout",
       "text": [
        "1032 "
       ]
      },
      {
       "output_type": "stream",
       "stream": "stdout",
       "text": [
        "1033 "
       ]
      },
      {
       "output_type": "stream",
       "stream": "stdout",
       "text": [
        "1034 "
       ]
      },
      {
       "output_type": "stream",
       "stream": "stdout",
       "text": [
        "1035 "
       ]
      },
      {
       "output_type": "stream",
       "stream": "stdout",
       "text": [
        "1036 "
       ]
      },
      {
       "output_type": "stream",
       "stream": "stdout",
       "text": [
        "1037 "
       ]
      },
      {
       "output_type": "stream",
       "stream": "stdout",
       "text": [
        "1038 "
       ]
      },
      {
       "output_type": "stream",
       "stream": "stdout",
       "text": [
        "1039 "
       ]
      },
      {
       "output_type": "stream",
       "stream": "stdout",
       "text": [
        "1040 "
       ]
      },
      {
       "output_type": "stream",
       "stream": "stdout",
       "text": [
        "1041 "
       ]
      },
      {
       "output_type": "stream",
       "stream": "stdout",
       "text": [
        "1042 "
       ]
      },
      {
       "output_type": "stream",
       "stream": "stdout",
       "text": [
        "1043 "
       ]
      },
      {
       "output_type": "stream",
       "stream": "stdout",
       "text": [
        "1044 "
       ]
      },
      {
       "output_type": "stream",
       "stream": "stdout",
       "text": [
        "1045 "
       ]
      },
      {
       "output_type": "stream",
       "stream": "stdout",
       "text": [
        "1046 "
       ]
      },
      {
       "output_type": "stream",
       "stream": "stdout",
       "text": [
        "1047 "
       ]
      },
      {
       "output_type": "stream",
       "stream": "stdout",
       "text": [
        "1048 "
       ]
      },
      {
       "output_type": "stream",
       "stream": "stdout",
       "text": [
        "1049 "
       ]
      },
      {
       "output_type": "stream",
       "stream": "stdout",
       "text": [
        "1050 "
       ]
      },
      {
       "output_type": "stream",
       "stream": "stdout",
       "text": [
        "1051 "
       ]
      },
      {
       "output_type": "stream",
       "stream": "stdout",
       "text": [
        "1052 "
       ]
      },
      {
       "output_type": "stream",
       "stream": "stdout",
       "text": [
        "1053 "
       ]
      },
      {
       "output_type": "stream",
       "stream": "stdout",
       "text": [
        "1054 "
       ]
      },
      {
       "output_type": "stream",
       "stream": "stdout",
       "text": [
        "1055 "
       ]
      },
      {
       "output_type": "stream",
       "stream": "stdout",
       "text": [
        "1056 "
       ]
      },
      {
       "output_type": "stream",
       "stream": "stdout",
       "text": [
        "1057 "
       ]
      },
      {
       "output_type": "stream",
       "stream": "stdout",
       "text": [
        "1058 "
       ]
      },
      {
       "output_type": "stream",
       "stream": "stdout",
       "text": [
        "1059 "
       ]
      },
      {
       "output_type": "stream",
       "stream": "stdout",
       "text": [
        "1060 "
       ]
      },
      {
       "output_type": "stream",
       "stream": "stdout",
       "text": [
        "1061 "
       ]
      },
      {
       "output_type": "stream",
       "stream": "stdout",
       "text": [
        "1062 "
       ]
      },
      {
       "output_type": "stream",
       "stream": "stdout",
       "text": [
        "1063 "
       ]
      },
      {
       "output_type": "stream",
       "stream": "stdout",
       "text": [
        "1064 "
       ]
      },
      {
       "output_type": "stream",
       "stream": "stdout",
       "text": [
        "1065 "
       ]
      },
      {
       "output_type": "stream",
       "stream": "stdout",
       "text": [
        "1066 "
       ]
      },
      {
       "output_type": "stream",
       "stream": "stdout",
       "text": [
        "1067 "
       ]
      },
      {
       "output_type": "stream",
       "stream": "stdout",
       "text": [
        "1068 "
       ]
      },
      {
       "output_type": "stream",
       "stream": "stdout",
       "text": [
        "1069 "
       ]
      },
      {
       "output_type": "stream",
       "stream": "stdout",
       "text": [
        "1070 "
       ]
      },
      {
       "output_type": "stream",
       "stream": "stdout",
       "text": [
        "1071 "
       ]
      },
      {
       "output_type": "stream",
       "stream": "stdout",
       "text": [
        "1072 "
       ]
      },
      {
       "output_type": "stream",
       "stream": "stdout",
       "text": [
        "1073 "
       ]
      },
      {
       "output_type": "stream",
       "stream": "stdout",
       "text": [
        "1074 "
       ]
      },
      {
       "output_type": "stream",
       "stream": "stdout",
       "text": [
        "1075 "
       ]
      },
      {
       "output_type": "stream",
       "stream": "stdout",
       "text": [
        "1076 "
       ]
      },
      {
       "output_type": "stream",
       "stream": "stdout",
       "text": [
        "1077 "
       ]
      },
      {
       "output_type": "stream",
       "stream": "stdout",
       "text": [
        "1078 "
       ]
      },
      {
       "output_type": "stream",
       "stream": "stdout",
       "text": [
        "1079 "
       ]
      },
      {
       "output_type": "stream",
       "stream": "stdout",
       "text": [
        "1080 "
       ]
      },
      {
       "output_type": "stream",
       "stream": "stdout",
       "text": [
        "1081 "
       ]
      },
      {
       "output_type": "stream",
       "stream": "stdout",
       "text": [
        "1082 "
       ]
      },
      {
       "output_type": "stream",
       "stream": "stdout",
       "text": [
        "1083 "
       ]
      },
      {
       "output_type": "stream",
       "stream": "stdout",
       "text": [
        "1084 "
       ]
      },
      {
       "output_type": "stream",
       "stream": "stdout",
       "text": [
        "1085 "
       ]
      },
      {
       "output_type": "stream",
       "stream": "stdout",
       "text": [
        "1086 "
       ]
      },
      {
       "output_type": "stream",
       "stream": "stdout",
       "text": [
        "1087 "
       ]
      },
      {
       "output_type": "stream",
       "stream": "stdout",
       "text": [
        "1088 "
       ]
      },
      {
       "output_type": "stream",
       "stream": "stdout",
       "text": [
        "1089 "
       ]
      },
      {
       "output_type": "stream",
       "stream": "stdout",
       "text": [
        "1090 "
       ]
      },
      {
       "output_type": "stream",
       "stream": "stdout",
       "text": [
        "1091 "
       ]
      },
      {
       "output_type": "stream",
       "stream": "stdout",
       "text": [
        "1092 "
       ]
      },
      {
       "output_type": "stream",
       "stream": "stdout",
       "text": [
        "1093 "
       ]
      },
      {
       "output_type": "stream",
       "stream": "stdout",
       "text": [
        "1094 "
       ]
      },
      {
       "output_type": "stream",
       "stream": "stdout",
       "text": [
        "1095 "
       ]
      },
      {
       "output_type": "stream",
       "stream": "stdout",
       "text": [
        "1096 "
       ]
      },
      {
       "output_type": "stream",
       "stream": "stdout",
       "text": [
        "1097 "
       ]
      },
      {
       "output_type": "stream",
       "stream": "stdout",
       "text": [
        "1098 "
       ]
      },
      {
       "output_type": "stream",
       "stream": "stdout",
       "text": [
        "1099 "
       ]
      },
      {
       "output_type": "stream",
       "stream": "stdout",
       "text": [
        "1100 "
       ]
      },
      {
       "output_type": "stream",
       "stream": "stdout",
       "text": [
        "1101 "
       ]
      },
      {
       "output_type": "stream",
       "stream": "stdout",
       "text": [
        "1102 "
       ]
      },
      {
       "output_type": "stream",
       "stream": "stdout",
       "text": [
        "1103 "
       ]
      },
      {
       "output_type": "stream",
       "stream": "stdout",
       "text": [
        "1104 "
       ]
      },
      {
       "output_type": "stream",
       "stream": "stdout",
       "text": [
        "1105 "
       ]
      },
      {
       "output_type": "stream",
       "stream": "stdout",
       "text": [
        "1106 "
       ]
      },
      {
       "output_type": "stream",
       "stream": "stdout",
       "text": [
        "1107 "
       ]
      },
      {
       "output_type": "stream",
       "stream": "stdout",
       "text": [
        "1108 "
       ]
      },
      {
       "output_type": "stream",
       "stream": "stdout",
       "text": [
        "1109 "
       ]
      },
      {
       "output_type": "stream",
       "stream": "stdout",
       "text": [
        "1110 "
       ]
      },
      {
       "output_type": "stream",
       "stream": "stdout",
       "text": [
        "1111 "
       ]
      },
      {
       "output_type": "stream",
       "stream": "stdout",
       "text": [
        "1112 "
       ]
      },
      {
       "output_type": "stream",
       "stream": "stdout",
       "text": [
        "1113 "
       ]
      },
      {
       "output_type": "stream",
       "stream": "stdout",
       "text": [
        "1114 "
       ]
      },
      {
       "output_type": "stream",
       "stream": "stdout",
       "text": [
        "1115 "
       ]
      },
      {
       "output_type": "stream",
       "stream": "stdout",
       "text": [
        "1116 "
       ]
      },
      {
       "output_type": "stream",
       "stream": "stdout",
       "text": [
        "1117 "
       ]
      },
      {
       "output_type": "stream",
       "stream": "stdout",
       "text": [
        "1118 "
       ]
      },
      {
       "output_type": "stream",
       "stream": "stdout",
       "text": [
        "1119 "
       ]
      },
      {
       "output_type": "stream",
       "stream": "stdout",
       "text": [
        "1120 "
       ]
      },
      {
       "output_type": "stream",
       "stream": "stdout",
       "text": [
        "1121 "
       ]
      },
      {
       "output_type": "stream",
       "stream": "stdout",
       "text": [
        "1122 "
       ]
      },
      {
       "output_type": "stream",
       "stream": "stdout",
       "text": [
        "1123 "
       ]
      },
      {
       "output_type": "stream",
       "stream": "stdout",
       "text": [
        "1124 "
       ]
      },
      {
       "output_type": "stream",
       "stream": "stdout",
       "text": [
        "1125 "
       ]
      },
      {
       "output_type": "stream",
       "stream": "stdout",
       "text": [
        "1126 "
       ]
      },
      {
       "output_type": "stream",
       "stream": "stdout",
       "text": [
        "1127 "
       ]
      },
      {
       "output_type": "stream",
       "stream": "stdout",
       "text": [
        "1128 "
       ]
      },
      {
       "output_type": "stream",
       "stream": "stdout",
       "text": [
        "1129 "
       ]
      },
      {
       "output_type": "stream",
       "stream": "stdout",
       "text": [
        "1130 "
       ]
      },
      {
       "output_type": "stream",
       "stream": "stdout",
       "text": [
        "1131 "
       ]
      },
      {
       "output_type": "stream",
       "stream": "stdout",
       "text": [
        "1132 "
       ]
      },
      {
       "output_type": "stream",
       "stream": "stdout",
       "text": [
        "1133 "
       ]
      },
      {
       "output_type": "stream",
       "stream": "stdout",
       "text": [
        "1134 "
       ]
      },
      {
       "output_type": "stream",
       "stream": "stdout",
       "text": [
        "1135 "
       ]
      },
      {
       "output_type": "stream",
       "stream": "stdout",
       "text": [
        "1136 "
       ]
      },
      {
       "output_type": "stream",
       "stream": "stdout",
       "text": [
        "1137 "
       ]
      },
      {
       "output_type": "stream",
       "stream": "stdout",
       "text": [
        "1138 "
       ]
      },
      {
       "output_type": "stream",
       "stream": "stdout",
       "text": [
        "1139 "
       ]
      },
      {
       "output_type": "stream",
       "stream": "stdout",
       "text": [
        "1140 "
       ]
      },
      {
       "output_type": "stream",
       "stream": "stdout",
       "text": [
        "1141 "
       ]
      },
      {
       "output_type": "stream",
       "stream": "stdout",
       "text": [
        "1142 "
       ]
      },
      {
       "output_type": "stream",
       "stream": "stdout",
       "text": [
        "1143 "
       ]
      },
      {
       "output_type": "stream",
       "stream": "stdout",
       "text": [
        "1144 "
       ]
      },
      {
       "output_type": "stream",
       "stream": "stdout",
       "text": [
        "1145 "
       ]
      },
      {
       "output_type": "stream",
       "stream": "stdout",
       "text": [
        "1146 "
       ]
      },
      {
       "output_type": "stream",
       "stream": "stdout",
       "text": [
        "1147 "
       ]
      },
      {
       "output_type": "stream",
       "stream": "stdout",
       "text": [
        "1148 "
       ]
      },
      {
       "output_type": "stream",
       "stream": "stdout",
       "text": [
        "1149 "
       ]
      },
      {
       "output_type": "stream",
       "stream": "stdout",
       "text": [
        "1150 "
       ]
      },
      {
       "output_type": "stream",
       "stream": "stdout",
       "text": [
        "1151 "
       ]
      },
      {
       "output_type": "stream",
       "stream": "stdout",
       "text": [
        "1152 "
       ]
      },
      {
       "output_type": "stream",
       "stream": "stdout",
       "text": [
        "1153 "
       ]
      },
      {
       "output_type": "stream",
       "stream": "stdout",
       "text": [
        "1154 "
       ]
      },
      {
       "output_type": "stream",
       "stream": "stdout",
       "text": [
        "1155 "
       ]
      },
      {
       "output_type": "stream",
       "stream": "stdout",
       "text": [
        "1156 "
       ]
      },
      {
       "output_type": "stream",
       "stream": "stdout",
       "text": [
        "1157 "
       ]
      },
      {
       "output_type": "stream",
       "stream": "stdout",
       "text": [
        "1158 "
       ]
      },
      {
       "output_type": "stream",
       "stream": "stdout",
       "text": [
        "1159 "
       ]
      },
      {
       "output_type": "stream",
       "stream": "stdout",
       "text": [
        "1160 "
       ]
      },
      {
       "output_type": "stream",
       "stream": "stdout",
       "text": [
        "1161 "
       ]
      },
      {
       "output_type": "stream",
       "stream": "stdout",
       "text": [
        "1162 "
       ]
      },
      {
       "output_type": "stream",
       "stream": "stdout",
       "text": [
        "1163 "
       ]
      },
      {
       "output_type": "stream",
       "stream": "stdout",
       "text": [
        "1164 "
       ]
      },
      {
       "output_type": "stream",
       "stream": "stdout",
       "text": [
        "1165 "
       ]
      },
      {
       "output_type": "stream",
       "stream": "stdout",
       "text": [
        "1166 "
       ]
      },
      {
       "output_type": "stream",
       "stream": "stdout",
       "text": [
        "1167 "
       ]
      },
      {
       "output_type": "stream",
       "stream": "stdout",
       "text": [
        "1168 "
       ]
      },
      {
       "output_type": "stream",
       "stream": "stdout",
       "text": [
        "1169 "
       ]
      },
      {
       "output_type": "stream",
       "stream": "stdout",
       "text": [
        "1170 "
       ]
      },
      {
       "output_type": "stream",
       "stream": "stdout",
       "text": [
        "1171 "
       ]
      },
      {
       "output_type": "stream",
       "stream": "stdout",
       "text": [
        "1172 "
       ]
      },
      {
       "output_type": "stream",
       "stream": "stdout",
       "text": [
        "1173 "
       ]
      },
      {
       "output_type": "stream",
       "stream": "stdout",
       "text": [
        "1174 "
       ]
      },
      {
       "output_type": "stream",
       "stream": "stdout",
       "text": [
        "1175 "
       ]
      },
      {
       "output_type": "stream",
       "stream": "stdout",
       "text": [
        "1176 "
       ]
      },
      {
       "output_type": "stream",
       "stream": "stdout",
       "text": [
        "1177 "
       ]
      },
      {
       "output_type": "stream",
       "stream": "stdout",
       "text": [
        "1178 "
       ]
      },
      {
       "output_type": "stream",
       "stream": "stdout",
       "text": [
        "1179 "
       ]
      },
      {
       "output_type": "stream",
       "stream": "stdout",
       "text": [
        "1180 "
       ]
      },
      {
       "output_type": "stream",
       "stream": "stdout",
       "text": [
        "1181 "
       ]
      },
      {
       "output_type": "stream",
       "stream": "stdout",
       "text": [
        "1182 "
       ]
      },
      {
       "output_type": "stream",
       "stream": "stdout",
       "text": [
        "1183 "
       ]
      },
      {
       "output_type": "stream",
       "stream": "stdout",
       "text": [
        "1184 "
       ]
      },
      {
       "output_type": "stream",
       "stream": "stdout",
       "text": [
        "1185 "
       ]
      },
      {
       "output_type": "stream",
       "stream": "stdout",
       "text": [
        "1186 "
       ]
      },
      {
       "output_type": "stream",
       "stream": "stdout",
       "text": [
        "1187 "
       ]
      },
      {
       "output_type": "stream",
       "stream": "stdout",
       "text": [
        "1188 "
       ]
      },
      {
       "output_type": "stream",
       "stream": "stdout",
       "text": [
        "1189 "
       ]
      },
      {
       "output_type": "stream",
       "stream": "stdout",
       "text": [
        "1190 "
       ]
      },
      {
       "output_type": "stream",
       "stream": "stdout",
       "text": [
        "1191 "
       ]
      },
      {
       "output_type": "stream",
       "stream": "stdout",
       "text": [
        "1192 "
       ]
      },
      {
       "output_type": "stream",
       "stream": "stdout",
       "text": [
        "1193 "
       ]
      },
      {
       "output_type": "stream",
       "stream": "stdout",
       "text": [
        "1194 "
       ]
      },
      {
       "output_type": "stream",
       "stream": "stdout",
       "text": [
        "1195 "
       ]
      },
      {
       "output_type": "stream",
       "stream": "stdout",
       "text": [
        "1196 "
       ]
      },
      {
       "output_type": "stream",
       "stream": "stdout",
       "text": [
        "1197 "
       ]
      },
      {
       "output_type": "stream",
       "stream": "stdout",
       "text": [
        "1198 "
       ]
      },
      {
       "output_type": "stream",
       "stream": "stdout",
       "text": [
        "1199 "
       ]
      },
      {
       "output_type": "stream",
       "stream": "stdout",
       "text": [
        "1200 "
       ]
      },
      {
       "output_type": "stream",
       "stream": "stdout",
       "text": [
        "1201 "
       ]
      },
      {
       "output_type": "stream",
       "stream": "stdout",
       "text": [
        "1202 "
       ]
      },
      {
       "output_type": "stream",
       "stream": "stdout",
       "text": [
        "1203 "
       ]
      },
      {
       "output_type": "stream",
       "stream": "stdout",
       "text": [
        "1204 "
       ]
      },
      {
       "output_type": "stream",
       "stream": "stdout",
       "text": [
        "1205 "
       ]
      },
      {
       "output_type": "stream",
       "stream": "stdout",
       "text": [
        "1206 "
       ]
      },
      {
       "output_type": "stream",
       "stream": "stdout",
       "text": [
        "1207 "
       ]
      },
      {
       "output_type": "stream",
       "stream": "stdout",
       "text": [
        "1208 "
       ]
      },
      {
       "output_type": "stream",
       "stream": "stdout",
       "text": [
        "1209 "
       ]
      },
      {
       "output_type": "stream",
       "stream": "stdout",
       "text": [
        "1210 "
       ]
      },
      {
       "output_type": "stream",
       "stream": "stdout",
       "text": [
        "1211 "
       ]
      },
      {
       "output_type": "stream",
       "stream": "stdout",
       "text": [
        "1212 "
       ]
      },
      {
       "output_type": "stream",
       "stream": "stdout",
       "text": [
        "1213 "
       ]
      },
      {
       "output_type": "stream",
       "stream": "stdout",
       "text": [
        "1214 "
       ]
      },
      {
       "output_type": "stream",
       "stream": "stdout",
       "text": [
        "1215 "
       ]
      },
      {
       "output_type": "stream",
       "stream": "stdout",
       "text": [
        "1216 "
       ]
      },
      {
       "output_type": "stream",
       "stream": "stdout",
       "text": [
        "1217 "
       ]
      },
      {
       "output_type": "stream",
       "stream": "stdout",
       "text": [
        "1218 "
       ]
      },
      {
       "output_type": "stream",
       "stream": "stdout",
       "text": [
        "1219 "
       ]
      },
      {
       "output_type": "stream",
       "stream": "stdout",
       "text": [
        "1220 "
       ]
      },
      {
       "output_type": "stream",
       "stream": "stdout",
       "text": [
        "1221 "
       ]
      },
      {
       "output_type": "stream",
       "stream": "stdout",
       "text": [
        "1222 "
       ]
      },
      {
       "output_type": "stream",
       "stream": "stdout",
       "text": [
        "1223 "
       ]
      },
      {
       "output_type": "stream",
       "stream": "stdout",
       "text": [
        "1224 "
       ]
      },
      {
       "output_type": "stream",
       "stream": "stdout",
       "text": [
        "1225 "
       ]
      },
      {
       "output_type": "stream",
       "stream": "stdout",
       "text": [
        "1226 "
       ]
      },
      {
       "output_type": "stream",
       "stream": "stdout",
       "text": [
        "1227 "
       ]
      },
      {
       "output_type": "stream",
       "stream": "stdout",
       "text": [
        "1228 "
       ]
      },
      {
       "output_type": "stream",
       "stream": "stdout",
       "text": [
        "1229 "
       ]
      },
      {
       "output_type": "stream",
       "stream": "stdout",
       "text": [
        "1230 "
       ]
      },
      {
       "output_type": "stream",
       "stream": "stdout",
       "text": [
        "1231 "
       ]
      },
      {
       "output_type": "stream",
       "stream": "stdout",
       "text": [
        "1232 "
       ]
      },
      {
       "output_type": "stream",
       "stream": "stdout",
       "text": [
        "1233 "
       ]
      },
      {
       "output_type": "stream",
       "stream": "stdout",
       "text": [
        "1234 "
       ]
      },
      {
       "output_type": "stream",
       "stream": "stdout",
       "text": [
        "1235 "
       ]
      },
      {
       "output_type": "stream",
       "stream": "stdout",
       "text": [
        "1236 "
       ]
      },
      {
       "output_type": "stream",
       "stream": "stdout",
       "text": [
        "1237 "
       ]
      },
      {
       "output_type": "stream",
       "stream": "stdout",
       "text": [
        "1238 "
       ]
      },
      {
       "output_type": "stream",
       "stream": "stdout",
       "text": [
        "1239 "
       ]
      },
      {
       "output_type": "stream",
       "stream": "stdout",
       "text": [
        "1240 "
       ]
      },
      {
       "output_type": "stream",
       "stream": "stdout",
       "text": [
        "1241 "
       ]
      },
      {
       "output_type": "stream",
       "stream": "stdout",
       "text": [
        "1242 "
       ]
      },
      {
       "output_type": "stream",
       "stream": "stdout",
       "text": [
        "1243 "
       ]
      },
      {
       "output_type": "stream",
       "stream": "stdout",
       "text": [
        "1244 "
       ]
      },
      {
       "output_type": "stream",
       "stream": "stdout",
       "text": [
        "1245 "
       ]
      },
      {
       "output_type": "stream",
       "stream": "stdout",
       "text": [
        "1246 "
       ]
      },
      {
       "output_type": "stream",
       "stream": "stdout",
       "text": [
        "1247 "
       ]
      },
      {
       "output_type": "stream",
       "stream": "stdout",
       "text": [
        "1248 "
       ]
      },
      {
       "output_type": "stream",
       "stream": "stdout",
       "text": [
        "1249 "
       ]
      },
      {
       "output_type": "stream",
       "stream": "stdout",
       "text": [
        "1250 "
       ]
      },
      {
       "output_type": "stream",
       "stream": "stdout",
       "text": [
        "1251 "
       ]
      },
      {
       "output_type": "stream",
       "stream": "stdout",
       "text": [
        "1252 "
       ]
      },
      {
       "output_type": "stream",
       "stream": "stdout",
       "text": [
        "1253 "
       ]
      },
      {
       "output_type": "stream",
       "stream": "stdout",
       "text": [
        "1254 "
       ]
      },
      {
       "output_type": "stream",
       "stream": "stdout",
       "text": [
        "1255 "
       ]
      },
      {
       "output_type": "stream",
       "stream": "stdout",
       "text": [
        "1256 "
       ]
      },
      {
       "output_type": "stream",
       "stream": "stdout",
       "text": [
        "1257 "
       ]
      },
      {
       "output_type": "stream",
       "stream": "stdout",
       "text": [
        "1258 "
       ]
      },
      {
       "output_type": "stream",
       "stream": "stdout",
       "text": [
        "1259 "
       ]
      },
      {
       "output_type": "stream",
       "stream": "stdout",
       "text": [
        "1260 "
       ]
      },
      {
       "output_type": "stream",
       "stream": "stdout",
       "text": [
        "1261 "
       ]
      },
      {
       "output_type": "stream",
       "stream": "stdout",
       "text": [
        "1262 "
       ]
      },
      {
       "output_type": "stream",
       "stream": "stdout",
       "text": [
        "1263 "
       ]
      },
      {
       "output_type": "stream",
       "stream": "stdout",
       "text": [
        "1264 "
       ]
      },
      {
       "output_type": "stream",
       "stream": "stdout",
       "text": [
        "1265 "
       ]
      },
      {
       "output_type": "stream",
       "stream": "stdout",
       "text": [
        "1266 "
       ]
      },
      {
       "output_type": "stream",
       "stream": "stdout",
       "text": [
        "1267 "
       ]
      },
      {
       "output_type": "stream",
       "stream": "stdout",
       "text": [
        "1268 "
       ]
      },
      {
       "output_type": "stream",
       "stream": "stdout",
       "text": [
        "1269 "
       ]
      },
      {
       "output_type": "stream",
       "stream": "stdout",
       "text": [
        "1270 "
       ]
      },
      {
       "output_type": "stream",
       "stream": "stdout",
       "text": [
        "1271 "
       ]
      },
      {
       "output_type": "stream",
       "stream": "stdout",
       "text": [
        "1272 "
       ]
      },
      {
       "output_type": "stream",
       "stream": "stdout",
       "text": [
        "1273 "
       ]
      },
      {
       "output_type": "stream",
       "stream": "stdout",
       "text": [
        "1274 "
       ]
      },
      {
       "output_type": "stream",
       "stream": "stdout",
       "text": [
        "1275 "
       ]
      },
      {
       "output_type": "stream",
       "stream": "stdout",
       "text": [
        "1276 "
       ]
      },
      {
       "output_type": "stream",
       "stream": "stdout",
       "text": [
        "1277 "
       ]
      },
      {
       "output_type": "stream",
       "stream": "stdout",
       "text": [
        "1278 "
       ]
      },
      {
       "output_type": "stream",
       "stream": "stdout",
       "text": [
        "1279\n"
       ]
      }
     ],
     "prompt_number": 10
    },
    {
     "cell_type": "code",
     "collapsed": false,
     "input": [
      "## try finding best number of gaussians for gmm\n",
      "labelledPairs = np.load(\"labelledPairs_better.npy\")\n",
      "# labelledPairs = np.load(\"appearanceLabelledPairs_setchoice.npy\")\n",
      "labelledData = []\n",
      "for labelledPair in labelledPairs :\n",
      "    labelledData.append(getFramesPairFeatures(frameFeatures[int(labelledPair[0])], frameFeatures[int(labelledPair[1])], pairFeatTypes))\n",
      "\n",
      "labelledData = np.ndarray.flatten(np.array(labelledData))\n",
      "labelledData = labelledData.reshape((len(labelledData)/hogOrientations, hogOrientations))\n",
      "print labelledData.shape"
     ],
     "language": "python",
     "metadata": {},
     "outputs": [
      {
       "ename": "NameError",
       "evalue": "name 'frameFeatures' is not defined",
       "output_type": "pyerr",
       "traceback": [
        "\u001b[0;31m---------------------------------------------------------------------------\u001b[0m\n\u001b[0;31mNameError\u001b[0m                                 Traceback (most recent call last)",
        "\u001b[0;32m<ipython-input-10-11eb00be21a7>\u001b[0m in \u001b[0;36m<module>\u001b[0;34m()\u001b[0m\n\u001b[1;32m      4\u001b[0m \u001b[0mlabelledData\u001b[0m \u001b[0;34m=\u001b[0m \u001b[0;34m[\u001b[0m\u001b[0;34m]\u001b[0m\u001b[0;34m\u001b[0m\u001b[0m\n\u001b[1;32m      5\u001b[0m \u001b[0;32mfor\u001b[0m \u001b[0mlabelledPair\u001b[0m \u001b[0;32min\u001b[0m \u001b[0mlabelledPairs\u001b[0m \u001b[0;34m:\u001b[0m\u001b[0;34m\u001b[0m\u001b[0m\n\u001b[0;32m----> 6\u001b[0;31m     \u001b[0mlabelledData\u001b[0m\u001b[0;34m.\u001b[0m\u001b[0mappend\u001b[0m\u001b[0;34m(\u001b[0m\u001b[0mgetFramesPairFeatures\u001b[0m\u001b[0;34m(\u001b[0m\u001b[0mframeFeatures\u001b[0m\u001b[0;34m[\u001b[0m\u001b[0mint\u001b[0m\u001b[0;34m(\u001b[0m\u001b[0mlabelledPair\u001b[0m\u001b[0;34m[\u001b[0m\u001b[0;36m0\u001b[0m\u001b[0;34m]\u001b[0m\u001b[0;34m)\u001b[0m\u001b[0;34m]\u001b[0m\u001b[0;34m,\u001b[0m \u001b[0mframeFeatures\u001b[0m\u001b[0;34m[\u001b[0m\u001b[0mint\u001b[0m\u001b[0;34m(\u001b[0m\u001b[0mlabelledPair\u001b[0m\u001b[0;34m[\u001b[0m\u001b[0;36m1\u001b[0m\u001b[0;34m]\u001b[0m\u001b[0;34m)\u001b[0m\u001b[0;34m]\u001b[0m\u001b[0;34m,\u001b[0m \u001b[0mpairFeatTypes\u001b[0m\u001b[0;34m)\u001b[0m\u001b[0;34m)\u001b[0m\u001b[0;34m\u001b[0m\u001b[0m\n\u001b[0m\u001b[1;32m      7\u001b[0m \u001b[0;34m\u001b[0m\u001b[0m\n\u001b[1;32m      8\u001b[0m \u001b[0mlabelledData\u001b[0m \u001b[0;34m=\u001b[0m \u001b[0mnp\u001b[0m\u001b[0;34m.\u001b[0m\u001b[0mndarray\u001b[0m\u001b[0;34m.\u001b[0m\u001b[0mflatten\u001b[0m\u001b[0;34m(\u001b[0m\u001b[0mnp\u001b[0m\u001b[0;34m.\u001b[0m\u001b[0marray\u001b[0m\u001b[0;34m(\u001b[0m\u001b[0mlabelledData\u001b[0m\u001b[0;34m)\u001b[0m\u001b[0;34m)\u001b[0m\u001b[0;34m\u001b[0m\u001b[0m\n",
        "\u001b[0;31mNameError\u001b[0m: name 'frameFeatures' is not defined"
       ]
      }
     ],
     "prompt_number": 10
    },
    {
     "cell_type": "code",
     "collapsed": false,
     "input": [
      "print gmModel.converged_\n",
      "GMM(n_components=3).converged_"
     ],
     "language": "python",
     "metadata": {},
     "outputs": [
      {
       "output_type": "stream",
       "stream": "stdout",
       "text": [
        "False\n"
       ]
      },
      {
       "metadata": {},
       "output_type": "pyout",
       "prompt_number": 124,
       "text": [
        "False"
       ]
      }
     ],
     "prompt_number": 124
    },
    {
     "cell_type": "code",
     "collapsed": false,
     "input": [
      "validationSetSize = int(len(labelledData)*0.1)\n",
      "validationSet = random.choice(arange(len(labelledData)), validationSetSize, replace=False)\n",
      "trainingSet = np.setdiff1d(arange(len(labelledData)), validationSet)\n",
      "\n",
      "for numComponents in xrange(5, 64, 1) :\n",
      "    print numComponents,\n",
      "    gmModel = fitGMM(labelledData[trainingSet, :], numComponents)\n",
      "    print gmModel.converged_, \n",
      "    print \"finished training\",\n",
      "    sys.stdout.flush()\n",
      "    gmScores = gmModel.score(labelledData[validationSet, :])\n",
      "    print \"\\t->\\tavg score is\", np.mean(gmScores)\n",
      "    sys.stdout.flush()"
     ],
     "language": "python",
     "metadata": {},
     "outputs": [],
     "prompt_number": 14
    },
    {
     "cell_type": "code",
     "collapsed": false,
     "input": [
      "numComponents = 10\n",
      "# gmModel = fitGMM(labelledData, numComponents)"
     ],
     "language": "python",
     "metadata": {},
     "outputs": [],
     "prompt_number": 12
    },
    {
     "cell_type": "code",
     "collapsed": false,
     "input": [
      "tic = time.time()\n",
      "modelMeans = gmModel.means_\n",
      "print modelMeans.shape\n",
      "imgData = labelledData[0:frameFeatures[0].shape[0]/hogOrientations, :]\n",
      "featDim = imgData.shape[-1]\n",
      "print imgData.shape\n",
      "##get prior probability pi for each component\n",
      "priors = gmModel.weights_\n",
      "print priors.shape\n",
      "##get posterior probabilities q for each data point and each component\n",
      "posteriors = gmModel.predict_proba(imgData)\n",
      "print posteriors.shape\n",
      "\n",
      "us = np.empty(0)\n",
      "vs = np.empty(0)\n",
      "## this one uses the formulation given by vlfeat\n",
      "for k in xrange(numComponents) :\n",
      "    ## get covariance matrix for component k\n",
      "    kCompCov = gmModel.covars_[k, :]\n",
      "    \n",
      "    kCompMeansRep = modelMeans[k, :].reshape((1, featDim)).repeat(imgData.shape[0], axis=0)\n",
      "    kCompCovRep = kCompCov.reshape((1, featDim)).repeat(imgData.shape[0], axis=0)\n",
      "    kCompPostRep = posteriors[:, k].reshape((imgData.shape[0], 1)).repeat(featDim, axis=-1)\n",
      "    \n",
      "    uk = np.sum(kCompPostRep*(imgData-kCompMeansRep)/kCompCovRep, axis=0)\n",
      "    uk /= (imgData.shape[0]*np.sqrt(priors[k]))\n",
      "    us = np.concatenate((us, uk))\n",
      "    \n",
      "    vk = np.sum(kCompPostRep*((((imgData-kCompMeansRep)/kCompCovRep)**2)-1), axis=0)\n",
      "    vk /= (imgData.shape[0]*np.sqrt(2*priors[k]))\n",
      "    vs = np.concatenate((vs, vk))\n",
      "    \n",
      "encodedFeats = np.concatenate((us, vs))\n",
      "\n",
      "print time.time()-tic\n",
      "### this one uses the formulation given by the chatfield evaluation but vk doesn't really make sense\n",
      "# for k in xrange(1):#numComponents) :\n",
      "#     ## get covariance matrix for component k\n",
      "#     cov = gmModel.covars_[k, :]*np.eye(featDim)\n",
      "#     invSqrtCov = np.linalg.inv(np.sqrt(cov))\n",
      "#     invCov = np.linalg.inv(cov)\n",
      "    \n",
      "#     invSqrtCovRep = invSqrtCov.reshape((1, featDim, featDim)).repeat(imgData.shape[0], axis=0)\n",
      "#     invCovRep = invCov.reshape((1, featDim, featDim)).repeat(imgData.shape[0], axis=0)\n",
      "#     kCompMeansRep = modelMeans[k, :].reshape((1, featDim)).repeat(imgData.shape[0], axis=0)\n",
      "#     kCompPostRep = posteriors[:, k].reshape((imgData.shape[0], 1, 1)).repeat(featDim, axis=1).repeat(featDim, axis=-1)\n",
      "#     dataMinusMeanRep = (imgData-kCompMeansRep).reshape((imgData.shape[0], 1, featDim)).repeat(featDim, axis=1)\n",
      "    \n",
      "#     uk = np.sum(kCompPostRep*invSqrtCovRep*dataMinusMeanRep, axis=-1)\n",
      "#     uk = np.sum(uk, axis=0)/(imgData.shape[0]*np.sqrt(priors[k]))\n",
      "    \n",
      "#     vk = "
     ],
     "language": "python",
     "metadata": {},
     "outputs": [
      {
       "output_type": "stream",
       "stream": "stdout",
       "text": [
        "(10, 8)\n",
        "(3600, 8)\n",
        "(10,)\n",
        "(3600, 10)\n",
        "0.0102350711823\n"
       ]
      }
     ],
     "prompt_number": 40
    },
    {
     "cell_type": "code",
     "collapsed": false,
     "input": [
      "########### LOAD LABELLED PAIRS, FIT K-MEANS OR GMM IF USING ENCODING AND COMPUTE LABELLED PAIRS FEATURES ###########\n",
      "\n",
      "# labelledPairs = np.copy(window.labelledPairs)\n",
      "# labelledPairs = np.load(\"labelledPairs.npy\")\n",
      "# labelledPairs = np.load(\"labelledPairs_better.npy\")\n",
      "# labelledPairs = np.load(\"labelledPairs_better_x3.npy\")\n",
      "# labelledPairs = np.load(\"appearanceLabelledPairs.npy\")\n",
      "labelledPairs = np.load(\"appearanceLabelledPairs_setchoice.npy\")\n",
      "print len(labelledPairs), \"labelled pairs\"\n",
      "labelledData = []\n",
      "histBins = 256\n",
      "\n",
      "## check if encoding is being used for frame features\n",
      "if K_MEANS_HIST in frameFeatTypes or FISHER in frameFeatTypes :\n",
      "    print \"encoding frame features\", \n",
      "    \n",
      "    ## get the single frame features from set of labelled frames\n",
      "    labelledFrameFeats = [ frameFeatures[frameIdx] for frameIdx in np.array(np.unique(np.ndarray.flatten(labelledPairs[:, 0:2])), dtype=int)]\n",
      "    \n",
      "    ## flatten the single frame features and reshape them to fit k-means clusterer or gmm \n",
      "    flatLabelledFeats = np.ndarray.flatten(np.array(labelledFrameFeats))\n",
      "    if HOG_FEAT in frameFeatTypes :\n",
      "        flatLabelledFeats = flatLabelledFeats.reshape((len(flatLabelledFeats)/hogOrientations, hogOrientations))\n",
      "    \n",
      "    if K_MEANS_HIST in frameFeatTypes :\n",
      "        print \"using K-means histogram\"\n",
      "        clusterer = fitKmeansClusterer(flatLabelledFeats, histBins)\n",
      "        for i in xrange(len(frameFeatures)) :\n",
      "            if HOG_FEAT in frameFeatTypes :\n",
      "                frameFeatures[i] = getKMeansHistEncoding(frameFeatures[i], (len(frameFeatures[i])/hogOrientations, hogOrientations), clusterer)\n",
      "            else :\n",
      "                frameFeatures[i] = getKMeansHistEncoding(frameFeatures[i], frameFeatures[i].shape, clusterer)\n",
      "                \n",
      "            sys.stdout.write('\\r' + \"Encoded frame \" + np.string_(i) + \" of \" + np.string_(int(numFrames)))\n",
      "            sys.stdout.flush()\n",
      "        print\n",
      "        \n",
      "    elif FISHER in frameFeatTypes :\n",
      "        print \"using fisher\"\n",
      "        \n",
      "elif K_MEANS_HIST in pairFeatTypes or FISHER in pairFeatTypes :\n",
      "    print \"encoding pair features\", \n",
      "    \n",
      "    ## get the pair frame features from set of labelled frames\n",
      "    labelledPairFeats = []\n",
      "    for labelledPair in labelledPairs :\n",
      "        labelledPairFeats.append(getFramesPairFeatures(frameFeatures[int(labelledPair[0])], frameFeatures[int(labelledPair[1])], pairFeatTypes))\n",
      "    \n",
      "    ## flatten the single frame features and reshape them to fit k-means clusterer or gmm \n",
      "    flatLabelledFeats = np.ndarray.flatten(np.array(labelledPairFeats))\n",
      "    if HOG_FEAT in frameFeatTypes :\n",
      "        flatLabelledFeats = flatLabelledFeats.reshape((len(flatLabelledFeats)/hogOrientations, hogOrientations))\n",
      "    \n",
      "    if K_MEANS_HIST in pairFeatTypes :\n",
      "        print \"using K-means histogram\"\n",
      "        clusterer = fitKmeansClusterer(flatLabelledFeats, histBins)\n",
      "            \n",
      "    elif FISHER in pairFeatTypes :\n",
      "        print \"using fisher\"\n",
      "        gmModel = fitGMM(flatLabelledFeats, 10)\n",
      "        \n",
      "for labelledPair, i in zip(labelledPairs, arange(len(labelledPairs))) :\n",
      "    if K_MEANS_HIST in pairFeatTypes :\n",
      "        labelledData.append(getFramesPairFeatures(frameFeatures[int(labelledPair[0])], frameFeatures[int(labelledPair[1])], pairFeatTypes, kmeansClusterer=clusterer))\n",
      "    elif FISHER in pairFeatTypes :\n",
      "        labelledData.append(getFramesPairFeatures(frameFeatures[int(labelledPair[0])], frameFeatures[int(labelledPair[1])], pairFeatTypes, gmModel=gmModel))\n",
      "    elif L2_DIST in pairFeatTypes :\n",
      "        labelledData.append(getFramesPairFeatures(frameFeatures[int(labelledPair[0])].reshape((len(frameFeatures[0])/hogOrientations, hogOrientations)), frameFeatures[int(labelledPair[1])].reshape((len(frameFeatures[0])/hogOrientations, hogOrientations)), pairFeatTypes))\n",
      "#     frame1Loc = frames[int(labelledPair[0])]\n",
      "#     frame1Matte = mattes[int(labelledPair[0])]\n",
      "#     frame2Loc = frames[int(labelledPair[1])]\n",
      "#     frame2Matte = mattes[int(labelledPair[1])]\n",
      "#     labelledData.append(getFramesPairFeatures(frameFeatures[int(labelledPair[0])], frameFeatures[int(labelledPair[1])], pairFeatTypes, kmeansClusterer=clusterer))\n",
      "    ## with grid features\n",
      "#     labelledData.append(getFramesPairFeatures(features[int(labelledPair[0])], features[int(labelledPair[1])], pairFeatTypes))\n",
      "    ## no encoding\n",
      "#     labelledData.append(getFramesPairFeatures(getFrameFeatures(frame1Loc, frameFeatTypes, frame1Matte), getFrameFeatures(frame2Loc, frameFeatTypes, frame2Matte), pairFeatTypes))\n",
      "#     labelledData.append(getFramesPairFeatures(frameFeatures[int(labelledPair[0])], frameFeatures[int(labelledPair[1])], pairFeatTypes))\n",
      "    ## no encoding and taking L2_DIST of orientations-size hog vectors\n",
      "#     labelledData.append(getFramesPairFeatures(frameFeatures[int(labelledPair[0])].reshape((len(frameFeatures[0])/hogOrientations, hogOrientations)), frameFeatures[int(labelledPair[1])].reshape((len(frameFeatures[0])/hogOrientations, hogOrientations)), pairFeatTypes))\n",
      "    ## encoding single frames' features\n",
      "#     labelledData.append(getFramesPairFeatures(encodedFrameFeatures[int(labelledPair[0])][0], encodedFrameFeatures[int(labelledPair[1])][0], pairFeatTypes))\n",
      "    ## encoding pairwise hog features\n",
      "#     pairwiseFeats = getFramesPairFeatures(frameFeatures[int(labelledPair[0])], frameFeatures[int(labelledPair[1])], pairFeatTypes)\n",
      "#     labelledData.append(np.histogram(clusterer.predict(np.reshape(pairwiseFeats, (len(pairwiseFeats)/hogOrientations, hogOrientations))), bins=256)[0])\n",
      "#     labelledData.append(getFramesPairFeatures(frameFeatures[int(labelledPair[0])], frameFeatures[int(labelledPair[1])], [ABS_DIFF, K_MEANS_HIST], kmeansClusterer=clusterer))\n",
      "    \n",
      "    sys.stdout.write('\\r' + \"Done \" + np.string_(i+1) + \" pairs: \" + np.string_(int(labelledPair[0])) + \" - \" + np.string_(int(labelledPair[1])))\n",
      "    sys.stdout.flush()\n"
     ],
     "language": "python",
     "metadata": {},
     "outputs": [
      {
       "output_type": "stream",
       "stream": "stdout",
       "text": [
        "150 labelled pairs\n",
        "encoding pair features No gm model has been specified\n",
        "No gm model has been specified\n",
        "No gm model has been specified\n",
        "No gm model has been specified\n",
        "No gm model has been specified\n",
        "No gm model has been specified\n",
        "No gm model has been specified\n",
        "No gm model has been specified\n",
        "No gm model has been specified\n",
        "No gm model has been specified\n",
        "No gm model has been specified\n",
        "No gm model has been specified\n",
        "No gm model has been specified\n",
        "No gm model has been specified\n",
        "No gm model has been specified\n",
        "No gm model has been specified\n",
        "No gm model has been specified\n",
        "No gm model has been specified\n",
        "No gm model has been specified\n",
        "No gm model has been specified\n",
        "No gm model has been specified\n",
        "No gm model has been specified\n",
        "No gm model has been specified\n",
        "No gm model has been specified\n",
        "No gm model has been specified\n",
        "No gm model has been specified\n",
        "No gm model has been specified\n",
        "No gm model has been specified\n",
        "No gm model has been specified\n",
        "No gm model has been specified\n",
        "No gm model has been specified\n",
        "No gm model has been specified\n",
        "No gm model has been specified\n",
        "No gm model has been specified\n",
        "No gm model has been specified\n",
        "No gm model has been specified\n",
        "No gm model has been specified\n",
        "No gm model has been specified\n",
        "No gm model has been specified\n",
        "No gm model has been specified\n",
        "No gm model has been specified\n",
        "No gm model has been specified\n",
        "No gm model has been specified\n",
        "No gm model has been specified\n",
        "No gm model has been specified\n",
        "No gm model has been specified\n",
        "No gm model has been specified\n",
        "No gm model has been specified\n",
        "No gm model has been specified\n",
        "No gm model has been specified\n",
        "No gm model has been specified\n",
        "No gm model has been specified\n",
        "No gm model has been specified\n",
        "No gm model has been specified\n",
        "No gm model has been specified\n",
        "No gm model has been specified\n",
        "No gm model has been specified\n",
        "No gm model has been specified\n",
        "No gm model has been specified\n",
        "No gm model has been specified\n",
        "No gm model has been specified\n",
        "No gm model has been specified\n",
        "No gm model has been specified\n",
        "No gm model has been specified\n",
        "No gm model has been specified\n",
        "No gm model has been specified\n",
        "No gm model has been specified\n",
        "No gm model has been specified\n",
        "No gm model has been specified\n",
        "No gm model has been specified\n",
        "No gm model has been specified\n",
        "No gm model has been specified\n",
        "No gm model has been specified\n",
        "No gm model has been specified\n",
        "No gm model has been specified\n",
        "No gm model has been specified\n",
        "No gm model has been specified\n",
        "No gm model has been specified\n",
        "No gm model has been specified\n",
        "No gm model has been specified\n",
        "No gm model has been specified\n",
        "No gm model has been specified\n",
        "No gm model has been specified\n",
        "No gm model has been specified\n",
        "No gm model has been specified\n",
        "No gm model has been specified\n",
        "No gm model has been specified\n",
        "No gm model has been specified\n",
        "No gm model has been specified\n",
        "No gm model has been specified\n",
        "No gm model has been specified\n",
        "No gm model has been specified\n",
        "No gm model has been specified\n",
        "No gm model has been specified\n",
        "No gm model has been specified\n",
        "No gm model has been specified\n",
        "No gm model has been specified\n",
        "No gm model has been specified\n",
        "No gm model has been specified\n",
        "No gm model has been specified\n",
        "No gm model has been specified\n",
        "No gm model has been specified\n",
        "No gm model has been specified\n",
        "No gm model has been specified\n",
        "No gm model has been specified\n",
        "No gm model has been specified\n",
        "No gm model has been specified\n",
        "No gm model has been specified\n",
        "No gm model has been specified\n",
        "No gm model has been specified\n",
        "No gm model has been specified\n",
        "No gm model has been specified\n",
        "No gm model has been specified\n",
        "No gm model has been specified\n",
        "No gm model has been specified\n",
        "No gm model has been specified\n",
        "No gm model has been specified\n",
        "No gm model has been specified\n",
        "No gm model has been specified\n",
        "No gm model has been specified\n",
        "No gm model has been specified\n",
        "No gm model has been specified\n",
        "No gm model has been specified\n",
        "No gm model has been specified\n",
        "No gm model has been specified\n",
        "No gm model has been specified\n",
        "No gm model has been specified\n",
        "No gm model has been specified\n",
        "No gm model has been specified\n",
        "No gm model has been specified\n",
        "No gm model has been specified\n",
        "No gm model has been specified\n",
        "No gm model has been specified\n",
        "No gm model has been specified\n",
        "No gm model has been specified\n",
        "No gm model has been specified\n",
        "No gm model has been specified\n",
        "No gm model has been specified\n",
        "No gm model has been specified\n",
        "No gm model has been specified\n",
        "No gm model has been specified\n",
        "No gm model has been specified\n",
        "No gm model has been specified\n",
        "No gm model has been specified\n",
        "No gm model has been specified\n",
        "No gm model has been specified\n",
        "No gm model has been specified\n",
        "No gm model has been specified\n",
        "No gm model has been specified\n",
        "No gm model has been specified\n",
        "using fisher"
       ]
      },
      {
       "output_type": "stream",
       "stream": "stdout",
       "text": [
        "\n",
        "\r",
        "Done 1 pairs: 271 - 357"
       ]
      },
      {
       "output_type": "stream",
       "stream": "stdout",
       "text": [
        "\r",
        "Done 2 pairs: 204 - 656"
       ]
      },
      {
       "output_type": "stream",
       "stream": "stdout",
       "text": [
        "\r",
        "Done 3 pairs: 67 - 716"
       ]
      },
      {
       "output_type": "stream",
       "stream": "stdout",
       "text": [
        "\r",
        "Done 4 pairs: 139 - 498"
       ]
      },
      {
       "output_type": "stream",
       "stream": "stdout",
       "text": [
        "\r",
        "Done 5 pairs: 99 - 469"
       ]
      },
      {
       "output_type": "stream",
       "stream": "stdout",
       "text": [
        "\r",
        "Done 6 pairs: 47 - 517"
       ]
      },
      {
       "output_type": "stream",
       "stream": "stdout",
       "text": [
        "\r",
        "Done 7 pairs: 23 - 704"
       ]
      },
      {
       "output_type": "stream",
       "stream": "stdout",
       "text": [
        "\r",
        "Done 8 pairs: 44 - 755"
       ]
      },
      {
       "output_type": "stream",
       "stream": "stdout",
       "text": [
        "\r",
        "Done 9 pairs: 177 - 671"
       ]
      },
      {
       "output_type": "stream",
       "stream": "stdout",
       "text": [
        "\r",
        "Done 10 pairs: 59 - 733"
       ]
      },
      {
       "output_type": "stream",
       "stream": "stdout",
       "text": [
        "\r",
        "Done 11 pairs: 45 - 350"
       ]
      },
      {
       "output_type": "stream",
       "stream": "stdout",
       "text": [
        "\r",
        "Done 12 pairs: 17 - 308"
       ]
      },
      {
       "output_type": "stream",
       "stream": "stdout",
       "text": [
        "\r",
        "Done 13 pairs: 223 - 470"
       ]
      },
      {
       "output_type": "stream",
       "stream": "stdout",
       "text": [
        "\r",
        "Done 14 pairs: 131 - 692"
       ]
      },
      {
       "output_type": "stream",
       "stream": "stdout",
       "text": [
        "\r",
        "Done 15 pairs: 271 - 651"
       ]
      },
      {
       "output_type": "stream",
       "stream": "stdout",
       "text": [
        "\r",
        "Done 16 pairs: 135 - 809"
       ]
      },
      {
       "output_type": "stream",
       "stream": "stdout",
       "text": [
        "\r",
        "Done 17 pairs: 193 - 766"
       ]
      },
      {
       "output_type": "stream",
       "stream": "stdout",
       "text": [
        "\r",
        "Done 18 pairs: 261 - 823"
       ]
      },
      {
       "output_type": "stream",
       "stream": "stdout",
       "text": [
        "\r",
        "Done 19 pairs: 83 - 804"
       ]
      },
      {
       "output_type": "stream",
       "stream": "stdout",
       "text": [
        "\r",
        "Done 20 pairs: 261 - 934"
       ]
      },
      {
       "output_type": "stream",
       "stream": "stdout",
       "text": [
        "\r",
        "Done 21 pairs: 117 - 844"
       ]
      },
      {
       "output_type": "stream",
       "stream": "stdout",
       "text": [
        "\r",
        "Done 22 pairs: 151 - 907"
       ]
      },
      {
       "output_type": "stream",
       "stream": "stdout",
       "text": [
        "\r",
        "Done 23 pairs: 222 - 892"
       ]
      },
      {
       "output_type": "stream",
       "stream": "stdout",
       "text": [
        "\r",
        "Done 24 pairs: 195 - 914"
       ]
      },
      {
       "output_type": "stream",
       "stream": "stdout",
       "text": [
        "\r",
        "Done 25 pairs: 266 - 879"
       ]
      },
      {
       "output_type": "stream",
       "stream": "stdout",
       "text": [
        "\r",
        "Done 26 pairs: 147 - 867"
       ]
      },
      {
       "output_type": "stream",
       "stream": "stdout",
       "text": [
        "\r",
        "Done 27 pairs: 62 - 893"
       ]
      },
      {
       "output_type": "stream",
       "stream": "stdout",
       "text": [
        "\r",
        "Done 28 pairs: 47 - 885"
       ]
      },
      {
       "output_type": "stream",
       "stream": "stdout",
       "text": [
        "\r",
        "Done 29 pairs: 180 - 794"
       ]
      },
      {
       "output_type": "stream",
       "stream": "stdout",
       "text": [
        "\r",
        "Done 30 pairs: 103 - 805"
       ]
      },
      {
       "output_type": "stream",
       "stream": "stdout",
       "text": [
        "\r",
        "Done 31 pairs: 114 - 1250"
       ]
      },
      {
       "output_type": "stream",
       "stream": "stdout",
       "text": [
        "\r",
        "Done 32 pairs: 116 - 1183"
       ]
      },
      {
       "output_type": "stream",
       "stream": "stdout",
       "text": [
        "\r",
        "Done 33 pairs: 233 - 1139"
       ]
      },
      {
       "output_type": "stream",
       "stream": "stdout",
       "text": [
        "\r",
        "Done 34 pairs: 270 - 1129"
       ]
      },
      {
       "output_type": "stream",
       "stream": "stdout",
       "text": [
        "\r",
        "Done 35 pairs: 102 - 1199"
       ]
      },
      {
       "output_type": "stream",
       "stream": "stdout",
       "text": [
        "\r",
        "Done 36 pairs: 132 - 1107"
       ]
      },
      {
       "output_type": "stream",
       "stream": "stdout",
       "text": [
        "\r",
        "Done 37 pairs: 67 - 1049"
       ]
      },
      {
       "output_type": "stream",
       "stream": "stdout",
       "text": [
        "\r",
        "Done 38 pairs: 247 - 1234"
       ]
      },
      {
       "output_type": "stream",
       "stream": "stdout",
       "text": [
        "\r",
        "Done 39 pairs: 132 - 1058"
       ]
      },
      {
       "output_type": "stream",
       "stream": "stdout",
       "text": [
        "\r",
        "Done 40 pairs: 91 - 1264"
       ]
      },
      {
       "output_type": "stream",
       "stream": "stdout",
       "text": [
        "\r",
        "Done 41 pairs: 182 - 1176"
       ]
      },
      {
       "output_type": "stream",
       "stream": "stdout",
       "text": [
        "\r",
        "Done 42 pairs: 183 - 1096"
       ]
      },
      {
       "output_type": "stream",
       "stream": "stdout",
       "text": [
        "\r",
        "Done 43 pairs: 212 - 1059"
       ]
      },
      {
       "output_type": "stream",
       "stream": "stdout",
       "text": [
        "\r",
        "Done 44 pairs: 261 - 1028"
       ]
      },
      {
       "output_type": "stream",
       "stream": "stdout",
       "text": [
        "\r",
        "Done 45 pairs: 230 - 1203"
       ]
      },
      {
       "output_type": "stream",
       "stream": "stdout",
       "text": [
        "\r",
        "Done 46 pairs: 609 - 904"
       ]
      },
      {
       "output_type": "stream",
       "stream": "stdout",
       "text": [
        "\r",
        "Done 47 pairs: 335 - 825"
       ]
      },
      {
       "output_type": "stream",
       "stream": "stdout",
       "text": [
        "\r",
        "Done 48 pairs: 511 - 783"
       ]
      },
      {
       "output_type": "stream",
       "stream": "stdout",
       "text": [
        "\r",
        "Done 49 pairs: 501 - 882"
       ]
      },
      {
       "output_type": "stream",
       "stream": "stdout",
       "text": [
        "\r",
        "Done 50 pairs: 400 - 793"
       ]
      },
      {
       "output_type": "stream",
       "stream": "stdout",
       "text": [
        "\r",
        "Done 51 pairs: 668 - 807"
       ]
      },
      {
       "output_type": "stream",
       "stream": "stdout",
       "text": [
        "\r",
        "Done 52 pairs: 658 - 900"
       ]
      },
      {
       "output_type": "stream",
       "stream": "stdout",
       "text": [
        "\r",
        "Done 53 pairs: 483 - 793"
       ]
      },
      {
       "output_type": "stream",
       "stream": "stdout",
       "text": [
        "\r",
        "Done 54 pairs: 657 - 780"
       ]
      },
      {
       "output_type": "stream",
       "stream": "stdout",
       "text": [
        "\r",
        "Done 55 pairs: 309 - 776"
       ]
      },
      {
       "output_type": "stream",
       "stream": "stdout",
       "text": [
        "\r",
        "Done 56 pairs: 403 - 778"
       ]
      },
      {
       "output_type": "stream",
       "stream": "stdout",
       "text": [
        "\r",
        "Done 57 pairs: 482 - 921"
       ]
      },
      {
       "output_type": "stream",
       "stream": "stdout",
       "text": [
        "\r",
        "Done 58 pairs: 583 - 871"
       ]
      },
      {
       "output_type": "stream",
       "stream": "stdout",
       "text": [
        "\r",
        "Done 59 pairs: 544 - 929"
       ]
      },
      {
       "output_type": "stream",
       "stream": "stdout",
       "text": [
        "\r",
        "Done 60 pairs: 620 - 865"
       ]
      },
      {
       "output_type": "stream",
       "stream": "stdout",
       "text": [
        "\r",
        "Done 61 pairs: 504 - 1017"
       ]
      },
      {
       "output_type": "stream",
       "stream": "stdout",
       "text": [
        "\r",
        "Done 62 pairs: 347 - 1165"
       ]
      },
      {
       "output_type": "stream",
       "stream": "stdout",
       "text": [
        "\r",
        "Done 63 pairs: 440 - 1124"
       ]
      },
      {
       "output_type": "stream",
       "stream": "stdout",
       "text": [
        "\r",
        "Done 64 pairs: 375 - 1204"
       ]
      },
      {
       "output_type": "stream",
       "stream": "stdout",
       "text": [
        "\r",
        "Done 65 pairs: 383 - 1138"
       ]
      },
      {
       "output_type": "stream",
       "stream": "stdout",
       "text": [
        "\r",
        "Done 66 pairs: 286 - 1114"
       ]
      },
      {
       "output_type": "stream",
       "stream": "stdout",
       "text": [
        "\r",
        "Done 67 pairs: 691 - 1251"
       ]
      },
      {
       "output_type": "stream",
       "stream": "stdout",
       "text": [
        "\r",
        "Done 68 pairs: 597 - 1032"
       ]
      },
      {
       "output_type": "stream",
       "stream": "stdout",
       "text": [
        "\r",
        "Done 69 pairs: 605 - 1011"
       ]
      },
      {
       "output_type": "stream",
       "stream": "stdout",
       "text": [
        "\r",
        "Done 70 pairs: 307 - 1188"
       ]
      },
      {
       "output_type": "stream",
       "stream": "stdout",
       "text": [
        "\r",
        "Done 71 pairs: 386 - 1040"
       ]
      },
      {
       "output_type": "stream",
       "stream": "stdout",
       "text": [
        "\r",
        "Done 72 pairs: 654 - 1256"
       ]
      },
      {
       "output_type": "stream",
       "stream": "stdout",
       "text": [
        "\r",
        "Done 73 pairs: 450 - 1060"
       ]
      },
      {
       "output_type": "stream",
       "stream": "stdout",
       "text": [
        "\r",
        "Done 74 pairs: 465 - 1265"
       ]
      },
      {
       "output_type": "stream",
       "stream": "stdout",
       "text": [
        "\r",
        "Done 75 pairs: 697 - 1022"
       ]
      },
      {
       "output_type": "stream",
       "stream": "stdout",
       "text": [
        "\r",
        "Done 76 pairs: 761 - 978"
       ]
      },
      {
       "output_type": "stream",
       "stream": "stdout",
       "text": [
        "\r",
        "Done 77 pairs: 758 - 1230"
       ]
      },
      {
       "output_type": "stream",
       "stream": "stdout",
       "text": [
        "\r",
        "Done 78 pairs: 856 - 989"
       ]
      },
      {
       "output_type": "stream",
       "stream": "stdout",
       "text": [
        "\r",
        "Done 79 pairs: 887 - 1103"
       ]
      },
      {
       "output_type": "stream",
       "stream": "stdout",
       "text": [
        "\r",
        "Done 80 pairs: 904 - 957"
       ]
      },
      {
       "output_type": "stream",
       "stream": "stdout",
       "text": [
        "\r",
        "Done 81 pairs: 760 - 1200"
       ]
      },
      {
       "output_type": "stream",
       "stream": "stdout",
       "text": [
        "\r",
        "Done 82 pairs: 771 - 1050"
       ]
      },
      {
       "output_type": "stream",
       "stream": "stdout",
       "text": [
        "\r",
        "Done 83 pairs: 838 - 1240"
       ]
      },
      {
       "output_type": "stream",
       "stream": "stdout",
       "text": [
        "\r",
        "Done 84 pairs: 913 - 1227"
       ]
      },
      {
       "output_type": "stream",
       "stream": "stdout",
       "text": [
        "\r",
        "Done 85 pairs: 775 - 1111"
       ]
      },
      {
       "output_type": "stream",
       "stream": "stdout",
       "text": [
        "\r",
        "Done 86 pairs: 757 - 1225"
       ]
      },
      {
       "output_type": "stream",
       "stream": "stdout",
       "text": [
        "\r",
        "Done 87 pairs: 914 - 1006"
       ]
      },
      {
       "output_type": "stream",
       "stream": "stdout",
       "text": [
        "\r",
        "Done 88 pairs: 760 - 1246"
       ]
      },
      {
       "output_type": "stream",
       "stream": "stdout",
       "text": [
        "\r",
        "Done 89 pairs: 858 - 1133"
       ]
      },
      {
       "output_type": "stream",
       "stream": "stdout",
       "text": [
        "\r",
        "Done 90 pairs: 901 - 1126"
       ]
      },
      {
       "output_type": "stream",
       "stream": "stdout",
       "text": [
        "\r",
        "Done 91 pairs: 28 - 220"
       ]
      },
      {
       "output_type": "stream",
       "stream": "stdout",
       "text": [
        "\r",
        "Done 92 pairs: 202 - 119"
       ]
      },
      {
       "output_type": "stream",
       "stream": "stdout",
       "text": [
        "\r",
        "Done 93 pairs: 22 - 7"
       ]
      },
      {
       "output_type": "stream",
       "stream": "stdout",
       "text": [
        "\r",
        "Done 94 pairs: 274 - 249"
       ]
      },
      {
       "output_type": "stream",
       "stream": "stdout",
       "text": [
        "\r",
        "Done 95 pairs: 170 - 140"
       ]
      },
      {
       "output_type": "stream",
       "stream": "stdout",
       "text": [
        "\r",
        "Done 96 pairs: 266 - 48"
       ]
      },
      {
       "output_type": "stream",
       "stream": "stdout",
       "text": [
        "\r",
        "Done 97 pairs: 200 - 164"
       ]
      },
      {
       "output_type": "stream",
       "stream": "stdout",
       "text": [
        "\r",
        "Done 98 pairs: 171 - 194"
       ]
      },
      {
       "output_type": "stream",
       "stream": "stdout",
       "text": [
        "\r",
        "Done 99 pairs: 70 - 241"
       ]
      },
      {
       "output_type": "stream",
       "stream": "stdout",
       "text": [
        "\r",
        "Done 100 pairs: 147 - 242"
       ]
      },
      {
       "output_type": "stream",
       "stream": "stdout",
       "text": [
        "\r",
        "Done 101 pairs: 192 - 66"
       ]
      },
      {
       "output_type": "stream",
       "stream": "stdout",
       "text": [
        "\r",
        "Done 102 pairs: 179 - 202"
       ]
      },
      {
       "output_type": "stream",
       "stream": "stdout",
       "text": [
        "\r",
        "Done 103 pairs: 78 - 178"
       ]
      },
      {
       "output_type": "stream",
       "stream": "stdout",
       "text": [
        "\r",
        "Done 104 pairs: 142 - 99"
       ]
      },
      {
       "output_type": "stream",
       "stream": "stdout",
       "text": [
        "\r",
        "Done 105 pairs: 141 - 272"
       ]
      },
      {
       "output_type": "stream",
       "stream": "stdout",
       "text": [
        "\r",
        "Done 106 pairs: 288 - 305"
       ]
      },
      {
       "output_type": "stream",
       "stream": "stdout",
       "text": [
        "\r",
        "Done 107 pairs: 295 - 457"
       ]
      },
      {
       "output_type": "stream",
       "stream": "stdout",
       "text": [
        "\r",
        "Done 108 pairs: 707 - 699"
       ]
      },
      {
       "output_type": "stream",
       "stream": "stdout",
       "text": [
        "\r",
        "Done 109 pairs: 313 - 333"
       ]
      },
      {
       "output_type": "stream",
       "stream": "stdout",
       "text": [
        "\r",
        "Done 110 pairs: 748 - 620"
       ]
      },
      {
       "output_type": "stream",
       "stream": "stdout",
       "text": [
        "\r",
        "Done 111 pairs: 740 - 296"
       ]
      },
      {
       "output_type": "stream",
       "stream": "stdout",
       "text": [
        "\r",
        "Done 112 pairs: 339 - 462"
       ]
      },
      {
       "output_type": "stream",
       "stream": "stdout",
       "text": [
        "\r",
        "Done 113 pairs: 486 - 520"
       ]
      },
      {
       "output_type": "stream",
       "stream": "stdout",
       "text": [
        "\r",
        "Done 114 pairs: 716 - 470"
       ]
      },
      {
       "output_type": "stream",
       "stream": "stdout",
       "text": [
        "\r",
        "Done 115 pairs: 717 - 351"
       ]
      },
      {
       "output_type": "stream",
       "stream": "stdout",
       "text": [
        "\r",
        "Done 116 pairs: 381 - 581"
       ]
      },
      {
       "output_type": "stream",
       "stream": "stdout",
       "text": [
        "\r",
        "Done 117 pairs: 497 - 442"
       ]
      },
      {
       "output_type": "stream",
       "stream": "stdout",
       "text": [
        "\r",
        "Done 118 pairs: 347 - 350"
       ]
      },
      {
       "output_type": "stream",
       "stream": "stdout",
       "text": [
        "\r",
        "Done 119 pairs: 507 - 357"
       ]
      },
      {
       "output_type": "stream",
       "stream": "stdout",
       "text": [
        "\r",
        "Done 120 pairs: 528 - 663"
       ]
      },
      {
       "output_type": "stream",
       "stream": "stdout",
       "text": [
        "\r",
        "Done 121 pairs: 763 - 779"
       ]
      },
      {
       "output_type": "stream",
       "stream": "stdout",
       "text": [
        "\r",
        "Done 122 pairs: 901 - 857"
       ]
      },
      {
       "output_type": "stream",
       "stream": "stdout",
       "text": [
        "\r",
        "Done 123 pairs: 786 - 765"
       ]
      },
      {
       "output_type": "stream",
       "stream": "stdout",
       "text": [
        "\r",
        "Done 124 pairs: 911 - 774"
       ]
      },
      {
       "output_type": "stream",
       "stream": "stdout",
       "text": [
        "\r",
        "Done 125 pairs: 795 - 763"
       ]
      },
      {
       "output_type": "stream",
       "stream": "stdout",
       "text": [
        "\r",
        "Done 126 pairs: 839 - 879"
       ]
      },
      {
       "output_type": "stream",
       "stream": "stdout",
       "text": [
        "\r",
        "Done 127 pairs: 764 - 766"
       ]
      },
      {
       "output_type": "stream",
       "stream": "stdout",
       "text": [
        "\r",
        "Done 128 pairs: 862 - 865"
       ]
      },
      {
       "output_type": "stream",
       "stream": "stdout",
       "text": [
        "\r",
        "Done 129 pairs: 877 - 857"
       ]
      },
      {
       "output_type": "stream",
       "stream": "stdout",
       "text": [
        "\r",
        "Done 130 pairs: 853 - 805"
       ]
      },
      {
       "output_type": "stream",
       "stream": "stdout",
       "text": [
        "\r",
        "Done 131 pairs: 824 - 839"
       ]
      },
      {
       "output_type": "stream",
       "stream": "stdout",
       "text": [
        "\r",
        "Done 132 pairs: 930 - 920"
       ]
      },
      {
       "output_type": "stream",
       "stream": "stdout",
       "text": [
        "\r",
        "Done 133 pairs: 859 - 834"
       ]
      },
      {
       "output_type": "stream",
       "stream": "stdout",
       "text": [
        "\r",
        "Done 134 pairs: 916 - 853"
       ]
      },
      {
       "output_type": "stream",
       "stream": "stdout",
       "text": [
        "\r",
        "Done 135 pairs: 835 - 851"
       ]
      },
      {
       "output_type": "stream",
       "stream": "stdout",
       "text": [
        "\r",
        "Done 136 pairs: 1127 - 1211"
       ]
      },
      {
       "output_type": "stream",
       "stream": "stdout",
       "text": [
        "\r",
        "Done 137 pairs: 1143 - 1078"
       ]
      },
      {
       "output_type": "stream",
       "stream": "stdout",
       "text": [
        "\r",
        "Done 138 pairs: 1087 - 1205"
       ]
      },
      {
       "output_type": "stream",
       "stream": "stdout",
       "text": [
        "\r",
        "Done 139 pairs: 1222 - 938"
       ]
      },
      {
       "output_type": "stream",
       "stream": "stdout",
       "text": [
        "\r",
        "Done 140 pairs: 942 - 1204"
       ]
      },
      {
       "output_type": "stream",
       "stream": "stdout",
       "text": [
        "\r",
        "Done 141 pairs: 1247 - 1044"
       ]
      },
      {
       "output_type": "stream",
       "stream": "stdout",
       "text": [
        "\r",
        "Done 142 pairs: 1094 - 1011"
       ]
      },
      {
       "output_type": "stream",
       "stream": "stdout",
       "text": [
        "\r",
        "Done 143 pairs: 1073 - 1155"
       ]
      },
      {
       "output_type": "stream",
       "stream": "stdout",
       "text": [
        "\r",
        "Done 144 pairs: 1147 - 1076"
       ]
      },
      {
       "output_type": "stream",
       "stream": "stdout",
       "text": [
        "\r",
        "Done 145 pairs: 1187 - 1166"
       ]
      },
      {
       "output_type": "stream",
       "stream": "stdout",
       "text": [
        "\r",
        "Done 146 pairs: 1240 - 1143"
       ]
      },
      {
       "output_type": "stream",
       "stream": "stdout",
       "text": [
        "\r",
        "Done 147 pairs: 950 - 1172"
       ]
      },
      {
       "output_type": "stream",
       "stream": "stdout",
       "text": [
        "\r",
        "Done 148 pairs: 1192 - 1031"
       ]
      },
      {
       "output_type": "stream",
       "stream": "stdout",
       "text": [
        "\r",
        "Done 149 pairs: 1137 - 1255"
       ]
      },
      {
       "output_type": "stream",
       "stream": "stdout",
       "text": [
        "\r",
        "Done 150 pairs: 1199 - 1262"
       ]
      }
     ],
     "prompt_number": 158
    },
    {
     "cell_type": "code",
     "collapsed": false,
     "input": [
      "getKMeansHistEncoding(frameFeatures[i], (len(frameFeatures[i])/hogOrientations, hogOrientations), clusterer)"
     ],
     "language": "python",
     "metadata": {},
     "outputs": [
      {
       "metadata": {},
       "output_type": "pyout",
       "prompt_number": 56,
       "text": [
        "array([3511,    2,    0,    0,    0,    0,    0,    0,    1,    0,    0,\n",
        "          0,    0,    1,    0,    0,    0,    2,    0,    0,    0,    0,\n",
        "          1,    0,    0,    8,    1,    0,    0,    0,    0,    1,    4,\n",
        "          0,    0,    1,    0,    0,    0,    0,    1,    0,    0,    0,\n",
        "          0,    0,    0,    0,    3,    0,    0,    0,    0,    0,    0,\n",
        "          0,    0,    0,    0,    2,    1,    0,    1,    1,    0,    0,\n",
        "          0,    0,    5,    1,    0,    0,    0,    0,    0,    0,    0,\n",
        "          2,    3,    0,    2,    1,    2,    0,    1,    0,    0,    0,\n",
        "          0,    0,    0,    0,    0,    0,    0,    0,    0,    2,    1,\n",
        "          0,    0,    0,    1,    0,    1,    0,    0,    0,    0,    0,\n",
        "          0,    0,    0,    0,    1,    0,    0,    0,    1,    0,    0,\n",
        "          0,    0,    0,    1,    1,    0,    0,    0,    1,    1,    0,\n",
        "          0,    1,    0,    0,    1,    2,    0,    0,    0,    0,    1,\n",
        "          0,    0,    1,    1,    1,    0,    1,    0,    1,    0,    0,\n",
        "          1,    0,    2,    0,    0,    0,    1,    0,    0,    0,    0,\n",
        "          0,    1,    0,    0,    0,    0,    0,    0,    1,    1,    1,\n",
        "          1,    0,    0,    0,    0,    0,    0,    0,    0,    0,    0,\n",
        "          0,    0,    0,    0,    0,    0,    1,    1,    0,    0,    0,\n",
        "          0,    0,    0,    0,    0,    0,    0,    0,    0,    0,    0,\n",
        "          0,    0,    0,    0,    0,    0,    0,    1,    0,    0,    0,\n",
        "          0,    1,    0,    0,    0,    0,    0,    0,    0,    0,    0,\n",
        "          0,    0,    0,    1,    0,    0,    0,    0,    0,    0,    0,\n",
        "          0,    2,    1,    0,    0,    0,    0,    1,    0,    0,    0,\n",
        "          1,    0,    1])"
       ]
      }
     ],
     "prompt_number": 56
    },
    {
     "cell_type": "code",
     "collapsed": false,
     "input": [
      "print labelledData[0].shape\n",
      "print len(labelledData)"
     ],
     "language": "python",
     "metadata": {},
     "outputs": [
      {
       "output_type": "stream",
       "stream": "stdout",
       "text": [
        "(160,)\n",
        "150\n"
       ]
      }
     ],
     "prompt_number": 51
    },
    {
     "cell_type": "code",
     "collapsed": false,
     "input": [
      "print labelledData[0].shape"
     ],
     "language": "python",
     "metadata": {},
     "outputs": [
      {
       "output_type": "stream",
       "stream": "stdout",
       "text": [
        "(3600,)\n"
       ]
      }
     ],
     "prompt_number": 76
    },
    {
     "cell_type": "code",
     "collapsed": false,
     "input": [
      "figure(); imshow(np.load(dataFolder + sampleData + \"sematics_hog_set150_distMat.npy\"), interpolation='nearest')"
     ],
     "language": "python",
     "metadata": {},
     "outputs": [
      {
       "metadata": {},
       "output_type": "pyout",
       "prompt_number": 44,
       "text": [
        "<matplotlib.image.AxesImage at 0x7fc56031c3d0>"
       ]
      }
     ],
     "prompt_number": 44
    },
    {
     "cell_type": "code",
     "collapsed": false,
     "input": [
      "print len(list(np.concatenate((labelledData, [pairFeatures[0]]))))\n",
      "print len(list(np.concatenate((1.0-np.array(labelledPairs)[:, 2], [1.0]))))"
     ],
     "language": "python",
     "metadata": {},
     "outputs": [
      {
       "output_type": "stream",
       "stream": "stdout",
       "text": [
        "151\n",
        "151\n"
       ]
      }
     ],
     "prompt_number": 38
    },
    {
     "cell_type": "code",
     "collapsed": false,
     "input": [
      "tic = time.time()\n",
      "classifier = ensemble.ExtraTreesRegressor(n_estimators=100, n_jobs=4, verbose=4)\n",
      "classifier.fit(list(np.concatenate((labelledData, [pairFeatures[1]]))), list(np.concatenate((1.0-np.array(labelledPairs)[:, 2], [1.0]))))\n",
      "print time.time()-tic"
     ],
     "language": "python",
     "metadata": {},
     "outputs": [
      {
       "output_type": "stream",
       "stream": "stderr",
       "text": [
        "[Parallel(n_jobs=4)]: Done   1 out of   4 | elapsed:    0.1s remaining:    0.3s\n",
        "[Parallel(n_jobs=4)]: Done   2 out of   4 | elapsed:    0.2s remaining:    0.2s\n",
        "[Parallel(n_jobs=4)]: Done   4 out of   4 | elapsed:    0.2s finished\n"
       ]
      },
      {
       "output_type": "stream",
       "stream": "stdout",
       "text": [
        "0.357439994812\n",
        "building tree 1 of 25\n",
        "building tree 1 of 25\n",
        "building tree 1 of 25\n",
        "building tree 1 of 25\n",
        "building tree 2 of 25\n",
        "building tree 2 of 25\n",
        "building tree 2 of 25\n",
        "building tree 2 of 25\n",
        "building tree 3 of 25\n",
        "building tree 3 of 25\n",
        "building tree 3 of 25\n",
        "building tree 3 of 25\n",
        "building tree 4 of 25\n",
        "building tree 4 of 25\n",
        "building tree 4 of 25\n",
        "building tree 4 of 25\n",
        "building tree 5 of 25\n",
        "building tree 5 of 25\n",
        "building tree 5 of 25\n",
        "building tree 5 of 25\n",
        "building tree 6 of 25\n",
        "building tree 6 of 25\n",
        "building tree 6 of 25\n",
        "building tree 6 of 25\n",
        "building tree 7 of 25\n",
        "building tree 7 of 25\n",
        "building tree 7 of 25\n",
        "building tree 7 of 25\n",
        "building tree 8 of 25\n",
        "building tree 8 of 25\n",
        "building tree 8 of 25\n",
        "building tree 8 of 25\n",
        "building tree 9 of 25\n",
        "building tree 9 of 25\n",
        "building tree 9 of 25\n",
        "building tree 9 of 25\n",
        "building tree 10 of 25\n",
        "building tree 10 of 25\n",
        "building tree 10 of 25\n",
        "building tree 10 of 25\n",
        "building tree 11 of 25\n",
        "building tree 11 of 25\n",
        "building tree 11 of 25\n",
        "building tree 11 of 25\n",
        "building tree 12 of 25\n",
        "building tree 12 of 25\n",
        "building tree 12 of 25\n",
        "building tree 12 of 25\n",
        "building tree 13 of 25\n",
        "building tree 13 of 25\n",
        "building tree 13 of 25\n",
        "building tree 13 of 25\n",
        "building tree 14 of 25\n",
        "building tree 14 of 25\n",
        "building tree 14 of 25\n",
        "building tree 14 of 25\n",
        "building tree 15 of 25\n",
        "building tree 15 of 25\n",
        "building tree 15 of 25\n",
        "building tree 15 of 25\n",
        "building tree 16 of 25\n",
        "building tree 16 of 25\n",
        "building tree 16 of 25\n",
        "building tree 16 of 25\n",
        "building tree 17 of 25\n",
        "building tree 17 of 25\n",
        "building tree 17 of 25\n",
        "building tree 17 of 25\n",
        "building tree 18 of 25\n",
        "building tree 18 of 25\n",
        "building tree 18 of 25\n",
        "building tree 18 of 25\n",
        "building tree 19 of 25\n",
        "building tree 19 of 25\n",
        "building tree 19 of 25\n",
        "building tree 19 of 25\n",
        "building tree 20 of 25\n",
        "building tree 20 of 25\n",
        "building tree 20 of 25\n",
        "building tree 20 of 25\n",
        "building tree 21 of 25\n",
        "building tree 21 of 25\n",
        "building tree 21 of 25\n",
        "building tree 21 of 25\n",
        "building tree 22 of 25\n",
        "building tree 22 of 25\n",
        "building tree 22 of 25\n",
        "building tree 22 of 25\n",
        "building tree 23 of 25\n",
        "building tree 23 of 25\n",
        "building tree 23 of 25\n",
        "building tree 23 of 25\n",
        "building tree 24 of 25\n",
        "building tree 24 of 25\n",
        "building tree 24 of 25\n",
        "building tree 24 of 25\n",
        "building tree 25 of 25\n",
        "building tree 25 of 25\n",
        "building tree 25 of 25\n",
        "building tree 25 of 25\n"
       ]
      }
     ],
     "prompt_number": 43
    },
    {
     "cell_type": "code",
     "collapsed": false,
     "input": [
      "learnedDistMat = np.zeros((len(frames), len(frames)))\n",
      "    \n",
      "pairFeatures = []\n",
      "\n",
      "for i in xrange(len(frames)) :\n",
      "    tic = time.time()\n",
      "#     pairFeatures = []\n",
      "    for j in xrange(i, len(frames)) :\n",
      "    ## with grid features\n",
      "#         pairFeatures.append(getFramesPairFeatures(features[i], features[j], pairFeatTypes))\n",
      "    ## no encoding\n",
      "#         pairFeatures.append(getFramesPairFeatures(frameFeatures[i], frameFeatures[j], pairFeatTypes))\n",
      "    ## no encoding and taking L2_DIST of orientations-size hog vectors\n",
      "#         pairFeatures.append(getFramesPairFeatures(frameFeatures[i].reshape((len(frameFeatures[0])/hogOrientations, hogOrientations)), frameFeatures[j].reshape((len(frameFeatures[0])/hogOrientations, hogOrientations)), pairFeatTypes))\n",
      "        pairFeatures.append(getFramesPairFeatures(frameFeatures[i].reshape((len(frameFeatures[0])/hogOrientations, hogOrientations)), frameFeatures[j].reshape((len(frameFeatures[0])/hogOrientations, hogOrientations)), pairFeatTypes, gmModel=gmModel))\n",
      "    ## encoding single frames' features\n",
      "#         pairFeatures.append(getFramesPairFeatures(encodedFrameFeatures[i][0], encodedFrameFeatures[j][0], pairFeatTypes))\n",
      "    ## encoding pairwise hog features\n",
      "#         pairwiseFeats = getFramesPairFeatures(frameFeatures[i], frameFeatures[j], pairFeatTypes)\n",
      "#         pairFeatures.append(np.histogram(clusterer.predict(np.reshape(pairwiseFeats, (len(pairwiseFeats)/hogOrientations, hogOrientations))), bins=256)[0])\n",
      "#         pairFeatures.append(getFramesPairFeatures(frameFeatures[i], frameFeatures[j], pairFeatTypes, kmeansClusterer=clusterer))\n",
      "#         pairFeatures.append(getFramesPairFeatures(frameFeatures[i], frameFeatures[j], pairFeatTypes, gmModel=gmModel))\n",
      "    print i, \"pairFeatures time\", time.time() - tic\n",
      "#     tic = time.time()\n",
      "#     learnedDistMat[i, i:] = classifier.predict(pairFeatures)\n",
      "#     print \"predict time\", time.time() - tic\n",
      "#     del pairFeatures\n",
      "#     gc.collect()\n",
      "#     print i,"
     ],
     "language": "python",
     "metadata": {},
     "outputs": [
      {
       "output_type": "stream",
       "stream": "stdout",
       "text": [
        " 0 pairFeatures time 2.58218002319\n",
        "1"
       ]
      },
      {
       "output_type": "stream",
       "stream": "stdout",
       "text": [
        " pairFeatures time 2.50038719177\n",
        "2"
       ]
      },
      {
       "output_type": "stream",
       "stream": "stdout",
       "text": [
        " pairFeatures time 2.50197792053\n",
        "3"
       ]
      },
      {
       "output_type": "stream",
       "stream": "stdout",
       "text": [
        " pairFeatures time 2.46416783333\n",
        "4"
       ]
      },
      {
       "output_type": "stream",
       "stream": "stdout",
       "text": [
        " pairFeatures time 2.54058098793\n",
        "5"
       ]
      },
      {
       "output_type": "stream",
       "stream": "stdout",
       "text": [
        " pairFeatures time 2.63916707039\n",
        "6"
       ]
      },
      {
       "output_type": "stream",
       "stream": "stdout",
       "text": [
        " pairFeatures time 2.55040097237\n",
        "7"
       ]
      },
      {
       "output_type": "stream",
       "stream": "stdout",
       "text": [
        " pairFeatures time 2.51627612114\n",
        "8"
       ]
      },
      {
       "output_type": "stream",
       "stream": "stdout",
       "text": [
        " pairFeatures time 2.58847093582\n",
        "9"
       ]
      },
      {
       "output_type": "stream",
       "stream": "stdout",
       "text": [
        " pairFeatures time 2.50389504433\n",
        "10"
       ]
      },
      {
       "output_type": "stream",
       "stream": "stdout",
       "text": [
        " pairFeatures time 2.47618699074\n",
        "11"
       ]
      },
      {
       "output_type": "stream",
       "stream": "stdout",
       "text": [
        " pairFeatures time 2.4816570282\n",
        "12"
       ]
      },
      {
       "output_type": "stream",
       "stream": "stdout",
       "text": [
        " pairFeatures time 2.4626262188\n",
        "13"
       ]
      },
      {
       "output_type": "stream",
       "stream": "stdout",
       "text": [
        " pairFeatures time 2.52426290512\n",
        "14"
       ]
      },
      {
       "output_type": "stream",
       "stream": "stdout",
       "text": [
        " pairFeatures time 2.48319387436\n",
        "15"
       ]
      },
      {
       "output_type": "stream",
       "stream": "stdout",
       "text": [
        " pairFeatures time 2.53349804878\n",
        "16"
       ]
      },
      {
       "output_type": "stream",
       "stream": "stdout",
       "text": [
        " pairFeatures time 2.4691991806\n",
        "17"
       ]
      },
      {
       "output_type": "stream",
       "stream": "stdout",
       "text": [
        " pairFeatures time 2.49389505386\n",
        "18"
       ]
      },
      {
       "output_type": "stream",
       "stream": "stdout",
       "text": [
        " pairFeatures time 2.49108099937\n",
        "19"
       ]
      },
      {
       "output_type": "stream",
       "stream": "stdout",
       "text": [
        " pairFeatures time 2.51615810394\n",
        "20"
       ]
      },
      {
       "output_type": "stream",
       "stream": "stdout",
       "text": [
        " pairFeatures time 2.52199292183\n",
        "21"
       ]
      },
      {
       "output_type": "stream",
       "stream": "stdout",
       "text": [
        " pairFeatures time 2.53705000877\n",
        "22"
       ]
      },
      {
       "output_type": "stream",
       "stream": "stdout",
       "text": [
        " pairFeatures time 2.56353092194\n",
        "23"
       ]
      },
      {
       "output_type": "stream",
       "stream": "stdout",
       "text": [
        " pairFeatures time 2.71019983292\n",
        "24"
       ]
      },
      {
       "output_type": "stream",
       "stream": "stdout",
       "text": [
        " pairFeatures time 2.63282203674\n",
        "25"
       ]
      },
      {
       "output_type": "stream",
       "stream": "stdout",
       "text": [
        " pairFeatures time 2.62723016739\n",
        "26"
       ]
      },
      {
       "output_type": "stream",
       "stream": "stdout",
       "text": [
        " pairFeatures time 2.58987617493\n",
        "27"
       ]
      },
      {
       "output_type": "stream",
       "stream": "stdout",
       "text": [
        " pairFeatures time 2.58352017403\n",
        "28"
       ]
      },
      {
       "output_type": "stream",
       "stream": "stdout",
       "text": [
        " pairFeatures time 2.46585488319\n",
        "29"
       ]
      },
      {
       "output_type": "stream",
       "stream": "stdout",
       "text": [
        " pairFeatures time 2.46303987503\n",
        "30"
       ]
      },
      {
       "output_type": "stream",
       "stream": "stdout",
       "text": [
        " pairFeatures time 2.47846484184\n",
        "31"
       ]
      },
      {
       "output_type": "stream",
       "stream": "stdout",
       "text": [
        " pairFeatures time 2.61462593079\n",
        "32"
       ]
      },
      {
       "output_type": "stream",
       "stream": "stdout",
       "text": [
        " pairFeatures time 2.56107401848\n",
        "33"
       ]
      },
      {
       "output_type": "stream",
       "stream": "stdout",
       "text": [
        " pairFeatures time 2.6014881134\n",
        "34"
       ]
      },
      {
       "output_type": "stream",
       "stream": "stdout",
       "text": [
        " pairFeatures time 2.38967204094\n",
        "35"
       ]
      },
      {
       "output_type": "stream",
       "stream": "stdout",
       "text": [
        " pairFeatures time 2.41590714455\n",
        "36"
       ]
      },
      {
       "output_type": "stream",
       "stream": "stdout",
       "text": [
        " pairFeatures time 2.3953268528\n",
        "37"
       ]
      },
      {
       "output_type": "stream",
       "stream": "stdout",
       "text": [
        " pairFeatures time 2.50444793701\n",
        "38"
       ]
      },
      {
       "output_type": "stream",
       "stream": "stdout",
       "text": [
        " pairFeatures time 2.41276907921\n",
        "39"
       ]
      },
      {
       "output_type": "stream",
       "stream": "stdout",
       "text": [
        " pairFeatures time 2.48628902435\n",
        "40"
       ]
      },
      {
       "output_type": "stream",
       "stream": "stdout",
       "text": [
        " pairFeatures time 2.40266489983\n",
        "41"
       ]
      },
      {
       "output_type": "stream",
       "stream": "stdout",
       "text": [
        " pairFeatures time 2.4368429184\n",
        "42"
       ]
      },
      {
       "output_type": "stream",
       "stream": "stdout",
       "text": [
        " pairFeatures time 2.44443202019\n",
        "43"
       ]
      },
      {
       "output_type": "stream",
       "stream": "stdout",
       "text": [
        " pairFeatures time 2.4201259613\n",
        "44"
       ]
      },
      {
       "output_type": "stream",
       "stream": "stdout",
       "text": [
        " pairFeatures time 2.37714791298\n",
        "45"
       ]
      },
      {
       "output_type": "stream",
       "stream": "stdout",
       "text": [
        " pairFeatures time 2.39433097839\n",
        "46"
       ]
      },
      {
       "output_type": "stream",
       "stream": "stdout",
       "text": [
        " pairFeatures time 2.47312998772\n",
        "47"
       ]
      },
      {
       "output_type": "stream",
       "stream": "stdout",
       "text": [
        " pairFeatures time 2.36963796616\n",
        "48"
       ]
      },
      {
       "output_type": "stream",
       "stream": "stdout",
       "text": [
        " pairFeatures time 2.43293714523\n",
        "49"
       ]
      },
      {
       "output_type": "stream",
       "stream": "stdout",
       "text": [
        " pairFeatures time 2.42220592499\n",
        "50"
       ]
      },
      {
       "output_type": "stream",
       "stream": "stdout",
       "text": [
        " pairFeatures time 2.45750284195\n",
        "51"
       ]
      },
      {
       "output_type": "stream",
       "stream": "stdout",
       "text": [
        " pairFeatures time 2.38236093521\n",
        "52"
       ]
      },
      {
       "output_type": "stream",
       "stream": "stdout",
       "text": [
        " pairFeatures time 2.36065006256\n",
        "53"
       ]
      },
      {
       "output_type": "stream",
       "stream": "stdout",
       "text": [
        " pairFeatures time 2.39074206352\n",
        "54"
       ]
      },
      {
       "output_type": "stream",
       "stream": "stdout",
       "text": [
        " pairFeatures time 2.40259599686\n",
        "55"
       ]
      },
      {
       "output_type": "stream",
       "stream": "stdout",
       "text": [
        " pairFeatures time 2.44486498833\n",
        "56"
       ]
      },
      {
       "output_type": "stream",
       "stream": "stdout",
       "text": [
        " pairFeatures time 2.39881300926\n",
        "57"
       ]
      },
      {
       "output_type": "stream",
       "stream": "stdout",
       "text": [
        " pairFeatures time 2.42251491547\n",
        "58"
       ]
      },
      {
       "output_type": "stream",
       "stream": "stdout",
       "text": [
        " pairFeatures time 2.52461290359\n",
        "59"
       ]
      },
      {
       "output_type": "stream",
       "stream": "stdout",
       "text": [
        " pairFeatures time 2.36323285103\n",
        "60"
       ]
      },
      {
       "output_type": "stream",
       "stream": "stdout",
       "text": [
        " pairFeatures time 2.37675786018\n",
        "61"
       ]
      },
      {
       "output_type": "stream",
       "stream": "stdout",
       "text": [
        " pairFeatures time 2.34820699692\n",
        "62"
       ]
      },
      {
       "output_type": "stream",
       "stream": "stdout",
       "text": [
        " pairFeatures time 2.34691500664\n",
        "63"
       ]
      },
      {
       "output_type": "stream",
       "stream": "stdout",
       "text": [
        " pairFeatures time 2.39131903648\n",
        "64"
       ]
      },
      {
       "output_type": "stream",
       "stream": "stdout",
       "text": [
        " pairFeatures time 2.37827897072\n",
        "65"
       ]
      },
      {
       "output_type": "stream",
       "stream": "stdout",
       "text": [
        " pairFeatures time 2.35797715187\n",
        "66"
       ]
      },
      {
       "output_type": "stream",
       "stream": "stdout",
       "text": [
        " pairFeatures time 2.36525392532\n",
        "67"
       ]
      },
      {
       "output_type": "stream",
       "stream": "stdout",
       "text": [
        " pairFeatures time 2.3738489151\n",
        "68"
       ]
      },
      {
       "output_type": "stream",
       "stream": "stdout",
       "text": [
        " pairFeatures time 2.35259699821\n",
        "69"
       ]
      },
      {
       "output_type": "stream",
       "stream": "stdout",
       "text": [
        " pairFeatures time 2.36947917938\n",
        "70"
       ]
      },
      {
       "output_type": "stream",
       "stream": "stdout",
       "text": [
        " pairFeatures time 2.34547591209\n",
        "71"
       ]
      },
      {
       "output_type": "stream",
       "stream": "stdout",
       "text": [
        " pairFeatures time 2.33454489708\n",
        "72"
       ]
      },
      {
       "output_type": "stream",
       "stream": "stdout",
       "text": [
        " pairFeatures time 2.3297021389\n",
        "73"
       ]
      },
      {
       "output_type": "stream",
       "stream": "stdout",
       "text": [
        " pairFeatures time 2.31947994232\n",
        "74"
       ]
      },
      {
       "output_type": "stream",
       "stream": "stdout",
       "text": [
        " pairFeatures time 2.48492312431\n",
        "75"
       ]
      },
      {
       "output_type": "stream",
       "stream": "stdout",
       "text": [
        " pairFeatures time 2.47899603844\n",
        "76"
       ]
      },
      {
       "output_type": "stream",
       "stream": "stdout",
       "text": [
        " pairFeatures time 2.45498490334\n",
        "77"
       ]
      },
      {
       "output_type": "stream",
       "stream": "stdout",
       "text": [
        " pairFeatures time 2.48755502701\n",
        "78"
       ]
      },
      {
       "output_type": "stream",
       "stream": "stdout",
       "text": [
        " pairFeatures time 2.71856617928\n",
        "79"
       ]
      },
      {
       "output_type": "stream",
       "stream": "stdout",
       "text": [
        " pairFeatures time 2.32340288162\n",
        "80"
       ]
      },
      {
       "output_type": "stream",
       "stream": "stdout",
       "text": [
        " pairFeatures time 2.37867999077\n",
        "81"
       ]
      },
      {
       "output_type": "stream",
       "stream": "stdout",
       "text": [
        " pairFeatures time 2.32777690887\n",
        "82"
       ]
      },
      {
       "output_type": "stream",
       "stream": "stdout",
       "text": [
        " pairFeatures time 2.49489808083\n",
        "83"
       ]
      },
      {
       "output_type": "stream",
       "stream": "stdout",
       "text": [
        " pairFeatures time 2.62398719788\n",
        "84"
       ]
      },
      {
       "output_type": "stream",
       "stream": "stdout",
       "text": [
        " pairFeatures time 2.46201515198\n",
        "85"
       ]
      },
      {
       "output_type": "stream",
       "stream": "stdout",
       "text": [
        " pairFeatures time 2.47184705734\n",
        "86"
       ]
      },
      {
       "output_type": "stream",
       "stream": "stdout",
       "text": [
        " pairFeatures time 2.4898481369\n",
        "87"
       ]
      },
      {
       "output_type": "stream",
       "stream": "stdout",
       "text": [
        " pairFeatures time 2.7842540741\n",
        "88"
       ]
      },
      {
       "output_type": "stream",
       "stream": "stdout",
       "text": [
        " pairFeatures time 2.83209109306\n",
        "89"
       ]
      },
      {
       "output_type": "stream",
       "stream": "stdout",
       "text": [
        " pairFeatures time 2.5143661499\n",
        "90"
       ]
      },
      {
       "output_type": "stream",
       "stream": "stdout",
       "text": [
        " pairFeatures time 2.42050886154\n",
        "91"
       ]
      },
      {
       "output_type": "stream",
       "stream": "stdout",
       "text": [
        " pairFeatures time 2.39038085938\n",
        "92"
       ]
      },
      {
       "output_type": "stream",
       "stream": "stdout",
       "text": [
        " pairFeatures time 2.47318887711\n",
        "93"
       ]
      },
      {
       "output_type": "stream",
       "stream": "stdout",
       "text": [
        " pairFeatures time 2.58546185493\n",
        "94"
       ]
      },
      {
       "output_type": "stream",
       "stream": "stdout",
       "text": [
        " pairFeatures time 2.51501393318\n",
        "95"
       ]
      },
      {
       "output_type": "stream",
       "stream": "stdout",
       "text": [
        " pairFeatures time 2.38724708557\n",
        "96"
       ]
      },
      {
       "output_type": "stream",
       "stream": "stdout",
       "text": [
        " pairFeatures time 2.51736497879\n",
        "97"
       ]
      },
      {
       "output_type": "stream",
       "stream": "stdout",
       "text": [
        " pairFeatures time 2.39941596985\n",
        "98"
       ]
      },
      {
       "output_type": "stream",
       "stream": "stdout",
       "text": [
        " pairFeatures time 2.35746598244\n",
        "99"
       ]
      },
      {
       "output_type": "stream",
       "stream": "stdout",
       "text": [
        " pairFeatures time 2.30936002731\n",
        "100"
       ]
      },
      {
       "output_type": "stream",
       "stream": "stdout",
       "text": [
        " pairFeatures time 2.26651597023\n",
        "101"
       ]
      },
      {
       "output_type": "stream",
       "stream": "stdout",
       "text": [
        " pairFeatures time 2.33275294304\n",
        "102"
       ]
      },
      {
       "output_type": "stream",
       "stream": "stdout",
       "text": [
        " pairFeatures time 2.38708305359\n",
        "103"
       ]
      },
      {
       "output_type": "stream",
       "stream": "stdout",
       "text": [
        " pairFeatures time 2.29996800423\n",
        "104"
       ]
      },
      {
       "output_type": "stream",
       "stream": "stdout",
       "text": [
        " pairFeatures time 2.50746703148\n",
        "105"
       ]
      },
      {
       "output_type": "stream",
       "stream": "stdout",
       "text": [
        " pairFeatures time 2.34067821503\n",
        "106"
       ]
      },
      {
       "output_type": "stream",
       "stream": "stdout",
       "text": [
        " pairFeatures time 2.30633306503\n",
        "107"
       ]
      },
      {
       "output_type": "stream",
       "stream": "stdout",
       "text": [
        " pairFeatures time 2.56022787094\n",
        "108"
       ]
      },
      {
       "output_type": "stream",
       "stream": "stdout",
       "text": [
        " pairFeatures time 2.38324999809\n",
        "109"
       ]
      },
      {
       "output_type": "stream",
       "stream": "stdout",
       "text": [
        " pairFeatures time 2.41367101669\n",
        "110"
       ]
      },
      {
       "output_type": "stream",
       "stream": "stdout",
       "text": [
        " pairFeatures time 2.31985116005\n",
        "111"
       ]
      },
      {
       "output_type": "stream",
       "stream": "stdout",
       "text": [
        " pairFeatures time 2.26504611969\n",
        "112"
       ]
      },
      {
       "output_type": "stream",
       "stream": "stdout",
       "text": [
        " pairFeatures time 2.26266694069\n",
        "113"
       ]
      },
      {
       "output_type": "stream",
       "stream": "stdout",
       "text": [
        " pairFeatures time 2.2951529026\n",
        "114"
       ]
      },
      {
       "output_type": "stream",
       "stream": "stdout",
       "text": [
        " pairFeatures time 2.28396201134\n",
        "115"
       ]
      },
      {
       "output_type": "stream",
       "stream": "stdout",
       "text": [
        " pairFeatures time 2.2442510128\n",
        "116"
       ]
      },
      {
       "output_type": "stream",
       "stream": "stdout",
       "text": [
        " pairFeatures time 2.2342300415\n",
        "117"
       ]
      },
      {
       "output_type": "stream",
       "stream": "stdout",
       "text": [
        " pairFeatures time 2.23202490807\n",
        "118"
       ]
      },
      {
       "output_type": "stream",
       "stream": "stdout",
       "text": [
        " pairFeatures time 2.26701784134\n",
        "119"
       ]
      },
      {
       "output_type": "stream",
       "stream": "stdout",
       "text": [
        " pairFeatures time 2.25825285912\n",
        "120"
       ]
      },
      {
       "output_type": "stream",
       "stream": "stdout",
       "text": [
        " pairFeatures time 2.23800683022\n",
        "121"
       ]
      },
      {
       "output_type": "stream",
       "stream": "stdout",
       "text": [
        " pairFeatures time 2.24803781509\n",
        "122"
       ]
      },
      {
       "output_type": "stream",
       "stream": "stdout",
       "text": [
        " pairFeatures time 2.23545002937\n",
        "123"
       ]
      },
      {
       "output_type": "stream",
       "stream": "stdout",
       "text": [
        " pairFeatures time 2.3258869648\n",
        "124"
       ]
      },
      {
       "output_type": "stream",
       "stream": "stdout",
       "text": [
        " pairFeatures time 2.24380397797\n",
        "125"
       ]
      },
      {
       "output_type": "stream",
       "stream": "stdout",
       "text": [
        " pairFeatures time 2.24124097824\n",
        "126"
       ]
      },
      {
       "output_type": "stream",
       "stream": "stdout",
       "text": [
        " pairFeatures time 2.29515194893\n",
        "127"
       ]
      },
      {
       "output_type": "stream",
       "stream": "stdout",
       "text": [
        " pairFeatures time 2.38249921799\n",
        "128"
       ]
      },
      {
       "output_type": "stream",
       "stream": "stdout",
       "text": [
        " pairFeatures time 2.25603890419\n",
        "129"
       ]
      },
      {
       "output_type": "stream",
       "stream": "stdout",
       "text": [
        " pairFeatures time 2.24537706375\n",
        "130"
       ]
      },
      {
       "output_type": "stream",
       "stream": "stdout",
       "text": [
        " pairFeatures time 2.2305419445\n",
        "131"
       ]
      },
      {
       "output_type": "stream",
       "stream": "stdout",
       "text": [
        " pairFeatures time 2.20190811157\n",
        "132"
       ]
      },
      {
       "output_type": "stream",
       "stream": "stdout",
       "text": [
        " pairFeatures time 2.21644711494\n",
        "133"
       ]
      },
      {
       "output_type": "stream",
       "stream": "stdout",
       "text": [
        " pairFeatures time 2.42535591125\n",
        "134"
       ]
      },
      {
       "output_type": "stream",
       "stream": "stdout",
       "text": [
        " pairFeatures time 2.20921397209\n",
        "135"
       ]
      },
      {
       "output_type": "stream",
       "stream": "stdout",
       "text": [
        " pairFeatures time 2.18802595139\n",
        "136"
       ]
      },
      {
       "output_type": "stream",
       "stream": "stdout",
       "text": [
        " pairFeatures time 2.19632911682\n",
        "137"
       ]
      },
      {
       "output_type": "stream",
       "stream": "stdout",
       "text": [
        " pairFeatures time 2.23234605789\n",
        "138"
       ]
      },
      {
       "output_type": "stream",
       "stream": "stdout",
       "text": [
        " pairFeatures time 2.24123001099\n",
        "139"
       ]
      },
      {
       "output_type": "stream",
       "stream": "stdout",
       "text": [
        " pairFeatures time 2.27389192581\n",
        "140"
       ]
      },
      {
       "output_type": "stream",
       "stream": "stdout",
       "text": [
        " pairFeatures time 2.28240799904\n",
        "141"
       ]
      },
      {
       "output_type": "stream",
       "stream": "stdout",
       "text": [
        " pairFeatures time 2.24185705185\n",
        "142"
       ]
      },
      {
       "output_type": "stream",
       "stream": "stdout",
       "text": [
        " pairFeatures time 2.22115087509\n",
        "143"
       ]
      },
      {
       "output_type": "stream",
       "stream": "stdout",
       "text": [
        " pairFeatures time 2.19004702568\n",
        "144"
       ]
      },
      {
       "output_type": "stream",
       "stream": "stdout",
       "text": [
        " pairFeatures time 2.29194808006\n",
        "145"
       ]
      },
      {
       "output_type": "stream",
       "stream": "stdout",
       "text": [
        " pairFeatures time 2.18604016304\n",
        "146"
       ]
      },
      {
       "output_type": "stream",
       "stream": "stdout",
       "text": [
        " pairFeatures time 2.2292470932\n",
        "147"
       ]
      },
      {
       "output_type": "stream",
       "stream": "stdout",
       "text": [
        " pairFeatures time 2.29553294182\n",
        "148"
       ]
      },
      {
       "output_type": "stream",
       "stream": "stdout",
       "text": [
        " pairFeatures time 2.22650098801\n",
        "149"
       ]
      },
      {
       "output_type": "stream",
       "stream": "stdout",
       "text": [
        " pairFeatures time 2.19791698456\n",
        "150"
       ]
      },
      {
       "output_type": "stream",
       "stream": "stdout",
       "text": [
        " pairFeatures time 2.281208992\n",
        "151"
       ]
      },
      {
       "output_type": "stream",
       "stream": "stdout",
       "text": [
        " pairFeatures time 2.21634697914\n",
        "152"
       ]
      },
      {
       "output_type": "stream",
       "stream": "stdout",
       "text": [
        " pairFeatures time 2.22269916534\n",
        "153"
       ]
      },
      {
       "output_type": "stream",
       "stream": "stdout",
       "text": [
        " pairFeatures time 2.15518498421\n",
        "154"
       ]
      },
      {
       "output_type": "stream",
       "stream": "stdout",
       "text": [
        " pairFeatures time 2.17637705803\n",
        "155"
       ]
      },
      {
       "output_type": "stream",
       "stream": "stdout",
       "text": [
        " pairFeatures time 2.16388201714\n",
        "156"
       ]
      },
      {
       "output_type": "stream",
       "stream": "stdout",
       "text": [
        " pairFeatures time 2.21203184128\n",
        "157"
       ]
      },
      {
       "output_type": "stream",
       "stream": "stdout",
       "text": [
        " pairFeatures time 2.26692199707\n",
        "158"
       ]
      },
      {
       "output_type": "stream",
       "stream": "stdout",
       "text": [
        " pairFeatures time 2.20043706894\n",
        "159"
       ]
      },
      {
       "output_type": "stream",
       "stream": "stdout",
       "text": [
        " pairFeatures time 2.17068910599\n",
        "160"
       ]
      },
      {
       "output_type": "stream",
       "stream": "stdout",
       "text": [
        " pairFeatures time 2.1650249958\n",
        "161"
       ]
      },
      {
       "output_type": "stream",
       "stream": "stdout",
       "text": [
        " pairFeatures time 2.21237611771\n",
        "162"
       ]
      },
      {
       "output_type": "stream",
       "stream": "stdout",
       "text": [
        " pairFeatures time 2.35853409767\n",
        "163"
       ]
      },
      {
       "output_type": "stream",
       "stream": "stdout",
       "text": [
        " pairFeatures time 2.20305395126\n",
        "164"
       ]
      },
      {
       "output_type": "stream",
       "stream": "stdout",
       "text": [
        " pairFeatures time 2.26465082169\n",
        "165"
       ]
      },
      {
       "output_type": "stream",
       "stream": "stdout",
       "text": [
        " pairFeatures time 2.27916717529\n",
        "166"
       ]
      },
      {
       "output_type": "stream",
       "stream": "stdout",
       "text": [
        " pairFeatures time 2.18711686134\n",
        "167"
       ]
      },
      {
       "output_type": "stream",
       "stream": "stdout",
       "text": [
        " pairFeatures time 2.19583487511\n",
        "168"
       ]
      },
      {
       "output_type": "stream",
       "stream": "stdout",
       "text": [
        " pairFeatures time 2.24807906151\n",
        "169"
       ]
      },
      {
       "output_type": "stream",
       "stream": "stdout",
       "text": [
        " pairFeatures time 2.20626401901\n",
        "170"
       ]
      },
      {
       "output_type": "stream",
       "stream": "stdout",
       "text": [
        " pairFeatures time 2.21570181847\n",
        "171"
       ]
      },
      {
       "output_type": "stream",
       "stream": "stdout",
       "text": [
        " pairFeatures time 2.26422381401\n",
        "172"
       ]
      },
      {
       "output_type": "stream",
       "stream": "stdout",
       "text": [
        " pairFeatures time 2.32678198814\n",
        "173"
       ]
      },
      {
       "output_type": "stream",
       "stream": "stdout",
       "text": [
        " pairFeatures time 2.23411011696\n",
        "174"
       ]
      },
      {
       "output_type": "stream",
       "stream": "stdout",
       "text": [
        " pairFeatures time 2.1945669651\n",
        "175"
       ]
      },
      {
       "output_type": "stream",
       "stream": "stdout",
       "text": [
        " pairFeatures time 2.28238606453\n",
        "176"
       ]
      },
      {
       "output_type": "stream",
       "stream": "stdout",
       "text": [
        " pairFeatures time 2.26704311371\n",
        "177"
       ]
      },
      {
       "output_type": "stream",
       "stream": "stdout",
       "text": [
        " pairFeatures time 2.26934194565\n",
        "178"
       ]
      },
      {
       "output_type": "stream",
       "stream": "stdout",
       "text": [
        " pairFeatures time 2.2502450943\n",
        "179"
       ]
      },
      {
       "output_type": "stream",
       "stream": "stdout",
       "text": [
        " pairFeatures time 2.15490889549\n",
        "180"
       ]
      },
      {
       "output_type": "stream",
       "stream": "stdout",
       "text": [
        " pairFeatures time 2.25401806831\n",
        "181"
       ]
      },
      {
       "output_type": "stream",
       "stream": "stdout",
       "text": [
        " pairFeatures time 2.18600296974\n",
        "182"
       ]
      },
      {
       "output_type": "stream",
       "stream": "stdout",
       "text": [
        " pairFeatures time 2.16565513611\n",
        "183"
       ]
      },
      {
       "output_type": "stream",
       "stream": "stdout",
       "text": [
        " pairFeatures time 2.16978001595\n",
        "184"
       ]
      },
      {
       "output_type": "stream",
       "stream": "stdout",
       "text": [
        " pairFeatures time 2.26328802109\n",
        "185"
       ]
      },
      {
       "output_type": "stream",
       "stream": "stdout",
       "text": [
        " pairFeatures time 2.12759518623\n",
        "186"
       ]
      },
      {
       "output_type": "stream",
       "stream": "stdout",
       "text": [
        " pairFeatures time 2.10590291023\n",
        "187"
       ]
      },
      {
       "output_type": "stream",
       "stream": "stdout",
       "text": [
        " pairFeatures time 2.12925314903\n",
        "188"
       ]
      },
      {
       "output_type": "stream",
       "stream": "stdout",
       "text": [
        " pairFeatures time 2.11867499352\n",
        "189"
       ]
      },
      {
       "output_type": "stream",
       "stream": "stdout",
       "text": [
        " pairFeatures time 2.10566711426\n",
        "190"
       ]
      },
      {
       "output_type": "stream",
       "stream": "stdout",
       "text": [
        " pairFeatures time 2.1067700386\n",
        "191"
       ]
      },
      {
       "output_type": "stream",
       "stream": "stdout",
       "text": [
        " pairFeatures time 2.1209769249\n",
        "192"
       ]
      },
      {
       "output_type": "stream",
       "stream": "stdout",
       "text": [
        " pairFeatures time 2.07814693451\n",
        "193"
       ]
      },
      {
       "output_type": "stream",
       "stream": "stdout",
       "text": [
        " pairFeatures time 2.09320402145\n",
        "194"
       ]
      },
      {
       "output_type": "stream",
       "stream": "stdout",
       "text": [
        " pairFeatures time 2.08571887016\n",
        "195"
       ]
      },
      {
       "output_type": "stream",
       "stream": "stdout",
       "text": [
        " pairFeatures time 2.12212300301\n",
        "196"
       ]
      },
      {
       "output_type": "stream",
       "stream": "stdout",
       "text": [
        " pairFeatures time 2.1138420105\n",
        "197"
       ]
      },
      {
       "output_type": "stream",
       "stream": "stdout",
       "text": [
        " pairFeatures time 2.15405297279\n",
        "198"
       ]
      },
      {
       "output_type": "stream",
       "stream": "stdout",
       "text": [
        " pairFeatures time 2.07213616371\n",
        "199"
       ]
      },
      {
       "output_type": "stream",
       "stream": "stdout",
       "text": [
        " pairFeatures time 2.1172580719\n",
        "200"
       ]
      },
      {
       "output_type": "stream",
       "stream": "stdout",
       "text": [
        " pairFeatures time 2.12061810493\n",
        "201"
       ]
      },
      {
       "output_type": "stream",
       "stream": "stdout",
       "text": [
        " pairFeatures time 2.1776881218\n",
        "202"
       ]
      },
      {
       "output_type": "stream",
       "stream": "stdout",
       "text": [
        " pairFeatures time 2.16312003136\n",
        "203"
       ]
      },
      {
       "output_type": "stream",
       "stream": "stdout",
       "text": [
        " pairFeatures time 2.15954518318\n",
        "204"
       ]
      },
      {
       "output_type": "stream",
       "stream": "stdout",
       "text": [
        " pairFeatures time 2.28060913086\n",
        "205"
       ]
      },
      {
       "output_type": "stream",
       "stream": "stdout",
       "text": [
        " pairFeatures time 2.26651310921\n",
        "206"
       ]
      },
      {
       "output_type": "stream",
       "stream": "stdout",
       "text": [
        " pairFeatures time 2.29142808914\n",
        "207"
       ]
      },
      {
       "output_type": "stream",
       "stream": "stdout",
       "text": [
        " pairFeatures time 2.08216714859\n",
        "208"
       ]
      },
      {
       "output_type": "stream",
       "stream": "stdout",
       "text": [
        " pairFeatures time 2.06830906868\n",
        "209"
       ]
      },
      {
       "output_type": "stream",
       "stream": "stdout",
       "text": [
        " pairFeatures time 2.06931805611\n",
        "210"
       ]
      },
      {
       "output_type": "stream",
       "stream": "stdout",
       "text": [
        " pairFeatures time 2.12145900726\n",
        "211"
       ]
      },
      {
       "output_type": "stream",
       "stream": "stdout",
       "text": [
        " pairFeatures time 2.18496918678\n",
        "212"
       ]
      },
      {
       "output_type": "stream",
       "stream": "stdout",
       "text": [
        " pairFeatures time 2.21265506744\n",
        "213"
       ]
      },
      {
       "output_type": "stream",
       "stream": "stdout",
       "text": [
        " pairFeatures time 2.19115209579\n",
        "214"
       ]
      },
      {
       "output_type": "stream",
       "stream": "stdout",
       "text": [
        " pairFeatures time 2.39656305313\n",
        "215"
       ]
      },
      {
       "output_type": "stream",
       "stream": "stdout",
       "text": [
        " pairFeatures time 2.16324591637\n",
        "216"
       ]
      },
      {
       "output_type": "stream",
       "stream": "stdout",
       "text": [
        " pairFeatures time 2.21578979492\n",
        "217"
       ]
      },
      {
       "output_type": "stream",
       "stream": "stdout",
       "text": [
        " pairFeatures time 2.28007483482\n",
        "218"
       ]
      },
      {
       "output_type": "stream",
       "stream": "stdout",
       "text": [
        " pairFeatures time 2.32110214233\n",
        "219"
       ]
      },
      {
       "output_type": "stream",
       "stream": "stdout",
       "text": [
        " pairFeatures time 2.24552178383\n",
        "220"
       ]
      },
      {
       "output_type": "stream",
       "stream": "stdout",
       "text": [
        " pairFeatures time 2.03946995735\n",
        "221"
       ]
      },
      {
       "output_type": "stream",
       "stream": "stdout",
       "text": [
        " pairFeatures time 2.02365708351\n",
        "222"
       ]
      },
      {
       "output_type": "stream",
       "stream": "stdout",
       "text": [
        " pairFeatures time 2.01925516129\n",
        "223"
       ]
      },
      {
       "output_type": "stream",
       "stream": "stdout",
       "text": [
        " pairFeatures time 2.02552199364\n",
        "224"
       ]
      },
      {
       "output_type": "stream",
       "stream": "stdout",
       "text": [
        " pairFeatures time 2.01106309891\n",
        "225"
       ]
      },
      {
       "output_type": "stream",
       "stream": "stdout",
       "text": [
        " pairFeatures time 2.00437402725\n",
        "226"
       ]
      },
      {
       "output_type": "stream",
       "stream": "stdout",
       "text": [
        " pairFeatures time 2.01645994186\n",
        "227"
       ]
      },
      {
       "output_type": "stream",
       "stream": "stdout",
       "text": [
        " pairFeatures time 2.02866911888\n",
        "228"
       ]
      },
      {
       "output_type": "stream",
       "stream": "stdout",
       "text": [
        " pairFeatures time 2.00066399574\n",
        "229"
       ]
      },
      {
       "output_type": "stream",
       "stream": "stdout",
       "text": [
        " pairFeatures time 1.99934887886\n",
        "230"
       ]
      },
      {
       "output_type": "stream",
       "stream": "stdout",
       "text": [
        " pairFeatures time 1.99610304832\n",
        "231"
       ]
      },
      {
       "output_type": "stream",
       "stream": "stdout",
       "text": [
        " pairFeatures time 1.98784685135\n",
        "232"
       ]
      },
      {
       "output_type": "stream",
       "stream": "stdout",
       "text": [
        " pairFeatures time 1.96845078468\n",
        "233"
       ]
      },
      {
       "output_type": "stream",
       "stream": "stdout",
       "text": [
        " pairFeatures time 1.98583388329\n",
        "234"
       ]
      },
      {
       "output_type": "stream",
       "stream": "stdout",
       "text": [
        " pairFeatures time 1.97670292854\n",
        "235"
       ]
      },
      {
       "output_type": "stream",
       "stream": "stdout",
       "text": [
        " pairFeatures time 1.98119187355\n",
        "236"
       ]
      },
      {
       "output_type": "stream",
       "stream": "stdout",
       "text": [
        " pairFeatures time 1.98609900475\n",
        "237"
       ]
      },
      {
       "output_type": "stream",
       "stream": "stdout",
       "text": [
        " pairFeatures time 1.98119807243\n",
        "238"
       ]
      },
      {
       "output_type": "stream",
       "stream": "stdout",
       "text": [
        " pairFeatures time 1.98142695427\n",
        "239"
       ]
      },
      {
       "output_type": "stream",
       "stream": "stdout",
       "text": [
        " pairFeatures time 1.98099422455\n",
        "240"
       ]
      },
      {
       "output_type": "stream",
       "stream": "stdout",
       "text": [
        " pairFeatures time 1.97812700272\n",
        "241"
       ]
      },
      {
       "output_type": "stream",
       "stream": "stdout",
       "text": [
        " pairFeatures time 1.97000098228\n",
        "242"
       ]
      },
      {
       "output_type": "stream",
       "stream": "stdout",
       "text": [
        " pairFeatures time 1.98665809631\n",
        "243"
       ]
      },
      {
       "output_type": "stream",
       "stream": "stdout",
       "text": [
        " pairFeatures time 1.96769809723\n",
        "244"
       ]
      },
      {
       "output_type": "stream",
       "stream": "stdout",
       "text": [
        " pairFeatures time 1.96502995491\n",
        "245"
       ]
      },
      {
       "output_type": "stream",
       "stream": "stdout",
       "text": [
        " pairFeatures time 1.9576420784\n",
        "246"
       ]
      },
      {
       "output_type": "stream",
       "stream": "stdout",
       "text": [
        " pairFeatures time 1.99528598785\n",
        "247"
       ]
      },
      {
       "output_type": "stream",
       "stream": "stdout",
       "text": [
        " pairFeatures time 1.95377397537\n",
        "248"
       ]
      },
      {
       "output_type": "stream",
       "stream": "stdout",
       "text": [
        " pairFeatures time 1.94162893295\n",
        "249"
       ]
      },
      {
       "output_type": "stream",
       "stream": "stdout",
       "text": [
        " pairFeatures time 1.95272994041\n",
        "250"
       ]
      },
      {
       "output_type": "stream",
       "stream": "stdout",
       "text": [
        " pairFeatures time 1.94895195961\n",
        "251"
       ]
      },
      {
       "output_type": "stream",
       "stream": "stdout",
       "text": [
        " pairFeatures time 1.94845986366\n",
        "252"
       ]
      },
      {
       "output_type": "stream",
       "stream": "stdout",
       "text": [
        " pairFeatures time 1.93500208855\n",
        "253"
       ]
      },
      {
       "output_type": "stream",
       "stream": "stdout",
       "text": [
        " pairFeatures time 1.94030404091\n",
        "254"
       ]
      },
      {
       "output_type": "stream",
       "stream": "stdout",
       "text": [
        " pairFeatures time 1.93395495415\n",
        "255"
       ]
      },
      {
       "output_type": "stream",
       "stream": "stdout",
       "text": [
        " pairFeatures time 1.95588994026\n",
        "256"
       ]
      },
      {
       "output_type": "stream",
       "stream": "stdout",
       "text": [
        " pairFeatures time 1.95186400414\n",
        "257"
       ]
      },
      {
       "output_type": "stream",
       "stream": "stdout",
       "text": [
        " pairFeatures time 1.95668005943\n",
        "258"
       ]
      },
      {
       "output_type": "stream",
       "stream": "stdout",
       "text": [
        " pairFeatures time 1.95888710022\n",
        "259"
       ]
      },
      {
       "output_type": "stream",
       "stream": "stdout",
       "text": [
        " pairFeatures time 1.94254994392\n",
        "260"
       ]
      },
      {
       "output_type": "stream",
       "stream": "stdout",
       "text": [
        " pairFeatures time 1.92584300041\n",
        "261"
       ]
      },
      {
       "output_type": "stream",
       "stream": "stdout",
       "text": [
        " pairFeatures time 1.92692399025\n",
        "262"
       ]
      },
      {
       "output_type": "stream",
       "stream": "stdout",
       "text": [
        " pairFeatures time 1.93268203735\n",
        "263"
       ]
      },
      {
       "output_type": "stream",
       "stream": "stdout",
       "text": [
        " pairFeatures time 1.95891499519\n",
        "264"
       ]
      },
      {
       "output_type": "stream",
       "stream": "stdout",
       "text": [
        " pairFeatures time 1.93365597725\n",
        "265"
       ]
      },
      {
       "output_type": "stream",
       "stream": "stdout",
       "text": [
        " pairFeatures time 1.92211699486\n",
        "266"
       ]
      },
      {
       "output_type": "stream",
       "stream": "stdout",
       "text": [
        " pairFeatures time 1.93042206764\n",
        "267"
       ]
      },
      {
       "output_type": "stream",
       "stream": "stdout",
       "text": [
        " pairFeatures time 1.92228603363\n",
        "268"
       ]
      },
      {
       "output_type": "stream",
       "stream": "stdout",
       "text": [
        " pairFeatures time 1.92687916756\n",
        "269"
       ]
      },
      {
       "output_type": "stream",
       "stream": "stdout",
       "text": [
        " pairFeatures time 1.91314387321\n",
        "270"
       ]
      },
      {
       "output_type": "stream",
       "stream": "stdout",
       "text": [
        " pairFeatures time 1.92794179916\n",
        "271"
       ]
      },
      {
       "output_type": "stream",
       "stream": "stdout",
       "text": [
        " pairFeatures time 1.9281039238\n",
        "272"
       ]
      },
      {
       "output_type": "stream",
       "stream": "stdout",
       "text": [
        " pairFeatures time 1.92256498337\n",
        "273"
       ]
      },
      {
       "output_type": "stream",
       "stream": "stdout",
       "text": [
        " pairFeatures time 1.93498301506\n",
        "274"
       ]
      },
      {
       "output_type": "stream",
       "stream": "stdout",
       "text": [
        " pairFeatures time 1.92012405396\n",
        "275"
       ]
      },
      {
       "output_type": "stream",
       "stream": "stdout",
       "text": [
        " pairFeatures time 1.90574502945\n",
        "276"
       ]
      },
      {
       "output_type": "stream",
       "stream": "stdout",
       "text": [
        " pairFeatures time 1.89861607552\n",
        "277"
       ]
      },
      {
       "output_type": "stream",
       "stream": "stdout",
       "text": [
        " pairFeatures time 1.89475607872\n",
        "278"
       ]
      },
      {
       "output_type": "stream",
       "stream": "stdout",
       "text": [
        " pairFeatures time 1.88871598244\n",
        "279"
       ]
      },
      {
       "output_type": "stream",
       "stream": "stdout",
       "text": [
        " pairFeatures time 1.89240694046\n",
        "280"
       ]
      },
      {
       "output_type": "stream",
       "stream": "stdout",
       "text": [
        " pairFeatures time 1.90551710129\n",
        "281"
       ]
      },
      {
       "output_type": "stream",
       "stream": "stdout",
       "text": [
        " pairFeatures time 1.90431809425\n",
        "282"
       ]
      },
      {
       "output_type": "stream",
       "stream": "stdout",
       "text": [
        " pairFeatures time 1.89851999283\n",
        "283"
       ]
      },
      {
       "output_type": "stream",
       "stream": "stdout",
       "text": [
        " pairFeatures time 1.89179611206\n",
        "284"
       ]
      },
      {
       "output_type": "stream",
       "stream": "stdout",
       "text": [
        " pairFeatures time 1.89743900299\n",
        "285"
       ]
      },
      {
       "output_type": "stream",
       "stream": "stdout",
       "text": [
        " pairFeatures time 1.88749599457\n",
        "286"
       ]
      },
      {
       "output_type": "stream",
       "stream": "stdout",
       "text": [
        " pairFeatures time 1.88835787773\n",
        "287"
       ]
      },
      {
       "output_type": "stream",
       "stream": "stdout",
       "text": [
        " pairFeatures time 1.89133381844\n",
        "288"
       ]
      },
      {
       "output_type": "stream",
       "stream": "stdout",
       "text": [
        " pairFeatures time 1.89091587067\n",
        "289"
       ]
      },
      {
       "output_type": "stream",
       "stream": "stdout",
       "text": [
        " pairFeatures time 1.89179301262\n",
        "290"
       ]
      },
      {
       "output_type": "stream",
       "stream": "stdout",
       "text": [
        " pairFeatures time 1.8824429512\n",
        "291"
       ]
      },
      {
       "output_type": "stream",
       "stream": "stdout",
       "text": [
        " pairFeatures time 1.88332009315\n",
        "292"
       ]
      },
      {
       "output_type": "stream",
       "stream": "stdout",
       "text": [
        " pairFeatures time 1.87353396416\n",
        "293"
       ]
      },
      {
       "output_type": "stream",
       "stream": "stdout",
       "text": [
        " pairFeatures time 1.86292886734\n",
        "294"
       ]
      },
      {
       "output_type": "stream",
       "stream": "stdout",
       "text": [
        " pairFeatures time 1.86904191971\n",
        "295"
       ]
      },
      {
       "output_type": "stream",
       "stream": "stdout",
       "text": [
        " pairFeatures time 1.8619120121\n",
        "296"
       ]
      },
      {
       "output_type": "stream",
       "stream": "stdout",
       "text": [
        " pairFeatures time 1.86662101746\n",
        "297"
       ]
      },
      {
       "output_type": "stream",
       "stream": "stdout",
       "text": [
        " pairFeatures time 1.8700170517\n",
        "298"
       ]
      },
      {
       "output_type": "stream",
       "stream": "stdout",
       "text": [
        " pairFeatures time 1.86699986458\n",
        "299"
       ]
      },
      {
       "output_type": "stream",
       "stream": "stdout",
       "text": [
        " pairFeatures time 1.85868191719\n",
        "300"
       ]
      },
      {
       "output_type": "stream",
       "stream": "stdout",
       "text": [
        " pairFeatures time 1.85706615448\n",
        "301"
       ]
      },
      {
       "output_type": "stream",
       "stream": "stdout",
       "text": [
        " pairFeatures time 1.86086010933\n",
        "302"
       ]
      },
      {
       "output_type": "stream",
       "stream": "stdout",
       "text": [
        " pairFeatures time 1.86003994942\n",
        "303"
       ]
      },
      {
       "output_type": "stream",
       "stream": "stdout",
       "text": [
        " pairFeatures time 1.86003899574\n",
        "304"
       ]
      },
      {
       "output_type": "stream",
       "stream": "stdout",
       "text": [
        " pairFeatures time 1.86181902885\n",
        "305"
       ]
      },
      {
       "output_type": "stream",
       "stream": "stdout",
       "text": [
        " pairFeatures time 1.88004207611\n",
        "306"
       ]
      },
      {
       "output_type": "stream",
       "stream": "stdout",
       "text": [
        " pairFeatures time 1.85889196396\n",
        "307"
       ]
      },
      {
       "output_type": "stream",
       "stream": "stdout",
       "text": [
        " pairFeatures time 1.85491609573\n",
        "308"
       ]
      },
      {
       "output_type": "stream",
       "stream": "stdout",
       "text": [
        " pairFeatures time 1.85508990288\n",
        "309"
       ]
      },
      {
       "output_type": "stream",
       "stream": "stdout",
       "text": [
        " pairFeatures time 1.84171485901\n",
        "310"
       ]
      },
      {
       "output_type": "stream",
       "stream": "stdout",
       "text": [
        " pairFeatures time 1.84206295013\n",
        "311"
       ]
      },
      {
       "output_type": "stream",
       "stream": "stdout",
       "text": [
        " pairFeatures time 1.83919000626\n",
        "312"
       ]
      },
      {
       "output_type": "stream",
       "stream": "stdout",
       "text": [
        " pairFeatures time 1.84416389465\n",
        "313"
       ]
      },
      {
       "output_type": "stream",
       "stream": "stdout",
       "text": [
        " pairFeatures time 1.83224105835\n",
        "314"
       ]
      },
      {
       "output_type": "stream",
       "stream": "stdout",
       "text": [
        " pairFeatures time 1.8343269825\n",
        "315"
       ]
      },
      {
       "output_type": "stream",
       "stream": "stdout",
       "text": [
        " pairFeatures time 1.82659697533\n",
        "316"
       ]
      },
      {
       "output_type": "stream",
       "stream": "stdout",
       "text": [
        " pairFeatures time 1.83022999763\n",
        "317"
       ]
      },
      {
       "output_type": "stream",
       "stream": "stdout",
       "text": [
        " pairFeatures time 1.8224401474\n",
        "318"
       ]
      },
      {
       "output_type": "stream",
       "stream": "stdout",
       "text": [
        " pairFeatures time 1.82979106903\n",
        "319"
       ]
      },
      {
       "output_type": "stream",
       "stream": "stdout",
       "text": [
        " pairFeatures time 1.82069897652\n",
        "320"
       ]
      },
      {
       "output_type": "stream",
       "stream": "stdout",
       "text": [
        " pairFeatures time 1.82673001289\n",
        "321"
       ]
      },
      {
       "output_type": "stream",
       "stream": "stdout",
       "text": [
        " pairFeatures time 1.8467361927\n",
        "322"
       ]
      },
      {
       "output_type": "stream",
       "stream": "stdout",
       "text": [
        " pairFeatures time 1.843075037\n",
        "323"
       ]
      },
      {
       "output_type": "stream",
       "stream": "stdout",
       "text": [
        " pairFeatures time 1.86374402046\n",
        "324"
       ]
      },
      {
       "output_type": "stream",
       "stream": "stdout",
       "text": [
        " pairFeatures time 1.81357598305\n",
        "325"
       ]
      },
      {
       "output_type": "stream",
       "stream": "stdout",
       "text": [
        " pairFeatures time 1.8283829689\n",
        "326"
       ]
      },
      {
       "output_type": "stream",
       "stream": "stdout",
       "text": [
        " pairFeatures time 1.81690001488\n",
        "327"
       ]
      },
      {
       "output_type": "stream",
       "stream": "stdout",
       "text": [
        " pairFeatures time 1.80353498459\n",
        "328"
       ]
      },
      {
       "output_type": "stream",
       "stream": "stdout",
       "text": [
        " pairFeatures time 1.80137205124\n",
        "329"
       ]
      },
      {
       "output_type": "stream",
       "stream": "stdout",
       "text": [
        " pairFeatures time 1.83295297623\n",
        "330"
       ]
      },
      {
       "output_type": "stream",
       "stream": "stdout",
       "text": [
        " pairFeatures time 1.80684304237\n",
        "331"
       ]
      },
      {
       "output_type": "stream",
       "stream": "stdout",
       "text": [
        " pairFeatures time 1.80075907707\n",
        "332"
       ]
      },
      {
       "output_type": "stream",
       "stream": "stdout",
       "text": [
        " pairFeatures time 1.79186105728\n",
        "333"
       ]
      },
      {
       "output_type": "stream",
       "stream": "stdout",
       "text": [
        " pairFeatures time 1.78840494156\n",
        "334"
       ]
      },
      {
       "output_type": "stream",
       "stream": "stdout",
       "text": [
        " pairFeatures time 1.79181098938\n",
        "335"
       ]
      },
      {
       "output_type": "stream",
       "stream": "stdout",
       "text": [
        " pairFeatures time 1.80090308189\n",
        "336"
       ]
      },
      {
       "output_type": "stream",
       "stream": "stdout",
       "text": [
        " pairFeatures time 1.80562400818\n",
        "337"
       ]
      },
      {
       "output_type": "stream",
       "stream": "stdout",
       "text": [
        " pairFeatures time 1.80340981483\n",
        "338"
       ]
      },
      {
       "output_type": "stream",
       "stream": "stdout",
       "text": [
        " pairFeatures time 1.8213429451\n",
        "339"
       ]
      },
      {
       "output_type": "stream",
       "stream": "stdout",
       "text": [
        " pairFeatures time 1.81037116051\n",
        "340"
       ]
      },
      {
       "output_type": "stream",
       "stream": "stdout",
       "text": [
        " pairFeatures time 1.80048108101\n",
        "341"
       ]
      },
      {
       "output_type": "stream",
       "stream": "stdout",
       "text": [
        " pairFeatures time 1.79464101791\n",
        "342"
       ]
      },
      {
       "output_type": "stream",
       "stream": "stdout",
       "text": [
        " pairFeatures time 1.80480194092\n",
        "343"
       ]
      },
      {
       "output_type": "stream",
       "stream": "stdout",
       "text": [
        " pairFeatures time 1.83949780464\n",
        "344"
       ]
      },
      {
       "output_type": "stream",
       "stream": "stdout",
       "text": [
        " pairFeatures time 1.84013199806\n",
        "345"
       ]
      },
      {
       "output_type": "stream",
       "stream": "stdout",
       "text": [
        " pairFeatures time 1.89952397346\n",
        "346"
       ]
      },
      {
       "output_type": "stream",
       "stream": "stdout",
       "text": [
        " pairFeatures time 1.86791586876\n",
        "347"
       ]
      },
      {
       "output_type": "stream",
       "stream": "stdout",
       "text": [
        " pairFeatures time 1.99662685394\n",
        "348"
       ]
      },
      {
       "output_type": "stream",
       "stream": "stdout",
       "text": [
        " pairFeatures time 1.93911385536\n",
        "349"
       ]
      },
      {
       "output_type": "stream",
       "stream": "stdout",
       "text": [
        " pairFeatures time 1.80696201324\n",
        "350"
       ]
      },
      {
       "output_type": "stream",
       "stream": "stdout",
       "text": [
        " pairFeatures time 1.78723907471\n",
        "351"
       ]
      },
      {
       "output_type": "stream",
       "stream": "stdout",
       "text": [
        " pairFeatures time 1.78436994553\n",
        "352"
       ]
      },
      {
       "output_type": "stream",
       "stream": "stdout",
       "text": [
        " pairFeatures time 1.7963309288\n",
        "353"
       ]
      },
      {
       "output_type": "stream",
       "stream": "stdout",
       "text": [
        " pairFeatures time 1.77545499802\n",
        "354"
       ]
      },
      {
       "output_type": "stream",
       "stream": "stdout",
       "text": [
        " pairFeatures time 1.79588103294\n",
        "355"
       ]
      },
      {
       "output_type": "stream",
       "stream": "stdout",
       "text": [
        " pairFeatures time 1.78276395798\n",
        "356"
       ]
      },
      {
       "output_type": "stream",
       "stream": "stdout",
       "text": [
        " pairFeatures time 1.74580001831\n",
        "357"
       ]
      },
      {
       "output_type": "stream",
       "stream": "stdout",
       "text": [
        " pairFeatures time 1.75114798546\n",
        "358"
       ]
      },
      {
       "output_type": "stream",
       "stream": "stdout",
       "text": [
        " pairFeatures time 1.74612498283\n",
        "359"
       ]
      },
      {
       "output_type": "stream",
       "stream": "stdout",
       "text": [
        " pairFeatures time 1.74113917351\n",
        "360"
       ]
      },
      {
       "output_type": "stream",
       "stream": "stdout",
       "text": [
        " pairFeatures time 1.74503397942\n",
        "361"
       ]
      },
      {
       "output_type": "stream",
       "stream": "stdout",
       "text": [
        " pairFeatures time 1.73692297935\n",
        "362"
       ]
      },
      {
       "output_type": "stream",
       "stream": "stdout",
       "text": [
        " pairFeatures time 1.73496198654\n",
        "363"
       ]
      },
      {
       "output_type": "stream",
       "stream": "stdout",
       "text": [
        " pairFeatures time 1.73299193382\n",
        "364"
       ]
      },
      {
       "output_type": "stream",
       "stream": "stdout",
       "text": [
        " pairFeatures time 1.72916007042\n",
        "365"
       ]
      },
      {
       "output_type": "stream",
       "stream": "stdout",
       "text": [
        " pairFeatures time 1.73380208015\n",
        "366"
       ]
      },
      {
       "output_type": "stream",
       "stream": "stdout",
       "text": [
        " pairFeatures time 1.74301409721\n",
        "367"
       ]
      },
      {
       "output_type": "stream",
       "stream": "stdout",
       "text": [
        " pairFeatures time 1.73578906059\n",
        "368"
       ]
      },
      {
       "output_type": "stream",
       "stream": "stdout",
       "text": [
        " pairFeatures time 1.72294616699\n",
        "369"
       ]
      },
      {
       "output_type": "stream",
       "stream": "stdout",
       "text": [
        " pairFeatures time 1.72943687439\n",
        "370"
       ]
      },
      {
       "output_type": "stream",
       "stream": "stdout",
       "text": [
        " pairFeatures time 1.7172358036\n",
        "371"
       ]
      },
      {
       "output_type": "stream",
       "stream": "stdout",
       "text": [
        " pairFeatures time 1.73238992691\n",
        "372"
       ]
      },
      {
       "output_type": "stream",
       "stream": "stdout",
       "text": [
        " pairFeatures time 1.73085284233\n",
        "373"
       ]
      },
      {
       "output_type": "stream",
       "stream": "stdout",
       "text": [
        " pairFeatures time 1.7146089077\n",
        "374"
       ]
      },
      {
       "output_type": "stream",
       "stream": "stdout",
       "text": [
        " pairFeatures time 1.70181703568\n",
        "375"
       ]
      },
      {
       "output_type": "stream",
       "stream": "stdout",
       "text": [
        " pairFeatures time 1.70977115631\n",
        "376"
       ]
      },
      {
       "output_type": "stream",
       "stream": "stdout",
       "text": [
        " pairFeatures time 1.71504998207\n",
        "377"
       ]
      },
      {
       "output_type": "stream",
       "stream": "stdout",
       "text": [
        " pairFeatures time 1.71904206276\n",
        "378"
       ]
      },
      {
       "output_type": "stream",
       "stream": "stdout",
       "text": [
        " pairFeatures time 1.72558903694\n",
        "379"
       ]
      },
      {
       "output_type": "stream",
       "stream": "stdout",
       "text": [
        " pairFeatures time 1.71602296829\n",
        "380"
       ]
      },
      {
       "output_type": "stream",
       "stream": "stdout",
       "text": [
        " pairFeatures time 1.72971796989\n",
        "381"
       ]
      },
      {
       "output_type": "stream",
       "stream": "stdout",
       "text": [
        " pairFeatures time 1.75337910652\n",
        "382"
       ]
      },
      {
       "output_type": "stream",
       "stream": "stdout",
       "text": [
        " pairFeatures time 1.69434905052\n",
        "383"
       ]
      },
      {
       "output_type": "stream",
       "stream": "stdout",
       "text": [
        " pairFeatures time 1.69789814949\n",
        "384"
       ]
      },
      {
       "output_type": "stream",
       "stream": "stdout",
       "text": [
        " pairFeatures time 1.70224308968\n",
        "385"
       ]
      },
      {
       "output_type": "stream",
       "stream": "stdout",
       "text": [
        " pairFeatures time 1.70146393776\n",
        "386"
       ]
      },
      {
       "output_type": "stream",
       "stream": "stdout",
       "text": [
        " pairFeatures time 1.69626688957\n",
        "387"
       ]
      },
      {
       "output_type": "stream",
       "stream": "stdout",
       "text": [
        " pairFeatures time 1.69561696053\n",
        "388"
       ]
      },
      {
       "output_type": "stream",
       "stream": "stdout",
       "text": [
        " pairFeatures time 1.69267821312\n",
        "389"
       ]
      },
      {
       "output_type": "stream",
       "stream": "stdout",
       "text": [
        " pairFeatures time 1.73139190674\n",
        "390"
       ]
      },
      {
       "output_type": "stream",
       "stream": "stdout",
       "text": [
        " pairFeatures time 1.69284009933\n",
        "391"
       ]
      },
      {
       "output_type": "stream",
       "stream": "stdout",
       "text": [
        " pairFeatures time 1.69079589844\n",
        "392"
       ]
      },
      {
       "output_type": "stream",
       "stream": "stdout",
       "text": [
        " pairFeatures time 1.69043779373\n",
        "393"
       ]
      },
      {
       "output_type": "stream",
       "stream": "stdout",
       "text": [
        " pairFeatures time 1.68291687965\n",
        "394"
       ]
      },
      {
       "output_type": "stream",
       "stream": "stdout",
       "text": [
        " pairFeatures time 1.68956279755\n",
        "395"
       ]
      },
      {
       "output_type": "stream",
       "stream": "stdout",
       "text": [
        " pairFeatures time 1.68654799461\n",
        "396"
       ]
      },
      {
       "output_type": "stream",
       "stream": "stdout",
       "text": [
        " pairFeatures time 1.69183897972\n",
        "397"
       ]
      },
      {
       "output_type": "stream",
       "stream": "stdout",
       "text": [
        " pairFeatures time 1.68155002594\n",
        "398"
       ]
      },
      {
       "output_type": "stream",
       "stream": "stdout",
       "text": [
        " pairFeatures time 1.68501591682\n",
        "399"
       ]
      },
      {
       "output_type": "stream",
       "stream": "stdout",
       "text": [
        " pairFeatures time 1.67331314087\n",
        "400"
       ]
      },
      {
       "output_type": "stream",
       "stream": "stdout",
       "text": [
        " pairFeatures time 1.66941595078\n",
        "401"
       ]
      },
      {
       "output_type": "stream",
       "stream": "stdout",
       "text": [
        " pairFeatures time 1.67334985733\n",
        "402"
       ]
      },
      {
       "output_type": "stream",
       "stream": "stdout",
       "text": [
        " pairFeatures time 1.66583585739\n",
        "403"
       ]
      },
      {
       "output_type": "stream",
       "stream": "stdout",
       "text": [
        " pairFeatures time 1.66250300407\n",
        "404"
       ]
      },
      {
       "output_type": "stream",
       "stream": "stdout",
       "text": [
        " pairFeatures time 1.66409301758\n",
        "405"
       ]
      },
      {
       "output_type": "stream",
       "stream": "stdout",
       "text": [
        " pairFeatures time 1.66996502876\n",
        "406"
       ]
      },
      {
       "output_type": "stream",
       "stream": "stdout",
       "text": [
        " pairFeatures time 1.6711628437\n",
        "407"
       ]
      },
      {
       "output_type": "stream",
       "stream": "stdout",
       "text": [
        " pairFeatures time 1.69283986092\n",
        "408"
       ]
      },
      {
       "output_type": "stream",
       "stream": "stdout",
       "text": [
        " pairFeatures time 1.67590713501\n",
        "409"
       ]
      },
      {
       "output_type": "stream",
       "stream": "stdout",
       "text": [
        " pairFeatures time 1.67593312263\n",
        "410"
       ]
      },
      {
       "output_type": "stream",
       "stream": "stdout",
       "text": [
        " pairFeatures time 1.65946793556\n",
        "411"
       ]
      },
      {
       "output_type": "stream",
       "stream": "stdout",
       "text": [
        " pairFeatures time 1.70037007332\n",
        "412"
       ]
      },
      {
       "output_type": "stream",
       "stream": "stdout",
       "text": [
        " pairFeatures time 1.65346002579\n",
        "413"
       ]
      },
      {
       "output_type": "stream",
       "stream": "stdout",
       "text": [
        " pairFeatures time 1.64384794235\n",
        "414"
       ]
      },
      {
       "output_type": "stream",
       "stream": "stdout",
       "text": [
        " pairFeatures time 1.6439139843\n",
        "415"
       ]
      },
      {
       "output_type": "stream",
       "stream": "stdout",
       "text": [
        " pairFeatures time 1.63634800911\n",
        "416"
       ]
      },
      {
       "output_type": "stream",
       "stream": "stdout",
       "text": [
        " pairFeatures time 1.64127206802\n",
        "417"
       ]
      },
      {
       "output_type": "stream",
       "stream": "stdout",
       "text": [
        " pairFeatures time 1.65402913094\n",
        "418"
       ]
      },
      {
       "output_type": "stream",
       "stream": "stdout",
       "text": [
        " pairFeatures time 1.64079999924\n",
        "419"
       ]
      },
      {
       "output_type": "stream",
       "stream": "stdout",
       "text": [
        " pairFeatures time 1.64061403275\n",
        "420"
       ]
      },
      {
       "output_type": "stream",
       "stream": "stdout",
       "text": [
        " pairFeatures time 1.62523889542\n",
        "421"
       ]
      },
      {
       "output_type": "stream",
       "stream": "stdout",
       "text": [
        " pairFeatures time 1.63490200043\n",
        "422"
       ]
      },
      {
       "output_type": "stream",
       "stream": "stdout",
       "text": [
        " pairFeatures time 1.62880086899\n",
        "423"
       ]
      },
      {
       "output_type": "stream",
       "stream": "stdout",
       "text": [
        " pairFeatures time 1.62248086929\n",
        "424"
       ]
      },
      {
       "output_type": "stream",
       "stream": "stdout",
       "text": [
        " pairFeatures time 1.62918782234\n",
        "425"
       ]
      },
      {
       "output_type": "stream",
       "stream": "stdout",
       "text": [
        " pairFeatures time 1.6359899044\n",
        "426"
       ]
      },
      {
       "output_type": "stream",
       "stream": "stdout",
       "text": [
        " pairFeatures time 1.62632608414\n",
        "427"
       ]
      },
      {
       "output_type": "stream",
       "stream": "stdout",
       "text": [
        " pairFeatures time 1.61225795746\n",
        "428"
       ]
      },
      {
       "output_type": "stream",
       "stream": "stdout",
       "text": [
        " pairFeatures time 1.60799098015\n",
        "429"
       ]
      },
      {
       "output_type": "stream",
       "stream": "stdout",
       "text": [
        " pairFeatures time 1.60447311401\n",
        "430"
       ]
      },
      {
       "output_type": "stream",
       "stream": "stdout",
       "text": [
        " pairFeatures time 1.59891104698\n",
        "431"
       ]
      },
      {
       "output_type": "stream",
       "stream": "stdout",
       "text": [
        " pairFeatures time 1.60489416122\n",
        "432"
       ]
      },
      {
       "output_type": "stream",
       "stream": "stdout",
       "text": [
        " pairFeatures time 1.60934495926\n",
        "433"
       ]
      },
      {
       "output_type": "stream",
       "stream": "stdout",
       "text": [
        " pairFeatures time 1.60220098495\n",
        "434"
       ]
      },
      {
       "output_type": "stream",
       "stream": "stdout",
       "text": [
        " pairFeatures time 1.59767103195\n",
        "435"
       ]
      },
      {
       "output_type": "stream",
       "stream": "stdout",
       "text": [
        " pairFeatures time 1.58944201469\n",
        "436"
       ]
      },
      {
       "output_type": "stream",
       "stream": "stdout",
       "text": [
        " pairFeatures time 1.59383583069\n",
        "437"
       ]
      },
      {
       "output_type": "stream",
       "stream": "stdout",
       "text": [
        " pairFeatures time 1.60213494301\n",
        "438"
       ]
      },
      {
       "output_type": "stream",
       "stream": "stdout",
       "text": [
        " pairFeatures time 1.5877840519\n",
        "439"
       ]
      },
      {
       "output_type": "stream",
       "stream": "stdout",
       "text": [
        " pairFeatures time 1.5918841362\n",
        "440"
       ]
      },
      {
       "output_type": "stream",
       "stream": "stdout",
       "text": [
        " pairFeatures time 1.59859013557\n",
        "441"
       ]
      },
      {
       "output_type": "stream",
       "stream": "stdout",
       "text": [
        " pairFeatures time 1.58644294739\n",
        "442"
       ]
      },
      {
       "output_type": "stream",
       "stream": "stdout",
       "text": [
        " pairFeatures time 1.59379506111\n",
        "443"
       ]
      },
      {
       "output_type": "stream",
       "stream": "stdout",
       "text": [
        " pairFeatures time 1.5871219635\n",
        "444"
       ]
      },
      {
       "output_type": "stream",
       "stream": "stdout",
       "text": [
        " pairFeatures time 1.62048101425\n",
        "445"
       ]
      },
      {
       "output_type": "stream",
       "stream": "stdout",
       "text": [
        " pairFeatures time 1.5790848732\n",
        "446"
       ]
      },
      {
       "output_type": "stream",
       "stream": "stdout",
       "text": [
        " pairFeatures time 1.5698568821\n",
        "447"
       ]
      },
      {
       "output_type": "stream",
       "stream": "stdout",
       "text": [
        " pairFeatures time 1.57563996315\n",
        "448"
       ]
      },
      {
       "output_type": "stream",
       "stream": "stdout",
       "text": [
        " pairFeatures time 1.57198905945\n",
        "449"
       ]
      },
      {
       "output_type": "stream",
       "stream": "stdout",
       "text": [
        " pairFeatures time 1.57576012611\n",
        "450"
       ]
      },
      {
       "output_type": "stream",
       "stream": "stdout",
       "text": [
        " pairFeatures time 1.5704729557\n",
        "451"
       ]
      },
      {
       "output_type": "stream",
       "stream": "stdout",
       "text": [
        " pairFeatures time 1.57587599754\n",
        "452"
       ]
      },
      {
       "output_type": "stream",
       "stream": "stdout",
       "text": [
        " pairFeatures time 1.56923604012\n",
        "453"
       ]
      },
      {
       "output_type": "stream",
       "stream": "stdout",
       "text": [
        " pairFeatures time 1.56449794769\n",
        "454"
       ]
      },
      {
       "output_type": "stream",
       "stream": "stdout",
       "text": [
        " pairFeatures time 1.55983495712\n",
        "455"
       ]
      },
      {
       "output_type": "stream",
       "stream": "stdout",
       "text": [
        " pairFeatures time 1.56676316261\n",
        "456"
       ]
      },
      {
       "output_type": "stream",
       "stream": "stdout",
       "text": [
        " pairFeatures time 1.55722594261\n",
        "457"
       ]
      },
      {
       "output_type": "stream",
       "stream": "stdout",
       "text": [
        " pairFeatures time 1.56313681602\n",
        "458"
       ]
      },
      {
       "output_type": "stream",
       "stream": "stdout",
       "text": [
        " pairFeatures time 1.5488948822\n",
        "459"
       ]
      },
      {
       "output_type": "stream",
       "stream": "stdout",
       "text": [
        " pairFeatures time 1.54656291008\n",
        "460"
       ]
      },
      {
       "output_type": "stream",
       "stream": "stdout",
       "text": [
        " pairFeatures time 1.54831504822\n",
        "461"
       ]
      },
      {
       "output_type": "stream",
       "stream": "stdout",
       "text": [
        " pairFeatures time 1.55409812927\n",
        "462"
       ]
      },
      {
       "output_type": "stream",
       "stream": "stdout",
       "text": [
        " pairFeatures time 1.55488300323\n",
        "463"
       ]
      },
      {
       "output_type": "stream",
       "stream": "stdout",
       "text": [
        " pairFeatures time 1.57264184952\n",
        "464"
       ]
      },
      {
       "output_type": "stream",
       "stream": "stdout",
       "text": [
        " pairFeatures time 1.5498919487\n",
        "465"
       ]
      },
      {
       "output_type": "stream",
       "stream": "stdout",
       "text": [
        " pairFeatures time 1.56265306473\n",
        "466"
       ]
      },
      {
       "output_type": "stream",
       "stream": "stdout",
       "text": [
        " pairFeatures time 1.54102492332\n",
        "467"
       ]
      },
      {
       "output_type": "stream",
       "stream": "stdout",
       "text": [
        " pairFeatures time 1.56005215645\n",
        "468"
       ]
      },
      {
       "output_type": "stream",
       "stream": "stdout",
       "text": [
        " pairFeatures time 1.53540110588\n",
        "469"
       ]
      },
      {
       "output_type": "stream",
       "stream": "stdout",
       "text": [
        " pairFeatures time 1.55926394463\n",
        "470"
       ]
      },
      {
       "output_type": "stream",
       "stream": "stdout",
       "text": [
        " pairFeatures time 1.53393602371\n",
        "471"
       ]
      },
      {
       "output_type": "stream",
       "stream": "stdout",
       "text": [
        " pairFeatures time 1.55240488052\n",
        "472"
       ]
      },
      {
       "output_type": "stream",
       "stream": "stdout",
       "text": [
        " pairFeatures time 1.533233881\n",
        "473"
       ]
      },
      {
       "output_type": "stream",
       "stream": "stdout",
       "text": [
        " pairFeatures time 1.54972314835\n",
        "474"
       ]
      },
      {
       "output_type": "stream",
       "stream": "stdout",
       "text": [
        " pairFeatures time 1.52874803543\n",
        "475"
       ]
      },
      {
       "output_type": "stream",
       "stream": "stdout",
       "text": [
        " pairFeatures time 1.54951095581\n",
        "476"
       ]
      },
      {
       "output_type": "stream",
       "stream": "stdout",
       "text": [
        " pairFeatures time 1.53493285179\n",
        "477"
       ]
      },
      {
       "output_type": "stream",
       "stream": "stdout",
       "text": [
        " pairFeatures time 1.53473591805\n",
        "478"
       ]
      },
      {
       "output_type": "stream",
       "stream": "stdout",
       "text": [
        " pairFeatures time 1.53104519844\n",
        "479"
       ]
      },
      {
       "output_type": "stream",
       "stream": "stdout",
       "text": [
        " pairFeatures time 1.55537199974\n",
        "480"
       ]
      },
      {
       "output_type": "stream",
       "stream": "stdout",
       "text": [
        " pairFeatures time 1.53980398178\n",
        "481"
       ]
      },
      {
       "output_type": "stream",
       "stream": "stdout",
       "text": [
        " pairFeatures time 1.52837991714\n",
        "482"
       ]
      },
      {
       "output_type": "stream",
       "stream": "stdout",
       "text": [
        " pairFeatures time 1.52956199646\n",
        "483"
       ]
      },
      {
       "output_type": "stream",
       "stream": "stdout",
       "text": [
        " pairFeatures time 1.53317499161\n",
        "484"
       ]
      },
      {
       "output_type": "stream",
       "stream": "stdout",
       "text": [
        " pairFeatures time 1.5295689106\n",
        "485"
       ]
      },
      {
       "output_type": "stream",
       "stream": "stdout",
       "text": [
        " pairFeatures time 1.51355600357\n",
        "486"
       ]
      },
      {
       "output_type": "stream",
       "stream": "stdout",
       "text": [
        " pairFeatures time 1.51775383949\n",
        "487"
       ]
      },
      {
       "output_type": "stream",
       "stream": "stdout",
       "text": [
        " pairFeatures time 1.52719593048\n",
        "488"
       ]
      },
      {
       "output_type": "stream",
       "stream": "stdout",
       "text": [
        " pairFeatures time 1.52093505859\n",
        "489"
       ]
      },
      {
       "output_type": "stream",
       "stream": "stdout",
       "text": [
        " pairFeatures time 1.52053403854\n",
        "490"
       ]
      },
      {
       "output_type": "stream",
       "stream": "stdout",
       "text": [
        " pairFeatures time 1.5105650425\n",
        "491"
       ]
      },
      {
       "output_type": "stream",
       "stream": "stdout",
       "text": [
        " pairFeatures time 1.50999999046\n",
        "492"
       ]
      },
      {
       "output_type": "stream",
       "stream": "stdout",
       "text": [
        " pairFeatures time 1.51610803604\n",
        "493"
       ]
      },
      {
       "output_type": "stream",
       "stream": "stdout",
       "text": [
        " pairFeatures time 1.51112890244\n",
        "494"
       ]
      },
      {
       "output_type": "stream",
       "stream": "stdout",
       "text": [
        " pairFeatures time 1.5048789978\n",
        "495"
       ]
      },
      {
       "output_type": "stream",
       "stream": "stdout",
       "text": [
        " pairFeatures time 1.49456310272\n",
        "496"
       ]
      },
      {
       "output_type": "stream",
       "stream": "stdout",
       "text": [
        " pairFeatures time 1.50313591957\n",
        "497"
       ]
      },
      {
       "output_type": "stream",
       "stream": "stdout",
       "text": [
        " pairFeatures time 1.48607897758\n",
        "498"
       ]
      },
      {
       "output_type": "stream",
       "stream": "stdout",
       "text": [
        " pairFeatures time 1.48777604103\n",
        "499"
       ]
      },
      {
       "output_type": "stream",
       "stream": "stdout",
       "text": [
        " pairFeatures time 1.49071907997\n",
        "500"
       ]
      },
      {
       "output_type": "stream",
       "stream": "stdout",
       "text": [
        " pairFeatures time 1.49032497406\n",
        "501"
       ]
      },
      {
       "output_type": "stream",
       "stream": "stdout",
       "text": [
        " pairFeatures time 1.48273611069\n",
        "502"
       ]
      },
      {
       "output_type": "stream",
       "stream": "stdout",
       "text": [
        " pairFeatures time 1.50081706047\n",
        "503"
       ]
      },
      {
       "output_type": "stream",
       "stream": "stdout",
       "text": [
        " pairFeatures time 1.49526596069\n",
        "504"
       ]
      },
      {
       "output_type": "stream",
       "stream": "stdout",
       "text": [
        " pairFeatures time 1.48964190483\n",
        "505"
       ]
      },
      {
       "output_type": "stream",
       "stream": "stdout",
       "text": [
        " pairFeatures time 1.47666287422\n",
        "506"
       ]
      },
      {
       "output_type": "stream",
       "stream": "stdout",
       "text": [
        " pairFeatures time 1.47549295425\n",
        "507"
       ]
      },
      {
       "output_type": "stream",
       "stream": "stdout",
       "text": [
        " pairFeatures time 1.47877502441\n",
        "508"
       ]
      },
      {
       "output_type": "stream",
       "stream": "stdout",
       "text": [
        " pairFeatures time 1.47717690468\n",
        "509"
       ]
      },
      {
       "output_type": "stream",
       "stream": "stdout",
       "text": [
        " pairFeatures time 1.47185206413\n",
        "510"
       ]
      },
      {
       "output_type": "stream",
       "stream": "stdout",
       "text": [
        " pairFeatures time 1.4681661129\n",
        "511"
       ]
      },
      {
       "output_type": "stream",
       "stream": "stdout",
       "text": [
        " pairFeatures time 1.46451711655\n",
        "512"
       ]
      },
      {
       "output_type": "stream",
       "stream": "stdout",
       "text": [
        " pairFeatures time 1.50231695175\n",
        "513"
       ]
      },
      {
       "output_type": "stream",
       "stream": "stdout",
       "text": [
        " pairFeatures time 1.4803211689\n",
        "514"
       ]
      },
      {
       "output_type": "stream",
       "stream": "stdout",
       "text": [
        " pairFeatures time 1.48249292374\n",
        "515"
       ]
      },
      {
       "output_type": "stream",
       "stream": "stdout",
       "text": [
        " pairFeatures time 1.46289992332\n",
        "516"
       ]
      },
      {
       "output_type": "stream",
       "stream": "stdout",
       "text": [
        " pairFeatures time 1.45497894287\n",
        "517"
       ]
      },
      {
       "output_type": "stream",
       "stream": "stdout",
       "text": [
        " pairFeatures time 1.45715999603\n",
        "518"
       ]
      },
      {
       "output_type": "stream",
       "stream": "stdout",
       "text": [
        " pairFeatures time 1.43991208076\n",
        "519"
       ]
      },
      {
       "output_type": "stream",
       "stream": "stdout",
       "text": [
        " pairFeatures time 1.44254207611\n",
        "520"
       ]
      },
      {
       "output_type": "stream",
       "stream": "stdout",
       "text": [
        " pairFeatures time 1.44040799141\n",
        "521"
       ]
      },
      {
       "output_type": "stream",
       "stream": "stdout",
       "text": [
        " pairFeatures time 1.45171713829\n",
        "522"
       ]
      },
      {
       "output_type": "stream",
       "stream": "stdout",
       "text": [
        " pairFeatures time 1.43558192253\n",
        "523"
       ]
      },
      {
       "output_type": "stream",
       "stream": "stdout",
       "text": [
        " pairFeatures time 1.45548510551\n",
        "524"
       ]
      },
      {
       "output_type": "stream",
       "stream": "stdout",
       "text": [
        " pairFeatures time 1.46837997437\n",
        "525"
       ]
      },
      {
       "output_type": "stream",
       "stream": "stdout",
       "text": [
        " pairFeatures time 1.45343589783\n",
        "526"
       ]
      },
      {
       "output_type": "stream",
       "stream": "stdout",
       "text": [
        " pairFeatures time 1.42565703392\n",
        "527"
       ]
      },
      {
       "output_type": "stream",
       "stream": "stdout",
       "text": [
        " pairFeatures time 1.42735385895\n",
        "528"
       ]
      },
      {
       "output_type": "stream",
       "stream": "stdout",
       "text": [
        " pairFeatures time 1.42511081696\n",
        "529"
       ]
      },
      {
       "output_type": "stream",
       "stream": "stdout",
       "text": [
        " pairFeatures time 1.43083500862\n",
        "530"
       ]
      },
      {
       "output_type": "stream",
       "stream": "stdout",
       "text": [
        " pairFeatures time 1.41914701462\n",
        "531"
       ]
      },
      {
       "output_type": "stream",
       "stream": "stdout",
       "text": [
        " pairFeatures time 1.42877388\n",
        "532"
       ]
      },
      {
       "output_type": "stream",
       "stream": "stdout",
       "text": [
        " pairFeatures time 1.40950798988\n",
        "533"
       ]
      },
      {
       "output_type": "stream",
       "stream": "stdout",
       "text": [
        " pairFeatures time 1.41641688347\n",
        "534"
       ]
      },
      {
       "output_type": "stream",
       "stream": "stdout",
       "text": [
        " pairFeatures time 1.41104102135\n",
        "535"
       ]
      },
      {
       "output_type": "stream",
       "stream": "stdout",
       "text": [
        " pairFeatures time 1.4097840786\n",
        "536"
       ]
      },
      {
       "output_type": "stream",
       "stream": "stdout",
       "text": [
        " pairFeatures time 1.41265797615\n",
        "537"
       ]
      },
      {
       "output_type": "stream",
       "stream": "stdout",
       "text": [
        " pairFeatures time 1.42224907875\n",
        "538"
       ]
      },
      {
       "output_type": "stream",
       "stream": "stdout",
       "text": [
        " pairFeatures time 1.4125430584\n",
        "539"
       ]
      },
      {
       "output_type": "stream",
       "stream": "stdout",
       "text": [
        " pairFeatures time 1.39663100243\n",
        "540"
       ]
      },
      {
       "output_type": "stream",
       "stream": "stdout",
       "text": [
        " pairFeatures time 1.41809487343\n",
        "541"
       ]
      },
      {
       "output_type": "stream",
       "stream": "stdout",
       "text": [
        " pairFeatures time 1.40347409248\n",
        "542"
       ]
      },
      {
       "output_type": "stream",
       "stream": "stdout",
       "text": [
        " pairFeatures time 1.41817212105\n",
        "543"
       ]
      },
      {
       "output_type": "stream",
       "stream": "stdout",
       "text": [
        " pairFeatures time 1.40274500847\n",
        "544"
       ]
      },
      {
       "output_type": "stream",
       "stream": "stdout",
       "text": [
        " pairFeatures time 1.40510392189\n",
        "545"
       ]
      },
      {
       "output_type": "stream",
       "stream": "stdout",
       "text": [
        " pairFeatures time 1.40055799484\n",
        "546"
       ]
      },
      {
       "output_type": "stream",
       "stream": "stdout",
       "text": [
        " pairFeatures time 1.39489912987\n",
        "547"
       ]
      },
      {
       "output_type": "stream",
       "stream": "stdout",
       "text": [
        " pairFeatures time 1.4006550312\n",
        "548"
       ]
      },
      {
       "output_type": "stream",
       "stream": "stdout",
       "text": [
        " pairFeatures time 1.39060401917\n",
        "549"
       ]
      },
      {
       "output_type": "stream",
       "stream": "stdout",
       "text": [
        " pairFeatures time 1.38298106194\n",
        "550"
       ]
      },
      {
       "output_type": "stream",
       "stream": "stdout",
       "text": [
        " pairFeatures time 1.37963414192\n",
        "551"
       ]
      },
      {
       "output_type": "stream",
       "stream": "stdout",
       "text": [
        " pairFeatures time 1.38480401039\n",
        "552"
       ]
      },
      {
       "output_type": "stream",
       "stream": "stdout",
       "text": [
        " pairFeatures time 1.38204503059\n",
        "553"
       ]
      },
      {
       "output_type": "stream",
       "stream": "stdout",
       "text": [
        " pairFeatures time 1.37191605568\n",
        "554"
       ]
      },
      {
       "output_type": "stream",
       "stream": "stdout",
       "text": [
        " pairFeatures time 1.36738801003\n",
        "555"
       ]
      },
      {
       "output_type": "stream",
       "stream": "stdout",
       "text": [
        " pairFeatures time 1.37837004662\n",
        "556"
       ]
      },
      {
       "output_type": "stream",
       "stream": "stdout",
       "text": [
        " pairFeatures time 1.37739181519\n",
        "557"
       ]
      },
      {
       "output_type": "stream",
       "stream": "stdout",
       "text": [
        " pairFeatures time 1.37274503708\n",
        "558"
       ]
      },
      {
       "output_type": "stream",
       "stream": "stdout",
       "text": [
        " pairFeatures time 1.37287902832\n",
        "559"
       ]
      },
      {
       "output_type": "stream",
       "stream": "stdout",
       "text": [
        " pairFeatures time 1.3730969429\n",
        "560"
       ]
      },
      {
       "output_type": "stream",
       "stream": "stdout",
       "text": [
        " pairFeatures time 1.36343288422\n",
        "561"
       ]
      },
      {
       "output_type": "stream",
       "stream": "stdout",
       "text": [
        " pairFeatures time 1.36001491547\n",
        "562"
       ]
      },
      {
       "output_type": "stream",
       "stream": "stdout",
       "text": [
        " pairFeatures time 1.36518716812\n",
        "563"
       ]
      },
      {
       "output_type": "stream",
       "stream": "stdout",
       "text": [
        " pairFeatures time 1.36606001854\n",
        "564"
       ]
      },
      {
       "output_type": "stream",
       "stream": "stdout",
       "text": [
        " pairFeatures time 1.36863899231\n",
        "565"
       ]
      },
      {
       "output_type": "stream",
       "stream": "stdout",
       "text": [
        " pairFeatures time 1.35629677773\n",
        "566"
       ]
      },
      {
       "output_type": "stream",
       "stream": "stdout",
       "text": [
        " pairFeatures time 1.37241101265\n",
        "567"
       ]
      },
      {
       "output_type": "stream",
       "stream": "stdout",
       "text": [
        " pairFeatures time 1.35575389862\n",
        "568"
       ]
      },
      {
       "output_type": "stream",
       "stream": "stdout",
       "text": [
        " pairFeatures time 1.34924888611\n",
        "569"
       ]
      },
      {
       "output_type": "stream",
       "stream": "stdout",
       "text": [
        " pairFeatures time 1.34667181969\n",
        "570"
       ]
      },
      {
       "output_type": "stream",
       "stream": "stdout",
       "text": [
        " pairFeatures time 1.34936189651\n",
        "571"
       ]
      },
      {
       "output_type": "stream",
       "stream": "stdout",
       "text": [
        " pairFeatures time 1.34699201584\n",
        "572"
       ]
      },
      {
       "output_type": "stream",
       "stream": "stdout",
       "text": [
        " pairFeatures time 1.35295796394\n",
        "573"
       ]
      },
      {
       "output_type": "stream",
       "stream": "stdout",
       "text": [
        " pairFeatures time 1.34167504311\n",
        "574"
       ]
      },
      {
       "output_type": "stream",
       "stream": "stdout",
       "text": [
        " pairFeatures time 1.34415507317\n",
        "575"
       ]
      },
      {
       "output_type": "stream",
       "stream": "stdout",
       "text": [
        " pairFeatures time 1.340102911\n",
        "576"
       ]
      },
      {
       "output_type": "stream",
       "stream": "stdout",
       "text": [
        " pairFeatures time 1.33744382858\n",
        "577"
       ]
      },
      {
       "output_type": "stream",
       "stream": "stdout",
       "text": [
        " pairFeatures time 1.33116292953\n",
        "578"
       ]
      },
      {
       "output_type": "stream",
       "stream": "stdout",
       "text": [
        " pairFeatures time 1.32367515564\n",
        "579"
       ]
      },
      {
       "output_type": "stream",
       "stream": "stdout",
       "text": [
        " pairFeatures time 1.33402895927\n",
        "580"
       ]
      },
      {
       "output_type": "stream",
       "stream": "stdout",
       "text": [
        " pairFeatures time 1.32071208954\n",
        "581"
       ]
      },
      {
       "output_type": "stream",
       "stream": "stdout",
       "text": [
        " pairFeatures time 1.3311829567\n",
        "582"
       ]
      },
      {
       "output_type": "stream",
       "stream": "stdout",
       "text": [
        " pairFeatures time 1.32319688797\n",
        "583"
       ]
      },
      {
       "output_type": "stream",
       "stream": "stdout",
       "text": [
        " pairFeatures time 1.31681609154\n",
        "584"
       ]
      },
      {
       "output_type": "stream",
       "stream": "stdout",
       "text": [
        " pairFeatures time 1.32132697105\n",
        "585"
       ]
      },
      {
       "output_type": "stream",
       "stream": "stdout",
       "text": [
        " pairFeatures time 1.31750488281\n",
        "586"
       ]
      },
      {
       "output_type": "stream",
       "stream": "stdout",
       "text": [
        " pairFeatures time 1.31396913528\n",
        "587"
       ]
      },
      {
       "output_type": "stream",
       "stream": "stdout",
       "text": [
        " pairFeatures time 1.31436395645\n",
        "588"
       ]
      },
      {
       "output_type": "stream",
       "stream": "stdout",
       "text": [
        " pairFeatures time 1.32046914101\n",
        "589"
       ]
      },
      {
       "output_type": "stream",
       "stream": "stdout",
       "text": [
        " pairFeatures time 1.31138014793\n",
        "590"
       ]
      },
      {
       "output_type": "stream",
       "stream": "stdout",
       "text": [
        " pairFeatures time 1.31068992615\n",
        "591"
       ]
      },
      {
       "output_type": "stream",
       "stream": "stdout",
       "text": [
        " pairFeatures time 1.3124961853\n",
        "592"
       ]
      },
      {
       "output_type": "stream",
       "stream": "stdout",
       "text": [
        " pairFeatures time 1.29808807373\n",
        "593"
       ]
      },
      {
       "output_type": "stream",
       "stream": "stdout",
       "text": [
        " pairFeatures time 1.30022001266\n",
        "594"
       ]
      },
      {
       "output_type": "stream",
       "stream": "stdout",
       "text": [
        " pairFeatures time 1.30084204674\n",
        "595"
       ]
      },
      {
       "output_type": "stream",
       "stream": "stdout",
       "text": [
        " pairFeatures time 1.29462599754\n",
        "596"
       ]
      },
      {
       "output_type": "stream",
       "stream": "stdout",
       "text": [
        " pairFeatures time 1.30734586716\n",
        "597"
       ]
      },
      {
       "output_type": "stream",
       "stream": "stdout",
       "text": [
        " pairFeatures time 1.29922819138\n",
        "598"
       ]
      },
      {
       "output_type": "stream",
       "stream": "stdout",
       "text": [
        " pairFeatures time 1.30100607872\n",
        "599"
       ]
      },
      {
       "output_type": "stream",
       "stream": "stdout",
       "text": [
        " pairFeatures time 1.29407596588\n",
        "600"
       ]
      },
      {
       "output_type": "stream",
       "stream": "stdout",
       "text": [
        " pairFeatures time 1.29463911057\n",
        "601"
       ]
      },
      {
       "output_type": "stream",
       "stream": "stdout",
       "text": [
        " pairFeatures time 1.29249095917\n",
        "602"
       ]
      },
      {
       "output_type": "stream",
       "stream": "stdout",
       "text": [
        " pairFeatures time 1.28891992569\n",
        "603"
       ]
      },
      {
       "output_type": "stream",
       "stream": "stdout",
       "text": [
        " pairFeatures time 1.29281806946\n",
        "604"
       ]
      },
      {
       "output_type": "stream",
       "stream": "stdout",
       "text": [
        " pairFeatures time 1.29096102715\n",
        "605"
       ]
      },
      {
       "output_type": "stream",
       "stream": "stdout",
       "text": [
        " pairFeatures time 1.29166603088\n",
        "606"
       ]
      },
      {
       "output_type": "stream",
       "stream": "stdout",
       "text": [
        " pairFeatures time 1.2861301899\n",
        "607"
       ]
      },
      {
       "output_type": "stream",
       "stream": "stdout",
       "text": [
        " pairFeatures time 1.28765511513\n",
        "608"
       ]
      },
      {
       "output_type": "stream",
       "stream": "stdout",
       "text": [
        " pairFeatures time 1.27447795868\n",
        "609"
       ]
      },
      {
       "output_type": "stream",
       "stream": "stdout",
       "text": [
        " pairFeatures time 1.29324221611\n",
        "610"
       ]
      },
      {
       "output_type": "stream",
       "stream": "stdout",
       "text": [
        " pairFeatures time 1.27883791924\n",
        "611"
       ]
      },
      {
       "output_type": "stream",
       "stream": "stdout",
       "text": [
        " pairFeatures time 1.3200199604\n",
        "612"
       ]
      },
      {
       "output_type": "stream",
       "stream": "stdout",
       "text": [
        " pairFeatures time 1.29945802689\n",
        "613"
       ]
      },
      {
       "output_type": "stream",
       "stream": "stdout",
       "text": [
        " pairFeatures time 1.28848004341\n",
        "614"
       ]
      },
      {
       "output_type": "stream",
       "stream": "stdout",
       "text": [
        " pairFeatures time 1.27057409286\n",
        "615"
       ]
      },
      {
       "output_type": "stream",
       "stream": "stdout",
       "text": [
        " pairFeatures time 1.26529788971\n",
        "616"
       ]
      },
      {
       "output_type": "stream",
       "stream": "stdout",
       "text": [
        " pairFeatures time 1.26833701134\n",
        "617"
       ]
      },
      {
       "output_type": "stream",
       "stream": "stdout",
       "text": [
        " pairFeatures time 1.27211499214\n",
        "618"
       ]
      },
      {
       "output_type": "stream",
       "stream": "stdout",
       "text": [
        " pairFeatures time 1.26484107971\n",
        "619"
       ]
      },
      {
       "output_type": "stream",
       "stream": "stdout",
       "text": [
        " pairFeatures time 1.26480102539\n",
        "620"
       ]
      },
      {
       "output_type": "stream",
       "stream": "stdout",
       "text": [
        " pairFeatures time 1.27307891846\n",
        "621"
       ]
      },
      {
       "output_type": "stream",
       "stream": "stdout",
       "text": [
        " pairFeatures time 1.26959609985\n",
        "622"
       ]
      },
      {
       "output_type": "stream",
       "stream": "stdout",
       "text": [
        " pairFeatures time 1.24606704712\n",
        "623"
       ]
      },
      {
       "output_type": "stream",
       "stream": "stdout",
       "text": [
        " pairFeatures time 1.25680994987\n",
        "624"
       ]
      },
      {
       "output_type": "stream",
       "stream": "stdout",
       "text": [
        " pairFeatures time 1.2559158802\n",
        "625"
       ]
      },
      {
       "output_type": "stream",
       "stream": "stdout",
       "text": [
        " pairFeatures time 1.24802398682\n",
        "626"
       ]
      },
      {
       "output_type": "stream",
       "stream": "stdout",
       "text": [
        " pairFeatures time 1.24727082253\n",
        "627"
       ]
      },
      {
       "output_type": "stream",
       "stream": "stdout",
       "text": [
        " pairFeatures time 1.23823285103\n",
        "628"
       ]
      },
      {
       "output_type": "stream",
       "stream": "stdout",
       "text": [
        " pairFeatures time 1.24899482727\n",
        "629"
       ]
      },
      {
       "output_type": "stream",
       "stream": "stdout",
       "text": [
        " pairFeatures time 1.24556899071\n",
        "630"
       ]
      },
      {
       "output_type": "stream",
       "stream": "stdout",
       "text": [
        " pairFeatures time 1.2379360199\n",
        "631"
       ]
      },
      {
       "output_type": "stream",
       "stream": "stdout",
       "text": [
        " pairFeatures time 1.22959589958\n",
        "632"
       ]
      },
      {
       "output_type": "stream",
       "stream": "stdout",
       "text": [
        " pairFeatures time 1.2250828743\n",
        "633"
       ]
      },
      {
       "output_type": "stream",
       "stream": "stdout",
       "text": [
        " pairFeatures time 1.24529790878\n",
        "634"
       ]
      },
      {
       "output_type": "stream",
       "stream": "stdout",
       "text": [
        " pairFeatures time 1.22320890427\n",
        "635"
       ]
      },
      {
       "output_type": "stream",
       "stream": "stdout",
       "text": [
        " pairFeatures time 1.24401807785\n",
        "636"
       ]
      },
      {
       "output_type": "stream",
       "stream": "stdout",
       "text": [
        " pairFeatures time 1.23536396027\n",
        "637"
       ]
      },
      {
       "output_type": "stream",
       "stream": "stdout",
       "text": [
        " pairFeatures time 1.22092700005\n",
        "638"
       ]
      },
      {
       "output_type": "stream",
       "stream": "stdout",
       "text": [
        " pairFeatures time 1.22240710258\n",
        "639"
       ]
      },
      {
       "output_type": "stream",
       "stream": "stdout",
       "text": [
        " pairFeatures time 1.2184650898\n",
        "640"
       ]
      },
      {
       "output_type": "stream",
       "stream": "stdout",
       "text": [
        " pairFeatures time 1.22003316879\n",
        "641"
       ]
      },
      {
       "output_type": "stream",
       "stream": "stdout",
       "text": [
        " pairFeatures time 1.2119820118\n",
        "642"
       ]
      },
      {
       "output_type": "stream",
       "stream": "stdout",
       "text": [
        " pairFeatures time 1.20471405983\n",
        "643"
       ]
      },
      {
       "output_type": "stream",
       "stream": "stdout",
       "text": [
        " pairFeatures time 1.20607995987\n",
        "644"
       ]
      },
      {
       "output_type": "stream",
       "stream": "stdout",
       "text": [
        " pairFeatures time 1.20471787453\n",
        "645"
       ]
      },
      {
       "output_type": "stream",
       "stream": "stdout",
       "text": [
        " pairFeatures time 1.20723700523\n",
        "646"
       ]
      },
      {
       "output_type": "stream",
       "stream": "stdout",
       "text": [
        " pairFeatures time 1.20411801338\n",
        "647"
       ]
      },
      {
       "output_type": "stream",
       "stream": "stdout",
       "text": [
        " pairFeatures time 1.20175099373\n",
        "648"
       ]
      },
      {
       "output_type": "stream",
       "stream": "stdout",
       "text": [
        " pairFeatures time 1.19794106483\n",
        "649"
       ]
      },
      {
       "output_type": "stream",
       "stream": "stdout",
       "text": [
        " pairFeatures time 1.20279598236\n",
        "650"
       ]
      },
      {
       "output_type": "stream",
       "stream": "stdout",
       "text": [
        " pairFeatures time 1.1943898201\n",
        "651"
       ]
      },
      {
       "output_type": "stream",
       "stream": "stdout",
       "text": [
        " pairFeatures time 1.19003200531\n",
        "652"
       ]
      },
      {
       "output_type": "stream",
       "stream": "stdout",
       "text": [
        " pairFeatures time 1.19300794601\n",
        "653"
       ]
      },
      {
       "output_type": "stream",
       "stream": "stdout",
       "text": [
        " pairFeatures time 1.19023895264\n",
        "654"
       ]
      },
      {
       "output_type": "stream",
       "stream": "stdout",
       "text": [
        " pairFeatures time 1.19357991219\n",
        "655"
       ]
      },
      {
       "output_type": "stream",
       "stream": "stdout",
       "text": [
        " pairFeatures time 1.18249392509\n",
        "656"
       ]
      },
      {
       "output_type": "stream",
       "stream": "stdout",
       "text": [
        " pairFeatures time 1.19361710548\n",
        "657"
       ]
      },
      {
       "output_type": "stream",
       "stream": "stdout",
       "text": [
        " pairFeatures time 1.20904612541\n",
        "658"
       ]
      },
      {
       "output_type": "stream",
       "stream": "stdout",
       "text": [
        " pairFeatures time 1.19867706299\n",
        "659"
       ]
      },
      {
       "output_type": "stream",
       "stream": "stdout",
       "text": [
        " pairFeatures time 1.17868709564\n",
        "660"
       ]
      },
      {
       "output_type": "stream",
       "stream": "stdout",
       "text": [
        " pairFeatures time 1.19853806496\n",
        "661"
       ]
      },
      {
       "output_type": "stream",
       "stream": "stdout",
       "text": [
        " pairFeatures time 1.18378806114\n",
        "662"
       ]
      },
      {
       "output_type": "stream",
       "stream": "stdout",
       "text": [
        " pairFeatures time 1.18889403343\n",
        "663"
       ]
      },
      {
       "output_type": "stream",
       "stream": "stdout",
       "text": [
        " pairFeatures time 1.18891716003\n",
        "664"
       ]
      },
      {
       "output_type": "stream",
       "stream": "stdout",
       "text": [
        " pairFeatures time 1.1755130291\n",
        "665"
       ]
      },
      {
       "output_type": "stream",
       "stream": "stdout",
       "text": [
        " pairFeatures time 1.17734503746\n",
        "666"
       ]
      },
      {
       "output_type": "stream",
       "stream": "stdout",
       "text": [
        " pairFeatures time 1.17904114723\n",
        "667"
       ]
      },
      {
       "output_type": "stream",
       "stream": "stdout",
       "text": [
        " pairFeatures time 1.17255401611\n",
        "668"
       ]
      },
      {
       "output_type": "stream",
       "stream": "stdout",
       "text": [
        " pairFeatures time 1.18766784668\n",
        "669"
       ]
      },
      {
       "output_type": "stream",
       "stream": "stdout",
       "text": [
        " pairFeatures time 1.16229701042\n",
        "670"
       ]
      },
      {
       "output_type": "stream",
       "stream": "stdout",
       "text": [
        " pairFeatures time 1.17236495018\n",
        "671"
       ]
      },
      {
       "output_type": "stream",
       "stream": "stdout",
       "text": [
        " pairFeatures time 1.18558287621\n",
        "672"
       ]
      },
      {
       "output_type": "stream",
       "stream": "stdout",
       "text": [
        " pairFeatures time 1.16001105309\n",
        "673"
       ]
      },
      {
       "output_type": "stream",
       "stream": "stdout",
       "text": [
        " pairFeatures time 1.18784308434\n",
        "674"
       ]
      },
      {
       "output_type": "stream",
       "stream": "stdout",
       "text": [
        " pairFeatures time 1.15455102921\n",
        "675"
       ]
      },
      {
       "output_type": "stream",
       "stream": "stdout",
       "text": [
        " pairFeatures time 1.1521821022\n",
        "676"
       ]
      },
      {
       "output_type": "stream",
       "stream": "stdout",
       "text": [
        " pairFeatures time 1.14074087143\n",
        "677"
       ]
      },
      {
       "output_type": "stream",
       "stream": "stdout",
       "text": [
        " pairFeatures time 1.14970493317\n",
        "678"
       ]
      },
      {
       "output_type": "stream",
       "stream": "stdout",
       "text": [
        " pairFeatures time 1.14861798286\n",
        "679"
       ]
      },
      {
       "output_type": "stream",
       "stream": "stdout",
       "text": [
        " pairFeatures time 1.14859104156\n",
        "680"
       ]
      },
      {
       "output_type": "stream",
       "stream": "stdout",
       "text": [
        " pairFeatures time 1.13743209839\n",
        "681"
       ]
      },
      {
       "output_type": "stream",
       "stream": "stdout",
       "text": [
        " pairFeatures time 1.14347100258\n",
        "682"
       ]
      },
      {
       "output_type": "stream",
       "stream": "stdout",
       "text": [
        " pairFeatures time 1.13264584541\n",
        "683"
       ]
      },
      {
       "output_type": "stream",
       "stream": "stdout",
       "text": [
        " pairFeatures time 1.1263229847\n",
        "684"
       ]
      },
      {
       "output_type": "stream",
       "stream": "stdout",
       "text": [
        " pairFeatures time 1.13723993301\n",
        "685"
       ]
      },
      {
       "output_type": "stream",
       "stream": "stdout",
       "text": [
        " pairFeatures time 1.13854408264\n",
        "686"
       ]
      },
      {
       "output_type": "stream",
       "stream": "stdout",
       "text": [
        " pairFeatures time 1.1354060173\n",
        "687"
       ]
      },
      {
       "output_type": "stream",
       "stream": "stdout",
       "text": [
        " pairFeatures time 1.12990999222\n",
        "688"
       ]
      },
      {
       "output_type": "stream",
       "stream": "stdout",
       "text": [
        " pairFeatures time 1.12684798241\n",
        "689"
       ]
      },
      {
       "output_type": "stream",
       "stream": "stdout",
       "text": [
        " pairFeatures time 1.13256621361\n",
        "690"
       ]
      },
      {
       "output_type": "stream",
       "stream": "stdout",
       "text": [
        " pairFeatures time 1.1211578846\n",
        "691"
       ]
      },
      {
       "output_type": "stream",
       "stream": "stdout",
       "text": [
        " pairFeatures time 1.11611413956\n",
        "692"
       ]
      },
      {
       "output_type": "stream",
       "stream": "stdout",
       "text": [
        " pairFeatures time 1.11734294891\n",
        "693"
       ]
      },
      {
       "output_type": "stream",
       "stream": "stdout",
       "text": [
        " pairFeatures time 1.11304211617\n",
        "694"
       ]
      },
      {
       "output_type": "stream",
       "stream": "stdout",
       "text": [
        " pairFeatures time 1.11486506462\n",
        "695"
       ]
      },
      {
       "output_type": "stream",
       "stream": "stdout",
       "text": [
        " pairFeatures time 1.11553001404\n",
        "696"
       ]
      },
      {
       "output_type": "stream",
       "stream": "stdout",
       "text": [
        " pairFeatures time 1.10878205299\n",
        "697"
       ]
      },
      {
       "output_type": "stream",
       "stream": "stdout",
       "text": [
        " pairFeatures time 1.10973596573\n",
        "698"
       ]
      },
      {
       "output_type": "stream",
       "stream": "stdout",
       "text": [
        " pairFeatures time 1.10565018654\n",
        "699"
       ]
      },
      {
       "output_type": "stream",
       "stream": "stdout",
       "text": [
        " pairFeatures time 1.10365486145\n",
        "700"
       ]
      },
      {
       "output_type": "stream",
       "stream": "stdout",
       "text": [
        " pairFeatures time 1.10326385498\n",
        "701"
       ]
      },
      {
       "output_type": "stream",
       "stream": "stdout",
       "text": [
        " pairFeatures time 1.10498595238\n",
        "702"
       ]
      },
      {
       "output_type": "stream",
       "stream": "stdout",
       "text": [
        " pairFeatures time 1.10090208054\n",
        "703"
       ]
      },
      {
       "output_type": "stream",
       "stream": "stdout",
       "text": [
        " pairFeatures time 1.09517407417\n",
        "704"
       ]
      },
      {
       "output_type": "stream",
       "stream": "stdout",
       "text": [
        " pairFeatures time 1.08908390999\n",
        "705"
       ]
      },
      {
       "output_type": "stream",
       "stream": "stdout",
       "text": [
        " pairFeatures time 1.09162187576\n",
        "706"
       ]
      },
      {
       "output_type": "stream",
       "stream": "stdout",
       "text": [
        " pairFeatures time 1.09267115593\n",
        "707"
       ]
      },
      {
       "output_type": "stream",
       "stream": "stdout",
       "text": [
        " pairFeatures time 1.09726595879\n",
        "708"
       ]
      },
      {
       "output_type": "stream",
       "stream": "stdout",
       "text": [
        " pairFeatures time 1.08756494522\n",
        "709"
       ]
      },
      {
       "output_type": "stream",
       "stream": "stdout",
       "text": [
        " pairFeatures time 1.08213615417\n",
        "710"
       ]
      },
      {
       "output_type": "stream",
       "stream": "stdout",
       "text": [
        " pairFeatures time 1.0792760849\n",
        "711"
       ]
      },
      {
       "output_type": "stream",
       "stream": "stdout",
       "text": [
        " pairFeatures time 1.07826709747\n",
        "712"
       ]
      },
      {
       "output_type": "stream",
       "stream": "stdout",
       "text": [
        " pairFeatures time 1.07834482193\n",
        "713"
       ]
      },
      {
       "output_type": "stream",
       "stream": "stdout",
       "text": [
        " pairFeatures time 1.1134428978\n",
        "714"
       ]
      },
      {
       "output_type": "stream",
       "stream": "stdout",
       "text": [
        " pairFeatures time 1.09829497337\n",
        "715"
       ]
      },
      {
       "output_type": "stream",
       "stream": "stdout",
       "text": [
        " pairFeatures time 1.08366394043\n",
        "716"
       ]
      },
      {
       "output_type": "stream",
       "stream": "stdout",
       "text": [
        " pairFeatures time 1.09241700172\n",
        "717"
       ]
      },
      {
       "output_type": "stream",
       "stream": "stdout",
       "text": [
        " pairFeatures time 1.08041286469\n",
        "718"
       ]
      },
      {
       "output_type": "stream",
       "stream": "stdout",
       "text": [
        " pairFeatures time 1.07875490189\n",
        "719"
       ]
      },
      {
       "output_type": "stream",
       "stream": "stdout",
       "text": [
        " pairFeatures time 1.07019400597\n",
        "720"
       ]
      },
      {
       "output_type": "stream",
       "stream": "stdout",
       "text": [
        " pairFeatures time 1.06586694717\n",
        "721"
       ]
      },
      {
       "output_type": "stream",
       "stream": "stdout",
       "text": [
        " pairFeatures time 1.05313920975\n",
        "722"
       ]
      },
      {
       "output_type": "stream",
       "stream": "stdout",
       "text": [
        " pairFeatures time 1.05509591103\n",
        "723"
       ]
      },
      {
       "output_type": "stream",
       "stream": "stdout",
       "text": [
        " pairFeatures time 1.0558180809\n",
        "724"
       ]
      },
      {
       "output_type": "stream",
       "stream": "stdout",
       "text": [
        " pairFeatures time 1.04940104485\n",
        "725"
       ]
      },
      {
       "output_type": "stream",
       "stream": "stdout",
       "text": [
        " pairFeatures time 1.04893398285\n",
        "726"
       ]
      },
      {
       "output_type": "stream",
       "stream": "stdout",
       "text": [
        " pairFeatures time 1.04820299149\n",
        "727"
       ]
      },
      {
       "output_type": "stream",
       "stream": "stdout",
       "text": [
        " pairFeatures time 1.05250096321\n",
        "728"
       ]
      },
      {
       "output_type": "stream",
       "stream": "stdout",
       "text": [
        " pairFeatures time 1.04677414894\n",
        "729"
       ]
      },
      {
       "output_type": "stream",
       "stream": "stdout",
       "text": [
        " pairFeatures time 1.04862499237\n",
        "730"
       ]
      },
      {
       "output_type": "stream",
       "stream": "stdout",
       "text": [
        " pairFeatures time 1.04404115677\n",
        "731"
       ]
      },
      {
       "output_type": "stream",
       "stream": "stdout",
       "text": [
        " pairFeatures time 1.04038000107\n",
        "732"
       ]
      },
      {
       "output_type": "stream",
       "stream": "stdout",
       "text": [
        " pairFeatures time 1.04184603691\n",
        "733"
       ]
      },
      {
       "output_type": "stream",
       "stream": "stdout",
       "text": [
        " pairFeatures time 1.03205704689\n",
        "734"
       ]
      },
      {
       "output_type": "stream",
       "stream": "stdout",
       "text": [
        " pairFeatures time 1.03456902504\n",
        "735"
       ]
      },
      {
       "output_type": "stream",
       "stream": "stdout",
       "text": [
        " pairFeatures time 1.03499794006\n",
        "736"
       ]
      },
      {
       "output_type": "stream",
       "stream": "stdout",
       "text": [
        " pairFeatures time 1.05103683472\n",
        "737"
       ]
      },
      {
       "output_type": "stream",
       "stream": "stdout",
       "text": [
        " pairFeatures time 1.03506803513\n",
        "738"
       ]
      },
      {
       "output_type": "stream",
       "stream": "stdout",
       "text": [
        " pairFeatures time 1.02886104584\n",
        "739"
       ]
      },
      {
       "output_type": "stream",
       "stream": "stdout",
       "text": [
        " pairFeatures time 1.02263712883\n",
        "740"
       ]
      },
      {
       "output_type": "stream",
       "stream": "stdout",
       "text": [
        " pairFeatures time 1.02816009521\n",
        "741"
       ]
      },
      {
       "output_type": "stream",
       "stream": "stdout",
       "text": [
        " pairFeatures time 1.03180289268\n",
        "742"
       ]
      },
      {
       "output_type": "stream",
       "stream": "stdout",
       "text": [
        " pairFeatures time 1.07450199127\n",
        "743"
       ]
      },
      {
       "output_type": "stream",
       "stream": "stdout",
       "text": [
        " pairFeatures time 1.05261301994\n",
        "744"
       ]
      },
      {
       "output_type": "stream",
       "stream": "stdout",
       "text": [
        " pairFeatures time 1.02073192596\n",
        "745"
       ]
      },
      {
       "output_type": "stream",
       "stream": "stdout",
       "text": [
        " pairFeatures time 1.03638601303\n",
        "746"
       ]
      },
      {
       "output_type": "stream",
       "stream": "stdout",
       "text": [
        " pairFeatures time 1.01833105087\n",
        "747"
       ]
      },
      {
       "output_type": "stream",
       "stream": "stdout",
       "text": [
        " pairFeatures time 1.01706695557\n",
        "748"
       ]
      },
      {
       "output_type": "stream",
       "stream": "stdout",
       "text": [
        " pairFeatures time 1.00905394554\n",
        "749"
       ]
      },
      {
       "output_type": "stream",
       "stream": "stdout",
       "text": [
        " pairFeatures time 1.00925779343\n",
        "750"
       ]
      },
      {
       "output_type": "stream",
       "stream": "stdout",
       "text": [
        " pairFeatures time 1.00479602814\n",
        "751"
       ]
      },
      {
       "output_type": "stream",
       "stream": "stdout",
       "text": [
        " pairFeatures time 1.00924491882\n",
        "752"
       ]
      },
      {
       "output_type": "stream",
       "stream": "stdout",
       "text": [
        " pairFeatures time 0.995605945587\n",
        "753"
       ]
      },
      {
       "output_type": "stream",
       "stream": "stdout",
       "text": [
        " pairFeatures time 1.00167703629\n",
        "754"
       ]
      },
      {
       "output_type": "stream",
       "stream": "stdout",
       "text": [
        " pairFeatures time 0.998618841171\n",
        "755"
       ]
      },
      {
       "output_type": "stream",
       "stream": "stdout",
       "text": [
        " pairFeatures time 1.01424002647\n",
        "756"
       ]
      },
      {
       "output_type": "stream",
       "stream": "stdout",
       "text": [
        " pairFeatures time 1.01897597313\n",
        "757"
       ]
      },
      {
       "output_type": "stream",
       "stream": "stdout",
       "text": [
        " pairFeatures time 1.00996994972\n",
        "758"
       ]
      },
      {
       "output_type": "stream",
       "stream": "stdout",
       "text": [
        " pairFeatures time 0.996612787247\n",
        "759"
       ]
      },
      {
       "output_type": "stream",
       "stream": "stdout",
       "text": [
        " pairFeatures time 0.991078853607\n",
        "760"
       ]
      },
      {
       "output_type": "stream",
       "stream": "stdout",
       "text": [
        " pairFeatures time 0.986482858658\n",
        "761"
       ]
      },
      {
       "output_type": "stream",
       "stream": "stdout",
       "text": [
        " pairFeatures time 0.986655950546\n",
        "762"
       ]
      },
      {
       "output_type": "stream",
       "stream": "stdout",
       "text": [
        " pairFeatures time 0.997445106506\n",
        "763"
       ]
      },
      {
       "output_type": "stream",
       "stream": "stdout",
       "text": [
        " pairFeatures time 0.988933086395\n",
        "764"
       ]
      },
      {
       "output_type": "stream",
       "stream": "stdout",
       "text": [
        " pairFeatures time 0.989858150482\n",
        "765"
       ]
      },
      {
       "output_type": "stream",
       "stream": "stdout",
       "text": [
        " pairFeatures time 0.978832006454\n",
        "766"
       ]
      },
      {
       "output_type": "stream",
       "stream": "stdout",
       "text": [
        " pairFeatures time 0.987525939941\n",
        "767"
       ]
      },
      {
       "output_type": "stream",
       "stream": "stdout",
       "text": [
        " pairFeatures time 0.97625207901\n",
        "768"
       ]
      },
      {
       "output_type": "stream",
       "stream": "stdout",
       "text": [
        " pairFeatures time 0.97549700737\n",
        "769"
       ]
      },
      {
       "output_type": "stream",
       "stream": "stdout",
       "text": [
        " pairFeatures time 0.971879959106\n",
        "770"
       ]
      },
      {
       "output_type": "stream",
       "stream": "stdout",
       "text": [
        " pairFeatures time 0.969825983047\n",
        "771"
       ]
      },
      {
       "output_type": "stream",
       "stream": "stdout",
       "text": [
        " pairFeatures time 0.988195896149\n",
        "772"
       ]
      },
      {
       "output_type": "stream",
       "stream": "stdout",
       "text": [
        " pairFeatures time 1.01555800438\n",
        "773"
       ]
      },
      {
       "output_type": "stream",
       "stream": "stdout",
       "text": [
        " pairFeatures time 0.974697828293\n",
        "774"
       ]
      },
      {
       "output_type": "stream",
       "stream": "stdout",
       "text": [
        " pairFeatures time 0.967834949493\n",
        "775"
       ]
      },
      {
       "output_type": "stream",
       "stream": "stdout",
       "text": [
        " pairFeatures time 0.968060970306\n",
        "776"
       ]
      },
      {
       "output_type": "stream",
       "stream": "stdout",
       "text": [
        " pairFeatures time 0.956037998199\n",
        "777"
       ]
      },
      {
       "output_type": "stream",
       "stream": "stdout",
       "text": [
        " pairFeatures time 0.951030015945\n",
        "778"
       ]
      },
      {
       "output_type": "stream",
       "stream": "stdout",
       "text": [
        " pairFeatures time 0.96518611908\n",
        "779"
       ]
      },
      {
       "output_type": "stream",
       "stream": "stdout",
       "text": [
        " pairFeatures time 0.954894065857\n",
        "780"
       ]
      },
      {
       "output_type": "stream",
       "stream": "stdout",
       "text": [
        " pairFeatures time 0.956918954849\n",
        "781"
       ]
      },
      {
       "output_type": "stream",
       "stream": "stdout",
       "text": [
        " pairFeatures time 0.9493060112\n",
        "782"
       ]
      },
      {
       "output_type": "stream",
       "stream": "stdout",
       "text": [
        " pairFeatures time 0.943768024445\n",
        "783"
       ]
      },
      {
       "output_type": "stream",
       "stream": "stdout",
       "text": [
        " pairFeatures time 0.941723108292\n",
        "784"
       ]
      },
      {
       "output_type": "stream",
       "stream": "stdout",
       "text": [
        " pairFeatures time 0.942878961563\n",
        "785"
       ]
      },
      {
       "output_type": "stream",
       "stream": "stdout",
       "text": [
        " pairFeatures time 0.942138195038\n",
        "786"
       ]
      },
      {
       "output_type": "stream",
       "stream": "stdout",
       "text": [
        " pairFeatures time 0.940897941589\n",
        "787"
       ]
      },
      {
       "output_type": "stream",
       "stream": "stdout",
       "text": [
        " pairFeatures time 0.943197011948\n",
        "788"
       ]
      },
      {
       "output_type": "stream",
       "stream": "stdout",
       "text": [
        " pairFeatures time 0.937833070755\n",
        "789"
       ]
      },
      {
       "output_type": "stream",
       "stream": "stdout",
       "text": [
        " pairFeatures time 0.925967931747\n",
        "790"
       ]
      },
      {
       "output_type": "stream",
       "stream": "stdout",
       "text": [
        " pairFeatures time 0.929806947708\n",
        "791"
       ]
      },
      {
       "output_type": "stream",
       "stream": "stdout",
       "text": [
        " pairFeatures time 0.922169923782\n",
        "792"
       ]
      },
      {
       "output_type": "stream",
       "stream": "stdout",
       "text": [
        " pairFeatures time 0.928509950638\n",
        "793"
       ]
      },
      {
       "output_type": "stream",
       "stream": "stdout",
       "text": [
        " pairFeatures time 0.917323112488\n",
        "794"
       ]
      },
      {
       "output_type": "stream",
       "stream": "stdout",
       "text": [
        " pairFeatures time 0.921376943588\n",
        "795"
       ]
      },
      {
       "output_type": "stream",
       "stream": "stdout",
       "text": [
        " pairFeatures time 0.913773775101\n",
        "796"
       ]
      },
      {
       "output_type": "stream",
       "stream": "stdout",
       "text": [
        " pairFeatures time 0.93155002594\n",
        "797"
       ]
      },
      {
       "output_type": "stream",
       "stream": "stdout",
       "text": [
        " pairFeatures time 0.924374103546\n",
        "798"
       ]
      },
      {
       "output_type": "stream",
       "stream": "stdout",
       "text": [
        " pairFeatures time 0.921103954315\n",
        "799"
       ]
      },
      {
       "output_type": "stream",
       "stream": "stdout",
       "text": [
        " pairFeatures time 0.915316104889\n",
        "800"
       ]
      },
      {
       "output_type": "stream",
       "stream": "stdout",
       "text": [
        " pairFeatures time 0.916285991669\n",
        "801"
       ]
      },
      {
       "output_type": "stream",
       "stream": "stdout",
       "text": [
        " pairFeatures time 0.919443130493\n",
        "802"
       ]
      },
      {
       "output_type": "stream",
       "stream": "stdout",
       "text": [
        " pairFeatures time 0.912420034409\n",
        "803"
       ]
      },
      {
       "output_type": "stream",
       "stream": "stdout",
       "text": [
        " pairFeatures time 0.905667066574\n",
        "804"
       ]
      },
      {
       "output_type": "stream",
       "stream": "stdout",
       "text": [
        " pairFeatures time 0.904476165771\n",
        "805"
       ]
      },
      {
       "output_type": "stream",
       "stream": "stdout",
       "text": [
        " pairFeatures time 0.902721881866\n",
        "806"
       ]
      },
      {
       "output_type": "stream",
       "stream": "stdout",
       "text": [
        " pairFeatures time 0.899549007416\n",
        "807"
       ]
      },
      {
       "output_type": "stream",
       "stream": "stdout",
       "text": [
        " pairFeatures time 0.903646945953\n",
        "808"
       ]
      },
      {
       "output_type": "stream",
       "stream": "stdout",
       "text": [
        " pairFeatures time 0.892632961273\n",
        "809"
       ]
      },
      {
       "output_type": "stream",
       "stream": "stdout",
       "text": [
        " pairFeatures time 0.892709970474\n",
        "810"
       ]
      },
      {
       "output_type": "stream",
       "stream": "stdout",
       "text": [
        " pairFeatures time 0.888388156891\n",
        "811"
       ]
      },
      {
       "output_type": "stream",
       "stream": "stdout",
       "text": [
        " pairFeatures time 0.887189149857\n",
        "812"
       ]
      },
      {
       "output_type": "stream",
       "stream": "stdout",
       "text": [
        " pairFeatures time 0.908195018768\n",
        "813"
       ]
      },
      {
       "output_type": "stream",
       "stream": "stdout",
       "text": [
        " pairFeatures time 0.887206077576\n",
        "814"
       ]
      },
      {
       "output_type": "stream",
       "stream": "stdout",
       "text": [
        " pairFeatures time 0.884907007217\n",
        "815"
       ]
      },
      {
       "output_type": "stream",
       "stream": "stdout",
       "text": [
        " pairFeatures time 0.881175041199\n",
        "816"
       ]
      },
      {
       "output_type": "stream",
       "stream": "stdout",
       "text": [
        " pairFeatures time 0.879477977753\n",
        "817"
       ]
      },
      {
       "output_type": "stream",
       "stream": "stdout",
       "text": [
        " pairFeatures time 0.881063938141\n",
        "818"
       ]
      },
      {
       "output_type": "stream",
       "stream": "stdout",
       "text": [
        " pairFeatures time 0.873608112335\n",
        "819"
       ]
      },
      {
       "output_type": "stream",
       "stream": "stdout",
       "text": [
        " pairFeatures time 0.883892059326\n",
        "820"
       ]
      },
      {
       "output_type": "stream",
       "stream": "stdout",
       "text": [
        " pairFeatures time 0.870311975479\n",
        "821"
       ]
      },
      {
       "output_type": "stream",
       "stream": "stdout",
       "text": [
        " pairFeatures time 0.871737957001\n",
        "822"
       ]
      },
      {
       "output_type": "stream",
       "stream": "stdout",
       "text": [
        " pairFeatures time 0.86637711525\n",
        "823"
       ]
      },
      {
       "output_type": "stream",
       "stream": "stdout",
       "text": [
        " pairFeatures time 0.867224931717\n",
        "824"
       ]
      },
      {
       "output_type": "stream",
       "stream": "stdout",
       "text": [
        " pairFeatures time 0.863567113876\n",
        "825"
       ]
      },
      {
       "output_type": "stream",
       "stream": "stdout",
       "text": [
        " pairFeatures time 0.861001014709\n",
        "826"
       ]
      },
      {
       "output_type": "stream",
       "stream": "stdout",
       "text": [
        " pairFeatures time 0.864072084427\n",
        "827"
       ]
      },
      {
       "output_type": "stream",
       "stream": "stdout",
       "text": [
        " pairFeatures time 0.858512163162\n",
        "828"
       ]
      },
      {
       "output_type": "stream",
       "stream": "stdout",
       "text": [
        " pairFeatures time 0.860246181488\n",
        "829"
       ]
      },
      {
       "output_type": "stream",
       "stream": "stdout",
       "text": [
        " pairFeatures time 0.854444026947\n",
        "830"
       ]
      },
      {
       "output_type": "stream",
       "stream": "stdout",
       "text": [
        " pairFeatures time 0.848788022995\n",
        "831"
       ]
      },
      {
       "output_type": "stream",
       "stream": "stdout",
       "text": [
        " pairFeatures time 0.855310916901\n",
        "832"
       ]
      },
      {
       "output_type": "stream",
       "stream": "stdout",
       "text": [
        " pairFeatures time 0.846349954605\n",
        "833"
       ]
      },
      {
       "output_type": "stream",
       "stream": "stdout",
       "text": [
        " pairFeatures time 0.845845937729\n",
        "834"
       ]
      },
      {
       "output_type": "stream",
       "stream": "stdout",
       "text": [
        " pairFeatures time 0.854891061783\n",
        "835"
       ]
      },
      {
       "output_type": "stream",
       "stream": "stdout",
       "text": [
        " pairFeatures time 0.852771043777\n",
        "836"
       ]
      },
      {
       "output_type": "stream",
       "stream": "stdout",
       "text": [
        " pairFeatures time 0.838423013687\n",
        "837"
       ]
      },
      {
       "output_type": "stream",
       "stream": "stdout",
       "text": [
        " pairFeatures time 0.840651035309\n",
        "838"
       ]
      },
      {
       "output_type": "stream",
       "stream": "stdout",
       "text": [
        " pairFeatures time 0.8403840065\n",
        "839"
       ]
      },
      {
       "output_type": "stream",
       "stream": "stdout",
       "text": [
        " pairFeatures time 0.832314968109\n",
        "840"
       ]
      },
      {
       "output_type": "stream",
       "stream": "stdout",
       "text": [
        " pairFeatures time 0.843993186951\n",
        "841"
       ]
      },
      {
       "output_type": "stream",
       "stream": "stdout",
       "text": [
        " pairFeatures time 0.8280210495\n",
        "842"
       ]
      },
      {
       "output_type": "stream",
       "stream": "stdout",
       "text": [
        " pairFeatures time 0.833064079285\n",
        "843"
       ]
      },
      {
       "output_type": "stream",
       "stream": "stdout",
       "text": [
        " pairFeatures time 0.82578587532\n",
        "844"
       ]
      },
      {
       "output_type": "stream",
       "stream": "stdout",
       "text": [
        " pairFeatures time 0.822340965271\n",
        "845"
       ]
      },
      {
       "output_type": "stream",
       "stream": "stdout",
       "text": [
        " pairFeatures time 0.824496984482\n",
        "846"
       ]
      },
      {
       "output_type": "stream",
       "stream": "stdout",
       "text": [
        " pairFeatures time 0.822627067566\n",
        "847"
       ]
      },
      {
       "output_type": "stream",
       "stream": "stdout",
       "text": [
        " pairFeatures time 0.823261976242\n",
        "848"
       ]
      },
      {
       "output_type": "stream",
       "stream": "stdout",
       "text": [
        " pairFeatures time 0.815155029297\n",
        "849"
       ]
      },
      {
       "output_type": "stream",
       "stream": "stdout",
       "text": [
        " pairFeatures time 0.817255020142\n",
        "850"
       ]
      },
      {
       "output_type": "stream",
       "stream": "stdout",
       "text": [
        " pairFeatures time 0.816428184509\n",
        "851"
       ]
      },
      {
       "output_type": "stream",
       "stream": "stdout",
       "text": [
        " pairFeatures time 0.808516979218\n",
        "852"
       ]
      },
      {
       "output_type": "stream",
       "stream": "stdout",
       "text": [
        " pairFeatures time 0.808477163315\n",
        "853"
       ]
      },
      {
       "output_type": "stream",
       "stream": "stdout",
       "text": [
        " pairFeatures time 0.805743932724\n",
        "854"
       ]
      },
      {
       "output_type": "stream",
       "stream": "stdout",
       "text": [
        " pairFeatures time 0.808320045471\n",
        "855"
       ]
      },
      {
       "output_type": "stream",
       "stream": "stdout",
       "text": [
        " pairFeatures time 0.805251121521\n",
        "856"
       ]
      },
      {
       "output_type": "stream",
       "stream": "stdout",
       "text": [
        " pairFeatures time 0.799839019775\n",
        "857"
       ]
      },
      {
       "output_type": "stream",
       "stream": "stdout",
       "text": [
        " pairFeatures time 0.853994846344\n",
        "858"
       ]
      },
      {
       "output_type": "stream",
       "stream": "stdout",
       "text": [
        " pairFeatures time 0.801390886307\n",
        "859"
       ]
      },
      {
       "output_type": "stream",
       "stream": "stdout",
       "text": [
        " pairFeatures time 0.807811021805\n",
        "860"
       ]
      },
      {
       "output_type": "stream",
       "stream": "stdout",
       "text": [
        " pairFeatures time 0.804240942001\n",
        "861"
       ]
      },
      {
       "output_type": "stream",
       "stream": "stdout",
       "text": [
        " pairFeatures time 0.798400878906\n",
        "862"
       ]
      },
      {
       "output_type": "stream",
       "stream": "stdout",
       "text": [
        " pairFeatures time 0.791261911392\n",
        "863"
       ]
      },
      {
       "output_type": "stream",
       "stream": "stdout",
       "text": [
        " pairFeatures time 0.795040130615\n",
        "864"
       ]
      },
      {
       "output_type": "stream",
       "stream": "stdout",
       "text": [
        " pairFeatures time 0.793199062347\n",
        "865"
       ]
      },
      {
       "output_type": "stream",
       "stream": "stdout",
       "text": [
        " pairFeatures time 0.784825086594\n",
        "866"
       ]
      },
      {
       "output_type": "stream",
       "stream": "stdout",
       "text": [
        " pairFeatures time 0.790720939636\n",
        "867"
       ]
      },
      {
       "output_type": "stream",
       "stream": "stdout",
       "text": [
        " pairFeatures time 0.79349899292\n",
        "868"
       ]
      },
      {
       "output_type": "stream",
       "stream": "stdout",
       "text": [
        " pairFeatures time 0.786608934402\n",
        "869"
       ]
      },
      {
       "output_type": "stream",
       "stream": "stdout",
       "text": [
        " pairFeatures time 0.789593219757\n",
        "870"
       ]
      },
      {
       "output_type": "stream",
       "stream": "stdout",
       "text": [
        " pairFeatures time 0.786653995514\n",
        "871"
       ]
      },
      {
       "output_type": "stream",
       "stream": "stdout",
       "text": [
        " pairFeatures time 0.783233165741\n",
        "872"
       ]
      },
      {
       "output_type": "stream",
       "stream": "stdout",
       "text": [
        " pairFeatures time 0.782914876938\n",
        "873"
       ]
      },
      {
       "output_type": "stream",
       "stream": "stdout",
       "text": [
        " pairFeatures time 0.780463218689\n",
        "874"
       ]
      },
      {
       "output_type": "stream",
       "stream": "stdout",
       "text": [
        " pairFeatures time 0.765448093414\n",
        "875"
       ]
      },
      {
       "output_type": "stream",
       "stream": "stdout",
       "text": [
        " pairFeatures time 0.817808866501\n",
        "876"
       ]
      },
      {
       "output_type": "stream",
       "stream": "stdout",
       "text": [
        " pairFeatures time 0.770670890808\n",
        "877"
       ]
      },
      {
       "output_type": "stream",
       "stream": "stdout",
       "text": [
        " pairFeatures time 0.763951063156\n",
        "878"
       ]
      },
      {
       "output_type": "stream",
       "stream": "stdout",
       "text": [
        " pairFeatures time 0.763808965683\n",
        "879"
       ]
      },
      {
       "output_type": "stream",
       "stream": "stdout",
       "text": [
        " pairFeatures time 0.762965202332\n",
        "880"
       ]
      },
      {
       "output_type": "stream",
       "stream": "stdout",
       "text": [
        " pairFeatures time 0.757102966309\n",
        "881"
       ]
      },
      {
       "output_type": "stream",
       "stream": "stdout",
       "text": [
        " pairFeatures time 0.761558055878\n",
        "882"
       ]
      },
      {
       "output_type": "stream",
       "stream": "stdout",
       "text": [
        " pairFeatures time 0.767675161362\n",
        "883"
       ]
      },
      {
       "output_type": "stream",
       "stream": "stdout",
       "text": [
        " pairFeatures time 0.755593061447\n",
        "884"
       ]
      },
      {
       "output_type": "stream",
       "stream": "stdout",
       "text": [
        " pairFeatures time 0.754812002182\n",
        "885"
       ]
      },
      {
       "output_type": "stream",
       "stream": "stdout",
       "text": [
        " pairFeatures time 0.755474090576\n",
        "886"
       ]
      },
      {
       "output_type": "stream",
       "stream": "stdout",
       "text": [
        " pairFeatures time 0.75060915947\n",
        "887"
       ]
      },
      {
       "output_type": "stream",
       "stream": "stdout",
       "text": [
        " pairFeatures time 0.75328207016\n",
        "888"
       ]
      },
      {
       "output_type": "stream",
       "stream": "stdout",
       "text": [
        " pairFeatures time 0.748029947281\n",
        "889"
       ]
      },
      {
       "output_type": "stream",
       "stream": "stdout",
       "text": [
        " pairFeatures time 0.742610216141\n",
        "890"
       ]
      },
      {
       "output_type": "stream",
       "stream": "stdout",
       "text": [
        " pairFeatures time 0.739114999771\n",
        "891"
       ]
      },
      {
       "output_type": "stream",
       "stream": "stdout",
       "text": [
        " pairFeatures time 0.735882043839\n",
        "892"
       ]
      },
      {
       "output_type": "stream",
       "stream": "stdout",
       "text": [
        " pairFeatures time 0.744727134705\n",
        "893"
       ]
      },
      {
       "output_type": "stream",
       "stream": "stdout",
       "text": [
        " pairFeatures time 0.740869045258\n",
        "894"
       ]
      },
      {
       "output_type": "stream",
       "stream": "stdout",
       "text": [
        " pairFeatures time 0.726842164993\n",
        "895"
       ]
      },
      {
       "output_type": "stream",
       "stream": "stdout",
       "text": [
        " pairFeatures time 0.723680019379\n",
        "896"
       ]
      },
      {
       "output_type": "stream",
       "stream": "stdout",
       "text": [
        " pairFeatures time 0.735335111618\n",
        "897"
       ]
      },
      {
       "output_type": "stream",
       "stream": "stdout",
       "text": [
        " pairFeatures time 0.733052015305\n",
        "898"
       ]
      },
      {
       "output_type": "stream",
       "stream": "stdout",
       "text": [
        " pairFeatures time 0.721281051636\n",
        "899"
       ]
      },
      {
       "output_type": "stream",
       "stream": "stdout",
       "text": [
        " pairFeatures time 0.721164941788\n",
        "900"
       ]
      },
      {
       "output_type": "stream",
       "stream": "stdout",
       "text": [
        " pairFeatures time 0.716594934464\n",
        "901"
       ]
      },
      {
       "output_type": "stream",
       "stream": "stdout",
       "text": [
        " pairFeatures time 0.721723794937\n",
        "902"
       ]
      },
      {
       "output_type": "stream",
       "stream": "stdout",
       "text": [
        " pairFeatures time 0.718665838242\n",
        "903"
       ]
      },
      {
       "output_type": "stream",
       "stream": "stdout",
       "text": [
        " pairFeatures time 0.717427968979\n",
        "904"
       ]
      },
      {
       "output_type": "stream",
       "stream": "stdout",
       "text": [
        " pairFeatures time 0.714101076126\n",
        "905"
       ]
      },
      {
       "output_type": "stream",
       "stream": "stdout",
       "text": [
        " pairFeatures time 0.722287893295\n",
        "906"
       ]
      },
      {
       "output_type": "stream",
       "stream": "stdout",
       "text": [
        " pairFeatures time 0.710868835449\n",
        "907"
       ]
      },
      {
       "output_type": "stream",
       "stream": "stdout",
       "text": [
        " pairFeatures time 0.708652973175\n",
        "908"
       ]
      },
      {
       "output_type": "stream",
       "stream": "stdout",
       "text": [
        " pairFeatures time 0.703181028366\n",
        "909"
       ]
      },
      {
       "output_type": "stream",
       "stream": "stdout",
       "text": [
        " pairFeatures time 0.704152107239\n",
        "910"
       ]
      },
      {
       "output_type": "stream",
       "stream": "stdout",
       "text": [
        " pairFeatures time 0.697635889053\n",
        "911"
       ]
      },
      {
       "output_type": "stream",
       "stream": "stdout",
       "text": [
        " pairFeatures time 0.698787927628\n",
        "912"
       ]
      },
      {
       "output_type": "stream",
       "stream": "stdout",
       "text": [
        " pairFeatures time 0.697288990021\n",
        "913"
       ]
      },
      {
       "output_type": "stream",
       "stream": "stdout",
       "text": [
        " pairFeatures time 0.697283983231\n",
        "914"
       ]
      },
      {
       "output_type": "stream",
       "stream": "stdout",
       "text": [
        " pairFeatures time 0.694082021713\n",
        "915"
       ]
      },
      {
       "output_type": "stream",
       "stream": "stdout",
       "text": [
        " pairFeatures time 0.691715955734\n",
        "916"
       ]
      },
      {
       "output_type": "stream",
       "stream": "stdout",
       "text": [
        " pairFeatures time 0.700229883194\n",
        "917"
       ]
      },
      {
       "output_type": "stream",
       "stream": "stdout",
       "text": [
        " pairFeatures time 0.691177129745\n",
        "918"
       ]
      },
      {
       "output_type": "stream",
       "stream": "stdout",
       "text": [
        " pairFeatures time 0.695566892624\n",
        "919"
       ]
      },
      {
       "output_type": "stream",
       "stream": "stdout",
       "text": [
        " pairFeatures time 0.696372032166\n",
        "920"
       ]
      },
      {
       "output_type": "stream",
       "stream": "stdout",
       "text": [
        " pairFeatures time 0.697563886642\n",
        "921"
       ]
      },
      {
       "output_type": "stream",
       "stream": "stdout",
       "text": [
        " pairFeatures time 0.684609889984\n",
        "922"
       ]
      },
      {
       "output_type": "stream",
       "stream": "stdout",
       "text": [
        " pairFeatures time 0.678284883499\n",
        "923"
       ]
      },
      {
       "output_type": "stream",
       "stream": "stdout",
       "text": [
        " pairFeatures time 0.676635980606\n",
        "924"
       ]
      },
      {
       "output_type": "stream",
       "stream": "stdout",
       "text": [
        " pairFeatures time 0.675848007202\n",
        "925"
       ]
      },
      {
       "output_type": "stream",
       "stream": "stdout",
       "text": [
        " pairFeatures time 0.679784059525\n",
        "926"
       ]
      },
      {
       "output_type": "stream",
       "stream": "stdout",
       "text": [
        " pairFeatures time 0.6792948246\n",
        "927"
       ]
      },
      {
       "output_type": "stream",
       "stream": "stdout",
       "text": [
        " pairFeatures time 0.672356843948\n",
        "928"
       ]
      },
      {
       "output_type": "stream",
       "stream": "stdout",
       "text": [
        " pairFeatures time 0.672020196915\n",
        "929"
       ]
      },
      {
       "output_type": "stream",
       "stream": "stdout",
       "text": [
        " pairFeatures time 0.663121938705\n",
        "930"
       ]
      },
      {
       "output_type": "stream",
       "stream": "stdout",
       "text": [
        " pairFeatures time 0.660524845123\n",
        "931"
       ]
      },
      {
       "output_type": "stream",
       "stream": "stdout",
       "text": [
        " pairFeatures time 0.663145780563\n",
        "932"
       ]
      },
      {
       "output_type": "stream",
       "stream": "stdout",
       "text": [
        " pairFeatures time 0.661592960358\n",
        "933"
       ]
      },
      {
       "output_type": "stream",
       "stream": "stdout",
       "text": [
        " pairFeatures time 0.662194013596\n",
        "934"
       ]
      },
      {
       "output_type": "stream",
       "stream": "stdout",
       "text": [
        " pairFeatures time 0.657814025879\n",
        "935"
       ]
      },
      {
       "output_type": "stream",
       "stream": "stdout",
       "text": [
        " pairFeatures time 0.65956401825\n",
        "936"
       ]
      },
      {
       "output_type": "stream",
       "stream": "stdout",
       "text": [
        " pairFeatures time 0.661282062531\n",
        "937"
       ]
      },
      {
       "output_type": "stream",
       "stream": "stdout",
       "text": [
        " pairFeatures time 0.648760080338\n",
        "938"
       ]
      },
      {
       "output_type": "stream",
       "stream": "stdout",
       "text": [
        " pairFeatures time 0.646288871765\n",
        "939"
       ]
      },
      {
       "output_type": "stream",
       "stream": "stdout",
       "text": [
        " pairFeatures time 0.647082090378\n",
        "940"
       ]
      },
      {
       "output_type": "stream",
       "stream": "stdout",
       "text": [
        " pairFeatures time 0.647994995117\n",
        "941"
       ]
      },
      {
       "output_type": "stream",
       "stream": "stdout",
       "text": [
        " pairFeatures time 0.647768974304\n",
        "942"
       ]
      },
      {
       "output_type": "stream",
       "stream": "stdout",
       "text": [
        " pairFeatures time 0.649984121323\n",
        "943"
       ]
      },
      {
       "output_type": "stream",
       "stream": "stdout",
       "text": [
        " pairFeatures time 0.638461112976\n",
        "944"
       ]
      },
      {
       "output_type": "stream",
       "stream": "stdout",
       "text": [
        " pairFeatures time 0.636214971542\n",
        "945"
       ]
      },
      {
       "output_type": "stream",
       "stream": "stdout",
       "text": [
        " pairFeatures time 0.635485887527\n",
        "946"
       ]
      },
      {
       "output_type": "stream",
       "stream": "stdout",
       "text": [
        " pairFeatures time 0.636094093323\n",
        "947"
       ]
      },
      {
       "output_type": "stream",
       "stream": "stdout",
       "text": [
        " pairFeatures time 0.629390954971\n",
        "948"
       ]
      },
      {
       "output_type": "stream",
       "stream": "stdout",
       "text": [
        " pairFeatures time 0.631644010544\n",
        "949"
       ]
      },
      {
       "output_type": "stream",
       "stream": "stdout",
       "text": [
        " pairFeatures time 0.632719993591\n",
        "950"
       ]
      },
      {
       "output_type": "stream",
       "stream": "stdout",
       "text": [
        " pairFeatures time 0.621961116791\n",
        "951"
       ]
      },
      {
       "output_type": "stream",
       "stream": "stdout",
       "text": [
        " pairFeatures time 0.624444007874\n",
        "952"
       ]
      },
      {
       "output_type": "stream",
       "stream": "stdout",
       "text": [
        " pairFeatures time 0.623237133026\n",
        "953"
       ]
      },
      {
       "output_type": "stream",
       "stream": "stdout",
       "text": [
        " pairFeatures time 0.620146989822\n",
        "954"
       ]
      },
      {
       "output_type": "stream",
       "stream": "stdout",
       "text": [
        " pairFeatures time 0.618697166443\n",
        "955"
       ]
      },
      {
       "output_type": "stream",
       "stream": "stdout",
       "text": [
        " pairFeatures time 0.617180109024\n",
        "956"
       ]
      },
      {
       "output_type": "stream",
       "stream": "stdout",
       "text": [
        " pairFeatures time 0.611876010895\n",
        "957"
       ]
      },
      {
       "output_type": "stream",
       "stream": "stdout",
       "text": [
        " pairFeatures time 0.612678050995\n",
        "958"
       ]
      },
      {
       "output_type": "stream",
       "stream": "stdout",
       "text": [
        " pairFeatures time 0.617274999619\n",
        "959"
       ]
      },
      {
       "output_type": "stream",
       "stream": "stdout",
       "text": [
        " pairFeatures time 0.613127946854\n",
        "960"
       ]
      },
      {
       "output_type": "stream",
       "stream": "stdout",
       "text": [
        " pairFeatures time 0.606543064117\n",
        "961"
       ]
      },
      {
       "output_type": "stream",
       "stream": "stdout",
       "text": [
        " pairFeatures time 0.604434013367\n",
        "962"
       ]
      },
      {
       "output_type": "stream",
       "stream": "stdout",
       "text": [
        " pairFeatures time 0.625445842743\n",
        "963"
       ]
      },
      {
       "output_type": "stream",
       "stream": "stdout",
       "text": [
        " pairFeatures time 0.61318898201\n",
        "964"
       ]
      },
      {
       "output_type": "stream",
       "stream": "stdout",
       "text": [
        " pairFeatures time 0.607501983643\n",
        "965"
       ]
      },
      {
       "output_type": "stream",
       "stream": "stdout",
       "text": [
        " pairFeatures time 0.602926969528\n",
        "966"
       ]
      },
      {
       "output_type": "stream",
       "stream": "stdout",
       "text": [
        " pairFeatures time 0.596148967743\n",
        "967"
       ]
      },
      {
       "output_type": "stream",
       "stream": "stdout",
       "text": [
        " pairFeatures time 0.598950147629\n",
        "968"
       ]
      },
      {
       "output_type": "stream",
       "stream": "stdout",
       "text": [
        " pairFeatures time 0.59107708931\n",
        "969"
       ]
      },
      {
       "output_type": "stream",
       "stream": "stdout",
       "text": [
        " pairFeatures time 0.58730006218\n",
        "970"
       ]
      },
      {
       "output_type": "stream",
       "stream": "stdout",
       "text": [
        " pairFeatures time 0.586605072021\n",
        "971"
       ]
      },
      {
       "output_type": "stream",
       "stream": "stdout",
       "text": [
        " pairFeatures time 0.583279132843\n",
        "972"
       ]
      },
      {
       "output_type": "stream",
       "stream": "stdout",
       "text": [
        " pairFeatures time 0.584971904755\n",
        "973"
       ]
      },
      {
       "output_type": "stream",
       "stream": "stdout",
       "text": [
        " pairFeatures time 0.581353187561\n",
        "974"
       ]
      },
      {
       "output_type": "stream",
       "stream": "stdout",
       "text": [
        " pairFeatures time 0.579524040222\n",
        "975"
       ]
      },
      {
       "output_type": "stream",
       "stream": "stdout",
       "text": [
        " pairFeatures time 0.578011989594\n",
        "976"
       ]
      },
      {
       "output_type": "stream",
       "stream": "stdout",
       "text": [
        " pairFeatures time 0.577745199203\n",
        "977"
       ]
      },
      {
       "output_type": "stream",
       "stream": "stdout",
       "text": [
        " pairFeatures time 0.574856042862\n",
        "978"
       ]
      },
      {
       "output_type": "stream",
       "stream": "stdout",
       "text": [
        " pairFeatures time 0.577852964401\n",
        "979"
       ]
      },
      {
       "output_type": "stream",
       "stream": "stdout",
       "text": [
        " pairFeatures time 0.576251983643\n",
        "980"
       ]
      },
      {
       "output_type": "stream",
       "stream": "stdout",
       "text": [
        " pairFeatures time 0.571155071259\n",
        "981"
       ]
      },
      {
       "output_type": "stream",
       "stream": "stdout",
       "text": [
        " pairFeatures time 0.566944122314\n",
        "982"
       ]
      },
      {
       "output_type": "stream",
       "stream": "stdout",
       "text": [
        " pairFeatures time 0.565654993057\n",
        "983"
       ]
      },
      {
       "output_type": "stream",
       "stream": "stdout",
       "text": [
        " pairFeatures time 0.565929889679\n",
        "984"
       ]
      },
      {
       "output_type": "stream",
       "stream": "stdout",
       "text": [
        " pairFeatures time 0.571022987366\n",
        "985"
       ]
      },
      {
       "output_type": "stream",
       "stream": "stdout",
       "text": [
        " pairFeatures time 0.558241128922\n",
        "986"
       ]
      },
      {
       "output_type": "stream",
       "stream": "stdout",
       "text": [
        " pairFeatures time 0.560146093369\n",
        "987"
       ]
      },
      {
       "output_type": "stream",
       "stream": "stdout",
       "text": [
        " pairFeatures time 0.560553073883\n",
        "988"
       ]
      },
      {
       "output_type": "stream",
       "stream": "stdout",
       "text": [
        " pairFeatures time 0.553829908371\n",
        "989"
       ]
      },
      {
       "output_type": "stream",
       "stream": "stdout",
       "text": [
        " pairFeatures time 0.55351805687\n",
        "990"
       ]
      },
      {
       "output_type": "stream",
       "stream": "stdout",
       "text": [
        " pairFeatures time 0.547955036163\n",
        "991"
       ]
      },
      {
       "output_type": "stream",
       "stream": "stdout",
       "text": [
        " pairFeatures time 0.552055835724\n",
        "992"
       ]
      },
      {
       "output_type": "stream",
       "stream": "stdout",
       "text": [
        " pairFeatures time 0.544479846954\n",
        "993"
       ]
      },
      {
       "output_type": "stream",
       "stream": "stdout",
       "text": [
        " pairFeatures time 0.54295706749\n",
        "994"
       ]
      },
      {
       "output_type": "stream",
       "stream": "stdout",
       "text": [
        " pairFeatures time 0.539162874222\n",
        "995"
       ]
      },
      {
       "output_type": "stream",
       "stream": "stdout",
       "text": [
        " pairFeatures time 0.541956186295\n",
        "996"
       ]
      },
      {
       "output_type": "stream",
       "stream": "stdout",
       "text": [
        " pairFeatures time 0.544018983841\n",
        "997"
       ]
      },
      {
       "output_type": "stream",
       "stream": "stdout",
       "text": [
        " pairFeatures time 0.537880897522\n",
        "998"
       ]
      },
      {
       "output_type": "stream",
       "stream": "stdout",
       "text": [
        " pairFeatures time 0.533632993698\n",
        "999"
       ]
      },
      {
       "output_type": "stream",
       "stream": "stdout",
       "text": [
        " pairFeatures time 0.532407045364\n",
        "1000"
       ]
      },
      {
       "output_type": "stream",
       "stream": "stdout",
       "text": [
        " pairFeatures time 0.529922962189\n",
        "1001"
       ]
      },
      {
       "output_type": "stream",
       "stream": "stdout",
       "text": [
        " pairFeatures time 0.533322095871\n",
        "1002"
       ]
      },
      {
       "output_type": "stream",
       "stream": "stdout",
       "text": [
        " pairFeatures time 0.529211044312\n",
        "1003"
       ]
      },
      {
       "output_type": "stream",
       "stream": "stdout",
       "text": [
        " pairFeatures time 0.522791147232\n",
        "1004"
       ]
      },
      {
       "output_type": "stream",
       "stream": "stdout",
       "text": [
        " pairFeatures time 0.523613929749\n",
        "1005"
       ]
      },
      {
       "output_type": "stream",
       "stream": "stdout",
       "text": [
        " pairFeatures time 0.521726846695\n",
        "1006"
       ]
      },
      {
       "output_type": "stream",
       "stream": "stdout",
       "text": [
        " pairFeatures time 0.521090984344\n",
        "1007"
       ]
      },
      {
       "output_type": "stream",
       "stream": "stdout",
       "text": [
        " pairFeatures time 0.517467975616\n",
        "1008"
       ]
      },
      {
       "output_type": "stream",
       "stream": "stdout",
       "text": [
        " pairFeatures time 0.519675016403\n",
        "1009"
       ]
      },
      {
       "output_type": "stream",
       "stream": "stdout",
       "text": [
        " pairFeatures time 0.513543128967\n",
        "1010"
       ]
      },
      {
       "output_type": "stream",
       "stream": "stdout",
       "text": [
        " pairFeatures time 0.510601043701\n",
        "1011"
       ]
      },
      {
       "output_type": "stream",
       "stream": "stdout",
       "text": [
        " pairFeatures time 0.511386156082\n",
        "1012"
       ]
      },
      {
       "output_type": "stream",
       "stream": "stdout",
       "text": [
        " pairFeatures time 0.508569955826\n",
        "1013"
       ]
      },
      {
       "output_type": "stream",
       "stream": "stdout",
       "text": [
        " pairFeatures time 0.505437850952\n",
        "1014"
       ]
      },
      {
       "output_type": "stream",
       "stream": "stdout",
       "text": [
        " pairFeatures time 0.502169132233\n",
        "1015"
       ]
      },
      {
       "output_type": "stream",
       "stream": "stdout",
       "text": [
        " pairFeatures time 0.500603914261\n",
        "1016"
       ]
      },
      {
       "output_type": "stream",
       "stream": "stdout",
       "text": [
        " pairFeatures time 0.503109931946\n",
        "1017"
       ]
      },
      {
       "output_type": "stream",
       "stream": "stdout",
       "text": [
        " pairFeatures time 0.50713300705\n",
        "1018"
       ]
      },
      {
       "output_type": "stream",
       "stream": "stdout",
       "text": [
        " pairFeatures time 0.505156993866\n",
        "1019"
       ]
      },
      {
       "output_type": "stream",
       "stream": "stdout",
       "text": [
        " pairFeatures time 0.496980905533\n",
        "1020"
       ]
      },
      {
       "output_type": "stream",
       "stream": "stdout",
       "text": [
        " pairFeatures time 0.497812986374\n",
        "1021"
       ]
      },
      {
       "output_type": "stream",
       "stream": "stdout",
       "text": [
        " pairFeatures time 0.492779016495\n",
        "1022"
       ]
      },
      {
       "output_type": "stream",
       "stream": "stdout",
       "text": [
        " pairFeatures time 0.492002010345\n",
        "1023"
       ]
      },
      {
       "output_type": "stream",
       "stream": "stdout",
       "text": [
        " pairFeatures time 0.48943400383\n",
        "1024"
       ]
      },
      {
       "output_type": "stream",
       "stream": "stdout",
       "text": [
        " pairFeatures time 0.480412960052\n",
        "1025"
       ]
      },
      {
       "output_type": "stream",
       "stream": "stdout",
       "text": [
        " pairFeatures time 0.483285188675\n",
        "1026"
       ]
      },
      {
       "output_type": "stream",
       "stream": "stdout",
       "text": [
        " pairFeatures time 0.482018947601\n",
        "1027"
       ]
      },
      {
       "output_type": "stream",
       "stream": "stdout",
       "text": [
        " pairFeatures time 0.479500055313\n",
        "1028"
       ]
      },
      {
       "output_type": "stream",
       "stream": "stdout",
       "text": [
        " pairFeatures time 0.473972797394\n",
        "1029"
       ]
      },
      {
       "output_type": "stream",
       "stream": "stdout",
       "text": [
        " pairFeatures time 0.483003854752\n",
        "1030"
       ]
      },
      {
       "output_type": "stream",
       "stream": "stdout",
       "text": [
        " pairFeatures time 0.476892948151\n",
        "1031"
       ]
      },
      {
       "output_type": "stream",
       "stream": "stdout",
       "text": [
        " pairFeatures time 0.47193813324\n",
        "1032"
       ]
      },
      {
       "output_type": "stream",
       "stream": "stdout",
       "text": [
        " pairFeatures time 0.468991041183\n",
        "1033"
       ]
      },
      {
       "output_type": "stream",
       "stream": "stdout",
       "text": [
        " pairFeatures time 0.475791931152\n",
        "1034"
       ]
      },
      {
       "output_type": "stream",
       "stream": "stdout",
       "text": [
        " pairFeatures time 0.477356910706\n",
        "1035"
       ]
      },
      {
       "output_type": "stream",
       "stream": "stdout",
       "text": [
        " pairFeatures time 0.46370100975\n",
        "1036"
       ]
      },
      {
       "output_type": "stream",
       "stream": "stdout",
       "text": [
        " pairFeatures time 0.46476984024\n",
        "1037"
       ]
      },
      {
       "output_type": "stream",
       "stream": "stdout",
       "text": [
        " pairFeatures time 0.470044851303\n",
        "1038"
       ]
      },
      {
       "output_type": "stream",
       "stream": "stdout",
       "text": [
        " pairFeatures time 0.462116003036\n",
        "1039"
       ]
      },
      {
       "output_type": "stream",
       "stream": "stdout",
       "text": [
        " pairFeatures time 0.459100961685\n",
        "1040"
       ]
      },
      {
       "output_type": "stream",
       "stream": "stdout",
       "text": [
        " pairFeatures time 0.451205015182\n",
        "1041"
       ]
      },
      {
       "output_type": "stream",
       "stream": "stdout",
       "text": [
        " pairFeatures time 0.453702926636\n",
        "1042"
       ]
      },
      {
       "output_type": "stream",
       "stream": "stdout",
       "text": [
        " pairFeatures time 0.451658010483\n",
        "1043"
       ]
      },
      {
       "output_type": "stream",
       "stream": "stdout",
       "text": [
        " pairFeatures time 0.448804855347\n",
        "1044"
       ]
      },
      {
       "output_type": "stream",
       "stream": "stdout",
       "text": [
        " pairFeatures time 0.447691917419\n",
        "1045"
       ]
      },
      {
       "output_type": "stream",
       "stream": "stdout",
       "text": [
        " pairFeatures time 0.444169998169\n",
        "1046"
       ]
      },
      {
       "output_type": "stream",
       "stream": "stdout",
       "text": [
        " pairFeatures time 0.442004203796\n",
        "1047"
       ]
      },
      {
       "output_type": "stream",
       "stream": "stdout",
       "text": [
        " pairFeatures time 0.445784091949\n",
        "1048"
       ]
      },
      {
       "output_type": "stream",
       "stream": "stdout",
       "text": [
        " pairFeatures time 0.437528133392\n",
        "1049"
       ]
      },
      {
       "output_type": "stream",
       "stream": "stdout",
       "text": [
        " pairFeatures time 0.433063983917\n",
        "1050"
       ]
      },
      {
       "output_type": "stream",
       "stream": "stdout",
       "text": [
        " pairFeatures time 0.436053037643\n",
        "1051"
       ]
      },
      {
       "output_type": "stream",
       "stream": "stdout",
       "text": [
        " pairFeatures time 0.434720993042\n",
        "1052"
       ]
      },
      {
       "output_type": "stream",
       "stream": "stdout",
       "text": [
        " pairFeatures time 0.431968927383\n",
        "1053"
       ]
      },
      {
       "output_type": "stream",
       "stream": "stdout",
       "text": [
        " pairFeatures time 0.430169820786\n",
        "1054"
       ]
      },
      {
       "output_type": "stream",
       "stream": "stdout",
       "text": [
        " pairFeatures time 0.431607961655\n",
        "1055"
       ]
      },
      {
       "output_type": "stream",
       "stream": "stdout",
       "text": [
        " pairFeatures time 0.427184104919\n",
        "1056"
       ]
      },
      {
       "output_type": "stream",
       "stream": "stdout",
       "text": [
        " pairFeatures time 0.423465013504\n",
        "1057"
       ]
      },
      {
       "output_type": "stream",
       "stream": "stdout",
       "text": [
        " pairFeatures time 0.421245098114\n",
        "1058"
       ]
      },
      {
       "output_type": "stream",
       "stream": "stdout",
       "text": [
        " pairFeatures time 0.424802064896\n",
        "1059"
       ]
      },
      {
       "output_type": "stream",
       "stream": "stdout",
       "text": [
        " pairFeatures time 0.419275045395\n",
        "1060"
       ]
      },
      {
       "output_type": "stream",
       "stream": "stdout",
       "text": [
        " pairFeatures time 0.417847156525\n",
        "1061"
       ]
      },
      {
       "output_type": "stream",
       "stream": "stdout",
       "text": [
        " pairFeatures time 0.415434122086\n",
        "1062"
       ]
      },
      {
       "output_type": "stream",
       "stream": "stdout",
       "text": [
        " pairFeatures time 0.416532993317\n",
        "1063"
       ]
      },
      {
       "output_type": "stream",
       "stream": "stdout",
       "text": [
        " pairFeatures time 0.410616159439\n",
        "1064"
       ]
      },
      {
       "output_type": "stream",
       "stream": "stdout",
       "text": [
        " pairFeatures time 0.41752409935\n",
        "1065"
       ]
      },
      {
       "output_type": "stream",
       "stream": "stdout",
       "text": [
        " pairFeatures time 0.406801939011\n",
        "1066"
       ]
      },
      {
       "output_type": "stream",
       "stream": "stdout",
       "text": [
        " pairFeatures time 0.405903816223\n",
        "1067"
       ]
      },
      {
       "output_type": "stream",
       "stream": "stdout",
       "text": [
        " pairFeatures time 0.411868095398\n",
        "1068"
       ]
      },
      {
       "output_type": "stream",
       "stream": "stdout",
       "text": [
        " pairFeatures time 0.402422904968\n",
        "1069"
       ]
      },
      {
       "output_type": "stream",
       "stream": "stdout",
       "text": [
        " pairFeatures time 0.402557849884\n",
        "1070"
       ]
      },
      {
       "output_type": "stream",
       "stream": "stdout",
       "text": [
        " pairFeatures time 0.395504951477\n",
        "1071"
       ]
      },
      {
       "output_type": "stream",
       "stream": "stdout",
       "text": [
        " pairFeatures time 0.39733505249\n",
        "1072"
       ]
      },
      {
       "output_type": "stream",
       "stream": "stdout",
       "text": [
        " pairFeatures time 0.394551038742\n",
        "1073"
       ]
      },
      {
       "output_type": "stream",
       "stream": "stdout",
       "text": [
        " pairFeatures time 0.39728808403\n",
        "1074"
       ]
      },
      {
       "output_type": "stream",
       "stream": "stdout",
       "text": [
        " pairFeatures time 0.392299890518\n",
        "1075"
       ]
      },
      {
       "output_type": "stream",
       "stream": "stdout",
       "text": [
        " pairFeatures time 0.38311290741\n",
        "1076"
       ]
      },
      {
       "output_type": "stream",
       "stream": "stdout",
       "text": [
        " pairFeatures time 0.382611989975\n",
        "1077"
       ]
      },
      {
       "output_type": "stream",
       "stream": "stdout",
       "text": [
        " pairFeatures time 0.383252859116\n",
        "1078"
       ]
      },
      {
       "output_type": "stream",
       "stream": "stdout",
       "text": [
        " pairFeatures time 0.381986856461\n",
        "1079"
       ]
      },
      {
       "output_type": "stream",
       "stream": "stdout",
       "text": [
        " pairFeatures time 0.387455224991\n",
        "1080"
       ]
      },
      {
       "output_type": "stream",
       "stream": "stdout",
       "text": [
        " pairFeatures time 0.381978034973\n",
        "1081"
       ]
      },
      {
       "output_type": "stream",
       "stream": "stdout",
       "text": [
        " pairFeatures time 0.382375001907\n",
        "1082"
       ]
      },
      {
       "output_type": "stream",
       "stream": "stdout",
       "text": [
        " pairFeatures time 0.376187086105\n",
        "1083"
       ]
      },
      {
       "output_type": "stream",
       "stream": "stdout",
       "text": [
        " pairFeatures time 0.376770973206\n",
        "1084"
       ]
      },
      {
       "output_type": "stream",
       "stream": "stdout",
       "text": [
        " pairFeatures time 0.370836019516\n",
        "1085"
       ]
      },
      {
       "output_type": "stream",
       "stream": "stdout",
       "text": [
        " pairFeatures time 0.372545957565\n",
        "1086"
       ]
      },
      {
       "output_type": "stream",
       "stream": "stdout",
       "text": [
        " pairFeatures time 0.371169090271\n",
        "1087"
       ]
      },
      {
       "output_type": "stream",
       "stream": "stdout",
       "text": [
        " pairFeatures time 0.365006923676\n",
        "1088"
       ]
      },
      {
       "output_type": "stream",
       "stream": "stdout",
       "text": [
        " pairFeatures time 0.366295099258\n",
        "1089"
       ]
      },
      {
       "output_type": "stream",
       "stream": "stdout",
       "text": [
        " pairFeatures time 0.360239982605\n",
        "1090"
       ]
      },
      {
       "output_type": "stream",
       "stream": "stdout",
       "text": [
        " pairFeatures time 0.360089063644\n",
        "1091"
       ]
      },
      {
       "output_type": "stream",
       "stream": "stdout",
       "text": [
        " pairFeatures time 0.362626075745\n",
        "1092"
       ]
      },
      {
       "output_type": "stream",
       "stream": "stdout",
       "text": [
        " pairFeatures time 0.355376005173\n",
        "1093"
       ]
      },
      {
       "output_type": "stream",
       "stream": "stdout",
       "text": [
        " pairFeatures time 0.351274013519\n",
        "1094"
       ]
      },
      {
       "output_type": "stream",
       "stream": "stdout",
       "text": [
        " pairFeatures time 0.351917028427\n",
        "1095"
       ]
      },
      {
       "output_type": "stream",
       "stream": "stdout",
       "text": [
        " pairFeatures time 0.355507135391\n",
        "1096"
       ]
      },
      {
       "output_type": "stream",
       "stream": "stdout",
       "text": [
        " pairFeatures time 0.35501909256\n",
        "1097"
       ]
      },
      {
       "output_type": "stream",
       "stream": "stdout",
       "text": [
        " pairFeatures time 0.351094007492\n",
        "1098"
       ]
      },
      {
       "output_type": "stream",
       "stream": "stdout",
       "text": [
        " pairFeatures time 0.343951225281\n",
        "1099"
       ]
      },
      {
       "output_type": "stream",
       "stream": "stdout",
       "text": [
        " pairFeatures time 0.34042596817\n",
        "1100"
       ]
      },
      {
       "output_type": "stream",
       "stream": "stdout",
       "text": [
        " pairFeatures time 0.336399078369\n",
        "1101"
       ]
      },
      {
       "output_type": "stream",
       "stream": "stdout",
       "text": [
        " pairFeatures time 0.337011098862\n",
        "1102"
       ]
      },
      {
       "output_type": "stream",
       "stream": "stdout",
       "text": [
        " pairFeatures time 0.339019060135\n",
        "1103"
       ]
      },
      {
       "output_type": "stream",
       "stream": "stdout",
       "text": [
        " pairFeatures time 0.34223985672\n",
        "1104"
       ]
      },
      {
       "output_type": "stream",
       "stream": "stdout",
       "text": [
        " pairFeatures time 0.338983774185\n",
        "1105"
       ]
      },
      {
       "output_type": "stream",
       "stream": "stdout",
       "text": [
        " pairFeatures time 0.339812040329\n",
        "1106"
       ]
      },
      {
       "output_type": "stream",
       "stream": "stdout",
       "text": [
        " pairFeatures time 0.336858034134\n",
        "1107"
       ]
      },
      {
       "output_type": "stream",
       "stream": "stdout",
       "text": [
        " pairFeatures time 0.331688165665\n",
        "1108"
       ]
      },
      {
       "output_type": "stream",
       "stream": "stdout",
       "text": [
        " pairFeatures time 0.329956054688\n",
        "1109"
       ]
      },
      {
       "output_type": "stream",
       "stream": "stdout",
       "text": [
        " pairFeatures time 0.330273151398\n",
        "1110"
       ]
      },
      {
       "output_type": "stream",
       "stream": "stdout",
       "text": [
        " pairFeatures time 0.327109098434\n",
        "1111"
       ]
      },
      {
       "output_type": "stream",
       "stream": "stdout",
       "text": [
        " pairFeatures time 0.321022987366\n",
        "1112"
       ]
      },
      {
       "output_type": "stream",
       "stream": "stdout",
       "text": [
        " pairFeatures time 0.322206020355\n",
        "1113"
       ]
      },
      {
       "output_type": "stream",
       "stream": "stdout",
       "text": [
        " pairFeatures time 0.316452980042\n",
        "1114"
       ]
      },
      {
       "output_type": "stream",
       "stream": "stdout",
       "text": [
        " pairFeatures time 0.316217184067\n",
        "1115"
       ]
      },
      {
       "output_type": "stream",
       "stream": "stdout",
       "text": [
        " pairFeatures time 0.310255050659\n",
        "1116"
       ]
      },
      {
       "output_type": "stream",
       "stream": "stdout",
       "text": [
        " pairFeatures time 0.307764053345\n",
        "1117"
       ]
      },
      {
       "output_type": "stream",
       "stream": "stdout",
       "text": [
        " pairFeatures time 0.308320999146\n",
        "1118"
       ]
      },
      {
       "output_type": "stream",
       "stream": "stdout",
       "text": [
        " pairFeatures time 0.307542085648\n",
        "1119"
       ]
      },
      {
       "output_type": "stream",
       "stream": "stdout",
       "text": [
        " pairFeatures time 0.305104970932\n",
        "1120"
       ]
      },
      {
       "output_type": "stream",
       "stream": "stdout",
       "text": [
        " pairFeatures time 0.303579807281\n",
        "1121"
       ]
      },
      {
       "output_type": "stream",
       "stream": "stdout",
       "text": [
        " pairFeatures time 0.305063009262\n",
        "1122"
       ]
      },
      {
       "output_type": "stream",
       "stream": "stdout",
       "text": [
        " pairFeatures time 0.303042888641\n",
        "1123"
       ]
      },
      {
       "output_type": "stream",
       "stream": "stdout",
       "text": [
        " pairFeatures time 0.303982973099\n",
        "1124"
       ]
      },
      {
       "output_type": "stream",
       "stream": "stdout",
       "text": [
        " pairFeatures time 0.300817012787\n",
        "1125"
       ]
      },
      {
       "output_type": "stream",
       "stream": "stdout",
       "text": [
        " pairFeatures time 0.295531988144\n",
        "1126"
       ]
      },
      {
       "output_type": "stream",
       "stream": "stdout",
       "text": [
        " pairFeatures time 0.294607877731\n",
        "1127"
       ]
      },
      {
       "output_type": "stream",
       "stream": "stdout",
       "text": [
        " pairFeatures time 0.293362140656\n",
        "1128"
       ]
      },
      {
       "output_type": "stream",
       "stream": "stdout",
       "text": [
        " pairFeatures time 0.287873029709\n",
        "1129"
       ]
      },
      {
       "output_type": "stream",
       "stream": "stdout",
       "text": [
        " pairFeatures time 0.284071922302\n",
        "1130"
       ]
      },
      {
       "output_type": "stream",
       "stream": "stdout",
       "text": [
        " pairFeatures time 0.286144971848\n",
        "1131"
       ]
      },
      {
       "output_type": "stream",
       "stream": "stdout",
       "text": [
        " pairFeatures time 0.279962062836\n",
        "1132"
       ]
      },
      {
       "output_type": "stream",
       "stream": "stdout",
       "text": [
        " pairFeatures time 0.281382083893\n",
        "1133"
       ]
      },
      {
       "output_type": "stream",
       "stream": "stdout",
       "text": [
        " pairFeatures time 0.27606511116\n",
        "1134"
       ]
      },
      {
       "output_type": "stream",
       "stream": "stdout",
       "text": [
        " pairFeatures time 0.275793075562\n",
        "1135"
       ]
      },
      {
       "output_type": "stream",
       "stream": "stdout",
       "text": [
        " pairFeatures time 0.274443864822\n",
        "1136"
       ]
      },
      {
       "output_type": "stream",
       "stream": "stdout",
       "text": [
        " pairFeatures time 0.27183508873\n",
        "1137"
       ]
      },
      {
       "output_type": "stream",
       "stream": "stdout",
       "text": [
        " pairFeatures time 0.270619153976\n",
        "1138"
       ]
      },
      {
       "output_type": "stream",
       "stream": "stdout",
       "text": [
        " pairFeatures time 0.269692897797\n",
        "1139"
       ]
      },
      {
       "output_type": "stream",
       "stream": "stdout",
       "text": [
        " pairFeatures time 0.268107891083\n",
        "1140"
       ]
      },
      {
       "output_type": "stream",
       "stream": "stdout",
       "text": [
        " pairFeatures time 0.269822120667\n",
        "1141"
       ]
      },
      {
       "output_type": "stream",
       "stream": "stdout",
       "text": [
        " pairFeatures time 0.261837005615\n",
        "1142"
       ]
      },
      {
       "output_type": "stream",
       "stream": "stdout",
       "text": [
        " pairFeatures time 0.260524988174\n",
        "1143"
       ]
      },
      {
       "output_type": "stream",
       "stream": "stdout",
       "text": [
        " pairFeatures time 0.260025024414\n",
        "1144"
       ]
      },
      {
       "output_type": "stream",
       "stream": "stdout",
       "text": [
        " pairFeatures time 0.257184028625\n",
        "1145"
       ]
      },
      {
       "output_type": "stream",
       "stream": "stdout",
       "text": [
        " pairFeatures time 0.25550198555\n",
        "1146"
       ]
      },
      {
       "output_type": "stream",
       "stream": "stdout",
       "text": [
        " pairFeatures time 0.254940032959\n",
        "1147"
       ]
      },
      {
       "output_type": "stream",
       "stream": "stdout",
       "text": [
        " pairFeatures time 0.252936124802\n",
        "1148"
       ]
      },
      {
       "output_type": "stream",
       "stream": "stdout",
       "text": [
        " pairFeatures time 0.251556158066\n",
        "1149"
       ]
      },
      {
       "output_type": "stream",
       "stream": "stdout",
       "text": [
        " pairFeatures time 0.249678850174\n",
        "1150"
       ]
      },
      {
       "output_type": "stream",
       "stream": "stdout",
       "text": [
        " pairFeatures time 0.246109962463\n",
        "1151"
       ]
      },
      {
       "output_type": "stream",
       "stream": "stdout",
       "text": [
        " pairFeatures time 0.247949123383\n",
        "1152"
       ]
      },
      {
       "output_type": "stream",
       "stream": "stdout",
       "text": [
        " pairFeatures time 0.241076946259\n",
        "1153"
       ]
      },
      {
       "output_type": "stream",
       "stream": "stdout",
       "text": [
        " pairFeatures time 0.244187831879\n",
        "1154"
       ]
      },
      {
       "output_type": "stream",
       "stream": "stdout",
       "text": [
        " pairFeatures time 0.23835682869\n",
        "1155"
       ]
      },
      {
       "output_type": "stream",
       "stream": "stdout",
       "text": [
        " pairFeatures time 0.236852884293\n",
        "1156"
       ]
      },
      {
       "output_type": "stream",
       "stream": "stdout",
       "text": [
        " pairFeatures time 0.233917951584\n",
        "1157"
       ]
      },
      {
       "output_type": "stream",
       "stream": "stdout",
       "text": [
        " pairFeatures time 0.233824014664\n",
        "1158"
       ]
      },
      {
       "output_type": "stream",
       "stream": "stdout",
       "text": [
        " pairFeatures time 0.234560012817\n",
        "1159"
       ]
      },
      {
       "output_type": "stream",
       "stream": "stdout",
       "text": [
        " pairFeatures time 0.228352069855\n",
        "1160"
       ]
      },
      {
       "output_type": "stream",
       "stream": "stdout",
       "text": [
        " pairFeatures time 0.226938962936\n",
        "1161"
       ]
      },
      {
       "output_type": "stream",
       "stream": "stdout",
       "text": [
        " pairFeatures time 0.225874900818\n",
        "1162"
       ]
      },
      {
       "output_type": "stream",
       "stream": "stdout",
       "text": [
        " pairFeatures time 0.224277973175\n",
        "1163"
       ]
      },
      {
       "output_type": "stream",
       "stream": "stdout",
       "text": [
        " pairFeatures time 0.222270965576\n",
        "1164"
       ]
      },
      {
       "output_type": "stream",
       "stream": "stdout",
       "text": [
        " pairFeatures time 0.220515012741\n",
        "1165"
       ]
      },
      {
       "output_type": "stream",
       "stream": "stdout",
       "text": [
        " pairFeatures time 0.217262983322\n",
        "1166"
       ]
      },
      {
       "output_type": "stream",
       "stream": "stdout",
       "text": [
        " pairFeatures time 0.216077804565\n",
        "1167"
       ]
      },
      {
       "output_type": "stream",
       "stream": "stdout",
       "text": [
        " pairFeatures time 0.214596986771\n",
        "1168"
       ]
      },
      {
       "output_type": "stream",
       "stream": "stdout",
       "text": [
        " pairFeatures time 0.212069034576\n",
        "1169"
       ]
      },
      {
       "output_type": "stream",
       "stream": "stdout",
       "text": [
        " pairFeatures time 0.213170051575\n",
        "1170"
       ]
      },
      {
       "output_type": "stream",
       "stream": "stdout",
       "text": [
        " pairFeatures time 0.2105281353\n",
        "1171"
       ]
      },
      {
       "output_type": "stream",
       "stream": "stdout",
       "text": [
        " pairFeatures time 0.211641073227\n",
        "1172"
       ]
      },
      {
       "output_type": "stream",
       "stream": "stdout",
       "text": [
        " pairFeatures time 0.206515073776\n",
        "1173"
       ]
      },
      {
       "output_type": "stream",
       "stream": "stdout",
       "text": [
        " pairFeatures time 0.207449913025\n",
        "1174"
       ]
      },
      {
       "output_type": "stream",
       "stream": "stdout",
       "text": [
        " pairFeatures time 0.200924873352\n",
        "1175"
       ]
      },
      {
       "output_type": "stream",
       "stream": "stdout",
       "text": [
        " pairFeatures time 0.197692155838\n",
        "1176"
       ]
      },
      {
       "output_type": "stream",
       "stream": "stdout",
       "text": [
        " pairFeatures time 0.197510004044\n",
        "1177"
       ]
      },
      {
       "output_type": "stream",
       "stream": "stdout",
       "text": [
        " pairFeatures time 0.194844961166\n",
        "1178"
       ]
      },
      {
       "output_type": "stream",
       "stream": "stdout",
       "text": [
        " pairFeatures time 0.193924188614\n",
        "1179"
       ]
      },
      {
       "output_type": "stream",
       "stream": "stdout",
       "text": [
        " pairFeatures time 0.193248033524\n",
        "1180"
       ]
      },
      {
       "output_type": "stream",
       "stream": "stdout",
       "text": [
        " pairFeatures time 0.189054012299\n",
        "1181"
       ]
      },
      {
       "output_type": "stream",
       "stream": "stdout",
       "text": [
        " pairFeatures time 0.188278913498\n",
        "1182"
       ]
      },
      {
       "output_type": "stream",
       "stream": "stdout",
       "text": [
        " pairFeatures time 0.184621095657\n",
        "1183"
       ]
      },
      {
       "output_type": "stream",
       "stream": "stdout",
       "text": [
        " pairFeatures time 0.183163881302\n",
        "1184"
       ]
      },
      {
       "output_type": "stream",
       "stream": "stdout",
       "text": [
        " pairFeatures time 0.183706998825\n",
        "1185"
       ]
      },
      {
       "output_type": "stream",
       "stream": "stdout",
       "text": [
        " pairFeatures time 0.180222034454\n",
        "1186"
       ]
      },
      {
       "output_type": "stream",
       "stream": "stdout",
       "text": [
        " pairFeatures time 0.182186126709\n",
        "1187"
       ]
      },
      {
       "output_type": "stream",
       "stream": "stdout",
       "text": [
        " pairFeatures time 0.179590940475\n",
        "1188"
       ]
      },
      {
       "output_type": "stream",
       "stream": "stdout",
       "text": [
        " pairFeatures time 0.176159858704\n",
        "1189"
       ]
      },
      {
       "output_type": "stream",
       "stream": "stdout",
       "text": [
        " pairFeatures time 0.172605037689\n",
        "1190"
       ]
      },
      {
       "output_type": "stream",
       "stream": "stdout",
       "text": [
        " pairFeatures time 0.170796871185\n",
        "1191"
       ]
      },
      {
       "output_type": "stream",
       "stream": "stdout",
       "text": [
        " pairFeatures time 0.169517993927\n",
        "1192"
       ]
      },
      {
       "output_type": "stream",
       "stream": "stdout",
       "text": [
        " pairFeatures time 0.166922092438\n",
        "1193"
       ]
      },
      {
       "output_type": "stream",
       "stream": "stdout",
       "text": [
        " pairFeatures time 0.164937973022\n",
        "1194"
       ]
      },
      {
       "output_type": "stream",
       "stream": "stdout",
       "text": [
        " pairFeatures time 0.163060903549\n",
        "1195"
       ]
      },
      {
       "output_type": "stream",
       "stream": "stdout",
       "text": [
        " pairFeatures time 0.161583900452\n",
        "1196"
       ]
      },
      {
       "output_type": "stream",
       "stream": "stdout",
       "text": [
        " pairFeatures time 0.159749984741\n",
        "1197"
       ]
      },
      {
       "output_type": "stream",
       "stream": "stdout",
       "text": [
        " pairFeatures time 0.157940864563\n",
        "1198"
       ]
      },
      {
       "output_type": "stream",
       "stream": "stdout",
       "text": [
        " pairFeatures time 0.156893968582\n",
        "1199"
       ]
      },
      {
       "output_type": "stream",
       "stream": "stdout",
       "text": [
        " pairFeatures time 0.154831171036\n",
        "1200"
       ]
      },
      {
       "output_type": "stream",
       "stream": "stdout",
       "text": [
        " pairFeatures time 0.154520988464\n",
        "1201"
       ]
      },
      {
       "output_type": "stream",
       "stream": "stdout",
       "text": [
        " pairFeatures time 0.169171094894\n",
        "1202"
       ]
      },
      {
       "output_type": "stream",
       "stream": "stdout",
       "text": [
        " pairFeatures time 0.15202498436\n",
        "1203"
       ]
      },
      {
       "output_type": "stream",
       "stream": "stdout",
       "text": [
        " pairFeatures time 0.149307012558\n",
        "1204"
       ]
      },
      {
       "output_type": "stream",
       "stream": "stdout",
       "text": [
        " pairFeatures time 0.14624786377\n",
        "1205"
       ]
      },
      {
       "output_type": "stream",
       "stream": "stdout",
       "text": [
        " pairFeatures time 0.141300916672\n",
        "1206"
       ]
      },
      {
       "output_type": "stream",
       "stream": "stdout",
       "text": [
        " pairFeatures time 0.14054608345\n",
        "1207"
       ]
      },
      {
       "output_type": "stream",
       "stream": "stdout",
       "text": [
        " pairFeatures time 0.139081001282\n",
        "1208"
       ]
      },
      {
       "output_type": "stream",
       "stream": "stdout",
       "text": [
        " pairFeatures time 0.152950048447\n",
        "1209"
       ]
      },
      {
       "output_type": "stream",
       "stream": "stdout",
       "text": [
        " pairFeatures time 0.134557008743\n",
        "1210"
       ]
      },
      {
       "output_type": "stream",
       "stream": "stdout",
       "text": [
        " pairFeatures time 0.133974790573\n",
        "1211"
       ]
      },
      {
       "output_type": "stream",
       "stream": "stdout",
       "text": [
        " pairFeatures time 0.131603002548\n",
        "1212"
       ]
      },
      {
       "output_type": "stream",
       "stream": "stdout",
       "text": [
        " pairFeatures time 0.129292964935\n",
        "1213"
       ]
      },
      {
       "output_type": "stream",
       "stream": "stdout",
       "text": [
        " pairFeatures time 0.127207994461\n",
        "1214"
       ]
      },
      {
       "output_type": "stream",
       "stream": "stdout",
       "text": [
        " pairFeatures time 0.13419508934\n",
        "1215"
       ]
      },
      {
       "output_type": "stream",
       "stream": "stdout",
       "text": [
        " pairFeatures time 0.12433385849\n",
        "1216"
       ]
      },
      {
       "output_type": "stream",
       "stream": "stdout",
       "text": [
        " pairFeatures time 0.120585203171\n",
        "1217"
       ]
      },
      {
       "output_type": "stream",
       "stream": "stdout",
       "text": [
        " pairFeatures time 0.119551897049\n",
        "1218"
       ]
      },
      {
       "output_type": "stream",
       "stream": "stdout",
       "text": [
        " pairFeatures time 0.117936849594\n",
        "1219"
       ]
      },
      {
       "output_type": "stream",
       "stream": "stdout",
       "text": [
        " pairFeatures time 0.117157936096\n",
        "1220"
       ]
      },
      {
       "output_type": "stream",
       "stream": "stdout",
       "text": [
        " pairFeatures time 0.115556001663\n",
        "1221"
       ]
      },
      {
       "output_type": "stream",
       "stream": "stdout",
       "text": [
        " pairFeatures time 0.113542079926\n",
        "1222"
       ]
      },
      {
       "output_type": "stream",
       "stream": "stdout",
       "text": [
        " pairFeatures time 0.112403154373\n",
        "1223"
       ]
      },
      {
       "output_type": "stream",
       "stream": "stdout",
       "text": [
        " pairFeatures time 0.111692905426\n",
        "1224"
       ]
      },
      {
       "output_type": "stream",
       "stream": "stdout",
       "text": [
        " pairFeatures time 0.108893871307\n",
        "1225"
       ]
      },
      {
       "output_type": "stream",
       "stream": "stdout",
       "text": [
        " pairFeatures time 0.104630947113\n",
        "1226"
       ]
      },
      {
       "output_type": "stream",
       "stream": "stdout",
       "text": [
        " pairFeatures time 0.102732181549\n",
        "1227"
       ]
      },
      {
       "output_type": "stream",
       "stream": "stdout",
       "text": [
        " pairFeatures time 0.101198911667\n",
        "1228"
       ]
      },
      {
       "output_type": "stream",
       "stream": "stdout",
       "text": [
        " pairFeatures time 0.0990738868713\n",
        "1229"
       ]
      },
      {
       "output_type": "stream",
       "stream": "stdout",
       "text": [
        " pairFeatures time 0.097146987915\n",
        "1230"
       ]
      },
      {
       "output_type": "stream",
       "stream": "stdout",
       "text": [
        " pairFeatures time 0.0960459709167\n",
        "1231"
       ]
      },
      {
       "output_type": "stream",
       "stream": "stdout",
       "text": [
        " pairFeatures time 0.0931758880615\n",
        "1232"
       ]
      },
      {
       "output_type": "stream",
       "stream": "stdout",
       "text": [
        " pairFeatures time 0.0907320976257\n",
        "1233"
       ]
      },
      {
       "output_type": "stream",
       "stream": "stdout",
       "text": [
        " pairFeatures time 0.0894658565521\n",
        "1234"
       ]
      },
      {
       "output_type": "stream",
       "stream": "stdout",
       "text": [
        " pairFeatures time 0.0884790420532\n",
        "1235"
       ]
      },
      {
       "output_type": "stream",
       "stream": "stdout",
       "text": [
        " pairFeatures time 0.0857009887695\n",
        "1236"
       ]
      },
      {
       "output_type": "stream",
       "stream": "stdout",
       "text": [
        " pairFeatures time 0.0844399929047\n",
        "1237"
       ]
      },
      {
       "output_type": "stream",
       "stream": "stdout",
       "text": [
        " pairFeatures time 0.0823090076447\n",
        "1238"
       ]
      },
      {
       "output_type": "stream",
       "stream": "stdout",
       "text": [
        " pairFeatures time 0.0800971984863\n",
        "1239"
       ]
      },
      {
       "output_type": "stream",
       "stream": "stdout",
       "text": [
        " pairFeatures time 0.0779039859772\n",
        "1240"
       ]
      },
      {
       "output_type": "stream",
       "stream": "stdout",
       "text": [
        " pairFeatures time 0.0762810707092\n",
        "1241"
       ]
      },
      {
       "output_type": "stream",
       "stream": "stdout",
       "text": [
        " pairFeatures time 0.074462890625\n",
        "1242"
       ]
      },
      {
       "output_type": "stream",
       "stream": "stdout",
       "text": [
        " pairFeatures time 0.0726978778839\n",
        "1243"
       ]
      },
      {
       "output_type": "stream",
       "stream": "stdout",
       "text": [
        " pairFeatures time 0.0711779594421\n",
        "1244"
       ]
      },
      {
       "output_type": "stream",
       "stream": "stdout",
       "text": [
        " pairFeatures time 0.0680961608887\n",
        "1245"
       ]
      },
      {
       "output_type": "stream",
       "stream": "stdout",
       "text": [
        " pairFeatures time 0.0666790008545\n",
        "1246"
       ]
      },
      {
       "output_type": "stream",
       "stream": "stdout",
       "text": [
        " pairFeatures time 0.0652620792389\n",
        "1247"
       ]
      },
      {
       "output_type": "stream",
       "stream": "stdout",
       "text": [
        " pairFeatures time 0.0642001628876\n",
        "1248"
       ]
      },
      {
       "output_type": "stream",
       "stream": "stdout",
       "text": [
        " pairFeatures time 0.0607509613037\n",
        "1249"
       ]
      },
      {
       "output_type": "stream",
       "stream": "stdout",
       "text": [
        " pairFeatures time 0.0590240955353\n",
        "1250"
       ]
      },
      {
       "output_type": "stream",
       "stream": "stdout",
       "text": [
        " pairFeatures time 0.057492017746\n",
        "1251"
       ]
      },
      {
       "output_type": "stream",
       "stream": "stdout",
       "text": [
        " pairFeatures time 0.0598230361938\n",
        "1252"
       ]
      },
      {
       "output_type": "stream",
       "stream": "stdout",
       "text": [
        " pairFeatures time 0.0545630455017\n",
        "1253"
       ]
      },
      {
       "output_type": "stream",
       "stream": "stdout",
       "text": [
        " pairFeatures time 0.0520730018616\n",
        "1254 pairFeatures time 0.0493850708008\n",
        "1255"
       ]
      },
      {
       "output_type": "stream",
       "stream": "stdout",
       "text": [
        " pairFeatures time 0.0479788780212\n",
        "1256 pairFeatures time 0.0451228618622\n",
        "1257"
       ]
      },
      {
       "output_type": "stream",
       "stream": "stdout",
       "text": [
        " pairFeatures time 0.0442800521851\n",
        "1258 pairFeatures time 0.0421161651611\n",
        "1259"
       ]
      },
      {
       "output_type": "stream",
       "stream": "stdout",
       "text": [
        " pairFeatures time 0.0402748584747\n",
        "1260 pairFeatures time 0.0380527973175\n",
        "1261"
       ]
      },
      {
       "output_type": "stream",
       "stream": "stdout",
       "text": [
        " pairFeatures time 0.0369808673859\n",
        "1262 pairFeatures time 0.0341279506683\n",
        "1263"
       ]
      },
      {
       "output_type": "stream",
       "stream": "stdout",
       "text": [
        " pairFeatures time 0.0324440002441\n",
        "1264 pairFeatures time 0.030492067337\n",
        "1265"
       ]
      },
      {
       "output_type": "stream",
       "stream": "stdout",
       "text": [
        " pairFeatures time 0.0287811756134\n",
        "1266 pairFeatures time 0.0268859863281\n",
        "1267"
       ]
      },
      {
       "output_type": "stream",
       "stream": "stdout",
       "text": [
        " pairFeatures time 0.0256130695343\n",
        "1268 pairFeatures time 0.0229730606079\n",
        "1269 pairFeatures time 0.0207989215851\n",
        "1270"
       ]
      },
      {
       "output_type": "stream",
       "stream": "stdout",
       "text": [
        " pairFeatures time 0.0190272331238\n",
        "1271 pairFeatures time 0.017737865448\n",
        "1272 pairFeatures time 0.0150411128998\n",
        "1273 pairFeatures time 0.0138449668884\n",
        "1274"
       ]
      },
      {
       "output_type": "stream",
       "stream": "stdout",
       "text": [
        " pairFeatures time 0.0114369392395\n",
        "1275 pairFeatures time 0.00954914093018\n",
        "1276 pairFeatures time 0.00763988494873\n",
        "1277 pairFeatures time 0.00579786300659\n",
        "1278 pairFeatures time 0.0039918422699\n",
        "1279 pairFeatures time 0.00191712379456\n"
       ]
      }
     ],
     "prompt_number": 120
    },
    {
     "cell_type": "code",
     "collapsed": false,
     "input": [
      "# np.save(\"fisherFeatsAll.npy\", np.array(pairFeatures))\n",
      "pairFeatures = list(np.load(\"fisherFeatsAll.npy\"))"
     ],
     "language": "python",
     "metadata": {},
     "outputs": [],
     "prompt_number": 10
    },
    {
     "cell_type": "code",
     "collapsed": false,
     "input": [
      "## take labelled pairs from precomputed pairFeatures\n",
      "labelledPairs = np.load(\"appearanceLabelledPairs_setchoice.npy\")\n",
      "labelledData = []\n",
      "for labelledPair in labelledPairs :\n",
      "    firstIdx = int(np.min(labelledPair[0:2]))\n",
      "    secondIdx = int(np.max(labelledPair[0:2]))\n",
      "    labelledData.append(pairFeatures[np.sum(arange(numFrames, numFrames-firstIdx, -1)) + secondIdx - firstIdx])\n",
      "#     tmp = pairFeatures[np.sum(arange(numFrames, numFrames-firstIdx, -1)) + secondIdx - firstIdx]"
     ],
     "language": "python",
     "metadata": {},
     "outputs": [],
     "prompt_number": 14
    },
    {
     "cell_type": "code",
     "collapsed": false,
     "input": [
      "tic = time.time()\n",
      "dists = classifier.predict(pairFeatures)\n",
      "print \"predict time\", time.time() - tic"
     ],
     "language": "python",
     "metadata": {},
     "outputs": [
      {
       "output_type": "stream",
       "stream": "stderr",
       "text": [
        "[Parallel(n_jobs=4)]: Done   1 out of   4 | elapsed:    1.8s remaining:    5.4s\n",
        "[Parallel(n_jobs=4)]: Done   2 out of   4 | elapsed:    1.8s remaining:    1.8s\n",
        "[Parallel(n_jobs=4)]: Done   4 out of   4 | elapsed:    1.9s finished\n"
       ]
      },
      {
       "output_type": "stream",
       "stream": "stdout",
       "text": [
        "predict time 11.5223550797\n"
       ]
      }
     ],
     "prompt_number": 44
    },
    {
     "cell_type": "code",
     "collapsed": false,
     "input": [
      "print labelledPairs"
     ],
     "language": "python",
     "metadata": {},
     "outputs": [
      {
       "output_type": "stream",
       "stream": "stdout",
       "text": [
        "[[  2.71000000e+02   3.57000000e+02   1.00000000e+00]\n",
        " [  2.04000000e+02   6.56000000e+02   1.00000000e+00]\n",
        " [  6.70000000e+01   7.16000000e+02   1.00000000e+00]\n",
        " [  1.39000000e+02   4.98000000e+02   1.00000000e+00]\n",
        " [  9.90000000e+01   4.69000000e+02   1.00000000e+00]\n",
        " [  4.70000000e+01   5.17000000e+02   1.00000000e+00]\n",
        " [  2.30000000e+01   7.04000000e+02   0.00000000e+00]\n",
        " [  4.40000000e+01   7.55000000e+02   1.00000000e+00]\n",
        " [  1.77000000e+02   6.71000000e+02   1.00000000e+00]\n",
        " [  5.90000000e+01   7.33000000e+02   1.00000000e+00]\n",
        " [  4.50000000e+01   3.50000000e+02   0.00000000e+00]\n",
        " [  1.70000000e+01   3.08000000e+02   1.00000000e+00]\n",
        " [  2.23000000e+02   4.70000000e+02   1.00000000e+00]\n",
        " [  1.31000000e+02   6.92000000e+02   1.00000000e+00]\n",
        " [  2.71000000e+02   6.51000000e+02   1.00000000e+00]\n",
        " [  1.35000000e+02   8.09000000e+02   1.00000000e+00]\n",
        " [  1.93000000e+02   7.66000000e+02   1.00000000e+00]\n",
        " [  2.61000000e+02   8.23000000e+02   1.00000000e+00]\n",
        " [  8.30000000e+01   8.04000000e+02   1.00000000e+00]\n",
        " [  2.61000000e+02   9.34000000e+02   1.00000000e+00]\n",
        " [  1.17000000e+02   8.44000000e+02   1.00000000e+00]\n",
        " [  1.51000000e+02   9.07000000e+02   1.00000000e+00]\n",
        " [  2.22000000e+02   8.92000000e+02   1.00000000e+00]\n",
        " [  1.95000000e+02   9.14000000e+02   1.00000000e+00]\n",
        " [  2.66000000e+02   8.79000000e+02   1.00000000e+00]\n",
        " [  1.47000000e+02   8.67000000e+02   1.00000000e+00]\n",
        " [  6.20000000e+01   8.93000000e+02   1.00000000e+00]\n",
        " [  4.70000000e+01   8.85000000e+02   1.00000000e+00]\n",
        " [  1.80000000e+02   7.94000000e+02   1.00000000e+00]\n",
        " [  1.03000000e+02   8.05000000e+02   1.00000000e+00]\n",
        " [  1.14000000e+02   1.25000000e+03   1.00000000e+00]\n",
        " [  1.16000000e+02   1.18300000e+03   1.00000000e+00]\n",
        " [  2.33000000e+02   1.13900000e+03   1.00000000e+00]\n",
        " [  2.70000000e+02   1.12900000e+03   1.00000000e+00]\n",
        " [  1.02000000e+02   1.19900000e+03   1.00000000e+00]\n",
        " [  1.32000000e+02   1.10700000e+03   1.00000000e+00]\n",
        " [  6.70000000e+01   1.04900000e+03   1.00000000e+00]\n",
        " [  2.47000000e+02   1.23400000e+03   1.00000000e+00]\n",
        " [  1.32000000e+02   1.05800000e+03   1.00000000e+00]\n",
        " [  9.10000000e+01   1.26400000e+03   1.00000000e+00]\n",
        " [  1.82000000e+02   1.17600000e+03   1.00000000e+00]\n",
        " [  1.83000000e+02   1.09600000e+03   1.00000000e+00]\n",
        " [  2.12000000e+02   1.05900000e+03   1.00000000e+00]\n",
        " [  2.61000000e+02   1.02800000e+03   1.00000000e+00]\n",
        " [  2.30000000e+02   1.20300000e+03   1.00000000e+00]\n",
        " [  6.09000000e+02   9.04000000e+02   1.00000000e+00]\n",
        " [  3.35000000e+02   8.25000000e+02   1.00000000e+00]\n",
        " [  5.11000000e+02   7.83000000e+02   1.00000000e+00]\n",
        " [  5.01000000e+02   8.82000000e+02   1.00000000e+00]\n",
        " [  4.00000000e+02   7.93000000e+02   1.00000000e+00]\n",
        " [  6.68000000e+02   8.07000000e+02   1.00000000e+00]\n",
        " [  6.58000000e+02   9.00000000e+02   1.00000000e+00]\n",
        " [  4.83000000e+02   7.93000000e+02   1.00000000e+00]\n",
        " [  6.57000000e+02   7.80000000e+02   0.00000000e+00]\n",
        " [  3.09000000e+02   7.76000000e+02   1.00000000e+00]\n",
        " [  4.03000000e+02   7.78000000e+02   0.00000000e+00]\n",
        " [  4.82000000e+02   9.21000000e+02   1.00000000e+00]\n",
        " [  5.83000000e+02   8.71000000e+02   1.00000000e+00]\n",
        " [  5.44000000e+02   9.29000000e+02   1.00000000e+00]\n",
        " [  6.20000000e+02   8.65000000e+02   1.00000000e+00]\n",
        " [  5.04000000e+02   1.01700000e+03   1.00000000e+00]\n",
        " [  3.47000000e+02   1.16500000e+03   1.00000000e+00]\n",
        " [  4.40000000e+02   1.12400000e+03   1.00000000e+00]\n",
        " [  3.75000000e+02   1.20400000e+03   1.00000000e+00]\n",
        " [  3.83000000e+02   1.13800000e+03   1.00000000e+00]\n",
        " [  2.86000000e+02   1.11400000e+03   1.00000000e+00]\n",
        " [  6.91000000e+02   1.25100000e+03   1.00000000e+00]\n",
        " [  5.97000000e+02   1.03200000e+03   1.00000000e+00]\n",
        " [  6.05000000e+02   1.01100000e+03   1.00000000e+00]\n",
        " [  3.07000000e+02   1.18800000e+03   1.00000000e+00]\n",
        " [  3.86000000e+02   1.04000000e+03   1.00000000e+00]\n",
        " [  6.54000000e+02   1.25600000e+03   1.00000000e+00]\n",
        " [  4.50000000e+02   1.06000000e+03   1.00000000e+00]\n",
        " [  4.65000000e+02   1.26500000e+03   1.00000000e+00]\n",
        " [  6.97000000e+02   1.02200000e+03   1.00000000e+00]\n",
        " [  7.61000000e+02   9.78000000e+02   1.00000000e+00]\n",
        " [  7.58000000e+02   1.23000000e+03   1.00000000e+00]\n",
        " [  8.56000000e+02   9.89000000e+02   1.00000000e+00]\n",
        " [  8.87000000e+02   1.10300000e+03   1.00000000e+00]\n",
        " [  9.04000000e+02   9.57000000e+02   1.00000000e+00]\n",
        " [  7.60000000e+02   1.20000000e+03   1.00000000e+00]\n",
        " [  7.71000000e+02   1.05000000e+03   1.00000000e+00]\n",
        " [  8.38000000e+02   1.24000000e+03   1.00000000e+00]\n",
        " [  9.13000000e+02   1.22700000e+03   1.00000000e+00]\n",
        " [  7.75000000e+02   1.11100000e+03   1.00000000e+00]\n",
        " [  7.57000000e+02   1.22500000e+03   1.00000000e+00]\n",
        " [  9.14000000e+02   1.00600000e+03   1.00000000e+00]\n",
        " [  7.60000000e+02   1.24600000e+03   1.00000000e+00]\n",
        " [  8.58000000e+02   1.13300000e+03   1.00000000e+00]\n",
        " [  9.01000000e+02   1.12600000e+03   0.00000000e+00]\n",
        " [  2.80000000e+01   2.20000000e+02   1.00000000e+00]\n",
        " [  2.02000000e+02   1.19000000e+02   0.00000000e+00]\n",
        " [  2.20000000e+01   7.00000000e+00   1.00000000e+00]\n",
        " [  2.74000000e+02   2.49000000e+02   1.00000000e+00]\n",
        " [  1.70000000e+02   1.40000000e+02   1.00000000e+00]\n",
        " [  2.66000000e+02   4.80000000e+01   0.00000000e+00]\n",
        " [  2.00000000e+02   1.64000000e+02   0.00000000e+00]\n",
        " [  1.71000000e+02   1.94000000e+02   0.00000000e+00]\n",
        " [  7.00000000e+01   2.41000000e+02   0.00000000e+00]\n",
        " [  1.47000000e+02   2.42000000e+02   1.00000000e+00]\n",
        " [  1.92000000e+02   6.60000000e+01   1.00000000e+00]\n",
        " [  1.79000000e+02   2.02000000e+02   0.00000000e+00]\n",
        " [  7.80000000e+01   1.78000000e+02   1.00000000e+00]\n",
        " [  1.42000000e+02   9.90000000e+01   0.00000000e+00]\n",
        " [  1.41000000e+02   2.72000000e+02   1.00000000e+00]\n",
        " [  2.88000000e+02   3.05000000e+02   1.00000000e+00]\n",
        " [  2.95000000e+02   4.57000000e+02   0.00000000e+00]\n",
        " [  7.07000000e+02   6.99000000e+02   0.00000000e+00]\n",
        " [  3.13000000e+02   3.33000000e+02   1.00000000e+00]\n",
        " [  7.48000000e+02   6.20000000e+02   1.00000000e+00]\n",
        " [  7.40000000e+02   2.96000000e+02   0.00000000e+00]\n",
        " [  3.39000000e+02   4.62000000e+02   0.00000000e+00]\n",
        " [  4.86000000e+02   5.20000000e+02   0.00000000e+00]\n",
        " [  7.16000000e+02   4.70000000e+02   0.00000000e+00]\n",
        " [  7.17000000e+02   3.51000000e+02   1.00000000e+00]\n",
        " [  3.81000000e+02   5.81000000e+02   1.00000000e+00]\n",
        " [  4.97000000e+02   4.42000000e+02   0.00000000e+00]\n",
        " [  3.47000000e+02   3.50000000e+02   1.00000000e+00]\n",
        " [  5.07000000e+02   3.57000000e+02   1.00000000e+00]\n",
        " [  5.28000000e+02   6.63000000e+02   1.00000000e+00]\n",
        " [  7.63000000e+02   7.79000000e+02   1.00000000e+00]\n",
        " [  9.01000000e+02   8.57000000e+02   1.00000000e+00]\n",
        " [  7.86000000e+02   7.65000000e+02   0.00000000e+00]\n",
        " [  9.11000000e+02   7.74000000e+02   1.00000000e+00]\n",
        " [  7.95000000e+02   7.63000000e+02   0.00000000e+00]\n",
        " [  8.39000000e+02   8.79000000e+02   1.00000000e+00]\n",
        " [  7.64000000e+02   7.66000000e+02   0.00000000e+00]\n",
        " [  8.62000000e+02   8.65000000e+02   0.00000000e+00]\n",
        " [  8.77000000e+02   8.57000000e+02   1.00000000e+00]\n",
        " [  8.53000000e+02   8.05000000e+02   0.00000000e+00]\n",
        " [  8.24000000e+02   8.39000000e+02   1.00000000e+00]\n",
        " [  9.30000000e+02   9.20000000e+02   0.00000000e+00]\n",
        " [  8.59000000e+02   8.34000000e+02   1.00000000e+00]\n",
        " [  9.16000000e+02   8.53000000e+02   1.00000000e+00]\n",
        " [  8.35000000e+02   8.51000000e+02   0.00000000e+00]\n",
        " [  1.12700000e+03   1.21100000e+03   1.00000000e+00]\n",
        " [  1.14300000e+03   1.07800000e+03   0.00000000e+00]\n",
        " [  1.08700000e+03   1.20500000e+03   0.00000000e+00]\n",
        " [  1.22200000e+03   9.38000000e+02   0.00000000e+00]\n",
        " [  9.42000000e+02   1.20400000e+03   1.00000000e+00]\n",
        " [  1.24700000e+03   1.04400000e+03   0.00000000e+00]\n",
        " [  1.09400000e+03   1.01100000e+03   0.00000000e+00]\n",
        " [  1.07300000e+03   1.15500000e+03   1.00000000e+00]\n",
        " [  1.14700000e+03   1.07600000e+03   0.00000000e+00]\n",
        " [  1.18700000e+03   1.16600000e+03   1.00000000e+00]\n",
        " [  1.24000000e+03   1.14300000e+03   0.00000000e+00]\n",
        " [  9.50000000e+02   1.17200000e+03   1.00000000e+00]\n",
        " [  1.19200000e+03   1.03100000e+03   0.00000000e+00]\n",
        " [  1.13700000e+03   1.25500000e+03   1.00000000e+00]\n",
        " [  1.19900000e+03   1.26200000e+03   1.00000000e+00]]\n"
       ]
      }
     ],
     "prompt_number": 47
    },
    {
     "cell_type": "code",
     "collapsed": false,
     "input": [
      "learnedDistMat = np.zeros((len(frames), len(frames)))\n",
      "idx = 0\n",
      "for i, length in zip(xrange(len(frames)), xrange(len(frames), 0, -1)) :\n",
      "    print idx, length\n",
      "#     print i*len(frames), \":\", i*len(frames)\n",
      "    learnedDistMat[i, i:] = dists[idx:idx+length]\n",
      "    idx += length"
     ],
     "language": "python",
     "metadata": {},
     "outputs": [
      {
       "output_type": "stream",
       "stream": "stdout",
       "text": [
        "0 1280\n",
        "1280 1279\n",
        "2559 1278\n",
        "3837 1277\n",
        "5114 1276\n",
        "6390 1275\n",
        "7665 1274\n",
        "8939 1273\n",
        "10212 1272\n",
        "11484 1271\n",
        "12755 1270\n",
        "14025 1269\n",
        "15294 1268\n",
        "16562 1267\n",
        "17829 1266\n",
        "19095 1265\n",
        "20360 1264\n",
        "21624 1263\n",
        "22887 1262\n",
        "24149 1261\n",
        "25410 1260\n",
        "26670 1259\n",
        "27929 1258\n",
        "29187 1257\n",
        "30444 1256\n",
        "31700 1255\n",
        "32955 1254\n",
        "34209 1253\n",
        "35462 1252\n",
        "36714 1251\n",
        "37965 1250\n",
        "39215 1249\n",
        "40464 1248\n",
        "41712 1247\n",
        "42959 1246\n",
        "44205 1245\n",
        "45450 1244\n",
        "46694 1243\n",
        "47937 1242\n",
        "49179 1241\n",
        "50420 1240\n",
        "51660 1239\n",
        "52899 1238\n",
        "54137 1237\n",
        "55374 1236\n",
        "56610 1235\n",
        "57845 1234\n",
        "59079 1233\n",
        "60312 1232\n",
        "61544 1231\n",
        "62775 1230\n",
        "64005 1229\n",
        "65234 1228\n",
        "66462 1227\n",
        "67689 1226\n",
        "68915 1225\n",
        "70140 1224\n",
        "71364 1223\n",
        "72587 1222\n",
        "73809 1221\n",
        "75030 1220\n",
        "76250 1219\n",
        "77469 1218\n",
        "78687 1217\n",
        "79904 1216\n",
        "81120 1215\n",
        "82335 1214\n",
        "83549 1213\n",
        "84762 1212\n",
        "85974 1211\n",
        "87185 1210\n",
        "88395 1209\n",
        "89604 1208\n",
        "90812 1207\n",
        "92019 1206\n",
        "93225 1205\n",
        "94430 1204\n",
        "95634 1203\n",
        "96837 1202\n",
        "98039 1201\n",
        "99240 1200\n",
        "100440 1199\n",
        "101639 1198\n",
        "102837 1197\n",
        "104034 1196\n",
        "105230 1195\n",
        "106425 1194\n",
        "107619 1193\n",
        "108812 1192\n",
        "110004 1191\n",
        "111195 1190\n",
        "112385 1189\n",
        "113574 1188\n",
        "114762 1187\n",
        "115949 1186\n",
        "117135 1185\n",
        "118320 1184\n",
        "119504 1183\n",
        "120687 1182\n",
        "121869 1181\n",
        "123050 1180\n",
        "124230 1179\n",
        "125409 1178\n",
        "126587 1177\n",
        "127764 1176\n",
        "128940 1175\n",
        "130115 1174\n",
        "131289 1173\n",
        "132462 1172\n",
        "133634 1171\n",
        "134805 1170\n",
        "135975 1169\n",
        "137144 1168\n",
        "138312 1167\n",
        "139479 1166\n",
        "140645 1165\n",
        "141810 1164\n",
        "142974 1163\n",
        "144137 1162\n",
        "145299 1161\n",
        "146460 1160\n",
        "147620 1159\n",
        "148779 1158\n",
        "149937 1157\n",
        "151094 1156\n",
        "152250 1155\n",
        "153405 1154\n",
        "154559 1153\n",
        "155712 1152\n",
        "156864 1151\n",
        "158015 1150\n",
        "159165 1149\n",
        "160314 1148\n",
        "161462 1147\n",
        "162609 1146\n",
        "163755 1145\n",
        "164900 1144\n",
        "166044 1143\n",
        "167187 1142\n",
        "168329 1141\n",
        "169470 1140\n",
        "170610 1139\n",
        "171749 1138\n",
        "172887 1137\n",
        "174024 1136\n",
        "175160 1135\n",
        "176295 1134\n",
        "177429 1133\n",
        "178562 1132\n",
        "179694 1131\n",
        "180825 1130\n",
        "181955 1129\n",
        "183084 1128\n",
        "184212 1127\n",
        "185339 1126\n",
        "186465 1125\n",
        "187590 1124\n",
        "188714 1123\n",
        "189837 1122\n",
        "190959 1121\n",
        "192080 1120\n",
        "193200 1119\n",
        "194319 1118\n",
        "195437 1117\n",
        "196554 1116\n",
        "197670 1115\n",
        "198785 1114\n",
        "199899 1113\n",
        "201012 1112\n",
        "202124 1111\n",
        "203235 1110\n",
        "204345 1109\n",
        "205454 1108\n",
        "206562 1107\n",
        "207669 1106\n",
        "208775 1105\n",
        "209880 1104\n",
        "210984 1103\n",
        "212087 1102\n",
        "213189 1101\n",
        "214290 1100\n",
        "215390 1099\n",
        "216489 1098\n",
        "217587 1097\n",
        "218684 1096\n",
        "219780 1095\n",
        "220875 1094\n",
        "221969 1093\n",
        "223062 1092\n",
        "224154 1091\n",
        "225245 1090\n",
        "226335 1089\n",
        "227424 1088\n",
        "228512 1087\n",
        "229599 1086\n",
        "230685 1085\n",
        "231770 1084\n",
        "232854 1083\n",
        "233937 1082\n",
        "235019 1081\n",
        "236100 1080\n",
        "237180 1079\n",
        "238259 1078\n",
        "239337 1077\n",
        "240414 1076\n",
        "241490 1075\n",
        "242565 1074\n",
        "243639 1073\n",
        "244712 1072\n",
        "245784 1071\n",
        "246855 1070\n",
        "247925 1069\n",
        "248994 1068\n",
        "250062 1067\n",
        "251129 1066\n",
        "252195 1065\n",
        "253260 1064\n",
        "254324 1063\n",
        "255387 1062\n",
        "256449 1061\n",
        "257510 1060\n",
        "258570 1059\n",
        "259629 1058\n",
        "260687 1057\n",
        "261744 1056\n",
        "262800 1055\n",
        "263855 1054\n",
        "264909 1053\n",
        "265962 1052\n",
        "267014 1051\n",
        "268065 1050\n",
        "269115 1049\n",
        "270164 1048\n",
        "271212 1047\n",
        "272259 1046\n",
        "273305 1045\n",
        "274350 1044\n",
        "275394 1043\n",
        "276437 1042\n",
        "277479 1041\n",
        "278520 1040\n",
        "279560 1039\n",
        "280599 1038\n",
        "281637 1037\n",
        "282674 1036\n",
        "283710 1035\n",
        "284745 1034\n",
        "285779 1033\n",
        "286812 1032\n",
        "287844 1031\n",
        "288875 1030\n",
        "289905 1029\n",
        "290934 1028\n",
        "291962 1027\n",
        "292989 1026\n",
        "294015 1025\n",
        "295040 1024\n",
        "296064 1023\n",
        "297087 1022\n",
        "298109 1021\n",
        "299130 1020\n",
        "300150 1019\n",
        "301169 1018\n",
        "302187 1017\n",
        "303204 1016\n",
        "304220 1015\n",
        "305235 1014\n",
        "306249 1013\n",
        "307262 1012\n",
        "308274 1011\n",
        "309285 1010\n",
        "310295 1009\n",
        "311304 1008\n",
        "312312 1007\n",
        "313319 1006\n",
        "314325 1005\n",
        "315330 1004\n",
        "316334 1003\n",
        "317337 1002\n",
        "318339 1001\n",
        "319340 1000\n",
        "320340 999\n",
        "321339 998\n",
        "322337 997\n",
        "323334 996\n",
        "324330 995\n",
        "325325 994\n",
        "326319 993\n",
        "327312 992\n",
        "328304 991\n",
        "329295 990\n",
        "330285 989\n",
        "331274 988\n",
        "332262 987\n",
        "333249 986\n",
        "334235 985\n",
        "335220 984\n",
        "336204 983\n",
        "337187 982\n",
        "338169 981\n",
        "339150 980\n",
        "340130 979\n",
        "341109 978\n",
        "342087 977\n",
        "343064 976\n",
        "344040 975\n",
        "345015 974\n",
        "345989 973\n",
        "346962 972\n",
        "347934 971\n",
        "348905 970\n",
        "349875 969\n",
        "350844 968\n",
        "351812 967\n",
        "352779 966\n",
        "353745 965\n",
        "354710 964\n",
        "355674 963\n",
        "356637 962\n",
        "357599 961\n",
        "358560 960\n",
        "359520 959\n",
        "360479 958\n",
        "361437 957\n",
        "362394 956\n",
        "363350 955\n",
        "364305 954\n",
        "365259 953\n",
        "366212 952\n",
        "367164 951\n",
        "368115 950\n",
        "369065 949\n",
        "370014 948\n",
        "370962 947\n",
        "371909 946\n",
        "372855 945\n",
        "373800 944\n",
        "374744 943\n",
        "375687 942\n",
        "376629 941\n",
        "377570 940\n",
        "378510 939\n",
        "379449 938\n",
        "380387 937\n",
        "381324 936\n",
        "382260 935\n",
        "383195 934\n",
        "384129 933\n",
        "385062 932\n",
        "385994 931\n",
        "386925 930\n",
        "387855 929\n",
        "388784 928\n",
        "389712 927\n",
        "390639 926\n",
        "391565 925\n",
        "392490 924\n",
        "393414 923\n",
        "394337 922\n",
        "395259 921\n",
        "396180 920\n",
        "397100 919\n",
        "398019 918\n",
        "398937 917\n",
        "399854 916\n",
        "400770 915\n",
        "401685 914\n",
        "402599 913\n",
        "403512 912\n",
        "404424 911\n",
        "405335 910\n",
        "406245 909\n",
        "407154 908\n",
        "408062 907\n",
        "408969 906\n",
        "409875 905\n",
        "410780 904\n",
        "411684 903\n",
        "412587 902\n",
        "413489 901\n",
        "414390 900\n",
        "415290 899\n",
        "416189 898\n",
        "417087 897\n",
        "417984 896\n",
        "418880 895\n",
        "419775 894\n",
        "420669 893\n",
        "421562 892\n",
        "422454 891\n",
        "423345 890\n",
        "424235 889\n",
        "425124 888\n",
        "426012 887\n",
        "426899 886\n",
        "427785 885\n",
        "428670 884\n",
        "429554 883\n",
        "430437 882\n",
        "431319 881\n",
        "432200 880\n",
        "433080 879\n",
        "433959 878\n",
        "434837 877\n",
        "435714 876\n",
        "436590 875\n",
        "437465 874\n",
        "438339 873\n",
        "439212 872\n",
        "440084 871\n",
        "440955 870\n",
        "441825 869\n",
        "442694 868\n",
        "443562 867\n",
        "444429 866\n",
        "445295 865\n",
        "446160 864\n",
        "447024 863\n",
        "447887 862\n",
        "448749 861\n",
        "449610 860\n",
        "450470 859\n",
        "451329 858\n",
        "452187 857\n",
        "453044 856\n",
        "453900 855\n",
        "454755 854\n",
        "455609 853\n",
        "456462 852\n",
        "457314 851\n",
        "458165 850\n",
        "459015 849\n",
        "459864 848\n",
        "460712 847\n",
        "461559 846\n",
        "462405 845\n",
        "463250 844\n",
        "464094 843\n",
        "464937 842\n",
        "465779 841\n",
        "466620 840\n",
        "467460 839\n",
        "468299 838\n",
        "469137 837\n",
        "469974 836\n",
        "470810 835\n",
        "471645 834\n",
        "472479 833\n",
        "473312 832\n",
        "474144 831\n",
        "474975 830\n",
        "475805 829\n",
        "476634 828\n",
        "477462 827\n",
        "478289 826\n",
        "479115 825\n",
        "479940 824\n",
        "480764 823\n",
        "481587 822\n",
        "482409 821\n",
        "483230 820\n",
        "484050 819\n",
        "484869 818\n",
        "485687 817\n",
        "486504 816\n",
        "487320 815\n",
        "488135 814\n",
        "488949 813\n",
        "489762 812\n",
        "490574 811\n",
        "491385 810\n",
        "492195 809\n",
        "493004 808\n",
        "493812 807\n",
        "494619 806\n",
        "495425 805\n",
        "496230 804\n",
        "497034 803\n",
        "497837 802\n",
        "498639 801\n",
        "499440 800\n",
        "500240 799\n",
        "501039 798\n",
        "501837 797\n",
        "502634 796\n",
        "503430 795\n",
        "504225 794\n",
        "505019 793\n",
        "505812 792\n",
        "506604 791\n",
        "507395 790\n",
        "508185 789\n",
        "508974 788\n",
        "509762 787\n",
        "510549 786\n",
        "511335 785\n",
        "512120 784\n",
        "512904 783\n",
        "513687 782\n",
        "514469 781\n",
        "515250 780\n",
        "516030 779\n",
        "516809 778\n",
        "517587 777\n",
        "518364 776\n",
        "519140 775\n",
        "519915 774\n",
        "520689 773\n",
        "521462 772\n",
        "522234 771\n",
        "523005 770\n",
        "523775 769\n",
        "524544 768\n",
        "525312 767\n",
        "526079 766\n",
        "526845 765\n",
        "527610 764\n",
        "528374 763\n",
        "529137 762\n",
        "529899 761\n",
        "530660 760\n",
        "531420 759\n",
        "532179 758\n",
        "532937 757\n",
        "533694 756\n",
        "534450 755\n",
        "535205 754\n",
        "535959 753\n",
        "536712 752\n",
        "537464 751\n",
        "538215 750\n",
        "538965 749\n",
        "539714 748\n",
        "540462 747\n",
        "541209 746\n",
        "541955 745\n",
        "542700 744\n",
        "543444 743\n",
        "544187 742\n",
        "544929 741\n",
        "545670 740\n",
        "546410 739\n",
        "547149 738\n",
        "547887 737\n",
        "548624 736\n",
        "549360 735\n",
        "550095 734\n",
        "550829 733\n",
        "551562 732\n",
        "552294 731\n",
        "553025 730\n",
        "553755 729\n",
        "554484 728\n",
        "555212 727\n",
        "555939 726\n",
        "556665 725\n",
        "557390 724\n",
        "558114 723\n",
        "558837 722\n",
        "559559 721\n",
        "560280 720\n",
        "561000 719\n",
        "561719 718\n",
        "562437 717\n",
        "563154 716\n",
        "563870 715\n",
        "564585 714\n",
        "565299 713\n",
        "566012 712\n",
        "566724 711\n",
        "567435 710\n",
        "568145 709\n",
        "568854 708\n",
        "569562 707\n",
        "570269 706\n",
        "570975 705\n",
        "571680 704\n",
        "572384 703\n",
        "573087 702\n",
        "573789 701\n",
        "574490 700\n",
        "575190 699\n",
        "575889 698\n",
        "576587 697\n",
        "577284 696\n",
        "577980 695\n",
        "578675 694\n",
        "579369 693\n",
        "580062 692\n",
        "580754 691\n",
        "581445 690\n",
        "582135 689\n",
        "582824 688\n",
        "583512 687\n",
        "584199 686\n",
        "584885 685\n",
        "585570 684\n",
        "586254 683\n",
        "586937 682\n",
        "587619 681\n",
        "588300 680\n",
        "588980 679\n",
        "589659 678\n",
        "590337 677\n",
        "591014 676\n",
        "591690 675\n",
        "592365 674\n",
        "593039 673\n",
        "593712 672\n",
        "594384 671\n",
        "595055 670\n",
        "595725 669\n",
        "596394 668\n",
        "597062 667\n",
        "597729 666\n",
        "598395 665\n",
        "599060 664\n",
        "599724 663\n",
        "600387 662\n",
        "601049 661\n",
        "601710 660\n",
        "602370 659\n",
        "603029 658\n",
        "603687 657\n",
        "604344 656\n",
        "605000 655\n",
        "605655 654\n",
        "606309 653\n",
        "606962 652\n",
        "607614 651\n",
        "608265 650\n",
        "608915 649\n",
        "609564 648\n",
        "610212 647\n",
        "610859 646\n",
        "611505 645\n",
        "612150 644\n",
        "612794 643\n",
        "613437 642\n",
        "614079 641\n",
        "614720 640\n",
        "615360 639\n",
        "615999 638\n",
        "616637 637\n",
        "617274 636\n",
        "617910 635\n",
        "618545 634\n",
        "619179 633\n",
        "619812 632\n",
        "620444 631\n",
        "621075 630\n",
        "621705 629\n",
        "622334 628\n",
        "622962 627\n",
        "623589 626\n",
        "624215 625\n",
        "624840 624\n",
        "625464 623\n",
        "626087 622\n",
        "626709 621\n",
        "627330 620\n",
        "627950 619\n",
        "628569 618\n",
        "629187 617\n",
        "629804 616\n",
        "630420 615\n",
        "631035 614\n",
        "631649 613\n",
        "632262 612\n",
        "632874 611\n",
        "633485 610\n",
        "634095 609\n",
        "634704 608\n",
        "635312 607\n",
        "635919 606\n",
        "636525 605\n",
        "637130 604\n",
        "637734 603\n",
        "638337 602\n",
        "638939 601\n",
        "639540 600\n",
        "640140 599\n",
        "640739 598\n",
        "641337 597\n",
        "641934 596\n",
        "642530 595\n",
        "643125 594\n",
        "643719 593\n",
        "644312 592\n",
        "644904 591\n",
        "645495 590\n",
        "646085 589\n",
        "646674 588\n",
        "647262 587\n",
        "647849 586\n",
        "648435 585\n",
        "649020 584\n",
        "649604 583\n",
        "650187 582\n",
        "650769 581\n",
        "651350 580\n",
        "651930 579\n",
        "652509 578\n",
        "653087 577\n",
        "653664 576\n",
        "654240 575\n",
        "654815 574\n",
        "655389 573\n",
        "655962 572\n",
        "656534 571\n",
        "657105 570\n",
        "657675 569\n",
        "658244 568\n",
        "658812 567\n",
        "659379 566\n",
        "659945 565\n",
        "660510 564\n",
        "661074 563\n",
        "661637 562\n",
        "662199 561\n",
        "662760 560\n",
        "663320 559\n",
        "663879 558\n",
        "664437 557\n",
        "664994 556\n",
        "665550 555\n",
        "666105 554\n",
        "666659 553\n",
        "667212 552\n",
        "667764 551\n",
        "668315 550\n",
        "668865 549\n",
        "669414 548\n",
        "669962 547\n",
        "670509 546\n",
        "671055 545\n",
        "671600 544\n",
        "672144 543\n",
        "672687 542\n",
        "673229 541\n",
        "673770 540\n",
        "674310 539\n",
        "674849 538\n",
        "675387 537\n",
        "675924 536\n",
        "676460 535\n",
        "676995 534\n",
        "677529 533\n",
        "678062 532\n",
        "678594 531\n",
        "679125 530\n",
        "679655 529\n",
        "680184 528\n",
        "680712 527\n",
        "681239 526\n",
        "681765 525\n",
        "682290 524\n",
        "682814 523\n",
        "683337 522\n",
        "683859 521\n",
        "684380 520\n",
        "684900 519\n",
        "685419 518\n",
        "685937 517\n",
        "686454 516\n",
        "686970 515\n",
        "687485 514\n",
        "687999 513\n",
        "688512 512\n",
        "689024 511\n",
        "689535 510\n",
        "690045 509\n",
        "690554 508\n",
        "691062 507\n",
        "691569 506\n",
        "692075 505\n",
        "692580 504\n",
        "693084 503\n",
        "693587 502\n",
        "694089 501\n",
        "694590 500\n",
        "695090 499\n",
        "695589 498\n",
        "696087 497\n",
        "696584 496\n",
        "697080 495\n",
        "697575 494\n",
        "698069 493\n",
        "698562 492\n",
        "699054 491\n",
        "699545 490\n",
        "700035 489\n",
        "700524 488\n",
        "701012 487\n",
        "701499 486\n",
        "701985 485\n",
        "702470 484\n",
        "702954 483\n",
        "703437 482\n",
        "703919 481\n",
        "704400 480\n",
        "704880 479\n",
        "705359 478\n",
        "705837 477\n",
        "706314 476\n",
        "706790 475\n",
        "707265 474\n",
        "707739 473\n",
        "708212 472\n",
        "708684 471\n",
        "709155 470\n",
        "709625 469\n",
        "710094 468\n",
        "710562 467\n",
        "711029 466\n",
        "711495 465\n",
        "711960 464\n",
        "712424 463\n",
        "712887 462\n",
        "713349 461\n",
        "713810 460\n",
        "714270 459\n",
        "714729 458\n",
        "715187 457\n",
        "715644 456\n",
        "716100 455\n",
        "716555 454\n",
        "717009 453\n",
        "717462 452\n",
        "717914 451\n",
        "718365 450\n",
        "718815 449\n",
        "719264 448\n",
        "719712 447\n",
        "720159 446\n",
        "720605 445\n",
        "721050 444\n",
        "721494 443\n",
        "721937 442\n",
        "722379 441\n",
        "722820 440\n",
        "723260 439\n",
        "723699 438\n",
        "724137 437\n",
        "724574 436\n",
        "725010 435\n",
        "725445 434\n",
        "725879 433\n",
        "726312 432\n",
        "726744 431\n",
        "727175 430\n",
        "727605 429\n",
        "728034 428\n",
        "728462 427\n",
        "728889 426\n",
        "729315 425\n",
        "729740 424\n",
        "730164 423\n",
        "730587 422\n",
        "731009 421\n",
        "731430 420\n",
        "731850 419\n",
        "732269 418\n",
        "732687 417\n",
        "733104 416\n",
        "733520 415\n",
        "733935 414\n",
        "734349 413\n",
        "734762 412\n",
        "735174 411\n",
        "735585 410\n",
        "735995 409\n",
        "736404 408\n",
        "736812 407\n",
        "737219 406\n",
        "737625 405\n",
        "738030 404\n",
        "738434 403\n",
        "738837 402\n",
        "739239 401\n",
        "739640 400\n",
        "740040 399\n",
        "740439 398\n",
        "740837 397\n",
        "741234 396\n",
        "741630 395\n",
        "742025 394\n",
        "742419 393\n",
        "742812 392\n",
        "743204 391\n",
        "743595 390\n",
        "743985 389\n",
        "744374 388\n",
        "744762 387\n",
        "745149 386\n",
        "745535 385\n",
        "745920 384\n",
        "746304 383\n",
        "746687 382\n",
        "747069 381\n",
        "747450 380\n",
        "747830 379\n",
        "748209 378\n",
        "748587 377\n",
        "748964 376\n",
        "749340 375\n",
        "749715 374\n",
        "750089 373\n",
        "750462 372\n",
        "750834 371\n",
        "751205 370\n",
        "751575 369\n",
        "751944 368\n",
        "752312 367\n",
        "752679 366\n",
        "753045 365\n",
        "753410 364\n",
        "753774 363\n",
        "754137 362\n",
        "754499 361\n",
        "754860 360\n",
        "755220 359\n",
        "755579 358\n",
        "755937 357\n",
        "756294 356\n",
        "756650 355\n",
        "757005 354\n",
        "757359 353\n",
        "757712 352\n",
        "758064 351\n",
        "758415 350\n",
        "758765 349\n",
        "759114 348\n",
        "759462 347\n",
        "759809 346\n",
        "760155 345\n",
        "760500 344\n",
        "760844 343\n",
        "761187 342\n",
        "761529 341\n",
        "761870 340\n",
        "762210 339\n",
        "762549 338\n",
        "762887 337\n",
        "763224 336\n",
        "763560 335\n",
        "763895 334\n",
        "764229 333\n",
        "764562 332\n",
        "764894 331\n",
        "765225 330\n",
        "765555 329\n",
        "765884 328\n",
        "766212 327\n",
        "766539 326\n",
        "766865 325\n",
        "767190 324\n",
        "767514 323\n",
        "767837 322\n",
        "768159 321\n",
        "768480 320\n",
        "768800 319\n",
        "769119 318\n",
        "769437 317\n",
        "769754 316\n",
        "770070 315\n",
        "770385 314\n",
        "770699 313\n",
        "771012 312\n",
        "771324 311\n",
        "771635 310\n",
        "771945 309\n",
        "772254 308\n",
        "772562 307\n",
        "772869 306\n",
        "773175 305\n",
        "773480 304\n",
        "773784 303\n",
        "774087 302\n",
        "774389 301\n",
        "774690 300\n",
        "774990 299\n",
        "775289 298\n",
        "775587 297\n",
        "775884 296\n",
        "776180 295\n",
        "776475 294\n",
        "776769 293\n",
        "777062 292\n",
        "777354 291\n",
        "777645 290\n",
        "777935 289\n",
        "778224 288\n",
        "778512 287\n",
        "778799 286\n",
        "779085 285\n",
        "779370 284\n",
        "779654 283\n",
        "779937 282\n",
        "780219 281\n",
        "780500 280\n",
        "780780 279\n",
        "781059 278\n",
        "781337 277\n",
        "781614 276\n",
        "781890 275\n",
        "782165 274\n",
        "782439 273\n",
        "782712 272\n",
        "782984 271\n",
        "783255 270\n",
        "783525 269\n",
        "783794 268\n",
        "784062 267\n",
        "784329 266\n",
        "784595 265\n",
        "784860 264\n",
        "785124 263\n",
        "785387 262\n",
        "785649 261\n",
        "785910 260\n",
        "786170 259\n",
        "786429 258\n",
        "786687 257\n",
        "786944 256\n",
        "787200 255\n",
        "787455 254\n",
        "787709 253\n",
        "787962 252\n",
        "788214 251\n",
        "788465 250\n",
        "788715 249\n",
        "788964 248\n",
        "789212 247\n",
        "789459 246\n",
        "789705 245\n",
        "789950 244\n",
        "790194 243\n",
        "790437 242\n",
        "790679 241\n",
        "790920 240\n",
        "791160 239\n",
        "791399 238\n",
        "791637 237\n",
        "791874 236\n",
        "792110 235\n",
        "792345 234\n",
        "792579 233\n",
        "792812 232\n",
        "793044 231\n",
        "793275 230\n",
        "793505 229\n",
        "793734 228\n",
        "793962 227\n",
        "794189 226\n",
        "794415 225\n",
        "794640 224\n",
        "794864 223\n",
        "795087 222\n",
        "795309 221\n",
        "795530 220\n",
        "795750 219\n",
        "795969 218\n",
        "796187 217\n",
        "796404 216\n",
        "796620 215\n",
        "796835 214\n",
        "797049 213\n",
        "797262 212\n",
        "797474 211\n",
        "797685 210\n",
        "797895 209\n",
        "798104 208\n",
        "798312 207\n",
        "798519 206\n",
        "798725 205\n",
        "798930 204\n",
        "799134 203\n",
        "799337 202\n",
        "799539 201\n",
        "799740 200\n",
        "799940 199\n",
        "800139 198\n",
        "800337 197\n",
        "800534 196\n",
        "800730 195\n",
        "800925 194\n",
        "801119 193\n",
        "801312 192\n",
        "801504 191\n",
        "801695 190\n",
        "801885 189\n",
        "802074 188\n",
        "802262 187\n",
        "802449 186\n",
        "802635 185\n",
        "802820 184\n",
        "803004 183\n",
        "803187 182\n",
        "803369 181\n",
        "803550 180\n",
        "803730 179\n",
        "803909 178\n",
        "804087 177\n",
        "804264 176\n",
        "804440 175\n",
        "804615 174\n",
        "804789 173\n",
        "804962 172\n",
        "805134 171\n",
        "805305 170\n",
        "805475 169\n",
        "805644 168\n",
        "805812 167\n",
        "805979 166\n",
        "806145 165\n",
        "806310 164\n",
        "806474 163\n",
        "806637 162\n",
        "806799 161\n",
        "806960 160\n",
        "807120 159\n",
        "807279 158\n",
        "807437 157\n",
        "807594 156\n",
        "807750 155\n",
        "807905 154\n",
        "808059 153\n",
        "808212 152\n",
        "808364 151\n",
        "808515 150\n",
        "808665 149\n",
        "808814 148\n",
        "808962 147\n",
        "809109 146\n",
        "809255 145\n",
        "809400 144\n",
        "809544 143\n",
        "809687 142\n",
        "809829 141\n",
        "809970 140\n",
        "810110 139\n",
        "810249 138\n",
        "810387 137\n",
        "810524 136\n",
        "810660 135\n",
        "810795 134\n",
        "810929 133\n",
        "811062 132\n",
        "811194 131\n",
        "811325 130\n",
        "811455 129\n",
        "811584 128\n",
        "811712 127\n",
        "811839 126\n",
        "811965 125\n",
        "812090 124\n",
        "812214 123\n",
        "812337 122\n",
        "812459 121\n",
        "812580 120\n",
        "812700 119\n",
        "812819 118\n",
        "812937 117\n",
        "813054 116\n",
        "813170 115\n",
        "813285 114\n",
        "813399 113\n",
        "813512 112\n",
        "813624 111\n",
        "813735 110\n",
        "813845 109\n",
        "813954 108\n",
        "814062 107\n",
        "814169 106\n",
        "814275 105\n",
        "814380 104\n",
        "814484 103\n",
        "814587 102\n",
        "814689 101\n",
        "814790 100\n",
        "814890 99\n",
        "814989 98\n",
        "815087 97\n",
        "815184 96\n",
        "815280 95\n",
        "815375 94\n",
        "815469 93\n",
        "815562 92\n",
        "815654 91\n",
        "815745 90\n",
        "815835 89\n",
        "815924 88\n",
        "816012 87\n",
        "816099 86\n",
        "816185 85\n",
        "816270 84\n",
        "816354 83\n",
        "816437 82\n",
        "816519 81\n",
        "816600 80\n",
        "816680 79\n",
        "816759 78\n",
        "816837 77\n",
        "816914 76\n",
        "816990 75\n",
        "817065 74\n",
        "817139 73\n",
        "817212 72\n",
        "817284 71\n",
        "817355 70\n",
        "817425 69\n",
        "817494 68\n",
        "817562 67\n",
        "817629 66\n",
        "817695 65\n",
        "817760 64\n",
        "817824 63\n",
        "817887 62\n",
        "817949 61\n",
        "818010 60\n",
        "818070 59\n",
        "818129 58\n",
        "818187 57\n",
        "818244 56\n",
        "818300 55\n",
        "818355 54\n",
        "818409 53\n",
        "818462 52\n",
        "818514 51\n",
        "818565 50\n",
        "818615 49\n",
        "818664 48\n",
        "818712 47\n",
        "818759 46\n",
        "818805 45\n",
        "818850 44\n",
        "818894 43\n",
        "818937 42\n",
        "818979 41\n",
        "819020 40\n",
        "819060 39\n",
        "819099 38\n",
        "819137 37\n",
        "819174 36\n",
        "819210 35\n",
        "819245 34\n",
        "819279 33\n",
        "819312 32\n",
        "819344 31\n",
        "819375 30\n",
        "819405 29\n",
        "819434 28\n",
        "819462 27\n",
        "819489 26\n",
        "819515 25\n",
        "819540 24\n",
        "819564 23\n",
        "819587 22\n",
        "819609 21\n",
        "819630 20\n",
        "819650 19\n",
        "819669 18\n",
        "819687 17\n",
        "819704 16\n",
        "819720 15\n",
        "819735 14\n",
        "819749 13\n",
        "819762 12\n",
        "819774 11\n",
        "819785 10\n",
        "819795 9\n",
        "819804 8\n",
        "819812 7\n",
        "819819 6\n",
        "819825 5\n",
        "819830 4\n",
        "819834 3\n",
        "819837 2\n",
        "819839 1\n"
       ]
      }
     ],
     "prompt_number": 45
    },
    {
     "cell_type": "code",
     "collapsed": false,
     "input": [
      "print np.argsort(normedDistMat, axis=1)\n",
      "print normedDistMat[0, 99], normedDistMat[0, 134], np.max(normedDistMat[0, :])"
     ],
     "language": "python",
     "metadata": {},
     "outputs": [
      {
       "output_type": "stream",
       "stream": "stdout",
       "text": [
        "[[ 639  525  526 ...,  134   99    1]\n",
        " [ 639  544  546 ...,    6   87    0]\n",
        " [ 639  541  542 ...,  142   98    4]\n",
        " ..., \n",
        " [ 310   27  324 ..., 1080  941 1083]\n",
        " [ 426  730  754 ...,  895 1266  952]\n",
        " [ 102  722  414 ...,  949  974  952]]\n",
        "0.00840115515883 0.00831364312593 0.00875120329045\n"
       ]
      }
     ],
     "prompt_number": 70
    },
    {
     "cell_type": "code",
     "collapsed": false,
     "input": [
      "## make distMat symmetric and save\n",
      "distMat = np.copy(learnedDistMat)\n",
      "distMat += np.triu(distMat, k=1).T\n",
      "normedDistMat = np.copy(distMat)/np.sum(distMat, axis=0).reshape((len(distMat), 1)).repeat(len(distMat), axis=-1)\n",
      "# figure(); imshow(distMat, interpolation='nearest')\n",
      "gwv.showCustomGraph(-np.log(np.maximum(normedDistMat, np.zeros(distMat.shape)+0.0001)))\n",
      "# np.save(dataFolder + sampleData + \"appearance_hog_set150_fisher_distMat.npy\", distMat)"
     ],
     "language": "python",
     "metadata": {},
     "outputs": [],
     "prompt_number": 67
    },
    {
     "cell_type": "code",
     "collapsed": false,
     "input": [
      "import GraphWithValues as gwv\n",
      "# distMat = np.load(dataFolder + sampleData + \"semantics_hog_L2_set150_distMat.npy\")\n",
      "# gwv.showCustomGraph(np.load(dataFolder + sampleData + \"semantics_hog_set50_distMat.npy\"))\n",
      "# gwv.showCustomGraph(np.load(dataFolder + sampleData + \"appearance_hog_set150_distMat.npy\"))\n",
      "gwv.showCustomGraph(np.load(dataFolder + sampleData + \"appearance_hog_L2_set150_distMat.npy\"))\n",
      "# gwv.showCustomGraph(np.load(dataFolder + sampleData + \"appearance_hog_set150_fisher_distMat.npy\"))\n",
      "# gwv.showCustomGraph(np.load(dataFolder + sampleData + \"semantics_hog_rand50_encodedlast_distMat.npy\"))\n",
      "# gwv.showCustomGraph(np.load(dataFolder + sampleData + \"semantics_hog_rand50_encodedfirst_distMat.npy\"))"
     ],
     "language": "python",
     "metadata": {},
     "outputs": [],
     "prompt_number": 7
    },
    {
     "cell_type": "code",
     "collapsed": false,
     "input": [
      "tmpFeats = getFramesPairFeatures(frameFeatures[345], frameFeatures[786], pairFeatTypes, kmeansClusterer=clusterer)\n",
      "print tmpFeats\n",
      "pairwiseFeats = getFramesPairFeatures(frameFeatures[345], frameFeatures[786], pairFeatTypes)\n",
      "tmpFeats2 = np.histogram(clusterer.predict(np.reshape(pairwiseFeats, (len(pairwiseFeats)/hogOrientations, hogOrientations))), bins=256)[0]\n",
      "print tmpFeats2\n",
      "print tmpFeats2-tmpFeats"
     ],
     "language": "python",
     "metadata": {},
     "outputs": [
      {
       "output_type": "stream",
       "stream": "stdout",
       "text": [
        "[3363    3    6    0    0    3    3    5    2    0    1    5    0    0    3\n",
        "    1    0    0    1    0    1    0    3    0    1    4    3    0    1    5\n",
        "    1    0    0    0    0    1    0    1    2    2    0    0    1    0    0\n",
        "    0    0    0    0    1    0    0    0    1    0    1    0    0    0    0\n",
        "    3    0    0    5    0    0    9    0    0    0    2    3    0    2    0\n",
        "    2    0    0    0    0    4    0    0    0    2    0    0    0    1    0\n",
        "    0    0    0    3    0    0    5    0    3    0    0    0    0    0    5\n",
        "    0    5    1    0    5    0    1    1    0    1    7    1    3    0    4\n",
        "    6    0    0    0    0    1    0    1    1    1    0    0    0    1    0\n",
        "    1    1    0    1    0    0    0    2    0    0    1    3    2    0    0\n",
        "    0    1    2    0    0    2    1    0    1    0    0    0    1    1    0\n",
        "    0    1    2    1    0    1    2    0    0    0    1    5    0    1    1\n",
        "    1    0    0    0    1    1    0    0    0    0    1    0    0    5    0\n",
        "    1    0    0    0    0    0    0    0    0    0    0    0    0    0    5\n",
        "    2    5    0    3    1    0    2    1    1    4    0    3    1    1    2\n",
        "    0    1    1    0    0    0    0    0    0    0    0    0    0    0    0\n",
        "    0    0    1    0    0    1    2    0    1    0    0    0    0    0    0\n",
        "    3]\n",
        "No kmeansClusterer has been specified\n",
        "[3363    3    6    0    0    3    3    5    2    0    1    5    0    0    3\n",
        "    1    0    0    1    0    1    0    3    0    1    4    3    0    1    5\n",
        "    1    0    0    0    0    1    0    1    2    2    0    0    1    0    0\n",
        "    0    0    0    0    1    0    0    0    1    0    1    0    0    0    0\n",
        "    3    0    0    5    0    0    9    0    0    0    2    3    0    2    0\n",
        "    2    0    0    0    0    4    0    0    0    2    0    0    0    1    0\n",
        "    0    0    0    3    0    0    5    0    3    0    0    0    0    0    5\n",
        "    0    5    1    0    5    0    1    1    0    1    7    1    3    0    4\n",
        "    6    0    0    0    0    1    0    1    1    1    0    0    0    1    0\n",
        "    1    1    0    1    0    0    0    2    0    0    1    3    2    0    0\n",
        "    0    1    2    0    0    2    1    0    1    0    0    0    1    1    0\n",
        "    0    1    2    1    0    1    2    0    0    0    1    5    0    1    1\n",
        "    1    0    0    0    1    1    0    0    0    0    1    0    0    5    0\n",
        "    1    0    0    0    0    0    0    0    0    0    0    0    0    0    5\n",
        "    2    5    0    3    1    0    2    1    1    4    0    3    1    1    2\n",
        "    0    1    1    0    0    0    0    0    0    0    0    0    0    0    0\n",
        "    0    0    1    0    0    1    2    0    1    0    0    0    0    0    0\n",
        "    3]\n",
        "[0 0 0 0 0 0 0 0 0 0 0 0 0 0 0 0 0 0 0 0 0 0 0 0 0 0 0 0 0 0 0 0 0 0 0 0 0\n",
        " 0 0 0 0 0 0 0 0 0 0 0 0 0 0 0 0 0 0 0 0 0 0 0 0 0 0 0 0 0 0 0 0 0 0 0 0 0\n",
        " 0 0 0 0 0 0 0 0 0 0 0 0 0 0 0 0 0 0 0 0 0 0 0 0 0 0 0 0 0 0 0 0 0 0 0 0 0\n",
        " 0 0 0 0 0 0 0 0 0 0 0 0 0 0 0 0 0 0 0 0 0 0 0 0 0 0 0 0 0 0 0 0 0 0 0 0 0\n",
        " 0 0 0 0 0 0 0 0 0 0 0 0 0 0 0 0 0 0 0 0 0 0 0 0 0 0 0 0 0 0 0 0 0 0 0 0 0\n",
        " 0 0 0 0 0 0 0 0 0 0 0 0 0 0 0 0 0 0 0 0 0 0 0 0 0 0 0 0 0 0 0 0 0 0 0 0 0\n",
        " 0 0 0 0 0 0 0 0 0 0 0 0 0 0 0 0 0 0 0 0 0 0 0 0 0 0 0 0 0 0 0 0 0 0]\n"
       ]
      }
     ],
     "prompt_number": 24
    },
    {
     "cell_type": "code",
     "collapsed": false,
     "input": [
      "print distMat[463, 400:500]"
     ],
     "language": "python",
     "metadata": {},
     "outputs": [
      {
       "output_type": "stream",
       "stream": "stdout",
       "text": [
        "[ 0.8   0.77  0.7   0.63  0.58  0.67  0.69  0.64  0.61  0.65  0.46  0.51\n",
        "  0.43  0.46  0.55  0.66  0.65  0.7   0.76  0.67  0.61  0.55  0.6   0.68\n",
        "  0.41  0.62  0.63  0.63  0.71  0.66  0.64  0.8   0.69  0.82  0.78  0.76\n",
        "  0.71  0.76  0.72  0.78  0.74  0.65  0.73  0.8   0.7   0.71  0.76  0.75\n",
        "  0.76  0.8   0.66  0.77  0.81  0.76  0.65  0.63  0.64  0.62  0.63  0.52\n",
        "  0.53  0.53  0.42  0.04  0.46  0.64  0.71  0.64  0.63  0.7   0.83  0.74\n",
        "  0.85  0.8   0.78  0.72  0.86  0.77  0.8   0.66  0.66  0.56  0.65  0.71\n",
        "  0.65  0.62  0.71  0.66  0.7   0.84  0.8   0.8   0.8   0.75  0.74  0.81\n",
        "  0.84  0.74  0.75  0.71]\n"
       ]
      }
     ],
     "prompt_number": 20
    },
    {
     "cell_type": "code",
     "collapsed": false,
     "input": [
      "figure(); imshow(np.load(dataFolder + sampleData + \"hog_betterexamples_x3_distMat.npy\"), interpolation='nearest')"
     ],
     "language": "python",
     "metadata": {},
     "outputs": [
      {
       "metadata": {},
       "output_type": "pyout",
       "prompt_number": 35,
       "text": [
        "<matplotlib.image.AxesImage at 0x7f1476da88d0>"
       ]
      }
     ],
     "prompt_number": 35
    },
    {
     "cell_type": "code",
     "collapsed": false,
     "input": [
      "# figure(); imshow(learnedDistMat, interpolation='nearest')\n",
      "print learnedDistMat[list(np.where(np.eye(len(frames))==1))]"
     ],
     "language": "python",
     "metadata": {},
     "outputs": [
      {
       "output_type": "stream",
       "stream": "stdout",
       "text": [
        "[ 0.005  0.005  0.005 ...,  0.005  0.005  0.005]\n"
       ]
      }
     ],
     "prompt_number": 44
    },
    {
     "cell_type": "code",
     "collapsed": false,
     "input": [
      "frame1Idx = 0\n",
      "frame2Idx = 1\n",
      "frame1Loc = frames[frame1Idx]\n",
      "frame1Matte = mattes[frame1Idx]\n",
      "frame2Loc = frames[frame2Idx]\n",
      "frame2Matte = mattes[frame2Idx]\n",
      "\n",
      "# figure(); imshow(cv2.cvtColor(cv2.imread(frame1Loc), cv2.COLOR_BGR2RGB))\n",
      "# figure(); imshow(cv2.cvtColor(cv2.imread(frame2Loc), cv2.COLOR_BGR2RGB))\n",
      "\n",
      "tic = time.time()\n",
      "framesFeats = [getFramesPairFeatures(getFrameFeatures(frame1Loc, frameFeatTypes, frame1Matte), getFrameFeatures(frame2Loc, frameFeatTypes, frame2Matte), pairFeatTypes)]\n",
      "\n",
      "for i in xrange(2, 30):#len(frames)) :\n",
      "    frame2Loc = frames[i]\n",
      "    frame2Matte = mattes[i]\n",
      "    framesFeats.append(getFramesPairFeatures(getFrameFeatures(frame1Loc, frameFeatTypes, frame1Matte), getFrameFeatures(frame2Loc, frameFeatTypes, frame2Matte), pairFeatTypes))\n",
      "    print i, \n",
      "\n",
      "print time.time() - tic\n",
      "\n",
      "\n",
      "tic = time.time()\n",
      "print classifier.predict(framesFeats)\n",
      "print time.time() - tic"
     ],
     "language": "python",
     "metadata": {},
     "outputs": [
      {
       "output_type": "stream",
       "stream": "stdout",
       "text": [
        " 2 "
       ]
      },
      {
       "output_type": "stream",
       "stream": "stdout",
       "text": [
        "3 "
       ]
      },
      {
       "output_type": "stream",
       "stream": "stdout",
       "text": [
        "4 "
       ]
      },
      {
       "output_type": "stream",
       "stream": "stdout",
       "text": [
        "5 "
       ]
      },
      {
       "output_type": "stream",
       "stream": "stdout",
       "text": [
        "6 "
       ]
      },
      {
       "output_type": "stream",
       "stream": "stdout",
       "text": [
        "7 "
       ]
      },
      {
       "output_type": "stream",
       "stream": "stdout",
       "text": [
        "8 "
       ]
      },
      {
       "output_type": "stream",
       "stream": "stdout",
       "text": [
        "9 "
       ]
      },
      {
       "output_type": "stream",
       "stream": "stdout",
       "text": [
        "10 "
       ]
      },
      {
       "output_type": "stream",
       "stream": "stdout",
       "text": [
        "11 "
       ]
      },
      {
       "output_type": "stream",
       "stream": "stdout",
       "text": [
        "12 "
       ]
      },
      {
       "output_type": "stream",
       "stream": "stdout",
       "text": [
        "13 "
       ]
      },
      {
       "output_type": "stream",
       "stream": "stdout",
       "text": [
        "14 "
       ]
      },
      {
       "output_type": "stream",
       "stream": "stdout",
       "text": [
        "15 "
       ]
      },
      {
       "output_type": "stream",
       "stream": "stdout",
       "text": [
        "16 "
       ]
      },
      {
       "output_type": "stream",
       "stream": "stdout",
       "text": [
        "17 "
       ]
      },
      {
       "output_type": "stream",
       "stream": "stdout",
       "text": [
        "18 "
       ]
      },
      {
       "output_type": "stream",
       "stream": "stdout",
       "text": [
        "19 "
       ]
      },
      {
       "output_type": "stream",
       "stream": "stdout",
       "text": [
        "20 "
       ]
      },
      {
       "output_type": "stream",
       "stream": "stdout",
       "text": [
        "21 "
       ]
      },
      {
       "output_type": "stream",
       "stream": "stdout",
       "text": [
        "22 "
       ]
      },
      {
       "output_type": "stream",
       "stream": "stdout",
       "text": [
        "23 "
       ]
      },
      {
       "output_type": "stream",
       "stream": "stdout",
       "text": [
        "24 "
       ]
      },
      {
       "output_type": "stream",
       "stream": "stdout",
       "text": [
        "25 "
       ]
      },
      {
       "output_type": "stream",
       "stream": "stdout",
       "text": [
        "26 "
       ]
      },
      {
       "output_type": "stream",
       "stream": "stdout",
       "text": [
        "27 "
       ]
      },
      {
       "output_type": "stream",
       "stream": "stdout",
       "text": [
        "28 "
       ]
      },
      {
       "output_type": "stream",
       "stream": "stdout",
       "text": [
        "29 37.819901228\n"
       ]
      },
      {
       "output_type": "stream",
       "stream": "stderr",
       "text": [
        "[Parallel(n_jobs=8)]: Done   1 out of   8 | elapsed:    0.0s remaining:    0.2s\n",
        "[Parallel(n_jobs=8)]: Done   2 out of   8 | elapsed:    0.1s remaining:    0.2s\n",
        "[Parallel(n_jobs=8)]: Done   4 out of   8 | elapsed:    0.1s remaining:    0.1s\n",
        "[Parallel(n_jobs=8)]: Done   6 out of   8 | elapsed:    0.1s remaining:    0.0s\n",
        "[Parallel(n_jobs=8)]: Done   8 out of   8 | elapsed:    0.2s finished\n"
       ]
      },
      {
       "output_type": "stream",
       "stream": "stdout",
       "text": [
        "[ 0.3    0.315  0.27   0.29   0.35   0.37   0.37   0.37   0.315  0.33   0.32\n",
        "  0.365  0.37   0.39   0.465  0.495  0.515  0.525  0.55   0.57   0.535\n",
        "  0.53   0.545  0.52   0.555  0.555  0.52   0.515  0.505]\n",
        "1.0758330822\n"
       ]
      }
     ],
     "prompt_number": 49
    },
    {
     "cell_type": "code",
     "collapsed": false,
     "input": [
      "# from skimage.feature import hog\n",
      "# from skimage import color\n",
      "frame1 = np.array(cv2.cvtColor(cv2.imread(frames[1]), cv2.COLOR_BGR2RGB), dtype=np.float32)\n",
      "matte = np.array(cv2.cvtColor(cv2.imread(mattes[1]), cv2.COLOR_BGR2GRAY))/255.0\n",
      "frame1 = frame1*np.repeat(np.reshape(matte, (matte.shape[0], matte.shape[1], 1)), 3, axis=-1)\n",
      "\n",
      "image = color.rgb2gray(frame1)\n",
      "fd1, hog_image0 = hog(image, orientations=8, pixels_per_cell=(16, 16), cells_per_block=(1, 1), visualise=True)\n",
      "figure(); imshow(hog_image0, interpolation='nearest')"
     ],
     "language": "python",
     "metadata": {},
     "outputs": [
      {
       "metadata": {},
       "output_type": "pyout",
       "prompt_number": 13,
       "text": [
        "<matplotlib.image.AxesImage at 0x7f07767aa8d0>"
       ]
      }
     ],
     "prompt_number": 13
    },
    {
     "cell_type": "code",
     "collapsed": false,
     "input": [
      "# print fd0\n",
      "# print fd1\n",
      "# print np.sum(getAbsDiff(fd0, fd1))\n",
      "print labelledPairs[3, :]\n",
      "print np.sum(labelledData[3])"
     ],
     "language": "python",
     "metadata": {},
     "outputs": [
      {
       "output_type": "stream",
       "stream": "stdout",
       "text": [
        "[  3.37000000e+02   9.07000000e+02   5.00000000e-01]\n",
        "140.858124331\n"
       ]
      }
     ],
     "prompt_number": 163
    },
    {
     "cell_type": "code",
     "collapsed": false,
     "input": [
      "tic = time.time()\n",
      "print classifier.predict(framesFeats[0:10])\n",
      "print time.time() - tic"
     ],
     "language": "python",
     "metadata": {},
     "outputs": [
      {
       "output_type": "stream",
       "stream": "stderr",
       "text": [
        "[Parallel(n_jobs=8)]: Done   1 out of   8 | elapsed:    0.1s remaining:    0.5s\n",
        "[Parallel(n_jobs=8)]: Done   2 out of   8 | elapsed:    0.1s remaining:    0.2s\n",
        "[Parallel(n_jobs=8)]: Done   4 out of   8 | elapsed:    0.1s remaining:    0.1s\n",
        "[Parallel(n_jobs=8)]: Done   6 out of   8 | elapsed:    0.1s remaining:    0.0s\n",
        "[Parallel(n_jobs=8)]: Done   8 out of   8 | elapsed:    0.1s finished\n"
       ]
      },
      {
       "output_type": "stream",
       "stream": "stdout",
       "text": [
        "[ 0.195  0.22   0.23   0.255  0.26   0.205  0.175  0.11   0.34   0.32 ]\n",
        "3.91902804375\n"
       ]
      }
     ],
     "prompt_number": 19
    },
    {
     "cell_type": "code",
     "collapsed": false,
     "input": [
      "############# GETTING FEATURES FROM FRAMES ###############\n",
      "\n",
      "## compute features for image\n",
      "blocksPerWidth = 4#16#32\n",
      "blocksPerHeight = 4#16#48\n",
      "subDivisions = blocksPerWidth*blocksPerHeight\n",
      "\n",
      "## given block sizes and img sizes build indices representing each block\n",
      "imageSize = np.array(cv2.cvtColor(cv2.imread(frames[0]), cv2.COLOR_BGR2RGB)).shape\n",
      "stencils = cgf.stencil2D(blocksPerWidth, blocksPerHeight, imageSize)\n",
      "\n",
      "# features = cgf.histFgFeatures(stencils, subDivisions, frames, mattes)\n",
      "features = np.load(\"tmpfeat.npy\")\n",
      "figure(); imshow(features.T, interpolation='nearest')\n",
      "\n",
      "# np.save(\"tmpfeat.npy\", features)"
     ],
     "language": "python",
     "metadata": {},
     "outputs": [
      {
       "metadata": {},
       "output_type": "pyout",
       "prompt_number": 3,
       "text": [
        "<matplotlib.image.AxesImage at 0x7efed447a5d0>"
       ]
      }
     ],
     "prompt_number": 3
    },
    {
     "cell_type": "code",
     "collapsed": false,
     "input": [
      "data_frame = np.array(cv2.cvtColor(cv2.imread(frames[0]), cv2.COLOR_BGR2RGB), dtype=np.float32)\n",
      "tmp = data_frame.reshape((np.prod(data_frame.shape[0:-1]), 3))\n",
      "print data_frame[400, 500, :]\n",
      "print tmp[400*1280+500, :]\n",
      "features = np.empty((0, 3))\n",
      "print np.concatenate((features, tmp))\n",
      "print np.sqrt(np.sum(np.power(tmp[0:-1, :]-tmp[1:, :],2), axis=-1))"
     ],
     "language": "python",
     "metadata": {},
     "outputs": [
      {
       "output_type": "stream",
       "stream": "stdout",
       "text": [
        "[ 218.   39.  178.]\n",
        "[ 218.   39.  178.]\n",
        "[[ 174.   24.  141.]\n",
        " [ 173.   23.  140.]\n",
        " [ 174.   21.  139.]\n",
        " ..., \n",
        " [ 192.   28.  150.]\n",
        " [ 196.   28.  151.]\n",
        " [ 197.   29.  152.]]\n",
        "[ 1.73205078  2.44948983  1.73205078 ...,  0.          4.12310553\n",
        "  1.73205078]"
       ]
      },
      {
       "output_type": "stream",
       "stream": "stdout",
       "text": [
        "\n"
       ]
      }
     ],
     "prompt_number": 47
    },
    {
     "cell_type": "code",
     "collapsed": false,
     "input": [
      "figure(); imshow(labelledData[0].reshape((720, 1280)))\n",
      "scatter(700, 200)\n",
      "frame1 = np.array(cv2.cvtColor(cv2.imread(frames[labelledPairs[0, 0]]), cv2.COLOR_BGR2RGB), dtype=np.float32)\n",
      "matte = np.array(cv2.cvtColor(cv2.imread(mattes[labelledPairs[0, 0]]), cv2.COLOR_BGR2GRAY))/255.0\n",
      "frame1 = frame1*np.repeat(np.reshape(matte, (matte.shape[0], matte.shape[1], 1)), 3, axis=-1)\n",
      "frame2 = np.array(cv2.cvtColor(cv2.imread(frames[labelledPairs[0, 1]]), cv2.COLOR_BGR2RGB), dtype=np.float32)\n",
      "matte = np.array(cv2.cvtColor(cv2.imread(mattes[labelledPairs[0, 1]]), cv2.COLOR_BGR2GRAY))/255.0\n",
      "frame2 = frame2*np.repeat(np.reshape(matte, (matte.shape[0], matte.shape[1], 1)), 3, axis=-1)\n",
      "figure(); imshow(frame1)\n",
      "figure(); imshow(frame2)\n",
      "print labelledData[0][200*1280+700]\n",
      "print frame1[200, 700, :]\n",
      "print frame2[200, 700, :]\n",
      "np.sqrt(np.sum(np.power(frame1[200, 700, :]-frame2[200, 700, :],2)))"
     ],
     "language": "python",
     "metadata": {},
     "outputs": [
      {
       "output_type": "stream",
       "stream": "stderr",
       "text": [
        "-c:3: DeprecationWarning: using a non-integer number instead of an integer will result in an error in the future\n",
        "-c:4: DeprecationWarning: using a non-integer number instead of an integer will result in an error in the future\n",
        "-c:6: DeprecationWarning: using a non-integer number instead of an integer will result in an error in the future\n"
       ]
      },
      {
       "output_type": "stream",
       "stream": "stdout",
       "text": [
        "8.48528137424\n",
        "[ 15.  25.   6.]\n",
        "[ 21.  19.   6.]\n"
       ]
      },
      {
       "output_type": "stream",
       "stream": "stderr",
       "text": [
        "-c:7: DeprecationWarning: using a non-integer number instead of an integer will result in an error in the future\n"
       ]
      },
      {
       "metadata": {},
       "output_type": "pyout",
       "prompt_number": 84,
       "text": [
        "8.4852813742385695"
       ]
      }
     ],
     "prompt_number": 84
    },
    {
     "cell_type": "code",
     "collapsed": false,
     "input": [
      "clf = ensemble.ExtraTreesClassifier()\n",
      "\n",
      "#         print len(data_frames), len(trimaps)\n",
      "data_frame = cv2.cvtColor(cv2.imread(frames[0]), cv2.COLOR_BGR2RGB)\n",
      "idxs = np.indices(data_frame.shape[:2]).swapaxes(-1, 0).swapaxes(0, 1)\n",
      "#         print idxs.shape, data_frames[0].shape\n",
      "data = np.concatenate((data_frame, idxs), axis=-1)\n",
      "print idxs.shape, data.shape\n",
      "\n",
      "trimap = np.array(cv2.cvtColor(cv2.imread(dataFolder + sampleData + \"trimap-frame-00001.png\"), cv2.COLOR_BGR2GRAY), dtype=np.uint8)\n",
      "print trimap.shape\n",
      "\n",
      "# # extract training data\n",
      "background = data[trimap == 0]\n",
      "foreground = data[trimap == 2]\n",
      "\n",
      "print background.shape, foreground.shape\n",
      "\n",
      "background = np.vstack((background, data[trimap == 0]))\n",
      "foreground = np.vstack((foreground, data[trimap == 2]))\n",
      "\n",
      "print background.shape, foreground.shape\n",
      "\n",
      "# for data_frame, trimap in zip(data_frames[1:], trimaps[1:]) :\n",
      "# #             print background.shape, foreground.shape\n",
      "    \n",
      "#     idxs = np.indices(data_frame.shape[:2]).swapaxes(-1, 0).swapaxes(0, 1)\n",
      "# #             print idxs.shape, data_frame.shape\n",
      "#     data = np.concatenate((data_frame, idxs), axis=-1)\n",
      "\n",
      "#     # extract training data\n",
      "#     background = np.vstack((background, data[trimap == 0]))\n",
      "#     foreground = np.vstack((foreground, data[trimap == 2]))"
     ],
     "language": "python",
     "metadata": {},
     "outputs": [
      {
       "output_type": "stream",
       "stream": "stdout",
       "text": [
        "(720, 1280, 2) (720, 1280, 5)\n",
        "(720, 1278)\n",
        "(906628, 5)"
       ]
      },
      {
       "output_type": "stream",
       "stream": "stdout",
       "text": [
        " (7929, 5)\n",
        "(1813256, 5)"
       ]
      },
      {
       "output_type": "stream",
       "stream": "stdout",
       "text": [
        " (15858, 5)\n"
       ]
      }
     ],
     "prompt_number": 3
    },
    {
     "cell_type": "code",
     "collapsed": false,
     "input": [
      "print np.array(X).shape"
     ],
     "language": "python",
     "metadata": {},
     "outputs": [
      {
       "output_type": "stream",
       "stream": "stdout",
       "text": [
        "(12, 1)\n"
       ]
      }
     ],
     "prompt_number": 5
    },
    {
     "cell_type": "code",
     "collapsed": false,
     "input": [
      "X = [[0], [10], [5], [0], [10], [5], [0], [10], [5], [0], [10], [5]]\n",
      "y = [0.0, 1.0, 0.5, 0.0, 1.0, 0.5, 0.0, 1.0, 0.5, 0.0, 1.0, 0.5]\n",
      "clf = ensemble.RandomForestRegressor()\n",
      "clf = clf.fit(X, y)\n",
      "clf.predict([7])"
     ],
     "language": "python",
     "metadata": {},
     "outputs": [
      {
       "metadata": {},
       "output_type": "pyout",
       "prompt_number": 3,
       "text": [
        "array([ 0.5])"
       ]
      }
     ],
     "prompt_number": 3
    },
    {
     "cell_type": "code",
     "collapsed": false,
     "input": [
      "X, y = make_blobs(n_samples=1000, centers=2, n_features=2,\n",
      "                  random_state=0)\n",
      "# print X\n",
      "# print y\n",
      "\n",
      "clf = ensemble.RandomForestRegressor(n_estimators=10, max_depth=None, min_samples_split=1, random_state=0)\n",
      "clf.fit(X, y)"
     ],
     "language": "python",
     "metadata": {},
     "outputs": [
      {
       "metadata": {},
       "output_type": "pyout",
       "prompt_number": 3,
       "text": [
        "RandomForestRegressor(bootstrap=True, compute_importances=None,\n",
        "           criterion='mse', max_depth=None, max_features='auto',\n",
        "           min_density=None, min_samples_leaf=1, min_samples_split=1,\n",
        "           n_estimators=10, n_jobs=1, oob_score=False, random_state=0,\n",
        "           verbose=0)"
       ]
      }
     ],
     "prompt_number": 3
    },
    {
     "cell_type": "code",
     "collapsed": false,
     "input": [
      "figure()\n",
      "scatter(X[np.argwhere(y==0), 0], X[np.argwhere(y==0), 1], c='b', marker='x')\n",
      "scatter(X[np.argwhere(y==1), 0], X[np.argwhere(y==1), 1], c='r', marker='x')\n",
      "scatter(X[np.argwhere(y==2), 0], X[np.argwhere(y==2), 1], c='g', marker='x')"
     ],
     "language": "python",
     "metadata": {},
     "outputs": [
      {
       "metadata": {},
       "output_type": "pyout",
       "prompt_number": 4,
       "text": [
        "<matplotlib.collections.PathCollection at 0x7f68b4dba850>"
       ]
      }
     ],
     "prompt_number": 4
    },
    {
     "cell_type": "code",
     "collapsed": false,
     "input": [
      "minX = np.floor(np.min(X[:, 0]))\n",
      "maxX = np.ceil(np.max(X[:, 0]))\n",
      "minY = np.floor(np.min(X[:, 1]))\n",
      "maxY = np.ceil(np.max(X[:, 1]))\n",
      "xs = np.linspace(minX, maxX, (np.abs(minX-maxX)+1)*1)\n",
      "ys = np.linspace(minY, maxY, (np.abs(minY-maxY)+1)*1)\n",
      "xv, yv = np.meshgrid(xs, ys)\n",
      "newData = np.array([np.ndarray.flatten(xv), np.ndarray.flatten(yv)]).T\n",
      "predictedClasses = clf.predict(newData)\n",
      "print predictedClasses\n",
      "figure()\n",
      "scatter(newData[np.argwhere(predictedClasses==0), 0], newData[np.argwhere(predictedClasses==0), 1], c='b', marker='x')\n",
      "scatter(newData[np.argwhere(predictedClasses==1), 0], newData[np.argwhere(predictedClasses==1), 1], c='r', marker='x')\n",
      "scatter(newData[np.argwhere(predictedClasses==2), 0], newData[np.argwhere(predictedClasses==2), 1], c='g', marker='x')"
     ],
     "language": "python",
     "metadata": {},
     "outputs": [
      {
       "output_type": "stream",
       "stream": "stdout",
       "text": [
        "[ 0.9  0.9  1.   1.   1.   1.   1.   1.   1.   0.9  0.9  1.   1.   1.   1.\n",
        "  1.   1.   1.   0.9  0.9  1.   1.   1.   1.   1.   1.   1.   0.9  0.9  1.\n",
        "  1.   1.   1.   1.   1.   1.   0.8  0.8  0.9  0.8  0.8  1.   0.9  0.9  0.9\n",
        "  0.   0.   0.   0.   0.7  0.5  0.2  0.2  0.2  0.   0.   0.   0.   0.   0.\n",
        "  0.   0.   0.   0.   0.   0.   0.   0.   0.   0.   0.   0.   0.   0.   0.\n",
        "  0.   0.   0.   0.   0.   0.   0.   0.   0.   0.   0.   0.   0.   0.   0.\n",
        "  0.   0.   0.   0.   0.   0.   0.   0.   0. ]\n"
       ]
      },
      {
       "metadata": {},
       "output_type": "pyout",
       "prompt_number": 5,
       "text": [
        "<matplotlib.collections.PathCollection at 0x7f68b43201d0>"
       ]
      }
     ],
     "prompt_number": 5
    },
    {
     "cell_type": "code",
     "collapsed": false,
     "input": [
      "print ((np.abs(minX-maxX)+1)*10, (np.abs(minY-maxY)+1)*10)\n",
      "predictedClasses2D = np.zeros(np.array((((np.abs(minY-maxY)+1)*1, np.abs(minX-maxX)+1)*1), dtype=int))\n",
      "for i, j in zip(predictedClasses2D.shape[0]-1-arange(predictedClasses2D.shape[0]), arange(predictedClasses2D.shape[0])) :\n",
      "    print i, j*predictedClasses2D.shape[1], (j+1)*predictedClasses2D.shape[1]\n",
      "    predictedClasses2D[i, :] = predictedClasses[j*predictedClasses2D.shape[1]:(j+1)*predictedClasses2D.shape[1]]\n",
      "figure(); imshow(predictedClasses2D, interpolation='nearest')"
     ],
     "language": "python",
     "metadata": {},
     "outputs": [
      {
       "output_type": "stream",
       "stream": "stdout",
       "text": [
        "(90.0, 110.0)\n",
        "10 0 9\n",
        "9 9 18\n",
        "8 18 27\n",
        "7 27 36\n",
        "6 36 45\n",
        "5 45 54\n",
        "4 54 63\n",
        "3 63 72\n",
        "2 72 81\n",
        "1 81 90\n",
        "0 90 99\n"
       ]
      },
      {
       "metadata": {},
       "output_type": "pyout",
       "prompt_number": 6,
       "text": [
        "<matplotlib.image.AxesImage at 0x7f68b4000b90>"
       ]
      }
     ],
     "prompt_number": 6
    },
    {
     "cell_type": "code",
     "collapsed": false,
     "input": [
      "class ImageLabel(QtGui.QLabel) :\n",
      "    \n",
      "    def __init__(self, text, parent=None):\n",
      "        super(ImageLabel, self).__init__(text, parent)\n",
      "        \n",
      "    def setPixmap(self, pixmap) :\n",
      "        if pixmap.width() > self.width() :\n",
      "            super(ImageLabel, self).setPixmap(pixmap.scaledToWidth(self.width()))\n",
      "        else :\n",
      "            super(ImageLabel, self).setPixmap(pixmap)\n",
      "        \n",
      "    def resizeEvent(self, event) :\n",
      "        if self.pixmap() != None :\n",
      "            if self.pixmap().width() > self.width() :\n",
      "                self.setPixmap(self.pixmap().scaledToWidth(self.width()))\n",
      "                \n",
      "class Window(QtGui.QWidget):\n",
      "    def __init__(self):\n",
      "        super(Window, self).__init__()\n",
      "        \n",
      "        self.createGUI()\n",
      "        \n",
      "        self.setWindowTitle(\"Semantic Distance Metric Learning\")\n",
      "        self.resize(1280, 720)\n",
      "        \n",
      "        self.labelledPairs = []\n",
      "#         self.labelledPairs.append([1234, 234, 0.5])\n",
      "#         self.setLabelledFramesListTable()\n",
      "\n",
      "        self.RANDOM_CHOICE = 0\n",
      "        self.SET_CHOICE = 1\n",
      "        self.choiceMode = self.RANDOM_CHOICE\n",
      "        \n",
      "        self.choiceSet1 = arange(100)\n",
      "        self.choiceSet2 = arange(100)\n",
      "        \n",
      "        self.getNewPair()\n",
      "        \n",
      "        self.setFocus()\n",
      "        \n",
      "    def setLabelledFramesListTable(self) :\n",
      "        \n",
      "        if len(self.labelledPairs) > 0 :\n",
      "            self.labelledFramesListTable.setRowCount(len(self.labelledPairs))\n",
      "            \n",
      "            for pairing, i in zip(self.labelledPairs, arange(len(self.labelledPairs))) :\n",
      "                self.labelledFramesListTable.setItem(i, 0, QtGui.QTableWidgetItem(np.string_(pairing[0])))\n",
      "                self.labelledFramesListTable.setItem(i, 1, QtGui.QTableWidgetItem(np.string_(pairing[1])))\n",
      "                self.labelledFramesListTable.setItem(i, 2, QtGui.QTableWidgetItem(np.string_(pairing[2])))\n",
      "        else :\n",
      "            self.labelledFramesListTable.setRowCount(0)\n",
      "    \n",
      "    def getNewPair(self) :\n",
      "        if self.choiceMode == self.RANDOM_CHOICE :\n",
      "            self.getNewRandomPair()\n",
      "        elif self.choiceMode == self.SET_CHOICE :\n",
      "            self.getNewPairFromSet()\n",
      "    \n",
      "    def getNewPairFromSet(self) :\n",
      "        self.frame1Idx = np.random.choice(self.choiceSet1)\n",
      "        self.frame2Idx = np.random.choice(self.choiceSet2) \n",
      "        while self.frame2Idx == self.frame1Idx :\n",
      "            print \"stuck\"\n",
      "            self.frame2Idx = np.random.choice(self.choiceSet2)\n",
      "        \n",
      "        self.setFrameImages()\n",
      "            \n",
      "    def getNewRandomPair(self) :\n",
      "        self.frame1Idx = np.random.randint(0, len(frames))\n",
      "        self.frame2Idx = np.random.randint(0, len(frames)) \n",
      "        while self.frame2Idx == self.frame1Idx :\n",
      "            print \"stuck 2\"\n",
      "            self.frame2Idx = np.random.randint(0, len(frames))\n",
      "        \n",
      "        self.setFrameImages()\n",
      "        \n",
      "    def setFrameImages(self) :\n",
      "        ## HACK ##\n",
      "        im = np.ascontiguousarray(Image.open(frames[self.frame1Idx]))\n",
      "        qim = QtGui.QImage(im.data, im.shape[1], im.shape[0], im.strides[0], QtGui.QImage.Format_RGB888);\n",
      "        self.frame1Label.setPixmap(QtGui.QPixmap.fromImage(qim))\n",
      "        self.frame1Info.setText(frames[self.frame1Idx])\n",
      "        \n",
      "        im = np.ascontiguousarray(Image.open(frames[self.frame2Idx]))\n",
      "        qim = QtGui.QImage(im.data, im.shape[1], im.shape[0], im.strides[0], QtGui.QImage.Format_RGB888);\n",
      "        self.frame2Label.setPixmap(QtGui.QPixmap.fromImage(qim))\n",
      "        self.frame2Info.setText(frames[self.frame2Idx])\n",
      "        \n",
      "    def existingPairSelected(self) :\n",
      "        selectedRow = self.labelledFramesListTable.currentRow()\n",
      "        if selectedRow >= 0 and selectedRow < len(self.labelledPairs):\n",
      "            ## HACK ##\n",
      "            im = np.ascontiguousarray(Image.open(frames[self.labelledPairs[selectedRow][0]]))\n",
      "            qim = QtGui.QImage(im.data, im.shape[1], im.shape[0], im.strides[0], QtGui.QImage.Format_RGB888);\n",
      "            self.frame1Label.setPixmap(QtGui.QPixmap.fromImage(qim))\n",
      "            self.frame1Info.setText(frames[self.labelledPairs[selectedRow][0]])\n",
      "            \n",
      "            im = np.ascontiguousarray(Image.open(frames[self.labelledPairs[selectedRow][1]]))\n",
      "            qim = QtGui.QImage(im.data, im.shape[1], im.shape[0], im.strides[0], QtGui.QImage.Format_RGB888);\n",
      "            self.frame2Label.setPixmap(QtGui.QPixmap.fromImage(qim))\n",
      "            self.frame2Info.setText(frames[self.labelledPairs[selectedRow][1]])\n",
      "        \n",
      "    def keyPressEvent(self, e) :\n",
      "        if e.key() == QtCore.Qt.Key_Up :\n",
      "            return\n",
      "#             self.labelledFramesListTable.clearSelection()\n",
      "        elif e.key() == QtCore.Qt.Key_Down : ## Distance is in the middle\n",
      "            self.setFramePairDistance(0.5)\n",
      "        elif e.key() == QtCore.Qt.Key_Left : ## Distance is low\n",
      "            self.setFramePairDistance(0.0)\n",
      "        elif e.key() == QtCore.Qt.Key_Right : ## Distance is high\n",
      "            self.setFramePairDistance(1.0)\n",
      "        elif e.key() == QtCore.Qt.Key_Space : ## Get new pair\n",
      "            self.getNewPair()\n",
      "            \n",
      "    def setFramePairDistance(self, distance) :\n",
      "        if self.labelledFramesListTable.currentRow() >= 0 : ## I'm modifying distance of existing pair\n",
      "            self.labelledPairs[self.labelledFramesListTable.currentRow()][2] = distance\n",
      "        else :\n",
      "            self.labelledPairs.append([self.frame1Idx, self.frame2Idx, distance])\n",
      "            \n",
      "        self.labelledFramesListTable.clearSelection()\n",
      "        self.labelledFramesListTable.setCurrentCell(-1, -1)\n",
      "        self.setLabelledFramesListTable()\n",
      "        \n",
      "        self.getNewPair()\n",
      "        \n",
      "    def changeChoiceMode(self, index) :\n",
      "        if index == self.RANDOM_CHOICE :\n",
      "            self.choiceMode = self.RANDOM_CHOICE\n",
      "            self.choiceSetIntervals.setEnabled(False)\n",
      "            self.choiceSetIntervals.setVisible(False)\n",
      "        elif index == self.SET_CHOICE :\n",
      "            self.choiceMode = self.SET_CHOICE\n",
      "            self.choiceSetIntervals.setEnabled(True)\n",
      "            self.choiceSetIntervals.setVisible(True)\n",
      "        \n",
      "        self.getNewPair()\n",
      "        \n",
      "    def changeChoiceSets(self) :\n",
      "        choiceSetsText = self.choiceSetIntervals.text()\n",
      "        intervals = np.array(re.split(\"-|:\", choiceSetsText), dtype=int)\n",
      "        if len(intervals) == 2 :\n",
      "            self.choiceSet1 = arange(intervals[0], intervals[1]+1)\n",
      "            self.choiceSet2 = arange(intervals[0], intervals[1]+1)\n",
      "        elif len(intervals) == 4 :\n",
      "            self.choiceSet1 = arange(intervals[0], intervals[1]+1)\n",
      "            self.choiceSet2 = arange(intervals[2], intervals[3]+1)\n",
      "            \n",
      "        self.setFocus()\n",
      "        self.getNewPair()\n",
      "        \n",
      "    def createGUI(self) :\n",
      "        \n",
      "        ## WIDGETS ##\n",
      "        \n",
      "        self.frame1Label = ImageLabel(\"Frame 1\")\n",
      "        self.frame1Label.setSizePolicy(QtGui.QSizePolicy.MinimumExpanding, QtGui.QSizePolicy.MinimumExpanding)\n",
      "        self.frame1Label.setAlignment(QtCore.Qt.AlignCenter | QtCore.Qt.AlignHCenter)\n",
      "        \n",
      "        self.frame2Label = ImageLabel(\"Frame 2\")\n",
      "        self.frame2Label.setSizePolicy(QtGui.QSizePolicy.MinimumExpanding, QtGui.QSizePolicy.MinimumExpanding)\n",
      "        self.frame2Label.setAlignment(QtCore.Qt.AlignCenter | QtCore.Qt.AlignHCenter)\n",
      "        \n",
      "        self.frame1Info = QtGui.QLabel(\"Info text\")\n",
      "        self.frame1Info.setAlignment(QtCore.Qt.AlignCenter | QtCore.Qt.AlignHCenter)\n",
      "        self.frame2Info = QtGui.QLabel(\"Info text\")\n",
      "        self.frame2Info.setAlignment(QtCore.Qt.AlignCenter | QtCore.Qt.AlignHCenter)\n",
      "        \n",
      "        self.labelledFramesListTable = QtGui.QTableWidget(0, 3)\n",
      "        self.labelledFramesListTable.horizontalHeader().setStretchLastSection(True)\n",
      "        self.labelledFramesListTable.setHorizontalHeaderItem(0, QtGui.QTableWidgetItem(\"Index f1\"))\n",
      "        self.labelledFramesListTable.setHorizontalHeaderItem(1, QtGui.QTableWidgetItem(\"Index f2\"))\n",
      "        self.labelledFramesListTable.setHorizontalHeaderItem(2, QtGui.QTableWidgetItem(\"Distance\"))\n",
      "        self.labelledFramesListTable.horizontalHeader().setResizeMode(QtGui.QHeaderView.ResizeToContents)\n",
      "#         self.labelledFramesListTable.setItem(0, 0, QtGui.QTableWidgetItem(\"No Labelled Frames\"))\n",
      "        self.labelledFramesListTable.setSizePolicy(QtGui.QSizePolicy.Minimum, QtGui.QSizePolicy.Minimum)\n",
      "        self.labelledFramesListTable.setEditTriggers(QtGui.QAbstractItemView.NoEditTriggers)\n",
      "        self.labelledFramesListTable.setSelectionBehavior(QtGui.QAbstractItemView.SelectRows)\n",
      "        self.labelledFramesListTable.setSelectionMode(QtGui.QAbstractItemView.SingleSelection)\n",
      "        self.labelledFramesListTable.setFocusPolicy(QtCore.Qt.NoFocus)\n",
      "        \n",
      "        self.choiceModeComboBox = QtGui.QComboBox()\n",
      "        self.choiceModeComboBox.addItem(\"Random\")\n",
      "        self.choiceModeComboBox.addItem(\"Set\")\n",
      "        self.choiceModeComboBox.setFocusPolicy(QtCore.Qt.NoFocus)\n",
      "        \n",
      "        self.choiceSetIntervals = QtGui.QLineEdit()\n",
      "        self.choiceSetIntervals.setEnabled(False)\n",
      "        self.choiceSetIntervals.setVisible(False)\n",
      "        \n",
      "        \n",
      "        ## SIGNALS ##\n",
      "        \n",
      "        self.labelledFramesListTable.cellPressed.connect(self.existingPairSelected)\n",
      "        self.choiceModeComboBox.currentIndexChanged[int].connect(self.changeChoiceMode)\n",
      "        self.choiceSetIntervals.returnPressed.connect(self.changeChoiceSets)\n",
      "        \n",
      "        ## LAYOUTS ##\n",
      "        \n",
      "        mainLayout = QtGui.QHBoxLayout()\n",
      "        controlsLayout = QtGui.QVBoxLayout()\n",
      "        controlsLayout.addWidget(self.labelledFramesListTable)\n",
      "        controlsLayout.addWidget(self.choiceModeComboBox)\n",
      "        controlsLayout.addWidget(self.choiceSetIntervals)\n",
      "        frame1Layout = QtGui.QVBoxLayout()\n",
      "        frame1Layout.addWidget(self.frame1Label)\n",
      "        frame1Layout.addWidget(self.frame1Info)\n",
      "        frame2Layout = QtGui.QVBoxLayout()\n",
      "        frame2Layout.addWidget(self.frame2Label)\n",
      "        frame2Layout.addWidget(self.frame2Info)\n",
      "        mainLayout.addLayout(controlsLayout)\n",
      "        mainLayout.addLayout(frame1Layout)\n",
      "        mainLayout.addLayout(frame2Layout)\n",
      "        self.setLayout(mainLayout)"
     ],
     "language": "python",
     "metadata": {},
     "outputs": [],
     "prompt_number": 71
    },
    {
     "cell_type": "code",
     "collapsed": false,
     "input": [
      "class ImageLabel(QtGui.QLabel) :\n",
      "    \n",
      "    def __init__(self, text, parent=None):\n",
      "        super(ImageLabel, self).__init__(text, parent)\n",
      "        \n",
      "    def setPixmap(self, pixmap) :\n",
      "        if pixmap.width() > self.width() :\n",
      "            super(ImageLabel, self).setPixmap(pixmap.scaledToWidth(self.width()))\n",
      "        else :\n",
      "            super(ImageLabel, self).setPixmap(pixmap)\n",
      "        \n",
      "    def resizeEvent(self, event) :\n",
      "        if self.pixmap() != None :\n",
      "            if self.pixmap().width() > self.width() :\n",
      "                self.setPixmap(self.pixmap().scaledToWidth(self.width()))\n",
      "                \n",
      "class Window(QtGui.QWidget):\n",
      "    def __init__(self):\n",
      "        super(Window, self).__init__()\n",
      "        \n",
      "        self.createGUI()\n",
      "        \n",
      "        self.setWindowTitle(\"Appearance Distance Metric Learning\")\n",
      "        self.resize(1280, 720)\n",
      "        \n",
      "        self.textureTimer = QtCore.QTimer(self)\n",
      "        self.textureTimer.setInterval(1000/30)\n",
      "        self.textureTimer.start()\n",
      "        self.textureTimer.timeout.connect(self.renderOneFrame)\n",
      "        self.visualizeMovie = False\n",
      "        self.currentVisFrame = 0\n",
      "        self.showMatted = True\n",
      "        \n",
      "        self.labelJumpStyle = \"QLabel {border: 1px solid black; background: #aa0000; color: white; padding-left: 5px; padding-right: 5px;}\"\n",
      "        self.labelNoJumpStyle = \"QLabel {border: 1px solid gray; background: #eeeeee; color: black; padding-left: 5px; padding-right: 5px;}\"\n",
      "        \n",
      "        self.additionalFrames = 5\n",
      "        \n",
      "        self.labelledPairs = []#np.copy(labelledPairs)#[]#list(np.load(\"appearanceLabelledPairs.npy\"))\n",
      "        self.setLabelledFramesListTable()\n",
      "#         self.labelledPairs.append([1234, 234, 0.5])\n",
      "#         self.setLabelledFramesListTable()\n",
      "\n",
      "        self.RANDOM_CHOICE = 0\n",
      "        self.SET_CHOICE = 1\n",
      "        self.choiceMode = self.RANDOM_CHOICE\n",
      "        \n",
      "        self.choiceSet1 = arange(100)\n",
      "        self.choiceSet2 = arange(100)\n",
      "        \n",
      "        self.getNewPair()\n",
      "        \n",
      "        self.setFocus()\n",
      "        \n",
      "    def setRenderFps(self, value) :\n",
      "        self.textureTimer.setInterval(1000/value)\n",
      "        \n",
      "    def finishedSettingFps(self) :\n",
      "        self.setFocus()\n",
      "        \n",
      "    def setTextureFrame(self, im, alpha):\n",
      "        im = np.ascontiguousarray(im)\n",
      "        \n",
      "        if alpha :\n",
      "            qim = QtGui.QImage(im.data, im.shape[1], im.shape[0], im.strides[0], QtGui.QImage.Format_ARGB32);\n",
      "        else :\n",
      "            qim = QtGui.QImage(im.data, im.shape[1], im.shape[0], im.strides[0], QtGui.QImage.Format_RGB888);\n",
      "            \n",
      "        self.movieLabel.setPixmap(QtGui.QPixmap.fromImage(qim))\n",
      "        \n",
      "    def renderOneFrame(self):\n",
      "        if self.visualizeMovie:\n",
      "            try:\n",
      "                self.movie\n",
      "                self.currentVisFrame\n",
      "            except AttributeError:\n",
      "                return\n",
      "            else:\n",
      "                if self.currentVisFrame < 0 or self.currentVisFrame >= len(self.movie) :\n",
      "                    self.currentVisFrame = 0\n",
      "                    \n",
      "                frameIdx = self.movie[self.currentVisFrame]\n",
      "                \n",
      "                if self.showMatted and os.path.isfile(mattes[frameIdx]) :\n",
      "                    alphaMatte = cv2.cvtColor(cv2.imread(mattes[frameIdx]), cv2.COLOR_BGR2GRAY)\n",
      "                    alphaMatte = np.reshape(alphaMatte, np.hstack((alphaMatte.shape[0:2], 1)))\n",
      "                    self.setTextureFrame(np.concatenate((cv2.imread(frames[frameIdx]), alphaMatte), axis=-1), True)\n",
      "                else :\n",
      "                    self.textureViewerGroup.setTextureFrame(cv2.imread(frames[frameIdx], False))\n",
      "                    \n",
      "                if self.currentVisFrame == 6 :\n",
      "                    self.movieInfo.setStyleSheet(self.labelJumpStyle)\n",
      "                else :\n",
      "                    self.movieInfo.setStyleSheet(self.labelNoJumpStyle)\n",
      "                    \n",
      "                self.movieInfo.setText(np.str_(self.currentVisFrame) + \" from \" + np.str_(frameIdx))\n",
      "                \n",
      "                self.currentVisFrame = np.mod(self.currentVisFrame+1, len(self.movie))\n",
      "        \n",
      "    def setLabelledFramesListTable(self) :\n",
      "        \n",
      "        if len(self.labelledPairs) > 0 :\n",
      "            self.labelledFramesListTable.setRowCount(len(self.labelledPairs))\n",
      "            \n",
      "            for pairing, i in zip(self.labelledPairs, arange(len(self.labelledPairs))) :\n",
      "                self.labelledFramesListTable.setItem(i, 0, QtGui.QTableWidgetItem(np.string_(pairing[0])))\n",
      "                self.labelledFramesListTable.setItem(i, 1, QtGui.QTableWidgetItem(np.string_(pairing[1])))\n",
      "                self.labelledFramesListTable.setItem(i, 2, QtGui.QTableWidgetItem(np.string_(pairing[2])))\n",
      "        else :\n",
      "            self.labelledFramesListTable.setRowCount(0)\n",
      "    \n",
      "    def getNewPair(self) :\n",
      "        if self.choiceMode == self.RANDOM_CHOICE :\n",
      "            self.getNewRandomPair()\n",
      "        elif self.choiceMode == self.SET_CHOICE :\n",
      "            self.getNewPairFromSet()\n",
      "    \n",
      "    def getNewPairFromSet(self) :\n",
      "        self.frame1Idx = np.random.choice(self.choiceSet1)\n",
      "        self.frame2Idx = np.random.choice(self.choiceSet2) \n",
      "        while self.frame2Idx == self.frame1Idx :\n",
      "            print \"stuck\"\n",
      "            self.frame2Idx = np.random.choice(self.choiceSet2)\n",
      "        \n",
      "        self.setMovie()\n",
      "            \n",
      "    def getNewRandomPair(self) :\n",
      "        self.frame1Idx = np.random.randint(0, len(frames)-self.additionalFrames-3)\n",
      "        self.frame2Idx = np.random.randint(0, len(frames)-self.additionalFrames-3) \n",
      "        while self.frame2Idx == self.frame1Idx :\n",
      "            print \"stuck 2\"\n",
      "            self.frame2Idx = np.random.randint(0, len(frames)-self.additionalFrames-3)\n",
      "        \n",
      "        self.setMovie()\n",
      "        \n",
      "    def setMovie(self) :\n",
      "        self.visualizeMovie = False\n",
      "        \n",
      "        self.movie = np.arange(self.frame1Idx-self.additionalFrames, self.frame1Idx+1, dtype=int)\n",
      "        self.movie = np.concatenate((self.movie, np.arange(self.frame2Idx+1, self.frame2Idx+self.additionalFrames+2, dtype=int)))\n",
      "        \n",
      "        print self.movie, self.frame1Idx, self.frame2Idx\n",
      "        \n",
      "        self.visualizeMovie = True\n",
      "#         ## HACK ##\n",
      "#         im = np.ascontiguousarray(Image.open(frames[self.frame1Idx]))\n",
      "#         qim = QtGui.QImage(im.data, im.shape[1], im.shape[0], im.strides[0], QtGui.QImage.Format_RGB888);\n",
      "#         self.frame1Label.setPixmap(QtGui.QPixmap.fromImage(qim))\n",
      "#         self.frame1Info.setText(frames[self.frame1Idx])\n",
      "        \n",
      "#         im = np.ascontiguousarray(Image.open(frames[self.frame2Idx]))\n",
      "#         qim = QtGui.QImage(im.data, im.shape[1], im.shape[0], im.strides[0], QtGui.QImage.Format_RGB888);\n",
      "#         self.frame2Label.setPixmap(QtGui.QPixmap.fromImage(qim))\n",
      "#         self.frame2Info.setText(frames[self.frame2Idx])\n",
      "        \n",
      "    def existingPairSelected(self) :\n",
      "        selectedRow = self.labelledFramesListTable.currentRow()\n",
      "        if selectedRow >= 0 and selectedRow < len(self.labelledPairs):\n",
      "            self.frame1Idx = self.labelledPairs[selectedRow][0]\n",
      "            self.frame2Idx = self.labelledPairs[selectedRow][1]\n",
      "            \n",
      "            self.setMovie()\n",
      "#             ## HACK ##\n",
      "#             im = np.ascontiguousarray(Image.open(frames[self.labelledPairs[selectedRow][0]]))\n",
      "#             qim = QtGui.QImage(im.data, im.shape[1], im.shape[0], im.strides[0], QtGui.QImage.Format_RGB888);\n",
      "#             self.frame1Label.setPixmap(QtGui.QPixmap.fromImage(qim))\n",
      "#             self.frame1Info.setText(frames[self.labelledPairs[selectedRow][0]])\n",
      "            \n",
      "#             im = np.ascontiguousarray(Image.open(frames[self.labelledPairs[selectedRow][1]]))\n",
      "#             qim = QtGui.QImage(im.data, im.shape[1], im.shape[0], im.strides[0], QtGui.QImage.Format_RGB888);\n",
      "#             self.frame2Label.setPixmap(QtGui.QPixmap.fromImage(qim))\n",
      "#             self.frame2Info.setText(frames[self.labelledPairs[selectedRow][1]])\n",
      "        \n",
      "    def keyPressEvent(self, e) :\n",
      "        if e.key() == QtCore.Qt.Key_Left : ## Distance is low\n",
      "            self.setFramePairDistance(0.0)\n",
      "        elif e.key() == QtCore.Qt.Key_Right : ## Distance is high\n",
      "            self.setFramePairDistance(1.0)\n",
      "        elif e.key() == QtCore.Qt.Key_Space : ## Get new pair\n",
      "            self.getNewPair()\n",
      "            \n",
      "    def setFramePairDistance(self, distance) :\n",
      "        if self.labelledFramesListTable.currentRow() >= 0 : ## I'm modifying distance of existing pair\n",
      "            self.labelledPairs[self.labelledFramesListTable.currentRow()][2] = distance\n",
      "        else :\n",
      "            self.labelledPairs.append([self.frame1Idx, self.frame2Idx, distance])\n",
      "            \n",
      "        self.labelledFramesListTable.clearSelection()\n",
      "        self.labelledFramesListTable.setCurrentCell(-1, -1)\n",
      "        self.setLabelledFramesListTable()\n",
      "        \n",
      "        self.getNewPair()\n",
      "        \n",
      "    def changeChoiceMode(self, index) :\n",
      "        if index == self.RANDOM_CHOICE :\n",
      "            self.choiceMode = self.RANDOM_CHOICE\n",
      "            self.choiceSetIntervals.setEnabled(False)\n",
      "            self.choiceSetIntervals.setVisible(False)\n",
      "        elif index == self.SET_CHOICE :\n",
      "            self.choiceMode = self.SET_CHOICE\n",
      "            self.choiceSetIntervals.setEnabled(True)\n",
      "            self.choiceSetIntervals.setVisible(True)\n",
      "        \n",
      "        self.getNewPair()\n",
      "        \n",
      "    def changeChoiceSets(self) :\n",
      "        choiceSetsText = self.choiceSetIntervals.text()\n",
      "        intervals = np.array(re.split(\"-|:\", choiceSetsText), dtype=int)\n",
      "        if len(intervals) == 2 :\n",
      "            self.choiceSet1 = arange(intervals[0], intervals[1]+1)\n",
      "            self.choiceSet2 = arange(intervals[0], intervals[1]+1)\n",
      "        elif len(intervals) == 4 :\n",
      "            self.choiceSet1 = arange(intervals[0], intervals[1]+1)\n",
      "            self.choiceSet2 = arange(intervals[2], intervals[3]+1)\n",
      "            \n",
      "        self.setFocus()\n",
      "        self.getNewPair()\n",
      "        \n",
      "    def createGUI(self) :\n",
      "        \n",
      "        ## WIDGETS ##\n",
      "        \n",
      "        self.movieLabel = ImageLabel(\"Movie\")\n",
      "        self.movieLabel.setSizePolicy(QtGui.QSizePolicy.MinimumExpanding, QtGui.QSizePolicy.MinimumExpanding)\n",
      "        self.movieLabel.setAlignment(QtCore.Qt.AlignCenter | QtCore.Qt.AlignHCenter)\n",
      "        \n",
      "        self.movieInfo = QtGui.QLabel(\"Info text\")\n",
      "        self.movieInfo.setAlignment(QtCore.Qt.AlignCenter | QtCore.Qt.AlignHCenter)\n",
      "        \n",
      "        self.labelledFramesListTable = QtGui.QTableWidget(0, 3)\n",
      "        self.labelledFramesListTable.horizontalHeader().setStretchLastSection(True)\n",
      "        self.labelledFramesListTable.setHorizontalHeaderItem(0, QtGui.QTableWidgetItem(\"Index f1\"))\n",
      "        self.labelledFramesListTable.setHorizontalHeaderItem(1, QtGui.QTableWidgetItem(\"Index f2\"))\n",
      "        self.labelledFramesListTable.setHorizontalHeaderItem(2, QtGui.QTableWidgetItem(\"Distance\"))\n",
      "        self.labelledFramesListTable.horizontalHeader().setResizeMode(QtGui.QHeaderView.ResizeToContents)\n",
      "#         self.labelledFramesListTable.setItem(0, 0, QtGui.QTableWidgetItem(\"No Labelled Frames\"))\n",
      "        self.labelledFramesListTable.setSizePolicy(QtGui.QSizePolicy.Minimum, QtGui.QSizePolicy.Minimum)\n",
      "        self.labelledFramesListTable.setEditTriggers(QtGui.QAbstractItemView.NoEditTriggers)\n",
      "        self.labelledFramesListTable.setSelectionBehavior(QtGui.QAbstractItemView.SelectRows)\n",
      "        self.labelledFramesListTable.setSelectionMode(QtGui.QAbstractItemView.SingleSelection)\n",
      "        self.labelledFramesListTable.setFocusPolicy(QtCore.Qt.NoFocus)\n",
      "        \n",
      "        self.choiceModeComboBox = QtGui.QComboBox()\n",
      "        self.choiceModeComboBox.addItem(\"Random\")\n",
      "        self.choiceModeComboBox.addItem(\"Set\")\n",
      "        self.choiceModeComboBox.setFocusPolicy(QtCore.Qt.NoFocus)\n",
      "        \n",
      "        self.choiceSetIntervals = QtGui.QLineEdit()\n",
      "        self.choiceSetIntervals.setEnabled(False)\n",
      "        self.choiceSetIntervals.setVisible(False)\n",
      "        \n",
      "        self.renderFpsSpinBox = QtGui.QSpinBox()\n",
      "        self.renderFpsSpinBox.setRange(1, 60)\n",
      "        self.renderFpsSpinBox.setSingleStep(1)\n",
      "        self.renderFpsSpinBox.setValue(30)\n",
      "        \n",
      "        \n",
      "        ## SIGNALS ##\n",
      "        \n",
      "        self.labelledFramesListTable.cellPressed.connect(self.existingPairSelected)\n",
      "        self.choiceModeComboBox.currentIndexChanged[int].connect(self.changeChoiceMode)\n",
      "        self.choiceSetIntervals.returnPressed.connect(self.changeChoiceSets)\n",
      "        self.renderFpsSpinBox.valueChanged[int].connect(self.setRenderFps)\n",
      "        self.renderFpsSpinBox.editingFinished.connect(self.finishedSettingFps)\n",
      "        \n",
      "        ## LAYOUTS ##\n",
      "        \n",
      "        mainLayout = QtGui.QHBoxLayout()\n",
      "        controlsLayout = QtGui.QVBoxLayout()\n",
      "        controlsLayout.addWidget(self.labelledFramesListTable)\n",
      "        controlsLayout.addWidget(self.choiceModeComboBox)\n",
      "        controlsLayout.addWidget(self.choiceSetIntervals)\n",
      "        controlsLayout.addWidget(self.renderFpsSpinBox)\n",
      "        movieLayout = QtGui.QVBoxLayout()\n",
      "        movieLayout.addWidget(self.movieLabel)\n",
      "        movieLayout.addWidget(self.movieInfo)\n",
      "        mainLayout.addLayout(controlsLayout)\n",
      "        mainLayout.addLayout(movieLayout)\n",
      "        self.setLayout(mainLayout)"
     ],
     "language": "python",
     "metadata": {},
     "outputs": [],
     "prompt_number": 12
    },
    {
     "cell_type": "code",
     "collapsed": false,
     "input": [
      "window = Window()\n",
      "window.show()\n",
      "app.exec_()"
     ],
     "language": "python",
     "metadata": {},
     "outputs": [
      {
       "metadata": {},
       "output_type": "pyout",
       "prompt_number": 72,
       "text": [
        "0"
       ]
      }
     ],
     "prompt_number": 72
    },
    {
     "cell_type": "code",
     "collapsed": false,
     "input": [
      "print np.array(window.labelledPairs)\n",
      "labelledPairs = np.copy(np.array(window.labelledPairs))\n",
      "# np.save(\"tmp.npy\", labelledPairs)"
     ],
     "language": "python",
     "metadata": {},
     "outputs": [
      {
       "output_type": "stream",
       "stream": "stdout",
       "text": [
        "[[  2.71000000e+02   3.57000000e+02   1.00000000e+00]\n",
        " [  2.04000000e+02   6.56000000e+02   1.00000000e+00]\n",
        " [  6.70000000e+01   7.16000000e+02   1.00000000e+00]\n",
        " [  1.39000000e+02   4.98000000e+02   1.00000000e+00]\n",
        " [  9.90000000e+01   4.69000000e+02   1.00000000e+00]\n",
        " [  4.70000000e+01   5.17000000e+02   1.00000000e+00]\n",
        " [  2.30000000e+01   7.04000000e+02   0.00000000e+00]\n",
        " [  4.40000000e+01   7.55000000e+02   1.00000000e+00]\n",
        " [  1.77000000e+02   6.71000000e+02   1.00000000e+00]\n",
        " [  5.90000000e+01   7.33000000e+02   1.00000000e+00]\n",
        " [  4.50000000e+01   3.50000000e+02   0.00000000e+00]\n",
        " [  1.70000000e+01   3.08000000e+02   1.00000000e+00]\n",
        " [  2.23000000e+02   4.70000000e+02   1.00000000e+00]\n",
        " [  1.31000000e+02   6.92000000e+02   1.00000000e+00]\n",
        " [  2.71000000e+02   6.51000000e+02   1.00000000e+00]\n",
        " [  1.35000000e+02   8.09000000e+02   1.00000000e+00]\n",
        " [  1.93000000e+02   7.66000000e+02   1.00000000e+00]\n",
        " [  2.61000000e+02   8.23000000e+02   1.00000000e+00]\n",
        " [  8.30000000e+01   8.04000000e+02   1.00000000e+00]\n",
        " [  2.61000000e+02   9.34000000e+02   1.00000000e+00]\n",
        " [  1.17000000e+02   8.44000000e+02   1.00000000e+00]\n",
        " [  1.51000000e+02   9.07000000e+02   1.00000000e+00]\n",
        " [  2.22000000e+02   8.92000000e+02   1.00000000e+00]\n",
        " [  1.95000000e+02   9.14000000e+02   1.00000000e+00]\n",
        " [  2.66000000e+02   8.79000000e+02   1.00000000e+00]\n",
        " [  1.47000000e+02   8.67000000e+02   1.00000000e+00]\n",
        " [  6.20000000e+01   8.93000000e+02   1.00000000e+00]\n",
        " [  4.70000000e+01   8.85000000e+02   1.00000000e+00]\n",
        " [  1.80000000e+02   7.94000000e+02   1.00000000e+00]\n",
        " [  1.03000000e+02   8.05000000e+02   1.00000000e+00]\n",
        " [  1.14000000e+02   1.25000000e+03   1.00000000e+00]\n",
        " [  1.16000000e+02   1.18300000e+03   1.00000000e+00]\n",
        " [  2.33000000e+02   1.13900000e+03   1.00000000e+00]\n",
        " [  2.70000000e+02   1.12900000e+03   1.00000000e+00]\n",
        " [  1.02000000e+02   1.19900000e+03   1.00000000e+00]\n",
        " [  1.32000000e+02   1.10700000e+03   1.00000000e+00]\n",
        " [  6.70000000e+01   1.04900000e+03   1.00000000e+00]\n",
        " [  2.47000000e+02   1.23400000e+03   1.00000000e+00]\n",
        " [  1.32000000e+02   1.05800000e+03   1.00000000e+00]\n",
        " [  9.10000000e+01   1.26400000e+03   1.00000000e+00]\n",
        " [  1.82000000e+02   1.17600000e+03   1.00000000e+00]\n",
        " [  1.83000000e+02   1.09600000e+03   1.00000000e+00]\n",
        " [  2.12000000e+02   1.05900000e+03   1.00000000e+00]\n",
        " [  2.61000000e+02   1.02800000e+03   1.00000000e+00]\n",
        " [  2.30000000e+02   1.20300000e+03   1.00000000e+00]\n",
        " [  6.09000000e+02   9.04000000e+02   1.00000000e+00]\n",
        " [  3.35000000e+02   8.25000000e+02   1.00000000e+00]\n",
        " [  5.11000000e+02   7.83000000e+02   1.00000000e+00]\n",
        " [  5.01000000e+02   8.82000000e+02   1.00000000e+00]\n",
        " [  4.00000000e+02   7.93000000e+02   1.00000000e+00]\n",
        " [  6.68000000e+02   8.07000000e+02   1.00000000e+00]\n",
        " [  6.58000000e+02   9.00000000e+02   1.00000000e+00]\n",
        " [  4.83000000e+02   7.93000000e+02   1.00000000e+00]\n",
        " [  6.57000000e+02   7.80000000e+02   0.00000000e+00]\n",
        " [  3.09000000e+02   7.76000000e+02   1.00000000e+00]\n",
        " [  4.03000000e+02   7.78000000e+02   0.00000000e+00]\n",
        " [  4.82000000e+02   9.21000000e+02   1.00000000e+00]\n",
        " [  5.83000000e+02   8.71000000e+02   1.00000000e+00]\n",
        " [  5.44000000e+02   9.29000000e+02   1.00000000e+00]\n",
        " [  6.20000000e+02   8.65000000e+02   1.00000000e+00]\n",
        " [  5.04000000e+02   1.01700000e+03   1.00000000e+00]\n",
        " [  3.47000000e+02   1.16500000e+03   1.00000000e+00]\n",
        " [  4.40000000e+02   1.12400000e+03   1.00000000e+00]\n",
        " [  3.75000000e+02   1.20400000e+03   1.00000000e+00]\n",
        " [  3.83000000e+02   1.13800000e+03   1.00000000e+00]\n",
        " [  2.86000000e+02   1.11400000e+03   1.00000000e+00]\n",
        " [  6.91000000e+02   1.25100000e+03   1.00000000e+00]\n",
        " [  5.97000000e+02   1.03200000e+03   1.00000000e+00]\n",
        " [  6.05000000e+02   1.01100000e+03   1.00000000e+00]\n",
        " [  3.07000000e+02   1.18800000e+03   1.00000000e+00]\n",
        " [  3.86000000e+02   1.04000000e+03   1.00000000e+00]\n",
        " [  6.54000000e+02   1.25600000e+03   1.00000000e+00]\n",
        " [  4.50000000e+02   1.06000000e+03   1.00000000e+00]\n",
        " [  4.65000000e+02   1.26500000e+03   1.00000000e+00]\n",
        " [  6.97000000e+02   1.02200000e+03   1.00000000e+00]\n",
        " [  7.61000000e+02   9.78000000e+02   1.00000000e+00]\n",
        " [  7.58000000e+02   1.23000000e+03   1.00000000e+00]\n",
        " [  8.56000000e+02   9.89000000e+02   1.00000000e+00]\n",
        " [  8.87000000e+02   1.10300000e+03   1.00000000e+00]\n",
        " [  9.04000000e+02   9.57000000e+02   1.00000000e+00]\n",
        " [  7.60000000e+02   1.20000000e+03   1.00000000e+00]\n",
        " [  7.71000000e+02   1.05000000e+03   1.00000000e+00]\n",
        " [  8.38000000e+02   1.24000000e+03   1.00000000e+00]\n",
        " [  9.13000000e+02   1.22700000e+03   1.00000000e+00]\n",
        " [  7.75000000e+02   1.11100000e+03   1.00000000e+00]\n",
        " [  7.57000000e+02   1.22500000e+03   1.00000000e+00]\n",
        " [  9.14000000e+02   1.00600000e+03   1.00000000e+00]\n",
        " [  7.60000000e+02   1.24600000e+03   1.00000000e+00]\n",
        " [  8.58000000e+02   1.13300000e+03   1.00000000e+00]\n",
        " [  9.01000000e+02   1.12600000e+03   0.00000000e+00]\n",
        " [  2.80000000e+01   2.20000000e+02   1.00000000e+00]\n",
        " [  2.02000000e+02   1.19000000e+02   0.00000000e+00]\n",
        " [  2.20000000e+01   7.00000000e+00   1.00000000e+00]\n",
        " [  2.74000000e+02   2.49000000e+02   1.00000000e+00]\n",
        " [  1.70000000e+02   1.40000000e+02   1.00000000e+00]\n",
        " [  2.66000000e+02   4.80000000e+01   0.00000000e+00]\n",
        " [  2.00000000e+02   1.64000000e+02   0.00000000e+00]\n",
        " [  1.71000000e+02   1.94000000e+02   0.00000000e+00]\n",
        " [  7.00000000e+01   2.41000000e+02   0.00000000e+00]\n",
        " [  1.47000000e+02   2.42000000e+02   1.00000000e+00]\n",
        " [  1.92000000e+02   6.60000000e+01   1.00000000e+00]\n",
        " [  1.79000000e+02   2.02000000e+02   0.00000000e+00]\n",
        " [  7.80000000e+01   1.78000000e+02   1.00000000e+00]\n",
        " [  1.42000000e+02   9.90000000e+01   0.00000000e+00]\n",
        " [  1.41000000e+02   2.72000000e+02   1.00000000e+00]\n",
        " [  2.88000000e+02   3.05000000e+02   1.00000000e+00]\n",
        " [  2.95000000e+02   4.57000000e+02   0.00000000e+00]\n",
        " [  7.07000000e+02   6.99000000e+02   0.00000000e+00]\n",
        " [  3.13000000e+02   3.33000000e+02   1.00000000e+00]\n",
        " [  7.48000000e+02   6.20000000e+02   1.00000000e+00]\n",
        " [  7.40000000e+02   2.96000000e+02   0.00000000e+00]\n",
        " [  3.39000000e+02   4.62000000e+02   0.00000000e+00]\n",
        " [  4.86000000e+02   5.20000000e+02   0.00000000e+00]\n",
        " [  7.16000000e+02   4.70000000e+02   0.00000000e+00]\n",
        " [  7.17000000e+02   3.51000000e+02   1.00000000e+00]\n",
        " [  3.81000000e+02   5.81000000e+02   1.00000000e+00]\n",
        " [  4.97000000e+02   4.42000000e+02   0.00000000e+00]\n",
        " [  3.47000000e+02   3.50000000e+02   1.00000000e+00]\n",
        " [  5.07000000e+02   3.57000000e+02   1.00000000e+00]\n",
        " [  5.28000000e+02   6.63000000e+02   1.00000000e+00]\n",
        " [  7.63000000e+02   7.79000000e+02   1.00000000e+00]\n",
        " [  9.01000000e+02   8.57000000e+02   1.00000000e+00]\n",
        " [  7.86000000e+02   7.65000000e+02   0.00000000e+00]\n",
        " [  9.11000000e+02   7.74000000e+02   1.00000000e+00]\n",
        " [  7.95000000e+02   7.63000000e+02   0.00000000e+00]\n",
        " [  8.39000000e+02   8.79000000e+02   1.00000000e+00]\n",
        " [  7.64000000e+02   7.66000000e+02   0.00000000e+00]\n",
        " [  8.62000000e+02   8.65000000e+02   0.00000000e+00]\n",
        " [  8.77000000e+02   8.57000000e+02   1.00000000e+00]\n",
        " [  8.53000000e+02   8.05000000e+02   0.00000000e+00]\n",
        " [  8.24000000e+02   8.39000000e+02   1.00000000e+00]\n",
        " [  9.30000000e+02   9.20000000e+02   0.00000000e+00]\n",
        " [  8.59000000e+02   8.34000000e+02   1.00000000e+00]\n",
        " [  9.16000000e+02   8.53000000e+02   1.00000000e+00]\n",
        " [  8.35000000e+02   8.51000000e+02   0.00000000e+00]\n",
        " [  1.12700000e+03   1.21100000e+03   1.00000000e+00]\n",
        " [  1.14300000e+03   1.07800000e+03   0.00000000e+00]\n",
        " [  1.08700000e+03   1.20500000e+03   0.00000000e+00]\n",
        " [  1.22200000e+03   9.38000000e+02   0.00000000e+00]\n",
        " [  9.42000000e+02   1.20400000e+03   1.00000000e+00]\n",
        " [  1.24700000e+03   1.04400000e+03   0.00000000e+00]\n",
        " [  1.09400000e+03   1.01100000e+03   0.00000000e+00]\n",
        " [  1.07300000e+03   1.15500000e+03   1.00000000e+00]\n",
        " [  1.14700000e+03   1.07600000e+03   0.00000000e+00]\n",
        " [  1.18700000e+03   1.16600000e+03   1.00000000e+00]\n",
        " [  1.24000000e+03   1.14300000e+03   0.00000000e+00]\n",
        " [  9.50000000e+02   1.17200000e+03   1.00000000e+00]\n",
        " [  1.19200000e+03   1.03100000e+03   0.00000000e+00]\n",
        " [  1.13700000e+03   1.25500000e+03   1.00000000e+00]\n",
        " [  1.19900000e+03   1.26200000e+03   1.00000000e+00]]\n"
       ]
      }
     ],
     "prompt_number": 11
    },
    {
     "cell_type": "code",
     "collapsed": false,
     "input": [
      "labelledPairs = np.copy(np.array(window.labelledPairs))\n",
      "# np.save(\"appearanceLabelledPairs_setchoice.npy\", labelledPairs)\n",
      "print labelledPairs"
     ],
     "language": "python",
     "metadata": {},
     "outputs": [
      {
       "output_type": "stream",
       "stream": "stdout",
       "text": [
        "[[   86.   422.     1.]\n",
        " [    4.   773.     1.]\n",
        " [  201.  1141.     1.]\n",
        " [  328.   793.     1.]\n",
        " [  675.  1019.     1.]\n",
        " [  810.  1079.     1.]\n",
        " [  118.   156.     1.]\n",
        " [  545.   371.     0.]\n",
        " [  918.   876.     1.]]\n"
       ]
      }
     ],
     "prompt_number": 16
    },
    {
     "cell_type": "code",
     "collapsed": false,
     "input": [
      "np.save(\"appeareanceLabelledPairs_setchoice_oneeach.npy\", labelledPairs)"
     ],
     "language": "python",
     "metadata": {},
     "outputs": [],
     "prompt_number": 20
    },
    {
     "cell_type": "code",
     "collapsed": false,
     "input": [
      "# print labelledPairs\n",
      "print classifier.predict(getFramesPairFeatures(frameFeatures[901].reshape((len(frameFeatures[0])/8, 8)), frameFeatures[1126].reshape((len(frameFeatures[0])/8, 8)), pairFeatTypes))"
     ],
     "language": "python",
     "metadata": {},
     "outputs": [
      {
       "output_type": "stream",
       "stream": "stderr",
       "text": [
        "[Parallel(n_jobs=4)]: Done   1 out of   4 | elapsed:    0.0s remaining:    0.1s\n",
        "[Parallel(n_jobs=4)]: Done   2 out of   4 | elapsed:    0.1s remaining:    0.1s\n",
        "[Parallel(n_jobs=4)]: Done   4 out of   4 | elapsed:    0.1s finished\n"
       ]
      },
      {
       "output_type": "stream",
       "stream": "stdout",
       "text": [
        "[ 0.]\n"
       ]
      }
     ],
     "prompt_number": 75
    },
    {
     "cell_type": "code",
     "collapsed": false,
     "input": [
      "print np.load(dataFolder + sampleData + \"appearance_hog_L2_set150_distMat.npy\")[901, 1126]"
     ],
     "language": "python",
     "metadata": {},
     "outputs": [
      {
       "output_type": "stream",
       "stream": "stdout",
       "text": [
        "0.0\n"
       ]
      }
     ],
     "prompt_number": 76
    },
    {
     "cell_type": "code",
     "collapsed": false,
     "input": [
      "labelledPairs = np.load(\"appearanceLabelledPairs_setchoice.npy\")"
     ],
     "language": "python",
     "metadata": {},
     "outputs": [],
     "prompt_number": 68
    },
    {
     "cell_type": "code",
     "collapsed": false,
     "input": [
      "0:279-280:756\n",
      "0:279-757:936\n",
      "0:279-937:1270\n",
      "280:756-757:936\n",
      "280:756-937:1270\n",
      "757:936-937:1270\n",
      "0:279\n",
      "280:756\n",
      "757:936\n",
      "937:1270"
     ],
     "language": "python",
     "metadata": {},
     "outputs": []
    },
    {
     "cell_type": "code",
     "collapsed": false,
     "input": [
      "np.set_printoptions(suppress=True)\n",
      "# labelledPairs = np.load(\"labelledPairs.npy\")\n",
      "# labelledPairs = np.load(\"labelledPairs_better.npy\")\n",
      "# labelledPairs = np.array(window.labelledPairs)\n",
      "label1Pairs = any((all((labelledPairs[:, 0] <= 279,labelledPairs[:, 0] >= 0), axis=0), all((labelledPairs[:, 1] <= 279,labelledPairs[:, 1] >= 0), axis=0)), axis=0)\n",
      "label2Pairs = any((all((labelledPairs[:, 0] <= 756,labelledPairs[:, 0] >= 280), axis=0), all((labelledPairs[:, 1] <= 756,labelledPairs[:, 1] >= 280), axis=0)), axis=0)\n",
      "label3Pairs = any((all((labelledPairs[:, 0] <= 936,labelledPairs[:, 0] >= 757), axis=0), all((labelledPairs[:, 1] <= 936,labelledPairs[:, 1] >= 757), axis=0)), axis=0)\n",
      "label4Pairs = any((all((labelledPairs[:, 0] <= 1279,labelledPairs[:, 0] >= 937), axis=0), all((labelledPairs[:, 1] <= 1279,labelledPairs[:, 1] >= 937), axis=0)), axis=0)\n",
      "print \"label 1 and 2\"\n",
      "print labelledPairs[all((label1Pairs, label2Pairs), axis=0)]\n",
      "print \"label 1 and 3\"\n",
      "print labelledPairs[all((label1Pairs, label3Pairs), axis=0)]\n",
      "print \"label 1 and 4\"\n",
      "print labelledPairs[all((label1Pairs, label4Pairs), axis=0)]\n",
      "print \"label 2 and 3\"\n",
      "print labelledPairs[all((label2Pairs, label3Pairs), axis=0)]\n",
      "print \"label 2 and 4\"\n",
      "print labelledPairs[all((label2Pairs, label4Pairs), axis=0)]\n",
      "print \"label 3 and 4\"\n",
      "print labelledPairs[all((label3Pairs, label4Pairs), axis=0)]\n",
      "print \"label 1\"\n",
      "print labelledPairs[all((all((labelledPairs[:, 0] <= 279,labelledPairs[:, 0] >= 0), axis=0), all((labelledPairs[:, 1] <= 279,labelledPairs[:, 1] >= 0), axis=0)), axis=0)]\n",
      "print \"label 2\"\n",
      "print labelledPairs[all((all((labelledPairs[:, 0] <= 756,labelledPairs[:, 0] >= 280), axis=0), all((labelledPairs[:, 1] <= 756,labelledPairs[:, 1] >= 280), axis=0)), axis=0)]\n",
      "print \"label 3\"\n",
      "print labelledPairs[all((all((labelledPairs[:, 0] <= 936,labelledPairs[:, 0] >= 757), axis=0), all((labelledPairs[:, 1] <= 936,labelledPairs[:, 1] >= 757), axis=0)), axis=0)]\n",
      "print \"label 4\"\n",
      "print labelledPairs[all((all((labelledPairs[:, 0] <= 1279,labelledPairs[:, 0] >= 937), axis=0), all((labelledPairs[:, 1] <= 1279,labelledPairs[:, 1] >= 937), axis=0)), axis=0)]\n",
      "# print labelledPairs"
     ],
     "language": "python",
     "metadata": {},
     "outputs": [
      {
       "output_type": "stream",
       "stream": "stdout",
       "text": [
        "label 1 and 2\n",
        "[[ 244.   408.     0.5]\n",
        " [  80.   399.     0.5]\n",
        " [ 187.   294.     0.5]\n",
        " [  87.   613.     0.5]\n",
        " [ 255.   280.     0.5]]\n",
        "label 1 and 3\n",
        "[[ 182.   824.     1. ]\n",
        " [  95.   928.     1. ]\n",
        " [  66.   847.     1. ]\n",
        " [ 132.   898.     0.5]\n",
        " [ 133.   808.     1. ]\n",
        " [ 165.   904.     1. ]]\n",
        "label 1 and 4\n",
        "[[  184.   1260.      0.5]\n",
        " [  196.    959.      0.5]\n",
        " [  198.   1201.      0.5]\n",
        " [   57.    966.      0.5]\n",
        " [   49.   1042.      0.5]]\n",
        "label 2 and 3\n",
        "[[ 467.   854.     0.5]\n",
        " [ 425.   810.     0.5]\n",
        " [ 424.   879.     0.5]\n",
        " [ 515.   872.     0.5]\n",
        " [ 417.   812.     0. ]\n",
        " [ 648.   804.     0.5]]\n",
        "label 2 and 4\n",
        "[[  298.  1071.     1.]\n",
        " [  393.  1008.     1.]\n",
        " [  440.  1094.     1.]\n",
        " [  433.   973.     1.]\n",
        " [  592.  1123.     1.]]\n",
        "label 3 and 4\n",
        "[[  931.    959.      0.5]\n",
        " [  898.    998.      0. ]\n",
        " [  774.    951.      0.5]\n",
        " [  887.   1006.      0.5]\n",
        " [  814.   1003.      1. ]\n",
        " [  876.   1120.      0.5]\n",
        " [  767.    975.      0.5]\n",
        " [  915.   1110.      0.5]]\n",
        "label 1\n",
        "[[ 145.  262.    0.]\n",
        " [ 209.  277.    0.]\n",
        " [ 219.   92.    0.]\n",
        " [ 103.  152.    0.]\n",
        " [ 170.  159.    0.]]\n",
        "label 2\n",
        "[[ 314.  630.    0.]\n",
        " [ 593.  521.    0.]\n",
        " [ 669.  739.    0.]\n",
        " [ 404.  744.    0.]\n",
        " [ 597.  300.    0.]]\n",
        "label 3\n",
        "[[ 799.  920.    0.]\n",
        " [ 818.  791.    0.]\n",
        " [ 920.  800.    0.]\n",
        " [ 853.  904.    0.]\n",
        " [ 923.  850.    0.]]\n",
        "label 4\n",
        "[[ 1109.  1034.     0.]\n",
        " [ 1009.  1011.     0.]\n",
        " [ 1257.  1269.     0.]\n",
        " [  979.  1205.     0.]\n",
        " [ 1009.  1216.     0.]]\n"
       ]
      }
     ],
     "prompt_number": 29
    }
   ],
   "metadata": {}
  }
 ]
}