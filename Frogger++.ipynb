{
 "metadata": {
  "name": "",
  "signature": "sha256:08a93923e18f3c76c457978b739f58927b9b12b0a7dd791d88eb7999e9ef0ec2"
 },
 "nbformat": 3,
 "nbformat_minor": 0,
 "worksheets": [
  {
   "cells": [
    {
     "cell_type": "code",
     "collapsed": false,
     "input": [
      "## Imports and defines\n",
      "%pylab\n",
      "import numpy as np\n",
      "import sys\n",
      "\n",
      "import cv2\n",
      "import time\n",
      "import os\n",
      "import scipy.io as sio\n",
      "import glob\n",
      "import random\n",
      "\n",
      "from PIL import Image\n",
      "from PySide import QtCore, QtGui\n",
      "\n",
      "import GraphWithValues as gwv\n",
      "import opengm\n",
      "\n",
      "app = QtGui.QApplication(sys.argv)\n",
      "\n",
      "DICT_SPRITE_NAME = 'sprite_name'\n",
      "DICT_BBOXES = 'bboxes'\n",
      "DICT_BBOX_ROTATIONS = 'bbox_rotations'\n",
      "DICT_BBOX_CENTERS = 'bbox_centers'\n",
      "DICT_FRAMES_LOCATIONS = 'frame_locs'\n",
      "DICT_SEQUENCE_FRAMES = 'sequence_frames'\n",
      "DICT_SPRITE_IDX = 'sprite_idx' # stores the index in the self.trackedSprites array of the sprite used in the generated sequence\n",
      "DICT_DESIRED_SEMANTICS = 'desired_semantics' # stores what the desired semantics are for a certain sprite \n",
      "#(I could index them by the frame when the toggle happened instead of using the below but maybe ordering is important and I would lose that using a dict)\n",
      "DICT_FRAME_SEMANTIC_TOGGLE = 'frame_semantic_toggle'# stores the frame index in the generated sequence when the desired semantics have changed\n",
      "\n",
      "dataPath = \"/home/ilisescu/PhD/data/\"\n",
      "dataSet = \"havana/\"\n",
      "formatString = \"{:05d}.png\"\n",
      "\n",
      "TL_IDX = 0\n",
      "TR_IDX = 1\n",
      "BR_IDX = 2\n",
      "BL_IDX = 3"
     ],
     "language": "python",
     "metadata": {},
     "outputs": [
      {
       "output_type": "stream",
       "stream": "stdout",
       "text": [
        "Using matplotlib backend: TkAgg\n",
        "Populating the interactive namespace from numpy and matplotlib\n"
       ]
      }
     ],
     "prompt_number": 1
    },
    {
     "cell_type": "code",
     "collapsed": false,
     "input": [
      "precomputedDistances = np.load(dataPath + dataSet + \"precomputedDistances.npy\").item()\n",
      "preloadedSpritePatches = list(np.load(dataPath + dataSet + \"preloadedSpritePatches.npy\"))\n",
      "# ## load \n",
      "# trackedSprites = []\n",
      "# for sprite in glob.glob(dataPath + dataSet + \"sprite*.npy\") :\n",
      "#     trackedSprites.append(np.load(sprite).item())\n",
      "    \n",
      "# ## load all sprite patches\n",
      "# preloadedSpritePatches = []\n",
      "# currentSpriteImages = []\n",
      "# del preloadedSpritePatches\n",
      "# preloadedSpritePatches = []\n",
      "# for sprite in trackedSprites :\n",
      "#     maskDir = dataPath + dataSet + sprite[DICT_SPRITE_NAME] + \"-masked\"\n",
      "#     del currentSpriteImages\n",
      "#     currentSpriteImages = []\n",
      "#     for frameKey in np.sort(sprite[DICT_FRAMES_LOCATIONS].keys()) :\n",
      "#         frameName = sprite[DICT_FRAMES_LOCATIONS][frameKey].split(os.sep)[-1]\n",
      "        \n",
      "#         if os.path.isdir(maskDir) and os.path.exists(maskDir+\"/\"+frameName) :\n",
      "#             im = np.array(cv2.imread(maskDir+\"/\"+frameName, cv2.CV_LOAD_IMAGE_UNCHANGED), dtype=np.uint8)\n",
      "            \n",
      "#             visiblePixels = np.argwhere(im[:, :, -1] != 0)\n",
      "#             topLeft = np.min(visiblePixels, axis=0)\n",
      "#             patchSize = np.max(visiblePixels, axis=0) - topLeft + 1\n",
      "            \n",
      "#             currentSpriteImages.append({'top_left_pos':topLeft, 'sprite_colors':im[visiblePixels[:, 0], visiblePixels[:, 1], :], \n",
      "#                                         'visible_indices': visiblePixels-topLeft, 'patch_size': patchSize})\n",
      "# #             currentSpriteImages.append(im[topLeft[0]:topLeft[0]+patchSize[0]+1, topLeft[1]:topLeft[1]+patchSize[1]+1])\n",
      "#         else :\n",
      "# #             im = np.ascontiguousarray(Image.open(sprite[DICT_FRAMES_LOCATIONS][frameIdx]), dtype=np.uint8)\n",
      "#             currentSpriteImages.append(None)\n",
      "        \n",
      "#         sys.stdout.write('\\r' + \"Loaded image \" + np.string_(len(currentSpriteImages)) + \" (\" + np.string_(len(sprite[DICT_FRAMES_LOCATIONS])) + \")\")\n",
      "#         sys.stdout.flush()\n",
      "#     preloadedSpritePatches.append(np.copy(currentSpriteImages))\n",
      "#     print\n",
      "#     print \"done with sprite\", sprite[DICT_SPRITE_NAME]"
     ],
     "language": "python",
     "metadata": {},
     "outputs": [],
     "prompt_number": 2
    },
    {
     "cell_type": "code",
     "collapsed": false,
     "input": [
      "def synchedSequence2FullOverlap(spriteSequences, spritesTotalLength) :\n",
      "    ## given synched sequences and corresponding sprites sequence lengths, return the full overlapping sequences assuming I'm following \n",
      "    ## the sprites' timeline so all this will become a mess as soon as I start looping\n",
      "    ## or maybe not really as long as the length of the sequence I'm generating is long enough or actually if I'm looping, I would\n",
      "    ## probably have to opportunity to jump around in the sprite's timeline so maybe there's no problem if the sequence is short\n",
      "    if spriteSequences.shape[0] < 1 :\n",
      "        raise Exception(\"Empty spriteSequences\")\n",
      "        \n",
      "    if len(np.argwhere(np.any(spriteSequences < 0, axis=0))) == spriteSequences.shape[-1] :\n",
      "        return None\n",
      "#         raise Exception(\"Invalid spriteSequences\")\n",
      "        \n",
      "    remainingFrames = spritesTotalLength-spriteSequences[:, -1]-1\n",
      "#     print remainingFrames\n",
      "        \n",
      "    fullSequences = np.hstack((spriteSequences, np.zeros((spriteSequences.shape[0], np.max(remainingFrames)), dtype=int)))\n",
      "    \n",
      "    for i in xrange(spriteSequences.shape[0]) :\n",
      "        fullSequences[i, spriteSequences.shape[-1]:] = np.arange(spriteSequences[i, -1]+1, spriteSequences[i, -1]+1+np.max(remainingFrames), dtype=int)\n",
      "        \n",
      "    ## get rid of pairs where the frame index is larger than the sprite length\n",
      "    fullSequences = fullSequences[:, np.ndarray.flatten(np.argwhere(np.all(fullSequences < np.array(spritesTotalLength).reshape(2, 1), axis=0)))]\n",
      "    \n",
      "    ## get rid of pairs where the frame index is negative (due to the fact that I'm showing the 0th frame i.e. invisible sprite)\n",
      "    fullSequences = fullSequences[:, np.ndarray.flatten(np.argwhere(np.all(fullSequences >= 0, axis=0)))]\n",
      "    \n",
      "    return fullSequences\n",
      "\n",
      "# print synchedSequence2FullOverlap(np.vstack((minCostTraversalExistingSprite.reshape((1, len(minCostTraversalExistingSprite)))-1,\n",
      "#                                              minCostTraversal.reshape((1, len(minCostTraversal)))-1)), spriteTotalLength)"
     ],
     "language": "python",
     "metadata": {},
     "outputs": [],
     "prompt_number": 3
    },
    {
     "cell_type": "code",
     "collapsed": false,
     "input": [
      "def smoothstep(delay) :\n",
      "    # Scale, and clamp x to 0..1 range\n",
      "    edge0 = 0.0\n",
      "    edge1 = 1.0\n",
      "    x = np.arange(0.0, 1.0, 1.0/(delay+1))\n",
      "    x = np.clip((x - edge0)/(edge1 - edge0), 0.0, 1.0);\n",
      "    return (x*x*x*(x*(x*6 - 15) + 10))[1:]\n",
      "\n",
      "def toggleLabelsSmoothly(labels, delay) :\n",
      "    newLabels = np.roll(labels, 1)\n",
      "    steps = smoothstep(delay)\n",
      "    result = np.zeros((delay, labels.shape[-1]))\n",
      "    ## where diff is less than zero, label prob went from 0 to 1\n",
      "    result[:, np.argwhere(labels-newLabels < 0)[0, 1]] = steps\n",
      "    ## where diff is greater than zero, label prob went from 1 to 0\n",
      "    result[:, np.argwhere(labels-newLabels > 0)[0, 1]] = 1.0 - steps\n",
      "    return result\n",
      "\n",
      "print toggleLabelsSmoothly(np.array([[0.0, 1.0]]), 5)"
     ],
     "language": "python",
     "metadata": {},
     "outputs": [
      {
       "output_type": "stream",
       "stream": "stdout",
       "text": [
        "[[ 0.03549383  0.96450617]\n",
        " [ 0.20987654  0.79012346]\n",
        " [ 0.5         0.5       ]\n",
        " [ 0.79012346  0.20987654]\n",
        " [ 0.96450617  0.03549383]]\n"
       ]
      }
     ],
     "prompt_number": 4
    },
    {
     "cell_type": "code",
     "collapsed": false,
     "input": [
      "def aabb2obbDist(aabb, obb, verbose = False) :\n",
      "    if verbose :\n",
      "        figure(); plot(aabb[:, 0], aabb[:, 1])\n",
      "        plot(obb[:, 0], obb[:, 1])\n",
      "    minDist = 100000000.0\n",
      "    colors = ['r', 'g', 'b', 'y']\n",
      "    for i, j in zip(arange(4), np.mod(arange(1, 5), 4)) :\n",
      "        m = (obb[j, 1] - obb[i, 1]) / (obb[j, 0] - obb[i, 0])\n",
      "        b = obb[i, 1] - (m * obb[i, 0]);\n",
      "        ## project aabb points onto obb segment\n",
      "        projPoints = np.dot(np.hstack((aabb, np.ones((len(aabb), 1)))), np.array([[1, m, -m*b], [m, m**2, b]]).T)/(m**2+1)\n",
      "        if np.all(np.negative(np.isnan(projPoints))) :\n",
      "            ## find distances\n",
      "            dists = np.linalg.norm(projPoints-aabb, axis=-1)\n",
      "            ## find closest point\n",
      "            closestPoint = np.argmin(dists)\n",
      "            ## if rs is between 0 and 1 the point is on the segment\n",
      "            rs = np.sum((obb[j, :]-obb[i, :])*(aabb-obb[i, :]), axis=1)/(np.linalg.norm(obb[j, :]-obb[i, :])**2)\n",
      "            if verbose :\n",
      "                print projPoints\n",
      "                scatter(projPoints[:, 0], projPoints[:, 1], c=colors[i])\n",
      "                print dists\n",
      "                print closestPoint\n",
      "                print rs\n",
      "            ## if closestPoint is on the segment\n",
      "            if rs[closestPoint] > 0.0 and rs[closestPoint] < 1.0 :\n",
      "                minDist = np.min((minDist, aabb2pointDist(aabb, projPoints[closestPoint, :])))\n",
      "            else :\n",
      "                minDist = np.min((minDist, aabb2pointDist(aabb, obb[i, :]), aabb2pointDist(aabb, obb[j, :])))\n",
      "\n",
      "    return minDist\n",
      "\n",
      "\n",
      "def aabb2pointDist(aabb, point) :\n",
      "    dx = np.max((np.min(aabb[:, 0]) - point[0], 0, point[0] - np.max(aabb[:, 0])))\n",
      "    dy = np.max((np.min(aabb[:, 1]) - point[1], 0, point[1] - np.max(aabb[:, 1])))\n",
      "    return np.sqrt(dx**2 + dy**2);\n",
      "\n",
      "\n",
      "def getShiftedSpriteTrackDist(firstSprite, secondSprite, shift) :\n",
      "    \n",
      "    spriteTotalLength = np.zeros(2, dtype=int)\n",
      "    spriteTotalLength[0] = len(firstSprite[DICT_BBOX_CENTERS])\n",
      "    spriteTotalLength[1] = len(secondSprite[DICT_BBOX_CENTERS])\n",
      "    \n",
      "    ## find the overlapping sprite subsequences\n",
      "    ## length of overlap is the minimum between length of the second sequence and length of the first sequence - the advantage it has n the second sequence\n",
      "    overlapLength = np.min((spriteTotalLength[0]-shift, spriteTotalLength[1]))\n",
      "    \n",
      "    frameRanges = np.zeros((2, overlapLength), dtype=int)\n",
      "    frameRanges[0, :] = np.arange(shift, overlapLength + shift)\n",
      "    frameRanges[1, :] = np.arange(overlapLength)\n",
      "    \n",
      "    totalDistance, distances = getOverlappingSpriteTracksDistance(firstSprite, secondSprite, frameRanges)\n",
      "    \n",
      "    return totalDistance, distances, frameRanges\n",
      "\n",
      "\n",
      "def getOverlappingSpriteTracksDistance(firstSprite, secondSprite, frameRanges) :\n",
      "#     ## for now the distance is only given by the distance between bbox center but can add later other things like bbox overlapping region\n",
      "#     bboxCenters0 = np.array([firstSprite[DICT_BBOX_CENTERS][x] for x in np.sort(firstSprite[DICT_BBOX_CENTERS].keys())[frameRanges[0, :]]])\n",
      "#     bboxCenters1 = np.array([secondSprite[DICT_BBOX_CENTERS][x] for x in np.sort(secondSprite[DICT_BBOX_CENTERS].keys())[frameRanges[1, :]]])\n",
      "    \n",
      "#     centerDistance = np.linalg.norm(bboxCenters0-bboxCenters1, axis=1)\n",
      "    \n",
      "#     totDist = np.min(centerDistance)\n",
      "#     allDists = centerDistance\n",
      "    \n",
      "    firstSpriteKeys = np.sort(firstSprite[DICT_BBOX_CENTERS].keys())\n",
      "    secondSpriteKeys = np.sort(secondSprite[DICT_BBOX_CENTERS].keys())\n",
      "    allDists = np.zeros(frameRanges.shape[-1])\n",
      "    for i in xrange(frameRanges.shape[-1]) :\n",
      "        theta = firstSprite[DICT_BBOX_ROTATIONS][firstSpriteKeys[frameRanges[0, i]]]\n",
      "        rotMat = np.array([[np.cos(theta), -np.sin(theta)], [np.sin(theta), np.cos(theta)]])\n",
      "        bbox1 = np.dot(rotMat, firstSprite[DICT_BBOXES][firstSpriteKeys[frameRanges[0, i]]].T).T\n",
      "        bbox2 = np.dot(rotMat, secondSprite[DICT_BBOXES][secondSpriteKeys[frameRanges[1, i]]].T).T\n",
      "        ## if the bboxes coincide then the distance is set to 0\n",
      "        if np.all(np.abs(bbox1 - bbox2) <= 10**-10) :\n",
      "            allDists[i] = 0.0\n",
      "        else :\n",
      "            allDists[i] = aabb2obbDist(bbox1, bbox2)\n",
      "        \n",
      "        ## early out since you can't get lower than 0\n",
      "        if allDists[i] == 0.0 :\n",
      "            break\n",
      "            \n",
      "    totDist = np.min(allDists)\n",
      "#     return np.sum(centerDistance)/len(centerDistance), centerDistance    \n",
      "    return totDist, allDists"
     ],
     "language": "python",
     "metadata": {},
     "outputs": [],
     "prompt_number": 5
    },
    {
     "cell_type": "code",
     "collapsed": false,
     "input": [
      "def vectorisedMinusLogMultiNormal(dataPoints, means, var, normalized = True) :\n",
      "    if (dataPoints.shape[1] != means.shape[1] or np.any(dataPoints.shape[1] != np.array(var.shape)) \n",
      "        or len(var.shape) != 2 or var.shape[0] != var.shape[1]) :\n",
      "        raise Exception(\"Data shapes don't agree data(\" + np.string_(dataPoints.shape) + \") mean(\" + np.string_(means.shape) + \n",
      "                        \") var(\" + np.string_(var.shape) + \")\")\n",
      "    \n",
      "    D = float(dataPoints.shape[1])\n",
      "    n = -0.5*np.log(np.linalg.det(var))-(D/2.0)*np.log(2.0*np.pi)\n",
      "    \n",
      "    ## this does 0.5*dot(dot(data-mean, varInv), data-mean)\n",
      "    varInv = np.linalg.inv(var)\n",
      "    dataMinusMean = dataPoints-means\n",
      "    \n",
      "    ps = []\n",
      "    for i in xrange(int(D)) :\n",
      "        ps.append(np.sum((dataMinusMean)*varInv[:, i], axis=-1))\n",
      "    \n",
      "    ps = np.array(ps).T\n",
      "    \n",
      "    ps = -0.5*np.sum(ps*(dataMinusMean), axis=-1)\n",
      "    \n",
      "    if normalized :\n",
      "        return n-ps\n",
      "    else :\n",
      "        return -ps\n",
      "# s = time.time()\n",
      "# vectorisedMinusLogMultiNormal(semanticDist.reshape((len(semanticDist), 1)), np.array([0.0]).reshape((1, 1)), np.array([0.0001]).reshape((1, 1)), True)\n",
      "# print time.time() - s\n",
      "# s = time.time()\n",
      "# vectorisedMinusLogMultiNormal(semanticLabels, np.array(desiredLabel).reshape((1, 2)), np.eye(2)*0.0001, True)"
     ],
     "language": "python",
     "metadata": {},
     "outputs": [],
     "prompt_number": 6
    },
    {
     "cell_type": "code",
     "collapsed": false,
     "input": [
      "def getMRFCosts(semanticLabels, desiredSemantics, startFrame, sequenceLength) :\n",
      "    \"\"\"Computes the unary and pairwise costs for a given sprite\n",
      "    \n",
      "        \\t  semanticLabels   : the semantic labels assigned to the frames in the sprite sequence\n",
      "        \\t  desiredSemantics : the desired label combination\n",
      "        \\t  startFrame       : starting frame for given sprite (used to constrain which frame to start from)\n",
      "        \\t  sequenceLength   : length of sequence to produce (i.e. number of variables to assign a label k \\belongs [0, N] where N is number of frames for sprite)\n",
      "           \n",
      "        return: unaries  = unary costs for each node in the graph\n",
      "                pairwise = pairwise costs for each edge in the graph\"\"\"\n",
      "    \n",
      "    maxCost = 10000000.0\n",
      "    ## k = num of semantic labels as there should be semantics attached to each frame\n",
      "    k = len(semanticLabels)\n",
      "    \n",
      "    ## unaries are dictated by semantic labels and by startFrame\n",
      "    \n",
      "    # start with uniform distribution for likelihood\n",
      "    likelihood = np.ones((k, sequenceLength))/(k*sequenceLength)\n",
      "    \n",
      "#     # set probability of start frame to 1 and renormalize\n",
      "#     if startFrame >= 0 and startFrame < k :\n",
      "#         likelihood[startFrame, 0] = 1.0\n",
      "#         likelihood /= np.sum(likelihood)\n",
      "    \n",
      "    # get the costs associated to agreement of the assigned labels to the desired semantics\n",
      "    # the variance should maybe depend on k so that when there are more frames in a sprite, the variance is higher so that even if I have to follow the timeline for a long time\n",
      "    # the cost deriveing from the unary cost does not become bigger than the single pairwise cost to break to go straight to the desired semantic label\n",
      "    # but for now the sprite sequences are not that long and I'm not expecting them to be many orders of magnitude longer \n",
      "    # (variance would have to be 5 or 6 orders of magnitude smaller to make breaking the timeline cheaper than following it)\n",
      "    distVariance = 0.001#0.001\n",
      "    numSemantics = semanticLabels.shape[-1]\n",
      "#     semanticsCosts = vectorisedMinusLogMultiNormal(semanticLabels, np.array(desiredSemantics).reshape((1, numSemantics)), np.eye(numSemantics)*distVariance, True)\n",
      "    semanticsCosts = np.zeros((k, desiredSemantics.shape[0]))\n",
      "    for i in xrange(desiredSemantics.shape[0]) :\n",
      "        semanticsCosts[:, i] = vectorisedMinusLogMultiNormal(semanticLabels, desiredSemantics[i, :].reshape((1, numSemantics)), np.eye(numSemantics)*distVariance, True)\n",
      "    \n",
      "    if desiredSemantics.shape[0] < sequenceLength :\n",
      "        semanticsCosts = semanticsCosts.reshape((k, 1)).repeat(sequenceLength, axis=-1)\n",
      "    \n",
      "    # set unaries to minus log of the likelihood + minus log of the semantic labels' distance to the \n",
      "    unaries = -np.log(likelihood) + semanticsCosts#.reshape((k, 1)).repeat(sequenceLength, axis=-1)\n",
      "#     unaries = semanticsCosts.reshape((k, 1)).repeat(sequenceLength, axis=-1)\n",
      "    \n",
      "# #     # set cost of start frame to 0 NOTE: not sure if I should use this or the above with the renormalization\n",
      "#     if startFrame >= 0 and startFrame < k :\n",
      "#         unaries[startFrame, 0] = 0.0\n",
      "    if startFrame >= 0 and startFrame < k :\n",
      "        unaries[:, 0] = maxCost\n",
      "        unaries[startFrame, 0] = 0.0\n",
      "    \n",
      "    ## pairwise are dictated by time constraint and looping ability (i.e. jump probability)\n",
      "    \n",
      "    # first dimension is k_n, second represents k_n-1 and last dimension represents all the edges going from graph column w_n-1 to w_n\n",
      "    pairwise = np.zeros([k, k, sequenceLength-1])\n",
      "    \n",
      "    # to enforce timeline give low cost to edge between w_n-1(k = i) and w_n(k = i+1) which can be achieved using\n",
      "    # an identity matrix with diagonal shifted down by one because only edges from column i-1 and k = j to column i and k=j+1 are viable\n",
      "    timeConstraint = np.eye(k, k=-1)\n",
      "    # also allow the sprite to keep looping on label 0 (i.e. show only sprite frame 0 which is the empty frame) so make edge from w_n-1(k=0) to w_n(k=0) viable\n",
      "    timeConstraint[0, 0] = 1.0\n",
      "    # also allow the sprite to keep looping from the last frame if necessary so allow to go \n",
      "    # from last column (i.e. edge starts from w_n-1(k=last frame)) to second row because first row represents empty frame (i.e. edge goes to w_n(k=1))\n",
      "    timeConstraint[1, k-1] = 1.0\n",
      "    # also allow the sprite to go back to the first frame (i.e. empty frame) so allow a low cost edge \n",
      "    # from last column (i.e. edge starts from w_n-1(k=last frame)) to first row (i.e. edge goes to w_n(k=0))\n",
      "    timeConstraint[0, k-1] = 1.0\n",
      "    \n",
      "    ## NOTE: don't do all the normal distribution wanking for now: just put very high cost to non viable edges but I'll need something more clever when I try to actually loop a video texture\n",
      "    ## I would also have to set the time constraint edges' costs to something different from 0 to allow for quicker paths (but more expensive individually) to be chosen when\n",
      "    ## the semantic label changes\n",
      "#     timeConstraint /= np.sum(timeConstraint) ## if I normalize here then I need to set mean of gaussian below to what the new max is\n",
      "#     timeConstraint = vectorisedMinusLogMultiNormal(timeConstraint.reshape((k*k, 1)), np.array([np.max(timeConstraint)]).reshape((1, 1)), np.array([distVariance]).reshape((1, 1)), True)\n",
      "    timeConstraint = (1.0 - timeConstraint)*maxCost\n",
      "    \n",
      "    pairwise = timeConstraint\n",
      "    \n",
      "    return unaries.T, pairwise.T"
     ],
     "language": "python",
     "metadata": {},
     "outputs": [],
     "prompt_number": 7
    },
    {
     "cell_type": "code",
     "collapsed": false,
     "input": [
      "### this is done using matrices\n",
      "def solveSparseDynProgMRF(unaryCosts, pairwiseCosts, nodesConnectedToLabel) :\n",
      "    ## assumes unaryCosts has 1 row for each label and 1 col for each variable\n",
      "    ## assumes arrow heads are rows and arrow tails are cols in pairwiseCosts\n",
      "    \n",
      "    ## use the unary and pairwise costs to compute the min cost paths at each node\n",
      "    # each column represents point n and each row says the index of the k-state that is chosen for the min cost path\n",
      "    minCostPaths = np.zeros([unaryCosts.shape[0], unaryCosts.shape[1]], dtype=int)\n",
      "    # contains the min cost to reach a certain state k (i.e. row) for point n (i.e. column)\n",
      "    minCosts = np.zeros([unaryCosts.shape[0], unaryCosts.shape[1]])\n",
      "    # the first row of minCosts is just the unary cost\n",
      "    minCosts[:, 0] = unaryCosts[:, 0]\n",
      "    minCostPaths[:, 0] = np.arange(0, unaryCosts.shape[0])        \n",
      "    \n",
      "    k = unaryCosts.shape[0]\n",
      "    for n in xrange(1, unaryCosts.shape[1]) :\n",
      "        costsPerVariableLabelEdge = minCosts[nodesConnectedToLabel, n-1]\n",
      "        costsPerVariableLabelEdge += pairwiseCosts[arange(len(pairwiseCosts)).reshape((len(pairwiseCosts), 1)).repeat(nodesConnectedToLabel.shape[-1], axis=-1), nodesConnectedToLabel]\n",
      "        costsPerVariableLabelEdge += unaryCosts[:, n].reshape((len(unaryCosts), 1)).repeat(nodesConnectedToLabel.shape[-1], axis=-1)\n",
      "        minCostsIdxs = np.argmin(costsPerVariableLabelEdge, axis=-1)\n",
      "        ## minCosts\n",
      "        minCosts[:, n] = costsPerVariableLabelEdge[arange(len(unaryCosts)), minCostsIdxs]\n",
      "        ## minCostPaths\n",
      "        minCostPaths[:, n] = nodesConnectedToLabel[arange(len(unaryCosts)), minCostsIdxs]\n",
      "    \n",
      "    \n",
      "    ## now find the min cost path starting from the right most n with lowest cost\n",
      "    minCostTraversal = np.zeros(unaryCosts.shape[1], dtype=np.int)\n",
      "    ## last node is the node where the right most node with lowest cost\n",
      "    minCostTraversal[-1] = np.argmin(minCosts[:, -1]) #minCostPaths[np.argmin(minCosts[:, -1]), -1]\n",
      "    if np.min(minCosts[:, -1]) == np.inf :\n",
      "        minCostTraversal[-1] = np.floor((unaryCosts.shape[0])/2)\n",
      "    \n",
      "    for i in xrange(len(minCostTraversal)-2, -1, -1) :\n",
      "        minCostTraversal[i] = minCostPaths[minCostTraversal[i+1], i+1]\n",
      "        \n",
      "    return minCostTraversal, np.min(minCosts[:, -1])"
     ],
     "language": "python",
     "metadata": {},
     "outputs": [],
     "prompt_number": 8
    },
    {
     "cell_type": "code",
     "collapsed": false,
     "input": [
      "tmp = list([0, 6, 72, 23, 65, 89])\n",
      "\n",
      "print tmp\n",
      "\n",
      "tmp = [tmp[x] for x in xrange(len(tmp)) if tmp[x] > 30]\n",
      "\n",
      "print tmp"
     ],
     "language": "python",
     "metadata": {},
     "outputs": [
      {
       "output_type": "stream",
       "stream": "stdout",
       "text": [
        "[0, 6, 72, 23, 65, 89]\n",
        "[72, 65, 89]\n"
       ]
      }
     ],
     "prompt_number": 32
    },
    {
     "cell_type": "code",
     "collapsed": false,
     "input": [
      "class ImageLabel(QtGui.QLabel) :\n",
      "    \n",
      "    def __init__(self, text, parent=None):\n",
      "        super(ImageLabel, self).__init__(text, parent)\n",
      "        \n",
      "        self.setMouseTracking(True)\n",
      "        \n",
      "        self.image = None\n",
      "        self.overlay = None\n",
      "        \n",
      "    def setImage(self, image) : \n",
      "        self.image = image.copy()\n",
      "        self.update()\n",
      "\n",
      "    def setOverlay(self, overlay) :\n",
      "        self.overlay = overlay.copy()\n",
      "        self.update()\n",
      "        \n",
      "    def paintEvent(self, event):\n",
      "        super(ImageLabel, self).paintEvent(event)\n",
      "        painter = QtGui.QPainter(self)\n",
      "        if self.image != None :\n",
      "            painter.drawImage(QtCore.QPoint(0, 0), self.image)\n",
      "            \n",
      "        if self.overlay != None :\n",
      "            painter.drawImage(QtCore.QPoint(0, 0), self.overlay)\n",
      "        \n",
      "    def setPixmap(self, pixmap) :\n",
      "        if pixmap.width() > self.width() :\n",
      "            super(ImageLabel, self).setPixmap(pixmap.scaledToWidth(self.width()))\n",
      "        else :\n",
      "            super(ImageLabel, self).setPixmap(pixmap)\n",
      "        \n",
      "    def resizeEvent(self, event) :\n",
      "        if self.pixmap() != None :\n",
      "            if self.pixmap().width() > self.width() :\n",
      "                self.setPixmap(self.pixmap().scaledToWidth(self.width()))\n",
      "                \n",
      "                \n",
      "class Window(QtGui.QWidget):\n",
      "    def __init__(self):\n",
      "        super(Window, self).__init__()\n",
      "        \n",
      "        self.setWindowTitle(\"Fogger++\")\n",
      "        self.resize(1280, 720)\n",
      "        \n",
      "        self.playIcon = QtGui.QIcon(\"play.png\")\n",
      "        self.pauseIcon = QtGui.QIcon(\"pause.png\")\n",
      "        self.doPlay = False\n",
      "        self.needNewSprite = True\n",
      "        self.numTriesToSpawn = 0\n",
      "        \n",
      "        self.createGUI()\n",
      "        \n",
      "        self.isDirty = False\n",
      "        self.upPressed = False\n",
      "        self.leftPressed = False\n",
      "        self.downPressed = False\n",
      "        self.rightPressed = False\n",
      "        \n",
      "        self.playerPos = np.array([1098.0, 255.0])\n",
      "        self.PLAYER_SPEED = 10.0\n",
      "        self.goalPoint = np.array([579.0, 688.0])\n",
      "        \n",
      "        self.EXTEND_LENGTH = 20 + 1 ## since I get rid of the frist frame from the generated sequence because it's forced to be the one already showing\n",
      "        self.TOGGLE_DELAY = 8\n",
      "        self.BURST_ENTER_DELAY = 2\n",
      "        self.BURST_EXIT_DELAY = 20\n",
      "        \n",
      "        self.trackedSprites = []\n",
      "        self.spriteToSpawnIdx = 0\n",
      "        \n",
      "        self.DO_EXTEND = 0\n",
      "        self.DO_TOGGLE = 1\n",
      "        self.DO_BURST = 2\n",
      "        \n",
      "        self.frameIdx = 0\n",
      "        self.overlayImg = QtGui.QImage(QtCore.QSize(100, 100), QtGui.QImage.Format_ARGB32)\n",
      "        \n",
      "        ## get background image\n",
      "        im = np.ascontiguousarray(Image.open(dataPath + dataSet + \"median.png\"))\n",
      "        self.bgImage = QtGui.QImage(im.data, im.shape[1], im.shape[0], im.strides[0], QtGui.QImage.Format_RGB888);\n",
      "        self.frameLabel.setFixedSize(self.bgImage.width(), self.bgImage.height())\n",
      "        self.frameLabel.setImage(self.bgImage)\n",
      "        \n",
      "        ## get depth image \n",
      "        self.depthImg = np.array(Image.open(dataPath + dataSet + \"medianApproxDepth.png\"))\n",
      "        \n",
      "        self.loadTrackedSprites()\n",
      "        \n",
      "        self.precomputedSequence = []\n",
      "#         self.generatedSequence = []\n",
      "        \n",
      "#         if len(glob.glob(dataPath+dataSet+\"generatedSequence-*\")) > 0 :\n",
      "#             ## load latest sequence\n",
      "#             self.generatedSequence = list(np.load(np.sort(glob.glob(dataPath+dataSet+\"generatedSequence-*\"))[-1]))\n",
      "# #             self.generatedSequence = generatedSequence\n",
      "#             if len(self.generatedSequence) > 0 :\n",
      "#                 ## update sliders\n",
      "# #                 self.frameIdxSlider.setMaximum(len(self.generatedSequence[0][DICT_SEQUENCE_FRAMES])-1)\n",
      "# #                 self.frameIdxSpinBox.setRange(0, len(self.generatedSequence[0][DICT_SEQUENCE_FRAMES])-1)\n",
      "                \n",
      "#                 self.frameInfo.setText(\"Generated sequence length: \" + np.string_(len(self.generatedSequence[0][DICT_SEQUENCE_FRAMES])))\n",
      "                \n",
      "#                 self.showFrame(self.frameIdx)\n",
      "        \n",
      "        self.playTimer = QtCore.QTimer(self)\n",
      "        self.playTimer.setInterval(1000/30)\n",
      "        self.playTimer.timeout.connect(self.renderOneFrame)\n",
      "        self.playTimer.start()\n",
      "        \n",
      "        self.setFocus()\n",
      "        \n",
      "    def renderOneFrame(self) :\n",
      "#         idx = self.frameIdx\n",
      "        \n",
      "        ## if playing, show next frame in the sequence\n",
      "        if self.doPlay :\n",
      "#             idx = self.frameIdx + 1\n",
      "#             if idx >= 0 and len(self.precomputedSequence) > 0 : \n",
      "#                 idx = np.mod(idx, len(self.precomputedSequence[0][DICT_SEQUENCE_FRAMES]))\n",
      "            self.isDirty = True\n",
      "            \n",
      "        if self.upPressed :\n",
      "            self.updatePlayerPos(np.array([0.0, -self.PLAYER_SPEED]))\n",
      "            self.isDirty = True\n",
      "        if self.leftPressed :\n",
      "            self.updatePlayerPos(np.array([-self.PLAYER_SPEED, 0.0]))\n",
      "            self.isDirty = True\n",
      "        if self.downPressed :\n",
      "            self.updatePlayerPos(np.array([0.0, self.PLAYER_SPEED]))\n",
      "            self.isDirty = True\n",
      "        if self.rightPressed :\n",
      "            self.updatePlayerPos(np.array([self.PLAYER_SPEED, 0.0]))\n",
      "            self.isDirty = True\n",
      "        \n",
      "        if self.isDirty :\n",
      "#             self.showFrame(idx)\n",
      "            self.showFrame(0)\n",
      "        \n",
      "        if self.doPlay :\n",
      "            for s in xrange(len(self.precomputedSequence)) :\n",
      "                ## index in self.trackedSprites of current sprite in self.precomputedSequence\n",
      "                spriteIdx = self.precomputedSequence[s][DICT_SPRITE_IDX]\n",
      "                ## index of current sprite frame to visualize\n",
      "                sequenceFrameIdx = self.precomputedSequence[s][DICT_SEQUENCE_FRAMES][0]-1\n",
      "                ## -1 stands for not shown or eventually for more complicated sprites as the base frame to keep showing when sprite is frozen\n",
      "                ## really in the sequence I have 0 for the static frame but above I do -1\n",
      "                if sequenceFrameIdx >= 0 :\n",
      "                    ## the trackedSprites data is indexed (i.e. the keys) by the frame indices in the original full sequence and keys are not sorted\n",
      "                    frameToShowIdx = np.sort(self.trackedSprites[spriteIdx][DICT_FRAMES_LOCATIONS].keys())[sequenceFrameIdx]\n",
      "\n",
      "                    bbox = self.trackedSprites[spriteIdx][DICT_BBOXES][frameToShowIdx]\n",
      "                    bbox = np.vstack((bbox, bbox[0, :]))\n",
      "                    if cv2.pointPolygonTest(np.array(bbox, dtype=np.float32), (self.playerPos[0], self.playerPos[1]), False) >= 0 :\n",
      "                        self.frameInfo.setText(\"You Died !!!\")\n",
      "                        self.playButton.click()\n",
      "                        self.restartGame()\n",
      "                        return None\n",
      "\n",
      "            if np.linalg.norm(self.playerPos-self.goalPoint) < 21.0 :\n",
      "                self.frameInfo.setText(\"You Win !!!\")\n",
      "                self.playButton.click()\n",
      "                self.restartGame()\n",
      "\n",
      "            ## delete first frame of each sequence\n",
      "            for s in xrange(len(self.precomputedSequence)) :\n",
      "                self.precomputedSequence[s][DICT_SEQUENCE_FRAMES] = self.precomputedSequence[s][DICT_SEQUENCE_FRAMES][1:]\n",
      "                self.precomputedSequence[s][DICT_DESIRED_SEMANTICS] = self.precomputedSequence[s][DICT_DESIRED_SEMANTICS][1:]\n",
      "\n",
      "            ## delete all sprites that have only frame 0 in their sequence\n",
      "            self.precomputedSequence = [self.precomputedSequence[s] for s in xrange(len(self.precomputedSequence)) if np.sum(self.precomputedSequence[s][DICT_SEQUENCE_FRAMES]) != 0]\n",
      "\n",
      "            if len(self.precomputedSequence) > 0 and len(self.precomputedSequence[0][DICT_SEQUENCE_FRAMES]) < self.EXTEND_LENGTH :\n",
      "                self.extendFullSequence(self.EXTEND_LENGTH, len(self.precomputedSequence[0][DICT_SEQUENCE_FRAMES])-1)\n",
      "                \n",
      "                self.spawnSprite()\n",
      "            \n",
      "                \n",
      "        self.isDirty = False\n",
      "        \n",
      "    \n",
      "    def showFrame(self, idx) :\n",
      "        if idx >= 0 and len(self.precomputedSequence) > 0 and idx < len(self.precomputedSequence[0][DICT_SEQUENCE_FRAMES]) :\n",
      "#             self.frameIdx = idx\n",
      "            \n",
      "            if self.bgImage != None and self.overlayImg.size() != self.bgImage.size() :\n",
      "                self.overlayImg = self.overlayImg.scaled(self.bgImage.size())\n",
      "            ## empty image\n",
      "            self.overlayImg.fill(QtGui.QColor.fromRgb(255, 255, 255, 0))\n",
      "            \n",
      "            ## go through all the sprites used in the sequence\n",
      "            for s in xrange(len(self.precomputedSequence)) :\n",
      "                ## index in self.trackedSprites of current sprite in self.precomputedSequence\n",
      "                spriteIdx = self.precomputedSequence[s][DICT_SPRITE_IDX]\n",
      "                ## index of current sprite frame to visualize\n",
      "#                 sequenceFrameIdx = self.precomputedSequence[s][DICT_SEQUENCE_FRAMES][self.frameIdx]-1\n",
      "                sequenceFrameIdx = self.precomputedSequence[s][DICT_SEQUENCE_FRAMES][0]-1\n",
      "                ## -1 stands for not shown or eventually for more complicated sprites as the base frame to keep showing when sprite is frozen\n",
      "                ## really in the sequence I have 0 for the static frame but above I do -1\n",
      "                if sequenceFrameIdx >= 0 :\n",
      "                    ## the trackedSprites data is indexed (i.e. the keys) by the frame indices in the original full sequence and keys are not sorted\n",
      "                    frameToShowIdx = np.sort(self.trackedSprites[spriteIdx][DICT_FRAMES_LOCATIONS].keys())[sequenceFrameIdx]\n",
      "                    if spriteIdx >= 0 and spriteIdx < len(preloadedSpritePatches) and sequenceFrameIdx < len(preloadedSpritePatches[spriteIdx]) :\n",
      "                        ## the QImage for this frame has been preloaded\n",
      "#                         print \"tralala\", sequenceFrameIdx, self.frameIdx, s\n",
      "#                         print \"drawing preloaded\"\n",
      "                        self.drawOverlay(self.trackedSprites[spriteIdx], frameToShowIdx, True, \n",
      "                                         False, False, False, preloadedSpritePatches[spriteIdx][sequenceFrameIdx])\n",
      "                    else :\n",
      "#                         print \"loading image\"\n",
      "                        self.drawOverlay(self.trackedSprites[spriteIdx], frameToShowIdx, True, False, False, False)\n",
      "                    \n",
      "#                     self.drawOverlay(self.trackedSprites[spriteIdx], frameToShowIdx, self.drawSpritesBox.isChecked(), \n",
      "#                                      self.drawBBoxBox.isChecked(), self.drawCenterBox.isChecked())\n",
      "#                     self.drawOverlay(self.trackedSprites[spriteIdx], frameToShowIdx, True, False, True, False)\n",
      "            \n",
      "            self.drawOverlay(None, None, False, True, False, False)\n",
      "            \n",
      "            self.frameLabel.setFixedSize(self.overlayImg.width(), self.overlayImg.height())\n",
      "            self.frameLabel.setOverlay(self.overlayImg)\n",
      "            \n",
      "    def drawOverlay(self, sprite, frameIdx, doDrawSprite, doDrawPlayer, doDrawBBox, doDrawCenter, spritePatch = None) :\n",
      "        if self.overlayImg != None :\n",
      "            painter = QtGui.QPainter(self.overlayImg)\n",
      "            \n",
      "            if sprite != None and frameIdx != None :\n",
      "                ## draw sprite\n",
      "                if doDrawSprite :\n",
      "                    if spritePatch != None :\n",
      "                        reconstructedImg = np.ascontiguousarray(np.zeros((spritePatch['patch_size'][0], spritePatch['patch_size'][1], 4)), dtype=np.uint8)\n",
      "                        reconstructedImg[spritePatch['visible_indices'][:, 0], spritePatch['visible_indices'][:, 1], :] = spritePatch['sprite_colors']\n",
      "                        reconstructedQImage = QtGui.QImage(reconstructedImg.data, reconstructedImg.shape[1], reconstructedImg.shape[0], \n",
      "                                                           reconstructedImg.strides[0], QtGui.QImage.Format_ARGB32)\n",
      "                        \n",
      "                        painter.drawImage(QtCore.QRect(spritePatch['top_left_pos'][1], spritePatch['top_left_pos'][0],\n",
      "                                                       spritePatch['patch_size'][1], spritePatch['patch_size'][0]), reconstructedQImage)\n",
      "                    else :\n",
      "                        ## maybe save all this data in trackedSprites by modifying it in \"Merge Tracked Sprites\"\n",
      "                        frameName = sprite[DICT_FRAMES_LOCATIONS][frameIdx].split(os.sep)[-1]\n",
      "                        maskDir = dataPath + dataSet + sprite[DICT_SPRITE_NAME] + \"-masked\"\n",
      "                        \n",
      "                        if os.path.isdir(maskDir) and os.path.exists(maskDir+\"/\"+frameName) :\n",
      "                            im = np.ascontiguousarray(cv2.imread(maskDir+\"/\"+frameName, cv2.CV_LOAD_IMAGE_UNCHANGED))\n",
      "                            img = QtGui.QImage(im.data, im.shape[1], im.shape[0], im.strides[0], QtGui.QImage.Format_ARGB32)\n",
      "                        else :\n",
      "                            im = np.ascontiguousarray(Image.open(sprite[DICT_FRAMES_LOCATIONS][frameIdx]))\n",
      "                            img = QtGui.QImage(im.data, im.shape[1], im.shape[0], im.strides[0], QtGui.QImage.Format_RGB888)\n",
      "                            \n",
      "                        painter.drawImage(QtCore.QPoint(0, 0), img)\n",
      "                \n",
      "                painter.setPen(QtGui.QPen(QtGui.QColor.fromRgb(0, 0, 255, 255), 3, \n",
      "                                          QtCore.Qt.SolidLine, QtCore.Qt.RoundCap, QtCore.Qt.RoundJoin))\n",
      "                ## draw bbox\n",
      "                if doDrawBBox :\n",
      "                    bbox = sprite[DICT_BBOXES][frameIdx]\n",
      "                    for p1, p2 in zip(np.mod(arange(4), 4), np.mod(arange(1, 5), 4)) :\n",
      "                        painter.drawLine(QtCore.QPointF(bbox[p1, 0], bbox[p1, 1]), QtCore.QPointF(bbox[p2, 0], bbox[p2, 1]))\n",
      "                \n",
      "                ## draw bbox center\n",
      "                if doDrawCenter :\n",
      "                    painter.drawPoint(QtCore.QPointF(sprite[DICT_BBOX_CENTERS][frameIdx][0], sprite[DICT_BBOX_CENTERS][frameIdx][1]))\n",
      "            \n",
      "            ## draw player dot\n",
      "            if doDrawPlayer :\n",
      "#                 size = np.log(500.0/float(self.depthImg[self.playerPos[1], self.playerPos[0], 0]))*2\n",
      "#                 size = (255.0-float(self.depthImg[self.playerPos[1], self.playerPos[0], 0]))/10.0\n",
      "                size = log(255.0/float(self.depthImg[self.playerPos[1], self.playerPos[0], 0]))*6\n",
      "                painter.setPen(QtGui.QPen(QtGui.QColor.fromRgb(255, 255, 0, 255), size, \n",
      "                                          QtCore.Qt.SolidLine, QtCore.Qt.RoundCap, QtCore.Qt.RoundJoin))\n",
      "                painter.drawPoint(QtCore.QPointF(self.playerPos[0], self.playerPos[1]))\n",
      "            \n",
      "                \n",
      "                painter.setPen(QtGui.QPen(QtGui.QColor.fromRgb(255, 0, 0, 255), 40, \n",
      "                                          QtCore.Qt.SolidLine, QtCore.Qt.RoundCap, QtCore.Qt.RoundJoin))\n",
      "                painter.drawPoint(QtCore.QPointF(self.goalPoint[0], self.goalPoint[1]))\n",
      "                \n",
      "    def getOptimizedSequence(self, sprite, spriteIdx, competingSequences, desiredSemantics, desiredStartFrame, resolveCompatibility = False) :\n",
      "#         spriteIdx = self.precomputedSequence[i][DICT_SPRITE_IDX]\n",
      "                \n",
      "        ### HACK ### semanticLabels for each sprite are just saying that the first frame of the sprite sequence means sprite not visible and the rest mean it is\n",
      "        semanticLabels = np.zeros((len(sprite[DICT_BBOX_CENTERS])+1, 2))\n",
      "        ## label 0 means sprite not visible (i.e. only show the first empty frame)\n",
      "        semanticLabels[0, 0] = 1.0\n",
      "        semanticLabels[1:, 1] = 1.0\n",
      "        \n",
      "        ## do dynamic programming optimization\n",
      "        unaries, pairwise = getMRFCosts(semanticLabels, desiredSemantics, desiredStartFrame, len(desiredSemantics))\n",
      "        \n",
      "        ## now try and do the optimization completely vectorized\n",
      "        ## number of edges connected to each label node of variable n (pairwise stores node at arrow tail as cols and at arrow head as rows)\n",
      "        maxEdgesPerLabel = np.max(np.sum(np.array(pairwise.T != np.max(pairwise.T), dtype=int), axis=-1))\n",
      "        ## initialize this to index of connected label node with highest edge cost (which is then used as padding)\n",
      "        ## it contains for each label node of variable n (indexed by rows), all the label nodes of variable n-1 it is connected to by non infinite cost edge (indexed by cols)\n",
      "        nodesConnectedToLabel = np.argmax(pairwise.T, axis=-1).reshape((len(pairwise.T), 1)).repeat(maxEdgesPerLabel, axis=-1)\n",
      "        \n",
      "        sparseIndices = np.where(pairwise != np.max(pairwise))\n",
      "        # print sparseIndices\n",
      "        tailIndices = sparseIndices[0]\n",
      "        headIndices = sparseIndices[1]\n",
      "        \n",
      "        ## this contains which label of variable n-1 is connected to which label of variable n\n",
      "        indicesInLabelSpace = [list(tailIndices[np.where(headIndices == headIdx)[0]]) for headIdx in np.unique(headIndices)]\n",
      "        \n",
      "        for headLabel, tailLabels in zip(arange(0, len(nodesConnectedToLabel)), indicesInLabelSpace) :\n",
      "            nodesConnectedToLabel[headLabel, 0:len(tailLabels)] = tailLabels\n",
      "                        \n",
      "        minCostTraversal, minCost = solveSparseDynProgMRF(unaries.T, pairwise.T, nodesConnectedToLabel)#solveMRF(unaries, pairwise)\n",
      "        \n",
      "        if resolveCompatibility :\n",
      "            \n",
      "            isSpriteCompatible = self.checkIsCompatible(sprite, spriteIdx, minCostTraversal, competingSequences)\n",
      "            count = 0\n",
      "            while True :\n",
      "                if np.any(np.negative(isSpriteCompatible)) :\n",
      "                    if count == 0 :\n",
      "                        return None\n",
      "                    ## when I do the check for all the sprites in the sequence I would have to take an AND over all the isSpriteCompatible arrays but now I know there's only 1 sprite\n",
      "                    \n",
      "                    ## change the unaries to increase the cost for the frames where the isSpriteCompatible is False\n",
      "                    unaries[np.arange(len(minCostTraversal), dtype=int)[np.negative(isSpriteCompatible)], minCostTraversal[np.negative(isSpriteCompatible)]] += 1000.0\n",
      "                    tic = time.time()\n",
      "                    minCostTraversal, minCost = solveSparseDynProgMRF(unaries.T, pairwise.T, nodesConnectedToLabel)#solveMRF(unaries, pairwise)\n",
      "#                     if True or np.mod(count, 20) == 0 :\n",
      "#                         print \"iteration\", count, \": solved traversal for sprite\", sprite[DICT_SPRITE_NAME] , \"in\", time.time() - tic, \n",
      "#                         print \"num of zeros:\", len(np.argwhere(minCostTraversal == 0)); sys.stdout.flush()\n",
      "\n",
      "                    isSpriteCompatible = self.checkIsCompatible(sprite, spriteIdx, minCostTraversal, competingSequences)\n",
      "                else :\n",
      "#                     print \"done\"\n",
      "                    break\n",
      "                count += 1\n",
      "                    \n",
      "        return minCostTraversal\n",
      "    \n",
      "    def checkIsCompatible(self, sprite, spriteIdx, spriteSequence, competingSequences) :\n",
      "        \n",
      "        isSpriteCompatible = np.ones(len(spriteSequence), dtype=np.bool)\n",
      "        \n",
      "        \n",
      "        spriteTotLength = len(sprite[DICT_BBOX_CENTERS])\n",
      "        spriteSemanticLabels = np.zeros((spriteTotLength+1, 2))\n",
      "        ## label 0 means sprite not visible (i.e. only show the first empty frame)\n",
      "        spriteSemanticLabels[0, 0] = 1.0\n",
      "        spriteSemanticLabels[1:, 1] = 1.0\n",
      "            \n",
      "        for competingSequence in competingSequences :\n",
      "            overlappingSpriteSequence = np.array(competingSequence[DICT_SEQUENCE_FRAMES], dtype=int)\n",
      "            \n",
      "            overlappingSpriteTotLength = len(self.trackedSprites[competingSequence[DICT_SPRITE_IDX]][DICT_BBOX_CENTERS])\n",
      "            overlappingSpriteSemanticLabels = np.zeros((overlappingSpriteTotLength+1, 2))\n",
      "            ## label 0 means sprite not visible (i.e. only show the first empty frame)\n",
      "            overlappingSpriteSemanticLabels[0, 0] = 1.0\n",
      "            overlappingSpriteSemanticLabels[1:, 1] = 1.0\n",
      "            \n",
      "            areSpritesCompatible = np.zeros(len(spriteSequence), dtype=np.bool)\n",
      "            \n",
      "            ## if the semantic labels are different, the sprites are compatible with each in the reshuffling case but need to figure out how to deal with this\n",
      "            ## in a general way\n",
      "#             areSpritesCompatible[np.all(spriteSemanticLabels[overlappingSpriteSequence] != conflictingSpriteSemanticLabels[spriteSequence], axis = 1)] = True\n",
      "            ### HACK ??? ### if one of the frame is 0 it means the two sprites are compatible\n",
      "            areSpritesCompatible[np.any(np.array(np.vstack((overlappingSpriteSequence.reshape((1, len(overlappingSpriteSequence))),\n",
      "                                                            spriteSequence.reshape((1, len(spriteSequence))))), dtype=int) == 0, axis = 0)] = True\n",
      "            \n",
      "            frameRanges = synchedSequence2FullOverlap(np.array(np.vstack((overlappingSpriteSequence.reshape((1, len(overlappingSpriteSequence)))-1,\n",
      "                                                                          spriteSequence.reshape((1, len(spriteSequence)))-1)), dtype=int), \n",
      "                                                      np.array((overlappingSpriteTotLength, spriteTotLength)))\n",
      "            \n",
      "            if frameRanges != None :\n",
      "            \n",
      "                spriteIdxs = np.array([competingSequence[DICT_SPRITE_IDX], spriteIdx])\n",
      "                sortIdxs = np.argsort(spriteIdxs)\n",
      "                pairing = np.string_(spriteIdxs[sortIdxs][0]) + np.string_(spriteIdxs[sortIdxs][1])\n",
      "                pairingShift = frameRanges[sortIdxs, 0][1]-frameRanges[sortIdxs, 0][0]\n",
      "                totalDistance = precomputedDistances[pairing][pairingShift]\n",
      "        \n",
      "#                 print \"lala\", totalDistance, precomputedDistances[pairing][pairingShift], spriteIdxs, pairing, pairingShift, spriteIdx, frameRanges[sortIdxs, 0]\n",
      "                \n",
      "                ## find all pairs of frame that show the same label as the desired label (i.e. [0.0, 1.0])\n",
      "                tmp = np.all(overlappingSpriteSemanticLabels[overlappingSpriteSequence] == spriteSemanticLabels[spriteSequence], axis=1)\n",
      "                if totalDistance > 5.0 : \n",
      "                    areSpritesCompatible[np.all((np.all(spriteSemanticLabels[spriteSequence] == np.array([0.0, 1.0]), axis=1), tmp), axis=0)] = True\n",
      "#             else :\n",
      "#                 print \"sprites not overlapping\"\n",
      "            \n",
      "            isSpriteCompatible = np.all((isSpriteCompatible, areSpritesCompatible), axis=0)\n",
      "                    \n",
      "        return isSpriteCompatible\n",
      "    \n",
      "    def extendSequenceTrackSemantics(self, currentSemantics, length, mode) :\n",
      "        \n",
      "        desiredSemantics = np.array([1.0, 0.0]).reshape((1, 2)).repeat(length, axis=0)\n",
      "        if mode == self.DO_EXTEND :\n",
      "            ## extend semantics\n",
      "            desiredSemantics = currentSemantics.repeat(length, axis=0)\n",
      "        elif mode == self.DO_TOGGLE :\n",
      "            ## toggle semantics\n",
      "            desiredSemantics = self.toggleSequenceTrackSemantics(currentSemantics, length, self.TOGGLE_DELAY)\n",
      "        elif mode == self.DO_BURST :\n",
      "            ## burst toggle semantics from current to toggle and back to current\n",
      "            desiredSemantics = self.burstSemanticsToggle(currentSemantics, length, self.BURST_ENTER_DELAY, self.BURST_EXIT_DELAY)\n",
      "            \n",
      "        return desiredSemantics\n",
      "                \n",
      "    def extendPrecomputedSequence(self, sequenceIdx, extensionLength, startFrame) :\n",
      "#         for i in xrange(len(self.precomputedSequence)) :\n",
      "        if sequenceIdx >= 0 and sequenceIdx < len(self.precomputedSequence) :\n",
      "            if len(self.precomputedSequence[sequenceIdx][DICT_DESIRED_SEMANTICS]) > 0 :\n",
      "                currentSemantics = self.precomputedSequence[sequenceIdx][DICT_DESIRED_SEMANTICS][-1, :].reshape((1, 2))\n",
      "            else :\n",
      "                ## hardcoded desired \"not show\" label\n",
      "                currentSemantics = np.array([1.0, 0.0]).reshape((1, 2))\n",
      "                \n",
      "            desiredSemantics = self.extendSequenceTrackSemantics(currentSemantics, extensionLength, self.DO_EXTEND)\n",
      "            \n",
      "            if len(self.precomputedSequence[sequenceIdx][DICT_SEQUENCE_FRAMES]) == 0 :\n",
      "                desiredStartFrame = 0\n",
      "            else :\n",
      "                desiredStartFrame = self.precomputedSequence[sequenceIdx][DICT_SEQUENCE_FRAMES][startFrame]\n",
      "                \n",
      "            spriteSequence = self.getOptimizedSequence(self.trackedSprites[self.precomputedSequence[sequenceIdx][DICT_SPRITE_IDX]], \n",
      "                                                       self.precomputedSequence[sequenceIdx][DICT_SPRITE_IDX], \n",
      "                                                       [self.precomputedSequence[i] for i in np.argwhere(np.arange(len(self.precomputedSequence)) != sequenceIdx)], \n",
      "                                                       desiredSemantics, desiredStartFrame, resolveCompatibility = False)\n",
      "            \n",
      "            if spriteSequence != None :\n",
      "                ## update dictionary\n",
      "                # don't take the first frame of the spriteSequence as it would just repeat the last seen frame\n",
      "                self.precomputedSequence[sequenceIdx][DICT_SEQUENCE_FRAMES] = np.hstack((self.precomputedSequence[sequenceIdx][DICT_SEQUENCE_FRAMES][:startFrame+1], \n",
      "                                                                               spriteSequence[1:]))\n",
      "                self.precomputedSequence[sequenceIdx][DICT_DESIRED_SEMANTICS] = np.vstack((self.precomputedSequence[sequenceIdx][DICT_DESIRED_SEMANTICS][:startFrame+1],\n",
      "                                                                               desiredSemantics[1:, :]))\n",
      "                \n",
      "                return True\n",
      "            \n",
      "        return False\n",
      "    \n",
      "    def spawnSprite(self) :\n",
      "        \n",
      "        if self.needNewSprite :\n",
      "            self.spriteToSpawnIdx = random.choice(arange(len(window.trackedSprites)))\n",
      "        \n",
      "        if self.spriteToSpawnIdx >= 0 and self.spriteToSpawnIdx < len(self.trackedSprites) :\n",
      "            sys.stdout.write('\\r' +  \"trying to spawn sprite \" + self.trackedSprites[self.spriteToSpawnIdx][DICT_SPRITE_NAME])\n",
      "            sys.stdout.flush()\n",
      "#             print \"trying to spawn sprite\", self.trackedSprites[self.spriteToSpawnIdx][DICT_SPRITE_NAME],\n",
      "            ## spawn new sprite\n",
      "#             self.addNewSpriteTrackToSequence(self.spriteToSpawnIdx)\n",
      "            self.spriteToSpawn = {\n",
      "                                   DICT_SPRITE_IDX:self.spriteToSpawnIdx,\n",
      "                                   DICT_SPRITE_NAME:self.trackedSprites[self.spriteToSpawnIdx][DICT_SPRITE_NAME],\n",
      "                                   DICT_SEQUENCE_FRAMES:np.empty(0, dtype=int),\n",
      "                                   DICT_DESIRED_SEMANTICS:np.empty((0, 2), dtype=float)\n",
      "                                 }\n",
      "            extensionLength = self.EXTEND_LENGTH\n",
      "            if len(self.precomputedSequence) > 0 :\n",
      "                extensionLength = len(self.precomputedSequence[0][DICT_SEQUENCE_FRAMES])\n",
      "        \n",
      "            desiredSemantics = self.extendSequenceTrackSemantics(np.array([1.0, 0.0]).reshape((1, 2)), extensionLength, self.DO_TOGGLE)\n",
      "            \n",
      "            tic = time.time()\n",
      "            spriteSequence = self.getOptimizedSequence(self.trackedSprites[self.spriteToSpawnIdx], self.spriteToSpawnIdx, \n",
      "                                                       self.precomputedSequence, desiredSemantics, 0, resolveCompatibility = True)\n",
      "#             print \"1\", time.time() - tic\n",
      "            \n",
      "            tic = time.time()\n",
      "            if spriteSequence != None :\n",
      "                print \",\", self.numTriesToSpawn+1, \"SPAWNED\"; sys.stdout.flush()\n",
      "                self.numTriesToSpawn = 0\n",
      "                self.needNewSprite = True\n",
      "#                 print \"spawned sprite\", self.trackedSprites[self.spriteToSpawnIdx][DICT_SPRITE_NAME]\n",
      "                ## update dictionary\n",
      "                # don't take the first frame of the spriteSequence as it would just repeat the last seen frame\n",
      "                self.spriteToSpawn[DICT_SEQUENCE_FRAMES] = np.hstack((self.spriteToSpawn[DICT_SEQUENCE_FRAMES], spriteSequence[1:]))\n",
      "                self.spriteToSpawn[DICT_DESIRED_SEMANTICS] = np.vstack((self.spriteToSpawn[DICT_DESIRED_SEMANTICS], desiredSemantics[1:, :]))\n",
      "                \n",
      "                self.precomputedSequence.append(self.spriteToSpawn)\n",
      "                \n",
      "                ## toggle the sprite back\n",
      "                desiredSemantics = self.extendSequenceTrackSemantics(self.precomputedSequence[-1][DICT_DESIRED_SEMANTICS][-1, :].reshape((1, 2)), \n",
      "                                                                     self.EXTEND_LENGTH, self.DO_TOGGLE)\n",
      "            \n",
      "                spriteSequence = self.getOptimizedSequence(self.trackedSprites[self.spriteToSpawnIdx], self.spriteToSpawnIdx, \n",
      "                                                           self.precomputedSequence, desiredSemantics, \n",
      "                                                           self.precomputedSequence[-1][DICT_SEQUENCE_FRAMES][-1], resolveCompatibility = False)\n",
      "                \n",
      "                ## update dictionary\n",
      "                # don't take the first frame of the spriteSequence as it would just repeat the last seen frame\n",
      "                self.precomputedSequence[-1][DICT_SEQUENCE_FRAMES] = np.hstack((self.precomputedSequence[-1][DICT_SEQUENCE_FRAMES], spriteSequence[1:]))\n",
      "                self.precomputedSequence[-1][DICT_DESIRED_SEMANTICS] = np.vstack((self.precomputedSequence[-1][DICT_DESIRED_SEMANTICS], desiredSemantics[1:, :]))\n",
      "                \n",
      "                \n",
      "                ## check which sprite has the most frames (the last one or the existing ones?) and extend\n",
      "                additionalFrames = len(self.precomputedSequence[-1][DICT_SEQUENCE_FRAMES]) - len(self.precomputedSequence[0][DICT_SEQUENCE_FRAMES])\n",
      "                if additionalFrames < 0 :\n",
      "                    ## extend new sprite's sequence to match total sequence's length\n",
      "#                     print \"extending new sprite's sequence by\", -additionalFrames+1\n",
      "                    self.extendPrecomputedSequence(len(self.precomputedSequence)-1, -additionalFrames+1, \n",
      "                                                   len(self.precomputedSequence[-1][DICT_SEQUENCE_FRAMES])-1)\n",
      "                    \n",
      "                elif additionalFrames > 0 :\n",
      "                    ## extend existing sprites' sequences to match the new total sequence's length because of newly added sprite\n",
      "#                     print \"extending existing sprites' sequences by\", additionalFrames+1\n",
      "                    self.leaveOneOutExtension(len(self.precomputedSequence)-1, additionalFrames+1, \n",
      "                                              len(self.precomputedSequence[0][DICT_SEQUENCE_FRAMES])-1)\n",
      "#             print \"2\", time.time() - tic\n",
      "            else :\n",
      "                self.numTriesToSpawn += 1\n",
      "                if self.numTriesToSpawn > 5 :\n",
      "                    self.numTriesToSpawn = 0\n",
      "                    self.needNewSprite = True\n",
      "                else :\n",
      "                    self.needNewSprite = False\n",
      "                sys.stdout.write('\\r' +  \"trying to spawn sprite \" + self.trackedSprites[self.spriteToSpawnIdx][DICT_SPRITE_NAME] + \", \" + np.string_(self.numTriesToSpawn))\n",
      "                sys.stdout.flush()\n",
      "                \n",
      "\n",
      "    def extendFullSequence(self, extensionLength, startFrame) :\n",
      "        for i in xrange(len(self.precomputedSequence)) :\n",
      "            self.extendPrecomputedSequence(i, extensionLength, startFrame)\n",
      "    \n",
      "    def leaveOneOutExtension(self, leaveOutIdx, extensionLength, startFrame) :\n",
      "        for i in xrange(len(self.precomputedSequence)) :\n",
      "            if i != leaveOutIdx :\n",
      "                self.extendPrecomputedSequence(i, extensionLength, startFrame)\n",
      "#         extendMode = {}\n",
      "#         for i in xrange(len(self.precomputedSequence)) :\n",
      "#             if i != leaveOutIdx :\n",
      "#                 extendMode[i] = self.DO_EXTEND\n",
      "#         if len(extendMode) > 0 :\n",
      "#             print \"extending existing sprites by\", extensionLength, \"frames and leaving out\", leaveOutIdx\n",
      "#             self.extendSequence(self.extendSequenceTracksSemantics(extensionLength, extendMode), startFrame)\n",
      "    \n",
      "    def toggleSequenceTrackSemantics(self, startSemantics, length, toggleDelay) :\n",
      "        desiredSemantics = startSemantics.reshape((1, 2))\n",
      "        desiredSemantics = np.concatenate((desiredSemantics, toggleLabelsSmoothly(startSemantics.reshape((1, 2)), toggleDelay)))\n",
      "        desiredSemantics = np.concatenate((desiredSemantics, np.roll(startSemantics.reshape((1, 2)), 1).repeat(length-toggleDelay-1, axis=0)))\n",
      "        \n",
      "        return desiredSemantics\n",
      "        \n",
      "    def burstSemanticsToggle(self, startSemantics, length, enterDelay, exitDelay):\n",
      "        desiredSemantics = startSemantics.reshape((1, 2))\n",
      "        desiredSemantics = np.concatenate((desiredSemantics, toggleLabelsSmoothly(startSemantics.reshape((1, 2)), enterDelay)))\n",
      "        desiredSemantics = np.concatenate((desiredSemantics, np.roll(startSemantics.reshape((1, 2)), 1).repeat(length-2*(enterDelay+exitDelay), axis=0)))\n",
      "        desiredSemantics = np.concatenate((desiredSemantics, toggleLabelsSmoothly(np.roll(startSemantics.reshape((1, 2)), 1).reshape((1, 2)), exitDelay)))\n",
      "        desiredSemantics = np.concatenate((desiredSemantics, startSemantics.reshape((1, 2)).repeat(enterDelay+exitDelay-1, axis=0)))\n",
      "        \n",
      "        return desiredSemantics\n",
      "    \n",
      "#     def leaveOneOutExtension(self, leaveOutIdx, extensionLength, startFrame) :\n",
      "#         extendMode = {}\n",
      "#         for i in xrange(len(self.precomputedSequence)) :\n",
      "#             if i != leaveOutIdx :\n",
      "#                 extendMode[i] = self.DO_EXTEND\n",
      "#         if len(extendMode) > 0 :\n",
      "#             print \"extending existing sprites by\", extensionLength, \"frames and leaving out\", leaveOutIdx\n",
      "#             self.extendSequence(self.extendSequenceTracksSemantics(extensionLength, extendMode), \n",
      "#                                 startFrame)\n",
      "            \n",
      "    def restartGame(self) :\n",
      "        self.isDirty = False\n",
      "        self.upPressed = False\n",
      "        self.leftPressed = False\n",
      "        self.downPressed = False\n",
      "        self.rightPressed = False\n",
      "        \n",
      "        self.playerPos = np.array([1098.0, 255.0])\n",
      "        self.PLAYER_SPEED = 10.0\n",
      "        self.goalPoint = np.array([579.0, 688.0])\n",
      "        \n",
      "        self.precomputedSequence = []\n",
      "        \n",
      "#         self.frameIdx = 0\n",
      "#         self.showFrame(self.frameIdx)\n",
      "            \n",
      "    def loadTrackedSprites(self) :\n",
      "        ## going to first frame of first sprite if there were no sprites before loading\n",
      "#         goToNewSprite = len(self.trackedSprites) == 0\n",
      "        for sprite in np.sort(glob.glob(dataPath + dataSet + \"sprite*.npy\")) :\n",
      "            self.trackedSprites.append(np.load(sprite).item())\n",
      "            \n",
      "    def closeEvent(self, event) :\n",
      "        print \"closing\"\n",
      "        sys.stdout.flush()\n",
      "            \n",
      "    def keyPressEvent(self, e) :\n",
      "        if e.key() == QtCore.Qt.Key_Up and not e.isAutoRepeat() :\n",
      "            self.upPressed = True\n",
      "#             self.updatePlayerPos(np.array([0.0, -self.PLAYER_SPEED]))\n",
      "        if e.key() == QtCore.Qt.Key_Left and not e.isAutoRepeat() :\n",
      "            self.leftPressed = True\n",
      "#             self.updatePlayerPos(np.array([-self.PLAYER_SPEED, 0.0]))\n",
      "        if e.key() == QtCore.Qt.Key_Down and not e.isAutoRepeat() :\n",
      "            self.downPressed = True\n",
      "#             self.updatePlayerPos(np.array([0.0, self.PLAYER_SPEED]))\n",
      "        if e.key() == QtCore.Qt.Key_Right and not e.isAutoRepeat() :\n",
      "            self.rightPressed = True\n",
      "#             self.updatePlayerPos(np.array([self.PLAYER_SPEED, 0.0]))\n",
      "\n",
      "#         if not e.isAutoRepeat() :\n",
      "#             print \"press\", self.upPressed, self.leftPressed, self.downPressed, self.rightPressed, \n",
      "#             if e.key() == QtCore.Qt.Key_Up :\n",
      "#                 print \"up\"\n",
      "#             if e.key() == QtCore.Qt.Key_Left :\n",
      "#                 print \"left\"\n",
      "#             if e.key() == QtCore.Qt.Key_Down :\n",
      "#                 print \"down\"\n",
      "#             if e.key() == QtCore.Qt.Key_Right :\n",
      "#                 print \"right\"\n",
      "#             sys.stdout.flush()\n",
      "    \n",
      "    def keyReleaseEvent(self, e) :\n",
      "        if e.key() == QtCore.Qt.Key_Up and not e.isAutoRepeat() :\n",
      "            self.upPressed = False\n",
      "        if e.key() == QtCore.Qt.Key_Left and not e.isAutoRepeat() :\n",
      "            self.leftPressed = False\n",
      "        if e.key() == QtCore.Qt.Key_Down and not e.isAutoRepeat() :\n",
      "            self.downPressed = False\n",
      "        if e.key() == QtCore.Qt.Key_Right and not e.isAutoRepeat() :\n",
      "            self.rightPressed = False\n",
      "            \n",
      "#         if not e.isAutoRepeat() :\n",
      "#             print \"release\", self.upPressed, self.leftPressed, self.downPressed, self.rightPressed, \n",
      "#             if e.key() == QtCore.Qt.Key_Up :\n",
      "#                 print \"up\"\n",
      "#             if e.key() == QtCore.Qt.Key_Left :\n",
      "#                 print \"left\"\n",
      "#             if e.key() == QtCore.Qt.Key_Down :\n",
      "#                 print \"down\"\n",
      "#             if e.key() == QtCore.Qt.Key_Right :\n",
      "#                 print \"right\"\n",
      "#             sys.stdout.flush()\n",
      "    \n",
      "    def updatePlayerPos(self, delta) :\n",
      "        oldPlayerPos = self.playerPos\n",
      "        \n",
      "        newPlayerPos = self.playerPos + delta\n",
      "        \n",
      "        ## check x is in bounds\n",
      "        if newPlayerPos[0] < 0 :\n",
      "            newPlayerPos[0] = 0.0\n",
      "        elif newPlayerPos[0] >= self.bgImage.width() :\n",
      "            newPlayerPos[0] = self.bgImage.width()-1\n",
      "        \n",
      "        ## check y is in bounds\n",
      "        if newPlayerPos[1] < 0 :\n",
      "            newPlayerPos[1] = 0.0\n",
      "        elif newPlayerPos[1] >= self.bgImage.height() :\n",
      "            newPlayerPos[1] = self.bgImage.height()-1\n",
      "        \n",
      "        self.playerPos = newPlayerPos\n",
      "        ## check depth\n",
      "        ## if location at new x position is invisible then I reached depth bounds\n",
      "        if self.depthImg[newPlayerPos[1], newPlayerPos[0], -1] == 0 :\n",
      "            ## if new pos is not good try old x and new y\n",
      "            if self.depthImg[newPlayerPos[1], oldPlayerPos[0], -1] != 0 :\n",
      "                self.playerPos[0] = oldPlayerPos[0]\n",
      "            ## if new pos is not good try old y and new x\n",
      "            if self.depthImg[oldPlayerPos[1], newPlayerPos[0], -1] != 0 :\n",
      "                self.playerPos[1] = oldPlayerPos[1]\n",
      "        \n",
      "#         print self.depthImg[self.playerPos[1], self.playerPos[0], 0]; sys.stdout.flush()\n",
      "        \n",
      "    def eventFilter(self, obj, event) :\n",
      "        if obj == self.frameLabel and event.type() == QtCore.QEvent.Type.KeyPress :\n",
      "            self.keyPressEvent(event)\n",
      "            return True\n",
      "        if obj == self.frameLabel and event.type() == QtCore.QEvent.Type.KeyRelease :\n",
      "            self.keyPressEvent(event)\n",
      "            return True\n",
      "        return QtGui.QWidget.eventFilter(self, obj, event)\n",
      "    \n",
      "    def playButtonPressed(self) :\n",
      "        if self.doPlay :\n",
      "            self.doPlay = False\n",
      "            self.playButton.setIcon(self.playIcon)\n",
      "        else :\n",
      "            self.doPlay = True\n",
      "            self.playButton.setIcon(self.pauseIcon)\n",
      "            \n",
      "        self.spawnSprite()\n",
      "        \n",
      "#         self.renderOneFrame()\n",
      "        \n",
      "#         if len(self.precomputedSequence) > 0 :\n",
      "#             self.extendFullSequence(self.EXTEND_LENGTH, len(self.precomputedSequence[0][DICT_SEQUENCE_FRAMES])-1)\n",
      "        \n",
      "    def createGUI(self) :\n",
      "        \n",
      "        ## WIDGETS ##\n",
      "        \n",
      "        self.frameLabel = ImageLabel(\"Frame\")\n",
      "        self.frameLabel.setSizePolicy(QtGui.QSizePolicy.MinimumExpanding, QtGui.QSizePolicy.MinimumExpanding)\n",
      "        self.frameLabel.setAlignment(QtCore.Qt.AlignCenter | QtCore.Qt.AlignHCenter)\n",
      "        self.frameLabel.installEventFilter(self)\n",
      "        self.frameLabel.installEventFilter(self)\n",
      "        \n",
      "        self.frameInfo = QtGui.QLabel(\"Info text\")\n",
      "        self.frameInfo.setAlignment(QtCore.Qt.AlignCenter | QtCore.Qt.AlignHCenter)\n",
      "        \n",
      "        self.playButton = QtGui.QToolButton()\n",
      "        self.playButton.setToolTip(\"Play Generated Sequence\")\n",
      "        self.playButton.setCheckable(False)\n",
      "        self.playButton.setShortcut(QtGui.QKeySequence(\"Alt+P\"))\n",
      "        self.playButton.setSizePolicy(QtGui.QSizePolicy.MinimumExpanding, QtGui.QSizePolicy.Maximum)\n",
      "        self.playButton.setIcon(self.playIcon)        \n",
      "        \n",
      "        ## SIGNALS ##\n",
      "        \n",
      "        self.playButton.clicked.connect(self.playButtonPressed)\n",
      "        \n",
      "        ## LAYOUTS ##\n",
      "        \n",
      "        mainLayout = QtGui.QHBoxLayout()\n",
      "        \n",
      "        frameHLayout = QtGui.QHBoxLayout()\n",
      "        frameHLayout.addStretch()\n",
      "        frameHLayout.addWidget(self.frameLabel)\n",
      "        frameHLayout.addStretch()\n",
      "        \n",
      "        frameVLayout = QtGui.QVBoxLayout()\n",
      "        frameVLayout.addStretch()\n",
      "        frameVLayout.addLayout(frameHLayout)\n",
      "        frameVLayout.addStretch()\n",
      "        frameVLayout.addWidget(self.playButton)\n",
      "#         frameVLayout.addLayout(sliderLayout)\n",
      "        frameVLayout.addWidget(self.frameInfo)\n",
      "        \n",
      "#         mainLayout.addLayout(controlsLayout)\n",
      "        mainLayout.addLayout(frameVLayout)\n",
      "        self.setLayout(mainLayout)"
     ],
     "language": "python",
     "metadata": {},
     "outputs": [],
     "prompt_number": 39
    },
    {
     "cell_type": "code",
     "collapsed": false,
     "input": [
      "window = Window()\n",
      "window.show()\n",
      "app.exec_()"
     ],
     "language": "python",
     "metadata": {},
     "outputs": [
      {
       "output_type": "stream",
       "stream": "stdout",
       "text": [
        "\r",
        "trying to spawn sprite blue_orange_bus1"
       ]
      },
      {
       "output_type": "stream",
       "stream": "stdout",
       "text": [
        ", 1 SPAWNED\n"
       ]
      },
      {
       "output_type": "stream",
       "stream": "stdout",
       "text": [
        "\r",
        "trying to spawn sprite red_car2"
       ]
      },
      {
       "output_type": "stream",
       "stream": "stdout",
       "text": [
        "\r",
        "trying to spawn sprite red_car2, 1"
       ]
      },
      {
       "output_type": "stream",
       "stream": "stdout",
       "text": [
        "\r",
        "trying to spawn sprite red_car2"
       ]
      },
      {
       "output_type": "stream",
       "stream": "stdout",
       "text": [
        "\r",
        "trying to spawn sprite red_car2, 2"
       ]
      },
      {
       "output_type": "stream",
       "stream": "stdout",
       "text": [
        "\r",
        "trying to spawn sprite red_car2"
       ]
      },
      {
       "output_type": "stream",
       "stream": "stdout",
       "text": [
        "\r",
        "trying to spawn sprite red_car2, 3"
       ]
      },
      {
       "output_type": "stream",
       "stream": "stdout",
       "text": [
        "\r",
        "trying to spawn sprite red_car2"
       ]
      },
      {
       "output_type": "stream",
       "stream": "stdout",
       "text": [
        ", 4 SPAWNED\n"
       ]
      },
      {
       "output_type": "stream",
       "stream": "stdout",
       "text": [
        "\r",
        "trying to spawn sprite bordeaux_car1"
       ]
      },
      {
       "output_type": "stream",
       "stream": "stdout",
       "text": [
        ", 1 SPAWNED\n"
       ]
      },
      {
       "output_type": "stream",
       "stream": "stdout",
       "text": [
        "\r",
        "trying to spawn sprite white_bus1"
       ]
      },
      {
       "output_type": "stream",
       "stream": "stdout",
       "text": [
        ", 1 SPAWNED\n"
       ]
      },
      {
       "output_type": "stream",
       "stream": "stdout",
       "text": [
        "\r",
        "trying to spawn sprite white_bus1"
       ]
      },
      {
       "output_type": "stream",
       "stream": "stdout",
       "text": [
        "\r",
        "trying to spawn sprite white_bus1, 1"
       ]
      },
      {
       "output_type": "stream",
       "stream": "stdout",
       "text": [
        "\r",
        "trying to spawn sprite white_bus1"
       ]
      },
      {
       "output_type": "stream",
       "stream": "stdout",
       "text": [
        "\r",
        "trying to spawn sprite white_bus1, 2"
       ]
      },
      {
       "output_type": "stream",
       "stream": "stdout",
       "text": [
        "\r",
        "trying to spawn sprite white_bus1"
       ]
      },
      {
       "output_type": "stream",
       "stream": "stdout",
       "text": [
        "\r",
        "trying to spawn sprite white_bus1, 3"
       ]
      },
      {
       "output_type": "stream",
       "stream": "stdout",
       "text": [
        "\r",
        "trying to spawn sprite white_bus1"
       ]
      },
      {
       "output_type": "stream",
       "stream": "stdout",
       "text": [
        "\r",
        "trying to spawn sprite white_bus1, 4"
       ]
      },
      {
       "output_type": "stream",
       "stream": "stdout",
       "text": [
        "\r",
        "trying to spawn sprite white_bus1"
       ]
      },
      {
       "output_type": "stream",
       "stream": "stdout",
       "text": [
        "\r",
        "trying to spawn sprite white_bus1, 5"
       ]
      },
      {
       "output_type": "stream",
       "stream": "stdout",
       "text": [
        "\r",
        "trying to spawn sprite white_bus1"
       ]
      },
      {
       "output_type": "stream",
       "stream": "stdout",
       "text": [
        "\r",
        "trying to spawn sprite white_bus1, 0"
       ]
      },
      {
       "output_type": "stream",
       "stream": "stdout",
       "text": [
        "\r",
        "trying to spawn sprite white_car1"
       ]
      },
      {
       "output_type": "stream",
       "stream": "stdout",
       "text": [
        "\r",
        "trying to spawn sprite white_car1, 1"
       ]
      },
      {
       "output_type": "stream",
       "stream": "stdout",
       "text": [
        "\r",
        "trying to spawn sprite white_car1"
       ]
      },
      {
       "output_type": "stream",
       "stream": "stdout",
       "text": [
        "\r",
        "trying to spawn sprite white_car1, 2"
       ]
      },
      {
       "output_type": "stream",
       "stream": "stdout",
       "text": [
        "\r",
        "trying to spawn sprite white_car1"
       ]
      },
      {
       "output_type": "stream",
       "stream": "stdout",
       "text": [
        "\r",
        "trying to spawn sprite white_car1, 3"
       ]
      },
      {
       "output_type": "stream",
       "stream": "stdout",
       "text": [
        "\r",
        "trying to spawn sprite white_car1"
       ]
      },
      {
       "output_type": "stream",
       "stream": "stdout",
       "text": [
        "\r",
        "trying to spawn sprite white_car1, 4"
       ]
      },
      {
       "output_type": "stream",
       "stream": "stdout",
       "text": [
        "\r",
        "trying to spawn sprite white_car1"
       ]
      },
      {
       "output_type": "stream",
       "stream": "stdout",
       "text": [
        "\r",
        "trying to spawn sprite white_car1, 5"
       ]
      },
      {
       "output_type": "stream",
       "stream": "stdout",
       "text": [
        "\r",
        "trying to spawn sprite white_car1"
       ]
      },
      {
       "output_type": "stream",
       "stream": "stdout",
       "text": [
        "\r",
        "trying to spawn sprite white_car1, 0"
       ]
      },
      {
       "output_type": "stream",
       "stream": "stdout",
       "text": [
        "\r",
        "trying to spawn sprite pink_car1"
       ]
      },
      {
       "output_type": "stream",
       "stream": "stdout",
       "text": [
        ", 1 SPAWNED\n"
       ]
      },
      {
       "output_type": "stream",
       "stream": "stdout",
       "text": [
        "\r",
        "trying to spawn sprite white_bus1"
       ]
      },
      {
       "output_type": "stream",
       "stream": "stdout",
       "text": [
        "\r",
        "trying to spawn sprite white_bus1, 1"
       ]
      },
      {
       "output_type": "stream",
       "stream": "stdout",
       "text": [
        "\r",
        "trying to spawn sprite white_bus1"
       ]
      },
      {
       "output_type": "stream",
       "stream": "stdout",
       "text": [
        "\r",
        "trying to spawn sprite white_bus1, 2"
       ]
      },
      {
       "output_type": "stream",
       "stream": "stdout",
       "text": [
        "\r",
        "trying to spawn sprite white_bus1"
       ]
      },
      {
       "output_type": "stream",
       "stream": "stdout",
       "text": [
        "\r",
        "trying to spawn sprite white_bus1, 3"
       ]
      },
      {
       "output_type": "stream",
       "stream": "stdout",
       "text": [
        "\r",
        "trying to spawn sprite white_bus1"
       ]
      },
      {
       "output_type": "stream",
       "stream": "stdout",
       "text": [
        "\r",
        "trying to spawn sprite white_bus1, 4"
       ]
      },
      {
       "output_type": "stream",
       "stream": "stdout",
       "text": [
        "\r",
        "trying to spawn sprite white_bus1"
       ]
      },
      {
       "output_type": "stream",
       "stream": "stdout",
       "text": [
        "\r",
        "trying to spawn sprite white_bus1, 5"
       ]
      },
      {
       "output_type": "stream",
       "stream": "stdout",
       "text": [
        "\r",
        "trying to spawn sprite white_bus1"
       ]
      },
      {
       "output_type": "stream",
       "stream": "stdout",
       "text": [
        "\r",
        "trying to spawn sprite white_bus1, 0"
       ]
      },
      {
       "output_type": "stream",
       "stream": "stdout",
       "text": [
        "\r",
        "trying to spawn sprite blue_orange_bus1"
       ]
      },
      {
       "output_type": "stream",
       "stream": "stdout",
       "text": [
        "\r",
        "trying to spawn sprite blue_orange_bus1, 1"
       ]
      },
      {
       "output_type": "stream",
       "stream": "stdout",
       "text": [
        "\r",
        "trying to spawn sprite blue_orange_bus1"
       ]
      },
      {
       "output_type": "stream",
       "stream": "stdout",
       "text": [
        "\r",
        "trying to spawn sprite blue_orange_bus1, 2"
       ]
      },
      {
       "output_type": "stream",
       "stream": "stdout",
       "text": [
        "\r",
        "trying to spawn sprite blue_orange_bus1"
       ]
      },
      {
       "output_type": "stream",
       "stream": "stdout",
       "text": [
        "\r",
        "trying to spawn sprite blue_orange_bus1, 3"
       ]
      },
      {
       "output_type": "stream",
       "stream": "stdout",
       "text": [
        "\r",
        "trying to spawn sprite blue_orange_bus1"
       ]
      },
      {
       "output_type": "stream",
       "stream": "stdout",
       "text": [
        "\r",
        "trying to spawn sprite blue_orange_bus1, 4"
       ]
      },
      {
       "output_type": "stream",
       "stream": "stdout",
       "text": [
        "\r",
        "trying to spawn sprite blue_orange_bus1"
       ]
      },
      {
       "output_type": "stream",
       "stream": "stdout",
       "text": [
        "\r",
        "trying to spawn sprite blue_orange_bus1, 5"
       ]
      },
      {
       "output_type": "stream",
       "stream": "stdout",
       "text": [
        "\r",
        "trying to spawn sprite blue_orange_bus1"
       ]
      },
      {
       "output_type": "stream",
       "stream": "stdout",
       "text": [
        "\r",
        "trying to spawn sprite blue_orange_bus1, 0"
       ]
      },
      {
       "output_type": "stream",
       "stream": "stdout",
       "text": [
        "\r",
        "trying to spawn sprite yellow_taxi2"
       ]
      },
      {
       "output_type": "stream",
       "stream": "stdout",
       "text": [
        ", 1 SPAWNED\n"
       ]
      },
      {
       "output_type": "stream",
       "stream": "stdout",
       "text": [
        "\r",
        "trying to spawn sprite blue_car2"
       ]
      },
      {
       "output_type": "stream",
       "stream": "stdout",
       "text": [
        "\r",
        "trying to spawn sprite blue_car2, 1"
       ]
      },
      {
       "output_type": "stream",
       "stream": "stdout",
       "text": [
        "\r",
        "trying to spawn sprite blue_car2"
       ]
      },
      {
       "output_type": "stream",
       "stream": "stdout",
       "text": [
        "\r",
        "trying to spawn sprite blue_car2, 2"
       ]
      },
      {
       "output_type": "stream",
       "stream": "stdout",
       "text": [
        "\r",
        "trying to spawn sprite blue_car2"
       ]
      },
      {
       "output_type": "stream",
       "stream": "stdout",
       "text": [
        "\r",
        "trying to spawn sprite blue_car2, 3"
       ]
      },
      {
       "output_type": "stream",
       "stream": "stdout",
       "text": [
        "\r",
        "trying to spawn sprite blue_car2"
       ]
      },
      {
       "output_type": "stream",
       "stream": "stdout",
       "text": [
        "\r",
        "trying to spawn sprite blue_car2, 4"
       ]
      },
      {
       "output_type": "stream",
       "stream": "stdout",
       "text": [
        "\r",
        "trying to spawn sprite blue_car2"
       ]
      },
      {
       "output_type": "stream",
       "stream": "stdout",
       "text": [
        "\r",
        "trying to spawn sprite blue_car2, 5"
       ]
      },
      {
       "output_type": "stream",
       "stream": "stdout",
       "text": [
        "\r",
        "trying to spawn sprite blue_car2"
       ]
      },
      {
       "output_type": "stream",
       "stream": "stdout",
       "text": [
        "\r",
        "trying to spawn sprite blue_car2, 0"
       ]
      },
      {
       "output_type": "stream",
       "stream": "stdout",
       "text": [
        "\r",
        "trying to spawn sprite blue_car2"
       ]
      },
      {
       "output_type": "stream",
       "stream": "stdout",
       "text": [
        ", 1 SPAWNED\n"
       ]
      },
      {
       "output_type": "stream",
       "stream": "stdout",
       "text": [
        "\r",
        "trying to spawn sprite blue_orange_bus1"
       ]
      },
      {
       "output_type": "stream",
       "stream": "stdout",
       "text": [
        "\r",
        "trying to spawn sprite blue_orange_bus1, 1"
       ]
      },
      {
       "output_type": "stream",
       "stream": "stdout",
       "text": [
        "\r",
        "trying to spawn sprite blue_orange_bus1"
       ]
      },
      {
       "output_type": "stream",
       "stream": "stdout",
       "text": [
        "\r",
        "trying to spawn sprite blue_orange_bus1, 2"
       ]
      },
      {
       "output_type": "stream",
       "stream": "stdout",
       "text": [
        "\r",
        "trying to spawn sprite blue_orange_bus1"
       ]
      },
      {
       "output_type": "stream",
       "stream": "stdout",
       "text": [
        "\r",
        "trying to spawn sprite blue_orange_bus1, 3"
       ]
      },
      {
       "output_type": "stream",
       "stream": "stdout",
       "text": [
        "\r",
        "trying to spawn sprite blue_orange_bus1"
       ]
      },
      {
       "output_type": "stream",
       "stream": "stdout",
       "text": [
        "\r",
        "trying to spawn sprite blue_orange_bus1, 4"
       ]
      },
      {
       "output_type": "stream",
       "stream": "stdout",
       "text": [
        "\r",
        "trying to spawn sprite blue_orange_bus1"
       ]
      },
      {
       "output_type": "stream",
       "stream": "stdout",
       "text": [
        "\r",
        "trying to spawn sprite blue_orange_bus1, 5"
       ]
      },
      {
       "output_type": "stream",
       "stream": "stdout",
       "text": [
        "\r",
        "trying to spawn sprite blue_orange_bus1"
       ]
      },
      {
       "output_type": "stream",
       "stream": "stdout",
       "text": [
        "\r",
        "trying to spawn sprite blue_orange_bus1, 0"
       ]
      },
      {
       "output_type": "stream",
       "stream": "stdout",
       "text": [
        "\r",
        "trying to spawn sprite blue_orange_bus1"
       ]
      },
      {
       "output_type": "stream",
       "stream": "stdout",
       "text": [
        "\r",
        "trying to spawn sprite blue_orange_bus1, 1"
       ]
      },
      {
       "output_type": "stream",
       "stream": "stdout",
       "text": [
        "\r",
        "trying to spawn sprite blue_orange_bus1"
       ]
      },
      {
       "output_type": "stream",
       "stream": "stdout",
       "text": [
        "\r",
        "trying to spawn sprite blue_orange_bus1, 2"
       ]
      },
      {
       "output_type": "stream",
       "stream": "stdout",
       "text": [
        "\r",
        "trying to spawn sprite blue_orange_bus1"
       ]
      },
      {
       "output_type": "stream",
       "stream": "stdout",
       "text": [
        "\r",
        "trying to spawn sprite blue_orange_bus1, 3"
       ]
      },
      {
       "output_type": "stream",
       "stream": "stdout",
       "text": [
        "\r",
        "trying to spawn sprite blue_orange_bus1"
       ]
      },
      {
       "output_type": "stream",
       "stream": "stdout",
       "text": [
        "\r",
        "trying to spawn sprite blue_orange_bus1, 4"
       ]
      },
      {
       "output_type": "stream",
       "stream": "stdout",
       "text": [
        "\r",
        "trying to spawn sprite blue_orange_bus1"
       ]
      },
      {
       "output_type": "stream",
       "stream": "stdout",
       "text": [
        "\r",
        "trying to spawn sprite blue_orange_bus1, 5"
       ]
      },
      {
       "output_type": "stream",
       "stream": "stdout",
       "text": [
        "\r",
        "trying to spawn sprite blue_orange_bus1"
       ]
      },
      {
       "output_type": "stream",
       "stream": "stdout",
       "text": [
        "\r",
        "trying to spawn sprite blue_orange_bus1, 0"
       ]
      },
      {
       "output_type": "stream",
       "stream": "stdout",
       "text": [
        "\r",
        "trying to spawn sprite yellow_taxi1"
       ]
      },
      {
       "output_type": "stream",
       "stream": "stdout",
       "text": [
        "\r",
        "trying to spawn sprite yellow_taxi1, 1"
       ]
      },
      {
       "output_type": "stream",
       "stream": "stdout",
       "text": [
        "\r",
        "trying to spawn sprite yellow_taxi1"
       ]
      },
      {
       "output_type": "stream",
       "stream": "stdout",
       "text": [
        "\r",
        "trying to spawn sprite yellow_taxi1, 2"
       ]
      },
      {
       "output_type": "stream",
       "stream": "stdout",
       "text": [
        "\r",
        "trying to spawn sprite yellow_taxi1"
       ]
      },
      {
       "output_type": "stream",
       "stream": "stdout",
       "text": [
        "\r",
        "trying to spawn sprite yellow_taxi1, 3"
       ]
      },
      {
       "output_type": "stream",
       "stream": "stdout",
       "text": [
        "\r",
        "trying to spawn sprite yellow_taxi1"
       ]
      },
      {
       "output_type": "stream",
       "stream": "stdout",
       "text": [
        ", 4 SPAWNED\n"
       ]
      },
      {
       "output_type": "stream",
       "stream": "stdout",
       "text": [
        "\r",
        "trying to spawn sprite blue_orange_bus1"
       ]
      },
      {
       "output_type": "stream",
       "stream": "stdout",
       "text": [
        "\r",
        "trying to spawn sprite blue_orange_bus1, 1"
       ]
      },
      {
       "output_type": "stream",
       "stream": "stdout",
       "text": [
        "\r",
        "trying to spawn sprite blue_orange_bus1"
       ]
      },
      {
       "output_type": "stream",
       "stream": "stdout",
       "text": [
        "\r",
        "trying to spawn sprite blue_orange_bus1, 2"
       ]
      },
      {
       "output_type": "stream",
       "stream": "stdout",
       "text": [
        "\r",
        "trying to spawn sprite blue_orange_bus1"
       ]
      },
      {
       "output_type": "stream",
       "stream": "stdout",
       "text": [
        "\r",
        "trying to spawn sprite blue_orange_bus1, 3"
       ]
      },
      {
       "output_type": "stream",
       "stream": "stdout",
       "text": [
        "\r",
        "trying to spawn sprite blue_orange_bus1"
       ]
      },
      {
       "output_type": "stream",
       "stream": "stdout",
       "text": [
        "\r",
        "trying to spawn sprite blue_orange_bus1, 4"
       ]
      },
      {
       "output_type": "stream",
       "stream": "stdout",
       "text": [
        "\r",
        "trying to spawn sprite blue_orange_bus1"
       ]
      },
      {
       "output_type": "stream",
       "stream": "stdout",
       "text": [
        "\r",
        "trying to spawn sprite blue_orange_bus1, 5"
       ]
      },
      {
       "output_type": "stream",
       "stream": "stdout",
       "text": [
        "\r",
        "trying to spawn sprite blue_orange_bus1"
       ]
      },
      {
       "output_type": "stream",
       "stream": "stdout",
       "text": [
        "\r",
        "trying to spawn sprite blue_orange_bus1, 0"
       ]
      },
      {
       "output_type": "stream",
       "stream": "stdout",
       "text": [
        "\r",
        "trying to spawn sprite yellow_taxi1"
       ]
      },
      {
       "output_type": "stream",
       "stream": "stdout",
       "text": [
        ", 1 SPAWNED\n"
       ]
      },
      {
       "output_type": "stream",
       "stream": "stdout",
       "text": [
        "\r",
        "trying to spawn sprite grey_car1"
       ]
      },
      {
       "output_type": "stream",
       "stream": "stdout",
       "text": [
        ", 1 SPAWNED\n"
       ]
      },
      {
       "output_type": "stream",
       "stream": "stdout",
       "text": [
        "\r",
        "trying to spawn sprite blue_car2"
       ]
      },
      {
       "output_type": "stream",
       "stream": "stdout",
       "text": [
        ", 1 SPAWNED\n"
       ]
      },
      {
       "output_type": "stream",
       "stream": "stdout",
       "text": [
        "\r",
        "trying to spawn sprite pink_car1"
       ]
      },
      {
       "output_type": "stream",
       "stream": "stdout",
       "text": [
        "\r",
        "trying to spawn sprite pink_car1, 1"
       ]
      },
      {
       "output_type": "stream",
       "stream": "stdout",
       "text": [
        "\r",
        "trying to spawn sprite pink_car1"
       ]
      },
      {
       "output_type": "stream",
       "stream": "stdout",
       "text": [
        ", 2 SPAWNED\n"
       ]
      },
      {
       "output_type": "stream",
       "stream": "stdout",
       "text": [
        "\r",
        "trying to spawn sprite blue_car1"
       ]
      },
      {
       "output_type": "stream",
       "stream": "stdout",
       "text": [
        ", 1 SPAWNED\n"
       ]
      },
      {
       "output_type": "stream",
       "stream": "stdout",
       "text": [
        "\r",
        "trying to spawn sprite white_bus1"
       ]
      },
      {
       "output_type": "stream",
       "stream": "stdout",
       "text": [
        "\r",
        "trying to spawn sprite white_bus1, 1"
       ]
      },
      {
       "output_type": "stream",
       "stream": "stdout",
       "text": [
        "\r",
        "trying to spawn sprite white_bus1"
       ]
      },
      {
       "output_type": "stream",
       "stream": "stdout",
       "text": [
        "\r",
        "trying to spawn sprite white_bus1, 2"
       ]
      },
      {
       "output_type": "stream",
       "stream": "stdout",
       "text": [
        "\r",
        "trying to spawn sprite white_bus1"
       ]
      },
      {
       "output_type": "stream",
       "stream": "stdout",
       "text": [
        "\r",
        "trying to spawn sprite white_bus1, 3"
       ]
      },
      {
       "output_type": "stream",
       "stream": "stdout",
       "text": [
        "\r",
        "trying to spawn sprite white_bus1"
       ]
      },
      {
       "output_type": "stream",
       "stream": "stdout",
       "text": [
        "\r",
        "trying to spawn sprite white_bus1, 4"
       ]
      },
      {
       "output_type": "stream",
       "stream": "stdout",
       "text": [
        "\r",
        "trying to spawn sprite white_bus1"
       ]
      },
      {
       "output_type": "stream",
       "stream": "stdout",
       "text": [
        "\r",
        "trying to spawn sprite white_bus1, 5"
       ]
      },
      {
       "output_type": "stream",
       "stream": "stdout",
       "text": [
        "\r",
        "trying to spawn sprite white_bus1"
       ]
      },
      {
       "output_type": "stream",
       "stream": "stdout",
       "text": [
        "\r",
        "trying to spawn sprite white_bus1, 0"
       ]
      },
      {
       "output_type": "stream",
       "stream": "stdout",
       "text": [
        "\r",
        "trying to spawn sprite grey_car1"
       ]
      },
      {
       "output_type": "stream",
       "stream": "stdout",
       "text": [
        ", 1 SPAWNED\n"
       ]
      },
      {
       "output_type": "stream",
       "stream": "stdout",
       "text": [
        "\r",
        "trying to spawn sprite red_car2"
       ]
      },
      {
       "output_type": "stream",
       "stream": "stdout",
       "text": [
        "\r",
        "trying to spawn sprite red_car2, 1"
       ]
      },
      {
       "output_type": "stream",
       "stream": "stdout",
       "text": [
        "\r",
        "trying to spawn sprite red_car2"
       ]
      },
      {
       "output_type": "stream",
       "stream": "stdout",
       "text": [
        "\r",
        "trying to spawn sprite red_car2, 2"
       ]
      },
      {
       "output_type": "stream",
       "stream": "stdout",
       "text": [
        "\r",
        "trying to spawn sprite red_car2"
       ]
      },
      {
       "output_type": "stream",
       "stream": "stdout",
       "text": [
        "\r",
        "trying to spawn sprite red_car2, 3"
       ]
      },
      {
       "output_type": "stream",
       "stream": "stdout",
       "text": [
        "\r",
        "trying to spawn sprite red_car2"
       ]
      },
      {
       "output_type": "stream",
       "stream": "stdout",
       "text": [
        "\r",
        "trying to spawn sprite red_car2, 4"
       ]
      },
      {
       "output_type": "stream",
       "stream": "stdout",
       "text": [
        "\r",
        "trying to spawn sprite red_car2"
       ]
      },
      {
       "output_type": "stream",
       "stream": "stdout",
       "text": [
        "\r",
        "trying to spawn sprite red_car2, 5"
       ]
      },
      {
       "output_type": "stream",
       "stream": "stdout",
       "text": [
        "\r",
        "trying to spawn sprite red_car2"
       ]
      },
      {
       "output_type": "stream",
       "stream": "stdout",
       "text": [
        "\r",
        "trying to spawn sprite red_car2, 0"
       ]
      },
      {
       "output_type": "stream",
       "stream": "stdout",
       "text": [
        "\r",
        "trying to spawn sprite white_bus1"
       ]
      },
      {
       "output_type": "stream",
       "stream": "stdout",
       "text": [
        "\r",
        "trying to spawn sprite white_bus1, 1"
       ]
      },
      {
       "output_type": "stream",
       "stream": "stdout",
       "text": [
        "\r",
        "trying to spawn sprite white_bus1"
       ]
      },
      {
       "output_type": "stream",
       "stream": "stdout",
       "text": [
        "\r",
        "trying to spawn sprite white_bus1, 2"
       ]
      },
      {
       "output_type": "stream",
       "stream": "stdout",
       "text": [
        "\r",
        "trying to spawn sprite white_bus1"
       ]
      },
      {
       "output_type": "stream",
       "stream": "stdout",
       "text": [
        "\r",
        "trying to spawn sprite white_bus1, 3"
       ]
      },
      {
       "output_type": "stream",
       "stream": "stdout",
       "text": [
        "\r",
        "trying to spawn sprite white_bus1"
       ]
      },
      {
       "output_type": "stream",
       "stream": "stdout",
       "text": [
        "\r",
        "trying to spawn sprite white_bus1, 4"
       ]
      },
      {
       "output_type": "stream",
       "stream": "stdout",
       "text": [
        "\r",
        "trying to spawn sprite white_bus1"
       ]
      },
      {
       "output_type": "stream",
       "stream": "stdout",
       "text": [
        "\r",
        "trying to spawn sprite white_bus1, 5"
       ]
      },
      {
       "output_type": "stream",
       "stream": "stdout",
       "text": [
        "\r",
        "trying to spawn sprite white_bus1"
       ]
      },
      {
       "output_type": "stream",
       "stream": "stdout",
       "text": [
        "\r",
        "trying to spawn sprite white_bus1, 0"
       ]
      },
      {
       "output_type": "stream",
       "stream": "stdout",
       "text": [
        "\r",
        "trying to spawn sprite pink_car1"
       ]
      },
      {
       "output_type": "stream",
       "stream": "stdout",
       "text": [
        ", 1 SPAWNED\n"
       ]
      },
      {
       "output_type": "stream",
       "stream": "stdout",
       "text": [
        "\r",
        "trying to spawn sprite red_car2"
       ]
      },
      {
       "output_type": "stream",
       "stream": "stdout",
       "text": [
        "\r",
        "trying to spawn sprite red_car2, 1"
       ]
      },
      {
       "output_type": "stream",
       "stream": "stdout",
       "text": [
        "\r",
        "trying to spawn sprite red_car2"
       ]
      },
      {
       "output_type": "stream",
       "stream": "stdout",
       "text": [
        "\r",
        "trying to spawn sprite red_car2, 2"
       ]
      },
      {
       "output_type": "stream",
       "stream": "stdout",
       "text": [
        "\r",
        "trying to spawn sprite red_car2"
       ]
      },
      {
       "output_type": "stream",
       "stream": "stdout",
       "text": [
        "\r",
        "trying to spawn sprite red_car2, 3"
       ]
      },
      {
       "output_type": "stream",
       "stream": "stdout",
       "text": [
        "\r",
        "trying to spawn sprite red_car2"
       ]
      },
      {
       "output_type": "stream",
       "stream": "stdout",
       "text": [
        ", 4 SPAWNED\n"
       ]
      },
      {
       "output_type": "stream",
       "stream": "stdout",
       "text": [
        "\r",
        "trying to spawn sprite pink_car1"
       ]
      },
      {
       "output_type": "stream",
       "stream": "stdout",
       "text": [
        "\r",
        "trying to spawn sprite pink_car1, 1"
       ]
      },
      {
       "output_type": "stream",
       "stream": "stdout",
       "text": [
        "\r",
        "trying to spawn sprite pink_car1"
       ]
      },
      {
       "output_type": "stream",
       "stream": "stdout",
       "text": [
        "\r",
        "trying to spawn sprite pink_car1, 2"
       ]
      },
      {
       "output_type": "stream",
       "stream": "stdout",
       "text": [
        "\r",
        "trying to spawn sprite pink_car1"
       ]
      },
      {
       "output_type": "stream",
       "stream": "stdout",
       "text": [
        "\r",
        "trying to spawn sprite pink_car1, 3"
       ]
      },
      {
       "output_type": "stream",
       "stream": "stdout",
       "text": [
        "\r",
        "trying to spawn sprite pink_car1"
       ]
      },
      {
       "output_type": "stream",
       "stream": "stdout",
       "text": [
        "\r",
        "trying to spawn sprite pink_car1, 4"
       ]
      },
      {
       "output_type": "stream",
       "stream": "stdout",
       "text": [
        "\r",
        "trying to spawn sprite pink_car1"
       ]
      },
      {
       "output_type": "stream",
       "stream": "stdout",
       "text": [
        "\r",
        "trying to spawn sprite pink_car1, 5"
       ]
      },
      {
       "output_type": "stream",
       "stream": "stdout",
       "text": [
        "\r",
        "trying to spawn sprite pink_car1"
       ]
      },
      {
       "output_type": "stream",
       "stream": "stdout",
       "text": [
        "\r",
        "trying to spawn sprite pink_car1, 0"
       ]
      },
      {
       "output_type": "stream",
       "stream": "stdout",
       "text": [
        "\r",
        "trying to spawn sprite yellow_taxi1"
       ]
      },
      {
       "output_type": "stream",
       "stream": "stdout",
       "text": [
        ", 1 SPAWNED\n"
       ]
      },
      {
       "output_type": "stream",
       "stream": "stdout",
       "text": [
        "\r",
        "trying to spawn sprite blue_car1"
       ]
      },
      {
       "output_type": "stream",
       "stream": "stdout",
       "text": [
        "\r",
        "trying to spawn sprite blue_car1, 1"
       ]
      },
      {
       "output_type": "stream",
       "stream": "stdout",
       "text": [
        "\r",
        "trying to spawn sprite blue_car1"
       ]
      },
      {
       "output_type": "stream",
       "stream": "stdout",
       "text": [
        "\r",
        "trying to spawn sprite blue_car1, 2"
       ]
      },
      {
       "output_type": "stream",
       "stream": "stdout",
       "text": [
        "\r",
        "trying to spawn sprite blue_car1"
       ]
      },
      {
       "output_type": "stream",
       "stream": "stdout",
       "text": [
        "\r",
        "trying to spawn sprite blue_car1, 3"
       ]
      },
      {
       "output_type": "stream",
       "stream": "stdout",
       "text": [
        "\r",
        "trying to spawn sprite blue_car1"
       ]
      },
      {
       "output_type": "stream",
       "stream": "stdout",
       "text": [
        "\r",
        "trying to spawn sprite blue_car1, 4"
       ]
      },
      {
       "output_type": "stream",
       "stream": "stdout",
       "text": [
        "\r",
        "trying to spawn sprite blue_car1"
       ]
      },
      {
       "output_type": "stream",
       "stream": "stdout",
       "text": [
        "\r",
        "trying to spawn sprite blue_car1, 5"
       ]
      },
      {
       "output_type": "stream",
       "stream": "stdout",
       "text": [
        "\r",
        "trying to spawn sprite blue_car1"
       ]
      },
      {
       "output_type": "stream",
       "stream": "stdout",
       "text": [
        ", 6 SPAWNED\n"
       ]
      },
      {
       "output_type": "stream",
       "stream": "stdout",
       "text": [
        "\r",
        "trying to spawn sprite red_car1"
       ]
      },
      {
       "output_type": "stream",
       "stream": "stdout",
       "text": [
        ", 1 SPAWNED\n"
       ]
      },
      {
       "output_type": "stream",
       "stream": "stdout",
       "text": [
        "\r",
        "trying to spawn sprite blue_car2"
       ]
      },
      {
       "output_type": "stream",
       "stream": "stdout",
       "text": [
        ", 1 SPAWNED\n"
       ]
      },
      {
       "output_type": "stream",
       "stream": "stdout",
       "text": [
        "\r",
        "trying to spawn sprite red_car1"
       ]
      },
      {
       "output_type": "stream",
       "stream": "stdout",
       "text": [
        "\r",
        "trying to spawn sprite red_car1, 1"
       ]
      },
      {
       "output_type": "stream",
       "stream": "stdout",
       "text": [
        "\r",
        "trying to spawn sprite red_car1"
       ]
      },
      {
       "output_type": "stream",
       "stream": "stdout",
       "text": [
        "\r",
        "trying to spawn sprite red_car1, 2"
       ]
      },
      {
       "output_type": "stream",
       "stream": "stdout",
       "text": [
        "\r",
        "trying to spawn sprite red_car1"
       ]
      },
      {
       "output_type": "stream",
       "stream": "stdout",
       "text": [
        "\r",
        "trying to spawn sprite red_car1, 3"
       ]
      },
      {
       "output_type": "stream",
       "stream": "stdout",
       "text": [
        "\r",
        "trying to spawn sprite red_car1"
       ]
      },
      {
       "output_type": "stream",
       "stream": "stdout",
       "text": [
        "\r",
        "trying to spawn sprite red_car1, 4"
       ]
      },
      {
       "output_type": "stream",
       "stream": "stdout",
       "text": [
        "\r",
        "trying to spawn sprite red_car1"
       ]
      },
      {
       "output_type": "stream",
       "stream": "stdout",
       "text": [
        "\r",
        "trying to spawn sprite red_car1, 5"
       ]
      },
      {
       "output_type": "stream",
       "stream": "stdout",
       "text": [
        "\r",
        "trying to spawn sprite red_car1"
       ]
      },
      {
       "output_type": "stream",
       "stream": "stdout",
       "text": [
        "\r",
        "trying to spawn sprite red_car1, 0"
       ]
      },
      {
       "output_type": "stream",
       "stream": "stdout",
       "text": [
        "\r",
        "trying to spawn sprite blue_car1"
       ]
      },
      {
       "output_type": "stream",
       "stream": "stdout",
       "text": [
        "\r",
        "trying to spawn sprite blue_car1, 1"
       ]
      },
      {
       "output_type": "stream",
       "stream": "stdout",
       "text": [
        "\r",
        "trying to spawn sprite blue_car1"
       ]
      },
      {
       "output_type": "stream",
       "stream": "stdout",
       "text": [
        "\r",
        "trying to spawn sprite blue_car1, 2"
       ]
      },
      {
       "output_type": "stream",
       "stream": "stdout",
       "text": [
        "\r",
        "trying to spawn sprite blue_car1"
       ]
      },
      {
       "output_type": "stream",
       "stream": "stdout",
       "text": [
        "\r",
        "trying to spawn sprite blue_car1, 3"
       ]
      },
      {
       "output_type": "stream",
       "stream": "stdout",
       "text": [
        "\r",
        "trying to spawn sprite blue_car1"
       ]
      },
      {
       "output_type": "stream",
       "stream": "stdout",
       "text": [
        "\r",
        "trying to spawn sprite blue_car1, 4"
       ]
      },
      {
       "output_type": "stream",
       "stream": "stdout",
       "text": [
        "\r",
        "trying to spawn sprite blue_car1"
       ]
      },
      {
       "output_type": "stream",
       "stream": "stdout",
       "text": [
        "\r",
        "trying to spawn sprite blue_car1, 5"
       ]
      },
      {
       "output_type": "stream",
       "stream": "stdout",
       "text": [
        "\r",
        "trying to spawn sprite blue_car1"
       ]
      },
      {
       "output_type": "stream",
       "stream": "stdout",
       "text": [
        "\r",
        "trying to spawn sprite blue_car1, 0"
       ]
      },
      {
       "output_type": "stream",
       "stream": "stdout",
       "text": [
        "\r",
        "trying to spawn sprite blue_car2"
       ]
      },
      {
       "output_type": "stream",
       "stream": "stdout",
       "text": [
        ", 1 SPAWNED\n"
       ]
      },
      {
       "output_type": "stream",
       "stream": "stdout",
       "text": [
        "\r",
        "trying to spawn sprite bordeaux_car1"
       ]
      },
      {
       "output_type": "stream",
       "stream": "stdout",
       "text": [
        "\r",
        "trying to spawn sprite bordeaux_car1, 1"
       ]
      },
      {
       "output_type": "stream",
       "stream": "stdout",
       "text": [
        "\r",
        "trying to spawn sprite bordeaux_car1"
       ]
      },
      {
       "output_type": "stream",
       "stream": "stdout",
       "text": [
        "\r",
        "trying to spawn sprite bordeaux_car1, 2"
       ]
      },
      {
       "output_type": "stream",
       "stream": "stdout",
       "text": [
        "\r",
        "trying to spawn sprite bordeaux_car1"
       ]
      },
      {
       "output_type": "stream",
       "stream": "stdout",
       "text": [
        "\r",
        "trying to spawn sprite bordeaux_car1, 3"
       ]
      },
      {
       "output_type": "stream",
       "stream": "stdout",
       "text": [
        "\r",
        "trying to spawn sprite bordeaux_car1"
       ]
      },
      {
       "output_type": "stream",
       "stream": "stdout",
       "text": [
        "\r",
        "trying to spawn sprite bordeaux_car1, 4"
       ]
      },
      {
       "output_type": "stream",
       "stream": "stdout",
       "text": [
        "\r",
        "trying to spawn sprite bordeaux_car1"
       ]
      },
      {
       "output_type": "stream",
       "stream": "stdout",
       "text": [
        "\r",
        "trying to spawn sprite bordeaux_car1, 5"
       ]
      },
      {
       "output_type": "stream",
       "stream": "stdout",
       "text": [
        "\r",
        "trying to spawn sprite bordeaux_car1"
       ]
      },
      {
       "output_type": "stream",
       "stream": "stdout",
       "text": [
        "\r",
        "trying to spawn sprite bordeaux_car1, 0"
       ]
      },
      {
       "output_type": "stream",
       "stream": "stdout",
       "text": [
        "\r",
        "trying to spawn sprite blue_orange_bus1"
       ]
      },
      {
       "output_type": "stream",
       "stream": "stdout",
       "text": [
        ", 1 SPAWNED\n"
       ]
      },
      {
       "output_type": "stream",
       "stream": "stdout",
       "text": [
        "\r",
        "trying to spawn sprite yellow_taxi1"
       ]
      },
      {
       "output_type": "stream",
       "stream": "stdout",
       "text": [
        "\r",
        "trying to spawn sprite yellow_taxi1, 1"
       ]
      },
      {
       "output_type": "stream",
       "stream": "stdout",
       "text": [
        "\r",
        "trying to spawn sprite yellow_taxi1"
       ]
      },
      {
       "output_type": "stream",
       "stream": "stdout",
       "text": [
        "\r",
        "trying to spawn sprite yellow_taxi1, 2"
       ]
      },
      {
       "output_type": "stream",
       "stream": "stdout",
       "text": [
        "\r",
        "trying to spawn sprite yellow_taxi1"
       ]
      },
      {
       "output_type": "stream",
       "stream": "stdout",
       "text": [
        ", 3 SPAWNED\n"
       ]
      },
      {
       "output_type": "stream",
       "stream": "stdout",
       "text": [
        "\r",
        "trying to spawn sprite white_car1"
       ]
      },
      {
       "output_type": "stream",
       "stream": "stdout",
       "text": [
        ", 1 SPAWNED\n"
       ]
      },
      {
       "output_type": "stream",
       "stream": "stdout",
       "text": [
        "\r",
        "trying to spawn sprite yellow_taxi2"
       ]
      },
      {
       "output_type": "stream",
       "stream": "stdout",
       "text": [
        ", 1 SPAWNED\n"
       ]
      },
      {
       "output_type": "stream",
       "stream": "stdout",
       "text": [
        "\r",
        "trying to spawn sprite red_car1"
       ]
      },
      {
       "output_type": "stream",
       "stream": "stdout",
       "text": [
        ", 1 SPAWNED\n"
       ]
      },
      {
       "output_type": "stream",
       "stream": "stdout",
       "text": [
        "\r",
        "trying to spawn sprite blue_car1"
       ]
      },
      {
       "output_type": "stream",
       "stream": "stdout",
       "text": [
        "\r",
        "trying to spawn sprite blue_car1, 1"
       ]
      },
      {
       "output_type": "stream",
       "stream": "stdout",
       "text": [
        "\r",
        "trying to spawn sprite blue_car1"
       ]
      },
      {
       "output_type": "stream",
       "stream": "stdout",
       "text": [
        "\r",
        "trying to spawn sprite blue_car1, 2"
       ]
      },
      {
       "output_type": "stream",
       "stream": "stdout",
       "text": [
        "\r",
        "trying to spawn sprite blue_car1"
       ]
      },
      {
       "output_type": "stream",
       "stream": "stdout",
       "text": [
        "\r",
        "trying to spawn sprite blue_car1, 3"
       ]
      },
      {
       "output_type": "stream",
       "stream": "stdout",
       "text": [
        "\r",
        "trying to spawn sprite blue_car1"
       ]
      },
      {
       "output_type": "stream",
       "stream": "stdout",
       "text": [
        "\r",
        "trying to spawn sprite blue_car1, 4"
       ]
      },
      {
       "output_type": "stream",
       "stream": "stdout",
       "text": [
        "\r",
        "trying to spawn sprite blue_car1"
       ]
      },
      {
       "output_type": "stream",
       "stream": "stdout",
       "text": [
        "\r",
        "trying to spawn sprite blue_car1, 5"
       ]
      },
      {
       "output_type": "stream",
       "stream": "stdout",
       "text": [
        "\r",
        "trying to spawn sprite blue_car1"
       ]
      },
      {
       "output_type": "stream",
       "stream": "stdout",
       "text": [
        "\r",
        "trying to spawn sprite blue_car1, 0"
       ]
      },
      {
       "output_type": "stream",
       "stream": "stdout",
       "text": [
        "\r",
        "trying to spawn sprite yellow_taxi2"
       ]
      },
      {
       "output_type": "stream",
       "stream": "stdout",
       "text": [
        "\r",
        "trying to spawn sprite yellow_taxi2, 1"
       ]
      },
      {
       "output_type": "stream",
       "stream": "stdout",
       "text": [
        "\r",
        "trying to spawn sprite yellow_taxi2"
       ]
      },
      {
       "output_type": "stream",
       "stream": "stdout",
       "text": [
        "\r",
        "trying to spawn sprite yellow_taxi2, 2"
       ]
      },
      {
       "output_type": "stream",
       "stream": "stdout",
       "text": [
        "\r",
        "trying to spawn sprite yellow_taxi2"
       ]
      },
      {
       "output_type": "stream",
       "stream": "stdout",
       "text": [
        "\r",
        "trying to spawn sprite yellow_taxi2, 3"
       ]
      },
      {
       "output_type": "stream",
       "stream": "stdout",
       "text": [
        "\r",
        "trying to spawn sprite yellow_taxi2"
       ]
      },
      {
       "output_type": "stream",
       "stream": "stdout",
       "text": [
        "\r",
        "trying to spawn sprite yellow_taxi2, 4"
       ]
      },
      {
       "output_type": "stream",
       "stream": "stdout",
       "text": [
        "\r",
        "trying to spawn sprite yellow_taxi2"
       ]
      },
      {
       "output_type": "stream",
       "stream": "stdout",
       "text": [
        "\r",
        "trying to spawn sprite yellow_taxi2, 5"
       ]
      },
      {
       "output_type": "stream",
       "stream": "stdout",
       "text": [
        "\r",
        "trying to spawn sprite yellow_taxi2"
       ]
      },
      {
       "output_type": "stream",
       "stream": "stdout",
       "text": [
        "\r",
        "trying to spawn sprite yellow_taxi2, 0"
       ]
      },
      {
       "output_type": "stream",
       "stream": "stdout",
       "text": [
        "\r",
        "trying to spawn sprite yellow_taxi2"
       ]
      },
      {
       "output_type": "stream",
       "stream": "stdout",
       "text": [
        "\r",
        "trying to spawn sprite yellow_taxi2, 1"
       ]
      },
      {
       "output_type": "stream",
       "stream": "stdout",
       "text": [
        "\r",
        "trying to spawn sprite yellow_taxi2"
       ]
      },
      {
       "output_type": "stream",
       "stream": "stdout",
       "text": [
        "\r",
        "trying to spawn sprite yellow_taxi2, 2"
       ]
      },
      {
       "output_type": "stream",
       "stream": "stdout",
       "text": [
        "\r",
        "trying to spawn sprite yellow_taxi2"
       ]
      },
      {
       "output_type": "stream",
       "stream": "stdout",
       "text": [
        "\r",
        "trying to spawn sprite yellow_taxi2, 3"
       ]
      },
      {
       "output_type": "stream",
       "stream": "stdout",
       "text": [
        "\r",
        "trying to spawn sprite yellow_taxi2"
       ]
      },
      {
       "output_type": "stream",
       "stream": "stdout",
       "text": [
        "\r",
        "trying to spawn sprite yellow_taxi2, 4"
       ]
      },
      {
       "output_type": "stream",
       "stream": "stdout",
       "text": [
        "\r",
        "trying to spawn sprite yellow_taxi2"
       ]
      },
      {
       "output_type": "stream",
       "stream": "stdout",
       "text": [
        "\r",
        "trying to spawn sprite yellow_taxi2, 5"
       ]
      },
      {
       "output_type": "stream",
       "stream": "stdout",
       "text": [
        "\r",
        "trying to spawn sprite yellow_taxi2"
       ]
      },
      {
       "output_type": "stream",
       "stream": "stdout",
       "text": [
        "\r",
        "trying to spawn sprite yellow_taxi2, 0"
       ]
      },
      {
       "output_type": "stream",
       "stream": "stdout",
       "text": [
        "\r",
        "trying to spawn sprite pink_car1"
       ]
      },
      {
       "output_type": "stream",
       "stream": "stdout",
       "text": [
        "\r",
        "trying to spawn sprite pink_car1, 1"
       ]
      },
      {
       "output_type": "stream",
       "stream": "stdout",
       "text": [
        "\r",
        "trying to spawn sprite pink_car1"
       ]
      },
      {
       "output_type": "stream",
       "stream": "stdout",
       "text": [
        "\r",
        "trying to spawn sprite pink_car1, 2"
       ]
      },
      {
       "output_type": "stream",
       "stream": "stdout",
       "text": [
        "\r",
        "trying to spawn sprite pink_car1"
       ]
      },
      {
       "output_type": "stream",
       "stream": "stdout",
       "text": [
        ", 3 SPAWNED\n"
       ]
      },
      {
       "output_type": "stream",
       "stream": "stdout",
       "text": [
        "\r",
        "trying to spawn sprite blue_orange_bus1"
       ]
      },
      {
       "output_type": "stream",
       "stream": "stdout",
       "text": [
        "\r",
        "trying to spawn sprite blue_orange_bus1, 1"
       ]
      },
      {
       "output_type": "stream",
       "stream": "stdout",
       "text": [
        "\r",
        "trying to spawn sprite blue_orange_bus1"
       ]
      },
      {
       "output_type": "stream",
       "stream": "stdout",
       "text": [
        "\r",
        "trying to spawn sprite blue_orange_bus1, 2"
       ]
      },
      {
       "output_type": "stream",
       "stream": "stdout",
       "text": [
        "\r",
        "trying to spawn sprite blue_orange_bus1"
       ]
      },
      {
       "output_type": "stream",
       "stream": "stdout",
       "text": [
        "\r",
        "trying to spawn sprite blue_orange_bus1, 3"
       ]
      },
      {
       "output_type": "stream",
       "stream": "stdout",
       "text": [
        "\r",
        "trying to spawn sprite blue_orange_bus1"
       ]
      },
      {
       "output_type": "stream",
       "stream": "stdout",
       "text": [
        ", 4 SPAWNED\n"
       ]
      },
      {
       "output_type": "stream",
       "stream": "stdout",
       "text": [
        "\r",
        "trying to spawn sprite blue_orange_bus1"
       ]
      },
      {
       "output_type": "stream",
       "stream": "stdout",
       "text": [
        "\r",
        "trying to spawn sprite blue_orange_bus1, 1"
       ]
      },
      {
       "output_type": "stream",
       "stream": "stdout",
       "text": [
        "\r",
        "trying to spawn sprite blue_orange_bus1"
       ]
      },
      {
       "output_type": "stream",
       "stream": "stdout",
       "text": [
        "\r",
        "trying to spawn sprite blue_orange_bus1, 2"
       ]
      },
      {
       "output_type": "stream",
       "stream": "stdout",
       "text": [
        "\r",
        "trying to spawn sprite blue_orange_bus1"
       ]
      },
      {
       "output_type": "stream",
       "stream": "stdout",
       "text": [
        "\r",
        "trying to spawn sprite blue_orange_bus1, 3"
       ]
      },
      {
       "output_type": "stream",
       "stream": "stdout",
       "text": [
        "\r",
        "trying to spawn sprite blue_orange_bus1"
       ]
      },
      {
       "output_type": "stream",
       "stream": "stdout",
       "text": [
        "\r",
        "trying to spawn sprite blue_orange_bus1, 4"
       ]
      },
      {
       "output_type": "stream",
       "stream": "stdout",
       "text": [
        "\r",
        "trying to spawn sprite blue_orange_bus1"
       ]
      },
      {
       "output_type": "stream",
       "stream": "stdout",
       "text": [
        ", 5 SPAWNED\n"
       ]
      },
      {
       "output_type": "stream",
       "stream": "stdout",
       "text": [
        "\r",
        "trying to spawn sprite white_bus1"
       ]
      },
      {
       "output_type": "stream",
       "stream": "stdout",
       "text": [
        ", 1 SPAWNED\n"
       ]
      },
      {
       "output_type": "stream",
       "stream": "stdout",
       "text": [
        "\r",
        "trying to spawn sprite red_car1"
       ]
      },
      {
       "output_type": "stream",
       "stream": "stdout",
       "text": [
        ", 1 SPAWNED\n"
       ]
      },
      {
       "output_type": "stream",
       "stream": "stdout",
       "text": [
        "\r",
        "trying to spawn sprite grey_car1"
       ]
      },
      {
       "output_type": "stream",
       "stream": "stdout",
       "text": [
        "\r",
        "trying to spawn sprite grey_car1, 1"
       ]
      },
      {
       "output_type": "stream",
       "stream": "stdout",
       "text": [
        "\r",
        "trying to spawn sprite grey_car1"
       ]
      },
      {
       "output_type": "stream",
       "stream": "stdout",
       "text": [
        "\r",
        "trying to spawn sprite grey_car1, 2"
       ]
      },
      {
       "output_type": "stream",
       "stream": "stdout",
       "text": [
        "\r",
        "trying to spawn sprite grey_car1"
       ]
      },
      {
       "output_type": "stream",
       "stream": "stdout",
       "text": [
        "\r",
        "trying to spawn sprite grey_car1, 3"
       ]
      },
      {
       "output_type": "stream",
       "stream": "stdout",
       "text": [
        "\r",
        "trying to spawn sprite grey_car1"
       ]
      },
      {
       "output_type": "stream",
       "stream": "stdout",
       "text": [
        "\r",
        "trying to spawn sprite grey_car1, 4"
       ]
      },
      {
       "output_type": "stream",
       "stream": "stdout",
       "text": [
        "\r",
        "trying to spawn sprite grey_car1"
       ]
      },
      {
       "output_type": "stream",
       "stream": "stdout",
       "text": [
        "\r",
        "trying to spawn sprite grey_car1, 5"
       ]
      },
      {
       "output_type": "stream",
       "stream": "stdout",
       "text": [
        "\r",
        "trying to spawn sprite grey_car1"
       ]
      },
      {
       "output_type": "stream",
       "stream": "stdout",
       "text": [
        "\r",
        "trying to spawn sprite grey_car1, 0"
       ]
      },
      {
       "output_type": "stream",
       "stream": "stdout",
       "text": [
        "\r",
        "trying to spawn sprite blue_orange_bus1"
       ]
      },
      {
       "output_type": "stream",
       "stream": "stdout",
       "text": [
        "\r",
        "trying to spawn sprite blue_orange_bus1, 1"
       ]
      },
      {
       "output_type": "stream",
       "stream": "stdout",
       "text": [
        "\r",
        "trying to spawn sprite blue_orange_bus1"
       ]
      },
      {
       "output_type": "stream",
       "stream": "stdout",
       "text": [
        "\r",
        "trying to spawn sprite blue_orange_bus1, 2"
       ]
      },
      {
       "output_type": "stream",
       "stream": "stdout",
       "text": [
        "\r",
        "trying to spawn sprite blue_orange_bus1"
       ]
      },
      {
       "output_type": "stream",
       "stream": "stdout",
       "text": [
        "\r",
        "trying to spawn sprite blue_orange_bus1, 3"
       ]
      },
      {
       "output_type": "stream",
       "stream": "stdout",
       "text": [
        "\r",
        "trying to spawn sprite blue_orange_bus1"
       ]
      },
      {
       "output_type": "stream",
       "stream": "stdout",
       "text": [
        "\r",
        "trying to spawn sprite blue_orange_bus1, 4"
       ]
      },
      {
       "output_type": "stream",
       "stream": "stdout",
       "text": [
        "\r",
        "trying to spawn sprite blue_orange_bus1"
       ]
      },
      {
       "output_type": "stream",
       "stream": "stdout",
       "text": [
        "\r",
        "trying to spawn sprite blue_orange_bus1, 5"
       ]
      },
      {
       "output_type": "stream",
       "stream": "stdout",
       "text": [
        "\r",
        "trying to spawn sprite blue_orange_bus1"
       ]
      },
      {
       "output_type": "stream",
       "stream": "stdout",
       "text": [
        "\r",
        "trying to spawn sprite blue_orange_bus1, 0"
       ]
      },
      {
       "output_type": "stream",
       "stream": "stdout",
       "text": [
        "\r",
        "trying to spawn sprite grey_car1"
       ]
      },
      {
       "output_type": "stream",
       "stream": "stdout",
       "text": [
        "\r",
        "trying to spawn sprite grey_car1, 1"
       ]
      },
      {
       "output_type": "stream",
       "stream": "stdout",
       "text": [
        "\r",
        "trying to spawn sprite grey_car1"
       ]
      },
      {
       "output_type": "stream",
       "stream": "stdout",
       "text": [
        "\r",
        "trying to spawn sprite grey_car1, 2"
       ]
      },
      {
       "output_type": "stream",
       "stream": "stdout",
       "text": [
        "\r",
        "trying to spawn sprite grey_car1"
       ]
      },
      {
       "output_type": "stream",
       "stream": "stdout",
       "text": [
        "\r",
        "trying to spawn sprite grey_car1, 3"
       ]
      },
      {
       "output_type": "stream",
       "stream": "stdout",
       "text": [
        "\r",
        "trying to spawn sprite grey_car1"
       ]
      },
      {
       "output_type": "stream",
       "stream": "stdout",
       "text": [
        "\r",
        "trying to spawn sprite grey_car1, 4"
       ]
      },
      {
       "output_type": "stream",
       "stream": "stdout",
       "text": [
        "\r",
        "trying to spawn sprite grey_car1"
       ]
      },
      {
       "output_type": "stream",
       "stream": "stdout",
       "text": [
        "\r",
        "trying to spawn sprite grey_car1, 5"
       ]
      },
      {
       "output_type": "stream",
       "stream": "stdout",
       "text": [
        "\r",
        "trying to spawn sprite grey_car1"
       ]
      },
      {
       "output_type": "stream",
       "stream": "stdout",
       "text": [
        "\r",
        "trying to spawn sprite grey_car1, 0"
       ]
      },
      {
       "output_type": "stream",
       "stream": "stdout",
       "text": [
        "\r",
        "trying to spawn sprite pink_car1"
       ]
      },
      {
       "output_type": "stream",
       "stream": "stdout",
       "text": [
        ", 1 SPAWNED\n"
       ]
      },
      {
       "output_type": "stream",
       "stream": "stdout",
       "text": [
        "\r",
        "trying to spawn sprite yellow_taxi1"
       ]
      },
      {
       "output_type": "stream",
       "stream": "stdout",
       "text": [
        ", 1 SPAWNED\n"
       ]
      },
      {
       "output_type": "stream",
       "stream": "stdout",
       "text": [
        "\r",
        "trying to spawn sprite blue_orange_bus1"
       ]
      },
      {
       "output_type": "stream",
       "stream": "stdout",
       "text": [
        "\r",
        "trying to spawn sprite blue_orange_bus1, 1"
       ]
      },
      {
       "output_type": "stream",
       "stream": "stdout",
       "text": [
        "\r",
        "trying to spawn sprite blue_orange_bus1"
       ]
      },
      {
       "output_type": "stream",
       "stream": "stdout",
       "text": [
        "\r",
        "trying to spawn sprite blue_orange_bus1, 2"
       ]
      },
      {
       "output_type": "stream",
       "stream": "stdout",
       "text": [
        "\r",
        "trying to spawn sprite blue_orange_bus1"
       ]
      },
      {
       "output_type": "stream",
       "stream": "stdout",
       "text": [
        "\r",
        "trying to spawn sprite blue_orange_bus1, 3"
       ]
      },
      {
       "output_type": "stream",
       "stream": "stdout",
       "text": [
        "\r",
        "trying to spawn sprite blue_orange_bus1"
       ]
      },
      {
       "output_type": "stream",
       "stream": "stdout",
       "text": [
        "\r",
        "trying to spawn sprite blue_orange_bus1, 4"
       ]
      },
      {
       "output_type": "stream",
       "stream": "stdout",
       "text": [
        "\r",
        "trying to spawn sprite blue_orange_bus1"
       ]
      },
      {
       "output_type": "stream",
       "stream": "stdout",
       "text": [
        "\r",
        "trying to spawn sprite blue_orange_bus1, 5"
       ]
      },
      {
       "output_type": "stream",
       "stream": "stdout",
       "text": [
        "\r",
        "trying to spawn sprite blue_orange_bus1"
       ]
      },
      {
       "output_type": "stream",
       "stream": "stdout",
       "text": [
        "\r",
        "trying to spawn sprite blue_orange_bus1, 0"
       ]
      },
      {
       "output_type": "stream",
       "stream": "stdout",
       "text": [
        "\r",
        "trying to spawn sprite pink_car1"
       ]
      },
      {
       "output_type": "stream",
       "stream": "stdout",
       "text": [
        ", 1 SPAWNED\n"
       ]
      },
      {
       "output_type": "stream",
       "stream": "stdout",
       "text": [
        "\r",
        "trying to spawn sprite grey_car1"
       ]
      },
      {
       "output_type": "stream",
       "stream": "stdout",
       "text": [
        ", 1 SPAWNED\n"
       ]
      },
      {
       "output_type": "stream",
       "stream": "stdout",
       "text": [
        "\r",
        "trying to spawn sprite bordeaux_car1"
       ]
      },
      {
       "output_type": "stream",
       "stream": "stdout",
       "text": [
        "\r",
        "trying to spawn sprite bordeaux_car1, 1"
       ]
      },
      {
       "output_type": "stream",
       "stream": "stdout",
       "text": [
        "\r",
        "trying to spawn sprite bordeaux_car1"
       ]
      },
      {
       "output_type": "stream",
       "stream": "stdout",
       "text": [
        "\r",
        "trying to spawn sprite bordeaux_car1, 2"
       ]
      },
      {
       "output_type": "stream",
       "stream": "stdout",
       "text": [
        "\r",
        "trying to spawn sprite bordeaux_car1"
       ]
      },
      {
       "output_type": "stream",
       "stream": "stdout",
       "text": [
        "\r",
        "trying to spawn sprite bordeaux_car1, 3"
       ]
      },
      {
       "output_type": "stream",
       "stream": "stdout",
       "text": [
        "\r",
        "trying to spawn sprite bordeaux_car1"
       ]
      },
      {
       "output_type": "stream",
       "stream": "stdout",
       "text": [
        "\r",
        "trying to spawn sprite bordeaux_car1, 4"
       ]
      },
      {
       "output_type": "stream",
       "stream": "stdout",
       "text": [
        "\r",
        "trying to spawn sprite bordeaux_car1"
       ]
      },
      {
       "output_type": "stream",
       "stream": "stdout",
       "text": [
        "\r",
        "trying to spawn sprite bordeaux_car1, 5"
       ]
      },
      {
       "output_type": "stream",
       "stream": "stdout",
       "text": [
        "\r",
        "trying to spawn sprite bordeaux_car1"
       ]
      },
      {
       "output_type": "stream",
       "stream": "stdout",
       "text": [
        "\r",
        "trying to spawn sprite bordeaux_car1, 0"
       ]
      },
      {
       "output_type": "stream",
       "stream": "stdout",
       "text": [
        "\r",
        "trying to spawn sprite red_car2"
       ]
      },
      {
       "output_type": "stream",
       "stream": "stdout",
       "text": [
        "\r",
        "trying to spawn sprite red_car2, 1"
       ]
      },
      {
       "output_type": "stream",
       "stream": "stdout",
       "text": [
        "\r",
        "trying to spawn sprite red_car2"
       ]
      },
      {
       "output_type": "stream",
       "stream": "stdout",
       "text": [
        "\r",
        "trying to spawn sprite red_car2, 2"
       ]
      },
      {
       "output_type": "stream",
       "stream": "stdout",
       "text": [
        "\r",
        "trying to spawn sprite red_car2"
       ]
      },
      {
       "output_type": "stream",
       "stream": "stdout",
       "text": [
        "\r",
        "trying to spawn sprite red_car2, 3"
       ]
      },
      {
       "output_type": "stream",
       "stream": "stdout",
       "text": [
        "\r",
        "trying to spawn sprite red_car2"
       ]
      },
      {
       "output_type": "stream",
       "stream": "stdout",
       "text": [
        "\r",
        "trying to spawn sprite red_car2, 4"
       ]
      },
      {
       "output_type": "stream",
       "stream": "stdout",
       "text": [
        "\r",
        "trying to spawn sprite red_car2"
       ]
      },
      {
       "output_type": "stream",
       "stream": "stdout",
       "text": [
        "\r",
        "trying to spawn sprite red_car2, 5"
       ]
      },
      {
       "output_type": "stream",
       "stream": "stdout",
       "text": [
        "\r",
        "trying to spawn sprite red_car2"
       ]
      },
      {
       "output_type": "stream",
       "stream": "stdout",
       "text": [
        "\r",
        "trying to spawn sprite red_car2, 0"
       ]
      },
      {
       "output_type": "stream",
       "stream": "stdout",
       "text": [
        "\r",
        "trying to spawn sprite blue_orange_bus1"
       ]
      },
      {
       "output_type": "stream",
       "stream": "stdout",
       "text": [
        "\r",
        "trying to spawn sprite blue_orange_bus1, 1"
       ]
      },
      {
       "output_type": "stream",
       "stream": "stdout",
       "text": [
        "\r",
        "trying to spawn sprite blue_orange_bus1"
       ]
      },
      {
       "output_type": "stream",
       "stream": "stdout",
       "text": [
        "\r",
        "trying to spawn sprite blue_orange_bus1, 2"
       ]
      },
      {
       "output_type": "stream",
       "stream": "stdout",
       "text": [
        "\r",
        "trying to spawn sprite blue_orange_bus1"
       ]
      },
      {
       "output_type": "stream",
       "stream": "stdout",
       "text": [
        "\r",
        "trying to spawn sprite blue_orange_bus1, 3"
       ]
      },
      {
       "output_type": "stream",
       "stream": "stdout",
       "text": [
        "\r",
        "trying to spawn sprite blue_orange_bus1"
       ]
      },
      {
       "output_type": "stream",
       "stream": "stdout",
       "text": [
        "\r",
        "trying to spawn sprite blue_orange_bus1, 4"
       ]
      },
      {
       "output_type": "stream",
       "stream": "stdout",
       "text": [
        "\r",
        "trying to spawn sprite blue_orange_bus1"
       ]
      },
      {
       "output_type": "stream",
       "stream": "stdout",
       "text": [
        "\r",
        "trying to spawn sprite blue_orange_bus1, 5"
       ]
      },
      {
       "output_type": "stream",
       "stream": "stdout",
       "text": [
        "\r",
        "trying to spawn sprite blue_orange_bus1"
       ]
      },
      {
       "output_type": "stream",
       "stream": "stdout",
       "text": [
        "\r",
        "trying to spawn sprite blue_orange_bus1, 0"
       ]
      },
      {
       "output_type": "stream",
       "stream": "stdout",
       "text": [
        "\r",
        "trying to spawn sprite pink_car1"
       ]
      },
      {
       "output_type": "stream",
       "stream": "stdout",
       "text": [
        "\r",
        "trying to spawn sprite pink_car1, 1"
       ]
      },
      {
       "output_type": "stream",
       "stream": "stdout",
       "text": [
        "\r",
        "trying to spawn sprite pink_car1"
       ]
      },
      {
       "output_type": "stream",
       "stream": "stdout",
       "text": [
        "\r",
        "trying to spawn sprite pink_car1, 2"
       ]
      },
      {
       "output_type": "stream",
       "stream": "stdout",
       "text": [
        "\r",
        "trying to spawn sprite pink_car1"
       ]
      },
      {
       "output_type": "stream",
       "stream": "stdout",
       "text": [
        "\r",
        "trying to spawn sprite pink_car1, 3"
       ]
      },
      {
       "output_type": "stream",
       "stream": "stdout",
       "text": [
        "\r",
        "trying to spawn sprite pink_car1"
       ]
      },
      {
       "output_type": "stream",
       "stream": "stdout",
       "text": [
        "\r",
        "trying to spawn sprite pink_car1, 4"
       ]
      },
      {
       "output_type": "stream",
       "stream": "stdout",
       "text": [
        "\r",
        "trying to spawn sprite pink_car1"
       ]
      },
      {
       "output_type": "stream",
       "stream": "stdout",
       "text": [
        "\r",
        "trying to spawn sprite pink_car1, 5"
       ]
      },
      {
       "output_type": "stream",
       "stream": "stdout",
       "text": [
        "\r",
        "trying to spawn sprite pink_car1"
       ]
      },
      {
       "output_type": "stream",
       "stream": "stdout",
       "text": [
        ", 6 SPAWNED\n"
       ]
      },
      {
       "output_type": "stream",
       "stream": "stdout",
       "text": [
        "\r",
        "trying to spawn sprite blue_car1"
       ]
      },
      {
       "output_type": "stream",
       "stream": "stdout",
       "text": [
        ", 1 SPAWNED\n"
       ]
      },
      {
       "output_type": "stream",
       "stream": "stdout",
       "text": [
        "\r",
        "trying to spawn sprite blue_orange_bus1"
       ]
      },
      {
       "output_type": "stream",
       "stream": "stdout",
       "text": [
        "\r",
        "trying to spawn sprite blue_orange_bus1, 1"
       ]
      },
      {
       "output_type": "stream",
       "stream": "stdout",
       "text": [
        "\r",
        "trying to spawn sprite blue_orange_bus1"
       ]
      },
      {
       "output_type": "stream",
       "stream": "stdout",
       "text": [
        "\r",
        "trying to spawn sprite blue_orange_bus1, 2"
       ]
      },
      {
       "output_type": "stream",
       "stream": "stdout",
       "text": [
        "\r",
        "trying to spawn sprite blue_orange_bus1"
       ]
      },
      {
       "output_type": "stream",
       "stream": "stdout",
       "text": [
        ", 3 SPAWNED\n"
       ]
      },
      {
       "output_type": "stream",
       "stream": "stdout",
       "text": [
        "\r",
        "trying to spawn sprite white_car1"
       ]
      },
      {
       "output_type": "stream",
       "stream": "stdout",
       "text": [
        ", 1 SPAWNED\n"
       ]
      },
      {
       "output_type": "stream",
       "stream": "stdout",
       "text": [
        "\r",
        "trying to spawn sprite red_car2"
       ]
      },
      {
       "output_type": "stream",
       "stream": "stdout",
       "text": [
        "\r",
        "trying to spawn sprite red_car2, 1"
       ]
      },
      {
       "output_type": "stream",
       "stream": "stdout",
       "text": [
        "\r",
        "trying to spawn sprite red_car2"
       ]
      },
      {
       "output_type": "stream",
       "stream": "stdout",
       "text": [
        ", 2 SPAWNED\n"
       ]
      },
      {
       "output_type": "stream",
       "stream": "stdout",
       "text": [
        "\r",
        "trying to spawn sprite blue_car1"
       ]
      },
      {
       "output_type": "stream",
       "stream": "stdout",
       "text": [
        "\r",
        "trying to spawn sprite blue_car1, 1"
       ]
      },
      {
       "output_type": "stream",
       "stream": "stdout",
       "text": [
        "\r",
        "trying to spawn sprite blue_car1"
       ]
      },
      {
       "output_type": "stream",
       "stream": "stdout",
       "text": [
        ", 2 SPAWNED\n"
       ]
      },
      {
       "output_type": "stream",
       "stream": "stdout",
       "text": [
        "\r",
        "trying to spawn sprite grey_car1"
       ]
      },
      {
       "output_type": "stream",
       "stream": "stdout",
       "text": [
        ", 1 SPAWNED\n"
       ]
      },
      {
       "output_type": "stream",
       "stream": "stdout",
       "text": [
        "\r",
        "trying to spawn sprite yellow_taxi1"
       ]
      },
      {
       "output_type": "stream",
       "stream": "stdout",
       "text": [
        ", 1 SPAWNED\n"
       ]
      },
      {
       "output_type": "stream",
       "stream": "stdout",
       "text": [
        "\r",
        "trying to spawn sprite white_bus1"
       ]
      },
      {
       "output_type": "stream",
       "stream": "stdout",
       "text": [
        "\r",
        "trying to spawn sprite white_bus1, 1"
       ]
      },
      {
       "output_type": "stream",
       "stream": "stdout",
       "text": [
        "\r",
        "trying to spawn sprite white_bus1"
       ]
      },
      {
       "output_type": "stream",
       "stream": "stdout",
       "text": [
        "\r",
        "trying to spawn sprite white_bus1, 2"
       ]
      },
      {
       "output_type": "stream",
       "stream": "stdout",
       "text": [
        "\r",
        "trying to spawn sprite white_bus1"
       ]
      },
      {
       "output_type": "stream",
       "stream": "stdout",
       "text": [
        "\r",
        "trying to spawn sprite white_bus1, 3"
       ]
      },
      {
       "output_type": "stream",
       "stream": "stdout",
       "text": [
        "\r",
        "trying to spawn sprite white_bus1"
       ]
      },
      {
       "output_type": "stream",
       "stream": "stdout",
       "text": [
        "\r",
        "trying to spawn sprite white_bus1, 4"
       ]
      },
      {
       "output_type": "stream",
       "stream": "stdout",
       "text": [
        "\r",
        "trying to spawn sprite white_bus1"
       ]
      },
      {
       "output_type": "stream",
       "stream": "stdout",
       "text": [
        "\r",
        "trying to spawn sprite white_bus1, 5"
       ]
      },
      {
       "output_type": "stream",
       "stream": "stdout",
       "text": [
        "\r",
        "trying to spawn sprite white_bus1"
       ]
      },
      {
       "output_type": "stream",
       "stream": "stdout",
       "text": [
        "\r",
        "trying to spawn sprite white_bus1, 0"
       ]
      },
      {
       "output_type": "stream",
       "stream": "stdout",
       "text": [
        "\r",
        "trying to spawn sprite yellow_taxi1"
       ]
      },
      {
       "output_type": "stream",
       "stream": "stdout",
       "text": [
        ", 1 SPAWNED\n"
       ]
      },
      {
       "output_type": "stream",
       "stream": "stdout",
       "text": [
        "\r",
        "trying to spawn sprite white_car1"
       ]
      },
      {
       "output_type": "stream",
       "stream": "stdout",
       "text": [
        "\r",
        "trying to spawn sprite white_car1, 1"
       ]
      },
      {
       "output_type": "stream",
       "stream": "stdout",
       "text": [
        "\r",
        "trying to spawn sprite white_car1"
       ]
      },
      {
       "output_type": "stream",
       "stream": "stdout",
       "text": [
        "\r",
        "trying to spawn sprite white_car1, 2"
       ]
      },
      {
       "output_type": "stream",
       "stream": "stdout",
       "text": [
        "\r",
        "trying to spawn sprite white_car1"
       ]
      },
      {
       "output_type": "stream",
       "stream": "stdout",
       "text": [
        ", 3 SPAWNED\n"
       ]
      },
      {
       "output_type": "stream",
       "stream": "stdout",
       "text": [
        "\r",
        "trying to spawn sprite pink_car1"
       ]
      },
      {
       "output_type": "stream",
       "stream": "stdout",
       "text": [
        "\r",
        "trying to spawn sprite pink_car1, 1"
       ]
      },
      {
       "output_type": "stream",
       "stream": "stdout",
       "text": [
        "\r",
        "trying to spawn sprite pink_car1"
       ]
      },
      {
       "output_type": "stream",
       "stream": "stdout",
       "text": [
        ", 2 SPAWNED\n"
       ]
      },
      {
       "output_type": "stream",
       "stream": "stdout",
       "text": [
        "\r",
        "trying to spawn sprite red_car2"
       ]
      },
      {
       "output_type": "stream",
       "stream": "stdout",
       "text": [
        ", 1 SPAWNED\n"
       ]
      },
      {
       "output_type": "stream",
       "stream": "stdout",
       "text": [
        "\r",
        "trying to spawn sprite bordeaux_car1"
       ]
      },
      {
       "output_type": "stream",
       "stream": "stdout",
       "text": [
        ", 1 SPAWNED\n"
       ]
      },
      {
       "output_type": "stream",
       "stream": "stdout",
       "text": [
        "\r",
        "trying to spawn sprite blue_orange_bus1"
       ]
      },
      {
       "output_type": "stream",
       "stream": "stdout",
       "text": [
        "\r",
        "trying to spawn sprite blue_orange_bus1, 1"
       ]
      },
      {
       "output_type": "stream",
       "stream": "stdout",
       "text": [
        "\r",
        "trying to spawn sprite blue_orange_bus1"
       ]
      },
      {
       "output_type": "stream",
       "stream": "stdout",
       "text": [
        "\r",
        "trying to spawn sprite blue_orange_bus1, 2"
       ]
      },
      {
       "output_type": "stream",
       "stream": "stdout",
       "text": [
        "\r",
        "trying to spawn sprite blue_orange_bus1"
       ]
      },
      {
       "output_type": "stream",
       "stream": "stdout",
       "text": [
        "\r",
        "trying to spawn sprite blue_orange_bus1, 3"
       ]
      },
      {
       "output_type": "stream",
       "stream": "stdout",
       "text": [
        "\r",
        "trying to spawn sprite blue_orange_bus1"
       ]
      },
      {
       "output_type": "stream",
       "stream": "stdout",
       "text": [
        "\r",
        "trying to spawn sprite blue_orange_bus1, 4"
       ]
      },
      {
       "output_type": "stream",
       "stream": "stdout",
       "text": [
        "\r",
        "trying to spawn sprite blue_orange_bus1"
       ]
      },
      {
       "output_type": "stream",
       "stream": "stdout",
       "text": [
        "\r",
        "trying to spawn sprite blue_orange_bus1, 5"
       ]
      },
      {
       "output_type": "stream",
       "stream": "stdout",
       "text": [
        "\r",
        "trying to spawn sprite blue_orange_bus1"
       ]
      },
      {
       "output_type": "stream",
       "stream": "stdout",
       "text": [
        "\r",
        "trying to spawn sprite blue_orange_bus1, 0"
       ]
      },
      {
       "output_type": "stream",
       "stream": "stdout",
       "text": [
        "\r",
        "trying to spawn sprite blue_orange_bus1"
       ]
      },
      {
       "output_type": "stream",
       "stream": "stdout",
       "text": [
        "\r",
        "trying to spawn sprite blue_orange_bus1, 1"
       ]
      },
      {
       "output_type": "stream",
       "stream": "stdout",
       "text": [
        "\r",
        "trying to spawn sprite blue_orange_bus1"
       ]
      },
      {
       "output_type": "stream",
       "stream": "stdout",
       "text": [
        "\r",
        "trying to spawn sprite blue_orange_bus1, 2"
       ]
      },
      {
       "output_type": "stream",
       "stream": "stdout",
       "text": [
        "\r",
        "trying to spawn sprite blue_orange_bus1"
       ]
      },
      {
       "output_type": "stream",
       "stream": "stdout",
       "text": [
        "\r",
        "trying to spawn sprite blue_orange_bus1, 3"
       ]
      },
      {
       "output_type": "stream",
       "stream": "stdout",
       "text": [
        "\r",
        "trying to spawn sprite blue_orange_bus1"
       ]
      },
      {
       "output_type": "stream",
       "stream": "stdout",
       "text": [
        "\r",
        "trying to spawn sprite blue_orange_bus1, 4"
       ]
      },
      {
       "output_type": "stream",
       "stream": "stdout",
       "text": [
        "\r",
        "trying to spawn sprite blue_orange_bus1"
       ]
      },
      {
       "output_type": "stream",
       "stream": "stdout",
       "text": [
        "\r",
        "trying to spawn sprite blue_orange_bus1, 5"
       ]
      },
      {
       "output_type": "stream",
       "stream": "stdout",
       "text": [
        "\r",
        "trying to spawn sprite blue_orange_bus1"
       ]
      },
      {
       "output_type": "stream",
       "stream": "stdout",
       "text": [
        "\r",
        "trying to spawn sprite blue_orange_bus1, 0"
       ]
      },
      {
       "output_type": "stream",
       "stream": "stdout",
       "text": [
        "\r",
        "trying to spawn sprite white_bus1"
       ]
      },
      {
       "output_type": "stream",
       "stream": "stdout",
       "text": [
        ", 1 SPAWNED\n"
       ]
      },
      {
       "output_type": "stream",
       "stream": "stdout",
       "text": [
        "\r",
        "trying to spawn sprite white_bus1"
       ]
      },
      {
       "output_type": "stream",
       "stream": "stdout",
       "text": [
        "\r",
        "trying to spawn sprite white_bus1, 1"
       ]
      },
      {
       "output_type": "stream",
       "stream": "stdout",
       "text": [
        "\r",
        "trying to spawn sprite white_bus1"
       ]
      },
      {
       "output_type": "stream",
       "stream": "stdout",
       "text": [
        "\r",
        "trying to spawn sprite white_bus1, 2"
       ]
      },
      {
       "output_type": "stream",
       "stream": "stdout",
       "text": [
        "\r",
        "trying to spawn sprite white_bus1"
       ]
      },
      {
       "output_type": "stream",
       "stream": "stdout",
       "text": [
        "\r",
        "trying to spawn sprite white_bus1, 3"
       ]
      },
      {
       "output_type": "stream",
       "stream": "stdout",
       "text": [
        "\r",
        "trying to spawn sprite white_bus1"
       ]
      },
      {
       "output_type": "stream",
       "stream": "stdout",
       "text": [
        "\r",
        "trying to spawn sprite white_bus1, 4"
       ]
      },
      {
       "output_type": "stream",
       "stream": "stdout",
       "text": [
        "\r",
        "trying to spawn sprite white_bus1"
       ]
      },
      {
       "output_type": "stream",
       "stream": "stdout",
       "text": [
        "\r",
        "trying to spawn sprite white_bus1, 5"
       ]
      },
      {
       "output_type": "stream",
       "stream": "stdout",
       "text": [
        "\r",
        "trying to spawn sprite white_bus1"
       ]
      },
      {
       "output_type": "stream",
       "stream": "stdout",
       "text": [
        "\r",
        "trying to spawn sprite white_bus1, 0"
       ]
      },
      {
       "output_type": "stream",
       "stream": "stdout",
       "text": [
        "\r",
        "trying to spawn sprite white_car1"
       ]
      },
      {
       "output_type": "stream",
       "stream": "stdout",
       "text": [
        "\r",
        "trying to spawn sprite white_car1, 1"
       ]
      },
      {
       "output_type": "stream",
       "stream": "stdout",
       "text": [
        "\r",
        "trying to spawn sprite white_car1"
       ]
      },
      {
       "output_type": "stream",
       "stream": "stdout",
       "text": [
        "\r",
        "trying to spawn sprite white_car1, 2"
       ]
      },
      {
       "output_type": "stream",
       "stream": "stdout",
       "text": [
        "\r",
        "trying to spawn sprite white_car1"
       ]
      },
      {
       "output_type": "stream",
       "stream": "stdout",
       "text": [
        "\r",
        "trying to spawn sprite white_car1, 3"
       ]
      },
      {
       "output_type": "stream",
       "stream": "stdout",
       "text": [
        "\r",
        "trying to spawn sprite white_car1"
       ]
      },
      {
       "output_type": "stream",
       "stream": "stdout",
       "text": [
        "\r",
        "trying to spawn sprite white_car1, 4"
       ]
      },
      {
       "output_type": "stream",
       "stream": "stdout",
       "text": [
        "\r",
        "trying to spawn sprite white_car1"
       ]
      },
      {
       "output_type": "stream",
       "stream": "stdout",
       "text": [
        "\r",
        "trying to spawn sprite white_car1, 5"
       ]
      },
      {
       "output_type": "stream",
       "stream": "stdout",
       "text": [
        "\r",
        "trying to spawn sprite white_car1"
       ]
      },
      {
       "output_type": "stream",
       "stream": "stdout",
       "text": [
        "\r",
        "trying to spawn sprite white_car1, 0"
       ]
      },
      {
       "output_type": "stream",
       "stream": "stdout",
       "text": [
        "\r",
        "trying to spawn sprite bordeaux_car1"
       ]
      },
      {
       "output_type": "stream",
       "stream": "stdout",
       "text": [
        "\r",
        "trying to spawn sprite bordeaux_car1, 1"
       ]
      },
      {
       "output_type": "stream",
       "stream": "stdout",
       "text": [
        "\r",
        "trying to spawn sprite bordeaux_car1"
       ]
      },
      {
       "output_type": "stream",
       "stream": "stdout",
       "text": [
        "\r",
        "trying to spawn sprite bordeaux_car1, 2"
       ]
      },
      {
       "output_type": "stream",
       "stream": "stdout",
       "text": [
        "\r",
        "trying to spawn sprite bordeaux_car1"
       ]
      },
      {
       "output_type": "stream",
       "stream": "stdout",
       "text": [
        "\r",
        "trying to spawn sprite bordeaux_car1, 3"
       ]
      },
      {
       "output_type": "stream",
       "stream": "stdout",
       "text": [
        "\r",
        "trying to spawn sprite bordeaux_car1"
       ]
      },
      {
       "output_type": "stream",
       "stream": "stdout",
       "text": [
        "\r",
        "trying to spawn sprite bordeaux_car1, 4"
       ]
      },
      {
       "output_type": "stream",
       "stream": "stdout",
       "text": [
        "\r",
        "trying to spawn sprite bordeaux_car1"
       ]
      },
      {
       "output_type": "stream",
       "stream": "stdout",
       "text": [
        "\r",
        "trying to spawn sprite bordeaux_car1, 5"
       ]
      },
      {
       "output_type": "stream",
       "stream": "stdout",
       "text": [
        "\r",
        "trying to spawn sprite bordeaux_car1"
       ]
      },
      {
       "output_type": "stream",
       "stream": "stdout",
       "text": [
        "\r",
        "trying to spawn sprite bordeaux_car1, 0"
       ]
      },
      {
       "output_type": "stream",
       "stream": "stdout",
       "text": [
        "\r",
        "trying to spawn sprite red_car1"
       ]
      },
      {
       "output_type": "stream",
       "stream": "stdout",
       "text": [
        ", 1 SPAWNED\n"
       ]
      },
      {
       "output_type": "stream",
       "stream": "stdout",
       "text": [
        "\r",
        "trying to spawn sprite white_bus1"
       ]
      },
      {
       "output_type": "stream",
       "stream": "stdout",
       "text": [
        "\r",
        "trying to spawn sprite white_bus1, 1"
       ]
      },
      {
       "output_type": "stream",
       "stream": "stdout",
       "text": [
        "\r",
        "trying to spawn sprite white_bus1"
       ]
      },
      {
       "output_type": "stream",
       "stream": "stdout",
       "text": [
        "\r",
        "trying to spawn sprite white_bus1, 2"
       ]
      },
      {
       "output_type": "stream",
       "stream": "stdout",
       "text": [
        "\r",
        "trying to spawn sprite white_bus1"
       ]
      },
      {
       "output_type": "stream",
       "stream": "stdout",
       "text": [
        "\r",
        "trying to spawn sprite white_bus1, 3"
       ]
      },
      {
       "output_type": "stream",
       "stream": "stdout",
       "text": [
        "\r",
        "trying to spawn sprite white_bus1"
       ]
      },
      {
       "output_type": "stream",
       "stream": "stdout",
       "text": [
        "\r",
        "trying to spawn sprite white_bus1, 4"
       ]
      },
      {
       "output_type": "stream",
       "stream": "stdout",
       "text": [
        "\r",
        "trying to spawn sprite white_bus1"
       ]
      },
      {
       "output_type": "stream",
       "stream": "stdout",
       "text": [
        "\r",
        "trying to spawn sprite white_bus1, 5"
       ]
      },
      {
       "output_type": "stream",
       "stream": "stdout",
       "text": [
        "\r",
        "trying to spawn sprite white_bus1"
       ]
      },
      {
       "output_type": "stream",
       "stream": "stdout",
       "text": [
        "\r",
        "trying to spawn sprite white_bus1, 0"
       ]
      },
      {
       "output_type": "stream",
       "stream": "stdout",
       "text": [
        "\r",
        "trying to spawn sprite yellow_taxi2"
       ]
      },
      {
       "output_type": "stream",
       "stream": "stdout",
       "text": [
        "\r",
        "trying to spawn sprite yellow_taxi2, 1"
       ]
      },
      {
       "output_type": "stream",
       "stream": "stdout",
       "text": [
        "\r",
        "trying to spawn sprite yellow_taxi2"
       ]
      },
      {
       "output_type": "stream",
       "stream": "stdout",
       "text": [
        "\r",
        "trying to spawn sprite yellow_taxi2, 2"
       ]
      },
      {
       "output_type": "stream",
       "stream": "stdout",
       "text": [
        "\r",
        "trying to spawn sprite yellow_taxi2"
       ]
      },
      {
       "output_type": "stream",
       "stream": "stdout",
       "text": [
        "\r",
        "trying to spawn sprite yellow_taxi2, 3"
       ]
      },
      {
       "output_type": "stream",
       "stream": "stdout",
       "text": [
        "\r",
        "trying to spawn sprite yellow_taxi2"
       ]
      },
      {
       "output_type": "stream",
       "stream": "stdout",
       "text": [
        "\r",
        "trying to spawn sprite yellow_taxi2, 4"
       ]
      },
      {
       "output_type": "stream",
       "stream": "stdout",
       "text": [
        "\r",
        "trying to spawn sprite yellow_taxi2"
       ]
      },
      {
       "output_type": "stream",
       "stream": "stdout",
       "text": [
        "\r",
        "trying to spawn sprite yellow_taxi2, 5"
       ]
      },
      {
       "output_type": "stream",
       "stream": "stdout",
       "text": [
        "\r",
        "trying to spawn sprite yellow_taxi2"
       ]
      },
      {
       "output_type": "stream",
       "stream": "stdout",
       "text": [
        "\r",
        "trying to spawn sprite yellow_taxi2, 0"
       ]
      },
      {
       "output_type": "stream",
       "stream": "stdout",
       "text": [
        "\r",
        "trying to spawn sprite grey_car1"
       ]
      },
      {
       "output_type": "stream",
       "stream": "stdout",
       "text": [
        ", 1 SPAWNED\n"
       ]
      },
      {
       "output_type": "stream",
       "stream": "stdout",
       "text": [
        "\r",
        "trying to spawn sprite red_car2"
       ]
      },
      {
       "output_type": "stream",
       "stream": "stdout",
       "text": [
        ", 1 SPAWNED\n"
       ]
      },
      {
       "output_type": "stream",
       "stream": "stdout",
       "text": [
        "\r",
        "trying to spawn sprite yellow_taxi1"
       ]
      },
      {
       "output_type": "stream",
       "stream": "stdout",
       "text": [
        "\r",
        "trying to spawn sprite yellow_taxi1, 1"
       ]
      },
      {
       "output_type": "stream",
       "stream": "stdout",
       "text": [
        "\r",
        "trying to spawn sprite yellow_taxi1"
       ]
      },
      {
       "output_type": "stream",
       "stream": "stdout",
       "text": [
        "\r",
        "trying to spawn sprite yellow_taxi1, 2"
       ]
      },
      {
       "output_type": "stream",
       "stream": "stdout",
       "text": [
        "\r",
        "trying to spawn sprite yellow_taxi1"
       ]
      },
      {
       "output_type": "stream",
       "stream": "stdout",
       "text": [
        "\r",
        "trying to spawn sprite yellow_taxi1, 3"
       ]
      },
      {
       "output_type": "stream",
       "stream": "stdout",
       "text": [
        "\r",
        "trying to spawn sprite yellow_taxi1"
       ]
      },
      {
       "output_type": "stream",
       "stream": "stdout",
       "text": [
        "\r",
        "trying to spawn sprite yellow_taxi1, 4"
       ]
      },
      {
       "output_type": "stream",
       "stream": "stdout",
       "text": [
        "\r",
        "trying to spawn sprite yellow_taxi1"
       ]
      },
      {
       "output_type": "stream",
       "stream": "stdout",
       "text": [
        "\r",
        "trying to spawn sprite yellow_taxi1, 5"
       ]
      },
      {
       "output_type": "stream",
       "stream": "stdout",
       "text": [
        "\r",
        "trying to spawn sprite yellow_taxi1"
       ]
      },
      {
       "output_type": "stream",
       "stream": "stdout",
       "text": [
        "\r",
        "trying to spawn sprite yellow_taxi1, 0"
       ]
      },
      {
       "output_type": "stream",
       "stream": "stdout",
       "text": [
        "\r",
        "trying to spawn sprite blue_orange_bus1"
       ]
      },
      {
       "output_type": "stream",
       "stream": "stdout",
       "text": [
        "\r",
        "trying to spawn sprite blue_orange_bus1, 1"
       ]
      },
      {
       "output_type": "stream",
       "stream": "stdout",
       "text": [
        "\r",
        "trying to spawn sprite blue_orange_bus1"
       ]
      },
      {
       "output_type": "stream",
       "stream": "stdout",
       "text": [
        "\r",
        "trying to spawn sprite blue_orange_bus1, 2"
       ]
      },
      {
       "output_type": "stream",
       "stream": "stdout",
       "text": [
        "\r",
        "trying to spawn sprite blue_orange_bus1"
       ]
      },
      {
       "output_type": "stream",
       "stream": "stdout",
       "text": [
        "\r",
        "trying to spawn sprite blue_orange_bus1, 3"
       ]
      },
      {
       "output_type": "stream",
       "stream": "stdout",
       "text": [
        "\r",
        "trying to spawn sprite blue_orange_bus1"
       ]
      },
      {
       "output_type": "stream",
       "stream": "stdout",
       "text": [
        "\r",
        "trying to spawn sprite blue_orange_bus1, 4"
       ]
      },
      {
       "output_type": "stream",
       "stream": "stdout",
       "text": [
        "\r",
        "trying to spawn sprite blue_orange_bus1"
       ]
      },
      {
       "output_type": "stream",
       "stream": "stdout",
       "text": [
        "\r",
        "trying to spawn sprite blue_orange_bus1, 5"
       ]
      },
      {
       "output_type": "stream",
       "stream": "stdout",
       "text": [
        "\r",
        "trying to spawn sprite blue_orange_bus1"
       ]
      },
      {
       "output_type": "stream",
       "stream": "stdout",
       "text": [
        "\r",
        "trying to spawn sprite blue_orange_bus1, 0"
       ]
      },
      {
       "output_type": "stream",
       "stream": "stdout",
       "text": [
        "\r",
        "trying to spawn sprite yellow_taxi1"
       ]
      },
      {
       "output_type": "stream",
       "stream": "stdout",
       "text": [
        "\r",
        "trying to spawn sprite yellow_taxi1, 1"
       ]
      },
      {
       "output_type": "stream",
       "stream": "stdout",
       "text": [
        "\r",
        "trying to spawn sprite yellow_taxi1"
       ]
      },
      {
       "output_type": "stream",
       "stream": "stdout",
       "text": [
        "\r",
        "trying to spawn sprite yellow_taxi1, 2"
       ]
      },
      {
       "output_type": "stream",
       "stream": "stdout",
       "text": [
        "\r",
        "trying to spawn sprite yellow_taxi1"
       ]
      },
      {
       "output_type": "stream",
       "stream": "stdout",
       "text": [
        "\r",
        "trying to spawn sprite yellow_taxi1, 3"
       ]
      },
      {
       "output_type": "stream",
       "stream": "stdout",
       "text": [
        "\r",
        "trying to spawn sprite yellow_taxi1"
       ]
      },
      {
       "output_type": "stream",
       "stream": "stdout",
       "text": [
        "\r",
        "trying to spawn sprite yellow_taxi1, 4"
       ]
      },
      {
       "output_type": "stream",
       "stream": "stdout",
       "text": [
        "\r",
        "trying to spawn sprite yellow_taxi1"
       ]
      },
      {
       "output_type": "stream",
       "stream": "stdout",
       "text": [
        "\r",
        "trying to spawn sprite yellow_taxi1, 5"
       ]
      },
      {
       "output_type": "stream",
       "stream": "stdout",
       "text": [
        "\r",
        "trying to spawn sprite yellow_taxi1"
       ]
      },
      {
       "output_type": "stream",
       "stream": "stdout",
       "text": [
        "\r",
        "trying to spawn sprite yellow_taxi1, 0"
       ]
      },
      {
       "output_type": "stream",
       "stream": "stdout",
       "text": [
        "\r",
        "trying to spawn sprite red_car1"
       ]
      },
      {
       "output_type": "stream",
       "stream": "stdout",
       "text": [
        "\r",
        "trying to spawn sprite red_car1, 1"
       ]
      },
      {
       "output_type": "stream",
       "stream": "stdout",
       "text": [
        "\r",
        "trying to spawn sprite red_car1"
       ]
      },
      {
       "output_type": "stream",
       "stream": "stdout",
       "text": [
        "\r",
        "trying to spawn sprite red_car1, 2"
       ]
      },
      {
       "output_type": "stream",
       "stream": "stdout",
       "text": [
        "\r",
        "trying to spawn sprite red_car1"
       ]
      },
      {
       "output_type": "stream",
       "stream": "stdout",
       "text": [
        "\r",
        "trying to spawn sprite red_car1, 3"
       ]
      },
      {
       "output_type": "stream",
       "stream": "stdout",
       "text": [
        "\r",
        "trying to spawn sprite red_car1"
       ]
      },
      {
       "output_type": "stream",
       "stream": "stdout",
       "text": [
        "\r",
        "trying to spawn sprite red_car1, 4"
       ]
      },
      {
       "output_type": "stream",
       "stream": "stdout",
       "text": [
        "\r",
        "trying to spawn sprite red_car1"
       ]
      },
      {
       "output_type": "stream",
       "stream": "stdout",
       "text": [
        "\r",
        "trying to spawn sprite red_car1, 5"
       ]
      },
      {
       "output_type": "stream",
       "stream": "stdout",
       "text": [
        "\r",
        "trying to spawn sprite red_car1"
       ]
      },
      {
       "output_type": "stream",
       "stream": "stdout",
       "text": [
        "\r",
        "trying to spawn sprite red_car1, 0"
       ]
      },
      {
       "output_type": "stream",
       "stream": "stdout",
       "text": [
        "\r",
        "trying to spawn sprite yellow_taxi2"
       ]
      },
      {
       "output_type": "stream",
       "stream": "stdout",
       "text": [
        ", 1 SPAWNED\n"
       ]
      },
      {
       "output_type": "stream",
       "stream": "stdout",
       "text": [
        "\r",
        "trying to spawn sprite bordeaux_car1"
       ]
      },
      {
       "output_type": "stream",
       "stream": "stdout",
       "text": [
        ", 1 SPAWNED\n"
       ]
      },
      {
       "output_type": "stream",
       "stream": "stdout",
       "text": [
        "\r",
        "trying to spawn sprite red_car2"
       ]
      },
      {
       "output_type": "stream",
       "stream": "stdout",
       "text": [
        "\r",
        "trying to spawn sprite red_car2, 1"
       ]
      },
      {
       "output_type": "stream",
       "stream": "stdout",
       "text": [
        "\r",
        "trying to spawn sprite red_car2"
       ]
      },
      {
       "output_type": "stream",
       "stream": "stdout",
       "text": [
        "\r",
        "trying to spawn sprite red_car2, 2"
       ]
      },
      {
       "output_type": "stream",
       "stream": "stdout",
       "text": [
        "\r",
        "trying to spawn sprite red_car2"
       ]
      },
      {
       "output_type": "stream",
       "stream": "stdout",
       "text": [
        ", 3 SPAWNED\n"
       ]
      },
      {
       "output_type": "stream",
       "stream": "stdout",
       "text": [
        "\r",
        "trying to spawn sprite blue_orange_bus1"
       ]
      },
      {
       "output_type": "stream",
       "stream": "stdout",
       "text": [
        "\r",
        "trying to spawn sprite blue_orange_bus1, 1"
       ]
      },
      {
       "output_type": "stream",
       "stream": "stdout",
       "text": [
        "\r",
        "trying to spawn sprite blue_orange_bus1"
       ]
      },
      {
       "output_type": "stream",
       "stream": "stdout",
       "text": [
        ", 2 SPAWNED\n"
       ]
      },
      {
       "output_type": "stream",
       "stream": "stdout",
       "text": [
        "\r",
        "trying to spawn sprite red_car2"
       ]
      },
      {
       "output_type": "stream",
       "stream": "stdout",
       "text": [
        "\r",
        "trying to spawn sprite red_car2, 1"
       ]
      },
      {
       "output_type": "stream",
       "stream": "stdout",
       "text": [
        "\r",
        "trying to spawn sprite red_car2"
       ]
      },
      {
       "output_type": "stream",
       "stream": "stdout",
       "text": [
        ", 2 SPAWNED\n"
       ]
      },
      {
       "output_type": "stream",
       "stream": "stdout",
       "text": [
        "\r",
        "trying to spawn sprite red_car1"
       ]
      },
      {
       "output_type": "stream",
       "stream": "stdout",
       "text": [
        "\r",
        "trying to spawn sprite red_car1, 1"
       ]
      },
      {
       "output_type": "stream",
       "stream": "stdout",
       "text": [
        "\r",
        "trying to spawn sprite red_car1"
       ]
      },
      {
       "output_type": "stream",
       "stream": "stdout",
       "text": [
        ", 2 SPAWNED\n"
       ]
      },
      {
       "output_type": "stream",
       "stream": "stdout",
       "text": [
        "\r",
        "trying to spawn sprite blue_orange_bus1"
       ]
      },
      {
       "output_type": "stream",
       "stream": "stdout",
       "text": [
        "\r",
        "trying to spawn sprite blue_orange_bus1, 1"
       ]
      },
      {
       "output_type": "stream",
       "stream": "stdout",
       "text": [
        "\r",
        "trying to spawn sprite blue_orange_bus1"
       ]
      },
      {
       "output_type": "stream",
       "stream": "stdout",
       "text": [
        "\r",
        "trying to spawn sprite blue_orange_bus1, 2"
       ]
      },
      {
       "output_type": "stream",
       "stream": "stdout",
       "text": [
        "\r",
        "trying to spawn sprite blue_orange_bus1"
       ]
      },
      {
       "output_type": "stream",
       "stream": "stdout",
       "text": [
        "\r",
        "trying to spawn sprite blue_orange_bus1, 3"
       ]
      },
      {
       "output_type": "stream",
       "stream": "stdout",
       "text": [
        "\r",
        "trying to spawn sprite blue_orange_bus1"
       ]
      },
      {
       "output_type": "stream",
       "stream": "stdout",
       "text": [
        "\r",
        "trying to spawn sprite blue_orange_bus1, 4"
       ]
      },
      {
       "output_type": "stream",
       "stream": "stdout",
       "text": [
        "\r",
        "trying to spawn sprite blue_orange_bus1"
       ]
      },
      {
       "output_type": "stream",
       "stream": "stdout",
       "text": [
        "\r",
        "trying to spawn sprite blue_orange_bus1, 5"
       ]
      },
      {
       "output_type": "stream",
       "stream": "stdout",
       "text": [
        "\r",
        "trying to spawn sprite blue_orange_bus1"
       ]
      },
      {
       "output_type": "stream",
       "stream": "stdout",
       "text": [
        "\r",
        "trying to spawn sprite blue_orange_bus1, 0"
       ]
      },
      {
       "output_type": "stream",
       "stream": "stdout",
       "text": [
        "\r",
        "trying to spawn sprite blue_car2"
       ]
      },
      {
       "output_type": "stream",
       "stream": "stdout",
       "text": [
        ", 1 SPAWNED\n"
       ]
      },
      {
       "output_type": "stream",
       "stream": "stdout",
       "text": [
        "\r",
        "trying to spawn sprite blue_orange_bus1"
       ]
      },
      {
       "output_type": "stream",
       "stream": "stdout",
       "text": [
        "\r",
        "trying to spawn sprite blue_orange_bus1, 1"
       ]
      },
      {
       "output_type": "stream",
       "stream": "stdout",
       "text": [
        "\r",
        "trying to spawn sprite blue_orange_bus1"
       ]
      },
      {
       "output_type": "stream",
       "stream": "stdout",
       "text": [
        "\r",
        "trying to spawn sprite blue_orange_bus1, 2"
       ]
      },
      {
       "output_type": "stream",
       "stream": "stdout",
       "text": [
        "\r",
        "trying to spawn sprite blue_orange_bus1"
       ]
      },
      {
       "output_type": "stream",
       "stream": "stdout",
       "text": [
        "\r",
        "trying to spawn sprite blue_orange_bus1, 3"
       ]
      },
      {
       "output_type": "stream",
       "stream": "stdout",
       "text": [
        "\r",
        "trying to spawn sprite blue_orange_bus1"
       ]
      },
      {
       "output_type": "stream",
       "stream": "stdout",
       "text": [
        "\r",
        "trying to spawn sprite blue_orange_bus1, 4"
       ]
      },
      {
       "output_type": "stream",
       "stream": "stdout",
       "text": [
        "\r",
        "trying to spawn sprite blue_orange_bus1"
       ]
      },
      {
       "output_type": "stream",
       "stream": "stdout",
       "text": [
        "\r",
        "trying to spawn sprite blue_orange_bus1, 5"
       ]
      },
      {
       "output_type": "stream",
       "stream": "stdout",
       "text": [
        "\r",
        "trying to spawn sprite blue_orange_bus1"
       ]
      },
      {
       "output_type": "stream",
       "stream": "stdout",
       "text": [
        "\r",
        "trying to spawn sprite blue_orange_bus1, 0"
       ]
      },
      {
       "output_type": "stream",
       "stream": "stdout",
       "text": [
        "\r",
        "trying to spawn sprite blue_car2"
       ]
      },
      {
       "output_type": "stream",
       "stream": "stdout",
       "text": [
        "\r",
        "trying to spawn sprite blue_car2, 1"
       ]
      },
      {
       "output_type": "stream",
       "stream": "stdout",
       "text": [
        "\r",
        "trying to spawn sprite blue_car2"
       ]
      },
      {
       "output_type": "stream",
       "stream": "stdout",
       "text": [
        ", 2 SPAWNED\n"
       ]
      },
      {
       "output_type": "stream",
       "stream": "stdout",
       "text": [
        "\r",
        "trying to spawn sprite white_bus1"
       ]
      },
      {
       "output_type": "stream",
       "stream": "stdout",
       "text": [
        ", 1 SPAWNED\n"
       ]
      },
      {
       "output_type": "stream",
       "stream": "stdout",
       "text": [
        "\r",
        "trying to spawn sprite red_car1"
       ]
      },
      {
       "output_type": "stream",
       "stream": "stdout",
       "text": [
        "\r",
        "trying to spawn sprite red_car1, 1"
       ]
      },
      {
       "output_type": "stream",
       "stream": "stdout",
       "text": [
        "\r",
        "trying to spawn sprite red_car1"
       ]
      },
      {
       "output_type": "stream",
       "stream": "stdout",
       "text": [
        "\r",
        "trying to spawn sprite red_car1, 2"
       ]
      },
      {
       "output_type": "stream",
       "stream": "stdout",
       "text": [
        "\r",
        "trying to spawn sprite red_car1"
       ]
      },
      {
       "output_type": "stream",
       "stream": "stdout",
       "text": [
        "\r",
        "trying to spawn sprite red_car1, 3"
       ]
      },
      {
       "output_type": "stream",
       "stream": "stdout",
       "text": [
        "\r",
        "trying to spawn sprite red_car1"
       ]
      },
      {
       "output_type": "stream",
       "stream": "stdout",
       "text": [
        "\r",
        "trying to spawn sprite red_car1, 4"
       ]
      },
      {
       "output_type": "stream",
       "stream": "stdout",
       "text": [
        "\r",
        "trying to spawn sprite red_car1"
       ]
      },
      {
       "output_type": "stream",
       "stream": "stdout",
       "text": [
        "\r",
        "trying to spawn sprite red_car1, 5"
       ]
      },
      {
       "output_type": "stream",
       "stream": "stdout",
       "text": [
        "\r",
        "trying to spawn sprite red_car1"
       ]
      },
      {
       "output_type": "stream",
       "stream": "stdout",
       "text": [
        ", 6 SPAWNED\n"
       ]
      },
      {
       "output_type": "stream",
       "stream": "stdout",
       "text": [
        "\r",
        "trying to spawn sprite pink_car1"
       ]
      },
      {
       "output_type": "stream",
       "stream": "stdout",
       "text": [
        "\r",
        "trying to spawn sprite pink_car1, 1"
       ]
      },
      {
       "output_type": "stream",
       "stream": "stdout",
       "text": [
        "\r",
        "trying to spawn sprite pink_car1"
       ]
      },
      {
       "output_type": "stream",
       "stream": "stdout",
       "text": [
        "\r",
        "trying to spawn sprite pink_car1, 2"
       ]
      },
      {
       "output_type": "stream",
       "stream": "stdout",
       "text": [
        "\r",
        "trying to spawn sprite pink_car1"
       ]
      },
      {
       "output_type": "stream",
       "stream": "stdout",
       "text": [
        "\r",
        "trying to spawn sprite pink_car1, 3"
       ]
      },
      {
       "output_type": "stream",
       "stream": "stdout",
       "text": [
        "\r",
        "trying to spawn sprite pink_car1"
       ]
      },
      {
       "output_type": "stream",
       "stream": "stdout",
       "text": [
        "\r",
        "trying to spawn sprite pink_car1, 4"
       ]
      },
      {
       "output_type": "stream",
       "stream": "stdout",
       "text": [
        "\r",
        "trying to spawn sprite pink_car1"
       ]
      },
      {
       "output_type": "stream",
       "stream": "stdout",
       "text": [
        "\r",
        "trying to spawn sprite pink_car1, 5"
       ]
      },
      {
       "output_type": "stream",
       "stream": "stdout",
       "text": [
        "\r",
        "trying to spawn sprite pink_car1"
       ]
      },
      {
       "output_type": "stream",
       "stream": "stdout",
       "text": [
        "\r",
        "trying to spawn sprite pink_car1, 0"
       ]
      },
      {
       "output_type": "stream",
       "stream": "stdout",
       "text": [
        "\r",
        "trying to spawn sprite pink_car1"
       ]
      },
      {
       "output_type": "stream",
       "stream": "stdout",
       "text": [
        "\r",
        "trying to spawn sprite pink_car1, 1"
       ]
      },
      {
       "output_type": "stream",
       "stream": "stdout",
       "text": [
        "\r",
        "trying to spawn sprite pink_car1"
       ]
      },
      {
       "output_type": "stream",
       "stream": "stdout",
       "text": [
        "\r",
        "trying to spawn sprite pink_car1, 2"
       ]
      },
      {
       "output_type": "stream",
       "stream": "stdout",
       "text": [
        "\r",
        "trying to spawn sprite pink_car1"
       ]
      },
      {
       "output_type": "stream",
       "stream": "stdout",
       "text": [
        "\r",
        "trying to spawn sprite pink_car1, 3"
       ]
      },
      {
       "output_type": "stream",
       "stream": "stdout",
       "text": [
        "\r",
        "trying to spawn sprite pink_car1"
       ]
      },
      {
       "output_type": "stream",
       "stream": "stdout",
       "text": [
        "\r",
        "trying to spawn sprite pink_car1, 4"
       ]
      },
      {
       "output_type": "stream",
       "stream": "stdout",
       "text": [
        "\r",
        "trying to spawn sprite pink_car1"
       ]
      },
      {
       "output_type": "stream",
       "stream": "stdout",
       "text": [
        "\r",
        "trying to spawn sprite pink_car1, 5"
       ]
      },
      {
       "output_type": "stream",
       "stream": "stdout",
       "text": [
        "\r",
        "trying to spawn sprite pink_car1"
       ]
      },
      {
       "output_type": "stream",
       "stream": "stdout",
       "text": [
        "\r",
        "trying to spawn sprite pink_car1, 0"
       ]
      },
      {
       "output_type": "stream",
       "stream": "stdout",
       "text": [
        "\r",
        "trying to spawn sprite pink_car1"
       ]
      },
      {
       "output_type": "stream",
       "stream": "stdout",
       "text": [
        ", 1 SPAWNED\n"
       ]
      },
      {
       "output_type": "stream",
       "stream": "stdout",
       "text": [
        "\r",
        "trying to spawn sprite yellow_taxi1"
       ]
      },
      {
       "output_type": "stream",
       "stream": "stdout",
       "text": [
        ", 1 SPAWNED\n"
       ]
      },
      {
       "output_type": "stream",
       "stream": "stdout",
       "text": [
        "\r",
        "trying to spawn sprite yellow_taxi1"
       ]
      },
      {
       "output_type": "stream",
       "stream": "stdout",
       "text": [
        "\r",
        "trying to spawn sprite yellow_taxi1, 1"
       ]
      },
      {
       "output_type": "stream",
       "stream": "stdout",
       "text": [
        "\r",
        "trying to spawn sprite yellow_taxi1"
       ]
      },
      {
       "output_type": "stream",
       "stream": "stdout",
       "text": [
        ", 2 SPAWNED\n"
       ]
      },
      {
       "output_type": "stream",
       "stream": "stdout",
       "text": [
        "\r",
        "trying to spawn sprite white_bus1"
       ]
      },
      {
       "output_type": "stream",
       "stream": "stdout",
       "text": [
        "\r",
        "trying to spawn sprite white_bus1, 1"
       ]
      },
      {
       "output_type": "stream",
       "stream": "stdout",
       "text": [
        "\r",
        "trying to spawn sprite white_bus1"
       ]
      },
      {
       "output_type": "stream",
       "stream": "stdout",
       "text": [
        "\r",
        "trying to spawn sprite white_bus1, 2"
       ]
      },
      {
       "output_type": "stream",
       "stream": "stdout",
       "text": [
        "\r",
        "trying to spawn sprite white_bus1"
       ]
      },
      {
       "output_type": "stream",
       "stream": "stdout",
       "text": [
        "\r",
        "trying to spawn sprite white_bus1, 3"
       ]
      },
      {
       "output_type": "stream",
       "stream": "stdout",
       "text": [
        "\r",
        "trying to spawn sprite white_bus1"
       ]
      },
      {
       "output_type": "stream",
       "stream": "stdout",
       "text": [
        "\r",
        "trying to spawn sprite white_bus1, 4"
       ]
      },
      {
       "output_type": "stream",
       "stream": "stdout",
       "text": [
        "\r",
        "trying to spawn sprite white_bus1"
       ]
      },
      {
       "output_type": "stream",
       "stream": "stdout",
       "text": [
        "\r",
        "trying to spawn sprite white_bus1, 5"
       ]
      },
      {
       "output_type": "stream",
       "stream": "stdout",
       "text": [
        "\r",
        "trying to spawn sprite white_bus1"
       ]
      },
      {
       "output_type": "stream",
       "stream": "stdout",
       "text": [
        "\r",
        "trying to spawn sprite white_bus1, 0"
       ]
      },
      {
       "output_type": "stream",
       "stream": "stdout",
       "text": [
        "\r",
        "trying to spawn sprite pink_car1"
       ]
      },
      {
       "output_type": "stream",
       "stream": "stdout",
       "text": [
        ", 1 SPAWNED\n"
       ]
      },
      {
       "output_type": "stream",
       "stream": "stdout",
       "text": [
        "\r",
        "trying to spawn sprite pink_car1"
       ]
      },
      {
       "output_type": "stream",
       "stream": "stdout",
       "text": [
        "\r",
        "trying to spawn sprite pink_car1, 1"
       ]
      },
      {
       "output_type": "stream",
       "stream": "stdout",
       "text": [
        "\r",
        "trying to spawn sprite pink_car1"
       ]
      },
      {
       "output_type": "stream",
       "stream": "stdout",
       "text": [
        "\r",
        "trying to spawn sprite pink_car1, 2"
       ]
      },
      {
       "output_type": "stream",
       "stream": "stdout",
       "text": [
        "\r",
        "trying to spawn sprite pink_car1"
       ]
      },
      {
       "output_type": "stream",
       "stream": "stdout",
       "text": [
        "\r",
        "trying to spawn sprite pink_car1, 3"
       ]
      },
      {
       "output_type": "stream",
       "stream": "stdout",
       "text": [
        "\r",
        "trying to spawn sprite pink_car1"
       ]
      },
      {
       "output_type": "stream",
       "stream": "stdout",
       "text": [
        "\r",
        "trying to spawn sprite pink_car1, 4"
       ]
      },
      {
       "output_type": "stream",
       "stream": "stdout",
       "text": [
        "\r",
        "trying to spawn sprite pink_car1"
       ]
      },
      {
       "output_type": "stream",
       "stream": "stdout",
       "text": [
        "\r",
        "trying to spawn sprite pink_car1, 5"
       ]
      },
      {
       "output_type": "stream",
       "stream": "stdout",
       "text": [
        "\r",
        "trying to spawn sprite pink_car1"
       ]
      },
      {
       "output_type": "stream",
       "stream": "stdout",
       "text": [
        "\r",
        "trying to spawn sprite pink_car1, 0"
       ]
      },
      {
       "output_type": "stream",
       "stream": "stdout",
       "text": [
        "\r",
        "trying to spawn sprite grey_car1"
       ]
      },
      {
       "output_type": "stream",
       "stream": "stdout",
       "text": [
        ", 1 SPAWNED\n"
       ]
      },
      {
       "output_type": "stream",
       "stream": "stdout",
       "text": [
        "\r",
        "trying to spawn sprite pink_car1"
       ]
      },
      {
       "output_type": "stream",
       "stream": "stdout",
       "text": [
        "\r",
        "trying to spawn sprite pink_car1, 1"
       ]
      },
      {
       "output_type": "stream",
       "stream": "stdout",
       "text": [
        "\r",
        "trying to spawn sprite pink_car1"
       ]
      },
      {
       "output_type": "stream",
       "stream": "stdout",
       "text": [
        "\r",
        "trying to spawn sprite pink_car1, 2"
       ]
      },
      {
       "output_type": "stream",
       "stream": "stdout",
       "text": [
        "\r",
        "trying to spawn sprite pink_car1"
       ]
      },
      {
       "output_type": "stream",
       "stream": "stdout",
       "text": [
        "\r",
        "trying to spawn sprite pink_car1, 3"
       ]
      },
      {
       "output_type": "stream",
       "stream": "stdout",
       "text": [
        "\r",
        "trying to spawn sprite pink_car1"
       ]
      },
      {
       "output_type": "stream",
       "stream": "stdout",
       "text": [
        "\r",
        "trying to spawn sprite pink_car1, 4"
       ]
      },
      {
       "output_type": "stream",
       "stream": "stdout",
       "text": [
        "\r",
        "trying to spawn sprite pink_car1"
       ]
      },
      {
       "output_type": "stream",
       "stream": "stdout",
       "text": [
        "\r",
        "trying to spawn sprite pink_car1, 5"
       ]
      },
      {
       "output_type": "stream",
       "stream": "stdout",
       "text": [
        "\r",
        "trying to spawn sprite pink_car1"
       ]
      },
      {
       "output_type": "stream",
       "stream": "stdout",
       "text": [
        "\r",
        "trying to spawn sprite pink_car1, 0"
       ]
      },
      {
       "output_type": "stream",
       "stream": "stdout",
       "text": [
        "\r",
        "trying to spawn sprite blue_orange_bus1"
       ]
      },
      {
       "output_type": "stream",
       "stream": "stdout",
       "text": [
        "\r",
        "trying to spawn sprite blue_orange_bus1, 1"
       ]
      },
      {
       "output_type": "stream",
       "stream": "stdout",
       "text": [
        "\r",
        "trying to spawn sprite blue_orange_bus1"
       ]
      },
      {
       "output_type": "stream",
       "stream": "stdout",
       "text": [
        "\r",
        "trying to spawn sprite blue_orange_bus1, 2"
       ]
      },
      {
       "output_type": "stream",
       "stream": "stdout",
       "text": [
        "\r",
        "trying to spawn sprite blue_orange_bus1"
       ]
      },
      {
       "output_type": "stream",
       "stream": "stdout",
       "text": [
        "\r",
        "trying to spawn sprite blue_orange_bus1, 3"
       ]
      },
      {
       "output_type": "stream",
       "stream": "stdout",
       "text": [
        "\r",
        "trying to spawn sprite blue_orange_bus1"
       ]
      },
      {
       "output_type": "stream",
       "stream": "stdout",
       "text": [
        "\r",
        "trying to spawn sprite blue_orange_bus1, 4"
       ]
      },
      {
       "output_type": "stream",
       "stream": "stdout",
       "text": [
        "\r",
        "trying to spawn sprite blue_orange_bus1"
       ]
      },
      {
       "output_type": "stream",
       "stream": "stdout",
       "text": [
        "\r",
        "trying to spawn sprite blue_orange_bus1, 5"
       ]
      },
      {
       "output_type": "stream",
       "stream": "stdout",
       "text": [
        "\r",
        "trying to spawn sprite blue_orange_bus1"
       ]
      },
      {
       "output_type": "stream",
       "stream": "stdout",
       "text": [
        "\r",
        "trying to spawn sprite blue_orange_bus1, 0"
       ]
      },
      {
       "output_type": "stream",
       "stream": "stdout",
       "text": [
        "\r",
        "trying to spawn sprite white_bus1"
       ]
      },
      {
       "output_type": "stream",
       "stream": "stdout",
       "text": [
        "\r",
        "trying to spawn sprite white_bus1, 1"
       ]
      },
      {
       "output_type": "stream",
       "stream": "stdout",
       "text": [
        "\r",
        "trying to spawn sprite white_bus1"
       ]
      },
      {
       "output_type": "stream",
       "stream": "stdout",
       "text": [
        "\r",
        "trying to spawn sprite white_bus1, 2"
       ]
      },
      {
       "output_type": "stream",
       "stream": "stdout",
       "text": [
        "\r",
        "trying to spawn sprite white_bus1"
       ]
      },
      {
       "output_type": "stream",
       "stream": "stdout",
       "text": [
        "\r",
        "trying to spawn sprite white_bus1, 3"
       ]
      },
      {
       "output_type": "stream",
       "stream": "stdout",
       "text": [
        "\r",
        "trying to spawn sprite white_bus1"
       ]
      },
      {
       "output_type": "stream",
       "stream": "stdout",
       "text": [
        ", 4 SPAWNED\n"
       ]
      },
      {
       "output_type": "stream",
       "stream": "stdout",
       "text": [
        "\r",
        "trying to spawn sprite white_bus1"
       ]
      },
      {
       "output_type": "stream",
       "stream": "stdout",
       "text": [
        "\r",
        "trying to spawn sprite white_bus1, 1"
       ]
      },
      {
       "output_type": "stream",
       "stream": "stdout",
       "text": [
        "\r",
        "trying to spawn sprite white_bus1"
       ]
      },
      {
       "output_type": "stream",
       "stream": "stdout",
       "text": [
        "\r",
        "trying to spawn sprite white_bus1, 2"
       ]
      },
      {
       "output_type": "stream",
       "stream": "stdout",
       "text": [
        "\r",
        "trying to spawn sprite white_bus1"
       ]
      },
      {
       "output_type": "stream",
       "stream": "stdout",
       "text": [
        "\r",
        "trying to spawn sprite white_bus1, 3"
       ]
      },
      {
       "output_type": "stream",
       "stream": "stdout",
       "text": [
        "\r",
        "trying to spawn sprite white_bus1"
       ]
      },
      {
       "output_type": "stream",
       "stream": "stdout",
       "text": [
        "\r",
        "trying to spawn sprite white_bus1, 4"
       ]
      },
      {
       "output_type": "stream",
       "stream": "stdout",
       "text": [
        "\r",
        "trying to spawn sprite white_bus1"
       ]
      },
      {
       "output_type": "stream",
       "stream": "stdout",
       "text": [
        "\r",
        "trying to spawn sprite white_bus1, 5"
       ]
      },
      {
       "output_type": "stream",
       "stream": "stdout",
       "text": [
        "\r",
        "trying to spawn sprite white_bus1"
       ]
      },
      {
       "output_type": "stream",
       "stream": "stdout",
       "text": [
        "\r",
        "trying to spawn sprite white_bus1, 0"
       ]
      },
      {
       "output_type": "stream",
       "stream": "stdout",
       "text": [
        "\r",
        "trying to spawn sprite yellow_taxi2"
       ]
      },
      {
       "output_type": "stream",
       "stream": "stdout",
       "text": [
        ", 1 SPAWNED\n"
       ]
      },
      {
       "output_type": "stream",
       "stream": "stdout",
       "text": [
        "\r",
        "trying to spawn sprite pink_car1"
       ]
      },
      {
       "output_type": "stream",
       "stream": "stdout",
       "text": [
        "\r",
        "trying to spawn sprite pink_car1, 1"
       ]
      },
      {
       "output_type": "stream",
       "stream": "stdout",
       "text": [
        "\r",
        "trying to spawn sprite pink_car1"
       ]
      },
      {
       "output_type": "stream",
       "stream": "stdout",
       "text": [
        "\r",
        "trying to spawn sprite pink_car1, 2"
       ]
      },
      {
       "output_type": "stream",
       "stream": "stdout",
       "text": [
        "\r",
        "trying to spawn sprite pink_car1"
       ]
      },
      {
       "output_type": "stream",
       "stream": "stdout",
       "text": [
        "\r",
        "trying to spawn sprite pink_car1, 3"
       ]
      },
      {
       "output_type": "stream",
       "stream": "stdout",
       "text": [
        "\r",
        "trying to spawn sprite pink_car1"
       ]
      },
      {
       "output_type": "stream",
       "stream": "stdout",
       "text": [
        "\r",
        "trying to spawn sprite pink_car1, 4"
       ]
      },
      {
       "output_type": "stream",
       "stream": "stdout",
       "text": [
        "\r",
        "trying to spawn sprite pink_car1"
       ]
      },
      {
       "output_type": "stream",
       "stream": "stdout",
       "text": [
        "\r",
        "trying to spawn sprite pink_car1, 5"
       ]
      },
      {
       "output_type": "stream",
       "stream": "stdout",
       "text": [
        "\r",
        "trying to spawn sprite pink_car1"
       ]
      },
      {
       "output_type": "stream",
       "stream": "stdout",
       "text": [
        "\r",
        "trying to spawn sprite pink_car1, 0"
       ]
      },
      {
       "output_type": "stream",
       "stream": "stdout",
       "text": [
        "\r",
        "trying to spawn sprite red_car2"
       ]
      },
      {
       "output_type": "stream",
       "stream": "stdout",
       "text": [
        "\r",
        "trying to spawn sprite red_car2, 1"
       ]
      },
      {
       "output_type": "stream",
       "stream": "stdout",
       "text": [
        "\r",
        "trying to spawn sprite red_car2"
       ]
      },
      {
       "output_type": "stream",
       "stream": "stdout",
       "text": [
        ", 2 SPAWNED\n"
       ]
      },
      {
       "output_type": "stream",
       "stream": "stdout",
       "text": [
        "\r",
        "trying to spawn sprite blue_orange_bus1"
       ]
      },
      {
       "output_type": "stream",
       "stream": "stdout",
       "text": [
        "\r",
        "trying to spawn sprite blue_orange_bus1, 1"
       ]
      },
      {
       "output_type": "stream",
       "stream": "stdout",
       "text": [
        "\r",
        "trying to spawn sprite blue_orange_bus1"
       ]
      },
      {
       "output_type": "stream",
       "stream": "stdout",
       "text": [
        "\r",
        "trying to spawn sprite blue_orange_bus1, 2"
       ]
      },
      {
       "output_type": "stream",
       "stream": "stdout",
       "text": [
        "\r",
        "trying to spawn sprite blue_orange_bus1"
       ]
      },
      {
       "output_type": "stream",
       "stream": "stdout",
       "text": [
        "\r",
        "trying to spawn sprite blue_orange_bus1, 3"
       ]
      },
      {
       "output_type": "stream",
       "stream": "stdout",
       "text": [
        "\r",
        "trying to spawn sprite blue_orange_bus1"
       ]
      },
      {
       "output_type": "stream",
       "stream": "stdout",
       "text": [
        "\r",
        "trying to spawn sprite blue_orange_bus1, 4"
       ]
      },
      {
       "output_type": "stream",
       "stream": "stdout",
       "text": [
        "\r",
        "trying to spawn sprite blue_orange_bus1"
       ]
      },
      {
       "output_type": "stream",
       "stream": "stdout",
       "text": [
        "\r",
        "trying to spawn sprite blue_orange_bus1, 5"
       ]
      },
      {
       "output_type": "stream",
       "stream": "stdout",
       "text": [
        "\r",
        "trying to spawn sprite blue_orange_bus1"
       ]
      },
      {
       "output_type": "stream",
       "stream": "stdout",
       "text": [
        "\r",
        "trying to spawn sprite blue_orange_bus1, 0"
       ]
      },
      {
       "output_type": "stream",
       "stream": "stdout",
       "text": [
        "\r",
        "trying to spawn sprite blue_car1"
       ]
      },
      {
       "output_type": "stream",
       "stream": "stdout",
       "text": [
        ", 1 SPAWNED\n"
       ]
      },
      {
       "output_type": "stream",
       "stream": "stdout",
       "text": [
        "\r",
        "trying to spawn sprite bordeaux_car1"
       ]
      },
      {
       "output_type": "stream",
       "stream": "stdout",
       "text": [
        ", 1 SPAWNED\n"
       ]
      },
      {
       "output_type": "stream",
       "stream": "stdout",
       "text": [
        "\r",
        "trying to spawn sprite white_bus1"
       ]
      },
      {
       "output_type": "stream",
       "stream": "stdout",
       "text": [
        "\r",
        "trying to spawn sprite white_bus1, 1"
       ]
      },
      {
       "output_type": "stream",
       "stream": "stdout",
       "text": [
        "\r",
        "trying to spawn sprite white_bus1"
       ]
      },
      {
       "output_type": "stream",
       "stream": "stdout",
       "text": [
        "\r",
        "trying to spawn sprite white_bus1, 2"
       ]
      },
      {
       "output_type": "stream",
       "stream": "stdout",
       "text": [
        "\r",
        "trying to spawn sprite white_bus1"
       ]
      },
      {
       "output_type": "stream",
       "stream": "stdout",
       "text": [
        "\r",
        "trying to spawn sprite white_bus1, 3"
       ]
      },
      {
       "output_type": "stream",
       "stream": "stdout",
       "text": [
        "\r",
        "trying to spawn sprite white_bus1"
       ]
      },
      {
       "output_type": "stream",
       "stream": "stdout",
       "text": [
        "\r",
        "trying to spawn sprite white_bus1, 4"
       ]
      },
      {
       "output_type": "stream",
       "stream": "stdout",
       "text": [
        "\r",
        "trying to spawn sprite white_bus1"
       ]
      },
      {
       "output_type": "stream",
       "stream": "stdout",
       "text": [
        "\r",
        "trying to spawn sprite white_bus1, 5"
       ]
      },
      {
       "output_type": "stream",
       "stream": "stdout",
       "text": [
        "\r",
        "trying to spawn sprite white_bus1"
       ]
      },
      {
       "output_type": "stream",
       "stream": "stdout",
       "text": [
        ", 6 SPAWNED\n"
       ]
      },
      {
       "output_type": "stream",
       "stream": "stdout",
       "text": [
        "\r",
        "trying to spawn sprite red_car1"
       ]
      },
      {
       "output_type": "stream",
       "stream": "stdout",
       "text": [
        "\r",
        "trying to spawn sprite red_car1, 1"
       ]
      },
      {
       "output_type": "stream",
       "stream": "stdout",
       "text": [
        "\r",
        "trying to spawn sprite red_car1"
       ]
      },
      {
       "output_type": "stream",
       "stream": "stdout",
       "text": [
        "\r",
        "trying to spawn sprite red_car1, 2"
       ]
      },
      {
       "output_type": "stream",
       "stream": "stdout",
       "text": [
        "\r",
        "trying to spawn sprite red_car1"
       ]
      },
      {
       "output_type": "stream",
       "stream": "stdout",
       "text": [
        "\r",
        "trying to spawn sprite red_car1, 3"
       ]
      },
      {
       "output_type": "stream",
       "stream": "stdout",
       "text": [
        "\r",
        "trying to spawn sprite red_car1"
       ]
      },
      {
       "output_type": "stream",
       "stream": "stdout",
       "text": [
        "\r",
        "trying to spawn sprite red_car1, 4"
       ]
      },
      {
       "output_type": "stream",
       "stream": "stdout",
       "text": [
        "\r",
        "trying to spawn sprite red_car1"
       ]
      },
      {
       "output_type": "stream",
       "stream": "stdout",
       "text": [
        "\r",
        "trying to spawn sprite red_car1, 5"
       ]
      },
      {
       "output_type": "stream",
       "stream": "stdout",
       "text": [
        "\r",
        "trying to spawn sprite red_car1"
       ]
      },
      {
       "output_type": "stream",
       "stream": "stdout",
       "text": [
        "\r",
        "trying to spawn sprite red_car1, 0"
       ]
      },
      {
       "output_type": "stream",
       "stream": "stdout",
       "text": [
        "\r",
        "trying to spawn sprite blue_car1"
       ]
      },
      {
       "output_type": "stream",
       "stream": "stdout",
       "text": [
        "\r",
        "trying to spawn sprite blue_car1, 1"
       ]
      },
      {
       "output_type": "stream",
       "stream": "stdout",
       "text": [
        "\r",
        "trying to spawn sprite blue_car1"
       ]
      },
      {
       "output_type": "stream",
       "stream": "stdout",
       "text": [
        "\r",
        "trying to spawn sprite blue_car1, 2"
       ]
      },
      {
       "output_type": "stream",
       "stream": "stdout",
       "text": [
        "\r",
        "trying to spawn sprite blue_car1"
       ]
      },
      {
       "output_type": "stream",
       "stream": "stdout",
       "text": [
        "\r",
        "trying to spawn sprite blue_car1, 3"
       ]
      },
      {
       "output_type": "stream",
       "stream": "stdout",
       "text": [
        "\r",
        "trying to spawn sprite blue_car1"
       ]
      },
      {
       "output_type": "stream",
       "stream": "stdout",
       "text": [
        "\r",
        "trying to spawn sprite blue_car1, 4"
       ]
      },
      {
       "output_type": "stream",
       "stream": "stdout",
       "text": [
        "\r",
        "trying to spawn sprite blue_car1"
       ]
      },
      {
       "output_type": "stream",
       "stream": "stdout",
       "text": [
        "\r",
        "trying to spawn sprite blue_car1, 5"
       ]
      },
      {
       "output_type": "stream",
       "stream": "stdout",
       "text": [
        "\r",
        "trying to spawn sprite blue_car1"
       ]
      },
      {
       "output_type": "stream",
       "stream": "stdout",
       "text": [
        "\r",
        "trying to spawn sprite blue_car1, 0"
       ]
      },
      {
       "output_type": "stream",
       "stream": "stdout",
       "text": [
        "\r",
        "trying to spawn sprite grey_car1"
       ]
      },
      {
       "output_type": "stream",
       "stream": "stdout",
       "text": [
        "\r",
        "trying to spawn sprite grey_car1, 1"
       ]
      },
      {
       "output_type": "stream",
       "stream": "stdout",
       "text": [
        "\r",
        "trying to spawn sprite grey_car1"
       ]
      },
      {
       "output_type": "stream",
       "stream": "stdout",
       "text": [
        "\r",
        "trying to spawn sprite grey_car1, 2"
       ]
      },
      {
       "output_type": "stream",
       "stream": "stdout",
       "text": [
        "\r",
        "trying to spawn sprite grey_car1"
       ]
      },
      {
       "output_type": "stream",
       "stream": "stdout",
       "text": [
        "\r",
        "trying to spawn sprite grey_car1, 3"
       ]
      },
      {
       "output_type": "stream",
       "stream": "stdout",
       "text": [
        "\r",
        "trying to spawn sprite grey_car1"
       ]
      },
      {
       "output_type": "stream",
       "stream": "stdout",
       "text": [
        "\r",
        "trying to spawn sprite grey_car1, 4"
       ]
      },
      {
       "output_type": "stream",
       "stream": "stdout",
       "text": [
        "\r",
        "trying to spawn sprite grey_car1"
       ]
      },
      {
       "output_type": "stream",
       "stream": "stdout",
       "text": [
        "\r",
        "trying to spawn sprite grey_car1, 5"
       ]
      },
      {
       "output_type": "stream",
       "stream": "stdout",
       "text": [
        "\r",
        "trying to spawn sprite grey_car1"
       ]
      },
      {
       "output_type": "stream",
       "stream": "stdout",
       "text": [
        "\r",
        "trying to spawn sprite grey_car1, 0"
       ]
      },
      {
       "output_type": "stream",
       "stream": "stdout",
       "text": [
        "\r",
        "trying to spawn sprite white_car1"
       ]
      },
      {
       "output_type": "stream",
       "stream": "stdout",
       "text": [
        "\r",
        "trying to spawn sprite white_car1, 1"
       ]
      },
      {
       "output_type": "stream",
       "stream": "stdout",
       "text": [
        "\r",
        "trying to spawn sprite white_car1"
       ]
      },
      {
       "output_type": "stream",
       "stream": "stdout",
       "text": [
        "\r",
        "trying to spawn sprite white_car1, 2"
       ]
      },
      {
       "output_type": "stream",
       "stream": "stdout",
       "text": [
        "\r",
        "trying to spawn sprite white_car1"
       ]
      },
      {
       "output_type": "stream",
       "stream": "stdout",
       "text": [
        "\r",
        "trying to spawn sprite white_car1, 3"
       ]
      },
      {
       "output_type": "stream",
       "stream": "stdout",
       "text": [
        "\r",
        "trying to spawn sprite white_car1"
       ]
      },
      {
       "output_type": "stream",
       "stream": "stdout",
       "text": [
        "\r",
        "trying to spawn sprite white_car1, 4"
       ]
      },
      {
       "output_type": "stream",
       "stream": "stdout",
       "text": [
        "\r",
        "trying to spawn sprite white_car1"
       ]
      },
      {
       "output_type": "stream",
       "stream": "stdout",
       "text": [
        "\r",
        "trying to spawn sprite white_car1, 5"
       ]
      },
      {
       "output_type": "stream",
       "stream": "stdout",
       "text": [
        "\r",
        "trying to spawn sprite white_car1"
       ]
      },
      {
       "output_type": "stream",
       "stream": "stdout",
       "text": [
        "\r",
        "trying to spawn sprite white_car1, 0"
       ]
      },
      {
       "output_type": "stream",
       "stream": "stdout",
       "text": [
        "\r",
        "trying to spawn sprite pink_car1"
       ]
      },
      {
       "output_type": "stream",
       "stream": "stdout",
       "text": [
        ", 1 SPAWNED\n"
       ]
      },
      {
       "output_type": "stream",
       "stream": "stdout",
       "text": [
        "\r",
        "trying to spawn sprite blue_car2"
       ]
      },
      {
       "output_type": "stream",
       "stream": "stdout",
       "text": [
        "\r",
        "trying to spawn sprite blue_car2, 1"
       ]
      },
      {
       "output_type": "stream",
       "stream": "stdout",
       "text": [
        "\r",
        "trying to spawn sprite blue_car2"
       ]
      },
      {
       "output_type": "stream",
       "stream": "stdout",
       "text": [
        "\r",
        "trying to spawn sprite blue_car2, 2"
       ]
      },
      {
       "output_type": "stream",
       "stream": "stdout",
       "text": [
        "\r",
        "trying to spawn sprite blue_car2"
       ]
      },
      {
       "output_type": "stream",
       "stream": "stdout",
       "text": [
        "\r",
        "trying to spawn sprite blue_car2, 3"
       ]
      },
      {
       "output_type": "stream",
       "stream": "stdout",
       "text": [
        "\r",
        "trying to spawn sprite blue_car2"
       ]
      },
      {
       "output_type": "stream",
       "stream": "stdout",
       "text": [
        "\r",
        "trying to spawn sprite blue_car2, 4"
       ]
      },
      {
       "output_type": "stream",
       "stream": "stdout",
       "text": [
        "\r",
        "trying to spawn sprite blue_car2"
       ]
      },
      {
       "output_type": "stream",
       "stream": "stdout",
       "text": [
        "\r",
        "trying to spawn sprite blue_car2, 5"
       ]
      },
      {
       "output_type": "stream",
       "stream": "stdout",
       "text": [
        "\r",
        "trying to spawn sprite blue_car2"
       ]
      },
      {
       "output_type": "stream",
       "stream": "stdout",
       "text": [
        "\r",
        "trying to spawn sprite blue_car2, 0"
       ]
      },
      {
       "output_type": "stream",
       "stream": "stdout",
       "text": [
        "\r",
        "trying to spawn sprite pink_car1"
       ]
      },
      {
       "output_type": "stream",
       "stream": "stdout",
       "text": [
        "\r",
        "trying to spawn sprite pink_car1, 1"
       ]
      },
      {
       "output_type": "stream",
       "stream": "stdout",
       "text": [
        "\r",
        "trying to spawn sprite pink_car1"
       ]
      },
      {
       "output_type": "stream",
       "stream": "stdout",
       "text": [
        "\r",
        "trying to spawn sprite pink_car1, 2"
       ]
      },
      {
       "output_type": "stream",
       "stream": "stdout",
       "text": [
        "\r",
        "trying to spawn sprite pink_car1"
       ]
      },
      {
       "output_type": "stream",
       "stream": "stdout",
       "text": [
        "\r",
        "trying to spawn sprite pink_car1, 3"
       ]
      },
      {
       "output_type": "stream",
       "stream": "stdout",
       "text": [
        "\r",
        "trying to spawn sprite pink_car1"
       ]
      },
      {
       "output_type": "stream",
       "stream": "stdout",
       "text": [
        "\r",
        "trying to spawn sprite pink_car1, 4"
       ]
      },
      {
       "output_type": "stream",
       "stream": "stdout",
       "text": [
        "\r",
        "trying to spawn sprite pink_car1"
       ]
      },
      {
       "output_type": "stream",
       "stream": "stdout",
       "text": [
        "\r",
        "trying to spawn sprite pink_car1, 5"
       ]
      },
      {
       "output_type": "stream",
       "stream": "stdout",
       "text": [
        "\r",
        "trying to spawn sprite pink_car1"
       ]
      },
      {
       "output_type": "stream",
       "stream": "stdout",
       "text": [
        "\r",
        "trying to spawn sprite pink_car1, 0"
       ]
      },
      {
       "output_type": "stream",
       "stream": "stdout",
       "text": [
        "\r",
        "trying to spawn sprite blue_car1"
       ]
      },
      {
       "output_type": "stream",
       "stream": "stdout",
       "text": [
        "\r",
        "trying to spawn sprite blue_car1, 1"
       ]
      },
      {
       "output_type": "stream",
       "stream": "stdout",
       "text": [
        "\r",
        "trying to spawn sprite blue_car1"
       ]
      },
      {
       "output_type": "stream",
       "stream": "stdout",
       "text": [
        "\r",
        "trying to spawn sprite blue_car1, 2"
       ]
      },
      {
       "output_type": "stream",
       "stream": "stdout",
       "text": [
        "\r",
        "trying to spawn sprite blue_car1"
       ]
      },
      {
       "output_type": "stream",
       "stream": "stdout",
       "text": [
        "\r",
        "trying to spawn sprite blue_car1, 3"
       ]
      },
      {
       "output_type": "stream",
       "stream": "stdout",
       "text": [
        "\r",
        "trying to spawn sprite blue_car1"
       ]
      },
      {
       "output_type": "stream",
       "stream": "stdout",
       "text": [
        "\r",
        "trying to spawn sprite blue_car1, 4"
       ]
      },
      {
       "output_type": "stream",
       "stream": "stdout",
       "text": [
        "\r",
        "trying to spawn sprite blue_car1"
       ]
      },
      {
       "output_type": "stream",
       "stream": "stdout",
       "text": [
        "\r",
        "trying to spawn sprite blue_car1, 5"
       ]
      },
      {
       "output_type": "stream",
       "stream": "stdout",
       "text": [
        "\r",
        "trying to spawn sprite blue_car1"
       ]
      },
      {
       "output_type": "stream",
       "stream": "stdout",
       "text": [
        "\r",
        "trying to spawn sprite blue_car1, 0"
       ]
      },
      {
       "output_type": "stream",
       "stream": "stdout",
       "text": [
        "\r",
        "trying to spawn sprite blue_car2"
       ]
      },
      {
       "output_type": "stream",
       "stream": "stdout",
       "text": [
        ", 1 SPAWNED\n"
       ]
      },
      {
       "output_type": "stream",
       "stream": "stdout",
       "text": [
        "\r",
        "trying to spawn sprite grey_car1"
       ]
      },
      {
       "output_type": "stream",
       "stream": "stdout",
       "text": [
        ", 1 SPAWNED\n"
       ]
      },
      {
       "output_type": "stream",
       "stream": "stdout",
       "text": [
        "\r",
        "trying to spawn sprite blue_orange_bus1"
       ]
      },
      {
       "output_type": "stream",
       "stream": "stdout",
       "text": [
        "\r",
        "trying to spawn sprite blue_orange_bus1, 1"
       ]
      },
      {
       "output_type": "stream",
       "stream": "stdout",
       "text": [
        "\r",
        "trying to spawn sprite blue_orange_bus1"
       ]
      },
      {
       "output_type": "stream",
       "stream": "stdout",
       "text": [
        "\r",
        "trying to spawn sprite blue_orange_bus1, 2"
       ]
      },
      {
       "output_type": "stream",
       "stream": "stdout",
       "text": [
        "\r",
        "trying to spawn sprite blue_orange_bus1"
       ]
      },
      {
       "output_type": "stream",
       "stream": "stdout",
       "text": [
        "\r",
        "trying to spawn sprite blue_orange_bus1, 3"
       ]
      },
      {
       "output_type": "stream",
       "stream": "stdout",
       "text": [
        "\r",
        "trying to spawn sprite blue_orange_bus1"
       ]
      },
      {
       "output_type": "stream",
       "stream": "stdout",
       "text": [
        "\r",
        "trying to spawn sprite blue_orange_bus1, 4"
       ]
      },
      {
       "output_type": "stream",
       "stream": "stdout",
       "text": [
        "\r",
        "trying to spawn sprite blue_orange_bus1"
       ]
      },
      {
       "output_type": "stream",
       "stream": "stdout",
       "text": [
        "\r",
        "trying to spawn sprite blue_orange_bus1, 5"
       ]
      },
      {
       "output_type": "stream",
       "stream": "stdout",
       "text": [
        "\r",
        "trying to spawn sprite blue_orange_bus1"
       ]
      },
      {
       "output_type": "stream",
       "stream": "stdout",
       "text": [
        "\r",
        "trying to spawn sprite blue_orange_bus1, 0"
       ]
      },
      {
       "output_type": "stream",
       "stream": "stdout",
       "text": [
        "\r",
        "trying to spawn sprite yellow_taxi1"
       ]
      },
      {
       "output_type": "stream",
       "stream": "stdout",
       "text": [
        ", 1 SPAWNED\n"
       ]
      },
      {
       "output_type": "stream",
       "stream": "stdout",
       "text": [
        "\r",
        "trying to spawn sprite pink_car1"
       ]
      },
      {
       "output_type": "stream",
       "stream": "stdout",
       "text": [
        "\r",
        "trying to spawn sprite pink_car1, 1"
       ]
      },
      {
       "output_type": "stream",
       "stream": "stdout",
       "text": [
        "\r",
        "trying to spawn sprite pink_car1"
       ]
      },
      {
       "output_type": "stream",
       "stream": "stdout",
       "text": [
        "\r",
        "trying to spawn sprite pink_car1, 2"
       ]
      },
      {
       "output_type": "stream",
       "stream": "stdout",
       "text": [
        "\r",
        "trying to spawn sprite pink_car1"
       ]
      },
      {
       "output_type": "stream",
       "stream": "stdout",
       "text": [
        "\r",
        "trying to spawn sprite pink_car1, 3"
       ]
      },
      {
       "output_type": "stream",
       "stream": "stdout",
       "text": [
        "\r",
        "trying to spawn sprite pink_car1"
       ]
      },
      {
       "output_type": "stream",
       "stream": "stdout",
       "text": [
        "\r",
        "trying to spawn sprite pink_car1, 4"
       ]
      },
      {
       "output_type": "stream",
       "stream": "stdout",
       "text": [
        "\r",
        "trying to spawn sprite pink_car1"
       ]
      },
      {
       "output_type": "stream",
       "stream": "stdout",
       "text": [
        "\r",
        "trying to spawn sprite pink_car1, 5"
       ]
      },
      {
       "output_type": "stream",
       "stream": "stdout",
       "text": [
        "\r",
        "trying to spawn sprite pink_car1"
       ]
      },
      {
       "output_type": "stream",
       "stream": "stdout",
       "text": [
        ", 6 SPAWNED\n"
       ]
      },
      {
       "output_type": "stream",
       "stream": "stdout",
       "text": [
        "\r",
        "trying to spawn sprite blue_car2"
       ]
      },
      {
       "output_type": "stream",
       "stream": "stdout",
       "text": [
        "\r",
        "trying to spawn sprite blue_car2, 1"
       ]
      },
      {
       "output_type": "stream",
       "stream": "stdout",
       "text": [
        "\r",
        "trying to spawn sprite blue_car2"
       ]
      },
      {
       "output_type": "stream",
       "stream": "stdout",
       "text": [
        "\r",
        "trying to spawn sprite blue_car2, 2"
       ]
      },
      {
       "output_type": "stream",
       "stream": "stdout",
       "text": [
        "\r",
        "trying to spawn sprite blue_car2"
       ]
      },
      {
       "output_type": "stream",
       "stream": "stdout",
       "text": [
        ", 3 SPAWNED\n"
       ]
      },
      {
       "output_type": "stream",
       "stream": "stdout",
       "text": [
        "\r",
        "trying to spawn sprite red_car2"
       ]
      },
      {
       "output_type": "stream",
       "stream": "stdout",
       "text": [
        ", 1 SPAWNED\n"
       ]
      },
      {
       "output_type": "stream",
       "stream": "stdout",
       "text": [
        "\r",
        "trying to spawn sprite white_bus1"
       ]
      },
      {
       "output_type": "stream",
       "stream": "stdout",
       "text": [
        ", 1 SPAWNED\n"
       ]
      },
      {
       "output_type": "stream",
       "stream": "stdout",
       "text": [
        "\r",
        "trying to spawn sprite yellow_taxi1"
       ]
      },
      {
       "output_type": "stream",
       "stream": "stdout",
       "text": [
        ", 1 SPAWNED\n"
       ]
      },
      {
       "output_type": "stream",
       "stream": "stdout",
       "text": [
        "\r",
        "trying to spawn sprite yellow_taxi2"
       ]
      },
      {
       "output_type": "stream",
       "stream": "stdout",
       "text": [
        "\r",
        "trying to spawn sprite yellow_taxi2, 1"
       ]
      },
      {
       "output_type": "stream",
       "stream": "stdout",
       "text": [
        "\r",
        "trying to spawn sprite yellow_taxi2"
       ]
      },
      {
       "output_type": "stream",
       "stream": "stdout",
       "text": [
        ", 2 SPAWNED\n"
       ]
      },
      {
       "output_type": "stream",
       "stream": "stdout",
       "text": [
        "\r",
        "trying to spawn sprite blue_car1"
       ]
      },
      {
       "output_type": "stream",
       "stream": "stdout",
       "text": [
        "\r",
        "trying to spawn sprite blue_car1, 1"
       ]
      },
      {
       "output_type": "stream",
       "stream": "stdout",
       "text": [
        "\r",
        "trying to spawn sprite blue_car1"
       ]
      },
      {
       "output_type": "stream",
       "stream": "stdout",
       "text": [
        "\r",
        "trying to spawn sprite blue_car1, 2"
       ]
      },
      {
       "output_type": "stream",
       "stream": "stdout",
       "text": [
        "\r",
        "trying to spawn sprite blue_car1"
       ]
      },
      {
       "output_type": "stream",
       "stream": "stdout",
       "text": [
        "\r",
        "trying to spawn sprite blue_car1, 3"
       ]
      },
      {
       "output_type": "stream",
       "stream": "stdout",
       "text": [
        "\r",
        "trying to spawn sprite blue_car1"
       ]
      },
      {
       "output_type": "stream",
       "stream": "stdout",
       "text": [
        "\r",
        "trying to spawn sprite blue_car1, 4"
       ]
      },
      {
       "output_type": "stream",
       "stream": "stdout",
       "text": [
        "\r",
        "trying to spawn sprite blue_car1"
       ]
      },
      {
       "output_type": "stream",
       "stream": "stdout",
       "text": [
        "\r",
        "trying to spawn sprite blue_car1, 5"
       ]
      },
      {
       "output_type": "stream",
       "stream": "stdout",
       "text": [
        "\r",
        "trying to spawn sprite blue_car1"
       ]
      },
      {
       "output_type": "stream",
       "stream": "stdout",
       "text": [
        "\r",
        "trying to spawn sprite blue_car1, 0"
       ]
      },
      {
       "output_type": "stream",
       "stream": "stdout",
       "text": [
        "\r",
        "trying to spawn sprite grey_car1"
       ]
      },
      {
       "output_type": "stream",
       "stream": "stdout",
       "text": [
        "\r",
        "trying to spawn sprite grey_car1, 1"
       ]
      },
      {
       "output_type": "stream",
       "stream": "stdout",
       "text": [
        "\r",
        "trying to spawn sprite grey_car1"
       ]
      },
      {
       "output_type": "stream",
       "stream": "stdout",
       "text": [
        "\r",
        "trying to spawn sprite grey_car1, 2"
       ]
      },
      {
       "output_type": "stream",
       "stream": "stdout",
       "text": [
        "\r",
        "trying to spawn sprite grey_car1"
       ]
      },
      {
       "output_type": "stream",
       "stream": "stdout",
       "text": [
        "\r",
        "trying to spawn sprite grey_car1, 3"
       ]
      },
      {
       "output_type": "stream",
       "stream": "stdout",
       "text": [
        "\r",
        "trying to spawn sprite grey_car1"
       ]
      },
      {
       "output_type": "stream",
       "stream": "stdout",
       "text": [
        "\r",
        "trying to spawn sprite grey_car1, 4"
       ]
      },
      {
       "output_type": "stream",
       "stream": "stdout",
       "text": [
        "\r",
        "trying to spawn sprite grey_car1"
       ]
      },
      {
       "output_type": "stream",
       "stream": "stdout",
       "text": [
        "\r",
        "trying to spawn sprite grey_car1, 5"
       ]
      },
      {
       "output_type": "stream",
       "stream": "stdout",
       "text": [
        "\r",
        "trying to spawn sprite grey_car1"
       ]
      },
      {
       "output_type": "stream",
       "stream": "stdout",
       "text": [
        "\r",
        "trying to spawn sprite grey_car1, 0"
       ]
      },
      {
       "output_type": "stream",
       "stream": "stdout",
       "text": [
        "\r",
        "trying to spawn sprite blue_car2"
       ]
      },
      {
       "output_type": "stream",
       "stream": "stdout",
       "text": [
        ", 1 SPAWNED\n"
       ]
      },
      {
       "output_type": "stream",
       "stream": "stdout",
       "text": [
        "\r",
        "trying to spawn sprite blue_car1"
       ]
      },
      {
       "output_type": "stream",
       "stream": "stdout",
       "text": [
        ", 1 SPAWNED\n"
       ]
      },
      {
       "output_type": "stream",
       "stream": "stdout",
       "text": [
        "\r",
        "trying to spawn sprite yellow_taxi2"
       ]
      },
      {
       "output_type": "stream",
       "stream": "stdout",
       "text": [
        ", 1 SPAWNED\n"
       ]
      },
      {
       "output_type": "stream",
       "stream": "stdout",
       "text": [
        "\r",
        "trying to spawn sprite blue_car2"
       ]
      },
      {
       "output_type": "stream",
       "stream": "stdout",
       "text": [
        "\r",
        "trying to spawn sprite blue_car2, 1"
       ]
      },
      {
       "output_type": "stream",
       "stream": "stdout",
       "text": [
        "\r",
        "trying to spawn sprite blue_car2"
       ]
      },
      {
       "output_type": "stream",
       "stream": "stdout",
       "text": [
        "\r",
        "trying to spawn sprite blue_car2, 2"
       ]
      },
      {
       "output_type": "stream",
       "stream": "stdout",
       "text": [
        "\r",
        "trying to spawn sprite blue_car2"
       ]
      },
      {
       "output_type": "stream",
       "stream": "stdout",
       "text": [
        "\r",
        "trying to spawn sprite blue_car2, 3"
       ]
      },
      {
       "output_type": "stream",
       "stream": "stdout",
       "text": [
        "\r",
        "trying to spawn sprite blue_car2"
       ]
      },
      {
       "output_type": "stream",
       "stream": "stdout",
       "text": [
        "\r",
        "trying to spawn sprite blue_car2, 4"
       ]
      },
      {
       "output_type": "stream",
       "stream": "stdout",
       "text": [
        "\r",
        "trying to spawn sprite blue_car2"
       ]
      },
      {
       "output_type": "stream",
       "stream": "stdout",
       "text": [
        "\r",
        "trying to spawn sprite blue_car2, 5"
       ]
      },
      {
       "output_type": "stream",
       "stream": "stdout",
       "text": [
        "\r",
        "trying to spawn sprite blue_car2"
       ]
      },
      {
       "output_type": "stream",
       "stream": "stdout",
       "text": [
        "\r",
        "trying to spawn sprite blue_car2, 0"
       ]
      },
      {
       "output_type": "stream",
       "stream": "stdout",
       "text": [
        "\r",
        "trying to spawn sprite red_car2"
       ]
      },
      {
       "output_type": "stream",
       "stream": "stdout",
       "text": [
        ", 1 SPAWNED\n"
       ]
      },
      {
       "output_type": "stream",
       "stream": "stdout",
       "text": [
        "\r",
        "trying to spawn sprite blue_orange_bus1"
       ]
      },
      {
       "output_type": "stream",
       "stream": "stdout",
       "text": [
        "\r",
        "trying to spawn sprite blue_orange_bus1, 1"
       ]
      },
      {
       "output_type": "stream",
       "stream": "stdout",
       "text": [
        "\r",
        "trying to spawn sprite blue_orange_bus1"
       ]
      },
      {
       "output_type": "stream",
       "stream": "stdout",
       "text": [
        "\r",
        "trying to spawn sprite blue_orange_bus1, 2"
       ]
      },
      {
       "output_type": "stream",
       "stream": "stdout",
       "text": [
        "closing\n"
       ]
      },
      {
       "metadata": {},
       "output_type": "pyout",
       "prompt_number": 41,
       "text": [
        "0"
       ]
      }
     ],
     "prompt_number": 41
    },
    {
     "cell_type": "code",
     "collapsed": false,
     "input": [
      "print window.trackedSprites[2][DICT_SPRITE_NAME]"
     ],
     "language": "python",
     "metadata": {},
     "outputs": [
      {
       "output_type": "stream",
       "stream": "stdout",
       "text": [
        "blue_orange_bus1\n"
       ]
      }
     ],
     "prompt_number": 18
    },
    {
     "cell_type": "code",
     "collapsed": false,
     "input": [
      "print window.precomputedSequence[]"
     ],
     "language": "python",
     "metadata": {},
     "outputs": [
      {
       "output_type": "stream",
       "stream": "stdout",
       "text": [
        "[{'sprite_name': u'red_car1', 'sequence_frames': array([  0,   0,   0,   0,   1,   2,   3,   4,   5,   6,   7,   8,   9,\n",
        "        10,  11,  12,  13,  14,  15,  16,  17,  18,  19,  20,  21,  22,\n",
        "        23,  24,  25,  26,  27,  28,  29,  30,  31,  32,  33,  34,  35,\n",
        "        36,  37,  38,  39,  40,  41,  42,  43,  44,  45,  46,  47,  48,\n",
        "        49,  50,  51,  52,  53,  54,  55,  56,  57,  58,  59,  60,  61,\n",
        "        62,  63,  64,  65,  66,  67,  68,  69,  70,  71,  72,  73,  74,\n",
        "        75,  76,  77,  78,  79,  80,  81,  82,  83,  84,  85,  86,  87,\n",
        "        88,  89,  90,  91,  92,  93,  94,  95,  96,  97,  98,  99, 100,\n",
        "       101, 102, 103, 104, 105, 106, 107, 108, 109, 110, 111, 112, 113,\n",
        "       114, 115, 116, 117, 118, 119, 120, 121, 122, 123, 124, 125, 126,\n",
        "       127, 128, 129, 130, 131, 132, 133, 134, 135, 136, 137, 138, 139,\n",
        "       140, 141, 142, 143, 144, 145, 146, 147, 148, 149, 150, 151, 152,\n",
        "       153, 154, 155, 156, 157, 158, 159, 160, 161, 162, 163, 164, 165,\n",
        "       166, 167, 168, 169, 170, 171, 172, 173, 174, 175, 176, 177, 178,\n",
        "       179, 180, 181, 182, 183, 184, 185, 186, 187, 188, 189, 190, 191,\n",
        "       192, 193, 194, 195, 196, 197, 198, 199, 200, 201, 202, 203, 204,\n",
        "       205, 206, 207, 208, 209, 210, 211, 212, 213, 214, 215, 216, 217,\n",
        "       218, 219, 220, 221, 222, 223, 224, 225, 226, 227, 228, 229, 230,\n",
        "       231, 232, 233, 234, 235, 236, 237, 238, 239, 240, 241, 242, 243,\n",
        "       244, 245, 246, 247, 248, 249, 250, 251, 252, 253, 254, 255, 256,\n",
        "       257, 258, 259, 260, 261, 262, 263, 264, 265, 266, 267, 268, 269,\n",
        "       270, 271, 272, 273, 274, 275, 276, 277, 278, 279, 280, 281, 282,\n",
        "       283, 284, 285, 286, 287, 288, 289, 290, 291, 292, 293, 294, 295, 296]), 'sprite_idx': 0, 'desired_semantics': array([[ 0.98846721,  0.01153279],\n",
        "       [ 0.92358888,  0.07641112],\n",
        "       [ 0.79012346,  0.20987654],\n",
        "       [ 0.6033125 ,  0.3966875 ],\n",
        "       [ 0.3966875 ,  0.6033125 ],\n",
        "       [ 0.20987654,  0.79012346],\n",
        "       [ 0.07641112,  0.92358888],\n",
        "       [ 0.01153279,  0.98846721],\n",
        "       [ 0.        ,  1.        ],\n",
        "       [ 0.        ,  1.        ],\n",
        "       [ 0.        ,  1.        ],\n",
        "       [ 0.        ,  1.        ],\n",
        "       [ 0.        ,  1.        ],\n",
        "       [ 0.        ,  1.        ],\n",
        "       [ 0.        ,  1.        ],\n",
        "       [ 0.        ,  1.        ],\n",
        "       [ 0.        ,  1.        ],\n",
        "       [ 0.        ,  1.        ],\n",
        "       [ 0.        ,  1.        ],\n",
        "       [ 0.        ,  1.        ],\n",
        "       [ 0.        ,  1.        ],\n",
        "       [ 0.        ,  1.        ],\n",
        "       [ 0.        ,  1.        ],\n",
        "       [ 0.        ,  1.        ],\n",
        "       [ 0.        ,  1.        ],\n",
        "       [ 0.        ,  1.        ],\n",
        "       [ 0.        ,  1.        ],\n",
        "       [ 0.        ,  1.        ],\n",
        "       [ 0.        ,  1.        ],\n",
        "       [ 0.        ,  1.        ],\n",
        "       [ 0.        ,  1.        ],\n",
        "       [ 0.        ,  1.        ],\n",
        "       [ 0.        ,  1.        ],\n",
        "       [ 0.        ,  1.        ],\n",
        "       [ 0.        ,  1.        ],\n",
        "       [ 0.        ,  1.        ],\n",
        "       [ 0.        ,  1.        ],\n",
        "       [ 0.        ,  1.        ],\n",
        "       [ 0.        ,  1.        ],\n",
        "       [ 0.        ,  1.        ],\n",
        "       [ 0.        ,  1.        ],\n",
        "       [ 0.        ,  1.        ],\n",
        "       [ 0.        ,  1.        ],\n",
        "       [ 0.        ,  1.        ],\n",
        "       [ 0.        ,  1.        ],\n",
        "       [ 0.        ,  1.        ],\n",
        "       [ 0.        ,  1.        ],\n",
        "       [ 0.        ,  1.        ],\n",
        "       [ 0.        ,  1.        ],\n",
        "       [ 0.        ,  1.        ],\n",
        "       [ 0.        ,  1.        ],\n",
        "       [ 0.        ,  1.        ],\n",
        "       [ 0.        ,  1.        ],\n",
        "       [ 0.        ,  1.        ],\n",
        "       [ 0.        ,  1.        ],\n",
        "       [ 0.        ,  1.        ],\n",
        "       [ 0.        ,  1.        ],\n",
        "       [ 0.        ,  1.        ],\n",
        "       [ 0.        ,  1.        ],\n",
        "       [ 0.        ,  1.        ],\n",
        "       [ 0.        ,  1.        ],\n",
        "       [ 0.        ,  1.        ],\n",
        "       [ 0.        ,  1.        ],\n",
        "       [ 0.        ,  1.        ],\n",
        "       [ 0.        ,  1.        ],\n",
        "       [ 0.        ,  1.        ],\n",
        "       [ 0.        ,  1.        ],\n",
        "       [ 0.        ,  1.        ],\n",
        "       [ 0.        ,  1.        ],\n",
        "       [ 0.        ,  1.        ],\n",
        "       [ 0.        ,  1.        ],\n",
        "       [ 0.        ,  1.        ],\n",
        "       [ 0.        ,  1.        ],\n",
        "       [ 0.        ,  1.        ],\n",
        "       [ 0.        ,  1.        ],\n",
        "       [ 0.        ,  1.        ],\n",
        "       [ 0.        ,  1.        ],\n",
        "       [ 0.        ,  1.        ],\n",
        "       [ 0.        ,  1.        ],\n",
        "       [ 0.        ,  1.        ],\n",
        "       [ 0.        ,  1.        ],\n",
        "       [ 0.        ,  1.        ],\n",
        "       [ 0.        ,  1.        ],\n",
        "       [ 0.        ,  1.        ],\n",
        "       [ 0.        ,  1.        ],\n",
        "       [ 0.        ,  1.        ],\n",
        "       [ 0.        ,  1.        ],\n",
        "       [ 0.        ,  1.        ],\n",
        "       [ 0.        ,  1.        ],\n",
        "       [ 0.        ,  1.        ],\n",
        "       [ 0.        ,  1.        ],\n",
        "       [ 0.        ,  1.        ],\n",
        "       [ 0.        ,  1.        ],\n",
        "       [ 0.        ,  1.        ],\n",
        "       [ 0.        ,  1.        ],\n",
        "       [ 0.        ,  1.        ],\n",
        "       [ 0.        ,  1.        ],\n",
        "       [ 0.        ,  1.        ],\n",
        "       [ 0.        ,  1.        ],\n",
        "       [ 0.        ,  1.        ],\n",
        "       [ 0.        ,  1.        ],\n",
        "       [ 0.        ,  1.        ],\n",
        "       [ 0.        ,  1.        ],\n",
        "       [ 0.        ,  1.        ],\n",
        "       [ 0.        ,  1.        ],\n",
        "       [ 0.        ,  1.        ],\n",
        "       [ 0.        ,  1.        ],\n",
        "       [ 0.        ,  1.        ],\n",
        "       [ 0.        ,  1.        ],\n",
        "       [ 0.        ,  1.        ],\n",
        "       [ 0.        ,  1.        ],\n",
        "       [ 0.        ,  1.        ],\n",
        "       [ 0.        ,  1.        ],\n",
        "       [ 0.        ,  1.        ],\n",
        "       [ 0.        ,  1.        ],\n",
        "       [ 0.        ,  1.        ],\n",
        "       [ 0.        ,  1.        ],\n",
        "       [ 0.        ,  1.        ],\n",
        "       [ 0.        ,  1.        ],\n",
        "       [ 0.        ,  1.        ],\n",
        "       [ 0.        ,  1.        ],\n",
        "       [ 0.        ,  1.        ],\n",
        "       [ 0.        ,  1.        ],\n",
        "       [ 0.        ,  1.        ],\n",
        "       [ 0.        ,  1.        ],\n",
        "       [ 0.        ,  1.        ],\n",
        "       [ 0.        ,  1.        ],\n",
        "       [ 0.        ,  1.        ],\n",
        "       [ 0.        ,  1.        ],\n",
        "       [ 0.        ,  1.        ],\n",
        "       [ 0.        ,  1.        ],\n",
        "       [ 0.        ,  1.        ],\n",
        "       [ 0.        ,  1.        ],\n",
        "       [ 0.        ,  1.        ],\n",
        "       [ 0.        ,  1.        ],\n",
        "       [ 0.        ,  1.        ],\n",
        "       [ 0.        ,  1.        ],\n",
        "       [ 0.        ,  1.        ],\n",
        "       [ 0.        ,  1.        ],\n",
        "       [ 0.        ,  1.        ],\n",
        "       [ 0.        ,  1.        ],\n",
        "       [ 0.        ,  1.        ],\n",
        "       [ 0.        ,  1.        ],\n",
        "       [ 0.        ,  1.        ],\n",
        "       [ 0.        ,  1.        ],\n",
        "       [ 0.        ,  1.        ],\n",
        "       [ 0.        ,  1.        ],\n",
        "       [ 0.        ,  1.        ],\n",
        "       [ 0.        ,  1.        ],\n",
        "       [ 0.        ,  1.        ],\n",
        "       [ 0.        ,  1.        ],\n",
        "       [ 0.        ,  1.        ],\n",
        "       [ 0.        ,  1.        ],\n",
        "       [ 0.        ,  1.        ],\n",
        "       [ 0.        ,  1.        ],\n",
        "       [ 0.        ,  1.        ],\n",
        "       [ 0.        ,  1.        ],\n",
        "       [ 0.        ,  1.        ],\n",
        "       [ 0.        ,  1.        ],\n",
        "       [ 0.        ,  1.        ],\n",
        "       [ 0.        ,  1.        ],\n",
        "       [ 0.        ,  1.        ],\n",
        "       [ 0.        ,  1.        ],\n",
        "       [ 0.        ,  1.        ],\n",
        "       [ 0.        ,  1.        ],\n",
        "       [ 0.        ,  1.        ],\n",
        "       [ 0.        ,  1.        ],\n",
        "       [ 0.        ,  1.        ],\n",
        "       [ 0.        ,  1.        ],\n",
        "       [ 0.        ,  1.        ],\n",
        "       [ 0.        ,  1.        ],\n",
        "       [ 0.        ,  1.        ],\n",
        "       [ 0.        ,  1.        ],\n",
        "       [ 0.        ,  1.        ],\n",
        "       [ 0.        ,  1.        ],\n",
        "       [ 0.        ,  1.        ],\n",
        "       [ 0.        ,  1.        ],\n",
        "       [ 0.        ,  1.        ],\n",
        "       [ 0.        ,  1.        ],\n",
        "       [ 0.        ,  1.        ],\n",
        "       [ 0.        ,  1.        ],\n",
        "       [ 0.        ,  1.        ],\n",
        "       [ 0.        ,  1.        ],\n",
        "       [ 0.        ,  1.        ],\n",
        "       [ 0.        ,  1.        ],\n",
        "       [ 0.        ,  1.        ],\n",
        "       [ 0.        ,  1.        ],\n",
        "       [ 0.        ,  1.        ],\n",
        "       [ 0.        ,  1.        ],\n",
        "       [ 0.        ,  1.        ],\n",
        "       [ 0.        ,  1.        ],\n",
        "       [ 0.        ,  1.        ],\n",
        "       [ 0.        ,  1.        ],\n",
        "       [ 0.        ,  1.        ],\n",
        "       [ 0.        ,  1.        ],\n",
        "       [ 0.        ,  1.        ],\n",
        "       [ 0.        ,  1.        ],\n",
        "       [ 0.        ,  1.        ],\n",
        "       [ 0.        ,  1.        ],\n",
        "       [ 0.        ,  1.        ],\n",
        "       [ 0.        ,  1.        ],\n",
        "       [ 0.        ,  1.        ],\n",
        "       [ 0.        ,  1.        ],\n",
        "       [ 0.        ,  1.        ],\n",
        "       [ 0.        ,  1.        ],\n",
        "       [ 0.        ,  1.        ],\n",
        "       [ 0.        ,  1.        ],\n",
        "       [ 0.        ,  1.        ],\n",
        "       [ 0.        ,  1.        ],\n",
        "       [ 0.        ,  1.        ],\n",
        "       [ 0.        ,  1.        ],\n",
        "       [ 0.        ,  1.        ],\n",
        "       [ 0.        ,  1.        ],\n",
        "       [ 0.        ,  1.        ],\n",
        "       [ 0.        ,  1.        ],\n",
        "       [ 0.        ,  1.        ],\n",
        "       [ 0.        ,  1.        ],\n",
        "       [ 0.        ,  1.        ],\n",
        "       [ 0.        ,  1.        ],\n",
        "       [ 0.        ,  1.        ],\n",
        "       [ 0.        ,  1.        ],\n",
        "       [ 0.        ,  1.        ],\n",
        "       [ 0.        ,  1.        ],\n",
        "       [ 0.        ,  1.        ],\n",
        "       [ 0.        ,  1.        ],\n",
        "       [ 0.        ,  1.        ],\n",
        "       [ 0.        ,  1.        ],\n",
        "       [ 0.        ,  1.        ],\n",
        "       [ 0.        ,  1.        ],\n",
        "       [ 0.        ,  1.        ],\n",
        "       [ 0.        ,  1.        ],\n",
        "       [ 0.        ,  1.        ],\n",
        "       [ 0.        ,  1.        ],\n",
        "       [ 0.        ,  1.        ],\n",
        "       [ 0.        ,  1.        ],\n",
        "       [ 0.        ,  1.        ],\n",
        "       [ 0.        ,  1.        ],\n",
        "       [ 0.        ,  1.        ],\n",
        "       [ 0.        ,  1.        ],\n",
        "       [ 0.        ,  1.        ],\n",
        "       [ 0.        ,  1.        ],\n",
        "       [ 0.        ,  1.        ],\n",
        "       [ 0.        ,  1.        ],\n",
        "       [ 0.        ,  1.        ],\n",
        "       [ 0.        ,  1.        ],\n",
        "       [ 0.        ,  1.        ],\n",
        "       [ 0.        ,  1.        ],\n",
        "       [ 0.        ,  1.        ],\n",
        "       [ 0.        ,  1.        ],\n",
        "       [ 0.        ,  1.        ],\n",
        "       [ 0.        ,  1.        ],\n",
        "       [ 0.        ,  1.        ],\n",
        "       [ 0.        ,  1.        ],\n",
        "       [ 0.        ,  1.        ],\n",
        "       [ 0.        ,  1.        ],\n",
        "       [ 0.        ,  1.        ],\n",
        "       [ 0.        ,  1.        ],\n",
        "       [ 0.        ,  1.        ],\n",
        "       [ 0.        ,  1.        ],\n",
        "       [ 0.        ,  1.        ],\n",
        "       [ 0.        ,  1.        ],\n",
        "       [ 0.        ,  1.        ],\n",
        "       [ 0.        ,  1.        ],\n",
        "       [ 0.        ,  1.        ],\n",
        "       [ 0.        ,  1.        ],\n",
        "       [ 0.        ,  1.        ],\n",
        "       [ 0.        ,  1.        ],\n",
        "       [ 0.        ,  1.        ],\n",
        "       [ 0.        ,  1.        ],\n",
        "       [ 0.        ,  1.        ],\n",
        "       [ 0.        ,  1.        ],\n",
        "       [ 0.        ,  1.        ],\n",
        "       [ 0.        ,  1.        ],\n",
        "       [ 0.        ,  1.        ],\n",
        "       [ 0.        ,  1.        ],\n",
        "       [ 0.        ,  1.        ],\n",
        "       [ 0.        ,  1.        ],\n",
        "       [ 0.        ,  1.        ],\n",
        "       [ 0.        ,  1.        ],\n",
        "       [ 0.        ,  1.        ],\n",
        "       [ 0.        ,  1.        ],\n",
        "       [ 0.        ,  1.        ],\n",
        "       [ 0.        ,  1.        ],\n",
        "       [ 0.        ,  1.        ],\n",
        "       [ 0.        ,  1.        ],\n",
        "       [ 0.        ,  1.        ],\n",
        "       [ 0.        ,  1.        ],\n",
        "       [ 0.        ,  1.        ],\n",
        "       [ 0.        ,  1.        ],\n",
        "       [ 0.        ,  1.        ],\n",
        "       [ 0.        ,  1.        ],\n",
        "       [ 0.        ,  1.        ],\n",
        "       [ 0.        ,  1.        ],\n",
        "       [ 0.        ,  1.        ],\n",
        "       [ 0.        ,  1.        ],\n",
        "       [ 0.        ,  1.        ],\n",
        "       [ 0.        ,  1.        ],\n",
        "       [ 0.        ,  1.        ],\n",
        "       [ 0.        ,  1.        ],\n",
        "       [ 0.        ,  1.        ]])}]\n"
       ]
      }
     ],
     "prompt_number": 86
    },
    {
     "cell_type": "code",
     "collapsed": false,
     "input": [
      "print len(window.trackedSprites) if False else 15"
     ],
     "language": "python",
     "metadata": {},
     "outputs": [
      {
       "output_type": "stream",
       "stream": "stdout",
       "text": [
        "15\n"
       ]
      }
     ],
     "prompt_number": 13
    },
    {
     "cell_type": "code",
     "collapsed": false,
     "input": [
      "img = cv2.imread(dataPath + dataSet + 'median.png',0)\n",
      "ret,thresh = cv2.threshold(img,127,255,0)\n",
      "contours,hierarchy = cv2.findContours(thresh, 1, 2)"
     ],
     "language": "python",
     "metadata": {},
     "outputs": [],
     "prompt_number": 193
    },
    {
     "cell_type": "code",
     "collapsed": false,
     "input": [
      "print contours[0]"
     ],
     "language": "python",
     "metadata": {},
     "outputs": [
      {
       "output_type": "stream",
       "stream": "stdout",
       "text": [
        "[[[499 716]]\n",
        "\n",
        " [[497 718]]\n",
        "\n",
        " [[496 718]]\n",
        "\n",
        " [[502 718]]\n",
        "\n",
        " [[501 717]]\n",
        "\n",
        " [[500 717]]]\n"
       ]
      }
     ],
     "prompt_number": 198
    },
    {
     "cell_type": "code",
     "collapsed": false,
     "input": [
      "print bbox.reshape((5, 1, 2))"
     ],
     "language": "python",
     "metadata": {},
     "outputs": [
      {
       "output_type": "stream",
       "stream": "stdout",
       "text": [
        "[[[ 1059.   409.]]\n",
        "\n",
        " [[ 1186.   436.]]\n",
        "\n",
        " [[ 1171.   506.]]\n",
        "\n",
        " [[ 1044.   479.]]\n",
        "\n",
        " [[ 1059.   409.]]]\n"
       ]
      }
     ],
     "prompt_number": 200
    },
    {
     "cell_type": "code",
     "collapsed": false,
     "input": [
      "bbox = window.trackedSprites[0][DICT_BBOXES][2000]\n",
      "bbox = np.vstack((bbox, bbox[0, :]))\n",
      "figure()\n",
      "plot(bbox[:, 0], bbox[:, 1])\n",
      "point = np.array([1000.0, 461, 0])\n",
      "scatter(point[0], point[1])\n",
      "print cv2.pointPolygonTest(np.array(bbox, dtype=np.float32), (1000, 461), False)"
     ],
     "language": "python",
     "metadata": {},
     "outputs": [
      {
       "output_type": "stream",
       "stream": "stdout",
       "text": [
        "-1.0\n"
       ]
      }
     ],
     "prompt_number": 205
    }
   ],
   "metadata": {}
  }
 ]
}