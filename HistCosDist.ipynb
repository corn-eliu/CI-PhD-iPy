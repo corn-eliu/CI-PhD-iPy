{
 "metadata": {
  "name": ""
 },
 "nbformat": 3,
 "nbformat_minor": 0,
 "worksheets": [
  {
   "cells": [
    {
     "cell_type": "code",
     "collapsed": false,
     "input": [
      "## Imports and defines\n",
      "%pylab \n",
      "import numpy as np\n",
      "import scipy as sp\n",
      "import scipy.io as sio\n",
      "import cv2\n",
      "import cv\n",
      "import glob\n",
      "import time\n",
      "import sys\n",
      "import os\n",
      "from scipy import ndimage\n",
      "from scipy import stats\n",
      "\n",
      "from _emd import emd\n",
      "\n",
      "from mpl_toolkits.mplot3d import Axes3D\n",
      "import matplotlib.animation as animation\n",
      "\n",
      "import GraphWithValues as gwv\n",
      "import VideoTexturesUtils as vtu\n",
      "\n",
      "dataFolder = \"/home/ilisescu/PhD/data/\""
     ],
     "language": "python",
     "metadata": {},
     "outputs": [
      {
       "output_type": "stream",
       "stream": "stdout",
       "text": [
        "Using matplotlib backend: TkAgg\n",
        "Populating the interactive namespace from numpy and matplotlib\n"
       ]
      }
     ],
     "prompt_number": 1
    },
    {
     "cell_type": "code",
     "collapsed": false,
     "input": [
      "## read frames from sequence of images\n",
      "# sampleData = \"pendulum/\"\n",
      "sampleData = \"ribbon2/\"\n",
      "# sampleData = \"ribbon1_matted/\"\n",
      "# sampleData = \"little_palm1_cropped/\"\n",
      "# sampleData = \"ballAnimation/\"\n",
      "outputData = dataFolder+sampleData\n",
      "\n",
      "## Find pngs in sample data\n",
      "frames = glob.glob(dataFolder + sampleData + \"frame-*.png\")\n",
      "mattes = glob.glob(dataFolder + sampleData + \"matte-*.png\")\n",
      "frames = np.sort(frames)\n",
      "mattes = np.sort(mattes)#[0:len(frames)-10]\n",
      "numFrames = len(frames)\n",
      "frameSize = cv2.imread(frames[0]).shape\n",
      "print numFrames, len(mattes)"
     ],
     "language": "python",
     "metadata": {},
     "outputs": [
      {
       "output_type": "stream",
       "stream": "stdout",
       "text": [
        "1280 1280\n"
       ]
      }
     ],
     "prompt_number": 2
    },
    {
     "cell_type": "code",
     "collapsed": false,
     "input": [
      "## divide data into subblocks and compute cosine based distance\n",
      "st = time.time()\n",
      "\n",
      "blocksPerDim = 16\n",
      "subDivisions = blocksPerDim**2\n",
      "\n",
      "## given block sizes and img sizes build indices representing each block\n",
      "imageSize = np.array(cv2.cvtColor(cv2.imread(frames[0]), cv2.COLOR_BGR2RGB)).shape\n",
      "stencils = []\n",
      "bRows = imageSize[0]/blocksPerDim\n",
      "bCols = imageSize[1]/blocksPerDim\n",
      "for r in xrange(0, blocksPerDim) :\n",
      "    for c in xrange(0, blocksPerDim) :\n",
      "        idx = c + r*blocksPerDim\n",
      "        ## this is for stencilling the images which are 3D\n",
      "#         stencil = np.zeros(imageSize, dtype=int)\n",
      "#         stencil[r*bRows:r*bRows+bRows, c*bCols:c*bCols+bCols] = np.ones((bRows, bCols, imageSize[-1]))\n",
      "#         stencils.append(list(np.argwhere(stencil==1).T))\n",
      "        ## this is for stencilling the mattes which are 2D\n",
      "        stencil = np.zeros(imageSize[0:-1], dtype=int)\n",
      "        stencil[r*bRows:r*bRows+bRows, c*bCols:c*bCols+bCols] = np.ones((bRows, bCols))\n",
      "        stencils.append(list(np.argwhere(stencil==1).T))\n",
      "    \n",
      "features = np.zeros([numFrames, subDivisions])\n",
      "for i in xrange(0, numFrames) :\n",
      "    \n",
      "    t = time.time()\n",
      "    \n",
      "    ##load frame\n",
      "    img = np.array(cv2.cvtColor(cv2.imread(frames[i]), cv2.COLOR_BGR2RGB))/255.0\n",
      "    alpha = np.zeros(img.shape[0:-1])\n",
      "    if os.path.isfile(mattes[i]) :\n",
      "        alpha = np.array(cv2.cvtColor(cv2.imread(mattes[i]), cv2.COLOR_BGR2GRAY))/255.0\n",
      "        img *= np.repeat(np.reshape(alpha, (alpha.shape[0], alpha.shape[1], 1)), 3, axis=-1)\n",
      "\n",
      "    ## use stencils to divide the image into blocks and count number of foreground pixels\n",
      "    for s in xrange(0, len(stencils)) :\n",
      "        index = s + idx*len(stencils)\n",
      "        features[i, s] = len(np.argwhere(alpha[stencils[s]] != 0))\n",
      "    sys.stdout.write('\\r' + \"Computed histogram of frame \" + np.string_(i) + \" of \" + np.string_(numFrames) + \" in \" + np.string_(time.time() - t))\n",
      "    sys.stdout.flush()\n",
      "    \n",
      "print\n",
      "print \"finished in\", time.time() - st\n",
      "\n",
      "## normalize\n",
      "features /= np.repeat(np.reshape(np.linalg.norm(features, axis=-1), (numFrames, 1)), subDivisions, axis=-1)\n",
      "figure(); imshow(features.T, interpolation='nearest')"
     ],
     "language": "python",
     "metadata": {},
     "outputs": [
      {
       "output_type": "stream",
       "stream": "stdout",
       "text": [
        "\r",
        "Computed histogram of frame 0 of 1280 in 0.0898711681366"
       ]
      },
      {
       "output_type": "stream",
       "stream": "stdout",
       "text": [
        "\r",
        "Computed histogram of frame 1 of 1280 in 0.0809350013733"
       ]
      },
      {
       "output_type": "stream",
       "stream": "stdout",
       "text": [
        "\r",
        "Computed histogram of frame 2 of 1280 in 0.0815529823303"
       ]
      },
      {
       "output_type": "stream",
       "stream": "stdout",
       "text": [
        "\r",
        "Computed histogram of frame 3 of 1280 in 0.0807290077209"
       ]
      },
      {
       "output_type": "stream",
       "stream": "stdout",
       "text": [
        "\r",
        "Computed histogram of frame 4 of 1280 in 0.0866868495941"
       ]
      },
      {
       "output_type": "stream",
       "stream": "stdout",
       "text": [
        "\r",
        "Computed histogram of frame 5 of 1280 in 0.0821099281311"
       ]
      },
      {
       "output_type": "stream",
       "stream": "stdout",
       "text": [
        "\r",
        "Computed histogram of frame 6 of 1280 in 0.0827829837799"
       ]
      },
      {
       "output_type": "stream",
       "stream": "stdout",
       "text": [
        "\r",
        "Computed histogram of frame 7 of 1280 in 0.0814559459686"
       ]
      },
      {
       "output_type": "stream",
       "stream": "stdout",
       "text": [
        "\r",
        "Computed histogram of frame 8 of 1280 in 0.0815901756287"
       ]
      },
      {
       "output_type": "stream",
       "stream": "stdout",
       "text": [
        "\r",
        "Computed histogram of frame 9 of 1280 in 0.0815670490265"
       ]
      },
      {
       "output_type": "stream",
       "stream": "stdout",
       "text": [
        "\r",
        "Computed histogram of frame 10 of 1280 in 0.0833649635315"
       ]
      },
      {
       "output_type": "stream",
       "stream": "stdout",
       "text": [
        "\r",
        "Computed histogram of frame 11 of 1280 in 0.082494020462"
       ]
      },
      {
       "output_type": "stream",
       "stream": "stdout",
       "text": [
        "\r",
        "Computed histogram of frame 12 of 1280 in 0.0839171409607"
       ]
      },
      {
       "output_type": "stream",
       "stream": "stdout",
       "text": [
        "\r",
        "Computed histogram of frame 13 of 1280 in 0.085312128067"
       ]
      },
      {
       "output_type": "stream",
       "stream": "stdout",
       "text": [
        "\r",
        "Computed histogram of frame 14 of 1280 in 0.0845189094543"
       ]
      },
      {
       "output_type": "stream",
       "stream": "stdout",
       "text": [
        "\r",
        "Computed histogram of frame 15 of 1280 in 0.0837931632996"
       ]
      },
      {
       "output_type": "stream",
       "stream": "stdout",
       "text": [
        "\r",
        "Computed histogram of frame 16 of 1280 in 0.0842099189758"
       ]
      },
      {
       "output_type": "stream",
       "stream": "stdout",
       "text": [
        "\r",
        "Computed histogram of frame 17 of 1280 in 0.084890127182"
       ]
      },
      {
       "output_type": "stream",
       "stream": "stdout",
       "text": [
        "\r",
        "Computed histogram of frame 18 of 1280 in 0.0840110778809"
       ]
      },
      {
       "output_type": "stream",
       "stream": "stdout",
       "text": [
        "\r",
        "Computed histogram of frame 19 of 1280 in 0.0914368629456"
       ]
      },
      {
       "output_type": "stream",
       "stream": "stdout",
       "text": [
        "\r",
        "Computed histogram of frame 20 of 1280 in 0.0839848518372"
       ]
      },
      {
       "output_type": "stream",
       "stream": "stdout",
       "text": [
        "\r",
        "Computed histogram of frame 21 of 1280 in 0.0833561420441"
       ]
      },
      {
       "output_type": "stream",
       "stream": "stdout",
       "text": [
        "\r",
        "Computed histogram of frame 22 of 1280 in 0.0865349769592"
       ]
      },
      {
       "output_type": "stream",
       "stream": "stdout",
       "text": [
        "\r",
        "Computed histogram of frame 23 of 1280 in 0.0852558612823"
       ]
      },
      {
       "output_type": "stream",
       "stream": "stdout",
       "text": [
        "\r",
        "Computed histogram of frame 24 of 1280 in 0.0880198478699"
       ]
      },
      {
       "output_type": "stream",
       "stream": "stdout",
       "text": [
        "\r",
        "Computed histogram of frame 25 of 1280 in 0.0849139690399"
       ]
      },
      {
       "output_type": "stream",
       "stream": "stdout",
       "text": [
        "\r",
        "Computed histogram of frame 26 of 1280 in 0.0819580554962"
       ]
      },
      {
       "output_type": "stream",
       "stream": "stdout",
       "text": [
        "\r",
        "Computed histogram of frame 27 of 1280 in 0.0819749832153"
       ]
      },
      {
       "output_type": "stream",
       "stream": "stdout",
       "text": [
        "\r",
        "Computed histogram of frame 28 of 1280 in 0.0814700126648"
       ]
      },
      {
       "output_type": "stream",
       "stream": "stdout",
       "text": [
        "\r",
        "Computed histogram of frame 29 of 1280 in 0.0830361843109"
       ]
      },
      {
       "output_type": "stream",
       "stream": "stdout",
       "text": [
        "\r",
        "Computed histogram of frame 30 of 1280 in 0.0839409828186"
       ]
      },
      {
       "output_type": "stream",
       "stream": "stdout",
       "text": [
        "\r",
        "Computed histogram of frame 31 of 1280 in 0.081248998642"
       ]
      },
      {
       "output_type": "stream",
       "stream": "stdout",
       "text": [
        "\r",
        "Computed histogram of frame 32 of 1280 in 0.0807569026947"
       ]
      },
      {
       "output_type": "stream",
       "stream": "stdout",
       "text": [
        "\r",
        "Computed histogram of frame 33 of 1280 in 0.0817940235138"
       ]
      },
      {
       "output_type": "stream",
       "stream": "stdout",
       "text": [
        "\r",
        "Computed histogram of frame 34 of 1280 in 0.0832140445709"
       ]
      },
      {
       "output_type": "stream",
       "stream": "stdout",
       "text": [
        "\r",
        "Computed histogram of frame 35 of 1280 in 0.0817890167236"
       ]
      },
      {
       "output_type": "stream",
       "stream": "stdout",
       "text": [
        "\r",
        "Computed histogram of frame 36 of 1280 in 0.0827221870422"
       ]
      },
      {
       "output_type": "stream",
       "stream": "stdout",
       "text": [
        "\r",
        "Computed histogram of frame 37 of 1280 in 0.0816118717194"
       ]
      },
      {
       "output_type": "stream",
       "stream": "stdout",
       "text": [
        "\r",
        "Computed histogram of frame 38 of 1280 in 0.0842700004578"
       ]
      },
      {
       "output_type": "stream",
       "stream": "stdout",
       "text": [
        "\r",
        "Computed histogram of frame 39 of 1280 in 0.0821280479431"
       ]
      },
      {
       "output_type": "stream",
       "stream": "stdout",
       "text": [
        "\r",
        "Computed histogram of frame 40 of 1280 in 0.0850839614868"
       ]
      },
      {
       "output_type": "stream",
       "stream": "stdout",
       "text": [
        "\r",
        "Computed histogram of frame 41 of 1280 in 0.0831139087677"
       ]
      },
      {
       "output_type": "stream",
       "stream": "stdout",
       "text": [
        "\r",
        "Computed histogram of frame 42 of 1280 in 0.0809488296509"
       ]
      },
      {
       "output_type": "stream",
       "stream": "stdout",
       "text": [
        "\r",
        "Computed histogram of frame 43 of 1280 in 0.0808990001678"
       ]
      },
      {
       "output_type": "stream",
       "stream": "stdout",
       "text": [
        "\r",
        "Computed histogram of frame 44 of 1280 in 0.0826961994171"
       ]
      },
      {
       "output_type": "stream",
       "stream": "stdout",
       "text": [
        "\r",
        "Computed histogram of frame 45 of 1280 in 0.0859138965607"
       ]
      },
      {
       "output_type": "stream",
       "stream": "stdout",
       "text": [
        "\r",
        "Computed histogram of frame 46 of 1280 in 0.0884630680084"
       ]
      },
      {
       "output_type": "stream",
       "stream": "stdout",
       "text": [
        "\r",
        "Computed histogram of frame 47 of 1280 in 0.0824680328369"
       ]
      },
      {
       "output_type": "stream",
       "stream": "stdout",
       "text": [
        "\r",
        "Computed histogram of frame 48 of 1280 in 0.0817339420319"
       ]
      },
      {
       "output_type": "stream",
       "stream": "stdout",
       "text": [
        "\r",
        "Computed histogram of frame 49 of 1280 in 0.0833249092102"
       ]
      },
      {
       "output_type": "stream",
       "stream": "stdout",
       "text": [
        "\r",
        "Computed histogram of frame 50 of 1280 in 0.0833928585052"
       ]
      },
      {
       "output_type": "stream",
       "stream": "stdout",
       "text": [
        "\r",
        "Computed histogram of frame 51 of 1280 in 0.081983089447"
       ]
      },
      {
       "output_type": "stream",
       "stream": "stdout",
       "text": [
        "\r",
        "Computed histogram of frame 52 of 1280 in 0.0825080871582"
       ]
      },
      {
       "output_type": "stream",
       "stream": "stdout",
       "text": [
        "\r",
        "Computed histogram of frame 53 of 1280 in 0.0884490013123"
       ]
      },
      {
       "output_type": "stream",
       "stream": "stdout",
       "text": [
        "\r",
        "Computed histogram of frame 54 of 1280 in 0.0855519771576"
       ]
      },
      {
       "output_type": "stream",
       "stream": "stdout",
       "text": [
        "\r",
        "Computed histogram of frame 55 of 1280 in 0.0805139541626"
       ]
      },
      {
       "output_type": "stream",
       "stream": "stdout",
       "text": [
        "\r",
        "Computed histogram of frame 56 of 1280 in 0.0848159790039"
       ]
      },
      {
       "output_type": "stream",
       "stream": "stdout",
       "text": [
        "\r",
        "Computed histogram of frame 57 of 1280 in 0.081346988678"
       ]
      },
      {
       "output_type": "stream",
       "stream": "stdout",
       "text": [
        "\r",
        "Computed histogram of frame 58 of 1280 in 0.0821120738983"
       ]
      },
      {
       "output_type": "stream",
       "stream": "stdout",
       "text": [
        "\r",
        "Computed histogram of frame 59 of 1280 in 0.0819160938263"
       ]
      },
      {
       "output_type": "stream",
       "stream": "stdout",
       "text": [
        "\r",
        "Computed histogram of frame 60 of 1280 in 0.0854828357697"
       ]
      },
      {
       "output_type": "stream",
       "stream": "stdout",
       "text": [
        "\r",
        "Computed histogram of frame 61 of 1280 in 0.0859260559082"
       ]
      },
      {
       "output_type": "stream",
       "stream": "stdout",
       "text": [
        "\r",
        "Computed histogram of frame 62 of 1280 in 0.0818290710449"
       ]
      },
      {
       "output_type": "stream",
       "stream": "stdout",
       "text": [
        "\r",
        "Computed histogram of frame 63 of 1280 in 0.0825519561768"
       ]
      },
      {
       "output_type": "stream",
       "stream": "stdout",
       "text": [
        "\r",
        "Computed histogram of frame 64 of 1280 in 0.0832769870758"
       ]
      },
      {
       "output_type": "stream",
       "stream": "stdout",
       "text": [
        "\r",
        "Computed histogram of frame 65 of 1280 in 0.0802550315857"
       ]
      },
      {
       "output_type": "stream",
       "stream": "stdout",
       "text": [
        "\r",
        "Computed histogram of frame 66 of 1280 in 0.084056854248"
       ]
      },
      {
       "output_type": "stream",
       "stream": "stdout",
       "text": [
        "\r",
        "Computed histogram of frame 67 of 1280 in 0.0828158855438"
       ]
      },
      {
       "output_type": "stream",
       "stream": "stdout",
       "text": [
        "\r",
        "Computed histogram of frame 68 of 1280 in 0.0829501152039"
       ]
      },
      {
       "output_type": "stream",
       "stream": "stdout",
       "text": [
        "\r",
        "Computed histogram of frame 69 of 1280 in 0.0839829444885"
       ]
      },
      {
       "output_type": "stream",
       "stream": "stdout",
       "text": [
        "\r",
        "Computed histogram of frame 70 of 1280 in 0.0825760364532"
       ]
      },
      {
       "output_type": "stream",
       "stream": "stdout",
       "text": [
        "\r",
        "Computed histogram of frame 71 of 1280 in 0.0818490982056"
       ]
      },
      {
       "output_type": "stream",
       "stream": "stdout",
       "text": [
        "\r",
        "Computed histogram of frame 72 of 1280 in 0.0816240310669"
       ]
      },
      {
       "output_type": "stream",
       "stream": "stdout",
       "text": [
        "\r",
        "Computed histogram of frame 73 of 1280 in 0.0797278881073"
       ]
      },
      {
       "output_type": "stream",
       "stream": "stdout",
       "text": [
        "\r",
        "Computed histogram of frame 74 of 1280 in 0.0811641216278"
       ]
      },
      {
       "output_type": "stream",
       "stream": "stdout",
       "text": [
        "\r",
        "Computed histogram of frame 75 of 1280 in 0.082790851593"
       ]
      },
      {
       "output_type": "stream",
       "stream": "stdout",
       "text": [
        "\r",
        "Computed histogram of frame 76 of 1280 in 0.0809280872345"
       ]
      },
      {
       "output_type": "stream",
       "stream": "stdout",
       "text": [
        "\r",
        "Computed histogram of frame 77 of 1280 in 0.0813939571381"
       ]
      },
      {
       "output_type": "stream",
       "stream": "stdout",
       "text": [
        "\r",
        "Computed histogram of frame 78 of 1280 in 0.0807909965515"
       ]
      },
      {
       "output_type": "stream",
       "stream": "stdout",
       "text": [
        "\r",
        "Computed histogram of frame 79 of 1280 in 0.0844700336456"
       ]
      },
      {
       "output_type": "stream",
       "stream": "stdout",
       "text": [
        "\r",
        "Computed histogram of frame 80 of 1280 in 0.0840539932251"
       ]
      },
      {
       "output_type": "stream",
       "stream": "stdout",
       "text": [
        "\r",
        "Computed histogram of frame 81 of 1280 in 0.0822858810425"
       ]
      },
      {
       "output_type": "stream",
       "stream": "stdout",
       "text": [
        "\r",
        "Computed histogram of frame 82 of 1280 in 0.0806088447571"
       ]
      },
      {
       "output_type": "stream",
       "stream": "stdout",
       "text": [
        "\r",
        "Computed histogram of frame 83 of 1280 in 0.0812528133392"
       ]
      },
      {
       "output_type": "stream",
       "stream": "stdout",
       "text": [
        "\r",
        "Computed histogram of frame 84 of 1280 in 0.0815200805664"
       ]
      },
      {
       "output_type": "stream",
       "stream": "stdout",
       "text": [
        "\r",
        "Computed histogram of frame 85 of 1280 in 0.0808479785919"
       ]
      },
      {
       "output_type": "stream",
       "stream": "stdout",
       "text": [
        "\r",
        "Computed histogram of frame 86 of 1280 in 0.0829989910126"
       ]
      },
      {
       "output_type": "stream",
       "stream": "stdout",
       "text": [
        "\r",
        "Computed histogram of frame 87 of 1280 in 0.0811059474945"
       ]
      },
      {
       "output_type": "stream",
       "stream": "stdout",
       "text": [
        "\r",
        "Computed histogram of frame 88 of 1280 in 0.0814731121063"
       ]
      },
      {
       "output_type": "stream",
       "stream": "stdout",
       "text": [
        "\r",
        "Computed histogram of frame 89 of 1280 in 0.081475019455"
       ]
      },
      {
       "output_type": "stream",
       "stream": "stdout",
       "text": [
        "\r",
        "Computed histogram of frame 90 of 1280 in 0.0840001106262"
       ]
      },
      {
       "output_type": "stream",
       "stream": "stdout",
       "text": [
        "\r",
        "Computed histogram of frame 91 of 1280 in 0.0821459293365"
       ]
      },
      {
       "output_type": "stream",
       "stream": "stdout",
       "text": [
        "\r",
        "Computed histogram of frame 92 of 1280 in 0.0807909965515"
       ]
      },
      {
       "output_type": "stream",
       "stream": "stdout",
       "text": [
        "\r",
        "Computed histogram of frame 93 of 1280 in 0.083625793457"
       ]
      },
      {
       "output_type": "stream",
       "stream": "stdout",
       "text": [
        "\r",
        "Computed histogram of frame 94 of 1280 in 0.0851159095764"
       ]
      },
      {
       "output_type": "stream",
       "stream": "stdout",
       "text": [
        "\r",
        "Computed histogram of frame 95 of 1280 in 0.0838949680328"
       ]
      },
      {
       "output_type": "stream",
       "stream": "stdout",
       "text": [
        "\r",
        "Computed histogram of frame 96 of 1280 in 0.0826001167297"
       ]
      },
      {
       "output_type": "stream",
       "stream": "stdout",
       "text": [
        "\r",
        "Computed histogram of frame 97 of 1280 in 0.0830330848694"
       ]
      },
      {
       "output_type": "stream",
       "stream": "stdout",
       "text": [
        "\r",
        "Computed histogram of frame 98 of 1280 in 0.0810470581055"
       ]
      },
      {
       "output_type": "stream",
       "stream": "stdout",
       "text": [
        "\r",
        "Computed histogram of frame 99 of 1280 in 0.0811359882355"
       ]
      },
      {
       "output_type": "stream",
       "stream": "stdout",
       "text": [
        "\r",
        "Computed histogram of frame 100 of 1280 in 0.0804169178009"
       ]
      },
      {
       "output_type": "stream",
       "stream": "stdout",
       "text": [
        "\r",
        "Computed histogram of frame 101 of 1280 in 0.0814609527588"
       ]
      },
      {
       "output_type": "stream",
       "stream": "stdout",
       "text": [
        "\r",
        "Computed histogram of frame 102 of 1280 in 0.0823938846588"
       ]
      },
      {
       "output_type": "stream",
       "stream": "stdout",
       "text": [
        "\r",
        "Computed histogram of frame 103 of 1280 in 0.0828049182892"
       ]
      },
      {
       "output_type": "stream",
       "stream": "stdout",
       "text": [
        "\r",
        "Computed histogram of frame 104 of 1280 in 0.0815830230713"
       ]
      },
      {
       "output_type": "stream",
       "stream": "stdout",
       "text": [
        "\r",
        "Computed histogram of frame 105 of 1280 in 0.0841701030731"
       ]
      },
      {
       "output_type": "stream",
       "stream": "stdout",
       "text": [
        "\r",
        "Computed histogram of frame 106 of 1280 in 0.0802578926086"
       ]
      },
      {
       "output_type": "stream",
       "stream": "stdout",
       "text": [
        "\r",
        "Computed histogram of frame 107 of 1280 in 0.0802969932556"
       ]
      },
      {
       "output_type": "stream",
       "stream": "stdout",
       "text": [
        "\r",
        "Computed histogram of frame 108 of 1280 in 0.0833268165588"
       ]
      },
      {
       "output_type": "stream",
       "stream": "stdout",
       "text": [
        "\r",
        "Computed histogram of frame 109 of 1280 in 0.0804538726807"
       ]
      },
      {
       "output_type": "stream",
       "stream": "stdout",
       "text": [
        "\r",
        "Computed histogram of frame 110 of 1280 in 0.0874319076538"
       ]
      },
      {
       "output_type": "stream",
       "stream": "stdout",
       "text": [
        "\r",
        "Computed histogram of frame 111 of 1280 in 0.0827910900116"
       ]
      },
      {
       "output_type": "stream",
       "stream": "stdout",
       "text": [
        "\r",
        "Computed histogram of frame 112 of 1280 in 0.0819919109344"
       ]
      },
      {
       "output_type": "stream",
       "stream": "stdout",
       "text": [
        "\r",
        "Computed histogram of frame 113 of 1280 in 0.0807998180389"
       ]
      },
      {
       "output_type": "stream",
       "stream": "stdout",
       "text": [
        "\r",
        "Computed histogram of frame 114 of 1280 in 0.0803110599518"
       ]
      },
      {
       "output_type": "stream",
       "stream": "stdout",
       "text": [
        "\r",
        "Computed histogram of frame 115 of 1280 in 0.0810780525208"
       ]
      },
      {
       "output_type": "stream",
       "stream": "stdout",
       "text": [
        "\r",
        "Computed histogram of frame 116 of 1280 in 0.0806360244751"
       ]
      },
      {
       "output_type": "stream",
       "stream": "stdout",
       "text": [
        "\r",
        "Computed histogram of frame 117 of 1280 in 0.0797288417816"
       ]
      },
      {
       "output_type": "stream",
       "stream": "stdout",
       "text": [
        "\r",
        "Computed histogram of frame 118 of 1280 in 0.0813450813293"
       ]
      },
      {
       "output_type": "stream",
       "stream": "stdout",
       "text": [
        "\r",
        "Computed histogram of frame 119 of 1280 in 0.0812392234802"
       ]
      },
      {
       "output_type": "stream",
       "stream": "stdout",
       "text": [
        "\r",
        "Computed histogram of frame 120 of 1280 in 0.0851349830627"
       ]
      },
      {
       "output_type": "stream",
       "stream": "stdout",
       "text": [
        "\r",
        "Computed histogram of frame 121 of 1280 in 0.0802819728851"
       ]
      },
      {
       "output_type": "stream",
       "stream": "stdout",
       "text": [
        "\r",
        "Computed histogram of frame 122 of 1280 in 0.0793809890747"
       ]
      },
      {
       "output_type": "stream",
       "stream": "stdout",
       "text": [
        "\r",
        "Computed histogram of frame 123 of 1280 in 0.0804238319397"
       ]
      },
      {
       "output_type": "stream",
       "stream": "stdout",
       "text": [
        "\r",
        "Computed histogram of frame 124 of 1280 in 0.0795540809631"
       ]
      },
      {
       "output_type": "stream",
       "stream": "stdout",
       "text": [
        "\r",
        "Computed histogram of frame 125 of 1280 in 0.0804870128632"
       ]
      },
      {
       "output_type": "stream",
       "stream": "stdout",
       "text": [
        "\r",
        "Computed histogram of frame 126 of 1280 in 0.0813601016998"
       ]
      },
      {
       "output_type": "stream",
       "stream": "stdout",
       "text": [
        "\r",
        "Computed histogram of frame 127 of 1280 in 0.0808529853821"
       ]
      },
      {
       "output_type": "stream",
       "stream": "stdout",
       "text": [
        "\r",
        "Computed histogram of frame 128 of 1280 in 0.0816428661346"
       ]
      },
      {
       "output_type": "stream",
       "stream": "stdout",
       "text": [
        "\r",
        "Computed histogram of frame 129 of 1280 in 0.08047914505"
       ]
      },
      {
       "output_type": "stream",
       "stream": "stdout",
       "text": [
        "\r",
        "Computed histogram of frame 130 of 1280 in 0.0818009376526"
       ]
      },
      {
       "output_type": "stream",
       "stream": "stdout",
       "text": [
        "\r",
        "Computed histogram of frame 131 of 1280 in 0.095360994339"
       ]
      },
      {
       "output_type": "stream",
       "stream": "stdout",
       "text": [
        "\r",
        "Computed histogram of frame 132 of 1280 in 0.0848000049591"
       ]
      },
      {
       "output_type": "stream",
       "stream": "stdout",
       "text": [
        "\r",
        "Computed histogram of frame 133 of 1280 in 0.0818657875061"
       ]
      },
      {
       "output_type": "stream",
       "stream": "stdout",
       "text": [
        "\r",
        "Computed histogram of frame 134 of 1280 in 0.0806200504303"
       ]
      },
      {
       "output_type": "stream",
       "stream": "stdout",
       "text": [
        "\r",
        "Computed histogram of frame 135 of 1280 in 0.0869181156158"
       ]
      },
      {
       "output_type": "stream",
       "stream": "stdout",
       "text": [
        "\r",
        "Computed histogram of frame 136 of 1280 in 0.084755897522"
       ]
      },
      {
       "output_type": "stream",
       "stream": "stdout",
       "text": [
        "\r",
        "Computed histogram of frame 137 of 1280 in 0.0892989635468"
       ]
      },
      {
       "output_type": "stream",
       "stream": "stdout",
       "text": [
        "\r",
        "Computed histogram of frame 138 of 1280 in 0.0879669189453"
       ]
      },
      {
       "output_type": "stream",
       "stream": "stdout",
       "text": [
        "\r",
        "Computed histogram of frame 139 of 1280 in 0.0848860740662"
       ]
      },
      {
       "output_type": "stream",
       "stream": "stdout",
       "text": [
        "\r",
        "Computed histogram of frame 140 of 1280 in 0.081130027771"
       ]
      },
      {
       "output_type": "stream",
       "stream": "stdout",
       "text": [
        "\r",
        "Computed histogram of frame 141 of 1280 in 0.0819919109344"
       ]
      },
      {
       "output_type": "stream",
       "stream": "stdout",
       "text": [
        "\r",
        "Computed histogram of frame 142 of 1280 in 0.0802268981934"
       ]
      },
      {
       "output_type": "stream",
       "stream": "stdout",
       "text": [
        "\r",
        "Computed histogram of frame 143 of 1280 in 0.0794911384583"
       ]
      },
      {
       "output_type": "stream",
       "stream": "stdout",
       "text": [
        "\r",
        "Computed histogram of frame 144 of 1280 in 0.0800769329071"
       ]
      },
      {
       "output_type": "stream",
       "stream": "stdout",
       "text": [
        "\r",
        "Computed histogram of frame 145 of 1280 in 0.0822958946228"
       ]
      },
      {
       "output_type": "stream",
       "stream": "stdout",
       "text": [
        "\r",
        "Computed histogram of frame 146 of 1280 in 0.0798480510712"
       ]
      },
      {
       "output_type": "stream",
       "stream": "stdout",
       "text": [
        "\r",
        "Computed histogram of frame 147 of 1280 in 0.0830249786377"
       ]
      },
      {
       "output_type": "stream",
       "stream": "stdout",
       "text": [
        "\r",
        "Computed histogram of frame 148 of 1280 in 0.0822470188141"
       ]
      },
      {
       "output_type": "stream",
       "stream": "stdout",
       "text": [
        "\r",
        "Computed histogram of frame 149 of 1280 in 0.0829908847809"
       ]
      },
      {
       "output_type": "stream",
       "stream": "stdout",
       "text": [
        "\r",
        "Computed histogram of frame 150 of 1280 in 0.0816831588745"
       ]
      },
      {
       "output_type": "stream",
       "stream": "stdout",
       "text": [
        "\r",
        "Computed histogram of frame 151 of 1280 in 0.0811400413513"
       ]
      },
      {
       "output_type": "stream",
       "stream": "stdout",
       "text": [
        "\r",
        "Computed histogram of frame 152 of 1280 in 0.0836100578308"
       ]
      },
      {
       "output_type": "stream",
       "stream": "stdout",
       "text": [
        "\r",
        "Computed histogram of frame 153 of 1280 in 0.0832221508026"
       ]
      },
      {
       "output_type": "stream",
       "stream": "stdout",
       "text": [
        "\r",
        "Computed histogram of frame 154 of 1280 in 0.0825018882751"
       ]
      },
      {
       "output_type": "stream",
       "stream": "stdout",
       "text": [
        "\r",
        "Computed histogram of frame 155 of 1280 in 0.0841648578644"
       ]
      },
      {
       "output_type": "stream",
       "stream": "stdout",
       "text": [
        "\r",
        "Computed histogram of frame 156 of 1280 in 0.0819888114929"
       ]
      },
      {
       "output_type": "stream",
       "stream": "stdout",
       "text": [
        "\r",
        "Computed histogram of frame 157 of 1280 in 0.0835559368134"
       ]
      },
      {
       "output_type": "stream",
       "stream": "stdout",
       "text": [
        "\r",
        "Computed histogram of frame 158 of 1280 in 0.0839939117432"
       ]
      },
      {
       "output_type": "stream",
       "stream": "stdout",
       "text": [
        "\r",
        "Computed histogram of frame 159 of 1280 in 0.0837290287018"
       ]
      },
      {
       "output_type": "stream",
       "stream": "stdout",
       "text": [
        "\r",
        "Computed histogram of frame 160 of 1280 in 0.081661939621"
       ]
      },
      {
       "output_type": "stream",
       "stream": "stdout",
       "text": [
        "\r",
        "Computed histogram of frame 161 of 1280 in 0.081178188324"
       ]
      },
      {
       "output_type": "stream",
       "stream": "stdout",
       "text": [
        "\r",
        "Computed histogram of frame 162 of 1280 in 0.0817651748657"
       ]
      },
      {
       "output_type": "stream",
       "stream": "stdout",
       "text": [
        "\r",
        "Computed histogram of frame 163 of 1280 in 0.0812368392944"
       ]
      },
      {
       "output_type": "stream",
       "stream": "stdout",
       "text": [
        "\r",
        "Computed histogram of frame 164 of 1280 in 0.0810210704803"
       ]
      },
      {
       "output_type": "stream",
       "stream": "stdout",
       "text": [
        "\r",
        "Computed histogram of frame 165 of 1280 in 0.0840039253235"
       ]
      },
      {
       "output_type": "stream",
       "stream": "stdout",
       "text": [
        "\r",
        "Computed histogram of frame 166 of 1280 in 0.0831549167633"
       ]
      },
      {
       "output_type": "stream",
       "stream": "stdout",
       "text": [
        "\r",
        "Computed histogram of frame 167 of 1280 in 0.0822470188141"
       ]
      },
      {
       "output_type": "stream",
       "stream": "stdout",
       "text": [
        "\r",
        "Computed histogram of frame 168 of 1280 in 0.0829520225525"
       ]
      },
      {
       "output_type": "stream",
       "stream": "stdout",
       "text": [
        "\r",
        "Computed histogram of frame 169 of 1280 in 0.0821969509125"
       ]
      },
      {
       "output_type": "stream",
       "stream": "stdout",
       "text": [
        "\r",
        "Computed histogram of frame 170 of 1280 in 0.0826270580292"
       ]
      },
      {
       "output_type": "stream",
       "stream": "stdout",
       "text": [
        "\r",
        "Computed histogram of frame 171 of 1280 in 0.0819668769836"
       ]
      },
      {
       "output_type": "stream",
       "stream": "stdout",
       "text": [
        "\r",
        "Computed histogram of frame 172 of 1280 in 0.0850481987"
       ]
      },
      {
       "output_type": "stream",
       "stream": "stdout",
       "text": [
        "\r",
        "Computed histogram of frame 173 of 1280 in 0.0814669132233"
       ]
      },
      {
       "output_type": "stream",
       "stream": "stdout",
       "text": [
        "\r",
        "Computed histogram of frame 174 of 1280 in 0.0840220451355"
       ]
      },
      {
       "output_type": "stream",
       "stream": "stdout",
       "text": [
        "\r",
        "Computed histogram of frame 175 of 1280 in 0.0838069915771"
       ]
      },
      {
       "output_type": "stream",
       "stream": "stdout",
       "text": [
        "\r",
        "Computed histogram of frame 176 of 1280 in 0.0819029808044"
       ]
      },
      {
       "output_type": "stream",
       "stream": "stdout",
       "text": [
        "\r",
        "Computed histogram of frame 177 of 1280 in 0.080962896347"
       ]
      },
      {
       "output_type": "stream",
       "stream": "stdout",
       "text": [
        "\r",
        "Computed histogram of frame 178 of 1280 in 0.0815401077271"
       ]
      },
      {
       "output_type": "stream",
       "stream": "stdout",
       "text": [
        "\r",
        "Computed histogram of frame 179 of 1280 in 0.0808818340302"
       ]
      },
      {
       "output_type": "stream",
       "stream": "stdout",
       "text": [
        "\r",
        "Computed histogram of frame 180 of 1280 in 0.0842320919037"
       ]
      },
      {
       "output_type": "stream",
       "stream": "stdout",
       "text": [
        "\r",
        "Computed histogram of frame 181 of 1280 in 0.0833129882812"
       ]
      },
      {
       "output_type": "stream",
       "stream": "stdout",
       "text": [
        "\r",
        "Computed histogram of frame 182 of 1280 in 0.0804738998413"
       ]
      },
      {
       "output_type": "stream",
       "stream": "stdout",
       "text": [
        "\r",
        "Computed histogram of frame 183 of 1280 in 0.0851440429688"
       ]
      },
      {
       "output_type": "stream",
       "stream": "stdout",
       "text": [
        "\r",
        "Computed histogram of frame 184 of 1280 in 0.0817799568176"
       ]
      },
      {
       "output_type": "stream",
       "stream": "stdout",
       "text": [
        "\r",
        "Computed histogram of frame 185 of 1280 in 0.0823919773102"
       ]
      },
      {
       "output_type": "stream",
       "stream": "stdout",
       "text": [
        "\r",
        "Computed histogram of frame 186 of 1280 in 0.0808238983154"
       ]
      },
      {
       "output_type": "stream",
       "stream": "stdout",
       "text": [
        "\r",
        "Computed histogram of frame 187 of 1280 in 0.0843479633331"
       ]
      },
      {
       "output_type": "stream",
       "stream": "stdout",
       "text": [
        "\r",
        "Computed histogram of frame 188 of 1280 in 0.0812430381775"
       ]
      },
      {
       "output_type": "stream",
       "stream": "stdout",
       "text": [
        "\r",
        "Computed histogram of frame 189 of 1280 in 0.0805721282959"
       ]
      },
      {
       "output_type": "stream",
       "stream": "stdout",
       "text": [
        "\r",
        "Computed histogram of frame 190 of 1280 in 0.0825600624084"
       ]
      },
      {
       "output_type": "stream",
       "stream": "stdout",
       "text": [
        "\r",
        "Computed histogram of frame 191 of 1280 in 0.0830290317535"
       ]
      },
      {
       "output_type": "stream",
       "stream": "stdout",
       "text": [
        "\r",
        "Computed histogram of frame 192 of 1280 in 0.0802390575409"
       ]
      },
      {
       "output_type": "stream",
       "stream": "stdout",
       "text": [
        "\r",
        "Computed histogram of frame 193 of 1280 in 0.0846710205078"
       ]
      },
      {
       "output_type": "stream",
       "stream": "stdout",
       "text": [
        "\r",
        "Computed histogram of frame 194 of 1280 in 0.0806980133057"
       ]
      },
      {
       "output_type": "stream",
       "stream": "stdout",
       "text": [
        "\r",
        "Computed histogram of frame 195 of 1280 in 0.0833420753479"
       ]
      },
      {
       "output_type": "stream",
       "stream": "stdout",
       "text": [
        "\r",
        "Computed histogram of frame 196 of 1280 in 0.0845170021057"
       ]
      },
      {
       "output_type": "stream",
       "stream": "stdout",
       "text": [
        "\r",
        "Computed histogram of frame 197 of 1280 in 0.0852370262146"
       ]
      },
      {
       "output_type": "stream",
       "stream": "stdout",
       "text": [
        "\r",
        "Computed histogram of frame 198 of 1280 in 0.0851039886475"
       ]
      },
      {
       "output_type": "stream",
       "stream": "stdout",
       "text": [
        "\r",
        "Computed histogram of frame 199 of 1280 in 0.0831339359283"
       ]
      },
      {
       "output_type": "stream",
       "stream": "stdout",
       "text": [
        "\r",
        "Computed histogram of frame 200 of 1280 in 0.0836029052734"
       ]
      },
      {
       "output_type": "stream",
       "stream": "stdout",
       "text": [
        "\r",
        "Computed histogram of frame 201 of 1280 in 0.0831830501556"
       ]
      },
      {
       "output_type": "stream",
       "stream": "stdout",
       "text": [
        "\r",
        "Computed histogram of frame 202 of 1280 in 0.079824924469"
       ]
      },
      {
       "output_type": "stream",
       "stream": "stdout",
       "text": [
        "\r",
        "Computed histogram of frame 203 of 1280 in 0.0789279937744"
       ]
      },
      {
       "output_type": "stream",
       "stream": "stdout",
       "text": [
        "\r",
        "Computed histogram of frame 204 of 1280 in 0.0807800292969"
       ]
      },
      {
       "output_type": "stream",
       "stream": "stdout",
       "text": [
        "\r",
        "Computed histogram of frame 205 of 1280 in 0.0793511867523"
       ]
      },
      {
       "output_type": "stream",
       "stream": "stdout",
       "text": [
        "\r",
        "Computed histogram of frame 206 of 1280 in 0.078987121582"
       ]
      },
      {
       "output_type": "stream",
       "stream": "stdout",
       "text": [
        "\r",
        "Computed histogram of frame 207 of 1280 in 0.0824818611145"
       ]
      },
      {
       "output_type": "stream",
       "stream": "stdout",
       "text": [
        "\r",
        "Computed histogram of frame 208 of 1280 in 0.0801630020142"
       ]
      },
      {
       "output_type": "stream",
       "stream": "stdout",
       "text": [
        "\r",
        "Computed histogram of frame 209 of 1280 in 0.0812759399414"
       ]
      },
      {
       "output_type": "stream",
       "stream": "stdout",
       "text": [
        "\r",
        "Computed histogram of frame 210 of 1280 in 0.0828378200531"
       ]
      },
      {
       "output_type": "stream",
       "stream": "stdout",
       "text": [
        "\r",
        "Computed histogram of frame 211 of 1280 in 0.0815298557281"
       ]
      },
      {
       "output_type": "stream",
       "stream": "stdout",
       "text": [
        "\r",
        "Computed histogram of frame 212 of 1280 in 0.0827829837799"
       ]
      },
      {
       "output_type": "stream",
       "stream": "stdout",
       "text": [
        "\r",
        "Computed histogram of frame 213 of 1280 in 0.0830981731415"
       ]
      },
      {
       "output_type": "stream",
       "stream": "stdout",
       "text": [
        "\r",
        "Computed histogram of frame 214 of 1280 in 0.0816080570221"
       ]
      },
      {
       "output_type": "stream",
       "stream": "stdout",
       "text": [
        "\r",
        "Computed histogram of frame 215 of 1280 in 0.0826210975647"
       ]
      },
      {
       "output_type": "stream",
       "stream": "stdout",
       "text": [
        "\r",
        "Computed histogram of frame 216 of 1280 in 0.0847799777985"
       ]
      },
      {
       "output_type": "stream",
       "stream": "stdout",
       "text": [
        "\r",
        "Computed histogram of frame 217 of 1280 in 0.0841450691223"
       ]
      },
      {
       "output_type": "stream",
       "stream": "stdout",
       "text": [
        "\r",
        "Computed histogram of frame 218 of 1280 in 0.0817351341248"
       ]
      },
      {
       "output_type": "stream",
       "stream": "stdout",
       "text": [
        "\r",
        "Computed histogram of frame 219 of 1280 in 0.0827100276947"
       ]
      },
      {
       "output_type": "stream",
       "stream": "stdout",
       "text": [
        "\r",
        "Computed histogram of frame 220 of 1280 in 0.0815300941467"
       ]
      },
      {
       "output_type": "stream",
       "stream": "stdout",
       "text": [
        "\r",
        "Computed histogram of frame 221 of 1280 in 0.0805900096893"
       ]
      },
      {
       "output_type": "stream",
       "stream": "stdout",
       "text": [
        "\r",
        "Computed histogram of frame 222 of 1280 in 0.0805051326752"
       ]
      },
      {
       "output_type": "stream",
       "stream": "stdout",
       "text": [
        "\r",
        "Computed histogram of frame 223 of 1280 in 0.0803561210632"
       ]
      },
      {
       "output_type": "stream",
       "stream": "stdout",
       "text": [
        "\r",
        "Computed histogram of frame 224 of 1280 in 0.0808470249176"
       ]
      },
      {
       "output_type": "stream",
       "stream": "stdout",
       "text": [
        "\r",
        "Computed histogram of frame 225 of 1280 in 0.0840787887573"
       ]
      },
      {
       "output_type": "stream",
       "stream": "stdout",
       "text": [
        "\r",
        "Computed histogram of frame 226 of 1280 in 0.0804131031036"
       ]
      },
      {
       "output_type": "stream",
       "stream": "stdout",
       "text": [
        "\r",
        "Computed histogram of frame 227 of 1280 in 0.0798649787903"
       ]
      },
      {
       "output_type": "stream",
       "stream": "stdout",
       "text": [
        "\r",
        "Computed histogram of frame 228 of 1280 in 0.0818960666656"
       ]
      },
      {
       "output_type": "stream",
       "stream": "stdout",
       "text": [
        "\r",
        "Computed histogram of frame 229 of 1280 in 0.080708026886"
       ]
      },
      {
       "output_type": "stream",
       "stream": "stdout",
       "text": [
        "\r",
        "Computed histogram of frame 230 of 1280 in 0.0813012123108"
       ]
      },
      {
       "output_type": "stream",
       "stream": "stdout",
       "text": [
        "\r",
        "Computed histogram of frame 231 of 1280 in 0.082239151001"
       ]
      },
      {
       "output_type": "stream",
       "stream": "stdout",
       "text": [
        "\r",
        "Computed histogram of frame 232 of 1280 in 0.0811660289764"
       ]
      },
      {
       "output_type": "stream",
       "stream": "stdout",
       "text": [
        "\r",
        "Computed histogram of frame 233 of 1280 in 0.0810360908508"
       ]
      },
      {
       "output_type": "stream",
       "stream": "stdout",
       "text": [
        "\r",
        "Computed histogram of frame 234 of 1280 in 0.0823040008545"
       ]
      },
      {
       "output_type": "stream",
       "stream": "stdout",
       "text": [
        "\r",
        "Computed histogram of frame 235 of 1280 in 0.0825810432434"
       ]
      },
      {
       "output_type": "stream",
       "stream": "stdout",
       "text": [
        "\r",
        "Computed histogram of frame 236 of 1280 in 0.082955121994"
       ]
      },
      {
       "output_type": "stream",
       "stream": "stdout",
       "text": [
        "\r",
        "Computed histogram of frame 237 of 1280 in 0.0798740386963"
       ]
      },
      {
       "output_type": "stream",
       "stream": "stdout",
       "text": [
        "\r",
        "Computed histogram of frame 238 of 1280 in 0.0822348594666"
       ]
      },
      {
       "output_type": "stream",
       "stream": "stdout",
       "text": [
        "\r",
        "Computed histogram of frame 239 of 1280 in 0.0814700126648"
       ]
      },
      {
       "output_type": "stream",
       "stream": "stdout",
       "text": [
        "\r",
        "Computed histogram of frame 240 of 1280 in 0.0893061161041"
       ]
      },
      {
       "output_type": "stream",
       "stream": "stdout",
       "text": [
        "\r",
        "Computed histogram of frame 241 of 1280 in 0.0829141139984"
       ]
      },
      {
       "output_type": "stream",
       "stream": "stdout",
       "text": [
        "\r",
        "Computed histogram of frame 242 of 1280 in 0.0879499912262"
       ]
      },
      {
       "output_type": "stream",
       "stream": "stdout",
       "text": [
        "\r",
        "Computed histogram of frame 243 of 1280 in 0.0851600170135"
       ]
      },
      {
       "output_type": "stream",
       "stream": "stdout",
       "text": [
        "\r",
        "Computed histogram of frame 244 of 1280 in 0.084244966507"
       ]
      },
      {
       "output_type": "stream",
       "stream": "stdout",
       "text": [
        "\r",
        "Computed histogram of frame 245 of 1280 in 0.0896549224854"
       ]
      },
      {
       "output_type": "stream",
       "stream": "stdout",
       "text": [
        "\r",
        "Computed histogram of frame 246 of 1280 in 0.0875480175018"
       ]
      },
      {
       "output_type": "stream",
       "stream": "stdout",
       "text": [
        "\r",
        "Computed histogram of frame 247 of 1280 in 0.0819280147552"
       ]
      },
      {
       "output_type": "stream",
       "stream": "stdout",
       "text": [
        "\r",
        "Computed histogram of frame 248 of 1280 in 0.0825619697571"
       ]
      },
      {
       "output_type": "stream",
       "stream": "stdout",
       "text": [
        "\r",
        "Computed histogram of frame 249 of 1280 in 0.0811700820923"
       ]
      },
      {
       "output_type": "stream",
       "stream": "stdout",
       "text": [
        "\r",
        "Computed histogram of frame 250 of 1280 in 0.0801301002502"
       ]
      },
      {
       "output_type": "stream",
       "stream": "stdout",
       "text": [
        "\r",
        "Computed histogram of frame 251 of 1280 in 0.0833320617676"
       ]
      },
      {
       "output_type": "stream",
       "stream": "stdout",
       "text": [
        "\r",
        "Computed histogram of frame 252 of 1280 in 0.0822529792786"
       ]
      },
      {
       "output_type": "stream",
       "stream": "stdout",
       "text": [
        "\r",
        "Computed histogram of frame 253 of 1280 in 0.0825228691101"
       ]
      },
      {
       "output_type": "stream",
       "stream": "stdout",
       "text": [
        "\r",
        "Computed histogram of frame 254 of 1280 in 0.0840260982513"
       ]
      },
      {
       "ename": "KeyboardInterrupt",
       "evalue": "",
       "output_type": "pyerr",
       "traceback": [
        "\u001b[0;31m---------------------------------------------------------------------------\u001b[0m\n\u001b[0;31mKeyboardInterrupt\u001b[0m                         Traceback (most recent call last)",
        "\u001b[0;32m<ipython-input-15-42349016e433>\u001b[0m in \u001b[0;36m<module>\u001b[0;34m()\u001b[0m\n\u001b[1;32m     32\u001b[0m     \u001b[0;32mif\u001b[0m \u001b[0mos\u001b[0m\u001b[0;34m.\u001b[0m\u001b[0mpath\u001b[0m\u001b[0;34m.\u001b[0m\u001b[0misfile\u001b[0m\u001b[0;34m(\u001b[0m\u001b[0mmattes\u001b[0m\u001b[0;34m[\u001b[0m\u001b[0mi\u001b[0m\u001b[0;34m]\u001b[0m\u001b[0;34m)\u001b[0m \u001b[0;34m:\u001b[0m\u001b[0;34m\u001b[0m\u001b[0m\n\u001b[1;32m     33\u001b[0m         \u001b[0malpha\u001b[0m \u001b[0;34m=\u001b[0m \u001b[0mnp\u001b[0m\u001b[0;34m.\u001b[0m\u001b[0marray\u001b[0m\u001b[0;34m(\u001b[0m\u001b[0mcv2\u001b[0m\u001b[0;34m.\u001b[0m\u001b[0mcvtColor\u001b[0m\u001b[0;34m(\u001b[0m\u001b[0mcv2\u001b[0m\u001b[0;34m.\u001b[0m\u001b[0mimread\u001b[0m\u001b[0;34m(\u001b[0m\u001b[0mmattes\u001b[0m\u001b[0;34m[\u001b[0m\u001b[0mi\u001b[0m\u001b[0;34m]\u001b[0m\u001b[0;34m)\u001b[0m\u001b[0;34m,\u001b[0m \u001b[0mcv2\u001b[0m\u001b[0;34m.\u001b[0m\u001b[0mCOLOR_BGR2GRAY\u001b[0m\u001b[0;34m)\u001b[0m\u001b[0;34m)\u001b[0m\u001b[0;34m/\u001b[0m\u001b[0;36m255.0\u001b[0m\u001b[0;34m\u001b[0m\u001b[0m\n\u001b[0;32m---> 34\u001b[0;31m         \u001b[0mimg\u001b[0m \u001b[0;34m*=\u001b[0m \u001b[0mnp\u001b[0m\u001b[0;34m.\u001b[0m\u001b[0mrepeat\u001b[0m\u001b[0;34m(\u001b[0m\u001b[0mnp\u001b[0m\u001b[0;34m.\u001b[0m\u001b[0mreshape\u001b[0m\u001b[0;34m(\u001b[0m\u001b[0malpha\u001b[0m\u001b[0;34m,\u001b[0m \u001b[0;34m(\u001b[0m\u001b[0malpha\u001b[0m\u001b[0;34m.\u001b[0m\u001b[0mshape\u001b[0m\u001b[0;34m[\u001b[0m\u001b[0;36m0\u001b[0m\u001b[0;34m]\u001b[0m\u001b[0;34m,\u001b[0m \u001b[0malpha\u001b[0m\u001b[0;34m.\u001b[0m\u001b[0mshape\u001b[0m\u001b[0;34m[\u001b[0m\u001b[0;36m1\u001b[0m\u001b[0;34m]\u001b[0m\u001b[0;34m,\u001b[0m \u001b[0;36m1\u001b[0m\u001b[0;34m)\u001b[0m\u001b[0;34m)\u001b[0m\u001b[0;34m,\u001b[0m \u001b[0;36m3\u001b[0m\u001b[0;34m,\u001b[0m \u001b[0maxis\u001b[0m\u001b[0;34m=\u001b[0m\u001b[0;34m-\u001b[0m\u001b[0;36m1\u001b[0m\u001b[0;34m)\u001b[0m\u001b[0;34m\u001b[0m\u001b[0m\n\u001b[0m\u001b[1;32m     35\u001b[0m \u001b[0;34m\u001b[0m\u001b[0m\n\u001b[1;32m     36\u001b[0m     \u001b[0;31m## use stencils to divide the image into blocks and count number of foreground pixels\u001b[0m\u001b[0;34m\u001b[0m\u001b[0;34m\u001b[0m\u001b[0m\n",
        "\u001b[0;32m/usr/lib/python2.7/dist-packages/numpy/core/fromnumeric.pyc\u001b[0m in \u001b[0;36mrepeat\u001b[0;34m(a, repeats, axis)\u001b[0m\n\u001b[1;32m    388\u001b[0m     \u001b[0;32mexcept\u001b[0m \u001b[0mAttributeError\u001b[0m\u001b[0;34m:\u001b[0m\u001b[0;34m\u001b[0m\u001b[0m\n\u001b[1;32m    389\u001b[0m         \u001b[0;32mreturn\u001b[0m \u001b[0m_wrapit\u001b[0m\u001b[0;34m(\u001b[0m\u001b[0ma\u001b[0m\u001b[0;34m,\u001b[0m \u001b[0;34m'repeat'\u001b[0m\u001b[0;34m,\u001b[0m \u001b[0mrepeats\u001b[0m\u001b[0;34m,\u001b[0m \u001b[0maxis\u001b[0m\u001b[0;34m)\u001b[0m\u001b[0;34m\u001b[0m\u001b[0m\n\u001b[0;32m--> 390\u001b[0;31m     \u001b[0;32mreturn\u001b[0m \u001b[0mrepeat\u001b[0m\u001b[0;34m(\u001b[0m\u001b[0mrepeats\u001b[0m\u001b[0;34m,\u001b[0m \u001b[0maxis\u001b[0m\u001b[0;34m)\u001b[0m\u001b[0;34m\u001b[0m\u001b[0m\n\u001b[0m\u001b[1;32m    391\u001b[0m \u001b[0;34m\u001b[0m\u001b[0m\n\u001b[1;32m    392\u001b[0m \u001b[0;34m\u001b[0m\u001b[0m\n",
        "\u001b[0;31mKeyboardInterrupt\u001b[0m: "
       ]
      }
     ],
     "prompt_number": 15
    },
    {
     "cell_type": "code",
     "collapsed": false,
     "input": [
      "distMat = sio.loadmat(\"hist2demd_distMat.mat\")[\"distMat\"]\n",
      "figure(); imshow(distMat, interpolation='nearest')"
     ],
     "language": "python",
     "metadata": {},
     "outputs": [
      {
       "metadata": {},
       "output_type": "pyout",
       "prompt_number": 62,
       "text": [
        "<matplotlib.image.AxesImage at 0x7f772b5be750>"
       ]
      }
     ],
     "prompt_number": 62
    },
    {
     "cell_type": "code",
     "collapsed": false,
     "input": [
      "import scipy.io as sio\n",
      "sio.savemat(\"features.mat\", {\"features\":np.array(features*255, dtype=np.int32)})"
     ],
     "language": "python",
     "metadata": {},
     "outputs": [
      {
       "ename": "NameError",
       "evalue": "name 'features' is not defined",
       "output_type": "pyerr",
       "traceback": [
        "\u001b[0;31m---------------------------------------------------------------------------\u001b[0m\n\u001b[0;31mNameError\u001b[0m                                 Traceback (most recent call last)",
        "\u001b[0;32m<ipython-input-5-6f88450acec1>\u001b[0m in \u001b[0;36m<module>\u001b[0;34m()\u001b[0m\n\u001b[1;32m      1\u001b[0m \u001b[0;32mimport\u001b[0m \u001b[0mscipy\u001b[0m\u001b[0;34m.\u001b[0m\u001b[0mio\u001b[0m \u001b[0;32mas\u001b[0m \u001b[0msio\u001b[0m\u001b[0;34m\u001b[0m\u001b[0m\n\u001b[0;32m----> 2\u001b[0;31m \u001b[0msio\u001b[0m\u001b[0;34m.\u001b[0m\u001b[0msavemat\u001b[0m\u001b[0;34m(\u001b[0m\u001b[0;34m\"features.mat\"\u001b[0m\u001b[0;34m,\u001b[0m \u001b[0;34m{\u001b[0m\u001b[0;34m\"features\"\u001b[0m\u001b[0;34m:\u001b[0m\u001b[0mnp\u001b[0m\u001b[0;34m.\u001b[0m\u001b[0marray\u001b[0m\u001b[0;34m(\u001b[0m\u001b[0mfeatures\u001b[0m\u001b[0;34m*\u001b[0m\u001b[0;36m255\u001b[0m\u001b[0;34m,\u001b[0m \u001b[0mdtype\u001b[0m\u001b[0;34m=\u001b[0m\u001b[0mnp\u001b[0m\u001b[0;34m.\u001b[0m\u001b[0mint32\u001b[0m\u001b[0;34m)\u001b[0m\u001b[0;34m}\u001b[0m\u001b[0;34m)\u001b[0m\u001b[0;34m\u001b[0m\u001b[0m\n\u001b[0m",
        "\u001b[0;31mNameError\u001b[0m: name 'features' is not defined"
       ]
      }
     ],
     "prompt_number": 5
    },
    {
     "cell_type": "code",
     "collapsed": false,
     "input": [
      "gwv.showCustomGraph(features[717, :].reshape((blocksPerDim, blocksPerDim)))\n",
      "gwv.showCustomGraph(features[1165, :].reshape((blocksPerDim, blocksPerDim)))\n",
      "gwv.showCustomGraph(features[1166, :].reshape((blocksPerDim, blocksPerDim)))\n",
      "print np.dot(features[717, :], features[1166, :])\n",
      "print np.dot(features[1165, :], features[1166, :])"
     ],
     "language": "python",
     "metadata": {},
     "outputs": [
      {
       "output_type": "stream",
       "stream": "stdout",
       "text": [
        "0.0537339956253\n",
        "0.928568257189\n"
       ]
      }
     ],
     "prompt_number": 4
    },
    {
     "cell_type": "code",
     "collapsed": false,
     "input": [
      "def distance1D(f1, f2):\n",
      "#     return np.sqrt( (f1.x - f2.x)**2  + (f1.y - f2.y)**2 + (f1.z - f2.z)**2 )\n",
      "    return np.sqrt((f1 - f2)**2)#np.sqrt( (f1[0] - f2[0])**2  + (f1[1] - f2[1])**2 + (f1[2] - f2[2])**2 )\n",
      "\n",
      "def distance2D(f1, f2):\n",
      "#     return np.sqrt( (f1.x - f2.x)**2  + (f1.y - f2.y)**2 + (f1.z - f2.z)**2 )\n",
      "    return np.sqrt( (f1[0] - f2[0])**2  + (f1[1] - f2[1])**2 )# + (f1[2] - f2[2])**2 )\n",
      "\n",
      "print \"1D\"\n",
      "print emd((list(features[717, :]), list(arange(0.0, subDivisions))), (list(features[1166, :]), list(arange(0.0, subDivisions))), distance1D)\n",
      "print emd((list(features[1165, :]), list(arange(0.0, subDivisions))), (list(features[1166, :]), list(arange(0.0, subDivisions))), distance1D)\n",
      "print \"2D\"\n",
      "print emd((list(features[717, :].reshape((blocksPerDim, blocksPerDim))), list(arange(0.0, blocksPerDim))), (list(features[1166, :].reshape((blocksPerDim, blocksPerDim))), list(arange(0.0, blocksPerDim))), distance2D)\n",
      "print emd((list(features[1165, :].reshape((blocksPerDim, blocksPerDim))), list(arange(0.0, blocksPerDim))), (list(features[1166, :].reshape((blocksPerDim, blocksPerDim))), list(arange(0.0, blocksPerDim))), distance2D)\n",
      "print \"1D with 2D weights\"\n",
      "print emd((list(features[717, :]), list(arange(0.0, subDivisions))), (list(features[1166, :]), list(np.repeat(arange(0.0, blocksPerDim), blocksPerDim))), distance1D)\n",
      "print emd((list(features[1165, :]), list(arange(0.0, subDivisions))), (list(features[1166, :]), list(np.repeat(arange(0.0, blocksPerDim), blocksPerDim))), distance1D)\n",
      "# print \"cv\"\n",
      "# frame1 = cv.CreateMat(blocksPerDim, blocksPerDim, cv.CV_32FC1)\n",
      "# cv.Convert(cv.fromarray(np.ascontiguousarray(features[717, :].reshape((blocksPerDim, blocksPerDim)))), frame1)\n",
      "# frame2 = cv.CreateMat(blocksPerDim, blocksPerDim, cv.CV_32FC1)\n",
      "# cv.Convert(cv.fromarray(np.ascontiguousarray(features[1166, :].reshape((blocksPerDim, blocksPerDim)))), frame2)\n",
      "# print frame1, frame2\n",
      "# print cv.CalcEMD2(frame1, frame2, cv.CV_DIST_L2)\n",
      "# cv.Convert(cv.fromarray(np.ascontiguousarray(features[1165, :].reshape((blocksPerDim, blocksPerDim)))), frame1)\n",
      "# print cv.CalcEMD2(frame1, frame2, cv.CV_DIST_L2)"
     ],
     "language": "python",
     "metadata": {},
     "outputs": [
      {
       "output_type": "stream",
       "stream": "stdout",
       "text": [
        "1D\n",
        "0.00272237346508\n",
        "0.00160235865042"
       ]
      },
      {
       "output_type": "stream",
       "stream": "stdout",
       "text": [
        "\n",
        "2D\n",
        "0.0409745983779\n",
        "0.0104880146682\n",
        "1D with 2D weights\n",
        "0.00190239504445\n",
        "0.000968246546108"
       ]
      },
      {
       "output_type": "stream",
       "stream": "stdout",
       "text": [
        "\n"
       ]
      }
     ],
     "prompt_number": 6
    },
    {
     "cell_type": "code",
     "collapsed": false,
     "input": [
      "# import Image\n",
      "# im = Image.fromarray(np.array(features[717, :].reshape((blocksPerDim, blocksPerDim))*255, dtype=uint8))\n",
      "# im.save(\"im717.png\")\n",
      "np.array(features[717, :].reshape((blocksPerDim, blocksPerDim))*255, dtype=uint8)\n",
      "print np.max(features)"
     ],
     "language": "python",
     "metadata": {},
     "outputs": [
      {
       "output_type": "stream",
       "stream": "stdout",
       "text": [
        "0.973564397248\n"
       ]
      }
     ],
     "prompt_number": 11
    },
    {
     "cell_type": "code",
     "collapsed": false,
     "input": [
      "## compute the distance matrix where distance is dot product between feature vectors\n",
      "distanceMatrix = np.ones((numFrames, numFrames))# np.zeros((numFrames, numFrames))\n",
      "\n",
      "def distance(f1, f2):\n",
      "#     return np.sqrt( (f1.x - f2.x)**2  + (f1.y - f2.y)**2 + (f1.z - f2.z)**2 )\n",
      "    return np.sqrt((f1 - f2)**2)#np.sqrt( (f1[0] - f2[0])**2  + (f1[1] - f2[1])**2 + (f1[2] - f2[2])**2 )\n",
      "\n",
      "for r in xrange(0, numFrames) :\n",
      "    for c in xrange(r+1, numFrames) :\n",
      "#         distanceMatrix[r, c] = distanceMatrix[c, r] = emd((list(features[r, :]), list(arange(0.0, subDivisions))), (list(features[c, :]), list(arange(0.0, subDivisions))), distance)\n",
      "        distanceMatrix[r, c] = distanceMatrix[c, r] = np.dot(features[r, :], features[c, :])\n",
      "    print r, \n",
      "\n",
      "distanceMatrix = 1 - distanceMatrix\n",
      "figure(); imshow(distanceMatrix, interpolation='nearest')"
     ],
     "language": "python",
     "metadata": {},
     "outputs": [
      {
       "output_type": "stream",
       "stream": "stdout",
       "text": [
        "0 1 2 3 4 5 6 7 8 9 10 11 12 13 14 15 "
       ]
      },
      {
       "output_type": "stream",
       "stream": "stdout",
       "text": [
        "16 17 18 19 20 21 22 23 24 25 26 27 28 29 30 31 "
       ]
      },
      {
       "output_type": "stream",
       "stream": "stdout",
       "text": [
        "32 33 34 35 36 37 38 39 40 41 42 43 44 45 46 47 "
       ]
      },
      {
       "output_type": "stream",
       "stream": "stdout",
       "text": [
        "48 49 50 51 52 53 54 55 56 57 58 59 60 61 62 "
       ]
      },
      {
       "output_type": "stream",
       "stream": "stdout",
       "text": [
        "63 64 65 66 67 68 69 70 71 72 73 74 75 76 77 78 79 "
       ]
      },
      {
       "output_type": "stream",
       "stream": "stdout",
       "text": [
        "80 81 82 83 84 85 86 87 88 89 90 91 92 93 94 95 96 97 "
       ]
      },
      {
       "output_type": "stream",
       "stream": "stdout",
       "text": [
        "98 99 100 101 102 103 104 105 106 107 108 109 110 111 112 113 114 "
       ]
      },
      {
       "output_type": "stream",
       "stream": "stdout",
       "text": [
        "115 116 117 118 119 120 121 122 123 124 125 126 127 128 129 130 131 132 "
       ]
      },
      {
       "output_type": "stream",
       "stream": "stdout",
       "text": [
        "133 134 135 136 137 138 139 140 141 142 143 144 145 146 147 148 149 150 "
       ]
      },
      {
       "output_type": "stream",
       "stream": "stdout",
       "text": [
        "151 152 153 154 155 156 157 158 159 160 161 162 163 164 165 166 167 168 "
       ]
      },
      {
       "output_type": "stream",
       "stream": "stdout",
       "text": [
        "169 170 171 172 173 174 175 176 177 178 179 180 181 182 183 184 185 186 "
       ]
      },
      {
       "output_type": "stream",
       "stream": "stdout",
       "text": [
        "187 188 189 190 191 192 193 194 195 196 197 198 199 200 201 202 "
       ]
      },
      {
       "output_type": "stream",
       "stream": "stdout",
       "text": [
        "203 204 205 206 207 208 209 210 211 212 213 214 215 216 217 218 219 220 221 222 "
       ]
      },
      {
       "output_type": "stream",
       "stream": "stdout",
       "text": [
        "223 224 225 226 227 228 229 230 231 232 233 234 235 236 237 238 239 240 241 242 "
       ]
      },
      {
       "output_type": "stream",
       "stream": "stdout",
       "text": [
        "243 244 245 246 247 248 249 250 251 252 253 254 255 256 257 258 259 "
       ]
      },
      {
       "output_type": "stream",
       "stream": "stdout",
       "text": [
        "260 261 262 263 264 265 266 267 268 269 270 271 272 273 274 275 276 277 278 279 280 "
       ]
      },
      {
       "output_type": "stream",
       "stream": "stdout",
       "text": [
        "281 282 283 284 285 286 287 288 289 290 291 292 293 294 295 296 297 298 299 300 301 "
       ]
      },
      {
       "output_type": "stream",
       "stream": "stdout",
       "text": [
        "302 303 304 305 306 307 308 309 310 311 312 313 314 315 316 317 318 319 320 321 322 "
       ]
      },
      {
       "output_type": "stream",
       "stream": "stdout",
       "text": [
        "323 324 325 326 327 328 329 330 331 332 333 334 335 336 337 338 339 340 341 "
       ]
      },
      {
       "output_type": "stream",
       "stream": "stdout",
       "text": [
        "342 343 344 345 346 347 348 349 350 351 352 353 354 355 356 357 358 359 360 361 362 "
       ]
      },
      {
       "output_type": "stream",
       "stream": "stdout",
       "text": [
        "363 364 365 366 367 368 369 370 371 372 373 374 375 376 377 378 379 380 381 382 383 384 385 "
       ]
      },
      {
       "output_type": "stream",
       "stream": "stdout",
       "text": [
        "386 387 388 389 390 391 392 393 394 395 396 397 398 399 400 401 402 403 404 405 406 407 408 "
       ]
      },
      {
       "output_type": "stream",
       "stream": "stdout",
       "text": [
        "409 410 411 412 413 414 415 416 417 418 419 420 421 422 423 424 425 426 427 428 "
       ]
      },
      {
       "output_type": "stream",
       "stream": "stdout",
       "text": [
        "429 430 431 432 433 434 435 436 437 438 439 440 441 442 443 444 445 446 447 448 449 450 451 452 "
       ]
      },
      {
       "output_type": "stream",
       "stream": "stdout",
       "text": [
        "453 454 455 456 457 458 459 460 461 462 463 464 465 466 467 468 469 470 471 472 473 474 475 "
       ]
      },
      {
       "output_type": "stream",
       "stream": "stdout",
       "text": [
        "476 477 478 479 480 481 482 483 484 485 486 487 488 489 490 491 492 493 494 495 496 497 498 "
       ]
      },
      {
       "output_type": "stream",
       "stream": "stdout",
       "text": [
        "499 500 501 502 503 504 505 506 507 508 509 510 511 512 513 514 515 516 517 518 519 "
       ]
      },
      {
       "output_type": "stream",
       "stream": "stdout",
       "text": [
        "520 521 522 523 524 525 526 527 528 529 530 531 532 533 534 535 536 537 538 539 540 541 542 543 544 545 546 "
       ]
      },
      {
       "output_type": "stream",
       "stream": "stdout",
       "text": [
        "547 548 549 550 551 552 553 554 555 556 557 558 559 560 561 562 563 564 565 566 567 568 569 570 571 572 573 574 "
       ]
      },
      {
       "output_type": "stream",
       "stream": "stdout",
       "text": [
        "575 576 577 578 579 580 581 582 583 584 585 586 587 588 589 590 591 592 593 594 595 596 597 598 599 600 601 602 "
       ]
      },
      {
       "output_type": "stream",
       "stream": "stdout",
       "text": [
        "603 604 605 606 607 608 609 610 611 612 613 614 615 616 617 618 619 620 621 622 623 624 625 626 627 628 629 630 631 632 "
       ]
      },
      {
       "output_type": "stream",
       "stream": "stdout",
       "text": [
        "633 634 635 636 637 638 639 640 641 642 643 644 645 646 647 648 649 650 651 652 653 654 655 656 657 658 659 660 661 662 "
       ]
      },
      {
       "output_type": "stream",
       "stream": "stdout",
       "text": [
        "663 664 665 666 667 668 669 670 671 672 673 674 675 676 677 678 679 680 681 682 683 684 685 686 687 688 689 690 691 692 693 694 695 696 "
       ]
      },
      {
       "output_type": "stream",
       "stream": "stdout",
       "text": [
        "697 698 699 700 701 702 703 704 705 706 707 708 709 710 711 712 713 714 715 716 717 718 719 720 721 722 723 724 725 726 727 728 729 730 731 732 733 "
       ]
      },
      {
       "output_type": "stream",
       "stream": "stdout",
       "text": [
        "734 735 736 737 738 739 740 741 742 743 744 745 746 747 748 749 750 751 752 753 754 755 756 757 758 759 760 761 762 763 764 765 "
       ]
      },
      {
       "output_type": "stream",
       "stream": "stdout",
       "text": [
        "766 767 768 769 770 771 772 773 774 775 776 777 778 779 780 781 782 783 784 785 786 787 788 789 790 791 792 793 794 795 796 797 798 799 800 801 802 803 804 805 806 "
       ]
      },
      {
       "output_type": "stream",
       "stream": "stdout",
       "text": [
        "807 808 809 810 811 812 813 814 815 816 817 818 819 820 821 822 823 824 825 826 827 828 829 830 831 832 833 834 835 836 837 838 839 840 841 842 843 844 845 846 847 848 849 850 "
       ]
      },
      {
       "output_type": "stream",
       "stream": "stdout",
       "text": [
        "851 852 853 854 855 856 857 858 859 860 861 862 863 864 865 866 867 868 869 870 871 872 873 874 875 876 877 878 879 880 881 882 883 884 885 886 887 888 889 890 891 892 893 894 895 896 897 898 "
       ]
      },
      {
       "output_type": "stream",
       "stream": "stdout",
       "text": [
        "899 900 901 902 903 904 905 906 907 908 909 910 911 912 913 914 915 916 917 918 919 920 921 922 923 924 925 926 927 928 929 930 931 932 933 934 935 936 937 938 939 940 941 942 943 944 945 946 947 "
       ]
      },
      {
       "output_type": "stream",
       "stream": "stdout",
       "text": [
        "948 949 950 951 952 953 954 955 956 957 958 959 960 961 962 963 964 965 966 967 968 969 970 971 972 973 974 975 976 977 978 979 980 981 982 983 984 985 986 987 988 989 990 991 992 993 994 995 996 997 998 999 1000 1001 1002 1003 1004 1005 1006 1007 1008 1009 1010 1011 1012 1013 "
       ]
      },
      {
       "output_type": "stream",
       "stream": "stdout",
       "text": [
        "1014 1015 1016 1017 1018 1019 1020 1021 1022 1023 1024 1025 1026 1027 1028 1029 1030 1031 1032 1033 1034 1035 1036 1037 1038 1039 1040 1041 1042 1043 1044 1045 1046 1047 1048 1049 1050 1051 1052 1053 1054 1055 1056 1057 1058 1059 1060 1061 1062 1063 1064 1065 1066 1067 1068 1069 1070 1071 1072 1073 1074 1075 1076 1077 1078 1079 1080 1081 1082 1083 1084 1085 1086 1087 1088 1089 1090 1091 1092 1093 1094 1095 1096 1097 1098 1099 1100 1101 1102 1103 "
       ]
      },
      {
       "output_type": "stream",
       "stream": "stdout",
       "text": [
        "1104 1105 1106 1107 1108 1109 1110 1111 1112 1113 1114 1115 1116 1117 1118 1119 1120 1121 1122 1123 1124 1125 1126 1127 1128 1129 1130 1131 1132 1133 1134 1135 1136 1137 1138 1139 1140 1141 1142 1143 1144 1145 1146 1147 1148 1149 1150 1151 1152 1153 1154 1155 1156 1157 1158 1159 1160 1161 1162 1163 1164 1165 1166 1167 1168 1169 1170 1171 1172 1173 1174 1175 1176 1177 1178 1179 1180 1181 1182 1183 1184 1185 1186 1187 1188 1189 1190 1191 1192 1193 1194 1195 1196 1197 1198 1199 1200 1201 1202 1203 1204 1205 1206 1207 1208 1209 1210 1211 1212 1213 1214 1215 1216 1217 1218 1219 1220 1221 1222 1223 1224 1225 1226 1227 1228 1229 1230 1231 1232 1233 1234 1235 1236 1237 1238 1239 1240 1241 1242 1243 1244 1245 1246 1247 1248 1249 1250 1251 1252 1253 1254 1255 1256 1257 1258 1259 1260 1261 1262 1263 1264 1265 1266 1267 1268 1269 1270 1271 1272 1273 1274 1275 1276 1277 1278 1279"
       ]
      },
      {
       "metadata": {},
       "output_type": "pyout",
       "prompt_number": 5,
       "text": [
        "<matplotlib.image.AxesImage at 0x7f36fed09750>"
       ]
      },
      {
       "output_type": "stream",
       "stream": "stdout",
       "text": [
        "\n"
       ]
      }
     ],
     "prompt_number": 5
    },
    {
     "cell_type": "code",
     "collapsed": false,
     "input": [
      "# np.save(outputData + \"histcos_distMat.npy\", distanceMatrix)\n",
      "distanceMatrix = np.load(outputData + \"vanilla_distMat.npy\")\n",
      "# distanceMatrix = np.array(distanceMatrix, dtype=float)/np.max(distanceMatrix)\n",
      "distMat = vtu.filterDistanceMatrix(distanceMatrix, 4, True)\n",
      "figure(); imshow(distMat, interpolation='nearest')\n",
      "# sio.savemat(\"hist2demd_distMat.mat\", {\"distMat\":distMat})"
     ],
     "language": "python",
     "metadata": {},
     "outputs": [
      {
       "metadata": {},
       "output_type": "pyout",
       "prompt_number": 71,
       "text": [
        "<matplotlib.image.AxesImage at 0x7f772ba46650>"
       ]
      }
     ],
     "prompt_number": 71
    },
    {
     "cell_type": "code",
     "collapsed": false,
     "input": [
      "def distance(f1, f2):\n",
      "#     return np.sqrt( (f1.x - f2.x)**2  + (f1.y - f2.y)**2 + (f1.z - f2.z)**2 )\n",
      "    return np.sqrt((f1 - f2)**2)#np.sqrt( (f1[0] - f2[0])**2  + (f1[1] - f2[1])**2 + (f1[2] - f2[2])**2 )\n",
      "\n",
      "print emd((list(features[1165, :]), list(arange(0.0, subDivisions))), (list(features[1166, :]), list(arange(0.0, subDivisions))), distance)\n",
      "print emd((list(features[717, :]), list(arange(0.0, subDivisions))), (list(features[1166, :]), list(arange(0.0, subDivisions))), distance)"
     ],
     "language": "python",
     "metadata": {},
     "outputs": [
      {
       "output_type": "stream",
       "stream": "stdout",
       "text": [
        "0.00160235865042\n",
        "0.00272237346508\n"
       ]
      }
     ],
     "prompt_number": 9
    },
    {
     "cell_type": "code",
     "collapsed": false,
     "input": [
      "print list(features[1165, :])"
     ],
     "language": "python",
     "metadata": {},
     "outputs": [
      {
       "output_type": "stream",
       "stream": "stdout",
       "text": [
        "[0.0, 0.0, 0.0, 0.0, 0.0, 0.0, 0.0, 0.0, 0.0, 0.0, 0.0, 0.0, 0.0, 0.0, 0.0, 0.0, 0.0, 0.0, 0.0, 0.0, 0.0, 0.0, 0.054711209811678103, 0.29678103555964419, 0.47081256192642085, 0.11596906011364248, 0.0, 0.0, 0.0, 0.0, 0.0088847263796742217, 0.41649103309630742, 0.58615813246955983, 0.34346481715109034, 0.15252113618440749, 0.02197800736024676, 0.0, 0.0, 0.0, 0.0, 0.0018704687115103625, 0.12235982821130288, 0.00031174478525172712, 0.0, 0.0, 0.0, 0.0, 0.0, 0.0, 0.0, 0.0, 0.0, 0.0, 0.0, 0.0, 0.0, 0.0, 0.0, 0.0, 0.0, 0.0, 0.0, 0.0, 0.0, 0.0, 0.0, 0.0, 0.0, 0.0, 0.0, 0.0, 0.0, 0.0, 0.0, 0.0, 0.0, 0.0, 0.0, 0.0, 0.0, 0.0, 0.0, 0.0, 0.0, 0.0, 0.0, 0.0, 0.0, 0.0, 0.0, 0.0, 0.0, 0.0, 0.0, 0.0, 0.0, 0.0, 0.0, 0.0, 0.0]\n"
       ]
      }
     ],
     "prompt_number": 5
    },
    {
     "cell_type": "code",
     "collapsed": false,
     "input": [
      "## do label propagation as zhu 2003\n",
      "# distances = np.copy(distanceMatrix)\n",
      "distances = np.array(np.copy(distMat), dtype=float)#/np.max(distMat)\n",
      "# distances = np.copy(distMat[1:distMat.shape[1], 0:-1])\n",
      "# distances = np.copy(distMatFut)\n",
      "\n",
      "if False :\n",
      "    ## use dotstar\n",
      "    numClasses = 2\n",
      "    ## init labeled points\n",
      "    labeledPoints = np.array([[9], [21]])-1\n",
      "    fl = np.zeros((len(labeledPoints), numClasses))\n",
      "    fl = np.eye(numClasses)\n",
      "else :\n",
      "    ## use ribbon2\n",
      "    numClasses = 4\n",
      "    ## init labeled points\n",
      "    labeledPoints = np.array([[122], [501], [838], [1106]]) -4\n",
      "    fl = np.eye(numClasses)\n",
      "    \n",
      "#     labeledPoints = np.array([[22, 122, 222], [281, 501, 721], [754, 838, 922], [956, 1106, 1256]]) -4\n",
      "#     fl = np.zeros((np.prod(labeledPoints.shape), numClasses))\n",
      "#     fl[0:3, 0] = 1\n",
      "#     fl[3:6, 1] = 1\n",
      "#     fl[6:9, 2] = 1\n",
      "#     fl[9:, 3] = 1\n",
      "\n",
      "    initPoints = np.array([122, 501, 838, 1106]) -4\n",
      "    extraPoints = 16\n",
      "    labeledPoints = np.zeros((numClasses, extraPoints+1), dtype=np.int)\n",
      "    for i in xrange(0, len(initPoints)) :\n",
      "        labeledPoints[i, :] = range(initPoints[i]-extraPoints/2, initPoints[i]+extraPoints/2+1)\n",
      "\n",
      "    fl = np.zeros((np.prod(labeledPoints.shape), numClasses))\n",
      "    for i in xrange(0, numClasses) :\n",
      "        fl[i*(extraPoints+1):(i+1)*(extraPoints+1), i] = 1\n",
      "    \n",
      "print numClasses, labeledPoints\n",
      "print fl\n",
      "\n",
      "## order w to have labeled nodes at the top-left corner\n",
      "orderedDist = np.copy(distances)\n",
      "flatLabeled = np.ndarray.flatten(labeledPoints); print flatLabeled\n",
      "for i in xrange(0, len(flatLabeled)) :\n",
      "    #shift flatLabeled[i]-th row up to i-th row and adapt remaining rows\n",
      "    tmp = np.copy(orderedDist)\n",
      "    orderedDist[i, :] = tmp[flatLabeled[i], :]\n",
      "    orderedDist[i+1:, :] = np.vstack((tmp[i:flatLabeled[i], :], tmp[flatLabeled[i]+1:, :]))\n",
      "    #shift flatLabeled[i]-th column left to i-th column and adapt remaining columns\n",
      "    tmp = np.copy(orderedDist)\n",
      "    orderedDist[:, i] = tmp[:, flatLabeled[i]]\n",
      "    orderedDist[:, i+1:] = np.hstack((tmp[:, i:flatLabeled[i]], tmp[:, flatLabeled[i]+1:]))\n",
      "#     print len(flatLabeled)+flatLabeled[i]\n",
      "    \n",
      "gwv.showCustomGraph(distances)\n",
      "gwv.showCustomGraph(orderedDist)\n",
      "\n",
      "## compute weights\n",
      "w, cumW = vtu.getProbabilities(orderedDist, 0.05, None, False)\n",
      "gwv.showCustomGraph(w)\n",
      "# gwv.showCustomGraph(cumW)\n",
      "\n",
      "l = len(flatLabeled)\n",
      "n = orderedDist.shape[0]\n",
      "## compute graph laplacian\n",
      "L = np.diag(np.sum(w, axis=0)) - w\n",
      "# gwv.showCustomGraph(L)\n",
      "\n",
      "## propagate labels\n",
      "fu = np.dot(np.dot(-np.linalg.inv(L[l:, l:]), L[l:, 0:l]), fl)\n",
      "\n",
      "## use class mass normalization to normalize label probabilities\n",
      "q = np.sum(fl)+1\n",
      "fu_CMN = fu*(np.ones(fu.shape)*(q/np.sum(fu)))"
     ],
     "language": "python",
     "metadata": {},
     "outputs": [
      {
       "output_type": "stream",
       "stream": "stdout",
       "text": [
        "4 [[ 110  111  112  113  114  115  116  117  118  119  120  121  122  123\n",
        "   124  125  126]\n",
        " [ 489  490  491  492  493  494  495  496  497  498  499  500  501  502\n",
        "   503  504  505]\n",
        " [ 826  827  828  829  830  831  832  833  834  835  836  837  838  839\n",
        "   840  841  842]\n",
        " [1094 1095 1096 1097 1098 1099 1100 1101 1102 1103 1104 1105 1106 1107\n",
        "  1108 1109 1110]]\n",
        "[[ 1.  0.  0.  0.]\n",
        " [ 1.  0.  0.  0.]\n",
        " [ 1.  0.  0.  0.]\n",
        " [ 1.  0.  0.  0.]\n",
        " [ 1.  0.  0.  0.]\n",
        " [ 1.  0.  0.  0.]\n",
        " [ 1.  0.  0.  0.]\n",
        " [ 1.  0.  0.  0.]\n",
        " [ 1.  0.  0.  0.]\n",
        " [ 1.  0.  0.  0.]\n",
        " [ 1.  0.  0.  0.]\n",
        " [ 1.  0.  0.  0.]\n",
        " [ 1.  0.  0.  0.]\n",
        " [ 1.  0.  0.  0.]\n",
        " [ 1.  0.  0.  0.]\n",
        " [ 1.  0.  0.  0.]\n",
        " [ 1.  0.  0.  0.]\n",
        " [ 0.  1.  0.  0.]\n",
        " [ 0.  1.  0.  0.]\n",
        " [ 0.  1.  0.  0.]\n",
        " [ 0.  1.  0.  0.]\n",
        " [ 0.  1.  0.  0.]\n",
        " [ 0.  1.  0.  0.]\n",
        " [ 0.  1.  0.  0.]\n",
        " [ 0.  1.  0.  0.]\n",
        " [ 0.  1.  0.  0.]\n",
        " [ 0.  1.  0.  0.]\n",
        " [ 0.  1.  0.  0.]\n",
        " [ 0.  1.  0.  0.]\n",
        " [ 0.  1.  0.  0.]\n",
        " [ 0.  1.  0.  0.]\n",
        " [ 0.  1.  0.  0.]\n",
        " [ 0.  1.  0.  0.]\n",
        " [ 0.  1.  0.  0.]\n",
        " [ 0.  0.  1.  0.]\n",
        " [ 0.  0.  1.  0.]\n",
        " [ 0.  0.  1.  0.]\n",
        " [ 0.  0.  1.  0.]\n",
        " [ 0.  0.  1.  0.]\n",
        " [ 0.  0.  1.  0.]\n",
        " [ 0.  0.  1.  0.]\n",
        " [ 0.  0.  1.  0.]\n",
        " [ 0.  0.  1.  0.]\n",
        " [ 0.  0.  1.  0.]\n",
        " [ 0.  0.  1.  0.]\n",
        " [ 0.  0.  1.  0.]\n",
        " [ 0.  0.  1.  0.]\n",
        " [ 0.  0.  1.  0.]\n",
        " [ 0.  0.  1.  0.]\n",
        " [ 0.  0.  1.  0.]\n",
        " [ 0.  0.  1.  0.]\n",
        " [ 0.  0.  0.  1.]\n",
        " [ 0.  0.  0.  1.]\n",
        " [ 0.  0.  0.  1.]\n",
        " [ 0.  0.  0.  1.]\n",
        " [ 0.  0.  0.  1.]\n",
        " [ 0.  0.  0.  1.]\n",
        " [ 0.  0.  0.  1.]\n",
        " [ 0.  0.  0.  1.]\n",
        " [ 0.  0.  0.  1.]\n",
        " [ 0.  0.  0.  1.]\n",
        " [ 0.  0.  0.  1.]\n",
        " [ 0.  0.  0.  1.]\n",
        " [ 0.  0.  0.  1.]\n",
        " [ 0.  0.  0.  1.]\n",
        " [ 0.  0.  0.  1.]\n",
        " [ 0.  0.  0.  1.]\n",
        " [ 0.  0.  0.  1.]]\n",
        "[ 110  111  112  113  114  115  116  117  118  119  120  121  122  123  124\n",
        "  125  126  489  490  491  492  493  494  495  496  497  498  499  500  501\n",
        "  502  503  504  505  826  827  828  829  830  831  832  833  834  835  836\n",
        "  837  838  839  840  841  842 1094 1095 1096 1097 1098 1099 1100 1101 1102\n",
        " 1103 1104 1105 1106 1107 1108 1109 1110]\n",
        "sigma"
       ]
      },
      {
       "output_type": "stream",
       "stream": "stdout",
       "text": [
        " 14.3756697666\n",
        "(1272, 1272)"
       ]
      },
      {
       "output_type": "stream",
       "stream": "stdout",
       "text": [
        " (1272, 1272)\n"
       ]
      }
     ],
     "prompt_number": 72
    },
    {
     "cell_type": "code",
     "collapsed": false,
     "input": [
      "## check that orderedDist is still symmetric\n",
      "print np.sum(orderedDist[4, :] - orderedDist[:, 4])\n",
      "print np.sum(orderedDist[10, :] - orderedDist[:, 10])\n",
      "print np.sum(orderedDist[250, :] - orderedDist[:, 250])\n",
      "## check that orderedDist has been ordered the right way\n",
      "print orderedDist[0, 0:50]\n",
      "print distances[117, list(flatLabeled)]\n",
      "print distances[117, 0:50]\n",
      "print \n",
      "print orderedDist[3, 0:50]\n",
      "print distances[496, list(flatLabeled)]\n",
      "print distances[496, 0:50]\n",
      "print \n",
      "print orderedDist[10, 0:50]\n",
      "print distances[1102, list(flatLabeled)]\n",
      "print distances[1102, 0:50]"
     ],
     "language": "python",
     "metadata": {},
     "outputs": [
      {
       "output_type": "stream",
       "stream": "stdout",
       "text": [
        "0.0\n",
        "0.0\n",
        "0.0\n",
        "[ 0.          0.0306914   0.11911777  0.32107751  0.39682784  0.35429392\n",
        "  0.28804994  0.16643688  0.08159453  0.05010732  0.02565291  0.02341678\n",
        "  0.01219039  0.00303002  0.01059632  0.0178284   0.03066091  0.90635958\n",
        "  0.907529    0.9098329   0.91093658  0.90187463  0.88873089  0.87733954\n",
        "  0.8573245   0.84103414  0.83420167  0.86884633  0.90002097  0.90642518\n",
        "  0.90975445  0.9092      0.90768947  0.897758    0.77499781  0.79825829\n",
        "  0.79647324  0.83426089  0.7956119   0.74947407  0.65822795  0.66677444\n",
        "  0.73162866  0.74202776  0.71322776  0.53159925  0.45462626  0.41889994\n",
        "  0.42451083  0.44588537]\n",
        "[ 0.16643688  0.06644807  0.01528789  0.04488607  0.07537084  0.0665713\n",
        "  0.03049167  0.          0.01944793  0.04305431  0.07281165  0.09609737\n",
        "  0.11823964  0.17879546  0.23854998  0.27124844  0.29460178  0.8934244\n",
        "  0.89424587  0.89679108  0.89818575  0.88782618  0.87274306  0.85968294\n",
        "  0.83680095  0.81803594  0.81071692  0.85070383  0.88610157  0.89356992\n",
        "  0.89748561  0.89686453  0.89517888  0.88406937  0.76008848  0.78737267\n",
        "  0.78760285  0.83168227  0.80562875  0.75692005  0.54342918  0.38144606\n",
        "  0.4595836   0.53082238  0.58378124  0.5533372   0.58956702  0.62154398\n",
        "  0.64276429  0.64942652  0.63573083  0.78365917  0.76712017  0.7638323\n",
        "  0.77347426  0.77268616  0.77865382  0.78984825  0.82946166  0.81990862\n",
        "  0.82552771  0.82479376  0.82092084  0.80860996  0.79011247  0.7802798\n",
        "  0.7702532   0.77123467]\n",
        "[ 0.70229444  0.58300759  0.447183    0.34537304  0.30866907  0.30806442\n",
        "  0.34408127  0.4015606   0.47105541  0.57214895  0.74803733  0.847862\n",
        "  0.8663022   0.8652187   0.86916437  0.87234066  0.87641263  0.87593291\n",
        "  0.87327034  0.86851905  0.85965788  0.850249    0.84084303  0.83153061\n",
        "  0.82543362  0.8238333   0.80517741  0.79536667  0.79842586  0.78918771\n",
        "  0.77853871  0.78851968  0.78958281  0.78481073  0.78092832  0.77958019\n",
        "  0.78061221  0.78301497  0.79449967  0.79855176  0.81926834  0.81264496\n",
        "  0.79727274  0.81069861  0.84905391  0.86443586  0.86564242  0.85078219\n",
        "  0.81427866  0.79224963]\n",
        "\n",
        "[ 0.32107751  0.18483189  0.06320705  0.          0.00738296  0.01043844\n",
        "  0.00561602  0.04488607  0.11092694  0.15020217  0.19145956  0.21555501\n",
        "  0.25402102  0.34032167  0.40733618  0.43968262  0.45426073  0.87780591\n",
        "  0.87920886  0.88219671  0.88367039  0.87183411  0.85465258  0.83976469\n",
        "  0.81362181  0.79230986  0.78350442  0.82884766  0.86950824  0.87790864\n",
        "  0.88228365  0.88156254  0.87959951  0.86668647  0.71955243  0.74552521\n",
        "  0.74673412  0.79073087  0.76245212  0.71210996  0.48927965  0.28928404\n",
        "  0.34080757  0.38298335  0.43659232  0.47786735  0.56628188  0.63027177\n",
        "  0.65513406  0.64992031]\n",
        "[ 0.8573245   0.84675612  0.82385788  0.81362181  0.83708343  0.84686591\n",
        "  0.83899161  0.83680095  0.84203939  0.84536973  0.84349615  0.84033483\n",
        "  0.85463364  0.8691923   0.87638937  0.88061425  0.87515225  0.15844695\n",
        "  0.16634007  0.18053178  0.20643553  0.15164432  0.0824828   0.03412072\n",
        "  0.          0.06145072  0.04866879  0.04556032  0.15355798  0.17500819\n",
        "  0.17711593  0.17699895  0.17779609  0.1345297   0.42102769  0.48613447\n",
        "  0.49253604  0.59888047  0.56551828  0.50888757  0.5341195   0.69609171\n",
        "  0.74882761  0.74766035  0.73175855  0.7107893   0.71369133  0.7297603\n",
        "  0.73471829  0.73392179  0.7189052   0.89611906  0.88847018  0.88490835\n",
        "  0.88803464  0.88648469  0.88806429  0.89674472  0.91776023  0.91554866\n",
        "  0.91644668  0.91805662  0.9195299   0.91510673  0.90953811  0.90455706\n",
        "  0.90630541  0.91197984]\n",
        "[ 0.85612297  0.84989752  0.8288432   0.82961618  0.84888894  0.85727181\n",
        "  0.87060502  0.87448996  0.87073712  0.86013324  0.83880092  0.81514294\n",
        "  0.77408724  0.72762881  0.71051724  0.68288071  0.64858266  0.59078099\n",
        "  0.52809057  0.45504896  0.37191915  0.31306953  0.27380859  0.25130806\n",
        "  0.25253443  0.27300985  0.23745815  0.24725311  0.29947866  0.27590189\n",
        "  0.22517369  0.23314043  0.21447942  0.1889484   0.19052702  0.20759874\n",
        "  0.23947249  0.27839103  0.33572958  0.35925916  0.45914784  0.42623452\n",
        "  0.37859465  0.48756325  0.64018488  0.70530626  0.72765795  0.71001403\n",
        "  0.66622047  0.73687182]\n",
        "\n",
        "[ 0.02565291  0.00157196  0.0411132   0.19145956  0.25339164  0.22379161\n",
        "  0.16337071  0.07281165  0.02198112  0.00711625  0.          0.00383272\n",
        "  0.00631821  0.03628121  0.06391606  0.07636299  0.0910882   0.89745649\n",
        "  0.89857256  0.90107067  0.90232402  0.89238568  0.8779523   0.86544715\n",
        "  0.84349615  0.82558449  0.81825007  0.85636838  0.89048014  0.89755121\n",
        "  0.90123787  0.90063393  0.89899061  0.88817748  0.75955152  0.78479305\n",
        "  0.78371008  0.82533361  0.79398793  0.74809249  0.60278903  0.54071948\n",
        "  0.61546292  0.65581687  0.65766796  0.52385896  0.48466241  0.47182733\n",
        "  0.48321807  0.50031373]\n",
        "[ 0.89107681  0.86716776  0.8377369   0.82720019  0.8202759   0.82650592\n",
        "  0.82733314  0.81990862  0.84162392  0.85548002  0.85812893  0.8660017\n",
        "  0.8747918   0.89467672  0.91748189  0.92226063  0.9175287   0.9455621\n",
        "  0.94529973  0.94649681  0.94739461  0.9420417   0.93417173  0.92737329\n",
        "  0.91554866  0.90566335  0.90253691  0.92370684  0.94167626  0.94573126\n",
        "  0.94790074  0.94759682  0.94678068  0.94136552  0.89382139  0.9117039\n",
        "  0.9133669   0.93970224  0.93106689  0.90437398  0.87859581  0.92785618\n",
        "  0.9523925   0.95673919  0.95551362  0.95334538  0.9542332   0.9566422\n",
        "  0.95709355  0.95673559  0.95429601  0.19443293  0.15110505  0.14627799\n",
        "  0.15079142  0.12898641  0.11570136  0.03667536  0.01320337  0.\n",
        "  0.01367028  0.04214572  0.09706026  0.17353571  0.20310674  0.24468856\n",
        "  0.32232077  0.3970214 ]\n",
        "[ 0.95617805  0.92059147  0.8903739   0.87814605  0.88807995  0.90562699\n",
        "  0.92827721  0.94473013  0.95616596  0.96867648  0.97431383  0.9725188\n",
        "  0.96602069  0.95841368  0.95541574  0.95262602  0.95151051  0.94887168\n",
        "  0.94546706  0.94070709  0.93428601  0.92805528  0.92272384  0.91795409\n",
        "  0.91493668  0.91409392  0.90512553  0.90098811  0.90312763  0.89840559\n",
        "  0.89302323  0.89747215  0.89713058  0.89453561  0.89328403  0.89366712\n",
        "  0.89572253  0.89855507  0.90532567  0.90731144  0.91800627  0.91552421\n",
        "  0.91001646  0.92102367  0.94099569  0.9506701   0.95570257  0.95364278\n",
        "  0.94565844  0.95784065]\n"
       ]
      }
     ],
     "prompt_number": 59
    },
    {
     "cell_type": "code",
     "collapsed": false,
     "input": [
      "print fu\n",
      "# print fu_CMN\n",
      "\n",
      "print flatLabeled\n",
      "## add labeled frames to fu and plot\n",
      "labelProbs = np.array(fu[0:flatLabeled[0]])\n",
      "print labelProbs.shape\n",
      "for i in xrange(1, len(flatLabeled)) :\n",
      "#     print flatLabeled[i]+i, flatLabeled[i+1]-i\n",
      "#     print fu[flatLabeled[i]+i:flatLabeled[i+1]-i, :]\n",
      "    labelProbs = np.vstack((labelProbs, fl[i-1, :]))\n",
      "    print labelProbs.shape, flatLabeled[i-1]-(i-1), flatLabeled[i]-i\n",
      "    labelProbs = np.vstack((labelProbs, fu[flatLabeled[i-1]-(i-1):flatLabeled[i]-i, :]))\n",
      "    print labelProbs.shape\n",
      "\n",
      "\n",
      "labelProbs = np.vstack((labelProbs, fl[-1, :]))\n",
      "labelProbs = np.vstack((labelProbs, fu[flatLabeled[-1]-len(flatLabeled)+1:, :]))\n",
      "# labelProbs = labelProbs[1:, :]\n",
      "print labelProbs, labelProbs.shape\n",
      "\n",
      "clrs = ['r', 'g', 'b', 'm']\n",
      "fig1 = figure()\n",
      "xlabel('all points')\n",
      "fig2 = figure()\n",
      "xlabel('only unlabeled')\n",
      "fig3 = figure()\n",
      "xlabel('only unlabeled + CMN')\n",
      "\n",
      "for i in xrange(0, numClasses) :\n",
      "    figure(fig1.number); plot(labelProbs[:, i], clrs[i])\n",
      "    figure(fig2.number); plot(fu[:, i], clrs[i])\n",
      "    figure(fig3.number); plot(fu_CMN[:, i], clrs[i])\n",
      "    \n",
      "    for node in labeledPoints[i, :] :\n",
      "        figure(fig1.number); plot(np.repeat(node, 2), [0, 1.1], clrs[i])\n",
      "        figure(fig2.number); plot(np.repeat(node, 2), [0, 1.1], clrs[i])\n",
      "        figure(fig3.number); plot(np.repeat(node, 2), [0, np.max(fu_CMN)], clrs[i])"
     ],
     "language": "python",
     "metadata": {},
     "outputs": [
      {
       "output_type": "stream",
       "stream": "stdout",
       "text": [
        "[[ 0.90487952  0.06937423  0.01540234  0.01034391]\n",
        " [ 0.91135753  0.06477701  0.01427995  0.00958551]\n",
        " [ 0.90749409  0.06790392  0.01481903  0.00978296]\n",
        " ..., \n",
        " [ 0.08085823  0.02134359  0.0039072   0.89389097]\n",
        " [ 0.09567077  0.02486368  0.00459178  0.87487377]\n",
        " [ 0.10862223  0.02789211  0.00518173  0.85830394]]\n",
        "[ 110  111  112  113  114  115  116  117  118  119  120  121  122  123  124\n",
        "  125  126  489  490  491  492  493  494  495  496  497  498  499  500  501\n",
        "  502  503  504  505  826  827  828  829  830  831  832  833  834  835  836\n",
        "  837  838  839  840  841  842 1094 1095 1096 1097 1098 1099 1100 1101 1102\n",
        " 1103 1104 1105 1106 1107 1108 1109 1110]\n",
        "(110, 4)\n",
        "(111, 4) 110 110\n",
        "(111, 4)\n",
        "(112, 4) 110 110\n",
        "(112, 4)\n",
        "(113, 4) 110 110\n",
        "(113, 4)\n",
        "(114, 4) 110 110\n",
        "(114, 4)\n",
        "(115, 4) 110 110\n",
        "(115, 4)\n",
        "(116, 4) 110 110\n",
        "(116, 4)\n",
        "(117, 4) 110 110\n",
        "(117, 4)\n",
        "(118, 4) 110 110\n",
        "(118, 4)\n",
        "(119, 4) 110 110\n",
        "(119, 4)\n",
        "(120, 4) 110 110\n",
        "(120, 4)\n",
        "(121, 4) 110 110\n",
        "(121, 4)\n",
        "(122, 4) 110 110\n",
        "(122, 4)\n",
        "(123, 4) 110 110\n",
        "(123, 4)\n",
        "(124, 4) 110 110\n",
        "(124, 4)\n",
        "(125, 4) 110 110\n",
        "(125, 4)\n",
        "(126, 4) 110 110\n",
        "(126, 4)\n",
        "(127, 4) 110 472\n",
        "(489, 4)\n",
        "(490, 4) 472 472\n",
        "(490, 4)\n",
        "(491, 4) 472 472\n",
        "(491, 4)\n",
        "(492, 4) 472 472\n",
        "(492, 4)\n",
        "(493, 4) 472 472\n",
        "(493, 4)\n",
        "(494, 4) 472 472\n",
        "(494, 4)\n",
        "(495, 4) 472 472\n",
        "(495, 4)\n",
        "(496, 4) 472 472\n",
        "(496, 4)\n",
        "(497, 4) 472 472\n",
        "(497, 4)\n",
        "(498, 4) 472 472\n",
        "(498, 4)\n",
        "(499, 4) 472 472\n",
        "(499, 4)\n",
        "(500, 4) 472 472\n",
        "(500, 4)\n",
        "(501, 4) 472 472\n",
        "(501, 4)\n",
        "(502, 4) 472 472\n",
        "(502, 4)\n",
        "(503, 4) 472 472\n",
        "(503, 4)\n",
        "(504, 4) 472 472\n",
        "(504, 4)\n",
        "(505, 4) 472 472\n",
        "(505, 4)\n",
        "(506, 4) 472 792\n",
        "(826, 4)\n",
        "(827, 4) 792 792\n",
        "(827, 4)\n",
        "(828, 4) 792 792\n",
        "(828, 4)\n",
        "(829, 4) 792 792\n",
        "(829, 4)\n",
        "(830, 4) 792 792\n",
        "(830, 4)\n",
        "(831, 4) 792 792\n",
        "(831, 4)\n",
        "(832, 4) 792 792\n",
        "(832, 4)\n",
        "(833, 4) 792 792\n",
        "(833, 4)\n",
        "(834, 4) 792 792\n",
        "(834, 4)\n",
        "(835, 4) 792 792\n",
        "(835, 4)\n",
        "(836, 4) 792 792\n",
        "(836, 4)\n",
        "(837, 4) 792 792\n",
        "(837, 4)\n",
        "(838, 4) 792 792\n",
        "(838, 4)\n",
        "(839, 4) 792 792\n",
        "(839, 4)\n",
        "(840, 4) 792 792\n",
        "(840, 4)\n",
        "(841, 4) 792 792\n",
        "(841, 4)\n",
        "(842, 4) 792 792\n",
        "(842, 4)\n",
        "(843, 4) 792 1043\n",
        "(1094, 4)\n",
        "(1095, 4) 1043 1043\n",
        "(1095, 4)\n",
        "(1096, 4) 1043 1043\n",
        "(1096, 4)\n",
        "(1097, 4) 1043 1043\n",
        "(1097, 4)\n",
        "(1098, 4) 1043 1043\n",
        "(1098, 4)\n",
        "(1099, 4) 1043 1043\n",
        "(1099, 4)\n",
        "(1100, 4) 1043 1043\n",
        "(1100, 4)\n",
        "(1101, 4) 1043 1043\n",
        "(1101, 4)\n",
        "(1102, 4) 1043 1043\n",
        "(1102, 4)\n",
        "(1103, 4) 1043 1043\n",
        "(1103, 4)\n",
        "(1104, 4) 1043 1043\n",
        "(1104, 4)\n",
        "(1105, 4) 1043 1043\n",
        "(1105, 4)\n",
        "(1106, 4) 1043 1043\n",
        "(1106, 4)\n",
        "(1107, 4) 1043 1043\n",
        "(1107, 4)\n",
        "(1108, 4) 1043 1043\n",
        "(1108, 4)\n",
        "(1109, 4) 1043 1043\n",
        "(1109, 4)\n",
        "(1110, 4) 1043 1043\n",
        "(1110, 4)\n",
        "[[ 0.90487952  0.06937423  0.01540234  0.01034391]\n",
        " [ 0.91135753  0.06477701  0.01427995  0.00958551]\n",
        " [ 0.90749409  0.06790392  0.01481903  0.00978296]\n",
        " ..., \n",
        " [ 0.08085823  0.02134359  0.0039072   0.89389097]\n",
        " [ 0.09567077  0.02486368  0.00459178  0.87487377]\n",
        " [ 0.10862223  0.02789211  0.00518173  0.85830394]] (1272, 4)\n"
       ]
      }
     ],
     "prompt_number": 73
    },
    {
     "cell_type": "code",
     "collapsed": false,
     "input": [
      "sio.savemat(\"labeledPoints.mat\", {\"labeledPoints\":labeledPoints})"
     ],
     "language": "python",
     "metadata": {},
     "outputs": [],
     "prompt_number": 75
    },
    {
     "cell_type": "code",
     "collapsed": false,
     "input": [
      "sio.savemat(\"hist2demd_mult0.02_labelProbs.mat\", {\"labelProbs\":labelProbs})"
     ],
     "language": "python",
     "metadata": {},
     "outputs": [],
     "prompt_number": 70
    }
   ],
   "metadata": {}
  }
 ]
}