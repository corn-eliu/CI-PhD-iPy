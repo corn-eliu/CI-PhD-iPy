{
 "metadata": {
  "name": ""
 },
 "nbformat": 3,
 "nbformat_minor": 0,
 "worksheets": [
  {
   "cells": [
    {
     "cell_type": "code",
     "collapsed": false,
     "input": [
      "%pylab\n",
      "import numpy as np\n",
      "import cv2\n",
      "from sklearn import ensemble\n",
      "# from skimage.io import imread, imsave\n",
      "# from skimage.color import rgb2gray\n",
      "from glob import glob\n",
      "# import os"
     ],
     "language": "python",
     "metadata": {},
     "outputs": [
      {
       "output_type": "stream",
       "stream": "stdout",
       "text": [
        "Using matplotlib backend: TkAgg\n",
        "Populating the interactive namespace from numpy and matplotlib\n"
       ]
      }
     ],
     "prompt_number": 1
    },
    {
     "cell_type": "code",
     "collapsed": false,
     "input": [
      "def trainClassifier(data_frames, trimaps) :\n",
      "    # train on first frame\n",
      "    # augment with x-y positional data\n",
      "    clf = ensemble.ExtraTreesClassifier()\n",
      "    \n",
      "    print len(data_frames), len(trimaps)\n",
      "    \n",
      "    idxs = np.indices(data_frames[0].shape[:2]).swapaxes(-1, 0).swapaxes(0, 1)\n",
      "    data = np.concatenate((data_frames[0], idxs), axis=-1)\n",
      "\n",
      "    # extract training data\n",
      "    background = data[trimaps[0] == 0]\n",
      "    foreground = data[trimaps[0] == 2]\n",
      "    \n",
      "    for data_frame, trimap in zip(data_frames[1:], trimaps[1:]) :\n",
      "        print background.shape, foreground.shape\n",
      "        \n",
      "        idxs = np.indices(data_frame.shape[:2]).swapaxes(-1, 0).swapaxes(0, 1)\n",
      "        data = np.concatenate((data_frame, idxs), axis=-1)\n",
      "    \n",
      "        # extract training data\n",
      "        background = np.vstack((background, data[trimap == 0]))\n",
      "        foreground = np.vstack((foreground, data[trimap == 2]))\n",
      "        \n",
      "    print background.shape, foreground.shape\n",
      "    \n",
      "    X = np.vstack((background, foreground))\n",
      "    y = np.repeat([0.0, 1.0], [background.shape[0], foreground.shape[0]])\n",
      "    print clf.fit(X, y)\n",
      "    return clf"
     ],
     "language": "python",
     "metadata": {},
     "outputs": [],
     "prompt_number": 2
    },
    {
     "cell_type": "code",
     "collapsed": false,
     "input": [
      "def trainClassifier(data_frames, trimaps) :\n",
      "    # train on first frame\n",
      "    # augment with x-y positional data\n",
      "    clf = ensemble.ExtraTreesClassifier()\n",
      "    \n",
      "#         print len(data_frames), len(trimaps)\n",
      "    \n",
      "    idxs = np.indices(data_frames[0].shape[:2]).swapaxes(-1, 0).swapaxes(0, 1)\n",
      "#         print idxs.shape, data_frames[0].shape\n",
      "    data = np.concatenate((data_frames[0], idxs), axis=-1)\n",
      "\n",
      "    # extract training data\n",
      "    background = data[trimaps[0] == 0]\n",
      "    foreground = data[trimaps[0] == 2]\n",
      "    \n",
      "    for data_frame, trimap in zip(data_frames[1:], trimaps[1:]) :\n",
      "#             print background.shape, foreground.shape\n",
      "        \n",
      "        idxs = np.indices(data_frame.shape[:2]).swapaxes(-1, 0).swapaxes(0, 1)\n",
      "#             print idxs.shape, data_frame.shape\n",
      "        data = np.concatenate((data_frame, idxs), axis=-1)\n",
      "    \n",
      "        # extract training data\n",
      "        background = np.vstack((background, data[trimap == 0]))\n",
      "        foreground = np.vstack((foreground, data[trimap == 2]))\n",
      "        \n",
      "#         print background.shape, foreground.shape\n",
      "    \n",
      "    X = np.vstack((background, foreground))\n",
      "    y = np.repeat([0.0, 1.0], [background.shape[0], foreground.shape[0]])\n",
      "    print X.T.shape\n",
      "    print y.shape\n",
      "    print X\n",
      "    print y\n",
      "    clf.fit(X, y)\n",
      "    return clf\n",
      "\n",
      "frameNames = [\"frame-00001.png\", \"frame-00074.png\", \"frame-00213.png\"]\n",
      "trimapNames = [\"trimap-frame-00001.png\", \"trimap-frame-00074.png\", \"trimap-frame-00213.png\"]\n",
      "data = []\n",
      "tmaps = []\n",
      "for idx in xrange(0, 3) :\n",
      "    data.append(cv2.cvtColor(cv2.imread(\"../data/ribbon2/\" + frameNames[idx]), cv2.COLOR_BGR2RGB))\n",
      "    tmaps.append(cv2.cvtColor(cv2.imread(\"../data/ribbon2/\" + trimapNames[idx]), cv2.COLOR_BGR2GRAY))\n",
      "\n",
      "classifier = trainClassifier(data, tmaps)"
     ],
     "language": "python",
     "metadata": {},
     "outputs": [
      {
       "output_type": "stream",
       "stream": "stdout",
       "text": [
        "(5, 2733400)\n",
        "(2733400,)\n",
        "[[174  24 141   0   0]\n",
        " [173  23 140   0   1]\n",
        " [174  21 139   0   2]\n",
        " ..., \n",
        " [ 27  28   8 471 550]\n",
        " [ 25  26   6 472 549]\n",
        " [ 26  27   7 473 549]]\n",
        "[ 0.  0.  0. ...,  1.  1.  1.]\n"
       ]
      }
     ],
     "prompt_number": 26
    },
    {
     "cell_type": "code",
     "collapsed": false,
     "input": [
      "def trainClassifier(data_frames, trimaps) :\n",
      "    # train on first frame\n",
      "    # augment with x-y positional data\n",
      "    rtree_params = dict(max_depth=11, min_sample_count=5, use_surrogates=False, max_categories=15, calc_var_importance=False, nactive_vars=0, term_crit=(cv2.TERM_CRITERIA_MAX_ITER,1000,1), termcrit_type=cv2.TERM_CRITERIA_MAX_ITER)\n",
      "    clf = cv2.SVM()\n",
      "    \n",
      "#         print len(data_frames), len(trimaps)\n",
      "    \n",
      "    idxs = np.indices(data_frames[0].shape[:2]).swapaxes(-1, 0).swapaxes(0, 1)\n",
      "#         print idxs.shape, data_frames[0].shape\n",
      "    data = np.concatenate((data_frames[0], idxs), axis=-1)\n",
      "\n",
      "    # extract training data\n",
      "    background = data[trimaps[0] == 0]\n",
      "    foreground = data[trimaps[0] == 2]\n",
      "    \n",
      "    for data_frame, trimap in zip(data_frames[1:], trimaps[1:]) :\n",
      "#             print background.shape, foreground.shape\n",
      "        \n",
      "        idxs = np.indices(data_frame.shape[:2]).swapaxes(-1, 0).swapaxes(0, 1)\n",
      "#             print idxs.shape, data_frame.shape\n",
      "        data = np.concatenate((data_frame, idxs), axis=-1)\n",
      "    \n",
      "        # extract training data\n",
      "        background = np.vstack((background, data[trimap == 0]))\n",
      "        foreground = np.vstack((foreground, data[trimap == 2]))\n",
      "        \n",
      "#         print background.shape, foreground.shape\n",
      "    \n",
      "    X = np.array(np.vstack((background, foreground)), dtype=np.float32)\n",
      "    y = np.array(np.repeat([0, 1], [background.shape[0], foreground.shape[0]]), dtype=np.float32)\n",
      "    print np.max(X), np.max(y)\n",
      "#     clf.train(X, cv2.CV_ROW_SAMPLE, y, params=rtree_params)\n",
      "    clf.train(X, y)\n",
      "    return clf\n",
      "\n",
      "frameNames = [\"frame-00001.png\", \"frame-00074.png\", \"frame-00213.png\"]\n",
      "trimapNames = [\"trimap-frame-00001.png\", \"trimap-frame-00074.png\", \"trimap-frame-00213.png\"]\n",
      "data = []\n",
      "tmaps = []\n",
      "for idx in xrange(0, 3) :\n",
      "    data.append(cv2.cvtColor(cv2.imread(\"../data/ribbon2/\" + frameNames[idx]), cv2.COLOR_BGR2RGB))\n",
      "    tmaps.append(cv2.cvtColor(cv2.imread(\"../data/ribbon2/\" + trimapNames[idx]), cv2.COLOR_BGR2GRAY))\n",
      "\n",
      "classifier = trainClassifier(data, tmaps)\n",
      "print classifier"
     ],
     "language": "python",
     "metadata": {},
     "outputs": [
      {
       "output_type": "stream",
       "stream": "stdout",
       "text": [
        "1279.0 1.0\n",
        "<SVM 0x7f6122577ed0>"
       ]
      },
      {
       "output_type": "stream",
       "stream": "stdout",
       "text": [
        "\n"
       ]
      }
     ],
     "prompt_number": 57
    },
    {
     "cell_type": "code",
     "collapsed": false,
     "input": [
      "image = cv2.cvtColor(cv2.imread(\"../data/ribbon2/frame-00074.png\"), cv2.COLOR_BGR2RGB)\n",
      "figure(); imshow(image)\n",
      "indices = np.indices(image.shape[:2]).swapaxes(-1, 0).swapaxes(0, 1)\n",
      "data = np.array(np.concatenate((image, indices), axis=-1), dtype=np.float32).reshape((-1, 5))\n",
      "# print data.shape, data.reshape((-1, 5)).shape\n",
      "# probabilities = classifier.predict(data.reshape((-1, 5)))\n",
      "probs = np.float32( [classifier.predict(d) for d in data] )\n",
      "print probs.shape\n",
      "\n",
      "# alphaMatte = np.copy(probabilities[:, 1])\n",
      "# alphaMatte[probabilities[:, 1]>0.15] = 1\n",
      "# alphaMatte[probabilities[:, 0]>0.85] = 0\n",
      "\n",
      "alphaMatte = np.copy(probabilities[:, 1])\n",
      "alphaMatte[probabilities[:, 1]>0.5] = 1\n",
      "alphaMatte[probabilities[:, 0]>0.5] = 0\n",
      "filtAlphaMatte = cv2.GaussianBlur(np.array(alphaMatte*255, dtype=float32), (5, 5), 2.5)\n",
      "\n",
      "print filtAlphaMatte.shape, np.max(filtAlphaMatte)\n",
      "\n",
      "figure(); imshow(probabilities[:, 1].reshape(image.shape[:2]), interpolation='nearest')\n",
      "figure(); imshow(filtAlphaMatte.reshape(image.shape[:2]), interpolation='nearest')"
     ],
     "language": "python",
     "metadata": {},
     "outputs": [
      {
       "output_type": "stream",
       "stream": "stdout",
       "text": [
        "(921600,)\n",
        "(921600, 1)"
       ]
      },
      {
       "output_type": "stream",
       "stream": "stdout",
       "text": [
        " 255.0\n"
       ]
      },
      {
       "metadata": {},
       "output_type": "pyout",
       "prompt_number": 58,
       "text": [
        "<matplotlib.image.AxesImage at 0x7f6112aa2490>"
       ]
      }
     ],
     "prompt_number": 58
    },
    {
     "cell_type": "code",
     "collapsed": false,
     "input": [
      "figure(); imshow(probs.reshape(image.shape[:2]), interpolation='nearest')"
     ],
     "language": "python",
     "metadata": {},
     "outputs": [
      {
       "metadata": {},
       "output_type": "pyout",
       "prompt_number": 59,
       "text": [
        "<matplotlib.image.AxesImage at 0x7f61125bbf50>"
       ]
      }
     ],
     "prompt_number": 59
    },
    {
     "cell_type": "code",
     "collapsed": false,
     "input": [
      "classifier = trainClassifier([cv2.cvtColor(cv2.imread(\"../data/ribbon2/frame-00001.png\"), cv2.COLOR_BGR2RGB), \n",
      "                              cv2.cvtColor(cv2.imread(\"../data/ribbon2/frame-00074.png\"), cv2.COLOR_BGR2RGB), \n",
      "                              cv2.cvtColor(cv2.imread(\"../data/ribbon2/frame-000213.png\"), cv2.COLOR_BGR2RGB)], \n",
      "                             [cv2.imread(\"../data/ribbon2/trimap-frame-00001.png\"), \n",
      "                              cv2.imread(\"../data/ribbon2/trimap-frame-00074.png\"), \n",
      "                              cv2.imread(\"../data/ribbon2/trimap-frame-00213.png\")])"
     ],
     "language": "python",
     "metadata": {},
     "outputs": [
      {
       "output_type": "stream",
       "stream": "stdout",
       "text": [
        "2 2\n",
        "(2719884,)"
       ]
      },
      {
       "ename": "ValueError",
       "evalue": "all the input array dimensions except for the concatenation axis must match exactly",
       "output_type": "pyerr",
       "traceback": [
        "\u001b[0;31m---------------------------------------------------------------------------\u001b[0m\n\u001b[0;31mValueError\u001b[0m                                Traceback (most recent call last)",
        "\u001b[0;32m<ipython-input-12-42d3b472a897>\u001b[0m in \u001b[0;36m<module>\u001b[0;34m()\u001b[0m\n\u001b[1;32m      2\u001b[0m                               cv2.cvtColor(cv2.imread(\"../data/ribbon2/frame-00074.png\"), cv2.COLOR_BGR2RGB)], \n\u001b[1;32m      3\u001b[0m                              [cv2.imread(\"../data/ribbon2/trimap-frame-00001.png\"), \n\u001b[0;32m----> 4\u001b[0;31m                               cv2.imread(\"../data/ribbon2/trimap-frame-00074.png\")])\n\u001b[0m",
        "\u001b[0;32m<ipython-input-2-3c0d7d30e02e>\u001b[0m in \u001b[0;36mtrainClassifier\u001b[0;34m(data_frames, trimaps)\u001b[0m\n\u001b[1;32m     20\u001b[0m \u001b[0;34m\u001b[0m\u001b[0m\n\u001b[1;32m     21\u001b[0m         \u001b[0;31m# extract training data\u001b[0m\u001b[0;34m\u001b[0m\u001b[0;34m\u001b[0m\u001b[0m\n\u001b[0;32m---> 22\u001b[0;31m         \u001b[0mbackground\u001b[0m \u001b[0;34m=\u001b[0m \u001b[0mnp\u001b[0m\u001b[0;34m.\u001b[0m\u001b[0mvstack\u001b[0m\u001b[0;34m(\u001b[0m\u001b[0;34m(\u001b[0m\u001b[0mbackground\u001b[0m\u001b[0;34m,\u001b[0m \u001b[0mdata\u001b[0m\u001b[0;34m[\u001b[0m\u001b[0mtrimap\u001b[0m \u001b[0;34m==\u001b[0m \u001b[0;36m0\u001b[0m\u001b[0;34m]\u001b[0m\u001b[0;34m)\u001b[0m\u001b[0;34m)\u001b[0m\u001b[0;34m\u001b[0m\u001b[0m\n\u001b[0m\u001b[1;32m     23\u001b[0m         \u001b[0mforeground\u001b[0m \u001b[0;34m=\u001b[0m \u001b[0mnp\u001b[0m\u001b[0;34m.\u001b[0m\u001b[0mvstack\u001b[0m\u001b[0;34m(\u001b[0m\u001b[0;34m(\u001b[0m\u001b[0mforeground\u001b[0m\u001b[0;34m,\u001b[0m \u001b[0mdata\u001b[0m\u001b[0;34m[\u001b[0m\u001b[0mtrimap\u001b[0m \u001b[0;34m==\u001b[0m \u001b[0;36m2\u001b[0m\u001b[0;34m]\u001b[0m\u001b[0;34m)\u001b[0m\u001b[0;34m)\u001b[0m\u001b[0;34m\u001b[0m\u001b[0m\n\u001b[1;32m     24\u001b[0m \u001b[0;34m\u001b[0m\u001b[0m\n",
        "\u001b[0;32m/usr/lib/python2.7/dist-packages/numpy/core/shape_base.pyc\u001b[0m in \u001b[0;36mvstack\u001b[0;34m(tup)\u001b[0m\n\u001b[1;32m    226\u001b[0m \u001b[0;34m\u001b[0m\u001b[0m\n\u001b[1;32m    227\u001b[0m     \"\"\"\n\u001b[0;32m--> 228\u001b[0;31m     \u001b[0;32mreturn\u001b[0m \u001b[0m_nx\u001b[0m\u001b[0;34m.\u001b[0m\u001b[0mconcatenate\u001b[0m\u001b[0;34m(\u001b[0m\u001b[0;34m[\u001b[0m\u001b[0matleast_2d\u001b[0m\u001b[0;34m(\u001b[0m\u001b[0m_m\u001b[0m\u001b[0;34m)\u001b[0m \u001b[0;32mfor\u001b[0m \u001b[0m_m\u001b[0m \u001b[0;32min\u001b[0m \u001b[0mtup\u001b[0m\u001b[0;34m]\u001b[0m\u001b[0;34m,\u001b[0m \u001b[0;36m0\u001b[0m\u001b[0;34m)\u001b[0m\u001b[0;34m\u001b[0m\u001b[0m\n\u001b[0m\u001b[1;32m    229\u001b[0m \u001b[0;34m\u001b[0m\u001b[0m\n\u001b[1;32m    230\u001b[0m \u001b[0;32mdef\u001b[0m \u001b[0mhstack\u001b[0m\u001b[0;34m(\u001b[0m\u001b[0mtup\u001b[0m\u001b[0;34m)\u001b[0m\u001b[0;34m:\u001b[0m\u001b[0;34m\u001b[0m\u001b[0m\n",
        "\u001b[0;31mValueError\u001b[0m: all the input array dimensions except for the concatenation axis must match exactly"
       ]
      },
      {
       "output_type": "stream",
       "stream": "stdout",
       "text": [
        " (23787,)\n"
       ]
      }
     ],
     "prompt_number": 12
    },
    {
     "cell_type": "code",
     "collapsed": false,
     "input": [
      "image = cv2.cvtColor(cv2.imread(\"../data/pendulum/000020.png\"), cv2.COLOR_BGR2RGB)\n",
      "figure(); imshow(image)\n",
      "indices = np.indices(image.shape[:2]).swapaxes(-1, 0).swapaxes(0, 1)\n",
      "data = np.concatenate((image, indices), axis=-1)\n",
      "probabilities = classifier.predict_proba(data.reshape((-1, 5)))\n",
      "\n",
      "# alphaMatte = np.copy(probabilities[:, 1])\n",
      "# alphaMatte[probabilities[:, 1]>0.15] = 1\n",
      "# alphaMatte[probabilities[:, 0]>0.85] = 0\n",
      "\n",
      "alphaMatte = np.copy(probabilities[:, 1])\n",
      "alphaMatte[probabilities[:, 1]>0.5] = 1\n",
      "alphaMatte[probabilities[:, 0]>0.5] = 0\n",
      "filtAlphaMatte = cv2.GaussianBlur(np.array(alphaMatte*255, dtype=float32), (5, 5), 2.5)\n",
      "\n",
      "print filtAlphaMatte.shape, np.max(filtAlphaMatte)\n",
      "\n",
      "figure(); imshow(probabilities[:, 1].reshape(image.shape[:2]), interpolation='nearest')\n",
      "figure(); imshow(filtAlphaMatte.reshape(image.shape[:2]), interpolation='nearest')"
     ],
     "language": "python",
     "metadata": {},
     "outputs": [
      {
       "output_type": "stream",
       "stream": "stdout",
       "text": [
        "(57600, 1) 255.0\n"
       ]
      },
      {
       "metadata": {},
       "output_type": "pyout",
       "prompt_number": 14,
       "text": [
        "<matplotlib.image.AxesImage at 0x7ffe8127bf50>"
       ]
      }
     ],
     "prompt_number": 14
    },
    {
     "cell_type": "code",
     "collapsed": false,
     "input": [
      "import numpy as np\n",
      "from skimage.io import imread, imsave\n",
      "from skimage.color import rgb2gray\n",
      "from glob import glob\n",
      "import os\n",
      "\n",
      "files = sorted(glob(\"input_frame-*.png\"))\n",
      "\n",
      "for filename in files:\n",
      "    image = imread(filename)\n",
      "    # assume background is black\n",
      "    background = np.zeros(image.shape)\n",
      "    # assume alpha == image brightness\n",
      "    alpha = rgb2gray(image)\n",
      "    # matting assumes that\n",
      "    # image = alpha * foreground + (1 - alpha) * background\n",
      "    foreground = (image - (1.0 - alpha[..., None]) * background)\n",
      "    # for some reason if you divide by alpha it doesn't work\n",
      "    # even though according to the equations it is right\n",
      "    # look up premultiplied alpha which never fully makes sense to me!\n",
      "    result = np.empty(image.shape[:2] + (4,), dtype=np.uint8)\n",
      "    result[..., 3] = alpha * 255.0\n",
      "    result[..., :3] = foreground\n",
      "    output_filename = \"{}_foreground.png\".format(os.path.basename(filename))\n",
      "    imsave(output_filename, result)"
     ],
     "language": "python",
     "metadata": {},
     "outputs": []
    },
    {
     "cell_type": "code",
     "collapsed": false,
     "input": [
      "img = cv2.cvtColor(cv2.imread(\"../data/ribbon2/frame-00285.png\"), cv2.COLOR_BGR2RGB)\n",
      "figure(); imshow(img, interpolation='nearest')\n",
      "\n",
      "## first scribble over foreground and background\n",
      "scribble = cv2.cvtColor(cv2.imread(\"../data/ribbon2/frame-00285-scribble.png\"), cv2.COLOR_BGR2GRAY)\n",
      "figure(); imshow(scribble, interpolation='nearest')\n",
      "\n",
      "## second propragate scribbles to rest of image using watershed\n",
      "expandedScribble = np.zeros(scribble.shape, dtype=int32)\n",
      "expandedScribble[scribble == 0] = 1\n",
      "expandedScribble[scribble == 255] = 2\n",
      "cv2.watershed(img, expandedScribble)\n",
      "mask = np.zeros(expandedScribble.shape)\n",
      "mask[expandedScribble == 2] = 1\n",
      "mask = cv2.morphologyEx(mask, cv2.MORPH_CLOSE, np.ones((1,1),np.uint8))\n",
      "figure(); imshow(mask, interpolation='nearest')\n",
      "\n",
      "edges = cv2.Canny(np.array(mask, dtype=np.uint8), 1, 2)\n",
      "edges = cv2.dilate(edges, np.ones((5,5),np.uint8), iterations=3)\n",
      "figure(); imshow(edges, interpolation='nearest')\n",
      "\n",
      "trimap = np.zeros(mask.shape)\n",
      "trimap[mask == 1] = 2\n",
      "trimap[edges == np.max(edges)] = 1\n",
      "figure(); imshow(trimap, interpolation='nearest')\n",
      "\n",
      "colorTrimap = np.zeros(np.hstack((trimap.shape, 3)), dtype=uint8)\n",
      "bgIdx = np.argwhere(trimap == 0)\n",
      "colorTrimap[bgIdx[:, 0], bgIdx[:, 1], 2] = 255\n",
      "mgIdx = np.argwhere(trimap == 1)\n",
      "colorTrimap[mgIdx[:, 0], mgIdx[:, 1], 1] = 255\n",
      "fgIdx = np.argwhere(trimap == 2)\n",
      "colorTrimap[fgIdx[:, 0], fgIdx[:, 1], 0] = 255\n",
      "\n",
      "figure(); imshow(colorTrimap)\n",
      "\n",
      "## set the borders of trimap to bg as watershed sets the border of the image as a border\n",
      "# trimap[0, :] = trimap[-1, :] = 0\n",
      "# trimap[:, 0] = trimap[:, -1] = 0\n",
      "## trimap has 0 for bg, 2 for fg and 1 for middle ground\n",
      "# trimap[trimap == 1] = 0\n",
      "# trimap[trimap == -1] = 1\n",
      "\n",
      "## make middle ground bigger and allow user to decide how much it describes boundary regions between fg and bg\n",
      "## use a slider to decide num of iterations and overimpose trimap to img\n",
      "# middleground = np.zeros(trimap.shape)\n",
      "# middleground[trimap == 1] = 1\n",
      "# middleground = cv2.dilate(middleground, np.ones((5,5),np.uint8), iterations=1)\n",
      "# trimap[middleground == 1] = 1\n",
      "\n",
      "## use the found trimap to train classifier\n",
      "\n",
      "## use trained classifier to find a matte, binarize it by thresholding, use watershed to clean it up, blur and matte"
     ],
     "language": "python",
     "metadata": {},
     "outputs": [
      {
       "metadata": {},
       "output_type": "pyout",
       "prompt_number": 41,
       "text": [
        "<matplotlib.image.AxesImage at 0x7f55dcc4f910>"
       ]
      }
     ],
     "prompt_number": 41
    },
    {
     "cell_type": "code",
     "collapsed": false,
     "input": [
      "classifier = trainClassifier([img], [trimap])"
     ],
     "language": "python",
     "metadata": {},
     "outputs": [
      {
       "output_type": "stream",
       "stream": "stdout",
       "text": [
        "1 1\n",
        "(887660, 5)"
       ]
      },
      {
       "output_type": "stream",
       "stream": "stdout",
       "text": [
        " (17101, 5)\n",
        "ExtraTreesClassifier(bootstrap=False, compute_importances=None,\n",
        "           criterion=gini, max_depth=None, max_features=auto,\n",
        "           min_density=None, min_samples_leaf=1, min_samples_split=2,\n",
        "           n_estimators=10, n_jobs=1, oob_score=False, random_state=None,\n",
        "           verbose=0)"
       ]
      },
      {
       "output_type": "stream",
       "stream": "stdout",
       "text": [
        "\n"
       ]
      }
     ],
     "prompt_number": 10
    },
    {
     "cell_type": "code",
     "collapsed": false,
     "input": [
      "image = cv2.cvtColor(cv2.imread(\"../data/ribbon2/frame-00174.png\"), cv2.COLOR_BGR2RGB)\n",
      "figure(); imshow(image)\n",
      "indices = np.indices(image.shape[:2]).swapaxes(-1, 0).swapaxes(0, 1)\n",
      "data = np.concatenate((image, indices), axis=-1)\n",
      "probabilities = classifier.predict_proba(data.reshape((-1, 5)))\n",
      "alphaMatte = np.copy(probabilities[:, 1])\n",
      "alphaMatte[probabilities[:, 1]>0.15] = 1\n",
      "alphaMatte[probabilities[:, 0]>0.85] = 0\n",
      "figure(); imshow(probabilities[:, 1].reshape(image.shape[:2]), interpolation='nearest')\n",
      "figure(); imshow(alphaMatte.reshape(image.shape[:2]), interpolation='nearest')"
     ],
     "language": "python",
     "metadata": {},
     "outputs": [
      {
       "metadata": {},
       "output_type": "pyout",
       "prompt_number": 34,
       "text": [
        "<matplotlib.image.AxesImage at 0x7f23839b1a90>"
       ]
      }
     ],
     "prompt_number": 34
    },
    {
     "cell_type": "code",
     "collapsed": false,
     "input": [
      "criteria = (cv2.TERM_CRITERIA_EPS + cv2.TERM_CRITERIA_MAX_ITER, 10, 1.0)\n",
      "\n",
      "# Set flags (Just to avoid line break in the code)\n",
      "flags = cv2.KMEANS_RANDOM_CENTERS\n",
      "matte = np.array(alphaMatte, dtype=float32)\n",
      "# Apply KMeans\n",
      "compactness,labels,centers = cv2.kmeans(matte, 2 , criteria, 10, flags)\n",
      "print matte.shape, compactness, labels.shape, centers.shape\n",
      "figure(); imshow(labels.reshape(image.shape[:2]))"
     ],
     "language": "python",
     "metadata": {},
     "outputs": [
      {
       "output_type": "stream",
       "stream": "stdout",
       "text": [
        "(921600,) 976.952842405 (921600, 1) (2, 1)\n"
       ]
      },
      {
       "metadata": {},
       "output_type": "pyout",
       "prompt_number": 30,
       "text": [
        "<matplotlib.image.AxesImage at 0x7f23a84a2710>"
       ]
      }
     ],
     "prompt_number": 30
    },
    {
     "cell_type": "code",
     "collapsed": false,
     "input": [
      "X = np.random.randint(25,50,(25,2))\n",
      "Y = np.random.randint(60,85,(25,2))\n",
      "Z = np.vstack((X,Y))\n",
      "\n",
      "# convert to np.float32\n",
      "Z = np.float32(Z)\n",
      "\n",
      "# define criteria and apply kmeans()\n",
      "criteria = (cv2.TERM_CRITERIA_EPS + cv2.TERM_CRITERIA_MAX_ITER, 10, 1.0)\n",
      "ret,label,center=cv2.kmeans(Z,2,criteria,10,cv2.KMEANS_RANDOM_CENTERS)\n",
      "print Z.shape, ret, label.shape, center.shape\n",
      "\n",
      "# Now separate the data, Note the flatten()\n",
      "A = Z[label.ravel()==0]\n",
      "B = Z[label.ravel()==1]\n",
      "\n",
      "# Plot the data\n",
      "plt.scatter(A[:,0],A[:,1])\n",
      "plt.scatter(B[:,0],B[:,1],c = 'r')\n",
      "plt.scatter(center[:,0],center[:,1],s = 80,c = 'y', marker = 's')\n",
      "plt.xlabel('Height'),plt.ylabel('Weight')\n",
      "plt.show()"
     ],
     "language": "python",
     "metadata": {},
     "outputs": [
      {
       "output_type": "stream",
       "stream": "stdout",
       "text": [
        "(50, 2) 5362.95999622 (50, 1) (2, 2)\n"
       ]
      }
     ],
     "prompt_number": 27
    },
    {
     "cell_type": "code",
     "collapsed": false,
     "input": [
      "##tryout the classifier\n",
      "image = imread(\"../data/ribbon2/frame-00174.png\")\n",
      "newBg = imread(\"../data/ribbon1_newbg/bg.png\")\n",
      "indices = np.indices(image.shape[:2]).swapaxes(-1, 0).swapaxes(0, 1)\n",
      "data = np.concatenate((image, indices), axis=-1)\n",
      "probabilities = classifier.predict_proba(data.reshape((-1, 5)))\n",
      "print probabilities.shape\n",
      "alphaMatte = probabilities[:, 1]\n",
      "alphaMatte[probabilities[:, 1]>0.5] = 1\n",
      "alphaMatte[probabilities[:, 0]>0.5] = 0\n",
      "# alphaMatte[alphaMatte>0] = 1\n",
      "# alphaMatte[probabilities[:, 1] >= 0.7] = 1\n",
      "# alphaMatte[probabilities[:, 2] >= 0.7] = 0\n",
      "\n",
      "\n",
      "# alphaMatte = (1-alphaMatte[:, 0])+(1-alphaMatte[:, 1])+alphaMatte[:, 2]\n",
      "# alphaMatte = (1-cv2.bilateralFilter(np.array(alphaMatte[:, 0]*255, dtype=float32), 15, 128, 128)/255)+(1-cv2.bilateralFilter(np.array(alphaMatte[:, 1]*255, dtype=float32), 15, 128, 128)/255)+cv2.bilateralFilter(np.array(alphaMatte[:, 2]*255, dtype=float32), 15, 128, 128)/255\n",
      "# alphaMatte /= max(alphaMatte)\n",
      "# alphaMatte = alphaMatte[:, 2]\n",
      "# print alphaMatte[272000, 0], alphaMatte[272000, 1], alphaMatte[272000, 2]\n",
      "# print max(alphaMatte)\n",
      "alphaMatte = alphaMatte.reshape(image.shape[:2])\n",
      "figure(); imshow(probabilities[:, 0].reshape(image.shape[:2]), interpolation='nearest')\n",
      "figure(); imshow(alphaMatte, interpolation='nearest')\n",
      "# filtAlphaMatte = cv2.bilateralFilter(np.array(alphaMatte*255, dtype=float32), 15, 128, 128)/255\n",
      "# filtAlphaMatte = cv2.blur(np.array(alphaMatte*255, dtype=float32), (7, 7))/255\n",
      "# filtAlphaMatte = cv2.GaussianBlur(np.array(alphaMatte*255, dtype=float32), (5, 5), 2.5)/255\n",
      "filtAlphaMatte = cv2.medianBlur(np.array(alphaMatte*255, dtype=float32), 5)/255\n",
      "filtAlphaMatte = cv2.GaussianBlur(filtAlphaMatte, (7, 7), 10.0)\n",
      "figure(); imshow(filtAlphaMatte, interpolation='nearest')\n",
      "\n",
      "filtAlphaMatte = np.repeat(np.reshape(filtAlphaMatte, np.hstack((image.shape[0:2], 1))), image.shape[-1], axis=-1)\n",
      "newImg = (image/255.0)*filtAlphaMatte+(newBg/255.0)*(1-filtAlphaMatte)\n",
      "# newImg = np.round(newBg*ones_like(matte))\n",
      "# newImg[:, :, -1] = (filtResult/255)\n",
      "# newImg[mask==1] = image[mask==1]\n",
      "figure(); imshow(newImg, interpolation='nearest')\n",
      "figure(); imshow(image, interpolation='nearest')"
     ],
     "language": "python",
     "metadata": {},
     "outputs": []
    }
   ],
   "metadata": {}
  }
 ]
}