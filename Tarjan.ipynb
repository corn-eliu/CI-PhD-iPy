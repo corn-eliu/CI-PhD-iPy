{
 "metadata": {
  "name": ""
 },
 "nbformat": 3,
 "nbformat_minor": 0,
 "worksheets": [
  {
   "cells": [
    {
     "cell_type": "code",
     "collapsed": false,
     "input": [
      "def strongly_connected_components(graph):\n",
      "    \"\"\"\n",
      "    Tarjan's Algorithm (named for its discoverer, Robert Tarjan) is a graph theory algorithm\n",
      "    for finding the strongly connected components of a graph.\n",
      "    \n",
      "    Based on: http://en.wikipedia.org/wiki/Tarjan%27s_strongly_connected_components_algorithm\n",
      "    \"\"\"\n",
      "\n",
      "    index_counter = [0]\n",
      "    stack = []\n",
      "    lowlinks = {}\n",
      "    index = {}\n",
      "    result = []\n",
      "    \n",
      "    def strongconnect(node):\n",
      "        # set the depth index for this node to the smallest unused index\n",
      "        index[node] = index_counter[0]\n",
      "        lowlinks[node] = index_counter[0]\n",
      "        index_counter[0] += 1\n",
      "        stack.append(node)\n",
      "    \n",
      "        # Consider successors of `node`\n",
      "        try:\n",
      "            successors = graph[node]\n",
      "        except:\n",
      "            successors = []\n",
      "        for successor in successors:\n",
      "            if successor not in lowlinks:\n",
      "                # Successor has not yet been visited; recurse on it\n",
      "                strongconnect(successor)\n",
      "                lowlinks[node] = min(lowlinks[node],lowlinks[successor])\n",
      "            elif successor in stack:\n",
      "                # the successor is in the stack and hence in the current strongly connected component (SCC)\n",
      "                lowlinks[node] = min(lowlinks[node],index[successor])\n",
      "        \n",
      "        # If `node` is a root node, pop the stack and generate an SCC\n",
      "        if lowlinks[node] == index[node]:\n",
      "            connected_component = []\n",
      "            \n",
      "            while True:\n",
      "                successor = stack.pop()\n",
      "                connected_component.append(successor)\n",
      "                if successor == node: break\n",
      "            component = tuple(connected_component)\n",
      "            # storing the result\n",
      "            result.append(component)\n",
      "    \n",
      "    for node in graph:\n",
      "        if node not in lowlinks:\n",
      "            strongconnect(node)\n",
      "    \n",
      "    return result"
     ],
     "language": "python",
     "metadata": {},
     "outputs": [],
     "prompt_number": 1
    }
   ],
   "metadata": {}
  }
 ]
}