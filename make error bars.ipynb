{
 "metadata": {
  "name": "",
  "signature": "sha256:43aedb527c135cbc105f91bd104c92878f5c7290c49ceb046e8b72686003ca72"
 },
 "nbformat": 3,
 "nbformat_minor": 0,
 "worksheets": [
  {
   "cells": [
    {
     "cell_type": "code",
     "collapsed": false,
     "input": [
      "%pylab\n",
      "import numpy as np"
     ],
     "language": "python",
     "metadata": {},
     "outputs": [
      {
       "output_type": "stream",
       "stream": "stdout",
       "text": [
        "Using matplotlib backend: TkAgg\n",
        "Populating the interactive namespace from numpy and matplotlib\n"
       ]
      }
     ],
     "prompt_number": 2
    },
    {
     "cell_type": "code",
     "collapsed": false,
     "input": [
      "usInteraction = np.array([1721, 1392, 1474])-np.array([660, 585, 780])\n",
      "# usComputationSpeedUp = 3.7/40.0 ## speed up from 40 secs per optimization (for 300 output frames) to 3.7 second using compression of 2\n",
      "# usComputationSpeedUp = 1.0/40.0 ## speed up from 40 secs per optimization (for 300 output frames) to 1 second using compression of 3\n",
      "usComputationSpeedUp = 0.5/40.0 ## speed up from 40 secs per optimization (for 300 output frames) to 0.5 second using compression of 4\n",
      "usComputation = np.array([660, 585, 780])*usComputationSpeedUp\n",
      "print usComputation\n",
      "usTime = usComputation+usInteraction\n",
      "aeTime = np.array([2050, 1620, 1380])\n",
      "expertTime = np.array([810, 4804, 3261])\n",
      "error_kw={'ecolor':'midnightblue', 'capthick':'3', 'elinewidth':'3'}\n",
      "color=('greenyellow', 'greenyellow', 'orangered', 'orangered')\n",
      "font = {'family' : 'serif',\n",
      "        'weight' : 'bold',\n",
      "        'size'   : 18}\n",
      "\n",
      "matplotlib.rc('font', **font)"
     ],
     "language": "python",
     "metadata": {},
     "outputs": [
      {
       "output_type": "stream",
       "stream": "stdout",
       "text": [
        "[ 8.25    7.3125  9.75  ]\n"
       ]
      }
     ],
     "prompt_number": 32
    },
    {
     "cell_type": "code",
     "collapsed": false,
     "input": [
      "figure(figsize=(25, 3), dpi=200)\n",
      "means = np.array([np.mean(usTime), np.mean(aeTime), np.mean(expertTime)])\n",
      "pos = np.arange(len(means))\n",
      "stds = np.array([np.std(usTime), np.std(aeTime), np.std(expertTime)])\n",
      "barh(pos, means, height=0.7, xerr=stds, error_kw=error_kw, align='center', color=color[1:])\n",
      "yticks(pos, ('Ours', 'AfterEffects', 'Experts'))\n",
      "xlabel('Time [Secs]')\n",
      "tight_layout()"
     ],
     "language": "python",
     "metadata": {},
     "outputs": [],
     "prompt_number": 34
    },
    {
     "cell_type": "code",
     "collapsed": false,
     "input": [
      "figure(figsize=(25, 4), dpi=200)\n",
      "means = np.array([np.mean(usTime), np.mean(usTime-usComputation), np.mean(aeTime), np.mean(expertTime)])\n",
      "pos = np.arange(len(means))\n",
      "stds = np.array([np.std(usTime), np.std(usTime-usComputation), np.std(aeTime), np.std(expertTime)])\n",
      "barh(pos, means, height=0.7, xerr=stds, error_kw=error_kw, align='center', color=color)\n",
      "yticks(pos, ('Ours Total', 'Ours Interaction', 'AfterEffects', 'Experts'))\n",
      "xlabel('Time [Secs]')\n",
      "tight_layout()"
     ],
     "language": "python",
     "metadata": {},
     "outputs": [],
     "prompt_number": 11
    }
   ],
   "metadata": {}
  }
 ]
}