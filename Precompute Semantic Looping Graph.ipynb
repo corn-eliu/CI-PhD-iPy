{
 "metadata": {
  "name": "",
  "signature": "sha256:9f9a6234b718a425fb632cc5335189d55e57981336b85ff2cdcff1bd4515f48d"
 },
 "nbformat": 3,
 "nbformat_minor": 0,
 "worksheets": [
  {
   "cells": [
    {
     "cell_type": "code",
     "collapsed": false,
     "input": [
      "## Imports and defines\n",
      "%pylab\n",
      "import numpy as np\n",
      "import sys\n",
      "import scipy as sp\n",
      "\n",
      "import cv2\n",
      "import time\n",
      "import os\n",
      "import scipy.io as sio\n",
      "import glob\n",
      "\n",
      "from PIL import Image\n",
      "from PySide import QtCore, QtGui\n",
      "\n",
      "import GraphWithValues as gwv\n",
      "import VideoTexturesUtils as vtu\n",
      "import opengm\n",
      "\n",
      "import shutil\n",
      "\n",
      "app = QtGui.QApplication(sys.argv)\n",
      "\n",
      "# dataPath = \"/home/ilisescu/PhD/data/\"\n",
      "# dataSet = \"havana/\"\n",
      "dataPath = \"/media/ilisescu/Data1/PhD/data/\"\n",
      "# dataSet = \"clouds_subsample10/\"\n",
      "# dataSet = \"theme_park_cloudy/\"\n",
      "# dataSet = \"theme_park_sunny/\"\n",
      "dataSet = \"candle1/segmentedAndCropped\"\n",
      "formatString = \"{:05d}.png\""
     ],
     "language": "python",
     "metadata": {},
     "outputs": [
      {
       "output_type": "stream",
       "stream": "stdout",
       "text": [
        "Using matplotlib backend: TkAgg\n",
        "Populating the interactive namespace from numpy and matplotlib\n"
       ]
      }
     ],
     "prompt_number": 1
    },
    {
     "cell_type": "code",
     "collapsed": false,
     "input": [
      "DICT_ORIGINAL_DATASET = 'original_dataset'\n",
      "DICT_FRAME_LOCS = 'frame_locs'\n",
      "DICT_SEQUENCE_LENGTH = 'sequence_length'\n",
      "DICT_ANCHOR_POINT = 'anchor_point'"
     ],
     "language": "python",
     "metadata": {},
     "outputs": [],
     "prompt_number": 2
    },
    {
     "cell_type": "code",
     "collapsed": false,
     "input": [
      "## compute euclidean distance assuming f is an array where each row is a flattened image (1xN array, N=W*H*Channels)\n",
      "## euclidean distance defined as the length of the the displacement vector:\n",
      "## len(q-p) = sqrt(len(q)^2+len(p)^2 - 2*dot(p, q)) where p and q are two images in vector format and 1xN size\n",
      "def distEuc(f) :\n",
      "    ## gives sum over squared intensity values for each image\n",
      "    ff = np.sum(f*f, axis=1)\n",
      "    ## first term is sum between each possible combination of frames\n",
      "    ## second term is the the dot product between each frame as in the formula above\n",
      "    d = np.sqrt(np.reshape(ff, [len(ff),1])+ff.T - 2*np.dot(f, f.T))\n",
      "    return d\n",
      "\n",
      "def distEuc2(f1, f2) :\n",
      "    ## gives sum over squared intensity values for each image\n",
      "    ff1 = np.sum(f1*f1, axis=1)\n",
      "    ff2 = np.sum(f2*f2, axis=1)\n",
      "#     print ff1.shape\n",
      "#     print ff2.shape\n",
      "    ## first term is sum between each possible combination of frames\n",
      "    ## second term is the the dot product between each frame as in the formula above\n",
      "#     print \"askdfh\", np.repeat(np.reshape(ff1, [len(ff1),1]), len(ff2), axis=1).shape, np.repeat(np.reshape(ff2, [1, len(ff2)]), len(ff1), axis=0).shape\n",
      "    d = np.sqrt(np.repeat(np.reshape(ff1, [len(ff1),1]), len(ff2), axis=1)+np.repeat(np.reshape(ff2, [1, len(ff2)]), len(ff1), axis=0) - 2*np.dot(f1, f2.T))\n",
      "    return d"
     ],
     "language": "python",
     "metadata": {},
     "outputs": [],
     "prompt_number": 3
    },
    {
     "cell_type": "code",
     "collapsed": false,
     "input": [
      "def imgIndicesToLinear(rowRange, colRange, channels, imgSize) :\n",
      "    ## repeat col indices channels times to be able to index the 3 channels\n",
      "    colsWithChannels = colRange.repeat(channels)*channels+np.repeat([np.arange(channels)], len(colRange), axis=0).flatten()\n",
      "    idxs = colsWithChannels.reshape((1, len(colsWithChannels))).repeat(len(rowRange), axis=0).flatten()+(rowRange*imgSize[1]*channels).repeat(len(colsWithChannels))\n",
      "    return idxs\n",
      "\n",
      "def getLinearIndicesOfFrameOverlap(aFrameSize, bFrameSize, aAnchorPoint, bAnchorPoint) :\n",
      "    ## translation vector for matching b's frame coordinate system to the a's frame one\n",
      "    translation = aAnchorPoint-bAnchorPoint\n",
      "    \n",
      "    ## moving b's frame corners into a's frame coordinate system\n",
      "    bFrameCorners = np.array([[0, 0], bFrameSize[::-1]]) + translation\n",
      "    \n",
      "    ## overlap corners in a's frame coordinate system\n",
      "    aOverlapCorners = np.array([[np.max([bFrameCorners[0, 0], 0]), \n",
      "                                np.max([bFrameCorners[0, 1], 0])],\n",
      "                               [np.min([bFrameCorners[1, 0], aFrameSize[1]]), \n",
      "                                np.max([bFrameCorners[1, 1], aFrameSize[0]])]])\n",
      "    \n",
      "    ## get overlap corners in b's frame coordinate system\n",
      "    bOverlapCorners = aOverlapCorners-translation\n",
      "\n",
      "    aLinearIndices = imgIndicesToLinear(np.arange(aOverlapCorners[0, 1], aOverlapCorners[1, 1]),\n",
      "                                        np.arange(aOverlapCorners[0, 0], aOverlapCorners[1, 0]), 3, aFrameSize)\n",
      "    bLinearIndices = imgIndicesToLinear(np.arange(bOverlapCorners[0, 1], bOverlapCorners[1, 1]),\n",
      "                                        np.arange(bOverlapCorners[0, 0], bOverlapCorners[1, 0]), 3, bFrameSize)\n",
      "    \n",
      "    return aLinearIndices, bLinearIndices\n",
      "\n",
      "# iThFrameLinearIndices, jThFrameLinearIndices = getLinearIndicesOfFrameOverlap(iThLoopFrameSize, jThLoopFrameSize, iThLoopAnchorPoint, jThLoopAnchorPoint)"
     ],
     "language": "python",
     "metadata": {},
     "outputs": [],
     "prompt_number": 4
    },
    {
     "cell_type": "code",
     "collapsed": false,
     "input": [
      "def vectorisedMinusLogMultiNormal(dataPoints, means, var, normalized = True) :\n",
      "    if (dataPoints.shape[1] != means.shape[1] or np.any(dataPoints.shape[1] != np.array(var.shape)) \n",
      "        or len(var.shape) != 2 or var.shape[0] != var.shape[1]) :\n",
      "        raise Exception(\"Data shapes don't agree data(\" + np.string_(dataPoints.shape) + \") mean(\" + np.string_(means.shape) + \n",
      "                        \") var(\" + np.string_(var.shape) + \")\")\n",
      "    \n",
      "    D = float(dataPoints.shape[1])\n",
      "    n = -0.5*np.log(np.linalg.det(var))-(D/2.0)*np.log(2.0*np.pi)\n",
      "    \n",
      "    ## this does 0.5*dot(dot(data-mean, varInv), data-mean)\n",
      "    varInv = np.linalg.inv(var)\n",
      "    dataMinusMean = dataPoints-means\n",
      "    \n",
      "    ps = []\n",
      "    for i in xrange(int(D)) :\n",
      "        ps.append(np.sum((dataMinusMean)*varInv[:, i], axis=-1))\n",
      "    \n",
      "    ps = np.array(ps).T\n",
      "    \n",
      "    ps = -0.5*np.sum(ps*(dataMinusMean), axis=-1)\n",
      "    \n",
      "    if normalized :\n",
      "        return n-ps\n",
      "    else :\n",
      "        return -ps\n",
      "# s = time.time()\n",
      "# vectorisedMinusLogMultiNormal(semanticDist.reshape((len(semanticDist), 1)), np.array([0.0]).reshape((1, 1)), np.array([0.0001]).reshape((1, 1)), True)\n",
      "# print time.time() - s\n",
      "# s = time.time()\n",
      "# vectorisedMinusLogMultiNormal(semanticLabels, np.array(desiredLabel).reshape((1, 2)), np.eye(2)*0.0001, True)"
     ],
     "language": "python",
     "metadata": {},
     "outputs": [],
     "prompt_number": 5
    },
    {
     "cell_type": "code",
     "collapsed": false,
     "input": [
      "### this is done using matrices\n",
      "def solveSparseDynProgMRF(unaryCosts, pairwiseCosts, nodesConnectedToLabel) :\n",
      "    ## assumes unaryCosts has 1 row for each label and 1 col for each variable\n",
      "    ## assumes arrow heads are rows and arrow tails are cols in pairwiseCosts\n",
      "    \n",
      "    ## use the unary and pairwise costs to compute the min cost paths at each node\n",
      "    # each column represents point n and each row says the index of the k-state that is chosen for the min cost path\n",
      "    minCostPaths = np.zeros([unaryCosts.shape[0], unaryCosts.shape[1]], dtype=int)\n",
      "    # contains the min cost to reach a certain state k (i.e. row) for point n (i.e. column)\n",
      "    minCosts = np.zeros([unaryCosts.shape[0], unaryCosts.shape[1]])\n",
      "    # the first row of minCosts is just the unary cost\n",
      "    minCosts[:, 0] = unaryCosts[:, 0]\n",
      "    minCostPaths[:, 0] = np.arange(0, unaryCosts.shape[0])        \n",
      "    \n",
      "    k = unaryCosts.shape[0]\n",
      "    for n in xrange(1, unaryCosts.shape[1]) :\n",
      "        costsPerVariableLabelEdge = minCosts[nodesConnectedToLabel, n-1]\n",
      "        costsPerVariableLabelEdge += pairwiseCosts[arange(len(pairwiseCosts)).reshape((len(pairwiseCosts), 1)).repeat(nodesConnectedToLabel.shape[-1], axis=-1), nodesConnectedToLabel]\n",
      "        costsPerVariableLabelEdge += unaryCosts[:, n].reshape((len(unaryCosts), 1)).repeat(nodesConnectedToLabel.shape[-1], axis=-1)\n",
      "        minCostsIdxs = np.argmin(costsPerVariableLabelEdge, axis=-1)\n",
      "        ## minCosts\n",
      "        minCosts[:, n] = costsPerVariableLabelEdge[arange(len(unaryCosts)), minCostsIdxs]\n",
      "        ## minCostPaths\n",
      "        minCostPaths[:, n] = nodesConnectedToLabel[arange(len(unaryCosts)), minCostsIdxs]\n",
      "    \n",
      "    \n",
      "    ## now find the min cost path starting from the right most n with lowest cost\n",
      "    minCostTraversal = np.zeros(unaryCosts.shape[1], dtype=np.int)\n",
      "    ## last node is the node where the right most node with lowest cost\n",
      "    minCostTraversal[-1] = np.argmin(minCosts[:, -1]) #minCostPaths[np.argmin(minCosts[:, -1]), -1]\n",
      "    if np.min(minCosts[:, -1]) == np.inf :\n",
      "        minCostTraversal[-1] = np.floor((unaryCosts.shape[0])/2)\n",
      "    \n",
      "    for i in xrange(len(minCostTraversal)-2, -1, -1) :\n",
      "        minCostTraversal[i] = minCostPaths[minCostTraversal[i+1], i+1]\n",
      "        \n",
      "    return minCostTraversal, np.min(minCosts[:, -1]), minCostPaths"
     ],
     "language": "python",
     "metadata": {},
     "outputs": [],
     "prompt_number": 6
    },
    {
     "cell_type": "code",
     "collapsed": false,
     "input": [
      "## setup precomputed loops for each semantics --> should save loops in this format in the first place when I make them\n",
      "loopedSemantics = []\n",
      "\n",
      "## loop one from candle1\n",
      "loopedSemantics.append({\n",
      "                        DICT_ORIGINAL_DATASET:\"candle1/segmentedAndCropped\",\n",
      "                        DICT_FRAME_LOCS:[dataPath+\"candle1/segmentedAndCropped/frame-{:05d}.png\".format(i+1) for i in xrange(922, 1122+1)],\n",
      "                        DICT_SEQUENCE_LENGTH:201,\n",
      "                        DICT_ANCHOR_POINT:np.array([360, 700])\n",
      "                        })\n",
      "\n",
      "## loop two from candle1\n",
      "loopedSemantics.append({\n",
      "                        DICT_ORIGINAL_DATASET:\"candle1/segmentedAndCropped\",\n",
      "                        DICT_FRAME_LOCS:[dataPath+\"candle1/segmentedAndCropped/frame-{:05d}.png\".format(i+1) for i in xrange(549, 654+1)],\n",
      "                        DICT_SEQUENCE_LENGTH:106,\n",
      "                        DICT_ANCHOR_POINT:np.array([360, 700])\n",
      "                        })\n",
      "## loop for candle left\n",
      "loopedSemantics.append({\n",
      "                        DICT_ORIGINAL_DATASET:\"candle3/stabilized/segmentedAndCropped/\",\n",
      "                        DICT_FRAME_LOCS:[dataPath+\"candle3/stabilized/segmentedAndCropped/frame-{:05d}.png\".format(i+1) for i in xrange(512, 723+1)],\n",
      "                        DICT_SEQUENCE_LENGTH:212,\n",
      "                        DICT_ANCHOR_POINT:np.array([550, 500])\n",
      "                        })\n",
      "## loop for candle right\n",
      "loopedSemantics.append({\n",
      "                        DICT_ORIGINAL_DATASET:\"candle3/stabilized/segmentedAndCropped/\",\n",
      "                        DICT_FRAME_LOCS:[dataPath+\"candle3/stabilized/segmentedAndCropped/frame-{:05d}.png\".format(i+1) for i in xrange(1072, 1268+1)],\n",
      "                        DICT_SEQUENCE_LENGTH:197,\n",
      "                        DICT_ANCHOR_POINT:np.array([550, 500])\n",
      "                        })\n",
      "\n",
      "## do some integrity checks\n",
      "for semantic in loopedSemantics :\n",
      "    if len(semantic[DICT_FRAME_LOCS]) <= 0:\n",
      "        raise Exception(\"Loop does not contain any frames\")\n",
      "    if len(semantic[DICT_FRAME_LOCS]) != semantic[DICT_SEQUENCE_LENGTH] :\n",
      "        raise Exception(\"Sequence length does not match number of frame locations\")\n",
      "        \n",
      "overlapFrames = 5\n",
      "      \n",
      "transitionSequences = []\n",
      "transitionSequences.append({\n",
      "                        DICT_ORIGINAL_DATASET:\"candle3/stabilized/segmentedAndCropped/\",\n",
      "                        DICT_FRAME_LOCS:[dataPath+\"candle3/stabilized/segmentedAndCropped/frame-{:05d}.png\".format(i+1) for i in xrange(0, 511+overlapFrames+1)],\n",
      "                        DICT_SEQUENCE_LENGTH:517,\n",
      "                        DICT_ANCHOR_POINT:np.array([550, 500])})\n",
      "\n",
      "transitionSequences.append({\n",
      "                        DICT_ORIGINAL_DATASET:\"candle3/stabilized/segmentedAndCropped/\",\n",
      "                        DICT_FRAME_LOCS:[dataPath+\"candle3/stabilized/segmentedAndCropped/frame-{:05d}.png\".format(i+1) for i in xrange(724-overlapFrames, 1071+overlapFrames+1)],\n",
      "                        DICT_SEQUENCE_LENGTH:358,\n",
      "                        DICT_ANCHOR_POINT:np.array([550, 500])})\n",
      "\n",
      "transitionSequences.append({\n",
      "                        DICT_ORIGINAL_DATASET:\"candle3/stabilized/segmentedAndCropped/\",\n",
      "                        DICT_FRAME_LOCS:[dataPath+\"candle3/stabilized/segmentedAndCropped/frame-{:05d}.png\".format(i+1) for i in xrange(1269-overlapFrames, 1513+1)],\n",
      "                        DICT_SEQUENCE_LENGTH:250,\n",
      "                        DICT_ANCHOR_POINT:np.array([550, 500])})\n",
      "\n",
      "## do some integrity checks\n",
      "for transition in transitionSequences :\n",
      "    if len(transition[DICT_FRAME_LOCS]) <= 0:\n",
      "        raise Exception(\"Sequence does not contain any frames\")\n",
      "    if len(transition[DICT_FRAME_LOCS]) != transition[DICT_SEQUENCE_LENGTH] :\n",
      "        raise Exception(\"Sequence length does not match number of frame locations\")"
     ],
     "language": "python",
     "metadata": {},
     "outputs": [],
     "prompt_number": 7
    },
    {
     "cell_type": "code",
     "collapsed": false,
     "input": [
      "## compute distance matrix between frames of different loops\n",
      "# interLoopDistances = {}\n",
      "# s = time.time()\n",
      "# for i in xrange(len(loopedSemantics)) :\n",
      "    \n",
      "#     t = time.time()\n",
      "#     iThLoopFrameSize = np.array(cv2.imread(loopedSemantics[i][DICT_FRAME_LOCS][0]).shape[0:2])\n",
      "#     iThLoopFrames = np.zeros((loopedSemantics[i][DICT_SEQUENCE_LENGTH], np.prod(iThLoopFrameSize)*3), dtype=np.float32)\n",
      "    \n",
      "#     for frame in xrange(loopedSemantics[i][DICT_SEQUENCE_LENGTH]) :\n",
      "#         iThLoopFrames[frame, :] = np.array(cv2.cvtColor(cv2.imread(loopedSemantics[i][DICT_FRAME_LOCS][frame]), \n",
      "#                                                         cv2.COLOR_BGR2RGB), dtype=np.float32).reshape((iThLoopFrames.shape[1]))/255.0\n",
      "#     print \"Loaded frames of loop\", i, \"in\", np.string_(time.time() - t), \"seconds\"; sys.stdout.flush()\n",
      "    \n",
      "#     if np.string_(i) not in interLoopDistances.keys() :\n",
      "#         t = time.time()\n",
      "#         interLoopDistances[np.string_(i)] = distEuc(iThLoopFrames)\n",
      "#         print \"Computed distances in loop\", i, \"in\", np.string_(time.time() - t), \"seconds\"; sys.stdout.flush()\n",
      "    \n",
      "#     for j in xrange(i+1, len(loopedSemantics)) :\n",
      "        \n",
      "#         t = time.time()\n",
      "#         jThLoopFrameSize = np.array(cv2.imread(loopedSemantics[j][DICT_FRAME_LOCS][0]).shape[0:2])\n",
      "#         jThLoopFrames = np.zeros((loopedSemantics[j][DICT_SEQUENCE_LENGTH], np.prod(jThLoopFrameSize)*3), dtype=np.float32)\n",
      "        \n",
      "#         for frame in xrange(loopedSemantics[j][DICT_SEQUENCE_LENGTH]) :\n",
      "#             jThLoopFrames[frame, :] = np.array(cv2.cvtColor(cv2.imread(loopedSemantics[j][DICT_FRAME_LOCS][frame]), \n",
      "#                                                             cv2.COLOR_BGR2RGB), dtype=np.float32).reshape((jThLoopFrames.shape[1]))/255.0\n",
      "#         print \"Loaded frames of loop\", j, \"in\", np.string_(time.time() - t), \"seconds\"; sys.stdout.flush()\n",
      "        \n",
      "#         if np.string_(i)+np.string_(j) not in interLoopDistances.keys() :\n",
      "#             t = time.time()\n",
      "#             if np.any(iThLoopFrameSize != jThLoopFrameSize) :\n",
      "#                 iThFrameLinearIndices, jThFrameLinearIndices = getLinearIndicesOfFrameOverlap(iThLoopFrameSize, jThLoopFrameSize,\n",
      "#                                                                                               loopedSemantics[i][DICT_ANCHOR_POINT],\n",
      "#                                                                                               loopedSemantics[j][DICT_ANCHOR_POINT])\n",
      "#                 interLoopDistances[np.string_(i)+np.string_(j)] = distEuc2(iThLoopFrames[:, iThFrameLinearIndices],\n",
      "#                                                                            jThLoopFrames[:, jThFrameLinearIndices])\n",
      "#             else :\n",
      "#                 interLoopDistances[np.string_(i)+np.string_(j)] = distEuc2(iThLoopFrames, jThLoopFrames)\n",
      "\n",
      "#             print \"Computed distance between\", i, \"and\", j, \"in\", np.string_(time.time() - t), \"seconds\"; sys.stdout.flush()\n",
      "        \n",
      "# print \"Done in\", np.string_(time.time() - s), \"seconds\"\n",
      "# del iThLoopFrames, jThLoopFrames\n",
      "\n",
      "# np.save(dataPath + \"candle_semantics_interLoopDistances.npy\", interLoopDistances)\n",
      "interLoopDistances = np.load(dataPath+\"candle_semantics_interLoopDistances.npy\").item(0)"
     ],
     "language": "python",
     "metadata": {},
     "outputs": [],
     "prompt_number": 8
    },
    {
     "cell_type": "code",
     "collapsed": false,
     "input": [
      "# ## distances between transition sequences\n",
      "# interSequenceDistances = {}\n",
      "# s = time.time()\n",
      "# for i in xrange(len(transitionSequences)) :\n",
      "    \n",
      "#     t = time.time()\n",
      "#     iThSequenceFrameSize = np.array(cv2.imread(transitionSequences[i][DICT_FRAME_LOCS][0]).shape[0:2])\n",
      "#     iThSequenceFrames = np.zeros((transitionSequences[i][DICT_SEQUENCE_LENGTH], np.prod(iThSequenceFrameSize)*3), dtype=np.float32)\n",
      "    \n",
      "#     for frame in xrange(transitionSequences[i][DICT_SEQUENCE_LENGTH]) :\n",
      "#         iThSequenceFrames[frame, :] = np.array(cv2.cvtColor(cv2.imread(transitionSequences[i][DICT_FRAME_LOCS][frame]), \n",
      "#                                                         cv2.COLOR_BGR2RGB), dtype=np.float32).reshape((iThSequenceFrames.shape[1]))/255.0\n",
      "#     print \"Loaded frames of sequence\", i, \"in\", np.string_(time.time() - t), \"seconds\"; sys.stdout.flush()\n",
      "    \n",
      "#     if np.string_(i) not in interSequenceDistances.keys() :\n",
      "#         t = time.time()\n",
      "#         interSequenceDistances[np.string_(i)] = distEuc(iThSequenceFrames)\n",
      "#         print \"Computed distances in sequence\", i, \"in\", np.string_(time.time() - t), \"seconds\"; sys.stdout.flush()\n",
      "    \n",
      "#     for j in xrange(i+1, len(transitionSequences)) :\n",
      "        \n",
      "#         t = time.time()\n",
      "#         jThSequenceFrameSize = np.array(cv2.imread(transitionSequences[j][DICT_FRAME_LOCS][0]).shape[0:2])\n",
      "#         jThSequenceFrames = np.zeros((transitionSequences[j][DICT_SEQUENCE_LENGTH], np.prod(jThSequenceFrameSize)*3), dtype=np.float32)\n",
      "        \n",
      "#         for frame in xrange(transitionSequences[j][DICT_SEQUENCE_LENGTH]) :\n",
      "#             jThSequenceFrames[frame, :] = np.array(cv2.cvtColor(cv2.imread(transitionSequences[j][DICT_FRAME_LOCS][frame]), \n",
      "#                                                             cv2.COLOR_BGR2RGB), dtype=np.float32).reshape((jThSequenceFrames.shape[1]))/255.0\n",
      "#         print \"Loaded frames of sequence\", j, \"in\", np.string_(time.time() - t), \"seconds\"; sys.stdout.flush()\n",
      "            \n",
      "#         if np.string_(i)+np.string_(j) not in interSequenceDistances.keys() :\n",
      "#             t = time.time()\n",
      "#             if np.any(iThSequenceFrameSize != jThSequenceFrameSize) :\n",
      "#                 iThFrameLinearIndices, jThFrameLinearIndices = getLinearIndicesOfFrameOverlap(iThSequenceFrameSize, jThSequenceFrameSize,\n",
      "#                                                                                               transitionSequences[i][DICT_ANCHOR_POINT],\n",
      "#                                                                                               transitionSequences[j][DICT_ANCHOR_POINT])\n",
      "#                 interSequenceDistances[np.string_(i)+np.string_(j)] = distEuc2(iThSequenceFrames[:, iThFrameLinearIndices],\n",
      "#                                                                            jThSequenceFrames[:, jThFrameLinearIndices])\n",
      "#             else :\n",
      "#                 interSequenceDistances[np.string_(i)+np.string_(j)] = distEuc2(iThSequenceFrames, jThSequenceFrames)\n",
      "\n",
      "#             print \"Computed distance between\", i, \"and\", j, \"in\", np.string_(time.time() - t), \"seconds\"; sys.stdout.flush()\n",
      "        \n",
      "# print \"Done in\", np.string_(time.time() - s), \"seconds\"\n",
      "# del iThSequenceFrames, jThSequenceFrames\n",
      "# np.save(dataPath + \"candle_semantics_interSequenceDistancess.npy\", interSequenceDistances)\n",
      "interSequenceDistances = np.load(dataPath+\"candle_semantics_interSequenceDistancess.npy\").item(0)"
     ],
     "language": "python",
     "metadata": {},
     "outputs": [],
     "prompt_number": 9
    },
    {
     "cell_type": "code",
     "collapsed": false,
     "input": [
      "# loopToTransitionDistances = {}\n",
      "# s = time.time()\n",
      "# for i in xrange(len(transitionSequences)) :\n",
      "    \n",
      "#     t = time.time()\n",
      "#     transitionFrameSize = np.array(cv2.imread(transitionSequences[i][DICT_FRAME_LOCS][0]).shape[0:2])\n",
      "#     transitionFrames = np.zeros((transitionSequences[i][DICT_SEQUENCE_LENGTH], np.prod(transitionFrameSize)*3), dtype=np.float32)\n",
      "    \n",
      "#     for frame in xrange(transitionSequences[i][DICT_SEQUENCE_LENGTH]) :\n",
      "#         transitionFrames[frame, :] = np.array(cv2.cvtColor(cv2.imread(transitionSequences[i][DICT_FRAME_LOCS][frame]), \n",
      "#                                                         cv2.COLOR_BGR2RGB), dtype=np.float32).reshape((transitionFrames.shape[1]))/255.0\n",
      "#     print \"Loaded frames of sequence\", i, \"in\", np.string_(time.time() - t), \"seconds\"; sys.stdout.flush()\n",
      "    \n",
      "#     for j in xrange(len(loopedSemantics)) :\n",
      "        \n",
      "#         t = time.time()\n",
      "#         loopFrameSize = np.array(cv2.imread(loopedSemantics[j][DICT_FRAME_LOCS][0]).shape[0:2])\n",
      "#         loopFrames = np.zeros((loopedSemantics[j][DICT_SEQUENCE_LENGTH], np.prod(loopFrameSize)*3), dtype=np.float32)\n",
      "        \n",
      "#         for frame in xrange(loopedSemantics[j][DICT_SEQUENCE_LENGTH]) :\n",
      "#             loopFrames[frame, :] = np.array(cv2.cvtColor(cv2.imread(loopedSemantics[j][DICT_FRAME_LOCS][frame]), \n",
      "#                                                             cv2.COLOR_BGR2RGB), dtype=np.float32).reshape((loopFrames.shape[1]))/255.0\n",
      "#         print \"Loaded frames of loop\", j, \"in\", np.string_(time.time() - t), \"seconds\"; sys.stdout.flush()\n",
      "        \n",
      "#         if np.string_(i)+np.string_(j) not in loopToTransitionDistances.keys() :\n",
      "#             t = time.time()\n",
      "#             if np.any(transitionFrameSize != loopFrameSize) :\n",
      "#                 transitionLinearIndices, loopLinearIndices = getLinearIndicesOfFrameOverlap(transitionFrameSize, loopFrameSize,\n",
      "#                                                                                               transitionSequences[i][DICT_ANCHOR_POINT],\n",
      "#                                                                                               loopedSemantics[j][DICT_ANCHOR_POINT])\n",
      "#                 loopToTransitionDistances[np.string_(i)+np.string_(j)] = distEuc2(transitionFrames[:, transitionLinearIndices],\n",
      "#                                                                            loopFrames[:, loopLinearIndices])\n",
      "#             else :\n",
      "#                 loopToTransitionDistances[np.string_(i)+np.string_(j)] = distEuc2(transitionFrames, loopFrames)\n",
      "\n",
      "#             print \"Computed distance between\", i, \"and\", j, \"in\", np.string_(time.time() - t), \"seconds\"; sys.stdout.flush()\n",
      "        \n",
      "# print \"Done in\", np.string_(time.time() - s), \"seconds\"\n",
      "# del transitionFrames, loopFrames\n",
      "# np.save(dataPath + \"candle_semantics_loopToTransitionDistances.npy\", loopToTransitionDistances)\n",
      "loopToTransitionDistances = np.load(dataPath+\"candle_semantics_loopToTransitionDistances.npy\").item(0)"
     ],
     "language": "python",
     "metadata": {},
     "outputs": [],
     "prompt_number": 10
    },
    {
     "cell_type": "code",
     "collapsed": false,
     "input": [
      "# gwv.showCustomGraph(interLoopDistances['02'])\n",
      "## make full distance matrix between looped semantics\n",
      "totalNumberOfFramesInLoops = 0\n",
      "for semantics in loopedSemantics :\n",
      "    totalNumberOfFramesInLoops += semantics[DICT_SEQUENCE_LENGTH]\n",
      "    \n",
      "fullLoopedSemanticsDistMat = (1-np.eye(totalNumberOfFramesInLoops))*300\n",
      "currentRow = 0\n",
      "colDelta = 0\n",
      "for i in xrange(len(loopedSemantics)) :\n",
      "    iLength = loopedSemantics[i][DICT_SEQUENCE_LENGTH]\n",
      "    fullLoopedSemanticsDistMat[currentRow:currentRow+iLength, currentRow:currentRow+iLength] = interLoopDistances[np.string_(i)]\n",
      "    colDelta += iLength\n",
      "    currentCol = colDelta\n",
      "    for j in xrange(i+1, len(loopedSemantics)) :\n",
      "        print i, j, currentRow, currentCol\n",
      "        jLength = loopedSemantics[j][DICT_SEQUENCE_LENGTH]\n",
      "        fullLoopedSemanticsDistMat[currentRow:currentRow+iLength, currentCol:currentCol+jLength] = interLoopDistances[np.string_(i)+np.string_(j)]\n",
      "        fullLoopedSemanticsDistMat[currentCol:currentCol+jLength, currentRow:currentRow+iLength] = interLoopDistances[np.string_(i)+np.string_(j)].T\n",
      "        currentCol += jLength\n",
      "    currentRow += iLength\n",
      "    \n",
      "# gwv.showCustomGraph(fullLoopedSemanticsDistMat)"
     ],
     "language": "python",
     "metadata": {},
     "outputs": [
      {
       "output_type": "stream",
       "stream": "stdout",
       "text": [
        "0 1 0 201\n",
        "0 2 0 307\n",
        "0 3 0 519\n",
        "1 2 201 307\n",
        "1 3 201 519\n",
        "2 3 307 519\n"
       ]
      }
     ],
     "prompt_number": 13
    },
    {
     "cell_type": "code",
     "collapsed": false,
     "input": [
      "# gwv.showCustomGraph(interLoopDistances['02'])\n",
      "## make full distance matrix between transition sequences\n",
      "totalNumberOfFramesInTransitions = 0\n",
      "for sequence in transitionSequences :\n",
      "    totalNumberOfFramesInTransitions += sequence[DICT_SEQUENCE_LENGTH]\n",
      "    \n",
      "fullTransitionSequenceDistMat = (1-np.eye(totalNumberOfFramesInTransitions))*300\n",
      "currentRow = 0\n",
      "colDelta = 0\n",
      "for i in xrange(len(transitionSequences)) :\n",
      "    iLength = transitionSequences[i][DICT_SEQUENCE_LENGTH]\n",
      "    fullTransitionSequenceDistMat[currentRow:currentRow+iLength, currentRow:currentRow+iLength] = interSequenceDistances[np.string_(i)]\n",
      "    colDelta += iLength\n",
      "    currentCol = colDelta\n",
      "    for j in xrange(i+1, len(transitionSequences)) :\n",
      "        print i, j, currentRow, currentCol\n",
      "        jLength = transitionSequences[j][DICT_SEQUENCE_LENGTH]\n",
      "        fullTransitionSequenceDistMat[currentRow:currentRow+iLength, currentCol:currentCol+jLength] = interSequenceDistances[np.string_(i)+np.string_(j)]\n",
      "        fullTransitionSequenceDistMat[currentCol:currentCol+jLength, currentRow:currentRow+iLength] = interSequenceDistances[np.string_(i)+np.string_(j)].T\n",
      "        currentCol += jLength\n",
      "    currentRow += iLength\n",
      "    \n",
      "# gwv.showCustomGraph(fullTransitionSequenceDistMat)"
     ],
     "language": "python",
     "metadata": {},
     "outputs": [
      {
       "output_type": "stream",
       "stream": "stdout",
       "text": [
        "0 1 0 517\n",
        "0 2 0 875\n",
        "1 2 517 875\n"
       ]
      }
     ],
     "prompt_number": 14
    },
    {
     "cell_type": "code",
     "collapsed": false,
     "input": [
      "# gwv.showCustomGraph(interLoopDistances['02'])\n",
      "## make full distance matrix between transition sequences and loops\n",
      "    \n",
      "fullTransitionsVsLoopsDistMat = np.zeros((totalNumberOfFramesInTransitions, totalNumberOfFramesInLoops))\n",
      "currentRow = 0\n",
      "for i in xrange(len(transitionSequences)) :\n",
      "    iLength = transitionSequences[i][DICT_SEQUENCE_LENGTH]\n",
      "    currentCol = 0\n",
      "    for j in xrange(len(loopedSemantics)) :\n",
      "        print i, j, currentRow, currentCol\n",
      "        jLength = loopedSemantics[j][DICT_SEQUENCE_LENGTH]\n",
      "        fullTransitionsVsLoopsDistMat[currentRow:currentRow+iLength, currentCol:currentCol+jLength] = loopToTransitionDistances[np.string_(i)+np.string_(j)]\n",
      "        currentCol += jLength\n",
      "    currentRow += iLength\n",
      "    \n",
      "# gwv.showCustomGraph(fullTransitionsVsLoopsDistMat)"
     ],
     "language": "python",
     "metadata": {},
     "outputs": [
      {
       "output_type": "stream",
       "stream": "stdout",
       "text": [
        "0 0 0 0\n",
        "0 1 0 201\n",
        "0 2 0 307\n",
        "0 3 0 519\n",
        "1 0 517 0\n",
        "1 1 517 201\n",
        "1 2 517 307\n",
        "1 3 517 519\n",
        "2 0 875 0\n",
        "2 1 875 201\n",
        "2 2 875 307\n",
        "2 3 875 519\n"
       ]
      }
     ],
     "prompt_number": 15
    },
    {
     "cell_type": "code",
     "collapsed": false,
     "input": [
      "## combine al distance matrices together\n",
      "fullDistanceMatrix = np.concatenate((fullLoopedSemanticsDistMat, fullTransitionsVsLoopsDistMat.T), axis=-1)\n",
      "fullDistanceMatrix = np.concatenate((fullDistanceMatrix, np.concatenate((fullTransitionsVsLoopsDistMat, fullTransitionSequenceDistMat), axis=-1)), axis=0)\n",
      "gwv.showCustomGraph(fullDistanceMatrix)"
     ],
     "language": "python",
     "metadata": {},
     "outputs": [],
     "prompt_number": 16
    },
    {
     "cell_type": "code",
     "collapsed": false,
     "input": [
      "## make the transition matrix where the arrow heads are rows and arrow tails are cols (i.e. I can go from frame colIdx to frame rowIdx)\n",
      "# transitionCosts = np.zeros((totalNumberOfFrames, totalNumberOfFrames))\n",
      "# currentRow = 0\n",
      "# colDelta = 0\n",
      "# for i in xrange(len(loopedSemantics)) :\n",
      "#     iLength = loopedSemantics[i][DICT_SEQUENCE_LENGTH]\n",
      "#     ## I roll each distance matrix left by 1 column which means that to go to frame i from frame j, I check the distance between frame j+1 and i which is now at location (i, j)\n",
      "#     transitionCosts[currentRow:currentRow+iLength, currentRow:currentRow+iLength] = np.roll(interLoopDistances[np.string_(i)], -1, axis=-1)\n",
      "#     colDelta += iLength\n",
      "#     currentCol = colDelta\n",
      "#     for j in xrange(i+1, len(loopedSemantics)) :\n",
      "#         print i, j, currentRow, currentCol\n",
      "#         jLength = loopedSemantics[j][DICT_SEQUENCE_LENGTH]\n",
      "#         transitionCosts[currentRow:currentRow+iLength, currentCol:currentCol+jLength] = np.roll(interLoopDistances[np.string_(i)+np.string_(j)], -1, axis=-1)\n",
      "#         transitionCosts[currentCol:currentCol+jLength, currentRow:currentRow+iLength] = np.roll(interLoopDistances[np.string_(i)+np.string_(j)].T, -1, axis=-1)\n",
      "#         currentCol += jLength\n",
      "#     currentRow += iLength\n",
      "    \n",
      "# gwv.showCustomGraph(transitionCosts)\n",
      "\n",
      "# transitionCosts = transitionCosts / np.max(transitionCosts)\n",
      "# badJumps = np.argwhere(transitionCosts > 0.15)\n",
      "# transitionCosts[badJumps[:, 0], badJumps[:, 1]] = 1000000.0\n",
      "# ## add some number to the costs to give some cost to following the timeline, which should not influence following the timeline loop-wise but should reduce the length of\n",
      "# ## transition animations\n",
      "# transitionCosts += 0.01\n",
      "# gwv.showCustomGraph(np.log(transitionCosts))"
     ],
     "language": "python",
     "metadata": {},
     "outputs": [],
     "prompt_number": 14
    },
    {
     "cell_type": "code",
     "collapsed": false,
     "input": [
      "## make the transition matrix where the arrow heads are rows and arrow tails are cols (i.e. I can go from frame colIdx to frame rowIdx)\n",
      "## use all transition matrices now\n",
      "transitionCosts = np.copy(fullDistanceMatrix)\n",
      "separationIndices = []\n",
      "separationIndices.append(0)\n",
      "for i in xrange(len(loopedSemantics)) :\n",
      "    separationIndices.append(separationIndices[-1]+loopedSemantics[i][DICT_SEQUENCE_LENGTH])\n",
      "for i in xrange(len(transitionSequences)) :\n",
      "    separationIndices.append(separationIndices[-1]+transitionSequences[i][DICT_SEQUENCE_LENGTH])\n",
      "\n",
      "for i, j in zip(separationIndices[:-1], separationIndices[1:]) :\n",
      "    for k, l in zip(separationIndices[:-1], separationIndices[1:]) :\n",
      "        transitionCosts[i:j, k:l] = np.roll(transitionCosts[i:j, k:l], -1, axis=-1)\n",
      "        \n",
      "        if j > separationIndices[len(loopedSemantics)] or l > separationIndices[len(loopedSemantics)] :\n",
      "            ## dealing with transition sequences that cannot loop at the end\n",
      "            print i, j, k, l\n",
      "            ## set last column and row to maxCost\n",
      "            transitionCosts[i:j, l-1] = np.max(fullDistanceMatrix)\n",
      "            transitionCosts[j-1, k:l] = np.max(fullDistanceMatrix)\n",
      "#         print i, j, k, l \n",
      "        \n",
      "    \n",
      "gwv.showCustomGraph(transitionCosts / np.max(transitionCosts))\n",
      "\n",
      "transitionCosts = transitionCosts / np.max(transitionCosts)\n",
      "# transitionCosts = transitionCosts*1000.0\n",
      "# transitionCosts = transitionCosts / np.max(transitionCosts)\n",
      "badJumps = np.argwhere(transitionCosts > 0.25)\n",
      "transitionCosts[badJumps[:, 0], badJumps[:, 1]] = 1000000.0\n",
      "## add some number to the costs to give some cost to following the timeline, which should not influence following the timeline loop-wise but should reduce the length of\n",
      "## transition animations\n",
      "transitionCosts += 0.1\n",
      "\n",
      "## get rid of short jumps ?\n",
      "if True :\n",
      "    ## can jump from frame in first column to frame in second column\n",
      "    lowCostTransitions = np.argwhere(transitionCosts != np.max(transitionCosts), )\n",
      "    jumpLength = np.abs(lowCostTransitions[:, 0]-lowCostTransitions[:, 1])\n",
      "    shortJumps = np.all(np.array([jumpLength > 1, jumpLength < 10]), axis=0)\n",
      "    shortJumps = np.any(np.array([shortJumps, jumpLength == 0]), axis=0)\n",
      "\n",
      "    transitionCosts[lowCostTransitions[shortJumps, :][:, 0], lowCostTransitions[shortJumps, :][:, 1]] = np.max(transitionCosts)\n",
      "\n",
      "\n",
      "gwv.showCustomGraph(np.log(transitionCosts))"
     ],
     "language": "python",
     "metadata": {},
     "outputs": [
      {
       "output_type": "stream",
       "stream": "stdout",
       "text": [
        "0 201 716 1233\n",
        "0 201 1233 1591\n",
        "0 201 1591 1841\n",
        "201 307 716 1233\n",
        "201 307 1233 1591\n",
        "201 307 1591 1841\n",
        "307 519 716 1233\n",
        "307 519 1233 1591\n",
        "307 519 1591 1841\n",
        "519 716 716 1233\n",
        "519"
       ]
      },
      {
       "output_type": "stream",
       "stream": "stdout",
       "text": [
        " 716 1233 1591\n",
        "519 716 1591 1841\n",
        "716 1233 0 201\n",
        "716 1233 201 307\n",
        "716 1233 307 519\n",
        "716 1233 519 716\n",
        "716 1233 716 1233\n",
        "716 1233 1233 1591\n",
        "716 1233 1591 1841\n",
        "1233 1591 0 201\n",
        "1233 1591 201 307\n",
        "1233"
       ]
      },
      {
       "output_type": "stream",
       "stream": "stdout",
       "text": [
        " 1591 307 519\n",
        "1233 1591 519 716\n",
        "1233 1591 716 1233\n",
        "1233 1591 1233 1591\n",
        "1233 1591 1591 1841\n",
        "1591 1841 0 201\n",
        "1591 1841 201 307\n",
        "1591 1841 307 519\n",
        "1591 1841 519 716\n",
        "1591 1841 716 1233\n",
        "1591 1841 1233 1591\n",
        "1591"
       ]
      },
      {
       "output_type": "stream",
       "stream": "stdout",
       "text": [
        " 1841 1591 1841\n"
       ]
      }
     ],
     "prompt_number": 99
    },
    {
     "cell_type": "code",
     "collapsed": false,
     "input": [
      "def getAnimation(pairwise, fullSequenceSemantics, desiredSemantics, framesToProduce, startFrame, distVariance) :\n",
      "    ## The lower distVariance, the higher the penalty for showing a frame having something different from desiredSemantics\n",
      "    \n",
      "    \n",
      "    ## now try and do the optimization completely vectorized\n",
      "    ## number of edges connected to each label node of variable n (pairwise stores node at arrow tail as cols and at arrow head as rows)\n",
      "    maxEdgesPerLabel = np.max(np.sum(np.array(pairwise != np.max(pairwise), dtype=int), axis=-1))\n",
      "    ## initialize this to index of connected label node with highest edge cost (which is then used as padding)\n",
      "    ## it contains for each label node of variable n (indexed by rows), all the label nodes of variable n-1 it is connected to by non infinite cost edge (indexed by cols)\n",
      "    nodesConnectedToLabel = np.argmax(pairwise, axis=-1).reshape((len(pairwise), 1)).repeat(maxEdgesPerLabel, axis=-1)\n",
      "    \n",
      "    ##### OLD WAY OF GETTING THE SPARSE INDICES #####\n",
      "#     sparseIndices = np.where(pairwise.T != np.max(pairwise))\n",
      "#     # print sparseIndices\n",
      "#     tailIndices = sparseIndices[0]\n",
      "#     headIndices = sparseIndices[1]\n",
      "\n",
      "#     ## this contains which label of variable n-1 is connected to which label of variable n\n",
      "#     indicesInLabelSpace = [list(tailIndices[np.where(headIndices == i)[0]]) for i in np.unique(headIndices)]\n",
      "    \n",
      "    ##### NEW WAY OF GETTING THE SPARSE INDICES #####\n",
      "    sparseIndices = np.where(pairwise != np.max(pairwise))\n",
      "    # print sparseIndices\n",
      "    tailIndices = sparseIndices[1]\n",
      "    headIndices = sparseIndices[0]\n",
      "    \n",
      "    indicesInLabelSpace = [tailIndices[headIndices == i] for i in np.arange(len(pairwise))]\n",
      "\n",
      "    for headLabel, tailLabels in zip(arange(0, len(nodesConnectedToLabel)), indicesInLabelSpace) :\n",
      "        nodesConnectedToLabel[headLabel, 0:len(tailLabels)] = tailLabels\n",
      "\n",
      "#     print nodesConnectedToLabel.shape\n",
      "\n",
      "    unaries = vectorisedMinusLogMultiNormal(fullSequenceSemantics, desiredSemantics.reshape((1, len(loopedSemantics))), np.eye(len(loopedSemantics))*distVariance, True)\n",
      "    unaries = unaries.reshape((len(pairwise), 1)).repeat(framesToProduce, axis=-1)\n",
      "    unaries[:, 0] = 1000000.0\n",
      "    unaries[startFrame, 0] = 0.0\n",
      "\n",
      "    # gwv.showCustomGraph(unaries)\n",
      "    # print \"computed costs for sprite\", spriteIndices[idx], \"in\", time.time() - tic; sys.stdout.flush()\n",
      "    # tic = time.time()\n",
      "    # minCostTraversal, minCost = solveMRF(unaries, pairwise)\n",
      "    #     minCostTraversal, minCost = solveSparseDynProgMRF(unaries.T, pairwise.T, nodesConnectedToLabel)\n",
      "    minCostTraversal, minCost, paths = solveSparseDynProgMRF(unaries, pairwise, nodesConnectedToLabel)\n",
      "    return minCostTraversal#, minCost, unaries"
     ],
     "language": "python",
     "metadata": {},
     "outputs": [],
     "prompt_number": 112
    },
    {
     "cell_type": "code",
     "collapsed": false,
     "input": [
      "## give semantics to each looped semantics and node to the transition frames\n",
      "sequenceSemantics = np.empty((0, len(loopedSemantics)))\n",
      "for s in xrange(len(loopedSemantics)) :\n",
      "    sems = np.zeros((loopedSemantics[s][DICT_SEQUENCE_LENGTH], len(loopedSemantics)))\n",
      "    sems[:, s] = 1.0\n",
      "    sequenceSemantics = np.concatenate((sequenceSemantics, sems))\n",
      "sequenceSemantics = np.concatenate((sequenceSemantics, np.zeros((totalNumberOfFramesInTransitions, len(loopedSemantics)))))"
     ],
     "language": "python",
     "metadata": {},
     "outputs": [],
     "prompt_number": 19
    },
    {
     "cell_type": "code",
     "collapsed": false,
     "input": [
      "gwv.showCustomGraph(transitionCosts)"
     ],
     "language": "python",
     "metadata": {},
     "outputs": [],
     "prompt_number": 70
    },
    {
     "cell_type": "code",
     "collapsed": false,
     "input": [
      "semanticsToUse = np.array([0, 1, 2, 3])\n",
      "sequenceLength = 100\n",
      "\n",
      "semanticsFrameRanges = [0]\n",
      "for semantics in loopedSemantics :\n",
      "    semanticsFrameRanges.append(semantics[DICT_SEQUENCE_LENGTH])\n",
      "semanticsFrameRanges = np.cumsum(np.array(semanticsFrameRanges))\n",
      "semanticsFrameRanges = np.array([semanticsFrameRanges[:-1], semanticsFrameRanges[1:]]).T\n",
      "print semanticsFrameRanges\n",
      "    \n",
      "## find transitions between each semantics and the others\n",
      "semanticsCombinations = []\n",
      "for s in semanticsToUse :\n",
      "    for t in semanticsToUse :\n",
      "        if s != t :\n",
      "            semanticsCombinations.append(np.array([s, t]))\n",
      "\n",
      "frameInterval = 10\n",
      "transitionAnimations = []\n",
      "for combination in semanticsCombinations :\n",
      "    transitionAnimations.append([])\n",
      "    print combination\n",
      "    fromSemantics, toSemantics = combination\n",
      "    desiredSemantics = np.zeros(len(loopedSemantics))\n",
      "    desiredSemantics[toSemantics] = 1.0\n",
      "    print desiredSemantics\n",
      "    startFrames = np.arange(semanticsFrameRanges[fromSemantics, 0], semanticsFrameRanges[fromSemantics, 1], frameInterval)\n",
      "    for startFrame in startFrames :\n",
      "        animation = getAnimation(transitionCosts, sequenceSemantics, desiredSemantics, sequenceLength, startFrame, 0.0005)\n",
      "        for f in xrange(len(animation)) :\n",
      "            if np.all(sequenceSemantics[animation[f], :] == desiredSemantics) :\n",
      "                transitionAnimations[-1].append(animation[:f+1])\n",
      "                break\n",
      "            if f == len(animation)-1 :\n",
      "                print \"Animation does not reach desired semantics\"\n",
      "    \n",
      "        sys.stdout.write('\\r' + \"Found animation from \" + np.string_(combination[0]) + \" to \" + np.string_(combination[1]) +\n",
      "                         \" starting at \" + np.string_(startFrame) + \" (\" + np.string_(startFrames[-1]) + \")\")\n",
      "        sys.stdout.flush()\n",
      "    print \n",
      "\n",
      "\n",
      "# desiredSemantics = np.array([0.0, 1.0, 0.0, 0.0])\n",
      "# startFrame = 320\n",
      "\n",
      "# print getAnimation(transitionCosts, sequenceSemantics, sequenceLength, startFrame)"
     ],
     "language": "python",
     "metadata": {},
     "outputs": [
      {
       "output_type": "stream",
       "stream": "stdout",
       "text": [
        "[[  0 201]\n",
        " [201 307]\n",
        " [307 519]\n",
        " [519 716]]\n",
        "[0 1]\n",
        "[ 0.  1.  0.  0.]\n",
        "\r",
        "Found animation from 0 to 1 starting at 0 (200)"
       ]
      },
      {
       "output_type": "stream",
       "stream": "stdout",
       "text": [
        "\r",
        "Found animation from 0 to 1 starting at 10 (200)"
       ]
      },
      {
       "output_type": "stream",
       "stream": "stdout",
       "text": [
        "\r",
        "Found animation from 0 to 1 starting at 20 (200)"
       ]
      },
      {
       "output_type": "stream",
       "stream": "stdout",
       "text": [
        "\r",
        "Found animation from 0 to 1 starting at 30 (200)"
       ]
      },
      {
       "output_type": "stream",
       "stream": "stdout",
       "text": [
        "\r",
        "Found animation from 0 to 1 starting at 40 (200)"
       ]
      },
      {
       "output_type": "stream",
       "stream": "stdout",
       "text": [
        "\r",
        "Found animation from 0 to 1 starting at 50 (200)"
       ]
      },
      {
       "output_type": "stream",
       "stream": "stdout",
       "text": [
        "\r",
        "Found animation from 0 to 1 starting at 60 (200)"
       ]
      },
      {
       "output_type": "stream",
       "stream": "stdout",
       "text": [
        "\r",
        "Found animation from 0 to 1 starting at 70 (200)"
       ]
      },
      {
       "output_type": "stream",
       "stream": "stdout",
       "text": [
        "\r",
        "Found animation from 0 to 1 starting at 80 (200)"
       ]
      },
      {
       "output_type": "stream",
       "stream": "stdout",
       "text": [
        "\r",
        "Found animation from 0 to 1 starting at 90 (200)"
       ]
      },
      {
       "output_type": "stream",
       "stream": "stdout",
       "text": [
        "\r",
        "Found animation from 0 to 1 starting at 100 (200)"
       ]
      },
      {
       "output_type": "stream",
       "stream": "stdout",
       "text": [
        "\r",
        "Found animation from 0 to 1 starting at 110 (200)"
       ]
      },
      {
       "output_type": "stream",
       "stream": "stdout",
       "text": [
        "\r",
        "Found animation from 0 to 1 starting at 120 (200)"
       ]
      },
      {
       "output_type": "stream",
       "stream": "stdout",
       "text": [
        "\r",
        "Found animation from 0 to 1 starting at 130 (200)"
       ]
      },
      {
       "output_type": "stream",
       "stream": "stdout",
       "text": [
        "\r",
        "Found animation from 0 to 1 starting at 140 (200)"
       ]
      },
      {
       "output_type": "stream",
       "stream": "stdout",
       "text": [
        "\r",
        "Found animation from 0 to 1 starting at 150 (200)"
       ]
      },
      {
       "output_type": "stream",
       "stream": "stdout",
       "text": [
        "\r",
        "Found animation from 0 to 1 starting at 160 (200)"
       ]
      },
      {
       "output_type": "stream",
       "stream": "stdout",
       "text": [
        "\r",
        "Found animation from 0 to 1 starting at 170 (200)"
       ]
      },
      {
       "output_type": "stream",
       "stream": "stdout",
       "text": [
        "\r",
        "Found animation from 0 to 1 starting at 180 (200)"
       ]
      },
      {
       "output_type": "stream",
       "stream": "stdout",
       "text": [
        "\r",
        "Found animation from 0 to 1 starting at 190 (200)"
       ]
      },
      {
       "output_type": "stream",
       "stream": "stdout",
       "text": [
        "\r",
        "Found animation from 0 to 1 starting at 200 (200)"
       ]
      },
      {
       "output_type": "stream",
       "stream": "stdout",
       "text": [
        "\n",
        "[0 2]\n",
        "[ 0.  0.  1.  0.]\n",
        "\r",
        "Found animation from 0 to 2 starting at 0 (200)"
       ]
      },
      {
       "output_type": "stream",
       "stream": "stdout",
       "text": [
        "\r",
        "Found animation from 0 to 2 starting at 10 (200)"
       ]
      },
      {
       "output_type": "stream",
       "stream": "stdout",
       "text": [
        "\r",
        "Found animation from 0 to 2 starting at 20 (200)"
       ]
      },
      {
       "output_type": "stream",
       "stream": "stdout",
       "text": [
        "\r",
        "Found animation from 0 to 2 starting at 30 (200)"
       ]
      },
      {
       "output_type": "stream",
       "stream": "stdout",
       "text": [
        "\r",
        "Found animation from 0 to 2 starting at 40 (200)"
       ]
      },
      {
       "output_type": "stream",
       "stream": "stdout",
       "text": [
        "\r",
        "Found animation from 0 to 2 starting at 50 (200)"
       ]
      },
      {
       "output_type": "stream",
       "stream": "stdout",
       "text": [
        "\r",
        "Found animation from 0 to 2 starting at 60 (200)"
       ]
      },
      {
       "output_type": "stream",
       "stream": "stdout",
       "text": [
        "\r",
        "Found animation from 0 to 2 starting at 70 (200)"
       ]
      },
      {
       "output_type": "stream",
       "stream": "stdout",
       "text": [
        "\r",
        "Found animation from 0 to 2 starting at 80 (200)"
       ]
      },
      {
       "output_type": "stream",
       "stream": "stdout",
       "text": [
        "\r",
        "Found animation from 0 to 2 starting at 90 (200)"
       ]
      },
      {
       "output_type": "stream",
       "stream": "stdout",
       "text": [
        "\r",
        "Found animation from 0 to 2 starting at 100 (200)"
       ]
      },
      {
       "output_type": "stream",
       "stream": "stdout",
       "text": [
        "\r",
        "Found animation from 0 to 2 starting at 110 (200)"
       ]
      },
      {
       "output_type": "stream",
       "stream": "stdout",
       "text": [
        "\r",
        "Found animation from 0 to 2 starting at 120 (200)"
       ]
      },
      {
       "output_type": "stream",
       "stream": "stdout",
       "text": [
        "\r",
        "Found animation from 0 to 2 starting at 130 (200)"
       ]
      },
      {
       "output_type": "stream",
       "stream": "stdout",
       "text": [
        "\r",
        "Found animation from 0 to 2 starting at 140 (200)"
       ]
      },
      {
       "output_type": "stream",
       "stream": "stdout",
       "text": [
        "\r",
        "Found animation from 0 to 2 starting at 150 (200)"
       ]
      },
      {
       "output_type": "stream",
       "stream": "stdout",
       "text": [
        "\r",
        "Found animation from 0 to 2 starting at 160 (200)"
       ]
      },
      {
       "output_type": "stream",
       "stream": "stdout",
       "text": [
        "\r",
        "Found animation from 0 to 2 starting at 170 (200)"
       ]
      },
      {
       "output_type": "stream",
       "stream": "stdout",
       "text": [
        "\r",
        "Found animation from 0 to 2 starting at 180 (200)"
       ]
      },
      {
       "output_type": "stream",
       "stream": "stdout",
       "text": [
        "\r",
        "Found animation from 0 to 2 starting at 190 (200)"
       ]
      },
      {
       "output_type": "stream",
       "stream": "stdout",
       "text": [
        "\r",
        "Found animation from 0 to 2 starting at 200 (200)"
       ]
      },
      {
       "output_type": "stream",
       "stream": "stdout",
       "text": [
        "\n",
        "[0 3]\n",
        "[ 0.  0.  0.  1.]\n",
        "\r",
        "Found animation from 0 to 3 starting at 0 (200)"
       ]
      },
      {
       "output_type": "stream",
       "stream": "stdout",
       "text": [
        "\r",
        "Found animation from 0 to 3 starting at 10 (200)"
       ]
      },
      {
       "output_type": "stream",
       "stream": "stdout",
       "text": [
        "\r",
        "Found animation from 0 to 3 starting at 20 (200)"
       ]
      },
      {
       "output_type": "stream",
       "stream": "stdout",
       "text": [
        "\r",
        "Found animation from 0 to 3 starting at 30 (200)"
       ]
      },
      {
       "output_type": "stream",
       "stream": "stdout",
       "text": [
        "\r",
        "Found animation from 0 to 3 starting at 40 (200)"
       ]
      },
      {
       "output_type": "stream",
       "stream": "stdout",
       "text": [
        "\r",
        "Found animation from 0 to 3 starting at 50 (200)"
       ]
      },
      {
       "output_type": "stream",
       "stream": "stdout",
       "text": [
        "\r",
        "Found animation from 0 to 3 starting at 60 (200)"
       ]
      },
      {
       "output_type": "stream",
       "stream": "stdout",
       "text": [
        "\r",
        "Found animation from 0 to 3 starting at 70 (200)"
       ]
      },
      {
       "output_type": "stream",
       "stream": "stdout",
       "text": [
        "\r",
        "Found animation from 0 to 3 starting at 80 (200)"
       ]
      },
      {
       "output_type": "stream",
       "stream": "stdout",
       "text": [
        "\r",
        "Found animation from 0 to 3 starting at 90 (200)"
       ]
      },
      {
       "output_type": "stream",
       "stream": "stdout",
       "text": [
        "\r",
        "Found animation from 0 to 3 starting at 100 (200)"
       ]
      },
      {
       "output_type": "stream",
       "stream": "stdout",
       "text": [
        "\r",
        "Found animation from 0 to 3 starting at 110 (200)"
       ]
      },
      {
       "output_type": "stream",
       "stream": "stdout",
       "text": [
        "\r",
        "Found animation from 0 to 3 starting at 120 (200)"
       ]
      },
      {
       "output_type": "stream",
       "stream": "stdout",
       "text": [
        "\r",
        "Found animation from 0 to 3 starting at 130 (200)"
       ]
      },
      {
       "output_type": "stream",
       "stream": "stdout",
       "text": [
        "\r",
        "Found animation from 0 to 3 starting at 140 (200)"
       ]
      },
      {
       "output_type": "stream",
       "stream": "stdout",
       "text": [
        "\r",
        "Found animation from 0 to 3 starting at 150 (200)"
       ]
      },
      {
       "output_type": "stream",
       "stream": "stdout",
       "text": [
        "\r",
        "Found animation from 0 to 3 starting at 160 (200)"
       ]
      },
      {
       "output_type": "stream",
       "stream": "stdout",
       "text": [
        "\r",
        "Found animation from 0 to 3 starting at 170 (200)"
       ]
      },
      {
       "output_type": "stream",
       "stream": "stdout",
       "text": [
        "\r",
        "Found animation from 0 to 3 starting at 180 (200)"
       ]
      },
      {
       "output_type": "stream",
       "stream": "stdout",
       "text": [
        "\r",
        "Found animation from 0 to 3 starting at 190 (200)"
       ]
      },
      {
       "output_type": "stream",
       "stream": "stdout",
       "text": [
        "\r",
        "Found animation from 0 to 3 starting at 200 (200)"
       ]
      },
      {
       "output_type": "stream",
       "stream": "stdout",
       "text": [
        "\n",
        "[1 0]\n",
        "[ 1.  0.  0.  0.]\n",
        "\r",
        "Found animation from 1 to 0 starting at 201 (301)"
       ]
      },
      {
       "output_type": "stream",
       "stream": "stdout",
       "text": [
        "\r",
        "Found animation from 1 to 0 starting at 211 (301)"
       ]
      },
      {
       "output_type": "stream",
       "stream": "stdout",
       "text": [
        "\r",
        "Found animation from 1 to 0 starting at 221 (301)"
       ]
      },
      {
       "output_type": "stream",
       "stream": "stdout",
       "text": [
        "\r",
        "Found animation from 1 to 0 starting at 231 (301)"
       ]
      },
      {
       "output_type": "stream",
       "stream": "stdout",
       "text": [
        "\r",
        "Found animation from 1 to 0 starting at 241 (301)"
       ]
      },
      {
       "output_type": "stream",
       "stream": "stdout",
       "text": [
        "\r",
        "Found animation from 1 to 0 starting at 251 (301)"
       ]
      },
      {
       "output_type": "stream",
       "stream": "stdout",
       "text": [
        "\r",
        "Found animation from 1 to 0 starting at 261 (301)"
       ]
      },
      {
       "output_type": "stream",
       "stream": "stdout",
       "text": [
        "\r",
        "Found animation from 1 to 0 starting at 271 (301)"
       ]
      },
      {
       "output_type": "stream",
       "stream": "stdout",
       "text": [
        "\r",
        "Found animation from 1 to 0 starting at 281 (301)"
       ]
      },
      {
       "output_type": "stream",
       "stream": "stdout",
       "text": [
        "\r",
        "Found animation from 1 to 0 starting at 291 (301)"
       ]
      },
      {
       "output_type": "stream",
       "stream": "stdout",
       "text": [
        "\r",
        "Found animation from 1 to 0 starting at 301 (301)"
       ]
      },
      {
       "output_type": "stream",
       "stream": "stdout",
       "text": [
        "\n",
        "[1 2]\n",
        "[ 0.  0.  1.  0.]\n",
        "\r",
        "Found animation from 1 to 2 starting at 201 (301)"
       ]
      },
      {
       "output_type": "stream",
       "stream": "stdout",
       "text": [
        "\r",
        "Found animation from 1 to 2 starting at 211 (301)"
       ]
      },
      {
       "output_type": "stream",
       "stream": "stdout",
       "text": [
        "\r",
        "Found animation from 1 to 2 starting at 221 (301)"
       ]
      },
      {
       "output_type": "stream",
       "stream": "stdout",
       "text": [
        "\r",
        "Found animation from 1 to 2 starting at 231 (301)"
       ]
      },
      {
       "output_type": "stream",
       "stream": "stdout",
       "text": [
        "\r",
        "Found animation from 1 to 2 starting at 241 (301)"
       ]
      },
      {
       "output_type": "stream",
       "stream": "stdout",
       "text": [
        "\r",
        "Found animation from 1 to 2 starting at 251 (301)"
       ]
      },
      {
       "output_type": "stream",
       "stream": "stdout",
       "text": [
        "\r",
        "Found animation from 1 to 2 starting at 261 (301)"
       ]
      },
      {
       "output_type": "stream",
       "stream": "stdout",
       "text": [
        "\r",
        "Found animation from 1 to 2 starting at 271 (301)"
       ]
      },
      {
       "output_type": "stream",
       "stream": "stdout",
       "text": [
        "\r",
        "Found animation from 1 to 2 starting at 281 (301)"
       ]
      },
      {
       "output_type": "stream",
       "stream": "stdout",
       "text": [
        "\r",
        "Found animation from 1 to 2 starting at 291 (301)"
       ]
      },
      {
       "output_type": "stream",
       "stream": "stdout",
       "text": [
        "\r",
        "Found animation from 1 to 2 starting at 301 (301)"
       ]
      },
      {
       "output_type": "stream",
       "stream": "stdout",
       "text": [
        "\n",
        "[1 3]\n",
        "[ 0.  0.  0.  1.]\n",
        "\r",
        "Found animation from 1 to 3 starting at 201 (301)"
       ]
      },
      {
       "output_type": "stream",
       "stream": "stdout",
       "text": [
        "\r",
        "Found animation from 1 to 3 starting at 211 (301)"
       ]
      },
      {
       "output_type": "stream",
       "stream": "stdout",
       "text": [
        "\r",
        "Found animation from 1 to 3 starting at 221 (301)"
       ]
      },
      {
       "output_type": "stream",
       "stream": "stdout",
       "text": [
        "\r",
        "Found animation from 1 to 3 starting at 231 (301)"
       ]
      },
      {
       "output_type": "stream",
       "stream": "stdout",
       "text": [
        "\r",
        "Found animation from 1 to 3 starting at 241 (301)"
       ]
      },
      {
       "output_type": "stream",
       "stream": "stdout",
       "text": [
        "\r",
        "Found animation from 1 to 3 starting at 251 (301)"
       ]
      },
      {
       "output_type": "stream",
       "stream": "stdout",
       "text": [
        "\r",
        "Found animation from 1 to 3 starting at 261 (301)"
       ]
      },
      {
       "output_type": "stream",
       "stream": "stdout",
       "text": [
        "\r",
        "Found animation from 1 to 3 starting at 271 (301)"
       ]
      },
      {
       "output_type": "stream",
       "stream": "stdout",
       "text": [
        "\r",
        "Found animation from 1 to 3 starting at 281 (301)"
       ]
      },
      {
       "output_type": "stream",
       "stream": "stdout",
       "text": [
        "\r",
        "Found animation from 1 to 3 starting at 291 (301)"
       ]
      },
      {
       "output_type": "stream",
       "stream": "stdout",
       "text": [
        "\r",
        "Found animation from 1 to 3 starting at 301 (301)"
       ]
      },
      {
       "output_type": "stream",
       "stream": "stdout",
       "text": [
        "\n",
        "[2 0]\n",
        "[ 1.  0.  0.  0.]\n",
        "\r",
        "Found animation from 2 to 0 starting at 307 (517)"
       ]
      },
      {
       "output_type": "stream",
       "stream": "stdout",
       "text": [
        "\r",
        "Found animation from 2 to 0 starting at 317 (517)"
       ]
      },
      {
       "output_type": "stream",
       "stream": "stdout",
       "text": [
        "\r",
        "Found animation from 2 to 0 starting at 327 (517)"
       ]
      },
      {
       "output_type": "stream",
       "stream": "stdout",
       "text": [
        "\r",
        "Found animation from 2 to 0 starting at 337 (517)"
       ]
      },
      {
       "output_type": "stream",
       "stream": "stdout",
       "text": [
        "\r",
        "Found animation from 2 to 0 starting at 347 (517)"
       ]
      },
      {
       "output_type": "stream",
       "stream": "stdout",
       "text": [
        "\r",
        "Found animation from 2 to 0 starting at 357 (517)"
       ]
      },
      {
       "output_type": "stream",
       "stream": "stdout",
       "text": [
        "\r",
        "Found animation from 2 to 0 starting at 367 (517)"
       ]
      },
      {
       "output_type": "stream",
       "stream": "stdout",
       "text": [
        "\r",
        "Found animation from 2 to 0 starting at 377 (517)"
       ]
      },
      {
       "output_type": "stream",
       "stream": "stdout",
       "text": [
        "\r",
        "Found animation from 2 to 0 starting at 387 (517)"
       ]
      },
      {
       "output_type": "stream",
       "stream": "stdout",
       "text": [
        "\r",
        "Found animation from 2 to 0 starting at 397 (517)"
       ]
      },
      {
       "output_type": "stream",
       "stream": "stdout",
       "text": [
        "\r",
        "Found animation from 2 to 0 starting at 407 (517)"
       ]
      },
      {
       "output_type": "stream",
       "stream": "stdout",
       "text": [
        "\r",
        "Found animation from 2 to 0 starting at 417 (517)"
       ]
      },
      {
       "output_type": "stream",
       "stream": "stdout",
       "text": [
        "\r",
        "Found animation from 2 to 0 starting at 427 (517)"
       ]
      },
      {
       "output_type": "stream",
       "stream": "stdout",
       "text": [
        "\r",
        "Found animation from 2 to 0 starting at 437 (517)"
       ]
      },
      {
       "output_type": "stream",
       "stream": "stdout",
       "text": [
        "\r",
        "Found animation from 2 to 0 starting at 447 (517)"
       ]
      },
      {
       "output_type": "stream",
       "stream": "stdout",
       "text": [
        "\r",
        "Found animation from 2 to 0 starting at 457 (517)"
       ]
      },
      {
       "output_type": "stream",
       "stream": "stdout",
       "text": [
        "\r",
        "Found animation from 2 to 0 starting at 467 (517)"
       ]
      },
      {
       "output_type": "stream",
       "stream": "stdout",
       "text": [
        "\r",
        "Found animation from 2 to 0 starting at 477 (517)"
       ]
      },
      {
       "output_type": "stream",
       "stream": "stdout",
       "text": [
        "\r",
        "Found animation from 2 to 0 starting at 487 (517)"
       ]
      },
      {
       "output_type": "stream",
       "stream": "stdout",
       "text": [
        "\r",
        "Found animation from 2 to 0 starting at 497 (517)"
       ]
      },
      {
       "output_type": "stream",
       "stream": "stdout",
       "text": [
        "\r",
        "Found animation from 2 to 0 starting at 507 (517)"
       ]
      },
      {
       "output_type": "stream",
       "stream": "stdout",
       "text": [
        "\r",
        "Found animation from 2 to 0 starting at 517 (517)"
       ]
      },
      {
       "output_type": "stream",
       "stream": "stdout",
       "text": [
        "\n",
        "[2 1]\n",
        "[ 0.  1.  0.  0.]\n",
        "\r",
        "Found animation from 2 to 1 starting at 307 (517)"
       ]
      },
      {
       "output_type": "stream",
       "stream": "stdout",
       "text": [
        "\r",
        "Found animation from 2 to 1 starting at 317 (517)"
       ]
      },
      {
       "output_type": "stream",
       "stream": "stdout",
       "text": [
        "\r",
        "Found animation from 2 to 1 starting at 327 (517)"
       ]
      },
      {
       "output_type": "stream",
       "stream": "stdout",
       "text": [
        "\r",
        "Found animation from 2 to 1 starting at 337 (517)"
       ]
      },
      {
       "output_type": "stream",
       "stream": "stdout",
       "text": [
        "\r",
        "Found animation from 2 to 1 starting at 347 (517)"
       ]
      },
      {
       "output_type": "stream",
       "stream": "stdout",
       "text": [
        "\r",
        "Found animation from 2 to 1 starting at 357 (517)"
       ]
      },
      {
       "output_type": "stream",
       "stream": "stdout",
       "text": [
        "\r",
        "Found animation from 2 to 1 starting at 367 (517)"
       ]
      },
      {
       "output_type": "stream",
       "stream": "stdout",
       "text": [
        "\r",
        "Found animation from 2 to 1 starting at 377 (517)"
       ]
      },
      {
       "output_type": "stream",
       "stream": "stdout",
       "text": [
        "\r",
        "Found animation from 2 to 1 starting at 387 (517)"
       ]
      },
      {
       "output_type": "stream",
       "stream": "stdout",
       "text": [
        "\r",
        "Found animation from 2 to 1 starting at 397 (517)"
       ]
      },
      {
       "output_type": "stream",
       "stream": "stdout",
       "text": [
        "\r",
        "Found animation from 2 to 1 starting at 407 (517)"
       ]
      },
      {
       "output_type": "stream",
       "stream": "stdout",
       "text": [
        "\r",
        "Found animation from 2 to 1 starting at 417 (517)"
       ]
      },
      {
       "output_type": "stream",
       "stream": "stdout",
       "text": [
        "\r",
        "Found animation from 2 to 1 starting at 427 (517)"
       ]
      },
      {
       "output_type": "stream",
       "stream": "stdout",
       "text": [
        "\r",
        "Found animation from 2 to 1 starting at 437 (517)"
       ]
      },
      {
       "output_type": "stream",
       "stream": "stdout",
       "text": [
        "\r",
        "Found animation from 2 to 1 starting at 447 (517)"
       ]
      },
      {
       "output_type": "stream",
       "stream": "stdout",
       "text": [
        "\r",
        "Found animation from 2 to 1 starting at 457 (517)"
       ]
      },
      {
       "output_type": "stream",
       "stream": "stdout",
       "text": [
        "\r",
        "Found animation from 2 to 1 starting at 467 (517)"
       ]
      },
      {
       "output_type": "stream",
       "stream": "stdout",
       "text": [
        "\r",
        "Found animation from 2 to 1 starting at 477 (517)"
       ]
      },
      {
       "output_type": "stream",
       "stream": "stdout",
       "text": [
        "\r",
        "Found animation from 2 to 1 starting at 487 (517)"
       ]
      },
      {
       "output_type": "stream",
       "stream": "stdout",
       "text": [
        "\r",
        "Found animation from 2 to 1 starting at 497 (517)"
       ]
      },
      {
       "output_type": "stream",
       "stream": "stdout",
       "text": [
        "\r",
        "Found animation from 2 to 1 starting at 507 (517)"
       ]
      },
      {
       "output_type": "stream",
       "stream": "stdout",
       "text": [
        "\r",
        "Found animation from 2 to 1 starting at 517 (517)"
       ]
      },
      {
       "output_type": "stream",
       "stream": "stdout",
       "text": [
        "\n",
        "[2 3]\n",
        "[ 0.  0.  0.  1.]\n",
        "\r",
        "Found animation from 2 to 3 starting at 307 (517)"
       ]
      },
      {
       "output_type": "stream",
       "stream": "stdout",
       "text": [
        "\r",
        "Found animation from 2 to 3 starting at 317 (517)"
       ]
      },
      {
       "output_type": "stream",
       "stream": "stdout",
       "text": [
        "\r",
        "Found animation from 2 to 3 starting at 327 (517)"
       ]
      },
      {
       "output_type": "stream",
       "stream": "stdout",
       "text": [
        "\r",
        "Found animation from 2 to 3 starting at 337 (517)"
       ]
      },
      {
       "output_type": "stream",
       "stream": "stdout",
       "text": [
        "\r",
        "Found animation from 2 to 3 starting at 347 (517)"
       ]
      },
      {
       "output_type": "stream",
       "stream": "stdout",
       "text": [
        "\r",
        "Found animation from 2 to 3 starting at 357 (517)"
       ]
      },
      {
       "output_type": "stream",
       "stream": "stdout",
       "text": [
        "\r",
        "Found animation from 2 to 3 starting at 367 (517)"
       ]
      },
      {
       "output_type": "stream",
       "stream": "stdout",
       "text": [
        "\r",
        "Found animation from 2 to 3 starting at 377 (517)"
       ]
      },
      {
       "output_type": "stream",
       "stream": "stdout",
       "text": [
        "\r",
        "Found animation from 2 to 3 starting at 387 (517)"
       ]
      },
      {
       "output_type": "stream",
       "stream": "stdout",
       "text": [
        "\r",
        "Found animation from 2 to 3 starting at 397 (517)"
       ]
      },
      {
       "output_type": "stream",
       "stream": "stdout",
       "text": [
        "\r",
        "Found animation from 2 to 3 starting at 407 (517)"
       ]
      },
      {
       "output_type": "stream",
       "stream": "stdout",
       "text": [
        "\r",
        "Found animation from 2 to 3 starting at 417 (517)"
       ]
      },
      {
       "output_type": "stream",
       "stream": "stdout",
       "text": [
        "\r",
        "Found animation from 2 to 3 starting at 427 (517)"
       ]
      },
      {
       "output_type": "stream",
       "stream": "stdout",
       "text": [
        "\r",
        "Found animation from 2 to 3 starting at 437 (517)"
       ]
      },
      {
       "output_type": "stream",
       "stream": "stdout",
       "text": [
        "\r",
        "Found animation from 2 to 3 starting at 447 (517)"
       ]
      },
      {
       "output_type": "stream",
       "stream": "stdout",
       "text": [
        "\r",
        "Found animation from 2 to 3 starting at 457 (517)"
       ]
      },
      {
       "output_type": "stream",
       "stream": "stdout",
       "text": [
        "\r",
        "Found animation from 2 to 3 starting at 467 (517)"
       ]
      },
      {
       "output_type": "stream",
       "stream": "stdout",
       "text": [
        "\r",
        "Found animation from 2 to 3 starting at 477 (517)"
       ]
      },
      {
       "output_type": "stream",
       "stream": "stdout",
       "text": [
        "\r",
        "Found animation from 2 to 3 starting at 487 (517)"
       ]
      },
      {
       "output_type": "stream",
       "stream": "stdout",
       "text": [
        "\r",
        "Found animation from 2 to 3 starting at 497 (517)"
       ]
      },
      {
       "output_type": "stream",
       "stream": "stdout",
       "text": [
        "\r",
        "Found animation from 2 to 3 starting at 507 (517)"
       ]
      },
      {
       "output_type": "stream",
       "stream": "stdout",
       "text": [
        "\r",
        "Found animation from 2 to 3 starting at 517 (517)"
       ]
      },
      {
       "output_type": "stream",
       "stream": "stdout",
       "text": [
        "\n",
        "[3 0]\n",
        "[ 1.  0.  0.  0.]\n",
        "\r",
        "Found animation from 3 to 0 starting at 519 (709)"
       ]
      },
      {
       "output_type": "stream",
       "stream": "stdout",
       "text": [
        "\r",
        "Found animation from 3 to 0 starting at 529 (709)"
       ]
      },
      {
       "output_type": "stream",
       "stream": "stdout",
       "text": [
        "\r",
        "Found animation from 3 to 0 starting at 539 (709)"
       ]
      },
      {
       "output_type": "stream",
       "stream": "stdout",
       "text": [
        "\r",
        "Found animation from 3 to 0 starting at 549 (709)"
       ]
      },
      {
       "output_type": "stream",
       "stream": "stdout",
       "text": [
        "\r",
        "Found animation from 3 to 0 starting at 559 (709)"
       ]
      },
      {
       "output_type": "stream",
       "stream": "stdout",
       "text": [
        "\r",
        "Found animation from 3 to 0 starting at 569 (709)"
       ]
      },
      {
       "output_type": "stream",
       "stream": "stdout",
       "text": [
        "\r",
        "Found animation from 3 to 0 starting at 579 (709)"
       ]
      },
      {
       "output_type": "stream",
       "stream": "stdout",
       "text": [
        "\r",
        "Found animation from 3 to 0 starting at 589 (709)"
       ]
      },
      {
       "output_type": "stream",
       "stream": "stdout",
       "text": [
        "\r",
        "Found animation from 3 to 0 starting at 599 (709)"
       ]
      },
      {
       "output_type": "stream",
       "stream": "stdout",
       "text": [
        "\r",
        "Found animation from 3 to 0 starting at 609 (709)"
       ]
      },
      {
       "output_type": "stream",
       "stream": "stdout",
       "text": [
        "\r",
        "Found animation from 3 to 0 starting at 619 (709)"
       ]
      },
      {
       "output_type": "stream",
       "stream": "stdout",
       "text": [
        "\r",
        "Found animation from 3 to 0 starting at 629 (709)"
       ]
      },
      {
       "output_type": "stream",
       "stream": "stdout",
       "text": [
        "\r",
        "Found animation from 3 to 0 starting at 639 (709)"
       ]
      },
      {
       "output_type": "stream",
       "stream": "stdout",
       "text": [
        "\r",
        "Found animation from 3 to 0 starting at 649 (709)"
       ]
      },
      {
       "output_type": "stream",
       "stream": "stdout",
       "text": [
        "\r",
        "Found animation from 3 to 0 starting at 659 (709)"
       ]
      },
      {
       "output_type": "stream",
       "stream": "stdout",
       "text": [
        "\r",
        "Found animation from 3 to 0 starting at 669 (709)"
       ]
      },
      {
       "output_type": "stream",
       "stream": "stdout",
       "text": [
        "\r",
        "Found animation from 3 to 0 starting at 679 (709)"
       ]
      },
      {
       "output_type": "stream",
       "stream": "stdout",
       "text": [
        "\r",
        "Found animation from 3 to 0 starting at 689 (709)"
       ]
      },
      {
       "output_type": "stream",
       "stream": "stdout",
       "text": [
        "\r",
        "Found animation from 3 to 0 starting at 699 (709)"
       ]
      },
      {
       "output_type": "stream",
       "stream": "stdout",
       "text": [
        "\r",
        "Found animation from 3 to 0 starting at 709 (709)"
       ]
      },
      {
       "output_type": "stream",
       "stream": "stdout",
       "text": [
        "\n",
        "[3 1]\n",
        "[ 0.  1.  0.  0.]\n",
        "\r",
        "Found animation from 3 to 1 starting at 519 (709)"
       ]
      },
      {
       "output_type": "stream",
       "stream": "stdout",
       "text": [
        "\r",
        "Found animation from 3 to 1 starting at 529 (709)"
       ]
      },
      {
       "output_type": "stream",
       "stream": "stdout",
       "text": [
        "\r",
        "Found animation from 3 to 1 starting at 539 (709)"
       ]
      },
      {
       "output_type": "stream",
       "stream": "stdout",
       "text": [
        "\r",
        "Found animation from 3 to 1 starting at 549 (709)"
       ]
      },
      {
       "output_type": "stream",
       "stream": "stdout",
       "text": [
        "\r",
        "Found animation from 3 to 1 starting at 559 (709)"
       ]
      },
      {
       "output_type": "stream",
       "stream": "stdout",
       "text": [
        "\r",
        "Found animation from 3 to 1 starting at 569 (709)"
       ]
      },
      {
       "output_type": "stream",
       "stream": "stdout",
       "text": [
        "\r",
        "Found animation from 3 to 1 starting at 579 (709)"
       ]
      },
      {
       "output_type": "stream",
       "stream": "stdout",
       "text": [
        "\r",
        "Found animation from 3 to 1 starting at 589 (709)"
       ]
      },
      {
       "output_type": "stream",
       "stream": "stdout",
       "text": [
        "\r",
        "Found animation from 3 to 1 starting at 599 (709)"
       ]
      },
      {
       "output_type": "stream",
       "stream": "stdout",
       "text": [
        "\r",
        "Found animation from 3 to 1 starting at 609 (709)"
       ]
      },
      {
       "output_type": "stream",
       "stream": "stdout",
       "text": [
        "\r",
        "Found animation from 3 to 1 starting at 619 (709)"
       ]
      },
      {
       "output_type": "stream",
       "stream": "stdout",
       "text": [
        "\r",
        "Found animation from 3 to 1 starting at 629 (709)"
       ]
      },
      {
       "output_type": "stream",
       "stream": "stdout",
       "text": [
        "\r",
        "Found animation from 3 to 1 starting at 639 (709)"
       ]
      },
      {
       "output_type": "stream",
       "stream": "stdout",
       "text": [
        "\r",
        "Found animation from 3 to 1 starting at 649 (709)"
       ]
      },
      {
       "output_type": "stream",
       "stream": "stdout",
       "text": [
        "\r",
        "Found animation from 3 to 1 starting at 659 (709)"
       ]
      },
      {
       "output_type": "stream",
       "stream": "stdout",
       "text": [
        "\r",
        "Found animation from 3 to 1 starting at 669 (709)"
       ]
      },
      {
       "output_type": "stream",
       "stream": "stdout",
       "text": [
        "\r",
        "Found animation from 3 to 1 starting at 679 (709)"
       ]
      },
      {
       "output_type": "stream",
       "stream": "stdout",
       "text": [
        "\r",
        "Found animation from 3 to 1 starting at 689 (709)"
       ]
      },
      {
       "output_type": "stream",
       "stream": "stdout",
       "text": [
        "\r",
        "Found animation from 3 to 1 starting at 699 (709)"
       ]
      },
      {
       "output_type": "stream",
       "stream": "stdout",
       "text": [
        "\r",
        "Found animation from 3 to 1 starting at 709 (709)"
       ]
      },
      {
       "output_type": "stream",
       "stream": "stdout",
       "text": [
        "\n",
        "[3 2]\n",
        "[ 0.  0.  1.  0.]\n",
        "\r",
        "Found animation from 3 to 2 starting at 519 (709)"
       ]
      },
      {
       "output_type": "stream",
       "stream": "stdout",
       "text": [
        "\r",
        "Found animation from 3 to 2 starting at 529 (709)"
       ]
      },
      {
       "output_type": "stream",
       "stream": "stdout",
       "text": [
        "\r",
        "Found animation from 3 to 2 starting at 539 (709)"
       ]
      },
      {
       "output_type": "stream",
       "stream": "stdout",
       "text": [
        "\r",
        "Found animation from 3 to 2 starting at 549 (709)"
       ]
      },
      {
       "output_type": "stream",
       "stream": "stdout",
       "text": [
        "\r",
        "Found animation from 3 to 2 starting at 559 (709)"
       ]
      },
      {
       "output_type": "stream",
       "stream": "stdout",
       "text": [
        "\r",
        "Found animation from 3 to 2 starting at 569 (709)"
       ]
      },
      {
       "output_type": "stream",
       "stream": "stdout",
       "text": [
        "\r",
        "Found animation from 3 to 2 starting at 579 (709)"
       ]
      },
      {
       "output_type": "stream",
       "stream": "stdout",
       "text": [
        "\r",
        "Found animation from 3 to 2 starting at 589 (709)"
       ]
      },
      {
       "output_type": "stream",
       "stream": "stdout",
       "text": [
        "\r",
        "Found animation from 3 to 2 starting at 599 (709)"
       ]
      },
      {
       "output_type": "stream",
       "stream": "stdout",
       "text": [
        "\r",
        "Found animation from 3 to 2 starting at 609 (709)"
       ]
      },
      {
       "output_type": "stream",
       "stream": "stdout",
       "text": [
        "\r",
        "Found animation from 3 to 2 starting at 619 (709)"
       ]
      },
      {
       "output_type": "stream",
       "stream": "stdout",
       "text": [
        "\r",
        "Found animation from 3 to 2 starting at 629 (709)"
       ]
      },
      {
       "output_type": "stream",
       "stream": "stdout",
       "text": [
        "\r",
        "Found animation from 3 to 2 starting at 639 (709)"
       ]
      },
      {
       "output_type": "stream",
       "stream": "stdout",
       "text": [
        "\r",
        "Found animation from 3 to 2 starting at 649 (709)"
       ]
      },
      {
       "output_type": "stream",
       "stream": "stdout",
       "text": [
        "\r",
        "Found animation from 3 to 2 starting at 659 (709)"
       ]
      },
      {
       "output_type": "stream",
       "stream": "stdout",
       "text": [
        "\r",
        "Found animation from 3 to 2 starting at 669 (709)"
       ]
      },
      {
       "output_type": "stream",
       "stream": "stdout",
       "text": [
        "\r",
        "Found animation from 3 to 2 starting at 679 (709)"
       ]
      },
      {
       "output_type": "stream",
       "stream": "stdout",
       "text": [
        "\r",
        "Found animation from 3 to 2 starting at 689 (709)"
       ]
      },
      {
       "output_type": "stream",
       "stream": "stdout",
       "text": [
        "\r",
        "Found animation from 3 to 2 starting at 699 (709)"
       ]
      },
      {
       "output_type": "stream",
       "stream": "stdout",
       "text": [
        "\r",
        "Found animation from 3 to 2 starting at 709 (709)"
       ]
      },
      {
       "output_type": "stream",
       "stream": "stdout",
       "text": [
        "\n"
       ]
      }
     ],
     "prompt_number": 115
    },
    {
     "cell_type": "code",
     "collapsed": false,
     "input": [
      "allNeededFrames = np.empty(0, dtype=int)\n",
      "\n",
      "for s in semanticsToUse :\n",
      "    allNeededFrames = np.concatenate((allNeededFrames, np.arange(semanticsFrameRanges[s, 0], semanticsFrameRanges[s, 1])))\n",
      "    \n",
      "for t in transitionAnimations :\n",
      "    for animation in t :\n",
      "        allNeededFrames = np.concatenate((allNeededFrames, animation))\n",
      "        \n",
      "allNeededFrames = np.unique(allNeededFrames)\n",
      "print allNeededFrames\n",
      "\n",
      "## make an array where each element tells me where the last frame of that looped semantic or transition sequence is\n",
      "frameSequencesLengthCumSum = []\n",
      "for s in loopedSemantics :\n",
      "    frameSequencesLengthCumSum.append(s[DICT_SEQUENCE_LENGTH])\n",
      "for t in transitionSequences :\n",
      "    frameSequencesLengthCumSum.append(t[DICT_SEQUENCE_LENGTH])\n",
      "frameSequencesLengthCumSum = np.cumsum(np.array(frameSequencesLengthCumSum))\n",
      "print frameSequencesLengthCumSum\n",
      "\n",
      "## which sequence each frame comes from (if id is bigger than len(loopedSemantics), then id indexes transitionSequences)\n",
      "sequencePerFrame = np.zeros_like(allNeededFrames)\n",
      "for i in xrange(len(allNeededFrames)) :\n",
      "    sequencePerFrame[i] = np.sum(allNeededFrames[i] >= frameSequencesLengthCumSum)\n",
      "    \n",
      "print sequencePerFrame\n",
      "\n",
      "## actual indices of the frames in their sequences rather than indices in the transition matrix\n",
      "allNeededFramesInSequenceIdxs = allNeededFrames-np.concatenate(([0], frameSequencesLengthCumSum))[sequencePerFrame]\n",
      "print allNeededFramesInSequenceIdxs\n",
      "\n",
      "## now build frameLocs using the above info\n",
      "frameLocs = []\n",
      "for i in xrange(len(allNeededFrames)) :\n",
      "    if sequencePerFrame[i] < len(loopedSemantics) :\n",
      "        frameLocs.append(loopedSemantics[sequencePerFrame[i]][DICT_FRAME_LOCS][allNeededFramesInSequenceIdxs[i]])\n",
      "    else :\n",
      "        frameLocs.append(transitionSequences[sequencePerFrame[i]-len(loopedSemantics)][DICT_FRAME_LOCS][allNeededFramesInSequenceIdxs[i]])\n",
      "print frameLocs"
     ],
     "language": "python",
     "metadata": {},
     "outputs": [
      {
       "ename": "NameError",
       "evalue": "name 'semanticsToUse' is not defined",
       "output_type": "pyerr",
       "traceback": [
        "\u001b[0;31m---------------------------------------------------------------------------\u001b[0m\n\u001b[0;31mNameError\u001b[0m                                 Traceback (most recent call last)",
        "\u001b[0;32m<ipython-input-9-a0d02e2d3c84>\u001b[0m in \u001b[0;36m<module>\u001b[0;34m()\u001b[0m\n\u001b[1;32m      1\u001b[0m \u001b[0mallNeededFrames\u001b[0m \u001b[0;34m=\u001b[0m \u001b[0mnp\u001b[0m\u001b[0;34m.\u001b[0m\u001b[0mempty\u001b[0m\u001b[0;34m(\u001b[0m\u001b[0;36m0\u001b[0m\u001b[0;34m,\u001b[0m \u001b[0mdtype\u001b[0m\u001b[0;34m=\u001b[0m\u001b[0mint\u001b[0m\u001b[0;34m)\u001b[0m\u001b[0;34m\u001b[0m\u001b[0m\n\u001b[1;32m      2\u001b[0m \u001b[0;34m\u001b[0m\u001b[0m\n\u001b[0;32m----> 3\u001b[0;31m \u001b[0;32mfor\u001b[0m \u001b[0ms\u001b[0m \u001b[0;32min\u001b[0m \u001b[0msemanticsToUse\u001b[0m \u001b[0;34m:\u001b[0m\u001b[0;34m\u001b[0m\u001b[0m\n\u001b[0m\u001b[1;32m      4\u001b[0m     \u001b[0mallNeededFrames\u001b[0m \u001b[0;34m=\u001b[0m \u001b[0mnp\u001b[0m\u001b[0;34m.\u001b[0m\u001b[0mconcatenate\u001b[0m\u001b[0;34m(\u001b[0m\u001b[0;34m(\u001b[0m\u001b[0mallNeededFrames\u001b[0m\u001b[0;34m,\u001b[0m \u001b[0mnp\u001b[0m\u001b[0;34m.\u001b[0m\u001b[0marange\u001b[0m\u001b[0;34m(\u001b[0m\u001b[0msemanticsFrameRanges\u001b[0m\u001b[0;34m[\u001b[0m\u001b[0ms\u001b[0m\u001b[0;34m,\u001b[0m \u001b[0;36m0\u001b[0m\u001b[0;34m]\u001b[0m\u001b[0;34m,\u001b[0m \u001b[0msemanticsFrameRanges\u001b[0m\u001b[0;34m[\u001b[0m\u001b[0ms\u001b[0m\u001b[0;34m,\u001b[0m \u001b[0;36m1\u001b[0m\u001b[0;34m]\u001b[0m\u001b[0;34m)\u001b[0m\u001b[0;34m)\u001b[0m\u001b[0;34m)\u001b[0m\u001b[0;34m\u001b[0m\u001b[0m\n\u001b[1;32m      5\u001b[0m \u001b[0;34m\u001b[0m\u001b[0m\n",
        "\u001b[0;31mNameError\u001b[0m: name 'semanticsToUse' is not defined"
       ]
      }
     ],
     "prompt_number": 9
    },
    {
     "cell_type": "code",
     "collapsed": false,
     "input": [
      "## build the full graph now based on used looped semantics and the transition animation\n",
      "semanticsGraph = []\n",
      "## keep track of what loop frame has been put in each node (row idx is index of node)\n",
      "loopFramesInNodes = np.empty(0, dtype=int)\n",
      "## add all the nodes used by the looped semantics I'm using in the graph\n",
      "for s in semanticsToUse :\n",
      "    for f in xrange(loopedSemantics[s][DICT_SEQUENCE_LENGTH]) :\n",
      "        globalFrameIdx = semanticsFrameRanges[s, 0] + f\n",
      "        semanticsGraph.append(np.array([int(np.argwhere(allNeededFrames == globalFrameIdx)), s]))\n",
      "        loopFramesInNodes = np.concatenate((loopFramesInNodes, [globalFrameIdx]), axis=1)\n",
      "        \n",
      "## add connections between loop nodes to build the actual nodes\n",
      "for s in semanticsToUse :\n",
      "    for f in xrange(loopedSemantics[s][DICT_SEQUENCE_LENGTH]) :\n",
      "        globalFrameIdx = semanticsFrameRanges[s, 0] + f\n",
      "        nodeIdx = int(np.argwhere(loopFramesInNodes == globalFrameIdx))\n",
      "        neighbourNodeIdx = int(np.argwhere(loopFramesInNodes == semanticsFrameRanges[s, 0] + np.mod(f+1, loopedSemantics[s][DICT_SEQUENCE_LENGTH])))\n",
      "        semanticsGraph[nodeIdx] = np.concatenate((semanticsGraph[nodeIdx], [neighbourNodeIdx]), axis=1)\n",
      "\n",
      "## go through transitionAnimations and add them to semanticsGraph\n",
      "for s in xrange(len(semanticsCombinations)) :\n",
      "    fromSemantics, toSemantics = semanticsCombinations[s]\n",
      "    ## transition animations are already using global frame idxs\n",
      "    for transitionAnimation in transitionAnimations[s] : #[0:1] :\n",
      "#         print fromSemantics, toSemantics\n",
      "#         print transitionAnimation\n",
      "#         print \"from node\", int(np.argwhere(loopFramesInNodes == transitionAnimation[0])), \"to node\", int(np.argwhere(loopFramesInNodes == transitionAnimation[-1]))\n",
      "        ## add node for second frame in animation\n",
      "        semanticsGraph.append(np.array([int(np.argwhere(allNeededFrames == transitionAnimation[1])), toSemantics]))\n",
      "        ## add edge from first frame in animation (i.e. a node from loop fromSemantics) to second frame which is a completely new node\n",
      "        nodeIdx = int(np.argwhere(loopFramesInNodes == transitionAnimation[0]))\n",
      "        semanticsGraph[nodeIdx] = np.concatenate((semanticsGraph[nodeIdx], [len(semanticsGraph)-1]), axis=1)\n",
      "        \n",
      "        ## add edge between new node for frame and previous node\n",
      "        for frame in transitionAnimation[2:-1] :\n",
      "            semanticsGraph.append(np.array([int(np.argwhere(allNeededFrames == frame)), toSemantics]))\n",
      "            semanticsGraph[-2] = np.concatenate((semanticsGraph[-2], [len(semanticsGraph)-1]), axis=1)\n",
      "#             print frame\n",
      "            \n",
      "        ## add edge between last frame's node and the last frame in the animation (i.e. a node from loop toSemantics)\n",
      "        semanticsGraph[-1] = np.concatenate((semanticsGraph[-1], [int(np.argwhere(loopFramesInNodes == transitionAnimation[-1]))]), axis=1)"
     ],
     "language": "python",
     "metadata": {},
     "outputs": [],
     "prompt_number": 120
    },
    {
     "cell_type": "code",
     "collapsed": false,
     "input": [
      "if not os.path.isdir(dataPath+\"precomputedSemanticsGraph/\") :\n",
      "    os.mkdir(dataPath+\"precomputedSemanticsGraph/\")\n",
      "csvFile = open(dataPath+\"precomputedSemanticsGraph/semanticsGraph.csv\", 'w')\n",
      "## [num_semantics, num_nodes, num_frames]\n",
      "csvFile.write(\"## [num_semantics, num_nodes, num_frames]\\n\")\n",
      "csvFile.write(np.string_(len(semanticsToUse)) + \",\" + np.string_(len(semanticsGraph)) + \",\" + np.string_(len(frameLocs)) + \"\\n\")\n",
      "\n",
      "## HACK to just try the UI ##\n",
      "csvFile.write(\"## [frame_image_id, semantics_id, connected_node1, ...]\\n\")\n",
      "## format semantics graph and save as csv\n",
      "semanticsGraphStrings = []\n",
      "for node in semanticsGraph :\n",
      "    ## [frame_image_id, semantics_id, connected_node1, ...]\n",
      "    semanticsGraphStrings.append(','.join(\"{0:0d}\".format(n) for n in node ) + \"\\n\")\n",
      "# print semanticsGraphs\n",
      "csvFile.writelines(semanticsGraphStrings)\n",
      "csvFile.close()\n",
      "# np.savetxt(dataPath+\"precomputedSemanticsGraph/semanticsGraph.csv\", semanticsGraph, delimiter=',')"
     ],
     "language": "python",
     "metadata": {},
     "outputs": [],
     "prompt_number": 122
    },
    {
     "cell_type": "code",
     "collapsed": false,
     "input": [
      "## copy frames to right folder\n",
      "for frame in xrange(len(frameLocs)) :\n",
      "    shutil.copyfile(frameLocs[frame], dataPath+\"precomputedSemanticsGraph/frame-{0:05d}.png\".format(frame+1))"
     ],
     "language": "python",
     "metadata": {},
     "outputs": [],
     "prompt_number": 133
    },
    {
     "cell_type": "code",
     "collapsed": false,
     "input": [
      "## resize frames\n",
      "desiredSize = [1100, 1100, 4]\n",
      "for frame in np.sort(glob.glob(dataPath+\"precomputedSemanticsGraph/frame-*.png\")) :\n",
      "    frameName = frame.split('/')[-1]\n",
      "    im = np.array(Image.open(frame))\n",
      "    imSize = im.shape\n",
      "    topLeft = ((desiredSize[0]-imSize[0]), (desiredSize[1]-imSize[1])/2)\n",
      "    resizedImage = np.zeros(desiredSize, dtype=uint8)\n",
      "    resizedImage[topLeft[0]:topLeft[0]+imSize[0], topLeft[1]:topLeft[1]+imSize[1]] = im\n",
      "    Image.fromarray(resizedImage).save(dataPath+\"precomputedSemanticsGraph/\"+frameName)"
     ],
     "language": "python",
     "metadata": {},
     "outputs": [],
     "prompt_number": 14
    },
    {
     "cell_type": "code",
     "collapsed": false,
     "input": [
      "class ImageLabel(QtGui.QLabel) :\n",
      "    \n",
      "    def __init__(self, text=\"\", parent=None):\n",
      "        super(ImageLabel, self).__init__(text, parent)\n",
      "        \n",
      "        self.image = None\n",
      "        self.color = QtGui.QColor(QtCore.Qt.black)\n",
      "        \n",
      "    def setImage(self, image) : \n",
      "        self.image = image.copy()\n",
      "        self.setMinimumSize(self.image.size())\n",
      "        self.update()\n",
      "        \n",
      "    def setBackgroundColor(self, color) :\n",
      "        self.color = color\n",
      "        \n",
      "    def paintEvent(self, event):\n",
      "        super(ImageLabel, self).paintEvent(event)\n",
      "        painter = QtGui.QPainter(self)\n",
      "        \n",
      "        if self.image != None :\n",
      "#             upperLeft = ((self.width()-self.image.width())/2, (self.height()-self.image.height())/2)\n",
      "            upperLeft = (self.width()/2-self.image.width()/2, self.height()-self.image.height())\n",
      "    \n",
      "            ## draw background\n",
      "            painter.setBrush(QtGui.QBrush(self.color))\n",
      "            painter.setPen(QtGui.QPen(self.color, 0, \n",
      "                                      QtCore.Qt.SolidLine, QtCore.Qt.RoundCap, QtCore.Qt.RoundJoin))\n",
      "            painter.drawRect(QtCore.QRect(upperLeft[0], upperLeft[1], self.image.width(), self.image.height()))\n",
      "            \n",
      "            ## draw image\n",
      "            painter.drawImage(QtCore.QPoint(upperLeft[0], upperLeft[1]), self.image)\n",
      "                \n",
      "                \n",
      "class Window(QtGui.QWidget):\n",
      "    def __init__(self):\n",
      "        super(Window, self).__init__()\n",
      "        \n",
      "        self.setWindowTitle(\"Precomputed Semantic Looping\")\n",
      "        self.resize(1280, 720)\n",
      "        \n",
      "        self.playIcon = QtGui.QIcon(\"play.png\")\n",
      "        self.pauseIcon = QtGui.QIcon(\"pause.png\")\n",
      "        self.doPlaySequence = False\n",
      "        \n",
      "        self.playTimer = QtCore.QTimer(self)\n",
      "        self.playTimer.setInterval(1000/30)\n",
      "        self.playTimer.timeout.connect(self.renderOneFrame)\n",
      "        self.lastRenderTime = time.time()\n",
      "        self.oldInfoText = \"\"\n",
      "        \n",
      "        self.createGUI()\n",
      "        \n",
      "        self.semanticsGraphLocation = dataPath+\"precomputedSemanticsGraph/\"\n",
      "        self.loadSemanticsGraph(self.semanticsGraphLocation)\n",
      "        \n",
      "        self.currentNode = 0\n",
      "        self.currentSemantics = 0\n",
      "        self.renderOneFrame()\n",
      "        \n",
      "        self.setFocus()\n",
      "        \n",
      "    def loadSemanticsGraph(self, location) :\n",
      "    \n",
      "        self.semanticsGraph = []\n",
      "        self.numSemantics = 0\n",
      "        self.numNodes = 0\n",
      "        self.numFrames = 0\n",
      "        \n",
      "        if not os.path.isfile(location+\"semanticsGraph.csv\") :\n",
      "            print \"No semantics graph at given location\"\n",
      "            self.close()\n",
      "        else :\n",
      "            csvFile = open(location+\"semanticsGraph.csv\", 'r')\n",
      "            readInfo = False\n",
      "            for line in csvFile :\n",
      "                if not line.startswith(\"##\") :\n",
      "                    if not readInfo :\n",
      "                        readInfo = True\n",
      "                        self.numSemantics, self.numNodes, self.numFrames = np.array(line.split(\",\"), dtype=int)\n",
      "                    else :\n",
      "                        self.semanticsGraph.append(np.array(line.split(\",\"), dtype=int))\n",
      "            \n",
      "            csvFile.close()\n",
      "            \n",
      "            \n",
      "        ## here I should really load the sorted list of frames in the location where the semanticGraph is stored\n",
      "#         self.frameLocs = np.sort(glob.glob(location+\"frame*.png\"))\n",
      "#         if len(self.frameLocs) != self.numFrames :\n",
      "#             print \"Number of frames in folder doesn't match number of frames in graph\"\n",
      "#             self.close()\n",
      "        \n",
      "        self.frameLocs = np.sort(glob.glob(location+\"frame-*\"))#frameLocs\n",
      "        \n",
      "        self.allFrames = []\n",
      "        for frame in self.frameLocs :\n",
      "            self.allFrames.append(np.ascontiguousarray(cv2.resize(cv2.imread(frame, cv2.CV_LOAD_IMAGE_UNCHANGED), (720, 720), interpolation=cv2.INTER_AREA)))\n",
      "        \n",
      "    def renderOneFrame(self) :\n",
      "        ## get background image\n",
      "        if self.currentNode >= 0 and self.currentNode < len(self.semanticsGraph) :\n",
      "            frameIdx = self.semanticsGraph[self.currentNode][0]\n",
      "            if frameIdx >= 0 and frameIdx < self.numFrames :\n",
      "#                 im = np.ascontiguousarray(cv2.imread(self.frameLocs[frameIdx], cv2.CV_LOAD_IMAGE_UNCHANGED))\n",
      "                im = self.allFrames[frameIdx]\n",
      "                img = QtGui.QImage(im.data, im.shape[1], im.shape[0], im.strides[0], QtGui.QImage.Format_ARGB32);\n",
      "#                 self.frameLabel.setFixedSize(img.width(), img.height())\n",
      "                self.frameLabel.setImage(img)\n",
      "\n",
      "                self.frameInfo.setText(\"Rendering at \" + np.string_(int(1.0/(time.time() - self.lastRenderTime))) + \" FPS\\n\" + \n",
      "                                       \"Current Semantics \" + np.string_(self.currentSemantics) + \"\\n\" + \n",
      "                                       np.string_(self.currentNode) + \" --> \" + self.frameLocs[frameIdx])\n",
      "                self.lastRenderTime = time.time()\n",
      "                self.stepInGraph()\n",
      "    \n",
      "    def stepInGraph(self) :\n",
      "        if self.currentNode >= 0 and self.currentNode < len(self.semanticsGraph) :\n",
      "            neighbourNodes = self.semanticsGraph[self.currentNode][2:]\n",
      "            for node in neighbourNodes :\n",
      "                if self.semanticsGraph[node][1] == self.currentSemantics :\n",
      "                    self.currentNode = node\n",
      "                    break\n",
      "                else :\n",
      "                    self.currentNode = node\n",
      "            \n",
      "    def closeEvent(self, event) :\n",
      "        print \"closing\"\n",
      "        sys.stdout.flush()\n",
      "            \n",
      "    def deleteGeneratedSequence(self) :\n",
      "        del self.generatedSequence\n",
      "        self.generatedSequence = []\n",
      "        \n",
      "        ## update sliders\n",
      "        self.frameIdxSlider.setMaximum(0)\n",
      "        self.frameIdxSpinBox.setRange(0, 0)\n",
      "        \n",
      "        self.frameInfo.setText(\"Info text\")\n",
      "        \n",
      "        self.frameIdxSpinBox.setValue(0)\n",
      "            \n",
      "    def keyPressEvent(self, e) :\n",
      "        if e.key() == e.key() >= QtCore.Qt.Key_0 and e.key() <= QtCore.Qt.Key_9 :\n",
      "            pressedIdx = np.mod(e.key()-int(QtCore.Qt.Key_0), int(QtCore.Qt.Key_9))\n",
      "            if pressedIdx >= 0 and pressedIdx < self.numSemantics :\n",
      "                print \"show semantics\", pressedIdx\n",
      "                self.currentSemantics = pressedIdx\n",
      "                sys.stdout.flush()\n",
      "        if e.key() == QtCore.Qt.Key_Left :\n",
      "            self.currentSemantics = 2\n",
      "        elif e.key() == QtCore.Qt.Key_Right :\n",
      "            self.currentSemantics = 3\n",
      "        elif e.key() == QtCore.Qt.Key_Up :\n",
      "            self.currentSemantics = np.random.choice(arange(2))\n",
      "            \n",
      "    \n",
      "#     def eventFilter(self, obj, event) :\n",
      "#         if obj == self.frameLabel and event.type() == QtCore.QEvent.Type.MouseMove :\n",
      "#             self.mouseMoved(event)\n",
      "#             return True\n",
      "#         elif obj == self.frameLabel and event.type() == QtCore.QEvent.Type.MouseButtonPress :\n",
      "#             self.mousePressed(event)\n",
      "#             return True\n",
      "#         elif obj == self.frameLabel and event.type() == QtCore.QEvent.Type.MouseButtonRelease :\n",
      "#             self.mouseReleased(event)\n",
      "#             return True\n",
      "#         elif (obj == self.frameIdxSpinBox or obj == self.frameIdxSlider) and event.type() == QtCore.QEvent.Type.KeyPress :\n",
      "#             self.keyPressEvent(event)\n",
      "#             return True\n",
      "#         return QtGui.QWidget.eventFilter(self, obj, event)\n",
      "    \n",
      "    def playSequenceButtonPressed(self) :\n",
      "        if self.doPlaySequence :\n",
      "            self.doPlaySequence = False\n",
      "            self.playSequenceButton.setIcon(self.playIcon)\n",
      "            self.playTimer.stop()\n",
      "            \n",
      "            self.frameInfo.setText(self.oldInfoText)\n",
      "        else :\n",
      "            self.lastRenderTime = time.time()\n",
      "            self.doPlaySequence = True\n",
      "            self.playSequenceButton.setIcon(self.pauseIcon)\n",
      "            self.playTimer.start()\n",
      "            \n",
      "            self.oldInfoText = self.frameInfo.text()\n",
      "            \n",
      "        self.setFocus()\n",
      "            \n",
      "    def setRenderFps(self, value) :\n",
      "        self.playTimer.setInterval(1000/value)\n",
      "        self.setFocus()\n",
      "        \n",
      "    def setBackgroundColor(self) :\n",
      "        newBgColor = QtGui.QColorDialog.getColor(QtCore.Qt.black, self, \"Choose Background Color\")\n",
      "        self.frameLabel.setBackgroundColor(newBgColor)\n",
      "        self.setFocus()\n",
      "        \n",
      "    def createGUI(self) :\n",
      "        \n",
      "        ## WIDGETS ##\n",
      "        \n",
      "        self.frameLabel = ImageLabel(\"Frame\")\n",
      "        self.frameLabel.setSizePolicy(QtGui.QSizePolicy.MinimumExpanding, QtGui.QSizePolicy.MinimumExpanding)\n",
      "        self.frameLabel.setAlignment(QtCore.Qt.AlignCenter | QtCore.Qt.AlignHCenter)\n",
      "        self.frameLabel.installEventFilter(self)\n",
      "        \n",
      "        self.frameInfo = QtGui.QLabel(\"Info text\")\n",
      "        self.frameInfo.setAlignment(QtCore.Qt.AlignCenter | QtCore.Qt.AlignHCenter)\n",
      "        \n",
      "        self.renderFpsSpinBox = QtGui.QSpinBox()\n",
      "        self.renderFpsSpinBox.setRange(1, 60)\n",
      "        self.renderFpsSpinBox.setSingleStep(1)\n",
      "        self.renderFpsSpinBox.setValue(30)\n",
      "        \n",
      "        self.playSequenceButton = QtGui.QToolButton()\n",
      "        self.playSequenceButton.setToolTip(\"Play Generated Sequence\")\n",
      "        self.playSequenceButton.setCheckable(False)\n",
      "        self.playSequenceButton.setShortcut(QtGui.QKeySequence(\"Alt+P\"))\n",
      "        self.playSequenceButton.setSizePolicy(QtGui.QSizePolicy.MinimumExpanding, QtGui.QSizePolicy.Maximum)\n",
      "        self.playSequenceButton.setIcon(self.playIcon)\n",
      "        \n",
      "        self.setBackgroundColorButton = QtGui.QPushButton(\"&Background Color\")\n",
      "        \n",
      "        \n",
      "        ## SIGNALS ##\n",
      "        \n",
      "        self.renderFpsSpinBox.valueChanged[int].connect(self.setRenderFps)\n",
      "        \n",
      "        self.playSequenceButton.clicked.connect(self.playSequenceButtonPressed)\n",
      "        self.setBackgroundColorButton.clicked.connect(self.setBackgroundColor)\n",
      "        \n",
      "        ## LAYOUTS ##\n",
      "        \n",
      "        mainLayout = QtGui.QHBoxLayout()\n",
      "        \n",
      "        renderingControls = QtGui.QGroupBox(\"Rendering Controls\")\n",
      "        renderingControls.setSizePolicy(QtGui.QSizePolicy.Maximum, QtGui.QSizePolicy.Maximum)\n",
      "        renderingControls.setStyleSheet(\"QGroupBox { margin: 5px; border: 2px groove gray; border-radius: 3px; } QGroupBox::title {left: 15px; top: -7px; font: bold;}\")\n",
      "        renderingControlsLayout = QtGui.QVBoxLayout()\n",
      "        renderingControlsLayout.addWidget(self.playSequenceButton)\n",
      "        renderingControlsLayout.addWidget(self.renderFpsSpinBox)\n",
      "        renderingControlsLayout.addWidget(self.setBackgroundColorButton)\n",
      "        renderingControls.setLayout(renderingControlsLayout)        \n",
      "        \n",
      "        controlsLayout = QtGui.QVBoxLayout()\n",
      "        controlsLayout.addWidget(renderingControls)\n",
      "        \n",
      "        frameHLayout = QtGui.QHBoxLayout()\n",
      "        frameHLayout.addStretch()\n",
      "        frameHLayout.addWidget(self.frameLabel)\n",
      "        frameHLayout.addStretch()\n",
      "        \n",
      "        frameVLayout = QtGui.QVBoxLayout()\n",
      "        frameVLayout.addStretch()\n",
      "        frameVLayout.addLayout(frameHLayout)\n",
      "        frameVLayout.addStretch()\n",
      "        frameVLayout.addWidget(self.frameInfo)\n",
      "        \n",
      "        mainLayout.addLayout(controlsLayout)\n",
      "        mainLayout.addLayout(frameVLayout)\n",
      "        self.setLayout(mainLayout)"
     ],
     "language": "python",
     "metadata": {},
     "outputs": [],
     "prompt_number": 13
    },
    {
     "cell_type": "code",
     "collapsed": false,
     "input": [
      "window = Window()\n",
      "window.show()\n",
      "app.exec_()"
     ],
     "language": "python",
     "metadata": {},
     "outputs": [
      {
       "output_type": "stream",
       "stream": "stdout",
       "text": [
        "closing\n"
       ]
      },
      {
       "metadata": {},
       "output_type": "pyout",
       "prompt_number": 14,
       "text": [
        "0"
       ]
      }
     ],
     "prompt_number": 14
    },
    {
     "cell_type": "code",
     "collapsed": false,
     "input": [
      "im = window.spriteListTable.itemDelegateForRow(11).iconImage\n",
      "qim = QtGui.QImage(im.data, im.shape[1], im.shape[0], im.strides[0], QtGui.QImage.Format_ARGB32)\n",
      "qim.save(\"tralala.png\")"
     ],
     "language": "python",
     "metadata": {},
     "outputs": [
      {
       "metadata": {},
       "output_type": "pyout",
       "prompt_number": 534,
       "text": [
        "True"
       ]
      }
     ],
     "prompt_number": 534
    }
   ],
   "metadata": {}
  }
 ]
}