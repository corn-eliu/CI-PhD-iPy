{
 "metadata": {
  "name": "",
  "signature": "sha256:983110d0fa46ace0ea54ffb4700ee5b1226344e8b3a889370a1412481b08d99e"
 },
 "nbformat": 3,
 "nbformat_minor": 0,
 "worksheets": [
  {
   "cells": [
    {
     "cell_type": "code",
     "collapsed": false,
     "input": [
      "## Imports and defines\n",
      "%pylab\n",
      "import numpy as np\n",
      "import sys\n",
      "import scipy as sp\n",
      "\n",
      "import cv2\n",
      "import time\n",
      "import os\n",
      "import scipy.io as sio\n",
      "import glob\n",
      "\n",
      "from PIL import Image\n",
      "from PySide import QtCore, QtGui\n",
      "\n",
      "import GraphWithValues as gwv\n",
      "import VideoTexturesUtils as vtu\n",
      "import opengm\n",
      "\n",
      "import shutil\n",
      "\n",
      "app = QtGui.QApplication(sys.argv)\n",
      "\n",
      "# dataPath = \"/home/ilisescu/PhD/data/\"\n",
      "# dataSet = \"havana/\"\n",
      "dataPath = \"/media/ilisescu/Data1/PhD/data/\"\n",
      "# dataSet = \"clouds_subsample10/\"\n",
      "# dataSet = \"theme_park_cloudy/\"\n",
      "# dataSet = \"theme_park_sunny/\"\n",
      "dataSet = \"candle1/segmentedAndCropped\"\n",
      "formatString = \"{:05d}.png\""
     ],
     "language": "python",
     "metadata": {},
     "outputs": [
      {
       "output_type": "stream",
       "stream": "stdout",
       "text": [
        "Using matplotlib backend: TkAgg\n",
        "Populating the interactive namespace from numpy and matplotlib\n"
       ]
      }
     ],
     "prompt_number": 1
    },
    {
     "cell_type": "code",
     "collapsed": false,
     "input": [
      "DICT_ORIGINAL_DATASET = 'original_dataset'\n",
      "DICT_FRAME_LOCS = 'frame_locs'\n",
      "DICT_SEQUENCE_LENGTH = 'sequence_length'\n",
      "DICT_ANCHOR_POINT = 'anchor_point'"
     ],
     "language": "python",
     "metadata": {},
     "outputs": [],
     "prompt_number": 2
    },
    {
     "cell_type": "code",
     "collapsed": false,
     "input": [
      "## compute euclidean distance assuming f is an array where each row is a flattened image (1xN array, N=W*H*Channels)\n",
      "## euclidean distance defined as the length of the the displacement vector:\n",
      "## len(q-p) = sqrt(len(q)^2+len(p)^2 - 2*dot(p, q)) where p and q are two images in vector format and 1xN size\n",
      "def distEuc(f) :\n",
      "    ## gives sum over squared intensity values for each image\n",
      "    ff = np.sum(f*f, axis=1)\n",
      "    ## first term is sum between each possible combination of frames\n",
      "    ## second term is the the dot product between each frame as in the formula above\n",
      "    d = np.sqrt(np.reshape(ff, [len(ff),1])+ff.T - 2*np.dot(f, f.T))\n",
      "    return d\n",
      "\n",
      "def distEuc2(f1, f2) :\n",
      "    ## gives sum over squared intensity values for each image\n",
      "    ff1 = np.sum(f1*f1, axis=1)\n",
      "    ff2 = np.sum(f2*f2, axis=1)\n",
      "#     print ff1.shape\n",
      "#     print ff2.shape\n",
      "    ## first term is sum between each possible combination of frames\n",
      "    ## second term is the the dot product between each frame as in the formula above\n",
      "#     print \"askdfh\", np.repeat(np.reshape(ff1, [len(ff1),1]), len(ff2), axis=1).shape, np.repeat(np.reshape(ff2, [1, len(ff2)]), len(ff1), axis=0).shape\n",
      "    d = np.sqrt(np.repeat(np.reshape(ff1, [len(ff1),1]), len(ff2), axis=1)+np.repeat(np.reshape(ff2, [1, len(ff2)]), len(ff1), axis=0) - 2*np.dot(f1, f2.T))\n",
      "    return d"
     ],
     "language": "python",
     "metadata": {},
     "outputs": [],
     "prompt_number": 3
    },
    {
     "cell_type": "code",
     "collapsed": false,
     "input": [
      "def imgIndicesToLinear(rowRange, colRange, channels, imgSize) :\n",
      "    ## repeat col indices channels times to be able to index the 3 channels\n",
      "    colsWithChannels = colRange.repeat(channels)*channels+np.repeat([np.arange(channels)], len(colRange), axis=0).flatten()\n",
      "    idxs = colsWithChannels.reshape((1, len(colsWithChannels))).repeat(len(rowRange), axis=0).flatten()+(rowRange*imgSize[1]*channels).repeat(len(colsWithChannels))\n",
      "    return idxs\n",
      "\n",
      "def getLinearIndicesOfFrameOverlap(aFrameSize, bFrameSize, aAnchorPoint, bAnchorPoint) :\n",
      "    ## translation vector for matching b's frame coordinate system to the a's frame one\n",
      "    translation = aAnchorPoint-bAnchorPoint\n",
      "    \n",
      "    ## moving b's frame corners into a's frame coordinate system\n",
      "    bFrameCorners = np.array([[0, 0], bFrameSize[::-1]]) + translation\n",
      "    \n",
      "    ## overlap corners in a's frame coordinate system\n",
      "    aOverlapCorners = np.array([[np.max([bFrameCorners[0, 0], 0]), \n",
      "                                np.max([bFrameCorners[0, 1], 0])],\n",
      "                               [np.min([bFrameCorners[1, 0], aFrameSize[1]]), \n",
      "                                np.max([bFrameCorners[1, 1], aFrameSize[0]])]])\n",
      "    \n",
      "    ## get overlap corners in b's frame coordinate system\n",
      "    bOverlapCorners = aOverlapCorners-translation\n",
      "\n",
      "    aLinearIndices = imgIndicesToLinear(np.arange(aOverlapCorners[0, 1], aOverlapCorners[1, 1]),\n",
      "                                        np.arange(aOverlapCorners[0, 0], aOverlapCorners[1, 0]), 3, aFrameSize)\n",
      "    bLinearIndices = imgIndicesToLinear(np.arange(bOverlapCorners[0, 1], bOverlapCorners[1, 1]),\n",
      "                                        np.arange(bOverlapCorners[0, 0], bOverlapCorners[1, 0]), 3, bFrameSize)\n",
      "    \n",
      "    return aLinearIndices, bLinearIndices\n",
      "\n",
      "# iThFrameLinearIndices, jThFrameLinearIndices = getLinearIndicesOfFrameOverlap(iThLoopFrameSize, jThLoopFrameSize, iThLoopAnchorPoint, jThLoopAnchorPoint)"
     ],
     "language": "python",
     "metadata": {},
     "outputs": [],
     "prompt_number": 4
    },
    {
     "cell_type": "code",
     "collapsed": false,
     "input": [
      "def vectorisedMinusLogMultiNormal(dataPoints, means, var, normalized = True) :\n",
      "    if (dataPoints.shape[1] != means.shape[1] or np.any(dataPoints.shape[1] != np.array(var.shape)) \n",
      "        or len(var.shape) != 2 or var.shape[0] != var.shape[1]) :\n",
      "        raise Exception(\"Data shapes don't agree data(\" + np.string_(dataPoints.shape) + \") mean(\" + np.string_(means.shape) + \n",
      "                        \") var(\" + np.string_(var.shape) + \")\")\n",
      "    \n",
      "    D = float(dataPoints.shape[1])\n",
      "    n = -0.5*np.log(np.linalg.det(var))-(D/2.0)*np.log(2.0*np.pi)\n",
      "    \n",
      "    ## this does 0.5*dot(dot(data-mean, varInv), data-mean)\n",
      "    varInv = np.linalg.inv(var)\n",
      "    dataMinusMean = dataPoints-means\n",
      "    \n",
      "    ps = []\n",
      "    for i in xrange(int(D)) :\n",
      "        ps.append(np.sum((dataMinusMean)*varInv[:, i], axis=-1))\n",
      "    \n",
      "    ps = np.array(ps).T\n",
      "    \n",
      "    ps = -0.5*np.sum(ps*(dataMinusMean), axis=-1)\n",
      "    \n",
      "    if normalized :\n",
      "        return n-ps\n",
      "    else :\n",
      "        return -ps\n",
      "# s = time.time()\n",
      "# vectorisedMinusLogMultiNormal(semanticDist.reshape((len(semanticDist), 1)), np.array([0.0]).reshape((1, 1)), np.array([0.0001]).reshape((1, 1)), True)\n",
      "# print time.time() - s\n",
      "# s = time.time()\n",
      "# vectorisedMinusLogMultiNormal(semanticLabels, np.array(desiredLabel).reshape((1, 2)), np.eye(2)*0.0001, True)"
     ],
     "language": "python",
     "metadata": {},
     "outputs": [],
     "prompt_number": 5
    },
    {
     "cell_type": "code",
     "collapsed": false,
     "input": [
      "### this is done using matrices\n",
      "def solveSparseDynProgMRF(unaryCosts, pairwiseCosts, nodesConnectedToLabel) :\n",
      "    ## assumes unaryCosts has 1 row for each label and 1 col for each variable\n",
      "    ## assumes arrow heads are rows and arrow tails are cols in pairwiseCosts\n",
      "    \n",
      "    ## use the unary and pairwise costs to compute the min cost paths at each node\n",
      "    # each column represents point n and each row says the index of the k-state that is chosen for the min cost path\n",
      "    minCostPaths = np.zeros([unaryCosts.shape[0], unaryCosts.shape[1]], dtype=int)\n",
      "    # contains the min cost to reach a certain state k (i.e. row) for point n (i.e. column)\n",
      "    minCosts = np.zeros([unaryCosts.shape[0], unaryCosts.shape[1]])\n",
      "    # the first row of minCosts is just the unary cost\n",
      "    minCosts[:, 0] = unaryCosts[:, 0]\n",
      "    minCostPaths[:, 0] = np.arange(0, unaryCosts.shape[0])        \n",
      "    \n",
      "    k = unaryCosts.shape[0]\n",
      "    for n in xrange(1, unaryCosts.shape[1]) :\n",
      "        costsPerVariableLabelEdge = minCosts[nodesConnectedToLabel, n-1]\n",
      "        costsPerVariableLabelEdge += pairwiseCosts[arange(len(pairwiseCosts)).reshape((len(pairwiseCosts), 1)).repeat(nodesConnectedToLabel.shape[-1], axis=-1), nodesConnectedToLabel]\n",
      "        costsPerVariableLabelEdge += unaryCosts[:, n].reshape((len(unaryCosts), 1)).repeat(nodesConnectedToLabel.shape[-1], axis=-1)\n",
      "        minCostsIdxs = np.argmin(costsPerVariableLabelEdge, axis=-1)\n",
      "        ## minCosts\n",
      "        minCosts[:, n] = costsPerVariableLabelEdge[arange(len(unaryCosts)), minCostsIdxs]\n",
      "        ## minCostPaths\n",
      "        minCostPaths[:, n] = nodesConnectedToLabel[arange(len(unaryCosts)), minCostsIdxs]\n",
      "    \n",
      "    \n",
      "    ## now find the min cost path starting from the right most n with lowest cost\n",
      "    minCostTraversal = np.zeros(unaryCosts.shape[1], dtype=np.int)\n",
      "    ## last node is the node where the right most node with lowest cost\n",
      "    minCostTraversal[-1] = np.argmin(minCosts[:, -1]) #minCostPaths[np.argmin(minCosts[:, -1]), -1]\n",
      "    if np.min(minCosts[:, -1]) == np.inf :\n",
      "        minCostTraversal[-1] = np.floor((unaryCosts.shape[0])/2)\n",
      "    \n",
      "    for i in xrange(len(minCostTraversal)-2, -1, -1) :\n",
      "        minCostTraversal[i] = minCostPaths[minCostTraversal[i+1], i+1]\n",
      "        \n",
      "    return minCostTraversal, np.min(minCosts[:, -1]), minCostPaths"
     ],
     "language": "python",
     "metadata": {},
     "outputs": [],
     "prompt_number": 6
    },
    {
     "cell_type": "code",
     "collapsed": false,
     "input": [
      "## setup precomputed loops for each semantics --> should save loops in this format in the first place when I make them\n",
      "loopedSemantics = []\n",
      "\n",
      "## loop one from candle1\n",
      "loopedSemantics.append({\n",
      "                        DICT_ORIGINAL_DATASET:\"candle1/segmentedAndCropped\",\n",
      "                        DICT_FRAME_LOCS:[dataPath+\"candle1/segmentedAndCropped/frame-{:05d}.png\".format(i+1) for i in xrange(922, 1122+1)],\n",
      "                        DICT_SEQUENCE_LENGTH:201,\n",
      "                        DICT_ANCHOR_POINT:np.array([360, 700])\n",
      "                        })\n",
      "\n",
      "## loop two from candle1\n",
      "loopedSemantics.append({\n",
      "                        DICT_ORIGINAL_DATASET:\"candle1/segmentedAndCropped\",\n",
      "                        DICT_FRAME_LOCS:[dataPath+\"candle1/segmentedAndCropped/frame-{:05d}.png\".format(i+1) for i in xrange(549, 654+1)],\n",
      "                        DICT_SEQUENCE_LENGTH:106,\n",
      "                        DICT_ANCHOR_POINT:np.array([360, 700])\n",
      "                        })\n",
      "## loop for candle left\n",
      "loopedSemantics.append({\n",
      "                        DICT_ORIGINAL_DATASET:\"candle3/stabilized/segmentedAndCropped/\",\n",
      "                        DICT_FRAME_LOCS:[dataPath+\"candle3/stabilized/segmentedAndCropped/frame-{:05d}.png\".format(i+1) for i in xrange(512, 723+1)],\n",
      "                        DICT_SEQUENCE_LENGTH:212,\n",
      "                        DICT_ANCHOR_POINT:np.array([550, 500])\n",
      "                        })\n",
      "## loop for candle right\n",
      "loopedSemantics.append({\n",
      "                        DICT_ORIGINAL_DATASET:\"candle3/stabilized/segmentedAndCropped/\",\n",
      "                        DICT_FRAME_LOCS:[dataPath+\"candle3/stabilized/segmentedAndCropped/frame-{:05d}.png\".format(i+1) for i in xrange(1072, 1268+1)],\n",
      "                        DICT_SEQUENCE_LENGTH:197,\n",
      "                        DICT_ANCHOR_POINT:np.array([550, 500])\n",
      "                        })\n",
      "\n",
      "## do some integrity checks\n",
      "for semantic in loopedSemantics :\n",
      "    if len(semantic[DICT_FRAME_LOCS]) <= 0:\n",
      "        raise Exception(\"Loop does not contain any frames\")\n",
      "    if len(semantic[DICT_FRAME_LOCS]) != semantic[DICT_SEQUENCE_LENGTH] :\n",
      "        raise Exception(\"Sequence length does not match number of frame locations\")\n",
      "        \n",
      "overlapFrames = 5\n",
      "      \n",
      "transitionSequences = []\n",
      "transitionSequences.append({\n",
      "                        DICT_ORIGINAL_DATASET:\"candle3/stabilized/segmentedAndCropped/\",\n",
      "                        DICT_FRAME_LOCS:[dataPath+\"candle3/stabilized/segmentedAndCropped/frame-{:05d}.png\".format(i+1) for i in xrange(0, 511+overlapFrames+1)],\n",
      "                        DICT_SEQUENCE_LENGTH:517,\n",
      "                        DICT_ANCHOR_POINT:np.array([550, 500])})\n",
      "\n",
      "transitionSequences.append({\n",
      "                        DICT_ORIGINAL_DATASET:\"candle3/stabilized/segmentedAndCropped/\",\n",
      "                        DICT_FRAME_LOCS:[dataPath+\"candle3/stabilized/segmentedAndCropped/frame-{:05d}.png\".format(i+1) for i in xrange(724-overlapFrames, 1071+overlapFrames+1)],\n",
      "                        DICT_SEQUENCE_LENGTH:358,\n",
      "                        DICT_ANCHOR_POINT:np.array([550, 500])})\n",
      "\n",
      "transitionSequences.append({\n",
      "                        DICT_ORIGINAL_DATASET:\"candle3/stabilized/segmentedAndCropped/\",\n",
      "                        DICT_FRAME_LOCS:[dataPath+\"candle3/stabilized/segmentedAndCropped/frame-{:05d}.png\".format(i+1) for i in xrange(1269-overlapFrames, 1513+1)],\n",
      "                        DICT_SEQUENCE_LENGTH:250,\n",
      "                        DICT_ANCHOR_POINT:np.array([550, 500])})\n",
      "\n",
      "## do some integrity checks\n",
      "for transition in transitionSequences :\n",
      "    if len(transition[DICT_FRAME_LOCS]) <= 0:\n",
      "        raise Exception(\"Sequence does not contain any frames\")\n",
      "    if len(transition[DICT_FRAME_LOCS]) != transition[DICT_SEQUENCE_LENGTH] :\n",
      "        raise Exception(\"Sequence length does not match number of frame locations\")"
     ],
     "language": "python",
     "metadata": {},
     "outputs": [],
     "prompt_number": 7
    },
    {
     "cell_type": "code",
     "collapsed": false,
     "input": [
      "## compute distance matrix between frames of different loops\n",
      "# interLoopDistances = {}\n",
      "# s = time.time()\n",
      "# for i in xrange(len(loopedSemantics)) :\n",
      "    \n",
      "#     t = time.time()\n",
      "#     iThLoopFrameSize = np.array(cv2.imread(loopedSemantics[i][DICT_FRAME_LOCS][0]).shape[0:2])\n",
      "#     iThLoopFrames = np.zeros((loopedSemantics[i][DICT_SEQUENCE_LENGTH], np.prod(iThLoopFrameSize)*3), dtype=np.float32)\n",
      "    \n",
      "#     for frame in xrange(loopedSemantics[i][DICT_SEQUENCE_LENGTH]) :\n",
      "#         iThLoopFrames[frame, :] = np.array(cv2.cvtColor(cv2.imread(loopedSemantics[i][DICT_FRAME_LOCS][frame]), \n",
      "#                                                         cv2.COLOR_BGR2RGB), dtype=np.float32).reshape((iThLoopFrames.shape[1]))/255.0\n",
      "#     print \"Loaded frames of loop\", i, \"in\", np.string_(time.time() - t), \"seconds\"; sys.stdout.flush()\n",
      "    \n",
      "#     if np.string_(i) not in interLoopDistances.keys() :\n",
      "#         t = time.time()\n",
      "#         interLoopDistances[np.string_(i)] = distEuc(iThLoopFrames)\n",
      "#         print \"Computed distances in loop\", i, \"in\", np.string_(time.time() - t), \"seconds\"; sys.stdout.flush()\n",
      "    \n",
      "#     for j in xrange(i+1, len(loopedSemantics)) :\n",
      "        \n",
      "#         t = time.time()\n",
      "#         jThLoopFrameSize = np.array(cv2.imread(loopedSemantics[j][DICT_FRAME_LOCS][0]).shape[0:2])\n",
      "#         jThLoopFrames = np.zeros((loopedSemantics[j][DICT_SEQUENCE_LENGTH], np.prod(jThLoopFrameSize)*3), dtype=np.float32)\n",
      "        \n",
      "#         for frame in xrange(loopedSemantics[j][DICT_SEQUENCE_LENGTH]) :\n",
      "#             jThLoopFrames[frame, :] = np.array(cv2.cvtColor(cv2.imread(loopedSemantics[j][DICT_FRAME_LOCS][frame]), \n",
      "#                                                             cv2.COLOR_BGR2RGB), dtype=np.float32).reshape((jThLoopFrames.shape[1]))/255.0\n",
      "#         print \"Loaded frames of loop\", j, \"in\", np.string_(time.time() - t), \"seconds\"; sys.stdout.flush()\n",
      "        \n",
      "#         if np.string_(i)+np.string_(j) not in interLoopDistances.keys() :\n",
      "#             t = time.time()\n",
      "#             if np.any(iThLoopFrameSize != jThLoopFrameSize) :\n",
      "#                 iThFrameLinearIndices, jThFrameLinearIndices = getLinearIndicesOfFrameOverlap(iThLoopFrameSize, jThLoopFrameSize,\n",
      "#                                                                                               loopedSemantics[i][DICT_ANCHOR_POINT],\n",
      "#                                                                                               loopedSemantics[j][DICT_ANCHOR_POINT])\n",
      "#                 interLoopDistances[np.string_(i)+np.string_(j)] = distEuc2(iThLoopFrames[:, iThFrameLinearIndices],\n",
      "#                                                                            jThLoopFrames[:, jThFrameLinearIndices])\n",
      "#             else :\n",
      "#                 interLoopDistances[np.string_(i)+np.string_(j)] = distEuc2(iThLoopFrames, jThLoopFrames)\n",
      "\n",
      "#             print \"Computed distance between\", i, \"and\", j, \"in\", np.string_(time.time() - t), \"seconds\"; sys.stdout.flush()\n",
      "        \n",
      "# print \"Done in\", np.string_(time.time() - s), \"seconds\"\n",
      "# del iThLoopFrames, jThLoopFrames\n",
      "\n",
      "# np.save(dataPath + \"candle_semantics_interLoopDistances.npy\", interLoopDistances)\n",
      "interLoopDistances = np.load(dataPath+\"candle_semantics_interLoopDistances.npy\").item(0)"
     ],
     "language": "python",
     "metadata": {},
     "outputs": [],
     "prompt_number": 8
    },
    {
     "cell_type": "code",
     "collapsed": false,
     "input": [
      "# ## distances between transition sequences\n",
      "# interSequenceDistances = {}\n",
      "# s = time.time()\n",
      "# for i in xrange(len(transitionSequences)) :\n",
      "    \n",
      "#     t = time.time()\n",
      "#     iThSequenceFrameSize = np.array(cv2.imread(transitionSequences[i][DICT_FRAME_LOCS][0]).shape[0:2])\n",
      "#     iThSequenceFrames = np.zeros((transitionSequences[i][DICT_SEQUENCE_LENGTH], np.prod(iThSequenceFrameSize)*3), dtype=np.float32)\n",
      "    \n",
      "#     for frame in xrange(transitionSequences[i][DICT_SEQUENCE_LENGTH]) :\n",
      "#         iThSequenceFrames[frame, :] = np.array(cv2.cvtColor(cv2.imread(transitionSequences[i][DICT_FRAME_LOCS][frame]), \n",
      "#                                                         cv2.COLOR_BGR2RGB), dtype=np.float32).reshape((iThSequenceFrames.shape[1]))/255.0\n",
      "#     print \"Loaded frames of sequence\", i, \"in\", np.string_(time.time() - t), \"seconds\"; sys.stdout.flush()\n",
      "    \n",
      "#     if np.string_(i) not in interSequenceDistances.keys() :\n",
      "#         t = time.time()\n",
      "#         interSequenceDistances[np.string_(i)] = distEuc(iThSequenceFrames)\n",
      "#         print \"Computed distances in sequence\", i, \"in\", np.string_(time.time() - t), \"seconds\"; sys.stdout.flush()\n",
      "    \n",
      "#     for j in xrange(i+1, len(transitionSequences)) :\n",
      "        \n",
      "#         t = time.time()\n",
      "#         jThSequenceFrameSize = np.array(cv2.imread(transitionSequences[j][DICT_FRAME_LOCS][0]).shape[0:2])\n",
      "#         jThSequenceFrames = np.zeros((transitionSequences[j][DICT_SEQUENCE_LENGTH], np.prod(jThSequenceFrameSize)*3), dtype=np.float32)\n",
      "        \n",
      "#         for frame in xrange(transitionSequences[j][DICT_SEQUENCE_LENGTH]) :\n",
      "#             jThSequenceFrames[frame, :] = np.array(cv2.cvtColor(cv2.imread(transitionSequences[j][DICT_FRAME_LOCS][frame]), \n",
      "#                                                             cv2.COLOR_BGR2RGB), dtype=np.float32).reshape((jThSequenceFrames.shape[1]))/255.0\n",
      "#         print \"Loaded frames of sequence\", j, \"in\", np.string_(time.time() - t), \"seconds\"; sys.stdout.flush()\n",
      "            \n",
      "#         if np.string_(i)+np.string_(j) not in interSequenceDistances.keys() :\n",
      "#             t = time.time()\n",
      "#             if np.any(iThSequenceFrameSize != jThSequenceFrameSize) :\n",
      "#                 iThFrameLinearIndices, jThFrameLinearIndices = getLinearIndicesOfFrameOverlap(iThSequenceFrameSize, jThSequenceFrameSize,\n",
      "#                                                                                               transitionSequences[i][DICT_ANCHOR_POINT],\n",
      "#                                                                                               transitionSequences[j][DICT_ANCHOR_POINT])\n",
      "#                 interSequenceDistances[np.string_(i)+np.string_(j)] = distEuc2(iThSequenceFrames[:, iThFrameLinearIndices],\n",
      "#                                                                            jThSequenceFrames[:, jThFrameLinearIndices])\n",
      "#             else :\n",
      "#                 interSequenceDistances[np.string_(i)+np.string_(j)] = distEuc2(iThSequenceFrames, jThSequenceFrames)\n",
      "\n",
      "#             print \"Computed distance between\", i, \"and\", j, \"in\", np.string_(time.time() - t), \"seconds\"; sys.stdout.flush()\n",
      "        \n",
      "# print \"Done in\", np.string_(time.time() - s), \"seconds\"\n",
      "# del iThSequenceFrames, jThSequenceFrames\n",
      "# np.save(dataPath + \"candle_semantics_interSequenceDistancess.npy\", interSequenceDistances)\n",
      "interSequenceDistances = np.load(dataPath+\"candle_semantics_interSequenceDistancess.npy\").item(0)"
     ],
     "language": "python",
     "metadata": {},
     "outputs": [],
     "prompt_number": 9
    },
    {
     "cell_type": "code",
     "collapsed": false,
     "input": [
      "# loopToTransitionDistances = {}\n",
      "# s = time.time()\n",
      "# for i in xrange(len(transitionSequences)) :\n",
      "    \n",
      "#     t = time.time()\n",
      "#     transitionFrameSize = np.array(cv2.imread(transitionSequences[i][DICT_FRAME_LOCS][0]).shape[0:2])\n",
      "#     transitionFrames = np.zeros((transitionSequences[i][DICT_SEQUENCE_LENGTH], np.prod(transitionFrameSize)*3), dtype=np.float32)\n",
      "    \n",
      "#     for frame in xrange(transitionSequences[i][DICT_SEQUENCE_LENGTH]) :\n",
      "#         transitionFrames[frame, :] = np.array(cv2.cvtColor(cv2.imread(transitionSequences[i][DICT_FRAME_LOCS][frame]), \n",
      "#                                                         cv2.COLOR_BGR2RGB), dtype=np.float32).reshape((transitionFrames.shape[1]))/255.0\n",
      "#     print \"Loaded frames of sequence\", i, \"in\", np.string_(time.time() - t), \"seconds\"; sys.stdout.flush()\n",
      "    \n",
      "#     for j in xrange(len(loopedSemantics)) :\n",
      "        \n",
      "#         t = time.time()\n",
      "#         loopFrameSize = np.array(cv2.imread(loopedSemantics[j][DICT_FRAME_LOCS][0]).shape[0:2])\n",
      "#         loopFrames = np.zeros((loopedSemantics[j][DICT_SEQUENCE_LENGTH], np.prod(loopFrameSize)*3), dtype=np.float32)\n",
      "        \n",
      "#         for frame in xrange(loopedSemantics[j][DICT_SEQUENCE_LENGTH]) :\n",
      "#             loopFrames[frame, :] = np.array(cv2.cvtColor(cv2.imread(loopedSemantics[j][DICT_FRAME_LOCS][frame]), \n",
      "#                                                             cv2.COLOR_BGR2RGB), dtype=np.float32).reshape((loopFrames.shape[1]))/255.0\n",
      "#         print \"Loaded frames of loop\", j, \"in\", np.string_(time.time() - t), \"seconds\"; sys.stdout.flush()\n",
      "        \n",
      "#         if np.string_(i)+np.string_(j) not in loopToTransitionDistances.keys() :\n",
      "#             t = time.time()\n",
      "#             if np.any(transitionFrameSize != loopFrameSize) :\n",
      "#                 transitionLinearIndices, loopLinearIndices = getLinearIndicesOfFrameOverlap(transitionFrameSize, loopFrameSize,\n",
      "#                                                                                               transitionSequences[i][DICT_ANCHOR_POINT],\n",
      "#                                                                                               loopedSemantics[j][DICT_ANCHOR_POINT])\n",
      "#                 loopToTransitionDistances[np.string_(i)+np.string_(j)] = distEuc2(transitionFrames[:, transitionLinearIndices],\n",
      "#                                                                            loopFrames[:, loopLinearIndices])\n",
      "#             else :\n",
      "#                 loopToTransitionDistances[np.string_(i)+np.string_(j)] = distEuc2(transitionFrames, loopFrames)\n",
      "\n",
      "#             print \"Computed distance between\", i, \"and\", j, \"in\", np.string_(time.time() - t), \"seconds\"; sys.stdout.flush()\n",
      "        \n",
      "# print \"Done in\", np.string_(time.time() - s), \"seconds\"\n",
      "# del transitionFrames, loopFrames\n",
      "# np.save(dataPath + \"candle_semantics_loopToTransitionDistances.npy\", loopToTransitionDistances)\n",
      "loopToTransitionDistances = np.load(dataPath+\"candle_semantics_loopToTransitionDistances.npy\").item(0)"
     ],
     "language": "python",
     "metadata": {},
     "outputs": [],
     "prompt_number": 10
    },
    {
     "cell_type": "code",
     "collapsed": false,
     "input": [
      "# gwv.showCustomGraph(interLoopDistances['02'])\n",
      "## make full distance matrix between looped semantics\n",
      "totalNumberOfFramesInLoops = 0\n",
      "for semantics in loopedSemantics :\n",
      "    totalNumberOfFramesInLoops += semantics[DICT_SEQUENCE_LENGTH]\n",
      "    \n",
      "fullLoopedSemanticsDistMat = (1-np.eye(totalNumberOfFramesInLoops))*300\n",
      "currentRow = 0\n",
      "colDelta = 0\n",
      "for i in xrange(len(loopedSemantics)) :\n",
      "    iLength = loopedSemantics[i][DICT_SEQUENCE_LENGTH]\n",
      "    fullLoopedSemanticsDistMat[currentRow:currentRow+iLength, currentRow:currentRow+iLength] = interLoopDistances[np.string_(i)]\n",
      "    colDelta += iLength\n",
      "    currentCol = colDelta\n",
      "    for j in xrange(i+1, len(loopedSemantics)) :\n",
      "        print i, j, currentRow, currentCol\n",
      "        jLength = loopedSemantics[j][DICT_SEQUENCE_LENGTH]\n",
      "        fullLoopedSemanticsDistMat[currentRow:currentRow+iLength, currentCol:currentCol+jLength] = interLoopDistances[np.string_(i)+np.string_(j)]\n",
      "        fullLoopedSemanticsDistMat[currentCol:currentCol+jLength, currentRow:currentRow+iLength] = interLoopDistances[np.string_(i)+np.string_(j)].T\n",
      "        currentCol += jLength\n",
      "    currentRow += iLength\n",
      "    \n",
      "# gwv.showCustomGraph(fullLoopedSemanticsDistMat)"
     ],
     "language": "python",
     "metadata": {},
     "outputs": [
      {
       "output_type": "stream",
       "stream": "stdout",
       "text": [
        "0 1 0 201\n",
        "0 2 0 307\n",
        "0 3 0 519\n",
        "1 2 201 307\n",
        "1 3 201 519\n",
        "2 3 307 519\n"
       ]
      }
     ],
     "prompt_number": 13
    },
    {
     "cell_type": "code",
     "collapsed": false,
     "input": [
      "# gwv.showCustomGraph(interLoopDistances['02'])\n",
      "## make full distance matrix between transition sequences\n",
      "totalNumberOfFramesInTransitions = 0\n",
      "for sequence in transitionSequences :\n",
      "    totalNumberOfFramesInTransitions += sequence[DICT_SEQUENCE_LENGTH]\n",
      "    \n",
      "fullTransitionSequenceDistMat = (1-np.eye(totalNumberOfFramesInTransitions))*300\n",
      "currentRow = 0\n",
      "colDelta = 0\n",
      "for i in xrange(len(transitionSequences)) :\n",
      "    iLength = transitionSequences[i][DICT_SEQUENCE_LENGTH]\n",
      "    fullTransitionSequenceDistMat[currentRow:currentRow+iLength, currentRow:currentRow+iLength] = interSequenceDistances[np.string_(i)]\n",
      "    colDelta += iLength\n",
      "    currentCol = colDelta\n",
      "    for j in xrange(i+1, len(transitionSequences)) :\n",
      "        print i, j, currentRow, currentCol\n",
      "        jLength = transitionSequences[j][DICT_SEQUENCE_LENGTH]\n",
      "        fullTransitionSequenceDistMat[currentRow:currentRow+iLength, currentCol:currentCol+jLength] = interSequenceDistances[np.string_(i)+np.string_(j)]\n",
      "        fullTransitionSequenceDistMat[currentCol:currentCol+jLength, currentRow:currentRow+iLength] = interSequenceDistances[np.string_(i)+np.string_(j)].T\n",
      "        currentCol += jLength\n",
      "    currentRow += iLength\n",
      "    \n",
      "# gwv.showCustomGraph(fullTransitionSequenceDistMat)"
     ],
     "language": "python",
     "metadata": {},
     "outputs": [
      {
       "output_type": "stream",
       "stream": "stdout",
       "text": [
        "0 1 0 517\n",
        "0 2 0 875\n",
        "1 2 517 875\n"
       ]
      }
     ],
     "prompt_number": 14
    },
    {
     "cell_type": "code",
     "collapsed": false,
     "input": [
      "# gwv.showCustomGraph(interLoopDistances['02'])\n",
      "## make full distance matrix between transition sequences and loops\n",
      "    \n",
      "fullTransitionsVsLoopsDistMat = np.zeros((totalNumberOfFramesInTransitions, totalNumberOfFramesInLoops))\n",
      "currentRow = 0\n",
      "for i in xrange(len(transitionSequences)) :\n",
      "    iLength = transitionSequences[i][DICT_SEQUENCE_LENGTH]\n",
      "    currentCol = 0\n",
      "    for j in xrange(len(loopedSemantics)) :\n",
      "        print i, j, currentRow, currentCol\n",
      "        jLength = loopedSemantics[j][DICT_SEQUENCE_LENGTH]\n",
      "        fullTransitionsVsLoopsDistMat[currentRow:currentRow+iLength, currentCol:currentCol+jLength] = loopToTransitionDistances[np.string_(i)+np.string_(j)]\n",
      "        currentCol += jLength\n",
      "    currentRow += iLength\n",
      "    \n",
      "# gwv.showCustomGraph(fullTransitionsVsLoopsDistMat)"
     ],
     "language": "python",
     "metadata": {},
     "outputs": [
      {
       "output_type": "stream",
       "stream": "stdout",
       "text": [
        "0 0 0 0\n",
        "0 1 0 201\n",
        "0 2 0 307\n",
        "0 3 0 519\n",
        "1 0 517 0\n",
        "1 1 517 201\n",
        "1 2 517 307\n",
        "1 3 517 519\n",
        "2 0 875 0\n",
        "2 1 875 201\n",
        "2 2 875 307\n",
        "2 3 875 519\n"
       ]
      }
     ],
     "prompt_number": 15
    },
    {
     "cell_type": "code",
     "collapsed": false,
     "input": [
      "## combine al distance matrices together\n",
      "fullDistanceMatrix = np.concatenate((fullLoopedSemanticsDistMat, fullTransitionsVsLoopsDistMat.T), axis=-1)\n",
      "fullDistanceMatrix = np.concatenate((fullDistanceMatrix, np.concatenate((fullTransitionsVsLoopsDistMat, fullTransitionSequenceDistMat), axis=-1)), axis=0)\n",
      "gwv.showCustomGraph(fullDistanceMatrix)"
     ],
     "language": "python",
     "metadata": {},
     "outputs": [],
     "prompt_number": 16
    },
    {
     "cell_type": "code",
     "collapsed": false,
     "input": [
      "## make the transition matrix where the arrow heads are rows and arrow tails are cols (i.e. I can go from frame colIdx to frame rowIdx)\n",
      "# transitionCosts = np.zeros((totalNumberOfFrames, totalNumberOfFrames))\n",
      "# currentRow = 0\n",
      "# colDelta = 0\n",
      "# for i in xrange(len(loopedSemantics)) :\n",
      "#     iLength = loopedSemantics[i][DICT_SEQUENCE_LENGTH]\n",
      "#     ## I roll each distance matrix left by 1 column which means that to go to frame i from frame j, I check the distance between frame j+1 and i which is now at location (i, j)\n",
      "#     transitionCosts[currentRow:currentRow+iLength, currentRow:currentRow+iLength] = np.roll(interLoopDistances[np.string_(i)], -1, axis=-1)\n",
      "#     colDelta += iLength\n",
      "#     currentCol = colDelta\n",
      "#     for j in xrange(i+1, len(loopedSemantics)) :\n",
      "#         print i, j, currentRow, currentCol\n",
      "#         jLength = loopedSemantics[j][DICT_SEQUENCE_LENGTH]\n",
      "#         transitionCosts[currentRow:currentRow+iLength, currentCol:currentCol+jLength] = np.roll(interLoopDistances[np.string_(i)+np.string_(j)], -1, axis=-1)\n",
      "#         transitionCosts[currentCol:currentCol+jLength, currentRow:currentRow+iLength] = np.roll(interLoopDistances[np.string_(i)+np.string_(j)].T, -1, axis=-1)\n",
      "#         currentCol += jLength\n",
      "#     currentRow += iLength\n",
      "    \n",
      "# gwv.showCustomGraph(transitionCosts)\n",
      "\n",
      "# transitionCosts = transitionCosts / np.max(transitionCosts)\n",
      "# badJumps = np.argwhere(transitionCosts > 0.15)\n",
      "# transitionCosts[badJumps[:, 0], badJumps[:, 1]] = 1000000.0\n",
      "# ## add some number to the costs to give some cost to following the timeline, which should not influence following the timeline loop-wise but should reduce the length of\n",
      "# ## transition animations\n",
      "# transitionCosts += 0.01\n",
      "# gwv.showCustomGraph(np.log(transitionCosts))"
     ],
     "language": "python",
     "metadata": {},
     "outputs": [],
     "prompt_number": 14
    },
    {
     "cell_type": "code",
     "collapsed": false,
     "input": [
      "## make the transition matrix where the arrow heads are rows and arrow tails are cols (i.e. I can go from frame colIdx to frame rowIdx)\n",
      "## use all transition matrices now\n",
      "transitionCosts = np.copy(fullDistanceMatrix)\n",
      "separationIndices = []\n",
      "separationIndices.append(0)\n",
      "for i in xrange(len(loopedSemantics)) :\n",
      "    separationIndices.append(separationIndices[-1]+loopedSemantics[i][DICT_SEQUENCE_LENGTH])\n",
      "for i in xrange(len(transitionSequences)) :\n",
      "    separationIndices.append(separationIndices[-1]+transitionSequences[i][DICT_SEQUENCE_LENGTH])\n",
      "\n",
      "for i, j in zip(separationIndices[:-1], separationIndices[1:]) :\n",
      "    for k, l in zip(separationIndices[:-1], separationIndices[1:]) :\n",
      "        transitionCosts[i:j, k:l] = np.roll(transitionCosts[i:j, k:l], -1, axis=-1)\n",
      "        \n",
      "        if j > separationIndices[len(loopedSemantics)] or l > separationIndices[len(loopedSemantics)] :\n",
      "            ## dealing with transition sequences that cannot loop at the end\n",
      "            print i, j, k, l\n",
      "            ## set last column and row to maxCost\n",
      "            transitionCosts[i:j, l-1] = np.max(fullDistanceMatrix)\n",
      "            transitionCosts[j-1, k:l] = np.max(fullDistanceMatrix)\n",
      "#         print i, j, k, l \n",
      "        \n",
      "    \n",
      "gwv.showCustomGraph(transitionCosts / np.max(transitionCosts))\n",
      "\n",
      "transitionCosts = transitionCosts / np.max(transitionCosts)\n",
      "# transitionCosts = transitionCosts*1000.0\n",
      "# transitionCosts = transitionCosts / np.max(transitionCosts)\n",
      "badJumps = np.argwhere(transitionCosts > 0.25)\n",
      "transitionCosts[badJumps[:, 0], badJumps[:, 1]] = 1000000.0\n",
      "## add some number to the costs to give some cost to following the timeline, which should not influence following the timeline loop-wise but should reduce the length of\n",
      "## transition animations\n",
      "transitionCosts += 0.1\n",
      "\n",
      "## get rid of short jumps ?\n",
      "if True :\n",
      "    ## can jump from frame in first column to frame in second column\n",
      "    lowCostTransitions = np.argwhere(transitionCosts != np.max(transitionCosts), )\n",
      "    jumpLength = np.abs(lowCostTransitions[:, 0]-lowCostTransitions[:, 1])\n",
      "    shortJumps = np.all(np.array([jumpLength > 1, jumpLength < 10]), axis=0)\n",
      "    shortJumps = np.any(np.array([shortJumps, jumpLength == 0]), axis=0)\n",
      "\n",
      "    transitionCosts[lowCostTransitions[shortJumps, :][:, 0], lowCostTransitions[shortJumps, :][:, 1]] = np.max(transitionCosts)\n",
      "\n",
      "\n",
      "gwv.showCustomGraph(np.log(transitionCosts))"
     ],
     "language": "python",
     "metadata": {},
     "outputs": [
      {
       "output_type": "stream",
       "stream": "stdout",
       "text": [
        "0 201 716 1233\n",
        "0 201 1233 1591\n",
        "0 201 1591 1841\n",
        "201 307 716 1233\n",
        "201 307 1233 1591\n",
        "201 307 1591 1841\n",
        "307 519 716 1233\n",
        "307 519 1233 1591\n",
        "307 519 1591 1841\n",
        "519 716 716 1233\n",
        "519"
       ]
      },
      {
       "output_type": "stream",
       "stream": "stdout",
       "text": [
        " 716 1233 1591\n",
        "519 716 1591 1841\n",
        "716 1233 0 201\n",
        "716 1233 201 307\n",
        "716 1233 307 519\n",
        "716 1233 519 716\n",
        "716 1233 716 1233\n",
        "716 1233 1233 1591\n",
        "716 1233 1591 1841\n",
        "1233 1591 0 201\n",
        "1233 1591 201 307\n",
        "1233"
       ]
      },
      {
       "output_type": "stream",
       "stream": "stdout",
       "text": [
        " 1591 307 519\n",
        "1233 1591 519 716\n",
        "1233 1591 716 1233\n",
        "1233 1591 1233 1591\n",
        "1233 1591 1591 1841\n",
        "1591 1841 0 201\n",
        "1591 1841 201 307\n",
        "1591 1841 307 519\n",
        "1591 1841 519 716\n",
        "1591 1841 716 1233\n",
        "1591 1841 1233 1591\n",
        "1591"
       ]
      },
      {
       "output_type": "stream",
       "stream": "stdout",
       "text": [
        " 1841 1591 1841\n"
       ]
      }
     ],
     "prompt_number": 99
    },
    {
     "cell_type": "code",
     "collapsed": false,
     "input": [
      "def getAnimation(pairwise, fullSequenceSemantics, desiredSemantics, framesToProduce, startFrame, distVariance) :\n",
      "    ## The lower distVariance, the higher the penalty for showing a frame having something different from desiredSemantics\n",
      "    \n",
      "    \n",
      "    ## now try and do the optimization completely vectorized\n",
      "    ## number of edges connected to each label node of variable n (pairwise stores node at arrow tail as cols and at arrow head as rows)\n",
      "    maxEdgesPerLabel = np.max(np.sum(np.array(pairwise != np.max(pairwise), dtype=int), axis=-1))\n",
      "    ## initialize this to index of connected label node with highest edge cost (which is then used as padding)\n",
      "    ## it contains for each label node of variable n (indexed by rows), all the label nodes of variable n-1 it is connected to by non infinite cost edge (indexed by cols)\n",
      "    nodesConnectedToLabel = np.argmax(pairwise, axis=-1).reshape((len(pairwise), 1)).repeat(maxEdgesPerLabel, axis=-1)\n",
      "    \n",
      "    ##### OLD WAY OF GETTING THE SPARSE INDICES #####\n",
      "#     sparseIndices = np.where(pairwise.T != np.max(pairwise))\n",
      "#     # print sparseIndices\n",
      "#     tailIndices = sparseIndices[0]\n",
      "#     headIndices = sparseIndices[1]\n",
      "\n",
      "#     ## this contains which label of variable n-1 is connected to which label of variable n\n",
      "#     indicesInLabelSpace = [list(tailIndices[np.where(headIndices == i)[0]]) for i in np.unique(headIndices)]\n",
      "    \n",
      "    ##### NEW WAY OF GETTING THE SPARSE INDICES #####\n",
      "    sparseIndices = np.where(pairwise != np.max(pairwise))\n",
      "    # print sparseIndices\n",
      "    tailIndices = sparseIndices[1]\n",
      "    headIndices = sparseIndices[0]\n",
      "    \n",
      "    indicesInLabelSpace = [tailIndices[headIndices == i] for i in np.arange(len(pairwise))]\n",
      "\n",
      "    for headLabel, tailLabels in zip(arange(0, len(nodesConnectedToLabel)), indicesInLabelSpace) :\n",
      "        nodesConnectedToLabel[headLabel, 0:len(tailLabels)] = tailLabels\n",
      "\n",
      "#     print nodesConnectedToLabel.shape\n",
      "\n",
      "    unaries = vectorisedMinusLogMultiNormal(fullSequenceSemantics, desiredSemantics.reshape((1, len(loopedSemantics))), np.eye(len(loopedSemantics))*distVariance, True)\n",
      "    unaries = unaries.reshape((len(pairwise), 1)).repeat(framesToProduce, axis=-1)\n",
      "    unaries[:, 0] = 1000000.0\n",
      "    unaries[startFrame, 0] = 0.0\n",
      "\n",
      "    # gwv.showCustomGraph(unaries)\n",
      "    # print \"computed costs for sprite\", spriteIndices[idx], \"in\", time.time() - tic; sys.stdout.flush()\n",
      "    # tic = time.time()\n",
      "    # minCostTraversal, minCost = solveMRF(unaries, pairwise)\n",
      "    #     minCostTraversal, minCost = solveSparseDynProgMRF(unaries.T, pairwise.T, nodesConnectedToLabel)\n",
      "    minCostTraversal, minCost, paths = solveSparseDynProgMRF(unaries, pairwise, nodesConnectedToLabel)\n",
      "    return minCostTraversal#, minCost, unaries"
     ],
     "language": "python",
     "metadata": {},
     "outputs": [],
     "prompt_number": 112
    },
    {
     "cell_type": "code",
     "collapsed": false,
     "input": [
      "## give semantics to each looped semantics and node to the transition frames\n",
      "sequenceSemantics = np.empty((0, len(loopedSemantics)))\n",
      "for s in xrange(len(loopedSemantics)) :\n",
      "    sems = np.zeros((loopedSemantics[s][DICT_SEQUENCE_LENGTH], len(loopedSemantics)))\n",
      "    sems[:, s] = 1.0\n",
      "    sequenceSemantics = np.concatenate((sequenceSemantics, sems))\n",
      "sequenceSemantics = np.concatenate((sequenceSemantics, np.zeros((totalNumberOfFramesInTransitions, len(loopedSemantics)))))"
     ],
     "language": "python",
     "metadata": {},
     "outputs": [],
     "prompt_number": 19
    },
    {
     "cell_type": "code",
     "collapsed": false,
     "input": [
      "gwv.showCustomGraph(transitionCosts)"
     ],
     "language": "python",
     "metadata": {},
     "outputs": [],
     "prompt_number": 70
    },
    {
     "cell_type": "code",
     "collapsed": false,
     "input": [
      "semanticsToUse = np.array([0, 1, 2, 3])\n",
      "sequenceLength = 100\n",
      "\n",
      "semanticsFrameRanges = [0]\n",
      "for semantics in loopedSemantics :\n",
      "    semanticsFrameRanges.append(semantics[DICT_SEQUENCE_LENGTH])\n",
      "semanticsFrameRanges = np.cumsum(np.array(semanticsFrameRanges))\n",
      "semanticsFrameRanges = np.array([semanticsFrameRanges[:-1], semanticsFrameRanges[1:]]).T\n",
      "print semanticsFrameRanges\n",
      "    \n",
      "## find transitions between each semantics and the others\n",
      "semanticsCombinations = []\n",
      "for s in semanticsToUse :\n",
      "    for t in semanticsToUse :\n",
      "        if s != t :\n",
      "            semanticsCombinations.append(np.array([s, t]))\n",
      "\n",
      "frameInterval = 10\n",
      "transitionAnimations = []\n",
      "for combination in semanticsCombinations :\n",
      "    transitionAnimations.append([])\n",
      "    print combination\n",
      "    fromSemantics, toSemantics = combination\n",
      "    desiredSemantics = np.zeros(len(loopedSemantics))\n",
      "    desiredSemantics[toSemantics] = 1.0\n",
      "    print desiredSemantics\n",
      "    startFrames = np.arange(semanticsFrameRanges[fromSemantics, 0], semanticsFrameRanges[fromSemantics, 1], frameInterval)\n",
      "    for startFrame in startFrames :\n",
      "        animation = getAnimation(transitionCosts, sequenceSemantics, desiredSemantics, sequenceLength, startFrame, 0.0005)\n",
      "        for f in xrange(len(animation)) :\n",
      "            if np.all(sequenceSemantics[animation[f], :] == desiredSemantics) :\n",
      "                transitionAnimations[-1].append(animation[:f+1])\n",
      "                break\n",
      "            if f == len(animation)-1 :\n",
      "                print \"Animation does not reach desired semantics\"\n",
      "    \n",
      "        sys.stdout.write('\\r' + \"Found animation from \" + np.string_(combination[0]) + \" to \" + np.string_(combination[1]) +\n",
      "                         \" starting at \" + np.string_(startFrame) + \" (\" + np.string_(startFrames[-1]) + \")\")\n",
      "        sys.stdout.flush()\n",
      "    print \n",
      "\n",
      "\n",
      "# desiredSemantics = np.array([0.0, 1.0, 0.0, 0.0])\n",
      "# startFrame = 320\n",
      "\n",
      "# print getAnimation(transitionCosts, sequenceSemantics, sequenceLength, startFrame)"
     ],
     "language": "python",
     "metadata": {},
     "outputs": [
      {
       "output_type": "stream",
       "stream": "stdout",
       "text": [
        "[[  0 201]\n",
        " [201 307]\n",
        " [307 519]\n",
        " [519 716]]\n",
        "[0 1]\n",
        "[ 0.  1.  0.  0.]\n",
        "\r",
        "Found animation from 0 to 1 starting at 0 (200)"
       ]
      },
      {
       "output_type": "stream",
       "stream": "stdout",
       "text": [
        "\r",
        "Found animation from 0 to 1 starting at 10 (200)"
       ]
      },
      {
       "output_type": "stream",
       "stream": "stdout",
       "text": [
        "\r",
        "Found animation from 0 to 1 starting at 20 (200)"
       ]
      },
      {
       "output_type": "stream",
       "stream": "stdout",
       "text": [
        "\r",
        "Found animation from 0 to 1 starting at 30 (200)"
       ]
      },
      {
       "output_type": "stream",
       "stream": "stdout",
       "text": [
        "\r",
        "Found animation from 0 to 1 starting at 40 (200)"
       ]
      },
      {
       "output_type": "stream",
       "stream": "stdout",
       "text": [
        "\r",
        "Found animation from 0 to 1 starting at 50 (200)"
       ]
      },
      {
       "output_type": "stream",
       "stream": "stdout",
       "text": [
        "\r",
        "Found animation from 0 to 1 starting at 60 (200)"
       ]
      },
      {
       "output_type": "stream",
       "stream": "stdout",
       "text": [
        "\r",
        "Found animation from 0 to 1 starting at 70 (200)"
       ]
      },
      {
       "output_type": "stream",
       "stream": "stdout",
       "text": [
        "\r",
        "Found animation from 0 to 1 starting at 80 (200)"
       ]
      },
      {
       "output_type": "stream",
       "stream": "stdout",
       "text": [
        "\r",
        "Found animation from 0 to 1 starting at 90 (200)"
       ]
      },
      {
       "output_type": "stream",
       "stream": "stdout",
       "text": [
        "\r",
        "Found animation from 0 to 1 starting at 100 (200)"
       ]
      },
      {
       "output_type": "stream",
       "stream": "stdout",
       "text": [
        "\r",
        "Found animation from 0 to 1 starting at 110 (200)"
       ]
      },
      {
       "output_type": "stream",
       "stream": "stdout",
       "text": [
        "\r",
        "Found animation from 0 to 1 starting at 120 (200)"
       ]
      },
      {
       "output_type": "stream",
       "stream": "stdout",
       "text": [
        "\r",
        "Found animation from 0 to 1 starting at 130 (200)"
       ]
      },
      {
       "output_type": "stream",
       "stream": "stdout",
       "text": [
        "\r",
        "Found animation from 0 to 1 starting at 140 (200)"
       ]
      },
      {
       "output_type": "stream",
       "stream": "stdout",
       "text": [
        "\r",
        "Found animation from 0 to 1 starting at 150 (200)"
       ]
      },
      {
       "output_type": "stream",
       "stream": "stdout",
       "text": [
        "\r",
        "Found animation from 0 to 1 starting at 160 (200)"
       ]
      },
      {
       "output_type": "stream",
       "stream": "stdout",
       "text": [
        "\r",
        "Found animation from 0 to 1 starting at 170 (200)"
       ]
      },
      {
       "output_type": "stream",
       "stream": "stdout",
       "text": [
        "\r",
        "Found animation from 0 to 1 starting at 180 (200)"
       ]
      },
      {
       "output_type": "stream",
       "stream": "stdout",
       "text": [
        "\r",
        "Found animation from 0 to 1 starting at 190 (200)"
       ]
      },
      {
       "output_type": "stream",
       "stream": "stdout",
       "text": [
        "\r",
        "Found animation from 0 to 1 starting at 200 (200)"
       ]
      },
      {
       "output_type": "stream",
       "stream": "stdout",
       "text": [
        "\n",
        "[0 2]\n",
        "[ 0.  0.  1.  0.]\n",
        "\r",
        "Found animation from 0 to 2 starting at 0 (200)"
       ]
      },
      {
       "output_type": "stream",
       "stream": "stdout",
       "text": [
        "\r",
        "Found animation from 0 to 2 starting at 10 (200)"
       ]
      },
      {
       "output_type": "stream",
       "stream": "stdout",
       "text": [
        "\r",
        "Found animation from 0 to 2 starting at 20 (200)"
       ]
      },
      {
       "output_type": "stream",
       "stream": "stdout",
       "text": [
        "\r",
        "Found animation from 0 to 2 starting at 30 (200)"
       ]
      },
      {
       "output_type": "stream",
       "stream": "stdout",
       "text": [
        "\r",
        "Found animation from 0 to 2 starting at 40 (200)"
       ]
      },
      {
       "output_type": "stream",
       "stream": "stdout",
       "text": [
        "\r",
        "Found animation from 0 to 2 starting at 50 (200)"
       ]
      },
      {
       "output_type": "stream",
       "stream": "stdout",
       "text": [
        "\r",
        "Found animation from 0 to 2 starting at 60 (200)"
       ]
      },
      {
       "output_type": "stream",
       "stream": "stdout",
       "text": [
        "\r",
        "Found animation from 0 to 2 starting at 70 (200)"
       ]
      },
      {
       "output_type": "stream",
       "stream": "stdout",
       "text": [
        "\r",
        "Found animation from 0 to 2 starting at 80 (200)"
       ]
      },
      {
       "output_type": "stream",
       "stream": "stdout",
       "text": [
        "\r",
        "Found animation from 0 to 2 starting at 90 (200)"
       ]
      },
      {
       "output_type": "stream",
       "stream": "stdout",
       "text": [
        "\r",
        "Found animation from 0 to 2 starting at 100 (200)"
       ]
      },
      {
       "output_type": "stream",
       "stream": "stdout",
       "text": [
        "\r",
        "Found animation from 0 to 2 starting at 110 (200)"
       ]
      },
      {
       "output_type": "stream",
       "stream": "stdout",
       "text": [
        "\r",
        "Found animation from 0 to 2 starting at 120 (200)"
       ]
      },
      {
       "output_type": "stream",
       "stream": "stdout",
       "text": [
        "\r",
        "Found animation from 0 to 2 starting at 130 (200)"
       ]
      },
      {
       "output_type": "stream",
       "stream": "stdout",
       "text": [
        "\r",
        "Found animation from 0 to 2 starting at 140 (200)"
       ]
      },
      {
       "output_type": "stream",
       "stream": "stdout",
       "text": [
        "\r",
        "Found animation from 0 to 2 starting at 150 (200)"
       ]
      },
      {
       "output_type": "stream",
       "stream": "stdout",
       "text": [
        "\r",
        "Found animation from 0 to 2 starting at 160 (200)"
       ]
      },
      {
       "output_type": "stream",
       "stream": "stdout",
       "text": [
        "\r",
        "Found animation from 0 to 2 starting at 170 (200)"
       ]
      },
      {
       "output_type": "stream",
       "stream": "stdout",
       "text": [
        "\r",
        "Found animation from 0 to 2 starting at 180 (200)"
       ]
      },
      {
       "output_type": "stream",
       "stream": "stdout",
       "text": [
        "\r",
        "Found animation from 0 to 2 starting at 190 (200)"
       ]
      },
      {
       "output_type": "stream",
       "stream": "stdout",
       "text": [
        "\r",
        "Found animation from 0 to 2 starting at 200 (200)"
       ]
      },
      {
       "output_type": "stream",
       "stream": "stdout",
       "text": [
        "\n",
        "[0 3]\n",
        "[ 0.  0.  0.  1.]\n",
        "\r",
        "Found animation from 0 to 3 starting at 0 (200)"
       ]
      },
      {
       "output_type": "stream",
       "stream": "stdout",
       "text": [
        "\r",
        "Found animation from 0 to 3 starting at 10 (200)"
       ]
      },
      {
       "output_type": "stream",
       "stream": "stdout",
       "text": [
        "\r",
        "Found animation from 0 to 3 starting at 20 (200)"
       ]
      },
      {
       "output_type": "stream",
       "stream": "stdout",
       "text": [
        "\r",
        "Found animation from 0 to 3 starting at 30 (200)"
       ]
      },
      {
       "output_type": "stream",
       "stream": "stdout",
       "text": [
        "\r",
        "Found animation from 0 to 3 starting at 40 (200)"
       ]
      },
      {
       "output_type": "stream",
       "stream": "stdout",
       "text": [
        "\r",
        "Found animation from 0 to 3 starting at 50 (200)"
       ]
      },
      {
       "output_type": "stream",
       "stream": "stdout",
       "text": [
        "\r",
        "Found animation from 0 to 3 starting at 60 (200)"
       ]
      },
      {
       "output_type": "stream",
       "stream": "stdout",
       "text": [
        "\r",
        "Found animation from 0 to 3 starting at 70 (200)"
       ]
      },
      {
       "output_type": "stream",
       "stream": "stdout",
       "text": [
        "\r",
        "Found animation from 0 to 3 starting at 80 (200)"
       ]
      },
      {
       "output_type": "stream",
       "stream": "stdout",
       "text": [
        "\r",
        "Found animation from 0 to 3 starting at 90 (200)"
       ]
      },
      {
       "output_type": "stream",
       "stream": "stdout",
       "text": [
        "\r",
        "Found animation from 0 to 3 starting at 100 (200)"
       ]
      },
      {
       "output_type": "stream",
       "stream": "stdout",
       "text": [
        "\r",
        "Found animation from 0 to 3 starting at 110 (200)"
       ]
      },
      {
       "output_type": "stream",
       "stream": "stdout",
       "text": [
        "\r",
        "Found animation from 0 to 3 starting at 120 (200)"
       ]
      },
      {
       "output_type": "stream",
       "stream": "stdout",
       "text": [
        "\r",
        "Found animation from 0 to 3 starting at 130 (200)"
       ]
      },
      {
       "output_type": "stream",
       "stream": "stdout",
       "text": [
        "\r",
        "Found animation from 0 to 3 starting at 140 (200)"
       ]
      },
      {
       "output_type": "stream",
       "stream": "stdout",
       "text": [
        "\r",
        "Found animation from 0 to 3 starting at 150 (200)"
       ]
      },
      {
       "output_type": "stream",
       "stream": "stdout",
       "text": [
        "\r",
        "Found animation from 0 to 3 starting at 160 (200)"
       ]
      },
      {
       "output_type": "stream",
       "stream": "stdout",
       "text": [
        "\r",
        "Found animation from 0 to 3 starting at 170 (200)"
       ]
      },
      {
       "output_type": "stream",
       "stream": "stdout",
       "text": [
        "\r",
        "Found animation from 0 to 3 starting at 180 (200)"
       ]
      },
      {
       "output_type": "stream",
       "stream": "stdout",
       "text": [
        "\r",
        "Found animation from 0 to 3 starting at 190 (200)"
       ]
      },
      {
       "output_type": "stream",
       "stream": "stdout",
       "text": [
        "\r",
        "Found animation from 0 to 3 starting at 200 (200)"
       ]
      },
      {
       "output_type": "stream",
       "stream": "stdout",
       "text": [
        "\n",
        "[1 0]\n",
        "[ 1.  0.  0.  0.]\n",
        "\r",
        "Found animation from 1 to 0 starting at 201 (301)"
       ]
      },
      {
       "output_type": "stream",
       "stream": "stdout",
       "text": [
        "\r",
        "Found animation from 1 to 0 starting at 211 (301)"
       ]
      },
      {
       "output_type": "stream",
       "stream": "stdout",
       "text": [
        "\r",
        "Found animation from 1 to 0 starting at 221 (301)"
       ]
      },
      {
       "output_type": "stream",
       "stream": "stdout",
       "text": [
        "\r",
        "Found animation from 1 to 0 starting at 231 (301)"
       ]
      },
      {
       "output_type": "stream",
       "stream": "stdout",
       "text": [
        "\r",
        "Found animation from 1 to 0 starting at 241 (301)"
       ]
      },
      {
       "output_type": "stream",
       "stream": "stdout",
       "text": [
        "\r",
        "Found animation from 1 to 0 starting at 251 (301)"
       ]
      },
      {
       "output_type": "stream",
       "stream": "stdout",
       "text": [
        "\r",
        "Found animation from 1 to 0 starting at 261 (301)"
       ]
      },
      {
       "output_type": "stream",
       "stream": "stdout",
       "text": [
        "\r",
        "Found animation from 1 to 0 starting at 271 (301)"
       ]
      },
      {
       "output_type": "stream",
       "stream": "stdout",
       "text": [
        "\r",
        "Found animation from 1 to 0 starting at 281 (301)"
       ]
      },
      {
       "output_type": "stream",
       "stream": "stdout",
       "text": [
        "\r",
        "Found animation from 1 to 0 starting at 291 (301)"
       ]
      },
      {
       "output_type": "stream",
       "stream": "stdout",
       "text": [
        "\r",
        "Found animation from 1 to 0 starting at 301 (301)"
       ]
      },
      {
       "output_type": "stream",
       "stream": "stdout",
       "text": [
        "\n",
        "[1 2]\n",
        "[ 0.  0.  1.  0.]\n",
        "\r",
        "Found animation from 1 to 2 starting at 201 (301)"
       ]
      },
      {
       "output_type": "stream",
       "stream": "stdout",
       "text": [
        "\r",
        "Found animation from 1 to 2 starting at 211 (301)"
       ]
      },
      {
       "output_type": "stream",
       "stream": "stdout",
       "text": [
        "\r",
        "Found animation from 1 to 2 starting at 221 (301)"
       ]
      },
      {
       "output_type": "stream",
       "stream": "stdout",
       "text": [
        "\r",
        "Found animation from 1 to 2 starting at 231 (301)"
       ]
      },
      {
       "output_type": "stream",
       "stream": "stdout",
       "text": [
        "\r",
        "Found animation from 1 to 2 starting at 241 (301)"
       ]
      },
      {
       "output_type": "stream",
       "stream": "stdout",
       "text": [
        "\r",
        "Found animation from 1 to 2 starting at 251 (301)"
       ]
      },
      {
       "output_type": "stream",
       "stream": "stdout",
       "text": [
        "\r",
        "Found animation from 1 to 2 starting at 261 (301)"
       ]
      },
      {
       "output_type": "stream",
       "stream": "stdout",
       "text": [
        "\r",
        "Found animation from 1 to 2 starting at 271 (301)"
       ]
      },
      {
       "output_type": "stream",
       "stream": "stdout",
       "text": [
        "\r",
        "Found animation from 1 to 2 starting at 281 (301)"
       ]
      },
      {
       "output_type": "stream",
       "stream": "stdout",
       "text": [
        "\r",
        "Found animation from 1 to 2 starting at 291 (301)"
       ]
      },
      {
       "output_type": "stream",
       "stream": "stdout",
       "text": [
        "\r",
        "Found animation from 1 to 2 starting at 301 (301)"
       ]
      },
      {
       "output_type": "stream",
       "stream": "stdout",
       "text": [
        "\n",
        "[1 3]\n",
        "[ 0.  0.  0.  1.]\n",
        "\r",
        "Found animation from 1 to 3 starting at 201 (301)"
       ]
      },
      {
       "output_type": "stream",
       "stream": "stdout",
       "text": [
        "\r",
        "Found animation from 1 to 3 starting at 211 (301)"
       ]
      },
      {
       "output_type": "stream",
       "stream": "stdout",
       "text": [
        "\r",
        "Found animation from 1 to 3 starting at 221 (301)"
       ]
      },
      {
       "output_type": "stream",
       "stream": "stdout",
       "text": [
        "\r",
        "Found animation from 1 to 3 starting at 231 (301)"
       ]
      },
      {
       "output_type": "stream",
       "stream": "stdout",
       "text": [
        "\r",
        "Found animation from 1 to 3 starting at 241 (301)"
       ]
      },
      {
       "output_type": "stream",
       "stream": "stdout",
       "text": [
        "\r",
        "Found animation from 1 to 3 starting at 251 (301)"
       ]
      },
      {
       "output_type": "stream",
       "stream": "stdout",
       "text": [
        "\r",
        "Found animation from 1 to 3 starting at 261 (301)"
       ]
      },
      {
       "output_type": "stream",
       "stream": "stdout",
       "text": [
        "\r",
        "Found animation from 1 to 3 starting at 271 (301)"
       ]
      },
      {
       "output_type": "stream",
       "stream": "stdout",
       "text": [
        "\r",
        "Found animation from 1 to 3 starting at 281 (301)"
       ]
      },
      {
       "output_type": "stream",
       "stream": "stdout",
       "text": [
        "\r",
        "Found animation from 1 to 3 starting at 291 (301)"
       ]
      },
      {
       "output_type": "stream",
       "stream": "stdout",
       "text": [
        "\r",
        "Found animation from 1 to 3 starting at 301 (301)"
       ]
      },
      {
       "output_type": "stream",
       "stream": "stdout",
       "text": [
        "\n",
        "[2 0]\n",
        "[ 1.  0.  0.  0.]\n",
        "\r",
        "Found animation from 2 to 0 starting at 307 (517)"
       ]
      },
      {
       "output_type": "stream",
       "stream": "stdout",
       "text": [
        "\r",
        "Found animation from 2 to 0 starting at 317 (517)"
       ]
      },
      {
       "output_type": "stream",
       "stream": "stdout",
       "text": [
        "\r",
        "Found animation from 2 to 0 starting at 327 (517)"
       ]
      },
      {
       "output_type": "stream",
       "stream": "stdout",
       "text": [
        "\r",
        "Found animation from 2 to 0 starting at 337 (517)"
       ]
      },
      {
       "output_type": "stream",
       "stream": "stdout",
       "text": [
        "\r",
        "Found animation from 2 to 0 starting at 347 (517)"
       ]
      },
      {
       "output_type": "stream",
       "stream": "stdout",
       "text": [
        "\r",
        "Found animation from 2 to 0 starting at 357 (517)"
       ]
      },
      {
       "output_type": "stream",
       "stream": "stdout",
       "text": [
        "\r",
        "Found animation from 2 to 0 starting at 367 (517)"
       ]
      },
      {
       "output_type": "stream",
       "stream": "stdout",
       "text": [
        "\r",
        "Found animation from 2 to 0 starting at 377 (517)"
       ]
      },
      {
       "output_type": "stream",
       "stream": "stdout",
       "text": [
        "\r",
        "Found animation from 2 to 0 starting at 387 (517)"
       ]
      },
      {
       "output_type": "stream",
       "stream": "stdout",
       "text": [
        "\r",
        "Found animation from 2 to 0 starting at 397 (517)"
       ]
      },
      {
       "output_type": "stream",
       "stream": "stdout",
       "text": [
        "\r",
        "Found animation from 2 to 0 starting at 407 (517)"
       ]
      },
      {
       "output_type": "stream",
       "stream": "stdout",
       "text": [
        "\r",
        "Found animation from 2 to 0 starting at 417 (517)"
       ]
      },
      {
       "output_type": "stream",
       "stream": "stdout",
       "text": [
        "\r",
        "Found animation from 2 to 0 starting at 427 (517)"
       ]
      },
      {
       "output_type": "stream",
       "stream": "stdout",
       "text": [
        "\r",
        "Found animation from 2 to 0 starting at 437 (517)"
       ]
      },
      {
       "output_type": "stream",
       "stream": "stdout",
       "text": [
        "\r",
        "Found animation from 2 to 0 starting at 447 (517)"
       ]
      },
      {
       "output_type": "stream",
       "stream": "stdout",
       "text": [
        "\r",
        "Found animation from 2 to 0 starting at 457 (517)"
       ]
      },
      {
       "output_type": "stream",
       "stream": "stdout",
       "text": [
        "\r",
        "Found animation from 2 to 0 starting at 467 (517)"
       ]
      },
      {
       "output_type": "stream",
       "stream": "stdout",
       "text": [
        "\r",
        "Found animation from 2 to 0 starting at 477 (517)"
       ]
      },
      {
       "output_type": "stream",
       "stream": "stdout",
       "text": [
        "\r",
        "Found animation from 2 to 0 starting at 487 (517)"
       ]
      },
      {
       "output_type": "stream",
       "stream": "stdout",
       "text": [
        "\r",
        "Found animation from 2 to 0 starting at 497 (517)"
       ]
      },
      {
       "output_type": "stream",
       "stream": "stdout",
       "text": [
        "\r",
        "Found animation from 2 to 0 starting at 507 (517)"
       ]
      },
      {
       "output_type": "stream",
       "stream": "stdout",
       "text": [
        "\r",
        "Found animation from 2 to 0 starting at 517 (517)"
       ]
      },
      {
       "output_type": "stream",
       "stream": "stdout",
       "text": [
        "\n",
        "[2 1]\n",
        "[ 0.  1.  0.  0.]\n",
        "\r",
        "Found animation from 2 to 1 starting at 307 (517)"
       ]
      },
      {
       "output_type": "stream",
       "stream": "stdout",
       "text": [
        "\r",
        "Found animation from 2 to 1 starting at 317 (517)"
       ]
      },
      {
       "output_type": "stream",
       "stream": "stdout",
       "text": [
        "\r",
        "Found animation from 2 to 1 starting at 327 (517)"
       ]
      },
      {
       "output_type": "stream",
       "stream": "stdout",
       "text": [
        "\r",
        "Found animation from 2 to 1 starting at 337 (517)"
       ]
      },
      {
       "output_type": "stream",
       "stream": "stdout",
       "text": [
        "\r",
        "Found animation from 2 to 1 starting at 347 (517)"
       ]
      },
      {
       "output_type": "stream",
       "stream": "stdout",
       "text": [
        "\r",
        "Found animation from 2 to 1 starting at 357 (517)"
       ]
      },
      {
       "output_type": "stream",
       "stream": "stdout",
       "text": [
        "\r",
        "Found animation from 2 to 1 starting at 367 (517)"
       ]
      },
      {
       "output_type": "stream",
       "stream": "stdout",
       "text": [
        "\r",
        "Found animation from 2 to 1 starting at 377 (517)"
       ]
      },
      {
       "output_type": "stream",
       "stream": "stdout",
       "text": [
        "\r",
        "Found animation from 2 to 1 starting at 387 (517)"
       ]
      },
      {
       "output_type": "stream",
       "stream": "stdout",
       "text": [
        "\r",
        "Found animation from 2 to 1 starting at 397 (517)"
       ]
      },
      {
       "output_type": "stream",
       "stream": "stdout",
       "text": [
        "\r",
        "Found animation from 2 to 1 starting at 407 (517)"
       ]
      },
      {
       "output_type": "stream",
       "stream": "stdout",
       "text": [
        "\r",
        "Found animation from 2 to 1 starting at 417 (517)"
       ]
      },
      {
       "output_type": "stream",
       "stream": "stdout",
       "text": [
        "\r",
        "Found animation from 2 to 1 starting at 427 (517)"
       ]
      },
      {
       "output_type": "stream",
       "stream": "stdout",
       "text": [
        "\r",
        "Found animation from 2 to 1 starting at 437 (517)"
       ]
      },
      {
       "output_type": "stream",
       "stream": "stdout",
       "text": [
        "\r",
        "Found animation from 2 to 1 starting at 447 (517)"
       ]
      },
      {
       "output_type": "stream",
       "stream": "stdout",
       "text": [
        "\r",
        "Found animation from 2 to 1 starting at 457 (517)"
       ]
      },
      {
       "output_type": "stream",
       "stream": "stdout",
       "text": [
        "\r",
        "Found animation from 2 to 1 starting at 467 (517)"
       ]
      },
      {
       "output_type": "stream",
       "stream": "stdout",
       "text": [
        "\r",
        "Found animation from 2 to 1 starting at 477 (517)"
       ]
      },
      {
       "output_type": "stream",
       "stream": "stdout",
       "text": [
        "\r",
        "Found animation from 2 to 1 starting at 487 (517)"
       ]
      },
      {
       "output_type": "stream",
       "stream": "stdout",
       "text": [
        "\r",
        "Found animation from 2 to 1 starting at 497 (517)"
       ]
      },
      {
       "output_type": "stream",
       "stream": "stdout",
       "text": [
        "\r",
        "Found animation from 2 to 1 starting at 507 (517)"
       ]
      },
      {
       "output_type": "stream",
       "stream": "stdout",
       "text": [
        "\r",
        "Found animation from 2 to 1 starting at 517 (517)"
       ]
      },
      {
       "output_type": "stream",
       "stream": "stdout",
       "text": [
        "\n",
        "[2 3]\n",
        "[ 0.  0.  0.  1.]\n",
        "\r",
        "Found animation from 2 to 3 starting at 307 (517)"
       ]
      },
      {
       "output_type": "stream",
       "stream": "stdout",
       "text": [
        "\r",
        "Found animation from 2 to 3 starting at 317 (517)"
       ]
      },
      {
       "output_type": "stream",
       "stream": "stdout",
       "text": [
        "\r",
        "Found animation from 2 to 3 starting at 327 (517)"
       ]
      },
      {
       "output_type": "stream",
       "stream": "stdout",
       "text": [
        "\r",
        "Found animation from 2 to 3 starting at 337 (517)"
       ]
      },
      {
       "output_type": "stream",
       "stream": "stdout",
       "text": [
        "\r",
        "Found animation from 2 to 3 starting at 347 (517)"
       ]
      },
      {
       "output_type": "stream",
       "stream": "stdout",
       "text": [
        "\r",
        "Found animation from 2 to 3 starting at 357 (517)"
       ]
      },
      {
       "output_type": "stream",
       "stream": "stdout",
       "text": [
        "\r",
        "Found animation from 2 to 3 starting at 367 (517)"
       ]
      },
      {
       "output_type": "stream",
       "stream": "stdout",
       "text": [
        "\r",
        "Found animation from 2 to 3 starting at 377 (517)"
       ]
      },
      {
       "output_type": "stream",
       "stream": "stdout",
       "text": [
        "\r",
        "Found animation from 2 to 3 starting at 387 (517)"
       ]
      },
      {
       "output_type": "stream",
       "stream": "stdout",
       "text": [
        "\r",
        "Found animation from 2 to 3 starting at 397 (517)"
       ]
      },
      {
       "output_type": "stream",
       "stream": "stdout",
       "text": [
        "\r",
        "Found animation from 2 to 3 starting at 407 (517)"
       ]
      },
      {
       "output_type": "stream",
       "stream": "stdout",
       "text": [
        "\r",
        "Found animation from 2 to 3 starting at 417 (517)"
       ]
      },
      {
       "output_type": "stream",
       "stream": "stdout",
       "text": [
        "\r",
        "Found animation from 2 to 3 starting at 427 (517)"
       ]
      },
      {
       "output_type": "stream",
       "stream": "stdout",
       "text": [
        "\r",
        "Found animation from 2 to 3 starting at 437 (517)"
       ]
      },
      {
       "output_type": "stream",
       "stream": "stdout",
       "text": [
        "\r",
        "Found animation from 2 to 3 starting at 447 (517)"
       ]
      },
      {
       "output_type": "stream",
       "stream": "stdout",
       "text": [
        "\r",
        "Found animation from 2 to 3 starting at 457 (517)"
       ]
      },
      {
       "output_type": "stream",
       "stream": "stdout",
       "text": [
        "\r",
        "Found animation from 2 to 3 starting at 467 (517)"
       ]
      },
      {
       "output_type": "stream",
       "stream": "stdout",
       "text": [
        "\r",
        "Found animation from 2 to 3 starting at 477 (517)"
       ]
      },
      {
       "output_type": "stream",
       "stream": "stdout",
       "text": [
        "\r",
        "Found animation from 2 to 3 starting at 487 (517)"
       ]
      },
      {
       "output_type": "stream",
       "stream": "stdout",
       "text": [
        "\r",
        "Found animation from 2 to 3 starting at 497 (517)"
       ]
      },
      {
       "output_type": "stream",
       "stream": "stdout",
       "text": [
        "\r",
        "Found animation from 2 to 3 starting at 507 (517)"
       ]
      },
      {
       "output_type": "stream",
       "stream": "stdout",
       "text": [
        "\r",
        "Found animation from 2 to 3 starting at 517 (517)"
       ]
      },
      {
       "output_type": "stream",
       "stream": "stdout",
       "text": [
        "\n",
        "[3 0]\n",
        "[ 1.  0.  0.  0.]\n",
        "\r",
        "Found animation from 3 to 0 starting at 519 (709)"
       ]
      },
      {
       "output_type": "stream",
       "stream": "stdout",
       "text": [
        "\r",
        "Found animation from 3 to 0 starting at 529 (709)"
       ]
      },
      {
       "output_type": "stream",
       "stream": "stdout",
       "text": [
        "\r",
        "Found animation from 3 to 0 starting at 539 (709)"
       ]
      },
      {
       "output_type": "stream",
       "stream": "stdout",
       "text": [
        "\r",
        "Found animation from 3 to 0 starting at 549 (709)"
       ]
      },
      {
       "output_type": "stream",
       "stream": "stdout",
       "text": [
        "\r",
        "Found animation from 3 to 0 starting at 559 (709)"
       ]
      },
      {
       "output_type": "stream",
       "stream": "stdout",
       "text": [
        "\r",
        "Found animation from 3 to 0 starting at 569 (709)"
       ]
      },
      {
       "output_type": "stream",
       "stream": "stdout",
       "text": [
        "\r",
        "Found animation from 3 to 0 starting at 579 (709)"
       ]
      },
      {
       "output_type": "stream",
       "stream": "stdout",
       "text": [
        "\r",
        "Found animation from 3 to 0 starting at 589 (709)"
       ]
      },
      {
       "output_type": "stream",
       "stream": "stdout",
       "text": [
        "\r",
        "Found animation from 3 to 0 starting at 599 (709)"
       ]
      },
      {
       "output_type": "stream",
       "stream": "stdout",
       "text": [
        "\r",
        "Found animation from 3 to 0 starting at 609 (709)"
       ]
      },
      {
       "output_type": "stream",
       "stream": "stdout",
       "text": [
        "\r",
        "Found animation from 3 to 0 starting at 619 (709)"
       ]
      },
      {
       "output_type": "stream",
       "stream": "stdout",
       "text": [
        "\r",
        "Found animation from 3 to 0 starting at 629 (709)"
       ]
      },
      {
       "output_type": "stream",
       "stream": "stdout",
       "text": [
        "\r",
        "Found animation from 3 to 0 starting at 639 (709)"
       ]
      },
      {
       "output_type": "stream",
       "stream": "stdout",
       "text": [
        "\r",
        "Found animation from 3 to 0 starting at 649 (709)"
       ]
      },
      {
       "output_type": "stream",
       "stream": "stdout",
       "text": [
        "\r",
        "Found animation from 3 to 0 starting at 659 (709)"
       ]
      },
      {
       "output_type": "stream",
       "stream": "stdout",
       "text": [
        "\r",
        "Found animation from 3 to 0 starting at 669 (709)"
       ]
      },
      {
       "output_type": "stream",
       "stream": "stdout",
       "text": [
        "\r",
        "Found animation from 3 to 0 starting at 679 (709)"
       ]
      },
      {
       "output_type": "stream",
       "stream": "stdout",
       "text": [
        "\r",
        "Found animation from 3 to 0 starting at 689 (709)"
       ]
      },
      {
       "output_type": "stream",
       "stream": "stdout",
       "text": [
        "\r",
        "Found animation from 3 to 0 starting at 699 (709)"
       ]
      },
      {
       "output_type": "stream",
       "stream": "stdout",
       "text": [
        "\r",
        "Found animation from 3 to 0 starting at 709 (709)"
       ]
      },
      {
       "output_type": "stream",
       "stream": "stdout",
       "text": [
        "\n",
        "[3 1]\n",
        "[ 0.  1.  0.  0.]\n",
        "\r",
        "Found animation from 3 to 1 starting at 519 (709)"
       ]
      },
      {
       "output_type": "stream",
       "stream": "stdout",
       "text": [
        "\r",
        "Found animation from 3 to 1 starting at 529 (709)"
       ]
      },
      {
       "output_type": "stream",
       "stream": "stdout",
       "text": [
        "\r",
        "Found animation from 3 to 1 starting at 539 (709)"
       ]
      },
      {
       "output_type": "stream",
       "stream": "stdout",
       "text": [
        "\r",
        "Found animation from 3 to 1 starting at 549 (709)"
       ]
      },
      {
       "output_type": "stream",
       "stream": "stdout",
       "text": [
        "\r",
        "Found animation from 3 to 1 starting at 559 (709)"
       ]
      },
      {
       "output_type": "stream",
       "stream": "stdout",
       "text": [
        "\r",
        "Found animation from 3 to 1 starting at 569 (709)"
       ]
      },
      {
       "output_type": "stream",
       "stream": "stdout",
       "text": [
        "\r",
        "Found animation from 3 to 1 starting at 579 (709)"
       ]
      },
      {
       "output_type": "stream",
       "stream": "stdout",
       "text": [
        "\r",
        "Found animation from 3 to 1 starting at 589 (709)"
       ]
      },
      {
       "output_type": "stream",
       "stream": "stdout",
       "text": [
        "\r",
        "Found animation from 3 to 1 starting at 599 (709)"
       ]
      },
      {
       "output_type": "stream",
       "stream": "stdout",
       "text": [
        "\r",
        "Found animation from 3 to 1 starting at 609 (709)"
       ]
      },
      {
       "output_type": "stream",
       "stream": "stdout",
       "text": [
        "\r",
        "Found animation from 3 to 1 starting at 619 (709)"
       ]
      },
      {
       "output_type": "stream",
       "stream": "stdout",
       "text": [
        "\r",
        "Found animation from 3 to 1 starting at 629 (709)"
       ]
      },
      {
       "output_type": "stream",
       "stream": "stdout",
       "text": [
        "\r",
        "Found animation from 3 to 1 starting at 639 (709)"
       ]
      },
      {
       "output_type": "stream",
       "stream": "stdout",
       "text": [
        "\r",
        "Found animation from 3 to 1 starting at 649 (709)"
       ]
      },
      {
       "output_type": "stream",
       "stream": "stdout",
       "text": [
        "\r",
        "Found animation from 3 to 1 starting at 659 (709)"
       ]
      },
      {
       "output_type": "stream",
       "stream": "stdout",
       "text": [
        "\r",
        "Found animation from 3 to 1 starting at 669 (709)"
       ]
      },
      {
       "output_type": "stream",
       "stream": "stdout",
       "text": [
        "\r",
        "Found animation from 3 to 1 starting at 679 (709)"
       ]
      },
      {
       "output_type": "stream",
       "stream": "stdout",
       "text": [
        "\r",
        "Found animation from 3 to 1 starting at 689 (709)"
       ]
      },
      {
       "output_type": "stream",
       "stream": "stdout",
       "text": [
        "\r",
        "Found animation from 3 to 1 starting at 699 (709)"
       ]
      },
      {
       "output_type": "stream",
       "stream": "stdout",
       "text": [
        "\r",
        "Found animation from 3 to 1 starting at 709 (709)"
       ]
      },
      {
       "output_type": "stream",
       "stream": "stdout",
       "text": [
        "\n",
        "[3 2]\n",
        "[ 0.  0.  1.  0.]\n",
        "\r",
        "Found animation from 3 to 2 starting at 519 (709)"
       ]
      },
      {
       "output_type": "stream",
       "stream": "stdout",
       "text": [
        "\r",
        "Found animation from 3 to 2 starting at 529 (709)"
       ]
      },
      {
       "output_type": "stream",
       "stream": "stdout",
       "text": [
        "\r",
        "Found animation from 3 to 2 starting at 539 (709)"
       ]
      },
      {
       "output_type": "stream",
       "stream": "stdout",
       "text": [
        "\r",
        "Found animation from 3 to 2 starting at 549 (709)"
       ]
      },
      {
       "output_type": "stream",
       "stream": "stdout",
       "text": [
        "\r",
        "Found animation from 3 to 2 starting at 559 (709)"
       ]
      },
      {
       "output_type": "stream",
       "stream": "stdout",
       "text": [
        "\r",
        "Found animation from 3 to 2 starting at 569 (709)"
       ]
      },
      {
       "output_type": "stream",
       "stream": "stdout",
       "text": [
        "\r",
        "Found animation from 3 to 2 starting at 579 (709)"
       ]
      },
      {
       "output_type": "stream",
       "stream": "stdout",
       "text": [
        "\r",
        "Found animation from 3 to 2 starting at 589 (709)"
       ]
      },
      {
       "output_type": "stream",
       "stream": "stdout",
       "text": [
        "\r",
        "Found animation from 3 to 2 starting at 599 (709)"
       ]
      },
      {
       "output_type": "stream",
       "stream": "stdout",
       "text": [
        "\r",
        "Found animation from 3 to 2 starting at 609 (709)"
       ]
      },
      {
       "output_type": "stream",
       "stream": "stdout",
       "text": [
        "\r",
        "Found animation from 3 to 2 starting at 619 (709)"
       ]
      },
      {
       "output_type": "stream",
       "stream": "stdout",
       "text": [
        "\r",
        "Found animation from 3 to 2 starting at 629 (709)"
       ]
      },
      {
       "output_type": "stream",
       "stream": "stdout",
       "text": [
        "\r",
        "Found animation from 3 to 2 starting at 639 (709)"
       ]
      },
      {
       "output_type": "stream",
       "stream": "stdout",
       "text": [
        "\r",
        "Found animation from 3 to 2 starting at 649 (709)"
       ]
      },
      {
       "output_type": "stream",
       "stream": "stdout",
       "text": [
        "\r",
        "Found animation from 3 to 2 starting at 659 (709)"
       ]
      },
      {
       "output_type": "stream",
       "stream": "stdout",
       "text": [
        "\r",
        "Found animation from 3 to 2 starting at 669 (709)"
       ]
      },
      {
       "output_type": "stream",
       "stream": "stdout",
       "text": [
        "\r",
        "Found animation from 3 to 2 starting at 679 (709)"
       ]
      },
      {
       "output_type": "stream",
       "stream": "stdout",
       "text": [
        "\r",
        "Found animation from 3 to 2 starting at 689 (709)"
       ]
      },
      {
       "output_type": "stream",
       "stream": "stdout",
       "text": [
        "\r",
        "Found animation from 3 to 2 starting at 699 (709)"
       ]
      },
      {
       "output_type": "stream",
       "stream": "stdout",
       "text": [
        "\r",
        "Found animation from 3 to 2 starting at 709 (709)"
       ]
      },
      {
       "output_type": "stream",
       "stream": "stdout",
       "text": [
        "\n"
       ]
      }
     ],
     "prompt_number": 115
    },
    {
     "cell_type": "code",
     "collapsed": false,
     "input": [
      "allNeededFrames = np.empty(0, dtype=int)\n",
      "\n",
      "for s in semanticsToUse :\n",
      "    allNeededFrames = np.concatenate((allNeededFrames, np.arange(semanticsFrameRanges[s, 0], semanticsFrameRanges[s, 1])))\n",
      "    \n",
      "for t in transitionAnimations :\n",
      "    for animation in t :\n",
      "        allNeededFrames = np.concatenate((allNeededFrames, animation))\n",
      "        \n",
      "allNeededFrames = np.unique(allNeededFrames)\n",
      "print allNeededFrames\n",
      "\n",
      "## make an array where each element tells me where the last frame of that looped semantic or transition sequence is\n",
      "frameSequencesLengthCumSum = []\n",
      "for s in loopedSemantics :\n",
      "    frameSequencesLengthCumSum.append(s[DICT_SEQUENCE_LENGTH])\n",
      "for t in transitionSequences :\n",
      "    frameSequencesLengthCumSum.append(t[DICT_SEQUENCE_LENGTH])\n",
      "frameSequencesLengthCumSum = np.cumsum(np.array(frameSequencesLengthCumSum))\n",
      "print frameSequencesLengthCumSum\n",
      "\n",
      "## which sequence each frame comes from (if id is bigger than len(loopedSemantics), then id indexes transitionSequences)\n",
      "sequencePerFrame = np.zeros_like(allNeededFrames)\n",
      "for i in xrange(len(allNeededFrames)) :\n",
      "    sequencePerFrame[i] = np.sum(allNeededFrames[i] >= frameSequencesLengthCumSum)\n",
      "    \n",
      "print sequencePerFrame\n",
      "\n",
      "## actual indices of the frames in their sequences rather than indices in the transition matrix\n",
      "allNeededFramesInSequenceIdxs = allNeededFrames-np.concatenate(([0], frameSequencesLengthCumSum))[sequencePerFrame]\n",
      "print allNeededFramesInSequenceIdxs\n",
      "\n",
      "## now build frameLocs using the above info\n",
      "frameLocs = []\n",
      "for i in xrange(len(allNeededFrames)) :\n",
      "    if sequencePerFrame[i] < len(loopedSemantics) :\n",
      "        frameLocs.append(loopedSemantics[sequencePerFrame[i]][DICT_FRAME_LOCS][allNeededFramesInSequenceIdxs[i]])\n",
      "    else :\n",
      "        frameLocs.append(transitionSequences[sequencePerFrame[i]-len(loopedSemantics)][DICT_FRAME_LOCS][allNeededFramesInSequenceIdxs[i]])\n",
      "print frameLocs"
     ],
     "language": "python",
     "metadata": {},
     "outputs": [
      {
       "output_type": "stream",
       "stream": "stdout",
       "text": [
        "[   0    1    2    3    4    5    6    7    8    9   10   11   12   13   14\n",
        "   15   16   17   18   19   20   21   22   23   24   25   26   27   28   29\n",
        "   30   31   32   33   34   35   36   37   38   39   40   41   42   43   44\n",
        "   45   46   47   48   49   50   51   52   53   54   55   56   57   58   59\n",
        "   60   61   62   63   64   65   66   67   68   69   70   71   72   73   74\n",
        "   75   76   77   78   79   80   81   82   83   84   85   86   87   88   89\n",
        "   90   91   92   93   94   95   96   97   98   99  100  101  102  103  104\n",
        "  105  106  107  108  109  110  111  112  113  114  115  116  117  118  119\n",
        "  120  121  122  123  124  125  126  127  128  129  130  131  132  133  134\n",
        "  135  136  137  138  139  140  141  142  143  144  145  146  147  148  149\n",
        "  150  151  152  153  154  155  156  157  158  159  160  161  162  163  164\n",
        "  165  166  167  168  169  170  171  172  173  174  175  176  177  178  179\n",
        "  180  181  182  183  184  185  186  187  188  189  190  191  192  193  194\n",
        "  195  196  197  198  199  200  201  202  203  204  205  206  207  208  209\n",
        "  210  211  212  213  214  215  216  217  218  219  220  221  222  223  224\n",
        "  225  226  227  228  229  230  231  232  233  234  235  236  237  238  239\n",
        "  240  241  242  243  244  245  246  247  248  249  250  251  252  253  254\n",
        "  255  256  257  258  259  260  261  262  263  264  265  266  267  268  269\n",
        "  270  271  272  273  274  275  276  277  278  279  280  281  282  283  284\n",
        "  285  286  287  288  289  290  291  292  293  294  295  296  297  298  299\n",
        "  300  301  302  303  304  305  306  307  308  309  310  311  312  313  314\n",
        "  315  316  317  318  319  320  321  322  323  324  325  326  327  328  329\n",
        "  330  331  332  333  334  335  336  337  338  339  340  341  342  343  344\n",
        "  345  346  347  348  349  350  351  352  353  354  355  356  357  358  359\n",
        "  360  361  362  363  364  365  366  367  368  369  370  371  372  373  374\n",
        "  375  376  377  378  379  380  381  382  383  384  385  386  387  388  389\n",
        "  390  391  392  393  394  395  396  397  398  399  400  401  402  403  404\n",
        "  405  406  407  408  409  410  411  412  413  414  415  416  417  418  419\n",
        "  420  421  422  423  424  425  426  427  428  429  430  431  432  433  434\n",
        "  435  436  437  438  439  440  441  442  443  444  445  446  447  448  449\n",
        "  450  451  452  453  454  455  456  457  458  459  460  461  462  463  464\n",
        "  465  466  467  468  469  470  471  472  473  474  475  476  477  478  479\n",
        "  480  481  482  483  484  485  486  487  488  489  490  491  492  493  494\n",
        "  495  496  497  498  499  500  501  502  503  504  505  506  507  508  509\n",
        "  510  511  512  513  514  515  516  517  518  519  520  521  522  523  524\n",
        "  525  526  527  528  529  530  531  532  533  534  535  536  537  538  539\n",
        "  540  541  542  543  544  545  546  547  548  549  550  551  552  553  554\n",
        "  555  556  557  558  559  560  561  562  563  564  565  566  567  568  569\n",
        "  570  571  572  573  574  575  576  577  578  579  580  581  582  583  584\n",
        "  585  586  587  588  589  590  591  592  593  594  595  596  597  598  599\n",
        "  600  601  602  603  604  605  606  607  608  609  610  611  612  613  614\n",
        "  615  616  617  618  619  620  621  622  623  624  625  626  627  628  629\n",
        "  630  631  632  633  634  635  636  637  638  639  640  641  642  643  644\n",
        "  645  646  647  648  649  650  651  652  653  654  655  656  657  658  659\n",
        "  660  661  662  663  664  665  666  667  668  669  670  671  672  673  674\n",
        "  675  676  677  678  679  680  681  682  683  684  685  686  687  688  689\n",
        "  690  691  692  693  694  695  696  697  698  699  700  701  702  703  704\n",
        "  705  706  707  708  709  710  711  712  713  714  715  720  739  747  748\n",
        "  749  750  755  757  761  766  767  786  787  811  815  818  820  834  835\n",
        "  836  837  838  850  851  852  853  854  855  856  857  858  859  914  915\n",
        "  929  941  973  974  976 1016 1068 1069 1116 1151 1152 1153 1154 1162 1167\n",
        " 1169 1177 1187 1198 1204 1213 1222 1223 1230 1231 1233 1235 1236 1269 1270\n",
        " 1271 1272 1273 1274 1275 1276 1277 1280 1290 1291 1292 1293 1294 1295 1296\n",
        " 1297 1298 1299 1300 1302 1303 1304 1308 1309 1310 1315 1317 1326 1329 1341\n",
        " 1342 1343 1344 1345 1346 1347 1356 1357 1359 1363 1364 1365 1366 1368 1369\n",
        " 1370 1371 1372 1373 1374 1375 1376 1377 1391 1658 1660 1705 1711 1748 1749\n",
        " 1750 1751 1752 1753 1754 1755 1756 1757 1758 1759 1760 1761 1762 1763 1764\n",
        " 1765 1766 1767 1768 1769 1770 1771 1772 1773 1774 1775 1776 1777 1778 1779\n",
        " 1799 1800 1801 1802 1803 1804 1805 1806 1807 1808 1809 1810 1811 1812 1838\n",
        " 1839]\n",
        "[ 201  307  519  716 1233 1591 1841]\n",
        "[0 0 0 0 0 0 0 0 0 0 0 0 0 0 0 0 0 0 0 0 0 0 0 0 0 0 0 0 0 0 0 0 0 0 0 0 0\n",
        " 0 0 0 0 0 0 0 0 0 0 0 0 0 0 0 0 0 0 0 0 0 0 0 0 0 0 0 0 0 0 0 0 0 0 0 0 0\n",
        " 0 0 0 0 0 0 0 0 0 0 0 0 0 0 0 0 0 0 0 0 0 0 0 0 0 0 0 0 0 0 0 0 0 0 0 0 0\n",
        " 0 0 0 0 0 0 0 0 0 0 0 0 0 0 0 0 0 0 0 0 0 0 0 0 0 0 0 0 0 0 0 0 0 0 0 0 0\n",
        " 0 0 0 0 0 0 0 0 0 0 0 0 0 0 0 0 0 0 0 0 0 0 0 0 0 0 0 0 0 0 0 0 0 0 0 0 0\n",
        " 0 0 0 0 0 0 0 0 0 0 0 0 0 0 0 0 1 1 1 1 1 1 1 1 1 1 1 1 1 1 1 1 1 1 1 1 1\n",
        " 1 1 1 1 1 1 1 1 1 1 1 1 1 1 1 1 1 1 1 1 1 1 1 1 1 1 1 1 1 1 1 1 1 1 1 1 1\n",
        " 1 1 1 1 1 1 1 1 1 1 1 1 1 1 1 1 1 1 1 1 1 1 1 1 1 1 1 1 1 1 1 1 1 1 1 1 1\n",
        " 1 1 1 1 1 1 1 1 1 1 1 2 2 2 2 2 2 2 2 2 2 2 2 2 2 2 2 2 2 2 2 2 2 2 2 2 2\n",
        " 2 2 2 2 2 2 2 2 2 2 2 2 2 2 2 2 2 2 2 2 2 2 2 2 2 2 2 2 2 2 2 2 2 2 2 2 2\n",
        " 2 2 2 2 2 2 2 2 2 2 2 2 2 2 2 2 2 2 2 2 2 2 2 2 2 2 2 2 2 2 2 2 2 2 2 2 2\n",
        " 2 2 2 2 2 2 2 2 2 2 2 2 2 2 2 2 2 2 2 2 2 2 2 2 2 2 2 2 2 2 2 2 2 2 2 2 2\n",
        " 2 2 2 2 2 2 2 2 2 2 2 2 2 2 2 2 2 2 2 2 2 2 2 2 2 2 2 2 2 2 2 2 2 2 2 2 2\n",
        " 2 2 2 2 2 2 2 2 2 2 2 2 2 2 2 2 2 2 2 2 2 2 2 2 2 2 2 2 2 2 2 2 2 2 2 2 2\n",
        " 2 3 3 3 3 3 3 3 3 3 3 3 3 3 3 3 3 3 3 3 3 3 3 3 3 3 3 3 3 3 3 3 3 3 3 3 3\n",
        " 3 3 3 3 3 3 3 3 3 3 3 3 3 3 3 3 3 3 3 3 3 3 3 3 3 3 3 3 3 3 3 3 3 3 3 3 3\n",
        " 3 3 3 3 3 3 3 3 3 3 3 3 3 3 3 3 3 3 3 3 3 3 3 3 3 3 3 3 3 3 3 3 3 3 3 3 3\n",
        " 3 3 3 3 3 3 3 3 3 3 3 3 3 3 3 3 3 3 3 3 3 3 3 3 3 3 3 3 3 3 3 3 3 3 3 3 3\n",
        " 3 3 3 3 3 3 3 3 3 3 3 3 3 3 3 3 3 3 3 3 3 3 3 3 3 3 3 3 3 3 3 3 3 3 3 3 3\n",
        " 3 3 3 3 3 3 3 3 3 3 3 3 3 4 4 4 4 4 4 4 4 4 4 4 4 4 4 4 4 4 4 4 4 4 4 4 4\n",
        " 4 4 4 4 4 4 4 4 4 4 4 4 4 4 4 4 4 4 4 4 4 4 4 4 4 4 4 4 4 4 4 4 4 4 4 5 5\n",
        " 5 5 5 5 5 5 5 5 5 5 5 5 5 5 5 5 5 5 5 5 5 5 5 5 5 5 5 5 5 5 5 5 5 5 5 5 5\n",
        " 5 5 5 5 5 5 5 5 5 5 5 5 5 5 5 5 5 5 5 5 6 6 6 6 6 6 6 6 6 6 6 6 6 6 6 6 6\n",
        " 6 6 6 6 6 6 6 6 6 6 6 6 6 6 6 6 6 6 6 6 6 6 6 6 6 6 6 6 6 6 6 6 6 6 6]\n",
        "[  0   1   2   3   4   5   6   7   8   9  10  11  12  13  14  15  16  17\n",
        "  18  19  20  21  22  23  24  25  26  27  28  29  30  31  32  33  34  35\n",
        "  36  37  38  39  40  41  42  43  44  45  46  47  48  49  50  51  52  53\n",
        "  54  55  56  57  58  59  60  61  62  63  64  65  66  67  68  69  70  71\n",
        "  72  73  74  75  76  77  78  79  80  81  82  83  84  85  86  87  88  89\n",
        "  90  91  92  93  94  95  96  97  98  99 100 101 102 103 104 105 106 107\n",
        " 108 109 110 111 112 113 114 115 116 117 118 119 120 121 122 123 124 125\n",
        " 126 127 128 129 130 131 132 133 134 135 136 137 138 139 140 141 142 143\n",
        " 144 145 146 147 148 149 150 151 152 153 154 155 156 157 158 159 160 161\n",
        " 162 163 164 165 166 167 168 169 170 171 172 173 174 175 176 177 178 179\n",
        " 180 181 182 183 184 185 186 187 188 189 190 191 192 193 194 195 196 197\n",
        " 198 199 200   0   1   2   3   4   5   6   7   8   9  10  11  12  13  14\n",
        "  15  16  17  18  19  20  21  22  23  24  25  26  27  28  29  30  31  32\n",
        "  33  34  35  36  37  38  39  40  41  42  43  44  45  46  47  48  49  50\n",
        "  51  52  53  54  55  56  57  58  59  60  61  62  63  64  65  66  67  68\n",
        "  69  70  71  72  73  74  75  76  77  78  79  80  81  82  83  84  85  86\n",
        "  87  88  89  90  91  92  93  94  95  96  97  98  99 100 101 102 103 104\n",
        " 105   0   1   2   3   4   5   6   7   8   9  10  11  12  13  14  15  16\n",
        "  17  18  19  20  21  22  23  24  25  26  27  28  29  30  31  32  33  34\n",
        "  35  36  37  38  39  40  41  42  43  44  45  46  47  48  49  50  51  52\n",
        "  53  54  55  56  57  58  59  60  61  62  63  64  65  66  67  68  69  70\n",
        "  71  72  73  74  75  76  77  78  79  80  81  82  83  84  85  86  87  88\n",
        "  89  90  91  92  93  94  95  96  97  98  99 100 101 102 103 104 105 106\n",
        " 107 108 109 110 111 112 113 114 115 116 117 118 119 120 121 122 123 124\n",
        " 125 126 127 128 129 130 131 132 133 134 135 136 137 138 139 140 141 142\n",
        " 143 144 145 146 147 148 149 150 151 152 153 154 155 156 157 158 159 160\n",
        " 161 162 163 164 165 166 167 168 169 170 171 172 173 174 175 176 177 178\n",
        " 179 180 181 182 183 184 185 186 187 188 189 190 191 192 193 194 195 196\n",
        " 197 198 199 200 201 202 203 204 205 206 207 208 209 210 211   0   1   2\n",
        "   3   4   5   6   7   8   9  10  11  12  13  14  15  16  17  18  19  20\n",
        "  21  22  23  24  25  26  27  28  29  30  31  32  33  34  35  36  37  38\n",
        "  39  40  41  42  43  44  45  46  47  48  49  50  51  52  53  54  55  56\n",
        "  57  58  59  60  61  62  63  64  65  66  67  68  69  70  71  72  73  74\n",
        "  75  76  77  78  79  80  81  82  83  84  85  86  87  88  89  90  91  92\n",
        "  93  94  95  96  97  98  99 100 101 102 103 104 105 106 107 108 109 110\n",
        " 111 112 113 114 115 116 117 118 119 120 121 122 123 124 125 126 127 128\n",
        " 129 130 131 132 133 134 135 136 137 138 139 140 141 142 143 144 145 146\n",
        " 147 148 149 150 151 152 153 154 155 156 157 158 159 160 161 162 163 164\n",
        " 165 166 167 168 169 170 171 172 173 174 175 176 177 178 179 180 181 182\n",
        " 183 184 185 186 187 188 189 190 191 192 193 194 195 196   4  23  31  32\n",
        "  33  34  39  41  45  50  51  70  71  95  99 102 104 118 119 120 121 122\n",
        " 134 135 136 137 138 139 140 141 142 143 198 199 213 225 257 258 260 300\n",
        " 352 353 400 435 436 437 438 446 451 453 461 471 482 488 497 506 507 514\n",
        " 515   0   2   3  36  37  38  39  40  41  42  43  44  47  57  58  59  60\n",
        "  61  62  63  64  65  66  67  69  70  71  75  76  77  82  84  93  96 108\n",
        " 109 110 111 112 113 114 123 124 126 130 131 132 133 135 136 137 138 139\n",
        " 140 141 142 143 144 158  67  69 114 120 157 158 159 160 161 162 163 164\n",
        " 165 166 167 168 169 170 171 172 173 174 175 176 177 178 179 180 181 182\n",
        " 183 184 185 186 187 188 208 209 210 211 212 213 214 215 216 217 218 219\n",
        " 220 221 247 248]\n",
        "['/media/ilisescu/Data1/PhD/data/candle1/segmentedAndCropped/frame-00923.png', '/media/ilisescu/Data1/PhD/data/candle1/segmentedAndCropped/frame-00924.png', '/media/ilisescu/Data1/PhD/data/candle1/segmentedAndCropped/frame-00925.png', '/media/ilisescu/Data1/PhD/data/candle1/segmentedAndCropped/frame-00926.png', '/media/ilisescu/Data1/PhD/data/candle1/segmentedAndCropped/frame-00927.png', '/media/ilisescu/Data1/PhD/data/candle1/segmentedAndCropped/frame-00928.png', '/media/ilisescu/Data1/PhD/data/candle1/segmentedAndCropped/frame-00929.png', '/media/ilisescu/Data1/PhD/data/candle1/segmentedAndCropped/frame-00930.png', '/media/ilisescu/Data1/PhD/data/candle1/segmentedAndCropped/frame-00931.png', '/media/ilisescu/Data1/PhD/data/candle1/segmentedAndCropped/frame-00932.png', '/media/ilisescu/Data1/PhD/data/candle1/segmentedAndCropped/frame-00933.png', '/media/ilisescu/Data1/PhD/data/candle1/segmentedAndCropped/frame-00934.png', '/media/ilisescu/Data1/PhD/data/candle1/segmentedAndCropped/frame-00935.png', '/media/ilisescu/Data1/PhD/data/candle1/segmentedAndCropped/frame-00936.png', '/media/ilisescu/Data1/PhD/data/candle1/segmentedAndCropped/frame-00937.png', '/media/ilisescu/Data1/PhD/data/candle1/segmentedAndCropped/frame-00938.png', '/media/ilisescu/Data1/PhD/data/candle1/segmentedAndCropped/frame-00939.png', '/media/ilisescu/Data1/PhD/data/candle1/segmentedAndCropped/frame-00940.png', '/media/ilisescu/Data1/PhD/data/candle1/segmentedAndCropped/frame-00941.png', '/media/ilisescu/Data1/PhD/data/candle1/segmentedAndCropped/frame-00942.png', '/media/ilisescu/Data1/PhD/data/candle1/segmentedAndCropped/frame-00943.png', '/media/ilisescu/Data1/PhD/data/candle1/segmentedAndCropped/frame-00944.png', '/media/ilisescu/Data1/PhD/data/candle1/segmentedAndCropped/frame-00945.png', '/media/ilisescu/Data1/PhD/data/candle1/segmentedAndCropped/frame-00946.png', '/media/ilisescu/Data1/PhD/data/candle1/segmentedAndCropped/frame-00947.png', '/media/ilisescu/Data1/PhD/data/candle1/segmentedAndCropped/frame-00948.png', '/media/ilisescu/Data1/PhD/data/candle1/segmentedAndCropped/frame-00949.png', '/media/ilisescu/Data1/PhD/data/candle1/segmentedAndCropped/frame-00950.png', '/media/ilisescu/Data1/PhD/data/candle1/segmentedAndCropped/frame-00951.png', '/media/ilisescu/Data1/PhD/data/candle1/segmentedAndCropped/frame-00952.png', '/media/ilisescu/Data1/PhD/data/candle1/segmentedAndCropped/frame-00953.png', '/media/ilisescu/Data1/PhD/data/candle1/segmentedAndCropped/frame-00954.png', '/media/ilisescu/Data1/PhD/data/candle1/segmentedAndCropped/frame-00955.png', '/media/ilisescu/Data1/PhD/data/candle1/segmentedAndCropped/frame-00956.png', '/media/ilisescu/Data1/PhD/data/candle1/segmentedAndCropped/frame-00957.png', '/media/ilisescu/Data1/PhD/data/candle1/segmentedAndCropped/frame-00958.png', '/media/ilisescu/Data1/PhD/data/candle1/segmentedAndCropped/frame-00959.png', '/media/ilisescu/Data1/PhD/data/candle1/segmentedAndCropped/frame-00960.png', '/media/ilisescu/Data1/PhD/data/candle1/segmentedAndCropped/frame-00961.png', '/media/ilisescu/Data1/PhD/data/candle1/segmentedAndCropped/frame-00962.png', '/media/ilisescu/Data1/PhD/data/candle1/segmentedAndCropped/frame-00963.png', '/media/ilisescu/Data1/PhD/data/candle1/segmentedAndCropped/frame-00964.png', '/media/ilisescu/Data1/PhD/data/candle1/segmentedAndCropped/frame-00965.png', '/media/ilisescu/Data1/PhD/data/candle1/segmentedAndCropped/frame-00966.png', '/media/ilisescu/Data1/PhD/data/candle1/segmentedAndCropped/frame-00967.png', '/media/ilisescu/Data1/PhD/data/candle1/segmentedAndCropped/frame-00968.png', '/media/ilisescu/Data1/PhD/data/candle1/segmentedAndCropped/frame-00969.png', '/media/ilisescu/Data1/PhD/data/candle1/segmentedAndCropped/frame-00970.png', '/media/ilisescu/Data1/PhD/data/candle1/segmentedAndCropped/frame-00971.png', '/media/ilisescu/Data1/PhD/data/candle1/segmentedAndCropped/frame-00972.png', '/media/ilisescu/Data1/PhD/data/candle1/segmentedAndCropped/frame-00973.png', '/media/ilisescu/Data1/PhD/data/candle1/segmentedAndCropped/frame-00974.png', '/media/ilisescu/Data1/PhD/data/candle1/segmentedAndCropped/frame-00975.png', '/media/ilisescu/Data1/PhD/data/candle1/segmentedAndCropped/frame-00976.png', '/media/ilisescu/Data1/PhD/data/candle1/segmentedAndCropped/frame-00977.png', '/media/ilisescu/Data1/PhD/data/candle1/segmentedAndCropped/frame-00978.png', '/media/ilisescu/Data1/PhD/data/candle1/segmentedAndCropped/frame-00979.png', '/media/ilisescu/Data1/PhD/data/candle1/segmentedAndCropped/frame-00980.png', '/media/ilisescu/Data1/PhD/data/candle1/segmentedAndCropped/frame-00981.png', '/media/ilisescu/Data1/PhD/data/candle1/segmentedAndCropped/frame-00982.png', '/media/ilisescu/Data1/PhD/data/candle1/segmentedAndCropped/frame-00983.png', '/media/ilisescu/Data1/PhD/data/candle1/segmentedAndCropped/frame-00984.png', '/media/ilisescu/Data1/PhD/data/candle1/segmentedAndCropped/frame-00985.png', '/media/ilisescu/Data1/PhD/data/candle1/segmentedAndCropped/frame-00986.png', '/media/ilisescu/Data1/PhD/data/candle1/segmentedAndCropped/frame-00987.png', '/media/ilisescu/Data1/PhD/data/candle1/segmentedAndCropped/frame-00988.png', '/media/ilisescu/Data1/PhD/data/candle1/segmentedAndCropped/frame-00989.png', '/media/ilisescu/Data1/PhD/data/candle1/segmentedAndCropped/frame-00990.png', '/media/ilisescu/Data1/PhD/data/candle1/segmentedAndCropped/frame-00991.png', '/media/ilisescu/Data1/PhD/data/candle1/segmentedAndCropped/frame-00992.png', '/media/ilisescu/Data1/PhD/data/candle1/segmentedAndCropped/frame-00993.png', '/media/ilisescu/Data1/PhD/data/candle1/segmentedAndCropped/frame-00994.png', '/media/ilisescu/Data1/PhD/data/candle1/segmentedAndCropped/frame-00995.png', '/media/ilisescu/Data1/PhD/data/candle1/segmentedAndCropped/frame-00996.png', '/media/ilisescu/Data1/PhD/data/candle1/segmentedAndCropped/frame-00997.png', '/media/ilisescu/Data1/PhD/data/candle1/segmentedAndCropped/frame-00998.png', '/media/ilisescu/Data1/PhD/data/candle1/segmentedAndCropped/frame-00999.png', '/media/ilisescu/Data1/PhD/data/candle1/segmentedAndCropped/frame-01000.png', '/media/ilisescu/Data1/PhD/data/candle1/segmentedAndCropped/frame-01001.png', '/media/ilisescu/Data1/PhD/data/candle1/segmentedAndCropped/frame-01002.png', '/media/ilisescu/Data1/PhD/data/candle1/segmentedAndCropped/frame-01003.png', '/media/ilisescu/Data1/PhD/data/candle1/segmentedAndCropped/frame-01004.png', '/media/ilisescu/Data1/PhD/data/candle1/segmentedAndCropped/frame-01005.png', '/media/ilisescu/Data1/PhD/data/candle1/segmentedAndCropped/frame-01006.png', '/media/ilisescu/Data1/PhD/data/candle1/segmentedAndCropped/frame-01007.png', '/media/ilisescu/Data1/PhD/data/candle1/segmentedAndCropped/frame-01008.png', '/media/ilisescu/Data1/PhD/data/candle1/segmentedAndCropped/frame-01009.png', '/media/ilisescu/Data1/PhD/data/candle1/segmentedAndCropped/frame-01010.png', '/media/ilisescu/Data1/PhD/data/candle1/segmentedAndCropped/frame-01011.png', '/media/ilisescu/Data1/PhD/data/candle1/segmentedAndCropped/frame-01012.png', '/media/ilisescu/Data1/PhD/data/candle1/segmentedAndCropped/frame-01013.png', '/media/ilisescu/Data1/PhD/data/candle1/segmentedAndCropped/frame-01014.png', '/media/ilisescu/Data1/PhD/data/candle1/segmentedAndCropped/frame-01015.png', '/media/ilisescu/Data1/PhD/data/candle1/segmentedAndCropped/frame-01016.png', '/media/ilisescu/Data1/PhD/data/candle1/segmentedAndCropped/frame-01017.png', '/media/ilisescu/Data1/PhD/data/candle1/segmentedAndCropped/frame-01018.png', '/media/ilisescu/Data1/PhD/data/candle1/segmentedAndCropped/frame-01019.png', '/media/ilisescu/Data1/PhD/data/candle1/segmentedAndCropped/frame-01020.png', '/media/ilisescu/Data1/PhD/data/candle1/segmentedAndCropped/frame-01021.png', '/media/ilisescu/Data1/PhD/data/candle1/segmentedAndCropped/frame-01022.png', '/media/ilisescu/Data1/PhD/data/candle1/segmentedAndCropped/frame-01023.png', '/media/ilisescu/Data1/PhD/data/candle1/segmentedAndCropped/frame-01024.png', '/media/ilisescu/Data1/PhD/data/candle1/segmentedAndCropped/frame-01025.png', '/media/ilisescu/Data1/PhD/data/candle1/segmentedAndCropped/frame-01026.png', '/media/ilisescu/Data1/PhD/data/candle1/segmentedAndCropped/frame-01027.png', '/media/ilisescu/Data1/PhD/data/candle1/segmentedAndCropped/frame-01028.png', '/media/ilisescu/Data1/PhD/data/candle1/segmentedAndCropped/frame-01029.png', '/media/ilisescu/Data1/PhD/data/candle1/segmentedAndCropped/frame-01030.png', '/media/ilisescu/Data1/PhD/data/candle1/segmentedAndCropped/frame-01031.png', '/media/ilisescu/Data1/PhD/data/candle1/segmentedAndCropped/frame-01032.png', '/media/ilisescu/Data1/PhD/data/candle1/segmentedAndCropped/frame-01033.png', '/media/ilisescu/Data1/PhD/data/candle1/segmentedAndCropped/frame-01034.png', '/media/ilisescu/Data1/PhD/data/candle1/segmentedAndCropped/frame-01035.png', '/media/ilisescu/Data1/PhD/data/candle1/segmentedAndCropped/frame-01036.png', '/media/ilisescu/Data1/PhD/data/candle1/segmentedAndCropped/frame-01037.png', '/media/ilisescu/Data1/PhD/data/candle1/segmentedAndCropped/frame-01038.png', '/media/ilisescu/Data1/PhD/data/candle1/segmentedAndCropped/frame-01039.png', '/media/ilisescu/Data1/PhD/data/candle1/segmentedAndCropped/frame-01040.png', '/media/ilisescu/Data1/PhD/data/candle1/segmentedAndCropped/frame-01041.png', '/media/ilisescu/Data1/PhD/data/candle1/segmentedAndCropped/frame-01042.png', '/media/ilisescu/Data1/PhD/data/candle1/segmentedAndCropped/frame-01043.png', '/media/ilisescu/Data1/PhD/data/candle1/segmentedAndCropped/frame-01044.png', '/media/ilisescu/Data1/PhD/data/candle1/segmentedAndCropped/frame-01045.png', '/media/ilisescu/Data1/PhD/data/candle1/segmentedAndCropped/frame-01046.png', '/media/ilisescu/Data1/PhD/data/candle1/segmentedAndCropped/frame-01047.png', '/media/ilisescu/Data1/PhD/data/candle1/segmentedAndCropped/frame-01048.png', '/media/ilisescu/Data1/PhD/data/candle1/segmentedAndCropped/frame-01049.png', '/media/ilisescu/Data1/PhD/data/candle1/segmentedAndCropped/frame-01050.png', '/media/ilisescu/Data1/PhD/data/candle1/segmentedAndCropped/frame-01051.png', '/media/ilisescu/Data1/PhD/data/candle1/segmentedAndCropped/frame-01052.png', '/media/ilisescu/Data1/PhD/data/candle1/segmentedAndCropped/frame-01053.png', '/media/ilisescu/Data1/PhD/data/candle1/segmentedAndCropped/frame-01054.png', '/media/ilisescu/Data1/PhD/data/candle1/segmentedAndCropped/frame-01055.png', '/media/ilisescu/Data1/PhD/data/candle1/segmentedAndCropped/frame-01056.png', '/media/ilisescu/Data1/PhD/data/candle1/segmentedAndCropped/frame-01057.png', '/media/ilisescu/Data1/PhD/data/candle1/segmentedAndCropped/frame-01058.png', '/media/ilisescu/Data1/PhD/data/candle1/segmentedAndCropped/frame-01059.png', '/media/ilisescu/Data1/PhD/data/candle1/segmentedAndCropped/frame-01060.png', '/media/ilisescu/Data1/PhD/data/candle1/segmentedAndCropped/frame-01061.png', '/media/ilisescu/Data1/PhD/data/candle1/segmentedAndCropped/frame-01062.png', '/media/ilisescu/Data1/PhD/data/candle1/segmentedAndCropped/frame-01063.png', '/media/ilisescu/Data1/PhD/data/candle1/segmentedAndCropped/frame-01064.png', '/media/ilisescu/Data1/PhD/data/candle1/segmentedAndCropped/frame-01065.png', '/media/ilisescu/Data1/PhD/data/candle1/segmentedAndCropped/frame-01066.png', '/media/ilisescu/Data1/PhD/data/candle1/segmentedAndCropped/frame-01067.png', '/media/ilisescu/Data1/PhD/data/candle1/segmentedAndCropped/frame-01068.png', '/media/ilisescu/Data1/PhD/data/candle1/segmentedAndCropped/frame-01069.png', '/media/ilisescu/Data1/PhD/data/candle1/segmentedAndCropped/frame-01070.png', '/media/ilisescu/Data1/PhD/data/candle1/segmentedAndCropped/frame-01071.png', '/media/ilisescu/Data1/PhD/data/candle1/segmentedAndCropped/frame-01072.png', '/media/ilisescu/Data1/PhD/data/candle1/segmentedAndCropped/frame-01073.png', '/media/ilisescu/Data1/PhD/data/candle1/segmentedAndCropped/frame-01074.png', '/media/ilisescu/Data1/PhD/data/candle1/segmentedAndCropped/frame-01075.png', '/media/ilisescu/Data1/PhD/data/candle1/segmentedAndCropped/frame-01076.png', '/media/ilisescu/Data1/PhD/data/candle1/segmentedAndCropped/frame-01077.png', '/media/ilisescu/Data1/PhD/data/candle1/segmentedAndCropped/frame-01078.png', '/media/ilisescu/Data1/PhD/data/candle1/segmentedAndCropped/frame-01079.png', '/media/ilisescu/Data1/PhD/data/candle1/segmentedAndCropped/frame-01080.png', '/media/ilisescu/Data1/PhD/data/candle1/segmentedAndCropped/frame-01081.png', '/media/ilisescu/Data1/PhD/data/candle1/segmentedAndCropped/frame-01082.png', '/media/ilisescu/Data1/PhD/data/candle1/segmentedAndCropped/frame-01083.png', '/media/ilisescu/Data1/PhD/data/candle1/segmentedAndCropped/frame-01084.png', '/media/ilisescu/Data1/PhD/data/candle1/segmentedAndCropped/frame-01085.png', '/media/ilisescu/Data1/PhD/data/candle1/segmentedAndCropped/frame-01086.png', '/media/ilisescu/Data1/PhD/data/candle1/segmentedAndCropped/frame-01087.png', '/media/ilisescu/Data1/PhD/data/candle1/segmentedAndCropped/frame-01088.png', '/media/ilisescu/Data1/PhD/data/candle1/segmentedAndCropped/frame-01089.png', '/media/ilisescu/Data1/PhD/data/candle1/segmentedAndCropped/frame-01090.png', '/media/ilisescu/Data1/PhD/data/candle1/segmentedAndCropped/frame-01091.png', '/media/ilisescu/Data1/PhD/data/candle1/segmentedAndCropped/frame-01092.png', '/media/ilisescu/Data1/PhD/data/candle1/segmentedAndCropped/frame-01093.png', '/media/ilisescu/Data1/PhD/data/candle1/segmentedAndCropped/frame-01094.png', '/media/ilisescu/Data1/PhD/data/candle1/segmentedAndCropped/frame-01095.png', '/media/ilisescu/Data1/PhD/data/candle1/segmentedAndCropped/frame-01096.png', '/media/ilisescu/Data1/PhD/data/candle1/segmentedAndCropped/frame-01097.png', '/media/ilisescu/Data1/PhD/data/candle1/segmentedAndCropped/frame-01098.png', '/media/ilisescu/Data1/PhD/data/candle1/segmentedAndCropped/frame-01099.png', '/media/ilisescu/Data1/PhD/data/candle1/segmentedAndCropped/frame-01100.png', '/media/ilisescu/Data1/PhD/data/candle1/segmentedAndCropped/frame-01101.png', '/media/ilisescu/Data1/PhD/data/candle1/segmentedAndCropped/frame-01102.png', '/media/ilisescu/Data1/PhD/data/candle1/segmentedAndCropped/frame-01103.png', '/media/ilisescu/Data1/PhD/data/candle1/segmentedAndCropped/frame-01104.png', '/media/ilisescu/Data1/PhD/data/candle1/segmentedAndCropped/frame-01105.png', '/media/ilisescu/Data1/PhD/data/candle1/segmentedAndCropped/frame-01106.png', '/media/ilisescu/Data1/PhD/data/candle1/segmentedAndCropped/frame-01107.png', '/media/ilisescu/Data1/PhD/data/candle1/segmentedAndCropped/frame-01108.png', '/media/ilisescu/Data1/PhD/data/candle1/segmentedAndCropped/frame-01109.png', '/media/ilisescu/Data1/PhD/data/candle1/segmentedAndCropped/frame-01110.png', '/media/ilisescu/Data1/PhD/data/candle1/segmentedAndCropped/frame-01111.png', '/media/ilisescu/Data1/PhD/data/candle1/segmentedAndCropped/frame-01112.png', '/media/ilisescu/Data1/PhD/data/candle1/segmentedAndCropped/frame-01113.png', '/media/ilisescu/Data1/PhD/data/candle1/segmentedAndCropped/frame-01114.png', '/media/ilisescu/Data1/PhD/data/candle1/segmentedAndCropped/frame-01115.png', '/media/ilisescu/Data1/PhD/data/candle1/segmentedAndCropped/frame-01116.png', '/media/ilisescu/Data1/PhD/data/candle1/segmentedAndCropped/frame-01117.png', '/media/ilisescu/Data1/PhD/data/candle1/segmentedAndCropped/frame-01118.png', '/media/ilisescu/Data1/PhD/data/candle1/segmentedAndCropped/frame-01119.png', '/media/ilisescu/Data1/PhD/data/candle1/segmentedAndCropped/frame-01120.png', '/media/ilisescu/Data1/PhD/data/candle1/segmentedAndCropped/frame-01121.png', '/media/ilisescu/Data1/PhD/data/candle1/segmentedAndCropped/frame-01122.png', '/media/ilisescu/Data1/PhD/data/candle1/segmentedAndCropped/frame-01123.png', '/media/ilisescu/Data1/PhD/data/candle1/segmentedAndCropped/frame-00550.png', '/media/ilisescu/Data1/PhD/data/candle1/segmentedAndCropped/frame-00551.png', '/media/ilisescu/Data1/PhD/data/candle1/segmentedAndCropped/frame-00552.png', '/media/ilisescu/Data1/PhD/data/candle1/segmentedAndCropped/frame-00553.png', '/media/ilisescu/Data1/PhD/data/candle1/segmentedAndCropped/frame-00554.png', '/media/ilisescu/Data1/PhD/data/candle1/segmentedAndCropped/frame-00555.png', '/media/ilisescu/Data1/PhD/data/candle1/segmentedAndCropped/frame-00556.png', '/media/ilisescu/Data1/PhD/data/candle1/segmentedAndCropped/frame-00557.png', '/media/ilisescu/Data1/PhD/data/candle1/segmentedAndCropped/frame-00558.png', '/media/ilisescu/Data1/PhD/data/candle1/segmentedAndCropped/frame-00559.png', '/media/ilisescu/Data1/PhD/data/candle1/segmentedAndCropped/frame-00560.png', '/media/ilisescu/Data1/PhD/data/candle1/segmentedAndCropped/frame-00561.png', '/media/ilisescu/Data1/PhD/data/candle1/segmentedAndCropped/frame-00562.png', '/media/ilisescu/Data1/PhD/data/candle1/segmentedAndCropped/frame-00563.png', '/media/ilisescu/Data1/PhD/data/candle1/segmentedAndCropped/frame-00564.png', '/media/ilisescu/Data1/PhD/data/candle1/segmentedAndCropped/frame-00565.png', '/media/ilisescu/Data1/PhD/data/candle1/segmentedAndCropped/frame-00566.png', '/media/ilisescu/Data1/PhD/data/candle1/segmentedAndCropped/frame-00567.png', '/media/ilisescu/Data1/PhD/data/candle1/segmentedAndCropped/frame-00568.png', '/media/ilisescu/Data1/PhD/data/candle1/segmentedAndCropped/frame-00569.png', '/media/ilisescu/Data1/PhD/data/candle1/segmentedAndCropped/frame-00570.png', '/media/ilisescu/Data1/PhD/data/candle1/segmentedAndCropped/frame-00571.png', '/media/ilisescu/Data1/PhD/data/candle1/segmentedAndCropped/frame-00572.png', '/media/ilisescu/Data1/PhD/data/candle1/segmentedAndCropped/frame-00573.png', '/media/ilisescu/Data1/PhD/data/candle1/segmentedAndCropped/frame-00574.png', '/media/ilisescu/Data1/PhD/data/candle1/segmentedAndCropped/frame-00575.png', '/media/ilisescu/Data1/PhD/data/candle1/segmentedAndCropped/frame-00576.png', '/media/ilisescu/Data1/PhD/data/candle1/segmentedAndCropped/frame-00577.png', '/media/ilisescu/Data1/PhD/data/candle1/segmentedAndCropped/frame-00578.png', '/media/ilisescu/Data1/PhD/data/candle1/segmentedAndCropped/frame-00579.png', '/media/ilisescu/Data1/PhD/data/candle1/segmentedAndCropped/frame-00580.png', '/media/ilisescu/Data1/PhD/data/candle1/segmentedAndCropped/frame-00581.png', '/media/ilisescu/Data1/PhD/data/candle1/segmentedAndCropped/frame-00582.png', '/media/ilisescu/Data1/PhD/data/candle1/segmentedAndCropped/frame-00583.png', '/media/ilisescu/Data1/PhD/data/candle1/segmentedAndCropped/frame-00584.png', '/media/ilisescu/Data1/PhD/data/candle1/segmentedAndCropped/frame-00585.png', '/media/ilisescu/Data1/PhD/data/candle1/segmentedAndCropped/frame-00586.png', '/media/ilisescu/Data1/PhD/data/candle1/segmentedAndCropped/frame-00587.png', '/media/ilisescu/Data1/PhD/data/candle1/segmentedAndCropped/frame-00588.png', '/media/ilisescu/Data1/PhD/data/candle1/segmentedAndCropped/frame-00589.png', '/media/ilisescu/Data1/PhD/data/candle1/segmentedAndCropped/frame-00590.png', '/media/ilisescu/Data1/PhD/data/candle1/segmentedAndCropped/frame-00591.png', '/media/ilisescu/Data1/PhD/data/candle1/segmentedAndCropped/frame-00592.png', '/media/ilisescu/Data1/PhD/data/candle1/segmentedAndCropped/frame-00593.png', '/media/ilisescu/Data1/PhD/data/candle1/segmentedAndCropped/frame-00594.png', '/media/ilisescu/Data1/PhD/data/candle1/segmentedAndCropped/frame-00595.png', '/media/ilisescu/Data1/PhD/data/candle1/segmentedAndCropped/frame-00596.png', '/media/ilisescu/Data1/PhD/data/candle1/segmentedAndCropped/frame-00597.png', '/media/ilisescu/Data1/PhD/data/candle1/segmentedAndCropped/frame-00598.png', '/media/ilisescu/Data1/PhD/data/candle1/segmentedAndCropped/frame-00599.png', '/media/ilisescu/Data1/PhD/data/candle1/segmentedAndCropped/frame-00600.png', '/media/ilisescu/Data1/PhD/data/candle1/segmentedAndCropped/frame-00601.png', '/media/ilisescu/Data1/PhD/data/candle1/segmentedAndCropped/frame-00602.png', '/media/ilisescu/Data1/PhD/data/candle1/segmentedAndCropped/frame-00603.png', '/media/ilisescu/Data1/PhD/data/candle1/segmentedAndCropped/frame-00604.png', '/media/ilisescu/Data1/PhD/data/candle1/segmentedAndCropped/frame-00605.png', '/media/ilisescu/Data1/PhD/data/candle1/segmentedAndCropped/frame-00606.png', '/media/ilisescu/Data1/PhD/data/candle1/segmentedAndCropped/frame-00607.png', '/media/ilisescu/Data1/PhD/data/candle1/segmentedAndCropped/frame-00608.png', '/media/ilisescu/Data1/PhD/data/candle1/segmentedAndCropped/frame-00609.png', '/media/ilisescu/Data1/PhD/data/candle1/segmentedAndCropped/frame-00610.png', '/media/ilisescu/Data1/PhD/data/candle1/segmentedAndCropped/frame-00611.png', '/media/ilisescu/Data1/PhD/data/candle1/segmentedAndCropped/frame-00612.png', '/media/ilisescu/Data1/PhD/data/candle1/segmentedAndCropped/frame-00613.png', '/media/ilisescu/Data1/PhD/data/candle1/segmentedAndCropped/frame-00614.png', '/media/ilisescu/Data1/PhD/data/candle1/segmentedAndCropped/frame-00615.png', '/media/ilisescu/Data1/PhD/data/candle1/segmentedAndCropped/frame-00616.png', '/media/ilisescu/Data1/PhD/data/candle1/segmentedAndCropped/frame-00617.png', '/media/ilisescu/Data1/PhD/data/candle1/segmentedAndCropped/frame-00618.png', '/media/ilisescu/Data1/PhD/data/candle1/segmentedAndCropped/frame-00619.png', '/media/ilisescu/Data1/PhD/data/candle1/segmentedAndCropped/frame-00620.png', '/media/ilisescu/Data1/PhD/data/candle1/segmentedAndCropped/frame-00621.png', '/media/ilisescu/Data1/PhD/data/candle1/segmentedAndCropped/frame-00622.png', '/media/ilisescu/Data1/PhD/data/candle1/segmentedAndCropped/frame-00623.png', '/media/ilisescu/Data1/PhD/data/candle1/segmentedAndCropped/frame-00624.png', '/media/ilisescu/Data1/PhD/data/candle1/segmentedAndCropped/frame-00625.png', '/media/ilisescu/Data1/PhD/data/candle1/segmentedAndCropped/frame-00626.png', '/media/ilisescu/Data1/PhD/data/candle1/segmentedAndCropped/frame-00627.png', '/media/ilisescu/Data1/PhD/data/candle1/segmentedAndCropped/frame-00628.png', '/media/ilisescu/Data1/PhD/data/candle1/segmentedAndCropped/frame-00629.png', '/media/ilisescu/Data1/PhD/data/candle1/segmentedAndCropped/frame-00630.png', '/media/ilisescu/Data1/PhD/data/candle1/segmentedAndCropped/frame-00631.png', '/media/ilisescu/Data1/PhD/data/candle1/segmentedAndCropped/frame-00632.png', '/media/ilisescu/Data1/PhD/data/candle1/segmentedAndCropped/frame-00633.png', '/media/ilisescu/Data1/PhD/data/candle1/segmentedAndCropped/frame-00634.png', '/media/ilisescu/Data1/PhD/data/candle1/segmentedAndCropped/frame-00635.png', '/media/ilisescu/Data1/PhD/data/candle1/segmentedAndCropped/frame-00636.png', '/media/ilisescu/Data1/PhD/data/candle1/segmentedAndCropped/frame-00637.png', '/media/ilisescu/Data1/PhD/data/candle1/segmentedAndCropped/frame-00638.png', '/media/ilisescu/Data1/PhD/data/candle1/segmentedAndCropped/frame-00639.png', '/media/ilisescu/Data1/PhD/data/candle1/segmentedAndCropped/frame-00640.png', '/media/ilisescu/Data1/PhD/data/candle1/segmentedAndCropped/frame-00641.png', '/media/ilisescu/Data1/PhD/data/candle1/segmentedAndCropped/frame-00642.png', '/media/ilisescu/Data1/PhD/data/candle1/segmentedAndCropped/frame-00643.png', '/media/ilisescu/Data1/PhD/data/candle1/segmentedAndCropped/frame-00644.png', '/media/ilisescu/Data1/PhD/data/candle1/segmentedAndCropped/frame-00645.png', '/media/ilisescu/Data1/PhD/data/candle1/segmentedAndCropped/frame-00646.png', '/media/ilisescu/Data1/PhD/data/candle1/segmentedAndCropped/frame-00647.png', '/media/ilisescu/Data1/PhD/data/candle1/segmentedAndCropped/frame-00648.png', '/media/ilisescu/Data1/PhD/data/candle1/segmentedAndCropped/frame-00649.png', '/media/ilisescu/Data1/PhD/data/candle1/segmentedAndCropped/frame-00650.png', '/media/ilisescu/Data1/PhD/data/candle1/segmentedAndCropped/frame-00651.png', '/media/ilisescu/Data1/PhD/data/candle1/segmentedAndCropped/frame-00652.png', '/media/ilisescu/Data1/PhD/data/candle1/segmentedAndCropped/frame-00653.png', '/media/ilisescu/Data1/PhD/data/candle1/segmentedAndCropped/frame-00654.png', '/media/ilisescu/Data1/PhD/data/candle1/segmentedAndCropped/frame-00655.png', '/media/ilisescu/Data1/PhD/data/candle3/stabilized/segmentedAndCropped/frame-00513.png', '/media/ilisescu/Data1/PhD/data/candle3/stabilized/segmentedAndCropped/frame-00514.png', '/media/ilisescu/Data1/PhD/data/candle3/stabilized/segmentedAndCropped/frame-00515.png', '/media/ilisescu/Data1/PhD/data/candle3/stabilized/segmentedAndCropped/frame-00516.png', '/media/ilisescu/Data1/PhD/data/candle3/stabilized/segmentedAndCropped/frame-00517.png', '/media/ilisescu/Data1/PhD/data/candle3/stabilized/segmentedAndCropped/frame-00518.png', '/media/ilisescu/Data1/PhD/data/candle3/stabilized/segmentedAndCropped/frame-00519.png', '/media/ilisescu/Data1/PhD/data/candle3/stabilized/segmentedAndCropped/frame-00520.png', '/media/ilisescu/Data1/PhD/data/candle3/stabilized/segmentedAndCropped/frame-00521.png', '/media/ilisescu/Data1/PhD/data/candle3/stabilized/segmentedAndCropped/frame-00522.png', '/media/ilisescu/Data1/PhD/data/candle3/stabilized/segmentedAndCropped/frame-00523.png', '/media/ilisescu/Data1/PhD/data/candle3/stabilized/segmentedAndCropped/frame-00524.png', '/media/ilisescu/Data1/PhD/data/candle3/stabilized/segmentedAndCropped/frame-00525.png', '/media/ilisescu/Data1/PhD/data/candle3/stabilized/segmentedAndCropped/frame-00526.png', '/media/ilisescu/Data1/PhD/data/candle3/stabilized/segmentedAndCropped/frame-00527.png', '/media/ilisescu/Data1/PhD/data/candle3/stabilized/segmentedAndCropped/frame-00528.png', '/media/ilisescu/Data1/PhD/data/candle3/stabilized/segmentedAndCropped/frame-00529.png', '/media/ilisescu/Data1/PhD/data/candle3/stabilized/segmentedAndCropped/frame-00530.png', '/media/ilisescu/Data1/PhD/data/candle3/stabilized/segmentedAndCropped/frame-00531.png', '/media/ilisescu/Data1/PhD/data/candle3/stabilized/segmentedAndCropped/frame-00532.png', '/media/ilisescu/Data1/PhD/data/candle3/stabilized/segmentedAndCropped/frame-00533.png', '/media/ilisescu/Data1/PhD/data/candle3/stabilized/segmentedAndCropped/frame-00534.png', '/media/ilisescu/Data1/PhD/data/candle3/stabilized/segmentedAndCropped/frame-00535.png', '/media/ilisescu/Data1/PhD/data/candle3/stabilized/segmentedAndCropped/frame-00536.png', '/media/ilisescu/Data1/PhD/data/candle3/stabilized/segmentedAndCropped/frame-00537.png', '/media/ilisescu/Data1/PhD/data/candle3/stabilized/segmentedAndCropped/frame-00538.png', '/media/ilisescu/Data1/PhD/data/candle3/stabilized/segmentedAndCropped/frame-00539.png', '/media/ilisescu/Data1/PhD/data/candle3/stabilized/segmentedAndCropped/frame-00540.png', '/media/ilisescu/Data1/PhD/data/candle3/stabilized/segmentedAndCropped/frame-00541.png', '/media/ilisescu/Data1/PhD/data/candle3/stabilized/segmentedAndCropped/frame-00542.png', '/media/ilisescu/Data1/PhD/data/candle3/stabilized/segmentedAndCropped/frame-00543.png', '/media/ilisescu/Data1/PhD/data/candle3/stabilized/segmentedAndCropped/frame-00544.png', '/media/ilisescu/Data1/PhD/data/candle3/stabilized/segmentedAndCropped/frame-00545.png', '/media/ilisescu/Data1/PhD/data/candle3/stabilized/segmentedAndCropped/frame-00546.png', '/media/ilisescu/Data1/PhD/data/candle3/stabilized/segmentedAndCropped/frame-00547.png', '/media/ilisescu/Data1/PhD/data/candle3/stabilized/segmentedAndCropped/frame-00548.png', '/media/ilisescu/Data1/PhD/data/candle3/stabilized/segmentedAndCropped/frame-00549.png', '/media/ilisescu/Data1/PhD/data/candle3/stabilized/segmentedAndCropped/frame-00550.png', '/media/ilisescu/Data1/PhD/data/candle3/stabilized/segmentedAndCropped/frame-00551.png', '/media/ilisescu/Data1/PhD/data/candle3/stabilized/segmentedAndCropped/frame-00552.png', '/media/ilisescu/Data1/PhD/data/candle3/stabilized/segmentedAndCropped/frame-00553.png', '/media/ilisescu/Data1/PhD/data/candle3/stabilized/segmentedAndCropped/frame-00554.png', '/media/ilisescu/Data1/PhD/data/candle3/stabilized/segmentedAndCropped/frame-00555.png', '/media/ilisescu/Data1/PhD/data/candle3/stabilized/segmentedAndCropped/frame-00556.png', '/media/ilisescu/Data1/PhD/data/candle3/stabilized/segmentedAndCropped/frame-00557.png', '/media/ilisescu/Data1/PhD/data/candle3/stabilized/segmentedAndCropped/frame-00558.png', '/media/ilisescu/Data1/PhD/data/candle3/stabilized/segmentedAndCropped/frame-00559.png', '/media/ilisescu/Data1/PhD/data/candle3/stabilized/segmentedAndCropped/frame-00560.png', '/media/ilisescu/Data1/PhD/data/candle3/stabilized/segmentedAndCropped/frame-00561.png', '/media/ilisescu/Data1/PhD/data/candle3/stabilized/segmentedAndCropped/frame-00562.png', '/media/ilisescu/Data1/PhD/data/candle3/stabilized/segmentedAndCropped/frame-00563.png', '/media/ilisescu/Data1/PhD/data/candle3/stabilized/segmentedAndCropped/frame-00564.png', '/media/ilisescu/Data1/PhD/data/candle3/stabilized/segmentedAndCropped/frame-00565.png', '/media/ilisescu/Data1/PhD/data/candle3/stabilized/segmentedAndCropped/frame-00566.png', '/media/ilisescu/Data1/PhD/data/candle3/stabilized/segmentedAndCropped/frame-00567.png', '/media/ilisescu/Data1/PhD/data/candle3/stabilized/segmentedAndCropped/frame-00568.png', '/media/ilisescu/Data1/PhD/data/candle3/stabilized/segmentedAndCropped/frame-00569.png', '/media/ilisescu/Data1/PhD/data/candle3/stabilized/segmentedAndCropped/frame-00570.png', '/media/ilisescu/Data1/PhD/data/candle3/stabilized/segmentedAndCropped/frame-00571.png', '/media/ilisescu/Data1/PhD/data/candle3/stabilized/segmentedAndCropped/frame-00572.png', '/media/ilisescu/Data1/PhD/data/candle3/stabilized/segmentedAndCropped/frame-00573.png', '/media/ilisescu/Data1/PhD/data/candle3/stabilized/segmentedAndCropped/frame-00574.png', '/media/ilisescu/Data1/PhD/data/candle3/stabilized/segmentedAndCropped/frame-00575.png', '/media/ilisescu/Data1/PhD/data/candle3/stabilized/segmentedAndCropped/frame-00576.png', '/media/ilisescu/Data1/PhD/data/candle3/stabilized/segmentedAndCropped/frame-00577.png', '/media/ilisescu/Data1/PhD/data/candle3/stabilized/segmentedAndCropped/frame-00578.png', '/media/ilisescu/Data1/PhD/data/candle3/stabilized/segmentedAndCropped/frame-00579.png', '/media/ilisescu/Data1/PhD/data/candle3/stabilized/segmentedAndCropped/frame-00580.png', '/media/ilisescu/Data1/PhD/data/candle3/stabilized/segmentedAndCropped/frame-00581.png', '/media/ilisescu/Data1/PhD/data/candle3/stabilized/segmentedAndCropped/frame-00582.png', '/media/ilisescu/Data1/PhD/data/candle3/stabilized/segmentedAndCropped/frame-00583.png', '/media/ilisescu/Data1/PhD/data/candle3/stabilized/segmentedAndCropped/frame-00584.png', '/media/ilisescu/Data1/PhD/data/candle3/stabilized/segmentedAndCropped/frame-00585.png', '/media/ilisescu/Data1/PhD/data/candle3/stabilized/segmentedAndCropped/frame-00586.png', '/media/ilisescu/Data1/PhD/data/candle3/stabilized/segmentedAndCropped/frame-00587.png', '/media/ilisescu/Data1/PhD/data/candle3/stabilized/segmentedAndCropped/frame-00588.png', '/media/ilisescu/Data1/PhD/data/candle3/stabilized/segmentedAndCropped/frame-00589.png', '/media/ilisescu/Data1/PhD/data/candle3/stabilized/segmentedAndCropped/frame-00590.png', '/media/ilisescu/Data1/PhD/data/candle3/stabilized/segmentedAndCropped/frame-00591.png', '/media/ilisescu/Data1/PhD/data/candle3/stabilized/segmentedAndCropped/frame-00592.png', '/media/ilisescu/Data1/PhD/data/candle3/stabilized/segmentedAndCropped/frame-00593.png', '/media/ilisescu/Data1/PhD/data/candle3/stabilized/segmentedAndCropped/frame-00594.png', '/media/ilisescu/Data1/PhD/data/candle3/stabilized/segmentedAndCropped/frame-00595.png', '/media/ilisescu/Data1/PhD/data/candle3/stabilized/segmentedAndCropped/frame-00596.png', '/media/ilisescu/Data1/PhD/data/candle3/stabilized/segmentedAndCropped/frame-00597.png', '/media/ilisescu/Data1/PhD/data/candle3/stabilized/segmentedAndCropped/frame-00598.png', '/media/ilisescu/Data1/PhD/data/candle3/stabilized/segmentedAndCropped/frame-00599.png', '/media/ilisescu/Data1/PhD/data/candle3/stabilized/segmentedAndCropped/frame-00600.png', '/media/ilisescu/Data1/PhD/data/candle3/stabilized/segmentedAndCropped/frame-00601.png', '/media/ilisescu/Data1/PhD/data/candle3/stabilized/segmentedAndCropped/frame-00602.png', '/media/ilisescu/Data1/PhD/data/candle3/stabilized/segmentedAndCropped/frame-00603.png', '/media/ilisescu/Data1/PhD/data/candle3/stabilized/segmentedAndCropped/frame-00604.png', '/media/ilisescu/Data1/PhD/data/candle3/stabilized/segmentedAndCropped/frame-00605.png', '/media/ilisescu/Data1/PhD/data/candle3/stabilized/segmentedAndCropped/frame-00606.png', '/media/ilisescu/Data1/PhD/data/candle3/stabilized/segmentedAndCropped/frame-00607.png', '/media/ilisescu/Data1/PhD/data/candle3/stabilized/segmentedAndCropped/frame-00608.png', '/media/ilisescu/Data1/PhD/data/candle3/stabilized/segmentedAndCropped/frame-00609.png', '/media/ilisescu/Data1/PhD/data/candle3/stabilized/segmentedAndCropped/frame-00610.png', '/media/ilisescu/Data1/PhD/data/candle3/stabilized/segmentedAndCropped/frame-00611.png', '/media/ilisescu/Data1/PhD/data/candle3/stabilized/segmentedAndCropped/frame-00612.png', '/media/ilisescu/Data1/PhD/data/candle3/stabilized/segmentedAndCropped/frame-00613.png', '/media/ilisescu/Data1/PhD/data/candle3/stabilized/segmentedAndCropped/frame-00614.png', '/media/ilisescu/Data1/PhD/data/candle3/stabilized/segmentedAndCropped/frame-00615.png', '/media/ilisescu/Data1/PhD/data/candle3/stabilized/segmentedAndCropped/frame-00616.png', '/media/ilisescu/Data1/PhD/data/candle3/stabilized/segmentedAndCropped/frame-00617.png', '/media/ilisescu/Data1/PhD/data/candle3/stabilized/segmentedAndCropped/frame-00618.png', '/media/ilisescu/Data1/PhD/data/candle3/stabilized/segmentedAndCropped/frame-00619.png', '/media/ilisescu/Data1/PhD/data/candle3/stabilized/segmentedAndCropped/frame-00620.png', '/media/ilisescu/Data1/PhD/data/candle3/stabilized/segmentedAndCropped/frame-00621.png', '/media/ilisescu/Data1/PhD/data/candle3/stabilized/segmentedAndCropped/frame-00622.png', '/media/ilisescu/Data1/PhD/data/candle3/stabilized/segmentedAndCropped/frame-00623.png', '/media/ilisescu/Data1/PhD/data/candle3/stabilized/segmentedAndCropped/frame-00624.png', '/media/ilisescu/Data1/PhD/data/candle3/stabilized/segmentedAndCropped/frame-00625.png', '/media/ilisescu/Data1/PhD/data/candle3/stabilized/segmentedAndCropped/frame-00626.png', '/media/ilisescu/Data1/PhD/data/candle3/stabilized/segmentedAndCropped/frame-00627.png', '/media/ilisescu/Data1/PhD/data/candle3/stabilized/segmentedAndCropped/frame-00628.png', '/media/ilisescu/Data1/PhD/data/candle3/stabilized/segmentedAndCropped/frame-00629.png', '/media/ilisescu/Data1/PhD/data/candle3/stabilized/segmentedAndCropped/frame-00630.png', '/media/ilisescu/Data1/PhD/data/candle3/stabilized/segmentedAndCropped/frame-00631.png', '/media/ilisescu/Data1/PhD/data/candle3/stabilized/segmentedAndCropped/frame-00632.png', '/media/ilisescu/Data1/PhD/data/candle3/stabilized/segmentedAndCropped/frame-00633.png', '/media/ilisescu/Data1/PhD/data/candle3/stabilized/segmentedAndCropped/frame-00634.png', '/media/ilisescu/Data1/PhD/data/candle3/stabilized/segmentedAndCropped/frame-00635.png', '/media/ilisescu/Data1/PhD/data/candle3/stabilized/segmentedAndCropped/frame-00636.png', '/media/ilisescu/Data1/PhD/data/candle3/stabilized/segmentedAndCropped/frame-00637.png', '/media/ilisescu/Data1/PhD/data/candle3/stabilized/segmentedAndCropped/frame-00638.png', '/media/ilisescu/Data1/PhD/data/candle3/stabilized/segmentedAndCropped/frame-00639.png', '/media/ilisescu/Data1/PhD/data/candle3/stabilized/segmentedAndCropped/frame-00640.png', '/media/ilisescu/Data1/PhD/data/candle3/stabilized/segmentedAndCropped/frame-00641.png', '/media/ilisescu/Data1/PhD/data/candle3/stabilized/segmentedAndCropped/frame-00642.png', '/media/ilisescu/Data1/PhD/data/candle3/stabilized/segmentedAndCropped/frame-00643.png', '/media/ilisescu/Data1/PhD/data/candle3/stabilized/segmentedAndCropped/frame-00644.png', '/media/ilisescu/Data1/PhD/data/candle3/stabilized/segmentedAndCropped/frame-00645.png', '/media/ilisescu/Data1/PhD/data/candle3/stabilized/segmentedAndCropped/frame-00646.png', '/media/ilisescu/Data1/PhD/data/candle3/stabilized/segmentedAndCropped/frame-00647.png', '/media/ilisescu/Data1/PhD/data/candle3/stabilized/segmentedAndCropped/frame-00648.png', '/media/ilisescu/Data1/PhD/data/candle3/stabilized/segmentedAndCropped/frame-00649.png', '/media/ilisescu/Data1/PhD/data/candle3/stabilized/segmentedAndCropped/frame-00650.png', '/media/ilisescu/Data1/PhD/data/candle3/stabilized/segmentedAndCropped/frame-00651.png', '/media/ilisescu/Data1/PhD/data/candle3/stabilized/segmentedAndCropped/frame-00652.png', '/media/ilisescu/Data1/PhD/data/candle3/stabilized/segmentedAndCropped/frame-00653.png', '/media/ilisescu/Data1/PhD/data/candle3/stabilized/segmentedAndCropped/frame-00654.png', '/media/ilisescu/Data1/PhD/data/candle3/stabilized/segmentedAndCropped/frame-00655.png', '/media/ilisescu/Data1/PhD/data/candle3/stabilized/segmentedAndCropped/frame-00656.png', '/media/ilisescu/Data1/PhD/data/candle3/stabilized/segmentedAndCropped/frame-00657.png', '/media/ilisescu/Data1/PhD/data/candle3/stabilized/segmentedAndCropped/frame-00658.png', '/media/ilisescu/Data1/PhD/data/candle3/stabilized/segmentedAndCropped/frame-00659.png', '/media/ilisescu/Data1/PhD/data/candle3/stabilized/segmentedAndCropped/frame-00660.png', '/media/ilisescu/Data1/PhD/data/candle3/stabilized/segmentedAndCropped/frame-00661.png', '/media/ilisescu/Data1/PhD/data/candle3/stabilized/segmentedAndCropped/frame-00662.png', '/media/ilisescu/Data1/PhD/data/candle3/stabilized/segmentedAndCropped/frame-00663.png', '/media/ilisescu/Data1/PhD/data/candle3/stabilized/segmentedAndCropped/frame-00664.png', '/media/ilisescu/Data1/PhD/data/candle3/stabilized/segmentedAndCropped/frame-00665.png', '/media/ilisescu/Data1/PhD/data/candle3/stabilized/segmentedAndCropped/frame-00666.png', '/media/ilisescu/Data1/PhD/data/candle3/stabilized/segmentedAndCropped/frame-00667.png', '/media/ilisescu/Data1/PhD/data/candle3/stabilized/segmentedAndCropped/frame-00668.png', '/media/ilisescu/Data1/PhD/data/candle3/stabilized/segmentedAndCropped/frame-00669.png', '/media/ilisescu/Data1/PhD/data/candle3/stabilized/segmentedAndCropped/frame-00670.png', '/media/ilisescu/Data1/PhD/data/candle3/stabilized/segmentedAndCropped/frame-00671.png', '/media/ilisescu/Data1/PhD/data/candle3/stabilized/segmentedAndCropped/frame-00672.png', '/media/ilisescu/Data1/PhD/data/candle3/stabilized/segmentedAndCropped/frame-00673.png', '/media/ilisescu/Data1/PhD/data/candle3/stabilized/segmentedAndCropped/frame-00674.png', '/media/ilisescu/Data1/PhD/data/candle3/stabilized/segmentedAndCropped/frame-00675.png', '/media/ilisescu/Data1/PhD/data/candle3/stabilized/segmentedAndCropped/frame-00676.png', '/media/ilisescu/Data1/PhD/data/candle3/stabilized/segmentedAndCropped/frame-00677.png', '/media/ilisescu/Data1/PhD/data/candle3/stabilized/segmentedAndCropped/frame-00678.png', '/media/ilisescu/Data1/PhD/data/candle3/stabilized/segmentedAndCropped/frame-00679.png', '/media/ilisescu/Data1/PhD/data/candle3/stabilized/segmentedAndCropped/frame-00680.png', '/media/ilisescu/Data1/PhD/data/candle3/stabilized/segmentedAndCropped/frame-00681.png', '/media/ilisescu/Data1/PhD/data/candle3/stabilized/segmentedAndCropped/frame-00682.png', '/media/ilisescu/Data1/PhD/data/candle3/stabilized/segmentedAndCropped/frame-00683.png', '/media/ilisescu/Data1/PhD/data/candle3/stabilized/segmentedAndCropped/frame-00684.png', '/media/ilisescu/Data1/PhD/data/candle3/stabilized/segmentedAndCropped/frame-00685.png', '/media/ilisescu/Data1/PhD/data/candle3/stabilized/segmentedAndCropped/frame-00686.png', '/media/ilisescu/Data1/PhD/data/candle3/stabilized/segmentedAndCropped/frame-00687.png', '/media/ilisescu/Data1/PhD/data/candle3/stabilized/segmentedAndCropped/frame-00688.png', '/media/ilisescu/Data1/PhD/data/candle3/stabilized/segmentedAndCropped/frame-00689.png', '/media/ilisescu/Data1/PhD/data/candle3/stabilized/segmentedAndCropped/frame-00690.png', '/media/ilisescu/Data1/PhD/data/candle3/stabilized/segmentedAndCropped/frame-00691.png', '/media/ilisescu/Data1/PhD/data/candle3/stabilized/segmentedAndCropped/frame-00692.png', '/media/ilisescu/Data1/PhD/data/candle3/stabilized/segmentedAndCropped/frame-00693.png', '/media/ilisescu/Data1/PhD/data/candle3/stabilized/segmentedAndCropped/frame-00694.png', '/media/ilisescu/Data1/PhD/data/candle3/stabilized/segmentedAndCropped/frame-00695.png', '/media/ilisescu/Data1/PhD/data/candle3/stabilized/segmentedAndCropped/frame-00696.png', '/media/ilisescu/Data1/PhD/data/candle3/stabilized/segmentedAndCropped/frame-00697.png', '/media/ilisescu/Data1/PhD/data/candle3/stabilized/segmentedAndCropped/frame-00698.png', '/media/ilisescu/Data1/PhD/data/candle3/stabilized/segmentedAndCropped/frame-00699.png', '/media/ilisescu/Data1/PhD/data/candle3/stabilized/segmentedAndCropped/frame-00700.png', '/media/ilisescu/Data1/PhD/data/candle3/stabilized/segmentedAndCropped/frame-00701.png', '/media/ilisescu/Data1/PhD/data/candle3/stabilized/segmentedAndCropped/frame-00702.png', '/media/ilisescu/Data1/PhD/data/candle3/stabilized/segmentedAndCropped/frame-00703.png', '/media/ilisescu/Data1/PhD/data/candle3/stabilized/segmentedAndCropped/frame-00704.png', '/media/ilisescu/Data1/PhD/data/candle3/stabilized/segmentedAndCropped/frame-00705.png', '/media/ilisescu/Data1/PhD/data/candle3/stabilized/segmentedAndCropped/frame-00706.png', '/media/ilisescu/Data1/PhD/data/candle3/stabilized/segmentedAndCropped/frame-00707.png', '/media/ilisescu/Data1/PhD/data/candle3/stabilized/segmentedAndCropped/frame-00708.png', '/media/ilisescu/Data1/PhD/data/candle3/stabilized/segmentedAndCropped/frame-00709.png', '/media/ilisescu/Data1/PhD/data/candle3/stabilized/segmentedAndCropped/frame-00710.png', '/media/ilisescu/Data1/PhD/data/candle3/stabilized/segmentedAndCropped/frame-00711.png', '/media/ilisescu/Data1/PhD/data/candle3/stabilized/segmentedAndCropped/frame-00712.png', '/media/ilisescu/Data1/PhD/data/candle3/stabilized/segmentedAndCropped/frame-00713.png', '/media/ilisescu/Data1/PhD/data/candle3/stabilized/segmentedAndCropped/frame-00714.png', '/media/ilisescu/Data1/PhD/data/candle3/stabilized/segmentedAndCropped/frame-00715.png', '/media/ilisescu/Data1/PhD/data/candle3/stabilized/segmentedAndCropped/frame-00716.png', '/media/ilisescu/Data1/PhD/data/candle3/stabilized/segmentedAndCropped/frame-00717.png', '/media/ilisescu/Data1/PhD/data/candle3/stabilized/segmentedAndCropped/frame-00718.png', '/media/ilisescu/Data1/PhD/data/candle3/stabilized/segmentedAndCropped/frame-00719.png', '/media/ilisescu/Data1/PhD/data/candle3/stabilized/segmentedAndCropped/frame-00720.png', '/media/ilisescu/Data1/PhD/data/candle3/stabilized/segmentedAndCropped/frame-00721.png', '/media/ilisescu/Data1/PhD/data/candle3/stabilized/segmentedAndCropped/frame-00722.png', '/media/ilisescu/Data1/PhD/data/candle3/stabilized/segmentedAndCropped/frame-00723.png', '/media/ilisescu/Data1/PhD/data/candle3/stabilized/segmentedAndCropped/frame-00724.png', '/media/ilisescu/Data1/PhD/data/candle3/stabilized/segmentedAndCropped/frame-01073.png', '/media/ilisescu/Data1/PhD/data/candle3/stabilized/segmentedAndCropped/frame-01074.png', '/media/ilisescu/Data1/PhD/data/candle3/stabilized/segmentedAndCropped/frame-01075.png', '/media/ilisescu/Data1/PhD/data/candle3/stabilized/segmentedAndCropped/frame-01076.png', '/media/ilisescu/Data1/PhD/data/candle3/stabilized/segmentedAndCropped/frame-01077.png', '/media/ilisescu/Data1/PhD/data/candle3/stabilized/segmentedAndCropped/frame-01078.png', '/media/ilisescu/Data1/PhD/data/candle3/stabilized/segmentedAndCropped/frame-01079.png', '/media/ilisescu/Data1/PhD/data/candle3/stabilized/segmentedAndCropped/frame-01080.png', '/media/ilisescu/Data1/PhD/data/candle3/stabilized/segmentedAndCropped/frame-01081.png', '/media/ilisescu/Data1/PhD/data/candle3/stabilized/segmentedAndCropped/frame-01082.png', '/media/ilisescu/Data1/PhD/data/candle3/stabilized/segmentedAndCropped/frame-01083.png', '/media/ilisescu/Data1/PhD/data/candle3/stabilized/segmentedAndCropped/frame-01084.png', '/media/ilisescu/Data1/PhD/data/candle3/stabilized/segmentedAndCropped/frame-01085.png', '/media/ilisescu/Data1/PhD/data/candle3/stabilized/segmentedAndCropped/frame-01086.png', '/media/ilisescu/Data1/PhD/data/candle3/stabilized/segmentedAndCropped/frame-01087.png', '/media/ilisescu/Data1/PhD/data/candle3/stabilized/segmentedAndCropped/frame-01088.png', '/media/ilisescu/Data1/PhD/data/candle3/stabilized/segmentedAndCropped/frame-01089.png', '/media/ilisescu/Data1/PhD/data/candle3/stabilized/segmentedAndCropped/frame-01090.png', '/media/ilisescu/Data1/PhD/data/candle3/stabilized/segmentedAndCropped/frame-01091.png', '/media/ilisescu/Data1/PhD/data/candle3/stabilized/segmentedAndCropped/frame-01092.png', '/media/ilisescu/Data1/PhD/data/candle3/stabilized/segmentedAndCropped/frame-01093.png', '/media/ilisescu/Data1/PhD/data/candle3/stabilized/segmentedAndCropped/frame-01094.png', '/media/ilisescu/Data1/PhD/data/candle3/stabilized/segmentedAndCropped/frame-01095.png', '/media/ilisescu/Data1/PhD/data/candle3/stabilized/segmentedAndCropped/frame-01096.png', '/media/ilisescu/Data1/PhD/data/candle3/stabilized/segmentedAndCropped/frame-01097.png', '/media/ilisescu/Data1/PhD/data/candle3/stabilized/segmentedAndCropped/frame-01098.png', '/media/ilisescu/Data1/PhD/data/candle3/stabilized/segmentedAndCropped/frame-01099.png', '/media/ilisescu/Data1/PhD/data/candle3/stabilized/segmentedAndCropped/frame-01100.png', '/media/ilisescu/Data1/PhD/data/candle3/stabilized/segmentedAndCropped/frame-01101.png', '/media/ilisescu/Data1/PhD/data/candle3/stabilized/segmentedAndCropped/frame-01102.png', '/media/ilisescu/Data1/PhD/data/candle3/stabilized/segmentedAndCropped/frame-01103.png', '/media/ilisescu/Data1/PhD/data/candle3/stabilized/segmentedAndCropped/frame-01104.png', '/media/ilisescu/Data1/PhD/data/candle3/stabilized/segmentedAndCropped/frame-01105.png', '/media/ilisescu/Data1/PhD/data/candle3/stabilized/segmentedAndCropped/frame-01106.png', '/media/ilisescu/Data1/PhD/data/candle3/stabilized/segmentedAndCropped/frame-01107.png', '/media/ilisescu/Data1/PhD/data/candle3/stabilized/segmentedAndCropped/frame-01108.png', '/media/ilisescu/Data1/PhD/data/candle3/stabilized/segmentedAndCropped/frame-01109.png', '/media/ilisescu/Data1/PhD/data/candle3/stabilized/segmentedAndCropped/frame-01110.png', '/media/ilisescu/Data1/PhD/data/candle3/stabilized/segmentedAndCropped/frame-01111.png', '/media/ilisescu/Data1/PhD/data/candle3/stabilized/segmentedAndCropped/frame-01112.png', '/media/ilisescu/Data1/PhD/data/candle3/stabilized/segmentedAndCropped/frame-01113.png', '/media/ilisescu/Data1/PhD/data/candle3/stabilized/segmentedAndCropped/frame-01114.png', '/media/ilisescu/Data1/PhD/data/candle3/stabilized/segmentedAndCropped/frame-01115.png', '/media/ilisescu/Data1/PhD/data/candle3/stabilized/segmentedAndCropped/frame-01116.png', '/media/ilisescu/Data1/PhD/data/candle3/stabilized/segmentedAndCropped/frame-01117.png', '/media/ilisescu/Data1/PhD/data/candle3/stabilized/segmentedAndCropped/frame-01118.png', '/media/ilisescu/Data1/PhD/data/candle3/stabilized/segmentedAndCropped/frame-01119.png', '/media/ilisescu/Data1/PhD/data/candle3/stabilized/segmentedAndCropped/frame-01120.png', '/media/ilisescu/Data1/PhD/data/candle3/stabilized/segmentedAndCropped/frame-01121.png', '/media/ilisescu/Data1/PhD/data/candle3/stabilized/segmentedAndCropped/frame-01122.png', '/media/ilisescu/Data1/PhD/data/candle3/stabilized/segmentedAndCropped/frame-01123.png', '/media/ilisescu/Data1/PhD/data/candle3/stabilized/segmentedAndCropped/frame-01124.png', '/media/ilisescu/Data1/PhD/data/candle3/stabilized/segmentedAndCropped/frame-01125.png', '/media/ilisescu/Data1/PhD/data/candle3/stabilized/segmentedAndCropped/frame-01126.png', '/media/ilisescu/Data1/PhD/data/candle3/stabilized/segmentedAndCropped/frame-01127.png', '/media/ilisescu/Data1/PhD/data/candle3/stabilized/segmentedAndCropped/frame-01128.png', '/media/ilisescu/Data1/PhD/data/candle3/stabilized/segmentedAndCropped/frame-01129.png', '/media/ilisescu/Data1/PhD/data/candle3/stabilized/segmentedAndCropped/frame-01130.png', '/media/ilisescu/Data1/PhD/data/candle3/stabilized/segmentedAndCropped/frame-01131.png', '/media/ilisescu/Data1/PhD/data/candle3/stabilized/segmentedAndCropped/frame-01132.png', '/media/ilisescu/Data1/PhD/data/candle3/stabilized/segmentedAndCropped/frame-01133.png', '/media/ilisescu/Data1/PhD/data/candle3/stabilized/segmentedAndCropped/frame-01134.png', '/media/ilisescu/Data1/PhD/data/candle3/stabilized/segmentedAndCropped/frame-01135.png', '/media/ilisescu/Data1/PhD/data/candle3/stabilized/segmentedAndCropped/frame-01136.png', '/media/ilisescu/Data1/PhD/data/candle3/stabilized/segmentedAndCropped/frame-01137.png', '/media/ilisescu/Data1/PhD/data/candle3/stabilized/segmentedAndCropped/frame-01138.png', '/media/ilisescu/Data1/PhD/data/candle3/stabilized/segmentedAndCropped/frame-01139.png', '/media/ilisescu/Data1/PhD/data/candle3/stabilized/segmentedAndCropped/frame-01140.png', '/media/ilisescu/Data1/PhD/data/candle3/stabilized/segmentedAndCropped/frame-01141.png', '/media/ilisescu/Data1/PhD/data/candle3/stabilized/segmentedAndCropped/frame-01142.png', '/media/ilisescu/Data1/PhD/data/candle3/stabilized/segmentedAndCropped/frame-01143.png', '/media/ilisescu/Data1/PhD/data/candle3/stabilized/segmentedAndCropped/frame-01144.png', '/media/ilisescu/Data1/PhD/data/candle3/stabilized/segmentedAndCropped/frame-01145.png', '/media/ilisescu/Data1/PhD/data/candle3/stabilized/segmentedAndCropped/frame-01146.png', '/media/ilisescu/Data1/PhD/data/candle3/stabilized/segmentedAndCropped/frame-01147.png', '/media/ilisescu/Data1/PhD/data/candle3/stabilized/segmentedAndCropped/frame-01148.png', '/media/ilisescu/Data1/PhD/data/candle3/stabilized/segmentedAndCropped/frame-01149.png', '/media/ilisescu/Data1/PhD/data/candle3/stabilized/segmentedAndCropped/frame-01150.png', '/media/ilisescu/Data1/PhD/data/candle3/stabilized/segmentedAndCropped/frame-01151.png', '/media/ilisescu/Data1/PhD/data/candle3/stabilized/segmentedAndCropped/frame-01152.png', '/media/ilisescu/Data1/PhD/data/candle3/stabilized/segmentedAndCropped/frame-01153.png', '/media/ilisescu/Data1/PhD/data/candle3/stabilized/segmentedAndCropped/frame-01154.png', '/media/ilisescu/Data1/PhD/data/candle3/stabilized/segmentedAndCropped/frame-01155.png', '/media/ilisescu/Data1/PhD/data/candle3/stabilized/segmentedAndCropped/frame-01156.png', '/media/ilisescu/Data1/PhD/data/candle3/stabilized/segmentedAndCropped/frame-01157.png', '/media/ilisescu/Data1/PhD/data/candle3/stabilized/segmentedAndCropped/frame-01158.png', '/media/ilisescu/Data1/PhD/data/candle3/stabilized/segmentedAndCropped/frame-01159.png', '/media/ilisescu/Data1/PhD/data/candle3/stabilized/segmentedAndCropped/frame-01160.png', '/media/ilisescu/Data1/PhD/data/candle3/stabilized/segmentedAndCropped/frame-01161.png', '/media/ilisescu/Data1/PhD/data/candle3/stabilized/segmentedAndCropped/frame-01162.png', '/media/ilisescu/Data1/PhD/data/candle3/stabilized/segmentedAndCropped/frame-01163.png', '/media/ilisescu/Data1/PhD/data/candle3/stabilized/segmentedAndCropped/frame-01164.png', '/media/ilisescu/Data1/PhD/data/candle3/stabilized/segmentedAndCropped/frame-01165.png', '/media/ilisescu/Data1/PhD/data/candle3/stabilized/segmentedAndCropped/frame-01166.png', '/media/ilisescu/Data1/PhD/data/candle3/stabilized/segmentedAndCropped/frame-01167.png', '/media/ilisescu/Data1/PhD/data/candle3/stabilized/segmentedAndCropped/frame-01168.png', '/media/ilisescu/Data1/PhD/data/candle3/stabilized/segmentedAndCropped/frame-01169.png', '/media/ilisescu/Data1/PhD/data/candle3/stabilized/segmentedAndCropped/frame-01170.png', '/media/ilisescu/Data1/PhD/data/candle3/stabilized/segmentedAndCropped/frame-01171.png', '/media/ilisescu/Data1/PhD/data/candle3/stabilized/segmentedAndCropped/frame-01172.png', '/media/ilisescu/Data1/PhD/data/candle3/stabilized/segmentedAndCropped/frame-01173.png', '/media/ilisescu/Data1/PhD/data/candle3/stabilized/segmentedAndCropped/frame-01174.png', '/media/ilisescu/Data1/PhD/data/candle3/stabilized/segmentedAndCropped/frame-01175.png', '/media/ilisescu/Data1/PhD/data/candle3/stabilized/segmentedAndCropped/frame-01176.png', '/media/ilisescu/Data1/PhD/data/candle3/stabilized/segmentedAndCropped/frame-01177.png', '/media/ilisescu/Data1/PhD/data/candle3/stabilized/segmentedAndCropped/frame-01178.png', '/media/ilisescu/Data1/PhD/data/candle3/stabilized/segmentedAndCropped/frame-01179.png', '/media/ilisescu/Data1/PhD/data/candle3/stabilized/segmentedAndCropped/frame-01180.png', '/media/ilisescu/Data1/PhD/data/candle3/stabilized/segmentedAndCropped/frame-01181.png', '/media/ilisescu/Data1/PhD/data/candle3/stabilized/segmentedAndCropped/frame-01182.png', '/media/ilisescu/Data1/PhD/data/candle3/stabilized/segmentedAndCropped/frame-01183.png', '/media/ilisescu/Data1/PhD/data/candle3/stabilized/segmentedAndCropped/frame-01184.png', '/media/ilisescu/Data1/PhD/data/candle3/stabilized/segmentedAndCropped/frame-01185.png', '/media/ilisescu/Data1/PhD/data/candle3/stabilized/segmentedAndCropped/frame-01186.png', '/media/ilisescu/Data1/PhD/data/candle3/stabilized/segmentedAndCropped/frame-01187.png', '/media/ilisescu/Data1/PhD/data/candle3/stabilized/segmentedAndCropped/frame-01188.png', '/media/ilisescu/Data1/PhD/data/candle3/stabilized/segmentedAndCropped/frame-01189.png', '/media/ilisescu/Data1/PhD/data/candle3/stabilized/segmentedAndCropped/frame-01190.png', '/media/ilisescu/Data1/PhD/data/candle3/stabilized/segmentedAndCropped/frame-01191.png', '/media/ilisescu/Data1/PhD/data/candle3/stabilized/segmentedAndCropped/frame-01192.png', '/media/ilisescu/Data1/PhD/data/candle3/stabilized/segmentedAndCropped/frame-01193.png', '/media/ilisescu/Data1/PhD/data/candle3/stabilized/segmentedAndCropped/frame-01194.png', '/media/ilisescu/Data1/PhD/data/candle3/stabilized/segmentedAndCropped/frame-01195.png', '/media/ilisescu/Data1/PhD/data/candle3/stabilized/segmentedAndCropped/frame-01196.png', '/media/ilisescu/Data1/PhD/data/candle3/stabilized/segmentedAndCropped/frame-01197.png', '/media/ilisescu/Data1/PhD/data/candle3/stabilized/segmentedAndCropped/frame-01198.png', '/media/ilisescu/Data1/PhD/data/candle3/stabilized/segmentedAndCropped/frame-01199.png', '/media/ilisescu/Data1/PhD/data/candle3/stabilized/segmentedAndCropped/frame-01200.png', '/media/ilisescu/Data1/PhD/data/candle3/stabilized/segmentedAndCropped/frame-01201.png', '/media/ilisescu/Data1/PhD/data/candle3/stabilized/segmentedAndCropped/frame-01202.png', '/media/ilisescu/Data1/PhD/data/candle3/stabilized/segmentedAndCropped/frame-01203.png', '/media/ilisescu/Data1/PhD/data/candle3/stabilized/segmentedAndCropped/frame-01204.png', '/media/ilisescu/Data1/PhD/data/candle3/stabilized/segmentedAndCropped/frame-01205.png', '/media/ilisescu/Data1/PhD/data/candle3/stabilized/segmentedAndCropped/frame-01206.png', '/media/ilisescu/Data1/PhD/data/candle3/stabilized/segmentedAndCropped/frame-01207.png', '/media/ilisescu/Data1/PhD/data/candle3/stabilized/segmentedAndCropped/frame-01208.png', '/media/ilisescu/Data1/PhD/data/candle3/stabilized/segmentedAndCropped/frame-01209.png', '/media/ilisescu/Data1/PhD/data/candle3/stabilized/segmentedAndCropped/frame-01210.png', '/media/ilisescu/Data1/PhD/data/candle3/stabilized/segmentedAndCropped/frame-01211.png', '/media/ilisescu/Data1/PhD/data/candle3/stabilized/segmentedAndCropped/frame-01212.png', '/media/ilisescu/Data1/PhD/data/candle3/stabilized/segmentedAndCropped/frame-01213.png', '/media/ilisescu/Data1/PhD/data/candle3/stabilized/segmentedAndCropped/frame-01214.png', '/media/ilisescu/Data1/PhD/data/candle3/stabilized/segmentedAndCropped/frame-01215.png', '/media/ilisescu/Data1/PhD/data/candle3/stabilized/segmentedAndCropped/frame-01216.png', '/media/ilisescu/Data1/PhD/data/candle3/stabilized/segmentedAndCropped/frame-01217.png', '/media/ilisescu/Data1/PhD/data/candle3/stabilized/segmentedAndCropped/frame-01218.png', '/media/ilisescu/Data1/PhD/data/candle3/stabilized/segmentedAndCropped/frame-01219.png', '/media/ilisescu/Data1/PhD/data/candle3/stabilized/segmentedAndCropped/frame-01220.png', '/media/ilisescu/Data1/PhD/data/candle3/stabilized/segmentedAndCropped/frame-01221.png', '/media/ilisescu/Data1/PhD/data/candle3/stabilized/segmentedAndCropped/frame-01222.png', '/media/ilisescu/Data1/PhD/data/candle3/stabilized/segmentedAndCropped/frame-01223.png', '/media/ilisescu/Data1/PhD/data/candle3/stabilized/segmentedAndCropped/frame-01224.png', '/media/ilisescu/Data1/PhD/data/candle3/stabilized/segmentedAndCropped/frame-01225.png', '/media/ilisescu/Data1/PhD/data/candle3/stabilized/segmentedAndCropped/frame-01226.png', '/media/ilisescu/Data1/PhD/data/candle3/stabilized/segmentedAndCropped/frame-01227.png', '/media/ilisescu/Data1/PhD/data/candle3/stabilized/segmentedAndCropped/frame-01228.png', '/media/ilisescu/Data1/PhD/data/candle3/stabilized/segmentedAndCropped/frame-01229.png', '/media/ilisescu/Data1/PhD/data/candle3/stabilized/segmentedAndCropped/frame-01230.png', '/media/ilisescu/Data1/PhD/data/candle3/stabilized/segmentedAndCropped/frame-01231.png', '/media/ilisescu/Data1/PhD/data/candle3/stabilized/segmentedAndCropped/frame-01232.png', '/media/ilisescu/Data1/PhD/data/candle3/stabilized/segmentedAndCropped/frame-01233.png', '/media/ilisescu/Data1/PhD/data/candle3/stabilized/segmentedAndCropped/frame-01234.png', '/media/ilisescu/Data1/PhD/data/candle3/stabilized/segmentedAndCropped/frame-01235.png', '/media/ilisescu/Data1/PhD/data/candle3/stabilized/segmentedAndCropped/frame-01236.png', '/media/ilisescu/Data1/PhD/data/candle3/stabilized/segmentedAndCropped/frame-01237.png', '/media/ilisescu/Data1/PhD/data/candle3/stabilized/segmentedAndCropped/frame-01238.png', '/media/ilisescu/Data1/PhD/data/candle3/stabilized/segmentedAndCropped/frame-01239.png', '/media/ilisescu/Data1/PhD/data/candle3/stabilized/segmentedAndCropped/frame-01240.png', '/media/ilisescu/Data1/PhD/data/candle3/stabilized/segmentedAndCropped/frame-01241.png', '/media/ilisescu/Data1/PhD/data/candle3/stabilized/segmentedAndCropped/frame-01242.png', '/media/ilisescu/Data1/PhD/data/candle3/stabilized/segmentedAndCropped/frame-01243.png', '/media/ilisescu/Data1/PhD/data/candle3/stabilized/segmentedAndCropped/frame-01244.png', '/media/ilisescu/Data1/PhD/data/candle3/stabilized/segmentedAndCropped/frame-01245.png', '/media/ilisescu/Data1/PhD/data/candle3/stabilized/segmentedAndCropped/frame-01246.png', '/media/ilisescu/Data1/PhD/data/candle3/stabilized/segmentedAndCropped/frame-01247.png', '/media/ilisescu/Data1/PhD/data/candle3/stabilized/segmentedAndCropped/frame-01248.png', '/media/ilisescu/Data1/PhD/data/candle3/stabilized/segmentedAndCropped/frame-01249.png', '/media/ilisescu/Data1/PhD/data/candle3/stabilized/segmentedAndCropped/frame-01250.png', '/media/ilisescu/Data1/PhD/data/candle3/stabilized/segmentedAndCropped/frame-01251.png', '/media/ilisescu/Data1/PhD/data/candle3/stabilized/segmentedAndCropped/frame-01252.png', '/media/ilisescu/Data1/PhD/data/candle3/stabilized/segmentedAndCropped/frame-01253.png', '/media/ilisescu/Data1/PhD/data/candle3/stabilized/segmentedAndCropped/frame-01254.png', '/media/ilisescu/Data1/PhD/data/candle3/stabilized/segmentedAndCropped/frame-01255.png', '/media/ilisescu/Data1/PhD/data/candle3/stabilized/segmentedAndCropped/frame-01256.png', '/media/ilisescu/Data1/PhD/data/candle3/stabilized/segmentedAndCropped/frame-01257.png', '/media/ilisescu/Data1/PhD/data/candle3/stabilized/segmentedAndCropped/frame-01258.png', '/media/ilisescu/Data1/PhD/data/candle3/stabilized/segmentedAndCropped/frame-01259.png', '/media/ilisescu/Data1/PhD/data/candle3/stabilized/segmentedAndCropped/frame-01260.png', '/media/ilisescu/Data1/PhD/data/candle3/stabilized/segmentedAndCropped/frame-01261.png', '/media/ilisescu/Data1/PhD/data/candle3/stabilized/segmentedAndCropped/frame-01262.png', '/media/ilisescu/Data1/PhD/data/candle3/stabilized/segmentedAndCropped/frame-01263.png', '/media/ilisescu/Data1/PhD/data/candle3/stabilized/segmentedAndCropped/frame-01264.png', '/media/ilisescu/Data1/PhD/data/candle3/stabilized/segmentedAndCropped/frame-01265.png', '/media/ilisescu/Data1/PhD/data/candle3/stabilized/segmentedAndCropped/frame-01266.png', '/media/ilisescu/Data1/PhD/data/candle3/stabilized/segmentedAndCropped/frame-01267.png', '/media/ilisescu/Data1/PhD/data/candle3/stabilized/segmentedAndCropped/frame-01268.png', '/media/ilisescu/Data1/PhD/data/candle3/stabilized/segmentedAndCropped/frame-01269.png', '/media/ilisescu/Data1/PhD/data/candle3/stabilized/segmentedAndCropped/frame-00005.png', '/media/ilisescu/Data1/PhD/data/candle3/stabilized/segmentedAndCropped/frame-00024.png', '/media/ilisescu/Data1/PhD/data/candle3/stabilized/segmentedAndCropped/frame-00032.png', '/media/ilisescu/Data1/PhD/data/candle3/stabilized/segmentedAndCropped/frame-00033.png', '/media/ilisescu/Data1/PhD/data/candle3/stabilized/segmentedAndCropped/frame-00034.png', '/media/ilisescu/Data1/PhD/data/candle3/stabilized/segmentedAndCropped/frame-00035.png', '/media/ilisescu/Data1/PhD/data/candle3/stabilized/segmentedAndCropped/frame-00040.png', '/media/ilisescu/Data1/PhD/data/candle3/stabilized/segmentedAndCropped/frame-00042.png', '/media/ilisescu/Data1/PhD/data/candle3/stabilized/segmentedAndCropped/frame-00046.png', '/media/ilisescu/Data1/PhD/data/candle3/stabilized/segmentedAndCropped/frame-00051.png', '/media/ilisescu/Data1/PhD/data/candle3/stabilized/segmentedAndCropped/frame-00052.png', '/media/ilisescu/Data1/PhD/data/candle3/stabilized/segmentedAndCropped/frame-00071.png', '/media/ilisescu/Data1/PhD/data/candle3/stabilized/segmentedAndCropped/frame-00072.png', '/media/ilisescu/Data1/PhD/data/candle3/stabilized/segmentedAndCropped/frame-00096.png', '/media/ilisescu/Data1/PhD/data/candle3/stabilized/segmentedAndCropped/frame-00100.png', '/media/ilisescu/Data1/PhD/data/candle3/stabilized/segmentedAndCropped/frame-00103.png', '/media/ilisescu/Data1/PhD/data/candle3/stabilized/segmentedAndCropped/frame-00105.png', '/media/ilisescu/Data1/PhD/data/candle3/stabilized/segmentedAndCropped/frame-00119.png', '/media/ilisescu/Data1/PhD/data/candle3/stabilized/segmentedAndCropped/frame-00120.png', '/media/ilisescu/Data1/PhD/data/candle3/stabilized/segmentedAndCropped/frame-00121.png', '/media/ilisescu/Data1/PhD/data/candle3/stabilized/segmentedAndCropped/frame-00122.png', '/media/ilisescu/Data1/PhD/data/candle3/stabilized/segmentedAndCropped/frame-00123.png', '/media/ilisescu/Data1/PhD/data/candle3/stabilized/segmentedAndCropped/frame-00135.png', '/media/ilisescu/Data1/PhD/data/candle3/stabilized/segmentedAndCropped/frame-00136.png', '/media/ilisescu/Data1/PhD/data/candle3/stabilized/segmentedAndCropped/frame-00137.png', '/media/ilisescu/Data1/PhD/data/candle3/stabilized/segmentedAndCropped/frame-00138.png', '/media/ilisescu/Data1/PhD/data/candle3/stabilized/segmentedAndCropped/frame-00139.png', '/media/ilisescu/Data1/PhD/data/candle3/stabilized/segmentedAndCropped/frame-00140.png', '/media/ilisescu/Data1/PhD/data/candle3/stabilized/segmentedAndCropped/frame-00141.png', '/media/ilisescu/Data1/PhD/data/candle3/stabilized/segmentedAndCropped/frame-00142.png', '/media/ilisescu/Data1/PhD/data/candle3/stabilized/segmentedAndCropped/frame-00143.png', '/media/ilisescu/Data1/PhD/data/candle3/stabilized/segmentedAndCropped/frame-00144.png', '/media/ilisescu/Data1/PhD/data/candle3/stabilized/segmentedAndCropped/frame-00199.png', '/media/ilisescu/Data1/PhD/data/candle3/stabilized/segmentedAndCropped/frame-00200.png', '/media/ilisescu/Data1/PhD/data/candle3/stabilized/segmentedAndCropped/frame-00214.png', '/media/ilisescu/Data1/PhD/data/candle3/stabilized/segmentedAndCropped/frame-00226.png', '/media/ilisescu/Data1/PhD/data/candle3/stabilized/segmentedAndCropped/frame-00258.png', '/media/ilisescu/Data1/PhD/data/candle3/stabilized/segmentedAndCropped/frame-00259.png', '/media/ilisescu/Data1/PhD/data/candle3/stabilized/segmentedAndCropped/frame-00261.png', '/media/ilisescu/Data1/PhD/data/candle3/stabilized/segmentedAndCropped/frame-00301.png', '/media/ilisescu/Data1/PhD/data/candle3/stabilized/segmentedAndCropped/frame-00353.png', '/media/ilisescu/Data1/PhD/data/candle3/stabilized/segmentedAndCropped/frame-00354.png', '/media/ilisescu/Data1/PhD/data/candle3/stabilized/segmentedAndCropped/frame-00401.png', '/media/ilisescu/Data1/PhD/data/candle3/stabilized/segmentedAndCropped/frame-00436.png', '/media/ilisescu/Data1/PhD/data/candle3/stabilized/segmentedAndCropped/frame-00437.png', '/media/ilisescu/Data1/PhD/data/candle3/stabilized/segmentedAndCropped/frame-00438.png', '/media/ilisescu/Data1/PhD/data/candle3/stabilized/segmentedAndCropped/frame-00439.png', '/media/ilisescu/Data1/PhD/data/candle3/stabilized/segmentedAndCropped/frame-00447.png', '/media/ilisescu/Data1/PhD/data/candle3/stabilized/segmentedAndCropped/frame-00452.png', '/media/ilisescu/Data1/PhD/data/candle3/stabilized/segmentedAndCropped/frame-00454.png', '/media/ilisescu/Data1/PhD/data/candle3/stabilized/segmentedAndCropped/frame-00462.png', '/media/ilisescu/Data1/PhD/data/candle3/stabilized/segmentedAndCropped/frame-00472.png', '/media/ilisescu/Data1/PhD/data/candle3/stabilized/segmentedAndCropped/frame-00483.png', '/media/ilisescu/Data1/PhD/data/candle3/stabilized/segmentedAndCropped/frame-00489.png', '/media/ilisescu/Data1/PhD/data/candle3/stabilized/segmentedAndCropped/frame-00498.png', '/media/ilisescu/Data1/PhD/data/candle3/stabilized/segmentedAndCropped/frame-00507.png', '/media/ilisescu/Data1/PhD/data/candle3/stabilized/segmentedAndCropped/frame-00508.png', '/media/ilisescu/Data1/PhD/data/candle3/stabilized/segmentedAndCropped/frame-00515.png', '/media/ilisescu/Data1/PhD/data/candle3/stabilized/segmentedAndCropped/frame-00516.png', '/media/ilisescu/Data1/PhD/data/candle3/stabilized/segmentedAndCropped/frame-00720.png', '/media/ilisescu/Data1/PhD/data/candle3/stabilized/segmentedAndCropped/frame-00722.png', '/media/ilisescu/Data1/PhD/data/candle3/stabilized/segmentedAndCropped/frame-00723.png', '/media/ilisescu/Data1/PhD/data/candle3/stabilized/segmentedAndCropped/frame-00756.png', '/media/ilisescu/Data1/PhD/data/candle3/stabilized/segmentedAndCropped/frame-00757.png', '/media/ilisescu/Data1/PhD/data/candle3/stabilized/segmentedAndCropped/frame-00758.png', '/media/ilisescu/Data1/PhD/data/candle3/stabilized/segmentedAndCropped/frame-00759.png', '/media/ilisescu/Data1/PhD/data/candle3/stabilized/segmentedAndCropped/frame-00760.png', '/media/ilisescu/Data1/PhD/data/candle3/stabilized/segmentedAndCropped/frame-00761.png', '/media/ilisescu/Data1/PhD/data/candle3/stabilized/segmentedAndCropped/frame-00762.png', '/media/ilisescu/Data1/PhD/data/candle3/stabilized/segmentedAndCropped/frame-00763.png', '/media/ilisescu/Data1/PhD/data/candle3/stabilized/segmentedAndCropped/frame-00764.png', '/media/ilisescu/Data1/PhD/data/candle3/stabilized/segmentedAndCropped/frame-00767.png', '/media/ilisescu/Data1/PhD/data/candle3/stabilized/segmentedAndCropped/frame-00777.png', '/media/ilisescu/Data1/PhD/data/candle3/stabilized/segmentedAndCropped/frame-00778.png', '/media/ilisescu/Data1/PhD/data/candle3/stabilized/segmentedAndCropped/frame-00779.png', '/media/ilisescu/Data1/PhD/data/candle3/stabilized/segmentedAndCropped/frame-00780.png', '/media/ilisescu/Data1/PhD/data/candle3/stabilized/segmentedAndCropped/frame-00781.png', '/media/ilisescu/Data1/PhD/data/candle3/stabilized/segmentedAndCropped/frame-00782.png', '/media/ilisescu/Data1/PhD/data/candle3/stabilized/segmentedAndCropped/frame-00783.png', '/media/ilisescu/Data1/PhD/data/candle3/stabilized/segmentedAndCropped/frame-00784.png', '/media/ilisescu/Data1/PhD/data/candle3/stabilized/segmentedAndCropped/frame-00785.png', '/media/ilisescu/Data1/PhD/data/candle3/stabilized/segmentedAndCropped/frame-00786.png', '/media/ilisescu/Data1/PhD/data/candle3/stabilized/segmentedAndCropped/frame-00787.png', '/media/ilisescu/Data1/PhD/data/candle3/stabilized/segmentedAndCropped/frame-00789.png', '/media/ilisescu/Data1/PhD/data/candle3/stabilized/segmentedAndCropped/frame-00790.png', '/media/ilisescu/Data1/PhD/data/candle3/stabilized/segmentedAndCropped/frame-00791.png', '/media/ilisescu/Data1/PhD/data/candle3/stabilized/segmentedAndCropped/frame-00795.png', '/media/ilisescu/Data1/PhD/data/candle3/stabilized/segmentedAndCropped/frame-00796.png', '/media/ilisescu/Data1/PhD/data/candle3/stabilized/segmentedAndCropped/frame-00797.png', '/media/ilisescu/Data1/PhD/data/candle3/stabilized/segmentedAndCropped/frame-00802.png', '/media/ilisescu/Data1/PhD/data/candle3/stabilized/segmentedAndCropped/frame-00804.png', '/media/ilisescu/Data1/PhD/data/candle3/stabilized/segmentedAndCropped/frame-00813.png', '/media/ilisescu/Data1/PhD/data/candle3/stabilized/segmentedAndCropped/frame-00816.png', '/media/ilisescu/Data1/PhD/data/candle3/stabilized/segmentedAndCropped/frame-00828.png', '/media/ilisescu/Data1/PhD/data/candle3/stabilized/segmentedAndCropped/frame-00829.png', '/media/ilisescu/Data1/PhD/data/candle3/stabilized/segmentedAndCropped/frame-00830.png', '/media/ilisescu/Data1/PhD/data/candle3/stabilized/segmentedAndCropped/frame-00831.png', '/media/ilisescu/Data1/PhD/data/candle3/stabilized/segmentedAndCropped/frame-00832.png', '/media/ilisescu/Data1/PhD/data/candle3/stabilized/segmentedAndCropped/frame-00833.png', '/media/ilisescu/Data1/PhD/data/candle3/stabilized/segmentedAndCropped/frame-00834.png', '/media/ilisescu/Data1/PhD/data/candle3/stabilized/segmentedAndCropped/frame-00843.png', '/media/ilisescu/Data1/PhD/data/candle3/stabilized/segmentedAndCropped/frame-00844.png', '/media/ilisescu/Data1/PhD/data/candle3/stabilized/segmentedAndCropped/frame-00846.png', '/media/ilisescu/Data1/PhD/data/candle3/stabilized/segmentedAndCropped/frame-00850.png', '/media/ilisescu/Data1/PhD/data/candle3/stabilized/segmentedAndCropped/frame-00851.png', '/media/ilisescu/Data1/PhD/data/candle3/stabilized/segmentedAndCropped/frame-00852.png', '/media/ilisescu/Data1/PhD/data/candle3/stabilized/segmentedAndCropped/frame-00853.png', '/media/ilisescu/Data1/PhD/data/candle3/stabilized/segmentedAndCropped/frame-00855.png', '/media/ilisescu/Data1/PhD/data/candle3/stabilized/segmentedAndCropped/frame-00856.png', '/media/ilisescu/Data1/PhD/data/candle3/stabilized/segmentedAndCropped/frame-00857.png', '/media/ilisescu/Data1/PhD/data/candle3/stabilized/segmentedAndCropped/frame-00858.png', '/media/ilisescu/Data1/PhD/data/candle3/stabilized/segmentedAndCropped/frame-00859.png', '/media/ilisescu/Data1/PhD/data/candle3/stabilized/segmentedAndCropped/frame-00860.png', '/media/ilisescu/Data1/PhD/data/candle3/stabilized/segmentedAndCropped/frame-00861.png', '/media/ilisescu/Data1/PhD/data/candle3/stabilized/segmentedAndCropped/frame-00862.png', '/media/ilisescu/Data1/PhD/data/candle3/stabilized/segmentedAndCropped/frame-00863.png', '/media/ilisescu/Data1/PhD/data/candle3/stabilized/segmentedAndCropped/frame-00864.png', '/media/ilisescu/Data1/PhD/data/candle3/stabilized/segmentedAndCropped/frame-00878.png', '/media/ilisescu/Data1/PhD/data/candle3/stabilized/segmentedAndCropped/frame-01332.png', '/media/ilisescu/Data1/PhD/data/candle3/stabilized/segmentedAndCropped/frame-01334.png', '/media/ilisescu/Data1/PhD/data/candle3/stabilized/segmentedAndCropped/frame-01379.png', '/media/ilisescu/Data1/PhD/data/candle3/stabilized/segmentedAndCropped/frame-01385.png', '/media/ilisescu/Data1/PhD/data/candle3/stabilized/segmentedAndCropped/frame-01422.png', '/media/ilisescu/Data1/PhD/data/candle3/stabilized/segmentedAndCropped/frame-01423.png', '/media/ilisescu/Data1/PhD/data/candle3/stabilized/segmentedAndCropped/frame-01424.png', '/media/ilisescu/Data1/PhD/data/candle3/stabilized/segmentedAndCropped/frame-01425.png', '/media/ilisescu/Data1/PhD/data/candle3/stabilized/segmentedAndCropped/frame-01426.png', '/media/ilisescu/Data1/PhD/data/candle3/stabilized/segmentedAndCropped/frame-01427.png', '/media/ilisescu/Data1/PhD/data/candle3/stabilized/segmentedAndCropped/frame-01428.png', '/media/ilisescu/Data1/PhD/data/candle3/stabilized/segmentedAndCropped/frame-01429.png', '/media/ilisescu/Data1/PhD/data/candle3/stabilized/segmentedAndCropped/frame-01430.png', '/media/ilisescu/Data1/PhD/data/candle3/stabilized/segmentedAndCropped/frame-01431.png', '/media/ilisescu/Data1/PhD/data/candle3/stabilized/segmentedAndCropped/frame-01432.png', '/media/ilisescu/Data1/PhD/data/candle3/stabilized/segmentedAndCropped/frame-01433.png', '/media/ilisescu/Data1/PhD/data/candle3/stabilized/segmentedAndCropped/frame-01434.png', '/media/ilisescu/Data1/PhD/data/candle3/stabilized/segmentedAndCropped/frame-01435.png', '/media/ilisescu/Data1/PhD/data/candle3/stabilized/segmentedAndCropped/frame-01436.png', '/media/ilisescu/Data1/PhD/data/candle3/stabilized/segmentedAndCropped/frame-01437.png', '/media/ilisescu/Data1/PhD/data/candle3/stabilized/segmentedAndCropped/frame-01438.png', '/media/ilisescu/Data1/PhD/data/candle3/stabilized/segmentedAndCropped/frame-01439.png', '/media/ilisescu/Data1/PhD/data/candle3/stabilized/segmentedAndCropped/frame-01440.png', '/media/ilisescu/Data1/PhD/data/candle3/stabilized/segmentedAndCropped/frame-01441.png', '/media/ilisescu/Data1/PhD/data/candle3/stabilized/segmentedAndCropped/frame-01442.png', '/media/ilisescu/Data1/PhD/data/candle3/stabilized/segmentedAndCropped/frame-01443.png', '/media/ilisescu/Data1/PhD/data/candle3/stabilized/segmentedAndCropped/frame-01444.png', '/media/ilisescu/Data1/PhD/data/candle3/stabilized/segmentedAndCropped/frame-01445.png', '/media/ilisescu/Data1/PhD/data/candle3/stabilized/segmentedAndCropped/frame-01446.png', '/media/ilisescu/Data1/PhD/data/candle3/stabilized/segmentedAndCropped/frame-01447.png', '/media/ilisescu/Data1/PhD/data/candle3/stabilized/segmentedAndCropped/frame-01448.png', '/media/ilisescu/Data1/PhD/data/candle3/stabilized/segmentedAndCropped/frame-01449.png', '/media/ilisescu/Data1/PhD/data/candle3/stabilized/segmentedAndCropped/frame-01450.png', '/media/ilisescu/Data1/PhD/data/candle3/stabilized/segmentedAndCropped/frame-01451.png', '/media/ilisescu/Data1/PhD/data/candle3/stabilized/segmentedAndCropped/frame-01452.png', '/media/ilisescu/Data1/PhD/data/candle3/stabilized/segmentedAndCropped/frame-01453.png', '/media/ilisescu/Data1/PhD/data/candle3/stabilized/segmentedAndCropped/frame-01473.png', '/media/ilisescu/Data1/PhD/data/candle3/stabilized/segmentedAndCropped/frame-01474.png', '/media/ilisescu/Data1/PhD/data/candle3/stabilized/segmentedAndCropped/frame-01475.png', '/media/ilisescu/Data1/PhD/data/candle3/stabilized/segmentedAndCropped/frame-01476.png', '/media/ilisescu/Data1/PhD/data/candle3/stabilized/segmentedAndCropped/frame-01477.png', '/media/ilisescu/Data1/PhD/data/candle3/stabilized/segmentedAndCropped/frame-01478.png', '/media/ilisescu/Data1/PhD/data/candle3/stabilized/segmentedAndCropped/frame-01479.png', '/media/ilisescu/Data1/PhD/data/candle3/stabilized/segmentedAndCropped/frame-01480.png', '/media/ilisescu/Data1/PhD/data/candle3/stabilized/segmentedAndCropped/frame-01481.png', '/media/ilisescu/Data1/PhD/data/candle3/stabilized/segmentedAndCropped/frame-01482.png', '/media/ilisescu/Data1/PhD/data/candle3/stabilized/segmentedAndCropped/frame-01483.png', '/media/ilisescu/Data1/PhD/data/candle3/stabilized/segmentedAndCropped/frame-01484.png', '/media/ilisescu/Data1/PhD/data/candle3/stabilized/segmentedAndCropped/frame-01485.png', '/media/ilisescu/Data1/PhD/data/candle3/stabilized/segmentedAndCropped/frame-01486.png', '/media/ilisescu/Data1/PhD/data/candle3/stabilized/segmentedAndCropped/frame-01512.png', '/media/ilisescu/Data1/PhD/data/candle3/stabilized/segmentedAndCropped/frame-01513.png']\n"
       ]
      }
     ],
     "prompt_number": 116
    },
    {
     "cell_type": "code",
     "collapsed": false,
     "input": [
      "## build the full graph now based on used looped semantics and the transition animation\n",
      "semanticsGraph = []\n",
      "## keep track of what loop frame has been put in each node (row idx is index of node)\n",
      "loopFramesInNodes = np.empty(0, dtype=int)\n",
      "## add all the nodes used by the looped semantics I'm using in the graph\n",
      "for s in semanticsToUse :\n",
      "    for f in xrange(loopedSemantics[s][DICT_SEQUENCE_LENGTH]) :\n",
      "        globalFrameIdx = semanticsFrameRanges[s, 0] + f\n",
      "        semanticsGraph.append(np.array([int(np.argwhere(allNeededFrames == globalFrameIdx)), s]))\n",
      "        loopFramesInNodes = np.concatenate((loopFramesInNodes, [globalFrameIdx]), axis=1)\n",
      "        \n",
      "## add connections between loop nodes to build the actual nodes\n",
      "for s in semanticsToUse :\n",
      "    for f in xrange(loopedSemantics[s][DICT_SEQUENCE_LENGTH]) :\n",
      "        globalFrameIdx = semanticsFrameRanges[s, 0] + f\n",
      "        nodeIdx = int(np.argwhere(loopFramesInNodes == globalFrameIdx))\n",
      "        neighbourNodeIdx = int(np.argwhere(loopFramesInNodes == semanticsFrameRanges[s, 0] + np.mod(f+1, loopedSemantics[s][DICT_SEQUENCE_LENGTH])))\n",
      "        semanticsGraph[nodeIdx] = np.concatenate((semanticsGraph[nodeIdx], [neighbourNodeIdx]), axis=1)\n",
      "\n",
      "## go through transitionAnimations and add them to semanticsGraph\n",
      "for s in xrange(len(semanticsCombinations)) :\n",
      "    fromSemantics, toSemantics = semanticsCombinations[s]\n",
      "    ## transition animations are already using global frame idxs\n",
      "    for transitionAnimation in transitionAnimations[s] : #[0:1] :\n",
      "#         print fromSemantics, toSemantics\n",
      "#         print transitionAnimation\n",
      "#         print \"from node\", int(np.argwhere(loopFramesInNodes == transitionAnimation[0])), \"to node\", int(np.argwhere(loopFramesInNodes == transitionAnimation[-1]))\n",
      "        ## add node for second frame in animation\n",
      "        semanticsGraph.append(np.array([int(np.argwhere(allNeededFrames == transitionAnimation[1])), toSemantics]))\n",
      "        ## add edge from first frame in animation (i.e. a node from loop fromSemantics) to second frame which is a completely new node\n",
      "        nodeIdx = int(np.argwhere(loopFramesInNodes == transitionAnimation[0]))\n",
      "        semanticsGraph[nodeIdx] = np.concatenate((semanticsGraph[nodeIdx], [len(semanticsGraph)-1]), axis=1)\n",
      "        \n",
      "        ## add edge between new node for frame and previous node\n",
      "        for frame in transitionAnimation[2:-1] :\n",
      "            semanticsGraph.append(np.array([int(np.argwhere(allNeededFrames == frame)), toSemantics]))\n",
      "            semanticsGraph[-2] = np.concatenate((semanticsGraph[-2], [len(semanticsGraph)-1]), axis=1)\n",
      "#             print frame\n",
      "            \n",
      "        ## add edge between last frame's node and the last frame in the animation (i.e. a node from loop toSemantics)\n",
      "        semanticsGraph[-1] = np.concatenate((semanticsGraph[-1], [int(np.argwhere(loopFramesInNodes == transitionAnimation[-1]))]), axis=1)"
     ],
     "language": "python",
     "metadata": {},
     "outputs": [],
     "prompt_number": 120
    },
    {
     "cell_type": "code",
     "collapsed": false,
     "input": [
      "if not os.path.isdir(dataPath+\"precomputedSemanticsGraph/\") :\n",
      "    os.mkdir(dataPath+\"precomputedSemanticsGraph/\")\n",
      "csvFile = open(dataPath+\"precomputedSemanticsGraph/semanticsGraph.csv\", 'w')\n",
      "## [num_semantics, num_nodes, num_frames]\n",
      "csvFile.write(\"## [num_semantics, num_nodes, num_frames]\\n\")\n",
      "csvFile.write(np.string_(len(semanticsToUse)) + \",\" + np.string_(len(semanticsGraph)) + \",\" + np.string_(len(frameLocs)) + \"\\n\")\n",
      "\n",
      "## HACK to just try the UI ##\n",
      "csvFile.write(\"## [frame_image_id, semantics_id, connected_node1, ...]\\n\")\n",
      "## format semantics graph and save as csv\n",
      "semanticsGraphStrings = []\n",
      "for node in semanticsGraph :\n",
      "    ## [frame_image_id, semantics_id, connected_node1, ...]\n",
      "    semanticsGraphStrings.append(','.join(\"{0:0d}\".format(n) for n in node ) + \"\\n\")\n",
      "# print semanticsGraphs\n",
      "csvFile.writelines(semanticsGraphStrings)\n",
      "csvFile.close()\n",
      "# np.savetxt(dataPath+\"precomputedSemanticsGraph/semanticsGraph.csv\", semanticsGraph, delimiter=',')"
     ],
     "language": "python",
     "metadata": {},
     "outputs": [],
     "prompt_number": 122
    },
    {
     "cell_type": "code",
     "collapsed": false,
     "input": [
      "## copy frames to right folder\n",
      "for frame in xrange(len(frameLocs)) :\n",
      "    shutil.copyfile(frameLocs[frame], dataPath+\"precomputedSemanticsGraph/frame-{0:05d}.png\".format(frame+1))"
     ],
     "language": "python",
     "metadata": {},
     "outputs": [],
     "prompt_number": 133
    },
    {
     "cell_type": "code",
     "collapsed": false,
     "input": [
      "class ImageLabel(QtGui.QLabel) :\n",
      "    \n",
      "    def __init__(self, text=\"\", parent=None):\n",
      "        super(ImageLabel, self).__init__(text, parent)\n",
      "        \n",
      "        self.image = None\n",
      "        self.color = QtGui.QColor(QtCore.Qt.black)\n",
      "        \n",
      "    def setImage(self, image) : \n",
      "        self.image = image.copy()\n",
      "        self.setMinimumSize(self.image.size())\n",
      "        self.update()\n",
      "        \n",
      "    def setBackgroundColor(self, color) :\n",
      "        self.color = color\n",
      "        \n",
      "    def paintEvent(self, event):\n",
      "        super(ImageLabel, self).paintEvent(event)\n",
      "        painter = QtGui.QPainter(self)\n",
      "        \n",
      "        if self.image != None :\n",
      "#             upperLeft = ((self.width()-self.image.width())/2, (self.height()-self.image.height())/2)\n",
      "            upperLeft = (self.width()/2-self.image.width()/2, self.height()-self.image.height())\n",
      "    \n",
      "            ## draw background\n",
      "            painter.setBrush(QtGui.QBrush(self.color))\n",
      "            painter.setPen(QtGui.QPen(self.color, 0, \n",
      "                                      QtCore.Qt.SolidLine, QtCore.Qt.RoundCap, QtCore.Qt.RoundJoin))\n",
      "            painter.drawRect(QtCore.QRect(upperLeft[0], upperLeft[1], self.image.width(), self.image.height()))\n",
      "            \n",
      "            ## draw image\n",
      "            painter.drawImage(QtCore.QPoint(upperLeft[0], upperLeft[1]), self.image)\n",
      "                \n",
      "                \n",
      "class Window(QtGui.QWidget):\n",
      "    def __init__(self):\n",
      "        super(Window, self).__init__()\n",
      "        \n",
      "        self.setWindowTitle(\"Precomputed Semantic Looping\")\n",
      "        self.resize(1280, 720)\n",
      "        \n",
      "        self.playIcon = QtGui.QIcon(\"play.png\")\n",
      "        self.pauseIcon = QtGui.QIcon(\"pause.png\")\n",
      "        self.doPlaySequence = False\n",
      "        \n",
      "        self.playTimer = QtCore.QTimer(self)\n",
      "        self.playTimer.setInterval(1000/30)\n",
      "        self.playTimer.timeout.connect(self.renderOneFrame)\n",
      "        self.lastRenderTime = time.time()\n",
      "        self.oldInfoText = \"\"\n",
      "        \n",
      "        self.createGUI()\n",
      "        \n",
      "        self.semanticsGraphLocation = dataPath+\"precomputedSemanticsGraph/\"\n",
      "        self.loadSemanticsGraph(self.semanticsGraphLocation)\n",
      "        \n",
      "        self.currentNode = 0\n",
      "        self.currentSemantics = 0\n",
      "        self.renderOneFrame()\n",
      "        \n",
      "        self.setFocus()\n",
      "        \n",
      "    def loadSemanticsGraph(self, location) :\n",
      "    \n",
      "        self.semanticsGraph = []\n",
      "        self.numSemantics = 0\n",
      "        self.numNodes = 0\n",
      "        self.numFrames = 0\n",
      "        \n",
      "        if not os.path.isfile(location+\"semanticsGraph.csv\") :\n",
      "            print \"No semantics graph at given location\"\n",
      "            self.close()\n",
      "        else :\n",
      "            csvFile = open(location+\"semanticsGraph.csv\", 'r')\n",
      "            readInfo = False\n",
      "            for line in csvFile :\n",
      "                if not line.startswith(\"##\") :\n",
      "                    if not readInfo :\n",
      "                        readInfo = True\n",
      "                        self.numSemantics, self.numNodes, self.numFrames = np.array(line.split(\",\"), dtype=int)\n",
      "                    else :\n",
      "                        self.semanticsGraph.append(np.array(line.split(\",\"), dtype=int))\n",
      "            \n",
      "            csvFile.close()\n",
      "            \n",
      "            \n",
      "        ## here I should really load the sorted list of frames in the location where the semanticGraph is stored\n",
      "#         self.frameLocs = np.sort(glob.glob(location+\"frame*.png\"))\n",
      "#         if len(self.frameLocs) != self.numFrames :\n",
      "#             print \"Number of frames in folder doesn't match number of frames in graph\"\n",
      "#             self.close()\n",
      "        \n",
      "        self.frameLocs = frameLocs\n",
      "        \n",
      "        self.allFrames = []\n",
      "        for frame in self.frameLocs :\n",
      "            self.allFrames.append(np.ascontiguousarray(cv2.imread(frame, cv2.CV_LOAD_IMAGE_UNCHANGED)))\n",
      "        \n",
      "    def renderOneFrame(self) :\n",
      "        ## get background image\n",
      "        if self.currentNode >= 0 and self.currentNode < len(self.semanticsGraph) :\n",
      "            frameIdx = self.semanticsGraph[self.currentNode][0]\n",
      "            if frameIdx >= 0 and frameIdx < self.numFrames :\n",
      "#                 im = np.ascontiguousarray(cv2.imread(self.frameLocs[frameIdx], cv2.CV_LOAD_IMAGE_UNCHANGED))\n",
      "                im = self.allFrames[frameIdx]\n",
      "                img = QtGui.QImage(im.data, im.shape[1], im.shape[0], im.strides[0], QtGui.QImage.Format_ARGB32);\n",
      "#                 self.frameLabel.setFixedSize(img.width(), img.height())\n",
      "                self.frameLabel.setImage(img)\n",
      "\n",
      "                self.frameInfo.setText(\"Rendering at \" + np.string_(int(1.0/(time.time() - self.lastRenderTime))) + \" FPS\\n\" + \n",
      "                                       \"Current Semantics \" + np.string_(self.currentSemantics) + \"\\n\" + \n",
      "                                       np.string_(self.currentNode) + \" --> \" + self.frameLocs[frameIdx])\n",
      "                self.lastRenderTime = time.time()\n",
      "                self.stepInGraph()\n",
      "    \n",
      "    def stepInGraph(self) :\n",
      "        if self.currentNode >= 0 and self.currentNode < len(self.semanticsGraph) :\n",
      "            neighbourNodes = self.semanticsGraph[self.currentNode][2:]\n",
      "            for node in neighbourNodes :\n",
      "                if self.semanticsGraph[node][1] == self.currentSemantics :\n",
      "                    self.currentNode = node\n",
      "                    break\n",
      "                else :\n",
      "                    self.currentNode = node\n",
      "            \n",
      "    def closeEvent(self, event) :\n",
      "        print \"closing\"\n",
      "        sys.stdout.flush()\n",
      "            \n",
      "    def deleteGeneratedSequence(self) :\n",
      "        del self.generatedSequence\n",
      "        self.generatedSequence = []\n",
      "        \n",
      "        ## update sliders\n",
      "        self.frameIdxSlider.setMaximum(0)\n",
      "        self.frameIdxSpinBox.setRange(0, 0)\n",
      "        \n",
      "        self.frameInfo.setText(\"Info text\")\n",
      "        \n",
      "        self.frameIdxSpinBox.setValue(0)\n",
      "            \n",
      "    def keyPressEvent(self, e) :\n",
      "        if e.key() == e.key() >= QtCore.Qt.Key_0 and e.key() <= QtCore.Qt.Key_9 :\n",
      "            pressedIdx = np.mod(e.key()-int(QtCore.Qt.Key_0), int(QtCore.Qt.Key_9))\n",
      "            if pressedIdx >= 0 and pressedIdx < self.numSemantics :\n",
      "                print \"show semantics\", pressedIdx\n",
      "                self.currentSemantics = pressedIdx\n",
      "                sys.stdout.flush()\n",
      "            \n",
      "    \n",
      "#     def eventFilter(self, obj, event) :\n",
      "#         if obj == self.frameLabel and event.type() == QtCore.QEvent.Type.MouseMove :\n",
      "#             self.mouseMoved(event)\n",
      "#             return True\n",
      "#         elif obj == self.frameLabel and event.type() == QtCore.QEvent.Type.MouseButtonPress :\n",
      "#             self.mousePressed(event)\n",
      "#             return True\n",
      "#         elif obj == self.frameLabel and event.type() == QtCore.QEvent.Type.MouseButtonRelease :\n",
      "#             self.mouseReleased(event)\n",
      "#             return True\n",
      "#         elif (obj == self.frameIdxSpinBox or obj == self.frameIdxSlider) and event.type() == QtCore.QEvent.Type.KeyPress :\n",
      "#             self.keyPressEvent(event)\n",
      "#             return True\n",
      "#         return QtGui.QWidget.eventFilter(self, obj, event)\n",
      "    \n",
      "    def playSequenceButtonPressed(self) :\n",
      "        if self.doPlaySequence :\n",
      "            self.doPlaySequence = False\n",
      "            self.playSequenceButton.setIcon(self.playIcon)\n",
      "            self.playTimer.stop()\n",
      "            \n",
      "            self.frameInfo.setText(self.oldInfoText)\n",
      "        else :\n",
      "            self.lastRenderTime = time.time()\n",
      "            self.doPlaySequence = True\n",
      "            self.playSequenceButton.setIcon(self.pauseIcon)\n",
      "            self.playTimer.start()\n",
      "            \n",
      "            self.oldInfoText = self.frameInfo.text()\n",
      "            \n",
      "    def setRenderFps(self, value) :\n",
      "        self.playTimer.setInterval(1000/value)\n",
      "        \n",
      "    def setBackgroundColor(self) :\n",
      "        newBgColor = QtGui.QColorDialog.getColor(QtCore.Qt.black, self, \"Choose Background Color\")\n",
      "        self.frameLabel.setBackgroundColor(newBgColor)\n",
      "        \n",
      "    def createGUI(self) :\n",
      "        \n",
      "        ## WIDGETS ##\n",
      "        \n",
      "        self.frameLabel = ImageLabel(\"Frame\")\n",
      "        self.frameLabel.setSizePolicy(QtGui.QSizePolicy.MinimumExpanding, QtGui.QSizePolicy.MinimumExpanding)\n",
      "        self.frameLabel.setAlignment(QtCore.Qt.AlignCenter | QtCore.Qt.AlignHCenter)\n",
      "        self.frameLabel.installEventFilter(self)\n",
      "        \n",
      "        self.frameInfo = QtGui.QLabel(\"Info text\")\n",
      "        self.frameInfo.setAlignment(QtCore.Qt.AlignCenter | QtCore.Qt.AlignHCenter)\n",
      "        \n",
      "        self.renderFpsSpinBox = QtGui.QSpinBox()\n",
      "        self.renderFpsSpinBox.setRange(1, 60)\n",
      "        self.renderFpsSpinBox.setSingleStep(1)\n",
      "        self.renderFpsSpinBox.setValue(30)\n",
      "        \n",
      "        self.playSequenceButton = QtGui.QToolButton()\n",
      "        self.playSequenceButton.setToolTip(\"Play Generated Sequence\")\n",
      "        self.playSequenceButton.setCheckable(False)\n",
      "        self.playSequenceButton.setShortcut(QtGui.QKeySequence(\"Alt+P\"))\n",
      "        self.playSequenceButton.setSizePolicy(QtGui.QSizePolicy.MinimumExpanding, QtGui.QSizePolicy.Maximum)\n",
      "        self.playSequenceButton.setIcon(self.playIcon)\n",
      "        \n",
      "        self.setBackgroundColorButton = QtGui.QPushButton(\"&Background Color\")\n",
      "        \n",
      "        \n",
      "        ## SIGNALS ##\n",
      "        \n",
      "        self.renderFpsSpinBox.valueChanged[int].connect(self.setRenderFps)\n",
      "        \n",
      "        self.playSequenceButton.clicked.connect(self.playSequenceButtonPressed)\n",
      "        self.setBackgroundColorButton.clicked.connect(self.setBackgroundColor)\n",
      "        \n",
      "        ## LAYOUTS ##\n",
      "        \n",
      "        mainLayout = QtGui.QHBoxLayout()\n",
      "        \n",
      "        renderingControls = QtGui.QGroupBox(\"Rendering Controls\")\n",
      "        renderingControls.setSizePolicy(QtGui.QSizePolicy.Maximum, QtGui.QSizePolicy.Maximum)\n",
      "        renderingControls.setStyleSheet(\"QGroupBox { margin: 5px; border: 2px groove gray; border-radius: 3px; } QGroupBox::title {left: 15px; top: -7px; font: bold;}\")\n",
      "        renderingControlsLayout = QtGui.QVBoxLayout()\n",
      "        renderingControlsLayout.addWidget(self.playSequenceButton)\n",
      "        renderingControlsLayout.addWidget(self.renderFpsSpinBox)\n",
      "        renderingControlsLayout.addWidget(self.setBackgroundColorButton)\n",
      "        renderingControls.setLayout(renderingControlsLayout)        \n",
      "        \n",
      "        controlsLayout = QtGui.QVBoxLayout()\n",
      "        controlsLayout.addWidget(renderingControls)\n",
      "        \n",
      "        frameHLayout = QtGui.QHBoxLayout()\n",
      "        frameHLayout.addStretch()\n",
      "        frameHLayout.addWidget(self.frameLabel)\n",
      "        frameHLayout.addStretch()\n",
      "        \n",
      "        frameVLayout = QtGui.QVBoxLayout()\n",
      "        frameVLayout.addStretch()\n",
      "        frameVLayout.addLayout(frameHLayout)\n",
      "        frameVLayout.addStretch()\n",
      "        frameVLayout.addWidget(self.frameInfo)\n",
      "        \n",
      "        mainLayout.addLayout(controlsLayout)\n",
      "        mainLayout.addLayout(frameVLayout)\n",
      "        self.setLayout(mainLayout)"
     ],
     "language": "python",
     "metadata": {},
     "outputs": [],
     "prompt_number": 125
    },
    {
     "cell_type": "code",
     "collapsed": false,
     "input": [
      "window = Window()\n",
      "window.show()\n",
      "app.exec_()"
     ],
     "language": "python",
     "metadata": {},
     "outputs": [
      {
       "output_type": "stream",
       "stream": "stdout",
       "text": [
        "show semantics 2\n"
       ]
      },
      {
       "output_type": "stream",
       "stream": "stdout",
       "text": [
        "show semantics 3\n"
       ]
      },
      {
       "output_type": "stream",
       "stream": "stdout",
       "text": [
        "show semantics 2\n"
       ]
      },
      {
       "output_type": "stream",
       "stream": "stdout",
       "text": [
        "show semantics 1\n"
       ]
      },
      {
       "output_type": "stream",
       "stream": "stdout",
       "text": [
        "show semantics 0\n"
       ]
      },
      {
       "output_type": "stream",
       "stream": "stdout",
       "text": [
        "show semantics 1\n"
       ]
      },
      {
       "output_type": "stream",
       "stream": "stdout",
       "text": [
        "show semantics 2\n"
       ]
      },
      {
       "output_type": "stream",
       "stream": "stdout",
       "text": [
        "show semantics 3\n"
       ]
      },
      {
       "output_type": "stream",
       "stream": "stdout",
       "text": [
        "closing\n"
       ]
      },
      {
       "metadata": {},
       "output_type": "pyout",
       "prompt_number": 136,
       "text": [
        "0"
       ]
      }
     ],
     "prompt_number": 136
    },
    {
     "cell_type": "code",
     "collapsed": false,
     "input": [
      "im = window.spriteListTable.itemDelegateForRow(11).iconImage\n",
      "qim = QtGui.QImage(im.data, im.shape[1], im.shape[0], im.strides[0], QtGui.QImage.Format_ARGB32)\n",
      "qim.save(\"tralala.png\")"
     ],
     "language": "python",
     "metadata": {},
     "outputs": [
      {
       "metadata": {},
       "output_type": "pyout",
       "prompt_number": 534,
       "text": [
        "True"
       ]
      }
     ],
     "prompt_number": 534
    }
   ],
   "metadata": {}
  }
 ]
}