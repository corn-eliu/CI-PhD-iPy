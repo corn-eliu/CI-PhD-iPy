{
 "metadata": {
  "name": "",
  "signature": "sha256:f0ca8690d79af6baa4c443292377f30eb59bc93155ed27a382aa457163ddade5"
 },
 "nbformat": 3,
 "nbformat_minor": 0,
 "worksheets": [
  {
   "cells": [
    {
     "cell_type": "code",
     "collapsed": false,
     "input": [
      "%pylab\n",
      "import numpy as np\n",
      "import sys\n",
      "\n",
      "import cv2\n",
      "import time\n",
      "import os\n",
      "import scipy.io as sio\n",
      "import glob\n",
      "\n",
      "\n",
      "from PIL import Image"
     ],
     "language": "python",
     "metadata": {},
     "outputs": [
      {
       "output_type": "stream",
       "stream": "stdout",
       "text": [
        "Using matplotlib backend: TkAgg\n",
        "Populating the interactive namespace from numpy and matplotlib\n"
       ]
      }
     ],
     "prompt_number": 1
    },
    {
     "cell_type": "code",
     "collapsed": false,
     "input": [
      "# dataPath = \"/home/ilisescu/PhD/data/\"\n",
      "# dataSet = \"havana/\"\n",
      "dataPath = \"/media/ilisescu/Data1/PhD/data/\"\n",
      "# dataSet = \"clouds_subsample10/\"#\"clouds/\"\n",
      "# dataSet = \"theme_park_cloudy/\"\n",
      "# dataSet = \"theme_park_sunny/\"\n",
      "# dataSet = \"candle2/\"\n",
      "# dataSet = \"candle3/\"\n",
      "dataSet = \"candle3/stabilized/segmentedAndCropped/potential video texture/\""
     ],
     "language": "python",
     "metadata": {},
     "outputs": [],
     "prompt_number": 29
    },
    {
     "cell_type": "code",
     "collapsed": false,
     "input": [
      "## load dataSet relevant data\n",
      "frameLocs = np.sort(glob.glob(dataPath + dataSet + \"/frame-*.png\"))\n",
      "numOfFrames = len(frameLocs)\n",
      "numOfTrackedSprites = 0\n",
      "print numOfFrames"
     ],
     "language": "python",
     "metadata": {},
     "outputs": [
      {
       "output_type": "stream",
       "stream": "stdout",
       "text": [
        "212\n"
       ]
      }
     ],
     "prompt_number": 37
    },
    {
     "cell_type": "code",
     "collapsed": false,
     "input": [
      "\n",
      "refImage = cv2.Canny(cv2.cvtColor(cv2.imread(frameLocs[0]), cv2.COLOR_BGR2RGB), 50, 200, 3)\n",
      "figure(); imshow(refImage)\n",
      "startRect = np.array([[502, 380], [585, 519]]) ## candle3 potential video texture\n",
      "scatter(startRect[:, 0], startRect[:, 1])"
     ],
     "language": "python",
     "metadata": {},
     "outputs": [
      {
       "metadata": {},
       "output_type": "pyout",
       "prompt_number": 33,
       "text": [
        "<matplotlib.collections.PathCollection at 0x7fca3d31b0d0>"
       ]
      }
     ],
     "prompt_number": 33
    },
    {
     "cell_type": "code",
     "collapsed": false,
     "input": [
      "## get some reference frames and align them together\n",
      "numReferenceFrames = 4\n",
      "# referenceFrameIdxs = arange(0, len(frameLocs), len(frameLocs)/numReferenceFrames)[0:numReferenceFrames]\n",
      "referenceFrameIdxs = [0, 432, 864, 1728]\n",
      "\n",
      "refImage = cv2.Canny(cv2.cvtColor(cv2.imread(frameLocs[referenceFrameIdxs[0]]), cv2.COLOR_BGR2RGB), 50, 200, 3)\n",
      "figure(); imshow(cv2.cvtColor(cv2.imread(frameLocs[referenceFrameIdxs[0]]), cv2.COLOR_BGR2RGB))\n",
      "\n",
      "template = refImage[startRect[0, 1]:startRect[1, 1]+1, startRect[0, 0]:startRect[1, 0]+1]\n",
      "\n",
      "allTemplates = np.zeros((numReferenceFrames, template.shape[0], template.shape[1]))\n",
      "allTemplates[0, :, :] = np.copy(template)\n",
      "\n",
      "for i, j in zip(referenceFrameIdxs[1:], arange(1, numReferenceFrames)) :\n",
      "    nextImage = cv2.cvtColor(cv2.imread(frameLocs[i]), cv2.COLOR_BGR2RGB)\n",
      "    \n",
      "    if usePatch :\n",
      "        convolved = cv2.filter2D(cv2.Canny(nextImage, 50, 200, 3)[matchPatchTopLeft[1]:matchPatchTopLeft[1]+matchPatchSize[1], \n",
      "                                                                  matchPatchTopLeft[0]:matchPatchTopLeft[0]+matchPatchSize[0]], cv2.CV_32F, template)\n",
      "    else :\n",
      "        convolved = cv2.filter2D(cv2.Canny(nextImage, 50, 200, 3), cv2.CV_32F, template)\n",
      "        \n",
      "    minVal, maxVal, minLoc, maxLoc = cv2.minMaxLoc(convolved)\n",
      "    \n",
      "    if usePatch :\n",
      "        maxLoc += matchPatchTopLeft\n",
      "        \n",
      "    loc = maxLoc-np.array([template.shape[1], template.shape[0]])/2\n",
      "    newRect = np.array([loc, loc + np.array([template.shape[1], template.shape[0]])])\n",
      "    newRect[:, 0] = np.clip(newRect[:, 0], 0, nextImage.shape[1]-1)\n",
      "    newRect[:, 1] = np.clip(newRect[:, 1], 0, nextImage.shape[0]-1)\n",
      "    \n",
      "    deltaPixels = startRect[0, :]-newRect[0, :]\n",
      "    \n",
      "    allTemplates[j, :, :] = cv2.warpAffine(cv2.Canny(nextImage, 50, 200, 3), np.array([[1, 0, deltaPixels[0]], \n",
      "                                                     [0, 1, deltaPixels[1]]], dtype=float), \n",
      "                                (nextImage.shape[1], nextImage.shape[0]))[startRect[0, 1]:startRect[1, 1]+1, startRect[0, 0]:startRect[1, 0]+1]\n",
      "    \n",
      "    stabilized = cv2.warpAffine(nextImage, np.array([[1, 0, startRect[0, 0]-newRect[0, 0]], \n",
      "                                                     [0, 1, startRect[0, 1]-newRect[0, 1]]], dtype=float), \n",
      "                                (nextImage.shape[1], nextImage.shape[0]))\n",
      "    figure(); imshow(stabilized)"
     ],
     "language": "python",
     "metadata": {},
     "outputs": [],
     "prompt_number": 133
    },
    {
     "cell_type": "code",
     "collapsed": false,
     "input": [
      "## manually align frame by clicking on corresponding point in images\n",
      "numReferenceFrames = 10\n",
      "referenceFrameIdxs = arange(0, len(frameLocs), len(frameLocs)/numReferenceFrames)[0:numReferenceFrames]\n",
      "\n",
      "fig = plt.figure()\n",
      "ax = fig.add_subplot(111)\n",
      "ax.imshow(cv2.cvtColor(cv2.imread(frameLocs[referenceFrameIdxs[0]]), cv2.COLOR_BGR2RGB))\n",
      "\n",
      "count = 0\n",
      "\n",
      "def onclick(event):\n",
      "    print \"[\", event.xdata, \",\", event.ydata, \"]\"\n",
      "    global count, ax\n",
      "    count += 1\n",
      "    if count < numReferenceFrames :\n",
      "        ax.imshow(cv2.cvtColor(cv2.imread(frameLocs[referenceFrameIdxs[count]]), cv2.COLOR_BGR2RGB))\n",
      "        show()\n",
      "    else :\n",
      "        print \"done\"\n",
      "    sys.stdout.flush()\n",
      "\n",
      "cid = fig.canvas.mpl_connect('button_press_event', onclick)\n",
      "\n",
      "# for i in referenceFrameIdxs :\n",
      "#     ax.imshow(cv2.cvtColor(cv2.imread(frameLocs[referenceFrameIdxs[0]]), cv2.COLOR_BGR2RGB))"
     ],
     "language": "python",
     "metadata": {},
     "outputs": [],
     "prompt_number": 16
    },
    {
     "cell_type": "code",
     "collapsed": false,
     "input": [
      "## candle2\n",
      "# deltaPixels = np.array([[ 667.887096774 , 688.102150538 ],\n",
      "#                         [ 678.209677419 , 705.306451613 ],\n",
      "#                         [ 678.209677419 , 698.424731183 ],\n",
      "#                         [ 672.188172043 , 684.661290323 ],\n",
      "#                         [ 674.768817204 , 706.166666667 ],\n",
      "#                         [ 676.489247312 , 694.123655914 ],\n",
      "#                         [ 677.349462366 , 698.424731183 ],\n",
      "#                         [ 677.349462366 , 703.865591398 ],\n",
      "#                         [ 673.908602151 , 698.424731183 ],\n",
      "#                         [ 682.930107527 , 686.661290323 ]], dtype= int)\n",
      "## candle3\n",
      "deltaPixels = np.array([[ 567.867346939 , 655.214285714 ],\n",
      "                        [ 561.030612245 , 637.683673469 ],\n",
      "                        [ 561.030612245 , 636.683673469 ],\n",
      "                        [ 560.030612245 , 654.132653061 ],\n",
      "                        [ 561.112244898 , 658.887755102 ],\n",
      "                        [ 559.602040816 , 657.051020408 ],\n",
      "                        [ 561.43877551 , 648.785714286 ],\n",
      "                        [ 557.765306122 , 656.132653061 ],\n",
      "                        [ 567.867346939 , 650.867346939 ],\n",
      "                        [ 562.357142857 , 635.010204082 ]], dtype= int)\n",
      "\n",
      "startRect = np.array([[394, 551], [991, 719]]) ## candle3\n",
      "# startRect = np.array([[394, 651], [991, 719]]) ## candle3\n",
      "deltaPixels = deltaPixels[0, :] - deltaPixels\n",
      "print deltaPixels\n",
      "\n",
      "cannyThreshold1 = 40#50\n",
      "cannyThreshold2 = 100#200\n",
      "refImage = cv2.Canny(cv2.cvtColor(cv2.imread(frameLocs[referenceFrameIdxs[0]]), cv2.COLOR_BGR2RGB), cannyThreshold1, cannyThreshold2, 3)\n",
      "template = refImage[startRect[0, 1]:startRect[1, 1]+1, startRect[0, 0]:startRect[1, 0]+1]\n",
      "\n",
      "allTemplates = np.zeros((numReferenceFrames, template.shape[0], template.shape[1]))\n",
      "# allTemplates[0, :, :] = np.copy(template)\n",
      "\n",
      "for i in xrange(len(deltaPixels)) :\n",
      "    print i\n",
      "    refImage = cv2.cvtColor(cv2.imread(frameLocs[referenceFrameIdxs[i]]), cv2.COLOR_BGR2RGB)\n",
      "    \n",
      "    allTemplates[i, :, :] = cv2.warpAffine(cv2.Canny(refImage, cannyThreshold1, cannyThreshold2, 3), np.array([[1, 0, deltaPixels[i, 0]], \n",
      "                                                     [0, 1, deltaPixels[i, 1]]], dtype=float), \n",
      "                                (refImage.shape[1], refImage.shape[0]))[startRect[0, 1]:startRect[1, 1]+1, startRect[0, 0]:startRect[1, 0]+1]"
     ],
     "language": "python",
     "metadata": {},
     "outputs": [
      {
       "output_type": "stream",
       "stream": "stdout",
       "text": [
        "[[ 0  0]\n",
        " [ 6 18]\n",
        " [ 6 19]\n",
        " [ 7  1]\n",
        " [ 6 -3]\n",
        " [ 8 -2]\n",
        " [ 6  7]\n",
        " [10 -1]\n",
        " [ 0  5]\n",
        " [ 5 20]]\n",
        "0\n",
        "1"
       ]
      },
      {
       "output_type": "stream",
       "stream": "stdout",
       "text": [
        "\n",
        "2\n",
        "3\n",
        "4"
       ]
      },
      {
       "output_type": "stream",
       "stream": "stdout",
       "text": [
        "\n",
        "5\n",
        "6\n",
        "7"
       ]
      },
      {
       "output_type": "stream",
       "stream": "stdout",
       "text": [
        "\n",
        "8\n",
        "9\n"
       ]
      }
     ],
     "prompt_number": 22
    },
    {
     "cell_type": "code",
     "collapsed": false,
     "input": [
      "figure(); imshow(allTemplates[1, :, :])"
     ],
     "language": "python",
     "metadata": {},
     "outputs": [
      {
       "metadata": {},
       "output_type": "pyout",
       "prompt_number": 23,
       "text": [
        "<matplotlib.image.AxesImage at 0x7fca3ce4d8d0>"
       ]
      }
     ],
     "prompt_number": 23
    },
    {
     "cell_type": "code",
     "collapsed": false,
     "input": [
      "# for template in allTemplates :\n",
      "#     figure(), imshow(template, interpolation='nearest')\n",
      "for i in xrange(len(deltaPixels)) :\n",
      "    print i\n",
      "    refImage = cv2.cvtColor(cv2.imread(frameLocs[referenceFrameIdxs[i]]), cv2.COLOR_BGR2RGB)\n",
      "    \n",
      "    stabilized = cv2.warpAffine(refImage, np.array([[1, 0, deltaPixels[i, 0]], \n",
      "                                                     [0, 1, deltaPixels[i, 1]]], dtype=float), \n",
      "                                (refImage.shape[1], refImage.shape[0]))\n",
      "    figure(); imshow(stabilized)"
     ],
     "language": "python",
     "metadata": {},
     "outputs": [
      {
       "output_type": "stream",
       "stream": "stdout",
       "text": [
        "0\n",
        "1"
       ]
      },
      {
       "output_type": "stream",
       "stream": "stdout",
       "text": [
        "\n",
        "2"
       ]
      },
      {
       "output_type": "stream",
       "stream": "stdout",
       "text": [
        "\n",
        "3"
       ]
      },
      {
       "output_type": "stream",
       "stream": "stdout",
       "text": [
        "\n",
        "4"
       ]
      },
      {
       "output_type": "stream",
       "stream": "stdout",
       "text": [
        "\n",
        "5"
       ]
      },
      {
       "output_type": "stream",
       "stream": "stdout",
       "text": [
        "\n",
        "6"
       ]
      },
      {
       "output_type": "stream",
       "stream": "stdout",
       "text": [
        "\n",
        "7"
       ]
      },
      {
       "output_type": "stream",
       "stream": "stdout",
       "text": [
        "\n",
        "8"
       ]
      },
      {
       "output_type": "stream",
       "stream": "stdout",
       "text": [
        "\n",
        "9"
       ]
      },
      {
       "output_type": "stream",
       "stream": "stdout",
       "text": [
        "\n"
       ]
      }
     ],
     "prompt_number": 36
    },
    {
     "cell_type": "code",
     "collapsed": false,
     "input": [
      "# startRect = np.array([[567, 662], [792, 719]]) ## candle2\n",
      "# startRect = np.array([[394, 551], [991, 719]]) ## candle3\n",
      "# startRect = np.array([[394, 651], [991, 719]]) ## candle3\n",
      "deltaPixels = np.zeros(2, dtype=int)\n",
      "# startRect = np.array([[567, 625], [752, 719]])\n",
      "matchPatchTopLeft = np.array([500, 600])\n",
      "matchPatchSize = np.array([350, 120])\n",
      "usePatch = False\n",
      "if usePatch :\n",
      "    print \"Convolving only in a patch\"\n",
      "else :\n",
      "    print \"Convolving against full image\"\n",
      "\n",
      "if not os.path.isdir(dataPath+dataSet+\"stabilized\") :\n",
      "    os.mkdir(dataPath+dataSet+\"stabilized\")\n",
      "\n",
      "Image.fromarray(np.array(cv2.cvtColor(cv2.imread(frameLocs[0]), cv2.COLOR_BGR2RGB), dtype=np.uint8)).save(dataPath+dataSet+\"stabilized/frame-00001.png\")\n",
      "\n",
      "# refImage = cv2.Canny(cv2.cvtColor(cv2.imread(dataPath+dataSet+\"frame-{0:05}.png\".format(1)), cv2.COLOR_BGR2RGB), 50, 200, 3)\n",
      "# template = refImage[startRect[0, 1]:startRect[1, 1]+1, startRect[0, 0]:startRect[1, 0]+1]\n",
      "\n",
      "# refImage = cv2.cvtColor(cv2.imread(dataPath+dataSet+\"stabilized/frame-{0:05}.png\".format(1)), cv2.COLOR_BGR2RGB)\n",
      "for i in xrange(len(frameLocs)-1) : # 630, 650) :\n",
      "    ## refImage is where I get the template from\n",
      "    ## I first get the normal image, get its canny edges and then move it by however much I moved it earlier\n",
      "    ## this way I don't get the extra edges beteween the edge of the image and the zeros the stabilized \n",
      "    ## image gets filled with where tehre are no colors\n",
      "#     refImage = cv2.cvtColor(cv2.imread(dataPath+dataSet+\"stabilized/frame-{0:05}.png\".format(i+1)), cv2.COLOR_BGR2RGB)\n",
      "    refImage = cv2.Canny(cv2.cvtColor(cv2.imread(dataPath+dataSet+\"frame-{0:05}.png\".format(i+1)), cv2.COLOR_BGR2RGB), cannyThreshold1, cannyThreshold2, 3)\n",
      "#     refImage = cv2.Laplacian(cv2.cvtColor(cv2.imread(dataPath+dataSet+\"frame-{0:05}.png\".format(i+1)), cv2.COLOR_BGR2GRAY), cv2.CV_16S, ksize=3, scale=1, delta=0)\n",
      "    refImage = cv2.warpAffine(refImage, np.array([[1, 0, deltaPixels[0]], \n",
      "                                                     [0, 1, deltaPixels[1]]], dtype=float), \n",
      "                                (refImage.shape[1], refImage.shape[0]))\n",
      "    templatePrev = refImage[startRect[0, 1]:startRect[1, 1]+1, startRect[0, 0]:startRect[1, 0]+1]\n",
      "    \n",
      "    \n",
      "    nextImage = cv2.cvtColor(cv2.imread(dataPath+dataSet+\"frame-{0:05}.png\".format(i+2)), cv2.COLOR_BGR2RGB)\n",
      "\n",
      "#     template = cv2.Canny(refImage, 50, 200, 3)[startRect[0, 1]:startRect[1, 1]+1, startRect[0, 0]:startRect[1, 0]+1]\n",
      "#     figure(); imshow(refImage)\n",
      "#     figure(); imshow(nextImage)\n",
      "#     figure(); imshow(template)\n",
      "    currentMax = 0\n",
      "    count = 0\n",
      "    usedTemplate = 0\n",
      "    for template in templatePrev.reshape((1, templatePrev.shape[0], templatePrev.shape[1])) :#allTemplates :\n",
      "#     for template in allTemplates :\n",
      "#     for template in np.concatenate((allTemplates, templatePrev.reshape((1, templatePrev.shape[0], templatePrev.shape[1])))) :\n",
      "\n",
      "        if usePatch :\n",
      "            convolved = cv2.filter2D(cv2.Canny(nextImage, cannyThreshold1, cannyThreshold2, 3)[matchPatchTopLeft[1]:matchPatchTopLeft[1]+matchPatchSize[1], \n",
      "                                                                      matchPatchTopLeft[0]:matchPatchTopLeft[0]+matchPatchSize[0]], cv2.CV_32F, template)\n",
      "    #         convolved = cv2.filter2D(cv2.Laplacian(cv2.cvtColor(nextImage, cv2.COLOR_RGB2GRAY), cv2.CV_16S, ksize=3, scale=1, delta=0)[matchPatchTopLeft[1]:matchPatchTopLeft[1]+matchPatchSize[1], \n",
      "    #                                                                   matchPatchTopLeft[0]:matchPatchTopLeft[0]+matchPatchSize[0]], cv2.CV_32F, template)\n",
      "        else :\n",
      "            convolved = cv2.filter2D(cv2.Canny(nextImage, cannyThreshold1, cannyThreshold2, 3), cv2.CV_32F, template)\n",
      "    #         convolved = cv2.filter2D(cv2.Laplacian(cv2.cvtColor(nextImage, cv2.COLOR_RGB2GRAY), cv2.CV_16S, ksize=3, scale=1, delta=0), cv2.CV_32F, template)\n",
      "\n",
      "        minVal, maxVal, minLoc, maxLoc = cv2.minMaxLoc(convolved)\n",
      "    \n",
      "        if usePatch :\n",
      "            maxLoc += matchPatchTopLeft\n",
      "            \n",
      "#         print maxVal\n",
      "        if currentMax < maxVal :\n",
      "            usedTemplate = count\n",
      "            currentMax = maxVal\n",
      "            loc = maxLoc-np.array([template.shape[1], template.shape[0]])/2\n",
      "            \n",
      "        count += 1\n",
      "        \n",
      "    newRect = np.array([loc, loc + np.array([template.shape[1], template.shape[0]])])\n",
      "#     print template.shape\n",
      "#     print minVal, maxVal, minLoc, maxLoc\n",
      "#     print newRect\n",
      "    newRect[:, 0] = np.clip(newRect[:, 0], 0, nextImage.shape[1]-1)\n",
      "    newRect[:, 1] = np.clip(newRect[:, 1], 0, nextImage.shape[0]-1)\n",
      "    \n",
      "    ######### find the pixels which will be set as zero by warpAffine because the original image was moved #########\n",
      "    \n",
      "    deltaPixels = startRect[0, :]-newRect[0, :]\n",
      "        \n",
      "    ########################### warp the nextImage by moving it to match the found newRect ###########################\n",
      "    \n",
      "    stabilized = cv2.warpAffine(nextImage, np.array([[1, 0, startRect[0, 0]-newRect[0, 0]], \n",
      "                                                     [0, 1, startRect[0, 1]-newRect[0, 1]]], dtype=float), \n",
      "                                (nextImage.shape[1], nextImage.shape[0]))\n",
      "#     print newRect\n",
      "#     figure(); imshow(zeroPixels, interpolation='nearest')\n",
      "#     figure(); imshow(stabilized)\n",
      "    \n",
      "#     startRect = np.copy(newRect)\n",
      "    sys.stdout.write('\\r' + \"Stabilized image \" + np.string_(i+1) + \" of \" + np.string_(len(frameLocs)-1) + \" using template \" + np.string_(usedTemplate))\n",
      "    sys.stdout.flush()\n",
      "    \n",
      "    Image.fromarray(np.array(stabilized, dtype=np.uint8)).save(dataPath+dataSet+\"stabilized/frame-{0:05}.png\".format(i+2))\n",
      "    \n",
      "\n",
      "#     method = cv2.TM_CCORR_NORMED\n",
      "\n",
      "#     matches = cv2.matchTemplate(nextImage, template, method)\n",
      "#     figure(); imshow(matches)\n",
      "\n",
      "#     minVal, maxVal, minLoc, maxLoc = cv2.minMaxLoc(matches)\n",
      "#     print minVal, maxVal, minLoc, maxLoc\n",
      "\n",
      "#     if method == cv2.TM_SQDIFF or method == cv2.TM_SQDIFF_NORMED :\n",
      "#         loc = minLoc\n",
      "#     else :\n",
      "#         loc = maxLoc\n",
      "\n",
      "#     bbox = np.array([[loc[0], loc[1]], \n",
      "#                      [loc[0]+template.shape[1], loc[1]], \n",
      "#                      [loc[0]+template.shape[1], loc[1]+template.shape[0]], \n",
      "#                      [loc[0], loc[1]+template.shape[0]]])\n",
      "\n",
      "#     figure(); imshow(nextImage)\n",
      "#     plot(bbox[[0, 1, 2, 3, 0], 0], bbox[[0, 1, 2, 3, 0], 1])"
     ],
     "language": "python",
     "metadata": {},
     "outputs": [
      {
       "output_type": "stream",
       "stream": "stdout",
       "text": [
        "Convolving against full image\n",
        "\r",
        "Stabilized image 1 of 211 using template 0"
       ]
      },
      {
       "output_type": "stream",
       "stream": "stdout",
       "text": [
        "\r",
        "Stabilized image 2 of 211 using template 0"
       ]
      },
      {
       "output_type": "stream",
       "stream": "stdout",
       "text": [
        "\r",
        "Stabilized image 3 of 211 using template 0"
       ]
      },
      {
       "output_type": "stream",
       "stream": "stdout",
       "text": [
        "\r",
        "Stabilized image 4 of 211 using template 0"
       ]
      },
      {
       "output_type": "stream",
       "stream": "stdout",
       "text": [
        "\r",
        "Stabilized image 5 of 211 using template 0"
       ]
      },
      {
       "output_type": "stream",
       "stream": "stdout",
       "text": [
        "\r",
        "Stabilized image 6 of 211 using template 0"
       ]
      },
      {
       "output_type": "stream",
       "stream": "stdout",
       "text": [
        "\r",
        "Stabilized image 7 of 211 using template 0"
       ]
      },
      {
       "output_type": "stream",
       "stream": "stdout",
       "text": [
        "\r",
        "Stabilized image 8 of 211 using template 0"
       ]
      },
      {
       "output_type": "stream",
       "stream": "stdout",
       "text": [
        "\r",
        "Stabilized image 9 of 211 using template 0"
       ]
      },
      {
       "output_type": "stream",
       "stream": "stdout",
       "text": [
        "\r",
        "Stabilized image 10 of 211 using template 0"
       ]
      },
      {
       "output_type": "stream",
       "stream": "stdout",
       "text": [
        "\r",
        "Stabilized image 11 of 211 using template 0"
       ]
      },
      {
       "output_type": "stream",
       "stream": "stdout",
       "text": [
        "\r",
        "Stabilized image 12 of 211 using template 0"
       ]
      },
      {
       "output_type": "stream",
       "stream": "stdout",
       "text": [
        "\r",
        "Stabilized image 13 of 211 using template 0"
       ]
      },
      {
       "output_type": "stream",
       "stream": "stdout",
       "text": [
        "\r",
        "Stabilized image 14 of 211 using template 0"
       ]
      },
      {
       "output_type": "stream",
       "stream": "stdout",
       "text": [
        "\r",
        "Stabilized image 15 of 211 using template 0"
       ]
      },
      {
       "output_type": "stream",
       "stream": "stdout",
       "text": [
        "\r",
        "Stabilized image 16 of 211 using template 0"
       ]
      },
      {
       "output_type": "stream",
       "stream": "stdout",
       "text": [
        "\r",
        "Stabilized image 17 of 211 using template 0"
       ]
      },
      {
       "output_type": "stream",
       "stream": "stdout",
       "text": [
        "\r",
        "Stabilized image 18 of 211 using template 0"
       ]
      },
      {
       "output_type": "stream",
       "stream": "stdout",
       "text": [
        "\r",
        "Stabilized image 19 of 211 using template 0"
       ]
      },
      {
       "output_type": "stream",
       "stream": "stdout",
       "text": [
        "\r",
        "Stabilized image 20 of 211 using template 0"
       ]
      },
      {
       "output_type": "stream",
       "stream": "stdout",
       "text": [
        "\r",
        "Stabilized image 21 of 211 using template 0"
       ]
      },
      {
       "output_type": "stream",
       "stream": "stdout",
       "text": [
        "\r",
        "Stabilized image 22 of 211 using template 0"
       ]
      },
      {
       "output_type": "stream",
       "stream": "stdout",
       "text": [
        "\r",
        "Stabilized image 23 of 211 using template 0"
       ]
      },
      {
       "output_type": "stream",
       "stream": "stdout",
       "text": [
        "\r",
        "Stabilized image 24 of 211 using template 0"
       ]
      },
      {
       "output_type": "stream",
       "stream": "stdout",
       "text": [
        "\r",
        "Stabilized image 25 of 211 using template 0"
       ]
      },
      {
       "output_type": "stream",
       "stream": "stdout",
       "text": [
        "\r",
        "Stabilized image 26 of 211 using template 0"
       ]
      },
      {
       "output_type": "stream",
       "stream": "stdout",
       "text": [
        "\r",
        "Stabilized image 27 of 211 using template 0"
       ]
      },
      {
       "output_type": "stream",
       "stream": "stdout",
       "text": [
        "\r",
        "Stabilized image 28 of 211 using template 0"
       ]
      },
      {
       "output_type": "stream",
       "stream": "stdout",
       "text": [
        "\r",
        "Stabilized image 29 of 211 using template 0"
       ]
      },
      {
       "output_type": "stream",
       "stream": "stdout",
       "text": [
        "\r",
        "Stabilized image 30 of 211 using template 0"
       ]
      },
      {
       "output_type": "stream",
       "stream": "stdout",
       "text": [
        "\r",
        "Stabilized image 31 of 211 using template 0"
       ]
      },
      {
       "output_type": "stream",
       "stream": "stdout",
       "text": [
        "\r",
        "Stabilized image 32 of 211 using template 0"
       ]
      },
      {
       "output_type": "stream",
       "stream": "stdout",
       "text": [
        "\r",
        "Stabilized image 33 of 211 using template 0"
       ]
      },
      {
       "output_type": "stream",
       "stream": "stdout",
       "text": [
        "\r",
        "Stabilized image 34 of 211 using template 0"
       ]
      },
      {
       "output_type": "stream",
       "stream": "stdout",
       "text": [
        "\r",
        "Stabilized image 35 of 211 using template 0"
       ]
      },
      {
       "output_type": "stream",
       "stream": "stdout",
       "text": [
        "\r",
        "Stabilized image 36 of 211 using template 0"
       ]
      },
      {
       "output_type": "stream",
       "stream": "stdout",
       "text": [
        "\r",
        "Stabilized image 37 of 211 using template 0"
       ]
      },
      {
       "output_type": "stream",
       "stream": "stdout",
       "text": [
        "\r",
        "Stabilized image 38 of 211 using template 0"
       ]
      },
      {
       "output_type": "stream",
       "stream": "stdout",
       "text": [
        "\r",
        "Stabilized image 39 of 211 using template 0"
       ]
      },
      {
       "output_type": "stream",
       "stream": "stdout",
       "text": [
        "\r",
        "Stabilized image 40 of 211 using template 0"
       ]
      },
      {
       "output_type": "stream",
       "stream": "stdout",
       "text": [
        "\r",
        "Stabilized image 41 of 211 using template 0"
       ]
      },
      {
       "output_type": "stream",
       "stream": "stdout",
       "text": [
        "\r",
        "Stabilized image 42 of 211 using template 0"
       ]
      },
      {
       "output_type": "stream",
       "stream": "stdout",
       "text": [
        "\r",
        "Stabilized image 43 of 211 using template 0"
       ]
      },
      {
       "output_type": "stream",
       "stream": "stdout",
       "text": [
        "\r",
        "Stabilized image 44 of 211 using template 0"
       ]
      },
      {
       "output_type": "stream",
       "stream": "stdout",
       "text": [
        "\r",
        "Stabilized image 45 of 211 using template 0"
       ]
      },
      {
       "output_type": "stream",
       "stream": "stdout",
       "text": [
        "\r",
        "Stabilized image 46 of 211 using template 0"
       ]
      },
      {
       "output_type": "stream",
       "stream": "stdout",
       "text": [
        "\r",
        "Stabilized image 47 of 211 using template 0"
       ]
      },
      {
       "output_type": "stream",
       "stream": "stdout",
       "text": [
        "\r",
        "Stabilized image 48 of 211 using template 0"
       ]
      },
      {
       "output_type": "stream",
       "stream": "stdout",
       "text": [
        "\r",
        "Stabilized image 49 of 211 using template 0"
       ]
      },
      {
       "output_type": "stream",
       "stream": "stdout",
       "text": [
        "\r",
        "Stabilized image 50 of 211 using template 0"
       ]
      },
      {
       "output_type": "stream",
       "stream": "stdout",
       "text": [
        "\r",
        "Stabilized image 51 of 211 using template 0"
       ]
      },
      {
       "output_type": "stream",
       "stream": "stdout",
       "text": [
        "\r",
        "Stabilized image 52 of 211 using template 0"
       ]
      },
      {
       "output_type": "stream",
       "stream": "stdout",
       "text": [
        "\r",
        "Stabilized image 53 of 211 using template 0"
       ]
      },
      {
       "output_type": "stream",
       "stream": "stdout",
       "text": [
        "\r",
        "Stabilized image 54 of 211 using template 0"
       ]
      },
      {
       "output_type": "stream",
       "stream": "stdout",
       "text": [
        "\r",
        "Stabilized image 55 of 211 using template 0"
       ]
      },
      {
       "output_type": "stream",
       "stream": "stdout",
       "text": [
        "\r",
        "Stabilized image 56 of 211 using template 0"
       ]
      },
      {
       "output_type": "stream",
       "stream": "stdout",
       "text": [
        "\r",
        "Stabilized image 57 of 211 using template 0"
       ]
      },
      {
       "output_type": "stream",
       "stream": "stdout",
       "text": [
        "\r",
        "Stabilized image 58 of 211 using template 0"
       ]
      },
      {
       "output_type": "stream",
       "stream": "stdout",
       "text": [
        "\r",
        "Stabilized image 59 of 211 using template 0"
       ]
      },
      {
       "output_type": "stream",
       "stream": "stdout",
       "text": [
        "\r",
        "Stabilized image 60 of 211 using template 0"
       ]
      },
      {
       "output_type": "stream",
       "stream": "stdout",
       "text": [
        "\r",
        "Stabilized image 61 of 211 using template 0"
       ]
      },
      {
       "output_type": "stream",
       "stream": "stdout",
       "text": [
        "\r",
        "Stabilized image 62 of 211 using template 0"
       ]
      },
      {
       "output_type": "stream",
       "stream": "stdout",
       "text": [
        "\r",
        "Stabilized image 63 of 211 using template 0"
       ]
      },
      {
       "output_type": "stream",
       "stream": "stdout",
       "text": [
        "\r",
        "Stabilized image 64 of 211 using template 0"
       ]
      },
      {
       "output_type": "stream",
       "stream": "stdout",
       "text": [
        "\r",
        "Stabilized image 65 of 211 using template 0"
       ]
      },
      {
       "output_type": "stream",
       "stream": "stdout",
       "text": [
        "\r",
        "Stabilized image 66 of 211 using template 0"
       ]
      },
      {
       "output_type": "stream",
       "stream": "stdout",
       "text": [
        "\r",
        "Stabilized image 67 of 211 using template 0"
       ]
      },
      {
       "output_type": "stream",
       "stream": "stdout",
       "text": [
        "\r",
        "Stabilized image 68 of 211 using template 0"
       ]
      },
      {
       "output_type": "stream",
       "stream": "stdout",
       "text": [
        "\r",
        "Stabilized image 69 of 211 using template 0"
       ]
      },
      {
       "output_type": "stream",
       "stream": "stdout",
       "text": [
        "\r",
        "Stabilized image 70 of 211 using template 0"
       ]
      },
      {
       "output_type": "stream",
       "stream": "stdout",
       "text": [
        "\r",
        "Stabilized image 71 of 211 using template 0"
       ]
      },
      {
       "output_type": "stream",
       "stream": "stdout",
       "text": [
        "\r",
        "Stabilized image 72 of 211 using template 0"
       ]
      },
      {
       "output_type": "stream",
       "stream": "stdout",
       "text": [
        "\r",
        "Stabilized image 73 of 211 using template 0"
       ]
      },
      {
       "output_type": "stream",
       "stream": "stdout",
       "text": [
        "\r",
        "Stabilized image 74 of 211 using template 0"
       ]
      },
      {
       "output_type": "stream",
       "stream": "stdout",
       "text": [
        "\r",
        "Stabilized image 75 of 211 using template 0"
       ]
      },
      {
       "output_type": "stream",
       "stream": "stdout",
       "text": [
        "\r",
        "Stabilized image 76 of 211 using template 0"
       ]
      },
      {
       "output_type": "stream",
       "stream": "stdout",
       "text": [
        "\r",
        "Stabilized image 77 of 211 using template 0"
       ]
      },
      {
       "output_type": "stream",
       "stream": "stdout",
       "text": [
        "\r",
        "Stabilized image 78 of 211 using template 0"
       ]
      },
      {
       "output_type": "stream",
       "stream": "stdout",
       "text": [
        "\r",
        "Stabilized image 79 of 211 using template 0"
       ]
      },
      {
       "output_type": "stream",
       "stream": "stdout",
       "text": [
        "\r",
        "Stabilized image 80 of 211 using template 0"
       ]
      },
      {
       "output_type": "stream",
       "stream": "stdout",
       "text": [
        "\r",
        "Stabilized image 81 of 211 using template 0"
       ]
      },
      {
       "output_type": "stream",
       "stream": "stdout",
       "text": [
        "\r",
        "Stabilized image 82 of 211 using template 0"
       ]
      },
      {
       "output_type": "stream",
       "stream": "stdout",
       "text": [
        "\r",
        "Stabilized image 83 of 211 using template 0"
       ]
      },
      {
       "output_type": "stream",
       "stream": "stdout",
       "text": [
        "\r",
        "Stabilized image 84 of 211 using template 0"
       ]
      },
      {
       "output_type": "stream",
       "stream": "stdout",
       "text": [
        "\r",
        "Stabilized image 85 of 211 using template 0"
       ]
      },
      {
       "output_type": "stream",
       "stream": "stdout",
       "text": [
        "\r",
        "Stabilized image 86 of 211 using template 0"
       ]
      },
      {
       "output_type": "stream",
       "stream": "stdout",
       "text": [
        "\r",
        "Stabilized image 87 of 211 using template 0"
       ]
      },
      {
       "output_type": "stream",
       "stream": "stdout",
       "text": [
        "\r",
        "Stabilized image 88 of 211 using template 0"
       ]
      },
      {
       "output_type": "stream",
       "stream": "stdout",
       "text": [
        "\r",
        "Stabilized image 89 of 211 using template 0"
       ]
      },
      {
       "output_type": "stream",
       "stream": "stdout",
       "text": [
        "\r",
        "Stabilized image 90 of 211 using template 0"
       ]
      },
      {
       "output_type": "stream",
       "stream": "stdout",
       "text": [
        "\r",
        "Stabilized image 91 of 211 using template 0"
       ]
      },
      {
       "output_type": "stream",
       "stream": "stdout",
       "text": [
        "\r",
        "Stabilized image 92 of 211 using template 0"
       ]
      },
      {
       "output_type": "stream",
       "stream": "stdout",
       "text": [
        "\r",
        "Stabilized image 93 of 211 using template 0"
       ]
      },
      {
       "output_type": "stream",
       "stream": "stdout",
       "text": [
        "\r",
        "Stabilized image 94 of 211 using template 0"
       ]
      },
      {
       "output_type": "stream",
       "stream": "stdout",
       "text": [
        "\r",
        "Stabilized image 95 of 211 using template 0"
       ]
      },
      {
       "output_type": "stream",
       "stream": "stdout",
       "text": [
        "\r",
        "Stabilized image 96 of 211 using template 0"
       ]
      },
      {
       "output_type": "stream",
       "stream": "stdout",
       "text": [
        "\r",
        "Stabilized image 97 of 211 using template 0"
       ]
      },
      {
       "output_type": "stream",
       "stream": "stdout",
       "text": [
        "\r",
        "Stabilized image 98 of 211 using template 0"
       ]
      },
      {
       "output_type": "stream",
       "stream": "stdout",
       "text": [
        "\r",
        "Stabilized image 99 of 211 using template 0"
       ]
      },
      {
       "output_type": "stream",
       "stream": "stdout",
       "text": [
        "\r",
        "Stabilized image 100 of 211 using template 0"
       ]
      },
      {
       "output_type": "stream",
       "stream": "stdout",
       "text": [
        "\r",
        "Stabilized image 101 of 211 using template 0"
       ]
      },
      {
       "output_type": "stream",
       "stream": "stdout",
       "text": [
        "\r",
        "Stabilized image 102 of 211 using template 0"
       ]
      },
      {
       "output_type": "stream",
       "stream": "stdout",
       "text": [
        "\r",
        "Stabilized image 103 of 211 using template 0"
       ]
      },
      {
       "output_type": "stream",
       "stream": "stdout",
       "text": [
        "\r",
        "Stabilized image 104 of 211 using template 0"
       ]
      },
      {
       "output_type": "stream",
       "stream": "stdout",
       "text": [
        "\r",
        "Stabilized image 105 of 211 using template 0"
       ]
      },
      {
       "output_type": "stream",
       "stream": "stdout",
       "text": [
        "\r",
        "Stabilized image 106 of 211 using template 0"
       ]
      },
      {
       "output_type": "stream",
       "stream": "stdout",
       "text": [
        "\r",
        "Stabilized image 107 of 211 using template 0"
       ]
      },
      {
       "output_type": "stream",
       "stream": "stdout",
       "text": [
        "\r",
        "Stabilized image 108 of 211 using template 0"
       ]
      },
      {
       "output_type": "stream",
       "stream": "stdout",
       "text": [
        "\r",
        "Stabilized image 109 of 211 using template 0"
       ]
      },
      {
       "output_type": "stream",
       "stream": "stdout",
       "text": [
        "\r",
        "Stabilized image 110 of 211 using template 0"
       ]
      },
      {
       "output_type": "stream",
       "stream": "stdout",
       "text": [
        "\r",
        "Stabilized image 111 of 211 using template 0"
       ]
      },
      {
       "output_type": "stream",
       "stream": "stdout",
       "text": [
        "\r",
        "Stabilized image 112 of 211 using template 0"
       ]
      },
      {
       "output_type": "stream",
       "stream": "stdout",
       "text": [
        "\r",
        "Stabilized image 113 of 211 using template 0"
       ]
      },
      {
       "output_type": "stream",
       "stream": "stdout",
       "text": [
        "\r",
        "Stabilized image 114 of 211 using template 0"
       ]
      },
      {
       "output_type": "stream",
       "stream": "stdout",
       "text": [
        "\r",
        "Stabilized image 115 of 211 using template 0"
       ]
      },
      {
       "output_type": "stream",
       "stream": "stdout",
       "text": [
        "\r",
        "Stabilized image 116 of 211 using template 0"
       ]
      },
      {
       "output_type": "stream",
       "stream": "stdout",
       "text": [
        "\r",
        "Stabilized image 117 of 211 using template 0"
       ]
      },
      {
       "output_type": "stream",
       "stream": "stdout",
       "text": [
        "\r",
        "Stabilized image 118 of 211 using template 0"
       ]
      },
      {
       "output_type": "stream",
       "stream": "stdout",
       "text": [
        "\r",
        "Stabilized image 119 of 211 using template 0"
       ]
      },
      {
       "output_type": "stream",
       "stream": "stdout",
       "text": [
        "\r",
        "Stabilized image 120 of 211 using template 0"
       ]
      },
      {
       "output_type": "stream",
       "stream": "stdout",
       "text": [
        "\r",
        "Stabilized image 121 of 211 using template 0"
       ]
      },
      {
       "output_type": "stream",
       "stream": "stdout",
       "text": [
        "\r",
        "Stabilized image 122 of 211 using template 0"
       ]
      },
      {
       "output_type": "stream",
       "stream": "stdout",
       "text": [
        "\r",
        "Stabilized image 123 of 211 using template 0"
       ]
      },
      {
       "output_type": "stream",
       "stream": "stdout",
       "text": [
        "\r",
        "Stabilized image 124 of 211 using template 0"
       ]
      },
      {
       "output_type": "stream",
       "stream": "stdout",
       "text": [
        "\r",
        "Stabilized image 125 of 211 using template 0"
       ]
      },
      {
       "output_type": "stream",
       "stream": "stdout",
       "text": [
        "\r",
        "Stabilized image 126 of 211 using template 0"
       ]
      },
      {
       "output_type": "stream",
       "stream": "stdout",
       "text": [
        "\r",
        "Stabilized image 127 of 211 using template 0"
       ]
      },
      {
       "output_type": "stream",
       "stream": "stdout",
       "text": [
        "\r",
        "Stabilized image 128 of 211 using template 0"
       ]
      },
      {
       "output_type": "stream",
       "stream": "stdout",
       "text": [
        "\r",
        "Stabilized image 129 of 211 using template 0"
       ]
      },
      {
       "output_type": "stream",
       "stream": "stdout",
       "text": [
        "\r",
        "Stabilized image 130 of 211 using template 0"
       ]
      },
      {
       "output_type": "stream",
       "stream": "stdout",
       "text": [
        "\r",
        "Stabilized image 131 of 211 using template 0"
       ]
      },
      {
       "output_type": "stream",
       "stream": "stdout",
       "text": [
        "\r",
        "Stabilized image 132 of 211 using template 0"
       ]
      },
      {
       "output_type": "stream",
       "stream": "stdout",
       "text": [
        "\r",
        "Stabilized image 133 of 211 using template 0"
       ]
      },
      {
       "output_type": "stream",
       "stream": "stdout",
       "text": [
        "\r",
        "Stabilized image 134 of 211 using template 0"
       ]
      },
      {
       "output_type": "stream",
       "stream": "stdout",
       "text": [
        "\r",
        "Stabilized image 135 of 211 using template 0"
       ]
      },
      {
       "output_type": "stream",
       "stream": "stdout",
       "text": [
        "\r",
        "Stabilized image 136 of 211 using template 0"
       ]
      },
      {
       "output_type": "stream",
       "stream": "stdout",
       "text": [
        "\r",
        "Stabilized image 137 of 211 using template 0"
       ]
      },
      {
       "output_type": "stream",
       "stream": "stdout",
       "text": [
        "\r",
        "Stabilized image 138 of 211 using template 0"
       ]
      },
      {
       "output_type": "stream",
       "stream": "stdout",
       "text": [
        "\r",
        "Stabilized image 139 of 211 using template 0"
       ]
      },
      {
       "output_type": "stream",
       "stream": "stdout",
       "text": [
        "\r",
        "Stabilized image 140 of 211 using template 0"
       ]
      },
      {
       "output_type": "stream",
       "stream": "stdout",
       "text": [
        "\r",
        "Stabilized image 141 of 211 using template 0"
       ]
      },
      {
       "output_type": "stream",
       "stream": "stdout",
       "text": [
        "\r",
        "Stabilized image 142 of 211 using template 0"
       ]
      },
      {
       "output_type": "stream",
       "stream": "stdout",
       "text": [
        "\r",
        "Stabilized image 143 of 211 using template 0"
       ]
      },
      {
       "output_type": "stream",
       "stream": "stdout",
       "text": [
        "\r",
        "Stabilized image 144 of 211 using template 0"
       ]
      },
      {
       "output_type": "stream",
       "stream": "stdout",
       "text": [
        "\r",
        "Stabilized image 145 of 211 using template 0"
       ]
      },
      {
       "output_type": "stream",
       "stream": "stdout",
       "text": [
        "\r",
        "Stabilized image 146 of 211 using template 0"
       ]
      },
      {
       "output_type": "stream",
       "stream": "stdout",
       "text": [
        "\r",
        "Stabilized image 147 of 211 using template 0"
       ]
      },
      {
       "output_type": "stream",
       "stream": "stdout",
       "text": [
        "\r",
        "Stabilized image 148 of 211 using template 0"
       ]
      },
      {
       "output_type": "stream",
       "stream": "stdout",
       "text": [
        "\r",
        "Stabilized image 149 of 211 using template 0"
       ]
      },
      {
       "output_type": "stream",
       "stream": "stdout",
       "text": [
        "\r",
        "Stabilized image 150 of 211 using template 0"
       ]
      },
      {
       "output_type": "stream",
       "stream": "stdout",
       "text": [
        "\r",
        "Stabilized image 151 of 211 using template 0"
       ]
      },
      {
       "output_type": "stream",
       "stream": "stdout",
       "text": [
        "\r",
        "Stabilized image 152 of 211 using template 0"
       ]
      },
      {
       "output_type": "stream",
       "stream": "stdout",
       "text": [
        "\r",
        "Stabilized image 153 of 211 using template 0"
       ]
      },
      {
       "output_type": "stream",
       "stream": "stdout",
       "text": [
        "\r",
        "Stabilized image 154 of 211 using template 0"
       ]
      },
      {
       "output_type": "stream",
       "stream": "stdout",
       "text": [
        "\r",
        "Stabilized image 155 of 211 using template 0"
       ]
      },
      {
       "output_type": "stream",
       "stream": "stdout",
       "text": [
        "\r",
        "Stabilized image 156 of 211 using template 0"
       ]
      },
      {
       "output_type": "stream",
       "stream": "stdout",
       "text": [
        "\r",
        "Stabilized image 157 of 211 using template 0"
       ]
      },
      {
       "output_type": "stream",
       "stream": "stdout",
       "text": [
        "\r",
        "Stabilized image 158 of 211 using template 0"
       ]
      },
      {
       "output_type": "stream",
       "stream": "stdout",
       "text": [
        "\r",
        "Stabilized image 159 of 211 using template 0"
       ]
      },
      {
       "output_type": "stream",
       "stream": "stdout",
       "text": [
        "\r",
        "Stabilized image 160 of 211 using template 0"
       ]
      },
      {
       "output_type": "stream",
       "stream": "stdout",
       "text": [
        "\r",
        "Stabilized image 161 of 211 using template 0"
       ]
      },
      {
       "output_type": "stream",
       "stream": "stdout",
       "text": [
        "\r",
        "Stabilized image 162 of 211 using template 0"
       ]
      },
      {
       "output_type": "stream",
       "stream": "stdout",
       "text": [
        "\r",
        "Stabilized image 163 of 211 using template 0"
       ]
      },
      {
       "output_type": "stream",
       "stream": "stdout",
       "text": [
        "\r",
        "Stabilized image 164 of 211 using template 0"
       ]
      },
      {
       "output_type": "stream",
       "stream": "stdout",
       "text": [
        "\r",
        "Stabilized image 165 of 211 using template 0"
       ]
      },
      {
       "output_type": "stream",
       "stream": "stdout",
       "text": [
        "\r",
        "Stabilized image 166 of 211 using template 0"
       ]
      },
      {
       "output_type": "stream",
       "stream": "stdout",
       "text": [
        "\r",
        "Stabilized image 167 of 211 using template 0"
       ]
      },
      {
       "output_type": "stream",
       "stream": "stdout",
       "text": [
        "\r",
        "Stabilized image 168 of 211 using template 0"
       ]
      },
      {
       "output_type": "stream",
       "stream": "stdout",
       "text": [
        "\r",
        "Stabilized image 169 of 211 using template 0"
       ]
      },
      {
       "output_type": "stream",
       "stream": "stdout",
       "text": [
        "\r",
        "Stabilized image 170 of 211 using template 0"
       ]
      },
      {
       "output_type": "stream",
       "stream": "stdout",
       "text": [
        "\r",
        "Stabilized image 171 of 211 using template 0"
       ]
      },
      {
       "output_type": "stream",
       "stream": "stdout",
       "text": [
        "\r",
        "Stabilized image 172 of 211 using template 0"
       ]
      },
      {
       "output_type": "stream",
       "stream": "stdout",
       "text": [
        "\r",
        "Stabilized image 173 of 211 using template 0"
       ]
      },
      {
       "output_type": "stream",
       "stream": "stdout",
       "text": [
        "\r",
        "Stabilized image 174 of 211 using template 0"
       ]
      },
      {
       "output_type": "stream",
       "stream": "stdout",
       "text": [
        "\r",
        "Stabilized image 175 of 211 using template 0"
       ]
      },
      {
       "output_type": "stream",
       "stream": "stdout",
       "text": [
        "\r",
        "Stabilized image 176 of 211 using template 0"
       ]
      },
      {
       "output_type": "stream",
       "stream": "stdout",
       "text": [
        "\r",
        "Stabilized image 177 of 211 using template 0"
       ]
      },
      {
       "output_type": "stream",
       "stream": "stdout",
       "text": [
        "\r",
        "Stabilized image 178 of 211 using template 0"
       ]
      },
      {
       "output_type": "stream",
       "stream": "stdout",
       "text": [
        "\r",
        "Stabilized image 179 of 211 using template 0"
       ]
      },
      {
       "output_type": "stream",
       "stream": "stdout",
       "text": [
        "\r",
        "Stabilized image 180 of 211 using template 0"
       ]
      },
      {
       "output_type": "stream",
       "stream": "stdout",
       "text": [
        "\r",
        "Stabilized image 181 of 211 using template 0"
       ]
      },
      {
       "output_type": "stream",
       "stream": "stdout",
       "text": [
        "\r",
        "Stabilized image 182 of 211 using template 0"
       ]
      },
      {
       "output_type": "stream",
       "stream": "stdout",
       "text": [
        "\r",
        "Stabilized image 183 of 211 using template 0"
       ]
      },
      {
       "output_type": "stream",
       "stream": "stdout",
       "text": [
        "\r",
        "Stabilized image 184 of 211 using template 0"
       ]
      },
      {
       "output_type": "stream",
       "stream": "stdout",
       "text": [
        "\r",
        "Stabilized image 185 of 211 using template 0"
       ]
      },
      {
       "output_type": "stream",
       "stream": "stdout",
       "text": [
        "\r",
        "Stabilized image 186 of 211 using template 0"
       ]
      },
      {
       "output_type": "stream",
       "stream": "stdout",
       "text": [
        "\r",
        "Stabilized image 187 of 211 using template 0"
       ]
      },
      {
       "output_type": "stream",
       "stream": "stdout",
       "text": [
        "\r",
        "Stabilized image 188 of 211 using template 0"
       ]
      },
      {
       "output_type": "stream",
       "stream": "stdout",
       "text": [
        "\r",
        "Stabilized image 189 of 211 using template 0"
       ]
      },
      {
       "output_type": "stream",
       "stream": "stdout",
       "text": [
        "\r",
        "Stabilized image 190 of 211 using template 0"
       ]
      },
      {
       "output_type": "stream",
       "stream": "stdout",
       "text": [
        "\r",
        "Stabilized image 191 of 211 using template 0"
       ]
      },
      {
       "output_type": "stream",
       "stream": "stdout",
       "text": [
        "\r",
        "Stabilized image 192 of 211 using template 0"
       ]
      },
      {
       "output_type": "stream",
       "stream": "stdout",
       "text": [
        "\r",
        "Stabilized image 193 of 211 using template 0"
       ]
      },
      {
       "output_type": "stream",
       "stream": "stdout",
       "text": [
        "\r",
        "Stabilized image 194 of 211 using template 0"
       ]
      },
      {
       "output_type": "stream",
       "stream": "stdout",
       "text": [
        "\r",
        "Stabilized image 195 of 211 using template 0"
       ]
      },
      {
       "output_type": "stream",
       "stream": "stdout",
       "text": [
        "\r",
        "Stabilized image 196 of 211 using template 0"
       ]
      },
      {
       "output_type": "stream",
       "stream": "stdout",
       "text": [
        "\r",
        "Stabilized image 197 of 211 using template 0"
       ]
      },
      {
       "output_type": "stream",
       "stream": "stdout",
       "text": [
        "\r",
        "Stabilized image 198 of 211 using template 0"
       ]
      },
      {
       "output_type": "stream",
       "stream": "stdout",
       "text": [
        "\r",
        "Stabilized image 199 of 211 using template 0"
       ]
      },
      {
       "output_type": "stream",
       "stream": "stdout",
       "text": [
        "\r",
        "Stabilized image 200 of 211 using template 0"
       ]
      },
      {
       "output_type": "stream",
       "stream": "stdout",
       "text": [
        "\r",
        "Stabilized image 201 of 211 using template 0"
       ]
      },
      {
       "output_type": "stream",
       "stream": "stdout",
       "text": [
        "\r",
        "Stabilized image 202 of 211 using template 0"
       ]
      },
      {
       "output_type": "stream",
       "stream": "stdout",
       "text": [
        "\r",
        "Stabilized image 203 of 211 using template 0"
       ]
      },
      {
       "output_type": "stream",
       "stream": "stdout",
       "text": [
        "\r",
        "Stabilized image 204 of 211 using template 0"
       ]
      },
      {
       "output_type": "stream",
       "stream": "stdout",
       "text": [
        "\r",
        "Stabilized image 205 of 211 using template 0"
       ]
      },
      {
       "output_type": "stream",
       "stream": "stdout",
       "text": [
        "\r",
        "Stabilized image 206 of 211 using template 0"
       ]
      },
      {
       "output_type": "stream",
       "stream": "stdout",
       "text": [
        "\r",
        "Stabilized image 207 of 211 using template 0"
       ]
      },
      {
       "output_type": "stream",
       "stream": "stdout",
       "text": [
        "\r",
        "Stabilized image 208 of 211 using template 0"
       ]
      },
      {
       "output_type": "stream",
       "stream": "stdout",
       "text": [
        "\r",
        "Stabilized image 209 of 211 using template 0"
       ]
      },
      {
       "output_type": "stream",
       "stream": "stdout",
       "text": [
        "\r",
        "Stabilized image 210 of 211 using template 0"
       ]
      },
      {
       "output_type": "stream",
       "stream": "stdout",
       "text": [
        "\r",
        "Stabilized image 211 of 211 using template 0"
       ]
      }
     ],
     "prompt_number": 38
    },
    {
     "cell_type": "code",
     "collapsed": false,
     "input": [
      "tmp2 = cv2.cvtColor(cv2.imread(dataPath+dataSet+\"frame-{0:05}.png\".format(i+1)), cv2.COLOR_BGR2RGB)\n",
      "figure(); imshow(cv2.Canny(tmp2, 50, 200, 3), interpolation='nearest')\n",
      "figure(); imshow(cv2.Laplacian(cv2.cvtColor(tmp2, cv2.COLOR_RGB2GRAY), cv2.CV_16S, ksize=3, scale=1, delta=0), interpolation='nearest')"
     ],
     "language": "python",
     "metadata": {},
     "outputs": [
      {
       "metadata": {},
       "output_type": "pyout",
       "prompt_number": 103,
       "text": [
        "<matplotlib.image.AxesImage at 0x7f9c13259790>"
       ]
      }
     ],
     "prompt_number": 103
    },
    {
     "cell_type": "code",
     "collapsed": false,
     "input": [
      "# figure(); imshow(tmp, interpolation='nearest')\n",
      "figure(); imshow(cv2.Canny(stabilized, 50, 200, 3), interpolation='nearest')"
     ],
     "language": "python",
     "metadata": {},
     "outputs": [
      {
       "metadata": {},
       "output_type": "pyout",
       "prompt_number": 91,
       "text": [
        "<matplotlib.image.AxesImage at 0x7f9c13de9810>"
       ]
      }
     ],
     "prompt_number": 91
    },
    {
     "cell_type": "code",
     "collapsed": false,
     "input": [
      "print incrementalTemplate.shape, template.shape\n",
      "print newRect\n",
      "print newRect[1, :]-newRect[0, :]\n",
      "print newRect-newRect[0, :]\n",
      "print np.array([loc, loc + np.array([template.shape[1], template.shape[0]])])\n",
      "print np.array([loc, loc + np.array([template.shape[1], template.shape[0]])])-newRect"
     ],
     "language": "python",
     "metadata": {},
     "outputs": [
      {
       "output_type": "stream",
       "stream": "stdout",
       "text": [
        "(57, 225) (58, 226)\n",
        "[[569 669]\n",
        " [795 719]]\n",
        "[226  50]\n",
        "[[  0   0]\n",
        " [226  50]]\n",
        "[[569 669]\n",
        " [795 727]]\n",
        "[[0 0]\n",
        " [0 8]]\n"
       ]
      }
     ],
     "prompt_number": 56
    },
    {
     "cell_type": "code",
     "collapsed": false,
     "input": [
      "tmp = np.array([[-5, 669], [795, 727]])\n",
      "print tmp\n",
      "\n",
      "tmp[:, 0] = np.clip(tmp[:, 0], 0, nextImage.shape[1]-1)\n",
      "tmp[:, 1] = np.clip(tmp[:, 1], 0, nextImage.shape[0]-1)\n",
      "print tmp\n",
      "print np.array([[-5, 669], [795, 727]])-tmp"
     ],
     "language": "python",
     "metadata": {},
     "outputs": [
      {
       "output_type": "stream",
       "stream": "stdout",
       "text": [
        "[[ -5 669]\n",
        " [795 727]]\n",
        "[[  0 669]\n",
        " [795 719]]\n",
        "[[-5  0]\n",
        " [ 0  8]]\n"
       ]
      }
     ],
     "prompt_number": 58
    },
    {
     "cell_type": "code",
     "collapsed": false,
     "input": [
      "figure(); imshow(template)\n",
      "figure(); imshow(convolved)"
     ],
     "language": "python",
     "metadata": {},
     "outputs": [
      {
       "metadata": {},
       "output_type": "pyout",
       "prompt_number": 65,
       "text": [
        "<matplotlib.image.AxesImage at 0x7f9c13532b50>"
       ]
      }
     ],
     "prompt_number": 65
    },
    {
     "cell_type": "code",
     "collapsed": false,
     "input": [
      "convolved = cv2.filter2D(nextImage, cv2.CV_32F, template)\n",
      "minVal, maxVal, minLoc, maxLoc = cv2.minMaxLoc(convolved)\n",
      "print template.shape\n",
      "print minVal, maxVal, minLoc, maxLoc\n",
      "loc = maxLoc-np.array([template.shape[1], template.shape[0]])/2\n",
      "newRect = np.array([loc, loc + np.array([template.shape[1], template.shape[0]])])\n",
      "print newRect\n",
      "newRect[:, 0] = np.clip(newRect[:, 0], 0, nextImage.shape[1]-1)\n",
      "newRect[:, 1] = np.clip(newRect[:, 1], 0, nextImage.shape[0]-1)\n",
      "print newRect"
     ],
     "language": "python",
     "metadata": {},
     "outputs": [
      {
       "output_type": "stream",
       "stream": "stdout",
       "text": [
        "(58, 226)\n",
        "-1.31071996689 16321274.0 (932, 692) (680, 692)\n",
        "[[567 663]\n",
        " [793 721]]\n",
        "[[567 663]\n",
        " [793 719]]\n"
       ]
      }
     ],
     "prompt_number": 72
    },
    {
     "cell_type": "code",
     "collapsed": false,
     "input": [
      "tmp = cv2.warpAffine(nextImage, np.array([[1, 0, startRect[0, 0]-newRect[0, 0]], [0, 1, startRect[0, 1]-newRect[0, 1]]], dtype=float), (nextImage.shape[1], nextImage.shape[0]))\n",
      "figure(); imshow(tmp)"
     ],
     "language": "python",
     "metadata": {},
     "outputs": [
      {
       "metadata": {},
       "output_type": "pyout",
       "prompt_number": 73,
       "text": [
        "<matplotlib.image.AxesImage at 0x7f6c8070d910>"
       ]
      }
     ],
     "prompt_number": 73
    }
   ],
   "metadata": {}
  }
 ]
}