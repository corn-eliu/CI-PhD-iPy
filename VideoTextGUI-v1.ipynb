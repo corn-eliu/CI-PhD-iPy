{
 "metadata": {
  "name": ""
 },
 "nbformat": 3,
 "nbformat_minor": 0,
 "worksheets": [
  {
   "cells": [
    {
     "cell_type": "code",
     "collapsed": false,
     "input": [
      "%pylab\n",
      "from PySide import QtCore, QtGui\n",
      "import sys\n",
      "import numpy as np\n",
      "import scipy as sp\n",
      "import cv2\n",
      "import glob\n",
      "import re\n",
      "from PIL import Image\n",
      "\n",
      "import VideoTexturesUtils as vtu\n",
      "\n",
      "dataFolder = \"../data/\"\n",
      "\n",
      "app = QtGui.QApplication(sys.argv)"
     ],
     "language": "python",
     "metadata": {},
     "outputs": [
      {
       "output_type": "stream",
       "stream": "stdout",
       "text": [
        "Using matplotlib backend: TkAgg\n",
        "Populating the interactive namespace from numpy and matplotlib\n"
       ]
      }
     ],
     "prompt_number": 2
    },
    {
     "cell_type": "code",
     "collapsed": false,
     "input": [
      "class MainWidgetGroup(QtGui.QGroupBox):\n",
      "\n",
      "    valueChanged = QtCore.Signal(int)\n",
      "\n",
      "    def __init__(self, orientation, title, parent=None):\n",
      "        super(MainWidgetGroup, self).__init__(title, parent)\n",
      "        \n",
      "        self.imageLabel = QtGui.QLabel(\"Original Video\")\n",
      "        self.imageLabel.setBackgroundRole(QtGui.QPalette.Base)\n",
      "        self.imageLabel.setSizePolicy(QtGui.QSizePolicy.MinimumExpanding, QtGui.QSizePolicy.MinimumExpanding)\n",
      "        \n",
      "        self.textureLabel = QtGui.QLabel(\"Video Texture\")\n",
      "        self.textureLabel.setBackgroundRole(QtGui.QPalette.Base)\n",
      "        self.textureLabel.setSizePolicy(QtGui.QSizePolicy.MinimumExpanding, QtGui.QSizePolicy.MinimumExpanding)\n",
      "        \n",
      "#         self.imageLabel.setScaledContents(True)\n",
      "        labelLayout = QtGui.QHBoxLayout()\n",
      "        labelLayout.addStretch()\n",
      "        labelLayout.addWidget(self.imageLabel)\n",
      "        labelLayout.addStretch()\n",
      "        labelLayout.addWidget(self.textureLabel)\n",
      "        labelLayout.addStretch()\n",
      "\n",
      "        self.slider = QtGui.QSlider(orientation)\n",
      "        self.slider.setSizePolicy(QtGui.QSizePolicy.MinimumExpanding, QtGui.QSizePolicy.Minimum)\n",
      "        self.slider.setFocusPolicy(QtCore.Qt.StrongFocus)\n",
      "        self.slider.setTickPosition(QtGui.QSlider.TicksBothSides)\n",
      "        self.slider.setMaximum(0)\n",
      "        self.slider.setMinimum(0)\n",
      "        self.slider.setTickInterval(10)\n",
      "        self.slider.setSingleStep(1)\n",
      "        style = \"QSlider::handle:horizontal { background: #000000; width: 4px; \"\n",
      "        style += \"border-radius: 3px; } \"#QSlider::handle::horizontal:hover {width: 8px; margin: -2px 0px} \"\n",
      "        style += \"QSlider::groove:horizontal {background: white} \"\n",
      "#         style += \"QSlider {border: 2px solid grey;}\"\n",
      "        self.slider.setStyleSheet(style)\n",
      "    \n",
      "        self.renderTextureButton = QtGui.QPushButton(\"&Render Texture\")\n",
      "        \n",
      "        self.recomputeFramesCheckBox = QtGui.QCheckBox(\"Re-sample\")\n",
      "        self.recomputeFramesCheckBox.setChecked(True)\n",
      "        \n",
      "        self.frameNumLabel = QtGui.QLabel()\n",
      "        self.frameNumLabel.setAlignment(QtCore.Qt.AlignCenter)\n",
      "    \n",
      "        comandLayout = QtGui.QHBoxLayout()\n",
      "        comandLayout.addWidget(self.slider)\n",
      "        comandLayout.addWidget(self.renderTextureButton)\n",
      "        comandLayout.addWidget(self.recomputeFramesCheckBox)\n",
      "\n",
      "        if orientation == QtCore.Qt.Horizontal:\n",
      "            direction = QtGui.QBoxLayout.TopToBottom\n",
      "        else:\n",
      "            direction = QtGui.QBoxLayout.LeftToRight\n",
      "\n",
      "        mainLayout = QtGui.QBoxLayout(direction)\n",
      "        mainLayout.addWidget(self.frameNumLabel)\n",
      "        mainLayout.addLayout(labelLayout)\n",
      "        mainLayout.addLayout(comandLayout)\n",
      "        self.setLayout(mainLayout)\n",
      "        self.setSizePolicy(QtGui.QSizePolicy.MinimumExpanding, QtGui.QSizePolicy.MinimumExpanding)\n",
      "        \n",
      "        self.setStyleSheet(\"QGroupBox { margin: 5px; border: 2px groove gray; border-radius: 3px; } QGroupBox::title {left: 15px; top: -10px;}\")\n",
      "        \n",
      "    def setFrame(self, im):\n",
      "        qim = QtGui.QImage(im.data, im.shape[1], im.shape[0], im.strides[0], QtGui.QImage.Format_RGB888);\n",
      "        self.imageLabel.setPixmap(QtGui.QPixmap.fromImage(qim))\n",
      "        \n",
      "    def setTextureFrame(self, im):\n",
      "        qim = QtGui.QImage(im.data, im.shape[1], im.shape[0], im.strides[0], QtGui.QImage.Format_RGB888);\n",
      "        self.textureLabel.setPixmap(QtGui.QPixmap.fromImage(qim))\n",
      "\n",
      "    def setValue(self, value):\n",
      "        self.slider.setValue(value)\n",
      "\n",
      "    def setMinimum(self, value):\n",
      "        self.slider.setMinimum(value)  \n",
      "\n",
      "    def setMaximum(self, value):\n",
      "        self.slider.setMaximum(value)\n",
      "        \n",
      "    def setFrameInterval(self, interval, feather):\n",
      "        s2 = np.float(interval[0])/np.float(self.slider.maximum()-self.slider.minimum())\n",
      "        s4 = np.float(interval[1])/np.float(self.slider.maximum()-self.slider.minimum())\n",
      "        s3 = s2+((s4-s2)*feather)\n",
      "        s6 = np.float(interval[2])/np.float(self.slider.maximum()-self.slider.minimum())\n",
      "        s5 = s6-((s6-s4)*feather)\n",
      "#         print \"stops\", 0.0, s2, s3, s4, s5, s6, 1.0\n",
      "        style = self.slider.styleSheet()\n",
      "        style += \"QSlider::groove:horizontal {background: qlineargradient(x1:0, y1:0, x2:1, y2:0, stop:0.0 #ffffff, \"\n",
      "        style += \"stop:\"+np.str_(s2)+\" #ffffff, stop:\"+np.str_(s3)+\" #ff0000, stop:\"+np.str_(s4)+\" #ff0000, \"\n",
      "        style += \"stop:\"+np.str_(s5)+\" #ff0000, stop:\"+np.str_(s6)+\" #ffffff, stop:1.0 #ffffff);} \"\n",
      "        self.slider.setStyleSheet(style)\n",
      "\n",
      "\n",
      "class Window(QtGui.QWidget):\n",
      "    def __init__(self):\n",
      "        super(Window, self).__init__()\n",
      "        \n",
      "        self.frameRange = np.zeros(3)\n",
      "        self.featherLevel = 0.5\n",
      "\n",
      "        self.mainWidgetGroup = MainWidgetGroup(QtCore.Qt.Horizontal, \"Video Texture\")\n",
      "        \n",
      "        self.numInterpolationFrames = 4\n",
      "        self.textureLength = 100\n",
      "        self.loopTexture = True\n",
      "\n",
      "        self.createControls(\"Controls\")\n",
      "\n",
      "        layout = QtGui.QHBoxLayout()\n",
      "        layout.addWidget(self.controlsGroup)\n",
      "        layout.addWidget(self.mainWidgetGroup)\n",
      "        self.setLayout(layout)\n",
      "        \n",
      "        self.frameSpinBox.setValue(0)\n",
      "\n",
      "        self.setWindowTitle(\"Video Textures GUI\")\n",
      "        self.resize(1500, 750)\n",
      "        \n",
      "        ## lock gui elements until video or sequence is loaded\n",
      "        \n",
      "        self.frameSpinBox.setEnabled(False)\n",
      "        self.textureLengthSpinBox.setEnabled(False)\n",
      "        self.loopTextureCheckBox.setEnabled(False)\n",
      "        self.renderFpsSpinBox.setEnabled(False)\n",
      "        self.frameRangeSpinBox.setEnabled(False)\n",
      "        self.featherLevelSpinBox.setEnabled(False)\n",
      "        self.numInterpolationFramesSpinBox.setEnabled(False)\n",
      "        \n",
      "        self.textureTimer = QtCore.QTimer(self)\n",
      "        self.textureTimer.setInterval(1000/30)\n",
      "        self.textureTimer.start()\n",
      "        self.textureTimer.timeout.connect(self.renderOneFrame)\n",
      "        self.visualizeTexture = False\n",
      "        self.currentVisFrame = 0\n",
      "        \n",
      "    def renderOneFrame(self):\n",
      "        if self.visualizeTexture:\n",
      "            try:\n",
      "                self.finalMovie\n",
      "                self.currentVisFrame\n",
      "            except AttributeError:\n",
      "                return\n",
      "            else:\n",
      "                self.mainWidgetGroup.setTextureFrame(self.finalMovie[self.currentVisFrame])\n",
      "                if self.currentVisFrame in self.finalJumps :\n",
      "                    self.mainWidgetGroup.frameNumLabel.setText(\"jump---\" + np.str_(self.currentVisFrame) + \" from \" + np.str_(self.finalFrames[self.currentVisFrame]) + \"---jump\")\n",
      "                else :\n",
      "                    self.mainWidgetGroup.frameNumLabel.setText(np.str_(self.currentVisFrame) + \" from \" + np.str_(self.finalFrames[self.currentVisFrame]))\n",
      "                self.currentVisFrame = np.mod(self.currentVisFrame+1, len(self.finalMovie))\n",
      "        \n",
      "    def showLoading(self, show) :\n",
      "        if show :\n",
      "            self.loadingLabel.setText(\"Loading... Please wait\")\n",
      "            self.loadingLabel.setVisible(True)\n",
      "            self.loadingSpinner.setVisible(True)\n",
      "            self.infoLabel.setVisible(False)\n",
      "        else :\n",
      "            self.loadingLabel.setVisible(False)\n",
      "            self.loadingSpinner.setVisible(False)\n",
      "            self.infoLabel.setVisible(True)\n",
      "            \n",
      "    def setRenderFps(self, value) :\n",
      "        self.textureTimer.setInterval(1000/value)\n",
      "        \n",
      "    def openVideo(self):\n",
      "        fileName, _ = QtGui.QFileDialog.getOpenFileName(self, \"Open File\",\n",
      "                QtCore.QDir.currentPath()+\"/\"+dataFolder)\n",
      "        if fileName :\n",
      "            self.outputData = fileName\n",
      "            self.lockGUI(True)\n",
      "            self.showLoading(True)\n",
      "#             im = np.array(cv2.cvtColor(cv2.imread(fileName), cv2.COLOR_BGR2RGB))\n",
      "#             self.mainWidgetGroup.setFrame(im)\n",
      "\n",
      "            self.loadingLabel.setText(\"Loading set of frames...\")\n",
      "            \n",
      "            cap = cv2.VideoCapture(fileName)\n",
      "            \n",
      "            self.frames = []\n",
      "            while(cap.isOpened()):\n",
      "                ret, frame = cap.read()\n",
      "                if ret==True:\n",
      "                    self.frames.append(np.array(cv2.cvtColor(frame, cv2.COLOR_BGR2RGB)))\n",
      "                    k = cv2.waitKey(30)\n",
      "                    \n",
      "                    sys.stdout.write('\\r' + \"Frames read: \" + np.string_(len(self.frames)))\n",
      "                    sys.stdout.flush()\n",
      "                else:\n",
      "                    break\n",
      "            \n",
      "            # Release everything if job is finished\n",
      "            cap.release()\n",
      "            print\n",
      "            ## init movie array\n",
      "            if len(self.frames) > 0 :\n",
      "                self.movie = np.zeros(np.hstack([self.frames[0].shape, len(self.frames)]))\n",
      "                for i in xrange(0, len(self.frames)) :\n",
      "                    self.movie[:, :, :, i] = self.frames[i]\n",
      "                    \n",
      "                    sys.stdout.write('\\r' + \"Frames saved: \" + np.string_(i) + \" of \" + np.string_(len(self.frames)))\n",
      "                    sys.stdout.flush()\n",
      "            print        \n",
      "#             del frames\n",
      "            \n",
      "            if self.frameSpinBox.value() < len(self.frames) :\n",
      "                self.mainWidgetGroup.setFrame(self.frames[self.frameSpinBox.value()])\n",
      "            else :\n",
      "                self.mainWidgetGroup.setFrame(self.frames[0])\n",
      "                self.frameSpinBox.setValue(0)\n",
      "                \n",
      "            self.frameSpinBox.setRange(0, len(self.frames)-1)\n",
      "            self.mainWidgetGroup.setMaximum(len(self.frames)-1)\n",
      "            self.setFrameRange(self.frameRangeSpinBox.value())\n",
      "            self.frameRangeSpinBox.setRange(1, len(self.frames)*0.6)\n",
      "            infoText = \"Loaded video:\\n\\t\"+fileName+\"\\nNumber of Frames:\\n\\t\"+np.string_(len(self.frames))\n",
      "            infoText += \"\\nFrame size:\\n\\t\"+np.string_(self.movie.shape[1])+\"x\"+np.string_(self.movie.shape[0])\n",
      "            self.infoLabel.setText(infoText)\n",
      "            \n",
      "            self.loadingLabel.setText(\"Preprocessing movie sequence...\")\n",
      "            \n",
      "            self.preProcessMovie(self.movie, self.outputData)\n",
      "            \n",
      "            self.lockGUI(False)\n",
      "            self.showLoading(False)\n",
      "    \n",
      "    def openSequence(self):\n",
      "        frameNames = np.array(QtGui.QFileDialog.getOpenFileNames(self, \"Open Sequence\", \n",
      "                    QtCore.QDir.currentPath()+\"/\"+dataFolder, \"Images(*.png)\")[0])\n",
      "        if len(frameNames) > 1 :\n",
      "            self.outputData = \"/\"+ '/'.join(filter(None, re.split('/',frameNames[0]))[0:-1])\n",
      "            self.lockGUI(True)\n",
      "            self.showLoading(True)\n",
      "\n",
      "            self.loadingLabel.setText(\"Loading set of frames...\")\n",
      "\n",
      "            ## sort frame names\n",
      "            frameNames = np.sort(frameNames)\n",
      "            if len(frameNames) > 0 :\n",
      "                frameSize = cv2.imread(frameNames[0]).shape\n",
      "                requiredSpace = 2.0*(np.prod(frameSize)*len(frameNames))/(1024**3) ## GB\n",
      "                downsampleFactor = 1\n",
      "                if requiredSpace > 8 :\n",
      "                    downsampleFactor = 2 + np.argmin(np.abs(8-requiredSpace/np.arange(2.0, 6.0)))\n",
      "                    print \"Downsample Factor of\", downsampleFactor\n",
      "                    \n",
      "                if downsampleFactor > 1 :\n",
      "                    self.movie = np.zeros(np.hstack([frameSize[0]/downsampleFactor, frameSize[1]/downsampleFactor, frameSize[2], len(frameNames)]), dtype=uint8)\n",
      "                else :\n",
      "                    self.movie = np.zeros(np.hstack([frameSize[0], frameSize[1], frameSize[2], len(frameNames)]), dtype=uint8)\n",
      "                    \n",
      "                self.frames = []\n",
      "                for i in range(0, len(frameNames)) :\n",
      "                    im = Image.open(frameNames[i])\n",
      "                    if downsampleFactor > 1 :\n",
      "                        im = im.resize(np.array(frameSize[0:2])/downsampleFactor)\n",
      "                    im = np.ascontiguousarray(np.array(im, dtype=uint8)[:, :, 0:3])\n",
      "                    self.movie[:, :, :, i] = im#np.dot(im[:,:,:3], [0.0722, 0.7152, 0.2126])   # matlab RGB2GRAY multiplies [0.299, 0.587, 0.144] but cv2 is BGR\n",
      "                    self.frames.append(im)\n",
      "                    sys.stdout.write('\\r' + \"Loading frame \" + np.string_(i) + \" of \" + np.string_(len(frameNames)))\n",
      "                    sys.stdout.flush()\n",
      "                print\n",
      "#                 frameSize = cv2.imread(frameNames[0]).shape\n",
      "#                 self.movie = np.zeros(np.hstack([frameSize[0], frameSize[1], frameSize[2], len(frameNames)]))\n",
      "#                 self.frames = []\n",
      "#                 for i in range(0, len(frameNames)) :\n",
      "#                     im = np.array(cv2.cvtColor(cv2.imread(frameNames[i]), cv2.COLOR_BGR2RGB))#/255.0\n",
      "#                     self.movie[:, :, :, i] = im#np.dot(im[:,:,:3], [0.0722, 0.7152, 0.2126])   # matlab RGB2GRAY multiplies [0.299, 0.587, 0.144] but cv2 is BGR\n",
      "#                     self.frames.append(im)\n",
      "            \n",
      "            if self.frameSpinBox.value() < len(self.frames) :\n",
      "                self.mainWidgetGroup.setFrame(self.frames[self.frameSpinBox.value()])\n",
      "            else :\n",
      "                self.mainWidgetGroup.setFrame(self.frames[0])\n",
      "                self.frameSpinBox.setValue(0)\n",
      "                \n",
      "            self.frameSpinBox.setRange(0, len(self.frames)-1)\n",
      "            self.mainWidgetGroup.setMaximum(len(self.frames)-1)\n",
      "            self.setFrameRange(self.frameRangeSpinBox.value())\n",
      "            self.frameRangeSpinBox.setRange(1, len(self.frames)*0.6)\n",
      "            infoText = \"Loaded sequence:\\n\\t\"+self.outputData+\"\\nNumber of Frames:\\n\\t\"+np.string_(len(self.frames))\n",
      "            infoText += \"\\nFrame size:\\n\\t\"+np.string_(self.movie.shape[1])+\"x\"+np.string_(self.movie.shape[0])\n",
      "            self.infoLabel.setText(infoText)\n",
      "            \n",
      "            self.loadingLabel.setText(\"Preprocessing movie sequence...\")\n",
      "            \n",
      "            self.preProcessMovie(self.movie, self.outputData)\n",
      "            \n",
      "            self.lockGUI(False)\n",
      "            self.showLoading(False)\n",
      "        \n",
      "    def setFrameRange(self, value) :\n",
      "        currentFrame = self.mainWidgetGroup.slider.value()\n",
      "        self.frameRange = np.array([currentFrame-((value-1)/2), currentFrame, currentFrame+((value-1)/2)])\n",
      "        self.mainWidgetGroup.setFrameInterval(self.frameRange, self.featherLevel)\n",
      "        \n",
      "    def setFeatherLevel(self, value) :\n",
      "        self.featherLevel = value\n",
      "        self.mainWidgetGroup.setFrameInterval(self.frameRange, self.featherLevel)\n",
      "    \n",
      "    def setNumInterpolationFrames(self, value) :\n",
      "        self.numInterpolationFrames = value\n",
      "    \n",
      "    def setTextureLength(self, value) :\n",
      "        self.textureLength = value\n",
      "        \n",
      "    def setLoopTexture(self, value) :\n",
      "        self.loopTexture = (value == QtCore.Qt.Checked)\n",
      "        \n",
      "    def changeFrame(self, idx):\n",
      "        if idx >= 0 and idx < len(self.frames):\n",
      "            self.mainWidgetGroup.setFrame(self.frames[idx])\n",
      "            self.setFrameRange(self.frameRangeSpinBox.value())\n",
      "    \n",
      "    def lockGUI(self, lock):\n",
      "        self.visualizeTexture = not lock\n",
      "        self.mainWidgetGroup.slider.setEnabled(not lock)\n",
      "        \n",
      "        self.openVideoButton.setEnabled(not lock)\n",
      "        self.openSequenceButton.setEnabled(not lock)\n",
      "        \n",
      "        self.frameSpinBox.setEnabled(not lock)\n",
      "        self.textureLengthSpinBox.setEnabled(not lock)\n",
      "        self.loopTextureCheckBox.setEnabled(not lock)\n",
      "        self.renderFpsSpinBox.setEnabled(not lock)\n",
      "        \n",
      "        self.frameRangeSpinBox.setEnabled(not lock)\n",
      "        self.featherLevelSpinBox.setEnabled(not lock)\n",
      "        self.numInterpolationFramesSpinBox.setEnabled(not lock)\n",
      "    \n",
      "    def preProcessMovie(self, movie, outputData):\n",
      "        self.numFilterFrames = 4\n",
      "        distanceMatrix = vtu.computeDistanceMatrix(movie, outputData + \"distMat.npy\")\n",
      "        self.distanceMatrixFilt = vtu.filterDistanceMatrix(distanceMatrix, self.numFilterFrames, False)\n",
      "        \n",
      "#         if self.frameRangeSpinBox.value() > 1 :\n",
      "#             ## create the filter for distance matrix to only consider user given frame range\n",
      "#             kernelLength = np.float(self.frameRange[1]-self.frameRange[0])\n",
      "#             interval = 1.0/(np.floor(kernelLength*self.featherLevel)+1.0)\n",
      "#             kernelRange = np.arange(interval, 1.0+interval, interval)\n",
      "#             kernel = np.hstack((kernelRange, np.ones(np.ceil(kernelLength-kernelLength*self.featherLevel))))\n",
      "#             kernel = np.hstack((kernel, kernel[np.arange(len(kernel)-2, -1, -1)]))\n",
      "#             kernel = np.reshape(kernel, [len(kernel), 1])\n",
      "            \n",
      "#             kernel = kernel+kernel.T\n",
      "#             kernel = kernel/np.max(kernel)\n",
      "# #             kernel = np.repeat(kernel, kernel.shape[0], axis=1)\n",
      "            \n",
      "#             filterMat = np.zeros(distanceMatrixFilt.shape)\n",
      "#             filterMat[self.frameRange[0]:self.frameRange[2]+1, self.frameRange[0]:self.frameRange[2]+1] = kernel\n",
      "            \n",
      "#             distanceMatrixFilt = distanceMatrixFilt+((1.0-filterMat)*50)\n",
      "            \n",
      "#         self.distMat = vtu.estimateFutureCost(0.999, 2.0, distanceMatrixFilt)\n",
      "    \n",
      "    \n",
      "    \n",
      "#         fig = plt.figure()\n",
      "#         a=fig.add_subplot(1,2,1)\n",
      "#         imgplot = plt.imshow(distanceMatrix, cmap = cm.Greys_r, interpolation='nearest')\n",
      "#         a.set_title('distance matrix grey')\n",
      "#         a=fig.add_subplot(1,2,2)\n",
      "#         imgplot = plt.imshow(distanceMatrix, interpolation='nearest')\n",
      "#         maxDist = np.max(distanceMatrix)\n",
      "#         plt.colorbar(ticks=[0.1*maxDist,0.3*maxDist,0.5*maxDist,0.7*maxDist,0.9*maxDist], orientation ='horizontal')\n",
      "#         a.set_title('distance matrix color')\n",
      "    \n",
      "#         fig = plt.figure()\n",
      "#         a=fig.add_subplot(1,2,1)\n",
      "#         imgplot = plt.imshow(distanceMatrixFilt, cmap = cm.Greys_r, interpolation='nearest')\n",
      "#         a.set_title('filtered matrix grey')\n",
      "#         a=fig.add_subplot(1,2,2)\n",
      "#         imgplot = plt.imshow(distanceMatrixFilt, interpolation='nearest')\n",
      "#         maxDist = np.max(distanceMatrixFilt)\n",
      "#         plt.colorbar(ticks=[0.1*maxDist,0.3*maxDist,0.5*maxDist,0.7*maxDist,0.9*maxDist], orientation ='horizontal')\n",
      "#         a.set_title('filtered matrix color')\n",
      "        \n",
      "#         fig = plt.figure()\n",
      "#         a=fig.add_subplot(1,2,1)\n",
      "#         imgplot = plt.imshow(self.distMat, cmap = cm.Greys_r, interpolation='nearest')\n",
      "#         a.set_title('future cost matrix grey')\n",
      "#         a=fig.add_subplot(1,2,2)\n",
      "#         imgplot = plt.imshow(self.distMat, interpolation='nearest')\n",
      "#         maxDist = np.max(self.distMat)\n",
      "#         plt.colorbar(ticks=[0.1*maxDist,0.3*maxDist,0.5*maxDist,0.7*maxDist,0.9*maxDist], orientation ='horizontal')\n",
      "#         a.set_title('future cost matrix color')\n",
      "        \n",
      "    def computeRangedProbs(self, distMat):\n",
      "        \n",
      "        self.probabilities, self.cumProb = vtu.getProbabilities(distMat, 0.005, True)\n",
      "        \n",
      "#         if False : #self.frameRangeSpinBox.value() > 1 :\n",
      "#             ## create the filter for distance matrix to only consider user given frame range\n",
      "#             kernelLength = np.float(self.frameRange[1]-self.frameRange[0])\n",
      "#             interval = 1.0/(np.floor(kernelLength*self.featherLevel)+1.0)\n",
      "#             kernelRange = np.arange(interval, 1.0+interval, interval)\n",
      "#             kernel = np.hstack((kernelRange, np.ones(np.ceil(kernelLength-kernelLength*self.featherLevel))))\n",
      "#             kernel = np.hstack((kernel, kernel[np.arange(len(kernel)-2, -1, -1)]))\n",
      "#             kernel = np.reshape(kernel, [len(kernel), 1])\n",
      "            \n",
      "#             kernel = kernel+kernel.T\n",
      "#             kernel = kernel/np.max(kernel)\n",
      "# #             kernel = np.repeat(kernel, kernel.shape[0], axis=1)\n",
      "            \n",
      "#             self.filterMat = np.zeros(self.probabilities.shape)\n",
      "#             self.filterMat[self.frameRange[0]:self.frameRange[2]+1, self.frameRange[0]:self.frameRange[2]+1] = kernel\n",
      "#             self.filterMat = self.filterMat+0.01 ## still leave some chance for frames outside range to be chosen\n",
      "#             self.filterMat = self.filterMat/np.max(self.filterMat)\n",
      "# #             print kernel\n",
      "            \n",
      "#             self.probabilities = self.probabilities*self.filterMat\n",
      "            \n",
      "#             ## renormalize probabilities\n",
      "#             normTerm = np.sum(self.probabilities, axis=1)\n",
      "#             normTerm = cv2.repeat(normTerm, 1, self.probabilities.shape[1])\n",
      "#             self.probabilities = self.probabilities / normTerm\n",
      "            \n",
      "#             self.cumProb = np.cumsum(self.probabilities, axis=1)\n",
      "        \n",
      "#     def renderTexture(self):\n",
      "#         try:\n",
      "#             self.distMat\n",
      "#         except AttributeError:\n",
      "#             print \"tried rendering texture before computing distance matrix\"\n",
      "#         else:\n",
      "#             print \"rendering texture\"\n",
      "#             self.visualizeTexture = False\n",
      "            \n",
      "#             self.preProcessMovie(self.movie, self.outputData)\n",
      "            \n",
      "#             distMat = self.distMat#+((1.0-filterMat)*1000) ## this needs to be filtered based on frame range and feather\n",
      "# #             figure(); imshow(distMat, interpolation='nearest')            \n",
      "            \n",
      "#             self.computeRangedProbs(distMat)\n",
      "#             figure(); imshow(self.probabilities, interpolation='nearest'); plt.draw()\n",
      "#             startFrame = self.frameRange[1]\n",
      "#             ## check if frames have been computed before, if not compute them, otherwise only recompute if checkbox is checked\n",
      "#             try:\n",
      "#                 self.finalFrames\n",
      "#             except AttributeError:\n",
      "#                 self.finalFrames = vtu.getFinalFrames(self.cumProb, self.textureLength, self.numFilterFrames+1, startFrame)\n",
      "#             else:\n",
      "#                 if self.mainWidgetGroup.recomputeFramesCheckBox.isChecked() :\n",
      "#                     self.finalFrames = vtu.getFinalFrames(self.cumProb, 100, self.numFilterFrames+1, startFrame)\n",
      "#             self.finalMovie, self.finalJumps = vtu.renderFinalFrames(self.movie, self.finalFrames, self.numInterpolationFrames)\n",
      "#             self.visualizeTexture = True\n",
      "\n",
      "    ## Avoid dead ends: estimate future costs\n",
      "    def estimateFutureCost(self, alpha, p, distanceMatrixFilt, weights) :\n",
      "        # alpha = 0.999\n",
      "        # p = 2.0\n",
      "        \n",
      "        distMatFilt = distanceMatrixFilt[1:distanceMatrixFilt.shape[1], 0:-1]\n",
      "        distMat = distMatFilt ** p\n",
      "        \n",
      "        last = np.copy(distMat)\n",
      "        current = np.zeros(distMat.shape)\n",
      "        \n",
      "        ## while distance between last and current is larger than threshold\n",
      "        iterations = 0 \n",
      "        while np.linalg.norm(last - current) > 0.1 : \n",
      "            for i in range(distMat.shape[0]-1, -1, -1) :\n",
      "                m = np.min(distMat*weights[1:distanceMatrixFilt.shape[1], 0:-1], axis=1)\n",
      "                distMat[i, :] = (distMatFilt[i, :] ** p) + alpha*m\n",
      "                \n",
      "            last = np.copy(current)\n",
      "            current = np.copy(distMat)\n",
      "            \n",
      "            sys.stdout.write('\\r' + \"Iteration \" + np.string_(iterations) + \"; distance \" + np.string_(np.linalg.norm(last - current)))\n",
      "            sys.stdout.flush()\n",
      "            \n",
      "            iterations += 1\n",
      "        \n",
      "        print\n",
      "        print 'finished in', iterations, 'iterations'\n",
      "        \n",
      "        return distMat\n",
      "    \n",
      "    def getRangeWeights(self, l, frameRange, featherLevel, weightShape) :\n",
      "#         kernelLength = np.float(frameRange[1]-frameRange[0])\n",
      "#         interval = l/(np.floor(kernelLength*featherLevel)+1.0)\n",
      "#         kernelRange = np.arange(1.0+l, 1.0, -interval)\n",
      "#         kernel = np.hstack((kernelRange, np.ones(np.ceil(kernelLength-kernelLength*featherLevel))))\n",
      "#         kernel = np.hstack((kernel, kernel[np.arange(len(kernel)-2, -1, -1)]))\n",
      "#         kernel = np.reshape(kernel, [len(kernel), 1])\n",
      "\n",
      "#         kernelLength = np.float(frameRange[1]-frameRange[0])\n",
      "#         interval = l/np.floor(kernelLength*featherLevel)\n",
      "#         kernelRange = interval*np.arange(np.floor(kernelLength*featherLevel), 0.0, -1.0)\n",
      "#         kernel = np.ones(kernelLength+1)\n",
      "#         kernel[0:len(kernelRange)] = kernelRange+np.ones(kernelRange.shape)\n",
      "#         kernel = np.hstack((kernel, kernel[np.arange(len(kernel)-2, -1, -1)]))\n",
      "#         kernel = np.reshape(kernel, [len(kernel), 1])\n",
      "\n",
      "        kernelLength = np.float(frameRange[1]-frameRange[0])\n",
      "        kernelRange = np.arange(1.0, l, -(1.0-l)/np.floor(kernelLength*featherLevel))\n",
      "        kernel = np.ones(kernelLength+1)*l\n",
      "        kernel[0:len(kernelRange)] = kernelRange#+np.ones(kernelRange.shape)\n",
      "        kernel = np.hstack((kernel, kernel[np.arange(len(kernel)-2, -1, -1)]))\n",
      "        kernel = np.reshape(kernel, [len(kernel), 1])\n",
      "        \n",
      "#         print kernel\n",
      "        \n",
      "        kernel = kernel+kernel.T\n",
      "        kernel = kernel/np.max(kernel)#np.mean(kernel) \n",
      "        \n",
      "        rangeWeights = np.ones(weightShape)+l*0.5\n",
      "        rangeWeights[frameRange[0]:frameRange[2]+1, frameRange[0]:frameRange[2]+1] = kernel\n",
      "#         filterMat = self.filterMat+0.01 ## still leave some chance for frames outside range to be chosen\n",
      "#         filterMat = self.filterMat/np.max(self.filterMat)\n",
      "#         filterMat = (1.7-self.filterMat)#*10.0 +1.0\n",
      "        return rangeWeights\n",
      "     \n",
      "    def renderTextureNew(self):\n",
      "        try:\n",
      "            self.distanceMatrixFilt\n",
      "        except AttributeError:\n",
      "            print \"tried rendering texture before computing distance matrix\"\n",
      "        else:\n",
      "            print \"rendering texture\"\n",
      "#             self.visualizeTexture = False\n",
      "            \n",
      "#             self.numFilterFrames = 4\n",
      "#             distanceMatrix = vtu.computeDistanceMatrix(self.movie, self.outputData + \"distMat.npy\")\n",
      "#             distanceMatrixFilt = vtu.filterDistanceMatrix(distanceMatrix, self.numFilterFrames, False)\n",
      "                \n",
      "#             figure(); imshow(distanceMatrixFilt, interpolation='nearest'); draw()\n",
      "            \n",
      "            if self.frameRangeSpinBox.value() > 1 :\n",
      "                frameRange = self.frameRange-(self.numFilterFrames+1)\n",
      "                print frameRange\n",
      "                self.rangeWeights = self.getRangeWeights(0.7, frameRange, self.featherLevel, self.distanceMatrixFilt.shape)\n",
      "#                 figure(); imshow(self.rangeWeights, interpolation='nearest'); draw()\n",
      "                \n",
      "                self.distMat = self.estimateFutureCost(0.999, 2.0, self.distanceMatrixFilt, self.rangeWeights)\n",
      "                startFrame = frameRange[1]\n",
      "            else :\n",
      "                self.distMat = self.estimateFutureCost(0.999, 2.0, self.distanceMatrixFilt, np.ones(self.distanceMatrixFilt.shape))\n",
      "                startFrame = self.frameSpinBox.value()+self.numFilterFrames+1\n",
      "                \n",
      "            figure(); imshow(self.distMat, interpolation='nearest'); draw()\n",
      "#                 self.cumProb = np.cumsum(self.probabilities, axis=1)\n",
      "            \n",
      "#             distMat = self.distMat#+((1.0-filterMat)*1000) ## this needs to be filtered based on frame range and feather\n",
      "# #             figure(); imshow(distMat, interpolation='nearest')\n",
      "            \n",
      "            self.computeRangedProbs(self.distMat)\n",
      "            figure(); imshow(self.cumProb, interpolation='nearest'); plt.draw()\n",
      "            ## check if frames have been computed before, if not compute them, otherwise only recompute if checkbox is checked\n",
      "            try:\n",
      "                self.finalFrames\n",
      "            except AttributeError:\n",
      "                self.finalFrames = vtu.getFinalFrames(self.cumProb, self.textureLength, self.numFilterFrames+1, startFrame, self.loopTexture)\n",
      "            else:\n",
      "                if self.mainWidgetGroup.recomputeFramesCheckBox.isChecked() :\n",
      "                    self.finalFrames = vtu.getFinalFrames(self.cumProb, 100, self.numFilterFrames+1, startFrame, self.loopTexture)\n",
      "            self.finalMovie, self.finalJumps = vtu.renderFinalFrames(self.movie, self.finalFrames, self.numInterpolationFrames)\n",
      "            self.visualizeTexture = True\n",
      "\n",
      "    def renderTexture(self):\n",
      "#         self.renderTextureOld()\n",
      "        self.renderTextureNew()\n",
      "\n",
      "#     def renderTextureOld(self):\n",
      "#         try:\n",
      "#             self.distMat\n",
      "#         except AttributeError:\n",
      "#             print \"tried rendering texture before computing distance matrix\"\n",
      "#         else:\n",
      "#             print \"rendering texture\"\n",
      "#             self.visualizeTexture = False\n",
      "            \n",
      "#             self.numFilterFrames = 4\n",
      "#             distanceMatrix = vtu.computeDistanceMatrix(self.movie, self.outputData + \"distMat.npy\")\n",
      "#             distanceMatrixFilt = vtu.filterDistanceMatrix(distanceMatrix, self.numFilterFrames, False)\n",
      "            \n",
      "#             if self.frameRangeSpinBox.value() > 1 :\n",
      "#                 frameRange = self.frameRange-(self.numFilterFrames+1)\n",
      "#                 ## create the filter for distance matrix to only consider user given frame range\n",
      "#                 kernelLength = np.float(frameRange[1]-frameRange[0])\n",
      "#                 interval = 1.0/(np.floor(kernelLength*self.featherLevel)+1.0)\n",
      "#                 kernelRange = np.arange(interval, 1.0+interval, interval)\n",
      "#                 kernel = np.hstack((kernelRange, np.ones(np.ceil(kernelLength-kernelLength*self.featherLevel))))\n",
      "#                 kernel = np.hstack((kernel, kernel[np.arange(len(kernel)-2, -1, -1)]))\n",
      "#                 kernel = np.reshape(kernel, [len(kernel), 1])\n",
      "                \n",
      "#                 print kernel\n",
      "                \n",
      "#                 kernel = kernel+kernel.T\n",
      "#                 self.kernel = kernel/np.max(kernel)\n",
      "#     #             kernel = np.repeat(kernel, kernel.shape[0], axis=1)\n",
      "\n",
      "                \n",
      "#                 self.filterMat = np.zeros(distanceMatrixFilt.shape)\n",
      "#                 self.filterMat[frameRange[0]:frameRange[2]+1, frameRange[0]:frameRange[2]+1] = self.kernel\n",
      "#                 self.filterMat = self.filterMat+0.01 ## still leave some chance for frames outside range to be chosen\n",
      "#                 self.filterMat = self.filterMat/np.max(self.filterMat)\n",
      "#                 self.filterMat = (1.5-self.filterMat)#*10.0 +1.0\n",
      "#     #             print kernel\n",
      "#                 figure(); imshow(self.filterMat, interpolation='nearest'); draw()\n",
      "# #                 self.probabilities = self.probabilities*self.filterMat\n",
      "                \n",
      "# #                 ## renormalize probabilities\n",
      "# #                 normTerm = np.sum(self.probabilities, axis=1)\n",
      "# #                 normTerm = cv2.repeat(normTerm, 1, self.probabilities.shape[1])\n",
      "# #                 self.probabilities = self.probabilities / normTerm\n",
      "\n",
      "#             figure(); imshow(distanceMatrixFilt, interpolation='nearest'); draw()\n",
      "#             self.distMat = self.estimateFutureCost(0.999, 2.0, distanceMatrixFilt, self.filterMat)\n",
      "#             figure(); imshow(self.distMat, interpolation='nearest'); draw()\n",
      "# #                 self.cumProb = np.cumsum(self.probabilities, axis=1)\n",
      "            \n",
      "# #             distMat = self.distMat#+((1.0-filterMat)*1000) ## this needs to be filtered based on frame range and feather\n",
      "# # #             figure(); imshow(distMat, interpolation='nearest')            \n",
      "            \n",
      "#             self.computeRangedProbs(self.distMat)\n",
      "#             figure(); imshow(self.probabilities, interpolation='nearest'); plt.draw()\n",
      "#             figure(); imshow(self.cumProb, interpolation='nearest'); plt.draw()\n",
      "#             startFrame = frameRange[1]\n",
      "#             ## check if frames have been computed before, if not compute them, otherwise only recompute if checkbox is checked\n",
      "#             try:\n",
      "#                 self.finalFrames\n",
      "#             except AttributeError:\n",
      "#                 self.finalFrames = vtu.getFinalFrames(self.cumProb, self.textureLength, self.numFilterFrames+1, startFrame, self.loopTexture)\n",
      "#             else:\n",
      "#                 if self.mainWidgetGroup.recomputeFramesCheckBox.isChecked() :\n",
      "#                     self.finalFrames = vtu.getFinalFrames(self.cumProb, 100, self.numFilterFrames+1, startFrame, self.loopTexture)\n",
      "#             self.finalMovie, self.finalJumps = vtu.renderFinalFrames(self.movie, self.finalFrames, self.numInterpolationFrames)\n",
      "#             self.visualizeTexture = True\n",
      "\n",
      "\n",
      "    def createControls(self, title):\n",
      "        self.controlsGroup = QtGui.QGroupBox(title)\n",
      "        self.controlsGroup.setStyleSheet(\"QGroupBox { margin: 5px; border: 2px groove gray; border-radius: 3px; } QGroupBox::title {left: 15px; top: -10px;}\")\n",
      "        self.setSizePolicy(QtGui.QSizePolicy.Minimum, QtGui.QSizePolicy.Minimum)\n",
      "\n",
      "        self.infoLabel = QtGui.QLabel(\"No video loaded\")\n",
      "        self.infoLabel.setSizePolicy(QtGui.QSizePolicy.Minimum, QtGui.QSizePolicy.MinimumExpanding)\n",
      "        self.infoLabel.setAlignment(QtCore.Qt.AlignLeft | QtCore.Qt.AlignTop)\n",
      "        frameLabel = QtGui.QLabel(\"Current frame:\")\n",
      "        renderFpsLabel = QtGui.QLabel(\"Texture render fps:\")\n",
      "        loopTextureLabel = QtGui.QLabel(\"Loop texture:\")\n",
      "        textureLengthLabel = QtGui.QLabel(\"Video texture length:\")\n",
      "        frameRangeLabel = QtGui.QLabel(\"Frame range:\")\n",
      "        featherLevelLabel = QtGui.QLabel(\"Feather level:\")\n",
      "        numInterpolationFramesLabel = QtGui.QLabel(\"# Frames to interpolate:\")\n",
      "        \n",
      "        \n",
      "        self.loadingLabel = QtGui.QLabel(\"Loading... Please wait!\")\n",
      "        self.loadingLabel.setSizePolicy(QtGui.QSizePolicy.Minimum, QtGui.QSizePolicy.MinimumExpanding)\n",
      "        self.loadingLabel.setAlignment(QtCore.Qt.AlignCenter | QtCore.Qt.AlignTop)\n",
      "        self.loadingLabel.setVisible(False)\n",
      "        movie = QtGui.QMovie(\"loader.gif\")\n",
      "        self.loadingSpinner = QtGui.QLabel()\n",
      "        self.loadingSpinner.setSizePolicy(QtGui.QSizePolicy.Minimum, QtGui.QSizePolicy.MinimumExpanding)\n",
      "        self.loadingSpinner.setAlignment(QtCore.Qt.AlignHCenter | QtCore.Qt.AlignBottom)\n",
      "        self.loadingSpinner.setMovie(movie)\n",
      "        movie.start()\n",
      "        self.loadingSpinner.setVisible(False)\n",
      "        \n",
      "        self.openVideoButton = QtGui.QPushButton(\"Open &Video\")\n",
      "        self.openSequenceButton = QtGui.QPushButton(\"Open &Sequence\")\n",
      "\n",
      "        self.frameSpinBox = QtGui.QSpinBox()\n",
      "        self.frameSpinBox.setRange(0, 0)\n",
      "        self.frameSpinBox.setSingleStep(1)\n",
      "        \n",
      "        self.textureLengthSpinBox = QtGui.QSpinBox()\n",
      "        self.textureLengthSpinBox.setRange(30, 1000)\n",
      "        self.textureLengthSpinBox.setSingleStep(1)\n",
      "        self.textureLengthSpinBox.setValue(self.textureLength)\n",
      "        \n",
      "        self.loopTextureCheckBox = QtGui.QCheckBox()\n",
      "        self.loopTextureCheckBox.setChecked(self.loopTexture)\n",
      "        \n",
      "        self.renderFpsSpinBox = QtGui.QSpinBox()\n",
      "        self.renderFpsSpinBox.setRange(1, 30)\n",
      "        self.renderFpsSpinBox.setSingleStep(1)\n",
      "        self.renderFpsSpinBox.setValue(30)\n",
      "        \n",
      "        self.frameRangeSpinBox = QtGui.QSpinBox()\n",
      "        self.frameRangeSpinBox.setRange(1, 21)\n",
      "        self.frameRangeSpinBox.setSingleStep(2)\n",
      "        \n",
      "        self.featherLevelSpinBox = QtGui.QDoubleSpinBox()\n",
      "        self.featherLevelSpinBox.setRange(0.01, 1.0)\n",
      "        self.featherLevelSpinBox.setSingleStep(0.01)\n",
      "        self.featherLevelSpinBox.setValue(self.featherLevel)\n",
      "        \n",
      "        self.numInterpolationFramesSpinBox = QtGui.QSpinBox()\n",
      "        self.numInterpolationFramesSpinBox.setRange(0, 10)\n",
      "        self.numInterpolationFramesSpinBox.setSingleStep(1)\n",
      "        self.numInterpolationFramesSpinBox.setValue(self.numInterpolationFrames)\n",
      "        \n",
      "        \n",
      "        self.openVideoButton.clicked.connect(self.openVideo)\n",
      "        self.openSequenceButton.clicked.connect(self.openSequence)\n",
      "        \n",
      "        self.mainWidgetGroup.slider.valueChanged[int].connect(self.frameSpinBox.setValue)\n",
      "        self.frameSpinBox.valueChanged[int].connect(self.mainWidgetGroup.slider.setValue)\n",
      "        self.frameSpinBox.valueChanged[int].connect(self.changeFrame)\n",
      "        self.textureLengthSpinBox.valueChanged[int].connect(self.setTextureLength)\n",
      "        self.loopTextureCheckBox.stateChanged[int].connect(self.setLoopTexture)\n",
      "        self.renderFpsSpinBox.valueChanged[int].connect(self.setRenderFps)\n",
      "        \n",
      "        self.frameRangeSpinBox.valueChanged[int].connect(self.setFrameRange)\n",
      "        self.featherLevelSpinBox.valueChanged[float].connect(self.setFeatherLevel)\n",
      "        self.numInterpolationFramesSpinBox.valueChanged[int].connect(self.setNumInterpolationFrames)\n",
      "        \n",
      "        self.mainWidgetGroup.renderTextureButton.clicked.connect(self.renderTexture)\n",
      "        \n",
      "        \n",
      "        mainBox = QtGui.QGroupBox(\"Main Controls\")\n",
      "        mainBox.setStyleSheet(\"QGroupBox { margin: 5px; border: 2px groove gray; border-radius: 3px; } QGroupBox::title {left: 15px; top: -10px;}\")\n",
      "        mainBoxLayout = QtGui.QGridLayout()\n",
      "        mainBoxLayout.addWidget(self.loadingSpinner, 0, 0, 1, 2)\n",
      "        mainBoxLayout.addWidget(self.loadingLabel, 1, 0, 1, 2)\n",
      "        mainBoxLayout.addWidget(self.infoLabel, 1, 0, 1, 2)\n",
      "        mainBoxLayout.addWidget(self.openVideoButton, 2, 0)\n",
      "        mainBoxLayout.addWidget(self.openSequenceButton, 2, 1)\n",
      "        mainBox.setLayout(mainBoxLayout)\n",
      "        \n",
      "        renderingControls = QtGui.QGroupBox(\"Texture Rendering Controls\")\n",
      "        renderingControls.setStyleSheet(\"QGroupBox { margin: 5px; border: 2px groove gray; border-radius: 3px; } QGroupBox::title {left: 15px; top: -10px;}\")\n",
      "        renderingControlsLayout = QtGui.QGridLayout()\n",
      "        renderingControlsLayout.addWidget(frameLabel, 0, 0)\n",
      "        renderingControlsLayout.addWidget(self.frameSpinBox, 0, 1)\n",
      "        renderingControlsLayout.addWidget(textureLengthLabel, 1, 0)\n",
      "        renderingControlsLayout.addWidget(self.textureLengthSpinBox, 1, 1)\n",
      "        renderingControlsLayout.addWidget(loopTextureLabel, 2, 0)\n",
      "        renderingControlsLayout.addWidget(self.loopTextureCheckBox, 2, 1)\n",
      "        renderingControlsLayout.addWidget(renderFpsLabel, 3, 0)\n",
      "        renderingControlsLayout.addWidget(self.renderFpsSpinBox, 3, 1)\n",
      "        renderingControls.setLayout(renderingControlsLayout)\n",
      "        \n",
      "        processingControls = QtGui.QGroupBox(\"Processing Controls\")\n",
      "        processingControls.setStyleSheet(\"QGroupBox { margin: 5px; border: 2px groove gray; border-radius: 3px; } QGroupBox::title {left: 15px; top: -10px;}\")\n",
      "        processingControlsLayout = QtGui.QGridLayout()\n",
      "        processingControlsLayout.addWidget(frameRangeLabel, 0, 0)\n",
      "        processingControlsLayout.addWidget(self.frameRangeSpinBox, 0, 1)\n",
      "        processingControlsLayout.addWidget(featherLevelLabel, 1, 0)\n",
      "        processingControlsLayout.addWidget(self.featherLevelSpinBox, 1, 1)\n",
      "        processingControlsLayout.addWidget(numInterpolationFramesLabel, 2, 0)\n",
      "        processingControlsLayout.addWidget(self.numInterpolationFramesSpinBox, 2, 1)\n",
      "        processingControls.setLayout(processingControlsLayout)\n",
      "        \n",
      "        controlsLayout = QtGui.QVBoxLayout()\n",
      "        controlsLayout.addWidget(mainBox)\n",
      "        controlsLayout.addWidget(renderingControls)\n",
      "        controlsLayout.addWidget(processingControls)\n",
      "        self.controlsGroup.setLayout(controlsLayout)"
     ],
     "language": "python",
     "metadata": {},
     "outputs": [],
     "prompt_number": 5
    },
    {
     "cell_type": "code",
     "collapsed": false,
     "input": [
      "window = Window()\n",
      "window.show()\n",
      "app.exec_()"
     ],
     "language": "python",
     "metadata": {},
     "outputs": [
      {
       "output_type": "stream",
       "stream": "stdout",
       "text": [
        "\r",
        "Loading frame 0 of 66"
       ]
      },
      {
       "output_type": "stream",
       "stream": "stdout",
       "text": [
        "\r",
        "Loading frame 1 of 66"
       ]
      },
      {
       "output_type": "stream",
       "stream": "stdout",
       "text": [
        "\r",
        "Loading frame 2 of 66"
       ]
      },
      {
       "output_type": "stream",
       "stream": "stdout",
       "text": [
        "\r",
        "Loading frame 3 of 66"
       ]
      },
      {
       "output_type": "stream",
       "stream": "stdout",
       "text": [
        "\r",
        "Loading frame 4 of 66"
       ]
      },
      {
       "output_type": "stream",
       "stream": "stdout",
       "text": [
        "\r",
        "Loading frame 5 of 66"
       ]
      },
      {
       "output_type": "stream",
       "stream": "stdout",
       "text": [
        "\r",
        "Loading frame 6 of 66"
       ]
      },
      {
       "output_type": "stream",
       "stream": "stdout",
       "text": [
        "\r",
        "Loading frame 7 of 66"
       ]
      },
      {
       "output_type": "stream",
       "stream": "stdout",
       "text": [
        "\r",
        "Loading frame 8 of 66"
       ]
      },
      {
       "output_type": "stream",
       "stream": "stdout",
       "text": [
        "\r",
        "Loading frame 9 of 66"
       ]
      },
      {
       "output_type": "stream",
       "stream": "stdout",
       "text": [
        "\r",
        "Loading frame 10 of 66"
       ]
      },
      {
       "output_type": "stream",
       "stream": "stdout",
       "text": [
        "\r",
        "Loading frame 11 of 66"
       ]
      },
      {
       "output_type": "stream",
       "stream": "stdout",
       "text": [
        "\r",
        "Loading frame 12 of 66"
       ]
      },
      {
       "output_type": "stream",
       "stream": "stdout",
       "text": [
        "\r",
        "Loading frame 13 of 66"
       ]
      },
      {
       "output_type": "stream",
       "stream": "stdout",
       "text": [
        "\r",
        "Loading frame 14 of 66"
       ]
      },
      {
       "output_type": "stream",
       "stream": "stdout",
       "text": [
        "\r",
        "Loading frame 15 of 66"
       ]
      },
      {
       "output_type": "stream",
       "stream": "stdout",
       "text": [
        "\r",
        "Loading frame 16 of 66"
       ]
      },
      {
       "output_type": "stream",
       "stream": "stdout",
       "text": [
        "\r",
        "Loading frame 17 of 66"
       ]
      },
      {
       "output_type": "stream",
       "stream": "stdout",
       "text": [
        "\r",
        "Loading frame 18 of 66"
       ]
      },
      {
       "output_type": "stream",
       "stream": "stdout",
       "text": [
        "\r",
        "Loading frame 19 of 66"
       ]
      },
      {
       "output_type": "stream",
       "stream": "stdout",
       "text": [
        "\r",
        "Loading frame 20 of 66"
       ]
      },
      {
       "output_type": "stream",
       "stream": "stdout",
       "text": [
        "\r",
        "Loading frame 21 of 66"
       ]
      },
      {
       "output_type": "stream",
       "stream": "stdout",
       "text": [
        "\r",
        "Loading frame 22 of 66"
       ]
      },
      {
       "output_type": "stream",
       "stream": "stdout",
       "text": [
        "\r",
        "Loading frame 23 of 66"
       ]
      },
      {
       "output_type": "stream",
       "stream": "stdout",
       "text": [
        "\r",
        "Loading frame 24 of 66"
       ]
      },
      {
       "output_type": "stream",
       "stream": "stdout",
       "text": [
        "\r",
        "Loading frame 25 of 66"
       ]
      },
      {
       "output_type": "stream",
       "stream": "stdout",
       "text": [
        "\r",
        "Loading frame 26 of 66"
       ]
      },
      {
       "output_type": "stream",
       "stream": "stdout",
       "text": [
        "\r",
        "Loading frame 27 of 66"
       ]
      },
      {
       "output_type": "stream",
       "stream": "stdout",
       "text": [
        "\r",
        "Loading frame 28 of 66"
       ]
      },
      {
       "output_type": "stream",
       "stream": "stdout",
       "text": [
        "\r",
        "Loading frame 29 of 66"
       ]
      },
      {
       "output_type": "stream",
       "stream": "stdout",
       "text": [
        "\r",
        "Loading frame 30 of 66"
       ]
      },
      {
       "output_type": "stream",
       "stream": "stdout",
       "text": [
        "\r",
        "Loading frame 31 of 66"
       ]
      },
      {
       "output_type": "stream",
       "stream": "stdout",
       "text": [
        "\r",
        "Loading frame 32 of 66"
       ]
      },
      {
       "output_type": "stream",
       "stream": "stdout",
       "text": [
        "\r",
        "Loading frame 33 of 66"
       ]
      },
      {
       "output_type": "stream",
       "stream": "stdout",
       "text": [
        "\r",
        "Loading frame 34 of 66"
       ]
      },
      {
       "output_type": "stream",
       "stream": "stdout",
       "text": [
        "\r",
        "Loading frame 35 of 66"
       ]
      },
      {
       "output_type": "stream",
       "stream": "stdout",
       "text": [
        "\r",
        "Loading frame 36 of 66"
       ]
      },
      {
       "output_type": "stream",
       "stream": "stdout",
       "text": [
        "\r",
        "Loading frame 37 of 66"
       ]
      },
      {
       "output_type": "stream",
       "stream": "stdout",
       "text": [
        "\r",
        "Loading frame 38 of 66"
       ]
      },
      {
       "output_type": "stream",
       "stream": "stdout",
       "text": [
        "\r",
        "Loading frame 39 of 66"
       ]
      },
      {
       "output_type": "stream",
       "stream": "stdout",
       "text": [
        "\r",
        "Loading frame 40 of 66"
       ]
      },
      {
       "output_type": "stream",
       "stream": "stdout",
       "text": [
        "\r",
        "Loading frame 41 of 66"
       ]
      },
      {
       "output_type": "stream",
       "stream": "stdout",
       "text": [
        "\r",
        "Loading frame 42 of 66"
       ]
      },
      {
       "output_type": "stream",
       "stream": "stdout",
       "text": [
        "\r",
        "Loading frame 43 of 66"
       ]
      },
      {
       "output_type": "stream",
       "stream": "stdout",
       "text": [
        "\r",
        "Loading frame 44 of 66"
       ]
      },
      {
       "output_type": "stream",
       "stream": "stdout",
       "text": [
        "\r",
        "Loading frame 45 of 66"
       ]
      },
      {
       "output_type": "stream",
       "stream": "stdout",
       "text": [
        "\r",
        "Loading frame 46 of 66"
       ]
      },
      {
       "output_type": "stream",
       "stream": "stdout",
       "text": [
        "\r",
        "Loading frame 47 of 66"
       ]
      },
      {
       "output_type": "stream",
       "stream": "stdout",
       "text": [
        "\r",
        "Loading frame 48 of 66"
       ]
      },
      {
       "output_type": "stream",
       "stream": "stdout",
       "text": [
        "\r",
        "Loading frame 49 of 66"
       ]
      },
      {
       "output_type": "stream",
       "stream": "stdout",
       "text": [
        "\r",
        "Loading frame 50 of 66"
       ]
      },
      {
       "output_type": "stream",
       "stream": "stdout",
       "text": [
        "\r",
        "Loading frame 51 of 66"
       ]
      },
      {
       "output_type": "stream",
       "stream": "stdout",
       "text": [
        "\r",
        "Loading frame 52 of 66"
       ]
      },
      {
       "output_type": "stream",
       "stream": "stdout",
       "text": [
        "\r",
        "Loading frame 53 of 66"
       ]
      },
      {
       "output_type": "stream",
       "stream": "stdout",
       "text": [
        "\r",
        "Loading frame 54 of 66"
       ]
      },
      {
       "output_type": "stream",
       "stream": "stdout",
       "text": [
        "\r",
        "Loading frame 55 of 66"
       ]
      },
      {
       "output_type": "stream",
       "stream": "stdout",
       "text": [
        "\r",
        "Loading frame 56 of 66"
       ]
      },
      {
       "output_type": "stream",
       "stream": "stdout",
       "text": [
        "\r",
        "Loading frame 57 of 66"
       ]
      },
      {
       "output_type": "stream",
       "stream": "stdout",
       "text": [
        "\r",
        "Loading frame 58 of 66"
       ]
      },
      {
       "output_type": "stream",
       "stream": "stdout",
       "text": [
        "\r",
        "Loading frame 59 of 66"
       ]
      },
      {
       "output_type": "stream",
       "stream": "stdout",
       "text": [
        "\r",
        "Loading frame 60 of 66"
       ]
      },
      {
       "output_type": "stream",
       "stream": "stdout",
       "text": [
        "\r",
        "Loading frame 61 of 66"
       ]
      },
      {
       "output_type": "stream",
       "stream": "stdout",
       "text": [
        "\r",
        "Loading frame 62 of 66"
       ]
      },
      {
       "output_type": "stream",
       "stream": "stdout",
       "text": [
        "\r",
        "Loading frame 63 of 66"
       ]
      },
      {
       "output_type": "stream",
       "stream": "stdout",
       "text": [
        "\r",
        "Loading frame 64 of 66"
       ]
      },
      {
       "output_type": "stream",
       "stream": "stdout",
       "text": [
        "\r",
        "Loading frame 65 of 66"
       ]
      },
      {
       "output_type": "stream",
       "stream": "stdout",
       "text": [
        "\n",
        "loaded distance matrix from  /home/ilisescu/PhD/data/pendulumdistMat.npy\n",
        "[  1.   8.  28.  56.  70.  56.  28.   8.   1.]\n",
        "rendering texture"
       ]
      },
      {
       "output_type": "stream",
       "stream": "stdout",
       "text": [
        "\n",
        "\r",
        "Iteration 0; distance 24163.7271601"
       ]
      },
      {
       "output_type": "stream",
       "stream": "stdout",
       "text": [
        "\r",
        "Iteration 1; distance 3700.20284355"
       ]
      },
      {
       "output_type": "stream",
       "stream": "stdout",
       "text": [
        "\r",
        "Iteration 2; distance 2803.62053554"
       ]
      },
      {
       "output_type": "stream",
       "stream": "stdout",
       "text": [
        "\r",
        "Iteration 3; distance 2524.70462276"
       ]
      },
      {
       "output_type": "stream",
       "stream": "stdout",
       "text": [
        "\r",
        "Iteration 4; distance 2466.26797314"
       ]
      },
      {
       "output_type": "stream",
       "stream": "stdout",
       "text": [
        "\r",
        "Iteration 5; distance 2414.39356119"
       ]
      },
      {
       "output_type": "stream",
       "stream": "stdout",
       "text": [
        "\r",
        "Iteration 6; distance 2363.05558891"
       ]
      },
      {
       "output_type": "stream",
       "stream": "stdout",
       "text": [
        "\r",
        "Iteration 7; distance 2313.04975345"
       ]
      },
      {
       "output_type": "stream",
       "stream": "stdout",
       "text": [
        "\r",
        "Iteration 8; distance 2264.51750941"
       ]
      },
      {
       "output_type": "stream",
       "stream": "stdout",
       "text": [
        "\r",
        "Iteration 9; distance 2216.97714066"
       ]
      },
      {
       "output_type": "stream",
       "stream": "stdout",
       "text": [
        "\r",
        "Iteration 10; distance 2170.69595396"
       ]
      },
      {
       "output_type": "stream",
       "stream": "stdout",
       "text": [
        "\r",
        "Iteration 11; distance 2125.15532706"
       ]
      },
      {
       "output_type": "stream",
       "stream": "stdout",
       "text": [
        "\r",
        "Iteration 12; distance 2080.62573545"
       ]
      },
      {
       "output_type": "stream",
       "stream": "stdout",
       "text": [
        "\r",
        "Iteration 13; distance 2037.15266628"
       ]
      },
      {
       "output_type": "stream",
       "stream": "stdout",
       "text": [
        "\r",
        "Iteration 14; distance 1989.6387634"
       ]
      },
      {
       "output_type": "stream",
       "stream": "stdout",
       "text": [
        "\r",
        "Iteration 15; distance 1921.410901"
       ]
      },
      {
       "output_type": "stream",
       "stream": "stdout",
       "text": [
        "\r",
        "Iteration 16; distance 1841.82395448"
       ]
      },
      {
       "output_type": "stream",
       "stream": "stdout",
       "text": [
        "\r",
        "Iteration 17; distance 1764.26618705"
       ]
      },
      {
       "output_type": "stream",
       "stream": "stdout",
       "text": [
        "\r",
        "Iteration 18; distance 1689.97431661"
       ]
      },
      {
       "output_type": "stream",
       "stream": "stdout",
       "text": [
        "\r",
        "Iteration 19; distance 1618.81081877"
       ]
      },
      {
       "output_type": "stream",
       "stream": "stdout",
       "text": [
        "\r",
        "Iteration 20; distance 1550.64396022"
       ]
      },
      {
       "output_type": "stream",
       "stream": "stdout",
       "text": [
        "\r",
        "Iteration 21; distance 1485.34755481"
       ]
      },
      {
       "output_type": "stream",
       "stream": "stdout",
       "text": [
        "\r",
        "Iteration 22; distance 1422.80073001"
       ]
      },
      {
       "output_type": "stream",
       "stream": "stdout",
       "text": [
        "\r",
        "Iteration 23; distance 1362.88770312"
       ]
      },
      {
       "output_type": "stream",
       "stream": "stdout",
       "text": [
        "\r",
        "Iteration 24; distance 1305.49756697"
       ]
      },
      {
       "output_type": "stream",
       "stream": "stdout",
       "text": [
        "\r",
        "Iteration 25; distance 1250.52408461"
       ]
      },
      {
       "output_type": "stream",
       "stream": "stdout",
       "text": [
        "\r",
        "Iteration 26; distance 1197.86549264"
       ]
      },
      {
       "output_type": "stream",
       "stream": "stdout",
       "text": [
        "\r",
        "Iteration 27; distance 1147.42431282"
       ]
      },
      {
       "output_type": "stream",
       "stream": "stdout",
       "text": [
        "\r",
        "Iteration 28; distance 1099.10717167"
       ]
      },
      {
       "output_type": "stream",
       "stream": "stdout",
       "text": [
        "\r",
        "Iteration 29; distance 1052.82462757"
       ]
      },
      {
       "output_type": "stream",
       "stream": "stdout",
       "text": [
        "\r",
        "Iteration 30; distance 1008.49100523"
       ]
      },
      {
       "output_type": "stream",
       "stream": "stdout",
       "text": [
        "\r",
        "Iteration 31; distance 966.024237092"
       ]
      },
      {
       "output_type": "stream",
       "stream": "stdout",
       "text": [
        "\r",
        "Iteration 32; distance 925.345711372"
       ]
      },
      {
       "output_type": "stream",
       "stream": "stdout",
       "text": [
        "\r",
        "Iteration 33; distance 886.38012658"
       ]
      },
      {
       "output_type": "stream",
       "stream": "stdout",
       "text": [
        "\r",
        "Iteration 34; distance 849.055352115"
       ]
      },
      {
       "output_type": "stream",
       "stream": "stdout",
       "text": [
        "\r",
        "Iteration 35; distance 813.302294735"
       ]
      },
      {
       "output_type": "stream",
       "stream": "stdout",
       "text": [
        "\r",
        "Iteration 36; distance 779.054770661"
       ]
      },
      {
       "output_type": "stream",
       "stream": "stdout",
       "text": [
        "\r",
        "Iteration 37; distance 746.249383064"
       ]
      },
      {
       "output_type": "stream",
       "stream": "stdout",
       "text": [
        "\r",
        "Iteration 38; distance 714.825404702"
       ]
      },
      {
       "output_type": "stream",
       "stream": "stdout",
       "text": [
        "\r",
        "Iteration 39; distance 684.724665513"
       ]
      },
      {
       "output_type": "stream",
       "stream": "stdout",
       "text": [
        "\r",
        "Iteration 40; distance 655.891444929"
       ]
      },
      {
       "output_type": "stream",
       "stream": "stdout",
       "text": [
        "\r",
        "Iteration 41; distance 628.272368731"
       ]
      },
      {
       "output_type": "stream",
       "stream": "stdout",
       "text": [
        "\r",
        "Iteration 42; distance 601.81631025"
       ]
      },
      {
       "output_type": "stream",
       "stream": "stdout",
       "text": [
        "\r",
        "Iteration 43; distance 576.474295716"
       ]
      },
      {
       "output_type": "stream",
       "stream": "stdout",
       "text": [
        "\r",
        "Iteration 44; distance 552.199413612"
       ]
      },
      {
       "output_type": "stream",
       "stream": "stdout",
       "text": [
        "\r",
        "Iteration 45; distance 528.946727823"
       ]
      },
      {
       "output_type": "stream",
       "stream": "stdout",
       "text": [
        "\r",
        "Iteration 46; distance 506.673194461"
       ]
      },
      {
       "output_type": "stream",
       "stream": "stdout",
       "text": [
        "\r",
        "Iteration 47; distance 485.337582184"
       ]
      },
      {
       "output_type": "stream",
       "stream": "stdout",
       "text": [
        "\r",
        "Iteration 48; distance 464.900395867"
       ]
      },
      {
       "output_type": "stream",
       "stream": "stdout",
       "text": [
        "\r",
        "Iteration 49; distance 445.323803495"
       ]
      },
      {
       "output_type": "stream",
       "stream": "stdout",
       "text": [
        "\r",
        "Iteration 50; distance 426.57156613"
       ]
      },
      {
       "output_type": "stream",
       "stream": "stdout",
       "text": [
        "\r",
        "Iteration 51; distance 408.608970826"
       ]
      },
      {
       "output_type": "stream",
       "stream": "stdout",
       "text": [
        "\r",
        "Iteration 52; distance 391.402766373"
       ]
      },
      {
       "output_type": "stream",
       "stream": "stdout",
       "text": [
        "\r",
        "Iteration 53; distance 374.921101744"
       ]
      },
      {
       "output_type": "stream",
       "stream": "stdout",
       "text": [
        "\r",
        "Iteration 54; distance 359.133467133"
       ]
      },
      {
       "output_type": "stream",
       "stream": "stdout",
       "text": [
        "\r",
        "Iteration 55; distance 344.010637478"
       ]
      },
      {
       "output_type": "stream",
       "stream": "stdout",
       "text": [
        "\r",
        "Iteration 56; distance 329.524618362"
       ]
      },
      {
       "output_type": "stream",
       "stream": "stdout",
       "text": [
        "\r",
        "Iteration 57; distance 315.648594191"
       ]
      },
      {
       "output_type": "stream",
       "stream": "stdout",
       "text": [
        "\r",
        "Iteration 58; distance 302.356878555"
       ]
      },
      {
       "output_type": "stream",
       "stream": "stdout",
       "text": [
        "\r",
        "Iteration 59; distance 289.624866677"
       ]
      },
      {
       "output_type": "stream",
       "stream": "stdout",
       "text": [
        "\r",
        "Iteration 60; distance 277.428989869"
       ]
      },
      {
       "output_type": "stream",
       "stream": "stdout",
       "text": [
        "\r",
        "Iteration 61; distance 265.746671904"
       ]
      },
      {
       "output_type": "stream",
       "stream": "stdout",
       "text": [
        "\r",
        "Iteration 62; distance 254.556287218"
       ]
      },
      {
       "output_type": "stream",
       "stream": "stdout",
       "text": [
        "\r",
        "Iteration 63; distance 243.837120888"
       ]
      },
      {
       "output_type": "stream",
       "stream": "stdout",
       "text": [
        "\r",
        "Iteration 64; distance 233.569330274"
       ]
      },
      {
       "output_type": "stream",
       "stream": "stdout",
       "text": [
        "\r",
        "Iteration 65; distance 223.7339083"
       ]
      },
      {
       "output_type": "stream",
       "stream": "stdout",
       "text": [
        "\r",
        "Iteration 66; distance 214.312648259"
       ]
      },
      {
       "output_type": "stream",
       "stream": "stdout",
       "text": [
        "\r",
        "Iteration 67; distance 205.288110116"
       ]
      },
      {
       "output_type": "stream",
       "stream": "stdout",
       "text": [
        "\r",
        "Iteration 68; distance 196.643588222"
       ]
      },
      {
       "output_type": "stream",
       "stream": "stdout",
       "text": [
        "\r",
        "Iteration 69; distance 188.36308039"
       ]
      },
      {
       "output_type": "stream",
       "stream": "stdout",
       "text": [
        "\r",
        "Iteration 70; distance 180.431258272"
       ]
      },
      {
       "output_type": "stream",
       "stream": "stdout",
       "text": [
        "\r",
        "Iteration 71; distance 172.833438985"
       ]
      },
      {
       "output_type": "stream",
       "stream": "stdout",
       "text": [
        "\r",
        "Iteration 72; distance 165.55555793"
       ]
      },
      {
       "output_type": "stream",
       "stream": "stdout",
       "text": [
        "\r",
        "Iteration 73; distance 158.58414276"
       ]
      },
      {
       "output_type": "stream",
       "stream": "stdout",
       "text": [
        "\r",
        "Iteration 74; distance 151.906288434"
       ]
      },
      {
       "output_type": "stream",
       "stream": "stdout",
       "text": [
        "\r",
        "Iteration 75; distance 145.509633336"
       ]
      },
      {
       "output_type": "stream",
       "stream": "stdout",
       "text": [
        "\r",
        "Iteration 76; distance 139.382336385"
       ]
      },
      {
       "output_type": "stream",
       "stream": "stdout",
       "text": [
        "\r",
        "Iteration 77; distance 133.513055121"
       ]
      },
      {
       "output_type": "stream",
       "stream": "stdout",
       "text": [
        "\r",
        "Iteration 78; distance 127.890924704"
       ]
      },
      {
       "output_type": "stream",
       "stream": "stdout",
       "text": [
        "\r",
        "Iteration 79; distance 122.505537806"
       ]
      },
      {
       "output_type": "stream",
       "stream": "stdout",
       "text": [
        "\r",
        "Iteration 80; distance 117.346925341"
       ]
      },
      {
       "output_type": "stream",
       "stream": "stdout",
       "text": [
        "\r",
        "Iteration 81; distance 112.405538016"
       ]
      },
      {
       "output_type": "stream",
       "stream": "stdout",
       "text": [
        "\r",
        "Iteration 82; distance 107.67222865"
       ]
      },
      {
       "output_type": "stream",
       "stream": "stdout",
       "text": [
        "\r",
        "Iteration 83; distance 103.138235242"
       ]
      },
      {
       "output_type": "stream",
       "stream": "stdout",
       "text": [
        "\r",
        "Iteration 84; distance 98.795164754"
       ]
      },
      {
       "output_type": "stream",
       "stream": "stdout",
       "text": [
        "\r",
        "Iteration 85; distance 94.63497757"
       ]
      },
      {
       "output_type": "stream",
       "stream": "stdout",
       "text": [
        "\r",
        "Iteration 86; distance 90.6499726173"
       ]
      },
      {
       "output_type": "stream",
       "stream": "stdout",
       "text": [
        "\r",
        "Iteration 87; distance 86.8327731091"
       ]
      },
      {
       "output_type": "stream",
       "stream": "stdout",
       "text": [
        "\r",
        "Iteration 88; distance 83.1763128893"
       ]
      },
      {
       "output_type": "stream",
       "stream": "stdout",
       "text": [
        "\r",
        "Iteration 89; distance 79.6738233519"
       ]
      },
      {
       "output_type": "stream",
       "stream": "stdout",
       "text": [
        "\r",
        "Iteration 90; distance 76.318820912"
       ]
      },
      {
       "output_type": "stream",
       "stream": "stdout",
       "text": [
        "\r",
        "Iteration 91; distance 73.105095003"
       ]
      },
      {
       "output_type": "stream",
       "stream": "stdout",
       "text": [
        "\r",
        "Iteration 92; distance 70.0266965806"
       ]
      },
      {
       "output_type": "stream",
       "stream": "stdout",
       "text": [
        "\r",
        "Iteration 93; distance 67.0779271103"
       ]
      },
      {
       "output_type": "stream",
       "stream": "stdout",
       "text": [
        "\r",
        "Iteration 94; distance 64.2533280179"
       ]
      },
      {
       "output_type": "stream",
       "stream": "stdout",
       "text": [
        "\r",
        "Iteration 95; distance 61.547670586"
       ]
      },
      {
       "output_type": "stream",
       "stream": "stdout",
       "text": [
        "\r",
        "Iteration 96; distance 58.9559462743"
       ]
      },
      {
       "output_type": "stream",
       "stream": "stdout",
       "text": [
        "\r",
        "Iteration 97; distance 56.473357448"
       ]
      },
      {
       "output_type": "stream",
       "stream": "stdout",
       "text": [
        "\r",
        "Iteration 98; distance 54.0953084972"
       ]
      },
      {
       "output_type": "stream",
       "stream": "stdout",
       "text": [
        "\r",
        "Iteration 99; distance 51.8173973294"
       ]
      },
      {
       "output_type": "stream",
       "stream": "stdout",
       "text": [
        "\r",
        "Iteration 100; distance 49.6354072207"
       ]
      },
      {
       "output_type": "stream",
       "stream": "stdout",
       "text": [
        "\r",
        "Iteration 101; distance 47.5452990104"
       ]
      },
      {
       "output_type": "stream",
       "stream": "stdout",
       "text": [
        "\r",
        "Iteration 102; distance 45.5432036235"
       ]
      },
      {
       "output_type": "stream",
       "stream": "stdout",
       "text": [
        "\r",
        "Iteration 103; distance 43.6254149088"
       ]
      },
      {
       "output_type": "stream",
       "stream": "stdout",
       "text": [
        "\r",
        "Iteration 104; distance 41.7883827783"
       ]
      },
      {
       "output_type": "stream",
       "stream": "stdout",
       "text": [
        "\r",
        "Iteration 105; distance 40.0287066351"
       ]
      },
      {
       "output_type": "stream",
       "stream": "stdout",
       "text": [
        "\r",
        "Iteration 106; distance 38.3431290793"
       ]
      },
      {
       "output_type": "stream",
       "stream": "stdout",
       "text": [
        "\r",
        "Iteration 107; distance 36.7285298771"
       ]
      },
      {
       "output_type": "stream",
       "stream": "stdout",
       "text": [
        "\r",
        "Iteration 108; distance 35.1819201856"
       ]
      },
      {
       "output_type": "stream",
       "stream": "stdout",
       "text": [
        "\r",
        "Iteration 109; distance 33.7004370196"
       ]
      },
      {
       "output_type": "stream",
       "stream": "stdout",
       "text": [
        "\r",
        "Iteration 110; distance 32.2813379521"
       ]
      },
      {
       "output_type": "stream",
       "stream": "stdout",
       "text": [
        "\r",
        "Iteration 111; distance 30.9219960373"
       ]
      },
      {
       "output_type": "stream",
       "stream": "stdout",
       "text": [
        "\r",
        "Iteration 112; distance 29.6198949483"
       ]
      },
      {
       "output_type": "stream",
       "stream": "stdout",
       "text": [
        "\r",
        "Iteration 113; distance 28.3726243185"
       ]
      },
      {
       "output_type": "stream",
       "stream": "stdout",
       "text": [
        "\r",
        "Iteration 114; distance 27.1778752804"
       ]
      },
      {
       "output_type": "stream",
       "stream": "stdout",
       "text": [
        "\r",
        "Iteration 115; distance 26.0334361906"
       ]
      },
      {
       "output_type": "stream",
       "stream": "stdout",
       "text": [
        "\r",
        "Iteration 116; distance 24.9371885365"
       ]
      },
      {
       "output_type": "stream",
       "stream": "stdout",
       "text": [
        "\r",
        "Iteration 117; distance 23.8871030145"
       ]
      },
      {
       "output_type": "stream",
       "stream": "stdout",
       "text": [
        "\r",
        "Iteration 118; distance 22.8812357732"
       ]
      },
      {
       "output_type": "stream",
       "stream": "stdout",
       "text": [
        "\r",
        "Iteration 119; distance 21.9177248154"
       ]
      },
      {
       "output_type": "stream",
       "stream": "stdout",
       "text": [
        "\r",
        "Iteration 120; distance 20.9947865511"
       ]
      },
      {
       "output_type": "stream",
       "stream": "stdout",
       "text": [
        "\r",
        "Iteration 121; distance 20.1107124959"
       ]
      },
      {
       "output_type": "stream",
       "stream": "stdout",
       "text": [
        "\r",
        "Iteration 122; distance 19.2638661083"
       ]
      },
      {
       "output_type": "stream",
       "stream": "stdout",
       "text": [
        "\r",
        "Iteration 123; distance 18.4526797603"
       ]
      },
      {
       "output_type": "stream",
       "stream": "stdout",
       "text": [
        "\r",
        "Iteration 124; distance 17.6756518355"
       ]
      },
      {
       "output_type": "stream",
       "stream": "stdout",
       "text": [
        "\r",
        "Iteration 125; distance 16.9313439494"
       ]
      },
      {
       "output_type": "stream",
       "stream": "stdout",
       "text": [
        "\r",
        "Iteration 126; distance 16.2183782868"
       ]
      },
      {
       "output_type": "stream",
       "stream": "stdout",
       "text": [
        "\r",
        "Iteration 127; distance 15.535435051"
       ]
      },
      {
       "output_type": "stream",
       "stream": "stdout",
       "text": [
        "\r",
        "Iteration 128; distance 14.8812500212"
       ]
      },
      {
       "output_type": "stream",
       "stream": "stdout",
       "text": [
        "\r",
        "Iteration 129; distance 14.2546122119"
       ]
      },
      {
       "output_type": "stream",
       "stream": "stdout",
       "text": [
        "\r",
        "Iteration 130; distance 13.6543616309"
       ]
      },
      {
       "output_type": "stream",
       "stream": "stdout",
       "text": [
        "\r",
        "Iteration 131; distance 13.0793871329"
       ]
      },
      {
       "output_type": "stream",
       "stream": "stdout",
       "text": [
        "\r",
        "Iteration 132; distance 12.5286243616"
       ]
      },
      {
       "output_type": "stream",
       "stream": "stdout",
       "text": [
        "\r",
        "Iteration 133; distance 12.0010537803"
       ]
      },
      {
       "output_type": "stream",
       "stream": "stdout",
       "text": [
        "\r",
        "Iteration 134; distance 11.4956987839"
       ]
      },
      {
       "output_type": "stream",
       "stream": "stdout",
       "text": [
        "\r",
        "Iteration 135; distance 11.0116238915"
       ]
      },
      {
       "output_type": "stream",
       "stream": "stdout",
       "text": [
        "\r",
        "Iteration 136; distance 10.5479330145"
       ]
      },
      {
       "output_type": "stream",
       "stream": "stdout",
       "text": [
        "\r",
        "Iteration 137; distance 10.1037677979"
       ]
      },
      {
       "output_type": "stream",
       "stream": "stdout",
       "text": [
        "\r",
        "Iteration 138; distance 9.67830603158"
       ]
      },
      {
       "output_type": "stream",
       "stream": "stdout",
       "text": [
        "\r",
        "Iteration 139; distance 9.27076012775"
       ]
      },
      {
       "output_type": "stream",
       "stream": "stdout",
       "text": [
        "\r",
        "Iteration 140; distance 8.88037566344"
       ]
      },
      {
       "output_type": "stream",
       "stream": "stdout",
       "text": [
        "\r",
        "Iteration 141; distance 8.50642998381"
       ]
      },
      {
       "output_type": "stream",
       "stream": "stdout",
       "text": [
        "\r",
        "Iteration 142; distance 8.14823086459"
       ]
      },
      {
       "output_type": "stream",
       "stream": "stdout",
       "text": [
        "\r",
        "Iteration 143; distance 7.80511523034"
       ]
      },
      {
       "output_type": "stream",
       "stream": "stdout",
       "text": [
        "\r",
        "Iteration 144; distance 7.47644792733"
       ]
      },
      {
       "output_type": "stream",
       "stream": "stdout",
       "text": [
        "\r",
        "Iteration 145; distance 7.16162054762"
       ]
      },
      {
       "output_type": "stream",
       "stream": "stdout",
       "text": [
        "\r",
        "Iteration 146; distance 6.86005030283"
       ]
      },
      {
       "output_type": "stream",
       "stream": "stdout",
       "text": [
        "\r",
        "Iteration 147; distance 6.57117894541"
       ]
      },
      {
       "output_type": "stream",
       "stream": "stdout",
       "text": [
        "\r",
        "Iteration 148; distance 6.29447173508"
       ]
      },
      {
       "output_type": "stream",
       "stream": "stdout",
       "text": [
        "\r",
        "Iteration 149; distance 6.02941644916"
       ]
      },
      {
       "output_type": "stream",
       "stream": "stdout",
       "text": [
        "\r",
        "Iteration 150; distance 5.77552243417"
       ]
      },
      {
       "output_type": "stream",
       "stream": "stdout",
       "text": [
        "\r",
        "Iteration 151; distance 5.53231969778"
       ]
      },
      {
       "output_type": "stream",
       "stream": "stdout",
       "text": [
        "\r",
        "Iteration 152; distance 5.29935803855"
       ]
      },
      {
       "output_type": "stream",
       "stream": "stdout",
       "text": [
        "\r",
        "Iteration 153; distance 5.07620621275"
       ]
      },
      {
       "output_type": "stream",
       "stream": "stdout",
       "text": [
        "\r",
        "Iteration 154; distance 4.86245113594"
       ]
      },
      {
       "output_type": "stream",
       "stream": "stdout",
       "text": [
        "\r",
        "Iteration 155; distance 4.65769711837"
       ]
      },
      {
       "output_type": "stream",
       "stream": "stdout",
       "text": [
        "\r",
        "Iteration 156; distance 4.4615651325"
       ]
      },
      {
       "output_type": "stream",
       "stream": "stdout",
       "text": [
        "\r",
        "Iteration 157; distance 4.27369211131"
       ]
      },
      {
       "output_type": "stream",
       "stream": "stdout",
       "text": [
        "\r",
        "Iteration 158; distance 4.09373027618"
       ]
      },
      {
       "output_type": "stream",
       "stream": "stdout",
       "text": [
        "\r",
        "Iteration 159; distance 3.92134649332"
       ]
      },
      {
       "output_type": "stream",
       "stream": "stdout",
       "text": [
        "\r",
        "Iteration 160; distance 3.75622165682"
       ]
      },
      {
       "output_type": "stream",
       "stream": "stdout",
       "text": [
        "\r",
        "Iteration 161; distance 3.59805009815"
       ]
      },
      {
       "output_type": "stream",
       "stream": "stdout",
       "text": [
        "\r",
        "Iteration 162; distance 3.44653902022"
       ]
      },
      {
       "output_type": "stream",
       "stream": "stdout",
       "text": [
        "\r",
        "Iteration 163; distance 3.30140795537"
       ]
      },
      {
       "output_type": "stream",
       "stream": "stdout",
       "text": [
        "\r",
        "Iteration 164; distance 3.1623882463"
       ]
      },
      {
       "output_type": "stream",
       "stream": "stdout",
       "text": [
        "\r",
        "Iteration 165; distance 3.02922254852"
       ]
      },
      {
       "output_type": "stream",
       "stream": "stdout",
       "text": [
        "\r",
        "Iteration 166; distance 2.90166435419"
       ]
      },
      {
       "output_type": "stream",
       "stream": "stdout",
       "text": [
        "\r",
        "Iteration 167; distance 2.77947753576"
       ]
      },
      {
       "output_type": "stream",
       "stream": "stdout",
       "text": [
        "\r",
        "Iteration 168; distance 2.66243590876"
       ]
      },
      {
       "output_type": "stream",
       "stream": "stdout",
       "text": [
        "\r",
        "Iteration 169; distance 2.55032281319"
       ]
      },
      {
       "output_type": "stream",
       "stream": "stdout",
       "text": [
        "\r",
        "Iteration 170; distance 2.44293071247"
       ]
      },
      {
       "output_type": "stream",
       "stream": "stdout",
       "text": [
        "\r",
        "Iteration 171; distance 2.34006080923"
       ]
      },
      {
       "output_type": "stream",
       "stream": "stdout",
       "text": [
        "\r",
        "Iteration 172; distance 2.2415226772"
       ]
      },
      {
       "output_type": "stream",
       "stream": "stdout",
       "text": [
        "\r",
        "Iteration 173; distance 2.14713390894"
       ]
      },
      {
       "output_type": "stream",
       "stream": "stdout",
       "text": [
        "\r",
        "Iteration 174; distance 2.0567197779"
       ]
      },
      {
       "output_type": "stream",
       "stream": "stdout",
       "text": [
        "\r",
        "Iteration 175; distance 1.97011291529"
       ]
      },
      {
       "output_type": "stream",
       "stream": "stdout",
       "text": [
        "\r",
        "Iteration 176; distance 1.88715299997"
       ]
      },
      {
       "output_type": "stream",
       "stream": "stdout",
       "text": [
        "\r",
        "Iteration 177; distance 1.80768646185"
       ]
      },
      {
       "output_type": "stream",
       "stream": "stdout",
       "text": [
        "\r",
        "Iteration 178; distance 1.73156619757"
       ]
      },
      {
       "output_type": "stream",
       "stream": "stdout",
       "text": [
        "\r",
        "Iteration 179; distance 1.65865129812"
       ]
      },
      {
       "output_type": "stream",
       "stream": "stdout",
       "text": [
        "\r",
        "Iteration 180; distance 1.58880678815"
       ]
      },
      {
       "output_type": "stream",
       "stream": "stdout",
       "text": [
        "\r",
        "Iteration 181; distance 1.52190337584"
       ]
      },
      {
       "output_type": "stream",
       "stream": "stdout",
       "text": [
        "\r",
        "Iteration 182; distance 1.45781721399"
       ]
      },
      {
       "output_type": "stream",
       "stream": "stdout",
       "text": [
        "\r",
        "Iteration 183; distance 1.39642967034"
       ]
      },
      {
       "output_type": "stream",
       "stream": "stdout",
       "text": [
        "\r",
        "Iteration 184; distance 1.33762710815"
       ]
      },
      {
       "output_type": "stream",
       "stream": "stdout",
       "text": [
        "\r",
        "Iteration 185; distance 1.28130067588"
       ]
      },
      {
       "output_type": "stream",
       "stream": "stdout",
       "text": [
        "\r",
        "Iteration 186; distance 1.22734610574"
       ]
      },
      {
       "output_type": "stream",
       "stream": "stdout",
       "text": [
        "\r",
        "Iteration 187; distance 1.17566352034"
       ]
      },
      {
       "output_type": "stream",
       "stream": "stdout",
       "text": [
        "\r",
        "Iteration 188; distance 1.12615724821"
       ]
      },
      {
       "output_type": "stream",
       "stream": "stdout",
       "text": [
        "\r",
        "Iteration 189; distance 1.07873564654"
       ]
      },
      {
       "output_type": "stream",
       "stream": "stdout",
       "text": [
        "\r",
        "Iteration 190; distance 1.03331093146"
       ]
      },
      {
       "output_type": "stream",
       "stream": "stdout",
       "text": [
        "\r",
        "Iteration 191; distance 0.989799015615"
       ]
      },
      {
       "output_type": "stream",
       "stream": "stdout",
       "text": [
        "\r",
        "Iteration 192; distance 0.948119352529"
       ]
      },
      {
       "output_type": "stream",
       "stream": "stdout",
       "text": [
        "\r",
        "Iteration 193; distance 0.908194787498"
       ]
      },
      {
       "output_type": "stream",
       "stream": "stdout",
       "text": [
        "\r",
        "Iteration 194; distance 0.869951414739"
       ]
      },
      {
       "output_type": "stream",
       "stream": "stdout",
       "text": [
        "\r",
        "Iteration 195; distance 0.833318440479"
       ]
      },
      {
       "output_type": "stream",
       "stream": "stdout",
       "text": [
        "\r",
        "Iteration 196; distance 0.798228052151"
       ]
      },
      {
       "output_type": "stream",
       "stream": "stdout",
       "text": [
        "\r",
        "Iteration 197; distance 0.764615292645"
       ]
      },
      {
       "output_type": "stream",
       "stream": "stdout",
       "text": [
        "\r",
        "Iteration 198; distance 0.732417940184"
       ]
      },
      {
       "output_type": "stream",
       "stream": "stdout",
       "text": [
        "\r",
        "Iteration 199; distance 0.701576393094"
       ]
      },
      {
       "output_type": "stream",
       "stream": "stdout",
       "text": [
        "\r",
        "Iteration 200; distance 0.672033559439"
       ]
      },
      {
       "output_type": "stream",
       "stream": "stdout",
       "text": [
        "\r",
        "Iteration 201; distance 0.643734751392"
       ]
      },
      {
       "output_type": "stream",
       "stream": "stdout",
       "text": [
        "\r",
        "Iteration 202; distance 0.616627584077"
       ]
      },
      {
       "output_type": "stream",
       "stream": "stdout",
       "text": [
        "\r",
        "Iteration 203; distance 0.590661878399"
       ]
      },
      {
       "output_type": "stream",
       "stream": "stdout",
       "text": [
        "\r",
        "Iteration 204; distance 0.565789568223"
       ]
      },
      {
       "output_type": "stream",
       "stream": "stdout",
       "text": [
        "\r",
        "Iteration 205; distance 0.541964611653"
       ]
      },
      {
       "output_type": "stream",
       "stream": "stdout",
       "text": [
        "\r",
        "Iteration 206; distance 0.51914290538"
       ]
      },
      {
       "output_type": "stream",
       "stream": "stdout",
       "text": [
        "\r",
        "Iteration 207; distance 0.497282203286"
       ]
      },
      {
       "output_type": "stream",
       "stream": "stdout",
       "text": [
        "\r",
        "Iteration 208; distance 0.47634203833"
       ]
      },
      {
       "output_type": "stream",
       "stream": "stdout",
       "text": [
        "\r",
        "Iteration 209; distance 0.456283647352"
       ]
      },
      {
       "output_type": "stream",
       "stream": "stdout",
       "text": [
        "\r",
        "Iteration 210; distance 0.437069899505"
       ]
      },
      {
       "output_type": "stream",
       "stream": "stdout",
       "text": [
        "\r",
        "Iteration 211; distance 0.418665227579"
       ]
      },
      {
       "output_type": "stream",
       "stream": "stdout",
       "text": [
        "\r",
        "Iteration 212; distance 0.401035562027"
       ]
      },
      {
       "output_type": "stream",
       "stream": "stdout",
       "text": [
        "\r",
        "Iteration 213; distance 0.384148267898"
       ]
      },
      {
       "output_type": "stream",
       "stream": "stdout",
       "text": [
        "\r",
        "Iteration 214; distance 0.367972084543"
       ]
      },
      {
       "output_type": "stream",
       "stream": "stdout",
       "text": [
        "\r",
        "Iteration 215; distance 0.35247706763"
       ]
      },
      {
       "output_type": "stream",
       "stream": "stdout",
       "text": [
        "\r",
        "Iteration 216; distance 0.337634533762"
       ]
      },
      {
       "output_type": "stream",
       "stream": "stdout",
       "text": [
        "\r",
        "Iteration 217; distance 0.323417007361"
       ]
      },
      {
       "output_type": "stream",
       "stream": "stdout",
       "text": [
        "\r",
        "Iteration 218; distance 0.309798169918"
       ]
      },
      {
       "output_type": "stream",
       "stream": "stdout",
       "text": [
        "\r",
        "Iteration 219; distance 0.296752811112"
       ]
      },
      {
       "output_type": "stream",
       "stream": "stdout",
       "text": [
        "\r",
        "Iteration 220; distance 0.284256782142"
       ]
      },
      {
       "output_type": "stream",
       "stream": "stdout",
       "text": [
        "\r",
        "Iteration 221; distance 0.272286951177"
       ]
      },
      {
       "output_type": "stream",
       "stream": "stdout",
       "text": [
        "\r",
        "Iteration 222; distance 0.26082116042"
       ]
      },
      {
       "output_type": "stream",
       "stream": "stdout",
       "text": [
        "\r",
        "Iteration 223; distance 0.249838185171"
       ]
      },
      {
       "output_type": "stream",
       "stream": "stdout",
       "text": [
        "\r",
        "Iteration 224; distance 0.239317694421"
       ]
      },
      {
       "output_type": "stream",
       "stream": "stdout",
       "text": [
        "\r",
        "Iteration 225; distance 0.229240213334"
       ]
      },
      {
       "output_type": "stream",
       "stream": "stdout",
       "text": [
        "\r",
        "Iteration 226; distance 0.219587087072"
       ]
      },
      {
       "output_type": "stream",
       "stream": "stdout",
       "text": [
        "\r",
        "Iteration 227; distance 0.210340446447"
       ]
      },
      {
       "output_type": "stream",
       "stream": "stdout",
       "text": [
        "\r",
        "Iteration 228; distance 0.201483174605"
       ]
      },
      {
       "output_type": "stream",
       "stream": "stdout",
       "text": [
        "\r",
        "Iteration 229; distance 0.192998875571"
       ]
      },
      {
       "output_type": "stream",
       "stream": "stdout",
       "text": [
        "\r",
        "Iteration 230; distance 0.184871843763"
       ]
      },
      {
       "output_type": "stream",
       "stream": "stdout",
       "text": [
        "\r",
        "Iteration 231; distance 0.177087034926"
       ]
      },
      {
       "output_type": "stream",
       "stream": "stdout",
       "text": [
        "\r",
        "Iteration 232; distance 0.16963003825"
       ]
      },
      {
       "output_type": "stream",
       "stream": "stdout",
       "text": [
        "\r",
        "Iteration 233; distance 0.162487049894"
       ]
      },
      {
       "output_type": "stream",
       "stream": "stdout",
       "text": [
        "\r",
        "Iteration 234; distance 0.155644847193"
       ]
      },
      {
       "output_type": "stream",
       "stream": "stdout",
       "text": [
        "\r",
        "Iteration 235; distance 0.149090764302"
       ]
      },
      {
       "output_type": "stream",
       "stream": "stdout",
       "text": [
        "\r",
        "Iteration 236; distance 0.142812668707"
       ]
      },
      {
       "output_type": "stream",
       "stream": "stdout",
       "text": [
        "\r",
        "Iteration 237; distance 0.136798938869"
       ]
      },
      {
       "output_type": "stream",
       "stream": "stdout",
       "text": [
        "\r",
        "Iteration 238; distance 0.131038442435"
       ]
      },
      {
       "output_type": "stream",
       "stream": "stdout",
       "text": [
        "\r",
        "Iteration 239; distance 0.125520515998"
       ]
      },
      {
       "output_type": "stream",
       "stream": "stdout",
       "text": [
        "\r",
        "Iteration 240; distance 0.120234945183"
       ]
      },
      {
       "output_type": "stream",
       "stream": "stdout",
       "text": [
        "\r",
        "Iteration 241; distance 0.115171945622"
       ]
      },
      {
       "output_type": "stream",
       "stream": "stdout",
       "text": [
        "\r",
        "Iteration 242; distance 0.110322144941"
       ]
      },
      {
       "output_type": "stream",
       "stream": "stdout",
       "text": [
        "\r",
        "Iteration 243; distance 0.105676565648"
       ]
      },
      {
       "output_type": "stream",
       "stream": "stdout",
       "text": [
        "\r",
        "Iteration 244; distance 0.101226608039"
       ]
      },
      {
       "output_type": "stream",
       "stream": "stdout",
       "text": [
        "\r",
        "Iteration 245; distance 0.0969640346927"
       ]
      },
      {
       "output_type": "stream",
       "stream": "stdout",
       "text": [
        "\n",
        "finished in 246 iterations\n",
        "sigma"
       ]
      },
      {
       "output_type": "stream",
       "stream": "stdout",
       "text": [
        " 8.77812188294\n",
        "(57, 57) (57, 57)\n",
        "35"
       ]
      },
      {
       "output_type": "stream",
       "stream": "stdout",
       "text": [
        "\n",
        "starting at frame 40\n",
        "frame 1 of 100 taken from frame 41 [ 0.45598894]\n",
        "frame 2 of 100 taken from frame 42 [ 0.24477248]\n",
        "frame 3 of 100 taken from frame 43 [ 0.37152702]\n",
        "frame 4 of 100 taken from frame 44 [ 0.85271159]\n",
        "frame 5 of 100 taken from frame 45 [ 0.48463154]\n",
        "frame 6 of 100 taken from frame 46 [ 0.16893237]\n",
        "frame 7 of 100 taken from frame 47 [ 0.5064576]\n",
        "frame 8 of 100 taken from frame 48 [ 0.8980285]\n",
        "frame 9 of 100 taken from frame 49 [ 0.72401353]\n",
        "frame 10 of 100 taken from frame 7 [ 0.38134422]\n",
        "frame 11 of 100 taken from frame 8 [ 0.95021935]\n",
        "frame 12 of 100 taken from frame 9 [ 0.6604044]\n",
        "frame 13 of 100 taken from frame 10 [ 0.31099931]\n",
        "frame 14 of 100 taken from frame 11 [ 0.75920091]\n",
        "frame 15 of 100 taken from frame 12 [ 0.53218649]\n",
        "frame 16 of 100 taken from frame 13 [ 0.93402196]\n",
        "frame 17 of 100 taken from frame 14 [ 0.59207212]\n",
        "frame 18 of 100 taken from frame 15 [ 0.00182469]\n",
        "frame 19 of 100 taken from frame 16 [ 0.79548124]\n",
        "frame 20 of 100 taken from frame 17 [ 0.52754647]\n",
        "frame 21 of 100 taken from frame 18 [ 0.80593879]\n",
        "frame 22 of 100 taken from frame 19 [ 0.78057273]\n",
        "frame 23 of 100 taken from frame 20 [ 0.10741649]\n",
        "frame 24 of 100 taken from frame 21 [ 0.9588789]\n",
        "frame 25 of 100 taken from frame 22 [ 0.11883582]\n",
        "frame 26 of 100 taken from frame 23 [ 0.21044727]\n",
        "frame 27 of 100 taken from frame 24 [ 0.64128961]\n",
        "frame 28 of 100 taken from frame 46 [ 0.99994194]\n",
        "frame 29 of 100 taken from frame 47 [ 0.63820969]\n",
        "frame 30 of 100 taken from frame 5 [ 0.39617738]\n",
        "frame 31 of 100 taken from frame 6 [ 0.32902429]\n",
        "frame 32 of 100 taken from frame 7 [ 0.57673931]\n",
        "frame 33 of 100 taken from frame 8 [ 0.92205381]\n",
        "frame 34 of 100 taken from frame 9 [ 0.76031547]\n",
        "frame 35 of 100 taken from frame 10 [ 0.3674147]\n",
        "frame 36 of 100 taken from frame 11 [ 0.36702293]\n",
        "frame 37 of 100 taken from frame 12 [ 0.40682405]\n",
        "frame 38 of 100 taken from frame 13 [ 0.51977207]\n",
        "frame 39 of 100 taken from frame 14 [ 0.26520759]\n",
        "frame 40 of 100 taken from frame 15 [ 0.31877503]\n",
        "frame 41 of 100 taken from frame 16 [ 0.08752433]\n",
        "frame 42 of 100 taken from frame 17 [ 0.8748617]\n",
        "frame 43 of 100 taken from frame 18 [ 0.57622077]\n",
        "frame 44 of 100 taken from frame 19 [ 0.28899561]\n",
        "frame 45 of 100 taken from frame 20 [ 0.76577831]\n",
        "frame 46 of 100 taken from frame 21 [ 0.38570627]\n",
        "frame 47 of 100 taken from frame 22 [ 0.90676811]\n",
        "frame 48 of 100 taken from frame 23 [ 0.35935174]\n",
        "frame 49 of 100 taken from frame 24 [ 0.56033918]\n",
        "frame 50 of 100 taken from frame 25 [ 0.71815186]\n",
        "frame 51 of 100 taken from frame 26 [ 0.71130523]\n",
        "frame 52 of 100 taken from frame 27 [ 0.54324999]\n",
        "frame 53 of 100 taken from frame 28 [ 0.35883717]\n",
        "frame 54 of 100 taken from frame 29 [ 0.96799447]\n",
        "frame 55 of 100 taken from frame 30 [ 0.91256454]\n",
        "frame 56 of 100 taken from frame 31 [ 0.75076556]\n",
        "frame 57 of 100 taken from frame 32 [ 0.75693342]\n",
        "frame 58 of 100 taken from frame 33 [ 0.65997615]\n",
        "frame 59 of 100 taken from frame 34 [ 0.96237382]\n",
        "frame 60 of 100 taken from frame 35 [ 0.59637864]\n",
        "frame 61 of 100 taken from frame 15 [ 0.00581153]\n",
        "frame 62 of 100 taken from frame 16 [ 0.37932318]\n",
        "frame 63 of 100 taken from frame 17 [ 0.67703355]\n",
        "frame 64 of 100 taken from frame 18 [ 0.08631362]\n",
        "frame 65 of 100 taken from frame 19 [ 0.1888061]\n",
        "frame 66 of 100 taken from frame 20 [ 0.22201476]\n",
        "frame 67 of 100 taken from frame 21 [ 0.80618939]\n",
        "frame 68 of 100 taken from frame 22 [ 0.24977296]\n",
        "frame 69 of 100 taken from frame 23 [ 0.6515536]\n",
        "frame 70 of 100 taken from frame 24 [ 0.29344881]\n",
        "frame 71 of 100 taken from frame 25 [ 0.00785913]\n",
        "frame 72 of 100 taken from frame 26 [ 0.5715148]\n",
        "frame 73 of 100 taken from frame 27 [ 0.32154124]\n",
        "frame 74 of 100 taken from frame 28 [ 0.09983907]\n",
        "frame 75 of 100 taken from frame 29 [ 0.35059347]\n",
        "frame 76 of 100 taken from frame 30 [ 0.139878]\n",
        "frame 77 of 100 taken from frame 31 [ 0.12585262]\n",
        "frame 78 of 100 taken from frame 32 [ 0.98512837]\n",
        "frame 79 of 100 taken from frame 33 [ 0.19205489]\n",
        "frame 80 of 100 taken from frame 34 [ 0.73753879]\n",
        "frame 81 of 100 taken from frame 35 [ 0.63348522]\n",
        "frame 82 of 100 taken from frame 36 [ 0.39473375]\n",
        "frame 83 of 100 taken from frame 37 [ 0.09940778]\n",
        "frame 84 of 100 taken from frame 38 [ 0.2183352]\n",
        "frame 85 of 100 taken from frame 39 [ 0.61697721]\n",
        "frame 86 of 100 taken from frame 40 [ 0.31011381]\n",
        "frame 87 of 100 taken from frame 41 [ 0.28290352]\n",
        "frame 88 of 100 taken from frame 42 [ 0.10241645]\n",
        "frame 89 of 100 taken from frame 43 [ 0.97214082]\n",
        "frame 90 of 100 taken from frame 44 [ 0.40729135]\n",
        "frame 91 of 100 taken from frame 45 [ 0.51538232]\n",
        "frame 92 of 100 taken from frame 46 [ 0.36613914]\n",
        "frame 93 of 100 taken from frame 47 [ 0.1344718]\n",
        "frame 94 of 100 taken from frame 48 [ 0.8806132]\n",
        "frame 95 of 100 taken from frame 49 [ 0.90553352]\n",
        "frame 96 of 100 taken from frame 7 [ 0.20226908]\n",
        "frame 97 of 100 taken from frame 8 [ 0.72403068]\n",
        "frame 98 of 100 taken from frame 9 [ 0.29761846]\n",
        "frame 99 of 100 taken from frame 10 [ 0.00666726]\n",
        "total additional frames [ 5  6  7  8  9 10 11 12 13 14 15 16 17 18 19 20 21 22 23 24 25 26 27 28 29\n",
        " 30 31 32 33 34]\n",
        "jump 1 from frame 49 to frame 7\n",
        "jump"
       ]
      },
      {
       "output_type": "stream",
       "stream": "stdout",
       "text": [
        " 2 from frame 24 to frame 46\n",
        "jump 3 from frame 35 to frame 15\n",
        "jump"
       ]
      }
     ],
     "prompt_number": "*"
    },
    {
     "cell_type": "code",
     "collapsed": false,
     "input": [
      "img = np.array(cv2.cvtColor(cv2.imread(\"../data/ribbon1_matte/frame-00001.png\"), cv2.COLOR_BGR2RGB))\n",
      "figure(); imshow(img)"
     ],
     "language": "python",
     "metadata": {},
     "outputs": [
      {
       "metadata": {},
       "output_type": "pyout",
       "prompt_number": 23,
       "text": [
        "<matplotlib.image.AxesImage at 0x7f8dc1d27090>"
       ]
      }
     ],
     "prompt_number": 23
    },
    {
     "cell_type": "code",
     "collapsed": false,
     "input": [
      "def downsample(a, shape):\n",
      "    print shape\n",
      "    sh = shape[0],a.shape[0]//shape[0],shape[1],a.shape[1]//shape[1]\n",
      "    return a.reshape(sh).mean(-1).mean(1)\n",
      "\n",
      "figure(); imshow(downsample(img, np.hstack((np.array(img.shape[0:2])/2, img.shape[-1]))))"
     ],
     "language": "python",
     "metadata": {},
     "outputs": [
      {
       "ename": "ValueError",
       "evalue": "total size of new array must be unchanged",
       "output_type": "pyerr",
       "traceback": [
        "\u001b[0;31m---------------------------------------------------------------------------\u001b[0m\n\u001b[0;31mValueError\u001b[0m                                Traceback (most recent call last)",
        "\u001b[0;32m<ipython-input-26-8bc79ba40f58>\u001b[0m in \u001b[0;36m<module>\u001b[0;34m()\u001b[0m\n\u001b[1;32m      4\u001b[0m     \u001b[0;32mreturn\u001b[0m \u001b[0ma\u001b[0m\u001b[0;34m.\u001b[0m\u001b[0mreshape\u001b[0m\u001b[0;34m(\u001b[0m\u001b[0msh\u001b[0m\u001b[0;34m)\u001b[0m\u001b[0;34m.\u001b[0m\u001b[0mmean\u001b[0m\u001b[0;34m(\u001b[0m\u001b[0;34m-\u001b[0m\u001b[0;36m1\u001b[0m\u001b[0;34m)\u001b[0m\u001b[0;34m.\u001b[0m\u001b[0mmean\u001b[0m\u001b[0;34m(\u001b[0m\u001b[0;36m1\u001b[0m\u001b[0;34m)\u001b[0m\u001b[0;34m\u001b[0m\u001b[0m\n\u001b[1;32m      5\u001b[0m \u001b[0;34m\u001b[0m\u001b[0m\n\u001b[0;32m----> 6\u001b[0;31m \u001b[0mfigure\u001b[0m\u001b[0;34m(\u001b[0m\u001b[0;34m)\u001b[0m\u001b[0;34m;\u001b[0m \u001b[0mimshow\u001b[0m\u001b[0;34m(\u001b[0m\u001b[0mdownsample\u001b[0m\u001b[0;34m(\u001b[0m\u001b[0mimg\u001b[0m\u001b[0;34m,\u001b[0m \u001b[0mnp\u001b[0m\u001b[0;34m.\u001b[0m\u001b[0mhstack\u001b[0m\u001b[0;34m(\u001b[0m\u001b[0;34m(\u001b[0m\u001b[0mnp\u001b[0m\u001b[0;34m.\u001b[0m\u001b[0marray\u001b[0m\u001b[0;34m(\u001b[0m\u001b[0mimg\u001b[0m\u001b[0;34m.\u001b[0m\u001b[0mshape\u001b[0m\u001b[0;34m[\u001b[0m\u001b[0;36m0\u001b[0m\u001b[0;34m:\u001b[0m\u001b[0;36m2\u001b[0m\u001b[0;34m]\u001b[0m\u001b[0;34m)\u001b[0m\u001b[0;34m/\u001b[0m\u001b[0;36m2\u001b[0m\u001b[0;34m,\u001b[0m \u001b[0mimg\u001b[0m\u001b[0;34m.\u001b[0m\u001b[0mshape\u001b[0m\u001b[0;34m[\u001b[0m\u001b[0;34m-\u001b[0m\u001b[0;36m1\u001b[0m\u001b[0;34m]\u001b[0m\u001b[0;34m)\u001b[0m\u001b[0;34m)\u001b[0m\u001b[0;34m)\u001b[0m\u001b[0;34m)\u001b[0m\u001b[0;34m\u001b[0m\u001b[0m\n\u001b[0m",
        "\u001b[0;32m<ipython-input-26-8bc79ba40f58>\u001b[0m in \u001b[0;36mdownsample\u001b[0;34m(a, shape)\u001b[0m\n\u001b[1;32m      2\u001b[0m     \u001b[0;32mprint\u001b[0m \u001b[0mshape\u001b[0m\u001b[0;34m\u001b[0m\u001b[0m\n\u001b[1;32m      3\u001b[0m     \u001b[0msh\u001b[0m \u001b[0;34m=\u001b[0m \u001b[0mshape\u001b[0m\u001b[0;34m[\u001b[0m\u001b[0;36m0\u001b[0m\u001b[0;34m]\u001b[0m\u001b[0;34m,\u001b[0m\u001b[0ma\u001b[0m\u001b[0;34m.\u001b[0m\u001b[0mshape\u001b[0m\u001b[0;34m[\u001b[0m\u001b[0;36m0\u001b[0m\u001b[0;34m]\u001b[0m\u001b[0;34m//\u001b[0m\u001b[0mshape\u001b[0m\u001b[0;34m[\u001b[0m\u001b[0;36m0\u001b[0m\u001b[0;34m]\u001b[0m\u001b[0;34m,\u001b[0m\u001b[0mshape\u001b[0m\u001b[0;34m[\u001b[0m\u001b[0;36m1\u001b[0m\u001b[0;34m]\u001b[0m\u001b[0;34m,\u001b[0m\u001b[0ma\u001b[0m\u001b[0;34m.\u001b[0m\u001b[0mshape\u001b[0m\u001b[0;34m[\u001b[0m\u001b[0;36m1\u001b[0m\u001b[0;34m]\u001b[0m\u001b[0;34m//\u001b[0m\u001b[0mshape\u001b[0m\u001b[0;34m[\u001b[0m\u001b[0;36m1\u001b[0m\u001b[0;34m]\u001b[0m\u001b[0;34m\u001b[0m\u001b[0m\n\u001b[0;32m----> 4\u001b[0;31m     \u001b[0;32mreturn\u001b[0m \u001b[0ma\u001b[0m\u001b[0;34m.\u001b[0m\u001b[0mreshape\u001b[0m\u001b[0;34m(\u001b[0m\u001b[0msh\u001b[0m\u001b[0;34m)\u001b[0m\u001b[0;34m.\u001b[0m\u001b[0mmean\u001b[0m\u001b[0;34m(\u001b[0m\u001b[0;34m-\u001b[0m\u001b[0;36m1\u001b[0m\u001b[0;34m)\u001b[0m\u001b[0;34m.\u001b[0m\u001b[0mmean\u001b[0m\u001b[0;34m(\u001b[0m\u001b[0;36m1\u001b[0m\u001b[0;34m)\u001b[0m\u001b[0;34m\u001b[0m\u001b[0m\n\u001b[0m\u001b[1;32m      5\u001b[0m \u001b[0;34m\u001b[0m\u001b[0m\n\u001b[1;32m      6\u001b[0m \u001b[0mfigure\u001b[0m\u001b[0;34m(\u001b[0m\u001b[0;34m)\u001b[0m\u001b[0;34m;\u001b[0m \u001b[0mimshow\u001b[0m\u001b[0;34m(\u001b[0m\u001b[0mdownsample\u001b[0m\u001b[0;34m(\u001b[0m\u001b[0mimg\u001b[0m\u001b[0;34m,\u001b[0m \u001b[0mnp\u001b[0m\u001b[0;34m.\u001b[0m\u001b[0mhstack\u001b[0m\u001b[0;34m(\u001b[0m\u001b[0;34m(\u001b[0m\u001b[0mnp\u001b[0m\u001b[0;34m.\u001b[0m\u001b[0marray\u001b[0m\u001b[0;34m(\u001b[0m\u001b[0mimg\u001b[0m\u001b[0;34m.\u001b[0m\u001b[0mshape\u001b[0m\u001b[0;34m[\u001b[0m\u001b[0;36m0\u001b[0m\u001b[0;34m:\u001b[0m\u001b[0;36m2\u001b[0m\u001b[0;34m]\u001b[0m\u001b[0;34m)\u001b[0m\u001b[0;34m/\u001b[0m\u001b[0;36m2\u001b[0m\u001b[0;34m,\u001b[0m \u001b[0mimg\u001b[0m\u001b[0;34m.\u001b[0m\u001b[0mshape\u001b[0m\u001b[0;34m[\u001b[0m\u001b[0;34m-\u001b[0m\u001b[0;36m1\u001b[0m\u001b[0;34m]\u001b[0m\u001b[0;34m)\u001b[0m\u001b[0;34m)\u001b[0m\u001b[0;34m)\u001b[0m\u001b[0;34m)\u001b[0m\u001b[0;34m\u001b[0m\u001b[0m\n",
        "\u001b[0;31mValueError\u001b[0m: total size of new array must be unchanged"
       ]
      },
      {
       "output_type": "stream",
       "stream": "stdout",
       "text": [
        "[360 640   3]\n"
       ]
      }
     ],
     "prompt_number": 26
    },
    {
     "cell_type": "code",
     "collapsed": false,
     "input": [
      "from PIL import Image\n",
      "im = Image.open(\"../data/ribbon1_matte/frame-00001.png\")\n",
      "figure(); imshow(np.array(im))\n",
      "figure(); imshow(np.array(im.resize(np.array(im.size)/2)))"
     ],
     "language": "python",
     "metadata": {},
     "outputs": [
      {
       "metadata": {},
       "output_type": "pyout",
       "prompt_number": 32,
       "text": [
        "<matplotlib.image.AxesImage at 0x7f8dab136dd0>"
       ]
      }
     ],
     "prompt_number": 32
    },
    {
     "cell_type": "code",
     "collapsed": false,
     "input": [
      "np.array(im.resize(np.array(im.size)/2)).shape"
     ],
     "language": "python",
     "metadata": {},
     "outputs": [
      {
       "metadata": {},
       "output_type": "pyout",
       "prompt_number": 37,
       "text": [
        "(360, 640, 3)"
       ]
      }
     ],
     "prompt_number": 37
    },
    {
     "cell_type": "code",
     "collapsed": false,
     "input": [
      "tmp = []\n",
      "tmp.append(0)\n",
      "tmp.append(0)\n",
      "tmp.append(0)\n",
      "tmp.append(0)\n",
      "print tmp\n",
      "print np.concatenate((tmp, list(np.arange(0, 5)))).shape"
     ],
     "language": "python",
     "metadata": {},
     "outputs": [
      {
       "output_type": "stream",
       "stream": "stdout",
       "text": [
        "[0, 0, 0, 0]\n",
        "(9,)\n"
       ]
      }
     ],
     "prompt_number": 10
    },
    {
     "cell_type": "code",
     "collapsed": false,
     "input": [
      "frameRange = window.frameRange-(window.numFilterFrames+1)\n",
      "featherLevel = window.featherLevel\n",
      "print frameRange, featherLevel\n",
      "l = 0.5\n",
      "weightShape = np.array(window.distMat.shape)+1\n",
      "kernelLength = np.float(frameRange[1]-frameRange[0])\n",
      "interval = (1-l)/(np.floor(kernelLength*featherLevel))\n",
      "print interval\n",
      "# kernelRange = interval*np.arange(np.floor(kernelLength*featherLevel), 0.0, -1.0)\n",
      "kernelRange = np.arange(1.0, l, -(1.0-l)/np.floor(kernelLength*featherLevel))\n",
      "print kernelRange\n",
      "kernel = np.ones(kernelLength+1)*l\n",
      "kernel[0:len(kernelRange)] = kernelRange#+np.ones(kernelRange.shape)\n",
      "kernel = np.hstack((kernel, kernel[np.arange(len(kernel)-2, -1, -1)]))\n",
      "kernel = np.reshape(kernel, [len(kernel), 1])\n",
      "\n",
      "print kernel\n",
      "print window.frameRange\n",
      "print frameRange\n",
      "\n",
      "# interval = l/(np.floor(kernelLength*featherLevel))\n",
      "# print interval\n",
      "# kernelRange = np.arange(1.0+l, 1.0, -interval)\n",
      "# print kernelRange\n",
      "# kernel = np.hstack((kernelRange, np.ones(np.floor(kernelLength-kernelLength*featherLevel-1))))\n",
      "# kernel = np.hstack((kernel, kernel[np.arange(len(kernel)-2, -1, -1)]))\n",
      "# kernel = np.reshape(kernel, [len(kernel), 1])\n",
      "\n",
      "# print kernel\n",
      "\n",
      "kernel = kernel+kernel.T\n",
      "kernel = kernel/np.min(kernel)\n",
      "print kernel.shape\n",
      "\n",
      "rangeWeights = np.ones(weightShape)*np.max(kernel)\n",
      "print rangeWeights[frameRange[0]:frameRange[2]+1, frameRange[0]:frameRange[2]+1].shape\n",
      "rangeWeights[frameRange[0]:frameRange[2]+1, frameRange[0]:frameRange[2]+1] = kernel\n",
      "figure(); imshow(kernel, interpolation='nearest')"
     ],
     "language": "python",
     "metadata": {},
     "outputs": [
      {
       "output_type": "stream",
       "stream": "stdout",
       "text": [
        "[33 45 57] 0.5\n",
        "0.0833333333333\n",
        "[ 1.      0.9167  0.8333  0.75    0.6667  0.5833]\n",
        "[[ 1.    ]\n",
        " [ 0.9167]\n",
        " [ 0.8333]\n",
        " [ 0.75  ]\n",
        " [ 0.6667]\n",
        " [ 0.5833]\n",
        " [ 0.5   ]\n",
        " [ 0.5   ]\n",
        " [ 0.5   ]\n",
        " [ 0.5   ]\n",
        " [ 0.5   ]\n",
        " [ 0.5   ]\n",
        " [ 0.5   ]\n",
        " [ 0.5   ]\n",
        " [ 0.5   ]\n",
        " [ 0.5   ]\n",
        " [ 0.5   ]\n",
        " [ 0.5   ]\n",
        " [ 0.5   ]\n",
        " [ 0.5833]\n",
        " [ 0.6667]\n",
        " [ 0.75  ]\n",
        " [ 0.8333]\n",
        " [ 0.9167]\n",
        " [ 1.    ]]\n",
        "[38 50 62]\n",
        "[33 45 57]\n",
        "(25, 25)\n",
        "(25, 25)\n"
       ]
      },
      {
       "metadata": {},
       "output_type": "pyout",
       "prompt_number": 295,
       "text": [
        "<matplotlib.image.AxesImage at 0x7ff053a7aed0>"
       ]
      }
     ],
     "prompt_number": 295
    },
    {
     "cell_type": "code",
     "collapsed": false,
     "input": [
      "# print window.kernel.shape\n",
      "print window.frameRange\n",
      "print window.rangeWeights.shape\n",
      "print window.rangeWeights[window.frameRange[0]:window.frameRange[2]+1, window.frameRange[0]:window.frameRange[2]+1].shape"
     ],
     "language": "python",
     "metadata": {},
     "outputs": [
      {
       "ename": "AttributeError",
       "evalue": "'Window' object has no attribute 'rangeWeights'",
       "output_type": "pyerr",
       "traceback": [
        "\u001b[0;31m---------------------------------------------------------------------------\u001b[0m\n\u001b[0;31mAttributeError\u001b[0m                            Traceback (most recent call last)",
        "\u001b[0;32m<ipython-input-145-4cc6f0b97cd4>\u001b[0m in \u001b[0;36m<module>\u001b[0;34m()\u001b[0m\n\u001b[1;32m      1\u001b[0m \u001b[0;31m# print window.kernel.shape\u001b[0m\u001b[0;34m\u001b[0m\u001b[0;34m\u001b[0m\u001b[0m\n\u001b[1;32m      2\u001b[0m \u001b[0;32mprint\u001b[0m \u001b[0mwindow\u001b[0m\u001b[0;34m.\u001b[0m\u001b[0mframeRange\u001b[0m\u001b[0;34m\u001b[0m\u001b[0m\n\u001b[0;32m----> 3\u001b[0;31m \u001b[0;32mprint\u001b[0m \u001b[0mwindow\u001b[0m\u001b[0;34m.\u001b[0m\u001b[0mrangeWeights\u001b[0m\u001b[0;34m.\u001b[0m\u001b[0mshape\u001b[0m\u001b[0;34m\u001b[0m\u001b[0m\n\u001b[0m\u001b[1;32m      4\u001b[0m \u001b[0;32mprint\u001b[0m \u001b[0mwindow\u001b[0m\u001b[0;34m.\u001b[0m\u001b[0mrangeWeights\u001b[0m\u001b[0;34m[\u001b[0m\u001b[0mwindow\u001b[0m\u001b[0;34m.\u001b[0m\u001b[0mframeRange\u001b[0m\u001b[0;34m[\u001b[0m\u001b[0;36m0\u001b[0m\u001b[0;34m]\u001b[0m\u001b[0;34m:\u001b[0m\u001b[0mwindow\u001b[0m\u001b[0;34m.\u001b[0m\u001b[0mframeRange\u001b[0m\u001b[0;34m[\u001b[0m\u001b[0;36m2\u001b[0m\u001b[0;34m]\u001b[0m\u001b[0;34m+\u001b[0m\u001b[0;36m1\u001b[0m\u001b[0;34m,\u001b[0m \u001b[0mwindow\u001b[0m\u001b[0;34m.\u001b[0m\u001b[0mframeRange\u001b[0m\u001b[0;34m[\u001b[0m\u001b[0;36m0\u001b[0m\u001b[0;34m]\u001b[0m\u001b[0;34m:\u001b[0m\u001b[0mwindow\u001b[0m\u001b[0;34m.\u001b[0m\u001b[0mframeRange\u001b[0m\u001b[0;34m[\u001b[0m\u001b[0;36m2\u001b[0m\u001b[0;34m]\u001b[0m\u001b[0;34m+\u001b[0m\u001b[0;36m1\u001b[0m\u001b[0;34m]\u001b[0m\u001b[0;34m.\u001b[0m\u001b[0mshape\u001b[0m\u001b[0;34m\u001b[0m\u001b[0m\n",
        "\u001b[0;31mAttributeError\u001b[0m: 'Window' object has no attribute 'rangeWeights'"
       ]
      },
      {
       "output_type": "stream",
       "stream": "stdout",
       "text": [
        "[38 50 62]\n"
       ]
      }
     ],
     "prompt_number": 145
    },
    {
     "cell_type": "code",
     "collapsed": false,
     "input": [
      "print window.frameRange\n",
      "print np.max(window.rangeWeights)"
     ],
     "language": "python",
     "metadata": {},
     "outputs": [
      {
       "output_type": "stream",
       "stream": "stdout",
       "text": [
        "[38 50 62]\n",
        "3.4\n"
       ]
      }
     ],
     "prompt_number": 133
    },
    {
     "cell_type": "code",
     "collapsed": false,
     "input": [
      "fig = plt.figure()\n",
      "ax = fig.add_subplot(111)\n",
      "ax.imshow(window.filterMat, cmap=cm.jet, interpolation='nearest')\n",
      "\n",
      "numrows, numcols = window.filterMat.shape\n",
      "def format_coord(x, y):\n",
      "    col = int(x+0.5)\n",
      "    row = int(y+0.5)\n",
      "    if col>=0 and col<numcols and row>=0 and row<numrows:\n",
      "        z = window.filterMat[row,col]\n",
      "        return 'x=%1.4f, y=%1.4f, z=%1.4f'%(x, y, z)\n",
      "    else:\n",
      "        return 'x=%1.4f, y=%1.4f'%(x, y)\n",
      "\n",
      "ax.format_coord = format_coord\n",
      "show()\n",
      "print np.min(window.filterMat), np.max(window.filterMat)"
     ],
     "language": "python",
     "metadata": {},
     "outputs": [
      {
       "output_type": "stream",
       "stream": "stdout",
       "text": [
        "0.5 1.4900990099\n"
       ]
      }
     ],
     "prompt_number": 4
    },
    {
     "cell_type": "code",
     "collapsed": false,
     "input": [
      "fig = plt.figure()\n",
      "ax = fig.add_subplot(111)\n",
      "ax.imshow(window.rangeWeights, cmap=cm.jet, interpolation='nearest')\n",
      "\n",
      "numrows, numcols = window.rangeWeights.shape\n",
      "def format_coord(x, y):\n",
      "    col = int(x+0.5)\n",
      "    row = int(y+0.5)\n",
      "    if col>=0 and col<numcols and row>=0 and row<numrows:\n",
      "        z = window.rangeWeights[row,col]\n",
      "        return 'x=%1.4f, y=%1.4f, z=%1.4f'%(x, y, z)\n",
      "    else:\n",
      "        return 'x=%1.4f, y=%1.4f'%(x, y)\n",
      "\n",
      "ax.format_coord = format_coord\n",
      "show()\n",
      "print np.min(window.rangeWeights), np.max(window.rangeWeights)"
     ],
     "language": "python",
     "metadata": {},
     "outputs": [
      {
       "output_type": "stream",
       "stream": "stdout",
       "text": [
        "0.7 1.35\n"
       ]
      }
     ],
     "prompt_number": 17
    },
    {
     "cell_type": "code",
     "collapsed": false,
     "input": [
      "featherLevel = window.featherLevel\n",
      "frameRange = window.frameRange\n",
      "frameRange\n",
      "print featherLevel, frameRange\n",
      "distMat = window.distMat"
     ],
     "language": "python",
     "metadata": {},
     "outputs": [
      {
       "output_type": "stream",
       "stream": "stdout",
       "text": [
        "0.5 [26 30 34]\n"
       ]
      }
     ],
     "prompt_number": 94
    },
    {
     "cell_type": "code",
     "collapsed": false,
     "input": [
      "filterMat = np.zeros(distMat.shape)\n",
      "filterMat[frameRange[0]:frameRange[2]+1, frameRange[0]:frameRange[2]+1] = finalKernel\n",
      "print np.max(distMat)"
     ],
     "language": "python",
     "metadata": {},
     "outputs": [
      {
       "output_type": "stream",
       "stream": "stdout",
       "text": [
        "2716.82908849\n"
       ]
      }
     ],
     "prompt_number": 95
    },
    {
     "cell_type": "code",
     "collapsed": false,
     "input": [
      "kernelLength = np.float(frameRange[1]-frameRange[0])\n",
      "interval = 1.0/(np.floor(kernelLength*featherLevel)+1.0)\n",
      "kernelRange = np.arange(interval, 1.0+interval, interval)\n",
      "kernel = np.hstack((kernelRange, np.ones(np.ceil(kernelLength-kernelLength*featherLevel))))\n",
      "kernel = np.hstack((kernel, kernel[np.arange(len(kernel)-2, -1, -1)]))\n",
      "kernel = np.reshape(kernel, [len(kernel), 1])\n",
      "print kernel, kernel.shape"
     ],
     "language": "python",
     "metadata": {},
     "outputs": [
      {
       "output_type": "stream",
       "stream": "stdout",
       "text": [
        "[[ 0.33333333]\n",
        " [ 0.66666667]\n",
        " [ 1.        ]\n",
        " [ 1.        ]\n",
        " [ 1.        ]\n",
        " [ 1.        ]\n",
        " [ 1.        ]\n",
        " [ 0.66666667]\n",
        " [ 0.33333333]] (9, 1)\n"
       ]
      }
     ],
     "prompt_number": 96
    },
    {
     "cell_type": "code",
     "collapsed": false,
     "input": [
      "filterMat[frameRange[0]:frameRange[2]+1, frameRange[0]:frameRange[2]+1] = finalKernel"
     ],
     "language": "python",
     "metadata": {},
     "outputs": [],
     "prompt_number": 104
    },
    {
     "cell_type": "code",
     "collapsed": false,
     "input": [
      "finalKernel = kernel+kernel.T\n",
      "finalKernel = finalKernel/np.max(finalKernel)\n",
      "figure(); imshow(finalKernel, cmap=cm.Greys_r, interpolation='nearest')\n",
      "figure(); imshow(1.0-finalKernel, cmap=cm.Greys_r, interpolation='nearest')"
     ],
     "language": "python",
     "metadata": {},
     "outputs": [
      {
       "metadata": {},
       "output_type": "pyout",
       "prompt_number": 107,
       "text": [
        "<matplotlib.image.AxesImage at 0x7fc156613250>"
       ]
      }
     ],
     "prompt_number": 107
    },
    {
     "cell_type": "code",
     "collapsed": false,
     "input": [
      "figure(); imshow(window.cumProb, interpolation='nearest')"
     ],
     "language": "python",
     "metadata": {},
     "outputs": [
      {
       "metadata": {},
       "output_type": "pyout",
       "prompt_number": 24,
       "text": [
        "<matplotlib.image.AxesImage at 0x7f7d199b90d0>"
       ]
      }
     ],
     "prompt_number": 24
    },
    {
     "cell_type": "code",
     "collapsed": false,
     "input": [
      "print window.cumProb[18, :]"
     ],
     "language": "python",
     "metadata": {},
     "outputs": [
      {
       "output_type": "stream",
       "stream": "stdout",
       "text": [
        "[  0.00000000e+00   0.00000000e+00   0.00000000e+00   0.00000000e+00\n",
        "   0.00000000e+00   0.00000000e+00   0.00000000e+00   0.00000000e+00\n",
        "   0.00000000e+00   0.00000000e+00   0.00000000e+00   0.00000000e+00\n",
        "   0.00000000e+00   0.00000000e+00   0.00000000e+00   0.00000000e+00\n",
        "   0.00000000e+00   0.00000000e+00   5.25092521e-07   2.14269011e-01\n",
        "   2.14269972e-01   2.14269972e-01   2.14269972e-01   2.14269972e-01\n",
        "   2.14269972e-01   2.14269972e-01   2.14269972e-01   2.14269972e-01\n",
        "   2.14269972e-01   2.14269972e-01   2.14269972e-01   2.14269972e-01\n",
        "   2.14269972e-01   2.14269972e-01   2.14269972e-01   2.14269972e-01\n",
        "   2.14269972e-01   2.14269972e-01   2.14269972e-01   2.14269972e-01\n",
        "   2.14290242e-01   2.14290759e-01   2.14290759e-01   2.14290759e-01\n",
        "   2.14290759e-01   2.14290759e-01   2.14290759e-01   2.14290759e-01\n",
        "   2.14290759e-01   2.14290759e-01   2.14290759e-01   2.14290759e-01\n",
        "   2.14290759e-01   2.14290759e-01   2.14290759e-01   2.14290759e-01\n",
        "   2.14290759e-01]\n"
       ]
      }
     ],
     "prompt_number": 7
    },
    {
     "cell_type": "code",
     "collapsed": false,
     "input": [
      "from mpl_toolkits.mplot3d import Axes3D\n",
      "import matplotlib.animation as animation\n",
      "\n",
      "finalMovie = window.finalMovie\n",
      "\n",
      "## visualize frames automatically\n",
      "\n",
      "def _blit_draw(self, artists, bg_cache):\n",
      "    # Handles blitted drawing, which renders only the artists given instead\n",
      "    # of the entire figure.\n",
      "    updated_ax = []\n",
      "    for a in artists:\n",
      "        # If we haven't cached the background for this axes object, do\n",
      "        # so now. This might not always be reliable, but it's an attempt\n",
      "        # to automate the process.\n",
      "        if a.axes not in bg_cache:\n",
      "            # bg_cache[a.axes] = a.figure.canvas.copy_from_bbox(a.axes.bbox)\n",
      "            # change here\n",
      "            bg_cache[a.axes] = a.figure.canvas.copy_from_bbox(a.axes.figure.bbox)\n",
      "        a.axes.draw_artist(a)\n",
      "        updated_ax.append(a.axes)\n",
      "\n",
      "    # After rendering all the needed artists, blit each axes individually.\n",
      "    for ax in set(updated_ax):\n",
      "        # and here\n",
      "        # ax.figure.canvas.blit(ax.bbox)\n",
      "        ax.figure.canvas.blit(ax.figure.bbox)\n",
      "\n",
      "# MONKEY PATCH!!\n",
      "matplotlib.animation.Animation._blit_draw = _blit_draw\n",
      "\n",
      "fig=plt.figure()\n",
      "img = plt.imshow(np.array(finalMovie[0], dtype=uint8))\n",
      "# img.set_cmap(cm.Greys_r)\n",
      "img.axes.set_axis_off()\n",
      "ax = plt.axes()\n",
      "ttl = ax.text(.5, 1.05, '', transform = ax.transAxes, va='center')\n",
      "\n",
      "def init():\n",
      "    ttl.set_text('')\n",
      "    img.set_data(np.array(finalMovie[0], dtype=uint8))\n",
      "    return img, ttl\n",
      "\n",
      "def func(f):\n",
      "    ttl.set_text('Frame ' + str(f) + ' taken from ')\n",
      "    img.set_data(np.array(finalMovie[f], dtype=uint8))\n",
      "    return img, ttl\n",
      "\n",
      "ani = animation.FuncAnimation(fig,func,init_func=init,frames=len(finalMovie),interval=33,blit=True)\n",
      "\n",
      "# writer = animation.writers['ffmpeg'](fps=30)\n",
      "# ani.save('demoa.mp4', writer=writer,dpi=160, bitrate=100)\n",
      "\n",
      "plt.show()"
     ],
     "language": "python",
     "metadata": {},
     "outputs": [],
     "prompt_number": 4
    },
    {
     "cell_type": "code",
     "collapsed": false,
     "input": [
      "tmp = np.ones((2, 2, 2, 1))\n",
      "tmp[0, :, :, :] = np.reshape([[0, 1], [2, 3]], [2, 2, 1])\n",
      "tmp[1, :, :, :] = np.reshape([[4, 5], [6, 7]], [2, 2, 1])"
     ],
     "language": "python",
     "metadata": {},
     "outputs": [],
     "prompt_number": 48
    },
    {
     "cell_type": "code",
     "collapsed": false,
     "input": [
      "print tmp[0, :, :, :]\n",
      "print tmp[1, :, :, :]"
     ],
     "language": "python",
     "metadata": {},
     "outputs": [
      {
       "output_type": "stream",
       "stream": "stdout",
       "text": [
        "[[[ 0.  4.]]\n",
        "\n",
        " [[ 1.  5.]]]\n",
        "[[[ 2.  6.]]\n",
        "\n",
        " [[ 3.  7.]]]\n"
       ]
      }
     ],
     "prompt_number": 51
    },
    {
     "cell_type": "code",
     "collapsed": false,
     "input": [
      "tmp2 = np.reshape(tmp, (2, 2, 1, 2))\n",
      "tmp2 = np.swapaxes(tmp, 0, 3)"
     ],
     "language": "python",
     "metadata": {},
     "outputs": [],
     "prompt_number": 54
    },
    {
     "cell_type": "code",
     "collapsed": false,
     "input": [
      "print tmp2[:, :, :, 0]\n",
      "print tmp2[:, :, :, 1]"
     ],
     "language": "python",
     "metadata": {},
     "outputs": [
      {
       "output_type": "stream",
       "stream": "stdout",
       "text": [
        "[[[ 0.]\n",
        "  [ 1.]]\n",
        "\n",
        " [[ 4.]\n",
        "  [ 5.]]]\n",
        "[[[ 2.]\n",
        "  [ 3.]]\n",
        "\n",
        " [[ 6.]\n",
        "  [ 7.]]]\n"
       ]
      }
     ],
     "prompt_number": 55
    },
    {
     "cell_type": "code",
     "collapsed": false,
     "input": [
      "requiredSpace = 19\n",
      "downsampleFactor = 1\n",
      "if requiredSpace > 8 :\n",
      "    print np.argmin(np.abs(8-requiredSpace/np.arange(2.0, 6.0))), np.abs(8-(requiredSpace/np.arange(2.0, 6.0)))"
     ],
     "language": "python",
     "metadata": {},
     "outputs": [
      {
       "output_type": "stream",
       "stream": "stdout",
       "text": [
        "0 [ 1.5         1.66666667  3.25        4.2       ]\n"
       ]
      }
     ],
     "prompt_number": 35
    },
    {
     "cell_type": "code",
     "collapsed": false,
     "input": [
      "frameNames = glob.glob(\"../data/ribbon2_matted/frame*.png\")\n",
      "frameNames = np.sort(frameNames)\n",
      "if len(frameNames) > 0 :\n",
      "    frameSize = cv2.imread(frameNames[0]).shape\n",
      "    print frameSize, len(frameNames)\n",
      "    print 2.0*(np.prod(frameSize)*len(frameNames))/(1024**3), \"GB\"\n",
      "#     movie = np.zeros(np.hstack([frameSize[0], frameSize[1], frameSize[2], len(frameNames)]), dtype=uint8)\n",
      "#     frames = []\n",
      "#     for i in range(0, len(frameNames)) :\n",
      "#         im = Image.open(frameNames[i])#.resize(np.array(frameSize[0:2])/3)\n",
      "# #         im = np.array(im.resize(np.array(im.size)/3))\n",
      "#         movie[:, :, :, i] = np.array(im, dtype=uint8)[:, :, 0:-1]#np.dot(im[:,:,:3], [0.0722, 0.7152, 0.2126])   # matlab RGB2GRAY multiplies [0.299, 0.587, 0.144] but cv2 is BGR\n",
      "#         frames.append(im)\n",
      "#         sys.stdout.write('\\r' + \"Loading frame \" + np.string_(i) + \" of \" + np.string_(len(frameNames)))\n",
      "#         sys.stdout.flush()"
     ],
     "language": "python",
     "metadata": {},
     "outputs": [
      {
       "output_type": "stream",
       "stream": "stdout",
       "text": [
        "(720, 1280, 3) 1280\n",
        "6.591796875 GB\n"
       ]
      }
     ],
     "prompt_number": 10
    }
   ],
   "metadata": {}
  }
 ]
}