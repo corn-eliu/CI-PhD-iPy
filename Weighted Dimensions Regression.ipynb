{
 "metadata": {
  "name": "",
  "signature": "sha256:49bef31e8c5bf0c43d4906b146a914e61234fb0c94014c6ce0024357326f7af7"
 },
 "nbformat": 3,
 "nbformat_minor": 0,
 "worksheets": [
  {
   "cells": [
    {
     "cell_type": "code",
     "collapsed": false,
     "input": [
      "%pylab\n",
      "import numpy as np\n",
      "import sys\n",
      "import scipy as sp\n",
      "from scipy import optimize\n",
      "\n",
      "import time\n",
      "import os\n",
      "\n",
      "from sklearn import ensemble\n",
      "import cv2\n",
      "\n",
      "import scipy.io as sio\n",
      "import glob\n",
      "import commands\n",
      "\n",
      "from PIL import Image\n",
      "\n",
      "import GraphWithValues as gwv\n",
      "import VideoTexturesUtils as vtu\n",
      "\n",
      "import ComputeGridFeatures as cgf"
     ],
     "language": "python",
     "metadata": {},
     "outputs": [
      {
       "output_type": "stream",
       "stream": "stdout",
       "text": [
        "Using matplotlib backend: TkAgg\n",
        "Populating the interactive namespace from numpy and matplotlib\n"
       ]
      }
     ],
     "prompt_number": 2
    },
    {
     "cell_type": "code",
     "collapsed": false,
     "input": [
      "## trying to replicate Neill's example\n",
      "N = 9 ## 3x3 images\n",
      "phi_true = sio.loadmat(\"../MATLAB/phi_true.mat\")['phi_true']\n",
      "\n",
      "## plot gamma prior\n",
      "alpha = 20\n",
      "beta = alpha-1\n",
      "\n",
      "def gammaDistrib(x, a, b) :\n",
      "    return (b**a)*np.exp(-b*x)*(x**(a-1))/sp.special.gamma(a)\n",
      "\n",
      "p = np.arange(0, 10+10.0/200, 10.0/200)\n",
      "\n",
      "figure(); plot(p, gammaDistrib(p, alpha, beta))\n",
      "gca().set_autoscale_on(False)\n",
      "\n",
      "nn, bin_edges = np.histogram(phi_true, bins=20)\n",
      "## pp are bin centers\n",
      "pp = bin_edges[:-1]+(bin_edges[1]-bin_edges[0])/2.0\n",
      "scatter(pp[nn>0], nn[nn>0]*np.mean(np.diff(pp)), c='r', marker='o')\n",
      "\n",
      "## training data\n",
      "I = 50 ## num images\n",
      "\n",
      "X_train = sio.loadmat(\"../MATLAB/X_train.mat\")['X_train']\n",
      "sigma_true = 0.25\n",
      "\n",
      "w_true = sio.loadmat(\"../MATLAB/w_true.mat\")['w_true']\n",
      "w_train = sio.loadmat(\"../MATLAB/w_train.mat\")['w_train']\n",
      "\n",
      "\n",
      "X_test = sio.loadmat(\"../MATLAB/X_test.mat\")['X_test']\n",
      "w_test = np.dot(X_test.T, phi_true)\n",
      "\n",
      "\n",
      "## testing\n",
      "sigma_sq = sigma_true**2\n",
      "\n",
      "errorsML = np.zeros((I, 1))\n",
      "errorsMAP = np.zeros((I, 1))\n",
      "\n",
      "\n",
      "## functions to optimize\n",
      "def logL_ML(phi, X, w, N) :\n",
      "    phi = np.reshape(phi, (len(phi), 1))\n",
      "    result = -0.5 * (1.0/sigma_sq) * np.dot((w - np.dot(X.T, phi)).T, (w - np.dot(X.T, phi)))\n",
      "    return float(result)\n",
      "\n",
      "def logL_MAP(phi, X, w, N) :\n",
      "    phi = np.reshape(phi, (len(phi), 1))\n",
      "    result = (-0.5 * (1.0/sigma_sq) * np.dot((w - np.dot(X.T, phi)).T, (w - np.dot(X.T, phi))) - \n",
      "              np.dot(beta*np.ones((N, 1)).T, phi) + np.dot((alpha-1)*np.ones((N, 1)).T, np.log(phi)))\n",
      "    return float(result)\n",
      "\n",
      "def negLogL_ML(phi, X, w, N) :\n",
      "    phi = np.reshape(phi, (len(phi), 1))\n",
      "    result = - logL_ML(phi, X, w, N)\n",
      "    return float(result)#.reshape((1,))\n",
      "\n",
      "fCallCount = 0\n",
      "def negLogL_MAP(phi, X, w, N) :\n",
      "    \n",
      "    global fCallCount\n",
      "    fCallCount += 1\n",
      "    if np.mod(fCallCount, 100) == 0 :\n",
      "        sys.stdout.write('\\r' + \"function call count \" + np.string_(fCallCount)); sys.stdout.flush()\n",
      "    \n",
      "    phi = np.reshape(phi, (len(phi), 1))\n",
      "    result = - logL_MAP(phi, X, w, N)\n",
      "    return float(result)#.reshape((1,))\n",
      "\n",
      "def derNegLogL_ML(phi, X, w, N) :\n",
      "    phi = np.reshape(phi, (len(phi), 1))\n",
      "    result = -(1/sigma_sq)*np.dot(X, w-np.dot(X.T, phi))\n",
      "    return np.ndarray.flatten(result)\n",
      "\n",
      "derCallCount = 0\n",
      "def derNegLogL_MAP(phi, X, w, N) :\n",
      "    \n",
      "    global derCallCount\n",
      "    derCallCount += 1\n",
      "    if np.mod(derCallCount, 100) == 0 :\n",
      "        sys.stdout.write('\\r' + \"derivative call count \" + np.string_(derCallCount)); sys.stdout.flush()\n",
      "        \n",
      "    phi = np.reshape(phi, (len(phi), 1))\n",
      "    result = (-(1/sigma_sq)*np.dot(X, w-np.dot(X.T, phi)) + beta*np.ones((N, 1)) - \n",
      "              ((alpha-1)*np.ones((N, 1)))*(1.0/phi))\n",
      "    return np.ndarray.flatten(result)"
     ],
     "language": "python",
     "metadata": {},
     "outputs": [],
     "prompt_number": 2
    },
    {
     "cell_type": "code",
     "collapsed": false,
     "input": [
      "for i in arange(I) :\n",
      "    \n",
      "#     X = X_train[:, :i+1]\n",
      "#     w = w_train[:i+1, :]\n",
      "    \n",
      "    phi0 = np.ones((N, 1))\n",
      "    \n",
      "    phi_ML = optimize.fmin_ncg(negLogL_ML, phi0, fprime=derNegLogL_ML, \n",
      "                               args=(X_train[:, :i+1], w_train[:i+1, :], N)).reshape(phi0.shape)\n",
      "    phi_MAP = optimize.fmin_ncg(negLogL_MAP, phi0, fprime=derNegLogL_MAP, \n",
      "                                args=(X_train[:, :i+1], w_train[:i+1, :], N)).reshape(phi0.shape)\n",
      "    \n",
      "    errorsML[i] = np.linalg.norm(w_test- np.dot(X_test.T, phi_ML))\n",
      "    errorsMAP[i] = np.linalg.norm(w_test- np.dot(X_test.T, phi_MAP))\n",
      "    \n",
      "    print \"done\", i\n",
      "    sys.stdout.flush()\n",
      "    \n",
      "figure(); plot(errorsML); plot(errorsMAP)"
     ],
     "language": "python",
     "metadata": {},
     "outputs": [],
     "prompt_number": 3
    },
    {
     "cell_type": "code",
     "collapsed": false,
     "input": [
      "## example optimization\n",
      "def rosen(x):\n",
      "    \"\"\"The Rosenbrock function\"\"\"\n",
      "    return sum(100.0*(x[1:]-x[:-1]**2.0)**2.0 + (1-x[:-1])**2.0)\n",
      "\n",
      "def rosen_der(x):\n",
      "    xm = x[1:-1]\n",
      "    xm_m1 = x[:-2]\n",
      "    xm_p1 = x[2:]\n",
      "    der = zeros_like(x)\n",
      "    der[1:-1] = 200*(xm-xm_m1**2) - 400*(xm_p1 - xm**2)*xm - 2*(1-xm)\n",
      "    der[0] = -400*x[0]*(x[1]-x[0]**2) - 2*(1-x[0])\n",
      "    der[-1] = 200*(x[-1]-x[-2]**2)\n",
      "    return der\n",
      "\n",
      "x0 = [1.3, 0.7, 0.8, 1.9, 1.2]\n",
      "xopt = optimize.fmin_ncg(rosen, x0, fprime=rosen_der)"
     ],
     "language": "python",
     "metadata": {},
     "outputs": [
      {
       "output_type": "stream",
       "stream": "stdout",
       "text": [
        "Optimization terminated successfully.\n",
        "         Current function value: 0.000000\n",
        "         Iterations: 21\n",
        "         Function evaluations: 30\n",
        "         Gradient evaluations: 152\n",
        "         Hessian evaluations: 0\n"
       ]
      }
     ],
     "prompt_number": 269
    },
    {
     "cell_type": "code",
     "collapsed": false,
     "input": [
      "# dataPath = \"/home/ilisescu/PhD/data/\"\n",
      "dataPath = \"/media/ilisescu/Data1/PhD/data/\"\n",
      "\n",
      "# dataSet = \"pendulum/\"\n",
      "# dataSet = \"tree/\"\n",
      "# dataSet = \"splashes_water/\"\n",
      "# dataSet = \"small_waterfall/\"\n",
      "# dataSet = \"sisi_flag/\"\n",
      "dataSet = \"eu_flag_ph_left/\"\n",
      "# dataSet = \"ribbon2/\"\n",
      "# dataSet = \"candle1/segmentedAndCropped/\"\n",
      "framePaths = np.sort(glob.glob(dataPath + dataSet + \"frame*.png\"))\n",
      "numFrames = len(framePaths)\n",
      "print numFrames\n",
      "imageSize = np.array(Image.open(framePaths[0])).shape[0:2]"
     ],
     "language": "python",
     "metadata": {},
     "outputs": [
      {
       "output_type": "stream",
       "stream": "stdout",
       "text": [
        "1208\n"
       ]
      }
     ],
     "prompt_number": 3
    },
    {
     "cell_type": "code",
     "collapsed": false,
     "input": [
      "im = cv2.imread(framePaths[0])\n",
      "figure(); imshow(cv2.cvtColor(im, cv2.COLOR_BGR2RGB))"
     ],
     "language": "python",
     "metadata": {},
     "outputs": [
      {
       "metadata": {},
       "output_type": "pyout",
       "prompt_number": 4,
       "text": [
        "<matplotlib.image.AxesImage at 0x7f009951cd10>"
       ]
      }
     ],
     "prompt_number": 4
    },
    {
     "cell_type": "code",
     "collapsed": false,
     "input": [
      "### compute l2 dist for images of the splashes_water dataset\n",
      "resizeRatio = 1.0#0.4#0.5#0.75\n",
      "doRGB = False\n",
      "useRange = False\n",
      "featsRange = np.array([-2, -1, 0, 1, 2])\n",
      "# featsRange = np.array([-1, 0, 1])\n",
      "rangeResizeRatios = resizeRatio/2**np.abs(arange(-np.floor(len(featsRange)/2), np.floor(len(featsRange)/2)+1))\n",
      "baseDimensionality = int(np.prod(np.round(np.array(imageSize)*resizeRatio)))\n",
      "if doRGB :\n",
      "    if useRange :\n",
      "        imagesRGBData = np.zeros((np.sum(baseDimensionality/((resizeRatio/rangeResizeRatios)**2))*3, numFrames), dtype=np.float32)\n",
      "    else :\n",
      "        imagesRGBData = np.zeros((baseDimensionality*3, numFrames), dtype=np.float32)\n",
      "else :\n",
      "    if useRange :\n",
      "        imagesGrayData = np.zeros((np.sum(baseDimensionality/((resizeRatio/rangeResizeRatios)**2)), numFrames), dtype=np.float32)\n",
      "    else :\n",
      "        imagesGrayData = np.zeros((baseDimensionality, numFrames), dtype=np.float32)\n",
      "\n",
      "for i in xrange(numFrames) :\n",
      "    if doRGB :\n",
      "        if useRange :\n",
      "            for delta, ratio in zip(featsRange, rangeResizeRatios) :\n",
      "                print delta+i, ratio, \n",
      "            print \n",
      "        else :\n",
      "            imagesRGBData[:, i] = np.ndarray.flatten(np.array(cv2.cvtColor(cv2.resize(cv2.imread(framePaths[i]), \n",
      "                                                                                      (0, 0), fx=resizeRatio, fy=resizeRatio, \n",
      "                                                                                      interpolation=cv2.INTER_AREA), cv2.COLOR_BGR2RGB)))\n",
      "    else :\n",
      "        if useRange :\n",
      "            feats = np.empty(0)\n",
      "            for delta, ratio in zip(featsRange, rangeResizeRatios) :\n",
      "                if delta+i >= 0 and delta+i < numFrames :\n",
      "                    feats = np.concatenate((feats, \n",
      "                                            np.ndarray.flatten(np.array(cv2.cvtColor(cv2.resize(cv2.imread(framePaths[delta+i]), \n",
      "                                                                                                (0, 0), fx=ratio, fy=ratio, \n",
      "                                                                                                interpolation=cv2.INTER_AREA), cv2.COLOR_BGR2GRAY)))))\n",
      "                else :\n",
      "                    feats = np.concatenate((feats, np.zeros(baseDimensionality/((resizeRatio/ratio)**2))))\n",
      "            imagesGrayData[:, i] = feats\n",
      "        else :\n",
      "            imagesGrayData[:, i] = np.ndarray.flatten(np.array(cv2.cvtColor(cv2.resize(cv2.imread(framePaths[i]), \n",
      "                                                                                       (0, 0), fx=resizeRatio, fy=resizeRatio, \n",
      "                                                                                       interpolation=cv2.INTER_AREA), cv2.COLOR_BGR2GRAY)))\n",
      "        \n",
      "    sys.stdout.write('\\r' + \"Loaded image \" + np.string_(i) + \" of \" + np.string_(numFrames))\n",
      "    sys.stdout.flush()\n",
      "\n",
      "\n",
      "if doRGB :\n",
      "    imagesRGBData /= np.float32(255)\n",
      "    print \n",
      "    print imagesRGBData.shape\n",
      "else :\n",
      "    imagesGrayData /= np.float32(255)\n",
      "    print\n",
      "    print imagesGrayData.shape"
     ],
     "language": "python",
     "metadata": {},
     "outputs": [
      {
       "output_type": "stream",
       "stream": "stdout",
       "text": [
        "\r",
        "Loaded image 0 of 1208"
       ]
      },
      {
       "output_type": "stream",
       "stream": "stdout",
       "text": [
        "\r",
        "Loaded image 1 of 1208"
       ]
      },
      {
       "output_type": "stream",
       "stream": "stdout",
       "text": [
        "\r",
        "Loaded image 2 of 1208"
       ]
      },
      {
       "output_type": "stream",
       "stream": "stdout",
       "text": [
        "\r",
        "Loaded image 3 of 1208"
       ]
      },
      {
       "output_type": "stream",
       "stream": "stdout",
       "text": [
        "\r",
        "Loaded image 4 of 1208"
       ]
      },
      {
       "output_type": "stream",
       "stream": "stdout",
       "text": [
        "\r",
        "Loaded image 5 of 1208"
       ]
      },
      {
       "output_type": "stream",
       "stream": "stdout",
       "text": [
        "\r",
        "Loaded image 6 of 1208"
       ]
      },
      {
       "output_type": "stream",
       "stream": "stdout",
       "text": [
        "\r",
        "Loaded image 7 of 1208"
       ]
      },
      {
       "output_type": "stream",
       "stream": "stdout",
       "text": [
        "\r",
        "Loaded image 8 of 1208"
       ]
      },
      {
       "output_type": "stream",
       "stream": "stdout",
       "text": [
        "\r",
        "Loaded image 9 of 1208"
       ]
      },
      {
       "output_type": "stream",
       "stream": "stdout",
       "text": [
        "\r",
        "Loaded image 10 of 1208"
       ]
      },
      {
       "output_type": "stream",
       "stream": "stdout",
       "text": [
        "\r",
        "Loaded image 11 of 1208"
       ]
      },
      {
       "output_type": "stream",
       "stream": "stdout",
       "text": [
        "\r",
        "Loaded image 12 of 1208"
       ]
      },
      {
       "output_type": "stream",
       "stream": "stdout",
       "text": [
        "\r",
        "Loaded image 13 of 1208"
       ]
      },
      {
       "output_type": "stream",
       "stream": "stdout",
       "text": [
        "\r",
        "Loaded image 14 of 1208"
       ]
      },
      {
       "output_type": "stream",
       "stream": "stdout",
       "text": [
        "\r",
        "Loaded image 15 of 1208"
       ]
      },
      {
       "output_type": "stream",
       "stream": "stdout",
       "text": [
        "\r",
        "Loaded image 16 of 1208"
       ]
      },
      {
       "output_type": "stream",
       "stream": "stdout",
       "text": [
        "\r",
        "Loaded image 17 of 1208"
       ]
      },
      {
       "output_type": "stream",
       "stream": "stdout",
       "text": [
        "\r",
        "Loaded image 18 of 1208"
       ]
      },
      {
       "output_type": "stream",
       "stream": "stdout",
       "text": [
        "\r",
        "Loaded image 19 of 1208"
       ]
      },
      {
       "output_type": "stream",
       "stream": "stdout",
       "text": [
        "\r",
        "Loaded image 20 of 1208"
       ]
      },
      {
       "output_type": "stream",
       "stream": "stdout",
       "text": [
        "\r",
        "Loaded image 21 of 1208"
       ]
      },
      {
       "output_type": "stream",
       "stream": "stdout",
       "text": [
        "\r",
        "Loaded image 22 of 1208"
       ]
      },
      {
       "output_type": "stream",
       "stream": "stdout",
       "text": [
        "\r",
        "Loaded image 23 of 1208"
       ]
      },
      {
       "output_type": "stream",
       "stream": "stdout",
       "text": [
        "\r",
        "Loaded image 24 of 1208"
       ]
      },
      {
       "output_type": "stream",
       "stream": "stdout",
       "text": [
        "\r",
        "Loaded image 25 of 1208"
       ]
      },
      {
       "output_type": "stream",
       "stream": "stdout",
       "text": [
        "\r",
        "Loaded image 26 of 1208"
       ]
      },
      {
       "output_type": "stream",
       "stream": "stdout",
       "text": [
        "\r",
        "Loaded image 27 of 1208"
       ]
      },
      {
       "output_type": "stream",
       "stream": "stdout",
       "text": [
        "\r",
        "Loaded image 28 of 1208"
       ]
      },
      {
       "output_type": "stream",
       "stream": "stdout",
       "text": [
        "\r",
        "Loaded image 29 of 1208"
       ]
      },
      {
       "output_type": "stream",
       "stream": "stdout",
       "text": [
        "\r",
        "Loaded image 30 of 1208"
       ]
      },
      {
       "output_type": "stream",
       "stream": "stdout",
       "text": [
        "\r",
        "Loaded image 31 of 1208"
       ]
      },
      {
       "output_type": "stream",
       "stream": "stdout",
       "text": [
        "\r",
        "Loaded image 32 of 1208"
       ]
      },
      {
       "output_type": "stream",
       "stream": "stdout",
       "text": [
        "\r",
        "Loaded image 33 of 1208"
       ]
      },
      {
       "output_type": "stream",
       "stream": "stdout",
       "text": [
        "\r",
        "Loaded image 34 of 1208"
       ]
      },
      {
       "output_type": "stream",
       "stream": "stdout",
       "text": [
        "\r",
        "Loaded image 35 of 1208"
       ]
      },
      {
       "output_type": "stream",
       "stream": "stdout",
       "text": [
        "\r",
        "Loaded image 36 of 1208"
       ]
      },
      {
       "output_type": "stream",
       "stream": "stdout",
       "text": [
        "\r",
        "Loaded image 37 of 1208"
       ]
      },
      {
       "output_type": "stream",
       "stream": "stdout",
       "text": [
        "\r",
        "Loaded image 38 of 1208"
       ]
      },
      {
       "output_type": "stream",
       "stream": "stdout",
       "text": [
        "\r",
        "Loaded image 39 of 1208"
       ]
      },
      {
       "output_type": "stream",
       "stream": "stdout",
       "text": [
        "\r",
        "Loaded image 40 of 1208"
       ]
      },
      {
       "output_type": "stream",
       "stream": "stdout",
       "text": [
        "\r",
        "Loaded image 41 of 1208"
       ]
      },
      {
       "output_type": "stream",
       "stream": "stdout",
       "text": [
        "\r",
        "Loaded image 42 of 1208"
       ]
      },
      {
       "output_type": "stream",
       "stream": "stdout",
       "text": [
        "\r",
        "Loaded image 43 of 1208"
       ]
      },
      {
       "output_type": "stream",
       "stream": "stdout",
       "text": [
        "\r",
        "Loaded image 44 of 1208"
       ]
      },
      {
       "output_type": "stream",
       "stream": "stdout",
       "text": [
        "\r",
        "Loaded image 45 of 1208"
       ]
      },
      {
       "output_type": "stream",
       "stream": "stdout",
       "text": [
        "\r",
        "Loaded image 46 of 1208"
       ]
      },
      {
       "output_type": "stream",
       "stream": "stdout",
       "text": [
        "\r",
        "Loaded image 47 of 1208"
       ]
      },
      {
       "output_type": "stream",
       "stream": "stdout",
       "text": [
        "\r",
        "Loaded image 48 of 1208"
       ]
      },
      {
       "output_type": "stream",
       "stream": "stdout",
       "text": [
        "\r",
        "Loaded image 49 of 1208"
       ]
      },
      {
       "output_type": "stream",
       "stream": "stdout",
       "text": [
        "\r",
        "Loaded image 50 of 1208"
       ]
      },
      {
       "output_type": "stream",
       "stream": "stdout",
       "text": [
        "\r",
        "Loaded image 51 of 1208"
       ]
      },
      {
       "output_type": "stream",
       "stream": "stdout",
       "text": [
        "\r",
        "Loaded image 52 of 1208"
       ]
      },
      {
       "output_type": "stream",
       "stream": "stdout",
       "text": [
        "\r",
        "Loaded image 53 of 1208"
       ]
      },
      {
       "output_type": "stream",
       "stream": "stdout",
       "text": [
        "\r",
        "Loaded image 54 of 1208"
       ]
      },
      {
       "output_type": "stream",
       "stream": "stdout",
       "text": [
        "\r",
        "Loaded image 55 of 1208"
       ]
      },
      {
       "output_type": "stream",
       "stream": "stdout",
       "text": [
        "\r",
        "Loaded image 56 of 1208"
       ]
      },
      {
       "output_type": "stream",
       "stream": "stdout",
       "text": [
        "\r",
        "Loaded image 57 of 1208"
       ]
      },
      {
       "output_type": "stream",
       "stream": "stdout",
       "text": [
        "\r",
        "Loaded image 58 of 1208"
       ]
      },
      {
       "output_type": "stream",
       "stream": "stdout",
       "text": [
        "\r",
        "Loaded image 59 of 1208"
       ]
      },
      {
       "output_type": "stream",
       "stream": "stdout",
       "text": [
        "\r",
        "Loaded image 60 of 1208"
       ]
      },
      {
       "output_type": "stream",
       "stream": "stdout",
       "text": [
        "\r",
        "Loaded image 61 of 1208"
       ]
      },
      {
       "output_type": "stream",
       "stream": "stdout",
       "text": [
        "\r",
        "Loaded image 62 of 1208"
       ]
      },
      {
       "output_type": "stream",
       "stream": "stdout",
       "text": [
        "\r",
        "Loaded image 63 of 1208"
       ]
      },
      {
       "output_type": "stream",
       "stream": "stdout",
       "text": [
        "\r",
        "Loaded image 64 of 1208"
       ]
      },
      {
       "output_type": "stream",
       "stream": "stdout",
       "text": [
        "\r",
        "Loaded image 65 of 1208"
       ]
      },
      {
       "output_type": "stream",
       "stream": "stdout",
       "text": [
        "\r",
        "Loaded image 66 of 1208"
       ]
      },
      {
       "output_type": "stream",
       "stream": "stdout",
       "text": [
        "\r",
        "Loaded image 67 of 1208"
       ]
      },
      {
       "output_type": "stream",
       "stream": "stdout",
       "text": [
        "\r",
        "Loaded image 68 of 1208"
       ]
      },
      {
       "output_type": "stream",
       "stream": "stdout",
       "text": [
        "\r",
        "Loaded image 69 of 1208"
       ]
      },
      {
       "output_type": "stream",
       "stream": "stdout",
       "text": [
        "\r",
        "Loaded image 70 of 1208"
       ]
      },
      {
       "output_type": "stream",
       "stream": "stdout",
       "text": [
        "\r",
        "Loaded image 71 of 1208"
       ]
      },
      {
       "output_type": "stream",
       "stream": "stdout",
       "text": [
        "\r",
        "Loaded image 72 of 1208"
       ]
      },
      {
       "output_type": "stream",
       "stream": "stdout",
       "text": [
        "\r",
        "Loaded image 73 of 1208"
       ]
      },
      {
       "output_type": "stream",
       "stream": "stdout",
       "text": [
        "\r",
        "Loaded image 74 of 1208"
       ]
      },
      {
       "output_type": "stream",
       "stream": "stdout",
       "text": [
        "\r",
        "Loaded image 75 of 1208"
       ]
      },
      {
       "output_type": "stream",
       "stream": "stdout",
       "text": [
        "\r",
        "Loaded image 76 of 1208"
       ]
      },
      {
       "output_type": "stream",
       "stream": "stdout",
       "text": [
        "\r",
        "Loaded image 77 of 1208"
       ]
      },
      {
       "output_type": "stream",
       "stream": "stdout",
       "text": [
        "\r",
        "Loaded image 78 of 1208"
       ]
      },
      {
       "output_type": "stream",
       "stream": "stdout",
       "text": [
        "\r",
        "Loaded image 79 of 1208"
       ]
      },
      {
       "output_type": "stream",
       "stream": "stdout",
       "text": [
        "\r",
        "Loaded image 80 of 1208"
       ]
      },
      {
       "output_type": "stream",
       "stream": "stdout",
       "text": [
        "\r",
        "Loaded image 81 of 1208"
       ]
      },
      {
       "output_type": "stream",
       "stream": "stdout",
       "text": [
        "\r",
        "Loaded image 82 of 1208"
       ]
      },
      {
       "output_type": "stream",
       "stream": "stdout",
       "text": [
        "\r",
        "Loaded image 83 of 1208"
       ]
      },
      {
       "output_type": "stream",
       "stream": "stdout",
       "text": [
        "\r",
        "Loaded image 84 of 1208"
       ]
      },
      {
       "output_type": "stream",
       "stream": "stdout",
       "text": [
        "\r",
        "Loaded image 85 of 1208"
       ]
      },
      {
       "output_type": "stream",
       "stream": "stdout",
       "text": [
        "\r",
        "Loaded image 86 of 1208"
       ]
      },
      {
       "output_type": "stream",
       "stream": "stdout",
       "text": [
        "\r",
        "Loaded image 87 of 1208"
       ]
      },
      {
       "output_type": "stream",
       "stream": "stdout",
       "text": [
        "\r",
        "Loaded image 88 of 1208"
       ]
      },
      {
       "output_type": "stream",
       "stream": "stdout",
       "text": [
        "\r",
        "Loaded image 89 of 1208"
       ]
      },
      {
       "output_type": "stream",
       "stream": "stdout",
       "text": [
        "\r",
        "Loaded image 90 of 1208"
       ]
      },
      {
       "output_type": "stream",
       "stream": "stdout",
       "text": [
        "\r",
        "Loaded image 91 of 1208"
       ]
      },
      {
       "output_type": "stream",
       "stream": "stdout",
       "text": [
        "\r",
        "Loaded image 92 of 1208"
       ]
      },
      {
       "output_type": "stream",
       "stream": "stdout",
       "text": [
        "\r",
        "Loaded image 93 of 1208"
       ]
      },
      {
       "output_type": "stream",
       "stream": "stdout",
       "text": [
        "\r",
        "Loaded image 94 of 1208"
       ]
      },
      {
       "output_type": "stream",
       "stream": "stdout",
       "text": [
        "\r",
        "Loaded image 95 of 1208"
       ]
      },
      {
       "output_type": "stream",
       "stream": "stdout",
       "text": [
        "\r",
        "Loaded image 96 of 1208"
       ]
      },
      {
       "output_type": "stream",
       "stream": "stdout",
       "text": [
        "\r",
        "Loaded image 97 of 1208"
       ]
      },
      {
       "output_type": "stream",
       "stream": "stdout",
       "text": [
        "\r",
        "Loaded image 98 of 1208"
       ]
      },
      {
       "output_type": "stream",
       "stream": "stdout",
       "text": [
        "\r",
        "Loaded image 99 of 1208"
       ]
      },
      {
       "output_type": "stream",
       "stream": "stdout",
       "text": [
        "\r",
        "Loaded image 100 of 1208"
       ]
      },
      {
       "output_type": "stream",
       "stream": "stdout",
       "text": [
        "\r",
        "Loaded image 101 of 1208"
       ]
      },
      {
       "output_type": "stream",
       "stream": "stdout",
       "text": [
        "\r",
        "Loaded image 102 of 1208"
       ]
      },
      {
       "output_type": "stream",
       "stream": "stdout",
       "text": [
        "\r",
        "Loaded image 103 of 1208"
       ]
      },
      {
       "output_type": "stream",
       "stream": "stdout",
       "text": [
        "\r",
        "Loaded image 104 of 1208"
       ]
      },
      {
       "output_type": "stream",
       "stream": "stdout",
       "text": [
        "\r",
        "Loaded image 105 of 1208"
       ]
      },
      {
       "output_type": "stream",
       "stream": "stdout",
       "text": [
        "\r",
        "Loaded image 106 of 1208"
       ]
      },
      {
       "output_type": "stream",
       "stream": "stdout",
       "text": [
        "\r",
        "Loaded image 107 of 1208"
       ]
      },
      {
       "output_type": "stream",
       "stream": "stdout",
       "text": [
        "\r",
        "Loaded image 108 of 1208"
       ]
      },
      {
       "output_type": "stream",
       "stream": "stdout",
       "text": [
        "\r",
        "Loaded image 109 of 1208"
       ]
      },
      {
       "output_type": "stream",
       "stream": "stdout",
       "text": [
        "\r",
        "Loaded image 110 of 1208"
       ]
      },
      {
       "output_type": "stream",
       "stream": "stdout",
       "text": [
        "\r",
        "Loaded image 111 of 1208"
       ]
      },
      {
       "output_type": "stream",
       "stream": "stdout",
       "text": [
        "\r",
        "Loaded image 112 of 1208"
       ]
      },
      {
       "output_type": "stream",
       "stream": "stdout",
       "text": [
        "\r",
        "Loaded image 113 of 1208"
       ]
      },
      {
       "output_type": "stream",
       "stream": "stdout",
       "text": [
        "\r",
        "Loaded image 114 of 1208"
       ]
      },
      {
       "output_type": "stream",
       "stream": "stdout",
       "text": [
        "\r",
        "Loaded image 115 of 1208"
       ]
      },
      {
       "output_type": "stream",
       "stream": "stdout",
       "text": [
        "\r",
        "Loaded image 116 of 1208"
       ]
      },
      {
       "output_type": "stream",
       "stream": "stdout",
       "text": [
        "\r",
        "Loaded image 117 of 1208"
       ]
      },
      {
       "output_type": "stream",
       "stream": "stdout",
       "text": [
        "\r",
        "Loaded image 118 of 1208"
       ]
      },
      {
       "output_type": "stream",
       "stream": "stdout",
       "text": [
        "\r",
        "Loaded image 119 of 1208"
       ]
      },
      {
       "output_type": "stream",
       "stream": "stdout",
       "text": [
        "\r",
        "Loaded image 120 of 1208"
       ]
      },
      {
       "output_type": "stream",
       "stream": "stdout",
       "text": [
        "\r",
        "Loaded image 121 of 1208"
       ]
      },
      {
       "output_type": "stream",
       "stream": "stdout",
       "text": [
        "\r",
        "Loaded image 122 of 1208"
       ]
      },
      {
       "output_type": "stream",
       "stream": "stdout",
       "text": [
        "\r",
        "Loaded image 123 of 1208"
       ]
      },
      {
       "output_type": "stream",
       "stream": "stdout",
       "text": [
        "\r",
        "Loaded image 124 of 1208"
       ]
      },
      {
       "output_type": "stream",
       "stream": "stdout",
       "text": [
        "\r",
        "Loaded image 125 of 1208"
       ]
      },
      {
       "output_type": "stream",
       "stream": "stdout",
       "text": [
        "\r",
        "Loaded image 126 of 1208"
       ]
      },
      {
       "output_type": "stream",
       "stream": "stdout",
       "text": [
        "\r",
        "Loaded image 127 of 1208"
       ]
      },
      {
       "output_type": "stream",
       "stream": "stdout",
       "text": [
        "\r",
        "Loaded image 128 of 1208"
       ]
      },
      {
       "output_type": "stream",
       "stream": "stdout",
       "text": [
        "\r",
        "Loaded image 129 of 1208"
       ]
      },
      {
       "output_type": "stream",
       "stream": "stdout",
       "text": [
        "\r",
        "Loaded image 130 of 1208"
       ]
      },
      {
       "output_type": "stream",
       "stream": "stdout",
       "text": [
        "\r",
        "Loaded image 131 of 1208"
       ]
      },
      {
       "output_type": "stream",
       "stream": "stdout",
       "text": [
        "\r",
        "Loaded image 132 of 1208"
       ]
      },
      {
       "output_type": "stream",
       "stream": "stdout",
       "text": [
        "\r",
        "Loaded image 133 of 1208"
       ]
      },
      {
       "output_type": "stream",
       "stream": "stdout",
       "text": [
        "\r",
        "Loaded image 134 of 1208"
       ]
      },
      {
       "output_type": "stream",
       "stream": "stdout",
       "text": [
        "\r",
        "Loaded image 135 of 1208"
       ]
      },
      {
       "output_type": "stream",
       "stream": "stdout",
       "text": [
        "\r",
        "Loaded image 136 of 1208"
       ]
      },
      {
       "output_type": "stream",
       "stream": "stdout",
       "text": [
        "\r",
        "Loaded image 137 of 1208"
       ]
      },
      {
       "output_type": "stream",
       "stream": "stdout",
       "text": [
        "\r",
        "Loaded image 138 of 1208"
       ]
      },
      {
       "output_type": "stream",
       "stream": "stdout",
       "text": [
        "\r",
        "Loaded image 139 of 1208"
       ]
      },
      {
       "output_type": "stream",
       "stream": "stdout",
       "text": [
        "\r",
        "Loaded image 140 of 1208"
       ]
      },
      {
       "output_type": "stream",
       "stream": "stdout",
       "text": [
        "\r",
        "Loaded image 141 of 1208"
       ]
      },
      {
       "output_type": "stream",
       "stream": "stdout",
       "text": [
        "\r",
        "Loaded image 142 of 1208"
       ]
      },
      {
       "output_type": "stream",
       "stream": "stdout",
       "text": [
        "\r",
        "Loaded image 143 of 1208"
       ]
      },
      {
       "output_type": "stream",
       "stream": "stdout",
       "text": [
        "\r",
        "Loaded image 144 of 1208"
       ]
      },
      {
       "output_type": "stream",
       "stream": "stdout",
       "text": [
        "\r",
        "Loaded image 145 of 1208"
       ]
      },
      {
       "output_type": "stream",
       "stream": "stdout",
       "text": [
        "\r",
        "Loaded image 146 of 1208"
       ]
      },
      {
       "output_type": "stream",
       "stream": "stdout",
       "text": [
        "\r",
        "Loaded image 147 of 1208"
       ]
      },
      {
       "output_type": "stream",
       "stream": "stdout",
       "text": [
        "\r",
        "Loaded image 148 of 1208"
       ]
      },
      {
       "output_type": "stream",
       "stream": "stdout",
       "text": [
        "\r",
        "Loaded image 149 of 1208"
       ]
      },
      {
       "output_type": "stream",
       "stream": "stdout",
       "text": [
        "\r",
        "Loaded image 150 of 1208"
       ]
      },
      {
       "output_type": "stream",
       "stream": "stdout",
       "text": [
        "\r",
        "Loaded image 151 of 1208"
       ]
      },
      {
       "output_type": "stream",
       "stream": "stdout",
       "text": [
        "\r",
        "Loaded image 152 of 1208"
       ]
      },
      {
       "output_type": "stream",
       "stream": "stdout",
       "text": [
        "\r",
        "Loaded image 153 of 1208"
       ]
      },
      {
       "output_type": "stream",
       "stream": "stdout",
       "text": [
        "\r",
        "Loaded image 154 of 1208"
       ]
      },
      {
       "output_type": "stream",
       "stream": "stdout",
       "text": [
        "\r",
        "Loaded image 155 of 1208"
       ]
      },
      {
       "output_type": "stream",
       "stream": "stdout",
       "text": [
        "\r",
        "Loaded image 156 of 1208"
       ]
      },
      {
       "output_type": "stream",
       "stream": "stdout",
       "text": [
        "\r",
        "Loaded image 157 of 1208"
       ]
      },
      {
       "output_type": "stream",
       "stream": "stdout",
       "text": [
        "\r",
        "Loaded image 158 of 1208"
       ]
      },
      {
       "output_type": "stream",
       "stream": "stdout",
       "text": [
        "\r",
        "Loaded image 159 of 1208"
       ]
      },
      {
       "output_type": "stream",
       "stream": "stdout",
       "text": [
        "\r",
        "Loaded image 160 of 1208"
       ]
      },
      {
       "output_type": "stream",
       "stream": "stdout",
       "text": [
        "\r",
        "Loaded image 161 of 1208"
       ]
      },
      {
       "output_type": "stream",
       "stream": "stdout",
       "text": [
        "\r",
        "Loaded image 162 of 1208"
       ]
      },
      {
       "output_type": "stream",
       "stream": "stdout",
       "text": [
        "\r",
        "Loaded image 163 of 1208"
       ]
      },
      {
       "output_type": "stream",
       "stream": "stdout",
       "text": [
        "\r",
        "Loaded image 164 of 1208"
       ]
      },
      {
       "output_type": "stream",
       "stream": "stdout",
       "text": [
        "\r",
        "Loaded image 165 of 1208"
       ]
      },
      {
       "output_type": "stream",
       "stream": "stdout",
       "text": [
        "\r",
        "Loaded image 166 of 1208"
       ]
      },
      {
       "output_type": "stream",
       "stream": "stdout",
       "text": [
        "\r",
        "Loaded image 167 of 1208"
       ]
      },
      {
       "output_type": "stream",
       "stream": "stdout",
       "text": [
        "\r",
        "Loaded image 168 of 1208"
       ]
      },
      {
       "output_type": "stream",
       "stream": "stdout",
       "text": [
        "\r",
        "Loaded image 169 of 1208"
       ]
      },
      {
       "output_type": "stream",
       "stream": "stdout",
       "text": [
        "\r",
        "Loaded image 170 of 1208"
       ]
      },
      {
       "output_type": "stream",
       "stream": "stdout",
       "text": [
        "\r",
        "Loaded image 171 of 1208"
       ]
      },
      {
       "output_type": "stream",
       "stream": "stdout",
       "text": [
        "\r",
        "Loaded image 172 of 1208"
       ]
      },
      {
       "output_type": "stream",
       "stream": "stdout",
       "text": [
        "\r",
        "Loaded image 173 of 1208"
       ]
      },
      {
       "output_type": "stream",
       "stream": "stdout",
       "text": [
        "\r",
        "Loaded image 174 of 1208"
       ]
      },
      {
       "output_type": "stream",
       "stream": "stdout",
       "text": [
        "\r",
        "Loaded image 175 of 1208"
       ]
      },
      {
       "output_type": "stream",
       "stream": "stdout",
       "text": [
        "\r",
        "Loaded image 176 of 1208"
       ]
      },
      {
       "output_type": "stream",
       "stream": "stdout",
       "text": [
        "\r",
        "Loaded image 177 of 1208"
       ]
      },
      {
       "output_type": "stream",
       "stream": "stdout",
       "text": [
        "\r",
        "Loaded image 178 of 1208"
       ]
      },
      {
       "output_type": "stream",
       "stream": "stdout",
       "text": [
        "\r",
        "Loaded image 179 of 1208"
       ]
      },
      {
       "output_type": "stream",
       "stream": "stdout",
       "text": [
        "\r",
        "Loaded image 180 of 1208"
       ]
      },
      {
       "output_type": "stream",
       "stream": "stdout",
       "text": [
        "\r",
        "Loaded image 181 of 1208"
       ]
      },
      {
       "output_type": "stream",
       "stream": "stdout",
       "text": [
        "\r",
        "Loaded image 182 of 1208"
       ]
      },
      {
       "output_type": "stream",
       "stream": "stdout",
       "text": [
        "\r",
        "Loaded image 183 of 1208"
       ]
      },
      {
       "output_type": "stream",
       "stream": "stdout",
       "text": [
        "\r",
        "Loaded image 184 of 1208"
       ]
      },
      {
       "output_type": "stream",
       "stream": "stdout",
       "text": [
        "\r",
        "Loaded image 185 of 1208"
       ]
      },
      {
       "output_type": "stream",
       "stream": "stdout",
       "text": [
        "\r",
        "Loaded image 186 of 1208"
       ]
      },
      {
       "output_type": "stream",
       "stream": "stdout",
       "text": [
        "\r",
        "Loaded image 187 of 1208"
       ]
      },
      {
       "output_type": "stream",
       "stream": "stdout",
       "text": [
        "\r",
        "Loaded image 188 of 1208"
       ]
      },
      {
       "output_type": "stream",
       "stream": "stdout",
       "text": [
        "\r",
        "Loaded image 189 of 1208"
       ]
      },
      {
       "output_type": "stream",
       "stream": "stdout",
       "text": [
        "\r",
        "Loaded image 190 of 1208"
       ]
      },
      {
       "output_type": "stream",
       "stream": "stdout",
       "text": [
        "\r",
        "Loaded image 191 of 1208"
       ]
      },
      {
       "output_type": "stream",
       "stream": "stdout",
       "text": [
        "\r",
        "Loaded image 192 of 1208"
       ]
      },
      {
       "output_type": "stream",
       "stream": "stdout",
       "text": [
        "\r",
        "Loaded image 193 of 1208"
       ]
      },
      {
       "output_type": "stream",
       "stream": "stdout",
       "text": [
        "\r",
        "Loaded image 194 of 1208"
       ]
      },
      {
       "output_type": "stream",
       "stream": "stdout",
       "text": [
        "\r",
        "Loaded image 195 of 1208"
       ]
      },
      {
       "output_type": "stream",
       "stream": "stdout",
       "text": [
        "\r",
        "Loaded image 196 of 1208"
       ]
      },
      {
       "output_type": "stream",
       "stream": "stdout",
       "text": [
        "\r",
        "Loaded image 197 of 1208"
       ]
      },
      {
       "output_type": "stream",
       "stream": "stdout",
       "text": [
        "\r",
        "Loaded image 198 of 1208"
       ]
      },
      {
       "output_type": "stream",
       "stream": "stdout",
       "text": [
        "\r",
        "Loaded image 199 of 1208"
       ]
      },
      {
       "output_type": "stream",
       "stream": "stdout",
       "text": [
        "\r",
        "Loaded image 200 of 1208"
       ]
      },
      {
       "output_type": "stream",
       "stream": "stdout",
       "text": [
        "\r",
        "Loaded image 201 of 1208"
       ]
      },
      {
       "output_type": "stream",
       "stream": "stdout",
       "text": [
        "\r",
        "Loaded image 202 of 1208"
       ]
      },
      {
       "output_type": "stream",
       "stream": "stdout",
       "text": [
        "\r",
        "Loaded image 203 of 1208"
       ]
      },
      {
       "output_type": "stream",
       "stream": "stdout",
       "text": [
        "\r",
        "Loaded image 204 of 1208"
       ]
      },
      {
       "output_type": "stream",
       "stream": "stdout",
       "text": [
        "\r",
        "Loaded image 205 of 1208"
       ]
      },
      {
       "output_type": "stream",
       "stream": "stdout",
       "text": [
        "\r",
        "Loaded image 206 of 1208"
       ]
      },
      {
       "output_type": "stream",
       "stream": "stdout",
       "text": [
        "\r",
        "Loaded image 207 of 1208"
       ]
      },
      {
       "output_type": "stream",
       "stream": "stdout",
       "text": [
        "\r",
        "Loaded image 208 of 1208"
       ]
      },
      {
       "output_type": "stream",
       "stream": "stdout",
       "text": [
        "\r",
        "Loaded image 209 of 1208"
       ]
      },
      {
       "output_type": "stream",
       "stream": "stdout",
       "text": [
        "\r",
        "Loaded image 210 of 1208"
       ]
      },
      {
       "output_type": "stream",
       "stream": "stdout",
       "text": [
        "\r",
        "Loaded image 211 of 1208"
       ]
      },
      {
       "output_type": "stream",
       "stream": "stdout",
       "text": [
        "\r",
        "Loaded image 212 of 1208"
       ]
      },
      {
       "output_type": "stream",
       "stream": "stdout",
       "text": [
        "\r",
        "Loaded image 213 of 1208"
       ]
      },
      {
       "output_type": "stream",
       "stream": "stdout",
       "text": [
        "\r",
        "Loaded image 214 of 1208"
       ]
      },
      {
       "output_type": "stream",
       "stream": "stdout",
       "text": [
        "\r",
        "Loaded image 215 of 1208"
       ]
      },
      {
       "output_type": "stream",
       "stream": "stdout",
       "text": [
        "\r",
        "Loaded image 216 of 1208"
       ]
      },
      {
       "output_type": "stream",
       "stream": "stdout",
       "text": [
        "\r",
        "Loaded image 217 of 1208"
       ]
      },
      {
       "output_type": "stream",
       "stream": "stdout",
       "text": [
        "\r",
        "Loaded image 218 of 1208"
       ]
      },
      {
       "output_type": "stream",
       "stream": "stdout",
       "text": [
        "\r",
        "Loaded image 219 of 1208"
       ]
      },
      {
       "output_type": "stream",
       "stream": "stdout",
       "text": [
        "\r",
        "Loaded image 220 of 1208"
       ]
      },
      {
       "output_type": "stream",
       "stream": "stdout",
       "text": [
        "\r",
        "Loaded image 221 of 1208"
       ]
      },
      {
       "output_type": "stream",
       "stream": "stdout",
       "text": [
        "\r",
        "Loaded image 222 of 1208"
       ]
      },
      {
       "output_type": "stream",
       "stream": "stdout",
       "text": [
        "\r",
        "Loaded image 223 of 1208"
       ]
      },
      {
       "output_type": "stream",
       "stream": "stdout",
       "text": [
        "\r",
        "Loaded image 224 of 1208"
       ]
      },
      {
       "output_type": "stream",
       "stream": "stdout",
       "text": [
        "\r",
        "Loaded image 225 of 1208"
       ]
      },
      {
       "output_type": "stream",
       "stream": "stdout",
       "text": [
        "\r",
        "Loaded image 226 of 1208"
       ]
      },
      {
       "output_type": "stream",
       "stream": "stdout",
       "text": [
        "\r",
        "Loaded image 227 of 1208"
       ]
      },
      {
       "output_type": "stream",
       "stream": "stdout",
       "text": [
        "\r",
        "Loaded image 228 of 1208"
       ]
      },
      {
       "output_type": "stream",
       "stream": "stdout",
       "text": [
        "\r",
        "Loaded image 229 of 1208"
       ]
      },
      {
       "output_type": "stream",
       "stream": "stdout",
       "text": [
        "\r",
        "Loaded image 230 of 1208"
       ]
      },
      {
       "output_type": "stream",
       "stream": "stdout",
       "text": [
        "\r",
        "Loaded image 231 of 1208"
       ]
      },
      {
       "output_type": "stream",
       "stream": "stdout",
       "text": [
        "\r",
        "Loaded image 232 of 1208"
       ]
      },
      {
       "output_type": "stream",
       "stream": "stdout",
       "text": [
        "\r",
        "Loaded image 233 of 1208"
       ]
      },
      {
       "output_type": "stream",
       "stream": "stdout",
       "text": [
        "\r",
        "Loaded image 234 of 1208"
       ]
      },
      {
       "output_type": "stream",
       "stream": "stdout",
       "text": [
        "\r",
        "Loaded image 235 of 1208"
       ]
      },
      {
       "output_type": "stream",
       "stream": "stdout",
       "text": [
        "\r",
        "Loaded image 236 of 1208"
       ]
      },
      {
       "output_type": "stream",
       "stream": "stdout",
       "text": [
        "\r",
        "Loaded image 237 of 1208"
       ]
      },
      {
       "output_type": "stream",
       "stream": "stdout",
       "text": [
        "\r",
        "Loaded image 238 of 1208"
       ]
      },
      {
       "output_type": "stream",
       "stream": "stdout",
       "text": [
        "\r",
        "Loaded image 239 of 1208"
       ]
      },
      {
       "output_type": "stream",
       "stream": "stdout",
       "text": [
        "\r",
        "Loaded image 240 of 1208"
       ]
      },
      {
       "output_type": "stream",
       "stream": "stdout",
       "text": [
        "\r",
        "Loaded image 241 of 1208"
       ]
      },
      {
       "output_type": "stream",
       "stream": "stdout",
       "text": [
        "\r",
        "Loaded image 242 of 1208"
       ]
      },
      {
       "output_type": "stream",
       "stream": "stdout",
       "text": [
        "\r",
        "Loaded image 243 of 1208"
       ]
      },
      {
       "output_type": "stream",
       "stream": "stdout",
       "text": [
        "\r",
        "Loaded image 244 of 1208"
       ]
      },
      {
       "output_type": "stream",
       "stream": "stdout",
       "text": [
        "\r",
        "Loaded image 245 of 1208"
       ]
      },
      {
       "output_type": "stream",
       "stream": "stdout",
       "text": [
        "\r",
        "Loaded image 246 of 1208"
       ]
      },
      {
       "output_type": "stream",
       "stream": "stdout",
       "text": [
        "\r",
        "Loaded image 247 of 1208"
       ]
      },
      {
       "output_type": "stream",
       "stream": "stdout",
       "text": [
        "\r",
        "Loaded image 248 of 1208"
       ]
      },
      {
       "output_type": "stream",
       "stream": "stdout",
       "text": [
        "\r",
        "Loaded image 249 of 1208"
       ]
      },
      {
       "output_type": "stream",
       "stream": "stdout",
       "text": [
        "\r",
        "Loaded image 250 of 1208"
       ]
      },
      {
       "output_type": "stream",
       "stream": "stdout",
       "text": [
        "\r",
        "Loaded image 251 of 1208"
       ]
      },
      {
       "output_type": "stream",
       "stream": "stdout",
       "text": [
        "\r",
        "Loaded image 252 of 1208"
       ]
      },
      {
       "output_type": "stream",
       "stream": "stdout",
       "text": [
        "\r",
        "Loaded image 253 of 1208"
       ]
      },
      {
       "output_type": "stream",
       "stream": "stdout",
       "text": [
        "\r",
        "Loaded image 254 of 1208"
       ]
      },
      {
       "output_type": "stream",
       "stream": "stdout",
       "text": [
        "\r",
        "Loaded image 255 of 1208"
       ]
      },
      {
       "output_type": "stream",
       "stream": "stdout",
       "text": [
        "\r",
        "Loaded image 256 of 1208"
       ]
      },
      {
       "output_type": "stream",
       "stream": "stdout",
       "text": [
        "\r",
        "Loaded image 257 of 1208"
       ]
      },
      {
       "output_type": "stream",
       "stream": "stdout",
       "text": [
        "\r",
        "Loaded image 258 of 1208"
       ]
      },
      {
       "output_type": "stream",
       "stream": "stdout",
       "text": [
        "\r",
        "Loaded image 259 of 1208"
       ]
      },
      {
       "output_type": "stream",
       "stream": "stdout",
       "text": [
        "\r",
        "Loaded image 260 of 1208"
       ]
      },
      {
       "output_type": "stream",
       "stream": "stdout",
       "text": [
        "\r",
        "Loaded image 261 of 1208"
       ]
      },
      {
       "output_type": "stream",
       "stream": "stdout",
       "text": [
        "\r",
        "Loaded image 262 of 1208"
       ]
      },
      {
       "output_type": "stream",
       "stream": "stdout",
       "text": [
        "\r",
        "Loaded image 263 of 1208"
       ]
      },
      {
       "output_type": "stream",
       "stream": "stdout",
       "text": [
        "\r",
        "Loaded image 264 of 1208"
       ]
      },
      {
       "output_type": "stream",
       "stream": "stdout",
       "text": [
        "\r",
        "Loaded image 265 of 1208"
       ]
      },
      {
       "output_type": "stream",
       "stream": "stdout",
       "text": [
        "\r",
        "Loaded image 266 of 1208"
       ]
      },
      {
       "output_type": "stream",
       "stream": "stdout",
       "text": [
        "\r",
        "Loaded image 267 of 1208"
       ]
      },
      {
       "output_type": "stream",
       "stream": "stdout",
       "text": [
        "\r",
        "Loaded image 268 of 1208"
       ]
      },
      {
       "output_type": "stream",
       "stream": "stdout",
       "text": [
        "\r",
        "Loaded image 269 of 1208"
       ]
      },
      {
       "output_type": "stream",
       "stream": "stdout",
       "text": [
        "\r",
        "Loaded image 270 of 1208"
       ]
      },
      {
       "output_type": "stream",
       "stream": "stdout",
       "text": [
        "\r",
        "Loaded image 271 of 1208"
       ]
      },
      {
       "output_type": "stream",
       "stream": "stdout",
       "text": [
        "\r",
        "Loaded image 272 of 1208"
       ]
      },
      {
       "output_type": "stream",
       "stream": "stdout",
       "text": [
        "\r",
        "Loaded image 273 of 1208"
       ]
      },
      {
       "output_type": "stream",
       "stream": "stdout",
       "text": [
        "\r",
        "Loaded image 274 of 1208"
       ]
      },
      {
       "output_type": "stream",
       "stream": "stdout",
       "text": [
        "\r",
        "Loaded image 275 of 1208"
       ]
      },
      {
       "output_type": "stream",
       "stream": "stdout",
       "text": [
        "\r",
        "Loaded image 276 of 1208"
       ]
      },
      {
       "output_type": "stream",
       "stream": "stdout",
       "text": [
        "\r",
        "Loaded image 277 of 1208"
       ]
      },
      {
       "output_type": "stream",
       "stream": "stdout",
       "text": [
        "\r",
        "Loaded image 278 of 1208"
       ]
      },
      {
       "output_type": "stream",
       "stream": "stdout",
       "text": [
        "\r",
        "Loaded image 279 of 1208"
       ]
      },
      {
       "output_type": "stream",
       "stream": "stdout",
       "text": [
        "\r",
        "Loaded image 280 of 1208"
       ]
      },
      {
       "output_type": "stream",
       "stream": "stdout",
       "text": [
        "\r",
        "Loaded image 281 of 1208"
       ]
      },
      {
       "output_type": "stream",
       "stream": "stdout",
       "text": [
        "\r",
        "Loaded image 282 of 1208"
       ]
      },
      {
       "output_type": "stream",
       "stream": "stdout",
       "text": [
        "\r",
        "Loaded image 283 of 1208"
       ]
      },
      {
       "output_type": "stream",
       "stream": "stdout",
       "text": [
        "\r",
        "Loaded image 284 of 1208"
       ]
      },
      {
       "output_type": "stream",
       "stream": "stdout",
       "text": [
        "\r",
        "Loaded image 285 of 1208"
       ]
      },
      {
       "output_type": "stream",
       "stream": "stdout",
       "text": [
        "\r",
        "Loaded image 286 of 1208"
       ]
      },
      {
       "output_type": "stream",
       "stream": "stdout",
       "text": [
        "\r",
        "Loaded image 287 of 1208"
       ]
      },
      {
       "output_type": "stream",
       "stream": "stdout",
       "text": [
        "\r",
        "Loaded image 288 of 1208"
       ]
      },
      {
       "output_type": "stream",
       "stream": "stdout",
       "text": [
        "\r",
        "Loaded image 289 of 1208"
       ]
      },
      {
       "output_type": "stream",
       "stream": "stdout",
       "text": [
        "\r",
        "Loaded image 290 of 1208"
       ]
      },
      {
       "output_type": "stream",
       "stream": "stdout",
       "text": [
        "\r",
        "Loaded image 291 of 1208"
       ]
      },
      {
       "output_type": "stream",
       "stream": "stdout",
       "text": [
        "\r",
        "Loaded image 292 of 1208"
       ]
      },
      {
       "output_type": "stream",
       "stream": "stdout",
       "text": [
        "\r",
        "Loaded image 293 of 1208"
       ]
      },
      {
       "output_type": "stream",
       "stream": "stdout",
       "text": [
        "\r",
        "Loaded image 294 of 1208"
       ]
      },
      {
       "output_type": "stream",
       "stream": "stdout",
       "text": [
        "\r",
        "Loaded image 295 of 1208"
       ]
      },
      {
       "output_type": "stream",
       "stream": "stdout",
       "text": [
        "\r",
        "Loaded image 296 of 1208"
       ]
      },
      {
       "output_type": "stream",
       "stream": "stdout",
       "text": [
        "\r",
        "Loaded image 297 of 1208"
       ]
      },
      {
       "output_type": "stream",
       "stream": "stdout",
       "text": [
        "\r",
        "Loaded image 298 of 1208"
       ]
      },
      {
       "output_type": "stream",
       "stream": "stdout",
       "text": [
        "\r",
        "Loaded image 299 of 1208"
       ]
      },
      {
       "output_type": "stream",
       "stream": "stdout",
       "text": [
        "\r",
        "Loaded image 300 of 1208"
       ]
      },
      {
       "output_type": "stream",
       "stream": "stdout",
       "text": [
        "\r",
        "Loaded image 301 of 1208"
       ]
      },
      {
       "output_type": "stream",
       "stream": "stdout",
       "text": [
        "\r",
        "Loaded image 302 of 1208"
       ]
      },
      {
       "output_type": "stream",
       "stream": "stdout",
       "text": [
        "\r",
        "Loaded image 303 of 1208"
       ]
      },
      {
       "output_type": "stream",
       "stream": "stdout",
       "text": [
        "\r",
        "Loaded image 304 of 1208"
       ]
      },
      {
       "output_type": "stream",
       "stream": "stdout",
       "text": [
        "\r",
        "Loaded image 305 of 1208"
       ]
      },
      {
       "output_type": "stream",
       "stream": "stdout",
       "text": [
        "\r",
        "Loaded image 306 of 1208"
       ]
      },
      {
       "output_type": "stream",
       "stream": "stdout",
       "text": [
        "\r",
        "Loaded image 307 of 1208"
       ]
      },
      {
       "output_type": "stream",
       "stream": "stdout",
       "text": [
        "\r",
        "Loaded image 308 of 1208"
       ]
      },
      {
       "output_type": "stream",
       "stream": "stdout",
       "text": [
        "\r",
        "Loaded image 309 of 1208"
       ]
      },
      {
       "output_type": "stream",
       "stream": "stdout",
       "text": [
        "\r",
        "Loaded image 310 of 1208"
       ]
      },
      {
       "output_type": "stream",
       "stream": "stdout",
       "text": [
        "\r",
        "Loaded image 311 of 1208"
       ]
      },
      {
       "output_type": "stream",
       "stream": "stdout",
       "text": [
        "\r",
        "Loaded image 312 of 1208"
       ]
      },
      {
       "output_type": "stream",
       "stream": "stdout",
       "text": [
        "\r",
        "Loaded image 313 of 1208"
       ]
      },
      {
       "output_type": "stream",
       "stream": "stdout",
       "text": [
        "\r",
        "Loaded image 314 of 1208"
       ]
      },
      {
       "output_type": "stream",
       "stream": "stdout",
       "text": [
        "\r",
        "Loaded image 315 of 1208"
       ]
      },
      {
       "output_type": "stream",
       "stream": "stdout",
       "text": [
        "\r",
        "Loaded image 316 of 1208"
       ]
      },
      {
       "output_type": "stream",
       "stream": "stdout",
       "text": [
        "\r",
        "Loaded image 317 of 1208"
       ]
      },
      {
       "output_type": "stream",
       "stream": "stdout",
       "text": [
        "\r",
        "Loaded image 318 of 1208"
       ]
      },
      {
       "output_type": "stream",
       "stream": "stdout",
       "text": [
        "\r",
        "Loaded image 319 of 1208"
       ]
      },
      {
       "output_type": "stream",
       "stream": "stdout",
       "text": [
        "\r",
        "Loaded image 320 of 1208"
       ]
      },
      {
       "output_type": "stream",
       "stream": "stdout",
       "text": [
        "\r",
        "Loaded image 321 of 1208"
       ]
      },
      {
       "output_type": "stream",
       "stream": "stdout",
       "text": [
        "\r",
        "Loaded image 322 of 1208"
       ]
      },
      {
       "output_type": "stream",
       "stream": "stdout",
       "text": [
        "\r",
        "Loaded image 323 of 1208"
       ]
      },
      {
       "output_type": "stream",
       "stream": "stdout",
       "text": [
        "\r",
        "Loaded image 324 of 1208"
       ]
      },
      {
       "output_type": "stream",
       "stream": "stdout",
       "text": [
        "\r",
        "Loaded image 325 of 1208"
       ]
      },
      {
       "output_type": "stream",
       "stream": "stdout",
       "text": [
        "\r",
        "Loaded image 326 of 1208"
       ]
      },
      {
       "output_type": "stream",
       "stream": "stdout",
       "text": [
        "\r",
        "Loaded image 327 of 1208"
       ]
      },
      {
       "output_type": "stream",
       "stream": "stdout",
       "text": [
        "\r",
        "Loaded image 328 of 1208"
       ]
      },
      {
       "output_type": "stream",
       "stream": "stdout",
       "text": [
        "\r",
        "Loaded image 329 of 1208"
       ]
      },
      {
       "output_type": "stream",
       "stream": "stdout",
       "text": [
        "\r",
        "Loaded image 330 of 1208"
       ]
      },
      {
       "output_type": "stream",
       "stream": "stdout",
       "text": [
        "\r",
        "Loaded image 331 of 1208"
       ]
      },
      {
       "output_type": "stream",
       "stream": "stdout",
       "text": [
        "\r",
        "Loaded image 332 of 1208"
       ]
      },
      {
       "output_type": "stream",
       "stream": "stdout",
       "text": [
        "\r",
        "Loaded image 333 of 1208"
       ]
      },
      {
       "output_type": "stream",
       "stream": "stdout",
       "text": [
        "\r",
        "Loaded image 334 of 1208"
       ]
      },
      {
       "output_type": "stream",
       "stream": "stdout",
       "text": [
        "\r",
        "Loaded image 335 of 1208"
       ]
      },
      {
       "output_type": "stream",
       "stream": "stdout",
       "text": [
        "\r",
        "Loaded image 336 of 1208"
       ]
      },
      {
       "output_type": "stream",
       "stream": "stdout",
       "text": [
        "\r",
        "Loaded image 337 of 1208"
       ]
      },
      {
       "output_type": "stream",
       "stream": "stdout",
       "text": [
        "\r",
        "Loaded image 338 of 1208"
       ]
      },
      {
       "output_type": "stream",
       "stream": "stdout",
       "text": [
        "\r",
        "Loaded image 339 of 1208"
       ]
      },
      {
       "output_type": "stream",
       "stream": "stdout",
       "text": [
        "\r",
        "Loaded image 340 of 1208"
       ]
      },
      {
       "output_type": "stream",
       "stream": "stdout",
       "text": [
        "\r",
        "Loaded image 341 of 1208"
       ]
      },
      {
       "output_type": "stream",
       "stream": "stdout",
       "text": [
        "\r",
        "Loaded image 342 of 1208"
       ]
      },
      {
       "output_type": "stream",
       "stream": "stdout",
       "text": [
        "\r",
        "Loaded image 343 of 1208"
       ]
      },
      {
       "output_type": "stream",
       "stream": "stdout",
       "text": [
        "\r",
        "Loaded image 344 of 1208"
       ]
      },
      {
       "output_type": "stream",
       "stream": "stdout",
       "text": [
        "\r",
        "Loaded image 345 of 1208"
       ]
      },
      {
       "output_type": "stream",
       "stream": "stdout",
       "text": [
        "\r",
        "Loaded image 346 of 1208"
       ]
      },
      {
       "output_type": "stream",
       "stream": "stdout",
       "text": [
        "\r",
        "Loaded image 347 of 1208"
       ]
      },
      {
       "output_type": "stream",
       "stream": "stdout",
       "text": [
        "\r",
        "Loaded image 348 of 1208"
       ]
      },
      {
       "output_type": "stream",
       "stream": "stdout",
       "text": [
        "\r",
        "Loaded image 349 of 1208"
       ]
      },
      {
       "output_type": "stream",
       "stream": "stdout",
       "text": [
        "\r",
        "Loaded image 350 of 1208"
       ]
      },
      {
       "output_type": "stream",
       "stream": "stdout",
       "text": [
        "\r",
        "Loaded image 351 of 1208"
       ]
      },
      {
       "output_type": "stream",
       "stream": "stdout",
       "text": [
        "\r",
        "Loaded image 352 of 1208"
       ]
      },
      {
       "output_type": "stream",
       "stream": "stdout",
       "text": [
        "\r",
        "Loaded image 353 of 1208"
       ]
      },
      {
       "output_type": "stream",
       "stream": "stdout",
       "text": [
        "\r",
        "Loaded image 354 of 1208"
       ]
      },
      {
       "output_type": "stream",
       "stream": "stdout",
       "text": [
        "\r",
        "Loaded image 355 of 1208"
       ]
      },
      {
       "output_type": "stream",
       "stream": "stdout",
       "text": [
        "\r",
        "Loaded image 356 of 1208"
       ]
      },
      {
       "output_type": "stream",
       "stream": "stdout",
       "text": [
        "\r",
        "Loaded image 357 of 1208"
       ]
      },
      {
       "output_type": "stream",
       "stream": "stdout",
       "text": [
        "\r",
        "Loaded image 358 of 1208"
       ]
      },
      {
       "output_type": "stream",
       "stream": "stdout",
       "text": [
        "\r",
        "Loaded image 359 of 1208"
       ]
      },
      {
       "output_type": "stream",
       "stream": "stdout",
       "text": [
        "\r",
        "Loaded image 360 of 1208"
       ]
      },
      {
       "output_type": "stream",
       "stream": "stdout",
       "text": [
        "\r",
        "Loaded image 361 of 1208"
       ]
      },
      {
       "output_type": "stream",
       "stream": "stdout",
       "text": [
        "\r",
        "Loaded image 362 of 1208"
       ]
      },
      {
       "output_type": "stream",
       "stream": "stdout",
       "text": [
        "\r",
        "Loaded image 363 of 1208"
       ]
      },
      {
       "output_type": "stream",
       "stream": "stdout",
       "text": [
        "\r",
        "Loaded image 364 of 1208"
       ]
      },
      {
       "output_type": "stream",
       "stream": "stdout",
       "text": [
        "\r",
        "Loaded image 365 of 1208"
       ]
      },
      {
       "output_type": "stream",
       "stream": "stdout",
       "text": [
        "\r",
        "Loaded image 366 of 1208"
       ]
      },
      {
       "output_type": "stream",
       "stream": "stdout",
       "text": [
        "\r",
        "Loaded image 367 of 1208"
       ]
      },
      {
       "output_type": "stream",
       "stream": "stdout",
       "text": [
        "\r",
        "Loaded image 368 of 1208"
       ]
      },
      {
       "output_type": "stream",
       "stream": "stdout",
       "text": [
        "\r",
        "Loaded image 369 of 1208"
       ]
      },
      {
       "output_type": "stream",
       "stream": "stdout",
       "text": [
        "\r",
        "Loaded image 370 of 1208"
       ]
      },
      {
       "output_type": "stream",
       "stream": "stdout",
       "text": [
        "\r",
        "Loaded image 371 of 1208"
       ]
      },
      {
       "output_type": "stream",
       "stream": "stdout",
       "text": [
        "\r",
        "Loaded image 372 of 1208"
       ]
      },
      {
       "output_type": "stream",
       "stream": "stdout",
       "text": [
        "\r",
        "Loaded image 373 of 1208"
       ]
      },
      {
       "output_type": "stream",
       "stream": "stdout",
       "text": [
        "\r",
        "Loaded image 374 of 1208"
       ]
      },
      {
       "output_type": "stream",
       "stream": "stdout",
       "text": [
        "\r",
        "Loaded image 375 of 1208"
       ]
      },
      {
       "output_type": "stream",
       "stream": "stdout",
       "text": [
        "\r",
        "Loaded image 376 of 1208"
       ]
      },
      {
       "output_type": "stream",
       "stream": "stdout",
       "text": [
        "\r",
        "Loaded image 377 of 1208"
       ]
      },
      {
       "output_type": "stream",
       "stream": "stdout",
       "text": [
        "\r",
        "Loaded image 378 of 1208"
       ]
      },
      {
       "output_type": "stream",
       "stream": "stdout",
       "text": [
        "\r",
        "Loaded image 379 of 1208"
       ]
      },
      {
       "output_type": "stream",
       "stream": "stdout",
       "text": [
        "\r",
        "Loaded image 380 of 1208"
       ]
      },
      {
       "output_type": "stream",
       "stream": "stdout",
       "text": [
        "\r",
        "Loaded image 381 of 1208"
       ]
      },
      {
       "output_type": "stream",
       "stream": "stdout",
       "text": [
        "\r",
        "Loaded image 382 of 1208"
       ]
      },
      {
       "output_type": "stream",
       "stream": "stdout",
       "text": [
        "\r",
        "Loaded image 383 of 1208"
       ]
      },
      {
       "output_type": "stream",
       "stream": "stdout",
       "text": [
        "\r",
        "Loaded image 384 of 1208"
       ]
      },
      {
       "output_type": "stream",
       "stream": "stdout",
       "text": [
        "\r",
        "Loaded image 385 of 1208"
       ]
      },
      {
       "output_type": "stream",
       "stream": "stdout",
       "text": [
        "\r",
        "Loaded image 386 of 1208"
       ]
      },
      {
       "output_type": "stream",
       "stream": "stdout",
       "text": [
        "\r",
        "Loaded image 387 of 1208"
       ]
      },
      {
       "output_type": "stream",
       "stream": "stdout",
       "text": [
        "\r",
        "Loaded image 388 of 1208"
       ]
      },
      {
       "output_type": "stream",
       "stream": "stdout",
       "text": [
        "\r",
        "Loaded image 389 of 1208"
       ]
      },
      {
       "output_type": "stream",
       "stream": "stdout",
       "text": [
        "\r",
        "Loaded image 390 of 1208"
       ]
      },
      {
       "output_type": "stream",
       "stream": "stdout",
       "text": [
        "\r",
        "Loaded image 391 of 1208"
       ]
      },
      {
       "output_type": "stream",
       "stream": "stdout",
       "text": [
        "\r",
        "Loaded image 392 of 1208"
       ]
      },
      {
       "output_type": "stream",
       "stream": "stdout",
       "text": [
        "\r",
        "Loaded image 393 of 1208"
       ]
      },
      {
       "output_type": "stream",
       "stream": "stdout",
       "text": [
        "\r",
        "Loaded image 394 of 1208"
       ]
      },
      {
       "output_type": "stream",
       "stream": "stdout",
       "text": [
        "\r",
        "Loaded image 395 of 1208"
       ]
      },
      {
       "output_type": "stream",
       "stream": "stdout",
       "text": [
        "\r",
        "Loaded image 396 of 1208"
       ]
      },
      {
       "output_type": "stream",
       "stream": "stdout",
       "text": [
        "\r",
        "Loaded image 397 of 1208"
       ]
      },
      {
       "output_type": "stream",
       "stream": "stdout",
       "text": [
        "\r",
        "Loaded image 398 of 1208"
       ]
      },
      {
       "output_type": "stream",
       "stream": "stdout",
       "text": [
        "\r",
        "Loaded image 399 of 1208"
       ]
      },
      {
       "output_type": "stream",
       "stream": "stdout",
       "text": [
        "\r",
        "Loaded image 400 of 1208"
       ]
      },
      {
       "output_type": "stream",
       "stream": "stdout",
       "text": [
        "\r",
        "Loaded image 401 of 1208"
       ]
      },
      {
       "output_type": "stream",
       "stream": "stdout",
       "text": [
        "\r",
        "Loaded image 402 of 1208"
       ]
      },
      {
       "output_type": "stream",
       "stream": "stdout",
       "text": [
        "\r",
        "Loaded image 403 of 1208"
       ]
      },
      {
       "output_type": "stream",
       "stream": "stdout",
       "text": [
        "\r",
        "Loaded image 404 of 1208"
       ]
      },
      {
       "output_type": "stream",
       "stream": "stdout",
       "text": [
        "\r",
        "Loaded image 405 of 1208"
       ]
      },
      {
       "output_type": "stream",
       "stream": "stdout",
       "text": [
        "\r",
        "Loaded image 406 of 1208"
       ]
      },
      {
       "output_type": "stream",
       "stream": "stdout",
       "text": [
        "\r",
        "Loaded image 407 of 1208"
       ]
      },
      {
       "output_type": "stream",
       "stream": "stdout",
       "text": [
        "\r",
        "Loaded image 408 of 1208"
       ]
      },
      {
       "output_type": "stream",
       "stream": "stdout",
       "text": [
        "\r",
        "Loaded image 409 of 1208"
       ]
      },
      {
       "output_type": "stream",
       "stream": "stdout",
       "text": [
        "\r",
        "Loaded image 410 of 1208"
       ]
      },
      {
       "output_type": "stream",
       "stream": "stdout",
       "text": [
        "\r",
        "Loaded image 411 of 1208"
       ]
      },
      {
       "output_type": "stream",
       "stream": "stdout",
       "text": [
        "\r",
        "Loaded image 412 of 1208"
       ]
      },
      {
       "output_type": "stream",
       "stream": "stdout",
       "text": [
        "\r",
        "Loaded image 413 of 1208"
       ]
      },
      {
       "output_type": "stream",
       "stream": "stdout",
       "text": [
        "\r",
        "Loaded image 414 of 1208"
       ]
      },
      {
       "output_type": "stream",
       "stream": "stdout",
       "text": [
        "\r",
        "Loaded image 415 of 1208"
       ]
      },
      {
       "output_type": "stream",
       "stream": "stdout",
       "text": [
        "\r",
        "Loaded image 416 of 1208"
       ]
      },
      {
       "output_type": "stream",
       "stream": "stdout",
       "text": [
        "\r",
        "Loaded image 417 of 1208"
       ]
      },
      {
       "output_type": "stream",
       "stream": "stdout",
       "text": [
        "\r",
        "Loaded image 418 of 1208"
       ]
      },
      {
       "output_type": "stream",
       "stream": "stdout",
       "text": [
        "\r",
        "Loaded image 419 of 1208"
       ]
      },
      {
       "output_type": "stream",
       "stream": "stdout",
       "text": [
        "\r",
        "Loaded image 420 of 1208"
       ]
      },
      {
       "output_type": "stream",
       "stream": "stdout",
       "text": [
        "\r",
        "Loaded image 421 of 1208"
       ]
      },
      {
       "output_type": "stream",
       "stream": "stdout",
       "text": [
        "\r",
        "Loaded image 422 of 1208"
       ]
      },
      {
       "output_type": "stream",
       "stream": "stdout",
       "text": [
        "\r",
        "Loaded image 423 of 1208"
       ]
      },
      {
       "output_type": "stream",
       "stream": "stdout",
       "text": [
        "\r",
        "Loaded image 424 of 1208"
       ]
      },
      {
       "output_type": "stream",
       "stream": "stdout",
       "text": [
        "\r",
        "Loaded image 425 of 1208"
       ]
      },
      {
       "output_type": "stream",
       "stream": "stdout",
       "text": [
        "\r",
        "Loaded image 426 of 1208"
       ]
      },
      {
       "output_type": "stream",
       "stream": "stdout",
       "text": [
        "\r",
        "Loaded image 427 of 1208"
       ]
      },
      {
       "output_type": "stream",
       "stream": "stdout",
       "text": [
        "\r",
        "Loaded image 428 of 1208"
       ]
      },
      {
       "output_type": "stream",
       "stream": "stdout",
       "text": [
        "\r",
        "Loaded image 429 of 1208"
       ]
      },
      {
       "output_type": "stream",
       "stream": "stdout",
       "text": [
        "\r",
        "Loaded image 430 of 1208"
       ]
      },
      {
       "output_type": "stream",
       "stream": "stdout",
       "text": [
        "\r",
        "Loaded image 431 of 1208"
       ]
      },
      {
       "output_type": "stream",
       "stream": "stdout",
       "text": [
        "\r",
        "Loaded image 432 of 1208"
       ]
      },
      {
       "output_type": "stream",
       "stream": "stdout",
       "text": [
        "\r",
        "Loaded image 433 of 1208"
       ]
      },
      {
       "output_type": "stream",
       "stream": "stdout",
       "text": [
        "\r",
        "Loaded image 434 of 1208"
       ]
      },
      {
       "output_type": "stream",
       "stream": "stdout",
       "text": [
        "\r",
        "Loaded image 435 of 1208"
       ]
      },
      {
       "output_type": "stream",
       "stream": "stdout",
       "text": [
        "\r",
        "Loaded image 436 of 1208"
       ]
      },
      {
       "output_type": "stream",
       "stream": "stdout",
       "text": [
        "\r",
        "Loaded image 437 of 1208"
       ]
      },
      {
       "output_type": "stream",
       "stream": "stdout",
       "text": [
        "\r",
        "Loaded image 438 of 1208"
       ]
      },
      {
       "output_type": "stream",
       "stream": "stdout",
       "text": [
        "\r",
        "Loaded image 439 of 1208"
       ]
      },
      {
       "output_type": "stream",
       "stream": "stdout",
       "text": [
        "\r",
        "Loaded image 440 of 1208"
       ]
      },
      {
       "output_type": "stream",
       "stream": "stdout",
       "text": [
        "\r",
        "Loaded image 441 of 1208"
       ]
      },
      {
       "output_type": "stream",
       "stream": "stdout",
       "text": [
        "\r",
        "Loaded image 442 of 1208"
       ]
      },
      {
       "output_type": "stream",
       "stream": "stdout",
       "text": [
        "\r",
        "Loaded image 443 of 1208"
       ]
      },
      {
       "output_type": "stream",
       "stream": "stdout",
       "text": [
        "\r",
        "Loaded image 444 of 1208"
       ]
      },
      {
       "output_type": "stream",
       "stream": "stdout",
       "text": [
        "\r",
        "Loaded image 445 of 1208"
       ]
      },
      {
       "output_type": "stream",
       "stream": "stdout",
       "text": [
        "\r",
        "Loaded image 446 of 1208"
       ]
      },
      {
       "output_type": "stream",
       "stream": "stdout",
       "text": [
        "\r",
        "Loaded image 447 of 1208"
       ]
      },
      {
       "output_type": "stream",
       "stream": "stdout",
       "text": [
        "\r",
        "Loaded image 448 of 1208"
       ]
      },
      {
       "output_type": "stream",
       "stream": "stdout",
       "text": [
        "\r",
        "Loaded image 449 of 1208"
       ]
      },
      {
       "output_type": "stream",
       "stream": "stdout",
       "text": [
        "\r",
        "Loaded image 450 of 1208"
       ]
      },
      {
       "output_type": "stream",
       "stream": "stdout",
       "text": [
        "\r",
        "Loaded image 451 of 1208"
       ]
      },
      {
       "output_type": "stream",
       "stream": "stdout",
       "text": [
        "\r",
        "Loaded image 452 of 1208"
       ]
      },
      {
       "output_type": "stream",
       "stream": "stdout",
       "text": [
        "\r",
        "Loaded image 453 of 1208"
       ]
      },
      {
       "output_type": "stream",
       "stream": "stdout",
       "text": [
        "\r",
        "Loaded image 454 of 1208"
       ]
      },
      {
       "output_type": "stream",
       "stream": "stdout",
       "text": [
        "\r",
        "Loaded image 455 of 1208"
       ]
      },
      {
       "output_type": "stream",
       "stream": "stdout",
       "text": [
        "\r",
        "Loaded image 456 of 1208"
       ]
      },
      {
       "output_type": "stream",
       "stream": "stdout",
       "text": [
        "\r",
        "Loaded image 457 of 1208"
       ]
      },
      {
       "output_type": "stream",
       "stream": "stdout",
       "text": [
        "\r",
        "Loaded image 458 of 1208"
       ]
      },
      {
       "output_type": "stream",
       "stream": "stdout",
       "text": [
        "\r",
        "Loaded image 459 of 1208"
       ]
      },
      {
       "output_type": "stream",
       "stream": "stdout",
       "text": [
        "\r",
        "Loaded image 460 of 1208"
       ]
      },
      {
       "output_type": "stream",
       "stream": "stdout",
       "text": [
        "\r",
        "Loaded image 461 of 1208"
       ]
      },
      {
       "output_type": "stream",
       "stream": "stdout",
       "text": [
        "\r",
        "Loaded image 462 of 1208"
       ]
      },
      {
       "output_type": "stream",
       "stream": "stdout",
       "text": [
        "\r",
        "Loaded image 463 of 1208"
       ]
      },
      {
       "output_type": "stream",
       "stream": "stdout",
       "text": [
        "\r",
        "Loaded image 464 of 1208"
       ]
      },
      {
       "output_type": "stream",
       "stream": "stdout",
       "text": [
        "\r",
        "Loaded image 465 of 1208"
       ]
      },
      {
       "output_type": "stream",
       "stream": "stdout",
       "text": [
        "\r",
        "Loaded image 466 of 1208"
       ]
      },
      {
       "output_type": "stream",
       "stream": "stdout",
       "text": [
        "\r",
        "Loaded image 467 of 1208"
       ]
      },
      {
       "output_type": "stream",
       "stream": "stdout",
       "text": [
        "\r",
        "Loaded image 468 of 1208"
       ]
      },
      {
       "output_type": "stream",
       "stream": "stdout",
       "text": [
        "\r",
        "Loaded image 469 of 1208"
       ]
      },
      {
       "output_type": "stream",
       "stream": "stdout",
       "text": [
        "\r",
        "Loaded image 470 of 1208"
       ]
      },
      {
       "output_type": "stream",
       "stream": "stdout",
       "text": [
        "\r",
        "Loaded image 471 of 1208"
       ]
      },
      {
       "output_type": "stream",
       "stream": "stdout",
       "text": [
        "\r",
        "Loaded image 472 of 1208"
       ]
      },
      {
       "output_type": "stream",
       "stream": "stdout",
       "text": [
        "\r",
        "Loaded image 473 of 1208"
       ]
      },
      {
       "output_type": "stream",
       "stream": "stdout",
       "text": [
        "\r",
        "Loaded image 474 of 1208"
       ]
      },
      {
       "output_type": "stream",
       "stream": "stdout",
       "text": [
        "\r",
        "Loaded image 475 of 1208"
       ]
      },
      {
       "output_type": "stream",
       "stream": "stdout",
       "text": [
        "\r",
        "Loaded image 476 of 1208"
       ]
      },
      {
       "output_type": "stream",
       "stream": "stdout",
       "text": [
        "\r",
        "Loaded image 477 of 1208"
       ]
      },
      {
       "output_type": "stream",
       "stream": "stdout",
       "text": [
        "\r",
        "Loaded image 478 of 1208"
       ]
      },
      {
       "output_type": "stream",
       "stream": "stdout",
       "text": [
        "\r",
        "Loaded image 479 of 1208"
       ]
      },
      {
       "output_type": "stream",
       "stream": "stdout",
       "text": [
        "\r",
        "Loaded image 480 of 1208"
       ]
      },
      {
       "output_type": "stream",
       "stream": "stdout",
       "text": [
        "\r",
        "Loaded image 481 of 1208"
       ]
      },
      {
       "output_type": "stream",
       "stream": "stdout",
       "text": [
        "\r",
        "Loaded image 482 of 1208"
       ]
      },
      {
       "output_type": "stream",
       "stream": "stdout",
       "text": [
        "\r",
        "Loaded image 483 of 1208"
       ]
      },
      {
       "output_type": "stream",
       "stream": "stdout",
       "text": [
        "\r",
        "Loaded image 484 of 1208"
       ]
      },
      {
       "output_type": "stream",
       "stream": "stdout",
       "text": [
        "\r",
        "Loaded image 485 of 1208"
       ]
      },
      {
       "output_type": "stream",
       "stream": "stdout",
       "text": [
        "\r",
        "Loaded image 486 of 1208"
       ]
      },
      {
       "output_type": "stream",
       "stream": "stdout",
       "text": [
        "\r",
        "Loaded image 487 of 1208"
       ]
      },
      {
       "output_type": "stream",
       "stream": "stdout",
       "text": [
        "\r",
        "Loaded image 488 of 1208"
       ]
      },
      {
       "output_type": "stream",
       "stream": "stdout",
       "text": [
        "\r",
        "Loaded image 489 of 1208"
       ]
      },
      {
       "output_type": "stream",
       "stream": "stdout",
       "text": [
        "\r",
        "Loaded image 490 of 1208"
       ]
      },
      {
       "output_type": "stream",
       "stream": "stdout",
       "text": [
        "\r",
        "Loaded image 491 of 1208"
       ]
      },
      {
       "output_type": "stream",
       "stream": "stdout",
       "text": [
        "\r",
        "Loaded image 492 of 1208"
       ]
      },
      {
       "output_type": "stream",
       "stream": "stdout",
       "text": [
        "\r",
        "Loaded image 493 of 1208"
       ]
      },
      {
       "output_type": "stream",
       "stream": "stdout",
       "text": [
        "\r",
        "Loaded image 494 of 1208"
       ]
      },
      {
       "output_type": "stream",
       "stream": "stdout",
       "text": [
        "\r",
        "Loaded image 495 of 1208"
       ]
      },
      {
       "output_type": "stream",
       "stream": "stdout",
       "text": [
        "\r",
        "Loaded image 496 of 1208"
       ]
      },
      {
       "output_type": "stream",
       "stream": "stdout",
       "text": [
        "\r",
        "Loaded image 497 of 1208"
       ]
      },
      {
       "output_type": "stream",
       "stream": "stdout",
       "text": [
        "\r",
        "Loaded image 498 of 1208"
       ]
      },
      {
       "output_type": "stream",
       "stream": "stdout",
       "text": [
        "\r",
        "Loaded image 499 of 1208"
       ]
      },
      {
       "output_type": "stream",
       "stream": "stdout",
       "text": [
        "\r",
        "Loaded image 500 of 1208"
       ]
      },
      {
       "output_type": "stream",
       "stream": "stdout",
       "text": [
        "\r",
        "Loaded image 501 of 1208"
       ]
      },
      {
       "output_type": "stream",
       "stream": "stdout",
       "text": [
        "\r",
        "Loaded image 502 of 1208"
       ]
      },
      {
       "output_type": "stream",
       "stream": "stdout",
       "text": [
        "\r",
        "Loaded image 503 of 1208"
       ]
      },
      {
       "output_type": "stream",
       "stream": "stdout",
       "text": [
        "\r",
        "Loaded image 504 of 1208"
       ]
      },
      {
       "output_type": "stream",
       "stream": "stdout",
       "text": [
        "\r",
        "Loaded image 505 of 1208"
       ]
      },
      {
       "output_type": "stream",
       "stream": "stdout",
       "text": [
        "\r",
        "Loaded image 506 of 1208"
       ]
      },
      {
       "output_type": "stream",
       "stream": "stdout",
       "text": [
        "\r",
        "Loaded image 507 of 1208"
       ]
      },
      {
       "output_type": "stream",
       "stream": "stdout",
       "text": [
        "\r",
        "Loaded image 508 of 1208"
       ]
      },
      {
       "output_type": "stream",
       "stream": "stdout",
       "text": [
        "\r",
        "Loaded image 509 of 1208"
       ]
      },
      {
       "output_type": "stream",
       "stream": "stdout",
       "text": [
        "\r",
        "Loaded image 510 of 1208"
       ]
      },
      {
       "output_type": "stream",
       "stream": "stdout",
       "text": [
        "\r",
        "Loaded image 511 of 1208"
       ]
      },
      {
       "output_type": "stream",
       "stream": "stdout",
       "text": [
        "\r",
        "Loaded image 512 of 1208"
       ]
      },
      {
       "output_type": "stream",
       "stream": "stdout",
       "text": [
        "\r",
        "Loaded image 513 of 1208"
       ]
      },
      {
       "output_type": "stream",
       "stream": "stdout",
       "text": [
        "\r",
        "Loaded image 514 of 1208"
       ]
      },
      {
       "output_type": "stream",
       "stream": "stdout",
       "text": [
        "\r",
        "Loaded image 515 of 1208"
       ]
      },
      {
       "output_type": "stream",
       "stream": "stdout",
       "text": [
        "\r",
        "Loaded image 516 of 1208"
       ]
      },
      {
       "output_type": "stream",
       "stream": "stdout",
       "text": [
        "\r",
        "Loaded image 517 of 1208"
       ]
      },
      {
       "output_type": "stream",
       "stream": "stdout",
       "text": [
        "\r",
        "Loaded image 518 of 1208"
       ]
      },
      {
       "output_type": "stream",
       "stream": "stdout",
       "text": [
        "\r",
        "Loaded image 519 of 1208"
       ]
      },
      {
       "output_type": "stream",
       "stream": "stdout",
       "text": [
        "\r",
        "Loaded image 520 of 1208"
       ]
      },
      {
       "output_type": "stream",
       "stream": "stdout",
       "text": [
        "\r",
        "Loaded image 521 of 1208"
       ]
      },
      {
       "output_type": "stream",
       "stream": "stdout",
       "text": [
        "\r",
        "Loaded image 522 of 1208"
       ]
      },
      {
       "output_type": "stream",
       "stream": "stdout",
       "text": [
        "\r",
        "Loaded image 523 of 1208"
       ]
      },
      {
       "output_type": "stream",
       "stream": "stdout",
       "text": [
        "\r",
        "Loaded image 524 of 1208"
       ]
      },
      {
       "output_type": "stream",
       "stream": "stdout",
       "text": [
        "\r",
        "Loaded image 525 of 1208"
       ]
      },
      {
       "output_type": "stream",
       "stream": "stdout",
       "text": [
        "\r",
        "Loaded image 526 of 1208"
       ]
      },
      {
       "output_type": "stream",
       "stream": "stdout",
       "text": [
        "\r",
        "Loaded image 527 of 1208"
       ]
      },
      {
       "output_type": "stream",
       "stream": "stdout",
       "text": [
        "\r",
        "Loaded image 528 of 1208"
       ]
      },
      {
       "output_type": "stream",
       "stream": "stdout",
       "text": [
        "\r",
        "Loaded image 529 of 1208"
       ]
      },
      {
       "output_type": "stream",
       "stream": "stdout",
       "text": [
        "\r",
        "Loaded image 530 of 1208"
       ]
      },
      {
       "output_type": "stream",
       "stream": "stdout",
       "text": [
        "\r",
        "Loaded image 531 of 1208"
       ]
      },
      {
       "output_type": "stream",
       "stream": "stdout",
       "text": [
        "\r",
        "Loaded image 532 of 1208"
       ]
      },
      {
       "output_type": "stream",
       "stream": "stdout",
       "text": [
        "\r",
        "Loaded image 533 of 1208"
       ]
      },
      {
       "output_type": "stream",
       "stream": "stdout",
       "text": [
        "\r",
        "Loaded image 534 of 1208"
       ]
      },
      {
       "output_type": "stream",
       "stream": "stdout",
       "text": [
        "\r",
        "Loaded image 535 of 1208"
       ]
      },
      {
       "output_type": "stream",
       "stream": "stdout",
       "text": [
        "\r",
        "Loaded image 536 of 1208"
       ]
      },
      {
       "output_type": "stream",
       "stream": "stdout",
       "text": [
        "\r",
        "Loaded image 537 of 1208"
       ]
      },
      {
       "output_type": "stream",
       "stream": "stdout",
       "text": [
        "\r",
        "Loaded image 538 of 1208"
       ]
      },
      {
       "output_type": "stream",
       "stream": "stdout",
       "text": [
        "\r",
        "Loaded image 539 of 1208"
       ]
      },
      {
       "output_type": "stream",
       "stream": "stdout",
       "text": [
        "\r",
        "Loaded image 540 of 1208"
       ]
      },
      {
       "output_type": "stream",
       "stream": "stdout",
       "text": [
        "\r",
        "Loaded image 541 of 1208"
       ]
      },
      {
       "output_type": "stream",
       "stream": "stdout",
       "text": [
        "\r",
        "Loaded image 542 of 1208"
       ]
      },
      {
       "output_type": "stream",
       "stream": "stdout",
       "text": [
        "\r",
        "Loaded image 543 of 1208"
       ]
      },
      {
       "output_type": "stream",
       "stream": "stdout",
       "text": [
        "\r",
        "Loaded image 544 of 1208"
       ]
      },
      {
       "output_type": "stream",
       "stream": "stdout",
       "text": [
        "\r",
        "Loaded image 545 of 1208"
       ]
      },
      {
       "output_type": "stream",
       "stream": "stdout",
       "text": [
        "\r",
        "Loaded image 546 of 1208"
       ]
      },
      {
       "output_type": "stream",
       "stream": "stdout",
       "text": [
        "\r",
        "Loaded image 547 of 1208"
       ]
      },
      {
       "output_type": "stream",
       "stream": "stdout",
       "text": [
        "\r",
        "Loaded image 548 of 1208"
       ]
      },
      {
       "output_type": "stream",
       "stream": "stdout",
       "text": [
        "\r",
        "Loaded image 549 of 1208"
       ]
      },
      {
       "output_type": "stream",
       "stream": "stdout",
       "text": [
        "\r",
        "Loaded image 550 of 1208"
       ]
      },
      {
       "output_type": "stream",
       "stream": "stdout",
       "text": [
        "\r",
        "Loaded image 551 of 1208"
       ]
      },
      {
       "output_type": "stream",
       "stream": "stdout",
       "text": [
        "\r",
        "Loaded image 552 of 1208"
       ]
      },
      {
       "output_type": "stream",
       "stream": "stdout",
       "text": [
        "\r",
        "Loaded image 553 of 1208"
       ]
      },
      {
       "output_type": "stream",
       "stream": "stdout",
       "text": [
        "\r",
        "Loaded image 554 of 1208"
       ]
      },
      {
       "output_type": "stream",
       "stream": "stdout",
       "text": [
        "\r",
        "Loaded image 555 of 1208"
       ]
      },
      {
       "output_type": "stream",
       "stream": "stdout",
       "text": [
        "\r",
        "Loaded image 556 of 1208"
       ]
      },
      {
       "output_type": "stream",
       "stream": "stdout",
       "text": [
        "\r",
        "Loaded image 557 of 1208"
       ]
      },
      {
       "output_type": "stream",
       "stream": "stdout",
       "text": [
        "\r",
        "Loaded image 558 of 1208"
       ]
      },
      {
       "output_type": "stream",
       "stream": "stdout",
       "text": [
        "\r",
        "Loaded image 559 of 1208"
       ]
      },
      {
       "output_type": "stream",
       "stream": "stdout",
       "text": [
        "\r",
        "Loaded image 560 of 1208"
       ]
      },
      {
       "output_type": "stream",
       "stream": "stdout",
       "text": [
        "\r",
        "Loaded image 561 of 1208"
       ]
      },
      {
       "output_type": "stream",
       "stream": "stdout",
       "text": [
        "\r",
        "Loaded image 562 of 1208"
       ]
      },
      {
       "output_type": "stream",
       "stream": "stdout",
       "text": [
        "\r",
        "Loaded image 563 of 1208"
       ]
      },
      {
       "output_type": "stream",
       "stream": "stdout",
       "text": [
        "\r",
        "Loaded image 564 of 1208"
       ]
      },
      {
       "output_type": "stream",
       "stream": "stdout",
       "text": [
        "\r",
        "Loaded image 565 of 1208"
       ]
      },
      {
       "output_type": "stream",
       "stream": "stdout",
       "text": [
        "\r",
        "Loaded image 566 of 1208"
       ]
      },
      {
       "output_type": "stream",
       "stream": "stdout",
       "text": [
        "\r",
        "Loaded image 567 of 1208"
       ]
      },
      {
       "output_type": "stream",
       "stream": "stdout",
       "text": [
        "\r",
        "Loaded image 568 of 1208"
       ]
      },
      {
       "output_type": "stream",
       "stream": "stdout",
       "text": [
        "\r",
        "Loaded image 569 of 1208"
       ]
      },
      {
       "output_type": "stream",
       "stream": "stdout",
       "text": [
        "\r",
        "Loaded image 570 of 1208"
       ]
      },
      {
       "output_type": "stream",
       "stream": "stdout",
       "text": [
        "\r",
        "Loaded image 571 of 1208"
       ]
      },
      {
       "output_type": "stream",
       "stream": "stdout",
       "text": [
        "\r",
        "Loaded image 572 of 1208"
       ]
      },
      {
       "output_type": "stream",
       "stream": "stdout",
       "text": [
        "\r",
        "Loaded image 573 of 1208"
       ]
      },
      {
       "output_type": "stream",
       "stream": "stdout",
       "text": [
        "\r",
        "Loaded image 574 of 1208"
       ]
      },
      {
       "output_type": "stream",
       "stream": "stdout",
       "text": [
        "\r",
        "Loaded image 575 of 1208"
       ]
      },
      {
       "output_type": "stream",
       "stream": "stdout",
       "text": [
        "\r",
        "Loaded image 576 of 1208"
       ]
      },
      {
       "output_type": "stream",
       "stream": "stdout",
       "text": [
        "\r",
        "Loaded image 577 of 1208"
       ]
      },
      {
       "output_type": "stream",
       "stream": "stdout",
       "text": [
        "\r",
        "Loaded image 578 of 1208"
       ]
      },
      {
       "output_type": "stream",
       "stream": "stdout",
       "text": [
        "\r",
        "Loaded image 579 of 1208"
       ]
      },
      {
       "output_type": "stream",
       "stream": "stdout",
       "text": [
        "\r",
        "Loaded image 580 of 1208"
       ]
      },
      {
       "output_type": "stream",
       "stream": "stdout",
       "text": [
        "\r",
        "Loaded image 581 of 1208"
       ]
      },
      {
       "output_type": "stream",
       "stream": "stdout",
       "text": [
        "\r",
        "Loaded image 582 of 1208"
       ]
      },
      {
       "output_type": "stream",
       "stream": "stdout",
       "text": [
        "\r",
        "Loaded image 583 of 1208"
       ]
      },
      {
       "output_type": "stream",
       "stream": "stdout",
       "text": [
        "\r",
        "Loaded image 584 of 1208"
       ]
      },
      {
       "output_type": "stream",
       "stream": "stdout",
       "text": [
        "\r",
        "Loaded image 585 of 1208"
       ]
      },
      {
       "output_type": "stream",
       "stream": "stdout",
       "text": [
        "\r",
        "Loaded image 586 of 1208"
       ]
      },
      {
       "output_type": "stream",
       "stream": "stdout",
       "text": [
        "\r",
        "Loaded image 587 of 1208"
       ]
      },
      {
       "output_type": "stream",
       "stream": "stdout",
       "text": [
        "\r",
        "Loaded image 588 of 1208"
       ]
      },
      {
       "output_type": "stream",
       "stream": "stdout",
       "text": [
        "\r",
        "Loaded image 589 of 1208"
       ]
      },
      {
       "output_type": "stream",
       "stream": "stdout",
       "text": [
        "\r",
        "Loaded image 590 of 1208"
       ]
      },
      {
       "output_type": "stream",
       "stream": "stdout",
       "text": [
        "\r",
        "Loaded image 591 of 1208"
       ]
      },
      {
       "output_type": "stream",
       "stream": "stdout",
       "text": [
        "\r",
        "Loaded image 592 of 1208"
       ]
      },
      {
       "output_type": "stream",
       "stream": "stdout",
       "text": [
        "\r",
        "Loaded image 593 of 1208"
       ]
      },
      {
       "output_type": "stream",
       "stream": "stdout",
       "text": [
        "\r",
        "Loaded image 594 of 1208"
       ]
      },
      {
       "output_type": "stream",
       "stream": "stdout",
       "text": [
        "\r",
        "Loaded image 595 of 1208"
       ]
      },
      {
       "output_type": "stream",
       "stream": "stdout",
       "text": [
        "\r",
        "Loaded image 596 of 1208"
       ]
      },
      {
       "output_type": "stream",
       "stream": "stdout",
       "text": [
        "\r",
        "Loaded image 597 of 1208"
       ]
      },
      {
       "output_type": "stream",
       "stream": "stdout",
       "text": [
        "\r",
        "Loaded image 598 of 1208"
       ]
      },
      {
       "output_type": "stream",
       "stream": "stdout",
       "text": [
        "\r",
        "Loaded image 599 of 1208"
       ]
      },
      {
       "output_type": "stream",
       "stream": "stdout",
       "text": [
        "\r",
        "Loaded image 600 of 1208"
       ]
      },
      {
       "output_type": "stream",
       "stream": "stdout",
       "text": [
        "\r",
        "Loaded image 601 of 1208"
       ]
      },
      {
       "output_type": "stream",
       "stream": "stdout",
       "text": [
        "\r",
        "Loaded image 602 of 1208"
       ]
      },
      {
       "output_type": "stream",
       "stream": "stdout",
       "text": [
        "\r",
        "Loaded image 603 of 1208"
       ]
      },
      {
       "output_type": "stream",
       "stream": "stdout",
       "text": [
        "\r",
        "Loaded image 604 of 1208"
       ]
      },
      {
       "output_type": "stream",
       "stream": "stdout",
       "text": [
        "\r",
        "Loaded image 605 of 1208"
       ]
      },
      {
       "output_type": "stream",
       "stream": "stdout",
       "text": [
        "\r",
        "Loaded image 606 of 1208"
       ]
      },
      {
       "output_type": "stream",
       "stream": "stdout",
       "text": [
        "\r",
        "Loaded image 607 of 1208"
       ]
      },
      {
       "output_type": "stream",
       "stream": "stdout",
       "text": [
        "\r",
        "Loaded image 608 of 1208"
       ]
      },
      {
       "output_type": "stream",
       "stream": "stdout",
       "text": [
        "\r",
        "Loaded image 609 of 1208"
       ]
      },
      {
       "output_type": "stream",
       "stream": "stdout",
       "text": [
        "\r",
        "Loaded image 610 of 1208"
       ]
      },
      {
       "output_type": "stream",
       "stream": "stdout",
       "text": [
        "\r",
        "Loaded image 611 of 1208"
       ]
      },
      {
       "output_type": "stream",
       "stream": "stdout",
       "text": [
        "\r",
        "Loaded image 612 of 1208"
       ]
      },
      {
       "output_type": "stream",
       "stream": "stdout",
       "text": [
        "\r",
        "Loaded image 613 of 1208"
       ]
      },
      {
       "output_type": "stream",
       "stream": "stdout",
       "text": [
        "\r",
        "Loaded image 614 of 1208"
       ]
      },
      {
       "output_type": "stream",
       "stream": "stdout",
       "text": [
        "\r",
        "Loaded image 615 of 1208"
       ]
      },
      {
       "output_type": "stream",
       "stream": "stdout",
       "text": [
        "\r",
        "Loaded image 616 of 1208"
       ]
      },
      {
       "output_type": "stream",
       "stream": "stdout",
       "text": [
        "\r",
        "Loaded image 617 of 1208"
       ]
      },
      {
       "output_type": "stream",
       "stream": "stdout",
       "text": [
        "\r",
        "Loaded image 618 of 1208"
       ]
      },
      {
       "output_type": "stream",
       "stream": "stdout",
       "text": [
        "\r",
        "Loaded image 619 of 1208"
       ]
      },
      {
       "output_type": "stream",
       "stream": "stdout",
       "text": [
        "\r",
        "Loaded image 620 of 1208"
       ]
      },
      {
       "output_type": "stream",
       "stream": "stdout",
       "text": [
        "\r",
        "Loaded image 621 of 1208"
       ]
      },
      {
       "output_type": "stream",
       "stream": "stdout",
       "text": [
        "\r",
        "Loaded image 622 of 1208"
       ]
      },
      {
       "output_type": "stream",
       "stream": "stdout",
       "text": [
        "\r",
        "Loaded image 623 of 1208"
       ]
      },
      {
       "output_type": "stream",
       "stream": "stdout",
       "text": [
        "\r",
        "Loaded image 624 of 1208"
       ]
      },
      {
       "output_type": "stream",
       "stream": "stdout",
       "text": [
        "\r",
        "Loaded image 625 of 1208"
       ]
      },
      {
       "output_type": "stream",
       "stream": "stdout",
       "text": [
        "\r",
        "Loaded image 626 of 1208"
       ]
      },
      {
       "output_type": "stream",
       "stream": "stdout",
       "text": [
        "\r",
        "Loaded image 627 of 1208"
       ]
      },
      {
       "output_type": "stream",
       "stream": "stdout",
       "text": [
        "\r",
        "Loaded image 628 of 1208"
       ]
      },
      {
       "output_type": "stream",
       "stream": "stdout",
       "text": [
        "\r",
        "Loaded image 629 of 1208"
       ]
      },
      {
       "output_type": "stream",
       "stream": "stdout",
       "text": [
        "\r",
        "Loaded image 630 of 1208"
       ]
      },
      {
       "output_type": "stream",
       "stream": "stdout",
       "text": [
        "\r",
        "Loaded image 631 of 1208"
       ]
      },
      {
       "output_type": "stream",
       "stream": "stdout",
       "text": [
        "\r",
        "Loaded image 632 of 1208"
       ]
      },
      {
       "output_type": "stream",
       "stream": "stdout",
       "text": [
        "\r",
        "Loaded image 633 of 1208"
       ]
      },
      {
       "output_type": "stream",
       "stream": "stdout",
       "text": [
        "\r",
        "Loaded image 634 of 1208"
       ]
      },
      {
       "output_type": "stream",
       "stream": "stdout",
       "text": [
        "\r",
        "Loaded image 635 of 1208"
       ]
      },
      {
       "output_type": "stream",
       "stream": "stdout",
       "text": [
        "\r",
        "Loaded image 636 of 1208"
       ]
      },
      {
       "output_type": "stream",
       "stream": "stdout",
       "text": [
        "\r",
        "Loaded image 637 of 1208"
       ]
      },
      {
       "output_type": "stream",
       "stream": "stdout",
       "text": [
        "\r",
        "Loaded image 638 of 1208"
       ]
      },
      {
       "output_type": "stream",
       "stream": "stdout",
       "text": [
        "\r",
        "Loaded image 639 of 1208"
       ]
      },
      {
       "output_type": "stream",
       "stream": "stdout",
       "text": [
        "\r",
        "Loaded image 640 of 1208"
       ]
      },
      {
       "output_type": "stream",
       "stream": "stdout",
       "text": [
        "\r",
        "Loaded image 641 of 1208"
       ]
      },
      {
       "output_type": "stream",
       "stream": "stdout",
       "text": [
        "\r",
        "Loaded image 642 of 1208"
       ]
      },
      {
       "output_type": "stream",
       "stream": "stdout",
       "text": [
        "\r",
        "Loaded image 643 of 1208"
       ]
      },
      {
       "output_type": "stream",
       "stream": "stdout",
       "text": [
        "\r",
        "Loaded image 644 of 1208"
       ]
      },
      {
       "output_type": "stream",
       "stream": "stdout",
       "text": [
        "\r",
        "Loaded image 645 of 1208"
       ]
      },
      {
       "output_type": "stream",
       "stream": "stdout",
       "text": [
        "\r",
        "Loaded image 646 of 1208"
       ]
      },
      {
       "output_type": "stream",
       "stream": "stdout",
       "text": [
        "\r",
        "Loaded image 647 of 1208"
       ]
      },
      {
       "output_type": "stream",
       "stream": "stdout",
       "text": [
        "\r",
        "Loaded image 648 of 1208"
       ]
      },
      {
       "output_type": "stream",
       "stream": "stdout",
       "text": [
        "\r",
        "Loaded image 649 of 1208"
       ]
      },
      {
       "output_type": "stream",
       "stream": "stdout",
       "text": [
        "\r",
        "Loaded image 650 of 1208"
       ]
      },
      {
       "output_type": "stream",
       "stream": "stdout",
       "text": [
        "\r",
        "Loaded image 651 of 1208"
       ]
      },
      {
       "output_type": "stream",
       "stream": "stdout",
       "text": [
        "\r",
        "Loaded image 652 of 1208"
       ]
      },
      {
       "output_type": "stream",
       "stream": "stdout",
       "text": [
        "\r",
        "Loaded image 653 of 1208"
       ]
      },
      {
       "output_type": "stream",
       "stream": "stdout",
       "text": [
        "\r",
        "Loaded image 654 of 1208"
       ]
      },
      {
       "output_type": "stream",
       "stream": "stdout",
       "text": [
        "\r",
        "Loaded image 655 of 1208"
       ]
      },
      {
       "output_type": "stream",
       "stream": "stdout",
       "text": [
        "\r",
        "Loaded image 656 of 1208"
       ]
      },
      {
       "output_type": "stream",
       "stream": "stdout",
       "text": [
        "\r",
        "Loaded image 657 of 1208"
       ]
      },
      {
       "output_type": "stream",
       "stream": "stdout",
       "text": [
        "\r",
        "Loaded image 658 of 1208"
       ]
      },
      {
       "output_type": "stream",
       "stream": "stdout",
       "text": [
        "\r",
        "Loaded image 659 of 1208"
       ]
      },
      {
       "output_type": "stream",
       "stream": "stdout",
       "text": [
        "\r",
        "Loaded image 660 of 1208"
       ]
      },
      {
       "output_type": "stream",
       "stream": "stdout",
       "text": [
        "\r",
        "Loaded image 661 of 1208"
       ]
      },
      {
       "output_type": "stream",
       "stream": "stdout",
       "text": [
        "\r",
        "Loaded image 662 of 1208"
       ]
      },
      {
       "output_type": "stream",
       "stream": "stdout",
       "text": [
        "\r",
        "Loaded image 663 of 1208"
       ]
      },
      {
       "output_type": "stream",
       "stream": "stdout",
       "text": [
        "\r",
        "Loaded image 664 of 1208"
       ]
      },
      {
       "output_type": "stream",
       "stream": "stdout",
       "text": [
        "\r",
        "Loaded image 665 of 1208"
       ]
      },
      {
       "output_type": "stream",
       "stream": "stdout",
       "text": [
        "\r",
        "Loaded image 666 of 1208"
       ]
      },
      {
       "output_type": "stream",
       "stream": "stdout",
       "text": [
        "\r",
        "Loaded image 667 of 1208"
       ]
      },
      {
       "output_type": "stream",
       "stream": "stdout",
       "text": [
        "\r",
        "Loaded image 668 of 1208"
       ]
      },
      {
       "output_type": "stream",
       "stream": "stdout",
       "text": [
        "\r",
        "Loaded image 669 of 1208"
       ]
      },
      {
       "output_type": "stream",
       "stream": "stdout",
       "text": [
        "\r",
        "Loaded image 670 of 1208"
       ]
      },
      {
       "output_type": "stream",
       "stream": "stdout",
       "text": [
        "\r",
        "Loaded image 671 of 1208"
       ]
      },
      {
       "output_type": "stream",
       "stream": "stdout",
       "text": [
        "\r",
        "Loaded image 672 of 1208"
       ]
      },
      {
       "output_type": "stream",
       "stream": "stdout",
       "text": [
        "\r",
        "Loaded image 673 of 1208"
       ]
      },
      {
       "output_type": "stream",
       "stream": "stdout",
       "text": [
        "\r",
        "Loaded image 674 of 1208"
       ]
      },
      {
       "output_type": "stream",
       "stream": "stdout",
       "text": [
        "\r",
        "Loaded image 675 of 1208"
       ]
      },
      {
       "output_type": "stream",
       "stream": "stdout",
       "text": [
        "\r",
        "Loaded image 676 of 1208"
       ]
      },
      {
       "output_type": "stream",
       "stream": "stdout",
       "text": [
        "\r",
        "Loaded image 677 of 1208"
       ]
      },
      {
       "output_type": "stream",
       "stream": "stdout",
       "text": [
        "\r",
        "Loaded image 678 of 1208"
       ]
      },
      {
       "output_type": "stream",
       "stream": "stdout",
       "text": [
        "\r",
        "Loaded image 679 of 1208"
       ]
      },
      {
       "output_type": "stream",
       "stream": "stdout",
       "text": [
        "\r",
        "Loaded image 680 of 1208"
       ]
      },
      {
       "output_type": "stream",
       "stream": "stdout",
       "text": [
        "\r",
        "Loaded image 681 of 1208"
       ]
      },
      {
       "output_type": "stream",
       "stream": "stdout",
       "text": [
        "\r",
        "Loaded image 682 of 1208"
       ]
      },
      {
       "output_type": "stream",
       "stream": "stdout",
       "text": [
        "\r",
        "Loaded image 683 of 1208"
       ]
      },
      {
       "output_type": "stream",
       "stream": "stdout",
       "text": [
        "\r",
        "Loaded image 684 of 1208"
       ]
      },
      {
       "output_type": "stream",
       "stream": "stdout",
       "text": [
        "\r",
        "Loaded image 685 of 1208"
       ]
      },
      {
       "output_type": "stream",
       "stream": "stdout",
       "text": [
        "\r",
        "Loaded image 686 of 1208"
       ]
      },
      {
       "output_type": "stream",
       "stream": "stdout",
       "text": [
        "\r",
        "Loaded image 687 of 1208"
       ]
      },
      {
       "output_type": "stream",
       "stream": "stdout",
       "text": [
        "\r",
        "Loaded image 688 of 1208"
       ]
      },
      {
       "output_type": "stream",
       "stream": "stdout",
       "text": [
        "\r",
        "Loaded image 689 of 1208"
       ]
      },
      {
       "output_type": "stream",
       "stream": "stdout",
       "text": [
        "\r",
        "Loaded image 690 of 1208"
       ]
      },
      {
       "output_type": "stream",
       "stream": "stdout",
       "text": [
        "\r",
        "Loaded image 691 of 1208"
       ]
      },
      {
       "output_type": "stream",
       "stream": "stdout",
       "text": [
        "\r",
        "Loaded image 692 of 1208"
       ]
      },
      {
       "output_type": "stream",
       "stream": "stdout",
       "text": [
        "\r",
        "Loaded image 693 of 1208"
       ]
      },
      {
       "output_type": "stream",
       "stream": "stdout",
       "text": [
        "\r",
        "Loaded image 694 of 1208"
       ]
      },
      {
       "output_type": "stream",
       "stream": "stdout",
       "text": [
        "\r",
        "Loaded image 695 of 1208"
       ]
      },
      {
       "output_type": "stream",
       "stream": "stdout",
       "text": [
        "\r",
        "Loaded image 696 of 1208"
       ]
      },
      {
       "output_type": "stream",
       "stream": "stdout",
       "text": [
        "\r",
        "Loaded image 697 of 1208"
       ]
      },
      {
       "output_type": "stream",
       "stream": "stdout",
       "text": [
        "\r",
        "Loaded image 698 of 1208"
       ]
      },
      {
       "output_type": "stream",
       "stream": "stdout",
       "text": [
        "\r",
        "Loaded image 699 of 1208"
       ]
      },
      {
       "output_type": "stream",
       "stream": "stdout",
       "text": [
        "\r",
        "Loaded image 700 of 1208"
       ]
      },
      {
       "output_type": "stream",
       "stream": "stdout",
       "text": [
        "\r",
        "Loaded image 701 of 1208"
       ]
      },
      {
       "output_type": "stream",
       "stream": "stdout",
       "text": [
        "\r",
        "Loaded image 702 of 1208"
       ]
      },
      {
       "output_type": "stream",
       "stream": "stdout",
       "text": [
        "\r",
        "Loaded image 703 of 1208"
       ]
      },
      {
       "output_type": "stream",
       "stream": "stdout",
       "text": [
        "\r",
        "Loaded image 704 of 1208"
       ]
      },
      {
       "output_type": "stream",
       "stream": "stdout",
       "text": [
        "\r",
        "Loaded image 705 of 1208"
       ]
      },
      {
       "output_type": "stream",
       "stream": "stdout",
       "text": [
        "\r",
        "Loaded image 706 of 1208"
       ]
      },
      {
       "output_type": "stream",
       "stream": "stdout",
       "text": [
        "\r",
        "Loaded image 707 of 1208"
       ]
      },
      {
       "output_type": "stream",
       "stream": "stdout",
       "text": [
        "\r",
        "Loaded image 708 of 1208"
       ]
      },
      {
       "output_type": "stream",
       "stream": "stdout",
       "text": [
        "\r",
        "Loaded image 709 of 1208"
       ]
      },
      {
       "output_type": "stream",
       "stream": "stdout",
       "text": [
        "\r",
        "Loaded image 710 of 1208"
       ]
      },
      {
       "output_type": "stream",
       "stream": "stdout",
       "text": [
        "\r",
        "Loaded image 711 of 1208"
       ]
      },
      {
       "output_type": "stream",
       "stream": "stdout",
       "text": [
        "\r",
        "Loaded image 712 of 1208"
       ]
      },
      {
       "output_type": "stream",
       "stream": "stdout",
       "text": [
        "\r",
        "Loaded image 713 of 1208"
       ]
      },
      {
       "output_type": "stream",
       "stream": "stdout",
       "text": [
        "\r",
        "Loaded image 714 of 1208"
       ]
      },
      {
       "output_type": "stream",
       "stream": "stdout",
       "text": [
        "\r",
        "Loaded image 715 of 1208"
       ]
      },
      {
       "output_type": "stream",
       "stream": "stdout",
       "text": [
        "\r",
        "Loaded image 716 of 1208"
       ]
      },
      {
       "output_type": "stream",
       "stream": "stdout",
       "text": [
        "\r",
        "Loaded image 717 of 1208"
       ]
      },
      {
       "output_type": "stream",
       "stream": "stdout",
       "text": [
        "\r",
        "Loaded image 718 of 1208"
       ]
      },
      {
       "output_type": "stream",
       "stream": "stdout",
       "text": [
        "\r",
        "Loaded image 719 of 1208"
       ]
      },
      {
       "output_type": "stream",
       "stream": "stdout",
       "text": [
        "\r",
        "Loaded image 720 of 1208"
       ]
      },
      {
       "output_type": "stream",
       "stream": "stdout",
       "text": [
        "\r",
        "Loaded image 721 of 1208"
       ]
      },
      {
       "output_type": "stream",
       "stream": "stdout",
       "text": [
        "\r",
        "Loaded image 722 of 1208"
       ]
      },
      {
       "output_type": "stream",
       "stream": "stdout",
       "text": [
        "\r",
        "Loaded image 723 of 1208"
       ]
      },
      {
       "output_type": "stream",
       "stream": "stdout",
       "text": [
        "\r",
        "Loaded image 724 of 1208"
       ]
      },
      {
       "output_type": "stream",
       "stream": "stdout",
       "text": [
        "\r",
        "Loaded image 725 of 1208"
       ]
      },
      {
       "output_type": "stream",
       "stream": "stdout",
       "text": [
        "\r",
        "Loaded image 726 of 1208"
       ]
      },
      {
       "output_type": "stream",
       "stream": "stdout",
       "text": [
        "\r",
        "Loaded image 727 of 1208"
       ]
      },
      {
       "output_type": "stream",
       "stream": "stdout",
       "text": [
        "\r",
        "Loaded image 728 of 1208"
       ]
      },
      {
       "output_type": "stream",
       "stream": "stdout",
       "text": [
        "\r",
        "Loaded image 729 of 1208"
       ]
      },
      {
       "output_type": "stream",
       "stream": "stdout",
       "text": [
        "\r",
        "Loaded image 730 of 1208"
       ]
      },
      {
       "output_type": "stream",
       "stream": "stdout",
       "text": [
        "\r",
        "Loaded image 731 of 1208"
       ]
      },
      {
       "output_type": "stream",
       "stream": "stdout",
       "text": [
        "\r",
        "Loaded image 732 of 1208"
       ]
      },
      {
       "output_type": "stream",
       "stream": "stdout",
       "text": [
        "\r",
        "Loaded image 733 of 1208"
       ]
      },
      {
       "output_type": "stream",
       "stream": "stdout",
       "text": [
        "\r",
        "Loaded image 734 of 1208"
       ]
      },
      {
       "output_type": "stream",
       "stream": "stdout",
       "text": [
        "\r",
        "Loaded image 735 of 1208"
       ]
      },
      {
       "output_type": "stream",
       "stream": "stdout",
       "text": [
        "\r",
        "Loaded image 736 of 1208"
       ]
      },
      {
       "output_type": "stream",
       "stream": "stdout",
       "text": [
        "\r",
        "Loaded image 737 of 1208"
       ]
      },
      {
       "output_type": "stream",
       "stream": "stdout",
       "text": [
        "\r",
        "Loaded image 738 of 1208"
       ]
      },
      {
       "output_type": "stream",
       "stream": "stdout",
       "text": [
        "\r",
        "Loaded image 739 of 1208"
       ]
      },
      {
       "output_type": "stream",
       "stream": "stdout",
       "text": [
        "\r",
        "Loaded image 740 of 1208"
       ]
      },
      {
       "output_type": "stream",
       "stream": "stdout",
       "text": [
        "\r",
        "Loaded image 741 of 1208"
       ]
      },
      {
       "output_type": "stream",
       "stream": "stdout",
       "text": [
        "\r",
        "Loaded image 742 of 1208"
       ]
      },
      {
       "output_type": "stream",
       "stream": "stdout",
       "text": [
        "\r",
        "Loaded image 743 of 1208"
       ]
      },
      {
       "output_type": "stream",
       "stream": "stdout",
       "text": [
        "\r",
        "Loaded image 744 of 1208"
       ]
      },
      {
       "output_type": "stream",
       "stream": "stdout",
       "text": [
        "\r",
        "Loaded image 745 of 1208"
       ]
      },
      {
       "output_type": "stream",
       "stream": "stdout",
       "text": [
        "\r",
        "Loaded image 746 of 1208"
       ]
      },
      {
       "output_type": "stream",
       "stream": "stdout",
       "text": [
        "\r",
        "Loaded image 747 of 1208"
       ]
      },
      {
       "output_type": "stream",
       "stream": "stdout",
       "text": [
        "\r",
        "Loaded image 748 of 1208"
       ]
      },
      {
       "output_type": "stream",
       "stream": "stdout",
       "text": [
        "\r",
        "Loaded image 749 of 1208"
       ]
      },
      {
       "output_type": "stream",
       "stream": "stdout",
       "text": [
        "\r",
        "Loaded image 750 of 1208"
       ]
      },
      {
       "output_type": "stream",
       "stream": "stdout",
       "text": [
        "\r",
        "Loaded image 751 of 1208"
       ]
      },
      {
       "output_type": "stream",
       "stream": "stdout",
       "text": [
        "\r",
        "Loaded image 752 of 1208"
       ]
      },
      {
       "output_type": "stream",
       "stream": "stdout",
       "text": [
        "\r",
        "Loaded image 753 of 1208"
       ]
      },
      {
       "output_type": "stream",
       "stream": "stdout",
       "text": [
        "\r",
        "Loaded image 754 of 1208"
       ]
      },
      {
       "output_type": "stream",
       "stream": "stdout",
       "text": [
        "\r",
        "Loaded image 755 of 1208"
       ]
      },
      {
       "output_type": "stream",
       "stream": "stdout",
       "text": [
        "\r",
        "Loaded image 756 of 1208"
       ]
      },
      {
       "output_type": "stream",
       "stream": "stdout",
       "text": [
        "\r",
        "Loaded image 757 of 1208"
       ]
      },
      {
       "output_type": "stream",
       "stream": "stdout",
       "text": [
        "\r",
        "Loaded image 758 of 1208"
       ]
      },
      {
       "output_type": "stream",
       "stream": "stdout",
       "text": [
        "\r",
        "Loaded image 759 of 1208"
       ]
      },
      {
       "output_type": "stream",
       "stream": "stdout",
       "text": [
        "\r",
        "Loaded image 760 of 1208"
       ]
      },
      {
       "output_type": "stream",
       "stream": "stdout",
       "text": [
        "\r",
        "Loaded image 761 of 1208"
       ]
      },
      {
       "output_type": "stream",
       "stream": "stdout",
       "text": [
        "\r",
        "Loaded image 762 of 1208"
       ]
      },
      {
       "output_type": "stream",
       "stream": "stdout",
       "text": [
        "\r",
        "Loaded image 763 of 1208"
       ]
      },
      {
       "output_type": "stream",
       "stream": "stdout",
       "text": [
        "\r",
        "Loaded image 764 of 1208"
       ]
      },
      {
       "output_type": "stream",
       "stream": "stdout",
       "text": [
        "\r",
        "Loaded image 765 of 1208"
       ]
      },
      {
       "output_type": "stream",
       "stream": "stdout",
       "text": [
        "\r",
        "Loaded image 766 of 1208"
       ]
      },
      {
       "output_type": "stream",
       "stream": "stdout",
       "text": [
        "\r",
        "Loaded image 767 of 1208"
       ]
      },
      {
       "output_type": "stream",
       "stream": "stdout",
       "text": [
        "\r",
        "Loaded image 768 of 1208"
       ]
      },
      {
       "output_type": "stream",
       "stream": "stdout",
       "text": [
        "\r",
        "Loaded image 769 of 1208"
       ]
      },
      {
       "output_type": "stream",
       "stream": "stdout",
       "text": [
        "\r",
        "Loaded image 770 of 1208"
       ]
      },
      {
       "output_type": "stream",
       "stream": "stdout",
       "text": [
        "\r",
        "Loaded image 771 of 1208"
       ]
      },
      {
       "output_type": "stream",
       "stream": "stdout",
       "text": [
        "\r",
        "Loaded image 772 of 1208"
       ]
      },
      {
       "output_type": "stream",
       "stream": "stdout",
       "text": [
        "\r",
        "Loaded image 773 of 1208"
       ]
      },
      {
       "output_type": "stream",
       "stream": "stdout",
       "text": [
        "\r",
        "Loaded image 774 of 1208"
       ]
      },
      {
       "output_type": "stream",
       "stream": "stdout",
       "text": [
        "\r",
        "Loaded image 775 of 1208"
       ]
      },
      {
       "output_type": "stream",
       "stream": "stdout",
       "text": [
        "\r",
        "Loaded image 776 of 1208"
       ]
      },
      {
       "output_type": "stream",
       "stream": "stdout",
       "text": [
        "\r",
        "Loaded image 777 of 1208"
       ]
      },
      {
       "output_type": "stream",
       "stream": "stdout",
       "text": [
        "\r",
        "Loaded image 778 of 1208"
       ]
      },
      {
       "output_type": "stream",
       "stream": "stdout",
       "text": [
        "\r",
        "Loaded image 779 of 1208"
       ]
      },
      {
       "output_type": "stream",
       "stream": "stdout",
       "text": [
        "\r",
        "Loaded image 780 of 1208"
       ]
      },
      {
       "output_type": "stream",
       "stream": "stdout",
       "text": [
        "\r",
        "Loaded image 781 of 1208"
       ]
      },
      {
       "output_type": "stream",
       "stream": "stdout",
       "text": [
        "\r",
        "Loaded image 782 of 1208"
       ]
      },
      {
       "output_type": "stream",
       "stream": "stdout",
       "text": [
        "\r",
        "Loaded image 783 of 1208"
       ]
      },
      {
       "output_type": "stream",
       "stream": "stdout",
       "text": [
        "\r",
        "Loaded image 784 of 1208"
       ]
      },
      {
       "output_type": "stream",
       "stream": "stdout",
       "text": [
        "\r",
        "Loaded image 785 of 1208"
       ]
      },
      {
       "output_type": "stream",
       "stream": "stdout",
       "text": [
        "\r",
        "Loaded image 786 of 1208"
       ]
      },
      {
       "output_type": "stream",
       "stream": "stdout",
       "text": [
        "\r",
        "Loaded image 787 of 1208"
       ]
      },
      {
       "output_type": "stream",
       "stream": "stdout",
       "text": [
        "\r",
        "Loaded image 788 of 1208"
       ]
      },
      {
       "output_type": "stream",
       "stream": "stdout",
       "text": [
        "\r",
        "Loaded image 789 of 1208"
       ]
      },
      {
       "output_type": "stream",
       "stream": "stdout",
       "text": [
        "\r",
        "Loaded image 790 of 1208"
       ]
      },
      {
       "output_type": "stream",
       "stream": "stdout",
       "text": [
        "\r",
        "Loaded image 791 of 1208"
       ]
      },
      {
       "output_type": "stream",
       "stream": "stdout",
       "text": [
        "\r",
        "Loaded image 792 of 1208"
       ]
      },
      {
       "output_type": "stream",
       "stream": "stdout",
       "text": [
        "\r",
        "Loaded image 793 of 1208"
       ]
      },
      {
       "output_type": "stream",
       "stream": "stdout",
       "text": [
        "\r",
        "Loaded image 794 of 1208"
       ]
      },
      {
       "output_type": "stream",
       "stream": "stdout",
       "text": [
        "\r",
        "Loaded image 795 of 1208"
       ]
      },
      {
       "output_type": "stream",
       "stream": "stdout",
       "text": [
        "\r",
        "Loaded image 796 of 1208"
       ]
      },
      {
       "output_type": "stream",
       "stream": "stdout",
       "text": [
        "\r",
        "Loaded image 797 of 1208"
       ]
      },
      {
       "output_type": "stream",
       "stream": "stdout",
       "text": [
        "\r",
        "Loaded image 798 of 1208"
       ]
      },
      {
       "output_type": "stream",
       "stream": "stdout",
       "text": [
        "\r",
        "Loaded image 799 of 1208"
       ]
      },
      {
       "output_type": "stream",
       "stream": "stdout",
       "text": [
        "\r",
        "Loaded image 800 of 1208"
       ]
      },
      {
       "output_type": "stream",
       "stream": "stdout",
       "text": [
        "\r",
        "Loaded image 801 of 1208"
       ]
      },
      {
       "output_type": "stream",
       "stream": "stdout",
       "text": [
        "\r",
        "Loaded image 802 of 1208"
       ]
      },
      {
       "output_type": "stream",
       "stream": "stdout",
       "text": [
        "\r",
        "Loaded image 803 of 1208"
       ]
      },
      {
       "output_type": "stream",
       "stream": "stdout",
       "text": [
        "\r",
        "Loaded image 804 of 1208"
       ]
      },
      {
       "output_type": "stream",
       "stream": "stdout",
       "text": [
        "\r",
        "Loaded image 805 of 1208"
       ]
      },
      {
       "output_type": "stream",
       "stream": "stdout",
       "text": [
        "\r",
        "Loaded image 806 of 1208"
       ]
      },
      {
       "output_type": "stream",
       "stream": "stdout",
       "text": [
        "\r",
        "Loaded image 807 of 1208"
       ]
      },
      {
       "output_type": "stream",
       "stream": "stdout",
       "text": [
        "\r",
        "Loaded image 808 of 1208"
       ]
      },
      {
       "output_type": "stream",
       "stream": "stdout",
       "text": [
        "\r",
        "Loaded image 809 of 1208"
       ]
      },
      {
       "output_type": "stream",
       "stream": "stdout",
       "text": [
        "\r",
        "Loaded image 810 of 1208"
       ]
      },
      {
       "output_type": "stream",
       "stream": "stdout",
       "text": [
        "\r",
        "Loaded image 811 of 1208"
       ]
      },
      {
       "output_type": "stream",
       "stream": "stdout",
       "text": [
        "\r",
        "Loaded image 812 of 1208"
       ]
      },
      {
       "output_type": "stream",
       "stream": "stdout",
       "text": [
        "\r",
        "Loaded image 813 of 1208"
       ]
      },
      {
       "output_type": "stream",
       "stream": "stdout",
       "text": [
        "\r",
        "Loaded image 814 of 1208"
       ]
      },
      {
       "output_type": "stream",
       "stream": "stdout",
       "text": [
        "\r",
        "Loaded image 815 of 1208"
       ]
      },
      {
       "output_type": "stream",
       "stream": "stdout",
       "text": [
        "\r",
        "Loaded image 816 of 1208"
       ]
      },
      {
       "output_type": "stream",
       "stream": "stdout",
       "text": [
        "\r",
        "Loaded image 817 of 1208"
       ]
      },
      {
       "output_type": "stream",
       "stream": "stdout",
       "text": [
        "\r",
        "Loaded image 818 of 1208"
       ]
      },
      {
       "output_type": "stream",
       "stream": "stdout",
       "text": [
        "\r",
        "Loaded image 819 of 1208"
       ]
      },
      {
       "output_type": "stream",
       "stream": "stdout",
       "text": [
        "\r",
        "Loaded image 820 of 1208"
       ]
      },
      {
       "output_type": "stream",
       "stream": "stdout",
       "text": [
        "\r",
        "Loaded image 821 of 1208"
       ]
      },
      {
       "output_type": "stream",
       "stream": "stdout",
       "text": [
        "\r",
        "Loaded image 822 of 1208"
       ]
      },
      {
       "output_type": "stream",
       "stream": "stdout",
       "text": [
        "\r",
        "Loaded image 823 of 1208"
       ]
      },
      {
       "output_type": "stream",
       "stream": "stdout",
       "text": [
        "\r",
        "Loaded image 824 of 1208"
       ]
      },
      {
       "output_type": "stream",
       "stream": "stdout",
       "text": [
        "\r",
        "Loaded image 825 of 1208"
       ]
      },
      {
       "output_type": "stream",
       "stream": "stdout",
       "text": [
        "\r",
        "Loaded image 826 of 1208"
       ]
      },
      {
       "output_type": "stream",
       "stream": "stdout",
       "text": [
        "\r",
        "Loaded image 827 of 1208"
       ]
      },
      {
       "output_type": "stream",
       "stream": "stdout",
       "text": [
        "\r",
        "Loaded image 828 of 1208"
       ]
      },
      {
       "output_type": "stream",
       "stream": "stdout",
       "text": [
        "\r",
        "Loaded image 829 of 1208"
       ]
      },
      {
       "output_type": "stream",
       "stream": "stdout",
       "text": [
        "\r",
        "Loaded image 830 of 1208"
       ]
      },
      {
       "output_type": "stream",
       "stream": "stdout",
       "text": [
        "\r",
        "Loaded image 831 of 1208"
       ]
      },
      {
       "output_type": "stream",
       "stream": "stdout",
       "text": [
        "\r",
        "Loaded image 832 of 1208"
       ]
      },
      {
       "output_type": "stream",
       "stream": "stdout",
       "text": [
        "\r",
        "Loaded image 833 of 1208"
       ]
      },
      {
       "output_type": "stream",
       "stream": "stdout",
       "text": [
        "\r",
        "Loaded image 834 of 1208"
       ]
      },
      {
       "output_type": "stream",
       "stream": "stdout",
       "text": [
        "\r",
        "Loaded image 835 of 1208"
       ]
      },
      {
       "output_type": "stream",
       "stream": "stdout",
       "text": [
        "\r",
        "Loaded image 836 of 1208"
       ]
      },
      {
       "output_type": "stream",
       "stream": "stdout",
       "text": [
        "\r",
        "Loaded image 837 of 1208"
       ]
      },
      {
       "output_type": "stream",
       "stream": "stdout",
       "text": [
        "\r",
        "Loaded image 838 of 1208"
       ]
      },
      {
       "output_type": "stream",
       "stream": "stdout",
       "text": [
        "\r",
        "Loaded image 839 of 1208"
       ]
      },
      {
       "output_type": "stream",
       "stream": "stdout",
       "text": [
        "\r",
        "Loaded image 840 of 1208"
       ]
      },
      {
       "output_type": "stream",
       "stream": "stdout",
       "text": [
        "\r",
        "Loaded image 841 of 1208"
       ]
      },
      {
       "output_type": "stream",
       "stream": "stdout",
       "text": [
        "\r",
        "Loaded image 842 of 1208"
       ]
      },
      {
       "output_type": "stream",
       "stream": "stdout",
       "text": [
        "\r",
        "Loaded image 843 of 1208"
       ]
      },
      {
       "output_type": "stream",
       "stream": "stdout",
       "text": [
        "\r",
        "Loaded image 844 of 1208"
       ]
      },
      {
       "output_type": "stream",
       "stream": "stdout",
       "text": [
        "\r",
        "Loaded image 845 of 1208"
       ]
      },
      {
       "output_type": "stream",
       "stream": "stdout",
       "text": [
        "\r",
        "Loaded image 846 of 1208"
       ]
      },
      {
       "output_type": "stream",
       "stream": "stdout",
       "text": [
        "\r",
        "Loaded image 847 of 1208"
       ]
      },
      {
       "output_type": "stream",
       "stream": "stdout",
       "text": [
        "\r",
        "Loaded image 848 of 1208"
       ]
      },
      {
       "output_type": "stream",
       "stream": "stdout",
       "text": [
        "\r",
        "Loaded image 849 of 1208"
       ]
      },
      {
       "output_type": "stream",
       "stream": "stdout",
       "text": [
        "\r",
        "Loaded image 850 of 1208"
       ]
      },
      {
       "output_type": "stream",
       "stream": "stdout",
       "text": [
        "\r",
        "Loaded image 851 of 1208"
       ]
      },
      {
       "output_type": "stream",
       "stream": "stdout",
       "text": [
        "\r",
        "Loaded image 852 of 1208"
       ]
      },
      {
       "output_type": "stream",
       "stream": "stdout",
       "text": [
        "\r",
        "Loaded image 853 of 1208"
       ]
      },
      {
       "output_type": "stream",
       "stream": "stdout",
       "text": [
        "\r",
        "Loaded image 854 of 1208"
       ]
      },
      {
       "output_type": "stream",
       "stream": "stdout",
       "text": [
        "\r",
        "Loaded image 855 of 1208"
       ]
      },
      {
       "output_type": "stream",
       "stream": "stdout",
       "text": [
        "\r",
        "Loaded image 856 of 1208"
       ]
      },
      {
       "output_type": "stream",
       "stream": "stdout",
       "text": [
        "\r",
        "Loaded image 857 of 1208"
       ]
      },
      {
       "output_type": "stream",
       "stream": "stdout",
       "text": [
        "\r",
        "Loaded image 858 of 1208"
       ]
      },
      {
       "output_type": "stream",
       "stream": "stdout",
       "text": [
        "\r",
        "Loaded image 859 of 1208"
       ]
      },
      {
       "output_type": "stream",
       "stream": "stdout",
       "text": [
        "\r",
        "Loaded image 860 of 1208"
       ]
      },
      {
       "output_type": "stream",
       "stream": "stdout",
       "text": [
        "\r",
        "Loaded image 861 of 1208"
       ]
      },
      {
       "output_type": "stream",
       "stream": "stdout",
       "text": [
        "\r",
        "Loaded image 862 of 1208"
       ]
      },
      {
       "output_type": "stream",
       "stream": "stdout",
       "text": [
        "\r",
        "Loaded image 863 of 1208"
       ]
      },
      {
       "output_type": "stream",
       "stream": "stdout",
       "text": [
        "\r",
        "Loaded image 864 of 1208"
       ]
      },
      {
       "output_type": "stream",
       "stream": "stdout",
       "text": [
        "\r",
        "Loaded image 865 of 1208"
       ]
      },
      {
       "output_type": "stream",
       "stream": "stdout",
       "text": [
        "\r",
        "Loaded image 866 of 1208"
       ]
      },
      {
       "output_type": "stream",
       "stream": "stdout",
       "text": [
        "\r",
        "Loaded image 867 of 1208"
       ]
      },
      {
       "output_type": "stream",
       "stream": "stdout",
       "text": [
        "\r",
        "Loaded image 868 of 1208"
       ]
      },
      {
       "output_type": "stream",
       "stream": "stdout",
       "text": [
        "\r",
        "Loaded image 869 of 1208"
       ]
      },
      {
       "output_type": "stream",
       "stream": "stdout",
       "text": [
        "\r",
        "Loaded image 870 of 1208"
       ]
      },
      {
       "output_type": "stream",
       "stream": "stdout",
       "text": [
        "\r",
        "Loaded image 871 of 1208"
       ]
      },
      {
       "output_type": "stream",
       "stream": "stdout",
       "text": [
        "\r",
        "Loaded image 872 of 1208"
       ]
      },
      {
       "output_type": "stream",
       "stream": "stdout",
       "text": [
        "\r",
        "Loaded image 873 of 1208"
       ]
      },
      {
       "output_type": "stream",
       "stream": "stdout",
       "text": [
        "\r",
        "Loaded image 874 of 1208"
       ]
      },
      {
       "output_type": "stream",
       "stream": "stdout",
       "text": [
        "\r",
        "Loaded image 875 of 1208"
       ]
      },
      {
       "output_type": "stream",
       "stream": "stdout",
       "text": [
        "\r",
        "Loaded image 876 of 1208"
       ]
      },
      {
       "output_type": "stream",
       "stream": "stdout",
       "text": [
        "\r",
        "Loaded image 877 of 1208"
       ]
      },
      {
       "output_type": "stream",
       "stream": "stdout",
       "text": [
        "\r",
        "Loaded image 878 of 1208"
       ]
      },
      {
       "output_type": "stream",
       "stream": "stdout",
       "text": [
        "\r",
        "Loaded image 879 of 1208"
       ]
      },
      {
       "output_type": "stream",
       "stream": "stdout",
       "text": [
        "\r",
        "Loaded image 880 of 1208"
       ]
      },
      {
       "output_type": "stream",
       "stream": "stdout",
       "text": [
        "\r",
        "Loaded image 881 of 1208"
       ]
      },
      {
       "output_type": "stream",
       "stream": "stdout",
       "text": [
        "\r",
        "Loaded image 882 of 1208"
       ]
      },
      {
       "output_type": "stream",
       "stream": "stdout",
       "text": [
        "\r",
        "Loaded image 883 of 1208"
       ]
      },
      {
       "output_type": "stream",
       "stream": "stdout",
       "text": [
        "\r",
        "Loaded image 884 of 1208"
       ]
      },
      {
       "output_type": "stream",
       "stream": "stdout",
       "text": [
        "\r",
        "Loaded image 885 of 1208"
       ]
      },
      {
       "output_type": "stream",
       "stream": "stdout",
       "text": [
        "\r",
        "Loaded image 886 of 1208"
       ]
      },
      {
       "output_type": "stream",
       "stream": "stdout",
       "text": [
        "\r",
        "Loaded image 887 of 1208"
       ]
      },
      {
       "output_type": "stream",
       "stream": "stdout",
       "text": [
        "\r",
        "Loaded image 888 of 1208"
       ]
      },
      {
       "output_type": "stream",
       "stream": "stdout",
       "text": [
        "\r",
        "Loaded image 889 of 1208"
       ]
      },
      {
       "output_type": "stream",
       "stream": "stdout",
       "text": [
        "\r",
        "Loaded image 890 of 1208"
       ]
      },
      {
       "output_type": "stream",
       "stream": "stdout",
       "text": [
        "\r",
        "Loaded image 891 of 1208"
       ]
      },
      {
       "output_type": "stream",
       "stream": "stdout",
       "text": [
        "\r",
        "Loaded image 892 of 1208"
       ]
      },
      {
       "output_type": "stream",
       "stream": "stdout",
       "text": [
        "\r",
        "Loaded image 893 of 1208"
       ]
      },
      {
       "output_type": "stream",
       "stream": "stdout",
       "text": [
        "\r",
        "Loaded image 894 of 1208"
       ]
      },
      {
       "output_type": "stream",
       "stream": "stdout",
       "text": [
        "\r",
        "Loaded image 895 of 1208"
       ]
      },
      {
       "output_type": "stream",
       "stream": "stdout",
       "text": [
        "\r",
        "Loaded image 896 of 1208"
       ]
      },
      {
       "output_type": "stream",
       "stream": "stdout",
       "text": [
        "\r",
        "Loaded image 897 of 1208"
       ]
      },
      {
       "output_type": "stream",
       "stream": "stdout",
       "text": [
        "\r",
        "Loaded image 898 of 1208"
       ]
      },
      {
       "output_type": "stream",
       "stream": "stdout",
       "text": [
        "\r",
        "Loaded image 899 of 1208"
       ]
      },
      {
       "output_type": "stream",
       "stream": "stdout",
       "text": [
        "\r",
        "Loaded image 900 of 1208"
       ]
      },
      {
       "output_type": "stream",
       "stream": "stdout",
       "text": [
        "\r",
        "Loaded image 901 of 1208"
       ]
      },
      {
       "output_type": "stream",
       "stream": "stdout",
       "text": [
        "\r",
        "Loaded image 902 of 1208"
       ]
      },
      {
       "output_type": "stream",
       "stream": "stdout",
       "text": [
        "\r",
        "Loaded image 903 of 1208"
       ]
      },
      {
       "output_type": "stream",
       "stream": "stdout",
       "text": [
        "\r",
        "Loaded image 904 of 1208"
       ]
      },
      {
       "output_type": "stream",
       "stream": "stdout",
       "text": [
        "\r",
        "Loaded image 905 of 1208"
       ]
      },
      {
       "output_type": "stream",
       "stream": "stdout",
       "text": [
        "\r",
        "Loaded image 906 of 1208"
       ]
      },
      {
       "output_type": "stream",
       "stream": "stdout",
       "text": [
        "\r",
        "Loaded image 907 of 1208"
       ]
      },
      {
       "output_type": "stream",
       "stream": "stdout",
       "text": [
        "\r",
        "Loaded image 908 of 1208"
       ]
      },
      {
       "output_type": "stream",
       "stream": "stdout",
       "text": [
        "\r",
        "Loaded image 909 of 1208"
       ]
      },
      {
       "output_type": "stream",
       "stream": "stdout",
       "text": [
        "\r",
        "Loaded image 910 of 1208"
       ]
      },
      {
       "output_type": "stream",
       "stream": "stdout",
       "text": [
        "\r",
        "Loaded image 911 of 1208"
       ]
      },
      {
       "output_type": "stream",
       "stream": "stdout",
       "text": [
        "\r",
        "Loaded image 912 of 1208"
       ]
      },
      {
       "output_type": "stream",
       "stream": "stdout",
       "text": [
        "\r",
        "Loaded image 913 of 1208"
       ]
      },
      {
       "output_type": "stream",
       "stream": "stdout",
       "text": [
        "\r",
        "Loaded image 914 of 1208"
       ]
      },
      {
       "output_type": "stream",
       "stream": "stdout",
       "text": [
        "\r",
        "Loaded image 915 of 1208"
       ]
      },
      {
       "output_type": "stream",
       "stream": "stdout",
       "text": [
        "\r",
        "Loaded image 916 of 1208"
       ]
      },
      {
       "output_type": "stream",
       "stream": "stdout",
       "text": [
        "\r",
        "Loaded image 917 of 1208"
       ]
      },
      {
       "output_type": "stream",
       "stream": "stdout",
       "text": [
        "\r",
        "Loaded image 918 of 1208"
       ]
      },
      {
       "output_type": "stream",
       "stream": "stdout",
       "text": [
        "\r",
        "Loaded image 919 of 1208"
       ]
      },
      {
       "output_type": "stream",
       "stream": "stdout",
       "text": [
        "\r",
        "Loaded image 920 of 1208"
       ]
      },
      {
       "output_type": "stream",
       "stream": "stdout",
       "text": [
        "\r",
        "Loaded image 921 of 1208"
       ]
      },
      {
       "output_type": "stream",
       "stream": "stdout",
       "text": [
        "\r",
        "Loaded image 922 of 1208"
       ]
      },
      {
       "output_type": "stream",
       "stream": "stdout",
       "text": [
        "\r",
        "Loaded image 923 of 1208"
       ]
      },
      {
       "output_type": "stream",
       "stream": "stdout",
       "text": [
        "\r",
        "Loaded image 924 of 1208"
       ]
      },
      {
       "output_type": "stream",
       "stream": "stdout",
       "text": [
        "\r",
        "Loaded image 925 of 1208"
       ]
      },
      {
       "output_type": "stream",
       "stream": "stdout",
       "text": [
        "\r",
        "Loaded image 926 of 1208"
       ]
      },
      {
       "output_type": "stream",
       "stream": "stdout",
       "text": [
        "\r",
        "Loaded image 927 of 1208"
       ]
      },
      {
       "output_type": "stream",
       "stream": "stdout",
       "text": [
        "\r",
        "Loaded image 928 of 1208"
       ]
      },
      {
       "output_type": "stream",
       "stream": "stdout",
       "text": [
        "\r",
        "Loaded image 929 of 1208"
       ]
      },
      {
       "output_type": "stream",
       "stream": "stdout",
       "text": [
        "\r",
        "Loaded image 930 of 1208"
       ]
      },
      {
       "output_type": "stream",
       "stream": "stdout",
       "text": [
        "\r",
        "Loaded image 931 of 1208"
       ]
      },
      {
       "output_type": "stream",
       "stream": "stdout",
       "text": [
        "\r",
        "Loaded image 932 of 1208"
       ]
      },
      {
       "output_type": "stream",
       "stream": "stdout",
       "text": [
        "\r",
        "Loaded image 933 of 1208"
       ]
      },
      {
       "output_type": "stream",
       "stream": "stdout",
       "text": [
        "\r",
        "Loaded image 934 of 1208"
       ]
      },
      {
       "output_type": "stream",
       "stream": "stdout",
       "text": [
        "\r",
        "Loaded image 935 of 1208"
       ]
      },
      {
       "output_type": "stream",
       "stream": "stdout",
       "text": [
        "\r",
        "Loaded image 936 of 1208"
       ]
      },
      {
       "output_type": "stream",
       "stream": "stdout",
       "text": [
        "\r",
        "Loaded image 937 of 1208"
       ]
      },
      {
       "output_type": "stream",
       "stream": "stdout",
       "text": [
        "\r",
        "Loaded image 938 of 1208"
       ]
      },
      {
       "output_type": "stream",
       "stream": "stdout",
       "text": [
        "\r",
        "Loaded image 939 of 1208"
       ]
      },
      {
       "output_type": "stream",
       "stream": "stdout",
       "text": [
        "\r",
        "Loaded image 940 of 1208"
       ]
      },
      {
       "output_type": "stream",
       "stream": "stdout",
       "text": [
        "\r",
        "Loaded image 941 of 1208"
       ]
      },
      {
       "output_type": "stream",
       "stream": "stdout",
       "text": [
        "\r",
        "Loaded image 942 of 1208"
       ]
      },
      {
       "output_type": "stream",
       "stream": "stdout",
       "text": [
        "\r",
        "Loaded image 943 of 1208"
       ]
      },
      {
       "output_type": "stream",
       "stream": "stdout",
       "text": [
        "\r",
        "Loaded image 944 of 1208"
       ]
      },
      {
       "output_type": "stream",
       "stream": "stdout",
       "text": [
        "\r",
        "Loaded image 945 of 1208"
       ]
      },
      {
       "output_type": "stream",
       "stream": "stdout",
       "text": [
        "\r",
        "Loaded image 946 of 1208"
       ]
      },
      {
       "output_type": "stream",
       "stream": "stdout",
       "text": [
        "\r",
        "Loaded image 947 of 1208"
       ]
      },
      {
       "output_type": "stream",
       "stream": "stdout",
       "text": [
        "\r",
        "Loaded image 948 of 1208"
       ]
      },
      {
       "output_type": "stream",
       "stream": "stdout",
       "text": [
        "\r",
        "Loaded image 949 of 1208"
       ]
      },
      {
       "output_type": "stream",
       "stream": "stdout",
       "text": [
        "\r",
        "Loaded image 950 of 1208"
       ]
      },
      {
       "output_type": "stream",
       "stream": "stdout",
       "text": [
        "\r",
        "Loaded image 951 of 1208"
       ]
      },
      {
       "output_type": "stream",
       "stream": "stdout",
       "text": [
        "\r",
        "Loaded image 952 of 1208"
       ]
      },
      {
       "output_type": "stream",
       "stream": "stdout",
       "text": [
        "\r",
        "Loaded image 953 of 1208"
       ]
      },
      {
       "output_type": "stream",
       "stream": "stdout",
       "text": [
        "\r",
        "Loaded image 954 of 1208"
       ]
      },
      {
       "output_type": "stream",
       "stream": "stdout",
       "text": [
        "\r",
        "Loaded image 955 of 1208"
       ]
      },
      {
       "output_type": "stream",
       "stream": "stdout",
       "text": [
        "\r",
        "Loaded image 956 of 1208"
       ]
      },
      {
       "output_type": "stream",
       "stream": "stdout",
       "text": [
        "\r",
        "Loaded image 957 of 1208"
       ]
      },
      {
       "output_type": "stream",
       "stream": "stdout",
       "text": [
        "\r",
        "Loaded image 958 of 1208"
       ]
      },
      {
       "output_type": "stream",
       "stream": "stdout",
       "text": [
        "\r",
        "Loaded image 959 of 1208"
       ]
      },
      {
       "output_type": "stream",
       "stream": "stdout",
       "text": [
        "\r",
        "Loaded image 960 of 1208"
       ]
      },
      {
       "output_type": "stream",
       "stream": "stdout",
       "text": [
        "\r",
        "Loaded image 961 of 1208"
       ]
      },
      {
       "output_type": "stream",
       "stream": "stdout",
       "text": [
        "\r",
        "Loaded image 962 of 1208"
       ]
      },
      {
       "output_type": "stream",
       "stream": "stdout",
       "text": [
        "\r",
        "Loaded image 963 of 1208"
       ]
      },
      {
       "output_type": "stream",
       "stream": "stdout",
       "text": [
        "\r",
        "Loaded image 964 of 1208"
       ]
      },
      {
       "output_type": "stream",
       "stream": "stdout",
       "text": [
        "\r",
        "Loaded image 965 of 1208"
       ]
      },
      {
       "output_type": "stream",
       "stream": "stdout",
       "text": [
        "\r",
        "Loaded image 966 of 1208"
       ]
      },
      {
       "output_type": "stream",
       "stream": "stdout",
       "text": [
        "\r",
        "Loaded image 967 of 1208"
       ]
      },
      {
       "output_type": "stream",
       "stream": "stdout",
       "text": [
        "\r",
        "Loaded image 968 of 1208"
       ]
      },
      {
       "output_type": "stream",
       "stream": "stdout",
       "text": [
        "\r",
        "Loaded image 969 of 1208"
       ]
      },
      {
       "output_type": "stream",
       "stream": "stdout",
       "text": [
        "\r",
        "Loaded image 970 of 1208"
       ]
      },
      {
       "output_type": "stream",
       "stream": "stdout",
       "text": [
        "\r",
        "Loaded image 971 of 1208"
       ]
      },
      {
       "output_type": "stream",
       "stream": "stdout",
       "text": [
        "\r",
        "Loaded image 972 of 1208"
       ]
      },
      {
       "output_type": "stream",
       "stream": "stdout",
       "text": [
        "\r",
        "Loaded image 973 of 1208"
       ]
      },
      {
       "output_type": "stream",
       "stream": "stdout",
       "text": [
        "\r",
        "Loaded image 974 of 1208"
       ]
      },
      {
       "output_type": "stream",
       "stream": "stdout",
       "text": [
        "\r",
        "Loaded image 975 of 1208"
       ]
      },
      {
       "output_type": "stream",
       "stream": "stdout",
       "text": [
        "\r",
        "Loaded image 976 of 1208"
       ]
      },
      {
       "output_type": "stream",
       "stream": "stdout",
       "text": [
        "\r",
        "Loaded image 977 of 1208"
       ]
      },
      {
       "output_type": "stream",
       "stream": "stdout",
       "text": [
        "\r",
        "Loaded image 978 of 1208"
       ]
      },
      {
       "output_type": "stream",
       "stream": "stdout",
       "text": [
        "\r",
        "Loaded image 979 of 1208"
       ]
      },
      {
       "output_type": "stream",
       "stream": "stdout",
       "text": [
        "\r",
        "Loaded image 980 of 1208"
       ]
      },
      {
       "output_type": "stream",
       "stream": "stdout",
       "text": [
        "\r",
        "Loaded image 981 of 1208"
       ]
      },
      {
       "output_type": "stream",
       "stream": "stdout",
       "text": [
        "\r",
        "Loaded image 982 of 1208"
       ]
      },
      {
       "output_type": "stream",
       "stream": "stdout",
       "text": [
        "\r",
        "Loaded image 983 of 1208"
       ]
      },
      {
       "output_type": "stream",
       "stream": "stdout",
       "text": [
        "\r",
        "Loaded image 984 of 1208"
       ]
      },
      {
       "output_type": "stream",
       "stream": "stdout",
       "text": [
        "\r",
        "Loaded image 985 of 1208"
       ]
      },
      {
       "output_type": "stream",
       "stream": "stdout",
       "text": [
        "\r",
        "Loaded image 986 of 1208"
       ]
      },
      {
       "output_type": "stream",
       "stream": "stdout",
       "text": [
        "\r",
        "Loaded image 987 of 1208"
       ]
      },
      {
       "output_type": "stream",
       "stream": "stdout",
       "text": [
        "\r",
        "Loaded image 988 of 1208"
       ]
      },
      {
       "output_type": "stream",
       "stream": "stdout",
       "text": [
        "\r",
        "Loaded image 989 of 1208"
       ]
      },
      {
       "output_type": "stream",
       "stream": "stdout",
       "text": [
        "\r",
        "Loaded image 990 of 1208"
       ]
      },
      {
       "output_type": "stream",
       "stream": "stdout",
       "text": [
        "\r",
        "Loaded image 991 of 1208"
       ]
      },
      {
       "output_type": "stream",
       "stream": "stdout",
       "text": [
        "\r",
        "Loaded image 992 of 1208"
       ]
      },
      {
       "output_type": "stream",
       "stream": "stdout",
       "text": [
        "\r",
        "Loaded image 993 of 1208"
       ]
      },
      {
       "output_type": "stream",
       "stream": "stdout",
       "text": [
        "\r",
        "Loaded image 994 of 1208"
       ]
      },
      {
       "output_type": "stream",
       "stream": "stdout",
       "text": [
        "\r",
        "Loaded image 995 of 1208"
       ]
      },
      {
       "output_type": "stream",
       "stream": "stdout",
       "text": [
        "\r",
        "Loaded image 996 of 1208"
       ]
      },
      {
       "output_type": "stream",
       "stream": "stdout",
       "text": [
        "\r",
        "Loaded image 997 of 1208"
       ]
      },
      {
       "output_type": "stream",
       "stream": "stdout",
       "text": [
        "\r",
        "Loaded image 998 of 1208"
       ]
      },
      {
       "output_type": "stream",
       "stream": "stdout",
       "text": [
        "\r",
        "Loaded image 999 of 1208"
       ]
      },
      {
       "output_type": "stream",
       "stream": "stdout",
       "text": [
        "\r",
        "Loaded image 1000 of 1208"
       ]
      },
      {
       "output_type": "stream",
       "stream": "stdout",
       "text": [
        "\r",
        "Loaded image 1001 of 1208"
       ]
      },
      {
       "output_type": "stream",
       "stream": "stdout",
       "text": [
        "\r",
        "Loaded image 1002 of 1208"
       ]
      },
      {
       "output_type": "stream",
       "stream": "stdout",
       "text": [
        "\r",
        "Loaded image 1003 of 1208"
       ]
      },
      {
       "output_type": "stream",
       "stream": "stdout",
       "text": [
        "\r",
        "Loaded image 1004 of 1208"
       ]
      },
      {
       "output_type": "stream",
       "stream": "stdout",
       "text": [
        "\r",
        "Loaded image 1005 of 1208"
       ]
      },
      {
       "output_type": "stream",
       "stream": "stdout",
       "text": [
        "\r",
        "Loaded image 1006 of 1208"
       ]
      },
      {
       "output_type": "stream",
       "stream": "stdout",
       "text": [
        "\r",
        "Loaded image 1007 of 1208"
       ]
      },
      {
       "output_type": "stream",
       "stream": "stdout",
       "text": [
        "\r",
        "Loaded image 1008 of 1208"
       ]
      },
      {
       "output_type": "stream",
       "stream": "stdout",
       "text": [
        "\r",
        "Loaded image 1009 of 1208"
       ]
      },
      {
       "output_type": "stream",
       "stream": "stdout",
       "text": [
        "\r",
        "Loaded image 1010 of 1208"
       ]
      },
      {
       "output_type": "stream",
       "stream": "stdout",
       "text": [
        "\r",
        "Loaded image 1011 of 1208"
       ]
      },
      {
       "output_type": "stream",
       "stream": "stdout",
       "text": [
        "\r",
        "Loaded image 1012 of 1208"
       ]
      },
      {
       "output_type": "stream",
       "stream": "stdout",
       "text": [
        "\r",
        "Loaded image 1013 of 1208"
       ]
      },
      {
       "output_type": "stream",
       "stream": "stdout",
       "text": [
        "\r",
        "Loaded image 1014 of 1208"
       ]
      },
      {
       "output_type": "stream",
       "stream": "stdout",
       "text": [
        "\r",
        "Loaded image 1015 of 1208"
       ]
      },
      {
       "output_type": "stream",
       "stream": "stdout",
       "text": [
        "\r",
        "Loaded image 1016 of 1208"
       ]
      },
      {
       "output_type": "stream",
       "stream": "stdout",
       "text": [
        "\r",
        "Loaded image 1017 of 1208"
       ]
      },
      {
       "output_type": "stream",
       "stream": "stdout",
       "text": [
        "\r",
        "Loaded image 1018 of 1208"
       ]
      },
      {
       "output_type": "stream",
       "stream": "stdout",
       "text": [
        "\r",
        "Loaded image 1019 of 1208"
       ]
      },
      {
       "output_type": "stream",
       "stream": "stdout",
       "text": [
        "\r",
        "Loaded image 1020 of 1208"
       ]
      },
      {
       "output_type": "stream",
       "stream": "stdout",
       "text": [
        "\r",
        "Loaded image 1021 of 1208"
       ]
      },
      {
       "output_type": "stream",
       "stream": "stdout",
       "text": [
        "\r",
        "Loaded image 1022 of 1208"
       ]
      },
      {
       "output_type": "stream",
       "stream": "stdout",
       "text": [
        "\r",
        "Loaded image 1023 of 1208"
       ]
      },
      {
       "output_type": "stream",
       "stream": "stdout",
       "text": [
        "\r",
        "Loaded image 1024 of 1208"
       ]
      },
      {
       "output_type": "stream",
       "stream": "stdout",
       "text": [
        "\r",
        "Loaded image 1025 of 1208"
       ]
      },
      {
       "output_type": "stream",
       "stream": "stdout",
       "text": [
        "\r",
        "Loaded image 1026 of 1208"
       ]
      },
      {
       "output_type": "stream",
       "stream": "stdout",
       "text": [
        "\r",
        "Loaded image 1027 of 1208"
       ]
      },
      {
       "output_type": "stream",
       "stream": "stdout",
       "text": [
        "\r",
        "Loaded image 1028 of 1208"
       ]
      },
      {
       "output_type": "stream",
       "stream": "stdout",
       "text": [
        "\r",
        "Loaded image 1029 of 1208"
       ]
      },
      {
       "output_type": "stream",
       "stream": "stdout",
       "text": [
        "\r",
        "Loaded image 1030 of 1208"
       ]
      },
      {
       "output_type": "stream",
       "stream": "stdout",
       "text": [
        "\r",
        "Loaded image 1031 of 1208"
       ]
      },
      {
       "output_type": "stream",
       "stream": "stdout",
       "text": [
        "\r",
        "Loaded image 1032 of 1208"
       ]
      },
      {
       "output_type": "stream",
       "stream": "stdout",
       "text": [
        "\r",
        "Loaded image 1033 of 1208"
       ]
      },
      {
       "output_type": "stream",
       "stream": "stdout",
       "text": [
        "\r",
        "Loaded image 1034 of 1208"
       ]
      },
      {
       "output_type": "stream",
       "stream": "stdout",
       "text": [
        "\r",
        "Loaded image 1035 of 1208"
       ]
      },
      {
       "output_type": "stream",
       "stream": "stdout",
       "text": [
        "\r",
        "Loaded image 1036 of 1208"
       ]
      },
      {
       "output_type": "stream",
       "stream": "stdout",
       "text": [
        "\r",
        "Loaded image 1037 of 1208"
       ]
      },
      {
       "output_type": "stream",
       "stream": "stdout",
       "text": [
        "\r",
        "Loaded image 1038 of 1208"
       ]
      },
      {
       "output_type": "stream",
       "stream": "stdout",
       "text": [
        "\r",
        "Loaded image 1039 of 1208"
       ]
      },
      {
       "output_type": "stream",
       "stream": "stdout",
       "text": [
        "\r",
        "Loaded image 1040 of 1208"
       ]
      },
      {
       "output_type": "stream",
       "stream": "stdout",
       "text": [
        "\r",
        "Loaded image 1041 of 1208"
       ]
      },
      {
       "output_type": "stream",
       "stream": "stdout",
       "text": [
        "\r",
        "Loaded image 1042 of 1208"
       ]
      },
      {
       "output_type": "stream",
       "stream": "stdout",
       "text": [
        "\r",
        "Loaded image 1043 of 1208"
       ]
      },
      {
       "output_type": "stream",
       "stream": "stdout",
       "text": [
        "\r",
        "Loaded image 1044 of 1208"
       ]
      },
      {
       "output_type": "stream",
       "stream": "stdout",
       "text": [
        "\r",
        "Loaded image 1045 of 1208"
       ]
      },
      {
       "output_type": "stream",
       "stream": "stdout",
       "text": [
        "\r",
        "Loaded image 1046 of 1208"
       ]
      },
      {
       "output_type": "stream",
       "stream": "stdout",
       "text": [
        "\r",
        "Loaded image 1047 of 1208"
       ]
      },
      {
       "output_type": "stream",
       "stream": "stdout",
       "text": [
        "\r",
        "Loaded image 1048 of 1208"
       ]
      },
      {
       "output_type": "stream",
       "stream": "stdout",
       "text": [
        "\r",
        "Loaded image 1049 of 1208"
       ]
      },
      {
       "output_type": "stream",
       "stream": "stdout",
       "text": [
        "\r",
        "Loaded image 1050 of 1208"
       ]
      },
      {
       "output_type": "stream",
       "stream": "stdout",
       "text": [
        "\r",
        "Loaded image 1051 of 1208"
       ]
      },
      {
       "output_type": "stream",
       "stream": "stdout",
       "text": [
        "\r",
        "Loaded image 1052 of 1208"
       ]
      },
      {
       "output_type": "stream",
       "stream": "stdout",
       "text": [
        "\r",
        "Loaded image 1053 of 1208"
       ]
      },
      {
       "output_type": "stream",
       "stream": "stdout",
       "text": [
        "\r",
        "Loaded image 1054 of 1208"
       ]
      },
      {
       "output_type": "stream",
       "stream": "stdout",
       "text": [
        "\r",
        "Loaded image 1055 of 1208"
       ]
      },
      {
       "output_type": "stream",
       "stream": "stdout",
       "text": [
        "\r",
        "Loaded image 1056 of 1208"
       ]
      },
      {
       "output_type": "stream",
       "stream": "stdout",
       "text": [
        "\r",
        "Loaded image 1057 of 1208"
       ]
      },
      {
       "output_type": "stream",
       "stream": "stdout",
       "text": [
        "\r",
        "Loaded image 1058 of 1208"
       ]
      },
      {
       "output_type": "stream",
       "stream": "stdout",
       "text": [
        "\r",
        "Loaded image 1059 of 1208"
       ]
      },
      {
       "output_type": "stream",
       "stream": "stdout",
       "text": [
        "\r",
        "Loaded image 1060 of 1208"
       ]
      },
      {
       "output_type": "stream",
       "stream": "stdout",
       "text": [
        "\r",
        "Loaded image 1061 of 1208"
       ]
      },
      {
       "output_type": "stream",
       "stream": "stdout",
       "text": [
        "\r",
        "Loaded image 1062 of 1208"
       ]
      },
      {
       "output_type": "stream",
       "stream": "stdout",
       "text": [
        "\r",
        "Loaded image 1063 of 1208"
       ]
      },
      {
       "output_type": "stream",
       "stream": "stdout",
       "text": [
        "\r",
        "Loaded image 1064 of 1208"
       ]
      },
      {
       "output_type": "stream",
       "stream": "stdout",
       "text": [
        "\r",
        "Loaded image 1065 of 1208"
       ]
      },
      {
       "output_type": "stream",
       "stream": "stdout",
       "text": [
        "\r",
        "Loaded image 1066 of 1208"
       ]
      },
      {
       "output_type": "stream",
       "stream": "stdout",
       "text": [
        "\r",
        "Loaded image 1067 of 1208"
       ]
      },
      {
       "output_type": "stream",
       "stream": "stdout",
       "text": [
        "\r",
        "Loaded image 1068 of 1208"
       ]
      },
      {
       "output_type": "stream",
       "stream": "stdout",
       "text": [
        "\r",
        "Loaded image 1069 of 1208"
       ]
      },
      {
       "output_type": "stream",
       "stream": "stdout",
       "text": [
        "\r",
        "Loaded image 1070 of 1208"
       ]
      },
      {
       "output_type": "stream",
       "stream": "stdout",
       "text": [
        "\r",
        "Loaded image 1071 of 1208"
       ]
      },
      {
       "output_type": "stream",
       "stream": "stdout",
       "text": [
        "\r",
        "Loaded image 1072 of 1208"
       ]
      },
      {
       "output_type": "stream",
       "stream": "stdout",
       "text": [
        "\r",
        "Loaded image 1073 of 1208"
       ]
      },
      {
       "output_type": "stream",
       "stream": "stdout",
       "text": [
        "\r",
        "Loaded image 1074 of 1208"
       ]
      },
      {
       "output_type": "stream",
       "stream": "stdout",
       "text": [
        "\r",
        "Loaded image 1075 of 1208"
       ]
      },
      {
       "output_type": "stream",
       "stream": "stdout",
       "text": [
        "\r",
        "Loaded image 1076 of 1208"
       ]
      },
      {
       "output_type": "stream",
       "stream": "stdout",
       "text": [
        "\r",
        "Loaded image 1077 of 1208"
       ]
      },
      {
       "output_type": "stream",
       "stream": "stdout",
       "text": [
        "\r",
        "Loaded image 1078 of 1208"
       ]
      },
      {
       "output_type": "stream",
       "stream": "stdout",
       "text": [
        "\r",
        "Loaded image 1079 of 1208"
       ]
      },
      {
       "output_type": "stream",
       "stream": "stdout",
       "text": [
        "\r",
        "Loaded image 1080 of 1208"
       ]
      },
      {
       "output_type": "stream",
       "stream": "stdout",
       "text": [
        "\r",
        "Loaded image 1081 of 1208"
       ]
      },
      {
       "output_type": "stream",
       "stream": "stdout",
       "text": [
        "\r",
        "Loaded image 1082 of 1208"
       ]
      },
      {
       "output_type": "stream",
       "stream": "stdout",
       "text": [
        "\r",
        "Loaded image 1083 of 1208"
       ]
      },
      {
       "output_type": "stream",
       "stream": "stdout",
       "text": [
        "\r",
        "Loaded image 1084 of 1208"
       ]
      },
      {
       "output_type": "stream",
       "stream": "stdout",
       "text": [
        "\r",
        "Loaded image 1085 of 1208"
       ]
      },
      {
       "output_type": "stream",
       "stream": "stdout",
       "text": [
        "\r",
        "Loaded image 1086 of 1208"
       ]
      },
      {
       "output_type": "stream",
       "stream": "stdout",
       "text": [
        "\r",
        "Loaded image 1087 of 1208"
       ]
      },
      {
       "output_type": "stream",
       "stream": "stdout",
       "text": [
        "\r",
        "Loaded image 1088 of 1208"
       ]
      },
      {
       "output_type": "stream",
       "stream": "stdout",
       "text": [
        "\r",
        "Loaded image 1089 of 1208"
       ]
      },
      {
       "output_type": "stream",
       "stream": "stdout",
       "text": [
        "\r",
        "Loaded image 1090 of 1208"
       ]
      },
      {
       "output_type": "stream",
       "stream": "stdout",
       "text": [
        "\r",
        "Loaded image 1091 of 1208"
       ]
      },
      {
       "output_type": "stream",
       "stream": "stdout",
       "text": [
        "\r",
        "Loaded image 1092 of 1208"
       ]
      },
      {
       "output_type": "stream",
       "stream": "stdout",
       "text": [
        "\r",
        "Loaded image 1093 of 1208"
       ]
      },
      {
       "output_type": "stream",
       "stream": "stdout",
       "text": [
        "\r",
        "Loaded image 1094 of 1208"
       ]
      },
      {
       "output_type": "stream",
       "stream": "stdout",
       "text": [
        "\r",
        "Loaded image 1095 of 1208"
       ]
      },
      {
       "output_type": "stream",
       "stream": "stdout",
       "text": [
        "\r",
        "Loaded image 1096 of 1208"
       ]
      },
      {
       "output_type": "stream",
       "stream": "stdout",
       "text": [
        "\r",
        "Loaded image 1097 of 1208"
       ]
      },
      {
       "output_type": "stream",
       "stream": "stdout",
       "text": [
        "\r",
        "Loaded image 1098 of 1208"
       ]
      },
      {
       "output_type": "stream",
       "stream": "stdout",
       "text": [
        "\r",
        "Loaded image 1099 of 1208"
       ]
      },
      {
       "output_type": "stream",
       "stream": "stdout",
       "text": [
        "\r",
        "Loaded image 1100 of 1208"
       ]
      },
      {
       "output_type": "stream",
       "stream": "stdout",
       "text": [
        "\r",
        "Loaded image 1101 of 1208"
       ]
      },
      {
       "output_type": "stream",
       "stream": "stdout",
       "text": [
        "\r",
        "Loaded image 1102 of 1208"
       ]
      },
      {
       "output_type": "stream",
       "stream": "stdout",
       "text": [
        "\r",
        "Loaded image 1103 of 1208"
       ]
      },
      {
       "output_type": "stream",
       "stream": "stdout",
       "text": [
        "\r",
        "Loaded image 1104 of 1208"
       ]
      },
      {
       "output_type": "stream",
       "stream": "stdout",
       "text": [
        "\r",
        "Loaded image 1105 of 1208"
       ]
      },
      {
       "output_type": "stream",
       "stream": "stdout",
       "text": [
        "\r",
        "Loaded image 1106 of 1208"
       ]
      },
      {
       "output_type": "stream",
       "stream": "stdout",
       "text": [
        "\r",
        "Loaded image 1107 of 1208"
       ]
      },
      {
       "output_type": "stream",
       "stream": "stdout",
       "text": [
        "\r",
        "Loaded image 1108 of 1208"
       ]
      },
      {
       "output_type": "stream",
       "stream": "stdout",
       "text": [
        "\r",
        "Loaded image 1109 of 1208"
       ]
      },
      {
       "output_type": "stream",
       "stream": "stdout",
       "text": [
        "\r",
        "Loaded image 1110 of 1208"
       ]
      },
      {
       "output_type": "stream",
       "stream": "stdout",
       "text": [
        "\r",
        "Loaded image 1111 of 1208"
       ]
      },
      {
       "output_type": "stream",
       "stream": "stdout",
       "text": [
        "\r",
        "Loaded image 1112 of 1208"
       ]
      },
      {
       "output_type": "stream",
       "stream": "stdout",
       "text": [
        "\r",
        "Loaded image 1113 of 1208"
       ]
      },
      {
       "output_type": "stream",
       "stream": "stdout",
       "text": [
        "\r",
        "Loaded image 1114 of 1208"
       ]
      },
      {
       "output_type": "stream",
       "stream": "stdout",
       "text": [
        "\r",
        "Loaded image 1115 of 1208"
       ]
      },
      {
       "output_type": "stream",
       "stream": "stdout",
       "text": [
        "\r",
        "Loaded image 1116 of 1208"
       ]
      },
      {
       "output_type": "stream",
       "stream": "stdout",
       "text": [
        "\r",
        "Loaded image 1117 of 1208"
       ]
      },
      {
       "output_type": "stream",
       "stream": "stdout",
       "text": [
        "\r",
        "Loaded image 1118 of 1208"
       ]
      },
      {
       "output_type": "stream",
       "stream": "stdout",
       "text": [
        "\r",
        "Loaded image 1119 of 1208"
       ]
      },
      {
       "output_type": "stream",
       "stream": "stdout",
       "text": [
        "\r",
        "Loaded image 1120 of 1208"
       ]
      },
      {
       "output_type": "stream",
       "stream": "stdout",
       "text": [
        "\r",
        "Loaded image 1121 of 1208"
       ]
      },
      {
       "output_type": "stream",
       "stream": "stdout",
       "text": [
        "\r",
        "Loaded image 1122 of 1208"
       ]
      },
      {
       "output_type": "stream",
       "stream": "stdout",
       "text": [
        "\r",
        "Loaded image 1123 of 1208"
       ]
      },
      {
       "output_type": "stream",
       "stream": "stdout",
       "text": [
        "\r",
        "Loaded image 1124 of 1208"
       ]
      },
      {
       "output_type": "stream",
       "stream": "stdout",
       "text": [
        "\r",
        "Loaded image 1125 of 1208"
       ]
      },
      {
       "output_type": "stream",
       "stream": "stdout",
       "text": [
        "\r",
        "Loaded image 1126 of 1208"
       ]
      },
      {
       "output_type": "stream",
       "stream": "stdout",
       "text": [
        "\r",
        "Loaded image 1127 of 1208"
       ]
      },
      {
       "output_type": "stream",
       "stream": "stdout",
       "text": [
        "\r",
        "Loaded image 1128 of 1208"
       ]
      },
      {
       "output_type": "stream",
       "stream": "stdout",
       "text": [
        "\r",
        "Loaded image 1129 of 1208"
       ]
      },
      {
       "output_type": "stream",
       "stream": "stdout",
       "text": [
        "\r",
        "Loaded image 1130 of 1208"
       ]
      },
      {
       "output_type": "stream",
       "stream": "stdout",
       "text": [
        "\r",
        "Loaded image 1131 of 1208"
       ]
      },
      {
       "output_type": "stream",
       "stream": "stdout",
       "text": [
        "\r",
        "Loaded image 1132 of 1208"
       ]
      },
      {
       "output_type": "stream",
       "stream": "stdout",
       "text": [
        "\r",
        "Loaded image 1133 of 1208"
       ]
      },
      {
       "output_type": "stream",
       "stream": "stdout",
       "text": [
        "\r",
        "Loaded image 1134 of 1208"
       ]
      },
      {
       "output_type": "stream",
       "stream": "stdout",
       "text": [
        "\r",
        "Loaded image 1135 of 1208"
       ]
      },
      {
       "output_type": "stream",
       "stream": "stdout",
       "text": [
        "\r",
        "Loaded image 1136 of 1208"
       ]
      },
      {
       "output_type": "stream",
       "stream": "stdout",
       "text": [
        "\r",
        "Loaded image 1137 of 1208"
       ]
      },
      {
       "output_type": "stream",
       "stream": "stdout",
       "text": [
        "\r",
        "Loaded image 1138 of 1208"
       ]
      },
      {
       "output_type": "stream",
       "stream": "stdout",
       "text": [
        "\r",
        "Loaded image 1139 of 1208"
       ]
      },
      {
       "output_type": "stream",
       "stream": "stdout",
       "text": [
        "\r",
        "Loaded image 1140 of 1208"
       ]
      },
      {
       "output_type": "stream",
       "stream": "stdout",
       "text": [
        "\r",
        "Loaded image 1141 of 1208"
       ]
      },
      {
       "output_type": "stream",
       "stream": "stdout",
       "text": [
        "\r",
        "Loaded image 1142 of 1208"
       ]
      },
      {
       "output_type": "stream",
       "stream": "stdout",
       "text": [
        "\r",
        "Loaded image 1143 of 1208"
       ]
      },
      {
       "output_type": "stream",
       "stream": "stdout",
       "text": [
        "\r",
        "Loaded image 1144 of 1208"
       ]
      },
      {
       "output_type": "stream",
       "stream": "stdout",
       "text": [
        "\r",
        "Loaded image 1145 of 1208"
       ]
      },
      {
       "output_type": "stream",
       "stream": "stdout",
       "text": [
        "\r",
        "Loaded image 1146 of 1208"
       ]
      },
      {
       "output_type": "stream",
       "stream": "stdout",
       "text": [
        "\r",
        "Loaded image 1147 of 1208"
       ]
      },
      {
       "output_type": "stream",
       "stream": "stdout",
       "text": [
        "\r",
        "Loaded image 1148 of 1208"
       ]
      },
      {
       "output_type": "stream",
       "stream": "stdout",
       "text": [
        "\r",
        "Loaded image 1149 of 1208"
       ]
      },
      {
       "output_type": "stream",
       "stream": "stdout",
       "text": [
        "\r",
        "Loaded image 1150 of 1208"
       ]
      },
      {
       "output_type": "stream",
       "stream": "stdout",
       "text": [
        "\r",
        "Loaded image 1151 of 1208"
       ]
      },
      {
       "output_type": "stream",
       "stream": "stdout",
       "text": [
        "\r",
        "Loaded image 1152 of 1208"
       ]
      },
      {
       "output_type": "stream",
       "stream": "stdout",
       "text": [
        "\r",
        "Loaded image 1153 of 1208"
       ]
      },
      {
       "output_type": "stream",
       "stream": "stdout",
       "text": [
        "\r",
        "Loaded image 1154 of 1208"
       ]
      },
      {
       "output_type": "stream",
       "stream": "stdout",
       "text": [
        "\r",
        "Loaded image 1155 of 1208"
       ]
      },
      {
       "output_type": "stream",
       "stream": "stdout",
       "text": [
        "\r",
        "Loaded image 1156 of 1208"
       ]
      },
      {
       "output_type": "stream",
       "stream": "stdout",
       "text": [
        "\r",
        "Loaded image 1157 of 1208"
       ]
      },
      {
       "output_type": "stream",
       "stream": "stdout",
       "text": [
        "\r",
        "Loaded image 1158 of 1208"
       ]
      },
      {
       "output_type": "stream",
       "stream": "stdout",
       "text": [
        "\r",
        "Loaded image 1159 of 1208"
       ]
      },
      {
       "output_type": "stream",
       "stream": "stdout",
       "text": [
        "\r",
        "Loaded image 1160 of 1208"
       ]
      },
      {
       "output_type": "stream",
       "stream": "stdout",
       "text": [
        "\r",
        "Loaded image 1161 of 1208"
       ]
      },
      {
       "output_type": "stream",
       "stream": "stdout",
       "text": [
        "\r",
        "Loaded image 1162 of 1208"
       ]
      },
      {
       "output_type": "stream",
       "stream": "stdout",
       "text": [
        "\r",
        "Loaded image 1163 of 1208"
       ]
      },
      {
       "output_type": "stream",
       "stream": "stdout",
       "text": [
        "\r",
        "Loaded image 1164 of 1208"
       ]
      },
      {
       "output_type": "stream",
       "stream": "stdout",
       "text": [
        "\r",
        "Loaded image 1165 of 1208"
       ]
      },
      {
       "output_type": "stream",
       "stream": "stdout",
       "text": [
        "\r",
        "Loaded image 1166 of 1208"
       ]
      },
      {
       "output_type": "stream",
       "stream": "stdout",
       "text": [
        "\r",
        "Loaded image 1167 of 1208"
       ]
      },
      {
       "output_type": "stream",
       "stream": "stdout",
       "text": [
        "\r",
        "Loaded image 1168 of 1208"
       ]
      },
      {
       "output_type": "stream",
       "stream": "stdout",
       "text": [
        "\r",
        "Loaded image 1169 of 1208"
       ]
      },
      {
       "output_type": "stream",
       "stream": "stdout",
       "text": [
        "\r",
        "Loaded image 1170 of 1208"
       ]
      },
      {
       "output_type": "stream",
       "stream": "stdout",
       "text": [
        "\r",
        "Loaded image 1171 of 1208"
       ]
      },
      {
       "output_type": "stream",
       "stream": "stdout",
       "text": [
        "\r",
        "Loaded image 1172 of 1208"
       ]
      },
      {
       "output_type": "stream",
       "stream": "stdout",
       "text": [
        "\r",
        "Loaded image 1173 of 1208"
       ]
      },
      {
       "output_type": "stream",
       "stream": "stdout",
       "text": [
        "\r",
        "Loaded image 1174 of 1208"
       ]
      },
      {
       "output_type": "stream",
       "stream": "stdout",
       "text": [
        "\r",
        "Loaded image 1175 of 1208"
       ]
      },
      {
       "output_type": "stream",
       "stream": "stdout",
       "text": [
        "\r",
        "Loaded image 1176 of 1208"
       ]
      },
      {
       "output_type": "stream",
       "stream": "stdout",
       "text": [
        "\r",
        "Loaded image 1177 of 1208"
       ]
      },
      {
       "output_type": "stream",
       "stream": "stdout",
       "text": [
        "\r",
        "Loaded image 1178 of 1208"
       ]
      },
      {
       "output_type": "stream",
       "stream": "stdout",
       "text": [
        "\r",
        "Loaded image 1179 of 1208"
       ]
      },
      {
       "output_type": "stream",
       "stream": "stdout",
       "text": [
        "\r",
        "Loaded image 1180 of 1208"
       ]
      },
      {
       "output_type": "stream",
       "stream": "stdout",
       "text": [
        "\r",
        "Loaded image 1181 of 1208"
       ]
      },
      {
       "output_type": "stream",
       "stream": "stdout",
       "text": [
        "\r",
        "Loaded image 1182 of 1208"
       ]
      },
      {
       "output_type": "stream",
       "stream": "stdout",
       "text": [
        "\r",
        "Loaded image 1183 of 1208"
       ]
      },
      {
       "output_type": "stream",
       "stream": "stdout",
       "text": [
        "\r",
        "Loaded image 1184 of 1208"
       ]
      },
      {
       "output_type": "stream",
       "stream": "stdout",
       "text": [
        "\r",
        "Loaded image 1185 of 1208"
       ]
      },
      {
       "output_type": "stream",
       "stream": "stdout",
       "text": [
        "\r",
        "Loaded image 1186 of 1208"
       ]
      },
      {
       "output_type": "stream",
       "stream": "stdout",
       "text": [
        "\r",
        "Loaded image 1187 of 1208"
       ]
      },
      {
       "output_type": "stream",
       "stream": "stdout",
       "text": [
        "\r",
        "Loaded image 1188 of 1208"
       ]
      },
      {
       "output_type": "stream",
       "stream": "stdout",
       "text": [
        "\r",
        "Loaded image 1189 of 1208"
       ]
      },
      {
       "output_type": "stream",
       "stream": "stdout",
       "text": [
        "\r",
        "Loaded image 1190 of 1208"
       ]
      },
      {
       "output_type": "stream",
       "stream": "stdout",
       "text": [
        "\r",
        "Loaded image 1191 of 1208"
       ]
      },
      {
       "output_type": "stream",
       "stream": "stdout",
       "text": [
        "\r",
        "Loaded image 1192 of 1208"
       ]
      },
      {
       "output_type": "stream",
       "stream": "stdout",
       "text": [
        "\r",
        "Loaded image 1193 of 1208"
       ]
      },
      {
       "output_type": "stream",
       "stream": "stdout",
       "text": [
        "\r",
        "Loaded image 1194 of 1208"
       ]
      },
      {
       "output_type": "stream",
       "stream": "stdout",
       "text": [
        "\r",
        "Loaded image 1195 of 1208"
       ]
      },
      {
       "output_type": "stream",
       "stream": "stdout",
       "text": [
        "\r",
        "Loaded image 1196 of 1208"
       ]
      },
      {
       "output_type": "stream",
       "stream": "stdout",
       "text": [
        "\r",
        "Loaded image 1197 of 1208"
       ]
      },
      {
       "output_type": "stream",
       "stream": "stdout",
       "text": [
        "\r",
        "Loaded image 1198 of 1208"
       ]
      },
      {
       "output_type": "stream",
       "stream": "stdout",
       "text": [
        "\r",
        "Loaded image 1199 of 1208"
       ]
      },
      {
       "output_type": "stream",
       "stream": "stdout",
       "text": [
        "\r",
        "Loaded image 1200 of 1208"
       ]
      },
      {
       "output_type": "stream",
       "stream": "stdout",
       "text": [
        "\r",
        "Loaded image 1201 of 1208"
       ]
      },
      {
       "output_type": "stream",
       "stream": "stdout",
       "text": [
        "\r",
        "Loaded image 1202 of 1208"
       ]
      },
      {
       "output_type": "stream",
       "stream": "stdout",
       "text": [
        "\r",
        "Loaded image 1203 of 1208"
       ]
      },
      {
       "output_type": "stream",
       "stream": "stdout",
       "text": [
        "\r",
        "Loaded image 1204 of 1208"
       ]
      },
      {
       "output_type": "stream",
       "stream": "stdout",
       "text": [
        "\r",
        "Loaded image 1205 of 1208"
       ]
      },
      {
       "output_type": "stream",
       "stream": "stdout",
       "text": [
        "\r",
        "Loaded image 1206 of 1208"
       ]
      },
      {
       "output_type": "stream",
       "stream": "stdout",
       "text": [
        "\r",
        "Loaded image 1207 of 1208"
       ]
      },
      {
       "output_type": "stream",
       "stream": "stdout",
       "text": [
        "\n",
        "(921600, 1208)\n"
       ]
      }
     ],
     "prompt_number": 198
    },
    {
     "cell_type": "code",
     "collapsed": false,
     "input": [
      "## visualize features from the image data when using ranges to make sure they've been assembled well\n",
      "# imageFeatsSize = np.array(baseDimensionality/((resizeRatio/rangeResizeRatios)**2), dtype=int)\n",
      "# print imageFeatsSize\n",
      "# resizedImageSize = cv2.resize(cv2.imread(framePaths[0]), (0, 0), fx=rangeResizeRatios[1], fy=rangeResizeRatios[1], interpolation=cv2.INTER_AREA).shape[0:2]\n",
      "# figure(); imshow(imagesGrayData[imageFeatsSize[0]:np.sum(imageFeatsSize[0:2]), 100].reshape(resizedImageSize))\n",
      "# resizedImageSize = cv2.resize(cv2.imread(framePaths[0]), (0, 0), fx=rangeResizeRatios[0], fy=rangeResizeRatios[0], interpolation=cv2.INTER_AREA).shape[0:2]\n",
      "# figure(); imshow(imagesGrayData[:imageFeatsSize[0], 100].reshape(resizedImageSize))\n",
      "# figure(); imshow(imagesGrayData[np.sum(imageFeatsSize[0:2]):, 100].reshape(resizedImageSize))\n",
      "figure(); imshow(imagesGrayData[:, 100].reshape((360, 640)))"
     ],
     "language": "python",
     "metadata": {},
     "outputs": [
      {
       "metadata": {},
       "output_type": "pyout",
       "prompt_number": 13,
       "text": [
        "<matplotlib.image.AxesImage at 0x7f13398c62d0>"
       ]
      }
     ],
     "prompt_number": 13
    },
    {
     "cell_type": "code",
     "collapsed": false,
     "input": [
      "newL2Dist = np.zeros((numFrames, numFrames))\n",
      "if doRGB :\n",
      "    print \"using RGB\"\n",
      "else :\n",
      "    print \"using Gray\"   \n",
      "for i in xrange(numFrames) :\n",
      "#     for j in xrange(i, numFrames) :\n",
      "#         newL2Dist[i, j] = np.sum(np.sqrt((imagesRGBData[:, i]-imagesRGBData[:, j])**2))\n",
      "#         newL2Dist[j, i] = newL2Dist[i, j]\n",
      "    \n",
      "    if doRGB :\n",
      "        newL2Dist[i, i:] = np.sqrt(np.sum((imagesRGBData[:, i].reshape((np.prod(np.round(np.array(imageSize)*resizeRatio))*3, 1))-imagesRGBData[:, i:])**2, axis=0))\n",
      "    else :\n",
      "        newL2Dist[i, i:] = np.sqrt(np.sum((imagesGrayData[:, i].reshape((np.prod(np.round(np.array(imageSize)*resizeRatio)), 1))-imagesGrayData[:, i:])**2, axis=0))\n",
      "        \n",
      "    newL2Dist[i:, i] = newL2Dist[i, i:]\n",
      "        \n",
      "    sys.stdout.write('\\r' + \"Done with row \" + np.string_(i) + \" of \" + np.string_(numFrames))\n",
      "    sys.stdout.flush()\n",
      "    \n",
      "gwv.showCustomGraph(newL2Dist)"
     ],
     "language": "python",
     "metadata": {},
     "outputs": [],
     "prompt_number": 7
    },
    {
     "cell_type": "code",
     "collapsed": false,
     "input": [
      "# hogFeats = sio.loadmat(dataPath + dataSet + \"allFramesHogs.mat\")[\"hogFeats\"]\n",
      "# hogFeats = sio.loadmat(dataPath + dataSet + \"allFramesHogs_NoEncoding.mat\")[\"hogFeats\"]\n",
      "# print hogFeats.shape\n",
      "\n",
      "## get feats of subsequent frames\n",
      "goodPairsIdxs = np.array([np.arange(numFrames-1, dtype=int), np.arange(1, numFrames, dtype=int)])\n",
      "print goodPairsIdxs\n",
      "\n",
      "useValidatedJumps = True\n",
      "\n",
      "if useValidatedJumps and os.path.isfile(dataPath+dataSet+\"validatedJumps.npy\") :\n",
      "    ## validatedJumps has indices of good jumps which means that it contains indices of distances between i and j+1\n",
      "    ## so need to take (j+1)-1 to get indices of pairs whos distance has been labelled\n",
      "    validatedJumps = np.load(dataPath+dataSet+\"validatedJumps.npy\")\n",
      "    \n",
      "    additionalGoodPairsIdxs = np.argwhere(validatedJumps == 1).T\n",
      "    if additionalGoodPairsIdxs.shape[-1] > 0 :\n",
      "        goodPairsIdxs = np.concatenate((goodPairsIdxs, additionalGoodPairsIdxs), axis=1)\n",
      "    \n",
      "    badPairsIdxs = np.argwhere(validatedJumps == 0).T\n",
      "    ### why did I do this?\n",
      "#     badPairsIdxs[1, : ] -= 1\n",
      "    print additionalGoodPairsIdxs.T\n",
      "    print badPairsIdxs.T\n",
      "else :\n",
      "    ## get feats of random pairings that are considered bad\n",
      "    numBadExamples = 1000\n",
      "    minIdxsDiff = 10\n",
      "    badPairsIdxs = np.sort(np.array([np.random.choice(np.arange(numFrames), numBadExamples), \n",
      "                                     np.random.choice(np.arange(numFrames), numBadExamples)]), axis=0)\n",
      "\n",
      "    print len(np.argwhere(np.abs(badPairsIdxs[0, :]-badPairsIdxs[1, :]) < minIdxsDiff)), \"invalid pairs\"\n",
      "    for pairIdx in xrange(numBadExamples) :\n",
      "        idxDiff = np.abs(badPairsIdxs[0, pairIdx] - badPairsIdxs[1, pairIdx])\n",
      "        tmp = idxDiff\n",
      "        newPair = badPairsIdxs[:, pairIdx]\n",
      "        while idxDiff < minIdxsDiff :\n",
      "            newPair = np.sort(np.random.choice(np.arange(numFrames), 2))\n",
      "            idxDiff = np.abs(newPair[0] - newPair[1])\n",
      "    #     print badPairsIdxs[:, pairIdx], newPair, tmp\n",
      "        badPairsIdxs[:, pairIdx] = newPair\n",
      "    #     if badPairsIdxs[pairIdx, 0] - badPairsIdxs[pairIdx, 1] < minIdxsDiff\n",
      "\n",
      "    # print badPairsIdxs.T\n",
      "    print len(np.argwhere(np.abs(badPairsIdxs[0, :]-badPairsIdxs[1, :]) < minIdxsDiff)), \"invalid pairs\"\n",
      "    print badPairsIdxs"
     ],
     "language": "python",
     "metadata": {},
     "outputs": [
      {
       "output_type": "stream",
       "stream": "stdout",
       "text": [
        "[[   0    1    2 ..., 1204 1205 1206]\n",
        " [   1    2    3 ..., 1205 1206 1207]]\n",
        "[[927 950]\n",
        " [927 951]\n",
        " [928 950]\n",
        " [928 951]\n",
        " [929 951]\n",
        " [929 952]\n",
        " [930 952]\n",
        " [953 927]\n",
        " [974 945]]\n",
        "[[ 126    8]\n",
        " [ 127    8]\n",
        " [ 127    9]\n",
        " [ 127   10]\n",
        " [ 128    9]\n",
        " [ 128   10]\n",
        " [ 129   10]\n",
        " [ 130   11]\n",
        " [ 330  105]\n",
        " [ 330  106]\n",
        " [ 928  949]\n",
        " [ 928  953]\n",
        " [ 929  942]\n",
        " [ 929  950]\n",
        " [ 946  922]\n",
        " [ 949  925]\n",
        " [ 950  928]\n",
        " [ 959 1029]\n",
        " [ 960  941]\n",
        " [ 960  950]]\n"
       ]
      }
     ],
     "prompt_number": 199
    },
    {
     "cell_type": "code",
     "collapsed": false,
     "input": [
      "## copy the example idxs that uses the validated jumps to tmp\n",
      "# goodPairsIncludingValidation = np.copy(goodPairsIdxs)\n",
      "# badPairsIncludingValidation = np.copy(badPairsIdxs)\n",
      "## attach them to the example idxs without validated jumps to see how it looks\n",
      "# goodPairsIdxs = np.copy(goodPairsIncludingValidation)\n",
      "# badPairsIdxs = np.concatenate((badPairsIdxs, badPairsIncludingValidation), axis=1)\n",
      "print goodPairsIdxs.shape\n",
      "print badPairsIdxs.shape"
     ],
     "language": "python",
     "metadata": {},
     "outputs": [
      {
       "output_type": "stream",
       "stream": "stdout",
       "text": [
        "(2, 1216)\n",
        "(2, 1020)\n"
       ]
      }
     ],
     "prompt_number": 183
    },
    {
     "cell_type": "code",
     "collapsed": false,
     "input": [
      "allPairsHogs = []\n",
      "for i in xrange(len(hogFeats)) :\n",
      "    for j in xrange(i+1, len(hogFeats)) :\n",
      "        ## ABS DIST\n",
      "#         allPairsHogs.append(np.sqrt((hogFeats[i, :]-hogFeats[j, :])**2))\n",
      "        allPairsHogs.append((hogFeats[i, :]-hogFeats[j, :])**2)\n",
      "        \n",
      "    sys.stdout.write('\\r' + \"Done with row \" + np.string_(i) + \" of \" + np.string_(len(hogFeats)))\n",
      "    sys.stdout.flush()"
     ],
     "language": "python",
     "metadata": {},
     "outputs": [],
     "prompt_number": 6
    },
    {
     "cell_type": "code",
     "collapsed": false,
     "input": [
      "allPairsImageData = []\n",
      "for i in xrange(numFrames) :\n",
      "    for j in xrange(i+1, numFrames) :\n",
      "        ## ABS DIST\n",
      "#         allPairsHogs.append(np.sqrt((hogFeats[i, :]-hogFeats[j, :])**2))\n",
      "        if doRGB :\n",
      "            allPairsImageData.append((imagesRGBData[:, i]-imagesRGBData[:, j])**np.float32(2))\n",
      "        else :\n",
      "            allPairsImageData.append((imagesGrayData[:, i]-imagesGrayData[:, j])**np.float32(2))\n",
      "#             allPairsImageData.append(imagesGrayData[:, i]-imagesGrayData[:, j])\n",
      "        \n",
      "    sys.stdout.write('\\r' + \"Done with row \" + np.string_(i) + \" of \" + np.string_(numFrames))\n",
      "    sys.stdout.flush()"
     ],
     "language": "python",
     "metadata": {},
     "outputs": [],
     "prompt_number": 7
    },
    {
     "cell_type": "code",
     "collapsed": false,
     "input": [
      "## split examples in half \n",
      "# allBadPairs = np.copy(badPairsIdxs)\n",
      "# allGoodPairs = np.copy(goodPairsIdxs)\n",
      "numGoodPairs = allGoodPairs.shape[-1]\n",
      "numBadPairs = allBadPairs.shape[-1]\n",
      "print numGoodPairs, numBadPairs\n",
      "\n",
      "goodValidationExamples = np.copy(allGoodPairs[:, numGoodPairs/2:])\n",
      "badValidationExamples = np.copy(allBadPairs[:, numBadPairs/2:])\n",
      "print goodValidationExamples.shape, badValidationExamples.shape\n",
      "\n",
      "goodPairsIdxs = np.copy(allGoodPairs[:, :numGoodPairs/2])\n",
      "badPairsIdxs = np.copy(allBadPairs[:, :numBadPairs/2])\n",
      "print goodPairsIdxs.shape, badPairsIdxs.shape"
     ],
     "language": "python",
     "metadata": {},
     "outputs": [
      {
       "output_type": "stream",
       "stream": "stdout",
       "text": [
        "1207 1000\n",
        "(2, 604) (2, 500)\n",
        "(2, 603) (2, 500)\n"
       ]
      }
     ],
     "prompt_number": 10
    },
    {
     "cell_type": "code",
     "collapsed": false,
     "input": [
      "print goodExamplesData.shape\n",
      "print badExamplesData.shape\n",
      "print np.concatenate((goodExamplesData[:, goodPairsToUse], badExamplesData[:, badPairsToUse]), axis=1).shape"
     ],
     "language": "python",
     "metadata": {},
     "outputs": [
      {
       "output_type": "stream",
       "stream": "stdout",
       "text": [
        "(1216, 32400)\n",
        "(20, 32400)\n"
       ]
      },
      {
       "ename": "ValueError",
       "evalue": "all the input array dimensions except for the concatenation axis must match exactly",
       "output_type": "pyerr",
       "traceback": [
        "\u001b[0;31m---------------------------------------------------------------------------\u001b[0m\n\u001b[0;31mValueError\u001b[0m                                Traceback (most recent call last)",
        "\u001b[0;32m<ipython-input-86-59834e0f6602>\u001b[0m in \u001b[0;36m<module>\u001b[0;34m()\u001b[0m\n\u001b[1;32m      1\u001b[0m \u001b[0;32mprint\u001b[0m \u001b[0mgoodExamplesData\u001b[0m\u001b[0;34m.\u001b[0m\u001b[0mshape\u001b[0m\u001b[0;34m\u001b[0m\u001b[0m\n\u001b[1;32m      2\u001b[0m \u001b[0;32mprint\u001b[0m \u001b[0mbadExamplesData\u001b[0m\u001b[0;34m.\u001b[0m\u001b[0mshape\u001b[0m\u001b[0;34m\u001b[0m\u001b[0m\n\u001b[0;32m----> 3\u001b[0;31m \u001b[0;32mprint\u001b[0m \u001b[0mnp\u001b[0m\u001b[0;34m.\u001b[0m\u001b[0mconcatenate\u001b[0m\u001b[0;34m(\u001b[0m\u001b[0;34m(\u001b[0m\u001b[0mgoodExamplesData\u001b[0m\u001b[0;34m[\u001b[0m\u001b[0;34m:\u001b[0m\u001b[0;34m,\u001b[0m \u001b[0mgoodPairsToUse\u001b[0m\u001b[0;34m]\u001b[0m\u001b[0;34m,\u001b[0m \u001b[0mbadExamplesData\u001b[0m\u001b[0;34m[\u001b[0m\u001b[0;34m:\u001b[0m\u001b[0;34m,\u001b[0m \u001b[0mbadPairsToUse\u001b[0m\u001b[0;34m]\u001b[0m\u001b[0;34m)\u001b[0m\u001b[0;34m,\u001b[0m \u001b[0maxis\u001b[0m\u001b[0;34m=\u001b[0m\u001b[0;36m1\u001b[0m\u001b[0;34m)\u001b[0m\u001b[0;34m.\u001b[0m\u001b[0mshape\u001b[0m\u001b[0;34m\u001b[0m\u001b[0m\n\u001b[0m",
        "\u001b[0;31mValueError\u001b[0m: all the input array dimensions except for the concatenation axis must match exactly"
       ]
      }
     ],
     "prompt_number": 86
    },
    {
     "cell_type": "code",
     "collapsed": false,
     "input": [
      "doHogs = False\n",
      "goodPairsToUse = arange(len(goodPairsIdxs.T))\n",
      "# goodPairsToUse = arange(len(goodPairsIdxs.T)-len(additionalGoodPairsIdxs.T), len(goodPairsIdxs.T))\n",
      "\n",
      "badPairsToUse = arange(len(badPairsIdxs.T))\n",
      "# badPairsToUse = np.delete(badPairsToUse, 12)\n",
      "# badPairsToUse = badPairsToUse[10:]\n",
      "if doHogs :\n",
      "    ## use hog feats as frame features\n",
      "    ## ABS DIST\n",
      "    # goodExamplesData = np.sqrt((hogFeats[goodPairsIdxs[0, :], :]-hogFeats[goodPairsIdxs[1, :], :])**2)\n",
      "    goodExamplesData = ((hogFeats[goodPairsIdxs[0, :], :]-hogFeats[goodPairsIdxs[1, :], :])**2).T\n",
      "    print goodExamplesData.shape\n",
      "    ## ABS DIST\n",
      "    # badExamplesData = np.sqrt((hogFeats[badPairsIdxs[0, :], :]-hogFeats[badPairsIdxs[1, :], :])**2)\n",
      "    badExamplesData = ((hogFeats[badPairsIdxs[0, :], :]-hogFeats[badPairsIdxs[1, :], :])**2).T\n",
      "    print badExamplesData.shape\n",
      "    \n",
      "    X = np.concatenate((goodExamplesData[:, goodPairsToUse], badExamplesData[:, badPairsToUse]), axis=1)\n",
      "    w = np.concatenate((np.zeros(len(goodPairsToUse)), 10.0*np.ones(len(badPairsToUse)))).reshape((X.shape[-1], 1))\n",
      "    N = X.shape[0]\n",
      "    phi0 = np.ones((N, 1))\n",
      "    \n",
      "    sio.savemat(dataPath + dataSet + \"trainingExamplesForHogs\", {\"X\":X, \"w\":w})\n",
      "else :\n",
      "    ## use full rgb feats as frame features\n",
      "    if doRGB :\n",
      "        goodExamplesData = (imagesRGBData[:, goodPairsIdxs[0, :]]-imagesRGBData[:, goodPairsIdxs[1, :]])**np.float32(2)\n",
      "        print goodExamplesData.shape\n",
      "        badExamplesData = (imagesRGBData[:, badPairsIdxs[0, :]]-imagesRGBData[:, badPairsIdxs[1, :]])**np.float32(2)\n",
      "        print badExamplesData.shape\n",
      "    else :\n",
      "        goodExamplesData = (imagesGrayData[:, goodPairsIdxs[0, :]]-imagesGrayData[:, goodPairsIdxs[1, :]])**np.float32(2)\n",
      "        print goodExamplesData.shape\n",
      "        badExamplesData = (imagesGrayData[:, badPairsIdxs[0, :]]-imagesGrayData[:, badPairsIdxs[1, :]])**np.float32(2)\n",
      "        print badExamplesData.shape\n",
      "    if useRange :\n",
      "        goodExamplesData = goodExamplesData[:, int(np.floor(len(featsRange)/2)):-int(np.floor(len(featsRange)/2))]\n",
      "    \n",
      "#     X = np.concatenate((goodExamplesData, badExamplesData), axis=1)\n",
      "#     w = np.concatenate((np.zeros(goodExamplesData.shape[-1]), 10.0*np.ones(badExamplesData.shape[-1]))).reshape((X.shape[-1], 1))\n",
      "    X = np.concatenate((goodExamplesData[:, goodPairsToUse], badExamplesData[:, badPairsToUse]), axis=1)\n",
      "    w = np.concatenate((np.zeros(len(goodPairsToUse)), 10.0*np.ones(len(badPairsToUse)))).reshape((X.shape[-1], 1))\n",
      "    N = X.shape[0]\n",
      "    phi0 = np.ones((N, 1))\n",
      "    sio.savemat(dataPath + dataSet + \"trainingExamplesForImageData\", {\"X\":X, \"w\":w})\n",
      "    \n",
      "print \"used\", len(goodPairsToUse), \"good examples of\", goodExamplesData.shape[-1]\n",
      "print \"used\", len(badPairsToUse), \"bad examples of\", badExamplesData.shape[-1]\n",
      "print N, X.shape, w.shape, phi0.shape"
     ],
     "language": "python",
     "metadata": {},
     "outputs": [],
     "prompt_number": 13
    },
    {
     "cell_type": "code",
     "collapsed": false,
     "input": [
      "imageSize = np.array(Image.open(framePaths[0])).shape[0:2]\n",
      "print imageSize"
     ],
     "language": "python",
     "metadata": {},
     "outputs": [
      {
       "output_type": "stream",
       "stream": "stdout",
       "text": [
        "(720, 1280)\n",
        "(414720, 672)\n"
       ]
      }
     ],
     "prompt_number": 196
    },
    {
     "cell_type": "code",
     "collapsed": false,
     "input": [
      "## compute grid features for the training examples\n",
      "\n",
      "gridSize = np.array((10, 10))\n",
      "\n",
      "stencils3D = cgf.stencil3D(gridSize[0], gridSize[1], [imageSize[0], imageSize[1], 3])\n",
      "stencils2D = cgf.stencil2D(gridSize[0], gridSize[1], [imageSize[0], imageSize[1], 3])\n",
      "# figure(); imshow(im[:, :, 0][stencils2D[5]].reshape((180, 320)))\n",
      "# figure(); imshow(im[stencils3D[5]].reshape((180, 320, 3)))\n",
      "\n",
      "useFlow = True\n",
      "useAugment = True\n",
      "k = 1.0\n",
      "L = 10.0\n",
      "\n",
      "numTypes = 1\n",
      "if useAugment :\n",
      "    numTypes += 1\n",
      "if useFlow :\n",
      "    numTypes += 1\n",
      "\n",
      "t = time.time()\n",
      "## slow stupid way for now\n",
      "goodExamplesData = np.zeros((numTypes*np.prod(gridSize), len(goodPairsIdxs.T)))\n",
      "# goodExamplesData = np.concatenate((goodExamplesData, np.zeros((np.prod(gridSize), len(goodPairsIdxs.T)))))\n",
      "for i, pair in enumerate(goodPairsIdxs.T) :\n",
      "    \n",
      "    if useFlow :\n",
      "        flow = np.array(cv2.calcOpticalFlowFarneback(np.array(imagesGrayData[:, pair[0]].reshape(imageSize)*255, np.uint8),\n",
      "                                                     np.array(imagesGrayData[:, pair[1]].reshape(imageSize)*255, np.uint8),\n",
      "                                                     0.5, 3, 15, 3, 5, 1.1, 0), np.float64)\n",
      "        ## sigmoid\n",
      "        flow = L/(1.0+np.exp(-k*flow))\n",
      "    for j, stencil in enumerate(stencils2D) :\n",
      "        ## add average SSD to feature vector\n",
      "        goodExamplesData[j, i] = np.average((imagesGrayData[:, pair[0]].reshape(imageSize)[stencil]/1.0-imagesGrayData[:, pair[1]].reshape(imageSize)[stencil]/1.0)**2)\n",
      "        ## add average flow intensity\n",
      "        if useFlow :\n",
      "            goodExamplesData[j+np.prod(gridSize), i] = np.average(np.linalg.norm(np.array([flow[:, :, 0][stencil], flow[:, :, 1][stencil]]), axis=0))\n",
      "        \n",
      "        ## add augmentation to x\n",
      "        if useAugment :\n",
      "            shift = 2\n",
      "            if not useFlow :\n",
      "                shift = 1\n",
      "            goodExamplesData[j+shift*np.prod(gridSize), i] = np.average(((1.0-imagesGrayData[:, pair[0]].reshape(imageSize)[stencil])/1.0-imagesGrayData[:, pair[1]].reshape(imageSize)[stencil]/1.0)**2+\n",
      "                                                                        ((1.0-imagesGrayData[:, pair[1]].reshape(imageSize)[stencil])/1.0-imagesGrayData[:, pair[0]].reshape(imageSize)[stencil]/1.0)**2)\n",
      "        \n",
      "    sys.stdout.write('\\r' + \"Computed features for good pair \" + np.string_(i+1) + \" of \" + np.string_(len(goodPairsIdxs.T)))\n",
      "    sys.stdout.flush()\n",
      "print\n",
      "badExamplesData = np.zeros((numTypes*np.prod(gridSize), len(badPairsIdxs.T)))\n",
      "# badExamplesData = np.concatenate((badExamplesData, np.zeros((np.prod(gridSize), len(badPairsIdxs.T)))))\n",
      "for i, pair in enumerate(badPairsIdxs.T) :\n",
      "    \n",
      "    if useFlow :\n",
      "        flow = np.array(cv2.calcOpticalFlowFarneback(np.array(imagesGrayData[:, pair[0]].reshape(imageSize)*255, np.uint8),\n",
      "                                                     np.array(imagesGrayData[:, pair[1]].reshape(imageSize)*255, np.uint8),\n",
      "                                                     0.5, 3, 15, 3, 5, 1.1, 0), np.float64)\n",
      "        ## sigmoid\n",
      "        flow = L/(1.0+np.exp(-k*flow))\n",
      "    \n",
      "    for j, stencil in enumerate(stencils2D) :\n",
      "        ## add SSD to feature vector\n",
      "        badExamplesData[j, i] = np.average((imagesGrayData[:, pair[0]].reshape(imageSize)[stencil]/1.0-imagesGrayData[:, pair[1]].reshape(imageSize)[stencil]/1.0)**2)\n",
      "        ## add average flow intensity\n",
      "        if useFlow :\n",
      "            badExamplesData[j+np.prod(gridSize), i] = np.average(np.linalg.norm(np.array([flow[:, :, 0][stencil], flow[:, :, 1][stencil]]), axis=0))\n",
      "            \n",
      "        ## add augmentation to x\n",
      "        if useAugment :\n",
      "            shift = 2\n",
      "            if not useFlow :\n",
      "                shift = 1\n",
      "            badExamplesData[j+shift*np.prod(gridSize), i] = np.average(((1.0-imagesGrayData[:, pair[0]].reshape(imageSize)[stencil])/1.0-imagesGrayData[:, pair[1]].reshape(imageSize)[stencil]/1.0)**2+\n",
      "                                                                       ((1.0-imagesGrayData[:, pair[1]].reshape(imageSize)[stencil])/1.0-imagesGrayData[:, pair[0]].reshape(imageSize)[stencil]/1.0)**2)\n",
      "        \n",
      "    sys.stdout.write('\\r' + \"Computed features for bad pair \" + np.string_(i+1) + \" of \" + np.string_(len(badPairsIdxs.T)))\n",
      "    sys.stdout.flush()\n",
      "print \n",
      "print time.time() - t\n",
      "print goodPairsIdxs.shape\n",
      "print badPairsIdxs.shape"
     ],
     "language": "python",
     "metadata": {},
     "outputs": [
      {
       "output_type": "stream",
       "stream": "stdout",
       "text": [
        "\r",
        "Computed features for good pair 1 of 1216"
       ]
      },
      {
       "output_type": "stream",
       "stream": "stdout",
       "text": [
        "\r",
        "Computed features for good pair 2 of 1216"
       ]
      },
      {
       "output_type": "stream",
       "stream": "stdout",
       "text": [
        "\r",
        "Computed features for good pair 3 of 1216"
       ]
      },
      {
       "output_type": "stream",
       "stream": "stdout",
       "text": [
        "\r",
        "Computed features for good pair 4 of 1216"
       ]
      },
      {
       "output_type": "stream",
       "stream": "stdout",
       "text": [
        "\r",
        "Computed features for good pair 5 of 1216"
       ]
      },
      {
       "output_type": "stream",
       "stream": "stdout",
       "text": [
        "\r",
        "Computed features for good pair 6 of 1216"
       ]
      },
      {
       "output_type": "stream",
       "stream": "stdout",
       "text": [
        "\r",
        "Computed features for good pair 7 of 1216"
       ]
      },
      {
       "output_type": "stream",
       "stream": "stdout",
       "text": [
        "\r",
        "Computed features for good pair 8 of 1216"
       ]
      },
      {
       "output_type": "stream",
       "stream": "stdout",
       "text": [
        "\r",
        "Computed features for good pair 9 of 1216"
       ]
      },
      {
       "output_type": "stream",
       "stream": "stdout",
       "text": [
        "\r",
        "Computed features for good pair 10 of 1216"
       ]
      },
      {
       "output_type": "stream",
       "stream": "stdout",
       "text": [
        "\r",
        "Computed features for good pair 11 of 1216"
       ]
      },
      {
       "output_type": "stream",
       "stream": "stdout",
       "text": [
        "\r",
        "Computed features for good pair 12 of 1216"
       ]
      },
      {
       "output_type": "stream",
       "stream": "stdout",
       "text": [
        "\r",
        "Computed features for good pair 13 of 1216"
       ]
      },
      {
       "output_type": "stream",
       "stream": "stdout",
       "text": [
        "\r",
        "Computed features for good pair 14 of 1216"
       ]
      },
      {
       "output_type": "stream",
       "stream": "stdout",
       "text": [
        "\r",
        "Computed features for good pair 15 of 1216"
       ]
      },
      {
       "output_type": "stream",
       "stream": "stdout",
       "text": [
        "\r",
        "Computed features for good pair 16 of 1216"
       ]
      },
      {
       "output_type": "stream",
       "stream": "stdout",
       "text": [
        "\r",
        "Computed features for good pair 17 of 1216"
       ]
      },
      {
       "output_type": "stream",
       "stream": "stdout",
       "text": [
        "\r",
        "Computed features for good pair 18 of 1216"
       ]
      },
      {
       "output_type": "stream",
       "stream": "stdout",
       "text": [
        "\r",
        "Computed features for good pair 19 of 1216"
       ]
      },
      {
       "output_type": "stream",
       "stream": "stdout",
       "text": [
        "\r",
        "Computed features for good pair 20 of 1216"
       ]
      },
      {
       "output_type": "stream",
       "stream": "stdout",
       "text": [
        "\r",
        "Computed features for good pair 21 of 1216"
       ]
      },
      {
       "output_type": "stream",
       "stream": "stdout",
       "text": [
        "\r",
        "Computed features for good pair 22 of 1216"
       ]
      },
      {
       "output_type": "stream",
       "stream": "stdout",
       "text": [
        "\r",
        "Computed features for good pair 23 of 1216"
       ]
      },
      {
       "output_type": "stream",
       "stream": "stdout",
       "text": [
        "\r",
        "Computed features for good pair 24 of 1216"
       ]
      },
      {
       "output_type": "stream",
       "stream": "stdout",
       "text": [
        "\r",
        "Computed features for good pair 25 of 1216"
       ]
      },
      {
       "output_type": "stream",
       "stream": "stdout",
       "text": [
        "\r",
        "Computed features for good pair 26 of 1216"
       ]
      },
      {
       "output_type": "stream",
       "stream": "stdout",
       "text": [
        "\r",
        "Computed features for good pair 27 of 1216"
       ]
      },
      {
       "output_type": "stream",
       "stream": "stdout",
       "text": [
        "\r",
        "Computed features for good pair 28 of 1216"
       ]
      },
      {
       "output_type": "stream",
       "stream": "stdout",
       "text": [
        "\r",
        "Computed features for good pair 29 of 1216"
       ]
      },
      {
       "output_type": "stream",
       "stream": "stdout",
       "text": [
        "\r",
        "Computed features for good pair 30 of 1216"
       ]
      },
      {
       "output_type": "stream",
       "stream": "stdout",
       "text": [
        "\r",
        "Computed features for good pair 31 of 1216"
       ]
      },
      {
       "output_type": "stream",
       "stream": "stdout",
       "text": [
        "\r",
        "Computed features for good pair 32 of 1216"
       ]
      },
      {
       "output_type": "stream",
       "stream": "stdout",
       "text": [
        "\r",
        "Computed features for good pair 33 of 1216"
       ]
      },
      {
       "output_type": "stream",
       "stream": "stdout",
       "text": [
        "\r",
        "Computed features for good pair 34 of 1216"
       ]
      },
      {
       "output_type": "stream",
       "stream": "stdout",
       "text": [
        "\r",
        "Computed features for good pair 35 of 1216"
       ]
      },
      {
       "output_type": "stream",
       "stream": "stdout",
       "text": [
        "\r",
        "Computed features for good pair 36 of 1216"
       ]
      },
      {
       "output_type": "stream",
       "stream": "stdout",
       "text": [
        "\r",
        "Computed features for good pair 37 of 1216"
       ]
      },
      {
       "output_type": "stream",
       "stream": "stdout",
       "text": [
        "\r",
        "Computed features for good pair 38 of 1216"
       ]
      },
      {
       "output_type": "stream",
       "stream": "stdout",
       "text": [
        "\r",
        "Computed features for good pair 39 of 1216"
       ]
      },
      {
       "output_type": "stream",
       "stream": "stdout",
       "text": [
        "\r",
        "Computed features for good pair 40 of 1216"
       ]
      },
      {
       "output_type": "stream",
       "stream": "stdout",
       "text": [
        "\r",
        "Computed features for good pair 41 of 1216"
       ]
      },
      {
       "output_type": "stream",
       "stream": "stdout",
       "text": [
        "\r",
        "Computed features for good pair 42 of 1216"
       ]
      },
      {
       "output_type": "stream",
       "stream": "stdout",
       "text": [
        "\r",
        "Computed features for good pair 43 of 1216"
       ]
      },
      {
       "output_type": "stream",
       "stream": "stdout",
       "text": [
        "\r",
        "Computed features for good pair 44 of 1216"
       ]
      },
      {
       "output_type": "stream",
       "stream": "stdout",
       "text": [
        "\r",
        "Computed features for good pair 45 of 1216"
       ]
      },
      {
       "output_type": "stream",
       "stream": "stdout",
       "text": [
        "\r",
        "Computed features for good pair 46 of 1216"
       ]
      },
      {
       "output_type": "stream",
       "stream": "stdout",
       "text": [
        "\r",
        "Computed features for good pair 47 of 1216"
       ]
      },
      {
       "output_type": "stream",
       "stream": "stdout",
       "text": [
        "\r",
        "Computed features for good pair 48 of 1216"
       ]
      },
      {
       "output_type": "stream",
       "stream": "stdout",
       "text": [
        "\r",
        "Computed features for good pair 49 of 1216"
       ]
      },
      {
       "output_type": "stream",
       "stream": "stdout",
       "text": [
        "\r",
        "Computed features for good pair 50 of 1216"
       ]
      },
      {
       "output_type": "stream",
       "stream": "stdout",
       "text": [
        "\r",
        "Computed features for good pair 51 of 1216"
       ]
      },
      {
       "output_type": "stream",
       "stream": "stdout",
       "text": [
        "\r",
        "Computed features for good pair 52 of 1216"
       ]
      },
      {
       "output_type": "stream",
       "stream": "stdout",
       "text": [
        "\r",
        "Computed features for good pair 53 of 1216"
       ]
      },
      {
       "output_type": "stream",
       "stream": "stdout",
       "text": [
        "\r",
        "Computed features for good pair 54 of 1216"
       ]
      },
      {
       "output_type": "stream",
       "stream": "stdout",
       "text": [
        "\r",
        "Computed features for good pair 55 of 1216"
       ]
      },
      {
       "output_type": "stream",
       "stream": "stdout",
       "text": [
        "\r",
        "Computed features for good pair 56 of 1216"
       ]
      },
      {
       "output_type": "stream",
       "stream": "stdout",
       "text": [
        "\r",
        "Computed features for good pair 57 of 1216"
       ]
      },
      {
       "output_type": "stream",
       "stream": "stdout",
       "text": [
        "\r",
        "Computed features for good pair 58 of 1216"
       ]
      },
      {
       "output_type": "stream",
       "stream": "stdout",
       "text": [
        "\r",
        "Computed features for good pair 59 of 1216"
       ]
      },
      {
       "output_type": "stream",
       "stream": "stdout",
       "text": [
        "\r",
        "Computed features for good pair 60 of 1216"
       ]
      },
      {
       "output_type": "stream",
       "stream": "stdout",
       "text": [
        "\r",
        "Computed features for good pair 61 of 1216"
       ]
      },
      {
       "output_type": "stream",
       "stream": "stdout",
       "text": [
        "\r",
        "Computed features for good pair 62 of 1216"
       ]
      },
      {
       "output_type": "stream",
       "stream": "stdout",
       "text": [
        "\r",
        "Computed features for good pair 63 of 1216"
       ]
      },
      {
       "output_type": "stream",
       "stream": "stdout",
       "text": [
        "\r",
        "Computed features for good pair 64 of 1216"
       ]
      },
      {
       "output_type": "stream",
       "stream": "stdout",
       "text": [
        "\r",
        "Computed features for good pair 65 of 1216"
       ]
      },
      {
       "output_type": "stream",
       "stream": "stdout",
       "text": [
        "\r",
        "Computed features for good pair 66 of 1216"
       ]
      },
      {
       "output_type": "stream",
       "stream": "stdout",
       "text": [
        "\r",
        "Computed features for good pair 67 of 1216"
       ]
      },
      {
       "output_type": "stream",
       "stream": "stdout",
       "text": [
        "\r",
        "Computed features for good pair 68 of 1216"
       ]
      },
      {
       "output_type": "stream",
       "stream": "stdout",
       "text": [
        "\r",
        "Computed features for good pair 69 of 1216"
       ]
      },
      {
       "output_type": "stream",
       "stream": "stdout",
       "text": [
        "\r",
        "Computed features for good pair 70 of 1216"
       ]
      },
      {
       "output_type": "stream",
       "stream": "stdout",
       "text": [
        "\r",
        "Computed features for good pair 71 of 1216"
       ]
      },
      {
       "output_type": "stream",
       "stream": "stdout",
       "text": [
        "\r",
        "Computed features for good pair 72 of 1216"
       ]
      },
      {
       "output_type": "stream",
       "stream": "stdout",
       "text": [
        "\r",
        "Computed features for good pair 73 of 1216"
       ]
      },
      {
       "output_type": "stream",
       "stream": "stdout",
       "text": [
        "\r",
        "Computed features for good pair 74 of 1216"
       ]
      },
      {
       "output_type": "stream",
       "stream": "stdout",
       "text": [
        "\r",
        "Computed features for good pair 75 of 1216"
       ]
      },
      {
       "output_type": "stream",
       "stream": "stdout",
       "text": [
        "\r",
        "Computed features for good pair 76 of 1216"
       ]
      },
      {
       "output_type": "stream",
       "stream": "stdout",
       "text": [
        "\r",
        "Computed features for good pair 77 of 1216"
       ]
      },
      {
       "output_type": "stream",
       "stream": "stdout",
       "text": [
        "\r",
        "Computed features for good pair 78 of 1216"
       ]
      },
      {
       "output_type": "stream",
       "stream": "stdout",
       "text": [
        "\r",
        "Computed features for good pair 79 of 1216"
       ]
      },
      {
       "output_type": "stream",
       "stream": "stdout",
       "text": [
        "\r",
        "Computed features for good pair 80 of 1216"
       ]
      },
      {
       "output_type": "stream",
       "stream": "stdout",
       "text": [
        "\r",
        "Computed features for good pair 81 of 1216"
       ]
      },
      {
       "output_type": "stream",
       "stream": "stdout",
       "text": [
        "\r",
        "Computed features for good pair 82 of 1216"
       ]
      },
      {
       "output_type": "stream",
       "stream": "stdout",
       "text": [
        "\r",
        "Computed features for good pair 83 of 1216"
       ]
      },
      {
       "output_type": "stream",
       "stream": "stdout",
       "text": [
        "\r",
        "Computed features for good pair 84 of 1216"
       ]
      },
      {
       "output_type": "stream",
       "stream": "stdout",
       "text": [
        "\r",
        "Computed features for good pair 85 of 1216"
       ]
      },
      {
       "output_type": "stream",
       "stream": "stdout",
       "text": [
        "\r",
        "Computed features for good pair 86 of 1216"
       ]
      },
      {
       "output_type": "stream",
       "stream": "stdout",
       "text": [
        "\r",
        "Computed features for good pair 87 of 1216"
       ]
      },
      {
       "output_type": "stream",
       "stream": "stdout",
       "text": [
        "\r",
        "Computed features for good pair 88 of 1216"
       ]
      },
      {
       "output_type": "stream",
       "stream": "stdout",
       "text": [
        "\r",
        "Computed features for good pair 89 of 1216"
       ]
      },
      {
       "output_type": "stream",
       "stream": "stdout",
       "text": [
        "\r",
        "Computed features for good pair 90 of 1216"
       ]
      },
      {
       "output_type": "stream",
       "stream": "stdout",
       "text": [
        "\r",
        "Computed features for good pair 91 of 1216"
       ]
      },
      {
       "output_type": "stream",
       "stream": "stdout",
       "text": [
        "\r",
        "Computed features for good pair 92 of 1216"
       ]
      },
      {
       "output_type": "stream",
       "stream": "stdout",
       "text": [
        "\r",
        "Computed features for good pair 93 of 1216"
       ]
      },
      {
       "output_type": "stream",
       "stream": "stdout",
       "text": [
        "\r",
        "Computed features for good pair 94 of 1216"
       ]
      },
      {
       "output_type": "stream",
       "stream": "stdout",
       "text": [
        "\r",
        "Computed features for good pair 95 of 1216"
       ]
      },
      {
       "output_type": "stream",
       "stream": "stdout",
       "text": [
        "\r",
        "Computed features for good pair 96 of 1216"
       ]
      },
      {
       "output_type": "stream",
       "stream": "stdout",
       "text": [
        "\r",
        "Computed features for good pair 97 of 1216"
       ]
      },
      {
       "output_type": "stream",
       "stream": "stdout",
       "text": [
        "\r",
        "Computed features for good pair 98 of 1216"
       ]
      },
      {
       "output_type": "stream",
       "stream": "stdout",
       "text": [
        "\r",
        "Computed features for good pair 99 of 1216"
       ]
      },
      {
       "output_type": "stream",
       "stream": "stdout",
       "text": [
        "\r",
        "Computed features for good pair 100 of 1216"
       ]
      },
      {
       "output_type": "stream",
       "stream": "stdout",
       "text": [
        "\r",
        "Computed features for good pair 101 of 1216"
       ]
      },
      {
       "output_type": "stream",
       "stream": "stdout",
       "text": [
        "\r",
        "Computed features for good pair 102 of 1216"
       ]
      },
      {
       "output_type": "stream",
       "stream": "stdout",
       "text": [
        "\r",
        "Computed features for good pair 103 of 1216"
       ]
      },
      {
       "output_type": "stream",
       "stream": "stdout",
       "text": [
        "\r",
        "Computed features for good pair 104 of 1216"
       ]
      },
      {
       "output_type": "stream",
       "stream": "stdout",
       "text": [
        "\r",
        "Computed features for good pair 105 of 1216"
       ]
      },
      {
       "output_type": "stream",
       "stream": "stdout",
       "text": [
        "\r",
        "Computed features for good pair 106 of 1216"
       ]
      },
      {
       "output_type": "stream",
       "stream": "stdout",
       "text": [
        "\r",
        "Computed features for good pair 107 of 1216"
       ]
      },
      {
       "output_type": "stream",
       "stream": "stdout",
       "text": [
        "\r",
        "Computed features for good pair 108 of 1216"
       ]
      },
      {
       "output_type": "stream",
       "stream": "stdout",
       "text": [
        "\r",
        "Computed features for good pair 109 of 1216"
       ]
      },
      {
       "output_type": "stream",
       "stream": "stdout",
       "text": [
        "\r",
        "Computed features for good pair 110 of 1216"
       ]
      },
      {
       "output_type": "stream",
       "stream": "stdout",
       "text": [
        "\r",
        "Computed features for good pair 111 of 1216"
       ]
      },
      {
       "output_type": "stream",
       "stream": "stdout",
       "text": [
        "\r",
        "Computed features for good pair 112 of 1216"
       ]
      },
      {
       "output_type": "stream",
       "stream": "stdout",
       "text": [
        "\r",
        "Computed features for good pair 113 of 1216"
       ]
      },
      {
       "output_type": "stream",
       "stream": "stdout",
       "text": [
        "\r",
        "Computed features for good pair 114 of 1216"
       ]
      },
      {
       "output_type": "stream",
       "stream": "stdout",
       "text": [
        "\r",
        "Computed features for good pair 115 of 1216"
       ]
      },
      {
       "output_type": "stream",
       "stream": "stdout",
       "text": [
        "\r",
        "Computed features for good pair 116 of 1216"
       ]
      },
      {
       "output_type": "stream",
       "stream": "stdout",
       "text": [
        "\r",
        "Computed features for good pair 117 of 1216"
       ]
      },
      {
       "output_type": "stream",
       "stream": "stdout",
       "text": [
        "\r",
        "Computed features for good pair 118 of 1216"
       ]
      },
      {
       "output_type": "stream",
       "stream": "stdout",
       "text": [
        "\r",
        "Computed features for good pair 119 of 1216"
       ]
      },
      {
       "output_type": "stream",
       "stream": "stdout",
       "text": [
        "\r",
        "Computed features for good pair 120 of 1216"
       ]
      },
      {
       "output_type": "stream",
       "stream": "stdout",
       "text": [
        "\r",
        "Computed features for good pair 121 of 1216"
       ]
      },
      {
       "output_type": "stream",
       "stream": "stdout",
       "text": [
        "\r",
        "Computed features for good pair 122 of 1216"
       ]
      },
      {
       "output_type": "stream",
       "stream": "stdout",
       "text": [
        "\r",
        "Computed features for good pair 123 of 1216"
       ]
      },
      {
       "output_type": "stream",
       "stream": "stdout",
       "text": [
        "\r",
        "Computed features for good pair 124 of 1216"
       ]
      },
      {
       "output_type": "stream",
       "stream": "stdout",
       "text": [
        "\r",
        "Computed features for good pair 125 of 1216"
       ]
      },
      {
       "output_type": "stream",
       "stream": "stdout",
       "text": [
        "\r",
        "Computed features for good pair 126 of 1216"
       ]
      },
      {
       "output_type": "stream",
       "stream": "stdout",
       "text": [
        "\r",
        "Computed features for good pair 127 of 1216"
       ]
      },
      {
       "output_type": "stream",
       "stream": "stdout",
       "text": [
        "\r",
        "Computed features for good pair 128 of 1216"
       ]
      },
      {
       "output_type": "stream",
       "stream": "stdout",
       "text": [
        "\r",
        "Computed features for good pair 129 of 1216"
       ]
      },
      {
       "output_type": "stream",
       "stream": "stdout",
       "text": [
        "\r",
        "Computed features for good pair 130 of 1216"
       ]
      },
      {
       "output_type": "stream",
       "stream": "stdout",
       "text": [
        "\r",
        "Computed features for good pair 131 of 1216"
       ]
      },
      {
       "output_type": "stream",
       "stream": "stdout",
       "text": [
        "\r",
        "Computed features for good pair 132 of 1216"
       ]
      },
      {
       "output_type": "stream",
       "stream": "stdout",
       "text": [
        "\r",
        "Computed features for good pair 133 of 1216"
       ]
      },
      {
       "output_type": "stream",
       "stream": "stdout",
       "text": [
        "\r",
        "Computed features for good pair 134 of 1216"
       ]
      },
      {
       "output_type": "stream",
       "stream": "stdout",
       "text": [
        "\r",
        "Computed features for good pair 135 of 1216"
       ]
      },
      {
       "output_type": "stream",
       "stream": "stdout",
       "text": [
        "\r",
        "Computed features for good pair 136 of 1216"
       ]
      },
      {
       "output_type": "stream",
       "stream": "stdout",
       "text": [
        "\r",
        "Computed features for good pair 137 of 1216"
       ]
      },
      {
       "output_type": "stream",
       "stream": "stdout",
       "text": [
        "\r",
        "Computed features for good pair 138 of 1216"
       ]
      },
      {
       "output_type": "stream",
       "stream": "stdout",
       "text": [
        "\r",
        "Computed features for good pair 139 of 1216"
       ]
      },
      {
       "output_type": "stream",
       "stream": "stdout",
       "text": [
        "\r",
        "Computed features for good pair 140 of 1216"
       ]
      },
      {
       "output_type": "stream",
       "stream": "stdout",
       "text": [
        "\r",
        "Computed features for good pair 141 of 1216"
       ]
      },
      {
       "output_type": "stream",
       "stream": "stdout",
       "text": [
        "\r",
        "Computed features for good pair 142 of 1216"
       ]
      },
      {
       "output_type": "stream",
       "stream": "stdout",
       "text": [
        "\r",
        "Computed features for good pair 143 of 1216"
       ]
      },
      {
       "output_type": "stream",
       "stream": "stdout",
       "text": [
        "\r",
        "Computed features for good pair 144 of 1216"
       ]
      },
      {
       "output_type": "stream",
       "stream": "stdout",
       "text": [
        "\r",
        "Computed features for good pair 145 of 1216"
       ]
      },
      {
       "output_type": "stream",
       "stream": "stdout",
       "text": [
        "\r",
        "Computed features for good pair 146 of 1216"
       ]
      },
      {
       "output_type": "stream",
       "stream": "stdout",
       "text": [
        "\r",
        "Computed features for good pair 147 of 1216"
       ]
      },
      {
       "output_type": "stream",
       "stream": "stdout",
       "text": [
        "\r",
        "Computed features for good pair 148 of 1216"
       ]
      },
      {
       "output_type": "stream",
       "stream": "stdout",
       "text": [
        "\r",
        "Computed features for good pair 149 of 1216"
       ]
      },
      {
       "output_type": "stream",
       "stream": "stdout",
       "text": [
        "\r",
        "Computed features for good pair 150 of 1216"
       ]
      },
      {
       "output_type": "stream",
       "stream": "stdout",
       "text": [
        "\r",
        "Computed features for good pair 151 of 1216"
       ]
      },
      {
       "output_type": "stream",
       "stream": "stdout",
       "text": [
        "\r",
        "Computed features for good pair 152 of 1216"
       ]
      },
      {
       "output_type": "stream",
       "stream": "stdout",
       "text": [
        "\r",
        "Computed features for good pair 153 of 1216"
       ]
      },
      {
       "output_type": "stream",
       "stream": "stdout",
       "text": [
        "\r",
        "Computed features for good pair 154 of 1216"
       ]
      },
      {
       "output_type": "stream",
       "stream": "stdout",
       "text": [
        "\r",
        "Computed features for good pair 155 of 1216"
       ]
      },
      {
       "output_type": "stream",
       "stream": "stdout",
       "text": [
        "\r",
        "Computed features for good pair 156 of 1216"
       ]
      },
      {
       "output_type": "stream",
       "stream": "stdout",
       "text": [
        "\r",
        "Computed features for good pair 157 of 1216"
       ]
      },
      {
       "output_type": "stream",
       "stream": "stdout",
       "text": [
        "\r",
        "Computed features for good pair 158 of 1216"
       ]
      },
      {
       "output_type": "stream",
       "stream": "stdout",
       "text": [
        "\r",
        "Computed features for good pair 159 of 1216"
       ]
      },
      {
       "output_type": "stream",
       "stream": "stdout",
       "text": [
        "\r",
        "Computed features for good pair 160 of 1216"
       ]
      },
      {
       "output_type": "stream",
       "stream": "stdout",
       "text": [
        "\r",
        "Computed features for good pair 161 of 1216"
       ]
      },
      {
       "output_type": "stream",
       "stream": "stdout",
       "text": [
        "\r",
        "Computed features for good pair 162 of 1216"
       ]
      },
      {
       "output_type": "stream",
       "stream": "stdout",
       "text": [
        "\r",
        "Computed features for good pair 163 of 1216"
       ]
      },
      {
       "output_type": "stream",
       "stream": "stdout",
       "text": [
        "\r",
        "Computed features for good pair 164 of 1216"
       ]
      },
      {
       "output_type": "stream",
       "stream": "stdout",
       "text": [
        "\r",
        "Computed features for good pair 165 of 1216"
       ]
      },
      {
       "output_type": "stream",
       "stream": "stdout",
       "text": [
        "\r",
        "Computed features for good pair 166 of 1216"
       ]
      },
      {
       "output_type": "stream",
       "stream": "stdout",
       "text": [
        "\r",
        "Computed features for good pair 167 of 1216"
       ]
      },
      {
       "output_type": "stream",
       "stream": "stdout",
       "text": [
        "\r",
        "Computed features for good pair 168 of 1216"
       ]
      },
      {
       "output_type": "stream",
       "stream": "stdout",
       "text": [
        "\r",
        "Computed features for good pair 169 of 1216"
       ]
      },
      {
       "output_type": "stream",
       "stream": "stdout",
       "text": [
        "\r",
        "Computed features for good pair 170 of 1216"
       ]
      },
      {
       "output_type": "stream",
       "stream": "stdout",
       "text": [
        "\r",
        "Computed features for good pair 171 of 1216"
       ]
      },
      {
       "output_type": "stream",
       "stream": "stdout",
       "text": [
        "\r",
        "Computed features for good pair 172 of 1216"
       ]
      },
      {
       "output_type": "stream",
       "stream": "stdout",
       "text": [
        "\r",
        "Computed features for good pair 173 of 1216"
       ]
      },
      {
       "output_type": "stream",
       "stream": "stdout",
       "text": [
        "\r",
        "Computed features for good pair 174 of 1216"
       ]
      },
      {
       "output_type": "stream",
       "stream": "stdout",
       "text": [
        "\r",
        "Computed features for good pair 175 of 1216"
       ]
      },
      {
       "output_type": "stream",
       "stream": "stdout",
       "text": [
        "\r",
        "Computed features for good pair 176 of 1216"
       ]
      },
      {
       "output_type": "stream",
       "stream": "stdout",
       "text": [
        "\r",
        "Computed features for good pair 177 of 1216"
       ]
      },
      {
       "output_type": "stream",
       "stream": "stdout",
       "text": [
        "\r",
        "Computed features for good pair 178 of 1216"
       ]
      },
      {
       "output_type": "stream",
       "stream": "stdout",
       "text": [
        "\r",
        "Computed features for good pair 179 of 1216"
       ]
      },
      {
       "output_type": "stream",
       "stream": "stdout",
       "text": [
        "\r",
        "Computed features for good pair 180 of 1216"
       ]
      },
      {
       "output_type": "stream",
       "stream": "stdout",
       "text": [
        "\r",
        "Computed features for good pair 181 of 1216"
       ]
      },
      {
       "output_type": "stream",
       "stream": "stdout",
       "text": [
        "\r",
        "Computed features for good pair 182 of 1216"
       ]
      },
      {
       "output_type": "stream",
       "stream": "stdout",
       "text": [
        "\r",
        "Computed features for good pair 183 of 1216"
       ]
      },
      {
       "output_type": "stream",
       "stream": "stdout",
       "text": [
        "\r",
        "Computed features for good pair 184 of 1216"
       ]
      },
      {
       "output_type": "stream",
       "stream": "stdout",
       "text": [
        "\r",
        "Computed features for good pair 185 of 1216"
       ]
      },
      {
       "output_type": "stream",
       "stream": "stdout",
       "text": [
        "\r",
        "Computed features for good pair 186 of 1216"
       ]
      },
      {
       "output_type": "stream",
       "stream": "stdout",
       "text": [
        "\r",
        "Computed features for good pair 187 of 1216"
       ]
      },
      {
       "output_type": "stream",
       "stream": "stdout",
       "text": [
        "\r",
        "Computed features for good pair 188 of 1216"
       ]
      },
      {
       "output_type": "stream",
       "stream": "stdout",
       "text": [
        "\r",
        "Computed features for good pair 189 of 1216"
       ]
      },
      {
       "output_type": "stream",
       "stream": "stdout",
       "text": [
        "\r",
        "Computed features for good pair 190 of 1216"
       ]
      },
      {
       "output_type": "stream",
       "stream": "stdout",
       "text": [
        "\r",
        "Computed features for good pair 191 of 1216"
       ]
      },
      {
       "output_type": "stream",
       "stream": "stdout",
       "text": [
        "\r",
        "Computed features for good pair 192 of 1216"
       ]
      },
      {
       "output_type": "stream",
       "stream": "stdout",
       "text": [
        "\r",
        "Computed features for good pair 193 of 1216"
       ]
      },
      {
       "output_type": "stream",
       "stream": "stdout",
       "text": [
        "\r",
        "Computed features for good pair 194 of 1216"
       ]
      },
      {
       "output_type": "stream",
       "stream": "stdout",
       "text": [
        "\r",
        "Computed features for good pair 195 of 1216"
       ]
      },
      {
       "output_type": "stream",
       "stream": "stdout",
       "text": [
        "\r",
        "Computed features for good pair 196 of 1216"
       ]
      },
      {
       "output_type": "stream",
       "stream": "stdout",
       "text": [
        "\r",
        "Computed features for good pair 197 of 1216"
       ]
      },
      {
       "output_type": "stream",
       "stream": "stdout",
       "text": [
        "\r",
        "Computed features for good pair 198 of 1216"
       ]
      },
      {
       "output_type": "stream",
       "stream": "stdout",
       "text": [
        "\r",
        "Computed features for good pair 199 of 1216"
       ]
      },
      {
       "output_type": "stream",
       "stream": "stdout",
       "text": [
        "\r",
        "Computed features for good pair 200 of 1216"
       ]
      },
      {
       "output_type": "stream",
       "stream": "stdout",
       "text": [
        "\r",
        "Computed features for good pair 201 of 1216"
       ]
      },
      {
       "output_type": "stream",
       "stream": "stdout",
       "text": [
        "\r",
        "Computed features for good pair 202 of 1216"
       ]
      },
      {
       "output_type": "stream",
       "stream": "stdout",
       "text": [
        "\r",
        "Computed features for good pair 203 of 1216"
       ]
      },
      {
       "output_type": "stream",
       "stream": "stdout",
       "text": [
        "\r",
        "Computed features for good pair 204 of 1216"
       ]
      },
      {
       "output_type": "stream",
       "stream": "stdout",
       "text": [
        "\r",
        "Computed features for good pair 205 of 1216"
       ]
      },
      {
       "output_type": "stream",
       "stream": "stdout",
       "text": [
        "\r",
        "Computed features for good pair 206 of 1216"
       ]
      },
      {
       "output_type": "stream",
       "stream": "stdout",
       "text": [
        "\r",
        "Computed features for good pair 207 of 1216"
       ]
      },
      {
       "output_type": "stream",
       "stream": "stdout",
       "text": [
        "\r",
        "Computed features for good pair 208 of 1216"
       ]
      },
      {
       "output_type": "stream",
       "stream": "stdout",
       "text": [
        "\r",
        "Computed features for good pair 209 of 1216"
       ]
      },
      {
       "output_type": "stream",
       "stream": "stdout",
       "text": [
        "\r",
        "Computed features for good pair 210 of 1216"
       ]
      },
      {
       "output_type": "stream",
       "stream": "stdout",
       "text": [
        "\r",
        "Computed features for good pair 211 of 1216"
       ]
      },
      {
       "output_type": "stream",
       "stream": "stdout",
       "text": [
        "\r",
        "Computed features for good pair 212 of 1216"
       ]
      },
      {
       "output_type": "stream",
       "stream": "stdout",
       "text": [
        "\r",
        "Computed features for good pair 213 of 1216"
       ]
      },
      {
       "output_type": "stream",
       "stream": "stdout",
       "text": [
        "\r",
        "Computed features for good pair 214 of 1216"
       ]
      },
      {
       "output_type": "stream",
       "stream": "stdout",
       "text": [
        "\r",
        "Computed features for good pair 215 of 1216"
       ]
      },
      {
       "output_type": "stream",
       "stream": "stdout",
       "text": [
        "\r",
        "Computed features for good pair 216 of 1216"
       ]
      },
      {
       "output_type": "stream",
       "stream": "stdout",
       "text": [
        "\r",
        "Computed features for good pair 217 of 1216"
       ]
      },
      {
       "output_type": "stream",
       "stream": "stdout",
       "text": [
        "\r",
        "Computed features for good pair 218 of 1216"
       ]
      },
      {
       "output_type": "stream",
       "stream": "stdout",
       "text": [
        "\r",
        "Computed features for good pair 219 of 1216"
       ]
      },
      {
       "output_type": "stream",
       "stream": "stdout",
       "text": [
        "\r",
        "Computed features for good pair 220 of 1216"
       ]
      },
      {
       "output_type": "stream",
       "stream": "stdout",
       "text": [
        "\r",
        "Computed features for good pair 221 of 1216"
       ]
      },
      {
       "output_type": "stream",
       "stream": "stdout",
       "text": [
        "\r",
        "Computed features for good pair 222 of 1216"
       ]
      },
      {
       "output_type": "stream",
       "stream": "stdout",
       "text": [
        "\r",
        "Computed features for good pair 223 of 1216"
       ]
      },
      {
       "output_type": "stream",
       "stream": "stdout",
       "text": [
        "\r",
        "Computed features for good pair 224 of 1216"
       ]
      },
      {
       "output_type": "stream",
       "stream": "stdout",
       "text": [
        "\r",
        "Computed features for good pair 225 of 1216"
       ]
      },
      {
       "output_type": "stream",
       "stream": "stdout",
       "text": [
        "\r",
        "Computed features for good pair 226 of 1216"
       ]
      },
      {
       "output_type": "stream",
       "stream": "stdout",
       "text": [
        "\r",
        "Computed features for good pair 227 of 1216"
       ]
      },
      {
       "output_type": "stream",
       "stream": "stdout",
       "text": [
        "\r",
        "Computed features for good pair 228 of 1216"
       ]
      },
      {
       "output_type": "stream",
       "stream": "stdout",
       "text": [
        "\r",
        "Computed features for good pair 229 of 1216"
       ]
      },
      {
       "output_type": "stream",
       "stream": "stdout",
       "text": [
        "\r",
        "Computed features for good pair 230 of 1216"
       ]
      },
      {
       "output_type": "stream",
       "stream": "stdout",
       "text": [
        "\r",
        "Computed features for good pair 231 of 1216"
       ]
      },
      {
       "output_type": "stream",
       "stream": "stdout",
       "text": [
        "\r",
        "Computed features for good pair 232 of 1216"
       ]
      },
      {
       "output_type": "stream",
       "stream": "stdout",
       "text": [
        "\r",
        "Computed features for good pair 233 of 1216"
       ]
      },
      {
       "output_type": "stream",
       "stream": "stdout",
       "text": [
        "\r",
        "Computed features for good pair 234 of 1216"
       ]
      },
      {
       "output_type": "stream",
       "stream": "stdout",
       "text": [
        "\r",
        "Computed features for good pair 235 of 1216"
       ]
      },
      {
       "output_type": "stream",
       "stream": "stdout",
       "text": [
        "\r",
        "Computed features for good pair 236 of 1216"
       ]
      },
      {
       "output_type": "stream",
       "stream": "stdout",
       "text": [
        "\r",
        "Computed features for good pair 237 of 1216"
       ]
      },
      {
       "output_type": "stream",
       "stream": "stdout",
       "text": [
        "\r",
        "Computed features for good pair 238 of 1216"
       ]
      },
      {
       "output_type": "stream",
       "stream": "stdout",
       "text": [
        "\r",
        "Computed features for good pair 239 of 1216"
       ]
      },
      {
       "output_type": "stream",
       "stream": "stdout",
       "text": [
        "\r",
        "Computed features for good pair 240 of 1216"
       ]
      },
      {
       "output_type": "stream",
       "stream": "stdout",
       "text": [
        "\r",
        "Computed features for good pair 241 of 1216"
       ]
      },
      {
       "output_type": "stream",
       "stream": "stdout",
       "text": [
        "\r",
        "Computed features for good pair 242 of 1216"
       ]
      },
      {
       "output_type": "stream",
       "stream": "stdout",
       "text": [
        "\r",
        "Computed features for good pair 243 of 1216"
       ]
      },
      {
       "output_type": "stream",
       "stream": "stdout",
       "text": [
        "\r",
        "Computed features for good pair 244 of 1216"
       ]
      },
      {
       "output_type": "stream",
       "stream": "stdout",
       "text": [
        "\r",
        "Computed features for good pair 245 of 1216"
       ]
      },
      {
       "output_type": "stream",
       "stream": "stdout",
       "text": [
        "\r",
        "Computed features for good pair 246 of 1216"
       ]
      },
      {
       "output_type": "stream",
       "stream": "stdout",
       "text": [
        "\r",
        "Computed features for good pair 247 of 1216"
       ]
      },
      {
       "output_type": "stream",
       "stream": "stdout",
       "text": [
        "\r",
        "Computed features for good pair 248 of 1216"
       ]
      },
      {
       "output_type": "stream",
       "stream": "stdout",
       "text": [
        "\r",
        "Computed features for good pair 249 of 1216"
       ]
      },
      {
       "output_type": "stream",
       "stream": "stdout",
       "text": [
        "\r",
        "Computed features for good pair 250 of 1216"
       ]
      },
      {
       "output_type": "stream",
       "stream": "stdout",
       "text": [
        "\r",
        "Computed features for good pair 251 of 1216"
       ]
      },
      {
       "output_type": "stream",
       "stream": "stdout",
       "text": [
        "\r",
        "Computed features for good pair 252 of 1216"
       ]
      },
      {
       "output_type": "stream",
       "stream": "stdout",
       "text": [
        "\r",
        "Computed features for good pair 253 of 1216"
       ]
      },
      {
       "output_type": "stream",
       "stream": "stdout",
       "text": [
        "\r",
        "Computed features for good pair 254 of 1216"
       ]
      },
      {
       "output_type": "stream",
       "stream": "stdout",
       "text": [
        "\r",
        "Computed features for good pair 255 of 1216"
       ]
      },
      {
       "output_type": "stream",
       "stream": "stdout",
       "text": [
        "\r",
        "Computed features for good pair 256 of 1216"
       ]
      },
      {
       "output_type": "stream",
       "stream": "stdout",
       "text": [
        "\r",
        "Computed features for good pair 257 of 1216"
       ]
      },
      {
       "output_type": "stream",
       "stream": "stdout",
       "text": [
        "\r",
        "Computed features for good pair 258 of 1216"
       ]
      },
      {
       "output_type": "stream",
       "stream": "stdout",
       "text": [
        "\r",
        "Computed features for good pair 259 of 1216"
       ]
      },
      {
       "output_type": "stream",
       "stream": "stdout",
       "text": [
        "\r",
        "Computed features for good pair 260 of 1216"
       ]
      },
      {
       "output_type": "stream",
       "stream": "stdout",
       "text": [
        "\r",
        "Computed features for good pair 261 of 1216"
       ]
      },
      {
       "output_type": "stream",
       "stream": "stdout",
       "text": [
        "\r",
        "Computed features for good pair 262 of 1216"
       ]
      },
      {
       "output_type": "stream",
       "stream": "stdout",
       "text": [
        "\r",
        "Computed features for good pair 263 of 1216"
       ]
      },
      {
       "output_type": "stream",
       "stream": "stdout",
       "text": [
        "\r",
        "Computed features for good pair 264 of 1216"
       ]
      },
      {
       "output_type": "stream",
       "stream": "stdout",
       "text": [
        "\r",
        "Computed features for good pair 265 of 1216"
       ]
      },
      {
       "output_type": "stream",
       "stream": "stdout",
       "text": [
        "\r",
        "Computed features for good pair 266 of 1216"
       ]
      },
      {
       "output_type": "stream",
       "stream": "stdout",
       "text": [
        "\r",
        "Computed features for good pair 267 of 1216"
       ]
      },
      {
       "output_type": "stream",
       "stream": "stdout",
       "text": [
        "\r",
        "Computed features for good pair 268 of 1216"
       ]
      },
      {
       "output_type": "stream",
       "stream": "stdout",
       "text": [
        "\r",
        "Computed features for good pair 269 of 1216"
       ]
      },
      {
       "output_type": "stream",
       "stream": "stdout",
       "text": [
        "\r",
        "Computed features for good pair 270 of 1216"
       ]
      },
      {
       "output_type": "stream",
       "stream": "stdout",
       "text": [
        "\r",
        "Computed features for good pair 271 of 1216"
       ]
      },
      {
       "output_type": "stream",
       "stream": "stdout",
       "text": [
        "\r",
        "Computed features for good pair 272 of 1216"
       ]
      },
      {
       "output_type": "stream",
       "stream": "stdout",
       "text": [
        "\r",
        "Computed features for good pair 273 of 1216"
       ]
      },
      {
       "output_type": "stream",
       "stream": "stdout",
       "text": [
        "\r",
        "Computed features for good pair 274 of 1216"
       ]
      },
      {
       "output_type": "stream",
       "stream": "stdout",
       "text": [
        "\r",
        "Computed features for good pair 275 of 1216"
       ]
      },
      {
       "output_type": "stream",
       "stream": "stdout",
       "text": [
        "\r",
        "Computed features for good pair 276 of 1216"
       ]
      },
      {
       "output_type": "stream",
       "stream": "stdout",
       "text": [
        "\r",
        "Computed features for good pair 277 of 1216"
       ]
      },
      {
       "output_type": "stream",
       "stream": "stdout",
       "text": [
        "\r",
        "Computed features for good pair 278 of 1216"
       ]
      },
      {
       "output_type": "stream",
       "stream": "stdout",
       "text": [
        "\r",
        "Computed features for good pair 279 of 1216"
       ]
      },
      {
       "output_type": "stream",
       "stream": "stdout",
       "text": [
        "\r",
        "Computed features for good pair 280 of 1216"
       ]
      },
      {
       "output_type": "stream",
       "stream": "stdout",
       "text": [
        "\r",
        "Computed features for good pair 281 of 1216"
       ]
      },
      {
       "output_type": "stream",
       "stream": "stdout",
       "text": [
        "\r",
        "Computed features for good pair 282 of 1216"
       ]
      },
      {
       "output_type": "stream",
       "stream": "stdout",
       "text": [
        "\r",
        "Computed features for good pair 283 of 1216"
       ]
      },
      {
       "output_type": "stream",
       "stream": "stdout",
       "text": [
        "\r",
        "Computed features for good pair 284 of 1216"
       ]
      },
      {
       "output_type": "stream",
       "stream": "stdout",
       "text": [
        "\r",
        "Computed features for good pair 285 of 1216"
       ]
      },
      {
       "output_type": "stream",
       "stream": "stdout",
       "text": [
        "\r",
        "Computed features for good pair 286 of 1216"
       ]
      },
      {
       "output_type": "stream",
       "stream": "stdout",
       "text": [
        "\r",
        "Computed features for good pair 287 of 1216"
       ]
      },
      {
       "output_type": "stream",
       "stream": "stdout",
       "text": [
        "\r",
        "Computed features for good pair 288 of 1216"
       ]
      },
      {
       "output_type": "stream",
       "stream": "stdout",
       "text": [
        "\r",
        "Computed features for good pair 289 of 1216"
       ]
      },
      {
       "output_type": "stream",
       "stream": "stdout",
       "text": [
        "\r",
        "Computed features for good pair 290 of 1216"
       ]
      },
      {
       "output_type": "stream",
       "stream": "stdout",
       "text": [
        "\r",
        "Computed features for good pair 291 of 1216"
       ]
      },
      {
       "output_type": "stream",
       "stream": "stdout",
       "text": [
        "\r",
        "Computed features for good pair 292 of 1216"
       ]
      },
      {
       "output_type": "stream",
       "stream": "stdout",
       "text": [
        "\r",
        "Computed features for good pair 293 of 1216"
       ]
      },
      {
       "output_type": "stream",
       "stream": "stdout",
       "text": [
        "\r",
        "Computed features for good pair 294 of 1216"
       ]
      },
      {
       "output_type": "stream",
       "stream": "stdout",
       "text": [
        "\r",
        "Computed features for good pair 295 of 1216"
       ]
      },
      {
       "output_type": "stream",
       "stream": "stdout",
       "text": [
        "\r",
        "Computed features for good pair 296 of 1216"
       ]
      },
      {
       "output_type": "stream",
       "stream": "stdout",
       "text": [
        "\r",
        "Computed features for good pair 297 of 1216"
       ]
      },
      {
       "output_type": "stream",
       "stream": "stdout",
       "text": [
        "\r",
        "Computed features for good pair 298 of 1216"
       ]
      },
      {
       "output_type": "stream",
       "stream": "stdout",
       "text": [
        "\r",
        "Computed features for good pair 299 of 1216"
       ]
      },
      {
       "output_type": "stream",
       "stream": "stdout",
       "text": [
        "\r",
        "Computed features for good pair 300 of 1216"
       ]
      },
      {
       "output_type": "stream",
       "stream": "stdout",
       "text": [
        "\r",
        "Computed features for good pair 301 of 1216"
       ]
      },
      {
       "output_type": "stream",
       "stream": "stdout",
       "text": [
        "\r",
        "Computed features for good pair 302 of 1216"
       ]
      },
      {
       "output_type": "stream",
       "stream": "stdout",
       "text": [
        "\r",
        "Computed features for good pair 303 of 1216"
       ]
      },
      {
       "output_type": "stream",
       "stream": "stdout",
       "text": [
        "\r",
        "Computed features for good pair 304 of 1216"
       ]
      },
      {
       "output_type": "stream",
       "stream": "stdout",
       "text": [
        "\r",
        "Computed features for good pair 305 of 1216"
       ]
      },
      {
       "output_type": "stream",
       "stream": "stdout",
       "text": [
        "\r",
        "Computed features for good pair 306 of 1216"
       ]
      },
      {
       "output_type": "stream",
       "stream": "stdout",
       "text": [
        "\r",
        "Computed features for good pair 307 of 1216"
       ]
      },
      {
       "output_type": "stream",
       "stream": "stdout",
       "text": [
        "\r",
        "Computed features for good pair 308 of 1216"
       ]
      },
      {
       "output_type": "stream",
       "stream": "stdout",
       "text": [
        "\r",
        "Computed features for good pair 309 of 1216"
       ]
      },
      {
       "output_type": "stream",
       "stream": "stdout",
       "text": [
        "\r",
        "Computed features for good pair 310 of 1216"
       ]
      },
      {
       "output_type": "stream",
       "stream": "stdout",
       "text": [
        "\r",
        "Computed features for good pair 311 of 1216"
       ]
      },
      {
       "output_type": "stream",
       "stream": "stdout",
       "text": [
        "\r",
        "Computed features for good pair 312 of 1216"
       ]
      },
      {
       "output_type": "stream",
       "stream": "stdout",
       "text": [
        "\r",
        "Computed features for good pair 313 of 1216"
       ]
      },
      {
       "output_type": "stream",
       "stream": "stdout",
       "text": [
        "\r",
        "Computed features for good pair 314 of 1216"
       ]
      },
      {
       "output_type": "stream",
       "stream": "stdout",
       "text": [
        "\r",
        "Computed features for good pair 315 of 1216"
       ]
      },
      {
       "output_type": "stream",
       "stream": "stdout",
       "text": [
        "\r",
        "Computed features for good pair 316 of 1216"
       ]
      },
      {
       "output_type": "stream",
       "stream": "stdout",
       "text": [
        "\r",
        "Computed features for good pair 317 of 1216"
       ]
      },
      {
       "output_type": "stream",
       "stream": "stdout",
       "text": [
        "\r",
        "Computed features for good pair 318 of 1216"
       ]
      },
      {
       "output_type": "stream",
       "stream": "stdout",
       "text": [
        "\r",
        "Computed features for good pair 319 of 1216"
       ]
      },
      {
       "output_type": "stream",
       "stream": "stdout",
       "text": [
        "\r",
        "Computed features for good pair 320 of 1216"
       ]
      },
      {
       "output_type": "stream",
       "stream": "stdout",
       "text": [
        "\r",
        "Computed features for good pair 321 of 1216"
       ]
      },
      {
       "output_type": "stream",
       "stream": "stdout",
       "text": [
        "\r",
        "Computed features for good pair 322 of 1216"
       ]
      },
      {
       "output_type": "stream",
       "stream": "stdout",
       "text": [
        "\r",
        "Computed features for good pair 323 of 1216"
       ]
      },
      {
       "output_type": "stream",
       "stream": "stdout",
       "text": [
        "\r",
        "Computed features for good pair 324 of 1216"
       ]
      },
      {
       "output_type": "stream",
       "stream": "stdout",
       "text": [
        "\r",
        "Computed features for good pair 325 of 1216"
       ]
      },
      {
       "output_type": "stream",
       "stream": "stdout",
       "text": [
        "\r",
        "Computed features for good pair 326 of 1216"
       ]
      },
      {
       "output_type": "stream",
       "stream": "stdout",
       "text": [
        "\r",
        "Computed features for good pair 327 of 1216"
       ]
      },
      {
       "output_type": "stream",
       "stream": "stdout",
       "text": [
        "\r",
        "Computed features for good pair 328 of 1216"
       ]
      },
      {
       "output_type": "stream",
       "stream": "stdout",
       "text": [
        "\r",
        "Computed features for good pair 329 of 1216"
       ]
      },
      {
       "output_type": "stream",
       "stream": "stdout",
       "text": [
        "\r",
        "Computed features for good pair 330 of 1216"
       ]
      },
      {
       "output_type": "stream",
       "stream": "stdout",
       "text": [
        "\r",
        "Computed features for good pair 331 of 1216"
       ]
      },
      {
       "output_type": "stream",
       "stream": "stdout",
       "text": [
        "\r",
        "Computed features for good pair 332 of 1216"
       ]
      },
      {
       "output_type": "stream",
       "stream": "stdout",
       "text": [
        "\r",
        "Computed features for good pair 333 of 1216"
       ]
      },
      {
       "output_type": "stream",
       "stream": "stdout",
       "text": [
        "\r",
        "Computed features for good pair 334 of 1216"
       ]
      },
      {
       "output_type": "stream",
       "stream": "stdout",
       "text": [
        "\r",
        "Computed features for good pair 335 of 1216"
       ]
      },
      {
       "output_type": "stream",
       "stream": "stdout",
       "text": [
        "\r",
        "Computed features for good pair 336 of 1216"
       ]
      },
      {
       "output_type": "stream",
       "stream": "stdout",
       "text": [
        "\r",
        "Computed features for good pair 337 of 1216"
       ]
      },
      {
       "output_type": "stream",
       "stream": "stdout",
       "text": [
        "\r",
        "Computed features for good pair 338 of 1216"
       ]
      },
      {
       "output_type": "stream",
       "stream": "stdout",
       "text": [
        "\r",
        "Computed features for good pair 339 of 1216"
       ]
      },
      {
       "output_type": "stream",
       "stream": "stdout",
       "text": [
        "\r",
        "Computed features for good pair 340 of 1216"
       ]
      },
      {
       "output_type": "stream",
       "stream": "stdout",
       "text": [
        "\r",
        "Computed features for good pair 341 of 1216"
       ]
      },
      {
       "output_type": "stream",
       "stream": "stdout",
       "text": [
        "\r",
        "Computed features for good pair 342 of 1216"
       ]
      },
      {
       "output_type": "stream",
       "stream": "stdout",
       "text": [
        "\r",
        "Computed features for good pair 343 of 1216"
       ]
      },
      {
       "output_type": "stream",
       "stream": "stdout",
       "text": [
        "\r",
        "Computed features for good pair 344 of 1216"
       ]
      },
      {
       "output_type": "stream",
       "stream": "stdout",
       "text": [
        "\r",
        "Computed features for good pair 345 of 1216"
       ]
      },
      {
       "output_type": "stream",
       "stream": "stdout",
       "text": [
        "\r",
        "Computed features for good pair 346 of 1216"
       ]
      },
      {
       "output_type": "stream",
       "stream": "stdout",
       "text": [
        "\r",
        "Computed features for good pair 347 of 1216"
       ]
      },
      {
       "output_type": "stream",
       "stream": "stdout",
       "text": [
        "\r",
        "Computed features for good pair 348 of 1216"
       ]
      },
      {
       "output_type": "stream",
       "stream": "stdout",
       "text": [
        "\r",
        "Computed features for good pair 349 of 1216"
       ]
      },
      {
       "output_type": "stream",
       "stream": "stdout",
       "text": [
        "\r",
        "Computed features for good pair 350 of 1216"
       ]
      },
      {
       "output_type": "stream",
       "stream": "stdout",
       "text": [
        "\r",
        "Computed features for good pair 351 of 1216"
       ]
      },
      {
       "output_type": "stream",
       "stream": "stdout",
       "text": [
        "\r",
        "Computed features for good pair 352 of 1216"
       ]
      },
      {
       "output_type": "stream",
       "stream": "stdout",
       "text": [
        "\r",
        "Computed features for good pair 353 of 1216"
       ]
      },
      {
       "output_type": "stream",
       "stream": "stdout",
       "text": [
        "\r",
        "Computed features for good pair 354 of 1216"
       ]
      },
      {
       "output_type": "stream",
       "stream": "stdout",
       "text": [
        "\r",
        "Computed features for good pair 355 of 1216"
       ]
      },
      {
       "output_type": "stream",
       "stream": "stdout",
       "text": [
        "\r",
        "Computed features for good pair 356 of 1216"
       ]
      },
      {
       "output_type": "stream",
       "stream": "stdout",
       "text": [
        "\r",
        "Computed features for good pair 357 of 1216"
       ]
      },
      {
       "output_type": "stream",
       "stream": "stdout",
       "text": [
        "\r",
        "Computed features for good pair 358 of 1216"
       ]
      },
      {
       "output_type": "stream",
       "stream": "stdout",
       "text": [
        "\r",
        "Computed features for good pair 359 of 1216"
       ]
      },
      {
       "output_type": "stream",
       "stream": "stdout",
       "text": [
        "\r",
        "Computed features for good pair 360 of 1216"
       ]
      },
      {
       "output_type": "stream",
       "stream": "stdout",
       "text": [
        "\r",
        "Computed features for good pair 361 of 1216"
       ]
      },
      {
       "output_type": "stream",
       "stream": "stdout",
       "text": [
        "\r",
        "Computed features for good pair 362 of 1216"
       ]
      },
      {
       "output_type": "stream",
       "stream": "stdout",
       "text": [
        "\r",
        "Computed features for good pair 363 of 1216"
       ]
      },
      {
       "output_type": "stream",
       "stream": "stdout",
       "text": [
        "\r",
        "Computed features for good pair 364 of 1216"
       ]
      },
      {
       "output_type": "stream",
       "stream": "stdout",
       "text": [
        "\r",
        "Computed features for good pair 365 of 1216"
       ]
      },
      {
       "output_type": "stream",
       "stream": "stdout",
       "text": [
        "\r",
        "Computed features for good pair 366 of 1216"
       ]
      },
      {
       "output_type": "stream",
       "stream": "stdout",
       "text": [
        "\r",
        "Computed features for good pair 367 of 1216"
       ]
      },
      {
       "output_type": "stream",
       "stream": "stdout",
       "text": [
        "\r",
        "Computed features for good pair 368 of 1216"
       ]
      },
      {
       "output_type": "stream",
       "stream": "stdout",
       "text": [
        "\r",
        "Computed features for good pair 369 of 1216"
       ]
      },
      {
       "output_type": "stream",
       "stream": "stdout",
       "text": [
        "\r",
        "Computed features for good pair 370 of 1216"
       ]
      },
      {
       "output_type": "stream",
       "stream": "stdout",
       "text": [
        "\r",
        "Computed features for good pair 371 of 1216"
       ]
      },
      {
       "output_type": "stream",
       "stream": "stdout",
       "text": [
        "\r",
        "Computed features for good pair 372 of 1216"
       ]
      },
      {
       "output_type": "stream",
       "stream": "stdout",
       "text": [
        "\r",
        "Computed features for good pair 373 of 1216"
       ]
      },
      {
       "output_type": "stream",
       "stream": "stdout",
       "text": [
        "\r",
        "Computed features for good pair 374 of 1216"
       ]
      },
      {
       "output_type": "stream",
       "stream": "stdout",
       "text": [
        "\r",
        "Computed features for good pair 375 of 1216"
       ]
      },
      {
       "output_type": "stream",
       "stream": "stdout",
       "text": [
        "\r",
        "Computed features for good pair 376 of 1216"
       ]
      },
      {
       "output_type": "stream",
       "stream": "stdout",
       "text": [
        "\r",
        "Computed features for good pair 377 of 1216"
       ]
      },
      {
       "output_type": "stream",
       "stream": "stdout",
       "text": [
        "\r",
        "Computed features for good pair 378 of 1216"
       ]
      },
      {
       "output_type": "stream",
       "stream": "stdout",
       "text": [
        "\r",
        "Computed features for good pair 379 of 1216"
       ]
      },
      {
       "output_type": "stream",
       "stream": "stdout",
       "text": [
        "\r",
        "Computed features for good pair 380 of 1216"
       ]
      },
      {
       "output_type": "stream",
       "stream": "stdout",
       "text": [
        "\r",
        "Computed features for good pair 381 of 1216"
       ]
      },
      {
       "output_type": "stream",
       "stream": "stdout",
       "text": [
        "\r",
        "Computed features for good pair 382 of 1216"
       ]
      },
      {
       "output_type": "stream",
       "stream": "stdout",
       "text": [
        "\r",
        "Computed features for good pair 383 of 1216"
       ]
      },
      {
       "output_type": "stream",
       "stream": "stdout",
       "text": [
        "\r",
        "Computed features for good pair 384 of 1216"
       ]
      },
      {
       "output_type": "stream",
       "stream": "stdout",
       "text": [
        "\r",
        "Computed features for good pair 385 of 1216"
       ]
      },
      {
       "output_type": "stream",
       "stream": "stdout",
       "text": [
        "\r",
        "Computed features for good pair 386 of 1216"
       ]
      },
      {
       "output_type": "stream",
       "stream": "stdout",
       "text": [
        "\r",
        "Computed features for good pair 387 of 1216"
       ]
      },
      {
       "output_type": "stream",
       "stream": "stdout",
       "text": [
        "\r",
        "Computed features for good pair 388 of 1216"
       ]
      },
      {
       "output_type": "stream",
       "stream": "stdout",
       "text": [
        "\r",
        "Computed features for good pair 389 of 1216"
       ]
      },
      {
       "output_type": "stream",
       "stream": "stdout",
       "text": [
        "\r",
        "Computed features for good pair 390 of 1216"
       ]
      },
      {
       "output_type": "stream",
       "stream": "stdout",
       "text": [
        "\r",
        "Computed features for good pair 391 of 1216"
       ]
      },
      {
       "output_type": "stream",
       "stream": "stdout",
       "text": [
        "\r",
        "Computed features for good pair 392 of 1216"
       ]
      },
      {
       "output_type": "stream",
       "stream": "stdout",
       "text": [
        "\r",
        "Computed features for good pair 393 of 1216"
       ]
      },
      {
       "output_type": "stream",
       "stream": "stdout",
       "text": [
        "\r",
        "Computed features for good pair 394 of 1216"
       ]
      },
      {
       "output_type": "stream",
       "stream": "stdout",
       "text": [
        "\r",
        "Computed features for good pair 395 of 1216"
       ]
      },
      {
       "output_type": "stream",
       "stream": "stdout",
       "text": [
        "\r",
        "Computed features for good pair 396 of 1216"
       ]
      },
      {
       "output_type": "stream",
       "stream": "stdout",
       "text": [
        "\r",
        "Computed features for good pair 397 of 1216"
       ]
      },
      {
       "output_type": "stream",
       "stream": "stdout",
       "text": [
        "\r",
        "Computed features for good pair 398 of 1216"
       ]
      },
      {
       "output_type": "stream",
       "stream": "stdout",
       "text": [
        "\r",
        "Computed features for good pair 399 of 1216"
       ]
      },
      {
       "output_type": "stream",
       "stream": "stdout",
       "text": [
        "\r",
        "Computed features for good pair 400 of 1216"
       ]
      },
      {
       "output_type": "stream",
       "stream": "stdout",
       "text": [
        "\r",
        "Computed features for good pair 401 of 1216"
       ]
      },
      {
       "output_type": "stream",
       "stream": "stdout",
       "text": [
        "\r",
        "Computed features for good pair 402 of 1216"
       ]
      },
      {
       "output_type": "stream",
       "stream": "stdout",
       "text": [
        "\r",
        "Computed features for good pair 403 of 1216"
       ]
      },
      {
       "output_type": "stream",
       "stream": "stdout",
       "text": [
        "\r",
        "Computed features for good pair 404 of 1216"
       ]
      },
      {
       "output_type": "stream",
       "stream": "stdout",
       "text": [
        "\r",
        "Computed features for good pair 405 of 1216"
       ]
      },
      {
       "output_type": "stream",
       "stream": "stdout",
       "text": [
        "\r",
        "Computed features for good pair 406 of 1216"
       ]
      },
      {
       "output_type": "stream",
       "stream": "stdout",
       "text": [
        "\r",
        "Computed features for good pair 407 of 1216"
       ]
      },
      {
       "output_type": "stream",
       "stream": "stdout",
       "text": [
        "\r",
        "Computed features for good pair 408 of 1216"
       ]
      },
      {
       "output_type": "stream",
       "stream": "stdout",
       "text": [
        "\r",
        "Computed features for good pair 409 of 1216"
       ]
      },
      {
       "output_type": "stream",
       "stream": "stdout",
       "text": [
        "\r",
        "Computed features for good pair 410 of 1216"
       ]
      },
      {
       "output_type": "stream",
       "stream": "stdout",
       "text": [
        "\r",
        "Computed features for good pair 411 of 1216"
       ]
      },
      {
       "output_type": "stream",
       "stream": "stdout",
       "text": [
        "\r",
        "Computed features for good pair 412 of 1216"
       ]
      },
      {
       "output_type": "stream",
       "stream": "stdout",
       "text": [
        "\r",
        "Computed features for good pair 413 of 1216"
       ]
      },
      {
       "output_type": "stream",
       "stream": "stdout",
       "text": [
        "\r",
        "Computed features for good pair 414 of 1216"
       ]
      },
      {
       "output_type": "stream",
       "stream": "stdout",
       "text": [
        "\r",
        "Computed features for good pair 415 of 1216"
       ]
      },
      {
       "output_type": "stream",
       "stream": "stdout",
       "text": [
        "\r",
        "Computed features for good pair 416 of 1216"
       ]
      },
      {
       "output_type": "stream",
       "stream": "stdout",
       "text": [
        "\r",
        "Computed features for good pair 417 of 1216"
       ]
      },
      {
       "output_type": "stream",
       "stream": "stdout",
       "text": [
        "\r",
        "Computed features for good pair 418 of 1216"
       ]
      },
      {
       "output_type": "stream",
       "stream": "stdout",
       "text": [
        "\r",
        "Computed features for good pair 419 of 1216"
       ]
      },
      {
       "output_type": "stream",
       "stream": "stdout",
       "text": [
        "\r",
        "Computed features for good pair 420 of 1216"
       ]
      },
      {
       "output_type": "stream",
       "stream": "stdout",
       "text": [
        "\r",
        "Computed features for good pair 421 of 1216"
       ]
      },
      {
       "output_type": "stream",
       "stream": "stdout",
       "text": [
        "\r",
        "Computed features for good pair 422 of 1216"
       ]
      },
      {
       "output_type": "stream",
       "stream": "stdout",
       "text": [
        "\r",
        "Computed features for good pair 423 of 1216"
       ]
      },
      {
       "output_type": "stream",
       "stream": "stdout",
       "text": [
        "\r",
        "Computed features for good pair 424 of 1216"
       ]
      },
      {
       "output_type": "stream",
       "stream": "stdout",
       "text": [
        "\r",
        "Computed features for good pair 425 of 1216"
       ]
      },
      {
       "output_type": "stream",
       "stream": "stdout",
       "text": [
        "\r",
        "Computed features for good pair 426 of 1216"
       ]
      },
      {
       "output_type": "stream",
       "stream": "stdout",
       "text": [
        "\r",
        "Computed features for good pair 427 of 1216"
       ]
      },
      {
       "output_type": "stream",
       "stream": "stdout",
       "text": [
        "\r",
        "Computed features for good pair 428 of 1216"
       ]
      },
      {
       "output_type": "stream",
       "stream": "stdout",
       "text": [
        "\r",
        "Computed features for good pair 429 of 1216"
       ]
      },
      {
       "output_type": "stream",
       "stream": "stdout",
       "text": [
        "\r",
        "Computed features for good pair 430 of 1216"
       ]
      },
      {
       "output_type": "stream",
       "stream": "stdout",
       "text": [
        "\r",
        "Computed features for good pair 431 of 1216"
       ]
      },
      {
       "output_type": "stream",
       "stream": "stdout",
       "text": [
        "\r",
        "Computed features for good pair 432 of 1216"
       ]
      },
      {
       "output_type": "stream",
       "stream": "stdout",
       "text": [
        "\r",
        "Computed features for good pair 433 of 1216"
       ]
      },
      {
       "output_type": "stream",
       "stream": "stdout",
       "text": [
        "\r",
        "Computed features for good pair 434 of 1216"
       ]
      },
      {
       "output_type": "stream",
       "stream": "stdout",
       "text": [
        "\r",
        "Computed features for good pair 435 of 1216"
       ]
      },
      {
       "output_type": "stream",
       "stream": "stdout",
       "text": [
        "\r",
        "Computed features for good pair 436 of 1216"
       ]
      },
      {
       "output_type": "stream",
       "stream": "stdout",
       "text": [
        "\r",
        "Computed features for good pair 437 of 1216"
       ]
      },
      {
       "output_type": "stream",
       "stream": "stdout",
       "text": [
        "\r",
        "Computed features for good pair 438 of 1216"
       ]
      },
      {
       "output_type": "stream",
       "stream": "stdout",
       "text": [
        "\r",
        "Computed features for good pair 439 of 1216"
       ]
      },
      {
       "output_type": "stream",
       "stream": "stdout",
       "text": [
        "\r",
        "Computed features for good pair 440 of 1216"
       ]
      },
      {
       "output_type": "stream",
       "stream": "stdout",
       "text": [
        "\r",
        "Computed features for good pair 441 of 1216"
       ]
      },
      {
       "output_type": "stream",
       "stream": "stdout",
       "text": [
        "\r",
        "Computed features for good pair 442 of 1216"
       ]
      },
      {
       "output_type": "stream",
       "stream": "stdout",
       "text": [
        "\r",
        "Computed features for good pair 443 of 1216"
       ]
      },
      {
       "output_type": "stream",
       "stream": "stdout",
       "text": [
        "\r",
        "Computed features for good pair 444 of 1216"
       ]
      },
      {
       "output_type": "stream",
       "stream": "stdout",
       "text": [
        "\r",
        "Computed features for good pair 445 of 1216"
       ]
      },
      {
       "output_type": "stream",
       "stream": "stdout",
       "text": [
        "\r",
        "Computed features for good pair 446 of 1216"
       ]
      },
      {
       "output_type": "stream",
       "stream": "stdout",
       "text": [
        "\r",
        "Computed features for good pair 447 of 1216"
       ]
      },
      {
       "output_type": "stream",
       "stream": "stdout",
       "text": [
        "\r",
        "Computed features for good pair 448 of 1216"
       ]
      },
      {
       "output_type": "stream",
       "stream": "stdout",
       "text": [
        "\r",
        "Computed features for good pair 449 of 1216"
       ]
      },
      {
       "output_type": "stream",
       "stream": "stdout",
       "text": [
        "\r",
        "Computed features for good pair 450 of 1216"
       ]
      },
      {
       "output_type": "stream",
       "stream": "stdout",
       "text": [
        "\r",
        "Computed features for good pair 451 of 1216"
       ]
      },
      {
       "output_type": "stream",
       "stream": "stdout",
       "text": [
        "\r",
        "Computed features for good pair 452 of 1216"
       ]
      },
      {
       "output_type": "stream",
       "stream": "stdout",
       "text": [
        "\r",
        "Computed features for good pair 453 of 1216"
       ]
      },
      {
       "output_type": "stream",
       "stream": "stdout",
       "text": [
        "\r",
        "Computed features for good pair 454 of 1216"
       ]
      },
      {
       "output_type": "stream",
       "stream": "stdout",
       "text": [
        "\r",
        "Computed features for good pair 455 of 1216"
       ]
      },
      {
       "output_type": "stream",
       "stream": "stdout",
       "text": [
        "\r",
        "Computed features for good pair 456 of 1216"
       ]
      },
      {
       "output_type": "stream",
       "stream": "stdout",
       "text": [
        "\r",
        "Computed features for good pair 457 of 1216"
       ]
      },
      {
       "output_type": "stream",
       "stream": "stdout",
       "text": [
        "\r",
        "Computed features for good pair 458 of 1216"
       ]
      },
      {
       "output_type": "stream",
       "stream": "stdout",
       "text": [
        "\r",
        "Computed features for good pair 459 of 1216"
       ]
      },
      {
       "output_type": "stream",
       "stream": "stdout",
       "text": [
        "\r",
        "Computed features for good pair 460 of 1216"
       ]
      },
      {
       "output_type": "stream",
       "stream": "stdout",
       "text": [
        "\r",
        "Computed features for good pair 461 of 1216"
       ]
      },
      {
       "output_type": "stream",
       "stream": "stdout",
       "text": [
        "\r",
        "Computed features for good pair 462 of 1216"
       ]
      },
      {
       "output_type": "stream",
       "stream": "stdout",
       "text": [
        "\r",
        "Computed features for good pair 463 of 1216"
       ]
      },
      {
       "output_type": "stream",
       "stream": "stdout",
       "text": [
        "\r",
        "Computed features for good pair 464 of 1216"
       ]
      },
      {
       "output_type": "stream",
       "stream": "stdout",
       "text": [
        "\r",
        "Computed features for good pair 465 of 1216"
       ]
      },
      {
       "output_type": "stream",
       "stream": "stdout",
       "text": [
        "\r",
        "Computed features for good pair 466 of 1216"
       ]
      },
      {
       "output_type": "stream",
       "stream": "stdout",
       "text": [
        "\r",
        "Computed features for good pair 467 of 1216"
       ]
      },
      {
       "output_type": "stream",
       "stream": "stdout",
       "text": [
        "\r",
        "Computed features for good pair 468 of 1216"
       ]
      },
      {
       "output_type": "stream",
       "stream": "stdout",
       "text": [
        "\r",
        "Computed features for good pair 469 of 1216"
       ]
      },
      {
       "output_type": "stream",
       "stream": "stdout",
       "text": [
        "\r",
        "Computed features for good pair 470 of 1216"
       ]
      },
      {
       "output_type": "stream",
       "stream": "stdout",
       "text": [
        "\r",
        "Computed features for good pair 471 of 1216"
       ]
      },
      {
       "output_type": "stream",
       "stream": "stdout",
       "text": [
        "\r",
        "Computed features for good pair 472 of 1216"
       ]
      },
      {
       "output_type": "stream",
       "stream": "stdout",
       "text": [
        "\r",
        "Computed features for good pair 473 of 1216"
       ]
      },
      {
       "output_type": "stream",
       "stream": "stdout",
       "text": [
        "\r",
        "Computed features for good pair 474 of 1216"
       ]
      },
      {
       "output_type": "stream",
       "stream": "stdout",
       "text": [
        "\r",
        "Computed features for good pair 475 of 1216"
       ]
      },
      {
       "output_type": "stream",
       "stream": "stdout",
       "text": [
        "\r",
        "Computed features for good pair 476 of 1216"
       ]
      },
      {
       "output_type": "stream",
       "stream": "stdout",
       "text": [
        "\r",
        "Computed features for good pair 477 of 1216"
       ]
      },
      {
       "output_type": "stream",
       "stream": "stdout",
       "text": [
        "\r",
        "Computed features for good pair 478 of 1216"
       ]
      },
      {
       "output_type": "stream",
       "stream": "stdout",
       "text": [
        "\r",
        "Computed features for good pair 479 of 1216"
       ]
      },
      {
       "output_type": "stream",
       "stream": "stdout",
       "text": [
        "\r",
        "Computed features for good pair 480 of 1216"
       ]
      },
      {
       "output_type": "stream",
       "stream": "stdout",
       "text": [
        "\r",
        "Computed features for good pair 481 of 1216"
       ]
      },
      {
       "output_type": "stream",
       "stream": "stdout",
       "text": [
        "\r",
        "Computed features for good pair 482 of 1216"
       ]
      },
      {
       "output_type": "stream",
       "stream": "stdout",
       "text": [
        "\r",
        "Computed features for good pair 483 of 1216"
       ]
      },
      {
       "output_type": "stream",
       "stream": "stdout",
       "text": [
        "\r",
        "Computed features for good pair 484 of 1216"
       ]
      },
      {
       "output_type": "stream",
       "stream": "stdout",
       "text": [
        "\r",
        "Computed features for good pair 485 of 1216"
       ]
      },
      {
       "output_type": "stream",
       "stream": "stdout",
       "text": [
        "\r",
        "Computed features for good pair 486 of 1216"
       ]
      },
      {
       "output_type": "stream",
       "stream": "stdout",
       "text": [
        "\r",
        "Computed features for good pair 487 of 1216"
       ]
      },
      {
       "output_type": "stream",
       "stream": "stdout",
       "text": [
        "\r",
        "Computed features for good pair 488 of 1216"
       ]
      },
      {
       "output_type": "stream",
       "stream": "stdout",
       "text": [
        "\r",
        "Computed features for good pair 489 of 1216"
       ]
      },
      {
       "output_type": "stream",
       "stream": "stdout",
       "text": [
        "\r",
        "Computed features for good pair 490 of 1216"
       ]
      },
      {
       "output_type": "stream",
       "stream": "stdout",
       "text": [
        "\r",
        "Computed features for good pair 491 of 1216"
       ]
      },
      {
       "output_type": "stream",
       "stream": "stdout",
       "text": [
        "\r",
        "Computed features for good pair 492 of 1216"
       ]
      },
      {
       "output_type": "stream",
       "stream": "stdout",
       "text": [
        "\r",
        "Computed features for good pair 493 of 1216"
       ]
      },
      {
       "output_type": "stream",
       "stream": "stdout",
       "text": [
        "\r",
        "Computed features for good pair 494 of 1216"
       ]
      },
      {
       "output_type": "stream",
       "stream": "stdout",
       "text": [
        "\r",
        "Computed features for good pair 495 of 1216"
       ]
      },
      {
       "output_type": "stream",
       "stream": "stdout",
       "text": [
        "\r",
        "Computed features for good pair 496 of 1216"
       ]
      },
      {
       "output_type": "stream",
       "stream": "stdout",
       "text": [
        "\r",
        "Computed features for good pair 497 of 1216"
       ]
      },
      {
       "output_type": "stream",
       "stream": "stdout",
       "text": [
        "\r",
        "Computed features for good pair 498 of 1216"
       ]
      },
      {
       "output_type": "stream",
       "stream": "stdout",
       "text": [
        "\r",
        "Computed features for good pair 499 of 1216"
       ]
      },
      {
       "output_type": "stream",
       "stream": "stdout",
       "text": [
        "\r",
        "Computed features for good pair 500 of 1216"
       ]
      },
      {
       "output_type": "stream",
       "stream": "stdout",
       "text": [
        "\r",
        "Computed features for good pair 501 of 1216"
       ]
      },
      {
       "output_type": "stream",
       "stream": "stdout",
       "text": [
        "\r",
        "Computed features for good pair 502 of 1216"
       ]
      },
      {
       "output_type": "stream",
       "stream": "stdout",
       "text": [
        "\r",
        "Computed features for good pair 503 of 1216"
       ]
      },
      {
       "output_type": "stream",
       "stream": "stdout",
       "text": [
        "\r",
        "Computed features for good pair 504 of 1216"
       ]
      },
      {
       "output_type": "stream",
       "stream": "stdout",
       "text": [
        "\r",
        "Computed features for good pair 505 of 1216"
       ]
      },
      {
       "output_type": "stream",
       "stream": "stdout",
       "text": [
        "\r",
        "Computed features for good pair 506 of 1216"
       ]
      },
      {
       "output_type": "stream",
       "stream": "stdout",
       "text": [
        "\r",
        "Computed features for good pair 507 of 1216"
       ]
      },
      {
       "output_type": "stream",
       "stream": "stdout",
       "text": [
        "\r",
        "Computed features for good pair 508 of 1216"
       ]
      },
      {
       "output_type": "stream",
       "stream": "stdout",
       "text": [
        "\r",
        "Computed features for good pair 509 of 1216"
       ]
      },
      {
       "output_type": "stream",
       "stream": "stdout",
       "text": [
        "\r",
        "Computed features for good pair 510 of 1216"
       ]
      },
      {
       "output_type": "stream",
       "stream": "stdout",
       "text": [
        "\r",
        "Computed features for good pair 511 of 1216"
       ]
      },
      {
       "output_type": "stream",
       "stream": "stdout",
       "text": [
        "\r",
        "Computed features for good pair 512 of 1216"
       ]
      },
      {
       "output_type": "stream",
       "stream": "stdout",
       "text": [
        "\r",
        "Computed features for good pair 513 of 1216"
       ]
      },
      {
       "output_type": "stream",
       "stream": "stdout",
       "text": [
        "\r",
        "Computed features for good pair 514 of 1216"
       ]
      },
      {
       "output_type": "stream",
       "stream": "stdout",
       "text": [
        "\r",
        "Computed features for good pair 515 of 1216"
       ]
      },
      {
       "output_type": "stream",
       "stream": "stdout",
       "text": [
        "\r",
        "Computed features for good pair 516 of 1216"
       ]
      },
      {
       "output_type": "stream",
       "stream": "stdout",
       "text": [
        "\r",
        "Computed features for good pair 517 of 1216"
       ]
      },
      {
       "output_type": "stream",
       "stream": "stdout",
       "text": [
        "\r",
        "Computed features for good pair 518 of 1216"
       ]
      },
      {
       "output_type": "stream",
       "stream": "stdout",
       "text": [
        "\r",
        "Computed features for good pair 519 of 1216"
       ]
      },
      {
       "output_type": "stream",
       "stream": "stdout",
       "text": [
        "\r",
        "Computed features for good pair 520 of 1216"
       ]
      },
      {
       "output_type": "stream",
       "stream": "stdout",
       "text": [
        "\r",
        "Computed features for good pair 521 of 1216"
       ]
      },
      {
       "output_type": "stream",
       "stream": "stdout",
       "text": [
        "\r",
        "Computed features for good pair 522 of 1216"
       ]
      },
      {
       "output_type": "stream",
       "stream": "stdout",
       "text": [
        "\r",
        "Computed features for good pair 523 of 1216"
       ]
      },
      {
       "output_type": "stream",
       "stream": "stdout",
       "text": [
        "\r",
        "Computed features for good pair 524 of 1216"
       ]
      },
      {
       "output_type": "stream",
       "stream": "stdout",
       "text": [
        "\r",
        "Computed features for good pair 525 of 1216"
       ]
      },
      {
       "output_type": "stream",
       "stream": "stdout",
       "text": [
        "\r",
        "Computed features for good pair 526 of 1216"
       ]
      },
      {
       "output_type": "stream",
       "stream": "stdout",
       "text": [
        "\r",
        "Computed features for good pair 527 of 1216"
       ]
      },
      {
       "output_type": "stream",
       "stream": "stdout",
       "text": [
        "\r",
        "Computed features for good pair 528 of 1216"
       ]
      },
      {
       "output_type": "stream",
       "stream": "stdout",
       "text": [
        "\r",
        "Computed features for good pair 529 of 1216"
       ]
      },
      {
       "output_type": "stream",
       "stream": "stdout",
       "text": [
        "\r",
        "Computed features for good pair 530 of 1216"
       ]
      },
      {
       "output_type": "stream",
       "stream": "stdout",
       "text": [
        "\r",
        "Computed features for good pair 531 of 1216"
       ]
      },
      {
       "output_type": "stream",
       "stream": "stdout",
       "text": [
        "\r",
        "Computed features for good pair 532 of 1216"
       ]
      },
      {
       "output_type": "stream",
       "stream": "stdout",
       "text": [
        "\r",
        "Computed features for good pair 533 of 1216"
       ]
      },
      {
       "output_type": "stream",
       "stream": "stdout",
       "text": [
        "\r",
        "Computed features for good pair 534 of 1216"
       ]
      },
      {
       "output_type": "stream",
       "stream": "stdout",
       "text": [
        "\r",
        "Computed features for good pair 535 of 1216"
       ]
      },
      {
       "output_type": "stream",
       "stream": "stdout",
       "text": [
        "\r",
        "Computed features for good pair 536 of 1216"
       ]
      },
      {
       "output_type": "stream",
       "stream": "stdout",
       "text": [
        "\r",
        "Computed features for good pair 537 of 1216"
       ]
      },
      {
       "output_type": "stream",
       "stream": "stdout",
       "text": [
        "\r",
        "Computed features for good pair 538 of 1216"
       ]
      },
      {
       "output_type": "stream",
       "stream": "stdout",
       "text": [
        "\r",
        "Computed features for good pair 539 of 1216"
       ]
      },
      {
       "output_type": "stream",
       "stream": "stdout",
       "text": [
        "\r",
        "Computed features for good pair 540 of 1216"
       ]
      },
      {
       "output_type": "stream",
       "stream": "stdout",
       "text": [
        "\r",
        "Computed features for good pair 541 of 1216"
       ]
      },
      {
       "output_type": "stream",
       "stream": "stdout",
       "text": [
        "\r",
        "Computed features for good pair 542 of 1216"
       ]
      },
      {
       "output_type": "stream",
       "stream": "stdout",
       "text": [
        "\r",
        "Computed features for good pair 543 of 1216"
       ]
      },
      {
       "output_type": "stream",
       "stream": "stdout",
       "text": [
        "\r",
        "Computed features for good pair 544 of 1216"
       ]
      },
      {
       "output_type": "stream",
       "stream": "stdout",
       "text": [
        "\r",
        "Computed features for good pair 545 of 1216"
       ]
      },
      {
       "output_type": "stream",
       "stream": "stdout",
       "text": [
        "\r",
        "Computed features for good pair 546 of 1216"
       ]
      },
      {
       "output_type": "stream",
       "stream": "stdout",
       "text": [
        "\r",
        "Computed features for good pair 547 of 1216"
       ]
      },
      {
       "output_type": "stream",
       "stream": "stdout",
       "text": [
        "\r",
        "Computed features for good pair 548 of 1216"
       ]
      },
      {
       "output_type": "stream",
       "stream": "stdout",
       "text": [
        "\r",
        "Computed features for good pair 549 of 1216"
       ]
      },
      {
       "output_type": "stream",
       "stream": "stdout",
       "text": [
        "\r",
        "Computed features for good pair 550 of 1216"
       ]
      },
      {
       "output_type": "stream",
       "stream": "stdout",
       "text": [
        "\r",
        "Computed features for good pair 551 of 1216"
       ]
      },
      {
       "output_type": "stream",
       "stream": "stdout",
       "text": [
        "\r",
        "Computed features for good pair 552 of 1216"
       ]
      },
      {
       "output_type": "stream",
       "stream": "stdout",
       "text": [
        "\r",
        "Computed features for good pair 553 of 1216"
       ]
      },
      {
       "output_type": "stream",
       "stream": "stdout",
       "text": [
        "\r",
        "Computed features for good pair 554 of 1216"
       ]
      },
      {
       "output_type": "stream",
       "stream": "stdout",
       "text": [
        "\r",
        "Computed features for good pair 555 of 1216"
       ]
      },
      {
       "output_type": "stream",
       "stream": "stdout",
       "text": [
        "\r",
        "Computed features for good pair 556 of 1216"
       ]
      },
      {
       "output_type": "stream",
       "stream": "stdout",
       "text": [
        "\r",
        "Computed features for good pair 557 of 1216"
       ]
      },
      {
       "output_type": "stream",
       "stream": "stdout",
       "text": [
        "\r",
        "Computed features for good pair 558 of 1216"
       ]
      },
      {
       "output_type": "stream",
       "stream": "stdout",
       "text": [
        "\r",
        "Computed features for good pair 559 of 1216"
       ]
      },
      {
       "output_type": "stream",
       "stream": "stdout",
       "text": [
        "\r",
        "Computed features for good pair 560 of 1216"
       ]
      },
      {
       "output_type": "stream",
       "stream": "stdout",
       "text": [
        "\r",
        "Computed features for good pair 561 of 1216"
       ]
      },
      {
       "output_type": "stream",
       "stream": "stdout",
       "text": [
        "\r",
        "Computed features for good pair 562 of 1216"
       ]
      },
      {
       "output_type": "stream",
       "stream": "stdout",
       "text": [
        "\r",
        "Computed features for good pair 563 of 1216"
       ]
      },
      {
       "output_type": "stream",
       "stream": "stdout",
       "text": [
        "\r",
        "Computed features for good pair 564 of 1216"
       ]
      },
      {
       "output_type": "stream",
       "stream": "stdout",
       "text": [
        "\r",
        "Computed features for good pair 565 of 1216"
       ]
      },
      {
       "output_type": "stream",
       "stream": "stdout",
       "text": [
        "\r",
        "Computed features for good pair 566 of 1216"
       ]
      },
      {
       "output_type": "stream",
       "stream": "stdout",
       "text": [
        "\r",
        "Computed features for good pair 567 of 1216"
       ]
      },
      {
       "output_type": "stream",
       "stream": "stdout",
       "text": [
        "\r",
        "Computed features for good pair 568 of 1216"
       ]
      },
      {
       "output_type": "stream",
       "stream": "stdout",
       "text": [
        "\r",
        "Computed features for good pair 569 of 1216"
       ]
      },
      {
       "output_type": "stream",
       "stream": "stdout",
       "text": [
        "\r",
        "Computed features for good pair 570 of 1216"
       ]
      },
      {
       "output_type": "stream",
       "stream": "stdout",
       "text": [
        "\r",
        "Computed features for good pair 571 of 1216"
       ]
      },
      {
       "output_type": "stream",
       "stream": "stdout",
       "text": [
        "\r",
        "Computed features for good pair 572 of 1216"
       ]
      },
      {
       "output_type": "stream",
       "stream": "stdout",
       "text": [
        "\r",
        "Computed features for good pair 573 of 1216"
       ]
      },
      {
       "output_type": "stream",
       "stream": "stdout",
       "text": [
        "\r",
        "Computed features for good pair 574 of 1216"
       ]
      },
      {
       "output_type": "stream",
       "stream": "stdout",
       "text": [
        "\r",
        "Computed features for good pair 575 of 1216"
       ]
      },
      {
       "output_type": "stream",
       "stream": "stdout",
       "text": [
        "\r",
        "Computed features for good pair 576 of 1216"
       ]
      },
      {
       "output_type": "stream",
       "stream": "stdout",
       "text": [
        "\r",
        "Computed features for good pair 577 of 1216"
       ]
      },
      {
       "output_type": "stream",
       "stream": "stdout",
       "text": [
        "\r",
        "Computed features for good pair 578 of 1216"
       ]
      },
      {
       "output_type": "stream",
       "stream": "stdout",
       "text": [
        "\r",
        "Computed features for good pair 579 of 1216"
       ]
      },
      {
       "output_type": "stream",
       "stream": "stdout",
       "text": [
        "\r",
        "Computed features for good pair 580 of 1216"
       ]
      },
      {
       "output_type": "stream",
       "stream": "stdout",
       "text": [
        "\r",
        "Computed features for good pair 581 of 1216"
       ]
      },
      {
       "output_type": "stream",
       "stream": "stdout",
       "text": [
        "\r",
        "Computed features for good pair 582 of 1216"
       ]
      },
      {
       "output_type": "stream",
       "stream": "stdout",
       "text": [
        "\r",
        "Computed features for good pair 583 of 1216"
       ]
      },
      {
       "output_type": "stream",
       "stream": "stdout",
       "text": [
        "\r",
        "Computed features for good pair 584 of 1216"
       ]
      },
      {
       "output_type": "stream",
       "stream": "stdout",
       "text": [
        "\r",
        "Computed features for good pair 585 of 1216"
       ]
      },
      {
       "output_type": "stream",
       "stream": "stdout",
       "text": [
        "\r",
        "Computed features for good pair 586 of 1216"
       ]
      },
      {
       "output_type": "stream",
       "stream": "stdout",
       "text": [
        "\r",
        "Computed features for good pair 587 of 1216"
       ]
      },
      {
       "output_type": "stream",
       "stream": "stdout",
       "text": [
        "\r",
        "Computed features for good pair 588 of 1216"
       ]
      },
      {
       "output_type": "stream",
       "stream": "stdout",
       "text": [
        "\r",
        "Computed features for good pair 589 of 1216"
       ]
      },
      {
       "output_type": "stream",
       "stream": "stdout",
       "text": [
        "\r",
        "Computed features for good pair 590 of 1216"
       ]
      },
      {
       "output_type": "stream",
       "stream": "stdout",
       "text": [
        "\r",
        "Computed features for good pair 591 of 1216"
       ]
      },
      {
       "output_type": "stream",
       "stream": "stdout",
       "text": [
        "\r",
        "Computed features for good pair 592 of 1216"
       ]
      },
      {
       "output_type": "stream",
       "stream": "stdout",
       "text": [
        "\r",
        "Computed features for good pair 593 of 1216"
       ]
      },
      {
       "output_type": "stream",
       "stream": "stdout",
       "text": [
        "\r",
        "Computed features for good pair 594 of 1216"
       ]
      },
      {
       "output_type": "stream",
       "stream": "stdout",
       "text": [
        "\r",
        "Computed features for good pair 595 of 1216"
       ]
      },
      {
       "output_type": "stream",
       "stream": "stdout",
       "text": [
        "\r",
        "Computed features for good pair 596 of 1216"
       ]
      },
      {
       "output_type": "stream",
       "stream": "stdout",
       "text": [
        "\r",
        "Computed features for good pair 597 of 1216"
       ]
      },
      {
       "output_type": "stream",
       "stream": "stdout",
       "text": [
        "\r",
        "Computed features for good pair 598 of 1216"
       ]
      },
      {
       "output_type": "stream",
       "stream": "stdout",
       "text": [
        "\r",
        "Computed features for good pair 599 of 1216"
       ]
      },
      {
       "output_type": "stream",
       "stream": "stdout",
       "text": [
        "\r",
        "Computed features for good pair 600 of 1216"
       ]
      },
      {
       "output_type": "stream",
       "stream": "stdout",
       "text": [
        "\r",
        "Computed features for good pair 601 of 1216"
       ]
      },
      {
       "output_type": "stream",
       "stream": "stdout",
       "text": [
        "\r",
        "Computed features for good pair 602 of 1216"
       ]
      },
      {
       "output_type": "stream",
       "stream": "stdout",
       "text": [
        "\r",
        "Computed features for good pair 603 of 1216"
       ]
      },
      {
       "output_type": "stream",
       "stream": "stdout",
       "text": [
        "\r",
        "Computed features for good pair 604 of 1216"
       ]
      },
      {
       "output_type": "stream",
       "stream": "stdout",
       "text": [
        "\r",
        "Computed features for good pair 605 of 1216"
       ]
      },
      {
       "output_type": "stream",
       "stream": "stdout",
       "text": [
        "\r",
        "Computed features for good pair 606 of 1216"
       ]
      },
      {
       "output_type": "stream",
       "stream": "stdout",
       "text": [
        "\r",
        "Computed features for good pair 607 of 1216"
       ]
      },
      {
       "output_type": "stream",
       "stream": "stdout",
       "text": [
        "\r",
        "Computed features for good pair 608 of 1216"
       ]
      },
      {
       "output_type": "stream",
       "stream": "stdout",
       "text": [
        "\r",
        "Computed features for good pair 609 of 1216"
       ]
      },
      {
       "output_type": "stream",
       "stream": "stdout",
       "text": [
        "\r",
        "Computed features for good pair 610 of 1216"
       ]
      },
      {
       "output_type": "stream",
       "stream": "stdout",
       "text": [
        "\r",
        "Computed features for good pair 611 of 1216"
       ]
      },
      {
       "output_type": "stream",
       "stream": "stdout",
       "text": [
        "\r",
        "Computed features for good pair 612 of 1216"
       ]
      },
      {
       "output_type": "stream",
       "stream": "stdout",
       "text": [
        "\r",
        "Computed features for good pair 613 of 1216"
       ]
      },
      {
       "output_type": "stream",
       "stream": "stdout",
       "text": [
        "\r",
        "Computed features for good pair 614 of 1216"
       ]
      },
      {
       "output_type": "stream",
       "stream": "stdout",
       "text": [
        "\r",
        "Computed features for good pair 615 of 1216"
       ]
      },
      {
       "output_type": "stream",
       "stream": "stdout",
       "text": [
        "\r",
        "Computed features for good pair 616 of 1216"
       ]
      },
      {
       "output_type": "stream",
       "stream": "stdout",
       "text": [
        "\r",
        "Computed features for good pair 617 of 1216"
       ]
      },
      {
       "output_type": "stream",
       "stream": "stdout",
       "text": [
        "\r",
        "Computed features for good pair 618 of 1216"
       ]
      },
      {
       "output_type": "stream",
       "stream": "stdout",
       "text": [
        "\r",
        "Computed features for good pair 619 of 1216"
       ]
      },
      {
       "output_type": "stream",
       "stream": "stdout",
       "text": [
        "\r",
        "Computed features for good pair 620 of 1216"
       ]
      },
      {
       "output_type": "stream",
       "stream": "stdout",
       "text": [
        "\r",
        "Computed features for good pair 621 of 1216"
       ]
      },
      {
       "output_type": "stream",
       "stream": "stdout",
       "text": [
        "\r",
        "Computed features for good pair 622 of 1216"
       ]
      },
      {
       "output_type": "stream",
       "stream": "stdout",
       "text": [
        "\r",
        "Computed features for good pair 623 of 1216"
       ]
      },
      {
       "output_type": "stream",
       "stream": "stdout",
       "text": [
        "\r",
        "Computed features for good pair 624 of 1216"
       ]
      },
      {
       "output_type": "stream",
       "stream": "stdout",
       "text": [
        "\r",
        "Computed features for good pair 625 of 1216"
       ]
      },
      {
       "output_type": "stream",
       "stream": "stdout",
       "text": [
        "\r",
        "Computed features for good pair 626 of 1216"
       ]
      },
      {
       "output_type": "stream",
       "stream": "stdout",
       "text": [
        "\r",
        "Computed features for good pair 627 of 1216"
       ]
      },
      {
       "output_type": "stream",
       "stream": "stdout",
       "text": [
        "\r",
        "Computed features for good pair 628 of 1216"
       ]
      },
      {
       "output_type": "stream",
       "stream": "stdout",
       "text": [
        "\r",
        "Computed features for good pair 629 of 1216"
       ]
      },
      {
       "output_type": "stream",
       "stream": "stdout",
       "text": [
        "\r",
        "Computed features for good pair 630 of 1216"
       ]
      },
      {
       "output_type": "stream",
       "stream": "stdout",
       "text": [
        "\r",
        "Computed features for good pair 631 of 1216"
       ]
      },
      {
       "output_type": "stream",
       "stream": "stdout",
       "text": [
        "\r",
        "Computed features for good pair 632 of 1216"
       ]
      },
      {
       "output_type": "stream",
       "stream": "stdout",
       "text": [
        "\r",
        "Computed features for good pair 633 of 1216"
       ]
      },
      {
       "output_type": "stream",
       "stream": "stdout",
       "text": [
        "\r",
        "Computed features for good pair 634 of 1216"
       ]
      },
      {
       "output_type": "stream",
       "stream": "stdout",
       "text": [
        "\r",
        "Computed features for good pair 635 of 1216"
       ]
      },
      {
       "output_type": "stream",
       "stream": "stdout",
       "text": [
        "\r",
        "Computed features for good pair 636 of 1216"
       ]
      },
      {
       "output_type": "stream",
       "stream": "stdout",
       "text": [
        "\r",
        "Computed features for good pair 637 of 1216"
       ]
      },
      {
       "output_type": "stream",
       "stream": "stdout",
       "text": [
        "\r",
        "Computed features for good pair 638 of 1216"
       ]
      },
      {
       "output_type": "stream",
       "stream": "stdout",
       "text": [
        "\r",
        "Computed features for good pair 639 of 1216"
       ]
      },
      {
       "output_type": "stream",
       "stream": "stdout",
       "text": [
        "\r",
        "Computed features for good pair 640 of 1216"
       ]
      },
      {
       "output_type": "stream",
       "stream": "stdout",
       "text": [
        "\r",
        "Computed features for good pair 641 of 1216"
       ]
      },
      {
       "output_type": "stream",
       "stream": "stdout",
       "text": [
        "\r",
        "Computed features for good pair 642 of 1216"
       ]
      },
      {
       "output_type": "stream",
       "stream": "stdout",
       "text": [
        "\r",
        "Computed features for good pair 643 of 1216"
       ]
      },
      {
       "output_type": "stream",
       "stream": "stdout",
       "text": [
        "\r",
        "Computed features for good pair 644 of 1216"
       ]
      },
      {
       "output_type": "stream",
       "stream": "stdout",
       "text": [
        "\r",
        "Computed features for good pair 645 of 1216"
       ]
      },
      {
       "output_type": "stream",
       "stream": "stdout",
       "text": [
        "\r",
        "Computed features for good pair 646 of 1216"
       ]
      },
      {
       "output_type": "stream",
       "stream": "stdout",
       "text": [
        "\r",
        "Computed features for good pair 647 of 1216"
       ]
      },
      {
       "output_type": "stream",
       "stream": "stdout",
       "text": [
        "\r",
        "Computed features for good pair 648 of 1216"
       ]
      },
      {
       "output_type": "stream",
       "stream": "stdout",
       "text": [
        "\r",
        "Computed features for good pair 649 of 1216"
       ]
      },
      {
       "output_type": "stream",
       "stream": "stdout",
       "text": [
        "\r",
        "Computed features for good pair 650 of 1216"
       ]
      },
      {
       "output_type": "stream",
       "stream": "stdout",
       "text": [
        "\r",
        "Computed features for good pair 651 of 1216"
       ]
      },
      {
       "output_type": "stream",
       "stream": "stdout",
       "text": [
        "\r",
        "Computed features for good pair 652 of 1216"
       ]
      },
      {
       "output_type": "stream",
       "stream": "stdout",
       "text": [
        "\r",
        "Computed features for good pair 653 of 1216"
       ]
      },
      {
       "output_type": "stream",
       "stream": "stdout",
       "text": [
        "\r",
        "Computed features for good pair 654 of 1216"
       ]
      },
      {
       "output_type": "stream",
       "stream": "stdout",
       "text": [
        "\r",
        "Computed features for good pair 655 of 1216"
       ]
      },
      {
       "output_type": "stream",
       "stream": "stdout",
       "text": [
        "\r",
        "Computed features for good pair 656 of 1216"
       ]
      },
      {
       "output_type": "stream",
       "stream": "stdout",
       "text": [
        "\r",
        "Computed features for good pair 657 of 1216"
       ]
      },
      {
       "output_type": "stream",
       "stream": "stdout",
       "text": [
        "\r",
        "Computed features for good pair 658 of 1216"
       ]
      },
      {
       "output_type": "stream",
       "stream": "stdout",
       "text": [
        "\r",
        "Computed features for good pair 659 of 1216"
       ]
      },
      {
       "output_type": "stream",
       "stream": "stdout",
       "text": [
        "\r",
        "Computed features for good pair 660 of 1216"
       ]
      },
      {
       "output_type": "stream",
       "stream": "stdout",
       "text": [
        "\r",
        "Computed features for good pair 661 of 1216"
       ]
      },
      {
       "output_type": "stream",
       "stream": "stdout",
       "text": [
        "\r",
        "Computed features for good pair 662 of 1216"
       ]
      },
      {
       "output_type": "stream",
       "stream": "stdout",
       "text": [
        "\r",
        "Computed features for good pair 663 of 1216"
       ]
      },
      {
       "output_type": "stream",
       "stream": "stdout",
       "text": [
        "\r",
        "Computed features for good pair 664 of 1216"
       ]
      },
      {
       "output_type": "stream",
       "stream": "stdout",
       "text": [
        "\r",
        "Computed features for good pair 665 of 1216"
       ]
      },
      {
       "output_type": "stream",
       "stream": "stdout",
       "text": [
        "\r",
        "Computed features for good pair 666 of 1216"
       ]
      },
      {
       "output_type": "stream",
       "stream": "stdout",
       "text": [
        "\r",
        "Computed features for good pair 667 of 1216"
       ]
      },
      {
       "output_type": "stream",
       "stream": "stdout",
       "text": [
        "\r",
        "Computed features for good pair 668 of 1216"
       ]
      },
      {
       "output_type": "stream",
       "stream": "stdout",
       "text": [
        "\r",
        "Computed features for good pair 669 of 1216"
       ]
      },
      {
       "output_type": "stream",
       "stream": "stdout",
       "text": [
        "\r",
        "Computed features for good pair 670 of 1216"
       ]
      },
      {
       "output_type": "stream",
       "stream": "stdout",
       "text": [
        "\r",
        "Computed features for good pair 671 of 1216"
       ]
      },
      {
       "output_type": "stream",
       "stream": "stdout",
       "text": [
        "\r",
        "Computed features for good pair 672 of 1216"
       ]
      },
      {
       "output_type": "stream",
       "stream": "stdout",
       "text": [
        "\r",
        "Computed features for good pair 673 of 1216"
       ]
      },
      {
       "output_type": "stream",
       "stream": "stdout",
       "text": [
        "\r",
        "Computed features for good pair 674 of 1216"
       ]
      },
      {
       "output_type": "stream",
       "stream": "stdout",
       "text": [
        "\r",
        "Computed features for good pair 675 of 1216"
       ]
      },
      {
       "output_type": "stream",
       "stream": "stdout",
       "text": [
        "\r",
        "Computed features for good pair 676 of 1216"
       ]
      },
      {
       "output_type": "stream",
       "stream": "stdout",
       "text": [
        "\r",
        "Computed features for good pair 677 of 1216"
       ]
      },
      {
       "output_type": "stream",
       "stream": "stdout",
       "text": [
        "\r",
        "Computed features for good pair 678 of 1216"
       ]
      },
      {
       "output_type": "stream",
       "stream": "stdout",
       "text": [
        "\r",
        "Computed features for good pair 679 of 1216"
       ]
      },
      {
       "output_type": "stream",
       "stream": "stdout",
       "text": [
        "\r",
        "Computed features for good pair 680 of 1216"
       ]
      },
      {
       "output_type": "stream",
       "stream": "stdout",
       "text": [
        "\r",
        "Computed features for good pair 681 of 1216"
       ]
      },
      {
       "output_type": "stream",
       "stream": "stdout",
       "text": [
        "\r",
        "Computed features for good pair 682 of 1216"
       ]
      },
      {
       "output_type": "stream",
       "stream": "stdout",
       "text": [
        "\r",
        "Computed features for good pair 683 of 1216"
       ]
      },
      {
       "output_type": "stream",
       "stream": "stdout",
       "text": [
        "\r",
        "Computed features for good pair 684 of 1216"
       ]
      },
      {
       "output_type": "stream",
       "stream": "stdout",
       "text": [
        "\r",
        "Computed features for good pair 685 of 1216"
       ]
      },
      {
       "output_type": "stream",
       "stream": "stdout",
       "text": [
        "\r",
        "Computed features for good pair 686 of 1216"
       ]
      },
      {
       "output_type": "stream",
       "stream": "stdout",
       "text": [
        "\r",
        "Computed features for good pair 687 of 1216"
       ]
      },
      {
       "output_type": "stream",
       "stream": "stdout",
       "text": [
        "\r",
        "Computed features for good pair 688 of 1216"
       ]
      },
      {
       "output_type": "stream",
       "stream": "stdout",
       "text": [
        "\r",
        "Computed features for good pair 689 of 1216"
       ]
      },
      {
       "output_type": "stream",
       "stream": "stdout",
       "text": [
        "\r",
        "Computed features for good pair 690 of 1216"
       ]
      },
      {
       "output_type": "stream",
       "stream": "stdout",
       "text": [
        "\r",
        "Computed features for good pair 691 of 1216"
       ]
      },
      {
       "output_type": "stream",
       "stream": "stdout",
       "text": [
        "\r",
        "Computed features for good pair 692 of 1216"
       ]
      },
      {
       "output_type": "stream",
       "stream": "stdout",
       "text": [
        "\r",
        "Computed features for good pair 693 of 1216"
       ]
      },
      {
       "output_type": "stream",
       "stream": "stdout",
       "text": [
        "\r",
        "Computed features for good pair 694 of 1216"
       ]
      },
      {
       "output_type": "stream",
       "stream": "stdout",
       "text": [
        "\r",
        "Computed features for good pair 695 of 1216"
       ]
      },
      {
       "output_type": "stream",
       "stream": "stdout",
       "text": [
        "\r",
        "Computed features for good pair 696 of 1216"
       ]
      },
      {
       "output_type": "stream",
       "stream": "stdout",
       "text": [
        "\r",
        "Computed features for good pair 697 of 1216"
       ]
      },
      {
       "output_type": "stream",
       "stream": "stdout",
       "text": [
        "\r",
        "Computed features for good pair 698 of 1216"
       ]
      },
      {
       "output_type": "stream",
       "stream": "stdout",
       "text": [
        "\r",
        "Computed features for good pair 699 of 1216"
       ]
      },
      {
       "output_type": "stream",
       "stream": "stdout",
       "text": [
        "\r",
        "Computed features for good pair 700 of 1216"
       ]
      },
      {
       "output_type": "stream",
       "stream": "stdout",
       "text": [
        "\r",
        "Computed features for good pair 701 of 1216"
       ]
      },
      {
       "output_type": "stream",
       "stream": "stdout",
       "text": [
        "\r",
        "Computed features for good pair 702 of 1216"
       ]
      },
      {
       "output_type": "stream",
       "stream": "stdout",
       "text": [
        "\r",
        "Computed features for good pair 703 of 1216"
       ]
      },
      {
       "output_type": "stream",
       "stream": "stdout",
       "text": [
        "\r",
        "Computed features for good pair 704 of 1216"
       ]
      },
      {
       "output_type": "stream",
       "stream": "stdout",
       "text": [
        "\r",
        "Computed features for good pair 705 of 1216"
       ]
      },
      {
       "output_type": "stream",
       "stream": "stdout",
       "text": [
        "\r",
        "Computed features for good pair 706 of 1216"
       ]
      },
      {
       "output_type": "stream",
       "stream": "stdout",
       "text": [
        "\r",
        "Computed features for good pair 707 of 1216"
       ]
      },
      {
       "output_type": "stream",
       "stream": "stdout",
       "text": [
        "\r",
        "Computed features for good pair 708 of 1216"
       ]
      },
      {
       "output_type": "stream",
       "stream": "stdout",
       "text": [
        "\r",
        "Computed features for good pair 709 of 1216"
       ]
      },
      {
       "output_type": "stream",
       "stream": "stdout",
       "text": [
        "\r",
        "Computed features for good pair 710 of 1216"
       ]
      },
      {
       "output_type": "stream",
       "stream": "stdout",
       "text": [
        "\r",
        "Computed features for good pair 711 of 1216"
       ]
      },
      {
       "output_type": "stream",
       "stream": "stdout",
       "text": [
        "\r",
        "Computed features for good pair 712 of 1216"
       ]
      },
      {
       "output_type": "stream",
       "stream": "stdout",
       "text": [
        "\r",
        "Computed features for good pair 713 of 1216"
       ]
      },
      {
       "output_type": "stream",
       "stream": "stdout",
       "text": [
        "\r",
        "Computed features for good pair 714 of 1216"
       ]
      },
      {
       "output_type": "stream",
       "stream": "stdout",
       "text": [
        "\r",
        "Computed features for good pair 715 of 1216"
       ]
      },
      {
       "output_type": "stream",
       "stream": "stdout",
       "text": [
        "\r",
        "Computed features for good pair 716 of 1216"
       ]
      },
      {
       "output_type": "stream",
       "stream": "stdout",
       "text": [
        "\r",
        "Computed features for good pair 717 of 1216"
       ]
      },
      {
       "output_type": "stream",
       "stream": "stdout",
       "text": [
        "\r",
        "Computed features for good pair 718 of 1216"
       ]
      },
      {
       "output_type": "stream",
       "stream": "stdout",
       "text": [
        "\r",
        "Computed features for good pair 719 of 1216"
       ]
      },
      {
       "output_type": "stream",
       "stream": "stdout",
       "text": [
        "\r",
        "Computed features for good pair 720 of 1216"
       ]
      },
      {
       "output_type": "stream",
       "stream": "stdout",
       "text": [
        "\r",
        "Computed features for good pair 721 of 1216"
       ]
      },
      {
       "output_type": "stream",
       "stream": "stdout",
       "text": [
        "\r",
        "Computed features for good pair 722 of 1216"
       ]
      },
      {
       "output_type": "stream",
       "stream": "stdout",
       "text": [
        "\r",
        "Computed features for good pair 723 of 1216"
       ]
      },
      {
       "output_type": "stream",
       "stream": "stdout",
       "text": [
        "\r",
        "Computed features for good pair 724 of 1216"
       ]
      },
      {
       "output_type": "stream",
       "stream": "stdout",
       "text": [
        "\r",
        "Computed features for good pair 725 of 1216"
       ]
      },
      {
       "output_type": "stream",
       "stream": "stdout",
       "text": [
        "\r",
        "Computed features for good pair 726 of 1216"
       ]
      },
      {
       "output_type": "stream",
       "stream": "stdout",
       "text": [
        "\r",
        "Computed features for good pair 727 of 1216"
       ]
      },
      {
       "output_type": "stream",
       "stream": "stdout",
       "text": [
        "\r",
        "Computed features for good pair 728 of 1216"
       ]
      },
      {
       "output_type": "stream",
       "stream": "stdout",
       "text": [
        "\r",
        "Computed features for good pair 729 of 1216"
       ]
      },
      {
       "output_type": "stream",
       "stream": "stdout",
       "text": [
        "\r",
        "Computed features for good pair 730 of 1216"
       ]
      },
      {
       "output_type": "stream",
       "stream": "stdout",
       "text": [
        "\r",
        "Computed features for good pair 731 of 1216"
       ]
      },
      {
       "output_type": "stream",
       "stream": "stdout",
       "text": [
        "\r",
        "Computed features for good pair 732 of 1216"
       ]
      },
      {
       "output_type": "stream",
       "stream": "stdout",
       "text": [
        "\r",
        "Computed features for good pair 733 of 1216"
       ]
      },
      {
       "output_type": "stream",
       "stream": "stdout",
       "text": [
        "\r",
        "Computed features for good pair 734 of 1216"
       ]
      },
      {
       "output_type": "stream",
       "stream": "stdout",
       "text": [
        "\r",
        "Computed features for good pair 735 of 1216"
       ]
      },
      {
       "output_type": "stream",
       "stream": "stdout",
       "text": [
        "\r",
        "Computed features for good pair 736 of 1216"
       ]
      },
      {
       "output_type": "stream",
       "stream": "stdout",
       "text": [
        "\r",
        "Computed features for good pair 737 of 1216"
       ]
      },
      {
       "output_type": "stream",
       "stream": "stdout",
       "text": [
        "\r",
        "Computed features for good pair 738 of 1216"
       ]
      },
      {
       "output_type": "stream",
       "stream": "stdout",
       "text": [
        "\r",
        "Computed features for good pair 739 of 1216"
       ]
      },
      {
       "output_type": "stream",
       "stream": "stdout",
       "text": [
        "\r",
        "Computed features for good pair 740 of 1216"
       ]
      },
      {
       "output_type": "stream",
       "stream": "stdout",
       "text": [
        "\r",
        "Computed features for good pair 741 of 1216"
       ]
      },
      {
       "output_type": "stream",
       "stream": "stdout",
       "text": [
        "\r",
        "Computed features for good pair 742 of 1216"
       ]
      },
      {
       "output_type": "stream",
       "stream": "stdout",
       "text": [
        "\r",
        "Computed features for good pair 743 of 1216"
       ]
      },
      {
       "output_type": "stream",
       "stream": "stdout",
       "text": [
        "\r",
        "Computed features for good pair 744 of 1216"
       ]
      },
      {
       "output_type": "stream",
       "stream": "stdout",
       "text": [
        "\r",
        "Computed features for good pair 745 of 1216"
       ]
      },
      {
       "output_type": "stream",
       "stream": "stdout",
       "text": [
        "\r",
        "Computed features for good pair 746 of 1216"
       ]
      },
      {
       "output_type": "stream",
       "stream": "stdout",
       "text": [
        "\r",
        "Computed features for good pair 747 of 1216"
       ]
      },
      {
       "output_type": "stream",
       "stream": "stdout",
       "text": [
        "\r",
        "Computed features for good pair 748 of 1216"
       ]
      },
      {
       "output_type": "stream",
       "stream": "stdout",
       "text": [
        "\r",
        "Computed features for good pair 749 of 1216"
       ]
      },
      {
       "output_type": "stream",
       "stream": "stdout",
       "text": [
        "\r",
        "Computed features for good pair 750 of 1216"
       ]
      },
      {
       "output_type": "stream",
       "stream": "stdout",
       "text": [
        "\r",
        "Computed features for good pair 751 of 1216"
       ]
      },
      {
       "output_type": "stream",
       "stream": "stdout",
       "text": [
        "\r",
        "Computed features for good pair 752 of 1216"
       ]
      },
      {
       "output_type": "stream",
       "stream": "stdout",
       "text": [
        "\r",
        "Computed features for good pair 753 of 1216"
       ]
      },
      {
       "output_type": "stream",
       "stream": "stdout",
       "text": [
        "\r",
        "Computed features for good pair 754 of 1216"
       ]
      },
      {
       "output_type": "stream",
       "stream": "stdout",
       "text": [
        "\r",
        "Computed features for good pair 755 of 1216"
       ]
      },
      {
       "output_type": "stream",
       "stream": "stdout",
       "text": [
        "\r",
        "Computed features for good pair 756 of 1216"
       ]
      },
      {
       "output_type": "stream",
       "stream": "stdout",
       "text": [
        "\r",
        "Computed features for good pair 757 of 1216"
       ]
      },
      {
       "output_type": "stream",
       "stream": "stdout",
       "text": [
        "\r",
        "Computed features for good pair 758 of 1216"
       ]
      },
      {
       "output_type": "stream",
       "stream": "stdout",
       "text": [
        "\r",
        "Computed features for good pair 759 of 1216"
       ]
      },
      {
       "output_type": "stream",
       "stream": "stdout",
       "text": [
        "\r",
        "Computed features for good pair 760 of 1216"
       ]
      },
      {
       "output_type": "stream",
       "stream": "stdout",
       "text": [
        "\r",
        "Computed features for good pair 761 of 1216"
       ]
      },
      {
       "output_type": "stream",
       "stream": "stdout",
       "text": [
        "\r",
        "Computed features for good pair 762 of 1216"
       ]
      },
      {
       "output_type": "stream",
       "stream": "stdout",
       "text": [
        "\r",
        "Computed features for good pair 763 of 1216"
       ]
      },
      {
       "output_type": "stream",
       "stream": "stdout",
       "text": [
        "\r",
        "Computed features for good pair 764 of 1216"
       ]
      },
      {
       "output_type": "stream",
       "stream": "stdout",
       "text": [
        "\r",
        "Computed features for good pair 765 of 1216"
       ]
      },
      {
       "output_type": "stream",
       "stream": "stdout",
       "text": [
        "\r",
        "Computed features for good pair 766 of 1216"
       ]
      },
      {
       "output_type": "stream",
       "stream": "stdout",
       "text": [
        "\r",
        "Computed features for good pair 767 of 1216"
       ]
      },
      {
       "output_type": "stream",
       "stream": "stdout",
       "text": [
        "\r",
        "Computed features for good pair 768 of 1216"
       ]
      },
      {
       "output_type": "stream",
       "stream": "stdout",
       "text": [
        "\r",
        "Computed features for good pair 769 of 1216"
       ]
      },
      {
       "output_type": "stream",
       "stream": "stdout",
       "text": [
        "\r",
        "Computed features for good pair 770 of 1216"
       ]
      },
      {
       "output_type": "stream",
       "stream": "stdout",
       "text": [
        "\r",
        "Computed features for good pair 771 of 1216"
       ]
      },
      {
       "output_type": "stream",
       "stream": "stdout",
       "text": [
        "\r",
        "Computed features for good pair 772 of 1216"
       ]
      },
      {
       "output_type": "stream",
       "stream": "stdout",
       "text": [
        "\r",
        "Computed features for good pair 773 of 1216"
       ]
      },
      {
       "output_type": "stream",
       "stream": "stdout",
       "text": [
        "\r",
        "Computed features for good pair 774 of 1216"
       ]
      },
      {
       "output_type": "stream",
       "stream": "stdout",
       "text": [
        "\r",
        "Computed features for good pair 775 of 1216"
       ]
      },
      {
       "output_type": "stream",
       "stream": "stdout",
       "text": [
        "\r",
        "Computed features for good pair 776 of 1216"
       ]
      },
      {
       "output_type": "stream",
       "stream": "stdout",
       "text": [
        "\r",
        "Computed features for good pair 777 of 1216"
       ]
      },
      {
       "output_type": "stream",
       "stream": "stdout",
       "text": [
        "\r",
        "Computed features for good pair 778 of 1216"
       ]
      },
      {
       "output_type": "stream",
       "stream": "stdout",
       "text": [
        "\r",
        "Computed features for good pair 779 of 1216"
       ]
      },
      {
       "output_type": "stream",
       "stream": "stdout",
       "text": [
        "\r",
        "Computed features for good pair 780 of 1216"
       ]
      },
      {
       "output_type": "stream",
       "stream": "stdout",
       "text": [
        "\r",
        "Computed features for good pair 781 of 1216"
       ]
      },
      {
       "output_type": "stream",
       "stream": "stdout",
       "text": [
        "\r",
        "Computed features for good pair 782 of 1216"
       ]
      },
      {
       "output_type": "stream",
       "stream": "stdout",
       "text": [
        "\r",
        "Computed features for good pair 783 of 1216"
       ]
      },
      {
       "output_type": "stream",
       "stream": "stdout",
       "text": [
        "\r",
        "Computed features for good pair 784 of 1216"
       ]
      },
      {
       "output_type": "stream",
       "stream": "stdout",
       "text": [
        "\r",
        "Computed features for good pair 785 of 1216"
       ]
      },
      {
       "output_type": "stream",
       "stream": "stdout",
       "text": [
        "\r",
        "Computed features for good pair 786 of 1216"
       ]
      },
      {
       "output_type": "stream",
       "stream": "stdout",
       "text": [
        "\r",
        "Computed features for good pair 787 of 1216"
       ]
      },
      {
       "output_type": "stream",
       "stream": "stdout",
       "text": [
        "\r",
        "Computed features for good pair 788 of 1216"
       ]
      },
      {
       "output_type": "stream",
       "stream": "stdout",
       "text": [
        "\r",
        "Computed features for good pair 789 of 1216"
       ]
      },
      {
       "output_type": "stream",
       "stream": "stdout",
       "text": [
        "\r",
        "Computed features for good pair 790 of 1216"
       ]
      },
      {
       "output_type": "stream",
       "stream": "stdout",
       "text": [
        "\r",
        "Computed features for good pair 791 of 1216"
       ]
      },
      {
       "output_type": "stream",
       "stream": "stdout",
       "text": [
        "\r",
        "Computed features for good pair 792 of 1216"
       ]
      },
      {
       "output_type": "stream",
       "stream": "stdout",
       "text": [
        "\r",
        "Computed features for good pair 793 of 1216"
       ]
      },
      {
       "output_type": "stream",
       "stream": "stdout",
       "text": [
        "\r",
        "Computed features for good pair 794 of 1216"
       ]
      },
      {
       "output_type": "stream",
       "stream": "stdout",
       "text": [
        "\r",
        "Computed features for good pair 795 of 1216"
       ]
      },
      {
       "output_type": "stream",
       "stream": "stdout",
       "text": [
        "\r",
        "Computed features for good pair 796 of 1216"
       ]
      },
      {
       "output_type": "stream",
       "stream": "stdout",
       "text": [
        "\r",
        "Computed features for good pair 797 of 1216"
       ]
      },
      {
       "output_type": "stream",
       "stream": "stdout",
       "text": [
        "\r",
        "Computed features for good pair 798 of 1216"
       ]
      },
      {
       "output_type": "stream",
       "stream": "stdout",
       "text": [
        "\r",
        "Computed features for good pair 799 of 1216"
       ]
      },
      {
       "output_type": "stream",
       "stream": "stdout",
       "text": [
        "\r",
        "Computed features for good pair 800 of 1216"
       ]
      },
      {
       "output_type": "stream",
       "stream": "stdout",
       "text": [
        "\r",
        "Computed features for good pair 801 of 1216"
       ]
      },
      {
       "output_type": "stream",
       "stream": "stdout",
       "text": [
        "\r",
        "Computed features for good pair 802 of 1216"
       ]
      },
      {
       "output_type": "stream",
       "stream": "stdout",
       "text": [
        "\r",
        "Computed features for good pair 803 of 1216"
       ]
      },
      {
       "output_type": "stream",
       "stream": "stdout",
       "text": [
        "\r",
        "Computed features for good pair 804 of 1216"
       ]
      },
      {
       "output_type": "stream",
       "stream": "stdout",
       "text": [
        "\r",
        "Computed features for good pair 805 of 1216"
       ]
      },
      {
       "output_type": "stream",
       "stream": "stdout",
       "text": [
        "\r",
        "Computed features for good pair 806 of 1216"
       ]
      },
      {
       "output_type": "stream",
       "stream": "stdout",
       "text": [
        "\r",
        "Computed features for good pair 807 of 1216"
       ]
      },
      {
       "output_type": "stream",
       "stream": "stdout",
       "text": [
        "\r",
        "Computed features for good pair 808 of 1216"
       ]
      },
      {
       "output_type": "stream",
       "stream": "stdout",
       "text": [
        "\r",
        "Computed features for good pair 809 of 1216"
       ]
      },
      {
       "output_type": "stream",
       "stream": "stdout",
       "text": [
        "\r",
        "Computed features for good pair 810 of 1216"
       ]
      },
      {
       "output_type": "stream",
       "stream": "stdout",
       "text": [
        "\r",
        "Computed features for good pair 811 of 1216"
       ]
      },
      {
       "output_type": "stream",
       "stream": "stdout",
       "text": [
        "\r",
        "Computed features for good pair 812 of 1216"
       ]
      },
      {
       "output_type": "stream",
       "stream": "stdout",
       "text": [
        "\r",
        "Computed features for good pair 813 of 1216"
       ]
      },
      {
       "output_type": "stream",
       "stream": "stdout",
       "text": [
        "\r",
        "Computed features for good pair 814 of 1216"
       ]
      },
      {
       "output_type": "stream",
       "stream": "stdout",
       "text": [
        "\r",
        "Computed features for good pair 815 of 1216"
       ]
      },
      {
       "output_type": "stream",
       "stream": "stdout",
       "text": [
        "\r",
        "Computed features for good pair 816 of 1216"
       ]
      },
      {
       "output_type": "stream",
       "stream": "stdout",
       "text": [
        "\r",
        "Computed features for good pair 817 of 1216"
       ]
      },
      {
       "output_type": "stream",
       "stream": "stdout",
       "text": [
        "\r",
        "Computed features for good pair 818 of 1216"
       ]
      },
      {
       "output_type": "stream",
       "stream": "stdout",
       "text": [
        "\r",
        "Computed features for good pair 819 of 1216"
       ]
      },
      {
       "output_type": "stream",
       "stream": "stdout",
       "text": [
        "\r",
        "Computed features for good pair 820 of 1216"
       ]
      },
      {
       "output_type": "stream",
       "stream": "stdout",
       "text": [
        "\r",
        "Computed features for good pair 821 of 1216"
       ]
      },
      {
       "output_type": "stream",
       "stream": "stdout",
       "text": [
        "\r",
        "Computed features for good pair 822 of 1216"
       ]
      },
      {
       "output_type": "stream",
       "stream": "stdout",
       "text": [
        "\r",
        "Computed features for good pair 823 of 1216"
       ]
      },
      {
       "output_type": "stream",
       "stream": "stdout",
       "text": [
        "\r",
        "Computed features for good pair 824 of 1216"
       ]
      },
      {
       "output_type": "stream",
       "stream": "stdout",
       "text": [
        "\r",
        "Computed features for good pair 825 of 1216"
       ]
      },
      {
       "output_type": "stream",
       "stream": "stdout",
       "text": [
        "\r",
        "Computed features for good pair 826 of 1216"
       ]
      },
      {
       "output_type": "stream",
       "stream": "stdout",
       "text": [
        "\r",
        "Computed features for good pair 827 of 1216"
       ]
      },
      {
       "output_type": "stream",
       "stream": "stdout",
       "text": [
        "\r",
        "Computed features for good pair 828 of 1216"
       ]
      },
      {
       "output_type": "stream",
       "stream": "stdout",
       "text": [
        "\r",
        "Computed features for good pair 829 of 1216"
       ]
      },
      {
       "output_type": "stream",
       "stream": "stdout",
       "text": [
        "\r",
        "Computed features for good pair 830 of 1216"
       ]
      },
      {
       "output_type": "stream",
       "stream": "stdout",
       "text": [
        "\r",
        "Computed features for good pair 831 of 1216"
       ]
      },
      {
       "output_type": "stream",
       "stream": "stdout",
       "text": [
        "\r",
        "Computed features for good pair 832 of 1216"
       ]
      },
      {
       "output_type": "stream",
       "stream": "stdout",
       "text": [
        "\r",
        "Computed features for good pair 833 of 1216"
       ]
      },
      {
       "output_type": "stream",
       "stream": "stdout",
       "text": [
        "\r",
        "Computed features for good pair 834 of 1216"
       ]
      },
      {
       "output_type": "stream",
       "stream": "stdout",
       "text": [
        "\r",
        "Computed features for good pair 835 of 1216"
       ]
      },
      {
       "output_type": "stream",
       "stream": "stdout",
       "text": [
        "\r",
        "Computed features for good pair 836 of 1216"
       ]
      },
      {
       "output_type": "stream",
       "stream": "stdout",
       "text": [
        "\r",
        "Computed features for good pair 837 of 1216"
       ]
      },
      {
       "output_type": "stream",
       "stream": "stdout",
       "text": [
        "\r",
        "Computed features for good pair 838 of 1216"
       ]
      },
      {
       "output_type": "stream",
       "stream": "stdout",
       "text": [
        "\r",
        "Computed features for good pair 839 of 1216"
       ]
      },
      {
       "output_type": "stream",
       "stream": "stdout",
       "text": [
        "\r",
        "Computed features for good pair 840 of 1216"
       ]
      },
      {
       "output_type": "stream",
       "stream": "stdout",
       "text": [
        "\r",
        "Computed features for good pair 841 of 1216"
       ]
      },
      {
       "output_type": "stream",
       "stream": "stdout",
       "text": [
        "\r",
        "Computed features for good pair 842 of 1216"
       ]
      },
      {
       "output_type": "stream",
       "stream": "stdout",
       "text": [
        "\r",
        "Computed features for good pair 843 of 1216"
       ]
      },
      {
       "output_type": "stream",
       "stream": "stdout",
       "text": [
        "\r",
        "Computed features for good pair 844 of 1216"
       ]
      },
      {
       "output_type": "stream",
       "stream": "stdout",
       "text": [
        "\r",
        "Computed features for good pair 845 of 1216"
       ]
      },
      {
       "output_type": "stream",
       "stream": "stdout",
       "text": [
        "\r",
        "Computed features for good pair 846 of 1216"
       ]
      },
      {
       "output_type": "stream",
       "stream": "stdout",
       "text": [
        "\r",
        "Computed features for good pair 847 of 1216"
       ]
      },
      {
       "output_type": "stream",
       "stream": "stdout",
       "text": [
        "\r",
        "Computed features for good pair 848 of 1216"
       ]
      },
      {
       "output_type": "stream",
       "stream": "stdout",
       "text": [
        "\r",
        "Computed features for good pair 849 of 1216"
       ]
      },
      {
       "output_type": "stream",
       "stream": "stdout",
       "text": [
        "\r",
        "Computed features for good pair 850 of 1216"
       ]
      },
      {
       "output_type": "stream",
       "stream": "stdout",
       "text": [
        "\r",
        "Computed features for good pair 851 of 1216"
       ]
      },
      {
       "output_type": "stream",
       "stream": "stdout",
       "text": [
        "\r",
        "Computed features for good pair 852 of 1216"
       ]
      },
      {
       "output_type": "stream",
       "stream": "stdout",
       "text": [
        "\r",
        "Computed features for good pair 853 of 1216"
       ]
      },
      {
       "output_type": "stream",
       "stream": "stdout",
       "text": [
        "\r",
        "Computed features for good pair 854 of 1216"
       ]
      },
      {
       "output_type": "stream",
       "stream": "stdout",
       "text": [
        "\r",
        "Computed features for good pair 855 of 1216"
       ]
      },
      {
       "output_type": "stream",
       "stream": "stdout",
       "text": [
        "\r",
        "Computed features for good pair 856 of 1216"
       ]
      },
      {
       "output_type": "stream",
       "stream": "stdout",
       "text": [
        "\r",
        "Computed features for good pair 857 of 1216"
       ]
      },
      {
       "output_type": "stream",
       "stream": "stdout",
       "text": [
        "\r",
        "Computed features for good pair 858 of 1216"
       ]
      },
      {
       "output_type": "stream",
       "stream": "stdout",
       "text": [
        "\r",
        "Computed features for good pair 859 of 1216"
       ]
      },
      {
       "output_type": "stream",
       "stream": "stdout",
       "text": [
        "\r",
        "Computed features for good pair 860 of 1216"
       ]
      },
      {
       "output_type": "stream",
       "stream": "stdout",
       "text": [
        "\r",
        "Computed features for good pair 861 of 1216"
       ]
      },
      {
       "output_type": "stream",
       "stream": "stdout",
       "text": [
        "\r",
        "Computed features for good pair 862 of 1216"
       ]
      },
      {
       "output_type": "stream",
       "stream": "stdout",
       "text": [
        "\r",
        "Computed features for good pair 863 of 1216"
       ]
      },
      {
       "output_type": "stream",
       "stream": "stdout",
       "text": [
        "\r",
        "Computed features for good pair 864 of 1216"
       ]
      },
      {
       "output_type": "stream",
       "stream": "stdout",
       "text": [
        "\r",
        "Computed features for good pair 865 of 1216"
       ]
      },
      {
       "output_type": "stream",
       "stream": "stdout",
       "text": [
        "\r",
        "Computed features for good pair 866 of 1216"
       ]
      },
      {
       "output_type": "stream",
       "stream": "stdout",
       "text": [
        "\r",
        "Computed features for good pair 867 of 1216"
       ]
      },
      {
       "output_type": "stream",
       "stream": "stdout",
       "text": [
        "\r",
        "Computed features for good pair 868 of 1216"
       ]
      },
      {
       "output_type": "stream",
       "stream": "stdout",
       "text": [
        "\r",
        "Computed features for good pair 869 of 1216"
       ]
      },
      {
       "output_type": "stream",
       "stream": "stdout",
       "text": [
        "\r",
        "Computed features for good pair 870 of 1216"
       ]
      },
      {
       "output_type": "stream",
       "stream": "stdout",
       "text": [
        "\r",
        "Computed features for good pair 871 of 1216"
       ]
      },
      {
       "output_type": "stream",
       "stream": "stdout",
       "text": [
        "\r",
        "Computed features for good pair 872 of 1216"
       ]
      },
      {
       "output_type": "stream",
       "stream": "stdout",
       "text": [
        "\r",
        "Computed features for good pair 873 of 1216"
       ]
      },
      {
       "output_type": "stream",
       "stream": "stdout",
       "text": [
        "\r",
        "Computed features for good pair 874 of 1216"
       ]
      },
      {
       "output_type": "stream",
       "stream": "stdout",
       "text": [
        "\r",
        "Computed features for good pair 875 of 1216"
       ]
      },
      {
       "output_type": "stream",
       "stream": "stdout",
       "text": [
        "\r",
        "Computed features for good pair 876 of 1216"
       ]
      },
      {
       "output_type": "stream",
       "stream": "stdout",
       "text": [
        "\r",
        "Computed features for good pair 877 of 1216"
       ]
      },
      {
       "output_type": "stream",
       "stream": "stdout",
       "text": [
        "\r",
        "Computed features for good pair 878 of 1216"
       ]
      },
      {
       "output_type": "stream",
       "stream": "stdout",
       "text": [
        "\r",
        "Computed features for good pair 879 of 1216"
       ]
      },
      {
       "output_type": "stream",
       "stream": "stdout",
       "text": [
        "\r",
        "Computed features for good pair 880 of 1216"
       ]
      },
      {
       "output_type": "stream",
       "stream": "stdout",
       "text": [
        "\r",
        "Computed features for good pair 881 of 1216"
       ]
      },
      {
       "output_type": "stream",
       "stream": "stdout",
       "text": [
        "\r",
        "Computed features for good pair 882 of 1216"
       ]
      },
      {
       "output_type": "stream",
       "stream": "stdout",
       "text": [
        "\r",
        "Computed features for good pair 883 of 1216"
       ]
      },
      {
       "output_type": "stream",
       "stream": "stdout",
       "text": [
        "\r",
        "Computed features for good pair 884 of 1216"
       ]
      },
      {
       "output_type": "stream",
       "stream": "stdout",
       "text": [
        "\r",
        "Computed features for good pair 885 of 1216"
       ]
      },
      {
       "output_type": "stream",
       "stream": "stdout",
       "text": [
        "\r",
        "Computed features for good pair 886 of 1216"
       ]
      },
      {
       "output_type": "stream",
       "stream": "stdout",
       "text": [
        "\r",
        "Computed features for good pair 887 of 1216"
       ]
      },
      {
       "output_type": "stream",
       "stream": "stdout",
       "text": [
        "\r",
        "Computed features for good pair 888 of 1216"
       ]
      },
      {
       "output_type": "stream",
       "stream": "stdout",
       "text": [
        "\r",
        "Computed features for good pair 889 of 1216"
       ]
      },
      {
       "output_type": "stream",
       "stream": "stdout",
       "text": [
        "\r",
        "Computed features for good pair 890 of 1216"
       ]
      },
      {
       "output_type": "stream",
       "stream": "stdout",
       "text": [
        "\r",
        "Computed features for good pair 891 of 1216"
       ]
      },
      {
       "output_type": "stream",
       "stream": "stdout",
       "text": [
        "\r",
        "Computed features for good pair 892 of 1216"
       ]
      },
      {
       "output_type": "stream",
       "stream": "stdout",
       "text": [
        "\r",
        "Computed features for good pair 893 of 1216"
       ]
      },
      {
       "output_type": "stream",
       "stream": "stdout",
       "text": [
        "\r",
        "Computed features for good pair 894 of 1216"
       ]
      },
      {
       "output_type": "stream",
       "stream": "stdout",
       "text": [
        "\r",
        "Computed features for good pair 895 of 1216"
       ]
      },
      {
       "output_type": "stream",
       "stream": "stdout",
       "text": [
        "\r",
        "Computed features for good pair 896 of 1216"
       ]
      },
      {
       "output_type": "stream",
       "stream": "stdout",
       "text": [
        "\r",
        "Computed features for good pair 897 of 1216"
       ]
      },
      {
       "output_type": "stream",
       "stream": "stdout",
       "text": [
        "\r",
        "Computed features for good pair 898 of 1216"
       ]
      },
      {
       "output_type": "stream",
       "stream": "stdout",
       "text": [
        "\r",
        "Computed features for good pair 899 of 1216"
       ]
      },
      {
       "output_type": "stream",
       "stream": "stdout",
       "text": [
        "\r",
        "Computed features for good pair 900 of 1216"
       ]
      },
      {
       "output_type": "stream",
       "stream": "stdout",
       "text": [
        "\r",
        "Computed features for good pair 901 of 1216"
       ]
      },
      {
       "output_type": "stream",
       "stream": "stdout",
       "text": [
        "\r",
        "Computed features for good pair 902 of 1216"
       ]
      },
      {
       "output_type": "stream",
       "stream": "stdout",
       "text": [
        "\r",
        "Computed features for good pair 903 of 1216"
       ]
      },
      {
       "output_type": "stream",
       "stream": "stdout",
       "text": [
        "\r",
        "Computed features for good pair 904 of 1216"
       ]
      },
      {
       "output_type": "stream",
       "stream": "stdout",
       "text": [
        "\r",
        "Computed features for good pair 905 of 1216"
       ]
      },
      {
       "output_type": "stream",
       "stream": "stdout",
       "text": [
        "\r",
        "Computed features for good pair 906 of 1216"
       ]
      },
      {
       "output_type": "stream",
       "stream": "stdout",
       "text": [
        "\r",
        "Computed features for good pair 907 of 1216"
       ]
      },
      {
       "output_type": "stream",
       "stream": "stdout",
       "text": [
        "\r",
        "Computed features for good pair 908 of 1216"
       ]
      },
      {
       "output_type": "stream",
       "stream": "stdout",
       "text": [
        "\r",
        "Computed features for good pair 909 of 1216"
       ]
      },
      {
       "output_type": "stream",
       "stream": "stdout",
       "text": [
        "\r",
        "Computed features for good pair 910 of 1216"
       ]
      },
      {
       "output_type": "stream",
       "stream": "stdout",
       "text": [
        "\r",
        "Computed features for good pair 911 of 1216"
       ]
      },
      {
       "output_type": "stream",
       "stream": "stdout",
       "text": [
        "\r",
        "Computed features for good pair 912 of 1216"
       ]
      },
      {
       "output_type": "stream",
       "stream": "stdout",
       "text": [
        "\r",
        "Computed features for good pair 913 of 1216"
       ]
      },
      {
       "output_type": "stream",
       "stream": "stdout",
       "text": [
        "\r",
        "Computed features for good pair 914 of 1216"
       ]
      },
      {
       "output_type": "stream",
       "stream": "stdout",
       "text": [
        "\r",
        "Computed features for good pair 915 of 1216"
       ]
      },
      {
       "output_type": "stream",
       "stream": "stdout",
       "text": [
        "\r",
        "Computed features for good pair 916 of 1216"
       ]
      },
      {
       "output_type": "stream",
       "stream": "stdout",
       "text": [
        "\r",
        "Computed features for good pair 917 of 1216"
       ]
      },
      {
       "output_type": "stream",
       "stream": "stdout",
       "text": [
        "\r",
        "Computed features for good pair 918 of 1216"
       ]
      },
      {
       "output_type": "stream",
       "stream": "stdout",
       "text": [
        "\r",
        "Computed features for good pair 919 of 1216"
       ]
      },
      {
       "output_type": "stream",
       "stream": "stdout",
       "text": [
        "\r",
        "Computed features for good pair 920 of 1216"
       ]
      },
      {
       "output_type": "stream",
       "stream": "stdout",
       "text": [
        "\r",
        "Computed features for good pair 921 of 1216"
       ]
      },
      {
       "output_type": "stream",
       "stream": "stdout",
       "text": [
        "\r",
        "Computed features for good pair 922 of 1216"
       ]
      },
      {
       "output_type": "stream",
       "stream": "stdout",
       "text": [
        "\r",
        "Computed features for good pair 923 of 1216"
       ]
      },
      {
       "output_type": "stream",
       "stream": "stdout",
       "text": [
        "\r",
        "Computed features for good pair 924 of 1216"
       ]
      },
      {
       "output_type": "stream",
       "stream": "stdout",
       "text": [
        "\r",
        "Computed features for good pair 925 of 1216"
       ]
      },
      {
       "output_type": "stream",
       "stream": "stdout",
       "text": [
        "\r",
        "Computed features for good pair 926 of 1216"
       ]
      },
      {
       "output_type": "stream",
       "stream": "stdout",
       "text": [
        "\r",
        "Computed features for good pair 927 of 1216"
       ]
      },
      {
       "output_type": "stream",
       "stream": "stdout",
       "text": [
        "\r",
        "Computed features for good pair 928 of 1216"
       ]
      },
      {
       "output_type": "stream",
       "stream": "stdout",
       "text": [
        "\r",
        "Computed features for good pair 929 of 1216"
       ]
      },
      {
       "output_type": "stream",
       "stream": "stdout",
       "text": [
        "\r",
        "Computed features for good pair 930 of 1216"
       ]
      },
      {
       "output_type": "stream",
       "stream": "stdout",
       "text": [
        "\r",
        "Computed features for good pair 931 of 1216"
       ]
      },
      {
       "output_type": "stream",
       "stream": "stdout",
       "text": [
        "\r",
        "Computed features for good pair 932 of 1216"
       ]
      },
      {
       "output_type": "stream",
       "stream": "stdout",
       "text": [
        "\r",
        "Computed features for good pair 933 of 1216"
       ]
      },
      {
       "output_type": "stream",
       "stream": "stdout",
       "text": [
        "\r",
        "Computed features for good pair 934 of 1216"
       ]
      },
      {
       "output_type": "stream",
       "stream": "stdout",
       "text": [
        "\r",
        "Computed features for good pair 935 of 1216"
       ]
      },
      {
       "output_type": "stream",
       "stream": "stdout",
       "text": [
        "\r",
        "Computed features for good pair 936 of 1216"
       ]
      },
      {
       "output_type": "stream",
       "stream": "stdout",
       "text": [
        "\r",
        "Computed features for good pair 937 of 1216"
       ]
      },
      {
       "output_type": "stream",
       "stream": "stdout",
       "text": [
        "\r",
        "Computed features for good pair 938 of 1216"
       ]
      },
      {
       "output_type": "stream",
       "stream": "stdout",
       "text": [
        "\r",
        "Computed features for good pair 939 of 1216"
       ]
      },
      {
       "output_type": "stream",
       "stream": "stdout",
       "text": [
        "\r",
        "Computed features for good pair 940 of 1216"
       ]
      },
      {
       "output_type": "stream",
       "stream": "stdout",
       "text": [
        "\r",
        "Computed features for good pair 941 of 1216"
       ]
      },
      {
       "output_type": "stream",
       "stream": "stdout",
       "text": [
        "\r",
        "Computed features for good pair 942 of 1216"
       ]
      },
      {
       "output_type": "stream",
       "stream": "stdout",
       "text": [
        "\r",
        "Computed features for good pair 943 of 1216"
       ]
      },
      {
       "output_type": "stream",
       "stream": "stdout",
       "text": [
        "\r",
        "Computed features for good pair 944 of 1216"
       ]
      },
      {
       "output_type": "stream",
       "stream": "stdout",
       "text": [
        "\r",
        "Computed features for good pair 945 of 1216"
       ]
      },
      {
       "output_type": "stream",
       "stream": "stdout",
       "text": [
        "\r",
        "Computed features for good pair 946 of 1216"
       ]
      },
      {
       "output_type": "stream",
       "stream": "stdout",
       "text": [
        "\r",
        "Computed features for good pair 947 of 1216"
       ]
      },
      {
       "output_type": "stream",
       "stream": "stdout",
       "text": [
        "\r",
        "Computed features for good pair 948 of 1216"
       ]
      },
      {
       "output_type": "stream",
       "stream": "stdout",
       "text": [
        "\r",
        "Computed features for good pair 949 of 1216"
       ]
      },
      {
       "output_type": "stream",
       "stream": "stdout",
       "text": [
        "\r",
        "Computed features for good pair 950 of 1216"
       ]
      },
      {
       "output_type": "stream",
       "stream": "stdout",
       "text": [
        "\r",
        "Computed features for good pair 951 of 1216"
       ]
      },
      {
       "output_type": "stream",
       "stream": "stdout",
       "text": [
        "\r",
        "Computed features for good pair 952 of 1216"
       ]
      },
      {
       "output_type": "stream",
       "stream": "stdout",
       "text": [
        "\r",
        "Computed features for good pair 953 of 1216"
       ]
      },
      {
       "output_type": "stream",
       "stream": "stdout",
       "text": [
        "\r",
        "Computed features for good pair 954 of 1216"
       ]
      },
      {
       "output_type": "stream",
       "stream": "stdout",
       "text": [
        "\r",
        "Computed features for good pair 955 of 1216"
       ]
      },
      {
       "output_type": "stream",
       "stream": "stdout",
       "text": [
        "\r",
        "Computed features for good pair 956 of 1216"
       ]
      },
      {
       "output_type": "stream",
       "stream": "stdout",
       "text": [
        "\r",
        "Computed features for good pair 957 of 1216"
       ]
      },
      {
       "output_type": "stream",
       "stream": "stdout",
       "text": [
        "\r",
        "Computed features for good pair 958 of 1216"
       ]
      },
      {
       "output_type": "stream",
       "stream": "stdout",
       "text": [
        "\r",
        "Computed features for good pair 959 of 1216"
       ]
      },
      {
       "output_type": "stream",
       "stream": "stdout",
       "text": [
        "\r",
        "Computed features for good pair 960 of 1216"
       ]
      },
      {
       "output_type": "stream",
       "stream": "stdout",
       "text": [
        "\r",
        "Computed features for good pair 961 of 1216"
       ]
      },
      {
       "output_type": "stream",
       "stream": "stdout",
       "text": [
        "\r",
        "Computed features for good pair 962 of 1216"
       ]
      },
      {
       "output_type": "stream",
       "stream": "stdout",
       "text": [
        "\r",
        "Computed features for good pair 963 of 1216"
       ]
      },
      {
       "output_type": "stream",
       "stream": "stdout",
       "text": [
        "\r",
        "Computed features for good pair 964 of 1216"
       ]
      },
      {
       "output_type": "stream",
       "stream": "stdout",
       "text": [
        "\r",
        "Computed features for good pair 965 of 1216"
       ]
      },
      {
       "output_type": "stream",
       "stream": "stdout",
       "text": [
        "\r",
        "Computed features for good pair 966 of 1216"
       ]
      },
      {
       "output_type": "stream",
       "stream": "stdout",
       "text": [
        "\r",
        "Computed features for good pair 967 of 1216"
       ]
      },
      {
       "output_type": "stream",
       "stream": "stdout",
       "text": [
        "\r",
        "Computed features for good pair 968 of 1216"
       ]
      },
      {
       "output_type": "stream",
       "stream": "stdout",
       "text": [
        "\r",
        "Computed features for good pair 969 of 1216"
       ]
      },
      {
       "output_type": "stream",
       "stream": "stdout",
       "text": [
        "\r",
        "Computed features for good pair 970 of 1216"
       ]
      },
      {
       "output_type": "stream",
       "stream": "stdout",
       "text": [
        "\r",
        "Computed features for good pair 971 of 1216"
       ]
      },
      {
       "output_type": "stream",
       "stream": "stdout",
       "text": [
        "\r",
        "Computed features for good pair 972 of 1216"
       ]
      },
      {
       "output_type": "stream",
       "stream": "stdout",
       "text": [
        "\r",
        "Computed features for good pair 973 of 1216"
       ]
      },
      {
       "output_type": "stream",
       "stream": "stdout",
       "text": [
        "\r",
        "Computed features for good pair 974 of 1216"
       ]
      },
      {
       "output_type": "stream",
       "stream": "stdout",
       "text": [
        "\r",
        "Computed features for good pair 975 of 1216"
       ]
      },
      {
       "output_type": "stream",
       "stream": "stdout",
       "text": [
        "\r",
        "Computed features for good pair 976 of 1216"
       ]
      },
      {
       "output_type": "stream",
       "stream": "stdout",
       "text": [
        "\r",
        "Computed features for good pair 977 of 1216"
       ]
      },
      {
       "output_type": "stream",
       "stream": "stdout",
       "text": [
        "\r",
        "Computed features for good pair 978 of 1216"
       ]
      },
      {
       "output_type": "stream",
       "stream": "stdout",
       "text": [
        "\r",
        "Computed features for good pair 979 of 1216"
       ]
      },
      {
       "output_type": "stream",
       "stream": "stdout",
       "text": [
        "\r",
        "Computed features for good pair 980 of 1216"
       ]
      },
      {
       "output_type": "stream",
       "stream": "stdout",
       "text": [
        "\r",
        "Computed features for good pair 981 of 1216"
       ]
      },
      {
       "output_type": "stream",
       "stream": "stdout",
       "text": [
        "\r",
        "Computed features for good pair 982 of 1216"
       ]
      },
      {
       "output_type": "stream",
       "stream": "stdout",
       "text": [
        "\r",
        "Computed features for good pair 983 of 1216"
       ]
      },
      {
       "output_type": "stream",
       "stream": "stdout",
       "text": [
        "\r",
        "Computed features for good pair 984 of 1216"
       ]
      },
      {
       "output_type": "stream",
       "stream": "stdout",
       "text": [
        "\r",
        "Computed features for good pair 985 of 1216"
       ]
      },
      {
       "output_type": "stream",
       "stream": "stdout",
       "text": [
        "\r",
        "Computed features for good pair 986 of 1216"
       ]
      },
      {
       "output_type": "stream",
       "stream": "stdout",
       "text": [
        "\r",
        "Computed features for good pair 987 of 1216"
       ]
      },
      {
       "output_type": "stream",
       "stream": "stdout",
       "text": [
        "\r",
        "Computed features for good pair 988 of 1216"
       ]
      },
      {
       "output_type": "stream",
       "stream": "stdout",
       "text": [
        "\r",
        "Computed features for good pair 989 of 1216"
       ]
      },
      {
       "output_type": "stream",
       "stream": "stdout",
       "text": [
        "\r",
        "Computed features for good pair 990 of 1216"
       ]
      },
      {
       "output_type": "stream",
       "stream": "stdout",
       "text": [
        "\r",
        "Computed features for good pair 991 of 1216"
       ]
      },
      {
       "output_type": "stream",
       "stream": "stdout",
       "text": [
        "\r",
        "Computed features for good pair 992 of 1216"
       ]
      },
      {
       "output_type": "stream",
       "stream": "stdout",
       "text": [
        "\r",
        "Computed features for good pair 993 of 1216"
       ]
      },
      {
       "output_type": "stream",
       "stream": "stdout",
       "text": [
        "\r",
        "Computed features for good pair 994 of 1216"
       ]
      },
      {
       "output_type": "stream",
       "stream": "stdout",
       "text": [
        "\r",
        "Computed features for good pair 995 of 1216"
       ]
      },
      {
       "output_type": "stream",
       "stream": "stdout",
       "text": [
        "\r",
        "Computed features for good pair 996 of 1216"
       ]
      },
      {
       "output_type": "stream",
       "stream": "stdout",
       "text": [
        "\r",
        "Computed features for good pair 997 of 1216"
       ]
      },
      {
       "output_type": "stream",
       "stream": "stdout",
       "text": [
        "\r",
        "Computed features for good pair 998 of 1216"
       ]
      },
      {
       "output_type": "stream",
       "stream": "stdout",
       "text": [
        "\r",
        "Computed features for good pair 999 of 1216"
       ]
      },
      {
       "output_type": "stream",
       "stream": "stdout",
       "text": [
        "\r",
        "Computed features for good pair 1000 of 1216"
       ]
      },
      {
       "output_type": "stream",
       "stream": "stdout",
       "text": [
        "\r",
        "Computed features for good pair 1001 of 1216"
       ]
      },
      {
       "output_type": "stream",
       "stream": "stdout",
       "text": [
        "\r",
        "Computed features for good pair 1002 of 1216"
       ]
      },
      {
       "output_type": "stream",
       "stream": "stdout",
       "text": [
        "\r",
        "Computed features for good pair 1003 of 1216"
       ]
      },
      {
       "output_type": "stream",
       "stream": "stdout",
       "text": [
        "\r",
        "Computed features for good pair 1004 of 1216"
       ]
      },
      {
       "output_type": "stream",
       "stream": "stdout",
       "text": [
        "\r",
        "Computed features for good pair 1005 of 1216"
       ]
      },
      {
       "output_type": "stream",
       "stream": "stdout",
       "text": [
        "\r",
        "Computed features for good pair 1006 of 1216"
       ]
      },
      {
       "output_type": "stream",
       "stream": "stdout",
       "text": [
        "\r",
        "Computed features for good pair 1007 of 1216"
       ]
      },
      {
       "output_type": "stream",
       "stream": "stdout",
       "text": [
        "\r",
        "Computed features for good pair 1008 of 1216"
       ]
      },
      {
       "output_type": "stream",
       "stream": "stdout",
       "text": [
        "\r",
        "Computed features for good pair 1009 of 1216"
       ]
      },
      {
       "output_type": "stream",
       "stream": "stdout",
       "text": [
        "\r",
        "Computed features for good pair 1010 of 1216"
       ]
      },
      {
       "output_type": "stream",
       "stream": "stdout",
       "text": [
        "\r",
        "Computed features for good pair 1011 of 1216"
       ]
      },
      {
       "output_type": "stream",
       "stream": "stdout",
       "text": [
        "\r",
        "Computed features for good pair 1012 of 1216"
       ]
      },
      {
       "output_type": "stream",
       "stream": "stdout",
       "text": [
        "\r",
        "Computed features for good pair 1013 of 1216"
       ]
      },
      {
       "output_type": "stream",
       "stream": "stdout",
       "text": [
        "\r",
        "Computed features for good pair 1014 of 1216"
       ]
      },
      {
       "output_type": "stream",
       "stream": "stdout",
       "text": [
        "\r",
        "Computed features for good pair 1015 of 1216"
       ]
      },
      {
       "output_type": "stream",
       "stream": "stdout",
       "text": [
        "\r",
        "Computed features for good pair 1016 of 1216"
       ]
      },
      {
       "output_type": "stream",
       "stream": "stdout",
       "text": [
        "\r",
        "Computed features for good pair 1017 of 1216"
       ]
      },
      {
       "output_type": "stream",
       "stream": "stdout",
       "text": [
        "\r",
        "Computed features for good pair 1018 of 1216"
       ]
      },
      {
       "output_type": "stream",
       "stream": "stdout",
       "text": [
        "\r",
        "Computed features for good pair 1019 of 1216"
       ]
      },
      {
       "output_type": "stream",
       "stream": "stdout",
       "text": [
        "\r",
        "Computed features for good pair 1020 of 1216"
       ]
      },
      {
       "output_type": "stream",
       "stream": "stdout",
       "text": [
        "\r",
        "Computed features for good pair 1021 of 1216"
       ]
      },
      {
       "output_type": "stream",
       "stream": "stdout",
       "text": [
        "\r",
        "Computed features for good pair 1022 of 1216"
       ]
      },
      {
       "output_type": "stream",
       "stream": "stdout",
       "text": [
        "\r",
        "Computed features for good pair 1023 of 1216"
       ]
      },
      {
       "output_type": "stream",
       "stream": "stdout",
       "text": [
        "\r",
        "Computed features for good pair 1024 of 1216"
       ]
      },
      {
       "output_type": "stream",
       "stream": "stdout",
       "text": [
        "\r",
        "Computed features for good pair 1025 of 1216"
       ]
      },
      {
       "output_type": "stream",
       "stream": "stdout",
       "text": [
        "\r",
        "Computed features for good pair 1026 of 1216"
       ]
      },
      {
       "output_type": "stream",
       "stream": "stdout",
       "text": [
        "\r",
        "Computed features for good pair 1027 of 1216"
       ]
      },
      {
       "output_type": "stream",
       "stream": "stdout",
       "text": [
        "\r",
        "Computed features for good pair 1028 of 1216"
       ]
      },
      {
       "output_type": "stream",
       "stream": "stdout",
       "text": [
        "\r",
        "Computed features for good pair 1029 of 1216"
       ]
      },
      {
       "output_type": "stream",
       "stream": "stdout",
       "text": [
        "\r",
        "Computed features for good pair 1030 of 1216"
       ]
      },
      {
       "output_type": "stream",
       "stream": "stdout",
       "text": [
        "\r",
        "Computed features for good pair 1031 of 1216"
       ]
      },
      {
       "output_type": "stream",
       "stream": "stdout",
       "text": [
        "\r",
        "Computed features for good pair 1032 of 1216"
       ]
      },
      {
       "output_type": "stream",
       "stream": "stdout",
       "text": [
        "\r",
        "Computed features for good pair 1033 of 1216"
       ]
      },
      {
       "output_type": "stream",
       "stream": "stdout",
       "text": [
        "\r",
        "Computed features for good pair 1034 of 1216"
       ]
      },
      {
       "output_type": "stream",
       "stream": "stdout",
       "text": [
        "\r",
        "Computed features for good pair 1035 of 1216"
       ]
      },
      {
       "output_type": "stream",
       "stream": "stdout",
       "text": [
        "\r",
        "Computed features for good pair 1036 of 1216"
       ]
      },
      {
       "output_type": "stream",
       "stream": "stdout",
       "text": [
        "\r",
        "Computed features for good pair 1037 of 1216"
       ]
      },
      {
       "output_type": "stream",
       "stream": "stdout",
       "text": [
        "\r",
        "Computed features for good pair 1038 of 1216"
       ]
      },
      {
       "output_type": "stream",
       "stream": "stdout",
       "text": [
        "\r",
        "Computed features for good pair 1039 of 1216"
       ]
      },
      {
       "output_type": "stream",
       "stream": "stdout",
       "text": [
        "\r",
        "Computed features for good pair 1040 of 1216"
       ]
      },
      {
       "output_type": "stream",
       "stream": "stdout",
       "text": [
        "\r",
        "Computed features for good pair 1041 of 1216"
       ]
      },
      {
       "output_type": "stream",
       "stream": "stdout",
       "text": [
        "\r",
        "Computed features for good pair 1042 of 1216"
       ]
      },
      {
       "output_type": "stream",
       "stream": "stdout",
       "text": [
        "\r",
        "Computed features for good pair 1043 of 1216"
       ]
      },
      {
       "output_type": "stream",
       "stream": "stdout",
       "text": [
        "\r",
        "Computed features for good pair 1044 of 1216"
       ]
      },
      {
       "output_type": "stream",
       "stream": "stdout",
       "text": [
        "\r",
        "Computed features for good pair 1045 of 1216"
       ]
      },
      {
       "output_type": "stream",
       "stream": "stdout",
       "text": [
        "\r",
        "Computed features for good pair 1046 of 1216"
       ]
      },
      {
       "output_type": "stream",
       "stream": "stdout",
       "text": [
        "\r",
        "Computed features for good pair 1047 of 1216"
       ]
      },
      {
       "output_type": "stream",
       "stream": "stdout",
       "text": [
        "\r",
        "Computed features for good pair 1048 of 1216"
       ]
      },
      {
       "output_type": "stream",
       "stream": "stdout",
       "text": [
        "\r",
        "Computed features for good pair 1049 of 1216"
       ]
      },
      {
       "output_type": "stream",
       "stream": "stdout",
       "text": [
        "\r",
        "Computed features for good pair 1050 of 1216"
       ]
      },
      {
       "output_type": "stream",
       "stream": "stdout",
       "text": [
        "\r",
        "Computed features for good pair 1051 of 1216"
       ]
      },
      {
       "output_type": "stream",
       "stream": "stdout",
       "text": [
        "\r",
        "Computed features for good pair 1052 of 1216"
       ]
      },
      {
       "output_type": "stream",
       "stream": "stdout",
       "text": [
        "\r",
        "Computed features for good pair 1053 of 1216"
       ]
      },
      {
       "output_type": "stream",
       "stream": "stdout",
       "text": [
        "\r",
        "Computed features for good pair 1054 of 1216"
       ]
      },
      {
       "output_type": "stream",
       "stream": "stdout",
       "text": [
        "\r",
        "Computed features for good pair 1055 of 1216"
       ]
      },
      {
       "output_type": "stream",
       "stream": "stdout",
       "text": [
        "\r",
        "Computed features for good pair 1056 of 1216"
       ]
      },
      {
       "output_type": "stream",
       "stream": "stdout",
       "text": [
        "\r",
        "Computed features for good pair 1057 of 1216"
       ]
      },
      {
       "output_type": "stream",
       "stream": "stdout",
       "text": [
        "\r",
        "Computed features for good pair 1058 of 1216"
       ]
      },
      {
       "output_type": "stream",
       "stream": "stdout",
       "text": [
        "\r",
        "Computed features for good pair 1059 of 1216"
       ]
      },
      {
       "output_type": "stream",
       "stream": "stdout",
       "text": [
        "\r",
        "Computed features for good pair 1060 of 1216"
       ]
      },
      {
       "output_type": "stream",
       "stream": "stdout",
       "text": [
        "\r",
        "Computed features for good pair 1061 of 1216"
       ]
      },
      {
       "output_type": "stream",
       "stream": "stdout",
       "text": [
        "\r",
        "Computed features for good pair 1062 of 1216"
       ]
      },
      {
       "output_type": "stream",
       "stream": "stdout",
       "text": [
        "\r",
        "Computed features for good pair 1063 of 1216"
       ]
      },
      {
       "output_type": "stream",
       "stream": "stdout",
       "text": [
        "\r",
        "Computed features for good pair 1064 of 1216"
       ]
      },
      {
       "output_type": "stream",
       "stream": "stdout",
       "text": [
        "\r",
        "Computed features for good pair 1065 of 1216"
       ]
      },
      {
       "output_type": "stream",
       "stream": "stdout",
       "text": [
        "\r",
        "Computed features for good pair 1066 of 1216"
       ]
      },
      {
       "output_type": "stream",
       "stream": "stdout",
       "text": [
        "\r",
        "Computed features for good pair 1067 of 1216"
       ]
      },
      {
       "output_type": "stream",
       "stream": "stdout",
       "text": [
        "\r",
        "Computed features for good pair 1068 of 1216"
       ]
      },
      {
       "output_type": "stream",
       "stream": "stdout",
       "text": [
        "\r",
        "Computed features for good pair 1069 of 1216"
       ]
      },
      {
       "output_type": "stream",
       "stream": "stdout",
       "text": [
        "\r",
        "Computed features for good pair 1070 of 1216"
       ]
      },
      {
       "output_type": "stream",
       "stream": "stdout",
       "text": [
        "\r",
        "Computed features for good pair 1071 of 1216"
       ]
      },
      {
       "output_type": "stream",
       "stream": "stdout",
       "text": [
        "\r",
        "Computed features for good pair 1072 of 1216"
       ]
      },
      {
       "output_type": "stream",
       "stream": "stdout",
       "text": [
        "\r",
        "Computed features for good pair 1073 of 1216"
       ]
      },
      {
       "output_type": "stream",
       "stream": "stdout",
       "text": [
        "\r",
        "Computed features for good pair 1074 of 1216"
       ]
      },
      {
       "output_type": "stream",
       "stream": "stdout",
       "text": [
        "\r",
        "Computed features for good pair 1075 of 1216"
       ]
      },
      {
       "output_type": "stream",
       "stream": "stdout",
       "text": [
        "\r",
        "Computed features for good pair 1076 of 1216"
       ]
      },
      {
       "output_type": "stream",
       "stream": "stdout",
       "text": [
        "\r",
        "Computed features for good pair 1077 of 1216"
       ]
      },
      {
       "output_type": "stream",
       "stream": "stdout",
       "text": [
        "\r",
        "Computed features for good pair 1078 of 1216"
       ]
      },
      {
       "output_type": "stream",
       "stream": "stdout",
       "text": [
        "\r",
        "Computed features for good pair 1079 of 1216"
       ]
      },
      {
       "output_type": "stream",
       "stream": "stdout",
       "text": [
        "\r",
        "Computed features for good pair 1080 of 1216"
       ]
      },
      {
       "output_type": "stream",
       "stream": "stdout",
       "text": [
        "\r",
        "Computed features for good pair 1081 of 1216"
       ]
      },
      {
       "output_type": "stream",
       "stream": "stdout",
       "text": [
        "\r",
        "Computed features for good pair 1082 of 1216"
       ]
      },
      {
       "output_type": "stream",
       "stream": "stdout",
       "text": [
        "\r",
        "Computed features for good pair 1083 of 1216"
       ]
      },
      {
       "output_type": "stream",
       "stream": "stdout",
       "text": [
        "\r",
        "Computed features for good pair 1084 of 1216"
       ]
      },
      {
       "output_type": "stream",
       "stream": "stdout",
       "text": [
        "\r",
        "Computed features for good pair 1085 of 1216"
       ]
      },
      {
       "output_type": "stream",
       "stream": "stdout",
       "text": [
        "\r",
        "Computed features for good pair 1086 of 1216"
       ]
      },
      {
       "output_type": "stream",
       "stream": "stdout",
       "text": [
        "\r",
        "Computed features for good pair 1087 of 1216"
       ]
      },
      {
       "output_type": "stream",
       "stream": "stdout",
       "text": [
        "\r",
        "Computed features for good pair 1088 of 1216"
       ]
      },
      {
       "output_type": "stream",
       "stream": "stdout",
       "text": [
        "\r",
        "Computed features for good pair 1089 of 1216"
       ]
      },
      {
       "output_type": "stream",
       "stream": "stdout",
       "text": [
        "\r",
        "Computed features for good pair 1090 of 1216"
       ]
      },
      {
       "output_type": "stream",
       "stream": "stdout",
       "text": [
        "\r",
        "Computed features for good pair 1091 of 1216"
       ]
      },
      {
       "output_type": "stream",
       "stream": "stdout",
       "text": [
        "\r",
        "Computed features for good pair 1092 of 1216"
       ]
      },
      {
       "output_type": "stream",
       "stream": "stdout",
       "text": [
        "\r",
        "Computed features for good pair 1093 of 1216"
       ]
      },
      {
       "output_type": "stream",
       "stream": "stdout",
       "text": [
        "\r",
        "Computed features for good pair 1094 of 1216"
       ]
      },
      {
       "output_type": "stream",
       "stream": "stdout",
       "text": [
        "\r",
        "Computed features for good pair 1095 of 1216"
       ]
      },
      {
       "output_type": "stream",
       "stream": "stdout",
       "text": [
        "\r",
        "Computed features for good pair 1096 of 1216"
       ]
      },
      {
       "output_type": "stream",
       "stream": "stdout",
       "text": [
        "\r",
        "Computed features for good pair 1097 of 1216"
       ]
      },
      {
       "output_type": "stream",
       "stream": "stdout",
       "text": [
        "\r",
        "Computed features for good pair 1098 of 1216"
       ]
      },
      {
       "output_type": "stream",
       "stream": "stdout",
       "text": [
        "\r",
        "Computed features for good pair 1099 of 1216"
       ]
      },
      {
       "output_type": "stream",
       "stream": "stdout",
       "text": [
        "\r",
        "Computed features for good pair 1100 of 1216"
       ]
      },
      {
       "output_type": "stream",
       "stream": "stdout",
       "text": [
        "\r",
        "Computed features for good pair 1101 of 1216"
       ]
      },
      {
       "output_type": "stream",
       "stream": "stdout",
       "text": [
        "\r",
        "Computed features for good pair 1102 of 1216"
       ]
      },
      {
       "output_type": "stream",
       "stream": "stdout",
       "text": [
        "\r",
        "Computed features for good pair 1103 of 1216"
       ]
      },
      {
       "output_type": "stream",
       "stream": "stdout",
       "text": [
        "\r",
        "Computed features for good pair 1104 of 1216"
       ]
      },
      {
       "output_type": "stream",
       "stream": "stdout",
       "text": [
        "\r",
        "Computed features for good pair 1105 of 1216"
       ]
      },
      {
       "output_type": "stream",
       "stream": "stdout",
       "text": [
        "\r",
        "Computed features for good pair 1106 of 1216"
       ]
      },
      {
       "output_type": "stream",
       "stream": "stdout",
       "text": [
        "\r",
        "Computed features for good pair 1107 of 1216"
       ]
      },
      {
       "output_type": "stream",
       "stream": "stdout",
       "text": [
        "\r",
        "Computed features for good pair 1108 of 1216"
       ]
      },
      {
       "output_type": "stream",
       "stream": "stdout",
       "text": [
        "\r",
        "Computed features for good pair 1109 of 1216"
       ]
      },
      {
       "output_type": "stream",
       "stream": "stdout",
       "text": [
        "\r",
        "Computed features for good pair 1110 of 1216"
       ]
      },
      {
       "output_type": "stream",
       "stream": "stdout",
       "text": [
        "\r",
        "Computed features for good pair 1111 of 1216"
       ]
      },
      {
       "output_type": "stream",
       "stream": "stdout",
       "text": [
        "\r",
        "Computed features for good pair 1112 of 1216"
       ]
      },
      {
       "output_type": "stream",
       "stream": "stdout",
       "text": [
        "\r",
        "Computed features for good pair 1113 of 1216"
       ]
      },
      {
       "output_type": "stream",
       "stream": "stdout",
       "text": [
        "\r",
        "Computed features for good pair 1114 of 1216"
       ]
      },
      {
       "output_type": "stream",
       "stream": "stdout",
       "text": [
        "\r",
        "Computed features for good pair 1115 of 1216"
       ]
      },
      {
       "output_type": "stream",
       "stream": "stdout",
       "text": [
        "\r",
        "Computed features for good pair 1116 of 1216"
       ]
      },
      {
       "output_type": "stream",
       "stream": "stdout",
       "text": [
        "\r",
        "Computed features for good pair 1117 of 1216"
       ]
      },
      {
       "output_type": "stream",
       "stream": "stdout",
       "text": [
        "\r",
        "Computed features for good pair 1118 of 1216"
       ]
      },
      {
       "output_type": "stream",
       "stream": "stdout",
       "text": [
        "\r",
        "Computed features for good pair 1119 of 1216"
       ]
      },
      {
       "output_type": "stream",
       "stream": "stdout",
       "text": [
        "\r",
        "Computed features for good pair 1120 of 1216"
       ]
      },
      {
       "output_type": "stream",
       "stream": "stdout",
       "text": [
        "\r",
        "Computed features for good pair 1121 of 1216"
       ]
      },
      {
       "output_type": "stream",
       "stream": "stdout",
       "text": [
        "\r",
        "Computed features for good pair 1122 of 1216"
       ]
      },
      {
       "output_type": "stream",
       "stream": "stdout",
       "text": [
        "\r",
        "Computed features for good pair 1123 of 1216"
       ]
      },
      {
       "output_type": "stream",
       "stream": "stdout",
       "text": [
        "\r",
        "Computed features for good pair 1124 of 1216"
       ]
      },
      {
       "output_type": "stream",
       "stream": "stdout",
       "text": [
        "\r",
        "Computed features for good pair 1125 of 1216"
       ]
      },
      {
       "output_type": "stream",
       "stream": "stdout",
       "text": [
        "\r",
        "Computed features for good pair 1126 of 1216"
       ]
      },
      {
       "output_type": "stream",
       "stream": "stdout",
       "text": [
        "\r",
        "Computed features for good pair 1127 of 1216"
       ]
      },
      {
       "output_type": "stream",
       "stream": "stdout",
       "text": [
        "\r",
        "Computed features for good pair 1128 of 1216"
       ]
      },
      {
       "output_type": "stream",
       "stream": "stdout",
       "text": [
        "\r",
        "Computed features for good pair 1129 of 1216"
       ]
      },
      {
       "output_type": "stream",
       "stream": "stdout",
       "text": [
        "\r",
        "Computed features for good pair 1130 of 1216"
       ]
      },
      {
       "output_type": "stream",
       "stream": "stdout",
       "text": [
        "\r",
        "Computed features for good pair 1131 of 1216"
       ]
      },
      {
       "output_type": "stream",
       "stream": "stdout",
       "text": [
        "\r",
        "Computed features for good pair 1132 of 1216"
       ]
      },
      {
       "output_type": "stream",
       "stream": "stdout",
       "text": [
        "\r",
        "Computed features for good pair 1133 of 1216"
       ]
      },
      {
       "output_type": "stream",
       "stream": "stdout",
       "text": [
        "\r",
        "Computed features for good pair 1134 of 1216"
       ]
      },
      {
       "output_type": "stream",
       "stream": "stdout",
       "text": [
        "\r",
        "Computed features for good pair 1135 of 1216"
       ]
      },
      {
       "output_type": "stream",
       "stream": "stdout",
       "text": [
        "\r",
        "Computed features for good pair 1136 of 1216"
       ]
      },
      {
       "output_type": "stream",
       "stream": "stdout",
       "text": [
        "\r",
        "Computed features for good pair 1137 of 1216"
       ]
      },
      {
       "output_type": "stream",
       "stream": "stdout",
       "text": [
        "\r",
        "Computed features for good pair 1138 of 1216"
       ]
      },
      {
       "output_type": "stream",
       "stream": "stdout",
       "text": [
        "\r",
        "Computed features for good pair 1139 of 1216"
       ]
      },
      {
       "output_type": "stream",
       "stream": "stdout",
       "text": [
        "\r",
        "Computed features for good pair 1140 of 1216"
       ]
      },
      {
       "output_type": "stream",
       "stream": "stdout",
       "text": [
        "\r",
        "Computed features for good pair 1141 of 1216"
       ]
      },
      {
       "output_type": "stream",
       "stream": "stdout",
       "text": [
        "\r",
        "Computed features for good pair 1142 of 1216"
       ]
      },
      {
       "output_type": "stream",
       "stream": "stdout",
       "text": [
        "\r",
        "Computed features for good pair 1143 of 1216"
       ]
      },
      {
       "output_type": "stream",
       "stream": "stdout",
       "text": [
        "\r",
        "Computed features for good pair 1144 of 1216"
       ]
      },
      {
       "output_type": "stream",
       "stream": "stdout",
       "text": [
        "\r",
        "Computed features for good pair 1145 of 1216"
       ]
      },
      {
       "output_type": "stream",
       "stream": "stdout",
       "text": [
        "\r",
        "Computed features for good pair 1146 of 1216"
       ]
      },
      {
       "output_type": "stream",
       "stream": "stdout",
       "text": [
        "\r",
        "Computed features for good pair 1147 of 1216"
       ]
      },
      {
       "output_type": "stream",
       "stream": "stdout",
       "text": [
        "\r",
        "Computed features for good pair 1148 of 1216"
       ]
      },
      {
       "output_type": "stream",
       "stream": "stdout",
       "text": [
        "\r",
        "Computed features for good pair 1149 of 1216"
       ]
      },
      {
       "output_type": "stream",
       "stream": "stdout",
       "text": [
        "\r",
        "Computed features for good pair 1150 of 1216"
       ]
      },
      {
       "output_type": "stream",
       "stream": "stdout",
       "text": [
        "\r",
        "Computed features for good pair 1151 of 1216"
       ]
      },
      {
       "output_type": "stream",
       "stream": "stdout",
       "text": [
        "\r",
        "Computed features for good pair 1152 of 1216"
       ]
      },
      {
       "output_type": "stream",
       "stream": "stdout",
       "text": [
        "\r",
        "Computed features for good pair 1153 of 1216"
       ]
      },
      {
       "output_type": "stream",
       "stream": "stdout",
       "text": [
        "\r",
        "Computed features for good pair 1154 of 1216"
       ]
      },
      {
       "output_type": "stream",
       "stream": "stdout",
       "text": [
        "\r",
        "Computed features for good pair 1155 of 1216"
       ]
      },
      {
       "output_type": "stream",
       "stream": "stdout",
       "text": [
        "\r",
        "Computed features for good pair 1156 of 1216"
       ]
      },
      {
       "output_type": "stream",
       "stream": "stdout",
       "text": [
        "\r",
        "Computed features for good pair 1157 of 1216"
       ]
      },
      {
       "output_type": "stream",
       "stream": "stdout",
       "text": [
        "\r",
        "Computed features for good pair 1158 of 1216"
       ]
      },
      {
       "output_type": "stream",
       "stream": "stdout",
       "text": [
        "\r",
        "Computed features for good pair 1159 of 1216"
       ]
      },
      {
       "output_type": "stream",
       "stream": "stdout",
       "text": [
        "\r",
        "Computed features for good pair 1160 of 1216"
       ]
      },
      {
       "output_type": "stream",
       "stream": "stdout",
       "text": [
        "\r",
        "Computed features for good pair 1161 of 1216"
       ]
      },
      {
       "output_type": "stream",
       "stream": "stdout",
       "text": [
        "\r",
        "Computed features for good pair 1162 of 1216"
       ]
      },
      {
       "output_type": "stream",
       "stream": "stdout",
       "text": [
        "\r",
        "Computed features for good pair 1163 of 1216"
       ]
      },
      {
       "output_type": "stream",
       "stream": "stdout",
       "text": [
        "\r",
        "Computed features for good pair 1164 of 1216"
       ]
      },
      {
       "output_type": "stream",
       "stream": "stdout",
       "text": [
        "\r",
        "Computed features for good pair 1165 of 1216"
       ]
      },
      {
       "output_type": "stream",
       "stream": "stdout",
       "text": [
        "\r",
        "Computed features for good pair 1166 of 1216"
       ]
      },
      {
       "output_type": "stream",
       "stream": "stdout",
       "text": [
        "\r",
        "Computed features for good pair 1167 of 1216"
       ]
      },
      {
       "output_type": "stream",
       "stream": "stdout",
       "text": [
        "\r",
        "Computed features for good pair 1168 of 1216"
       ]
      },
      {
       "output_type": "stream",
       "stream": "stdout",
       "text": [
        "\r",
        "Computed features for good pair 1169 of 1216"
       ]
      },
      {
       "output_type": "stream",
       "stream": "stdout",
       "text": [
        "\r",
        "Computed features for good pair 1170 of 1216"
       ]
      },
      {
       "output_type": "stream",
       "stream": "stdout",
       "text": [
        "\r",
        "Computed features for good pair 1171 of 1216"
       ]
      },
      {
       "output_type": "stream",
       "stream": "stdout",
       "text": [
        "\r",
        "Computed features for good pair 1172 of 1216"
       ]
      },
      {
       "output_type": "stream",
       "stream": "stdout",
       "text": [
        "\r",
        "Computed features for good pair 1173 of 1216"
       ]
      },
      {
       "output_type": "stream",
       "stream": "stdout",
       "text": [
        "\r",
        "Computed features for good pair 1174 of 1216"
       ]
      },
      {
       "output_type": "stream",
       "stream": "stdout",
       "text": [
        "\r",
        "Computed features for good pair 1175 of 1216"
       ]
      },
      {
       "output_type": "stream",
       "stream": "stdout",
       "text": [
        "\r",
        "Computed features for good pair 1176 of 1216"
       ]
      },
      {
       "output_type": "stream",
       "stream": "stdout",
       "text": [
        "\r",
        "Computed features for good pair 1177 of 1216"
       ]
      },
      {
       "output_type": "stream",
       "stream": "stdout",
       "text": [
        "\r",
        "Computed features for good pair 1178 of 1216"
       ]
      },
      {
       "output_type": "stream",
       "stream": "stdout",
       "text": [
        "\r",
        "Computed features for good pair 1179 of 1216"
       ]
      },
      {
       "output_type": "stream",
       "stream": "stdout",
       "text": [
        "\r",
        "Computed features for good pair 1180 of 1216"
       ]
      },
      {
       "output_type": "stream",
       "stream": "stdout",
       "text": [
        "\r",
        "Computed features for good pair 1181 of 1216"
       ]
      },
      {
       "output_type": "stream",
       "stream": "stdout",
       "text": [
        "\r",
        "Computed features for good pair 1182 of 1216"
       ]
      },
      {
       "output_type": "stream",
       "stream": "stdout",
       "text": [
        "\r",
        "Computed features for good pair 1183 of 1216"
       ]
      },
      {
       "output_type": "stream",
       "stream": "stdout",
       "text": [
        "\r",
        "Computed features for good pair 1184 of 1216"
       ]
      },
      {
       "output_type": "stream",
       "stream": "stdout",
       "text": [
        "\r",
        "Computed features for good pair 1185 of 1216"
       ]
      },
      {
       "output_type": "stream",
       "stream": "stdout",
       "text": [
        "\r",
        "Computed features for good pair 1186 of 1216"
       ]
      },
      {
       "output_type": "stream",
       "stream": "stdout",
       "text": [
        "\r",
        "Computed features for good pair 1187 of 1216"
       ]
      },
      {
       "output_type": "stream",
       "stream": "stdout",
       "text": [
        "\r",
        "Computed features for good pair 1188 of 1216"
       ]
      },
      {
       "output_type": "stream",
       "stream": "stdout",
       "text": [
        "\r",
        "Computed features for good pair 1189 of 1216"
       ]
      },
      {
       "output_type": "stream",
       "stream": "stdout",
       "text": [
        "\r",
        "Computed features for good pair 1190 of 1216"
       ]
      },
      {
       "output_type": "stream",
       "stream": "stdout",
       "text": [
        "\r",
        "Computed features for good pair 1191 of 1216"
       ]
      },
      {
       "output_type": "stream",
       "stream": "stdout",
       "text": [
        "\r",
        "Computed features for good pair 1192 of 1216"
       ]
      },
      {
       "output_type": "stream",
       "stream": "stdout",
       "text": [
        "\r",
        "Computed features for good pair 1193 of 1216"
       ]
      },
      {
       "output_type": "stream",
       "stream": "stdout",
       "text": [
        "\r",
        "Computed features for good pair 1194 of 1216"
       ]
      },
      {
       "output_type": "stream",
       "stream": "stdout",
       "text": [
        "\r",
        "Computed features for good pair 1195 of 1216"
       ]
      },
      {
       "output_type": "stream",
       "stream": "stdout",
       "text": [
        "\r",
        "Computed features for good pair 1196 of 1216"
       ]
      },
      {
       "output_type": "stream",
       "stream": "stdout",
       "text": [
        "\r",
        "Computed features for good pair 1197 of 1216"
       ]
      },
      {
       "output_type": "stream",
       "stream": "stdout",
       "text": [
        "\r",
        "Computed features for good pair 1198 of 1216"
       ]
      },
      {
       "output_type": "stream",
       "stream": "stdout",
       "text": [
        "\r",
        "Computed features for good pair 1199 of 1216"
       ]
      },
      {
       "output_type": "stream",
       "stream": "stdout",
       "text": [
        "\r",
        "Computed features for good pair 1200 of 1216"
       ]
      },
      {
       "output_type": "stream",
       "stream": "stdout",
       "text": [
        "\r",
        "Computed features for good pair 1201 of 1216"
       ]
      },
      {
       "output_type": "stream",
       "stream": "stdout",
       "text": [
        "\r",
        "Computed features for good pair 1202 of 1216"
       ]
      },
      {
       "output_type": "stream",
       "stream": "stdout",
       "text": [
        "\r",
        "Computed features for good pair 1203 of 1216"
       ]
      },
      {
       "output_type": "stream",
       "stream": "stdout",
       "text": [
        "\r",
        "Computed features for good pair 1204 of 1216"
       ]
      },
      {
       "output_type": "stream",
       "stream": "stdout",
       "text": [
        "\r",
        "Computed features for good pair 1205 of 1216"
       ]
      },
      {
       "output_type": "stream",
       "stream": "stdout",
       "text": [
        "\r",
        "Computed features for good pair 1206 of 1216"
       ]
      },
      {
       "output_type": "stream",
       "stream": "stdout",
       "text": [
        "\r",
        "Computed features for good pair 1207 of 1216"
       ]
      },
      {
       "output_type": "stream",
       "stream": "stdout",
       "text": [
        "\r",
        "Computed features for good pair 1208 of 1216"
       ]
      },
      {
       "output_type": "stream",
       "stream": "stdout",
       "text": [
        "\r",
        "Computed features for good pair 1209 of 1216"
       ]
      },
      {
       "output_type": "stream",
       "stream": "stdout",
       "text": [
        "\r",
        "Computed features for good pair 1210 of 1216"
       ]
      },
      {
       "output_type": "stream",
       "stream": "stdout",
       "text": [
        "\r",
        "Computed features for good pair 1211 of 1216"
       ]
      },
      {
       "output_type": "stream",
       "stream": "stdout",
       "text": [
        "\r",
        "Computed features for good pair 1212 of 1216"
       ]
      },
      {
       "output_type": "stream",
       "stream": "stdout",
       "text": [
        "\r",
        "Computed features for good pair 1213 of 1216"
       ]
      },
      {
       "output_type": "stream",
       "stream": "stdout",
       "text": [
        "\r",
        "Computed features for good pair 1214 of 1216"
       ]
      },
      {
       "output_type": "stream",
       "stream": "stdout",
       "text": [
        "\r",
        "Computed features for good pair 1215 of 1216"
       ]
      },
      {
       "output_type": "stream",
       "stream": "stdout",
       "text": [
        "\r",
        "Computed features for good pair 1216 of 1216"
       ]
      },
      {
       "output_type": "stream",
       "stream": "stdout",
       "text": [
        "\n",
        "\r",
        "Computed features for bad pair 1 of 20"
       ]
      },
      {
       "output_type": "stream",
       "stream": "stdout",
       "text": [
        "\r",
        "Computed features for bad pair 2 of 20"
       ]
      },
      {
       "output_type": "stream",
       "stream": "stdout",
       "text": [
        "\r",
        "Computed features for bad pair 3 of 20"
       ]
      },
      {
       "output_type": "stream",
       "stream": "stdout",
       "text": [
        "\r",
        "Computed features for bad pair 4 of 20"
       ]
      },
      {
       "output_type": "stream",
       "stream": "stdout",
       "text": [
        "\r",
        "Computed features for bad pair 5 of 20"
       ]
      },
      {
       "output_type": "stream",
       "stream": "stdout",
       "text": [
        "\r",
        "Computed features for bad pair 6 of 20"
       ]
      },
      {
       "output_type": "stream",
       "stream": "stdout",
       "text": [
        "\r",
        "Computed features for bad pair 7 of 20"
       ]
      },
      {
       "output_type": "stream",
       "stream": "stdout",
       "text": [
        "\r",
        "Computed features for bad pair 8 of 20"
       ]
      },
      {
       "output_type": "stream",
       "stream": "stdout",
       "text": [
        "\r",
        "Computed features for bad pair 9 of 20"
       ]
      },
      {
       "output_type": "stream",
       "stream": "stdout",
       "text": [
        "\r",
        "Computed features for bad pair 10 of 20"
       ]
      },
      {
       "output_type": "stream",
       "stream": "stdout",
       "text": [
        "\r",
        "Computed features for bad pair 11 of 20"
       ]
      },
      {
       "output_type": "stream",
       "stream": "stdout",
       "text": [
        "\r",
        "Computed features for bad pair 12 of 20"
       ]
      },
      {
       "output_type": "stream",
       "stream": "stdout",
       "text": [
        "\r",
        "Computed features for bad pair 13 of 20"
       ]
      },
      {
       "output_type": "stream",
       "stream": "stdout",
       "text": [
        "\r",
        "Computed features for bad pair 14 of 20"
       ]
      },
      {
       "output_type": "stream",
       "stream": "stdout",
       "text": [
        "\r",
        "Computed features for bad pair 15 of 20"
       ]
      },
      {
       "output_type": "stream",
       "stream": "stdout",
       "text": [
        "\r",
        "Computed features for bad pair 16 of 20"
       ]
      },
      {
       "output_type": "stream",
       "stream": "stdout",
       "text": [
        "\r",
        "Computed features for bad pair 17 of 20"
       ]
      },
      {
       "output_type": "stream",
       "stream": "stdout",
       "text": [
        "\r",
        "Computed features for bad pair 18 of 20"
       ]
      },
      {
       "output_type": "stream",
       "stream": "stdout",
       "text": [
        "\r",
        "Computed features for bad pair 19 of 20"
       ]
      },
      {
       "output_type": "stream",
       "stream": "stdout",
       "text": [
        "\r",
        "Computed features for bad pair 20 of 20"
       ]
      },
      {
       "output_type": "stream",
       "stream": "stdout",
       "text": [
        "\n",
        "1034.56717801\n",
        "(2, 1216)\n",
        "(2, 20)\n"
       ]
      }
     ],
     "prompt_number": 200
    },
    {
     "cell_type": "code",
     "collapsed": false,
     "input": [
      "## compute grid features for the training examples\n",
      "\n",
      "gridSize = np.array((10, 10))\n",
      "\n",
      "stencils3D = cgf.stencil3D(gridSize[0], gridSize[1], [imageSize[0], imageSize[1], 3])\n",
      "stencils2D = cgf.stencil2D(gridSize[0], gridSize[1], [imageSize[0], imageSize[1], 3])\n",
      "# figure(); imshow(im[:, :, 0][stencils2D[5]].reshape((180, 320)))\n",
      "# figure(); imshow(im[stencils3D[5]].reshape((180, 320, 3)))\n",
      "\n",
      "useFlow = True\n",
      "useAugment = True\n",
      "k = 1.0\n",
      "L = 10.0\n",
      "\n",
      "numTypes = 1\n",
      "if useAugment :\n",
      "    numTypes += 1\n",
      "if useFlow :\n",
      "    numTypes += 1\n",
      "\n",
      "t = time.time()\n",
      "## slow stupid way for now\n",
      "goodExamplesData = np.zeros((numTypes*np.prod(gridSize), len(goodPairsIdxs.T)))\n",
      "# goodExamplesData = np.concatenate((goodExamplesData, np.zeros((np.prod(gridSize), len(goodPairsIdxs.T)))))\n",
      "for i, pair in enumerate(goodPairsIdxs.T) :\n",
      "    frame1 = cv2.cvtColor(np.array(Image.open(framePaths[pair[0]])), cv2.COLOR_RGB2GRAY)\n",
      "    frame2 = cv2.cvtColor(np.array(Image.open(framePaths[pair[1]])), cv2.COLOR_RGB2GRAY)\n",
      "    \n",
      "    if useFlow :\n",
      "        flow = np.array(cv2.calcOpticalFlowFarneback(frame1, frame2,\n",
      "                                                     0.5, 3, 15, 3, 5, 1.1, 0), np.float64)\n",
      "        ## sigmoid\n",
      "        flow = L/(1.0+np.exp(-k*flow))\n",
      "    for j, stencil in enumerate(stencils2D) :\n",
      "        ## add average SSD to feature vector\n",
      "        goodExamplesData[j, i] = np.average((frame1[stencil]/255.0-frame2[stencil]/255.0)**2)\n",
      "        ## add average flow intensity\n",
      "        if useFlow :\n",
      "            goodExamplesData[j+np.prod(gridSize), i] = np.average(np.linalg.norm(np.array([flow[:, :, 0][stencil], flow[:, :, 1][stencil]]), axis=0))\n",
      "        \n",
      "        ## add augmentation to x\n",
      "        if useAugment :\n",
      "            shift = 2\n",
      "            if not useFlow :\n",
      "                shift = 1\n",
      "            goodExamplesData[j+shift*np.prod(gridSize), i] = np.average(((255.0-frame1[stencil])/255.0-frame2[stencil]/255.0)**2+\n",
      "                                                                        ((255.0-frame2[stencil])/255.0-frame1[stencil]/255.0)**2)\n",
      "        \n",
      "    sys.stdout.write('\\r' + \"Computed features for good pair \" + np.string_(i+1) + \" of \" + np.string_(len(goodPairsIdxs.T)))\n",
      "    sys.stdout.flush()\n",
      "print\n",
      "badExamplesData = np.zeros((numTypes*np.prod(gridSize), len(badPairsIdxs.T)))\n",
      "# badExamplesData = np.concatenate((badExamplesData, np.zeros((np.prod(gridSize), len(badPairsIdxs.T)))))\n",
      "for i, pair in enumerate(badPairsIdxs.T) :\n",
      "    frame1 = cv2.cvtColor(np.array(Image.open(framePaths[pair[0]])), cv2.COLOR_RGB2GRAY)\n",
      "    frame2 = cv2.cvtColor(np.array(Image.open(framePaths[pair[1]])), cv2.COLOR_RGB2GRAY)\n",
      "    \n",
      "    if useFlow :\n",
      "        flow = np.array(cv2.calcOpticalFlowFarneback(frame1, frame2,\n",
      "                                                     0.5, 3, 15, 3, 5, 1.1, 0), np.float64)\n",
      "        ## sigmoid\n",
      "        flow = L/(1.0+np.exp(-k*flow))\n",
      "    \n",
      "    for j, stencil in enumerate(stencils2D) :\n",
      "        ## add SSD to feature vector\n",
      "        badExamplesData[j, i] = np.average((frame1[stencil]/255.0-frame2[stencil]/255.0)**2)\n",
      "        ## add average flow intensity\n",
      "        if useFlow :\n",
      "            badExamplesData[j+np.prod(gridSize), i] = np.average(np.linalg.norm(np.array([flow[:, :, 0][stencil], flow[:, :, 1][stencil]]), axis=0))\n",
      "            \n",
      "        ## add augmentation to x\n",
      "        if useAugment :\n",
      "            shift = 2\n",
      "            if not useFlow :\n",
      "                shift = 1\n",
      "            badExamplesData[j+shift*np.prod(gridSize), i] = np.average(((255.0-frame1[stencil])/255.0-frame2[stencil]/255.0)**2+\n",
      "                                                                       ((255.0-frame2[stencil])/255.0-frame1[stencil]/255.0)**2)\n",
      "        \n",
      "    sys.stdout.write('\\r' + \"Computed features for bad pair \" + np.string_(i+1) + \" of \" + np.string_(len(badPairsIdxs.T)))\n",
      "    sys.stdout.flush()\n",
      "print \n",
      "print time.time() - t\n",
      "print goodPairsIdxs.shape\n",
      "print badPairsIdxs.shape"
     ],
     "language": "python",
     "metadata": {},
     "outputs": [
      {
       "output_type": "stream",
       "stream": "stdout",
       "text": [
        "\r",
        "Computed features for good pair 1 of 1216"
       ]
      },
      {
       "output_type": "stream",
       "stream": "stdout",
       "text": [
        "\r",
        "Computed features for good pair 2 of 1216"
       ]
      },
      {
       "output_type": "stream",
       "stream": "stdout",
       "text": [
        "\r",
        "Computed features for good pair 3 of 1216"
       ]
      },
      {
       "output_type": "stream",
       "stream": "stdout",
       "text": [
        "\r",
        "Computed features for good pair 4 of 1216"
       ]
      },
      {
       "output_type": "stream",
       "stream": "stdout",
       "text": [
        "\r",
        "Computed features for good pair 5 of 1216"
       ]
      },
      {
       "output_type": "stream",
       "stream": "stdout",
       "text": [
        "\r",
        "Computed features for good pair 6 of 1216"
       ]
      },
      {
       "output_type": "stream",
       "stream": "stdout",
       "text": [
        "\r",
        "Computed features for good pair 7 of 1216"
       ]
      },
      {
       "output_type": "stream",
       "stream": "stdout",
       "text": [
        "\r",
        "Computed features for good pair 8 of 1216"
       ]
      },
      {
       "output_type": "stream",
       "stream": "stdout",
       "text": [
        "\r",
        "Computed features for good pair 9 of 1216"
       ]
      },
      {
       "output_type": "stream",
       "stream": "stdout",
       "text": [
        "\r",
        "Computed features for good pair 10 of 1216"
       ]
      },
      {
       "output_type": "stream",
       "stream": "stdout",
       "text": [
        "\r",
        "Computed features for good pair 11 of 1216"
       ]
      },
      {
       "output_type": "stream",
       "stream": "stdout",
       "text": [
        "\r",
        "Computed features for good pair 12 of 1216"
       ]
      },
      {
       "output_type": "stream",
       "stream": "stdout",
       "text": [
        "\r",
        "Computed features for good pair 13 of 1216"
       ]
      },
      {
       "output_type": "stream",
       "stream": "stdout",
       "text": [
        "\r",
        "Computed features for good pair 14 of 1216"
       ]
      },
      {
       "output_type": "stream",
       "stream": "stdout",
       "text": [
        "\r",
        "Computed features for good pair 15 of 1216"
       ]
      },
      {
       "output_type": "stream",
       "stream": "stdout",
       "text": [
        "\r",
        "Computed features for good pair 16 of 1216"
       ]
      },
      {
       "output_type": "stream",
       "stream": "stdout",
       "text": [
        "\r",
        "Computed features for good pair 17 of 1216"
       ]
      },
      {
       "output_type": "stream",
       "stream": "stdout",
       "text": [
        "\r",
        "Computed features for good pair 18 of 1216"
       ]
      },
      {
       "output_type": "stream",
       "stream": "stdout",
       "text": [
        "\r",
        "Computed features for good pair 19 of 1216"
       ]
      },
      {
       "output_type": "stream",
       "stream": "stdout",
       "text": [
        "\r",
        "Computed features for good pair 20 of 1216"
       ]
      },
      {
       "output_type": "stream",
       "stream": "stdout",
       "text": [
        "\r",
        "Computed features for good pair 21 of 1216"
       ]
      },
      {
       "output_type": "stream",
       "stream": "stdout",
       "text": [
        "\r",
        "Computed features for good pair 22 of 1216"
       ]
      },
      {
       "output_type": "stream",
       "stream": "stdout",
       "text": [
        "\r",
        "Computed features for good pair 23 of 1216"
       ]
      },
      {
       "output_type": "stream",
       "stream": "stdout",
       "text": [
        "\r",
        "Computed features for good pair 24 of 1216"
       ]
      },
      {
       "output_type": "stream",
       "stream": "stdout",
       "text": [
        "\r",
        "Computed features for good pair 25 of 1216"
       ]
      },
      {
       "output_type": "stream",
       "stream": "stdout",
       "text": [
        "\r",
        "Computed features for good pair 26 of 1216"
       ]
      },
      {
       "output_type": "stream",
       "stream": "stdout",
       "text": [
        "\r",
        "Computed features for good pair 27 of 1216"
       ]
      },
      {
       "output_type": "stream",
       "stream": "stdout",
       "text": [
        "\r",
        "Computed features for good pair 28 of 1216"
       ]
      },
      {
       "output_type": "stream",
       "stream": "stdout",
       "text": [
        "\r",
        "Computed features for good pair 29 of 1216"
       ]
      },
      {
       "output_type": "stream",
       "stream": "stdout",
       "text": [
        "\r",
        "Computed features for good pair 30 of 1216"
       ]
      },
      {
       "output_type": "stream",
       "stream": "stdout",
       "text": [
        "\r",
        "Computed features for good pair 31 of 1216"
       ]
      },
      {
       "output_type": "stream",
       "stream": "stdout",
       "text": [
        "\r",
        "Computed features for good pair 32 of 1216"
       ]
      },
      {
       "output_type": "stream",
       "stream": "stdout",
       "text": [
        "\r",
        "Computed features for good pair 33 of 1216"
       ]
      },
      {
       "output_type": "stream",
       "stream": "stdout",
       "text": [
        "\r",
        "Computed features for good pair 34 of 1216"
       ]
      },
      {
       "output_type": "stream",
       "stream": "stdout",
       "text": [
        "\r",
        "Computed features for good pair 35 of 1216"
       ]
      },
      {
       "output_type": "stream",
       "stream": "stdout",
       "text": [
        "\r",
        "Computed features for good pair 36 of 1216"
       ]
      },
      {
       "output_type": "stream",
       "stream": "stdout",
       "text": [
        "\r",
        "Computed features for good pair 37 of 1216"
       ]
      },
      {
       "output_type": "stream",
       "stream": "stdout",
       "text": [
        "\r",
        "Computed features for good pair 38 of 1216"
       ]
      },
      {
       "output_type": "stream",
       "stream": "stdout",
       "text": [
        "\r",
        "Computed features for good pair 39 of 1216"
       ]
      },
      {
       "output_type": "stream",
       "stream": "stdout",
       "text": [
        "\r",
        "Computed features for good pair 40 of 1216"
       ]
      },
      {
       "output_type": "stream",
       "stream": "stdout",
       "text": [
        "\r",
        "Computed features for good pair 41 of 1216"
       ]
      },
      {
       "output_type": "stream",
       "stream": "stdout",
       "text": [
        "\r",
        "Computed features for good pair 42 of 1216"
       ]
      },
      {
       "output_type": "stream",
       "stream": "stdout",
       "text": [
        "\r",
        "Computed features for good pair 43 of 1216"
       ]
      },
      {
       "output_type": "stream",
       "stream": "stdout",
       "text": [
        "\r",
        "Computed features for good pair 44 of 1216"
       ]
      },
      {
       "output_type": "stream",
       "stream": "stdout",
       "text": [
        "\r",
        "Computed features for good pair 45 of 1216"
       ]
      },
      {
       "output_type": "stream",
       "stream": "stdout",
       "text": [
        "\r",
        "Computed features for good pair 46 of 1216"
       ]
      },
      {
       "output_type": "stream",
       "stream": "stdout",
       "text": [
        "\r",
        "Computed features for good pair 47 of 1216"
       ]
      },
      {
       "output_type": "stream",
       "stream": "stdout",
       "text": [
        "\r",
        "Computed features for good pair 48 of 1216"
       ]
      },
      {
       "output_type": "stream",
       "stream": "stdout",
       "text": [
        "\r",
        "Computed features for good pair 49 of 1216"
       ]
      },
      {
       "output_type": "stream",
       "stream": "stdout",
       "text": [
        "\r",
        "Computed features for good pair 50 of 1216"
       ]
      },
      {
       "output_type": "stream",
       "stream": "stdout",
       "text": [
        "\r",
        "Computed features for good pair 51 of 1216"
       ]
      },
      {
       "output_type": "stream",
       "stream": "stdout",
       "text": [
        "\r",
        "Computed features for good pair 52 of 1216"
       ]
      },
      {
       "output_type": "stream",
       "stream": "stdout",
       "text": [
        "\r",
        "Computed features for good pair 53 of 1216"
       ]
      },
      {
       "output_type": "stream",
       "stream": "stdout",
       "text": [
        "\r",
        "Computed features for good pair 54 of 1216"
       ]
      },
      {
       "output_type": "stream",
       "stream": "stdout",
       "text": [
        "\r",
        "Computed features for good pair 55 of 1216"
       ]
      },
      {
       "output_type": "stream",
       "stream": "stdout",
       "text": [
        "\r",
        "Computed features for good pair 56 of 1216"
       ]
      },
      {
       "output_type": "stream",
       "stream": "stdout",
       "text": [
        "\r",
        "Computed features for good pair 57 of 1216"
       ]
      },
      {
       "output_type": "stream",
       "stream": "stdout",
       "text": [
        "\r",
        "Computed features for good pair 58 of 1216"
       ]
      },
      {
       "output_type": "stream",
       "stream": "stdout",
       "text": [
        "\r",
        "Computed features for good pair 59 of 1216"
       ]
      },
      {
       "output_type": "stream",
       "stream": "stdout",
       "text": [
        "\r",
        "Computed features for good pair 60 of 1216"
       ]
      },
      {
       "output_type": "stream",
       "stream": "stdout",
       "text": [
        "\r",
        "Computed features for good pair 61 of 1216"
       ]
      },
      {
       "output_type": "stream",
       "stream": "stdout",
       "text": [
        "\r",
        "Computed features for good pair 62 of 1216"
       ]
      },
      {
       "output_type": "stream",
       "stream": "stdout",
       "text": [
        "\r",
        "Computed features for good pair 63 of 1216"
       ]
      },
      {
       "output_type": "stream",
       "stream": "stdout",
       "text": [
        "\r",
        "Computed features for good pair 64 of 1216"
       ]
      },
      {
       "output_type": "stream",
       "stream": "stdout",
       "text": [
        "\r",
        "Computed features for good pair 65 of 1216"
       ]
      },
      {
       "output_type": "stream",
       "stream": "stdout",
       "text": [
        "\r",
        "Computed features for good pair 66 of 1216"
       ]
      },
      {
       "output_type": "stream",
       "stream": "stdout",
       "text": [
        "\r",
        "Computed features for good pair 67 of 1216"
       ]
      },
      {
       "output_type": "stream",
       "stream": "stdout",
       "text": [
        "\r",
        "Computed features for good pair 68 of 1216"
       ]
      },
      {
       "output_type": "stream",
       "stream": "stdout",
       "text": [
        "\r",
        "Computed features for good pair 69 of 1216"
       ]
      },
      {
       "output_type": "stream",
       "stream": "stdout",
       "text": [
        "\r",
        "Computed features for good pair 70 of 1216"
       ]
      },
      {
       "output_type": "stream",
       "stream": "stdout",
       "text": [
        "\r",
        "Computed features for good pair 71 of 1216"
       ]
      },
      {
       "output_type": "stream",
       "stream": "stdout",
       "text": [
        "\r",
        "Computed features for good pair 72 of 1216"
       ]
      },
      {
       "output_type": "stream",
       "stream": "stdout",
       "text": [
        "\r",
        "Computed features for good pair 73 of 1216"
       ]
      },
      {
       "output_type": "stream",
       "stream": "stdout",
       "text": [
        "\r",
        "Computed features for good pair 74 of 1216"
       ]
      },
      {
       "output_type": "stream",
       "stream": "stdout",
       "text": [
        "\r",
        "Computed features for good pair 75 of 1216"
       ]
      },
      {
       "output_type": "stream",
       "stream": "stdout",
       "text": [
        "\r",
        "Computed features for good pair 76 of 1216"
       ]
      },
      {
       "output_type": "stream",
       "stream": "stdout",
       "text": [
        "\r",
        "Computed features for good pair 77 of 1216"
       ]
      },
      {
       "output_type": "stream",
       "stream": "stdout",
       "text": [
        "\r",
        "Computed features for good pair 78 of 1216"
       ]
      },
      {
       "output_type": "stream",
       "stream": "stdout",
       "text": [
        "\r",
        "Computed features for good pair 79 of 1216"
       ]
      },
      {
       "output_type": "stream",
       "stream": "stdout",
       "text": [
        "\r",
        "Computed features for good pair 80 of 1216"
       ]
      },
      {
       "output_type": "stream",
       "stream": "stdout",
       "text": [
        "\r",
        "Computed features for good pair 81 of 1216"
       ]
      },
      {
       "output_type": "stream",
       "stream": "stdout",
       "text": [
        "\r",
        "Computed features for good pair 82 of 1216"
       ]
      },
      {
       "output_type": "stream",
       "stream": "stdout",
       "text": [
        "\r",
        "Computed features for good pair 83 of 1216"
       ]
      },
      {
       "output_type": "stream",
       "stream": "stdout",
       "text": [
        "\r",
        "Computed features for good pair 84 of 1216"
       ]
      },
      {
       "output_type": "stream",
       "stream": "stdout",
       "text": [
        "\r",
        "Computed features for good pair 85 of 1216"
       ]
      },
      {
       "output_type": "stream",
       "stream": "stdout",
       "text": [
        "\r",
        "Computed features for good pair 86 of 1216"
       ]
      },
      {
       "output_type": "stream",
       "stream": "stdout",
       "text": [
        "\r",
        "Computed features for good pair 87 of 1216"
       ]
      },
      {
       "output_type": "stream",
       "stream": "stdout",
       "text": [
        "\r",
        "Computed features for good pair 88 of 1216"
       ]
      },
      {
       "output_type": "stream",
       "stream": "stdout",
       "text": [
        "\r",
        "Computed features for good pair 89 of 1216"
       ]
      },
      {
       "output_type": "stream",
       "stream": "stdout",
       "text": [
        "\r",
        "Computed features for good pair 90 of 1216"
       ]
      },
      {
       "output_type": "stream",
       "stream": "stdout",
       "text": [
        "\r",
        "Computed features for good pair 91 of 1216"
       ]
      },
      {
       "output_type": "stream",
       "stream": "stdout",
       "text": [
        "\r",
        "Computed features for good pair 92 of 1216"
       ]
      },
      {
       "output_type": "stream",
       "stream": "stdout",
       "text": [
        "\r",
        "Computed features for good pair 93 of 1216"
       ]
      },
      {
       "output_type": "stream",
       "stream": "stdout",
       "text": [
        "\r",
        "Computed features for good pair 94 of 1216"
       ]
      },
      {
       "output_type": "stream",
       "stream": "stdout",
       "text": [
        "\r",
        "Computed features for good pair 95 of 1216"
       ]
      },
      {
       "output_type": "stream",
       "stream": "stdout",
       "text": [
        "\r",
        "Computed features for good pair 96 of 1216"
       ]
      },
      {
       "output_type": "stream",
       "stream": "stdout",
       "text": [
        "\r",
        "Computed features for good pair 97 of 1216"
       ]
      },
      {
       "output_type": "stream",
       "stream": "stdout",
       "text": [
        "\r",
        "Computed features for good pair 98 of 1216"
       ]
      },
      {
       "output_type": "stream",
       "stream": "stdout",
       "text": [
        "\r",
        "Computed features for good pair 99 of 1216"
       ]
      },
      {
       "output_type": "stream",
       "stream": "stdout",
       "text": [
        "\r",
        "Computed features for good pair 100 of 1216"
       ]
      },
      {
       "output_type": "stream",
       "stream": "stdout",
       "text": [
        "\r",
        "Computed features for good pair 101 of 1216"
       ]
      },
      {
       "output_type": "stream",
       "stream": "stdout",
       "text": [
        "\r",
        "Computed features for good pair 102 of 1216"
       ]
      },
      {
       "output_type": "stream",
       "stream": "stdout",
       "text": [
        "\r",
        "Computed features for good pair 103 of 1216"
       ]
      },
      {
       "output_type": "stream",
       "stream": "stdout",
       "text": [
        "\r",
        "Computed features for good pair 104 of 1216"
       ]
      },
      {
       "output_type": "stream",
       "stream": "stdout",
       "text": [
        "\r",
        "Computed features for good pair 105 of 1216"
       ]
      },
      {
       "output_type": "stream",
       "stream": "stdout",
       "text": [
        "\r",
        "Computed features for good pair 106 of 1216"
       ]
      },
      {
       "output_type": "stream",
       "stream": "stdout",
       "text": [
        "\r",
        "Computed features for good pair 107 of 1216"
       ]
      },
      {
       "output_type": "stream",
       "stream": "stdout",
       "text": [
        "\r",
        "Computed features for good pair 108 of 1216"
       ]
      },
      {
       "output_type": "stream",
       "stream": "stdout",
       "text": [
        "\r",
        "Computed features for good pair 109 of 1216"
       ]
      },
      {
       "output_type": "stream",
       "stream": "stdout",
       "text": [
        "\r",
        "Computed features for good pair 110 of 1216"
       ]
      },
      {
       "output_type": "stream",
       "stream": "stdout",
       "text": [
        "\r",
        "Computed features for good pair 111 of 1216"
       ]
      },
      {
       "output_type": "stream",
       "stream": "stdout",
       "text": [
        "\r",
        "Computed features for good pair 112 of 1216"
       ]
      },
      {
       "output_type": "stream",
       "stream": "stdout",
       "text": [
        "\r",
        "Computed features for good pair 113 of 1216"
       ]
      },
      {
       "output_type": "stream",
       "stream": "stdout",
       "text": [
        "\r",
        "Computed features for good pair 114 of 1216"
       ]
      },
      {
       "output_type": "stream",
       "stream": "stdout",
       "text": [
        "\r",
        "Computed features for good pair 115 of 1216"
       ]
      },
      {
       "output_type": "stream",
       "stream": "stdout",
       "text": [
        "\r",
        "Computed features for good pair 116 of 1216"
       ]
      },
      {
       "output_type": "stream",
       "stream": "stdout",
       "text": [
        "\r",
        "Computed features for good pair 117 of 1216"
       ]
      },
      {
       "output_type": "stream",
       "stream": "stdout",
       "text": [
        "\r",
        "Computed features for good pair 118 of 1216"
       ]
      },
      {
       "output_type": "stream",
       "stream": "stdout",
       "text": [
        "\r",
        "Computed features for good pair 119 of 1216"
       ]
      },
      {
       "output_type": "stream",
       "stream": "stdout",
       "text": [
        "\r",
        "Computed features for good pair 120 of 1216"
       ]
      },
      {
       "output_type": "stream",
       "stream": "stdout",
       "text": [
        "\r",
        "Computed features for good pair 121 of 1216"
       ]
      },
      {
       "output_type": "stream",
       "stream": "stdout",
       "text": [
        "\r",
        "Computed features for good pair 122 of 1216"
       ]
      },
      {
       "output_type": "stream",
       "stream": "stdout",
       "text": [
        "\r",
        "Computed features for good pair 123 of 1216"
       ]
      },
      {
       "output_type": "stream",
       "stream": "stdout",
       "text": [
        "\r",
        "Computed features for good pair 124 of 1216"
       ]
      },
      {
       "output_type": "stream",
       "stream": "stdout",
       "text": [
        "\r",
        "Computed features for good pair 125 of 1216"
       ]
      },
      {
       "output_type": "stream",
       "stream": "stdout",
       "text": [
        "\r",
        "Computed features for good pair 126 of 1216"
       ]
      },
      {
       "output_type": "stream",
       "stream": "stdout",
       "text": [
        "\r",
        "Computed features for good pair 127 of 1216"
       ]
      },
      {
       "output_type": "stream",
       "stream": "stdout",
       "text": [
        "\r",
        "Computed features for good pair 128 of 1216"
       ]
      },
      {
       "output_type": "stream",
       "stream": "stdout",
       "text": [
        "\r",
        "Computed features for good pair 129 of 1216"
       ]
      },
      {
       "output_type": "stream",
       "stream": "stdout",
       "text": [
        "\r",
        "Computed features for good pair 130 of 1216"
       ]
      },
      {
       "output_type": "stream",
       "stream": "stdout",
       "text": [
        "\r",
        "Computed features for good pair 131 of 1216"
       ]
      },
      {
       "output_type": "stream",
       "stream": "stdout",
       "text": [
        "\r",
        "Computed features for good pair 132 of 1216"
       ]
      },
      {
       "output_type": "stream",
       "stream": "stdout",
       "text": [
        "\r",
        "Computed features for good pair 133 of 1216"
       ]
      },
      {
       "output_type": "stream",
       "stream": "stdout",
       "text": [
        "\r",
        "Computed features for good pair 134 of 1216"
       ]
      },
      {
       "output_type": "stream",
       "stream": "stdout",
       "text": [
        "\r",
        "Computed features for good pair 135 of 1216"
       ]
      },
      {
       "output_type": "stream",
       "stream": "stdout",
       "text": [
        "\r",
        "Computed features for good pair 136 of 1216"
       ]
      },
      {
       "output_type": "stream",
       "stream": "stdout",
       "text": [
        "\r",
        "Computed features for good pair 137 of 1216"
       ]
      },
      {
       "output_type": "stream",
       "stream": "stdout",
       "text": [
        "\r",
        "Computed features for good pair 138 of 1216"
       ]
      },
      {
       "output_type": "stream",
       "stream": "stdout",
       "text": [
        "\r",
        "Computed features for good pair 139 of 1216"
       ]
      },
      {
       "output_type": "stream",
       "stream": "stdout",
       "text": [
        "\r",
        "Computed features for good pair 140 of 1216"
       ]
      },
      {
       "output_type": "stream",
       "stream": "stdout",
       "text": [
        "\r",
        "Computed features for good pair 141 of 1216"
       ]
      },
      {
       "output_type": "stream",
       "stream": "stdout",
       "text": [
        "\r",
        "Computed features for good pair 142 of 1216"
       ]
      },
      {
       "output_type": "stream",
       "stream": "stdout",
       "text": [
        "\r",
        "Computed features for good pair 143 of 1216"
       ]
      },
      {
       "output_type": "stream",
       "stream": "stdout",
       "text": [
        "\r",
        "Computed features for good pair 144 of 1216"
       ]
      },
      {
       "output_type": "stream",
       "stream": "stdout",
       "text": [
        "\r",
        "Computed features for good pair 145 of 1216"
       ]
      },
      {
       "output_type": "stream",
       "stream": "stdout",
       "text": [
        "\r",
        "Computed features for good pair 146 of 1216"
       ]
      },
      {
       "output_type": "stream",
       "stream": "stdout",
       "text": [
        "\r",
        "Computed features for good pair 147 of 1216"
       ]
      },
      {
       "output_type": "stream",
       "stream": "stdout",
       "text": [
        "\r",
        "Computed features for good pair 148 of 1216"
       ]
      },
      {
       "output_type": "stream",
       "stream": "stdout",
       "text": [
        "\r",
        "Computed features for good pair 149 of 1216"
       ]
      },
      {
       "output_type": "stream",
       "stream": "stdout",
       "text": [
        "\r",
        "Computed features for good pair 150 of 1216"
       ]
      },
      {
       "output_type": "stream",
       "stream": "stdout",
       "text": [
        "\r",
        "Computed features for good pair 151 of 1216"
       ]
      },
      {
       "output_type": "stream",
       "stream": "stdout",
       "text": [
        "\r",
        "Computed features for good pair 152 of 1216"
       ]
      },
      {
       "output_type": "stream",
       "stream": "stdout",
       "text": [
        "\r",
        "Computed features for good pair 153 of 1216"
       ]
      },
      {
       "output_type": "stream",
       "stream": "stdout",
       "text": [
        "\r",
        "Computed features for good pair 154 of 1216"
       ]
      },
      {
       "output_type": "stream",
       "stream": "stdout",
       "text": [
        "\r",
        "Computed features for good pair 155 of 1216"
       ]
      },
      {
       "output_type": "stream",
       "stream": "stdout",
       "text": [
        "\r",
        "Computed features for good pair 156 of 1216"
       ]
      },
      {
       "output_type": "stream",
       "stream": "stdout",
       "text": [
        "\r",
        "Computed features for good pair 157 of 1216"
       ]
      },
      {
       "output_type": "stream",
       "stream": "stdout",
       "text": [
        "\r",
        "Computed features for good pair 158 of 1216"
       ]
      },
      {
       "output_type": "stream",
       "stream": "stdout",
       "text": [
        "\r",
        "Computed features for good pair 159 of 1216"
       ]
      },
      {
       "output_type": "stream",
       "stream": "stdout",
       "text": [
        "\r",
        "Computed features for good pair 160 of 1216"
       ]
      },
      {
       "output_type": "stream",
       "stream": "stdout",
       "text": [
        "\r",
        "Computed features for good pair 161 of 1216"
       ]
      },
      {
       "output_type": "stream",
       "stream": "stdout",
       "text": [
        "\r",
        "Computed features for good pair 162 of 1216"
       ]
      },
      {
       "output_type": "stream",
       "stream": "stdout",
       "text": [
        "\r",
        "Computed features for good pair 163 of 1216"
       ]
      },
      {
       "output_type": "stream",
       "stream": "stdout",
       "text": [
        "\r",
        "Computed features for good pair 164 of 1216"
       ]
      },
      {
       "output_type": "stream",
       "stream": "stdout",
       "text": [
        "\r",
        "Computed features for good pair 165 of 1216"
       ]
      },
      {
       "output_type": "stream",
       "stream": "stdout",
       "text": [
        "\r",
        "Computed features for good pair 166 of 1216"
       ]
      },
      {
       "output_type": "stream",
       "stream": "stdout",
       "text": [
        "\r",
        "Computed features for good pair 167 of 1216"
       ]
      },
      {
       "output_type": "stream",
       "stream": "stdout",
       "text": [
        "\r",
        "Computed features for good pair 168 of 1216"
       ]
      },
      {
       "output_type": "stream",
       "stream": "stdout",
       "text": [
        "\r",
        "Computed features for good pair 169 of 1216"
       ]
      },
      {
       "output_type": "stream",
       "stream": "stdout",
       "text": [
        "\r",
        "Computed features for good pair 170 of 1216"
       ]
      },
      {
       "output_type": "stream",
       "stream": "stdout",
       "text": [
        "\r",
        "Computed features for good pair 171 of 1216"
       ]
      },
      {
       "output_type": "stream",
       "stream": "stdout",
       "text": [
        "\r",
        "Computed features for good pair 172 of 1216"
       ]
      },
      {
       "output_type": "stream",
       "stream": "stdout",
       "text": [
        "\r",
        "Computed features for good pair 173 of 1216"
       ]
      },
      {
       "output_type": "stream",
       "stream": "stdout",
       "text": [
        "\r",
        "Computed features for good pair 174 of 1216"
       ]
      },
      {
       "output_type": "stream",
       "stream": "stdout",
       "text": [
        "\r",
        "Computed features for good pair 175 of 1216"
       ]
      },
      {
       "output_type": "stream",
       "stream": "stdout",
       "text": [
        "\r",
        "Computed features for good pair 176 of 1216"
       ]
      },
      {
       "output_type": "stream",
       "stream": "stdout",
       "text": [
        "\r",
        "Computed features for good pair 177 of 1216"
       ]
      },
      {
       "output_type": "stream",
       "stream": "stdout",
       "text": [
        "\r",
        "Computed features for good pair 178 of 1216"
       ]
      },
      {
       "output_type": "stream",
       "stream": "stdout",
       "text": [
        "\r",
        "Computed features for good pair 179 of 1216"
       ]
      },
      {
       "output_type": "stream",
       "stream": "stdout",
       "text": [
        "\r",
        "Computed features for good pair 180 of 1216"
       ]
      },
      {
       "output_type": "stream",
       "stream": "stdout",
       "text": [
        "\r",
        "Computed features for good pair 181 of 1216"
       ]
      },
      {
       "output_type": "stream",
       "stream": "stdout",
       "text": [
        "\r",
        "Computed features for good pair 182 of 1216"
       ]
      },
      {
       "output_type": "stream",
       "stream": "stdout",
       "text": [
        "\r",
        "Computed features for good pair 183 of 1216"
       ]
      },
      {
       "output_type": "stream",
       "stream": "stdout",
       "text": [
        "\r",
        "Computed features for good pair 184 of 1216"
       ]
      },
      {
       "output_type": "stream",
       "stream": "stdout",
       "text": [
        "\r",
        "Computed features for good pair 185 of 1216"
       ]
      },
      {
       "output_type": "stream",
       "stream": "stdout",
       "text": [
        "\r",
        "Computed features for good pair 186 of 1216"
       ]
      },
      {
       "output_type": "stream",
       "stream": "stdout",
       "text": [
        "\r",
        "Computed features for good pair 187 of 1216"
       ]
      },
      {
       "output_type": "stream",
       "stream": "stdout",
       "text": [
        "\r",
        "Computed features for good pair 188 of 1216"
       ]
      },
      {
       "output_type": "stream",
       "stream": "stdout",
       "text": [
        "\r",
        "Computed features for good pair 189 of 1216"
       ]
      },
      {
       "output_type": "stream",
       "stream": "stdout",
       "text": [
        "\r",
        "Computed features for good pair 190 of 1216"
       ]
      },
      {
       "output_type": "stream",
       "stream": "stdout",
       "text": [
        "\r",
        "Computed features for good pair 191 of 1216"
       ]
      },
      {
       "output_type": "stream",
       "stream": "stdout",
       "text": [
        "\r",
        "Computed features for good pair 192 of 1216"
       ]
      },
      {
       "output_type": "stream",
       "stream": "stdout",
       "text": [
        "\r",
        "Computed features for good pair 193 of 1216"
       ]
      },
      {
       "output_type": "stream",
       "stream": "stdout",
       "text": [
        "\r",
        "Computed features for good pair 194 of 1216"
       ]
      },
      {
       "output_type": "stream",
       "stream": "stdout",
       "text": [
        "\r",
        "Computed features for good pair 195 of 1216"
       ]
      },
      {
       "output_type": "stream",
       "stream": "stdout",
       "text": [
        "\r",
        "Computed features for good pair 196 of 1216"
       ]
      },
      {
       "output_type": "stream",
       "stream": "stdout",
       "text": [
        "\r",
        "Computed features for good pair 197 of 1216"
       ]
      },
      {
       "output_type": "stream",
       "stream": "stdout",
       "text": [
        "\r",
        "Computed features for good pair 198 of 1216"
       ]
      },
      {
       "output_type": "stream",
       "stream": "stdout",
       "text": [
        "\r",
        "Computed features for good pair 199 of 1216"
       ]
      },
      {
       "output_type": "stream",
       "stream": "stdout",
       "text": [
        "\r",
        "Computed features for good pair 200 of 1216"
       ]
      },
      {
       "output_type": "stream",
       "stream": "stdout",
       "text": [
        "\r",
        "Computed features for good pair 201 of 1216"
       ]
      },
      {
       "output_type": "stream",
       "stream": "stdout",
       "text": [
        "\r",
        "Computed features for good pair 202 of 1216"
       ]
      },
      {
       "output_type": "stream",
       "stream": "stdout",
       "text": [
        "\r",
        "Computed features for good pair 203 of 1216"
       ]
      },
      {
       "output_type": "stream",
       "stream": "stdout",
       "text": [
        "\r",
        "Computed features for good pair 204 of 1216"
       ]
      },
      {
       "output_type": "stream",
       "stream": "stdout",
       "text": [
        "\r",
        "Computed features for good pair 205 of 1216"
       ]
      },
      {
       "output_type": "stream",
       "stream": "stdout",
       "text": [
        "\r",
        "Computed features for good pair 206 of 1216"
       ]
      },
      {
       "output_type": "stream",
       "stream": "stdout",
       "text": [
        "\r",
        "Computed features for good pair 207 of 1216"
       ]
      },
      {
       "output_type": "stream",
       "stream": "stdout",
       "text": [
        "\r",
        "Computed features for good pair 208 of 1216"
       ]
      },
      {
       "output_type": "stream",
       "stream": "stdout",
       "text": [
        "\r",
        "Computed features for good pair 209 of 1216"
       ]
      },
      {
       "output_type": "stream",
       "stream": "stdout",
       "text": [
        "\r",
        "Computed features for good pair 210 of 1216"
       ]
      },
      {
       "output_type": "stream",
       "stream": "stdout",
       "text": [
        "\r",
        "Computed features for good pair 211 of 1216"
       ]
      },
      {
       "output_type": "stream",
       "stream": "stdout",
       "text": [
        "\r",
        "Computed features for good pair 212 of 1216"
       ]
      },
      {
       "output_type": "stream",
       "stream": "stdout",
       "text": [
        "\r",
        "Computed features for good pair 213 of 1216"
       ]
      },
      {
       "output_type": "stream",
       "stream": "stdout",
       "text": [
        "\r",
        "Computed features for good pair 214 of 1216"
       ]
      },
      {
       "output_type": "stream",
       "stream": "stdout",
       "text": [
        "\r",
        "Computed features for good pair 215 of 1216"
       ]
      },
      {
       "output_type": "stream",
       "stream": "stdout",
       "text": [
        "\r",
        "Computed features for good pair 216 of 1216"
       ]
      },
      {
       "output_type": "stream",
       "stream": "stdout",
       "text": [
        "\r",
        "Computed features for good pair 217 of 1216"
       ]
      },
      {
       "output_type": "stream",
       "stream": "stdout",
       "text": [
        "\r",
        "Computed features for good pair 218 of 1216"
       ]
      },
      {
       "output_type": "stream",
       "stream": "stdout",
       "text": [
        "\r",
        "Computed features for good pair 219 of 1216"
       ]
      },
      {
       "output_type": "stream",
       "stream": "stdout",
       "text": [
        "\r",
        "Computed features for good pair 220 of 1216"
       ]
      },
      {
       "output_type": "stream",
       "stream": "stdout",
       "text": [
        "\r",
        "Computed features for good pair 221 of 1216"
       ]
      },
      {
       "output_type": "stream",
       "stream": "stdout",
       "text": [
        "\r",
        "Computed features for good pair 222 of 1216"
       ]
      },
      {
       "output_type": "stream",
       "stream": "stdout",
       "text": [
        "\r",
        "Computed features for good pair 223 of 1216"
       ]
      },
      {
       "output_type": "stream",
       "stream": "stdout",
       "text": [
        "\r",
        "Computed features for good pair 224 of 1216"
       ]
      },
      {
       "output_type": "stream",
       "stream": "stdout",
       "text": [
        "\r",
        "Computed features for good pair 225 of 1216"
       ]
      },
      {
       "output_type": "stream",
       "stream": "stdout",
       "text": [
        "\r",
        "Computed features for good pair 226 of 1216"
       ]
      },
      {
       "output_type": "stream",
       "stream": "stdout",
       "text": [
        "\r",
        "Computed features for good pair 227 of 1216"
       ]
      },
      {
       "output_type": "stream",
       "stream": "stdout",
       "text": [
        "\r",
        "Computed features for good pair 228 of 1216"
       ]
      },
      {
       "output_type": "stream",
       "stream": "stdout",
       "text": [
        "\r",
        "Computed features for good pair 229 of 1216"
       ]
      },
      {
       "output_type": "stream",
       "stream": "stdout",
       "text": [
        "\r",
        "Computed features for good pair 230 of 1216"
       ]
      },
      {
       "output_type": "stream",
       "stream": "stdout",
       "text": [
        "\r",
        "Computed features for good pair 231 of 1216"
       ]
      },
      {
       "output_type": "stream",
       "stream": "stdout",
       "text": [
        "\r",
        "Computed features for good pair 232 of 1216"
       ]
      },
      {
       "output_type": "stream",
       "stream": "stdout",
       "text": [
        "\r",
        "Computed features for good pair 233 of 1216"
       ]
      },
      {
       "output_type": "stream",
       "stream": "stdout",
       "text": [
        "\r",
        "Computed features for good pair 234 of 1216"
       ]
      },
      {
       "output_type": "stream",
       "stream": "stdout",
       "text": [
        "\r",
        "Computed features for good pair 235 of 1216"
       ]
      },
      {
       "output_type": "stream",
       "stream": "stdout",
       "text": [
        "\r",
        "Computed features for good pair 236 of 1216"
       ]
      },
      {
       "output_type": "stream",
       "stream": "stdout",
       "text": [
        "\r",
        "Computed features for good pair 237 of 1216"
       ]
      },
      {
       "output_type": "stream",
       "stream": "stdout",
       "text": [
        "\r",
        "Computed features for good pair 238 of 1216"
       ]
      },
      {
       "output_type": "stream",
       "stream": "stdout",
       "text": [
        "\r",
        "Computed features for good pair 239 of 1216"
       ]
      },
      {
       "output_type": "stream",
       "stream": "stdout",
       "text": [
        "\r",
        "Computed features for good pair 240 of 1216"
       ]
      },
      {
       "output_type": "stream",
       "stream": "stdout",
       "text": [
        "\r",
        "Computed features for good pair 241 of 1216"
       ]
      },
      {
       "output_type": "stream",
       "stream": "stdout",
       "text": [
        "\r",
        "Computed features for good pair 242 of 1216"
       ]
      },
      {
       "output_type": "stream",
       "stream": "stdout",
       "text": [
        "\r",
        "Computed features for good pair 243 of 1216"
       ]
      },
      {
       "output_type": "stream",
       "stream": "stdout",
       "text": [
        "\r",
        "Computed features for good pair 244 of 1216"
       ]
      },
      {
       "output_type": "stream",
       "stream": "stdout",
       "text": [
        "\r",
        "Computed features for good pair 245 of 1216"
       ]
      },
      {
       "output_type": "stream",
       "stream": "stdout",
       "text": [
        "\r",
        "Computed features for good pair 246 of 1216"
       ]
      },
      {
       "output_type": "stream",
       "stream": "stdout",
       "text": [
        "\r",
        "Computed features for good pair 247 of 1216"
       ]
      },
      {
       "output_type": "stream",
       "stream": "stdout",
       "text": [
        "\r",
        "Computed features for good pair 248 of 1216"
       ]
      },
      {
       "output_type": "stream",
       "stream": "stdout",
       "text": [
        "\r",
        "Computed features for good pair 249 of 1216"
       ]
      },
      {
       "output_type": "stream",
       "stream": "stdout",
       "text": [
        "\r",
        "Computed features for good pair 250 of 1216"
       ]
      },
      {
       "output_type": "stream",
       "stream": "stdout",
       "text": [
        "\r",
        "Computed features for good pair 251 of 1216"
       ]
      },
      {
       "output_type": "stream",
       "stream": "stdout",
       "text": [
        "\r",
        "Computed features for good pair 252 of 1216"
       ]
      },
      {
       "output_type": "stream",
       "stream": "stdout",
       "text": [
        "\r",
        "Computed features for good pair 253 of 1216"
       ]
      },
      {
       "output_type": "stream",
       "stream": "stdout",
       "text": [
        "\r",
        "Computed features for good pair 254 of 1216"
       ]
      },
      {
       "output_type": "stream",
       "stream": "stdout",
       "text": [
        "\r",
        "Computed features for good pair 255 of 1216"
       ]
      },
      {
       "output_type": "stream",
       "stream": "stdout",
       "text": [
        "\r",
        "Computed features for good pair 256 of 1216"
       ]
      },
      {
       "output_type": "stream",
       "stream": "stdout",
       "text": [
        "\r",
        "Computed features for good pair 257 of 1216"
       ]
      },
      {
       "output_type": "stream",
       "stream": "stdout",
       "text": [
        "\r",
        "Computed features for good pair 258 of 1216"
       ]
      },
      {
       "output_type": "stream",
       "stream": "stdout",
       "text": [
        "\r",
        "Computed features for good pair 259 of 1216"
       ]
      },
      {
       "output_type": "stream",
       "stream": "stdout",
       "text": [
        "\r",
        "Computed features for good pair 260 of 1216"
       ]
      },
      {
       "output_type": "stream",
       "stream": "stdout",
       "text": [
        "\r",
        "Computed features for good pair 261 of 1216"
       ]
      },
      {
       "output_type": "stream",
       "stream": "stdout",
       "text": [
        "\r",
        "Computed features for good pair 262 of 1216"
       ]
      },
      {
       "output_type": "stream",
       "stream": "stdout",
       "text": [
        "\r",
        "Computed features for good pair 263 of 1216"
       ]
      },
      {
       "output_type": "stream",
       "stream": "stdout",
       "text": [
        "\r",
        "Computed features for good pair 264 of 1216"
       ]
      },
      {
       "output_type": "stream",
       "stream": "stdout",
       "text": [
        "\r",
        "Computed features for good pair 265 of 1216"
       ]
      },
      {
       "output_type": "stream",
       "stream": "stdout",
       "text": [
        "\r",
        "Computed features for good pair 266 of 1216"
       ]
      },
      {
       "output_type": "stream",
       "stream": "stdout",
       "text": [
        "\r",
        "Computed features for good pair 267 of 1216"
       ]
      },
      {
       "output_type": "stream",
       "stream": "stdout",
       "text": [
        "\r",
        "Computed features for good pair 268 of 1216"
       ]
      },
      {
       "output_type": "stream",
       "stream": "stdout",
       "text": [
        "\r",
        "Computed features for good pair 269 of 1216"
       ]
      },
      {
       "output_type": "stream",
       "stream": "stdout",
       "text": [
        "\r",
        "Computed features for good pair 270 of 1216"
       ]
      },
      {
       "output_type": "stream",
       "stream": "stdout",
       "text": [
        "\r",
        "Computed features for good pair 271 of 1216"
       ]
      },
      {
       "output_type": "stream",
       "stream": "stdout",
       "text": [
        "\r",
        "Computed features for good pair 272 of 1216"
       ]
      },
      {
       "output_type": "stream",
       "stream": "stdout",
       "text": [
        "\r",
        "Computed features for good pair 273 of 1216"
       ]
      },
      {
       "output_type": "stream",
       "stream": "stdout",
       "text": [
        "\r",
        "Computed features for good pair 274 of 1216"
       ]
      },
      {
       "output_type": "stream",
       "stream": "stdout",
       "text": [
        "\r",
        "Computed features for good pair 275 of 1216"
       ]
      },
      {
       "output_type": "stream",
       "stream": "stdout",
       "text": [
        "\r",
        "Computed features for good pair 276 of 1216"
       ]
      },
      {
       "output_type": "stream",
       "stream": "stdout",
       "text": [
        "\r",
        "Computed features for good pair 277 of 1216"
       ]
      },
      {
       "output_type": "stream",
       "stream": "stdout",
       "text": [
        "\r",
        "Computed features for good pair 278 of 1216"
       ]
      },
      {
       "output_type": "stream",
       "stream": "stdout",
       "text": [
        "\r",
        "Computed features for good pair 279 of 1216"
       ]
      },
      {
       "output_type": "stream",
       "stream": "stdout",
       "text": [
        "\r",
        "Computed features for good pair 280 of 1216"
       ]
      },
      {
       "output_type": "stream",
       "stream": "stdout",
       "text": [
        "\r",
        "Computed features for good pair 281 of 1216"
       ]
      },
      {
       "output_type": "stream",
       "stream": "stdout",
       "text": [
        "\r",
        "Computed features for good pair 282 of 1216"
       ]
      },
      {
       "output_type": "stream",
       "stream": "stdout",
       "text": [
        "\r",
        "Computed features for good pair 283 of 1216"
       ]
      },
      {
       "output_type": "stream",
       "stream": "stdout",
       "text": [
        "\r",
        "Computed features for good pair 284 of 1216"
       ]
      },
      {
       "output_type": "stream",
       "stream": "stdout",
       "text": [
        "\r",
        "Computed features for good pair 285 of 1216"
       ]
      },
      {
       "output_type": "stream",
       "stream": "stdout",
       "text": [
        "\r",
        "Computed features for good pair 286 of 1216"
       ]
      },
      {
       "output_type": "stream",
       "stream": "stdout",
       "text": [
        "\r",
        "Computed features for good pair 287 of 1216"
       ]
      },
      {
       "output_type": "stream",
       "stream": "stdout",
       "text": [
        "\r",
        "Computed features for good pair 288 of 1216"
       ]
      },
      {
       "output_type": "stream",
       "stream": "stdout",
       "text": [
        "\r",
        "Computed features for good pair 289 of 1216"
       ]
      },
      {
       "output_type": "stream",
       "stream": "stdout",
       "text": [
        "\r",
        "Computed features for good pair 290 of 1216"
       ]
      },
      {
       "output_type": "stream",
       "stream": "stdout",
       "text": [
        "\r",
        "Computed features for good pair 291 of 1216"
       ]
      },
      {
       "output_type": "stream",
       "stream": "stdout",
       "text": [
        "\r",
        "Computed features for good pair 292 of 1216"
       ]
      },
      {
       "output_type": "stream",
       "stream": "stdout",
       "text": [
        "\r",
        "Computed features for good pair 293 of 1216"
       ]
      },
      {
       "output_type": "stream",
       "stream": "stdout",
       "text": [
        "\r",
        "Computed features for good pair 294 of 1216"
       ]
      },
      {
       "output_type": "stream",
       "stream": "stdout",
       "text": [
        "\r",
        "Computed features for good pair 295 of 1216"
       ]
      },
      {
       "output_type": "stream",
       "stream": "stdout",
       "text": [
        "\r",
        "Computed features for good pair 296 of 1216"
       ]
      },
      {
       "output_type": "stream",
       "stream": "stdout",
       "text": [
        "\r",
        "Computed features for good pair 297 of 1216"
       ]
      },
      {
       "output_type": "stream",
       "stream": "stdout",
       "text": [
        "\r",
        "Computed features for good pair 298 of 1216"
       ]
      },
      {
       "output_type": "stream",
       "stream": "stdout",
       "text": [
        "\r",
        "Computed features for good pair 299 of 1216"
       ]
      },
      {
       "output_type": "stream",
       "stream": "stdout",
       "text": [
        "\r",
        "Computed features for good pair 300 of 1216"
       ]
      },
      {
       "output_type": "stream",
       "stream": "stdout",
       "text": [
        "\r",
        "Computed features for good pair 301 of 1216"
       ]
      },
      {
       "output_type": "stream",
       "stream": "stdout",
       "text": [
        "\r",
        "Computed features for good pair 302 of 1216"
       ]
      },
      {
       "output_type": "stream",
       "stream": "stdout",
       "text": [
        "\r",
        "Computed features for good pair 303 of 1216"
       ]
      },
      {
       "output_type": "stream",
       "stream": "stdout",
       "text": [
        "\r",
        "Computed features for good pair 304 of 1216"
       ]
      },
      {
       "output_type": "stream",
       "stream": "stdout",
       "text": [
        "\r",
        "Computed features for good pair 305 of 1216"
       ]
      },
      {
       "output_type": "stream",
       "stream": "stdout",
       "text": [
        "\r",
        "Computed features for good pair 306 of 1216"
       ]
      },
      {
       "output_type": "stream",
       "stream": "stdout",
       "text": [
        "\r",
        "Computed features for good pair 307 of 1216"
       ]
      },
      {
       "output_type": "stream",
       "stream": "stdout",
       "text": [
        "\r",
        "Computed features for good pair 308 of 1216"
       ]
      },
      {
       "output_type": "stream",
       "stream": "stdout",
       "text": [
        "\r",
        "Computed features for good pair 309 of 1216"
       ]
      },
      {
       "output_type": "stream",
       "stream": "stdout",
       "text": [
        "\r",
        "Computed features for good pair 310 of 1216"
       ]
      },
      {
       "output_type": "stream",
       "stream": "stdout",
       "text": [
        "\r",
        "Computed features for good pair 311 of 1216"
       ]
      },
      {
       "output_type": "stream",
       "stream": "stdout",
       "text": [
        "\r",
        "Computed features for good pair 312 of 1216"
       ]
      },
      {
       "output_type": "stream",
       "stream": "stdout",
       "text": [
        "\r",
        "Computed features for good pair 313 of 1216"
       ]
      },
      {
       "output_type": "stream",
       "stream": "stdout",
       "text": [
        "\r",
        "Computed features for good pair 314 of 1216"
       ]
      },
      {
       "output_type": "stream",
       "stream": "stdout",
       "text": [
        "\r",
        "Computed features for good pair 315 of 1216"
       ]
      },
      {
       "output_type": "stream",
       "stream": "stdout",
       "text": [
        "\r",
        "Computed features for good pair 316 of 1216"
       ]
      },
      {
       "output_type": "stream",
       "stream": "stdout",
       "text": [
        "\r",
        "Computed features for good pair 317 of 1216"
       ]
      },
      {
       "output_type": "stream",
       "stream": "stdout",
       "text": [
        "\r",
        "Computed features for good pair 318 of 1216"
       ]
      },
      {
       "output_type": "stream",
       "stream": "stdout",
       "text": [
        "\r",
        "Computed features for good pair 319 of 1216"
       ]
      },
      {
       "output_type": "stream",
       "stream": "stdout",
       "text": [
        "\r",
        "Computed features for good pair 320 of 1216"
       ]
      },
      {
       "output_type": "stream",
       "stream": "stdout",
       "text": [
        "\r",
        "Computed features for good pair 321 of 1216"
       ]
      },
      {
       "output_type": "stream",
       "stream": "stdout",
       "text": [
        "\r",
        "Computed features for good pair 322 of 1216"
       ]
      },
      {
       "output_type": "stream",
       "stream": "stdout",
       "text": [
        "\r",
        "Computed features for good pair 323 of 1216"
       ]
      },
      {
       "output_type": "stream",
       "stream": "stdout",
       "text": [
        "\r",
        "Computed features for good pair 324 of 1216"
       ]
      },
      {
       "output_type": "stream",
       "stream": "stdout",
       "text": [
        "\r",
        "Computed features for good pair 325 of 1216"
       ]
      },
      {
       "output_type": "stream",
       "stream": "stdout",
       "text": [
        "\r",
        "Computed features for good pair 326 of 1216"
       ]
      },
      {
       "output_type": "stream",
       "stream": "stdout",
       "text": [
        "\r",
        "Computed features for good pair 327 of 1216"
       ]
      },
      {
       "output_type": "stream",
       "stream": "stdout",
       "text": [
        "\r",
        "Computed features for good pair 328 of 1216"
       ]
      },
      {
       "output_type": "stream",
       "stream": "stdout",
       "text": [
        "\r",
        "Computed features for good pair 329 of 1216"
       ]
      },
      {
       "output_type": "stream",
       "stream": "stdout",
       "text": [
        "\r",
        "Computed features for good pair 330 of 1216"
       ]
      },
      {
       "output_type": "stream",
       "stream": "stdout",
       "text": [
        "\r",
        "Computed features for good pair 331 of 1216"
       ]
      },
      {
       "output_type": "stream",
       "stream": "stdout",
       "text": [
        "\r",
        "Computed features for good pair 332 of 1216"
       ]
      },
      {
       "output_type": "stream",
       "stream": "stdout",
       "text": [
        "\r",
        "Computed features for good pair 333 of 1216"
       ]
      },
      {
       "output_type": "stream",
       "stream": "stdout",
       "text": [
        "\r",
        "Computed features for good pair 334 of 1216"
       ]
      },
      {
       "output_type": "stream",
       "stream": "stdout",
       "text": [
        "\r",
        "Computed features for good pair 335 of 1216"
       ]
      },
      {
       "output_type": "stream",
       "stream": "stdout",
       "text": [
        "\r",
        "Computed features for good pair 336 of 1216"
       ]
      },
      {
       "output_type": "stream",
       "stream": "stdout",
       "text": [
        "\r",
        "Computed features for good pair 337 of 1216"
       ]
      },
      {
       "output_type": "stream",
       "stream": "stdout",
       "text": [
        "\r",
        "Computed features for good pair 338 of 1216"
       ]
      },
      {
       "output_type": "stream",
       "stream": "stdout",
       "text": [
        "\r",
        "Computed features for good pair 339 of 1216"
       ]
      },
      {
       "output_type": "stream",
       "stream": "stdout",
       "text": [
        "\r",
        "Computed features for good pair 340 of 1216"
       ]
      },
      {
       "output_type": "stream",
       "stream": "stdout",
       "text": [
        "\r",
        "Computed features for good pair 341 of 1216"
       ]
      },
      {
       "output_type": "stream",
       "stream": "stdout",
       "text": [
        "\r",
        "Computed features for good pair 342 of 1216"
       ]
      },
      {
       "output_type": "stream",
       "stream": "stdout",
       "text": [
        "\r",
        "Computed features for good pair 343 of 1216"
       ]
      },
      {
       "output_type": "stream",
       "stream": "stdout",
       "text": [
        "\r",
        "Computed features for good pair 344 of 1216"
       ]
      },
      {
       "output_type": "stream",
       "stream": "stdout",
       "text": [
        "\r",
        "Computed features for good pair 345 of 1216"
       ]
      },
      {
       "output_type": "stream",
       "stream": "stdout",
       "text": [
        "\r",
        "Computed features for good pair 346 of 1216"
       ]
      },
      {
       "output_type": "stream",
       "stream": "stdout",
       "text": [
        "\r",
        "Computed features for good pair 347 of 1216"
       ]
      },
      {
       "output_type": "stream",
       "stream": "stdout",
       "text": [
        "\r",
        "Computed features for good pair 348 of 1216"
       ]
      },
      {
       "output_type": "stream",
       "stream": "stdout",
       "text": [
        "\r",
        "Computed features for good pair 349 of 1216"
       ]
      },
      {
       "output_type": "stream",
       "stream": "stdout",
       "text": [
        "\r",
        "Computed features for good pair 350 of 1216"
       ]
      },
      {
       "output_type": "stream",
       "stream": "stdout",
       "text": [
        "\r",
        "Computed features for good pair 351 of 1216"
       ]
      },
      {
       "output_type": "stream",
       "stream": "stdout",
       "text": [
        "\r",
        "Computed features for good pair 352 of 1216"
       ]
      },
      {
       "output_type": "stream",
       "stream": "stdout",
       "text": [
        "\r",
        "Computed features for good pair 353 of 1216"
       ]
      },
      {
       "output_type": "stream",
       "stream": "stdout",
       "text": [
        "\r",
        "Computed features for good pair 354 of 1216"
       ]
      },
      {
       "output_type": "stream",
       "stream": "stdout",
       "text": [
        "\r",
        "Computed features for good pair 355 of 1216"
       ]
      },
      {
       "output_type": "stream",
       "stream": "stdout",
       "text": [
        "\r",
        "Computed features for good pair 356 of 1216"
       ]
      },
      {
       "output_type": "stream",
       "stream": "stdout",
       "text": [
        "\r",
        "Computed features for good pair 357 of 1216"
       ]
      },
      {
       "output_type": "stream",
       "stream": "stdout",
       "text": [
        "\r",
        "Computed features for good pair 358 of 1216"
       ]
      },
      {
       "output_type": "stream",
       "stream": "stdout",
       "text": [
        "\r",
        "Computed features for good pair 359 of 1216"
       ]
      },
      {
       "output_type": "stream",
       "stream": "stdout",
       "text": [
        "\r",
        "Computed features for good pair 360 of 1216"
       ]
      },
      {
       "output_type": "stream",
       "stream": "stdout",
       "text": [
        "\r",
        "Computed features for good pair 361 of 1216"
       ]
      },
      {
       "output_type": "stream",
       "stream": "stdout",
       "text": [
        "\r",
        "Computed features for good pair 362 of 1216"
       ]
      },
      {
       "output_type": "stream",
       "stream": "stdout",
       "text": [
        "\r",
        "Computed features for good pair 363 of 1216"
       ]
      },
      {
       "output_type": "stream",
       "stream": "stdout",
       "text": [
        "\r",
        "Computed features for good pair 364 of 1216"
       ]
      },
      {
       "output_type": "stream",
       "stream": "stdout",
       "text": [
        "\r",
        "Computed features for good pair 365 of 1216"
       ]
      },
      {
       "output_type": "stream",
       "stream": "stdout",
       "text": [
        "\r",
        "Computed features for good pair 366 of 1216"
       ]
      },
      {
       "output_type": "stream",
       "stream": "stdout",
       "text": [
        "\r",
        "Computed features for good pair 367 of 1216"
       ]
      },
      {
       "output_type": "stream",
       "stream": "stdout",
       "text": [
        "\r",
        "Computed features for good pair 368 of 1216"
       ]
      },
      {
       "output_type": "stream",
       "stream": "stdout",
       "text": [
        "\r",
        "Computed features for good pair 369 of 1216"
       ]
      },
      {
       "output_type": "stream",
       "stream": "stdout",
       "text": [
        "\r",
        "Computed features for good pair 370 of 1216"
       ]
      },
      {
       "output_type": "stream",
       "stream": "stdout",
       "text": [
        "\r",
        "Computed features for good pair 371 of 1216"
       ]
      },
      {
       "output_type": "stream",
       "stream": "stdout",
       "text": [
        "\r",
        "Computed features for good pair 372 of 1216"
       ]
      },
      {
       "output_type": "stream",
       "stream": "stdout",
       "text": [
        "\r",
        "Computed features for good pair 373 of 1216"
       ]
      },
      {
       "output_type": "stream",
       "stream": "stdout",
       "text": [
        "\r",
        "Computed features for good pair 374 of 1216"
       ]
      },
      {
       "output_type": "stream",
       "stream": "stdout",
       "text": [
        "\r",
        "Computed features for good pair 375 of 1216"
       ]
      },
      {
       "output_type": "stream",
       "stream": "stdout",
       "text": [
        "\r",
        "Computed features for good pair 376 of 1216"
       ]
      },
      {
       "output_type": "stream",
       "stream": "stdout",
       "text": [
        "\r",
        "Computed features for good pair 377 of 1216"
       ]
      },
      {
       "output_type": "stream",
       "stream": "stdout",
       "text": [
        "\r",
        "Computed features for good pair 378 of 1216"
       ]
      },
      {
       "output_type": "stream",
       "stream": "stdout",
       "text": [
        "\r",
        "Computed features for good pair 379 of 1216"
       ]
      },
      {
       "output_type": "stream",
       "stream": "stdout",
       "text": [
        "\r",
        "Computed features for good pair 380 of 1216"
       ]
      },
      {
       "output_type": "stream",
       "stream": "stdout",
       "text": [
        "\r",
        "Computed features for good pair 381 of 1216"
       ]
      },
      {
       "output_type": "stream",
       "stream": "stdout",
       "text": [
        "\r",
        "Computed features for good pair 382 of 1216"
       ]
      },
      {
       "output_type": "stream",
       "stream": "stdout",
       "text": [
        "\r",
        "Computed features for good pair 383 of 1216"
       ]
      },
      {
       "output_type": "stream",
       "stream": "stdout",
       "text": [
        "\r",
        "Computed features for good pair 384 of 1216"
       ]
      },
      {
       "output_type": "stream",
       "stream": "stdout",
       "text": [
        "\r",
        "Computed features for good pair 385 of 1216"
       ]
      },
      {
       "output_type": "stream",
       "stream": "stdout",
       "text": [
        "\r",
        "Computed features for good pair 386 of 1216"
       ]
      },
      {
       "output_type": "stream",
       "stream": "stdout",
       "text": [
        "\r",
        "Computed features for good pair 387 of 1216"
       ]
      },
      {
       "output_type": "stream",
       "stream": "stdout",
       "text": [
        "\r",
        "Computed features for good pair 388 of 1216"
       ]
      },
      {
       "output_type": "stream",
       "stream": "stdout",
       "text": [
        "\r",
        "Computed features for good pair 389 of 1216"
       ]
      },
      {
       "output_type": "stream",
       "stream": "stdout",
       "text": [
        "\r",
        "Computed features for good pair 390 of 1216"
       ]
      },
      {
       "output_type": "stream",
       "stream": "stdout",
       "text": [
        "\r",
        "Computed features for good pair 391 of 1216"
       ]
      },
      {
       "output_type": "stream",
       "stream": "stdout",
       "text": [
        "\r",
        "Computed features for good pair 392 of 1216"
       ]
      },
      {
       "output_type": "stream",
       "stream": "stdout",
       "text": [
        "\r",
        "Computed features for good pair 393 of 1216"
       ]
      },
      {
       "output_type": "stream",
       "stream": "stdout",
       "text": [
        "\r",
        "Computed features for good pair 394 of 1216"
       ]
      },
      {
       "output_type": "stream",
       "stream": "stdout",
       "text": [
        "\r",
        "Computed features for good pair 395 of 1216"
       ]
      },
      {
       "output_type": "stream",
       "stream": "stdout",
       "text": [
        "\r",
        "Computed features for good pair 396 of 1216"
       ]
      },
      {
       "output_type": "stream",
       "stream": "stdout",
       "text": [
        "\r",
        "Computed features for good pair 397 of 1216"
       ]
      },
      {
       "output_type": "stream",
       "stream": "stdout",
       "text": [
        "\r",
        "Computed features for good pair 398 of 1216"
       ]
      },
      {
       "output_type": "stream",
       "stream": "stdout",
       "text": [
        "\r",
        "Computed features for good pair 399 of 1216"
       ]
      },
      {
       "output_type": "stream",
       "stream": "stdout",
       "text": [
        "\r",
        "Computed features for good pair 400 of 1216"
       ]
      },
      {
       "output_type": "stream",
       "stream": "stdout",
       "text": [
        "\r",
        "Computed features for good pair 401 of 1216"
       ]
      },
      {
       "output_type": "stream",
       "stream": "stdout",
       "text": [
        "\r",
        "Computed features for good pair 402 of 1216"
       ]
      },
      {
       "output_type": "stream",
       "stream": "stdout",
       "text": [
        "\r",
        "Computed features for good pair 403 of 1216"
       ]
      },
      {
       "output_type": "stream",
       "stream": "stdout",
       "text": [
        "\r",
        "Computed features for good pair 404 of 1216"
       ]
      },
      {
       "output_type": "stream",
       "stream": "stdout",
       "text": [
        "\r",
        "Computed features for good pair 405 of 1216"
       ]
      },
      {
       "output_type": "stream",
       "stream": "stdout",
       "text": [
        "\r",
        "Computed features for good pair 406 of 1216"
       ]
      },
      {
       "output_type": "stream",
       "stream": "stdout",
       "text": [
        "\r",
        "Computed features for good pair 407 of 1216"
       ]
      },
      {
       "output_type": "stream",
       "stream": "stdout",
       "text": [
        "\r",
        "Computed features for good pair 408 of 1216"
       ]
      },
      {
       "output_type": "stream",
       "stream": "stdout",
       "text": [
        "\r",
        "Computed features for good pair 409 of 1216"
       ]
      },
      {
       "output_type": "stream",
       "stream": "stdout",
       "text": [
        "\r",
        "Computed features for good pair 410 of 1216"
       ]
      },
      {
       "output_type": "stream",
       "stream": "stdout",
       "text": [
        "\r",
        "Computed features for good pair 411 of 1216"
       ]
      },
      {
       "output_type": "stream",
       "stream": "stdout",
       "text": [
        "\r",
        "Computed features for good pair 412 of 1216"
       ]
      },
      {
       "output_type": "stream",
       "stream": "stdout",
       "text": [
        "\r",
        "Computed features for good pair 413 of 1216"
       ]
      },
      {
       "output_type": "stream",
       "stream": "stdout",
       "text": [
        "\r",
        "Computed features for good pair 414 of 1216"
       ]
      },
      {
       "output_type": "stream",
       "stream": "stdout",
       "text": [
        "\r",
        "Computed features for good pair 415 of 1216"
       ]
      },
      {
       "output_type": "stream",
       "stream": "stdout",
       "text": [
        "\r",
        "Computed features for good pair 416 of 1216"
       ]
      },
      {
       "output_type": "stream",
       "stream": "stdout",
       "text": [
        "\r",
        "Computed features for good pair 417 of 1216"
       ]
      },
      {
       "output_type": "stream",
       "stream": "stdout",
       "text": [
        "\r",
        "Computed features for good pair 418 of 1216"
       ]
      },
      {
       "output_type": "stream",
       "stream": "stdout",
       "text": [
        "\r",
        "Computed features for good pair 419 of 1216"
       ]
      },
      {
       "output_type": "stream",
       "stream": "stdout",
       "text": [
        "\r",
        "Computed features for good pair 420 of 1216"
       ]
      },
      {
       "output_type": "stream",
       "stream": "stdout",
       "text": [
        "\r",
        "Computed features for good pair 421 of 1216"
       ]
      },
      {
       "output_type": "stream",
       "stream": "stdout",
       "text": [
        "\r",
        "Computed features for good pair 422 of 1216"
       ]
      },
      {
       "output_type": "stream",
       "stream": "stdout",
       "text": [
        "\r",
        "Computed features for good pair 423 of 1216"
       ]
      },
      {
       "output_type": "stream",
       "stream": "stdout",
       "text": [
        "\r",
        "Computed features for good pair 424 of 1216"
       ]
      },
      {
       "output_type": "stream",
       "stream": "stdout",
       "text": [
        "\r",
        "Computed features for good pair 425 of 1216"
       ]
      },
      {
       "output_type": "stream",
       "stream": "stdout",
       "text": [
        "\r",
        "Computed features for good pair 426 of 1216"
       ]
      },
      {
       "output_type": "stream",
       "stream": "stdout",
       "text": [
        "\r",
        "Computed features for good pair 427 of 1216"
       ]
      },
      {
       "output_type": "stream",
       "stream": "stdout",
       "text": [
        "\r",
        "Computed features for good pair 428 of 1216"
       ]
      },
      {
       "output_type": "stream",
       "stream": "stdout",
       "text": [
        "\r",
        "Computed features for good pair 429 of 1216"
       ]
      },
      {
       "output_type": "stream",
       "stream": "stdout",
       "text": [
        "\r",
        "Computed features for good pair 430 of 1216"
       ]
      },
      {
       "output_type": "stream",
       "stream": "stdout",
       "text": [
        "\r",
        "Computed features for good pair 431 of 1216"
       ]
      },
      {
       "output_type": "stream",
       "stream": "stdout",
       "text": [
        "\r",
        "Computed features for good pair 432 of 1216"
       ]
      },
      {
       "output_type": "stream",
       "stream": "stdout",
       "text": [
        "\r",
        "Computed features for good pair 433 of 1216"
       ]
      },
      {
       "output_type": "stream",
       "stream": "stdout",
       "text": [
        "\r",
        "Computed features for good pair 434 of 1216"
       ]
      },
      {
       "output_type": "stream",
       "stream": "stdout",
       "text": [
        "\r",
        "Computed features for good pair 435 of 1216"
       ]
      },
      {
       "output_type": "stream",
       "stream": "stdout",
       "text": [
        "\r",
        "Computed features for good pair 436 of 1216"
       ]
      },
      {
       "output_type": "stream",
       "stream": "stdout",
       "text": [
        "\r",
        "Computed features for good pair 437 of 1216"
       ]
      },
      {
       "output_type": "stream",
       "stream": "stdout",
       "text": [
        "\r",
        "Computed features for good pair 438 of 1216"
       ]
      },
      {
       "output_type": "stream",
       "stream": "stdout",
       "text": [
        "\r",
        "Computed features for good pair 439 of 1216"
       ]
      },
      {
       "output_type": "stream",
       "stream": "stdout",
       "text": [
        "\r",
        "Computed features for good pair 440 of 1216"
       ]
      },
      {
       "output_type": "stream",
       "stream": "stdout",
       "text": [
        "\r",
        "Computed features for good pair 441 of 1216"
       ]
      },
      {
       "output_type": "stream",
       "stream": "stdout",
       "text": [
        "\r",
        "Computed features for good pair 442 of 1216"
       ]
      },
      {
       "output_type": "stream",
       "stream": "stdout",
       "text": [
        "\r",
        "Computed features for good pair 443 of 1216"
       ]
      },
      {
       "output_type": "stream",
       "stream": "stdout",
       "text": [
        "\r",
        "Computed features for good pair 444 of 1216"
       ]
      },
      {
       "output_type": "stream",
       "stream": "stdout",
       "text": [
        "\r",
        "Computed features for good pair 445 of 1216"
       ]
      },
      {
       "output_type": "stream",
       "stream": "stdout",
       "text": [
        "\r",
        "Computed features for good pair 446 of 1216"
       ]
      },
      {
       "output_type": "stream",
       "stream": "stdout",
       "text": [
        "\r",
        "Computed features for good pair 447 of 1216"
       ]
      },
      {
       "output_type": "stream",
       "stream": "stdout",
       "text": [
        "\r",
        "Computed features for good pair 448 of 1216"
       ]
      },
      {
       "output_type": "stream",
       "stream": "stdout",
       "text": [
        "\r",
        "Computed features for good pair 449 of 1216"
       ]
      },
      {
       "output_type": "stream",
       "stream": "stdout",
       "text": [
        "\r",
        "Computed features for good pair 450 of 1216"
       ]
      },
      {
       "output_type": "stream",
       "stream": "stdout",
       "text": [
        "\r",
        "Computed features for good pair 451 of 1216"
       ]
      },
      {
       "output_type": "stream",
       "stream": "stdout",
       "text": [
        "\r",
        "Computed features for good pair 452 of 1216"
       ]
      },
      {
       "output_type": "stream",
       "stream": "stdout",
       "text": [
        "\r",
        "Computed features for good pair 453 of 1216"
       ]
      },
      {
       "output_type": "stream",
       "stream": "stdout",
       "text": [
        "\r",
        "Computed features for good pair 454 of 1216"
       ]
      },
      {
       "output_type": "stream",
       "stream": "stdout",
       "text": [
        "\r",
        "Computed features for good pair 455 of 1216"
       ]
      },
      {
       "output_type": "stream",
       "stream": "stdout",
       "text": [
        "\r",
        "Computed features for good pair 456 of 1216"
       ]
      },
      {
       "output_type": "stream",
       "stream": "stdout",
       "text": [
        "\r",
        "Computed features for good pair 457 of 1216"
       ]
      },
      {
       "output_type": "stream",
       "stream": "stdout",
       "text": [
        "\r",
        "Computed features for good pair 458 of 1216"
       ]
      },
      {
       "output_type": "stream",
       "stream": "stdout",
       "text": [
        "\r",
        "Computed features for good pair 459 of 1216"
       ]
      },
      {
       "output_type": "stream",
       "stream": "stdout",
       "text": [
        "\r",
        "Computed features for good pair 460 of 1216"
       ]
      },
      {
       "output_type": "stream",
       "stream": "stdout",
       "text": [
        "\r",
        "Computed features for good pair 461 of 1216"
       ]
      },
      {
       "output_type": "stream",
       "stream": "stdout",
       "text": [
        "\r",
        "Computed features for good pair 462 of 1216"
       ]
      },
      {
       "output_type": "stream",
       "stream": "stdout",
       "text": [
        "\r",
        "Computed features for good pair 463 of 1216"
       ]
      },
      {
       "output_type": "stream",
       "stream": "stdout",
       "text": [
        "\r",
        "Computed features for good pair 464 of 1216"
       ]
      },
      {
       "output_type": "stream",
       "stream": "stdout",
       "text": [
        "\r",
        "Computed features for good pair 465 of 1216"
       ]
      },
      {
       "output_type": "stream",
       "stream": "stdout",
       "text": [
        "\r",
        "Computed features for good pair 466 of 1216"
       ]
      },
      {
       "output_type": "stream",
       "stream": "stdout",
       "text": [
        "\r",
        "Computed features for good pair 467 of 1216"
       ]
      },
      {
       "output_type": "stream",
       "stream": "stdout",
       "text": [
        "\r",
        "Computed features for good pair 468 of 1216"
       ]
      },
      {
       "output_type": "stream",
       "stream": "stdout",
       "text": [
        "\r",
        "Computed features for good pair 469 of 1216"
       ]
      },
      {
       "output_type": "stream",
       "stream": "stdout",
       "text": [
        "\r",
        "Computed features for good pair 470 of 1216"
       ]
      },
      {
       "output_type": "stream",
       "stream": "stdout",
       "text": [
        "\r",
        "Computed features for good pair 471 of 1216"
       ]
      },
      {
       "output_type": "stream",
       "stream": "stdout",
       "text": [
        "\r",
        "Computed features for good pair 472 of 1216"
       ]
      },
      {
       "output_type": "stream",
       "stream": "stdout",
       "text": [
        "\r",
        "Computed features for good pair 473 of 1216"
       ]
      },
      {
       "output_type": "stream",
       "stream": "stdout",
       "text": [
        "\r",
        "Computed features for good pair 474 of 1216"
       ]
      },
      {
       "output_type": "stream",
       "stream": "stdout",
       "text": [
        "\r",
        "Computed features for good pair 475 of 1216"
       ]
      },
      {
       "output_type": "stream",
       "stream": "stdout",
       "text": [
        "\r",
        "Computed features for good pair 476 of 1216"
       ]
      },
      {
       "output_type": "stream",
       "stream": "stdout",
       "text": [
        "\r",
        "Computed features for good pair 477 of 1216"
       ]
      },
      {
       "output_type": "stream",
       "stream": "stdout",
       "text": [
        "\r",
        "Computed features for good pair 478 of 1216"
       ]
      },
      {
       "output_type": "stream",
       "stream": "stdout",
       "text": [
        "\r",
        "Computed features for good pair 479 of 1216"
       ]
      },
      {
       "output_type": "stream",
       "stream": "stdout",
       "text": [
        "\r",
        "Computed features for good pair 480 of 1216"
       ]
      },
      {
       "output_type": "stream",
       "stream": "stdout",
       "text": [
        "\r",
        "Computed features for good pair 481 of 1216"
       ]
      },
      {
       "output_type": "stream",
       "stream": "stdout",
       "text": [
        "\r",
        "Computed features for good pair 482 of 1216"
       ]
      },
      {
       "output_type": "stream",
       "stream": "stdout",
       "text": [
        "\r",
        "Computed features for good pair 483 of 1216"
       ]
      },
      {
       "output_type": "stream",
       "stream": "stdout",
       "text": [
        "\r",
        "Computed features for good pair 484 of 1216"
       ]
      },
      {
       "output_type": "stream",
       "stream": "stdout",
       "text": [
        "\r",
        "Computed features for good pair 485 of 1216"
       ]
      },
      {
       "output_type": "stream",
       "stream": "stdout",
       "text": [
        "\r",
        "Computed features for good pair 486 of 1216"
       ]
      },
      {
       "output_type": "stream",
       "stream": "stdout",
       "text": [
        "\r",
        "Computed features for good pair 487 of 1216"
       ]
      },
      {
       "output_type": "stream",
       "stream": "stdout",
       "text": [
        "\r",
        "Computed features for good pair 488 of 1216"
       ]
      },
      {
       "output_type": "stream",
       "stream": "stdout",
       "text": [
        "\r",
        "Computed features for good pair 489 of 1216"
       ]
      },
      {
       "output_type": "stream",
       "stream": "stdout",
       "text": [
        "\r",
        "Computed features for good pair 490 of 1216"
       ]
      },
      {
       "output_type": "stream",
       "stream": "stdout",
       "text": [
        "\r",
        "Computed features for good pair 491 of 1216"
       ]
      },
      {
       "output_type": "stream",
       "stream": "stdout",
       "text": [
        "\r",
        "Computed features for good pair 492 of 1216"
       ]
      },
      {
       "output_type": "stream",
       "stream": "stdout",
       "text": [
        "\r",
        "Computed features for good pair 493 of 1216"
       ]
      },
      {
       "output_type": "stream",
       "stream": "stdout",
       "text": [
        "\r",
        "Computed features for good pair 494 of 1216"
       ]
      },
      {
       "output_type": "stream",
       "stream": "stdout",
       "text": [
        "\r",
        "Computed features for good pair 495 of 1216"
       ]
      },
      {
       "output_type": "stream",
       "stream": "stdout",
       "text": [
        "\r",
        "Computed features for good pair 496 of 1216"
       ]
      },
      {
       "output_type": "stream",
       "stream": "stdout",
       "text": [
        "\r",
        "Computed features for good pair 497 of 1216"
       ]
      },
      {
       "output_type": "stream",
       "stream": "stdout",
       "text": [
        "\r",
        "Computed features for good pair 498 of 1216"
       ]
      },
      {
       "output_type": "stream",
       "stream": "stdout",
       "text": [
        "\r",
        "Computed features for good pair 499 of 1216"
       ]
      },
      {
       "output_type": "stream",
       "stream": "stdout",
       "text": [
        "\r",
        "Computed features for good pair 500 of 1216"
       ]
      },
      {
       "output_type": "stream",
       "stream": "stdout",
       "text": [
        "\r",
        "Computed features for good pair 501 of 1216"
       ]
      },
      {
       "output_type": "stream",
       "stream": "stdout",
       "text": [
        "\r",
        "Computed features for good pair 502 of 1216"
       ]
      },
      {
       "output_type": "stream",
       "stream": "stdout",
       "text": [
        "\r",
        "Computed features for good pair 503 of 1216"
       ]
      },
      {
       "output_type": "stream",
       "stream": "stdout",
       "text": [
        "\r",
        "Computed features for good pair 504 of 1216"
       ]
      },
      {
       "output_type": "stream",
       "stream": "stdout",
       "text": [
        "\r",
        "Computed features for good pair 505 of 1216"
       ]
      },
      {
       "output_type": "stream",
       "stream": "stdout",
       "text": [
        "\r",
        "Computed features for good pair 506 of 1216"
       ]
      },
      {
       "output_type": "stream",
       "stream": "stdout",
       "text": [
        "\r",
        "Computed features for good pair 507 of 1216"
       ]
      },
      {
       "output_type": "stream",
       "stream": "stdout",
       "text": [
        "\r",
        "Computed features for good pair 508 of 1216"
       ]
      },
      {
       "output_type": "stream",
       "stream": "stdout",
       "text": [
        "\r",
        "Computed features for good pair 509 of 1216"
       ]
      },
      {
       "output_type": "stream",
       "stream": "stdout",
       "text": [
        "\r",
        "Computed features for good pair 510 of 1216"
       ]
      },
      {
       "output_type": "stream",
       "stream": "stdout",
       "text": [
        "\r",
        "Computed features for good pair 511 of 1216"
       ]
      },
      {
       "output_type": "stream",
       "stream": "stdout",
       "text": [
        "\r",
        "Computed features for good pair 512 of 1216"
       ]
      },
      {
       "output_type": "stream",
       "stream": "stdout",
       "text": [
        "\r",
        "Computed features for good pair 513 of 1216"
       ]
      },
      {
       "output_type": "stream",
       "stream": "stdout",
       "text": [
        "\r",
        "Computed features for good pair 514 of 1216"
       ]
      },
      {
       "output_type": "stream",
       "stream": "stdout",
       "text": [
        "\r",
        "Computed features for good pair 515 of 1216"
       ]
      },
      {
       "output_type": "stream",
       "stream": "stdout",
       "text": [
        "\r",
        "Computed features for good pair 516 of 1216"
       ]
      },
      {
       "output_type": "stream",
       "stream": "stdout",
       "text": [
        "\r",
        "Computed features for good pair 517 of 1216"
       ]
      },
      {
       "output_type": "stream",
       "stream": "stdout",
       "text": [
        "\r",
        "Computed features for good pair 518 of 1216"
       ]
      },
      {
       "output_type": "stream",
       "stream": "stdout",
       "text": [
        "\r",
        "Computed features for good pair 519 of 1216"
       ]
      },
      {
       "output_type": "stream",
       "stream": "stdout",
       "text": [
        "\r",
        "Computed features for good pair 520 of 1216"
       ]
      },
      {
       "output_type": "stream",
       "stream": "stdout",
       "text": [
        "\r",
        "Computed features for good pair 521 of 1216"
       ]
      },
      {
       "output_type": "stream",
       "stream": "stdout",
       "text": [
        "\r",
        "Computed features for good pair 522 of 1216"
       ]
      },
      {
       "output_type": "stream",
       "stream": "stdout",
       "text": [
        "\r",
        "Computed features for good pair 523 of 1216"
       ]
      },
      {
       "output_type": "stream",
       "stream": "stdout",
       "text": [
        "\r",
        "Computed features for good pair 524 of 1216"
       ]
      },
      {
       "output_type": "stream",
       "stream": "stdout",
       "text": [
        "\r",
        "Computed features for good pair 525 of 1216"
       ]
      },
      {
       "output_type": "stream",
       "stream": "stdout",
       "text": [
        "\r",
        "Computed features for good pair 526 of 1216"
       ]
      },
      {
       "output_type": "stream",
       "stream": "stdout",
       "text": [
        "\r",
        "Computed features for good pair 527 of 1216"
       ]
      },
      {
       "output_type": "stream",
       "stream": "stdout",
       "text": [
        "\r",
        "Computed features for good pair 528 of 1216"
       ]
      },
      {
       "output_type": "stream",
       "stream": "stdout",
       "text": [
        "\r",
        "Computed features for good pair 529 of 1216"
       ]
      },
      {
       "output_type": "stream",
       "stream": "stdout",
       "text": [
        "\r",
        "Computed features for good pair 530 of 1216"
       ]
      },
      {
       "output_type": "stream",
       "stream": "stdout",
       "text": [
        "\r",
        "Computed features for good pair 531 of 1216"
       ]
      },
      {
       "output_type": "stream",
       "stream": "stdout",
       "text": [
        "\r",
        "Computed features for good pair 532 of 1216"
       ]
      },
      {
       "output_type": "stream",
       "stream": "stdout",
       "text": [
        "\r",
        "Computed features for good pair 533 of 1216"
       ]
      },
      {
       "output_type": "stream",
       "stream": "stdout",
       "text": [
        "\r",
        "Computed features for good pair 534 of 1216"
       ]
      },
      {
       "output_type": "stream",
       "stream": "stdout",
       "text": [
        "\r",
        "Computed features for good pair 535 of 1216"
       ]
      },
      {
       "output_type": "stream",
       "stream": "stdout",
       "text": [
        "\r",
        "Computed features for good pair 536 of 1216"
       ]
      },
      {
       "output_type": "stream",
       "stream": "stdout",
       "text": [
        "\r",
        "Computed features for good pair 537 of 1216"
       ]
      },
      {
       "output_type": "stream",
       "stream": "stdout",
       "text": [
        "\r",
        "Computed features for good pair 538 of 1216"
       ]
      },
      {
       "output_type": "stream",
       "stream": "stdout",
       "text": [
        "\r",
        "Computed features for good pair 539 of 1216"
       ]
      },
      {
       "output_type": "stream",
       "stream": "stdout",
       "text": [
        "\r",
        "Computed features for good pair 540 of 1216"
       ]
      },
      {
       "output_type": "stream",
       "stream": "stdout",
       "text": [
        "\r",
        "Computed features for good pair 541 of 1216"
       ]
      },
      {
       "output_type": "stream",
       "stream": "stdout",
       "text": [
        "\r",
        "Computed features for good pair 542 of 1216"
       ]
      },
      {
       "output_type": "stream",
       "stream": "stdout",
       "text": [
        "\r",
        "Computed features for good pair 543 of 1216"
       ]
      },
      {
       "output_type": "stream",
       "stream": "stdout",
       "text": [
        "\r",
        "Computed features for good pair 544 of 1216"
       ]
      },
      {
       "output_type": "stream",
       "stream": "stdout",
       "text": [
        "\r",
        "Computed features for good pair 545 of 1216"
       ]
      },
      {
       "output_type": "stream",
       "stream": "stdout",
       "text": [
        "\r",
        "Computed features for good pair 546 of 1216"
       ]
      },
      {
       "output_type": "stream",
       "stream": "stdout",
       "text": [
        "\r",
        "Computed features for good pair 547 of 1216"
       ]
      },
      {
       "output_type": "stream",
       "stream": "stdout",
       "text": [
        "\r",
        "Computed features for good pair 548 of 1216"
       ]
      },
      {
       "output_type": "stream",
       "stream": "stdout",
       "text": [
        "\r",
        "Computed features for good pair 549 of 1216"
       ]
      },
      {
       "output_type": "stream",
       "stream": "stdout",
       "text": [
        "\r",
        "Computed features for good pair 550 of 1216"
       ]
      },
      {
       "output_type": "stream",
       "stream": "stdout",
       "text": [
        "\r",
        "Computed features for good pair 551 of 1216"
       ]
      },
      {
       "output_type": "stream",
       "stream": "stdout",
       "text": [
        "\r",
        "Computed features for good pair 552 of 1216"
       ]
      },
      {
       "output_type": "stream",
       "stream": "stdout",
       "text": [
        "\r",
        "Computed features for good pair 553 of 1216"
       ]
      },
      {
       "output_type": "stream",
       "stream": "stdout",
       "text": [
        "\r",
        "Computed features for good pair 554 of 1216"
       ]
      },
      {
       "output_type": "stream",
       "stream": "stdout",
       "text": [
        "\r",
        "Computed features for good pair 555 of 1216"
       ]
      },
      {
       "output_type": "stream",
       "stream": "stdout",
       "text": [
        "\r",
        "Computed features for good pair 556 of 1216"
       ]
      },
      {
       "output_type": "stream",
       "stream": "stdout",
       "text": [
        "\r",
        "Computed features for good pair 557 of 1216"
       ]
      },
      {
       "output_type": "stream",
       "stream": "stdout",
       "text": [
        "\r",
        "Computed features for good pair 558 of 1216"
       ]
      },
      {
       "output_type": "stream",
       "stream": "stdout",
       "text": [
        "\r",
        "Computed features for good pair 559 of 1216"
       ]
      },
      {
       "output_type": "stream",
       "stream": "stdout",
       "text": [
        "\r",
        "Computed features for good pair 560 of 1216"
       ]
      },
      {
       "output_type": "stream",
       "stream": "stdout",
       "text": [
        "\r",
        "Computed features for good pair 561 of 1216"
       ]
      },
      {
       "output_type": "stream",
       "stream": "stdout",
       "text": [
        "\r",
        "Computed features for good pair 562 of 1216"
       ]
      },
      {
       "output_type": "stream",
       "stream": "stdout",
       "text": [
        "\r",
        "Computed features for good pair 563 of 1216"
       ]
      },
      {
       "output_type": "stream",
       "stream": "stdout",
       "text": [
        "\r",
        "Computed features for good pair 564 of 1216"
       ]
      },
      {
       "output_type": "stream",
       "stream": "stdout",
       "text": [
        "\r",
        "Computed features for good pair 565 of 1216"
       ]
      },
      {
       "output_type": "stream",
       "stream": "stdout",
       "text": [
        "\r",
        "Computed features for good pair 566 of 1216"
       ]
      },
      {
       "output_type": "stream",
       "stream": "stdout",
       "text": [
        "\r",
        "Computed features for good pair 567 of 1216"
       ]
      },
      {
       "output_type": "stream",
       "stream": "stdout",
       "text": [
        "\r",
        "Computed features for good pair 568 of 1216"
       ]
      },
      {
       "output_type": "stream",
       "stream": "stdout",
       "text": [
        "\r",
        "Computed features for good pair 569 of 1216"
       ]
      },
      {
       "output_type": "stream",
       "stream": "stdout",
       "text": [
        "\r",
        "Computed features for good pair 570 of 1216"
       ]
      },
      {
       "output_type": "stream",
       "stream": "stdout",
       "text": [
        "\r",
        "Computed features for good pair 571 of 1216"
       ]
      },
      {
       "output_type": "stream",
       "stream": "stdout",
       "text": [
        "\r",
        "Computed features for good pair 572 of 1216"
       ]
      },
      {
       "output_type": "stream",
       "stream": "stdout",
       "text": [
        "\r",
        "Computed features for good pair 573 of 1216"
       ]
      },
      {
       "output_type": "stream",
       "stream": "stdout",
       "text": [
        "\r",
        "Computed features for good pair 574 of 1216"
       ]
      },
      {
       "output_type": "stream",
       "stream": "stdout",
       "text": [
        "\r",
        "Computed features for good pair 575 of 1216"
       ]
      },
      {
       "output_type": "stream",
       "stream": "stdout",
       "text": [
        "\r",
        "Computed features for good pair 576 of 1216"
       ]
      },
      {
       "output_type": "stream",
       "stream": "stdout",
       "text": [
        "\r",
        "Computed features for good pair 577 of 1216"
       ]
      },
      {
       "output_type": "stream",
       "stream": "stdout",
       "text": [
        "\r",
        "Computed features for good pair 578 of 1216"
       ]
      },
      {
       "output_type": "stream",
       "stream": "stdout",
       "text": [
        "\r",
        "Computed features for good pair 579 of 1216"
       ]
      },
      {
       "output_type": "stream",
       "stream": "stdout",
       "text": [
        "\r",
        "Computed features for good pair 580 of 1216"
       ]
      },
      {
       "output_type": "stream",
       "stream": "stdout",
       "text": [
        "\r",
        "Computed features for good pair 581 of 1216"
       ]
      },
      {
       "output_type": "stream",
       "stream": "stdout",
       "text": [
        "\r",
        "Computed features for good pair 582 of 1216"
       ]
      },
      {
       "output_type": "stream",
       "stream": "stdout",
       "text": [
        "\r",
        "Computed features for good pair 583 of 1216"
       ]
      },
      {
       "output_type": "stream",
       "stream": "stdout",
       "text": [
        "\r",
        "Computed features for good pair 584 of 1216"
       ]
      },
      {
       "output_type": "stream",
       "stream": "stdout",
       "text": [
        "\r",
        "Computed features for good pair 585 of 1216"
       ]
      },
      {
       "output_type": "stream",
       "stream": "stdout",
       "text": [
        "\r",
        "Computed features for good pair 586 of 1216"
       ]
      },
      {
       "output_type": "stream",
       "stream": "stdout",
       "text": [
        "\r",
        "Computed features for good pair 587 of 1216"
       ]
      },
      {
       "output_type": "stream",
       "stream": "stdout",
       "text": [
        "\r",
        "Computed features for good pair 588 of 1216"
       ]
      },
      {
       "output_type": "stream",
       "stream": "stdout",
       "text": [
        "\r",
        "Computed features for good pair 589 of 1216"
       ]
      },
      {
       "output_type": "stream",
       "stream": "stdout",
       "text": [
        "\r",
        "Computed features for good pair 590 of 1216"
       ]
      },
      {
       "output_type": "stream",
       "stream": "stdout",
       "text": [
        "\r",
        "Computed features for good pair 591 of 1216"
       ]
      },
      {
       "output_type": "stream",
       "stream": "stdout",
       "text": [
        "\r",
        "Computed features for good pair 592 of 1216"
       ]
      },
      {
       "output_type": "stream",
       "stream": "stdout",
       "text": [
        "\r",
        "Computed features for good pair 593 of 1216"
       ]
      },
      {
       "output_type": "stream",
       "stream": "stdout",
       "text": [
        "\r",
        "Computed features for good pair 594 of 1216"
       ]
      },
      {
       "output_type": "stream",
       "stream": "stdout",
       "text": [
        "\r",
        "Computed features for good pair 595 of 1216"
       ]
      },
      {
       "output_type": "stream",
       "stream": "stdout",
       "text": [
        "\r",
        "Computed features for good pair 596 of 1216"
       ]
      },
      {
       "output_type": "stream",
       "stream": "stdout",
       "text": [
        "\r",
        "Computed features for good pair 597 of 1216"
       ]
      },
      {
       "output_type": "stream",
       "stream": "stdout",
       "text": [
        "\r",
        "Computed features for good pair 598 of 1216"
       ]
      },
      {
       "output_type": "stream",
       "stream": "stdout",
       "text": [
        "\r",
        "Computed features for good pair 599 of 1216"
       ]
      },
      {
       "output_type": "stream",
       "stream": "stdout",
       "text": [
        "\r",
        "Computed features for good pair 600 of 1216"
       ]
      },
      {
       "output_type": "stream",
       "stream": "stdout",
       "text": [
        "\r",
        "Computed features for good pair 601 of 1216"
       ]
      },
      {
       "output_type": "stream",
       "stream": "stdout",
       "text": [
        "\r",
        "Computed features for good pair 602 of 1216"
       ]
      },
      {
       "output_type": "stream",
       "stream": "stdout",
       "text": [
        "\r",
        "Computed features for good pair 603 of 1216"
       ]
      },
      {
       "output_type": "stream",
       "stream": "stdout",
       "text": [
        "\r",
        "Computed features for good pair 604 of 1216"
       ]
      },
      {
       "output_type": "stream",
       "stream": "stdout",
       "text": [
        "\r",
        "Computed features for good pair 605 of 1216"
       ]
      },
      {
       "output_type": "stream",
       "stream": "stdout",
       "text": [
        "\r",
        "Computed features for good pair 606 of 1216"
       ]
      },
      {
       "output_type": "stream",
       "stream": "stdout",
       "text": [
        "\r",
        "Computed features for good pair 607 of 1216"
       ]
      },
      {
       "output_type": "stream",
       "stream": "stdout",
       "text": [
        "\r",
        "Computed features for good pair 608 of 1216"
       ]
      },
      {
       "output_type": "stream",
       "stream": "stdout",
       "text": [
        "\r",
        "Computed features for good pair 609 of 1216"
       ]
      },
      {
       "output_type": "stream",
       "stream": "stdout",
       "text": [
        "\r",
        "Computed features for good pair 610 of 1216"
       ]
      },
      {
       "output_type": "stream",
       "stream": "stdout",
       "text": [
        "\r",
        "Computed features for good pair 611 of 1216"
       ]
      },
      {
       "output_type": "stream",
       "stream": "stdout",
       "text": [
        "\r",
        "Computed features for good pair 612 of 1216"
       ]
      },
      {
       "output_type": "stream",
       "stream": "stdout",
       "text": [
        "\r",
        "Computed features for good pair 613 of 1216"
       ]
      },
      {
       "output_type": "stream",
       "stream": "stdout",
       "text": [
        "\r",
        "Computed features for good pair 614 of 1216"
       ]
      },
      {
       "output_type": "stream",
       "stream": "stdout",
       "text": [
        "\r",
        "Computed features for good pair 615 of 1216"
       ]
      },
      {
       "output_type": "stream",
       "stream": "stdout",
       "text": [
        "\r",
        "Computed features for good pair 616 of 1216"
       ]
      },
      {
       "output_type": "stream",
       "stream": "stdout",
       "text": [
        "\r",
        "Computed features for good pair 617 of 1216"
       ]
      },
      {
       "output_type": "stream",
       "stream": "stdout",
       "text": [
        "\r",
        "Computed features for good pair 618 of 1216"
       ]
      },
      {
       "output_type": "stream",
       "stream": "stdout",
       "text": [
        "\r",
        "Computed features for good pair 619 of 1216"
       ]
      },
      {
       "output_type": "stream",
       "stream": "stdout",
       "text": [
        "\r",
        "Computed features for good pair 620 of 1216"
       ]
      },
      {
       "output_type": "stream",
       "stream": "stdout",
       "text": [
        "\r",
        "Computed features for good pair 621 of 1216"
       ]
      },
      {
       "output_type": "stream",
       "stream": "stdout",
       "text": [
        "\r",
        "Computed features for good pair 622 of 1216"
       ]
      },
      {
       "output_type": "stream",
       "stream": "stdout",
       "text": [
        "\r",
        "Computed features for good pair 623 of 1216"
       ]
      },
      {
       "output_type": "stream",
       "stream": "stdout",
       "text": [
        "\r",
        "Computed features for good pair 624 of 1216"
       ]
      },
      {
       "output_type": "stream",
       "stream": "stdout",
       "text": [
        "\r",
        "Computed features for good pair 625 of 1216"
       ]
      },
      {
       "output_type": "stream",
       "stream": "stdout",
       "text": [
        "\r",
        "Computed features for good pair 626 of 1216"
       ]
      },
      {
       "output_type": "stream",
       "stream": "stdout",
       "text": [
        "\r",
        "Computed features for good pair 627 of 1216"
       ]
      },
      {
       "output_type": "stream",
       "stream": "stdout",
       "text": [
        "\r",
        "Computed features for good pair 628 of 1216"
       ]
      },
      {
       "output_type": "stream",
       "stream": "stdout",
       "text": [
        "\r",
        "Computed features for good pair 629 of 1216"
       ]
      },
      {
       "output_type": "stream",
       "stream": "stdout",
       "text": [
        "\r",
        "Computed features for good pair 630 of 1216"
       ]
      },
      {
       "output_type": "stream",
       "stream": "stdout",
       "text": [
        "\r",
        "Computed features for good pair 631 of 1216"
       ]
      },
      {
       "output_type": "stream",
       "stream": "stdout",
       "text": [
        "\r",
        "Computed features for good pair 632 of 1216"
       ]
      },
      {
       "output_type": "stream",
       "stream": "stdout",
       "text": [
        "\r",
        "Computed features for good pair 633 of 1216"
       ]
      },
      {
       "output_type": "stream",
       "stream": "stdout",
       "text": [
        "\r",
        "Computed features for good pair 634 of 1216"
       ]
      },
      {
       "output_type": "stream",
       "stream": "stdout",
       "text": [
        "\r",
        "Computed features for good pair 635 of 1216"
       ]
      },
      {
       "output_type": "stream",
       "stream": "stdout",
       "text": [
        "\r",
        "Computed features for good pair 636 of 1216"
       ]
      },
      {
       "output_type": "stream",
       "stream": "stdout",
       "text": [
        "\r",
        "Computed features for good pair 637 of 1216"
       ]
      },
      {
       "output_type": "stream",
       "stream": "stdout",
       "text": [
        "\r",
        "Computed features for good pair 638 of 1216"
       ]
      },
      {
       "output_type": "stream",
       "stream": "stdout",
       "text": [
        "\r",
        "Computed features for good pair 639 of 1216"
       ]
      },
      {
       "output_type": "stream",
       "stream": "stdout",
       "text": [
        "\r",
        "Computed features for good pair 640 of 1216"
       ]
      },
      {
       "output_type": "stream",
       "stream": "stdout",
       "text": [
        "\r",
        "Computed features for good pair 641 of 1216"
       ]
      },
      {
       "output_type": "stream",
       "stream": "stdout",
       "text": [
        "\r",
        "Computed features for good pair 642 of 1216"
       ]
      },
      {
       "output_type": "stream",
       "stream": "stdout",
       "text": [
        "\r",
        "Computed features for good pair 643 of 1216"
       ]
      },
      {
       "output_type": "stream",
       "stream": "stdout",
       "text": [
        "\r",
        "Computed features for good pair 644 of 1216"
       ]
      },
      {
       "output_type": "stream",
       "stream": "stdout",
       "text": [
        "\r",
        "Computed features for good pair 645 of 1216"
       ]
      },
      {
       "output_type": "stream",
       "stream": "stdout",
       "text": [
        "\r",
        "Computed features for good pair 646 of 1216"
       ]
      },
      {
       "output_type": "stream",
       "stream": "stdout",
       "text": [
        "\r",
        "Computed features for good pair 647 of 1216"
       ]
      },
      {
       "output_type": "stream",
       "stream": "stdout",
       "text": [
        "\r",
        "Computed features for good pair 648 of 1216"
       ]
      },
      {
       "output_type": "stream",
       "stream": "stdout",
       "text": [
        "\r",
        "Computed features for good pair 649 of 1216"
       ]
      },
      {
       "output_type": "stream",
       "stream": "stdout",
       "text": [
        "\r",
        "Computed features for good pair 650 of 1216"
       ]
      },
      {
       "output_type": "stream",
       "stream": "stdout",
       "text": [
        "\r",
        "Computed features for good pair 651 of 1216"
       ]
      },
      {
       "output_type": "stream",
       "stream": "stdout",
       "text": [
        "\r",
        "Computed features for good pair 652 of 1216"
       ]
      },
      {
       "output_type": "stream",
       "stream": "stdout",
       "text": [
        "\r",
        "Computed features for good pair 653 of 1216"
       ]
      },
      {
       "output_type": "stream",
       "stream": "stdout",
       "text": [
        "\r",
        "Computed features for good pair 654 of 1216"
       ]
      },
      {
       "output_type": "stream",
       "stream": "stdout",
       "text": [
        "\r",
        "Computed features for good pair 655 of 1216"
       ]
      },
      {
       "output_type": "stream",
       "stream": "stdout",
       "text": [
        "\r",
        "Computed features for good pair 656 of 1216"
       ]
      },
      {
       "output_type": "stream",
       "stream": "stdout",
       "text": [
        "\r",
        "Computed features for good pair 657 of 1216"
       ]
      },
      {
       "output_type": "stream",
       "stream": "stdout",
       "text": [
        "\r",
        "Computed features for good pair 658 of 1216"
       ]
      },
      {
       "output_type": "stream",
       "stream": "stdout",
       "text": [
        "\r",
        "Computed features for good pair 659 of 1216"
       ]
      },
      {
       "output_type": "stream",
       "stream": "stdout",
       "text": [
        "\r",
        "Computed features for good pair 660 of 1216"
       ]
      },
      {
       "output_type": "stream",
       "stream": "stdout",
       "text": [
        "\r",
        "Computed features for good pair 661 of 1216"
       ]
      },
      {
       "output_type": "stream",
       "stream": "stdout",
       "text": [
        "\r",
        "Computed features for good pair 662 of 1216"
       ]
      },
      {
       "output_type": "stream",
       "stream": "stdout",
       "text": [
        "\r",
        "Computed features for good pair 663 of 1216"
       ]
      },
      {
       "output_type": "stream",
       "stream": "stdout",
       "text": [
        "\r",
        "Computed features for good pair 664 of 1216"
       ]
      },
      {
       "output_type": "stream",
       "stream": "stdout",
       "text": [
        "\r",
        "Computed features for good pair 665 of 1216"
       ]
      },
      {
       "output_type": "stream",
       "stream": "stdout",
       "text": [
        "\r",
        "Computed features for good pair 666 of 1216"
       ]
      },
      {
       "output_type": "stream",
       "stream": "stdout",
       "text": [
        "\r",
        "Computed features for good pair 667 of 1216"
       ]
      },
      {
       "output_type": "stream",
       "stream": "stdout",
       "text": [
        "\r",
        "Computed features for good pair 668 of 1216"
       ]
      },
      {
       "output_type": "stream",
       "stream": "stdout",
       "text": [
        "\r",
        "Computed features for good pair 669 of 1216"
       ]
      },
      {
       "output_type": "stream",
       "stream": "stdout",
       "text": [
        "\r",
        "Computed features for good pair 670 of 1216"
       ]
      },
      {
       "output_type": "stream",
       "stream": "stdout",
       "text": [
        "\r",
        "Computed features for good pair 671 of 1216"
       ]
      },
      {
       "output_type": "stream",
       "stream": "stdout",
       "text": [
        "\r",
        "Computed features for good pair 672 of 1216"
       ]
      },
      {
       "output_type": "stream",
       "stream": "stdout",
       "text": [
        "\r",
        "Computed features for good pair 673 of 1216"
       ]
      },
      {
       "output_type": "stream",
       "stream": "stdout",
       "text": [
        "\r",
        "Computed features for good pair 674 of 1216"
       ]
      },
      {
       "output_type": "stream",
       "stream": "stdout",
       "text": [
        "\r",
        "Computed features for good pair 675 of 1216"
       ]
      },
      {
       "output_type": "stream",
       "stream": "stdout",
       "text": [
        "\r",
        "Computed features for good pair 676 of 1216"
       ]
      },
      {
       "output_type": "stream",
       "stream": "stdout",
       "text": [
        "\r",
        "Computed features for good pair 677 of 1216"
       ]
      },
      {
       "output_type": "stream",
       "stream": "stdout",
       "text": [
        "\r",
        "Computed features for good pair 678 of 1216"
       ]
      },
      {
       "output_type": "stream",
       "stream": "stdout",
       "text": [
        "\r",
        "Computed features for good pair 679 of 1216"
       ]
      },
      {
       "output_type": "stream",
       "stream": "stdout",
       "text": [
        "\r",
        "Computed features for good pair 680 of 1216"
       ]
      },
      {
       "output_type": "stream",
       "stream": "stdout",
       "text": [
        "\r",
        "Computed features for good pair 681 of 1216"
       ]
      },
      {
       "output_type": "stream",
       "stream": "stdout",
       "text": [
        "\r",
        "Computed features for good pair 682 of 1216"
       ]
      },
      {
       "output_type": "stream",
       "stream": "stdout",
       "text": [
        "\r",
        "Computed features for good pair 683 of 1216"
       ]
      },
      {
       "output_type": "stream",
       "stream": "stdout",
       "text": [
        "\r",
        "Computed features for good pair 684 of 1216"
       ]
      },
      {
       "output_type": "stream",
       "stream": "stdout",
       "text": [
        "\r",
        "Computed features for good pair 685 of 1216"
       ]
      },
      {
       "output_type": "stream",
       "stream": "stdout",
       "text": [
        "\r",
        "Computed features for good pair 686 of 1216"
       ]
      },
      {
       "output_type": "stream",
       "stream": "stdout",
       "text": [
        "\r",
        "Computed features for good pair 687 of 1216"
       ]
      },
      {
       "output_type": "stream",
       "stream": "stdout",
       "text": [
        "\r",
        "Computed features for good pair 688 of 1216"
       ]
      },
      {
       "output_type": "stream",
       "stream": "stdout",
       "text": [
        "\r",
        "Computed features for good pair 689 of 1216"
       ]
      },
      {
       "output_type": "stream",
       "stream": "stdout",
       "text": [
        "\r",
        "Computed features for good pair 690 of 1216"
       ]
      },
      {
       "output_type": "stream",
       "stream": "stdout",
       "text": [
        "\r",
        "Computed features for good pair 691 of 1216"
       ]
      },
      {
       "output_type": "stream",
       "stream": "stdout",
       "text": [
        "\r",
        "Computed features for good pair 692 of 1216"
       ]
      },
      {
       "output_type": "stream",
       "stream": "stdout",
       "text": [
        "\r",
        "Computed features for good pair 693 of 1216"
       ]
      },
      {
       "output_type": "stream",
       "stream": "stdout",
       "text": [
        "\r",
        "Computed features for good pair 694 of 1216"
       ]
      },
      {
       "output_type": "stream",
       "stream": "stdout",
       "text": [
        "\r",
        "Computed features for good pair 695 of 1216"
       ]
      },
      {
       "output_type": "stream",
       "stream": "stdout",
       "text": [
        "\r",
        "Computed features for good pair 696 of 1216"
       ]
      },
      {
       "output_type": "stream",
       "stream": "stdout",
       "text": [
        "\r",
        "Computed features for good pair 697 of 1216"
       ]
      },
      {
       "output_type": "stream",
       "stream": "stdout",
       "text": [
        "\r",
        "Computed features for good pair 698 of 1216"
       ]
      },
      {
       "output_type": "stream",
       "stream": "stdout",
       "text": [
        "\r",
        "Computed features for good pair 699 of 1216"
       ]
      },
      {
       "output_type": "stream",
       "stream": "stdout",
       "text": [
        "\r",
        "Computed features for good pair 700 of 1216"
       ]
      },
      {
       "output_type": "stream",
       "stream": "stdout",
       "text": [
        "\r",
        "Computed features for good pair 701 of 1216"
       ]
      },
      {
       "output_type": "stream",
       "stream": "stdout",
       "text": [
        "\r",
        "Computed features for good pair 702 of 1216"
       ]
      },
      {
       "output_type": "stream",
       "stream": "stdout",
       "text": [
        "\r",
        "Computed features for good pair 703 of 1216"
       ]
      },
      {
       "output_type": "stream",
       "stream": "stdout",
       "text": [
        "\r",
        "Computed features for good pair 704 of 1216"
       ]
      },
      {
       "output_type": "stream",
       "stream": "stdout",
       "text": [
        "\r",
        "Computed features for good pair 705 of 1216"
       ]
      },
      {
       "output_type": "stream",
       "stream": "stdout",
       "text": [
        "\r",
        "Computed features for good pair 706 of 1216"
       ]
      },
      {
       "output_type": "stream",
       "stream": "stdout",
       "text": [
        "\r",
        "Computed features for good pair 707 of 1216"
       ]
      },
      {
       "output_type": "stream",
       "stream": "stdout",
       "text": [
        "\r",
        "Computed features for good pair 708 of 1216"
       ]
      },
      {
       "output_type": "stream",
       "stream": "stdout",
       "text": [
        "\r",
        "Computed features for good pair 709 of 1216"
       ]
      },
      {
       "output_type": "stream",
       "stream": "stdout",
       "text": [
        "\r",
        "Computed features for good pair 710 of 1216"
       ]
      },
      {
       "output_type": "stream",
       "stream": "stdout",
       "text": [
        "\r",
        "Computed features for good pair 711 of 1216"
       ]
      },
      {
       "output_type": "stream",
       "stream": "stdout",
       "text": [
        "\r",
        "Computed features for good pair 712 of 1216"
       ]
      },
      {
       "output_type": "stream",
       "stream": "stdout",
       "text": [
        "\r",
        "Computed features for good pair 713 of 1216"
       ]
      },
      {
       "output_type": "stream",
       "stream": "stdout",
       "text": [
        "\r",
        "Computed features for good pair 714 of 1216"
       ]
      },
      {
       "output_type": "stream",
       "stream": "stdout",
       "text": [
        "\r",
        "Computed features for good pair 715 of 1216"
       ]
      },
      {
       "output_type": "stream",
       "stream": "stdout",
       "text": [
        "\r",
        "Computed features for good pair 716 of 1216"
       ]
      },
      {
       "output_type": "stream",
       "stream": "stdout",
       "text": [
        "\r",
        "Computed features for good pair 717 of 1216"
       ]
      },
      {
       "output_type": "stream",
       "stream": "stdout",
       "text": [
        "\r",
        "Computed features for good pair 718 of 1216"
       ]
      },
      {
       "output_type": "stream",
       "stream": "stdout",
       "text": [
        "\r",
        "Computed features for good pair 719 of 1216"
       ]
      },
      {
       "output_type": "stream",
       "stream": "stdout",
       "text": [
        "\r",
        "Computed features for good pair 720 of 1216"
       ]
      },
      {
       "output_type": "stream",
       "stream": "stdout",
       "text": [
        "\r",
        "Computed features for good pair 721 of 1216"
       ]
      },
      {
       "output_type": "stream",
       "stream": "stdout",
       "text": [
        "\r",
        "Computed features for good pair 722 of 1216"
       ]
      },
      {
       "output_type": "stream",
       "stream": "stdout",
       "text": [
        "\r",
        "Computed features for good pair 723 of 1216"
       ]
      },
      {
       "output_type": "stream",
       "stream": "stdout",
       "text": [
        "\r",
        "Computed features for good pair 724 of 1216"
       ]
      },
      {
       "output_type": "stream",
       "stream": "stdout",
       "text": [
        "\r",
        "Computed features for good pair 725 of 1216"
       ]
      },
      {
       "output_type": "stream",
       "stream": "stdout",
       "text": [
        "\r",
        "Computed features for good pair 726 of 1216"
       ]
      },
      {
       "output_type": "stream",
       "stream": "stdout",
       "text": [
        "\r",
        "Computed features for good pair 727 of 1216"
       ]
      },
      {
       "output_type": "stream",
       "stream": "stdout",
       "text": [
        "\r",
        "Computed features for good pair 728 of 1216"
       ]
      },
      {
       "output_type": "stream",
       "stream": "stdout",
       "text": [
        "\r",
        "Computed features for good pair 729 of 1216"
       ]
      },
      {
       "output_type": "stream",
       "stream": "stdout",
       "text": [
        "\r",
        "Computed features for good pair 730 of 1216"
       ]
      },
      {
       "output_type": "stream",
       "stream": "stdout",
       "text": [
        "\r",
        "Computed features for good pair 731 of 1216"
       ]
      },
      {
       "output_type": "stream",
       "stream": "stdout",
       "text": [
        "\r",
        "Computed features for good pair 732 of 1216"
       ]
      },
      {
       "output_type": "stream",
       "stream": "stdout",
       "text": [
        "\r",
        "Computed features for good pair 733 of 1216"
       ]
      },
      {
       "output_type": "stream",
       "stream": "stdout",
       "text": [
        "\r",
        "Computed features for good pair 734 of 1216"
       ]
      },
      {
       "output_type": "stream",
       "stream": "stdout",
       "text": [
        "\r",
        "Computed features for good pair 735 of 1216"
       ]
      },
      {
       "output_type": "stream",
       "stream": "stdout",
       "text": [
        "\r",
        "Computed features for good pair 736 of 1216"
       ]
      },
      {
       "output_type": "stream",
       "stream": "stdout",
       "text": [
        "\r",
        "Computed features for good pair 737 of 1216"
       ]
      },
      {
       "output_type": "stream",
       "stream": "stdout",
       "text": [
        "\r",
        "Computed features for good pair 738 of 1216"
       ]
      },
      {
       "output_type": "stream",
       "stream": "stdout",
       "text": [
        "\r",
        "Computed features for good pair 739 of 1216"
       ]
      },
      {
       "output_type": "stream",
       "stream": "stdout",
       "text": [
        "\r",
        "Computed features for good pair 740 of 1216"
       ]
      },
      {
       "output_type": "stream",
       "stream": "stdout",
       "text": [
        "\r",
        "Computed features for good pair 741 of 1216"
       ]
      },
      {
       "output_type": "stream",
       "stream": "stdout",
       "text": [
        "\r",
        "Computed features for good pair 742 of 1216"
       ]
      },
      {
       "output_type": "stream",
       "stream": "stdout",
       "text": [
        "\r",
        "Computed features for good pair 743 of 1216"
       ]
      },
      {
       "output_type": "stream",
       "stream": "stdout",
       "text": [
        "\r",
        "Computed features for good pair 744 of 1216"
       ]
      },
      {
       "output_type": "stream",
       "stream": "stdout",
       "text": [
        "\r",
        "Computed features for good pair 745 of 1216"
       ]
      },
      {
       "output_type": "stream",
       "stream": "stdout",
       "text": [
        "\r",
        "Computed features for good pair 746 of 1216"
       ]
      },
      {
       "output_type": "stream",
       "stream": "stdout",
       "text": [
        "\r",
        "Computed features for good pair 747 of 1216"
       ]
      },
      {
       "output_type": "stream",
       "stream": "stdout",
       "text": [
        "\r",
        "Computed features for good pair 748 of 1216"
       ]
      },
      {
       "output_type": "stream",
       "stream": "stdout",
       "text": [
        "\r",
        "Computed features for good pair 749 of 1216"
       ]
      },
      {
       "output_type": "stream",
       "stream": "stdout",
       "text": [
        "\r",
        "Computed features for good pair 750 of 1216"
       ]
      },
      {
       "output_type": "stream",
       "stream": "stdout",
       "text": [
        "\r",
        "Computed features for good pair 751 of 1216"
       ]
      },
      {
       "output_type": "stream",
       "stream": "stdout",
       "text": [
        "\r",
        "Computed features for good pair 752 of 1216"
       ]
      },
      {
       "output_type": "stream",
       "stream": "stdout",
       "text": [
        "\r",
        "Computed features for good pair 753 of 1216"
       ]
      },
      {
       "output_type": "stream",
       "stream": "stdout",
       "text": [
        "\r",
        "Computed features for good pair 754 of 1216"
       ]
      },
      {
       "output_type": "stream",
       "stream": "stdout",
       "text": [
        "\r",
        "Computed features for good pair 755 of 1216"
       ]
      },
      {
       "output_type": "stream",
       "stream": "stdout",
       "text": [
        "\r",
        "Computed features for good pair 756 of 1216"
       ]
      },
      {
       "output_type": "stream",
       "stream": "stdout",
       "text": [
        "\r",
        "Computed features for good pair 757 of 1216"
       ]
      },
      {
       "output_type": "stream",
       "stream": "stdout",
       "text": [
        "\r",
        "Computed features for good pair 758 of 1216"
       ]
      },
      {
       "output_type": "stream",
       "stream": "stdout",
       "text": [
        "\r",
        "Computed features for good pair 759 of 1216"
       ]
      },
      {
       "output_type": "stream",
       "stream": "stdout",
       "text": [
        "\r",
        "Computed features for good pair 760 of 1216"
       ]
      },
      {
       "output_type": "stream",
       "stream": "stdout",
       "text": [
        "\r",
        "Computed features for good pair 761 of 1216"
       ]
      },
      {
       "output_type": "stream",
       "stream": "stdout",
       "text": [
        "\r",
        "Computed features for good pair 762 of 1216"
       ]
      },
      {
       "output_type": "stream",
       "stream": "stdout",
       "text": [
        "\r",
        "Computed features for good pair 763 of 1216"
       ]
      },
      {
       "output_type": "stream",
       "stream": "stdout",
       "text": [
        "\r",
        "Computed features for good pair 764 of 1216"
       ]
      },
      {
       "output_type": "stream",
       "stream": "stdout",
       "text": [
        "\r",
        "Computed features for good pair 765 of 1216"
       ]
      },
      {
       "output_type": "stream",
       "stream": "stdout",
       "text": [
        "\r",
        "Computed features for good pair 766 of 1216"
       ]
      },
      {
       "output_type": "stream",
       "stream": "stdout",
       "text": [
        "\r",
        "Computed features for good pair 767 of 1216"
       ]
      },
      {
       "output_type": "stream",
       "stream": "stdout",
       "text": [
        "\r",
        "Computed features for good pair 768 of 1216"
       ]
      },
      {
       "output_type": "stream",
       "stream": "stdout",
       "text": [
        "\r",
        "Computed features for good pair 769 of 1216"
       ]
      },
      {
       "output_type": "stream",
       "stream": "stdout",
       "text": [
        "\r",
        "Computed features for good pair 770 of 1216"
       ]
      },
      {
       "output_type": "stream",
       "stream": "stdout",
       "text": [
        "\r",
        "Computed features for good pair 771 of 1216"
       ]
      },
      {
       "output_type": "stream",
       "stream": "stdout",
       "text": [
        "\r",
        "Computed features for good pair 772 of 1216"
       ]
      },
      {
       "output_type": "stream",
       "stream": "stdout",
       "text": [
        "\r",
        "Computed features for good pair 773 of 1216"
       ]
      },
      {
       "output_type": "stream",
       "stream": "stdout",
       "text": [
        "\r",
        "Computed features for good pair 774 of 1216"
       ]
      },
      {
       "output_type": "stream",
       "stream": "stdout",
       "text": [
        "\r",
        "Computed features for good pair 775 of 1216"
       ]
      },
      {
       "output_type": "stream",
       "stream": "stdout",
       "text": [
        "\r",
        "Computed features for good pair 776 of 1216"
       ]
      },
      {
       "output_type": "stream",
       "stream": "stdout",
       "text": [
        "\r",
        "Computed features for good pair 777 of 1216"
       ]
      },
      {
       "output_type": "stream",
       "stream": "stdout",
       "text": [
        "\r",
        "Computed features for good pair 778 of 1216"
       ]
      },
      {
       "output_type": "stream",
       "stream": "stdout",
       "text": [
        "\r",
        "Computed features for good pair 779 of 1216"
       ]
      },
      {
       "output_type": "stream",
       "stream": "stdout",
       "text": [
        "\r",
        "Computed features for good pair 780 of 1216"
       ]
      },
      {
       "output_type": "stream",
       "stream": "stdout",
       "text": [
        "\r",
        "Computed features for good pair 781 of 1216"
       ]
      },
      {
       "output_type": "stream",
       "stream": "stdout",
       "text": [
        "\r",
        "Computed features for good pair 782 of 1216"
       ]
      },
      {
       "output_type": "stream",
       "stream": "stdout",
       "text": [
        "\r",
        "Computed features for good pair 783 of 1216"
       ]
      },
      {
       "output_type": "stream",
       "stream": "stdout",
       "text": [
        "\r",
        "Computed features for good pair 784 of 1216"
       ]
      },
      {
       "output_type": "stream",
       "stream": "stdout",
       "text": [
        "\r",
        "Computed features for good pair 785 of 1216"
       ]
      },
      {
       "output_type": "stream",
       "stream": "stdout",
       "text": [
        "\r",
        "Computed features for good pair 786 of 1216"
       ]
      },
      {
       "output_type": "stream",
       "stream": "stdout",
       "text": [
        "\r",
        "Computed features for good pair 787 of 1216"
       ]
      },
      {
       "output_type": "stream",
       "stream": "stdout",
       "text": [
        "\r",
        "Computed features for good pair 788 of 1216"
       ]
      },
      {
       "output_type": "stream",
       "stream": "stdout",
       "text": [
        "\r",
        "Computed features for good pair 789 of 1216"
       ]
      },
      {
       "output_type": "stream",
       "stream": "stdout",
       "text": [
        "\r",
        "Computed features for good pair 790 of 1216"
       ]
      },
      {
       "output_type": "stream",
       "stream": "stdout",
       "text": [
        "\r",
        "Computed features for good pair 791 of 1216"
       ]
      },
      {
       "output_type": "stream",
       "stream": "stdout",
       "text": [
        "\r",
        "Computed features for good pair 792 of 1216"
       ]
      },
      {
       "output_type": "stream",
       "stream": "stdout",
       "text": [
        "\r",
        "Computed features for good pair 793 of 1216"
       ]
      },
      {
       "output_type": "stream",
       "stream": "stdout",
       "text": [
        "\r",
        "Computed features for good pair 794 of 1216"
       ]
      },
      {
       "output_type": "stream",
       "stream": "stdout",
       "text": [
        "\r",
        "Computed features for good pair 795 of 1216"
       ]
      },
      {
       "output_type": "stream",
       "stream": "stdout",
       "text": [
        "\r",
        "Computed features for good pair 796 of 1216"
       ]
      },
      {
       "output_type": "stream",
       "stream": "stdout",
       "text": [
        "\r",
        "Computed features for good pair 797 of 1216"
       ]
      },
      {
       "output_type": "stream",
       "stream": "stdout",
       "text": [
        "\r",
        "Computed features for good pair 798 of 1216"
       ]
      },
      {
       "output_type": "stream",
       "stream": "stdout",
       "text": [
        "\r",
        "Computed features for good pair 799 of 1216"
       ]
      },
      {
       "output_type": "stream",
       "stream": "stdout",
       "text": [
        "\r",
        "Computed features for good pair 800 of 1216"
       ]
      },
      {
       "output_type": "stream",
       "stream": "stdout",
       "text": [
        "\r",
        "Computed features for good pair 801 of 1216"
       ]
      },
      {
       "output_type": "stream",
       "stream": "stdout",
       "text": [
        "\r",
        "Computed features for good pair 802 of 1216"
       ]
      },
      {
       "output_type": "stream",
       "stream": "stdout",
       "text": [
        "\r",
        "Computed features for good pair 803 of 1216"
       ]
      },
      {
       "output_type": "stream",
       "stream": "stdout",
       "text": [
        "\r",
        "Computed features for good pair 804 of 1216"
       ]
      },
      {
       "output_type": "stream",
       "stream": "stdout",
       "text": [
        "\r",
        "Computed features for good pair 805 of 1216"
       ]
      },
      {
       "output_type": "stream",
       "stream": "stdout",
       "text": [
        "\r",
        "Computed features for good pair 806 of 1216"
       ]
      },
      {
       "output_type": "stream",
       "stream": "stdout",
       "text": [
        "\r",
        "Computed features for good pair 807 of 1216"
       ]
      },
      {
       "output_type": "stream",
       "stream": "stdout",
       "text": [
        "\r",
        "Computed features for good pair 808 of 1216"
       ]
      },
      {
       "output_type": "stream",
       "stream": "stdout",
       "text": [
        "\r",
        "Computed features for good pair 809 of 1216"
       ]
      },
      {
       "output_type": "stream",
       "stream": "stdout",
       "text": [
        "\r",
        "Computed features for good pair 810 of 1216"
       ]
      },
      {
       "output_type": "stream",
       "stream": "stdout",
       "text": [
        "\r",
        "Computed features for good pair 811 of 1216"
       ]
      },
      {
       "output_type": "stream",
       "stream": "stdout",
       "text": [
        "\r",
        "Computed features for good pair 812 of 1216"
       ]
      },
      {
       "output_type": "stream",
       "stream": "stdout",
       "text": [
        "\r",
        "Computed features for good pair 813 of 1216"
       ]
      },
      {
       "output_type": "stream",
       "stream": "stdout",
       "text": [
        "\r",
        "Computed features for good pair 814 of 1216"
       ]
      },
      {
       "output_type": "stream",
       "stream": "stdout",
       "text": [
        "\r",
        "Computed features for good pair 815 of 1216"
       ]
      },
      {
       "output_type": "stream",
       "stream": "stdout",
       "text": [
        "\r",
        "Computed features for good pair 816 of 1216"
       ]
      },
      {
       "output_type": "stream",
       "stream": "stdout",
       "text": [
        "\r",
        "Computed features for good pair 817 of 1216"
       ]
      },
      {
       "output_type": "stream",
       "stream": "stdout",
       "text": [
        "\r",
        "Computed features for good pair 818 of 1216"
       ]
      },
      {
       "output_type": "stream",
       "stream": "stdout",
       "text": [
        "\r",
        "Computed features for good pair 819 of 1216"
       ]
      },
      {
       "output_type": "stream",
       "stream": "stdout",
       "text": [
        "\r",
        "Computed features for good pair 820 of 1216"
       ]
      },
      {
       "output_type": "stream",
       "stream": "stdout",
       "text": [
        "\r",
        "Computed features for good pair 821 of 1216"
       ]
      },
      {
       "output_type": "stream",
       "stream": "stdout",
       "text": [
        "\r",
        "Computed features for good pair 822 of 1216"
       ]
      },
      {
       "output_type": "stream",
       "stream": "stdout",
       "text": [
        "\r",
        "Computed features for good pair 823 of 1216"
       ]
      },
      {
       "output_type": "stream",
       "stream": "stdout",
       "text": [
        "\r",
        "Computed features for good pair 824 of 1216"
       ]
      },
      {
       "output_type": "stream",
       "stream": "stdout",
       "text": [
        "\r",
        "Computed features for good pair 825 of 1216"
       ]
      },
      {
       "output_type": "stream",
       "stream": "stdout",
       "text": [
        "\r",
        "Computed features for good pair 826 of 1216"
       ]
      },
      {
       "output_type": "stream",
       "stream": "stdout",
       "text": [
        "\r",
        "Computed features for good pair 827 of 1216"
       ]
      },
      {
       "output_type": "stream",
       "stream": "stdout",
       "text": [
        "\r",
        "Computed features for good pair 828 of 1216"
       ]
      },
      {
       "output_type": "stream",
       "stream": "stdout",
       "text": [
        "\r",
        "Computed features for good pair 829 of 1216"
       ]
      },
      {
       "output_type": "stream",
       "stream": "stdout",
       "text": [
        "\r",
        "Computed features for good pair 830 of 1216"
       ]
      },
      {
       "output_type": "stream",
       "stream": "stdout",
       "text": [
        "\r",
        "Computed features for good pair 831 of 1216"
       ]
      },
      {
       "output_type": "stream",
       "stream": "stdout",
       "text": [
        "\r",
        "Computed features for good pair 832 of 1216"
       ]
      },
      {
       "output_type": "stream",
       "stream": "stdout",
       "text": [
        "\r",
        "Computed features for good pair 833 of 1216"
       ]
      },
      {
       "output_type": "stream",
       "stream": "stdout",
       "text": [
        "\r",
        "Computed features for good pair 834 of 1216"
       ]
      },
      {
       "output_type": "stream",
       "stream": "stdout",
       "text": [
        "\r",
        "Computed features for good pair 835 of 1216"
       ]
      },
      {
       "output_type": "stream",
       "stream": "stdout",
       "text": [
        "\r",
        "Computed features for good pair 836 of 1216"
       ]
      },
      {
       "output_type": "stream",
       "stream": "stdout",
       "text": [
        "\r",
        "Computed features for good pair 837 of 1216"
       ]
      },
      {
       "output_type": "stream",
       "stream": "stdout",
       "text": [
        "\r",
        "Computed features for good pair 838 of 1216"
       ]
      },
      {
       "output_type": "stream",
       "stream": "stdout",
       "text": [
        "\r",
        "Computed features for good pair 839 of 1216"
       ]
      },
      {
       "output_type": "stream",
       "stream": "stdout",
       "text": [
        "\r",
        "Computed features for good pair 840 of 1216"
       ]
      },
      {
       "output_type": "stream",
       "stream": "stdout",
       "text": [
        "\r",
        "Computed features for good pair 841 of 1216"
       ]
      },
      {
       "output_type": "stream",
       "stream": "stdout",
       "text": [
        "\r",
        "Computed features for good pair 842 of 1216"
       ]
      },
      {
       "output_type": "stream",
       "stream": "stdout",
       "text": [
        "\r",
        "Computed features for good pair 843 of 1216"
       ]
      },
      {
       "output_type": "stream",
       "stream": "stdout",
       "text": [
        "\r",
        "Computed features for good pair 844 of 1216"
       ]
      },
      {
       "output_type": "stream",
       "stream": "stdout",
       "text": [
        "\r",
        "Computed features for good pair 845 of 1216"
       ]
      },
      {
       "output_type": "stream",
       "stream": "stdout",
       "text": [
        "\r",
        "Computed features for good pair 846 of 1216"
       ]
      },
      {
       "output_type": "stream",
       "stream": "stdout",
       "text": [
        "\r",
        "Computed features for good pair 847 of 1216"
       ]
      },
      {
       "output_type": "stream",
       "stream": "stdout",
       "text": [
        "\r",
        "Computed features for good pair 848 of 1216"
       ]
      },
      {
       "output_type": "stream",
       "stream": "stdout",
       "text": [
        "\r",
        "Computed features for good pair 849 of 1216"
       ]
      },
      {
       "output_type": "stream",
       "stream": "stdout",
       "text": [
        "\r",
        "Computed features for good pair 850 of 1216"
       ]
      },
      {
       "output_type": "stream",
       "stream": "stdout",
       "text": [
        "\r",
        "Computed features for good pair 851 of 1216"
       ]
      },
      {
       "output_type": "stream",
       "stream": "stdout",
       "text": [
        "\r",
        "Computed features for good pair 852 of 1216"
       ]
      },
      {
       "output_type": "stream",
       "stream": "stdout",
       "text": [
        "\r",
        "Computed features for good pair 853 of 1216"
       ]
      },
      {
       "output_type": "stream",
       "stream": "stdout",
       "text": [
        "\r",
        "Computed features for good pair 854 of 1216"
       ]
      },
      {
       "output_type": "stream",
       "stream": "stdout",
       "text": [
        "\r",
        "Computed features for good pair 855 of 1216"
       ]
      },
      {
       "output_type": "stream",
       "stream": "stdout",
       "text": [
        "\r",
        "Computed features for good pair 856 of 1216"
       ]
      },
      {
       "output_type": "stream",
       "stream": "stdout",
       "text": [
        "\r",
        "Computed features for good pair 857 of 1216"
       ]
      },
      {
       "output_type": "stream",
       "stream": "stdout",
       "text": [
        "\r",
        "Computed features for good pair 858 of 1216"
       ]
      },
      {
       "output_type": "stream",
       "stream": "stdout",
       "text": [
        "\r",
        "Computed features for good pair 859 of 1216"
       ]
      },
      {
       "output_type": "stream",
       "stream": "stdout",
       "text": [
        "\r",
        "Computed features for good pair 860 of 1216"
       ]
      },
      {
       "output_type": "stream",
       "stream": "stdout",
       "text": [
        "\r",
        "Computed features for good pair 861 of 1216"
       ]
      },
      {
       "output_type": "stream",
       "stream": "stdout",
       "text": [
        "\r",
        "Computed features for good pair 862 of 1216"
       ]
      },
      {
       "output_type": "stream",
       "stream": "stdout",
       "text": [
        "\r",
        "Computed features for good pair 863 of 1216"
       ]
      },
      {
       "output_type": "stream",
       "stream": "stdout",
       "text": [
        "\r",
        "Computed features for good pair 864 of 1216"
       ]
      },
      {
       "output_type": "stream",
       "stream": "stdout",
       "text": [
        "\r",
        "Computed features for good pair 865 of 1216"
       ]
      },
      {
       "output_type": "stream",
       "stream": "stdout",
       "text": [
        "\r",
        "Computed features for good pair 866 of 1216"
       ]
      },
      {
       "output_type": "stream",
       "stream": "stdout",
       "text": [
        "\r",
        "Computed features for good pair 867 of 1216"
       ]
      },
      {
       "output_type": "stream",
       "stream": "stdout",
       "text": [
        "\r",
        "Computed features for good pair 868 of 1216"
       ]
      },
      {
       "output_type": "stream",
       "stream": "stdout",
       "text": [
        "\r",
        "Computed features for good pair 869 of 1216"
       ]
      },
      {
       "output_type": "stream",
       "stream": "stdout",
       "text": [
        "\r",
        "Computed features for good pair 870 of 1216"
       ]
      },
      {
       "output_type": "stream",
       "stream": "stdout",
       "text": [
        "\r",
        "Computed features for good pair 871 of 1216"
       ]
      },
      {
       "output_type": "stream",
       "stream": "stdout",
       "text": [
        "\r",
        "Computed features for good pair 872 of 1216"
       ]
      },
      {
       "output_type": "stream",
       "stream": "stdout",
       "text": [
        "\r",
        "Computed features for good pair 873 of 1216"
       ]
      },
      {
       "output_type": "stream",
       "stream": "stdout",
       "text": [
        "\r",
        "Computed features for good pair 874 of 1216"
       ]
      },
      {
       "output_type": "stream",
       "stream": "stdout",
       "text": [
        "\r",
        "Computed features for good pair 875 of 1216"
       ]
      },
      {
       "output_type": "stream",
       "stream": "stdout",
       "text": [
        "\r",
        "Computed features for good pair 876 of 1216"
       ]
      },
      {
       "output_type": "stream",
       "stream": "stdout",
       "text": [
        "\r",
        "Computed features for good pair 877 of 1216"
       ]
      },
      {
       "output_type": "stream",
       "stream": "stdout",
       "text": [
        "\r",
        "Computed features for good pair 878 of 1216"
       ]
      },
      {
       "output_type": "stream",
       "stream": "stdout",
       "text": [
        "\r",
        "Computed features for good pair 879 of 1216"
       ]
      },
      {
       "output_type": "stream",
       "stream": "stdout",
       "text": [
        "\r",
        "Computed features for good pair 880 of 1216"
       ]
      },
      {
       "output_type": "stream",
       "stream": "stdout",
       "text": [
        "\r",
        "Computed features for good pair 881 of 1216"
       ]
      },
      {
       "output_type": "stream",
       "stream": "stdout",
       "text": [
        "\r",
        "Computed features for good pair 882 of 1216"
       ]
      },
      {
       "output_type": "stream",
       "stream": "stdout",
       "text": [
        "\r",
        "Computed features for good pair 883 of 1216"
       ]
      },
      {
       "output_type": "stream",
       "stream": "stdout",
       "text": [
        "\r",
        "Computed features for good pair 884 of 1216"
       ]
      },
      {
       "output_type": "stream",
       "stream": "stdout",
       "text": [
        "\r",
        "Computed features for good pair 885 of 1216"
       ]
      },
      {
       "output_type": "stream",
       "stream": "stdout",
       "text": [
        "\r",
        "Computed features for good pair 886 of 1216"
       ]
      },
      {
       "output_type": "stream",
       "stream": "stdout",
       "text": [
        "\r",
        "Computed features for good pair 887 of 1216"
       ]
      },
      {
       "output_type": "stream",
       "stream": "stdout",
       "text": [
        "\r",
        "Computed features for good pair 888 of 1216"
       ]
      },
      {
       "output_type": "stream",
       "stream": "stdout",
       "text": [
        "\r",
        "Computed features for good pair 889 of 1216"
       ]
      },
      {
       "output_type": "stream",
       "stream": "stdout",
       "text": [
        "\r",
        "Computed features for good pair 890 of 1216"
       ]
      },
      {
       "output_type": "stream",
       "stream": "stdout",
       "text": [
        "\r",
        "Computed features for good pair 891 of 1216"
       ]
      },
      {
       "output_type": "stream",
       "stream": "stdout",
       "text": [
        "\r",
        "Computed features for good pair 892 of 1216"
       ]
      },
      {
       "output_type": "stream",
       "stream": "stdout",
       "text": [
        "\r",
        "Computed features for good pair 893 of 1216"
       ]
      },
      {
       "output_type": "stream",
       "stream": "stdout",
       "text": [
        "\r",
        "Computed features for good pair 894 of 1216"
       ]
      },
      {
       "output_type": "stream",
       "stream": "stdout",
       "text": [
        "\r",
        "Computed features for good pair 895 of 1216"
       ]
      },
      {
       "output_type": "stream",
       "stream": "stdout",
       "text": [
        "\r",
        "Computed features for good pair 896 of 1216"
       ]
      },
      {
       "output_type": "stream",
       "stream": "stdout",
       "text": [
        "\r",
        "Computed features for good pair 897 of 1216"
       ]
      },
      {
       "output_type": "stream",
       "stream": "stdout",
       "text": [
        "\r",
        "Computed features for good pair 898 of 1216"
       ]
      },
      {
       "output_type": "stream",
       "stream": "stdout",
       "text": [
        "\r",
        "Computed features for good pair 899 of 1216"
       ]
      },
      {
       "output_type": "stream",
       "stream": "stdout",
       "text": [
        "\r",
        "Computed features for good pair 900 of 1216"
       ]
      },
      {
       "output_type": "stream",
       "stream": "stdout",
       "text": [
        "\r",
        "Computed features for good pair 901 of 1216"
       ]
      },
      {
       "output_type": "stream",
       "stream": "stdout",
       "text": [
        "\r",
        "Computed features for good pair 902 of 1216"
       ]
      },
      {
       "output_type": "stream",
       "stream": "stdout",
       "text": [
        "\r",
        "Computed features for good pair 903 of 1216"
       ]
      },
      {
       "output_type": "stream",
       "stream": "stdout",
       "text": [
        "\r",
        "Computed features for good pair 904 of 1216"
       ]
      },
      {
       "output_type": "stream",
       "stream": "stdout",
       "text": [
        "\r",
        "Computed features for good pair 905 of 1216"
       ]
      },
      {
       "output_type": "stream",
       "stream": "stdout",
       "text": [
        "\r",
        "Computed features for good pair 906 of 1216"
       ]
      },
      {
       "output_type": "stream",
       "stream": "stdout",
       "text": [
        "\r",
        "Computed features for good pair 907 of 1216"
       ]
      },
      {
       "output_type": "stream",
       "stream": "stdout",
       "text": [
        "\r",
        "Computed features for good pair 908 of 1216"
       ]
      },
      {
       "output_type": "stream",
       "stream": "stdout",
       "text": [
        "\r",
        "Computed features for good pair 909 of 1216"
       ]
      },
      {
       "output_type": "stream",
       "stream": "stdout",
       "text": [
        "\r",
        "Computed features for good pair 910 of 1216"
       ]
      },
      {
       "output_type": "stream",
       "stream": "stdout",
       "text": [
        "\r",
        "Computed features for good pair 911 of 1216"
       ]
      },
      {
       "output_type": "stream",
       "stream": "stdout",
       "text": [
        "\r",
        "Computed features for good pair 912 of 1216"
       ]
      },
      {
       "output_type": "stream",
       "stream": "stdout",
       "text": [
        "\r",
        "Computed features for good pair 913 of 1216"
       ]
      },
      {
       "output_type": "stream",
       "stream": "stdout",
       "text": [
        "\r",
        "Computed features for good pair 914 of 1216"
       ]
      },
      {
       "output_type": "stream",
       "stream": "stdout",
       "text": [
        "\r",
        "Computed features for good pair 915 of 1216"
       ]
      },
      {
       "output_type": "stream",
       "stream": "stdout",
       "text": [
        "\r",
        "Computed features for good pair 916 of 1216"
       ]
      },
      {
       "output_type": "stream",
       "stream": "stdout",
       "text": [
        "\r",
        "Computed features for good pair 917 of 1216"
       ]
      },
      {
       "output_type": "stream",
       "stream": "stdout",
       "text": [
        "\r",
        "Computed features for good pair 918 of 1216"
       ]
      },
      {
       "output_type": "stream",
       "stream": "stdout",
       "text": [
        "\r",
        "Computed features for good pair 919 of 1216"
       ]
      },
      {
       "output_type": "stream",
       "stream": "stdout",
       "text": [
        "\r",
        "Computed features for good pair 920 of 1216"
       ]
      },
      {
       "output_type": "stream",
       "stream": "stdout",
       "text": [
        "\r",
        "Computed features for good pair 921 of 1216"
       ]
      },
      {
       "output_type": "stream",
       "stream": "stdout",
       "text": [
        "\r",
        "Computed features for good pair 922 of 1216"
       ]
      },
      {
       "output_type": "stream",
       "stream": "stdout",
       "text": [
        "\r",
        "Computed features for good pair 923 of 1216"
       ]
      },
      {
       "output_type": "stream",
       "stream": "stdout",
       "text": [
        "\r",
        "Computed features for good pair 924 of 1216"
       ]
      },
      {
       "output_type": "stream",
       "stream": "stdout",
       "text": [
        "\r",
        "Computed features for good pair 925 of 1216"
       ]
      },
      {
       "output_type": "stream",
       "stream": "stdout",
       "text": [
        "\r",
        "Computed features for good pair 926 of 1216"
       ]
      },
      {
       "output_type": "stream",
       "stream": "stdout",
       "text": [
        "\r",
        "Computed features for good pair 927 of 1216"
       ]
      },
      {
       "output_type": "stream",
       "stream": "stdout",
       "text": [
        "\r",
        "Computed features for good pair 928 of 1216"
       ]
      },
      {
       "output_type": "stream",
       "stream": "stdout",
       "text": [
        "\r",
        "Computed features for good pair 929 of 1216"
       ]
      },
      {
       "output_type": "stream",
       "stream": "stdout",
       "text": [
        "\r",
        "Computed features for good pair 930 of 1216"
       ]
      },
      {
       "output_type": "stream",
       "stream": "stdout",
       "text": [
        "\r",
        "Computed features for good pair 931 of 1216"
       ]
      },
      {
       "output_type": "stream",
       "stream": "stdout",
       "text": [
        "\r",
        "Computed features for good pair 932 of 1216"
       ]
      },
      {
       "output_type": "stream",
       "stream": "stdout",
       "text": [
        "\r",
        "Computed features for good pair 933 of 1216"
       ]
      },
      {
       "output_type": "stream",
       "stream": "stdout",
       "text": [
        "\r",
        "Computed features for good pair 934 of 1216"
       ]
      },
      {
       "output_type": "stream",
       "stream": "stdout",
       "text": [
        "\r",
        "Computed features for good pair 935 of 1216"
       ]
      },
      {
       "output_type": "stream",
       "stream": "stdout",
       "text": [
        "\r",
        "Computed features for good pair 936 of 1216"
       ]
      },
      {
       "output_type": "stream",
       "stream": "stdout",
       "text": [
        "\r",
        "Computed features for good pair 937 of 1216"
       ]
      },
      {
       "output_type": "stream",
       "stream": "stdout",
       "text": [
        "\r",
        "Computed features for good pair 938 of 1216"
       ]
      },
      {
       "output_type": "stream",
       "stream": "stdout",
       "text": [
        "\r",
        "Computed features for good pair 939 of 1216"
       ]
      },
      {
       "output_type": "stream",
       "stream": "stdout",
       "text": [
        "\r",
        "Computed features for good pair 940 of 1216"
       ]
      },
      {
       "output_type": "stream",
       "stream": "stdout",
       "text": [
        "\r",
        "Computed features for good pair 941 of 1216"
       ]
      },
      {
       "output_type": "stream",
       "stream": "stdout",
       "text": [
        "\r",
        "Computed features for good pair 942 of 1216"
       ]
      },
      {
       "output_type": "stream",
       "stream": "stdout",
       "text": [
        "\r",
        "Computed features for good pair 943 of 1216"
       ]
      },
      {
       "output_type": "stream",
       "stream": "stdout",
       "text": [
        "\r",
        "Computed features for good pair 944 of 1216"
       ]
      },
      {
       "output_type": "stream",
       "stream": "stdout",
       "text": [
        "\r",
        "Computed features for good pair 945 of 1216"
       ]
      },
      {
       "output_type": "stream",
       "stream": "stdout",
       "text": [
        "\r",
        "Computed features for good pair 946 of 1216"
       ]
      },
      {
       "output_type": "stream",
       "stream": "stdout",
       "text": [
        "\r",
        "Computed features for good pair 947 of 1216"
       ]
      },
      {
       "output_type": "stream",
       "stream": "stdout",
       "text": [
        "\r",
        "Computed features for good pair 948 of 1216"
       ]
      },
      {
       "output_type": "stream",
       "stream": "stdout",
       "text": [
        "\r",
        "Computed features for good pair 949 of 1216"
       ]
      },
      {
       "output_type": "stream",
       "stream": "stdout",
       "text": [
        "\r",
        "Computed features for good pair 950 of 1216"
       ]
      },
      {
       "output_type": "stream",
       "stream": "stdout",
       "text": [
        "\r",
        "Computed features for good pair 951 of 1216"
       ]
      },
      {
       "output_type": "stream",
       "stream": "stdout",
       "text": [
        "\r",
        "Computed features for good pair 952 of 1216"
       ]
      },
      {
       "output_type": "stream",
       "stream": "stdout",
       "text": [
        "\r",
        "Computed features for good pair 953 of 1216"
       ]
      },
      {
       "output_type": "stream",
       "stream": "stdout",
       "text": [
        "\r",
        "Computed features for good pair 954 of 1216"
       ]
      },
      {
       "output_type": "stream",
       "stream": "stdout",
       "text": [
        "\r",
        "Computed features for good pair 955 of 1216"
       ]
      },
      {
       "output_type": "stream",
       "stream": "stdout",
       "text": [
        "\r",
        "Computed features for good pair 956 of 1216"
       ]
      },
      {
       "output_type": "stream",
       "stream": "stdout",
       "text": [
        "\r",
        "Computed features for good pair 957 of 1216"
       ]
      },
      {
       "output_type": "stream",
       "stream": "stdout",
       "text": [
        "\r",
        "Computed features for good pair 958 of 1216"
       ]
      },
      {
       "output_type": "stream",
       "stream": "stdout",
       "text": [
        "\r",
        "Computed features for good pair 959 of 1216"
       ]
      },
      {
       "output_type": "stream",
       "stream": "stdout",
       "text": [
        "\r",
        "Computed features for good pair 960 of 1216"
       ]
      },
      {
       "output_type": "stream",
       "stream": "stdout",
       "text": [
        "\r",
        "Computed features for good pair 961 of 1216"
       ]
      },
      {
       "output_type": "stream",
       "stream": "stdout",
       "text": [
        "\r",
        "Computed features for good pair 962 of 1216"
       ]
      },
      {
       "output_type": "stream",
       "stream": "stdout",
       "text": [
        "\r",
        "Computed features for good pair 963 of 1216"
       ]
      },
      {
       "output_type": "stream",
       "stream": "stdout",
       "text": [
        "\r",
        "Computed features for good pair 964 of 1216"
       ]
      },
      {
       "output_type": "stream",
       "stream": "stdout",
       "text": [
        "\r",
        "Computed features for good pair 965 of 1216"
       ]
      },
      {
       "output_type": "stream",
       "stream": "stdout",
       "text": [
        "\r",
        "Computed features for good pair 966 of 1216"
       ]
      },
      {
       "output_type": "stream",
       "stream": "stdout",
       "text": [
        "\r",
        "Computed features for good pair 967 of 1216"
       ]
      },
      {
       "output_type": "stream",
       "stream": "stdout",
       "text": [
        "\r",
        "Computed features for good pair 968 of 1216"
       ]
      },
      {
       "output_type": "stream",
       "stream": "stdout",
       "text": [
        "\r",
        "Computed features for good pair 969 of 1216"
       ]
      },
      {
       "output_type": "stream",
       "stream": "stdout",
       "text": [
        "\r",
        "Computed features for good pair 970 of 1216"
       ]
      },
      {
       "output_type": "stream",
       "stream": "stdout",
       "text": [
        "\r",
        "Computed features for good pair 971 of 1216"
       ]
      },
      {
       "output_type": "stream",
       "stream": "stdout",
       "text": [
        "\r",
        "Computed features for good pair 972 of 1216"
       ]
      },
      {
       "output_type": "stream",
       "stream": "stdout",
       "text": [
        "\r",
        "Computed features for good pair 973 of 1216"
       ]
      },
      {
       "output_type": "stream",
       "stream": "stdout",
       "text": [
        "\r",
        "Computed features for good pair 974 of 1216"
       ]
      },
      {
       "output_type": "stream",
       "stream": "stdout",
       "text": [
        "\r",
        "Computed features for good pair 975 of 1216"
       ]
      },
      {
       "output_type": "stream",
       "stream": "stdout",
       "text": [
        "\r",
        "Computed features for good pair 976 of 1216"
       ]
      },
      {
       "output_type": "stream",
       "stream": "stdout",
       "text": [
        "\r",
        "Computed features for good pair 977 of 1216"
       ]
      },
      {
       "output_type": "stream",
       "stream": "stdout",
       "text": [
        "\r",
        "Computed features for good pair 978 of 1216"
       ]
      },
      {
       "output_type": "stream",
       "stream": "stdout",
       "text": [
        "\r",
        "Computed features for good pair 979 of 1216"
       ]
      },
      {
       "output_type": "stream",
       "stream": "stdout",
       "text": [
        "\r",
        "Computed features for good pair 980 of 1216"
       ]
      },
      {
       "output_type": "stream",
       "stream": "stdout",
       "text": [
        "\r",
        "Computed features for good pair 981 of 1216"
       ]
      },
      {
       "output_type": "stream",
       "stream": "stdout",
       "text": [
        "\r",
        "Computed features for good pair 982 of 1216"
       ]
      },
      {
       "output_type": "stream",
       "stream": "stdout",
       "text": [
        "\r",
        "Computed features for good pair 983 of 1216"
       ]
      },
      {
       "output_type": "stream",
       "stream": "stdout",
       "text": [
        "\r",
        "Computed features for good pair 984 of 1216"
       ]
      },
      {
       "output_type": "stream",
       "stream": "stdout",
       "text": [
        "\r",
        "Computed features for good pair 985 of 1216"
       ]
      },
      {
       "output_type": "stream",
       "stream": "stdout",
       "text": [
        "\r",
        "Computed features for good pair 986 of 1216"
       ]
      },
      {
       "output_type": "stream",
       "stream": "stdout",
       "text": [
        "\r",
        "Computed features for good pair 987 of 1216"
       ]
      },
      {
       "output_type": "stream",
       "stream": "stdout",
       "text": [
        "\r",
        "Computed features for good pair 988 of 1216"
       ]
      },
      {
       "output_type": "stream",
       "stream": "stdout",
       "text": [
        "\r",
        "Computed features for good pair 989 of 1216"
       ]
      },
      {
       "output_type": "stream",
       "stream": "stdout",
       "text": [
        "\r",
        "Computed features for good pair 990 of 1216"
       ]
      },
      {
       "output_type": "stream",
       "stream": "stdout",
       "text": [
        "\r",
        "Computed features for good pair 991 of 1216"
       ]
      },
      {
       "output_type": "stream",
       "stream": "stdout",
       "text": [
        "\r",
        "Computed features for good pair 992 of 1216"
       ]
      },
      {
       "output_type": "stream",
       "stream": "stdout",
       "text": [
        "\r",
        "Computed features for good pair 993 of 1216"
       ]
      },
      {
       "output_type": "stream",
       "stream": "stdout",
       "text": [
        "\r",
        "Computed features for good pair 994 of 1216"
       ]
      },
      {
       "output_type": "stream",
       "stream": "stdout",
       "text": [
        "\r",
        "Computed features for good pair 995 of 1216"
       ]
      },
      {
       "output_type": "stream",
       "stream": "stdout",
       "text": [
        "\r",
        "Computed features for good pair 996 of 1216"
       ]
      },
      {
       "output_type": "stream",
       "stream": "stdout",
       "text": [
        "\r",
        "Computed features for good pair 997 of 1216"
       ]
      },
      {
       "output_type": "stream",
       "stream": "stdout",
       "text": [
        "\r",
        "Computed features for good pair 998 of 1216"
       ]
      },
      {
       "output_type": "stream",
       "stream": "stdout",
       "text": [
        "\r",
        "Computed features for good pair 999 of 1216"
       ]
      },
      {
       "output_type": "stream",
       "stream": "stdout",
       "text": [
        "\r",
        "Computed features for good pair 1000 of 1216"
       ]
      },
      {
       "output_type": "stream",
       "stream": "stdout",
       "text": [
        "\r",
        "Computed features for good pair 1001 of 1216"
       ]
      },
      {
       "output_type": "stream",
       "stream": "stdout",
       "text": [
        "\r",
        "Computed features for good pair 1002 of 1216"
       ]
      },
      {
       "output_type": "stream",
       "stream": "stdout",
       "text": [
        "\r",
        "Computed features for good pair 1003 of 1216"
       ]
      },
      {
       "output_type": "stream",
       "stream": "stdout",
       "text": [
        "\r",
        "Computed features for good pair 1004 of 1216"
       ]
      },
      {
       "output_type": "stream",
       "stream": "stdout",
       "text": [
        "\r",
        "Computed features for good pair 1005 of 1216"
       ]
      },
      {
       "output_type": "stream",
       "stream": "stdout",
       "text": [
        "\r",
        "Computed features for good pair 1006 of 1216"
       ]
      },
      {
       "output_type": "stream",
       "stream": "stdout",
       "text": [
        "\r",
        "Computed features for good pair 1007 of 1216"
       ]
      },
      {
       "output_type": "stream",
       "stream": "stdout",
       "text": [
        "\r",
        "Computed features for good pair 1008 of 1216"
       ]
      },
      {
       "output_type": "stream",
       "stream": "stdout",
       "text": [
        "\r",
        "Computed features for good pair 1009 of 1216"
       ]
      },
      {
       "output_type": "stream",
       "stream": "stdout",
       "text": [
        "\r",
        "Computed features for good pair 1010 of 1216"
       ]
      },
      {
       "output_type": "stream",
       "stream": "stdout",
       "text": [
        "\r",
        "Computed features for good pair 1011 of 1216"
       ]
      },
      {
       "output_type": "stream",
       "stream": "stdout",
       "text": [
        "\r",
        "Computed features for good pair 1012 of 1216"
       ]
      },
      {
       "output_type": "stream",
       "stream": "stdout",
       "text": [
        "\r",
        "Computed features for good pair 1013 of 1216"
       ]
      },
      {
       "output_type": "stream",
       "stream": "stdout",
       "text": [
        "\r",
        "Computed features for good pair 1014 of 1216"
       ]
      },
      {
       "output_type": "stream",
       "stream": "stdout",
       "text": [
        "\r",
        "Computed features for good pair 1015 of 1216"
       ]
      },
      {
       "output_type": "stream",
       "stream": "stdout",
       "text": [
        "\r",
        "Computed features for good pair 1016 of 1216"
       ]
      },
      {
       "output_type": "stream",
       "stream": "stdout",
       "text": [
        "\r",
        "Computed features for good pair 1017 of 1216"
       ]
      },
      {
       "output_type": "stream",
       "stream": "stdout",
       "text": [
        "\r",
        "Computed features for good pair 1018 of 1216"
       ]
      },
      {
       "output_type": "stream",
       "stream": "stdout",
       "text": [
        "\r",
        "Computed features for good pair 1019 of 1216"
       ]
      },
      {
       "output_type": "stream",
       "stream": "stdout",
       "text": [
        "\r",
        "Computed features for good pair 1020 of 1216"
       ]
      },
      {
       "output_type": "stream",
       "stream": "stdout",
       "text": [
        "\r",
        "Computed features for good pair 1021 of 1216"
       ]
      },
      {
       "output_type": "stream",
       "stream": "stdout",
       "text": [
        "\r",
        "Computed features for good pair 1022 of 1216"
       ]
      },
      {
       "output_type": "stream",
       "stream": "stdout",
       "text": [
        "\r",
        "Computed features for good pair 1023 of 1216"
       ]
      },
      {
       "output_type": "stream",
       "stream": "stdout",
       "text": [
        "\r",
        "Computed features for good pair 1024 of 1216"
       ]
      },
      {
       "output_type": "stream",
       "stream": "stdout",
       "text": [
        "\r",
        "Computed features for good pair 1025 of 1216"
       ]
      },
      {
       "output_type": "stream",
       "stream": "stdout",
       "text": [
        "\r",
        "Computed features for good pair 1026 of 1216"
       ]
      },
      {
       "output_type": "stream",
       "stream": "stdout",
       "text": [
        "\r",
        "Computed features for good pair 1027 of 1216"
       ]
      },
      {
       "output_type": "stream",
       "stream": "stdout",
       "text": [
        "\r",
        "Computed features for good pair 1028 of 1216"
       ]
      },
      {
       "output_type": "stream",
       "stream": "stdout",
       "text": [
        "\r",
        "Computed features for good pair 1029 of 1216"
       ]
      },
      {
       "output_type": "stream",
       "stream": "stdout",
       "text": [
        "\r",
        "Computed features for good pair 1030 of 1216"
       ]
      },
      {
       "output_type": "stream",
       "stream": "stdout",
       "text": [
        "\r",
        "Computed features for good pair 1031 of 1216"
       ]
      },
      {
       "output_type": "stream",
       "stream": "stdout",
       "text": [
        "\r",
        "Computed features for good pair 1032 of 1216"
       ]
      },
      {
       "output_type": "stream",
       "stream": "stdout",
       "text": [
        "\r",
        "Computed features for good pair 1033 of 1216"
       ]
      },
      {
       "output_type": "stream",
       "stream": "stdout",
       "text": [
        "\r",
        "Computed features for good pair 1034 of 1216"
       ]
      },
      {
       "output_type": "stream",
       "stream": "stdout",
       "text": [
        "\r",
        "Computed features for good pair 1035 of 1216"
       ]
      },
      {
       "output_type": "stream",
       "stream": "stdout",
       "text": [
        "\r",
        "Computed features for good pair 1036 of 1216"
       ]
      },
      {
       "output_type": "stream",
       "stream": "stdout",
       "text": [
        "\r",
        "Computed features for good pair 1037 of 1216"
       ]
      },
      {
       "output_type": "stream",
       "stream": "stdout",
       "text": [
        "\r",
        "Computed features for good pair 1038 of 1216"
       ]
      },
      {
       "output_type": "stream",
       "stream": "stdout",
       "text": [
        "\r",
        "Computed features for good pair 1039 of 1216"
       ]
      },
      {
       "output_type": "stream",
       "stream": "stdout",
       "text": [
        "\r",
        "Computed features for good pair 1040 of 1216"
       ]
      },
      {
       "output_type": "stream",
       "stream": "stdout",
       "text": [
        "\r",
        "Computed features for good pair 1041 of 1216"
       ]
      },
      {
       "output_type": "stream",
       "stream": "stdout",
       "text": [
        "\r",
        "Computed features for good pair 1042 of 1216"
       ]
      },
      {
       "output_type": "stream",
       "stream": "stdout",
       "text": [
        "\r",
        "Computed features for good pair 1043 of 1216"
       ]
      },
      {
       "output_type": "stream",
       "stream": "stdout",
       "text": [
        "\r",
        "Computed features for good pair 1044 of 1216"
       ]
      },
      {
       "output_type": "stream",
       "stream": "stdout",
       "text": [
        "\r",
        "Computed features for good pair 1045 of 1216"
       ]
      },
      {
       "output_type": "stream",
       "stream": "stdout",
       "text": [
        "\r",
        "Computed features for good pair 1046 of 1216"
       ]
      },
      {
       "output_type": "stream",
       "stream": "stdout",
       "text": [
        "\r",
        "Computed features for good pair 1047 of 1216"
       ]
      },
      {
       "output_type": "stream",
       "stream": "stdout",
       "text": [
        "\r",
        "Computed features for good pair 1048 of 1216"
       ]
      },
      {
       "output_type": "stream",
       "stream": "stdout",
       "text": [
        "\r",
        "Computed features for good pair 1049 of 1216"
       ]
      },
      {
       "output_type": "stream",
       "stream": "stdout",
       "text": [
        "\r",
        "Computed features for good pair 1050 of 1216"
       ]
      },
      {
       "output_type": "stream",
       "stream": "stdout",
       "text": [
        "\r",
        "Computed features for good pair 1051 of 1216"
       ]
      },
      {
       "output_type": "stream",
       "stream": "stdout",
       "text": [
        "\r",
        "Computed features for good pair 1052 of 1216"
       ]
      },
      {
       "output_type": "stream",
       "stream": "stdout",
       "text": [
        "\r",
        "Computed features for good pair 1053 of 1216"
       ]
      },
      {
       "output_type": "stream",
       "stream": "stdout",
       "text": [
        "\r",
        "Computed features for good pair 1054 of 1216"
       ]
      },
      {
       "output_type": "stream",
       "stream": "stdout",
       "text": [
        "\r",
        "Computed features for good pair 1055 of 1216"
       ]
      },
      {
       "output_type": "stream",
       "stream": "stdout",
       "text": [
        "\r",
        "Computed features for good pair 1056 of 1216"
       ]
      },
      {
       "output_type": "stream",
       "stream": "stdout",
       "text": [
        "\r",
        "Computed features for good pair 1057 of 1216"
       ]
      },
      {
       "output_type": "stream",
       "stream": "stdout",
       "text": [
        "\r",
        "Computed features for good pair 1058 of 1216"
       ]
      },
      {
       "output_type": "stream",
       "stream": "stdout",
       "text": [
        "\r",
        "Computed features for good pair 1059 of 1216"
       ]
      },
      {
       "output_type": "stream",
       "stream": "stdout",
       "text": [
        "\r",
        "Computed features for good pair 1060 of 1216"
       ]
      },
      {
       "output_type": "stream",
       "stream": "stdout",
       "text": [
        "\r",
        "Computed features for good pair 1061 of 1216"
       ]
      },
      {
       "output_type": "stream",
       "stream": "stdout",
       "text": [
        "\r",
        "Computed features for good pair 1062 of 1216"
       ]
      },
      {
       "output_type": "stream",
       "stream": "stdout",
       "text": [
        "\r",
        "Computed features for good pair 1063 of 1216"
       ]
      },
      {
       "output_type": "stream",
       "stream": "stdout",
       "text": [
        "\r",
        "Computed features for good pair 1064 of 1216"
       ]
      },
      {
       "output_type": "stream",
       "stream": "stdout",
       "text": [
        "\r",
        "Computed features for good pair 1065 of 1216"
       ]
      },
      {
       "output_type": "stream",
       "stream": "stdout",
       "text": [
        "\r",
        "Computed features for good pair 1066 of 1216"
       ]
      },
      {
       "output_type": "stream",
       "stream": "stdout",
       "text": [
        "\r",
        "Computed features for good pair 1067 of 1216"
       ]
      },
      {
       "output_type": "stream",
       "stream": "stdout",
       "text": [
        "\r",
        "Computed features for good pair 1068 of 1216"
       ]
      },
      {
       "output_type": "stream",
       "stream": "stdout",
       "text": [
        "\r",
        "Computed features for good pair 1069 of 1216"
       ]
      },
      {
       "output_type": "stream",
       "stream": "stdout",
       "text": [
        "\r",
        "Computed features for good pair 1070 of 1216"
       ]
      },
      {
       "output_type": "stream",
       "stream": "stdout",
       "text": [
        "\r",
        "Computed features for good pair 1071 of 1216"
       ]
      },
      {
       "output_type": "stream",
       "stream": "stdout",
       "text": [
        "\r",
        "Computed features for good pair 1072 of 1216"
       ]
      },
      {
       "output_type": "stream",
       "stream": "stdout",
       "text": [
        "\r",
        "Computed features for good pair 1073 of 1216"
       ]
      },
      {
       "output_type": "stream",
       "stream": "stdout",
       "text": [
        "\r",
        "Computed features for good pair 1074 of 1216"
       ]
      },
      {
       "output_type": "stream",
       "stream": "stdout",
       "text": [
        "\r",
        "Computed features for good pair 1075 of 1216"
       ]
      },
      {
       "output_type": "stream",
       "stream": "stdout",
       "text": [
        "\r",
        "Computed features for good pair 1076 of 1216"
       ]
      },
      {
       "output_type": "stream",
       "stream": "stdout",
       "text": [
        "\r",
        "Computed features for good pair 1077 of 1216"
       ]
      },
      {
       "output_type": "stream",
       "stream": "stdout",
       "text": [
        "\r",
        "Computed features for good pair 1078 of 1216"
       ]
      },
      {
       "output_type": "stream",
       "stream": "stdout",
       "text": [
        "\r",
        "Computed features for good pair 1079 of 1216"
       ]
      },
      {
       "output_type": "stream",
       "stream": "stdout",
       "text": [
        "\r",
        "Computed features for good pair 1080 of 1216"
       ]
      },
      {
       "output_type": "stream",
       "stream": "stdout",
       "text": [
        "\r",
        "Computed features for good pair 1081 of 1216"
       ]
      },
      {
       "output_type": "stream",
       "stream": "stdout",
       "text": [
        "\r",
        "Computed features for good pair 1082 of 1216"
       ]
      },
      {
       "output_type": "stream",
       "stream": "stdout",
       "text": [
        "\r",
        "Computed features for good pair 1083 of 1216"
       ]
      },
      {
       "output_type": "stream",
       "stream": "stdout",
       "text": [
        "\r",
        "Computed features for good pair 1084 of 1216"
       ]
      },
      {
       "output_type": "stream",
       "stream": "stdout",
       "text": [
        "\r",
        "Computed features for good pair 1085 of 1216"
       ]
      },
      {
       "output_type": "stream",
       "stream": "stdout",
       "text": [
        "\r",
        "Computed features for good pair 1086 of 1216"
       ]
      },
      {
       "output_type": "stream",
       "stream": "stdout",
       "text": [
        "\r",
        "Computed features for good pair 1087 of 1216"
       ]
      },
      {
       "output_type": "stream",
       "stream": "stdout",
       "text": [
        "\r",
        "Computed features for good pair 1088 of 1216"
       ]
      },
      {
       "output_type": "stream",
       "stream": "stdout",
       "text": [
        "\r",
        "Computed features for good pair 1089 of 1216"
       ]
      },
      {
       "output_type": "stream",
       "stream": "stdout",
       "text": [
        "\r",
        "Computed features for good pair 1090 of 1216"
       ]
      },
      {
       "output_type": "stream",
       "stream": "stdout",
       "text": [
        "\r",
        "Computed features for good pair 1091 of 1216"
       ]
      },
      {
       "output_type": "stream",
       "stream": "stdout",
       "text": [
        "\r",
        "Computed features for good pair 1092 of 1216"
       ]
      },
      {
       "output_type": "stream",
       "stream": "stdout",
       "text": [
        "\r",
        "Computed features for good pair 1093 of 1216"
       ]
      },
      {
       "output_type": "stream",
       "stream": "stdout",
       "text": [
        "\r",
        "Computed features for good pair 1094 of 1216"
       ]
      },
      {
       "output_type": "stream",
       "stream": "stdout",
       "text": [
        "\r",
        "Computed features for good pair 1095 of 1216"
       ]
      },
      {
       "output_type": "stream",
       "stream": "stdout",
       "text": [
        "\r",
        "Computed features for good pair 1096 of 1216"
       ]
      },
      {
       "output_type": "stream",
       "stream": "stdout",
       "text": [
        "\r",
        "Computed features for good pair 1097 of 1216"
       ]
      },
      {
       "output_type": "stream",
       "stream": "stdout",
       "text": [
        "\r",
        "Computed features for good pair 1098 of 1216"
       ]
      },
      {
       "output_type": "stream",
       "stream": "stdout",
       "text": [
        "\r",
        "Computed features for good pair 1099 of 1216"
       ]
      },
      {
       "output_type": "stream",
       "stream": "stdout",
       "text": [
        "\r",
        "Computed features for good pair 1100 of 1216"
       ]
      },
      {
       "output_type": "stream",
       "stream": "stdout",
       "text": [
        "\r",
        "Computed features for good pair 1101 of 1216"
       ]
      },
      {
       "output_type": "stream",
       "stream": "stdout",
       "text": [
        "\r",
        "Computed features for good pair 1102 of 1216"
       ]
      },
      {
       "output_type": "stream",
       "stream": "stdout",
       "text": [
        "\r",
        "Computed features for good pair 1103 of 1216"
       ]
      },
      {
       "output_type": "stream",
       "stream": "stdout",
       "text": [
        "\r",
        "Computed features for good pair 1104 of 1216"
       ]
      },
      {
       "output_type": "stream",
       "stream": "stdout",
       "text": [
        "\r",
        "Computed features for good pair 1105 of 1216"
       ]
      },
      {
       "output_type": "stream",
       "stream": "stdout",
       "text": [
        "\r",
        "Computed features for good pair 1106 of 1216"
       ]
      },
      {
       "output_type": "stream",
       "stream": "stdout",
       "text": [
        "\r",
        "Computed features for good pair 1107 of 1216"
       ]
      },
      {
       "output_type": "stream",
       "stream": "stdout",
       "text": [
        "\r",
        "Computed features for good pair 1108 of 1216"
       ]
      },
      {
       "output_type": "stream",
       "stream": "stdout",
       "text": [
        "\r",
        "Computed features for good pair 1109 of 1216"
       ]
      },
      {
       "output_type": "stream",
       "stream": "stdout",
       "text": [
        "\r",
        "Computed features for good pair 1110 of 1216"
       ]
      },
      {
       "output_type": "stream",
       "stream": "stdout",
       "text": [
        "\r",
        "Computed features for good pair 1111 of 1216"
       ]
      },
      {
       "output_type": "stream",
       "stream": "stdout",
       "text": [
        "\r",
        "Computed features for good pair 1112 of 1216"
       ]
      },
      {
       "output_type": "stream",
       "stream": "stdout",
       "text": [
        "\r",
        "Computed features for good pair 1113 of 1216"
       ]
      },
      {
       "output_type": "stream",
       "stream": "stdout",
       "text": [
        "\r",
        "Computed features for good pair 1114 of 1216"
       ]
      },
      {
       "output_type": "stream",
       "stream": "stdout",
       "text": [
        "\r",
        "Computed features for good pair 1115 of 1216"
       ]
      },
      {
       "output_type": "stream",
       "stream": "stdout",
       "text": [
        "\r",
        "Computed features for good pair 1116 of 1216"
       ]
      },
      {
       "output_type": "stream",
       "stream": "stdout",
       "text": [
        "\r",
        "Computed features for good pair 1117 of 1216"
       ]
      },
      {
       "output_type": "stream",
       "stream": "stdout",
       "text": [
        "\r",
        "Computed features for good pair 1118 of 1216"
       ]
      },
      {
       "output_type": "stream",
       "stream": "stdout",
       "text": [
        "\r",
        "Computed features for good pair 1119 of 1216"
       ]
      },
      {
       "output_type": "stream",
       "stream": "stdout",
       "text": [
        "\r",
        "Computed features for good pair 1120 of 1216"
       ]
      },
      {
       "output_type": "stream",
       "stream": "stdout",
       "text": [
        "\r",
        "Computed features for good pair 1121 of 1216"
       ]
      },
      {
       "output_type": "stream",
       "stream": "stdout",
       "text": [
        "\r",
        "Computed features for good pair 1122 of 1216"
       ]
      },
      {
       "output_type": "stream",
       "stream": "stdout",
       "text": [
        "\r",
        "Computed features for good pair 1123 of 1216"
       ]
      },
      {
       "output_type": "stream",
       "stream": "stdout",
       "text": [
        "\r",
        "Computed features for good pair 1124 of 1216"
       ]
      },
      {
       "output_type": "stream",
       "stream": "stdout",
       "text": [
        "\r",
        "Computed features for good pair 1125 of 1216"
       ]
      },
      {
       "output_type": "stream",
       "stream": "stdout",
       "text": [
        "\r",
        "Computed features for good pair 1126 of 1216"
       ]
      },
      {
       "output_type": "stream",
       "stream": "stdout",
       "text": [
        "\r",
        "Computed features for good pair 1127 of 1216"
       ]
      },
      {
       "output_type": "stream",
       "stream": "stdout",
       "text": [
        "\r",
        "Computed features for good pair 1128 of 1216"
       ]
      },
      {
       "output_type": "stream",
       "stream": "stdout",
       "text": [
        "\r",
        "Computed features for good pair 1129 of 1216"
       ]
      },
      {
       "output_type": "stream",
       "stream": "stdout",
       "text": [
        "\r",
        "Computed features for good pair 1130 of 1216"
       ]
      },
      {
       "output_type": "stream",
       "stream": "stdout",
       "text": [
        "\r",
        "Computed features for good pair 1131 of 1216"
       ]
      },
      {
       "output_type": "stream",
       "stream": "stdout",
       "text": [
        "\r",
        "Computed features for good pair 1132 of 1216"
       ]
      },
      {
       "output_type": "stream",
       "stream": "stdout",
       "text": [
        "\r",
        "Computed features for good pair 1133 of 1216"
       ]
      },
      {
       "output_type": "stream",
       "stream": "stdout",
       "text": [
        "\r",
        "Computed features for good pair 1134 of 1216"
       ]
      },
      {
       "output_type": "stream",
       "stream": "stdout",
       "text": [
        "\r",
        "Computed features for good pair 1135 of 1216"
       ]
      },
      {
       "output_type": "stream",
       "stream": "stdout",
       "text": [
        "\r",
        "Computed features for good pair 1136 of 1216"
       ]
      },
      {
       "output_type": "stream",
       "stream": "stdout",
       "text": [
        "\r",
        "Computed features for good pair 1137 of 1216"
       ]
      },
      {
       "output_type": "stream",
       "stream": "stdout",
       "text": [
        "\r",
        "Computed features for good pair 1138 of 1216"
       ]
      },
      {
       "output_type": "stream",
       "stream": "stdout",
       "text": [
        "\r",
        "Computed features for good pair 1139 of 1216"
       ]
      },
      {
       "output_type": "stream",
       "stream": "stdout",
       "text": [
        "\r",
        "Computed features for good pair 1140 of 1216"
       ]
      },
      {
       "output_type": "stream",
       "stream": "stdout",
       "text": [
        "\r",
        "Computed features for good pair 1141 of 1216"
       ]
      },
      {
       "output_type": "stream",
       "stream": "stdout",
       "text": [
        "\r",
        "Computed features for good pair 1142 of 1216"
       ]
      },
      {
       "output_type": "stream",
       "stream": "stdout",
       "text": [
        "\r",
        "Computed features for good pair 1143 of 1216"
       ]
      },
      {
       "output_type": "stream",
       "stream": "stdout",
       "text": [
        "\r",
        "Computed features for good pair 1144 of 1216"
       ]
      },
      {
       "output_type": "stream",
       "stream": "stdout",
       "text": [
        "\r",
        "Computed features for good pair 1145 of 1216"
       ]
      },
      {
       "output_type": "stream",
       "stream": "stdout",
       "text": [
        "\r",
        "Computed features for good pair 1146 of 1216"
       ]
      },
      {
       "output_type": "stream",
       "stream": "stdout",
       "text": [
        "\r",
        "Computed features for good pair 1147 of 1216"
       ]
      },
      {
       "output_type": "stream",
       "stream": "stdout",
       "text": [
        "\r",
        "Computed features for good pair 1148 of 1216"
       ]
      },
      {
       "output_type": "stream",
       "stream": "stdout",
       "text": [
        "\r",
        "Computed features for good pair 1149 of 1216"
       ]
      },
      {
       "output_type": "stream",
       "stream": "stdout",
       "text": [
        "\r",
        "Computed features for good pair 1150 of 1216"
       ]
      },
      {
       "output_type": "stream",
       "stream": "stdout",
       "text": [
        "\r",
        "Computed features for good pair 1151 of 1216"
       ]
      },
      {
       "output_type": "stream",
       "stream": "stdout",
       "text": [
        "\r",
        "Computed features for good pair 1152 of 1216"
       ]
      },
      {
       "output_type": "stream",
       "stream": "stdout",
       "text": [
        "\r",
        "Computed features for good pair 1153 of 1216"
       ]
      },
      {
       "output_type": "stream",
       "stream": "stdout",
       "text": [
        "\r",
        "Computed features for good pair 1154 of 1216"
       ]
      },
      {
       "output_type": "stream",
       "stream": "stdout",
       "text": [
        "\r",
        "Computed features for good pair 1155 of 1216"
       ]
      },
      {
       "output_type": "stream",
       "stream": "stdout",
       "text": [
        "\r",
        "Computed features for good pair 1156 of 1216"
       ]
      },
      {
       "output_type": "stream",
       "stream": "stdout",
       "text": [
        "\r",
        "Computed features for good pair 1157 of 1216"
       ]
      },
      {
       "output_type": "stream",
       "stream": "stdout",
       "text": [
        "\r",
        "Computed features for good pair 1158 of 1216"
       ]
      },
      {
       "output_type": "stream",
       "stream": "stdout",
       "text": [
        "\r",
        "Computed features for good pair 1159 of 1216"
       ]
      },
      {
       "output_type": "stream",
       "stream": "stdout",
       "text": [
        "\r",
        "Computed features for good pair 1160 of 1216"
       ]
      },
      {
       "output_type": "stream",
       "stream": "stdout",
       "text": [
        "\r",
        "Computed features for good pair 1161 of 1216"
       ]
      },
      {
       "output_type": "stream",
       "stream": "stdout",
       "text": [
        "\r",
        "Computed features for good pair 1162 of 1216"
       ]
      },
      {
       "output_type": "stream",
       "stream": "stdout",
       "text": [
        "\r",
        "Computed features for good pair 1163 of 1216"
       ]
      },
      {
       "output_type": "stream",
       "stream": "stdout",
       "text": [
        "\r",
        "Computed features for good pair 1164 of 1216"
       ]
      },
      {
       "output_type": "stream",
       "stream": "stdout",
       "text": [
        "\r",
        "Computed features for good pair 1165 of 1216"
       ]
      },
      {
       "output_type": "stream",
       "stream": "stdout",
       "text": [
        "\r",
        "Computed features for good pair 1166 of 1216"
       ]
      },
      {
       "output_type": "stream",
       "stream": "stdout",
       "text": [
        "\r",
        "Computed features for good pair 1167 of 1216"
       ]
      },
      {
       "output_type": "stream",
       "stream": "stdout",
       "text": [
        "\r",
        "Computed features for good pair 1168 of 1216"
       ]
      },
      {
       "output_type": "stream",
       "stream": "stdout",
       "text": [
        "\r",
        "Computed features for good pair 1169 of 1216"
       ]
      },
      {
       "output_type": "stream",
       "stream": "stdout",
       "text": [
        "\r",
        "Computed features for good pair 1170 of 1216"
       ]
      },
      {
       "output_type": "stream",
       "stream": "stdout",
       "text": [
        "\r",
        "Computed features for good pair 1171 of 1216"
       ]
      },
      {
       "output_type": "stream",
       "stream": "stdout",
       "text": [
        "\r",
        "Computed features for good pair 1172 of 1216"
       ]
      },
      {
       "output_type": "stream",
       "stream": "stdout",
       "text": [
        "\r",
        "Computed features for good pair 1173 of 1216"
       ]
      },
      {
       "output_type": "stream",
       "stream": "stdout",
       "text": [
        "\r",
        "Computed features for good pair 1174 of 1216"
       ]
      },
      {
       "output_type": "stream",
       "stream": "stdout",
       "text": [
        "\r",
        "Computed features for good pair 1175 of 1216"
       ]
      },
      {
       "output_type": "stream",
       "stream": "stdout",
       "text": [
        "\r",
        "Computed features for good pair 1176 of 1216"
       ]
      },
      {
       "output_type": "stream",
       "stream": "stdout",
       "text": [
        "\r",
        "Computed features for good pair 1177 of 1216"
       ]
      },
      {
       "output_type": "stream",
       "stream": "stdout",
       "text": [
        "\r",
        "Computed features for good pair 1178 of 1216"
       ]
      },
      {
       "output_type": "stream",
       "stream": "stdout",
       "text": [
        "\r",
        "Computed features for good pair 1179 of 1216"
       ]
      },
      {
       "output_type": "stream",
       "stream": "stdout",
       "text": [
        "\r",
        "Computed features for good pair 1180 of 1216"
       ]
      },
      {
       "output_type": "stream",
       "stream": "stdout",
       "text": [
        "\r",
        "Computed features for good pair 1181 of 1216"
       ]
      },
      {
       "output_type": "stream",
       "stream": "stdout",
       "text": [
        "\r",
        "Computed features for good pair 1182 of 1216"
       ]
      },
      {
       "output_type": "stream",
       "stream": "stdout",
       "text": [
        "\r",
        "Computed features for good pair 1183 of 1216"
       ]
      },
      {
       "output_type": "stream",
       "stream": "stdout",
       "text": [
        "\r",
        "Computed features for good pair 1184 of 1216"
       ]
      },
      {
       "output_type": "stream",
       "stream": "stdout",
       "text": [
        "\r",
        "Computed features for good pair 1185 of 1216"
       ]
      },
      {
       "output_type": "stream",
       "stream": "stdout",
       "text": [
        "\r",
        "Computed features for good pair 1186 of 1216"
       ]
      },
      {
       "output_type": "stream",
       "stream": "stdout",
       "text": [
        "\r",
        "Computed features for good pair 1187 of 1216"
       ]
      },
      {
       "output_type": "stream",
       "stream": "stdout",
       "text": [
        "\r",
        "Computed features for good pair 1188 of 1216"
       ]
      },
      {
       "output_type": "stream",
       "stream": "stdout",
       "text": [
        "\r",
        "Computed features for good pair 1189 of 1216"
       ]
      },
      {
       "output_type": "stream",
       "stream": "stdout",
       "text": [
        "\r",
        "Computed features for good pair 1190 of 1216"
       ]
      },
      {
       "output_type": "stream",
       "stream": "stdout",
       "text": [
        "\r",
        "Computed features for good pair 1191 of 1216"
       ]
      },
      {
       "output_type": "stream",
       "stream": "stdout",
       "text": [
        "\r",
        "Computed features for good pair 1192 of 1216"
       ]
      },
      {
       "output_type": "stream",
       "stream": "stdout",
       "text": [
        "\r",
        "Computed features for good pair 1193 of 1216"
       ]
      },
      {
       "output_type": "stream",
       "stream": "stdout",
       "text": [
        "\r",
        "Computed features for good pair 1194 of 1216"
       ]
      },
      {
       "output_type": "stream",
       "stream": "stdout",
       "text": [
        "\r",
        "Computed features for good pair 1195 of 1216"
       ]
      },
      {
       "output_type": "stream",
       "stream": "stdout",
       "text": [
        "\r",
        "Computed features for good pair 1196 of 1216"
       ]
      },
      {
       "output_type": "stream",
       "stream": "stdout",
       "text": [
        "\r",
        "Computed features for good pair 1197 of 1216"
       ]
      },
      {
       "output_type": "stream",
       "stream": "stdout",
       "text": [
        "\r",
        "Computed features for good pair 1198 of 1216"
       ]
      },
      {
       "output_type": "stream",
       "stream": "stdout",
       "text": [
        "\r",
        "Computed features for good pair 1199 of 1216"
       ]
      },
      {
       "output_type": "stream",
       "stream": "stdout",
       "text": [
        "\r",
        "Computed features for good pair 1200 of 1216"
       ]
      },
      {
       "output_type": "stream",
       "stream": "stdout",
       "text": [
        "\r",
        "Computed features for good pair 1201 of 1216"
       ]
      },
      {
       "output_type": "stream",
       "stream": "stdout",
       "text": [
        "\r",
        "Computed features for good pair 1202 of 1216"
       ]
      },
      {
       "output_type": "stream",
       "stream": "stdout",
       "text": [
        "\r",
        "Computed features for good pair 1203 of 1216"
       ]
      },
      {
       "output_type": "stream",
       "stream": "stdout",
       "text": [
        "\r",
        "Computed features for good pair 1204 of 1216"
       ]
      },
      {
       "output_type": "stream",
       "stream": "stdout",
       "text": [
        "\r",
        "Computed features for good pair 1205 of 1216"
       ]
      },
      {
       "output_type": "stream",
       "stream": "stdout",
       "text": [
        "\r",
        "Computed features for good pair 1206 of 1216"
       ]
      },
      {
       "output_type": "stream",
       "stream": "stdout",
       "text": [
        "\r",
        "Computed features for good pair 1207 of 1216"
       ]
      },
      {
       "output_type": "stream",
       "stream": "stdout",
       "text": [
        "\r",
        "Computed features for good pair 1208 of 1216"
       ]
      },
      {
       "output_type": "stream",
       "stream": "stdout",
       "text": [
        "\r",
        "Computed features for good pair 1209 of 1216"
       ]
      },
      {
       "output_type": "stream",
       "stream": "stdout",
       "text": [
        "\r",
        "Computed features for good pair 1210 of 1216"
       ]
      },
      {
       "output_type": "stream",
       "stream": "stdout",
       "text": [
        "\r",
        "Computed features for good pair 1211 of 1216"
       ]
      },
      {
       "output_type": "stream",
       "stream": "stdout",
       "text": [
        "\r",
        "Computed features for good pair 1212 of 1216"
       ]
      },
      {
       "output_type": "stream",
       "stream": "stdout",
       "text": [
        "\r",
        "Computed features for good pair 1213 of 1216"
       ]
      },
      {
       "output_type": "stream",
       "stream": "stdout",
       "text": [
        "\r",
        "Computed features for good pair 1214 of 1216"
       ]
      },
      {
       "output_type": "stream",
       "stream": "stdout",
       "text": [
        "\r",
        "Computed features for good pair 1215 of 1216"
       ]
      },
      {
       "output_type": "stream",
       "stream": "stdout",
       "text": [
        "\r",
        "Computed features for good pair 1216 of 1216"
       ]
      },
      {
       "output_type": "stream",
       "stream": "stdout",
       "text": [
        "\n",
        "\r",
        "Computed features for bad pair 1 of 20"
       ]
      },
      {
       "output_type": "stream",
       "stream": "stdout",
       "text": [
        "\r",
        "Computed features for bad pair 2 of 20"
       ]
      },
      {
       "output_type": "stream",
       "stream": "stdout",
       "text": [
        "\r",
        "Computed features for bad pair 3 of 20"
       ]
      },
      {
       "output_type": "stream",
       "stream": "stdout",
       "text": [
        "\r",
        "Computed features for bad pair 4 of 20"
       ]
      },
      {
       "output_type": "stream",
       "stream": "stdout",
       "text": [
        "\r",
        "Computed features for bad pair 5 of 20"
       ]
      },
      {
       "output_type": "stream",
       "stream": "stdout",
       "text": [
        "\r",
        "Computed features for bad pair 6 of 20"
       ]
      },
      {
       "output_type": "stream",
       "stream": "stdout",
       "text": [
        "\r",
        "Computed features for bad pair 7 of 20"
       ]
      },
      {
       "output_type": "stream",
       "stream": "stdout",
       "text": [
        "\r",
        "Computed features for bad pair 8 of 20"
       ]
      },
      {
       "output_type": "stream",
       "stream": "stdout",
       "text": [
        "\r",
        "Computed features for bad pair 9 of 20"
       ]
      },
      {
       "output_type": "stream",
       "stream": "stdout",
       "text": [
        "\r",
        "Computed features for bad pair 10 of 20"
       ]
      },
      {
       "output_type": "stream",
       "stream": "stdout",
       "text": [
        "\r",
        "Computed features for bad pair 11 of 20"
       ]
      },
      {
       "output_type": "stream",
       "stream": "stdout",
       "text": [
        "\r",
        "Computed features for bad pair 12 of 20"
       ]
      },
      {
       "output_type": "stream",
       "stream": "stdout",
       "text": [
        "\r",
        "Computed features for bad pair 13 of 20"
       ]
      },
      {
       "output_type": "stream",
       "stream": "stdout",
       "text": [
        "\r",
        "Computed features for bad pair 14 of 20"
       ]
      },
      {
       "output_type": "stream",
       "stream": "stdout",
       "text": [
        "\r",
        "Computed features for bad pair 15 of 20"
       ]
      },
      {
       "output_type": "stream",
       "stream": "stdout",
       "text": [
        "\r",
        "Computed features for bad pair 16 of 20"
       ]
      },
      {
       "output_type": "stream",
       "stream": "stdout",
       "text": [
        "\r",
        "Computed features for bad pair 17 of 20"
       ]
      },
      {
       "output_type": "stream",
       "stream": "stdout",
       "text": [
        "\r",
        "Computed features for bad pair 18 of 20"
       ]
      },
      {
       "output_type": "stream",
       "stream": "stdout",
       "text": [
        "\r",
        "Computed features for bad pair 19 of 20"
       ]
      },
      {
       "output_type": "stream",
       "stream": "stdout",
       "text": [
        "\r",
        "Computed features for bad pair 20 of 20"
       ]
      },
      {
       "output_type": "stream",
       "stream": "stdout",
       "text": [
        "\n",
        "874.867181063\n",
        "(2, 1216)\n",
        "(2, 20)\n"
       ]
      }
     ],
     "prompt_number": 204
    },
    {
     "cell_type": "code",
     "collapsed": false,
     "input": [
      "import datetime\n",
      "print \"started at\",\n",
      "print datetime.datetime.now()\n",
      "goodExamplesMovement = []\n",
      "for j, pair in enumerate(goodPairsIdxs.T) :\n",
      "    \n",
      "    ## find \"how much left-movement there is\" between two frames (low numbers means more right movement)\n",
      "    frame1 = np.array(Image.open(framePaths[pair[0]]))\n",
      "    frame2 = np.array(Image.open(framePaths[pair[1]]))\n",
      "    imageSize = frame1.shape[0:2]\n",
      "    patchSize = np.array([64, 64])\n",
      "    spacing = 32.0 ## how far away a patch is from the previous one\n",
      "\n",
      "    movementSigma = 8.0\n",
      "    numSamples = 50\n",
      "    patchYs = np.arange(4.0*movementSigma, imageSize[0]-patchSize[0]-4.0*movementSigma, spacing)\n",
      "    patchYs = patchYs.reshape((1, len(patchYs)))\n",
      "    patchXs = np.arange(4.0*movementSigma, imageSize[1]-patchSize[1]-4.0*movementSigma, spacing)\n",
      "    patchXs = patchXs.reshape((1, len(patchXs)))\n",
      "    patchLocations = np.array(np.concatenate((patchYs.repeat(len(patchXs.T)),\n",
      "                                              patchXs.repeat(len(patchYs.T), axis=0).flatten())).reshape((2, len(patchXs.T)*len(patchYs.T))), int)\n",
      "\n",
      "#     print patchLocations.shape\n",
      "\n",
      "    # figure(); imshow(frame1)\n",
      "    scores = np.zeros(patchLocations.shape[-1])\n",
      "    for i, loc in enumerate(patchLocations.T) : ## [:, [0, 1282, 2967]]\n",
      "    #     print loc\n",
      "        ## changing the x-mean by - movementSigma as I want to go left\n",
      "        mean = np.array([loc[1]-2.0*movementSigma, loc[0]])\n",
      "        covariance = np.array([[movementSigma, 0.0], [0.0, movementSigma/10.0]])\n",
      "        ## samples contains (x, y) coords\n",
      "        samples = np.random.multivariate_normal(mean, covariance, numSamples)\n",
      "        weights = sp.stats.multivariate_normal.pdf(samples, mean, covariance)\n",
      "        weights /= np.sum(weights)\n",
      "    #     print samples\n",
      "        ## displacedLocs contains (row, col) coords\n",
      "        displacedLocs = np.array(np.round(samples).T[::-1], int)\n",
      "        validLocs = np.negative(np.any([np.any(displacedLocs < 0, axis=0), displacedLocs[0, :] >= imageSize[0]-patchSize[0], displacedLocs[1, :] >= imageSize[1]-patchSize[1]], axis=0))\n",
      "        frame2Patches = [frame2[l[0]:l[0]+patchSize[0], l[1]:l[1]+patchSize[1]] for l in displacedLocs[:, validLocs].T]\n",
      "        frame1Patch = frame1[loc[0]:loc[0]+patchSize[0], loc[1]:loc[1]+patchSize[1], :].reshape((1, patchSize[0], patchSize[0], frame1.shape[-1])).repeat(len(frame2Patches), axis=0)\n",
      "        scores[i] = np.sum(np.sum(np.sqrt((frame1Patch.reshape((len(frame2Patches), np.prod(patchSize)*frame1.shape[-1]))/255.0-\n",
      "                                           np.array(frame2Patches).reshape((len(frame2Patches), np.prod(patchSize)*frame1.shape[-1]))/255.0)**2), axis=-1)*np.ones_like(weights[validLocs]))\n",
      "\n",
      "        sys.stdout.write('\\r' + \"Done patch \" + np.string_(i) + \" of \" + np.string_(patchLocations.shape[-1]) + \" for good pair \" + np.string_(j) + \" of \" + np.string_(len(goodPairsIdxs.T)))\n",
      "        sys.stdout.flush()\n",
      "    goodExamplesMovement.append(np.copy(scores))\n",
      "print\n",
      "badExamplesMovement = []\n",
      "for j, pair in enumerate(badPairsIdxs.T) :\n",
      "    \n",
      "    ## find \"how much left-movement there is\" between two frames (low numbers means more right movement)\n",
      "    frame1 = np.array(Image.open(framePaths[pair[0]]))\n",
      "    frame2 = np.array(Image.open(framePaths[pair[1]]))\n",
      "    imageSize = frame1.shape[0:2]\n",
      "    patchSize = np.array([64, 64])\n",
      "    spacing = 32.0 ## how far away a patch is from the previous one\n",
      "\n",
      "    movementSigma = 8.0\n",
      "    numSamples = 50\n",
      "    patchYs = np.arange(4.0*movementSigma, imageSize[0]-patchSize[0]-4.0*movementSigma, spacing)\n",
      "    patchYs = patchYs.reshape((1, len(patchYs)))\n",
      "    patchXs = np.arange(4.0*movementSigma, imageSize[1]-patchSize[1]-4.0*movementSigma, spacing)\n",
      "    patchXs = patchXs.reshape((1, len(patchXs)))\n",
      "    patchLocations = np.array(np.concatenate((patchYs.repeat(len(patchXs.T)),\n",
      "                                              patchXs.repeat(len(patchYs.T), axis=0).flatten())).reshape((2, len(patchXs.T)*len(patchYs.T))), int)\n",
      "\n",
      "#     print patchLocations.shape\n",
      "\n",
      "    # figure(); imshow(frame1)\n",
      "    scores = np.zeros(patchLocations.shape[-1])\n",
      "    for i, loc in enumerate(patchLocations.T) : ## [:, [0, 1282, 2967]]\n",
      "    #     print loc\n",
      "        ## changing the x-mean by - movementSigma as I want to go left\n",
      "        mean = np.array([loc[1]-2.0*movementSigma, loc[0]])\n",
      "        covariance = np.array([[movementSigma, 0.0], [0.0, movementSigma/10.0]])\n",
      "        ## samples contains (x, y) coords\n",
      "        samples = np.random.multivariate_normal(mean, covariance, numSamples)\n",
      "        weights = sp.stats.multivariate_normal.pdf(samples, mean, covariance)\n",
      "        weights /= np.sum(weights)\n",
      "    #     print samples\n",
      "        ## displacedLocs contains (row, col) coords\n",
      "        displacedLocs = np.array(np.round(samples).T[::-1], int)\n",
      "        validLocs = np.negative(np.any([np.any(displacedLocs < 0, axis=0), displacedLocs[0, :] >= imageSize[0]-patchSize[0], displacedLocs[1, :] >= imageSize[1]-patchSize[1]], axis=0))\n",
      "        frame2Patches = [frame2[l[0]:l[0]+patchSize[0], l[1]:l[1]+patchSize[1]] for l in displacedLocs[:, validLocs].T]\n",
      "        frame1Patch = frame1[loc[0]:loc[0]+patchSize[0], loc[1]:loc[1]+patchSize[1], :].reshape((1, patchSize[0], patchSize[0], frame1.shape[-1])).repeat(len(frame2Patches), axis=0)\n",
      "        scores[i] = np.sum(np.sum(np.sqrt((frame1Patch.reshape((len(frame2Patches), np.prod(patchSize)*frame1.shape[-1]))/255.0-\n",
      "                                           np.array(frame2Patches).reshape((len(frame2Patches), np.prod(patchSize)*frame1.shape[-1]))/255.0)**2), axis=-1)*np.ones_like(weights[validLocs]))\n",
      "\n",
      "        sys.stdout.write('\\r' + \"Done patch \" + np.string_(i) + \" of \" + np.string_(patchLocations.shape[-1]) + \" for bad pair \" + np.string_(j) + \" of \" + np.string_(len(badPairsIdxs.T)))\n",
      "        sys.stdout.flush()\n",
      "    badExamplesMovement.append(np.copy(scores))\n",
      "print\n",
      "\n",
      "print \"ended at\",\n",
      "print datetime.datetime.now()"
     ],
     "language": "python",
     "metadata": {},
     "outputs": [],
     "prompt_number": 775
    },
    {
     "cell_type": "code",
     "collapsed": false,
     "input": [
      "np.save(\"good_examples_flag_movement_left.npy\", goodExamplesMovement)\n",
      "np.save(\"bad_examples_flag_movement_left.npy\", badExamplesMovement)"
     ],
     "language": "python",
     "metadata": {},
     "outputs": [],
     "prompt_number": 785
    },
    {
     "cell_type": "code",
     "collapsed": false,
     "input": [
      "patchSize = np.array([64, 64])\n",
      "spacing = 32.0 ## how far away a patch is from the previous one\n",
      "\n",
      "displacements = np.array([1, 2, 4, 8, 16])\n",
      "displacements = np.concatenate((np.array([np.zeros(len(displacements)), displacements], int), ## EAST\n",
      "                      np.array([displacements, displacements], int), ## SOUT-EAST\n",
      "                      np.array([displacements, np.zeros(len(displacements))], int), ## SOUTH\n",
      "                      np.array([displacements, -displacements], int), ## SOUTH-WEST\n",
      "                      np.array([np.zeros(len(displacements)), -displacements], int), ## WEST\n",
      "                      np.array([-displacements, -displacements], int), ## NORTH-WEST\n",
      "                      np.array([-displacements, np.zeros(len(displacements))], int), ## NORTH\n",
      "                      np.array([-displacements, displacements], int), ## NORTH-EAST\n",
      "                      ), axis=-1)\n",
      "\n",
      "patchYs = np.arange(np.max(displacements), imageSize[0]-patchSize[0]-np.max(displacements), spacing)\n",
      "patchYs = patchYs.reshape((1, len(patchYs)))\n",
      "patchXs = np.arange(np.max(displacements), imageSize[1]-patchSize[1]-np.max(displacements), spacing)\n",
      "patchXs = patchXs.reshape((1, len(patchXs)))\n",
      "patchLocations = np.array(np.concatenate((patchYs.repeat(len(patchXs.T)),\n",
      "                                          patchXs.repeat(len(patchYs.T), axis=0).flatten())).reshape((2, len(patchXs.T)*len(patchYs.T))), int)\n",
      "\n",
      "frame1Idxs = np.empty((0, 2), dtype=int)\n",
      "frame2Idxs = np.empty((0, 2), dtype=int)\n",
      "for i, locSlice in enumerate(np.arange(patchXs.shape[-1], patchLocations.shape[-1]+1, patchXs.shape[-1])) :\n",
      "    frame1Idxs = np.concatenate((frame1Idxs, np.repeat(patchLocations[:, locSlice-patchXs.shape[-1]:locSlice], len(displacements.T), axis=1).T), axis=0)\n",
      "    frame2Idxs = np.concatenate((frame2Idxs, np.array([disp + loc for loc in patchLocations[:, locSlice-patchXs.shape[-1]:locSlice].T for disp in displacements.T])), axis=0)\n",
      "\n",
      "\n",
      "goodExamplesStarMovement = []\n",
      "for j, pair in enumerate(goodPairsIdxs.T) :\n",
      "    t = time.time()\n",
      "    frame1 = np.array(Image.open(framePaths[pair[0]]))/255.0\n",
      "    frame2 = np.array(Image.open(framePaths[pair[1]]))/255.0\n",
      "\n",
      "    goodExamplesStarMovement.append(np.array([np.sqrt(np.sum((frame2[l2[0]:l2[0]+patchSize[0], l2[1]:l2[1]+patchSize[1]]-frame1[l1[0]:l1[0]+patchSize[0], l1[1]:l1[1]+patchSize[1]])**2)) for l2, l1 in zip(frame2Idxs, frame1Idxs)]))\n",
      "    \n",
      "    print time.time()-t\n",
      "    sys.stdout.write('\\r' + \"Done good pair \" + np.string_(j) + \" of \" + np.string_(len(goodPairsIdxs.T)))\n",
      "    sys.stdout.flush()\n",
      "    \n",
      "badExamplesStarMovement = []\n",
      "for j, pair in enumerate(badPairsIdxs.T) :\n",
      "    frame1 = np.array(Image.open(framePaths[pair[0]]))/255.0\n",
      "    frame2 = np.array(Image.open(framePaths[pair[1]]))/255.0\n",
      "\n",
      "    badExamplesStarMovement.append(np.array([np.sqrt(np.sum((frame2[l2[0]:l2[0]+patchSize[0], l2[1]:l2[1]+patchSize[1]]-frame1[l1[0]:l1[0]+patchSize[0], l1[1]:l1[1]+patchSize[1]])**2)) for l2, l1 in zip(frame2Idxs, frame1Idxs)]))\n",
      "    \n",
      "    sys.stdout.write('\\r' + \"Done bad pair \" + np.string_(j) + \" of \" + np.string_(len(badPairsIdxs.T)))\n",
      "    sys.stdout.flush()"
     ],
     "language": "python",
     "metadata": {},
     "outputs": [
      {
       "ename": "NameError",
       "evalue": "name 'goodPairsIdxs' is not defined",
       "output_type": "pyerr",
       "traceback": [
        "\u001b[0;31m---------------------------------------------------------------------------\u001b[0m\n\u001b[0;31mNameError\u001b[0m                                 Traceback (most recent call last)",
        "\u001b[0;32m<ipython-input-10-e01df1e7d5a4>\u001b[0m in \u001b[0;36m<module>\u001b[0;34m()\u001b[0m\n\u001b[1;32m     28\u001b[0m \u001b[0;34m\u001b[0m\u001b[0m\n\u001b[1;32m     29\u001b[0m \u001b[0mgoodExamplesStarMovement\u001b[0m \u001b[0;34m=\u001b[0m \u001b[0;34m[\u001b[0m\u001b[0;34m]\u001b[0m\u001b[0;34m\u001b[0m\u001b[0m\n\u001b[0;32m---> 30\u001b[0;31m \u001b[0;32mfor\u001b[0m \u001b[0mj\u001b[0m\u001b[0;34m,\u001b[0m \u001b[0mpair\u001b[0m \u001b[0;32min\u001b[0m \u001b[0menumerate\u001b[0m\u001b[0;34m(\u001b[0m\u001b[0mgoodPairsIdxs\u001b[0m\u001b[0;34m.\u001b[0m\u001b[0mT\u001b[0m\u001b[0;34m)\u001b[0m \u001b[0;34m:\u001b[0m\u001b[0;34m\u001b[0m\u001b[0m\n\u001b[0m\u001b[1;32m     31\u001b[0m     \u001b[0mt\u001b[0m \u001b[0;34m=\u001b[0m \u001b[0mtime\u001b[0m\u001b[0;34m.\u001b[0m\u001b[0mtime\u001b[0m\u001b[0;34m(\u001b[0m\u001b[0;34m)\u001b[0m\u001b[0;34m\u001b[0m\u001b[0m\n\u001b[1;32m     32\u001b[0m     \u001b[0mframe1\u001b[0m \u001b[0;34m=\u001b[0m \u001b[0mnp\u001b[0m\u001b[0;34m.\u001b[0m\u001b[0marray\u001b[0m\u001b[0;34m(\u001b[0m\u001b[0mImage\u001b[0m\u001b[0;34m.\u001b[0m\u001b[0mopen\u001b[0m\u001b[0;34m(\u001b[0m\u001b[0mframePaths\u001b[0m\u001b[0;34m[\u001b[0m\u001b[0mpair\u001b[0m\u001b[0;34m[\u001b[0m\u001b[0;36m0\u001b[0m\u001b[0;34m]\u001b[0m\u001b[0;34m]\u001b[0m\u001b[0;34m)\u001b[0m\u001b[0;34m)\u001b[0m\u001b[0;34m/\u001b[0m\u001b[0;36m255.0\u001b[0m\u001b[0;34m\u001b[0m\u001b[0m\n",
        "\u001b[0;31mNameError\u001b[0m: name 'goodPairsIdxs' is not defined"
       ]
      }
     ],
     "prompt_number": 10
    },
    {
     "cell_type": "code",
     "collapsed": false,
     "input": [
      "print displacements"
     ],
     "language": "python",
     "metadata": {},
     "outputs": [
      {
       "output_type": "stream",
       "stream": "stdout",
       "text": [
        "[[  0   0   0   0   0   1   2   4   8  16   1   2   4   8  16   1   2   4\n",
        "    8  16   0   0   0   0   0  -1  -2  -4  -8 -16  -1  -2  -4  -8 -16  -1\n",
        "   -2  -4  -8 -16]\n",
        " [  1   2   4   8  16   1   2   4   8  16   0   0   0   0   0  -1  -2  -4\n",
        "   -8 -16  -1  -2  -4  -8 -16  -1  -2  -4  -8 -16   0   0   0   0   0   1\n",
        "    2   4   8  16]]\n"
       ]
      }
     ],
     "prompt_number": 11
    },
    {
     "cell_type": "code",
     "collapsed": false,
     "input": [
      "# tmpExamples = np.array([np.sqrt(np.sum((frame2[l2[0]:l2[0]+patchSize[0], l2[1]:l2[1]+patchSize[1]]-frame1[l1[0]:l1[0]+patchSize[0], l1[1]:l1[1]+patchSize[1]])**2)) for l2, l1 in zip(frame2Idxs, frame1Idxs)])\n",
      "tmp1Idxs = frame1Idxs[0:5, :]\n",
      "tmp2Idxs = frame2Idxs[0:5, :]\n",
      "\n",
      "print tmp1Idxs, tmp2Idxs\n",
      "\n",
      "tmp1Idxs = np.empty((2, 0), int)\n",
      "tmp2Idxs = np.empty((2, 0), int)\n",
      "for l1, l2 in zip(frame1Idxs[0:5, :], frame2Idxs[0:5, :]) :\n",
      "    tmp1Idxs = np.concatenate((tmp1Idxs, np.array(np.meshgrid(arange(l1[0], l1[0]+patchSize[0]), arange(l1[1], l1[1]+patchSize[1]))).reshape((2, np.prod(patchSize)))), axis=1)\n",
      "    tmp2Idxs = np.concatenate((tmp2Idxs, np.array(np.meshgrid(arange(l2[0], l2[0]+patchSize[0]), arange(l2[1], l2[1]+patchSize[1]))).reshape((2, np.prod(patchSize)))), axis=1)\n",
      "    \n",
      "    sys.stdout.write('\\r' + \"Lala \" + np.string_(tmp1Idxs.shape[1]/4096) + \" of \" + np.string_(len(frame1Idxs)))\n",
      "    sys.stdout.flush()\n",
      "    \n",
      "\n",
      "clear_output()\n",
      "# bob1 = np.array([np.meshgrid(arange(l[0], l[0]+patchSize[0]), arange(l[1], l[1]+patchSize[1])) for l in tmp1Idxs]).reshape((tmp1Idxs.shape[0], 2, np.prod(patchSize)))\n",
      "# bob2 = np.array([np.meshgrid(arange(l[0], l[0]+patchSize[0]), arange(l[1], l[1]+patchSize[1])) for l in tmp2Idxs]).reshape((tmp2Idxs.shape[0], 2, np.prod(patchSize)))\n",
      "# # print np.array(np.meshgrid(arange(5, 7), arange(3, 5))).shape\n",
      "# print bob1.shape\n",
      "# print bob1.reshape((5, 2, 64**2))[0, :, :].T.shape\n",
      "# lala = np.array([frame1[la[0], la[1], :] for la in bob1.reshape((5, 2, 64**2))[0, :, :].T])\n",
      "# print lala.shape\n",
      "\n",
      "# print np.argwhere(frame1[bob1.reshape((5, 2, 64**2))[0, 0, :], bob1.reshape((5, 2, 64**2))[0, 1, :]]-lala != 0.0)\n",
      "\n",
      "\n",
      "# print np.sum(lala, axis=1)[0:16]\n",
      "# print np.sum(lala, axis=1).reshape((8, 8*64), order='F')[:, 0:2]\n",
      "# print np.sum(lala, axis=1).reshape((8, 8*64), order='F')[:, 1:2].flatten() - np.sum(lala, axis=1)[8:16]\n",
      "\n",
      "# print bob1[0, :, :]\n",
      "# print bob1[1, :, :]\n",
      "# print bob1.reshape((4096*5, 2))\n",
      "# print \n",
      "\n",
      "\n",
      "\n",
      "\n",
      "# tom = np.array([np.sum(frame1[la[0, :], la[01, :], :], axis=-1) for la in bob1])\n",
      "# print tom.shape\n",
      "# print np.argwhere(np.sum(frame1[bob1.reshape((4096*5, 2))[:, 0], bob1.reshape((4096*5, 2))[:, 1], :], axis=-1)[:4096]-tom[0, :] != 0.0)"
     ],
     "language": "python",
     "metadata": {},
     "outputs": [],
     "prompt_number": 366
    },
    {
     "cell_type": "code",
     "collapsed": false,
     "input": [
      "t = time.time()\n",
      "tmp1Idxs = np.array([np.array(np.meshgrid(arange(l1[0], l1[0]+patchSize[0]), \n",
      "                                          arange(l1[1], l1[1]+patchSize[1]))).reshape((2, np.prod(patchSize))) for l1 in frame1Idxs]).swapaxes(0, 1).reshape((2, len(frame1Idxs)*np.prod(patchSize)))\n",
      "\n",
      "tmp2Idxs = np.array([np.array(np.meshgrid(arange(l2[0], l2[0]+patchSize[0]), \n",
      "                                          arange(l2[1], l2[1]+patchSize[1]))).reshape((2, np.prod(patchSize))) for l2 in frame2Idxs]).swapaxes(0, 1).reshape((2, len(frame2Idxs)*np.prod(patchSize)))\n",
      "print time.time() - t\n",
      "print tmp1Idxs.shape"
     ],
     "language": "python",
     "metadata": {},
     "outputs": [
      {
       "output_type": "stream",
       "stream": "stdout",
       "text": [
        "68.0447719097\n",
        "(2, 121241600)\n"
       ]
      }
     ],
     "prompt_number": 5
    },
    {
     "cell_type": "code",
     "collapsed": false,
     "input": [
      "print np.sqrt(tmp1Idxs.shape[1])"
     ],
     "language": "python",
     "metadata": {},
     "outputs": [
      {
       "output_type": "stream",
       "stream": "stdout",
       "text": [
        "11010.9763418\n"
       ]
      }
     ],
     "prompt_number": 385
    },
    {
     "cell_type": "code",
     "collapsed": false,
     "input": [
      "t = time.time()\n",
      "np.sqrt(np.sum(np.sum((frame2[tmp2Idxs[0, :], tmp2Idxs[1, :], :] - frame1[tmp1Idxs[0, :], tmp1Idxs[1, :], :])**2, axis=-1).reshape((len(frame1Idxs), np.prod(patchSize))), axis=-1))\n",
      "print time.time()-t"
     ],
     "language": "python",
     "metadata": {},
     "outputs": [
      {
       "output_type": "stream",
       "stream": "stdout",
       "text": [
        "19.0013749599\n"
       ]
      }
     ],
     "prompt_number": 383
    },
    {
     "cell_type": "code",
     "collapsed": false,
     "input": [
      "print tmpExamples[0:5]"
     ],
     "language": "python",
     "metadata": {},
     "outputs": [
      {
       "output_type": "stream",
       "stream": "stdout",
       "text": [
        "[ 0.64544064  0.65355033  0.66788815  0.70707959  0.82921474]\n"
       ]
      }
     ],
     "prompt_number": 333
    },
    {
     "cell_type": "code",
     "collapsed": false,
     "input": [
      "labels = ['East', 'South-East', 'South', 'South-West', 'West', 'North-West', 'North', 'North-East']\n",
      "figure()\n",
      "for dispDirIdx, col in enumerate(cm.jet(np.arange(0, 255, 36))) :\n",
      "    print dispDirIdx, col\n",
      "    vals = [np.average(np.array(badExamplesStarMovement)[:, arange(dispLenIdx+dispDirIdx*5, len(badExamplesStarMovement[0]), len(displacements.T))]) for dispLenIdx in arange(5)]\n",
      "    print vals\n",
      "    print\n",
      "    plot(vals, color=col, marker='.', label=labels[dispDirIdx])\n",
      "legend()"
     ],
     "language": "python",
     "metadata": {},
     "outputs": [
      {
       "output_type": "stream",
       "stream": "stdout",
       "text": [
        "0 [ 0.   0.   0.5  1. ]\n",
        "[6.12917081667727, 6.822033765167097, 7.9474485633625092, 9.2216591906571796, 10.699578642819326]"
       ]
      },
      {
       "output_type": "stream",
       "stream": "stdout",
       "text": [
        "\n",
        "\n",
        "1 [ 0.          0.06470588  1.          1.        ]\n",
        "[6.3077055135597657, 7.295794240066316, 8.9111795380471133, 10.979375039689364, 13.804690201210251]"
       ]
      },
      {
       "output_type": "stream",
       "stream": "stdout",
       "text": [
        "\n",
        "\n",
        "2 [ 0.          0.62941176  1.          1.        ]\n",
        "[5.9719855130688302, 6.5617339777718717, 7.8081667472548562, 9.55640265927779, 12.016741838654912]"
       ]
      },
      {
       "output_type": "stream",
       "stream": "stdout",
       "text": [
        "\n",
        "\n",
        "3 [ 0.23719165  1.          0.73055028  1.        ]\n",
        "[6.4067522885773114, 7.4174367520830948, 8.9967995743422726, 10.982407529308396, 13.62041181219058]"
       ]
      },
      {
       "output_type": "stream",
       "stream": "stdout",
       "text": [
        "\n",
        "\n",
        "4 [ 0.69259962  1.          0.27514231  1.        ]\n",
        "[6.2058697924874462, 6.9078835579136415, 8.0076762632459388, 9.2625734761316973, 10.751310129083912]"
       ]
      },
      {
       "output_type": "stream",
       "stream": "stdout",
       "text": [
        "\n",
        "\n",
        "5 [ 1.          0.75599129  0.          1.        ]\n",
        "[6.5397753061314763, 7.4997855798864865, 9.0011476784702573, 10.931923312304001, 13.631553124249582]"
       ]
      },
      {
       "output_type": "stream",
       "stream": "stdout",
       "text": [
        "\n",
        "\n",
        "6 [ 1.          0.23311547  0.          1.        ]\n",
        "[6.1664725938716902, 6.7847081948234598, 7.9204588542253971, 9.5184933728145076, 11.823013249043498]"
       ]
      },
      {
       "output_type": "stream",
       "stream": "stdout",
       "text": [
        "\n",
        "\n",
        "7 [ 0.55347594  0.          0.          1.        ]\n",
        "[6.4915090009589527, 7.4732259855866872, 8.9491823360153901, 10.793147402081599, 13.258885353966885]"
       ]
      },
      {
       "output_type": "stream",
       "stream": "stdout",
       "text": [
        "\n",
        "\n"
       ]
      },
      {
       "metadata": {},
       "output_type": "pyout",
       "prompt_number": 188,
       "text": [
        "<matplotlib.legend.Legend at 0x7f627e4cfa50>"
       ]
      }
     ],
     "prompt_number": 188
    },
    {
     "cell_type": "code",
     "collapsed": false,
     "input": [
      "# dispLenIdx = 0\n",
      "# dispDirIdx = 0\n",
      "print dispDirIdx, dispLenIdx\n",
      "print np.sum(np.array(goodExamplesStarMovement)[:, arange(dispLenIdx+0*5, len(goodExamplesStarMovement[0]), len(displacements.T))])"
     ],
     "language": "python",
     "metadata": {},
     "outputs": [
      {
       "output_type": "stream",
       "stream": "stdout",
       "text": [
        "7 4\n",
        "4217202.48477"
       ]
      },
      {
       "output_type": "stream",
       "stream": "stdout",
       "text": [
        "\n"
       ]
      }
     ],
     "prompt_number": 172
    },
    {
     "cell_type": "code",
     "collapsed": false,
     "input": [
      "print displacements.T\n",
      "print arange"
     ],
     "language": "python",
     "metadata": {},
     "outputs": [
      {
       "output_type": "stream",
       "stream": "stdout",
       "text": [
        "[[  0   1]\n",
        " [  0   2]\n",
        " [  0   4]\n",
        " [  0   8]\n",
        " [  0  16]\n",
        " [  1   1]\n",
        " [  2   2]\n",
        " [  4   4]\n",
        " [  8   8]\n",
        " [ 16  16]\n",
        " [  1   0]\n",
        " [  2   0]\n",
        " [  4   0]\n",
        " [  8   0]\n",
        " [ 16   0]\n",
        " [  1  -1]\n",
        " [  2  -2]\n",
        " [  4  -4]\n",
        " [  8  -8]\n",
        " [ 16 -16]\n",
        " [  0  -1]\n",
        " [  0  -2]\n",
        " [  0  -4]\n",
        " [  0  -8]\n",
        " [  0 -16]\n",
        " [ -1  -1]\n",
        " [ -2  -2]\n",
        " [ -4  -4]\n",
        " [ -8  -8]\n",
        " [-16 -16]\n",
        " [ -1   0]\n",
        " [ -2   0]\n",
        " [ -4   0]\n",
        " [ -8   0]\n",
        " [-16   0]\n",
        " [ -1   1]\n",
        " [ -2   2]\n",
        " [ -4   4]\n",
        " [ -8   8]\n",
        " [-16  16]]\n"
       ]
      }
     ],
     "prompt_number": 163
    },
    {
     "cell_type": "code",
     "collapsed": false,
     "input": [
      "bob = np.zeros(imageSize)\n",
      "bob[frame2Idxs[:, 0], frame2Idxs[:, 1]] = np.average(np.array(goodExamplesStarMovement), axis=0)\n",
      "gwv.showCustomGraph(bob)"
     ],
     "language": "python",
     "metadata": {},
     "outputs": [],
     "prompt_number": 11
    },
    {
     "cell_type": "code",
     "collapsed": false,
     "input": [
      "print np.arange(patchXs.shape[-1], patchLocations.shape[-1]+1, patchXs.shape[-1]).shape\n",
      "print patchLocations.shape"
     ],
     "language": "python",
     "metadata": {},
     "outputs": [
      {
       "output_type": "stream",
       "stream": "stdout",
       "text": [
        "(20,)\n",
        "(2, 740)\n"
       ]
      }
     ],
     "prompt_number": 111
    },
    {
     "cell_type": "code",
     "collapsed": false,
     "input": [
      "print \"bad examples shapes\"\n",
      "print np.array(badExamplesMovement).shape\n",
      "print badExamplesData.shape\n",
      "badExamplesData = np.concatenate((badExamplesData, np.array(badExamplesMovement).T), axis=0)\n",
      "print badExamplesData.shape\n",
      "\n",
      "print \"good examples shapes\"\n",
      "print np.array(goodExamplesMovement).shape\n",
      "print goodExamplesData.shape\n",
      "goodExamplesData = np.concatenate((goodExamplesData, np.array(goodExamplesMovement).T), axis=0)\n",
      "print goodExamplesData.shape"
     ],
     "language": "python",
     "metadata": {},
     "outputs": [
      {
       "output_type": "stream",
       "stream": "stdout",
       "text": [
        "bad examples shapes\n",
        "(20, 684)\n",
        "(300, 20)\n",
        "(984, 20)\n",
        "good examples shapes\n",
        "(1216, 684)"
       ]
      },
      {
       "output_type": "stream",
       "stream": "stdout",
       "text": [
        "\n",
        "(300, 1216)\n",
        "(984, 1216)"
       ]
      },
      {
       "output_type": "stream",
       "stream": "stdout",
       "text": [
        "\n"
       ]
      }
     ],
     "prompt_number": 786
    },
    {
     "cell_type": "code",
     "collapsed": false,
     "input": [
      "bob = np.zeros(imageSize)\n",
      "bob[patchLocations[0, :], patchLocations[1, :]] = badExamplesMovement[10]\n",
      "gwv.showCustomGraph(bob)"
     ],
     "language": "python",
     "metadata": {},
     "outputs": [
      {
       "ename": "NameError",
       "evalue": "name 'badExamplesMovement' is not defined",
       "output_type": "pyerr",
       "traceback": [
        "\u001b[0;31m---------------------------------------------------------------------------\u001b[0m\n\u001b[0;31mNameError\u001b[0m                                 Traceback (most recent call last)",
        "\u001b[0;32m<ipython-input-8-e3f05946868d>\u001b[0m in \u001b[0;36m<module>\u001b[0;34m()\u001b[0m\n\u001b[1;32m      1\u001b[0m \u001b[0mbob\u001b[0m \u001b[0;34m=\u001b[0m \u001b[0mnp\u001b[0m\u001b[0;34m.\u001b[0m\u001b[0mzeros\u001b[0m\u001b[0;34m(\u001b[0m\u001b[0mframeSize\u001b[0m\u001b[0;34m)\u001b[0m\u001b[0;34m\u001b[0m\u001b[0m\n\u001b[0;32m----> 2\u001b[0;31m \u001b[0mbob\u001b[0m\u001b[0;34m[\u001b[0m\u001b[0mpatchLocations\u001b[0m\u001b[0;34m[\u001b[0m\u001b[0;36m0\u001b[0m\u001b[0;34m,\u001b[0m \u001b[0;34m:\u001b[0m\u001b[0;34m]\u001b[0m\u001b[0;34m,\u001b[0m \u001b[0mpatchLocations\u001b[0m\u001b[0;34m[\u001b[0m\u001b[0;36m1\u001b[0m\u001b[0;34m,\u001b[0m \u001b[0;34m:\u001b[0m\u001b[0;34m]\u001b[0m\u001b[0;34m]\u001b[0m \u001b[0;34m=\u001b[0m \u001b[0mbadExamplesMovement\u001b[0m\u001b[0;34m[\u001b[0m\u001b[0;36m10\u001b[0m\u001b[0;34m]\u001b[0m\u001b[0;34m\u001b[0m\u001b[0m\n\u001b[0m\u001b[1;32m      3\u001b[0m \u001b[0mgwv\u001b[0m\u001b[0;34m.\u001b[0m\u001b[0mshowCustomGraph\u001b[0m\u001b[0;34m(\u001b[0m\u001b[0mbob\u001b[0m\u001b[0;34m)\u001b[0m\u001b[0;34m\u001b[0m\u001b[0m\n",
        "\u001b[0;31mNameError\u001b[0m: name 'badExamplesMovement' is not defined"
       ]
      }
     ],
     "prompt_number": 8
    },
    {
     "cell_type": "code",
     "collapsed": false,
     "input": [
      "# badDataBAK = np.copy(badExamplesData)\n",
      "# goodDataBAK = np.copy(goodExamplesData)"
     ],
     "language": "python",
     "metadata": {},
     "outputs": [],
     "prompt_number": 157
    },
    {
     "cell_type": "code",
     "collapsed": false,
     "input": [
      "print np.array(goodExamplesStarMovement).shape"
     ],
     "language": "python",
     "metadata": {},
     "outputs": [
      {
       "output_type": "stream",
       "stream": "stdout",
       "text": [
        "(1216, 29600)\n"
       ]
      }
     ],
     "prompt_number": 47
    },
    {
     "cell_type": "code",
     "collapsed": false,
     "input": [
      "# gwv.showCustomGraph(np.average(goodDataBAK[np.prod(gridSize):2*np.prod(gridSize), goodPairsToUse], axis=1).reshape(gridSize))\n",
      "# gwv.showCustomGraph(np.average(badDataBAK[np.prod(gridSize):2*np.prod(gridSize), badPairsToUse], axis=1).reshape(gridSize))\n",
      "gwv.showCustomGraph(np.average(goodExamplesData[np.prod(gridSize):2*np.prod(gridSize), goodPairsToUse], axis=1).reshape(gridSize))\n",
      "gwv.showCustomGraph(np.average(badExamplesData[np.prod(gridSize):2*np.prod(gridSize), badPairsToUse], axis=1).reshape(gridSize))"
     ],
     "language": "python",
     "metadata": {},
     "outputs": [
      {
       "ename": "NameError",
       "evalue": "name 'goodExamplesData' is not defined",
       "output_type": "pyerr",
       "traceback": [
        "\u001b[0;31m---------------------------------------------------------------------------\u001b[0m\n\u001b[0;31mNameError\u001b[0m                                 Traceback (most recent call last)",
        "\u001b[0;32m<ipython-input-60-b7a0a60902ad>\u001b[0m in \u001b[0;36m<module>\u001b[0;34m()\u001b[0m\n\u001b[1;32m      1\u001b[0m \u001b[0;31m# gwv.showCustomGraph(np.average(goodDataBAK[np.prod(gridSize):2*np.prod(gridSize), goodPairsToUse], axis=1).reshape(gridSize))\u001b[0m\u001b[0;34m\u001b[0m\u001b[0;34m\u001b[0m\u001b[0m\n\u001b[1;32m      2\u001b[0m \u001b[0;31m# gwv.showCustomGraph(np.average(badDataBAK[np.prod(gridSize):2*np.prod(gridSize), badPairsToUse], axis=1).reshape(gridSize))\u001b[0m\u001b[0;34m\u001b[0m\u001b[0;34m\u001b[0m\u001b[0m\n\u001b[0;32m----> 3\u001b[0;31m \u001b[0mgwv\u001b[0m\u001b[0;34m.\u001b[0m\u001b[0mshowCustomGraph\u001b[0m\u001b[0;34m(\u001b[0m\u001b[0mnp\u001b[0m\u001b[0;34m.\u001b[0m\u001b[0maverage\u001b[0m\u001b[0;34m(\u001b[0m\u001b[0mgoodExamplesData\u001b[0m\u001b[0;34m[\u001b[0m\u001b[0mnp\u001b[0m\u001b[0;34m.\u001b[0m\u001b[0mprod\u001b[0m\u001b[0;34m(\u001b[0m\u001b[0mgridSize\u001b[0m\u001b[0;34m)\u001b[0m\u001b[0;34m:\u001b[0m\u001b[0;36m2\u001b[0m\u001b[0;34m*\u001b[0m\u001b[0mnp\u001b[0m\u001b[0;34m.\u001b[0m\u001b[0mprod\u001b[0m\u001b[0;34m(\u001b[0m\u001b[0mgridSize\u001b[0m\u001b[0;34m)\u001b[0m\u001b[0;34m,\u001b[0m \u001b[0mgoodPairsToUse\u001b[0m\u001b[0;34m]\u001b[0m\u001b[0;34m,\u001b[0m \u001b[0maxis\u001b[0m\u001b[0;34m=\u001b[0m\u001b[0;36m1\u001b[0m\u001b[0;34m)\u001b[0m\u001b[0;34m.\u001b[0m\u001b[0mreshape\u001b[0m\u001b[0;34m(\u001b[0m\u001b[0mgridSize\u001b[0m\u001b[0;34m)\u001b[0m\u001b[0;34m)\u001b[0m\u001b[0;34m\u001b[0m\u001b[0m\n\u001b[0m\u001b[1;32m      4\u001b[0m \u001b[0mgwv\u001b[0m\u001b[0;34m.\u001b[0m\u001b[0mshowCustomGraph\u001b[0m\u001b[0;34m(\u001b[0m\u001b[0mnp\u001b[0m\u001b[0;34m.\u001b[0m\u001b[0maverage\u001b[0m\u001b[0;34m(\u001b[0m\u001b[0mbadExamplesData\u001b[0m\u001b[0;34m[\u001b[0m\u001b[0mnp\u001b[0m\u001b[0;34m.\u001b[0m\u001b[0mprod\u001b[0m\u001b[0;34m(\u001b[0m\u001b[0mgridSize\u001b[0m\u001b[0;34m)\u001b[0m\u001b[0;34m:\u001b[0m\u001b[0;36m2\u001b[0m\u001b[0;34m*\u001b[0m\u001b[0mnp\u001b[0m\u001b[0;34m.\u001b[0m\u001b[0mprod\u001b[0m\u001b[0;34m(\u001b[0m\u001b[0mgridSize\u001b[0m\u001b[0;34m)\u001b[0m\u001b[0;34m,\u001b[0m \u001b[0mbadPairsToUse\u001b[0m\u001b[0;34m]\u001b[0m\u001b[0;34m,\u001b[0m \u001b[0maxis\u001b[0m\u001b[0;34m=\u001b[0m\u001b[0;36m1\u001b[0m\u001b[0;34m)\u001b[0m\u001b[0;34m.\u001b[0m\u001b[0mreshape\u001b[0m\u001b[0;34m(\u001b[0m\u001b[0mgridSize\u001b[0m\u001b[0;34m)\u001b[0m\u001b[0;34m)\u001b[0m\u001b[0;34m\u001b[0m\u001b[0m\n",
        "\u001b[0;31mNameError\u001b[0m: name 'goodExamplesData' is not defined"
       ]
      }
     ],
     "prompt_number": 60
    },
    {
     "cell_type": "code",
     "collapsed": false,
     "input": [
      "figure(); imshow((np.average(goodExamplesData[np.prod(gridSize):2*np.prod(gridSize), goodPairsToUse], axis=1).reshape(gridSize)), interpolation='nearest')\n",
      "cb = colorbar(); cb.set_clim((0.63, 0.83))\n",
      "figure(); imshow((np.average(badExamplesData[np.prod(gridSize):2*np.prod(gridSize), badPairsToUse], axis=1).reshape(gridSize)), interpolation='nearest')\n",
      "cb = colorbar(); cb.set_clim((0.63, 0.83))"
     ],
     "language": "python",
     "metadata": {},
     "outputs": [
      {
       "ename": "NameError",
       "evalue": "name 'goodExamplesData' is not defined",
       "output_type": "pyerr",
       "traceback": [
        "\u001b[0;31m---------------------------------------------------------------------------\u001b[0m\n\u001b[0;31mNameError\u001b[0m                                 Traceback (most recent call last)",
        "\u001b[0;32m<ipython-input-59-2df9dd39690c>\u001b[0m in \u001b[0;36m<module>\u001b[0;34m()\u001b[0m\n\u001b[0;32m----> 1\u001b[0;31m \u001b[0mfigure\u001b[0m\u001b[0;34m(\u001b[0m\u001b[0;34m)\u001b[0m\u001b[0;34m;\u001b[0m \u001b[0mimshow\u001b[0m\u001b[0;34m(\u001b[0m\u001b[0;34m(\u001b[0m\u001b[0mnp\u001b[0m\u001b[0;34m.\u001b[0m\u001b[0maverage\u001b[0m\u001b[0;34m(\u001b[0m\u001b[0mgoodExamplesData\u001b[0m\u001b[0;34m[\u001b[0m\u001b[0mnp\u001b[0m\u001b[0;34m.\u001b[0m\u001b[0mprod\u001b[0m\u001b[0;34m(\u001b[0m\u001b[0mgridSize\u001b[0m\u001b[0;34m)\u001b[0m\u001b[0;34m:\u001b[0m\u001b[0;36m2\u001b[0m\u001b[0;34m*\u001b[0m\u001b[0mnp\u001b[0m\u001b[0;34m.\u001b[0m\u001b[0mprod\u001b[0m\u001b[0;34m(\u001b[0m\u001b[0mgridSize\u001b[0m\u001b[0;34m)\u001b[0m\u001b[0;34m,\u001b[0m \u001b[0mgoodPairsToUse\u001b[0m\u001b[0;34m]\u001b[0m\u001b[0;34m,\u001b[0m \u001b[0maxis\u001b[0m\u001b[0;34m=\u001b[0m\u001b[0;36m1\u001b[0m\u001b[0;34m)\u001b[0m\u001b[0;34m.\u001b[0m\u001b[0mreshape\u001b[0m\u001b[0;34m(\u001b[0m\u001b[0mgridSize\u001b[0m\u001b[0;34m)\u001b[0m\u001b[0;34m)\u001b[0m\u001b[0;34m,\u001b[0m \u001b[0minterpolation\u001b[0m\u001b[0;34m=\u001b[0m\u001b[0;34m'nearest'\u001b[0m\u001b[0;34m)\u001b[0m\u001b[0;34m\u001b[0m\u001b[0m\n\u001b[0m\u001b[1;32m      2\u001b[0m \u001b[0mcb\u001b[0m \u001b[0;34m=\u001b[0m \u001b[0mcolorbar\u001b[0m\u001b[0;34m(\u001b[0m\u001b[0;34m)\u001b[0m\u001b[0;34m;\u001b[0m \u001b[0mcb\u001b[0m\u001b[0;34m.\u001b[0m\u001b[0mset_clim\u001b[0m\u001b[0;34m(\u001b[0m\u001b[0;34m(\u001b[0m\u001b[0;36m0.63\u001b[0m\u001b[0;34m,\u001b[0m \u001b[0;36m0.83\u001b[0m\u001b[0;34m)\u001b[0m\u001b[0;34m)\u001b[0m\u001b[0;34m\u001b[0m\u001b[0m\n\u001b[1;32m      3\u001b[0m \u001b[0mfigure\u001b[0m\u001b[0;34m(\u001b[0m\u001b[0;34m)\u001b[0m\u001b[0;34m;\u001b[0m \u001b[0mimshow\u001b[0m\u001b[0;34m(\u001b[0m\u001b[0;34m(\u001b[0m\u001b[0mnp\u001b[0m\u001b[0;34m.\u001b[0m\u001b[0maverage\u001b[0m\u001b[0;34m(\u001b[0m\u001b[0mbadExamplesData\u001b[0m\u001b[0;34m[\u001b[0m\u001b[0mnp\u001b[0m\u001b[0;34m.\u001b[0m\u001b[0mprod\u001b[0m\u001b[0;34m(\u001b[0m\u001b[0mgridSize\u001b[0m\u001b[0;34m)\u001b[0m\u001b[0;34m:\u001b[0m\u001b[0;36m2\u001b[0m\u001b[0;34m*\u001b[0m\u001b[0mnp\u001b[0m\u001b[0;34m.\u001b[0m\u001b[0mprod\u001b[0m\u001b[0;34m(\u001b[0m\u001b[0mgridSize\u001b[0m\u001b[0;34m)\u001b[0m\u001b[0;34m,\u001b[0m \u001b[0mbadPairsToUse\u001b[0m\u001b[0;34m]\u001b[0m\u001b[0;34m,\u001b[0m \u001b[0maxis\u001b[0m\u001b[0;34m=\u001b[0m\u001b[0;36m1\u001b[0m\u001b[0;34m)\u001b[0m\u001b[0;34m.\u001b[0m\u001b[0mreshape\u001b[0m\u001b[0;34m(\u001b[0m\u001b[0mgridSize\u001b[0m\u001b[0;34m)\u001b[0m\u001b[0;34m)\u001b[0m\u001b[0;34m,\u001b[0m \u001b[0minterpolation\u001b[0m\u001b[0;34m=\u001b[0m\u001b[0;34m'nearest'\u001b[0m\u001b[0;34m)\u001b[0m\u001b[0;34m\u001b[0m\u001b[0m\n\u001b[1;32m      4\u001b[0m \u001b[0mcb\u001b[0m \u001b[0;34m=\u001b[0m \u001b[0mcolorbar\u001b[0m\u001b[0;34m(\u001b[0m\u001b[0;34m)\u001b[0m\u001b[0;34m;\u001b[0m \u001b[0mcb\u001b[0m\u001b[0;34m.\u001b[0m\u001b[0mset_clim\u001b[0m\u001b[0;34m(\u001b[0m\u001b[0;34m(\u001b[0m\u001b[0;36m0.63\u001b[0m\u001b[0;34m,\u001b[0m \u001b[0;36m0.83\u001b[0m\u001b[0;34m)\u001b[0m\u001b[0;34m)\u001b[0m\u001b[0;34m\u001b[0m\u001b[0m\n",
        "\u001b[0;31mNameError\u001b[0m: name 'goodExamplesData' is not defined"
       ]
      }
     ],
     "prompt_number": 59
    },
    {
     "cell_type": "code",
     "collapsed": false,
     "input": [
      "goodPairsToUse = arange(len(goodPairsIdxs.T))\n",
      "# goodPairsToUse = arange(len(goodPairsIdxs.T)-len(additionalGoodPairsIdxs.T), len(goodPairsIdxs.T))\n",
      "badPairsToUse = arange(len(badPairsIdxs.T))\n",
      "\n",
      "# X = np.concatenate((goodExamplesData[:3*np.prod(gridSize), goodPairsToUse], badExamplesData[:3*np.prod(gridSize), badPairsToUse]), axis=1)\n",
      "# X = np.concatenate((goodExamplesData[3*np.prod(gridSize):, goodPairsToUse], badExamplesData[3*np.prod(gridSize):, badPairsToUse]), axis=1)\n",
      "# X = np.concatenate((np.array(goodExamplesStarMovement).T, np.array(badExamplesStarMovement).T), axis=1)\n",
      "X = np.concatenate((np.concatenate((np.array(goodExamplesStarMovement).T, goodExamplesData), axis=0), \n",
      "                    np.concatenate((np.array(badExamplesStarMovement).T, badExamplesData), axis=0)), axis=1)\n",
      "w = np.concatenate((np.zeros(len(goodPairsToUse)), 1.0*np.ones(len(badPairsToUse)))).reshape((X.shape[-1], 1))\n",
      "N = X.shape[0]\n",
      "phi0 = np.ones((N, 1))\n",
      "sio.savemat(dataPath + dataSet + \"trainingExamplesForImageData\", {\"X\":X, \"w\":w})\n",
      "print X.shape"
     ],
     "language": "python",
     "metadata": {},
     "outputs": [
      {
       "output_type": "stream",
       "stream": "stdout",
       "text": [
        "(12300, 705)\n"
       ]
      }
     ],
     "prompt_number": 39
    },
    {
     "cell_type": "code",
     "collapsed": false,
     "input": [
      "print 8.8 - np.floor(8.8)"
     ],
     "language": "python",
     "metadata": {},
     "outputs": [
      {
       "output_type": "stream",
       "stream": "stdout",
       "text": [
        "0.8\n"
       ]
      }
     ],
     "prompt_number": 221
    },
    {
     "cell_type": "code",
     "collapsed": false,
     "input": [
      "print np.array(badExamplesStarMovement).T.shape"
     ],
     "language": "python",
     "metadata": {},
     "outputs": [
      {
       "output_type": "stream",
       "stream": "stdout",
       "text": [
        "(29600, 20)\n"
       ]
      }
     ],
     "prompt_number": 218
    },
    {
     "cell_type": "code",
     "collapsed": false,
     "input": [
      "# ## now call the matlab script to fit phi\n",
      "# if doHogs :\n",
      "#     trainingExamplesLoc = dataPath + dataSet + \"trainingExamplesForHogs.mat\"\n",
      "#     phiSaveLoc = dataPath + dataSet + \"fittedPhiForHogs.mat\"\n",
      "# else :\n",
      "#     trainingExamplesLoc = dataPath + dataSet + \"trainingExamplesForImageData.mat\"\n",
      "#     phiSaveLoc = dataPath + dataSet + \"fittedPhiForImageData.mat\"\n",
      "\n",
      "# matlabCommand = \"cd ~/PhD/MATLAB/; matlab -nosplash -nodesktop -nodisplay -r \"\n",
      "# matlabCommand += \"\\\"fitPhiForRegression '\" + trainingExamplesLoc + \"' '\"\n",
      "# matlabCommand += phiSaveLoc + \"'; exit;\\\"\"\n",
      "\n",
      "# stat, output = commands.getstatusoutput(matlabCommand)\n",
      "# stat /= 256\n",
      "\n",
      "# if stat == 10 :\n",
      "#     print \"Error when saving result\"\n",
      "# elif stat == 11 :\n",
      "#     print \"Error when loading examples\"\n",
      "# else :\n",
      "#     print \"Optimization completed with status\", stat\n",
      "    \n",
      "# print output"
     ],
     "language": "python",
     "metadata": {},
     "outputs": [],
     "prompt_number": 37
    },
    {
     "cell_type": "code",
     "collapsed": false,
     "input": [
      "## now call the matlab script to fit phi using psi\n",
      "if doHogs :\n",
      "    trainingExamplesLoc = dataPath + dataSet + \"trainingExamplesForHogs.mat\"\n",
      "    phiSaveLoc = dataPath + dataSet + \"fittedPhiForHogsUsingPsi.mat\"\n",
      "else :\n",
      "    trainingExamplesLoc = dataPath + dataSet + \"trainingExamplesForImageData.mat\"\n",
      "    phiSaveLoc = dataPath + dataSet + \"fittedPhiForImageDataUsingPsi.mat\"\n",
      "\n",
      "matlabCommand = \"cd ~/PhD/MATLAB/; matlab -nosplash -nodesktop -nodisplay -r \"\n",
      "matlabCommand += \"\\\"fitPsiForRegression '\" + trainingExamplesLoc + \"' '\"\n",
      "matlabCommand += phiSaveLoc + \"'; exit;\\\"\"\n",
      "\n",
      "stat, output = commands.getstatusoutput(matlabCommand)\n",
      "stat /= 256\n",
      "\n",
      "if stat == 10 :\n",
      "    print \"Error when saving result\"\n",
      "elif stat == 11 :\n",
      "    print \"Error when loading examples\"\n",
      "else :\n",
      "    print \"Optimization completed with status\", stat\n",
      "    \n",
      "print output"
     ],
     "language": "python",
     "metadata": {},
     "outputs": [
      {
       "output_type": "stream",
       "stream": "stdout",
       "text": [
        "Optimization completed with status 0\n",
        "\n",
        "                            < M A T L A B (R) >\n",
        "                  Copyright 1984-2014 The MathWorks, Inc.\n",
        "                   R2014b (8.4.0.150421) 64-bit (glnxa64)\n",
        "                             September 15, 2014\n",
        "\n",
        " \n",
        "To get started, type one of these: helpwin, helpdesk, or demo.\n",
        "For product information, visit www.mathworks.com.\n",
        " \n",
        "Loaded 705 examples of size 12300\n",
        "[\bWarning: Struct field assignment overwrites a value with class \"double\". See\n",
        "MATLAB R14SP2 Release Notes, Assigning Nonstructure Variables As Structures\n",
        "Displays Warning, for details.]\b \n",
        "[\b> In fitPsiForRegression at 52]\b \n",
        "f is 9.229238716704957e+17 g size is 12300\n",
        " Iteration   FunEvals     Step Length    Function Val        Opt Cond\n",
        "newtonCG stopped on iteration 1 w/ residual 3.96311e+14\n",
        "         1          3     1.00000e+00     3.40130e+17     5.83544e+13\n",
        "newtonCG stopped on iteration 1 w/ residual 7.72587e+13\n",
        "         2          5     1.00000e+00     1.25196e+17     2.11687e+13\n",
        "newtonCG stopped on iteration 1 w/ residual 1.47369e+13\n",
        "         3          7     1.00000e+00     4.60682e+16     7.73216e+12\n",
        "newtonCG stopped on iteration 1 w/ residual 2.94483e+12\n",
        "         4          9     1.00000e+00     1.69514e+16     2.83433e+12\n",
        "newtonCG stopped on iteration 1 w/ residual 8.24744e+11\n",
        "         5         11     1.00000e+00     6.23799e+15     1.04085e+12\n",
        "newtonCG stopped on iteration 1 w/ residual 3.85305e+11\n",
        "         6         13     1.00000e+00     2.29589e+15     3.82581e+11\n",
        "newtonCG stopped on iteration 1 w/ residual 2.07740e+11\n",
        "         7         15     1.00000e+00     8.45173e+14     1.40688e+11\n",
        "newtonCG stopped on iteration 1 w/ residual 1.08785e+11\n",
        "         8         17     1.00000e+00     3.11198e+14     5.17463e+10\n",
        "newtonCG stopped on iteration 1 w/ residual 5.28448e+10\n",
        "         9         19     1.00000e+00     1.14606e+14     1.90332e+10\n",
        "newtonCG stopped on iteration 1 w/ residual 2.30659e+10\n",
        "        10         21     1.00000e+00     4.22083e+13     6.99999e+09\n",
        "newtonCG stopped on iteration 1 w/ residual 8.81297e+09\n",
        "        11         23     1.00000e+00     1.55436e+13     2.57406e+09\n",
        "newtonCG stopped on iteration 1 w/ residual 2.94768e+09\n",
        "        12         25     1.00000e+00     5.72342e+12     9.46477e+08\n",
        "newtonCG stopped on iteration 1 w/ residual 9.32519e+08\n",
        "        13         27     1.00000e+00     2.10740e+12     3.48040e+08\n",
        "newtonCG stopped on iteration 1 w/ residual 3.31693e+08\n",
        "        14         29     1.00000e+00     7.76035e+11     1.27995e+08\n",
        "newtonCG stopped on iteration 1 w/ residual 1.36849e+08\n",
        "        15         31     1.00000e+00     2.85806e+11     4.70733e+07\n",
        "newtonCG stopped on iteration 1 w/ residual 5.66674e+07\n",
        "        16         33     1.00000e+00     1.05267e+11     1.73117e+07\n",
        "newtonCG stopped on iteration 1 w/ residual 2.18328e+07\n",
        "        17         35     1.00000e+00     3.87708e+10     6.36595e+06\n",
        "newtonCG stopped on iteration 1 w/ residual 7.87374e+06\n",
        "        18         37     1.00000e+00     1.42789e+10     2.34076e+06\n",
        "newtonCG stopped on iteration 1 w/ residual 2.81434e+06\n",
        "        19         39     1.00000e+00     5.25863e+09     8.60682e+05\n",
        "newtonCG stopped on iteration 1 w/ residual 1.05114e+06\n",
        "        20         41     1.00000e+00     1.93670e+09     3.16461e+05\n",
        "newtonCG stopped on iteration 1 w/ residual 3.94794e+05\n",
        "        21         43     1.00000e+00     7.13364e+08     1.16351e+05\n",
        "newtonCG stopped on iteration 1 w/ residual 1.37424e+05\n",
        "        22         45     1.00000e+00     2.62917e+08     4.27746e+04\n",
        "newtonCG stopped on iteration 1 w/ residual 4.21953e+04\n",
        "        23         47     1.00000e+00     9.71097e+07     1.57246e+04\n",
        "newtonCG stopped on iteration 1 w/ residual 1.12645e+04\n",
        "        24         49     1.00000e+00     3.61068e+07     5.78054e+03\n",
        "newtonCG stopped on iteration 1 w/ residual 2.64542e+03\n",
        "        25         51     1.00000e+00     1.36796e+07     2.12474e+03\n",
        "newtonCG stopped on iteration 1 w/ residual 5.62321e+02\n",
        "        26         53     1.00000e+00     5.44623e+06     7.80406e+02\n",
        "newtonCG stopped on iteration 1 w/ residual 1.11553e+02\n",
        "        27         55     1.00000e+00     2.43401e+06     2.85994e+02\n",
        "newtonCG stopped on iteration 1 w/ residual 2.10661e+01\n",
        "        28         57     1.00000e+00     1.34192e+06     1.04197e+02\n",
        "newtonCG stopped on iteration 1 w/ residual 3.80486e+00\n",
        "        29         59     1.00000e+00     9.55461e+05     3.73255e+01\n",
        "newtonCG stopped on iteration 1 w/ residual 7.16901e-01\n",
        "        30         61     1.00000e+00     8.27286e+05     1.27614e+01\n",
        "newtonCG stopped on iteration 1 w/ residual 2.85637e-01\n",
        "        31         63     1.00000e+00     7.91469e+05     3.83901e+00\n",
        "newtonCG stopped on iteration 1 w/ residual 2.05628e-01\n",
        "        32         65     1.00000e+00     7.84999e+05     8.14833e-01\n",
        "newtonCG stopped on iteration 1 w/ residual 1.44531e-01\n",
        "        33         67     1.00000e+00     7.84580e+05     7.63944e-02\n",
        "newtonCG stopped on iteration 1 w/ residual 8.39851e-02\n",
        "        34         69     1.00000e+00     7.84578e+05     2.21789e-02\n",
        "newtonCG stopped on iteration 2 w/ residual 1.10455e-04\n",
        "        35         72     1.00000e+00     7.84578e+05     9.79464e-06\n",
        "Optimality Condition below optTol\n",
        "Exit flag of optimization is 1\n",
        "Saved phi_MAP as /media/ilisescu/Data1/PhD/data/splashes_water/fittedPhiForImageDataUsingPsi.mat\n"
       ]
      }
     ],
     "prompt_number": 40
    },
    {
     "cell_type": "code",
     "collapsed": false,
     "input": [
      "figure(); plot(sio.loadmat(phiSaveLoc)['phi_MAP'])\n",
      "# bob = np.zeros(imageSize)\n",
      "# bob[frame2Idxs[:, 0], frame2Idxs[:, 1]] = sio.loadmat(phiSaveLoc)['phi_MAP'][:, 0]\n",
      "# gwv.showCustomGraph(bob)"
     ],
     "language": "python",
     "metadata": {},
     "outputs": [
      {
       "metadata": {},
       "output_type": "pyout",
       "prompt_number": 41,
       "text": [
        "[<matplotlib.lines.Line2D at 0x7f627acb8810>]"
       ]
      }
     ],
     "prompt_number": 41
    },
    {
     "cell_type": "code",
     "collapsed": false,
     "input": [
      "figure()\n",
      "weightSubset = len(goodExamplesStarMovement[0])\n",
      "plot(np.sqrt(np.dot(X.T[:len(goodPairsIdxs.T), weightSubset:], sio.loadmat(phiSaveLoc)['phi_MAP'][weightSubset:, :])))\n",
      "plot(arange(len(goodPairsIdxs.T), len(X.T)), np.sqrt(np.dot(X.T[len(goodPairsIdxs.T):, weightSubset:], sio.loadmat(phiSaveLoc)['phi_MAP'][weightSubset:, :])))\n",
      "figure()\n",
      "plot(np.sqrt(np.dot(X.T[:len(goodPairsIdxs.T), weightSubset:], np.ones_like(sio.loadmat(phiSaveLoc)['phi_MAP'][weightSubset:, :]))))\n",
      "plot(arange(len(goodPairsIdxs.T), len(X.T)), np.sqrt(np.dot(X.T[len(goodPairsIdxs.T):, weightSubset:], np.ones_like(sio.loadmat(phiSaveLoc)['phi_MAP'][weightSubset:, :]))))"
     ],
     "language": "python",
     "metadata": {},
     "outputs": [
      {
       "metadata": {},
       "output_type": "pyout",
       "prompt_number": 50,
       "text": [
        "[<matplotlib.lines.Line2D at 0x7f627a4a0190>]"
       ]
      }
     ],
     "prompt_number": 50
    },
    {
     "cell_type": "code",
     "collapsed": false,
     "input": [
      "## color average and flow intensity on 5x5 grid with sigmoid\n",
      "print \"Weighted\", np.sum(np.sqrt((np.sqrt(np.dot(X.T, sio.loadmat(phiSaveLoc)['phi_MAP']))-w)**2))/X.shape[-1], \n",
      "print \"L2\", np.sum(np.sqrt((np.sqrt(np.dot(X.T, np.ones_like(sio.loadmat(phiSaveLoc)['phi_MAP'])))-w)**2))/X.shape[-1]"
     ],
     "language": "python",
     "metadata": {},
     "outputs": [
      {
       "output_type": "stream",
       "stream": "stdout",
       "text": [
        "Weighted 1.41329594861 L2 3575.547435\n"
       ]
      }
     ],
     "prompt_number": 51
    },
    {
     "cell_type": "code",
     "collapsed": false,
     "input": [
      "## color average and flow intensity on 5x5 grid with sigmoid\n",
      "print \"Weighted\", np.sum(np.sqrt((np.sqrt(np.dot(X.T, sio.loadmat(phiSaveLoc)['phi_MAP']))-w)**2))/X.shape[-1], \n",
      "print \"L2\", np.sum(np.sqrt((np.sqrt(np.dot(X.T, np.ones_like(sio.loadmat(phiSaveLoc)['phi_MAP'])))-w)**2))/X.shape[-1]"
     ],
     "language": "python",
     "metadata": {},
     "outputs": [
      {
       "output_type": "stream",
       "stream": "stdout",
       "text": [
        "Weighted 0.655906970208 L2 5071.52729306\n"
       ]
      }
     ],
     "prompt_number": 794
    },
    {
     "cell_type": "code",
     "collapsed": false,
     "input": [
      "## color average and flow intensity on 5x5 grid with sigmoid\n",
      "print \"Weighted\", np.sum(np.sqrt((np.sqrt(np.dot(X.T, sio.loadmat(phiSaveLoc)['phi_MAP']))-w)**2))/X.shape[-1], \n",
      "print \"L2\", np.sum(np.sqrt((np.sqrt(np.dot(X.T, np.ones_like(sio.loadmat(phiSaveLoc)['phi_MAP'])))-w)**2))/X.shape[-1]"
     ],
     "language": "python",
     "metadata": {},
     "outputs": [
      {
       "output_type": "stream",
       "stream": "stdout",
       "text": [
        "Weighted 0.611565485472 L2 5071.4517294\n"
       ]
      }
     ],
     "prompt_number": 798
    },
    {
     "cell_type": "code",
     "collapsed": false,
     "input": [
      "## color average and flow intensity on 5x5 grid with sigmoid\n",
      "print \"Weighted\", np.sum(np.sqrt((np.sqrt(np.dot(X.T, sio.loadmat(phiSaveLoc)['phi_MAP']))-w)**2))/X.shape[-1], \n",
      "print \"L2\", np.sum(np.sqrt((np.sqrt(np.dot(X.T, np.ones_like(sio.loadmat(phiSaveLoc)['phi_MAP'])))-w)**2))/X.shape[-1]\n",
      "print 4.21937917707/0.303323752561, 4.07502075956/0.298591493111"
     ],
     "language": "python",
     "metadata": {},
     "outputs": [
      {
       "output_type": "stream",
       "stream": "stdout",
       "text": [
        "Weighted 0.303323752561 L2 4.21937917707\n",
        "13.9104806051 13.6474777533\n"
       ]
      }
     ],
     "prompt_number": 173
    },
    {
     "cell_type": "code",
     "collapsed": false,
     "input": [
      "## color average on 5x5 grid\n",
      "print \"Weighted\", np.sum(np.sqrt((np.sqrt(np.dot(X.T, sio.loadmat(phiSaveLoc)['phi_MAP']))-w)**2))/X.shape[-1], \n",
      "print \"L2\", np.sum(np.sqrt((np.sqrt(np.dot(X.T, np.ones_like(sio.loadmat(phiSaveLoc)['phi_MAP'])))-w)**2))/X.shape[-1]"
     ],
     "language": "python",
     "metadata": {},
     "outputs": [
      {
       "output_type": "stream",
       "stream": "stdout",
       "text": [
        "Weighted 0.200619451223 L2 0.223757893337\n"
       ]
      }
     ],
     "prompt_number": 96
    },
    {
     "cell_type": "code",
     "collapsed": false,
     "input": [
      "## color average and flow intensity on 5x5 grid\n",
      "print \"Weighted\", np.sum(np.sqrt((np.sqrt(np.dot(X.T, sio.loadmat(phiSaveLoc)['phi_MAP']))-w)**2))/X.shape[-1], \n",
      "print \"L2\", np.sum(np.sqrt((np.sqrt(np.dot(X.T, np.ones_like(sio.loadmat(phiSaveLoc)['phi_MAP'])))-w)**2))/X.shape[-1]"
     ],
     "language": "python",
     "metadata": {},
     "outputs": [
      {
       "output_type": "stream",
       "stream": "stdout",
       "text": [
        "Weighted 0.298591493111 L2 4.07502075956\n"
       ]
      }
     ],
     "prompt_number": 133
    },
    {
     "cell_type": "code",
     "collapsed": false,
     "input": [
      "## color average, flow intensity and complement diff on 5x5 grid \n",
      "print \"Weighted\", np.sum(np.sqrt((np.sqrt(np.dot(X.T, sio.loadmat(phiSaveLoc)['phi_MAP']))-w)**2))/X.shape[-1], \n",
      "print \"L2\", np.sum(np.sqrt((np.sqrt(np.dot(X.T, np.ones_like(sio.loadmat(phiSaveLoc)['phi_MAP'])))-w)**2))/X.shape[-1]"
     ],
     "language": "python",
     "metadata": {},
     "outputs": [
      {
       "output_type": "stream",
       "stream": "stdout",
       "text": [
        "Weighted 0.342983986828 L2 5.41375392045\n"
       ]
      }
     ],
     "prompt_number": 129
    },
    {
     "cell_type": "code",
     "collapsed": false,
     "input": [
      "## color average on 10x10 grid wrong flow\n",
      "print \"Weighted\", np.sum(np.sqrt((np.sqrt(np.dot(X.T, sio.loadmat(phiSaveLoc)['phi_MAP']))-w)**2))/X.shape[-1], \n",
      "print \"L2\", np.sum(np.sqrt((np.sqrt(np.dot(X.T, np.ones_like(sio.loadmat(phiSaveLoc)['phi_MAP'])))-w)**2))/X.shape[-1]"
     ],
     "language": "python",
     "metadata": {},
     "outputs": [
      {
       "output_type": "stream",
       "stream": "stdout",
       "text": [
        "Weighted 0.26811352868 L2 0.431326521301\n"
       ]
      }
     ],
     "prompt_number": 83
    },
    {
     "cell_type": "code",
     "collapsed": false,
     "input": [
      "## color average and flow intensity on 10x10 grid wrong flow\n",
      "print \"Weighted\", np.sum(np.sqrt((np.sqrt(np.dot(X.T, sio.loadmat(phiSaveLoc)['phi_MAP']))-w)**2))/X.shape[-1], \n",
      "print \"L2\", np.sum(np.sqrt((np.sqrt(np.dot(X.T, np.ones_like(sio.loadmat(phiSaveLoc)['phi_MAP'])))-w)**2))/X.shape[-1]"
     ],
     "language": "python",
     "metadata": {},
     "outputs": [
      {
       "output_type": "stream",
       "stream": "stdout",
       "text": [
        "Weighted 0.268148333358 L2 0.4313602179\n"
       ]
      }
     ],
     "prompt_number": 86
    },
    {
     "cell_type": "code",
     "collapsed": false,
     "input": [
      "## color average and flow intensity on 10x10 grid with sigmoid\n",
      "print \"Weighted\", np.sum(np.sqrt((np.sqrt(np.dot(X.T, sio.loadmat(phiSaveLoc)['phi_MAP']))-w)**2))/X.shape[-1], \n",
      "print \"L2\", np.sum(np.sqrt((np.sqrt(np.dot(X.T, np.ones_like(sio.loadmat(phiSaveLoc)['phi_MAP'])))-w)**2))/X.shape[-1]"
     ],
     "language": "python",
     "metadata": {},
     "outputs": [
      {
       "output_type": "stream",
       "stream": "stdout",
       "text": [
        "Weighted 0.411140783451 L2 8.45493915206\n"
       ]
      }
     ],
     "prompt_number": 212
    },
    {
     "cell_type": "code",
     "collapsed": false,
     "input": [
      "## color average and flow intensity on 10x10 grid no sigmoid\n",
      "print \"Weighted\", np.sum(np.sqrt((np.sqrt(np.dot(X.T, sio.loadmat(phiSaveLoc)['phi_MAP']))-w)**2))/X.shape[-1], \n",
      "print \"L2\", np.sum(np.sqrt((np.sqrt(np.dot(X.T, np.ones_like(sio.loadmat(phiSaveLoc)['phi_MAP'])))-w)**2))/X.shape[-1]"
     ],
     "language": "python",
     "metadata": {},
     "outputs": [
      {
       "output_type": "stream",
       "stream": "stdout",
       "text": [
        "Weighted 0.39110243913 L2 8.16627997837\n"
       ]
      }
     ],
     "prompt_number": 229
    },
    {
     "cell_type": "code",
     "collapsed": false,
     "input": [
      "## color average, flow intensity and complement diff on 10x10 grid wrong flow\n",
      "print \"Weighted\", np.sum(np.sqrt((np.sqrt(np.dot(X.T, sio.loadmat(phiSaveLoc)['phi_MAP']))-w)**2))/X.shape[-1], \n",
      "print \"L2\", np.sum(np.sqrt((np.sqrt(np.dot(X.T, np.ones_like(sio.loadmat(phiSaveLoc)['phi_MAP'])))-w)**2))/X.shape[-1]"
     ],
     "language": "python",
     "metadata": {},
     "outputs": [
      {
       "output_type": "stream",
       "stream": "stdout",
       "text": [
        "Weighted 0.410258179741 L2 7.0904964297\n"
       ]
      }
     ],
     "prompt_number": 91
    },
    {
     "cell_type": "code",
     "collapsed": false,
     "input": [
      "## color average, flow intensity and complement diff on 10x10 grid with sigmoid\n",
      "print \"Weighted\", np.sum(np.sqrt((np.sqrt(np.dot(X.T, sio.loadmat(phiSaveLoc)['phi_MAP']))-w)**2))/X.shape[-1], \n",
      "print \"L2\", np.sum(np.sqrt((np.sqrt(np.dot(X.T, np.ones_like(sio.loadmat(phiSaveLoc)['phi_MAP'])))-w)**2))/X.shape[-1]"
     ],
     "language": "python",
     "metadata": {},
     "outputs": [
      {
       "output_type": "stream",
       "stream": "stdout",
       "text": [
        "Weighted 0.471754378802 L2 11.0327986382\n"
       ]
      }
     ],
     "prompt_number": 215
    },
    {
     "cell_type": "code",
     "collapsed": false,
     "input": [
      "## color average, flow intensity and complement diff on 10x10 grid with less steep sigmoid\n",
      "print \"Weighted\", np.sum(np.sqrt((np.sqrt(np.dot(X.T, sio.loadmat(phiSaveLoc)['phi_MAP']))-w)**2))/X.shape[-1], \n",
      "print \"L2\", np.sum(np.sqrt((np.sqrt(np.dot(X.T, np.ones_like(sio.loadmat(phiSaveLoc)['phi_MAP'])))-w)**2))/X.shape[-1]"
     ],
     "language": "python",
     "metadata": {},
     "outputs": [
      {
       "output_type": "stream",
       "stream": "stdout",
       "text": [
        "Weighted 0.471767909212 L2 10.9910567005\n"
       ]
      }
     ],
     "prompt_number": 283
    },
    {
     "cell_type": "code",
     "collapsed": false,
     "input": [
      "## color average, flow intensity and complement diff on 10x10 grid with even less steep sigmoid\n",
      "print \"Weighted\", np.sum(np.sqrt((np.sqrt(np.dot(X.T, sio.loadmat(phiSaveLoc)['phi_MAP']))-w)**2))/X.shape[-1], \n",
      "print \"L2\", np.sum(np.sqrt((np.sqrt(np.dot(X.T, np.ones_like(sio.loadmat(phiSaveLoc)['phi_MAP'])))-w)**2))/X.shape[-1]"
     ],
     "language": "python",
     "metadata": {},
     "outputs": [
      {
       "output_type": "stream",
       "stream": "stdout",
       "text": [
        "Weighted 0.471767375268 L2 10.9934003477\n"
       ]
      }
     ],
     "prompt_number": 289
    },
    {
     "cell_type": "code",
     "collapsed": false,
     "input": [
      "## color average, flow intensity and complement diff on 10x10 grid no sigmoid\n",
      "print \"Weighted\", np.sum(np.sqrt((np.sqrt(np.dot(X.T, sio.loadmat(phiSaveLoc)['phi_MAP']))-w)**2))/X.shape[-1], \n",
      "print \"L2\", np.sum(np.sqrt((np.sqrt(np.dot(X.T, np.ones_like(sio.loadmat(phiSaveLoc)['phi_MAP'])))-w)**2))/X.shape[-1]"
     ],
     "language": "python",
     "metadata": {},
     "outputs": [
      {
       "output_type": "stream",
       "stream": "stdout",
       "text": [
        "Weighted 0.461177395055 L2 10.8438013817\n"
       ]
      }
     ],
     "prompt_number": 265
    },
    {
     "cell_type": "code",
     "collapsed": false,
     "input": [
      "figure(); plot(np.average(goodExamplesData[np.prod(gridSize):2*np.prod(gridSize), goodPairsToUse], axis=1))\n",
      "figure(); plot(np.average(badExamplesData[np.prod(gridSize):2*np.prod(gridSize), badPairsToUse], axis=1))\n",
      "\n",
      "figure(); plot(2.0/(1.0+np.exp(-np.average(goodExamplesData[np.prod(gridSize):2*np.prod(gridSize), goodPairsToUse], axis=1))))\n",
      "figure(); plot(2.0/(1.0+np.exp(-np.average(badExamplesData[np.prod(gridSize):2*np.prod(gridSize), badPairsToUse], axis=1))))"
     ],
     "language": "python",
     "metadata": {},
     "outputs": [
      {
       "output_type": "stream",
       "stream": "stderr",
       "text": [
        "/usr/lib/python2.7/dist-packages/matplotlib/pyplot.py:424: RuntimeWarning: More than 20 figures have been opened. Figures created through the pyplot interface (`matplotlib.pyplot.figure`) are retained until explicitly closed and may consume too much memory. (To control this warning, see the rcParam `figure.max_open_warning`).\n",
        "  max_open_warning, RuntimeWarning)\n"
       ]
      },
      {
       "metadata": {},
       "output_type": "pyout",
       "prompt_number": 275,
       "text": [
        "[<matplotlib.lines.Line2D at 0x7f503ac67ed0>]"
       ]
      }
     ],
     "prompt_number": 275
    },
    {
     "cell_type": "code",
     "collapsed": false,
     "input": [
      "## printing data stats\n",
      "print \"good data stats: \"\n",
      "print \"color diff range [\", np.min(goodExamplesData[:prod(gridSize), :]), \",\", np.max(goodExamplesData[:prod(gridSize), :]), \"]\"\n",
      "print \"flow average range [\", np.min(goodExamplesData[prod(gridSize):2*prod(gridSize), :]), \",\", np.max(goodExamplesData[prod(gridSize):2*prod(gridSize), :]), \"]\"\n",
      "print \"color complement diff range [\", np.min(goodExamplesData[2*prod(gridSize):3*prod(gridSize), :]), \",\", np.max(goodExamplesData[2*prod(gridSize):3*prod(gridSize), :]), \"]\"\n",
      "print\n",
      "print \"bad data stats: \"\n",
      "print \"color diff range [\", np.min(badExamplesData[:prod(gridSize), :]), \",\", np.max(badExamplesData[:prod(gridSize), :]), \"]\"\n",
      "print \"flow average range [\", np.min(badExamplesData[prod(gridSize):2*prod(gridSize), :]), \",\", np.max(badExamplesData[prod(gridSize):2*prod(gridSize), :]), \"]\"\n",
      "print \"color complement diff range [\", np.min(badExamplesData[2*prod(gridSize):3*prod(gridSize), :]), \",\", np.max(badExamplesData[2*prod(gridSize):3*prod(gridSize), :]), \"]\"\n",
      "print\n",
      "\n",
      "## showing the regressed weights and 1 example per label and how they look like after weighting\n",
      "figure(); plot(sio.loadmat(phiSaveLoc)['phi_MAP'])\n",
      "reshapedWeights = sio.loadmat(phiSaveLoc)['phi_MAP'][:prod(gridSize)].reshape(gridSize)\n",
      "reshapedWeights = np.concatenate((reshapedWeights, sio.loadmat(phiSaveLoc)['phi_MAP'][prod(gridSize):2*prod(gridSize)].reshape(gridSize)), axis=-1)\n",
      "reshapedWeights = np.concatenate((reshapedWeights, sio.loadmat(phiSaveLoc)['phi_MAP'][2*prod(gridSize):3*prod(gridSize)].reshape(gridSize)), axis=-1)\n",
      "gwv.showCustomGraph(reshapedWeights, showColorbar=True)\n",
      "\n",
      "goodExample = goodExamplesData[:prod(gridSize), 0].reshape(gridSize)\n",
      "goodExample = np.concatenate((goodExample, goodExamplesData[prod(gridSize):2*prod(gridSize), 0].reshape(gridSize)), axis=-1)\n",
      "goodExample = np.concatenate((goodExample, goodExamplesData[2*prod(gridSize):3*prod(gridSize), 0].reshape(gridSize)), axis=-1)\n",
      "gwv.showCustomGraph(goodExample, showColorbar=True)\n",
      "gwv.showCustomGraph(goodExample*reshapedWeights, showColorbar=True)\n",
      "print \"good example weighted distance\", np.sum(goodExample*reshapedWeights)\n",
      "\n",
      "badExample = badExamplesData[:prod(gridSize), 0].reshape(gridSize)\n",
      "badExample = np.concatenate((badExample, badExamplesData[prod(gridSize):2*prod(gridSize), 0].reshape(gridSize)), axis=-1)\n",
      "badExample = np.concatenate((badExample, badExamplesData[2*prod(gridSize):3*prod(gridSize), 0].reshape(gridSize)), axis=-1)\n",
      "gwv.showCustomGraph(badExample, showColorbar=True)\n",
      "gwv.showCustomGraph(badExample*reshapedWeights, showColorbar=True)\n",
      "print \"bad example weighted distance\", np.sum(badExample*reshapedWeights)"
     ],
     "language": "python",
     "metadata": {},
     "outputs": [
      {
       "output_type": "stream",
       "stream": "stdout",
       "text": [
        "good data stats: \n",
        "color diff range [ 3.17052155197e-07 , 0.0793031677604 ]\n",
        "flow average range [ 1.6349202427e-05 , 27.2223590759 ]\n",
        "color complement diff range [ 0.000661351892632 , 1.37811946869 ]\n",
        "\n",
        "bad data stats: \n",
        "color diff range [ 8.29347754916e-07 , 0.128467589617 ]\n",
        "flow average range [ 3.13548581779e-05 , 21.7536301953 ]\n",
        "color complement diff range [ 0.00505392625928 , 1.36785793304 ]\n",
        "\n",
        "good example weighted distance"
       ]
      },
      {
       "output_type": "stream",
       "stream": "stdout",
       "text": [
        " 0.208847713824\n",
        "bad example weighted distance"
       ]
      },
      {
       "output_type": "stream",
       "stream": "stdout",
       "text": [
        " 0.86422388728\n"
       ]
      }
     ],
     "prompt_number": 263
    },
    {
     "cell_type": "code",
     "collapsed": false,
     "input": [
      "## printing data stats\n",
      "print \"good data stats: \"\n",
      "print \"color diff range [\", np.min(goodExamplesData[:prod(gridSize), :]), \",\", np.max(goodExamplesData[:prod(gridSize), :]), \"]\"\n",
      "print \"flow average range [\", np.min(goodExamplesData[prod(gridSize):2*prod(gridSize), :]), \",\", np.max(goodExamplesData[prod(gridSize):2*prod(gridSize), :]), \"]\"\n",
      "print \"color complement diff range [\", np.min(goodExamplesData[2*prod(gridSize):3*prod(gridSize), :]), \",\", np.max(goodExamplesData[2*prod(gridSize):3*prod(gridSize), :]), \"]\"\n",
      "print\n",
      "print \"bad data stats: \"\n",
      "print \"color diff range [\", np.min(badExamplesData[:prod(gridSize), :]), \",\", np.max(badExamplesData[:prod(gridSize), :]), \"]\"\n",
      "print \"flow average range [\", np.min(badExamplesData[prod(gridSize):2*prod(gridSize), :]), \",\", np.max(badExamplesData[prod(gridSize):2*prod(gridSize), :]), \"]\"\n",
      "print \"color complement diff range [\", np.min(badExamplesData[2*prod(gridSize):3*prod(gridSize), :]), \",\", np.max(badExamplesData[2*prod(gridSize):3*prod(gridSize), :]), \"]\"\n",
      "print\n",
      "\n",
      "## showing the regressed weights and 1 example per label and how they look like after weighting\n",
      "figure(); plot(sio.loadmat(phiSaveLoc)['phi_MAP'])\n",
      "reshapedWeights = sio.loadmat(phiSaveLoc)['phi_MAP'][:prod(gridSize)].reshape(gridSize)\n",
      "reshapedWeights = np.concatenate((reshapedWeights, sio.loadmat(phiSaveLoc)['phi_MAP'][prod(gridSize):2*prod(gridSize)].reshape(gridSize)), axis=-1)\n",
      "reshapedWeights = np.concatenate((reshapedWeights, sio.loadmat(phiSaveLoc)['phi_MAP'][2*prod(gridSize):3*prod(gridSize)].reshape(gridSize)), axis=-1)\n",
      "gwv.showCustomGraph(reshapedWeights, showColorbar=True)\n",
      "\n",
      "goodExample = goodExamplesData[:prod(gridSize), 0].reshape(gridSize)\n",
      "goodExample = np.concatenate((goodExample, goodExamplesData[prod(gridSize):2*prod(gridSize), 0].reshape(gridSize)), axis=-1)\n",
      "goodExample = np.concatenate((goodExample, goodExamplesData[2*prod(gridSize):3*prod(gridSize), 0].reshape(gridSize)), axis=-1)\n",
      "gwv.showCustomGraph(goodExample, showColorbar=True)\n",
      "gwv.showCustomGraph(goodExample*reshapedWeights, showColorbar=True)\n",
      "print \"good example weighted distance\", np.sum(goodExample*reshapedWeights)\n",
      "\n",
      "badExample = badExamplesData[:prod(gridSize), 0].reshape(gridSize)\n",
      "badExample = np.concatenate((badExample, badExamplesData[prod(gridSize):2*prod(gridSize), 0].reshape(gridSize)), axis=-1)\n",
      "badExample = np.concatenate((badExample, badExamplesData[2*prod(gridSize):3*prod(gridSize), 0].reshape(gridSize)), axis=-1)\n",
      "gwv.showCustomGraph(badExample, showColorbar=True)\n",
      "gwv.showCustomGraph(badExample*reshapedWeights, showColorbar=True)\n",
      "print \"bad example weighted distance\", np.sum(badExample*reshapedWeights)"
     ],
     "language": "python",
     "metadata": {},
     "outputs": [
      {
       "output_type": "stream",
       "stream": "stdout",
       "text": [
        "good data stats: \n",
        "color diff range [ 3.17052155197e-07 , 0.0793031677604 ]\n",
        "flow average range [ 0.147672736044 , 1.29353767527 ]\n",
        "color complement diff range [ 0.000661351892632 , 1.37811946869 ]\n",
        "\n",
        "bad data stats: \n",
        "color diff range [ 8.29347754916e-07 , 0.128467589617 ]\n",
        "flow average range [ 0.156212342901 , 1.30572081536 ]\n",
        "color complement diff range [ 0.00505392625928 , 1.36785793304 ]\n",
        "\n",
        "good example weighted distance"
       ]
      },
      {
       "output_type": "stream",
       "stream": "stdout",
       "text": [
        " 0.218189738319\n",
        "bad example weighted distance"
       ]
      },
      {
       "output_type": "stream",
       "stream": "stdout",
       "text": [
        " 0.468056653858\n"
       ]
      }
     ],
     "prompt_number": 269
    },
    {
     "cell_type": "code",
     "collapsed": false,
     "input": [
      "## printing data stats\n",
      "print \"good data stats: \"\n",
      "print \"color diff range [\", np.min(goodExamplesData[:prod(gridSize), :]), \",\", np.max(goodExamplesData[:prod(gridSize), :]), \"]\"\n",
      "print \"flow average range [\", np.min(goodExamplesData[prod(gridSize):2*prod(gridSize), :]), \",\", np.max(goodExamplesData[prod(gridSize):2*prod(gridSize), :]), \"]\"\n",
      "print \"color complement diff range [\", np.min(goodExamplesData[2*prod(gridSize):3*prod(gridSize), :]), \",\", np.max(goodExamplesData[2*prod(gridSize):3*prod(gridSize), :]), \"]\"\n",
      "print\n",
      "print \"bad data stats: \"\n",
      "print \"color diff range [\", np.min(badExamplesData[:prod(gridSize), :]), \",\", np.max(badExamplesData[:prod(gridSize), :]), \"]\"\n",
      "print \"flow average range [\", np.min(badExamplesData[prod(gridSize):2*prod(gridSize), :]), \",\", np.max(badExamplesData[prod(gridSize):2*prod(gridSize), :]), \"]\"\n",
      "print \"color complement diff range [\", np.min(badExamplesData[2*prod(gridSize):3*prod(gridSize), :]), \",\", np.max(badExamplesData[2*prod(gridSize):3*prod(gridSize), :]), \"]\"\n",
      "print\n",
      "\n",
      "## showing the regressed weights and 1 example per label and how they look like after weighting\n",
      "figure(); plot(sio.loadmat(phiSaveLoc)['phi_MAP'])\n",
      "reshapedWeights = sio.loadmat(phiSaveLoc)['phi_MAP'][:prod(gridSize)].reshape(gridSize)\n",
      "reshapedWeights = np.concatenate((reshapedWeights, sio.loadmat(phiSaveLoc)['phi_MAP'][prod(gridSize):2*prod(gridSize)].reshape(gridSize)), axis=-1)\n",
      "reshapedWeights = np.concatenate((reshapedWeights, sio.loadmat(phiSaveLoc)['phi_MAP'][2*prod(gridSize):3*prod(gridSize)].reshape(gridSize)), axis=-1)\n",
      "gwv.showCustomGraph(reshapedWeights, showColorbar=True)\n",
      "\n",
      "goodExample = goodExamplesData[:prod(gridSize), 0].reshape(gridSize)\n",
      "goodExample = np.concatenate((goodExample, goodExamplesData[prod(gridSize):2*prod(gridSize), 0].reshape(gridSize)), axis=-1)\n",
      "goodExample = np.concatenate((goodExample, goodExamplesData[2*prod(gridSize):3*prod(gridSize), 0].reshape(gridSize)), axis=-1)\n",
      "gwv.showCustomGraph(goodExample, showColorbar=True)\n",
      "gwv.showCustomGraph(goodExample*reshapedWeights, showColorbar=True)\n",
      "print \"good example weighted distance\", np.sum(goodExample*reshapedWeights)\n",
      "\n",
      "badExample = badExamplesData[:prod(gridSize), 0].reshape(gridSize)\n",
      "badExample = np.concatenate((badExample, badExamplesData[prod(gridSize):2*prod(gridSize), 0].reshape(gridSize)), axis=-1)\n",
      "badExample = np.concatenate((badExample, badExamplesData[2*prod(gridSize):3*prod(gridSize), 0].reshape(gridSize)), axis=-1)\n",
      "gwv.showCustomGraph(badExample, showColorbar=True)\n",
      "gwv.showCustomGraph(badExample*reshapedWeights, showColorbar=True)\n",
      "print \"bad example weighted distance\", np.sum(badExample*reshapedWeights)"
     ],
     "language": "python",
     "metadata": {},
     "outputs": [
      {
       "output_type": "stream",
       "stream": "stdout",
       "text": [
        "good data stats: \n",
        "color diff range [ 3.17052155197e-07 , 0.0793031677604 ]\n",
        "flow average range [ 0.54386323025 , 0.864536106116 ]\n",
        "color complement diff range [ 0.000661351892632 , 1.37811946869 ]\n",
        "\n",
        "bad data stats: \n",
        "color diff range [ 8.29347754916e-07 , 0.128467589617 ]\n",
        "flow average range [ 0.584923291731 , 0.949887949419 ]\n",
        "color complement diff range [ 0.00505392625928 , 1.36785793304 ]\n",
        "\n",
        "good example weighted distance"
       ]
      },
      {
       "output_type": "stream",
       "stream": "stdout",
       "text": [
        " 0.219002841476\n",
        "bad example weighted distance"
       ]
      },
      {
       "output_type": "stream",
       "stream": "stdout",
       "text": [
        " 0.459963805169\n"
       ]
      }
     ],
     "prompt_number": 285
    },
    {
     "cell_type": "code",
     "collapsed": false,
     "input": [
      "## printing data stats\n",
      "print \"good data stats: \"\n",
      "print \"color diff range [\", np.min(goodExamplesData[:prod(gridSize), :]), \",\", np.max(goodExamplesData[:prod(gridSize), :]), \"]\"\n",
      "print \"flow average range [\", np.min(goodExamplesData[prod(gridSize):2*prod(gridSize), :]), \",\", np.max(goodExamplesData[prod(gridSize):2*prod(gridSize), :]), \"]\"\n",
      "print \"color complement diff range [\", np.min(goodExamplesData[2*prod(gridSize):3*prod(gridSize), :]), \",\", np.max(goodExamplesData[2*prod(gridSize):3*prod(gridSize), :]), \"]\"\n",
      "print\n",
      "print \"bad data stats: \"\n",
      "print \"color diff range [\", np.min(badExamplesData[:prod(gridSize), :]), \",\", np.max(badExamplesData[:prod(gridSize), :]), \"]\"\n",
      "print \"flow average range [\", np.min(badExamplesData[prod(gridSize):2*prod(gridSize), :]), \",\", np.max(badExamplesData[prod(gridSize):2*prod(gridSize), :]), \"]\"\n",
      "print \"color complement diff range [\", np.min(badExamplesData[2*prod(gridSize):3*prod(gridSize), :]), \",\", np.max(badExamplesData[2*prod(gridSize):3*prod(gridSize), :]), \"]\"\n",
      "print\n",
      "\n",
      "## showing the regressed weights and 1 example per label and how they look like after weighting\n",
      "figure(); plot(sio.loadmat(phiSaveLoc)['phi_MAP'])\n",
      "reshapedWeights = sio.loadmat(phiSaveLoc)['phi_MAP'][:prod(gridSize)].reshape(gridSize)\n",
      "reshapedWeights = np.concatenate((reshapedWeights, sio.loadmat(phiSaveLoc)['phi_MAP'][prod(gridSize):2*prod(gridSize)].reshape(gridSize)), axis=-1)\n",
      "reshapedWeights = np.concatenate((reshapedWeights, sio.loadmat(phiSaveLoc)['phi_MAP'][2*prod(gridSize):3*prod(gridSize)].reshape(gridSize)), axis=-1)\n",
      "gwv.showCustomGraph(reshapedWeights, showColorbar=True)\n",
      "\n",
      "goodExample = goodExamplesData[:prod(gridSize), 0].reshape(gridSize)\n",
      "goodExample = np.concatenate((goodExample, goodExamplesData[prod(gridSize):2*prod(gridSize), 0].reshape(gridSize)), axis=-1)\n",
      "goodExample = np.concatenate((goodExample, goodExamplesData[2*prod(gridSize):3*prod(gridSize), 0].reshape(gridSize)), axis=-1)\n",
      "gwv.showCustomGraph(goodExample, showColorbar=True)\n",
      "gwv.showCustomGraph(goodExample*reshapedWeights, showColorbar=True)\n",
      "print \"good example weighted distance\", np.sum(goodExample*reshapedWeights)\n",
      "\n",
      "badExample = badExamplesData[:prod(gridSize), 0].reshape(gridSize)\n",
      "badExample = np.concatenate((badExample, badExamplesData[prod(gridSize):2*prod(gridSize), 0].reshape(gridSize)), axis=-1)\n",
      "badExample = np.concatenate((badExample, badExamplesData[2*prod(gridSize):3*prod(gridSize), 0].reshape(gridSize)), axis=-1)\n",
      "gwv.showCustomGraph(badExample, showColorbar=True)\n",
      "gwv.showCustomGraph(badExample*reshapedWeights, showColorbar=True)\n",
      "print \"bad example weighted distance\", np.sum(badExample*reshapedWeights)"
     ],
     "language": "python",
     "metadata": {},
     "outputs": [
      {
       "output_type": "stream",
       "stream": "stdout",
       "text": [
        "good data stats: \n",
        "color diff range [ 3.17052155197e-07 , 0.0793031677604 ]\n",
        "flow average range [ 0.684988760106 , 0.725859294521 ]\n",
        "color complement diff range [ 0.000661351892632 , 1.37811946869 ]\n",
        "\n",
        "bad data stats: \n",
        "color diff range [ 8.29347754916e-07 , 0.128467589617 ]\n",
        "flow average range [ 0.692678235749 , 0.733252556085 ]\n",
        "color complement diff range [ 0.00505392625928 , 1.36785793304 ]\n",
        "\n",
        "good example weighted distance"
       ]
      },
      {
       "output_type": "stream",
       "stream": "stdout",
       "text": [
        " 0.219005360767\n",
        "bad example weighted distance"
       ]
      },
      {
       "output_type": "stream",
       "stream": "stdout",
       "text": [
        " 0.45950382756\n"
       ]
      }
     ],
     "prompt_number": 290
    },
    {
     "cell_type": "code",
     "collapsed": false,
     "input": [
      "## printing data stats\n",
      "print \"good data stats: \"\n",
      "print \"color diff range [\", np.min(goodExamplesData[:prod(gridSize), :]), \",\", np.max(goodExamplesData[:prod(gridSize), :]), \"]\"\n",
      "print \"flow average range [\", np.min(goodExamplesData[prod(gridSize):2*prod(gridSize), :]), \",\", np.max(goodExamplesData[prod(gridSize):2*prod(gridSize), :]), \"]\"\n",
      "print \"color complement diff range [\", np.min(goodExamplesData[2*prod(gridSize):3*prod(gridSize), :]), \",\", np.max(goodExamplesData[2*prod(gridSize):3*prod(gridSize), :]), \"]\"\n",
      "print\n",
      "print \"bad data stats: \"\n",
      "print \"color diff range [\", np.min(badExamplesData[:prod(gridSize), :]), \",\", np.max(badExamplesData[:prod(gridSize), :]), \"]\"\n",
      "print \"flow average range [\", np.min(badExamplesData[prod(gridSize):2*prod(gridSize), :]), \",\", np.max(badExamplesData[prod(gridSize):2*prod(gridSize), :]), \"]\"\n",
      "print \"color complement diff range [\", np.min(badExamplesData[2*prod(gridSize):3*prod(gridSize), :]), \",\", np.max(badExamplesData[2*prod(gridSize):3*prod(gridSize), :]), \"]\"\n",
      "print\n",
      "\n",
      "## showing the regressed weights and 1 example per label and how they look like after weighting\n",
      "figure(); plot(sio.loadmat(phiSaveLoc)['phi_MAP'])\n",
      "reshapedWeights = sio.loadmat(phiSaveLoc)['phi_MAP'][:prod(gridSize)].reshape(gridSize)\n",
      "reshapedWeights = np.concatenate((reshapedWeights, sio.loadmat(phiSaveLoc)['phi_MAP'][prod(gridSize):2*prod(gridSize)].reshape(gridSize)), axis=-1)\n",
      "reshapedWeights = np.concatenate((reshapedWeights, sio.loadmat(phiSaveLoc)['phi_MAP'][2*prod(gridSize):3*prod(gridSize)].reshape(gridSize)), axis=-1)\n",
      "gwv.showCustomGraph(reshapedWeights, showColorbar=True)\n",
      "\n",
      "goodExample = goodExamplesData[:prod(gridSize), 0].reshape(gridSize)\n",
      "goodExample = np.concatenate((goodExample, goodExamplesData[prod(gridSize):2*prod(gridSize), 0].reshape(gridSize)), axis=-1)\n",
      "goodExample = np.concatenate((goodExample, goodExamplesData[2*prod(gridSize):3*prod(gridSize), 0].reshape(gridSize)), axis=-1)\n",
      "gwv.showCustomGraph(goodExample, showColorbar=True)\n",
      "gwv.showCustomGraph(goodExample*reshapedWeights, showColorbar=True)\n",
      "print \"good example weighted distance\", np.sum(goodExample*reshapedWeights)\n",
      "\n",
      "badExample = badExamplesData[:prod(gridSize), 0].reshape(gridSize)\n",
      "badExample = np.concatenate((badExample, badExamplesData[prod(gridSize):2*prod(gridSize), 0].reshape(gridSize)), axis=-1)\n",
      "badExample = np.concatenate((badExample, badExamplesData[2*prod(gridSize):3*prod(gridSize), 0].reshape(gridSize)), axis=-1)\n",
      "gwv.showCustomGraph(badExample, showColorbar=True)\n",
      "gwv.showCustomGraph(badExample*reshapedWeights, showColorbar=True)\n",
      "print \"bad example weighted distance\", np.sum(badExample*reshapedWeights)"
     ],
     "language": "python",
     "metadata": {},
     "outputs": [
      {
       "output_type": "stream",
       "stream": "stdout",
       "text": [
        "good data stats: \n",
        "color diff range [ 3.17052155197e-07 , 0.0793031677604 ]\n",
        "flow average range [ 0.0601511052013 , 1.35384455018 ]\n",
        "color complement diff range [ 0.000661351892632 , 1.37811946869 ]\n",
        "\n",
        "bad data stats: \n",
        "color diff range [ 8.29347754916e-07 , 0.128467589617 ]\n",
        "flow average range [ 0.0666648148633 , 1.39844765519 ]\n",
        "color complement diff range [ 0.00505392625928 , 1.36785793304 ]\n",
        "\n",
        "good example weighted distance"
       ]
      },
      {
       "output_type": "stream",
       "stream": "stdout",
       "text": [
        " 0.218901738707\n",
        "bad example weighted distance"
       ]
      },
      {
       "output_type": "stream",
       "stream": "stdout",
       "text": [
        " 0.485749551992\n"
       ]
      }
     ],
     "prompt_number": 295
    },
    {
     "cell_type": "code",
     "collapsed": false,
     "input": [
      "## printing data stats\n",
      "print \"good data stats: \"\n",
      "print \"color diff range [\", np.min(goodExamplesData[:prod(gridSize), :]), \",\", np.max(goodExamplesData[:prod(gridSize), :]), \"]\"\n",
      "print \"flow average range [\", np.min(goodExamplesData[prod(gridSize):2*prod(gridSize), :]), \",\", np.max(goodExamplesData[prod(gridSize):2*prod(gridSize), :]), \"]\"\n",
      "print \"color complement diff range [\", np.min(goodExamplesData[2*prod(gridSize):3*prod(gridSize), :]), \",\", np.max(goodExamplesData[2*prod(gridSize):3*prod(gridSize), :]), \"]\"\n",
      "print\n",
      "print \"bad data stats: \"\n",
      "print \"color diff range [\", np.min(badExamplesData[:prod(gridSize), :]), \",\", np.max(badExamplesData[:prod(gridSize), :]), \"]\"\n",
      "print \"flow average range [\", np.min(badExamplesData[prod(gridSize):2*prod(gridSize), :]), \",\", np.max(badExamplesData[prod(gridSize):2*prod(gridSize), :]), \"]\"\n",
      "print \"color complement diff range [\", np.min(badExamplesData[2*prod(gridSize):3*prod(gridSize), :]), \",\", np.max(badExamplesData[2*prod(gridSize):3*prod(gridSize), :]), \"]\"\n",
      "print\n",
      "\n",
      "## showing the regressed weights and 1 example per label and how they look like after weighting\n",
      "figure(); plot(sio.loadmat(phiSaveLoc)['phi_MAP'])\n",
      "reshapedWeights = sio.loadmat(phiSaveLoc)['phi_MAP'][:prod(gridSize)].reshape(gridSize)\n",
      "reshapedWeights = np.concatenate((reshapedWeights, sio.loadmat(phiSaveLoc)['phi_MAP'][prod(gridSize):2*prod(gridSize)].reshape(gridSize)), axis=-1)\n",
      "reshapedWeights = np.concatenate((reshapedWeights, sio.loadmat(phiSaveLoc)['phi_MAP'][2*prod(gridSize):3*prod(gridSize)].reshape(gridSize)), axis=-1)\n",
      "gwv.showCustomGraph(reshapedWeights, showColorbar=True)\n",
      "\n",
      "goodExample = goodExamplesData[:prod(gridSize), 0].reshape(gridSize)\n",
      "goodExample = np.concatenate((goodExample, goodExamplesData[prod(gridSize):2*prod(gridSize), 0].reshape(gridSize)), axis=-1)\n",
      "goodExample = np.concatenate((goodExample, goodExamplesData[2*prod(gridSize):3*prod(gridSize), 0].reshape(gridSize)), axis=-1)\n",
      "gwv.showCustomGraph(goodExample, showColorbar=True)\n",
      "gwv.showCustomGraph(goodExample*reshapedWeights, showColorbar=True)\n",
      "print \"good example weighted distance\", np.sum(goodExample*reshapedWeights)\n",
      "\n",
      "badExample = badExamplesData[:prod(gridSize), 0].reshape(gridSize)\n",
      "badExample = np.concatenate((badExample, badExamplesData[prod(gridSize):2*prod(gridSize), 0].reshape(gridSize)), axis=-1)\n",
      "badExample = np.concatenate((badExample, badExamplesData[2*prod(gridSize):3*prod(gridSize), 0].reshape(gridSize)), axis=-1)\n",
      "gwv.showCustomGraph(badExample, showColorbar=True)\n",
      "gwv.showCustomGraph(badExample*reshapedWeights, showColorbar=True)\n",
      "print \"bad example weighted distance\", np.sum(badExample*reshapedWeights)"
     ],
     "language": "python",
     "metadata": {},
     "outputs": [
      {
       "output_type": "stream",
       "stream": "stdout",
       "text": [
        "good data stats: \n",
        "color diff range [ 3.17052155197e-07 , 0.0793031677604 ]\n",
        "flow average range [ 1.47672736044 , 12.9353767527 ]\n",
        "color complement diff range [ 0.000661351892632 , 1.37811946869 ]\n",
        "\n",
        "bad data stats: \n",
        "color diff range [ 8.29347754916e-07 , 0.128467589617 ]\n",
        "flow average range [ 1.56212342901 , 13.0572081536 ]\n",
        "color complement diff range [ 0.00505392625928 , 1.36785793304 ]\n",
        "\n",
        "good example weighted distance"
       ]
      },
      {
       "output_type": "stream",
       "stream": "stdout",
       "text": [
        " 0.218247680856\n",
        "bad example weighted distance"
       ]
      },
      {
       "output_type": "stream",
       "stream": "stdout",
       "text": [
        " 0.468076037083\n"
       ]
      }
     ],
     "prompt_number": 300
    },
    {
     "cell_type": "code",
     "collapsed": false,
     "input": [
      "sigma = 1.0\n",
      "mu = 3.0\n",
      "samples = np.random.multivariate_normal(np.array([mu, mu]), np.array([[sigma, 0.0], [0.0, sigma]]), 50000)\n",
      "figure(); scatter(samples[:, 0], samples[:, 1], c=sp.stats.multivariate_normal.pdf(samples, np.array([mu, mu]), np.array([[sigma, 0.0], [0.0, sigma]])))\n",
      "# xlim([-10, 10])\n",
      "# ylim([-10, 10])\n",
      "figure(); plot(np.arange(-6, 6, 0.1), sp.stats.multivariate_normal.pdf(np.arange(-6, 6, 0.1), np.array([mu]), np.array([sigma])))\n"
     ],
     "language": "python",
     "metadata": {},
     "outputs": [
      {
       "metadata": {},
       "output_type": "pyout",
       "prompt_number": 351,
       "text": [
        "[<matplotlib.lines.Line2D at 0x7f5037f48390>]"
       ]
      }
     ],
     "prompt_number": 351
    },
    {
     "cell_type": "code",
     "collapsed": false,
     "input": [
      "## find \"how much left-movement there is\" between two frames (low numbers means more right movement)\n",
      "frame1 = np.array(Image.open(\"/media/ilisescu/Data1/PhD/data/splashes_water/frame-00165.png\"))\n",
      "frame2 = np.array(Image.open(\"/media/ilisescu/Data1/PhD/data/splashes_water/frame-00167.png\"))\n",
      "imageSize = frame1.shape[0:2]\n",
      "patchSize = np.array([32, 32])\n",
      "spacing = 16.0 ## how far away a patch is from the previous one\n",
      "\n",
      "movementSigma = 4.0\n",
      "numSamples = 500\n",
      "patchYs = np.arange(4.0*movementSigma, imageSize[0]-patchSize[0]-4.0*movementSigma, spacing)\n",
      "patchYs = patchYs.reshape((1, len(patchYs)))\n",
      "patchXs = np.arange(4.0*movementSigma, imageSize[1]-patchSize[1]-4.0*movementSigma, spacing)\n",
      "patchXs = patchXs.reshape((1, len(patchXs)))\n",
      "patchLocations = np.array(np.concatenate((patchYs.repeat(len(patchXs.T)),\n",
      "                                          patchXs.repeat(len(patchYs.T), axis=0).flatten())).reshape((2, len(patchXs.T)*len(patchYs.T))), int)\n",
      "\n",
      "print patchLocations.shape\n",
      "\n",
      "# figure(); imshow(frame1)\n",
      "scores = np.zeros(patchLocations.shape[-1])\n",
      "for i, loc in enumerate(patchLocations.T) : ## [:, [0, 1282, 2967]]\n",
      "#     print loc\n",
      "    ## changing the x-mean by - movementSigma as I want to go left\n",
      "    mean = np.array([loc[1]-2.0*movementSigma, loc[0]])\n",
      "    covariance = np.array([[movementSigma, 0.0], [0.0, movementSigma/10.0]])\n",
      "    ## samples contains (x, y) coords\n",
      "    samples = np.random.multivariate_normal(mean, covariance, numSamples)\n",
      "    weights = sp.stats.multivariate_normal.pdf(samples, mean, covariance)\n",
      "    weights /= np.sum(weights)\n",
      "#     print samples\n",
      "    ## displacedLocs contains (row, col) coords\n",
      "    displacedLocs = np.array(np.round(samples).T[::-1], int)\n",
      "    validLocs = np.negative(np.any([np.any(displacedLocs < 0, axis=0), displacedLocs[0, :] >= imageSize[0]-patchSize[0], displacedLocs[1, :] >= imageSize[1]-patchSize[1]], axis=0))\n",
      "    frame2Patches = [frame2[l[0]:l[0]+patchSize[0], l[1]:l[1]+patchSize[1]] for l in displacedLocs[:, validLocs].T]\n",
      "    frame1Patch = frame1[loc[0]:loc[0]+patchSize[0], loc[1]:loc[1]+patchSize[1], :].reshape((1, patchSize[0], patchSize[0], frame1.shape[-1])).repeat(len(frame2Patches), axis=0)\n",
      "    scores[i] = np.sum(np.sum(np.sqrt((frame1Patch.reshape((numSamples, np.prod(patchSize)*frame1.shape[-1]))/255.0-\n",
      "                                       np.array(frame2Patches).reshape((numSamples, np.prod(patchSize)*frame1.shape[-1]))/255.0)**2), axis=-1)*weights)\n",
      "\n",
      "    sys.stdout.write('\\r' + \"Done patch \" + np.string_(i) + \" of \" + np.string_(patchLocations.shape[-1]))\n",
      "    sys.stdout.flush()\n",
      "#     print np.all(validLocs)\n",
      "#     print displacedLocs[:, np.negative(validLocs)]\n",
      "#     figure(); imshow(frame1)\n",
      "#     scatter(samples[:, 0], samples[:, 1])#, c=sp.stats.multivariate_normal.pdf(samples, np.array([mu, mu]), np.array([[sigma, 0.0], [0.0, sigma]])))\n",
      "#     scatter(loc[1], loc[0], c='r')\n",
      "#     xlim([0, imageSize[1]])\n",
      "#     ylim([imageSize[0], 0])\n",
      "#     figure(); imshow(frame1[loc[0]:loc[0]+patchSize[0], loc[1]:loc[1]+patchSize[1], :])"
     ],
     "language": "python",
     "metadata": {},
     "outputs": [],
     "prompt_number": 9
    },
    {
     "cell_type": "code",
     "collapsed": false,
     "input": [
      "figure(); imshow(frame1)\n",
      "scatter(samples[:, 0], samples[:, 1])#, c=sp.stats.multivariate_normal.pdf(samples, np.array([mu, mu]), np.array([[sigma, 0.0], [0.0, sigma]])))\n",
      "scatter(loc[1], loc[0], c='r')\n",
      "xlim([0, imageSize[1]])\n",
      "ylim([imageSize[0], 0])\n",
      "figure(); imshow(frame1[loc[0]:loc[0]+patchSize[0], loc[1]:loc[1]+patchSize[1], :])"
     ],
     "language": "python",
     "metadata": {},
     "outputs": [
      {
       "metadata": {},
       "output_type": "pyout",
       "prompt_number": 721,
       "text": [
        "<matplotlib.image.AxesImage at 0x7f50395adc10>"
       ]
      }
     ],
     "prompt_number": 721
    },
    {
     "cell_type": "code",
     "collapsed": false,
     "input": [
      "# leftMovement = np.copy(scores)\n",
      "# rightMovement = np.copy(scores)\n",
      "bob = np.zeros(imageSize)\n",
      "bob[patchLocations[0, :], patchLocations[1, :]] = scores\n",
      "gwv.showCustomGraph(bob)"
     ],
     "language": "python",
     "metadata": {},
     "outputs": [],
     "prompt_number": 723
    },
    {
     "cell_type": "code",
     "collapsed": false,
     "input": [
      "print np.sum(leftMovement), np.sum(rightMovement)"
     ],
     "language": "python",
     "metadata": {},
     "outputs": [
      {
       "output_type": "stream",
       "stream": "stdout",
       "text": [
        "1925936.82662 1973435.63028\n"
       ]
      }
     ],
     "prompt_number": 714
    },
    {
     "cell_type": "code",
     "collapsed": false,
     "input": [
      "print displacedLocs\n",
      "patches = [frame2[l[0]:l[0]+patchSize[0], l[1]:l[1]+patchSize[1]] for l in displacedLocs[:, validLocs].T]\n",
      "# print np.array(patches).shape\n",
      "figure(); imshow(patches[0])\n",
      "figure(); imshow(patches[200])\n",
      "print displacedLocs[:, 0]\n",
      "print displacedLocs[:, 200]\n",
      "figure(); imshow(frame1[loc[0]:loc[0]+patchSize[0], loc[1]:loc[1]+patchSize[1], :])\n",
      "frame1Patch = frame1[loc[0]:loc[0]+patchSize[0], loc[1]:loc[1]+patchSize[1], :].reshape((1, patchSize[0], patchSize[0], frame1.shape[-1])).repeat(len(patches), axis=0)"
     ],
     "language": "python",
     "metadata": {},
     "outputs": [
      {
       "output_type": "stream",
       "stream": "stdout",
       "text": [
        "[[ 84  84  83  84  84  84  83  83  83  83  83  84  83  84  85  85  84  84\n",
        "   83  85  84  84  85  85  84  85  84  85  84  84  84  85  84  83  84  84\n",
        "   84  84  83  83  84  84  84  84  84  84  85  85  84  84  85  85  85  84\n",
        "   84  84  83  84  83  83  84  84  85  84  84  85  84  85  84  83  83  85\n",
        "   84  83  85  83  85  84  84  84  85  84  84  84  84  84  84  84  83  85\n",
        "   84  84  85  84  83  84  84  84  85  84  84  83  84  84  84  82  84  84\n",
        "   83  84  83  83  83  82  85  84  84  83  84  83  84  83  84  84  85  85\n",
        "   85  84  85  84  84  83  84  84  84  85  83  83  84  84  85  84  84  84\n",
        "   84  83  84  83  83  85  84  83  84  84  84  83  85  84  84  82  84  84\n",
        "   84  84  85  83  84  84  83  84  85  84  83  85  83  84  83  84  83  84\n",
        "   84  83  85  83  84  83  84  84  83  84  84  83  83  84  84  84  84  84\n",
        "   84  84  85  84  85  83  84  84  83  84  84  84  84  84  84  84  84  83\n",
        "   83  85  84  86  85  84  84  85  84  85  84  85  84  84  85  84  85  84\n",
        "   86  85  82  84  84  85  85  83  84  85  84  84  85  84  83  84  84  86\n",
        "   83  83  84  84  86  84  84  84  85  83  83  84  84  84  83  84  83  83\n",
        "   85  83  83  84  83  85  84  85  85  85  85  84  84  85  84  84  82  84\n",
        "   85  84  84  83  83  85  84  83  83  84  84  84  84  83  83  83  83  84\n",
        "   84  84  85  83  83  83  84  84  85  84  85  84  83  84  84  83  83  86\n",
        "   84  84  83  83  84  84  84  84  85  84  85  83  84  85  84  83  83  84\n",
        "   84  83  84  84  84  84  84  83  84  85  85  84  83  84  84  83  85  84\n",
        "   85  83  84  84  84  84  84  85  84  84  85  85  83  83  84  84  85  83\n",
        "   84  84  83  84  84  84  84  84  84  85  84  84  84  83  84  83  84  84\n",
        "   84  84  84  83  84  84  84  84  83  84  85  84  83  84  82  85  85  84\n",
        "   84  84  83  84  83  84  85  84  83  84  83  83  85  84  84  84  85  85\n",
        "   85  84  84  85  85  84  85  83  85  83  83  84  85  85  84  84  83  83\n",
        "   84  84  84  84  83  82  84  84  85  84  84  85  85  84  83  84  84  84\n",
        "   83  84  84  84  84  83  83  85  85  85  85  84  84  85  84  85  84  85\n",
        "   84  84  85  84  84  83  85  83  84  85  85  84  84  84]\n",
        " [453 451 450 451 453 451 454 454 452 449 454 451 447 448 451 452 453 451\n",
        "  452 453 450 453 452 452 453 450 453 452 451 451 454 451 450 450 453 449\n",
        "  453 452 456 454 452 454 454 454 451 452 450 453 449 454 450 454 454 448\n",
        "  452 452 451 452 449 451 453 453 456 456 452 452 449 453 452 449 454 451\n",
        "  452 451 451 455 452 448 451 452 453 452 453 451 450 452 450 454 449 454\n",
        "  455 455 453 453 451 451 453 456 451 455 453 455 449 452 454 452 455 449\n",
        "  452 450 456 450 455 451 451 452 454 454 451 452 453 454 452 451 453 452\n",
        "  452 451 447 454 455 451 452 453 453 453 453 452 448 450 453 451 453 452\n",
        "  450 452 448 452 453 452 455 452 448 453 451 453 453 457 452 453 450 452\n",
        "  451 452 455 451 451 454 455 451 451 450 453 452 449 453 456 450 452 453\n",
        "  451 451 451 451 455 452 451 453 448 454 453 451 454 452 456 450 450 455\n",
        "  453 447 452 452 450 454 454 453 455 452 453 449 451 454 448 451 452 451\n",
        "  452 455 452 454 453 454 449 454 451 454 448 454 454 450 449 449 453 451\n",
        "  451 453 451 448 455 451 450 453 453 450 449 450 452 449 450 452 455 453\n",
        "  451 451 452 450 449 452 452 455 451 452 453 450 453 449 451 451 449 451\n",
        "  453 453 455 449 452 450 452 449 456 453 451 451 451 451 449 454 451 451\n",
        "  453 452 451 451 453 452 452 453 453 453 454 453 454 450 451 452 454 452\n",
        "  451 453 451 451 455 451 449 454 453 455 453 448 450 456 451 455 451 452\n",
        "  454 449 454 454 451 448 453 452 453 451 452 453 454 453 451 449 449 451\n",
        "  451 451 446 453 453 454 451 453 452 454 455 450 453 454 450 455 448 451\n",
        "  455 449 453 456 451 454 451 451 453 454 450 451 450 451 453 452 454 451\n",
        "  453 453 453 453 450 447 452 454 453 451 454 449 453 454 449 451 454 451\n",
        "  451 453 453 451 451 454 452 451 452 449 452 454 454 452 451 452 454 453\n",
        "  451 458 451 452 452 450 450 455 451 452 451 450 452 449 453 451 454 451\n",
        "  453 451 452 449 449 456 452 452 448 456 451 453 452 452 452 452 452 452\n",
        "  455 455 451 453 451 452 452 453 452 452 453 453 453 449 450 454 455 453\n",
        "  453 449 451 450 448 451 453 455 453 453 454 451 451 449 452 451 449 454\n",
        "  451 453 451 448 452 448 452 449 452 451 451 452 452 454]]\n",
        "[ 84 453]"
       ]
      },
      {
       "output_type": "stream",
       "stream": "stdout",
       "text": [
        "\n",
        "[ 85 452]\n"
       ]
      }
     ],
     "prompt_number": 694
    },
    {
     "cell_type": "code",
     "collapsed": false,
     "input": [
      "print np.min(samples)\n",
      "tmp = np.random.randint(-2, 33, (2, 10))\n",
      "print tmp\n",
      "print np.any(tmp < 0, axis=0)\n",
      "print tmp[0, :] >= 32\n",
      "print tmp[1, :] >= 30\n",
      "print np.negative(np.any([np.any(tmp < 0, axis=0), tmp[0, :] >= 32, tmp[1, :] >= 30], axis=0))"
     ],
     "language": "python",
     "metadata": {},
     "outputs": [
      {
       "output_type": "stream",
       "stream": "stdout",
       "text": [
        "69.7999128531\n",
        "[[11 30 12 24 23  3 28  2 13 19]\n",
        " [19 16 -1 27 10 26 20 25 -2 31]]\n",
        "[False False  True False False False False False  True False]\n",
        "[False False False False False False False False False False]\n",
        "[False False False False False False False False False  True]\n",
        "[ True  True False  True  True  True  True  True False False]\n"
       ]
      }
     ],
     "prompt_number": 488
    },
    {
     "cell_type": "code",
     "collapsed": false,
     "input": [
      "idxs = np.mgrid[0:np.prod(gridSize)*3, 0:np.prod(gridSize)*3].reshape((2, (np.prod(gridSize)*3)**2))\n",
      "weightDists = np.zeros((3*np.prod(gridSize), 3*np.prod(gridSize)))\n",
      "weightDists[idxs[0, :], idxs[1, :]] = np.sqrt((sio.loadmat(phiSaveLoc)['phi_MAP'][idxs[0, :]]-sio.loadmat(phiSaveLoc)['phi_MAP'][idxs[1, :]])**2).flatten()\n",
      "gwv.showCustomGraph(weightDists)\n",
      "# noSigmoidWeights = np.copy(sio.loadmat(phiSaveLoc)['phi_MAP'])\n",
      "# noSigmoidWeightDists = np.copy(weightDists)"
     ],
     "language": "python",
     "metadata": {},
     "outputs": [],
     "prompt_number": 270
    },
    {
     "cell_type": "code",
     "collapsed": false,
     "input": [
      "gwv.showCustomGraph(weightDists[np.prod(gridSize):2*np.prod(gridSize), np.prod(gridSize):2*np.prod(gridSize)], showColorbar=True)\n",
      "gwv.showCustomGraph(noSigmoidWeightDists[np.prod(gridSize):2*np.prod(gridSize), np.prod(gridSize):2*np.prod(gridSize)], showColorbar=True)"
     ],
     "language": "python",
     "metadata": {},
     "outputs": [],
     "prompt_number": 273
    },
    {
     "cell_type": "code",
     "collapsed": false,
     "input": [
      "bob = np.random.randint(-100, 100, 300)\n",
      "figure(); plot(bob)\n",
      "figure(); plot(1.0/(1.0 + np.exp(-bob)))\n",
      "figure(); plot(1.0/(1.0 + np.exp(-5.0*bob)))\n",
      "figure(); plot(1.0/(1.0 + np.exp(-0.2*bob)))"
     ],
     "language": "python",
     "metadata": {},
     "outputs": [
      {
       "metadata": {},
       "output_type": "pyout",
       "prompt_number": 279,
       "text": [
        "[<matplotlib.lines.Line2D at 0x7f503a683310>]"
       ]
      }
     ],
     "prompt_number": 279
    },
    {
     "cell_type": "code",
     "collapsed": false,
     "input": [
      "# fittedPhiUsingPsi = sio.loadmat(phiSaveLoc)['phi_MAP']\n",
      "# print glob.glob(dataPath+dataSet+\"weightsUsingPsi*.npy\")\n",
      "fittedPhiUsingPsi = np.load(glob.glob(dataPath+dataSet+\"weightsUsingPsi*.npy\")[0])"
     ],
     "language": "python",
     "metadata": {},
     "outputs": [],
     "prompt_number": 182
    },
    {
     "cell_type": "code",
     "collapsed": false,
     "input": [
      "# print np.sum(fittedPhiUsingPsi-sio.loadmat(phiSaveLoc)['phi_MAP'])\n",
      "print fittedPhiUsingPsi\n",
      "print sio.loadmat(phiSaveLoc)['phi_MAP']\n",
      "print fittedPhiUsingPsi/sio.loadmat(phiSaveLoc)['phi_MAP']\n",
      "print np.mean(fittedPhiUsingPsi/sio.loadmat(phiSaveLoc)['phi_MAP'])\n",
      "print np.mean(np.sqrt((fittedPhiUsingPsi/sio.loadmat(phiSaveLoc)['phi_MAP']-np.mean(fittedPhiUsingPsi/sio.loadmat(phiSaveLoc)['phi_MAP']))**2))"
     ],
     "language": "python",
     "metadata": {},
     "outputs": [
      {
       "output_type": "stream",
       "stream": "stdout",
       "text": [
        "[[ 0.17971476]\n",
        " [ 0.19014451]\n",
        " [ 0.19502751]\n",
        " ..., \n",
        " [ 0.05163731]\n",
        " [ 0.0256592 ]\n",
        " [ 0.02303215]]\n",
        "[[ 0.63135822]\n",
        " [ 0.69794213]\n",
        " [ 0.69759946]\n",
        " ..., \n",
        " [ 0.1909391 ]\n",
        " [ 0.13116354]\n",
        " [ 0.12614612]]\n",
        "[[ 0.28464785]\n",
        " [ 0.27243592]\n",
        " [ 0.27956947]\n",
        " ..., \n",
        " [ 0.27043866]\n",
        " [ 0.19562752]\n",
        " [ 0.1825831 ]]\n",
        "0.462523159594\n",
        "0.276527543976"
       ]
      },
      {
       "output_type": "stream",
       "stream": "stdout",
       "text": [
        "\n"
       ]
      }
     ],
     "prompt_number": 36
    },
    {
     "cell_type": "code",
     "collapsed": false,
     "input": [
      "np.save(dataPath+dataSet+\"weightsUsingPsi_\"+np.string_(numBadExamples)+\"randomEg_\"+np.string_(resizeRatio)+\"scale.npy\", fittedPhiUsingPsi)\n",
      "print dataPath+dataSet+\"weightsUsingPsi_\"+np.string_(numBadExamples)+\"randomEg_\"+np.string_(resizeRatio)+\"scale.npy\""
     ],
     "language": "python",
     "metadata": {},
     "outputs": [
      {
       "output_type": "stream",
       "stream": "stdout",
       "text": [
        "/media/ilisescu/Data1/PhD/data/candle1/segmentedAndCropped/weightsUsingPsi_1000randomEg_0.75scale.npy\n"
       ]
      }
     ],
     "prompt_number": 11
    },
    {
     "cell_type": "code",
     "collapsed": false,
     "input": [
      "## test to see the distance assigned to the validation pairs\n",
      "# goodValidationData = (imagesGrayData[:, goodValidationExamples[0, :]]-imagesGrayData[:, goodValidationExamples[1, :]])**np.float32(2)\n",
      "# badValidationData = (imagesGrayData[:, badValidationExamples[0, :]]-imagesGrayData[:, badValidationExamples[1, :]])**np.float32(2)\n",
      "print goodValidationData.shape\n",
      "print badValidationData.shape\n",
      "figure()\n",
      "plot(np.sqrt(np.dot(goodValidationData.T, sio.loadmat(phiSaveLoc)['phi_MAP'])), color=\"g\", label=\"Good validation\")\n",
      "plot(np.sqrt(np.dot(goodExamplesData.T, sio.loadmat(phiSaveLoc)['phi_MAP'])), color=\"y\", label=\"Good training\")\n",
      "plot(np.sqrt(np.dot(badValidationData.T, sio.loadmat(phiSaveLoc)['phi_MAP'])), color=\"b\", label=\"Bad validation\")\n",
      "plot(np.sqrt(np.dot(badExamplesData.T, sio.loadmat(phiSaveLoc)['phi_MAP'])), color=\"r\", label=\"Bad training\")\n",
      "legend(bbox_to_anchor=(0., 1.02, 1., .102), loc=3, ncol=4, mode=\"expand\", borderaxespad=0.)\n",
      "\n",
      "figure()\n",
      "plot(np.sqrt(np.dot(goodValidationData.T, np.ones_like(sio.loadmat(phiSaveLoc)['phi_MAP']))), color=\"g\", label=\"Good validation\")\n",
      "plot(np.sqrt(np.dot(goodExamplesData.T, np.ones_like(sio.loadmat(phiSaveLoc)['phi_MAP']))), color=\"y\", label=\"Good training\")\n",
      "plot(np.sqrt(np.dot(badValidationData.T, np.ones_like(sio.loadmat(phiSaveLoc)['phi_MAP']))), color=\"b\", label=\"Bad validation\")\n",
      "plot(np.sqrt(np.dot(badExamplesData.T, np.ones_like(sio.loadmat(phiSaveLoc)['phi_MAP']))), color=\"r\", label=\"Bad training\")\n",
      "legend(bbox_to_anchor=(0., 1.02, 1., .102), loc=3, ncol=4, mode=\"expand\", borderaxespad=0.)"
     ],
     "language": "python",
     "metadata": {},
     "outputs": [
      {
       "ename": "NameError",
       "evalue": "name 'goodValidationData' is not defined",
       "output_type": "pyerr",
       "traceback": [
        "\u001b[0;31m---------------------------------------------------------------------------\u001b[0m\n\u001b[0;31mNameError\u001b[0m                                 Traceback (most recent call last)",
        "\u001b[0;32m<ipython-input-35-5fb64826ff46>\u001b[0m in \u001b[0;36m<module>\u001b[0;34m()\u001b[0m\n\u001b[1;32m      2\u001b[0m \u001b[0;31m# goodValidationData = (imagesGrayData[:, goodValidationExamples[0, :]]-imagesGrayData[:, goodValidationExamples[1, :]])**np.float32(2)\u001b[0m\u001b[0;34m\u001b[0m\u001b[0;34m\u001b[0m\u001b[0m\n\u001b[1;32m      3\u001b[0m \u001b[0;31m# badValidationData = (imagesGrayData[:, badValidationExamples[0, :]]-imagesGrayData[:, badValidationExamples[1, :]])**np.float32(2)\u001b[0m\u001b[0;34m\u001b[0m\u001b[0;34m\u001b[0m\u001b[0m\n\u001b[0;32m----> 4\u001b[0;31m \u001b[0;32mprint\u001b[0m \u001b[0mgoodValidationData\u001b[0m\u001b[0;34m.\u001b[0m\u001b[0mshape\u001b[0m\u001b[0;34m\u001b[0m\u001b[0m\n\u001b[0m\u001b[1;32m      5\u001b[0m \u001b[0;32mprint\u001b[0m \u001b[0mbadValidationData\u001b[0m\u001b[0;34m.\u001b[0m\u001b[0mshape\u001b[0m\u001b[0;34m\u001b[0m\u001b[0m\n\u001b[1;32m      6\u001b[0m \u001b[0mfigure\u001b[0m\u001b[0;34m(\u001b[0m\u001b[0;34m)\u001b[0m\u001b[0;34m\u001b[0m\u001b[0m\n",
        "\u001b[0;31mNameError\u001b[0m: name 'goodValidationData' is not defined"
       ]
      }
     ],
     "prompt_number": 35
    },
    {
     "cell_type": "code",
     "collapsed": false,
     "input": [
      "# img1Name = \"frame-00522.png\"\n",
      "# img1Name = \"frame-01022.png\"\n",
      "# img2Name = \"frame-01023.png\"\n",
      "\n",
      "## good validated\n",
      "img1Name = \"frame-00929.png\"\n",
      "img2Name = \"frame-00951.png\"\n",
      "\n",
      "## bad validated\n",
      "# img1Name = \"frame-00331.png\"\n",
      "# img2Name = \"frame-00106.png\"\n",
      "\n",
      "# img1 = cv2.imread(dataPath+dataSet+img1Name,0) # queryImage\n",
      "# img2 = cv2.imread(dataPath+dataSet+img2Name,0) # trainImage\n",
      "img1 = cv2.cvtColor(frame1, cv2.COLOR_RGB2GRAY)\n",
      "img2 = cv2.cvtColor(frame2, cv2.COLOR_RGB2GRAY)\n",
      "# Initiate SIFT detector\n",
      "sift = cv2.SIFT()\n",
      "\n",
      "# find the keypoints and descriptors with SIFT\n",
      "kp1, des1 = sift.detectAndCompute(img1,None)\n",
      "kp2, des2 = sift.detectAndCompute(img2,None)\n",
      "\n",
      "# FLANN parameters\n",
      "FLANN_INDEX_KDTREE = 0\n",
      "index_params = dict(algorithm = FLANN_INDEX_KDTREE, trees = 5)\n",
      "search_params = dict(checks=50)   # or pass empty dictionary\n",
      "\n",
      "flann = cv2.FlannBasedMatcher(index_params,search_params)\n",
      "\n",
      "matches = flann.knnMatch(des1,des2,k=2)\n",
      "\n",
      "# Need to draw only good matches, so create a mask\n",
      "# matchesMask = [[0,0] for i in xrange(len(matches))]\n",
      "\n",
      "# # ratio test as per Lowe's paper\n",
      "# for i,(m,n) in enumerate(matches):\n",
      "#     if m.distance < 0.7*n.distance:\n",
      "#         matchesMask[i]=[1,0]\n",
      "        \n",
      "# draw_params = dict(matchColor = (0,255,0),\n",
      "#                    singlePointColor = (255,0,0),\n",
      "#                    matchesMask = matchesMask,\n",
      "#                    flags = 0)\n",
      "\n",
      "# img3 = cv2.drawMatchesKnn(img1,kp1,img2,kp2,matches,None,**draw_params)\n",
      "\n",
      "# figure(); imshow(img3,)"
     ],
     "language": "python",
     "metadata": {},
     "outputs": [],
     "prompt_number": 727
    },
    {
     "cell_type": "code",
     "collapsed": false,
     "input": [
      "## Need to draw only good matches, so create a mask\n",
      "## good matches here are chosen based on how unique they are, i.e. how much worse (the threshold below) \n",
      "## is the match with the second best neighbour\n",
      "matchesMask = [[0,0] for i in xrange(len(matches))]\n",
      "\n",
      "# ratio test as per Lowe's paper\n",
      "for i,(m,n) in enumerate(matches):\n",
      "    if m.distance < 0.72*n.distance:\n",
      "        matchesMask[i]=[1,0]\n",
      "# print matchesMask"
     ],
     "language": "python",
     "metadata": {},
     "outputs": [],
     "prompt_number": 748
    },
    {
     "cell_type": "code",
     "collapsed": false,
     "input": [
      "## visualize\n",
      "# figure(); imshow(cv2.cvtColor(np.concatenate((cv2.imread(dataPath+dataSet+img1Name), \n",
      "#                                               cv2.imread(dataPath+dataSet+img2Name)), axis=1), cv2.COLOR_BGR2RGB))\n",
      "figure(); imshow(np.concatenate((frame1, frame2), axis=1))\n",
      "\n",
      "for i, mask in enumerate(matchesMask) :\n",
      "    if mask[0] == 1 :\n",
      "#         print i, kp1[i].pt, matches[i][0].trainIdx\n",
      "        matchIdx = matches[i][0].trainIdx\n",
      "        plot([kp1[i].pt[0], kp2[matchIdx].pt[0]+img1.shape[1]], [kp1[i].pt[1], kp2[matchIdx].pt[1]])\n",
      "\n",
      "## alternative vis\n",
      "# figure(); imshow(np.array(cv2.cvtColor(cv2.imread(dataPath+dataSet+img1Name), cv2.COLOR_BGR2RGB)*.5 +\n",
      "#                           cv2.cvtColor(cv2.imread(dataPath+dataSet+img2Name), cv2.COLOR_BGR2RGB)*.5, dtype=uint8))\n",
      "figure(); imshow(np.array(frame1*0.5 + frame2*0.5, dtype=uint8))\n",
      "\n",
      "dist = 0.0\n",
      "numPoints = 0\n",
      "for i, mask in enumerate(matchesMask) :\n",
      "    if mask[0] == 1 :\n",
      "#         print i, kp1[i].pt, matches[i][0].trainIdx\n",
      "        matchIdx = matches[i][0].trainIdx\n",
      "        plot([kp1[i].pt[0], kp2[matchIdx].pt[0]], [kp1[i].pt[1], kp2[matchIdx].pt[1]])\n",
      "        scatter(kp1[i].pt[0], kp1[i].pt[1], marker='.')\n",
      "        dist += np.linalg.norm(np.array(kp1[i].pt) - np.array(kp2[matchIdx].pt))\n",
      "        numPoints += 1\n",
      "print dist/numPoints, numPoints"
     ],
     "language": "python",
     "metadata": {},
     "outputs": [
      {
       "output_type": "stream",
       "stream": "stdout",
       "text": [
        "18.0167882946 2\n"
       ]
      }
     ],
     "prompt_number": 752
    },
    {
     "cell_type": "code",
     "collapsed": false,
     "input": [
      "print additionalGoodPairsIdxs\n",
      "print goodPairsIdxs[:, -len(additionalGoodPairsIdxs.T):]"
     ],
     "language": "python",
     "metadata": {},
     "outputs": [
      {
       "output_type": "stream",
       "stream": "stdout",
       "text": [
        "[[927 927 928 928 929 929 930 953 974]\n",
        " [950 951 950 951 951 952 952 927 945]]\n",
        "[[927 927 928 928 929 929 930 953 974]\n",
        " [950 951 950 951 951 952 952 927 945]]\n"
       ]
      }
     ],
     "prompt_number": 34
    },
    {
     "cell_type": "code",
     "collapsed": false,
     "input": [
      "gwv.showCustomGraph(np.average(goodExamplesBAK[np.prod(gridSize):2*np.prod(gridSize), goodPairsToUse], axis=1).reshape(gridSize))\n",
      "gwv.showCustomGraph(np.average(badExamplesBAK[np.prod(gridSize):2*np.prod(gridSize), badPairsToUse], axis=1).reshape(gridSize))"
     ],
     "language": "python",
     "metadata": {},
     "outputs": [],
     "prompt_number": 110
    },
    {
     "cell_type": "code",
     "collapsed": false,
     "input": [
      "gwv.showCustomGraph(np.average(goodExamplesData[:np.prod(gridSize), goodPairsToUse], axis=1).reshape(gridSize))\n",
      "gwv.showCustomGraph(np.var(goodExamplesData[:np.prod(gridSize), goodPairsToUse], axis=1).reshape(gridSize))\n",
      "gwv.showCustomGraph(np.average(badExamplesData[:np.prod(gridSize), badPairsToUse], axis=1).reshape(gridSize))\n",
      "gwv.showCustomGraph(np.var(badExamplesData[:np.prod(gridSize), badPairsToUse], axis=1).reshape(gridSize))\n",
      "gwv.showCustomGraph(sio.loadmat(phiSaveLoc)['phi_MAP'][:np.prod(gridSize)].reshape(gridSize))\n",
      "# gwv.showCustomGraph(sio.loadmat(phiSaveLoc)['phi_MAP'].reshape(gridSize)*np.average(X[:np.prod(gridSize), :], axis=1).reshape(gridSize))\n",
      "# gwv.showCustomGraph(np.average(X[np.prod(gridSize):2*np.prod(gridSize), :], axis=1).reshape(gridSize))\n",
      "# gwv.showCustomGraph(np.average(X[2*np.prod(gridSize):, :], axis=1).reshape(gridSize))"
     ],
     "language": "python",
     "metadata": {},
     "outputs": [],
     "prompt_number": 61
    },
    {
     "cell_type": "code",
     "collapsed": false,
     "input": [
      "print sio.loadmat(phiSaveLoc)['phi_MAP']"
     ],
     "language": "python",
     "metadata": {},
     "outputs": [
      {
       "output_type": "stream",
       "stream": "stdout",
       "text": [
        "[[  7.32823857e-01]\n",
        " [  4.28158147e-01]\n",
        " [  8.19128195e-01]\n",
        " [  9.96890772e-01]\n",
        " [  9.96790864e-01]\n",
        " [  2.81850775e-01]\n",
        " [  3.71352539e-01]\n",
        " [  4.80221636e-01]\n",
        " [  1.00609546e+00]\n",
        " [  9.94244147e-01]\n",
        " [  4.50290592e-01]\n",
        " [  3.20017989e-01]\n",
        " [  4.53987000e-01]\n",
        " [  1.62090657e+00]\n",
        " [  6.84516803e+02]\n",
        " [  7.47044323e-01]\n",
        " [  7.41655830e-01]\n",
        " [  1.39617353e+02]\n",
        " [  1.49884744e+00]\n",
        " [  1.14161624e+00]\n",
        " [  1.08659204e+00]\n",
        " [  1.14320101e+00]\n",
        " [  1.09703999e+00]\n",
        " [  1.13568864e+00]\n",
        " [  1.11042559e+00]\n",
        " [  9.99996001e-01]\n",
        " [  9.99972052e-01]\n",
        " [  9.99825349e-01]\n",
        " [  1.00000000e+00]\n",
        " [  1.00000000e+00]\n",
        " [  9.99923266e-01]\n",
        " [  9.99114015e-01]\n",
        " [  9.99960427e-01]\n",
        " [  1.00000417e+00]\n",
        " [  1.00000000e+00]\n",
        " [  9.99952722e-01]\n",
        " [  9.98761477e-01]\n",
        " [  9.98591664e-01]\n",
        " [  1.00003761e+00]\n",
        " [  9.99914333e-01]\n",
        " [  9.99953405e-01]\n",
        " [  9.99923584e-01]\n",
        " [  9.99939440e-01]\n",
        " [  9.99993426e-01]\n",
        " [  9.99960850e-01]\n",
        " [  9.99981949e-01]\n",
        " [  1.00001551e+00]\n",
        " [  1.00001019e+00]\n",
        " [  9.99977947e-01]\n",
        " [  1.00000822e+00]\n",
        " [  1.90996473e-03]\n",
        " [  1.60254025e-03]\n",
        " [  1.69157546e-03]\n",
        " [  1.47911374e-03]\n",
        " [  1.60008103e-03]\n",
        " [  2.39146566e-03]\n",
        " [  7.98564931e-03]\n",
        " [  3.08190660e-03]\n",
        " [  1.80924337e-03]\n",
        " [  2.07067373e-03]\n",
        " [  3.52640711e-03]\n",
        " [  1.48196876e-02]\n",
        " [  5.44642121e-03]\n",
        " [  3.67328407e-03]\n",
        " [  2.98141304e-03]\n",
        " [  7.79287283e-03]\n",
        " [  1.54819561e-02]\n",
        " [  5.69484164e-03]\n",
        " [  6.07262427e-03]\n",
        " [  4.21462896e-03]\n",
        " [  4.24104370e-02]\n",
        " [  1.49448150e-02]\n",
        " [  4.38547578e-03]\n",
        " [  2.53980728e-02]\n",
        " [  4.00870378e-02]]\n"
       ]
      }
     ],
     "prompt_number": 42
    },
    {
     "cell_type": "code",
     "collapsed": false,
     "input": [
      "figure(); plot(sio.loadmat(phiSaveLoc)['phi_MAP'])\n",
      "# gwv.showCustomGraph(sio.loadmat(phiSaveLoc)['phi_MAP'][:16].reshape((4, 4)))"
     ],
     "language": "python",
     "metadata": {},
     "outputs": [
      {
       "metadata": {},
       "output_type": "pyout",
       "prompt_number": 62,
       "text": [
        "[<matplotlib.lines.Line2D at 0x7f503d09f050>]"
       ]
      }
     ],
     "prompt_number": 62
    },
    {
     "cell_type": "code",
     "collapsed": false,
     "input": [
      "## plot good vs bad examples before and after fitting psi\n",
      "figure(\"Re-weighted\")\n",
      "# additionalGoodPairsIdxs = np.empty(0)\n",
      "numGood, numBad = [len(goodExamplesData[:, -len(additionalGoodPairsIdxs.T):].T), len(badExamplesData.T)]\n",
      "plot(np.sqrt(np.dot(goodExamplesData[:, -len(additionalGoodPairsIdxs.T):].T, sio.loadmat(phiSaveLoc)['phi_MAP'])), color=\"y\", label=\"Good training\")\n",
      "plot(arange(numGood, numGood+numBad), np.sqrt(np.dot(badExamplesData.T, sio.loadmat(phiSaveLoc)['phi_MAP'])), color=\"r\", label=\"Bad training\")\n",
      "print \"good\"\n",
      "print np.sqrt(np.dot(goodExamplesData[:, -len(additionalGoodPairsIdxs.T):].T, sio.loadmat(phiSaveLoc)['phi_MAP']))\n",
      "print \"bad\"\n",
      "print np.sqrt(np.dot(badExamplesData.T, sio.loadmat(phiSaveLoc)['phi_MAP']))\n",
      "legend(bbox_to_anchor=(0., 1.02, 1., .102), loc=3, ncol=4, mode=\"expand\", borderaxespad=0.)\n",
      "\n",
      "figure(\"L2\")\n",
      "plot(np.sqrt(np.dot(goodExamplesData[:, -len(additionalGoodPairsIdxs.T):].T, np.ones_like(sio.loadmat(phiSaveLoc)['phi_MAP']))), color=\"y\", label=\"Good training\")\n",
      "plot(arange(numGood, numGood+numBad), np.sqrt(np.dot(badExamplesData.T, np.ones_like(sio.loadmat(phiSaveLoc)['phi_MAP']))), color=\"r\", label=\"Bad training\")\n",
      "legend(bbox_to_anchor=(0., 1.02, 1., .102), loc=3, ncol=4, mode=\"expand\", borderaxespad=0.)"
     ],
     "language": "python",
     "metadata": {},
     "outputs": [
      {
       "output_type": "stream",
       "stream": "stdout",
       "text": [
        "good\n",
        "[[ 2.19608362]\n",
        " [ 2.23311546]\n",
        " [ 2.17337512]\n",
        " [ 2.2103893 ]\n",
        " [ 2.1944693 ]\n",
        " [ 2.22604236]\n",
        " [ 2.19037515]\n",
        " [ 2.30262014]\n",
        " [ 2.11255519]]\n",
        "bad\n",
        "[[ 3.09515159]\n",
        " [ 3.08978883]\n",
        " [ 3.09201944]\n",
        " [ 3.09727846]\n",
        " [ 3.07855696]\n",
        " [ 3.08155478]\n",
        " [ 3.05431729]\n",
        " [ 3.04348906]\n",
        " [ 2.35003719]\n",
        " [ 2.33224762]\n",
        " [ 2.10447468]\n",
        " [ 2.28096546]\n",
        " [ 1.70549654]\n",
        " [ 2.15676362]\n",
        " [ 2.17710093]\n",
        " [ 2.20900944]\n",
        " [ 2.17337512]\n",
        " [ 2.60350323]\n",
        " [ 1.785034  ]\n",
        " [ 1.25005578]]\n"
       ]
      },
      {
       "metadata": {},
       "output_type": "pyout",
       "prompt_number": 47,
       "text": [
        "<matplotlib.legend.Legend at 0x7f515a3d4b90>"
       ]
      }
     ],
     "prompt_number": 47
    },
    {
     "cell_type": "code",
     "collapsed": false,
     "input": [
      "## plot good vs bad examples before and after fitting psi\n",
      "figure(\"Re-weighted\")\n",
      "# additionalGoodPairsIdxs = np.empty(0)\n",
      "numGood, numBad = [len(goodExamplesData[:, -len(additionalGoodPairsIdxs.T):].T), len(badExamplesData.T)]\n",
      "plot(np.sqrt(np.dot(goodExamplesData[:, -len(additionalGoodPairsIdxs.T):].T, sio.loadmat(phiSaveLoc)['phi_MAP'])), color=\"y\", label=\"Good training\")\n",
      "plot(arange(numGood, numGood+numBad), np.sqrt(np.dot(badExamplesData.T, sio.loadmat(phiSaveLoc)['phi_MAP'])), color=\"r\", label=\"Bad training\")\n",
      "print \"good\"\n",
      "print np.sqrt(np.dot(goodExamplesData[:, -len(additionalGoodPairsIdxs.T):].T, sio.loadmat(phiSaveLoc)['phi_MAP']))\n",
      "print \"bad\"\n",
      "print np.sqrt(np.dot(badExamplesData.T, sio.loadmat(phiSaveLoc)['phi_MAP']))\n",
      "legend(bbox_to_anchor=(0., 1.02, 1., .102), loc=3, ncol=4, mode=\"expand\", borderaxespad=0.)\n",
      "\n",
      "figure(\"L2\")\n",
      "plot(np.sqrt(np.dot(goodExamplesData[:, -len(additionalGoodPairsIdxs.T):].T, np.ones_like(sio.loadmat(phiSaveLoc)['phi_MAP']))), color=\"y\", label=\"Good training\")\n",
      "plot(arange(numGood, numGood+numBad), np.sqrt(np.dot(badExamplesData.T, np.ones_like(sio.loadmat(phiSaveLoc)['phi_MAP']))), color=\"r\", label=\"Bad training\")\n",
      "legend(bbox_to_anchor=(0., 1.02, 1., .102), loc=3, ncol=4, mode=\"expand\", borderaxespad=0.)"
     ],
     "language": "python",
     "metadata": {},
     "outputs": [
      {
       "output_type": "stream",
       "stream": "stdout",
       "text": [
        "good\n",
        "[[ 2.28043015]\n",
        " [ 2.33546723]\n",
        " [ 2.25237249]\n",
        " [ 2.27041935]\n",
        " [ 2.2607633 ]\n",
        " [ 2.29822952]\n",
        " [ 2.30834314]\n",
        " [ 2.55090119]\n",
        " [ 2.44792239]]\n",
        "bad\n",
        "[[ 2.60036432]\n",
        " [ 2.55035263]\n",
        " [ 2.59583278]\n",
        " [ 2.77179204]\n",
        " [ 2.62440958]\n",
        " [ 2.78012142]\n",
        " [ 2.60765314]\n",
        " [ 2.53243597]\n",
        " [ 2.16225722]\n",
        " [ 2.39142146]\n",
        " [ 2.25703629]\n",
        " [ 2.48146712]\n",
        " [ 2.95684879]\n",
        " [ 2.27992707]\n",
        " [ 1.76409374]\n",
        " [ 2.26640792]\n",
        " [ 2.25237249]\n",
        " [ 3.05782989]\n",
        " [ 3.21932803]\n",
        " [ 3.33111684]]\n"
       ]
      },
      {
       "metadata": {},
       "output_type": "pyout",
       "prompt_number": 271,
       "text": [
        "<matplotlib.legend.Legend at 0x7f0098206250>"
       ]
      }
     ],
     "prompt_number": 271
    },
    {
     "cell_type": "code",
     "collapsed": false,
     "input": [
      "print additionalGoodPairsIdxs.T\n",
      "print badPairsIdxs.T"
     ],
     "language": "python",
     "metadata": {},
     "outputs": [
      {
       "output_type": "stream",
       "stream": "stdout",
       "text": [
        "[[927 950]\n",
        " [927 951]\n",
        " [928 950]\n",
        " [928 951]\n",
        " [929 951]\n",
        " [929 952]\n",
        " [930 952]\n",
        " [953 927]\n",
        " [974 945]]\n",
        "[[ 126    8]\n",
        " [ 127    8]\n",
        " [ 127    9]\n",
        " [ 127   10]\n",
        " [ 128    9]\n",
        " [ 128   10]\n",
        " [ 129   10]\n",
        " [ 130   11]\n",
        " [ 330  105]\n",
        " [ 330  106]\n",
        " [ 928  949]\n",
        " [ 928  953]\n",
        " [ 929  942]\n",
        " [ 929  950]\n",
        " [ 946  922]\n",
        " [ 949  925]\n",
        " [ 950  928]\n",
        " [ 959 1029]\n",
        " [ 960  941]\n",
        " [ 960  950]]\n"
       ]
      }
     ],
     "prompt_number": 248
    },
    {
     "cell_type": "code",
     "collapsed": false,
     "input": [
      "figure(); imshow(imagesGrayData[:, 928].reshape((720, 1280)))\n",
      "figure(); imshow(imagesGrayData[:, 953].reshape((720, 1280)))\n",
      "figure(); imshow(imagesGrayData[:, 928].reshape((720, 1280)))\n",
      "figure(); imshow(imagesGrayData[:, 950].reshape((720, 1280)))"
     ],
     "language": "python",
     "metadata": {},
     "outputs": [
      {
       "metadata": {},
       "output_type": "pyout",
       "prompt_number": 180,
       "text": [
        "<matplotlib.image.AxesImage at 0x7f00943d5b90>"
       ]
      }
     ],
     "prompt_number": 180
    },
    {
     "cell_type": "code",
     "collapsed": false,
     "input": [
      "## plot good vs bad examples before and after fitting psi\n",
      "figure(\"Re-weighted\")\n",
      "# numGood, numBad = [len(goodExamplesData[:, -len(additionalGoodPairsIdxs.T):].T), len(badExamplesData.T)]\n",
      "# plot(np.sqrt(np.dot(goodExamplesData[:, -len(additionalGoodPairsIdxs.T):].T, sio.loadmat(phiSaveLoc)['phi_MAP'])), color=\"y\", label=\"Good training\")\n",
      "numGood, numBad = [len(goodExamplesData.T), len(badExamplesData.T)]\n",
      "plot(np.sqrt(np.dot(goodExamplesData.T, sio.loadmat(phiSaveLoc)['phi_MAP'])), color=\"y\", label=\"Good training\")\n",
      "plot(arange(numGood, numGood+numBad), np.sqrt(np.dot(badExamplesData.T, sio.loadmat(phiSaveLoc)['phi_MAP'])), color=\"r\", label=\"Bad training\")\n",
      "print \"good\"\n",
      "print np.sqrt(np.dot(goodExamplesData[:, -len(additionalGoodPairsIdxs.T):].T, sio.loadmat(phiSaveLoc)['phi_MAP']))\n",
      "print \"bad\"\n",
      "print np.sqrt(np.dot(badExamplesData.T, sio.loadmat(phiSaveLoc)['phi_MAP']))\n",
      "legend(bbox_to_anchor=(0., 1.02, 1., .102), loc=3, ncol=4, mode=\"expand\", borderaxespad=0.)\n",
      "\n",
      "figure(\"L2\")\n",
      "# plot(np.sqrt(np.dot(goodExamplesData[:, -len(additionalGoodPairsIdxs.T):].T, np.ones_like(sio.loadmat(phiSaveLoc)['phi_MAP']))), color=\"y\", label=\"Good training\")\n",
      "plot(np.sqrt(np.dot(goodExamplesData.T, np.ones_like(sio.loadmat(phiSaveLoc)['phi_MAP']))), color=\"y\", label=\"Good training\")\n",
      "plot(arange(numGood, numGood+numBad), np.sqrt(np.dot(badExamplesData.T, np.ones_like(sio.loadmat(phiSaveLoc)['phi_MAP']))), color=\"r\", label=\"Bad training\")\n",
      "legend(bbox_to_anchor=(0., 1.02, 1., .102), loc=3, ncol=4, mode=\"expand\", borderaxespad=0.)"
     ],
     "language": "python",
     "metadata": {},
     "outputs": [
      {
       "output_type": "stream",
       "stream": "stdout",
       "text": [
        "good\n",
        "[[ 1.59535881]\n",
        " [ 1.62557241]\n",
        " [ 1.59463612]\n",
        " [ 1.62358461]\n",
        " [ 1.61550381]\n",
        " [ 1.63210144]\n",
        " [ 1.61019394]\n",
        " [ 1.66651773]\n",
        " [ 1.63641159]]\n",
        "bad\n",
        "[[ 2.44802998]\n",
        " [ 2.43842623]\n",
        " [ 2.44596372]\n",
        " [ 2.45826478]\n",
        " [ 2.42756645]\n",
        " [ 2.43726406]\n",
        " [ 2.40924592]\n",
        " [ 2.39843303]\n",
        " [ 1.75361585]\n",
        " [ 1.74319938]\n",
        " [ 1.53237944]\n",
        " [ 1.66207481]\n",
        " [ 1.30092269]\n",
        " [ 1.58640673]\n",
        " [ 1.5906364 ]\n",
        " [ 1.59250345]\n",
        " [ 1.59463612]\n",
        " [ 1.89317779]\n",
        " [ 1.3161816 ]\n",
        " [ 1.08736341]]\n"
       ]
      },
      {
       "metadata": {},
       "output_type": "pyout",
       "prompt_number": 178,
       "text": [
        "<matplotlib.legend.Legend at 0x7f00d47f42d0>"
       ]
      }
     ],
     "prompt_number": 178
    },
    {
     "cell_type": "code",
     "collapsed": false,
     "input": [
      "print X.shape\n",
      "print w.shape\n",
      "print len(list(w))"
     ],
     "language": "python",
     "metadata": {},
     "outputs": [
      {
       "output_type": "stream",
       "stream": "stdout",
       "text": [
        "(230400, 1236)\n",
        "(1236, 1)\n",
        "1236\n"
       ]
      }
     ],
     "prompt_number": 124
    },
    {
     "cell_type": "code",
     "collapsed": false,
     "input": [
      "testExamples = [1213, 1215, 1217, 1219, 1221, 1223, 1225, 1227, 1229, 1231, 1232]\n",
      "trainingExamples = np.delete(np.arange(X.shape[1]),\n",
      "                             np.concatenate((np.arange(goodExamplesData.shape[1]-len(additionalGoodPairsIdxs.T)),\n",
      "                                             testExamples)))\n",
      "print testExamples\n",
      "print trainingExamples"
     ],
     "language": "python",
     "metadata": {},
     "outputs": [
      {
       "output_type": "stream",
       "stream": "stdout",
       "text": [
        "[1213, 1215, 1217, 1219, 1221, 1223, 1225, 1227, 1229, 1231, 1232]\n",
        "[1207 1208 1209 1210 1211 1212 1214 1216 1218 1220 1222 1224 1226 1228 1230\n",
        " 1233 1234 1235]\n"
       ]
      }
     ],
     "prompt_number": 79
    },
    {
     "cell_type": "code",
     "collapsed": false,
     "input": [
      "tic = time.time()\n",
      "classifier = ensemble.ExtraTreesRegressor(n_estimators=100, n_jobs=4, verbose=4)\n",
      "classifier.fit(list(X[:, trainingExamples].T), w[trainingExamples, 0])\n",
      "print time.time()-tic"
     ],
     "language": "python",
     "metadata": {},
     "outputs": [
      {
       "output_type": "stream",
       "stream": "stderr",
       "text": [
        "[Parallel(n_jobs=4)]: Done   1 out of   4 | elapsed:    4.7s remaining:   14.1s\n",
        "[Parallel(n_jobs=4)]: Done   2 out of   4 | elapsed:    5.2s remaining:    5.2s\n",
        "[Parallel(n_jobs=4)]: Done   4 out of   4 | elapsed:    5.2s finished\n"
       ]
      },
      {
       "output_type": "stream",
       "stream": "stdout",
       "text": [
        "6.23729705811\n",
        "building tree 1 of 25\n",
        "building tree 1 of 25\n",
        "building tree 1 of 25\n",
        "building tree 1 of 25\n",
        "building tree 2 of 25building tree 2 of 25building tree 2 of 25building tree 2 of 25\n",
        "\n",
        "\n",
        "\n",
        "building tree 3 of 25building tree 3 of 25building tree 3 of 25building tree 3 of 25\n",
        "\n",
        "\n",
        "\n",
        "building tree 4 of 25building tree 4 of 25building tree 4 of 25building tree 4 of 25\n",
        "\n",
        "\n",
        "\n",
        "building tree 5 of 25building tree 5 of 25building tree 5 of 25building tree 5 of 25\n",
        "\n",
        "\n",
        "\n",
        "building tree 6 of 25building tree 6 of 25building tree 6 of 25building tree 6 of 25\n",
        "\n",
        "\n",
        "\n",
        "building tree 7 of 25building tree 7 of 25building tree 7 of 25building tree 7 of 25\n",
        "\n",
        "\n",
        "\n",
        "building tree 8 of 25building tree 8 of 25building tree 8 of 25building tree 8 of 25\n",
        "\n",
        "\n",
        "\n",
        "building tree 9 of 25building tree 9 of 25building tree 9 of 25building tree 9 of 25\n",
        "\n",
        "\n",
        "\n",
        "building tree 10 of 25building tree 10 of 25building tree 10 of 25building tree 10 of 25\n",
        "\n",
        "\n",
        "\n",
        "building tree 11 of 25building tree 11 of 25building tree 11 of 25building tree 11 of 25\n",
        "\n",
        "\n",
        "\n",
        "building tree 12 of 25building tree 12 of 25building tree 12 of 25building tree 12 of 25\n",
        "\n",
        "\n",
        "\n",
        "building tree 13 of 25building tree 13 of 25building tree 13 of 25building tree 13 of 25\n",
        "\n",
        "\n",
        "\n",
        "building tree 14 of 25building tree 14 of 25building tree 14 of 25building tree 14 of 25\n",
        "\n",
        "\n",
        "\n",
        "building tree 15 of 25building tree 15 of 25building tree 15 of 25building tree 15 of 25\n",
        "\n",
        "\n",
        "\n",
        "building tree 16 of 25building tree 16 of 25building tree 16 of 25building tree 16 of 25\n",
        "\n",
        "\n",
        "\n",
        "building tree 17 of 25building tree 17 of 25building tree 17 of 25building tree 17 of 25\n",
        "\n",
        "\n",
        "\n",
        "building tree 18 of 25building tree 18 of 25building tree 18 of 25building tree 18 of 25\n",
        "\n",
        "\n",
        "\n",
        "building tree 19 of 25building tree 19 of 25building tree 19 of 25building tree 19 of 25\n",
        "\n",
        "\n",
        "\n",
        "building tree 20 of 25building tree 20 of 25building tree 20 of 25building tree 20 of 25\n",
        "\n",
        "\n",
        "\n",
        "building tree 21 of 25building tree 21 of 25building tree 21 of 25building tree 21 of 25\n",
        "\n",
        "\n",
        "\n",
        "building tree 22 of 25building tree 22 of 25building tree 22 of 25building tree 22 of 25\n",
        "\n",
        "\n",
        "\n",
        "building tree 23 of 25building tree 23 of 25building tree 23 of 25building tree 23 of 25\n",
        "\n",
        "\n",
        "\n",
        "building tree 24 of 25building tree 24 of 25building tree 24 of 25building tree 24 of 25\n",
        "\n",
        "\n",
        "\n",
        "building tree 25 of 25building tree 25 of 25building tree 25 of 25building tree 25 of 25\n",
        "\n",
        "\n",
        "\n"
       ]
      }
     ],
     "prompt_number": 80
    },
    {
     "cell_type": "code",
     "collapsed": false,
     "input": [
      "# figure(\"Random Forests\")\n",
      "figure(\"Random Forests - reduced examples\")\n",
      "dists = classifier.predict(list(goodExamplesData[:, -len(additionalGoodPairsIdxs.T):].T))\n",
      "dists = np.concatenate((dists, classifier.predict(list(badExamplesData.T))))\n",
      "plot(dists[:numGood], color=\"y\", label=\"Good training\")\n",
      "plot(arange(numGood, numGood+numBad), dists[numGood:], color=\"r\", label=\"Bad training\")\n",
      "gca().autoscale(False)\n",
      "scatter(np.array(testExamples)-len(goodExamplesData.T)+len(additionalGoodPairsIdxs.T), dists[np.array(testExamples)-len(goodExamplesData.T)+len(additionalGoodPairsIdxs.T)])\n",
      "legend(bbox_to_anchor=(0., 1.02, 1., .102), loc=3, ncol=4, mode=\"expand\", borderaxespad=0.)"
     ],
     "language": "python",
     "metadata": {},
     "outputs": [
      {
       "output_type": "stream",
       "stream": "stderr",
       "text": [
        "[Parallel(n_jobs=4)]: Done   1 out of   4 | elapsed:    0.1s remaining:    0.2s\n",
        "[Parallel(n_jobs=4)]: Done   2 out of   4 | elapsed:    0.1s remaining:    0.1s\n",
        "[Parallel(n_jobs=4)]: Done   4 out of   4 | elapsed:    0.2s finished\n"
       ]
      },
      {
       "output_type": "stream",
       "stream": "stderr",
       "text": [
        "[Parallel(n_jobs=4)]: Done   1 out of   4 | elapsed:    0.2s remaining:    0.5s\n",
        "[Parallel(n_jobs=4)]: Done   2 out of   4 | elapsed:    0.2s remaining:    0.2s\n",
        "[Parallel(n_jobs=4)]: Done   4 out of   4 | elapsed:    0.4s finished\n"
       ]
      },
      {
       "metadata": {},
       "output_type": "pyout",
       "prompt_number": 81,
       "text": [
        "<matplotlib.legend.Legend at 0x7f71bcb13e10>"
       ]
      }
     ],
     "prompt_number": 81
    },
    {
     "cell_type": "code",
     "collapsed": false,
     "input": [
      "figure(\"Random Forests - timeline pairs\")\n",
      "plot(classifier.predict(list(goodExamplesData[:, :-len(additionalGoodPairsIdxs.T)].T)), color=\"g\")"
     ],
     "language": "python",
     "metadata": {},
     "outputs": [
      {
       "output_type": "stream",
       "stream": "stderr",
       "text": [
        "[Parallel(n_jobs=4)]: Done   1 out of   4 | elapsed:    0.3s remaining:    1.0s\n",
        "[Parallel(n_jobs=4)]: Done   2 out of   4 | elapsed:    0.4s remaining:    0.4s\n",
        "[Parallel(n_jobs=4)]: Done   4 out of   4 | elapsed:    0.4s finished\n"
       ]
      },
      {
       "metadata": {},
       "output_type": "pyout",
       "prompt_number": 82,
       "text": [
        "[<matplotlib.lines.Line2D at 0x7f71a9cda210>]"
       ]
      }
     ],
     "prompt_number": 82
    },
    {
     "cell_type": "code",
     "collapsed": false,
     "input": [
      "### compute l2 distance matrix between labelled training examples\n",
      "featDists = np.ones((numGood+numBad, numGood+numBad))\n",
      "for featI, i in zip(np.concatenate((goodExamplesData[:, -len(additionalGoodPairsIdxs.T):].T, badExamplesData.T), axis=0), xrange(numGood+numBad)) :\n",
      "    for featJ, j in zip(np.concatenate((goodExamplesData[:, -len(additionalGoodPairsIdxs.T):].T, badExamplesData.T), axis=0), xrange(numGood+numBad)) :\n",
      "        featDists[i, j] = np.sqrt(np.sum((featI-featJ)**2))\n",
      "gwv.showCustomGraph(featDists)\n",
      "print numGood, numBad"
     ],
     "language": "python",
     "metadata": {},
     "outputs": [
      {
       "output_type": "stream",
       "stream": "stdout",
       "text": [
        "9 20\n"
       ]
      }
     ],
     "prompt_number": 70
    },
    {
     "cell_type": "code",
     "collapsed": false,
     "input": [
      "print np.sum(goodExamplesData[:, -len(additionalGoodPairsIdxs.T)+2]-badExamplesData[:, -4])"
     ],
     "language": "python",
     "metadata": {},
     "outputs": [
      {
       "output_type": "stream",
       "stream": "stdout",
       "text": [
        "0.0\n"
       ]
      }
     ],
     "prompt_number": 89
    },
    {
     "cell_type": "code",
     "collapsed": false,
     "input": [
      "figure(); plot(fittedPhiUsingPsi)\n",
      "# print phiSaveLoc\n",
      "resizeRatio = 0.75\n",
      "resizedImageSize = cv2.resize(cv2.imread(framePaths[0]), (0, 0), fx=resizeRatio, fy=resizeRatio).shape[0:2]\n",
      "reshapedWeights = fittedPhiUsingPsi.reshape(resizedImageSize)\n",
      "gwv.showCustomGraph(log(reshapedWeights), showColorbar=True)"
     ],
     "language": "python",
     "metadata": {},
     "outputs": [],
     "prompt_number": 5
    },
    {
     "cell_type": "code",
     "collapsed": false,
     "input": [
      "# print fittedPhiUsingPsi.shape, resizedImageSize\n",
      "# gwv.showCustomGraph(X[:, -1].reshape(resizedImageSize)*reshapedWeights)\n",
      "# gwv.showCustomGraph(X[:, -1].reshape(resizedImageSize))\n",
      "\n",
      "## resize training examples into image shape\n",
      "# resizedTraining = X.reshape((resizedImageSize[0], resizedImageSize[1], X.shape[-1]))\n",
      "## weight each example by the fitted weights\n",
      "# weightedTraining = resizedTraining*reshapedWeights.reshape((resizedImageSize[0], resizedImageSize[1], 1)).repeat(X.shape[-1], axis=-1)\n",
      "## visualize average of the weighted examples and see how good and bad examples get weighted\n",
      "# gwv.showCustomGraph(np.mean(weightedTraining[:, :, 1207:], axis=-1), showColorbar=True)\n",
      "gwv.showCustomGraph(np.sum(resizedTraining[:, :, 1207:], axis=-1), showColorbar=True)\n",
      "# gwv.showCustomGraph(weightedTraining[:, :, -800])"
     ],
     "language": "python",
     "metadata": {},
     "outputs": [],
     "prompt_number": 146
    },
    {
     "cell_type": "code",
     "collapsed": false,
     "input": [
      "# validatedJumps = np.load(dataPath+dataSet+\"validatedJumps.npy\")\n",
      "# gwv.showCustomGraph(validatedJumps)\n",
      "\n",
      "good = np.argwhere(validatedJumps == 1).T\n",
      "bad = np.argwhere(validatedJumps == 0).T\n",
      "\n",
      "if doRGB :\n",
      "    resizedImageSize = cv2.resize(cv2.imread(framePaths[0]), (0, 0), fx=resizeRatio, fy=resizeRatio).shape\n",
      "else :\n",
      "    resizedImageSize = cv2.resize(cv2.imread(framePaths[0]), (0, 0), fx=resizeRatio, fy=resizeRatio).shape[0:2]\n",
      "fittedWeights = sio.loadmat(phiSaveLoc)['phi_MAP'].reshape(resizedImageSize)\n",
      "\n",
      "visPair = bad[:, -1]\n",
      "print visPair\n",
      "# figure(); imshow(imagesGrayData[:, visPair[0]].reshape(resizedImageSize))\n",
      "# figure(); imshow(imagesGrayData[:, visPair[1]].reshape(resizedImageSize))\n",
      "if doRGB :\n",
      "    squaredDiff = (imagesRGBData[:, pair[0]].reshape(resizedImageSize)-imagesRGBData[:, pair[1]].reshape(resizedImageSize))**2\n",
      "else :\n",
      "    squaredDiff = (imagesGrayData[:, visPair[0]].reshape(resizedImageSize)-imagesGrayData[:, visPair[1]].reshape(resizedImageSize))**2\n",
      "\n",
      "if doRGB :\n",
      "    figure('Bad Pair '+np.string_(np.sum(squaredDiff))); imshow(np.array(squaredDiff*np.max(squaredDiff)*255, dtype=uint8))\n",
      "    figure('Bad Pair Weighted '+np.string_(np.sum(squaredDiff*fittedWeights))); imshow(np.array(squaredDiff*fittedWeights*np.max(squaredDiff*fittedWeights)*255, dtype=uint8))\n",
      "else :\n",
      "    gwv.showCustomGraph(squaredDiff, title='Bad Pair '+np.string_(np.sum(squaredDiff)))\n",
      "    gwv.showCustomGraph(squaredDiff*fittedWeights, \n",
      "                        title='Bad Pair Weighted '+np.string_(np.sum(squaredDiff*fittedWeights)))\n",
      "\n",
      "visPair = good[:, -1]\n",
      "print visPair\n",
      "# figure(); imshow(imagesGrayData[:, visPair[0]].reshape(resizedImageSize))\n",
      "# figure(); imshow(imagesGrayData[:, visPair[1]].reshape(resizedImageSize))\n",
      "if doRGB :\n",
      "    squaredDiff = (imagesRGBData[:, visPair[0]].reshape(resizedImageSize)-imagesRGBData[:, visPair[1]].reshape(resizedImageSize))**2\n",
      "else :\n",
      "    squaredDiff = (imagesGrayData[:, visPair[0]].reshape(resizedImageSize)-imagesGrayData[:, visPair[1]].reshape(resizedImageSize))**2\n",
      "    \n",
      "if doRGB :\n",
      "    figure('Good Pair '+np.string_(np.sum(squaredDiff))); imshow(np.array(squaredDiff*np.max(squaredDiff)*255, dtype=uint8))\n",
      "    figure('Good Pair Weighted '+np.string_(np.sum(squaredDiff*fittedWeights))); imshow(np.array(squaredDiff*fittedWeights*np.max(squaredDiff*fittedWeights)*255, dtype=uint8))\n",
      "else :\n",
      "    gwv.showCustomGraph(squaredDiff, title='Good Pair '+np.string_(np.sum(squaredDiff)))\n",
      "    gwv.showCustomGraph(squaredDiff*fittedWeights, \n",
      "                        title='Good Pair Weighted '+np.string_(np.sum(squaredDiff*fittedWeights)))"
     ],
     "language": "python",
     "metadata": {},
     "outputs": [
      {
       "ename": "ValueError",
       "evalue": "total size of new array must be unchanged",
       "output_type": "pyerr",
       "traceback": [
        "\u001b[0;31m---------------------------------------------------------------------------\u001b[0m\n\u001b[0;31mValueError\u001b[0m                                Traceback (most recent call last)",
        "\u001b[0;32m<ipython-input-242-b32a8f817339>\u001b[0m in \u001b[0;36m<module>\u001b[0;34m()\u001b[0m\n\u001b[1;32m      9\u001b[0m \u001b[0;32melse\u001b[0m \u001b[0;34m:\u001b[0m\u001b[0;34m\u001b[0m\u001b[0m\n\u001b[1;32m     10\u001b[0m     \u001b[0mresizedImageSize\u001b[0m \u001b[0;34m=\u001b[0m \u001b[0mcv2\u001b[0m\u001b[0;34m.\u001b[0m\u001b[0mresize\u001b[0m\u001b[0;34m(\u001b[0m\u001b[0mcv2\u001b[0m\u001b[0;34m.\u001b[0m\u001b[0mimread\u001b[0m\u001b[0;34m(\u001b[0m\u001b[0mframePaths\u001b[0m\u001b[0;34m[\u001b[0m\u001b[0;36m0\u001b[0m\u001b[0;34m]\u001b[0m\u001b[0;34m)\u001b[0m\u001b[0;34m,\u001b[0m \u001b[0;34m(\u001b[0m\u001b[0;36m0\u001b[0m\u001b[0;34m,\u001b[0m \u001b[0;36m0\u001b[0m\u001b[0;34m)\u001b[0m\u001b[0;34m,\u001b[0m \u001b[0mfx\u001b[0m\u001b[0;34m=\u001b[0m\u001b[0mresizeRatio\u001b[0m\u001b[0;34m,\u001b[0m \u001b[0mfy\u001b[0m\u001b[0;34m=\u001b[0m\u001b[0mresizeRatio\u001b[0m\u001b[0;34m)\u001b[0m\u001b[0;34m.\u001b[0m\u001b[0mshape\u001b[0m\u001b[0;34m[\u001b[0m\u001b[0;36m0\u001b[0m\u001b[0;34m:\u001b[0m\u001b[0;36m2\u001b[0m\u001b[0;34m]\u001b[0m\u001b[0;34m\u001b[0m\u001b[0m\n\u001b[0;32m---> 11\u001b[0;31m \u001b[0mfittedWeights\u001b[0m \u001b[0;34m=\u001b[0m \u001b[0msio\u001b[0m\u001b[0;34m.\u001b[0m\u001b[0mloadmat\u001b[0m\u001b[0;34m(\u001b[0m\u001b[0mphiSaveLoc\u001b[0m\u001b[0;34m)\u001b[0m\u001b[0;34m[\u001b[0m\u001b[0;34m'phi_MAP'\u001b[0m\u001b[0;34m]\u001b[0m\u001b[0;34m.\u001b[0m\u001b[0mreshape\u001b[0m\u001b[0;34m(\u001b[0m\u001b[0mresizedImageSize\u001b[0m\u001b[0;34m)\u001b[0m\u001b[0;34m\u001b[0m\u001b[0m\n\u001b[0m\u001b[1;32m     12\u001b[0m \u001b[0;34m\u001b[0m\u001b[0m\n\u001b[1;32m     13\u001b[0m \u001b[0mvisPair\u001b[0m \u001b[0;34m=\u001b[0m \u001b[0mbad\u001b[0m\u001b[0;34m[\u001b[0m\u001b[0;34m:\u001b[0m\u001b[0;34m,\u001b[0m \u001b[0;34m-\u001b[0m\u001b[0;36m1\u001b[0m\u001b[0;34m]\u001b[0m\u001b[0;34m\u001b[0m\u001b[0m\n",
        "\u001b[0;31mValueError\u001b[0m: total size of new array must be unchanged"
       ]
      }
     ],
     "prompt_number": 242
    },
    {
     "cell_type": "code",
     "collapsed": false,
     "input": [
      "goodWeighted = []\n",
      "badWeighted = []\n",
      "goodL2 = []\n",
      "badL2 = []\n",
      "fittedWeights = np.ndarray.flatten(sio.loadmat(phiSaveLoc)['phi_MAP'])\n",
      "for pair in good.T :\n",
      "    if doHogs :\n",
      "        squaredDiff = (hogFeats[pair[0], :]-hogFeats[pair[1], :])**2\n",
      "    else :\n",
      "        if doRGB :\n",
      "            squaredDiff = (imagesRGBData[:, pair[0]]-imagesRGBData[:, pair[1]])**2\n",
      "        else :\n",
      "            squaredDiff = (imagesGrayData[:, pair[0]]-imagesGrayData[:, pair[1]])**2\n",
      "    print pair, np.sqrt(np.sum(squaredDiff)), np.sqrt(np.sum(squaredDiff*fittedWeights))\n",
      "    goodWeighted.append(np.sqrt(np.sum(squaredDiff*fittedWeights)))\n",
      "    goodL2.append(np.sqrt(np.sum(squaredDiff)))\n",
      "\n",
      "print \n",
      "for pair in bad.T :\n",
      "    if doHogs :\n",
      "        squaredDiff = (hogFeats[pair[0], :]-hogFeats[pair[1], :])**2\n",
      "    else :\n",
      "        if doRGB :\n",
      "            squaredDiff = (imagesRGBData[:, pair[0]]-imagesRGBData[:, pair[1]])**2\n",
      "        else :\n",
      "            squaredDiff = (imagesGrayData[:, pair[0]]-imagesGrayData[:, pair[1]])**2\n",
      "    print pair, np.sqrt(np.sum(squaredDiff)), np.sqrt(np.sum(squaredDiff*fittedWeights))\n",
      "    badWeighted.append(np.sqrt(np.sum(squaredDiff*fittedWeights)))\n",
      "    badL2.append(np.sqrt(np.sum(squaredDiff)))\n",
      "    \n",
      "## plot good vs bad examples before and after fitting psi\n",
      "figure()\n",
      "plot(goodWeighted, color=\"y\", label=\"Good training\")\n",
      "plot(badWeighted, color=\"r\", label=\"Bad training\")\n",
      "legend(bbox_to_anchor=(0., 1.02, 1., .102), loc=3, ncol=4, mode=\"expand\", borderaxespad=0.)\n",
      "\n",
      "figure()\n",
      "plot(goodL2, color=\"y\", label=\"Good training\")\n",
      "plot(badL2, color=\"r\", label=\"Bad training\")\n",
      "legend(bbox_to_anchor=(0., 1.02, 1., .102), loc=3, ncol=4, mode=\"expand\", borderaxespad=0.)"
     ],
     "language": "python",
     "metadata": {},
     "outputs": [
      {
       "output_type": "stream",
       "stream": "stdout",
       "text": [
        "[927 950] 28.7962 3.25568040671\n",
        "[927 951] 29.9694 3.31624742243\n",
        "[928 950] 31.0228 3.28603999818\n",
        "[928 951] 29.9406 3.30444044276\n",
        "[929 951] 32.6111 3.35218564045\n",
        "[929 952] 31.2468 3.33612282356\n",
        "[930 952] 34.9143 3.51962923185\n",
        "[953 927]"
       ]
      },
      {
       "output_type": "stream",
       "stream": "stdout",
       "text": [
        " 33.6028 3.43016109142\n",
        "[974 945] 27.7686 3.54677522313\n",
        "\n",
        "[126   8] 31.8612 5.1088070082\n",
        "[127   8] 30.3858 5.0365324561\n",
        "[127   9] 31.4838 5.0497133651\n",
        "[127  10] 33.7243 5.17286627321\n",
        "[128   9] 30.2666 5.02092004565\n",
        "[128  10]"
       ]
      },
      {
       "output_type": "stream",
       "stream": "stdout",
       "text": [
        " 32.0017 5.0891333627\n",
        "[129  10] 30.3147 5.02876183881\n",
        "[130  11] 30.6596 5.06703640798\n",
        "[330 105] 31.4911 5.55467993165\n",
        "[330 106] 33.2252 5.63836340946\n",
        "[928 949] 31.8953 3.30208959838\n",
        "[928 953] 31.6581 3.38338373629\n",
        "[929 942]"
       ]
      },
      {
       "output_type": "stream",
       "stream": "stdout",
       "text": [
        " 40.9584 3.50597572399\n",
        "[929 950] 33.6384 3.3312776583\n",
        "[946 922] 27.6408 3.31111736918\n",
        "[949 925] 28.0262 3.27916649496\n",
        "[950 928] 31.0228 3.28603999818\n",
        "[ 959 1029] 36.4898 4.41388797303\n",
        "[960 941] 36.1112 3.53851056852\n",
        "[960 950]"
       ]
      },
      {
       "output_type": "stream",
       "stream": "stdout",
       "text": [
        " 36.3069 3.28118439741\n"
       ]
      },
      {
       "metadata": {},
       "output_type": "pyout",
       "prompt_number": 288,
       "text": [
        "<matplotlib.legend.Legend at 0x7f50f365dd90>"
       ]
      }
     ],
     "prompt_number": 288
    },
    {
     "cell_type": "code",
     "collapsed": false,
     "input": [
      "[927 950] 27.2093 2.14080814411\n",
      "[927 951] 28.1342 2.17981672858\n",
      "[928 950] 29.7045 2.18269318793\n",
      "[928 951] 28.4334 2.18061420331\n",
      "[929 951] 31.3144 2.24727272516\n",
      "[929 952] 29.8655 2.23011209716\n",
      "[930 952] 33.0149 2.36626978265\n",
      "[953 927] 31.914 2.28318629996\n",
      "[974 945] 26.8204 2.25359033979\n",
      "\n",
      "[126   8] 30.71 3.56370817368\n",
      "[127   8] 29.2642 3.52514847033\n",
      "[127   9] 30.4547 3.54506750138\n",
      "[127  10] 32.5952 3.61926665286\n",
      "[128   9] 29.0482 3.51348336548\n",
      "[128  10] 30.7595 3.56129860681\n",
      "[129  10] 29.1621 3.49770694837\n",
      "[130  11] 29.6627 3.47948731979\n",
      "[330 105] 30.3913 3.27191115629\n",
      "[330 106] 32.0219 3.29588710884\n",
      "[928 949] 30.8524 2.20138769731\n",
      "[928 953] 30.0233 2.24931922881\n",
      "[929 942] 40.126 2.43132457755\n",
      "[929 950] 32.6549 2.25081500298\n",
      "[946 922] 26.5016 2.09064952641\n",
      "[949 925] 26.4918 2.10779238819\n",
      "[950 928] 29.7045 2.18269318793\n",
      "[ 959 1029] 35.1725 2.51904705615\n",
      "[960 941] 34.9789 2.36658488158\n",
      "[960 950] 35.2708 2.28535194038"
     ],
     "language": "python",
     "metadata": {},
     "outputs": [
      {
       "output_type": "stream",
       "stream": "stdout",
       "text": [
        "(124416, 1)\n",
        "(124416,)\n"
       ]
      }
     ],
     "prompt_number": 245
    },
    {
     "cell_type": "code",
     "collapsed": false,
     "input": [
      "print np.sqrt(np.dot(badExamplesData.T, np.ones_like(sio.loadmat(phiSaveLoc)['phi_MAP'])))\n",
      "figure(); imshow((imagesGrayData[:, bad[0, -1]].reshape(resizedImageSize)-imagesGrayData[:, bad[1, -1]].reshape(resizedImageSize))**2)\n",
      "figure(); imshow(badExamplesData[:, -1].reshape(resizedImageSize))"
     ],
     "language": "python",
     "metadata": {},
     "outputs": [
      {
       "output_type": "stream",
       "stream": "stdout",
       "text": [
        "[[ 31.47695993]\n",
        " [ 30.78504815]\n",
        " [ 30.40069948]\n",
        " [ 31.49918104]\n",
        " [ 30.27228336]\n",
        " [ 30.2817828 ]\n",
        " [ 29.79382582]\n",
        " [ 29.86158294]\n",
        " [ 31.20967169]\n",
        " [ 31.50292437]\n",
        " [ 33.4277838 ]\n",
        " [ 30.08917996]\n",
        " [ 39.37372547]\n",
        " [ 35.24486811]\n",
        " [ 28.23824751]\n",
        " [ 27.77149111]\n",
        " [ 28.81018494]\n",
        " [ 36.10360276]\n",
        " [ 34.45617229]\n",
        " [ 37.16456092]]\n"
       ]
      },
      {
       "metadata": {},
       "output_type": "pyout",
       "prompt_number": 111,
       "text": [
        "<matplotlib.image.AxesImage at 0x7f50ccdf29d0>"
       ]
      }
     ],
     "prompt_number": 111
    },
    {
     "cell_type": "code",
     "collapsed": false,
     "input": [
      "print badPairsIdxs"
     ],
     "language": "python",
     "metadata": {},
     "outputs": [
      {
       "output_type": "stream",
       "stream": "stdout",
       "text": [
        "[[ 126  127  127  127  128  128  129  130  330  330  928  928  929  929\n",
        "   946  949  950  959  960  960]\n",
        " [   7    7    8    9    8    9    9   10  104  105  948  952  941  949\n",
        "   921  924  927 1028  940  949]]\n"
       ]
      }
     ],
     "prompt_number": 112
    },
    {
     "cell_type": "code",
     "collapsed": false,
     "input": [
      "for pair in good.T :\n",
      "    squaredDiff = (imagesGrayData[:, pair[0]].reshape(resizedImageSize)-imagesGrayData[:, pair[1]].reshape(resizedImageSize))**2\n",
      "    print pair, np.sum(squaredDiff), np.sum(squaredDiff*fittedWeights)\n",
      "\n",
      "print \n",
      "for pair in bad.T :\n",
      "    squaredDiff = (imagesGrayData[:, pair[0]].reshape(resizedImageSize)-imagesGrayData[:, pair[1]].reshape(resizedImageSize))**2\n",
      "    print pair, np.sum(squaredDiff), np.sum(squaredDiff*fittedWeights)"
     ],
     "language": "python",
     "metadata": {},
     "outputs": [
      {
       "output_type": "stream",
       "stream": "stdout",
       "text": [
        "[927 950] 32.9097 0.642444400732\n",
        "[927 951] 35.5757 0.682742512259\n",
        "[928 950] 38.43 0.66400378686\n",
        "[928 951] 35.2175 0.677938958162\n",
        "[929 951] 41.2378 0.710407404714\n",
        "[929 952] 38.269 0.71415815626\n",
        "[930 952] 46.9923 0.824634201557\n",
        "[953 927] 44.5235 0.745592101714\n",
        "[974 945] 29.8629 0.733020377846\n",
        "\n",
        "[126   8] 41.7202 1.70365872749\n",
        "[127   8] 37.6276 1.6671101194\n",
        "[127   9] 38.8542 1.65753085524\n",
        "[127  10] 46.084 1.74733279477\n",
        "[128   9] 36.5701 1.63085452985\n",
        "[128  10] 42.6524 1.68913488008\n",
        "[129  10] 39.0553 1.63925455029\n",
        "[130  11] 41.0455 1.62499780822\n",
        "[330 105] 37.7244 1.53692703157\n",
        "[330 106] 43.4425 1.57465311102\n",
        "[928 949] 40.533 0.678453408204\n",
        "[928 953] 38.7427 0.732870225995\n",
        "[929 942] 65.6119 0.789278701204\n",
        "[929 950] 43.7036 0.696360431254\n",
        "[946 922] 29.674 0.628857652135\n",
        "[949 925] 31.8413 0.656804328644\n",
        "[950 928] 38.43 0.66400378686\n",
        "[ 959 1029] 51.8152 0.856124728553\n",
        "[960 941] 51.3252 0.820818747798\n",
        "[960 950] 51.2081 0.786492218328\n"
       ]
      }
     ],
     "prompt_number": 36
    },
    {
     "cell_type": "code",
     "collapsed": false,
     "input": [
      "for pair in good.T :\n",
      "    squaredDiff = (imagesGrayData[:, pair[0]].reshape(resizedImageSize)-imagesGrayData[:, pair[1]].reshape(resizedImageSize))**2\n",
      "    print pair, np.sum(squaredDiff), np.sum(squaredDiff*fittedWeights)\n",
      "\n",
      "print \n",
      "for pair in bad.T :\n",
      "    squaredDiff = (imagesGrayData[:, pair[0]].reshape(resizedImageSize)-imagesGrayData[:, pair[1]].reshape(resizedImageSize))**2\n",
      "    print pair, np.sum(squaredDiff), np.sum(squaredDiff*fittedWeights)"
     ],
     "language": "python",
     "metadata": {},
     "outputs": [
      {
       "output_type": "stream",
       "stream": "stdout",
       "text": [
        "[927 950] 829.218 9.62528281419\n",
        "[927 951] 898.167 10.0372305639\n",
        "[928 950] 962.413 9.83368071166\n",
        "[928 951] 896.441 9.97123519488\n",
        "[929 951] 1063.48 10.3027384225\n",
        "[929 952] 976.361 10.1931585883\n",
        "[930 952] 1219.01 11.4778876368\n",
        "[953 927] 1129.15 "
       ]
      },
      {
       "output_type": "stream",
       "stream": "stdout",
       "text": [
        "10.7847873526\n",
        "[974 945] 771.093 11.7762597685\n",
        "\n",
        "[126   8] 1015.13 23.7192528584\n",
        "[127   8] 923.295 22.9456828685\n",
        "[127   9] 991.232 23.2133649684\n",
        "[127  10] 1137.33 24.7508611456\n",
        "[128   9] 916.07 22.8843017642\n",
        "[128  10] 1024.11 "
       ]
      },
      {
       "output_type": "stream",
       "stream": "stdout",
       "text": [
        "23.8815194389\n",
        "[129  10] 918.979 23.2340678036\n",
        "[130  11] 940.013 23.7644245008\n",
        "[330 105] 991.687 27.9811590481\n",
        "[330 106] 1103.91 29.249145381\n",
        "[928 949] 1017.31 9.90115053034\n",
        "[928 953] 1002.24 10.4843044936\n",
        "[929 942] 1677.59 "
       ]
      },
      {
       "output_type": "stream",
       "stream": "stdout",
       "text": [
        "11.3617088612\n",
        "[929 950] 1131.54 10.1505362057\n",
        "[946 922] 764.013 9.81870561357\n",
        "[949 925] 785.47 9.69388440512\n",
        "[950 928] 962.413 9.83368071166\n",
        "[ 959 1029] 1331.51 17.0513686219\n",
        "[960 941] 1304.02 11.4992599575\n",
        "[960 950] 1318.19 10.0466273571\n"
       ]
      }
     ],
     "prompt_number": 75
    },
    {
     "cell_type": "code",
     "collapsed": false,
     "input": [
      "gwv.showCustomGraph((imagesGrayData[:, 926].reshape(resizedImageSize)-imagesGrayData[:, 927].reshape(resizedImageSize))**2)\n",
      "gwv.showCustomGraph((imagesGrayData[:, 949].reshape(resizedImageSize)-imagesGrayData[:, 950].reshape(resizedImageSize))**2)\n",
      "\n",
      "gwv.showCustomGraph((imagesGrayData[:, 958].reshape(resizedImageSize)-imagesGrayData[:, 959].reshape(resizedImageSize))**2)\n",
      "gwv.showCustomGraph((imagesGrayData[:, 1028].reshape(resizedImageSize)-imagesGrayData[:, 1029].reshape(resizedImageSize))**2)"
     ],
     "language": "python",
     "metadata": {},
     "outputs": [],
     "prompt_number": 76
    },
    {
     "cell_type": "code",
     "collapsed": false,
     "input": [
      "phiUsingPsiFromUserLabels = np.copy(fittedPhiUsingPsi)\n",
      "print phiUsingPsiFromUserLabels"
     ],
     "language": "python",
     "metadata": {},
     "outputs": [
      {
       "output_type": "stream",
       "stream": "stdout",
       "text": [
        "[[ 0.01144434]\n",
        " [ 0.01257381]\n",
        " [ 0.00987645]\n",
        " ..., \n",
        " [ 0.00792065]\n",
        " [ 0.00816853]\n",
        " [ 0.00847101]]\n"
       ]
      }
     ],
     "prompt_number": 96
    },
    {
     "cell_type": "code",
     "collapsed": false,
     "input": [
      "print fittedPhiUsingPsi"
     ],
     "language": "python",
     "metadata": {},
     "outputs": [
      {
       "output_type": "stream",
       "stream": "stdout",
       "text": [
        "[[ 0.73233894]\n",
        " [ 0.7827785 ]\n",
        " [ 0.79517611]\n",
        " ..., \n",
        " [ 0.40119578]\n",
        " [ 0.17925654]\n",
        " [ 0.41581319]]\n"
       ]
      }
     ],
     "prompt_number": 10
    },
    {
     "cell_type": "code",
     "collapsed": false,
     "input": [
      "## get indices of all pairs to compute\n",
      "allPairsImageIndices = []\n",
      "for i in xrange(numFrames) :\n",
      "    for j in xrange(i+1, numFrames) :\n",
      "        allPairsImageIndices.append(np.array([i, j]))\n",
      "        \n",
      "allPairsImageIndices = np.array(allPairsImageIndices)\n",
      "    \n",
      "## load fitted phi and compute the predicted w given this phi\n",
      "# fittedPhi = sio.loadmat(phiSaveLoc)['phi_MAP']\n",
      "# fittedPhi = sio.loadmat(\"../MATLAB/phi_MAPtrust.mat\")['phi_MAP']\n",
      "# fittedPhi = np.copy(fittedPhiUsingPsi)\n",
      "fittedPhi = np.ones_like(fittedPhiUsingPsi, dtype=float32)\n",
      "print fittedPhi.shape\n",
      "splitSize = 1000\n",
      "# doHogs = False\n",
      "if doHogs :\n",
      "    predictedW = np.dot(np.array(allPairsHogs), fittedPhi)\n",
      "#     predictedW = np.dot(np.array(allPairsHogs), np.ones_like(fittedPhi))\n",
      "else :\n",
      "    predictedW = np.empty((0), dtype=float32)\n",
      "    for i, j in zip(xrange(len(allPairsImageIndices)/splitSize+1), xrange(splitSize)) :\n",
      "        if doRGB :\n",
      "            allPairsImageData = np.zeros((splitSize, imagesRGBData.shape[0]), dtype=float32)\n",
      "        else :\n",
      "            allPairsImageData = np.zeros((splitSize, imagesGrayData.shape[0]), dtype=float32)\n",
      "#         for pair in allPairsImageIndices[i*splitSize:(i+1)*splitSize] :\n",
      "#             if doRGB :\n",
      "#                 allPairsImageData[j, :] = (imagesRGBData[:, pair[0]]-imagesRGBData[:, pair[1]])**np.float32(2)\n",
      "#             else :\n",
      "#                 allPairsImageData[j, :] = (imagesGrayData[:, pair[0]]-imagesGrayData[:, pair[1]])**np.float32(2)\n",
      "\n",
      "        pairs = allPairsImageIndices[i*splitSize:(i+1)*splitSize, :]\n",
      "        if doRGB :\n",
      "            allPairsImageData = ((imagesRGBData[:, pairs[:, 0]]-imagesRGBData[:, pairs[:, 1]])**np.float32(2)).T\n",
      "        else :\n",
      "            allPairsImageData = ((imagesGrayData[:, pairs[:, 0]]-imagesGrayData[:, pairs[:, 1]])**np.float32(2)).T\n",
      "            \n",
      "        predictedW = np.concatenate((predictedW, np.ndarray.flatten(np.sqrt(np.dot(allPairsImageData, fittedPhi)))))\n",
      "#         predictedW = np.sqrt(np.dot(np.array(allPairsImageData), np.ones_like(fittedPhi, dtype=np.float32)))\n",
      "            \n",
      "        sys.stdout.write('\\r' + \"Done with split \" + np.string_(i) + \" of \" + np.string_(len(allPairsImageIndices)/splitSize))\n",
      "        sys.stdout.flush()\n",
      "\n",
      "regressedDist = np.ones((numFrames, numFrames))\n",
      "flatRegressedDist = list(np.copy(predictedW))\n",
      "for i in xrange(numFrames-1) :\n",
      "    regressedDist[i, i+1:] = flatRegressedDist[:numFrames-(i+1)]\n",
      "    regressedDist[i+1:, i] = regressedDist[i, i+1:]\n",
      "    del flatRegressedDist[:numFrames-(i+1)]"
     ],
     "language": "python",
     "metadata": {},
     "outputs": [
      {
       "output_type": "stream",
       "stream": "stdout",
       "text": [
        "(291600, 1)\n",
        "\r",
        "Done with split 0 of 736"
       ]
      },
      {
       "output_type": "stream",
       "stream": "stdout",
       "text": [
        "\r",
        "Done with split 1 of 736"
       ]
      },
      {
       "output_type": "stream",
       "stream": "stdout",
       "text": [
        "\r",
        "Done with split 2 of 736"
       ]
      },
      {
       "output_type": "stream",
       "stream": "stdout",
       "text": [
        "\r",
        "Done with split 3 of 736"
       ]
      },
      {
       "ename": "KeyboardInterrupt",
       "evalue": "",
       "output_type": "pyerr",
       "traceback": [
        "\u001b[0;31m---------------------------------------------------------------------------\u001b[0m\n\u001b[0;31mKeyboardInterrupt\u001b[0m                         Traceback (most recent call last)",
        "\u001b[0;32m<ipython-input-14-7cc0b144842b>\u001b[0m in \u001b[0;36m<module>\u001b[0;34m()\u001b[0m\n\u001b[1;32m     35\u001b[0m             \u001b[0mallPairsImageData\u001b[0m \u001b[0;34m=\u001b[0m \u001b[0;34m(\u001b[0m\u001b[0;34m(\u001b[0m\u001b[0mimagesRGBData\u001b[0m\u001b[0;34m[\u001b[0m\u001b[0;34m:\u001b[0m\u001b[0;34m,\u001b[0m \u001b[0mpairs\u001b[0m\u001b[0;34m[\u001b[0m\u001b[0;34m:\u001b[0m\u001b[0;34m,\u001b[0m \u001b[0;36m0\u001b[0m\u001b[0;34m]\u001b[0m\u001b[0;34m]\u001b[0m\u001b[0;34m-\u001b[0m\u001b[0mimagesRGBData\u001b[0m\u001b[0;34m[\u001b[0m\u001b[0;34m:\u001b[0m\u001b[0;34m,\u001b[0m \u001b[0mpairs\u001b[0m\u001b[0;34m[\u001b[0m\u001b[0;34m:\u001b[0m\u001b[0;34m,\u001b[0m \u001b[0;36m1\u001b[0m\u001b[0;34m]\u001b[0m\u001b[0;34m]\u001b[0m\u001b[0;34m)\u001b[0m\u001b[0;34m**\u001b[0m\u001b[0mnp\u001b[0m\u001b[0;34m.\u001b[0m\u001b[0mfloat32\u001b[0m\u001b[0;34m(\u001b[0m\u001b[0;36m2\u001b[0m\u001b[0;34m)\u001b[0m\u001b[0;34m)\u001b[0m\u001b[0;34m.\u001b[0m\u001b[0mT\u001b[0m\u001b[0;34m\u001b[0m\u001b[0m\n\u001b[1;32m     36\u001b[0m         \u001b[0;32melse\u001b[0m \u001b[0;34m:\u001b[0m\u001b[0;34m\u001b[0m\u001b[0m\n\u001b[0;32m---> 37\u001b[0;31m             \u001b[0mallPairsImageData\u001b[0m \u001b[0;34m=\u001b[0m \u001b[0;34m(\u001b[0m\u001b[0;34m(\u001b[0m\u001b[0mimagesGrayData\u001b[0m\u001b[0;34m[\u001b[0m\u001b[0;34m:\u001b[0m\u001b[0;34m,\u001b[0m \u001b[0mpairs\u001b[0m\u001b[0;34m[\u001b[0m\u001b[0;34m:\u001b[0m\u001b[0;34m,\u001b[0m \u001b[0;36m0\u001b[0m\u001b[0;34m]\u001b[0m\u001b[0;34m]\u001b[0m\u001b[0;34m-\u001b[0m\u001b[0mimagesGrayData\u001b[0m\u001b[0;34m[\u001b[0m\u001b[0;34m:\u001b[0m\u001b[0;34m,\u001b[0m \u001b[0mpairs\u001b[0m\u001b[0;34m[\u001b[0m\u001b[0;34m:\u001b[0m\u001b[0;34m,\u001b[0m \u001b[0;36m1\u001b[0m\u001b[0;34m]\u001b[0m\u001b[0;34m]\u001b[0m\u001b[0;34m)\u001b[0m\u001b[0;34m**\u001b[0m\u001b[0mnp\u001b[0m\u001b[0;34m.\u001b[0m\u001b[0mfloat32\u001b[0m\u001b[0;34m(\u001b[0m\u001b[0;36m2\u001b[0m\u001b[0;34m)\u001b[0m\u001b[0;34m)\u001b[0m\u001b[0;34m.\u001b[0m\u001b[0mT\u001b[0m\u001b[0;34m\u001b[0m\u001b[0m\n\u001b[0m\u001b[1;32m     38\u001b[0m \u001b[0;34m\u001b[0m\u001b[0m\n\u001b[1;32m     39\u001b[0m         \u001b[0mpredictedW\u001b[0m \u001b[0;34m=\u001b[0m \u001b[0mnp\u001b[0m\u001b[0;34m.\u001b[0m\u001b[0mconcatenate\u001b[0m\u001b[0;34m(\u001b[0m\u001b[0;34m(\u001b[0m\u001b[0mpredictedW\u001b[0m\u001b[0;34m,\u001b[0m \u001b[0mnp\u001b[0m\u001b[0;34m.\u001b[0m\u001b[0mndarray\u001b[0m\u001b[0;34m.\u001b[0m\u001b[0mflatten\u001b[0m\u001b[0;34m(\u001b[0m\u001b[0mnp\u001b[0m\u001b[0;34m.\u001b[0m\u001b[0msqrt\u001b[0m\u001b[0;34m(\u001b[0m\u001b[0mnp\u001b[0m\u001b[0;34m.\u001b[0m\u001b[0mdot\u001b[0m\u001b[0;34m(\u001b[0m\u001b[0mallPairsImageData\u001b[0m\u001b[0;34m,\u001b[0m \u001b[0mfittedPhi\u001b[0m\u001b[0;34m)\u001b[0m\u001b[0;34m)\u001b[0m\u001b[0;34m)\u001b[0m\u001b[0;34m)\u001b[0m\u001b[0;34m)\u001b[0m\u001b[0;34m\u001b[0m\u001b[0m\n",
        "\u001b[0;31mKeyboardInterrupt\u001b[0m: "
       ]
      }
     ],
     "prompt_number": 14
    },
    {
     "cell_type": "code",
     "collapsed": false,
     "input": [
      "print allPairsImageData.shape"
     ],
     "language": "python",
     "metadata": {},
     "outputs": [
      {
       "output_type": "stream",
       "stream": "stdout",
       "text": [
        "(291600, 1000)\n"
       ]
      }
     ],
     "prompt_number": 13
    },
    {
     "cell_type": "code",
     "collapsed": false,
     "input": [
      "print diffs.shape"
     ],
     "language": "python",
     "metadata": {},
     "outputs": [
      {
       "output_type": "stream",
       "stream": "stdout",
       "text": [
        "(291600, 1000)\n"
       ]
      }
     ],
     "prompt_number": 10
    },
    {
     "cell_type": "code",
     "collapsed": false,
     "input": [
      "print len(allPairsImageData)/1000+1\n",
      "print len(allPairsImageData[397*1000:398*1000])"
     ],
     "language": "python",
     "metadata": {},
     "outputs": [
      {
       "output_type": "stream",
       "stream": "stdout",
       "text": [
        "398\n",
        "386\n"
       ]
      }
     ],
     "prompt_number": 23
    },
    {
     "cell_type": "code",
     "collapsed": false,
     "input": [
      "# gwv.showCustomGraph(regressedDist)\n",
      "gwv.showCustomGraph(np.load(dataPath+dataSet+\"vanilla_distMat.npy\"))"
     ],
     "language": "python",
     "metadata": {},
     "outputs": [],
     "prompt_number": 16
    },
    {
     "cell_type": "code",
     "collapsed": false,
     "input": [
      "randDist = np.copy(regressedDist)"
     ],
     "language": "python",
     "metadata": {},
     "outputs": [],
     "prompt_number": 16
    },
    {
     "cell_type": "code",
     "collapsed": false,
     "input": [
      "print fittedPhi\n"
     ],
     "language": "python",
     "metadata": {},
     "outputs": [
      {
       "output_type": "stream",
       "stream": "stdout",
       "text": [
        "[[ 0.00876724]\n",
        " [ 0.00969801]\n",
        " [ 0.00833425]\n",
        " ..., \n",
        " [ 0.00353353]\n",
        " [ 0.0037435 ]\n",
        " [ 0.00404945]]\n"
       ]
      }
     ],
     "prompt_number": 116
    },
    {
     "cell_type": "code",
     "collapsed": false,
     "input": [
      "# np.save(dataPath+dataSet+\"psiWeighted_allOnesWeights_distMat.npy\", regressedDist)\n",
      "np.save(dataPath+dataSet+\"psiWeighted_1000randomBadExamples_distMat.npy\", regressedDist)\n",
      "# np.save(dataPath+dataSet+\"psiWeighted_userLabelledExamples_distMat.npy\", regressedDist)"
     ],
     "language": "python",
     "metadata": {},
     "outputs": [],
     "prompt_number": 17
    },
    {
     "cell_type": "code",
     "collapsed": false,
     "input": [
      "np.log(1+np.exp(np.log(np.exp(np.ones(5))-1)))"
     ],
     "language": "python",
     "metadata": {},
     "outputs": [
      {
       "metadata": {},
       "output_type": "pyout",
       "prompt_number": 25,
       "text": [
        "array([ 1.,  1.,  1.,  1.,  1.])"
       ]
      }
     ],
     "prompt_number": 25
    },
    {
     "cell_type": "code",
     "collapsed": false,
     "input": [
      "gwv.showCustomGraph(np.load(dataPath+dataSet+\"l2_distMat.npy\"))"
     ],
     "language": "python",
     "metadata": {},
     "outputs": [],
     "prompt_number": 31
    },
    {
     "cell_type": "code",
     "collapsed": false,
     "input": [
      "# gwv.showCustomGraph(regressedDist, title='pendulum - Regressed using phi')\n",
      "gwv.showCustomGraph(regressedDist, title='pendulum - usingPsi')"
     ],
     "language": "python",
     "metadata": {},
     "outputs": [],
     "prompt_number": 29
    },
    {
     "cell_type": "code",
     "collapsed": false,
     "input": [
      "i = 0\n",
      "tmp1 = np.sqrt(np.sum((imagesGrayData[:, i].reshape((np.prod(np.array(imageSize)*resizeRatio), 1))-imagesGrayData[:, i:])**2, axis=0))\n",
      "print tmp1\n",
      "tmp2 = imagesGrayData[:, i]-imagesGrayData[:, i+1]\n",
      "figure(); plot(tmp2 - np.power(allPairsImageData[0], np.float32(0.5)))"
     ],
     "language": "python",
     "metadata": {},
     "outputs": [
      {
       "output_type": "stream",
       "stream": "stdout",
       "text": [
        "[  0.           2.94753957   4.4728632    5.63140011   6.42800283\n",
        "   6.74628592   6.85019398   6.86660767   6.64902163   6.01714516\n",
        "   4.98771286   3.63144398   1.62939119   2.23918724   3.54651928\n",
        "   4.43064165   4.73490143   4.82271338   4.71566963   4.26934004\n",
        "   3.25426149   1.80119431   2.37402511   4.08405066   5.32952881\n",
        "   6.23304796   6.87261295   7.07322598   7.07166052   7.01613092\n",
        "   6.4570756    5.60087347   4.40920353   2.83635569   1.9902842\n",
        "   3.25305891   4.19991779   4.70832253   4.88824034   4.85903263\n",
        "   4.57332897   3.72373629   2.52589607   1.68940222   3.5361414\n",
        "   4.91064453   5.98272848   6.6291728    6.8569684    6.90657663\n",
        "   6.82108164   6.62466908   5.79740381   5.00353003   5.56105757\n",
        "   4.38882113   4.73390293   5.1609478    5.91588926   6.82270575\n",
        "   7.70413971   8.04233551   9.10244083  10.53842354  12.20118618\n",
        "  14.5207901 ]\n"
       ]
      },
      {
       "metadata": {},
       "output_type": "pyout",
       "prompt_number": 97,
       "text": [
        "[<matplotlib.lines.Line2D at 0x7f8f4e0586d0>]"
       ]
      }
     ],
     "prompt_number": 97
    },
    {
     "cell_type": "code",
     "collapsed": false,
     "input": [
      "### use random forests instead of the phi thingy\n",
      "# from sklearn import ensemble\n",
      "\n",
      "tic = time.time()\n",
      "regressor = ensemble.ExtraTreesRegressor(n_estimators=100, n_jobs=4, verbose=0)\n",
      "regressor.fit(list(X.T), list(np.ndarray.flatten(w/np.max(w))))\n",
      "print \"regressor trained in\", time.time()-tic; sys.stdout.flush()"
     ],
     "language": "python",
     "metadata": {},
     "outputs": [
      {
       "output_type": "stream",
       "stream": "stdout",
       "text": [
        "regressor trained in 4.26730203629\n"
       ]
      }
     ],
     "prompt_number": 140
    },
    {
     "cell_type": "code",
     "collapsed": false,
     "input": [
      "tic = time.time()\n",
      "dists = regressor.predict(allPairsHogs)\n",
      "print \"distance regressed in\", time.time()-tic; sys.stdout.flush()"
     ],
     "language": "python",
     "metadata": {},
     "outputs": [
      {
       "output_type": "stream",
       "stream": "stdout",
       "text": [
        "distance regressed in 9.71999001503\n"
       ]
      }
     ],
     "prompt_number": 141
    },
    {
     "cell_type": "code",
     "collapsed": false,
     "input": [
      "forestsDist = np.ones((numFrames, numFrames))\n",
      "flatRegressedDist = list(np.copy(dists))\n",
      "for i in xrange(numFrames-1) :\n",
      "    forestsDist[i, i+1:] = flatRegressedDist[:numFrames-(i+1)]\n",
      "    forestsDist[i+1:, i] = forestsDist[i, i+1:]\n",
      "    del flatRegressedDist[:numFrames-(i+1)]"
     ],
     "language": "python",
     "metadata": {},
     "outputs": [],
     "prompt_number": 142
    },
    {
     "cell_type": "code",
     "collapsed": false,
     "input": [
      "gwv.showCustomGraph(forestsDist, title='Regressed by forests')"
     ],
     "language": "python",
     "metadata": {},
     "outputs": [],
     "prompt_number": 143
    },
    {
     "cell_type": "code",
     "collapsed": false,
     "input": [
      "gwv.showCustomGraph(np.load(dataPath+dataSet+\"64adj10.avi_distanceMatrix.npy\"))"
     ],
     "language": "python",
     "metadata": {},
     "outputs": [],
     "prompt_number": 144
    },
    {
     "cell_type": "code",
     "collapsed": false,
     "input": [
      "## save for matlab if necessary\n",
      "sio.savemat(\"hogs_training_examples\", {\"X\":X, \"w\":w})\n",
      "# sio.savemat(\"hogs_training_examples_pairs\", {\"badExamples\":badPairsIdxs, \"goodExamples\":goodPairsIdxs})\n",
      "# sio.savemat(\"all_hogs_pair_feats\", {\"all_pairs_feats\":np.array(allPairsHogs).T})\n",
      "# sio.savemat(\"/media/ilisescu/Data1/imagesRGB_data\", {\"imagesRGBData\":imagesRGBData})"
     ],
     "language": "python",
     "metadata": {},
     "outputs": [],
     "prompt_number": 15
    },
    {
     "cell_type": "code",
     "collapsed": false,
     "input": [
      "## now estimate phi based on training X and w\n",
      "\n",
      "iterNum = 0\n",
      "def printStats(xk) :\n",
      "    global iterNum\n",
      "    global phi0\n",
      "    global derCallCount; derCallCount = 0\n",
      "    global fCallCount; fCallCount = 0\n",
      "    print \n",
      "    print iterNum, np.mean(np.abs(xk-phi0)); sys.stdout.flush()\n",
      "    iterNum += 1\n",
      "\n",
      "tic = time.time()\n",
      "phi_MAP = optimize.fmin_ncg(negLogL_MAP, phi0, fprime=derNegLogL_MAP, callback=printStats,\n",
      "                            args=(X, w, N)).reshape(phi0.shape)\n",
      "print \"optimized in\", time.time()-tic; sys.stdout.flush()"
     ],
     "language": "python",
     "metadata": {},
     "outputs": [],
     "prompt_number": 5
    },
    {
     "cell_type": "code",
     "collapsed": false,
     "input": [
      "## use phi_MAP computed by matlab using downsampled RGB images (every 64th pixel only) to compute dists in the next bit\n",
      "phi_MAP = sio.loadmat(\"../MATLAB/phi_MAP.mat\")['phi_MAP']\n",
      "print phi_MAP.shape\n",
      "\n",
      "downsampledRGB = imagesRGBData.reshape((imagesRGBData.shape[0]/3, 3, 672))\n",
      "downsampledRGB = downsampledRGB[arange(0, downsampledRGB.shape[0], 64), :, :]\n",
      "downsampledRGB = downsampledRGB.reshape(downsampledRGB.shape[0]*3, 672)\n",
      "print downsampledRGB.shape"
     ],
     "language": "python",
     "metadata": {},
     "outputs": [],
     "prompt_number": 4
    },
    {
     "cell_type": "code",
     "collapsed": false,
     "input": [
      "dists = np.empty((0, 1))\n",
      "for i in arange(downsampledRGB.shape[-1]) :\n",
      "    allPairsRGB = []\n",
      "    for j in xrange(i+1, downsampledRGB.shape[-1]) :\n",
      "        ## ABS DIST\n",
      "#         allPairsHogs.append(np.sqrt((hogFeats[i, :]-hogFeats[j, :])**2))\n",
      "        allPairsRGB.append((downsampledRGB[:, i]-downsampledRGB[:, j])**2)\n",
      "    \n",
      "#     newDists = \n",
      "    dists = np.concatenate((dists, np.dot(np.array(allPairsRGB), phi_MAP)))\n",
      "    \n",
      "    sys.stdout.write('\\r' + \"Done with row \" + np.string_(i) + \" of \" + np.string_(downsampledRGB.shape[-1]))\n",
      "    sys.stdout.flush()"
     ],
     "language": "python",
     "metadata": {},
     "outputs": [],
     "prompt_number": 8
    },
    {
     "cell_type": "code",
     "collapsed": false,
     "input": [
      "# dists = sio.loadmat(\"../MATLAB/predW.mat\")['predW']\n",
      "# dists = sio.loadmat(\"../MATLAB/l2W.mat\")['l2W']\n",
      "numFrames = downsampledRGB.shape[-1]\n",
      "regressedDist = np.ones((numFrames, numFrames))\n",
      "flatRegressedDist = list(np.copy(dists))\n",
      "for i in xrange(numFrames-1) :\n",
      "    regressedDist[i, i+1:] = flatRegressedDist[:numFrames-(i+1)]\n",
      "    regressedDist[i+1:, i] = regressedDist[i, i+1:]\n",
      "    del flatRegressedDist[:numFrames-(i+1)]"
     ],
     "language": "python",
     "metadata": {},
     "outputs": [],
     "prompt_number": 21
    },
    {
     "cell_type": "code",
     "collapsed": false,
     "input": [
      "gwv.showCustomGraph(regressedDist)"
     ],
     "language": "python",
     "metadata": {},
     "outputs": [],
     "prompt_number": 24
    },
    {
     "cell_type": "code",
     "collapsed": false,
     "input": [
      "np.save(\"/media/ilisescu/Data1/PhD/data/Videos/6489810.avi_learnedPhiRGBfeats.npy\", regressedDist)"
     ],
     "language": "python",
     "metadata": {},
     "outputs": [],
     "prompt_number": 23
    },
    {
     "cell_type": "code",
     "collapsed": false,
     "input": [
      "# l2Dist = np.load(\"/media/ilisescu/Data1/PhD/data/Videos/6489810.avi_distanceMatrix.npy\")\n",
      "gwv.showCustomGraph(l2Dist)\n",
      "gwv.showCustomGraph(vtu.filterDistanceMatrix(l2Dist, 4, False))"
     ],
     "language": "python",
     "metadata": {},
     "outputs": [
      {
       "output_type": "stream",
       "stream": "stdout",
       "text": [
        "[  1.   8.  28.  56.  70.  56.  28.   8.   1.]\n"
       ]
      }
     ],
     "prompt_number": 290
    }
   ],
   "metadata": {}
  }
 ]
}