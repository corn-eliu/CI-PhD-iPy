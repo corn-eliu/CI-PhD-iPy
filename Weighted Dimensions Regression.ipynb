{
 "metadata": {
  "name": "",
  "signature": "sha256:11e4693825c279b873d634df7798c9b242ff7ebef0f258dc62d2c1f7f6ce525b"
 },
 "nbformat": 3,
 "nbformat_minor": 0,
 "worksheets": [
  {
   "cells": [
    {
     "cell_type": "code",
     "collapsed": false,
     "input": [
      "%pylab\n",
      "import numpy as np\n",
      "import sys\n",
      "import scipy as sp\n",
      "from scipy import optimize\n",
      "\n",
      "import time\n",
      "import os\n",
      "\n",
      "from sklearn import ensemble\n",
      "import cv2\n",
      "\n",
      "import scipy.io as sio\n",
      "import glob\n",
      "import commands\n",
      "\n",
      "from PIL import Image\n",
      "\n",
      "import GraphWithValues as gwv\n",
      "import VideoTexturesUtils as vtu\n",
      "\n",
      "import ComputeGridFeatures as cgf"
     ],
     "language": "python",
     "metadata": {},
     "outputs": [
      {
       "output_type": "stream",
       "stream": "stdout",
       "text": [
        "Using matplotlib backend: TkAgg\n",
        "Populating the interactive namespace from numpy and matplotlib\n"
       ]
      }
     ],
     "prompt_number": 1
    },
    {
     "cell_type": "code",
     "collapsed": false,
     "input": [
      "## trying to replicate Neill's example\n",
      "N = 9 ## 3x3 images\n",
      "phi_true = sio.loadmat(\"../MATLAB/phi_true.mat\")['phi_true']\n",
      "\n",
      "## plot gamma prior\n",
      "alpha = 20\n",
      "beta = alpha-1\n",
      "\n",
      "def gammaDistrib(x, a, b) :\n",
      "    return (b**a)*np.exp(-b*x)*(x**(a-1))/sp.special.gamma(a)\n",
      "\n",
      "p = np.arange(0, 10+10.0/200, 10.0/200)\n",
      "\n",
      "figure(); plot(p, gammaDistrib(p, alpha, beta))\n",
      "gca().set_autoscale_on(False)\n",
      "\n",
      "nn, bin_edges = np.histogram(phi_true, bins=20)\n",
      "## pp are bin centers\n",
      "pp = bin_edges[:-1]+(bin_edges[1]-bin_edges[0])/2.0\n",
      "scatter(pp[nn>0], nn[nn>0]*np.mean(np.diff(pp)), c='r', marker='o')\n",
      "\n",
      "## training data\n",
      "I = 50 ## num images\n",
      "\n",
      "X_train = sio.loadmat(\"../MATLAB/X_train.mat\")['X_train']\n",
      "sigma_true = 0.25\n",
      "\n",
      "w_true = sio.loadmat(\"../MATLAB/w_true.mat\")['w_true']\n",
      "w_train = sio.loadmat(\"../MATLAB/w_train.mat\")['w_train']\n",
      "\n",
      "\n",
      "X_test = sio.loadmat(\"../MATLAB/X_test.mat\")['X_test']\n",
      "w_test = np.dot(X_test.T, phi_true)\n",
      "\n",
      "\n",
      "## testing\n",
      "sigma_sq = sigma_true**2\n",
      "\n",
      "errorsML = np.zeros((I, 1))\n",
      "errorsMAP = np.zeros((I, 1))\n",
      "\n",
      "\n",
      "## functions to optimize\n",
      "def logL_ML(phi, X, w, N) :\n",
      "    phi = np.reshape(phi, (len(phi), 1))\n",
      "    result = -0.5 * (1.0/sigma_sq) * np.dot((w - np.dot(X.T, phi)).T, (w - np.dot(X.T, phi)))\n",
      "    return float(result)\n",
      "\n",
      "def logL_MAP(phi, X, w, N) :\n",
      "    phi = np.reshape(phi, (len(phi), 1))\n",
      "    result = (-0.5 * (1.0/sigma_sq) * np.dot((w - np.dot(X.T, phi)).T, (w - np.dot(X.T, phi))) - \n",
      "              np.dot(beta*np.ones((N, 1)).T, phi) + np.dot((alpha-1)*np.ones((N, 1)).T, np.log(phi)))\n",
      "    return float(result)\n",
      "\n",
      "def negLogL_ML(phi, X, w, N) :\n",
      "    phi = np.reshape(phi, (len(phi), 1))\n",
      "    result = - logL_ML(phi, X, w, N)\n",
      "    return float(result)#.reshape((1,))\n",
      "\n",
      "fCallCount = 0\n",
      "def negLogL_MAP(phi, X, w, N) :\n",
      "    \n",
      "    global fCallCount\n",
      "    fCallCount += 1\n",
      "    if np.mod(fCallCount, 100) == 0 :\n",
      "        sys.stdout.write('\\r' + \"function call count \" + np.string_(fCallCount)); sys.stdout.flush()\n",
      "    \n",
      "    phi = np.reshape(phi, (len(phi), 1))\n",
      "    result = - logL_MAP(phi, X, w, N)\n",
      "    return float(result)#.reshape((1,))\n",
      "\n",
      "def derNegLogL_ML(phi, X, w, N) :\n",
      "    phi = np.reshape(phi, (len(phi), 1))\n",
      "    result = -(1/sigma_sq)*np.dot(X, w-np.dot(X.T, phi))\n",
      "    return np.ndarray.flatten(result)\n",
      "\n",
      "derCallCount = 0\n",
      "def derNegLogL_MAP(phi, X, w, N) :\n",
      "    \n",
      "    global derCallCount\n",
      "    derCallCount += 1\n",
      "    if np.mod(derCallCount, 100) == 0 :\n",
      "        sys.stdout.write('\\r' + \"derivative call count \" + np.string_(derCallCount)); sys.stdout.flush()\n",
      "        \n",
      "    phi = np.reshape(phi, (len(phi), 1))\n",
      "    result = (-(1/sigma_sq)*np.dot(X, w-np.dot(X.T, phi)) + beta*np.ones((N, 1)) - \n",
      "              ((alpha-1)*np.ones((N, 1)))*(1.0/phi))\n",
      "    return np.ndarray.flatten(result)"
     ],
     "language": "python",
     "metadata": {},
     "outputs": [],
     "prompt_number": 2
    },
    {
     "cell_type": "code",
     "collapsed": false,
     "input": [
      "for i in arange(I) :\n",
      "    \n",
      "#     X = X_train[:, :i+1]\n",
      "#     w = w_train[:i+1, :]\n",
      "    \n",
      "    phi0 = np.ones((N, 1))\n",
      "    \n",
      "    phi_ML = optimize.fmin_ncg(negLogL_ML, phi0, fprime=derNegLogL_ML, \n",
      "                               args=(X_train[:, :i+1], w_train[:i+1, :], N)).reshape(phi0.shape)\n",
      "    phi_MAP = optimize.fmin_ncg(negLogL_MAP, phi0, fprime=derNegLogL_MAP, \n",
      "                                args=(X_train[:, :i+1], w_train[:i+1, :], N)).reshape(phi0.shape)\n",
      "    \n",
      "    errorsML[i] = np.linalg.norm(w_test- np.dot(X_test.T, phi_ML))\n",
      "    errorsMAP[i] = np.linalg.norm(w_test- np.dot(X_test.T, phi_MAP))\n",
      "    \n",
      "    print \"done\", i\n",
      "    sys.stdout.flush()\n",
      "    \n",
      "figure(); plot(errorsML); plot(errorsMAP)"
     ],
     "language": "python",
     "metadata": {},
     "outputs": [
      {
       "output_type": "stream",
       "stream": "stdout",
       "text": [
        "Optimization terminated successfully.\n",
        "         Current function value: 0.000000\n",
        "         Iterations: 2\n",
        "         Function evaluations: 3\n",
        "         Gradient evaluations: 8\n",
        "         Hessian evaluations: 0\n",
        "Optimization terminated successfully.\n",
        "         Current function value: 173.160097\n",
        "         Iterations: 7\n",
        "         Function evaluations: 8\n",
        "         Gradient evaluations: 36\n",
        "         Hessian evaluations: 0\n",
        "done 0\n"
       ]
      },
      {
       "output_type": "stream",
       "stream": "stdout",
       "text": [
        "Warning: Desired error not necessarily achieved due to precision loss.\n",
        "         Current function value: 0.000000\n",
        "         Iterations: 2\n",
        "         Function evaluations: 15\n",
        "         Gradient evaluations: 313\n",
        "         Hessian evaluations: 0\n",
        "Optimization terminated successfully.\n",
        "         Current function value: 173.610656\n",
        "         Iterations: 7\n",
        "         Function evaluations: 8\n",
        "         Gradient evaluations: 36\n",
        "         Hessian evaluations: 0\n",
        "done 1\n"
       ]
      },
      {
       "output_type": "stream",
       "stream": "stdout",
       "text": [
        "Optimization terminated successfully.\n",
        "         Current function value: 0.000000\n",
        "         Iterations: 7\n",
        "         Function evaluations: 8\n",
        "         Gradient evaluations: 38\n",
        "         Hessian evaluations: 0\n",
        "\r",
        "derivative call count 100"
       ]
      },
      {
       "output_type": "stream",
       "stream": "stdout",
       "text": [
        "Optimization terminated successfully.\n",
        "         Current function value: 173.920401\n",
        "         Iterations: 7\n",
        "         Function evaluations: 8\n",
        "         Gradient evaluations: 46\n",
        "         Hessian evaluations: 0\n",
        "done 2\n"
       ]
      },
      {
       "output_type": "stream",
       "stream": "stdout",
       "text": [
        "Optimization terminated successfully.\n",
        "         Current function value: 0.000000\n",
        "         Iterations: 7\n",
        "         Function evaluations: 8\n",
        "         Gradient evaluations: 42\n",
        "         Hessian evaluations: 0\n",
        "Optimization terminated successfully.\n",
        "         Current function value: 175.466340\n",
        "         Iterations: 8\n",
        "         Function evaluations: 9\n",
        "         Gradient evaluations: 50\n",
        "         Hessian evaluations: 0\n",
        "done 3\n"
       ]
      },
      {
       "output_type": "stream",
       "stream": "stdout",
       "text": [
        "Optimization terminated successfully.\n",
        "         Current function value: 0.000000\n",
        "         Iterations: 7\n",
        "         Function evaluations: 8\n",
        "         Gradient evaluations: 3560\n",
        "         Hessian evaluations: 0\n",
        "\r",
        "derivative call count 200"
       ]
      },
      {
       "output_type": "stream",
       "stream": "stdout",
       "text": [
        "\r",
        "derivative call count 300"
       ]
      },
      {
       "output_type": "stream",
       "stream": "stdout",
       "text": [
        "Optimization terminated successfully.\n",
        "         Current function value: 175.585820\n",
        "         Iterations: 7\n",
        "         Function evaluations: 8\n",
        "         Gradient evaluations: 212\n",
        "         Hessian evaluations: 0\n",
        "done 4\n"
       ]
      },
      {
       "output_type": "stream",
       "stream": "stdout",
       "text": [
        "Optimization terminated successfully.\n",
        "         Current function value: 0.000000\n",
        "         Iterations: 8\n",
        "         Function evaluations: 9\n",
        "         Gradient evaluations: 54\n",
        "         Hessian evaluations: 0\n",
        "\r",
        "derivative call count 400"
       ]
      },
      {
       "output_type": "stream",
       "stream": "stdout",
       "text": [
        "Optimization terminated successfully.\n",
        "         Current function value: 175.898373\n",
        "         Iterations: 7\n",
        "         Function evaluations: 8\n",
        "         Gradient evaluations: 42\n",
        "         Hessian evaluations: 0\n",
        "done 5\n"
       ]
      },
      {
       "output_type": "stream",
       "stream": "stdout",
       "text": [
        "Optimization terminated successfully.\n",
        "         Current function value: 0.000000\n",
        "         Iterations: 12\n",
        "         Function evaluations: 13\n",
        "         Gradient evaluations: 126\n",
        "         Hessian evaluations: 0\n",
        "Optimization terminated successfully.\n",
        "         Current function value: 175.960572\n",
        "         Iterations: 7\n",
        "         Function evaluations: 8\n",
        "         Gradient evaluations: 42\n",
        "         Hessian evaluations: 0\n",
        "done 6\n"
       ]
      },
      {
       "output_type": "stream",
       "stream": "stdout",
       "text": [
        "Optimization terminated successfully.\n",
        "         Current function value: 0.000000\n",
        "         Iterations: 8\n",
        "         Function evaluations: 10\n",
        "         Gradient evaluations: 103\n",
        "         Hessian evaluations: 0\n",
        "\r",
        "derivative call count 500"
       ]
      },
      {
       "output_type": "stream",
       "stream": "stdout",
       "text": [
        "Optimization terminated successfully.\n",
        "         Current function value: 176.284399\n",
        "         Iterations: 7\n",
        "         Function evaluations: 8\n",
        "         Gradient evaluations: 42\n",
        "         Hessian evaluations: 0\n",
        "done 7\n"
       ]
      },
      {
       "output_type": "stream",
       "stream": "stdout",
       "text": [
        "Optimization terminated successfully.\n",
        "         Current function value: 0.000000\n",
        "         Iterations: 6\n",
        "         Function evaluations: 7\n",
        "         Gradient evaluations: 64\n",
        "         Hessian evaluations: 0\n",
        "Optimization terminated successfully.\n",
        "         Current function value: 176.794533\n",
        "         Iterations: 7\n",
        "         Function evaluations: 8\n",
        "         Gradient evaluations: 42\n",
        "         Hessian evaluations: 0\n",
        "done 8\n"
       ]
      },
      {
       "output_type": "stream",
       "stream": "stdout",
       "text": [
        "Optimization terminated successfully.\n",
        "         Current function value: 0.384907\n",
        "         Iterations: 9\n",
        "         Function evaluations: 10\n",
        "         Gradient evaluations: 120\n",
        "         Hessian evaluations: 0\n",
        "Optimization terminated successfully.\n",
        "         Current function value: 176.931362\n",
        "         Iterations: 8\n",
        "         Function evaluations: 9\n",
        "         Gradient evaluations: 46\n",
        "         Hessian evaluations: 0\n",
        "done 9\n"
       ]
      },
      {
       "output_type": "stream",
       "stream": "stdout",
       "text": [
        "Optimization terminated successfully.\n",
        "         Current function value: 0.982496\n",
        "         Iterations: 9\n",
        "         Function evaluations: 10\n",
        "         Gradient evaluations: 376\n",
        "         Hessian evaluations: 0\n",
        "\r",
        "derivative call count 600"
       ]
      },
      {
       "output_type": "stream",
       "stream": "stdout",
       "text": [
        "Optimization terminated successfully.\n",
        "         Current function value: 177.551259\n",
        "         Iterations: 8\n",
        "         Function evaluations: 9\n",
        "         Gradient evaluations: 46\n",
        "         Hessian evaluations: 0\n",
        "done 10\n"
       ]
      },
      {
       "output_type": "stream",
       "stream": "stdout",
       "text": [
        "Optimization terminated successfully.\n",
        "         Current function value: 1.277285\n",
        "         Iterations: 9\n",
        "         Function evaluations: 10\n",
        "         Gradient evaluations: 118\n",
        "         Hessian evaluations: 0\n",
        "\r",
        "function call count 100"
       ]
      },
      {
       "output_type": "stream",
       "stream": "stdout",
       "text": [
        "Optimization terminated successfully.\n",
        "         Current function value: 177.575622\n",
        "         Iterations: 8\n",
        "         Function evaluations: 9\n",
        "         Gradient evaluations: 46\n",
        "         Hessian evaluations: 0\n",
        "done 11\n"
       ]
      },
      {
       "output_type": "stream",
       "stream": "stdout",
       "text": [
        "Optimization terminated successfully.\n",
        "         Current function value: 1.321095\n",
        "         Iterations: 10\n",
        "         Function evaluations: 11\n",
        "         Gradient evaluations: 120\n",
        "         Hessian evaluations: 0\n",
        "\r",
        "derivative call count 700"
       ]
      },
      {
       "output_type": "stream",
       "stream": "stdout",
       "text": [
        "Optimization terminated successfully.\n",
        "         Current function value: 177.687142\n",
        "         Iterations: 8\n",
        "         Function evaluations: 9\n",
        "         Gradient evaluations: 48\n",
        "         Hessian evaluations: 0\n",
        "done 12\n"
       ]
      },
      {
       "output_type": "stream",
       "stream": "stdout",
       "text": [
        "Optimization terminated successfully.\n",
        "         Current function value: 3.315639\n",
        "         Iterations: 10\n",
        "         Function evaluations: 11\n",
        "         Gradient evaluations: 382\n",
        "         Hessian evaluations: 0\n",
        "Optimization terminated successfully.\n",
        "         Current function value: 178.295250\n",
        "         Iterations: 8\n",
        "         Function evaluations: 9\n",
        "         Gradient evaluations: 44\n",
        "         Hessian evaluations: 0\n",
        "done 13\n"
       ]
      },
      {
       "output_type": "stream",
       "stream": "stdout",
       "text": [
        "Optimization terminated successfully.\n",
        "         Current function value: 3.433739\n",
        "         Iterations: 10\n",
        "         Function evaluations: 11\n",
        "         Gradient evaluations: 104\n",
        "         Hessian evaluations: 0\n",
        "\r",
        "derivative call count 800"
       ]
      },
      {
       "output_type": "stream",
       "stream": "stdout",
       "text": [
        "Optimization terminated successfully.\n",
        "         Current function value: 178.778127\n",
        "         Iterations: 9\n",
        "         Function evaluations: 10\n",
        "         Gradient evaluations: 52\n",
        "         Hessian evaluations: 0\n",
        "done 14\n"
       ]
      },
      {
       "output_type": "stream",
       "stream": "stdout",
       "text": [
        "Optimization terminated successfully.\n",
        "         Current function value: 3.435811\n",
        "         Iterations: 9\n",
        "         Function evaluations: 10\n",
        "         Gradient evaluations: 92\n",
        "         Hessian evaluations: 0\n",
        "Optimization terminated successfully.\n",
        "         Current function value: 178.810750\n",
        "         Iterations: 9\n",
        "         Function evaluations: 10\n",
        "         Gradient evaluations: 52\n",
        "         Hessian evaluations: 0\n",
        "done 15\n"
       ]
      },
      {
       "output_type": "stream",
       "stream": "stdout",
       "text": [
        "Optimization terminated successfully.\n",
        "         Current function value: 3.469406\n",
        "         Iterations: 10\n",
        "         Function evaluations: 11\n",
        "         Gradient evaluations: 94\n",
        "         Hessian evaluations: 0\n",
        "\r",
        "derivative call count 900"
       ]
      },
      {
       "output_type": "stream",
       "stream": "stdout",
       "text": [
        "Optimization terminated successfully.\n",
        "         Current function value: 178.920489\n",
        "         Iterations: 8\n",
        "         Function evaluations: 9\n",
        "         Gradient evaluations: 50\n",
        "         Hessian evaluations: 0\n",
        "done 16\n"
       ]
      },
      {
       "output_type": "stream",
       "stream": "stdout",
       "text": [
        "Optimization terminated successfully.\n",
        "         Current function value: 3.481645\n",
        "         Iterations: 10\n",
        "         Function evaluations: 11\n",
        "         Gradient evaluations: 90\n",
        "         Hessian evaluations: 0\n",
        "Optimization terminated successfully.\n",
        "         Current function value: 179.034133\n",
        "         Iterations: 8\n",
        "         Function evaluations: 9\n",
        "         Gradient evaluations: 50\n",
        "         Hessian evaluations: 0\n",
        "done 17\n"
       ]
      },
      {
       "output_type": "stream",
       "stream": "stdout",
       "text": [
        "Optimization terminated successfully.\n",
        "         Current function value: 3.499602\n",
        "         Iterations: 10\n",
        "         Function evaluations: 11\n",
        "         Gradient evaluations: 82\n",
        "         Hessian evaluations: 0\n",
        "\r",
        "derivative call count 1000"
       ]
      },
      {
       "output_type": "stream",
       "stream": "stdout",
       "text": [
        "Optimization terminated successfully.\n",
        "         Current function value: 179.649638\n",
        "         Iterations: 8\n",
        "         Function evaluations: 9\n",
        "         Gradient evaluations: 50\n",
        "         Hessian evaluations: 0\n",
        "done 18\n"
       ]
      },
      {
       "output_type": "stream",
       "stream": "stdout",
       "text": [
        "Optimization terminated successfully.\n",
        "         Current function value: 3.593218\n",
        "         Iterations: 9\n",
        "         Function evaluations: 10\n",
        "         Gradient evaluations: 82\n",
        "         Hessian evaluations: 0\n",
        "Optimization terminated successfully.\n",
        "         Current function value: 179.869509\n",
        "         Iterations: 8\n",
        "         Function evaluations: 9\n",
        "         Gradient evaluations: 50\n",
        "         Hessian evaluations: 0\n",
        "done 19\n"
       ]
      },
      {
       "output_type": "stream",
       "stream": "stdout",
       "text": [
        "Optimization terminated successfully.\n",
        "         Current function value: 3.709131\n",
        "         Iterations: 9\n",
        "         Function evaluations: 10\n",
        "         Gradient evaluations: 78\n",
        "         Hessian evaluations: 0\n",
        "\r",
        "derivative call count 1100"
       ]
      },
      {
       "output_type": "stream",
       "stream": "stdout",
       "text": [
        "Optimization terminated successfully.\n",
        "         Current function value: 180.073268\n",
        "         Iterations: 9\n",
        "         Function evaluations: 10\n",
        "         Gradient evaluations: 52\n",
        "         Hessian evaluations: 0\n",
        "done 20\n"
       ]
      },
      {
       "output_type": "stream",
       "stream": "stdout",
       "text": [
        "Optimization terminated successfully.\n",
        "         Current function value: 3.763319\n",
        "         Iterations: 9\n",
        "         Function evaluations: 10\n",
        "         Gradient evaluations: 84\n",
        "         Hessian evaluations: 0\n",
        "Optimization terminated successfully.\n",
        "         Current function value: 180.081300\n",
        "         Iterations: 8\n",
        "         Function evaluations: 9\n",
        "         Gradient evaluations: 50\n",
        "         Hessian evaluations: 0\n",
        "done 21\n"
       ]
      },
      {
       "output_type": "stream",
       "stream": "stdout",
       "text": [
        "Optimization terminated successfully.\n",
        "         Current function value: 4.530684\n",
        "         Iterations: 9\n",
        "         Function evaluations: 11\n",
        "         Gradient evaluations: 224089\n",
        "         Hessian evaluations: 0\n",
        "\r",
        "derivative call count 1200"
       ]
      },
      {
       "output_type": "stream",
       "stream": "stdout",
       "text": [
        "\r",
        "function call count 200"
       ]
      },
      {
       "output_type": "stream",
       "stream": "stdout",
       "text": [
        "Optimization terminated successfully.\n",
        "         Current function value: 181.028194\n",
        "         Iterations: 9\n",
        "         Function evaluations: 10\n",
        "         Gradient evaluations: 56\n",
        "         Hessian evaluations: 0\n",
        "done 22\n"
       ]
      },
      {
       "output_type": "stream",
       "stream": "stdout",
       "text": [
        "Optimization terminated successfully.\n",
        "         Current function value: 4.942385\n",
        "         Iterations: 9\n",
        "         Function evaluations: 10\n",
        "         Gradient evaluations: 82\n",
        "         Hessian evaluations: 0\n",
        "Optimization terminated successfully.\n",
        "         Current function value: 181.311896\n",
        "         Iterations: 9\n",
        "         Function evaluations: 10\n",
        "         Gradient evaluations: 56\n",
        "         Hessian evaluations: 0\n",
        "done 23\n"
       ]
      },
      {
       "output_type": "stream",
       "stream": "stdout",
       "text": [
        "Optimization terminated successfully.\n",
        "         Current function value: 6.804710\n",
        "         Iterations: 9\n",
        "         Function evaluations: 10\n",
        "         Gradient evaluations: 76\n",
        "         Hessian evaluations: 0\n",
        "\r",
        "derivative call count 1300"
       ]
      },
      {
       "output_type": "stream",
       "stream": "stdout",
       "text": [
        "Optimization terminated successfully.\n",
        "         Current function value: 184.082607\n",
        "         Iterations: 9\n",
        "         Function evaluations: 10\n",
        "         Gradient evaluations: 54\n",
        "         Hessian evaluations: 0\n",
        "done 24\n"
       ]
      },
      {
       "output_type": "stream",
       "stream": "stdout",
       "text": [
        "Optimization terminated successfully.\n",
        "         Current function value: 6.844969\n",
        "         Iterations: 10\n",
        "         Function evaluations: 11\n",
        "         Gradient evaluations: 94\n",
        "         Hessian evaluations: 0\n",
        "\r",
        "derivative call count 1400"
       ]
      },
      {
       "output_type": "stream",
       "stream": "stdout",
       "text": [
        "Optimization terminated successfully.\n",
        "         Current function value: 184.162110\n",
        "         Iterations: 9\n",
        "         Function evaluations: 10\n",
        "         Gradient evaluations: 54\n",
        "         Hessian evaluations: 0\n",
        "done 25\n"
       ]
      },
      {
       "output_type": "stream",
       "stream": "stdout",
       "text": [
        "Optimization terminated successfully.\n",
        "         Current function value: 6.903592\n",
        "         Iterations: 10\n",
        "         Function evaluations: 11\n",
        "         Gradient evaluations: 102\n",
        "         Hessian evaluations: 0\n",
        "Optimization terminated successfully.\n",
        "         Current function value: 184.220136\n",
        "         Iterations: 8\n",
        "         Function evaluations: 9\n",
        "         Gradient evaluations: 46\n",
        "         Hessian evaluations: 0\n",
        "done 26\n"
       ]
      },
      {
       "output_type": "stream",
       "stream": "stdout",
       "text": [
        "Optimization terminated successfully.\n",
        "         Current function value: 7.672047\n",
        "         Iterations: 9\n",
        "         Function evaluations: 10\n",
        "         Gradient evaluations: 78\n",
        "         Hessian evaluations: 0\n",
        "\r",
        "derivative call count 1500"
       ]
      },
      {
       "output_type": "stream",
       "stream": "stdout",
       "text": [
        "Optimization terminated successfully.\n",
        "         Current function value: 184.542831\n",
        "         Iterations: 8\n",
        "         Function evaluations: 9\n",
        "         Gradient evaluations: 52\n",
        "         Hessian evaluations: 0\n",
        "done 27\n"
       ]
      },
      {
       "output_type": "stream",
       "stream": "stdout",
       "text": [
        "Optimization terminated successfully.\n",
        "         Current function value: 7.970551\n",
        "         Iterations: 10\n",
        "         Function evaluations: 11\n",
        "         Gradient evaluations: 86\n",
        "         Hessian evaluations: 0\n",
        "Optimization terminated successfully.\n",
        "         Current function value: 184.640423\n",
        "         Iterations: 9\n",
        "         Function evaluations: 10\n",
        "         Gradient evaluations: 64\n",
        "         Hessian evaluations: 0\n",
        "done 28\n"
       ]
      },
      {
       "output_type": "stream",
       "stream": "stdout",
       "text": [
        "Optimization terminated successfully.\n",
        "         Current function value: 7.992087\n",
        "         Iterations: 10\n",
        "         Function evaluations: 11\n",
        "         Gradient evaluations: 86\n",
        "         Hessian evaluations: 0\n",
        "\r",
        "derivative call count 1600"
       ]
      },
      {
       "output_type": "stream",
       "stream": "stdout",
       "text": [
        "Optimization terminated successfully.\n",
        "         Current function value: 184.640460\n",
        "         Iterations: 9\n",
        "         Function evaluations: 10\n",
        "         Gradient evaluations: 64\n",
        "         Hessian evaluations: 0\n",
        "done 29\n"
       ]
      },
      {
       "output_type": "stream",
       "stream": "stdout",
       "text": [
        "Optimization terminated successfully.\n",
        "         Current function value: 9.418893\n",
        "         Iterations: 9\n",
        "         Function evaluations: 10\n",
        "         Gradient evaluations: 78\n",
        "         Hessian evaluations: 0\n",
        "Optimization terminated successfully.\n",
        "         Current function value: 186.084185\n",
        "         Iterations: 10\n",
        "         Function evaluations: 11\n",
        "         Gradient evaluations: 56\n",
        "         Hessian evaluations: 0\n",
        "done 30\n"
       ]
      },
      {
       "output_type": "stream",
       "stream": "stdout",
       "text": [
        "Optimization terminated successfully.\n",
        "         Current function value: 9.501456\n",
        "         Iterations: 9\n",
        "         Function evaluations: 10\n",
        "         Gradient evaluations: 88\n",
        "         Hessian evaluations: 0\n",
        "\r",
        "derivative call count 1700"
       ]
      },
      {
       "output_type": "stream",
       "stream": "stdout",
       "text": [
        "Optimization terminated successfully.\n",
        "         Current function value: 186.842980\n",
        "         Iterations: 9\n",
        "         Function evaluations: 10\n",
        "         Gradient evaluations: 62\n",
        "         Hessian evaluations: 0\n",
        "done 31\n"
       ]
      },
      {
       "output_type": "stream",
       "stream": "stdout",
       "text": [
        "Optimization terminated successfully.\n",
        "         Current function value: 9.517383\n",
        "         Iterations: 11\n",
        "         Function evaluations: 12\n",
        "         Gradient evaluations: 96\n",
        "         Hessian evaluations: 0\n",
        "\r",
        "function call count 300"
       ]
      },
      {
       "output_type": "stream",
       "stream": "stdout",
       "text": [
        "\r",
        "derivative call count 1800"
       ]
      },
      {
       "output_type": "stream",
       "stream": "stdout",
       "text": [
        "Optimization terminated successfully.\n",
        "         Current function value: 187.117485\n",
        "         Iterations: 9\n",
        "         Function evaluations: 10\n",
        "         Gradient evaluations: 62\n",
        "         Hessian evaluations: 0\n",
        "done 32\n"
       ]
      },
      {
       "output_type": "stream",
       "stream": "stdout",
       "text": [
        "Optimization terminated successfully.\n",
        "         Current function value: 9.788427\n",
        "         Iterations: 10\n",
        "         Function evaluations: 11\n",
        "         Gradient evaluations: 102\n",
        "         Hessian evaluations: 0\n",
        "Optimization terminated successfully.\n",
        "         Current function value: 187.385088\n",
        "         Iterations: 9\n",
        "         Function evaluations: 10\n",
        "         Gradient evaluations: 62\n",
        "         Hessian evaluations: 0\n",
        "done 33\n"
       ]
      },
      {
       "output_type": "stream",
       "stream": "stdout",
       "text": [
        "Optimization terminated successfully.\n",
        "         Current function value: 9.788779\n",
        "         Iterations: 10\n",
        "         Function evaluations: 11\n",
        "         Gradient evaluations: 90\n",
        "         Hessian evaluations: 0\n",
        "\r",
        "derivative call count 1900"
       ]
      },
      {
       "output_type": "stream",
       "stream": "stdout",
       "text": [
        "Optimization terminated successfully.\n",
        "         Current function value: 187.405074\n",
        "         Iterations: 9\n",
        "         Function evaluations: 10\n",
        "         Gradient evaluations: 62\n",
        "         Hessian evaluations: 0\n",
        "done 34\n"
       ]
      },
      {
       "output_type": "stream",
       "stream": "stdout",
       "text": [
        "Optimization terminated successfully.\n",
        "         Current function value: 9.868440\n",
        "         Iterations: 11\n",
        "         Function evaluations: 13\n",
        "         Gradient evaluations: 8857\n",
        "         Hessian evaluations: 0\n",
        "Optimization terminated successfully.\n",
        "         Current function value: 187.673531\n",
        "         Iterations: 9\n",
        "         Function evaluations: 10\n",
        "         Gradient evaluations: 64\n",
        "         Hessian evaluations: 0\n",
        "done 35\n"
       ]
      },
      {
       "output_type": "stream",
       "stream": "stdout",
       "text": [
        "Optimization terminated successfully.\n",
        "         Current function value: 9.883110\n",
        "         Iterations: 10\n",
        "         Function evaluations: 11\n",
        "         Gradient evaluations: 92\n",
        "         Hessian evaluations: 0\n",
        "\r",
        "derivative call count 2000"
       ]
      },
      {
       "output_type": "stream",
       "stream": "stdout",
       "text": [
        "Optimization terminated successfully.\n",
        "         Current function value: 187.727532\n",
        "         Iterations: 8\n",
        "         Function evaluations: 9\n",
        "         Gradient evaluations: 50\n",
        "         Hessian evaluations: 0\n",
        "done 36\n"
       ]
      },
      {
       "output_type": "stream",
       "stream": "stdout",
       "text": [
        "Optimization terminated successfully.\n",
        "         Current function value: 9.883442\n",
        "         Iterations: 10\n",
        "         Function evaluations: 11\n",
        "         Gradient evaluations: 80\n",
        "         Hessian evaluations: 0\n",
        "\r",
        "derivative call count 2100"
       ]
      },
      {
       "output_type": "stream",
       "stream": "stdout",
       "text": [
        "Optimization terminated successfully.\n",
        "         Current function value: 187.756425\n",
        "         Iterations: 9\n",
        "         Function evaluations: 10\n",
        "         Gradient evaluations: 62\n",
        "         Hessian evaluations: 0\n",
        "done 37\n"
       ]
      },
      {
       "output_type": "stream",
       "stream": "stdout",
       "text": [
        "Optimization terminated successfully.\n",
        "         Current function value: 10.019186\n",
        "         Iterations: 10\n",
        "         Function evaluations: 11\n",
        "         Gradient evaluations: 86\n",
        "         Hessian evaluations: 0\n",
        "Optimization terminated successfully.\n",
        "         Current function value: 188.211240\n",
        "         Iterations: 9\n",
        "         Function evaluations: 10\n",
        "         Gradient evaluations: 56\n",
        "         Hessian evaluations: 0\n",
        "done 38\n"
       ]
      },
      {
       "output_type": "stream",
       "stream": "stdout",
       "text": [
        "Optimization terminated successfully.\n",
        "         Current function value: 10.713229\n",
        "         Iterations: 10\n",
        "         Function evaluations: 11\n",
        "         Gradient evaluations: 76\n",
        "         Hessian evaluations: 0\n",
        "\r",
        "derivative call count 2200"
       ]
      },
      {
       "output_type": "stream",
       "stream": "stdout",
       "text": [
        "Optimization terminated successfully.\n",
        "         Current function value: 189.450585\n",
        "         Iterations: 9\n",
        "         Function evaluations: 10\n",
        "         Gradient evaluations: 52\n",
        "         Hessian evaluations: 0\n",
        "done 39\n"
       ]
      },
      {
       "output_type": "stream",
       "stream": "stdout",
       "text": [
        "Optimization terminated successfully.\n",
        "         Current function value: 10.736941\n",
        "         Iterations: 10\n",
        "         Function evaluations: 11\n",
        "         Gradient evaluations: 80\n",
        "         Hessian evaluations: 0\n",
        "Optimization terminated successfully.\n",
        "         Current function value: 191.353534\n",
        "         Iterations: 8\n",
        "         Function evaluations: 9\n",
        "         Gradient evaluations: 58\n",
        "         Hessian evaluations: 0\n",
        "done 40\n"
       ]
      },
      {
       "output_type": "stream",
       "stream": "stdout",
       "text": [
        "Optimization terminated successfully.\n",
        "         Current function value: 11.662915\n",
        "         Iterations: 10\n",
        "         Function evaluations: 11\n",
        "         Gradient evaluations: 72\n",
        "         Hessian evaluations: 0\n",
        "\r",
        "derivative call count 2300"
       ]
      },
      {
       "output_type": "stream",
       "stream": "stdout",
       "text": [
        "Optimization terminated successfully.\n",
        "         Current function value: 192.143929\n",
        "         Iterations: 8\n",
        "         Function evaluations: 9\n",
        "         Gradient evaluations: 50\n",
        "         Hessian evaluations: 0\n",
        "done 41\n"
       ]
      },
      {
       "output_type": "stream",
       "stream": "stdout",
       "text": [
        "Optimization terminated successfully.\n",
        "         Current function value: 11.759609\n",
        "         Iterations: 10\n",
        "         Function evaluations: 11\n",
        "         Gradient evaluations: 78\n",
        "         Hessian evaluations: 0\n",
        "Optimization terminated successfully.\n",
        "         Current function value: 192.567472\n",
        "         Iterations: 8\n",
        "         Function evaluations: 9\n",
        "         Gradient evaluations: 54\n",
        "         Hessian evaluations: 0\n",
        "done 42\n"
       ]
      },
      {
       "output_type": "stream",
       "stream": "stdout",
       "text": [
        "Optimization terminated successfully.\n",
        "         Current function value: 11.764840\n",
        "         Iterations: 10\n",
        "         Function evaluations: 11\n",
        "         Gradient evaluations: 80\n",
        "         Hessian evaluations: 0\n",
        "\r",
        "function call count 400"
       ]
      },
      {
       "output_type": "stream",
       "stream": "stdout",
       "text": [
        "\r",
        "derivative call count 2400"
       ]
      },
      {
       "output_type": "stream",
       "stream": "stdout",
       "text": [
        "Optimization terminated successfully.\n",
        "         Current function value: 192.710801\n",
        "         Iterations: 9\n",
        "         Function evaluations: 10\n",
        "         Gradient evaluations: 54\n",
        "         Hessian evaluations: 0\n",
        "done 43\n"
       ]
      },
      {
       "output_type": "stream",
       "stream": "stdout",
       "text": [
        "Optimization terminated successfully.\n",
        "         Current function value: 11.847448\n",
        "         Iterations: 10\n",
        "         Function evaluations: 11\n",
        "         Gradient evaluations: 78\n",
        "         Hessian evaluations: 0\n",
        "Optimization terminated successfully.\n",
        "         Current function value: 192.735782\n",
        "         Iterations: 9\n",
        "         Function evaluations: 10\n",
        "         Gradient evaluations: 54\n",
        "         Hessian evaluations: 0\n",
        "done 44\n"
       ]
      },
      {
       "output_type": "stream",
       "stream": "stdout",
       "text": [
        "Optimization terminated successfully.\n",
        "         Current function value: 11.868757\n",
        "         Iterations: 10\n",
        "         Function evaluations: 11\n",
        "         Gradient evaluations: 82\n",
        "         Hessian evaluations: 0\n",
        "\r",
        "derivative call count 2500"
       ]
      },
      {
       "output_type": "stream",
       "stream": "stdout",
       "text": [
        "Optimization terminated successfully.\n",
        "         Current function value: 192.806520\n",
        "         Iterations: 10\n",
        "         Function evaluations: 11\n",
        "         Gradient evaluations: 62\n",
        "         Hessian evaluations: 0\n",
        "done 45\n"
       ]
      },
      {
       "output_type": "stream",
       "stream": "stdout",
       "text": [
        "Optimization terminated successfully.\n",
        "         Current function value: 12.356785\n",
        "         Iterations: 11\n",
        "         Function evaluations: 12\n",
        "         Gradient evaluations: 90\n",
        "         Hessian evaluations: 0\n",
        "\r",
        "derivative call count 2600"
       ]
      },
      {
       "output_type": "stream",
       "stream": "stdout",
       "text": [
        "Optimization terminated successfully.\n",
        "         Current function value: 193.238438\n",
        "         Iterations: 9\n",
        "         Function evaluations: 10\n",
        "         Gradient evaluations: 56\n",
        "         Hessian evaluations: 0\n",
        "done 46\n"
       ]
      },
      {
       "output_type": "stream",
       "stream": "stdout",
       "text": [
        "Optimization terminated successfully.\n",
        "         Current function value: 14.210684\n",
        "         Iterations: 10\n",
        "         Function evaluations: 11\n",
        "         Gradient evaluations: 72\n",
        "         Hessian evaluations: 0\n",
        "Optimization terminated successfully.\n",
        "         Current function value: 193.425310\n",
        "         Iterations: 9\n",
        "         Function evaluations: 10\n",
        "         Gradient evaluations: 60\n",
        "         Hessian evaluations: 0\n",
        "done 47\n"
       ]
      },
      {
       "output_type": "stream",
       "stream": "stdout",
       "text": [
        "Optimization terminated successfully.\n",
        "         Current function value: 14.237883\n",
        "         Iterations: 10\n",
        "         Function evaluations: 11\n",
        "         Gradient evaluations: 74\n",
        "         Hessian evaluations: 0\n",
        "\r",
        "derivative call count 2700"
       ]
      },
      {
       "output_type": "stream",
       "stream": "stdout",
       "text": [
        "Optimization terminated successfully.\n",
        "         Current function value: 193.514440\n",
        "         Iterations: 10\n",
        "         Function evaluations: 11\n",
        "         Gradient evaluations: 68\n",
        "         Hessian evaluations: 0\n",
        "done 48\n"
       ]
      },
      {
       "output_type": "stream",
       "stream": "stdout",
       "text": [
        "Optimization terminated successfully.\n",
        "         Current function value: 15.228118\n",
        "         Iterations: 10\n",
        "         Function evaluations: 11\n",
        "         Gradient evaluations: 70\n",
        "         Hessian evaluations: 0\n",
        "Optimization terminated successfully.\n",
        "         Current function value: 194.763148\n",
        "         Iterations: 9\n",
        "         Function evaluations: 10\n",
        "         Gradient evaluations: 58\n",
        "         Hessian evaluations: 0\n",
        "done 49\n"
       ]
      },
      {
       "metadata": {},
       "output_type": "pyout",
       "prompt_number": 3,
       "text": [
        "[<matplotlib.lines.Line2D at 0x7f9da54e05d0>]"
       ]
      }
     ],
     "prompt_number": 3
    },
    {
     "cell_type": "code",
     "collapsed": false,
     "input": [
      "## example optimization\n",
      "def rosen(x):\n",
      "    \"\"\"The Rosenbrock function\"\"\"\n",
      "    return sum(100.0*(x[1:]-x[:-1]**2.0)**2.0 + (1-x[:-1])**2.0)\n",
      "\n",
      "def rosen_der(x):\n",
      "    xm = x[1:-1]\n",
      "    xm_m1 = x[:-2]\n",
      "    xm_p1 = x[2:]\n",
      "    der = zeros_like(x)\n",
      "    der[1:-1] = 200*(xm-xm_m1**2) - 400*(xm_p1 - xm**2)*xm - 2*(1-xm)\n",
      "    der[0] = -400*x[0]*(x[1]-x[0]**2) - 2*(1-x[0])\n",
      "    der[-1] = 200*(x[-1]-x[-2]**2)\n",
      "    return der\n",
      "\n",
      "x0 = [1.3, 0.7, 0.8, 1.9, 1.2]\n",
      "xopt = optimize.fmin_ncg(rosen, x0, fprime=rosen_der)"
     ],
     "language": "python",
     "metadata": {},
     "outputs": [
      {
       "output_type": "stream",
       "stream": "stdout",
       "text": [
        "Optimization terminated successfully.\n",
        "         Current function value: 0.000000\n",
        "         Iterations: 21\n",
        "         Function evaluations: 30\n",
        "         Gradient evaluations: 152\n",
        "         Hessian evaluations: 0\n"
       ]
      }
     ],
     "prompt_number": 4
    },
    {
     "cell_type": "code",
     "collapsed": false,
     "input": [
      "# dataPath = \"/home/ilisescu/PhD/data/\"\n",
      "dataPath = \"/media/ilisescu/Data1/PhD/data/\"\n",
      "\n",
      "# dataSet = \"pendulum/\"\n",
      "# dataSet = \"tree/\"\n",
      "# dataSet = \"splashes_water/\"\n",
      "# dataSet = \"small_waterfall/\"\n",
      "# dataSet = \"sisi_flag/\"\n",
      "# dataSet = \"eu_flag_ph_left/\"\n",
      "dataSet = \"ribbon2/\"\n",
      "# dataSet = \"candle1/segmentedAndCropped/\"\n",
      "framePaths = np.sort(glob.glob(dataPath + dataSet + \"frame*.png\"))\n",
      "numFrames = len(framePaths)\n",
      "print numFrames\n",
      "imageSize = np.array(Image.open(framePaths[0])).shape[0:2]"
     ],
     "language": "python",
     "metadata": {},
     "outputs": [
      {
       "output_type": "stream",
       "stream": "stdout",
       "text": [
        "1280\n"
       ]
      }
     ],
     "prompt_number": 5
    },
    {
     "cell_type": "code",
     "collapsed": false,
     "input": [
      "im = cv2.imread(framePaths[0])\n",
      "figure(); imshow(cv2.cvtColor(im, cv2.COLOR_BGR2RGB))"
     ],
     "language": "python",
     "metadata": {},
     "outputs": [
      {
       "metadata": {},
       "output_type": "pyout",
       "prompt_number": 4,
       "text": [
        "<matplotlib.image.AxesImage at 0x7f009951cd10>"
       ]
      }
     ],
     "prompt_number": 4
    },
    {
     "cell_type": "code",
     "collapsed": false,
     "input": [
      "### compute l2 dist for images of the splashes_water dataset\n",
      "resizeRatio = 1.0#0.4#0.5#0.75\n",
      "doRGB = False\n",
      "useRange = False\n",
      "featsRange = np.array([-2, -1, 0, 1, 2])\n",
      "# featsRange = np.array([-1, 0, 1])\n",
      "rangeResizeRatios = resizeRatio/2**np.abs(arange(-np.floor(len(featsRange)/2), np.floor(len(featsRange)/2)+1))\n",
      "baseDimensionality = int(np.prod(np.round(np.array(imageSize)*resizeRatio)))\n",
      "if doRGB :\n",
      "    if useRange :\n",
      "        imagesRGBData = np.zeros((np.sum(baseDimensionality/((resizeRatio/rangeResizeRatios)**2))*3, numFrames), dtype=np.float32)\n",
      "    else :\n",
      "        imagesRGBData = np.zeros((baseDimensionality*3, numFrames), dtype=np.float32)\n",
      "else :\n",
      "    if useRange :\n",
      "        imagesGrayData = np.zeros((np.sum(baseDimensionality/((resizeRatio/rangeResizeRatios)**2)), numFrames), dtype=np.float32)\n",
      "    else :\n",
      "        imagesGrayData = np.zeros((baseDimensionality, numFrames), dtype=np.float32)\n",
      "\n",
      "for i in xrange(numFrames) :\n",
      "    if doRGB :\n",
      "        if useRange :\n",
      "            for delta, ratio in zip(featsRange, rangeResizeRatios) :\n",
      "                print delta+i, ratio, \n",
      "            print \n",
      "        else :\n",
      "            imagesRGBData[:, i] = np.ndarray.flatten(np.array(cv2.cvtColor(cv2.resize(cv2.imread(framePaths[i]), \n",
      "                                                                                      (0, 0), fx=resizeRatio, fy=resizeRatio, \n",
      "                                                                                      interpolation=cv2.INTER_AREA), cv2.COLOR_BGR2RGB)))\n",
      "    else :\n",
      "        if useRange :\n",
      "            feats = np.empty(0)\n",
      "            for delta, ratio in zip(featsRange, rangeResizeRatios) :\n",
      "                if delta+i >= 0 and delta+i < numFrames :\n",
      "                    feats = np.concatenate((feats, \n",
      "                                            np.ndarray.flatten(np.array(cv2.cvtColor(cv2.resize(cv2.imread(framePaths[delta+i]), \n",
      "                                                                                                (0, 0), fx=ratio, fy=ratio, \n",
      "                                                                                                interpolation=cv2.INTER_AREA), cv2.COLOR_BGR2GRAY)))))\n",
      "                else :\n",
      "                    feats = np.concatenate((feats, np.zeros(baseDimensionality/((resizeRatio/ratio)**2))))\n",
      "            imagesGrayData[:, i] = feats\n",
      "        else :\n",
      "            imagesGrayData[:, i] = np.ndarray.flatten(np.array(cv2.cvtColor(cv2.resize(cv2.imread(framePaths[i]), \n",
      "                                                                                       (0, 0), fx=resizeRatio, fy=resizeRatio, \n",
      "                                                                                       interpolation=cv2.INTER_AREA), cv2.COLOR_BGR2GRAY)))\n",
      "        \n",
      "    sys.stdout.write('\\r' + \"Loaded image \" + np.string_(i) + \" of \" + np.string_(numFrames))\n",
      "    sys.stdout.flush()\n",
      "\n",
      "\n",
      "if doRGB :\n",
      "    imagesRGBData /= np.float32(255)\n",
      "    print \n",
      "    print imagesRGBData.shape\n",
      "else :\n",
      "    imagesGrayData /= np.float32(255)\n",
      "    print\n",
      "    print imagesGrayData.shape"
     ],
     "language": "python",
     "metadata": {},
     "outputs": [],
     "prompt_number": 198
    },
    {
     "cell_type": "code",
     "collapsed": false,
     "input": [
      "## visualize features from the image data when using ranges to make sure they've been assembled well\n",
      "# imageFeatsSize = np.array(baseDimensionality/((resizeRatio/rangeResizeRatios)**2), dtype=int)\n",
      "# print imageFeatsSize\n",
      "# resizedImageSize = cv2.resize(cv2.imread(framePaths[0]), (0, 0), fx=rangeResizeRatios[1], fy=rangeResizeRatios[1], interpolation=cv2.INTER_AREA).shape[0:2]\n",
      "# figure(); imshow(imagesGrayData[imageFeatsSize[0]:np.sum(imageFeatsSize[0:2]), 100].reshape(resizedImageSize))\n",
      "# resizedImageSize = cv2.resize(cv2.imread(framePaths[0]), (0, 0), fx=rangeResizeRatios[0], fy=rangeResizeRatios[0], interpolation=cv2.INTER_AREA).shape[0:2]\n",
      "# figure(); imshow(imagesGrayData[:imageFeatsSize[0], 100].reshape(resizedImageSize))\n",
      "# figure(); imshow(imagesGrayData[np.sum(imageFeatsSize[0:2]):, 100].reshape(resizedImageSize))\n",
      "figure(); imshow(imagesGrayData[:, 100].reshape((360, 640)))"
     ],
     "language": "python",
     "metadata": {},
     "outputs": [
      {
       "metadata": {},
       "output_type": "pyout",
       "prompt_number": 13,
       "text": [
        "<matplotlib.image.AxesImage at 0x7f13398c62d0>"
       ]
      }
     ],
     "prompt_number": 13
    },
    {
     "cell_type": "code",
     "collapsed": false,
     "input": [
      "newL2Dist = np.zeros((numFrames, numFrames))\n",
      "if doRGB :\n",
      "    print \"using RGB\"\n",
      "else :\n",
      "    print \"using Gray\"   \n",
      "for i in xrange(numFrames) :\n",
      "#     for j in xrange(i, numFrames) :\n",
      "#         newL2Dist[i, j] = np.sum(np.sqrt((imagesRGBData[:, i]-imagesRGBData[:, j])**2))\n",
      "#         newL2Dist[j, i] = newL2Dist[i, j]\n",
      "    \n",
      "    if doRGB :\n",
      "        newL2Dist[i, i:] = np.sqrt(np.sum((imagesRGBData[:, i].reshape((np.prod(np.round(np.array(imageSize)*resizeRatio))*3, 1))-imagesRGBData[:, i:])**2, axis=0))\n",
      "    else :\n",
      "        newL2Dist[i, i:] = np.sqrt(np.sum((imagesGrayData[:, i].reshape((np.prod(np.round(np.array(imageSize)*resizeRatio)), 1))-imagesGrayData[:, i:])**2, axis=0))\n",
      "        \n",
      "    newL2Dist[i:, i] = newL2Dist[i, i:]\n",
      "        \n",
      "    sys.stdout.write('\\r' + \"Done with row \" + np.string_(i) + \" of \" + np.string_(numFrames))\n",
      "    sys.stdout.flush()\n",
      "    \n",
      "gwv.showCustomGraph(newL2Dist)"
     ],
     "language": "python",
     "metadata": {},
     "outputs": [],
     "prompt_number": 7
    },
    {
     "cell_type": "code",
     "collapsed": false,
     "input": [
      "# hogFeats = sio.loadmat(dataPath + dataSet + \"allFramesHogs.mat\")[\"hogFeats\"]\n",
      "# hogFeats = sio.loadmat(dataPath + dataSet + \"allFramesHogs_NoEncoding.mat\")[\"hogFeats\"]\n",
      "# print hogFeats.shape\n",
      "\n",
      "## get feats of subsequent frames\n",
      "goodPairsIdxs = np.array([np.arange(numFrames-1, dtype=int), np.arange(1, numFrames, dtype=int)])\n",
      "print goodPairsIdxs\n",
      "\n",
      "useValidatedJumps = True\n",
      "\n",
      "if useValidatedJumps and os.path.isfile(dataPath+dataSet+\"validatedJumps.npy\") :\n",
      "    ## validatedJumps has indices of good jumps which means that it contains indices of distances between i and j+1\n",
      "    ## so need to take (j+1)-1 to get indices of pairs whos distance has been labelled\n",
      "    validatedJumps = np.load(dataPath+dataSet+\"validatedJumps.npy\")\n",
      "    \n",
      "    additionalGoodPairsIdxs = np.argwhere(validatedJumps == 1).T\n",
      "    if additionalGoodPairsIdxs.shape[-1] > 0 :\n",
      "        goodPairsIdxs = np.concatenate((goodPairsIdxs, additionalGoodPairsIdxs), axis=1)\n",
      "    \n",
      "    badPairsIdxs = np.argwhere(validatedJumps == 0).T\n",
      "    ### why did I do this?\n",
      "#     badPairsIdxs[1, : ] -= 1\n",
      "    print additionalGoodPairsIdxs.T\n",
      "    print badPairsIdxs.T\n",
      "else :\n",
      "    ## get feats of random pairings that are considered bad\n",
      "    numBadExamples = 1000\n",
      "    minIdxsDiff = 10\n",
      "    badPairsIdxs = np.sort(np.array([np.random.choice(np.arange(numFrames), numBadExamples), \n",
      "                                     np.random.choice(np.arange(numFrames), numBadExamples)]), axis=0)\n",
      "\n",
      "    print len(np.argwhere(np.abs(badPairsIdxs[0, :]-badPairsIdxs[1, :]) < minIdxsDiff)), \"invalid pairs\"\n",
      "    for pairIdx in xrange(numBadExamples) :\n",
      "        idxDiff = np.abs(badPairsIdxs[0, pairIdx] - badPairsIdxs[1, pairIdx])\n",
      "        tmp = idxDiff\n",
      "        newPair = badPairsIdxs[:, pairIdx]\n",
      "        while idxDiff < minIdxsDiff :\n",
      "            newPair = np.sort(np.random.choice(np.arange(numFrames), 2))\n",
      "            idxDiff = np.abs(newPair[0] - newPair[1])\n",
      "    #     print badPairsIdxs[:, pairIdx], newPair, tmp\n",
      "        badPairsIdxs[:, pairIdx] = newPair\n",
      "    #     if badPairsIdxs[pairIdx, 0] - badPairsIdxs[pairIdx, 1] < minIdxsDiff\n",
      "\n",
      "    # print badPairsIdxs.T\n",
      "    print len(np.argwhere(np.abs(badPairsIdxs[0, :]-badPairsIdxs[1, :]) < minIdxsDiff)), \"invalid pairs\"\n",
      "    print badPairsIdxs"
     ],
     "language": "python",
     "metadata": {},
     "outputs": [
      {
       "output_type": "stream",
       "stream": "stdout",
       "text": [
        "[[   0    1    2 ..., 1204 1205 1206]\n",
        " [   1    2    3 ..., 1205 1206 1207]]\n",
        "[[927 950]\n",
        " [927 951]\n",
        " [928 950]\n",
        " [928 951]\n",
        " [929 951]\n",
        " [929 952]\n",
        " [930 952]\n",
        " [953 927]\n",
        " [974 945]]\n",
        "[[ 126    8]\n",
        " [ 127    8]\n",
        " [ 127    9]\n",
        " [ 127   10]\n",
        " [ 128    9]\n",
        " [ 128   10]\n",
        " [ 129   10]\n",
        " [ 130   11]\n",
        " [ 330  105]\n",
        " [ 330  106]\n",
        " [ 928  949]\n",
        " [ 928  953]\n",
        " [ 929  942]\n",
        " [ 929  950]\n",
        " [ 946  922]\n",
        " [ 949  925]\n",
        " [ 950  928]\n",
        " [ 959 1029]\n",
        " [ 960  941]\n",
        " [ 960  950]]\n"
       ]
      }
     ],
     "prompt_number": 199
    },
    {
     "cell_type": "code",
     "collapsed": false,
     "input": [
      "## copy the example idxs that uses the validated jumps to tmp\n",
      "# goodPairsIncludingValidation = np.copy(goodPairsIdxs)\n",
      "# badPairsIncludingValidation = np.copy(badPairsIdxs)\n",
      "## attach them to the example idxs without validated jumps to see how it looks\n",
      "# goodPairsIdxs = np.copy(goodPairsIncludingValidation)\n",
      "# badPairsIdxs = np.concatenate((badPairsIdxs, badPairsIncludingValidation), axis=1)\n",
      "print goodPairsIdxs.shape\n",
      "print badPairsIdxs.shape"
     ],
     "language": "python",
     "metadata": {},
     "outputs": [
      {
       "output_type": "stream",
       "stream": "stdout",
       "text": [
        "(2, 1216)\n",
        "(2, 1020)\n"
       ]
      }
     ],
     "prompt_number": 183
    },
    {
     "cell_type": "code",
     "collapsed": false,
     "input": [
      "allPairsHogs = []\n",
      "for i in xrange(len(hogFeats)) :\n",
      "    for j in xrange(i+1, len(hogFeats)) :\n",
      "        ## ABS DIST\n",
      "#         allPairsHogs.append(np.sqrt((hogFeats[i, :]-hogFeats[j, :])**2))\n",
      "        allPairsHogs.append((hogFeats[i, :]-hogFeats[j, :])**2)\n",
      "        \n",
      "    sys.stdout.write('\\r' + \"Done with row \" + np.string_(i) + \" of \" + np.string_(len(hogFeats)))\n",
      "    sys.stdout.flush()"
     ],
     "language": "python",
     "metadata": {},
     "outputs": [],
     "prompt_number": 6
    },
    {
     "cell_type": "code",
     "collapsed": false,
     "input": [
      "allPairsImageData = []\n",
      "for i in xrange(numFrames) :\n",
      "    for j in xrange(i+1, numFrames) :\n",
      "        ## ABS DIST\n",
      "#         allPairsHogs.append(np.sqrt((hogFeats[i, :]-hogFeats[j, :])**2))\n",
      "        if doRGB :\n",
      "            allPairsImageData.append((imagesRGBData[:, i]-imagesRGBData[:, j])**np.float32(2))\n",
      "        else :\n",
      "            allPairsImageData.append((imagesGrayData[:, i]-imagesGrayData[:, j])**np.float32(2))\n",
      "#             allPairsImageData.append(imagesGrayData[:, i]-imagesGrayData[:, j])\n",
      "        \n",
      "    sys.stdout.write('\\r' + \"Done with row \" + np.string_(i) + \" of \" + np.string_(numFrames))\n",
      "    sys.stdout.flush()"
     ],
     "language": "python",
     "metadata": {},
     "outputs": [],
     "prompt_number": 7
    },
    {
     "cell_type": "code",
     "collapsed": false,
     "input": [
      "## split examples in half \n",
      "# allBadPairs = np.copy(badPairsIdxs)\n",
      "# allGoodPairs = np.copy(goodPairsIdxs)\n",
      "numGoodPairs = allGoodPairs.shape[-1]\n",
      "numBadPairs = allBadPairs.shape[-1]\n",
      "print numGoodPairs, numBadPairs\n",
      "\n",
      "goodValidationExamples = np.copy(allGoodPairs[:, numGoodPairs/2:])\n",
      "badValidationExamples = np.copy(allBadPairs[:, numBadPairs/2:])\n",
      "print goodValidationExamples.shape, badValidationExamples.shape\n",
      "\n",
      "goodPairsIdxs = np.copy(allGoodPairs[:, :numGoodPairs/2])\n",
      "badPairsIdxs = np.copy(allBadPairs[:, :numBadPairs/2])\n",
      "print goodPairsIdxs.shape, badPairsIdxs.shape"
     ],
     "language": "python",
     "metadata": {},
     "outputs": [
      {
       "output_type": "stream",
       "stream": "stdout",
       "text": [
        "1207 1000\n",
        "(2, 604) (2, 500)\n",
        "(2, 603) (2, 500)\n"
       ]
      }
     ],
     "prompt_number": 10
    },
    {
     "cell_type": "code",
     "collapsed": false,
     "input": [
      "print goodExamplesData.shape\n",
      "print badExamplesData.shape\n",
      "print np.concatenate((goodExamplesData[:, goodPairsToUse], badExamplesData[:, badPairsToUse]), axis=1).shape"
     ],
     "language": "python",
     "metadata": {},
     "outputs": [
      {
       "output_type": "stream",
       "stream": "stdout",
       "text": [
        "(1216, 32400)\n",
        "(20, 32400)\n"
       ]
      },
      {
       "ename": "ValueError",
       "evalue": "all the input array dimensions except for the concatenation axis must match exactly",
       "output_type": "pyerr",
       "traceback": [
        "\u001b[0;31m---------------------------------------------------------------------------\u001b[0m\n\u001b[0;31mValueError\u001b[0m                                Traceback (most recent call last)",
        "\u001b[0;32m<ipython-input-86-59834e0f6602>\u001b[0m in \u001b[0;36m<module>\u001b[0;34m()\u001b[0m\n\u001b[1;32m      1\u001b[0m \u001b[0;32mprint\u001b[0m \u001b[0mgoodExamplesData\u001b[0m\u001b[0;34m.\u001b[0m\u001b[0mshape\u001b[0m\u001b[0;34m\u001b[0m\u001b[0m\n\u001b[1;32m      2\u001b[0m \u001b[0;32mprint\u001b[0m \u001b[0mbadExamplesData\u001b[0m\u001b[0;34m.\u001b[0m\u001b[0mshape\u001b[0m\u001b[0;34m\u001b[0m\u001b[0m\n\u001b[0;32m----> 3\u001b[0;31m \u001b[0;32mprint\u001b[0m \u001b[0mnp\u001b[0m\u001b[0;34m.\u001b[0m\u001b[0mconcatenate\u001b[0m\u001b[0;34m(\u001b[0m\u001b[0;34m(\u001b[0m\u001b[0mgoodExamplesData\u001b[0m\u001b[0;34m[\u001b[0m\u001b[0;34m:\u001b[0m\u001b[0;34m,\u001b[0m \u001b[0mgoodPairsToUse\u001b[0m\u001b[0;34m]\u001b[0m\u001b[0;34m,\u001b[0m \u001b[0mbadExamplesData\u001b[0m\u001b[0;34m[\u001b[0m\u001b[0;34m:\u001b[0m\u001b[0;34m,\u001b[0m \u001b[0mbadPairsToUse\u001b[0m\u001b[0;34m]\u001b[0m\u001b[0;34m)\u001b[0m\u001b[0;34m,\u001b[0m \u001b[0maxis\u001b[0m\u001b[0;34m=\u001b[0m\u001b[0;36m1\u001b[0m\u001b[0;34m)\u001b[0m\u001b[0;34m.\u001b[0m\u001b[0mshape\u001b[0m\u001b[0;34m\u001b[0m\u001b[0m\n\u001b[0m",
        "\u001b[0;31mValueError\u001b[0m: all the input array dimensions except for the concatenation axis must match exactly"
       ]
      }
     ],
     "prompt_number": 86
    },
    {
     "cell_type": "code",
     "collapsed": false,
     "input": [
      "doHogs = False\n",
      "goodPairsToUse = arange(len(goodPairsIdxs.T))\n",
      "# goodPairsToUse = arange(len(goodPairsIdxs.T)-len(additionalGoodPairsIdxs.T), len(goodPairsIdxs.T))\n",
      "\n",
      "badPairsToUse = arange(len(badPairsIdxs.T))\n",
      "# badPairsToUse = np.delete(badPairsToUse, 12)\n",
      "# badPairsToUse = badPairsToUse[10:]\n",
      "if doHogs :\n",
      "    ## use hog feats as frame features\n",
      "    ## ABS DIST\n",
      "    # goodExamplesData = np.sqrt((hogFeats[goodPairsIdxs[0, :], :]-hogFeats[goodPairsIdxs[1, :], :])**2)\n",
      "    goodExamplesData = ((hogFeats[goodPairsIdxs[0, :], :]-hogFeats[goodPairsIdxs[1, :], :])**2).T\n",
      "    print goodExamplesData.shape\n",
      "    ## ABS DIST\n",
      "    # badExamplesData = np.sqrt((hogFeats[badPairsIdxs[0, :], :]-hogFeats[badPairsIdxs[1, :], :])**2)\n",
      "    badExamplesData = ((hogFeats[badPairsIdxs[0, :], :]-hogFeats[badPairsIdxs[1, :], :])**2).T\n",
      "    print badExamplesData.shape\n",
      "    \n",
      "    X = np.concatenate((goodExamplesData[:, goodPairsToUse], badExamplesData[:, badPairsToUse]), axis=1)\n",
      "    w = np.concatenate((np.zeros(len(goodPairsToUse)), 10.0*np.ones(len(badPairsToUse)))).reshape((X.shape[-1], 1))\n",
      "    N = X.shape[0]\n",
      "    phi0 = np.ones((N, 1))\n",
      "    \n",
      "    sio.savemat(dataPath + dataSet + \"trainingExamplesForHogs\", {\"X\":X, \"w\":w})\n",
      "else :\n",
      "    ## use full rgb feats as frame features\n",
      "    if doRGB :\n",
      "        goodExamplesData = (imagesRGBData[:, goodPairsIdxs[0, :]]-imagesRGBData[:, goodPairsIdxs[1, :]])**np.float32(2)\n",
      "        print goodExamplesData.shape\n",
      "        badExamplesData = (imagesRGBData[:, badPairsIdxs[0, :]]-imagesRGBData[:, badPairsIdxs[1, :]])**np.float32(2)\n",
      "        print badExamplesData.shape\n",
      "    else :\n",
      "        goodExamplesData = (imagesGrayData[:, goodPairsIdxs[0, :]]-imagesGrayData[:, goodPairsIdxs[1, :]])**np.float32(2)\n",
      "        print goodExamplesData.shape\n",
      "        badExamplesData = (imagesGrayData[:, badPairsIdxs[0, :]]-imagesGrayData[:, badPairsIdxs[1, :]])**np.float32(2)\n",
      "        print badExamplesData.shape\n",
      "    if useRange :\n",
      "        goodExamplesData = goodExamplesData[:, int(np.floor(len(featsRange)/2)):-int(np.floor(len(featsRange)/2))]\n",
      "    \n",
      "#     X = np.concatenate((goodExamplesData, badExamplesData), axis=1)\n",
      "#     w = np.concatenate((np.zeros(goodExamplesData.shape[-1]), 10.0*np.ones(badExamplesData.shape[-1]))).reshape((X.shape[-1], 1))\n",
      "    X = np.concatenate((goodExamplesData[:, goodPairsToUse], badExamplesData[:, badPairsToUse]), axis=1)\n",
      "    w = np.concatenate((np.zeros(len(goodPairsToUse)), 10.0*np.ones(len(badPairsToUse)))).reshape((X.shape[-1], 1))\n",
      "    N = X.shape[0]\n",
      "    phi0 = np.ones((N, 1))\n",
      "    sio.savemat(dataPath + dataSet + \"trainingExamplesForImageData\", {\"X\":X, \"w\":w})\n",
      "    \n",
      "print \"used\", len(goodPairsToUse), \"good examples of\", goodExamplesData.shape[-1]\n",
      "print \"used\", len(badPairsToUse), \"bad examples of\", badExamplesData.shape[-1]\n",
      "print N, X.shape, w.shape, phi0.shape"
     ],
     "language": "python",
     "metadata": {},
     "outputs": [],
     "prompt_number": 13
    },
    {
     "cell_type": "code",
     "collapsed": false,
     "input": [
      "imageSize = np.array(Image.open(framePaths[0])).shape[0:2]\n",
      "print imageSize"
     ],
     "language": "python",
     "metadata": {},
     "outputs": [
      {
       "output_type": "stream",
       "stream": "stdout",
       "text": [
        "(720, 1280)\n",
        "(414720, 672)\n"
       ]
      }
     ],
     "prompt_number": 196
    },
    {
     "cell_type": "code",
     "collapsed": false,
     "input": [
      "## compute grid features for the training examples\n",
      "\n",
      "gridSize = np.array((10, 10))\n",
      "\n",
      "stencils3D = cgf.stencil3D(gridSize[0], gridSize[1], [imageSize[0], imageSize[1], 3])\n",
      "stencils2D = cgf.stencil2D(gridSize[0], gridSize[1], [imageSize[0], imageSize[1], 3])\n",
      "# figure(); imshow(im[:, :, 0][stencils2D[5]].reshape((180, 320)))\n",
      "# figure(); imshow(im[stencils3D[5]].reshape((180, 320, 3)))\n",
      "\n",
      "useFlow = True\n",
      "useAugment = True\n",
      "k = 1.0\n",
      "L = 10.0\n",
      "\n",
      "numTypes = 1\n",
      "if useAugment :\n",
      "    numTypes += 1\n",
      "if useFlow :\n",
      "    numTypes += 1\n",
      "\n",
      "t = time.time()\n",
      "## slow stupid way for now\n",
      "goodExamplesData = np.zeros((numTypes*np.prod(gridSize), len(goodPairsIdxs.T)))\n",
      "# goodExamplesData = np.concatenate((goodExamplesData, np.zeros((np.prod(gridSize), len(goodPairsIdxs.T)))))\n",
      "for i, pair in enumerate(goodPairsIdxs.T) :\n",
      "    \n",
      "    if useFlow :\n",
      "        flow = np.array(cv2.calcOpticalFlowFarneback(np.array(imagesGrayData[:, pair[0]].reshape(imageSize)*255, np.uint8),\n",
      "                                                     np.array(imagesGrayData[:, pair[1]].reshape(imageSize)*255, np.uint8),\n",
      "                                                     0.5, 3, 15, 3, 5, 1.1, 0), np.float64)\n",
      "        ## sigmoid\n",
      "        flow = L/(1.0+np.exp(-k*flow))\n",
      "    for j, stencil in enumerate(stencils2D) :\n",
      "        ## add average SSD to feature vector\n",
      "        goodExamplesData[j, i] = np.average((imagesGrayData[:, pair[0]].reshape(imageSize)[stencil]/1.0-imagesGrayData[:, pair[1]].reshape(imageSize)[stencil]/1.0)**2)\n",
      "        ## add average flow intensity\n",
      "        if useFlow :\n",
      "            goodExamplesData[j+np.prod(gridSize), i] = np.average(np.linalg.norm(np.array([flow[:, :, 0][stencil], flow[:, :, 1][stencil]]), axis=0))\n",
      "        \n",
      "        ## add augmentation to x\n",
      "        if useAugment :\n",
      "            shift = 2\n",
      "            if not useFlow :\n",
      "                shift = 1\n",
      "            goodExamplesData[j+shift*np.prod(gridSize), i] = np.average(((1.0-imagesGrayData[:, pair[0]].reshape(imageSize)[stencil])/1.0-imagesGrayData[:, pair[1]].reshape(imageSize)[stencil]/1.0)**2+\n",
      "                                                                        ((1.0-imagesGrayData[:, pair[1]].reshape(imageSize)[stencil])/1.0-imagesGrayData[:, pair[0]].reshape(imageSize)[stencil]/1.0)**2)\n",
      "        \n",
      "    sys.stdout.write('\\r' + \"Computed features for good pair \" + np.string_(i+1) + \" of \" + np.string_(len(goodPairsIdxs.T)))\n",
      "    sys.stdout.flush()\n",
      "print\n",
      "badExamplesData = np.zeros((numTypes*np.prod(gridSize), len(badPairsIdxs.T)))\n",
      "# badExamplesData = np.concatenate((badExamplesData, np.zeros((np.prod(gridSize), len(badPairsIdxs.T)))))\n",
      "for i, pair in enumerate(badPairsIdxs.T) :\n",
      "    \n",
      "    if useFlow :\n",
      "        flow = np.array(cv2.calcOpticalFlowFarneback(np.array(imagesGrayData[:, pair[0]].reshape(imageSize)*255, np.uint8),\n",
      "                                                     np.array(imagesGrayData[:, pair[1]].reshape(imageSize)*255, np.uint8),\n",
      "                                                     0.5, 3, 15, 3, 5, 1.1, 0), np.float64)\n",
      "        ## sigmoid\n",
      "        flow = L/(1.0+np.exp(-k*flow))\n",
      "    \n",
      "    for j, stencil in enumerate(stencils2D) :\n",
      "        ## add SSD to feature vector\n",
      "        badExamplesData[j, i] = np.average((imagesGrayData[:, pair[0]].reshape(imageSize)[stencil]/1.0-imagesGrayData[:, pair[1]].reshape(imageSize)[stencil]/1.0)**2)\n",
      "        ## add average flow intensity\n",
      "        if useFlow :\n",
      "            badExamplesData[j+np.prod(gridSize), i] = np.average(np.linalg.norm(np.array([flow[:, :, 0][stencil], flow[:, :, 1][stencil]]), axis=0))\n",
      "            \n",
      "        ## add augmentation to x\n",
      "        if useAugment :\n",
      "            shift = 2\n",
      "            if not useFlow :\n",
      "                shift = 1\n",
      "            badExamplesData[j+shift*np.prod(gridSize), i] = np.average(((1.0-imagesGrayData[:, pair[0]].reshape(imageSize)[stencil])/1.0-imagesGrayData[:, pair[1]].reshape(imageSize)[stencil]/1.0)**2+\n",
      "                                                                       ((1.0-imagesGrayData[:, pair[1]].reshape(imageSize)[stencil])/1.0-imagesGrayData[:, pair[0]].reshape(imageSize)[stencil]/1.0)**2)\n",
      "        \n",
      "    sys.stdout.write('\\r' + \"Computed features for bad pair \" + np.string_(i+1) + \" of \" + np.string_(len(badPairsIdxs.T)))\n",
      "    sys.stdout.flush()\n",
      "print \n",
      "print time.time() - t\n",
      "print goodPairsIdxs.shape\n",
      "print badPairsIdxs.shape"
     ],
     "language": "python",
     "metadata": {},
     "outputs": [],
     "prompt_number": 200
    },
    {
     "cell_type": "code",
     "collapsed": false,
     "input": [
      "## compute grid features for the training examples\n",
      "\n",
      "gridSize = np.array((10, 10))\n",
      "\n",
      "stencils3D = cgf.stencil3D(gridSize[0], gridSize[1], [imageSize[0], imageSize[1], 3])\n",
      "stencils2D = cgf.stencil2D(gridSize[0], gridSize[1], [imageSize[0], imageSize[1], 3])\n",
      "# figure(); imshow(im[:, :, 0][stencils2D[5]].reshape((180, 320)))\n",
      "# figure(); imshow(im[stencils3D[5]].reshape((180, 320, 3)))\n",
      "\n",
      "useFlow = True\n",
      "useAugment = True\n",
      "k = 1.0\n",
      "L = 10.0\n",
      "\n",
      "numTypes = 1\n",
      "if useAugment :\n",
      "    numTypes += 1\n",
      "if useFlow :\n",
      "    numTypes += 1\n",
      "\n",
      "t = time.time()\n",
      "## slow stupid way for now\n",
      "goodExamplesData = np.zeros((numTypes*np.prod(gridSize), len(goodPairsIdxs.T)))\n",
      "# goodExamplesData = np.concatenate((goodExamplesData, np.zeros((np.prod(gridSize), len(goodPairsIdxs.T)))))\n",
      "for i, pair in enumerate(goodPairsIdxs.T) :\n",
      "    frame1 = cv2.cvtColor(np.array(Image.open(framePaths[pair[0]])), cv2.COLOR_RGB2GRAY)\n",
      "    frame2 = cv2.cvtColor(np.array(Image.open(framePaths[pair[1]])), cv2.COLOR_RGB2GRAY)\n",
      "    \n",
      "    if useFlow :\n",
      "        flow = np.array(cv2.calcOpticalFlowFarneback(frame1, frame2,\n",
      "                                                     0.5, 3, 15, 3, 5, 1.1, 0), np.float64)\n",
      "        ## sigmoid\n",
      "        flow = L/(1.0+np.exp(-k*flow))\n",
      "    for j, stencil in enumerate(stencils2D) :\n",
      "        ## add average SSD to feature vector\n",
      "        goodExamplesData[j, i] = np.average((frame1[stencil]/255.0-frame2[stencil]/255.0)**2)\n",
      "        ## add average flow intensity\n",
      "        if useFlow :\n",
      "            goodExamplesData[j+np.prod(gridSize), i] = np.average(np.linalg.norm(np.array([flow[:, :, 0][stencil], flow[:, :, 1][stencil]]), axis=0))\n",
      "        \n",
      "        ## add augmentation to x\n",
      "        if useAugment :\n",
      "            shift = 2\n",
      "            if not useFlow :\n",
      "                shift = 1\n",
      "            goodExamplesData[j+shift*np.prod(gridSize), i] = np.average(((255.0-frame1[stencil])/255.0-frame2[stencil]/255.0)**2+\n",
      "                                                                        ((255.0-frame2[stencil])/255.0-frame1[stencil]/255.0)**2)\n",
      "        \n",
      "    sys.stdout.write('\\r' + \"Computed features for good pair \" + np.string_(i+1) + \" of \" + np.string_(len(goodPairsIdxs.T)))\n",
      "    sys.stdout.flush()\n",
      "print\n",
      "badExamplesData = np.zeros((numTypes*np.prod(gridSize), len(badPairsIdxs.T)))\n",
      "# badExamplesData = np.concatenate((badExamplesData, np.zeros((np.prod(gridSize), len(badPairsIdxs.T)))))\n",
      "for i, pair in enumerate(badPairsIdxs.T) :\n",
      "    frame1 = cv2.cvtColor(np.array(Image.open(framePaths[pair[0]])), cv2.COLOR_RGB2GRAY)\n",
      "    frame2 = cv2.cvtColor(np.array(Image.open(framePaths[pair[1]])), cv2.COLOR_RGB2GRAY)\n",
      "    \n",
      "    if useFlow :\n",
      "        flow = np.array(cv2.calcOpticalFlowFarneback(frame1, frame2,\n",
      "                                                     0.5, 3, 15, 3, 5, 1.1, 0), np.float64)\n",
      "        ## sigmoid\n",
      "        flow = L/(1.0+np.exp(-k*flow))\n",
      "    \n",
      "    for j, stencil in enumerate(stencils2D) :\n",
      "        ## add SSD to feature vector\n",
      "        badExamplesData[j, i] = np.average((frame1[stencil]/255.0-frame2[stencil]/255.0)**2)\n",
      "        ## add average flow intensity\n",
      "        if useFlow :\n",
      "            badExamplesData[j+np.prod(gridSize), i] = np.average(np.linalg.norm(np.array([flow[:, :, 0][stencil], flow[:, :, 1][stencil]]), axis=0))\n",
      "            \n",
      "        ## add augmentation to x\n",
      "        if useAugment :\n",
      "            shift = 2\n",
      "            if not useFlow :\n",
      "                shift = 1\n",
      "            badExamplesData[j+shift*np.prod(gridSize), i] = np.average(((255.0-frame1[stencil])/255.0-frame2[stencil]/255.0)**2+\n",
      "                                                                       ((255.0-frame2[stencil])/255.0-frame1[stencil]/255.0)**2)\n",
      "        \n",
      "    sys.stdout.write('\\r' + \"Computed features for bad pair \" + np.string_(i+1) + \" of \" + np.string_(len(badPairsIdxs.T)))\n",
      "    sys.stdout.flush()\n",
      "print \n",
      "print time.time() - t\n",
      "print goodPairsIdxs.shape\n",
      "print badPairsIdxs.shape"
     ],
     "language": "python",
     "metadata": {},
     "outputs": [],
     "prompt_number": 6
    },
    {
     "cell_type": "code",
     "collapsed": false,
     "input": [
      "## split examples in half \n",
      "# allBadPairs = np.copy(badPairsIdxs)\n",
      "# allGoodPairs = np.copy(goodPairsIdxs)\n",
      "numGoodPairs = allGoodPairs.shape[-1]\n",
      "numBadPairs = allBadPairs.shape[-1]\n",
      "print numGoodPairs, numBadPairs\n",
      "\n",
      "goodValidationExamples = np.copy(allGoodPairs[:, numGoodPairs/2:])\n",
      "badValidationExamples = np.copy(allBadPairs[:, numBadPairs/2:])\n",
      "print goodValidationExamples.shape, badValidationExamples.shape\n",
      "\n",
      "goodPairsIdxs = np.copy(allGoodPairs[:, :numGoodPairs/2])\n",
      "badPairsIdxs = np.copy(allBadPairs[:, :numBadPairs/2])\n",
      "print goodPairsIdxs.shape, badPairsIdxs.shape"
     ],
     "language": "python",
     "metadata": {},
     "outputs": [],
     "prompt_number": 204
    },
    {
     "cell_type": "code",
     "collapsed": false,
     "input": [
      "import datetime\n",
      "print \"started at\",\n",
      "print datetime.datetime.now()\n",
      "goodExamplesMovement = []\n",
      "for j, pair in enumerate(goodPairsIdxs.T) :\n",
      "    \n",
      "    ## find \"how much left-movement there is\" between two frames (low numbers means more right movement)\n",
      "    frame1 = np.array(Image.open(framePaths[pair[0]]))\n",
      "    frame2 = np.array(Image.open(framePaths[pair[1]]))\n",
      "    imageSize = frame1.shape[0:2]\n",
      "    patchSize = np.array([64, 64])\n",
      "    spacing = 32.0 ## how far away a patch is from the previous one\n",
      "\n",
      "    movementSigma = 8.0\n",
      "    numSamples = 50\n",
      "    patchYs = np.arange(4.0*movementSigma, imageSize[0]-patchSize[0]-4.0*movementSigma, spacing)\n",
      "    patchYs = patchYs.reshape((1, len(patchYs)))\n",
      "    patchXs = np.arange(4.0*movementSigma, imageSize[1]-patchSize[1]-4.0*movementSigma, spacing)\n",
      "    patchXs = patchXs.reshape((1, len(patchXs)))\n",
      "    patchLocations = np.array(np.concatenate((patchYs.repeat(len(patchXs.T)),\n",
      "                                              patchXs.repeat(len(patchYs.T), axis=0).flatten())).reshape((2, len(patchXs.T)*len(patchYs.T))), int)\n",
      "\n",
      "#     print patchLocations.shape\n",
      "\n",
      "    # figure(); imshow(frame1)\n",
      "    scores = np.zeros(patchLocations.shape[-1])\n",
      "    for i, loc in enumerate(patchLocations.T) : ## [:, [0, 1282, 2967]]\n",
      "    #     print loc\n",
      "        ## changing the x-mean by - movementSigma as I want to go left\n",
      "        mean = np.array([loc[1]-2.0*movementSigma, loc[0]])\n",
      "        covariance = np.array([[movementSigma, 0.0], [0.0, movementSigma/10.0]])\n",
      "        ## samples contains (x, y) coords\n",
      "        samples = np.random.multivariate_normal(mean, covariance, numSamples)\n",
      "        weights = sp.stats.multivariate_normal.pdf(samples, mean, covariance)\n",
      "        weights /= np.sum(weights)\n",
      "    #     print samples\n",
      "        ## displacedLocs contains (row, col) coords\n",
      "        displacedLocs = np.array(np.round(samples).T[::-1], int)\n",
      "        validLocs = np.negative(np.any([np.any(displacedLocs < 0, axis=0), displacedLocs[0, :] >= imageSize[0]-patchSize[0], displacedLocs[1, :] >= imageSize[1]-patchSize[1]], axis=0))\n",
      "        frame2Patches = [frame2[l[0]:l[0]+patchSize[0], l[1]:l[1]+patchSize[1]] for l in displacedLocs[:, validLocs].T]\n",
      "        frame1Patch = frame1[loc[0]:loc[0]+patchSize[0], loc[1]:loc[1]+patchSize[1], :].reshape((1, patchSize[0], patchSize[0], frame1.shape[-1])).repeat(len(frame2Patches), axis=0)\n",
      "        scores[i] = np.sum(np.sum(np.sqrt((frame1Patch.reshape((len(frame2Patches), np.prod(patchSize)*frame1.shape[-1]))/255.0-\n",
      "                                           np.array(frame2Patches).reshape((len(frame2Patches), np.prod(patchSize)*frame1.shape[-1]))/255.0)**2), axis=-1)*np.ones_like(weights[validLocs]))\n",
      "\n",
      "        sys.stdout.write('\\r' + \"Done patch \" + np.string_(i) + \" of \" + np.string_(patchLocations.shape[-1]) + \" for good pair \" + np.string_(j) + \" of \" + np.string_(len(goodPairsIdxs.T)))\n",
      "        sys.stdout.flush()\n",
      "    goodExamplesMovement.append(np.copy(scores))\n",
      "print\n",
      "badExamplesMovement = []\n",
      "for j, pair in enumerate(badPairsIdxs.T) :\n",
      "    \n",
      "    ## find \"how much left-movement there is\" between two frames (low numbers means more right movement)\n",
      "    frame1 = np.array(Image.open(framePaths[pair[0]]))\n",
      "    frame2 = np.array(Image.open(framePaths[pair[1]]))\n",
      "    imageSize = frame1.shape[0:2]\n",
      "    patchSize = np.array([64, 64])\n",
      "    spacing = 32.0 ## how far away a patch is from the previous one\n",
      "\n",
      "    movementSigma = 8.0\n",
      "    numSamples = 50\n",
      "    patchYs = np.arange(4.0*movementSigma, imageSize[0]-patchSize[0]-4.0*movementSigma, spacing)\n",
      "    patchYs = patchYs.reshape((1, len(patchYs)))\n",
      "    patchXs = np.arange(4.0*movementSigma, imageSize[1]-patchSize[1]-4.0*movementSigma, spacing)\n",
      "    patchXs = patchXs.reshape((1, len(patchXs)))\n",
      "    patchLocations = np.array(np.concatenate((patchYs.repeat(len(patchXs.T)),\n",
      "                                              patchXs.repeat(len(patchYs.T), axis=0).flatten())).reshape((2, len(patchXs.T)*len(patchYs.T))), int)\n",
      "\n",
      "#     print patchLocations.shape\n",
      "\n",
      "    # figure(); imshow(frame1)\n",
      "    scores = np.zeros(patchLocations.shape[-1])\n",
      "    for i, loc in enumerate(patchLocations.T) : ## [:, [0, 1282, 2967]]\n",
      "    #     print loc\n",
      "        ## changing the x-mean by - movementSigma as I want to go left\n",
      "        mean = np.array([loc[1]-2.0*movementSigma, loc[0]])\n",
      "        covariance = np.array([[movementSigma, 0.0], [0.0, movementSigma/10.0]])\n",
      "        ## samples contains (x, y) coords\n",
      "        samples = np.random.multivariate_normal(mean, covariance, numSamples)\n",
      "        weights = sp.stats.multivariate_normal.pdf(samples, mean, covariance)\n",
      "        weights /= np.sum(weights)\n",
      "    #     print samples\n",
      "        ## displacedLocs contains (row, col) coords\n",
      "        displacedLocs = np.array(np.round(samples).T[::-1], int)\n",
      "        validLocs = np.negative(np.any([np.any(displacedLocs < 0, axis=0), displacedLocs[0, :] >= imageSize[0]-patchSize[0], displacedLocs[1, :] >= imageSize[1]-patchSize[1]], axis=0))\n",
      "        frame2Patches = [frame2[l[0]:l[0]+patchSize[0], l[1]:l[1]+patchSize[1]] for l in displacedLocs[:, validLocs].T]\n",
      "        frame1Patch = frame1[loc[0]:loc[0]+patchSize[0], loc[1]:loc[1]+patchSize[1], :].reshape((1, patchSize[0], patchSize[0], frame1.shape[-1])).repeat(len(frame2Patches), axis=0)\n",
      "        scores[i] = np.sum(np.sum(np.sqrt((frame1Patch.reshape((len(frame2Patches), np.prod(patchSize)*frame1.shape[-1]))/255.0-\n",
      "                                           np.array(frame2Patches).reshape((len(frame2Patches), np.prod(patchSize)*frame1.shape[-1]))/255.0)**2), axis=-1)*np.ones_like(weights[validLocs]))\n",
      "\n",
      "        sys.stdout.write('\\r' + \"Done patch \" + np.string_(i) + \" of \" + np.string_(patchLocations.shape[-1]) + \" for bad pair \" + np.string_(j) + \" of \" + np.string_(len(badPairsIdxs.T)))\n",
      "        sys.stdout.flush()\n",
      "    badExamplesMovement.append(np.copy(scores))\n",
      "print\n",
      "\n",
      "print \"ended at\",\n",
      "print datetime.datetime.now()"
     ],
     "language": "python",
     "metadata": {},
     "outputs": [],
     "prompt_number": 775
    },
    {
     "cell_type": "code",
     "collapsed": false,
     "input": [
      "np.save(\"good_examples_flag_movement_left.npy\", goodExamplesMovement)\n",
      "np.save(\"bad_examples_flag_movement_left.npy\", badExamplesMovement)"
     ],
     "language": "python",
     "metadata": {},
     "outputs": [],
     "prompt_number": 785
    },
    {
     "cell_type": "code",
     "collapsed": false,
     "input": [
      "patchSize = np.array([64, 64])\n",
      "spacing = 32.0 ## how far away a patch is from the previous one\n",
      "\n",
      "displacements = np.array([1, 2, 4, 8, 16])\n",
      "displacements = np.concatenate((np.array([np.zeros(len(displacements)), displacements], int), ## EAST\n",
      "                      np.array([displacements, displacements], int), ## SOUT-EAST\n",
      "                      np.array([displacements, np.zeros(len(displacements))], int), ## SOUTH\n",
      "                      np.array([displacements, -displacements], int), ## SOUTH-WEST\n",
      "                      np.array([np.zeros(len(displacements)), -displacements], int), ## WEST\n",
      "                      np.array([-displacements, -displacements], int), ## NORTH-WEST\n",
      "                      np.array([-displacements, np.zeros(len(displacements))], int), ## NORTH\n",
      "                      np.array([-displacements, displacements], int), ## NORTH-EAST\n",
      "                      ), axis=-1)\n",
      "\n",
      "patchYs = np.arange(np.max(displacements), imageSize[0]-patchSize[0]-np.max(displacements), spacing)\n",
      "patchYs = patchYs.reshape((1, len(patchYs)))\n",
      "patchXs = np.arange(np.max(displacements), imageSize[1]-patchSize[1]-np.max(displacements), spacing)\n",
      "patchXs = patchXs.reshape((1, len(patchXs)))\n",
      "patchLocations = np.array(np.concatenate((patchYs.repeat(len(patchXs.T)),\n",
      "                                          patchXs.repeat(len(patchYs.T), axis=0).flatten())).reshape((2, len(patchXs.T)*len(patchYs.T))), int)\n",
      "\n",
      "frame1Idxs = np.empty((0, 2), dtype=int)\n",
      "frame2Idxs = np.empty((0, 2), dtype=int)\n",
      "for i, locSlice in enumerate(np.arange(patchXs.shape[-1], patchLocations.shape[-1]+1, patchXs.shape[-1])) :\n",
      "    frame1Idxs = np.concatenate((frame1Idxs, np.repeat(patchLocations[:, locSlice-patchXs.shape[-1]:locSlice], len(displacements.T), axis=1).T), axis=0)\n",
      "    frame2Idxs = np.concatenate((frame2Idxs, np.array([disp + loc for loc in patchLocations[:, locSlice-patchXs.shape[-1]:locSlice].T for disp in displacements.T])), axis=0)\n",
      "\n",
      "\n",
      "goodExamplesStarMovement = []\n",
      "for j, pair in enumerate(goodPairsIdxs.T) :\n",
      "    t = time.time()\n",
      "    frame1 = np.array(Image.open(framePaths[pair[0]]))/255.0\n",
      "    frame2 = np.array(Image.open(framePaths[pair[1]]))/255.0\n",
      "\n",
      "    goodExamplesStarMovement.append(np.array([np.sqrt(np.sum((frame2[l2[0]:l2[0]+patchSize[0], l2[1]:l2[1]+patchSize[1]]-frame1[l1[0]:l1[0]+patchSize[0], l1[1]:l1[1]+patchSize[1]])**2)) for l2, l1 in zip(frame2Idxs, frame1Idxs)]))\n",
      "    \n",
      "    print time.time()-t\n",
      "    sys.stdout.write('\\r' + \"Done good pair \" + np.string_(j) + \" of \" + np.string_(len(goodPairsIdxs.T)))\n",
      "    sys.stdout.flush()\n",
      "    \n",
      "badExamplesStarMovement = []\n",
      "for j, pair in enumerate(badPairsIdxs.T) :\n",
      "    frame1 = np.array(Image.open(framePaths[pair[0]]))/255.0\n",
      "    frame2 = np.array(Image.open(framePaths[pair[1]]))/255.0\n",
      "\n",
      "    badExamplesStarMovement.append(np.array([np.sqrt(np.sum((frame2[l2[0]:l2[0]+patchSize[0], l2[1]:l2[1]+patchSize[1]]-frame1[l1[0]:l1[0]+patchSize[0], l1[1]:l1[1]+patchSize[1]])**2)) for l2, l1 in zip(frame2Idxs, frame1Idxs)]))\n",
      "    \n",
      "    sys.stdout.write('\\r' + \"Done bad pair \" + np.string_(j) + \" of \" + np.string_(len(badPairsIdxs.T)))\n",
      "    sys.stdout.flush()"
     ],
     "language": "python",
     "metadata": {},
     "outputs": [
      {
       "ename": "NameError",
       "evalue": "name 'goodPairsIdxs' is not defined",
       "output_type": "pyerr",
       "traceback": [
        "\u001b[0;31m---------------------------------------------------------------------------\u001b[0m\n\u001b[0;31mNameError\u001b[0m                                 Traceback (most recent call last)",
        "\u001b[0;32m<ipython-input-10-e01df1e7d5a4>\u001b[0m in \u001b[0;36m<module>\u001b[0;34m()\u001b[0m\n\u001b[1;32m     28\u001b[0m \u001b[0;34m\u001b[0m\u001b[0m\n\u001b[1;32m     29\u001b[0m \u001b[0mgoodExamplesStarMovement\u001b[0m \u001b[0;34m=\u001b[0m \u001b[0;34m[\u001b[0m\u001b[0;34m]\u001b[0m\u001b[0;34m\u001b[0m\u001b[0m\n\u001b[0;32m---> 30\u001b[0;31m \u001b[0;32mfor\u001b[0m \u001b[0mj\u001b[0m\u001b[0;34m,\u001b[0m \u001b[0mpair\u001b[0m \u001b[0;32min\u001b[0m \u001b[0menumerate\u001b[0m\u001b[0;34m(\u001b[0m\u001b[0mgoodPairsIdxs\u001b[0m\u001b[0;34m.\u001b[0m\u001b[0mT\u001b[0m\u001b[0;34m)\u001b[0m \u001b[0;34m:\u001b[0m\u001b[0;34m\u001b[0m\u001b[0m\n\u001b[0m\u001b[1;32m     31\u001b[0m     \u001b[0mt\u001b[0m \u001b[0;34m=\u001b[0m \u001b[0mtime\u001b[0m\u001b[0;34m.\u001b[0m\u001b[0mtime\u001b[0m\u001b[0;34m(\u001b[0m\u001b[0;34m)\u001b[0m\u001b[0;34m\u001b[0m\u001b[0m\n\u001b[1;32m     32\u001b[0m     \u001b[0mframe1\u001b[0m \u001b[0;34m=\u001b[0m \u001b[0mnp\u001b[0m\u001b[0;34m.\u001b[0m\u001b[0marray\u001b[0m\u001b[0;34m(\u001b[0m\u001b[0mImage\u001b[0m\u001b[0;34m.\u001b[0m\u001b[0mopen\u001b[0m\u001b[0;34m(\u001b[0m\u001b[0mframePaths\u001b[0m\u001b[0;34m[\u001b[0m\u001b[0mpair\u001b[0m\u001b[0;34m[\u001b[0m\u001b[0;36m0\u001b[0m\u001b[0;34m]\u001b[0m\u001b[0;34m]\u001b[0m\u001b[0;34m)\u001b[0m\u001b[0;34m)\u001b[0m\u001b[0;34m/\u001b[0m\u001b[0;36m255.0\u001b[0m\u001b[0;34m\u001b[0m\u001b[0m\n",
        "\u001b[0;31mNameError\u001b[0m: name 'goodPairsIdxs' is not defined"
       ]
      }
     ],
     "prompt_number": 10
    },
    {
     "cell_type": "code",
     "collapsed": false,
     "input": [
      "print displacements"
     ],
     "language": "python",
     "metadata": {},
     "outputs": [
      {
       "output_type": "stream",
       "stream": "stdout",
       "text": [
        "[[  0   0   0   0   0   1   2   4   8  16   1   2   4   8  16   1   2   4\n",
        "    8  16   0   0   0   0   0  -1  -2  -4  -8 -16  -1  -2  -4  -8 -16  -1\n",
        "   -2  -4  -8 -16]\n",
        " [  1   2   4   8  16   1   2   4   8  16   0   0   0   0   0  -1  -2  -4\n",
        "   -8 -16  -1  -2  -4  -8 -16  -1  -2  -4  -8 -16   0   0   0   0   0   1\n",
        "    2   4   8  16]]\n"
       ]
      }
     ],
     "prompt_number": 11
    },
    {
     "cell_type": "code",
     "collapsed": false,
     "input": [
      "# tmpExamples = np.array([np.sqrt(np.sum((frame2[l2[0]:l2[0]+patchSize[0], l2[1]:l2[1]+patchSize[1]]-frame1[l1[0]:l1[0]+patchSize[0], l1[1]:l1[1]+patchSize[1]])**2)) for l2, l1 in zip(frame2Idxs, frame1Idxs)])\n",
      "tmp1Idxs = frame1Idxs[0:5, :]\n",
      "tmp2Idxs = frame2Idxs[0:5, :]\n",
      "\n",
      "print tmp1Idxs, tmp2Idxs\n",
      "\n",
      "tmp1Idxs = np.empty((2, 0), int)\n",
      "tmp2Idxs = np.empty((2, 0), int)\n",
      "for l1, l2 in zip(frame1Idxs[0:5, :], frame2Idxs[0:5, :]) :\n",
      "    tmp1Idxs = np.concatenate((tmp1Idxs, np.array(np.meshgrid(arange(l1[0], l1[0]+patchSize[0]), arange(l1[1], l1[1]+patchSize[1]))).reshape((2, np.prod(patchSize)))), axis=1)\n",
      "    tmp2Idxs = np.concatenate((tmp2Idxs, np.array(np.meshgrid(arange(l2[0], l2[0]+patchSize[0]), arange(l2[1], l2[1]+patchSize[1]))).reshape((2, np.prod(patchSize)))), axis=1)\n",
      "    \n",
      "    sys.stdout.write('\\r' + \"Lala \" + np.string_(tmp1Idxs.shape[1]/4096) + \" of \" + np.string_(len(frame1Idxs)))\n",
      "    sys.stdout.flush()\n",
      "    \n",
      "\n",
      "clear_output()\n",
      "# bob1 = np.array([np.meshgrid(arange(l[0], l[0]+patchSize[0]), arange(l[1], l[1]+patchSize[1])) for l in tmp1Idxs]).reshape((tmp1Idxs.shape[0], 2, np.prod(patchSize)))\n",
      "# bob2 = np.array([np.meshgrid(arange(l[0], l[0]+patchSize[0]), arange(l[1], l[1]+patchSize[1])) for l in tmp2Idxs]).reshape((tmp2Idxs.shape[0], 2, np.prod(patchSize)))\n",
      "# # print np.array(np.meshgrid(arange(5, 7), arange(3, 5))).shape\n",
      "# print bob1.shape\n",
      "# print bob1.reshape((5, 2, 64**2))[0, :, :].T.shape\n",
      "# lala = np.array([frame1[la[0], la[1], :] for la in bob1.reshape((5, 2, 64**2))[0, :, :].T])\n",
      "# print lala.shape\n",
      "\n",
      "# print np.argwhere(frame1[bob1.reshape((5, 2, 64**2))[0, 0, :], bob1.reshape((5, 2, 64**2))[0, 1, :]]-lala != 0.0)\n",
      "\n",
      "\n",
      "# print np.sum(lala, axis=1)[0:16]\n",
      "# print np.sum(lala, axis=1).reshape((8, 8*64), order='F')[:, 0:2]\n",
      "# print np.sum(lala, axis=1).reshape((8, 8*64), order='F')[:, 1:2].flatten() - np.sum(lala, axis=1)[8:16]\n",
      "\n",
      "# print bob1[0, :, :]\n",
      "# print bob1[1, :, :]\n",
      "# print bob1.reshape((4096*5, 2))\n",
      "# print \n",
      "\n",
      "\n",
      "\n",
      "\n",
      "# tom = np.array([np.sum(frame1[la[0, :], la[01, :], :], axis=-1) for la in bob1])\n",
      "# print tom.shape\n",
      "# print np.argwhere(np.sum(frame1[bob1.reshape((4096*5, 2))[:, 0], bob1.reshape((4096*5, 2))[:, 1], :], axis=-1)[:4096]-tom[0, :] != 0.0)"
     ],
     "language": "python",
     "metadata": {},
     "outputs": [],
     "prompt_number": 366
    },
    {
     "cell_type": "code",
     "collapsed": false,
     "input": [
      "t = time.time()\n",
      "tmp1Idxs = np.array([np.array(np.meshgrid(arange(l1[0], l1[0]+patchSize[0]), \n",
      "                                          arange(l1[1], l1[1]+patchSize[1]))).reshape((2, np.prod(patchSize))) for l1 in frame1Idxs]).swapaxes(0, 1).reshape((2, len(frame1Idxs)*np.prod(patchSize)))\n",
      "\n",
      "tmp2Idxs = np.array([np.array(np.meshgrid(arange(l2[0], l2[0]+patchSize[0]), \n",
      "                                          arange(l2[1], l2[1]+patchSize[1]))).reshape((2, np.prod(patchSize))) for l2 in frame2Idxs]).swapaxes(0, 1).reshape((2, len(frame2Idxs)*np.prod(patchSize)))\n",
      "print time.time() - t\n",
      "print tmp1Idxs.shape"
     ],
     "language": "python",
     "metadata": {},
     "outputs": [
      {
       "output_type": "stream",
       "stream": "stdout",
       "text": [
        "68.0447719097\n",
        "(2, 121241600)\n"
       ]
      }
     ],
     "prompt_number": 5
    },
    {
     "cell_type": "code",
     "collapsed": false,
     "input": [
      "print np.sqrt(tmp1Idxs.shape[1])"
     ],
     "language": "python",
     "metadata": {},
     "outputs": [
      {
       "output_type": "stream",
       "stream": "stdout",
       "text": [
        "11010.9763418\n"
       ]
      }
     ],
     "prompt_number": 385
    },
    {
     "cell_type": "code",
     "collapsed": false,
     "input": [
      "t = time.time()\n",
      "np.sqrt(np.sum(np.sum((frame2[tmp2Idxs[0, :], tmp2Idxs[1, :], :] - frame1[tmp1Idxs[0, :], tmp1Idxs[1, :], :])**2, axis=-1).reshape((len(frame1Idxs), np.prod(patchSize))), axis=-1))\n",
      "print time.time()-t"
     ],
     "language": "python",
     "metadata": {},
     "outputs": [
      {
       "output_type": "stream",
       "stream": "stdout",
       "text": [
        "19.0013749599\n"
       ]
      }
     ],
     "prompt_number": 383
    },
    {
     "cell_type": "code",
     "collapsed": false,
     "input": [
      "print tmpExamples[0:5]"
     ],
     "language": "python",
     "metadata": {},
     "outputs": [
      {
       "output_type": "stream",
       "stream": "stdout",
       "text": [
        "[ 0.64544064  0.65355033  0.66788815  0.70707959  0.82921474]\n"
       ]
      }
     ],
     "prompt_number": 333
    },
    {
     "cell_type": "code",
     "collapsed": false,
     "input": [
      "labels = ['East', 'South-East', 'South', 'South-West', 'West', 'North-West', 'North', 'North-East']\n",
      "figure()\n",
      "for dispDirIdx, col in enumerate(cm.jet(np.arange(0, 255, 36))) :\n",
      "    print dispDirIdx, col\n",
      "    vals = [np.average(np.array(badExamplesStarMovement)[:, arange(dispLenIdx+dispDirIdx*5, len(badExamplesStarMovement[0]), len(displacements.T))]) for dispLenIdx in arange(5)]\n",
      "    print vals\n",
      "    print\n",
      "    plot(vals, color=col, marker='.', label=labels[dispDirIdx])\n",
      "legend()"
     ],
     "language": "python",
     "metadata": {},
     "outputs": [],
     "prompt_number": 188
    },
    {
     "cell_type": "code",
     "collapsed": false,
     "input": [
      "# dispLenIdx = 0\n",
      "# dispDirIdx = 0\n",
      "print dispDirIdx, dispLenIdx\n",
      "print np.sum(np.array(goodExamplesStarMovement)[:, arange(dispLenIdx+0*5, len(goodExamplesStarMovement[0]), len(displacements.T))])"
     ],
     "language": "python",
     "metadata": {},
     "outputs": [],
     "prompt_number": 172
    },
    {
     "cell_type": "code",
     "collapsed": false,
     "input": [
      "print displacements.T\n",
      "print arange"
     ],
     "language": "python",
     "metadata": {},
     "outputs": [],
     "prompt_number": 163
    },
    {
     "cell_type": "code",
     "collapsed": false,
     "input": [
      "bob = np.zeros(imageSize)\n",
      "bob[frame2Idxs[:, 0], frame2Idxs[:, 1]] = np.average(np.array(goodExamplesStarMovement), axis=0)\n",
      "gwv.showCustomGraph(bob)"
     ],
     "language": "python",
     "metadata": {},
     "outputs": [],
     "prompt_number": 11
    },
    {
     "cell_type": "code",
     "collapsed": false,
     "input": [
      "print np.arange(patchXs.shape[-1], patchLocations.shape[-1]+1, patchXs.shape[-1]).shape\n",
      "print patchLocations.shape"
     ],
     "language": "python",
     "metadata": {},
     "outputs": [],
     "prompt_number": 111
    },
    {
     "cell_type": "code",
     "collapsed": false,
     "input": [
      "print \"bad examples shapes\"\n",
      "print np.array(badExamplesMovement).shape\n",
      "print badExamplesData.shape\n",
      "badExamplesData = np.concatenate((badExamplesData, np.array(badExamplesMovement).T), axis=0)\n",
      "print badExamplesData.shape\n",
      "\n",
      "print \"good examples shapes\"\n",
      "print np.array(goodExamplesMovement).shape\n",
      "print goodExamplesData.shape\n",
      "goodExamplesData = np.concatenate((goodExamplesData, np.array(goodExamplesMovement).T), axis=0)\n",
      "print goodExamplesData.shape"
     ],
     "language": "python",
     "metadata": {},
     "outputs": [],
     "prompt_number": 786
    },
    {
     "cell_type": "code",
     "collapsed": false,
     "input": [
      "bob = np.zeros(imageSize)\n",
      "bob[patchLocations[0, :], patchLocations[1, :]] = badExamplesMovement[10]\n",
      "gwv.showCustomGraph(bob)"
     ],
     "language": "python",
     "metadata": {},
     "outputs": [
      {
       "ename": "NameError",
       "evalue": "name 'badExamplesMovement' is not defined",
       "output_type": "pyerr",
       "traceback": [
        "\u001b[0;31m---------------------------------------------------------------------------\u001b[0m\n\u001b[0;31mNameError\u001b[0m                                 Traceback (most recent call last)",
        "\u001b[0;32m<ipython-input-8-e3f05946868d>\u001b[0m in \u001b[0;36m<module>\u001b[0;34m()\u001b[0m\n\u001b[1;32m      1\u001b[0m \u001b[0mbob\u001b[0m \u001b[0;34m=\u001b[0m \u001b[0mnp\u001b[0m\u001b[0;34m.\u001b[0m\u001b[0mzeros\u001b[0m\u001b[0;34m(\u001b[0m\u001b[0mframeSize\u001b[0m\u001b[0;34m)\u001b[0m\u001b[0;34m\u001b[0m\u001b[0m\n\u001b[0;32m----> 2\u001b[0;31m \u001b[0mbob\u001b[0m\u001b[0;34m[\u001b[0m\u001b[0mpatchLocations\u001b[0m\u001b[0;34m[\u001b[0m\u001b[0;36m0\u001b[0m\u001b[0;34m,\u001b[0m \u001b[0;34m:\u001b[0m\u001b[0;34m]\u001b[0m\u001b[0;34m,\u001b[0m \u001b[0mpatchLocations\u001b[0m\u001b[0;34m[\u001b[0m\u001b[0;36m1\u001b[0m\u001b[0;34m,\u001b[0m \u001b[0;34m:\u001b[0m\u001b[0;34m]\u001b[0m\u001b[0;34m]\u001b[0m \u001b[0;34m=\u001b[0m \u001b[0mbadExamplesMovement\u001b[0m\u001b[0;34m[\u001b[0m\u001b[0;36m10\u001b[0m\u001b[0;34m]\u001b[0m\u001b[0;34m\u001b[0m\u001b[0m\n\u001b[0m\u001b[1;32m      3\u001b[0m \u001b[0mgwv\u001b[0m\u001b[0;34m.\u001b[0m\u001b[0mshowCustomGraph\u001b[0m\u001b[0;34m(\u001b[0m\u001b[0mbob\u001b[0m\u001b[0;34m)\u001b[0m\u001b[0;34m\u001b[0m\u001b[0m\n",
        "\u001b[0;31mNameError\u001b[0m: name 'badExamplesMovement' is not defined"
       ]
      }
     ],
     "prompt_number": 8
    },
    {
     "cell_type": "code",
     "collapsed": false,
     "input": [
      "# badDataBAK = np.copy(badExamplesData)\n",
      "# goodDataBAK = np.copy(goodExamplesData)"
     ],
     "language": "python",
     "metadata": {},
     "outputs": [],
     "prompt_number": 157
    },
    {
     "cell_type": "code",
     "collapsed": false,
     "input": [
      "print np.array(goodExamplesStarMovement).shape"
     ],
     "language": "python",
     "metadata": {},
     "outputs": [],
     "prompt_number": 47
    },
    {
     "cell_type": "code",
     "collapsed": false,
     "input": [
      "# gwv.showCustomGraph(np.average(goodDataBAK[np.prod(gridSize):2*np.prod(gridSize), goodPairsToUse], axis=1).reshape(gridSize))\n",
      "# gwv.showCustomGraph(np.average(badDataBAK[np.prod(gridSize):2*np.prod(gridSize), badPairsToUse], axis=1).reshape(gridSize))\n",
      "gwv.showCustomGraph(np.average(goodExamplesData[np.prod(gridSize):2*np.prod(gridSize), goodPairsToUse], axis=1).reshape(gridSize))\n",
      "gwv.showCustomGraph(np.average(badExamplesData[np.prod(gridSize):2*np.prod(gridSize), badPairsToUse], axis=1).reshape(gridSize))"
     ],
     "language": "python",
     "metadata": {},
     "outputs": [
      {
       "ename": "NameError",
       "evalue": "name 'goodExamplesData' is not defined",
       "output_type": "pyerr",
       "traceback": [
        "\u001b[0;31m---------------------------------------------------------------------------\u001b[0m\n\u001b[0;31mNameError\u001b[0m                                 Traceback (most recent call last)",
        "\u001b[0;32m<ipython-input-60-b7a0a60902ad>\u001b[0m in \u001b[0;36m<module>\u001b[0;34m()\u001b[0m\n\u001b[1;32m      1\u001b[0m \u001b[0;31m# gwv.showCustomGraph(np.average(goodDataBAK[np.prod(gridSize):2*np.prod(gridSize), goodPairsToUse], axis=1).reshape(gridSize))\u001b[0m\u001b[0;34m\u001b[0m\u001b[0;34m\u001b[0m\u001b[0m\n\u001b[1;32m      2\u001b[0m \u001b[0;31m# gwv.showCustomGraph(np.average(badDataBAK[np.prod(gridSize):2*np.prod(gridSize), badPairsToUse], axis=1).reshape(gridSize))\u001b[0m\u001b[0;34m\u001b[0m\u001b[0;34m\u001b[0m\u001b[0m\n\u001b[0;32m----> 3\u001b[0;31m \u001b[0mgwv\u001b[0m\u001b[0;34m.\u001b[0m\u001b[0mshowCustomGraph\u001b[0m\u001b[0;34m(\u001b[0m\u001b[0mnp\u001b[0m\u001b[0;34m.\u001b[0m\u001b[0maverage\u001b[0m\u001b[0;34m(\u001b[0m\u001b[0mgoodExamplesData\u001b[0m\u001b[0;34m[\u001b[0m\u001b[0mnp\u001b[0m\u001b[0;34m.\u001b[0m\u001b[0mprod\u001b[0m\u001b[0;34m(\u001b[0m\u001b[0mgridSize\u001b[0m\u001b[0;34m)\u001b[0m\u001b[0;34m:\u001b[0m\u001b[0;36m2\u001b[0m\u001b[0;34m*\u001b[0m\u001b[0mnp\u001b[0m\u001b[0;34m.\u001b[0m\u001b[0mprod\u001b[0m\u001b[0;34m(\u001b[0m\u001b[0mgridSize\u001b[0m\u001b[0;34m)\u001b[0m\u001b[0;34m,\u001b[0m \u001b[0mgoodPairsToUse\u001b[0m\u001b[0;34m]\u001b[0m\u001b[0;34m,\u001b[0m \u001b[0maxis\u001b[0m\u001b[0;34m=\u001b[0m\u001b[0;36m1\u001b[0m\u001b[0;34m)\u001b[0m\u001b[0;34m.\u001b[0m\u001b[0mreshape\u001b[0m\u001b[0;34m(\u001b[0m\u001b[0mgridSize\u001b[0m\u001b[0;34m)\u001b[0m\u001b[0;34m)\u001b[0m\u001b[0;34m\u001b[0m\u001b[0m\n\u001b[0m\u001b[1;32m      4\u001b[0m \u001b[0mgwv\u001b[0m\u001b[0;34m.\u001b[0m\u001b[0mshowCustomGraph\u001b[0m\u001b[0;34m(\u001b[0m\u001b[0mnp\u001b[0m\u001b[0;34m.\u001b[0m\u001b[0maverage\u001b[0m\u001b[0;34m(\u001b[0m\u001b[0mbadExamplesData\u001b[0m\u001b[0;34m[\u001b[0m\u001b[0mnp\u001b[0m\u001b[0;34m.\u001b[0m\u001b[0mprod\u001b[0m\u001b[0;34m(\u001b[0m\u001b[0mgridSize\u001b[0m\u001b[0;34m)\u001b[0m\u001b[0;34m:\u001b[0m\u001b[0;36m2\u001b[0m\u001b[0;34m*\u001b[0m\u001b[0mnp\u001b[0m\u001b[0;34m.\u001b[0m\u001b[0mprod\u001b[0m\u001b[0;34m(\u001b[0m\u001b[0mgridSize\u001b[0m\u001b[0;34m)\u001b[0m\u001b[0;34m,\u001b[0m \u001b[0mbadPairsToUse\u001b[0m\u001b[0;34m]\u001b[0m\u001b[0;34m,\u001b[0m \u001b[0maxis\u001b[0m\u001b[0;34m=\u001b[0m\u001b[0;36m1\u001b[0m\u001b[0;34m)\u001b[0m\u001b[0;34m.\u001b[0m\u001b[0mreshape\u001b[0m\u001b[0;34m(\u001b[0m\u001b[0mgridSize\u001b[0m\u001b[0;34m)\u001b[0m\u001b[0;34m)\u001b[0m\u001b[0;34m\u001b[0m\u001b[0m\n",
        "\u001b[0;31mNameError\u001b[0m: name 'goodExamplesData' is not defined"
       ]
      }
     ],
     "prompt_number": 60
    },
    {
     "cell_type": "code",
     "collapsed": false,
     "input": [
      "figure(); imshow((np.average(goodExamplesData[np.prod(gridSize):2*np.prod(gridSize), goodPairsToUse], axis=1).reshape(gridSize)), interpolation='nearest')\n",
      "cb = colorbar(); cb.set_clim((0.63, 0.83))\n",
      "figure(); imshow((np.average(badExamplesData[np.prod(gridSize):2*np.prod(gridSize), badPairsToUse], axis=1).reshape(gridSize)), interpolation='nearest')\n",
      "cb = colorbar(); cb.set_clim((0.63, 0.83))"
     ],
     "language": "python",
     "metadata": {},
     "outputs": [
      {
       "ename": "NameError",
       "evalue": "name 'goodExamplesData' is not defined",
       "output_type": "pyerr",
       "traceback": [
        "\u001b[0;31m---------------------------------------------------------------------------\u001b[0m\n\u001b[0;31mNameError\u001b[0m                                 Traceback (most recent call last)",
        "\u001b[0;32m<ipython-input-59-2df9dd39690c>\u001b[0m in \u001b[0;36m<module>\u001b[0;34m()\u001b[0m\n\u001b[0;32m----> 1\u001b[0;31m \u001b[0mfigure\u001b[0m\u001b[0;34m(\u001b[0m\u001b[0;34m)\u001b[0m\u001b[0;34m;\u001b[0m \u001b[0mimshow\u001b[0m\u001b[0;34m(\u001b[0m\u001b[0;34m(\u001b[0m\u001b[0mnp\u001b[0m\u001b[0;34m.\u001b[0m\u001b[0maverage\u001b[0m\u001b[0;34m(\u001b[0m\u001b[0mgoodExamplesData\u001b[0m\u001b[0;34m[\u001b[0m\u001b[0mnp\u001b[0m\u001b[0;34m.\u001b[0m\u001b[0mprod\u001b[0m\u001b[0;34m(\u001b[0m\u001b[0mgridSize\u001b[0m\u001b[0;34m)\u001b[0m\u001b[0;34m:\u001b[0m\u001b[0;36m2\u001b[0m\u001b[0;34m*\u001b[0m\u001b[0mnp\u001b[0m\u001b[0;34m.\u001b[0m\u001b[0mprod\u001b[0m\u001b[0;34m(\u001b[0m\u001b[0mgridSize\u001b[0m\u001b[0;34m)\u001b[0m\u001b[0;34m,\u001b[0m \u001b[0mgoodPairsToUse\u001b[0m\u001b[0;34m]\u001b[0m\u001b[0;34m,\u001b[0m \u001b[0maxis\u001b[0m\u001b[0;34m=\u001b[0m\u001b[0;36m1\u001b[0m\u001b[0;34m)\u001b[0m\u001b[0;34m.\u001b[0m\u001b[0mreshape\u001b[0m\u001b[0;34m(\u001b[0m\u001b[0mgridSize\u001b[0m\u001b[0;34m)\u001b[0m\u001b[0;34m)\u001b[0m\u001b[0;34m,\u001b[0m \u001b[0minterpolation\u001b[0m\u001b[0;34m=\u001b[0m\u001b[0;34m'nearest'\u001b[0m\u001b[0;34m)\u001b[0m\u001b[0;34m\u001b[0m\u001b[0m\n\u001b[0m\u001b[1;32m      2\u001b[0m \u001b[0mcb\u001b[0m \u001b[0;34m=\u001b[0m \u001b[0mcolorbar\u001b[0m\u001b[0;34m(\u001b[0m\u001b[0;34m)\u001b[0m\u001b[0;34m;\u001b[0m \u001b[0mcb\u001b[0m\u001b[0;34m.\u001b[0m\u001b[0mset_clim\u001b[0m\u001b[0;34m(\u001b[0m\u001b[0;34m(\u001b[0m\u001b[0;36m0.63\u001b[0m\u001b[0;34m,\u001b[0m \u001b[0;36m0.83\u001b[0m\u001b[0;34m)\u001b[0m\u001b[0;34m)\u001b[0m\u001b[0;34m\u001b[0m\u001b[0m\n\u001b[1;32m      3\u001b[0m \u001b[0mfigure\u001b[0m\u001b[0;34m(\u001b[0m\u001b[0;34m)\u001b[0m\u001b[0;34m;\u001b[0m \u001b[0mimshow\u001b[0m\u001b[0;34m(\u001b[0m\u001b[0;34m(\u001b[0m\u001b[0mnp\u001b[0m\u001b[0;34m.\u001b[0m\u001b[0maverage\u001b[0m\u001b[0;34m(\u001b[0m\u001b[0mbadExamplesData\u001b[0m\u001b[0;34m[\u001b[0m\u001b[0mnp\u001b[0m\u001b[0;34m.\u001b[0m\u001b[0mprod\u001b[0m\u001b[0;34m(\u001b[0m\u001b[0mgridSize\u001b[0m\u001b[0;34m)\u001b[0m\u001b[0;34m:\u001b[0m\u001b[0;36m2\u001b[0m\u001b[0;34m*\u001b[0m\u001b[0mnp\u001b[0m\u001b[0;34m.\u001b[0m\u001b[0mprod\u001b[0m\u001b[0;34m(\u001b[0m\u001b[0mgridSize\u001b[0m\u001b[0;34m)\u001b[0m\u001b[0;34m,\u001b[0m \u001b[0mbadPairsToUse\u001b[0m\u001b[0;34m]\u001b[0m\u001b[0;34m,\u001b[0m \u001b[0maxis\u001b[0m\u001b[0;34m=\u001b[0m\u001b[0;36m1\u001b[0m\u001b[0;34m)\u001b[0m\u001b[0;34m.\u001b[0m\u001b[0mreshape\u001b[0m\u001b[0;34m(\u001b[0m\u001b[0mgridSize\u001b[0m\u001b[0;34m)\u001b[0m\u001b[0;34m)\u001b[0m\u001b[0;34m,\u001b[0m \u001b[0minterpolation\u001b[0m\u001b[0;34m=\u001b[0m\u001b[0;34m'nearest'\u001b[0m\u001b[0;34m)\u001b[0m\u001b[0;34m\u001b[0m\u001b[0m\n\u001b[1;32m      4\u001b[0m \u001b[0mcb\u001b[0m \u001b[0;34m=\u001b[0m \u001b[0mcolorbar\u001b[0m\u001b[0;34m(\u001b[0m\u001b[0;34m)\u001b[0m\u001b[0;34m;\u001b[0m \u001b[0mcb\u001b[0m\u001b[0;34m.\u001b[0m\u001b[0mset_clim\u001b[0m\u001b[0;34m(\u001b[0m\u001b[0;34m(\u001b[0m\u001b[0;36m0.63\u001b[0m\u001b[0;34m,\u001b[0m \u001b[0;36m0.83\u001b[0m\u001b[0;34m)\u001b[0m\u001b[0;34m)\u001b[0m\u001b[0;34m\u001b[0m\u001b[0m\n",
        "\u001b[0;31mNameError\u001b[0m: name 'goodExamplesData' is not defined"
       ]
      }
     ],
     "prompt_number": 59
    },
    {
     "cell_type": "code",
     "collapsed": false,
     "input": [
      "goodPairsToUse = arange(len(goodPairsIdxs.T))\n",
      "# goodPairsToUse = arange(len(goodPairsIdxs.T)-len(additionalGoodPairsIdxs.T), len(goodPairsIdxs.T))\n",
      "badPairsToUse = arange(len(badPairsIdxs.T))\n",
      "\n",
      "# X = np.concatenate((goodExamplesData[:3*np.prod(gridSize), goodPairsToUse], badExamplesData[:3*np.prod(gridSize), badPairsToUse]), axis=1)\n",
      "# X = np.concatenate((goodExamplesData[3*np.prod(gridSize):, goodPairsToUse], badExamplesData[3*np.prod(gridSize):, badPairsToUse]), axis=1)\n",
      "# X = np.concatenate((np.array(goodExamplesStarMovement).T, np.array(badExamplesStarMovement).T), axis=1)\n",
      "X = np.concatenate((np.concatenate((np.array(goodExamplesStarMovement).T, goodExamplesData), axis=0), \n",
      "                    np.concatenate((np.array(badExamplesStarMovement).T, badExamplesData), axis=0)), axis=1)\n",
      "w = np.concatenate((np.zeros(len(goodPairsToUse)), 1.0*np.ones(len(badPairsToUse)))).reshape((X.shape[-1], 1))\n",
      "N = X.shape[0]\n",
      "phi0 = np.ones((N, 1))\n",
      "sio.savemat(dataPath + dataSet + \"trainingExamplesForImageData\", {\"X\":X, \"w\":w})\n",
      "print X.shape"
     ],
     "language": "python",
     "metadata": {},
     "outputs": [
      {
       "output_type": "stream",
       "stream": "stdout",
       "text": [
        "(12300, 705)\n"
       ]
      }
     ],
     "prompt_number": 39
    },
    {
     "cell_type": "code",
     "collapsed": false,
     "input": [
      "print 8.8 - np.floor(8.8)"
     ],
     "language": "python",
     "metadata": {},
     "outputs": [
      {
       "output_type": "stream",
       "stream": "stdout",
       "text": [
        "0.8\n"
       ]
      }
     ],
     "prompt_number": 221
    },
    {
     "cell_type": "code",
     "collapsed": false,
     "input": [
      "print np.array(badExamplesStarMovement).T.shape"
     ],
     "language": "python",
     "metadata": {},
     "outputs": [
      {
       "output_type": "stream",
       "stream": "stdout",
       "text": [
        "(29600, 20)\n"
       ]
      }
     ],
     "prompt_number": 218
    },
    {
     "cell_type": "code",
     "collapsed": false,
     "input": [
      "# ## now call the matlab script to fit phi\n",
      "# if doHogs :\n",
      "#     trainingExamplesLoc = dataPath + dataSet + \"trainingExamplesForHogs.mat\"\n",
      "#     phiSaveLoc = dataPath + dataSet + \"fittedPhiForHogs.mat\"\n",
      "# else :\n",
      "#     trainingExamplesLoc = dataPath + dataSet + \"trainingExamplesForImageData.mat\"\n",
      "#     phiSaveLoc = dataPath + dataSet + \"fittedPhiForImageData.mat\"\n",
      "\n",
      "# matlabCommand = \"cd ~/PhD/MATLAB/; matlab -nosplash -nodesktop -nodisplay -r \"\n",
      "# matlabCommand += \"\\\"fitPhiForRegression '\" + trainingExamplesLoc + \"' '\"\n",
      "# matlabCommand += phiSaveLoc + \"'; exit;\\\"\"\n",
      "\n",
      "# stat, output = commands.getstatusoutput(matlabCommand)\n",
      "# stat /= 256\n",
      "\n",
      "# if stat == 10 :\n",
      "#     print \"Error when saving result\"\n",
      "# elif stat == 11 :\n",
      "#     print \"Error when loading examples\"\n",
      "# else :\n",
      "#     print \"Optimization completed with status\", stat\n",
      "    \n",
      "# print output"
     ],
     "language": "python",
     "metadata": {},
     "outputs": [],
     "prompt_number": 37
    },
    {
     "cell_type": "code",
     "collapsed": false,
     "input": [
      "## now call the matlab script to fit phi using psi\n",
      "if doHogs :\n",
      "    trainingExamplesLoc = dataPath + dataSet + \"trainingExamplesForHogs.mat\"\n",
      "    phiSaveLoc = dataPath + dataSet + \"fittedPhiForHogsUsingPsi.mat\"\n",
      "else :\n",
      "    trainingExamplesLoc = dataPath + dataSet + \"trainingExamplesForImageData.mat\"\n",
      "    phiSaveLoc = dataPath + dataSet + \"fittedPhiForImageDataUsingPsi.mat\"\n",
      "\n",
      "matlabCommand = \"cd ~/PhD/MATLAB/; matlab -nosplash -nodesktop -nodisplay -r \"\n",
      "matlabCommand += \"\\\"fitPsiForRegression '\" + trainingExamplesLoc + \"' '\"\n",
      "matlabCommand += phiSaveLoc + \"'; exit;\\\"\"\n",
      "\n",
      "stat, output = commands.getstatusoutput(matlabCommand)\n",
      "stat /= 256\n",
      "\n",
      "if stat == 10 :\n",
      "    print \"Error when saving result\"\n",
      "elif stat == 11 :\n",
      "    print \"Error when loading examples\"\n",
      "else :\n",
      "    print \"Optimization completed with status\", stat\n",
      "    \n",
      "print output"
     ],
     "language": "python",
     "metadata": {},
     "outputs": [
      {
       "output_type": "stream",
       "stream": "stdout",
       "text": [
        "Optimization completed with status 0\n",
        "\n",
        "                            < M A T L A B (R) >\n",
        "                  Copyright 1984-2014 The MathWorks, Inc.\n",
        "                   R2014b (8.4.0.150421) 64-bit (glnxa64)\n",
        "                             September 15, 2014\n",
        "\n",
        " \n",
        "To get started, type one of these: helpwin, helpdesk, or demo.\n",
        "For product information, visit www.mathworks.com.\n",
        " \n",
        "Loaded 150 examples of size 230400\n",
        "[\bWarning: Struct field assignment overwrites a value with class \"double\". See\n",
        "MATLAB R14SP2 Release Notes, Assigning Nonstructure Variables As Structures\n",
        "Displays Warning, for details.]\b \n",
        "[\b> In fitPsiForRegression at 52]\b \n",
        "f is 808515903.7299 g size is 230400\n",
        " Iteration   FunEvals     Step Length    Function Val        Opt Cond\n",
        "newtonCG stopped on iteration 1 w/ residual 2.62020e+06\n",
        "         1          3     1.00000e+00     4.00492e+08     2.90197e+04\n",
        "newtonCG stopped on iteration 1 w/ residual 7.43752e+05\n",
        "         2          5     1.00000e+00     1.74234e+08     8.43467e+03\n",
        "newtonCG stopped on iteration 1 w/ residual 2.08956e+05\n",
        "         3          7     1.00000e+00     7.12207e+07     2.66378e+03\n",
        "newtonCG stopped on iteration 1 w/ residual 6.39252e+04\n",
        "         4          9     1.00000e+00     2.84911e+07     8.85996e+02\n",
        "newtonCG stopped on iteration 1 w/ residual 1.97415e+04\n",
        "         5         11     1.00000e+00     1.16043e+07     3.10406e+02\n",
        "newtonCG stopped on iteration 1 w/ residual 6.27414e+03\n",
        "         6         13     1.00000e+00     5.19879e+06     1.10296e+02\n",
        "newtonCG stopped on iteration 1 w/ residual 1.93260e+03\n",
        "         7         15     1.00000e+00     2.89292e+06     3.82231e+01\n",
        "newtonCG stopped on iteration 1 w/ residual 5.88012e+02\n",
        "         8         17     1.00000e+00     2.14313e+06     1.32981e+01\n",
        "newtonCG stopped on iteration 1 w/ residual 1.92147e+02\n",
        "         9         19     1.00000e+00     1.94953e+06     4.77862e+00\n",
        "newtonCG stopped on iteration 1 w/ residual 7.83725e+01\n",
        "        10         21     1.00000e+00     1.92045e+06     1.73094e+00\n",
        "newtonCG stopped on iteration 1 w/ residual 4.22492e+01\n",
        "        11         23     1.00000e+00     1.91882e+06     6.20144e-01\n",
        "newtonCG stopped on iteration 1 w/ residual 1.42339e+01\n",
        "        12         25     1.00000e+00     1.91866e+06     1.35863e-01\n",
        "newtonCG stopped on iteration 1 w/ residual 4.11039e+00\n",
        "        13         27     1.00000e+00     1.91865e+06     6.71138e-02\n",
        "newtonCG stopped on iteration 1 w/ residual 1.78713e+00\n",
        "        14         29     1.00000e+00     1.91865e+06     1.67566e-02\n",
        "newtonCG stopped on iteration 1 w/ residual 5.18896e-01\n",
        "        15         31     1.00000e+00     1.91865e+06     8.03817e-03\n",
        "newtonCG stopped on iteration 1 w/ residual 2.42195e-01\n",
        "        16         33     1.00000e+00     1.91865e+06     2.53325e-03\n",
        "newtonCG stopped on iteration 1 w/ residual 7.17243e-02\n",
        "        17         35     1.00000e+00     1.91865e+06     1.07658e-03\n",
        "newtonCG stopped on iteration 2 w/ residual 1.20198e-03\n",
        "        18         38     1.00000e+00     1.91865e+06     3.16130e-05\n",
        "newtonCG stopped on iteration 2 w/ residual 4.06066e-05\n",
        "        19         41     1.00000e+00     1.91865e+06     6.19702e-07\n",
        "Optimality Condition below optTol\n",
        "Exit flag of optimization is 1\n",
        "Saved phi_MAP as /media/ilisescu/Data1/PhD/data/ribbon2/fittedPhiForImageDataUsingPsi.mat\n"
       ]
      }
     ],
     "prompt_number": 63
    },
    {
     "cell_type": "code",
     "collapsed": false,
     "input": [
      "figure(); plot(sio.loadmat(phiSaveLoc)['phi_MAP'])\n",
      "# bob = np.zeros(imageSize)\n",
      "# bob[frame2Idxs[:, 0], frame2Idxs[:, 1]] = sio.loadmat(phiSaveLoc)['phi_MAP'][:, 0]\n",
      "# gwv.showCustomGraph(bob)"
     ],
     "language": "python",
     "metadata": {},
     "outputs": [
      {
       "metadata": {},
       "output_type": "pyout",
       "prompt_number": 9,
       "text": [
        "[<matplotlib.lines.Line2D at 0x7f9da52a8cd0>]"
       ]
      }
     ],
     "prompt_number": 9
    },
    {
     "cell_type": "code",
     "collapsed": false,
     "input": [
      "## for the ribbon data make X and w based on appearanceLabelledPairs which were manually labelled from randomlu chosen examples (they should be same examples I used for the regressor distance)\n",
      "resizeRatio = 1.0/downsize\n",
      "# imagesGrayData = np.zeros([weights.shape[0], numFrames])\n",
      "# for i in xrange(numFrames) :\n",
      "#     imagesGrayData[:, i] = np.ndarray.flatten(np.array(cv2.cvtColor(cv2.resize(cv2.imread(framePaths[i]), (0, 0), fx=resizeRatio, fy=resizeRatio, interpolation=cv2.INTER_AREA), cv2.COLOR_BGR2GRAY)))/255.0\n",
      "print imagesGrayData.shape\n",
      "\n",
      "labelledPairs = np.load(\"appearanceLabelledPairs.npy\")\n",
      "print labelledPairs.shape\n",
      "goodPairsIdxs = labelledPairs[np.argwhere(labelledPairs[:, -1] == 0).flatten(), :-1].astype(int).T\n",
      "badPairsIdxs = labelledPairs[np.argwhere(labelledPairs[:, -1] == 1).flatten(), :-1].astype(int).T\n",
      "print goodPairsIdxs.shape\n",
      "print badPairsIdxs.shape\n",
      "goodExamplesData = (imagesGrayData[:, goodPairsIdxs[0, :]]-imagesGrayData[:, goodPairsIdxs[1, :]]).astype(np.float32)**np.float32(2)\n",
      "badExamplesData = (imagesGrayData[:, badPairsIdxs[0, :]]-imagesGrayData[:, badPairsIdxs[1, :]]).astype(np.float32)**np.float32(2)\n",
      "X = np.concatenate((goodExamplesData, badExamplesData), axis=1)\n",
      "w = np.concatenate((np.zeros(len(goodPairsIdxs.T)), 10.0*np.ones(len(badPairsIdxs.T)))).reshape((X.shape[-1], 1))\n",
      "print X.shape, w.shape\n",
      "N = X.shape[0]\n",
      "phi0 = np.ones((N, 1))\n",
      "    \n",
      "sio.savemat(dataPath + dataSet + \"trainingExamplesForImageData\", {\"X\":X, \"w\":w})"
     ],
     "language": "python",
     "metadata": {},
     "outputs": [
      {
       "output_type": "stream",
       "stream": "stdout",
       "text": [
        "(230400, 1280)\n",
        "(150, 3)\n",
        "(2, 27)\n",
        "(2, 123)\n"
       ]
      }
     ],
     "prompt_number": 59
    },
    {
     "cell_type": "code",
     "collapsed": false,
     "input": [
      "weights = sio.loadmat(phiSaveLoc)['phi_MAP']\n",
      "# X = sio.loadmat(trainingExamplesLoc)['X']\n",
      "# w = sio.loadmat(trainingExamplesLoc)['w']\n",
      "downsize = 2\n",
      "newShape = (720/downsize, 1280/downsize)\n",
      "figure(); imshow(np.log(weights.reshape(newShape, order='C')))"
     ],
     "language": "python",
     "metadata": {},
     "outputs": [
      {
       "metadata": {},
       "output_type": "pyout",
       "prompt_number": 80,
       "text": [
        "<matplotlib.image.AxesImage at 0x7f9da34c2450>"
       ]
      }
     ],
     "prompt_number": 80
    },
    {
     "cell_type": "code",
     "collapsed": false,
     "input": [
      "## now compute distance for ribbon using the weights loaded above\n",
      "distMat = np.zeros([numFrames, numFrames])\n",
      "for i in xrange(numFrames) :\n",
      "    distMat[i, :] = np.sqrt(np.dot(((imagesGrayData[:, i:i+1]-imagesGrayData)**2.0).T, weights)).flatten()\n",
      "    print i,"
     ],
     "language": "python",
     "metadata": {},
     "outputs": [
      {
       "output_type": "stream",
       "stream": "stdout",
       "text": [
        "0 "
       ]
      },
      {
       "output_type": "stream",
       "stream": "stdout",
       "text": [
        "1 "
       ]
      },
      {
       "output_type": "stream",
       "stream": "stdout",
       "text": [
        "2 "
       ]
      },
      {
       "output_type": "stream",
       "stream": "stdout",
       "text": [
        "3 "
       ]
      },
      {
       "output_type": "stream",
       "stream": "stdout",
       "text": [
        "4 "
       ]
      },
      {
       "output_type": "stream",
       "stream": "stdout",
       "text": [
        "5 "
       ]
      },
      {
       "output_type": "stream",
       "stream": "stdout",
       "text": [
        "6 "
       ]
      },
      {
       "output_type": "stream",
       "stream": "stdout",
       "text": [
        "7 "
       ]
      },
      {
       "output_type": "stream",
       "stream": "stdout",
       "text": [
        "8 "
       ]
      },
      {
       "output_type": "stream",
       "stream": "stdout",
       "text": [
        "9 "
       ]
      },
      {
       "output_type": "stream",
       "stream": "stdout",
       "text": [
        "10 "
       ]
      },
      {
       "output_type": "stream",
       "stream": "stdout",
       "text": [
        "11 "
       ]
      },
      {
       "output_type": "stream",
       "stream": "stdout",
       "text": [
        "12 "
       ]
      },
      {
       "output_type": "stream",
       "stream": "stdout",
       "text": [
        "13 "
       ]
      },
      {
       "output_type": "stream",
       "stream": "stdout",
       "text": [
        "14 "
       ]
      },
      {
       "output_type": "stream",
       "stream": "stdout",
       "text": [
        "15 "
       ]
      },
      {
       "output_type": "stream",
       "stream": "stdout",
       "text": [
        "16 "
       ]
      },
      {
       "output_type": "stream",
       "stream": "stdout",
       "text": [
        "17 "
       ]
      },
      {
       "output_type": "stream",
       "stream": "stdout",
       "text": [
        "18 "
       ]
      },
      {
       "output_type": "stream",
       "stream": "stdout",
       "text": [
        "19 "
       ]
      },
      {
       "output_type": "stream",
       "stream": "stdout",
       "text": [
        "20 "
       ]
      },
      {
       "output_type": "stream",
       "stream": "stdout",
       "text": [
        "21 "
       ]
      },
      {
       "output_type": "stream",
       "stream": "stdout",
       "text": [
        "22 "
       ]
      },
      {
       "output_type": "stream",
       "stream": "stdout",
       "text": [
        "23 "
       ]
      },
      {
       "output_type": "stream",
       "stream": "stdout",
       "text": [
        "24 "
       ]
      },
      {
       "output_type": "stream",
       "stream": "stdout",
       "text": [
        "25 "
       ]
      },
      {
       "output_type": "stream",
       "stream": "stdout",
       "text": [
        "26 "
       ]
      },
      {
       "output_type": "stream",
       "stream": "stdout",
       "text": [
        "27 "
       ]
      },
      {
       "output_type": "stream",
       "stream": "stdout",
       "text": [
        "28 "
       ]
      },
      {
       "output_type": "stream",
       "stream": "stdout",
       "text": [
        "29 "
       ]
      },
      {
       "output_type": "stream",
       "stream": "stdout",
       "text": [
        "30 "
       ]
      },
      {
       "output_type": "stream",
       "stream": "stdout",
       "text": [
        "31 "
       ]
      },
      {
       "output_type": "stream",
       "stream": "stdout",
       "text": [
        "32 "
       ]
      },
      {
       "output_type": "stream",
       "stream": "stdout",
       "text": [
        "33 "
       ]
      },
      {
       "output_type": "stream",
       "stream": "stdout",
       "text": [
        "34 "
       ]
      },
      {
       "output_type": "stream",
       "stream": "stdout",
       "text": [
        "35 "
       ]
      },
      {
       "output_type": "stream",
       "stream": "stdout",
       "text": [
        "36 "
       ]
      },
      {
       "output_type": "stream",
       "stream": "stdout",
       "text": [
        "37 "
       ]
      },
      {
       "output_type": "stream",
       "stream": "stdout",
       "text": [
        "38 "
       ]
      },
      {
       "output_type": "stream",
       "stream": "stdout",
       "text": [
        "39 "
       ]
      },
      {
       "output_type": "stream",
       "stream": "stdout",
       "text": [
        "40 "
       ]
      },
      {
       "output_type": "stream",
       "stream": "stdout",
       "text": [
        "41 "
       ]
      },
      {
       "output_type": "stream",
       "stream": "stdout",
       "text": [
        "42 "
       ]
      },
      {
       "output_type": "stream",
       "stream": "stdout",
       "text": [
        "43 "
       ]
      },
      {
       "output_type": "stream",
       "stream": "stdout",
       "text": [
        "44 "
       ]
      },
      {
       "output_type": "stream",
       "stream": "stdout",
       "text": [
        "45 "
       ]
      },
      {
       "output_type": "stream",
       "stream": "stdout",
       "text": [
        "46 "
       ]
      },
      {
       "output_type": "stream",
       "stream": "stdout",
       "text": [
        "47 "
       ]
      },
      {
       "output_type": "stream",
       "stream": "stdout",
       "text": [
        "48 "
       ]
      },
      {
       "output_type": "stream",
       "stream": "stdout",
       "text": [
        "49 "
       ]
      },
      {
       "output_type": "stream",
       "stream": "stdout",
       "text": [
        "50 "
       ]
      },
      {
       "output_type": "stream",
       "stream": "stdout",
       "text": [
        "51 "
       ]
      },
      {
       "output_type": "stream",
       "stream": "stdout",
       "text": [
        "52 "
       ]
      },
      {
       "output_type": "stream",
       "stream": "stdout",
       "text": [
        "53 "
       ]
      },
      {
       "output_type": "stream",
       "stream": "stdout",
       "text": [
        "54 "
       ]
      },
      {
       "output_type": "stream",
       "stream": "stdout",
       "text": [
        "55 "
       ]
      },
      {
       "output_type": "stream",
       "stream": "stdout",
       "text": [
        "56 "
       ]
      },
      {
       "output_type": "stream",
       "stream": "stdout",
       "text": [
        "57 "
       ]
      },
      {
       "output_type": "stream",
       "stream": "stdout",
       "text": [
        "58 "
       ]
      },
      {
       "output_type": "stream",
       "stream": "stdout",
       "text": [
        "59 "
       ]
      },
      {
       "output_type": "stream",
       "stream": "stdout",
       "text": [
        "60 "
       ]
      },
      {
       "output_type": "stream",
       "stream": "stdout",
       "text": [
        "61 "
       ]
      },
      {
       "output_type": "stream",
       "stream": "stdout",
       "text": [
        "62 "
       ]
      },
      {
       "output_type": "stream",
       "stream": "stdout",
       "text": [
        "63 "
       ]
      },
      {
       "output_type": "stream",
       "stream": "stdout",
       "text": [
        "64 "
       ]
      },
      {
       "output_type": "stream",
       "stream": "stdout",
       "text": [
        "65 "
       ]
      },
      {
       "output_type": "stream",
       "stream": "stdout",
       "text": [
        "66 "
       ]
      },
      {
       "output_type": "stream",
       "stream": "stdout",
       "text": [
        "67 "
       ]
      },
      {
       "output_type": "stream",
       "stream": "stdout",
       "text": [
        "68 "
       ]
      },
      {
       "output_type": "stream",
       "stream": "stdout",
       "text": [
        "69 "
       ]
      },
      {
       "output_type": "stream",
       "stream": "stdout",
       "text": [
        "70 "
       ]
      },
      {
       "output_type": "stream",
       "stream": "stdout",
       "text": [
        "71 "
       ]
      },
      {
       "output_type": "stream",
       "stream": "stdout",
       "text": [
        "72 "
       ]
      },
      {
       "output_type": "stream",
       "stream": "stdout",
       "text": [
        "73 "
       ]
      },
      {
       "output_type": "stream",
       "stream": "stdout",
       "text": [
        "74 "
       ]
      },
      {
       "output_type": "stream",
       "stream": "stdout",
       "text": [
        "75 "
       ]
      },
      {
       "output_type": "stream",
       "stream": "stdout",
       "text": [
        "76 "
       ]
      },
      {
       "output_type": "stream",
       "stream": "stdout",
       "text": [
        "77 "
       ]
      },
      {
       "output_type": "stream",
       "stream": "stdout",
       "text": [
        "78 "
       ]
      },
      {
       "output_type": "stream",
       "stream": "stdout",
       "text": [
        "79 "
       ]
      },
      {
       "output_type": "stream",
       "stream": "stdout",
       "text": [
        "80 "
       ]
      },
      {
       "output_type": "stream",
       "stream": "stdout",
       "text": [
        "81 "
       ]
      },
      {
       "output_type": "stream",
       "stream": "stdout",
       "text": [
        "82 "
       ]
      },
      {
       "output_type": "stream",
       "stream": "stdout",
       "text": [
        "83 "
       ]
      },
      {
       "output_type": "stream",
       "stream": "stdout",
       "text": [
        "84 "
       ]
      },
      {
       "output_type": "stream",
       "stream": "stdout",
       "text": [
        "85 "
       ]
      },
      {
       "output_type": "stream",
       "stream": "stdout",
       "text": [
        "86 "
       ]
      },
      {
       "output_type": "stream",
       "stream": "stdout",
       "text": [
        "87 "
       ]
      },
      {
       "output_type": "stream",
       "stream": "stdout",
       "text": [
        "88 "
       ]
      },
      {
       "output_type": "stream",
       "stream": "stdout",
       "text": [
        "89 "
       ]
      },
      {
       "output_type": "stream",
       "stream": "stdout",
       "text": [
        "90 "
       ]
      },
      {
       "output_type": "stream",
       "stream": "stdout",
       "text": [
        "91 "
       ]
      },
      {
       "output_type": "stream",
       "stream": "stdout",
       "text": [
        "92 "
       ]
      },
      {
       "output_type": "stream",
       "stream": "stdout",
       "text": [
        "93 "
       ]
      },
      {
       "output_type": "stream",
       "stream": "stdout",
       "text": [
        "94 "
       ]
      },
      {
       "output_type": "stream",
       "stream": "stdout",
       "text": [
        "95 "
       ]
      },
      {
       "output_type": "stream",
       "stream": "stdout",
       "text": [
        "96 "
       ]
      },
      {
       "output_type": "stream",
       "stream": "stdout",
       "text": [
        "97 "
       ]
      },
      {
       "output_type": "stream",
       "stream": "stdout",
       "text": [
        "98 "
       ]
      },
      {
       "output_type": "stream",
       "stream": "stdout",
       "text": [
        "99 "
       ]
      },
      {
       "output_type": "stream",
       "stream": "stdout",
       "text": [
        "100 "
       ]
      },
      {
       "output_type": "stream",
       "stream": "stdout",
       "text": [
        "101 "
       ]
      },
      {
       "output_type": "stream",
       "stream": "stdout",
       "text": [
        "102 "
       ]
      },
      {
       "output_type": "stream",
       "stream": "stdout",
       "text": [
        "103 "
       ]
      },
      {
       "output_type": "stream",
       "stream": "stdout",
       "text": [
        "104 "
       ]
      },
      {
       "output_type": "stream",
       "stream": "stdout",
       "text": [
        "105 "
       ]
      },
      {
       "output_type": "stream",
       "stream": "stdout",
       "text": [
        "106 "
       ]
      },
      {
       "output_type": "stream",
       "stream": "stdout",
       "text": [
        "107 "
       ]
      },
      {
       "output_type": "stream",
       "stream": "stdout",
       "text": [
        "108 "
       ]
      },
      {
       "output_type": "stream",
       "stream": "stdout",
       "text": [
        "109 "
       ]
      },
      {
       "output_type": "stream",
       "stream": "stdout",
       "text": [
        "110 "
       ]
      },
      {
       "output_type": "stream",
       "stream": "stdout",
       "text": [
        "111 "
       ]
      },
      {
       "output_type": "stream",
       "stream": "stdout",
       "text": [
        "112 "
       ]
      },
      {
       "output_type": "stream",
       "stream": "stdout",
       "text": [
        "113 "
       ]
      },
      {
       "output_type": "stream",
       "stream": "stdout",
       "text": [
        "114 "
       ]
      },
      {
       "output_type": "stream",
       "stream": "stdout",
       "text": [
        "115 "
       ]
      },
      {
       "output_type": "stream",
       "stream": "stdout",
       "text": [
        "116 "
       ]
      },
      {
       "output_type": "stream",
       "stream": "stdout",
       "text": [
        "117 "
       ]
      },
      {
       "output_type": "stream",
       "stream": "stdout",
       "text": [
        "118 "
       ]
      },
      {
       "output_type": "stream",
       "stream": "stdout",
       "text": [
        "119 "
       ]
      },
      {
       "output_type": "stream",
       "stream": "stdout",
       "text": [
        "120 "
       ]
      },
      {
       "output_type": "stream",
       "stream": "stdout",
       "text": [
        "121 "
       ]
      },
      {
       "output_type": "stream",
       "stream": "stdout",
       "text": [
        "122 "
       ]
      },
      {
       "output_type": "stream",
       "stream": "stdout",
       "text": [
        "123 "
       ]
      },
      {
       "output_type": "stream",
       "stream": "stdout",
       "text": [
        "124 "
       ]
      },
      {
       "output_type": "stream",
       "stream": "stdout",
       "text": [
        "125 "
       ]
      },
      {
       "output_type": "stream",
       "stream": "stdout",
       "text": [
        "126 "
       ]
      },
      {
       "output_type": "stream",
       "stream": "stdout",
       "text": [
        "127 "
       ]
      },
      {
       "output_type": "stream",
       "stream": "stdout",
       "text": [
        "128 "
       ]
      },
      {
       "output_type": "stream",
       "stream": "stdout",
       "text": [
        "129 "
       ]
      },
      {
       "output_type": "stream",
       "stream": "stdout",
       "text": [
        "130 "
       ]
      },
      {
       "output_type": "stream",
       "stream": "stdout",
       "text": [
        "131 "
       ]
      },
      {
       "output_type": "stream",
       "stream": "stdout",
       "text": [
        "132 "
       ]
      },
      {
       "output_type": "stream",
       "stream": "stdout",
       "text": [
        "133 "
       ]
      },
      {
       "output_type": "stream",
       "stream": "stdout",
       "text": [
        "134 "
       ]
      },
      {
       "output_type": "stream",
       "stream": "stdout",
       "text": [
        "135 "
       ]
      },
      {
       "output_type": "stream",
       "stream": "stdout",
       "text": [
        "136 "
       ]
      },
      {
       "output_type": "stream",
       "stream": "stdout",
       "text": [
        "137 "
       ]
      },
      {
       "output_type": "stream",
       "stream": "stdout",
       "text": [
        "138 "
       ]
      },
      {
       "output_type": "stream",
       "stream": "stdout",
       "text": [
        "139 "
       ]
      },
      {
       "output_type": "stream",
       "stream": "stdout",
       "text": [
        "140 "
       ]
      },
      {
       "output_type": "stream",
       "stream": "stdout",
       "text": [
        "141 "
       ]
      },
      {
       "output_type": "stream",
       "stream": "stdout",
       "text": [
        "142 "
       ]
      },
      {
       "output_type": "stream",
       "stream": "stdout",
       "text": [
        "143 "
       ]
      },
      {
       "output_type": "stream",
       "stream": "stdout",
       "text": [
        "144 "
       ]
      },
      {
       "output_type": "stream",
       "stream": "stdout",
       "text": [
        "145 "
       ]
      },
      {
       "output_type": "stream",
       "stream": "stdout",
       "text": [
        "146 "
       ]
      },
      {
       "output_type": "stream",
       "stream": "stdout",
       "text": [
        "147 "
       ]
      },
      {
       "output_type": "stream",
       "stream": "stdout",
       "text": [
        "148 "
       ]
      },
      {
       "output_type": "stream",
       "stream": "stdout",
       "text": [
        "149 "
       ]
      },
      {
       "output_type": "stream",
       "stream": "stdout",
       "text": [
        "150 "
       ]
      },
      {
       "output_type": "stream",
       "stream": "stdout",
       "text": [
        "151 "
       ]
      },
      {
       "output_type": "stream",
       "stream": "stdout",
       "text": [
        "152 "
       ]
      },
      {
       "output_type": "stream",
       "stream": "stdout",
       "text": [
        "153 "
       ]
      },
      {
       "output_type": "stream",
       "stream": "stdout",
       "text": [
        "154 "
       ]
      },
      {
       "output_type": "stream",
       "stream": "stdout",
       "text": [
        "155 "
       ]
      },
      {
       "output_type": "stream",
       "stream": "stdout",
       "text": [
        "156 "
       ]
      },
      {
       "output_type": "stream",
       "stream": "stdout",
       "text": [
        "157 "
       ]
      },
      {
       "output_type": "stream",
       "stream": "stdout",
       "text": [
        "158 "
       ]
      },
      {
       "output_type": "stream",
       "stream": "stdout",
       "text": [
        "159 "
       ]
      },
      {
       "output_type": "stream",
       "stream": "stdout",
       "text": [
        "160 "
       ]
      },
      {
       "output_type": "stream",
       "stream": "stdout",
       "text": [
        "161 "
       ]
      },
      {
       "output_type": "stream",
       "stream": "stdout",
       "text": [
        "162 "
       ]
      },
      {
       "output_type": "stream",
       "stream": "stdout",
       "text": [
        "163 "
       ]
      },
      {
       "output_type": "stream",
       "stream": "stdout",
       "text": [
        "164 "
       ]
      },
      {
       "output_type": "stream",
       "stream": "stdout",
       "text": [
        "165 "
       ]
      },
      {
       "output_type": "stream",
       "stream": "stdout",
       "text": [
        "166 "
       ]
      },
      {
       "output_type": "stream",
       "stream": "stdout",
       "text": [
        "167 "
       ]
      },
      {
       "output_type": "stream",
       "stream": "stdout",
       "text": [
        "168 "
       ]
      },
      {
       "output_type": "stream",
       "stream": "stdout",
       "text": [
        "169 "
       ]
      },
      {
       "output_type": "stream",
       "stream": "stdout",
       "text": [
        "170 "
       ]
      },
      {
       "output_type": "stream",
       "stream": "stdout",
       "text": [
        "171 "
       ]
      },
      {
       "output_type": "stream",
       "stream": "stdout",
       "text": [
        "172 "
       ]
      },
      {
       "output_type": "stream",
       "stream": "stdout",
       "text": [
        "173 "
       ]
      },
      {
       "output_type": "stream",
       "stream": "stdout",
       "text": [
        "174 "
       ]
      },
      {
       "output_type": "stream",
       "stream": "stdout",
       "text": [
        "175 "
       ]
      },
      {
       "output_type": "stream",
       "stream": "stdout",
       "text": [
        "176 "
       ]
      },
      {
       "output_type": "stream",
       "stream": "stdout",
       "text": [
        "177 "
       ]
      },
      {
       "output_type": "stream",
       "stream": "stdout",
       "text": [
        "178 "
       ]
      },
      {
       "output_type": "stream",
       "stream": "stdout",
       "text": [
        "179 "
       ]
      },
      {
       "output_type": "stream",
       "stream": "stdout",
       "text": [
        "180 "
       ]
      },
      {
       "output_type": "stream",
       "stream": "stdout",
       "text": [
        "181 "
       ]
      },
      {
       "output_type": "stream",
       "stream": "stdout",
       "text": [
        "182 "
       ]
      },
      {
       "output_type": "stream",
       "stream": "stdout",
       "text": [
        "183 "
       ]
      },
      {
       "output_type": "stream",
       "stream": "stdout",
       "text": [
        "184 "
       ]
      },
      {
       "output_type": "stream",
       "stream": "stdout",
       "text": [
        "185 "
       ]
      },
      {
       "output_type": "stream",
       "stream": "stdout",
       "text": [
        "186 "
       ]
      },
      {
       "output_type": "stream",
       "stream": "stdout",
       "text": [
        "187 "
       ]
      },
      {
       "output_type": "stream",
       "stream": "stdout",
       "text": [
        "188 "
       ]
      },
      {
       "output_type": "stream",
       "stream": "stdout",
       "text": [
        "189 "
       ]
      },
      {
       "output_type": "stream",
       "stream": "stdout",
       "text": [
        "190 "
       ]
      },
      {
       "output_type": "stream",
       "stream": "stdout",
       "text": [
        "191 "
       ]
      },
      {
       "output_type": "stream",
       "stream": "stdout",
       "text": [
        "192 "
       ]
      },
      {
       "output_type": "stream",
       "stream": "stdout",
       "text": [
        "193 "
       ]
      },
      {
       "output_type": "stream",
       "stream": "stdout",
       "text": [
        "194 "
       ]
      },
      {
       "output_type": "stream",
       "stream": "stdout",
       "text": [
        "195 "
       ]
      },
      {
       "output_type": "stream",
       "stream": "stdout",
       "text": [
        "196 "
       ]
      },
      {
       "output_type": "stream",
       "stream": "stdout",
       "text": [
        "197 "
       ]
      },
      {
       "output_type": "stream",
       "stream": "stdout",
       "text": [
        "198 "
       ]
      },
      {
       "output_type": "stream",
       "stream": "stdout",
       "text": [
        "199 "
       ]
      },
      {
       "output_type": "stream",
       "stream": "stdout",
       "text": [
        "200 "
       ]
      },
      {
       "output_type": "stream",
       "stream": "stdout",
       "text": [
        "201 "
       ]
      },
      {
       "output_type": "stream",
       "stream": "stdout",
       "text": [
        "202 "
       ]
      },
      {
       "output_type": "stream",
       "stream": "stdout",
       "text": [
        "203 "
       ]
      },
      {
       "output_type": "stream",
       "stream": "stdout",
       "text": [
        "204 "
       ]
      },
      {
       "output_type": "stream",
       "stream": "stdout",
       "text": [
        "205 "
       ]
      },
      {
       "output_type": "stream",
       "stream": "stdout",
       "text": [
        "206 "
       ]
      },
      {
       "output_type": "stream",
       "stream": "stdout",
       "text": [
        "207 "
       ]
      },
      {
       "output_type": "stream",
       "stream": "stdout",
       "text": [
        "208 "
       ]
      },
      {
       "output_type": "stream",
       "stream": "stdout",
       "text": [
        "209 "
       ]
      },
      {
       "output_type": "stream",
       "stream": "stdout",
       "text": [
        "210 "
       ]
      },
      {
       "output_type": "stream",
       "stream": "stdout",
       "text": [
        "211 "
       ]
      },
      {
       "output_type": "stream",
       "stream": "stdout",
       "text": [
        "212 "
       ]
      },
      {
       "output_type": "stream",
       "stream": "stdout",
       "text": [
        "213 "
       ]
      },
      {
       "output_type": "stream",
       "stream": "stdout",
       "text": [
        "214 "
       ]
      },
      {
       "output_type": "stream",
       "stream": "stdout",
       "text": [
        "215 "
       ]
      },
      {
       "output_type": "stream",
       "stream": "stdout",
       "text": [
        "216 "
       ]
      },
      {
       "output_type": "stream",
       "stream": "stdout",
       "text": [
        "217 "
       ]
      },
      {
       "output_type": "stream",
       "stream": "stdout",
       "text": [
        "218 "
       ]
      },
      {
       "output_type": "stream",
       "stream": "stdout",
       "text": [
        "219 "
       ]
      },
      {
       "output_type": "stream",
       "stream": "stdout",
       "text": [
        "220 "
       ]
      },
      {
       "output_type": "stream",
       "stream": "stdout",
       "text": [
        "221 "
       ]
      },
      {
       "output_type": "stream",
       "stream": "stdout",
       "text": [
        "222 "
       ]
      },
      {
       "output_type": "stream",
       "stream": "stdout",
       "text": [
        "223 "
       ]
      },
      {
       "output_type": "stream",
       "stream": "stdout",
       "text": [
        "224 "
       ]
      },
      {
       "output_type": "stream",
       "stream": "stdout",
       "text": [
        "225 "
       ]
      },
      {
       "output_type": "stream",
       "stream": "stdout",
       "text": [
        "226 "
       ]
      },
      {
       "output_type": "stream",
       "stream": "stdout",
       "text": [
        "227 "
       ]
      },
      {
       "output_type": "stream",
       "stream": "stdout",
       "text": [
        "228 "
       ]
      },
      {
       "output_type": "stream",
       "stream": "stdout",
       "text": [
        "229 "
       ]
      },
      {
       "output_type": "stream",
       "stream": "stdout",
       "text": [
        "230 "
       ]
      },
      {
       "output_type": "stream",
       "stream": "stdout",
       "text": [
        "231 "
       ]
      },
      {
       "output_type": "stream",
       "stream": "stdout",
       "text": [
        "232 "
       ]
      },
      {
       "output_type": "stream",
       "stream": "stdout",
       "text": [
        "233 "
       ]
      },
      {
       "output_type": "stream",
       "stream": "stdout",
       "text": [
        "234 "
       ]
      },
      {
       "output_type": "stream",
       "stream": "stdout",
       "text": [
        "235 "
       ]
      },
      {
       "output_type": "stream",
       "stream": "stdout",
       "text": [
        "236 "
       ]
      },
      {
       "output_type": "stream",
       "stream": "stdout",
       "text": [
        "237 "
       ]
      },
      {
       "output_type": "stream",
       "stream": "stdout",
       "text": [
        "238 "
       ]
      },
      {
       "output_type": "stream",
       "stream": "stdout",
       "text": [
        "239 "
       ]
      },
      {
       "output_type": "stream",
       "stream": "stdout",
       "text": [
        "240 "
       ]
      },
      {
       "output_type": "stream",
       "stream": "stdout",
       "text": [
        "241 "
       ]
      },
      {
       "output_type": "stream",
       "stream": "stdout",
       "text": [
        "242 "
       ]
      },
      {
       "output_type": "stream",
       "stream": "stdout",
       "text": [
        "243 "
       ]
      },
      {
       "output_type": "stream",
       "stream": "stdout",
       "text": [
        "244 "
       ]
      },
      {
       "output_type": "stream",
       "stream": "stdout",
       "text": [
        "245 "
       ]
      },
      {
       "output_type": "stream",
       "stream": "stdout",
       "text": [
        "246 "
       ]
      },
      {
       "output_type": "stream",
       "stream": "stdout",
       "text": [
        "247 "
       ]
      },
      {
       "output_type": "stream",
       "stream": "stdout",
       "text": [
        "248 "
       ]
      },
      {
       "output_type": "stream",
       "stream": "stdout",
       "text": [
        "249 "
       ]
      },
      {
       "output_type": "stream",
       "stream": "stdout",
       "text": [
        "250 "
       ]
      },
      {
       "output_type": "stream",
       "stream": "stdout",
       "text": [
        "251 "
       ]
      },
      {
       "output_type": "stream",
       "stream": "stdout",
       "text": [
        "252 "
       ]
      },
      {
       "output_type": "stream",
       "stream": "stdout",
       "text": [
        "253 "
       ]
      },
      {
       "output_type": "stream",
       "stream": "stdout",
       "text": [
        "254 "
       ]
      },
      {
       "output_type": "stream",
       "stream": "stdout",
       "text": [
        "255 "
       ]
      },
      {
       "output_type": "stream",
       "stream": "stdout",
       "text": [
        "256 "
       ]
      },
      {
       "output_type": "stream",
       "stream": "stdout",
       "text": [
        "257 "
       ]
      },
      {
       "output_type": "stream",
       "stream": "stdout",
       "text": [
        "258 "
       ]
      },
      {
       "output_type": "stream",
       "stream": "stdout",
       "text": [
        "259 "
       ]
      },
      {
       "output_type": "stream",
       "stream": "stdout",
       "text": [
        "260 "
       ]
      },
      {
       "output_type": "stream",
       "stream": "stdout",
       "text": [
        "261 "
       ]
      },
      {
       "output_type": "stream",
       "stream": "stdout",
       "text": [
        "262 "
       ]
      },
      {
       "output_type": "stream",
       "stream": "stdout",
       "text": [
        "263 "
       ]
      },
      {
       "output_type": "stream",
       "stream": "stdout",
       "text": [
        "264 "
       ]
      },
      {
       "output_type": "stream",
       "stream": "stdout",
       "text": [
        "265 "
       ]
      },
      {
       "output_type": "stream",
       "stream": "stdout",
       "text": [
        "266 "
       ]
      },
      {
       "output_type": "stream",
       "stream": "stdout",
       "text": [
        "267 "
       ]
      },
      {
       "output_type": "stream",
       "stream": "stdout",
       "text": [
        "268 "
       ]
      },
      {
       "output_type": "stream",
       "stream": "stdout",
       "text": [
        "269 "
       ]
      },
      {
       "output_type": "stream",
       "stream": "stdout",
       "text": [
        "270 "
       ]
      },
      {
       "output_type": "stream",
       "stream": "stdout",
       "text": [
        "271 "
       ]
      },
      {
       "output_type": "stream",
       "stream": "stdout",
       "text": [
        "272 "
       ]
      },
      {
       "output_type": "stream",
       "stream": "stdout",
       "text": [
        "273 "
       ]
      },
      {
       "output_type": "stream",
       "stream": "stdout",
       "text": [
        "274 "
       ]
      },
      {
       "output_type": "stream",
       "stream": "stdout",
       "text": [
        "275 "
       ]
      },
      {
       "output_type": "stream",
       "stream": "stdout",
       "text": [
        "276 "
       ]
      },
      {
       "output_type": "stream",
       "stream": "stdout",
       "text": [
        "277 "
       ]
      },
      {
       "output_type": "stream",
       "stream": "stdout",
       "text": [
        "278 "
       ]
      },
      {
       "output_type": "stream",
       "stream": "stdout",
       "text": [
        "279 "
       ]
      },
      {
       "output_type": "stream",
       "stream": "stdout",
       "text": [
        "280 "
       ]
      },
      {
       "output_type": "stream",
       "stream": "stdout",
       "text": [
        "281 "
       ]
      },
      {
       "output_type": "stream",
       "stream": "stdout",
       "text": [
        "282 "
       ]
      },
      {
       "output_type": "stream",
       "stream": "stdout",
       "text": [
        "283 "
       ]
      },
      {
       "output_type": "stream",
       "stream": "stdout",
       "text": [
        "284 "
       ]
      },
      {
       "output_type": "stream",
       "stream": "stdout",
       "text": [
        "285 "
       ]
      },
      {
       "output_type": "stream",
       "stream": "stdout",
       "text": [
        "286 "
       ]
      },
      {
       "output_type": "stream",
       "stream": "stdout",
       "text": [
        "287 "
       ]
      },
      {
       "output_type": "stream",
       "stream": "stdout",
       "text": [
        "288 "
       ]
      },
      {
       "output_type": "stream",
       "stream": "stdout",
       "text": [
        "289 "
       ]
      },
      {
       "output_type": "stream",
       "stream": "stdout",
       "text": [
        "290 "
       ]
      },
      {
       "output_type": "stream",
       "stream": "stdout",
       "text": [
        "291 "
       ]
      },
      {
       "output_type": "stream",
       "stream": "stdout",
       "text": [
        "292 "
       ]
      },
      {
       "output_type": "stream",
       "stream": "stdout",
       "text": [
        "293 "
       ]
      },
      {
       "output_type": "stream",
       "stream": "stdout",
       "text": [
        "294 "
       ]
      },
      {
       "output_type": "stream",
       "stream": "stdout",
       "text": [
        "295 "
       ]
      },
      {
       "output_type": "stream",
       "stream": "stdout",
       "text": [
        "296 "
       ]
      },
      {
       "output_type": "stream",
       "stream": "stdout",
       "text": [
        "297 "
       ]
      },
      {
       "output_type": "stream",
       "stream": "stdout",
       "text": [
        "298 "
       ]
      },
      {
       "output_type": "stream",
       "stream": "stdout",
       "text": [
        "299 "
       ]
      },
      {
       "output_type": "stream",
       "stream": "stdout",
       "text": [
        "300 "
       ]
      },
      {
       "output_type": "stream",
       "stream": "stdout",
       "text": [
        "301 "
       ]
      },
      {
       "output_type": "stream",
       "stream": "stdout",
       "text": [
        "302 "
       ]
      },
      {
       "output_type": "stream",
       "stream": "stdout",
       "text": [
        "303 "
       ]
      },
      {
       "output_type": "stream",
       "stream": "stdout",
       "text": [
        "304 "
       ]
      },
      {
       "output_type": "stream",
       "stream": "stdout",
       "text": [
        "305 "
       ]
      },
      {
       "output_type": "stream",
       "stream": "stdout",
       "text": [
        "306 "
       ]
      },
      {
       "output_type": "stream",
       "stream": "stdout",
       "text": [
        "307 "
       ]
      },
      {
       "output_type": "stream",
       "stream": "stdout",
       "text": [
        "308 "
       ]
      },
      {
       "output_type": "stream",
       "stream": "stdout",
       "text": [
        "309 "
       ]
      },
      {
       "output_type": "stream",
       "stream": "stdout",
       "text": [
        "310 "
       ]
      },
      {
       "output_type": "stream",
       "stream": "stdout",
       "text": [
        "311 "
       ]
      },
      {
       "output_type": "stream",
       "stream": "stdout",
       "text": [
        "312 "
       ]
      },
      {
       "output_type": "stream",
       "stream": "stdout",
       "text": [
        "313 "
       ]
      },
      {
       "output_type": "stream",
       "stream": "stdout",
       "text": [
        "314 "
       ]
      },
      {
       "output_type": "stream",
       "stream": "stdout",
       "text": [
        "315 "
       ]
      },
      {
       "output_type": "stream",
       "stream": "stdout",
       "text": [
        "316 "
       ]
      },
      {
       "output_type": "stream",
       "stream": "stdout",
       "text": [
        "317 "
       ]
      },
      {
       "output_type": "stream",
       "stream": "stdout",
       "text": [
        "318 "
       ]
      },
      {
       "output_type": "stream",
       "stream": "stdout",
       "text": [
        "319 "
       ]
      },
      {
       "output_type": "stream",
       "stream": "stdout",
       "text": [
        "320 "
       ]
      },
      {
       "output_type": "stream",
       "stream": "stdout",
       "text": [
        "321 "
       ]
      },
      {
       "output_type": "stream",
       "stream": "stdout",
       "text": [
        "322 "
       ]
      },
      {
       "output_type": "stream",
       "stream": "stdout",
       "text": [
        "323 "
       ]
      },
      {
       "output_type": "stream",
       "stream": "stdout",
       "text": [
        "324 "
       ]
      },
      {
       "output_type": "stream",
       "stream": "stdout",
       "text": [
        "325 "
       ]
      },
      {
       "output_type": "stream",
       "stream": "stdout",
       "text": [
        "326 "
       ]
      },
      {
       "output_type": "stream",
       "stream": "stdout",
       "text": [
        "327 "
       ]
      },
      {
       "output_type": "stream",
       "stream": "stdout",
       "text": [
        "328 "
       ]
      },
      {
       "output_type": "stream",
       "stream": "stdout",
       "text": [
        "329 "
       ]
      },
      {
       "output_type": "stream",
       "stream": "stdout",
       "text": [
        "330 "
       ]
      },
      {
       "output_type": "stream",
       "stream": "stdout",
       "text": [
        "331 "
       ]
      },
      {
       "output_type": "stream",
       "stream": "stdout",
       "text": [
        "332 "
       ]
      },
      {
       "output_type": "stream",
       "stream": "stdout",
       "text": [
        "333 "
       ]
      },
      {
       "output_type": "stream",
       "stream": "stdout",
       "text": [
        "334 "
       ]
      },
      {
       "output_type": "stream",
       "stream": "stdout",
       "text": [
        "335 "
       ]
      },
      {
       "output_type": "stream",
       "stream": "stdout",
       "text": [
        "336 "
       ]
      },
      {
       "output_type": "stream",
       "stream": "stdout",
       "text": [
        "337 "
       ]
      },
      {
       "output_type": "stream",
       "stream": "stdout",
       "text": [
        "338 "
       ]
      },
      {
       "output_type": "stream",
       "stream": "stdout",
       "text": [
        "339 "
       ]
      },
      {
       "output_type": "stream",
       "stream": "stdout",
       "text": [
        "340 "
       ]
      },
      {
       "output_type": "stream",
       "stream": "stdout",
       "text": [
        "341 "
       ]
      },
      {
       "output_type": "stream",
       "stream": "stdout",
       "text": [
        "342 "
       ]
      },
      {
       "output_type": "stream",
       "stream": "stdout",
       "text": [
        "343 "
       ]
      },
      {
       "output_type": "stream",
       "stream": "stdout",
       "text": [
        "344 "
       ]
      },
      {
       "output_type": "stream",
       "stream": "stdout",
       "text": [
        "345 "
       ]
      },
      {
       "output_type": "stream",
       "stream": "stdout",
       "text": [
        "346 "
       ]
      },
      {
       "output_type": "stream",
       "stream": "stdout",
       "text": [
        "347 "
       ]
      },
      {
       "output_type": "stream",
       "stream": "stdout",
       "text": [
        "348 "
       ]
      },
      {
       "output_type": "stream",
       "stream": "stdout",
       "text": [
        "349 "
       ]
      },
      {
       "output_type": "stream",
       "stream": "stdout",
       "text": [
        "350 "
       ]
      },
      {
       "output_type": "stream",
       "stream": "stdout",
       "text": [
        "351 "
       ]
      },
      {
       "output_type": "stream",
       "stream": "stdout",
       "text": [
        "352 "
       ]
      },
      {
       "output_type": "stream",
       "stream": "stdout",
       "text": [
        "353 "
       ]
      },
      {
       "output_type": "stream",
       "stream": "stdout",
       "text": [
        "354 "
       ]
      },
      {
       "output_type": "stream",
       "stream": "stdout",
       "text": [
        "355 "
       ]
      },
      {
       "output_type": "stream",
       "stream": "stdout",
       "text": [
        "356 "
       ]
      },
      {
       "output_type": "stream",
       "stream": "stdout",
       "text": [
        "357 "
       ]
      },
      {
       "output_type": "stream",
       "stream": "stdout",
       "text": [
        "358 "
       ]
      },
      {
       "output_type": "stream",
       "stream": "stdout",
       "text": [
        "359 "
       ]
      },
      {
       "output_type": "stream",
       "stream": "stdout",
       "text": [
        "360 "
       ]
      },
      {
       "output_type": "stream",
       "stream": "stdout",
       "text": [
        "361 "
       ]
      },
      {
       "output_type": "stream",
       "stream": "stdout",
       "text": [
        "362 "
       ]
      },
      {
       "output_type": "stream",
       "stream": "stdout",
       "text": [
        "363 "
       ]
      },
      {
       "output_type": "stream",
       "stream": "stdout",
       "text": [
        "364 "
       ]
      },
      {
       "output_type": "stream",
       "stream": "stdout",
       "text": [
        "365 "
       ]
      },
      {
       "output_type": "stream",
       "stream": "stdout",
       "text": [
        "366 "
       ]
      },
      {
       "output_type": "stream",
       "stream": "stdout",
       "text": [
        "367 "
       ]
      },
      {
       "output_type": "stream",
       "stream": "stdout",
       "text": [
        "368 "
       ]
      },
      {
       "output_type": "stream",
       "stream": "stdout",
       "text": [
        "369 "
       ]
      },
      {
       "output_type": "stream",
       "stream": "stdout",
       "text": [
        "370 "
       ]
      },
      {
       "output_type": "stream",
       "stream": "stdout",
       "text": [
        "371 "
       ]
      },
      {
       "output_type": "stream",
       "stream": "stdout",
       "text": [
        "372 "
       ]
      },
      {
       "output_type": "stream",
       "stream": "stdout",
       "text": [
        "373 "
       ]
      },
      {
       "output_type": "stream",
       "stream": "stdout",
       "text": [
        "374 "
       ]
      },
      {
       "output_type": "stream",
       "stream": "stdout",
       "text": [
        "375 "
       ]
      },
      {
       "output_type": "stream",
       "stream": "stdout",
       "text": [
        "376 "
       ]
      },
      {
       "output_type": "stream",
       "stream": "stdout",
       "text": [
        "377 "
       ]
      },
      {
       "output_type": "stream",
       "stream": "stdout",
       "text": [
        "378 "
       ]
      },
      {
       "output_type": "stream",
       "stream": "stdout",
       "text": [
        "379 "
       ]
      },
      {
       "output_type": "stream",
       "stream": "stdout",
       "text": [
        "380 "
       ]
      },
      {
       "output_type": "stream",
       "stream": "stdout",
       "text": [
        "381 "
       ]
      },
      {
       "output_type": "stream",
       "stream": "stdout",
       "text": [
        "382 "
       ]
      },
      {
       "output_type": "stream",
       "stream": "stdout",
       "text": [
        "383 "
       ]
      },
      {
       "output_type": "stream",
       "stream": "stdout",
       "text": [
        "384 "
       ]
      },
      {
       "output_type": "stream",
       "stream": "stdout",
       "text": [
        "385 "
       ]
      },
      {
       "output_type": "stream",
       "stream": "stdout",
       "text": [
        "386 "
       ]
      },
      {
       "output_type": "stream",
       "stream": "stdout",
       "text": [
        "387 "
       ]
      },
      {
       "output_type": "stream",
       "stream": "stdout",
       "text": [
        "388 "
       ]
      },
      {
       "output_type": "stream",
       "stream": "stdout",
       "text": [
        "389 "
       ]
      },
      {
       "output_type": "stream",
       "stream": "stdout",
       "text": [
        "390 "
       ]
      },
      {
       "output_type": "stream",
       "stream": "stdout",
       "text": [
        "391 "
       ]
      },
      {
       "output_type": "stream",
       "stream": "stdout",
       "text": [
        "392 "
       ]
      },
      {
       "output_type": "stream",
       "stream": "stdout",
       "text": [
        "393 "
       ]
      },
      {
       "output_type": "stream",
       "stream": "stdout",
       "text": [
        "394 "
       ]
      },
      {
       "output_type": "stream",
       "stream": "stdout",
       "text": [
        "395 "
       ]
      },
      {
       "output_type": "stream",
       "stream": "stdout",
       "text": [
        "396 "
       ]
      },
      {
       "output_type": "stream",
       "stream": "stdout",
       "text": [
        "397 "
       ]
      },
      {
       "output_type": "stream",
       "stream": "stdout",
       "text": [
        "398 "
       ]
      },
      {
       "output_type": "stream",
       "stream": "stdout",
       "text": [
        "399 "
       ]
      },
      {
       "output_type": "stream",
       "stream": "stdout",
       "text": [
        "400 "
       ]
      },
      {
       "output_type": "stream",
       "stream": "stdout",
       "text": [
        "401 "
       ]
      },
      {
       "output_type": "stream",
       "stream": "stdout",
       "text": [
        "402 "
       ]
      },
      {
       "output_type": "stream",
       "stream": "stdout",
       "text": [
        "403 "
       ]
      },
      {
       "output_type": "stream",
       "stream": "stdout",
       "text": [
        "404 "
       ]
      },
      {
       "output_type": "stream",
       "stream": "stdout",
       "text": [
        "405 "
       ]
      },
      {
       "output_type": "stream",
       "stream": "stdout",
       "text": [
        "406 "
       ]
      },
      {
       "output_type": "stream",
       "stream": "stdout",
       "text": [
        "407 "
       ]
      },
      {
       "output_type": "stream",
       "stream": "stdout",
       "text": [
        "408 "
       ]
      },
      {
       "output_type": "stream",
       "stream": "stdout",
       "text": [
        "409 "
       ]
      },
      {
       "output_type": "stream",
       "stream": "stdout",
       "text": [
        "410 "
       ]
      },
      {
       "output_type": "stream",
       "stream": "stdout",
       "text": [
        "411 "
       ]
      },
      {
       "output_type": "stream",
       "stream": "stdout",
       "text": [
        "412 "
       ]
      },
      {
       "output_type": "stream",
       "stream": "stdout",
       "text": [
        "413 "
       ]
      },
      {
       "output_type": "stream",
       "stream": "stdout",
       "text": [
        "414 "
       ]
      },
      {
       "output_type": "stream",
       "stream": "stdout",
       "text": [
        "415 "
       ]
      },
      {
       "output_type": "stream",
       "stream": "stdout",
       "text": [
        "416 "
       ]
      },
      {
       "output_type": "stream",
       "stream": "stdout",
       "text": [
        "417 "
       ]
      },
      {
       "output_type": "stream",
       "stream": "stdout",
       "text": [
        "418 "
       ]
      },
      {
       "output_type": "stream",
       "stream": "stdout",
       "text": [
        "419 "
       ]
      },
      {
       "output_type": "stream",
       "stream": "stdout",
       "text": [
        "420 "
       ]
      },
      {
       "output_type": "stream",
       "stream": "stdout",
       "text": [
        "421 "
       ]
      },
      {
       "output_type": "stream",
       "stream": "stdout",
       "text": [
        "422 "
       ]
      },
      {
       "output_type": "stream",
       "stream": "stdout",
       "text": [
        "423 "
       ]
      },
      {
       "output_type": "stream",
       "stream": "stdout",
       "text": [
        "424 "
       ]
      },
      {
       "output_type": "stream",
       "stream": "stdout",
       "text": [
        "425 "
       ]
      },
      {
       "output_type": "stream",
       "stream": "stdout",
       "text": [
        "426 "
       ]
      },
      {
       "output_type": "stream",
       "stream": "stdout",
       "text": [
        "427 "
       ]
      },
      {
       "output_type": "stream",
       "stream": "stdout",
       "text": [
        "428 "
       ]
      },
      {
       "output_type": "stream",
       "stream": "stdout",
       "text": [
        "429 "
       ]
      },
      {
       "output_type": "stream",
       "stream": "stdout",
       "text": [
        "430 "
       ]
      },
      {
       "output_type": "stream",
       "stream": "stdout",
       "text": [
        "431 "
       ]
      },
      {
       "output_type": "stream",
       "stream": "stdout",
       "text": [
        "432 "
       ]
      },
      {
       "output_type": "stream",
       "stream": "stdout",
       "text": [
        "433 "
       ]
      },
      {
       "output_type": "stream",
       "stream": "stdout",
       "text": [
        "434 "
       ]
      },
      {
       "output_type": "stream",
       "stream": "stdout",
       "text": [
        "435 "
       ]
      },
      {
       "output_type": "stream",
       "stream": "stdout",
       "text": [
        "436 "
       ]
      },
      {
       "output_type": "stream",
       "stream": "stdout",
       "text": [
        "437 "
       ]
      },
      {
       "output_type": "stream",
       "stream": "stdout",
       "text": [
        "438 "
       ]
      },
      {
       "output_type": "stream",
       "stream": "stdout",
       "text": [
        "439 "
       ]
      },
      {
       "output_type": "stream",
       "stream": "stdout",
       "text": [
        "440 "
       ]
      },
      {
       "output_type": "stream",
       "stream": "stdout",
       "text": [
        "441 "
       ]
      },
      {
       "output_type": "stream",
       "stream": "stdout",
       "text": [
        "442 "
       ]
      },
      {
       "output_type": "stream",
       "stream": "stdout",
       "text": [
        "443 "
       ]
      },
      {
       "output_type": "stream",
       "stream": "stdout",
       "text": [
        "444 "
       ]
      },
      {
       "output_type": "stream",
       "stream": "stdout",
       "text": [
        "445 "
       ]
      },
      {
       "output_type": "stream",
       "stream": "stdout",
       "text": [
        "446 "
       ]
      },
      {
       "output_type": "stream",
       "stream": "stdout",
       "text": [
        "447 "
       ]
      },
      {
       "output_type": "stream",
       "stream": "stdout",
       "text": [
        "448 "
       ]
      },
      {
       "output_type": "stream",
       "stream": "stdout",
       "text": [
        "449 "
       ]
      },
      {
       "output_type": "stream",
       "stream": "stdout",
       "text": [
        "450 "
       ]
      },
      {
       "output_type": "stream",
       "stream": "stdout",
       "text": [
        "451 "
       ]
      },
      {
       "output_type": "stream",
       "stream": "stdout",
       "text": [
        "452 "
       ]
      },
      {
       "output_type": "stream",
       "stream": "stdout",
       "text": [
        "453 "
       ]
      },
      {
       "output_type": "stream",
       "stream": "stdout",
       "text": [
        "454 "
       ]
      },
      {
       "output_type": "stream",
       "stream": "stdout",
       "text": [
        "455 "
       ]
      },
      {
       "output_type": "stream",
       "stream": "stdout",
       "text": [
        "456 "
       ]
      },
      {
       "output_type": "stream",
       "stream": "stdout",
       "text": [
        "457 "
       ]
      },
      {
       "output_type": "stream",
       "stream": "stdout",
       "text": [
        "458 "
       ]
      },
      {
       "output_type": "stream",
       "stream": "stdout",
       "text": [
        "459 "
       ]
      },
      {
       "output_type": "stream",
       "stream": "stdout",
       "text": [
        "460 "
       ]
      },
      {
       "output_type": "stream",
       "stream": "stdout",
       "text": [
        "461 "
       ]
      },
      {
       "output_type": "stream",
       "stream": "stdout",
       "text": [
        "462 "
       ]
      },
      {
       "output_type": "stream",
       "stream": "stdout",
       "text": [
        "463 "
       ]
      },
      {
       "output_type": "stream",
       "stream": "stdout",
       "text": [
        "464 "
       ]
      },
      {
       "output_type": "stream",
       "stream": "stdout",
       "text": [
        "465 "
       ]
      },
      {
       "output_type": "stream",
       "stream": "stdout",
       "text": [
        "466 "
       ]
      },
      {
       "output_type": "stream",
       "stream": "stdout",
       "text": [
        "467 "
       ]
      },
      {
       "output_type": "stream",
       "stream": "stdout",
       "text": [
        "468 "
       ]
      },
      {
       "output_type": "stream",
       "stream": "stdout",
       "text": [
        "469 "
       ]
      },
      {
       "output_type": "stream",
       "stream": "stdout",
       "text": [
        "470 "
       ]
      },
      {
       "output_type": "stream",
       "stream": "stdout",
       "text": [
        "471 "
       ]
      },
      {
       "output_type": "stream",
       "stream": "stdout",
       "text": [
        "472 "
       ]
      },
      {
       "output_type": "stream",
       "stream": "stdout",
       "text": [
        "473 "
       ]
      },
      {
       "output_type": "stream",
       "stream": "stdout",
       "text": [
        "474 "
       ]
      },
      {
       "output_type": "stream",
       "stream": "stdout",
       "text": [
        "475 "
       ]
      },
      {
       "output_type": "stream",
       "stream": "stdout",
       "text": [
        "476 "
       ]
      },
      {
       "output_type": "stream",
       "stream": "stdout",
       "text": [
        "477 "
       ]
      },
      {
       "output_type": "stream",
       "stream": "stdout",
       "text": [
        "478 "
       ]
      },
      {
       "output_type": "stream",
       "stream": "stdout",
       "text": [
        "479 "
       ]
      },
      {
       "output_type": "stream",
       "stream": "stdout",
       "text": [
        "480 "
       ]
      },
      {
       "output_type": "stream",
       "stream": "stdout",
       "text": [
        "481 "
       ]
      },
      {
       "output_type": "stream",
       "stream": "stdout",
       "text": [
        "482 "
       ]
      },
      {
       "output_type": "stream",
       "stream": "stdout",
       "text": [
        "483 "
       ]
      },
      {
       "output_type": "stream",
       "stream": "stdout",
       "text": [
        "484 "
       ]
      },
      {
       "output_type": "stream",
       "stream": "stdout",
       "text": [
        "485 "
       ]
      },
      {
       "output_type": "stream",
       "stream": "stdout",
       "text": [
        "486 "
       ]
      },
      {
       "output_type": "stream",
       "stream": "stdout",
       "text": [
        "487 "
       ]
      },
      {
       "output_type": "stream",
       "stream": "stdout",
       "text": [
        "488 "
       ]
      },
      {
       "output_type": "stream",
       "stream": "stdout",
       "text": [
        "489 "
       ]
      },
      {
       "output_type": "stream",
       "stream": "stdout",
       "text": [
        "490 "
       ]
      },
      {
       "output_type": "stream",
       "stream": "stdout",
       "text": [
        "491 "
       ]
      },
      {
       "output_type": "stream",
       "stream": "stdout",
       "text": [
        "492 "
       ]
      },
      {
       "output_type": "stream",
       "stream": "stdout",
       "text": [
        "493 "
       ]
      },
      {
       "output_type": "stream",
       "stream": "stdout",
       "text": [
        "494 "
       ]
      },
      {
       "output_type": "stream",
       "stream": "stdout",
       "text": [
        "495 "
       ]
      },
      {
       "output_type": "stream",
       "stream": "stdout",
       "text": [
        "496 "
       ]
      },
      {
       "output_type": "stream",
       "stream": "stdout",
       "text": [
        "497 "
       ]
      },
      {
       "output_type": "stream",
       "stream": "stdout",
       "text": [
        "498 "
       ]
      },
      {
       "output_type": "stream",
       "stream": "stdout",
       "text": [
        "499 "
       ]
      },
      {
       "output_type": "stream",
       "stream": "stdout",
       "text": [
        "500 "
       ]
      },
      {
       "output_type": "stream",
       "stream": "stdout",
       "text": [
        "501 "
       ]
      },
      {
       "output_type": "stream",
       "stream": "stdout",
       "text": [
        "502 "
       ]
      },
      {
       "output_type": "stream",
       "stream": "stdout",
       "text": [
        "503 "
       ]
      },
      {
       "output_type": "stream",
       "stream": "stdout",
       "text": [
        "504 "
       ]
      },
      {
       "output_type": "stream",
       "stream": "stdout",
       "text": [
        "505 "
       ]
      },
      {
       "output_type": "stream",
       "stream": "stdout",
       "text": [
        "506 "
       ]
      },
      {
       "output_type": "stream",
       "stream": "stdout",
       "text": [
        "507 "
       ]
      },
      {
       "output_type": "stream",
       "stream": "stdout",
       "text": [
        "508 "
       ]
      },
      {
       "output_type": "stream",
       "stream": "stdout",
       "text": [
        "509 "
       ]
      },
      {
       "output_type": "stream",
       "stream": "stdout",
       "text": [
        "510 "
       ]
      },
      {
       "output_type": "stream",
       "stream": "stdout",
       "text": [
        "511 "
       ]
      },
      {
       "output_type": "stream",
       "stream": "stdout",
       "text": [
        "512 "
       ]
      },
      {
       "output_type": "stream",
       "stream": "stdout",
       "text": [
        "513 "
       ]
      },
      {
       "output_type": "stream",
       "stream": "stdout",
       "text": [
        "514 "
       ]
      },
      {
       "output_type": "stream",
       "stream": "stdout",
       "text": [
        "515 "
       ]
      },
      {
       "output_type": "stream",
       "stream": "stdout",
       "text": [
        "516 "
       ]
      },
      {
       "output_type": "stream",
       "stream": "stdout",
       "text": [
        "517 "
       ]
      },
      {
       "output_type": "stream",
       "stream": "stdout",
       "text": [
        "518 "
       ]
      },
      {
       "output_type": "stream",
       "stream": "stdout",
       "text": [
        "519 "
       ]
      },
      {
       "output_type": "stream",
       "stream": "stdout",
       "text": [
        "520 "
       ]
      },
      {
       "output_type": "stream",
       "stream": "stdout",
       "text": [
        "521 "
       ]
      },
      {
       "output_type": "stream",
       "stream": "stdout",
       "text": [
        "522 "
       ]
      },
      {
       "output_type": "stream",
       "stream": "stdout",
       "text": [
        "523 "
       ]
      },
      {
       "output_type": "stream",
       "stream": "stdout",
       "text": [
        "524 "
       ]
      },
      {
       "output_type": "stream",
       "stream": "stdout",
       "text": [
        "525 "
       ]
      },
      {
       "output_type": "stream",
       "stream": "stdout",
       "text": [
        "526 "
       ]
      },
      {
       "output_type": "stream",
       "stream": "stdout",
       "text": [
        "527 "
       ]
      },
      {
       "output_type": "stream",
       "stream": "stdout",
       "text": [
        "528 "
       ]
      },
      {
       "output_type": "stream",
       "stream": "stdout",
       "text": [
        "529 "
       ]
      },
      {
       "output_type": "stream",
       "stream": "stdout",
       "text": [
        "530 "
       ]
      },
      {
       "output_type": "stream",
       "stream": "stdout",
       "text": [
        "531 "
       ]
      },
      {
       "output_type": "stream",
       "stream": "stdout",
       "text": [
        "532 "
       ]
      },
      {
       "output_type": "stream",
       "stream": "stdout",
       "text": [
        "533 "
       ]
      },
      {
       "output_type": "stream",
       "stream": "stdout",
       "text": [
        "534 "
       ]
      },
      {
       "output_type": "stream",
       "stream": "stdout",
       "text": [
        "535 "
       ]
      },
      {
       "output_type": "stream",
       "stream": "stdout",
       "text": [
        "536 "
       ]
      },
      {
       "output_type": "stream",
       "stream": "stdout",
       "text": [
        "537 "
       ]
      },
      {
       "output_type": "stream",
       "stream": "stdout",
       "text": [
        "538 "
       ]
      },
      {
       "output_type": "stream",
       "stream": "stdout",
       "text": [
        "539 "
       ]
      },
      {
       "output_type": "stream",
       "stream": "stdout",
       "text": [
        "540 "
       ]
      },
      {
       "output_type": "stream",
       "stream": "stdout",
       "text": [
        "541 "
       ]
      },
      {
       "output_type": "stream",
       "stream": "stdout",
       "text": [
        "542 "
       ]
      },
      {
       "output_type": "stream",
       "stream": "stdout",
       "text": [
        "543 "
       ]
      },
      {
       "output_type": "stream",
       "stream": "stdout",
       "text": [
        "544 "
       ]
      },
      {
       "output_type": "stream",
       "stream": "stdout",
       "text": [
        "545 "
       ]
      },
      {
       "output_type": "stream",
       "stream": "stdout",
       "text": [
        "546 "
       ]
      },
      {
       "output_type": "stream",
       "stream": "stdout",
       "text": [
        "547 "
       ]
      },
      {
       "output_type": "stream",
       "stream": "stdout",
       "text": [
        "548 "
       ]
      },
      {
       "output_type": "stream",
       "stream": "stdout",
       "text": [
        "549 "
       ]
      },
      {
       "output_type": "stream",
       "stream": "stdout",
       "text": [
        "550 "
       ]
      },
      {
       "output_type": "stream",
       "stream": "stdout",
       "text": [
        "551 "
       ]
      },
      {
       "output_type": "stream",
       "stream": "stdout",
       "text": [
        "552 "
       ]
      },
      {
       "output_type": "stream",
       "stream": "stdout",
       "text": [
        "553 "
       ]
      },
      {
       "output_type": "stream",
       "stream": "stdout",
       "text": [
        "554 "
       ]
      },
      {
       "output_type": "stream",
       "stream": "stdout",
       "text": [
        "555 "
       ]
      },
      {
       "output_type": "stream",
       "stream": "stdout",
       "text": [
        "556 "
       ]
      },
      {
       "output_type": "stream",
       "stream": "stdout",
       "text": [
        "557 "
       ]
      },
      {
       "output_type": "stream",
       "stream": "stdout",
       "text": [
        "558 "
       ]
      },
      {
       "output_type": "stream",
       "stream": "stdout",
       "text": [
        "559 "
       ]
      },
      {
       "output_type": "stream",
       "stream": "stdout",
       "text": [
        "560 "
       ]
      },
      {
       "output_type": "stream",
       "stream": "stdout",
       "text": [
        "561 "
       ]
      },
      {
       "output_type": "stream",
       "stream": "stdout",
       "text": [
        "562 "
       ]
      },
      {
       "output_type": "stream",
       "stream": "stdout",
       "text": [
        "563 "
       ]
      },
      {
       "output_type": "stream",
       "stream": "stdout",
       "text": [
        "564 "
       ]
      },
      {
       "output_type": "stream",
       "stream": "stdout",
       "text": [
        "565 "
       ]
      },
      {
       "output_type": "stream",
       "stream": "stdout",
       "text": [
        "566 "
       ]
      },
      {
       "output_type": "stream",
       "stream": "stdout",
       "text": [
        "567 "
       ]
      },
      {
       "output_type": "stream",
       "stream": "stdout",
       "text": [
        "568 "
       ]
      },
      {
       "output_type": "stream",
       "stream": "stdout",
       "text": [
        "569 "
       ]
      },
      {
       "output_type": "stream",
       "stream": "stdout",
       "text": [
        "570 "
       ]
      },
      {
       "output_type": "stream",
       "stream": "stdout",
       "text": [
        "571 "
       ]
      },
      {
       "output_type": "stream",
       "stream": "stdout",
       "text": [
        "572 "
       ]
      },
      {
       "output_type": "stream",
       "stream": "stdout",
       "text": [
        "573 "
       ]
      },
      {
       "output_type": "stream",
       "stream": "stdout",
       "text": [
        "574 "
       ]
      },
      {
       "output_type": "stream",
       "stream": "stdout",
       "text": [
        "575 "
       ]
      },
      {
       "output_type": "stream",
       "stream": "stdout",
       "text": [
        "576 "
       ]
      },
      {
       "output_type": "stream",
       "stream": "stdout",
       "text": [
        "577 "
       ]
      },
      {
       "output_type": "stream",
       "stream": "stdout",
       "text": [
        "578 "
       ]
      },
      {
       "output_type": "stream",
       "stream": "stdout",
       "text": [
        "579 "
       ]
      },
      {
       "output_type": "stream",
       "stream": "stdout",
       "text": [
        "580 "
       ]
      },
      {
       "output_type": "stream",
       "stream": "stdout",
       "text": [
        "581 "
       ]
      },
      {
       "output_type": "stream",
       "stream": "stdout",
       "text": [
        "582 "
       ]
      },
      {
       "output_type": "stream",
       "stream": "stdout",
       "text": [
        "583 "
       ]
      },
      {
       "output_type": "stream",
       "stream": "stdout",
       "text": [
        "584 "
       ]
      },
      {
       "output_type": "stream",
       "stream": "stdout",
       "text": [
        "585 "
       ]
      },
      {
       "output_type": "stream",
       "stream": "stdout",
       "text": [
        "586 "
       ]
      },
      {
       "output_type": "stream",
       "stream": "stdout",
       "text": [
        "587 "
       ]
      },
      {
       "output_type": "stream",
       "stream": "stdout",
       "text": [
        "588 "
       ]
      },
      {
       "output_type": "stream",
       "stream": "stdout",
       "text": [
        "589 "
       ]
      },
      {
       "output_type": "stream",
       "stream": "stdout",
       "text": [
        "590 "
       ]
      },
      {
       "output_type": "stream",
       "stream": "stdout",
       "text": [
        "591 "
       ]
      },
      {
       "output_type": "stream",
       "stream": "stdout",
       "text": [
        "592 "
       ]
      },
      {
       "output_type": "stream",
       "stream": "stdout",
       "text": [
        "593 "
       ]
      },
      {
       "output_type": "stream",
       "stream": "stdout",
       "text": [
        "594 "
       ]
      },
      {
       "output_type": "stream",
       "stream": "stdout",
       "text": [
        "595 "
       ]
      },
      {
       "output_type": "stream",
       "stream": "stdout",
       "text": [
        "596 "
       ]
      },
      {
       "output_type": "stream",
       "stream": "stdout",
       "text": [
        "597 "
       ]
      },
      {
       "output_type": "stream",
       "stream": "stdout",
       "text": [
        "598 "
       ]
      },
      {
       "output_type": "stream",
       "stream": "stdout",
       "text": [
        "599 "
       ]
      },
      {
       "output_type": "stream",
       "stream": "stdout",
       "text": [
        "600 "
       ]
      },
      {
       "output_type": "stream",
       "stream": "stdout",
       "text": [
        "601 "
       ]
      },
      {
       "output_type": "stream",
       "stream": "stdout",
       "text": [
        "602 "
       ]
      },
      {
       "output_type": "stream",
       "stream": "stdout",
       "text": [
        "603 "
       ]
      },
      {
       "output_type": "stream",
       "stream": "stdout",
       "text": [
        "604 "
       ]
      },
      {
       "output_type": "stream",
       "stream": "stdout",
       "text": [
        "605 "
       ]
      },
      {
       "output_type": "stream",
       "stream": "stdout",
       "text": [
        "606 "
       ]
      },
      {
       "output_type": "stream",
       "stream": "stdout",
       "text": [
        "607 "
       ]
      },
      {
       "output_type": "stream",
       "stream": "stdout",
       "text": [
        "608 "
       ]
      },
      {
       "output_type": "stream",
       "stream": "stdout",
       "text": [
        "609 "
       ]
      },
      {
       "output_type": "stream",
       "stream": "stdout",
       "text": [
        "610 "
       ]
      },
      {
       "output_type": "stream",
       "stream": "stdout",
       "text": [
        "611 "
       ]
      },
      {
       "output_type": "stream",
       "stream": "stdout",
       "text": [
        "612 "
       ]
      },
      {
       "output_type": "stream",
       "stream": "stdout",
       "text": [
        "613 "
       ]
      },
      {
       "output_type": "stream",
       "stream": "stdout",
       "text": [
        "614 "
       ]
      },
      {
       "output_type": "stream",
       "stream": "stdout",
       "text": [
        "615 "
       ]
      },
      {
       "output_type": "stream",
       "stream": "stdout",
       "text": [
        "616 "
       ]
      },
      {
       "output_type": "stream",
       "stream": "stdout",
       "text": [
        "617 "
       ]
      },
      {
       "output_type": "stream",
       "stream": "stdout",
       "text": [
        "618 "
       ]
      },
      {
       "output_type": "stream",
       "stream": "stdout",
       "text": [
        "619 "
       ]
      },
      {
       "output_type": "stream",
       "stream": "stdout",
       "text": [
        "620 "
       ]
      },
      {
       "output_type": "stream",
       "stream": "stdout",
       "text": [
        "621 "
       ]
      },
      {
       "output_type": "stream",
       "stream": "stdout",
       "text": [
        "622 "
       ]
      },
      {
       "output_type": "stream",
       "stream": "stdout",
       "text": [
        "623 "
       ]
      },
      {
       "output_type": "stream",
       "stream": "stdout",
       "text": [
        "624 "
       ]
      },
      {
       "output_type": "stream",
       "stream": "stdout",
       "text": [
        "625 "
       ]
      },
      {
       "output_type": "stream",
       "stream": "stdout",
       "text": [
        "626 "
       ]
      },
      {
       "output_type": "stream",
       "stream": "stdout",
       "text": [
        "627 "
       ]
      },
      {
       "output_type": "stream",
       "stream": "stdout",
       "text": [
        "628 "
       ]
      },
      {
       "output_type": "stream",
       "stream": "stdout",
       "text": [
        "629 "
       ]
      },
      {
       "output_type": "stream",
       "stream": "stdout",
       "text": [
        "630 "
       ]
      },
      {
       "output_type": "stream",
       "stream": "stdout",
       "text": [
        "631 "
       ]
      },
      {
       "output_type": "stream",
       "stream": "stdout",
       "text": [
        "632 "
       ]
      },
      {
       "output_type": "stream",
       "stream": "stdout",
       "text": [
        "633 "
       ]
      },
      {
       "output_type": "stream",
       "stream": "stdout",
       "text": [
        "634 "
       ]
      },
      {
       "output_type": "stream",
       "stream": "stdout",
       "text": [
        "635 "
       ]
      },
      {
       "output_type": "stream",
       "stream": "stdout",
       "text": [
        "636 "
       ]
      },
      {
       "output_type": "stream",
       "stream": "stdout",
       "text": [
        "637 "
       ]
      },
      {
       "output_type": "stream",
       "stream": "stdout",
       "text": [
        "638 "
       ]
      },
      {
       "output_type": "stream",
       "stream": "stdout",
       "text": [
        "639 "
       ]
      },
      {
       "output_type": "stream",
       "stream": "stdout",
       "text": [
        "640 "
       ]
      },
      {
       "output_type": "stream",
       "stream": "stdout",
       "text": [
        "641 "
       ]
      },
      {
       "output_type": "stream",
       "stream": "stdout",
       "text": [
        "642 "
       ]
      },
      {
       "output_type": "stream",
       "stream": "stdout",
       "text": [
        "643 "
       ]
      },
      {
       "output_type": "stream",
       "stream": "stdout",
       "text": [
        "644 "
       ]
      },
      {
       "output_type": "stream",
       "stream": "stdout",
       "text": [
        "645 "
       ]
      },
      {
       "output_type": "stream",
       "stream": "stdout",
       "text": [
        "646 "
       ]
      },
      {
       "output_type": "stream",
       "stream": "stdout",
       "text": [
        "647 "
       ]
      },
      {
       "output_type": "stream",
       "stream": "stdout",
       "text": [
        "648 "
       ]
      },
      {
       "output_type": "stream",
       "stream": "stdout",
       "text": [
        "649 "
       ]
      },
      {
       "output_type": "stream",
       "stream": "stdout",
       "text": [
        "650 "
       ]
      },
      {
       "output_type": "stream",
       "stream": "stdout",
       "text": [
        "651 "
       ]
      },
      {
       "output_type": "stream",
       "stream": "stdout",
       "text": [
        "652 "
       ]
      },
      {
       "output_type": "stream",
       "stream": "stdout",
       "text": [
        "653 "
       ]
      },
      {
       "output_type": "stream",
       "stream": "stdout",
       "text": [
        "654 "
       ]
      },
      {
       "output_type": "stream",
       "stream": "stdout",
       "text": [
        "655 "
       ]
      },
      {
       "output_type": "stream",
       "stream": "stdout",
       "text": [
        "656 "
       ]
      },
      {
       "output_type": "stream",
       "stream": "stdout",
       "text": [
        "657 "
       ]
      },
      {
       "output_type": "stream",
       "stream": "stdout",
       "text": [
        "658 "
       ]
      },
      {
       "output_type": "stream",
       "stream": "stdout",
       "text": [
        "659 "
       ]
      },
      {
       "output_type": "stream",
       "stream": "stdout",
       "text": [
        "660 "
       ]
      },
      {
       "output_type": "stream",
       "stream": "stdout",
       "text": [
        "661 "
       ]
      },
      {
       "output_type": "stream",
       "stream": "stdout",
       "text": [
        "662 "
       ]
      },
      {
       "output_type": "stream",
       "stream": "stdout",
       "text": [
        "663 "
       ]
      },
      {
       "output_type": "stream",
       "stream": "stdout",
       "text": [
        "664 "
       ]
      },
      {
       "output_type": "stream",
       "stream": "stdout",
       "text": [
        "665 "
       ]
      },
      {
       "output_type": "stream",
       "stream": "stdout",
       "text": [
        "666 "
       ]
      },
      {
       "output_type": "stream",
       "stream": "stdout",
       "text": [
        "667 "
       ]
      },
      {
       "output_type": "stream",
       "stream": "stdout",
       "text": [
        "668 "
       ]
      },
      {
       "output_type": "stream",
       "stream": "stdout",
       "text": [
        "669 "
       ]
      },
      {
       "output_type": "stream",
       "stream": "stdout",
       "text": [
        "670 "
       ]
      },
      {
       "output_type": "stream",
       "stream": "stdout",
       "text": [
        "671 "
       ]
      },
      {
       "output_type": "stream",
       "stream": "stdout",
       "text": [
        "672 "
       ]
      },
      {
       "output_type": "stream",
       "stream": "stdout",
       "text": [
        "673 "
       ]
      },
      {
       "output_type": "stream",
       "stream": "stdout",
       "text": [
        "674 "
       ]
      },
      {
       "output_type": "stream",
       "stream": "stdout",
       "text": [
        "675 "
       ]
      },
      {
       "output_type": "stream",
       "stream": "stdout",
       "text": [
        "676 "
       ]
      },
      {
       "output_type": "stream",
       "stream": "stdout",
       "text": [
        "677 "
       ]
      },
      {
       "output_type": "stream",
       "stream": "stdout",
       "text": [
        "678 "
       ]
      },
      {
       "output_type": "stream",
       "stream": "stdout",
       "text": [
        "679 "
       ]
      },
      {
       "output_type": "stream",
       "stream": "stdout",
       "text": [
        "680 "
       ]
      },
      {
       "output_type": "stream",
       "stream": "stdout",
       "text": [
        "681 "
       ]
      },
      {
       "output_type": "stream",
       "stream": "stdout",
       "text": [
        "682 "
       ]
      },
      {
       "output_type": "stream",
       "stream": "stdout",
       "text": [
        "683 "
       ]
      },
      {
       "output_type": "stream",
       "stream": "stdout",
       "text": [
        "684 "
       ]
      },
      {
       "output_type": "stream",
       "stream": "stdout",
       "text": [
        "685 "
       ]
      },
      {
       "output_type": "stream",
       "stream": "stdout",
       "text": [
        "686 "
       ]
      },
      {
       "output_type": "stream",
       "stream": "stdout",
       "text": [
        "687 "
       ]
      },
      {
       "output_type": "stream",
       "stream": "stdout",
       "text": [
        "688 "
       ]
      },
      {
       "output_type": "stream",
       "stream": "stdout",
       "text": [
        "689 "
       ]
      },
      {
       "output_type": "stream",
       "stream": "stdout",
       "text": [
        "690 "
       ]
      },
      {
       "output_type": "stream",
       "stream": "stdout",
       "text": [
        "691 "
       ]
      },
      {
       "output_type": "stream",
       "stream": "stdout",
       "text": [
        "692 "
       ]
      },
      {
       "output_type": "stream",
       "stream": "stdout",
       "text": [
        "693 "
       ]
      },
      {
       "output_type": "stream",
       "stream": "stdout",
       "text": [
        "694 "
       ]
      },
      {
       "output_type": "stream",
       "stream": "stdout",
       "text": [
        "695 "
       ]
      },
      {
       "output_type": "stream",
       "stream": "stdout",
       "text": [
        "696 "
       ]
      },
      {
       "output_type": "stream",
       "stream": "stdout",
       "text": [
        "697 "
       ]
      },
      {
       "output_type": "stream",
       "stream": "stdout",
       "text": [
        "698 "
       ]
      },
      {
       "output_type": "stream",
       "stream": "stdout",
       "text": [
        "699 "
       ]
      },
      {
       "output_type": "stream",
       "stream": "stdout",
       "text": [
        "700 "
       ]
      },
      {
       "output_type": "stream",
       "stream": "stdout",
       "text": [
        "701 "
       ]
      },
      {
       "output_type": "stream",
       "stream": "stdout",
       "text": [
        "702 "
       ]
      },
      {
       "output_type": "stream",
       "stream": "stdout",
       "text": [
        "703 "
       ]
      },
      {
       "output_type": "stream",
       "stream": "stdout",
       "text": [
        "704 "
       ]
      },
      {
       "output_type": "stream",
       "stream": "stdout",
       "text": [
        "705 "
       ]
      },
      {
       "output_type": "stream",
       "stream": "stdout",
       "text": [
        "706 "
       ]
      },
      {
       "output_type": "stream",
       "stream": "stdout",
       "text": [
        "707 "
       ]
      },
      {
       "output_type": "stream",
       "stream": "stdout",
       "text": [
        "708 "
       ]
      },
      {
       "output_type": "stream",
       "stream": "stdout",
       "text": [
        "709 "
       ]
      },
      {
       "output_type": "stream",
       "stream": "stdout",
       "text": [
        "710 "
       ]
      },
      {
       "output_type": "stream",
       "stream": "stdout",
       "text": [
        "711 "
       ]
      },
      {
       "output_type": "stream",
       "stream": "stdout",
       "text": [
        "712 "
       ]
      },
      {
       "output_type": "stream",
       "stream": "stdout",
       "text": [
        "713 "
       ]
      },
      {
       "output_type": "stream",
       "stream": "stdout",
       "text": [
        "714 "
       ]
      },
      {
       "output_type": "stream",
       "stream": "stdout",
       "text": [
        "715 "
       ]
      },
      {
       "output_type": "stream",
       "stream": "stdout",
       "text": [
        "716 "
       ]
      },
      {
       "output_type": "stream",
       "stream": "stdout",
       "text": [
        "717 "
       ]
      },
      {
       "output_type": "stream",
       "stream": "stdout",
       "text": [
        "718 "
       ]
      },
      {
       "output_type": "stream",
       "stream": "stdout",
       "text": [
        "719 "
       ]
      },
      {
       "output_type": "stream",
       "stream": "stdout",
       "text": [
        "720 "
       ]
      },
      {
       "output_type": "stream",
       "stream": "stdout",
       "text": [
        "721 "
       ]
      },
      {
       "output_type": "stream",
       "stream": "stdout",
       "text": [
        "722 "
       ]
      },
      {
       "output_type": "stream",
       "stream": "stdout",
       "text": [
        "723 "
       ]
      },
      {
       "output_type": "stream",
       "stream": "stdout",
       "text": [
        "724 "
       ]
      },
      {
       "output_type": "stream",
       "stream": "stdout",
       "text": [
        "725 "
       ]
      },
      {
       "output_type": "stream",
       "stream": "stdout",
       "text": [
        "726 "
       ]
      },
      {
       "output_type": "stream",
       "stream": "stdout",
       "text": [
        "727 "
       ]
      },
      {
       "output_type": "stream",
       "stream": "stdout",
       "text": [
        "728 "
       ]
      },
      {
       "output_type": "stream",
       "stream": "stdout",
       "text": [
        "729 "
       ]
      },
      {
       "output_type": "stream",
       "stream": "stdout",
       "text": [
        "730 "
       ]
      },
      {
       "output_type": "stream",
       "stream": "stdout",
       "text": [
        "731 "
       ]
      },
      {
       "output_type": "stream",
       "stream": "stdout",
       "text": [
        "732 "
       ]
      },
      {
       "output_type": "stream",
       "stream": "stdout",
       "text": [
        "733 "
       ]
      },
      {
       "output_type": "stream",
       "stream": "stdout",
       "text": [
        "734 "
       ]
      },
      {
       "output_type": "stream",
       "stream": "stdout",
       "text": [
        "735 "
       ]
      },
      {
       "output_type": "stream",
       "stream": "stdout",
       "text": [
        "736 "
       ]
      },
      {
       "output_type": "stream",
       "stream": "stdout",
       "text": [
        "737 "
       ]
      },
      {
       "output_type": "stream",
       "stream": "stdout",
       "text": [
        "738 "
       ]
      },
      {
       "output_type": "stream",
       "stream": "stdout",
       "text": [
        "739 "
       ]
      },
      {
       "output_type": "stream",
       "stream": "stdout",
       "text": [
        "740 "
       ]
      },
      {
       "output_type": "stream",
       "stream": "stdout",
       "text": [
        "741 "
       ]
      },
      {
       "output_type": "stream",
       "stream": "stdout",
       "text": [
        "742 "
       ]
      },
      {
       "output_type": "stream",
       "stream": "stdout",
       "text": [
        "743 "
       ]
      },
      {
       "output_type": "stream",
       "stream": "stdout",
       "text": [
        "744 "
       ]
      },
      {
       "output_type": "stream",
       "stream": "stdout",
       "text": [
        "745 "
       ]
      },
      {
       "output_type": "stream",
       "stream": "stdout",
       "text": [
        "746 "
       ]
      },
      {
       "output_type": "stream",
       "stream": "stdout",
       "text": [
        "747 "
       ]
      },
      {
       "output_type": "stream",
       "stream": "stdout",
       "text": [
        "748 "
       ]
      },
      {
       "output_type": "stream",
       "stream": "stdout",
       "text": [
        "749 "
       ]
      },
      {
       "output_type": "stream",
       "stream": "stdout",
       "text": [
        "750 "
       ]
      },
      {
       "output_type": "stream",
       "stream": "stdout",
       "text": [
        "751 "
       ]
      },
      {
       "output_type": "stream",
       "stream": "stdout",
       "text": [
        "752 "
       ]
      },
      {
       "output_type": "stream",
       "stream": "stdout",
       "text": [
        "753 "
       ]
      },
      {
       "output_type": "stream",
       "stream": "stdout",
       "text": [
        "754 "
       ]
      },
      {
       "output_type": "stream",
       "stream": "stdout",
       "text": [
        "755 "
       ]
      },
      {
       "output_type": "stream",
       "stream": "stdout",
       "text": [
        "756 "
       ]
      },
      {
       "output_type": "stream",
       "stream": "stdout",
       "text": [
        "757 "
       ]
      },
      {
       "output_type": "stream",
       "stream": "stdout",
       "text": [
        "758 "
       ]
      },
      {
       "output_type": "stream",
       "stream": "stdout",
       "text": [
        "759 "
       ]
      },
      {
       "output_type": "stream",
       "stream": "stdout",
       "text": [
        "760 "
       ]
      },
      {
       "output_type": "stream",
       "stream": "stdout",
       "text": [
        "761 "
       ]
      },
      {
       "output_type": "stream",
       "stream": "stdout",
       "text": [
        "762 "
       ]
      },
      {
       "output_type": "stream",
       "stream": "stdout",
       "text": [
        "763 "
       ]
      },
      {
       "output_type": "stream",
       "stream": "stdout",
       "text": [
        "764 "
       ]
      },
      {
       "output_type": "stream",
       "stream": "stdout",
       "text": [
        "765 "
       ]
      },
      {
       "output_type": "stream",
       "stream": "stdout",
       "text": [
        "766 "
       ]
      },
      {
       "output_type": "stream",
       "stream": "stdout",
       "text": [
        "767 "
       ]
      },
      {
       "output_type": "stream",
       "stream": "stdout",
       "text": [
        "768 "
       ]
      },
      {
       "output_type": "stream",
       "stream": "stdout",
       "text": [
        "769 "
       ]
      },
      {
       "output_type": "stream",
       "stream": "stdout",
       "text": [
        "770 "
       ]
      },
      {
       "output_type": "stream",
       "stream": "stdout",
       "text": [
        "771 "
       ]
      },
      {
       "output_type": "stream",
       "stream": "stdout",
       "text": [
        "772 "
       ]
      },
      {
       "output_type": "stream",
       "stream": "stdout",
       "text": [
        "773 "
       ]
      },
      {
       "output_type": "stream",
       "stream": "stdout",
       "text": [
        "774 "
       ]
      },
      {
       "output_type": "stream",
       "stream": "stdout",
       "text": [
        "775 "
       ]
      },
      {
       "output_type": "stream",
       "stream": "stdout",
       "text": [
        "776 "
       ]
      },
      {
       "output_type": "stream",
       "stream": "stdout",
       "text": [
        "777 "
       ]
      },
      {
       "output_type": "stream",
       "stream": "stdout",
       "text": [
        "778 "
       ]
      },
      {
       "output_type": "stream",
       "stream": "stdout",
       "text": [
        "779 "
       ]
      },
      {
       "output_type": "stream",
       "stream": "stdout",
       "text": [
        "780 "
       ]
      },
      {
       "output_type": "stream",
       "stream": "stdout",
       "text": [
        "781 "
       ]
      },
      {
       "output_type": "stream",
       "stream": "stdout",
       "text": [
        "782 "
       ]
      },
      {
       "output_type": "stream",
       "stream": "stdout",
       "text": [
        "783 "
       ]
      },
      {
       "output_type": "stream",
       "stream": "stdout",
       "text": [
        "784 "
       ]
      },
      {
       "output_type": "stream",
       "stream": "stdout",
       "text": [
        "785 "
       ]
      },
      {
       "output_type": "stream",
       "stream": "stdout",
       "text": [
        "786 "
       ]
      },
      {
       "output_type": "stream",
       "stream": "stdout",
       "text": [
        "787 "
       ]
      },
      {
       "output_type": "stream",
       "stream": "stdout",
       "text": [
        "788 "
       ]
      },
      {
       "output_type": "stream",
       "stream": "stdout",
       "text": [
        "789 "
       ]
      },
      {
       "output_type": "stream",
       "stream": "stdout",
       "text": [
        "790 "
       ]
      },
      {
       "output_type": "stream",
       "stream": "stdout",
       "text": [
        "791 "
       ]
      },
      {
       "output_type": "stream",
       "stream": "stdout",
       "text": [
        "792 "
       ]
      },
      {
       "output_type": "stream",
       "stream": "stdout",
       "text": [
        "793 "
       ]
      },
      {
       "output_type": "stream",
       "stream": "stdout",
       "text": [
        "794 "
       ]
      },
      {
       "output_type": "stream",
       "stream": "stdout",
       "text": [
        "795 "
       ]
      },
      {
       "output_type": "stream",
       "stream": "stdout",
       "text": [
        "796 "
       ]
      },
      {
       "output_type": "stream",
       "stream": "stdout",
       "text": [
        "797 "
       ]
      },
      {
       "output_type": "stream",
       "stream": "stdout",
       "text": [
        "798 "
       ]
      },
      {
       "output_type": "stream",
       "stream": "stdout",
       "text": [
        "799 "
       ]
      },
      {
       "output_type": "stream",
       "stream": "stdout",
       "text": [
        "800 "
       ]
      },
      {
       "output_type": "stream",
       "stream": "stdout",
       "text": [
        "801 "
       ]
      },
      {
       "output_type": "stream",
       "stream": "stdout",
       "text": [
        "802 "
       ]
      },
      {
       "output_type": "stream",
       "stream": "stdout",
       "text": [
        "803 "
       ]
      },
      {
       "output_type": "stream",
       "stream": "stdout",
       "text": [
        "804 "
       ]
      },
      {
       "output_type": "stream",
       "stream": "stdout",
       "text": [
        "805 "
       ]
      },
      {
       "output_type": "stream",
       "stream": "stdout",
       "text": [
        "806 "
       ]
      },
      {
       "output_type": "stream",
       "stream": "stdout",
       "text": [
        "807 "
       ]
      },
      {
       "output_type": "stream",
       "stream": "stdout",
       "text": [
        "808 "
       ]
      },
      {
       "output_type": "stream",
       "stream": "stdout",
       "text": [
        "809 "
       ]
      },
      {
       "output_type": "stream",
       "stream": "stdout",
       "text": [
        "810 "
       ]
      },
      {
       "output_type": "stream",
       "stream": "stdout",
       "text": [
        "811 "
       ]
      },
      {
       "output_type": "stream",
       "stream": "stdout",
       "text": [
        "812 "
       ]
      },
      {
       "output_type": "stream",
       "stream": "stdout",
       "text": [
        "813 "
       ]
      },
      {
       "output_type": "stream",
       "stream": "stdout",
       "text": [
        "814 "
       ]
      },
      {
       "output_type": "stream",
       "stream": "stdout",
       "text": [
        "815 "
       ]
      },
      {
       "output_type": "stream",
       "stream": "stdout",
       "text": [
        "816 "
       ]
      },
      {
       "output_type": "stream",
       "stream": "stdout",
       "text": [
        "817 "
       ]
      },
      {
       "output_type": "stream",
       "stream": "stdout",
       "text": [
        "818 "
       ]
      },
      {
       "output_type": "stream",
       "stream": "stdout",
       "text": [
        "819 "
       ]
      },
      {
       "output_type": "stream",
       "stream": "stdout",
       "text": [
        "820 "
       ]
      },
      {
       "output_type": "stream",
       "stream": "stdout",
       "text": [
        "821 "
       ]
      },
      {
       "output_type": "stream",
       "stream": "stdout",
       "text": [
        "822 "
       ]
      },
      {
       "output_type": "stream",
       "stream": "stdout",
       "text": [
        "823 "
       ]
      },
      {
       "output_type": "stream",
       "stream": "stdout",
       "text": [
        "824 "
       ]
      },
      {
       "output_type": "stream",
       "stream": "stdout",
       "text": [
        "825 "
       ]
      },
      {
       "output_type": "stream",
       "stream": "stdout",
       "text": [
        "826 "
       ]
      },
      {
       "output_type": "stream",
       "stream": "stdout",
       "text": [
        "827 "
       ]
      },
      {
       "output_type": "stream",
       "stream": "stdout",
       "text": [
        "828 "
       ]
      },
      {
       "output_type": "stream",
       "stream": "stdout",
       "text": [
        "829 "
       ]
      },
      {
       "output_type": "stream",
       "stream": "stdout",
       "text": [
        "830 "
       ]
      },
      {
       "output_type": "stream",
       "stream": "stdout",
       "text": [
        "831 "
       ]
      },
      {
       "output_type": "stream",
       "stream": "stdout",
       "text": [
        "832 "
       ]
      },
      {
       "output_type": "stream",
       "stream": "stdout",
       "text": [
        "833 "
       ]
      },
      {
       "output_type": "stream",
       "stream": "stdout",
       "text": [
        "834 "
       ]
      },
      {
       "output_type": "stream",
       "stream": "stdout",
       "text": [
        "835 "
       ]
      },
      {
       "output_type": "stream",
       "stream": "stdout",
       "text": [
        "836 "
       ]
      },
      {
       "output_type": "stream",
       "stream": "stdout",
       "text": [
        "837 "
       ]
      },
      {
       "output_type": "stream",
       "stream": "stdout",
       "text": [
        "838 "
       ]
      },
      {
       "output_type": "stream",
       "stream": "stdout",
       "text": [
        "839 "
       ]
      },
      {
       "output_type": "stream",
       "stream": "stdout",
       "text": [
        "840 "
       ]
      },
      {
       "output_type": "stream",
       "stream": "stdout",
       "text": [
        "841 "
       ]
      },
      {
       "output_type": "stream",
       "stream": "stdout",
       "text": [
        "842 "
       ]
      },
      {
       "output_type": "stream",
       "stream": "stdout",
       "text": [
        "843 "
       ]
      },
      {
       "output_type": "stream",
       "stream": "stdout",
       "text": [
        "844 "
       ]
      },
      {
       "output_type": "stream",
       "stream": "stdout",
       "text": [
        "845 "
       ]
      },
      {
       "output_type": "stream",
       "stream": "stdout",
       "text": [
        "846 "
       ]
      },
      {
       "output_type": "stream",
       "stream": "stdout",
       "text": [
        "847 "
       ]
      },
      {
       "output_type": "stream",
       "stream": "stdout",
       "text": [
        "848 "
       ]
      },
      {
       "output_type": "stream",
       "stream": "stdout",
       "text": [
        "849 "
       ]
      },
      {
       "output_type": "stream",
       "stream": "stdout",
       "text": [
        "850 "
       ]
      },
      {
       "output_type": "stream",
       "stream": "stdout",
       "text": [
        "851 "
       ]
      },
      {
       "output_type": "stream",
       "stream": "stdout",
       "text": [
        "852 "
       ]
      },
      {
       "output_type": "stream",
       "stream": "stdout",
       "text": [
        "853 "
       ]
      },
      {
       "output_type": "stream",
       "stream": "stdout",
       "text": [
        "854 "
       ]
      },
      {
       "output_type": "stream",
       "stream": "stdout",
       "text": [
        "855 "
       ]
      },
      {
       "output_type": "stream",
       "stream": "stdout",
       "text": [
        "856 "
       ]
      },
      {
       "output_type": "stream",
       "stream": "stdout",
       "text": [
        "857 "
       ]
      },
      {
       "output_type": "stream",
       "stream": "stdout",
       "text": [
        "858 "
       ]
      },
      {
       "output_type": "stream",
       "stream": "stdout",
       "text": [
        "859 "
       ]
      },
      {
       "output_type": "stream",
       "stream": "stdout",
       "text": [
        "860 "
       ]
      },
      {
       "output_type": "stream",
       "stream": "stdout",
       "text": [
        "861 "
       ]
      },
      {
       "output_type": "stream",
       "stream": "stdout",
       "text": [
        "862 "
       ]
      },
      {
       "output_type": "stream",
       "stream": "stdout",
       "text": [
        "863 "
       ]
      },
      {
       "output_type": "stream",
       "stream": "stdout",
       "text": [
        "864 "
       ]
      },
      {
       "output_type": "stream",
       "stream": "stdout",
       "text": [
        "865 "
       ]
      },
      {
       "output_type": "stream",
       "stream": "stdout",
       "text": [
        "866 "
       ]
      },
      {
       "output_type": "stream",
       "stream": "stdout",
       "text": [
        "867 "
       ]
      },
      {
       "output_type": "stream",
       "stream": "stdout",
       "text": [
        "868 "
       ]
      },
      {
       "output_type": "stream",
       "stream": "stdout",
       "text": [
        "869 "
       ]
      },
      {
       "output_type": "stream",
       "stream": "stdout",
       "text": [
        "870 "
       ]
      },
      {
       "output_type": "stream",
       "stream": "stdout",
       "text": [
        "871 "
       ]
      },
      {
       "output_type": "stream",
       "stream": "stdout",
       "text": [
        "872 "
       ]
      },
      {
       "output_type": "stream",
       "stream": "stdout",
       "text": [
        "873 "
       ]
      },
      {
       "output_type": "stream",
       "stream": "stdout",
       "text": [
        "874 "
       ]
      },
      {
       "output_type": "stream",
       "stream": "stdout",
       "text": [
        "875 "
       ]
      },
      {
       "output_type": "stream",
       "stream": "stdout",
       "text": [
        "876 "
       ]
      },
      {
       "output_type": "stream",
       "stream": "stdout",
       "text": [
        "877 "
       ]
      },
      {
       "output_type": "stream",
       "stream": "stdout",
       "text": [
        "878 "
       ]
      },
      {
       "output_type": "stream",
       "stream": "stdout",
       "text": [
        "879 "
       ]
      },
      {
       "output_type": "stream",
       "stream": "stdout",
       "text": [
        "880 "
       ]
      },
      {
       "output_type": "stream",
       "stream": "stdout",
       "text": [
        "881 "
       ]
      },
      {
       "output_type": "stream",
       "stream": "stdout",
       "text": [
        "882 "
       ]
      },
      {
       "output_type": "stream",
       "stream": "stdout",
       "text": [
        "883 "
       ]
      },
      {
       "output_type": "stream",
       "stream": "stdout",
       "text": [
        "884 "
       ]
      },
      {
       "output_type": "stream",
       "stream": "stdout",
       "text": [
        "885 "
       ]
      },
      {
       "output_type": "stream",
       "stream": "stdout",
       "text": [
        "886 "
       ]
      },
      {
       "output_type": "stream",
       "stream": "stdout",
       "text": [
        "887 "
       ]
      },
      {
       "output_type": "stream",
       "stream": "stdout",
       "text": [
        "888 "
       ]
      },
      {
       "output_type": "stream",
       "stream": "stdout",
       "text": [
        "889 "
       ]
      },
      {
       "output_type": "stream",
       "stream": "stdout",
       "text": [
        "890 "
       ]
      },
      {
       "output_type": "stream",
       "stream": "stdout",
       "text": [
        "891 "
       ]
      },
      {
       "output_type": "stream",
       "stream": "stdout",
       "text": [
        "892 "
       ]
      },
      {
       "output_type": "stream",
       "stream": "stdout",
       "text": [
        "893 "
       ]
      },
      {
       "output_type": "stream",
       "stream": "stdout",
       "text": [
        "894 "
       ]
      },
      {
       "output_type": "stream",
       "stream": "stdout",
       "text": [
        "895 "
       ]
      },
      {
       "output_type": "stream",
       "stream": "stdout",
       "text": [
        "896 "
       ]
      },
      {
       "output_type": "stream",
       "stream": "stdout",
       "text": [
        "897 "
       ]
      },
      {
       "output_type": "stream",
       "stream": "stdout",
       "text": [
        "898 "
       ]
      },
      {
       "output_type": "stream",
       "stream": "stdout",
       "text": [
        "899 "
       ]
      },
      {
       "output_type": "stream",
       "stream": "stdout",
       "text": [
        "900 "
       ]
      },
      {
       "output_type": "stream",
       "stream": "stdout",
       "text": [
        "901 "
       ]
      },
      {
       "output_type": "stream",
       "stream": "stdout",
       "text": [
        "902 "
       ]
      },
      {
       "output_type": "stream",
       "stream": "stdout",
       "text": [
        "903 "
       ]
      },
      {
       "output_type": "stream",
       "stream": "stdout",
       "text": [
        "904 "
       ]
      },
      {
       "output_type": "stream",
       "stream": "stdout",
       "text": [
        "905 "
       ]
      },
      {
       "output_type": "stream",
       "stream": "stdout",
       "text": [
        "906 "
       ]
      },
      {
       "output_type": "stream",
       "stream": "stdout",
       "text": [
        "907 "
       ]
      },
      {
       "output_type": "stream",
       "stream": "stdout",
       "text": [
        "908 "
       ]
      },
      {
       "output_type": "stream",
       "stream": "stdout",
       "text": [
        "909 "
       ]
      },
      {
       "output_type": "stream",
       "stream": "stdout",
       "text": [
        "910 "
       ]
      },
      {
       "output_type": "stream",
       "stream": "stdout",
       "text": [
        "911 "
       ]
      },
      {
       "output_type": "stream",
       "stream": "stdout",
       "text": [
        "912 "
       ]
      },
      {
       "output_type": "stream",
       "stream": "stdout",
       "text": [
        "913 "
       ]
      },
      {
       "output_type": "stream",
       "stream": "stdout",
       "text": [
        "914 "
       ]
      },
      {
       "output_type": "stream",
       "stream": "stdout",
       "text": [
        "915 "
       ]
      },
      {
       "output_type": "stream",
       "stream": "stdout",
       "text": [
        "916 "
       ]
      },
      {
       "output_type": "stream",
       "stream": "stdout",
       "text": [
        "917 "
       ]
      },
      {
       "output_type": "stream",
       "stream": "stdout",
       "text": [
        "918 "
       ]
      },
      {
       "output_type": "stream",
       "stream": "stdout",
       "text": [
        "919 "
       ]
      },
      {
       "output_type": "stream",
       "stream": "stdout",
       "text": [
        "920 "
       ]
      },
      {
       "output_type": "stream",
       "stream": "stdout",
       "text": [
        "921 "
       ]
      },
      {
       "output_type": "stream",
       "stream": "stdout",
       "text": [
        "922 "
       ]
      },
      {
       "output_type": "stream",
       "stream": "stdout",
       "text": [
        "923 "
       ]
      },
      {
       "output_type": "stream",
       "stream": "stdout",
       "text": [
        "924 "
       ]
      },
      {
       "output_type": "stream",
       "stream": "stdout",
       "text": [
        "925 "
       ]
      },
      {
       "output_type": "stream",
       "stream": "stdout",
       "text": [
        "926 "
       ]
      },
      {
       "output_type": "stream",
       "stream": "stdout",
       "text": [
        "927 "
       ]
      },
      {
       "output_type": "stream",
       "stream": "stdout",
       "text": [
        "928 "
       ]
      },
      {
       "output_type": "stream",
       "stream": "stdout",
       "text": [
        "929 "
       ]
      },
      {
       "output_type": "stream",
       "stream": "stdout",
       "text": [
        "930 "
       ]
      },
      {
       "output_type": "stream",
       "stream": "stdout",
       "text": [
        "931 "
       ]
      },
      {
       "output_type": "stream",
       "stream": "stdout",
       "text": [
        "932 "
       ]
      },
      {
       "output_type": "stream",
       "stream": "stdout",
       "text": [
        "933 "
       ]
      },
      {
       "output_type": "stream",
       "stream": "stdout",
       "text": [
        "934 "
       ]
      },
      {
       "output_type": "stream",
       "stream": "stdout",
       "text": [
        "935 "
       ]
      },
      {
       "output_type": "stream",
       "stream": "stdout",
       "text": [
        "936 "
       ]
      },
      {
       "output_type": "stream",
       "stream": "stdout",
       "text": [
        "937 "
       ]
      },
      {
       "output_type": "stream",
       "stream": "stdout",
       "text": [
        "938 "
       ]
      },
      {
       "output_type": "stream",
       "stream": "stdout",
       "text": [
        "939 "
       ]
      },
      {
       "output_type": "stream",
       "stream": "stdout",
       "text": [
        "940 "
       ]
      },
      {
       "output_type": "stream",
       "stream": "stdout",
       "text": [
        "941 "
       ]
      },
      {
       "output_type": "stream",
       "stream": "stdout",
       "text": [
        "942 "
       ]
      },
      {
       "output_type": "stream",
       "stream": "stdout",
       "text": [
        "943 "
       ]
      },
      {
       "output_type": "stream",
       "stream": "stdout",
       "text": [
        "944 "
       ]
      },
      {
       "output_type": "stream",
       "stream": "stdout",
       "text": [
        "945 "
       ]
      },
      {
       "output_type": "stream",
       "stream": "stdout",
       "text": [
        "946 "
       ]
      },
      {
       "output_type": "stream",
       "stream": "stdout",
       "text": [
        "947 "
       ]
      },
      {
       "output_type": "stream",
       "stream": "stdout",
       "text": [
        "948 "
       ]
      },
      {
       "output_type": "stream",
       "stream": "stdout",
       "text": [
        "949 "
       ]
      },
      {
       "output_type": "stream",
       "stream": "stdout",
       "text": [
        "950 "
       ]
      },
      {
       "output_type": "stream",
       "stream": "stdout",
       "text": [
        "951 "
       ]
      },
      {
       "output_type": "stream",
       "stream": "stdout",
       "text": [
        "952 "
       ]
      },
      {
       "output_type": "stream",
       "stream": "stdout",
       "text": [
        "953 "
       ]
      },
      {
       "output_type": "stream",
       "stream": "stdout",
       "text": [
        "954 "
       ]
      },
      {
       "output_type": "stream",
       "stream": "stdout",
       "text": [
        "955 "
       ]
      },
      {
       "output_type": "stream",
       "stream": "stdout",
       "text": [
        "956 "
       ]
      },
      {
       "output_type": "stream",
       "stream": "stdout",
       "text": [
        "957 "
       ]
      },
      {
       "output_type": "stream",
       "stream": "stdout",
       "text": [
        "958 "
       ]
      },
      {
       "output_type": "stream",
       "stream": "stdout",
       "text": [
        "959 "
       ]
      },
      {
       "output_type": "stream",
       "stream": "stdout",
       "text": [
        "960 "
       ]
      },
      {
       "output_type": "stream",
       "stream": "stdout",
       "text": [
        "961 "
       ]
      },
      {
       "output_type": "stream",
       "stream": "stdout",
       "text": [
        "962 "
       ]
      },
      {
       "output_type": "stream",
       "stream": "stdout",
       "text": [
        "963 "
       ]
      },
      {
       "output_type": "stream",
       "stream": "stdout",
       "text": [
        "964 "
       ]
      },
      {
       "output_type": "stream",
       "stream": "stdout",
       "text": [
        "965 "
       ]
      },
      {
       "output_type": "stream",
       "stream": "stdout",
       "text": [
        "966 "
       ]
      },
      {
       "output_type": "stream",
       "stream": "stdout",
       "text": [
        "967 "
       ]
      },
      {
       "output_type": "stream",
       "stream": "stdout",
       "text": [
        "968 "
       ]
      },
      {
       "output_type": "stream",
       "stream": "stdout",
       "text": [
        "969 "
       ]
      },
      {
       "output_type": "stream",
       "stream": "stdout",
       "text": [
        "970 "
       ]
      },
      {
       "output_type": "stream",
       "stream": "stdout",
       "text": [
        "971 "
       ]
      },
      {
       "output_type": "stream",
       "stream": "stdout",
       "text": [
        "972 "
       ]
      },
      {
       "output_type": "stream",
       "stream": "stdout",
       "text": [
        "973 "
       ]
      },
      {
       "output_type": "stream",
       "stream": "stdout",
       "text": [
        "974 "
       ]
      },
      {
       "output_type": "stream",
       "stream": "stdout",
       "text": [
        "975 "
       ]
      },
      {
       "output_type": "stream",
       "stream": "stdout",
       "text": [
        "976 "
       ]
      },
      {
       "output_type": "stream",
       "stream": "stdout",
       "text": [
        "977 "
       ]
      },
      {
       "output_type": "stream",
       "stream": "stdout",
       "text": [
        "978 "
       ]
      },
      {
       "output_type": "stream",
       "stream": "stdout",
       "text": [
        "979 "
       ]
      },
      {
       "output_type": "stream",
       "stream": "stdout",
       "text": [
        "980 "
       ]
      },
      {
       "output_type": "stream",
       "stream": "stdout",
       "text": [
        "981 "
       ]
      },
      {
       "output_type": "stream",
       "stream": "stdout",
       "text": [
        "982 "
       ]
      },
      {
       "output_type": "stream",
       "stream": "stdout",
       "text": [
        "983 "
       ]
      },
      {
       "output_type": "stream",
       "stream": "stdout",
       "text": [
        "984 "
       ]
      },
      {
       "output_type": "stream",
       "stream": "stdout",
       "text": [
        "985 "
       ]
      },
      {
       "output_type": "stream",
       "stream": "stdout",
       "text": [
        "986 "
       ]
      },
      {
       "output_type": "stream",
       "stream": "stdout",
       "text": [
        "987 "
       ]
      },
      {
       "output_type": "stream",
       "stream": "stdout",
       "text": [
        "988 "
       ]
      },
      {
       "output_type": "stream",
       "stream": "stdout",
       "text": [
        "989 "
       ]
      },
      {
       "output_type": "stream",
       "stream": "stdout",
       "text": [
        "990 "
       ]
      },
      {
       "output_type": "stream",
       "stream": "stdout",
       "text": [
        "991 "
       ]
      },
      {
       "output_type": "stream",
       "stream": "stdout",
       "text": [
        "992 "
       ]
      },
      {
       "output_type": "stream",
       "stream": "stdout",
       "text": [
        "993 "
       ]
      },
      {
       "output_type": "stream",
       "stream": "stdout",
       "text": [
        "994 "
       ]
      },
      {
       "output_type": "stream",
       "stream": "stdout",
       "text": [
        "995 "
       ]
      },
      {
       "output_type": "stream",
       "stream": "stdout",
       "text": [
        "996 "
       ]
      },
      {
       "output_type": "stream",
       "stream": "stdout",
       "text": [
        "997 "
       ]
      },
      {
       "output_type": "stream",
       "stream": "stdout",
       "text": [
        "998 "
       ]
      },
      {
       "output_type": "stream",
       "stream": "stdout",
       "text": [
        "999 "
       ]
      },
      {
       "output_type": "stream",
       "stream": "stdout",
       "text": [
        "1000 "
       ]
      },
      {
       "output_type": "stream",
       "stream": "stdout",
       "text": [
        "1001 "
       ]
      },
      {
       "output_type": "stream",
       "stream": "stdout",
       "text": [
        "1002 "
       ]
      },
      {
       "output_type": "stream",
       "stream": "stdout",
       "text": [
        "1003 "
       ]
      },
      {
       "output_type": "stream",
       "stream": "stdout",
       "text": [
        "1004 "
       ]
      },
      {
       "output_type": "stream",
       "stream": "stdout",
       "text": [
        "1005 "
       ]
      },
      {
       "output_type": "stream",
       "stream": "stdout",
       "text": [
        "1006 "
       ]
      },
      {
       "output_type": "stream",
       "stream": "stdout",
       "text": [
        "1007 "
       ]
      },
      {
       "output_type": "stream",
       "stream": "stdout",
       "text": [
        "1008 "
       ]
      },
      {
       "output_type": "stream",
       "stream": "stdout",
       "text": [
        "1009 "
       ]
      },
      {
       "output_type": "stream",
       "stream": "stdout",
       "text": [
        "1010 "
       ]
      },
      {
       "output_type": "stream",
       "stream": "stdout",
       "text": [
        "1011 "
       ]
      },
      {
       "output_type": "stream",
       "stream": "stdout",
       "text": [
        "1012 "
       ]
      },
      {
       "output_type": "stream",
       "stream": "stdout",
       "text": [
        "1013 "
       ]
      },
      {
       "output_type": "stream",
       "stream": "stdout",
       "text": [
        "1014 "
       ]
      },
      {
       "output_type": "stream",
       "stream": "stdout",
       "text": [
        "1015 "
       ]
      },
      {
       "output_type": "stream",
       "stream": "stdout",
       "text": [
        "1016 "
       ]
      },
      {
       "output_type": "stream",
       "stream": "stdout",
       "text": [
        "1017 "
       ]
      },
      {
       "output_type": "stream",
       "stream": "stdout",
       "text": [
        "1018 "
       ]
      },
      {
       "output_type": "stream",
       "stream": "stdout",
       "text": [
        "1019 "
       ]
      },
      {
       "output_type": "stream",
       "stream": "stdout",
       "text": [
        "1020 "
       ]
      },
      {
       "output_type": "stream",
       "stream": "stdout",
       "text": [
        "1021 "
       ]
      },
      {
       "output_type": "stream",
       "stream": "stdout",
       "text": [
        "1022 "
       ]
      },
      {
       "output_type": "stream",
       "stream": "stdout",
       "text": [
        "1023 "
       ]
      },
      {
       "output_type": "stream",
       "stream": "stdout",
       "text": [
        "1024 "
       ]
      },
      {
       "output_type": "stream",
       "stream": "stdout",
       "text": [
        "1025 "
       ]
      },
      {
       "output_type": "stream",
       "stream": "stdout",
       "text": [
        "1026 "
       ]
      },
      {
       "output_type": "stream",
       "stream": "stdout",
       "text": [
        "1027 "
       ]
      },
      {
       "output_type": "stream",
       "stream": "stdout",
       "text": [
        "1028 "
       ]
      },
      {
       "output_type": "stream",
       "stream": "stdout",
       "text": [
        "1029 "
       ]
      },
      {
       "output_type": "stream",
       "stream": "stdout",
       "text": [
        "1030 "
       ]
      },
      {
       "output_type": "stream",
       "stream": "stdout",
       "text": [
        "1031 "
       ]
      },
      {
       "output_type": "stream",
       "stream": "stdout",
       "text": [
        "1032 "
       ]
      },
      {
       "output_type": "stream",
       "stream": "stdout",
       "text": [
        "1033 "
       ]
      },
      {
       "output_type": "stream",
       "stream": "stdout",
       "text": [
        "1034 "
       ]
      },
      {
       "output_type": "stream",
       "stream": "stdout",
       "text": [
        "1035 "
       ]
      },
      {
       "output_type": "stream",
       "stream": "stdout",
       "text": [
        "1036 "
       ]
      },
      {
       "output_type": "stream",
       "stream": "stdout",
       "text": [
        "1037 "
       ]
      },
      {
       "output_type": "stream",
       "stream": "stdout",
       "text": [
        "1038 "
       ]
      },
      {
       "output_type": "stream",
       "stream": "stdout",
       "text": [
        "1039 "
       ]
      },
      {
       "output_type": "stream",
       "stream": "stdout",
       "text": [
        "1040 "
       ]
      },
      {
       "output_type": "stream",
       "stream": "stdout",
       "text": [
        "1041 "
       ]
      },
      {
       "output_type": "stream",
       "stream": "stdout",
       "text": [
        "1042 "
       ]
      },
      {
       "output_type": "stream",
       "stream": "stdout",
       "text": [
        "1043 "
       ]
      },
      {
       "output_type": "stream",
       "stream": "stdout",
       "text": [
        "1044 "
       ]
      },
      {
       "output_type": "stream",
       "stream": "stdout",
       "text": [
        "1045 "
       ]
      },
      {
       "output_type": "stream",
       "stream": "stdout",
       "text": [
        "1046 "
       ]
      },
      {
       "output_type": "stream",
       "stream": "stdout",
       "text": [
        "1047 "
       ]
      },
      {
       "output_type": "stream",
       "stream": "stdout",
       "text": [
        "1048 "
       ]
      },
      {
       "output_type": "stream",
       "stream": "stdout",
       "text": [
        "1049 "
       ]
      },
      {
       "output_type": "stream",
       "stream": "stdout",
       "text": [
        "1050 "
       ]
      },
      {
       "output_type": "stream",
       "stream": "stdout",
       "text": [
        "1051 "
       ]
      },
      {
       "output_type": "stream",
       "stream": "stdout",
       "text": [
        "1052 "
       ]
      },
      {
       "output_type": "stream",
       "stream": "stdout",
       "text": [
        "1053 "
       ]
      },
      {
       "output_type": "stream",
       "stream": "stdout",
       "text": [
        "1054 "
       ]
      },
      {
       "output_type": "stream",
       "stream": "stdout",
       "text": [
        "1055 "
       ]
      },
      {
       "output_type": "stream",
       "stream": "stdout",
       "text": [
        "1056 "
       ]
      },
      {
       "output_type": "stream",
       "stream": "stdout",
       "text": [
        "1057 "
       ]
      },
      {
       "output_type": "stream",
       "stream": "stdout",
       "text": [
        "1058 "
       ]
      },
      {
       "output_type": "stream",
       "stream": "stdout",
       "text": [
        "1059 "
       ]
      },
      {
       "output_type": "stream",
       "stream": "stdout",
       "text": [
        "1060 "
       ]
      },
      {
       "output_type": "stream",
       "stream": "stdout",
       "text": [
        "1061 "
       ]
      },
      {
       "output_type": "stream",
       "stream": "stdout",
       "text": [
        "1062 "
       ]
      },
      {
       "output_type": "stream",
       "stream": "stdout",
       "text": [
        "1063 "
       ]
      },
      {
       "output_type": "stream",
       "stream": "stdout",
       "text": [
        "1064 "
       ]
      },
      {
       "output_type": "stream",
       "stream": "stdout",
       "text": [
        "1065 "
       ]
      },
      {
       "output_type": "stream",
       "stream": "stdout",
       "text": [
        "1066 "
       ]
      },
      {
       "output_type": "stream",
       "stream": "stdout",
       "text": [
        "1067 "
       ]
      },
      {
       "output_type": "stream",
       "stream": "stdout",
       "text": [
        "1068 "
       ]
      },
      {
       "output_type": "stream",
       "stream": "stdout",
       "text": [
        "1069 "
       ]
      },
      {
       "output_type": "stream",
       "stream": "stdout",
       "text": [
        "1070 "
       ]
      },
      {
       "output_type": "stream",
       "stream": "stdout",
       "text": [
        "1071 "
       ]
      },
      {
       "output_type": "stream",
       "stream": "stdout",
       "text": [
        "1072 "
       ]
      },
      {
       "output_type": "stream",
       "stream": "stdout",
       "text": [
        "1073 "
       ]
      },
      {
       "output_type": "stream",
       "stream": "stdout",
       "text": [
        "1074 "
       ]
      },
      {
       "output_type": "stream",
       "stream": "stdout",
       "text": [
        "1075 "
       ]
      },
      {
       "output_type": "stream",
       "stream": "stdout",
       "text": [
        "1076 "
       ]
      },
      {
       "output_type": "stream",
       "stream": "stdout",
       "text": [
        "1077 "
       ]
      },
      {
       "output_type": "stream",
       "stream": "stdout",
       "text": [
        "1078 "
       ]
      },
      {
       "output_type": "stream",
       "stream": "stdout",
       "text": [
        "1079 "
       ]
      },
      {
       "output_type": "stream",
       "stream": "stdout",
       "text": [
        "1080 "
       ]
      },
      {
       "output_type": "stream",
       "stream": "stdout",
       "text": [
        "1081 "
       ]
      },
      {
       "output_type": "stream",
       "stream": "stdout",
       "text": [
        "1082 "
       ]
      },
      {
       "output_type": "stream",
       "stream": "stdout",
       "text": [
        "1083 "
       ]
      },
      {
       "output_type": "stream",
       "stream": "stdout",
       "text": [
        "1084 "
       ]
      },
      {
       "output_type": "stream",
       "stream": "stdout",
       "text": [
        "1085 "
       ]
      },
      {
       "output_type": "stream",
       "stream": "stdout",
       "text": [
        "1086 "
       ]
      },
      {
       "output_type": "stream",
       "stream": "stdout",
       "text": [
        "1087 "
       ]
      },
      {
       "output_type": "stream",
       "stream": "stdout",
       "text": [
        "1088 "
       ]
      },
      {
       "output_type": "stream",
       "stream": "stdout",
       "text": [
        "1089 "
       ]
      },
      {
       "output_type": "stream",
       "stream": "stdout",
       "text": [
        "1090 "
       ]
      },
      {
       "output_type": "stream",
       "stream": "stdout",
       "text": [
        "1091 "
       ]
      },
      {
       "output_type": "stream",
       "stream": "stdout",
       "text": [
        "1092 "
       ]
      },
      {
       "output_type": "stream",
       "stream": "stdout",
       "text": [
        "1093 "
       ]
      },
      {
       "output_type": "stream",
       "stream": "stdout",
       "text": [
        "1094 "
       ]
      },
      {
       "output_type": "stream",
       "stream": "stdout",
       "text": [
        "1095 "
       ]
      },
      {
       "output_type": "stream",
       "stream": "stdout",
       "text": [
        "1096 "
       ]
      },
      {
       "output_type": "stream",
       "stream": "stdout",
       "text": [
        "1097 "
       ]
      },
      {
       "output_type": "stream",
       "stream": "stdout",
       "text": [
        "1098 "
       ]
      },
      {
       "output_type": "stream",
       "stream": "stdout",
       "text": [
        "1099 "
       ]
      },
      {
       "output_type": "stream",
       "stream": "stdout",
       "text": [
        "1100 "
       ]
      },
      {
       "output_type": "stream",
       "stream": "stdout",
       "text": [
        "1101 "
       ]
      },
      {
       "output_type": "stream",
       "stream": "stdout",
       "text": [
        "1102 "
       ]
      },
      {
       "output_type": "stream",
       "stream": "stdout",
       "text": [
        "1103 "
       ]
      },
      {
       "output_type": "stream",
       "stream": "stdout",
       "text": [
        "1104 "
       ]
      },
      {
       "output_type": "stream",
       "stream": "stdout",
       "text": [
        "1105 "
       ]
      },
      {
       "output_type": "stream",
       "stream": "stdout",
       "text": [
        "1106 "
       ]
      },
      {
       "output_type": "stream",
       "stream": "stdout",
       "text": [
        "1107 "
       ]
      },
      {
       "output_type": "stream",
       "stream": "stdout",
       "text": [
        "1108 "
       ]
      },
      {
       "output_type": "stream",
       "stream": "stdout",
       "text": [
        "1109 "
       ]
      },
      {
       "output_type": "stream",
       "stream": "stdout",
       "text": [
        "1110 "
       ]
      },
      {
       "output_type": "stream",
       "stream": "stdout",
       "text": [
        "1111 "
       ]
      },
      {
       "output_type": "stream",
       "stream": "stdout",
       "text": [
        "1112 "
       ]
      },
      {
       "output_type": "stream",
       "stream": "stdout",
       "text": [
        "1113 "
       ]
      },
      {
       "output_type": "stream",
       "stream": "stdout",
       "text": [
        "1114 "
       ]
      },
      {
       "output_type": "stream",
       "stream": "stdout",
       "text": [
        "1115 "
       ]
      },
      {
       "output_type": "stream",
       "stream": "stdout",
       "text": [
        "1116 "
       ]
      },
      {
       "output_type": "stream",
       "stream": "stdout",
       "text": [
        "1117 "
       ]
      },
      {
       "output_type": "stream",
       "stream": "stdout",
       "text": [
        "1118 "
       ]
      },
      {
       "output_type": "stream",
       "stream": "stdout",
       "text": [
        "1119 "
       ]
      },
      {
       "output_type": "stream",
       "stream": "stdout",
       "text": [
        "1120 "
       ]
      },
      {
       "output_type": "stream",
       "stream": "stdout",
       "text": [
        "1121 "
       ]
      },
      {
       "output_type": "stream",
       "stream": "stdout",
       "text": [
        "1122 "
       ]
      },
      {
       "output_type": "stream",
       "stream": "stdout",
       "text": [
        "1123 "
       ]
      },
      {
       "output_type": "stream",
       "stream": "stdout",
       "text": [
        "1124 "
       ]
      },
      {
       "output_type": "stream",
       "stream": "stdout",
       "text": [
        "1125 "
       ]
      },
      {
       "output_type": "stream",
       "stream": "stdout",
       "text": [
        "1126 "
       ]
      },
      {
       "output_type": "stream",
       "stream": "stdout",
       "text": [
        "1127 "
       ]
      },
      {
       "output_type": "stream",
       "stream": "stdout",
       "text": [
        "1128 "
       ]
      },
      {
       "output_type": "stream",
       "stream": "stdout",
       "text": [
        "1129 "
       ]
      },
      {
       "output_type": "stream",
       "stream": "stdout",
       "text": [
        "1130 "
       ]
      },
      {
       "output_type": "stream",
       "stream": "stdout",
       "text": [
        "1131 "
       ]
      },
      {
       "output_type": "stream",
       "stream": "stdout",
       "text": [
        "1132 "
       ]
      },
      {
       "output_type": "stream",
       "stream": "stdout",
       "text": [
        "1133 "
       ]
      },
      {
       "output_type": "stream",
       "stream": "stdout",
       "text": [
        "1134 "
       ]
      },
      {
       "output_type": "stream",
       "stream": "stdout",
       "text": [
        "1135 "
       ]
      },
      {
       "output_type": "stream",
       "stream": "stdout",
       "text": [
        "1136 "
       ]
      },
      {
       "output_type": "stream",
       "stream": "stdout",
       "text": [
        "1137 "
       ]
      },
      {
       "output_type": "stream",
       "stream": "stdout",
       "text": [
        "1138 "
       ]
      },
      {
       "output_type": "stream",
       "stream": "stdout",
       "text": [
        "1139 "
       ]
      },
      {
       "output_type": "stream",
       "stream": "stdout",
       "text": [
        "1140 "
       ]
      },
      {
       "output_type": "stream",
       "stream": "stdout",
       "text": [
        "1141 "
       ]
      },
      {
       "output_type": "stream",
       "stream": "stdout",
       "text": [
        "1142 "
       ]
      },
      {
       "output_type": "stream",
       "stream": "stdout",
       "text": [
        "1143 "
       ]
      },
      {
       "output_type": "stream",
       "stream": "stdout",
       "text": [
        "1144 "
       ]
      },
      {
       "output_type": "stream",
       "stream": "stdout",
       "text": [
        "1145 "
       ]
      },
      {
       "output_type": "stream",
       "stream": "stdout",
       "text": [
        "1146 "
       ]
      },
      {
       "output_type": "stream",
       "stream": "stdout",
       "text": [
        "1147 "
       ]
      },
      {
       "output_type": "stream",
       "stream": "stdout",
       "text": [
        "1148 "
       ]
      },
      {
       "output_type": "stream",
       "stream": "stdout",
       "text": [
        "1149 "
       ]
      },
      {
       "output_type": "stream",
       "stream": "stdout",
       "text": [
        "1150 "
       ]
      },
      {
       "output_type": "stream",
       "stream": "stdout",
       "text": [
        "1151 "
       ]
      },
      {
       "output_type": "stream",
       "stream": "stdout",
       "text": [
        "1152 "
       ]
      },
      {
       "output_type": "stream",
       "stream": "stdout",
       "text": [
        "1153 "
       ]
      },
      {
       "output_type": "stream",
       "stream": "stdout",
       "text": [
        "1154 "
       ]
      },
      {
       "output_type": "stream",
       "stream": "stdout",
       "text": [
        "1155 "
       ]
      },
      {
       "output_type": "stream",
       "stream": "stdout",
       "text": [
        "1156 "
       ]
      },
      {
       "output_type": "stream",
       "stream": "stdout",
       "text": [
        "1157 "
       ]
      },
      {
       "output_type": "stream",
       "stream": "stdout",
       "text": [
        "1158 "
       ]
      },
      {
       "output_type": "stream",
       "stream": "stdout",
       "text": [
        "1159 "
       ]
      },
      {
       "output_type": "stream",
       "stream": "stdout",
       "text": [
        "1160 "
       ]
      },
      {
       "output_type": "stream",
       "stream": "stdout",
       "text": [
        "1161 "
       ]
      },
      {
       "output_type": "stream",
       "stream": "stdout",
       "text": [
        "1162 "
       ]
      },
      {
       "output_type": "stream",
       "stream": "stdout",
       "text": [
        "1163 "
       ]
      },
      {
       "output_type": "stream",
       "stream": "stdout",
       "text": [
        "1164 "
       ]
      },
      {
       "output_type": "stream",
       "stream": "stdout",
       "text": [
        "1165 "
       ]
      },
      {
       "output_type": "stream",
       "stream": "stdout",
       "text": [
        "1166 "
       ]
      },
      {
       "output_type": "stream",
       "stream": "stdout",
       "text": [
        "1167 "
       ]
      },
      {
       "output_type": "stream",
       "stream": "stdout",
       "text": [
        "1168 "
       ]
      },
      {
       "output_type": "stream",
       "stream": "stdout",
       "text": [
        "1169 "
       ]
      },
      {
       "output_type": "stream",
       "stream": "stdout",
       "text": [
        "1170 "
       ]
      },
      {
       "output_type": "stream",
       "stream": "stdout",
       "text": [
        "1171 "
       ]
      },
      {
       "output_type": "stream",
       "stream": "stdout",
       "text": [
        "1172 "
       ]
      },
      {
       "output_type": "stream",
       "stream": "stdout",
       "text": [
        "1173 "
       ]
      },
      {
       "output_type": "stream",
       "stream": "stdout",
       "text": [
        "1174 "
       ]
      },
      {
       "output_type": "stream",
       "stream": "stdout",
       "text": [
        "1175 "
       ]
      },
      {
       "output_type": "stream",
       "stream": "stdout",
       "text": [
        "1176 "
       ]
      },
      {
       "output_type": "stream",
       "stream": "stdout",
       "text": [
        "1177 "
       ]
      },
      {
       "output_type": "stream",
       "stream": "stdout",
       "text": [
        "1178 "
       ]
      },
      {
       "output_type": "stream",
       "stream": "stdout",
       "text": [
        "1179 "
       ]
      },
      {
       "output_type": "stream",
       "stream": "stdout",
       "text": [
        "1180 "
       ]
      },
      {
       "output_type": "stream",
       "stream": "stdout",
       "text": [
        "1181 "
       ]
      },
      {
       "output_type": "stream",
       "stream": "stdout",
       "text": [
        "1182 "
       ]
      },
      {
       "output_type": "stream",
       "stream": "stdout",
       "text": [
        "1183 "
       ]
      },
      {
       "output_type": "stream",
       "stream": "stdout",
       "text": [
        "1184 "
       ]
      },
      {
       "output_type": "stream",
       "stream": "stdout",
       "text": [
        "1185 "
       ]
      },
      {
       "output_type": "stream",
       "stream": "stdout",
       "text": [
        "1186 "
       ]
      },
      {
       "output_type": "stream",
       "stream": "stdout",
       "text": [
        "1187 "
       ]
      },
      {
       "output_type": "stream",
       "stream": "stdout",
       "text": [
        "1188 "
       ]
      },
      {
       "output_type": "stream",
       "stream": "stdout",
       "text": [
        "1189 "
       ]
      },
      {
       "output_type": "stream",
       "stream": "stdout",
       "text": [
        "1190 "
       ]
      },
      {
       "output_type": "stream",
       "stream": "stdout",
       "text": [
        "1191 "
       ]
      },
      {
       "output_type": "stream",
       "stream": "stdout",
       "text": [
        "1192 "
       ]
      },
      {
       "output_type": "stream",
       "stream": "stdout",
       "text": [
        "1193 "
       ]
      },
      {
       "output_type": "stream",
       "stream": "stdout",
       "text": [
        "1194 "
       ]
      },
      {
       "output_type": "stream",
       "stream": "stdout",
       "text": [
        "1195 "
       ]
      },
      {
       "output_type": "stream",
       "stream": "stdout",
       "text": [
        "1196 "
       ]
      },
      {
       "output_type": "stream",
       "stream": "stdout",
       "text": [
        "1197 "
       ]
      },
      {
       "output_type": "stream",
       "stream": "stdout",
       "text": [
        "1198 "
       ]
      },
      {
       "output_type": "stream",
       "stream": "stdout",
       "text": [
        "1199 "
       ]
      },
      {
       "output_type": "stream",
       "stream": "stdout",
       "text": [
        "1200 "
       ]
      },
      {
       "output_type": "stream",
       "stream": "stdout",
       "text": [
        "1201 "
       ]
      },
      {
       "output_type": "stream",
       "stream": "stdout",
       "text": [
        "1202 "
       ]
      },
      {
       "output_type": "stream",
       "stream": "stdout",
       "text": [
        "1203 "
       ]
      },
      {
       "output_type": "stream",
       "stream": "stdout",
       "text": [
        "1204 "
       ]
      },
      {
       "output_type": "stream",
       "stream": "stdout",
       "text": [
        "1205 "
       ]
      },
      {
       "output_type": "stream",
       "stream": "stdout",
       "text": [
        "1206 "
       ]
      },
      {
       "output_type": "stream",
       "stream": "stdout",
       "text": [
        "1207 "
       ]
      },
      {
       "output_type": "stream",
       "stream": "stdout",
       "text": [
        "1208 "
       ]
      },
      {
       "output_type": "stream",
       "stream": "stdout",
       "text": [
        "1209 "
       ]
      },
      {
       "output_type": "stream",
       "stream": "stdout",
       "text": [
        "1210 "
       ]
      },
      {
       "output_type": "stream",
       "stream": "stdout",
       "text": [
        "1211 "
       ]
      },
      {
       "output_type": "stream",
       "stream": "stdout",
       "text": [
        "1212 "
       ]
      },
      {
       "output_type": "stream",
       "stream": "stdout",
       "text": [
        "1213 "
       ]
      },
      {
       "output_type": "stream",
       "stream": "stdout",
       "text": [
        "1214 "
       ]
      },
      {
       "output_type": "stream",
       "stream": "stdout",
       "text": [
        "1215 "
       ]
      },
      {
       "output_type": "stream",
       "stream": "stdout",
       "text": [
        "1216 "
       ]
      },
      {
       "output_type": "stream",
       "stream": "stdout",
       "text": [
        "1217 "
       ]
      },
      {
       "output_type": "stream",
       "stream": "stdout",
       "text": [
        "1218 "
       ]
      },
      {
       "output_type": "stream",
       "stream": "stdout",
       "text": [
        "1219 "
       ]
      },
      {
       "output_type": "stream",
       "stream": "stdout",
       "text": [
        "1220 "
       ]
      },
      {
       "output_type": "stream",
       "stream": "stdout",
       "text": [
        "1221 "
       ]
      },
      {
       "output_type": "stream",
       "stream": "stdout",
       "text": [
        "1222 "
       ]
      },
      {
       "output_type": "stream",
       "stream": "stdout",
       "text": [
        "1223 "
       ]
      },
      {
       "output_type": "stream",
       "stream": "stdout",
       "text": [
        "1224 "
       ]
      },
      {
       "output_type": "stream",
       "stream": "stdout",
       "text": [
        "1225 "
       ]
      },
      {
       "output_type": "stream",
       "stream": "stdout",
       "text": [
        "1226 "
       ]
      },
      {
       "output_type": "stream",
       "stream": "stdout",
       "text": [
        "1227 "
       ]
      },
      {
       "output_type": "stream",
       "stream": "stdout",
       "text": [
        "1228 "
       ]
      },
      {
       "output_type": "stream",
       "stream": "stdout",
       "text": [
        "1229 "
       ]
      },
      {
       "output_type": "stream",
       "stream": "stdout",
       "text": [
        "1230 "
       ]
      },
      {
       "output_type": "stream",
       "stream": "stdout",
       "text": [
        "1231 "
       ]
      },
      {
       "output_type": "stream",
       "stream": "stdout",
       "text": [
        "1232 "
       ]
      },
      {
       "output_type": "stream",
       "stream": "stdout",
       "text": [
        "1233 "
       ]
      },
      {
       "output_type": "stream",
       "stream": "stdout",
       "text": [
        "1234 "
       ]
      },
      {
       "output_type": "stream",
       "stream": "stdout",
       "text": [
        "1235 "
       ]
      },
      {
       "output_type": "stream",
       "stream": "stdout",
       "text": [
        "1236 "
       ]
      },
      {
       "output_type": "stream",
       "stream": "stdout",
       "text": [
        "1237 "
       ]
      },
      {
       "output_type": "stream",
       "stream": "stdout",
       "text": [
        "1238 "
       ]
      },
      {
       "output_type": "stream",
       "stream": "stdout",
       "text": [
        "1239 "
       ]
      },
      {
       "output_type": "stream",
       "stream": "stdout",
       "text": [
        "1240 "
       ]
      },
      {
       "output_type": "stream",
       "stream": "stdout",
       "text": [
        "1241 "
       ]
      },
      {
       "output_type": "stream",
       "stream": "stdout",
       "text": [
        "1242 "
       ]
      },
      {
       "output_type": "stream",
       "stream": "stdout",
       "text": [
        "1243 "
       ]
      },
      {
       "output_type": "stream",
       "stream": "stdout",
       "text": [
        "1244 "
       ]
      },
      {
       "output_type": "stream",
       "stream": "stdout",
       "text": [
        "1245 "
       ]
      },
      {
       "output_type": "stream",
       "stream": "stdout",
       "text": [
        "1246 "
       ]
      },
      {
       "output_type": "stream",
       "stream": "stdout",
       "text": [
        "1247 "
       ]
      },
      {
       "output_type": "stream",
       "stream": "stdout",
       "text": [
        "1248 "
       ]
      },
      {
       "output_type": "stream",
       "stream": "stdout",
       "text": [
        "1249 "
       ]
      },
      {
       "output_type": "stream",
       "stream": "stdout",
       "text": [
        "1250 "
       ]
      },
      {
       "output_type": "stream",
       "stream": "stdout",
       "text": [
        "1251 "
       ]
      },
      {
       "output_type": "stream",
       "stream": "stdout",
       "text": [
        "1252 "
       ]
      },
      {
       "output_type": "stream",
       "stream": "stdout",
       "text": [
        "1253 "
       ]
      },
      {
       "output_type": "stream",
       "stream": "stdout",
       "text": [
        "1254 "
       ]
      },
      {
       "output_type": "stream",
       "stream": "stdout",
       "text": [
        "1255 "
       ]
      },
      {
       "output_type": "stream",
       "stream": "stdout",
       "text": [
        "1256 "
       ]
      },
      {
       "output_type": "stream",
       "stream": "stdout",
       "text": [
        "1257 "
       ]
      },
      {
       "output_type": "stream",
       "stream": "stdout",
       "text": [
        "1258 "
       ]
      },
      {
       "output_type": "stream",
       "stream": "stdout",
       "text": [
        "1259 "
       ]
      },
      {
       "output_type": "stream",
       "stream": "stdout",
       "text": [
        "1260 "
       ]
      },
      {
       "output_type": "stream",
       "stream": "stdout",
       "text": [
        "1261 "
       ]
      },
      {
       "output_type": "stream",
       "stream": "stdout",
       "text": [
        "1262 "
       ]
      },
      {
       "output_type": "stream",
       "stream": "stdout",
       "text": [
        "1263 "
       ]
      },
      {
       "output_type": "stream",
       "stream": "stdout",
       "text": [
        "1264 "
       ]
      },
      {
       "output_type": "stream",
       "stream": "stdout",
       "text": [
        "1265 "
       ]
      },
      {
       "output_type": "stream",
       "stream": "stdout",
       "text": [
        "1266 "
       ]
      },
      {
       "output_type": "stream",
       "stream": "stdout",
       "text": [
        "1267 "
       ]
      },
      {
       "output_type": "stream",
       "stream": "stdout",
       "text": [
        "1268 "
       ]
      },
      {
       "output_type": "stream",
       "stream": "stdout",
       "text": [
        "1269 "
       ]
      },
      {
       "output_type": "stream",
       "stream": "stdout",
       "text": [
        "1270 "
       ]
      },
      {
       "output_type": "stream",
       "stream": "stdout",
       "text": [
        "1271 "
       ]
      },
      {
       "output_type": "stream",
       "stream": "stdout",
       "text": [
        "1272 "
       ]
      },
      {
       "output_type": "stream",
       "stream": "stdout",
       "text": [
        "1273 "
       ]
      },
      {
       "output_type": "stream",
       "stream": "stdout",
       "text": [
        "1274 "
       ]
      },
      {
       "output_type": "stream",
       "stream": "stdout",
       "text": [
        "1275 "
       ]
      },
      {
       "output_type": "stream",
       "stream": "stdout",
       "text": [
        "1276 "
       ]
      },
      {
       "output_type": "stream",
       "stream": "stdout",
       "text": [
        "1277 "
       ]
      },
      {
       "output_type": "stream",
       "stream": "stdout",
       "text": [
        "1278 "
       ]
      },
      {
       "output_type": "stream",
       "stream": "stdout",
       "text": [
        "1279\n"
       ]
      }
     ],
     "prompt_number": 85
    },
    {
     "cell_type": "code",
     "collapsed": false,
     "input": [
      "# gwv.showCustomGraph(distMat)\n",
      "# np.save(\"/media/ilisescu/Data1/PhD/data/ribbon2/linear_regression_distMat.npy\", distMat)\n",
      "# gwv.showCustomGraph(((imagesGrayData[:, i:i+1]-imagesGrayData[:, 400:400+1])**2.0*weights).reshape(newShape))\n",
      "# print np.sum((imagesGrayData[:, i:i+1]-imagesGrayData[:, 400:400+1])**2.0*weights)\n",
      "# print np.dot(((imagesGrayData[:, i:i+1]-imagesGrayData[:, 400:400+1])**2.0).T, weights)"
     ],
     "language": "python",
     "metadata": {},
     "outputs": [],
     "prompt_number": 87
    },
    {
     "cell_type": "code",
     "collapsed": false,
     "input": [
      "figure()\n",
      "weightSubset = len(goodExamplesStarMovement[0])\n",
      "plot(np.sqrt(np.dot(X.T[:len(goodPairsIdxs.T), weightSubset:], sio.loadmat(phiSaveLoc)['phi_MAP'][weightSubset:, :])))\n",
      "plot(arange(len(goodPairsIdxs.T), len(X.T)), np.sqrt(np.dot(X.T[len(goodPairsIdxs.T):, weightSubset:], sio.loadmat(phiSaveLoc)['phi_MAP'][weightSubset:, :])))\n",
      "figure()\n",
      "plot(np.sqrt(np.dot(X.T[:len(goodPairsIdxs.T), weightSubset:], np.ones_like(sio.loadmat(phiSaveLoc)['phi_MAP'][weightSubset:, :]))))\n",
      "plot(arange(len(goodPairsIdxs.T), len(X.T)), np.sqrt(np.dot(X.T[len(goodPairsIdxs.T):, weightSubset:], np.ones_like(sio.loadmat(phiSaveLoc)['phi_MAP'][weightSubset:, :]))))"
     ],
     "language": "python",
     "metadata": {},
     "outputs": [
      {
       "metadata": {},
       "output_type": "pyout",
       "prompt_number": 50,
       "text": [
        "[<matplotlib.lines.Line2D at 0x7f627a4a0190>]"
       ]
      }
     ],
     "prompt_number": 50
    },
    {
     "cell_type": "code",
     "collapsed": false,
     "input": [
      "## color average and flow intensity on 5x5 grid with sigmoid\n",
      "print \"Weighted\", np.sum(np.sqrt((np.sqrt(np.dot(X.T, sio.loadmat(phiSaveLoc)['phi_MAP']))-w)**2))/X.shape[-1], \n",
      "print \"L2\", np.sum(np.sqrt((np.sqrt(np.dot(X.T, np.ones_like(sio.loadmat(phiSaveLoc)['phi_MAP'])))-w)**2))/X.shape[-1]"
     ],
     "language": "python",
     "metadata": {},
     "outputs": [
      {
       "output_type": "stream",
       "stream": "stdout",
       "text": [
        "Weighted "
       ]
      },
      {
       "output_type": "stream",
       "stream": "stdout",
       "text": [
        "1.48368197002 L2 "
       ]
      },
      {
       "output_type": "stream",
       "stream": "stdout",
       "text": [
        "18.6268980883\n"
       ]
      }
     ],
     "prompt_number": 22
    },
    {
     "cell_type": "code",
     "collapsed": false,
     "input": [
      "## color average and flow intensity on 5x5 grid with sigmoid\n",
      "print \"Weighted\", np.sum(np.sqrt((np.sqrt(np.dot(X.T, sio.loadmat(phiSaveLoc)['phi_MAP']))-w)**2))/X.shape[-1], \n",
      "print \"L2\", np.sum(np.sqrt((np.sqrt(np.dot(X.T, np.ones_like(sio.loadmat(phiSaveLoc)['phi_MAP'])))-w)**2))/X.shape[-1]"
     ],
     "language": "python",
     "metadata": {},
     "outputs": [
      {
       "output_type": "stream",
       "stream": "stdout",
       "text": [
        "Weighted 0.655906970208 L2 5071.52729306\n"
       ]
      }
     ],
     "prompt_number": 794
    },
    {
     "cell_type": "code",
     "collapsed": false,
     "input": [
      "## color average and flow intensity on 5x5 grid with sigmoid\n",
      "print \"Weighted\", np.sum(np.sqrt((np.sqrt(np.dot(X.T, sio.loadmat(phiSaveLoc)['phi_MAP']))-w)**2))/X.shape[-1], \n",
      "print \"L2\", np.sum(np.sqrt((np.sqrt(np.dot(X.T, np.ones_like(sio.loadmat(phiSaveLoc)['phi_MAP'])))-w)**2))/X.shape[-1]"
     ],
     "language": "python",
     "metadata": {},
     "outputs": [
      {
       "output_type": "stream",
       "stream": "stdout",
       "text": [
        "Weighted 0.611565485472 L2 5071.4517294\n"
       ]
      }
     ],
     "prompt_number": 798
    },
    {
     "cell_type": "code",
     "collapsed": false,
     "input": [
      "## color average and flow intensity on 5x5 grid with sigmoid\n",
      "print \"Weighted\", np.sum(np.sqrt((np.sqrt(np.dot(X.T, sio.loadmat(phiSaveLoc)['phi_MAP']))-w)**2))/X.shape[-1], \n",
      "print \"L2\", np.sum(np.sqrt((np.sqrt(np.dot(X.T, np.ones_like(sio.loadmat(phiSaveLoc)['phi_MAP'])))-w)**2))/X.shape[-1]\n",
      "print 4.21937917707/0.303323752561, 4.07502075956/0.298591493111"
     ],
     "language": "python",
     "metadata": {},
     "outputs": [
      {
       "output_type": "stream",
       "stream": "stdout",
       "text": [
        "Weighted 0.303323752561 L2 4.21937917707\n",
        "13.9104806051 13.6474777533\n"
       ]
      }
     ],
     "prompt_number": 173
    },
    {
     "cell_type": "code",
     "collapsed": false,
     "input": [
      "## color average on 5x5 grid\n",
      "print \"Weighted\", np.sum(np.sqrt((np.sqrt(np.dot(X.T, sio.loadmat(phiSaveLoc)['phi_MAP']))-w)**2))/X.shape[-1], \n",
      "print \"L2\", np.sum(np.sqrt((np.sqrt(np.dot(X.T, np.ones_like(sio.loadmat(phiSaveLoc)['phi_MAP'])))-w)**2))/X.shape[-1]"
     ],
     "language": "python",
     "metadata": {},
     "outputs": [
      {
       "output_type": "stream",
       "stream": "stdout",
       "text": [
        "Weighted 0.200619451223 L2 0.223757893337\n"
       ]
      }
     ],
     "prompt_number": 96
    },
    {
     "cell_type": "code",
     "collapsed": false,
     "input": [
      "## color average and flow intensity on 5x5 grid\n",
      "print \"Weighted\", np.sum(np.sqrt((np.sqrt(np.dot(X.T, sio.loadmat(phiSaveLoc)['phi_MAP']))-w)**2))/X.shape[-1], \n",
      "print \"L2\", np.sum(np.sqrt((np.sqrt(np.dot(X.T, np.ones_like(sio.loadmat(phiSaveLoc)['phi_MAP'])))-w)**2))/X.shape[-1]"
     ],
     "language": "python",
     "metadata": {},
     "outputs": [
      {
       "output_type": "stream",
       "stream": "stdout",
       "text": [
        "Weighted 0.298591493111 L2 4.07502075956\n"
       ]
      }
     ],
     "prompt_number": 133
    },
    {
     "cell_type": "code",
     "collapsed": false,
     "input": [
      "## color average, flow intensity and complement diff on 5x5 grid \n",
      "print \"Weighted\", np.sum(np.sqrt((np.sqrt(np.dot(X.T, sio.loadmat(phiSaveLoc)['phi_MAP']))-w)**2))/X.shape[-1], \n",
      "print \"L2\", np.sum(np.sqrt((np.sqrt(np.dot(X.T, np.ones_like(sio.loadmat(phiSaveLoc)['phi_MAP'])))-w)**2))/X.shape[-1]"
     ],
     "language": "python",
     "metadata": {},
     "outputs": [
      {
       "output_type": "stream",
       "stream": "stdout",
       "text": [
        "Weighted 0.342983986828 L2 5.41375392045\n"
       ]
      }
     ],
     "prompt_number": 129
    },
    {
     "cell_type": "code",
     "collapsed": false,
     "input": [
      "## color average on 10x10 grid wrong flow\n",
      "print \"Weighted\", np.sum(np.sqrt((np.sqrt(np.dot(X.T, sio.loadmat(phiSaveLoc)['phi_MAP']))-w)**2))/X.shape[-1], \n",
      "print \"L2\", np.sum(np.sqrt((np.sqrt(np.dot(X.T, np.ones_like(sio.loadmat(phiSaveLoc)['phi_MAP'])))-w)**2))/X.shape[-1]"
     ],
     "language": "python",
     "metadata": {},
     "outputs": [
      {
       "output_type": "stream",
       "stream": "stdout",
       "text": [
        "Weighted 0.26811352868 L2 0.431326521301\n"
       ]
      }
     ],
     "prompt_number": 83
    },
    {
     "cell_type": "code",
     "collapsed": false,
     "input": [
      "## color average and flow intensity on 10x10 grid wrong flow\n",
      "print \"Weighted\", np.sum(np.sqrt((np.sqrt(np.dot(X.T, sio.loadmat(phiSaveLoc)['phi_MAP']))-w)**2))/X.shape[-1], \n",
      "print \"L2\", np.sum(np.sqrt((np.sqrt(np.dot(X.T, np.ones_like(sio.loadmat(phiSaveLoc)['phi_MAP'])))-w)**2))/X.shape[-1]"
     ],
     "language": "python",
     "metadata": {},
     "outputs": [
      {
       "output_type": "stream",
       "stream": "stdout",
       "text": [
        "Weighted 0.268148333358 L2 0.4313602179\n"
       ]
      }
     ],
     "prompt_number": 86
    },
    {
     "cell_type": "code",
     "collapsed": false,
     "input": [
      "## color average and flow intensity on 10x10 grid with sigmoid\n",
      "print \"Weighted\", np.sum(np.sqrt((np.sqrt(np.dot(X.T, sio.loadmat(phiSaveLoc)['phi_MAP']))-w)**2))/X.shape[-1], \n",
      "print \"L2\", np.sum(np.sqrt((np.sqrt(np.dot(X.T, np.ones_like(sio.loadmat(phiSaveLoc)['phi_MAP'])))-w)**2))/X.shape[-1]"
     ],
     "language": "python",
     "metadata": {},
     "outputs": [
      {
       "output_type": "stream",
       "stream": "stdout",
       "text": [
        "Weighted 0.411140783451 L2 8.45493915206\n"
       ]
      }
     ],
     "prompt_number": 212
    },
    {
     "cell_type": "code",
     "collapsed": false,
     "input": [
      "## color average and flow intensity on 10x10 grid no sigmoid\n",
      "print \"Weighted\", np.sum(np.sqrt((np.sqrt(np.dot(X.T, sio.loadmat(phiSaveLoc)['phi_MAP']))-w)**2))/X.shape[-1], \n",
      "print \"L2\", np.sum(np.sqrt((np.sqrt(np.dot(X.T, np.ones_like(sio.loadmat(phiSaveLoc)['phi_MAP'])))-w)**2))/X.shape[-1]"
     ],
     "language": "python",
     "metadata": {},
     "outputs": [
      {
       "output_type": "stream",
       "stream": "stdout",
       "text": [
        "Weighted 0.39110243913 L2 8.16627997837\n"
       ]
      }
     ],
     "prompt_number": 229
    },
    {
     "cell_type": "code",
     "collapsed": false,
     "input": [
      "## color average, flow intensity and complement diff on 10x10 grid wrong flow\n",
      "print \"Weighted\", np.sum(np.sqrt((np.sqrt(np.dot(X.T, sio.loadmat(phiSaveLoc)['phi_MAP']))-w)**2))/X.shape[-1], \n",
      "print \"L2\", np.sum(np.sqrt((np.sqrt(np.dot(X.T, np.ones_like(sio.loadmat(phiSaveLoc)['phi_MAP'])))-w)**2))/X.shape[-1]"
     ],
     "language": "python",
     "metadata": {},
     "outputs": [
      {
       "output_type": "stream",
       "stream": "stdout",
       "text": [
        "Weighted 0.410258179741 L2 7.0904964297\n"
       ]
      }
     ],
     "prompt_number": 91
    },
    {
     "cell_type": "code",
     "collapsed": false,
     "input": [
      "## color average, flow intensity and complement diff on 10x10 grid with sigmoid\n",
      "print \"Weighted\", np.sum(np.sqrt((np.sqrt(np.dot(X.T, sio.loadmat(phiSaveLoc)['phi_MAP']))-w)**2))/X.shape[-1], \n",
      "print \"L2\", np.sum(np.sqrt((np.sqrt(np.dot(X.T, np.ones_like(sio.loadmat(phiSaveLoc)['phi_MAP'])))-w)**2))/X.shape[-1]"
     ],
     "language": "python",
     "metadata": {},
     "outputs": [
      {
       "output_type": "stream",
       "stream": "stdout",
       "text": [
        "Weighted 0.471754378802 L2 11.0327986382\n"
       ]
      }
     ],
     "prompt_number": 215
    },
    {
     "cell_type": "code",
     "collapsed": false,
     "input": [
      "## color average, flow intensity and complement diff on 10x10 grid with less steep sigmoid\n",
      "print \"Weighted\", np.sum(np.sqrt((np.sqrt(np.dot(X.T, sio.loadmat(phiSaveLoc)['phi_MAP']))-w)**2))/X.shape[-1], \n",
      "print \"L2\", np.sum(np.sqrt((np.sqrt(np.dot(X.T, np.ones_like(sio.loadmat(phiSaveLoc)['phi_MAP'])))-w)**2))/X.shape[-1]"
     ],
     "language": "python",
     "metadata": {},
     "outputs": [
      {
       "output_type": "stream",
       "stream": "stdout",
       "text": [
        "Weighted 0.471767909212 L2 10.9910567005\n"
       ]
      }
     ],
     "prompt_number": 283
    },
    {
     "cell_type": "code",
     "collapsed": false,
     "input": [
      "## color average, flow intensity and complement diff on 10x10 grid with even less steep sigmoid\n",
      "print \"Weighted\", np.sum(np.sqrt((np.sqrt(np.dot(X.T, sio.loadmat(phiSaveLoc)['phi_MAP']))-w)**2))/X.shape[-1], \n",
      "print \"L2\", np.sum(np.sqrt((np.sqrt(np.dot(X.T, np.ones_like(sio.loadmat(phiSaveLoc)['phi_MAP'])))-w)**2))/X.shape[-1]"
     ],
     "language": "python",
     "metadata": {},
     "outputs": [
      {
       "output_type": "stream",
       "stream": "stdout",
       "text": [
        "Weighted 0.471767375268 L2 10.9934003477\n"
       ]
      }
     ],
     "prompt_number": 289
    },
    {
     "cell_type": "code",
     "collapsed": false,
     "input": [
      "## color average, flow intensity and complement diff on 10x10 grid no sigmoid\n",
      "print \"Weighted\", np.sum(np.sqrt((np.sqrt(np.dot(X.T, sio.loadmat(phiSaveLoc)['phi_MAP']))-w)**2))/X.shape[-1], \n",
      "print \"L2\", np.sum(np.sqrt((np.sqrt(np.dot(X.T, np.ones_like(sio.loadmat(phiSaveLoc)['phi_MAP'])))-w)**2))/X.shape[-1]"
     ],
     "language": "python",
     "metadata": {},
     "outputs": [
      {
       "output_type": "stream",
       "stream": "stdout",
       "text": [
        "Weighted 0.461177395055 L2 10.8438013817\n"
       ]
      }
     ],
     "prompt_number": 265
    },
    {
     "cell_type": "code",
     "collapsed": false,
     "input": [
      "figure(); plot(np.average(goodExamplesData[np.prod(gridSize):2*np.prod(gridSize), goodPairsToUse], axis=1))\n",
      "figure(); plot(np.average(badExamplesData[np.prod(gridSize):2*np.prod(gridSize), badPairsToUse], axis=1))\n",
      "\n",
      "figure(); plot(2.0/(1.0+np.exp(-np.average(goodExamplesData[np.prod(gridSize):2*np.prod(gridSize), goodPairsToUse], axis=1))))\n",
      "figure(); plot(2.0/(1.0+np.exp(-np.average(badExamplesData[np.prod(gridSize):2*np.prod(gridSize), badPairsToUse], axis=1))))"
     ],
     "language": "python",
     "metadata": {},
     "outputs": [
      {
       "output_type": "stream",
       "stream": "stderr",
       "text": [
        "/usr/lib/python2.7/dist-packages/matplotlib/pyplot.py:424: RuntimeWarning: More than 20 figures have been opened. Figures created through the pyplot interface (`matplotlib.pyplot.figure`) are retained until explicitly closed and may consume too much memory. (To control this warning, see the rcParam `figure.max_open_warning`).\n",
        "  max_open_warning, RuntimeWarning)\n"
       ]
      },
      {
       "metadata": {},
       "output_type": "pyout",
       "prompt_number": 275,
       "text": [
        "[<matplotlib.lines.Line2D at 0x7f503ac67ed0>]"
       ]
      }
     ],
     "prompt_number": 275
    },
    {
     "cell_type": "code",
     "collapsed": false,
     "input": [
      "## printing data stats\n",
      "print \"good data stats: \"\n",
      "print \"color diff range [\", np.min(goodExamplesData[:prod(gridSize), :]), \",\", np.max(goodExamplesData[:prod(gridSize), :]), \"]\"\n",
      "print \"flow average range [\", np.min(goodExamplesData[prod(gridSize):2*prod(gridSize), :]), \",\", np.max(goodExamplesData[prod(gridSize):2*prod(gridSize), :]), \"]\"\n",
      "print \"color complement diff range [\", np.min(goodExamplesData[2*prod(gridSize):3*prod(gridSize), :]), \",\", np.max(goodExamplesData[2*prod(gridSize):3*prod(gridSize), :]), \"]\"\n",
      "print\n",
      "print \"bad data stats: \"\n",
      "print \"color diff range [\", np.min(badExamplesData[:prod(gridSize), :]), \",\", np.max(badExamplesData[:prod(gridSize), :]), \"]\"\n",
      "print \"flow average range [\", np.min(badExamplesData[prod(gridSize):2*prod(gridSize), :]), \",\", np.max(badExamplesData[prod(gridSize):2*prod(gridSize), :]), \"]\"\n",
      "print \"color complement diff range [\", np.min(badExamplesData[2*prod(gridSize):3*prod(gridSize), :]), \",\", np.max(badExamplesData[2*prod(gridSize):3*prod(gridSize), :]), \"]\"\n",
      "print\n",
      "\n",
      "## showing the regressed weights and 1 example per label and how they look like after weighting\n",
      "figure(); plot(sio.loadmat(phiSaveLoc)['phi_MAP'])\n",
      "reshapedWeights = sio.loadmat(phiSaveLoc)['phi_MAP'][:prod(gridSize)].reshape(gridSize)\n",
      "reshapedWeights = np.concatenate((reshapedWeights, sio.loadmat(phiSaveLoc)['phi_MAP'][prod(gridSize):2*prod(gridSize)].reshape(gridSize)), axis=-1)\n",
      "reshapedWeights = np.concatenate((reshapedWeights, sio.loadmat(phiSaveLoc)['phi_MAP'][2*prod(gridSize):3*prod(gridSize)].reshape(gridSize)), axis=-1)\n",
      "gwv.showCustomGraph(reshapedWeights, showColorbar=True)\n",
      "\n",
      "goodExample = goodExamplesData[:prod(gridSize), 0].reshape(gridSize)\n",
      "goodExample = np.concatenate((goodExample, goodExamplesData[prod(gridSize):2*prod(gridSize), 0].reshape(gridSize)), axis=-1)\n",
      "goodExample = np.concatenate((goodExample, goodExamplesData[2*prod(gridSize):3*prod(gridSize), 0].reshape(gridSize)), axis=-1)\n",
      "gwv.showCustomGraph(goodExample, showColorbar=True)\n",
      "gwv.showCustomGraph(goodExample*reshapedWeights, showColorbar=True)\n",
      "print \"good example weighted distance\", np.sum(goodExample*reshapedWeights)\n",
      "\n",
      "badExample = badExamplesData[:prod(gridSize), 0].reshape(gridSize)\n",
      "badExample = np.concatenate((badExample, badExamplesData[prod(gridSize):2*prod(gridSize), 0].reshape(gridSize)), axis=-1)\n",
      "badExample = np.concatenate((badExample, badExamplesData[2*prod(gridSize):3*prod(gridSize), 0].reshape(gridSize)), axis=-1)\n",
      "gwv.showCustomGraph(badExample, showColorbar=True)\n",
      "gwv.showCustomGraph(badExample*reshapedWeights, showColorbar=True)\n",
      "print \"bad example weighted distance\", np.sum(badExample*reshapedWeights)"
     ],
     "language": "python",
     "metadata": {},
     "outputs": [
      {
       "output_type": "stream",
       "stream": "stdout",
       "text": [
        "good data stats: \n",
        "color diff range [ 3.17052155197e-07 , 0.0793031677604 ]\n",
        "flow average range [ 1.6349202427e-05 , 27.2223590759 ]\n",
        "color complement diff range [ 0.000661351892632 , 1.37811946869 ]\n",
        "\n",
        "bad data stats: \n",
        "color diff range [ 8.29347754916e-07 , 0.128467589617 ]\n",
        "flow average range [ 3.13548581779e-05 , 21.7536301953 ]\n",
        "color complement diff range [ 0.00505392625928 , 1.36785793304 ]\n",
        "\n",
        "good example weighted distance"
       ]
      },
      {
       "output_type": "stream",
       "stream": "stdout",
       "text": [
        " 0.208847713824\n",
        "bad example weighted distance"
       ]
      },
      {
       "output_type": "stream",
       "stream": "stdout",
       "text": [
        " 0.86422388728\n"
       ]
      }
     ],
     "prompt_number": 263
    },
    {
     "cell_type": "code",
     "collapsed": false,
     "input": [
      "## printing data stats\n",
      "print \"good data stats: \"\n",
      "print \"color diff range [\", np.min(goodExamplesData[:prod(gridSize), :]), \",\", np.max(goodExamplesData[:prod(gridSize), :]), \"]\"\n",
      "print \"flow average range [\", np.min(goodExamplesData[prod(gridSize):2*prod(gridSize), :]), \",\", np.max(goodExamplesData[prod(gridSize):2*prod(gridSize), :]), \"]\"\n",
      "print \"color complement diff range [\", np.min(goodExamplesData[2*prod(gridSize):3*prod(gridSize), :]), \",\", np.max(goodExamplesData[2*prod(gridSize):3*prod(gridSize), :]), \"]\"\n",
      "print\n",
      "print \"bad data stats: \"\n",
      "print \"color diff range [\", np.min(badExamplesData[:prod(gridSize), :]), \",\", np.max(badExamplesData[:prod(gridSize), :]), \"]\"\n",
      "print \"flow average range [\", np.min(badExamplesData[prod(gridSize):2*prod(gridSize), :]), \",\", np.max(badExamplesData[prod(gridSize):2*prod(gridSize), :]), \"]\"\n",
      "print \"color complement diff range [\", np.min(badExamplesData[2*prod(gridSize):3*prod(gridSize), :]), \",\", np.max(badExamplesData[2*prod(gridSize):3*prod(gridSize), :]), \"]\"\n",
      "print\n",
      "\n",
      "## showing the regressed weights and 1 example per label and how they look like after weighting\n",
      "figure(); plot(sio.loadmat(phiSaveLoc)['phi_MAP'])\n",
      "reshapedWeights = sio.loadmat(phiSaveLoc)['phi_MAP'][:prod(gridSize)].reshape(gridSize)\n",
      "reshapedWeights = np.concatenate((reshapedWeights, sio.loadmat(phiSaveLoc)['phi_MAP'][prod(gridSize):2*prod(gridSize)].reshape(gridSize)), axis=-1)\n",
      "reshapedWeights = np.concatenate((reshapedWeights, sio.loadmat(phiSaveLoc)['phi_MAP'][2*prod(gridSize):3*prod(gridSize)].reshape(gridSize)), axis=-1)\n",
      "gwv.showCustomGraph(reshapedWeights, showColorbar=True)\n",
      "\n",
      "goodExample = goodExamplesData[:prod(gridSize), 0].reshape(gridSize)\n",
      "goodExample = np.concatenate((goodExample, goodExamplesData[prod(gridSize):2*prod(gridSize), 0].reshape(gridSize)), axis=-1)\n",
      "goodExample = np.concatenate((goodExample, goodExamplesData[2*prod(gridSize):3*prod(gridSize), 0].reshape(gridSize)), axis=-1)\n",
      "gwv.showCustomGraph(goodExample, showColorbar=True)\n",
      "gwv.showCustomGraph(goodExample*reshapedWeights, showColorbar=True)\n",
      "print \"good example weighted distance\", np.sum(goodExample*reshapedWeights)\n",
      "\n",
      "badExample = badExamplesData[:prod(gridSize), 0].reshape(gridSize)\n",
      "badExample = np.concatenate((badExample, badExamplesData[prod(gridSize):2*prod(gridSize), 0].reshape(gridSize)), axis=-1)\n",
      "badExample = np.concatenate((badExample, badExamplesData[2*prod(gridSize):3*prod(gridSize), 0].reshape(gridSize)), axis=-1)\n",
      "gwv.showCustomGraph(badExample, showColorbar=True)\n",
      "gwv.showCustomGraph(badExample*reshapedWeights, showColorbar=True)\n",
      "print \"bad example weighted distance\", np.sum(badExample*reshapedWeights)"
     ],
     "language": "python",
     "metadata": {},
     "outputs": [
      {
       "output_type": "stream",
       "stream": "stdout",
       "text": [
        "good data stats: \n",
        "color diff range [ 3.17052155197e-07 , 0.0793031677604 ]\n",
        "flow average range [ 0.147672736044 , 1.29353767527 ]\n",
        "color complement diff range [ 0.000661351892632 , 1.37811946869 ]\n",
        "\n",
        "bad data stats: \n",
        "color diff range [ 8.29347754916e-07 , 0.128467589617 ]\n",
        "flow average range [ 0.156212342901 , 1.30572081536 ]\n",
        "color complement diff range [ 0.00505392625928 , 1.36785793304 ]\n",
        "\n",
        "good example weighted distance"
       ]
      },
      {
       "output_type": "stream",
       "stream": "stdout",
       "text": [
        " 0.218189738319\n",
        "bad example weighted distance"
       ]
      },
      {
       "output_type": "stream",
       "stream": "stdout",
       "text": [
        " 0.468056653858\n"
       ]
      }
     ],
     "prompt_number": 269
    },
    {
     "cell_type": "code",
     "collapsed": false,
     "input": [
      "## printing data stats\n",
      "print \"good data stats: \"\n",
      "print \"color diff range [\", np.min(goodExamplesData[:prod(gridSize), :]), \",\", np.max(goodExamplesData[:prod(gridSize), :]), \"]\"\n",
      "print \"flow average range [\", np.min(goodExamplesData[prod(gridSize):2*prod(gridSize), :]), \",\", np.max(goodExamplesData[prod(gridSize):2*prod(gridSize), :]), \"]\"\n",
      "print \"color complement diff range [\", np.min(goodExamplesData[2*prod(gridSize):3*prod(gridSize), :]), \",\", np.max(goodExamplesData[2*prod(gridSize):3*prod(gridSize), :]), \"]\"\n",
      "print\n",
      "print \"bad data stats: \"\n",
      "print \"color diff range [\", np.min(badExamplesData[:prod(gridSize), :]), \",\", np.max(badExamplesData[:prod(gridSize), :]), \"]\"\n",
      "print \"flow average range [\", np.min(badExamplesData[prod(gridSize):2*prod(gridSize), :]), \",\", np.max(badExamplesData[prod(gridSize):2*prod(gridSize), :]), \"]\"\n",
      "print \"color complement diff range [\", np.min(badExamplesData[2*prod(gridSize):3*prod(gridSize), :]), \",\", np.max(badExamplesData[2*prod(gridSize):3*prod(gridSize), :]), \"]\"\n",
      "print\n",
      "\n",
      "## showing the regressed weights and 1 example per label and how they look like after weighting\n",
      "figure(); plot(sio.loadmat(phiSaveLoc)['phi_MAP'])\n",
      "reshapedWeights = sio.loadmat(phiSaveLoc)['phi_MAP'][:prod(gridSize)].reshape(gridSize)\n",
      "reshapedWeights = np.concatenate((reshapedWeights, sio.loadmat(phiSaveLoc)['phi_MAP'][prod(gridSize):2*prod(gridSize)].reshape(gridSize)), axis=-1)\n",
      "reshapedWeights = np.concatenate((reshapedWeights, sio.loadmat(phiSaveLoc)['phi_MAP'][2*prod(gridSize):3*prod(gridSize)].reshape(gridSize)), axis=-1)\n",
      "gwv.showCustomGraph(reshapedWeights, showColorbar=True)\n",
      "\n",
      "goodExample = goodExamplesData[:prod(gridSize), 0].reshape(gridSize)\n",
      "goodExample = np.concatenate((goodExample, goodExamplesData[prod(gridSize):2*prod(gridSize), 0].reshape(gridSize)), axis=-1)\n",
      "goodExample = np.concatenate((goodExample, goodExamplesData[2*prod(gridSize):3*prod(gridSize), 0].reshape(gridSize)), axis=-1)\n",
      "gwv.showCustomGraph(goodExample, showColorbar=True)\n",
      "gwv.showCustomGraph(goodExample*reshapedWeights, showColorbar=True)\n",
      "print \"good example weighted distance\", np.sum(goodExample*reshapedWeights)\n",
      "\n",
      "badExample = badExamplesData[:prod(gridSize), 0].reshape(gridSize)\n",
      "badExample = np.concatenate((badExample, badExamplesData[prod(gridSize):2*prod(gridSize), 0].reshape(gridSize)), axis=-1)\n",
      "badExample = np.concatenate((badExample, badExamplesData[2*prod(gridSize):3*prod(gridSize), 0].reshape(gridSize)), axis=-1)\n",
      "gwv.showCustomGraph(badExample, showColorbar=True)\n",
      "gwv.showCustomGraph(badExample*reshapedWeights, showColorbar=True)\n",
      "print \"bad example weighted distance\", np.sum(badExample*reshapedWeights)"
     ],
     "language": "python",
     "metadata": {},
     "outputs": [
      {
       "output_type": "stream",
       "stream": "stdout",
       "text": [
        "good data stats: \n",
        "color diff range [ 3.17052155197e-07 , 0.0793031677604 ]\n",
        "flow average range [ 0.54386323025 , 0.864536106116 ]\n",
        "color complement diff range [ 0.000661351892632 , 1.37811946869 ]\n",
        "\n",
        "bad data stats: \n",
        "color diff range [ 8.29347754916e-07 , 0.128467589617 ]\n",
        "flow average range [ 0.584923291731 , 0.949887949419 ]\n",
        "color complement diff range [ 0.00505392625928 , 1.36785793304 ]\n",
        "\n",
        "good example weighted distance"
       ]
      },
      {
       "output_type": "stream",
       "stream": "stdout",
       "text": [
        " 0.219002841476\n",
        "bad example weighted distance"
       ]
      },
      {
       "output_type": "stream",
       "stream": "stdout",
       "text": [
        " 0.459963805169\n"
       ]
      }
     ],
     "prompt_number": 285
    },
    {
     "cell_type": "code",
     "collapsed": false,
     "input": [
      "## printing data stats\n",
      "print \"good data stats: \"\n",
      "print \"color diff range [\", np.min(goodExamplesData[:prod(gridSize), :]), \",\", np.max(goodExamplesData[:prod(gridSize), :]), \"]\"\n",
      "print \"flow average range [\", np.min(goodExamplesData[prod(gridSize):2*prod(gridSize), :]), \",\", np.max(goodExamplesData[prod(gridSize):2*prod(gridSize), :]), \"]\"\n",
      "print \"color complement diff range [\", np.min(goodExamplesData[2*prod(gridSize):3*prod(gridSize), :]), \",\", np.max(goodExamplesData[2*prod(gridSize):3*prod(gridSize), :]), \"]\"\n",
      "print\n",
      "print \"bad data stats: \"\n",
      "print \"color diff range [\", np.min(badExamplesData[:prod(gridSize), :]), \",\", np.max(badExamplesData[:prod(gridSize), :]), \"]\"\n",
      "print \"flow average range [\", np.min(badExamplesData[prod(gridSize):2*prod(gridSize), :]), \",\", np.max(badExamplesData[prod(gridSize):2*prod(gridSize), :]), \"]\"\n",
      "print \"color complement diff range [\", np.min(badExamplesData[2*prod(gridSize):3*prod(gridSize), :]), \",\", np.max(badExamplesData[2*prod(gridSize):3*prod(gridSize), :]), \"]\"\n",
      "print\n",
      "\n",
      "## showing the regressed weights and 1 example per label and how they look like after weighting\n",
      "figure(); plot(sio.loadmat(phiSaveLoc)['phi_MAP'])\n",
      "reshapedWeights = sio.loadmat(phiSaveLoc)['phi_MAP'][:prod(gridSize)].reshape(gridSize)\n",
      "reshapedWeights = np.concatenate((reshapedWeights, sio.loadmat(phiSaveLoc)['phi_MAP'][prod(gridSize):2*prod(gridSize)].reshape(gridSize)), axis=-1)\n",
      "reshapedWeights = np.concatenate((reshapedWeights, sio.loadmat(phiSaveLoc)['phi_MAP'][2*prod(gridSize):3*prod(gridSize)].reshape(gridSize)), axis=-1)\n",
      "gwv.showCustomGraph(reshapedWeights, showColorbar=True)\n",
      "\n",
      "goodExample = goodExamplesData[:prod(gridSize), 0].reshape(gridSize)\n",
      "goodExample = np.concatenate((goodExample, goodExamplesData[prod(gridSize):2*prod(gridSize), 0].reshape(gridSize)), axis=-1)\n",
      "goodExample = np.concatenate((goodExample, goodExamplesData[2*prod(gridSize):3*prod(gridSize), 0].reshape(gridSize)), axis=-1)\n",
      "gwv.showCustomGraph(goodExample, showColorbar=True)\n",
      "gwv.showCustomGraph(goodExample*reshapedWeights, showColorbar=True)\n",
      "print \"good example weighted distance\", np.sum(goodExample*reshapedWeights)\n",
      "\n",
      "badExample = badExamplesData[:prod(gridSize), 0].reshape(gridSize)\n",
      "badExample = np.concatenate((badExample, badExamplesData[prod(gridSize):2*prod(gridSize), 0].reshape(gridSize)), axis=-1)\n",
      "badExample = np.concatenate((badExample, badExamplesData[2*prod(gridSize):3*prod(gridSize), 0].reshape(gridSize)), axis=-1)\n",
      "gwv.showCustomGraph(badExample, showColorbar=True)\n",
      "gwv.showCustomGraph(badExample*reshapedWeights, showColorbar=True)\n",
      "print \"bad example weighted distance\", np.sum(badExample*reshapedWeights)"
     ],
     "language": "python",
     "metadata": {},
     "outputs": [
      {
       "output_type": "stream",
       "stream": "stdout",
       "text": [
        "good data stats: \n",
        "color diff range [ 3.17052155197e-07 , 0.0793031677604 ]\n",
        "flow average range [ 0.684988760106 , 0.725859294521 ]\n",
        "color complement diff range [ 0.000661351892632 , 1.37811946869 ]\n",
        "\n",
        "bad data stats: \n",
        "color diff range [ 8.29347754916e-07 , 0.128467589617 ]\n",
        "flow average range [ 0.692678235749 , 0.733252556085 ]\n",
        "color complement diff range [ 0.00505392625928 , 1.36785793304 ]\n",
        "\n",
        "good example weighted distance"
       ]
      },
      {
       "output_type": "stream",
       "stream": "stdout",
       "text": [
        " 0.219005360767\n",
        "bad example weighted distance"
       ]
      },
      {
       "output_type": "stream",
       "stream": "stdout",
       "text": [
        " 0.45950382756\n"
       ]
      }
     ],
     "prompt_number": 290
    },
    {
     "cell_type": "code",
     "collapsed": false,
     "input": [
      "## printing data stats\n",
      "print \"good data stats: \"\n",
      "print \"color diff range [\", np.min(goodExamplesData[:prod(gridSize), :]), \",\", np.max(goodExamplesData[:prod(gridSize), :]), \"]\"\n",
      "print \"flow average range [\", np.min(goodExamplesData[prod(gridSize):2*prod(gridSize), :]), \",\", np.max(goodExamplesData[prod(gridSize):2*prod(gridSize), :]), \"]\"\n",
      "print \"color complement diff range [\", np.min(goodExamplesData[2*prod(gridSize):3*prod(gridSize), :]), \",\", np.max(goodExamplesData[2*prod(gridSize):3*prod(gridSize), :]), \"]\"\n",
      "print\n",
      "print \"bad data stats: \"\n",
      "print \"color diff range [\", np.min(badExamplesData[:prod(gridSize), :]), \",\", np.max(badExamplesData[:prod(gridSize), :]), \"]\"\n",
      "print \"flow average range [\", np.min(badExamplesData[prod(gridSize):2*prod(gridSize), :]), \",\", np.max(badExamplesData[prod(gridSize):2*prod(gridSize), :]), \"]\"\n",
      "print \"color complement diff range [\", np.min(badExamplesData[2*prod(gridSize):3*prod(gridSize), :]), \",\", np.max(badExamplesData[2*prod(gridSize):3*prod(gridSize), :]), \"]\"\n",
      "print\n",
      "\n",
      "## showing the regressed weights and 1 example per label and how they look like after weighting\n",
      "figure(); plot(sio.loadmat(phiSaveLoc)['phi_MAP'])\n",
      "reshapedWeights = sio.loadmat(phiSaveLoc)['phi_MAP'][:prod(gridSize)].reshape(gridSize)\n",
      "reshapedWeights = np.concatenate((reshapedWeights, sio.loadmat(phiSaveLoc)['phi_MAP'][prod(gridSize):2*prod(gridSize)].reshape(gridSize)), axis=-1)\n",
      "reshapedWeights = np.concatenate((reshapedWeights, sio.loadmat(phiSaveLoc)['phi_MAP'][2*prod(gridSize):3*prod(gridSize)].reshape(gridSize)), axis=-1)\n",
      "gwv.showCustomGraph(reshapedWeights, showColorbar=True)\n",
      "\n",
      "goodExample = goodExamplesData[:prod(gridSize), 0].reshape(gridSize)\n",
      "goodExample = np.concatenate((goodExample, goodExamplesData[prod(gridSize):2*prod(gridSize), 0].reshape(gridSize)), axis=-1)\n",
      "goodExample = np.concatenate((goodExample, goodExamplesData[2*prod(gridSize):3*prod(gridSize), 0].reshape(gridSize)), axis=-1)\n",
      "gwv.showCustomGraph(goodExample, showColorbar=True)\n",
      "gwv.showCustomGraph(goodExample*reshapedWeights, showColorbar=True)\n",
      "print \"good example weighted distance\", np.sum(goodExample*reshapedWeights)\n",
      "\n",
      "badExample = badExamplesData[:prod(gridSize), 0].reshape(gridSize)\n",
      "badExample = np.concatenate((badExample, badExamplesData[prod(gridSize):2*prod(gridSize), 0].reshape(gridSize)), axis=-1)\n",
      "badExample = np.concatenate((badExample, badExamplesData[2*prod(gridSize):3*prod(gridSize), 0].reshape(gridSize)), axis=-1)\n",
      "gwv.showCustomGraph(badExample, showColorbar=True)\n",
      "gwv.showCustomGraph(badExample*reshapedWeights, showColorbar=True)\n",
      "print \"bad example weighted distance\", np.sum(badExample*reshapedWeights)"
     ],
     "language": "python",
     "metadata": {},
     "outputs": [
      {
       "output_type": "stream",
       "stream": "stdout",
       "text": [
        "good data stats: \n",
        "color diff range [ 3.17052155197e-07 , 0.0793031677604 ]\n",
        "flow average range [ 0.0601511052013 , 1.35384455018 ]\n",
        "color complement diff range [ 0.000661351892632 , 1.37811946869 ]\n",
        "\n",
        "bad data stats: \n",
        "color diff range [ 8.29347754916e-07 , 0.128467589617 ]\n",
        "flow average range [ 0.0666648148633 , 1.39844765519 ]\n",
        "color complement diff range [ 0.00505392625928 , 1.36785793304 ]\n",
        "\n",
        "good example weighted distance"
       ]
      },
      {
       "output_type": "stream",
       "stream": "stdout",
       "text": [
        " 0.218901738707\n",
        "bad example weighted distance"
       ]
      },
      {
       "output_type": "stream",
       "stream": "stdout",
       "text": [
        " 0.485749551992\n"
       ]
      }
     ],
     "prompt_number": 295
    },
    {
     "cell_type": "code",
     "collapsed": false,
     "input": [
      "## printing data stats\n",
      "print \"good data stats: \"\n",
      "print \"color diff range [\", np.min(goodExamplesData[:prod(gridSize), :]), \",\", np.max(goodExamplesData[:prod(gridSize), :]), \"]\"\n",
      "print \"flow average range [\", np.min(goodExamplesData[prod(gridSize):2*prod(gridSize), :]), \",\", np.max(goodExamplesData[prod(gridSize):2*prod(gridSize), :]), \"]\"\n",
      "print \"color complement diff range [\", np.min(goodExamplesData[2*prod(gridSize):3*prod(gridSize), :]), \",\", np.max(goodExamplesData[2*prod(gridSize):3*prod(gridSize), :]), \"]\"\n",
      "print\n",
      "print \"bad data stats: \"\n",
      "print \"color diff range [\", np.min(badExamplesData[:prod(gridSize), :]), \",\", np.max(badExamplesData[:prod(gridSize), :]), \"]\"\n",
      "print \"flow average range [\", np.min(badExamplesData[prod(gridSize):2*prod(gridSize), :]), \",\", np.max(badExamplesData[prod(gridSize):2*prod(gridSize), :]), \"]\"\n",
      "print \"color complement diff range [\", np.min(badExamplesData[2*prod(gridSize):3*prod(gridSize), :]), \",\", np.max(badExamplesData[2*prod(gridSize):3*prod(gridSize), :]), \"]\"\n",
      "print\n",
      "\n",
      "## showing the regressed weights and 1 example per label and how they look like after weighting\n",
      "figure(); plot(sio.loadmat(phiSaveLoc)['phi_MAP'])\n",
      "reshapedWeights = sio.loadmat(phiSaveLoc)['phi_MAP'][:prod(gridSize)].reshape(gridSize)\n",
      "reshapedWeights = np.concatenate((reshapedWeights, sio.loadmat(phiSaveLoc)['phi_MAP'][prod(gridSize):2*prod(gridSize)].reshape(gridSize)), axis=-1)\n",
      "reshapedWeights = np.concatenate((reshapedWeights, sio.loadmat(phiSaveLoc)['phi_MAP'][2*prod(gridSize):3*prod(gridSize)].reshape(gridSize)), axis=-1)\n",
      "gwv.showCustomGraph(reshapedWeights, showColorbar=True)\n",
      "\n",
      "goodExample = goodExamplesData[:prod(gridSize), 0].reshape(gridSize)\n",
      "goodExample = np.concatenate((goodExample, goodExamplesData[prod(gridSize):2*prod(gridSize), 0].reshape(gridSize)), axis=-1)\n",
      "goodExample = np.concatenate((goodExample, goodExamplesData[2*prod(gridSize):3*prod(gridSize), 0].reshape(gridSize)), axis=-1)\n",
      "gwv.showCustomGraph(goodExample, showColorbar=True)\n",
      "gwv.showCustomGraph(goodExample*reshapedWeights, showColorbar=True)\n",
      "print \"good example weighted distance\", np.sum(goodExample*reshapedWeights)\n",
      "\n",
      "badExample = badExamplesData[:prod(gridSize), 0].reshape(gridSize)\n",
      "badExample = np.concatenate((badExample, badExamplesData[prod(gridSize):2*prod(gridSize), 0].reshape(gridSize)), axis=-1)\n",
      "badExample = np.concatenate((badExample, badExamplesData[2*prod(gridSize):3*prod(gridSize), 0].reshape(gridSize)), axis=-1)\n",
      "gwv.showCustomGraph(badExample, showColorbar=True)\n",
      "gwv.showCustomGraph(badExample*reshapedWeights, showColorbar=True)\n",
      "print \"bad example weighted distance\", np.sum(badExample*reshapedWeights)"
     ],
     "language": "python",
     "metadata": {},
     "outputs": [
      {
       "output_type": "stream",
       "stream": "stdout",
       "text": [
        "good data stats: \n",
        "color diff range [ 3.17052155197e-07 , 0.0793031677604 ]\n",
        "flow average range [ 1.47672736044 , 12.9353767527 ]\n",
        "color complement diff range [ 0.000661351892632 , 1.37811946869 ]\n",
        "\n",
        "bad data stats: \n",
        "color diff range [ 8.29347754916e-07 , 0.128467589617 ]\n",
        "flow average range [ 1.56212342901 , 13.0572081536 ]\n",
        "color complement diff range [ 0.00505392625928 , 1.36785793304 ]\n",
        "\n",
        "good example weighted distance"
       ]
      },
      {
       "output_type": "stream",
       "stream": "stdout",
       "text": [
        " 0.218247680856\n",
        "bad example weighted distance"
       ]
      },
      {
       "output_type": "stream",
       "stream": "stdout",
       "text": [
        " 0.468076037083\n"
       ]
      }
     ],
     "prompt_number": 300
    },
    {
     "cell_type": "code",
     "collapsed": false,
     "input": [
      "sigma = 1.0\n",
      "mu = 3.0\n",
      "samples = np.random.multivariate_normal(np.array([mu, mu]), np.array([[sigma, 0.0], [0.0, sigma]]), 50000)\n",
      "figure(); scatter(samples[:, 0], samples[:, 1], c=sp.stats.multivariate_normal.pdf(samples, np.array([mu, mu]), np.array([[sigma, 0.0], [0.0, sigma]])))\n",
      "# xlim([-10, 10])\n",
      "# ylim([-10, 10])\n",
      "figure(); plot(np.arange(-6, 6, 0.1), sp.stats.multivariate_normal.pdf(np.arange(-6, 6, 0.1), np.array([mu]), np.array([sigma])))\n"
     ],
     "language": "python",
     "metadata": {},
     "outputs": [
      {
       "metadata": {},
       "output_type": "pyout",
       "prompt_number": 351,
       "text": [
        "[<matplotlib.lines.Line2D at 0x7f5037f48390>]"
       ]
      }
     ],
     "prompt_number": 351
    },
    {
     "cell_type": "code",
     "collapsed": false,
     "input": [
      "## find \"how much left-movement there is\" between two frames (low numbers means more right movement)\n",
      "frame1 = np.array(Image.open(\"/media/ilisescu/Data1/PhD/data/splashes_water/frame-00165.png\"))\n",
      "frame2 = np.array(Image.open(\"/media/ilisescu/Data1/PhD/data/splashes_water/frame-00167.png\"))\n",
      "imageSize = frame1.shape[0:2]\n",
      "patchSize = np.array([32, 32])\n",
      "spacing = 16.0 ## how far away a patch is from the previous one\n",
      "\n",
      "movementSigma = 4.0\n",
      "numSamples = 500\n",
      "patchYs = np.arange(4.0*movementSigma, imageSize[0]-patchSize[0]-4.0*movementSigma, spacing)\n",
      "patchYs = patchYs.reshape((1, len(patchYs)))\n",
      "patchXs = np.arange(4.0*movementSigma, imageSize[1]-patchSize[1]-4.0*movementSigma, spacing)\n",
      "patchXs = patchXs.reshape((1, len(patchXs)))\n",
      "patchLocations = np.array(np.concatenate((patchYs.repeat(len(patchXs.T)),\n",
      "                                          patchXs.repeat(len(patchYs.T), axis=0).flatten())).reshape((2, len(patchXs.T)*len(patchYs.T))), int)\n",
      "\n",
      "print patchLocations.shape\n",
      "\n",
      "# figure(); imshow(frame1)\n",
      "scores = np.zeros(patchLocations.shape[-1])\n",
      "for i, loc in enumerate(patchLocations.T) : ## [:, [0, 1282, 2967]]\n",
      "#     print loc\n",
      "    ## changing the x-mean by - movementSigma as I want to go left\n",
      "    mean = np.array([loc[1]-2.0*movementSigma, loc[0]])\n",
      "    covariance = np.array([[movementSigma, 0.0], [0.0, movementSigma/10.0]])\n",
      "    ## samples contains (x, y) coords\n",
      "    samples = np.random.multivariate_normal(mean, covariance, numSamples)\n",
      "    weights = sp.stats.multivariate_normal.pdf(samples, mean, covariance)\n",
      "    weights /= np.sum(weights)\n",
      "#     print samples\n",
      "    ## displacedLocs contains (row, col) coords\n",
      "    displacedLocs = np.array(np.round(samples).T[::-1], int)\n",
      "    validLocs = np.negative(np.any([np.any(displacedLocs < 0, axis=0), displacedLocs[0, :] >= imageSize[0]-patchSize[0], displacedLocs[1, :] >= imageSize[1]-patchSize[1]], axis=0))\n",
      "    frame2Patches = [frame2[l[0]:l[0]+patchSize[0], l[1]:l[1]+patchSize[1]] for l in displacedLocs[:, validLocs].T]\n",
      "    frame1Patch = frame1[loc[0]:loc[0]+patchSize[0], loc[1]:loc[1]+patchSize[1], :].reshape((1, patchSize[0], patchSize[0], frame1.shape[-1])).repeat(len(frame2Patches), axis=0)\n",
      "    scores[i] = np.sum(np.sum(np.sqrt((frame1Patch.reshape((numSamples, np.prod(patchSize)*frame1.shape[-1]))/255.0-\n",
      "                                       np.array(frame2Patches).reshape((numSamples, np.prod(patchSize)*frame1.shape[-1]))/255.0)**2), axis=-1)*weights)\n",
      "\n",
      "    sys.stdout.write('\\r' + \"Done patch \" + np.string_(i) + \" of \" + np.string_(patchLocations.shape[-1]))\n",
      "    sys.stdout.flush()\n",
      "#     print np.all(validLocs)\n",
      "#     print displacedLocs[:, np.negative(validLocs)]\n",
      "#     figure(); imshow(frame1)\n",
      "#     scatter(samples[:, 0], samples[:, 1])#, c=sp.stats.multivariate_normal.pdf(samples, np.array([mu, mu]), np.array([[sigma, 0.0], [0.0, sigma]])))\n",
      "#     scatter(loc[1], loc[0], c='r')\n",
      "#     xlim([0, imageSize[1]])\n",
      "#     ylim([imageSize[0], 0])\n",
      "#     figure(); imshow(frame1[loc[0]:loc[0]+patchSize[0], loc[1]:loc[1]+patchSize[1], :])"
     ],
     "language": "python",
     "metadata": {},
     "outputs": [],
     "prompt_number": 9
    },
    {
     "cell_type": "code",
     "collapsed": false,
     "input": [
      "figure(); imshow(frame1)\n",
      "scatter(samples[:, 0], samples[:, 1])#, c=sp.stats.multivariate_normal.pdf(samples, np.array([mu, mu]), np.array([[sigma, 0.0], [0.0, sigma]])))\n",
      "scatter(loc[1], loc[0], c='r')\n",
      "xlim([0, imageSize[1]])\n",
      "ylim([imageSize[0], 0])\n",
      "figure(); imshow(frame1[loc[0]:loc[0]+patchSize[0], loc[1]:loc[1]+patchSize[1], :])"
     ],
     "language": "python",
     "metadata": {},
     "outputs": [
      {
       "metadata": {},
       "output_type": "pyout",
       "prompt_number": 721,
       "text": [
        "<matplotlib.image.AxesImage at 0x7f50395adc10>"
       ]
      }
     ],
     "prompt_number": 721
    },
    {
     "cell_type": "code",
     "collapsed": false,
     "input": [
      "# leftMovement = np.copy(scores)\n",
      "# rightMovement = np.copy(scores)\n",
      "bob = np.zeros(imageSize)\n",
      "bob[patchLocations[0, :], patchLocations[1, :]] = scores\n",
      "gwv.showCustomGraph(bob)"
     ],
     "language": "python",
     "metadata": {},
     "outputs": [],
     "prompt_number": 723
    },
    {
     "cell_type": "code",
     "collapsed": false,
     "input": [
      "print np.sum(leftMovement), np.sum(rightMovement)"
     ],
     "language": "python",
     "metadata": {},
     "outputs": [
      {
       "output_type": "stream",
       "stream": "stdout",
       "text": [
        "1925936.82662 1973435.63028\n"
       ]
      }
     ],
     "prompt_number": 714
    },
    {
     "cell_type": "code",
     "collapsed": false,
     "input": [
      "print displacedLocs\n",
      "patches = [frame2[l[0]:l[0]+patchSize[0], l[1]:l[1]+patchSize[1]] for l in displacedLocs[:, validLocs].T]\n",
      "# print np.array(patches).shape\n",
      "figure(); imshow(patches[0])\n",
      "figure(); imshow(patches[200])\n",
      "print displacedLocs[:, 0]\n",
      "print displacedLocs[:, 200]\n",
      "figure(); imshow(frame1[loc[0]:loc[0]+patchSize[0], loc[1]:loc[1]+patchSize[1], :])\n",
      "frame1Patch = frame1[loc[0]:loc[0]+patchSize[0], loc[1]:loc[1]+patchSize[1], :].reshape((1, patchSize[0], patchSize[0], frame1.shape[-1])).repeat(len(patches), axis=0)"
     ],
     "language": "python",
     "metadata": {},
     "outputs": [
      {
       "output_type": "stream",
       "stream": "stdout",
       "text": [
        "[[ 84  84  83  84  84  84  83  83  83  83  83  84  83  84  85  85  84  84\n",
        "   83  85  84  84  85  85  84  85  84  85  84  84  84  85  84  83  84  84\n",
        "   84  84  83  83  84  84  84  84  84  84  85  85  84  84  85  85  85  84\n",
        "   84  84  83  84  83  83  84  84  85  84  84  85  84  85  84  83  83  85\n",
        "   84  83  85  83  85  84  84  84  85  84  84  84  84  84  84  84  83  85\n",
        "   84  84  85  84  83  84  84  84  85  84  84  83  84  84  84  82  84  84\n",
        "   83  84  83  83  83  82  85  84  84  83  84  83  84  83  84  84  85  85\n",
        "   85  84  85  84  84  83  84  84  84  85  83  83  84  84  85  84  84  84\n",
        "   84  83  84  83  83  85  84  83  84  84  84  83  85  84  84  82  84  84\n",
        "   84  84  85  83  84  84  83  84  85  84  83  85  83  84  83  84  83  84\n",
        "   84  83  85  83  84  83  84  84  83  84  84  83  83  84  84  84  84  84\n",
        "   84  84  85  84  85  83  84  84  83  84  84  84  84  84  84  84  84  83\n",
        "   83  85  84  86  85  84  84  85  84  85  84  85  84  84  85  84  85  84\n",
        "   86  85  82  84  84  85  85  83  84  85  84  84  85  84  83  84  84  86\n",
        "   83  83  84  84  86  84  84  84  85  83  83  84  84  84  83  84  83  83\n",
        "   85  83  83  84  83  85  84  85  85  85  85  84  84  85  84  84  82  84\n",
        "   85  84  84  83  83  85  84  83  83  84  84  84  84  83  83  83  83  84\n",
        "   84  84  85  83  83  83  84  84  85  84  85  84  83  84  84  83  83  86\n",
        "   84  84  83  83  84  84  84  84  85  84  85  83  84  85  84  83  83  84\n",
        "   84  83  84  84  84  84  84  83  84  85  85  84  83  84  84  83  85  84\n",
        "   85  83  84  84  84  84  84  85  84  84  85  85  83  83  84  84  85  83\n",
        "   84  84  83  84  84  84  84  84  84  85  84  84  84  83  84  83  84  84\n",
        "   84  84  84  83  84  84  84  84  83  84  85  84  83  84  82  85  85  84\n",
        "   84  84  83  84  83  84  85  84  83  84  83  83  85  84  84  84  85  85\n",
        "   85  84  84  85  85  84  85  83  85  83  83  84  85  85  84  84  83  83\n",
        "   84  84  84  84  83  82  84  84  85  84  84  85  85  84  83  84  84  84\n",
        "   83  84  84  84  84  83  83  85  85  85  85  84  84  85  84  85  84  85\n",
        "   84  84  85  84  84  83  85  83  84  85  85  84  84  84]\n",
        " [453 451 450 451 453 451 454 454 452 449 454 451 447 448 451 452 453 451\n",
        "  452 453 450 453 452 452 453 450 453 452 451 451 454 451 450 450 453 449\n",
        "  453 452 456 454 452 454 454 454 451 452 450 453 449 454 450 454 454 448\n",
        "  452 452 451 452 449 451 453 453 456 456 452 452 449 453 452 449 454 451\n",
        "  452 451 451 455 452 448 451 452 453 452 453 451 450 452 450 454 449 454\n",
        "  455 455 453 453 451 451 453 456 451 455 453 455 449 452 454 452 455 449\n",
        "  452 450 456 450 455 451 451 452 454 454 451 452 453 454 452 451 453 452\n",
        "  452 451 447 454 455 451 452 453 453 453 453 452 448 450 453 451 453 452\n",
        "  450 452 448 452 453 452 455 452 448 453 451 453 453 457 452 453 450 452\n",
        "  451 452 455 451 451 454 455 451 451 450 453 452 449 453 456 450 452 453\n",
        "  451 451 451 451 455 452 451 453 448 454 453 451 454 452 456 450 450 455\n",
        "  453 447 452 452 450 454 454 453 455 452 453 449 451 454 448 451 452 451\n",
        "  452 455 452 454 453 454 449 454 451 454 448 454 454 450 449 449 453 451\n",
        "  451 453 451 448 455 451 450 453 453 450 449 450 452 449 450 452 455 453\n",
        "  451 451 452 450 449 452 452 455 451 452 453 450 453 449 451 451 449 451\n",
        "  453 453 455 449 452 450 452 449 456 453 451 451 451 451 449 454 451 451\n",
        "  453 452 451 451 453 452 452 453 453 453 454 453 454 450 451 452 454 452\n",
        "  451 453 451 451 455 451 449 454 453 455 453 448 450 456 451 455 451 452\n",
        "  454 449 454 454 451 448 453 452 453 451 452 453 454 453 451 449 449 451\n",
        "  451 451 446 453 453 454 451 453 452 454 455 450 453 454 450 455 448 451\n",
        "  455 449 453 456 451 454 451 451 453 454 450 451 450 451 453 452 454 451\n",
        "  453 453 453 453 450 447 452 454 453 451 454 449 453 454 449 451 454 451\n",
        "  451 453 453 451 451 454 452 451 452 449 452 454 454 452 451 452 454 453\n",
        "  451 458 451 452 452 450 450 455 451 452 451 450 452 449 453 451 454 451\n",
        "  453 451 452 449 449 456 452 452 448 456 451 453 452 452 452 452 452 452\n",
        "  455 455 451 453 451 452 452 453 452 452 453 453 453 449 450 454 455 453\n",
        "  453 449 451 450 448 451 453 455 453 453 454 451 451 449 452 451 449 454\n",
        "  451 453 451 448 452 448 452 449 452 451 451 452 452 454]]\n",
        "[ 84 453]"
       ]
      },
      {
       "output_type": "stream",
       "stream": "stdout",
       "text": [
        "\n",
        "[ 85 452]\n"
       ]
      }
     ],
     "prompt_number": 694
    },
    {
     "cell_type": "code",
     "collapsed": false,
     "input": [
      "print np.min(samples)\n",
      "tmp = np.random.randint(-2, 33, (2, 10))\n",
      "print tmp\n",
      "print np.any(tmp < 0, axis=0)\n",
      "print tmp[0, :] >= 32\n",
      "print tmp[1, :] >= 30\n",
      "print np.negative(np.any([np.any(tmp < 0, axis=0), tmp[0, :] >= 32, tmp[1, :] >= 30], axis=0))"
     ],
     "language": "python",
     "metadata": {},
     "outputs": [
      {
       "output_type": "stream",
       "stream": "stdout",
       "text": [
        "69.7999128531\n",
        "[[11 30 12 24 23  3 28  2 13 19]\n",
        " [19 16 -1 27 10 26 20 25 -2 31]]\n",
        "[False False  True False False False False False  True False]\n",
        "[False False False False False False False False False False]\n",
        "[False False False False False False False False False  True]\n",
        "[ True  True False  True  True  True  True  True False False]\n"
       ]
      }
     ],
     "prompt_number": 488
    },
    {
     "cell_type": "code",
     "collapsed": false,
     "input": [
      "idxs = np.mgrid[0:np.prod(gridSize)*3, 0:np.prod(gridSize)*3].reshape((2, (np.prod(gridSize)*3)**2))\n",
      "weightDists = np.zeros((3*np.prod(gridSize), 3*np.prod(gridSize)))\n",
      "weightDists[idxs[0, :], idxs[1, :]] = np.sqrt((sio.loadmat(phiSaveLoc)['phi_MAP'][idxs[0, :]]-sio.loadmat(phiSaveLoc)['phi_MAP'][idxs[1, :]])**2).flatten()\n",
      "gwv.showCustomGraph(weightDists)\n",
      "# noSigmoidWeights = np.copy(sio.loadmat(phiSaveLoc)['phi_MAP'])\n",
      "# noSigmoidWeightDists = np.copy(weightDists)"
     ],
     "language": "python",
     "metadata": {},
     "outputs": [],
     "prompt_number": 270
    },
    {
     "cell_type": "code",
     "collapsed": false,
     "input": [
      "gwv.showCustomGraph(weightDists[np.prod(gridSize):2*np.prod(gridSize), np.prod(gridSize):2*np.prod(gridSize)], showColorbar=True)\n",
      "gwv.showCustomGraph(noSigmoidWeightDists[np.prod(gridSize):2*np.prod(gridSize), np.prod(gridSize):2*np.prod(gridSize)], showColorbar=True)"
     ],
     "language": "python",
     "metadata": {},
     "outputs": [],
     "prompt_number": 273
    },
    {
     "cell_type": "code",
     "collapsed": false,
     "input": [
      "bob = np.random.randint(-100, 100, 300)\n",
      "figure(); plot(bob)\n",
      "figure(); plot(1.0/(1.0 + np.exp(-bob)))\n",
      "figure(); plot(1.0/(1.0 + np.exp(-5.0*bob)))\n",
      "figure(); plot(1.0/(1.0 + np.exp(-0.2*bob)))"
     ],
     "language": "python",
     "metadata": {},
     "outputs": [
      {
       "metadata": {},
       "output_type": "pyout",
       "prompt_number": 279,
       "text": [
        "[<matplotlib.lines.Line2D at 0x7f503a683310>]"
       ]
      }
     ],
     "prompt_number": 279
    },
    {
     "cell_type": "code",
     "collapsed": false,
     "input": [
      "# fittedPhiUsingPsi = sio.loadmat(phiSaveLoc)['phi_MAP']\n",
      "# print glob.glob(dataPath+dataSet+\"weightsUsingPsi*.npy\")\n",
      "fittedPhiUsingPsi = np.load(glob.glob(dataPath+dataSet+\"weightsUsingPsi*.npy\")[0])"
     ],
     "language": "python",
     "metadata": {},
     "outputs": [],
     "prompt_number": 182
    },
    {
     "cell_type": "code",
     "collapsed": false,
     "input": [
      "# print np.sum(fittedPhiUsingPsi-sio.loadmat(phiSaveLoc)['phi_MAP'])\n",
      "print fittedPhiUsingPsi\n",
      "print sio.loadmat(phiSaveLoc)['phi_MAP']\n",
      "print fittedPhiUsingPsi/sio.loadmat(phiSaveLoc)['phi_MAP']\n",
      "print np.mean(fittedPhiUsingPsi/sio.loadmat(phiSaveLoc)['phi_MAP'])\n",
      "print np.mean(np.sqrt((fittedPhiUsingPsi/sio.loadmat(phiSaveLoc)['phi_MAP']-np.mean(fittedPhiUsingPsi/sio.loadmat(phiSaveLoc)['phi_MAP']))**2))"
     ],
     "language": "python",
     "metadata": {},
     "outputs": [
      {
       "output_type": "stream",
       "stream": "stdout",
       "text": [
        "[[ 0.17971476]\n",
        " [ 0.19014451]\n",
        " [ 0.19502751]\n",
        " ..., \n",
        " [ 0.05163731]\n",
        " [ 0.0256592 ]\n",
        " [ 0.02303215]]\n",
        "[[ 0.63135822]\n",
        " [ 0.69794213]\n",
        " [ 0.69759946]\n",
        " ..., \n",
        " [ 0.1909391 ]\n",
        " [ 0.13116354]\n",
        " [ 0.12614612]]\n",
        "[[ 0.28464785]\n",
        " [ 0.27243592]\n",
        " [ 0.27956947]\n",
        " ..., \n",
        " [ 0.27043866]\n",
        " [ 0.19562752]\n",
        " [ 0.1825831 ]]\n",
        "0.462523159594\n",
        "0.276527543976"
       ]
      },
      {
       "output_type": "stream",
       "stream": "stdout",
       "text": [
        "\n"
       ]
      }
     ],
     "prompt_number": 36
    },
    {
     "cell_type": "code",
     "collapsed": false,
     "input": [
      "np.save(dataPath+dataSet+\"weightsUsingPsi_\"+np.string_(numBadExamples)+\"randomEg_\"+np.string_(resizeRatio)+\"scale.npy\", fittedPhiUsingPsi)\n",
      "print dataPath+dataSet+\"weightsUsingPsi_\"+np.string_(numBadExamples)+\"randomEg_\"+np.string_(resizeRatio)+\"scale.npy\""
     ],
     "language": "python",
     "metadata": {},
     "outputs": [
      {
       "output_type": "stream",
       "stream": "stdout",
       "text": [
        "/media/ilisescu/Data1/PhD/data/candle1/segmentedAndCropped/weightsUsingPsi_1000randomEg_0.75scale.npy\n"
       ]
      }
     ],
     "prompt_number": 11
    },
    {
     "cell_type": "code",
     "collapsed": false,
     "input": [
      "## test to see the distance assigned to the validation pairs\n",
      "# goodValidationData = (imagesGrayData[:, goodValidationExamples[0, :]]-imagesGrayData[:, goodValidationExamples[1, :]])**np.float32(2)\n",
      "# badValidationData = (imagesGrayData[:, badValidationExamples[0, :]]-imagesGrayData[:, badValidationExamples[1, :]])**np.float32(2)\n",
      "print goodValidationData.shape\n",
      "print badValidationData.shape\n",
      "figure()\n",
      "plot(np.sqrt(np.dot(goodValidationData.T, sio.loadmat(phiSaveLoc)['phi_MAP'])), color=\"g\", label=\"Good validation\")\n",
      "plot(np.sqrt(np.dot(goodExamplesData.T, sio.loadmat(phiSaveLoc)['phi_MAP'])), color=\"y\", label=\"Good training\")\n",
      "plot(np.sqrt(np.dot(badValidationData.T, sio.loadmat(phiSaveLoc)['phi_MAP'])), color=\"b\", label=\"Bad validation\")\n",
      "plot(np.sqrt(np.dot(badExamplesData.T, sio.loadmat(phiSaveLoc)['phi_MAP'])), color=\"r\", label=\"Bad training\")\n",
      "legend(bbox_to_anchor=(0., 1.02, 1., .102), loc=3, ncol=4, mode=\"expand\", borderaxespad=0.)\n",
      "\n",
      "figure()\n",
      "plot(np.sqrt(np.dot(goodValidationData.T, np.ones_like(sio.loadmat(phiSaveLoc)['phi_MAP']))), color=\"g\", label=\"Good validation\")\n",
      "plot(np.sqrt(np.dot(goodExamplesData.T, np.ones_like(sio.loadmat(phiSaveLoc)['phi_MAP']))), color=\"y\", label=\"Good training\")\n",
      "plot(np.sqrt(np.dot(badValidationData.T, np.ones_like(sio.loadmat(phiSaveLoc)['phi_MAP']))), color=\"b\", label=\"Bad validation\")\n",
      "plot(np.sqrt(np.dot(badExamplesData.T, np.ones_like(sio.loadmat(phiSaveLoc)['phi_MAP']))), color=\"r\", label=\"Bad training\")\n",
      "legend(bbox_to_anchor=(0., 1.02, 1., .102), loc=3, ncol=4, mode=\"expand\", borderaxespad=0.)"
     ],
     "language": "python",
     "metadata": {},
     "outputs": [
      {
       "ename": "NameError",
       "evalue": "name 'goodValidationData' is not defined",
       "output_type": "pyerr",
       "traceback": [
        "\u001b[0;31m---------------------------------------------------------------------------\u001b[0m\n\u001b[0;31mNameError\u001b[0m                                 Traceback (most recent call last)",
        "\u001b[0;32m<ipython-input-35-5fb64826ff46>\u001b[0m in \u001b[0;36m<module>\u001b[0;34m()\u001b[0m\n\u001b[1;32m      2\u001b[0m \u001b[0;31m# goodValidationData = (imagesGrayData[:, goodValidationExamples[0, :]]-imagesGrayData[:, goodValidationExamples[1, :]])**np.float32(2)\u001b[0m\u001b[0;34m\u001b[0m\u001b[0;34m\u001b[0m\u001b[0m\n\u001b[1;32m      3\u001b[0m \u001b[0;31m# badValidationData = (imagesGrayData[:, badValidationExamples[0, :]]-imagesGrayData[:, badValidationExamples[1, :]])**np.float32(2)\u001b[0m\u001b[0;34m\u001b[0m\u001b[0;34m\u001b[0m\u001b[0m\n\u001b[0;32m----> 4\u001b[0;31m \u001b[0;32mprint\u001b[0m \u001b[0mgoodValidationData\u001b[0m\u001b[0;34m.\u001b[0m\u001b[0mshape\u001b[0m\u001b[0;34m\u001b[0m\u001b[0m\n\u001b[0m\u001b[1;32m      5\u001b[0m \u001b[0;32mprint\u001b[0m \u001b[0mbadValidationData\u001b[0m\u001b[0;34m.\u001b[0m\u001b[0mshape\u001b[0m\u001b[0;34m\u001b[0m\u001b[0m\n\u001b[1;32m      6\u001b[0m \u001b[0mfigure\u001b[0m\u001b[0;34m(\u001b[0m\u001b[0;34m)\u001b[0m\u001b[0;34m\u001b[0m\u001b[0m\n",
        "\u001b[0;31mNameError\u001b[0m: name 'goodValidationData' is not defined"
       ]
      }
     ],
     "prompt_number": 35
    },
    {
     "cell_type": "code",
     "collapsed": false,
     "input": [
      "# img1Name = \"frame-00522.png\"\n",
      "# img1Name = \"frame-01022.png\"\n",
      "# img2Name = \"frame-01023.png\"\n",
      "\n",
      "## good validated\n",
      "img1Name = \"frame-00929.png\"\n",
      "img2Name = \"frame-00951.png\"\n",
      "\n",
      "## bad validated\n",
      "# img1Name = \"frame-00331.png\"\n",
      "# img2Name = \"frame-00106.png\"\n",
      "\n",
      "# img1 = cv2.imread(dataPath+dataSet+img1Name,0) # queryImage\n",
      "# img2 = cv2.imread(dataPath+dataSet+img2Name,0) # trainImage\n",
      "img1 = cv2.cvtColor(frame1, cv2.COLOR_RGB2GRAY)\n",
      "img2 = cv2.cvtColor(frame2, cv2.COLOR_RGB2GRAY)\n",
      "# Initiate SIFT detector\n",
      "sift = cv2.SIFT()\n",
      "\n",
      "# find the keypoints and descriptors with SIFT\n",
      "kp1, des1 = sift.detectAndCompute(img1,None)\n",
      "kp2, des2 = sift.detectAndCompute(img2,None)\n",
      "\n",
      "# FLANN parameters\n",
      "FLANN_INDEX_KDTREE = 0\n",
      "index_params = dict(algorithm = FLANN_INDEX_KDTREE, trees = 5)\n",
      "search_params = dict(checks=50)   # or pass empty dictionary\n",
      "\n",
      "flann = cv2.FlannBasedMatcher(index_params,search_params)\n",
      "\n",
      "matches = flann.knnMatch(des1,des2,k=2)\n",
      "\n",
      "# Need to draw only good matches, so create a mask\n",
      "# matchesMask = [[0,0] for i in xrange(len(matches))]\n",
      "\n",
      "# # ratio test as per Lowe's paper\n",
      "# for i,(m,n) in enumerate(matches):\n",
      "#     if m.distance < 0.7*n.distance:\n",
      "#         matchesMask[i]=[1,0]\n",
      "        \n",
      "# draw_params = dict(matchColor = (0,255,0),\n",
      "#                    singlePointColor = (255,0,0),\n",
      "#                    matchesMask = matchesMask,\n",
      "#                    flags = 0)\n",
      "\n",
      "# img3 = cv2.drawMatchesKnn(img1,kp1,img2,kp2,matches,None,**draw_params)\n",
      "\n",
      "# figure(); imshow(img3,)"
     ],
     "language": "python",
     "metadata": {},
     "outputs": [],
     "prompt_number": 727
    },
    {
     "cell_type": "code",
     "collapsed": false,
     "input": [
      "## Need to draw only good matches, so create a mask\n",
      "## good matches here are chosen based on how unique they are, i.e. how much worse (the threshold below) \n",
      "## is the match with the second best neighbour\n",
      "matchesMask = [[0,0] for i in xrange(len(matches))]\n",
      "\n",
      "# ratio test as per Lowe's paper\n",
      "for i,(m,n) in enumerate(matches):\n",
      "    if m.distance < 0.72*n.distance:\n",
      "        matchesMask[i]=[1,0]\n",
      "# print matchesMask"
     ],
     "language": "python",
     "metadata": {},
     "outputs": [],
     "prompt_number": 748
    },
    {
     "cell_type": "code",
     "collapsed": false,
     "input": [
      "## visualize\n",
      "# figure(); imshow(cv2.cvtColor(np.concatenate((cv2.imread(dataPath+dataSet+img1Name), \n",
      "#                                               cv2.imread(dataPath+dataSet+img2Name)), axis=1), cv2.COLOR_BGR2RGB))\n",
      "figure(); imshow(np.concatenate((frame1, frame2), axis=1))\n",
      "\n",
      "for i, mask in enumerate(matchesMask) :\n",
      "    if mask[0] == 1 :\n",
      "#         print i, kp1[i].pt, matches[i][0].trainIdx\n",
      "        matchIdx = matches[i][0].trainIdx\n",
      "        plot([kp1[i].pt[0], kp2[matchIdx].pt[0]+img1.shape[1]], [kp1[i].pt[1], kp2[matchIdx].pt[1]])\n",
      "\n",
      "## alternative vis\n",
      "# figure(); imshow(np.array(cv2.cvtColor(cv2.imread(dataPath+dataSet+img1Name), cv2.COLOR_BGR2RGB)*.5 +\n",
      "#                           cv2.cvtColor(cv2.imread(dataPath+dataSet+img2Name), cv2.COLOR_BGR2RGB)*.5, dtype=uint8))\n",
      "figure(); imshow(np.array(frame1*0.5 + frame2*0.5, dtype=uint8))\n",
      "\n",
      "dist = 0.0\n",
      "numPoints = 0\n",
      "for i, mask in enumerate(matchesMask) :\n",
      "    if mask[0] == 1 :\n",
      "#         print i, kp1[i].pt, matches[i][0].trainIdx\n",
      "        matchIdx = matches[i][0].trainIdx\n",
      "        plot([kp1[i].pt[0], kp2[matchIdx].pt[0]], [kp1[i].pt[1], kp2[matchIdx].pt[1]])\n",
      "        scatter(kp1[i].pt[0], kp1[i].pt[1], marker='.')\n",
      "        dist += np.linalg.norm(np.array(kp1[i].pt) - np.array(kp2[matchIdx].pt))\n",
      "        numPoints += 1\n",
      "print dist/numPoints, numPoints"
     ],
     "language": "python",
     "metadata": {},
     "outputs": [
      {
       "output_type": "stream",
       "stream": "stdout",
       "text": [
        "18.0167882946 2\n"
       ]
      }
     ],
     "prompt_number": 752
    },
    {
     "cell_type": "code",
     "collapsed": false,
     "input": [
      "print additionalGoodPairsIdxs\n",
      "print goodPairsIdxs[:, -len(additionalGoodPairsIdxs.T):]"
     ],
     "language": "python",
     "metadata": {},
     "outputs": [
      {
       "output_type": "stream",
       "stream": "stdout",
       "text": [
        "[[927 927 928 928 929 929 930 953 974]\n",
        " [950 951 950 951 951 952 952 927 945]]\n",
        "[[927 927 928 928 929 929 930 953 974]\n",
        " [950 951 950 951 951 952 952 927 945]]\n"
       ]
      }
     ],
     "prompt_number": 34
    },
    {
     "cell_type": "code",
     "collapsed": false,
     "input": [
      "gwv.showCustomGraph(np.average(goodExamplesBAK[np.prod(gridSize):2*np.prod(gridSize), goodPairsToUse], axis=1).reshape(gridSize))\n",
      "gwv.showCustomGraph(np.average(badExamplesBAK[np.prod(gridSize):2*np.prod(gridSize), badPairsToUse], axis=1).reshape(gridSize))"
     ],
     "language": "python",
     "metadata": {},
     "outputs": [],
     "prompt_number": 110
    },
    {
     "cell_type": "code",
     "collapsed": false,
     "input": [
      "gwv.showCustomGraph(np.average(goodExamplesData[:np.prod(gridSize), goodPairsToUse], axis=1).reshape(gridSize))\n",
      "gwv.showCustomGraph(np.var(goodExamplesData[:np.prod(gridSize), goodPairsToUse], axis=1).reshape(gridSize))\n",
      "gwv.showCustomGraph(np.average(badExamplesData[:np.prod(gridSize), badPairsToUse], axis=1).reshape(gridSize))\n",
      "gwv.showCustomGraph(np.var(badExamplesData[:np.prod(gridSize), badPairsToUse], axis=1).reshape(gridSize))\n",
      "gwv.showCustomGraph(sio.loadmat(phiSaveLoc)['phi_MAP'][:np.prod(gridSize)].reshape(gridSize))\n",
      "# gwv.showCustomGraph(sio.loadmat(phiSaveLoc)['phi_MAP'].reshape(gridSize)*np.average(X[:np.prod(gridSize), :], axis=1).reshape(gridSize))\n",
      "# gwv.showCustomGraph(np.average(X[np.prod(gridSize):2*np.prod(gridSize), :], axis=1).reshape(gridSize))\n",
      "# gwv.showCustomGraph(np.average(X[2*np.prod(gridSize):, :], axis=1).reshape(gridSize))"
     ],
     "language": "python",
     "metadata": {},
     "outputs": [],
     "prompt_number": 61
    },
    {
     "cell_type": "code",
     "collapsed": false,
     "input": [
      "print sio.loadmat(phiSaveLoc)['phi_MAP']"
     ],
     "language": "python",
     "metadata": {},
     "outputs": [
      {
       "output_type": "stream",
       "stream": "stdout",
       "text": [
        "[[  7.32823857e-01]\n",
        " [  4.28158147e-01]\n",
        " [  8.19128195e-01]\n",
        " [  9.96890772e-01]\n",
        " [  9.96790864e-01]\n",
        " [  2.81850775e-01]\n",
        " [  3.71352539e-01]\n",
        " [  4.80221636e-01]\n",
        " [  1.00609546e+00]\n",
        " [  9.94244147e-01]\n",
        " [  4.50290592e-01]\n",
        " [  3.20017989e-01]\n",
        " [  4.53987000e-01]\n",
        " [  1.62090657e+00]\n",
        " [  6.84516803e+02]\n",
        " [  7.47044323e-01]\n",
        " [  7.41655830e-01]\n",
        " [  1.39617353e+02]\n",
        " [  1.49884744e+00]\n",
        " [  1.14161624e+00]\n",
        " [  1.08659204e+00]\n",
        " [  1.14320101e+00]\n",
        " [  1.09703999e+00]\n",
        " [  1.13568864e+00]\n",
        " [  1.11042559e+00]\n",
        " [  9.99996001e-01]\n",
        " [  9.99972052e-01]\n",
        " [  9.99825349e-01]\n",
        " [  1.00000000e+00]\n",
        " [  1.00000000e+00]\n",
        " [  9.99923266e-01]\n",
        " [  9.99114015e-01]\n",
        " [  9.99960427e-01]\n",
        " [  1.00000417e+00]\n",
        " [  1.00000000e+00]\n",
        " [  9.99952722e-01]\n",
        " [  9.98761477e-01]\n",
        " [  9.98591664e-01]\n",
        " [  1.00003761e+00]\n",
        " [  9.99914333e-01]\n",
        " [  9.99953405e-01]\n",
        " [  9.99923584e-01]\n",
        " [  9.99939440e-01]\n",
        " [  9.99993426e-01]\n",
        " [  9.99960850e-01]\n",
        " [  9.99981949e-01]\n",
        " [  1.00001551e+00]\n",
        " [  1.00001019e+00]\n",
        " [  9.99977947e-01]\n",
        " [  1.00000822e+00]\n",
        " [  1.90996473e-03]\n",
        " [  1.60254025e-03]\n",
        " [  1.69157546e-03]\n",
        " [  1.47911374e-03]\n",
        " [  1.60008103e-03]\n",
        " [  2.39146566e-03]\n",
        " [  7.98564931e-03]\n",
        " [  3.08190660e-03]\n",
        " [  1.80924337e-03]\n",
        " [  2.07067373e-03]\n",
        " [  3.52640711e-03]\n",
        " [  1.48196876e-02]\n",
        " [  5.44642121e-03]\n",
        " [  3.67328407e-03]\n",
        " [  2.98141304e-03]\n",
        " [  7.79287283e-03]\n",
        " [  1.54819561e-02]\n",
        " [  5.69484164e-03]\n",
        " [  6.07262427e-03]\n",
        " [  4.21462896e-03]\n",
        " [  4.24104370e-02]\n",
        " [  1.49448150e-02]\n",
        " [  4.38547578e-03]\n",
        " [  2.53980728e-02]\n",
        " [  4.00870378e-02]]\n"
       ]
      }
     ],
     "prompt_number": 42
    },
    {
     "cell_type": "code",
     "collapsed": false,
     "input": [
      "figure(); plot(sio.loadmat(phiSaveLoc)['phi_MAP'])\n",
      "# gwv.showCustomGraph(sio.loadmat(phiSaveLoc)['phi_MAP'][:16].reshape((4, 4)))"
     ],
     "language": "python",
     "metadata": {},
     "outputs": [
      {
       "metadata": {},
       "output_type": "pyout",
       "prompt_number": 62,
       "text": [
        "[<matplotlib.lines.Line2D at 0x7f503d09f050>]"
       ]
      }
     ],
     "prompt_number": 62
    },
    {
     "cell_type": "code",
     "collapsed": false,
     "input": [
      "## plot good vs bad examples before and after fitting psi\n",
      "figure(\"Re-weighted\")\n",
      "# additionalGoodPairsIdxs = np.empty(0)\n",
      "numGood, numBad = [len(goodExamplesData[:, -len(additionalGoodPairsIdxs.T):].T), len(badExamplesData.T)]\n",
      "plot(np.sqrt(np.dot(goodExamplesData[:, -len(additionalGoodPairsIdxs.T):].T, sio.loadmat(phiSaveLoc)['phi_MAP'])), color=\"y\", label=\"Good training\")\n",
      "plot(arange(numGood, numGood+numBad), np.sqrt(np.dot(badExamplesData.T, sio.loadmat(phiSaveLoc)['phi_MAP'])), color=\"r\", label=\"Bad training\")\n",
      "print \"good\"\n",
      "print np.sqrt(np.dot(goodExamplesData[:, -len(additionalGoodPairsIdxs.T):].T, sio.loadmat(phiSaveLoc)['phi_MAP']))\n",
      "print \"bad\"\n",
      "print np.sqrt(np.dot(badExamplesData.T, sio.loadmat(phiSaveLoc)['phi_MAP']))\n",
      "legend(bbox_to_anchor=(0., 1.02, 1., .102), loc=3, ncol=4, mode=\"expand\", borderaxespad=0.)\n",
      "\n",
      "figure(\"L2\")\n",
      "plot(np.sqrt(np.dot(goodExamplesData[:, -len(additionalGoodPairsIdxs.T):].T, np.ones_like(sio.loadmat(phiSaveLoc)['phi_MAP']))), color=\"y\", label=\"Good training\")\n",
      "plot(arange(numGood, numGood+numBad), np.sqrt(np.dot(badExamplesData.T, np.ones_like(sio.loadmat(phiSaveLoc)['phi_MAP']))), color=\"r\", label=\"Bad training\")\n",
      "legend(bbox_to_anchor=(0., 1.02, 1., .102), loc=3, ncol=4, mode=\"expand\", borderaxespad=0.)"
     ],
     "language": "python",
     "metadata": {},
     "outputs": [
      {
       "output_type": "stream",
       "stream": "stdout",
       "text": [
        "good\n",
        "[[ 2.19608362]\n",
        " [ 2.23311546]\n",
        " [ 2.17337512]\n",
        " [ 2.2103893 ]\n",
        " [ 2.1944693 ]\n",
        " [ 2.22604236]\n",
        " [ 2.19037515]\n",
        " [ 2.30262014]\n",
        " [ 2.11255519]]\n",
        "bad\n",
        "[[ 3.09515159]\n",
        " [ 3.08978883]\n",
        " [ 3.09201944]\n",
        " [ 3.09727846]\n",
        " [ 3.07855696]\n",
        " [ 3.08155478]\n",
        " [ 3.05431729]\n",
        " [ 3.04348906]\n",
        " [ 2.35003719]\n",
        " [ 2.33224762]\n",
        " [ 2.10447468]\n",
        " [ 2.28096546]\n",
        " [ 1.70549654]\n",
        " [ 2.15676362]\n",
        " [ 2.17710093]\n",
        " [ 2.20900944]\n",
        " [ 2.17337512]\n",
        " [ 2.60350323]\n",
        " [ 1.785034  ]\n",
        " [ 1.25005578]]\n"
       ]
      },
      {
       "metadata": {},
       "output_type": "pyout",
       "prompt_number": 47,
       "text": [
        "<matplotlib.legend.Legend at 0x7f515a3d4b90>"
       ]
      }
     ],
     "prompt_number": 47
    },
    {
     "cell_type": "code",
     "collapsed": false,
     "input": [
      "## plot good vs bad examples before and after fitting psi\n",
      "figure(\"Re-weighted\")\n",
      "# additionalGoodPairsIdxs = np.empty(0)\n",
      "numGood, numBad = [len(goodExamplesData[:, -len(additionalGoodPairsIdxs.T):].T), len(badExamplesData.T)]\n",
      "plot(np.sqrt(np.dot(goodExamplesData[:, -len(additionalGoodPairsIdxs.T):].T, sio.loadmat(phiSaveLoc)['phi_MAP'])), color=\"y\", label=\"Good training\")\n",
      "plot(arange(numGood, numGood+numBad), np.sqrt(np.dot(badExamplesData.T, sio.loadmat(phiSaveLoc)['phi_MAP'])), color=\"r\", label=\"Bad training\")\n",
      "print \"good\"\n",
      "print np.sqrt(np.dot(goodExamplesData[:, -len(additionalGoodPairsIdxs.T):].T, sio.loadmat(phiSaveLoc)['phi_MAP']))\n",
      "print \"bad\"\n",
      "print np.sqrt(np.dot(badExamplesData.T, sio.loadmat(phiSaveLoc)['phi_MAP']))\n",
      "legend(bbox_to_anchor=(0., 1.02, 1., .102), loc=3, ncol=4, mode=\"expand\", borderaxespad=0.)\n",
      "\n",
      "figure(\"L2\")\n",
      "plot(np.sqrt(np.dot(goodExamplesData[:, -len(additionalGoodPairsIdxs.T):].T, np.ones_like(sio.loadmat(phiSaveLoc)['phi_MAP']))), color=\"y\", label=\"Good training\")\n",
      "plot(arange(numGood, numGood+numBad), np.sqrt(np.dot(badExamplesData.T, np.ones_like(sio.loadmat(phiSaveLoc)['phi_MAP']))), color=\"r\", label=\"Bad training\")\n",
      "legend(bbox_to_anchor=(0., 1.02, 1., .102), loc=3, ncol=4, mode=\"expand\", borderaxespad=0.)"
     ],
     "language": "python",
     "metadata": {},
     "outputs": [
      {
       "output_type": "stream",
       "stream": "stdout",
       "text": [
        "good\n",
        "[[ 2.28043015]\n",
        " [ 2.33546723]\n",
        " [ 2.25237249]\n",
        " [ 2.27041935]\n",
        " [ 2.2607633 ]\n",
        " [ 2.29822952]\n",
        " [ 2.30834314]\n",
        " [ 2.55090119]\n",
        " [ 2.44792239]]\n",
        "bad\n",
        "[[ 2.60036432]\n",
        " [ 2.55035263]\n",
        " [ 2.59583278]\n",
        " [ 2.77179204]\n",
        " [ 2.62440958]\n",
        " [ 2.78012142]\n",
        " [ 2.60765314]\n",
        " [ 2.53243597]\n",
        " [ 2.16225722]\n",
        " [ 2.39142146]\n",
        " [ 2.25703629]\n",
        " [ 2.48146712]\n",
        " [ 2.95684879]\n",
        " [ 2.27992707]\n",
        " [ 1.76409374]\n",
        " [ 2.26640792]\n",
        " [ 2.25237249]\n",
        " [ 3.05782989]\n",
        " [ 3.21932803]\n",
        " [ 3.33111684]]\n"
       ]
      },
      {
       "metadata": {},
       "output_type": "pyout",
       "prompt_number": 271,
       "text": [
        "<matplotlib.legend.Legend at 0x7f0098206250>"
       ]
      }
     ],
     "prompt_number": 271
    },
    {
     "cell_type": "code",
     "collapsed": false,
     "input": [
      "print additionalGoodPairsIdxs.T\n",
      "print badPairsIdxs.T"
     ],
     "language": "python",
     "metadata": {},
     "outputs": [
      {
       "output_type": "stream",
       "stream": "stdout",
       "text": [
        "[[927 950]\n",
        " [927 951]\n",
        " [928 950]\n",
        " [928 951]\n",
        " [929 951]\n",
        " [929 952]\n",
        " [930 952]\n",
        " [953 927]\n",
        " [974 945]]\n",
        "[[ 126    8]\n",
        " [ 127    8]\n",
        " [ 127    9]\n",
        " [ 127   10]\n",
        " [ 128    9]\n",
        " [ 128   10]\n",
        " [ 129   10]\n",
        " [ 130   11]\n",
        " [ 330  105]\n",
        " [ 330  106]\n",
        " [ 928  949]\n",
        " [ 928  953]\n",
        " [ 929  942]\n",
        " [ 929  950]\n",
        " [ 946  922]\n",
        " [ 949  925]\n",
        " [ 950  928]\n",
        " [ 959 1029]\n",
        " [ 960  941]\n",
        " [ 960  950]]\n"
       ]
      }
     ],
     "prompt_number": 248
    },
    {
     "cell_type": "code",
     "collapsed": false,
     "input": [
      "figure(); imshow(imagesGrayData[:, 928].reshape((720, 1280)))\n",
      "figure(); imshow(imagesGrayData[:, 953].reshape((720, 1280)))\n",
      "figure(); imshow(imagesGrayData[:, 928].reshape((720, 1280)))\n",
      "figure(); imshow(imagesGrayData[:, 950].reshape((720, 1280)))"
     ],
     "language": "python",
     "metadata": {},
     "outputs": [
      {
       "metadata": {},
       "output_type": "pyout",
       "prompt_number": 180,
       "text": [
        "<matplotlib.image.AxesImage at 0x7f00943d5b90>"
       ]
      }
     ],
     "prompt_number": 180
    },
    {
     "cell_type": "code",
     "collapsed": false,
     "input": [
      "## plot good vs bad examples before and after fitting psi\n",
      "figure(\"Re-weighted\")\n",
      "# numGood, numBad = [len(goodExamplesData[:, -len(additionalGoodPairsIdxs.T):].T), len(badExamplesData.T)]\n",
      "# plot(np.sqrt(np.dot(goodExamplesData[:, -len(additionalGoodPairsIdxs.T):].T, sio.loadmat(phiSaveLoc)['phi_MAP'])), color=\"y\", label=\"Good training\")\n",
      "numGood, numBad = [len(goodExamplesData.T), len(badExamplesData.T)]\n",
      "plot(np.sqrt(np.dot(goodExamplesData.T, sio.loadmat(phiSaveLoc)['phi_MAP'])), color=\"y\", label=\"Good training\")\n",
      "plot(arange(numGood, numGood+numBad), np.sqrt(np.dot(badExamplesData.T, sio.loadmat(phiSaveLoc)['phi_MAP'])), color=\"r\", label=\"Bad training\")\n",
      "print \"good\"\n",
      "print np.sqrt(np.dot(goodExamplesData[:, -len(additionalGoodPairsIdxs.T):].T, sio.loadmat(phiSaveLoc)['phi_MAP']))\n",
      "print \"bad\"\n",
      "print np.sqrt(np.dot(badExamplesData.T, sio.loadmat(phiSaveLoc)['phi_MAP']))\n",
      "legend(bbox_to_anchor=(0., 1.02, 1., .102), loc=3, ncol=4, mode=\"expand\", borderaxespad=0.)\n",
      "\n",
      "figure(\"L2\")\n",
      "# plot(np.sqrt(np.dot(goodExamplesData[:, -len(additionalGoodPairsIdxs.T):].T, np.ones_like(sio.loadmat(phiSaveLoc)['phi_MAP']))), color=\"y\", label=\"Good training\")\n",
      "plot(np.sqrt(np.dot(goodExamplesData.T, np.ones_like(sio.loadmat(phiSaveLoc)['phi_MAP']))), color=\"y\", label=\"Good training\")\n",
      "plot(arange(numGood, numGood+numBad), np.sqrt(np.dot(badExamplesData.T, np.ones_like(sio.loadmat(phiSaveLoc)['phi_MAP']))), color=\"r\", label=\"Bad training\")\n",
      "legend(bbox_to_anchor=(0., 1.02, 1., .102), loc=3, ncol=4, mode=\"expand\", borderaxespad=0.)"
     ],
     "language": "python",
     "metadata": {},
     "outputs": [
      {
       "output_type": "stream",
       "stream": "stdout",
       "text": [
        "good\n",
        "[[ 1.59535881]\n",
        " [ 1.62557241]\n",
        " [ 1.59463612]\n",
        " [ 1.62358461]\n",
        " [ 1.61550381]\n",
        " [ 1.63210144]\n",
        " [ 1.61019394]\n",
        " [ 1.66651773]\n",
        " [ 1.63641159]]\n",
        "bad\n",
        "[[ 2.44802998]\n",
        " [ 2.43842623]\n",
        " [ 2.44596372]\n",
        " [ 2.45826478]\n",
        " [ 2.42756645]\n",
        " [ 2.43726406]\n",
        " [ 2.40924592]\n",
        " [ 2.39843303]\n",
        " [ 1.75361585]\n",
        " [ 1.74319938]\n",
        " [ 1.53237944]\n",
        " [ 1.66207481]\n",
        " [ 1.30092269]\n",
        " [ 1.58640673]\n",
        " [ 1.5906364 ]\n",
        " [ 1.59250345]\n",
        " [ 1.59463612]\n",
        " [ 1.89317779]\n",
        " [ 1.3161816 ]\n",
        " [ 1.08736341]]\n"
       ]
      },
      {
       "metadata": {},
       "output_type": "pyout",
       "prompt_number": 178,
       "text": [
        "<matplotlib.legend.Legend at 0x7f00d47f42d0>"
       ]
      }
     ],
     "prompt_number": 178
    },
    {
     "cell_type": "code",
     "collapsed": false,
     "input": [
      "print X.shape\n",
      "print w.shape\n",
      "print len(list(w))"
     ],
     "language": "python",
     "metadata": {},
     "outputs": [
      {
       "output_type": "stream",
       "stream": "stdout",
       "text": [
        "(230400, 1236)\n",
        "(1236, 1)\n",
        "1236\n"
       ]
      }
     ],
     "prompt_number": 124
    },
    {
     "cell_type": "code",
     "collapsed": false,
     "input": [
      "testExamples = [1213, 1215, 1217, 1219, 1221, 1223, 1225, 1227, 1229, 1231, 1232]\n",
      "trainingExamples = np.delete(np.arange(X.shape[1]),\n",
      "                             np.concatenate((np.arange(goodExamplesData.shape[1]-len(additionalGoodPairsIdxs.T)),\n",
      "                                             testExamples)))\n",
      "print testExamples\n",
      "print trainingExamples"
     ],
     "language": "python",
     "metadata": {},
     "outputs": [
      {
       "output_type": "stream",
       "stream": "stdout",
       "text": [
        "[1213, 1215, 1217, 1219, 1221, 1223, 1225, 1227, 1229, 1231, 1232]\n",
        "[1207 1208 1209 1210 1211 1212 1214 1216 1218 1220 1222 1224 1226 1228 1230\n",
        " 1233 1234 1235]\n"
       ]
      }
     ],
     "prompt_number": 79
    },
    {
     "cell_type": "code",
     "collapsed": false,
     "input": [
      "tic = time.time()\n",
      "classifier = ensemble.ExtraTreesRegressor(n_estimators=100, n_jobs=4, verbose=4)\n",
      "classifier.fit(list(X[:, trainingExamples].T), w[trainingExamples, 0])\n",
      "print time.time()-tic"
     ],
     "language": "python",
     "metadata": {},
     "outputs": [
      {
       "output_type": "stream",
       "stream": "stderr",
       "text": [
        "[Parallel(n_jobs=4)]: Done   1 out of   4 | elapsed:    4.7s remaining:   14.1s\n",
        "[Parallel(n_jobs=4)]: Done   2 out of   4 | elapsed:    5.2s remaining:    5.2s\n",
        "[Parallel(n_jobs=4)]: Done   4 out of   4 | elapsed:    5.2s finished\n"
       ]
      },
      {
       "output_type": "stream",
       "stream": "stdout",
       "text": [
        "6.23729705811\n",
        "building tree 1 of 25\n",
        "building tree 1 of 25\n",
        "building tree 1 of 25\n",
        "building tree 1 of 25\n",
        "building tree 2 of 25building tree 2 of 25building tree 2 of 25building tree 2 of 25\n",
        "\n",
        "\n",
        "\n",
        "building tree 3 of 25building tree 3 of 25building tree 3 of 25building tree 3 of 25\n",
        "\n",
        "\n",
        "\n",
        "building tree 4 of 25building tree 4 of 25building tree 4 of 25building tree 4 of 25\n",
        "\n",
        "\n",
        "\n",
        "building tree 5 of 25building tree 5 of 25building tree 5 of 25building tree 5 of 25\n",
        "\n",
        "\n",
        "\n",
        "building tree 6 of 25building tree 6 of 25building tree 6 of 25building tree 6 of 25\n",
        "\n",
        "\n",
        "\n",
        "building tree 7 of 25building tree 7 of 25building tree 7 of 25building tree 7 of 25\n",
        "\n",
        "\n",
        "\n",
        "building tree 8 of 25building tree 8 of 25building tree 8 of 25building tree 8 of 25\n",
        "\n",
        "\n",
        "\n",
        "building tree 9 of 25building tree 9 of 25building tree 9 of 25building tree 9 of 25\n",
        "\n",
        "\n",
        "\n",
        "building tree 10 of 25building tree 10 of 25building tree 10 of 25building tree 10 of 25\n",
        "\n",
        "\n",
        "\n",
        "building tree 11 of 25building tree 11 of 25building tree 11 of 25building tree 11 of 25\n",
        "\n",
        "\n",
        "\n",
        "building tree 12 of 25building tree 12 of 25building tree 12 of 25building tree 12 of 25\n",
        "\n",
        "\n",
        "\n",
        "building tree 13 of 25building tree 13 of 25building tree 13 of 25building tree 13 of 25\n",
        "\n",
        "\n",
        "\n",
        "building tree 14 of 25building tree 14 of 25building tree 14 of 25building tree 14 of 25\n",
        "\n",
        "\n",
        "\n",
        "building tree 15 of 25building tree 15 of 25building tree 15 of 25building tree 15 of 25\n",
        "\n",
        "\n",
        "\n",
        "building tree 16 of 25building tree 16 of 25building tree 16 of 25building tree 16 of 25\n",
        "\n",
        "\n",
        "\n",
        "building tree 17 of 25building tree 17 of 25building tree 17 of 25building tree 17 of 25\n",
        "\n",
        "\n",
        "\n",
        "building tree 18 of 25building tree 18 of 25building tree 18 of 25building tree 18 of 25\n",
        "\n",
        "\n",
        "\n",
        "building tree 19 of 25building tree 19 of 25building tree 19 of 25building tree 19 of 25\n",
        "\n",
        "\n",
        "\n",
        "building tree 20 of 25building tree 20 of 25building tree 20 of 25building tree 20 of 25\n",
        "\n",
        "\n",
        "\n",
        "building tree 21 of 25building tree 21 of 25building tree 21 of 25building tree 21 of 25\n",
        "\n",
        "\n",
        "\n",
        "building tree 22 of 25building tree 22 of 25building tree 22 of 25building tree 22 of 25\n",
        "\n",
        "\n",
        "\n",
        "building tree 23 of 25building tree 23 of 25building tree 23 of 25building tree 23 of 25\n",
        "\n",
        "\n",
        "\n",
        "building tree 24 of 25building tree 24 of 25building tree 24 of 25building tree 24 of 25\n",
        "\n",
        "\n",
        "\n",
        "building tree 25 of 25building tree 25 of 25building tree 25 of 25building tree 25 of 25\n",
        "\n",
        "\n",
        "\n"
       ]
      }
     ],
     "prompt_number": 80
    },
    {
     "cell_type": "code",
     "collapsed": false,
     "input": [
      "# figure(\"Random Forests\")\n",
      "figure(\"Random Forests - reduced examples\")\n",
      "dists = classifier.predict(list(goodExamplesData[:, -len(additionalGoodPairsIdxs.T):].T))\n",
      "dists = np.concatenate((dists, classifier.predict(list(badExamplesData.T))))\n",
      "plot(dists[:numGood], color=\"y\", label=\"Good training\")\n",
      "plot(arange(numGood, numGood+numBad), dists[numGood:], color=\"r\", label=\"Bad training\")\n",
      "gca().autoscale(False)\n",
      "scatter(np.array(testExamples)-len(goodExamplesData.T)+len(additionalGoodPairsIdxs.T), dists[np.array(testExamples)-len(goodExamplesData.T)+len(additionalGoodPairsIdxs.T)])\n",
      "legend(bbox_to_anchor=(0., 1.02, 1., .102), loc=3, ncol=4, mode=\"expand\", borderaxespad=0.)"
     ],
     "language": "python",
     "metadata": {},
     "outputs": [
      {
       "output_type": "stream",
       "stream": "stderr",
       "text": [
        "[Parallel(n_jobs=4)]: Done   1 out of   4 | elapsed:    0.1s remaining:    0.2s\n",
        "[Parallel(n_jobs=4)]: Done   2 out of   4 | elapsed:    0.1s remaining:    0.1s\n",
        "[Parallel(n_jobs=4)]: Done   4 out of   4 | elapsed:    0.2s finished\n"
       ]
      },
      {
       "output_type": "stream",
       "stream": "stderr",
       "text": [
        "[Parallel(n_jobs=4)]: Done   1 out of   4 | elapsed:    0.2s remaining:    0.5s\n",
        "[Parallel(n_jobs=4)]: Done   2 out of   4 | elapsed:    0.2s remaining:    0.2s\n",
        "[Parallel(n_jobs=4)]: Done   4 out of   4 | elapsed:    0.4s finished\n"
       ]
      },
      {
       "metadata": {},
       "output_type": "pyout",
       "prompt_number": 81,
       "text": [
        "<matplotlib.legend.Legend at 0x7f71bcb13e10>"
       ]
      }
     ],
     "prompt_number": 81
    },
    {
     "cell_type": "code",
     "collapsed": false,
     "input": [
      "figure(\"Random Forests - timeline pairs\")\n",
      "plot(classifier.predict(list(goodExamplesData[:, :-len(additionalGoodPairsIdxs.T)].T)), color=\"g\")"
     ],
     "language": "python",
     "metadata": {},
     "outputs": [
      {
       "output_type": "stream",
       "stream": "stderr",
       "text": [
        "[Parallel(n_jobs=4)]: Done   1 out of   4 | elapsed:    0.3s remaining:    1.0s\n",
        "[Parallel(n_jobs=4)]: Done   2 out of   4 | elapsed:    0.4s remaining:    0.4s\n",
        "[Parallel(n_jobs=4)]: Done   4 out of   4 | elapsed:    0.4s finished\n"
       ]
      },
      {
       "metadata": {},
       "output_type": "pyout",
       "prompt_number": 82,
       "text": [
        "[<matplotlib.lines.Line2D at 0x7f71a9cda210>]"
       ]
      }
     ],
     "prompt_number": 82
    },
    {
     "cell_type": "code",
     "collapsed": false,
     "input": [
      "### compute l2 distance matrix between labelled training examples\n",
      "featDists = np.ones((numGood+numBad, numGood+numBad))\n",
      "for featI, i in zip(np.concatenate((goodExamplesData[:, -len(additionalGoodPairsIdxs.T):].T, badExamplesData.T), axis=0), xrange(numGood+numBad)) :\n",
      "    for featJ, j in zip(np.concatenate((goodExamplesData[:, -len(additionalGoodPairsIdxs.T):].T, badExamplesData.T), axis=0), xrange(numGood+numBad)) :\n",
      "        featDists[i, j] = np.sqrt(np.sum((featI-featJ)**2))\n",
      "gwv.showCustomGraph(featDists)\n",
      "print numGood, numBad"
     ],
     "language": "python",
     "metadata": {},
     "outputs": [
      {
       "output_type": "stream",
       "stream": "stdout",
       "text": [
        "9 20\n"
       ]
      }
     ],
     "prompt_number": 70
    },
    {
     "cell_type": "code",
     "collapsed": false,
     "input": [
      "print np.sum(goodExamplesData[:, -len(additionalGoodPairsIdxs.T)+2]-badExamplesData[:, -4])"
     ],
     "language": "python",
     "metadata": {},
     "outputs": [
      {
       "output_type": "stream",
       "stream": "stdout",
       "text": [
        "0.0\n"
       ]
      }
     ],
     "prompt_number": 89
    },
    {
     "cell_type": "code",
     "collapsed": false,
     "input": [
      "figure(); plot(fittedPhiUsingPsi)\n",
      "# print phiSaveLoc\n",
      "resizeRatio = 0.75\n",
      "resizedImageSize = cv2.resize(cv2.imread(framePaths[0]), (0, 0), fx=resizeRatio, fy=resizeRatio).shape[0:2]\n",
      "reshapedWeights = fittedPhiUsingPsi.reshape(resizedImageSize)\n",
      "gwv.showCustomGraph(log(reshapedWeights), showColorbar=True)"
     ],
     "language": "python",
     "metadata": {},
     "outputs": [],
     "prompt_number": 5
    },
    {
     "cell_type": "code",
     "collapsed": false,
     "input": [
      "# print fittedPhiUsingPsi.shape, resizedImageSize\n",
      "# gwv.showCustomGraph(X[:, -1].reshape(resizedImageSize)*reshapedWeights)\n",
      "# gwv.showCustomGraph(X[:, -1].reshape(resizedImageSize))\n",
      "\n",
      "## resize training examples into image shape\n",
      "# resizedTraining = X.reshape((resizedImageSize[0], resizedImageSize[1], X.shape[-1]))\n",
      "## weight each example by the fitted weights\n",
      "# weightedTraining = resizedTraining*reshapedWeights.reshape((resizedImageSize[0], resizedImageSize[1], 1)).repeat(X.shape[-1], axis=-1)\n",
      "## visualize average of the weighted examples and see how good and bad examples get weighted\n",
      "# gwv.showCustomGraph(np.mean(weightedTraining[:, :, 1207:], axis=-1), showColorbar=True)\n",
      "gwv.showCustomGraph(np.sum(resizedTraining[:, :, 1207:], axis=-1), showColorbar=True)\n",
      "# gwv.showCustomGraph(weightedTraining[:, :, -800])"
     ],
     "language": "python",
     "metadata": {},
     "outputs": [],
     "prompt_number": 146
    },
    {
     "cell_type": "code",
     "collapsed": false,
     "input": [
      "# validatedJumps = np.load(dataPath+dataSet+\"validatedJumps.npy\")\n",
      "# gwv.showCustomGraph(validatedJumps)\n",
      "\n",
      "good = np.argwhere(validatedJumps == 1).T\n",
      "bad = np.argwhere(validatedJumps == 0).T\n",
      "\n",
      "if doRGB :\n",
      "    resizedImageSize = cv2.resize(cv2.imread(framePaths[0]), (0, 0), fx=resizeRatio, fy=resizeRatio).shape\n",
      "else :\n",
      "    resizedImageSize = cv2.resize(cv2.imread(framePaths[0]), (0, 0), fx=resizeRatio, fy=resizeRatio).shape[0:2]\n",
      "fittedWeights = sio.loadmat(phiSaveLoc)['phi_MAP'].reshape(resizedImageSize)\n",
      "\n",
      "visPair = bad[:, -1]\n",
      "print visPair\n",
      "# figure(); imshow(imagesGrayData[:, visPair[0]].reshape(resizedImageSize))\n",
      "# figure(); imshow(imagesGrayData[:, visPair[1]].reshape(resizedImageSize))\n",
      "if doRGB :\n",
      "    squaredDiff = (imagesRGBData[:, pair[0]].reshape(resizedImageSize)-imagesRGBData[:, pair[1]].reshape(resizedImageSize))**2\n",
      "else :\n",
      "    squaredDiff = (imagesGrayData[:, visPair[0]].reshape(resizedImageSize)-imagesGrayData[:, visPair[1]].reshape(resizedImageSize))**2\n",
      "\n",
      "if doRGB :\n",
      "    figure('Bad Pair '+np.string_(np.sum(squaredDiff))); imshow(np.array(squaredDiff*np.max(squaredDiff)*255, dtype=uint8))\n",
      "    figure('Bad Pair Weighted '+np.string_(np.sum(squaredDiff*fittedWeights))); imshow(np.array(squaredDiff*fittedWeights*np.max(squaredDiff*fittedWeights)*255, dtype=uint8))\n",
      "else :\n",
      "    gwv.showCustomGraph(squaredDiff, title='Bad Pair '+np.string_(np.sum(squaredDiff)))\n",
      "    gwv.showCustomGraph(squaredDiff*fittedWeights, \n",
      "                        title='Bad Pair Weighted '+np.string_(np.sum(squaredDiff*fittedWeights)))\n",
      "\n",
      "visPair = good[:, -1]\n",
      "print visPair\n",
      "# figure(); imshow(imagesGrayData[:, visPair[0]].reshape(resizedImageSize))\n",
      "# figure(); imshow(imagesGrayData[:, visPair[1]].reshape(resizedImageSize))\n",
      "if doRGB :\n",
      "    squaredDiff = (imagesRGBData[:, visPair[0]].reshape(resizedImageSize)-imagesRGBData[:, visPair[1]].reshape(resizedImageSize))**2\n",
      "else :\n",
      "    squaredDiff = (imagesGrayData[:, visPair[0]].reshape(resizedImageSize)-imagesGrayData[:, visPair[1]].reshape(resizedImageSize))**2\n",
      "    \n",
      "if doRGB :\n",
      "    figure('Good Pair '+np.string_(np.sum(squaredDiff))); imshow(np.array(squaredDiff*np.max(squaredDiff)*255, dtype=uint8))\n",
      "    figure('Good Pair Weighted '+np.string_(np.sum(squaredDiff*fittedWeights))); imshow(np.array(squaredDiff*fittedWeights*np.max(squaredDiff*fittedWeights)*255, dtype=uint8))\n",
      "else :\n",
      "    gwv.showCustomGraph(squaredDiff, title='Good Pair '+np.string_(np.sum(squaredDiff)))\n",
      "    gwv.showCustomGraph(squaredDiff*fittedWeights, \n",
      "                        title='Good Pair Weighted '+np.string_(np.sum(squaredDiff*fittedWeights)))"
     ],
     "language": "python",
     "metadata": {},
     "outputs": [
      {
       "ename": "ValueError",
       "evalue": "total size of new array must be unchanged",
       "output_type": "pyerr",
       "traceback": [
        "\u001b[0;31m---------------------------------------------------------------------------\u001b[0m\n\u001b[0;31mValueError\u001b[0m                                Traceback (most recent call last)",
        "\u001b[0;32m<ipython-input-242-b32a8f817339>\u001b[0m in \u001b[0;36m<module>\u001b[0;34m()\u001b[0m\n\u001b[1;32m      9\u001b[0m \u001b[0;32melse\u001b[0m \u001b[0;34m:\u001b[0m\u001b[0;34m\u001b[0m\u001b[0m\n\u001b[1;32m     10\u001b[0m     \u001b[0mresizedImageSize\u001b[0m \u001b[0;34m=\u001b[0m \u001b[0mcv2\u001b[0m\u001b[0;34m.\u001b[0m\u001b[0mresize\u001b[0m\u001b[0;34m(\u001b[0m\u001b[0mcv2\u001b[0m\u001b[0;34m.\u001b[0m\u001b[0mimread\u001b[0m\u001b[0;34m(\u001b[0m\u001b[0mframePaths\u001b[0m\u001b[0;34m[\u001b[0m\u001b[0;36m0\u001b[0m\u001b[0;34m]\u001b[0m\u001b[0;34m)\u001b[0m\u001b[0;34m,\u001b[0m \u001b[0;34m(\u001b[0m\u001b[0;36m0\u001b[0m\u001b[0;34m,\u001b[0m \u001b[0;36m0\u001b[0m\u001b[0;34m)\u001b[0m\u001b[0;34m,\u001b[0m \u001b[0mfx\u001b[0m\u001b[0;34m=\u001b[0m\u001b[0mresizeRatio\u001b[0m\u001b[0;34m,\u001b[0m \u001b[0mfy\u001b[0m\u001b[0;34m=\u001b[0m\u001b[0mresizeRatio\u001b[0m\u001b[0;34m)\u001b[0m\u001b[0;34m.\u001b[0m\u001b[0mshape\u001b[0m\u001b[0;34m[\u001b[0m\u001b[0;36m0\u001b[0m\u001b[0;34m:\u001b[0m\u001b[0;36m2\u001b[0m\u001b[0;34m]\u001b[0m\u001b[0;34m\u001b[0m\u001b[0m\n\u001b[0;32m---> 11\u001b[0;31m \u001b[0mfittedWeights\u001b[0m \u001b[0;34m=\u001b[0m \u001b[0msio\u001b[0m\u001b[0;34m.\u001b[0m\u001b[0mloadmat\u001b[0m\u001b[0;34m(\u001b[0m\u001b[0mphiSaveLoc\u001b[0m\u001b[0;34m)\u001b[0m\u001b[0;34m[\u001b[0m\u001b[0;34m'phi_MAP'\u001b[0m\u001b[0;34m]\u001b[0m\u001b[0;34m.\u001b[0m\u001b[0mreshape\u001b[0m\u001b[0;34m(\u001b[0m\u001b[0mresizedImageSize\u001b[0m\u001b[0;34m)\u001b[0m\u001b[0;34m\u001b[0m\u001b[0m\n\u001b[0m\u001b[1;32m     12\u001b[0m \u001b[0;34m\u001b[0m\u001b[0m\n\u001b[1;32m     13\u001b[0m \u001b[0mvisPair\u001b[0m \u001b[0;34m=\u001b[0m \u001b[0mbad\u001b[0m\u001b[0;34m[\u001b[0m\u001b[0;34m:\u001b[0m\u001b[0;34m,\u001b[0m \u001b[0;34m-\u001b[0m\u001b[0;36m1\u001b[0m\u001b[0;34m]\u001b[0m\u001b[0;34m\u001b[0m\u001b[0m\n",
        "\u001b[0;31mValueError\u001b[0m: total size of new array must be unchanged"
       ]
      }
     ],
     "prompt_number": 242
    },
    {
     "cell_type": "code",
     "collapsed": false,
     "input": [
      "goodWeighted = []\n",
      "badWeighted = []\n",
      "goodL2 = []\n",
      "badL2 = []\n",
      "fittedWeights = np.ndarray.flatten(sio.loadmat(phiSaveLoc)['phi_MAP'])\n",
      "for pair in good.T :\n",
      "    if doHogs :\n",
      "        squaredDiff = (hogFeats[pair[0], :]-hogFeats[pair[1], :])**2\n",
      "    else :\n",
      "        if doRGB :\n",
      "            squaredDiff = (imagesRGBData[:, pair[0]]-imagesRGBData[:, pair[1]])**2\n",
      "        else :\n",
      "            squaredDiff = (imagesGrayData[:, pair[0]]-imagesGrayData[:, pair[1]])**2\n",
      "    print pair, np.sqrt(np.sum(squaredDiff)), np.sqrt(np.sum(squaredDiff*fittedWeights))\n",
      "    goodWeighted.append(np.sqrt(np.sum(squaredDiff*fittedWeights)))\n",
      "    goodL2.append(np.sqrt(np.sum(squaredDiff)))\n",
      "\n",
      "print \n",
      "for pair in bad.T :\n",
      "    if doHogs :\n",
      "        squaredDiff = (hogFeats[pair[0], :]-hogFeats[pair[1], :])**2\n",
      "    else :\n",
      "        if doRGB :\n",
      "            squaredDiff = (imagesRGBData[:, pair[0]]-imagesRGBData[:, pair[1]])**2\n",
      "        else :\n",
      "            squaredDiff = (imagesGrayData[:, pair[0]]-imagesGrayData[:, pair[1]])**2\n",
      "    print pair, np.sqrt(np.sum(squaredDiff)), np.sqrt(np.sum(squaredDiff*fittedWeights))\n",
      "    badWeighted.append(np.sqrt(np.sum(squaredDiff*fittedWeights)))\n",
      "    badL2.append(np.sqrt(np.sum(squaredDiff)))\n",
      "    \n",
      "## plot good vs bad examples before and after fitting psi\n",
      "figure()\n",
      "plot(goodWeighted, color=\"y\", label=\"Good training\")\n",
      "plot(badWeighted, color=\"r\", label=\"Bad training\")\n",
      "legend(bbox_to_anchor=(0., 1.02, 1., .102), loc=3, ncol=4, mode=\"expand\", borderaxespad=0.)\n",
      "\n",
      "figure()\n",
      "plot(goodL2, color=\"y\", label=\"Good training\")\n",
      "plot(badL2, color=\"r\", label=\"Bad training\")\n",
      "legend(bbox_to_anchor=(0., 1.02, 1., .102), loc=3, ncol=4, mode=\"expand\", borderaxespad=0.)"
     ],
     "language": "python",
     "metadata": {},
     "outputs": [
      {
       "output_type": "stream",
       "stream": "stdout",
       "text": [
        "[927 950] 28.7962 3.25568040671\n",
        "[927 951] 29.9694 3.31624742243\n",
        "[928 950] 31.0228 3.28603999818\n",
        "[928 951] 29.9406 3.30444044276\n",
        "[929 951] 32.6111 3.35218564045\n",
        "[929 952] 31.2468 3.33612282356\n",
        "[930 952] 34.9143 3.51962923185\n",
        "[953 927]"
       ]
      },
      {
       "output_type": "stream",
       "stream": "stdout",
       "text": [
        " 33.6028 3.43016109142\n",
        "[974 945] 27.7686 3.54677522313\n",
        "\n",
        "[126   8] 31.8612 5.1088070082\n",
        "[127   8] 30.3858 5.0365324561\n",
        "[127   9] 31.4838 5.0497133651\n",
        "[127  10] 33.7243 5.17286627321\n",
        "[128   9] 30.2666 5.02092004565\n",
        "[128  10]"
       ]
      },
      {
       "output_type": "stream",
       "stream": "stdout",
       "text": [
        " 32.0017 5.0891333627\n",
        "[129  10] 30.3147 5.02876183881\n",
        "[130  11] 30.6596 5.06703640798\n",
        "[330 105] 31.4911 5.55467993165\n",
        "[330 106] 33.2252 5.63836340946\n",
        "[928 949] 31.8953 3.30208959838\n",
        "[928 953] 31.6581 3.38338373629\n",
        "[929 942]"
       ]
      },
      {
       "output_type": "stream",
       "stream": "stdout",
       "text": [
        " 40.9584 3.50597572399\n",
        "[929 950] 33.6384 3.3312776583\n",
        "[946 922] 27.6408 3.31111736918\n",
        "[949 925] 28.0262 3.27916649496\n",
        "[950 928] 31.0228 3.28603999818\n",
        "[ 959 1029] 36.4898 4.41388797303\n",
        "[960 941] 36.1112 3.53851056852\n",
        "[960 950]"
       ]
      },
      {
       "output_type": "stream",
       "stream": "stdout",
       "text": [
        " 36.3069 3.28118439741\n"
       ]
      },
      {
       "metadata": {},
       "output_type": "pyout",
       "prompt_number": 288,
       "text": [
        "<matplotlib.legend.Legend at 0x7f50f365dd90>"
       ]
      }
     ],
     "prompt_number": 288
    },
    {
     "cell_type": "code",
     "collapsed": false,
     "input": [
      "[927 950] 27.2093 2.14080814411\n",
      "[927 951] 28.1342 2.17981672858\n",
      "[928 950] 29.7045 2.18269318793\n",
      "[928 951] 28.4334 2.18061420331\n",
      "[929 951] 31.3144 2.24727272516\n",
      "[929 952] 29.8655 2.23011209716\n",
      "[930 952] 33.0149 2.36626978265\n",
      "[953 927] 31.914 2.28318629996\n",
      "[974 945] 26.8204 2.25359033979\n",
      "\n",
      "[126   8] 30.71 3.56370817368\n",
      "[127   8] 29.2642 3.52514847033\n",
      "[127   9] 30.4547 3.54506750138\n",
      "[127  10] 32.5952 3.61926665286\n",
      "[128   9] 29.0482 3.51348336548\n",
      "[128  10] 30.7595 3.56129860681\n",
      "[129  10] 29.1621 3.49770694837\n",
      "[130  11] 29.6627 3.47948731979\n",
      "[330 105] 30.3913 3.27191115629\n",
      "[330 106] 32.0219 3.29588710884\n",
      "[928 949] 30.8524 2.20138769731\n",
      "[928 953] 30.0233 2.24931922881\n",
      "[929 942] 40.126 2.43132457755\n",
      "[929 950] 32.6549 2.25081500298\n",
      "[946 922] 26.5016 2.09064952641\n",
      "[949 925] 26.4918 2.10779238819\n",
      "[950 928] 29.7045 2.18269318793\n",
      "[ 959 1029] 35.1725 2.51904705615\n",
      "[960 941] 34.9789 2.36658488158\n",
      "[960 950] 35.2708 2.28535194038"
     ],
     "language": "python",
     "metadata": {},
     "outputs": [
      {
       "output_type": "stream",
       "stream": "stdout",
       "text": [
        "(124416, 1)\n",
        "(124416,)\n"
       ]
      }
     ],
     "prompt_number": 245
    },
    {
     "cell_type": "code",
     "collapsed": false,
     "input": [
      "print np.sqrt(np.dot(badExamplesData.T, np.ones_like(sio.loadmat(phiSaveLoc)['phi_MAP'])))\n",
      "figure(); imshow((imagesGrayData[:, bad[0, -1]].reshape(resizedImageSize)-imagesGrayData[:, bad[1, -1]].reshape(resizedImageSize))**2)\n",
      "figure(); imshow(badExamplesData[:, -1].reshape(resizedImageSize))"
     ],
     "language": "python",
     "metadata": {},
     "outputs": [
      {
       "output_type": "stream",
       "stream": "stdout",
       "text": [
        "[[ 31.47695993]\n",
        " [ 30.78504815]\n",
        " [ 30.40069948]\n",
        " [ 31.49918104]\n",
        " [ 30.27228336]\n",
        " [ 30.2817828 ]\n",
        " [ 29.79382582]\n",
        " [ 29.86158294]\n",
        " [ 31.20967169]\n",
        " [ 31.50292437]\n",
        " [ 33.4277838 ]\n",
        " [ 30.08917996]\n",
        " [ 39.37372547]\n",
        " [ 35.24486811]\n",
        " [ 28.23824751]\n",
        " [ 27.77149111]\n",
        " [ 28.81018494]\n",
        " [ 36.10360276]\n",
        " [ 34.45617229]\n",
        " [ 37.16456092]]\n"
       ]
      },
      {
       "metadata": {},
       "output_type": "pyout",
       "prompt_number": 111,
       "text": [
        "<matplotlib.image.AxesImage at 0x7f50ccdf29d0>"
       ]
      }
     ],
     "prompt_number": 111
    },
    {
     "cell_type": "code",
     "collapsed": false,
     "input": [
      "print badPairsIdxs"
     ],
     "language": "python",
     "metadata": {},
     "outputs": [
      {
       "output_type": "stream",
       "stream": "stdout",
       "text": [
        "[[ 126  127  127  127  128  128  129  130  330  330  928  928  929  929\n",
        "   946  949  950  959  960  960]\n",
        " [   7    7    8    9    8    9    9   10  104  105  948  952  941  949\n",
        "   921  924  927 1028  940  949]]\n"
       ]
      }
     ],
     "prompt_number": 112
    },
    {
     "cell_type": "code",
     "collapsed": false,
     "input": [
      "for pair in good.T :\n",
      "    squaredDiff = (imagesGrayData[:, pair[0]].reshape(resizedImageSize)-imagesGrayData[:, pair[1]].reshape(resizedImageSize))**2\n",
      "    print pair, np.sum(squaredDiff), np.sum(squaredDiff*fittedWeights)\n",
      "\n",
      "print \n",
      "for pair in bad.T :\n",
      "    squaredDiff = (imagesGrayData[:, pair[0]].reshape(resizedImageSize)-imagesGrayData[:, pair[1]].reshape(resizedImageSize))**2\n",
      "    print pair, np.sum(squaredDiff), np.sum(squaredDiff*fittedWeights)"
     ],
     "language": "python",
     "metadata": {},
     "outputs": [
      {
       "output_type": "stream",
       "stream": "stdout",
       "text": [
        "[927 950] 32.9097 0.642444400732\n",
        "[927 951] 35.5757 0.682742512259\n",
        "[928 950] 38.43 0.66400378686\n",
        "[928 951] 35.2175 0.677938958162\n",
        "[929 951] 41.2378 0.710407404714\n",
        "[929 952] 38.269 0.71415815626\n",
        "[930 952] 46.9923 0.824634201557\n",
        "[953 927] 44.5235 0.745592101714\n",
        "[974 945] 29.8629 0.733020377846\n",
        "\n",
        "[126   8] 41.7202 1.70365872749\n",
        "[127   8] 37.6276 1.6671101194\n",
        "[127   9] 38.8542 1.65753085524\n",
        "[127  10] 46.084 1.74733279477\n",
        "[128   9] 36.5701 1.63085452985\n",
        "[128  10] 42.6524 1.68913488008\n",
        "[129  10] 39.0553 1.63925455029\n",
        "[130  11] 41.0455 1.62499780822\n",
        "[330 105] 37.7244 1.53692703157\n",
        "[330 106] 43.4425 1.57465311102\n",
        "[928 949] 40.533 0.678453408204\n",
        "[928 953] 38.7427 0.732870225995\n",
        "[929 942] 65.6119 0.789278701204\n",
        "[929 950] 43.7036 0.696360431254\n",
        "[946 922] 29.674 0.628857652135\n",
        "[949 925] 31.8413 0.656804328644\n",
        "[950 928] 38.43 0.66400378686\n",
        "[ 959 1029] 51.8152 0.856124728553\n",
        "[960 941] 51.3252 0.820818747798\n",
        "[960 950] 51.2081 0.786492218328\n"
       ]
      }
     ],
     "prompt_number": 36
    },
    {
     "cell_type": "code",
     "collapsed": false,
     "input": [
      "for pair in good.T :\n",
      "    squaredDiff = (imagesGrayData[:, pair[0]].reshape(resizedImageSize)-imagesGrayData[:, pair[1]].reshape(resizedImageSize))**2\n",
      "    print pair, np.sum(squaredDiff), np.sum(squaredDiff*fittedWeights)\n",
      "\n",
      "print \n",
      "for pair in bad.T :\n",
      "    squaredDiff = (imagesGrayData[:, pair[0]].reshape(resizedImageSize)-imagesGrayData[:, pair[1]].reshape(resizedImageSize))**2\n",
      "    print pair, np.sum(squaredDiff), np.sum(squaredDiff*fittedWeights)"
     ],
     "language": "python",
     "metadata": {},
     "outputs": [
      {
       "output_type": "stream",
       "stream": "stdout",
       "text": [
        "[927 950] 829.218 9.62528281419\n",
        "[927 951] 898.167 10.0372305639\n",
        "[928 950] 962.413 9.83368071166\n",
        "[928 951] 896.441 9.97123519488\n",
        "[929 951] 1063.48 10.3027384225\n",
        "[929 952] 976.361 10.1931585883\n",
        "[930 952] 1219.01 11.4778876368\n",
        "[953 927] 1129.15 "
       ]
      },
      {
       "output_type": "stream",
       "stream": "stdout",
       "text": [
        "10.7847873526\n",
        "[974 945] 771.093 11.7762597685\n",
        "\n",
        "[126   8] 1015.13 23.7192528584\n",
        "[127   8] 923.295 22.9456828685\n",
        "[127   9] 991.232 23.2133649684\n",
        "[127  10] 1137.33 24.7508611456\n",
        "[128   9] 916.07 22.8843017642\n",
        "[128  10] 1024.11 "
       ]
      },
      {
       "output_type": "stream",
       "stream": "stdout",
       "text": [
        "23.8815194389\n",
        "[129  10] 918.979 23.2340678036\n",
        "[130  11] 940.013 23.7644245008\n",
        "[330 105] 991.687 27.9811590481\n",
        "[330 106] 1103.91 29.249145381\n",
        "[928 949] 1017.31 9.90115053034\n",
        "[928 953] 1002.24 10.4843044936\n",
        "[929 942] 1677.59 "
       ]
      },
      {
       "output_type": "stream",
       "stream": "stdout",
       "text": [
        "11.3617088612\n",
        "[929 950] 1131.54 10.1505362057\n",
        "[946 922] 764.013 9.81870561357\n",
        "[949 925] 785.47 9.69388440512\n",
        "[950 928] 962.413 9.83368071166\n",
        "[ 959 1029] 1331.51 17.0513686219\n",
        "[960 941] 1304.02 11.4992599575\n",
        "[960 950] 1318.19 10.0466273571\n"
       ]
      }
     ],
     "prompt_number": 75
    },
    {
     "cell_type": "code",
     "collapsed": false,
     "input": [
      "gwv.showCustomGraph((imagesGrayData[:, 926].reshape(resizedImageSize)-imagesGrayData[:, 927].reshape(resizedImageSize))**2)\n",
      "gwv.showCustomGraph((imagesGrayData[:, 949].reshape(resizedImageSize)-imagesGrayData[:, 950].reshape(resizedImageSize))**2)\n",
      "\n",
      "gwv.showCustomGraph((imagesGrayData[:, 958].reshape(resizedImageSize)-imagesGrayData[:, 959].reshape(resizedImageSize))**2)\n",
      "gwv.showCustomGraph((imagesGrayData[:, 1028].reshape(resizedImageSize)-imagesGrayData[:, 1029].reshape(resizedImageSize))**2)"
     ],
     "language": "python",
     "metadata": {},
     "outputs": [],
     "prompt_number": 76
    },
    {
     "cell_type": "code",
     "collapsed": false,
     "input": [
      "phiUsingPsiFromUserLabels = np.copy(fittedPhiUsingPsi)\n",
      "print phiUsingPsiFromUserLabels"
     ],
     "language": "python",
     "metadata": {},
     "outputs": [
      {
       "output_type": "stream",
       "stream": "stdout",
       "text": [
        "[[ 0.01144434]\n",
        " [ 0.01257381]\n",
        " [ 0.00987645]\n",
        " ..., \n",
        " [ 0.00792065]\n",
        " [ 0.00816853]\n",
        " [ 0.00847101]]\n"
       ]
      }
     ],
     "prompt_number": 96
    },
    {
     "cell_type": "code",
     "collapsed": false,
     "input": [
      "print fittedPhiUsingPsi"
     ],
     "language": "python",
     "metadata": {},
     "outputs": [
      {
       "output_type": "stream",
       "stream": "stdout",
       "text": [
        "[[ 0.73233894]\n",
        " [ 0.7827785 ]\n",
        " [ 0.79517611]\n",
        " ..., \n",
        " [ 0.40119578]\n",
        " [ 0.17925654]\n",
        " [ 0.41581319]]\n"
       ]
      }
     ],
     "prompt_number": 10
    },
    {
     "cell_type": "code",
     "collapsed": false,
     "input": [
      "## get indices of all pairs to compute\n",
      "allPairsImageIndices = []\n",
      "for i in xrange(numFrames) :\n",
      "    for j in xrange(i+1, numFrames) :\n",
      "        allPairsImageIndices.append(np.array([i, j]))\n",
      "        \n",
      "allPairsImageIndices = np.array(allPairsImageIndices)\n",
      "    \n",
      "## load fitted phi and compute the predicted w given this phi\n",
      "# fittedPhi = sio.loadmat(phiSaveLoc)['phi_MAP']\n",
      "# fittedPhi = sio.loadmat(\"../MATLAB/phi_MAPtrust.mat\")['phi_MAP']\n",
      "# fittedPhi = np.copy(fittedPhiUsingPsi)\n",
      "fittedPhi = np.ones_like(fittedPhiUsingPsi, dtype=float32)\n",
      "print fittedPhi.shape\n",
      "splitSize = 1000\n",
      "# doHogs = False\n",
      "if doHogs :\n",
      "    predictedW = np.dot(np.array(allPairsHogs), fittedPhi)\n",
      "#     predictedW = np.dot(np.array(allPairsHogs), np.ones_like(fittedPhi))\n",
      "else :\n",
      "    predictedW = np.empty((0), dtype=float32)\n",
      "    for i, j in zip(xrange(len(allPairsImageIndices)/splitSize+1), xrange(splitSize)) :\n",
      "        if doRGB :\n",
      "            allPairsImageData = np.zeros((splitSize, imagesRGBData.shape[0]), dtype=float32)\n",
      "        else :\n",
      "            allPairsImageData = np.zeros((splitSize, imagesGrayData.shape[0]), dtype=float32)\n",
      "#         for pair in allPairsImageIndices[i*splitSize:(i+1)*splitSize] :\n",
      "#             if doRGB :\n",
      "#                 allPairsImageData[j, :] = (imagesRGBData[:, pair[0]]-imagesRGBData[:, pair[1]])**np.float32(2)\n",
      "#             else :\n",
      "#                 allPairsImageData[j, :] = (imagesGrayData[:, pair[0]]-imagesGrayData[:, pair[1]])**np.float32(2)\n",
      "\n",
      "        pairs = allPairsImageIndices[i*splitSize:(i+1)*splitSize, :]\n",
      "        if doRGB :\n",
      "            allPairsImageData = ((imagesRGBData[:, pairs[:, 0]]-imagesRGBData[:, pairs[:, 1]])**np.float32(2)).T\n",
      "        else :\n",
      "            allPairsImageData = ((imagesGrayData[:, pairs[:, 0]]-imagesGrayData[:, pairs[:, 1]])**np.float32(2)).T\n",
      "            \n",
      "        predictedW = np.concatenate((predictedW, np.ndarray.flatten(np.sqrt(np.dot(allPairsImageData, fittedPhi)))))\n",
      "#         predictedW = np.sqrt(np.dot(np.array(allPairsImageData), np.ones_like(fittedPhi, dtype=np.float32)))\n",
      "            \n",
      "        sys.stdout.write('\\r' + \"Done with split \" + np.string_(i) + \" of \" + np.string_(len(allPairsImageIndices)/splitSize))\n",
      "        sys.stdout.flush()\n",
      "\n",
      "regressedDist = np.ones((numFrames, numFrames))\n",
      "flatRegressedDist = list(np.copy(predictedW))\n",
      "for i in xrange(numFrames-1) :\n",
      "    regressedDist[i, i+1:] = flatRegressedDist[:numFrames-(i+1)]\n",
      "    regressedDist[i+1:, i] = regressedDist[i, i+1:]\n",
      "    del flatRegressedDist[:numFrames-(i+1)]"
     ],
     "language": "python",
     "metadata": {},
     "outputs": [],
     "prompt_number": 14
    },
    {
     "cell_type": "code",
     "collapsed": false,
     "input": [
      "print allPairsImageData.shape"
     ],
     "language": "python",
     "metadata": {},
     "outputs": [
      {
       "output_type": "stream",
       "stream": "stdout",
       "text": [
        "(291600, 1000)\n"
       ]
      }
     ],
     "prompt_number": 13
    },
    {
     "cell_type": "code",
     "collapsed": false,
     "input": [
      "print diffs.shape"
     ],
     "language": "python",
     "metadata": {},
     "outputs": [
      {
       "output_type": "stream",
       "stream": "stdout",
       "text": [
        "(291600, 1000)\n"
       ]
      }
     ],
     "prompt_number": 10
    },
    {
     "cell_type": "code",
     "collapsed": false,
     "input": [
      "print len(allPairsImageData)/1000+1\n",
      "print len(allPairsImageData[397*1000:398*1000])"
     ],
     "language": "python",
     "metadata": {},
     "outputs": [
      {
       "output_type": "stream",
       "stream": "stdout",
       "text": [
        "398\n",
        "386\n"
       ]
      }
     ],
     "prompt_number": 23
    },
    {
     "cell_type": "code",
     "collapsed": false,
     "input": [
      "# gwv.showCustomGraph(regressedDist)\n",
      "gwv.showCustomGraph(np.load(dataPath+dataSet+\"vanilla_distMat.npy\"))"
     ],
     "language": "python",
     "metadata": {},
     "outputs": [],
     "prompt_number": 16
    },
    {
     "cell_type": "code",
     "collapsed": false,
     "input": [
      "randDist = np.copy(regressedDist)"
     ],
     "language": "python",
     "metadata": {},
     "outputs": [],
     "prompt_number": 16
    },
    {
     "cell_type": "code",
     "collapsed": false,
     "input": [
      "print fittedPhi\n"
     ],
     "language": "python",
     "metadata": {},
     "outputs": [
      {
       "output_type": "stream",
       "stream": "stdout",
       "text": [
        "[[ 0.00876724]\n",
        " [ 0.00969801]\n",
        " [ 0.00833425]\n",
        " ..., \n",
        " [ 0.00353353]\n",
        " [ 0.0037435 ]\n",
        " [ 0.00404945]]\n"
       ]
      }
     ],
     "prompt_number": 116
    },
    {
     "cell_type": "code",
     "collapsed": false,
     "input": [
      "# np.save(dataPath+dataSet+\"psiWeighted_allOnesWeights_distMat.npy\", regressedDist)\n",
      "np.save(dataPath+dataSet+\"psiWeighted_1000randomBadExamples_distMat.npy\", regressedDist)\n",
      "# np.save(dataPath+dataSet+\"psiWeighted_userLabelledExamples_distMat.npy\", regressedDist)"
     ],
     "language": "python",
     "metadata": {},
     "outputs": [],
     "prompt_number": 17
    },
    {
     "cell_type": "code",
     "collapsed": false,
     "input": [
      "np.log(1+np.exp(np.log(np.exp(np.ones(5))-1)))"
     ],
     "language": "python",
     "metadata": {},
     "outputs": [
      {
       "metadata": {},
       "output_type": "pyout",
       "prompt_number": 25,
       "text": [
        "array([ 1.,  1.,  1.,  1.,  1.])"
       ]
      }
     ],
     "prompt_number": 25
    },
    {
     "cell_type": "code",
     "collapsed": false,
     "input": [
      "gwv.showCustomGraph(np.load(dataPath+dataSet+\"l2_distMat.npy\"))"
     ],
     "language": "python",
     "metadata": {},
     "outputs": [],
     "prompt_number": 31
    },
    {
     "cell_type": "code",
     "collapsed": false,
     "input": [
      "# gwv.showCustomGraph(regressedDist, title='pendulum - Regressed using phi')\n",
      "gwv.showCustomGraph(regressedDist, title='pendulum - usingPsi')"
     ],
     "language": "python",
     "metadata": {},
     "outputs": [],
     "prompt_number": 29
    },
    {
     "cell_type": "code",
     "collapsed": false,
     "input": [
      "i = 0\n",
      "tmp1 = np.sqrt(np.sum((imagesGrayData[:, i].reshape((np.prod(np.array(imageSize)*resizeRatio), 1))-imagesGrayData[:, i:])**2, axis=0))\n",
      "print tmp1\n",
      "tmp2 = imagesGrayData[:, i]-imagesGrayData[:, i+1]\n",
      "figure(); plot(tmp2 - np.power(allPairsImageData[0], np.float32(0.5)))"
     ],
     "language": "python",
     "metadata": {},
     "outputs": [
      {
       "output_type": "stream",
       "stream": "stdout",
       "text": [
        "[  0.           2.94753957   4.4728632    5.63140011   6.42800283\n",
        "   6.74628592   6.85019398   6.86660767   6.64902163   6.01714516\n",
        "   4.98771286   3.63144398   1.62939119   2.23918724   3.54651928\n",
        "   4.43064165   4.73490143   4.82271338   4.71566963   4.26934004\n",
        "   3.25426149   1.80119431   2.37402511   4.08405066   5.32952881\n",
        "   6.23304796   6.87261295   7.07322598   7.07166052   7.01613092\n",
        "   6.4570756    5.60087347   4.40920353   2.83635569   1.9902842\n",
        "   3.25305891   4.19991779   4.70832253   4.88824034   4.85903263\n",
        "   4.57332897   3.72373629   2.52589607   1.68940222   3.5361414\n",
        "   4.91064453   5.98272848   6.6291728    6.8569684    6.90657663\n",
        "   6.82108164   6.62466908   5.79740381   5.00353003   5.56105757\n",
        "   4.38882113   4.73390293   5.1609478    5.91588926   6.82270575\n",
        "   7.70413971   8.04233551   9.10244083  10.53842354  12.20118618\n",
        "  14.5207901 ]\n"
       ]
      },
      {
       "metadata": {},
       "output_type": "pyout",
       "prompt_number": 97,
       "text": [
        "[<matplotlib.lines.Line2D at 0x7f8f4e0586d0>]"
       ]
      }
     ],
     "prompt_number": 97
    },
    {
     "cell_type": "code",
     "collapsed": false,
     "input": [
      "### use random forests instead of the phi thingy\n",
      "# from sklearn import ensemble\n",
      "\n",
      "tic = time.time()\n",
      "regressor = ensemble.ExtraTreesRegressor(n_estimators=100, n_jobs=4, verbose=0)\n",
      "regressor.fit(list(X.T), list(np.ndarray.flatten(w/np.max(w))))\n",
      "print \"regressor trained in\", time.time()-tic; sys.stdout.flush()"
     ],
     "language": "python",
     "metadata": {},
     "outputs": [
      {
       "output_type": "stream",
       "stream": "stdout",
       "text": [
        "regressor trained in 4.26730203629\n"
       ]
      }
     ],
     "prompt_number": 140
    },
    {
     "cell_type": "code",
     "collapsed": false,
     "input": [
      "tic = time.time()\n",
      "dists = regressor.predict(allPairsHogs)\n",
      "print \"distance regressed in\", time.time()-tic; sys.stdout.flush()"
     ],
     "language": "python",
     "metadata": {},
     "outputs": [
      {
       "output_type": "stream",
       "stream": "stdout",
       "text": [
        "distance regressed in 9.71999001503\n"
       ]
      }
     ],
     "prompt_number": 141
    },
    {
     "cell_type": "code",
     "collapsed": false,
     "input": [
      "forestsDist = np.ones((numFrames, numFrames))\n",
      "flatRegressedDist = list(np.copy(dists))\n",
      "for i in xrange(numFrames-1) :\n",
      "    forestsDist[i, i+1:] = flatRegressedDist[:numFrames-(i+1)]\n",
      "    forestsDist[i+1:, i] = forestsDist[i, i+1:]\n",
      "    del flatRegressedDist[:numFrames-(i+1)]"
     ],
     "language": "python",
     "metadata": {},
     "outputs": [],
     "prompt_number": 142
    },
    {
     "cell_type": "code",
     "collapsed": false,
     "input": [
      "gwv.showCustomGraph(forestsDist, title='Regressed by forests')"
     ],
     "language": "python",
     "metadata": {},
     "outputs": [],
     "prompt_number": 143
    },
    {
     "cell_type": "code",
     "collapsed": false,
     "input": [
      "gwv.showCustomGraph(np.load(dataPath+dataSet+\"64adj10.avi_distanceMatrix.npy\"))"
     ],
     "language": "python",
     "metadata": {},
     "outputs": [],
     "prompt_number": 144
    },
    {
     "cell_type": "code",
     "collapsed": false,
     "input": [
      "## save for matlab if necessary\n",
      "sio.savemat(\"hogs_training_examples\", {\"X\":X, \"w\":w})\n",
      "# sio.savemat(\"hogs_training_examples_pairs\", {\"badExamples\":badPairsIdxs, \"goodExamples\":goodPairsIdxs})\n",
      "# sio.savemat(\"all_hogs_pair_feats\", {\"all_pairs_feats\":np.array(allPairsHogs).T})\n",
      "# sio.savemat(\"/media/ilisescu/Data1/imagesRGB_data\", {\"imagesRGBData\":imagesRGBData})"
     ],
     "language": "python",
     "metadata": {},
     "outputs": [],
     "prompt_number": 15
    },
    {
     "cell_type": "code",
     "collapsed": false,
     "input": [
      "## now estimate phi based on training X and w\n",
      "\n",
      "iterNum = 0\n",
      "def printStats(xk) :\n",
      "    global iterNum\n",
      "    global phi0\n",
      "    global derCallCount; derCallCount = 0\n",
      "    global fCallCount; fCallCount = 0\n",
      "    print \n",
      "    print iterNum, np.mean(np.abs(xk-phi0)); sys.stdout.flush()\n",
      "    iterNum += 1\n",
      "\n",
      "tic = time.time()\n",
      "phi_MAP = optimize.fmin_ncg(negLogL_MAP, phi0, fprime=derNegLogL_MAP, callback=printStats,\n",
      "                            args=(X, w, N)).reshape(phi0.shape)\n",
      "print \"optimized in\", time.time()-tic; sys.stdout.flush()"
     ],
     "language": "python",
     "metadata": {},
     "outputs": [],
     "prompt_number": 5
    },
    {
     "cell_type": "code",
     "collapsed": false,
     "input": [
      "## use phi_MAP computed by matlab using downsampled RGB images (every 64th pixel only) to compute dists in the next bit\n",
      "phi_MAP = sio.loadmat(\"../MATLAB/phi_MAP.mat\")['phi_MAP']\n",
      "print phi_MAP.shape\n",
      "\n",
      "downsampledRGB = imagesRGBData.reshape((imagesRGBData.shape[0]/3, 3, 672))\n",
      "downsampledRGB = downsampledRGB[arange(0, downsampledRGB.shape[0], 64), :, :]\n",
      "downsampledRGB = downsampledRGB.reshape(downsampledRGB.shape[0]*3, 672)\n",
      "print downsampledRGB.shape"
     ],
     "language": "python",
     "metadata": {},
     "outputs": [],
     "prompt_number": 4
    },
    {
     "cell_type": "code",
     "collapsed": false,
     "input": [
      "dists = np.empty((0, 1))\n",
      "for i in arange(downsampledRGB.shape[-1]) :\n",
      "    allPairsRGB = []\n",
      "    for j in xrange(i+1, downsampledRGB.shape[-1]) :\n",
      "        ## ABS DIST\n",
      "#         allPairsHogs.append(np.sqrt((hogFeats[i, :]-hogFeats[j, :])**2))\n",
      "        allPairsRGB.append((downsampledRGB[:, i]-downsampledRGB[:, j])**2)\n",
      "    \n",
      "#     newDists = \n",
      "    dists = np.concatenate((dists, np.dot(np.array(allPairsRGB), phi_MAP)))\n",
      "    \n",
      "    sys.stdout.write('\\r' + \"Done with row \" + np.string_(i) + \" of \" + np.string_(downsampledRGB.shape[-1]))\n",
      "    sys.stdout.flush()"
     ],
     "language": "python",
     "metadata": {},
     "outputs": [],
     "prompt_number": 8
    },
    {
     "cell_type": "code",
     "collapsed": false,
     "input": [
      "# dists = sio.loadmat(\"../MATLAB/predW.mat\")['predW']\n",
      "# dists = sio.loadmat(\"../MATLAB/l2W.mat\")['l2W']\n",
      "numFrames = downsampledRGB.shape[-1]\n",
      "regressedDist = np.ones((numFrames, numFrames))\n",
      "flatRegressedDist = list(np.copy(dists))\n",
      "for i in xrange(numFrames-1) :\n",
      "    regressedDist[i, i+1:] = flatRegressedDist[:numFrames-(i+1)]\n",
      "    regressedDist[i+1:, i] = regressedDist[i, i+1:]\n",
      "    del flatRegressedDist[:numFrames-(i+1)]"
     ],
     "language": "python",
     "metadata": {},
     "outputs": [],
     "prompt_number": 21
    },
    {
     "cell_type": "code",
     "collapsed": false,
     "input": [
      "gwv.showCustomGraph(regressedDist)"
     ],
     "language": "python",
     "metadata": {},
     "outputs": [],
     "prompt_number": 24
    },
    {
     "cell_type": "code",
     "collapsed": false,
     "input": [
      "np.save(\"/media/ilisescu/Data1/PhD/data/Videos/6489810.avi_learnedPhiRGBfeats.npy\", regressedDist)"
     ],
     "language": "python",
     "metadata": {},
     "outputs": [],
     "prompt_number": 23
    },
    {
     "cell_type": "code",
     "collapsed": false,
     "input": [
      "# l2Dist = np.load(\"/media/ilisescu/Data1/PhD/data/Videos/6489810.avi_distanceMatrix.npy\")\n",
      "gwv.showCustomGraph(l2Dist)\n",
      "gwv.showCustomGraph(vtu.filterDistanceMatrix(l2Dist, 4, False))"
     ],
     "language": "python",
     "metadata": {},
     "outputs": [
      {
       "output_type": "stream",
       "stream": "stdout",
       "text": [
        "[  1.   8.  28.  56.  70.  56.  28.   8.   1.]\n"
       ]
      }
     ],
     "prompt_number": 290
    }
   ],
   "metadata": {}
  }
 ]
}