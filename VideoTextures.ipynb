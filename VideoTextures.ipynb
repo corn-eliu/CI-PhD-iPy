{
 "metadata": {
  "name": ""
 },
 "nbformat": 3,
 "nbformat_minor": 0,
 "worksheets": [
  {
   "cells": [
    {
     "cell_type": "code",
     "collapsed": false,
     "input": [
      "## Imports and defines\n",
      "%pylab \n",
      "import numpy as np\n",
      "import scipy as sp\n",
      "import cv2\n",
      "import glob\n",
      "import time\n",
      "import sys\n",
      "from scipy import ndimage\n",
      "from scipy import stats\n",
      "\n",
      "from mpl_toolkits.mplot3d import Axes3D\n",
      "import matplotlib.animation as animation\n",
      "\n",
      "dataFolder = \"data/\"\n",
      "sampleData = \"pendulum/\"\n",
      "\n",
      "## Find pngs in sample data\n",
      "frames = glob.glob(dataFolder + sampleData + \"*.png\")\n",
      "frames = np.sort(frames)\n",
      "numFrames = len(frames)\n",
      "if numFrames > 0 :\n",
      "    frameSize = cv2.imread(frames[0]).shape\n",
      "    movie = np.zeros(np.hstack([frameSize[0], frameSize[1], frameSize[2], numFrames]))\n",
      "    for i in range(0, numFrames) :\n",
      "        im = np.array(cv2.cvtColor(cv2.imread(frames[i]), cv2.COLOR_BGR2RGB))#/255.0\n",
      "        movie[:, :, :, i] = im#np.dot(im[:,:,:3], [0.0722, 0.7152, 0.2126])   # matlab RGB2GRAY multiplies [0.299, 0.587, 0.144] but cv2 is BGR\n",
      "        \n",
      "#movie = np.dot(movie[...,:3], [0.299, 0.587, 0.144])\n",
      "print 'Movie has shape', movie.shape"
     ],
     "language": "python",
     "metadata": {},
     "outputs": [
      {
       "output_type": "stream",
       "stream": "stdout",
       "text": [
        "Using matplotlib backend: TkAgg\n",
        "Populating the interactive namespace from numpy and matplotlib\n",
        "Movie has shape"
       ]
      },
      {
       "output_type": "stream",
       "stream": "stdout",
       "text": [
        " (240, 240, 3, 66)\n"
       ]
      }
     ],
     "prompt_number": 1
    },
    {
     "cell_type": "code",
     "collapsed": false,
     "input": [
      "tmp1 = movie[:,:,0]\n",
      "tmp2 = movie[:,:,1]#np.array(cv2.imread(frames[0], 0))/255.0\n",
      "print tmp2.shape\n",
      "print tmp1[0,0]\n",
      "print tmp2[0,0]\n",
      "figure(0)\n",
      "plt.imshow(tmp1, cmap = cm.Greys_r)\n",
      "figure(1)\n",
      "plt.imshow(tmp2, cmap = cm.Greys_r)\n",
      "figure(2)\n",
      "plt.imshow(tmp1-tmp2, cmap = cm.Greys_r)"
     ],
     "language": "python",
     "metadata": {},
     "outputs": [
      {
       "ename": "TypeError",
       "evalue": "Invalid dimensions for image data",
       "output_type": "pyerr",
       "traceback": [
        "\u001b[0;31m---------------------------------------------------------------------------\u001b[0m\n\u001b[0;31mTypeError\u001b[0m                                 Traceback (most recent call last)",
        "\u001b[0;32m<ipython-input-2-7f13f95e68ea>\u001b[0m in \u001b[0;36m<module>\u001b[0;34m()\u001b[0m\n\u001b[1;32m      5\u001b[0m \u001b[0;32mprint\u001b[0m \u001b[0mtmp2\u001b[0m\u001b[0;34m[\u001b[0m\u001b[0;36m0\u001b[0m\u001b[0;34m,\u001b[0m\u001b[0;36m0\u001b[0m\u001b[0;34m]\u001b[0m\u001b[0;34m\u001b[0m\u001b[0m\n\u001b[1;32m      6\u001b[0m \u001b[0mfigure\u001b[0m\u001b[0;34m(\u001b[0m\u001b[0;36m0\u001b[0m\u001b[0;34m)\u001b[0m\u001b[0;34m\u001b[0m\u001b[0m\n\u001b[0;32m----> 7\u001b[0;31m \u001b[0mplt\u001b[0m\u001b[0;34m.\u001b[0m\u001b[0mimshow\u001b[0m\u001b[0;34m(\u001b[0m\u001b[0mtmp1\u001b[0m\u001b[0;34m,\u001b[0m \u001b[0mcmap\u001b[0m \u001b[0;34m=\u001b[0m \u001b[0mcm\u001b[0m\u001b[0;34m.\u001b[0m\u001b[0mGreys_r\u001b[0m\u001b[0;34m)\u001b[0m\u001b[0;34m\u001b[0m\u001b[0m\n\u001b[0m\u001b[1;32m      8\u001b[0m \u001b[0mfigure\u001b[0m\u001b[0;34m(\u001b[0m\u001b[0;36m1\u001b[0m\u001b[0;34m)\u001b[0m\u001b[0;34m\u001b[0m\u001b[0m\n\u001b[1;32m      9\u001b[0m \u001b[0mplt\u001b[0m\u001b[0;34m.\u001b[0m\u001b[0mimshow\u001b[0m\u001b[0;34m(\u001b[0m\u001b[0mtmp2\u001b[0m\u001b[0;34m,\u001b[0m \u001b[0mcmap\u001b[0m \u001b[0;34m=\u001b[0m \u001b[0mcm\u001b[0m\u001b[0;34m.\u001b[0m\u001b[0mGreys_r\u001b[0m\u001b[0;34m)\u001b[0m\u001b[0;34m\u001b[0m\u001b[0m\n",
        "\u001b[0;32m/usr/lib/pymodules/python2.7/matplotlib/pyplot.pyc\u001b[0m in \u001b[0;36mimshow\u001b[0;34m(X, cmap, norm, aspect, interpolation, alpha, vmin, vmax, origin, extent, shape, filternorm, filterrad, imlim, resample, url, hold, **kwargs)\u001b[0m\n\u001b[1;32m   2890\u001b[0m                         \u001b[0mvmax\u001b[0m\u001b[0;34m=\u001b[0m\u001b[0mvmax\u001b[0m\u001b[0;34m,\u001b[0m \u001b[0morigin\u001b[0m\u001b[0;34m=\u001b[0m\u001b[0morigin\u001b[0m\u001b[0;34m,\u001b[0m \u001b[0mextent\u001b[0m\u001b[0;34m=\u001b[0m\u001b[0mextent\u001b[0m\u001b[0;34m,\u001b[0m \u001b[0mshape\u001b[0m\u001b[0;34m=\u001b[0m\u001b[0mshape\u001b[0m\u001b[0;34m,\u001b[0m\u001b[0;34m\u001b[0m\u001b[0m\n\u001b[1;32m   2891\u001b[0m                         \u001b[0mfilternorm\u001b[0m\u001b[0;34m=\u001b[0m\u001b[0mfilternorm\u001b[0m\u001b[0;34m,\u001b[0m \u001b[0mfilterrad\u001b[0m\u001b[0;34m=\u001b[0m\u001b[0mfilterrad\u001b[0m\u001b[0;34m,\u001b[0m\u001b[0;34m\u001b[0m\u001b[0m\n\u001b[0;32m-> 2892\u001b[0;31m                         imlim=imlim, resample=resample, url=url, **kwargs)\n\u001b[0m\u001b[1;32m   2893\u001b[0m         \u001b[0mdraw_if_interactive\u001b[0m\u001b[0;34m(\u001b[0m\u001b[0;34m)\u001b[0m\u001b[0;34m\u001b[0m\u001b[0m\n\u001b[1;32m   2894\u001b[0m     \u001b[0;32mfinally\u001b[0m\u001b[0;34m:\u001b[0m\u001b[0;34m\u001b[0m\u001b[0m\n",
        "\u001b[0;32m/usr/lib/pymodules/python2.7/matplotlib/axes.pyc\u001b[0m in \u001b[0;36mimshow\u001b[0;34m(self, X, cmap, norm, aspect, interpolation, alpha, vmin, vmax, origin, extent, shape, filternorm, filterrad, imlim, resample, url, **kwargs)\u001b[0m\n\u001b[1;32m   7298\u001b[0m                        filterrad=filterrad, resample=resample, **kwargs)\n\u001b[1;32m   7299\u001b[0m \u001b[0;34m\u001b[0m\u001b[0m\n\u001b[0;32m-> 7300\u001b[0;31m         \u001b[0mim\u001b[0m\u001b[0;34m.\u001b[0m\u001b[0mset_data\u001b[0m\u001b[0;34m(\u001b[0m\u001b[0mX\u001b[0m\u001b[0;34m)\u001b[0m\u001b[0;34m\u001b[0m\u001b[0m\n\u001b[0m\u001b[1;32m   7301\u001b[0m         \u001b[0mim\u001b[0m\u001b[0;34m.\u001b[0m\u001b[0mset_alpha\u001b[0m\u001b[0;34m(\u001b[0m\u001b[0malpha\u001b[0m\u001b[0;34m)\u001b[0m\u001b[0;34m\u001b[0m\u001b[0m\n\u001b[1;32m   7302\u001b[0m         \u001b[0mself\u001b[0m\u001b[0;34m.\u001b[0m\u001b[0m_set_artist_props\u001b[0m\u001b[0;34m(\u001b[0m\u001b[0mim\u001b[0m\u001b[0;34m)\u001b[0m\u001b[0;34m\u001b[0m\u001b[0m\n",
        "\u001b[0;32m/usr/lib/pymodules/python2.7/matplotlib/image.pyc\u001b[0m in \u001b[0;36mset_data\u001b[0;34m(self, A)\u001b[0m\n\u001b[1;32m    427\u001b[0m         if (self._A.ndim not in (2, 3) or\n\u001b[1;32m    428\u001b[0m             (self._A.ndim == 3 and self._A.shape[-1] not in (3, 4))):\n\u001b[0;32m--> 429\u001b[0;31m             \u001b[0;32mraise\u001b[0m \u001b[0mTypeError\u001b[0m\u001b[0;34m(\u001b[0m\u001b[0;34m\"Invalid dimensions for image data\"\u001b[0m\u001b[0;34m)\u001b[0m\u001b[0;34m\u001b[0m\u001b[0m\n\u001b[0m\u001b[1;32m    430\u001b[0m \u001b[0;34m\u001b[0m\u001b[0m\n\u001b[1;32m    431\u001b[0m         \u001b[0mself\u001b[0m\u001b[0;34m.\u001b[0m\u001b[0m_imcache\u001b[0m \u001b[0;34m=\u001b[0m \u001b[0mNone\u001b[0m\u001b[0;34m\u001b[0m\u001b[0m\n",
        "\u001b[0;31mTypeError\u001b[0m: Invalid dimensions for image data"
       ]
      },
      {
       "output_type": "stream",
       "stream": "stdout",
       "text": [
        "(240, 240, 66)\n",
        "[ 212.  209.  207.  208.  212.  213.  207.  205.  211.  207.  208.  207.\n",
        "  209.  208.  205.  209.  211.  208.  206.  205.  208.  209.  207.  205.\n",
        "  209.  207.  208.  203.  209.  205.  206.  212.  210.  208.  208.  212.\n",
        "  209.  208.  207.  207.  208.  209.  207.  206.  207.  210.  208.  209.\n",
        "  209.  206.  207.  204.  204.  197.  216.  126.  204.  207.  192.  146.\n",
        "  130.  160.  181.  181.  169.  157.]\n",
        "[ 209.  204.  206.  208.  209.  209.  206.  204.  209.  205.  208.  208.\n",
        "  205.  207.  204.  208.  209.  205.  205.  205.  206.  208.  206.  204.\n",
        "  208.  206.  207.  203.  207.  203.  204.  210.  207.  207.  207.  211.\n",
        "  207.  209.  205.  206.  208.  206.  206.  204.  205.  209.  206.  207.\n",
        "  206.  205.  205.  202.  205.  187.  191.  126.  204.  205.  184.  109.\n",
        "  107.  136.  152.  147.  140.  129.]\n"
       ]
      }
     ],
     "prompt_number": 2
    },
    {
     "cell_type": "code",
     "collapsed": false,
     "input": [
      "def histEq(frame) :\n",
      "    frame = np.array(frame, dtype=uint8)\n",
      "    hstg = ndimage.measurements.histogram(frame, 0, 255, 256)\n",
      "    csumhstg = np.cumsum(hstg)\n",
      "    normcsum = cv2.normalize(csumhstg, None, 0, 255, cv2.NORM_MINMAX)\n",
      "    eqFrame = np.zeros_like(frame)\n",
      "    eqFrame = np.reshape(normcsum[frame], frame.shape)\n",
      "    return eqFrame"
     ],
     "language": "python",
     "metadata": {},
     "outputs": [],
     "prompt_number": 3
    },
    {
     "cell_type": "code",
     "collapsed": false,
     "input": [
      "## returns a diagonal kernel based on given binomial coefficients\n",
      "def diagkernel(c) :\n",
      "    k = np.eye(len(c))\n",
      "    k = k * c/np.sum(c)\n",
      "    return k"
     ],
     "language": "python",
     "metadata": {},
     "outputs": [],
     "prompt_number": 4
    },
    {
     "cell_type": "code",
     "collapsed": false,
     "input": [
      "##  compute l2 distance between given frames\n",
      "def l2dist(f1, f2) : \n",
      "    img = f1 - f2\n",
      "    result = np.linalg.norm(img)\n",
      "#     img = img ** 2\n",
      "#     result = np.sqrt(np.sum(img))\n",
      "    return result"
     ],
     "language": "python",
     "metadata": {},
     "outputs": [],
     "prompt_number": 5
    },
    {
     "cell_type": "code",
     "collapsed": false,
     "input": [
      "## compute euclidean distance assuming f is an array where each row is a flattened image (1xN array, N=W*H*Channels)\n",
      "## euclidean distance defined as the length of the the displacement vector:\n",
      "## len(q-p) = sqrt(len(q)^2+len(p)^2 - 2*dot(p, q)) where p and q are two images in vector format and 1xN size\n",
      "def distEuc(f) :\n",
      "    ## gives sum over squared intensity values for each image\n",
      "    ff = np.sum(f*f, axis=1)\n",
      "    ## first term is sum between each possible combination of frames\n",
      "    ## second term is the the dot product between each frame as in the formula above\n",
      "    d = np.sqrt(np.reshape(ff, [len(ff),1])+ff.T - 2*np.dot(f, f.T))\n",
      "    return d"
     ],
     "language": "python",
     "metadata": {},
     "outputs": [],
     "prompt_number": 6
    },
    {
     "cell_type": "code",
     "collapsed": false,
     "input": [
      "## Turn distances to probabilities\n",
      "def dist2prob(dM, normalize) :\n",
      "    sigma = 0.2*np.mean(dM[np.nonzero(dM)])\n",
      "    print 'sigma', sigma\n",
      "    pM = np.exp((-dM)/sigma)\n",
      "## normalize probabilities row-wise\n",
      "    if normalize :\n",
      "        normTerm = np.sum(pM, axis=1)\n",
      "        normTerm = cv2.repeat(normTerm, 1, dM.shape[1])\n",
      "        pM = pM / normTerm\n",
      "    return pM"
     ],
     "language": "python",
     "metadata": {},
     "outputs": [],
     "prompt_number": 7
    },
    {
     "cell_type": "code",
     "collapsed": false,
     "input": [
      "## get a random frame based on given probabilities\n",
      "def randFrame(probs) :\n",
      "    indices = np.argsort(probs)[::-1] # get descending sort indices\n",
      "    sortedProbs = probs[indices] # sort probs in descending order\n",
      "#     print 'sortedProbs', sortedProbs\n",
      "#     print np.int(probs.shape[0]/10)\n",
      "    sortedProbs = sortedProbs[0]#np.int(probs.shape[0]/10)] # get highest 10%\n",
      "#     sortedProbs = sortedProbs[0]\n",
      "#     print 'sortedProbs', sortedProbs\n",
      "    sortedProbs = sortedProbs/np.sum(sortedProbs) # normalize\n",
      "#     print 'sortedProbs', sortedProbs\n",
      "    prob = np.random.rand(1)\n",
      "#     print 'prob', prob\n",
      "    csum = np.cumsum(sortedProbs)\n",
      "    j = 0\n",
      "    while csum[j] < prob :\n",
      "        j = j+1\n",
      "#     print 'final j', j\n",
      "    return indices[j]"
     ],
     "language": "python",
     "metadata": {},
     "outputs": [],
     "prompt_number": 8
    },
    {
     "cell_type": "code",
     "collapsed": false,
     "input": [
      "## compute distance between each pair of images\n",
      "distanceMatrix = np.zeros([movie.shape[3], movie.shape[3]])\n",
      "distanceMatrix = distEuc(np.reshape(movie/255.0, [np.prod(movie.shape[0:-1]), movie.shape[-1]]).T)\n",
      "# for i in range(0, movie.shape[3]) :\n",
      "#     for j in range(i+1, movie.shape[3]) :\n",
      "#         distanceMatrix[j, i] = distanceMatrix[i, j] = l2dist(movie[:, :, :, i], movie[:, :, :, j])\n",
      "# #         print distanceMatrix[j, i],\n",
      "#     print (movie.shape[3]-i),\n",
      "    \n",
      "    \n",
      "fig = plt.figure()\n",
      "a=fig.add_subplot(1,2,1)\n",
      "imgplot = plt.imshow(distanceMatrix, cmap = cm.Greys_r, interpolation='nearest')\n",
      "a.set_title('distance matrix grey')\n",
      "a=fig.add_subplot(1,2,2)\n",
      "imgplot = plt.imshow(distanceMatrix, interpolation='nearest')\n",
      "maxDist = np.max(distanceMatrix)\n",
      "plt.colorbar(ticks=[0.1*maxDist,0.3*maxDist,0.5*maxDist,0.7*maxDist,0.9*maxDist], orientation ='horizontal')\n",
      "a.set_title('distance matrix color')"
     ],
     "language": "python",
     "metadata": {},
     "outputs": [
      {
       "metadata": {},
       "output_type": "pyout",
       "prompt_number": 9,
       "text": [
        "<matplotlib.text.Text at 0x7f11446bb510>"
       ]
      }
     ],
     "prompt_number": 9
    },
    {
     "cell_type": "code",
     "collapsed": false,
     "input": [
      "## Preserve dynamics: convolve wih binomial kernel\n",
      "numFilterFrames = 4 ## actual total size of filter is numFilterFrames*2 +1\n",
      "isRepetitive = True\n",
      "\n",
      "if isRepetitive :\n",
      "    kernel = np.eye(numFilterFrames*2+1)\n",
      "else :\n",
      "    coeff = sp.special.binom(filter_n*2, range(0, numFilterFrames*2 +1)); print coeff\n",
      "    kernel = diagkernel(coeff)\n",
      "# distanceMatrixFilt = cv2.filter2D(distanceMatrix, -1, kernel)\n",
      "distanceMatrixFilt = ndimage.filters.convolve(distanceMatrix, kernel, mode='constant')\n",
      "distanceMatrixFilt = distanceMatrixFilt[numFilterFrames:-numFilterFrames,numFilterFrames:-numFilterFrames]\n",
      "\n",
      "    \n",
      "fig = plt.figure()\n",
      "a=fig.add_subplot(1,2,1)\n",
      "imgplot = plt.imshow(distanceMatrixFilt, cmap = cm.Greys_r, interpolation='nearest')\n",
      "a.set_title('filtered matrix grey')\n",
      "a=fig.add_subplot(1,2,2)\n",
      "imgplot = plt.imshow(distanceMatrixFilt, interpolation='nearest')\n",
      "maxDist = np.max(distanceMatrixFilt)\n",
      "plt.colorbar(ticks=[0.1*maxDist,0.3*maxDist,0.5*maxDist,0.7*maxDist,0.9*maxDist], orientation ='horizontal')\n",
      "a.set_title('filtered matrix color')"
     ],
     "language": "python",
     "metadata": {},
     "outputs": [
      {
       "metadata": {},
       "output_type": "pyout",
       "prompt_number": 10,
       "text": [
        "<matplotlib.text.Text at 0x7f1144308950>"
       ]
      }
     ],
     "prompt_number": 10
    },
    {
     "cell_type": "code",
     "collapsed": false,
     "input": [
      "## Avoid dead ends: estimate future costs\n",
      "alpha = 0.999\n",
      "p = 2.0\n",
      "\n",
      "distMatFilt = distanceMatrixFilt[1:distanceMatrixFilt.shape[1], 0:-1]\n",
      "distMat = distMatFilt ** p\n",
      "\n",
      "last = np.copy(distMat)\n",
      "current = np.zeros(distMat.shape)\n",
      "\n",
      "## while distance between last and current is larger than threshold\n",
      "iterations = 0 \n",
      "while np.linalg.norm(last - current) > 0.1 : \n",
      "    for i in range(distMat.shape[0]-1, -1, -1) :\n",
      "        m = np.min(distMat, axis=1)\n",
      "        distMat[i, :] = (distMatFilt[i, :] ** p) + alpha*m\n",
      "        \n",
      "    last = np.copy(current)\n",
      "    current = np.copy(distMat)\n",
      "    \n",
      "    sys.stdout.write('\\r' + \"Iteration \" + np.string_(iterations) + \"; distance \" + np.string_(np.linalg.norm(last - current)))\n",
      "    sys.stdout.flush()\n",
      "    \n",
      "    iterations += 1\n",
      "\n",
      "print\n",
      "print 'finished in', iterations, 'iterations'\n",
      "#distanceMatrix = distMat\n",
      "fig = plt.figure()\n",
      "a=fig.add_subplot(1,2,1)\n",
      "imgplot = plt.imshow(distMat, cmap = cm.Greys_r, interpolation='nearest')\n",
      "a.set_title('future cost matrix grey')\n",
      "a=fig.add_subplot(1,2,2)\n",
      "imgplot = plt.imshow(distMat, interpolation='nearest')\n",
      "maxDist = np.max(distMat)\n",
      "plt.colorbar(ticks=[0.1*maxDist,0.3*maxDist,0.5*maxDist,0.7*maxDist,0.9*maxDist], orientation ='horizontal')\n",
      "a.set_title('future cost matrix color')"
     ],
     "language": "python",
     "metadata": {},
     "outputs": [
      {
       "output_type": "stream",
       "stream": "stdout",
       "text": [
        "\r",
        "Iteration 0; distance 1989285.93319"
       ]
      },
      {
       "output_type": "stream",
       "stream": "stdout",
       "text": [
        "\r",
        "Iteration 1; distance 326399.984282"
       ]
      },
      {
       "output_type": "stream",
       "stream": "stdout",
       "text": [
        "\r",
        "Iteration 2; distance 240568.114423"
       ]
      },
      {
       "output_type": "stream",
       "stream": "stdout",
       "text": [
        "\r",
        "Iteration 3; distance 217449.62481"
       ]
      },
      {
       "output_type": "stream",
       "stream": "stdout",
       "text": [
        "\r",
        "Iteration 4; distance 212380.920971"
       ]
      },
      {
       "output_type": "stream",
       "stream": "stdout",
       "text": [
        "\r",
        "Iteration 5; distance 207946.550781"
       ]
      },
      {
       "output_type": "stream",
       "stream": "stdout",
       "text": [
        "\r",
        "Iteration 6; distance 203623.066662"
       ]
      },
      {
       "output_type": "stream",
       "stream": "stdout",
       "text": [
        "\r",
        "Iteration 7; distance 199370.785458"
       ]
      },
      {
       "output_type": "stream",
       "stream": "stdout",
       "text": [
        "\r",
        "Iteration 8; distance 195183.251993"
       ]
      },
      {
       "output_type": "stream",
       "stream": "stdout",
       "text": [
        "\r",
        "Iteration 9; distance 191107.252899"
       ]
      },
      {
       "output_type": "stream",
       "stream": "stdout",
       "text": [
        "\r",
        "Iteration 10; distance 187086.375927"
       ]
      },
      {
       "output_type": "stream",
       "stream": "stdout",
       "text": [
        "\r",
        "Iteration 11; distance 183174.878534"
       ]
      },
      {
       "output_type": "stream",
       "stream": "stdout",
       "text": [
        "\r",
        "Iteration 12; distance 179366.430279"
       ]
      },
      {
       "output_type": "stream",
       "stream": "stdout",
       "text": [
        "\r",
        "Iteration 13; distance 175617.259941"
       ]
      },
      {
       "output_type": "stream",
       "stream": "stdout",
       "text": [
        "\r",
        "Iteration 14; distance 171931.412447"
       ]
      },
      {
       "output_type": "stream",
       "stream": "stdout",
       "text": [
        "\r",
        "Iteration 15; distance 168102.582439"
       ]
      },
      {
       "output_type": "stream",
       "stream": "stdout",
       "text": [
        "\r",
        "Iteration 16; distance 163045.394848"
       ]
      },
      {
       "output_type": "stream",
       "stream": "stdout",
       "text": [
        "\r",
        "Iteration 17; distance 156327.553239"
       ]
      },
      {
       "output_type": "stream",
       "stream": "stdout",
       "text": [
        "\r",
        "Iteration 18; distance 149744.722135"
       ]
      },
      {
       "output_type": "stream",
       "stream": "stdout",
       "text": [
        "\r",
        "Iteration 19; distance 143439.088904"
       ]
      },
      {
       "output_type": "stream",
       "stream": "stdout",
       "text": [
        "\r",
        "Iteration 20; distance 137398.980961"
       ]
      },
      {
       "output_type": "stream",
       "stream": "stdout",
       "text": [
        "\r",
        "Iteration 21; distance 131613.217244"
       ]
      },
      {
       "output_type": "stream",
       "stream": "stdout",
       "text": [
        "\r",
        "Iteration 22; distance 126071.087515"
       ]
      },
      {
       "output_type": "stream",
       "stream": "stdout",
       "text": [
        "\r",
        "Iteration 23; distance 120762.332539"
       ]
      },
      {
       "output_type": "stream",
       "stream": "stdout",
       "text": [
        "\r",
        "Iteration 24; distance 115677.125086"
       ]
      },
      {
       "output_type": "stream",
       "stream": "stdout",
       "text": [
        "\r",
        "Iteration 25; distance 110806.051745"
       ]
      },
      {
       "output_type": "stream",
       "stream": "stdout",
       "text": [
        "\r",
        "Iteration 26; distance 106140.095495"
       ]
      },
      {
       "output_type": "stream",
       "stream": "stdout",
       "text": [
        "\r",
        "Iteration 27; distance 101670.619018"
       ]
      },
      {
       "output_type": "stream",
       "stream": "stdout",
       "text": [
        "\r",
        "Iteration 28; distance 97389.3487017"
       ]
      },
      {
       "output_type": "stream",
       "stream": "stdout",
       "text": [
        "\r",
        "Iteration 29; distance 93288.3593331"
       ]
      },
      {
       "output_type": "stream",
       "stream": "stdout",
       "text": [
        "\r",
        "Iteration 30; distance 89360.0594221"
       ]
      },
      {
       "output_type": "stream",
       "stream": "stdout",
       "text": [
        "\r",
        "Iteration 31; distance 85597.1771506"
       ]
      },
      {
       "output_type": "stream",
       "stream": "stdout",
       "text": [
        "\r",
        "Iteration 32; distance 81992.746911"
       ]
      },
      {
       "output_type": "stream",
       "stream": "stdout",
       "text": [
        "\r",
        "Iteration 33; distance 78540.0964121"
       ]
      },
      {
       "output_type": "stream",
       "stream": "stdout",
       "text": [
        "\r",
        "Iteration 34; distance 75232.8343276"
       ]
      },
      {
       "output_type": "stream",
       "stream": "stdout",
       "text": [
        "\r",
        "Iteration 35; distance 72064.838465"
       ]
      },
      {
       "output_type": "stream",
       "stream": "stdout",
       "text": [
        "\r",
        "Iteration 36; distance 69030.2444326"
       ]
      },
      {
       "output_type": "stream",
       "stream": "stdout",
       "text": [
        "\r",
        "Iteration 37; distance 66123.4347834"
       ]
      },
      {
       "output_type": "stream",
       "stream": "stdout",
       "text": [
        "\r",
        "Iteration 38; distance 63339.0286171"
       ]
      },
      {
       "output_type": "stream",
       "stream": "stdout",
       "text": [
        "\r",
        "Iteration 39; distance 60671.8716185"
       ]
      },
      {
       "output_type": "stream",
       "stream": "stdout",
       "text": [
        "\r",
        "Iteration 40; distance 58117.0265169"
       ]
      },
      {
       "output_type": "stream",
       "stream": "stdout",
       "text": [
        "\r",
        "Iteration 41; distance 55669.7639461"
       ]
      },
      {
       "output_type": "stream",
       "stream": "stdout",
       "text": [
        "\r",
        "Iteration 42; distance 53325.5536896"
       ]
      },
      {
       "output_type": "stream",
       "stream": "stdout",
       "text": [
        "\r",
        "Iteration 43; distance 51080.0562952"
       ]
      },
      {
       "output_type": "stream",
       "stream": "stdout",
       "text": [
        "\r",
        "Iteration 44; distance 48929.1150413"
       ]
      },
      {
       "output_type": "stream",
       "stream": "stdout",
       "text": [
        "\r",
        "Iteration 45; distance 46868.7482427"
       ]
      },
      {
       "output_type": "stream",
       "stream": "stdout",
       "text": [
        "\r",
        "Iteration 46; distance 44895.14188"
       ]
      },
      {
       "output_type": "stream",
       "stream": "stdout",
       "text": [
        "\r",
        "Iteration 47; distance 43004.6425389"
       ]
      },
      {
       "output_type": "stream",
       "stream": "stdout",
       "text": [
        "\r",
        "Iteration 48; distance 41193.7506477"
       ]
      },
      {
       "output_type": "stream",
       "stream": "stdout",
       "text": [
        "\r",
        "Iteration 49; distance 39459.1139989"
       ]
      },
      {
       "output_type": "stream",
       "stream": "stdout",
       "text": [
        "\r",
        "Iteration 50; distance 37797.5215439"
       ]
      },
      {
       "output_type": "stream",
       "stream": "stdout",
       "text": [
        "\r",
        "Iteration 51; distance 36205.8974487"
       ]
      },
      {
       "output_type": "stream",
       "stream": "stdout",
       "text": [
        "\r",
        "Iteration 52; distance 34681.2954003"
       ]
      },
      {
       "output_type": "stream",
       "stream": "stdout",
       "text": [
        "\r",
        "Iteration 53; distance 33220.8931528"
       ]
      },
      {
       "output_type": "stream",
       "stream": "stdout",
       "text": [
        "\r",
        "Iteration 54; distance 31821.9873027"
       ]
      },
      {
       "output_type": "stream",
       "stream": "stdout",
       "text": [
        "\r",
        "Iteration 55; distance 30481.9882848"
       ]
      },
      {
       "output_type": "stream",
       "stream": "stdout",
       "text": [
        "\r",
        "Iteration 56; distance 29198.4155784"
       ]
      },
      {
       "output_type": "stream",
       "stream": "stdout",
       "text": [
        "\r",
        "Iteration 57; distance 27968.8931156"
       ]
      },
      {
       "output_type": "stream",
       "stream": "stdout",
       "text": [
        "\r",
        "Iteration 58; distance 26791.1448829"
       ]
      },
      {
       "output_type": "stream",
       "stream": "stdout",
       "text": [
        "\r",
        "Iteration 59; distance 25662.9907079"
       ]
      },
      {
       "output_type": "stream",
       "stream": "stdout",
       "text": [
        "\r",
        "Iteration 60; distance 24582.3422236"
       ]
      },
      {
       "output_type": "stream",
       "stream": "stdout",
       "text": [
        "\r",
        "Iteration 61; distance 23547.1990026"
       ]
      },
      {
       "output_type": "stream",
       "stream": "stdout",
       "text": [
        "\r",
        "Iteration 62; distance 22555.6448536"
       ]
      },
      {
       "output_type": "stream",
       "stream": "stdout",
       "text": [
        "\r",
        "Iteration 63; distance 21605.844275"
       ]
      },
      {
       "output_type": "stream",
       "stream": "stdout",
       "text": [
        "\r",
        "Iteration 64; distance 20696.0390565"
       ]
      },
      {
       "output_type": "stream",
       "stream": "stdout",
       "text": [
        "\r",
        "Iteration 65; distance 19824.5450249"
       ]
      },
      {
       "output_type": "stream",
       "stream": "stdout",
       "text": [
        "\r",
        "Iteration 66; distance 18989.7489258"
       ]
      },
      {
       "output_type": "stream",
       "stream": "stdout",
       "text": [
        "\r",
        "Iteration 67; distance 18190.1054382"
       ]
      },
      {
       "output_type": "stream",
       "stream": "stdout",
       "text": [
        "\r",
        "Iteration 68; distance 17424.1343129"
       ]
      },
      {
       "output_type": "stream",
       "stream": "stdout",
       "text": [
        "\r",
        "Iteration 69; distance 16690.4176331"
       ]
      },
      {
       "output_type": "stream",
       "stream": "stdout",
       "text": [
        "\r",
        "Iteration 70; distance 15987.5971894"
       ]
      },
      {
       "output_type": "stream",
       "stream": "stdout",
       "text": [
        "\r",
        "Iteration 71; distance 15314.3719653"
       ]
      },
      {
       "output_type": "stream",
       "stream": "stdout",
       "text": [
        "\r",
        "Iteration 72; distance 14669.4957293"
       ]
      },
      {
       "output_type": "stream",
       "stream": "stdout",
       "text": [
        "\r",
        "Iteration 73; distance 14051.7747277"
       ]
      },
      {
       "output_type": "stream",
       "stream": "stdout",
       "text": [
        "\r",
        "Iteration 74; distance 13460.0654747"
       ]
      },
      {
       "output_type": "stream",
       "stream": "stdout",
       "text": [
        "\r",
        "Iteration 75; distance 12893.272636"
       ]
      },
      {
       "output_type": "stream",
       "stream": "stdout",
       "text": [
        "\r",
        "Iteration 76; distance 12350.3470008"
       ]
      },
      {
       "output_type": "stream",
       "stream": "stdout",
       "text": [
        "\r",
        "Iteration 77; distance 11830.2835398"
       ]
      },
      {
       "output_type": "stream",
       "stream": "stdout",
       "text": [
        "\r",
        "Iteration 78; distance 11332.1195447"
       ]
      },
      {
       "output_type": "stream",
       "stream": "stdout",
       "text": [
        "\r",
        "Iteration 79; distance 10854.9328462"
       ]
      },
      {
       "output_type": "stream",
       "stream": "stdout",
       "text": [
        "\r",
        "Iteration 80; distance 10397.8401067"
       ]
      },
      {
       "output_type": "stream",
       "stream": "stdout",
       "text": [
        "\r",
        "Iteration 81; distance 9959.99518524"
       ]
      },
      {
       "output_type": "stream",
       "stream": "stdout",
       "text": [
        "\r",
        "Iteration 82; distance 9540.58757126"
       ]
      },
      {
       "output_type": "stream",
       "stream": "stdout",
       "text": [
        "\r",
        "Iteration 83; distance 9138.84088416"
       ]
      },
      {
       "output_type": "stream",
       "stream": "stdout",
       "text": [
        "\r",
        "Iteration 84; distance 8754.01143611"
       ]
      },
      {
       "output_type": "stream",
       "stream": "stdout",
       "text": [
        "\r",
        "Iteration 85; distance 8385.38685539"
       ]
      },
      {
       "output_type": "stream",
       "stream": "stdout",
       "text": [
        "\r",
        "Iteration 86; distance 8032.28476769"
       ]
      },
      {
       "output_type": "stream",
       "stream": "stdout",
       "text": [
        "\r",
        "Iteration 87; distance 7694.05153298"
       ]
      },
      {
       "output_type": "stream",
       "stream": "stdout",
       "text": [
        "\r",
        "Iteration 88; distance 7370.06103547"
       ]
      },
      {
       "output_type": "stream",
       "stream": "stdout",
       "text": [
        "\r",
        "Iteration 89; distance 7059.71352463"
       ]
      },
      {
       "output_type": "stream",
       "stream": "stdout",
       "text": [
        "\r",
        "Iteration 90; distance 6762.43450494"
       ]
      },
      {
       "output_type": "stream",
       "stream": "stdout",
       "text": [
        "\r",
        "Iteration 91; distance 6477.67367247"
       ]
      },
      {
       "output_type": "stream",
       "stream": "stdout",
       "text": [
        "\r",
        "Iteration 92; distance 6204.90389612"
       ]
      },
      {
       "output_type": "stream",
       "stream": "stdout",
       "text": [
        "\r",
        "Iteration 93; distance 5943.6202419"
       ]
      },
      {
       "output_type": "stream",
       "stream": "stdout",
       "text": [
        "\r",
        "Iteration 94; distance 5693.33903818"
       ]
      },
      {
       "output_type": "stream",
       "stream": "stdout",
       "text": [
        "\r",
        "Iteration 95; distance 5453.59698036"
       ]
      },
      {
       "output_type": "stream",
       "stream": "stdout",
       "text": [
        "\r",
        "Iteration 96; distance 5223.95027325"
       ]
      },
      {
       "output_type": "stream",
       "stream": "stdout",
       "text": [
        "\r",
        "Iteration 97; distance 5003.97380952"
       ]
      },
      {
       "output_type": "stream",
       "stream": "stdout",
       "text": [
        "\r",
        "Iteration 98; distance 4793.26038277"
       ]
      },
      {
       "output_type": "stream",
       "stream": "stdout",
       "text": [
        "\r",
        "Iteration 99; distance 4591.41993376"
       ]
      },
      {
       "output_type": "stream",
       "stream": "stdout",
       "text": [
        "\r",
        "Iteration 100; distance 4398.07882833"
       ]
      },
      {
       "output_type": "stream",
       "stream": "stdout",
       "text": [
        "\r",
        "Iteration 101; distance 4212.87916576"
       ]
      },
      {
       "output_type": "stream",
       "stream": "stdout",
       "text": [
        "\r",
        "Iteration 102; distance 4035.47811626"
       ]
      },
      {
       "output_type": "stream",
       "stream": "stdout",
       "text": [
        "\r",
        "Iteration 103; distance 3865.54728632"
       ]
      },
      {
       "output_type": "stream",
       "stream": "stdout",
       "text": [
        "\r",
        "Iteration 104; distance 3702.77211084"
       ]
      },
      {
       "output_type": "stream",
       "stream": "stdout",
       "text": [
        "\r",
        "Iteration 105; distance 3546.8512708"
       ]
      },
      {
       "output_type": "stream",
       "stream": "stdout",
       "text": [
        "\r",
        "Iteration 106; distance 3397.49613548"
       ]
      },
      {
       "output_type": "stream",
       "stream": "stdout",
       "text": [
        "\r",
        "Iteration 107; distance 3254.4302282"
       ]
      },
      {
       "output_type": "stream",
       "stream": "stdout",
       "text": [
        "\r",
        "Iteration 108; distance 3117.38871448"
       ]
      },
      {
       "output_type": "stream",
       "stream": "stdout",
       "text": [
        "\r",
        "Iteration 109; distance 2986.11791181"
       ]
      },
      {
       "output_type": "stream",
       "stream": "stdout",
       "text": [
        "\r",
        "Iteration 110; distance 2860.37482006"
       ]
      },
      {
       "output_type": "stream",
       "stream": "stdout",
       "text": [
        "\r",
        "Iteration 111; distance 2739.92667163"
       ]
      },
      {
       "output_type": "stream",
       "stream": "stdout",
       "text": [
        "\r",
        "Iteration 112; distance 2624.55050061"
       ]
      },
      {
       "output_type": "stream",
       "stream": "stdout",
       "text": [
        "\r",
        "Iteration 113; distance 2514.03273"
       ]
      },
      {
       "output_type": "stream",
       "stream": "stdout",
       "text": [
        "\r",
        "Iteration 114; distance 2408.16877634"
       ]
      },
      {
       "output_type": "stream",
       "stream": "stdout",
       "text": [
        "\r",
        "Iteration 115; distance 2306.76267104"
       ]
      },
      {
       "output_type": "stream",
       "stream": "stdout",
       "text": [
        "\r",
        "Iteration 116; distance 2209.62669759"
       ]
      },
      {
       "output_type": "stream",
       "stream": "stdout",
       "text": [
        "\r",
        "Iteration 117; distance 2116.58104407"
       ]
      },
      {
       "output_type": "stream",
       "stream": "stdout",
       "text": [
        "\r",
        "Iteration 118; distance 2027.45347031"
       ]
      },
      {
       "output_type": "stream",
       "stream": "stdout",
       "text": [
        "\r",
        "Iteration 119; distance 1942.07898904"
       ]
      },
      {
       "output_type": "stream",
       "stream": "stdout",
       "text": [
        "\r",
        "Iteration 120; distance 1860.29956046"
       ]
      },
      {
       "output_type": "stream",
       "stream": "stdout",
       "text": [
        "\r",
        "Iteration 121; distance 1781.9637997"
       ]
      },
      {
       "output_type": "stream",
       "stream": "stdout",
       "text": [
        "\r",
        "Iteration 122; distance 1706.92669662"
       ]
      },
      {
       "output_type": "stream",
       "stream": "stdout",
       "text": [
        "\r",
        "Iteration 123; distance 1635.04934731"
       ]
      },
      {
       "output_type": "stream",
       "stream": "stdout",
       "text": [
        "\r",
        "Iteration 124; distance 1566.19869701"
       ]
      },
      {
       "output_type": "stream",
       "stream": "stdout",
       "text": [
        "\r",
        "Iteration 125; distance 1500.24729379"
       ]
      },
      {
       "output_type": "stream",
       "stream": "stdout",
       "text": [
        "\r",
        "Iteration 126; distance 1437.07305262"
       ]
      },
      {
       "output_type": "stream",
       "stream": "stdout",
       "text": [
        "\r",
        "Iteration 127; distance 1376.55902938"
       ]
      },
      {
       "output_type": "stream",
       "stream": "stdout",
       "text": [
        "\r",
        "Iteration 128; distance 1318.59320437"
       ]
      },
      {
       "output_type": "stream",
       "stream": "stdout",
       "text": [
        "\r",
        "Iteration 129; distance 1263.06827496"
       ]
      },
      {
       "output_type": "stream",
       "stream": "stdout",
       "text": [
        "\r",
        "Iteration 130; distance 1209.88145693"
       ]
      },
      {
       "output_type": "stream",
       "stream": "stdout",
       "text": [
        "\r",
        "Iteration 131; distance 1158.93429424"
       ]
      },
      {
       "output_type": "stream",
       "stream": "stdout",
       "text": [
        "\r",
        "Iteration 132; distance 1110.13247676"
       ]
      },
      {
       "output_type": "stream",
       "stream": "stdout",
       "text": [
        "\r",
        "Iteration 133; distance 1063.38566568"
       ]
      },
      {
       "output_type": "stream",
       "stream": "stdout",
       "text": [
        "\r",
        "Iteration 134; distance 1018.60732629"
       ]
      },
      {
       "output_type": "stream",
       "stream": "stdout",
       "text": [
        "\r",
        "Iteration 135; distance 975.71456777"
       ]
      },
      {
       "output_type": "stream",
       "stream": "stdout",
       "text": [
        "\r",
        "Iteration 136; distance 934.627989798"
       ]
      },
      {
       "output_type": "stream",
       "stream": "stdout",
       "text": [
        "\r",
        "Iteration 137; distance 895.271535517"
       ]
      },
      {
       "output_type": "stream",
       "stream": "stdout",
       "text": [
        "\r",
        "Iteration 138; distance 857.57235077"
       ]
      },
      {
       "output_type": "stream",
       "stream": "stdout",
       "text": [
        "\r",
        "Iteration 139; distance 821.460649232"
       ]
      },
      {
       "output_type": "stream",
       "stream": "stdout",
       "text": [
        "\r",
        "Iteration 140; distance 786.869583223"
       ]
      },
      {
       "output_type": "stream",
       "stream": "stdout",
       "text": [
        "\r",
        "Iteration 141; distance 753.735119979"
       ]
      },
      {
       "output_type": "stream",
       "stream": "stdout",
       "text": [
        "\r",
        "Iteration 142; distance 721.995923085"
       ]
      },
      {
       "output_type": "stream",
       "stream": "stdout",
       "text": [
        "\r",
        "Iteration 143; distance 691.593238969"
       ]
      },
      {
       "output_type": "stream",
       "stream": "stdout",
       "text": [
        "\r",
        "Iteration 144; distance 662.470788124"
       ]
      },
      {
       "output_type": "stream",
       "stream": "stdout",
       "text": [
        "\r",
        "Iteration 145; distance 634.574660927"
       ]
      },
      {
       "output_type": "stream",
       "stream": "stdout",
       "text": [
        "\r",
        "Iteration 146; distance 607.853217845"
       ]
      },
      {
       "output_type": "stream",
       "stream": "stdout",
       "text": [
        "\r",
        "Iteration 147; distance 582.256993851"
       ]
      },
      {
       "output_type": "stream",
       "stream": "stdout",
       "text": [
        "\r",
        "Iteration 148; distance 557.738606848"
       ]
      },
      {
       "output_type": "stream",
       "stream": "stdout",
       "text": [
        "\r",
        "Iteration 149; distance 534.252669959"
       ]
      },
      {
       "output_type": "stream",
       "stream": "stdout",
       "text": [
        "\r",
        "Iteration 150; distance 511.755707519"
       ]
      },
      {
       "output_type": "stream",
       "stream": "stdout",
       "text": [
        "\r",
        "Iteration 151; distance 490.206074589"
       ]
      },
      {
       "output_type": "stream",
       "stream": "stdout",
       "text": [
        "\r",
        "Iteration 152; distance 469.56387986"
       ]
      },
      {
       "output_type": "stream",
       "stream": "stdout",
       "text": [
        "\r",
        "Iteration 153; distance 449.790911823"
       ]
      },
      {
       "output_type": "stream",
       "stream": "stdout",
       "text": [
        "\r",
        "Iteration 154; distance 430.850568019"
       ]
      },
      {
       "output_type": "stream",
       "stream": "stdout",
       "text": [
        "\r",
        "Iteration 155; distance 412.707787289"
       ]
      },
      {
       "output_type": "stream",
       "stream": "stdout",
       "text": [
        "\r",
        "Iteration 156; distance 395.328984878"
       ]
      },
      {
       "output_type": "stream",
       "stream": "stdout",
       "text": [
        "\r",
        "Iteration 157; distance 378.681990255"
       ]
      },
      {
       "output_type": "stream",
       "stream": "stdout",
       "text": [
        "\r",
        "Iteration 158; distance 362.735987568"
       ]
      },
      {
       "output_type": "stream",
       "stream": "stdout",
       "text": [
        "\r",
        "Iteration 159; distance 347.461458594"
       ]
      },
      {
       "output_type": "stream",
       "stream": "stdout",
       "text": [
        "\r",
        "Iteration 160; distance 332.830128095"
       ]
      },
      {
       "output_type": "stream",
       "stream": "stdout",
       "text": [
        "\r",
        "Iteration 161; distance 318.814911493"
       ]
      },
      {
       "output_type": "stream",
       "stream": "stdout",
       "text": [
        "\r",
        "Iteration 162; distance 305.389864709"
       ]
      },
      {
       "output_type": "stream",
       "stream": "stdout",
       "text": [
        "\r",
        "Iteration 163; distance 292.530136154"
       ]
      },
      {
       "output_type": "stream",
       "stream": "stdout",
       "text": [
        "\r",
        "Iteration 164; distance 280.21192072"
       ]
      },
      {
       "output_type": "stream",
       "stream": "stdout",
       "text": [
        "\r",
        "Iteration 165; distance 268.412415712"
       ]
      },
      {
       "output_type": "stream",
       "stream": "stdout",
       "text": [
        "\r",
        "Iteration 166; distance 257.109778638"
       ]
      },
      {
       "output_type": "stream",
       "stream": "stdout",
       "text": [
        "\r",
        "Iteration 167; distance 246.283086778"
       ]
      },
      {
       "output_type": "stream",
       "stream": "stdout",
       "text": [
        "\r",
        "Iteration 168; distance 235.912298452"
       ]
      },
      {
       "output_type": "stream",
       "stream": "stdout",
       "text": [
        "\r",
        "Iteration 169; distance 225.978215919"
       ]
      },
      {
       "output_type": "stream",
       "stream": "stdout",
       "text": [
        "\r",
        "Iteration 170; distance 216.462449838"
       ]
      },
      {
       "output_type": "stream",
       "stream": "stdout",
       "text": [
        "\r",
        "Iteration 171; distance 207.347385232"
       ]
      },
      {
       "output_type": "stream",
       "stream": "stdout",
       "text": [
        "\r",
        "Iteration 172; distance 198.616148871"
       ]
      },
      {
       "output_type": "stream",
       "stream": "stdout",
       "text": [
        "\r",
        "Iteration 173; distance 190.252578049"
       ]
      },
      {
       "output_type": "stream",
       "stream": "stdout",
       "text": [
        "\r",
        "Iteration 174; distance 182.241190663"
       ]
      },
      {
       "output_type": "stream",
       "stream": "stdout",
       "text": [
        "\r",
        "Iteration 175; distance 174.567156538"
       ]
      },
      {
       "output_type": "stream",
       "stream": "stdout",
       "text": [
        "\r",
        "Iteration 176; distance 167.216269994"
       ]
      },
      {
       "output_type": "stream",
       "stream": "stdout",
       "text": [
        "\r",
        "Iteration 177; distance 160.174923535"
       ]
      },
      {
       "output_type": "stream",
       "stream": "stdout",
       "text": [
        "\r",
        "Iteration 178; distance 153.430082674"
       ]
      },
      {
       "output_type": "stream",
       "stream": "stdout",
       "text": [
        "\r",
        "Iteration 179; distance 146.969261791"
       ]
      },
      {
       "output_type": "stream",
       "stream": "stdout",
       "text": [
        "\r",
        "Iteration 180; distance 140.780501028"
       ]
      },
      {
       "output_type": "stream",
       "stream": "stdout",
       "text": [
        "\r",
        "Iteration 181; distance 134.852344141"
       ]
      },
      {
       "output_type": "stream",
       "stream": "stdout",
       "text": [
        "\r",
        "Iteration 182; distance 129.173817308"
       ]
      },
      {
       "output_type": "stream",
       "stream": "stdout",
       "text": [
        "\r",
        "Iteration 183; distance 123.734408806"
       ]
      },
      {
       "output_type": "stream",
       "stream": "stdout",
       "text": [
        "\r",
        "Iteration 184; distance 118.524049545"
       ]
      },
      {
       "output_type": "stream",
       "stream": "stdout",
       "text": [
        "\r",
        "Iteration 185; distance 113.53309444"
       ]
      },
      {
       "output_type": "stream",
       "stream": "stdout",
       "text": [
        "\r",
        "Iteration 186; distance 108.752304553"
       ]
      },
      {
       "output_type": "stream",
       "stream": "stdout",
       "text": [
        "\r",
        "Iteration 187; distance 104.172829994"
       ]
      },
      {
       "output_type": "stream",
       "stream": "stdout",
       "text": [
        "\r",
        "Iteration 188; distance 99.7861935287"
       ]
      },
      {
       "output_type": "stream",
       "stream": "stdout",
       "text": [
        "\r",
        "Iteration 189; distance 95.5842748973"
       ]
      },
      {
       "output_type": "stream",
       "stream": "stdout",
       "text": [
        "\r",
        "Iteration 190; distance 91.5592957777"
       ]
      },
      {
       "output_type": "stream",
       "stream": "stdout",
       "text": [
        "\r",
        "Iteration 191; distance 87.7038053806"
       ]
      },
      {
       "output_type": "stream",
       "stream": "stdout",
       "text": [
        "\r",
        "Iteration 192; distance 84.0106666718"
       ]
      },
      {
       "output_type": "stream",
       "stream": "stdout",
       "text": [
        "\r",
        "Iteration 193; distance 80.4730431489"
       ]
      },
      {
       "output_type": "stream",
       "stream": "stdout",
       "text": [
        "\r",
        "Iteration 194; distance 77.0843861913"
       ]
      },
      {
       "output_type": "stream",
       "stream": "stdout",
       "text": [
        "\r",
        "Iteration 195; distance 73.8384229245"
       ]
      },
      {
       "output_type": "stream",
       "stream": "stdout",
       "text": [
        "\r",
        "Iteration 196; distance 70.7291446353"
       ]
      },
      {
       "output_type": "stream",
       "stream": "stdout",
       "text": [
        "\r",
        "Iteration 197; distance 67.7507956284"
       ]
      },
      {
       "output_type": "stream",
       "stream": "stdout",
       "text": [
        "\r",
        "Iteration 198; distance 64.8978625671"
       ]
      },
      {
       "output_type": "stream",
       "stream": "stdout",
       "text": [
        "\r",
        "Iteration 199; distance 62.165064288"
       ]
      },
      {
       "output_type": "stream",
       "stream": "stdout",
       "text": [
        "\r",
        "Iteration 200; distance 59.5473420109"
       ]
      },
      {
       "output_type": "stream",
       "stream": "stdout",
       "text": [
        "\r",
        "Iteration 201; distance 57.0398499745"
       ]
      },
      {
       "output_type": "stream",
       "stream": "stdout",
       "text": [
        "\r",
        "Iteration 202; distance 54.6379464656"
       ]
      },
      {
       "output_type": "stream",
       "stream": "stdout",
       "text": [
        "\r",
        "Iteration 203; distance 52.3371852367"
       ]
      },
      {
       "output_type": "stream",
       "stream": "stdout",
       "text": [
        "\r",
        "Iteration 204; distance 50.133307265"
       ]
      },
      {
       "output_type": "stream",
       "stream": "stdout",
       "text": [
        "\r",
        "Iteration 205; distance 48.022232871"
       ]
      },
      {
       "output_type": "stream",
       "stream": "stdout",
       "text": [
        "\r",
        "Iteration 206; distance 46.0000541739"
       ]
      },
      {
       "output_type": "stream",
       "stream": "stdout",
       "text": [
        "\r",
        "Iteration 207; distance 44.0630278392"
       ]
      },
      {
       "output_type": "stream",
       "stream": "stdout",
       "text": [
        "\r",
        "Iteration 208; distance 42.2075681699"
       ]
      },
      {
       "output_type": "stream",
       "stream": "stdout",
       "text": [
        "\r",
        "Iteration 209; distance 40.430240459"
       ]
      },
      {
       "output_type": "stream",
       "stream": "stdout",
       "text": [
        "\r",
        "Iteration 210; distance 38.7277546268"
       ]
      },
      {
       "output_type": "stream",
       "stream": "stdout",
       "text": [
        "\r",
        "Iteration 211; distance 37.0969591416"
       ]
      },
      {
       "output_type": "stream",
       "stream": "stdout",
       "text": [
        "\r",
        "Iteration 212; distance 35.5348351828"
       ]
      },
      {
       "output_type": "stream",
       "stream": "stdout",
       "text": [
        "\r",
        "Iteration 213; distance 34.0384910414"
       ]
      },
      {
       "output_type": "stream",
       "stream": "stdout",
       "text": [
        "\r",
        "Iteration 214; distance 32.6051567808"
       ]
      },
      {
       "output_type": "stream",
       "stream": "stdout",
       "text": [
        "\r",
        "Iteration 215; distance 31.2321791105"
       ]
      },
      {
       "output_type": "stream",
       "stream": "stdout",
       "text": [
        "\r",
        "Iteration 216; distance 29.917016455"
       ]
      },
      {
       "output_type": "stream",
       "stream": "stdout",
       "text": [
        "\r",
        "Iteration 217; distance 28.6572342699"
       ]
      },
      {
       "output_type": "stream",
       "stream": "stdout",
       "text": [
        "\r",
        "Iteration 218; distance 27.4505005304"
       ]
      },
      {
       "output_type": "stream",
       "stream": "stdout",
       "text": [
        "\r",
        "Iteration 219; distance 26.2945814053"
       ]
      },
      {
       "output_type": "stream",
       "stream": "stdout",
       "text": [
        "\r",
        "Iteration 220; distance 25.1873371293"
       ]
      },
      {
       "output_type": "stream",
       "stream": "stdout",
       "text": [
        "\r",
        "Iteration 221; distance 24.1267180459"
       ]
      },
      {
       "output_type": "stream",
       "stream": "stdout",
       "text": [
        "\r",
        "Iteration 222; distance 23.1107608027"
       ]
      },
      {
       "output_type": "stream",
       "stream": "stdout",
       "text": [
        "\r",
        "Iteration 223; distance 22.1375847248"
       ]
      },
      {
       "output_type": "stream",
       "stream": "stdout",
       "text": [
        "\r",
        "Iteration 224; distance 21.205388332"
       ]
      },
      {
       "output_type": "stream",
       "stream": "stdout",
       "text": [
        "\r",
        "Iteration 225; distance 20.3124460004"
       ]
      },
      {
       "output_type": "stream",
       "stream": "stdout",
       "text": [
        "\r",
        "Iteration 226; distance 19.4571047726"
       ]
      },
      {
       "output_type": "stream",
       "stream": "stdout",
       "text": [
        "\r",
        "Iteration 227; distance 18.6377812932"
       ]
      },
      {
       "output_type": "stream",
       "stream": "stdout",
       "text": [
        "\r",
        "Iteration 228; distance 17.8529588896"
       ]
      },
      {
       "output_type": "stream",
       "stream": "stdout",
       "text": [
        "\r",
        "Iteration 229; distance 17.1011847421"
       ]
      },
      {
       "output_type": "stream",
       "stream": "stdout",
       "text": [
        "\r",
        "Iteration 230; distance 16.3810672146"
       ]
      },
      {
       "output_type": "stream",
       "stream": "stdout",
       "text": [
        "\r",
        "Iteration 231; distance 15.6912732759"
       ]
      },
      {
       "output_type": "stream",
       "stream": "stdout",
       "text": [
        "\r",
        "Iteration 232; distance 15.0305260181"
       ]
      },
      {
       "output_type": "stream",
       "stream": "stdout",
       "text": [
        "\r",
        "Iteration 233; distance 14.3976023144"
       ]
      },
      {
       "output_type": "stream",
       "stream": "stdout",
       "text": [
        "\r",
        "Iteration 234; distance 13.7913305317"
       ]
      },
      {
       "output_type": "stream",
       "stream": "stdout",
       "text": [
        "\r",
        "Iteration 235; distance 13.2105883808"
       ]
      },
      {
       "output_type": "stream",
       "stream": "stdout",
       "text": [
        "\r",
        "Iteration 236; distance 12.6543008271"
       ]
      },
      {
       "output_type": "stream",
       "stream": "stdout",
       "text": [
        "\r",
        "Iteration 237; distance 12.1214381079"
       ]
      },
      {
       "output_type": "stream",
       "stream": "stdout",
       "text": [
        "\r",
        "Iteration 238; distance 11.6110138218"
       ]
      },
      {
       "output_type": "stream",
       "stream": "stdout",
       "text": [
        "\r",
        "Iteration 239; distance 11.1220831037"
       ]
      },
      {
       "output_type": "stream",
       "stream": "stdout",
       "text": [
        "\r",
        "Iteration 240; distance 10.6537408751"
       ]
      },
      {
       "output_type": "stream",
       "stream": "stdout",
       "text": [
        "\r",
        "Iteration 241; distance 10.2051201719"
       ]
      },
      {
       "output_type": "stream",
       "stream": "stdout",
       "text": [
        "\r",
        "Iteration 242; distance 9.77539053583"
       ]
      },
      {
       "output_type": "stream",
       "stream": "stdout",
       "text": [
        "\r",
        "Iteration 243; distance 9.36375647942"
       ]
      },
      {
       "output_type": "stream",
       "stream": "stdout",
       "text": [
        "\r",
        "Iteration 244; distance 8.96945601132"
       ]
      },
      {
       "output_type": "stream",
       "stream": "stdout",
       "text": [
        "\r",
        "Iteration 245; distance 8.59175922961"
       ]
      },
      {
       "output_type": "stream",
       "stream": "stdout",
       "text": [
        "\r",
        "Iteration 246; distance 8.22996696401"
       ]
      },
      {
       "output_type": "stream",
       "stream": "stdout",
       "text": [
        "\r",
        "Iteration 247; distance 7.88340948604"
       ]
      },
      {
       "output_type": "stream",
       "stream": "stdout",
       "text": [
        "\r",
        "Iteration 248; distance 7.5514452714"
       ]
      },
      {
       "output_type": "stream",
       "stream": "stdout",
       "text": [
        "\r",
        "Iteration 249; distance 7.23345981137"
       ]
      },
      {
       "output_type": "stream",
       "stream": "stdout",
       "text": [
        "\r",
        "Iteration 250; distance 6.92886447363"
       ]
      },
      {
       "output_type": "stream",
       "stream": "stdout",
       "text": [
        "\r",
        "Iteration 251; distance 6.63709540611"
       ]
      },
      {
       "output_type": "stream",
       "stream": "stdout",
       "text": [
        "\r",
        "Iteration 252; distance 6.35761250272"
       ]
      },
      {
       "output_type": "stream",
       "stream": "stdout",
       "text": [
        "\r",
        "Iteration 253; distance 6.08989840917"
       ]
      },
      {
       "output_type": "stream",
       "stream": "stdout",
       "text": [
        "\r",
        "Iteration 254; distance 5.83345754543"
       ]
      },
      {
       "output_type": "stream",
       "stream": "stdout",
       "text": [
        "\r",
        "Iteration 255; distance 5.58781520631"
       ]
      },
      {
       "output_type": "stream",
       "stream": "stdout",
       "text": [
        "\r",
        "Iteration 256; distance 5.35251667595"
       ]
      },
      {
       "output_type": "stream",
       "stream": "stdout",
       "text": [
        "\r",
        "Iteration 257; distance 5.12712638218"
       ]
      },
      {
       "output_type": "stream",
       "stream": "stdout",
       "text": [
        "\r",
        "Iteration 258; distance 4.91122709616"
       ]
      },
      {
       "output_type": "stream",
       "stream": "stdout",
       "text": [
        "\r",
        "Iteration 259; distance 4.70441915951"
       ]
      },
      {
       "output_type": "stream",
       "stream": "stdout",
       "text": [
        "\r",
        "Iteration 260; distance 4.50631974754"
       ]
      },
      {
       "output_type": "stream",
       "stream": "stdout",
       "text": [
        "\r",
        "Iteration 261; distance 4.31656214466"
       ]
      },
      {
       "output_type": "stream",
       "stream": "stdout",
       "text": [
        "\r",
        "Iteration 262; distance 4.13479508312"
       ]
      },
      {
       "output_type": "stream",
       "stream": "stdout",
       "text": [
        "\r",
        "Iteration 263; distance 3.96068209253"
       ]
      },
      {
       "output_type": "stream",
       "stream": "stdout",
       "text": [
        "\r",
        "Iteration 264; distance 3.79390086657"
       ]
      },
      {
       "output_type": "stream",
       "stream": "stdout",
       "text": [
        "\r",
        "Iteration 265; distance 3.63414266722"
       ]
      },
      {
       "output_type": "stream",
       "stream": "stdout",
       "text": [
        "\r",
        "Iteration 266; distance 3.48111175783"
       ]
      },
      {
       "output_type": "stream",
       "stream": "stdout",
       "text": [
        "\r",
        "Iteration 267; distance 3.3345248616"
       ]
      },
      {
       "output_type": "stream",
       "stream": "stdout",
       "text": [
        "\r",
        "Iteration 268; distance 3.19411062837"
       ]
      },
      {
       "output_type": "stream",
       "stream": "stdout",
       "text": [
        "\r",
        "Iteration 269; distance 3.05960912565"
       ]
      },
      {
       "output_type": "stream",
       "stream": "stdout",
       "text": [
        "\r",
        "Iteration 270; distance 2.9307713739"
       ]
      },
      {
       "output_type": "stream",
       "stream": "stdout",
       "text": [
        "\r",
        "Iteration 271; distance 2.80735888262"
       ]
      },
      {
       "output_type": "stream",
       "stream": "stdout",
       "text": [
        "\r",
        "Iteration 272; distance 2.68914319192"
       ]
      },
      {
       "output_type": "stream",
       "stream": "stdout",
       "text": [
        "\r",
        "Iteration 273; distance 2.57590547459"
       ]
      },
      {
       "output_type": "stream",
       "stream": "stdout",
       "text": [
        "\r",
        "Iteration 274; distance 2.46743610945"
       ]
      },
      {
       "output_type": "stream",
       "stream": "stdout",
       "text": [
        "\r",
        "Iteration 275; distance 2.36353430373"
       ]
      },
      {
       "output_type": "stream",
       "stream": "stdout",
       "text": [
        "\r",
        "Iteration 276; distance 2.26400772123"
       ]
      },
      {
       "output_type": "stream",
       "stream": "stdout",
       "text": [
        "\r",
        "Iteration 277; distance 2.16867212436"
       ]
      },
      {
       "output_type": "stream",
       "stream": "stdout",
       "text": [
        "\r",
        "Iteration 278; distance 2.07735103507"
       ]
      },
      {
       "output_type": "stream",
       "stream": "stdout",
       "text": [
        "\r",
        "Iteration 279; distance 1.98987540746"
       ]
      },
      {
       "output_type": "stream",
       "stream": "stdout",
       "text": [
        "\r",
        "Iteration 280; distance 1.90608330973"
       ]
      },
      {
       "output_type": "stream",
       "stream": "stdout",
       "text": [
        "\r",
        "Iteration 281; distance 1.82581962952"
       ]
      },
      {
       "output_type": "stream",
       "stream": "stdout",
       "text": [
        "\r",
        "Iteration 282; distance 1.74893579233"
       ]
      },
      {
       "output_type": "stream",
       "stream": "stdout",
       "text": [
        "\r",
        "Iteration 283; distance 1.67528947275"
       ]
      },
      {
       "output_type": "stream",
       "stream": "stdout",
       "text": [
        "\r",
        "Iteration 284; distance 1.60474434014"
       ]
      },
      {
       "output_type": "stream",
       "stream": "stdout",
       "text": [
        "\r",
        "Iteration 285; distance 1.53716980943"
       ]
      },
      {
       "output_type": "stream",
       "stream": "stdout",
       "text": [
        "\r",
        "Iteration 286; distance 1.47244079163"
       ]
      },
      {
       "output_type": "stream",
       "stream": "stdout",
       "text": [
        "\r",
        "Iteration 287; distance 1.41043746113"
       ]
      },
      {
       "output_type": "stream",
       "stream": "stdout",
       "text": [
        "\r",
        "Iteration 288; distance 1.35104504059"
       ]
      },
      {
       "output_type": "stream",
       "stream": "stdout",
       "text": [
        "\r",
        "Iteration 289; distance 1.29415359205"
       ]
      },
      {
       "output_type": "stream",
       "stream": "stdout",
       "text": [
        "\r",
        "Iteration 290; distance 1.23965779438"
       ]
      },
      {
       "output_type": "stream",
       "stream": "stdout",
       "text": [
        "\r",
        "Iteration 291; distance 1.1874567733"
       ]
      },
      {
       "output_type": "stream",
       "stream": "stdout",
       "text": [
        "\r",
        "Iteration 292; distance 1.13745389729"
       ]
      },
      {
       "output_type": "stream",
       "stream": "stdout",
       "text": [
        "\r",
        "Iteration 293; distance 1.08955660197"
       ]
      },
      {
       "output_type": "stream",
       "stream": "stdout",
       "text": [
        "\r",
        "Iteration 294; distance 1.04367622377"
       ]
      },
      {
       "output_type": "stream",
       "stream": "stdout",
       "text": [
        "\r",
        "Iteration 295; distance 0.99972783464"
       ]
      },
      {
       "output_type": "stream",
       "stream": "stdout",
       "text": [
        "\r",
        "Iteration 296; distance 0.957630076111"
       ]
      },
      {
       "output_type": "stream",
       "stream": "stdout",
       "text": [
        "\r",
        "Iteration 297; distance 0.917305023463"
       ]
      },
      {
       "output_type": "stream",
       "stream": "stdout",
       "text": [
        "\r",
        "Iteration 298; distance 0.878678026429"
       ]
      },
      {
       "output_type": "stream",
       "stream": "stdout",
       "text": [
        "\r",
        "Iteration 299; distance 0.841677579113"
       ]
      },
      {
       "output_type": "stream",
       "stream": "stdout",
       "text": [
        "\r",
        "Iteration 300; distance 0.806235194402"
       ]
      },
      {
       "output_type": "stream",
       "stream": "stdout",
       "text": [
        "\r",
        "Iteration 301; distance 0.772285260606"
       ]
      },
      {
       "output_type": "stream",
       "stream": "stdout",
       "text": [
        "\r",
        "Iteration 302; distance 0.739764932839"
       ]
      },
      {
       "output_type": "stream",
       "stream": "stdout",
       "text": [
        "\r",
        "Iteration 303; distance 0.708614007383"
       ]
      },
      {
       "output_type": "stream",
       "stream": "stdout",
       "text": [
        "\r",
        "Iteration 304; distance 0.678774826125"
       ]
      },
      {
       "output_type": "stream",
       "stream": "stdout",
       "text": [
        "\r",
        "Iteration 305; distance 0.650192149098"
       ]
      },
      {
       "output_type": "stream",
       "stream": "stdout",
       "text": [
        "\r",
        "Iteration 306; distance 0.622813064434"
       ]
      },
      {
       "output_type": "stream",
       "stream": "stdout",
       "text": [
        "\r",
        "Iteration 307; distance 0.596586893266"
       ]
      },
      {
       "output_type": "stream",
       "stream": "stdout",
       "text": [
        "\r",
        "Iteration 308; distance 0.571465085926"
       ]
      },
      {
       "output_type": "stream",
       "stream": "stdout",
       "text": [
        "\r",
        "Iteration 309; distance 0.547401137533"
       ]
      },
      {
       "output_type": "stream",
       "stream": "stdout",
       "text": [
        "\r",
        "Iteration 310; distance 0.524350505866"
       ]
      },
      {
       "output_type": "stream",
       "stream": "stdout",
       "text": [
        "\r",
        "Iteration 311; distance 0.502270515232"
       ]
      },
      {
       "output_type": "stream",
       "stream": "stdout",
       "text": [
        "\r",
        "Iteration 312; distance 0.481120295269"
       ]
      },
      {
       "output_type": "stream",
       "stream": "stdout",
       "text": [
        "\r",
        "Iteration 313; distance 0.460860696384"
       ]
      },
      {
       "output_type": "stream",
       "stream": "stdout",
       "text": [
        "\r",
        "Iteration 314; distance 0.441454212917"
       ]
      },
      {
       "output_type": "stream",
       "stream": "stdout",
       "text": [
        "\r",
        "Iteration 315; distance 0.422864920004"
       ]
      },
      {
       "output_type": "stream",
       "stream": "stdout",
       "text": [
        "\r",
        "Iteration 316; distance 0.405058409641"
       ]
      },
      {
       "output_type": "stream",
       "stream": "stdout",
       "text": [
        "\r",
        "Iteration 317; distance 0.388001717484"
       ]
      },
      {
       "output_type": "stream",
       "stream": "stdout",
       "text": [
        "\r",
        "Iteration 318; distance 0.371663265481"
       ]
      },
      {
       "output_type": "stream",
       "stream": "stdout",
       "text": [
        "\r",
        "Iteration 319; distance 0.356012814005"
       ]
      },
      {
       "output_type": "stream",
       "stream": "stdout",
       "text": [
        "\r",
        "Iteration 320; distance 0.34102139345"
       ]
      },
      {
       "output_type": "stream",
       "stream": "stdout",
       "text": [
        "\r",
        "Iteration 321; distance 0.326661249581"
       ]
      },
      {
       "output_type": "stream",
       "stream": "stdout",
       "text": [
        "\r",
        "Iteration 322; distance 0.312905798886"
       ]
      },
      {
       "output_type": "stream",
       "stream": "stdout",
       "text": [
        "\r",
        "Iteration 323; distance 0.299729579676"
       ]
      },
      {
       "output_type": "stream",
       "stream": "stdout",
       "text": [
        "\r",
        "Iteration 324; distance 0.287108202705"
       ]
      },
      {
       "output_type": "stream",
       "stream": "stdout",
       "text": [
        "\r",
        "Iteration 325; distance 0.275018303096"
       ]
      },
      {
       "output_type": "stream",
       "stream": "stdout",
       "text": [
        "\r",
        "Iteration 326; distance 0.263437495024"
       ]
      },
      {
       "output_type": "stream",
       "stream": "stdout",
       "text": [
        "\r",
        "Iteration 327; distance 0.252344348322"
       ]
      },
      {
       "output_type": "stream",
       "stream": "stdout",
       "text": [
        "\r",
        "Iteration 328; distance 0.241718325261"
       ]
      },
      {
       "output_type": "stream",
       "stream": "stdout",
       "text": [
        "\r",
        "Iteration 329; distance 0.231539757048"
       ]
      },
      {
       "output_type": "stream",
       "stream": "stdout",
       "text": [
        "\r",
        "Iteration 330; distance 0.221789795349"
       ]
      },
      {
       "output_type": "stream",
       "stream": "stdout",
       "text": [
        "\r",
        "Iteration 331; distance 0.212450403059"
       ]
      },
      {
       "output_type": "stream",
       "stream": "stdout",
       "text": [
        "\r",
        "Iteration 332; distance 0.203504282764"
       ]
      },
      {
       "output_type": "stream",
       "stream": "stdout",
       "text": [
        "\r",
        "Iteration 333; distance 0.194934876014"
       ]
      },
      {
       "output_type": "stream",
       "stream": "stdout",
       "text": [
        "\r",
        "Iteration 334; distance 0.18672632165"
       ]
      },
      {
       "output_type": "stream",
       "stream": "stdout",
       "text": [
        "\r",
        "Iteration 335; distance 0.178863423025"
       ]
      },
      {
       "output_type": "stream",
       "stream": "stdout",
       "text": [
        "\r",
        "Iteration 336; distance 0.171331622137"
       ]
      },
      {
       "output_type": "stream",
       "stream": "stdout",
       "text": [
        "\r",
        "Iteration 337; distance 0.164116980744"
       ]
      },
      {
       "output_type": "stream",
       "stream": "stdout",
       "text": [
        "\r",
        "Iteration 338; distance 0.157206144769"
       ]
      },
      {
       "output_type": "stream",
       "stream": "stdout",
       "text": [
        "\r",
        "Iteration 339; distance 0.150586316961"
       ]
      },
      {
       "output_type": "stream",
       "stream": "stdout",
       "text": [
        "\r",
        "Iteration 340; distance 0.144245243638"
       ]
      },
      {
       "output_type": "stream",
       "stream": "stdout",
       "text": [
        "\r",
        "Iteration 341; distance 0.138171190329"
       ]
      },
      {
       "output_type": "stream",
       "stream": "stdout",
       "text": [
        "\r",
        "Iteration 342; distance 0.132352910399"
       ]
      },
      {
       "output_type": "stream",
       "stream": "stdout",
       "text": [
        "\r",
        "Iteration 343; distance 0.126779631564"
       ]
      },
      {
       "output_type": "stream",
       "stream": "stdout",
       "text": [
        "\r",
        "Iteration 344; distance 0.121441040789"
       ]
      },
      {
       "output_type": "stream",
       "stream": "stdout",
       "text": [
        "\r",
        "Iteration 345; distance 0.116327253382"
       ]
      },
      {
       "output_type": "stream",
       "stream": "stdout",
       "text": [
        "\r",
        "Iteration 346; distance 0.111428803327"
       ]
      },
      {
       "output_type": "stream",
       "stream": "stdout",
       "text": [
        "\r",
        "Iteration 347; distance 0.106736621993"
       ]
      },
      {
       "output_type": "stream",
       "stream": "stdout",
       "text": [
        "\r",
        "Iteration 348; distance 0.102242024935"
       ]
      },
      {
       "output_type": "stream",
       "stream": "stdout",
       "text": [
        "\r",
        "Iteration 349; distance 0.0979366956267"
       ]
      },
      {
       "output_type": "stream",
       "stream": "stdout",
       "text": [
        "\n",
        "finished in 350 iterations\n"
       ]
      },
      {
       "metadata": {},
       "output_type": "pyout",
       "prompt_number": 11,
       "text": [
        "<matplotlib.text.Text at 0x7f114412f710>"
       ]
      }
     ],
     "prompt_number": 11
    },
    {
     "cell_type": "code",
     "collapsed": false,
     "input": [
      "## print probabilities from distanceMatrix\n",
      "np.set_printoptions(threshold=numpy.nan)\n",
      "probabilities = dist2prob(distMat, True)\n",
      "print probabilities.shape\n",
      "figure()\n",
      "imshow(probabilities, interpolation='nearest')"
     ],
     "language": "python",
     "metadata": {},
     "outputs": [
      {
       "output_type": "stream",
       "stream": "stdout",
       "text": [
        "sigma 30362.7082676\n",
        "(57, 57)\n"
       ]
      },
      {
       "metadata": {},
       "output_type": "pyout",
       "prompt_number": 12,
       "text": [
        "<matplotlib.image.AxesImage at 0x7f1143f9ef90>"
       ]
      }
     ],
     "prompt_number": 12
    },
    {
     "cell_type": "code",
     "collapsed": false,
     "input": [
      "## Find a sequence of frames based on final probabilities and show them\n",
      "\n",
      "totalFrames = 300\n",
      "finalFrames = np.zeros(totalFrames)\n",
      "\n",
      "currentFrame = np.ceil(np.random.rand()*(probabilities.shape[0]-1))\n",
      "# currentFrame = 29\n",
      "print 'starting at frame', currentFrame\n",
      "finalFrames[0] = currentFrame\n",
      "for i in range(1, totalFrames) :\n",
      "#     Max = np.max(probabilities[1:numFrames-1, currentFrame])\n",
      "#     currentFrame = np.int(np.where(probabilities[1:numFrames-1, currentFrame] == Max)[0])\n",
      "    currentFrame = randFrame(probabilities[currentFrame, :])\n",
      "    finalFrames[i] = currentFrame\n",
      "    print 'frame', i, 'of', totalFrames, 'taken from frame', currentFrame\n",
      "\n",
      "\n",
      "## prob matrix is shrunk so row indices don't match frame numbers anymore unless corrected\n",
      "correction = numFilterFrames+1\n",
      "finalFrames = finalFrames+correction"
     ],
     "language": "python",
     "metadata": {},
     "outputs": [
      {
       "output_type": "stream",
       "stream": "stdout",
       "text": [
        "starting at frame 7.0\n",
        "frame 1 of 300 taken from frame 8\n",
        "frame 2 of 300 taken from frame 9\n",
        "frame 3 of 300 taken from frame 10\n",
        "frame 4 of 300 taken from frame 11\n",
        "frame 5 of 300 taken from frame 12\n",
        "frame 6 of 300 taken from frame 13\n",
        "frame 7 of 300 taken from frame 14\n",
        "frame 8 of 300 taken from frame 15\n",
        "frame 9 of 300 taken from frame 16\n",
        "frame 10 of 300 taken from frame 17\n",
        "frame 11 of 300 taken from frame 18\n",
        "frame 12 of 300 taken from frame 19\n",
        "frame 13 of 300 taken from frame 20\n",
        "frame 14 of 300 taken from frame 21\n",
        "frame 15 of 300 taken from frame 22\n",
        "frame 16 of 300 taken from frame 23\n",
        "frame 17 of 300 taken from frame 24\n",
        "frame 18 of 300 taken from frame 25\n",
        "frame 19 of 300 taken from frame 26\n",
        "frame 20 of 300 taken from frame 27\n",
        "frame 21 of 300 taken from frame 28\n",
        "frame 22 of 300 taken from frame 29\n",
        "frame 23 of 300 taken from frame 30\n",
        "frame 24 of 300 taken from frame 31\n",
        "frame 25 of 300 taken from frame 32\n",
        "frame 26 of 300 taken from frame 33\n",
        "frame 27 of 300 taken from frame 34\n",
        "frame 28 of 300 taken from frame 35\n",
        "frame 29 of 300 taken from frame 36\n",
        "frame 30 of 300 taken from frame 37\n",
        "frame 31 of 300 taken from frame 38\n",
        "frame 32 of 300 taken from frame 39\n",
        "frame 33 of 300 taken from frame 40\n",
        "frame 34 of 300 taken from frame 41\n",
        "frame 35 of 300 taken from frame 42\n",
        "frame 36 of 300 taken from frame 43\n",
        "frame 37 of 300 taken from frame 1\n",
        "frame 38 of 300 taken from frame 2\n",
        "frame 39 of 300 taken from frame 3\n",
        "frame 40 of 300 taken from frame 4\n",
        "frame 41 of 300 taken from frame 5\n",
        "frame 42 of 300 taken from frame 6\n",
        "frame 43 of 300 taken from frame 7\n",
        "frame 44 of 300 taken from frame 8\n",
        "frame 45 of 300 taken from frame 9\n",
        "frame 46 of 300 taken from frame 10\n",
        "frame 47 of 300 taken from frame 11\n",
        "frame 48 of 300 taken from frame 12\n",
        "frame 49 of 300 taken from frame 13\n",
        "frame 50 of 300 taken from frame 14\n",
        "frame 51 of 300 taken from frame 15\n",
        "frame 52 of 300 taken from frame 16\n",
        "frame 53 of 300 taken from frame 17\n",
        "frame 54 of 300 taken from frame 18\n",
        "frame 55 of 300 taken from frame 19\n",
        "frame 56 of 300 taken from frame 20\n",
        "frame 57 of 300 taken from frame 21\n",
        "frame 58 of 300 taken from frame 22\n",
        "frame 59 of 300 taken from frame 23\n",
        "frame 60 of 300 taken from frame 24\n",
        "frame 61 of 300 taken from frame 25\n",
        "frame 62 of 300 taken from frame 26\n",
        "frame 63 of 300 taken from frame 27\n",
        "frame 64 of 300 taken from frame 28\n",
        "frame 65 of 300 taken from frame 29\n",
        "frame 66 of 300 taken from frame 30\n",
        "frame 67 of 300 taken from frame 31\n",
        "frame 68 of 300 taken from frame 32\n",
        "frame 69 of 300 taken from frame 33\n",
        "frame 70 of 300 taken from frame 34\n",
        "frame 71 of 300 taken from frame 35\n",
        "frame 72 of 300 taken from frame 36\n",
        "frame 73 of 300 taken from frame 37\n",
        "frame 74 of 300 taken from frame 38\n",
        "frame 75 of 300 taken from frame 39\n",
        "frame 76 of 300 taken from frame 40\n",
        "frame 77 of 300 taken from frame 41\n",
        "frame 78 of 300 taken from frame 42\n",
        "frame 79 of 300 taken from frame 43\n",
        "frame 80 of 300 taken from frame 1\n",
        "frame 81 of 300 taken from frame 2\n",
        "frame 82 of 300 taken from frame 3\n",
        "frame 83 of 300 taken from frame 4\n",
        "frame 84 of 300 taken from frame 5\n",
        "frame 85 of 300 taken from frame 6\n",
        "frame 86 of 300 taken from frame 7\n",
        "frame 87 of 300 taken from frame 8\n",
        "frame 88 of 300 taken from frame 9\n",
        "frame 89 of 300 taken from frame 10\n",
        "frame 90 of 300 taken from frame 11\n",
        "frame 91 of 300 taken from frame 12\n",
        "frame 92 of 300 taken from frame 13\n",
        "frame 93 of 300 taken from frame 14\n",
        "frame 94 of 300 taken from frame 15\n",
        "frame 95 of 300 taken from frame 16\n",
        "frame 96 of 300 taken from frame 17\n",
        "frame 97 of 300 taken from frame 18\n",
        "frame 98 of 300 taken from frame 19\n",
        "frame 99 of 300 taken from frame 20\n",
        "frame 100 of 300 taken from frame 21\n",
        "frame 101 of 300 taken from frame 22\n",
        "frame 102 of 300 taken from frame 23\n",
        "frame 103 of 300 taken from frame 24\n",
        "frame 104 of 300 taken from frame 25\n",
        "frame 105 of 300 taken from frame 26\n",
        "frame 106 of 300 taken from frame 27\n",
        "frame 107 of 300 taken from frame 28\n",
        "frame 108 of 300 taken from frame 29\n",
        "frame 109 of 300 taken from frame 30\n",
        "frame 110 of 300 taken from frame 31\n",
        "frame 111 of 300 taken from frame 32\n",
        "frame 112 of 300 taken from frame 33\n",
        "frame 113 of 300 taken from frame 34\n",
        "frame 114 of 300 taken from frame 35\n",
        "frame 115 of 300 taken from frame 36\n",
        "frame 116 of 300 taken from frame 37\n",
        "frame 117 of 300 taken from frame 38\n",
        "frame 118 of 300 taken from frame 39\n",
        "frame 119 of 300 taken from frame 40\n",
        "frame 120 of 300 taken from frame 41\n",
        "frame 121 of 300 taken from frame 42\n",
        "frame 122 of 300 taken from frame 43\n",
        "frame 123 of 300 taken from frame 1\n",
        "frame 124 of 300 taken from frame 2\n",
        "frame 125 of 300 taken from frame 3\n",
        "frame 126 of 300 taken from frame 4\n",
        "frame 127 of 300 taken from frame 5\n",
        "frame 128 of 300 taken from frame 6\n",
        "frame 129 of 300 taken from frame 7\n",
        "frame 130 of 300 taken from frame 8\n",
        "frame 131 of 300 taken from frame 9\n",
        "frame 132 of 300 taken from frame 10\n",
        "frame 133 of 300 taken from frame 11\n",
        "frame 134 of 300 taken from frame 12\n",
        "frame 135 of 300 taken from frame 13\n",
        "frame 136 of 300 taken from frame 14\n",
        "frame 137 of 300 taken from frame 15\n",
        "frame 138 of 300 taken from frame 16\n",
        "frame 139 of 300 taken from frame 17\n",
        "frame 140 of 300 taken from frame 18\n",
        "frame 141 of 300 taken from frame 19\n",
        "frame 142 of 300 taken from frame 20\n",
        "frame 143 of 300 taken from frame 21\n",
        "frame 144 of 300 taken from frame 22\n",
        "frame 145 of 300 taken from frame 23\n",
        "frame 146 of 300 taken from frame 24\n",
        "frame 147 of 300 taken from frame 25\n",
        "frame 148 of 300 taken from frame 26\n",
        "frame 149 of 300 taken from frame 27\n",
        "frame 150 of 300 taken from frame 28\n",
        "frame 151 of 300 taken from frame 29\n",
        "frame 152 of 300 taken from frame 30\n",
        "frame 153 of 300 taken from frame 31\n",
        "frame 154 of 300 taken from frame 32\n",
        "frame 155 of 300 taken from frame 33\n",
        "frame 156 of 300 taken from frame 34\n",
        "frame 157 of 300 taken from frame 35\n",
        "frame 158 of 300 taken from frame 36\n",
        "frame 159 of 300 taken from frame 37\n",
        "frame 160 of 300 taken from frame 38\n",
        "frame 161 of 300 taken from frame 39\n",
        "frame 162 of 300 taken from frame 40\n",
        "frame 163 of 300 taken from frame 41\n",
        "frame 164 of 300 taken from frame 42\n",
        "frame 165 of 300 taken from frame 43\n",
        "frame 166 of 300 taken from frame 1\n",
        "frame 167 of 300 taken from frame 2\n",
        "frame 168 of 300 taken from frame 3\n",
        "frame 169 of 300 taken from frame 4\n",
        "frame 170 of 300 taken from frame 5\n",
        "frame 171 of 300 taken from frame 6\n",
        "frame 172 of 300 taken from frame 7\n",
        "frame 173 of 300 taken from frame 8\n",
        "frame 174 of 300 taken from frame 9\n",
        "frame 175 of 300 taken from frame 10\n",
        "frame 176 of 300 taken from frame 11\n",
        "frame 177 of 300 taken from frame 12\n",
        "frame 178 of 300 taken from frame 13\n",
        "frame 179 of 300 taken from frame 14\n",
        "frame 180 of 300 taken from frame 15\n",
        "frame 181 of 300 taken from frame 16\n",
        "frame 182 of 300 taken from frame 17\n",
        "frame 183 of 300 taken from frame 18\n",
        "frame 184 of 300 taken from frame 19\n",
        "frame 185 of 300 taken from frame 20\n",
        "frame 186 of 300 taken from frame 21\n",
        "frame 187 of 300 taken from frame 22\n",
        "frame 188 of 300 taken from frame 23\n",
        "frame 189 of 300 taken from frame 24\n",
        "frame 190 of 300 taken from frame 25\n",
        "frame 191 of 300 taken from frame 26\n",
        "frame 192 of 300 taken from frame 27\n",
        "frame 193 of 300 taken from frame 28\n",
        "frame 194 of 300 taken from frame 29\n",
        "frame 195 of 300 taken from frame 30\n",
        "frame 196 of 300 taken from frame 31\n",
        "frame 197 of 300 taken from frame 32\n",
        "frame 198 of 300 taken from frame 33\n",
        "frame 199 of 300 taken from frame 34\n",
        "frame 200 of 300 taken from frame 35\n",
        "frame 201 of 300 taken from frame 36\n",
        "frame 202 of 300 taken from frame 37\n",
        "frame 203 of 300 taken from frame 38\n",
        "frame 204 of 300 taken from frame 39\n",
        "frame 205 of 300 taken from frame 40\n",
        "frame 206 of 300 taken from frame 41\n",
        "frame 207 of 300 taken from frame 42\n",
        "frame 208 of 300 taken from frame 43\n",
        "frame 209 of 300 taken from frame 1\n",
        "frame 210 of 300 taken from frame 2\n",
        "frame 211 of 300 taken from frame 3\n",
        "frame 212 of 300 taken from frame 4\n",
        "frame 213 of 300 taken from frame 5\n",
        "frame 214 of 300 taken from frame 6\n",
        "frame 215 of 300 taken from frame 7\n",
        "frame 216 of 300 taken from frame 8\n",
        "frame 217 of 300 taken from frame 9\n",
        "frame 218 of 300 taken from frame 10\n",
        "frame 219 of 300 taken from frame 11\n",
        "frame 220 of 300 taken from frame 12\n",
        "frame 221 of 300 taken from frame 13\n",
        "frame 222 of 300 taken from frame 14\n",
        "frame 223 of 300 taken from frame 15\n",
        "frame 224 of 300 taken from frame 16\n",
        "frame 225 of 300 taken from frame 17\n",
        "frame 226 of 300 taken from frame 18\n",
        "frame 227 of 300 taken from frame 19\n",
        "frame 228 of 300 taken from frame 20\n",
        "frame 229 of 300 taken from frame 21\n",
        "frame 230 of 300 taken from frame 22\n",
        "frame 231 of 300 taken from frame 23\n",
        "frame 232 of 300 taken from frame 24\n",
        "frame 233 of 300 taken from frame 25\n",
        "frame 234 of 300 taken from frame 26\n",
        "frame 235 of 300 taken from frame 27\n",
        "frame 236 of 300 taken from frame 28\n",
        "frame 237 of 300 taken from frame 29\n",
        "frame 238 of 300 taken from frame 30\n",
        "frame 239 of 300 taken from frame 31\n",
        "frame 240 of 300 taken from frame 32\n",
        "frame 241 of 300 taken from frame 33\n",
        "frame 242 of 300 taken from frame 34\n",
        "frame 243 of 300 taken from frame 35\n",
        "frame 244 of 300 taken from frame 36\n",
        "frame 245 of 300 taken from frame 37\n",
        "frame 246 of 300 taken from frame 38\n",
        "frame 247 of 300 taken from frame 39\n",
        "frame 248 of 300 taken from frame 40\n",
        "frame 249 of 300 taken from frame 41\n",
        "frame 250 of 300 taken from frame 42\n",
        "frame 251 of 300 taken from frame 43\n",
        "frame 252 of 300 taken from frame 1\n",
        "frame 253 of 300 taken from frame 2\n",
        "frame 254 of 300 taken from frame 3\n",
        "frame 255 of 300 taken from frame 4\n",
        "frame 256 of 300 taken from frame 5\n",
        "frame 257 of 300 taken from frame 6\n",
        "frame 258 of 300 taken from frame 7\n",
        "frame 259 of 300 taken from frame 8\n",
        "frame 260 of 300 taken from frame 9\n",
        "frame 261 of 300 taken from frame 10\n",
        "frame 262 of 300 taken from frame 11\n",
        "frame 263 of 300 taken from frame 12\n",
        "frame 264 of 300 taken from frame 13\n",
        "frame 265 of 300 taken from frame 14\n",
        "frame 266 of 300 taken from frame 15\n",
        "frame 267 of 300 taken from frame 16\n",
        "frame 268 of 300 taken from frame 17\n",
        "frame 269 of 300 taken from frame 18\n",
        "frame 270 of 300 taken from frame 19\n",
        "frame 271 of 300 taken from frame 20\n",
        "frame 272 of 300 taken from frame 21\n",
        "frame 273 of 300 taken from frame 22\n",
        "frame 274 of 300 taken from frame 23\n",
        "frame 275 of 300 taken from frame 24\n",
        "frame 276 of 300 taken from frame 25\n",
        "frame 277 of 300 taken from frame 26\n",
        "frame 278 of 300 taken from frame 27\n",
        "frame 279 of 300 taken from frame 28\n",
        "frame 280 of 300 taken from frame 29\n",
        "frame 281 of 300 taken from frame 30\n",
        "frame 282 of 300 taken from frame 31\n",
        "frame 283 of 300 taken from frame 32\n",
        "frame 284 of 300 taken from frame 33\n",
        "frame 285 of 300 taken from frame 34\n",
        "frame 286 of 300 taken from frame 35\n",
        "frame 287 of 300 taken from frame 36\n",
        "frame 288 of 300 taken from frame 37\n",
        "frame 289 of 300 taken from frame 38\n",
        "frame 290 of 300 taken from frame 39\n",
        "frame 291 of 300 taken from frame 40\n",
        "frame 292 of 300 taken from frame 41\n",
        "frame 293 of 300 taken from frame 42\n",
        "frame 294 of 300 taken from frame 43\n",
        "frame 295 of 300 taken from frame 1\n",
        "frame 296 of 300 taken from frame 2\n",
        "frame 297 of 300 taken from frame 3\n",
        "frame 298 of 300 taken from frame 4\n",
        "frame 299 of 300 taken from frame 5\n"
       ]
      }
     ],
     "prompt_number": 13
    },
    {
     "cell_type": "code",
     "collapsed": false,
     "input": [
      "frames = finalFrames\n",
      "## visualize frames automatically\n",
      "\n",
      "def _blit_draw(self, artists, bg_cache):\n",
      "    # Handles blitted drawing, which renders only the artists given instead\n",
      "    # of the entire figure.\n",
      "    updated_ax = []\n",
      "    for a in artists:\n",
      "        # If we haven't cached the background for this axes object, do\n",
      "        # so now. This might not always be reliable, but it's an attempt\n",
      "        # to automate the process.\n",
      "        if a.axes not in bg_cache:\n",
      "            # bg_cache[a.axes] = a.figure.canvas.copy_from_bbox(a.axes.bbox)\n",
      "            # change here\n",
      "            bg_cache[a.axes] = a.figure.canvas.copy_from_bbox(a.axes.figure.bbox)\n",
      "        a.axes.draw_artist(a)\n",
      "        updated_ax.append(a.axes)\n",
      "\n",
      "    # After rendering all the needed artists, blit each axes individually.\n",
      "    for ax in set(updated_ax):\n",
      "        # and here\n",
      "        # ax.figure.canvas.blit(ax.bbox)\n",
      "        ax.figure.canvas.blit(ax.figure.bbox)\n",
      "\n",
      "# MONKEY PATCH!!\n",
      "matplotlib.animation.Animation._blit_draw = _blit_draw\n",
      "\n",
      "fig=plt.figure()\n",
      "img = plt.imshow(np.array(movie[:, :, :, frames[0]], dtype=uint8))\n",
      "img.set_cmap(cm.Greys_r)\n",
      "img.axes.set_axis_off()\n",
      "ax = plt.axes()\n",
      "ttl = ax.text(.5, 1.05, '', transform = ax.transAxes, va='center')\n",
      "\n",
      "def init():\n",
      "    ttl.set_text('')\n",
      "    img.set_data(np.array(movie[:, :, :, frames[0]], dtype=uint8))\n",
      "    return img, ttl\n",
      "\n",
      "def func(f):\n",
      "    ttl.set_text('Frame ' + str(f) + ' taken from ' + str(frames[f]))\n",
      "    img.set_data(np.array(movie[:, :, :, frames[f]], dtype=uint8))\n",
      "    return img, ttl\n",
      "\n",
      "ani = animation.FuncAnimation(fig,func,init_func=init,frames=len(frames),interval=24,blit=True)\n",
      "\n",
      "writer = animation.writers['ffmpeg'](fps=24)\n",
      "ani.save('demo.mp4',writer=writer,dpi=100)\n",
      "\n",
      "plt.show()"
     ],
     "language": "python",
     "metadata": {},
     "outputs": [
      {
       "output_type": "stream",
       "stream": "stderr",
       "text": [
        "Exception in Tkinter callback\n",
        "Traceback (most recent call last):\n",
        "  File \"/usr/lib/python2.7/lib-tk/Tkinter.py\", line 1489, in __call__\n",
        "    return self.func(*args)\n",
        "  File \"/usr/lib/python2.7/lib-tk/Tkinter.py\", line 536, in callit\n",
        "    func(*args)\n",
        "  File \"/usr/lib/pymodules/python2.7/matplotlib/backends/backend_tkagg.py\", line 141, in _on_timer\n",
        "    TimerBase._on_timer(self)\n",
        "  File \"/usr/lib/pymodules/python2.7/matplotlib/backend_bases.py\", line 1203, in _on_timer\n",
        "    ret = func(*args, **kwargs)\n",
        "  File \"/usr/lib/pymodules/python2.7/matplotlib/animation.py\", line 876, in _step\n",
        "    still_going = Animation._step(self, *args)\n",
        "  File \"/usr/lib/pymodules/python2.7/matplotlib/animation.py\", line 735, in _step\n",
        "    self._draw_next_frame(framedata, self._blit)\n",
        "  File \"/usr/lib/pymodules/python2.7/matplotlib/animation.py\", line 753, in _draw_next_frame\n",
        "    self._pre_draw(framedata, blit)\n",
        "  File \"/usr/lib/pymodules/python2.7/matplotlib/animation.py\", line 766, in _pre_draw\n",
        "    self._blit_clear(self._drawn_artists, self._blit_cache)\n",
        "  File \"/usr/lib/pymodules/python2.7/matplotlib/animation.py\", line 806, in _blit_clear\n",
        "    a.figure.canvas.restore_region(bg_cache[a])\n",
        "KeyError: <matplotlib.axes.AxesSubplot object at 0x7f11448a3d50>\n"
       ]
      }
     ],
     "prompt_number": 16
    },
    {
     "cell_type": "code",
     "collapsed": false,
     "input": [
      "print distanceMatrix.shape, distanceMatrixFilt.shape, distMatFilt.shape, distMat.shape"
     ],
     "language": "python",
     "metadata": {},
     "outputs": [
      {
       "output_type": "stream",
       "stream": "stdout",
       "text": [
        "(66, 66) (58, 58) (57, 57) (57, 57)\n"
       ]
      }
     ],
     "prompt_number": 164
    },
    {
     "cell_type": "code",
     "collapsed": false,
     "input": [
      "# equalize frames in movie for visualization purposes\n",
      "eqMovie = np.zeros_like(movie)\n",
      "for i in xrange(0, eqMovie.shape[2]) :\n",
      "    eqMovie[:, :, i] = np.array(histEq(movie[:, :, i]), dtype=float)/255.0\n"
     ],
     "language": "python",
     "metadata": {},
     "outputs": [],
     "prompt_number": 144
    }
   ],
   "metadata": {}
  }
 ]
}