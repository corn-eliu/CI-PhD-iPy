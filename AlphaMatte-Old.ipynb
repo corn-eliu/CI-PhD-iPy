{
 "metadata": {
  "name": ""
 },
 "nbformat": 3,
 "nbformat_minor": 0,
 "worksheets": [
  {
   "cells": [
    {
     "cell_type": "code",
     "collapsed": false,
     "input": [
      "%pylab\n",
      "import numpy as np\n",
      "from sklearn import tree\n",
      "from sklearn import ensemble\n",
      "from sklearn import semi_supervised\n",
      "from skimage.io import imread\n",
      "# from skimage.io import imsave\n",
      "from glob import glob\n",
      "from PIL import Image\n",
      "import cv2\n",
      "import re"
     ],
     "language": "python",
     "metadata": {},
     "outputs": [
      {
       "output_type": "stream",
       "stream": "stdout",
       "text": [
        "Using matplotlib backend: TkAgg\n",
        "Populating the interactive namespace from numpy and matplotlib\n"
       ]
      }
     ],
     "prompt_number": 2
    },
    {
     "cell_type": "code",
     "collapsed": false,
     "input": [
      "def trainClassifier3(data_frames, trimaps) :\n",
      "    # train on first frame\n",
      "    # augment with x-y positional data\n",
      "    clf = ensemble.ExtraTreesClassifier()\n",
      "    \n",
      "    print len(data_frames), len(trimaps)\n",
      "    \n",
      "    idxs = np.indices(data_frames[0].shape[:2]).swapaxes(-1, 0).swapaxes(0, 1)\n",
      "    data = np.concatenate((data_frames[0], idxs), axis=-1)\n",
      "\n",
      "    # extract training data\n",
      "    background = data[trimaps[0] == 0]\n",
      "    foreground = data[trimaps[0] == 255]\n",
      "    midground = data[trimaps[0] == 64]\n",
      "    \n",
      "    for data_frame, trimap in zip(data_frames[1:], trimaps[1:]) :\n",
      "        print background.shape, foreground.shape, midground.shape\n",
      "        \n",
      "        idxs = np.indices(data_frame.shape[:2]).swapaxes(-1, 0).swapaxes(0, 1)\n",
      "        data = np.concatenate((data_frame, idxs), axis=-1)\n",
      "    \n",
      "        # extract training data\n",
      "        background = np.vstack((background, data[trimap == 0]))\n",
      "        foreground = np.vstack((foreground, data[trimap == 255]))\n",
      "        midground = np.vstack((midground, data[trimap == 64]))\n",
      "        \n",
      "    print background.shape, foreground.shape, midground.shape\n",
      "    \n",
      "    X = np.vstack((background, midground, foreground))\n",
      "    y = np.repeat([0.0, 1.0, 2.0], [background.shape[0], midground.shape[0], foreground.shape[0]])\n",
      "    print clf.fit(X, y)\n",
      "    return clf"
     ],
     "language": "python",
     "metadata": {},
     "outputs": [],
     "prompt_number": 2
    },
    {
     "cell_type": "code",
     "collapsed": false,
     "input": [
      "def trainClassifier2(data_frames, trimaps) :\n",
      "    # train on first frame\n",
      "    # augment with x-y positional data\n",
      "    clf = ensemble.ExtraTreesClassifier()\n",
      "    \n",
      "    print len(data_frames), len(trimaps)\n",
      "    \n",
      "    idxs = np.indices(data_frames[0].shape[:2]).swapaxes(-1, 0).swapaxes(0, 1)\n",
      "    data = np.concatenate((data_frames[0], idxs), axis=-1)\n",
      "\n",
      "    # extract training data\n",
      "    background = data[trimaps[0] == 0]\n",
      "    foreground = data[trimaps[0] == 255]\n",
      "    \n",
      "    for data_frame, trimap in zip(data_frames[1:], trimaps[1:]) :\n",
      "        print background.shape, foreground.shape\n",
      "        \n",
      "        idxs = np.indices(data_frame.shape[:2]).swapaxes(-1, 0).swapaxes(0, 1)\n",
      "        data = np.concatenate((data_frame, idxs), axis=-1)\n",
      "    \n",
      "        # extract training data\n",
      "        background = np.vstack((background, data[trimap == 0]))\n",
      "        foreground = np.vstack((foreground, data[trimap == 255]))\n",
      "        \n",
      "    print background.shape, foreground.shape\n",
      "    \n",
      "    X = np.vstack((background, foreground))\n",
      "    y = np.repeat([0.0, 1.0], [background.shape[0], foreground.shape[0]])\n",
      "    print clf.fit(X, y)\n",
      "    return clf"
     ],
     "language": "python",
     "metadata": {},
     "outputs": [],
     "prompt_number": 15
    },
    {
     "cell_type": "code",
     "collapsed": false,
     "input": [
      "def matteImages(clf, filenames, newBg) :\n",
      "    image = imread(filenames[0])\n",
      "    idxs = np.indices(image.shape[:2]).swapaxes(-1, 0).swapaxes(0, 1)\n",
      "    for filename in filenames:\n",
      "        image = imread(filename)\n",
      "        data = np.concatenate((image, idxs), axis=-1)\n",
      "        probabilities = classifier.predict_proba(data.reshape((-1, 5)))\n",
      "        ## old way\n",
      "#         alphaMatte = alphaMatte[:, 2].reshape(image.shape[:2])\n",
      "#         filtAlphaMatte = cv2.bilateralFilter(np.array(alphaMatte*255, dtype=float32), 15, 128, 128)/255\n",
      "        ##\n",
      "        ## new way\n",
      "        alphaMatte = probabilities[:, 2]\n",
      "        alphaMatte[probabilities[:, 0]>0.5] = 0\n",
      "        alphaMatte[probabilities[:, 1]>0.5] = 0\n",
      "        filtAlphaMatte = cv2.GaussianBlur(np.array(alphaMatte*255, dtype=float32), (5, 5), 2.5)/255\n",
      "        ##\n",
      "        \n",
      "        filtAlphaMatte = np.repeat(np.reshape(filtAlphaMatte, np.hstack((image.shape[0:2], 1))), image.shape[-1], axis=-1)\n",
      "        \n",
      "        if newBg != None :\n",
      "            newImg = (newBg/255.0)*(1-filtAlphaMatte)+(image/255.0)*filtAlphaMatte\n",
      "        else :\n",
      "            newImg = (image/255.0)*filtAlphaMatte\n",
      "            \n",
      "#         figure(); imshow(newImg, interpolation='nearest')\n",
      "\n",
      "        sys.stdout.write('\\r' + \"Processing \" + np.string_(filter(None, re.split('/',filename))[-1]))\n",
      "        sys.stdout.flush()\n",
      "        imsave(np.string_('/'.join(filter(None, re.split('/',filename))[0:-1]) + \"/matte-\" + filter(None, re.split('/',filename))[-1]), filtAlphaMatte)\n",
      "        imsave(filename, newImg)"
     ],
     "language": "python",
     "metadata": {},
     "outputs": [],
     "prompt_number": 3
    },
    {
     "cell_type": "code",
     "collapsed": false,
     "input": [
      "testImg = imread(\"../data/ribbon2/frame-00838.png\")\n",
      "testMap = imread(\"../data/ribbon2/frame-00838-trimap.png\")\n",
      "print testImg.shape, testMap.shape"
     ],
     "language": "python",
     "metadata": {},
     "outputs": [
      {
       "output_type": "stream",
       "stream": "stdout",
       "text": [
        "(720, 1280, 3) (720, 1280)\n"
       ]
      }
     ],
     "prompt_number": 186
    },
    {
     "cell_type": "code",
     "collapsed": false,
     "input": [
      "print '/'.join(filter(None, re.split('[/]',\"/data/ribbon2/frame-00838.png\"))[0:-1])"
     ],
     "language": "python",
     "metadata": {},
     "outputs": [
      {
       "output_type": "stream",
       "stream": "stdout",
       "text": [
        "data/ribbon2\n"
       ]
      }
     ],
     "prompt_number": 217
    },
    {
     "cell_type": "code",
     "collapsed": false,
     "input": [
      "# classifier = trainClassifier(imread(\"../data/ribbon1/frame-00001.png\"), imread(\"../data/ribbon1/trimap2.png\"))\n",
      "classifier = trainClassifier2([imread(\"../data/ribbon2/frame-00001.png\"), imread(\"../data/ribbon2/frame-00285.png\"), imread(\"../data/ribbon2/frame-00838.png\")], \n",
      "                            [imread(\"../data/ribbon2/frame-00001-trimap.png\"), imread(\"../data/ribbon2/frame-00285-trimap.png\"), imread(\"../data/ribbon2/frame-00838-trimap.png\")])"
     ],
     "language": "python",
     "metadata": {},
     "outputs": [
      {
       "output_type": "stream",
       "stream": "stdout",
       "text": [
        "3 3\n",
        "(903697, 5)"
       ]
      },
      {
       "output_type": "stream",
       "stream": "stdout",
       "text": [
        " (8401, 5)\n",
        "(1787320, 5)"
       ]
      },
      {
       "output_type": "stream",
       "stream": "stdout",
       "text": [
        " (27227, 5)\n",
        "(1787320, 5)"
       ]
      },
      {
       "output_type": "stream",
       "stream": "stdout",
       "text": [
        " (41680, 5)\n",
        "ExtraTreesClassifier(bootstrap=False, compute_importances=None,\n",
        "           criterion=gini, max_depth=None, max_features=auto,\n",
        "           min_density=None, min_samples_leaf=1, min_samples_split=2,\n",
        "           n_estimators=10, n_jobs=1, oob_score=False, random_state=None,\n",
        "           verbose=0)"
       ]
      },
      {
       "output_type": "stream",
       "stream": "stdout",
       "text": [
        "\n"
       ]
      }
     ],
     "prompt_number": 16
    },
    {
     "cell_type": "code",
     "collapsed": false,
     "input": [
      "files = sorted(glob(\"../data/ribbon2_matted/frame*.png\"))\n",
      "matteImages(classifier, files[2:], None)#imread(\"../data/ribbon1_newbg/bg.png\"))"
     ],
     "language": "python",
     "metadata": {},
     "outputs": [
      {
       "output_type": "stream",
       "stream": "stdout",
       "text": [
        "\r",
        "Processing frame-00003.png"
       ]
      },
      {
       "output_type": "stream",
       "stream": "stdout",
       "text": [
        "\r",
        "Processing frame-00004.png"
       ]
      },
      {
       "output_type": "stream",
       "stream": "stdout",
       "text": [
        "\r",
        "Processing frame-00005.png"
       ]
      },
      {
       "output_type": "stream",
       "stream": "stdout",
       "text": [
        "\r",
        "Processing frame-00006.png"
       ]
      },
      {
       "output_type": "stream",
       "stream": "stdout",
       "text": [
        "\r",
        "Processing frame-00007.png"
       ]
      },
      {
       "output_type": "stream",
       "stream": "stdout",
       "text": [
        "\r",
        "Processing frame-00008.png"
       ]
      },
      {
       "output_type": "stream",
       "stream": "stdout",
       "text": [
        "\r",
        "Processing frame-00009.png"
       ]
      },
      {
       "output_type": "stream",
       "stream": "stdout",
       "text": [
        "\r",
        "Processing frame-00010.png"
       ]
      },
      {
       "output_type": "stream",
       "stream": "stdout",
       "text": [
        "\r",
        "Processing frame-00011.png"
       ]
      },
      {
       "output_type": "stream",
       "stream": "stdout",
       "text": [
        "\r",
        "Processing frame-00012.png"
       ]
      },
      {
       "output_type": "stream",
       "stream": "stdout",
       "text": [
        "\r",
        "Processing frame-00013.png"
       ]
      },
      {
       "output_type": "stream",
       "stream": "stdout",
       "text": [
        "\r",
        "Processing frame-00014.png"
       ]
      },
      {
       "output_type": "stream",
       "stream": "stdout",
       "text": [
        "\r",
        "Processing frame-00015.png"
       ]
      },
      {
       "output_type": "stream",
       "stream": "stdout",
       "text": [
        "\r",
        "Processing frame-00016.png"
       ]
      },
      {
       "output_type": "stream",
       "stream": "stdout",
       "text": [
        "\r",
        "Processing frame-00017.png"
       ]
      },
      {
       "output_type": "stream",
       "stream": "stdout",
       "text": [
        "\r",
        "Processing frame-00018.png"
       ]
      },
      {
       "output_type": "stream",
       "stream": "stdout",
       "text": [
        "\r",
        "Processing frame-00019.png"
       ]
      },
      {
       "output_type": "stream",
       "stream": "stdout",
       "text": [
        "\r",
        "Processing frame-00020.png"
       ]
      },
      {
       "output_type": "stream",
       "stream": "stdout",
       "text": [
        "\r",
        "Processing frame-00021.png"
       ]
      },
      {
       "output_type": "stream",
       "stream": "stdout",
       "text": [
        "\r",
        "Processing frame-00022.png"
       ]
      },
      {
       "output_type": "stream",
       "stream": "stdout",
       "text": [
        "\r",
        "Processing frame-00023.png"
       ]
      },
      {
       "output_type": "stream",
       "stream": "stdout",
       "text": [
        "\r",
        "Processing frame-00024.png"
       ]
      },
      {
       "output_type": "stream",
       "stream": "stdout",
       "text": [
        "\r",
        "Processing frame-00025.png"
       ]
      },
      {
       "output_type": "stream",
       "stream": "stdout",
       "text": [
        "\r",
        "Processing frame-00026.png"
       ]
      },
      {
       "output_type": "stream",
       "stream": "stdout",
       "text": [
        "\r",
        "Processing frame-00027.png"
       ]
      },
      {
       "output_type": "stream",
       "stream": "stdout",
       "text": [
        "\r",
        "Processing frame-00028.png"
       ]
      },
      {
       "output_type": "stream",
       "stream": "stdout",
       "text": [
        "\r",
        "Processing frame-00029.png"
       ]
      },
      {
       "output_type": "stream",
       "stream": "stdout",
       "text": [
        "\r",
        "Processing frame-00030.png"
       ]
      },
      {
       "output_type": "stream",
       "stream": "stdout",
       "text": [
        "\r",
        "Processing frame-00031.png"
       ]
      },
      {
       "output_type": "stream",
       "stream": "stdout",
       "text": [
        "\r",
        "Processing frame-00032.png"
       ]
      },
      {
       "output_type": "stream",
       "stream": "stdout",
       "text": [
        "\r",
        "Processing frame-00033.png"
       ]
      },
      {
       "output_type": "stream",
       "stream": "stdout",
       "text": [
        "\r",
        "Processing frame-00034.png"
       ]
      },
      {
       "output_type": "stream",
       "stream": "stdout",
       "text": [
        "\r",
        "Processing frame-00035.png"
       ]
      },
      {
       "output_type": "stream",
       "stream": "stdout",
       "text": [
        "\r",
        "Processing frame-00036.png"
       ]
      },
      {
       "output_type": "stream",
       "stream": "stdout",
       "text": [
        "\r",
        "Processing frame-00037.png"
       ]
      },
      {
       "output_type": "stream",
       "stream": "stdout",
       "text": [
        "\r",
        "Processing frame-00038.png"
       ]
      },
      {
       "output_type": "stream",
       "stream": "stdout",
       "text": [
        "\r",
        "Processing frame-00039.png"
       ]
      },
      {
       "output_type": "stream",
       "stream": "stdout",
       "text": [
        "\r",
        "Processing frame-00040.png"
       ]
      },
      {
       "output_type": "stream",
       "stream": "stdout",
       "text": [
        "\r",
        "Processing frame-00041.png"
       ]
      },
      {
       "output_type": "stream",
       "stream": "stdout",
       "text": [
        "\r",
        "Processing frame-00042.png"
       ]
      },
      {
       "output_type": "stream",
       "stream": "stdout",
       "text": [
        "\r",
        "Processing frame-00043.png"
       ]
      },
      {
       "output_type": "stream",
       "stream": "stdout",
       "text": [
        "\r",
        "Processing frame-00044.png"
       ]
      },
      {
       "output_type": "stream",
       "stream": "stdout",
       "text": [
        "\r",
        "Processing frame-00045.png"
       ]
      },
      {
       "output_type": "stream",
       "stream": "stdout",
       "text": [
        "\r",
        "Processing frame-00046.png"
       ]
      },
      {
       "output_type": "stream",
       "stream": "stdout",
       "text": [
        "\r",
        "Processing frame-00047.png"
       ]
      },
      {
       "output_type": "stream",
       "stream": "stdout",
       "text": [
        "\r",
        "Processing frame-00048.png"
       ]
      },
      {
       "output_type": "stream",
       "stream": "stdout",
       "text": [
        "\r",
        "Processing frame-00049.png"
       ]
      },
      {
       "output_type": "stream",
       "stream": "stdout",
       "text": [
        "\r",
        "Processing frame-00050.png"
       ]
      },
      {
       "output_type": "stream",
       "stream": "stdout",
       "text": [
        "\r",
        "Processing frame-00051.png"
       ]
      },
      {
       "output_type": "stream",
       "stream": "stdout",
       "text": [
        "\r",
        "Processing frame-00052.png"
       ]
      },
      {
       "output_type": "stream",
       "stream": "stdout",
       "text": [
        "\r",
        "Processing frame-00053.png"
       ]
      },
      {
       "output_type": "stream",
       "stream": "stdout",
       "text": [
        "\r",
        "Processing frame-00054.png"
       ]
      },
      {
       "output_type": "stream",
       "stream": "stdout",
       "text": [
        "\r",
        "Processing frame-00055.png"
       ]
      },
      {
       "output_type": "stream",
       "stream": "stdout",
       "text": [
        "\r",
        "Processing frame-00056.png"
       ]
      },
      {
       "output_type": "stream",
       "stream": "stdout",
       "text": [
        "\r",
        "Processing frame-00057.png"
       ]
      },
      {
       "output_type": "stream",
       "stream": "stdout",
       "text": [
        "\r",
        "Processing frame-00058.png"
       ]
      },
      {
       "output_type": "stream",
       "stream": "stdout",
       "text": [
        "\r",
        "Processing frame-00059.png"
       ]
      },
      {
       "output_type": "stream",
       "stream": "stdout",
       "text": [
        "\r",
        "Processing frame-00060.png"
       ]
      },
      {
       "output_type": "stream",
       "stream": "stdout",
       "text": [
        "\r",
        "Processing frame-00061.png"
       ]
      },
      {
       "output_type": "stream",
       "stream": "stdout",
       "text": [
        "\r",
        "Processing frame-00062.png"
       ]
      },
      {
       "output_type": "stream",
       "stream": "stdout",
       "text": [
        "\r",
        "Processing frame-00063.png"
       ]
      },
      {
       "output_type": "stream",
       "stream": "stdout",
       "text": [
        "\r",
        "Processing frame-00064.png"
       ]
      },
      {
       "output_type": "stream",
       "stream": "stdout",
       "text": [
        "\r",
        "Processing frame-00065.png"
       ]
      },
      {
       "output_type": "stream",
       "stream": "stdout",
       "text": [
        "\r",
        "Processing frame-00066.png"
       ]
      },
      {
       "output_type": "stream",
       "stream": "stdout",
       "text": [
        "\r",
        "Processing frame-00067.png"
       ]
      },
      {
       "output_type": "stream",
       "stream": "stdout",
       "text": [
        "\r",
        "Processing frame-00068.png"
       ]
      },
      {
       "output_type": "stream",
       "stream": "stdout",
       "text": [
        "\r",
        "Processing frame-00069.png"
       ]
      },
      {
       "output_type": "stream",
       "stream": "stdout",
       "text": [
        "\r",
        "Processing frame-00070.png"
       ]
      },
      {
       "output_type": "stream",
       "stream": "stdout",
       "text": [
        "\r",
        "Processing frame-00071.png"
       ]
      },
      {
       "output_type": "stream",
       "stream": "stdout",
       "text": [
        "\r",
        "Processing frame-00072.png"
       ]
      },
      {
       "output_type": "stream",
       "stream": "stdout",
       "text": [
        "\r",
        "Processing frame-00073.png"
       ]
      },
      {
       "output_type": "stream",
       "stream": "stdout",
       "text": [
        "\r",
        "Processing frame-00074.png"
       ]
      },
      {
       "output_type": "stream",
       "stream": "stdout",
       "text": [
        "\r",
        "Processing frame-00075.png"
       ]
      },
      {
       "output_type": "stream",
       "stream": "stdout",
       "text": [
        "\r",
        "Processing frame-00076.png"
       ]
      },
      {
       "output_type": "stream",
       "stream": "stdout",
       "text": [
        "\r",
        "Processing frame-00077.png"
       ]
      },
      {
       "output_type": "stream",
       "stream": "stdout",
       "text": [
        "\r",
        "Processing frame-00078.png"
       ]
      },
      {
       "output_type": "stream",
       "stream": "stdout",
       "text": [
        "\r",
        "Processing frame-00079.png"
       ]
      },
      {
       "output_type": "stream",
       "stream": "stdout",
       "text": [
        "\r",
        "Processing frame-00080.png"
       ]
      },
      {
       "output_type": "stream",
       "stream": "stdout",
       "text": [
        "\r",
        "Processing frame-00081.png"
       ]
      },
      {
       "output_type": "stream",
       "stream": "stdout",
       "text": [
        "\r",
        "Processing frame-00082.png"
       ]
      },
      {
       "output_type": "stream",
       "stream": "stdout",
       "text": [
        "\r",
        "Processing frame-00083.png"
       ]
      },
      {
       "output_type": "stream",
       "stream": "stdout",
       "text": [
        "\r",
        "Processing frame-00084.png"
       ]
      },
      {
       "output_type": "stream",
       "stream": "stdout",
       "text": [
        "\r",
        "Processing frame-00085.png"
       ]
      },
      {
       "output_type": "stream",
       "stream": "stdout",
       "text": [
        "\r",
        "Processing frame-00086.png"
       ]
      },
      {
       "output_type": "stream",
       "stream": "stdout",
       "text": [
        "\r",
        "Processing frame-00087.png"
       ]
      },
      {
       "output_type": "stream",
       "stream": "stdout",
       "text": [
        "\r",
        "Processing frame-00088.png"
       ]
      },
      {
       "output_type": "stream",
       "stream": "stdout",
       "text": [
        "\r",
        "Processing frame-00089.png"
       ]
      },
      {
       "output_type": "stream",
       "stream": "stdout",
       "text": [
        "\r",
        "Processing frame-00090.png"
       ]
      },
      {
       "output_type": "stream",
       "stream": "stdout",
       "text": [
        "\r",
        "Processing frame-00091.png"
       ]
      },
      {
       "output_type": "stream",
       "stream": "stdout",
       "text": [
        "\r",
        "Processing frame-00092.png"
       ]
      },
      {
       "output_type": "stream",
       "stream": "stdout",
       "text": [
        "\r",
        "Processing frame-00093.png"
       ]
      },
      {
       "output_type": "stream",
       "stream": "stdout",
       "text": [
        "\r",
        "Processing frame-00094.png"
       ]
      },
      {
       "output_type": "stream",
       "stream": "stdout",
       "text": [
        "\r",
        "Processing frame-00095.png"
       ]
      },
      {
       "output_type": "stream",
       "stream": "stdout",
       "text": [
        "\r",
        "Processing frame-00096.png"
       ]
      },
      {
       "output_type": "stream",
       "stream": "stdout",
       "text": [
        "\r",
        "Processing frame-00097.png"
       ]
      },
      {
       "output_type": "stream",
       "stream": "stdout",
       "text": [
        "\r",
        "Processing frame-00098.png"
       ]
      },
      {
       "output_type": "stream",
       "stream": "stdout",
       "text": [
        "\r",
        "Processing frame-00099.png"
       ]
      },
      {
       "output_type": "stream",
       "stream": "stdout",
       "text": [
        "\r",
        "Processing frame-00100.png"
       ]
      },
      {
       "output_type": "stream",
       "stream": "stdout",
       "text": [
        "\r",
        "Processing frame-00101.png"
       ]
      },
      {
       "output_type": "stream",
       "stream": "stdout",
       "text": [
        "\r",
        "Processing frame-00102.png"
       ]
      },
      {
       "output_type": "stream",
       "stream": "stdout",
       "text": [
        "\r",
        "Processing frame-00103.png"
       ]
      },
      {
       "output_type": "stream",
       "stream": "stdout",
       "text": [
        "\r",
        "Processing frame-00104.png"
       ]
      },
      {
       "output_type": "stream",
       "stream": "stdout",
       "text": [
        "\r",
        "Processing frame-00105.png"
       ]
      },
      {
       "output_type": "stream",
       "stream": "stdout",
       "text": [
        "\r",
        "Processing frame-00106.png"
       ]
      },
      {
       "output_type": "stream",
       "stream": "stdout",
       "text": [
        "\r",
        "Processing frame-00107.png"
       ]
      },
      {
       "output_type": "stream",
       "stream": "stdout",
       "text": [
        "\r",
        "Processing frame-00108.png"
       ]
      },
      {
       "output_type": "stream",
       "stream": "stdout",
       "text": [
        "\r",
        "Processing frame-00109.png"
       ]
      },
      {
       "output_type": "stream",
       "stream": "stdout",
       "text": [
        "\r",
        "Processing frame-00110.png"
       ]
      },
      {
       "output_type": "stream",
       "stream": "stdout",
       "text": [
        "\r",
        "Processing frame-00111.png"
       ]
      },
      {
       "output_type": "stream",
       "stream": "stdout",
       "text": [
        "\r",
        "Processing frame-00112.png"
       ]
      },
      {
       "output_type": "stream",
       "stream": "stdout",
       "text": [
        "\r",
        "Processing frame-00113.png"
       ]
      },
      {
       "output_type": "stream",
       "stream": "stdout",
       "text": [
        "\r",
        "Processing frame-00114.png"
       ]
      },
      {
       "output_type": "stream",
       "stream": "stdout",
       "text": [
        "\r",
        "Processing frame-00115.png"
       ]
      },
      {
       "output_type": "stream",
       "stream": "stdout",
       "text": [
        "\r",
        "Processing frame-00116.png"
       ]
      },
      {
       "output_type": "stream",
       "stream": "stdout",
       "text": [
        "\r",
        "Processing frame-00117.png"
       ]
      },
      {
       "output_type": "stream",
       "stream": "stdout",
       "text": [
        "\r",
        "Processing frame-00118.png"
       ]
      },
      {
       "output_type": "stream",
       "stream": "stdout",
       "text": [
        "\r",
        "Processing frame-00119.png"
       ]
      },
      {
       "output_type": "stream",
       "stream": "stdout",
       "text": [
        "\r",
        "Processing frame-00120.png"
       ]
      },
      {
       "output_type": "stream",
       "stream": "stdout",
       "text": [
        "\r",
        "Processing frame-00121.png"
       ]
      },
      {
       "output_type": "stream",
       "stream": "stdout",
       "text": [
        "\r",
        "Processing frame-00122.png"
       ]
      },
      {
       "output_type": "stream",
       "stream": "stdout",
       "text": [
        "\r",
        "Processing frame-00123.png"
       ]
      },
      {
       "output_type": "stream",
       "stream": "stdout",
       "text": [
        "\r",
        "Processing frame-00124.png"
       ]
      },
      {
       "output_type": "stream",
       "stream": "stdout",
       "text": [
        "\r",
        "Processing frame-00125.png"
       ]
      },
      {
       "output_type": "stream",
       "stream": "stdout",
       "text": [
        "\r",
        "Processing frame-00126.png"
       ]
      },
      {
       "output_type": "stream",
       "stream": "stdout",
       "text": [
        "\r",
        "Processing frame-00127.png"
       ]
      },
      {
       "output_type": "stream",
       "stream": "stdout",
       "text": [
        "\r",
        "Processing frame-00128.png"
       ]
      },
      {
       "output_type": "stream",
       "stream": "stdout",
       "text": [
        "\r",
        "Processing frame-00129.png"
       ]
      },
      {
       "output_type": "stream",
       "stream": "stdout",
       "text": [
        "\r",
        "Processing frame-00130.png"
       ]
      },
      {
       "output_type": "stream",
       "stream": "stdout",
       "text": [
        "\r",
        "Processing frame-00131.png"
       ]
      },
      {
       "output_type": "stream",
       "stream": "stdout",
       "text": [
        "\r",
        "Processing frame-00132.png"
       ]
      },
      {
       "output_type": "stream",
       "stream": "stdout",
       "text": [
        "\r",
        "Processing frame-00133.png"
       ]
      },
      {
       "output_type": "stream",
       "stream": "stdout",
       "text": [
        "\r",
        "Processing frame-00134.png"
       ]
      },
      {
       "output_type": "stream",
       "stream": "stdout",
       "text": [
        "\r",
        "Processing frame-00135.png"
       ]
      },
      {
       "output_type": "stream",
       "stream": "stdout",
       "text": [
        "\r",
        "Processing frame-00136.png"
       ]
      },
      {
       "output_type": "stream",
       "stream": "stdout",
       "text": [
        "\r",
        "Processing frame-00137.png"
       ]
      },
      {
       "output_type": "stream",
       "stream": "stdout",
       "text": [
        "\r",
        "Processing frame-00138.png"
       ]
      },
      {
       "output_type": "stream",
       "stream": "stdout",
       "text": [
        "\r",
        "Processing frame-00139.png"
       ]
      },
      {
       "output_type": "stream",
       "stream": "stdout",
       "text": [
        "\r",
        "Processing frame-00140.png"
       ]
      },
      {
       "output_type": "stream",
       "stream": "stdout",
       "text": [
        "\r",
        "Processing frame-00141.png"
       ]
      },
      {
       "output_type": "stream",
       "stream": "stdout",
       "text": [
        "\r",
        "Processing frame-00142.png"
       ]
      },
      {
       "output_type": "stream",
       "stream": "stdout",
       "text": [
        "\r",
        "Processing frame-00143.png"
       ]
      },
      {
       "output_type": "stream",
       "stream": "stdout",
       "text": [
        "\r",
        "Processing frame-00144.png"
       ]
      },
      {
       "output_type": "stream",
       "stream": "stdout",
       "text": [
        "\r",
        "Processing frame-00145.png"
       ]
      },
      {
       "output_type": "stream",
       "stream": "stdout",
       "text": [
        "\r",
        "Processing frame-00146.png"
       ]
      },
      {
       "output_type": "stream",
       "stream": "stdout",
       "text": [
        "\r",
        "Processing frame-00147.png"
       ]
      },
      {
       "output_type": "stream",
       "stream": "stdout",
       "text": [
        "\r",
        "Processing frame-00148.png"
       ]
      },
      {
       "output_type": "stream",
       "stream": "stdout",
       "text": [
        "\r",
        "Processing frame-00149.png"
       ]
      },
      {
       "output_type": "stream",
       "stream": "stdout",
       "text": [
        "\r",
        "Processing frame-00150.png"
       ]
      },
      {
       "output_type": "stream",
       "stream": "stdout",
       "text": [
        "\r",
        "Processing frame-00151.png"
       ]
      },
      {
       "output_type": "stream",
       "stream": "stdout",
       "text": [
        "\r",
        "Processing frame-00152.png"
       ]
      },
      {
       "output_type": "stream",
       "stream": "stdout",
       "text": [
        "\r",
        "Processing frame-00153.png"
       ]
      },
      {
       "output_type": "stream",
       "stream": "stdout",
       "text": [
        "\r",
        "Processing frame-00154.png"
       ]
      },
      {
       "output_type": "stream",
       "stream": "stdout",
       "text": [
        "\r",
        "Processing frame-00155.png"
       ]
      },
      {
       "output_type": "stream",
       "stream": "stdout",
       "text": [
        "\r",
        "Processing frame-00156.png"
       ]
      },
      {
       "output_type": "stream",
       "stream": "stdout",
       "text": [
        "\r",
        "Processing frame-00157.png"
       ]
      },
      {
       "output_type": "stream",
       "stream": "stdout",
       "text": [
        "\r",
        "Processing frame-00158.png"
       ]
      },
      {
       "output_type": "stream",
       "stream": "stdout",
       "text": [
        "\r",
        "Processing frame-00159.png"
       ]
      },
      {
       "output_type": "stream",
       "stream": "stdout",
       "text": [
        "\r",
        "Processing frame-00160.png"
       ]
      },
      {
       "output_type": "stream",
       "stream": "stdout",
       "text": [
        "\r",
        "Processing frame-00161.png"
       ]
      },
      {
       "output_type": "stream",
       "stream": "stdout",
       "text": [
        "\r",
        "Processing frame-00162.png"
       ]
      },
      {
       "output_type": "stream",
       "stream": "stdout",
       "text": [
        "\r",
        "Processing frame-00163.png"
       ]
      },
      {
       "output_type": "stream",
       "stream": "stdout",
       "text": [
        "\r",
        "Processing frame-00164.png"
       ]
      },
      {
       "output_type": "stream",
       "stream": "stdout",
       "text": [
        "\r",
        "Processing frame-00165.png"
       ]
      },
      {
       "output_type": "stream",
       "stream": "stdout",
       "text": [
        "\r",
        "Processing frame-00166.png"
       ]
      },
      {
       "output_type": "stream",
       "stream": "stdout",
       "text": [
        "\r",
        "Processing frame-00167.png"
       ]
      },
      {
       "output_type": "stream",
       "stream": "stdout",
       "text": [
        "\r",
        "Processing frame-00168.png"
       ]
      },
      {
       "output_type": "stream",
       "stream": "stdout",
       "text": [
        "\r",
        "Processing frame-00169.png"
       ]
      },
      {
       "output_type": "stream",
       "stream": "stdout",
       "text": [
        "\r",
        "Processing frame-00170.png"
       ]
      },
      {
       "output_type": "stream",
       "stream": "stdout",
       "text": [
        "\r",
        "Processing frame-00171.png"
       ]
      },
      {
       "output_type": "stream",
       "stream": "stdout",
       "text": [
        "\r",
        "Processing frame-00172.png"
       ]
      },
      {
       "output_type": "stream",
       "stream": "stdout",
       "text": [
        "\r",
        "Processing frame-00173.png"
       ]
      },
      {
       "output_type": "stream",
       "stream": "stdout",
       "text": [
        "\r",
        "Processing frame-00174.png"
       ]
      },
      {
       "output_type": "stream",
       "stream": "stdout",
       "text": [
        "\r",
        "Processing frame-00175.png"
       ]
      },
      {
       "output_type": "stream",
       "stream": "stdout",
       "text": [
        "\r",
        "Processing frame-00176.png"
       ]
      },
      {
       "output_type": "stream",
       "stream": "stdout",
       "text": [
        "\r",
        "Processing frame-00177.png"
       ]
      },
      {
       "output_type": "stream",
       "stream": "stdout",
       "text": [
        "\r",
        "Processing frame-00178.png"
       ]
      },
      {
       "output_type": "stream",
       "stream": "stdout",
       "text": [
        "\r",
        "Processing frame-00179.png"
       ]
      },
      {
       "output_type": "stream",
       "stream": "stdout",
       "text": [
        "\r",
        "Processing frame-00180.png"
       ]
      },
      {
       "output_type": "stream",
       "stream": "stdout",
       "text": [
        "\r",
        "Processing frame-00181.png"
       ]
      },
      {
       "output_type": "stream",
       "stream": "stdout",
       "text": [
        "\r",
        "Processing frame-00182.png"
       ]
      },
      {
       "output_type": "stream",
       "stream": "stdout",
       "text": [
        "\r",
        "Processing frame-00183.png"
       ]
      },
      {
       "output_type": "stream",
       "stream": "stdout",
       "text": [
        "\r",
        "Processing frame-00184.png"
       ]
      },
      {
       "output_type": "stream",
       "stream": "stdout",
       "text": [
        "\r",
        "Processing frame-00185.png"
       ]
      },
      {
       "output_type": "stream",
       "stream": "stdout",
       "text": [
        "\r",
        "Processing frame-00186.png"
       ]
      },
      {
       "output_type": "stream",
       "stream": "stdout",
       "text": [
        "\r",
        "Processing frame-00187.png"
       ]
      },
      {
       "output_type": "stream",
       "stream": "stdout",
       "text": [
        "\r",
        "Processing frame-00188.png"
       ]
      },
      {
       "output_type": "stream",
       "stream": "stdout",
       "text": [
        "\r",
        "Processing frame-00189.png"
       ]
      },
      {
       "output_type": "stream",
       "stream": "stdout",
       "text": [
        "\r",
        "Processing frame-00190.png"
       ]
      },
      {
       "output_type": "stream",
       "stream": "stdout",
       "text": [
        "\r",
        "Processing frame-00191.png"
       ]
      },
      {
       "output_type": "stream",
       "stream": "stdout",
       "text": [
        "\r",
        "Processing frame-00192.png"
       ]
      },
      {
       "output_type": "stream",
       "stream": "stdout",
       "text": [
        "\r",
        "Processing frame-00193.png"
       ]
      },
      {
       "output_type": "stream",
       "stream": "stdout",
       "text": [
        "\r",
        "Processing frame-00194.png"
       ]
      },
      {
       "output_type": "stream",
       "stream": "stdout",
       "text": [
        "\r",
        "Processing frame-00195.png"
       ]
      },
      {
       "output_type": "stream",
       "stream": "stdout",
       "text": [
        "\r",
        "Processing frame-00196.png"
       ]
      },
      {
       "output_type": "stream",
       "stream": "stdout",
       "text": [
        "\r",
        "Processing frame-00197.png"
       ]
      },
      {
       "output_type": "stream",
       "stream": "stdout",
       "text": [
        "\r",
        "Processing frame-00198.png"
       ]
      },
      {
       "output_type": "stream",
       "stream": "stdout",
       "text": [
        "\r",
        "Processing frame-00199.png"
       ]
      },
      {
       "output_type": "stream",
       "stream": "stdout",
       "text": [
        "\r",
        "Processing frame-00200.png"
       ]
      },
      {
       "output_type": "stream",
       "stream": "stdout",
       "text": [
        "\r",
        "Processing frame-00201.png"
       ]
      },
      {
       "output_type": "stream",
       "stream": "stdout",
       "text": [
        "\r",
        "Processing frame-00202.png"
       ]
      },
      {
       "output_type": "stream",
       "stream": "stdout",
       "text": [
        "\r",
        "Processing frame-00203.png"
       ]
      },
      {
       "output_type": "stream",
       "stream": "stdout",
       "text": [
        "\r",
        "Processing frame-00204.png"
       ]
      },
      {
       "output_type": "stream",
       "stream": "stdout",
       "text": [
        "\r",
        "Processing frame-00205.png"
       ]
      },
      {
       "output_type": "stream",
       "stream": "stdout",
       "text": [
        "\r",
        "Processing frame-00206.png"
       ]
      },
      {
       "output_type": "stream",
       "stream": "stdout",
       "text": [
        "\r",
        "Processing frame-00207.png"
       ]
      },
      {
       "output_type": "stream",
       "stream": "stdout",
       "text": [
        "\r",
        "Processing frame-00208.png"
       ]
      },
      {
       "output_type": "stream",
       "stream": "stdout",
       "text": [
        "\r",
        "Processing frame-00209.png"
       ]
      },
      {
       "output_type": "stream",
       "stream": "stdout",
       "text": [
        "\r",
        "Processing frame-00210.png"
       ]
      },
      {
       "output_type": "stream",
       "stream": "stdout",
       "text": [
        "\r",
        "Processing frame-00211.png"
       ]
      },
      {
       "output_type": "stream",
       "stream": "stdout",
       "text": [
        "\r",
        "Processing frame-00212.png"
       ]
      },
      {
       "output_type": "stream",
       "stream": "stdout",
       "text": [
        "\r",
        "Processing frame-00213.png"
       ]
      },
      {
       "output_type": "stream",
       "stream": "stdout",
       "text": [
        "\r",
        "Processing frame-00214.png"
       ]
      },
      {
       "output_type": "stream",
       "stream": "stdout",
       "text": [
        "\r",
        "Processing frame-00215.png"
       ]
      },
      {
       "output_type": "stream",
       "stream": "stdout",
       "text": [
        "\r",
        "Processing frame-00216.png"
       ]
      },
      {
       "output_type": "stream",
       "stream": "stdout",
       "text": [
        "\r",
        "Processing frame-00217.png"
       ]
      },
      {
       "output_type": "stream",
       "stream": "stdout",
       "text": [
        "\r",
        "Processing frame-00218.png"
       ]
      },
      {
       "output_type": "stream",
       "stream": "stdout",
       "text": [
        "\r",
        "Processing frame-00219.png"
       ]
      },
      {
       "output_type": "stream",
       "stream": "stdout",
       "text": [
        "\r",
        "Processing frame-00220.png"
       ]
      },
      {
       "output_type": "stream",
       "stream": "stdout",
       "text": [
        "\r",
        "Processing frame-00221.png"
       ]
      },
      {
       "output_type": "stream",
       "stream": "stdout",
       "text": [
        "\r",
        "Processing frame-00222.png"
       ]
      },
      {
       "output_type": "stream",
       "stream": "stdout",
       "text": [
        "\r",
        "Processing frame-00223.png"
       ]
      },
      {
       "output_type": "stream",
       "stream": "stdout",
       "text": [
        "\r",
        "Processing frame-00224.png"
       ]
      },
      {
       "output_type": "stream",
       "stream": "stdout",
       "text": [
        "\r",
        "Processing frame-00225.png"
       ]
      },
      {
       "output_type": "stream",
       "stream": "stdout",
       "text": [
        "\r",
        "Processing frame-00226.png"
       ]
      },
      {
       "output_type": "stream",
       "stream": "stdout",
       "text": [
        "\r",
        "Processing frame-00227.png"
       ]
      },
      {
       "output_type": "stream",
       "stream": "stdout",
       "text": [
        "\r",
        "Processing frame-00228.png"
       ]
      },
      {
       "output_type": "stream",
       "stream": "stdout",
       "text": [
        "\r",
        "Processing frame-00229.png"
       ]
      },
      {
       "output_type": "stream",
       "stream": "stdout",
       "text": [
        "\r",
        "Processing frame-00230.png"
       ]
      },
      {
       "output_type": "stream",
       "stream": "stdout",
       "text": [
        "\r",
        "Processing frame-00231.png"
       ]
      },
      {
       "output_type": "stream",
       "stream": "stdout",
       "text": [
        "\r",
        "Processing frame-00232.png"
       ]
      },
      {
       "output_type": "stream",
       "stream": "stdout",
       "text": [
        "\r",
        "Processing frame-00233.png"
       ]
      },
      {
       "output_type": "stream",
       "stream": "stdout",
       "text": [
        "\r",
        "Processing frame-00234.png"
       ]
      },
      {
       "output_type": "stream",
       "stream": "stdout",
       "text": [
        "\r",
        "Processing frame-00235.png"
       ]
      },
      {
       "output_type": "stream",
       "stream": "stdout",
       "text": [
        "\r",
        "Processing frame-00236.png"
       ]
      },
      {
       "output_type": "stream",
       "stream": "stdout",
       "text": [
        "\r",
        "Processing frame-00237.png"
       ]
      },
      {
       "output_type": "stream",
       "stream": "stdout",
       "text": [
        "\r",
        "Processing frame-00238.png"
       ]
      },
      {
       "output_type": "stream",
       "stream": "stdout",
       "text": [
        "\r",
        "Processing frame-00239.png"
       ]
      },
      {
       "output_type": "stream",
       "stream": "stdout",
       "text": [
        "\r",
        "Processing frame-00240.png"
       ]
      },
      {
       "output_type": "stream",
       "stream": "stdout",
       "text": [
        "\r",
        "Processing frame-00241.png"
       ]
      },
      {
       "output_type": "stream",
       "stream": "stdout",
       "text": [
        "\r",
        "Processing frame-00242.png"
       ]
      },
      {
       "output_type": "stream",
       "stream": "stdout",
       "text": [
        "\r",
        "Processing frame-00243.png"
       ]
      },
      {
       "output_type": "stream",
       "stream": "stdout",
       "text": [
        "\r",
        "Processing frame-00244.png"
       ]
      },
      {
       "output_type": "stream",
       "stream": "stdout",
       "text": [
        "\r",
        "Processing frame-00245.png"
       ]
      },
      {
       "output_type": "stream",
       "stream": "stdout",
       "text": [
        "\r",
        "Processing frame-00246.png"
       ]
      },
      {
       "output_type": "stream",
       "stream": "stdout",
       "text": [
        "\r",
        "Processing frame-00247.png"
       ]
      },
      {
       "output_type": "stream",
       "stream": "stdout",
       "text": [
        "\r",
        "Processing frame-00248.png"
       ]
      },
      {
       "output_type": "stream",
       "stream": "stdout",
       "text": [
        "\r",
        "Processing frame-00249.png"
       ]
      },
      {
       "output_type": "stream",
       "stream": "stdout",
       "text": [
        "\r",
        "Processing frame-00250.png"
       ]
      },
      {
       "output_type": "stream",
       "stream": "stdout",
       "text": [
        "\r",
        "Processing frame-00251.png"
       ]
      },
      {
       "output_type": "stream",
       "stream": "stdout",
       "text": [
        "\r",
        "Processing frame-00252.png"
       ]
      },
      {
       "output_type": "stream",
       "stream": "stdout",
       "text": [
        "\r",
        "Processing frame-00253.png"
       ]
      },
      {
       "output_type": "stream",
       "stream": "stdout",
       "text": [
        "\r",
        "Processing frame-00254.png"
       ]
      },
      {
       "output_type": "stream",
       "stream": "stdout",
       "text": [
        "\r",
        "Processing frame-00255.png"
       ]
      },
      {
       "output_type": "stream",
       "stream": "stdout",
       "text": [
        "\r",
        "Processing frame-00256.png"
       ]
      },
      {
       "output_type": "stream",
       "stream": "stdout",
       "text": [
        "\r",
        "Processing frame-00257.png"
       ]
      },
      {
       "output_type": "stream",
       "stream": "stdout",
       "text": [
        "\r",
        "Processing frame-00258.png"
       ]
      },
      {
       "output_type": "stream",
       "stream": "stdout",
       "text": [
        "\r",
        "Processing frame-00259.png"
       ]
      },
      {
       "output_type": "stream",
       "stream": "stdout",
       "text": [
        "\r",
        "Processing frame-00260.png"
       ]
      },
      {
       "output_type": "stream",
       "stream": "stdout",
       "text": [
        "\r",
        "Processing frame-00261.png"
       ]
      },
      {
       "output_type": "stream",
       "stream": "stdout",
       "text": [
        "\r",
        "Processing frame-00262.png"
       ]
      },
      {
       "output_type": "stream",
       "stream": "stdout",
       "text": [
        "\r",
        "Processing frame-00263.png"
       ]
      },
      {
       "output_type": "stream",
       "stream": "stdout",
       "text": [
        "\r",
        "Processing frame-00264.png"
       ]
      },
      {
       "output_type": "stream",
       "stream": "stdout",
       "text": [
        "\r",
        "Processing frame-00265.png"
       ]
      },
      {
       "output_type": "stream",
       "stream": "stdout",
       "text": [
        "\r",
        "Processing frame-00266.png"
       ]
      },
      {
       "output_type": "stream",
       "stream": "stdout",
       "text": [
        "\r",
        "Processing frame-00267.png"
       ]
      },
      {
       "output_type": "stream",
       "stream": "stdout",
       "text": [
        "\r",
        "Processing frame-00268.png"
       ]
      },
      {
       "output_type": "stream",
       "stream": "stdout",
       "text": [
        "\r",
        "Processing frame-00269.png"
       ]
      },
      {
       "output_type": "stream",
       "stream": "stdout",
       "text": [
        "\r",
        "Processing frame-00270.png"
       ]
      },
      {
       "output_type": "stream",
       "stream": "stdout",
       "text": [
        "\r",
        "Processing frame-00271.png"
       ]
      },
      {
       "output_type": "stream",
       "stream": "stdout",
       "text": [
        "\r",
        "Processing frame-00272.png"
       ]
      },
      {
       "output_type": "stream",
       "stream": "stdout",
       "text": [
        "\r",
        "Processing frame-00273.png"
       ]
      },
      {
       "output_type": "stream",
       "stream": "stdout",
       "text": [
        "\r",
        "Processing frame-00274.png"
       ]
      },
      {
       "output_type": "stream",
       "stream": "stdout",
       "text": [
        "\r",
        "Processing frame-00275.png"
       ]
      },
      {
       "output_type": "stream",
       "stream": "stdout",
       "text": [
        "\r",
        "Processing frame-00276.png"
       ]
      },
      {
       "output_type": "stream",
       "stream": "stdout",
       "text": [
        "\r",
        "Processing frame-00277.png"
       ]
      },
      {
       "output_type": "stream",
       "stream": "stdout",
       "text": [
        "\r",
        "Processing frame-00278.png"
       ]
      },
      {
       "output_type": "stream",
       "stream": "stdout",
       "text": [
        "\r",
        "Processing frame-00279.png"
       ]
      },
      {
       "output_type": "stream",
       "stream": "stdout",
       "text": [
        "\r",
        "Processing frame-00280.png"
       ]
      },
      {
       "output_type": "stream",
       "stream": "stdout",
       "text": [
        "\r",
        "Processing frame-00281.png"
       ]
      },
      {
       "output_type": "stream",
       "stream": "stdout",
       "text": [
        "\r",
        "Processing frame-00282.png"
       ]
      },
      {
       "output_type": "stream",
       "stream": "stdout",
       "text": [
        "\r",
        "Processing frame-00283.png"
       ]
      },
      {
       "output_type": "stream",
       "stream": "stdout",
       "text": [
        "\r",
        "Processing frame-00284.png"
       ]
      },
      {
       "output_type": "stream",
       "stream": "stdout",
       "text": [
        "\r",
        "Processing frame-00285.png"
       ]
      },
      {
       "output_type": "stream",
       "stream": "stdout",
       "text": [
        "\r",
        "Processing frame-00286.png"
       ]
      },
      {
       "output_type": "stream",
       "stream": "stdout",
       "text": [
        "\r",
        "Processing frame-00287.png"
       ]
      },
      {
       "output_type": "stream",
       "stream": "stdout",
       "text": [
        "\r",
        "Processing frame-00288.png"
       ]
      },
      {
       "output_type": "stream",
       "stream": "stdout",
       "text": [
        "\r",
        "Processing frame-00289.png"
       ]
      },
      {
       "output_type": "stream",
       "stream": "stdout",
       "text": [
        "\r",
        "Processing frame-00290.png"
       ]
      },
      {
       "output_type": "stream",
       "stream": "stdout",
       "text": [
        "\r",
        "Processing frame-00291.png"
       ]
      },
      {
       "output_type": "stream",
       "stream": "stdout",
       "text": [
        "\r",
        "Processing frame-00292.png"
       ]
      },
      {
       "output_type": "stream",
       "stream": "stdout",
       "text": [
        "\r",
        "Processing frame-00293.png"
       ]
      },
      {
       "output_type": "stream",
       "stream": "stdout",
       "text": [
        "\r",
        "Processing frame-00294.png"
       ]
      },
      {
       "output_type": "stream",
       "stream": "stdout",
       "text": [
        "\r",
        "Processing frame-00295.png"
       ]
      },
      {
       "output_type": "stream",
       "stream": "stdout",
       "text": [
        "\r",
        "Processing frame-00296.png"
       ]
      },
      {
       "output_type": "stream",
       "stream": "stdout",
       "text": [
        "\r",
        "Processing frame-00297.png"
       ]
      },
      {
       "output_type": "stream",
       "stream": "stdout",
       "text": [
        "\r",
        "Processing frame-00298.png"
       ]
      },
      {
       "output_type": "stream",
       "stream": "stdout",
       "text": [
        "\r",
        "Processing frame-00299.png"
       ]
      },
      {
       "output_type": "stream",
       "stream": "stdout",
       "text": [
        "\r",
        "Processing frame-00300.png"
       ]
      },
      {
       "output_type": "stream",
       "stream": "stdout",
       "text": [
        "\r",
        "Processing frame-00301.png"
       ]
      },
      {
       "output_type": "stream",
       "stream": "stdout",
       "text": [
        "\r",
        "Processing frame-00302.png"
       ]
      },
      {
       "output_type": "stream",
       "stream": "stdout",
       "text": [
        "\r",
        "Processing frame-00303.png"
       ]
      },
      {
       "output_type": "stream",
       "stream": "stdout",
       "text": [
        "\r",
        "Processing frame-00304.png"
       ]
      },
      {
       "output_type": "stream",
       "stream": "stdout",
       "text": [
        "\r",
        "Processing frame-00305.png"
       ]
      },
      {
       "output_type": "stream",
       "stream": "stdout",
       "text": [
        "\r",
        "Processing frame-00306.png"
       ]
      },
      {
       "output_type": "stream",
       "stream": "stdout",
       "text": [
        "\r",
        "Processing frame-00307.png"
       ]
      },
      {
       "output_type": "stream",
       "stream": "stdout",
       "text": [
        "\r",
        "Processing frame-00308.png"
       ]
      },
      {
       "output_type": "stream",
       "stream": "stdout",
       "text": [
        "\r",
        "Processing frame-00309.png"
       ]
      },
      {
       "output_type": "stream",
       "stream": "stdout",
       "text": [
        "\r",
        "Processing frame-00310.png"
       ]
      },
      {
       "output_type": "stream",
       "stream": "stdout",
       "text": [
        "\r",
        "Processing frame-00311.png"
       ]
      },
      {
       "output_type": "stream",
       "stream": "stdout",
       "text": [
        "\r",
        "Processing frame-00312.png"
       ]
      },
      {
       "output_type": "stream",
       "stream": "stdout",
       "text": [
        "\r",
        "Processing frame-00313.png"
       ]
      },
      {
       "output_type": "stream",
       "stream": "stdout",
       "text": [
        "\r",
        "Processing frame-00314.png"
       ]
      },
      {
       "output_type": "stream",
       "stream": "stdout",
       "text": [
        "\r",
        "Processing frame-00315.png"
       ]
      },
      {
       "output_type": "stream",
       "stream": "stdout",
       "text": [
        "\r",
        "Processing frame-00316.png"
       ]
      },
      {
       "output_type": "stream",
       "stream": "stdout",
       "text": [
        "\r",
        "Processing frame-00317.png"
       ]
      },
      {
       "output_type": "stream",
       "stream": "stdout",
       "text": [
        "\r",
        "Processing frame-00318.png"
       ]
      },
      {
       "output_type": "stream",
       "stream": "stdout",
       "text": [
        "\r",
        "Processing frame-00319.png"
       ]
      },
      {
       "output_type": "stream",
       "stream": "stdout",
       "text": [
        "\r",
        "Processing frame-00320.png"
       ]
      },
      {
       "output_type": "stream",
       "stream": "stdout",
       "text": [
        "\r",
        "Processing frame-00321.png"
       ]
      },
      {
       "output_type": "stream",
       "stream": "stdout",
       "text": [
        "\r",
        "Processing frame-00322.png"
       ]
      },
      {
       "output_type": "stream",
       "stream": "stdout",
       "text": [
        "\r",
        "Processing frame-00323.png"
       ]
      },
      {
       "output_type": "stream",
       "stream": "stdout",
       "text": [
        "\r",
        "Processing frame-00324.png"
       ]
      },
      {
       "output_type": "stream",
       "stream": "stdout",
       "text": [
        "\r",
        "Processing frame-00325.png"
       ]
      },
      {
       "output_type": "stream",
       "stream": "stdout",
       "text": [
        "\r",
        "Processing frame-00326.png"
       ]
      },
      {
       "output_type": "stream",
       "stream": "stdout",
       "text": [
        "\r",
        "Processing frame-00327.png"
       ]
      },
      {
       "output_type": "stream",
       "stream": "stdout",
       "text": [
        "\r",
        "Processing frame-00328.png"
       ]
      },
      {
       "output_type": "stream",
       "stream": "stdout",
       "text": [
        "\r",
        "Processing frame-00329.png"
       ]
      },
      {
       "output_type": "stream",
       "stream": "stdout",
       "text": [
        "\r",
        "Processing frame-00330.png"
       ]
      },
      {
       "output_type": "stream",
       "stream": "stdout",
       "text": [
        "\r",
        "Processing frame-00331.png"
       ]
      },
      {
       "output_type": "stream",
       "stream": "stdout",
       "text": [
        "\r",
        "Processing frame-00332.png"
       ]
      },
      {
       "output_type": "stream",
       "stream": "stdout",
       "text": [
        "\r",
        "Processing frame-00333.png"
       ]
      },
      {
       "output_type": "stream",
       "stream": "stdout",
       "text": [
        "\r",
        "Processing frame-00334.png"
       ]
      },
      {
       "output_type": "stream",
       "stream": "stdout",
       "text": [
        "\r",
        "Processing frame-00335.png"
       ]
      },
      {
       "output_type": "stream",
       "stream": "stdout",
       "text": [
        "\r",
        "Processing frame-00336.png"
       ]
      },
      {
       "output_type": "stream",
       "stream": "stdout",
       "text": [
        "\r",
        "Processing frame-00337.png"
       ]
      },
      {
       "output_type": "stream",
       "stream": "stdout",
       "text": [
        "\r",
        "Processing frame-00338.png"
       ]
      },
      {
       "output_type": "stream",
       "stream": "stdout",
       "text": [
        "\r",
        "Processing frame-00339.png"
       ]
      },
      {
       "output_type": "stream",
       "stream": "stdout",
       "text": [
        "\r",
        "Processing frame-00340.png"
       ]
      },
      {
       "output_type": "stream",
       "stream": "stdout",
       "text": [
        "\r",
        "Processing frame-00341.png"
       ]
      },
      {
       "output_type": "stream",
       "stream": "stdout",
       "text": [
        "\r",
        "Processing frame-00342.png"
       ]
      },
      {
       "output_type": "stream",
       "stream": "stdout",
       "text": [
        "\r",
        "Processing frame-00343.png"
       ]
      },
      {
       "output_type": "stream",
       "stream": "stdout",
       "text": [
        "\r",
        "Processing frame-00344.png"
       ]
      },
      {
       "output_type": "stream",
       "stream": "stdout",
       "text": [
        "\r",
        "Processing frame-00345.png"
       ]
      },
      {
       "output_type": "stream",
       "stream": "stdout",
       "text": [
        "\r",
        "Processing frame-00346.png"
       ]
      },
      {
       "output_type": "stream",
       "stream": "stdout",
       "text": [
        "\r",
        "Processing frame-00347.png"
       ]
      },
      {
       "output_type": "stream",
       "stream": "stdout",
       "text": [
        "\r",
        "Processing frame-00348.png"
       ]
      },
      {
       "output_type": "stream",
       "stream": "stdout",
       "text": [
        "\r",
        "Processing frame-00349.png"
       ]
      },
      {
       "output_type": "stream",
       "stream": "stdout",
       "text": [
        "\r",
        "Processing frame-00350.png"
       ]
      },
      {
       "output_type": "stream",
       "stream": "stdout",
       "text": [
        "\r",
        "Processing frame-00351.png"
       ]
      },
      {
       "output_type": "stream",
       "stream": "stdout",
       "text": [
        "\r",
        "Processing frame-00352.png"
       ]
      },
      {
       "output_type": "stream",
       "stream": "stdout",
       "text": [
        "\r",
        "Processing frame-00353.png"
       ]
      },
      {
       "output_type": "stream",
       "stream": "stdout",
       "text": [
        "\r",
        "Processing frame-00354.png"
       ]
      },
      {
       "output_type": "stream",
       "stream": "stdout",
       "text": [
        "\r",
        "Processing frame-00355.png"
       ]
      },
      {
       "output_type": "stream",
       "stream": "stdout",
       "text": [
        "\r",
        "Processing frame-00356.png"
       ]
      },
      {
       "output_type": "stream",
       "stream": "stdout",
       "text": [
        "\r",
        "Processing frame-00357.png"
       ]
      },
      {
       "output_type": "stream",
       "stream": "stdout",
       "text": [
        "\r",
        "Processing frame-00358.png"
       ]
      },
      {
       "output_type": "stream",
       "stream": "stdout",
       "text": [
        "\r",
        "Processing frame-00359.png"
       ]
      },
      {
       "output_type": "stream",
       "stream": "stdout",
       "text": [
        "\r",
        "Processing frame-00360.png"
       ]
      },
      {
       "output_type": "stream",
       "stream": "stdout",
       "text": [
        "\r",
        "Processing frame-00361.png"
       ]
      },
      {
       "output_type": "stream",
       "stream": "stdout",
       "text": [
        "\r",
        "Processing frame-00362.png"
       ]
      },
      {
       "output_type": "stream",
       "stream": "stdout",
       "text": [
        "\r",
        "Processing frame-00363.png"
       ]
      },
      {
       "output_type": "stream",
       "stream": "stdout",
       "text": [
        "\r",
        "Processing frame-00364.png"
       ]
      },
      {
       "output_type": "stream",
       "stream": "stdout",
       "text": [
        "\r",
        "Processing frame-00365.png"
       ]
      },
      {
       "output_type": "stream",
       "stream": "stdout",
       "text": [
        "\r",
        "Processing frame-00366.png"
       ]
      },
      {
       "output_type": "stream",
       "stream": "stdout",
       "text": [
        "\r",
        "Processing frame-00367.png"
       ]
      },
      {
       "output_type": "stream",
       "stream": "stdout",
       "text": [
        "\r",
        "Processing frame-00368.png"
       ]
      },
      {
       "output_type": "stream",
       "stream": "stdout",
       "text": [
        "\r",
        "Processing frame-00369.png"
       ]
      },
      {
       "output_type": "stream",
       "stream": "stdout",
       "text": [
        "\r",
        "Processing frame-00370.png"
       ]
      },
      {
       "output_type": "stream",
       "stream": "stdout",
       "text": [
        "\r",
        "Processing frame-00371.png"
       ]
      },
      {
       "output_type": "stream",
       "stream": "stdout",
       "text": [
        "\r",
        "Processing frame-00372.png"
       ]
      },
      {
       "output_type": "stream",
       "stream": "stdout",
       "text": [
        "\r",
        "Processing frame-00373.png"
       ]
      },
      {
       "output_type": "stream",
       "stream": "stdout",
       "text": [
        "\r",
        "Processing frame-00374.png"
       ]
      },
      {
       "output_type": "stream",
       "stream": "stdout",
       "text": [
        "\r",
        "Processing frame-00375.png"
       ]
      },
      {
       "output_type": "stream",
       "stream": "stdout",
       "text": [
        "\r",
        "Processing frame-00376.png"
       ]
      },
      {
       "output_type": "stream",
       "stream": "stdout",
       "text": [
        "\r",
        "Processing frame-00377.png"
       ]
      },
      {
       "output_type": "stream",
       "stream": "stdout",
       "text": [
        "\r",
        "Processing frame-00378.png"
       ]
      },
      {
       "output_type": "stream",
       "stream": "stdout",
       "text": [
        "\r",
        "Processing frame-00379.png"
       ]
      },
      {
       "output_type": "stream",
       "stream": "stdout",
       "text": [
        "\r",
        "Processing frame-00380.png"
       ]
      },
      {
       "output_type": "stream",
       "stream": "stdout",
       "text": [
        "\r",
        "Processing frame-00381.png"
       ]
      },
      {
       "output_type": "stream",
       "stream": "stdout",
       "text": [
        "\r",
        "Processing frame-00382.png"
       ]
      },
      {
       "output_type": "stream",
       "stream": "stdout",
       "text": [
        "\r",
        "Processing frame-00383.png"
       ]
      },
      {
       "output_type": "stream",
       "stream": "stdout",
       "text": [
        "\r",
        "Processing frame-00384.png"
       ]
      },
      {
       "output_type": "stream",
       "stream": "stdout",
       "text": [
        "\r",
        "Processing frame-00385.png"
       ]
      },
      {
       "output_type": "stream",
       "stream": "stdout",
       "text": [
        "\r",
        "Processing frame-00386.png"
       ]
      },
      {
       "output_type": "stream",
       "stream": "stdout",
       "text": [
        "\r",
        "Processing frame-00387.png"
       ]
      },
      {
       "output_type": "stream",
       "stream": "stdout",
       "text": [
        "\r",
        "Processing frame-00388.png"
       ]
      },
      {
       "output_type": "stream",
       "stream": "stdout",
       "text": [
        "\r",
        "Processing frame-00389.png"
       ]
      },
      {
       "output_type": "stream",
       "stream": "stdout",
       "text": [
        "\r",
        "Processing frame-00390.png"
       ]
      },
      {
       "output_type": "stream",
       "stream": "stdout",
       "text": [
        "\r",
        "Processing frame-00391.png"
       ]
      },
      {
       "output_type": "stream",
       "stream": "stdout",
       "text": [
        "\r",
        "Processing frame-00392.png"
       ]
      },
      {
       "output_type": "stream",
       "stream": "stdout",
       "text": [
        "\r",
        "Processing frame-00393.png"
       ]
      },
      {
       "output_type": "stream",
       "stream": "stdout",
       "text": [
        "\r",
        "Processing frame-00394.png"
       ]
      },
      {
       "output_type": "stream",
       "stream": "stdout",
       "text": [
        "\r",
        "Processing frame-00395.png"
       ]
      },
      {
       "output_type": "stream",
       "stream": "stdout",
       "text": [
        "\r",
        "Processing frame-00396.png"
       ]
      },
      {
       "output_type": "stream",
       "stream": "stdout",
       "text": [
        "\r",
        "Processing frame-00397.png"
       ]
      },
      {
       "output_type": "stream",
       "stream": "stdout",
       "text": [
        "\r",
        "Processing frame-00398.png"
       ]
      },
      {
       "output_type": "stream",
       "stream": "stdout",
       "text": [
        "\r",
        "Processing frame-00399.png"
       ]
      },
      {
       "output_type": "stream",
       "stream": "stdout",
       "text": [
        "\r",
        "Processing frame-00400.png"
       ]
      },
      {
       "output_type": "stream",
       "stream": "stdout",
       "text": [
        "\r",
        "Processing frame-00401.png"
       ]
      },
      {
       "output_type": "stream",
       "stream": "stdout",
       "text": [
        "\r",
        "Processing frame-00402.png"
       ]
      },
      {
       "output_type": "stream",
       "stream": "stdout",
       "text": [
        "\r",
        "Processing frame-00403.png"
       ]
      },
      {
       "output_type": "stream",
       "stream": "stdout",
       "text": [
        "\r",
        "Processing frame-00404.png"
       ]
      },
      {
       "output_type": "stream",
       "stream": "stdout",
       "text": [
        "\r",
        "Processing frame-00405.png"
       ]
      },
      {
       "output_type": "stream",
       "stream": "stdout",
       "text": [
        "\r",
        "Processing frame-00406.png"
       ]
      },
      {
       "output_type": "stream",
       "stream": "stdout",
       "text": [
        "\r",
        "Processing frame-00407.png"
       ]
      },
      {
       "output_type": "stream",
       "stream": "stdout",
       "text": [
        "\r",
        "Processing frame-00408.png"
       ]
      },
      {
       "output_type": "stream",
       "stream": "stdout",
       "text": [
        "\r",
        "Processing frame-00409.png"
       ]
      },
      {
       "output_type": "stream",
       "stream": "stdout",
       "text": [
        "\r",
        "Processing frame-00410.png"
       ]
      },
      {
       "output_type": "stream",
       "stream": "stdout",
       "text": [
        "\r",
        "Processing frame-00411.png"
       ]
      },
      {
       "output_type": "stream",
       "stream": "stdout",
       "text": [
        "\r",
        "Processing frame-00412.png"
       ]
      },
      {
       "output_type": "stream",
       "stream": "stdout",
       "text": [
        "\r",
        "Processing frame-00413.png"
       ]
      },
      {
       "output_type": "stream",
       "stream": "stdout",
       "text": [
        "\r",
        "Processing frame-00414.png"
       ]
      },
      {
       "output_type": "stream",
       "stream": "stdout",
       "text": [
        "\r",
        "Processing frame-00415.png"
       ]
      },
      {
       "output_type": "stream",
       "stream": "stdout",
       "text": [
        "\r",
        "Processing frame-00416.png"
       ]
      },
      {
       "output_type": "stream",
       "stream": "stdout",
       "text": [
        "\r",
        "Processing frame-00417.png"
       ]
      },
      {
       "output_type": "stream",
       "stream": "stdout",
       "text": [
        "\r",
        "Processing frame-00418.png"
       ]
      },
      {
       "output_type": "stream",
       "stream": "stdout",
       "text": [
        "\r",
        "Processing frame-00419.png"
       ]
      },
      {
       "output_type": "stream",
       "stream": "stdout",
       "text": [
        "\r",
        "Processing frame-00420.png"
       ]
      },
      {
       "output_type": "stream",
       "stream": "stdout",
       "text": [
        "\r",
        "Processing frame-00421.png"
       ]
      },
      {
       "output_type": "stream",
       "stream": "stdout",
       "text": [
        "\r",
        "Processing frame-00422.png"
       ]
      },
      {
       "output_type": "stream",
       "stream": "stdout",
       "text": [
        "\r",
        "Processing frame-00423.png"
       ]
      },
      {
       "output_type": "stream",
       "stream": "stdout",
       "text": [
        "\r",
        "Processing frame-00424.png"
       ]
      },
      {
       "output_type": "stream",
       "stream": "stdout",
       "text": [
        "\r",
        "Processing frame-00425.png"
       ]
      },
      {
       "output_type": "stream",
       "stream": "stdout",
       "text": [
        "\r",
        "Processing frame-00426.png"
       ]
      },
      {
       "output_type": "stream",
       "stream": "stdout",
       "text": [
        "\r",
        "Processing frame-00427.png"
       ]
      },
      {
       "output_type": "stream",
       "stream": "stdout",
       "text": [
        "\r",
        "Processing frame-00428.png"
       ]
      },
      {
       "output_type": "stream",
       "stream": "stdout",
       "text": [
        "\r",
        "Processing frame-00429.png"
       ]
      },
      {
       "output_type": "stream",
       "stream": "stdout",
       "text": [
        "\r",
        "Processing frame-00430.png"
       ]
      },
      {
       "output_type": "stream",
       "stream": "stdout",
       "text": [
        "\r",
        "Processing frame-00431.png"
       ]
      },
      {
       "output_type": "stream",
       "stream": "stdout",
       "text": [
        "\r",
        "Processing frame-00432.png"
       ]
      },
      {
       "output_type": "stream",
       "stream": "stdout",
       "text": [
        "\r",
        "Processing frame-00433.png"
       ]
      },
      {
       "output_type": "stream",
       "stream": "stdout",
       "text": [
        "\r",
        "Processing frame-00434.png"
       ]
      },
      {
       "output_type": "stream",
       "stream": "stdout",
       "text": [
        "\r",
        "Processing frame-00435.png"
       ]
      },
      {
       "output_type": "stream",
       "stream": "stdout",
       "text": [
        "\r",
        "Processing frame-00436.png"
       ]
      },
      {
       "output_type": "stream",
       "stream": "stdout",
       "text": [
        "\r",
        "Processing frame-00437.png"
       ]
      },
      {
       "output_type": "stream",
       "stream": "stdout",
       "text": [
        "\r",
        "Processing frame-00438.png"
       ]
      },
      {
       "output_type": "stream",
       "stream": "stdout",
       "text": [
        "\r",
        "Processing frame-00439.png"
       ]
      },
      {
       "output_type": "stream",
       "stream": "stdout",
       "text": [
        "\r",
        "Processing frame-00440.png"
       ]
      },
      {
       "output_type": "stream",
       "stream": "stdout",
       "text": [
        "\r",
        "Processing frame-00441.png"
       ]
      },
      {
       "output_type": "stream",
       "stream": "stdout",
       "text": [
        "\r",
        "Processing frame-00442.png"
       ]
      },
      {
       "output_type": "stream",
       "stream": "stdout",
       "text": [
        "\r",
        "Processing frame-00443.png"
       ]
      },
      {
       "output_type": "stream",
       "stream": "stdout",
       "text": [
        "\r",
        "Processing frame-00444.png"
       ]
      },
      {
       "output_type": "stream",
       "stream": "stdout",
       "text": [
        "\r",
        "Processing frame-00445.png"
       ]
      },
      {
       "output_type": "stream",
       "stream": "stdout",
       "text": [
        "\r",
        "Processing frame-00446.png"
       ]
      },
      {
       "output_type": "stream",
       "stream": "stdout",
       "text": [
        "\r",
        "Processing frame-00447.png"
       ]
      },
      {
       "output_type": "stream",
       "stream": "stdout",
       "text": [
        "\r",
        "Processing frame-00448.png"
       ]
      },
      {
       "output_type": "stream",
       "stream": "stdout",
       "text": [
        "\r",
        "Processing frame-00449.png"
       ]
      },
      {
       "output_type": "stream",
       "stream": "stdout",
       "text": [
        "\r",
        "Processing frame-00450.png"
       ]
      },
      {
       "output_type": "stream",
       "stream": "stdout",
       "text": [
        "\r",
        "Processing frame-00451.png"
       ]
      },
      {
       "output_type": "stream",
       "stream": "stdout",
       "text": [
        "\r",
        "Processing frame-00452.png"
       ]
      },
      {
       "output_type": "stream",
       "stream": "stdout",
       "text": [
        "\r",
        "Processing frame-00453.png"
       ]
      },
      {
       "output_type": "stream",
       "stream": "stdout",
       "text": [
        "\r",
        "Processing frame-00454.png"
       ]
      },
      {
       "output_type": "stream",
       "stream": "stdout",
       "text": [
        "\r",
        "Processing frame-00455.png"
       ]
      },
      {
       "output_type": "stream",
       "stream": "stdout",
       "text": [
        "\r",
        "Processing frame-00456.png"
       ]
      },
      {
       "output_type": "stream",
       "stream": "stdout",
       "text": [
        "\r",
        "Processing frame-00457.png"
       ]
      },
      {
       "output_type": "stream",
       "stream": "stdout",
       "text": [
        "\r",
        "Processing frame-00458.png"
       ]
      },
      {
       "output_type": "stream",
       "stream": "stdout",
       "text": [
        "\r",
        "Processing frame-00459.png"
       ]
      },
      {
       "output_type": "stream",
       "stream": "stdout",
       "text": [
        "\r",
        "Processing frame-00460.png"
       ]
      },
      {
       "output_type": "stream",
       "stream": "stdout",
       "text": [
        "\r",
        "Processing frame-00461.png"
       ]
      },
      {
       "output_type": "stream",
       "stream": "stdout",
       "text": [
        "\r",
        "Processing frame-00462.png"
       ]
      },
      {
       "output_type": "stream",
       "stream": "stdout",
       "text": [
        "\r",
        "Processing frame-00463.png"
       ]
      },
      {
       "output_type": "stream",
       "stream": "stdout",
       "text": [
        "\r",
        "Processing frame-00464.png"
       ]
      },
      {
       "output_type": "stream",
       "stream": "stdout",
       "text": [
        "\r",
        "Processing frame-00465.png"
       ]
      },
      {
       "output_type": "stream",
       "stream": "stdout",
       "text": [
        "\r",
        "Processing frame-00466.png"
       ]
      },
      {
       "output_type": "stream",
       "stream": "stdout",
       "text": [
        "\r",
        "Processing frame-00467.png"
       ]
      },
      {
       "output_type": "stream",
       "stream": "stdout",
       "text": [
        "\r",
        "Processing frame-00468.png"
       ]
      },
      {
       "output_type": "stream",
       "stream": "stdout",
       "text": [
        "\r",
        "Processing frame-00469.png"
       ]
      },
      {
       "output_type": "stream",
       "stream": "stdout",
       "text": [
        "\r",
        "Processing frame-00470.png"
       ]
      },
      {
       "output_type": "stream",
       "stream": "stdout",
       "text": [
        "\r",
        "Processing frame-00471.png"
       ]
      },
      {
       "output_type": "stream",
       "stream": "stdout",
       "text": [
        "\r",
        "Processing frame-00472.png"
       ]
      },
      {
       "output_type": "stream",
       "stream": "stdout",
       "text": [
        "\r",
        "Processing frame-00473.png"
       ]
      },
      {
       "output_type": "stream",
       "stream": "stdout",
       "text": [
        "\r",
        "Processing frame-00474.png"
       ]
      },
      {
       "output_type": "stream",
       "stream": "stdout",
       "text": [
        "\r",
        "Processing frame-00475.png"
       ]
      },
      {
       "output_type": "stream",
       "stream": "stdout",
       "text": [
        "\r",
        "Processing frame-00476.png"
       ]
      },
      {
       "output_type": "stream",
       "stream": "stdout",
       "text": [
        "\r",
        "Processing frame-00477.png"
       ]
      },
      {
       "output_type": "stream",
       "stream": "stdout",
       "text": [
        "\r",
        "Processing frame-00478.png"
       ]
      },
      {
       "output_type": "stream",
       "stream": "stdout",
       "text": [
        "\r",
        "Processing frame-00479.png"
       ]
      },
      {
       "output_type": "stream",
       "stream": "stdout",
       "text": [
        "\r",
        "Processing frame-00480.png"
       ]
      },
      {
       "output_type": "stream",
       "stream": "stdout",
       "text": [
        "\r",
        "Processing frame-00481.png"
       ]
      },
      {
       "output_type": "stream",
       "stream": "stdout",
       "text": [
        "\r",
        "Processing frame-00482.png"
       ]
      },
      {
       "output_type": "stream",
       "stream": "stdout",
       "text": [
        "\r",
        "Processing frame-00483.png"
       ]
      },
      {
       "output_type": "stream",
       "stream": "stdout",
       "text": [
        "\r",
        "Processing frame-00484.png"
       ]
      },
      {
       "output_type": "stream",
       "stream": "stdout",
       "text": [
        "\r",
        "Processing frame-00485.png"
       ]
      },
      {
       "output_type": "stream",
       "stream": "stdout",
       "text": [
        "\r",
        "Processing frame-00486.png"
       ]
      },
      {
       "output_type": "stream",
       "stream": "stdout",
       "text": [
        "\r",
        "Processing frame-00487.png"
       ]
      },
      {
       "output_type": "stream",
       "stream": "stdout",
       "text": [
        "\r",
        "Processing frame-00488.png"
       ]
      },
      {
       "output_type": "stream",
       "stream": "stdout",
       "text": [
        "\r",
        "Processing frame-00489.png"
       ]
      },
      {
       "output_type": "stream",
       "stream": "stdout",
       "text": [
        "\r",
        "Processing frame-00490.png"
       ]
      },
      {
       "output_type": "stream",
       "stream": "stdout",
       "text": [
        "\r",
        "Processing frame-00491.png"
       ]
      },
      {
       "output_type": "stream",
       "stream": "stdout",
       "text": [
        "\r",
        "Processing frame-00492.png"
       ]
      },
      {
       "output_type": "stream",
       "stream": "stdout",
       "text": [
        "\r",
        "Processing frame-00493.png"
       ]
      },
      {
       "output_type": "stream",
       "stream": "stdout",
       "text": [
        "\r",
        "Processing frame-00494.png"
       ]
      },
      {
       "output_type": "stream",
       "stream": "stdout",
       "text": [
        "\r",
        "Processing frame-00495.png"
       ]
      },
      {
       "output_type": "stream",
       "stream": "stdout",
       "text": [
        "\r",
        "Processing frame-00496.png"
       ]
      },
      {
       "output_type": "stream",
       "stream": "stdout",
       "text": [
        "\r",
        "Processing frame-00497.png"
       ]
      },
      {
       "output_type": "stream",
       "stream": "stdout",
       "text": [
        "\r",
        "Processing frame-00498.png"
       ]
      },
      {
       "output_type": "stream",
       "stream": "stdout",
       "text": [
        "\r",
        "Processing frame-00499.png"
       ]
      },
      {
       "output_type": "stream",
       "stream": "stdout",
       "text": [
        "\r",
        "Processing frame-00500.png"
       ]
      },
      {
       "output_type": "stream",
       "stream": "stdout",
       "text": [
        "\r",
        "Processing frame-00501.png"
       ]
      },
      {
       "output_type": "stream",
       "stream": "stdout",
       "text": [
        "\r",
        "Processing frame-00502.png"
       ]
      },
      {
       "output_type": "stream",
       "stream": "stdout",
       "text": [
        "\r",
        "Processing frame-00503.png"
       ]
      },
      {
       "output_type": "stream",
       "stream": "stdout",
       "text": [
        "\r",
        "Processing frame-00504.png"
       ]
      },
      {
       "output_type": "stream",
       "stream": "stdout",
       "text": [
        "\r",
        "Processing frame-00505.png"
       ]
      },
      {
       "output_type": "stream",
       "stream": "stdout",
       "text": [
        "\r",
        "Processing frame-00506.png"
       ]
      },
      {
       "output_type": "stream",
       "stream": "stdout",
       "text": [
        "\r",
        "Processing frame-00507.png"
       ]
      },
      {
       "output_type": "stream",
       "stream": "stdout",
       "text": [
        "\r",
        "Processing frame-00508.png"
       ]
      },
      {
       "output_type": "stream",
       "stream": "stdout",
       "text": [
        "\r",
        "Processing frame-00509.png"
       ]
      },
      {
       "output_type": "stream",
       "stream": "stdout",
       "text": [
        "\r",
        "Processing frame-00510.png"
       ]
      },
      {
       "output_type": "stream",
       "stream": "stdout",
       "text": [
        "\r",
        "Processing frame-00511.png"
       ]
      },
      {
       "output_type": "stream",
       "stream": "stdout",
       "text": [
        "\r",
        "Processing frame-00512.png"
       ]
      },
      {
       "output_type": "stream",
       "stream": "stdout",
       "text": [
        "\r",
        "Processing frame-00513.png"
       ]
      },
      {
       "output_type": "stream",
       "stream": "stdout",
       "text": [
        "\r",
        "Processing frame-00514.png"
       ]
      },
      {
       "output_type": "stream",
       "stream": "stdout",
       "text": [
        "\r",
        "Processing frame-00515.png"
       ]
      },
      {
       "output_type": "stream",
       "stream": "stdout",
       "text": [
        "\r",
        "Processing frame-00516.png"
       ]
      },
      {
       "output_type": "stream",
       "stream": "stdout",
       "text": [
        "\r",
        "Processing frame-00517.png"
       ]
      },
      {
       "output_type": "stream",
       "stream": "stdout",
       "text": [
        "\r",
        "Processing frame-00518.png"
       ]
      },
      {
       "output_type": "stream",
       "stream": "stdout",
       "text": [
        "\r",
        "Processing frame-00519.png"
       ]
      },
      {
       "output_type": "stream",
       "stream": "stdout",
       "text": [
        "\r",
        "Processing frame-00520.png"
       ]
      },
      {
       "output_type": "stream",
       "stream": "stdout",
       "text": [
        "\r",
        "Processing frame-00521.png"
       ]
      },
      {
       "output_type": "stream",
       "stream": "stdout",
       "text": [
        "\r",
        "Processing frame-00522.png"
       ]
      },
      {
       "output_type": "stream",
       "stream": "stdout",
       "text": [
        "\r",
        "Processing frame-00523.png"
       ]
      },
      {
       "output_type": "stream",
       "stream": "stdout",
       "text": [
        "\r",
        "Processing frame-00524.png"
       ]
      },
      {
       "output_type": "stream",
       "stream": "stdout",
       "text": [
        "\r",
        "Processing frame-00525.png"
       ]
      },
      {
       "output_type": "stream",
       "stream": "stdout",
       "text": [
        "\r",
        "Processing frame-00526.png"
       ]
      },
      {
       "output_type": "stream",
       "stream": "stdout",
       "text": [
        "\r",
        "Processing frame-00527.png"
       ]
      },
      {
       "output_type": "stream",
       "stream": "stdout",
       "text": [
        "\r",
        "Processing frame-00528.png"
       ]
      },
      {
       "output_type": "stream",
       "stream": "stdout",
       "text": [
        "\r",
        "Processing frame-00529.png"
       ]
      },
      {
       "output_type": "stream",
       "stream": "stdout",
       "text": [
        "\r",
        "Processing frame-00530.png"
       ]
      },
      {
       "output_type": "stream",
       "stream": "stdout",
       "text": [
        "\r",
        "Processing frame-00531.png"
       ]
      },
      {
       "output_type": "stream",
       "stream": "stdout",
       "text": [
        "\r",
        "Processing frame-00532.png"
       ]
      },
      {
       "output_type": "stream",
       "stream": "stdout",
       "text": [
        "\r",
        "Processing frame-00533.png"
       ]
      },
      {
       "output_type": "stream",
       "stream": "stdout",
       "text": [
        "\r",
        "Processing frame-00534.png"
       ]
      },
      {
       "output_type": "stream",
       "stream": "stdout",
       "text": [
        "\r",
        "Processing frame-00535.png"
       ]
      },
      {
       "output_type": "stream",
       "stream": "stdout",
       "text": [
        "\r",
        "Processing frame-00536.png"
       ]
      },
      {
       "output_type": "stream",
       "stream": "stdout",
       "text": [
        "\r",
        "Processing frame-00537.png"
       ]
      },
      {
       "output_type": "stream",
       "stream": "stdout",
       "text": [
        "\r",
        "Processing frame-00538.png"
       ]
      },
      {
       "output_type": "stream",
       "stream": "stdout",
       "text": [
        "\r",
        "Processing frame-00539.png"
       ]
      },
      {
       "output_type": "stream",
       "stream": "stdout",
       "text": [
        "\r",
        "Processing frame-00540.png"
       ]
      },
      {
       "output_type": "stream",
       "stream": "stdout",
       "text": [
        "\r",
        "Processing frame-00541.png"
       ]
      },
      {
       "output_type": "stream",
       "stream": "stdout",
       "text": [
        "\r",
        "Processing frame-00542.png"
       ]
      },
      {
       "output_type": "stream",
       "stream": "stdout",
       "text": [
        "\r",
        "Processing frame-00543.png"
       ]
      },
      {
       "output_type": "stream",
       "stream": "stdout",
       "text": [
        "\r",
        "Processing frame-00544.png"
       ]
      },
      {
       "output_type": "stream",
       "stream": "stdout",
       "text": [
        "\r",
        "Processing frame-00545.png"
       ]
      },
      {
       "output_type": "stream",
       "stream": "stdout",
       "text": [
        "\r",
        "Processing frame-00546.png"
       ]
      },
      {
       "output_type": "stream",
       "stream": "stdout",
       "text": [
        "\r",
        "Processing frame-00547.png"
       ]
      },
      {
       "output_type": "stream",
       "stream": "stdout",
       "text": [
        "\r",
        "Processing frame-00548.png"
       ]
      },
      {
       "output_type": "stream",
       "stream": "stdout",
       "text": [
        "\r",
        "Processing frame-00549.png"
       ]
      },
      {
       "output_type": "stream",
       "stream": "stdout",
       "text": [
        "\r",
        "Processing frame-00550.png"
       ]
      },
      {
       "output_type": "stream",
       "stream": "stdout",
       "text": [
        "\r",
        "Processing frame-00551.png"
       ]
      },
      {
       "output_type": "stream",
       "stream": "stdout",
       "text": [
        "\r",
        "Processing frame-00552.png"
       ]
      },
      {
       "output_type": "stream",
       "stream": "stdout",
       "text": [
        "\r",
        "Processing frame-00553.png"
       ]
      },
      {
       "output_type": "stream",
       "stream": "stdout",
       "text": [
        "\r",
        "Processing frame-00554.png"
       ]
      },
      {
       "output_type": "stream",
       "stream": "stdout",
       "text": [
        "\r",
        "Processing frame-00555.png"
       ]
      },
      {
       "output_type": "stream",
       "stream": "stdout",
       "text": [
        "\r",
        "Processing frame-00556.png"
       ]
      },
      {
       "output_type": "stream",
       "stream": "stdout",
       "text": [
        "\r",
        "Processing frame-00557.png"
       ]
      },
      {
       "output_type": "stream",
       "stream": "stdout",
       "text": [
        "\r",
        "Processing frame-00558.png"
       ]
      },
      {
       "output_type": "stream",
       "stream": "stdout",
       "text": [
        "\r",
        "Processing frame-00559.png"
       ]
      },
      {
       "output_type": "stream",
       "stream": "stdout",
       "text": [
        "\r",
        "Processing frame-00560.png"
       ]
      },
      {
       "output_type": "stream",
       "stream": "stdout",
       "text": [
        "\r",
        "Processing frame-00561.png"
       ]
      },
      {
       "output_type": "stream",
       "stream": "stdout",
       "text": [
        "\r",
        "Processing frame-00562.png"
       ]
      },
      {
       "output_type": "stream",
       "stream": "stdout",
       "text": [
        "\r",
        "Processing frame-00563.png"
       ]
      },
      {
       "output_type": "stream",
       "stream": "stdout",
       "text": [
        "\r",
        "Processing frame-00564.png"
       ]
      },
      {
       "output_type": "stream",
       "stream": "stdout",
       "text": [
        "\r",
        "Processing frame-00565.png"
       ]
      },
      {
       "output_type": "stream",
       "stream": "stdout",
       "text": [
        "\r",
        "Processing frame-00566.png"
       ]
      },
      {
       "output_type": "stream",
       "stream": "stdout",
       "text": [
        "\r",
        "Processing frame-00567.png"
       ]
      },
      {
       "output_type": "stream",
       "stream": "stdout",
       "text": [
        "\r",
        "Processing frame-00568.png"
       ]
      },
      {
       "output_type": "stream",
       "stream": "stdout",
       "text": [
        "\r",
        "Processing frame-00569.png"
       ]
      },
      {
       "output_type": "stream",
       "stream": "stdout",
       "text": [
        "\r",
        "Processing frame-00570.png"
       ]
      },
      {
       "output_type": "stream",
       "stream": "stdout",
       "text": [
        "\r",
        "Processing frame-00571.png"
       ]
      },
      {
       "output_type": "stream",
       "stream": "stdout",
       "text": [
        "\r",
        "Processing frame-00572.png"
       ]
      },
      {
       "output_type": "stream",
       "stream": "stdout",
       "text": [
        "\r",
        "Processing frame-00573.png"
       ]
      },
      {
       "output_type": "stream",
       "stream": "stdout",
       "text": [
        "\r",
        "Processing frame-00574.png"
       ]
      },
      {
       "output_type": "stream",
       "stream": "stdout",
       "text": [
        "\r",
        "Processing frame-00575.png"
       ]
      },
      {
       "output_type": "stream",
       "stream": "stdout",
       "text": [
        "\r",
        "Processing frame-00576.png"
       ]
      },
      {
       "output_type": "stream",
       "stream": "stdout",
       "text": [
        "\r",
        "Processing frame-00577.png"
       ]
      },
      {
       "output_type": "stream",
       "stream": "stdout",
       "text": [
        "\r",
        "Processing frame-00578.png"
       ]
      },
      {
       "output_type": "stream",
       "stream": "stdout",
       "text": [
        "\r",
        "Processing frame-00579.png"
       ]
      },
      {
       "output_type": "stream",
       "stream": "stdout",
       "text": [
        "\r",
        "Processing frame-00580.png"
       ]
      },
      {
       "output_type": "stream",
       "stream": "stdout",
       "text": [
        "\r",
        "Processing frame-00581.png"
       ]
      },
      {
       "output_type": "stream",
       "stream": "stdout",
       "text": [
        "\r",
        "Processing frame-00582.png"
       ]
      },
      {
       "output_type": "stream",
       "stream": "stdout",
       "text": [
        "\r",
        "Processing frame-00583.png"
       ]
      },
      {
       "output_type": "stream",
       "stream": "stdout",
       "text": [
        "\r",
        "Processing frame-00584.png"
       ]
      },
      {
       "output_type": "stream",
       "stream": "stdout",
       "text": [
        "\r",
        "Processing frame-00585.png"
       ]
      },
      {
       "output_type": "stream",
       "stream": "stdout",
       "text": [
        "\r",
        "Processing frame-00586.png"
       ]
      },
      {
       "output_type": "stream",
       "stream": "stdout",
       "text": [
        "\r",
        "Processing frame-00587.png"
       ]
      },
      {
       "output_type": "stream",
       "stream": "stdout",
       "text": [
        "\r",
        "Processing frame-00588.png"
       ]
      },
      {
       "output_type": "stream",
       "stream": "stdout",
       "text": [
        "\r",
        "Processing frame-00589.png"
       ]
      },
      {
       "output_type": "stream",
       "stream": "stdout",
       "text": [
        "\r",
        "Processing frame-00590.png"
       ]
      },
      {
       "output_type": "stream",
       "stream": "stdout",
       "text": [
        "\r",
        "Processing frame-00591.png"
       ]
      },
      {
       "output_type": "stream",
       "stream": "stdout",
       "text": [
        "\r",
        "Processing frame-00592.png"
       ]
      },
      {
       "output_type": "stream",
       "stream": "stdout",
       "text": [
        "\r",
        "Processing frame-00593.png"
       ]
      },
      {
       "output_type": "stream",
       "stream": "stdout",
       "text": [
        "\r",
        "Processing frame-00594.png"
       ]
      },
      {
       "output_type": "stream",
       "stream": "stdout",
       "text": [
        "\r",
        "Processing frame-00595.png"
       ]
      },
      {
       "output_type": "stream",
       "stream": "stdout",
       "text": [
        "\r",
        "Processing frame-00596.png"
       ]
      },
      {
       "output_type": "stream",
       "stream": "stdout",
       "text": [
        "\r",
        "Processing frame-00597.png"
       ]
      },
      {
       "output_type": "stream",
       "stream": "stdout",
       "text": [
        "\r",
        "Processing frame-00598.png"
       ]
      },
      {
       "output_type": "stream",
       "stream": "stdout",
       "text": [
        "\r",
        "Processing frame-00599.png"
       ]
      },
      {
       "output_type": "stream",
       "stream": "stdout",
       "text": [
        "\r",
        "Processing frame-00600.png"
       ]
      },
      {
       "output_type": "stream",
       "stream": "stdout",
       "text": [
        "\r",
        "Processing frame-00601.png"
       ]
      },
      {
       "output_type": "stream",
       "stream": "stdout",
       "text": [
        "\r",
        "Processing frame-00602.png"
       ]
      },
      {
       "output_type": "stream",
       "stream": "stdout",
       "text": [
        "\r",
        "Processing frame-00603.png"
       ]
      },
      {
       "output_type": "stream",
       "stream": "stdout",
       "text": [
        "\r",
        "Processing frame-00604.png"
       ]
      },
      {
       "output_type": "stream",
       "stream": "stdout",
       "text": [
        "\r",
        "Processing frame-00605.png"
       ]
      },
      {
       "output_type": "stream",
       "stream": "stdout",
       "text": [
        "\r",
        "Processing frame-00606.png"
       ]
      },
      {
       "output_type": "stream",
       "stream": "stdout",
       "text": [
        "\r",
        "Processing frame-00607.png"
       ]
      },
      {
       "output_type": "stream",
       "stream": "stdout",
       "text": [
        "\r",
        "Processing frame-00608.png"
       ]
      },
      {
       "output_type": "stream",
       "stream": "stdout",
       "text": [
        "\r",
        "Processing frame-00609.png"
       ]
      },
      {
       "output_type": "stream",
       "stream": "stdout",
       "text": [
        "\r",
        "Processing frame-00610.png"
       ]
      },
      {
       "output_type": "stream",
       "stream": "stdout",
       "text": [
        "\r",
        "Processing frame-00611.png"
       ]
      },
      {
       "output_type": "stream",
       "stream": "stdout",
       "text": [
        "\r",
        "Processing frame-00612.png"
       ]
      },
      {
       "output_type": "stream",
       "stream": "stdout",
       "text": [
        "\r",
        "Processing frame-00613.png"
       ]
      },
      {
       "output_type": "stream",
       "stream": "stdout",
       "text": [
        "\r",
        "Processing frame-00614.png"
       ]
      },
      {
       "output_type": "stream",
       "stream": "stdout",
       "text": [
        "\r",
        "Processing frame-00615.png"
       ]
      },
      {
       "output_type": "stream",
       "stream": "stdout",
       "text": [
        "\r",
        "Processing frame-00616.png"
       ]
      },
      {
       "output_type": "stream",
       "stream": "stdout",
       "text": [
        "\r",
        "Processing frame-00617.png"
       ]
      },
      {
       "output_type": "stream",
       "stream": "stdout",
       "text": [
        "\r",
        "Processing frame-00618.png"
       ]
      },
      {
       "output_type": "stream",
       "stream": "stdout",
       "text": [
        "\r",
        "Processing frame-00619.png"
       ]
      },
      {
       "output_type": "stream",
       "stream": "stdout",
       "text": [
        "\r",
        "Processing frame-00620.png"
       ]
      },
      {
       "output_type": "stream",
       "stream": "stdout",
       "text": [
        "\r",
        "Processing frame-00621.png"
       ]
      },
      {
       "output_type": "stream",
       "stream": "stdout",
       "text": [
        "\r",
        "Processing frame-00622.png"
       ]
      },
      {
       "output_type": "stream",
       "stream": "stdout",
       "text": [
        "\r",
        "Processing frame-00623.png"
       ]
      },
      {
       "output_type": "stream",
       "stream": "stdout",
       "text": [
        "\r",
        "Processing frame-00624.png"
       ]
      },
      {
       "output_type": "stream",
       "stream": "stdout",
       "text": [
        "\r",
        "Processing frame-00625.png"
       ]
      },
      {
       "output_type": "stream",
       "stream": "stdout",
       "text": [
        "\r",
        "Processing frame-00626.png"
       ]
      },
      {
       "output_type": "stream",
       "stream": "stdout",
       "text": [
        "\r",
        "Processing frame-00627.png"
       ]
      },
      {
       "output_type": "stream",
       "stream": "stdout",
       "text": [
        "\r",
        "Processing frame-00628.png"
       ]
      },
      {
       "output_type": "stream",
       "stream": "stdout",
       "text": [
        "\r",
        "Processing frame-00629.png"
       ]
      },
      {
       "output_type": "stream",
       "stream": "stdout",
       "text": [
        "\r",
        "Processing frame-00630.png"
       ]
      },
      {
       "output_type": "stream",
       "stream": "stdout",
       "text": [
        "\r",
        "Processing frame-00631.png"
       ]
      },
      {
       "output_type": "stream",
       "stream": "stdout",
       "text": [
        "\r",
        "Processing frame-00632.png"
       ]
      },
      {
       "output_type": "stream",
       "stream": "stdout",
       "text": [
        "\r",
        "Processing frame-00633.png"
       ]
      },
      {
       "output_type": "stream",
       "stream": "stdout",
       "text": [
        "\r",
        "Processing frame-00634.png"
       ]
      },
      {
       "output_type": "stream",
       "stream": "stdout",
       "text": [
        "\r",
        "Processing frame-00635.png"
       ]
      },
      {
       "output_type": "stream",
       "stream": "stdout",
       "text": [
        "\r",
        "Processing frame-00636.png"
       ]
      },
      {
       "output_type": "stream",
       "stream": "stdout",
       "text": [
        "\r",
        "Processing frame-00637.png"
       ]
      },
      {
       "output_type": "stream",
       "stream": "stdout",
       "text": [
        "\r",
        "Processing frame-00638.png"
       ]
      },
      {
       "output_type": "stream",
       "stream": "stdout",
       "text": [
        "\r",
        "Processing frame-00639.png"
       ]
      },
      {
       "output_type": "stream",
       "stream": "stdout",
       "text": [
        "\r",
        "Processing frame-00640.png"
       ]
      },
      {
       "output_type": "stream",
       "stream": "stdout",
       "text": [
        "\r",
        "Processing frame-00641.png"
       ]
      },
      {
       "output_type": "stream",
       "stream": "stdout",
       "text": [
        "\r",
        "Processing frame-00642.png"
       ]
      },
      {
       "output_type": "stream",
       "stream": "stdout",
       "text": [
        "\r",
        "Processing frame-00643.png"
       ]
      },
      {
       "output_type": "stream",
       "stream": "stdout",
       "text": [
        "\r",
        "Processing frame-00644.png"
       ]
      },
      {
       "output_type": "stream",
       "stream": "stdout",
       "text": [
        "\r",
        "Processing frame-00645.png"
       ]
      },
      {
       "output_type": "stream",
       "stream": "stdout",
       "text": [
        "\r",
        "Processing frame-00646.png"
       ]
      },
      {
       "output_type": "stream",
       "stream": "stdout",
       "text": [
        "\r",
        "Processing frame-00647.png"
       ]
      },
      {
       "output_type": "stream",
       "stream": "stdout",
       "text": [
        "\r",
        "Processing frame-00648.png"
       ]
      },
      {
       "output_type": "stream",
       "stream": "stdout",
       "text": [
        "\r",
        "Processing frame-00649.png"
       ]
      },
      {
       "output_type": "stream",
       "stream": "stdout",
       "text": [
        "\r",
        "Processing frame-00650.png"
       ]
      },
      {
       "output_type": "stream",
       "stream": "stdout",
       "text": [
        "\r",
        "Processing frame-00651.png"
       ]
      },
      {
       "output_type": "stream",
       "stream": "stdout",
       "text": [
        "\r",
        "Processing frame-00652.png"
       ]
      },
      {
       "output_type": "stream",
       "stream": "stdout",
       "text": [
        "\r",
        "Processing frame-00653.png"
       ]
      },
      {
       "output_type": "stream",
       "stream": "stdout",
       "text": [
        "\r",
        "Processing frame-00654.png"
       ]
      },
      {
       "output_type": "stream",
       "stream": "stdout",
       "text": [
        "\r",
        "Processing frame-00655.png"
       ]
      },
      {
       "output_type": "stream",
       "stream": "stdout",
       "text": [
        "\r",
        "Processing frame-00656.png"
       ]
      },
      {
       "output_type": "stream",
       "stream": "stdout",
       "text": [
        "\r",
        "Processing frame-00657.png"
       ]
      },
      {
       "output_type": "stream",
       "stream": "stdout",
       "text": [
        "\r",
        "Processing frame-00658.png"
       ]
      },
      {
       "output_type": "stream",
       "stream": "stdout",
       "text": [
        "\r",
        "Processing frame-00659.png"
       ]
      },
      {
       "output_type": "stream",
       "stream": "stdout",
       "text": [
        "\r",
        "Processing frame-00660.png"
       ]
      },
      {
       "output_type": "stream",
       "stream": "stdout",
       "text": [
        "\r",
        "Processing frame-00661.png"
       ]
      },
      {
       "output_type": "stream",
       "stream": "stdout",
       "text": [
        "\r",
        "Processing frame-00662.png"
       ]
      },
      {
       "output_type": "stream",
       "stream": "stdout",
       "text": [
        "\r",
        "Processing frame-00663.png"
       ]
      },
      {
       "output_type": "stream",
       "stream": "stdout",
       "text": [
        "\r",
        "Processing frame-00664.png"
       ]
      },
      {
       "output_type": "stream",
       "stream": "stdout",
       "text": [
        "\r",
        "Processing frame-00665.png"
       ]
      },
      {
       "output_type": "stream",
       "stream": "stdout",
       "text": [
        "\r",
        "Processing frame-00666.png"
       ]
      },
      {
       "output_type": "stream",
       "stream": "stdout",
       "text": [
        "\r",
        "Processing frame-00667.png"
       ]
      },
      {
       "output_type": "stream",
       "stream": "stdout",
       "text": [
        "\r",
        "Processing frame-00668.png"
       ]
      },
      {
       "output_type": "stream",
       "stream": "stdout",
       "text": [
        "\r",
        "Processing frame-00669.png"
       ]
      },
      {
       "output_type": "stream",
       "stream": "stdout",
       "text": [
        "\r",
        "Processing frame-00670.png"
       ]
      },
      {
       "output_type": "stream",
       "stream": "stdout",
       "text": [
        "\r",
        "Processing frame-00671.png"
       ]
      },
      {
       "output_type": "stream",
       "stream": "stdout",
       "text": [
        "\r",
        "Processing frame-00672.png"
       ]
      },
      {
       "output_type": "stream",
       "stream": "stdout",
       "text": [
        "\r",
        "Processing frame-00673.png"
       ]
      },
      {
       "output_type": "stream",
       "stream": "stdout",
       "text": [
        "\r",
        "Processing frame-00674.png"
       ]
      },
      {
       "output_type": "stream",
       "stream": "stdout",
       "text": [
        "\r",
        "Processing frame-00675.png"
       ]
      },
      {
       "output_type": "stream",
       "stream": "stdout",
       "text": [
        "\r",
        "Processing frame-00676.png"
       ]
      },
      {
       "output_type": "stream",
       "stream": "stdout",
       "text": [
        "\r",
        "Processing frame-00677.png"
       ]
      },
      {
       "output_type": "stream",
       "stream": "stdout",
       "text": [
        "\r",
        "Processing frame-00678.png"
       ]
      },
      {
       "output_type": "stream",
       "stream": "stdout",
       "text": [
        "\r",
        "Processing frame-00679.png"
       ]
      },
      {
       "output_type": "stream",
       "stream": "stdout",
       "text": [
        "\r",
        "Processing frame-00680.png"
       ]
      },
      {
       "output_type": "stream",
       "stream": "stdout",
       "text": [
        "\r",
        "Processing frame-00681.png"
       ]
      },
      {
       "output_type": "stream",
       "stream": "stdout",
       "text": [
        "\r",
        "Processing frame-00682.png"
       ]
      },
      {
       "output_type": "stream",
       "stream": "stdout",
       "text": [
        "\r",
        "Processing frame-00683.png"
       ]
      },
      {
       "output_type": "stream",
       "stream": "stdout",
       "text": [
        "\r",
        "Processing frame-00684.png"
       ]
      },
      {
       "output_type": "stream",
       "stream": "stdout",
       "text": [
        "\r",
        "Processing frame-00685.png"
       ]
      },
      {
       "output_type": "stream",
       "stream": "stdout",
       "text": [
        "\r",
        "Processing frame-00686.png"
       ]
      },
      {
       "output_type": "stream",
       "stream": "stdout",
       "text": [
        "\r",
        "Processing frame-00687.png"
       ]
      },
      {
       "output_type": "stream",
       "stream": "stdout",
       "text": [
        "\r",
        "Processing frame-00688.png"
       ]
      },
      {
       "output_type": "stream",
       "stream": "stdout",
       "text": [
        "\r",
        "Processing frame-00689.png"
       ]
      },
      {
       "output_type": "stream",
       "stream": "stdout",
       "text": [
        "\r",
        "Processing frame-00690.png"
       ]
      },
      {
       "output_type": "stream",
       "stream": "stdout",
       "text": [
        "\r",
        "Processing frame-00691.png"
       ]
      },
      {
       "output_type": "stream",
       "stream": "stdout",
       "text": [
        "\r",
        "Processing frame-00692.png"
       ]
      },
      {
       "output_type": "stream",
       "stream": "stdout",
       "text": [
        "\r",
        "Processing frame-00693.png"
       ]
      },
      {
       "output_type": "stream",
       "stream": "stdout",
       "text": [
        "\r",
        "Processing frame-00694.png"
       ]
      },
      {
       "output_type": "stream",
       "stream": "stdout",
       "text": [
        "\r",
        "Processing frame-00695.png"
       ]
      },
      {
       "output_type": "stream",
       "stream": "stdout",
       "text": [
        "\r",
        "Processing frame-00696.png"
       ]
      },
      {
       "output_type": "stream",
       "stream": "stdout",
       "text": [
        "\r",
        "Processing frame-00697.png"
       ]
      },
      {
       "output_type": "stream",
       "stream": "stdout",
       "text": [
        "\r",
        "Processing frame-00698.png"
       ]
      },
      {
       "output_type": "stream",
       "stream": "stdout",
       "text": [
        "\r",
        "Processing frame-00699.png"
       ]
      },
      {
       "output_type": "stream",
       "stream": "stdout",
       "text": [
        "\r",
        "Processing frame-00700.png"
       ]
      },
      {
       "output_type": "stream",
       "stream": "stdout",
       "text": [
        "\r",
        "Processing frame-00701.png"
       ]
      },
      {
       "output_type": "stream",
       "stream": "stdout",
       "text": [
        "\r",
        "Processing frame-00702.png"
       ]
      },
      {
       "output_type": "stream",
       "stream": "stdout",
       "text": [
        "\r",
        "Processing frame-00703.png"
       ]
      },
      {
       "output_type": "stream",
       "stream": "stdout",
       "text": [
        "\r",
        "Processing frame-00704.png"
       ]
      },
      {
       "output_type": "stream",
       "stream": "stdout",
       "text": [
        "\r",
        "Processing frame-00705.png"
       ]
      },
      {
       "output_type": "stream",
       "stream": "stdout",
       "text": [
        "\r",
        "Processing frame-00706.png"
       ]
      },
      {
       "output_type": "stream",
       "stream": "stdout",
       "text": [
        "\r",
        "Processing frame-00707.png"
       ]
      },
      {
       "output_type": "stream",
       "stream": "stdout",
       "text": [
        "\r",
        "Processing frame-00708.png"
       ]
      },
      {
       "output_type": "stream",
       "stream": "stdout",
       "text": [
        "\r",
        "Processing frame-00709.png"
       ]
      },
      {
       "output_type": "stream",
       "stream": "stdout",
       "text": [
        "\r",
        "Processing frame-00710.png"
       ]
      },
      {
       "output_type": "stream",
       "stream": "stdout",
       "text": [
        "\r",
        "Processing frame-00711.png"
       ]
      },
      {
       "output_type": "stream",
       "stream": "stdout",
       "text": [
        "\r",
        "Processing frame-00712.png"
       ]
      },
      {
       "output_type": "stream",
       "stream": "stdout",
       "text": [
        "\r",
        "Processing frame-00713.png"
       ]
      },
      {
       "output_type": "stream",
       "stream": "stdout",
       "text": [
        "\r",
        "Processing frame-00714.png"
       ]
      },
      {
       "output_type": "stream",
       "stream": "stdout",
       "text": [
        "\r",
        "Processing frame-00715.png"
       ]
      },
      {
       "output_type": "stream",
       "stream": "stdout",
       "text": [
        "\r",
        "Processing frame-00716.png"
       ]
      },
      {
       "output_type": "stream",
       "stream": "stdout",
       "text": [
        "\r",
        "Processing frame-00717.png"
       ]
      },
      {
       "output_type": "stream",
       "stream": "stdout",
       "text": [
        "\r",
        "Processing frame-00718.png"
       ]
      },
      {
       "output_type": "stream",
       "stream": "stdout",
       "text": [
        "\r",
        "Processing frame-00719.png"
       ]
      },
      {
       "output_type": "stream",
       "stream": "stdout",
       "text": [
        "\r",
        "Processing frame-00720.png"
       ]
      },
      {
       "output_type": "stream",
       "stream": "stdout",
       "text": [
        "\r",
        "Processing frame-00721.png"
       ]
      },
      {
       "output_type": "stream",
       "stream": "stdout",
       "text": [
        "\r",
        "Processing frame-00722.png"
       ]
      },
      {
       "output_type": "stream",
       "stream": "stdout",
       "text": [
        "\r",
        "Processing frame-00723.png"
       ]
      },
      {
       "output_type": "stream",
       "stream": "stdout",
       "text": [
        "\r",
        "Processing frame-00724.png"
       ]
      },
      {
       "output_type": "stream",
       "stream": "stdout",
       "text": [
        "\r",
        "Processing frame-00725.png"
       ]
      },
      {
       "output_type": "stream",
       "stream": "stdout",
       "text": [
        "\r",
        "Processing frame-00726.png"
       ]
      },
      {
       "output_type": "stream",
       "stream": "stdout",
       "text": [
        "\r",
        "Processing frame-00727.png"
       ]
      },
      {
       "output_type": "stream",
       "stream": "stdout",
       "text": [
        "\r",
        "Processing frame-00728.png"
       ]
      },
      {
       "output_type": "stream",
       "stream": "stdout",
       "text": [
        "\r",
        "Processing frame-00729.png"
       ]
      },
      {
       "output_type": "stream",
       "stream": "stdout",
       "text": [
        "\r",
        "Processing frame-00730.png"
       ]
      },
      {
       "output_type": "stream",
       "stream": "stdout",
       "text": [
        "\r",
        "Processing frame-00731.png"
       ]
      },
      {
       "output_type": "stream",
       "stream": "stdout",
       "text": [
        "\r",
        "Processing frame-00732.png"
       ]
      },
      {
       "output_type": "stream",
       "stream": "stdout",
       "text": [
        "\r",
        "Processing frame-00733.png"
       ]
      },
      {
       "output_type": "stream",
       "stream": "stdout",
       "text": [
        "\r",
        "Processing frame-00734.png"
       ]
      },
      {
       "output_type": "stream",
       "stream": "stdout",
       "text": [
        "\r",
        "Processing frame-00735.png"
       ]
      },
      {
       "output_type": "stream",
       "stream": "stdout",
       "text": [
        "\r",
        "Processing frame-00736.png"
       ]
      },
      {
       "output_type": "stream",
       "stream": "stdout",
       "text": [
        "\r",
        "Processing frame-00737.png"
       ]
      },
      {
       "output_type": "stream",
       "stream": "stdout",
       "text": [
        "\r",
        "Processing frame-00738.png"
       ]
      },
      {
       "output_type": "stream",
       "stream": "stdout",
       "text": [
        "\r",
        "Processing frame-00739.png"
       ]
      },
      {
       "output_type": "stream",
       "stream": "stdout",
       "text": [
        "\r",
        "Processing frame-00740.png"
       ]
      },
      {
       "output_type": "stream",
       "stream": "stdout",
       "text": [
        "\r",
        "Processing frame-00741.png"
       ]
      },
      {
       "output_type": "stream",
       "stream": "stdout",
       "text": [
        "\r",
        "Processing frame-00742.png"
       ]
      },
      {
       "output_type": "stream",
       "stream": "stdout",
       "text": [
        "\r",
        "Processing frame-00743.png"
       ]
      },
      {
       "output_type": "stream",
       "stream": "stdout",
       "text": [
        "\r",
        "Processing frame-00744.png"
       ]
      },
      {
       "output_type": "stream",
       "stream": "stdout",
       "text": [
        "\r",
        "Processing frame-00745.png"
       ]
      },
      {
       "output_type": "stream",
       "stream": "stdout",
       "text": [
        "\r",
        "Processing frame-00746.png"
       ]
      },
      {
       "output_type": "stream",
       "stream": "stdout",
       "text": [
        "\r",
        "Processing frame-00747.png"
       ]
      },
      {
       "output_type": "stream",
       "stream": "stdout",
       "text": [
        "\r",
        "Processing frame-00748.png"
       ]
      },
      {
       "output_type": "stream",
       "stream": "stdout",
       "text": [
        "\r",
        "Processing frame-00749.png"
       ]
      },
      {
       "output_type": "stream",
       "stream": "stdout",
       "text": [
        "\r",
        "Processing frame-00750.png"
       ]
      },
      {
       "output_type": "stream",
       "stream": "stdout",
       "text": [
        "\r",
        "Processing frame-00751.png"
       ]
      },
      {
       "output_type": "stream",
       "stream": "stdout",
       "text": [
        "\r",
        "Processing frame-00752.png"
       ]
      },
      {
       "output_type": "stream",
       "stream": "stdout",
       "text": [
        "\r",
        "Processing frame-00753.png"
       ]
      },
      {
       "output_type": "stream",
       "stream": "stdout",
       "text": [
        "\r",
        "Processing frame-00754.png"
       ]
      },
      {
       "output_type": "stream",
       "stream": "stdout",
       "text": [
        "\r",
        "Processing frame-00755.png"
       ]
      },
      {
       "output_type": "stream",
       "stream": "stdout",
       "text": [
        "\r",
        "Processing frame-00756.png"
       ]
      },
      {
       "output_type": "stream",
       "stream": "stdout",
       "text": [
        "\r",
        "Processing frame-00757.png"
       ]
      },
      {
       "output_type": "stream",
       "stream": "stdout",
       "text": [
        "\r",
        "Processing frame-00758.png"
       ]
      },
      {
       "output_type": "stream",
       "stream": "stdout",
       "text": [
        "\r",
        "Processing frame-00759.png"
       ]
      },
      {
       "output_type": "stream",
       "stream": "stdout",
       "text": [
        "\r",
        "Processing frame-00760.png"
       ]
      },
      {
       "output_type": "stream",
       "stream": "stdout",
       "text": [
        "\r",
        "Processing frame-00761.png"
       ]
      },
      {
       "output_type": "stream",
       "stream": "stdout",
       "text": [
        "\r",
        "Processing frame-00762.png"
       ]
      },
      {
       "output_type": "stream",
       "stream": "stdout",
       "text": [
        "\r",
        "Processing frame-00763.png"
       ]
      },
      {
       "output_type": "stream",
       "stream": "stdout",
       "text": [
        "\r",
        "Processing frame-00764.png"
       ]
      },
      {
       "output_type": "stream",
       "stream": "stdout",
       "text": [
        "\r",
        "Processing frame-00765.png"
       ]
      },
      {
       "output_type": "stream",
       "stream": "stdout",
       "text": [
        "\r",
        "Processing frame-00766.png"
       ]
      },
      {
       "output_type": "stream",
       "stream": "stdout",
       "text": [
        "\r",
        "Processing frame-00767.png"
       ]
      },
      {
       "output_type": "stream",
       "stream": "stdout",
       "text": [
        "\r",
        "Processing frame-00768.png"
       ]
      },
      {
       "output_type": "stream",
       "stream": "stdout",
       "text": [
        "\r",
        "Processing frame-00769.png"
       ]
      },
      {
       "output_type": "stream",
       "stream": "stdout",
       "text": [
        "\r",
        "Processing frame-00770.png"
       ]
      },
      {
       "output_type": "stream",
       "stream": "stdout",
       "text": [
        "\r",
        "Processing frame-00771.png"
       ]
      },
      {
       "output_type": "stream",
       "stream": "stdout",
       "text": [
        "\r",
        "Processing frame-00772.png"
       ]
      },
      {
       "output_type": "stream",
       "stream": "stdout",
       "text": [
        "\r",
        "Processing frame-00773.png"
       ]
      },
      {
       "output_type": "stream",
       "stream": "stdout",
       "text": [
        "\r",
        "Processing frame-00774.png"
       ]
      },
      {
       "output_type": "stream",
       "stream": "stdout",
       "text": [
        "\r",
        "Processing frame-00775.png"
       ]
      },
      {
       "output_type": "stream",
       "stream": "stdout",
       "text": [
        "\r",
        "Processing frame-00776.png"
       ]
      },
      {
       "output_type": "stream",
       "stream": "stdout",
       "text": [
        "\r",
        "Processing frame-00777.png"
       ]
      },
      {
       "output_type": "stream",
       "stream": "stdout",
       "text": [
        "\r",
        "Processing frame-00778.png"
       ]
      },
      {
       "output_type": "stream",
       "stream": "stdout",
       "text": [
        "\r",
        "Processing frame-00779.png"
       ]
      },
      {
       "output_type": "stream",
       "stream": "stdout",
       "text": [
        "\r",
        "Processing frame-00780.png"
       ]
      },
      {
       "output_type": "stream",
       "stream": "stdout",
       "text": [
        "\r",
        "Processing frame-00781.png"
       ]
      },
      {
       "output_type": "stream",
       "stream": "stdout",
       "text": [
        "\r",
        "Processing frame-00782.png"
       ]
      },
      {
       "output_type": "stream",
       "stream": "stdout",
       "text": [
        "\r",
        "Processing frame-00783.png"
       ]
      },
      {
       "output_type": "stream",
       "stream": "stdout",
       "text": [
        "\r",
        "Processing frame-00784.png"
       ]
      },
      {
       "output_type": "stream",
       "stream": "stdout",
       "text": [
        "\r",
        "Processing frame-00785.png"
       ]
      },
      {
       "output_type": "stream",
       "stream": "stdout",
       "text": [
        "\r",
        "Processing frame-00786.png"
       ]
      },
      {
       "output_type": "stream",
       "stream": "stdout",
       "text": [
        "\r",
        "Processing frame-00787.png"
       ]
      },
      {
       "output_type": "stream",
       "stream": "stdout",
       "text": [
        "\r",
        "Processing frame-00788.png"
       ]
      },
      {
       "output_type": "stream",
       "stream": "stdout",
       "text": [
        "\r",
        "Processing frame-00789.png"
       ]
      },
      {
       "output_type": "stream",
       "stream": "stdout",
       "text": [
        "\r",
        "Processing frame-00790.png"
       ]
      },
      {
       "output_type": "stream",
       "stream": "stdout",
       "text": [
        "\r",
        "Processing frame-00791.png"
       ]
      },
      {
       "output_type": "stream",
       "stream": "stdout",
       "text": [
        "\r",
        "Processing frame-00792.png"
       ]
      },
      {
       "output_type": "stream",
       "stream": "stdout",
       "text": [
        "\r",
        "Processing frame-00793.png"
       ]
      },
      {
       "output_type": "stream",
       "stream": "stdout",
       "text": [
        "\r",
        "Processing frame-00794.png"
       ]
      },
      {
       "output_type": "stream",
       "stream": "stdout",
       "text": [
        "\r",
        "Processing frame-00795.png"
       ]
      },
      {
       "output_type": "stream",
       "stream": "stdout",
       "text": [
        "\r",
        "Processing frame-00796.png"
       ]
      },
      {
       "output_type": "stream",
       "stream": "stdout",
       "text": [
        "\r",
        "Processing frame-00797.png"
       ]
      },
      {
       "output_type": "stream",
       "stream": "stdout",
       "text": [
        "\r",
        "Processing frame-00798.png"
       ]
      },
      {
       "output_type": "stream",
       "stream": "stdout",
       "text": [
        "\r",
        "Processing frame-00799.png"
       ]
      },
      {
       "output_type": "stream",
       "stream": "stdout",
       "text": [
        "\r",
        "Processing frame-00800.png"
       ]
      },
      {
       "output_type": "stream",
       "stream": "stdout",
       "text": [
        "\r",
        "Processing frame-00801.png"
       ]
      },
      {
       "output_type": "stream",
       "stream": "stdout",
       "text": [
        "\r",
        "Processing frame-00802.png"
       ]
      },
      {
       "output_type": "stream",
       "stream": "stdout",
       "text": [
        "\r",
        "Processing frame-00803.png"
       ]
      },
      {
       "output_type": "stream",
       "stream": "stdout",
       "text": [
        "\r",
        "Processing frame-00804.png"
       ]
      },
      {
       "output_type": "stream",
       "stream": "stdout",
       "text": [
        "\r",
        "Processing frame-00805.png"
       ]
      },
      {
       "output_type": "stream",
       "stream": "stdout",
       "text": [
        "\r",
        "Processing frame-00806.png"
       ]
      },
      {
       "output_type": "stream",
       "stream": "stdout",
       "text": [
        "\r",
        "Processing frame-00807.png"
       ]
      },
      {
       "output_type": "stream",
       "stream": "stdout",
       "text": [
        "\r",
        "Processing frame-00808.png"
       ]
      },
      {
       "output_type": "stream",
       "stream": "stdout",
       "text": [
        "\r",
        "Processing frame-00809.png"
       ]
      },
      {
       "output_type": "stream",
       "stream": "stdout",
       "text": [
        "\r",
        "Processing frame-00810.png"
       ]
      },
      {
       "output_type": "stream",
       "stream": "stdout",
       "text": [
        "\r",
        "Processing frame-00811.png"
       ]
      },
      {
       "output_type": "stream",
       "stream": "stdout",
       "text": [
        "\r",
        "Processing frame-00812.png"
       ]
      },
      {
       "output_type": "stream",
       "stream": "stdout",
       "text": [
        "\r",
        "Processing frame-00813.png"
       ]
      },
      {
       "output_type": "stream",
       "stream": "stdout",
       "text": [
        "\r",
        "Processing frame-00814.png"
       ]
      },
      {
       "output_type": "stream",
       "stream": "stdout",
       "text": [
        "\r",
        "Processing frame-00815.png"
       ]
      },
      {
       "output_type": "stream",
       "stream": "stdout",
       "text": [
        "\r",
        "Processing frame-00816.png"
       ]
      },
      {
       "output_type": "stream",
       "stream": "stdout",
       "text": [
        "\r",
        "Processing frame-00817.png"
       ]
      },
      {
       "output_type": "stream",
       "stream": "stdout",
       "text": [
        "\r",
        "Processing frame-00818.png"
       ]
      },
      {
       "output_type": "stream",
       "stream": "stdout",
       "text": [
        "\r",
        "Processing frame-00819.png"
       ]
      },
      {
       "output_type": "stream",
       "stream": "stdout",
       "text": [
        "\r",
        "Processing frame-00820.png"
       ]
      },
      {
       "output_type": "stream",
       "stream": "stdout",
       "text": [
        "\r",
        "Processing frame-00821.png"
       ]
      },
      {
       "output_type": "stream",
       "stream": "stdout",
       "text": [
        "\r",
        "Processing frame-00822.png"
       ]
      },
      {
       "output_type": "stream",
       "stream": "stdout",
       "text": [
        "\r",
        "Processing frame-00823.png"
       ]
      },
      {
       "output_type": "stream",
       "stream": "stdout",
       "text": [
        "\r",
        "Processing frame-00824.png"
       ]
      },
      {
       "output_type": "stream",
       "stream": "stdout",
       "text": [
        "\r",
        "Processing frame-00825.png"
       ]
      },
      {
       "output_type": "stream",
       "stream": "stdout",
       "text": [
        "\r",
        "Processing frame-00826.png"
       ]
      },
      {
       "output_type": "stream",
       "stream": "stdout",
       "text": [
        "\r",
        "Processing frame-00827.png"
       ]
      },
      {
       "output_type": "stream",
       "stream": "stdout",
       "text": [
        "\r",
        "Processing frame-00828.png"
       ]
      },
      {
       "output_type": "stream",
       "stream": "stdout",
       "text": [
        "\r",
        "Processing frame-00829.png"
       ]
      },
      {
       "output_type": "stream",
       "stream": "stdout",
       "text": [
        "\r",
        "Processing frame-00830.png"
       ]
      },
      {
       "output_type": "stream",
       "stream": "stdout",
       "text": [
        "\r",
        "Processing frame-00831.png"
       ]
      },
      {
       "output_type": "stream",
       "stream": "stdout",
       "text": [
        "\r",
        "Processing frame-00832.png"
       ]
      },
      {
       "output_type": "stream",
       "stream": "stdout",
       "text": [
        "\r",
        "Processing frame-00833.png"
       ]
      },
      {
       "output_type": "stream",
       "stream": "stdout",
       "text": [
        "\r",
        "Processing frame-00834.png"
       ]
      },
      {
       "output_type": "stream",
       "stream": "stdout",
       "text": [
        "\r",
        "Processing frame-00835.png"
       ]
      },
      {
       "output_type": "stream",
       "stream": "stdout",
       "text": [
        "\r",
        "Processing frame-00836.png"
       ]
      },
      {
       "output_type": "stream",
       "stream": "stdout",
       "text": [
        "\r",
        "Processing frame-00837.png"
       ]
      },
      {
       "output_type": "stream",
       "stream": "stdout",
       "text": [
        "\r",
        "Processing frame-00838.png"
       ]
      },
      {
       "output_type": "stream",
       "stream": "stdout",
       "text": [
        "\r",
        "Processing frame-00839.png"
       ]
      },
      {
       "output_type": "stream",
       "stream": "stdout",
       "text": [
        "\r",
        "Processing frame-00840.png"
       ]
      },
      {
       "output_type": "stream",
       "stream": "stdout",
       "text": [
        "\r",
        "Processing frame-00841.png"
       ]
      },
      {
       "output_type": "stream",
       "stream": "stdout",
       "text": [
        "\r",
        "Processing frame-00842.png"
       ]
      },
      {
       "output_type": "stream",
       "stream": "stdout",
       "text": [
        "\r",
        "Processing frame-00843.png"
       ]
      },
      {
       "output_type": "stream",
       "stream": "stdout",
       "text": [
        "\r",
        "Processing frame-00844.png"
       ]
      },
      {
       "output_type": "stream",
       "stream": "stdout",
       "text": [
        "\r",
        "Processing frame-00845.png"
       ]
      },
      {
       "output_type": "stream",
       "stream": "stdout",
       "text": [
        "\r",
        "Processing frame-00846.png"
       ]
      },
      {
       "output_type": "stream",
       "stream": "stdout",
       "text": [
        "\r",
        "Processing frame-00847.png"
       ]
      },
      {
       "output_type": "stream",
       "stream": "stdout",
       "text": [
        "\r",
        "Processing frame-00848.png"
       ]
      },
      {
       "output_type": "stream",
       "stream": "stdout",
       "text": [
        "\r",
        "Processing frame-00849.png"
       ]
      },
      {
       "output_type": "stream",
       "stream": "stdout",
       "text": [
        "\r",
        "Processing frame-00850.png"
       ]
      },
      {
       "output_type": "stream",
       "stream": "stdout",
       "text": [
        "\r",
        "Processing frame-00851.png"
       ]
      },
      {
       "output_type": "stream",
       "stream": "stdout",
       "text": [
        "\r",
        "Processing frame-00852.png"
       ]
      },
      {
       "output_type": "stream",
       "stream": "stdout",
       "text": [
        "\r",
        "Processing frame-00853.png"
       ]
      },
      {
       "output_type": "stream",
       "stream": "stdout",
       "text": [
        "\r",
        "Processing frame-00854.png"
       ]
      },
      {
       "output_type": "stream",
       "stream": "stdout",
       "text": [
        "\r",
        "Processing frame-00855.png"
       ]
      },
      {
       "output_type": "stream",
       "stream": "stdout",
       "text": [
        "\r",
        "Processing frame-00856.png"
       ]
      },
      {
       "output_type": "stream",
       "stream": "stdout",
       "text": [
        "\r",
        "Processing frame-00857.png"
       ]
      },
      {
       "output_type": "stream",
       "stream": "stdout",
       "text": [
        "\r",
        "Processing frame-00858.png"
       ]
      },
      {
       "output_type": "stream",
       "stream": "stdout",
       "text": [
        "\r",
        "Processing frame-00859.png"
       ]
      },
      {
       "output_type": "stream",
       "stream": "stdout",
       "text": [
        "\r",
        "Processing frame-00860.png"
       ]
      },
      {
       "output_type": "stream",
       "stream": "stdout",
       "text": [
        "\r",
        "Processing frame-00861.png"
       ]
      },
      {
       "output_type": "stream",
       "stream": "stdout",
       "text": [
        "\r",
        "Processing frame-00862.png"
       ]
      },
      {
       "output_type": "stream",
       "stream": "stdout",
       "text": [
        "\r",
        "Processing frame-00863.png"
       ]
      },
      {
       "output_type": "stream",
       "stream": "stdout",
       "text": [
        "\r",
        "Processing frame-00864.png"
       ]
      },
      {
       "output_type": "stream",
       "stream": "stdout",
       "text": [
        "\r",
        "Processing frame-00865.png"
       ]
      },
      {
       "output_type": "stream",
       "stream": "stdout",
       "text": [
        "\r",
        "Processing frame-00866.png"
       ]
      },
      {
       "output_type": "stream",
       "stream": "stdout",
       "text": [
        "\r",
        "Processing frame-00867.png"
       ]
      },
      {
       "output_type": "stream",
       "stream": "stdout",
       "text": [
        "\r",
        "Processing frame-00868.png"
       ]
      },
      {
       "output_type": "stream",
       "stream": "stdout",
       "text": [
        "\r",
        "Processing frame-00869.png"
       ]
      },
      {
       "output_type": "stream",
       "stream": "stdout",
       "text": [
        "\r",
        "Processing frame-00870.png"
       ]
      },
      {
       "output_type": "stream",
       "stream": "stdout",
       "text": [
        "\r",
        "Processing frame-00871.png"
       ]
      },
      {
       "output_type": "stream",
       "stream": "stdout",
       "text": [
        "\r",
        "Processing frame-00872.png"
       ]
      },
      {
       "output_type": "stream",
       "stream": "stdout",
       "text": [
        "\r",
        "Processing frame-00873.png"
       ]
      },
      {
       "output_type": "stream",
       "stream": "stdout",
       "text": [
        "\r",
        "Processing frame-00874.png"
       ]
      },
      {
       "output_type": "stream",
       "stream": "stdout",
       "text": [
        "\r",
        "Processing frame-00875.png"
       ]
      },
      {
       "output_type": "stream",
       "stream": "stdout",
       "text": [
        "\r",
        "Processing frame-00876.png"
       ]
      },
      {
       "output_type": "stream",
       "stream": "stdout",
       "text": [
        "\r",
        "Processing frame-00877.png"
       ]
      },
      {
       "output_type": "stream",
       "stream": "stdout",
       "text": [
        "\r",
        "Processing frame-00878.png"
       ]
      },
      {
       "output_type": "stream",
       "stream": "stdout",
       "text": [
        "\r",
        "Processing frame-00879.png"
       ]
      },
      {
       "output_type": "stream",
       "stream": "stdout",
       "text": [
        "\r",
        "Processing frame-00880.png"
       ]
      },
      {
       "output_type": "stream",
       "stream": "stdout",
       "text": [
        "\r",
        "Processing frame-00881.png"
       ]
      },
      {
       "output_type": "stream",
       "stream": "stdout",
       "text": [
        "\r",
        "Processing frame-00882.png"
       ]
      },
      {
       "output_type": "stream",
       "stream": "stdout",
       "text": [
        "\r",
        "Processing frame-00883.png"
       ]
      },
      {
       "output_type": "stream",
       "stream": "stdout",
       "text": [
        "\r",
        "Processing frame-00884.png"
       ]
      },
      {
       "output_type": "stream",
       "stream": "stdout",
       "text": [
        "\r",
        "Processing frame-00885.png"
       ]
      },
      {
       "output_type": "stream",
       "stream": "stdout",
       "text": [
        "\r",
        "Processing frame-00886.png"
       ]
      },
      {
       "output_type": "stream",
       "stream": "stdout",
       "text": [
        "\r",
        "Processing frame-00887.png"
       ]
      },
      {
       "output_type": "stream",
       "stream": "stdout",
       "text": [
        "\r",
        "Processing frame-00888.png"
       ]
      },
      {
       "output_type": "stream",
       "stream": "stdout",
       "text": [
        "\r",
        "Processing frame-00889.png"
       ]
      },
      {
       "output_type": "stream",
       "stream": "stdout",
       "text": [
        "\r",
        "Processing frame-00890.png"
       ]
      },
      {
       "output_type": "stream",
       "stream": "stdout",
       "text": [
        "\r",
        "Processing frame-00891.png"
       ]
      },
      {
       "output_type": "stream",
       "stream": "stdout",
       "text": [
        "\r",
        "Processing frame-00892.png"
       ]
      },
      {
       "output_type": "stream",
       "stream": "stdout",
       "text": [
        "\r",
        "Processing frame-00893.png"
       ]
      },
      {
       "output_type": "stream",
       "stream": "stdout",
       "text": [
        "\r",
        "Processing frame-00894.png"
       ]
      },
      {
       "output_type": "stream",
       "stream": "stdout",
       "text": [
        "\r",
        "Processing frame-00895.png"
       ]
      },
      {
       "output_type": "stream",
       "stream": "stdout",
       "text": [
        "\r",
        "Processing frame-00896.png"
       ]
      },
      {
       "output_type": "stream",
       "stream": "stdout",
       "text": [
        "\r",
        "Processing frame-00897.png"
       ]
      },
      {
       "output_type": "stream",
       "stream": "stdout",
       "text": [
        "\r",
        "Processing frame-00898.png"
       ]
      },
      {
       "output_type": "stream",
       "stream": "stdout",
       "text": [
        "\r",
        "Processing frame-00899.png"
       ]
      },
      {
       "output_type": "stream",
       "stream": "stdout",
       "text": [
        "\r",
        "Processing frame-00900.png"
       ]
      },
      {
       "output_type": "stream",
       "stream": "stdout",
       "text": [
        "\r",
        "Processing frame-00901.png"
       ]
      },
      {
       "output_type": "stream",
       "stream": "stdout",
       "text": [
        "\r",
        "Processing frame-00902.png"
       ]
      },
      {
       "output_type": "stream",
       "stream": "stdout",
       "text": [
        "\r",
        "Processing frame-00903.png"
       ]
      },
      {
       "output_type": "stream",
       "stream": "stdout",
       "text": [
        "\r",
        "Processing frame-00904.png"
       ]
      },
      {
       "output_type": "stream",
       "stream": "stdout",
       "text": [
        "\r",
        "Processing frame-00905.png"
       ]
      },
      {
       "output_type": "stream",
       "stream": "stdout",
       "text": [
        "\r",
        "Processing frame-00906.png"
       ]
      },
      {
       "output_type": "stream",
       "stream": "stdout",
       "text": [
        "\r",
        "Processing frame-00907.png"
       ]
      },
      {
       "output_type": "stream",
       "stream": "stdout",
       "text": [
        "\r",
        "Processing frame-00908.png"
       ]
      },
      {
       "output_type": "stream",
       "stream": "stdout",
       "text": [
        "\r",
        "Processing frame-00909.png"
       ]
      },
      {
       "output_type": "stream",
       "stream": "stdout",
       "text": [
        "\r",
        "Processing frame-00910.png"
       ]
      },
      {
       "output_type": "stream",
       "stream": "stdout",
       "text": [
        "\r",
        "Processing frame-00911.png"
       ]
      },
      {
       "output_type": "stream",
       "stream": "stdout",
       "text": [
        "\r",
        "Processing frame-00912.png"
       ]
      },
      {
       "output_type": "stream",
       "stream": "stdout",
       "text": [
        "\r",
        "Processing frame-00913.png"
       ]
      },
      {
       "output_type": "stream",
       "stream": "stdout",
       "text": [
        "\r",
        "Processing frame-00914.png"
       ]
      },
      {
       "output_type": "stream",
       "stream": "stdout",
       "text": [
        "\r",
        "Processing frame-00915.png"
       ]
      },
      {
       "output_type": "stream",
       "stream": "stdout",
       "text": [
        "\r",
        "Processing frame-00916.png"
       ]
      },
      {
       "output_type": "stream",
       "stream": "stdout",
       "text": [
        "\r",
        "Processing frame-00917.png"
       ]
      },
      {
       "output_type": "stream",
       "stream": "stdout",
       "text": [
        "\r",
        "Processing frame-00918.png"
       ]
      },
      {
       "output_type": "stream",
       "stream": "stdout",
       "text": [
        "\r",
        "Processing frame-00919.png"
       ]
      },
      {
       "output_type": "stream",
       "stream": "stdout",
       "text": [
        "\r",
        "Processing frame-00920.png"
       ]
      },
      {
       "output_type": "stream",
       "stream": "stdout",
       "text": [
        "\r",
        "Processing frame-00921.png"
       ]
      },
      {
       "output_type": "stream",
       "stream": "stdout",
       "text": [
        "\r",
        "Processing frame-00922.png"
       ]
      },
      {
       "output_type": "stream",
       "stream": "stdout",
       "text": [
        "\r",
        "Processing frame-00923.png"
       ]
      },
      {
       "output_type": "stream",
       "stream": "stdout",
       "text": [
        "\r",
        "Processing frame-00924.png"
       ]
      },
      {
       "output_type": "stream",
       "stream": "stdout",
       "text": [
        "\r",
        "Processing frame-00925.png"
       ]
      },
      {
       "output_type": "stream",
       "stream": "stdout",
       "text": [
        "\r",
        "Processing frame-00926.png"
       ]
      },
      {
       "output_type": "stream",
       "stream": "stdout",
       "text": [
        "\r",
        "Processing frame-00927.png"
       ]
      },
      {
       "output_type": "stream",
       "stream": "stdout",
       "text": [
        "\r",
        "Processing frame-00928.png"
       ]
      },
      {
       "output_type": "stream",
       "stream": "stdout",
       "text": [
        "\r",
        "Processing frame-00929.png"
       ]
      },
      {
       "output_type": "stream",
       "stream": "stdout",
       "text": [
        "\r",
        "Processing frame-00930.png"
       ]
      },
      {
       "output_type": "stream",
       "stream": "stdout",
       "text": [
        "\r",
        "Processing frame-00931.png"
       ]
      },
      {
       "output_type": "stream",
       "stream": "stdout",
       "text": [
        "\r",
        "Processing frame-00932.png"
       ]
      },
      {
       "output_type": "stream",
       "stream": "stdout",
       "text": [
        "\r",
        "Processing frame-00933.png"
       ]
      },
      {
       "output_type": "stream",
       "stream": "stdout",
       "text": [
        "\r",
        "Processing frame-00934.png"
       ]
      },
      {
       "output_type": "stream",
       "stream": "stdout",
       "text": [
        "\r",
        "Processing frame-00935.png"
       ]
      },
      {
       "output_type": "stream",
       "stream": "stdout",
       "text": [
        "\r",
        "Processing frame-00936.png"
       ]
      },
      {
       "output_type": "stream",
       "stream": "stdout",
       "text": [
        "\r",
        "Processing frame-00937.png"
       ]
      },
      {
       "output_type": "stream",
       "stream": "stdout",
       "text": [
        "\r",
        "Processing frame-00938.png"
       ]
      },
      {
       "output_type": "stream",
       "stream": "stdout",
       "text": [
        "\r",
        "Processing frame-00939.png"
       ]
      },
      {
       "output_type": "stream",
       "stream": "stdout",
       "text": [
        "\r",
        "Processing frame-00940.png"
       ]
      },
      {
       "output_type": "stream",
       "stream": "stdout",
       "text": [
        "\r",
        "Processing frame-00941.png"
       ]
      },
      {
       "output_type": "stream",
       "stream": "stdout",
       "text": [
        "\r",
        "Processing frame-00942.png"
       ]
      },
      {
       "output_type": "stream",
       "stream": "stdout",
       "text": [
        "\r",
        "Processing frame-00943.png"
       ]
      },
      {
       "output_type": "stream",
       "stream": "stdout",
       "text": [
        "\r",
        "Processing frame-00944.png"
       ]
      },
      {
       "output_type": "stream",
       "stream": "stdout",
       "text": [
        "\r",
        "Processing frame-00945.png"
       ]
      },
      {
       "output_type": "stream",
       "stream": "stdout",
       "text": [
        "\r",
        "Processing frame-00946.png"
       ]
      },
      {
       "output_type": "stream",
       "stream": "stdout",
       "text": [
        "\r",
        "Processing frame-00947.png"
       ]
      },
      {
       "output_type": "stream",
       "stream": "stdout",
       "text": [
        "\r",
        "Processing frame-00948.png"
       ]
      },
      {
       "output_type": "stream",
       "stream": "stdout",
       "text": [
        "\r",
        "Processing frame-00949.png"
       ]
      },
      {
       "output_type": "stream",
       "stream": "stdout",
       "text": [
        "\r",
        "Processing frame-00950.png"
       ]
      },
      {
       "output_type": "stream",
       "stream": "stdout",
       "text": [
        "\r",
        "Processing frame-00951.png"
       ]
      },
      {
       "output_type": "stream",
       "stream": "stdout",
       "text": [
        "\r",
        "Processing frame-00952.png"
       ]
      },
      {
       "output_type": "stream",
       "stream": "stdout",
       "text": [
        "\r",
        "Processing frame-00953.png"
       ]
      },
      {
       "output_type": "stream",
       "stream": "stdout",
       "text": [
        "\r",
        "Processing frame-00954.png"
       ]
      },
      {
       "output_type": "stream",
       "stream": "stdout",
       "text": [
        "\r",
        "Processing frame-00955.png"
       ]
      },
      {
       "output_type": "stream",
       "stream": "stdout",
       "text": [
        "\r",
        "Processing frame-00956.png"
       ]
      },
      {
       "output_type": "stream",
       "stream": "stdout",
       "text": [
        "\r",
        "Processing frame-00957.png"
       ]
      },
      {
       "output_type": "stream",
       "stream": "stdout",
       "text": [
        "\r",
        "Processing frame-00958.png"
       ]
      },
      {
       "output_type": "stream",
       "stream": "stdout",
       "text": [
        "\r",
        "Processing frame-00959.png"
       ]
      },
      {
       "output_type": "stream",
       "stream": "stdout",
       "text": [
        "\r",
        "Processing frame-00960.png"
       ]
      },
      {
       "output_type": "stream",
       "stream": "stdout",
       "text": [
        "\r",
        "Processing frame-00961.png"
       ]
      },
      {
       "output_type": "stream",
       "stream": "stdout",
       "text": [
        "\r",
        "Processing frame-00962.png"
       ]
      },
      {
       "output_type": "stream",
       "stream": "stdout",
       "text": [
        "\r",
        "Processing frame-00963.png"
       ]
      },
      {
       "output_type": "stream",
       "stream": "stdout",
       "text": [
        "\r",
        "Processing frame-00964.png"
       ]
      },
      {
       "output_type": "stream",
       "stream": "stdout",
       "text": [
        "\r",
        "Processing frame-00965.png"
       ]
      },
      {
       "output_type": "stream",
       "stream": "stdout",
       "text": [
        "\r",
        "Processing frame-00966.png"
       ]
      },
      {
       "output_type": "stream",
       "stream": "stdout",
       "text": [
        "\r",
        "Processing frame-00967.png"
       ]
      },
      {
       "output_type": "stream",
       "stream": "stdout",
       "text": [
        "\r",
        "Processing frame-00968.png"
       ]
      },
      {
       "output_type": "stream",
       "stream": "stdout",
       "text": [
        "\r",
        "Processing frame-00969.png"
       ]
      },
      {
       "output_type": "stream",
       "stream": "stdout",
       "text": [
        "\r",
        "Processing frame-00970.png"
       ]
      },
      {
       "output_type": "stream",
       "stream": "stdout",
       "text": [
        "\r",
        "Processing frame-00971.png"
       ]
      },
      {
       "output_type": "stream",
       "stream": "stdout",
       "text": [
        "\r",
        "Processing frame-00972.png"
       ]
      },
      {
       "output_type": "stream",
       "stream": "stdout",
       "text": [
        "\r",
        "Processing frame-00973.png"
       ]
      },
      {
       "output_type": "stream",
       "stream": "stdout",
       "text": [
        "\r",
        "Processing frame-00974.png"
       ]
      },
      {
       "output_type": "stream",
       "stream": "stdout",
       "text": [
        "\r",
        "Processing frame-00975.png"
       ]
      },
      {
       "output_type": "stream",
       "stream": "stdout",
       "text": [
        "\r",
        "Processing frame-00976.png"
       ]
      },
      {
       "output_type": "stream",
       "stream": "stdout",
       "text": [
        "\r",
        "Processing frame-00977.png"
       ]
      },
      {
       "output_type": "stream",
       "stream": "stdout",
       "text": [
        "\r",
        "Processing frame-00978.png"
       ]
      },
      {
       "output_type": "stream",
       "stream": "stdout",
       "text": [
        "\r",
        "Processing frame-00979.png"
       ]
      },
      {
       "output_type": "stream",
       "stream": "stdout",
       "text": [
        "\r",
        "Processing frame-00980.png"
       ]
      },
      {
       "output_type": "stream",
       "stream": "stdout",
       "text": [
        "\r",
        "Processing frame-00981.png"
       ]
      },
      {
       "output_type": "stream",
       "stream": "stdout",
       "text": [
        "\r",
        "Processing frame-00982.png"
       ]
      },
      {
       "output_type": "stream",
       "stream": "stdout",
       "text": [
        "\r",
        "Processing frame-00983.png"
       ]
      },
      {
       "output_type": "stream",
       "stream": "stdout",
       "text": [
        "\r",
        "Processing frame-00984.png"
       ]
      },
      {
       "output_type": "stream",
       "stream": "stdout",
       "text": [
        "\r",
        "Processing frame-00985.png"
       ]
      },
      {
       "output_type": "stream",
       "stream": "stdout",
       "text": [
        "\r",
        "Processing frame-00986.png"
       ]
      },
      {
       "output_type": "stream",
       "stream": "stdout",
       "text": [
        "\r",
        "Processing frame-00987.png"
       ]
      },
      {
       "output_type": "stream",
       "stream": "stdout",
       "text": [
        "\r",
        "Processing frame-00988.png"
       ]
      },
      {
       "output_type": "stream",
       "stream": "stdout",
       "text": [
        "\r",
        "Processing frame-00989.png"
       ]
      },
      {
       "output_type": "stream",
       "stream": "stdout",
       "text": [
        "\r",
        "Processing frame-00990.png"
       ]
      },
      {
       "output_type": "stream",
       "stream": "stdout",
       "text": [
        "\r",
        "Processing frame-00991.png"
       ]
      },
      {
       "output_type": "stream",
       "stream": "stdout",
       "text": [
        "\r",
        "Processing frame-00992.png"
       ]
      },
      {
       "output_type": "stream",
       "stream": "stdout",
       "text": [
        "\r",
        "Processing frame-00993.png"
       ]
      },
      {
       "output_type": "stream",
       "stream": "stdout",
       "text": [
        "\r",
        "Processing frame-00994.png"
       ]
      },
      {
       "output_type": "stream",
       "stream": "stdout",
       "text": [
        "\r",
        "Processing frame-00995.png"
       ]
      },
      {
       "output_type": "stream",
       "stream": "stdout",
       "text": [
        "\r",
        "Processing frame-00996.png"
       ]
      },
      {
       "output_type": "stream",
       "stream": "stdout",
       "text": [
        "\r",
        "Processing frame-00997.png"
       ]
      },
      {
       "output_type": "stream",
       "stream": "stdout",
       "text": [
        "\r",
        "Processing frame-00998.png"
       ]
      },
      {
       "output_type": "stream",
       "stream": "stdout",
       "text": [
        "\r",
        "Processing frame-00999.png"
       ]
      },
      {
       "output_type": "stream",
       "stream": "stdout",
       "text": [
        "\r",
        "Processing frame-01000.png"
       ]
      },
      {
       "output_type": "stream",
       "stream": "stdout",
       "text": [
        "\r",
        "Processing frame-01001.png"
       ]
      },
      {
       "output_type": "stream",
       "stream": "stdout",
       "text": [
        "\r",
        "Processing frame-01002.png"
       ]
      },
      {
       "output_type": "stream",
       "stream": "stdout",
       "text": [
        "\r",
        "Processing frame-01003.png"
       ]
      },
      {
       "output_type": "stream",
       "stream": "stdout",
       "text": [
        "\r",
        "Processing frame-01004.png"
       ]
      },
      {
       "output_type": "stream",
       "stream": "stdout",
       "text": [
        "\r",
        "Processing frame-01005.png"
       ]
      },
      {
       "output_type": "stream",
       "stream": "stdout",
       "text": [
        "\r",
        "Processing frame-01006.png"
       ]
      },
      {
       "output_type": "stream",
       "stream": "stdout",
       "text": [
        "\r",
        "Processing frame-01007.png"
       ]
      },
      {
       "output_type": "stream",
       "stream": "stdout",
       "text": [
        "\r",
        "Processing frame-01008.png"
       ]
      },
      {
       "output_type": "stream",
       "stream": "stdout",
       "text": [
        "\r",
        "Processing frame-01009.png"
       ]
      },
      {
       "output_type": "stream",
       "stream": "stdout",
       "text": [
        "\r",
        "Processing frame-01010.png"
       ]
      },
      {
       "output_type": "stream",
       "stream": "stdout",
       "text": [
        "\r",
        "Processing frame-01011.png"
       ]
      },
      {
       "output_type": "stream",
       "stream": "stdout",
       "text": [
        "\r",
        "Processing frame-01012.png"
       ]
      },
      {
       "output_type": "stream",
       "stream": "stdout",
       "text": [
        "\r",
        "Processing frame-01013.png"
       ]
      },
      {
       "output_type": "stream",
       "stream": "stdout",
       "text": [
        "\r",
        "Processing frame-01014.png"
       ]
      },
      {
       "output_type": "stream",
       "stream": "stdout",
       "text": [
        "\r",
        "Processing frame-01015.png"
       ]
      },
      {
       "output_type": "stream",
       "stream": "stdout",
       "text": [
        "\r",
        "Processing frame-01016.png"
       ]
      },
      {
       "output_type": "stream",
       "stream": "stdout",
       "text": [
        "\r",
        "Processing frame-01017.png"
       ]
      },
      {
       "output_type": "stream",
       "stream": "stdout",
       "text": [
        "\r",
        "Processing frame-01018.png"
       ]
      },
      {
       "output_type": "stream",
       "stream": "stdout",
       "text": [
        "\r",
        "Processing frame-01019.png"
       ]
      },
      {
       "output_type": "stream",
       "stream": "stdout",
       "text": [
        "\r",
        "Processing frame-01020.png"
       ]
      },
      {
       "output_type": "stream",
       "stream": "stdout",
       "text": [
        "\r",
        "Processing frame-01021.png"
       ]
      },
      {
       "output_type": "stream",
       "stream": "stdout",
       "text": [
        "\r",
        "Processing frame-01022.png"
       ]
      },
      {
       "output_type": "stream",
       "stream": "stdout",
       "text": [
        "\r",
        "Processing frame-01023.png"
       ]
      },
      {
       "output_type": "stream",
       "stream": "stdout",
       "text": [
        "\r",
        "Processing frame-01024.png"
       ]
      },
      {
       "output_type": "stream",
       "stream": "stdout",
       "text": [
        "\r",
        "Processing frame-01025.png"
       ]
      },
      {
       "output_type": "stream",
       "stream": "stdout",
       "text": [
        "\r",
        "Processing frame-01026.png"
       ]
      },
      {
       "output_type": "stream",
       "stream": "stdout",
       "text": [
        "\r",
        "Processing frame-01027.png"
       ]
      },
      {
       "output_type": "stream",
       "stream": "stdout",
       "text": [
        "\r",
        "Processing frame-01028.png"
       ]
      },
      {
       "output_type": "stream",
       "stream": "stdout",
       "text": [
        "\r",
        "Processing frame-01029.png"
       ]
      },
      {
       "output_type": "stream",
       "stream": "stdout",
       "text": [
        "\r",
        "Processing frame-01030.png"
       ]
      },
      {
       "output_type": "stream",
       "stream": "stdout",
       "text": [
        "\r",
        "Processing frame-01031.png"
       ]
      },
      {
       "output_type": "stream",
       "stream": "stdout",
       "text": [
        "\r",
        "Processing frame-01032.png"
       ]
      },
      {
       "output_type": "stream",
       "stream": "stdout",
       "text": [
        "\r",
        "Processing frame-01033.png"
       ]
      },
      {
       "output_type": "stream",
       "stream": "stdout",
       "text": [
        "\r",
        "Processing frame-01034.png"
       ]
      },
      {
       "output_type": "stream",
       "stream": "stdout",
       "text": [
        "\r",
        "Processing frame-01035.png"
       ]
      },
      {
       "output_type": "stream",
       "stream": "stdout",
       "text": [
        "\r",
        "Processing frame-01036.png"
       ]
      },
      {
       "output_type": "stream",
       "stream": "stdout",
       "text": [
        "\r",
        "Processing frame-01037.png"
       ]
      },
      {
       "output_type": "stream",
       "stream": "stdout",
       "text": [
        "\r",
        "Processing frame-01038.png"
       ]
      },
      {
       "output_type": "stream",
       "stream": "stdout",
       "text": [
        "\r",
        "Processing frame-01039.png"
       ]
      },
      {
       "output_type": "stream",
       "stream": "stdout",
       "text": [
        "\r",
        "Processing frame-01040.png"
       ]
      },
      {
       "output_type": "stream",
       "stream": "stdout",
       "text": [
        "\r",
        "Processing frame-01041.png"
       ]
      },
      {
       "output_type": "stream",
       "stream": "stdout",
       "text": [
        "\r",
        "Processing frame-01042.png"
       ]
      },
      {
       "output_type": "stream",
       "stream": "stdout",
       "text": [
        "\r",
        "Processing frame-01043.png"
       ]
      },
      {
       "output_type": "stream",
       "stream": "stdout",
       "text": [
        "\r",
        "Processing frame-01044.png"
       ]
      },
      {
       "output_type": "stream",
       "stream": "stdout",
       "text": [
        "\r",
        "Processing frame-01045.png"
       ]
      },
      {
       "output_type": "stream",
       "stream": "stdout",
       "text": [
        "\r",
        "Processing frame-01046.png"
       ]
      },
      {
       "output_type": "stream",
       "stream": "stdout",
       "text": [
        "\r",
        "Processing frame-01047.png"
       ]
      },
      {
       "output_type": "stream",
       "stream": "stdout",
       "text": [
        "\r",
        "Processing frame-01048.png"
       ]
      },
      {
       "output_type": "stream",
       "stream": "stdout",
       "text": [
        "\r",
        "Processing frame-01049.png"
       ]
      },
      {
       "output_type": "stream",
       "stream": "stdout",
       "text": [
        "\r",
        "Processing frame-01050.png"
       ]
      },
      {
       "output_type": "stream",
       "stream": "stdout",
       "text": [
        "\r",
        "Processing frame-01051.png"
       ]
      },
      {
       "output_type": "stream",
       "stream": "stdout",
       "text": [
        "\r",
        "Processing frame-01052.png"
       ]
      },
      {
       "output_type": "stream",
       "stream": "stdout",
       "text": [
        "\r",
        "Processing frame-01053.png"
       ]
      },
      {
       "output_type": "stream",
       "stream": "stdout",
       "text": [
        "\r",
        "Processing frame-01054.png"
       ]
      },
      {
       "output_type": "stream",
       "stream": "stdout",
       "text": [
        "\r",
        "Processing frame-01055.png"
       ]
      },
      {
       "output_type": "stream",
       "stream": "stdout",
       "text": [
        "\r",
        "Processing frame-01056.png"
       ]
      },
      {
       "output_type": "stream",
       "stream": "stdout",
       "text": [
        "\r",
        "Processing frame-01057.png"
       ]
      },
      {
       "output_type": "stream",
       "stream": "stdout",
       "text": [
        "\r",
        "Processing frame-01058.png"
       ]
      },
      {
       "output_type": "stream",
       "stream": "stdout",
       "text": [
        "\r",
        "Processing frame-01059.png"
       ]
      },
      {
       "output_type": "stream",
       "stream": "stdout",
       "text": [
        "\r",
        "Processing frame-01060.png"
       ]
      },
      {
       "output_type": "stream",
       "stream": "stdout",
       "text": [
        "\r",
        "Processing frame-01061.png"
       ]
      },
      {
       "output_type": "stream",
       "stream": "stdout",
       "text": [
        "\r",
        "Processing frame-01062.png"
       ]
      },
      {
       "output_type": "stream",
       "stream": "stdout",
       "text": [
        "\r",
        "Processing frame-01063.png"
       ]
      },
      {
       "output_type": "stream",
       "stream": "stdout",
       "text": [
        "\r",
        "Processing frame-01064.png"
       ]
      },
      {
       "output_type": "stream",
       "stream": "stdout",
       "text": [
        "\r",
        "Processing frame-01065.png"
       ]
      },
      {
       "output_type": "stream",
       "stream": "stdout",
       "text": [
        "\r",
        "Processing frame-01066.png"
       ]
      },
      {
       "output_type": "stream",
       "stream": "stdout",
       "text": [
        "\r",
        "Processing frame-01067.png"
       ]
      },
      {
       "output_type": "stream",
       "stream": "stdout",
       "text": [
        "\r",
        "Processing frame-01068.png"
       ]
      },
      {
       "output_type": "stream",
       "stream": "stdout",
       "text": [
        "\r",
        "Processing frame-01069.png"
       ]
      },
      {
       "output_type": "stream",
       "stream": "stdout",
       "text": [
        "\r",
        "Processing frame-01070.png"
       ]
      },
      {
       "output_type": "stream",
       "stream": "stdout",
       "text": [
        "\r",
        "Processing frame-01071.png"
       ]
      },
      {
       "output_type": "stream",
       "stream": "stdout",
       "text": [
        "\r",
        "Processing frame-01072.png"
       ]
      },
      {
       "output_type": "stream",
       "stream": "stdout",
       "text": [
        "\r",
        "Processing frame-01073.png"
       ]
      },
      {
       "output_type": "stream",
       "stream": "stdout",
       "text": [
        "\r",
        "Processing frame-01074.png"
       ]
      },
      {
       "output_type": "stream",
       "stream": "stdout",
       "text": [
        "\r",
        "Processing frame-01075.png"
       ]
      },
      {
       "output_type": "stream",
       "stream": "stdout",
       "text": [
        "\r",
        "Processing frame-01076.png"
       ]
      },
      {
       "output_type": "stream",
       "stream": "stdout",
       "text": [
        "\r",
        "Processing frame-01077.png"
       ]
      },
      {
       "output_type": "stream",
       "stream": "stdout",
       "text": [
        "\r",
        "Processing frame-01078.png"
       ]
      },
      {
       "output_type": "stream",
       "stream": "stdout",
       "text": [
        "\r",
        "Processing frame-01079.png"
       ]
      },
      {
       "output_type": "stream",
       "stream": "stdout",
       "text": [
        "\r",
        "Processing frame-01080.png"
       ]
      },
      {
       "output_type": "stream",
       "stream": "stdout",
       "text": [
        "\r",
        "Processing frame-01081.png"
       ]
      },
      {
       "output_type": "stream",
       "stream": "stdout",
       "text": [
        "\r",
        "Processing frame-01082.png"
       ]
      },
      {
       "output_type": "stream",
       "stream": "stdout",
       "text": [
        "\r",
        "Processing frame-01083.png"
       ]
      },
      {
       "output_type": "stream",
       "stream": "stdout",
       "text": [
        "\r",
        "Processing frame-01084.png"
       ]
      },
      {
       "output_type": "stream",
       "stream": "stdout",
       "text": [
        "\r",
        "Processing frame-01085.png"
       ]
      },
      {
       "output_type": "stream",
       "stream": "stdout",
       "text": [
        "\r",
        "Processing frame-01086.png"
       ]
      },
      {
       "output_type": "stream",
       "stream": "stdout",
       "text": [
        "\r",
        "Processing frame-01087.png"
       ]
      },
      {
       "output_type": "stream",
       "stream": "stdout",
       "text": [
        "\r",
        "Processing frame-01088.png"
       ]
      },
      {
       "output_type": "stream",
       "stream": "stdout",
       "text": [
        "\r",
        "Processing frame-01089.png"
       ]
      },
      {
       "output_type": "stream",
       "stream": "stdout",
       "text": [
        "\r",
        "Processing frame-01090.png"
       ]
      },
      {
       "output_type": "stream",
       "stream": "stdout",
       "text": [
        "\r",
        "Processing frame-01091.png"
       ]
      },
      {
       "output_type": "stream",
       "stream": "stdout",
       "text": [
        "\r",
        "Processing frame-01092.png"
       ]
      },
      {
       "output_type": "stream",
       "stream": "stdout",
       "text": [
        "\r",
        "Processing frame-01093.png"
       ]
      },
      {
       "output_type": "stream",
       "stream": "stdout",
       "text": [
        "\r",
        "Processing frame-01094.png"
       ]
      },
      {
       "output_type": "stream",
       "stream": "stdout",
       "text": [
        "\r",
        "Processing frame-01095.png"
       ]
      },
      {
       "output_type": "stream",
       "stream": "stdout",
       "text": [
        "\r",
        "Processing frame-01096.png"
       ]
      },
      {
       "output_type": "stream",
       "stream": "stdout",
       "text": [
        "\r",
        "Processing frame-01097.png"
       ]
      },
      {
       "output_type": "stream",
       "stream": "stdout",
       "text": [
        "\r",
        "Processing frame-01098.png"
       ]
      },
      {
       "output_type": "stream",
       "stream": "stdout",
       "text": [
        "\r",
        "Processing frame-01099.png"
       ]
      },
      {
       "output_type": "stream",
       "stream": "stdout",
       "text": [
        "\r",
        "Processing frame-01100.png"
       ]
      },
      {
       "output_type": "stream",
       "stream": "stdout",
       "text": [
        "\r",
        "Processing frame-01101.png"
       ]
      },
      {
       "output_type": "stream",
       "stream": "stdout",
       "text": [
        "\r",
        "Processing frame-01102.png"
       ]
      },
      {
       "output_type": "stream",
       "stream": "stdout",
       "text": [
        "\r",
        "Processing frame-01103.png"
       ]
      },
      {
       "output_type": "stream",
       "stream": "stdout",
       "text": [
        "\r",
        "Processing frame-01104.png"
       ]
      },
      {
       "output_type": "stream",
       "stream": "stdout",
       "text": [
        "\r",
        "Processing frame-01105.png"
       ]
      },
      {
       "output_type": "stream",
       "stream": "stdout",
       "text": [
        "\r",
        "Processing frame-01106.png"
       ]
      },
      {
       "output_type": "stream",
       "stream": "stdout",
       "text": [
        "\r",
        "Processing frame-01107.png"
       ]
      },
      {
       "output_type": "stream",
       "stream": "stdout",
       "text": [
        "\r",
        "Processing frame-01108.png"
       ]
      },
      {
       "output_type": "stream",
       "stream": "stdout",
       "text": [
        "\r",
        "Processing frame-01109.png"
       ]
      },
      {
       "output_type": "stream",
       "stream": "stdout",
       "text": [
        "\r",
        "Processing frame-01110.png"
       ]
      },
      {
       "output_type": "stream",
       "stream": "stdout",
       "text": [
        "\r",
        "Processing frame-01111.png"
       ]
      },
      {
       "output_type": "stream",
       "stream": "stdout",
       "text": [
        "\r",
        "Processing frame-01112.png"
       ]
      },
      {
       "output_type": "stream",
       "stream": "stdout",
       "text": [
        "\r",
        "Processing frame-01113.png"
       ]
      },
      {
       "output_type": "stream",
       "stream": "stdout",
       "text": [
        "\r",
        "Processing frame-01114.png"
       ]
      },
      {
       "output_type": "stream",
       "stream": "stdout",
       "text": [
        "\r",
        "Processing frame-01115.png"
       ]
      },
      {
       "output_type": "stream",
       "stream": "stdout",
       "text": [
        "\r",
        "Processing frame-01116.png"
       ]
      },
      {
       "output_type": "stream",
       "stream": "stdout",
       "text": [
        "\r",
        "Processing frame-01117.png"
       ]
      },
      {
       "output_type": "stream",
       "stream": "stdout",
       "text": [
        "\r",
        "Processing frame-01118.png"
       ]
      },
      {
       "output_type": "stream",
       "stream": "stdout",
       "text": [
        "\r",
        "Processing frame-01119.png"
       ]
      },
      {
       "output_type": "stream",
       "stream": "stdout",
       "text": [
        "\r",
        "Processing frame-01120.png"
       ]
      },
      {
       "output_type": "stream",
       "stream": "stdout",
       "text": [
        "\r",
        "Processing frame-01121.png"
       ]
      },
      {
       "output_type": "stream",
       "stream": "stdout",
       "text": [
        "\r",
        "Processing frame-01122.png"
       ]
      },
      {
       "output_type": "stream",
       "stream": "stdout",
       "text": [
        "\r",
        "Processing frame-01123.png"
       ]
      },
      {
       "output_type": "stream",
       "stream": "stdout",
       "text": [
        "\r",
        "Processing frame-01124.png"
       ]
      },
      {
       "output_type": "stream",
       "stream": "stdout",
       "text": [
        "\r",
        "Processing frame-01125.png"
       ]
      },
      {
       "output_type": "stream",
       "stream": "stdout",
       "text": [
        "\r",
        "Processing frame-01126.png"
       ]
      },
      {
       "output_type": "stream",
       "stream": "stdout",
       "text": [
        "\r",
        "Processing frame-01127.png"
       ]
      },
      {
       "output_type": "stream",
       "stream": "stdout",
       "text": [
        "\r",
        "Processing frame-01128.png"
       ]
      },
      {
       "output_type": "stream",
       "stream": "stdout",
       "text": [
        "\r",
        "Processing frame-01129.png"
       ]
      },
      {
       "output_type": "stream",
       "stream": "stdout",
       "text": [
        "\r",
        "Processing frame-01130.png"
       ]
      },
      {
       "output_type": "stream",
       "stream": "stdout",
       "text": [
        "\r",
        "Processing frame-01131.png"
       ]
      },
      {
       "output_type": "stream",
       "stream": "stdout",
       "text": [
        "\r",
        "Processing frame-01132.png"
       ]
      },
      {
       "output_type": "stream",
       "stream": "stdout",
       "text": [
        "\r",
        "Processing frame-01133.png"
       ]
      },
      {
       "output_type": "stream",
       "stream": "stdout",
       "text": [
        "\r",
        "Processing frame-01134.png"
       ]
      },
      {
       "output_type": "stream",
       "stream": "stdout",
       "text": [
        "\r",
        "Processing frame-01135.png"
       ]
      },
      {
       "output_type": "stream",
       "stream": "stdout",
       "text": [
        "\r",
        "Processing frame-01136.png"
       ]
      },
      {
       "output_type": "stream",
       "stream": "stdout",
       "text": [
        "\r",
        "Processing frame-01137.png"
       ]
      },
      {
       "output_type": "stream",
       "stream": "stdout",
       "text": [
        "\r",
        "Processing frame-01138.png"
       ]
      },
      {
       "output_type": "stream",
       "stream": "stdout",
       "text": [
        "\r",
        "Processing frame-01139.png"
       ]
      },
      {
       "output_type": "stream",
       "stream": "stdout",
       "text": [
        "\r",
        "Processing frame-01140.png"
       ]
      },
      {
       "output_type": "stream",
       "stream": "stdout",
       "text": [
        "\r",
        "Processing frame-01141.png"
       ]
      },
      {
       "output_type": "stream",
       "stream": "stdout",
       "text": [
        "\r",
        "Processing frame-01142.png"
       ]
      },
      {
       "output_type": "stream",
       "stream": "stdout",
       "text": [
        "\r",
        "Processing frame-01143.png"
       ]
      },
      {
       "output_type": "stream",
       "stream": "stdout",
       "text": [
        "\r",
        "Processing frame-01144.png"
       ]
      },
      {
       "output_type": "stream",
       "stream": "stdout",
       "text": [
        "\r",
        "Processing frame-01145.png"
       ]
      },
      {
       "output_type": "stream",
       "stream": "stdout",
       "text": [
        "\r",
        "Processing frame-01146.png"
       ]
      },
      {
       "output_type": "stream",
       "stream": "stdout",
       "text": [
        "\r",
        "Processing frame-01147.png"
       ]
      },
      {
       "output_type": "stream",
       "stream": "stdout",
       "text": [
        "\r",
        "Processing frame-01148.png"
       ]
      },
      {
       "output_type": "stream",
       "stream": "stdout",
       "text": [
        "\r",
        "Processing frame-01149.png"
       ]
      },
      {
       "output_type": "stream",
       "stream": "stdout",
       "text": [
        "\r",
        "Processing frame-01150.png"
       ]
      },
      {
       "output_type": "stream",
       "stream": "stdout",
       "text": [
        "\r",
        "Processing frame-01151.png"
       ]
      },
      {
       "output_type": "stream",
       "stream": "stdout",
       "text": [
        "\r",
        "Processing frame-01152.png"
       ]
      },
      {
       "output_type": "stream",
       "stream": "stdout",
       "text": [
        "\r",
        "Processing frame-01153.png"
       ]
      },
      {
       "output_type": "stream",
       "stream": "stdout",
       "text": [
        "\r",
        "Processing frame-01154.png"
       ]
      },
      {
       "output_type": "stream",
       "stream": "stdout",
       "text": [
        "\r",
        "Processing frame-01155.png"
       ]
      },
      {
       "output_type": "stream",
       "stream": "stdout",
       "text": [
        "\r",
        "Processing frame-01156.png"
       ]
      },
      {
       "output_type": "stream",
       "stream": "stdout",
       "text": [
        "\r",
        "Processing frame-01157.png"
       ]
      },
      {
       "output_type": "stream",
       "stream": "stdout",
       "text": [
        "\r",
        "Processing frame-01158.png"
       ]
      },
      {
       "output_type": "stream",
       "stream": "stdout",
       "text": [
        "\r",
        "Processing frame-01159.png"
       ]
      },
      {
       "output_type": "stream",
       "stream": "stdout",
       "text": [
        "\r",
        "Processing frame-01160.png"
       ]
      },
      {
       "output_type": "stream",
       "stream": "stdout",
       "text": [
        "\r",
        "Processing frame-01161.png"
       ]
      },
      {
       "output_type": "stream",
       "stream": "stdout",
       "text": [
        "\r",
        "Processing frame-01162.png"
       ]
      },
      {
       "output_type": "stream",
       "stream": "stdout",
       "text": [
        "\r",
        "Processing frame-01163.png"
       ]
      },
      {
       "output_type": "stream",
       "stream": "stdout",
       "text": [
        "\r",
        "Processing frame-01164.png"
       ]
      },
      {
       "output_type": "stream",
       "stream": "stdout",
       "text": [
        "\r",
        "Processing frame-01165.png"
       ]
      },
      {
       "output_type": "stream",
       "stream": "stdout",
       "text": [
        "\r",
        "Processing frame-01166.png"
       ]
      },
      {
       "output_type": "stream",
       "stream": "stdout",
       "text": [
        "\r",
        "Processing frame-01167.png"
       ]
      },
      {
       "output_type": "stream",
       "stream": "stdout",
       "text": [
        "\r",
        "Processing frame-01168.png"
       ]
      },
      {
       "output_type": "stream",
       "stream": "stdout",
       "text": [
        "\r",
        "Processing frame-01169.png"
       ]
      },
      {
       "output_type": "stream",
       "stream": "stdout",
       "text": [
        "\r",
        "Processing frame-01170.png"
       ]
      },
      {
       "output_type": "stream",
       "stream": "stdout",
       "text": [
        "\r",
        "Processing frame-01171.png"
       ]
      },
      {
       "output_type": "stream",
       "stream": "stdout",
       "text": [
        "\r",
        "Processing frame-01172.png"
       ]
      },
      {
       "output_type": "stream",
       "stream": "stdout",
       "text": [
        "\r",
        "Processing frame-01173.png"
       ]
      },
      {
       "output_type": "stream",
       "stream": "stdout",
       "text": [
        "\r",
        "Processing frame-01174.png"
       ]
      },
      {
       "output_type": "stream",
       "stream": "stdout",
       "text": [
        "\r",
        "Processing frame-01175.png"
       ]
      },
      {
       "output_type": "stream",
       "stream": "stdout",
       "text": [
        "\r",
        "Processing frame-01176.png"
       ]
      },
      {
       "output_type": "stream",
       "stream": "stdout",
       "text": [
        "\r",
        "Processing frame-01177.png"
       ]
      },
      {
       "output_type": "stream",
       "stream": "stdout",
       "text": [
        "\r",
        "Processing frame-01178.png"
       ]
      },
      {
       "output_type": "stream",
       "stream": "stdout",
       "text": [
        "\r",
        "Processing frame-01179.png"
       ]
      },
      {
       "output_type": "stream",
       "stream": "stdout",
       "text": [
        "\r",
        "Processing frame-01180.png"
       ]
      },
      {
       "output_type": "stream",
       "stream": "stdout",
       "text": [
        "\r",
        "Processing frame-01181.png"
       ]
      },
      {
       "output_type": "stream",
       "stream": "stdout",
       "text": [
        "\r",
        "Processing frame-01182.png"
       ]
      },
      {
       "output_type": "stream",
       "stream": "stdout",
       "text": [
        "\r",
        "Processing frame-01183.png"
       ]
      },
      {
       "output_type": "stream",
       "stream": "stdout",
       "text": [
        "\r",
        "Processing frame-01184.png"
       ]
      },
      {
       "output_type": "stream",
       "stream": "stdout",
       "text": [
        "\r",
        "Processing frame-01185.png"
       ]
      },
      {
       "output_type": "stream",
       "stream": "stdout",
       "text": [
        "\r",
        "Processing frame-01186.png"
       ]
      },
      {
       "output_type": "stream",
       "stream": "stdout",
       "text": [
        "\r",
        "Processing frame-01187.png"
       ]
      },
      {
       "output_type": "stream",
       "stream": "stdout",
       "text": [
        "\r",
        "Processing frame-01188.png"
       ]
      },
      {
       "output_type": "stream",
       "stream": "stdout",
       "text": [
        "\r",
        "Processing frame-01189.png"
       ]
      },
      {
       "output_type": "stream",
       "stream": "stdout",
       "text": [
        "\r",
        "Processing frame-01190.png"
       ]
      },
      {
       "output_type": "stream",
       "stream": "stdout",
       "text": [
        "\r",
        "Processing frame-01191.png"
       ]
      },
      {
       "output_type": "stream",
       "stream": "stdout",
       "text": [
        "\r",
        "Processing frame-01192.png"
       ]
      },
      {
       "output_type": "stream",
       "stream": "stdout",
       "text": [
        "\r",
        "Processing frame-01193.png"
       ]
      },
      {
       "output_type": "stream",
       "stream": "stdout",
       "text": [
        "\r",
        "Processing frame-01194.png"
       ]
      },
      {
       "output_type": "stream",
       "stream": "stdout",
       "text": [
        "\r",
        "Processing frame-01195.png"
       ]
      },
      {
       "output_type": "stream",
       "stream": "stdout",
       "text": [
        "\r",
        "Processing frame-01196.png"
       ]
      },
      {
       "output_type": "stream",
       "stream": "stdout",
       "text": [
        "\r",
        "Processing frame-01197.png"
       ]
      },
      {
       "output_type": "stream",
       "stream": "stdout",
       "text": [
        "\r",
        "Processing frame-01198.png"
       ]
      },
      {
       "output_type": "stream",
       "stream": "stdout",
       "text": [
        "\r",
        "Processing frame-01199.png"
       ]
      },
      {
       "output_type": "stream",
       "stream": "stdout",
       "text": [
        "\r",
        "Processing frame-01200.png"
       ]
      },
      {
       "output_type": "stream",
       "stream": "stdout",
       "text": [
        "\r",
        "Processing frame-01201.png"
       ]
      },
      {
       "output_type": "stream",
       "stream": "stdout",
       "text": [
        "\r",
        "Processing frame-01202.png"
       ]
      },
      {
       "output_type": "stream",
       "stream": "stdout",
       "text": [
        "\r",
        "Processing frame-01203.png"
       ]
      },
      {
       "output_type": "stream",
       "stream": "stdout",
       "text": [
        "\r",
        "Processing frame-01204.png"
       ]
      },
      {
       "output_type": "stream",
       "stream": "stdout",
       "text": [
        "\r",
        "Processing frame-01205.png"
       ]
      },
      {
       "output_type": "stream",
       "stream": "stdout",
       "text": [
        "\r",
        "Processing frame-01206.png"
       ]
      },
      {
       "output_type": "stream",
       "stream": "stdout",
       "text": [
        "\r",
        "Processing frame-01207.png"
       ]
      },
      {
       "output_type": "stream",
       "stream": "stdout",
       "text": [
        "\r",
        "Processing frame-01208.png"
       ]
      },
      {
       "output_type": "stream",
       "stream": "stdout",
       "text": [
        "\r",
        "Processing frame-01209.png"
       ]
      },
      {
       "output_type": "stream",
       "stream": "stdout",
       "text": [
        "\r",
        "Processing frame-01210.png"
       ]
      },
      {
       "output_type": "stream",
       "stream": "stdout",
       "text": [
        "\r",
        "Processing frame-01211.png"
       ]
      },
      {
       "output_type": "stream",
       "stream": "stdout",
       "text": [
        "\r",
        "Processing frame-01212.png"
       ]
      },
      {
       "output_type": "stream",
       "stream": "stdout",
       "text": [
        "\r",
        "Processing frame-01213.png"
       ]
      },
      {
       "output_type": "stream",
       "stream": "stdout",
       "text": [
        "\r",
        "Processing frame-01214.png"
       ]
      },
      {
       "output_type": "stream",
       "stream": "stdout",
       "text": [
        "\r",
        "Processing frame-01215.png"
       ]
      },
      {
       "output_type": "stream",
       "stream": "stdout",
       "text": [
        "\r",
        "Processing frame-01216.png"
       ]
      },
      {
       "output_type": "stream",
       "stream": "stdout",
       "text": [
        "\r",
        "Processing frame-01217.png"
       ]
      },
      {
       "output_type": "stream",
       "stream": "stdout",
       "text": [
        "\r",
        "Processing frame-01218.png"
       ]
      },
      {
       "output_type": "stream",
       "stream": "stdout",
       "text": [
        "\r",
        "Processing frame-01219.png"
       ]
      },
      {
       "output_type": "stream",
       "stream": "stdout",
       "text": [
        "\r",
        "Processing frame-01220.png"
       ]
      },
      {
       "output_type": "stream",
       "stream": "stdout",
       "text": [
        "\r",
        "Processing frame-01221.png"
       ]
      },
      {
       "output_type": "stream",
       "stream": "stdout",
       "text": [
        "\r",
        "Processing frame-01222.png"
       ]
      },
      {
       "output_type": "stream",
       "stream": "stdout",
       "text": [
        "\r",
        "Processing frame-01223.png"
       ]
      },
      {
       "output_type": "stream",
       "stream": "stdout",
       "text": [
        "\r",
        "Processing frame-01224.png"
       ]
      },
      {
       "output_type": "stream",
       "stream": "stdout",
       "text": [
        "\r",
        "Processing frame-01225.png"
       ]
      },
      {
       "output_type": "stream",
       "stream": "stdout",
       "text": [
        "\r",
        "Processing frame-01226.png"
       ]
      },
      {
       "output_type": "stream",
       "stream": "stdout",
       "text": [
        "\r",
        "Processing frame-01227.png"
       ]
      },
      {
       "output_type": "stream",
       "stream": "stdout",
       "text": [
        "\r",
        "Processing frame-01228.png"
       ]
      },
      {
       "output_type": "stream",
       "stream": "stdout",
       "text": [
        "\r",
        "Processing frame-01229.png"
       ]
      },
      {
       "output_type": "stream",
       "stream": "stdout",
       "text": [
        "\r",
        "Processing frame-01230.png"
       ]
      },
      {
       "output_type": "stream",
       "stream": "stdout",
       "text": [
        "\r",
        "Processing frame-01231.png"
       ]
      },
      {
       "output_type": "stream",
       "stream": "stdout",
       "text": [
        "\r",
        "Processing frame-01232.png"
       ]
      },
      {
       "output_type": "stream",
       "stream": "stdout",
       "text": [
        "\r",
        "Processing frame-01233.png"
       ]
      },
      {
       "output_type": "stream",
       "stream": "stdout",
       "text": [
        "\r",
        "Processing frame-01234.png"
       ]
      },
      {
       "output_type": "stream",
       "stream": "stdout",
       "text": [
        "\r",
        "Processing frame-01235.png"
       ]
      },
      {
       "output_type": "stream",
       "stream": "stdout",
       "text": [
        "\r",
        "Processing frame-01236.png"
       ]
      },
      {
       "output_type": "stream",
       "stream": "stdout",
       "text": [
        "\r",
        "Processing frame-01237.png"
       ]
      },
      {
       "output_type": "stream",
       "stream": "stdout",
       "text": [
        "\r",
        "Processing frame-01238.png"
       ]
      },
      {
       "output_type": "stream",
       "stream": "stdout",
       "text": [
        "\r",
        "Processing frame-01239.png"
       ]
      },
      {
       "output_type": "stream",
       "stream": "stdout",
       "text": [
        "\r",
        "Processing frame-01240.png"
       ]
      },
      {
       "output_type": "stream",
       "stream": "stdout",
       "text": [
        "\r",
        "Processing frame-01241.png"
       ]
      },
      {
       "output_type": "stream",
       "stream": "stdout",
       "text": [
        "\r",
        "Processing frame-01242.png"
       ]
      },
      {
       "output_type": "stream",
       "stream": "stdout",
       "text": [
        "\r",
        "Processing frame-01243.png"
       ]
      },
      {
       "output_type": "stream",
       "stream": "stdout",
       "text": [
        "\r",
        "Processing frame-01244.png"
       ]
      },
      {
       "output_type": "stream",
       "stream": "stdout",
       "text": [
        "\r",
        "Processing frame-01245.png"
       ]
      },
      {
       "output_type": "stream",
       "stream": "stdout",
       "text": [
        "\r",
        "Processing frame-01246.png"
       ]
      },
      {
       "output_type": "stream",
       "stream": "stdout",
       "text": [
        "\r",
        "Processing frame-01247.png"
       ]
      },
      {
       "output_type": "stream",
       "stream": "stdout",
       "text": [
        "\r",
        "Processing frame-01248.png"
       ]
      },
      {
       "output_type": "stream",
       "stream": "stdout",
       "text": [
        "\r",
        "Processing frame-01249.png"
       ]
      },
      {
       "output_type": "stream",
       "stream": "stdout",
       "text": [
        "\r",
        "Processing frame-01250.png"
       ]
      },
      {
       "output_type": "stream",
       "stream": "stdout",
       "text": [
        "\r",
        "Processing frame-01251.png"
       ]
      },
      {
       "output_type": "stream",
       "stream": "stdout",
       "text": [
        "\r",
        "Processing frame-01252.png"
       ]
      },
      {
       "output_type": "stream",
       "stream": "stdout",
       "text": [
        "\r",
        "Processing frame-01253.png"
       ]
      },
      {
       "output_type": "stream",
       "stream": "stdout",
       "text": [
        "\r",
        "Processing frame-01254.png"
       ]
      },
      {
       "output_type": "stream",
       "stream": "stdout",
       "text": [
        "\r",
        "Processing frame-01255.png"
       ]
      },
      {
       "output_type": "stream",
       "stream": "stdout",
       "text": [
        "\r",
        "Processing frame-01256.png"
       ]
      },
      {
       "output_type": "stream",
       "stream": "stdout",
       "text": [
        "\r",
        "Processing frame-01257.png"
       ]
      },
      {
       "output_type": "stream",
       "stream": "stdout",
       "text": [
        "\r",
        "Processing frame-01258.png"
       ]
      },
      {
       "output_type": "stream",
       "stream": "stdout",
       "text": [
        "\r",
        "Processing frame-01259.png"
       ]
      },
      {
       "output_type": "stream",
       "stream": "stdout",
       "text": [
        "\r",
        "Processing frame-01260.png"
       ]
      },
      {
       "output_type": "stream",
       "stream": "stdout",
       "text": [
        "\r",
        "Processing frame-01261.png"
       ]
      },
      {
       "output_type": "stream",
       "stream": "stdout",
       "text": [
        "\r",
        "Processing frame-01262.png"
       ]
      },
      {
       "output_type": "stream",
       "stream": "stdout",
       "text": [
        "\r",
        "Processing frame-01263.png"
       ]
      },
      {
       "output_type": "stream",
       "stream": "stdout",
       "text": [
        "\r",
        "Processing frame-01264.png"
       ]
      },
      {
       "output_type": "stream",
       "stream": "stdout",
       "text": [
        "\r",
        "Processing frame-01265.png"
       ]
      },
      {
       "output_type": "stream",
       "stream": "stdout",
       "text": [
        "\r",
        "Processing frame-01266.png"
       ]
      },
      {
       "output_type": "stream",
       "stream": "stdout",
       "text": [
        "\r",
        "Processing frame-01267.png"
       ]
      },
      {
       "output_type": "stream",
       "stream": "stdout",
       "text": [
        "\r",
        "Processing frame-01268.png"
       ]
      },
      {
       "output_type": "stream",
       "stream": "stdout",
       "text": [
        "\r",
        "Processing frame-01269.png"
       ]
      },
      {
       "output_type": "stream",
       "stream": "stdout",
       "text": [
        "\r",
        "Processing frame-01270.png"
       ]
      },
      {
       "output_type": "stream",
       "stream": "stdout",
       "text": [
        "\r",
        "Processing frame-01271.png"
       ]
      },
      {
       "output_type": "stream",
       "stream": "stdout",
       "text": [
        "\r",
        "Processing frame-01272.png"
       ]
      },
      {
       "output_type": "stream",
       "stream": "stdout",
       "text": [
        "\r",
        "Processing frame-01273.png"
       ]
      },
      {
       "output_type": "stream",
       "stream": "stdout",
       "text": [
        "\r",
        "Processing frame-01274.png"
       ]
      },
      {
       "output_type": "stream",
       "stream": "stdout",
       "text": [
        "\r",
        "Processing frame-01275.png"
       ]
      },
      {
       "output_type": "stream",
       "stream": "stdout",
       "text": [
        "\r",
        "Processing frame-01276.png"
       ]
      },
      {
       "output_type": "stream",
       "stream": "stdout",
       "text": [
        "\r",
        "Processing frame-01277.png"
       ]
      },
      {
       "output_type": "stream",
       "stream": "stdout",
       "text": [
        "\r",
        "Processing frame-01278.png"
       ]
      },
      {
       "output_type": "stream",
       "stream": "stdout",
       "text": [
        "\r",
        "Processing frame-01279.png"
       ]
      },
      {
       "output_type": "stream",
       "stream": "stdout",
       "text": [
        "\r",
        "Processing frame-01280.png"
       ]
      }
     ],
     "prompt_number": 227
    },
    {
     "cell_type": "code",
     "collapsed": false,
     "input": [
      "##tryout the classifier\n",
      "image = imread(\"../data/ribbon2/frame-00174.png\")\n",
      "newBg = imread(\"../data/ribbon1_newbg/bg.png\")\n",
      "indices = np.indices(image.shape[:2]).swapaxes(-1, 0).swapaxes(0, 1)\n",
      "data = np.concatenate((image, indices), axis=-1)\n",
      "probabilities = classifier.predict_proba(data.reshape((-1, 5)))\n",
      "print probabilities.shape\n",
      "alphaMatte = probabilities[:, 1]\n",
      "alphaMatte[probabilities[:, 1]>0.5] = 1\n",
      "alphaMatte[probabilities[:, 0]>0.5] = 0\n",
      "# alphaMatte[alphaMatte>0] = 1\n",
      "# alphaMatte[probabilities[:, 1] >= 0.7] = 1\n",
      "# alphaMatte[probabilities[:, 2] >= 0.7] = 0\n",
      "\n",
      "\n",
      "# alphaMatte = (1-alphaMatte[:, 0])+(1-alphaMatte[:, 1])+alphaMatte[:, 2]\n",
      "# alphaMatte = (1-cv2.bilateralFilter(np.array(alphaMatte[:, 0]*255, dtype=float32), 15, 128, 128)/255)+(1-cv2.bilateralFilter(np.array(alphaMatte[:, 1]*255, dtype=float32), 15, 128, 128)/255)+cv2.bilateralFilter(np.array(alphaMatte[:, 2]*255, dtype=float32), 15, 128, 128)/255\n",
      "# alphaMatte /= max(alphaMatte)\n",
      "# alphaMatte = alphaMatte[:, 2]\n",
      "# print alphaMatte[272000, 0], alphaMatte[272000, 1], alphaMatte[272000, 2]\n",
      "# print max(alphaMatte)\n",
      "alphaMatte = alphaMatte.reshape(image.shape[:2])\n",
      "figure(); imshow(probabilities[:, 0].reshape(image.shape[:2]), interpolation='nearest')\n",
      "figure(); imshow(alphaMatte, interpolation='nearest')\n",
      "# filtAlphaMatte = cv2.bilateralFilter(np.array(alphaMatte*255, dtype=float32), 15, 128, 128)/255\n",
      "# filtAlphaMatte = cv2.blur(np.array(alphaMatte*255, dtype=float32), (7, 7))/255\n",
      "# filtAlphaMatte = cv2.GaussianBlur(np.array(alphaMatte*255, dtype=float32), (5, 5), 2.5)/255\n",
      "filtAlphaMatte = cv2.medianBlur(np.array(alphaMatte*255, dtype=float32), 5)/255\n",
      "filtAlphaMatte = cv2.GaussianBlur(filtAlphaMatte, (7, 7), 10.0)\n",
      "figure(); imshow(filtAlphaMatte, interpolation='nearest')\n",
      "\n",
      "filtAlphaMatte = np.repeat(np.reshape(filtAlphaMatte, np.hstack((image.shape[0:2], 1))), image.shape[-1], axis=-1)\n",
      "newImg = (image/255.0)*filtAlphaMatte+(newBg/255.0)*(1-filtAlphaMatte)\n",
      "# newImg = np.round(newBg*ones_like(matte))\n",
      "# newImg[:, :, -1] = (filtResult/255)\n",
      "# newImg[mask==1] = image[mask==1]\n",
      "figure(); imshow(newImg, interpolation='nearest')\n",
      "figure(); imshow(image, interpolation='nearest')"
     ],
     "language": "python",
     "metadata": {},
     "outputs": [
      {
       "ename": "NameError",
       "evalue": "name 'classifier' is not defined",
       "output_type": "pyerr",
       "traceback": [
        "\u001b[0;31m---------------------------------------------------------------------------\u001b[0m\n\u001b[0;31mNameError\u001b[0m                                 Traceback (most recent call last)",
        "\u001b[0;32m<ipython-input-2-dfa8f83d73e3>\u001b[0m in \u001b[0;36m<module>\u001b[0;34m()\u001b[0m\n\u001b[1;32m      4\u001b[0m \u001b[0mindices\u001b[0m \u001b[0;34m=\u001b[0m \u001b[0mnp\u001b[0m\u001b[0;34m.\u001b[0m\u001b[0mindices\u001b[0m\u001b[0;34m(\u001b[0m\u001b[0mimage\u001b[0m\u001b[0;34m.\u001b[0m\u001b[0mshape\u001b[0m\u001b[0;34m[\u001b[0m\u001b[0;34m:\u001b[0m\u001b[0;36m2\u001b[0m\u001b[0;34m]\u001b[0m\u001b[0;34m)\u001b[0m\u001b[0;34m.\u001b[0m\u001b[0mswapaxes\u001b[0m\u001b[0;34m(\u001b[0m\u001b[0;34m-\u001b[0m\u001b[0;36m1\u001b[0m\u001b[0;34m,\u001b[0m \u001b[0;36m0\u001b[0m\u001b[0;34m)\u001b[0m\u001b[0;34m.\u001b[0m\u001b[0mswapaxes\u001b[0m\u001b[0;34m(\u001b[0m\u001b[0;36m0\u001b[0m\u001b[0;34m,\u001b[0m \u001b[0;36m1\u001b[0m\u001b[0;34m)\u001b[0m\u001b[0;34m\u001b[0m\u001b[0m\n\u001b[1;32m      5\u001b[0m \u001b[0mdata\u001b[0m \u001b[0;34m=\u001b[0m \u001b[0mnp\u001b[0m\u001b[0;34m.\u001b[0m\u001b[0mconcatenate\u001b[0m\u001b[0;34m(\u001b[0m\u001b[0;34m(\u001b[0m\u001b[0mimage\u001b[0m\u001b[0;34m,\u001b[0m \u001b[0mindices\u001b[0m\u001b[0;34m)\u001b[0m\u001b[0;34m,\u001b[0m \u001b[0maxis\u001b[0m\u001b[0;34m=\u001b[0m\u001b[0;34m-\u001b[0m\u001b[0;36m1\u001b[0m\u001b[0;34m)\u001b[0m\u001b[0;34m\u001b[0m\u001b[0m\n\u001b[0;32m----> 6\u001b[0;31m \u001b[0mprobabilities\u001b[0m \u001b[0;34m=\u001b[0m \u001b[0mclassifier\u001b[0m\u001b[0;34m.\u001b[0m\u001b[0mpredict_proba\u001b[0m\u001b[0;34m(\u001b[0m\u001b[0mdata\u001b[0m\u001b[0;34m.\u001b[0m\u001b[0mreshape\u001b[0m\u001b[0;34m(\u001b[0m\u001b[0;34m(\u001b[0m\u001b[0;34m-\u001b[0m\u001b[0;36m1\u001b[0m\u001b[0;34m,\u001b[0m \u001b[0;36m5\u001b[0m\u001b[0;34m)\u001b[0m\u001b[0;34m)\u001b[0m\u001b[0;34m)\u001b[0m\u001b[0;34m\u001b[0m\u001b[0m\n\u001b[0m\u001b[1;32m      7\u001b[0m \u001b[0;32mprint\u001b[0m \u001b[0mprobabilities\u001b[0m\u001b[0;34m.\u001b[0m\u001b[0mshape\u001b[0m\u001b[0;34m\u001b[0m\u001b[0m\n\u001b[1;32m      8\u001b[0m \u001b[0malphaMatte\u001b[0m \u001b[0;34m=\u001b[0m \u001b[0mprobabilities\u001b[0m\u001b[0;34m[\u001b[0m\u001b[0;34m:\u001b[0m\u001b[0;34m,\u001b[0m \u001b[0;36m1\u001b[0m\u001b[0;34m]\u001b[0m\u001b[0;34m\u001b[0m\u001b[0m\n",
        "\u001b[0;31mNameError\u001b[0m: name 'classifier' is not defined"
       ]
      }
     ],
     "prompt_number": 2
    },
    {
     "cell_type": "code",
     "collapsed": false,
     "input": [
      "inputImage = imread(\"../data/ribbon2/frame-00001.png\")\n",
      "inputTrimap = imread(\"../data/ribbon2/frame-00001-trimap.png\")\n",
      "## adapt for watershed\n",
      "markers = np.zeros(inputTrimap.shape)\n",
      "markers[inputTrimap == 0] = 1\n",
      "markers[inputTrimap == 255] = 2\n",
      "markers = np.array(markers, dtype=int32)\n",
      "print markers.shape\n",
      "figure(); imshow(inputImage, interpolation='nearest')\n",
      "figure(); imshow(inputTrimap, interpolation='nearest')\n",
      "figure(); imshow(markers, interpolation='nearest')\n",
      "print inputImage.shape\n",
      "cv2.watershed(inputImage, markers)\n",
      "print markers\n",
      "resultImage = np.copy(inputImage)\n",
      "resultImage[markers != 2] = [0, 0, 0]\n",
      "figure(); imshow(resultImage, interpolation='nearest')"
     ],
     "language": "python",
     "metadata": {},
     "outputs": [
      {
       "output_type": "stream",
       "stream": "stdout",
       "text": [
        "(720, 1280)\n",
        "(720, 1280, 3)"
       ]
      },
      {
       "output_type": "stream",
       "stream": "stdout",
       "text": [
        "\n",
        "[[-1 -1 -1 ..., -1 -1 -1]\n",
        " [-1  1  1 ...,  1  1 -1]\n",
        " [-1  1  1 ...,  1  1 -1]\n",
        " ..., \n",
        " [-1  1  1 ...,  1  1 -1]\n",
        " [-1  1  1 ...,  1  1 -1]\n",
        " [-1 -1 -1 ..., -1 -1 -1]]\n"
       ]
      },
      {
       "metadata": {},
       "output_type": "pyout",
       "prompt_number": 64,
       "text": [
        "<matplotlib.image.AxesImage at 0x7f6bbaa90490>"
       ]
      }
     ],
     "prompt_number": 64
    },
    {
     "cell_type": "code",
     "collapsed": false,
     "input": [
      "%pylab\n",
      "import cv2\n",
      "import numpy as np\n",
      "middleground = np.zeros((200, 200))\n",
      "middleground[100, 100] = 1\n",
      "kernel = np.ones((5,5),np.uint8)\n",
      "middleground = cv2.dilate(middleground, kernel, iterations=3)\n",
      "figure(); imshow(middleground, interpolation='nearest')"
     ],
     "language": "python",
     "metadata": {},
     "outputs": [
      {
       "output_type": "stream",
       "stream": "stdout",
       "text": [
        "Using matplotlib backend: TkAgg\n",
        "Populating the interactive namespace from numpy and matplotlib\n"
       ]
      },
      {
       "metadata": {},
       "output_type": "pyout",
       "prompt_number": 10,
       "text": [
        "<matplotlib.image.AxesImage at 0x7fd4360ea450>"
       ]
      }
     ],
     "prompt_number": 10
    },
    {
     "cell_type": "code",
     "collapsed": false,
     "input": [
      "import GraphWithValues as gwv\n",
      "gwv.showCustomGraph(middleground)"
     ],
     "language": "python",
     "metadata": {},
     "outputs": [],
     "prompt_number": 15
    },
    {
     "cell_type": "code",
     "collapsed": false,
     "input": [
      "##tryout the classifier\n",
      "image = imread(\"../data/ribbon2/frame-00174.png\")\n",
      "newBg = imread(\"../data/ribbon1_newbg/bg.png\")\n",
      "indices = np.indices(image.shape[:2]).swapaxes(-1, 0).swapaxes(0, 1)\n",
      "data = np.concatenate((image, indices), axis=-1)\n",
      "probabilities = classifier.predict_proba(data.reshape((-1, 5)))\n",
      "print probabilities.shape\n",
      "alphaMatte = probabilities[:, 2]\n",
      "alphaMatte[probabilities[:, 0]>0.5] = 0\n",
      "alphaMatte[probabilities[:, 1]>0.5] = 0\n",
      "# alphaMatte[alphaMatte>0] = 1\n",
      "# alphaMatte[probabilities[:, 1] >= 0.7] = 1\n",
      "# alphaMatte[probabilities[:, 2] >= 0.7] = 0\n",
      "\n",
      "\n",
      "# alphaMatte = (1-alphaMatte[:, 0])+(1-alphaMatte[:, 1])+alphaMatte[:, 2]\n",
      "# alphaMatte = (1-cv2.bilateralFilter(np.array(alphaMatte[:, 0]*255, dtype=float32), 15, 128, 128)/255)+(1-cv2.bilateralFilter(np.array(alphaMatte[:, 1]*255, dtype=float32), 15, 128, 128)/255)+cv2.bilateralFilter(np.array(alphaMatte[:, 2]*255, dtype=float32), 15, 128, 128)/255\n",
      "# alphaMatte /= max(alphaMatte)\n",
      "# alphaMatte = alphaMatte[:, 2]\n",
      "# print alphaMatte[272000, 0], alphaMatte[272000, 1], alphaMatte[272000, 2]\n",
      "# print max(alphaMatte)\n",
      "alphaMatte = alphaMatte.reshape(image.shape[:2])\n",
      "figure(); imshow(probabilities[:, 0].reshape(image.shape[:2]), interpolation='nearest')\n",
      "figure(); imshow(probabilities[:, 1].reshape(image.shape[:2]), interpolation='nearest')\n",
      "figure(); imshow(alphaMatte, interpolation='nearest')\n",
      "# filtAlphaMatte = cv2.bilateralFilter(np.array(alphaMatte*255, dtype=float32), 15, 128, 128)/255\n",
      "# filtAlphaMatte = cv2.blur(np.array(alphaMatte*255, dtype=float32), (7, 7))/255\n",
      "filtAlphaMatte = cv2.GaussianBlur(np.array(alphaMatte*255, dtype=float32), (5, 5), 2.5)/255\n",
      "figure(); imshow(filtAlphaMatte, interpolation='nearest')\n",
      "\n",
      "filtAlphaMatte = np.repeat(np.reshape(filtAlphaMatte, np.hstack((image.shape[0:2], 1))), image.shape[-1], axis=-1)\n",
      "newImg = (image/255.0)*filtAlphaMatte+(newBg/255.0)*(1-filtAlphaMatte)\n",
      "# newImg = np.round(newBg*ones_like(matte))\n",
      "# newImg[:, :, -1] = (filtResult/255)\n",
      "# newImg[mask==1] = image[mask==1]\n",
      "figure(); imshow(newImg, interpolation='nearest')\n",
      "figure(); imshow(image, interpolation='nearest')"
     ],
     "language": "python",
     "metadata": {},
     "outputs": [
      {
       "ename": "IndexError",
       "evalue": "index 2 is out of bounds for axis 1 with size 2",
       "output_type": "pyerr",
       "traceback": [
        "\u001b[0;31m---------------------------------------------------------------------------\u001b[0m\n\u001b[0;31mIndexError\u001b[0m                                Traceback (most recent call last)",
        "\u001b[0;32m<ipython-input-17-856cde367c41>\u001b[0m in \u001b[0;36m<module>\u001b[0;34m()\u001b[0m\n\u001b[1;32m      6\u001b[0m \u001b[0mprobabilities\u001b[0m \u001b[0;34m=\u001b[0m \u001b[0mclassifier\u001b[0m\u001b[0;34m.\u001b[0m\u001b[0mpredict_proba\u001b[0m\u001b[0;34m(\u001b[0m\u001b[0mdata\u001b[0m\u001b[0;34m.\u001b[0m\u001b[0mreshape\u001b[0m\u001b[0;34m(\u001b[0m\u001b[0;34m(\u001b[0m\u001b[0;34m-\u001b[0m\u001b[0;36m1\u001b[0m\u001b[0;34m,\u001b[0m \u001b[0;36m5\u001b[0m\u001b[0;34m)\u001b[0m\u001b[0;34m)\u001b[0m\u001b[0;34m)\u001b[0m\u001b[0;34m\u001b[0m\u001b[0m\n\u001b[1;32m      7\u001b[0m \u001b[0;32mprint\u001b[0m \u001b[0mprobabilities\u001b[0m\u001b[0;34m.\u001b[0m\u001b[0mshape\u001b[0m\u001b[0;34m\u001b[0m\u001b[0m\n\u001b[0;32m----> 8\u001b[0;31m \u001b[0malphaMatte\u001b[0m \u001b[0;34m=\u001b[0m \u001b[0mprobabilities\u001b[0m\u001b[0;34m[\u001b[0m\u001b[0;34m:\u001b[0m\u001b[0;34m,\u001b[0m \u001b[0;36m2\u001b[0m\u001b[0;34m]\u001b[0m\u001b[0;34m\u001b[0m\u001b[0m\n\u001b[0m\u001b[1;32m      9\u001b[0m \u001b[0malphaMatte\u001b[0m\u001b[0;34m[\u001b[0m\u001b[0mprobabilities\u001b[0m\u001b[0;34m[\u001b[0m\u001b[0;34m:\u001b[0m\u001b[0;34m,\u001b[0m \u001b[0;36m0\u001b[0m\u001b[0;34m]\u001b[0m\u001b[0;34m>\u001b[0m\u001b[0;36m0.5\u001b[0m\u001b[0;34m]\u001b[0m \u001b[0;34m=\u001b[0m \u001b[0;36m0\u001b[0m\u001b[0;34m\u001b[0m\u001b[0m\n\u001b[1;32m     10\u001b[0m \u001b[0malphaMatte\u001b[0m\u001b[0;34m[\u001b[0m\u001b[0mprobabilities\u001b[0m\u001b[0;34m[\u001b[0m\u001b[0;34m:\u001b[0m\u001b[0;34m,\u001b[0m \u001b[0;36m1\u001b[0m\u001b[0;34m]\u001b[0m\u001b[0;34m>\u001b[0m\u001b[0;36m0.5\u001b[0m\u001b[0;34m]\u001b[0m \u001b[0;34m=\u001b[0m \u001b[0;36m0\u001b[0m\u001b[0;34m\u001b[0m\u001b[0m\n",
        "\u001b[0;31mIndexError\u001b[0m: index 2 is out of bounds for axis 1 with size 2"
       ]
      },
      {
       "output_type": "stream",
       "stream": "stdout",
       "text": [
        "(921600, 2)\n"
       ]
      }
     ],
     "prompt_number": 17
    },
    {
     "cell_type": "code",
     "collapsed": false,
     "input": [
      "files = sorted(glob(\"../data/ribbon1/frame*.png\"))\n",
      "trimap = imread(\"../data/ribbon1/trimap2.png\")\n",
      "newBg = imread(\"../data/ribbon1_newbg/bg.png\")"
     ],
     "language": "python",
     "metadata": {},
     "outputs": [],
     "prompt_number": 119
    },
    {
     "cell_type": "code",
     "collapsed": false,
     "input": [
      "files = sorted(glob(\"../data/ribbon1/frame*.png\"))\n",
      "trimap = Image.open(\"../data/ribbon1/trimap2.png\")\n",
      "newBg = imread(\"../data/ribbon1_newbg/bg.png\")"
     ],
     "language": "python",
     "metadata": {},
     "outputs": [],
     "prompt_number": 65
    },
    {
     "cell_type": "code",
     "collapsed": false,
     "input": [
      "for filename in files:\n",
      "    image = imread(filename)\n",
      "    data = np.concatenate((image, indices), axis=-1)\n",
      "    result = classifier.predict(data.reshape((-1, 5)))\n",
      "    mask = np.repeat(result.reshape(np.hstack((image.shape[:2], 1))), image.shape[-1], axis=-1)\n",
      "    newImg = np.zeros_like(image)\n",
      "    newImg[mask==0] = newBg[mask==0] \n",
      "    newImg[mask==1] = image[mask==1]\n",
      "    imsave(filename, newImg)"
     ],
     "language": "python",
     "metadata": {},
     "outputs": []
    },
    {
     "cell_type": "code",
     "collapsed": false,
     "input": [
      "# train on first frame\n",
      "# augment with x-y positional data\n",
      "classifier = ensemble.ExtraTreesClassifier()\n",
      "first_frame = imread(files[0])\n",
      "\n",
      "indices = np.indices(first_frame.shape[:2]).swapaxes(-1, 0).swapaxes(0, 1)\n",
      "data = np.concatenate((first_frame, indices), axis=-1)\n",
      "print data.shape\n",
      "\n",
      "# extract training data\n",
      "background = data[trimap == 0]\n",
      "print background.shape\n",
      "foreground = data[trimap == 255]\n",
      "print foreground.shape\n",
      "\n",
      "X = np.vstack((background, foreground))\n",
      "print X.shape\n",
      "y = np.repeat([0.0, 1.0], [background.shape[0], foreground.shape[0]])\n",
      "print y.shape\n",
      "classifier.fit(X, y)"
     ],
     "language": "python",
     "metadata": {},
     "outputs": [
      {
       "output_type": "stream",
       "stream": "stdout",
       "text": [
        "(720, 1280, 5)\n",
        "(851129, 5)"
       ]
      },
      {
       "output_type": "stream",
       "stream": "stdout",
       "text": [
        "\n",
        "(21674, 5)\n",
        "(872803, 5)\n",
        "(872803,)\n"
       ]
      },
      {
       "metadata": {},
       "output_type": "pyout",
       "prompt_number": 98,
       "text": [
        "ExtraTreesClassifier(bootstrap=False, compute_importances=None,\n",
        "           criterion='gini', max_depth=None, max_features='auto',\n",
        "           min_density=None, min_samples_leaf=1, min_samples_split=2,\n",
        "           n_estimators=10, n_jobs=1, oob_score=False, random_state=None,\n",
        "           verbose=0)"
       ]
      }
     ],
     "prompt_number": 98
    },
    {
     "cell_type": "code",
     "collapsed": false,
     "input": [
      "image = imread(files[897])\n",
      "data = np.concatenate((image, indices), axis=-1)\n",
      "result = classifier.predict_proba(data.reshape((-1, 5)))\n",
      "result = result[:, 1].reshape(image.shape[:2])\n",
      "print result.shape\n",
      "figure(); imshow(result, interpolation='nearest')"
     ],
     "language": "python",
     "metadata": {},
     "outputs": [
      {
       "output_type": "stream",
       "stream": "stdout",
       "text": [
        "(720, 1280)\n"
       ]
      },
      {
       "metadata": {},
       "output_type": "pyout",
       "prompt_number": 190,
       "text": [
        "<matplotlib.image.AxesImage at 0x7f9ce79f29d0>"
       ]
      }
     ],
     "prompt_number": 190
    },
    {
     "cell_type": "code",
     "collapsed": false,
     "input": [
      "filtResult = cv2.bilateralFilter(np.array(result*255, dtype=float32), 15, 128, 128)\n",
      "figure(); imshow(filtResult, interpolation='nearest')"
     ],
     "language": "python",
     "metadata": {},
     "outputs": [
      {
       "metadata": {},
       "output_type": "pyout",
       "prompt_number": 189,
       "text": [
        "<matplotlib.image.AxesImage at 0x7f9ce7ab6390>"
       ]
      }
     ],
     "prompt_number": 189
    },
    {
     "cell_type": "code",
     "collapsed": false,
     "input": [
      "print filtResult[250:300, 1150:1200]/255"
     ],
     "language": "python",
     "metadata": {},
     "outputs": [
      {
       "output_type": "stream",
       "stream": "stdout",
       "text": [
        "[[  8.96988332e-01   8.89755368e-01   8.44617188e-01   8.34255159e-01\n",
        "    8.22594941e-01   8.09166491e-01   7.42043197e-01   5.88717997e-01\n",
        "    4.91106868e-01   3.97317082e-01   1.99142098e-01   1.92197353e-01\n",
        "    1.86934084e-01   1.80675238e-01   1.73749983e-01   1.33455306e-01\n",
        "    1.28478527e-01   1.23576976e-01   1.22260027e-01   1.20255567e-01\n",
        "    1.17250919e-01   1.11210205e-01   1.06303930e-01   1.00414425e-01\n",
        "    9.40510109e-02   8.42086077e-02   7.44789988e-02   6.45406768e-02\n",
        "    5.45996092e-02   4.43581194e-02   3.50980200e-02   2.49574129e-02\n",
        "    1.50711006e-02   6.15038536e-03   1.89790013e-03   0.00000000e+00\n",
        "    0.00000000e+00   0.00000000e+00   0.00000000e+00   0.00000000e+00\n",
        "    0.00000000e+00   0.00000000e+00   0.00000000e+00   0.00000000e+00\n",
        "    0.00000000e+00   0.00000000e+00   0.00000000e+00   0.00000000e+00\n",
        "    0.00000000e+00   0.00000000e+00]\n",
        " [  9.26259339e-01   9.19720054e-01   9.10030305e-01   9.01713312e-01\n",
        "    8.92954588e-01   8.83405685e-01   8.73106003e-01   8.63278866e-01\n",
        "    8.13714564e-01   7.53983498e-01   6.81716859e-01   5.97835958e-01\n",
        "    5.79238117e-01   4.88721251e-01   4.00366843e-01   2.63220251e-01\n",
        "    2.05296546e-01   1.62630811e-01   1.99743167e-01   1.96596846e-01\n",
        "    1.91335171e-01   1.81994036e-01   1.73494548e-01   1.61168426e-01\n",
        "    2.22719476e-01   1.62308916e-01   1.42604008e-01   9.96951014e-02\n",
        "    6.84912354e-02   5.60581088e-02   4.50483337e-02   3.39362770e-02\n",
        "    2.24398784e-02   1.17758075e-02   4.24534502e-03   0.00000000e+00\n",
        "    0.00000000e+00   0.00000000e+00   0.00000000e+00   0.00000000e+00\n",
        "    0.00000000e+00   0.00000000e+00   0.00000000e+00   0.00000000e+00\n",
        "    0.00000000e+00   0.00000000e+00   0.00000000e+00   0.00000000e+00\n",
        "    0.00000000e+00   0.00000000e+00]\n",
        " [  9.46664214e-01   9.40098763e-01   9.34483945e-01   9.27272737e-01\n",
        "    9.20479238e-01   9.12438750e-01   9.04046237e-01   8.95281732e-01\n",
        "    8.55698824e-01   8.46124172e-01   7.96275437e-01   7.81958342e-01\n",
        "    7.65966237e-01   7.49720633e-01   6.79932475e-01   6.67190492e-01\n",
        "    6.56375647e-01   6.48980618e-01   4.43504602e-01   4.34597254e-01\n",
        "    3.57670426e-01   4.09946144e-01   4.56825078e-01   4.27274883e-01\n",
        "    4.57852006e-01   4.18351144e-01   1.75463244e-01   1.23147376e-01\n",
        "    1.03384607e-01   7.05649853e-02   5.63276187e-02   4.22235467e-02\n",
        "    2.99035683e-02   1.68651529e-02   6.59888098e-03   6.57533645e-04\n",
        "    0.00000000e+00   0.00000000e+00   0.00000000e+00   0.00000000e+00\n",
        "    0.00000000e+00   0.00000000e+00   0.00000000e+00   0.00000000e+00\n",
        "    0.00000000e+00   0.00000000e+00   0.00000000e+00   0.00000000e+00\n",
        "    0.00000000e+00   0.00000000e+00]\n",
        " [  9.62518334e-01   9.59323287e-01   9.54433739e-01   9.48906183e-01\n",
        "    9.41940010e-01   9.34632242e-01   9.28170741e-01   9.20515239e-01\n",
        "    9.12614048e-01   9.06242728e-01   8.98339748e-01   8.63171577e-01\n",
        "    8.50173056e-01   8.36075127e-01   8.23567569e-01   8.13761950e-01\n",
        "    8.05622578e-01   8.00172567e-01   7.09067523e-01   7.01613247e-01\n",
        "    6.33165717e-01   7.23882258e-01   6.97971523e-01   6.68170631e-01\n",
        "    6.88407242e-01   7.10260987e-01   4.26978916e-01   1.79646134e-01\n",
        "    1.49489552e-01   8.23336020e-02   6.56890273e-02   4.90657948e-02\n",
        "    3.47024091e-02   2.21415889e-02   1.02081057e-02   1.89764844e-03\n",
        "    0.00000000e+00   0.00000000e+00   0.00000000e+00   0.00000000e+00\n",
        "    0.00000000e+00   0.00000000e+00   0.00000000e+00   0.00000000e+00\n",
        "    0.00000000e+00   0.00000000e+00   0.00000000e+00   0.00000000e+00\n",
        "    0.00000000e+00   0.00000000e+00]\n",
        " [  9.76910532e-01   9.75173891e-01   9.71008301e-01   9.65985775e-01\n",
        "    9.59675789e-01   9.53600168e-01   9.46879983e-01   9.40632880e-01\n",
        "    9.34578180e-01   9.28041756e-01   9.20398951e-01   9.13866222e-01\n",
        "    9.03892457e-01   8.93727839e-01   8.60131562e-01   8.51508677e-01\n",
        "    8.42795312e-01   8.05868983e-01   8.32263947e-01   8.27350914e-01\n",
        "    8.16020846e-01   7.96456039e-01   8.03458273e-01   7.81072438e-01\n",
        "    7.57025361e-01   7.36106813e-01   5.98542035e-01   4.23328131e-01\n",
        "    2.10384399e-01   9.51357931e-02   7.53459632e-02   5.68320788e-02\n",
        "    4.07688804e-02   2.62317043e-02   1.33507149e-02   3.66104138e-03\n",
        "    0.00000000e+00   0.00000000e+00   0.00000000e+00   0.00000000e+00\n",
        "    0.00000000e+00   0.00000000e+00   0.00000000e+00   0.00000000e+00\n",
        "    0.00000000e+00   0.00000000e+00   0.00000000e+00   0.00000000e+00\n",
        "    0.00000000e+00   0.00000000e+00]\n",
        " [  9.90732253e-01   9.88784313e-01   9.86291349e-01   9.81560051e-01\n",
        "    9.75814342e-01   9.68837798e-01   9.63572621e-01   9.59280670e-01\n",
        "    9.53094482e-01   9.46079969e-01   9.39614773e-01   9.32801604e-01\n",
        "    9.25146878e-01   9.15529668e-01   9.05089557e-01   8.96621585e-01\n",
        "    8.71919394e-01   8.66025805e-01   8.61209095e-01   8.57802927e-01\n",
        "    8.43568444e-01   8.42722654e-01   8.21767151e-01   7.99751639e-01\n",
        "    7.76836395e-01   7.55692899e-01   6.82829440e-01   4.61638719e-01\n",
        "    2.37774879e-01   1.07804246e-01   8.44022259e-02   6.37005940e-02\n",
        "    4.58463989e-02   2.94083487e-02   1.57327149e-02   4.32042312e-03\n",
        "    6.57613913e-04   0.00000000e+00   0.00000000e+00   0.00000000e+00\n",
        "    0.00000000e+00   0.00000000e+00   0.00000000e+00   0.00000000e+00\n",
        "    0.00000000e+00   0.00000000e+00   0.00000000e+00   0.00000000e+00\n",
        "    0.00000000e+00   0.00000000e+00]\n",
        " [  9.98026788e-01   9.97368455e-01   9.95405972e-01   9.93473232e-01\n",
        "    9.90916133e-01   9.85637784e-01   9.80292141e-01   9.75621045e-01\n",
        "    9.70191836e-01   9.64066625e-01   9.57383096e-01   9.50448871e-01\n",
        "    9.43268120e-01   9.33569908e-01   9.22987521e-01   9.13121521e-01\n",
        "    9.06877756e-01   9.01229799e-01   8.84248734e-01   8.82150292e-01\n",
        "    8.67286026e-01   8.58855605e-01   8.35322559e-01   8.13283026e-01\n",
        "    7.92319894e-01   7.71573126e-01   7.48094320e-01   4.93490964e-01\n",
        "    2.60842383e-01   1.42010987e-01   9.09998268e-02   6.79603890e-02\n",
        "    4.95716259e-02   3.26141901e-02   1.69939175e-02   4.97995876e-03\n",
        "    1.31542119e-03   0.00000000e+00   0.00000000e+00   0.00000000e+00\n",
        "    0.00000000e+00   0.00000000e+00   0.00000000e+00   0.00000000e+00\n",
        "    0.00000000e+00   0.00000000e+00   0.00000000e+00   0.00000000e+00\n",
        "    0.00000000e+00   0.00000000e+00]\n",
        " [  1.00000012e+00   1.00000012e+00   9.99342501e-01   9.99342501e-01\n",
        "    9.98684764e-01   9.97368336e-01   9.93638873e-01   9.89302874e-01\n",
        "    9.84629095e-01   9.80085850e-01   9.73586738e-01   9.66406107e-01\n",
        "    9.57511485e-01   9.45696354e-01   9.33317363e-01   9.24192667e-01\n",
        "    9.17167008e-01   9.11121905e-01   9.06397641e-01   8.93482506e-01\n",
        "    8.80993307e-01   8.67305577e-01   8.41548145e-01   8.19412351e-01\n",
        "    7.98611462e-01   7.78911352e-01   6.77008152e-01   5.14900565e-01\n",
        "    2.75623143e-01   1.49318755e-01   9.44895595e-02   7.16822967e-02\n",
        "    5.25609888e-02   3.47067900e-02   1.76613014e-02   5.63960848e-03\n",
        "    1.31548150e-03   0.00000000e+00   0.00000000e+00   0.00000000e+00\n",
        "    0.00000000e+00   0.00000000e+00   0.00000000e+00   0.00000000e+00\n",
        "    0.00000000e+00   0.00000000e+00   0.00000000e+00   0.00000000e+00\n",
        "    0.00000000e+00   0.00000000e+00]\n",
        " [  1.00000012e+00   1.00000012e+00   9.98760521e-01   9.98760521e-01\n",
        "    9.98760521e-01   9.98102427e-01   9.97443974e-01   9.94883835e-01\n",
        "    9.91209030e-01   9.87387180e-01   9.81770456e-01   9.74575102e-01\n",
        "    9.64541972e-01   9.50353682e-01   9.37427521e-01   9.28169370e-01\n",
        "    9.19006050e-01   9.13398623e-01   9.07713473e-01   8.93477023e-01\n",
        "    8.81095290e-01   8.68302226e-01   8.43856037e-01   8.22602928e-01\n",
        "    8.02002788e-01   7.83029318e-01   6.36170566e-01   4.61728245e-01\n",
        "    2.78157920e-01   1.48777843e-01   1.16454020e-01   7.32247606e-02\n",
        "    5.38009554e-02   3.50072943e-02   1.72613412e-02   6.29933225e-03\n",
        "    1.31550152e-03   6.57533645e-04   0.00000000e+00   0.00000000e+00\n",
        "    0.00000000e+00   0.00000000e+00   0.00000000e+00   0.00000000e+00\n",
        "    0.00000000e+00   0.00000000e+00   0.00000000e+00   0.00000000e+00\n",
        "    0.00000000e+00   0.00000000e+00]\n",
        " [  9.96277153e-01   9.94585454e-01   9.92968500e-01   9.91719127e-01\n",
        "    9.90468502e-01   9.88763511e-01   9.87645388e-01   9.86525536e-01\n",
        "    9.84317183e-01   9.81519818e-01   9.75799739e-01   9.69198048e-01\n",
        "    9.58480179e-01   9.44710314e-01   9.31746840e-01   9.22593892e-01\n",
        "    9.08651829e-01   9.00987387e-01   8.94663095e-01   8.79077375e-01\n",
        "    8.62187684e-01   8.52333367e-01   8.30554068e-01   8.03901374e-01\n",
        "    7.77140796e-01   7.49630630e-01   6.27782166e-01   4.52605665e-01\n",
        "    2.28639022e-01   1.49180576e-01   9.49806869e-02   7.27667212e-02\n",
        "    5.29868826e-02   3.39585654e-02   1.68030541e-02   5.85106667e-03\n",
        "    1.31548150e-03   0.00000000e+00   0.00000000e+00   0.00000000e+00\n",
        "    0.00000000e+00   0.00000000e+00   0.00000000e+00   0.00000000e+00\n",
        "    0.00000000e+00   0.00000000e+00   0.00000000e+00   0.00000000e+00\n",
        "    0.00000000e+00   0.00000000e+00]\n",
        " [  9.84495819e-01   9.82288063e-01   9.79847670e-01   9.77702379e-01\n",
        "    9.75074708e-01   9.72738326e-01   9.70771134e-01   9.70385611e-01\n",
        "    9.69378293e-01   9.66324031e-01   9.62043285e-01   9.55560148e-01\n",
        "    9.46082294e-01   9.33237255e-01   9.20036912e-01   9.10343766e-01\n",
        "    9.03730273e-01   8.97878170e-01   8.79280686e-01   8.58395457e-01\n",
        "    8.40725422e-01   8.38234723e-01   8.16318095e-01   7.91131675e-01\n",
        "    7.64077127e-01   7.36136913e-01   5.49959421e-01   4.30143803e-01\n",
        "    2.17303440e-01   1.42866269e-01   9.21678096e-02   6.93674833e-02\n",
        "    5.05285971e-02   3.19863446e-02   1.57526098e-02   5.19174896e-03\n",
        "    1.31542119e-03   0.00000000e+00   0.00000000e+00   0.00000000e+00\n",
        "    0.00000000e+00   0.00000000e+00   0.00000000e+00   0.00000000e+00\n",
        "    0.00000000e+00   0.00000000e+00   0.00000000e+00   0.00000000e+00\n",
        "    0.00000000e+00   0.00000000e+00]\n",
        " [  9.68597114e-01   9.66401637e-01   9.64464426e-01   9.62128937e-01\n",
        "    9.59908009e-01   9.57430482e-01   9.55431402e-01   9.53220844e-01\n",
        "    9.51604486e-01   9.47742939e-01   9.43035603e-01   9.37522829e-01\n",
        "    9.28995907e-01   9.17319834e-01   9.04340923e-01   8.93904865e-01\n",
        "    8.85763824e-01   8.78879786e-01   8.56269896e-01   8.27786565e-01\n",
        "    8.09979856e-01   8.09713423e-01   7.89159179e-01   7.65658736e-01\n",
        "    7.36463249e-01   7.06062734e-01   5.70519447e-01   3.99007976e-01\n",
        "    1.98838219e-01   1.31264880e-01   8.61673206e-02   6.52233958e-02\n",
        "    4.59838100e-02   2.85981949e-02   1.33761624e-02   4.53250436e-03\n",
        "    1.31532084e-03   0.00000000e+00   0.00000000e+00   0.00000000e+00\n",
        "    0.00000000e+00   0.00000000e+00   0.00000000e+00   0.00000000e+00\n",
        "    0.00000000e+00   0.00000000e+00   0.00000000e+00   0.00000000e+00\n",
        "    0.00000000e+00   0.00000000e+00]\n",
        " [  9.51569319e-01   9.49718595e-01   9.47007239e-01   9.44453776e-01\n",
        "    9.41504955e-01   9.39499438e-01   9.36987340e-01   9.33132291e-01\n",
        "    9.29763436e-01   9.26073194e-01   9.20826137e-01   9.13911760e-01\n",
        "    9.05350745e-01   8.94504070e-01   8.82438123e-01   8.72560441e-01\n",
        "    8.62931490e-01   8.55201066e-01   7.98060060e-01   7.87049830e-01\n",
        "    7.70299137e-01   7.46553004e-01   7.83562601e-01   7.63285935e-01\n",
        "    7.01671183e-01   6.69046760e-01   4.70425427e-01   3.60558808e-01\n",
        "    1.76941246e-01   9.68081206e-02   7.78368860e-02   5.89026287e-02\n",
        "    4.05780971e-02   2.48656869e-02   1.10054435e-02   3.87337431e-03\n",
        "    0.00000000e+00   0.00000000e+00   0.00000000e+00   0.00000000e+00\n",
        "    0.00000000e+00   0.00000000e+00   0.00000000e+00   0.00000000e+00\n",
        "    0.00000000e+00   0.00000000e+00   0.00000000e+00   0.00000000e+00\n",
        "    0.00000000e+00   0.00000000e+00]\n",
        " [  9.31235492e-01   9.29067850e-01   9.26458597e-01   9.23744142e-01\n",
        "    9.20452118e-01   9.17269051e-01   9.14469182e-01   9.09750640e-01\n",
        "    9.03909385e-01   8.99640381e-01   8.94820094e-01   8.88671041e-01\n",
        "    8.78952384e-01   8.67811620e-01   8.54864419e-01   7.79586196e-01\n",
        "    7.70426095e-01   7.61625946e-01   7.51236379e-01   7.40932047e-01\n",
        "    7.23749638e-01   7.02123165e-01   6.74787700e-01   6.45816684e-01\n",
        "    5.61966896e-01   5.23674667e-01   4.24245209e-01   2.25471213e-01\n",
        "    1.26772821e-01   8.53403285e-02   6.77262843e-02   5.07135242e-02\n",
        "    3.43929566e-02   2.03149747e-02   8.71767476e-03   1.97338220e-03\n",
        "    0.00000000e+00   0.00000000e+00   0.00000000e+00   0.00000000e+00\n",
        "    0.00000000e+00   0.00000000e+00   0.00000000e+00   0.00000000e+00\n",
        "    0.00000000e+00   0.00000000e+00   0.00000000e+00   0.00000000e+00\n",
        "    0.00000000e+00   0.00000000e+00]\n",
        " [  9.08164263e-01   9.05134082e-01   9.01979268e-01   8.98116887e-01\n",
        "    8.94142389e-01   8.90054226e-01   8.85770082e-01   8.80611062e-01\n",
        "    8.75250518e-01   8.69700611e-01   8.30645084e-01   8.23828340e-01\n",
        "    8.12766790e-01   7.56455719e-01   7.41809249e-01   6.78625643e-01\n",
        "    6.11990631e-01   6.03211403e-01   5.94086766e-01   5.81678748e-01\n",
        "    5.66742361e-01   5.45927107e-01   5.73140800e-01   5.41851461e-01\n",
        "    4.51374412e-01   4.13972825e-01   1.55177042e-01   1.31504819e-01\n",
        "    8.91922191e-02   7.26394355e-02   5.72257899e-02   4.23776209e-02\n",
        "    2.77780890e-02   1.48805445e-02   5.11671649e-03   6.57613913e-04\n",
        "    0.00000000e+00   0.00000000e+00   0.00000000e+00   0.00000000e+00\n",
        "    0.00000000e+00   0.00000000e+00   0.00000000e+00   0.00000000e+00\n",
        "    0.00000000e+00   0.00000000e+00   0.00000000e+00   0.00000000e+00\n",
        "    0.00000000e+00   0.00000000e+00]\n",
        " [  8.77630770e-01   8.74471486e-01   7.95570791e-01   7.89132178e-01\n",
        "    7.81986952e-01   7.74308324e-01   7.66299367e-01   7.57155359e-01\n",
        "    6.90304041e-01   6.80538356e-01   6.71221018e-01   6.61385536e-01\n",
        "    6.49562240e-01   4.97978389e-01   4.87152368e-01   4.77327138e-01\n",
        "    4.04748023e-01   3.99899751e-01   3.35015118e-01   2.76673496e-01\n",
        "    3.19696337e-01   3.07687581e-01   2.43564889e-01   2.24276230e-01\n",
        "    2.02400371e-01   1.77292764e-01   1.27028853e-01   1.07506335e-01\n",
        "    7.25558475e-02   5.82969785e-02   4.61325310e-02   3.23867425e-02\n",
        "    2.02587228e-02   1.02064908e-02   3.21464962e-03   0.00000000e+00\n",
        "    0.00000000e+00   0.00000000e+00   0.00000000e+00   0.00000000e+00\n",
        "    0.00000000e+00   0.00000000e+00   0.00000000e+00   0.00000000e+00\n",
        "    0.00000000e+00   0.00000000e+00   0.00000000e+00   0.00000000e+00\n",
        "    0.00000000e+00   0.00000000e+00]\n",
        " [  7.51610637e-01   6.84987068e-01   5.29332161e-01   5.18099546e-01\n",
        "    5.06684840e-01   4.95807767e-01   4.85952526e-01   4.73860204e-01\n",
        "    3.18561882e-01   2.51756400e-01   1.96942180e-01   1.93736926e-01\n",
        "    2.37320185e-01   2.32626155e-01   1.85144037e-01   1.83055013e-01\n",
        "    1.81956396e-01   1.80098251e-01   1.79081410e-01   1.46111891e-01\n",
        "    1.73276976e-01   1.66968584e-01   1.29602909e-01   1.20601296e-01\n",
        "    1.08213842e-01   9.52142403e-02   8.28615278e-02   7.03033134e-02\n",
        "    5.71122468e-02   4.57132123e-02   3.45582291e-02   2.35786568e-02\n",
        "    1.28958942e-02   5.56478230e-03   6.57613913e-04   0.00000000e+00\n",
        "    0.00000000e+00   0.00000000e+00   0.00000000e+00   0.00000000e+00\n",
        "    0.00000000e+00   0.00000000e+00   0.00000000e+00   0.00000000e+00\n",
        "    0.00000000e+00   0.00000000e+00   0.00000000e+00   0.00000000e+00\n",
        "    0.00000000e+00   0.00000000e+00]\n",
        " [  4.67089206e-01   2.48511285e-01   1.89997450e-01   1.83612674e-01\n",
        "    1.76788241e-01   1.33272350e-01   1.29684046e-01   1.26683310e-01\n",
        "    1.22597978e-01   1.19628653e-01   1.18165009e-01   1.16738603e-01\n",
        "    1.14860326e-01   1.12337992e-01   1.12108797e-01   1.12647459e-01\n",
        "    1.12458564e-01   1.12770870e-01   1.12611137e-01   1.11904383e-01\n",
        "    1.07917249e-01   1.04044192e-01   9.84246656e-02   9.13392007e-02\n",
        "    8.26873928e-02   7.24626780e-02   6.40040934e-02   5.38455360e-02\n",
        "    4.31550629e-02   3.43346335e-02   2.50077303e-02   1.55309634e-02\n",
        "    6.88501867e-03   1.97354262e-03   0.00000000e+00   0.00000000e+00\n",
        "    0.00000000e+00   0.00000000e+00   0.00000000e+00   0.00000000e+00\n",
        "    0.00000000e+00   0.00000000e+00   0.00000000e+00   0.00000000e+00\n",
        "    0.00000000e+00   0.00000000e+00   0.00000000e+00   0.00000000e+00\n",
        "    0.00000000e+00   0.00000000e+00]\n",
        " [  1.21677369e-01   1.17176570e-01   1.12880960e-01   1.08863831e-01\n",
        "    1.04102589e-01   9.98089388e-02   9.70415920e-02   9.44994986e-02\n",
        "    9.25751999e-02   9.06843990e-02   8.88873562e-02   8.79238546e-02\n",
        "    8.74035656e-02   8.54548141e-02   8.49759430e-02   8.54506567e-02\n",
        "    8.48119482e-02   8.47584903e-02   8.50024372e-02   8.37937891e-02\n",
        "    8.10996443e-02   7.70796016e-02   7.20681399e-02   6.67538345e-02\n",
        "    6.03796728e-02   5.27798384e-02   4.64039110e-02   3.87097709e-02\n",
        "    3.00464518e-02   2.28462927e-02   1.48627292e-02   7.47091789e-03\n",
        "    2.63187755e-03   6.57613913e-04   0.00000000e+00   0.00000000e+00\n",
        "    0.00000000e+00   0.00000000e+00   0.00000000e+00   0.00000000e+00\n",
        "    0.00000000e+00   0.00000000e+00   0.00000000e+00   0.00000000e+00\n",
        "    0.00000000e+00   0.00000000e+00   0.00000000e+00   0.00000000e+00\n",
        "    0.00000000e+00   0.00000000e+00]\n",
        " [  9.09576043e-02   8.78952965e-02   8.48918557e-02   8.16051662e-02\n",
        "    7.76373297e-02   7.45938793e-02   7.23498762e-02   7.01548532e-02\n",
        "    6.77161142e-02   6.61539584e-02   6.46133944e-02   6.31972924e-02\n",
        "    6.33557439e-02   6.23868518e-02   6.13904893e-02   6.11662976e-02\n",
        "    6.07382245e-02   6.04543984e-02   6.02984130e-02   5.81375286e-02\n",
        "    5.59051745e-02   5.37756607e-02   4.96188551e-02   4.55453806e-02\n",
        "    4.10227180e-02   3.56686376e-02   3.06613930e-02   2.45915260e-02\n",
        "    1.79442093e-02   1.15019195e-02   6.22504205e-03   2.63191806e-03\n",
        "    6.57694181e-04   0.00000000e+00   0.00000000e+00   0.00000000e+00\n",
        "    0.00000000e+00   0.00000000e+00   0.00000000e+00   0.00000000e+00\n",
        "    0.00000000e+00   0.00000000e+00   0.00000000e+00   0.00000000e+00\n",
        "    0.00000000e+00   0.00000000e+00   0.00000000e+00   0.00000000e+00\n",
        "    0.00000000e+00   0.00000000e+00]\n",
        " [  6.64632171e-02   6.39022514e-02   6.19292222e-02   5.94647788e-02\n",
        "    5.67671806e-02   5.38972579e-02   5.10549732e-02   4.83720750e-02\n",
        "    4.65171747e-02   4.48960885e-02   4.35950123e-02   4.23107296e-02\n",
        "    4.18921895e-02   4.13958952e-02   4.00393233e-02   3.99847291e-02\n",
        "    4.04773355e-02   3.99791673e-02   3.81580442e-02   3.59221697e-02\n",
        "    3.41414809e-02   3.26627009e-02   3.05723660e-02   2.73372009e-02\n",
        "    2.41827983e-02   2.03295033e-02   1.62105747e-02   1.20933773e-02\n",
        "    7.77673628e-03   3.87397967e-03   1.97366322e-03   6.57694181e-04\n",
        "    0.00000000e+00   0.00000000e+00   0.00000000e+00   0.00000000e+00\n",
        "    0.00000000e+00   0.00000000e+00   0.00000000e+00   0.00000000e+00\n",
        "    0.00000000e+00   0.00000000e+00   0.00000000e+00   0.00000000e+00\n",
        "    0.00000000e+00   0.00000000e+00   0.00000000e+00   0.00000000e+00\n",
        "    0.00000000e+00   0.00000000e+00]\n",
        " [  4.62545305e-02   4.38817888e-02   4.22037393e-02   4.05522622e-02\n",
        "    3.81781459e-02   3.62723358e-02   3.29248719e-02   3.03100497e-02\n",
        "    2.89620049e-02   2.76223738e-02   2.61980426e-02   2.51876842e-02\n",
        "    2.39256285e-02   2.32627820e-02   2.27823630e-02   2.21996251e-02\n",
        "    2.17508636e-02   2.07520314e-02   1.90873891e-02   1.75652709e-02\n",
        "    1.61528625e-02   1.47445826e-02   1.34367459e-02   1.21793924e-02\n",
        "    1.13207884e-02   8.95206910e-03   5.70149720e-03   4.45745932e-03\n",
        "    2.55634869e-03   1.31550152e-03   6.57613913e-04   0.00000000e+00\n",
        "    0.00000000e+00   0.00000000e+00   0.00000000e+00   0.00000000e+00\n",
        "    0.00000000e+00   0.00000000e+00   0.00000000e+00   0.00000000e+00\n",
        "    0.00000000e+00   0.00000000e+00   0.00000000e+00   0.00000000e+00\n",
        "    0.00000000e+00   0.00000000e+00   0.00000000e+00   0.00000000e+00\n",
        "    0.00000000e+00   0.00000000e+00]\n",
        " [  2.89156158e-02   2.68416125e-02   2.53783856e-02   2.30623893e-02\n",
        "    2.13963185e-02   1.90870930e-02   1.69519596e-02   1.48282573e-02\n",
        "    1.29799647e-02   1.14721749e-02   1.06367078e-02   9.21547227e-03\n",
        "    8.17457959e-03   7.84222223e-03   7.84214959e-03   7.84200616e-03\n",
        "    6.49961503e-03   5.91398869e-03   5.63916611e-03   4.53236420e-03\n",
        "    4.32038307e-03   3.66120250e-03   2.55619735e-03   2.55603623e-03\n",
        "    1.89764833e-03   1.23953412e-03   6.57533645e-04   6.57533645e-04\n",
        "    0.00000000e+00   0.00000000e+00   0.00000000e+00   0.00000000e+00\n",
        "    0.00000000e+00   0.00000000e+00   0.00000000e+00   0.00000000e+00\n",
        "    0.00000000e+00   0.00000000e+00   0.00000000e+00   0.00000000e+00\n",
        "    0.00000000e+00   0.00000000e+00   0.00000000e+00   0.00000000e+00\n",
        "    0.00000000e+00   0.00000000e+00   0.00000000e+00   0.00000000e+00\n",
        "    0.00000000e+00   0.00000000e+00]\n",
        " [  1.36465104e-02   1.18644554e-02   9.42101516e-03   7.34117161e-03\n",
        "    5.27239917e-03   4.02670912e-03   3.36658559e-03   2.70669675e-03\n",
        "    1.68466393e-03   1.23953412e-03   6.57533645e-04   6.57533645e-04\n",
        "    1.23953412e-03   1.23953412e-03   6.57533645e-04   6.57533645e-04\n",
        "    6.57533645e-04   6.57533645e-04   6.57533645e-04   0.00000000e+00\n",
        "    6.57533645e-04   6.57533645e-04   0.00000000e+00   0.00000000e+00\n",
        "    0.00000000e+00   0.00000000e+00   0.00000000e+00   0.00000000e+00\n",
        "    0.00000000e+00   0.00000000e+00   0.00000000e+00   0.00000000e+00\n",
        "    0.00000000e+00   0.00000000e+00   0.00000000e+00   0.00000000e+00\n",
        "    0.00000000e+00   0.00000000e+00   0.00000000e+00   0.00000000e+00\n",
        "    0.00000000e+00   0.00000000e+00   0.00000000e+00   0.00000000e+00\n",
        "    0.00000000e+00   0.00000000e+00   0.00000000e+00   0.00000000e+00\n",
        "    0.00000000e+00   0.00000000e+00]\n",
        " [  2.70669675e-03   1.23953412e-03   6.57533645e-04   6.57533645e-04\n",
        "    6.57533645e-04   0.00000000e+00   0.00000000e+00   0.00000000e+00\n",
        "    0.00000000e+00   0.00000000e+00   0.00000000e+00   0.00000000e+00\n",
        "    0.00000000e+00   0.00000000e+00   0.00000000e+00   0.00000000e+00\n",
        "    0.00000000e+00   0.00000000e+00   0.00000000e+00   0.00000000e+00\n",
        "    0.00000000e+00   0.00000000e+00   0.00000000e+00   0.00000000e+00\n",
        "    0.00000000e+00   0.00000000e+00   0.00000000e+00   0.00000000e+00\n",
        "    0.00000000e+00   0.00000000e+00   0.00000000e+00   0.00000000e+00\n",
        "    0.00000000e+00   0.00000000e+00   0.00000000e+00   0.00000000e+00\n",
        "    0.00000000e+00   0.00000000e+00   0.00000000e+00   0.00000000e+00\n",
        "    0.00000000e+00   0.00000000e+00   0.00000000e+00   0.00000000e+00\n",
        "    0.00000000e+00   0.00000000e+00   0.00000000e+00   0.00000000e+00\n",
        "    0.00000000e+00   0.00000000e+00]\n",
        " [  0.00000000e+00   0.00000000e+00   0.00000000e+00   0.00000000e+00\n",
        "    0.00000000e+00   0.00000000e+00   0.00000000e+00   0.00000000e+00\n",
        "    0.00000000e+00   0.00000000e+00   0.00000000e+00   0.00000000e+00\n",
        "    0.00000000e+00   0.00000000e+00   0.00000000e+00   0.00000000e+00\n",
        "    0.00000000e+00   0.00000000e+00   0.00000000e+00   0.00000000e+00\n",
        "    0.00000000e+00   0.00000000e+00   0.00000000e+00   0.00000000e+00\n",
        "    0.00000000e+00   0.00000000e+00   0.00000000e+00   0.00000000e+00\n",
        "    0.00000000e+00   0.00000000e+00   0.00000000e+00   0.00000000e+00\n",
        "    0.00000000e+00   0.00000000e+00   0.00000000e+00   0.00000000e+00\n",
        "    0.00000000e+00   0.00000000e+00   0.00000000e+00   0.00000000e+00\n",
        "    0.00000000e+00   0.00000000e+00   0.00000000e+00   0.00000000e+00\n",
        "    0.00000000e+00   0.00000000e+00   0.00000000e+00   0.00000000e+00\n",
        "    0.00000000e+00   0.00000000e+00]\n",
        " [  0.00000000e+00   0.00000000e+00   0.00000000e+00   0.00000000e+00\n",
        "    0.00000000e+00   0.00000000e+00   0.00000000e+00   0.00000000e+00\n",
        "    0.00000000e+00   0.00000000e+00   0.00000000e+00   0.00000000e+00\n",
        "    0.00000000e+00   0.00000000e+00   0.00000000e+00   0.00000000e+00\n",
        "    0.00000000e+00   0.00000000e+00   0.00000000e+00   0.00000000e+00\n",
        "    0.00000000e+00   0.00000000e+00   0.00000000e+00   0.00000000e+00\n",
        "    0.00000000e+00   0.00000000e+00   0.00000000e+00   0.00000000e+00\n",
        "    0.00000000e+00   0.00000000e+00   0.00000000e+00   0.00000000e+00\n",
        "    0.00000000e+00   0.00000000e+00   0.00000000e+00   0.00000000e+00\n",
        "    0.00000000e+00   0.00000000e+00   0.00000000e+00   0.00000000e+00\n",
        "    0.00000000e+00   0.00000000e+00   0.00000000e+00   0.00000000e+00\n",
        "    0.00000000e+00   0.00000000e+00   0.00000000e+00   0.00000000e+00\n",
        "    0.00000000e+00   0.00000000e+00]\n",
        " [  0.00000000e+00   0.00000000e+00   0.00000000e+00   0.00000000e+00\n",
        "    0.00000000e+00   0.00000000e+00   0.00000000e+00   0.00000000e+00\n",
        "    0.00000000e+00   0.00000000e+00   0.00000000e+00   0.00000000e+00\n",
        "    0.00000000e+00   0.00000000e+00   0.00000000e+00   0.00000000e+00\n",
        "    0.00000000e+00   0.00000000e+00   0.00000000e+00   0.00000000e+00\n",
        "    0.00000000e+00   0.00000000e+00   0.00000000e+00   0.00000000e+00\n",
        "    0.00000000e+00   0.00000000e+00   0.00000000e+00   0.00000000e+00\n",
        "    0.00000000e+00   0.00000000e+00   0.00000000e+00   0.00000000e+00\n",
        "    0.00000000e+00   0.00000000e+00   0.00000000e+00   0.00000000e+00\n",
        "    0.00000000e+00   0.00000000e+00   0.00000000e+00   0.00000000e+00\n",
        "    0.00000000e+00   0.00000000e+00   0.00000000e+00   0.00000000e+00\n",
        "    0.00000000e+00   0.00000000e+00   0.00000000e+00   0.00000000e+00\n",
        "    0.00000000e+00   0.00000000e+00]\n",
        " [  0.00000000e+00   0.00000000e+00   0.00000000e+00   0.00000000e+00\n",
        "    0.00000000e+00   0.00000000e+00   0.00000000e+00   0.00000000e+00\n",
        "    0.00000000e+00   0.00000000e+00   0.00000000e+00   0.00000000e+00\n",
        "    0.00000000e+00   0.00000000e+00   0.00000000e+00   0.00000000e+00\n",
        "    0.00000000e+00   0.00000000e+00   0.00000000e+00   0.00000000e+00\n",
        "    0.00000000e+00   0.00000000e+00   0.00000000e+00   0.00000000e+00\n",
        "    0.00000000e+00   0.00000000e+00   0.00000000e+00   0.00000000e+00\n",
        "    0.00000000e+00   0.00000000e+00   0.00000000e+00   0.00000000e+00\n",
        "    0.00000000e+00   0.00000000e+00   0.00000000e+00   0.00000000e+00\n",
        "    0.00000000e+00   0.00000000e+00   0.00000000e+00   0.00000000e+00\n",
        "    0.00000000e+00   0.00000000e+00   0.00000000e+00   0.00000000e+00\n",
        "    0.00000000e+00   0.00000000e+00   0.00000000e+00   0.00000000e+00\n",
        "    0.00000000e+00   0.00000000e+00]\n",
        " [  0.00000000e+00   0.00000000e+00   0.00000000e+00   0.00000000e+00\n",
        "    0.00000000e+00   0.00000000e+00   0.00000000e+00   0.00000000e+00\n",
        "    0.00000000e+00   0.00000000e+00   0.00000000e+00   0.00000000e+00\n",
        "    0.00000000e+00   0.00000000e+00   0.00000000e+00   0.00000000e+00\n",
        "    0.00000000e+00   0.00000000e+00   0.00000000e+00   0.00000000e+00\n",
        "    0.00000000e+00   0.00000000e+00   0.00000000e+00   0.00000000e+00\n",
        "    0.00000000e+00   0.00000000e+00   0.00000000e+00   0.00000000e+00\n",
        "    0.00000000e+00   0.00000000e+00   0.00000000e+00   0.00000000e+00\n",
        "    0.00000000e+00   0.00000000e+00   0.00000000e+00   0.00000000e+00\n",
        "    0.00000000e+00   0.00000000e+00   0.00000000e+00   0.00000000e+00\n",
        "    0.00000000e+00   0.00000000e+00   0.00000000e+00   0.00000000e+00\n",
        "    0.00000000e+00   0.00000000e+00   0.00000000e+00   0.00000000e+00\n",
        "    0.00000000e+00   0.00000000e+00]\n",
        " [  0.00000000e+00   0.00000000e+00   0.00000000e+00   0.00000000e+00\n",
        "    0.00000000e+00   0.00000000e+00   0.00000000e+00   0.00000000e+00\n",
        "    0.00000000e+00   0.00000000e+00   0.00000000e+00   0.00000000e+00\n",
        "    0.00000000e+00   0.00000000e+00   0.00000000e+00   0.00000000e+00\n",
        "    0.00000000e+00   0.00000000e+00   0.00000000e+00   0.00000000e+00\n",
        "    0.00000000e+00   0.00000000e+00   0.00000000e+00   0.00000000e+00\n",
        "    0.00000000e+00   0.00000000e+00   0.00000000e+00   0.00000000e+00\n",
        "    0.00000000e+00   0.00000000e+00   0.00000000e+00   0.00000000e+00\n",
        "    0.00000000e+00   0.00000000e+00   0.00000000e+00   0.00000000e+00\n",
        "    0.00000000e+00   0.00000000e+00   0.00000000e+00   0.00000000e+00\n",
        "    0.00000000e+00   0.00000000e+00   0.00000000e+00   0.00000000e+00\n",
        "    0.00000000e+00   0.00000000e+00   0.00000000e+00   0.00000000e+00\n",
        "    0.00000000e+00   0.00000000e+00]\n",
        " [  0.00000000e+00   0.00000000e+00   0.00000000e+00   0.00000000e+00\n",
        "    0.00000000e+00   0.00000000e+00   0.00000000e+00   0.00000000e+00\n",
        "    0.00000000e+00   0.00000000e+00   0.00000000e+00   0.00000000e+00\n",
        "    0.00000000e+00   0.00000000e+00   0.00000000e+00   0.00000000e+00\n",
        "    0.00000000e+00   0.00000000e+00   0.00000000e+00   0.00000000e+00\n",
        "    0.00000000e+00   0.00000000e+00   0.00000000e+00   0.00000000e+00\n",
        "    0.00000000e+00   0.00000000e+00   0.00000000e+00   0.00000000e+00\n",
        "    0.00000000e+00   0.00000000e+00   0.00000000e+00   0.00000000e+00\n",
        "    0.00000000e+00   0.00000000e+00   0.00000000e+00   0.00000000e+00\n",
        "    0.00000000e+00   0.00000000e+00   0.00000000e+00   0.00000000e+00\n",
        "    0.00000000e+00   0.00000000e+00   0.00000000e+00   0.00000000e+00\n",
        "    0.00000000e+00   0.00000000e+00   0.00000000e+00   0.00000000e+00\n",
        "    0.00000000e+00   0.00000000e+00]\n",
        " [  0.00000000e+00   0.00000000e+00   0.00000000e+00   0.00000000e+00\n",
        "    0.00000000e+00   0.00000000e+00   0.00000000e+00   0.00000000e+00\n",
        "    0.00000000e+00   0.00000000e+00   0.00000000e+00   0.00000000e+00\n",
        "    0.00000000e+00   0.00000000e+00   0.00000000e+00   0.00000000e+00\n",
        "    0.00000000e+00   0.00000000e+00   0.00000000e+00   0.00000000e+00\n",
        "    0.00000000e+00   0.00000000e+00   0.00000000e+00   0.00000000e+00\n",
        "    0.00000000e+00   0.00000000e+00   0.00000000e+00   0.00000000e+00\n",
        "    0.00000000e+00   0.00000000e+00   0.00000000e+00   0.00000000e+00\n",
        "    0.00000000e+00   0.00000000e+00   0.00000000e+00   0.00000000e+00\n",
        "    0.00000000e+00   0.00000000e+00   0.00000000e+00   0.00000000e+00\n",
        "    0.00000000e+00   0.00000000e+00   0.00000000e+00   0.00000000e+00\n",
        "    0.00000000e+00   0.00000000e+00   0.00000000e+00   0.00000000e+00\n",
        "    0.00000000e+00   0.00000000e+00]\n",
        " [  0.00000000e+00   0.00000000e+00   0.00000000e+00   0.00000000e+00\n",
        "    0.00000000e+00   0.00000000e+00   0.00000000e+00   0.00000000e+00\n",
        "    0.00000000e+00   0.00000000e+00   0.00000000e+00   0.00000000e+00\n",
        "    0.00000000e+00   0.00000000e+00   0.00000000e+00   0.00000000e+00\n",
        "    0.00000000e+00   0.00000000e+00   0.00000000e+00   0.00000000e+00\n",
        "    0.00000000e+00   0.00000000e+00   0.00000000e+00   0.00000000e+00\n",
        "    0.00000000e+00   0.00000000e+00   0.00000000e+00   0.00000000e+00\n",
        "    0.00000000e+00   0.00000000e+00   0.00000000e+00   0.00000000e+00\n",
        "    0.00000000e+00   0.00000000e+00   0.00000000e+00   0.00000000e+00\n",
        "    0.00000000e+00   0.00000000e+00   0.00000000e+00   0.00000000e+00\n",
        "    0.00000000e+00   0.00000000e+00   0.00000000e+00   0.00000000e+00\n",
        "    0.00000000e+00   0.00000000e+00   0.00000000e+00   0.00000000e+00\n",
        "    0.00000000e+00   0.00000000e+00]\n",
        " [  0.00000000e+00   0.00000000e+00   0.00000000e+00   0.00000000e+00\n",
        "    0.00000000e+00   0.00000000e+00   0.00000000e+00   0.00000000e+00\n",
        "    0.00000000e+00   0.00000000e+00   0.00000000e+00   0.00000000e+00\n",
        "    0.00000000e+00   0.00000000e+00   0.00000000e+00   0.00000000e+00\n",
        "    0.00000000e+00   0.00000000e+00   0.00000000e+00   0.00000000e+00\n",
        "    0.00000000e+00   0.00000000e+00   0.00000000e+00   0.00000000e+00\n",
        "    0.00000000e+00   0.00000000e+00   0.00000000e+00   0.00000000e+00\n",
        "    0.00000000e+00   0.00000000e+00   0.00000000e+00   0.00000000e+00\n",
        "    0.00000000e+00   0.00000000e+00   0.00000000e+00   0.00000000e+00\n",
        "    0.00000000e+00   0.00000000e+00   0.00000000e+00   0.00000000e+00\n",
        "    0.00000000e+00   0.00000000e+00   0.00000000e+00   0.00000000e+00\n",
        "    0.00000000e+00   0.00000000e+00   0.00000000e+00   0.00000000e+00\n",
        "    0.00000000e+00   0.00000000e+00]\n",
        " [  0.00000000e+00   0.00000000e+00   0.00000000e+00   0.00000000e+00\n",
        "    0.00000000e+00   0.00000000e+00   0.00000000e+00   0.00000000e+00\n",
        "    0.00000000e+00   0.00000000e+00   0.00000000e+00   0.00000000e+00\n",
        "    0.00000000e+00   0.00000000e+00   0.00000000e+00   0.00000000e+00\n",
        "    0.00000000e+00   0.00000000e+00   0.00000000e+00   0.00000000e+00\n",
        "    0.00000000e+00   0.00000000e+00   0.00000000e+00   0.00000000e+00\n",
        "    0.00000000e+00   0.00000000e+00   0.00000000e+00   0.00000000e+00\n",
        "    0.00000000e+00   0.00000000e+00   0.00000000e+00   0.00000000e+00\n",
        "    0.00000000e+00   0.00000000e+00   0.00000000e+00   0.00000000e+00\n",
        "    0.00000000e+00   0.00000000e+00   0.00000000e+00   0.00000000e+00\n",
        "    0.00000000e+00   0.00000000e+00   0.00000000e+00   0.00000000e+00\n",
        "    0.00000000e+00   0.00000000e+00   0.00000000e+00   0.00000000e+00\n",
        "    0.00000000e+00   0.00000000e+00]\n",
        " [  0.00000000e+00   0.00000000e+00   0.00000000e+00   0.00000000e+00\n",
        "    0.00000000e+00   0.00000000e+00   0.00000000e+00   0.00000000e+00\n",
        "    0.00000000e+00   0.00000000e+00   0.00000000e+00   0.00000000e+00\n",
        "    0.00000000e+00   0.00000000e+00   0.00000000e+00   0.00000000e+00\n",
        "    0.00000000e+00   0.00000000e+00   0.00000000e+00   0.00000000e+00\n",
        "    0.00000000e+00   0.00000000e+00   0.00000000e+00   0.00000000e+00\n",
        "    0.00000000e+00   0.00000000e+00   0.00000000e+00   0.00000000e+00\n",
        "    0.00000000e+00   0.00000000e+00   0.00000000e+00   0.00000000e+00\n",
        "    0.00000000e+00   0.00000000e+00   0.00000000e+00   0.00000000e+00\n",
        "    0.00000000e+00   0.00000000e+00   0.00000000e+00   0.00000000e+00\n",
        "    0.00000000e+00   0.00000000e+00   0.00000000e+00   0.00000000e+00\n",
        "    0.00000000e+00   0.00000000e+00   0.00000000e+00   0.00000000e+00\n",
        "    0.00000000e+00   0.00000000e+00]\n",
        " [  0.00000000e+00   0.00000000e+00   0.00000000e+00   0.00000000e+00\n",
        "    0.00000000e+00   0.00000000e+00   0.00000000e+00   0.00000000e+00\n",
        "    0.00000000e+00   0.00000000e+00   0.00000000e+00   0.00000000e+00\n",
        "    0.00000000e+00   0.00000000e+00   0.00000000e+00   0.00000000e+00\n",
        "    0.00000000e+00   0.00000000e+00   0.00000000e+00   0.00000000e+00\n",
        "    0.00000000e+00   0.00000000e+00   0.00000000e+00   0.00000000e+00\n",
        "    0.00000000e+00   0.00000000e+00   0.00000000e+00   0.00000000e+00\n",
        "    0.00000000e+00   0.00000000e+00   0.00000000e+00   0.00000000e+00\n",
        "    0.00000000e+00   0.00000000e+00   0.00000000e+00   0.00000000e+00\n",
        "    0.00000000e+00   0.00000000e+00   0.00000000e+00   0.00000000e+00\n",
        "    0.00000000e+00   0.00000000e+00   0.00000000e+00   0.00000000e+00\n",
        "    0.00000000e+00   0.00000000e+00   0.00000000e+00   0.00000000e+00\n",
        "    0.00000000e+00   0.00000000e+00]\n",
        " [  0.00000000e+00   0.00000000e+00   0.00000000e+00   0.00000000e+00\n",
        "    0.00000000e+00   0.00000000e+00   0.00000000e+00   0.00000000e+00\n",
        "    0.00000000e+00   0.00000000e+00   0.00000000e+00   0.00000000e+00\n",
        "    0.00000000e+00   0.00000000e+00   0.00000000e+00   0.00000000e+00\n",
        "    0.00000000e+00   0.00000000e+00   0.00000000e+00   0.00000000e+00\n",
        "    0.00000000e+00   0.00000000e+00   0.00000000e+00   0.00000000e+00\n",
        "    0.00000000e+00   0.00000000e+00   0.00000000e+00   0.00000000e+00\n",
        "    0.00000000e+00   0.00000000e+00   0.00000000e+00   0.00000000e+00\n",
        "    0.00000000e+00   0.00000000e+00   0.00000000e+00   0.00000000e+00\n",
        "    0.00000000e+00   0.00000000e+00   0.00000000e+00   0.00000000e+00\n",
        "    0.00000000e+00   0.00000000e+00   0.00000000e+00   0.00000000e+00\n",
        "    0.00000000e+00   0.00000000e+00   0.00000000e+00   0.00000000e+00\n",
        "    0.00000000e+00   0.00000000e+00]\n",
        " [  5.27795544e-03   0.00000000e+00   0.00000000e+00   0.00000000e+00\n",
        "    0.00000000e+00   0.00000000e+00   0.00000000e+00   0.00000000e+00\n",
        "    0.00000000e+00   0.00000000e+00   0.00000000e+00   0.00000000e+00\n",
        "    0.00000000e+00   0.00000000e+00   0.00000000e+00   0.00000000e+00\n",
        "    0.00000000e+00   0.00000000e+00   0.00000000e+00   0.00000000e+00\n",
        "    0.00000000e+00   0.00000000e+00   0.00000000e+00   0.00000000e+00\n",
        "    0.00000000e+00   0.00000000e+00   0.00000000e+00   0.00000000e+00\n",
        "    0.00000000e+00   0.00000000e+00   0.00000000e+00   0.00000000e+00\n",
        "    0.00000000e+00   0.00000000e+00   0.00000000e+00   0.00000000e+00\n",
        "    0.00000000e+00   0.00000000e+00   0.00000000e+00   0.00000000e+00\n",
        "    0.00000000e+00   0.00000000e+00   0.00000000e+00   0.00000000e+00\n",
        "    0.00000000e+00   0.00000000e+00   0.00000000e+00   0.00000000e+00\n",
        "    0.00000000e+00   0.00000000e+00]\n",
        " [  1.63795706e-02   7.34520750e-03   6.57613913e-04   0.00000000e+00\n",
        "    0.00000000e+00   0.00000000e+00   0.00000000e+00   0.00000000e+00\n",
        "    0.00000000e+00   0.00000000e+00   0.00000000e+00   0.00000000e+00\n",
        "    0.00000000e+00   0.00000000e+00   0.00000000e+00   0.00000000e+00\n",
        "    0.00000000e+00   0.00000000e+00   0.00000000e+00   0.00000000e+00\n",
        "    0.00000000e+00   0.00000000e+00   0.00000000e+00   0.00000000e+00\n",
        "    0.00000000e+00   0.00000000e+00   0.00000000e+00   0.00000000e+00\n",
        "    0.00000000e+00   0.00000000e+00   0.00000000e+00   0.00000000e+00\n",
        "    0.00000000e+00   0.00000000e+00   0.00000000e+00   0.00000000e+00\n",
        "    0.00000000e+00   0.00000000e+00   0.00000000e+00   0.00000000e+00\n",
        "    0.00000000e+00   0.00000000e+00   0.00000000e+00   0.00000000e+00\n",
        "    0.00000000e+00   0.00000000e+00   0.00000000e+00   0.00000000e+00\n",
        "    0.00000000e+00   0.00000000e+00]\n",
        " [  2.73089614e-02   1.79344676e-02   8.45912006e-03   1.31548150e-03\n",
        "    0.00000000e+00   0.00000000e+00   0.00000000e+00   0.00000000e+00\n",
        "    0.00000000e+00   0.00000000e+00   0.00000000e+00   0.00000000e+00\n",
        "    0.00000000e+00   0.00000000e+00   0.00000000e+00   0.00000000e+00\n",
        "    0.00000000e+00   0.00000000e+00   0.00000000e+00   0.00000000e+00\n",
        "    0.00000000e+00   0.00000000e+00   0.00000000e+00   0.00000000e+00\n",
        "    0.00000000e+00   0.00000000e+00   0.00000000e+00   0.00000000e+00\n",
        "    0.00000000e+00   0.00000000e+00   0.00000000e+00   0.00000000e+00\n",
        "    0.00000000e+00   0.00000000e+00   0.00000000e+00   0.00000000e+00\n",
        "    0.00000000e+00   0.00000000e+00   0.00000000e+00   0.00000000e+00\n",
        "    0.00000000e+00   0.00000000e+00   0.00000000e+00   0.00000000e+00\n",
        "    0.00000000e+00   0.00000000e+00   0.00000000e+00   0.00000000e+00\n",
        "    0.00000000e+00   0.00000000e+00]\n",
        " [  3.88664566e-02   2.90472824e-02   1.87972356e-02   9.49801598e-03\n",
        "    1.97352236e-03   0.00000000e+00   0.00000000e+00   0.00000000e+00\n",
        "    0.00000000e+00   0.00000000e+00   0.00000000e+00   0.00000000e+00\n",
        "    0.00000000e+00   0.00000000e+00   0.00000000e+00   0.00000000e+00\n",
        "    0.00000000e+00   0.00000000e+00   0.00000000e+00   0.00000000e+00\n",
        "    0.00000000e+00   0.00000000e+00   0.00000000e+00   0.00000000e+00\n",
        "    0.00000000e+00   0.00000000e+00   0.00000000e+00   0.00000000e+00\n",
        "    0.00000000e+00   0.00000000e+00   0.00000000e+00   0.00000000e+00\n",
        "    0.00000000e+00   0.00000000e+00   0.00000000e+00   0.00000000e+00\n",
        "    0.00000000e+00   0.00000000e+00   0.00000000e+00   0.00000000e+00\n",
        "    0.00000000e+00   0.00000000e+00   0.00000000e+00   0.00000000e+00\n",
        "    0.00000000e+00   0.00000000e+00   0.00000000e+00   0.00000000e+00\n",
        "    0.00000000e+00   0.00000000e+00]\n",
        " [  4.98657785e-02   4.00128141e-02   3.00641824e-02   1.90724134e-02\n",
        "    9.81022138e-03   1.97352236e-03   0.00000000e+00   0.00000000e+00\n",
        "    0.00000000e+00   0.00000000e+00   0.00000000e+00   0.00000000e+00\n",
        "    0.00000000e+00   0.00000000e+00   0.00000000e+00   0.00000000e+00\n",
        "    0.00000000e+00   0.00000000e+00   0.00000000e+00   0.00000000e+00\n",
        "    0.00000000e+00   0.00000000e+00   0.00000000e+00   0.00000000e+00\n",
        "    0.00000000e+00   0.00000000e+00   0.00000000e+00   0.00000000e+00\n",
        "    0.00000000e+00   0.00000000e+00   0.00000000e+00   0.00000000e+00\n",
        "    0.00000000e+00   0.00000000e+00   0.00000000e+00   0.00000000e+00\n",
        "    0.00000000e+00   0.00000000e+00   0.00000000e+00   0.00000000e+00\n",
        "    0.00000000e+00   0.00000000e+00   0.00000000e+00   0.00000000e+00\n",
        "    0.00000000e+00   0.00000000e+00   0.00000000e+00   0.00000000e+00\n",
        "    0.00000000e+00   0.00000000e+00]\n",
        " [  6.54451773e-02   5.14175259e-02   4.07545269e-02   3.12482696e-02\n",
        "    1.94605440e-02   1.02227405e-02   1.97344227e-03   0.00000000e+00\n",
        "    0.00000000e+00   0.00000000e+00   0.00000000e+00   0.00000000e+00\n",
        "    0.00000000e+00   0.00000000e+00   0.00000000e+00   0.00000000e+00\n",
        "    0.00000000e+00   0.00000000e+00   0.00000000e+00   0.00000000e+00\n",
        "    0.00000000e+00   0.00000000e+00   0.00000000e+00   0.00000000e+00\n",
        "    0.00000000e+00   0.00000000e+00   0.00000000e+00   0.00000000e+00\n",
        "    0.00000000e+00   0.00000000e+00   0.00000000e+00   0.00000000e+00\n",
        "    0.00000000e+00   0.00000000e+00   0.00000000e+00   0.00000000e+00\n",
        "    0.00000000e+00   0.00000000e+00   0.00000000e+00   0.00000000e+00\n",
        "    0.00000000e+00   0.00000000e+00   0.00000000e+00   0.00000000e+00\n",
        "    0.00000000e+00   0.00000000e+00   0.00000000e+00   0.00000000e+00\n",
        "    0.00000000e+00   0.00000000e+00]\n",
        " [  8.42357725e-02   6.74098656e-02   5.29538058e-02   4.19681706e-02\n",
        "    3.07128485e-02   1.95824150e-02   1.06022861e-02   1.97344227e-03\n",
        "    0.00000000e+00   0.00000000e+00   0.00000000e+00   0.00000000e+00\n",
        "    0.00000000e+00   0.00000000e+00   0.00000000e+00   0.00000000e+00\n",
        "    0.00000000e+00   0.00000000e+00   0.00000000e+00   0.00000000e+00\n",
        "    0.00000000e+00   0.00000000e+00   0.00000000e+00   0.00000000e+00\n",
        "    0.00000000e+00   0.00000000e+00   0.00000000e+00   0.00000000e+00\n",
        "    0.00000000e+00   0.00000000e+00   0.00000000e+00   0.00000000e+00\n",
        "    0.00000000e+00   0.00000000e+00   0.00000000e+00   0.00000000e+00\n",
        "    0.00000000e+00   0.00000000e+00   0.00000000e+00   0.00000000e+00\n",
        "    0.00000000e+00   0.00000000e+00   0.00000000e+00   0.00000000e+00\n",
        "    0.00000000e+00   0.00000000e+00   0.00000000e+00   0.00000000e+00\n",
        "    0.00000000e+00   0.00000000e+00]\n",
        " [  1.05158813e-01   8.54810327e-02   6.82385415e-02   5.27193919e-02\n",
        "    4.20035347e-02   3.11553255e-02   1.91106163e-02   9.76764131e-03\n",
        "    1.97352236e-03   0.00000000e+00   0.00000000e+00   0.00000000e+00\n",
        "    0.00000000e+00   0.00000000e+00   0.00000000e+00   0.00000000e+00\n",
        "    0.00000000e+00   0.00000000e+00   0.00000000e+00   0.00000000e+00\n",
        "    0.00000000e+00   0.00000000e+00   0.00000000e+00   0.00000000e+00\n",
        "    0.00000000e+00   0.00000000e+00   0.00000000e+00   0.00000000e+00\n",
        "    0.00000000e+00   0.00000000e+00   0.00000000e+00   0.00000000e+00\n",
        "    0.00000000e+00   0.00000000e+00   0.00000000e+00   0.00000000e+00\n",
        "    0.00000000e+00   0.00000000e+00   0.00000000e+00   0.00000000e+00\n",
        "    0.00000000e+00   0.00000000e+00   0.00000000e+00   0.00000000e+00\n",
        "    0.00000000e+00   0.00000000e+00   0.00000000e+00   0.00000000e+00\n",
        "    0.00000000e+00   0.00000000e+00]\n",
        " [  1.66062951e-01   1.05956577e-01   8.73077735e-02   6.80603608e-02\n",
        "    5.25367893e-02   4.07691970e-02   3.06614079e-02   1.92702599e-02\n",
        "    9.45518166e-03   1.97352236e-03   0.00000000e+00   0.00000000e+00\n",
        "    0.00000000e+00   0.00000000e+00   0.00000000e+00   0.00000000e+00\n",
        "    0.00000000e+00   0.00000000e+00   0.00000000e+00   0.00000000e+00\n",
        "    0.00000000e+00   0.00000000e+00   0.00000000e+00   0.00000000e+00\n",
        "    0.00000000e+00   0.00000000e+00   0.00000000e+00   0.00000000e+00\n",
        "    0.00000000e+00   0.00000000e+00   0.00000000e+00   0.00000000e+00\n",
        "    0.00000000e+00   0.00000000e+00   0.00000000e+00   0.00000000e+00\n",
        "    0.00000000e+00   0.00000000e+00   0.00000000e+00   0.00000000e+00\n",
        "    0.00000000e+00   0.00000000e+00   0.00000000e+00   0.00000000e+00\n",
        "    0.00000000e+00   0.00000000e+00   0.00000000e+00   0.00000000e+00\n",
        "    0.00000000e+00   0.00000000e+00]\n",
        " [  4.86229926e-01   1.68158039e-01   1.05612405e-01   8.71728510e-02\n",
        "    6.86645508e-02   5.34758940e-02   4.13622744e-02   3.13069485e-02\n",
        "    1.96563844e-02   1.03084194e-02   2.63167685e-03   6.57613913e-04\n",
        "    0.00000000e+00   0.00000000e+00   0.00000000e+00   0.00000000e+00\n",
        "    0.00000000e+00   0.00000000e+00   0.00000000e+00   0.00000000e+00\n",
        "    0.00000000e+00   0.00000000e+00   0.00000000e+00   0.00000000e+00\n",
        "    0.00000000e+00   0.00000000e+00   0.00000000e+00   0.00000000e+00\n",
        "    0.00000000e+00   0.00000000e+00   0.00000000e+00   0.00000000e+00\n",
        "    0.00000000e+00   0.00000000e+00   0.00000000e+00   0.00000000e+00\n",
        "    0.00000000e+00   0.00000000e+00   0.00000000e+00   0.00000000e+00\n",
        "    0.00000000e+00   0.00000000e+00   0.00000000e+00   0.00000000e+00\n",
        "    0.00000000e+00   0.00000000e+00   0.00000000e+00   0.00000000e+00\n",
        "    0.00000000e+00   0.00000000e+00]\n",
        " [  8.15097749e-01   5.69921911e-01   1.29625842e-01   1.06548712e-01\n",
        "    8.83777440e-02   6.92486688e-02   5.31850122e-02   4.02457416e-02\n",
        "    3.05011552e-02   1.93920005e-02   9.79072228e-03   2.63179746e-03\n",
        "    6.57694181e-04   0.00000000e+00   0.00000000e+00   0.00000000e+00\n",
        "    0.00000000e+00   0.00000000e+00   0.00000000e+00   0.00000000e+00\n",
        "    0.00000000e+00   0.00000000e+00   0.00000000e+00   0.00000000e+00\n",
        "    0.00000000e+00   0.00000000e+00   0.00000000e+00   0.00000000e+00\n",
        "    0.00000000e+00   0.00000000e+00   0.00000000e+00   0.00000000e+00\n",
        "    0.00000000e+00   0.00000000e+00   0.00000000e+00   0.00000000e+00\n",
        "    0.00000000e+00   0.00000000e+00   0.00000000e+00   0.00000000e+00\n",
        "    0.00000000e+00   0.00000000e+00   0.00000000e+00   0.00000000e+00\n",
        "    0.00000000e+00   0.00000000e+00   0.00000000e+00   0.00000000e+00\n",
        "    0.00000000e+00   0.00000000e+00]]\n"
       ]
      }
     ],
     "prompt_number": 115
    },
    {
     "cell_type": "code",
     "collapsed": false,
     "input": [
      "# newImg = np.zeros_like(image)\n",
      "matte = np.repeat(np.reshape(filtResult/255, np.hstack((newImg.shape[0:2], 1))), newImg.shape[-1], axis=-1)\n",
      "newImg = (newBg/255.0)*(1-matte)+(image/255.0)*matte\n",
      "# newImg = np.round(newBg*ones_like(matte))\n",
      "# newImg[:, :, -1] = (filtResult/255)\n",
      "# newImg[mask==1] = image[mask==1]\n",
      "figure(); imshow(newImg, interpolation='nearest')\n",
      "figure(); imshow(image, interpolation='nearest')"
     ],
     "language": "python",
     "metadata": {},
     "outputs": [
      {
       "metadata": {},
       "output_type": "pyout",
       "prompt_number": 187,
       "text": [
        "<matplotlib.image.AxesImage at 0x7f9ce7c2c1d0>"
       ]
      }
     ],
     "prompt_number": 187
    },
    {
     "cell_type": "code",
     "collapsed": false,
     "input": [
      "testImg = image[250:300, 1150:1200, :]/255.0\n",
      "testMatte = matte[250:300, 1150:1200, :]\n",
      "print testImg.shape, testMatte.shape\n",
      "figure(); imshow(testImg, interpolation='nearest')\n",
      "figure(); imshow(testMatte, interpolation='nearest')\n",
      "figure(); imshow(testImg*testMatte, interpolation='nearest')\n",
      "print (testImg*testMatte).shape\n",
      "print testImg[0, 0, :]\n",
      "print testMatte[0, 0, :]\n",
      "print testImg[0, 0, :]*testMatte[0, 0, :]/255"
     ],
     "language": "python",
     "metadata": {},
     "outputs": [
      {
       "output_type": "stream",
       "stream": "stdout",
       "text": [
        "(50, 50, 3) (50, 50, 3)\n",
        "(50, 50, 3)"
       ]
      },
      {
       "output_type": "stream",
       "stream": "stdout",
       "text": [
        "\n",
        "[ 0.13333333  0.17647059  0.16470588]\n",
        "[ 0.89698833  0.89698833  0.89698833]\n",
        "[ 0.00046901  0.00062075  0.00057937]\n"
       ]
      }
     ],
     "prompt_number": 182
    },
    {
     "cell_type": "code",
     "collapsed": false,
     "input": [
      "# train on first frame\n",
      "# augment with x-y positional data\n",
      "# trimap = np.array(trimap.resize(np.array(trimap.size)/2))\n",
      "figure(); imshow(trimap, interpolation='nearest')\n",
      "first_frame = Image.open(files[0])\n",
      "first_frame = np.array(first_frame.resize(np.array(first_frame.size)/2))\n",
      "classifier = semi_supervised.LabelPropagation()\n",
      "# first_frame = imread(files[0])\n",
      "\n",
      "indices = np.indices(first_frame.shape[:2]).swapaxes(-1, 0).swapaxes(0, 1)\n",
      "data = np.concatenate((first_frame, indices), axis=-1)\n",
      "print data.shape\n",
      "\n",
      "# extract training data\n",
      "background = data[trimap == 0]\n",
      "print background.shape\n",
      "foreground = data[trimap == 255]\n",
      "print foreground.shape\n",
      "unlabeled = data[np.logical_and(trimap != 255, trimap != 0)]\n",
      "print unlabeled.shape\n",
      "\n",
      "X = np.vstack((background, foreground, unlabeled))\n",
      "print X.shape\n",
      "y = np.repeat([0, 1, -1], [background.shape[0], foreground.shape[0], unlabeled.shape[0]])\n",
      "print y.shape\n",
      "classifier.fit(X, y)"
     ],
     "language": "python",
     "metadata": {},
     "outputs": [
      {
       "ename": "MemoryError",
       "evalue": "",
       "output_type": "pyerr",
       "traceback": [
        "\u001b[0;31m---------------------------------------------------------------------------\u001b[0m\n\u001b[0;31mMemoryError\u001b[0m                               Traceback (most recent call last)",
        "\u001b[0;32m<ipython-input-72-69cb081dcc9b>\u001b[0m in \u001b[0;36m<module>\u001b[0;34m()\u001b[0m\n\u001b[1;32m     24\u001b[0m \u001b[0my\u001b[0m \u001b[0;34m=\u001b[0m \u001b[0mnp\u001b[0m\u001b[0;34m.\u001b[0m\u001b[0mrepeat\u001b[0m\u001b[0;34m(\u001b[0m\u001b[0;34m[\u001b[0m\u001b[0;36m0\u001b[0m\u001b[0;34m,\u001b[0m \u001b[0;36m1\u001b[0m\u001b[0;34m,\u001b[0m \u001b[0;34m-\u001b[0m\u001b[0;36m1\u001b[0m\u001b[0;34m]\u001b[0m\u001b[0;34m,\u001b[0m \u001b[0;34m[\u001b[0m\u001b[0mbackground\u001b[0m\u001b[0;34m.\u001b[0m\u001b[0mshape\u001b[0m\u001b[0;34m[\u001b[0m\u001b[0;36m0\u001b[0m\u001b[0;34m]\u001b[0m\u001b[0;34m,\u001b[0m \u001b[0mforeground\u001b[0m\u001b[0;34m.\u001b[0m\u001b[0mshape\u001b[0m\u001b[0;34m[\u001b[0m\u001b[0;36m0\u001b[0m\u001b[0;34m]\u001b[0m\u001b[0;34m,\u001b[0m \u001b[0munlabeled\u001b[0m\u001b[0;34m.\u001b[0m\u001b[0mshape\u001b[0m\u001b[0;34m[\u001b[0m\u001b[0;36m0\u001b[0m\u001b[0;34m]\u001b[0m\u001b[0;34m]\u001b[0m\u001b[0;34m)\u001b[0m\u001b[0;34m\u001b[0m\u001b[0m\n\u001b[1;32m     25\u001b[0m \u001b[0;32mprint\u001b[0m \u001b[0my\u001b[0m\u001b[0;34m.\u001b[0m\u001b[0mshape\u001b[0m\u001b[0;34m\u001b[0m\u001b[0m\n\u001b[0;32m---> 26\u001b[0;31m \u001b[0mclassifier\u001b[0m\u001b[0;34m.\u001b[0m\u001b[0mfit\u001b[0m\u001b[0;34m(\u001b[0m\u001b[0mX\u001b[0m\u001b[0;34m,\u001b[0m \u001b[0my\u001b[0m\u001b[0;34m)\u001b[0m\u001b[0;34m\u001b[0m\u001b[0m\n\u001b[0m",
        "\u001b[0;32m/usr/local/lib/python2.7/dist-packages/sklearn/semi_supervised/label_propagation.pyc\u001b[0m in \u001b[0;36mfit\u001b[0;34m(self, X, y)\u001b[0m\n\u001b[1;32m    212\u001b[0m \u001b[0;34m\u001b[0m\u001b[0m\n\u001b[1;32m    213\u001b[0m         \u001b[0;31m# actual graph construction (implementations should override this)\u001b[0m\u001b[0;34m\u001b[0m\u001b[0;34m\u001b[0m\u001b[0m\n\u001b[0;32m--> 214\u001b[0;31m         \u001b[0mgraph_matrix\u001b[0m \u001b[0;34m=\u001b[0m \u001b[0mself\u001b[0m\u001b[0;34m.\u001b[0m\u001b[0m_build_graph\u001b[0m\u001b[0;34m(\u001b[0m\u001b[0;34m)\u001b[0m\u001b[0;34m\u001b[0m\u001b[0m\n\u001b[0m\u001b[1;32m    215\u001b[0m \u001b[0;34m\u001b[0m\u001b[0m\n\u001b[1;32m    216\u001b[0m         \u001b[0;31m# label construction\u001b[0m\u001b[0;34m\u001b[0m\u001b[0;34m\u001b[0m\u001b[0m\n",
        "\u001b[0;32m/usr/local/lib/python2.7/dist-packages/sklearn/semi_supervised/label_propagation.pyc\u001b[0m in \u001b[0;36m_build_graph\u001b[0;34m(self)\u001b[0m\n\u001b[1;32m    313\u001b[0m         \u001b[0;32mif\u001b[0m \u001b[0mself\u001b[0m\u001b[0;34m.\u001b[0m\u001b[0mkernel\u001b[0m \u001b[0;34m==\u001b[0m \u001b[0;34m'knn'\u001b[0m\u001b[0;34m:\u001b[0m\u001b[0;34m\u001b[0m\u001b[0m\n\u001b[1;32m    314\u001b[0m             \u001b[0mself\u001b[0m\u001b[0;34m.\u001b[0m\u001b[0mnn_fit\u001b[0m \u001b[0;34m=\u001b[0m \u001b[0mNone\u001b[0m\u001b[0;34m\u001b[0m\u001b[0m\n\u001b[0;32m--> 315\u001b[0;31m         \u001b[0maffinity_matrix\u001b[0m \u001b[0;34m=\u001b[0m \u001b[0mself\u001b[0m\u001b[0;34m.\u001b[0m\u001b[0m_get_kernel\u001b[0m\u001b[0;34m(\u001b[0m\u001b[0mself\u001b[0m\u001b[0;34m.\u001b[0m\u001b[0mX_\u001b[0m\u001b[0;34m)\u001b[0m\u001b[0;34m\u001b[0m\u001b[0m\n\u001b[0m\u001b[1;32m    316\u001b[0m         \u001b[0mnormalizer\u001b[0m \u001b[0;34m=\u001b[0m \u001b[0maffinity_matrix\u001b[0m\u001b[0;34m.\u001b[0m\u001b[0msum\u001b[0m\u001b[0;34m(\u001b[0m\u001b[0maxis\u001b[0m\u001b[0;34m=\u001b[0m\u001b[0;36m0\u001b[0m\u001b[0;34m)\u001b[0m\u001b[0;34m\u001b[0m\u001b[0m\n\u001b[1;32m    317\u001b[0m         \u001b[0;32mif\u001b[0m \u001b[0msparse\u001b[0m\u001b[0;34m.\u001b[0m\u001b[0misspmatrix\u001b[0m\u001b[0;34m(\u001b[0m\u001b[0maffinity_matrix\u001b[0m\u001b[0;34m)\u001b[0m\u001b[0;34m:\u001b[0m\u001b[0;34m\u001b[0m\u001b[0m\n",
        "\u001b[0;32m/usr/local/lib/python2.7/dist-packages/sklearn/semi_supervised/label_propagation.pyc\u001b[0m in \u001b[0;36m_get_kernel\u001b[0;34m(self, X, y)\u001b[0m\n\u001b[1;32m    115\u001b[0m         \u001b[0;32mif\u001b[0m \u001b[0mself\u001b[0m\u001b[0;34m.\u001b[0m\u001b[0mkernel\u001b[0m \u001b[0;34m==\u001b[0m \u001b[0;34m\"rbf\"\u001b[0m\u001b[0;34m:\u001b[0m\u001b[0;34m\u001b[0m\u001b[0m\n\u001b[1;32m    116\u001b[0m             \u001b[0;32mif\u001b[0m \u001b[0my\u001b[0m \u001b[0;32mis\u001b[0m \u001b[0mNone\u001b[0m\u001b[0;34m:\u001b[0m\u001b[0;34m\u001b[0m\u001b[0m\n\u001b[0;32m--> 117\u001b[0;31m                 \u001b[0;32mreturn\u001b[0m \u001b[0mrbf_kernel\u001b[0m\u001b[0;34m(\u001b[0m\u001b[0mX\u001b[0m\u001b[0;34m,\u001b[0m \u001b[0mX\u001b[0m\u001b[0;34m,\u001b[0m \u001b[0mgamma\u001b[0m\u001b[0;34m=\u001b[0m\u001b[0mself\u001b[0m\u001b[0;34m.\u001b[0m\u001b[0mgamma\u001b[0m\u001b[0;34m)\u001b[0m\u001b[0;34m\u001b[0m\u001b[0m\n\u001b[0m\u001b[1;32m    118\u001b[0m             \u001b[0;32melse\u001b[0m\u001b[0;34m:\u001b[0m\u001b[0;34m\u001b[0m\u001b[0m\n\u001b[1;32m    119\u001b[0m                 \u001b[0;32mreturn\u001b[0m \u001b[0mrbf_kernel\u001b[0m\u001b[0;34m(\u001b[0m\u001b[0mX\u001b[0m\u001b[0;34m,\u001b[0m \u001b[0my\u001b[0m\u001b[0;34m,\u001b[0m \u001b[0mgamma\u001b[0m\u001b[0;34m=\u001b[0m\u001b[0mself\u001b[0m\u001b[0;34m.\u001b[0m\u001b[0mgamma\u001b[0m\u001b[0;34m)\u001b[0m\u001b[0;34m\u001b[0m\u001b[0m\n",
        "\u001b[0;32m/usr/local/lib/python2.7/dist-packages/sklearn/metrics/pairwise.pyc\u001b[0m in \u001b[0;36mrbf_kernel\u001b[0;34m(X, Y, gamma)\u001b[0m\n\u001b[1;32m    373\u001b[0m         \u001b[0mgamma\u001b[0m \u001b[0;34m=\u001b[0m \u001b[0;36m1.0\u001b[0m \u001b[0;34m/\u001b[0m \u001b[0mX\u001b[0m\u001b[0;34m.\u001b[0m\u001b[0mshape\u001b[0m\u001b[0;34m[\u001b[0m\u001b[0;36m1\u001b[0m\u001b[0;34m]\u001b[0m\u001b[0;34m\u001b[0m\u001b[0m\n\u001b[1;32m    374\u001b[0m \u001b[0;34m\u001b[0m\u001b[0m\n\u001b[0;32m--> 375\u001b[0;31m     \u001b[0mK\u001b[0m \u001b[0;34m=\u001b[0m \u001b[0meuclidean_distances\u001b[0m\u001b[0;34m(\u001b[0m\u001b[0mX\u001b[0m\u001b[0;34m,\u001b[0m \u001b[0mY\u001b[0m\u001b[0;34m,\u001b[0m \u001b[0msquared\u001b[0m\u001b[0;34m=\u001b[0m\u001b[0mTrue\u001b[0m\u001b[0;34m)\u001b[0m\u001b[0;34m\u001b[0m\u001b[0m\n\u001b[0m\u001b[1;32m    376\u001b[0m     \u001b[0mK\u001b[0m \u001b[0;34m*=\u001b[0m \u001b[0;34m-\u001b[0m\u001b[0mgamma\u001b[0m\u001b[0;34m\u001b[0m\u001b[0m\n\u001b[1;32m    377\u001b[0m     \u001b[0mnp\u001b[0m\u001b[0;34m.\u001b[0m\u001b[0mexp\u001b[0m\u001b[0;34m(\u001b[0m\u001b[0mK\u001b[0m\u001b[0;34m,\u001b[0m \u001b[0mK\u001b[0m\u001b[0;34m)\u001b[0m    \u001b[0;31m# exponentiate K in-place\u001b[0m\u001b[0;34m\u001b[0m\u001b[0m\n",
        "\u001b[0;32m/usr/local/lib/python2.7/dist-packages/sklearn/metrics/pairwise.pyc\u001b[0m in \u001b[0;36meuclidean_distances\u001b[0;34m(X, Y, Y_norm_squared, squared)\u001b[0m\n\u001b[1;32m    174\u001b[0m                 \"Incompatible dimensions for Y and Y_norm_squared\")\n\u001b[1;32m    175\u001b[0m \u001b[0;34m\u001b[0m\u001b[0m\n\u001b[0;32m--> 176\u001b[0;31m     \u001b[0mdistances\u001b[0m \u001b[0;34m=\u001b[0m \u001b[0msafe_sparse_dot\u001b[0m\u001b[0;34m(\u001b[0m\u001b[0mX\u001b[0m\u001b[0;34m,\u001b[0m \u001b[0mY\u001b[0m\u001b[0;34m.\u001b[0m\u001b[0mT\u001b[0m\u001b[0;34m,\u001b[0m \u001b[0mdense_output\u001b[0m\u001b[0;34m=\u001b[0m\u001b[0mTrue\u001b[0m\u001b[0;34m)\u001b[0m\u001b[0;34m\u001b[0m\u001b[0m\n\u001b[0m\u001b[1;32m    177\u001b[0m     \u001b[0mdistances\u001b[0m \u001b[0;34m*=\u001b[0m \u001b[0;34m-\u001b[0m\u001b[0;36m2\u001b[0m\u001b[0;34m\u001b[0m\u001b[0m\n\u001b[1;32m    178\u001b[0m     \u001b[0mdistances\u001b[0m \u001b[0;34m+=\u001b[0m \u001b[0mXX\u001b[0m\u001b[0;34m\u001b[0m\u001b[0m\n",
        "\u001b[0;32m/usr/local/lib/python2.7/dist-packages/sklearn/utils/extmath.pyc\u001b[0m in \u001b[0;36msafe_sparse_dot\u001b[0;34m(a, b, dense_output)\u001b[0m\n\u001b[1;32m     81\u001b[0m         \u001b[0;32mreturn\u001b[0m \u001b[0mret\u001b[0m\u001b[0;34m\u001b[0m\u001b[0m\n\u001b[1;32m     82\u001b[0m     \u001b[0;32melse\u001b[0m\u001b[0;34m:\u001b[0m\u001b[0;34m\u001b[0m\u001b[0m\n\u001b[0;32m---> 83\u001b[0;31m         \u001b[0;32mreturn\u001b[0m \u001b[0mnp\u001b[0m\u001b[0;34m.\u001b[0m\u001b[0mdot\u001b[0m\u001b[0;34m(\u001b[0m\u001b[0ma\u001b[0m\u001b[0;34m,\u001b[0m \u001b[0mb\u001b[0m\u001b[0;34m)\u001b[0m\u001b[0;34m\u001b[0m\u001b[0m\n\u001b[0m\u001b[1;32m     84\u001b[0m \u001b[0;34m\u001b[0m\u001b[0m\n\u001b[1;32m     85\u001b[0m \u001b[0;34m\u001b[0m\u001b[0m\n",
        "\u001b[0;31mMemoryError\u001b[0m: "
       ]
      },
      {
       "output_type": "stream",
       "stream": "stdout",
       "text": [
        "(360, 640, 5)\n",
        "(212809, 5)\n",
        "(5414, 5)\n",
        "(12177, 5)\n",
        "(230400, 5)\n",
        "(230400,)\n"
       ]
      }
     ],
     "prompt_number": 72
    },
    {
     "cell_type": "code",
     "collapsed": false,
     "input": [
      "# train on first frame\n",
      "# augment with x-y positional data\n",
      "classifier = tree.DecisionTreeClassifier(random_state=0)\n",
      "first_frame = imread(files[0])\n",
      "\n",
      "indices = np.indices(first_frame.shape[:2]).swapaxes(-1, 0).swapaxes(0, 1)\n",
      "data = np.concatenate((first_frame, indices), axis=-1)\n",
      "print data.shape\n",
      "\n",
      "# extract training data\n",
      "background = data[trimap == 0]\n",
      "print background.shape\n",
      "foreground = data[trimap == 255]\n",
      "print foreground.shape\n",
      "\n",
      "X = np.vstack((background, foreground))\n",
      "print X.shape\n",
      "y = np.repeat([0.0, 1.0], [background.shape[0], foreground.shape[0]])\n",
      "print y.shape\n",
      "classifier.fit(X, y)"
     ],
     "language": "python",
     "metadata": {},
     "outputs": []
    },
    {
     "cell_type": "code",
     "collapsed": false,
     "input": [
      "image = imread(files[0])\n",
      "data = np.concatenate((image, indices), axis=-1)\n",
      "result = classifier.predict_log_proba(data.reshape((-1, 5)))\n",
      "figure(); imshow(result[:, 0].reshape(image.shape[:2]), interpolation='nearest')"
     ],
     "language": "python",
     "metadata": {},
     "outputs": [
      {
       "metadata": {},
       "output_type": "pyout",
       "prompt_number": 42,
       "text": [
        "<matplotlib.image.AxesImage at 0x7f9cf20f64d0>"
       ]
      }
     ],
     "prompt_number": 42
    },
    {
     "cell_type": "code",
     "collapsed": false,
     "input": [
      "for filename in files:\n",
      "    image = imread(filename)\n",
      "    data = np.concatenate((image, indices), axis=-1)\n",
      "    result = classifier.predict(data.reshape((-1, 5)))\n",
      "    mask = np.repeat(result.reshape(np.hstack((image.shape[:2], 1))), image.shape[-1], axis=-1)\n",
      "    newImg = np.zeros_like(image)\n",
      "    newImg[mask==0] = newBg[mask==0] \n",
      "    newImg[mask==1] = image[mask==1]\n",
      "    imsave(filename, newImg)"
     ],
     "language": "python",
     "metadata": {},
     "outputs": [
      {
       "output_type": "stream",
       "stream": "stderr",
       "text": [
        "/usr/local/lib/python2.7/dist-packages/skimage/io/_plugins/pil_plugin.py:112: DeprecationWarning: fromstring() is deprecated. Please call frombytes() instead.\n",
        "  img = Image.fromstring(mode, (arr.shape[1], arr.shape[0]), arr.tostring())\n",
        "/usr/local/lib/python2.7/dist-packages/skimage/io/_plugins/pil_plugin.py:112: DeprecationWarning: fromstring() is deprecated. Please call frombytes() instead.\n",
        "  img = Image.fromstring(mode, (arr.shape[1], arr.shape[0]), arr.tostring())\n"
       ]
      },
      {
       "output_type": "stream",
       "stream": "stderr",
       "text": [
        "/usr/local/lib/python2.7/dist-packages/skimage/io/_plugins/pil_plugin.py:112: DeprecationWarning: fromstring() is deprecated. Please call frombytes() instead.\n",
        "  img = Image.fromstring(mode, (arr.shape[1], arr.shape[0]), arr.tostring())\n",
        "/usr/local/lib/python2.7/dist-packages/skimage/io/_plugins/pil_plugin.py:112: DeprecationWarning: fromstring() is deprecated. Please call frombytes() instead.\n",
        "  img = Image.fromstring(mode, (arr.shape[1], arr.shape[0]), arr.tostring())\n"
       ]
      },
      {
       "output_type": "stream",
       "stream": "stderr",
       "text": [
        "/usr/local/lib/python2.7/dist-packages/skimage/io/_plugins/pil_plugin.py:112: DeprecationWarning: fromstring() is deprecated. Please call frombytes() instead.\n",
        "  img = Image.fromstring(mode, (arr.shape[1], arr.shape[0]), arr.tostring())\n",
        "/usr/local/lib/python2.7/dist-packages/skimage/io/_plugins/pil_plugin.py:112: DeprecationWarning: fromstring() is deprecated. Please call frombytes() instead.\n",
        "  img = Image.fromstring(mode, (arr.shape[1], arr.shape[0]), arr.tostring())\n"
       ]
      },
      {
       "output_type": "stream",
       "stream": "stderr",
       "text": [
        "/usr/local/lib/python2.7/dist-packages/skimage/io/_plugins/pil_plugin.py:112: DeprecationWarning: fromstring() is deprecated. Please call frombytes() instead.\n",
        "  img = Image.fromstring(mode, (arr.shape[1], arr.shape[0]), arr.tostring())\n",
        "/usr/local/lib/python2.7/dist-packages/skimage/io/_plugins/pil_plugin.py:112: DeprecationWarning: fromstring() is deprecated. Please call frombytes() instead.\n",
        "  img = Image.fromstring(mode, (arr.shape[1], arr.shape[0]), arr.tostring())\n"
       ]
      },
      {
       "output_type": "stream",
       "stream": "stderr",
       "text": [
        "/usr/local/lib/python2.7/dist-packages/skimage/io/_plugins/pil_plugin.py:112: DeprecationWarning: fromstring() is deprecated. Please call frombytes() instead.\n",
        "  img = Image.fromstring(mode, (arr.shape[1], arr.shape[0]), arr.tostring())\n",
        "/usr/local/lib/python2.7/dist-packages/skimage/io/_plugins/pil_plugin.py:112: DeprecationWarning: fromstring() is deprecated. Please call frombytes() instead.\n",
        "  img = Image.fromstring(mode, (arr.shape[1], arr.shape[0]), arr.tostring())\n"
       ]
      },
      {
       "output_type": "stream",
       "stream": "stderr",
       "text": [
        "/usr/local/lib/python2.7/dist-packages/skimage/io/_plugins/pil_plugin.py:112: DeprecationWarning: fromstring() is deprecated. Please call frombytes() instead.\n",
        "  img = Image.fromstring(mode, (arr.shape[1], arr.shape[0]), arr.tostring())\n",
        "/usr/local/lib/python2.7/dist-packages/skimage/io/_plugins/pil_plugin.py:112: DeprecationWarning: fromstring() is deprecated. Please call frombytes() instead.\n",
        "  img = Image.fromstring(mode, (arr.shape[1], arr.shape[0]), arr.tostring())\n"
       ]
      },
      {
       "output_type": "stream",
       "stream": "stderr",
       "text": [
        "/usr/local/lib/python2.7/dist-packages/skimage/io/_plugins/pil_plugin.py:112: DeprecationWarning: fromstring() is deprecated. Please call frombytes() instead.\n",
        "  img = Image.fromstring(mode, (arr.shape[1], arr.shape[0]), arr.tostring())\n",
        "/usr/local/lib/python2.7/dist-packages/skimage/io/_plugins/pil_plugin.py:112: DeprecationWarning: fromstring() is deprecated. Please call frombytes() instead.\n",
        "  img = Image.fromstring(mode, (arr.shape[1], arr.shape[0]), arr.tostring())\n"
       ]
      },
      {
       "output_type": "stream",
       "stream": "stderr",
       "text": [
        "/usr/local/lib/python2.7/dist-packages/skimage/io/_plugins/pil_plugin.py:112: DeprecationWarning: fromstring() is deprecated. Please call frombytes() instead.\n",
        "  img = Image.fromstring(mode, (arr.shape[1], arr.shape[0]), arr.tostring())\n",
        "/usr/local/lib/python2.7/dist-packages/skimage/io/_plugins/pil_plugin.py:112: DeprecationWarning: fromstring() is deprecated. Please call frombytes() instead.\n",
        "  img = Image.fromstring(mode, (arr.shape[1], arr.shape[0]), arr.tostring())\n"
       ]
      },
      {
       "output_type": "stream",
       "stream": "stderr",
       "text": [
        "/usr/local/lib/python2.7/dist-packages/skimage/io/_plugins/pil_plugin.py:112: DeprecationWarning: fromstring() is deprecated. Please call frombytes() instead.\n",
        "  img = Image.fromstring(mode, (arr.shape[1], arr.shape[0]), arr.tostring())\n",
        "/usr/local/lib/python2.7/dist-packages/skimage/io/_plugins/pil_plugin.py:112: DeprecationWarning: fromstring() is deprecated. Please call frombytes() instead.\n",
        "  img = Image.fromstring(mode, (arr.shape[1], arr.shape[0]), arr.tostring())\n"
       ]
      },
      {
       "output_type": "stream",
       "stream": "stderr",
       "text": [
        "/usr/local/lib/python2.7/dist-packages/skimage/io/_plugins/pil_plugin.py:112: DeprecationWarning: fromstring() is deprecated. Please call frombytes() instead.\n",
        "  img = Image.fromstring(mode, (arr.shape[1], arr.shape[0]), arr.tostring())\n",
        "/usr/local/lib/python2.7/dist-packages/skimage/io/_plugins/pil_plugin.py:112: DeprecationWarning: fromstring() is deprecated. Please call frombytes() instead.\n",
        "  img = Image.fromstring(mode, (arr.shape[1], arr.shape[0]), arr.tostring())\n"
       ]
      },
      {
       "output_type": "stream",
       "stream": "stderr",
       "text": [
        "/usr/local/lib/python2.7/dist-packages/skimage/io/_plugins/pil_plugin.py:112: DeprecationWarning: fromstring() is deprecated. Please call frombytes() instead.\n",
        "  img = Image.fromstring(mode, (arr.shape[1], arr.shape[0]), arr.tostring())\n",
        "/usr/local/lib/python2.7/dist-packages/skimage/io/_plugins/pil_plugin.py:112: DeprecationWarning: fromstring() is deprecated. Please call frombytes() instead.\n",
        "  img = Image.fromstring(mode, (arr.shape[1], arr.shape[0]), arr.tostring())\n"
       ]
      },
      {
       "output_type": "stream",
       "stream": "stderr",
       "text": [
        "/usr/local/lib/python2.7/dist-packages/skimage/io/_plugins/pil_plugin.py:112: DeprecationWarning: fromstring() is deprecated. Please call frombytes() instead.\n",
        "  img = Image.fromstring(mode, (arr.shape[1], arr.shape[0]), arr.tostring())\n",
        "/usr/local/lib/python2.7/dist-packages/skimage/io/_plugins/pil_plugin.py:112: DeprecationWarning: fromstring() is deprecated. Please call frombytes() instead.\n",
        "  img = Image.fromstring(mode, (arr.shape[1], arr.shape[0]), arr.tostring())\n"
       ]
      },
      {
       "output_type": "stream",
       "stream": "stderr",
       "text": [
        "/usr/local/lib/python2.7/dist-packages/skimage/io/_plugins/pil_plugin.py:112: DeprecationWarning: fromstring() is deprecated. Please call frombytes() instead.\n",
        "  img = Image.fromstring(mode, (arr.shape[1], arr.shape[0]), arr.tostring())\n",
        "/usr/local/lib/python2.7/dist-packages/skimage/io/_plugins/pil_plugin.py:112: DeprecationWarning: fromstring() is deprecated. Please call frombytes() instead.\n",
        "  img = Image.fromstring(mode, (arr.shape[1], arr.shape[0]), arr.tostring())\n"
       ]
      },
      {
       "output_type": "stream",
       "stream": "stderr",
       "text": [
        "/usr/local/lib/python2.7/dist-packages/skimage/io/_plugins/pil_plugin.py:112: DeprecationWarning: fromstring() is deprecated. Please call frombytes() instead.\n",
        "  img = Image.fromstring(mode, (arr.shape[1], arr.shape[0]), arr.tostring())\n",
        "/usr/local/lib/python2.7/dist-packages/skimage/io/_plugins/pil_plugin.py:112: DeprecationWarning: fromstring() is deprecated. Please call frombytes() instead.\n",
        "  img = Image.fromstring(mode, (arr.shape[1], arr.shape[0]), arr.tostring())\n"
       ]
      },
      {
       "output_type": "stream",
       "stream": "stderr",
       "text": [
        "/usr/local/lib/python2.7/dist-packages/skimage/io/_plugins/pil_plugin.py:112: DeprecationWarning: fromstring() is deprecated. Please call frombytes() instead.\n",
        "  img = Image.fromstring(mode, (arr.shape[1], arr.shape[0]), arr.tostring())\n",
        "/usr/local/lib/python2.7/dist-packages/skimage/io/_plugins/pil_plugin.py:112: DeprecationWarning: fromstring() is deprecated. Please call frombytes() instead.\n",
        "  img = Image.fromstring(mode, (arr.shape[1], arr.shape[0]), arr.tostring())\n"
       ]
      },
      {
       "output_type": "stream",
       "stream": "stderr",
       "text": [
        "/usr/local/lib/python2.7/dist-packages/skimage/io/_plugins/pil_plugin.py:112: DeprecationWarning: fromstring() is deprecated. Please call frombytes() instead.\n",
        "  img = Image.fromstring(mode, (arr.shape[1], arr.shape[0]), arr.tostring())\n",
        "/usr/local/lib/python2.7/dist-packages/skimage/io/_plugins/pil_plugin.py:112: DeprecationWarning: fromstring() is deprecated. Please call frombytes() instead.\n",
        "  img = Image.fromstring(mode, (arr.shape[1], arr.shape[0]), arr.tostring())\n"
       ]
      },
      {
       "output_type": "stream",
       "stream": "stderr",
       "text": [
        "/usr/local/lib/python2.7/dist-packages/skimage/io/_plugins/pil_plugin.py:112: DeprecationWarning: fromstring() is deprecated. Please call frombytes() instead.\n",
        "  img = Image.fromstring(mode, (arr.shape[1], arr.shape[0]), arr.tostring())\n",
        "/usr/local/lib/python2.7/dist-packages/skimage/io/_plugins/pil_plugin.py:112: DeprecationWarning: fromstring() is deprecated. Please call frombytes() instead.\n",
        "  img = Image.fromstring(mode, (arr.shape[1], arr.shape[0]), arr.tostring())\n"
       ]
      },
      {
       "output_type": "stream",
       "stream": "stderr",
       "text": [
        "/usr/local/lib/python2.7/dist-packages/skimage/io/_plugins/pil_plugin.py:112: DeprecationWarning: fromstring() is deprecated. Please call frombytes() instead.\n",
        "  img = Image.fromstring(mode, (arr.shape[1], arr.shape[0]), arr.tostring())\n",
        "/usr/local/lib/python2.7/dist-packages/skimage/io/_plugins/pil_plugin.py:112: DeprecationWarning: fromstring() is deprecated. Please call frombytes() instead.\n",
        "  img = Image.fromstring(mode, (arr.shape[1], arr.shape[0]), arr.tostring())\n"
       ]
      },
      {
       "output_type": "stream",
       "stream": "stderr",
       "text": [
        "/usr/local/lib/python2.7/dist-packages/skimage/io/_plugins/pil_plugin.py:112: DeprecationWarning: fromstring() is deprecated. Please call frombytes() instead.\n",
        "  img = Image.fromstring(mode, (arr.shape[1], arr.shape[0]), arr.tostring())\n",
        "/usr/local/lib/python2.7/dist-packages/skimage/io/_plugins/pil_plugin.py:112: DeprecationWarning: fromstring() is deprecated. Please call frombytes() instead.\n",
        "  img = Image.fromstring(mode, (arr.shape[1], arr.shape[0]), arr.tostring())\n"
       ]
      },
      {
       "output_type": "stream",
       "stream": "stderr",
       "text": [
        "/usr/local/lib/python2.7/dist-packages/skimage/io/_plugins/pil_plugin.py:112: DeprecationWarning: fromstring() is deprecated. Please call frombytes() instead.\n",
        "  img = Image.fromstring(mode, (arr.shape[1], arr.shape[0]), arr.tostring())\n",
        "/usr/local/lib/python2.7/dist-packages/skimage/io/_plugins/pil_plugin.py:112: DeprecationWarning: fromstring() is deprecated. Please call frombytes() instead.\n",
        "  img = Image.fromstring(mode, (arr.shape[1], arr.shape[0]), arr.tostring())\n"
       ]
      },
      {
       "output_type": "stream",
       "stream": "stderr",
       "text": [
        "/usr/local/lib/python2.7/dist-packages/skimage/io/_plugins/pil_plugin.py:112: DeprecationWarning: fromstring() is deprecated. Please call frombytes() instead.\n",
        "  img = Image.fromstring(mode, (arr.shape[1], arr.shape[0]), arr.tostring())\n",
        "/usr/local/lib/python2.7/dist-packages/skimage/io/_plugins/pil_plugin.py:112: DeprecationWarning: fromstring() is deprecated. Please call frombytes() instead.\n",
        "  img = Image.fromstring(mode, (arr.shape[1], arr.shape[0]), arr.tostring())\n"
       ]
      },
      {
       "output_type": "stream",
       "stream": "stderr",
       "text": [
        "/usr/local/lib/python2.7/dist-packages/skimage/io/_plugins/pil_plugin.py:112: DeprecationWarning: fromstring() is deprecated. Please call frombytes() instead.\n",
        "  img = Image.fromstring(mode, (arr.shape[1], arr.shape[0]), arr.tostring())\n",
        "/usr/local/lib/python2.7/dist-packages/skimage/io/_plugins/pil_plugin.py:112: DeprecationWarning: fromstring() is deprecated. Please call frombytes() instead.\n",
        "  img = Image.fromstring(mode, (arr.shape[1], arr.shape[0]), arr.tostring())\n"
       ]
      },
      {
       "output_type": "stream",
       "stream": "stderr",
       "text": [
        "/usr/local/lib/python2.7/dist-packages/skimage/io/_plugins/pil_plugin.py:112: DeprecationWarning: fromstring() is deprecated. Please call frombytes() instead.\n",
        "  img = Image.fromstring(mode, (arr.shape[1], arr.shape[0]), arr.tostring())\n",
        "/usr/local/lib/python2.7/dist-packages/skimage/io/_plugins/pil_plugin.py:112: DeprecationWarning: fromstring() is deprecated. Please call frombytes() instead.\n",
        "  img = Image.fromstring(mode, (arr.shape[1], arr.shape[0]), arr.tostring())\n"
       ]
      },
      {
       "output_type": "stream",
       "stream": "stderr",
       "text": [
        "/usr/local/lib/python2.7/dist-packages/skimage/io/_plugins/pil_plugin.py:112: DeprecationWarning: fromstring() is deprecated. Please call frombytes() instead.\n",
        "  img = Image.fromstring(mode, (arr.shape[1], arr.shape[0]), arr.tostring())\n",
        "/usr/local/lib/python2.7/dist-packages/skimage/io/_plugins/pil_plugin.py:112: DeprecationWarning: fromstring() is deprecated. Please call frombytes() instead.\n",
        "  img = Image.fromstring(mode, (arr.shape[1], arr.shape[0]), arr.tostring())\n"
       ]
      },
      {
       "output_type": "stream",
       "stream": "stderr",
       "text": [
        "/usr/local/lib/python2.7/dist-packages/skimage/io/_plugins/pil_plugin.py:112: DeprecationWarning: fromstring() is deprecated. Please call frombytes() instead.\n",
        "  img = Image.fromstring(mode, (arr.shape[1], arr.shape[0]), arr.tostring())\n",
        "/usr/local/lib/python2.7/dist-packages/skimage/io/_plugins/pil_plugin.py:112: DeprecationWarning: fromstring() is deprecated. Please call frombytes() instead.\n",
        "  img = Image.fromstring(mode, (arr.shape[1], arr.shape[0]), arr.tostring())\n"
       ]
      },
      {
       "output_type": "stream",
       "stream": "stderr",
       "text": [
        "/usr/local/lib/python2.7/dist-packages/skimage/io/_plugins/pil_plugin.py:112: DeprecationWarning: fromstring() is deprecated. Please call frombytes() instead.\n",
        "  img = Image.fromstring(mode, (arr.shape[1], arr.shape[0]), arr.tostring())\n",
        "/usr/local/lib/python2.7/dist-packages/skimage/io/_plugins/pil_plugin.py:112: DeprecationWarning: fromstring() is deprecated. Please call frombytes() instead.\n",
        "  img = Image.fromstring(mode, (arr.shape[1], arr.shape[0]), arr.tostring())\n"
       ]
      },
      {
       "output_type": "stream",
       "stream": "stderr",
       "text": [
        "/usr/local/lib/python2.7/dist-packages/skimage/io/_plugins/pil_plugin.py:112: DeprecationWarning: fromstring() is deprecated. Please call frombytes() instead.\n",
        "  img = Image.fromstring(mode, (arr.shape[1], arr.shape[0]), arr.tostring())\n",
        "/usr/local/lib/python2.7/dist-packages/skimage/io/_plugins/pil_plugin.py:112: DeprecationWarning: fromstring() is deprecated. Please call frombytes() instead.\n",
        "  img = Image.fromstring(mode, (arr.shape[1], arr.shape[0]), arr.tostring())\n"
       ]
      },
      {
       "output_type": "stream",
       "stream": "stderr",
       "text": [
        "/usr/local/lib/python2.7/dist-packages/skimage/io/_plugins/pil_plugin.py:112: DeprecationWarning: fromstring() is deprecated. Please call frombytes() instead.\n",
        "  img = Image.fromstring(mode, (arr.shape[1], arr.shape[0]), arr.tostring())\n",
        "/usr/local/lib/python2.7/dist-packages/skimage/io/_plugins/pil_plugin.py:112: DeprecationWarning: fromstring() is deprecated. Please call frombytes() instead.\n",
        "  img = Image.fromstring(mode, (arr.shape[1], arr.shape[0]), arr.tostring())\n"
       ]
      },
      {
       "output_type": "stream",
       "stream": "stderr",
       "text": [
        "/usr/local/lib/python2.7/dist-packages/skimage/io/_plugins/pil_plugin.py:112: DeprecationWarning: fromstring() is deprecated. Please call frombytes() instead.\n",
        "  img = Image.fromstring(mode, (arr.shape[1], arr.shape[0]), arr.tostring())\n",
        "/usr/local/lib/python2.7/dist-packages/skimage/io/_plugins/pil_plugin.py:112: DeprecationWarning: fromstring() is deprecated. Please call frombytes() instead.\n",
        "  img = Image.fromstring(mode, (arr.shape[1], arr.shape[0]), arr.tostring())\n"
       ]
      },
      {
       "output_type": "stream",
       "stream": "stderr",
       "text": [
        "/usr/local/lib/python2.7/dist-packages/skimage/io/_plugins/pil_plugin.py:112: DeprecationWarning: fromstring() is deprecated. Please call frombytes() instead.\n",
        "  img = Image.fromstring(mode, (arr.shape[1], arr.shape[0]), arr.tostring())\n",
        "/usr/local/lib/python2.7/dist-packages/skimage/io/_plugins/pil_plugin.py:112: DeprecationWarning: fromstring() is deprecated. Please call frombytes() instead.\n",
        "  img = Image.fromstring(mode, (arr.shape[1], arr.shape[0]), arr.tostring())\n"
       ]
      },
      {
       "output_type": "stream",
       "stream": "stderr",
       "text": [
        "/usr/local/lib/python2.7/dist-packages/skimage/io/_plugins/pil_plugin.py:112: DeprecationWarning: fromstring() is deprecated. Please call frombytes() instead.\n",
        "  img = Image.fromstring(mode, (arr.shape[1], arr.shape[0]), arr.tostring())\n",
        "/usr/local/lib/python2.7/dist-packages/skimage/io/_plugins/pil_plugin.py:112: DeprecationWarning: fromstring() is deprecated. Please call frombytes() instead.\n",
        "  img = Image.fromstring(mode, (arr.shape[1], arr.shape[0]), arr.tostring())\n"
       ]
      },
      {
       "output_type": "stream",
       "stream": "stderr",
       "text": [
        "/usr/local/lib/python2.7/dist-packages/skimage/io/_plugins/pil_plugin.py:112: DeprecationWarning: fromstring() is deprecated. Please call frombytes() instead.\n",
        "  img = Image.fromstring(mode, (arr.shape[1], arr.shape[0]), arr.tostring())\n",
        "/usr/local/lib/python2.7/dist-packages/skimage/io/_plugins/pil_plugin.py:112: DeprecationWarning: fromstring() is deprecated. Please call frombytes() instead.\n",
        "  img = Image.fromstring(mode, (arr.shape[1], arr.shape[0]), arr.tostring())\n"
       ]
      },
      {
       "output_type": "stream",
       "stream": "stderr",
       "text": [
        "/usr/local/lib/python2.7/dist-packages/skimage/io/_plugins/pil_plugin.py:112: DeprecationWarning: fromstring() is deprecated. Please call frombytes() instead.\n",
        "  img = Image.fromstring(mode, (arr.shape[1], arr.shape[0]), arr.tostring())\n",
        "/usr/local/lib/python2.7/dist-packages/skimage/io/_plugins/pil_plugin.py:112: DeprecationWarning: fromstring() is deprecated. Please call frombytes() instead.\n",
        "  img = Image.fromstring(mode, (arr.shape[1], arr.shape[0]), arr.tostring())\n"
       ]
      },
      {
       "output_type": "stream",
       "stream": "stderr",
       "text": [
        "/usr/local/lib/python2.7/dist-packages/skimage/io/_plugins/pil_plugin.py:112: DeprecationWarning: fromstring() is deprecated. Please call frombytes() instead.\n",
        "  img = Image.fromstring(mode, (arr.shape[1], arr.shape[0]), arr.tostring())\n",
        "/usr/local/lib/python2.7/dist-packages/skimage/io/_plugins/pil_plugin.py:112: DeprecationWarning: fromstring() is deprecated. Please call frombytes() instead.\n",
        "  img = Image.fromstring(mode, (arr.shape[1], arr.shape[0]), arr.tostring())\n"
       ]
      },
      {
       "output_type": "stream",
       "stream": "stderr",
       "text": [
        "/usr/local/lib/python2.7/dist-packages/skimage/io/_plugins/pil_plugin.py:112: DeprecationWarning: fromstring() is deprecated. Please call frombytes() instead.\n",
        "  img = Image.fromstring(mode, (arr.shape[1], arr.shape[0]), arr.tostring())\n",
        "/usr/local/lib/python2.7/dist-packages/skimage/io/_plugins/pil_plugin.py:112: DeprecationWarning: fromstring() is deprecated. Please call frombytes() instead.\n",
        "  img = Image.fromstring(mode, (arr.shape[1], arr.shape[0]), arr.tostring())\n"
       ]
      },
      {
       "output_type": "stream",
       "stream": "stderr",
       "text": [
        "/usr/local/lib/python2.7/dist-packages/skimage/io/_plugins/pil_plugin.py:112: DeprecationWarning: fromstring() is deprecated. Please call frombytes() instead.\n",
        "  img = Image.fromstring(mode, (arr.shape[1], arr.shape[0]), arr.tostring())\n",
        "/usr/local/lib/python2.7/dist-packages/skimage/io/_plugins/pil_plugin.py:112: DeprecationWarning: fromstring() is deprecated. Please call frombytes() instead.\n",
        "  img = Image.fromstring(mode, (arr.shape[1], arr.shape[0]), arr.tostring())\n"
       ]
      },
      {
       "output_type": "stream",
       "stream": "stderr",
       "text": [
        "/usr/local/lib/python2.7/dist-packages/skimage/io/_plugins/pil_plugin.py:112: DeprecationWarning: fromstring() is deprecated. Please call frombytes() instead.\n",
        "  img = Image.fromstring(mode, (arr.shape[1], arr.shape[0]), arr.tostring())\n",
        "/usr/local/lib/python2.7/dist-packages/skimage/io/_plugins/pil_plugin.py:112: DeprecationWarning: fromstring() is deprecated. Please call frombytes() instead.\n",
        "  img = Image.fromstring(mode, (arr.shape[1], arr.shape[0]), arr.tostring())\n"
       ]
      },
      {
       "output_type": "stream",
       "stream": "stderr",
       "text": [
        "/usr/local/lib/python2.7/dist-packages/skimage/io/_plugins/pil_plugin.py:112: DeprecationWarning: fromstring() is deprecated. Please call frombytes() instead.\n",
        "  img = Image.fromstring(mode, (arr.shape[1], arr.shape[0]), arr.tostring())\n",
        "/usr/local/lib/python2.7/dist-packages/skimage/io/_plugins/pil_plugin.py:112: DeprecationWarning: fromstring() is deprecated. Please call frombytes() instead.\n",
        "  img = Image.fromstring(mode, (arr.shape[1], arr.shape[0]), arr.tostring())\n"
       ]
      },
      {
       "output_type": "stream",
       "stream": "stderr",
       "text": [
        "/usr/local/lib/python2.7/dist-packages/skimage/io/_plugins/pil_plugin.py:112: DeprecationWarning: fromstring() is deprecated. Please call frombytes() instead.\n",
        "  img = Image.fromstring(mode, (arr.shape[1], arr.shape[0]), arr.tostring())\n",
        "/usr/local/lib/python2.7/dist-packages/skimage/io/_plugins/pil_plugin.py:112: DeprecationWarning: fromstring() is deprecated. Please call frombytes() instead.\n",
        "  img = Image.fromstring(mode, (arr.shape[1], arr.shape[0]), arr.tostring())\n"
       ]
      },
      {
       "output_type": "stream",
       "stream": "stderr",
       "text": [
        "/usr/local/lib/python2.7/dist-packages/skimage/io/_plugins/pil_plugin.py:112: DeprecationWarning: fromstring() is deprecated. Please call frombytes() instead.\n",
        "  img = Image.fromstring(mode, (arr.shape[1], arr.shape[0]), arr.tostring())\n",
        "/usr/local/lib/python2.7/dist-packages/skimage/io/_plugins/pil_plugin.py:112: DeprecationWarning: fromstring() is deprecated. Please call frombytes() instead.\n",
        "  img = Image.fromstring(mode, (arr.shape[1], arr.shape[0]), arr.tostring())\n"
       ]
      },
      {
       "output_type": "stream",
       "stream": "stderr",
       "text": [
        "/usr/local/lib/python2.7/dist-packages/skimage/io/_plugins/pil_plugin.py:112: DeprecationWarning: fromstring() is deprecated. Please call frombytes() instead.\n",
        "  img = Image.fromstring(mode, (arr.shape[1], arr.shape[0]), arr.tostring())\n",
        "/usr/local/lib/python2.7/dist-packages/skimage/io/_plugins/pil_plugin.py:112: DeprecationWarning: fromstring() is deprecated. Please call frombytes() instead.\n",
        "  img = Image.fromstring(mode, (arr.shape[1], arr.shape[0]), arr.tostring())\n"
       ]
      },
      {
       "output_type": "stream",
       "stream": "stderr",
       "text": [
        "/usr/local/lib/python2.7/dist-packages/skimage/io/_plugins/pil_plugin.py:112: DeprecationWarning: fromstring() is deprecated. Please call frombytes() instead.\n",
        "  img = Image.fromstring(mode, (arr.shape[1], arr.shape[0]), arr.tostring())\n",
        "/usr/local/lib/python2.7/dist-packages/skimage/io/_plugins/pil_plugin.py:112: DeprecationWarning: fromstring() is deprecated. Please call frombytes() instead.\n",
        "  img = Image.fromstring(mode, (arr.shape[1], arr.shape[0]), arr.tostring())\n"
       ]
      },
      {
       "output_type": "stream",
       "stream": "stderr",
       "text": [
        "/usr/local/lib/python2.7/dist-packages/skimage/io/_plugins/pil_plugin.py:112: DeprecationWarning: fromstring() is deprecated. Please call frombytes() instead.\n",
        "  img = Image.fromstring(mode, (arr.shape[1], arr.shape[0]), arr.tostring())\n",
        "/usr/local/lib/python2.7/dist-packages/skimage/io/_plugins/pil_plugin.py:112: DeprecationWarning: fromstring() is deprecated. Please call frombytes() instead.\n",
        "  img = Image.fromstring(mode, (arr.shape[1], arr.shape[0]), arr.tostring())\n"
       ]
      },
      {
       "output_type": "stream",
       "stream": "stderr",
       "text": [
        "/usr/local/lib/python2.7/dist-packages/skimage/io/_plugins/pil_plugin.py:112: DeprecationWarning: fromstring() is deprecated. Please call frombytes() instead.\n",
        "  img = Image.fromstring(mode, (arr.shape[1], arr.shape[0]), arr.tostring())\n",
        "/usr/local/lib/python2.7/dist-packages/skimage/io/_plugins/pil_plugin.py:112: DeprecationWarning: fromstring() is deprecated. Please call frombytes() instead.\n",
        "  img = Image.fromstring(mode, (arr.shape[1], arr.shape[0]), arr.tostring())\n"
       ]
      },
      {
       "output_type": "stream",
       "stream": "stderr",
       "text": [
        "/usr/local/lib/python2.7/dist-packages/skimage/io/_plugins/pil_plugin.py:112: DeprecationWarning: fromstring() is deprecated. Please call frombytes() instead.\n",
        "  img = Image.fromstring(mode, (arr.shape[1], arr.shape[0]), arr.tostring())\n",
        "/usr/local/lib/python2.7/dist-packages/skimage/io/_plugins/pil_plugin.py:112: DeprecationWarning: fromstring() is deprecated. Please call frombytes() instead.\n",
        "  img = Image.fromstring(mode, (arr.shape[1], arr.shape[0]), arr.tostring())\n"
       ]
      },
      {
       "output_type": "stream",
       "stream": "stderr",
       "text": [
        "/usr/local/lib/python2.7/dist-packages/skimage/io/_plugins/pil_plugin.py:112: DeprecationWarning: fromstring() is deprecated. Please call frombytes() instead.\n",
        "  img = Image.fromstring(mode, (arr.shape[1], arr.shape[0]), arr.tostring())\n",
        "/usr/local/lib/python2.7/dist-packages/skimage/io/_plugins/pil_plugin.py:112: DeprecationWarning: fromstring() is deprecated. Please call frombytes() instead.\n",
        "  img = Image.fromstring(mode, (arr.shape[1], arr.shape[0]), arr.tostring())\n"
       ]
      },
      {
       "output_type": "stream",
       "stream": "stderr",
       "text": [
        "/usr/local/lib/python2.7/dist-packages/skimage/io/_plugins/pil_plugin.py:112: DeprecationWarning: fromstring() is deprecated. Please call frombytes() instead.\n",
        "  img = Image.fromstring(mode, (arr.shape[1], arr.shape[0]), arr.tostring())\n",
        "/usr/local/lib/python2.7/dist-packages/skimage/io/_plugins/pil_plugin.py:112: DeprecationWarning: fromstring() is deprecated. Please call frombytes() instead.\n",
        "  img = Image.fromstring(mode, (arr.shape[1], arr.shape[0]), arr.tostring())\n"
       ]
      },
      {
       "output_type": "stream",
       "stream": "stderr",
       "text": [
        "/usr/local/lib/python2.7/dist-packages/skimage/io/_plugins/pil_plugin.py:112: DeprecationWarning: fromstring() is deprecated. Please call frombytes() instead.\n",
        "  img = Image.fromstring(mode, (arr.shape[1], arr.shape[0]), arr.tostring())\n",
        "/usr/local/lib/python2.7/dist-packages/skimage/io/_plugins/pil_plugin.py:112: DeprecationWarning: fromstring() is deprecated. Please call frombytes() instead.\n",
        "  img = Image.fromstring(mode, (arr.shape[1], arr.shape[0]), arr.tostring())\n"
       ]
      },
      {
       "output_type": "stream",
       "stream": "stderr",
       "text": [
        "/usr/local/lib/python2.7/dist-packages/skimage/io/_plugins/pil_plugin.py:112: DeprecationWarning: fromstring() is deprecated. Please call frombytes() instead.\n",
        "  img = Image.fromstring(mode, (arr.shape[1], arr.shape[0]), arr.tostring())\n",
        "/usr/local/lib/python2.7/dist-packages/skimage/io/_plugins/pil_plugin.py:112: DeprecationWarning: fromstring() is deprecated. Please call frombytes() instead.\n",
        "  img = Image.fromstring(mode, (arr.shape[1], arr.shape[0]), arr.tostring())\n"
       ]
      },
      {
       "output_type": "stream",
       "stream": "stderr",
       "text": [
        "/usr/local/lib/python2.7/dist-packages/skimage/io/_plugins/pil_plugin.py:112: DeprecationWarning: fromstring() is deprecated. Please call frombytes() instead.\n",
        "  img = Image.fromstring(mode, (arr.shape[1], arr.shape[0]), arr.tostring())\n",
        "/usr/local/lib/python2.7/dist-packages/skimage/io/_plugins/pil_plugin.py:112: DeprecationWarning: fromstring() is deprecated. Please call frombytes() instead.\n",
        "  img = Image.fromstring(mode, (arr.shape[1], arr.shape[0]), arr.tostring())\n"
       ]
      },
      {
       "output_type": "stream",
       "stream": "stderr",
       "text": [
        "/usr/local/lib/python2.7/dist-packages/skimage/io/_plugins/pil_plugin.py:112: DeprecationWarning: fromstring() is deprecated. Please call frombytes() instead.\n",
        "  img = Image.fromstring(mode, (arr.shape[1], arr.shape[0]), arr.tostring())\n",
        "/usr/local/lib/python2.7/dist-packages/skimage/io/_plugins/pil_plugin.py:112: DeprecationWarning: fromstring() is deprecated. Please call frombytes() instead.\n",
        "  img = Image.fromstring(mode, (arr.shape[1], arr.shape[0]), arr.tostring())\n"
       ]
      },
      {
       "output_type": "stream",
       "stream": "stderr",
       "text": [
        "/usr/local/lib/python2.7/dist-packages/skimage/io/_plugins/pil_plugin.py:112: DeprecationWarning: fromstring() is deprecated. Please call frombytes() instead.\n",
        "  img = Image.fromstring(mode, (arr.shape[1], arr.shape[0]), arr.tostring())\n",
        "/usr/local/lib/python2.7/dist-packages/skimage/io/_plugins/pil_plugin.py:112: DeprecationWarning: fromstring() is deprecated. Please call frombytes() instead.\n",
        "  img = Image.fromstring(mode, (arr.shape[1], arr.shape[0]), arr.tostring())\n"
       ]
      },
      {
       "output_type": "stream",
       "stream": "stderr",
       "text": [
        "/usr/local/lib/python2.7/dist-packages/skimage/io/_plugins/pil_plugin.py:112: DeprecationWarning: fromstring() is deprecated. Please call frombytes() instead.\n",
        "  img = Image.fromstring(mode, (arr.shape[1], arr.shape[0]), arr.tostring())\n",
        "/usr/local/lib/python2.7/dist-packages/skimage/io/_plugins/pil_plugin.py:112: DeprecationWarning: fromstring() is deprecated. Please call frombytes() instead.\n",
        "  img = Image.fromstring(mode, (arr.shape[1], arr.shape[0]), arr.tostring())\n"
       ]
      },
      {
       "output_type": "stream",
       "stream": "stderr",
       "text": [
        "/usr/local/lib/python2.7/dist-packages/skimage/io/_plugins/pil_plugin.py:112: DeprecationWarning: fromstring() is deprecated. Please call frombytes() instead.\n",
        "  img = Image.fromstring(mode, (arr.shape[1], arr.shape[0]), arr.tostring())\n",
        "/usr/local/lib/python2.7/dist-packages/skimage/io/_plugins/pil_plugin.py:112: DeprecationWarning: fromstring() is deprecated. Please call frombytes() instead.\n",
        "  img = Image.fromstring(mode, (arr.shape[1], arr.shape[0]), arr.tostring())\n"
       ]
      },
      {
       "output_type": "stream",
       "stream": "stderr",
       "text": [
        "/usr/local/lib/python2.7/dist-packages/skimage/io/_plugins/pil_plugin.py:112: DeprecationWarning: fromstring() is deprecated. Please call frombytes() instead.\n",
        "  img = Image.fromstring(mode, (arr.shape[1], arr.shape[0]), arr.tostring())\n",
        "/usr/local/lib/python2.7/dist-packages/skimage/io/_plugins/pil_plugin.py:112: DeprecationWarning: fromstring() is deprecated. Please call frombytes() instead.\n",
        "  img = Image.fromstring(mode, (arr.shape[1], arr.shape[0]), arr.tostring())\n"
       ]
      },
      {
       "output_type": "stream",
       "stream": "stderr",
       "text": [
        "/usr/local/lib/python2.7/dist-packages/skimage/io/_plugins/pil_plugin.py:112: DeprecationWarning: fromstring() is deprecated. Please call frombytes() instead.\n",
        "  img = Image.fromstring(mode, (arr.shape[1], arr.shape[0]), arr.tostring())\n",
        "/usr/local/lib/python2.7/dist-packages/skimage/io/_plugins/pil_plugin.py:112: DeprecationWarning: fromstring() is deprecated. Please call frombytes() instead.\n",
        "  img = Image.fromstring(mode, (arr.shape[1], arr.shape[0]), arr.tostring())\n"
       ]
      },
      {
       "output_type": "stream",
       "stream": "stderr",
       "text": [
        "/usr/local/lib/python2.7/dist-packages/skimage/io/_plugins/pil_plugin.py:112: DeprecationWarning: fromstring() is deprecated. Please call frombytes() instead.\n",
        "  img = Image.fromstring(mode, (arr.shape[1], arr.shape[0]), arr.tostring())\n",
        "/usr/local/lib/python2.7/dist-packages/skimage/io/_plugins/pil_plugin.py:112: DeprecationWarning: fromstring() is deprecated. Please call frombytes() instead.\n",
        "  img = Image.fromstring(mode, (arr.shape[1], arr.shape[0]), arr.tostring())\n"
       ]
      },
      {
       "output_type": "stream",
       "stream": "stderr",
       "text": [
        "/usr/local/lib/python2.7/dist-packages/skimage/io/_plugins/pil_plugin.py:112: DeprecationWarning: fromstring() is deprecated. Please call frombytes() instead.\n",
        "  img = Image.fromstring(mode, (arr.shape[1], arr.shape[0]), arr.tostring())\n",
        "/usr/local/lib/python2.7/dist-packages/skimage/io/_plugins/pil_plugin.py:112: DeprecationWarning: fromstring() is deprecated. Please call frombytes() instead.\n",
        "  img = Image.fromstring(mode, (arr.shape[1], arr.shape[0]), arr.tostring())\n"
       ]
      },
      {
       "output_type": "stream",
       "stream": "stderr",
       "text": [
        "/usr/local/lib/python2.7/dist-packages/skimage/io/_plugins/pil_plugin.py:112: DeprecationWarning: fromstring() is deprecated. Please call frombytes() instead.\n",
        "  img = Image.fromstring(mode, (arr.shape[1], arr.shape[0]), arr.tostring())\n",
        "/usr/local/lib/python2.7/dist-packages/skimage/io/_plugins/pil_plugin.py:112: DeprecationWarning: fromstring() is deprecated. Please call frombytes() instead.\n",
        "  img = Image.fromstring(mode, (arr.shape[1], arr.shape[0]), arr.tostring())\n"
       ]
      },
      {
       "output_type": "stream",
       "stream": "stderr",
       "text": [
        "/usr/local/lib/python2.7/dist-packages/skimage/io/_plugins/pil_plugin.py:112: DeprecationWarning: fromstring() is deprecated. Please call frombytes() instead.\n",
        "  img = Image.fromstring(mode, (arr.shape[1], arr.shape[0]), arr.tostring())\n",
        "/usr/local/lib/python2.7/dist-packages/skimage/io/_plugins/pil_plugin.py:112: DeprecationWarning: fromstring() is deprecated. Please call frombytes() instead.\n",
        "  img = Image.fromstring(mode, (arr.shape[1], arr.shape[0]), arr.tostring())\n"
       ]
      },
      {
       "output_type": "stream",
       "stream": "stderr",
       "text": [
        "/usr/local/lib/python2.7/dist-packages/skimage/io/_plugins/pil_plugin.py:112: DeprecationWarning: fromstring() is deprecated. Please call frombytes() instead.\n",
        "  img = Image.fromstring(mode, (arr.shape[1], arr.shape[0]), arr.tostring())\n",
        "/usr/local/lib/python2.7/dist-packages/skimage/io/_plugins/pil_plugin.py:112: DeprecationWarning: fromstring() is deprecated. Please call frombytes() instead.\n",
        "  img = Image.fromstring(mode, (arr.shape[1], arr.shape[0]), arr.tostring())\n"
       ]
      },
      {
       "output_type": "stream",
       "stream": "stderr",
       "text": [
        "/usr/local/lib/python2.7/dist-packages/skimage/io/_plugins/pil_plugin.py:112: DeprecationWarning: fromstring() is deprecated. Please call frombytes() instead.\n",
        "  img = Image.fromstring(mode, (arr.shape[1], arr.shape[0]), arr.tostring())\n",
        "/usr/local/lib/python2.7/dist-packages/skimage/io/_plugins/pil_plugin.py:112: DeprecationWarning: fromstring() is deprecated. Please call frombytes() instead.\n",
        "  img = Image.fromstring(mode, (arr.shape[1], arr.shape[0]), arr.tostring())\n"
       ]
      },
      {
       "output_type": "stream",
       "stream": "stderr",
       "text": [
        "/usr/local/lib/python2.7/dist-packages/skimage/io/_plugins/pil_plugin.py:112: DeprecationWarning: fromstring() is deprecated. Please call frombytes() instead.\n",
        "  img = Image.fromstring(mode, (arr.shape[1], arr.shape[0]), arr.tostring())\n",
        "/usr/local/lib/python2.7/dist-packages/skimage/io/_plugins/pil_plugin.py:112: DeprecationWarning: fromstring() is deprecated. Please call frombytes() instead.\n",
        "  img = Image.fromstring(mode, (arr.shape[1], arr.shape[0]), arr.tostring())\n"
       ]
      },
      {
       "output_type": "stream",
       "stream": "stderr",
       "text": [
        "/usr/local/lib/python2.7/dist-packages/skimage/io/_plugins/pil_plugin.py:112: DeprecationWarning: fromstring() is deprecated. Please call frombytes() instead.\n",
        "  img = Image.fromstring(mode, (arr.shape[1], arr.shape[0]), arr.tostring())\n",
        "/usr/local/lib/python2.7/dist-packages/skimage/io/_plugins/pil_plugin.py:112: DeprecationWarning: fromstring() is deprecated. Please call frombytes() instead.\n",
        "  img = Image.fromstring(mode, (arr.shape[1], arr.shape[0]), arr.tostring())\n"
       ]
      },
      {
       "output_type": "stream",
       "stream": "stderr",
       "text": [
        "/usr/local/lib/python2.7/dist-packages/skimage/io/_plugins/pil_plugin.py:112: DeprecationWarning: fromstring() is deprecated. Please call frombytes() instead.\n",
        "  img = Image.fromstring(mode, (arr.shape[1], arr.shape[0]), arr.tostring())\n",
        "/usr/local/lib/python2.7/dist-packages/skimage/io/_plugins/pil_plugin.py:112: DeprecationWarning: fromstring() is deprecated. Please call frombytes() instead.\n",
        "  img = Image.fromstring(mode, (arr.shape[1], arr.shape[0]), arr.tostring())\n"
       ]
      },
      {
       "output_type": "stream",
       "stream": "stderr",
       "text": [
        "/usr/local/lib/python2.7/dist-packages/skimage/io/_plugins/pil_plugin.py:112: DeprecationWarning: fromstring() is deprecated. Please call frombytes() instead.\n",
        "  img = Image.fromstring(mode, (arr.shape[1], arr.shape[0]), arr.tostring())\n",
        "/usr/local/lib/python2.7/dist-packages/skimage/io/_plugins/pil_plugin.py:112: DeprecationWarning: fromstring() is deprecated. Please call frombytes() instead.\n",
        "  img = Image.fromstring(mode, (arr.shape[1], arr.shape[0]), arr.tostring())\n"
       ]
      },
      {
       "output_type": "stream",
       "stream": "stderr",
       "text": [
        "/usr/local/lib/python2.7/dist-packages/skimage/io/_plugins/pil_plugin.py:112: DeprecationWarning: fromstring() is deprecated. Please call frombytes() instead.\n",
        "  img = Image.fromstring(mode, (arr.shape[1], arr.shape[0]), arr.tostring())\n",
        "/usr/local/lib/python2.7/dist-packages/skimage/io/_plugins/pil_plugin.py:112: DeprecationWarning: fromstring() is deprecated. Please call frombytes() instead.\n",
        "  img = Image.fromstring(mode, (arr.shape[1], arr.shape[0]), arr.tostring())\n"
       ]
      },
      {
       "output_type": "stream",
       "stream": "stderr",
       "text": [
        "/usr/local/lib/python2.7/dist-packages/skimage/io/_plugins/pil_plugin.py:112: DeprecationWarning: fromstring() is deprecated. Please call frombytes() instead.\n",
        "  img = Image.fromstring(mode, (arr.shape[1], arr.shape[0]), arr.tostring())\n",
        "/usr/local/lib/python2.7/dist-packages/skimage/io/_plugins/pil_plugin.py:112: DeprecationWarning: fromstring() is deprecated. Please call frombytes() instead.\n",
        "  img = Image.fromstring(mode, (arr.shape[1], arr.shape[0]), arr.tostring())\n"
       ]
      },
      {
       "output_type": "stream",
       "stream": "stderr",
       "text": [
        "/usr/local/lib/python2.7/dist-packages/skimage/io/_plugins/pil_plugin.py:112: DeprecationWarning: fromstring() is deprecated. Please call frombytes() instead.\n",
        "  img = Image.fromstring(mode, (arr.shape[1], arr.shape[0]), arr.tostring())\n",
        "/usr/local/lib/python2.7/dist-packages/skimage/io/_plugins/pil_plugin.py:112: DeprecationWarning: fromstring() is deprecated. Please call frombytes() instead.\n",
        "  img = Image.fromstring(mode, (arr.shape[1], arr.shape[0]), arr.tostring())\n"
       ]
      },
      {
       "output_type": "stream",
       "stream": "stderr",
       "text": [
        "/usr/local/lib/python2.7/dist-packages/skimage/io/_plugins/pil_plugin.py:112: DeprecationWarning: fromstring() is deprecated. Please call frombytes() instead.\n",
        "  img = Image.fromstring(mode, (arr.shape[1], arr.shape[0]), arr.tostring())\n",
        "/usr/local/lib/python2.7/dist-packages/skimage/io/_plugins/pil_plugin.py:112: DeprecationWarning: fromstring() is deprecated. Please call frombytes() instead.\n",
        "  img = Image.fromstring(mode, (arr.shape[1], arr.shape[0]), arr.tostring())\n"
       ]
      },
      {
       "output_type": "stream",
       "stream": "stderr",
       "text": [
        "/usr/local/lib/python2.7/dist-packages/skimage/io/_plugins/pil_plugin.py:112: DeprecationWarning: fromstring() is deprecated. Please call frombytes() instead.\n",
        "  img = Image.fromstring(mode, (arr.shape[1], arr.shape[0]), arr.tostring())\n",
        "/usr/local/lib/python2.7/dist-packages/skimage/io/_plugins/pil_plugin.py:112: DeprecationWarning: fromstring() is deprecated. Please call frombytes() instead.\n",
        "  img = Image.fromstring(mode, (arr.shape[1], arr.shape[0]), arr.tostring())\n"
       ]
      },
      {
       "output_type": "stream",
       "stream": "stderr",
       "text": [
        "/usr/local/lib/python2.7/dist-packages/skimage/io/_plugins/pil_plugin.py:112: DeprecationWarning: fromstring() is deprecated. Please call frombytes() instead.\n",
        "  img = Image.fromstring(mode, (arr.shape[1], arr.shape[0]), arr.tostring())\n",
        "/usr/local/lib/python2.7/dist-packages/skimage/io/_plugins/pil_plugin.py:112: DeprecationWarning: fromstring() is deprecated. Please call frombytes() instead.\n",
        "  img = Image.fromstring(mode, (arr.shape[1], arr.shape[0]), arr.tostring())\n"
       ]
      },
      {
       "output_type": "stream",
       "stream": "stderr",
       "text": [
        "/usr/local/lib/python2.7/dist-packages/skimage/io/_plugins/pil_plugin.py:112: DeprecationWarning: fromstring() is deprecated. Please call frombytes() instead.\n",
        "  img = Image.fromstring(mode, (arr.shape[1], arr.shape[0]), arr.tostring())\n",
        "/usr/local/lib/python2.7/dist-packages/skimage/io/_plugins/pil_plugin.py:112: DeprecationWarning: fromstring() is deprecated. Please call frombytes() instead.\n",
        "  img = Image.fromstring(mode, (arr.shape[1], arr.shape[0]), arr.tostring())\n"
       ]
      },
      {
       "output_type": "stream",
       "stream": "stderr",
       "text": [
        "/usr/local/lib/python2.7/dist-packages/skimage/io/_plugins/pil_plugin.py:112: DeprecationWarning: fromstring() is deprecated. Please call frombytes() instead.\n",
        "  img = Image.fromstring(mode, (arr.shape[1], arr.shape[0]), arr.tostring())\n",
        "/usr/local/lib/python2.7/dist-packages/skimage/io/_plugins/pil_plugin.py:112: DeprecationWarning: fromstring() is deprecated. Please call frombytes() instead.\n",
        "  img = Image.fromstring(mode, (arr.shape[1], arr.shape[0]), arr.tostring())\n"
       ]
      },
      {
       "output_type": "stream",
       "stream": "stderr",
       "text": [
        "/usr/local/lib/python2.7/dist-packages/skimage/io/_plugins/pil_plugin.py:112: DeprecationWarning: fromstring() is deprecated. Please call frombytes() instead.\n",
        "  img = Image.fromstring(mode, (arr.shape[1], arr.shape[0]), arr.tostring())\n",
        "/usr/local/lib/python2.7/dist-packages/skimage/io/_plugins/pil_plugin.py:112: DeprecationWarning: fromstring() is deprecated. Please call frombytes() instead.\n",
        "  img = Image.fromstring(mode, (arr.shape[1], arr.shape[0]), arr.tostring())\n"
       ]
      },
      {
       "output_type": "stream",
       "stream": "stderr",
       "text": [
        "/usr/local/lib/python2.7/dist-packages/skimage/io/_plugins/pil_plugin.py:112: DeprecationWarning: fromstring() is deprecated. Please call frombytes() instead.\n",
        "  img = Image.fromstring(mode, (arr.shape[1], arr.shape[0]), arr.tostring())\n",
        "/usr/local/lib/python2.7/dist-packages/skimage/io/_plugins/pil_plugin.py:112: DeprecationWarning: fromstring() is deprecated. Please call frombytes() instead.\n",
        "  img = Image.fromstring(mode, (arr.shape[1], arr.shape[0]), arr.tostring())\n"
       ]
      },
      {
       "output_type": "stream",
       "stream": "stderr",
       "text": [
        "/usr/local/lib/python2.7/dist-packages/skimage/io/_plugins/pil_plugin.py:112: DeprecationWarning: fromstring() is deprecated. Please call frombytes() instead.\n",
        "  img = Image.fromstring(mode, (arr.shape[1], arr.shape[0]), arr.tostring())\n",
        "/usr/local/lib/python2.7/dist-packages/skimage/io/_plugins/pil_plugin.py:112: DeprecationWarning: fromstring() is deprecated. Please call frombytes() instead.\n",
        "  img = Image.fromstring(mode, (arr.shape[1], arr.shape[0]), arr.tostring())\n"
       ]
      },
      {
       "output_type": "stream",
       "stream": "stderr",
       "text": [
        "/usr/local/lib/python2.7/dist-packages/skimage/io/_plugins/pil_plugin.py:112: DeprecationWarning: fromstring() is deprecated. Please call frombytes() instead.\n",
        "  img = Image.fromstring(mode, (arr.shape[1], arr.shape[0]), arr.tostring())\n",
        "/usr/local/lib/python2.7/dist-packages/skimage/io/_plugins/pil_plugin.py:112: DeprecationWarning: fromstring() is deprecated. Please call frombytes() instead.\n",
        "  img = Image.fromstring(mode, (arr.shape[1], arr.shape[0]), arr.tostring())\n"
       ]
      },
      {
       "output_type": "stream",
       "stream": "stderr",
       "text": [
        "/usr/local/lib/python2.7/dist-packages/skimage/io/_plugins/pil_plugin.py:112: DeprecationWarning: fromstring() is deprecated. Please call frombytes() instead.\n",
        "  img = Image.fromstring(mode, (arr.shape[1], arr.shape[0]), arr.tostring())\n",
        "/usr/local/lib/python2.7/dist-packages/skimage/io/_plugins/pil_plugin.py:112: DeprecationWarning: fromstring() is deprecated. Please call frombytes() instead.\n",
        "  img = Image.fromstring(mode, (arr.shape[1], arr.shape[0]), arr.tostring())\n"
       ]
      },
      {
       "output_type": "stream",
       "stream": "stderr",
       "text": [
        "/usr/local/lib/python2.7/dist-packages/skimage/io/_plugins/pil_plugin.py:112: DeprecationWarning: fromstring() is deprecated. Please call frombytes() instead.\n",
        "  img = Image.fromstring(mode, (arr.shape[1], arr.shape[0]), arr.tostring())\n",
        "/usr/local/lib/python2.7/dist-packages/skimage/io/_plugins/pil_plugin.py:112: DeprecationWarning: fromstring() is deprecated. Please call frombytes() instead.\n",
        "  img = Image.fromstring(mode, (arr.shape[1], arr.shape[0]), arr.tostring())\n"
       ]
      },
      {
       "output_type": "stream",
       "stream": "stderr",
       "text": [
        "/usr/local/lib/python2.7/dist-packages/skimage/io/_plugins/pil_plugin.py:112: DeprecationWarning: fromstring() is deprecated. Please call frombytes() instead.\n",
        "  img = Image.fromstring(mode, (arr.shape[1], arr.shape[0]), arr.tostring())\n",
        "/usr/local/lib/python2.7/dist-packages/skimage/io/_plugins/pil_plugin.py:112: DeprecationWarning: fromstring() is deprecated. Please call frombytes() instead.\n",
        "  img = Image.fromstring(mode, (arr.shape[1], arr.shape[0]), arr.tostring())\n"
       ]
      },
      {
       "output_type": "stream",
       "stream": "stderr",
       "text": [
        "/usr/local/lib/python2.7/dist-packages/skimage/io/_plugins/pil_plugin.py:112: DeprecationWarning: fromstring() is deprecated. Please call frombytes() instead.\n",
        "  img = Image.fromstring(mode, (arr.shape[1], arr.shape[0]), arr.tostring())\n",
        "/usr/local/lib/python2.7/dist-packages/skimage/io/_plugins/pil_plugin.py:112: DeprecationWarning: fromstring() is deprecated. Please call frombytes() instead.\n",
        "  img = Image.fromstring(mode, (arr.shape[1], arr.shape[0]), arr.tostring())\n"
       ]
      },
      {
       "output_type": "stream",
       "stream": "stderr",
       "text": [
        "/usr/local/lib/python2.7/dist-packages/skimage/io/_plugins/pil_plugin.py:112: DeprecationWarning: fromstring() is deprecated. Please call frombytes() instead.\n",
        "  img = Image.fromstring(mode, (arr.shape[1], arr.shape[0]), arr.tostring())\n",
        "/usr/local/lib/python2.7/dist-packages/skimage/io/_plugins/pil_plugin.py:112: DeprecationWarning: fromstring() is deprecated. Please call frombytes() instead.\n",
        "  img = Image.fromstring(mode, (arr.shape[1], arr.shape[0]), arr.tostring())\n"
       ]
      },
      {
       "output_type": "stream",
       "stream": "stderr",
       "text": [
        "/usr/local/lib/python2.7/dist-packages/skimage/io/_plugins/pil_plugin.py:112: DeprecationWarning: fromstring() is deprecated. Please call frombytes() instead.\n",
        "  img = Image.fromstring(mode, (arr.shape[1], arr.shape[0]), arr.tostring())\n",
        "/usr/local/lib/python2.7/dist-packages/skimage/io/_plugins/pil_plugin.py:112: DeprecationWarning: fromstring() is deprecated. Please call frombytes() instead.\n",
        "  img = Image.fromstring(mode, (arr.shape[1], arr.shape[0]), arr.tostring())\n"
       ]
      },
      {
       "output_type": "stream",
       "stream": "stderr",
       "text": [
        "/usr/local/lib/python2.7/dist-packages/skimage/io/_plugins/pil_plugin.py:112: DeprecationWarning: fromstring() is deprecated. Please call frombytes() instead.\n",
        "  img = Image.fromstring(mode, (arr.shape[1], arr.shape[0]), arr.tostring())\n",
        "/usr/local/lib/python2.7/dist-packages/skimage/io/_plugins/pil_plugin.py:112: DeprecationWarning: fromstring() is deprecated. Please call frombytes() instead.\n",
        "  img = Image.fromstring(mode, (arr.shape[1], arr.shape[0]), arr.tostring())\n"
       ]
      },
      {
       "output_type": "stream",
       "stream": "stderr",
       "text": [
        "/usr/local/lib/python2.7/dist-packages/skimage/io/_plugins/pil_plugin.py:112: DeprecationWarning: fromstring() is deprecated. Please call frombytes() instead.\n",
        "  img = Image.fromstring(mode, (arr.shape[1], arr.shape[0]), arr.tostring())\n",
        "/usr/local/lib/python2.7/dist-packages/skimage/io/_plugins/pil_plugin.py:112: DeprecationWarning: fromstring() is deprecated. Please call frombytes() instead.\n",
        "  img = Image.fromstring(mode, (arr.shape[1], arr.shape[0]), arr.tostring())\n"
       ]
      },
      {
       "output_type": "stream",
       "stream": "stderr",
       "text": [
        "/usr/local/lib/python2.7/dist-packages/skimage/io/_plugins/pil_plugin.py:112: DeprecationWarning: fromstring() is deprecated. Please call frombytes() instead.\n",
        "  img = Image.fromstring(mode, (arr.shape[1], arr.shape[0]), arr.tostring())\n",
        "/usr/local/lib/python2.7/dist-packages/skimage/io/_plugins/pil_plugin.py:112: DeprecationWarning: fromstring() is deprecated. Please call frombytes() instead.\n",
        "  img = Image.fromstring(mode, (arr.shape[1], arr.shape[0]), arr.tostring())\n"
       ]
      },
      {
       "output_type": "stream",
       "stream": "stderr",
       "text": [
        "/usr/local/lib/python2.7/dist-packages/skimage/io/_plugins/pil_plugin.py:112: DeprecationWarning: fromstring() is deprecated. Please call frombytes() instead.\n",
        "  img = Image.fromstring(mode, (arr.shape[1], arr.shape[0]), arr.tostring())\n",
        "/usr/local/lib/python2.7/dist-packages/skimage/io/_plugins/pil_plugin.py:112: DeprecationWarning: fromstring() is deprecated. Please call frombytes() instead.\n",
        "  img = Image.fromstring(mode, (arr.shape[1], arr.shape[0]), arr.tostring())\n"
       ]
      },
      {
       "output_type": "stream",
       "stream": "stderr",
       "text": [
        "/usr/local/lib/python2.7/dist-packages/skimage/io/_plugins/pil_plugin.py:112: DeprecationWarning: fromstring() is deprecated. Please call frombytes() instead.\n",
        "  img = Image.fromstring(mode, (arr.shape[1], arr.shape[0]), arr.tostring())\n",
        "/usr/local/lib/python2.7/dist-packages/skimage/io/_plugins/pil_plugin.py:112: DeprecationWarning: fromstring() is deprecated. Please call frombytes() instead.\n",
        "  img = Image.fromstring(mode, (arr.shape[1], arr.shape[0]), arr.tostring())\n"
       ]
      },
      {
       "output_type": "stream",
       "stream": "stderr",
       "text": [
        "/usr/local/lib/python2.7/dist-packages/skimage/io/_plugins/pil_plugin.py:112: DeprecationWarning: fromstring() is deprecated. Please call frombytes() instead.\n",
        "  img = Image.fromstring(mode, (arr.shape[1], arr.shape[0]), arr.tostring())\n",
        "/usr/local/lib/python2.7/dist-packages/skimage/io/_plugins/pil_plugin.py:112: DeprecationWarning: fromstring() is deprecated. Please call frombytes() instead.\n",
        "  img = Image.fromstring(mode, (arr.shape[1], arr.shape[0]), arr.tostring())\n"
       ]
      },
      {
       "output_type": "stream",
       "stream": "stderr",
       "text": [
        "/usr/local/lib/python2.7/dist-packages/skimage/io/_plugins/pil_plugin.py:112: DeprecationWarning: fromstring() is deprecated. Please call frombytes() instead.\n",
        "  img = Image.fromstring(mode, (arr.shape[1], arr.shape[0]), arr.tostring())\n",
        "/usr/local/lib/python2.7/dist-packages/skimage/io/_plugins/pil_plugin.py:112: DeprecationWarning: fromstring() is deprecated. Please call frombytes() instead.\n",
        "  img = Image.fromstring(mode, (arr.shape[1], arr.shape[0]), arr.tostring())\n"
       ]
      },
      {
       "output_type": "stream",
       "stream": "stderr",
       "text": [
        "/usr/local/lib/python2.7/dist-packages/skimage/io/_plugins/pil_plugin.py:112: DeprecationWarning: fromstring() is deprecated. Please call frombytes() instead.\n",
        "  img = Image.fromstring(mode, (arr.shape[1], arr.shape[0]), arr.tostring())\n",
        "/usr/local/lib/python2.7/dist-packages/skimage/io/_plugins/pil_plugin.py:112: DeprecationWarning: fromstring() is deprecated. Please call frombytes() instead.\n",
        "  img = Image.fromstring(mode, (arr.shape[1], arr.shape[0]), arr.tostring())\n"
       ]
      },
      {
       "output_type": "stream",
       "stream": "stderr",
       "text": [
        "/usr/local/lib/python2.7/dist-packages/skimage/io/_plugins/pil_plugin.py:112: DeprecationWarning: fromstring() is deprecated. Please call frombytes() instead.\n",
        "  img = Image.fromstring(mode, (arr.shape[1], arr.shape[0]), arr.tostring())\n",
        "/usr/local/lib/python2.7/dist-packages/skimage/io/_plugins/pil_plugin.py:112: DeprecationWarning: fromstring() is deprecated. Please call frombytes() instead.\n",
        "  img = Image.fromstring(mode, (arr.shape[1], arr.shape[0]), arr.tostring())\n"
       ]
      },
      {
       "output_type": "stream",
       "stream": "stderr",
       "text": [
        "/usr/local/lib/python2.7/dist-packages/skimage/io/_plugins/pil_plugin.py:112: DeprecationWarning: fromstring() is deprecated. Please call frombytes() instead.\n",
        "  img = Image.fromstring(mode, (arr.shape[1], arr.shape[0]), arr.tostring())\n",
        "/usr/local/lib/python2.7/dist-packages/skimage/io/_plugins/pil_plugin.py:112: DeprecationWarning: fromstring() is deprecated. Please call frombytes() instead.\n",
        "  img = Image.fromstring(mode, (arr.shape[1], arr.shape[0]), arr.tostring())\n"
       ]
      },
      {
       "output_type": "stream",
       "stream": "stderr",
       "text": [
        "/usr/local/lib/python2.7/dist-packages/skimage/io/_plugins/pil_plugin.py:112: DeprecationWarning: fromstring() is deprecated. Please call frombytes() instead.\n",
        "  img = Image.fromstring(mode, (arr.shape[1], arr.shape[0]), arr.tostring())\n",
        "/usr/local/lib/python2.7/dist-packages/skimage/io/_plugins/pil_plugin.py:112: DeprecationWarning: fromstring() is deprecated. Please call frombytes() instead.\n",
        "  img = Image.fromstring(mode, (arr.shape[1], arr.shape[0]), arr.tostring())\n"
       ]
      },
      {
       "output_type": "stream",
       "stream": "stderr",
       "text": [
        "/usr/local/lib/python2.7/dist-packages/skimage/io/_plugins/pil_plugin.py:112: DeprecationWarning: fromstring() is deprecated. Please call frombytes() instead.\n",
        "  img = Image.fromstring(mode, (arr.shape[1], arr.shape[0]), arr.tostring())\n",
        "/usr/local/lib/python2.7/dist-packages/skimage/io/_plugins/pil_plugin.py:112: DeprecationWarning: fromstring() is deprecated. Please call frombytes() instead.\n",
        "  img = Image.fromstring(mode, (arr.shape[1], arr.shape[0]), arr.tostring())\n"
       ]
      },
      {
       "output_type": "stream",
       "stream": "stderr",
       "text": [
        "/usr/local/lib/python2.7/dist-packages/skimage/io/_plugins/pil_plugin.py:112: DeprecationWarning: fromstring() is deprecated. Please call frombytes() instead.\n",
        "  img = Image.fromstring(mode, (arr.shape[1], arr.shape[0]), arr.tostring())\n",
        "/usr/local/lib/python2.7/dist-packages/skimage/io/_plugins/pil_plugin.py:112: DeprecationWarning: fromstring() is deprecated. Please call frombytes() instead.\n",
        "  img = Image.fromstring(mode, (arr.shape[1], arr.shape[0]), arr.tostring())\n"
       ]
      },
      {
       "output_type": "stream",
       "stream": "stderr",
       "text": [
        "/usr/local/lib/python2.7/dist-packages/skimage/io/_plugins/pil_plugin.py:112: DeprecationWarning: fromstring() is deprecated. Please call frombytes() instead.\n",
        "  img = Image.fromstring(mode, (arr.shape[1], arr.shape[0]), arr.tostring())\n",
        "/usr/local/lib/python2.7/dist-packages/skimage/io/_plugins/pil_plugin.py:112: DeprecationWarning: fromstring() is deprecated. Please call frombytes() instead.\n",
        "  img = Image.fromstring(mode, (arr.shape[1], arr.shape[0]), arr.tostring())\n"
       ]
      },
      {
       "output_type": "stream",
       "stream": "stderr",
       "text": [
        "/usr/local/lib/python2.7/dist-packages/skimage/io/_plugins/pil_plugin.py:112: DeprecationWarning: fromstring() is deprecated. Please call frombytes() instead.\n",
        "  img = Image.fromstring(mode, (arr.shape[1], arr.shape[0]), arr.tostring())\n",
        "/usr/local/lib/python2.7/dist-packages/skimage/io/_plugins/pil_plugin.py:112: DeprecationWarning: fromstring() is deprecated. Please call frombytes() instead.\n",
        "  img = Image.fromstring(mode, (arr.shape[1], arr.shape[0]), arr.tostring())\n"
       ]
      },
      {
       "output_type": "stream",
       "stream": "stderr",
       "text": [
        "/usr/local/lib/python2.7/dist-packages/skimage/io/_plugins/pil_plugin.py:112: DeprecationWarning: fromstring() is deprecated. Please call frombytes() instead.\n",
        "  img = Image.fromstring(mode, (arr.shape[1], arr.shape[0]), arr.tostring())\n",
        "/usr/local/lib/python2.7/dist-packages/skimage/io/_plugins/pil_plugin.py:112: DeprecationWarning: fromstring() is deprecated. Please call frombytes() instead.\n",
        "  img = Image.fromstring(mode, (arr.shape[1], arr.shape[0]), arr.tostring())\n"
       ]
      },
      {
       "output_type": "stream",
       "stream": "stderr",
       "text": [
        "/usr/local/lib/python2.7/dist-packages/skimage/io/_plugins/pil_plugin.py:112: DeprecationWarning: fromstring() is deprecated. Please call frombytes() instead.\n",
        "  img = Image.fromstring(mode, (arr.shape[1], arr.shape[0]), arr.tostring())\n",
        "/usr/local/lib/python2.7/dist-packages/skimage/io/_plugins/pil_plugin.py:112: DeprecationWarning: fromstring() is deprecated. Please call frombytes() instead.\n",
        "  img = Image.fromstring(mode, (arr.shape[1], arr.shape[0]), arr.tostring())\n"
       ]
      },
      {
       "output_type": "stream",
       "stream": "stderr",
       "text": [
        "/usr/local/lib/python2.7/dist-packages/skimage/io/_plugins/pil_plugin.py:112: DeprecationWarning: fromstring() is deprecated. Please call frombytes() instead.\n",
        "  img = Image.fromstring(mode, (arr.shape[1], arr.shape[0]), arr.tostring())\n",
        "/usr/local/lib/python2.7/dist-packages/skimage/io/_plugins/pil_plugin.py:112: DeprecationWarning: fromstring() is deprecated. Please call frombytes() instead.\n",
        "  img = Image.fromstring(mode, (arr.shape[1], arr.shape[0]), arr.tostring())\n"
       ]
      },
      {
       "output_type": "stream",
       "stream": "stderr",
       "text": [
        "/usr/local/lib/python2.7/dist-packages/skimage/io/_plugins/pil_plugin.py:112: DeprecationWarning: fromstring() is deprecated. Please call frombytes() instead.\n",
        "  img = Image.fromstring(mode, (arr.shape[1], arr.shape[0]), arr.tostring())\n",
        "/usr/local/lib/python2.7/dist-packages/skimage/io/_plugins/pil_plugin.py:112: DeprecationWarning: fromstring() is deprecated. Please call frombytes() instead.\n",
        "  img = Image.fromstring(mode, (arr.shape[1], arr.shape[0]), arr.tostring())\n"
       ]
      },
      {
       "output_type": "stream",
       "stream": "stderr",
       "text": [
        "/usr/local/lib/python2.7/dist-packages/skimage/io/_plugins/pil_plugin.py:112: DeprecationWarning: fromstring() is deprecated. Please call frombytes() instead.\n",
        "  img = Image.fromstring(mode, (arr.shape[1], arr.shape[0]), arr.tostring())\n",
        "/usr/local/lib/python2.7/dist-packages/skimage/io/_plugins/pil_plugin.py:112: DeprecationWarning: fromstring() is deprecated. Please call frombytes() instead.\n",
        "  img = Image.fromstring(mode, (arr.shape[1], arr.shape[0]), arr.tostring())\n"
       ]
      },
      {
       "output_type": "stream",
       "stream": "stderr",
       "text": [
        "/usr/local/lib/python2.7/dist-packages/skimage/io/_plugins/pil_plugin.py:112: DeprecationWarning: fromstring() is deprecated. Please call frombytes() instead.\n",
        "  img = Image.fromstring(mode, (arr.shape[1], arr.shape[0]), arr.tostring())\n",
        "/usr/local/lib/python2.7/dist-packages/skimage/io/_plugins/pil_plugin.py:112: DeprecationWarning: fromstring() is deprecated. Please call frombytes() instead.\n",
        "  img = Image.fromstring(mode, (arr.shape[1], arr.shape[0]), arr.tostring())\n"
       ]
      },
      {
       "output_type": "stream",
       "stream": "stderr",
       "text": [
        "/usr/local/lib/python2.7/dist-packages/skimage/io/_plugins/pil_plugin.py:112: DeprecationWarning: fromstring() is deprecated. Please call frombytes() instead.\n",
        "  img = Image.fromstring(mode, (arr.shape[1], arr.shape[0]), arr.tostring())\n",
        "/usr/local/lib/python2.7/dist-packages/skimage/io/_plugins/pil_plugin.py:112: DeprecationWarning: fromstring() is deprecated. Please call frombytes() instead.\n",
        "  img = Image.fromstring(mode, (arr.shape[1], arr.shape[0]), arr.tostring())\n"
       ]
      },
      {
       "output_type": "stream",
       "stream": "stderr",
       "text": [
        "/usr/local/lib/python2.7/dist-packages/skimage/io/_plugins/pil_plugin.py:112: DeprecationWarning: fromstring() is deprecated. Please call frombytes() instead.\n",
        "  img = Image.fromstring(mode, (arr.shape[1], arr.shape[0]), arr.tostring())\n",
        "/usr/local/lib/python2.7/dist-packages/skimage/io/_plugins/pil_plugin.py:112: DeprecationWarning: fromstring() is deprecated. Please call frombytes() instead.\n",
        "  img = Image.fromstring(mode, (arr.shape[1], arr.shape[0]), arr.tostring())\n"
       ]
      },
      {
       "output_type": "stream",
       "stream": "stderr",
       "text": [
        "/usr/local/lib/python2.7/dist-packages/skimage/io/_plugins/pil_plugin.py:112: DeprecationWarning: fromstring() is deprecated. Please call frombytes() instead.\n",
        "  img = Image.fromstring(mode, (arr.shape[1], arr.shape[0]), arr.tostring())\n",
        "/usr/local/lib/python2.7/dist-packages/skimage/io/_plugins/pil_plugin.py:112: DeprecationWarning: fromstring() is deprecated. Please call frombytes() instead.\n",
        "  img = Image.fromstring(mode, (arr.shape[1], arr.shape[0]), arr.tostring())\n"
       ]
      },
      {
       "output_type": "stream",
       "stream": "stderr",
       "text": [
        "/usr/local/lib/python2.7/dist-packages/skimage/io/_plugins/pil_plugin.py:112: DeprecationWarning: fromstring() is deprecated. Please call frombytes() instead.\n",
        "  img = Image.fromstring(mode, (arr.shape[1], arr.shape[0]), arr.tostring())\n",
        "/usr/local/lib/python2.7/dist-packages/skimage/io/_plugins/pil_plugin.py:112: DeprecationWarning: fromstring() is deprecated. Please call frombytes() instead.\n",
        "  img = Image.fromstring(mode, (arr.shape[1], arr.shape[0]), arr.tostring())\n"
       ]
      },
      {
       "output_type": "stream",
       "stream": "stderr",
       "text": [
        "/usr/local/lib/python2.7/dist-packages/skimage/io/_plugins/pil_plugin.py:112: DeprecationWarning: fromstring() is deprecated. Please call frombytes() instead.\n",
        "  img = Image.fromstring(mode, (arr.shape[1], arr.shape[0]), arr.tostring())\n",
        "/usr/local/lib/python2.7/dist-packages/skimage/io/_plugins/pil_plugin.py:112: DeprecationWarning: fromstring() is deprecated. Please call frombytes() instead.\n",
        "  img = Image.fromstring(mode, (arr.shape[1], arr.shape[0]), arr.tostring())\n"
       ]
      },
      {
       "output_type": "stream",
       "stream": "stderr",
       "text": [
        "/usr/local/lib/python2.7/dist-packages/skimage/io/_plugins/pil_plugin.py:112: DeprecationWarning: fromstring() is deprecated. Please call frombytes() instead.\n",
        "  img = Image.fromstring(mode, (arr.shape[1], arr.shape[0]), arr.tostring())\n",
        "/usr/local/lib/python2.7/dist-packages/skimage/io/_plugins/pil_plugin.py:112: DeprecationWarning: fromstring() is deprecated. Please call frombytes() instead.\n",
        "  img = Image.fromstring(mode, (arr.shape[1], arr.shape[0]), arr.tostring())\n"
       ]
      },
      {
       "output_type": "stream",
       "stream": "stderr",
       "text": [
        "/usr/local/lib/python2.7/dist-packages/skimage/io/_plugins/pil_plugin.py:112: DeprecationWarning: fromstring() is deprecated. Please call frombytes() instead.\n",
        "  img = Image.fromstring(mode, (arr.shape[1], arr.shape[0]), arr.tostring())\n",
        "/usr/local/lib/python2.7/dist-packages/skimage/io/_plugins/pil_plugin.py:112: DeprecationWarning: fromstring() is deprecated. Please call frombytes() instead.\n",
        "  img = Image.fromstring(mode, (arr.shape[1], arr.shape[0]), arr.tostring())\n"
       ]
      },
      {
       "output_type": "stream",
       "stream": "stderr",
       "text": [
        "/usr/local/lib/python2.7/dist-packages/skimage/io/_plugins/pil_plugin.py:112: DeprecationWarning: fromstring() is deprecated. Please call frombytes() instead.\n",
        "  img = Image.fromstring(mode, (arr.shape[1], arr.shape[0]), arr.tostring())\n",
        "/usr/local/lib/python2.7/dist-packages/skimage/io/_plugins/pil_plugin.py:112: DeprecationWarning: fromstring() is deprecated. Please call frombytes() instead.\n",
        "  img = Image.fromstring(mode, (arr.shape[1], arr.shape[0]), arr.tostring())\n"
       ]
      },
      {
       "output_type": "stream",
       "stream": "stderr",
       "text": [
        "/usr/local/lib/python2.7/dist-packages/skimage/io/_plugins/pil_plugin.py:112: DeprecationWarning: fromstring() is deprecated. Please call frombytes() instead.\n",
        "  img = Image.fromstring(mode, (arr.shape[1], arr.shape[0]), arr.tostring())\n",
        "/usr/local/lib/python2.7/dist-packages/skimage/io/_plugins/pil_plugin.py:112: DeprecationWarning: fromstring() is deprecated. Please call frombytes() instead.\n",
        "  img = Image.fromstring(mode, (arr.shape[1], arr.shape[0]), arr.tostring())\n"
       ]
      },
      {
       "output_type": "stream",
       "stream": "stderr",
       "text": [
        "/usr/local/lib/python2.7/dist-packages/skimage/io/_plugins/pil_plugin.py:112: DeprecationWarning: fromstring() is deprecated. Please call frombytes() instead.\n",
        "  img = Image.fromstring(mode, (arr.shape[1], arr.shape[0]), arr.tostring())\n",
        "/usr/local/lib/python2.7/dist-packages/skimage/io/_plugins/pil_plugin.py:112: DeprecationWarning: fromstring() is deprecated. Please call frombytes() instead.\n",
        "  img = Image.fromstring(mode, (arr.shape[1], arr.shape[0]), arr.tostring())\n"
       ]
      },
      {
       "output_type": "stream",
       "stream": "stderr",
       "text": [
        "/usr/local/lib/python2.7/dist-packages/skimage/io/_plugins/pil_plugin.py:112: DeprecationWarning: fromstring() is deprecated. Please call frombytes() instead.\n",
        "  img = Image.fromstring(mode, (arr.shape[1], arr.shape[0]), arr.tostring())\n",
        "/usr/local/lib/python2.7/dist-packages/skimage/io/_plugins/pil_plugin.py:112: DeprecationWarning: fromstring() is deprecated. Please call frombytes() instead.\n",
        "  img = Image.fromstring(mode, (arr.shape[1], arr.shape[0]), arr.tostring())\n"
       ]
      },
      {
       "output_type": "stream",
       "stream": "stderr",
       "text": [
        "/usr/local/lib/python2.7/dist-packages/skimage/io/_plugins/pil_plugin.py:112: DeprecationWarning: fromstring() is deprecated. Please call frombytes() instead.\n",
        "  img = Image.fromstring(mode, (arr.shape[1], arr.shape[0]), arr.tostring())\n",
        "/usr/local/lib/python2.7/dist-packages/skimage/io/_plugins/pil_plugin.py:112: DeprecationWarning: fromstring() is deprecated. Please call frombytes() instead.\n",
        "  img = Image.fromstring(mode, (arr.shape[1], arr.shape[0]), arr.tostring())\n"
       ]
      },
      {
       "output_type": "stream",
       "stream": "stderr",
       "text": [
        "/usr/local/lib/python2.7/dist-packages/skimage/io/_plugins/pil_plugin.py:112: DeprecationWarning: fromstring() is deprecated. Please call frombytes() instead.\n",
        "  img = Image.fromstring(mode, (arr.shape[1], arr.shape[0]), arr.tostring())\n",
        "/usr/local/lib/python2.7/dist-packages/skimage/io/_plugins/pil_plugin.py:112: DeprecationWarning: fromstring() is deprecated. Please call frombytes() instead.\n",
        "  img = Image.fromstring(mode, (arr.shape[1], arr.shape[0]), arr.tostring())\n"
       ]
      },
      {
       "output_type": "stream",
       "stream": "stderr",
       "text": [
        "/usr/local/lib/python2.7/dist-packages/skimage/io/_plugins/pil_plugin.py:112: DeprecationWarning: fromstring() is deprecated. Please call frombytes() instead.\n",
        "  img = Image.fromstring(mode, (arr.shape[1], arr.shape[0]), arr.tostring())\n",
        "/usr/local/lib/python2.7/dist-packages/skimage/io/_plugins/pil_plugin.py:112: DeprecationWarning: fromstring() is deprecated. Please call frombytes() instead.\n",
        "  img = Image.fromstring(mode, (arr.shape[1], arr.shape[0]), arr.tostring())\n"
       ]
      },
      {
       "output_type": "stream",
       "stream": "stderr",
       "text": [
        "/usr/local/lib/python2.7/dist-packages/skimage/io/_plugins/pil_plugin.py:112: DeprecationWarning: fromstring() is deprecated. Please call frombytes() instead.\n",
        "  img = Image.fromstring(mode, (arr.shape[1], arr.shape[0]), arr.tostring())\n",
        "/usr/local/lib/python2.7/dist-packages/skimage/io/_plugins/pil_plugin.py:112: DeprecationWarning: fromstring() is deprecated. Please call frombytes() instead.\n",
        "  img = Image.fromstring(mode, (arr.shape[1], arr.shape[0]), arr.tostring())\n"
       ]
      },
      {
       "output_type": "stream",
       "stream": "stderr",
       "text": [
        "/usr/local/lib/python2.7/dist-packages/skimage/io/_plugins/pil_plugin.py:112: DeprecationWarning: fromstring() is deprecated. Please call frombytes() instead.\n",
        "  img = Image.fromstring(mode, (arr.shape[1], arr.shape[0]), arr.tostring())\n",
        "/usr/local/lib/python2.7/dist-packages/skimage/io/_plugins/pil_plugin.py:112: DeprecationWarning: fromstring() is deprecated. Please call frombytes() instead.\n",
        "  img = Image.fromstring(mode, (arr.shape[1], arr.shape[0]), arr.tostring())\n"
       ]
      },
      {
       "output_type": "stream",
       "stream": "stderr",
       "text": [
        "/usr/local/lib/python2.7/dist-packages/skimage/io/_plugins/pil_plugin.py:112: DeprecationWarning: fromstring() is deprecated. Please call frombytes() instead.\n",
        "  img = Image.fromstring(mode, (arr.shape[1], arr.shape[0]), arr.tostring())\n",
        "/usr/local/lib/python2.7/dist-packages/skimage/io/_plugins/pil_plugin.py:112: DeprecationWarning: fromstring() is deprecated. Please call frombytes() instead.\n",
        "  img = Image.fromstring(mode, (arr.shape[1], arr.shape[0]), arr.tostring())\n"
       ]
      },
      {
       "output_type": "stream",
       "stream": "stderr",
       "text": [
        "/usr/local/lib/python2.7/dist-packages/skimage/io/_plugins/pil_plugin.py:112: DeprecationWarning: fromstring() is deprecated. Please call frombytes() instead.\n",
        "  img = Image.fromstring(mode, (arr.shape[1], arr.shape[0]), arr.tostring())\n",
        "/usr/local/lib/python2.7/dist-packages/skimage/io/_plugins/pil_plugin.py:112: DeprecationWarning: fromstring() is deprecated. Please call frombytes() instead.\n",
        "  img = Image.fromstring(mode, (arr.shape[1], arr.shape[0]), arr.tostring())\n"
       ]
      },
      {
       "output_type": "stream",
       "stream": "stderr",
       "text": [
        "/usr/local/lib/python2.7/dist-packages/skimage/io/_plugins/pil_plugin.py:112: DeprecationWarning: fromstring() is deprecated. Please call frombytes() instead.\n",
        "  img = Image.fromstring(mode, (arr.shape[1], arr.shape[0]), arr.tostring())\n",
        "/usr/local/lib/python2.7/dist-packages/skimage/io/_plugins/pil_plugin.py:112: DeprecationWarning: fromstring() is deprecated. Please call frombytes() instead.\n",
        "  img = Image.fromstring(mode, (arr.shape[1], arr.shape[0]), arr.tostring())\n"
       ]
      },
      {
       "output_type": "stream",
       "stream": "stderr",
       "text": [
        "/usr/local/lib/python2.7/dist-packages/skimage/io/_plugins/pil_plugin.py:112: DeprecationWarning: fromstring() is deprecated. Please call frombytes() instead.\n",
        "  img = Image.fromstring(mode, (arr.shape[1], arr.shape[0]), arr.tostring())\n",
        "/usr/local/lib/python2.7/dist-packages/skimage/io/_plugins/pil_plugin.py:112: DeprecationWarning: fromstring() is deprecated. Please call frombytes() instead.\n",
        "  img = Image.fromstring(mode, (arr.shape[1], arr.shape[0]), arr.tostring())\n"
       ]
      },
      {
       "output_type": "stream",
       "stream": "stderr",
       "text": [
        "/usr/local/lib/python2.7/dist-packages/skimage/io/_plugins/pil_plugin.py:112: DeprecationWarning: fromstring() is deprecated. Please call frombytes() instead.\n",
        "  img = Image.fromstring(mode, (arr.shape[1], arr.shape[0]), arr.tostring())\n",
        "/usr/local/lib/python2.7/dist-packages/skimage/io/_plugins/pil_plugin.py:112: DeprecationWarning: fromstring() is deprecated. Please call frombytes() instead.\n",
        "  img = Image.fromstring(mode, (arr.shape[1], arr.shape[0]), arr.tostring())\n"
       ]
      },
      {
       "output_type": "stream",
       "stream": "stderr",
       "text": [
        "/usr/local/lib/python2.7/dist-packages/skimage/io/_plugins/pil_plugin.py:112: DeprecationWarning: fromstring() is deprecated. Please call frombytes() instead.\n",
        "  img = Image.fromstring(mode, (arr.shape[1], arr.shape[0]), arr.tostring())\n",
        "/usr/local/lib/python2.7/dist-packages/skimage/io/_plugins/pil_plugin.py:112: DeprecationWarning: fromstring() is deprecated. Please call frombytes() instead.\n",
        "  img = Image.fromstring(mode, (arr.shape[1], arr.shape[0]), arr.tostring())\n"
       ]
      },
      {
       "output_type": "stream",
       "stream": "stderr",
       "text": [
        "/usr/local/lib/python2.7/dist-packages/skimage/io/_plugins/pil_plugin.py:112: DeprecationWarning: fromstring() is deprecated. Please call frombytes() instead.\n",
        "  img = Image.fromstring(mode, (arr.shape[1], arr.shape[0]), arr.tostring())\n",
        "/usr/local/lib/python2.7/dist-packages/skimage/io/_plugins/pil_plugin.py:112: DeprecationWarning: fromstring() is deprecated. Please call frombytes() instead.\n",
        "  img = Image.fromstring(mode, (arr.shape[1], arr.shape[0]), arr.tostring())\n"
       ]
      },
      {
       "output_type": "stream",
       "stream": "stderr",
       "text": [
        "/usr/local/lib/python2.7/dist-packages/skimage/io/_plugins/pil_plugin.py:112: DeprecationWarning: fromstring() is deprecated. Please call frombytes() instead.\n",
        "  img = Image.fromstring(mode, (arr.shape[1], arr.shape[0]), arr.tostring())\n",
        "/usr/local/lib/python2.7/dist-packages/skimage/io/_plugins/pil_plugin.py:112: DeprecationWarning: fromstring() is deprecated. Please call frombytes() instead.\n",
        "  img = Image.fromstring(mode, (arr.shape[1], arr.shape[0]), arr.tostring())\n"
       ]
      },
      {
       "output_type": "stream",
       "stream": "stderr",
       "text": [
        "/usr/local/lib/python2.7/dist-packages/skimage/io/_plugins/pil_plugin.py:112: DeprecationWarning: fromstring() is deprecated. Please call frombytes() instead.\n",
        "  img = Image.fromstring(mode, (arr.shape[1], arr.shape[0]), arr.tostring())\n",
        "/usr/local/lib/python2.7/dist-packages/skimage/io/_plugins/pil_plugin.py:112: DeprecationWarning: fromstring() is deprecated. Please call frombytes() instead.\n",
        "  img = Image.fromstring(mode, (arr.shape[1], arr.shape[0]), arr.tostring())\n"
       ]
      },
      {
       "output_type": "stream",
       "stream": "stderr",
       "text": [
        "/usr/local/lib/python2.7/dist-packages/skimage/io/_plugins/pil_plugin.py:112: DeprecationWarning: fromstring() is deprecated. Please call frombytes() instead.\n",
        "  img = Image.fromstring(mode, (arr.shape[1], arr.shape[0]), arr.tostring())\n",
        "/usr/local/lib/python2.7/dist-packages/skimage/io/_plugins/pil_plugin.py:112: DeprecationWarning: fromstring() is deprecated. Please call frombytes() instead.\n",
        "  img = Image.fromstring(mode, (arr.shape[1], arr.shape[0]), arr.tostring())\n"
       ]
      },
      {
       "output_type": "stream",
       "stream": "stderr",
       "text": [
        "/usr/local/lib/python2.7/dist-packages/skimage/io/_plugins/pil_plugin.py:112: DeprecationWarning: fromstring() is deprecated. Please call frombytes() instead.\n",
        "  img = Image.fromstring(mode, (arr.shape[1], arr.shape[0]), arr.tostring())\n",
        "/usr/local/lib/python2.7/dist-packages/skimage/io/_plugins/pil_plugin.py:112: DeprecationWarning: fromstring() is deprecated. Please call frombytes() instead.\n",
        "  img = Image.fromstring(mode, (arr.shape[1], arr.shape[0]), arr.tostring())\n"
       ]
      },
      {
       "output_type": "stream",
       "stream": "stderr",
       "text": [
        "/usr/local/lib/python2.7/dist-packages/skimage/io/_plugins/pil_plugin.py:112: DeprecationWarning: fromstring() is deprecated. Please call frombytes() instead.\n",
        "  img = Image.fromstring(mode, (arr.shape[1], arr.shape[0]), arr.tostring())\n",
        "/usr/local/lib/python2.7/dist-packages/skimage/io/_plugins/pil_plugin.py:112: DeprecationWarning: fromstring() is deprecated. Please call frombytes() instead.\n",
        "  img = Image.fromstring(mode, (arr.shape[1], arr.shape[0]), arr.tostring())\n"
       ]
      },
      {
       "output_type": "stream",
       "stream": "stderr",
       "text": [
        "/usr/local/lib/python2.7/dist-packages/skimage/io/_plugins/pil_plugin.py:112: DeprecationWarning: fromstring() is deprecated. Please call frombytes() instead.\n",
        "  img = Image.fromstring(mode, (arr.shape[1], arr.shape[0]), arr.tostring())\n",
        "/usr/local/lib/python2.7/dist-packages/skimage/io/_plugins/pil_plugin.py:112: DeprecationWarning: fromstring() is deprecated. Please call frombytes() instead.\n",
        "  img = Image.fromstring(mode, (arr.shape[1], arr.shape[0]), arr.tostring())\n"
       ]
      },
      {
       "output_type": "stream",
       "stream": "stderr",
       "text": [
        "/usr/local/lib/python2.7/dist-packages/skimage/io/_plugins/pil_plugin.py:112: DeprecationWarning: fromstring() is deprecated. Please call frombytes() instead.\n",
        "  img = Image.fromstring(mode, (arr.shape[1], arr.shape[0]), arr.tostring())\n",
        "/usr/local/lib/python2.7/dist-packages/skimage/io/_plugins/pil_plugin.py:112: DeprecationWarning: fromstring() is deprecated. Please call frombytes() instead.\n",
        "  img = Image.fromstring(mode, (arr.shape[1], arr.shape[0]), arr.tostring())\n"
       ]
      }
     ],
     "prompt_number": "*"
    }
   ],
   "metadata": {}
  }
 ]
}