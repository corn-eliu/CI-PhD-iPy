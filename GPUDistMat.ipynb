{
 "metadata": {
  "name": ""
 },
 "nbformat": 3,
 "nbformat_minor": 0,
 "worksheets": [
  {
   "cells": [
    {
     "cell_type": "code",
     "collapsed": false,
     "input": [
      "%pylab\n",
      "\n",
      "import pycuda.autoinit\n",
      "import pycuda.driver as drv\n",
      "\n",
      "import numpy as np\n",
      "import Image\n",
      "\n",
      "cudaFolder = \"/home/ilisescu/PhD/cuda/\""
     ],
     "language": "python",
     "metadata": {},
     "outputs": [
      {
       "output_type": "stream",
       "stream": "stdout",
       "text": [
        "Using matplotlib backend: TkAgg\n",
        "Populating the interactive namespace from numpy and matplotlib\n"
       ]
      }
     ],
     "prompt_number": 1
    },
    {
     "cell_type": "code",
     "collapsed": false,
     "input": [
      "img1 = Image.open(\"/home/ilisescu/PhD/data/ribbon2/frame-00285.png\")\n",
      "(w,h) = img1.size\n",
      "img1 = np.array(img1.getdata()).reshape(3*w*h,1).astype(numpy.float32) / 255.0\n",
      "# img1 = img1[0:100]\n",
      "\n",
      "img2 = Image.open(\"/home/ilisescu/PhD/data/ribbon2/frame-01027.png\")\n",
      "(w,h) = img2.size\n",
      "img2 = np.array(img2.getdata()).reshape(3*w*h,1).astype(numpy.float32) / 255.0\n",
      "# img2 = img2[0:100]\n",
      "\n",
      "res = numpy.zeros(img2.shape).astype(numpy.float32)\n",
      "\n",
      "N = np.int32(len(img1))\n",
      "\n",
      "print img1.shape, img2.shape, res.shape, N"
     ],
     "language": "python",
     "metadata": {},
     "outputs": [
      {
       "output_type": "stream",
       "stream": "stdout",
       "text": [
        "(2764800, 1) (2764800, 1) (2764800, 1) 2764800\n"
       ]
      }
     ],
     "prompt_number": 2
    },
    {
     "cell_type": "code",
     "collapsed": false,
     "input": [
      "module = drv.module_from_file(cudaFolder + \"l2dist/l2dist.cubin\")\n",
      "l2dist = module.get_function(\"l2dist\")"
     ],
     "language": "python",
     "metadata": {},
     "outputs": [],
     "prompt_number": 3
    },
    {
     "cell_type": "code",
     "collapsed": false,
     "input": [
      "print np.int32(res.shape[0])"
     ],
     "language": "python",
     "metadata": {},
     "outputs": [
      {
       "output_type": "stream",
       "stream": "stdout",
       "text": [
        "2764800\n"
       ]
      }
     ],
     "prompt_number": 4
    },
    {
     "cell_type": "code",
     "collapsed": false,
     "input": [
      "%timeit l2dist(drv.In(img1), drv.In(img2), N, drv.Out(res), block=(256, 1, 1), grid=(64*8, 1))#grid=(res.shape[0]/256, 1))"
     ],
     "language": "python",
     "metadata": {},
     "outputs": [
      {
       "output_type": "stream",
       "stream": "stdout",
       "text": [
        "100 loops, best of 3: 5.75 ms per loop\n"
       ]
      }
     ],
     "prompt_number": 17
    },
    {
     "cell_type": "code",
     "collapsed": false,
     "input": [
      "print img1[2023800], img2[2023800], res[2023800], img1[2023800] - img2[2023800]"
     ],
     "language": "python",
     "metadata": {},
     "outputs": [
      {
       "output_type": "stream",
       "stream": "stdout",
       "text": [
        "[ 0.76862746] [ 0.7764706] [ 0.00784314] [-0.00784314]\n"
       ]
      }
     ],
     "prompt_number": 16
    },
    {
     "cell_type": "code",
     "collapsed": false,
     "input": [
      "print np.sum(res)"
     ],
     "language": "python",
     "metadata": {},
     "outputs": [
      {
       "output_type": "stream",
       "stream": "stdout",
       "text": [
        "93948.0\n"
       ]
      }
     ],
     "prompt_number": 15
    },
    {
     "cell_type": "code",
     "collapsed": false,
     "input": [
      "%timeit diffs = np.sqrt(np.power(img1-img2, 2))\n",
      "%timeit np.sum(diffs)"
     ],
     "language": "python",
     "metadata": {},
     "outputs": [
      {
       "output_type": "stream",
       "stream": "stdout",
       "text": [
        "10 loops, best of 3: 35.2 ms per loop\n",
        "100 loops, best of 3: 2.65 ms per loop"
       ]
      },
      {
       "output_type": "stream",
       "stream": "stdout",
       "text": [
        "\n"
       ]
      }
     ],
     "prompt_number": 16
    }
   ],
   "metadata": {}
  }
 ]
}