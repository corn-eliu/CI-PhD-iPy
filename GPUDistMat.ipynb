{
 "metadata": {
  "name": "",
  "signature": "sha256:0bb0b664938427ea314961edfba014acdf503bd9f238e4c77c9f94eb5515a1ef"
 },
 "nbformat": 3,
 "nbformat_minor": 0,
 "worksheets": [
  {
   "cells": [
    {
     "cell_type": "code",
     "collapsed": false,
     "input": [
      "%pylab\n",
      "\n",
      "import pycuda.autoinit\n",
      "import pycuda.driver as drv\n",
      "import pycuda.gpuarray as gpuarray\n",
      "\n",
      "import numpy as np\n",
      "import Image\n",
      "import time\n",
      "\n",
      "cudaFolder = \"/home/ilisescu/PhD/cuda/\""
     ],
     "language": "python",
     "metadata": {},
     "outputs": [
      {
       "output_type": "stream",
       "stream": "stdout",
       "text": [
        "Using matplotlib backend: TkAgg\n",
        "Populating the interactive namespace from numpy and matplotlib\n"
       ]
      }
     ],
     "prompt_number": 1
    },
    {
     "cell_type": "code",
     "collapsed": false,
     "input": [
      "img1 = Image.open(\"/media/ilisescu/Data1/PhD/data/ribbon2/frame-00285.png\")\n",
      "(w,h) = img1.size\n",
      "img1 = np.array(img1.getdata()).reshape(w*h,3).astype(numpy.float32) / 255.0\n",
      "# img1 = np.concatenate((img1[0:144, :], np.zeros((144, 1), numpy.float32)), axis=-1)\n",
      "img1 = np.concatenate((img1, np.zeros((img1.shape[0], 1), numpy.float32)), axis=-1)\n",
      "\n",
      "img2 = Image.open(\"/media/ilisescu/Data1/PhD/data/ribbon2/frame-01027.png\")\n",
      "(w,h) = img2.size\n",
      "img2 = np.array(img2.getdata()).reshape(w*h,3).astype(numpy.float32) / 255.0\n",
      "# img2 = np.concatenate((img2[0:144, :], np.zeros((144, 1), numpy.float32)), axis=-1)\n",
      "img2 = np.concatenate((img2, np.zeros((img2.shape[0], 1), numpy.float32)), axis=-1)\n",
      "\n",
      "\n",
      "# displacements = np.array([1, 2])\n",
      "displacements = np.array([1, 2, 4, 8, 16])\n",
      "displacements = np.concatenate((np.array([np.zeros(len(displacements)), displacements], int), ## EAST\n",
      "                                np.array([displacements, displacements], int), ## SOUT-EAST\n",
      "                                np.array([displacements, np.zeros(len(displacements))], int), ## SOUTH\n",
      "                                np.array([displacements, -displacements], int), ## SOUTH-WEST\n",
      "                                np.array([np.zeros(len(displacements)), -displacements], int), ## WEST\n",
      "                                np.array([-displacements, -displacements], int), ## NORTH-WEST\n",
      "                                np.array([-displacements, np.zeros(len(displacements))], int), ## NORTH\n",
      "                                np.array([-displacements, displacements], int), ## NORTH-EAST\n",
      "                                ), axis=-1).T.astype(np.int32)\n",
      "## flipping the columns o I can get x, y coords\n",
      "displacements = displacements[:, ::-1]\n",
      "\n",
      "\n",
      "N = np.int32(len(img1))\n",
      "# spacing = np.int32(3)\n",
      "spacing = np.int32(32)\n",
      "offset = np.array(np.max(displacements, axis=0)[::-1], np.int32)\n",
      "# patchSize = np.array([4, 4], np.int32)\n",
      "patchSize = np.array([64, 64], np.int32)\n",
      "# imageSize = np.array([12, 12], np.int32)\n",
      "imageSize = np.array([h, w], np.int32)\n",
      "\n",
      "\n",
      "gridSize = np.array([np.arange(offset[0], imageSize[0]-patchSize[0]-offset[0], spacing).shape[0],\n",
      "                     np.arange(offset[1], imageSize[1]-patchSize[1]-offset[1], spacing).shape[0]])\n",
      "# gridSize = np.array([2, 1])\n",
      "\n",
      "res = numpy.zeros((np.prod(gridSize), displacements.shape[0])).astype(np.float32)\n",
      "\n",
      "print img1.shape, img2.shape, res.shape, N, gridSize, offset"
     ],
     "language": "python",
     "metadata": {},
     "outputs": [
      {
       "output_type": "stream",
       "stream": "stdout",
       "text": [
        "(921600, 4) (921600, 4) (740, 40) 921600 [20 37] [16 16]\n"
       ]
      }
     ],
     "prompt_number": 16
    },
    {
     "cell_type": "code",
     "collapsed": false,
     "input": [
      "print img1.nbytes"
     ],
     "language": "python",
     "metadata": {},
     "outputs": [
      {
       "output_type": "stream",
       "stream": "stdout",
       "text": [
        "14745600\n"
       ]
      }
     ],
     "prompt_number": 64
    },
    {
     "cell_type": "code",
     "collapsed": false,
     "input": [
      "module = drv.module_from_file(cudaFolder + \"computeFeat/computeFeat.cubin\")\n",
      "computeFeat = module.get_function(\"computeFeat\")"
     ],
     "language": "python",
     "metadata": {},
     "outputs": [],
     "prompt_number": 3
    },
    {
     "cell_type": "code",
     "collapsed": false,
     "input": [
      "t = time.time()\n",
      "\n",
      "# ## allocate graphics memory\n",
      "# img1_gpu = drv.mem_alloc(img1.nbytes)\n",
      "# img2_gpu = drv.mem_alloc(img2.nbytes)\n",
      "# displacements_gpu = drv.mem_alloc(displacements.nbytes)\n",
      "# res_gpu = drv.mem_alloc(res.nbytes)\n",
      "\n",
      "# ## fill buffers\n",
      "# drv.memcpy_htod(img1_gpu, img1.flatten())\n",
      "# drv.memcpy_htod(img2_gpu, img2.flatten())\n",
      "# drv.memcpy_htod(displacements_gpu, displacements.flatten())\n",
      "# drv.memcpy_htod(res_gpu, res.flatten())\n",
      "\n",
      "print drv.mem_get_info()\n",
      "t = time.time()\n",
      "\n",
      "img1_gpu = gpuarray.to_gpu(img1)\n",
      "img2_gpu = gpuarray.to_gpu(img2)\n",
      "displacements_gpu = gpuarray.to_gpu(displacements.flatten())\n",
      "res_gpu = gpuarray.to_gpu(numpy.zeros((np.prod(gridSize), displacements.shape[0])).astype(np.float32))\n",
      "\n",
      "\n",
      "patchSize_gpu = gpuarray.to_gpu(patchSize)\n",
      "offset_gpu = gpuarray.to_gpu(offset)\n",
      "imageSize_gpu = gpuarray.to_gpu(imageSize)\n",
      "\n",
      "## run kernel\n",
      "# computeFeat(img1_gpu, img2_gpu, displacements_gpu, patchSize_gpu, offset_gpu, spacing, imageSize_gpu, res_gpu, block=(displacements.shape[0], 1, 1), grid=(gridSize[1], gridSize[0]))\n",
      "\n",
      "## read result\n",
      "# res = np.empty_like(res)\n",
      "# drv.memcpy_dtoh(res, res_gpu)\n",
      "# res = res_gpu.get()\n",
      "\n",
      "# print drv.mem_get_info()\n",
      "\n",
      "print time.time()-t"
     ],
     "language": "python",
     "metadata": {},
     "outputs": [
      {
       "output_type": "stream",
       "stream": "stdout",
       "text": [
        "(1059061760, 4286476288)\n",
        "0.0238990783691\n"
       ]
      }
     ],
     "prompt_number": 67
    },
    {
     "cell_type": "code",
     "collapsed": false,
     "input": [
      "# del img1_gpu, img2_gpu, displacements_gpu, res_gpu, patchSize_gpu, offset_gpu, imageSize_gpu\n",
      "print 3508944896 - 3477225472\n",
      "print displacements.dtype"
     ],
     "language": "python",
     "metadata": {},
     "outputs": [
      {
       "output_type": "stream",
       "stream": "stdout",
       "text": [
        "31719424\n",
        "int32\n"
       ]
      }
     ],
     "prompt_number": 63
    },
    {
     "cell_type": "code",
     "collapsed": false,
     "input": [
      "print img1.nbytes + img2.nbytes + displacements.nbytes + res.nbytes + patchSize.nbytes + offset.nbytes + imageSize.nbytes"
     ],
     "language": "python",
     "metadata": {},
     "outputs": [
      {
       "output_type": "stream",
       "stream": "stdout",
       "text": [
        "29609944\n"
       ]
      }
     ],
     "prompt_number": 62
    },
    {
     "cell_type": "code",
     "collapsed": false,
     "input": [
      "print res.flatten() - result"
     ],
     "language": "python",
     "metadata": {},
     "outputs": [
      {
       "output_type": "stream",
       "stream": "stdout",
       "text": [
        "[ -1.09795575e-05  -1.07121913e-05  -1.05451674e-05 ...,  -1.08315702e-05\n",
        "  -1.04828624e-05  -1.31362198e-05]\n"
       ]
      }
     ],
     "prompt_number": 25
    },
    {
     "cell_type": "code",
     "collapsed": false,
     "input": [
      "(1280*720*3*4*2)/1000000\n"
     ],
     "language": "python",
     "metadata": {},
     "outputs": [
      {
       "metadata": {},
       "output_type": "pyout",
       "prompt_number": 27,
       "text": [
        "22"
       ]
      }
     ],
     "prompt_number": 27
    },
    {
     "cell_type": "code",
     "collapsed": false,
     "input": [
      "print result"
     ],
     "language": "python",
     "metadata": {},
     "outputs": [
      {
       "output_type": "stream",
       "stream": "stdout",
       "text": [
        "[ 1.00961925  1.00872777  1.00996953 ...,  0.94399904  1.0061556\n",
        "  1.17262771]\n"
       ]
      }
     ],
     "prompt_number": 19
    },
    {
     "cell_type": "code",
     "collapsed": false,
     "input": [
      "# rows = np.copy(res)\n",
      "print rows"
     ],
     "language": "python",
     "metadata": {},
     "outputs": [
      {
       "output_type": "stream",
       "stream": "stdout",
       "text": [
        "[[  16.   16.   16. ...,   16.   16.   16.]\n",
        " [  16.   16.   16. ...,   16.   16.   16.]\n",
        " [  16.   16.   16. ...,   16.   16.   16.]\n",
        " ..., \n",
        " [ 624.  624.  624. ...,  624.  624.  624.]\n",
        " [ 624.  624.  624. ...,  624.  624.  624.]\n",
        " [ 624.  624.  624. ...,  624.  624.  624.]]\n"
       ]
      }
     ],
     "prompt_number": 25
    },
    {
     "cell_type": "code",
     "collapsed": false,
     "input": [
      "# img1idx = np.copy(res.astype(int))\n",
      "print img1idx"
     ],
     "language": "python",
     "metadata": {},
     "outputs": [
      {
       "output_type": "stream",
       "stream": "stdout",
       "text": [
        "[[  20496.   20496.   20496. ...,   20496.   20496.   20496.]\n",
        " [  20528.   20528.   20528. ...,   20528.   20528.   20528.]\n",
        " [  20560.   20560.   20560. ...,   20560.   20560.   20560.]\n",
        " ..., \n",
        " [ 799824.  799824.  799824. ...,  799824.  799824.  799824.]\n",
        " [ 799856.  799856.  799856. ...,  799856.  799856.  799856.]\n",
        " [ 799888.  799888.  799888. ...,  799888.  799888.  799888.]]\n"
       ]
      }
     ],
     "prompt_number": 29
    },
    {
     "cell_type": "code",
     "collapsed": false,
     "input": [
      "# img2idx = np.copy(res.astype(int))\n",
      "print img2idx"
     ],
     "language": "python",
     "metadata": {},
     "outputs": [
      {
       "output_type": "stream",
       "stream": "stdout",
       "text": [
        "[[ 20497  20498  20500 ...,  15380  10264     32]\n",
        " [ 20529  20530  20532 ...,  15412  10296     64]\n",
        " [ 20561  20562  20564 ...,  15444  10328     96]\n",
        " ..., \n",
        " [799825 799826 799828 ..., 794708 789592 779360]\n",
        " [799857 799858 799860 ..., 794740 789624 779392]\n",
        " [799889 799890 799892 ..., 794772 789656 779424]]\n"
       ]
      }
     ],
     "prompt_number": 34
    },
    {
     "cell_type": "code",
     "collapsed": false,
     "input": [
      "patchYs = np.arange(offset[0], imageSize[0]-patchSize[0]-offset[0], spacing)\n",
      "patchYs = patchYs.reshape((1, len(patchYs)))\n",
      "patchXs = np.arange(offset[1], imageSize[1]-patchSize[1]-offset[1], spacing)\n",
      "patchXs = patchXs.reshape((1, len(patchXs)))\n",
      "patchLocations = np.array(np.concatenate((patchYs.repeat(len(patchXs.T)),\n",
      "                                          patchXs.repeat(len(patchYs.T), axis=0).flatten())).reshape((2, len(patchXs.T)*len(patchYs.T))), int)\n",
      "\n",
      "frame1Idxs = np.empty((0, 2), dtype=int)\n",
      "frame2Idxs = np.empty((0, 2), dtype=int)\n",
      "for i, locSlice in enumerate(np.arange(patchXs.shape[-1], patchLocations.shape[-1]+1, patchXs.shape[-1])) :\n",
      "    frame1Idxs = np.concatenate((frame1Idxs, np.repeat(patchLocations[:, locSlice-patchXs.shape[-1]:locSlice], len(displacements[:, ::-1]), axis=1).T), axis=0)\n",
      "    frame2Idxs = np.concatenate((frame2Idxs, np.array([disp + loc for loc in patchLocations[:, locSlice-patchXs.shape[-1]:locSlice].T for disp in displacements[:, ::-1]])), axis=0)\n",
      "\n",
      "    \n",
      "frame1 = np.array(Image.open(\"/media/ilisescu/Data1/PhD/data/ribbon2/frame-00285.png\"))/255.0\n",
      "frame2 = np.array(Image.open(\"/media/ilisescu/Data1/PhD/data/ribbon2/frame-01027.png\"))/255.0\n",
      "\n",
      "result = np.array([np.sqrt(np.sum((frame2[l2[0]:l2[0]+patchSize[0], l2[1]:l2[1]+patchSize[1]]-frame1[l1[0]:l1[0]+patchSize[0], l1[1]:l1[1]+patchSize[1]])**2)) for l2, l1 in zip(frame2Idxs, frame1Idxs)])\n",
      "\n",
      "print result.shape"
     ],
     "language": "python",
     "metadata": {},
     "outputs": [
      {
       "output_type": "stream",
       "stream": "stdout",
       "text": [
        "(29600,)\n"
       ]
      }
     ],
     "prompt_number": 13
    },
    {
     "cell_type": "code",
     "collapsed": false,
     "input": [
      "print np.max(np.abs(result-res.flatten()))\n",
      "print np.min(np.abs(result-res.flatten()))\n",
      "print np.max(np.abs(result-res.flatten())/np.abs(result))"
     ],
     "language": "python",
     "metadata": {},
     "outputs": [
      {
       "output_type": "stream",
       "stream": "stdout",
       "text": [
        "0.000672543759897\n",
        "1.44547618319e-09\n",
        "4.06007809615e-05\n"
       ]
      }
     ],
     "prompt_number": 54
    },
    {
     "cell_type": "code",
     "collapsed": false,
     "input": [
      "tmp1Idxs = np.array([np.array(np.meshgrid(arange(l1[0], l1[0]+patchSize[0]), \n",
      "                                          arange(l1[1], l1[1]+patchSize[1]))).reshape((2, np.prod(patchSize))) for l1 in frame1Idxs]).swapaxes(0, 1).reshape((2, len(frame1Idxs)*np.prod(patchSize)))\n",
      "\n",
      "tmp2Idxs = np.array([np.array(np.meshgrid(arange(l2[0], l2[0]+patchSize[0]), \n",
      "                                          arange(l2[1], l2[1]+patchSize[1]))).reshape((2, np.prod(patchSize))) for l2 in frame2Idxs]).swapaxes(0, 1).reshape((2, len(frame2Idxs)*np.prod(patchSize)))\n",
      "print tmp1Idxs.shape"
     ],
     "language": "python",
     "metadata": {},
     "outputs": [
      {
       "output_type": "stream",
       "stream": "stdout",
       "text": [
        "(2, 121241600)\n"
       ]
      }
     ],
     "prompt_number": 138
    },
    {
     "cell_type": "code",
     "collapsed": false,
     "input": [
      "result2 = np.sqrt(np.sum(np.sum((frame2[tmp2Idxs[0, :], tmp2Idxs[1, :], :] - frame1[tmp1Idxs[0, :], tmp1Idxs[1, :], :])**2, axis=-1).reshape((len(frame1Idxs), np.prod(patchSize))), axis=-1))"
     ],
     "language": "python",
     "metadata": {},
     "outputs": [],
     "prompt_number": 139
    },
    {
     "cell_type": "code",
     "collapsed": false,
     "input": [
      "print result\n",
      "print res.flatten()"
     ],
     "language": "python",
     "metadata": {},
     "outputs": [
      {
       "output_type": "stream",
       "stream": "stdout",
       "text": [
        "[ 1.00961925  1.00872777  1.00996953 ...,  0.94399904  1.0061556\n",
        "  1.17262771]\n",
        "[ 1.00960827  1.00871706  1.00995898  1.04601181  1.23081708  1.01227796\n",
        "  1.00791597  1.01655996  1.08430707  1.25347805  1.016379    1.02431405\n",
        "  1.02915895  1.03888726  1.05229247  1.0271405   1.04582739  1.06329715\n",
        "  1.09132683  1.24606514  1.01897061  1.0293988   1.0468564   1.11291933\n",
        "  1.34238267  1.01087141  1.0133028   1.05104315  1.15984416  1.45524728\n",
        "  1.00360441  0.99890459  1.00790918  1.00528181  1.0323081   1.00899911\n",
        "  1.01017928  1.01632655  1.06399202  1.15005839  1.01334071  1.00480676\n",
        "  0.99258822  1.03763616  1.18622756  1.01146555  1.00070536  0.99717164\n",
        "  1.07775056  1.24198079  1.01625109  1.01451027  1.00924361  0.99242616\n",
        "  1.04120255  1.02681196  1.03512836  1.04485834  1.07213557  1.20243227\n",
        "  1.02486253  1.0303551   1.05027425  1.09201682  1.30536819  1.02151895\n",
        "  1.02209091  1.05517566  1.13513184  1.38284934  1.01518333  1.01283324\n",
        "  1.01649404  0.99951363  1.00716913  1.01368988  1.00804603  1.0096699\n",
        "  1.06299496  1.13806152]\n"
       ]
      }
     ],
     "prompt_number": 146
    },
    {
     "cell_type": "code",
     "collapsed": false,
     "input": [
      "print result - res.flatten()\n",
      "print res.flatten()\n",
      "print np.min(np.abs(res.flatten()-result))\n",
      "print np.max(np.abs(res.flatten()-result))"
     ],
     "language": "python",
     "metadata": {},
     "outputs": [
      {
       "output_type": "stream",
       "stream": "stdout",
       "text": [
        "[  0.03964545   0.0361176    0.0265721  ..., -12.90063025 -11.32458628\n",
        "  -8.94530938]\n",
        "[  0.9699738    0.97261018   0.98339742 ...,  13.84462929  12.33074188\n",
        "  10.11793709]\n",
        "1.73976319029e-05\n",
        "60.7096319012\n"
       ]
      }
     ],
     "prompt_number": 129
    },
    {
     "cell_type": "code",
     "collapsed": false,
     "input": [
      "print frame1Idxs[:40, :]\n",
      "print frame2Idxs[:40, :]\n",
      "print displacements[29, :]"
     ],
     "language": "python",
     "metadata": {},
     "outputs": [
      {
       "output_type": "stream",
       "stream": "stdout",
       "text": [
        "[[16 16]\n",
        " [16 16]\n",
        " [16 16]\n",
        " [16 16]\n",
        " [16 16]\n",
        " [16 16]\n",
        " [16 16]\n",
        " [16 16]\n",
        " [16 16]\n",
        " [16 16]\n",
        " [16 16]\n",
        " [16 16]\n",
        " [16 16]\n",
        " [16 16]\n",
        " [16 16]\n",
        " [16 16]\n",
        " [16 16]\n",
        " [16 16]\n",
        " [16 16]\n",
        " [16 16]\n",
        " [16 16]\n",
        " [16 16]\n",
        " [16 16]\n",
        " [16 16]\n",
        " [16 16]\n",
        " [16 16]\n",
        " [16 16]\n",
        " [16 16]\n",
        " [16 16]\n",
        " [16 16]\n",
        " [16 16]\n",
        " [16 16]\n",
        " [16 16]\n",
        " [16 16]\n",
        " [16 16]\n",
        " [16 16]\n",
        " [16 16]\n",
        " [16 16]\n",
        " [16 16]\n",
        " [16 16]]\n",
        "[[16 17]\n",
        " [16 18]\n",
        " [16 20]\n",
        " [16 24]\n",
        " [16 32]\n",
        " [17 17]\n",
        " [18 18]\n",
        " [20 20]\n",
        " [24 24]\n",
        " [32 32]\n",
        " [17 16]\n",
        " [18 16]\n",
        " [20 16]\n",
        " [24 16]\n",
        " [32 16]\n",
        " [17 15]\n",
        " [18 14]\n",
        " [20 12]\n",
        " [24  8]\n",
        " [32  0]\n",
        " [16 15]\n",
        " [16 14]\n",
        " [16 12]\n",
        " [16  8]\n",
        " [16  0]\n",
        " [15 15]\n",
        " [14 14]\n",
        " [12 12]\n",
        " [ 8  8]\n",
        " [ 0  0]\n",
        " [15 16]\n",
        " [14 16]\n",
        " [12 16]\n",
        " [ 8 16]\n",
        " [ 0 16]\n",
        " [15 17]\n",
        " [14 18]\n",
        " [12 20]\n",
        " [ 8 24]\n",
        " [ 0 32]]\n",
        "[-16 -16]\n"
       ]
      }
     ],
     "prompt_number": 22
    },
    {
     "cell_type": "code",
     "collapsed": false,
     "input": [
      "# %timeit computeFeat(img1_gpu, img2_gpu, displacements_gpu, patchSize, offset, spacing, imgSize, res_gpu, block=(displacements.shape[0], 1, 1), grid=(2, 1))\n",
      "print res.shape"
     ],
     "language": "python",
     "metadata": {},
     "outputs": [
      {
       "output_type": "stream",
       "stream": "stdout",
       "text": [
        "(740, 40)\n"
       ]
      }
     ],
     "prompt_number": 88
    },
    {
     "cell_type": "code",
     "collapsed": false,
     "input": [
      "computeFeat(drv.In(img1), drv.In(img2), drv.In(displacements.flatten()), offset, spacing, drv.Out(res), block=(20, 1, 1), grid=(6, 4))"
     ],
     "language": "python",
     "metadata": {},
     "outputs": [],
     "prompt_number": 244
    },
    {
     "cell_type": "code",
     "collapsed": false,
     "input": [
      "%timeit (img1-img2)**2"
     ],
     "language": "python",
     "metadata": {},
     "outputs": [
      {
       "output_type": "stream",
       "stream": "stdout",
       "text": [
        "100 loops, best of 3: 3.94 ms per loop\n"
       ]
      }
     ],
     "prompt_number": 66
    },
    {
     "cell_type": "code",
     "collapsed": false,
     "input": [
      "module = drv.module_from_file(cudaFolder + \"l2dist/l2dist.cubin\")\n",
      "l2dist = module.get_function(\"l2dist\")"
     ],
     "language": "python",
     "metadata": {},
     "outputs": [],
     "prompt_number": 3
    },
    {
     "cell_type": "code",
     "collapsed": false,
     "input": [
      "print np.int32(res.shape[0])"
     ],
     "language": "python",
     "metadata": {},
     "outputs": [
      {
       "output_type": "stream",
       "stream": "stdout",
       "text": [
        "2764800\n"
       ]
      }
     ],
     "prompt_number": 4
    },
    {
     "cell_type": "code",
     "collapsed": false,
     "input": [
      "%timeit l2dist(drv.In(img1), drv.In(img2), N, drv.Out(res), block=(256, 1, 1), grid=(64*8, 1))#grid=(res.shape[0]/256, 1))"
     ],
     "language": "python",
     "metadata": {},
     "outputs": [
      {
       "output_type": "stream",
       "stream": "stdout",
       "text": [
        "100 loops, best of 3: 5.75 ms per loop\n"
       ]
      }
     ],
     "prompt_number": 17
    },
    {
     "cell_type": "code",
     "collapsed": false,
     "input": [
      "print img1[2023800], img2[2023800], res[2023800], img1[2023800] - img2[2023800]"
     ],
     "language": "python",
     "metadata": {},
     "outputs": [
      {
       "output_type": "stream",
       "stream": "stdout",
       "text": [
        "[ 0.76862746] [ 0.7764706] [ 0.00784314] [-0.00784314]\n"
       ]
      }
     ],
     "prompt_number": 16
    },
    {
     "cell_type": "code",
     "collapsed": false,
     "input": [
      "print np.sum(res)"
     ],
     "language": "python",
     "metadata": {},
     "outputs": [
      {
       "output_type": "stream",
       "stream": "stdout",
       "text": [
        "93948.0\n"
       ]
      }
     ],
     "prompt_number": 15
    },
    {
     "cell_type": "code",
     "collapsed": false,
     "input": [
      "%timeit diffs = np.sqrt(np.power(img1-img2, 2))\n",
      "%timeit np.sum(diffs)"
     ],
     "language": "python",
     "metadata": {},
     "outputs": [
      {
       "output_type": "stream",
       "stream": "stdout",
       "text": [
        "10 loops, best of 3: 35.2 ms per loop\n",
        "100 loops, best of 3: 2.65 ms per loop"
       ]
      },
      {
       "output_type": "stream",
       "stream": "stdout",
       "text": [
        "\n"
       ]
      }
     ],
     "prompt_number": 16
    }
   ],
   "metadata": {}
  }
 ]
}