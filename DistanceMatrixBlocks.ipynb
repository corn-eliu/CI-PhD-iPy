{
 "metadata": {
  "name": "",
  "signature": "sha256:beef90af69f25fa6aa65eb3fdd88cb8bee746b135285abeab0fed6170c8ea1ad"
 },
 "nbformat": 3,
 "nbformat_minor": 0,
 "worksheets": [
  {
   "cells": [
    {
     "cell_type": "code",
     "collapsed": false,
     "input": [
      "## Imports and defines\n",
      "%pylab \n",
      "import numpy as np\n",
      "import scipy as sp\n",
      "import cv2\n",
      "import glob\n",
      "import time\n",
      "import sys\n",
      "import os\n",
      "import gc\n",
      "from scipy import ndimage\n",
      "from scipy import stats\n",
      "\n",
      "from PIL import Image\n",
      "\n",
      "from mpl_toolkits.mplot3d import Axes3D\n",
      "import matplotlib.animation as animation\n",
      "\n",
      "import GraphWithValues as gwv\n",
      "\n",
      "# dataFolder = \"/home/ilisescu/PhD/data/\"\n",
      "dataFolder = \"/media/ilisescu/Data1/PhD/data/\""
     ],
     "language": "python",
     "metadata": {},
     "outputs": [
      {
       "output_type": "stream",
       "stream": "stdout",
       "text": [
        "Using matplotlib backend: TkAgg\n",
        "Populating the interactive namespace from numpy and matplotlib\n"
       ]
      }
     ],
     "prompt_number": 1
    },
    {
     "cell_type": "code",
     "collapsed": false,
     "input": [
      "## read frames from sequence of images\n",
      "# sampleData = \"pendulum/\"\n",
      "# sampleData = \"ribbon2/\"\n",
      "# sampleData = \"ribbon1_matted/\"\n",
      "# sampleData = \"little_palm1_cropped/\"\n",
      "# sampleData = \"ballAnimation/\"\n",
      "sampleData = \"candle1/segmentedAndCropped/\"\n",
      "sampleData = \"candle2/subset_stabilized/segmentedAndCropped/\"\n",
      "sampleData = \"candle3/stabilized/segmentedAndCropped/\"\n",
      "sampleData = \"wave2/\"\n",
      "sampleData = \"toy/\"\n",
      "\n",
      "outputData = dataFolder+sampleData\n",
      "\n",
      "## Find pngs in sample data\n",
      "frames = np.sort(glob.glob(dataFolder + sampleData + \"frame-*.png\"))\n",
      "mattes = np.sort(glob.glob(dataFolder + sampleData + \"matte-*.png\"))\n",
      "sprite = \"aron2\"\n",
      "segmented = np.sort(glob.glob(dataFolder + sampleData + sprite+\"-maskedFlow/frame-*.png\"))\n",
      "numFrames = len(frames)\n",
      "frameSize = cv2.imread(frames[0]).shape\n",
      "print numFrames, len(mattes), len(segmented)"
     ],
     "language": "python",
     "metadata": {},
     "outputs": [
      {
       "output_type": "stream",
       "stream": "stdout",
       "text": [
        "606 0 0\n"
       ]
      }
     ],
     "prompt_number": 2
    },
    {
     "cell_type": "code",
     "collapsed": false,
     "input": [
      "featureMatrix = np.load(outputData + \"gridFeatures.npy\")\n",
      "print featureMatrix.shape\n",
      "# gwv.showCustomGraph(np.sum(features, axis=-1))"
     ],
     "language": "python",
     "metadata": {},
     "outputs": [
      {
       "output_type": "stream",
       "stream": "stdout",
       "text": [
        "(1280, 1280, 256)\n"
       ]
      }
     ],
     "prompt_number": 3
    },
    {
     "cell_type": "code",
     "collapsed": false,
     "input": [
      "## compute euclidean distance assuming f is an array where each row is a flattened image (1xN array, N=W*H*Channels)\n",
      "## euclidean distance defined as the length of the the displacement vector:\n",
      "## len(q-p) = sqrt(len(q)^2+len(p)^2 - 2*dot(p, q)) where p and q are two images in vector format and 1xN size\n",
      "def distEuc(f) :\n",
      "    ## gives sum over squared intensity values for each image\n",
      "    ff = np.sum(f*f, axis=1)\n",
      "    ## first term is sum between each possible combination of frames\n",
      "    ## second term is the the dot product between each frame as in the formula above\n",
      "    d = np.sqrt(np.reshape(ff, [len(ff),1])+ff.T - 2*np.dot(f, f.T))\n",
      "    return d\n",
      "\n",
      "def distEuc2(f1, f2) :\n",
      "    ## gives sum over squared intensity values for each image\n",
      "    ff1 = np.sum(f1*f1, axis=1)\n",
      "    ff2 = np.sum(f2*f2, axis=1)\n",
      "#     print ff1.shape\n",
      "#     print ff2.shape\n",
      "    ## first term is sum between each possible combination of frames\n",
      "    ## second term is the the dot product between each frame as in the formula above\n",
      "#     print \"askdfh\", np.repeat(np.reshape(ff1, [len(ff1),1]), len(ff2), axis=1).shape, np.repeat(np.reshape(ff2, [1, len(ff2)]), len(ff1), axis=0).shape\n",
      "    d = np.sqrt(np.repeat(np.reshape(ff1, [len(ff1),1]), len(ff2), axis=1)+np.repeat(np.reshape(ff2, [1, len(ff2)]), len(ff1), axis=0) - 2*np.dot(f1, f2.T))\n",
      "    return d"
     ],
     "language": "python",
     "metadata": {},
     "outputs": [],
     "prompt_number": 3
    },
    {
     "cell_type": "code",
     "collapsed": false,
     "input": [
      "## divide data into subblocks\n",
      "s = time.time()\n",
      "numBlocks = 2\n",
      "blockSize = numFrames/numBlocks\n",
      "print numFrames, numBlocks, blockSize\n",
      "distanceMatrix = np.zeros([numFrames, numFrames])\n",
      "\n",
      "for i in xrange(0, numBlocks) :\n",
      "    \n",
      "    t = time.time()\n",
      "    \n",
      "    ##load row frames\n",
      "    f1s = np.zeros(np.hstack([frameSize[0], frameSize[1], frameSize[2], blockSize]))\n",
      "    for f, idx in zip(xrange(i*blockSize, i*blockSize+blockSize), xrange(0, blockSize)) :\n",
      "        img = np.array(cv2.cvtColor(cv2.imread(frames[f]), cv2.COLOR_BGR2RGB), dtype=np.float64)\n",
      "        if f < len(segmented) and os.path.isfile(segmented[f]) :\n",
      "            alpha = np.array(Image.open(segmented[f]), dtype=np.float64)[:, :, -1]/255.0\n",
      "            f1s[:, :, :, idx] = (img/255.0)*np.reshape(alpha, (alpha.shape[0], alpha.shape[1], 1))\n",
      "        else :\n",
      "            if f < len(mattes) and os.path.isfile(mattes[f]) :\n",
      "                alpha = np.array(cv2.cvtColor(cv2.imread(mattes[f]), cv2.COLOR_BGR2GRAY), dtype=np.float64)/255.0\n",
      "                f1s[:, :, :, idx] = (img/255.0)*np.repeat(np.reshape(alpha, (alpha.shape[0], alpha.shape[1], 1)), 3, axis=-1)\n",
      "            else :\n",
      "                f1s[:, :, :, idx] = img/255.0\n",
      "\n",
      "    ##compute distance between every pair of row frames\n",
      "    data1 = np.reshape(f1s, [np.prod(f1s.shape[0:-1]), f1s.shape[-1]]).T\n",
      "    print data1.shape\n",
      "    distanceMatrix[i*blockSize:i*blockSize+blockSize, i*blockSize:i*blockSize+blockSize] = distEuc(data1)\n",
      "    \n",
      "    sys.stdout.write('\\r' + \"Row Frames \" + np.string_(i*blockSize) + \" to \" + np.string_(i*blockSize+blockSize-1) + \" in \" + np.string_(time.time() - t))\n",
      "    sys.stdout.flush()\n",
      "    print\n",
      "    \n",
      "    for j in xrange(i+1, numBlocks) :\n",
      "        \n",
      "        t = time.time()\n",
      "        \n",
      "        ##load column frames\n",
      "        f2s = np.zeros(np.hstack([frameSize[0], frameSize[1], frameSize[2], blockSize]))\n",
      "        for f, idx in zip(xrange(j*blockSize, j*blockSize+blockSize), xrange(0, blockSize)) :\n",
      "            img = np.array(cv2.cvtColor(cv2.imread(frames[f]), cv2.COLOR_BGR2RGB), dtype=np.float64)\n",
      "            if f < len(segmented) and os.path.isfile(segmented[f]) :\n",
      "                alpha = np.array(Image.open(segmented[f]), dtype=np.float64)[:, :, -1]/255.0\n",
      "                f2s[:, :, :, idx] = (img/255.0)*np.reshape(alpha, (alpha.shape[0], alpha.shape[1], 1))\n",
      "            else :\n",
      "                if f < len(mattes) and os.path.isfile(mattes[f]) :\n",
      "                    alpha = np.array(cv2.cvtColor(cv2.imread(mattes[f]), cv2.COLOR_BGR2GRAY), dtype=np.float64)/255.0\n",
      "                    f2s[:, :, :, idx] = (img/255.0)*np.repeat(np.reshape(alpha, (alpha.shape[0], alpha.shape[1], 1)), 3, axis=-1)\n",
      "                else :\n",
      "                    f2s[:, :, :, idx] = img/255.0\n",
      "    #             f2s[:, :, :, idx] = np.array(cv2.cvtColor(cv2.imread(frames[f]), cv2.COLOR_BGR2RGB))/255.0\n",
      "            \n",
      "        ##compute distance between every pair of row-column frames\n",
      "        data2 = np.reshape(f2s, [np.prod(f2s.shape[0:-1]), f2s.shape[-1]]).T\n",
      "        distanceMatrix[i*blockSize:i*blockSize+blockSize, j*blockSize:j*blockSize+blockSize] = distEuc2(data1, data2)\n",
      "        distanceMatrix[j*blockSize:j*blockSize+blockSize, i*blockSize:i*blockSize+blockSize] = distanceMatrix[i*blockSize:i*blockSize+blockSize, j*blockSize:j*blockSize+blockSize].T\n",
      "    \n",
      "        sys.stdout.write('\\r' + \"Column Frames \" + np.string_(j*blockSize) + \" to \" + np.string_(j*blockSize+blockSize-1) + \" in \" + np.string_(time.time() - t))\n",
      "        sys.stdout.flush()\n",
      "        print\n",
      "\n",
      "figure(); imshow(distanceMatrix, interpolation='nearest')\n",
      "print\n",
      "print \"finished in\", time.time() - s"
     ],
     "language": "python",
     "metadata": {},
     "outputs": [
      {
       "output_type": "stream",
       "stream": "stdout",
       "text": [
        "606 2 303\n",
        "(303, 2764800)"
       ]
      },
      {
       "output_type": "stream",
       "stream": "stdout",
       "text": [
        "\n",
        "\r",
        "Row Frames 0 to 302 in 38.4012029171"
       ]
      },
      {
       "output_type": "stream",
       "stream": "stdout",
       "text": [
        "\n",
        "\r",
        "Column Frames 303 to 605 in 55.5545852184"
       ]
      },
      {
       "output_type": "stream",
       "stream": "stdout",
       "text": [
        "\n",
        "(303, 2764800)"
       ]
      },
      {
       "output_type": "stream",
       "stream": "stdout",
       "text": [
        "\n",
        "\r",
        "Row Frames 303 to 605 in 36.9999651909"
       ]
      },
      {
       "output_type": "stream",
       "stream": "stdout",
       "text": [
        "\n",
        "\n"
       ]
      },
      {
       "output_type": "stream",
       "stream": "stdout",
       "text": [
        "finished in 131.210582972\n"
       ]
      }
     ],
     "prompt_number": 4
    },
    {
     "cell_type": "code",
     "collapsed": false,
     "input": [
      "np.save(dataFolder+sampleData+\"toy1-vanilla_distMat.npy\", distanceMatrix)"
     ],
     "language": "python",
     "metadata": {},
     "outputs": [],
     "prompt_number": 5
    },
    {
     "cell_type": "code",
     "collapsed": false,
     "input": [
      "## divide data into subblocks and compute cosine based distance\n",
      "st = time.time()\n",
      "numBlocks = 8\n",
      "blockSize = numFrames/numBlocks\n",
      "print numFrames, numBlocks, blockSize\n",
      "distanceMatrix = np.zeros([numFrames, numFrames])\n",
      "\n",
      "blocksPerDim = 16\n",
      "subDivisions = blocksPerDim**2\n",
      "featureMatrix = np.zeros([numFrames, numFrames, subDivisions])\n",
      "\n",
      "## given block sizes and img sizes build indices representing each block\n",
      "imageSize = np.array(cv2.cvtColor(cv2.imread(frames[0]), cv2.COLOR_BGR2RGB)).shape\n",
      "stencils = []\n",
      "bRows = imageSize[0]/blocksPerDim\n",
      "bCols = imageSize[1]/blocksPerDim\n",
      "for r in xrange(0, blocksPerDim) :\n",
      "    for c in xrange(0, blocksPerDim) :\n",
      "        idx = c + r*blocksPerDim\n",
      "        stencil = np.zeros(imageSize, dtype=int)\n",
      "        stencil[r*bRows:r*bRows+bRows, c*bCols:c*bCols+bCols] = np.ones((bRows, bCols, imageSize[-1]))\n",
      "        stencils.append(list(np.argwhere(stencil==1).T))\n",
      "    \n",
      "for i in xrange(0, numBlocks) :\n",
      "    \n",
      "    t = time.time()\n",
      "    \n",
      "    ##load row frames\n",
      "#     f1s = np.zeros(np.hstack([frameSize[0], frameSize[1], frameSize[2], blockSize]))\n",
      "    data1 = np.zeros((blockSize, bRows*bCols*frameSize[-1], subDivisions))\n",
      "    for f, idx in zip(xrange(i*blockSize, i*blockSize+blockSize), xrange(0, blockSize)) :\n",
      "        img = np.array(cv2.cvtColor(cv2.imread(frames[f]), cv2.COLOR_BGR2RGB))/255.0\n",
      "        if os.path.isfile(mattes[f]) :\n",
      "            alpha = np.array(cv2.cvtColor(cv2.imread(mattes[f]), cv2.COLOR_BGR2GRAY))/255.0\n",
      "            img *= np.repeat(np.reshape(alpha, (alpha.shape[0], alpha.shape[1], 1)), 3, axis=-1)\n",
      "#         else :\n",
      "#             img /= 255.0\n",
      "            \n",
      "#         f1s[:, :, :, idx] = img\n",
      "    \n",
      "        ## use stencils to divide the image into blocks\n",
      "        for s in xrange(0, len(stencils)) :\n",
      "            index = s + idx*len(stencils)\n",
      "            data1[idx, :, s] = img[stencils[s]]\n",
      "    \n",
      "    ## get l2 distance between sublocks to build the feature vectors for each image\n",
      "    features = np.zeros((blockSize, blockSize, subDivisions))\n",
      "    for s in xrange(0, subDivisions) :\n",
      "        features[:, :, s] = distEuc(data1[:, :, s])\n",
      "    \n",
      "    ## normalize\n",
      "    norms = np.repeat(np.reshape(np.linalg.norm(features, axis=-1), (blockSize, blockSize, 1)), subDivisions, axis=-1)\n",
      "    norms += np.repeat(np.reshape(np.eye(features.shape[0]), (blockSize, blockSize, 1)), subDivisions, axis=-1)\n",
      "    features /= norms\n",
      "    \n",
      "    distanceMatrix[i*blockSize:i*blockSize+blockSize, i*blockSize:i*blockSize+blockSize] = np.exp(-np.sum(features, axis=-1)) * (1-np.eye(features.shape[0]))\n",
      "    featureMatrix[i*blockSize:i*blockSize+blockSize, i*blockSize:i*blockSize+blockSize, :] = np.copy(features)\n",
      "    \n",
      "    sys.stdout.write('\\r' + \"Row Frames \" + np.string_(i*blockSize) + \" to \" + np.string_(i*blockSize+blockSize-1) + \" in \" + np.string_(time.time() - t))\n",
      "    sys.stdout.flush()\n",
      "    print\n",
      "    \n",
      "    for j in xrange(i+1, numBlocks) :\n",
      "        \n",
      "        t = time.time()\n",
      "        \n",
      "        ##load column frames\n",
      "#         f2s = np.zeros(np.hstack([frameSize[0], frameSize[1], frameSize[2], blockSize]))\n",
      "        data2 = np.zeros((blockSize, bRows*bCols*frameSize[-1], subDivisions))\n",
      "        for f, idx in zip(xrange(j*blockSize, j*blockSize+blockSize), xrange(0, blockSize)) :\n",
      "            img = np.array(cv2.cvtColor(cv2.imread(frames[f]), cv2.COLOR_BGR2RGB))/255.0\n",
      "            if os.path.isfile(mattes[f]) :\n",
      "                alpha = np.array(cv2.cvtColor(cv2.imread(mattes[f]), cv2.COLOR_BGR2GRAY))/255.0\n",
      "                img *= np.repeat(np.reshape(alpha, (alpha.shape[0], alpha.shape[1], 1)), 3, axis=-1)\n",
      "#             else :\n",
      "#                 img = img/255.0\n",
      "            \n",
      "#             f2s[:, :, :, idx] = img\n",
      "            \n",
      "            ## use stencils to divide the image into blocks\n",
      "            for s in xrange(0, len(stencils)) :\n",
      "                index = s + idx*len(stencils)\n",
      "                data2[idx, :, s] = img[stencils[s]]\n",
      "        \n",
      "        ## get l2 distance between sublocks to build the feature vectors for each image\n",
      "        features = np.zeros((blockSize, blockSize, subDivisions))\n",
      "        for s in xrange(0, subDivisions) :\n",
      "            features[:, :, s] = distEuc2(data1[:, :, s], data2[:, :, s])\n",
      "        \n",
      "        ## normalize\n",
      "        norms = np.repeat(np.reshape(np.linalg.norm(features, axis=-1), (blockSize, blockSize, 1)), subDivisions, axis=-1)\n",
      "#         norms += np.repeat(np.reshape(np.eye(features.shape[0]), (blockSize, blockSize, 1)), subDivisions, axis=-1)\n",
      "        features /= norms\n",
      "        \n",
      "        distanceMatrix[i*blockSize:i*blockSize+blockSize, j*blockSize:j*blockSize+blockSize] = np.exp(-np.sum(features, axis=-1))# * (1-np.eye(features.shape[0]))\n",
      "        distanceMatrix[j*blockSize:j*blockSize+blockSize, i*blockSize:i*blockSize+blockSize] = distanceMatrix[i*blockSize:i*blockSize+blockSize, j*blockSize:j*blockSize+blockSize].T\n",
      "        featureMatrix[i*blockSize:i*blockSize+blockSize, j*blockSize:j*blockSize+blockSize, :] = np.copy(features)\n",
      "        featureMatrix[j*blockSize:j*blockSize+blockSize, i*blockSize:i*blockSize+blockSize, :] = np.transpose(featureMatrix[i*blockSize:i*blockSize+blockSize, j*blockSize:j*blockSize+blockSize, :], axes=(1,0,2))\n",
      "    \n",
      "        sys.stdout.write('\\r' + \"Column Frames \" + np.string_(j*blockSize) + \" to \" + np.string_(j*blockSize+blockSize-1) + \" in \" + np.string_(time.time() - t))\n",
      "        sys.stdout.flush()\n",
      "        print\n",
      "\n",
      "figure(); imshow(distanceMatrix, interpolation='nearest')\n",
      "print\n",
      "print \"finished in\", time.time() - st"
     ],
     "language": "python",
     "metadata": {},
     "outputs": [
      {
       "output_type": "stream",
       "stream": "stdout",
       "text": [
        "1280 8 160\n",
        "\r",
        "Row Frames 0 to 159 in 49.3338961601"
       ]
      },
      {
       "output_type": "stream",
       "stream": "stdout",
       "text": [
        "\n",
        "\r",
        "Column Frames 160 to 319 in 54.1877989769"
       ]
      },
      {
       "output_type": "stream",
       "stream": "stdout",
       "text": [
        "\n",
        "\r",
        "Column Frames 320 to 479 in 53.5743288994"
       ]
      },
      {
       "output_type": "stream",
       "stream": "stdout",
       "text": [
        "\n",
        "\r",
        "Column Frames 480 to 639 in 56.0631659031"
       ]
      },
      {
       "output_type": "stream",
       "stream": "stdout",
       "text": [
        "\n",
        "\r",
        "Column Frames 640 to 799 in 56.7187378407"
       ]
      },
      {
       "output_type": "stream",
       "stream": "stdout",
       "text": [
        "\n",
        "\r",
        "Column Frames 800 to 959 in 56.3913459778"
       ]
      },
      {
       "output_type": "stream",
       "stream": "stdout",
       "text": [
        "\n",
        "\r",
        "Column Frames 960 to 1119 in 57.7672178745"
       ]
      },
      {
       "output_type": "stream",
       "stream": "stdout",
       "text": [
        "\n",
        "\r",
        "Column Frames 1120 to 1279 in 55.4108638763"
       ]
      },
      {
       "output_type": "stream",
       "stream": "stdout",
       "text": [
        "\n",
        "\r",
        "Row Frames 160 to 319 in 49.3975491524"
       ]
      },
      {
       "output_type": "stream",
       "stream": "stdout",
       "text": [
        "\n",
        "\r",
        "Column Frames 320 to 479 in 54.8099429607"
       ]
      },
      {
       "output_type": "stream",
       "stream": "stdout",
       "text": [
        "\n",
        "\r",
        "Column Frames 480 to 639 in 54.5401620865"
       ]
      },
      {
       "output_type": "stream",
       "stream": "stdout",
       "text": [
        "\n",
        "\r",
        "Column Frames 640 to 799 in 55.4271261692"
       ]
      },
      {
       "output_type": "stream",
       "stream": "stdout",
       "text": [
        "\n",
        "\r",
        "Column Frames 800 to 959 in 55.0469810963"
       ]
      },
      {
       "output_type": "stream",
       "stream": "stdout",
       "text": [
        "\n",
        "\r",
        "Column Frames 960 to 1119 in 54.7589430809"
       ]
      },
      {
       "output_type": "stream",
       "stream": "stdout",
       "text": [
        "\n",
        "\r",
        "Column Frames 1120 to 1279 in 54.4837977886"
       ]
      },
      {
       "output_type": "stream",
       "stream": "stdout",
       "text": [
        "\n",
        "\r",
        "Row Frames 320 to 479 in 49.2062621117"
       ]
      },
      {
       "output_type": "stream",
       "stream": "stdout",
       "text": [
        "\n",
        "\r",
        "Column Frames 480 to 639 in 54.7980968952"
       ]
      },
      {
       "output_type": "stream",
       "stream": "stdout",
       "text": [
        "\n",
        "\r",
        "Column Frames 640 to 799 in 55.1470661163"
       ]
      },
      {
       "output_type": "stream",
       "stream": "stdout",
       "text": [
        "\n",
        "\r",
        "Column Frames 800 to 959 in 55.4058570862"
       ]
      },
      {
       "output_type": "stream",
       "stream": "stdout",
       "text": [
        "\n",
        "\r",
        "Column Frames 960 to 1119 in 54.8850169182"
       ]
      },
      {
       "output_type": "stream",
       "stream": "stdout",
       "text": [
        "\n",
        "\r",
        "Column Frames 1120 to 1279 in 55.02835989"
       ]
      },
      {
       "output_type": "stream",
       "stream": "stdout",
       "text": [
        "\n",
        "\r",
        "Row Frames 480 to 639 in 49.3432261944"
       ]
      },
      {
       "output_type": "stream",
       "stream": "stdout",
       "text": [
        "\n",
        "\r",
        "Column Frames 640 to 799 in 56.0192170143"
       ]
      },
      {
       "output_type": "stream",
       "stream": "stdout",
       "text": [
        "\n",
        "\r",
        "Column Frames 800 to 959 in 55.6183059216"
       ]
      },
      {
       "output_type": "stream",
       "stream": "stdout",
       "text": [
        "\n",
        "\r",
        "Column Frames 960 to 1119 in 56.5308361053"
       ]
      },
      {
       "output_type": "stream",
       "stream": "stdout",
       "text": [
        "\n",
        "\r",
        "Column Frames 1120 to 1279 in 55.862621069"
       ]
      },
      {
       "output_type": "stream",
       "stream": "stdout",
       "text": [
        "\n",
        "\r",
        "Row Frames 640 to 799 in 49.5667719841"
       ]
      },
      {
       "output_type": "stream",
       "stream": "stdout",
       "text": [
        "\n",
        "\r",
        "Column Frames 800 to 959 in 55.1650779247"
       ]
      },
      {
       "output_type": "stream",
       "stream": "stdout",
       "text": [
        "\n",
        "\r",
        "Column Frames 960 to 1119 in 63.3212051392"
       ]
      },
      {
       "output_type": "stream",
       "stream": "stdout",
       "text": [
        "\n",
        "\r",
        "Column Frames 1120 to 1279 in 65.3238317966"
       ]
      },
      {
       "output_type": "stream",
       "stream": "stdout",
       "text": [
        "\n",
        "\r",
        "Row Frames 800 to 959 in 47.9113469124"
       ]
      },
      {
       "output_type": "stream",
       "stream": "stdout",
       "text": [
        "\n",
        "\r",
        "Column Frames 960 to 1119 in 53.8137209415"
       ]
      },
      {
       "output_type": "stream",
       "stream": "stdout",
       "text": [
        "\n",
        "\r",
        "Column Frames 1120 to 1279 in 53.6994140148"
       ]
      },
      {
       "output_type": "stream",
       "stream": "stdout",
       "text": [
        "\n",
        "\r",
        "Row Frames 960 to 1119 in 48.4886758327"
       ]
      },
      {
       "output_type": "stream",
       "stream": "stdout",
       "text": [
        "\n",
        "\r",
        "Column Frames 1120 to 1279 in 54.4515900612"
       ]
      },
      {
       "output_type": "stream",
       "stream": "stdout",
       "text": [
        "\n",
        "\r",
        "Row Frames 1120 to 1279 in 48.4621560574"
       ]
      },
      {
       "output_type": "stream",
       "stream": "stdout",
       "text": [
        "\n",
        "\n"
       ]
      },
      {
       "output_type": "stream",
       "stream": "stdout",
       "text": [
        "finished in 1961.39948511\n"
       ]
      }
     ],
     "prompt_number": 7
    },
    {
     "cell_type": "code",
     "collapsed": false,
     "input": [
      "featureMatrix = np.load(outputData + \"gridFeatures.npy\")"
     ],
     "language": "python",
     "metadata": {},
     "outputs": [],
     "prompt_number": 15
    },
    {
     "cell_type": "code",
     "collapsed": false,
     "input": [
      "#gwv.showCustomGraph(distanceMatrix)#featureMatrix[:, :, 9])\n",
      "np.save(outputData + \"gridFeatures.npy\", featureMatrix)"
     ],
     "language": "python",
     "metadata": {},
     "outputs": [],
     "prompt_number": 8
    },
    {
     "cell_type": "code",
     "collapsed": false,
     "input": [
      "blocksPerDim = 16\n",
      "gwv.showCustomGraph(featureMatrix[1165, 1166, :].reshape((blocksPerDim, blocksPerDim)))\n",
      "gwv.showCustomGraph(featureMatrix[717, 1166, :].reshape((blocksPerDim, blocksPerDim)))\n",
      "# print distanceMatrix[1165, 1166], distanceMatrix[717, 1166]\n",
      "print np.sum(featureMatrix[1165, 1166, :]), np.sum(featureMatrix[717, 1166, :])\n",
      "print np.exp(-np.sum(featureMatrix[1165, 1166, :])), np.exp(-np.sum(featureMatrix[717, 1166, :]))\n",
      "gwv.showCustomGraph(np.sum(featureMatrix, axis=-1))"
     ],
     "language": "python",
     "metadata": {},
     "outputs": [
      {
       "output_type": "stream",
       "stream": "stdout",
       "text": [
        "4.04565542974 5.62020119962\n",
        "0.0174982320348 0.00362391190593\n"
       ]
      }
     ],
     "prompt_number": 7
    },
    {
     "cell_type": "code",
     "collapsed": false,
     "input": [
      "print np.sum(featureMatrix[0, 7, :]), np.sum(featureMatrix[0, 12, :]), np.exp(-np.sum(featureMatrix[0, 7, :])), np.exp(-np.sum(featureMatrix[0, 12, :]))"
     ],
     "language": "python",
     "metadata": {},
     "outputs": [
      {
       "output_type": "stream",
       "stream": "stdout",
       "text": [
        "2.08694085272 3.57548785575 0.124066092329 0.0280017616209\n"
       ]
      }
     ],
     "prompt_number": 27
    },
    {
     "cell_type": "code",
     "collapsed": false,
     "input": [
      "distanceMatrix16subs = np.copy(distanceMatrix)"
     ],
     "language": "python",
     "metadata": {},
     "outputs": [],
     "prompt_number": 29
    },
    {
     "cell_type": "code",
     "collapsed": false,
     "input": [
      "f1s = np.zeros(np.hstack([frameSize[0], frameSize[1], frameSize[2], blockSize]))\n",
      "i = 0\n",
      "# data1 = np.zeros((movie.shape[-1]*subDivisions, bRows*bCols*frameSize[-1]))\n",
      "data1 = np.zeros((blockSize, bRows*bCols*frameSize[-1], subDivisions))\n",
      "for f, idx in zip(xrange(i*blockSize, i*blockSize+blockSize), xrange(0, blockSize)) :\n",
      "    img = np.array(cv2.cvtColor(cv2.imread(frames[f]), cv2.COLOR_BGR2RGB))/255.0\n",
      "    if os.path.isfile(mattes[f]) :\n",
      "        alpha = np.array(cv2.cvtColor(cv2.imread(mattes[f]), cv2.COLOR_BGR2GRAY))/255.0\n",
      "        img *= np.repeat(np.reshape(alpha, (alpha.shape[0], alpha.shape[1], 1)), 3, axis=-1)\n",
      "#         else :\n",
      "#             img /= 255.0\n",
      "        \n",
      "    f1s[:, :, :, idx] = img\n",
      "    for s in xrange(0, len(stencils)) :\n",
      "        index = s + idx*len(stencils)\n",
      "#         data1[index, :] = img[stencils[s]]\n",
      "        data1[idx, :, s] = img[stencils[s]]\n",
      "\n",
      "print data1.shape\n",
      "# data1 = np.reshape(f1s, [np.prod(f1s.shape[0:-1]), f1s.shape[-1]]).T\n",
      "# print data1.shape\n",
      "\n",
      "features = np.zeros((blockSize, blockSize, subDivisions))\n",
      "for s in xrange(0, subDivisions) :\n",
      "    features[:, :, s] = distEuc2(data1[:, :, s], data1[:, :, s])\n",
      "\n",
      "## normalize\n",
      "norms = np.repeat(np.reshape(np.linalg.norm(features, axis=-1), (blockSize, blockSize, 1)), subDivisions, axis=-1)\n",
      "norms += np.repeat(np.reshape(np.eye(features.shape[0]), (blockSize, blockSize, 1)), subDivisions, axis=-1)\n",
      "features /= norms\n",
      "\n",
      "distMat = np.exp(-np.sum(features, axis=-1))\n",
      "distMat *= 1-np.eye(distMat.shape[0])"
     ],
     "language": "python",
     "metadata": {},
     "outputs": []
    },
    {
     "cell_type": "code",
     "collapsed": false,
     "input": [
      "print stencils[0]"
     ],
     "language": "python",
     "metadata": {},
     "outputs": [
      {
       "output_type": "stream",
       "stream": "stdout",
       "text": [
        "[array([ 0,  0,  0, ..., 59, 59, 59]), array([ 0,  0,  0, ..., 59, 59, 59]), array([0, 1, 2, ..., 0, 1, 2])]\n"
       ]
      }
     ],
     "prompt_number": 15
    },
    {
     "cell_type": "code",
     "collapsed": false,
     "input": [
      "f = 0\n",
      "img = np.array(cv2.cvtColor(cv2.imread(frames[f]), cv2.COLOR_BGR2RGB))\n",
      "if os.path.isfile(mattes[f]) :\n",
      "    alpha = np.array(cv2.cvtColor(cv2.imread(mattes[f]), cv2.COLOR_BGR2GRAY))/255.0\n",
      "    alphaed = (img/255.0)*np.repeat(np.reshape(alpha, (alpha.shape[0], alpha.shape[1], 1)), 3, axis=-1)\n",
      "else :\n",
      "    alphaed = img/255.0\n",
      "figure(); imshow(alphaed)\n",
      "figure(); imshow(alpha)"
     ],
     "language": "python",
     "metadata": {},
     "outputs": [
      {
       "metadata": {},
       "output_type": "pyout",
       "prompt_number": 19,
       "text": [
        "<matplotlib.image.AxesImage at 0x7f7dbf4923d0>"
       ]
      }
     ],
     "prompt_number": 19
    },
    {
     "cell_type": "code",
     "collapsed": false,
     "input": [
      "print 1280/8"
     ],
     "language": "python",
     "metadata": {},
     "outputs": [
      {
       "output_type": "stream",
       "stream": "stdout",
       "text": [
        "160\n"
       ]
      }
     ],
     "prompt_number": 23
    },
    {
     "cell_type": "code",
     "collapsed": false,
     "input": [
      "np.save(outputData + \"distMat\", distanceMatrix)"
     ],
     "language": "python",
     "metadata": {},
     "outputs": [],
     "prompt_number": 7
    },
    {
     "cell_type": "code",
     "collapsed": false,
     "input": [
      "s = time.time()\n",
      "if numFrames > 0 :\n",
      "    frameSize = cv2.imread(frames[0]).shape\n",
      "    movie = np.zeros(np.hstack([frameSize[0], frameSize[1], frameSize[2], numFrames]))\n",
      "    for i in range(0, numFrames) :\n",
      "        im = np.array(cv2.cvtColor(cv2.imread(frames[i]), cv2.COLOR_BGR2RGB))#/255.0\n",
      "        movie[:, :, :, i] = im#np.dot(im[:,:,:3], [0.0722, 0.7152, 0.2126])   # matlab RGB2GRAY multiplies [0.299, 0.587, 0.144] but cv2 is BGR\n",
      "        \n",
      "print 'Movie has shape', movie.shape\n",
      "distanceMatrix1 = np.zeros([movie.shape[3], movie.shape[3]])\n",
      "data = np.reshape(movie/255.0, [np.prod(movie.shape[0:-1]), movie.shape[-1]]).T\n",
      "distanceMatrix1 = distEuc2(data, data)\n",
      "figure(); imshow(distanceMatrix1, interpolation='nearest')\n",
      "print\n",
      "print \"finished in\", time.time() - s"
     ],
     "language": "python",
     "metadata": {},
     "outputs": [
      {
       "output_type": "stream",
       "stream": "stdout",
       "text": [
        "Movie has shape (240, 240, 3, 66)\n",
        "(66,)"
       ]
      },
      {
       "output_type": "stream",
       "stream": "stdout",
       "text": [
        "\n",
        "(66,)\n",
        "askdfh (66, 66) (66, 66)\n",
        "\n"
       ]
      },
      {
       "output_type": "stream",
       "stream": "stdout",
       "text": [
        "finished in 1.2457780838\n"
       ]
      }
     ],
     "prompt_number": 75
    },
    {
     "cell_type": "code",
     "collapsed": false,
     "input": [
      "print distanceMatrix1[0:blockSize, blockSize:blockSize+blockSize]"
     ],
     "language": "python",
     "metadata": {},
     "outputs": [
      {
       "output_type": "stream",
       "stream": "stdout",
       "text": [
        "[[ 11.17567386   9.27806672  12.66016163 ...,  31.2307489   35.37335658\n",
        "   41.90399786]\n",
        " [  9.54487006  13.5124355   15.25358833 ...,  32.46859613  36.71980254\n",
        "   41.17689206]\n",
        " [ 13.66511258  16.05835044  17.45194269 ...,  33.66882883  37.94652503\n",
        "   42.45735441]\n",
        " ..., \n",
        " [ 18.07631607  19.7529622   20.82054703 ...,  35.87411327  40.15672258\n",
        "   44.54070569]\n",
        " [ 15.3064219   17.66135761  19.0215281  ...,  34.90124784  39.19588363\n",
        "   43.51543584]\n",
        " [ 11.0029621   14.36717231  16.14921102 ...,  33.52303712  37.92180424\n",
        "   42.22312877]]\n"
       ]
      }
     ],
     "prompt_number": 78
    },
    {
     "cell_type": "code",
     "collapsed": false,
     "input": [
      "print distanceMatrix[0:blockSize, blockSize:blockSize+blockSize]"
     ],
     "language": "python",
     "metadata": {},
     "outputs": [
      {
       "output_type": "stream",
       "stream": "stdout",
       "text": [
        "[[ 10.47302388  14.4535502   17.71082814 ...,  18.37513364  15.22947273\n",
        "   11.17567386]\n",
        " [  0.          10.74957828  15.32326433 ...,  15.9030995   11.40519317\n",
        "    9.54487006]\n",
        " [ 10.74957828   0.          10.7734819  ...,  10.85914289   9.18581726\n",
        "   13.66511258]\n",
        " ..., \n",
        " [ 18.61223238  15.14534885  10.40763331 ...,  10.39934934  14.76558339\n",
        "   18.07631607]\n",
        " [ 15.9030995   10.85914289   9.29115366 ...,   0.          10.90591831\n",
        "   15.3064219 ]\n",
        " [ 11.40519317   9.18581726  13.78046581 ...,  10.90591831   0.          11.0029621 ]]\n"
       ]
      }
     ],
     "prompt_number": 79
    },
    {
     "cell_type": "code",
     "collapsed": false,
     "input": [
      "# numFrames = 3\n",
      "distanceMatrix = np.zeros([numFrames, numFrames])\n",
      "s = time.time()\n",
      "for i in range(0, numFrames) :\n",
      "    p = np.ndarray.flatten(np.array(cv2.cvtColor(cv2.imread(frames[i]), cv2.COLOR_BGR2RGB))/255.0)\n",
      "    t = time.time()\n",
      "#     print p.shape\n",
      "    for j in range(i+1, numFrames) :\n",
      "        ## len(q-p) = sqrt(len(q)^2+len(p)^2 - 2*dot(p, q)) where p and q are two images in vector format and 1xN size\n",
      "        q = np.ndarray.flatten(np.array(cv2.cvtColor(cv2.imread(frames[j]), cv2.COLOR_BGR2RGB))/255.0)\n",
      "        distanceMatrix[j, i] = distanceMatrix[i, j] = np.sqrt(np.linalg.norm(q)**2+np.linalg.norm(p)**2 - 2*np.dot(p, q))\n",
      "#         distanceMatrix[j, i] = distanceMatrix[i, j] = np.linalg.norm(q-p)\n",
      "#         print distanceMatrix[j, i],\n",
      "    sys.stdout.write('\\r' + \"Frame \" + np.string_(i) + \" of \" + np.string_(numFrames) + \" in \" + np.string_(time.time() - t))\n",
      "    sys.stdout.flush()\n",
      "figure(); imshow(distanceMatrix, interpolation='nearest')\n",
      "print\n",
      "print \"finished in\", time.time() - s"
     ],
     "language": "python",
     "metadata": {},
     "outputs": [
      {
       "output_type": "stream",
       "stream": "stdout",
       "text": [
        "\r",
        "Frame 0 of 66 in 0.279089927673"
       ]
      },
      {
       "output_type": "stream",
       "stream": "stdout",
       "text": [
        "\r",
        "Frame 1 of 66 in 0.262724161148"
       ]
      },
      {
       "output_type": "stream",
       "stream": "stdout",
       "text": [
        "\r",
        "Frame 2 of 66 in 0.2661921978"
       ]
      },
      {
       "output_type": "stream",
       "stream": "stdout",
       "text": [
        "\r",
        "Frame 3 of 66 in 0.252657175064"
       ]
      },
      {
       "output_type": "stream",
       "stream": "stdout",
       "text": [
        "\r",
        "Frame 4 of 66 in 0.246515989304"
       ]
      },
      {
       "output_type": "stream",
       "stream": "stdout",
       "text": [
        "\r",
        "Frame 5 of 66 in 0.248393058777"
       ]
      },
      {
       "output_type": "stream",
       "stream": "stdout",
       "text": [
        "\r",
        "Frame 6 of 66 in 0.241777896881"
       ]
      },
      {
       "output_type": "stream",
       "stream": "stdout",
       "text": [
        "\r",
        "Frame 7 of 66 in 0.233123064041"
       ]
      },
      {
       "output_type": "stream",
       "stream": "stdout",
       "text": [
        "\r",
        "Frame 8 of 66 in 0.232068061829"
       ]
      },
      {
       "output_type": "stream",
       "stream": "stdout",
       "text": [
        "\r",
        "Frame 9 of 66 in 0.226457834244"
       ]
      },
      {
       "output_type": "stream",
       "stream": "stdout",
       "text": [
        "\r",
        "Frame 10 of 66 in 0.223256111145"
       ]
      },
      {
       "output_type": "stream",
       "stream": "stdout",
       "text": [
        "\r",
        "Frame 11 of 66 in 0.221013069153"
       ]
      },
      {
       "output_type": "stream",
       "stream": "stdout",
       "text": [
        "\r",
        "Frame 12 of 66 in 0.212456941605"
       ]
      },
      {
       "output_type": "stream",
       "stream": "stdout",
       "text": [
        "\r",
        "Frame 13 of 66 in 0.209338903427"
       ]
      },
      {
       "output_type": "stream",
       "stream": "stdout",
       "text": [
        "\r",
        "Frame 14 of 66 in 0.206727027893"
       ]
      },
      {
       "output_type": "stream",
       "stream": "stdout",
       "text": [
        "\r",
        "Frame 15 of 66 in 0.202167034149"
       ]
      },
      {
       "output_type": "stream",
       "stream": "stdout",
       "text": [
        "\r",
        "Frame 16 of 66 in 0.197742938995"
       ]
      },
      {
       "output_type": "stream",
       "stream": "stdout",
       "text": [
        "\r",
        "Frame 17 of 66 in 0.197292804718"
       ]
      },
      {
       "output_type": "stream",
       "stream": "stdout",
       "text": [
        "\r",
        "Frame 18 of 66 in 0.193111896515"
       ]
      },
      {
       "output_type": "stream",
       "stream": "stdout",
       "text": [
        "\r",
        "Frame 19 of 66 in 0.185876846313"
       ]
      },
      {
       "output_type": "stream",
       "stream": "stdout",
       "text": [
        "\r",
        "Frame 20 of 66 in 0.181474208832"
       ]
      },
      {
       "output_type": "stream",
       "stream": "stdout",
       "text": [
        "\r",
        "Frame 21 of 66 in 0.179843902588"
       ]
      },
      {
       "output_type": "stream",
       "stream": "stdout",
       "text": [
        "\r",
        "Frame 22 of 66 in 0.174144983292"
       ]
      },
      {
       "output_type": "stream",
       "stream": "stdout",
       "text": [
        "\r",
        "Frame 23 of 66 in 0.168337106705"
       ]
      },
      {
       "output_type": "stream",
       "stream": "stdout",
       "text": [
        "\r",
        "Frame 24 of 66 in 0.166848897934"
       ]
      },
      {
       "output_type": "stream",
       "stream": "stdout",
       "text": [
        "\r",
        "Frame 25 of 66 in 0.160906076431"
       ]
      },
      {
       "output_type": "stream",
       "stream": "stdout",
       "text": [
        "\r",
        "Frame 26 of 66 in 0.158223152161"
       ]
      },
      {
       "output_type": "stream",
       "stream": "stdout",
       "text": [
        "\r",
        "Frame 27 of 66 in 0.153589963913"
       ]
      },
      {
       "output_type": "stream",
       "stream": "stdout",
       "text": [
        "\r",
        "Frame 28 of 66 in 0.148893117905"
       ]
      },
      {
       "output_type": "stream",
       "stream": "stdout",
       "text": [
        "\r",
        "Frame 29 of 66 in 0.145374059677"
       ]
      },
      {
       "output_type": "stream",
       "stream": "stdout",
       "text": [
        "\r",
        "Frame 30 of 66 in 0.142683029175"
       ]
      },
      {
       "output_type": "stream",
       "stream": "stdout",
       "text": [
        "\r",
        "Frame 31 of 66 in 0.140752077103"
       ]
      },
      {
       "output_type": "stream",
       "stream": "stdout",
       "text": [
        "\r",
        "Frame 32 of 66 in 0.135797023773"
       ]
      },
      {
       "output_type": "stream",
       "stream": "stdout",
       "text": [
        "\r",
        "Frame 33 of 66 in 0.12975692749"
       ]
      },
      {
       "output_type": "stream",
       "stream": "stdout",
       "text": [
        "\r",
        "Frame 34 of 66 in 0.12833404541"
       ]
      },
      {
       "output_type": "stream",
       "stream": "stdout",
       "text": [
        "\r",
        "Frame 35 of 66 in 0.122220039368"
       ]
      },
      {
       "output_type": "stream",
       "stream": "stdout",
       "text": [
        "\r",
        "Frame 36 of 66 in 0.117805957794"
       ]
      },
      {
       "output_type": "stream",
       "stream": "stdout",
       "text": [
        "\r",
        "Frame 37 of 66 in 0.115044116974"
       ]
      },
      {
       "output_type": "stream",
       "stream": "stdout",
       "text": [
        "\r",
        "Frame 38 of 66 in 0.11275601387"
       ]
      },
      {
       "output_type": "stream",
       "stream": "stdout",
       "text": [
        "\r",
        "Frame 39 of 66 in 0.105520009995"
       ]
      },
      {
       "output_type": "stream",
       "stream": "stdout",
       "text": [
        "\r",
        "Frame 40 of 66 in 0.100501060486"
       ]
      },
      {
       "output_type": "stream",
       "stream": "stdout",
       "text": [
        "\r",
        "Frame 41 of 66 in 0.098925113678"
       ]
      },
      {
       "output_type": "stream",
       "stream": "stdout",
       "text": [
        "\r",
        "Frame 42 of 66 in 0.092404127121"
       ]
      },
      {
       "output_type": "stream",
       "stream": "stdout",
       "text": [
        "\r",
        "Frame 43 of 66 in 0.0912141799927"
       ]
      },
      {
       "output_type": "stream",
       "stream": "stdout",
       "text": [
        "\r",
        "Frame 44 of 66 in 0.084853887558"
       ]
      },
      {
       "output_type": "stream",
       "stream": "stdout",
       "text": [
        "\r",
        "Frame 45 of 66 in 0.0812950134277"
       ]
      },
      {
       "output_type": "stream",
       "stream": "stdout",
       "text": [
        "\r",
        "Frame 46 of 66 in 0.0771019458771"
       ]
      },
      {
       "output_type": "stream",
       "stream": "stdout",
       "text": [
        "\r",
        "Frame 47 of 66 in 0.0727009773254"
       ]
      },
      {
       "output_type": "stream",
       "stream": "stdout",
       "text": [
        "\r",
        "Frame 48 of 66 in 0.0694348812103"
       ]
      },
      {
       "output_type": "stream",
       "stream": "stdout",
       "text": [
        "\r",
        "Frame 49 of 66 in 0.0650858879089"
       ]
      },
      {
       "output_type": "stream",
       "stream": "stdout",
       "text": [
        "\r",
        "Frame 50 of 66 in 0.0624008178711"
       ]
      },
      {
       "output_type": "stream",
       "stream": "stdout",
       "text": [
        "\r",
        "Frame 51 of 66 in 0.058100938797"
       ]
      },
      {
       "output_type": "stream",
       "stream": "stdout",
       "text": [
        "\r",
        "Frame 52 of 66 in 0.0537538528442"
       ]
      },
      {
       "output_type": "stream",
       "stream": "stdout",
       "text": [
        "\r",
        "Frame 53 of 66 in 0.0488829612732"
       ]
      },
      {
       "output_type": "stream",
       "stream": "stdout",
       "text": [
        "\r",
        "Frame 54 of 66 in 0.0460360050201"
       ]
      },
      {
       "output_type": "stream",
       "stream": "stdout",
       "text": [
        "\r",
        "Frame 55 of 66 in 0.0408680438995"
       ]
      },
      {
       "output_type": "stream",
       "stream": "stdout",
       "text": [
        "\r",
        "Frame 56 of 66 in 0.0361130237579"
       ]
      },
      {
       "output_type": "stream",
       "stream": "stdout",
       "text": [
        "\r",
        "Frame 57 of 66 in 0.0320258140564"
       ]
      },
      {
       "output_type": "stream",
       "stream": "stdout",
       "text": [
        "\r",
        "Frame 58 of 66 in 0.0287020206451"
       ]
      },
      {
       "output_type": "stream",
       "stream": "stdout",
       "text": [
        "\r",
        "Frame 59 of 66 in 0.0284268856049"
       ]
      },
      {
       "output_type": "stream",
       "stream": "stdout",
       "text": [
        "\r",
        "Frame 60 of 66 in 0.023421049118"
       ]
      },
      {
       "output_type": "stream",
       "stream": "stdout",
       "text": [
        "\r",
        "Frame 61 of 66 in 0.0158681869507"
       ]
      },
      {
       "output_type": "stream",
       "stream": "stdout",
       "text": [
        "\r",
        "Frame 62 of 66 in 0.0122921466827"
       ]
      },
      {
       "output_type": "stream",
       "stream": "stdout",
       "text": [
        "\r",
        "Frame 63 of 66 in 0.00933218002319"
       ]
      },
      {
       "output_type": "stream",
       "stream": "stdout",
       "text": [
        "\r",
        "Frame 64 of 66 in 0.00404500961304"
       ]
      },
      {
       "output_type": "stream",
       "stream": "stdout",
       "text": [
        "\r",
        "Frame 65 of 66 in 1.09672546387e-05"
       ]
      },
      {
       "output_type": "stream",
       "stream": "stdout",
       "text": [
        "\n",
        "finished in 9.12017512321\n"
       ]
      }
     ],
     "prompt_number": 34
    },
    {
     "cell_type": "code",
     "collapsed": false,
     "input": [
      "print distanceMatrix"
     ],
     "language": "python",
     "metadata": {},
     "outputs": [
      {
       "output_type": "stream",
       "stream": "stdout",
       "text": [
        "[[       0.          3910017.65618704  3910017.65647359]\n",
        " [ 3910017.65618704        0.          3910017.65623104]\n",
        " [ 3910017.65647359  3910017.65623104        0.        ]]\n"
       ]
      }
     ],
     "prompt_number": 12
    },
    {
     "cell_type": "code",
     "collapsed": false,
     "input": [
      "print distanceMatrix"
     ],
     "language": "python",
     "metadata": {},
     "outputs": [
      {
       "output_type": "stream",
       "stream": "stdout",
       "text": [
        "[[  0.          48.48591277  67.44212265]\n",
        " [ 48.48591277   0.          54.20580033]\n",
        " [ 67.44212265  54.20580033   0.        ]]\n"
       ]
      }
     ],
     "prompt_number": 14
    },
    {
     "cell_type": "code",
     "collapsed": false,
     "input": [
      "print distanceMatrix"
     ],
     "language": "python",
     "metadata": {},
     "outputs": [
      {
       "output_type": "stream",
       "stream": "stdout",
       "text": [
        "[[  0.          48.48591277  67.44212265]\n",
        " [ 48.48591277   0.          54.20580033]\n",
        " [ 67.44212265  54.20580033   0.        ]]\n"
       ]
      }
     ],
     "prompt_number": 16
    }
   ],
   "metadata": {}
  }
 ]
}