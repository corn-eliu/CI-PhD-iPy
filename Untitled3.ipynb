{
 "metadata": {
  "name": "",
  "signature": "sha256:cece99a550fac87b1024610ca522175e4d13bf62fcc34c5729a10644396d3daf"
 },
 "nbformat": 3,
 "nbformat_minor": 0,
 "worksheets": []
}