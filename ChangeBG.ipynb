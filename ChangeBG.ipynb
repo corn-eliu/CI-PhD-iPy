{
 "metadata": {
  "name": ""
 },
 "nbformat": 3,
 "nbformat_minor": 0,
 "worksheets": [
  {
   "cells": [
    {
     "cell_type": "code",
     "collapsed": false,
     "input": [
      "%pylab\n",
      "import numpy as np\n",
      "from glob import glob\n",
      "from PIL import Image\n",
      "import cv2\n",
      "import re"
     ],
     "language": "python",
     "metadata": {},
     "outputs": [
      {
       "output_type": "stream",
       "stream": "stdout",
       "text": [
        "Using matplotlib backend: TkAgg\n",
        "Populating the interactive namespace from numpy and matplotlib\n"
       ]
      }
     ],
     "prompt_number": 1
    },
    {
     "cell_type": "code",
     "collapsed": false,
     "input": [
      "def changeBGofAlphaImages(filenames, newBg) :\n",
      "    for filename in filenames:\n",
      "        image = np.array(Image.open(filename))\n",
      "        \n",
      "        alphaMatte = image[:, :, -1]\n",
      "        image = image[:, :, 0:3]\n",
      "        \n",
      "#         figure(); imshow(alphaMatte)\n",
      "        \n",
      "        \n",
      "        alphaMatte = np.repeat(np.reshape(alphaMatte, np.hstack((image.shape[0:2], 1))), image.shape[-1], axis=-1)\n",
      "        \n",
      "        newImg = (newBg/255.0)*(1-alphaMatte/255.0)+(image/255.0)*(alphaMatte/255.0)\n",
      "#         if newBg != None :\n",
      "#             newImg = (newBg/255.0)*(1-filtAlphaMatte)+(image/255.0)*filtAlphaMatte\n",
      "#         else :\n",
      "#             newImg = (image/255.0)*filtAlphaMatte\n",
      "            \n",
      "#         figure(); imshow(newImg, interpolation='nearest')\n",
      "\n",
      "        sys.stdout.write('\\r' + \"Processing \" + np.string_(filter(None, re.split('/',filename))[-1]))\n",
      "        sys.stdout.flush()\n",
      "#         imsave(np.string_('/'.join(filter(None, re.split('/',filename))[0:-1]) + \"/matte-\" + filter(None, re.split('/',filename))[-1]), filtAlphaMatte)\n",
      "        imsave(filename, newImg)"
     ],
     "language": "python",
     "metadata": {},
     "outputs": [],
     "prompt_number": 2
    },
    {
     "cell_type": "code",
     "collapsed": false,
     "input": [
      "def setAlphaToImages(imgs, mts) :\n",
      "    for img, mt in zip(imgs, mts):\n",
      "        image = cv2.imread(img, cv2.COLOR_BGR2RGB)\n",
      "        matte = Image.open(mt)\n",
      "        matte = np.reshape(np.array(matte, dtype=uint8)[:, :, 0], np.hstack((image.shape[0:2], 1)))\n",
      "#         print image.shape, matte.shape\n",
      "        \n",
      "#         figure(); imshow(image)\n",
      "#         figure(); imshow(matte)\n",
      "        \n",
      "#         newImg = np.zeros(np.hstack((image.shape[0:-1], 4)))\n",
      "#         newImg[:, :, 0:-1] = image\n",
      "#         newImg[:, :, -1] = matte\n",
      "#         figure(); imshow(newImg)        \n",
      "        \n",
      "        Image.fromstring(\"RGBA\", (image.shape[1], image.shape[0]), np.concatenate((image, matte), axis=-1).tostring()).save(img)\n",
      "        \n",
      "#         cv2.imwrite(img, cv2.cvtColor(newImg, cv2.COLOR_RGBA2BGRA))\n",
      "#         imsave(img, newImg)\n",
      "        \n",
      "#         alphaMatte = image[:, :, -1]\n",
      "#         image = image[:, :, 0:3]\n",
      "        \n",
      "# #         figure(); imshow(alphaMatte)\n",
      "        \n",
      "        \n",
      "#         alphaMatte = np.repeat(np.reshape(alphaMatte, np.hstack((image.shape[0:2], 1))), image.shape[-1], axis=-1)\n",
      "        \n",
      "#         newImg = (newBg/255.0)*(1-alphaMatte/255.0)+(image/255.0)*(alphaMatte/255.0)\n",
      "# #         if newBg != None :\n",
      "# #             newImg = (newBg/255.0)*(1-filtAlphaMatte)+(image/255.0)*filtAlphaMatte\n",
      "# #         else :\n",
      "# #             newImg = (image/255.0)*filtAlphaMatte\n",
      "            \n",
      "# #         figure(); imshow(newImg, interpolation='nearest')\n",
      "\n",
      "#         sys.stdout.write('\\r' + \"Processing \" + np.string_(filter(None, re.split('/',filename))[-1]))\n",
      "#         sys.stdout.flush()\n",
      "# #         imsave(np.string_('/'.join(filter(None, re.split('/',filename))[0:-1]) + \"/matte-\" + filter(None, re.split('/',filename))[-1]), filtAlphaMatte)\n",
      "#         imsave(filename, newImg)"
     ],
     "language": "python",
     "metadata": {},
     "outputs": [],
     "prompt_number": 3
    },
    {
     "cell_type": "code",
     "collapsed": false,
     "input": [
      "images = sorted(glob(\"../data/ribbon2_transparent/frame*.png\"))\n",
      "mattes = sorted(glob(\"../data/ribbon2_transparent/matte*.png\"))\n",
      "setAlphaToImages(images[41:], mattes[41:])"
     ],
     "language": "python",
     "metadata": {},
     "outputs": [],
     "prompt_number": 6
    },
    {
     "cell_type": "code",
     "collapsed": false,
     "input": [
      "print images[41:]"
     ],
     "language": "python",
     "metadata": {},
     "outputs": [
      {
       "output_type": "stream",
       "stream": "stdout",
       "text": [
        "['../data/ribbon2_transparent/frame-00042.png', '../data/ribbon2_transparent/frame-00043.png', '../data/ribbon2_transparent/frame-00044.png', '../data/ribbon2_transparent/frame-00045.png', '../data/ribbon2_transparent/frame-00046.png', '../data/ribbon2_transparent/frame-00047.png', '../data/ribbon2_transparent/frame-00048.png', '../data/ribbon2_transparent/frame-00049.png', '../data/ribbon2_transparent/frame-00050.png', '../data/ribbon2_transparent/frame-00051.png', '../data/ribbon2_transparent/frame-00052.png', '../data/ribbon2_transparent/frame-00053.png', '../data/ribbon2_transparent/frame-00054.png', '../data/ribbon2_transparent/frame-00055.png', '../data/ribbon2_transparent/frame-00056.png', '../data/ribbon2_transparent/frame-00057.png', '../data/ribbon2_transparent/frame-00058.png', '../data/ribbon2_transparent/frame-00059.png', '../data/ribbon2_transparent/frame-00060.png', '../data/ribbon2_transparent/frame-00061.png', '../data/ribbon2_transparent/frame-00062.png', '../data/ribbon2_transparent/frame-00063.png', '../data/ribbon2_transparent/frame-00064.png', '../data/ribbon2_transparent/frame-00065.png', '../data/ribbon2_transparent/frame-00066.png', '../data/ribbon2_transparent/frame-00067.png', '../data/ribbon2_transparent/frame-00068.png', '../data/ribbon2_transparent/frame-00069.png', '../data/ribbon2_transparent/frame-00070.png', '../data/ribbon2_transparent/frame-00071.png', '../data/ribbon2_transparent/frame-00072.png', '../data/ribbon2_transparent/frame-00073.png', '../data/ribbon2_transparent/frame-00074.png', '../data/ribbon2_transparent/frame-00075.png', '../data/ribbon2_transparent/frame-00076.png', '../data/ribbon2_transparent/frame-00077.png', '../data/ribbon2_transparent/frame-00078.png', '../data/ribbon2_transparent/frame-00079.png', '../data/ribbon2_transparent/frame-00080.png', '../data/ribbon2_transparent/frame-00081.png', '../data/ribbon2_transparent/frame-00082.png', '../data/ribbon2_transparent/frame-00083.png', '../data/ribbon2_transparent/frame-00084.png', '../data/ribbon2_transparent/frame-00085.png', '../data/ribbon2_transparent/frame-00086.png', '../data/ribbon2_transparent/frame-00087.png', '../data/ribbon2_transparent/frame-00088.png', '../data/ribbon2_transparent/frame-00089.png', '../data/ribbon2_transparent/frame-00090.png', '../data/ribbon2_transparent/frame-00091.png', '../data/ribbon2_transparent/frame-00092.png', '../data/ribbon2_transparent/frame-00093.png', '../data/ribbon2_transparent/frame-00094.png', '../data/ribbon2_transparent/frame-00095.png', '../data/ribbon2_transparent/frame-00096.png', '../data/ribbon2_transparent/frame-00097.png', '../data/ribbon2_transparent/frame-00098.png', '../data/ribbon2_transparent/frame-00099.png', '../data/ribbon2_transparent/frame-00100.png', '../data/ribbon2_transparent/frame-00101.png', '../data/ribbon2_transparent/frame-00102.png', '../data/ribbon2_transparent/frame-00103.png', '../data/ribbon2_transparent/frame-00104.png', '../data/ribbon2_transparent/frame-00105.png', '../data/ribbon2_transparent/frame-00106.png', '../data/ribbon2_transparent/frame-00107.png', '../data/ribbon2_transparent/frame-00108.png', '../data/ribbon2_transparent/frame-00109.png', '../data/ribbon2_transparent/frame-00110.png', '../data/ribbon2_transparent/frame-00111.png', '../data/ribbon2_transparent/frame-00112.png', '../data/ribbon2_transparent/frame-00113.png', '../data/ribbon2_transparent/frame-00114.png', '../data/ribbon2_transparent/frame-00115.png', '../data/ribbon2_transparent/frame-00116.png', '../data/ribbon2_transparent/frame-00117.png', '../data/ribbon2_transparent/frame-00118.png', '../data/ribbon2_transparent/frame-00119.png', '../data/ribbon2_transparent/frame-00120.png', '../data/ribbon2_transparent/frame-00121.png', '../data/ribbon2_transparent/frame-00122.png', '../data/ribbon2_transparent/frame-00123.png', '../data/ribbon2_transparent/frame-00124.png', '../data/ribbon2_transparent/frame-00125.png', '../data/ribbon2_transparent/frame-00126.png', '../data/ribbon2_transparent/frame-00127.png', '../data/ribbon2_transparent/frame-00128.png', '../data/ribbon2_transparent/frame-00129.png', '../data/ribbon2_transparent/frame-00130.png', '../data/ribbon2_transparent/frame-00131.png', '../data/ribbon2_transparent/frame-00132.png', '../data/ribbon2_transparent/frame-00133.png', '../data/ribbon2_transparent/frame-00134.png', '../data/ribbon2_transparent/frame-00135.png', '../data/ribbon2_transparent/frame-00136.png', '../data/ribbon2_transparent/frame-00137.png', '../data/ribbon2_transparent/frame-00138.png', '../data/ribbon2_transparent/frame-00139.png', '../data/ribbon2_transparent/frame-00140.png', '../data/ribbon2_transparent/frame-00141.png', '../data/ribbon2_transparent/frame-00142.png', '../data/ribbon2_transparent/frame-00143.png', '../data/ribbon2_transparent/frame-00144.png', '../data/ribbon2_transparent/frame-00145.png', '../data/ribbon2_transparent/frame-00146.png', '../data/ribbon2_transparent/frame-00147.png', '../data/ribbon2_transparent/frame-00148.png', '../data/ribbon2_transparent/frame-00149.png', '../data/ribbon2_transparent/frame-00150.png', '../data/ribbon2_transparent/frame-00151.png', '../data/ribbon2_transparent/frame-00152.png', '../data/ribbon2_transparent/frame-00153.png', '../data/ribbon2_transparent/frame-00154.png', '../data/ribbon2_transparent/frame-00155.png', '../data/ribbon2_transparent/frame-00156.png', '../data/ribbon2_transparent/frame-00157.png', '../data/ribbon2_transparent/frame-00158.png', '../data/ribbon2_transparent/frame-00159.png', '../data/ribbon2_transparent/frame-00160.png', '../data/ribbon2_transparent/frame-00161.png', '../data/ribbon2_transparent/frame-00162.png', '../data/ribbon2_transparent/frame-00163.png', '../data/ribbon2_transparent/frame-00164.png', '../data/ribbon2_transparent/frame-00165.png', '../data/ribbon2_transparent/frame-00166.png', '../data/ribbon2_transparent/frame-00167.png', '../data/ribbon2_transparent/frame-00168.png', '../data/ribbon2_transparent/frame-00169.png', '../data/ribbon2_transparent/frame-00170.png', '../data/ribbon2_transparent/frame-00171.png', '../data/ribbon2_transparent/frame-00172.png', '../data/ribbon2_transparent/frame-00173.png', '../data/ribbon2_transparent/frame-00174.png', '../data/ribbon2_transparent/frame-00175.png', '../data/ribbon2_transparent/frame-00176.png', '../data/ribbon2_transparent/frame-00177.png', '../data/ribbon2_transparent/frame-00178.png', '../data/ribbon2_transparent/frame-00179.png', '../data/ribbon2_transparent/frame-00180.png', '../data/ribbon2_transparent/frame-00181.png', '../data/ribbon2_transparent/frame-00182.png', '../data/ribbon2_transparent/frame-00183.png', '../data/ribbon2_transparent/frame-00184.png', '../data/ribbon2_transparent/frame-00185.png', '../data/ribbon2_transparent/frame-00186.png', '../data/ribbon2_transparent/frame-00187.png', '../data/ribbon2_transparent/frame-00188.png', '../data/ribbon2_transparent/frame-00189.png', '../data/ribbon2_transparent/frame-00190.png', '../data/ribbon2_transparent/frame-00191.png', '../data/ribbon2_transparent/frame-00192.png', '../data/ribbon2_transparent/frame-00193.png', '../data/ribbon2_transparent/frame-00194.png', '../data/ribbon2_transparent/frame-00195.png', '../data/ribbon2_transparent/frame-00196.png', '../data/ribbon2_transparent/frame-00197.png', '../data/ribbon2_transparent/frame-00198.png', '../data/ribbon2_transparent/frame-00199.png', '../data/ribbon2_transparent/frame-00200.png', '../data/ribbon2_transparent/frame-00201.png', '../data/ribbon2_transparent/frame-00202.png', '../data/ribbon2_transparent/frame-00203.png', '../data/ribbon2_transparent/frame-00204.png', '../data/ribbon2_transparent/frame-00205.png', '../data/ribbon2_transparent/frame-00206.png', '../data/ribbon2_transparent/frame-00207.png', '../data/ribbon2_transparent/frame-00208.png', '../data/ribbon2_transparent/frame-00209.png', '../data/ribbon2_transparent/frame-00210.png', '../data/ribbon2_transparent/frame-00211.png', '../data/ribbon2_transparent/frame-00212.png', '../data/ribbon2_transparent/frame-00213.png', '../data/ribbon2_transparent/frame-00214.png', '../data/ribbon2_transparent/frame-00215.png', '../data/ribbon2_transparent/frame-00216.png', '../data/ribbon2_transparent/frame-00217.png', '../data/ribbon2_transparent/frame-00218.png', '../data/ribbon2_transparent/frame-00219.png', '../data/ribbon2_transparent/frame-00220.png', '../data/ribbon2_transparent/frame-00221.png', '../data/ribbon2_transparent/frame-00222.png', '../data/ribbon2_transparent/frame-00223.png', '../data/ribbon2_transparent/frame-00224.png', '../data/ribbon2_transparent/frame-00225.png', '../data/ribbon2_transparent/frame-00226.png', '../data/ribbon2_transparent/frame-00227.png', '../data/ribbon2_transparent/frame-00228.png', '../data/ribbon2_transparent/frame-00229.png', '../data/ribbon2_transparent/frame-00230.png', '../data/ribbon2_transparent/frame-00231.png', '../data/ribbon2_transparent/frame-00232.png', '../data/ribbon2_transparent/frame-00233.png', '../data/ribbon2_transparent/frame-00234.png', '../data/ribbon2_transparent/frame-00235.png', '../data/ribbon2_transparent/frame-00236.png', '../data/ribbon2_transparent/frame-00237.png', '../data/ribbon2_transparent/frame-00238.png', '../data/ribbon2_transparent/frame-00239.png', '../data/ribbon2_transparent/frame-00240.png', '../data/ribbon2_transparent/frame-00241.png', '../data/ribbon2_transparent/frame-00242.png', '../data/ribbon2_transparent/frame-00243.png', '../data/ribbon2_transparent/frame-00244.png', '../data/ribbon2_transparent/frame-00245.png', '../data/ribbon2_transparent/frame-00246.png', '../data/ribbon2_transparent/frame-00247.png', '../data/ribbon2_transparent/frame-00248.png', '../data/ribbon2_transparent/frame-00249.png', '../data/ribbon2_transparent/frame-00250.png', '../data/ribbon2_transparent/frame-00251.png', '../data/ribbon2_transparent/frame-00252.png', '../data/ribbon2_transparent/frame-00253.png', '../data/ribbon2_transparent/frame-00254.png', '../data/ribbon2_transparent/frame-00255.png', '../data/ribbon2_transparent/frame-00256.png', '../data/ribbon2_transparent/frame-00257.png', '../data/ribbon2_transparent/frame-00258.png', '../data/ribbon2_transparent/frame-00259.png', '../data/ribbon2_transparent/frame-00260.png', '../data/ribbon2_transparent/frame-00261.png', '../data/ribbon2_transparent/frame-00262.png', '../data/ribbon2_transparent/frame-00263.png', '../data/ribbon2_transparent/frame-00264.png', '../data/ribbon2_transparent/frame-00265.png', '../data/ribbon2_transparent/frame-00266.png', '../data/ribbon2_transparent/frame-00267.png', '../data/ribbon2_transparent/frame-00268.png', '../data/ribbon2_transparent/frame-00269.png', '../data/ribbon2_transparent/frame-00270.png', '../data/ribbon2_transparent/frame-00271.png', '../data/ribbon2_transparent/frame-00272.png', '../data/ribbon2_transparent/frame-00273.png', '../data/ribbon2_transparent/frame-00274.png', '../data/ribbon2_transparent/frame-00275.png', '../data/ribbon2_transparent/frame-00276.png', '../data/ribbon2_transparent/frame-00277.png', '../data/ribbon2_transparent/frame-00278.png', '../data/ribbon2_transparent/frame-00279.png', '../data/ribbon2_transparent/frame-00280.png', '../data/ribbon2_transparent/frame-00281.png', '../data/ribbon2_transparent/frame-00282.png', '../data/ribbon2_transparent/frame-00283.png', '../data/ribbon2_transparent/frame-00284.png', '../data/ribbon2_transparent/frame-00285.png', '../data/ribbon2_transparent/frame-00286.png', '../data/ribbon2_transparent/frame-00287.png', '../data/ribbon2_transparent/frame-00288.png', '../data/ribbon2_transparent/frame-00289.png', '../data/ribbon2_transparent/frame-00290.png', '../data/ribbon2_transparent/frame-00291.png', '../data/ribbon2_transparent/frame-00292.png', '../data/ribbon2_transparent/frame-00293.png', '../data/ribbon2_transparent/frame-00294.png', '../data/ribbon2_transparent/frame-00295.png', '../data/ribbon2_transparent/frame-00296.png', '../data/ribbon2_transparent/frame-00297.png', '../data/ribbon2_transparent/frame-00298.png', '../data/ribbon2_transparent/frame-00299.png', '../data/ribbon2_transparent/frame-00300.png', '../data/ribbon2_transparent/frame-00301.png', '../data/ribbon2_transparent/frame-00302.png', '../data/ribbon2_transparent/frame-00303.png', '../data/ribbon2_transparent/frame-00304.png', '../data/ribbon2_transparent/frame-00305.png', '../data/ribbon2_transparent/frame-00306.png', '../data/ribbon2_transparent/frame-00307.png', '../data/ribbon2_transparent/frame-00308.png', '../data/ribbon2_transparent/frame-00309.png', '../data/ribbon2_transparent/frame-00310.png', '../data/ribbon2_transparent/frame-00311.png', '../data/ribbon2_transparent/frame-00312.png', '../data/ribbon2_transparent/frame-00313.png', '../data/ribbon2_transparent/frame-00314.png', '../data/ribbon2_transparent/frame-00315.png', '../data/ribbon2_transparent/frame-00316.png', '../data/ribbon2_transparent/frame-00317.png', '../data/ribbon2_transparent/frame-00318.png', '../data/ribbon2_transparent/frame-00319.png', '../data/ribbon2_transparent/frame-00320.png', '../data/ribbon2_transparent/frame-00321.png', '../data/ribbon2_transparent/frame-00322.png', '../data/ribbon2_transparent/frame-00323.png', '../data/ribbon2_transparent/frame-00324.png', '../data/ribbon2_transparent/frame-00325.png', '../data/ribbon2_transparent/frame-00326.png', '../data/ribbon2_transparent/frame-00327.png', '../data/ribbon2_transparent/frame-00328.png', '../data/ribbon2_transparent/frame-00329.png', '../data/ribbon2_transparent/frame-00330.png', '../data/ribbon2_transparent/frame-00331.png', '../data/ribbon2_transparent/frame-00332.png', '../data/ribbon2_transparent/frame-00333.png', '../data/ribbon2_transparent/frame-00334.png', '../data/ribbon2_transparent/frame-00335.png', '../data/ribbon2_transparent/frame-00336.png', '../data/ribbon2_transparent/frame-00337.png', '../data/ribbon2_transparent/frame-00338.png', '../data/ribbon2_transparent/frame-00339.png', '../data/ribbon2_transparent/frame-00340.png', '../data/ribbon2_transparent/frame-00341.png', '../data/ribbon2_transparent/frame-00342.png', '../data/ribbon2_transparent/frame-00343.png', '../data/ribbon2_transparent/frame-00344.png', '../data/ribbon2_transparent/frame-00345.png', '../data/ribbon2_transparent/frame-00346.png', '../data/ribbon2_transparent/frame-00347.png', '../data/ribbon2_transparent/frame-00348.png', '../data/ribbon2_transparent/frame-00349.png', '../data/ribbon2_transparent/frame-00350.png', '../data/ribbon2_transparent/frame-00351.png', '../data/ribbon2_transparent/frame-00352.png', '../data/ribbon2_transparent/frame-00353.png', '../data/ribbon2_transparent/frame-00354.png', '../data/ribbon2_transparent/frame-00355.png', '../data/ribbon2_transparent/frame-00356.png', '../data/ribbon2_transparent/frame-00357.png', '../data/ribbon2_transparent/frame-00358.png', '../data/ribbon2_transparent/frame-00359.png', '../data/ribbon2_transparent/frame-00360.png', '../data/ribbon2_transparent/frame-00361.png', '../data/ribbon2_transparent/frame-00362.png', '../data/ribbon2_transparent/frame-00363.png', '../data/ribbon2_transparent/frame-00364.png', '../data/ribbon2_transparent/frame-00365.png', '../data/ribbon2_transparent/frame-00366.png', '../data/ribbon2_transparent/frame-00367.png', '../data/ribbon2_transparent/frame-00368.png', '../data/ribbon2_transparent/frame-00369.png', '../data/ribbon2_transparent/frame-00370.png', '../data/ribbon2_transparent/frame-00371.png', '../data/ribbon2_transparent/frame-00372.png', '../data/ribbon2_transparent/frame-00373.png', '../data/ribbon2_transparent/frame-00374.png', '../data/ribbon2_transparent/frame-00375.png', '../data/ribbon2_transparent/frame-00376.png', '../data/ribbon2_transparent/frame-00377.png', '../data/ribbon2_transparent/frame-00378.png', '../data/ribbon2_transparent/frame-00379.png', '../data/ribbon2_transparent/frame-00380.png', '../data/ribbon2_transparent/frame-00381.png', '../data/ribbon2_transparent/frame-00382.png', '../data/ribbon2_transparent/frame-00383.png', '../data/ribbon2_transparent/frame-00384.png', '../data/ribbon2_transparent/frame-00385.png', '../data/ribbon2_transparent/frame-00386.png', '../data/ribbon2_transparent/frame-00387.png', '../data/ribbon2_transparent/frame-00388.png', '../data/ribbon2_transparent/frame-00389.png', '../data/ribbon2_transparent/frame-00390.png', '../data/ribbon2_transparent/frame-00391.png', '../data/ribbon2_transparent/frame-00392.png', '../data/ribbon2_transparent/frame-00393.png', '../data/ribbon2_transparent/frame-00394.png', '../data/ribbon2_transparent/frame-00395.png', '../data/ribbon2_transparent/frame-00396.png', '../data/ribbon2_transparent/frame-00397.png', '../data/ribbon2_transparent/frame-00398.png', '../data/ribbon2_transparent/frame-00399.png', '../data/ribbon2_transparent/frame-00400.png', '../data/ribbon2_transparent/frame-00401.png', '../data/ribbon2_transparent/frame-00402.png', '../data/ribbon2_transparent/frame-00403.png', '../data/ribbon2_transparent/frame-00404.png', '../data/ribbon2_transparent/frame-00405.png', '../data/ribbon2_transparent/frame-00406.png', '../data/ribbon2_transparent/frame-00407.png', '../data/ribbon2_transparent/frame-00408.png', '../data/ribbon2_transparent/frame-00409.png', '../data/ribbon2_transparent/frame-00410.png', '../data/ribbon2_transparent/frame-00411.png', '../data/ribbon2_transparent/frame-00412.png', '../data/ribbon2_transparent/frame-00413.png', '../data/ribbon2_transparent/frame-00414.png', '../data/ribbon2_transparent/frame-00415.png', '../data/ribbon2_transparent/frame-00416.png', '../data/ribbon2_transparent/frame-00417.png', '../data/ribbon2_transparent/frame-00418.png', '../data/ribbon2_transparent/frame-00419.png', '../data/ribbon2_transparent/frame-00420.png', '../data/ribbon2_transparent/frame-00421.png', '../data/ribbon2_transparent/frame-00422.png', '../data/ribbon2_transparent/frame-00423.png', '../data/ribbon2_transparent/frame-00424.png', '../data/ribbon2_transparent/frame-00425.png', '../data/ribbon2_transparent/frame-00426.png', '../data/ribbon2_transparent/frame-00427.png', '../data/ribbon2_transparent/frame-00428.png', '../data/ribbon2_transparent/frame-00429.png', '../data/ribbon2_transparent/frame-00430.png', '../data/ribbon2_transparent/frame-00431.png', '../data/ribbon2_transparent/frame-00432.png', '../data/ribbon2_transparent/frame-00433.png', '../data/ribbon2_transparent/frame-00434.png', '../data/ribbon2_transparent/frame-00435.png', '../data/ribbon2_transparent/frame-00436.png', '../data/ribbon2_transparent/frame-00437.png', '../data/ribbon2_transparent/frame-00438.png', '../data/ribbon2_transparent/frame-00439.png', '../data/ribbon2_transparent/frame-00440.png', '../data/ribbon2_transparent/frame-00441.png', '../data/ribbon2_transparent/frame-00442.png', '../data/ribbon2_transparent/frame-00443.png', '../data/ribbon2_transparent/frame-00444.png', '../data/ribbon2_transparent/frame-00445.png', '../data/ribbon2_transparent/frame-00446.png', '../data/ribbon2_transparent/frame-00447.png', '../data/ribbon2_transparent/frame-00448.png', '../data/ribbon2_transparent/frame-00449.png', '../data/ribbon2_transparent/frame-00450.png', '../data/ribbon2_transparent/frame-00451.png', '../data/ribbon2_transparent/frame-00452.png', '../data/ribbon2_transparent/frame-00453.png', '../data/ribbon2_transparent/frame-00454.png', '../data/ribbon2_transparent/frame-00455.png', '../data/ribbon2_transparent/frame-00456.png', '../data/ribbon2_transparent/frame-00457.png', '../data/ribbon2_transparent/frame-00458.png', '../data/ribbon2_transparent/frame-00459.png', '../data/ribbon2_transparent/frame-00460.png', '../data/ribbon2_transparent/frame-00461.png', '../data/ribbon2_transparent/frame-00462.png', '../data/ribbon2_transparent/frame-00463.png', '../data/ribbon2_transparent/frame-00464.png', '../data/ribbon2_transparent/frame-00465.png', '../data/ribbon2_transparent/frame-00466.png', '../data/ribbon2_transparent/frame-00467.png', '../data/ribbon2_transparent/frame-00468.png', '../data/ribbon2_transparent/frame-00469.png', '../data/ribbon2_transparent/frame-00470.png', '../data/ribbon2_transparent/frame-00471.png', '../data/ribbon2_transparent/frame-00472.png', '../data/ribbon2_transparent/frame-00473.png', '../data/ribbon2_transparent/frame-00474.png', '../data/ribbon2_transparent/frame-00475.png', '../data/ribbon2_transparent/frame-00476.png', '../data/ribbon2_transparent/frame-00477.png', '../data/ribbon2_transparent/frame-00478.png', '../data/ribbon2_transparent/frame-00479.png', '../data/ribbon2_transparent/frame-00480.png', '../data/ribbon2_transparent/frame-00481.png', '../data/ribbon2_transparent/frame-00482.png', '../data/ribbon2_transparent/frame-00483.png', '../data/ribbon2_transparent/frame-00484.png', '../data/ribbon2_transparent/frame-00485.png', '../data/ribbon2_transparent/frame-00486.png', '../data/ribbon2_transparent/frame-00487.png', '../data/ribbon2_transparent/frame-00488.png', '../data/ribbon2_transparent/frame-00489.png', '../data/ribbon2_transparent/frame-00490.png', '../data/ribbon2_transparent/frame-00491.png', '../data/ribbon2_transparent/frame-00492.png', '../data/ribbon2_transparent/frame-00493.png', '../data/ribbon2_transparent/frame-00494.png', '../data/ribbon2_transparent/frame-00495.png', '../data/ribbon2_transparent/frame-00496.png', '../data/ribbon2_transparent/frame-00497.png', '../data/ribbon2_transparent/frame-00498.png', '../data/ribbon2_transparent/frame-00499.png', '../data/ribbon2_transparent/frame-00500.png', '../data/ribbon2_transparent/frame-00501.png', '../data/ribbon2_transparent/frame-00502.png', '../data/ribbon2_transparent/frame-00503.png', '../data/ribbon2_transparent/frame-00504.png', '../data/ribbon2_transparent/frame-00505.png', '../data/ribbon2_transparent/frame-00506.png', '../data/ribbon2_transparent/frame-00507.png', '../data/ribbon2_transparent/frame-00508.png', '../data/ribbon2_transparent/frame-00509.png', '../data/ribbon2_transparent/frame-00510.png', '../data/ribbon2_transparent/frame-00511.png', '../data/ribbon2_transparent/frame-00512.png', '../data/ribbon2_transparent/frame-00513.png', '../data/ribbon2_transparent/frame-00514.png', '../data/ribbon2_transparent/frame-00515.png', '../data/ribbon2_transparent/frame-00516.png', '../data/ribbon2_transparent/frame-00517.png', '../data/ribbon2_transparent/frame-00518.png', '../data/ribbon2_transparent/frame-00519.png', '../data/ribbon2_transparent/frame-00520.png', '../data/ribbon2_transparent/frame-00521.png', '../data/ribbon2_transparent/frame-00522.png', '../data/ribbon2_transparent/frame-00523.png', '../data/ribbon2_transparent/frame-00524.png', '../data/ribbon2_transparent/frame-00525.png', '../data/ribbon2_transparent/frame-00526.png', '../data/ribbon2_transparent/frame-00527.png', '../data/ribbon2_transparent/frame-00528.png', '../data/ribbon2_transparent/frame-00529.png', '../data/ribbon2_transparent/frame-00530.png', '../data/ribbon2_transparent/frame-00531.png', '../data/ribbon2_transparent/frame-00532.png', '../data/ribbon2_transparent/frame-00533.png', '../data/ribbon2_transparent/frame-00534.png', '../data/ribbon2_transparent/frame-00535.png', '../data/ribbon2_transparent/frame-00536.png', '../data/ribbon2_transparent/frame-00537.png', '../data/ribbon2_transparent/frame-00538.png', '../data/ribbon2_transparent/frame-00539.png', '../data/ribbon2_transparent/frame-00540.png', '../data/ribbon2_transparent/frame-00541.png', '../data/ribbon2_transparent/frame-00542.png', '../data/ribbon2_transparent/frame-00543.png', '../data/ribbon2_transparent/frame-00544.png', '../data/ribbon2_transparent/frame-00545.png', '../data/ribbon2_transparent/frame-00546.png', '../data/ribbon2_transparent/frame-00547.png', '../data/ribbon2_transparent/frame-00548.png', '../data/ribbon2_transparent/frame-00549.png', '../data/ribbon2_transparent/frame-00550.png', '../data/ribbon2_transparent/frame-00551.png', '../data/ribbon2_transparent/frame-00552.png', '../data/ribbon2_transparent/frame-00553.png', '../data/ribbon2_transparent/frame-00554.png', '../data/ribbon2_transparent/frame-00555.png', '../data/ribbon2_transparent/frame-00556.png', '../data/ribbon2_transparent/frame-00557.png', '../data/ribbon2_transparent/frame-00558.png', '../data/ribbon2_transparent/frame-00559.png', '../data/ribbon2_transparent/frame-00560.png', '../data/ribbon2_transparent/frame-00561.png', '../data/ribbon2_transparent/frame-00562.png', '../data/ribbon2_transparent/frame-00563.png', '../data/ribbon2_transparent/frame-00564.png', '../data/ribbon2_transparent/frame-00565.png', '../data/ribbon2_transparent/frame-00566.png', '../data/ribbon2_transparent/frame-00567.png', '../data/ribbon2_transparent/frame-00568.png', '../data/ribbon2_transparent/frame-00569.png', '../data/ribbon2_transparent/frame-00570.png', '../data/ribbon2_transparent/frame-00571.png', '../data/ribbon2_transparent/frame-00572.png', '../data/ribbon2_transparent/frame-00573.png', '../data/ribbon2_transparent/frame-00574.png', '../data/ribbon2_transparent/frame-00575.png', '../data/ribbon2_transparent/frame-00576.png', '../data/ribbon2_transparent/frame-00577.png', '../data/ribbon2_transparent/frame-00578.png', '../data/ribbon2_transparent/frame-00579.png', '../data/ribbon2_transparent/frame-00580.png', '../data/ribbon2_transparent/frame-00581.png', '../data/ribbon2_transparent/frame-00582.png', '../data/ribbon2_transparent/frame-00583.png', '../data/ribbon2_transparent/frame-00584.png', '../data/ribbon2_transparent/frame-00585.png', '../data/ribbon2_transparent/frame-00586.png', '../data/ribbon2_transparent/frame-00587.png', '../data/ribbon2_transparent/frame-00588.png', '../data/ribbon2_transparent/frame-00589.png', '../data/ribbon2_transparent/frame-00590.png', '../data/ribbon2_transparent/frame-00591.png', '../data/ribbon2_transparent/frame-00592.png', '../data/ribbon2_transparent/frame-00593.png', '../data/ribbon2_transparent/frame-00594.png', '../data/ribbon2_transparent/frame-00595.png', '../data/ribbon2_transparent/frame-00596.png', '../data/ribbon2_transparent/frame-00597.png', '../data/ribbon2_transparent/frame-00598.png', '../data/ribbon2_transparent/frame-00599.png', '../data/ribbon2_transparent/frame-00600.png', '../data/ribbon2_transparent/frame-00601.png', '../data/ribbon2_transparent/frame-00602.png', '../data/ribbon2_transparent/frame-00603.png', '../data/ribbon2_transparent/frame-00604.png', '../data/ribbon2_transparent/frame-00605.png', '../data/ribbon2_transparent/frame-00606.png', '../data/ribbon2_transparent/frame-00607.png', '../data/ribbon2_transparent/frame-00608.png', '../data/ribbon2_transparent/frame-00609.png', '../data/ribbon2_transparent/frame-00610.png', '../data/ribbon2_transparent/frame-00611.png', '../data/ribbon2_transparent/frame-00612.png', '../data/ribbon2_transparent/frame-00613.png', '../data/ribbon2_transparent/frame-00614.png', '../data/ribbon2_transparent/frame-00615.png', '../data/ribbon2_transparent/frame-00616.png', '../data/ribbon2_transparent/frame-00617.png', '../data/ribbon2_transparent/frame-00618.png', '../data/ribbon2_transparent/frame-00619.png', '../data/ribbon2_transparent/frame-00620.png', '../data/ribbon2_transparent/frame-00621.png', '../data/ribbon2_transparent/frame-00622.png', '../data/ribbon2_transparent/frame-00623.png', '../data/ribbon2_transparent/frame-00624.png', '../data/ribbon2_transparent/frame-00625.png', '../data/ribbon2_transparent/frame-00626.png', '../data/ribbon2_transparent/frame-00627.png', '../data/ribbon2_transparent/frame-00628.png', '../data/ribbon2_transparent/frame-00629.png', '../data/ribbon2_transparent/frame-00630.png', '../data/ribbon2_transparent/frame-00631.png', '../data/ribbon2_transparent/frame-00632.png', '../data/ribbon2_transparent/frame-00633.png', '../data/ribbon2_transparent/frame-00634.png', '../data/ribbon2_transparent/frame-00635.png', '../data/ribbon2_transparent/frame-00636.png', '../data/ribbon2_transparent/frame-00637.png', '../data/ribbon2_transparent/frame-00638.png', '../data/ribbon2_transparent/frame-00639.png', '../data/ribbon2_transparent/frame-00640.png', '../data/ribbon2_transparent/frame-00641.png', '../data/ribbon2_transparent/frame-00642.png', '../data/ribbon2_transparent/frame-00643.png', '../data/ribbon2_transparent/frame-00644.png', '../data/ribbon2_transparent/frame-00645.png', '../data/ribbon2_transparent/frame-00646.png', '../data/ribbon2_transparent/frame-00647.png', '../data/ribbon2_transparent/frame-00648.png', '../data/ribbon2_transparent/frame-00649.png', '../data/ribbon2_transparent/frame-00650.png', '../data/ribbon2_transparent/frame-00651.png', '../data/ribbon2_transparent/frame-00652.png', '../data/ribbon2_transparent/frame-00653.png', '../data/ribbon2_transparent/frame-00654.png', '../data/ribbon2_transparent/frame-00655.png', '../data/ribbon2_transparent/frame-00656.png', '../data/ribbon2_transparent/frame-00657.png', '../data/ribbon2_transparent/frame-00658.png', '../data/ribbon2_transparent/frame-00659.png', '../data/ribbon2_transparent/frame-00660.png', '../data/ribbon2_transparent/frame-00661.png', '../data/ribbon2_transparent/frame-00662.png', '../data/ribbon2_transparent/frame-00663.png', '../data/ribbon2_transparent/frame-00664.png', '../data/ribbon2_transparent/frame-00665.png', '../data/ribbon2_transparent/frame-00666.png', '../data/ribbon2_transparent/frame-00667.png', '../data/ribbon2_transparent/frame-00668.png', '../data/ribbon2_transparent/frame-00669.png', '../data/ribbon2_transparent/frame-00670.png', '../data/ribbon2_transparent/frame-00671.png', '../data/ribbon2_transparent/frame-00672.png', '../data/ribbon2_transparent/frame-00673.png', '../data/ribbon2_transparent/frame-00674.png', '../data/ribbon2_transparent/frame-00675.png', '../data/ribbon2_transparent/frame-00676.png', '../data/ribbon2_transparent/frame-00677.png', '../data/ribbon2_transparent/frame-00678.png', '../data/ribbon2_transparent/frame-00679.png', '../data/ribbon2_transparent/frame-00680.png', '../data/ribbon2_transparent/frame-00681.png', '../data/ribbon2_transparent/frame-00682.png', '../data/ribbon2_transparent/frame-00683.png', '../data/ribbon2_transparent/frame-00684.png', '../data/ribbon2_transparent/frame-00685.png', '../data/ribbon2_transparent/frame-00686.png', '../data/ribbon2_transparent/frame-00687.png', '../data/ribbon2_transparent/frame-00688.png', '../data/ribbon2_transparent/frame-00689.png', '../data/ribbon2_transparent/frame-00690.png', '../data/ribbon2_transparent/frame-00691.png', '../data/ribbon2_transparent/frame-00692.png', '../data/ribbon2_transparent/frame-00693.png', '../data/ribbon2_transparent/frame-00694.png', '../data/ribbon2_transparent/frame-00695.png', '../data/ribbon2_transparent/frame-00696.png', '../data/ribbon2_transparent/frame-00697.png', '../data/ribbon2_transparent/frame-00698.png', '../data/ribbon2_transparent/frame-00699.png', '../data/ribbon2_transparent/frame-00700.png', '../data/ribbon2_transparent/frame-00701.png', '../data/ribbon2_transparent/frame-00702.png', '../data/ribbon2_transparent/frame-00703.png', '../data/ribbon2_transparent/frame-00704.png', '../data/ribbon2_transparent/frame-00705.png', '../data/ribbon2_transparent/frame-00706.png', '../data/ribbon2_transparent/frame-00707.png', '../data/ribbon2_transparent/frame-00708.png', '../data/ribbon2_transparent/frame-00709.png', '../data/ribbon2_transparent/frame-00710.png', '../data/ribbon2_transparent/frame-00711.png', '../data/ribbon2_transparent/frame-00712.png', '../data/ribbon2_transparent/frame-00713.png', '../data/ribbon2_transparent/frame-00714.png', '../data/ribbon2_transparent/frame-00715.png', '../data/ribbon2_transparent/frame-00716.png', '../data/ribbon2_transparent/frame-00717.png', '../data/ribbon2_transparent/frame-00718.png', '../data/ribbon2_transparent/frame-00719.png', '../data/ribbon2_transparent/frame-00720.png', '../data/ribbon2_transparent/frame-00721.png', '../data/ribbon2_transparent/frame-00722.png', '../data/ribbon2_transparent/frame-00723.png', '../data/ribbon2_transparent/frame-00724.png', '../data/ribbon2_transparent/frame-00725.png', '../data/ribbon2_transparent/frame-00726.png', '../data/ribbon2_transparent/frame-00727.png', '../data/ribbon2_transparent/frame-00728.png', '../data/ribbon2_transparent/frame-00729.png', '../data/ribbon2_transparent/frame-00730.png', '../data/ribbon2_transparent/frame-00731.png', '../data/ribbon2_transparent/frame-00732.png', '../data/ribbon2_transparent/frame-00733.png', '../data/ribbon2_transparent/frame-00734.png', '../data/ribbon2_transparent/frame-00735.png', '../data/ribbon2_transparent/frame-00736.png', '../data/ribbon2_transparent/frame-00737.png', '../data/ribbon2_transparent/frame-00738.png', '../data/ribbon2_transparent/frame-00739.png', '../data/ribbon2_transparent/frame-00740.png', '../data/ribbon2_transparent/frame-00741.png', '../data/ribbon2_transparent/frame-00742.png', '../data/ribbon2_transparent/frame-00743.png', '../data/ribbon2_transparent/frame-00744.png', '../data/ribbon2_transparent/frame-00745.png', '../data/ribbon2_transparent/frame-00746.png', '../data/ribbon2_transparent/frame-00747.png', '../data/ribbon2_transparent/frame-00748.png', '../data/ribbon2_transparent/frame-00749.png', '../data/ribbon2_transparent/frame-00750.png', '../data/ribbon2_transparent/frame-00751.png', '../data/ribbon2_transparent/frame-00752.png', '../data/ribbon2_transparent/frame-00753.png', '../data/ribbon2_transparent/frame-00754.png', '../data/ribbon2_transparent/frame-00755.png', '../data/ribbon2_transparent/frame-00756.png', '../data/ribbon2_transparent/frame-00757.png', '../data/ribbon2_transparent/frame-00758.png', '../data/ribbon2_transparent/frame-00759.png', '../data/ribbon2_transparent/frame-00760.png', '../data/ribbon2_transparent/frame-00761.png', '../data/ribbon2_transparent/frame-00762.png', '../data/ribbon2_transparent/frame-00763.png', '../data/ribbon2_transparent/frame-00764.png', '../data/ribbon2_transparent/frame-00765.png', '../data/ribbon2_transparent/frame-00766.png', '../data/ribbon2_transparent/frame-00767.png', '../data/ribbon2_transparent/frame-00768.png', '../data/ribbon2_transparent/frame-00769.png', '../data/ribbon2_transparent/frame-00770.png', '../data/ribbon2_transparent/frame-00771.png', '../data/ribbon2_transparent/frame-00772.png', '../data/ribbon2_transparent/frame-00773.png', '../data/ribbon2_transparent/frame-00774.png', '../data/ribbon2_transparent/frame-00775.png', '../data/ribbon2_transparent/frame-00776.png', '../data/ribbon2_transparent/frame-00777.png', '../data/ribbon2_transparent/frame-00778.png', '../data/ribbon2_transparent/frame-00779.png', '../data/ribbon2_transparent/frame-00780.png', '../data/ribbon2_transparent/frame-00781.png', '../data/ribbon2_transparent/frame-00782.png', '../data/ribbon2_transparent/frame-00783.png', '../data/ribbon2_transparent/frame-00784.png', '../data/ribbon2_transparent/frame-00785.png', '../data/ribbon2_transparent/frame-00786.png', '../data/ribbon2_transparent/frame-00787.png', '../data/ribbon2_transparent/frame-00788.png', '../data/ribbon2_transparent/frame-00789.png', '../data/ribbon2_transparent/frame-00790.png', '../data/ribbon2_transparent/frame-00791.png', '../data/ribbon2_transparent/frame-00792.png', '../data/ribbon2_transparent/frame-00793.png', '../data/ribbon2_transparent/frame-00794.png', '../data/ribbon2_transparent/frame-00795.png', '../data/ribbon2_transparent/frame-00796.png', '../data/ribbon2_transparent/frame-00797.png', '../data/ribbon2_transparent/frame-00798.png', '../data/ribbon2_transparent/frame-00799.png', '../data/ribbon2_transparent/frame-00800.png', '../data/ribbon2_transparent/frame-00801.png', '../data/ribbon2_transparent/frame-00802.png', '../data/ribbon2_transparent/frame-00803.png', '../data/ribbon2_transparent/frame-00804.png', '../data/ribbon2_transparent/frame-00805.png', '../data/ribbon2_transparent/frame-00806.png', '../data/ribbon2_transparent/frame-00807.png', '../data/ribbon2_transparent/frame-00808.png', '../data/ribbon2_transparent/frame-00809.png', '../data/ribbon2_transparent/frame-00810.png', '../data/ribbon2_transparent/frame-00811.png', '../data/ribbon2_transparent/frame-00812.png', '../data/ribbon2_transparent/frame-00813.png', '../data/ribbon2_transparent/frame-00814.png', '../data/ribbon2_transparent/frame-00815.png', '../data/ribbon2_transparent/frame-00816.png', '../data/ribbon2_transparent/frame-00817.png', '../data/ribbon2_transparent/frame-00818.png', '../data/ribbon2_transparent/frame-00819.png', '../data/ribbon2_transparent/frame-00820.png', '../data/ribbon2_transparent/frame-00821.png', '../data/ribbon2_transparent/frame-00822.png', '../data/ribbon2_transparent/frame-00823.png', '../data/ribbon2_transparent/frame-00824.png', '../data/ribbon2_transparent/frame-00825.png', '../data/ribbon2_transparent/frame-00826.png', '../data/ribbon2_transparent/frame-00827.png', '../data/ribbon2_transparent/frame-00828.png', '../data/ribbon2_transparent/frame-00829.png', '../data/ribbon2_transparent/frame-00830.png', '../data/ribbon2_transparent/frame-00831.png', '../data/ribbon2_transparent/frame-00832.png', '../data/ribbon2_transparent/frame-00833.png', '../data/ribbon2_transparent/frame-00834.png', '../data/ribbon2_transparent/frame-00835.png', '../data/ribbon2_transparent/frame-00836.png', '../data/ribbon2_transparent/frame-00837.png', '../data/ribbon2_transparent/frame-00838.png', '../data/ribbon2_transparent/frame-00839.png', '../data/ribbon2_transparent/frame-00840.png', '../data/ribbon2_transparent/frame-00841.png', '../data/ribbon2_transparent/frame-00842.png', '../data/ribbon2_transparent/frame-00843.png', '../data/ribbon2_transparent/frame-00844.png', '../data/ribbon2_transparent/frame-00845.png', '../data/ribbon2_transparent/frame-00846.png', '../data/ribbon2_transparent/frame-00847.png', '../data/ribbon2_transparent/frame-00848.png', '../data/ribbon2_transparent/frame-00849.png', '../data/ribbon2_transparent/frame-00850.png', '../data/ribbon2_transparent/frame-00851.png', '../data/ribbon2_transparent/frame-00852.png', '../data/ribbon2_transparent/frame-00853.png', '../data/ribbon2_transparent/frame-00854.png', '../data/ribbon2_transparent/frame-00855.png', '../data/ribbon2_transparent/frame-00856.png', '../data/ribbon2_transparent/frame-00857.png', '../data/ribbon2_transparent/frame-00858.png', '../data/ribbon2_transparent/frame-00859.png', '../data/ribbon2_transparent/frame-00860.png', '../data/ribbon2_transparent/frame-00861.png', '../data/ribbon2_transparent/frame-00862.png', '../data/ribbon2_transparent/frame-00863.png', '../data/ribbon2_transparent/frame-00864.png', '../data/ribbon2_transparent/frame-00865.png', '../data/ribbon2_transparent/frame-00866.png', '../data/ribbon2_transparent/frame-00867.png', '../data/ribbon2_transparent/frame-00868.png', '../data/ribbon2_transparent/frame-00869.png', '../data/ribbon2_transparent/frame-00870.png', '../data/ribbon2_transparent/frame-00871.png', '../data/ribbon2_transparent/frame-00872.png', '../data/ribbon2_transparent/frame-00873.png', '../data/ribbon2_transparent/frame-00874.png', '../data/ribbon2_transparent/frame-00875.png', '../data/ribbon2_transparent/frame-00876.png', '../data/ribbon2_transparent/frame-00877.png', '../data/ribbon2_transparent/frame-00878.png', '../data/ribbon2_transparent/frame-00879.png', '../data/ribbon2_transparent/frame-00880.png', '../data/ribbon2_transparent/frame-00881.png', '../data/ribbon2_transparent/frame-00882.png', '../data/ribbon2_transparent/frame-00883.png', '../data/ribbon2_transparent/frame-00884.png', '../data/ribbon2_transparent/frame-00885.png', '../data/ribbon2_transparent/frame-00886.png', '../data/ribbon2_transparent/frame-00887.png', '../data/ribbon2_transparent/frame-00888.png', '../data/ribbon2_transparent/frame-00889.png', '../data/ribbon2_transparent/frame-00890.png', '../data/ribbon2_transparent/frame-00891.png', '../data/ribbon2_transparent/frame-00892.png', '../data/ribbon2_transparent/frame-00893.png', '../data/ribbon2_transparent/frame-00894.png', '../data/ribbon2_transparent/frame-00895.png', '../data/ribbon2_transparent/frame-00896.png', '../data/ribbon2_transparent/frame-00897.png', '../data/ribbon2_transparent/frame-00898.png', '../data/ribbon2_transparent/frame-00899.png', '../data/ribbon2_transparent/frame-00900.png', '../data/ribbon2_transparent/frame-00901.png', '../data/ribbon2_transparent/frame-00902.png', '../data/ribbon2_transparent/frame-00903.png', '../data/ribbon2_transparent/frame-00904.png', '../data/ribbon2_transparent/frame-00905.png', '../data/ribbon2_transparent/frame-00906.png', '../data/ribbon2_transparent/frame-00907.png', '../data/ribbon2_transparent/frame-00908.png', '../data/ribbon2_transparent/frame-00909.png', '../data/ribbon2_transparent/frame-00910.png', '../data/ribbon2_transparent/frame-00911.png', '../data/ribbon2_transparent/frame-00912.png', '../data/ribbon2_transparent/frame-00913.png', '../data/ribbon2_transparent/frame-00914.png', '../data/ribbon2_transparent/frame-00915.png', '../data/ribbon2_transparent/frame-00916.png', '../data/ribbon2_transparent/frame-00917.png', '../data/ribbon2_transparent/frame-00918.png', '../data/ribbon2_transparent/frame-00919.png', '../data/ribbon2_transparent/frame-00920.png', '../data/ribbon2_transparent/frame-00921.png', '../data/ribbon2_transparent/frame-00922.png', '../data/ribbon2_transparent/frame-00923.png', '../data/ribbon2_transparent/frame-00924.png', '../data/ribbon2_transparent/frame-00925.png', '../data/ribbon2_transparent/frame-00926.png', '../data/ribbon2_transparent/frame-00927.png', '../data/ribbon2_transparent/frame-00928.png', '../data/ribbon2_transparent/frame-00929.png', '../data/ribbon2_transparent/frame-00930.png', '../data/ribbon2_transparent/frame-00931.png', '../data/ribbon2_transparent/frame-00932.png', '../data/ribbon2_transparent/frame-00933.png', '../data/ribbon2_transparent/frame-00934.png', '../data/ribbon2_transparent/frame-00935.png', '../data/ribbon2_transparent/frame-00936.png', '../data/ribbon2_transparent/frame-00937.png', '../data/ribbon2_transparent/frame-00938.png', '../data/ribbon2_transparent/frame-00939.png', '../data/ribbon2_transparent/frame-00940.png', '../data/ribbon2_transparent/frame-00941.png', '../data/ribbon2_transparent/frame-00942.png', '../data/ribbon2_transparent/frame-00943.png', '../data/ribbon2_transparent/frame-00944.png', '../data/ribbon2_transparent/frame-00945.png', '../data/ribbon2_transparent/frame-00946.png', '../data/ribbon2_transparent/frame-00947.png', '../data/ribbon2_transparent/frame-00948.png', '../data/ribbon2_transparent/frame-00949.png', '../data/ribbon2_transparent/frame-00950.png', '../data/ribbon2_transparent/frame-00951.png', '../data/ribbon2_transparent/frame-00952.png', '../data/ribbon2_transparent/frame-00953.png', '../data/ribbon2_transparent/frame-00954.png', '../data/ribbon2_transparent/frame-00955.png', '../data/ribbon2_transparent/frame-00956.png', '../data/ribbon2_transparent/frame-00957.png', '../data/ribbon2_transparent/frame-00958.png', '../data/ribbon2_transparent/frame-00959.png', '../data/ribbon2_transparent/frame-00960.png', '../data/ribbon2_transparent/frame-00961.png', '../data/ribbon2_transparent/frame-00962.png', '../data/ribbon2_transparent/frame-00963.png', '../data/ribbon2_transparent/frame-00964.png', '../data/ribbon2_transparent/frame-00965.png', '../data/ribbon2_transparent/frame-00966.png', '../data/ribbon2_transparent/frame-00967.png', '../data/ribbon2_transparent/frame-00968.png', '../data/ribbon2_transparent/frame-00969.png', '../data/ribbon2_transparent/frame-00970.png', '../data/ribbon2_transparent/frame-00971.png', '../data/ribbon2_transparent/frame-00972.png', '../data/ribbon2_transparent/frame-00973.png', '../data/ribbon2_transparent/frame-00974.png', '../data/ribbon2_transparent/frame-00975.png', '../data/ribbon2_transparent/frame-00976.png', '../data/ribbon2_transparent/frame-00977.png', '../data/ribbon2_transparent/frame-00978.png', '../data/ribbon2_transparent/frame-00979.png', '../data/ribbon2_transparent/frame-00980.png', '../data/ribbon2_transparent/frame-00981.png', '../data/ribbon2_transparent/frame-00982.png', '../data/ribbon2_transparent/frame-00983.png', '../data/ribbon2_transparent/frame-00984.png', '../data/ribbon2_transparent/frame-00985.png', '../data/ribbon2_transparent/frame-00986.png', '../data/ribbon2_transparent/frame-00987.png', '../data/ribbon2_transparent/frame-00988.png', '../data/ribbon2_transparent/frame-00989.png', '../data/ribbon2_transparent/frame-00990.png', '../data/ribbon2_transparent/frame-00991.png', '../data/ribbon2_transparent/frame-00992.png', '../data/ribbon2_transparent/frame-00993.png', '../data/ribbon2_transparent/frame-00994.png', '../data/ribbon2_transparent/frame-00995.png', '../data/ribbon2_transparent/frame-00996.png', '../data/ribbon2_transparent/frame-00997.png', '../data/ribbon2_transparent/frame-00998.png', '../data/ribbon2_transparent/frame-00999.png', '../data/ribbon2_transparent/frame-01000.png', '../data/ribbon2_transparent/frame-01001.png', '../data/ribbon2_transparent/frame-01002.png', '../data/ribbon2_transparent/frame-01003.png', '../data/ribbon2_transparent/frame-01004.png', '../data/ribbon2_transparent/frame-01005.png', '../data/ribbon2_transparent/frame-01006.png', '../data/ribbon2_transparent/frame-01007.png', '../data/ribbon2_transparent/frame-01008.png', '../data/ribbon2_transparent/frame-01009.png', '../data/ribbon2_transparent/frame-01010.png', '../data/ribbon2_transparent/frame-01011.png', '../data/ribbon2_transparent/frame-01012.png', '../data/ribbon2_transparent/frame-01013.png', '../data/ribbon2_transparent/frame-01014.png', '../data/ribbon2_transparent/frame-01015.png', '../data/ribbon2_transparent/frame-01016.png', '../data/ribbon2_transparent/frame-01017.png', '../data/ribbon2_transparent/frame-01018.png', '../data/ribbon2_transparent/frame-01019.png', '../data/ribbon2_transparent/frame-01020.png', '../data/ribbon2_transparent/frame-01021.png', '../data/ribbon2_transparent/frame-01022.png', '../data/ribbon2_transparent/frame-01023.png', '../data/ribbon2_transparent/frame-01024.png', '../data/ribbon2_transparent/frame-01025.png', '../data/ribbon2_transparent/frame-01026.png', '../data/ribbon2_transparent/frame-01027.png', '../data/ribbon2_transparent/frame-01028.png', '../data/ribbon2_transparent/frame-01029.png', '../data/ribbon2_transparent/frame-01030.png', '../data/ribbon2_transparent/frame-01031.png', '../data/ribbon2_transparent/frame-01032.png', '../data/ribbon2_transparent/frame-01033.png', '../data/ribbon2_transparent/frame-01034.png', '../data/ribbon2_transparent/frame-01035.png', '../data/ribbon2_transparent/frame-01036.png', '../data/ribbon2_transparent/frame-01037.png', '../data/ribbon2_transparent/frame-01038.png', '../data/ribbon2_transparent/frame-01039.png', '../data/ribbon2_transparent/frame-01040.png', '../data/ribbon2_transparent/frame-01041.png', '../data/ribbon2_transparent/frame-01042.png', '../data/ribbon2_transparent/frame-01043.png', '../data/ribbon2_transparent/frame-01044.png', '../data/ribbon2_transparent/frame-01045.png', '../data/ribbon2_transparent/frame-01046.png', '../data/ribbon2_transparent/frame-01047.png', '../data/ribbon2_transparent/frame-01048.png', '../data/ribbon2_transparent/frame-01049.png', '../data/ribbon2_transparent/frame-01050.png', '../data/ribbon2_transparent/frame-01051.png', '../data/ribbon2_transparent/frame-01052.png', '../data/ribbon2_transparent/frame-01053.png', '../data/ribbon2_transparent/frame-01054.png', '../data/ribbon2_transparent/frame-01055.png', '../data/ribbon2_transparent/frame-01056.png', '../data/ribbon2_transparent/frame-01057.png', '../data/ribbon2_transparent/frame-01058.png', '../data/ribbon2_transparent/frame-01059.png', '../data/ribbon2_transparent/frame-01060.png', '../data/ribbon2_transparent/frame-01061.png', '../data/ribbon2_transparent/frame-01062.png', '../data/ribbon2_transparent/frame-01063.png', '../data/ribbon2_transparent/frame-01064.png', '../data/ribbon2_transparent/frame-01065.png', '../data/ribbon2_transparent/frame-01066.png', '../data/ribbon2_transparent/frame-01067.png', '../data/ribbon2_transparent/frame-01068.png', '../data/ribbon2_transparent/frame-01069.png', '../data/ribbon2_transparent/frame-01070.png', '../data/ribbon2_transparent/frame-01071.png', '../data/ribbon2_transparent/frame-01072.png', '../data/ribbon2_transparent/frame-01073.png', '../data/ribbon2_transparent/frame-01074.png', '../data/ribbon2_transparent/frame-01075.png', '../data/ribbon2_transparent/frame-01076.png', '../data/ribbon2_transparent/frame-01077.png', '../data/ribbon2_transparent/frame-01078.png', '../data/ribbon2_transparent/frame-01079.png', '../data/ribbon2_transparent/frame-01080.png', '../data/ribbon2_transparent/frame-01081.png', '../data/ribbon2_transparent/frame-01082.png', '../data/ribbon2_transparent/frame-01083.png', '../data/ribbon2_transparent/frame-01084.png', '../data/ribbon2_transparent/frame-01085.png', '../data/ribbon2_transparent/frame-01086.png', '../data/ribbon2_transparent/frame-01087.png', '../data/ribbon2_transparent/frame-01088.png', '../data/ribbon2_transparent/frame-01089.png', '../data/ribbon2_transparent/frame-01090.png', '../data/ribbon2_transparent/frame-01091.png', '../data/ribbon2_transparent/frame-01092.png', '../data/ribbon2_transparent/frame-01093.png', '../data/ribbon2_transparent/frame-01094.png', '../data/ribbon2_transparent/frame-01095.png', '../data/ribbon2_transparent/frame-01096.png', '../data/ribbon2_transparent/frame-01097.png', '../data/ribbon2_transparent/frame-01098.png', '../data/ribbon2_transparent/frame-01099.png', '../data/ribbon2_transparent/frame-01100.png', '../data/ribbon2_transparent/frame-01101.png', '../data/ribbon2_transparent/frame-01102.png', '../data/ribbon2_transparent/frame-01103.png', '../data/ribbon2_transparent/frame-01104.png', '../data/ribbon2_transparent/frame-01105.png', '../data/ribbon2_transparent/frame-01106.png', '../data/ribbon2_transparent/frame-01107.png', '../data/ribbon2_transparent/frame-01108.png', '../data/ribbon2_transparent/frame-01109.png', '../data/ribbon2_transparent/frame-01110.png', '../data/ribbon2_transparent/frame-01111.png', '../data/ribbon2_transparent/frame-01112.png', '../data/ribbon2_transparent/frame-01113.png', '../data/ribbon2_transparent/frame-01114.png', '../data/ribbon2_transparent/frame-01115.png', '../data/ribbon2_transparent/frame-01116.png', '../data/ribbon2_transparent/frame-01117.png', '../data/ribbon2_transparent/frame-01118.png', '../data/ribbon2_transparent/frame-01119.png', '../data/ribbon2_transparent/frame-01120.png', '../data/ribbon2_transparent/frame-01121.png', '../data/ribbon2_transparent/frame-01122.png', '../data/ribbon2_transparent/frame-01123.png', '../data/ribbon2_transparent/frame-01124.png', '../data/ribbon2_transparent/frame-01125.png', '../data/ribbon2_transparent/frame-01126.png', '../data/ribbon2_transparent/frame-01127.png', '../data/ribbon2_transparent/frame-01128.png', '../data/ribbon2_transparent/frame-01129.png', '../data/ribbon2_transparent/frame-01130.png', '../data/ribbon2_transparent/frame-01131.png', '../data/ribbon2_transparent/frame-01132.png', '../data/ribbon2_transparent/frame-01133.png', '../data/ribbon2_transparent/frame-01134.png', '../data/ribbon2_transparent/frame-01135.png', '../data/ribbon2_transparent/frame-01136.png', '../data/ribbon2_transparent/frame-01137.png', '../data/ribbon2_transparent/frame-01138.png', '../data/ribbon2_transparent/frame-01139.png', '../data/ribbon2_transparent/frame-01140.png', '../data/ribbon2_transparent/frame-01141.png', '../data/ribbon2_transparent/frame-01142.png', '../data/ribbon2_transparent/frame-01143.png', '../data/ribbon2_transparent/frame-01144.png', '../data/ribbon2_transparent/frame-01145.png', '../data/ribbon2_transparent/frame-01146.png', '../data/ribbon2_transparent/frame-01147.png', '../data/ribbon2_transparent/frame-01148.png', '../data/ribbon2_transparent/frame-01149.png', '../data/ribbon2_transparent/frame-01150.png', '../data/ribbon2_transparent/frame-01151.png', '../data/ribbon2_transparent/frame-01152.png', '../data/ribbon2_transparent/frame-01153.png', '../data/ribbon2_transparent/frame-01154.png', '../data/ribbon2_transparent/frame-01155.png', '../data/ribbon2_transparent/frame-01156.png', '../data/ribbon2_transparent/frame-01157.png', '../data/ribbon2_transparent/frame-01158.png', '../data/ribbon2_transparent/frame-01159.png', '../data/ribbon2_transparent/frame-01160.png', '../data/ribbon2_transparent/frame-01161.png', '../data/ribbon2_transparent/frame-01162.png', '../data/ribbon2_transparent/frame-01163.png', '../data/ribbon2_transparent/frame-01164.png', '../data/ribbon2_transparent/frame-01165.png', '../data/ribbon2_transparent/frame-01166.png', '../data/ribbon2_transparent/frame-01167.png', '../data/ribbon2_transparent/frame-01168.png', '../data/ribbon2_transparent/frame-01169.png', '../data/ribbon2_transparent/frame-01170.png', '../data/ribbon2_transparent/frame-01171.png', '../data/ribbon2_transparent/frame-01172.png', '../data/ribbon2_transparent/frame-01173.png', '../data/ribbon2_transparent/frame-01174.png', '../data/ribbon2_transparent/frame-01175.png', '../data/ribbon2_transparent/frame-01176.png', '../data/ribbon2_transparent/frame-01177.png', '../data/ribbon2_transparent/frame-01178.png', '../data/ribbon2_transparent/frame-01179.png', '../data/ribbon2_transparent/frame-01180.png', '../data/ribbon2_transparent/frame-01181.png', '../data/ribbon2_transparent/frame-01182.png', '../data/ribbon2_transparent/frame-01183.png', '../data/ribbon2_transparent/frame-01184.png', '../data/ribbon2_transparent/frame-01185.png', '../data/ribbon2_transparent/frame-01186.png', '../data/ribbon2_transparent/frame-01187.png', '../data/ribbon2_transparent/frame-01188.png', '../data/ribbon2_transparent/frame-01189.png', '../data/ribbon2_transparent/frame-01190.png', '../data/ribbon2_transparent/frame-01191.png', '../data/ribbon2_transparent/frame-01192.png', '../data/ribbon2_transparent/frame-01193.png', '../data/ribbon2_transparent/frame-01194.png', '../data/ribbon2_transparent/frame-01195.png', '../data/ribbon2_transparent/frame-01196.png', '../data/ribbon2_transparent/frame-01197.png', '../data/ribbon2_transparent/frame-01198.png', '../data/ribbon2_transparent/frame-01199.png', '../data/ribbon2_transparent/frame-01200.png', '../data/ribbon2_transparent/frame-01201.png', '../data/ribbon2_transparent/frame-01202.png', '../data/ribbon2_transparent/frame-01203.png', '../data/ribbon2_transparent/frame-01204.png', '../data/ribbon2_transparent/frame-01205.png', '../data/ribbon2_transparent/frame-01206.png', '../data/ribbon2_transparent/frame-01207.png', '../data/ribbon2_transparent/frame-01208.png', '../data/ribbon2_transparent/frame-01209.png', '../data/ribbon2_transparent/frame-01210.png', '../data/ribbon2_transparent/frame-01211.png', '../data/ribbon2_transparent/frame-01212.png', '../data/ribbon2_transparent/frame-01213.png', '../data/ribbon2_transparent/frame-01214.png', '../data/ribbon2_transparent/frame-01215.png', '../data/ribbon2_transparent/frame-01216.png', '../data/ribbon2_transparent/frame-01217.png', '../data/ribbon2_transparent/frame-01218.png', '../data/ribbon2_transparent/frame-01219.png', '../data/ribbon2_transparent/frame-01220.png', '../data/ribbon2_transparent/frame-01221.png', '../data/ribbon2_transparent/frame-01222.png', '../data/ribbon2_transparent/frame-01223.png', '../data/ribbon2_transparent/frame-01224.png', '../data/ribbon2_transparent/frame-01225.png', '../data/ribbon2_transparent/frame-01226.png', '../data/ribbon2_transparent/frame-01227.png', '../data/ribbon2_transparent/frame-01228.png', '../data/ribbon2_transparent/frame-01229.png', '../data/ribbon2_transparent/frame-01230.png', '../data/ribbon2_transparent/frame-01231.png', '../data/ribbon2_transparent/frame-01232.png', '../data/ribbon2_transparent/frame-01233.png', '../data/ribbon2_transparent/frame-01234.png', '../data/ribbon2_transparent/frame-01235.png', '../data/ribbon2_transparent/frame-01236.png', '../data/ribbon2_transparent/frame-01237.png', '../data/ribbon2_transparent/frame-01238.png', '../data/ribbon2_transparent/frame-01239.png', '../data/ribbon2_transparent/frame-01240.png', '../data/ribbon2_transparent/frame-01241.png', '../data/ribbon2_transparent/frame-01242.png', '../data/ribbon2_transparent/frame-01243.png', '../data/ribbon2_transparent/frame-01244.png', '../data/ribbon2_transparent/frame-01245.png', '../data/ribbon2_transparent/frame-01246.png', '../data/ribbon2_transparent/frame-01247.png', '../data/ribbon2_transparent/frame-01248.png', '../data/ribbon2_transparent/frame-01249.png', '../data/ribbon2_transparent/frame-01250.png', '../data/ribbon2_transparent/frame-01251.png', '../data/ribbon2_transparent/frame-01252.png', '../data/ribbon2_transparent/frame-01253.png', '../data/ribbon2_transparent/frame-01254.png', '../data/ribbon2_transparent/frame-01255.png', '../data/ribbon2_transparent/frame-01256.png', '../data/ribbon2_transparent/frame-01257.png', '../data/ribbon2_transparent/frame-01258.png', '../data/ribbon2_transparent/frame-01259.png', '../data/ribbon2_transparent/frame-01260.png', '../data/ribbon2_transparent/frame-01261.png', '../data/ribbon2_transparent/frame-01262.png', '../data/ribbon2_transparent/frame-01263.png', '../data/ribbon2_transparent/frame-01264.png', '../data/ribbon2_transparent/frame-01265.png', '../data/ribbon2_transparent/frame-01266.png', '../data/ribbon2_transparent/frame-01267.png', '../data/ribbon2_transparent/frame-01268.png', '../data/ribbon2_transparent/frame-01269.png', '../data/ribbon2_transparent/frame-01270.png', '../data/ribbon2_transparent/frame-01271.png', '../data/ribbon2_transparent/frame-01272.png', '../data/ribbon2_transparent/frame-01273.png', '../data/ribbon2_transparent/frame-01274.png', '../data/ribbon2_transparent/frame-01275.png', '../data/ribbon2_transparent/frame-01276.png', '../data/ribbon2_transparent/frame-01277.png', '../data/ribbon2_transparent/frame-01278.png', '../data/ribbon2_transparent/frame-01279.png', '../data/ribbon2_transparent/frame-01280.png']\n"
       ]
      }
     ],
     "prompt_number": 5
    },
    {
     "cell_type": "code",
     "collapsed": false,
     "input": [
      "files = sorted(glob(\"../eu_flag_newbg/vt*.png\"))\n",
      "changeBGofAlphaImages(files, np.array(Image.open(\"../eu_flag_newbg/bg.png\"))[:, :, 0:3])"
     ],
     "language": "python",
     "metadata": {},
     "outputs": [
      {
       "output_type": "stream",
       "stream": "stdout",
       "text": [
        "\r",
        "Processing vt.00001.png"
       ]
      },
      {
       "output_type": "stream",
       "stream": "stdout",
       "text": [
        "\r",
        "Processing vt.00002.png"
       ]
      },
      {
       "output_type": "stream",
       "stream": "stdout",
       "text": [
        "\r",
        "Processing vt.00003.png"
       ]
      },
      {
       "output_type": "stream",
       "stream": "stdout",
       "text": [
        "\r",
        "Processing vt.00004.png"
       ]
      },
      {
       "output_type": "stream",
       "stream": "stdout",
       "text": [
        "\r",
        "Processing vt.00005.png"
       ]
      },
      {
       "output_type": "stream",
       "stream": "stdout",
       "text": [
        "\r",
        "Processing vt.00006.png"
       ]
      },
      {
       "output_type": "stream",
       "stream": "stdout",
       "text": [
        "\r",
        "Processing vt.00007.png"
       ]
      },
      {
       "output_type": "stream",
       "stream": "stdout",
       "text": [
        "\r",
        "Processing vt.00008.png"
       ]
      },
      {
       "output_type": "stream",
       "stream": "stdout",
       "text": [
        "\r",
        "Processing vt.00009.png"
       ]
      },
      {
       "output_type": "stream",
       "stream": "stdout",
       "text": [
        "\r",
        "Processing vt.00010.png"
       ]
      },
      {
       "output_type": "stream",
       "stream": "stdout",
       "text": [
        "\r",
        "Processing vt.00011.png"
       ]
      },
      {
       "output_type": "stream",
       "stream": "stdout",
       "text": [
        "\r",
        "Processing vt.00012.png"
       ]
      },
      {
       "output_type": "stream",
       "stream": "stdout",
       "text": [
        "\r",
        "Processing vt.00013.png"
       ]
      },
      {
       "output_type": "stream",
       "stream": "stdout",
       "text": [
        "\r",
        "Processing vt.00014.png"
       ]
      },
      {
       "output_type": "stream",
       "stream": "stdout",
       "text": [
        "\r",
        "Processing vt.00015.png"
       ]
      },
      {
       "output_type": "stream",
       "stream": "stdout",
       "text": [
        "\r",
        "Processing vt.00016.png"
       ]
      },
      {
       "output_type": "stream",
       "stream": "stdout",
       "text": [
        "\r",
        "Processing vt.00017.png"
       ]
      },
      {
       "output_type": "stream",
       "stream": "stdout",
       "text": [
        "\r",
        "Processing vt.00018.png"
       ]
      },
      {
       "output_type": "stream",
       "stream": "stdout",
       "text": [
        "\r",
        "Processing vt.00019.png"
       ]
      },
      {
       "output_type": "stream",
       "stream": "stdout",
       "text": [
        "\r",
        "Processing vt.00020.png"
       ]
      },
      {
       "output_type": "stream",
       "stream": "stdout",
       "text": [
        "\r",
        "Processing vt.00021.png"
       ]
      },
      {
       "output_type": "stream",
       "stream": "stdout",
       "text": [
        "\r",
        "Processing vt.00022.png"
       ]
      },
      {
       "output_type": "stream",
       "stream": "stdout",
       "text": [
        "\r",
        "Processing vt.00023.png"
       ]
      },
      {
       "output_type": "stream",
       "stream": "stdout",
       "text": [
        "\r",
        "Processing vt.00024.png"
       ]
      },
      {
       "output_type": "stream",
       "stream": "stdout",
       "text": [
        "\r",
        "Processing vt.00025.png"
       ]
      },
      {
       "output_type": "stream",
       "stream": "stdout",
       "text": [
        "\r",
        "Processing vt.00026.png"
       ]
      },
      {
       "output_type": "stream",
       "stream": "stdout",
       "text": [
        "\r",
        "Processing vt.00027.png"
       ]
      },
      {
       "output_type": "stream",
       "stream": "stdout",
       "text": [
        "\r",
        "Processing vt.00028.png"
       ]
      },
      {
       "output_type": "stream",
       "stream": "stdout",
       "text": [
        "\r",
        "Processing vt.00029.png"
       ]
      },
      {
       "output_type": "stream",
       "stream": "stdout",
       "text": [
        "\r",
        "Processing vt.00030.png"
       ]
      },
      {
       "output_type": "stream",
       "stream": "stdout",
       "text": [
        "\r",
        "Processing vt.00031.png"
       ]
      },
      {
       "output_type": "stream",
       "stream": "stdout",
       "text": [
        "\r",
        "Processing vt.00032.png"
       ]
      },
      {
       "output_type": "stream",
       "stream": "stdout",
       "text": [
        "\r",
        "Processing vt.00033.png"
       ]
      },
      {
       "output_type": "stream",
       "stream": "stdout",
       "text": [
        "\r",
        "Processing vt.00034.png"
       ]
      },
      {
       "output_type": "stream",
       "stream": "stdout",
       "text": [
        "\r",
        "Processing vt.00035.png"
       ]
      },
      {
       "output_type": "stream",
       "stream": "stdout",
       "text": [
        "\r",
        "Processing vt.00036.png"
       ]
      },
      {
       "output_type": "stream",
       "stream": "stdout",
       "text": [
        "\r",
        "Processing vt.00037.png"
       ]
      },
      {
       "output_type": "stream",
       "stream": "stdout",
       "text": [
        "\r",
        "Processing vt.00038.png"
       ]
      },
      {
       "output_type": "stream",
       "stream": "stdout",
       "text": [
        "\r",
        "Processing vt.00039.png"
       ]
      },
      {
       "output_type": "stream",
       "stream": "stdout",
       "text": [
        "\r",
        "Processing vt.00040.png"
       ]
      },
      {
       "output_type": "stream",
       "stream": "stdout",
       "text": [
        "\r",
        "Processing vt.00041.png"
       ]
      },
      {
       "output_type": "stream",
       "stream": "stdout",
       "text": [
        "\r",
        "Processing vt.00042.png"
       ]
      },
      {
       "output_type": "stream",
       "stream": "stdout",
       "text": [
        "\r",
        "Processing vt.00043.png"
       ]
      },
      {
       "output_type": "stream",
       "stream": "stdout",
       "text": [
        "\r",
        "Processing vt.00044.png"
       ]
      },
      {
       "output_type": "stream",
       "stream": "stdout",
       "text": [
        "\r",
        "Processing vt.00045.png"
       ]
      },
      {
       "output_type": "stream",
       "stream": "stdout",
       "text": [
        "\r",
        "Processing vt.00046.png"
       ]
      },
      {
       "output_type": "stream",
       "stream": "stdout",
       "text": [
        "\r",
        "Processing vt.00047.png"
       ]
      },
      {
       "output_type": "stream",
       "stream": "stdout",
       "text": [
        "\r",
        "Processing vt.00048.png"
       ]
      },
      {
       "output_type": "stream",
       "stream": "stdout",
       "text": [
        "\r",
        "Processing vt.00049.png"
       ]
      },
      {
       "output_type": "stream",
       "stream": "stdout",
       "text": [
        "\r",
        "Processing vt.00050.png"
       ]
      },
      {
       "output_type": "stream",
       "stream": "stdout",
       "text": [
        "\r",
        "Processing vt.00051.png"
       ]
      },
      {
       "output_type": "stream",
       "stream": "stdout",
       "text": [
        "\r",
        "Processing vt.00052.png"
       ]
      },
      {
       "output_type": "stream",
       "stream": "stdout",
       "text": [
        "\r",
        "Processing vt.00053.png"
       ]
      },
      {
       "output_type": "stream",
       "stream": "stdout",
       "text": [
        "\r",
        "Processing vt.00054.png"
       ]
      },
      {
       "output_type": "stream",
       "stream": "stdout",
       "text": [
        "\r",
        "Processing vt.00055.png"
       ]
      },
      {
       "output_type": "stream",
       "stream": "stdout",
       "text": [
        "\r",
        "Processing vt.00056.png"
       ]
      },
      {
       "output_type": "stream",
       "stream": "stdout",
       "text": [
        "\r",
        "Processing vt.00057.png"
       ]
      },
      {
       "output_type": "stream",
       "stream": "stdout",
       "text": [
        "\r",
        "Processing vt.00058.png"
       ]
      },
      {
       "output_type": "stream",
       "stream": "stdout",
       "text": [
        "\r",
        "Processing vt.00059.png"
       ]
      },
      {
       "output_type": "stream",
       "stream": "stdout",
       "text": [
        "\r",
        "Processing vt.00060.png"
       ]
      },
      {
       "output_type": "stream",
       "stream": "stdout",
       "text": [
        "\r",
        "Processing vt.00061.png"
       ]
      },
      {
       "output_type": "stream",
       "stream": "stdout",
       "text": [
        "\r",
        "Processing vt.00062.png"
       ]
      },
      {
       "output_type": "stream",
       "stream": "stdout",
       "text": [
        "\r",
        "Processing vt.00063.png"
       ]
      },
      {
       "output_type": "stream",
       "stream": "stdout",
       "text": [
        "\r",
        "Processing vt.00064.png"
       ]
      },
      {
       "output_type": "stream",
       "stream": "stdout",
       "text": [
        "\r",
        "Processing vt.00065.png"
       ]
      },
      {
       "output_type": "stream",
       "stream": "stdout",
       "text": [
        "\r",
        "Processing vt.00066.png"
       ]
      },
      {
       "output_type": "stream",
       "stream": "stdout",
       "text": [
        "\r",
        "Processing vt.00067.png"
       ]
      },
      {
       "output_type": "stream",
       "stream": "stdout",
       "text": [
        "\r",
        "Processing vt.00068.png"
       ]
      },
      {
       "output_type": "stream",
       "stream": "stdout",
       "text": [
        "\r",
        "Processing vt.00069.png"
       ]
      },
      {
       "output_type": "stream",
       "stream": "stdout",
       "text": [
        "\r",
        "Processing vt.00070.png"
       ]
      },
      {
       "output_type": "stream",
       "stream": "stdout",
       "text": [
        "\r",
        "Processing vt.00071.png"
       ]
      },
      {
       "output_type": "stream",
       "stream": "stdout",
       "text": [
        "\r",
        "Processing vt.00072.png"
       ]
      },
      {
       "output_type": "stream",
       "stream": "stdout",
       "text": [
        "\r",
        "Processing vt.00073.png"
       ]
      },
      {
       "output_type": "stream",
       "stream": "stdout",
       "text": [
        "\r",
        "Processing vt.00074.png"
       ]
      },
      {
       "output_type": "stream",
       "stream": "stdout",
       "text": [
        "\r",
        "Processing vt.00075.png"
       ]
      },
      {
       "output_type": "stream",
       "stream": "stdout",
       "text": [
        "\r",
        "Processing vt.00076.png"
       ]
      },
      {
       "output_type": "stream",
       "stream": "stdout",
       "text": [
        "\r",
        "Processing vt.00077.png"
       ]
      },
      {
       "output_type": "stream",
       "stream": "stdout",
       "text": [
        "\r",
        "Processing vt.00078.png"
       ]
      },
      {
       "output_type": "stream",
       "stream": "stdout",
       "text": [
        "\r",
        "Processing vt.00079.png"
       ]
      },
      {
       "output_type": "stream",
       "stream": "stdout",
       "text": [
        "\r",
        "Processing vt.00080.png"
       ]
      },
      {
       "output_type": "stream",
       "stream": "stdout",
       "text": [
        "\r",
        "Processing vt.00081.png"
       ]
      },
      {
       "output_type": "stream",
       "stream": "stdout",
       "text": [
        "\r",
        "Processing vt.00082.png"
       ]
      },
      {
       "output_type": "stream",
       "stream": "stdout",
       "text": [
        "\r",
        "Processing vt.00083.png"
       ]
      },
      {
       "output_type": "stream",
       "stream": "stdout",
       "text": [
        "\r",
        "Processing vt.00084.png"
       ]
      },
      {
       "output_type": "stream",
       "stream": "stdout",
       "text": [
        "\r",
        "Processing vt.00085.png"
       ]
      },
      {
       "output_type": "stream",
       "stream": "stdout",
       "text": [
        "\r",
        "Processing vt.00086.png"
       ]
      },
      {
       "output_type": "stream",
       "stream": "stdout",
       "text": [
        "\r",
        "Processing vt.00087.png"
       ]
      },
      {
       "output_type": "stream",
       "stream": "stdout",
       "text": [
        "\r",
        "Processing vt.00088.png"
       ]
      },
      {
       "output_type": "stream",
       "stream": "stdout",
       "text": [
        "\r",
        "Processing vt.00089.png"
       ]
      },
      {
       "output_type": "stream",
       "stream": "stdout",
       "text": [
        "\r",
        "Processing vt.00090.png"
       ]
      },
      {
       "output_type": "stream",
       "stream": "stdout",
       "text": [
        "\r",
        "Processing vt.00091.png"
       ]
      },
      {
       "output_type": "stream",
       "stream": "stdout",
       "text": [
        "\r",
        "Processing vt.00092.png"
       ]
      },
      {
       "output_type": "stream",
       "stream": "stdout",
       "text": [
        "\r",
        "Processing vt.00093.png"
       ]
      },
      {
       "output_type": "stream",
       "stream": "stdout",
       "text": [
        "\r",
        "Processing vt.00094.png"
       ]
      },
      {
       "output_type": "stream",
       "stream": "stdout",
       "text": [
        "\r",
        "Processing vt.00095.png"
       ]
      },
      {
       "output_type": "stream",
       "stream": "stdout",
       "text": [
        "\r",
        "Processing vt.00096.png"
       ]
      },
      {
       "output_type": "stream",
       "stream": "stdout",
       "text": [
        "\r",
        "Processing vt.00097.png"
       ]
      },
      {
       "output_type": "stream",
       "stream": "stdout",
       "text": [
        "\r",
        "Processing vt.00098.png"
       ]
      },
      {
       "output_type": "stream",
       "stream": "stdout",
       "text": [
        "\r",
        "Processing vt.00099.png"
       ]
      },
      {
       "output_type": "stream",
       "stream": "stdout",
       "text": [
        "\r",
        "Processing vt.00100.png"
       ]
      },
      {
       "output_type": "stream",
       "stream": "stdout",
       "text": [
        "\r",
        "Processing vt.00101.png"
       ]
      },
      {
       "output_type": "stream",
       "stream": "stdout",
       "text": [
        "\r",
        "Processing vt.00102.png"
       ]
      },
      {
       "output_type": "stream",
       "stream": "stdout",
       "text": [
        "\r",
        "Processing vt.00103.png"
       ]
      },
      {
       "output_type": "stream",
       "stream": "stdout",
       "text": [
        "\r",
        "Processing vt.00104.png"
       ]
      },
      {
       "output_type": "stream",
       "stream": "stdout",
       "text": [
        "\r",
        "Processing vt.00105.png"
       ]
      },
      {
       "output_type": "stream",
       "stream": "stdout",
       "text": [
        "\r",
        "Processing vt.00106.png"
       ]
      },
      {
       "output_type": "stream",
       "stream": "stdout",
       "text": [
        "\r",
        "Processing vt.00107.png"
       ]
      },
      {
       "output_type": "stream",
       "stream": "stdout",
       "text": [
        "\r",
        "Processing vt.00108.png"
       ]
      },
      {
       "output_type": "stream",
       "stream": "stdout",
       "text": [
        "\r",
        "Processing vt.00109.png"
       ]
      },
      {
       "output_type": "stream",
       "stream": "stdout",
       "text": [
        "\r",
        "Processing vt.00110.png"
       ]
      },
      {
       "output_type": "stream",
       "stream": "stdout",
       "text": [
        "\r",
        "Processing vt.00111.png"
       ]
      },
      {
       "output_type": "stream",
       "stream": "stdout",
       "text": [
        "\r",
        "Processing vt.00112.png"
       ]
      },
      {
       "output_type": "stream",
       "stream": "stdout",
       "text": [
        "\r",
        "Processing vt.00113.png"
       ]
      },
      {
       "output_type": "stream",
       "stream": "stdout",
       "text": [
        "\r",
        "Processing vt.00114.png"
       ]
      },
      {
       "output_type": "stream",
       "stream": "stdout",
       "text": [
        "\r",
        "Processing vt.00115.png"
       ]
      },
      {
       "output_type": "stream",
       "stream": "stdout",
       "text": [
        "\r",
        "Processing vt.00116.png"
       ]
      },
      {
       "output_type": "stream",
       "stream": "stdout",
       "text": [
        "\r",
        "Processing vt.00117.png"
       ]
      },
      {
       "output_type": "stream",
       "stream": "stdout",
       "text": [
        "\r",
        "Processing vt.00118.png"
       ]
      },
      {
       "output_type": "stream",
       "stream": "stdout",
       "text": [
        "\r",
        "Processing vt.00119.png"
       ]
      },
      {
       "output_type": "stream",
       "stream": "stdout",
       "text": [
        "\r",
        "Processing vt.00120.png"
       ]
      },
      {
       "output_type": "stream",
       "stream": "stdout",
       "text": [
        "\r",
        "Processing vt.00121.png"
       ]
      },
      {
       "output_type": "stream",
       "stream": "stdout",
       "text": [
        "\r",
        "Processing vt.00122.png"
       ]
      },
      {
       "output_type": "stream",
       "stream": "stdout",
       "text": [
        "\r",
        "Processing vt.00123.png"
       ]
      },
      {
       "output_type": "stream",
       "stream": "stdout",
       "text": [
        "\r",
        "Processing vt.00124.png"
       ]
      },
      {
       "output_type": "stream",
       "stream": "stdout",
       "text": [
        "\r",
        "Processing vt.00125.png"
       ]
      },
      {
       "output_type": "stream",
       "stream": "stdout",
       "text": [
        "\r",
        "Processing vt.00126.png"
       ]
      },
      {
       "output_type": "stream",
       "stream": "stdout",
       "text": [
        "\r",
        "Processing vt.00127.png"
       ]
      },
      {
       "output_type": "stream",
       "stream": "stdout",
       "text": [
        "\r",
        "Processing vt.00128.png"
       ]
      },
      {
       "output_type": "stream",
       "stream": "stdout",
       "text": [
        "\r",
        "Processing vt.00129.png"
       ]
      },
      {
       "output_type": "stream",
       "stream": "stdout",
       "text": [
        "\r",
        "Processing vt.00130.png"
       ]
      },
      {
       "output_type": "stream",
       "stream": "stdout",
       "text": [
        "\r",
        "Processing vt.00131.png"
       ]
      },
      {
       "output_type": "stream",
       "stream": "stdout",
       "text": [
        "\r",
        "Processing vt.00132.png"
       ]
      },
      {
       "output_type": "stream",
       "stream": "stdout",
       "text": [
        "\r",
        "Processing vt.00133.png"
       ]
      },
      {
       "output_type": "stream",
       "stream": "stdout",
       "text": [
        "\r",
        "Processing vt.00134.png"
       ]
      },
      {
       "output_type": "stream",
       "stream": "stdout",
       "text": [
        "\r",
        "Processing vt.00135.png"
       ]
      },
      {
       "output_type": "stream",
       "stream": "stdout",
       "text": [
        "\r",
        "Processing vt.00136.png"
       ]
      },
      {
       "output_type": "stream",
       "stream": "stdout",
       "text": [
        "\r",
        "Processing vt.00137.png"
       ]
      },
      {
       "output_type": "stream",
       "stream": "stdout",
       "text": [
        "\r",
        "Processing vt.00138.png"
       ]
      },
      {
       "output_type": "stream",
       "stream": "stdout",
       "text": [
        "\r",
        "Processing vt.00139.png"
       ]
      },
      {
       "output_type": "stream",
       "stream": "stdout",
       "text": [
        "\r",
        "Processing vt.00140.png"
       ]
      },
      {
       "output_type": "stream",
       "stream": "stdout",
       "text": [
        "\r",
        "Processing vt.00141.png"
       ]
      },
      {
       "output_type": "stream",
       "stream": "stdout",
       "text": [
        "\r",
        "Processing vt.00142.png"
       ]
      },
      {
       "output_type": "stream",
       "stream": "stdout",
       "text": [
        "\r",
        "Processing vt.00143.png"
       ]
      },
      {
       "output_type": "stream",
       "stream": "stdout",
       "text": [
        "\r",
        "Processing vt.00144.png"
       ]
      },
      {
       "output_type": "stream",
       "stream": "stdout",
       "text": [
        "\r",
        "Processing vt.00145.png"
       ]
      },
      {
       "output_type": "stream",
       "stream": "stdout",
       "text": [
        "\r",
        "Processing vt.00146.png"
       ]
      },
      {
       "output_type": "stream",
       "stream": "stdout",
       "text": [
        "\r",
        "Processing vt.00147.png"
       ]
      },
      {
       "output_type": "stream",
       "stream": "stdout",
       "text": [
        "\r",
        "Processing vt.00148.png"
       ]
      },
      {
       "output_type": "stream",
       "stream": "stdout",
       "text": [
        "\r",
        "Processing vt.00149.png"
       ]
      },
      {
       "output_type": "stream",
       "stream": "stdout",
       "text": [
        "\r",
        "Processing vt.00150.png"
       ]
      },
      {
       "output_type": "stream",
       "stream": "stdout",
       "text": [
        "\r",
        "Processing vt.00151.png"
       ]
      },
      {
       "output_type": "stream",
       "stream": "stdout",
       "text": [
        "\r",
        "Processing vt.00152.png"
       ]
      },
      {
       "output_type": "stream",
       "stream": "stdout",
       "text": [
        "\r",
        "Processing vt.00153.png"
       ]
      },
      {
       "output_type": "stream",
       "stream": "stdout",
       "text": [
        "\r",
        "Processing vt.00154.png"
       ]
      },
      {
       "output_type": "stream",
       "stream": "stdout",
       "text": [
        "\r",
        "Processing vt.00155.png"
       ]
      },
      {
       "output_type": "stream",
       "stream": "stdout",
       "text": [
        "\r",
        "Processing vt.00156.png"
       ]
      },
      {
       "output_type": "stream",
       "stream": "stdout",
       "text": [
        "\r",
        "Processing vt.00157.png"
       ]
      },
      {
       "output_type": "stream",
       "stream": "stdout",
       "text": [
        "\r",
        "Processing vt.00158.png"
       ]
      },
      {
       "output_type": "stream",
       "stream": "stdout",
       "text": [
        "\r",
        "Processing vt.00159.png"
       ]
      },
      {
       "output_type": "stream",
       "stream": "stdout",
       "text": [
        "\r",
        "Processing vt.00160.png"
       ]
      },
      {
       "output_type": "stream",
       "stream": "stdout",
       "text": [
        "\r",
        "Processing vt.00161.png"
       ]
      }
     ],
     "prompt_number": 3
    }
   ],
   "metadata": {}
  }
 ]
}