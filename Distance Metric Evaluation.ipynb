{
 "metadata": {
  "name": "",
  "signature": "sha256:5e6b2f2f501a93ab957e811b67839092887961312daef3351fda557ab01fc8a1"
 },
 "nbformat": 3,
 "nbformat_minor": 0,
 "worksheets": [
  {
   "cells": [
    {
     "cell_type": "code",
     "collapsed": false,
     "input": [
      "%pylab\n",
      "import numpy as np\n",
      "import sys\n",
      "import os\n",
      "import glob\n",
      "import cv2\n",
      "\n",
      "import VideoTexturesUtils as vtu\n",
      "import GraphWithValues as gwv\n",
      "\n",
      "\n",
      "from PySide import QtCore, QtGui\n",
      "\n",
      "app = QtGui.QApplication(sys.argv)"
     ],
     "language": "python",
     "metadata": {},
     "outputs": [
      {
       "output_type": "stream",
       "stream": "stdout",
       "text": [
        "Using matplotlib backend: TkAgg\n",
        "Populating the interactive namespace from numpy and matplotlib\n"
       ]
      }
     ],
     "prompt_number": 1
    },
    {
     "cell_type": "code",
     "collapsed": false,
     "input": [
      "# dataPath = \"/home/ilisescu/PhD/data\"\n",
      "dataPath = \"/media/ilisescu/Data1/PhD/data/\"\n",
      "# dataSet = \"splashes_water/\"\n",
      "# dataSet = \"small_waterfall/\"\n",
      "# dataSet = \"sisi_flag/\"\n",
      "dataSet = \"eu_flag_ph_left/\"\n",
      "# dataSet = \"candle1/segmentedAndCropped/\"\n",
      "# dataSet = \"candle2/subset_stabilized/segmentedAndCropped/\"\n",
      "# dataSet = \"candle3/stabilized/segmentedAndCropped/\"\n",
      "best10Jumps = []\n",
      "frames = glob.glob(dataPath + dataSet + \"frame-*.png\")\n",
      "mattes = glob.glob(dataPath + dataSet + \"matte-*.png\")\n",
      "frames = np.sort(frames)\n",
      "mattes = np.sort(mattes)#[0:len(frames)-10]\n",
      "numFrames = len(frames)\n",
      "print numFrames"
     ],
     "language": "python",
     "metadata": {},
     "outputs": [
      {
       "output_type": "stream",
       "stream": "stdout",
       "text": [
        "1208\n"
       ]
      }
     ],
     "prompt_number": 2
    },
    {
     "cell_type": "code",
     "collapsed": false,
     "input": [
      "# distanceMatrix = np.load(dataPath+dataSet+\"l2_distMat.npy\")\n",
      "isL2 = True\n",
      "if isL2 :\n",
      "    distanceMatrix = np.load(dataPath+dataSet+\"vanilla_distMat.npy\")\n",
      "#     distanceMatrix = np.load(dataPath+dataSet+\"psiWeighted_allOnesWeights_distMat.npy\")\n",
      "else :\n",
      "#     distanceMatrix = np.load(dataPath+dataSet+\"psiWeighted_userLabelledExamples_distMat.npy\")\n",
      "    distanceMatrix = np.load(dataPath+dataSet+\"psiWeighted_1000randomBadExamples_distMat.npy\")\n",
      "# figure(); imshow(distanceMatrix)\n",
      "\n",
      "    ## make sure the cost of staying at the same location is as big as max cost and normalize to [0, 1]\n",
      "    distanceMatrix[arange(len(distanceMatrix)), arange(len(distanceMatrix))] = np.max(distanceMatrix)\n",
      "    distanceMatrix /= np.max(distanceMatrix)\n",
      "\n",
      "gwv.showCustomGraph(distanceMatrix)"
     ],
     "language": "python",
     "metadata": {},
     "outputs": [],
     "prompt_number": 3
    },
    {
     "cell_type": "code",
     "collapsed": false,
     "input": [
      "gwv.showCustomGraph(np.load(dataPath+dataSet+\"psiWeighted_allOnesWeights_distMat.npy\"))\n",
      "gwv.showCustomGraph(np.load(dataPath+dataSet+\"vanilla_distMat.npy\"))"
     ],
     "language": "python",
     "metadata": {},
     "outputs": [],
     "prompt_number": 69
    },
    {
     "cell_type": "code",
     "collapsed": false,
     "input": [
      "gwv.showCustomGraph(vtu.filterDistanceMatrix(distanceMatrix, numFilterFrames, isRepetitive))"
     ],
     "language": "python",
     "metadata": {},
     "outputs": [
      {
       "output_type": "stream",
       "stream": "stdout",
       "text": [
        "[  1.   8.  28.  56.  70.  56.  28.   8.   1.]\n"
       ]
      }
     ],
     "prompt_number": 72
    },
    {
     "cell_type": "code",
     "collapsed": false,
     "input": [
      "## all params (same for all I guess? but maybe I need to normalize all distances to the same interval)\n",
      "numFilterFrames = 4\n",
      "isRepetitive = False\n",
      "alpha = 0.999\n",
      "p = 2.0\n",
      "sigmaMult = 0.005\n",
      "normalizeRows = True\n",
      "correction = numFilterFrames + 1\n",
      "startFrame = 0\n",
      "verbose = True\n",
      "totalHoursToGenerate = 1.5\n",
      "totalFramesToGenerate = int(1.5*60*60*30) # mins*secs*fps\n",
      "totalJumps = 200000\n",
      "print totalFramesToGenerate"
     ],
     "language": "python",
     "metadata": {},
     "outputs": [
      {
       "output_type": "stream",
       "stream": "stdout",
       "text": [
        "162000\n"
       ]
      }
     ],
     "prompt_number": 4
    },
    {
     "cell_type": "code",
     "collapsed": false,
     "input": [
      "## Avoid dead ends: estimate future costs\n",
      "def estimateFutureCost(alpha, p, distanceMatrixFilt) :\n",
      "    # alpha = 0.999\n",
      "    # p = 2.0\n",
      "    \n",
      "    distMatFilt = distanceMatrixFilt[1:distanceMatrixFilt.shape[1], 0:-1]\n",
      "    distMat = distMatFilt ** p\n",
      "    \n",
      "    last = np.copy(distMat)\n",
      "    current = np.zeros(distMat.shape)\n",
      "    \n",
      "    ## while distance between last and current is larger than threshold\n",
      "    iterations = 0 \n",
      "    while np.linalg.norm(last - current) > 0.1 : \n",
      "        for i in range(distMat.shape[0]-1, -1, -1) :\n",
      "            m = np.min(distMat, axis=1)\n",
      "            distMat[i, :] = (distMatFilt[i, :] ** p) + alpha*m\n",
      "            \n",
      "        last = np.copy(current)\n",
      "        current = np.copy(distMat)\n",
      "        \n",
      "        sys.stdout.write('\\r' + \"Iteration \" + np.string_(iterations) + \"; distance \" + np.string_(np.linalg.norm(last - current)))\n",
      "        sys.stdout.flush()\n",
      "        \n",
      "        iterations += 1\n",
      "    \n",
      "    print\n",
      "    print 'finished in', iterations, 'iterations'\n",
      "    \n",
      "    return distMat\n",
      "\n",
      "filteredDist = vtu.filterDistanceMatrix(distanceMatrix, numFilterFrames, isRepetitive)\n",
      "figure(); imshow(filteredDist)\n",
      "\n",
      "optimizedDist = estimateFutureCost(0.999, 2.0, filteredDist)\n",
      "figure(); imshow(optimizedDist)"
     ],
     "language": "python",
     "metadata": {},
     "outputs": [],
     "prompt_number": 5
    },
    {
     "cell_type": "code",
     "collapsed": false,
     "input": [
      "filteredDist = vtu.filterDistanceMatrix(distanceMatrix, numFilterFrames, isRepetitive)\n",
      "figure(); imshow(filteredDist)\n",
      "\n",
      "optimizedDist = vtu.estimateFutureCost(0.999, 2.0, filteredDist)\n",
      "figure(); imshow(optimizedDist)"
     ],
     "language": "python",
     "metadata": {},
     "outputs": [
      {
       "output_type": "stream",
       "stream": "stdout",
       "text": [
        "[  1.   8.  28.  56.  70.  56.  28.   8.   1.]\n",
        "\r",
        "Iteration 0; distance 116045.690464"
       ]
      },
      {
       "output_type": "stream",
       "stream": "stdout",
       "text": [
        "\r",
        "Iteration 1; distance 18761.7438873"
       ]
      },
      {
       "output_type": "stream",
       "stream": "stdout",
       "text": [
        "\r",
        "Iteration 2; distance 16842.5568174"
       ]
      },
      {
       "output_type": "stream",
       "stream": "stdout",
       "text": [
        "\r",
        "Iteration 3; distance 15462.6282419"
       ]
      },
      {
       "output_type": "stream",
       "stream": "stdout",
       "text": [
        "\r",
        "Iteration 4; distance 14711.9682647"
       ]
      },
      {
       "output_type": "stream",
       "stream": "stdout",
       "text": [
        "\r",
        "Iteration 5; distance 14133.4425517"
       ]
      },
      {
       "output_type": "stream",
       "stream": "stdout",
       "text": [
        "\r",
        "Iteration 6; distance 13781.2771691"
       ]
      },
      {
       "output_type": "stream",
       "stream": "stdout",
       "text": [
        "\r",
        "Iteration 7; distance 13335.9418064"
       ]
      },
      {
       "output_type": "stream",
       "stream": "stdout",
       "text": [
        "\r",
        "Iteration 8; distance 12723.8412481"
       ]
      },
      {
       "output_type": "stream",
       "stream": "stdout",
       "text": [
        "\r",
        "Iteration 9; distance 11761.9264613"
       ]
      },
      {
       "output_type": "stream",
       "stream": "stdout",
       "text": [
        "\r",
        "Iteration 10; distance 10661.7809906"
       ]
      },
      {
       "output_type": "stream",
       "stream": "stdout",
       "text": [
        "\r",
        "Iteration 11; distance 9932.42189593"
       ]
      },
      {
       "output_type": "stream",
       "stream": "stdout",
       "text": [
        "\r",
        "Iteration 12; distance 9552.66429099"
       ]
      },
      {
       "output_type": "stream",
       "stream": "stdout",
       "text": [
        "\r",
        "Iteration 13; distance 9260.00796471"
       ]
      },
      {
       "output_type": "stream",
       "stream": "stdout",
       "text": [
        "\r",
        "Iteration 14; distance 9170.14930289"
       ]
      },
      {
       "output_type": "stream",
       "stream": "stdout",
       "text": [
        "\r",
        "Iteration 15; distance 9023.69231959"
       ]
      },
      {
       "output_type": "stream",
       "stream": "stdout",
       "text": [
        "\r",
        "Iteration 16; distance 8860.50889392"
       ]
      },
      {
       "output_type": "stream",
       "stream": "stdout",
       "text": [
        "\r",
        "Iteration 17; distance 8751.25776717"
       ]
      },
      {
       "output_type": "stream",
       "stream": "stdout",
       "text": [
        "\r",
        "Iteration 18; distance 8714.12051472"
       ]
      },
      {
       "output_type": "stream",
       "stream": "stdout",
       "text": [
        "\r",
        "Iteration 19; distance 8672.13666136"
       ]
      },
      {
       "output_type": "stream",
       "stream": "stdout",
       "text": [
        "\r",
        "Iteration 20; distance 8643.47846421"
       ]
      },
      {
       "output_type": "stream",
       "stream": "stdout",
       "text": [
        "\r",
        "Iteration 21; distance 8619.16602275"
       ]
      },
      {
       "output_type": "stream",
       "stream": "stdout",
       "text": [
        "\r",
        "Iteration 22; distance 8600.1039556"
       ]
      },
      {
       "output_type": "stream",
       "stream": "stdout",
       "text": [
        "\r",
        "Iteration 23; distance 8579.36199919"
       ]
      },
      {
       "output_type": "stream",
       "stream": "stdout",
       "text": [
        "\r",
        "Iteration 24; distance 8556.81147437"
       ]
      },
      {
       "output_type": "stream",
       "stream": "stdout",
       "text": [
        "\r",
        "Iteration 25; distance 8532.38220931"
       ]
      },
      {
       "output_type": "stream",
       "stream": "stdout",
       "text": [
        "\r",
        "Iteration 26; distance 8515.81813581"
       ]
      },
      {
       "output_type": "stream",
       "stream": "stdout",
       "text": [
        "\r",
        "Iteration 27; distance 8499.76806257"
       ]
      },
      {
       "output_type": "stream",
       "stream": "stdout",
       "text": [
        "\r",
        "Iteration 28; distance 8455.02515182"
       ]
      },
      {
       "output_type": "stream",
       "stream": "stdout",
       "text": [
        "\r",
        "Iteration 29; distance 8421.73180815"
       ]
      },
      {
       "output_type": "stream",
       "stream": "stdout",
       "text": [
        "\r",
        "Iteration 30; distance 8398.66710395"
       ]
      },
      {
       "output_type": "stream",
       "stream": "stdout",
       "text": [
        "\r",
        "Iteration 31; distance 8348.6970054"
       ]
      },
      {
       "output_type": "stream",
       "stream": "stdout",
       "text": [
        "\r",
        "Iteration 32; distance 8290.79785999"
       ]
      },
      {
       "output_type": "stream",
       "stream": "stdout",
       "text": [
        "\r",
        "Iteration 33; distance 8277.13321091"
       ]
      },
      {
       "output_type": "stream",
       "stream": "stdout",
       "text": [
        "\r",
        "Iteration 34; distance 8249.07098501"
       ]
      },
      {
       "output_type": "stream",
       "stream": "stdout",
       "text": [
        "\r",
        "Iteration 35; distance 8209.30401714"
       ]
      },
      {
       "output_type": "stream",
       "stream": "stdout",
       "text": [
        "\r",
        "Iteration 36; distance 8167.47849671"
       ]
      },
      {
       "output_type": "stream",
       "stream": "stdout",
       "text": [
        "\r",
        "Iteration 37; distance 8140.6555717"
       ]
      },
      {
       "output_type": "stream",
       "stream": "stdout",
       "text": [
        "\r",
        "Iteration 38; distance 8118.74412584"
       ]
      },
      {
       "output_type": "stream",
       "stream": "stdout",
       "text": [
        "\r",
        "Iteration 39; distance 8101.90341688"
       ]
      },
      {
       "output_type": "stream",
       "stream": "stdout",
       "text": [
        "\r",
        "Iteration 40; distance 8085.979408"
       ]
      },
      {
       "output_type": "stream",
       "stream": "stdout",
       "text": [
        "\r",
        "Iteration 41; distance 8070.05178724"
       ]
      },
      {
       "output_type": "stream",
       "stream": "stdout",
       "text": [
        "\r",
        "Iteration 42; distance 8053.2642728"
       ]
      },
      {
       "output_type": "stream",
       "stream": "stdout",
       "text": [
        "\r",
        "Iteration 43; distance 8038.0191275"
       ]
      },
      {
       "output_type": "stream",
       "stream": "stdout",
       "text": [
        "\r",
        "Iteration 44; distance 8018.47460095"
       ]
      },
      {
       "output_type": "stream",
       "stream": "stdout",
       "text": [
        "\r",
        "Iteration 45; distance 7992.45186856"
       ]
      },
      {
       "output_type": "stream",
       "stream": "stdout",
       "text": [
        "\r",
        "Iteration 46; distance 7975.11403052"
       ]
      },
      {
       "output_type": "stream",
       "stream": "stdout",
       "text": [
        "\r",
        "Iteration 47; distance 7965.89684085"
       ]
      },
      {
       "output_type": "stream",
       "stream": "stdout",
       "text": [
        "\r",
        "Iteration 48; distance 7957.03741919"
       ]
      },
      {
       "output_type": "stream",
       "stream": "stdout",
       "text": [
        "\r",
        "Iteration 49; distance 7946.08423294"
       ]
      },
      {
       "output_type": "stream",
       "stream": "stdout",
       "text": [
        "\r",
        "Iteration 50; distance 7934.76883357"
       ]
      },
      {
       "output_type": "stream",
       "stream": "stdout",
       "text": [
        "\r",
        "Iteration 51; distance 7925.2251269"
       ]
      },
      {
       "output_type": "stream",
       "stream": "stdout",
       "text": [
        "\r",
        "Iteration 52; distance 7915.80906199"
       ]
      },
      {
       "output_type": "stream",
       "stream": "stdout",
       "text": [
        "\r",
        "Iteration 53; distance 7906.60096948"
       ]
      },
      {
       "output_type": "stream",
       "stream": "stdout",
       "text": [
        "\r",
        "Iteration 54; distance 7897.08287008"
       ]
      },
      {
       "output_type": "stream",
       "stream": "stdout",
       "text": [
        "\r",
        "Iteration 55; distance 7878.08801515"
       ]
      },
      {
       "output_type": "stream",
       "stream": "stdout",
       "text": [
        "\r",
        "Iteration 56; distance 7864.44397957"
       ]
      },
      {
       "output_type": "stream",
       "stream": "stdout",
       "text": [
        "\r",
        "Iteration 57; distance 7853.37936568"
       ]
      },
      {
       "output_type": "stream",
       "stream": "stdout",
       "text": [
        "\r",
        "Iteration 58; distance 7840.7058401"
       ]
      },
      {
       "output_type": "stream",
       "stream": "stdout",
       "text": [
        "\r",
        "Iteration 59; distance 7824.90181422"
       ]
      },
      {
       "output_type": "stream",
       "stream": "stdout",
       "text": [
        "\r",
        "Iteration 60; distance 7810.22474693"
       ]
      },
      {
       "output_type": "stream",
       "stream": "stdout",
       "text": [
        "\r",
        "Iteration 61; distance 7800.34801819"
       ]
      },
      {
       "output_type": "stream",
       "stream": "stdout",
       "text": [
        "\r",
        "Iteration 62; distance 7787.76771001"
       ]
      },
      {
       "output_type": "stream",
       "stream": "stdout",
       "text": [
        "\r",
        "Iteration 63; distance 7774.46267753"
       ]
      },
      {
       "output_type": "stream",
       "stream": "stdout",
       "text": [
        "\r",
        "Iteration 64; distance 7763.76891439"
       ]
      },
      {
       "output_type": "stream",
       "stream": "stdout",
       "text": [
        "\r",
        "Iteration 65; distance 7755.05879454"
       ]
      },
      {
       "output_type": "stream",
       "stream": "stdout",
       "text": [
        "\r",
        "Iteration 66; distance 7746.36730454"
       ]
      },
      {
       "output_type": "stream",
       "stream": "stdout",
       "text": [
        "\r",
        "Iteration 67; distance 7730.83054415"
       ]
      },
      {
       "output_type": "stream",
       "stream": "stdout",
       "text": [
        "\r",
        "Iteration 68; distance 7713.75367765"
       ]
      },
      {
       "output_type": "stream",
       "stream": "stdout",
       "text": [
        "\r",
        "Iteration 69; distance 7699.17522035"
       ]
      },
      {
       "output_type": "stream",
       "stream": "stdout",
       "text": [
        "\r",
        "Iteration 70; distance 7685.14859799"
       ]
      },
      {
       "output_type": "stream",
       "stream": "stdout",
       "text": [
        "\r",
        "Iteration 71; distance 7675.06097712"
       ]
      },
      {
       "output_type": "stream",
       "stream": "stdout",
       "text": [
        "\r",
        "Iteration 72; distance 7666.04662844"
       ]
      },
      {
       "output_type": "stream",
       "stream": "stdout",
       "text": [
        "\r",
        "Iteration 73; distance 7650.16348516"
       ]
      },
      {
       "output_type": "stream",
       "stream": "stdout",
       "text": [
        "\r",
        "Iteration 74; distance 7635.54548572"
       ]
      },
      {
       "output_type": "stream",
       "stream": "stdout",
       "text": [
        "\r",
        "Iteration 75; distance 7624.28065246"
       ]
      },
      {
       "output_type": "stream",
       "stream": "stdout",
       "text": [
        "\r",
        "Iteration 76; distance 7613.90555403"
       ]
      },
      {
       "output_type": "stream",
       "stream": "stdout",
       "text": [
        "\r",
        "Iteration 77; distance 7604.75641533"
       ]
      },
      {
       "output_type": "stream",
       "stream": "stdout",
       "text": [
        "\r",
        "Iteration 78; distance 7595.64786903"
       ]
      },
      {
       "output_type": "stream",
       "stream": "stdout",
       "text": [
        "\r",
        "Iteration 79; distance 7586.55909099"
       ]
      },
      {
       "output_type": "stream",
       "stream": "stdout",
       "text": [
        "\r",
        "Iteration 80; distance 7577.2603711"
       ]
      },
      {
       "output_type": "stream",
       "stream": "stdout",
       "text": [
        "\r",
        "Iteration 81; distance 7568.03175323"
       ]
      },
      {
       "output_type": "stream",
       "stream": "stdout",
       "text": [
        "\r",
        "Iteration 82; distance 7559.29718039"
       ]
      },
      {
       "output_type": "stream",
       "stream": "stdout",
       "text": [
        "\r",
        "Iteration 83; distance 7550.57918661"
       ]
      },
      {
       "output_type": "stream",
       "stream": "stdout",
       "text": [
        "\r",
        "Iteration 84; distance 7539.452671"
       ]
      },
      {
       "output_type": "stream",
       "stream": "stdout",
       "text": [
        "\r",
        "Iteration 85; distance 7529.06909433"
       ]
      },
      {
       "output_type": "stream",
       "stream": "stdout",
       "text": [
        "\r",
        "Iteration 86; distance 7521.0651207"
       ]
      },
      {
       "output_type": "stream",
       "stream": "stdout",
       "text": [
        "\r",
        "Iteration 87; distance 7512.24755714"
       ]
      },
      {
       "output_type": "stream",
       "stream": "stdout",
       "text": [
        "\r",
        "Iteration 88; distance 7501.02834284"
       ]
      },
      {
       "output_type": "stream",
       "stream": "stdout",
       "text": [
        "\r",
        "Iteration 89; distance 7492.90601232"
       ]
      },
      {
       "output_type": "stream",
       "stream": "stdout",
       "text": [
        "\r",
        "Iteration 90; distance 7484.33739657"
       ]
      },
      {
       "output_type": "stream",
       "stream": "stdout",
       "text": [
        "\r",
        "Iteration 91; distance 7475.04381636"
       ]
      },
      {
       "output_type": "stream",
       "stream": "stdout",
       "text": [
        "\r",
        "Iteration 92; distance 7465.14348523"
       ]
      },
      {
       "output_type": "stream",
       "stream": "stdout",
       "text": [
        "\r",
        "Iteration 93; distance 7455.93065035"
       ]
      },
      {
       "output_type": "stream",
       "stream": "stdout",
       "text": [
        "\r",
        "Iteration 94; distance 7446.52531555"
       ]
      },
      {
       "output_type": "stream",
       "stream": "stdout",
       "text": [
        "\r",
        "Iteration 95; distance 7423.41740497"
       ]
      },
      {
       "output_type": "stream",
       "stream": "stdout",
       "text": [
        "\r",
        "Iteration 96; distance 7407.00999667"
       ]
      },
      {
       "output_type": "stream",
       "stream": "stdout",
       "text": [
        "\r",
        "Iteration 97; distance 7397.63845402"
       ]
      },
      {
       "output_type": "stream",
       "stream": "stdout",
       "text": [
        "\r",
        "Iteration 98; distance 7389.23590426"
       ]
      },
      {
       "output_type": "stream",
       "stream": "stdout",
       "text": [
        "\r",
        "Iteration 99; distance 7380.67702691"
       ]
      },
      {
       "output_type": "stream",
       "stream": "stdout",
       "text": [
        "\r",
        "Iteration 100; distance 7372.05299272"
       ]
      },
      {
       "output_type": "stream",
       "stream": "stdout",
       "text": [
        "\r",
        "Iteration 101; distance 7361.21009039"
       ]
      },
      {
       "output_type": "stream",
       "stream": "stdout",
       "text": [
        "\r",
        "Iteration 102; distance 7347.89589462"
       ]
      },
      {
       "output_type": "stream",
       "stream": "stdout",
       "text": [
        "\r",
        "Iteration 103; distance 7328.08756645"
       ]
      },
      {
       "output_type": "stream",
       "stream": "stdout",
       "text": [
        "\r",
        "Iteration 104; distance 7307.85184336"
       ]
      },
      {
       "output_type": "stream",
       "stream": "stdout",
       "text": [
        "\r",
        "Iteration 105; distance 7292.39097931"
       ]
      },
      {
       "output_type": "stream",
       "stream": "stdout",
       "text": [
        "\r",
        "Iteration 106; distance 7272.31673348"
       ]
      },
      {
       "output_type": "stream",
       "stream": "stdout",
       "text": [
        "\r",
        "Iteration 107; distance 7247.13889006"
       ]
      },
      {
       "output_type": "stream",
       "stream": "stdout",
       "text": [
        "\r",
        "Iteration 108; distance 7237.98885349"
       ]
      },
      {
       "output_type": "stream",
       "stream": "stdout",
       "text": [
        "\r",
        "Iteration 109; distance 7229.0985831"
       ]
      },
      {
       "output_type": "stream",
       "stream": "stdout",
       "text": [
        "\r",
        "Iteration 110; distance 7216.96587717"
       ]
      },
      {
       "output_type": "stream",
       "stream": "stdout",
       "text": [
        "\r",
        "Iteration 111; distance 7206.20073543"
       ]
      },
      {
       "output_type": "stream",
       "stream": "stdout",
       "text": [
        "\r",
        "Iteration 112; distance 7196.90511538"
       ]
      },
      {
       "output_type": "stream",
       "stream": "stdout",
       "text": [
        "\r",
        "Iteration 113; distance 7183.36230764"
       ]
      },
      {
       "output_type": "stream",
       "stream": "stdout",
       "text": [
        "\r",
        "Iteration 114; distance 7174.0039168"
       ]
      },
      {
       "output_type": "stream",
       "stream": "stdout",
       "text": [
        "\r",
        "Iteration 115; distance 7163.85876271"
       ]
      },
      {
       "output_type": "stream",
       "stream": "stdout",
       "text": [
        "\r",
        "Iteration 116; distance 7130.59628283"
       ]
      },
      {
       "output_type": "stream",
       "stream": "stdout",
       "text": [
        "\r",
        "Iteration 117; distance 7076.8248508"
       ]
      },
      {
       "output_type": "stream",
       "stream": "stdout",
       "text": [
        "\r",
        "Iteration 118; distance 7042.78719169"
       ]
      },
      {
       "output_type": "stream",
       "stream": "stdout",
       "text": [
        "\r",
        "Iteration 119; distance 7027.64344579"
       ]
      },
      {
       "output_type": "stream",
       "stream": "stdout",
       "text": [
        "\r",
        "Iteration 120; distance 7011.23374244"
       ]
      },
      {
       "output_type": "stream",
       "stream": "stdout",
       "text": [
        "\r",
        "Iteration 121; distance 7000.45245608"
       ]
      },
      {
       "output_type": "stream",
       "stream": "stdout",
       "text": [
        "\r",
        "Iteration 122; distance 6989.24162731"
       ]
      },
      {
       "output_type": "stream",
       "stream": "stdout",
       "text": [
        "\r",
        "Iteration 123; distance 6951.66829236"
       ]
      },
      {
       "output_type": "stream",
       "stream": "stdout",
       "text": [
        "\r",
        "Iteration 124; distance 6904.56951294"
       ]
      },
      {
       "output_type": "stream",
       "stream": "stdout",
       "text": [
        "\r",
        "Iteration 125; distance 6884.1285651"
       ]
      },
      {
       "output_type": "stream",
       "stream": "stdout",
       "text": [
        "\r",
        "Iteration 126; distance 6862.66693545"
       ]
      },
      {
       "output_type": "stream",
       "stream": "stdout",
       "text": [
        "\r",
        "Iteration 127; distance 6843.83135769"
       ]
      },
      {
       "output_type": "stream",
       "stream": "stdout",
       "text": [
        "\r",
        "Iteration 128; distance 6835.60423841"
       ]
      },
      {
       "output_type": "stream",
       "stream": "stdout",
       "text": [
        "\r",
        "Iteration 129; distance 6827.33519841"
       ]
      },
      {
       "output_type": "stream",
       "stream": "stdout",
       "text": [
        "\r",
        "Iteration 130; distance 6816.1225968"
       ]
      },
      {
       "output_type": "stream",
       "stream": "stdout",
       "text": [
        "\r",
        "Iteration 131; distance 6774.1729682"
       ]
      },
      {
       "output_type": "stream",
       "stream": "stdout",
       "text": [
        "\r",
        "Iteration 132; distance 6625.42411781"
       ]
      },
      {
       "output_type": "stream",
       "stream": "stdout",
       "text": [
        "\r",
        "Iteration 133; distance 6427.43516531"
       ]
      },
      {
       "output_type": "stream",
       "stream": "stdout",
       "text": [
        "\r",
        "Iteration 134; distance 6320.93110647"
       ]
      },
      {
       "output_type": "stream",
       "stream": "stdout",
       "text": [
        "\r",
        "Iteration 135; distance 6276.88599045"
       ]
      },
      {
       "output_type": "stream",
       "stream": "stdout",
       "text": [
        "\r",
        "Iteration 136; distance 6114.740851"
       ]
      },
      {
       "output_type": "stream",
       "stream": "stdout",
       "text": [
        "\r",
        "Iteration 137; distance 6002.73403548"
       ]
      },
      {
       "output_type": "stream",
       "stream": "stdout",
       "text": [
        "\r",
        "Iteration 138; distance 5892.94814494"
       ]
      },
      {
       "output_type": "stream",
       "stream": "stdout",
       "text": [
        "\r",
        "Iteration 139; distance 5798.47658213"
       ]
      },
      {
       "output_type": "stream",
       "stream": "stdout",
       "text": [
        "\r",
        "Iteration 140; distance 5766.35133721"
       ]
      },
      {
       "output_type": "stream",
       "stream": "stdout",
       "text": [
        "\r",
        "Iteration 141; distance 5579.6025035"
       ]
      },
      {
       "output_type": "stream",
       "stream": "stdout",
       "text": [
        "\r",
        "Iteration 142; distance 5507.00433682"
       ]
      },
      {
       "output_type": "stream",
       "stream": "stdout",
       "text": [
        "\r",
        "Iteration 143; distance 5421.92547182"
       ]
      },
      {
       "output_type": "stream",
       "stream": "stdout",
       "text": [
        "\r",
        "Iteration 144; distance 5416.47202042"
       ]
      },
      {
       "output_type": "stream",
       "stream": "stdout",
       "text": [
        "\r",
        "Iteration 145; distance 5410.53360701"
       ]
      },
      {
       "output_type": "stream",
       "stream": "stdout",
       "text": [
        "\r",
        "Iteration 146; distance 5382.75988504"
       ]
      },
      {
       "output_type": "stream",
       "stream": "stdout",
       "text": [
        "\r",
        "Iteration 147; distance 5256.76105042"
       ]
      },
      {
       "output_type": "stream",
       "stream": "stdout",
       "text": [
        "\r",
        "Iteration 148; distance 5210.02654353"
       ]
      },
      {
       "output_type": "stream",
       "stream": "stdout",
       "text": [
        "\r",
        "Iteration 149; distance 5162.11403909"
       ]
      },
      {
       "output_type": "stream",
       "stream": "stdout",
       "text": [
        "\r",
        "Iteration 150; distance 5146.38334186"
       ]
      },
      {
       "output_type": "stream",
       "stream": "stdout",
       "text": [
        "\r",
        "Iteration 151; distance 5105.15295037"
       ]
      },
      {
       "output_type": "stream",
       "stream": "stdout",
       "text": [
        "\r",
        "Iteration 152; distance 5092.88267077"
       ]
      },
      {
       "output_type": "stream",
       "stream": "stdout",
       "text": [
        "\r",
        "Iteration 153; distance 5048.05833152"
       ]
      },
      {
       "output_type": "stream",
       "stream": "stdout",
       "text": [
        "\r",
        "Iteration 154; distance 4867.40721815"
       ]
      },
      {
       "output_type": "stream",
       "stream": "stdout",
       "text": [
        "\r",
        "Iteration 155; distance 4828.8082358"
       ]
      },
      {
       "output_type": "stream",
       "stream": "stdout",
       "text": [
        "\r",
        "Iteration 156; distance 4813.39420153"
       ]
      },
      {
       "output_type": "stream",
       "stream": "stdout",
       "text": [
        "\r",
        "Iteration 157; distance 4753.08958901"
       ]
      },
      {
       "output_type": "stream",
       "stream": "stdout",
       "text": [
        "\r",
        "Iteration 158; distance 4733.89041141"
       ]
      },
      {
       "output_type": "stream",
       "stream": "stdout",
       "text": [
        "\r",
        "Iteration 159; distance 4727.14869955"
       ]
      },
      {
       "output_type": "stream",
       "stream": "stdout",
       "text": [
        "\r",
        "Iteration 160; distance 4653.31423379"
       ]
      },
      {
       "output_type": "stream",
       "stream": "stdout",
       "text": [
        "\r",
        "Iteration 161; distance 4447.73469803"
       ]
      },
      {
       "output_type": "stream",
       "stream": "stdout",
       "text": [
        "\r",
        "Iteration 162; distance 4413.86793068"
       ]
      },
      {
       "output_type": "stream",
       "stream": "stdout",
       "text": [
        "\r",
        "Iteration 163; distance 3357.35549442"
       ]
      },
      {
       "output_type": "stream",
       "stream": "stdout",
       "text": [
        "\r",
        "Iteration 164; distance 1168.53937167"
       ]
      },
      {
       "output_type": "stream",
       "stream": "stdout",
       "text": [
        "\r",
        "Iteration 165; distance 359.010020729"
       ]
      },
      {
       "output_type": "stream",
       "stream": "stdout",
       "text": [
        "\r",
        "Iteration 166; distance 109.153427751"
       ]
      },
      {
       "output_type": "stream",
       "stream": "stdout",
       "text": [
        "\r",
        "Iteration 167; distance 33.1870279315"
       ]
      },
      {
       "output_type": "stream",
       "stream": "stdout",
       "text": [
        "\r",
        "Iteration 168; distance 10.0901901313"
       ]
      },
      {
       "output_type": "stream",
       "stream": "stdout",
       "text": [
        "\r",
        "Iteration 169; distance 3.06782327794"
       ]
      },
      {
       "output_type": "stream",
       "stream": "stdout",
       "text": [
        "\r",
        "Iteration 170; distance 0.932741559619"
       ]
      },
      {
       "output_type": "stream",
       "stream": "stdout",
       "text": [
        "\r",
        "Iteration 171; distance 0.283590917538"
       ]
      },
      {
       "output_type": "stream",
       "stream": "stdout",
       "text": [
        "\r",
        "Iteration 172; distance 0.0862230360967"
       ]
      },
      {
       "output_type": "stream",
       "stream": "stdout",
       "text": [
        "\n",
        "finished in 173 iterations\n"
       ]
      },
      {
       "metadata": {},
       "output_type": "pyout",
       "prompt_number": 27,
       "text": [
        "<matplotlib.image.AxesImage at 0x7f74c4ea4f50>"
       ]
      }
     ],
     "prompt_number": 27
    },
    {
     "cell_type": "code",
     "collapsed": false,
     "input": [
      "rangeDistances = None\n",
      "\n",
      "def getRangeDistances(l, frameRange, featherLevel, weightShape) :\n",
      "\n",
      "    kernelLength = np.float(frameRange[1]-frameRange[0])\n",
      "#         print kernelLength\n",
      "    kernelRange = np.arange(1.0, 0.0, -(1.0)/np.floor(kernelLength*featherLevel))\n",
      "#         print kernelRange\n",
      "    kernel = np.zeros(np.int(kernelLength+1))\n",
      "    kernel[0:len(kernelRange)] = kernelRange\n",
      "    kernel = np.hstack((kernel, kernel[np.arange(len(kernel)-2, -1, -1)]))\n",
      "\n",
      "    rangeDistances = np.arange(0, weightShape[0])\n",
      "    rangeDistances = np.abs(rangeDistances - frameRange[1])\n",
      "    rangeDistances[frameRange[0]:frameRange[2]+1] = rangeDistances[frameRange[0]:frameRange[2]+1]*kernel\n",
      "#         print rangeDistances\n",
      "\n",
      "\n",
      "    rangeDistances = np.repeat(np.reshape(rangeDistances, (1, len(rangeDistances))), len(rangeDistances), axis=0)\n",
      "\n",
      "    return rangeDistances\n",
      "\n",
      "middleFrame = 750-correction#1150-correction\n",
      "rangeSpan = 300#600\n",
      "\n",
      "useOptimized = False\n",
      "\n",
      "if isL2 :\n",
      "    if useOptimized :\n",
      "        distMat = optimizedDist\n",
      "    else :\n",
      "        distMat = filteredDist[1:, :-1]\n",
      "else :\n",
      "    distMat = vtu.filterDistanceMatrix(distanceMatrix, numFilterFrames, isRepetitive)\n",
      "    \n",
      "rangeDistances = getRangeDistances(0.7, np.array([middleFrame-((rangeSpan-1)/2), middleFrame, middleFrame+((rangeSpan-1)/2)]), 0.2, distMat.shape)\n",
      "\n",
      "probs, cumProbs = vtu.getProbabilities(distMat, sigmaMult*15, rangeDistances, normalizeRows)\n",
      "    \n",
      "gwv.showCustomGraph(cumProbs)"
     ],
     "language": "python",
     "metadata": {},
     "outputs": [
      {
       "output_type": "stream",
       "stream": "stdout",
       "text": [
        "sigma 15.8717151874\n",
        "(1199, 1199)"
       ]
      },
      {
       "output_type": "stream",
       "stream": "stdout",
       "text": [
        " (1199, 1199)\n"
       ]
      }
     ],
     "prompt_number": 13
    },
    {
     "cell_type": "code",
     "collapsed": false,
     "input": [
      "gwv.showCustomGraph(probs)"
     ],
     "language": "python",
     "metadata": {},
     "outputs": [],
     "prompt_number": 15
    },
    {
     "cell_type": "code",
     "collapsed": false,
     "input": [
      "gwv.showCustomGraph(rangeDistances)"
     ],
     "language": "python",
     "metadata": {},
     "outputs": [],
     "prompt_number": 16
    },
    {
     "cell_type": "code",
     "collapsed": false,
     "input": [
      "## find highest probability jumps\n",
      "sortedProbs = np.argsort(np.ndarray.flatten(probs))[::-1]\n",
      "sortedProbs = np.array([np.array(sortedProbs/probs.shape[0], dtype=int), \n",
      "                        np.array(np.mod(sortedProbs, probs.shape[0]), dtype=int)]).T\n",
      "\n",
      "sortedProbs += correction\n",
      "jumpIndices = np.argwhere(np.abs(np.diff(sortedProbs, axis=-1)) != 1)[:, 0]\n",
      "print sortedProbs[jumpIndices, :][:10]"
     ],
     "language": "python",
     "metadata": {},
     "outputs": [
      {
       "output_type": "stream",
       "stream": "stdout",
       "text": [
        "[[660  37]\n",
        " [667  36]\n",
        " [663  36]\n",
        " [659  37]\n",
        " [667  35]\n",
        " [659  36]\n",
        " [666  35]\n",
        " [666  36]\n",
        " [665  35]\n",
        " [661  37]]\n"
       ]
      }
     ],
     "prompt_number": 7
    },
    {
     "cell_type": "code",
     "collapsed": false,
     "input": [
      "## find highest probability jumps without dead end prevention\n",
      "tmpProbs, tmpCumProbs = vtu.getProbabilities(filteredDist[1:, :-1], sigmaMult, None, normalizeRows)\n",
      "\n",
      "sortedProbs = np.argsort(np.ndarray.flatten(tmpProbs))[::-1]\n",
      "sortedProbs = np.array([np.array(sortedProbs/tmpProbs.shape[0], dtype=int), \n",
      "                        np.array(np.mod(sortedProbs, tmpProbs.shape[0]), dtype=int)]).T\n",
      "\n",
      "sortedProbs += correction\n",
      "jumpIndices = np.argwhere(np.abs(np.diff(sortedProbs, axis=-1)) != 1)[:, 0]\n",
      "print sortedProbs[jumpIndices, :][:10]"
     ],
     "language": "python",
     "metadata": {},
     "outputs": [
      {
       "output_type": "stream",
       "stream": "stdout",
       "text": [
        "sigma 0.0083841243694\n",
        "(663, 663) (663, 663)\n",
        "[[667 667]\n",
        " [205 207]\n",
        " [204 206]\n",
        " [224 224]\n",
        " [200 200]\n",
        " [199 199]\n",
        " [225 225]\n",
        " [157 157]\n",
        " [229 231]\n",
        " [206 208]]"
       ]
      },
      {
       "output_type": "stream",
       "stream": "stdout",
       "text": [
        "\n"
       ]
      }
     ],
     "prompt_number": 98
    },
    {
     "cell_type": "code",
     "collapsed": false,
     "input": [
      "## run stochastic video textures and store the jump locations\n",
      "currentFrame = startFrame\n",
      "# finalFrames = []\n",
      "\n",
      "# if verbose :\n",
      "#     print 'starting at frame', currentFrame+correction\n",
      "# finalFrames.append(currentFrame)\n",
      "# for i in range(1, totalFramesToGenerate) :\n",
      "jumpLocations = np.zeros(distanceMatrix.shape, dtype=int)\n",
      "jumpCounter = 0\n",
      "prevFrame = vtu.getNewFrame(currentFrame, cumProbs)\n",
      "while jumpCounter < totalJumps :\n",
      "#     currentFrame = randFrame(probabilities[currentFrame, :])\n",
      "    currentFrame = vtu.getNewFrame(prevFrame, cumProbs, 50)\n",
      "#     print currentFrame,\n",
      "#     finalFrames.append(vtu.getNewFrame(currentFrame, cumProbs))\n",
      "    if currentFrame != prevFrame + 1 :\n",
      "#         print \"jumping to frame\", finalFrames[-1]+correction, \"from\", finalFrames[-2]+correction, \"at generated frame\", \n",
      "#         print i, 'of', totalFramesToGenerate #, prob\n",
      "        jumpCounter += 1\n",
      "        jumpLocations[prevFrame+correction, currentFrame+correction] += 1\n",
      "        \n",
      "    if np.mod(jumpCounter, 1000) == 0 :\n",
      "        sys.stdout.write('\\r' + \"Jumped \" + np.string_(jumpCounter) + \" times\")\n",
      "        sys.stdout.flush()\n",
      "    prevFrame = currentFrame"
     ],
     "language": "python",
     "metadata": {},
     "outputs": [
      {
       "output_type": "stream",
       "stream": "stdout",
       "text": [
        "\r",
        "Jumped 1000 times"
       ]
      },
      {
       "output_type": "stream",
       "stream": "stdout",
       "text": [
        "\r",
        "Jumped 2000 times"
       ]
      },
      {
       "output_type": "stream",
       "stream": "stdout",
       "text": [
        "\r",
        "Jumped 2000 times"
       ]
      },
      {
       "output_type": "stream",
       "stream": "stdout",
       "text": [
        "\r",
        "Jumped 2000 times"
       ]
      },
      {
       "output_type": "stream",
       "stream": "stdout",
       "text": [
        "\r",
        "Jumped 3000 times"
       ]
      },
      {
       "output_type": "stream",
       "stream": "stdout",
       "text": [
        "\r",
        "Jumped 4000 times"
       ]
      },
      {
       "output_type": "stream",
       "stream": "stdout",
       "text": [
        "\r",
        "Jumped 4000 times"
       ]
      },
      {
       "output_type": "stream",
       "stream": "stdout",
       "text": [
        "\r",
        "Jumped 5000 times"
       ]
      },
      {
       "output_type": "stream",
       "stream": "stdout",
       "text": [
        "\r",
        "Jumped 5000 times"
       ]
      },
      {
       "output_type": "stream",
       "stream": "stdout",
       "text": [
        "\r",
        "Jumped 6000 times"
       ]
      },
      {
       "output_type": "stream",
       "stream": "stdout",
       "text": [
        "\r",
        "Jumped 6000 times"
       ]
      },
      {
       "output_type": "stream",
       "stream": "stdout",
       "text": [
        "\r",
        "Jumped 7000 times"
       ]
      },
      {
       "output_type": "stream",
       "stream": "stdout",
       "text": [
        "\r",
        "Jumped 7000 times"
       ]
      },
      {
       "output_type": "stream",
       "stream": "stdout",
       "text": [
        "\r",
        "Jumped 7000 times"
       ]
      },
      {
       "output_type": "stream",
       "stream": "stdout",
       "text": [
        "\r",
        "Jumped 7000 times"
       ]
      },
      {
       "output_type": "stream",
       "stream": "stdout",
       "text": [
        "\r",
        "Jumped 7000 times"
       ]
      },
      {
       "output_type": "stream",
       "stream": "stdout",
       "text": [
        "\r",
        "Jumped 7000 times"
       ]
      },
      {
       "output_type": "stream",
       "stream": "stdout",
       "text": [
        "\r",
        "Jumped 8000 times"
       ]
      },
      {
       "output_type": "stream",
       "stream": "stdout",
       "text": [
        "\r",
        "Jumped 8000 times"
       ]
      },
      {
       "output_type": "stream",
       "stream": "stdout",
       "text": [
        "\r",
        "Jumped 9000 times"
       ]
      },
      {
       "output_type": "stream",
       "stream": "stdout",
       "text": [
        "\r",
        "Jumped 10000 times"
       ]
      },
      {
       "output_type": "stream",
       "stream": "stdout",
       "text": [
        "\r",
        "Jumped 11000 times"
       ]
      },
      {
       "output_type": "stream",
       "stream": "stdout",
       "text": [
        "\r",
        "Jumped 11000 times"
       ]
      },
      {
       "output_type": "stream",
       "stream": "stdout",
       "text": [
        "\r",
        "Jumped 12000 times"
       ]
      },
      {
       "output_type": "stream",
       "stream": "stdout",
       "text": [
        "\r",
        "Jumped 13000 times"
       ]
      },
      {
       "output_type": "stream",
       "stream": "stdout",
       "text": [
        "\r",
        "Jumped 13000 times"
       ]
      },
      {
       "output_type": "stream",
       "stream": "stdout",
       "text": [
        "\r",
        "Jumped 14000 times"
       ]
      },
      {
       "output_type": "stream",
       "stream": "stdout",
       "text": [
        "\r",
        "Jumped 15000 times"
       ]
      },
      {
       "output_type": "stream",
       "stream": "stdout",
       "text": [
        "\r",
        "Jumped 16000 times"
       ]
      },
      {
       "output_type": "stream",
       "stream": "stdout",
       "text": [
        "\r",
        "Jumped 17000 times"
       ]
      },
      {
       "output_type": "stream",
       "stream": "stdout",
       "text": [
        "\r",
        "Jumped 17000 times"
       ]
      },
      {
       "output_type": "stream",
       "stream": "stdout",
       "text": [
        "\r",
        "Jumped 18000 times"
       ]
      },
      {
       "output_type": "stream",
       "stream": "stdout",
       "text": [
        "\r",
        "Jumped 19000 times"
       ]
      },
      {
       "output_type": "stream",
       "stream": "stdout",
       "text": [
        "\r",
        "Jumped 19000 times"
       ]
      },
      {
       "output_type": "stream",
       "stream": "stdout",
       "text": [
        "\r",
        "Jumped 19000 times"
       ]
      },
      {
       "output_type": "stream",
       "stream": "stdout",
       "text": [
        "\r",
        "Jumped 19000 times"
       ]
      },
      {
       "output_type": "stream",
       "stream": "stdout",
       "text": [
        "\r",
        "Jumped 19000 times"
       ]
      },
      {
       "output_type": "stream",
       "stream": "stdout",
       "text": [
        "\r",
        "Jumped 19000 times"
       ]
      },
      {
       "output_type": "stream",
       "stream": "stdout",
       "text": [
        "\r",
        "Jumped 19000 times"
       ]
      },
      {
       "output_type": "stream",
       "stream": "stdout",
       "text": [
        "\r",
        "Jumped 19000 times"
       ]
      },
      {
       "output_type": "stream",
       "stream": "stdout",
       "text": [
        "\r",
        "Jumped 19000 times"
       ]
      },
      {
       "output_type": "stream",
       "stream": "stdout",
       "text": [
        "\r",
        "Jumped 20000 times"
       ]
      },
      {
       "output_type": "stream",
       "stream": "stdout",
       "text": [
        "\r",
        "Jumped 20000 times"
       ]
      },
      {
       "output_type": "stream",
       "stream": "stdout",
       "text": [
        "\r",
        "Jumped 20000 times"
       ]
      },
      {
       "output_type": "stream",
       "stream": "stdout",
       "text": [
        "\r",
        "Jumped 20000 times"
       ]
      },
      {
       "output_type": "stream",
       "stream": "stdout",
       "text": [
        "\r",
        "Jumped 21000 times"
       ]
      },
      {
       "output_type": "stream",
       "stream": "stdout",
       "text": [
        "\r",
        "Jumped 21000 times"
       ]
      },
      {
       "output_type": "stream",
       "stream": "stdout",
       "text": [
        "\r",
        "Jumped 22000 times"
       ]
      },
      {
       "output_type": "stream",
       "stream": "stdout",
       "text": [
        "\r",
        "Jumped 22000 times"
       ]
      },
      {
       "output_type": "stream",
       "stream": "stdout",
       "text": [
        "\r",
        "Jumped 23000 times"
       ]
      },
      {
       "output_type": "stream",
       "stream": "stdout",
       "text": [
        "\r",
        "Jumped 23000 times"
       ]
      },
      {
       "output_type": "stream",
       "stream": "stdout",
       "text": [
        "\r",
        "Jumped 24000 times"
       ]
      },
      {
       "output_type": "stream",
       "stream": "stdout",
       "text": [
        "\r",
        "Jumped 24000 times"
       ]
      },
      {
       "output_type": "stream",
       "stream": "stdout",
       "text": [
        "\r",
        "Jumped 25000 times"
       ]
      },
      {
       "output_type": "stream",
       "stream": "stdout",
       "text": [
        "\r",
        "Jumped 26000 times"
       ]
      },
      {
       "output_type": "stream",
       "stream": "stdout",
       "text": [
        "\r",
        "Jumped 27000 times"
       ]
      },
      {
       "output_type": "stream",
       "stream": "stdout",
       "text": [
        "\r",
        "Jumped 27000 times"
       ]
      },
      {
       "output_type": "stream",
       "stream": "stdout",
       "text": [
        "\r",
        "Jumped 27000 times"
       ]
      },
      {
       "output_type": "stream",
       "stream": "stdout",
       "text": [
        "\r",
        "Jumped 27000 times"
       ]
      },
      {
       "output_type": "stream",
       "stream": "stdout",
       "text": [
        "\r",
        "Jumped 27000 times"
       ]
      },
      {
       "output_type": "stream",
       "stream": "stdout",
       "text": [
        "\r",
        "Jumped 28000 times"
       ]
      },
      {
       "output_type": "stream",
       "stream": "stdout",
       "text": [
        "\r",
        "Jumped 28000 times"
       ]
      },
      {
       "output_type": "stream",
       "stream": "stdout",
       "text": [
        "\r",
        "Jumped 29000 times"
       ]
      },
      {
       "output_type": "stream",
       "stream": "stdout",
       "text": [
        "\r",
        "Jumped 30000 times"
       ]
      },
      {
       "output_type": "stream",
       "stream": "stdout",
       "text": [
        "\r",
        "Jumped 30000 times"
       ]
      },
      {
       "output_type": "stream",
       "stream": "stdout",
       "text": [
        "\r",
        "Jumped 31000 times"
       ]
      },
      {
       "output_type": "stream",
       "stream": "stdout",
       "text": [
        "\r",
        "Jumped 31000 times"
       ]
      },
      {
       "output_type": "stream",
       "stream": "stdout",
       "text": [
        "\r",
        "Jumped 32000 times"
       ]
      },
      {
       "output_type": "stream",
       "stream": "stdout",
       "text": [
        "\r",
        "Jumped 33000 times"
       ]
      },
      {
       "output_type": "stream",
       "stream": "stdout",
       "text": [
        "\r",
        "Jumped 33000 times"
       ]
      },
      {
       "output_type": "stream",
       "stream": "stdout",
       "text": [
        "\r",
        "Jumped 34000 times"
       ]
      },
      {
       "output_type": "stream",
       "stream": "stdout",
       "text": [
        "\r",
        "Jumped 34000 times"
       ]
      },
      {
       "output_type": "stream",
       "stream": "stdout",
       "text": [
        "\r",
        "Jumped 34000 times"
       ]
      },
      {
       "output_type": "stream",
       "stream": "stdout",
       "text": [
        "\r",
        "Jumped 35000 times"
       ]
      },
      {
       "output_type": "stream",
       "stream": "stdout",
       "text": [
        "\r",
        "Jumped 36000 times"
       ]
      },
      {
       "output_type": "stream",
       "stream": "stdout",
       "text": [
        "\r",
        "Jumped 36000 times"
       ]
      },
      {
       "output_type": "stream",
       "stream": "stdout",
       "text": [
        "\r",
        "Jumped 36000 times"
       ]
      },
      {
       "output_type": "stream",
       "stream": "stdout",
       "text": [
        "\r",
        "Jumped 36000 times"
       ]
      },
      {
       "output_type": "stream",
       "stream": "stdout",
       "text": [
        "\r",
        "Jumped 36000 times"
       ]
      },
      {
       "output_type": "stream",
       "stream": "stdout",
       "text": [
        "\r",
        "Jumped 36000 times"
       ]
      },
      {
       "output_type": "stream",
       "stream": "stdout",
       "text": [
        "\r",
        "Jumped 37000 times"
       ]
      },
      {
       "output_type": "stream",
       "stream": "stdout",
       "text": [
        "\r",
        "Jumped 37000 times"
       ]
      },
      {
       "output_type": "stream",
       "stream": "stdout",
       "text": [
        "\r",
        "Jumped 37000 times"
       ]
      },
      {
       "output_type": "stream",
       "stream": "stdout",
       "text": [
        "\r",
        "Jumped 37000 times"
       ]
      },
      {
       "output_type": "stream",
       "stream": "stdout",
       "text": [
        "\r",
        "Jumped 37000 times"
       ]
      },
      {
       "output_type": "stream",
       "stream": "stdout",
       "text": [
        "\r",
        "Jumped 37000 times"
       ]
      },
      {
       "output_type": "stream",
       "stream": "stdout",
       "text": [
        "\r",
        "Jumped 38000 times"
       ]
      },
      {
       "output_type": "stream",
       "stream": "stdout",
       "text": [
        "\r",
        "Jumped 38000 times"
       ]
      },
      {
       "output_type": "stream",
       "stream": "stdout",
       "text": [
        "\r",
        "Jumped 39000 times"
       ]
      },
      {
       "output_type": "stream",
       "stream": "stdout",
       "text": [
        "\r",
        "Jumped 40000 times"
       ]
      },
      {
       "output_type": "stream",
       "stream": "stdout",
       "text": [
        "\r",
        "Jumped 41000 times"
       ]
      },
      {
       "output_type": "stream",
       "stream": "stdout",
       "text": [
        "\r",
        "Jumped 42000 times"
       ]
      },
      {
       "output_type": "stream",
       "stream": "stdout",
       "text": [
        "\r",
        "Jumped 43000 times"
       ]
      },
      {
       "output_type": "stream",
       "stream": "stdout",
       "text": [
        "\r",
        "Jumped 44000 times"
       ]
      },
      {
       "output_type": "stream",
       "stream": "stdout",
       "text": [
        "\r",
        "Jumped 44000 times"
       ]
      },
      {
       "output_type": "stream",
       "stream": "stdout",
       "text": [
        "\r",
        "Jumped 44000 times"
       ]
      },
      {
       "output_type": "stream",
       "stream": "stdout",
       "text": [
        "\r",
        "Jumped 44000 times"
       ]
      },
      {
       "output_type": "stream",
       "stream": "stdout",
       "text": [
        "\r",
        "Jumped 44000 times"
       ]
      },
      {
       "output_type": "stream",
       "stream": "stdout",
       "text": [
        "\r",
        "Jumped 44000 times"
       ]
      },
      {
       "output_type": "stream",
       "stream": "stdout",
       "text": [
        "\r",
        "Jumped 44000 times"
       ]
      },
      {
       "output_type": "stream",
       "stream": "stdout",
       "text": [
        "\r",
        "Jumped 44000 times"
       ]
      },
      {
       "output_type": "stream",
       "stream": "stdout",
       "text": [
        "\r",
        "Jumped 44000 times"
       ]
      },
      {
       "output_type": "stream",
       "stream": "stdout",
       "text": [
        "\r",
        "Jumped 44000 times"
       ]
      },
      {
       "output_type": "stream",
       "stream": "stdout",
       "text": [
        "\r",
        "Jumped 45000 times"
       ]
      },
      {
       "output_type": "stream",
       "stream": "stdout",
       "text": [
        "\r",
        "Jumped 45000 times"
       ]
      },
      {
       "output_type": "stream",
       "stream": "stdout",
       "text": [
        "\r",
        "Jumped 46000 times"
       ]
      },
      {
       "output_type": "stream",
       "stream": "stdout",
       "text": [
        "\r",
        "Jumped 47000 times"
       ]
      },
      {
       "output_type": "stream",
       "stream": "stdout",
       "text": [
        "\r",
        "Jumped 48000 times"
       ]
      },
      {
       "output_type": "stream",
       "stream": "stdout",
       "text": [
        "\r",
        "Jumped 48000 times"
       ]
      },
      {
       "output_type": "stream",
       "stream": "stdout",
       "text": [
        "\r",
        "Jumped 49000 times"
       ]
      },
      {
       "output_type": "stream",
       "stream": "stdout",
       "text": [
        "\r",
        "Jumped 50000 times"
       ]
      },
      {
       "output_type": "stream",
       "stream": "stdout",
       "text": [
        "\r",
        "Jumped 51000 times"
       ]
      },
      {
       "output_type": "stream",
       "stream": "stdout",
       "text": [
        "\r",
        "Jumped 52000 times"
       ]
      },
      {
       "output_type": "stream",
       "stream": "stdout",
       "text": [
        "\r",
        "Jumped 53000 times"
       ]
      },
      {
       "output_type": "stream",
       "stream": "stdout",
       "text": [
        "\r",
        "Jumped 53000 times"
       ]
      },
      {
       "output_type": "stream",
       "stream": "stdout",
       "text": [
        "\r",
        "Jumped 53000 times"
       ]
      },
      {
       "output_type": "stream",
       "stream": "stdout",
       "text": [
        "\r",
        "Jumped 54000 times"
       ]
      },
      {
       "output_type": "stream",
       "stream": "stdout",
       "text": [
        "\r",
        "Jumped 55000 times"
       ]
      },
      {
       "output_type": "stream",
       "stream": "stdout",
       "text": [
        "\r",
        "Jumped 56000 times"
       ]
      },
      {
       "output_type": "stream",
       "stream": "stdout",
       "text": [
        "\r",
        "Jumped 57000 times"
       ]
      },
      {
       "output_type": "stream",
       "stream": "stdout",
       "text": [
        "\r",
        "Jumped 57000 times"
       ]
      },
      {
       "output_type": "stream",
       "stream": "stdout",
       "text": [
        "\r",
        "Jumped 58000 times"
       ]
      },
      {
       "output_type": "stream",
       "stream": "stdout",
       "text": [
        "\r",
        "Jumped 58000 times"
       ]
      },
      {
       "output_type": "stream",
       "stream": "stdout",
       "text": [
        "\r",
        "Jumped 59000 times"
       ]
      },
      {
       "output_type": "stream",
       "stream": "stdout",
       "text": [
        "\r",
        "Jumped 60000 times"
       ]
      },
      {
       "output_type": "stream",
       "stream": "stdout",
       "text": [
        "\r",
        "Jumped 61000 times"
       ]
      },
      {
       "output_type": "stream",
       "stream": "stdout",
       "text": [
        "\r",
        "Jumped 61000 times"
       ]
      },
      {
       "output_type": "stream",
       "stream": "stdout",
       "text": [
        "\r",
        "Jumped 62000 times"
       ]
      },
      {
       "output_type": "stream",
       "stream": "stdout",
       "text": [
        "\r",
        "Jumped 62000 times"
       ]
      },
      {
       "output_type": "stream",
       "stream": "stdout",
       "text": [
        "\r",
        "Jumped 63000 times"
       ]
      },
      {
       "output_type": "stream",
       "stream": "stdout",
       "text": [
        "\r",
        "Jumped 64000 times"
       ]
      },
      {
       "output_type": "stream",
       "stream": "stdout",
       "text": [
        "\r",
        "Jumped 64000 times"
       ]
      },
      {
       "output_type": "stream",
       "stream": "stdout",
       "text": [
        "\r",
        "Jumped 64000 times"
       ]
      },
      {
       "output_type": "stream",
       "stream": "stdout",
       "text": [
        "\r",
        "Jumped 64000 times"
       ]
      },
      {
       "output_type": "stream",
       "stream": "stdout",
       "text": [
        "\r",
        "Jumped 64000 times"
       ]
      },
      {
       "output_type": "stream",
       "stream": "stdout",
       "text": [
        "\r",
        "Jumped 65000 times"
       ]
      },
      {
       "output_type": "stream",
       "stream": "stdout",
       "text": [
        "\r",
        "Jumped 66000 times"
       ]
      },
      {
       "output_type": "stream",
       "stream": "stdout",
       "text": [
        "\r",
        "Jumped 66000 times"
       ]
      },
      {
       "output_type": "stream",
       "stream": "stdout",
       "text": [
        "\r",
        "Jumped 67000 times"
       ]
      },
      {
       "output_type": "stream",
       "stream": "stdout",
       "text": [
        "\r",
        "Jumped 68000 times"
       ]
      },
      {
       "output_type": "stream",
       "stream": "stdout",
       "text": [
        "\r",
        "Jumped 69000 times"
       ]
      },
      {
       "output_type": "stream",
       "stream": "stdout",
       "text": [
        "\r",
        "Jumped 69000 times"
       ]
      },
      {
       "output_type": "stream",
       "stream": "stdout",
       "text": [
        "\r",
        "Jumped 70000 times"
       ]
      },
      {
       "output_type": "stream",
       "stream": "stdout",
       "text": [
        "\r",
        "Jumped 71000 times"
       ]
      },
      {
       "output_type": "stream",
       "stream": "stdout",
       "text": [
        "\r",
        "Jumped 71000 times"
       ]
      },
      {
       "output_type": "stream",
       "stream": "stdout",
       "text": [
        "\r",
        "Jumped 72000 times"
       ]
      },
      {
       "output_type": "stream",
       "stream": "stdout",
       "text": [
        "\r",
        "Jumped 73000 times"
       ]
      },
      {
       "output_type": "stream",
       "stream": "stdout",
       "text": [
        "\r",
        "Jumped 74000 times"
       ]
      },
      {
       "output_type": "stream",
       "stream": "stdout",
       "text": [
        "\r",
        "Jumped 74000 times"
       ]
      },
      {
       "output_type": "stream",
       "stream": "stdout",
       "text": [
        "\r",
        "Jumped 75000 times"
       ]
      },
      {
       "output_type": "stream",
       "stream": "stdout",
       "text": [
        "\r",
        "Jumped 76000 times"
       ]
      },
      {
       "output_type": "stream",
       "stream": "stdout",
       "text": [
        "\r",
        "Jumped 77000 times"
       ]
      },
      {
       "output_type": "stream",
       "stream": "stdout",
       "text": [
        "\r",
        "Jumped 77000 times"
       ]
      },
      {
       "output_type": "stream",
       "stream": "stdout",
       "text": [
        "\r",
        "Jumped 77000 times"
       ]
      },
      {
       "output_type": "stream",
       "stream": "stdout",
       "text": [
        "\r",
        "Jumped 77000 times"
       ]
      },
      {
       "output_type": "stream",
       "stream": "stdout",
       "text": [
        "\r",
        "Jumped 77000 times"
       ]
      },
      {
       "output_type": "stream",
       "stream": "stdout",
       "text": [
        "\r",
        "Jumped 78000 times"
       ]
      },
      {
       "output_type": "stream",
       "stream": "stdout",
       "text": [
        "\r",
        "Jumped 78000 times"
       ]
      },
      {
       "output_type": "stream",
       "stream": "stdout",
       "text": [
        "\r",
        "Jumped 79000 times"
       ]
      },
      {
       "output_type": "stream",
       "stream": "stdout",
       "text": [
        "\r",
        "Jumped 79000 times"
       ]
      },
      {
       "output_type": "stream",
       "stream": "stdout",
       "text": [
        "\r",
        "Jumped 80000 times"
       ]
      },
      {
       "output_type": "stream",
       "stream": "stdout",
       "text": [
        "\r",
        "Jumped 80000 times"
       ]
      },
      {
       "output_type": "stream",
       "stream": "stdout",
       "text": [
        "\r",
        "Jumped 80000 times"
       ]
      },
      {
       "output_type": "stream",
       "stream": "stdout",
       "text": [
        "\r",
        "Jumped 80000 times"
       ]
      },
      {
       "output_type": "stream",
       "stream": "stdout",
       "text": [
        "\r",
        "Jumped 80000 times"
       ]
      },
      {
       "output_type": "stream",
       "stream": "stdout",
       "text": [
        "\r",
        "Jumped 80000 times"
       ]
      },
      {
       "output_type": "stream",
       "stream": "stdout",
       "text": [
        "\r",
        "Jumped 80000 times"
       ]
      },
      {
       "output_type": "stream",
       "stream": "stdout",
       "text": [
        "\r",
        "Jumped 80000 times"
       ]
      },
      {
       "output_type": "stream",
       "stream": "stdout",
       "text": [
        "\r",
        "Jumped 81000 times"
       ]
      },
      {
       "output_type": "stream",
       "stream": "stdout",
       "text": [
        "\r",
        "Jumped 82000 times"
       ]
      },
      {
       "output_type": "stream",
       "stream": "stdout",
       "text": [
        "\r",
        "Jumped 82000 times"
       ]
      },
      {
       "output_type": "stream",
       "stream": "stdout",
       "text": [
        "\r",
        "Jumped 82000 times"
       ]
      },
      {
       "output_type": "stream",
       "stream": "stdout",
       "text": [
        "\r",
        "Jumped 82000 times"
       ]
      },
      {
       "output_type": "stream",
       "stream": "stdout",
       "text": [
        "\r",
        "Jumped 82000 times"
       ]
      },
      {
       "output_type": "stream",
       "stream": "stdout",
       "text": [
        "\r",
        "Jumped 82000 times"
       ]
      },
      {
       "output_type": "stream",
       "stream": "stdout",
       "text": [
        "\r",
        "Jumped 82000 times"
       ]
      },
      {
       "output_type": "stream",
       "stream": "stdout",
       "text": [
        "\r",
        "Jumped 83000 times"
       ]
      },
      {
       "output_type": "stream",
       "stream": "stdout",
       "text": [
        "\r",
        "Jumped 83000 times"
       ]
      },
      {
       "output_type": "stream",
       "stream": "stdout",
       "text": [
        "\r",
        "Jumped 84000 times"
       ]
      },
      {
       "output_type": "stream",
       "stream": "stdout",
       "text": [
        "\r",
        "Jumped 85000 times"
       ]
      },
      {
       "output_type": "stream",
       "stream": "stdout",
       "text": [
        "\r",
        "Jumped 85000 times"
       ]
      },
      {
       "output_type": "stream",
       "stream": "stdout",
       "text": [
        "\r",
        "Jumped 86000 times"
       ]
      },
      {
       "output_type": "stream",
       "stream": "stdout",
       "text": [
        "\r",
        "Jumped 87000 times"
       ]
      },
      {
       "output_type": "stream",
       "stream": "stdout",
       "text": [
        "\r",
        "Jumped 88000 times"
       ]
      },
      {
       "output_type": "stream",
       "stream": "stdout",
       "text": [
        "\r",
        "Jumped 88000 times"
       ]
      },
      {
       "output_type": "stream",
       "stream": "stdout",
       "text": [
        "\r",
        "Jumped 88000 times"
       ]
      },
      {
       "output_type": "stream",
       "stream": "stdout",
       "text": [
        "\r",
        "Jumped 88000 times"
       ]
      },
      {
       "output_type": "stream",
       "stream": "stdout",
       "text": [
        "\r",
        "Jumped 88000 times"
       ]
      },
      {
       "output_type": "stream",
       "stream": "stdout",
       "text": [
        "\r",
        "Jumped 88000 times"
       ]
      },
      {
       "output_type": "stream",
       "stream": "stdout",
       "text": [
        "\r",
        "Jumped 89000 times"
       ]
      },
      {
       "output_type": "stream",
       "stream": "stdout",
       "text": [
        "\r",
        "Jumped 90000 times"
       ]
      },
      {
       "output_type": "stream",
       "stream": "stdout",
       "text": [
        "\r",
        "Jumped 91000 times"
       ]
      },
      {
       "output_type": "stream",
       "stream": "stdout",
       "text": [
        "\r",
        "Jumped 91000 times"
       ]
      },
      {
       "output_type": "stream",
       "stream": "stdout",
       "text": [
        "\r",
        "Jumped 91000 times"
       ]
      },
      {
       "output_type": "stream",
       "stream": "stdout",
       "text": [
        "\r",
        "Jumped 92000 times"
       ]
      },
      {
       "output_type": "stream",
       "stream": "stdout",
       "text": [
        "\r",
        "Jumped 92000 times"
       ]
      },
      {
       "output_type": "stream",
       "stream": "stdout",
       "text": [
        "\r",
        "Jumped 93000 times"
       ]
      },
      {
       "output_type": "stream",
       "stream": "stdout",
       "text": [
        "\r",
        "Jumped 94000 times"
       ]
      },
      {
       "output_type": "stream",
       "stream": "stdout",
       "text": [
        "\r",
        "Jumped 95000 times"
       ]
      },
      {
       "output_type": "stream",
       "stream": "stdout",
       "text": [
        "\r",
        "Jumped 96000 times"
       ]
      },
      {
       "output_type": "stream",
       "stream": "stdout",
       "text": [
        "\r",
        "Jumped 97000 times"
       ]
      },
      {
       "output_type": "stream",
       "stream": "stdout",
       "text": [
        "\r",
        "Jumped 98000 times"
       ]
      },
      {
       "output_type": "stream",
       "stream": "stdout",
       "text": [
        "\r",
        "Jumped 98000 times"
       ]
      },
      {
       "output_type": "stream",
       "stream": "stdout",
       "text": [
        "\r",
        "Jumped 99000 times"
       ]
      },
      {
       "output_type": "stream",
       "stream": "stdout",
       "text": [
        "\r",
        "Jumped 99000 times"
       ]
      },
      {
       "output_type": "stream",
       "stream": "stdout",
       "text": [
        "\r",
        "Jumped 99000 times"
       ]
      },
      {
       "output_type": "stream",
       "stream": "stdout",
       "text": [
        "\r",
        "Jumped 99000 times"
       ]
      },
      {
       "output_type": "stream",
       "stream": "stdout",
       "text": [
        "\r",
        "Jumped 100000 times"
       ]
      },
      {
       "output_type": "stream",
       "stream": "stdout",
       "text": [
        "\r",
        "Jumped 100000 times"
       ]
      },
      {
       "output_type": "stream",
       "stream": "stdout",
       "text": [
        "\r",
        "Jumped 101000 times"
       ]
      },
      {
       "output_type": "stream",
       "stream": "stdout",
       "text": [
        "\r",
        "Jumped 102000 times"
       ]
      },
      {
       "output_type": "stream",
       "stream": "stdout",
       "text": [
        "\r",
        "Jumped 103000 times"
       ]
      },
      {
       "output_type": "stream",
       "stream": "stdout",
       "text": [
        "\r",
        "Jumped 103000 times"
       ]
      },
      {
       "output_type": "stream",
       "stream": "stdout",
       "text": [
        "\r",
        "Jumped 103000 times"
       ]
      },
      {
       "output_type": "stream",
       "stream": "stdout",
       "text": [
        "\r",
        "Jumped 103000 times"
       ]
      },
      {
       "output_type": "stream",
       "stream": "stdout",
       "text": [
        "\r",
        "Jumped 104000 times"
       ]
      },
      {
       "output_type": "stream",
       "stream": "stdout",
       "text": [
        "\r",
        "Jumped 105000 times"
       ]
      },
      {
       "output_type": "stream",
       "stream": "stdout",
       "text": [
        "\r",
        "Jumped 105000 times"
       ]
      },
      {
       "output_type": "stream",
       "stream": "stdout",
       "text": [
        "\r",
        "Jumped 105000 times"
       ]
      },
      {
       "output_type": "stream",
       "stream": "stdout",
       "text": [
        "\r",
        "Jumped 105000 times"
       ]
      },
      {
       "output_type": "stream",
       "stream": "stdout",
       "text": [
        "\r",
        "Jumped 106000 times"
       ]
      },
      {
       "output_type": "stream",
       "stream": "stdout",
       "text": [
        "\r",
        "Jumped 106000 times"
       ]
      },
      {
       "output_type": "stream",
       "stream": "stdout",
       "text": [
        "\r",
        "Jumped 107000 times"
       ]
      },
      {
       "output_type": "stream",
       "stream": "stdout",
       "text": [
        "\r",
        "Jumped 108000 times"
       ]
      },
      {
       "output_type": "stream",
       "stream": "stdout",
       "text": [
        "\r",
        "Jumped 109000 times"
       ]
      },
      {
       "output_type": "stream",
       "stream": "stdout",
       "text": [
        "\r",
        "Jumped 109000 times"
       ]
      },
      {
       "output_type": "stream",
       "stream": "stdout",
       "text": [
        "\r",
        "Jumped 110000 times"
       ]
      },
      {
       "output_type": "stream",
       "stream": "stdout",
       "text": [
        "\r",
        "Jumped 110000 times"
       ]
      },
      {
       "output_type": "stream",
       "stream": "stdout",
       "text": [
        "\r",
        "Jumped 110000 times"
       ]
      },
      {
       "output_type": "stream",
       "stream": "stdout",
       "text": [
        "\r",
        "Jumped 110000 times"
       ]
      },
      {
       "output_type": "stream",
       "stream": "stdout",
       "text": [
        "\r",
        "Jumped 110000 times"
       ]
      },
      {
       "output_type": "stream",
       "stream": "stdout",
       "text": [
        "\r",
        "Jumped 111000 times"
       ]
      },
      {
       "output_type": "stream",
       "stream": "stdout",
       "text": [
        "\r",
        "Jumped 112000 times"
       ]
      },
      {
       "output_type": "stream",
       "stream": "stdout",
       "text": [
        "\r",
        "Jumped 113000 times"
       ]
      },
      {
       "output_type": "stream",
       "stream": "stdout",
       "text": [
        "\r",
        "Jumped 113000 times"
       ]
      },
      {
       "output_type": "stream",
       "stream": "stdout",
       "text": [
        "\r",
        "Jumped 114000 times"
       ]
      },
      {
       "output_type": "stream",
       "stream": "stdout",
       "text": [
        "\r",
        "Jumped 115000 times"
       ]
      },
      {
       "output_type": "stream",
       "stream": "stdout",
       "text": [
        "\r",
        "Jumped 116000 times"
       ]
      },
      {
       "output_type": "stream",
       "stream": "stdout",
       "text": [
        "\r",
        "Jumped 116000 times"
       ]
      },
      {
       "output_type": "stream",
       "stream": "stdout",
       "text": [
        "\r",
        "Jumped 117000 times"
       ]
      },
      {
       "output_type": "stream",
       "stream": "stdout",
       "text": [
        "\r",
        "Jumped 118000 times"
       ]
      },
      {
       "output_type": "stream",
       "stream": "stdout",
       "text": [
        "\r",
        "Jumped 119000 times"
       ]
      },
      {
       "output_type": "stream",
       "stream": "stdout",
       "text": [
        "\r",
        "Jumped 120000 times"
       ]
      },
      {
       "output_type": "stream",
       "stream": "stdout",
       "text": [
        "\r",
        "Jumped 120000 times"
       ]
      },
      {
       "output_type": "stream",
       "stream": "stdout",
       "text": [
        "\r",
        "Jumped 120000 times"
       ]
      },
      {
       "output_type": "stream",
       "stream": "stdout",
       "text": [
        "\r",
        "Jumped 120000 times"
       ]
      },
      {
       "output_type": "stream",
       "stream": "stdout",
       "text": [
        "\r",
        "Jumped 120000 times"
       ]
      },
      {
       "output_type": "stream",
       "stream": "stdout",
       "text": [
        "\r",
        "Jumped 121000 times"
       ]
      },
      {
       "output_type": "stream",
       "stream": "stdout",
       "text": [
        "\r",
        "Jumped 122000 times"
       ]
      },
      {
       "output_type": "stream",
       "stream": "stdout",
       "text": [
        "\r",
        "Jumped 122000 times"
       ]
      },
      {
       "output_type": "stream",
       "stream": "stdout",
       "text": [
        "\r",
        "Jumped 123000 times"
       ]
      },
      {
       "output_type": "stream",
       "stream": "stdout",
       "text": [
        "\r",
        "Jumped 124000 times"
       ]
      },
      {
       "output_type": "stream",
       "stream": "stdout",
       "text": [
        "\r",
        "Jumped 124000 times"
       ]
      },
      {
       "output_type": "stream",
       "stream": "stdout",
       "text": [
        "\r",
        "Jumped 124000 times"
       ]
      },
      {
       "output_type": "stream",
       "stream": "stdout",
       "text": [
        "\r",
        "Jumped 125000 times"
       ]
      },
      {
       "output_type": "stream",
       "stream": "stdout",
       "text": [
        "\r",
        "Jumped 125000 times"
       ]
      },
      {
       "output_type": "stream",
       "stream": "stdout",
       "text": [
        "\r",
        "Jumped 126000 times"
       ]
      },
      {
       "output_type": "stream",
       "stream": "stdout",
       "text": [
        "\r",
        "Jumped 126000 times"
       ]
      },
      {
       "output_type": "stream",
       "stream": "stdout",
       "text": [
        "\r",
        "Jumped 127000 times"
       ]
      },
      {
       "output_type": "stream",
       "stream": "stdout",
       "text": [
        "\r",
        "Jumped 127000 times"
       ]
      },
      {
       "output_type": "stream",
       "stream": "stdout",
       "text": [
        "\r",
        "Jumped 127000 times"
       ]
      },
      {
       "output_type": "stream",
       "stream": "stdout",
       "text": [
        "\r",
        "Jumped 127000 times"
       ]
      },
      {
       "output_type": "stream",
       "stream": "stdout",
       "text": [
        "\r",
        "Jumped 128000 times"
       ]
      },
      {
       "output_type": "stream",
       "stream": "stdout",
       "text": [
        "\r",
        "Jumped 128000 times"
       ]
      },
      {
       "output_type": "stream",
       "stream": "stdout",
       "text": [
        "\r",
        "Jumped 128000 times"
       ]
      },
      {
       "output_type": "stream",
       "stream": "stdout",
       "text": [
        "\r",
        "Jumped 128000 times"
       ]
      },
      {
       "output_type": "stream",
       "stream": "stdout",
       "text": [
        "\r",
        "Jumped 129000 times"
       ]
      },
      {
       "output_type": "stream",
       "stream": "stdout",
       "text": [
        "\r",
        "Jumped 130000 times"
       ]
      },
      {
       "output_type": "stream",
       "stream": "stdout",
       "text": [
        "\r",
        "Jumped 131000 times"
       ]
      },
      {
       "output_type": "stream",
       "stream": "stdout",
       "text": [
        "\r",
        "Jumped 132000 times"
       ]
      },
      {
       "output_type": "stream",
       "stream": "stdout",
       "text": [
        "\r",
        "Jumped 132000 times"
       ]
      },
      {
       "output_type": "stream",
       "stream": "stdout",
       "text": [
        "\r",
        "Jumped 133000 times"
       ]
      },
      {
       "output_type": "stream",
       "stream": "stdout",
       "text": [
        "\r",
        "Jumped 134000 times"
       ]
      },
      {
       "output_type": "stream",
       "stream": "stdout",
       "text": [
        "\r",
        "Jumped 135000 times"
       ]
      },
      {
       "output_type": "stream",
       "stream": "stdout",
       "text": [
        "\r",
        "Jumped 136000 times"
       ]
      },
      {
       "output_type": "stream",
       "stream": "stdout",
       "text": [
        "\r",
        "Jumped 136000 times"
       ]
      },
      {
       "output_type": "stream",
       "stream": "stdout",
       "text": [
        "\r",
        "Jumped 136000 times"
       ]
      },
      {
       "output_type": "stream",
       "stream": "stdout",
       "text": [
        "\r",
        "Jumped 137000 times"
       ]
      },
      {
       "output_type": "stream",
       "stream": "stdout",
       "text": [
        "\r",
        "Jumped 138000 times"
       ]
      },
      {
       "output_type": "stream",
       "stream": "stdout",
       "text": [
        "\r",
        "Jumped 139000 times"
       ]
      },
      {
       "output_type": "stream",
       "stream": "stdout",
       "text": [
        "\r",
        "Jumped 140000 times"
       ]
      },
      {
       "output_type": "stream",
       "stream": "stdout",
       "text": [
        "\r",
        "Jumped 140000 times"
       ]
      },
      {
       "output_type": "stream",
       "stream": "stdout",
       "text": [
        "\r",
        "Jumped 141000 times"
       ]
      },
      {
       "output_type": "stream",
       "stream": "stdout",
       "text": [
        "\r",
        "Jumped 141000 times"
       ]
      },
      {
       "output_type": "stream",
       "stream": "stdout",
       "text": [
        "\r",
        "Jumped 142000 times"
       ]
      },
      {
       "output_type": "stream",
       "stream": "stdout",
       "text": [
        "\r",
        "Jumped 143000 times"
       ]
      },
      {
       "output_type": "stream",
       "stream": "stdout",
       "text": [
        "\r",
        "Jumped 144000 times"
       ]
      },
      {
       "output_type": "stream",
       "stream": "stdout",
       "text": [
        "\r",
        "Jumped 145000 times"
       ]
      },
      {
       "output_type": "stream",
       "stream": "stdout",
       "text": [
        "\r",
        "Jumped 145000 times"
       ]
      },
      {
       "output_type": "stream",
       "stream": "stdout",
       "text": [
        "\r",
        "Jumped 146000 times"
       ]
      },
      {
       "output_type": "stream",
       "stream": "stdout",
       "text": [
        "\r",
        "Jumped 147000 times"
       ]
      },
      {
       "output_type": "stream",
       "stream": "stdout",
       "text": [
        "\r",
        "Jumped 147000 times"
       ]
      },
      {
       "output_type": "stream",
       "stream": "stdout",
       "text": [
        "\r",
        "Jumped 148000 times"
       ]
      },
      {
       "output_type": "stream",
       "stream": "stdout",
       "text": [
        "\r",
        "Jumped 148000 times"
       ]
      },
      {
       "output_type": "stream",
       "stream": "stdout",
       "text": [
        "\r",
        "Jumped 148000 times"
       ]
      },
      {
       "output_type": "stream",
       "stream": "stdout",
       "text": [
        "\r",
        "Jumped 148000 times"
       ]
      },
      {
       "output_type": "stream",
       "stream": "stdout",
       "text": [
        "\r",
        "Jumped 148000 times"
       ]
      },
      {
       "output_type": "stream",
       "stream": "stdout",
       "text": [
        "\r",
        "Jumped 148000 times"
       ]
      },
      {
       "output_type": "stream",
       "stream": "stdout",
       "text": [
        "\r",
        "Jumped 148000 times"
       ]
      },
      {
       "output_type": "stream",
       "stream": "stdout",
       "text": [
        "\r",
        "Jumped 148000 times"
       ]
      },
      {
       "output_type": "stream",
       "stream": "stdout",
       "text": [
        "\r",
        "Jumped 148000 times"
       ]
      },
      {
       "output_type": "stream",
       "stream": "stdout",
       "text": [
        "\r",
        "Jumped 148000 times"
       ]
      },
      {
       "output_type": "stream",
       "stream": "stdout",
       "text": [
        "\r",
        "Jumped 148000 times"
       ]
      },
      {
       "output_type": "stream",
       "stream": "stdout",
       "text": [
        "\r",
        "Jumped 148000 times"
       ]
      },
      {
       "output_type": "stream",
       "stream": "stdout",
       "text": [
        "\r",
        "Jumped 148000 times"
       ]
      },
      {
       "output_type": "stream",
       "stream": "stdout",
       "text": [
        "\r",
        "Jumped 148000 times"
       ]
      },
      {
       "output_type": "stream",
       "stream": "stdout",
       "text": [
        "\r",
        "Jumped 148000 times"
       ]
      },
      {
       "output_type": "stream",
       "stream": "stdout",
       "text": [
        "\r",
        "Jumped 149000 times"
       ]
      },
      {
       "output_type": "stream",
       "stream": "stdout",
       "text": [
        "\r",
        "Jumped 150000 times"
       ]
      },
      {
       "output_type": "stream",
       "stream": "stdout",
       "text": [
        "\r",
        "Jumped 151000 times"
       ]
      },
      {
       "output_type": "stream",
       "stream": "stdout",
       "text": [
        "\r",
        "Jumped 151000 times"
       ]
      },
      {
       "output_type": "stream",
       "stream": "stdout",
       "text": [
        "\r",
        "Jumped 151000 times"
       ]
      },
      {
       "output_type": "stream",
       "stream": "stdout",
       "text": [
        "\r",
        "Jumped 151000 times"
       ]
      },
      {
       "output_type": "stream",
       "stream": "stdout",
       "text": [
        "\r",
        "Jumped 151000 times"
       ]
      },
      {
       "output_type": "stream",
       "stream": "stdout",
       "text": [
        "\r",
        "Jumped 151000 times"
       ]
      },
      {
       "output_type": "stream",
       "stream": "stdout",
       "text": [
        "\r",
        "Jumped 151000 times"
       ]
      },
      {
       "output_type": "stream",
       "stream": "stdout",
       "text": [
        "\r",
        "Jumped 151000 times"
       ]
      },
      {
       "output_type": "stream",
       "stream": "stdout",
       "text": [
        "\r",
        "Jumped 151000 times"
       ]
      },
      {
       "output_type": "stream",
       "stream": "stdout",
       "text": [
        "\r",
        "Jumped 152000 times"
       ]
      },
      {
       "output_type": "stream",
       "stream": "stdout",
       "text": [
        "\r",
        "Jumped 152000 times"
       ]
      },
      {
       "output_type": "stream",
       "stream": "stdout",
       "text": [
        "\r",
        "Jumped 152000 times"
       ]
      },
      {
       "output_type": "stream",
       "stream": "stdout",
       "text": [
        "\r",
        "Jumped 152000 times"
       ]
      },
      {
       "output_type": "stream",
       "stream": "stdout",
       "text": [
        "\r",
        "Jumped 153000 times"
       ]
      },
      {
       "output_type": "stream",
       "stream": "stdout",
       "text": [
        "\r",
        "Jumped 153000 times"
       ]
      },
      {
       "output_type": "stream",
       "stream": "stdout",
       "text": [
        "\r",
        "Jumped 153000 times"
       ]
      },
      {
       "output_type": "stream",
       "stream": "stdout",
       "text": [
        "\r",
        "Jumped 153000 times"
       ]
      },
      {
       "output_type": "stream",
       "stream": "stdout",
       "text": [
        "\r",
        "Jumped 153000 times"
       ]
      },
      {
       "output_type": "stream",
       "stream": "stdout",
       "text": [
        "\r",
        "Jumped 154000 times"
       ]
      },
      {
       "output_type": "stream",
       "stream": "stdout",
       "text": [
        "\r",
        "Jumped 154000 times"
       ]
      },
      {
       "output_type": "stream",
       "stream": "stdout",
       "text": [
        "\r",
        "Jumped 154000 times"
       ]
      },
      {
       "output_type": "stream",
       "stream": "stdout",
       "text": [
        "\r",
        "Jumped 154000 times"
       ]
      },
      {
       "output_type": "stream",
       "stream": "stdout",
       "text": [
        "\r",
        "Jumped 155000 times"
       ]
      },
      {
       "output_type": "stream",
       "stream": "stdout",
       "text": [
        "\r",
        "Jumped 156000 times"
       ]
      },
      {
       "output_type": "stream",
       "stream": "stdout",
       "text": [
        "\r",
        "Jumped 157000 times"
       ]
      },
      {
       "output_type": "stream",
       "stream": "stdout",
       "text": [
        "\r",
        "Jumped 157000 times"
       ]
      },
      {
       "output_type": "stream",
       "stream": "stdout",
       "text": [
        "\r",
        "Jumped 158000 times"
       ]
      },
      {
       "output_type": "stream",
       "stream": "stdout",
       "text": [
        "\r",
        "Jumped 159000 times"
       ]
      },
      {
       "output_type": "stream",
       "stream": "stdout",
       "text": [
        "\r",
        "Jumped 160000 times"
       ]
      },
      {
       "output_type": "stream",
       "stream": "stdout",
       "text": [
        "\r",
        "Jumped 160000 times"
       ]
      },
      {
       "output_type": "stream",
       "stream": "stdout",
       "text": [
        "\r",
        "Jumped 160000 times"
       ]
      },
      {
       "output_type": "stream",
       "stream": "stdout",
       "text": [
        "\r",
        "Jumped 161000 times"
       ]
      },
      {
       "output_type": "stream",
       "stream": "stdout",
       "text": [
        "\r",
        "Jumped 161000 times"
       ]
      },
      {
       "output_type": "stream",
       "stream": "stdout",
       "text": [
        "\r",
        "Jumped 161000 times"
       ]
      },
      {
       "output_type": "stream",
       "stream": "stdout",
       "text": [
        "\r",
        "Jumped 161000 times"
       ]
      },
      {
       "output_type": "stream",
       "stream": "stdout",
       "text": [
        "\r",
        "Jumped 162000 times"
       ]
      },
      {
       "output_type": "stream",
       "stream": "stdout",
       "text": [
        "\r",
        "Jumped 163000 times"
       ]
      },
      {
       "output_type": "stream",
       "stream": "stdout",
       "text": [
        "\r",
        "Jumped 163000 times"
       ]
      },
      {
       "output_type": "stream",
       "stream": "stdout",
       "text": [
        "\r",
        "Jumped 163000 times"
       ]
      },
      {
       "output_type": "stream",
       "stream": "stdout",
       "text": [
        "\r",
        "Jumped 163000 times"
       ]
      },
      {
       "output_type": "stream",
       "stream": "stdout",
       "text": [
        "\r",
        "Jumped 163000 times"
       ]
      },
      {
       "output_type": "stream",
       "stream": "stdout",
       "text": [
        "\r",
        "Jumped 163000 times"
       ]
      },
      {
       "output_type": "stream",
       "stream": "stdout",
       "text": [
        "\r",
        "Jumped 163000 times"
       ]
      },
      {
       "output_type": "stream",
       "stream": "stdout",
       "text": [
        "\r",
        "Jumped 164000 times"
       ]
      },
      {
       "output_type": "stream",
       "stream": "stdout",
       "text": [
        "\r",
        "Jumped 165000 times"
       ]
      },
      {
       "output_type": "stream",
       "stream": "stdout",
       "text": [
        "\r",
        "Jumped 165000 times"
       ]
      },
      {
       "output_type": "stream",
       "stream": "stdout",
       "text": [
        "\r",
        "Jumped 166000 times"
       ]
      },
      {
       "output_type": "stream",
       "stream": "stdout",
       "text": [
        "\r",
        "Jumped 166000 times"
       ]
      },
      {
       "output_type": "stream",
       "stream": "stdout",
       "text": [
        "\r",
        "Jumped 166000 times"
       ]
      },
      {
       "output_type": "stream",
       "stream": "stdout",
       "text": [
        "\r",
        "Jumped 166000 times"
       ]
      },
      {
       "output_type": "stream",
       "stream": "stdout",
       "text": [
        "\r",
        "Jumped 166000 times"
       ]
      },
      {
       "output_type": "stream",
       "stream": "stdout",
       "text": [
        "\r",
        "Jumped 167000 times"
       ]
      },
      {
       "output_type": "stream",
       "stream": "stdout",
       "text": [
        "\r",
        "Jumped 168000 times"
       ]
      },
      {
       "output_type": "stream",
       "stream": "stdout",
       "text": [
        "\r",
        "Jumped 168000 times"
       ]
      },
      {
       "output_type": "stream",
       "stream": "stdout",
       "text": [
        "\r",
        "Jumped 168000 times"
       ]
      },
      {
       "output_type": "stream",
       "stream": "stdout",
       "text": [
        "\r",
        "Jumped 169000 times"
       ]
      },
      {
       "output_type": "stream",
       "stream": "stdout",
       "text": [
        "\r",
        "Jumped 170000 times"
       ]
      },
      {
       "output_type": "stream",
       "stream": "stdout",
       "text": [
        "\r",
        "Jumped 170000 times"
       ]
      },
      {
       "output_type": "stream",
       "stream": "stdout",
       "text": [
        "\r",
        "Jumped 170000 times"
       ]
      },
      {
       "output_type": "stream",
       "stream": "stdout",
       "text": [
        "\r",
        "Jumped 170000 times"
       ]
      },
      {
       "output_type": "stream",
       "stream": "stdout",
       "text": [
        "\r",
        "Jumped 170000 times"
       ]
      },
      {
       "output_type": "stream",
       "stream": "stdout",
       "text": [
        "\r",
        "Jumped 170000 times"
       ]
      },
      {
       "output_type": "stream",
       "stream": "stdout",
       "text": [
        "\r",
        "Jumped 171000 times"
       ]
      },
      {
       "output_type": "stream",
       "stream": "stdout",
       "text": [
        "\r",
        "Jumped 172000 times"
       ]
      },
      {
       "output_type": "stream",
       "stream": "stdout",
       "text": [
        "\r",
        "Jumped 173000 times"
       ]
      },
      {
       "output_type": "stream",
       "stream": "stdout",
       "text": [
        "\r",
        "Jumped 173000 times"
       ]
      },
      {
       "output_type": "stream",
       "stream": "stdout",
       "text": [
        "\r",
        "Jumped 173000 times"
       ]
      },
      {
       "output_type": "stream",
       "stream": "stdout",
       "text": [
        "\r",
        "Jumped 174000 times"
       ]
      },
      {
       "output_type": "stream",
       "stream": "stdout",
       "text": [
        "\r",
        "Jumped 175000 times"
       ]
      },
      {
       "output_type": "stream",
       "stream": "stdout",
       "text": [
        "\r",
        "Jumped 175000 times"
       ]
      },
      {
       "output_type": "stream",
       "stream": "stdout",
       "text": [
        "\r",
        "Jumped 176000 times"
       ]
      },
      {
       "output_type": "stream",
       "stream": "stdout",
       "text": [
        "\r",
        "Jumped 176000 times"
       ]
      },
      {
       "output_type": "stream",
       "stream": "stdout",
       "text": [
        "\r",
        "Jumped 176000 times"
       ]
      },
      {
       "output_type": "stream",
       "stream": "stdout",
       "text": [
        "\r",
        "Jumped 177000 times"
       ]
      },
      {
       "output_type": "stream",
       "stream": "stdout",
       "text": [
        "\r",
        "Jumped 178000 times"
       ]
      },
      {
       "output_type": "stream",
       "stream": "stdout",
       "text": [
        "\r",
        "Jumped 179000 times"
       ]
      },
      {
       "output_type": "stream",
       "stream": "stdout",
       "text": [
        "\r",
        "Jumped 180000 times"
       ]
      },
      {
       "output_type": "stream",
       "stream": "stdout",
       "text": [
        "\r",
        "Jumped 181000 times"
       ]
      },
      {
       "output_type": "stream",
       "stream": "stdout",
       "text": [
        "\r",
        "Jumped 181000 times"
       ]
      },
      {
       "output_type": "stream",
       "stream": "stdout",
       "text": [
        "\r",
        "Jumped 181000 times"
       ]
      },
      {
       "output_type": "stream",
       "stream": "stdout",
       "text": [
        "\r",
        "Jumped 181000 times"
       ]
      },
      {
       "output_type": "stream",
       "stream": "stdout",
       "text": [
        "\r",
        "Jumped 182000 times"
       ]
      },
      {
       "output_type": "stream",
       "stream": "stdout",
       "text": [
        "\r",
        "Jumped 182000 times"
       ]
      },
      {
       "output_type": "stream",
       "stream": "stdout",
       "text": [
        "\r",
        "Jumped 182000 times"
       ]
      },
      {
       "output_type": "stream",
       "stream": "stdout",
       "text": [
        "\r",
        "Jumped 182000 times"
       ]
      },
      {
       "output_type": "stream",
       "stream": "stdout",
       "text": [
        "\r",
        "Jumped 183000 times"
       ]
      },
      {
       "output_type": "stream",
       "stream": "stdout",
       "text": [
        "\r",
        "Jumped 183000 times"
       ]
      },
      {
       "output_type": "stream",
       "stream": "stdout",
       "text": [
        "\r",
        "Jumped 184000 times"
       ]
      },
      {
       "output_type": "stream",
       "stream": "stdout",
       "text": [
        "\r",
        "Jumped 185000 times"
       ]
      },
      {
       "output_type": "stream",
       "stream": "stdout",
       "text": [
        "\r",
        "Jumped 185000 times"
       ]
      },
      {
       "output_type": "stream",
       "stream": "stdout",
       "text": [
        "\r",
        "Jumped 185000 times"
       ]
      },
      {
       "output_type": "stream",
       "stream": "stdout",
       "text": [
        "\r",
        "Jumped 186000 times"
       ]
      },
      {
       "output_type": "stream",
       "stream": "stdout",
       "text": [
        "\r",
        "Jumped 187000 times"
       ]
      },
      {
       "output_type": "stream",
       "stream": "stdout",
       "text": [
        "\r",
        "Jumped 188000 times"
       ]
      },
      {
       "output_type": "stream",
       "stream": "stdout",
       "text": [
        "\r",
        "Jumped 189000 times"
       ]
      },
      {
       "output_type": "stream",
       "stream": "stdout",
       "text": [
        "\r",
        "Jumped 189000 times"
       ]
      },
      {
       "output_type": "stream",
       "stream": "stdout",
       "text": [
        "\r",
        "Jumped 190000 times"
       ]
      },
      {
       "output_type": "stream",
       "stream": "stdout",
       "text": [
        "\r",
        "Jumped 191000 times"
       ]
      },
      {
       "output_type": "stream",
       "stream": "stdout",
       "text": [
        "\r",
        "Jumped 192000 times"
       ]
      },
      {
       "output_type": "stream",
       "stream": "stdout",
       "text": [
        "\r",
        "Jumped 192000 times"
       ]
      },
      {
       "output_type": "stream",
       "stream": "stdout",
       "text": [
        "\r",
        "Jumped 193000 times"
       ]
      },
      {
       "output_type": "stream",
       "stream": "stdout",
       "text": [
        "\r",
        "Jumped 193000 times"
       ]
      },
      {
       "output_type": "stream",
       "stream": "stdout",
       "text": [
        "\r",
        "Jumped 193000 times"
       ]
      },
      {
       "output_type": "stream",
       "stream": "stdout",
       "text": [
        "\r",
        "Jumped 194000 times"
       ]
      },
      {
       "output_type": "stream",
       "stream": "stdout",
       "text": [
        "\r",
        "Jumped 195000 times"
       ]
      },
      {
       "output_type": "stream",
       "stream": "stdout",
       "text": [
        "\r",
        "Jumped 196000 times"
       ]
      },
      {
       "output_type": "stream",
       "stream": "stdout",
       "text": [
        "\r",
        "Jumped 197000 times"
       ]
      },
      {
       "output_type": "stream",
       "stream": "stdout",
       "text": [
        "\r",
        "Jumped 197000 times"
       ]
      },
      {
       "output_type": "stream",
       "stream": "stdout",
       "text": [
        "\r",
        "Jumped 197000 times"
       ]
      },
      {
       "output_type": "stream",
       "stream": "stdout",
       "text": [
        "\r",
        "Jumped 198000 times"
       ]
      },
      {
       "output_type": "stream",
       "stream": "stdout",
       "text": [
        "\r",
        "Jumped 199000 times"
       ]
      },
      {
       "output_type": "stream",
       "stream": "stdout",
       "text": [
        "\r",
        "Jumped 200000 times"
       ]
      }
     ],
     "prompt_number": 7
    },
    {
     "cell_type": "code",
     "collapsed": false,
     "input": [
      "gwv.showCustomGraph(jumpLocations)"
     ],
     "language": "python",
     "metadata": {},
     "outputs": [],
     "prompt_number": 45
    },
    {
     "cell_type": "code",
     "collapsed": false,
     "input": [
      "# best10Jumps =  best10Jumps[0:-1]\n",
      "best10Jumps = []"
     ],
     "language": "python",
     "metadata": {},
     "outputs": [],
     "prompt_number": 156
    },
    {
     "cell_type": "code",
     "collapsed": false,
     "input": [
      "# best10Jumps = [np.array([[ 478,  104, 7130],      ## 1000000 jumps\n",
      "#                          [ 478,  105, 7003],\n",
      "#                          [ 477,  105, 6546],\n",
      "#                          [ 478,   93, 6462],\n",
      "#                          [ 484,   93, 6424],\n",
      "#                          [ 483,   93, 6408],\n",
      "#                          [ 477,   93, 6329],\n",
      "#                          [ 477,  104, 6269],\n",
      "#                          [ 483,  105, 6117],\n",
      "#                          [ 479,   93, 6079]])]\n",
      "\n",
      "sortedJumps = np.argsort(np.ndarray.flatten(jumpLocations))[::-1]\n",
      "sortedJumps = np.array([np.array(sortedJumps/distanceMatrix.shape[0], dtype=int), \n",
      "                        np.array(np.mod(sortedJumps, distanceMatrix.shape[0]), dtype=int)]).T\n",
      "topRanking = np.hstack((sortedJumps[:200, :], jumpLocations[sortedJumps[:200, 0], sortedJumps[:200, 1]].reshape((200, 1))))\n",
      "print np.concatenate((topRanking, distMat[topRanking[:, 0], topRanking[:, 1]].reshape(200, 1)), axis=-1)\n",
      "# best10Jumps.append(np.hstack((sortedJumps[:10, :], jumpLocations[sortedJumps[:10, 0], sortedJumps[:10, 1]].reshape((10, 1)))))\n",
      "print best10Jumps"
     ],
     "language": "python",
     "metadata": {},
     "outputs": [
      {
       "output_type": "stream",
       "stream": "stdout",
       "text": [
        "[[ 1390.          1300.            73.           157.16783379]\n",
        " [ 1198.          1370.            45.           106.99125576]\n",
        " [ 1367.          1101.            42.           117.20155111]\n",
        " [ 1368.          1198.            41.            96.52539713]\n",
        " [ 1101.          1369.            41.           135.51612188]\n",
        " [ 1244.          1315.            39.           127.97895761]\n",
        " [ 1100.          1368.            37.           117.20155111]\n",
        " [ 1372.          1142.            37.           131.28795137]\n",
        " [ 1141.          1373.            37.           131.28795137]\n",
        " [ 1368.          1102.            36.           135.51612188]\n",
        " [ 1072.          1271.            36.            72.09631988]\n",
        " [ 1333.          1229.            35.           105.84197828]\n",
        " [  972.          1057.            35.            81.63514028]\n",
        " [  971.          1056.            35.            76.32012794]\n",
        " [ 1315.          1099.            34.            84.46621221]\n",
        " [ 1197.          1102.            34.            89.61220068]\n",
        " [ 1363.          1168.            34.            99.9985561 ]\n",
        " [ 1371.          1141.            33.           110.23966604]\n",
        " [ 1369.          1199.            33.           106.99125576]\n",
        " [ 1105.          1207.            33.           107.21100737]\n",
        " [ 1314.          1245.            33.           127.97895761]\n",
        " [ 1067.          1365.            33.           128.66790071]\n",
        " [ 1228.          1334.            33.           105.84197828]\n",
        " [ 1098.          1316.            33.            84.46621221]\n",
        " [ 1373.          1179.            32.            81.93303298]\n",
        " [ 1206.          1149.            32.           138.21816515]\n",
        " [ 1056.           973.            32.            81.63514028]\n",
        " [ 1140.          1372.            32.           110.23966604]\n",
        " [ 1176.          1123.            31.           102.53894535]\n",
        " [ 1334.          1230.            31.           124.68034521]\n",
        " [ 1101.          1198.            31.            89.61220068]\n",
        " [ 1314.          1136.            31.            76.87824229]\n",
        " [ 1389.          1299.            31.           125.6158923 ]\n",
        " [ 1385.           973.            30.           101.257152  ]\n",
        " [ 1375.          1181.            30.           128.01608092]\n",
        " [  941.          1255.            30.           134.10142275]\n",
        " [ 1124.          1178.            30.           120.54700994]\n",
        " [ 1102.          1370.            30.           147.90589231]\n",
        " [  973.          1058.            30.            85.40996374]\n",
        " [ 1199.          1371.            29.           116.69035938]\n",
        " [ 1204.          1129.            29.           172.54097351]\n",
        " [ 1111.          1224.            29.           144.07511581]\n",
        " [ 1198.          1129.            29.           144.79396315]\n",
        " [ 1199.          1370.            29.           118.96232263]\n",
        " [ 1226.          1332.            29.            74.55620133]\n",
        " [ 1329.          1115.            29.           174.67601792]\n",
        " [ 1180.          1376.            29.           128.01608092]\n",
        " [ 1269.          1073.            29.            65.92805397]\n",
        " [ 1255.          1314.            29.           138.09202928]\n",
        " [ 1175.          1124.            28.           109.17557881]\n",
        " [ 1369.          1103.            28.           147.90589231]\n",
        " [ 1390.          1301.            28.           161.21004768]\n",
        " [ 1322.          1127.            28.            98.47475547]\n",
        " [ 1207.          1150.            28.           166.86203662]\n",
        " [  976.          1349.            28.           126.23229096]\n",
        " [ 1129.          1205.            28.           182.0467302 ]\n",
        " [ 1268.          1072.            28.            62.03293481]\n",
        " [ 1098.          1246.            28.           155.88022957]\n",
        " [ 1270.          1074.            28.            72.23107801]\n",
        " [ 1363.          1167.            28.           115.57633193]\n",
        " [ 1205.          1105.            27.            96.36265183]\n",
        " [ 1175.          1122.            27.            88.84620743]\n",
        " [ 1372.          1178.            27.            71.57575488]\n",
        " [ 1313.          1256.            27.           138.09202928]\n",
        " [ 1273.           940.            27.           103.08772877]\n",
        " [ 1169.          1365.            27.            79.10807342]\n",
        " [  942.          1255.            27.           154.67701041]\n",
        " [ 1197.          1369.            27.            96.52539713]\n",
        " [ 1176.          1121.            27.            91.78384387]\n",
        " [ 1177.          1374.            27.            78.09619185]\n",
        " [ 1176.          1125.            27.           116.24950395]\n",
        " [ 1323.          1128.            27.           119.05658487]\n",
        " [ 1120.          1195.            27.            87.03446584]\n",
        " [ 1298.          1390.            27.           125.6158923 ]\n",
        " [ 1363.          1067.            26.           109.12558307]\n",
        " [ 1062.          1242.            26.            93.50957486]\n",
        " [ 1073.          1271.            26.            72.23107801]\n",
        " [ 1148.          1207.            26.           138.21816515]\n",
        " [ 1090.          1383.            26.           107.97931957]\n",
        " [ 1083.          1256.            26.           103.8657444 ]\n",
        " [ 1122.          1196.            26.            82.64297518]\n",
        " [ 1121.          1178.            26.            99.69652462]\n",
        " [ 1071.          1269.            26.            62.03293481]\n",
        " [ 1122.          1177.            26.           102.53894535]\n",
        " [ 1057.           974.            26.            85.40996374]\n",
        " [ 1074.          1272.            26.            81.78558188]\n",
        " [ 1272.          1075.            26.            94.75387523]\n",
        " [ 1374.          1180.            26.           100.88468915]\n",
        " [ 1243.          1097.            26.           115.07549458]\n",
        " [ 1167.          1364.            26.            99.9985561 ]\n",
        " [ 1257.          1067.            26.            93.67542969]\n",
        " [ 1123.          1176.            26.           109.17557881]\n",
        " [ 1175.          1123.            26.            98.62212273]\n",
        " [ 1102.          1369.            26.           146.14283212]\n",
        " [ 1329.          1118.            26.           168.20952536]\n",
        " [ 1151.          1328.            26.            94.3371463 ]\n",
        " [ 1369.          1200.            25.           118.96232263]\n",
        " [ 1176.          1122.            25.            96.24679884]\n",
        " [ 1146.          1206.            25.           102.52421257]\n",
        " [ 1205.          1147.            25.           102.52421257]\n",
        " [ 1120.          1177.            25.            91.78384387]\n",
        " [  941.          1275.            25.            96.93834296]\n",
        " [ 1168.          1365.            25.            95.99890448]\n",
        " [ 1370.          1202.            25.           139.26167278]\n",
        " [ 1368.          1197.            25.            95.93706632]\n",
        " [ 1136.          1316.            25.            85.69203844]\n",
        " [ 1332.          1228.            25.            88.20608708]\n",
        " [ 1108.          1223.            25.           139.00506956]\n",
        " [ 1125.          1177.            25.           111.05041325]\n",
        " [ 1196.          1368.            25.            84.52989509]\n",
        " [ 1198.          1103.            25.            94.33333177]\n",
        " [ 1119.          1194.            25.            83.21838701]\n",
        " [ 1153.          1330.            25.           140.8532673 ]\n",
        " [ 1272.          1076.            25.            95.55609887]\n",
        " [ 1073.          1272.            25.            82.02294315]\n",
        " [ 1223.          1113.            25.           139.95508272]\n",
        " [ 1128.          1205.            25.           172.54097351]\n",
        " [ 1329.          1119.            25.           167.81657943]\n",
        " [ 1061.          1242.            25.           106.08358167]\n",
        " [ 1244.          1098.            25.           136.98551835]\n",
        " [  977.          1291.            25.            77.16983954]\n",
        " [ 1381.          1090.            25.           103.50982323]\n",
        " [ 1329.          1116.            25.           171.99570795]\n",
        " [ 1147.          1207.            24.           123.03673165]\n",
        " [ 1256.          1066.            24.            99.66279146]\n",
        " [ 1270.          1073.            24.            72.09631988]\n",
        " [ 1169.          1366.            24.            85.28704425]\n",
        " [ 1297.          1389.            24.            91.94339868]\n",
        " [ 1205.          1327.            24.           153.6655385 ]\n",
        " [ 1382.          1302.            24.            92.05797023]\n",
        " [ 1194.          1374.            24.           119.16916273]\n",
        " [ 1367.          1102.            24.           127.595292  ]\n",
        " [ 1075.          1273.            24.            95.55609887]\n",
        " [ 1066.          1364.            24.           109.12558307]\n",
        " [ 1120.          1176.            24.            84.46191921]\n",
        " [ 1316.          1100.            24.            93.66918656]\n",
        " [ 1107.          1207.            24.           122.542766  ]\n",
        " [ 1121.          1177.            24.            96.24679884]\n",
        " [  977.          1350.            24.           136.83900227]\n",
        " [ 1072.          1270.            24.            65.92805397]\n",
        " [ 1387.          1293.            24.           124.05069501]\n",
        " [ 1177.          1121.            24.            92.07053032]\n",
        " [ 1253.           941.            24.           114.27821943]\n",
        " [ 1302.          1384.            24.            93.8465244 ]\n",
        " [ 1149.          1207.            24.           159.02315219]\n",
        " [ 1106.          1206.            24.           107.06680519]\n",
        " [ 1370.          1201.            24.           129.48804188]\n",
        " [ 1371.          1193.            24.            75.5459333 ]\n",
        " [ 1113.          1328.            24.           115.50877208]\n",
        " [ 1102.          1199.            24.            94.33333177]\n",
        " [ 1067.           929.            24.            96.37578746]\n",
        " [ 1301.          1383.            24.            92.05797023]\n",
        " [ 1119.          1331.            24.           191.35477976]\n",
        " [ 1255.          1084.            24.           103.8657444 ]\n",
        " [ 1122.          1178.            24.           107.72022335]\n",
        " [ 1121.          1196.            24.            84.5476432 ]\n",
        " [ 1132.          1228.            23.           211.70261611]\n",
        " [  948.          1059.            23.            70.88055592]\n",
        " [ 1371.          1177.            23.            64.67371614]\n",
        " [ 1196.          1102.            23.            92.93513533]\n",
        " [ 1177.          1125.            23.           120.54700994]\n",
        " [ 1370.          1193.            23.            76.30656225]\n",
        " [ 1119.          1193.            23.            77.57938724]\n",
        " [ 1226.          1331.            23.           103.2955394 ]\n",
        " [ 1221.          1110.            23.            87.34616518]\n",
        " [ 1203.          1103.            23.            74.96759735]\n",
        " [  941.          1254.            23.           135.05936315]\n",
        " [ 1113.          1329.            23.           148.13916286]\n",
        " [ 1175.          1125.            23.           113.47928641]\n",
        " [ 1150.          1223.            23.            87.22088789]\n",
        " [ 1371.          1142.            23.           126.90319077]\n",
        " [ 1198.          1104.            23.           105.46668851]\n",
        " [ 1327.          1153.            23.           106.87182667]\n",
        " [ 1179.          1374.            23.           105.11983961]\n",
        " [ 1193.          1121.            23.            83.4307603 ]\n",
        " [ 1113.          1226.            23.           191.2558639 ]\n",
        " [ 1099.          1317.            23.            93.66918656]\n",
        " [ 1193.          1120.            23.            83.21838701]\n",
        " [ 1202.          1320.            23.            96.68083929]\n",
        " [ 1193.          1372.            23.            86.02174366]\n",
        " [ 1197.          1128.            23.           117.51418688]\n",
        " [  942.          1276.            23.            97.47206952]\n",
        " [ 1388.          1298.            23.            91.94339868]\n",
        " [ 1204.          1104.            23.            85.2508646 ]\n",
        " [  940.          1312.            23.           155.64542729]\n",
        " [ 1146.          1205.            23.            86.17851995]\n",
        " [ 1271.          1075.            23.            81.78558188]\n",
        " [ 1271.          1074.            23.            82.02294315]\n",
        " [ 1096.          1244.            23.           115.07549458]\n",
        " [ 1312.           942.            23.           186.20237516]\n",
        " [ 1390.          1165.            23.           117.36900852]\n",
        " [ 1204.          1105.            23.            88.59851945]\n",
        " [ 1104.          1205.            22.            88.59851945]\n",
        " [ 1199.          1130.            22.           164.0379453 ]\n",
        " [ 1241.          1063.            22.            93.50957486]\n",
        " [ 1364.          1170.            22.            79.10807342]\n",
        " [ 1151.          1224.            22.           109.15167403]\n",
        " [ 1123.          1177.            22.           111.31149498]\n",
        " [ 1278.           973.            22.           159.85958889]\n",
        " [ 1106.          1207.            22.           115.01284735]]\n",
        "[]\n"
       ]
      }
     ],
     "prompt_number": 9
    },
    {
     "cell_type": "code",
     "collapsed": false,
     "input": [
      "## right\n",
      "print frames[1268]\n",
      "print frames[1072]"
     ],
     "language": "python",
     "metadata": {},
     "outputs": [
      {
       "output_type": "stream",
       "stream": "stdout",
       "text": [
        "/media/ilisescu/Data1/PhD/data/candle3/stabilized/segmentedAndCropped/frame-01269.png\n",
        "/media/ilisescu/Data1/PhD/data/candle3/stabilized/segmentedAndCropped/frame-01073.png\n"
       ]
      }
     ],
     "prompt_number": 12
    },
    {
     "cell_type": "code",
     "collapsed": false,
     "input": [
      "## right\n",
      "print frames[1370]\n",
      "print frames[1198]"
     ],
     "language": "python",
     "metadata": {},
     "outputs": [
      {
       "output_type": "stream",
       "stream": "stdout",
       "text": [
        "/media/ilisescu/Data1/PhD/data/candle3/stabilized/segmentedAndCropped/frame-01371.png\n",
        "/media/ilisescu/Data1/PhD/data/candle3/stabilized/segmentedAndCropped/frame-01199.png\n"
       ]
      }
     ],
     "prompt_number": 54
    },
    {
     "cell_type": "code",
     "collapsed": false,
     "input": [
      "## left\n",
      "print frames[591]#636]\n",
      "print frames[371]#356]"
     ],
     "language": "python",
     "metadata": {},
     "outputs": [
      {
       "output_type": "stream",
       "stream": "stdout",
       "text": [
        "/media/ilisescu/Data1/PhD/data/candle3/stabilized/segmentedAndCropped/frame-00592.png\n",
        "/media/ilisescu/Data1/PhD/data/candle3/stabilized/segmentedAndCropped/frame-00372.png\n"
       ]
      }
     ],
     "prompt_number": 55
    },
    {
     "cell_type": "code",
     "collapsed": false,
     "input": [
      "## left\n",
      "print frames[723]#636]\n",
      "print frames[512]#356]"
     ],
     "language": "python",
     "metadata": {},
     "outputs": [
      {
       "output_type": "stream",
       "stream": "stdout",
       "text": [
        "/media/ilisescu/Data1/PhD/data/candle3/stabilized/segmentedAndCropped/frame-00724.png\n",
        "/media/ilisescu/Data1/PhD/data/candle3/stabilized/segmentedAndCropped/frame-00513.png\n"
       ]
      }
     ],
     "prompt_number": 41
    },
    {
     "cell_type": "code",
     "collapsed": false,
     "input": [
      "## right\n",
      "print frames[789]\n",
      "print frames[724]"
     ],
     "language": "python",
     "metadata": {},
     "outputs": [
      {
       "output_type": "stream",
       "stream": "stdout",
       "text": [
        "/media/ilisescu/Data1/PhD/data/candle2/subset_stabilized/segmentedAndCropped/frame-00790.png\n",
        "/media/ilisescu/Data1/PhD/data/candle2/subset_stabilized/segmentedAndCropped/frame-00725.png\n"
       ]
      }
     ],
     "prompt_number": 29
    },
    {
     "cell_type": "code",
     "collapsed": false,
     "input": [
      "## right\n",
      "print frames[223]\n",
      "print frames[163]"
     ],
     "language": "python",
     "metadata": {},
     "outputs": [
      {
       "output_type": "stream",
       "stream": "stdout",
       "text": [
        "/media/ilisescu/Data1/PhD/data/candle2/subset_stabilized/segmentedAndCropped/frame-00224.png\n",
        "/media/ilisescu/Data1/PhD/data/candle2/subset_stabilized/segmentedAndCropped/frame-00164.png\n"
       ]
      }
     ],
     "prompt_number": 25
    },
    {
     "cell_type": "code",
     "collapsed": false,
     "input": [
      "## right\n",
      "print frames[193]\n",
      "print frames[143]"
     ],
     "language": "python",
     "metadata": {},
     "outputs": [
      {
       "output_type": "stream",
       "stream": "stdout",
       "text": [
        "/media/ilisescu/Data1/PhD/data/candle2/subset_stabilized/segmentedAndCropped/frame-00194.png\n",
        "/media/ilisescu/Data1/PhD/data/candle2/subset_stabilized/segmentedAndCropped/frame-00144.png\n"
       ]
      }
     ],
     "prompt_number": 19
    },
    {
     "cell_type": "code",
     "collapsed": false,
     "input": [
      "## left ish\n",
      "print frames[1126]\n",
      "print frames[936]"
     ],
     "language": "python",
     "metadata": {},
     "outputs": [
      {
       "output_type": "stream",
       "stream": "stdout",
       "text": [
        "/media/ilisescu/Data1/PhD/data/candle2/subset_stabilized/segmentedAndCropped/frame-01127.png\n",
        "/media/ilisescu/Data1/PhD/data/candle2/subset_stabilized/segmentedAndCropped/frame-00937.png\n"
       ]
      }
     ],
     "prompt_number": 13
    },
    {
     "cell_type": "code",
     "collapsed": false,
     "input": [
      "sortedJumps = np.argsort(np.ndarray.flatten(jumpLocations))[::-1]\n",
      "sortedJumps = np.array([np.array(sortedJumps/distanceMatrix.shape[0], dtype=int), \n",
      "                        np.array(np.mod(sortedJumps, distanceMatrix.shape[0]), dtype=int)]).T\n",
      "print np.hstack((sortedJumps[:10, :], jumpLocations[sortedJumps[:10, 0], sortedJumps[:10, 1]].reshape((10, 1))))"
     ],
     "language": "python",
     "metadata": {},
     "outputs": [
      {
       "output_type": "stream",
       "stream": "stdout",
       "text": [
        "[[ 508  971    5]\n",
        " [ 560  541    4]\n",
        " [  21   39    4]\n",
        " [ 940 1004    4]\n",
        " [ 558  536    4]\n",
        " [ 925  949    4]\n",
        " [ 942  968    4]\n",
        " [ 526   37    4]\n",
        " [ 728  716    4]\n",
        " [ 498  119    4]]\n"
       ]
      }
     ],
     "prompt_number": 26
    },
    {
     "cell_type": "code",
     "collapsed": false,
     "input": [
      "sortedJumps = np.argsort(np.ndarray.flatten(jumpLocations))[::-1]\n",
      "sortedJumps = np.array([np.array(sortedJumps/distanceMatrix.shape[0], dtype=int), \n",
      "                        np.array(np.mod(sortedJumps, distanceMatrix.shape[0]), dtype=int)]).T\n",
      "print np.hstack((sortedJumps[:10, :], jumpLocations[sortedJumps[:10, 0], sortedJumps[:10, 1]].reshape((10, 1))))"
     ],
     "language": "python",
     "metadata": {},
     "outputs": [
      {
       "output_type": "stream",
       "stream": "stdout",
       "text": [
        "[[127   9  51]\n",
        " [129  11  48]\n",
        " [130  11  46]\n",
        " [128   9  44]\n",
        " [127   8  44]\n",
        " [129  10  43]\n",
        " [330 106  38]\n",
        " [128  10  36]\n",
        " [126   9  35]\n",
        " [189 128  33]]\n"
       ]
      }
     ],
     "prompt_number": 30
    },
    {
     "cell_type": "code",
     "collapsed": false,
     "input": [
      "best10Jumps = [array([[ 478,  104, 7130], ## 1000000\n",
      "                       [ 478,  105, 7003],\n",
      "                       [ 477,  105, 6546],\n",
      "                       [ 478,   93, 6462],\n",
      "                       [ 484,   93, 6424],\n",
      "                       [ 483,   93, 6408],\n",
      "                       [ 477,   93, 6329],\n",
      "                       [ 477,  104, 6269],\n",
      "                       [ 483,  105, 6117],\n",
      "                       [ 479,   93, 6079]]), \n",
      "               array([[478, 105, 366], ## 50000\n",
      "                       [478, 104, 361],\n",
      "                       [477, 105, 335],\n",
      "                       [478,  93, 333],\n",
      "                       [484,  93, 329],\n",
      "                       [483,  93, 328],\n",
      "                       [484,  94, 328],\n",
      "                       [477,  93, 324],\n",
      "                       [479,  93, 315],\n",
      "                       [477, 104, 314]]), \n",
      "               array([[478, 104, 366],\n",
      "                       [478, 105, 362],\n",
      "                       [478,  93, 349],\n",
      "                       [477, 105, 344],\n",
      "                       [484,  93, 321],\n",
      "                       [483,  93, 319],\n",
      "                       [477,  93, 317],\n",
      "                       [479,  93, 310],\n",
      "                       [477, 104, 305],\n",
      "                       [483, 105, 297]]), \n",
      "               array([[478, 104,  43], ## 5000\n",
      "                       [483,  93,  42],\n",
      "                       [478,  93,  37],\n",
      "                       [478, 106,  36],\n",
      "                       [484,  94,  35],\n",
      "                       [476, 105,  34],\n",
      "                       [477,  93,  33],\n",
      "                       [478, 105,  32],\n",
      "                       [477, 105,  31],\n",
      "                       [484,  92,  31]]), \n",
      "               array([[420, 112,   9], ## 5000 using psi weighting\n",
      "                       [429, 118,   8],\n",
      "                       [436, 110,   8],\n",
      "                       [436, 111,   8],\n",
      "                       [445, 114,   8],\n",
      "                       [445, 111,   8],\n",
      "                       [429,  94,   8],\n",
      "                       [438, 116,   7],\n",
      "                       [406, 112,   7],\n",
      "                       [446,  93,   6]]), \n",
      "               array([[436,  93,  57], ## 50000 using psi weighting\n",
      "                       [436, 107,  56],\n",
      "                       [437,  94,  55],\n",
      "                       [436, 105,  55],\n",
      "                       [436,  94,  54],\n",
      "                       [436, 115,  53],\n",
      "                       [437, 107,  53],\n",
      "                       [446, 106,  52],\n",
      "                       [447,  94,  51],\n",
      "                       [435, 108,  50]]), \n",
      "               array([[173, 155,  27], ## 50000 using psi weighting and manually labelled bad examples\n",
      "                       [155, 172,  24], ##[[435 436 436 436 436 436 437 437 446 447 476 477 477 477 478 478 478 478 479 483 483 484 484 484]\n",
      "                       [166, 177,  57], ## [107  92  93 104 106 114  93 106 105  93 104  92 103 104  92 103 104 105 92  92 104  91  92  93]]    \n",
      "                       [157, 147,  22],\n",
      "                       [158, 169,  21],\n",
      "                       [142, 156,  20],\n",
      "                       [173, 163,  20],\n",
      "                       [156, 143,  20],\n",
      "                       [166, 148,  20],\n",
      "                       [166, 155,  20]]), \n",
      "               array([[171, 153,  24], ## 50000 using psi weighting and 1000 random examples\n",
      "                       [169, 156,  24],\n",
      "                       [163, 173,  22],\n",
      "                       [166, 155,  21],\n",
      "                       [167, 152,  20],\n",
      "                       [195, 183,  20],\n",
      "                       [165, 175,  19],\n",
      "                       [155, 173,  19],\n",
      "                       [153, 167,  19],\n",
      "                       [155, 166,  19]])]\n"
     ],
     "language": "python",
     "metadata": {},
     "outputs": [],
     "prompt_number": 3
    },
    {
     "cell_type": "code",
     "collapsed": false,
     "input": [
      "figure(); plot(jumpLocations[sortedJumps[:2670, 0], sortedJumps[:2670, 1]])"
     ],
     "language": "python",
     "metadata": {},
     "outputs": [
      {
       "metadata": {},
       "output_type": "pyout",
       "prompt_number": 11,
       "text": [
        "[<matplotlib.lines.Line2D at 0x7fb74aef1510>]"
       ]
      }
     ],
     "prompt_number": 11
    },
    {
     "cell_type": "code",
     "collapsed": false,
     "input": [
      "class ImageLabel(QtGui.QLabel) :\n",
      "    \n",
      "    def __init__(self, text, parent=None):\n",
      "        super(ImageLabel, self).__init__(text, parent)\n",
      "        \n",
      "    def setPixmap(self, pixmap) :\n",
      "        if pixmap.width() > self.width() :\n",
      "            super(ImageLabel, self).setPixmap(pixmap)\n",
      "        else :\n",
      "            super(ImageLabel, self).setPixmap(pixmap)\n",
      "        \n",
      "    def resizeEvent(self, event) :\n",
      "        if self.pixmap() != None :\n",
      "            if self.pixmap().width() > self.width() :\n",
      "                self.setPixmap(self.pixmap().scaledToWidth(self.width()))\n",
      "                \n",
      "class Window(QtGui.QWidget):\n",
      "    def __init__(self):\n",
      "        super(Window, self).__init__()\n",
      "        \n",
      "        self.createGUI()\n",
      "        \n",
      "        self.setWindowTitle(\"Validate Jumps\")\n",
      "        self.resize(1280, 720)\n",
      "        \n",
      "        self.delta = 1\n",
      "        \n",
      "        self.textureTimer = QtCore.QTimer(self)\n",
      "        self.textureTimer.setInterval(1000/30)\n",
      "        self.textureTimer.start()\n",
      "        self.textureTimer.timeout.connect(self.renderOneFrame)\n",
      "        self.visualizeMovie = False\n",
      "        self.currentVisFrame = 0\n",
      "        self.showMatted = False\n",
      "        self.messageShowed = False\n",
      "        \n",
      "        self.labelJumpStyle = \"QLabel {border: 1px solid black; background: #aa0000; color: white; padding-left: 5px; padding-right: 5px;}\"\n",
      "        self.labelNoJumpStyle = \"QLabel {border: 1px solid gray; background: #eeeeee; color: black; padding-left: 5px; padding-right: 5px;}\"\n",
      "        \n",
      "        self.DESIRED_EXTRA_FRAMES = 45\n",
      "        self.additionalFrames = np.copy(self.DESIRED_EXTRA_FRAMES)\n",
      "        \n",
      "        self.validatedJumps = -np.ones(distanceMatrix.shape, dtype=int)\n",
      "        \n",
      "        if os.path.isfile(dataPath+dataSet+\"validatedJumps.npy\") :\n",
      "            self.validatedJumps = np.load(dataPath+dataSet+\"validatedJumps.npy\")\n",
      "            \n",
      "        self.validatedPairs = list(np.argwhere(self.validatedJumps != -1))\n",
      "        \n",
      "        self.setLabelledFramesListTable()\n",
      "        \n",
      "        self.pairsToValidate = []#list(np.copy(best10Jumps[-1]))\n",
      "        \n",
      "        self.getNewPair()\n",
      "        \n",
      "        self.setFocus()\n",
      "        \n",
      "    def setRenderFps(self, value) :\n",
      "        self.textureTimer.setInterval(1000/value)\n",
      "        \n",
      "    def finishedSettingFps(self) :\n",
      "        self.setFocus()\n",
      "        \n",
      "    def setTextureFrame(self, im, alpha):\n",
      "        im = np.ascontiguousarray(im)\n",
      "        \n",
      "        if alpha :\n",
      "            qim = QtGui.QImage(im.data, im.shape[1], im.shape[0], im.strides[0], QtGui.QImage.Format_ARGB32);\n",
      "        else :\n",
      "            qim = QtGui.QImage(im.data, im.shape[1], im.shape[0], im.strides[0], QtGui.QImage.Format_RGB888);\n",
      "            \n",
      "        self.movieLabel.setPixmap(QtGui.QPixmap.fromImage(qim))\n",
      "        \n",
      "    def renderOneFrame(self):\n",
      "        if self.visualizeMovie:\n",
      "            try:\n",
      "                self.movie\n",
      "                self.currentVisFrame\n",
      "            except AttributeError:\n",
      "                return\n",
      "            else:\n",
      "#                 if self.currentVisFrame < 0 or self.currentVisFrame >= len(self.movie) :\n",
      "#                     self.currentVisFrame = 0\n",
      "                self.currentVisFrame += self.delta\n",
      "                if self.delta > 0 and self.currentVisFrame  >= len(self.movie) :\n",
      "                    self.delta = -1\n",
      "                    self.currentVisFrame = len(self.movie) - 2\n",
      "                elif self.delta < 0 and self.currentVisFrame < 0 :\n",
      "                    self.delta = 1\n",
      "                    self.currentVisFrame = 1\n",
      "                    \n",
      "                frameIdx = self.movie[self.currentVisFrame]\n",
      "                \n",
      "                if self.showMatted and frameIdx < len(mattes) and os.path.isfile(mattes[frameIdx]) :\n",
      "                    alphaMatte = cv2.cvtColor(cv2.imread(mattes[frameIdx]), cv2.COLOR_BGR2GRAY)\n",
      "                    alphaMatte = np.reshape(alphaMatte, np.hstack((alphaMatte.shape[0:2], 1)))\n",
      "                    self.setTextureFrame(np.concatenate((cv2.imread(frames[frameIdx]), alphaMatte), axis=-1), True)\n",
      "                else :\n",
      "                    self.setTextureFrame(cv2.cvtColor(cv2.imread(frames[frameIdx]), cv2.COLOR_BGR2RGB), False)\n",
      "                    \n",
      "                if self.currentVisFrame == self.additionalFrames+1 or self.currentVisFrame == self.additionalFrames+2 :\n",
      "                    self.movieInfo.setStyleSheet(self.labelJumpStyle)\n",
      "                else :\n",
      "                    self.movieInfo.setStyleSheet(self.labelNoJumpStyle)\n",
      "                    \n",
      "                self.movieInfo.setText(np.str_(self.currentVisFrame) + \" from \" + np.str_(frameIdx))\n",
      "                \n",
      "#                 self.currentVisFrame = np.mod(self.currentVisFrame+1, len(self.movie))\n",
      "        \n",
      "    def setLabelledFramesListTable(self) :\n",
      "        \n",
      "        if len(self.validatedPairs) > 0 :\n",
      "            self.labelledFramesListTable.setRowCount(len(self.validatedPairs))\n",
      "            \n",
      "            for pairing, i in zip(self.validatedPairs, arange(len(self.validatedPairs))) :\n",
      "                self.labelledFramesListTable.setItem(i, 0, QtGui.QTableWidgetItem(np.string_(pairing[0])))\n",
      "                self.labelledFramesListTable.setItem(i, 1, QtGui.QTableWidgetItem(np.string_(pairing[1])))\n",
      "                self.labelledFramesListTable.setItem(i, 2, QtGui.QTableWidgetItem(np.string_(self.validatedJumps[pairing[0], pairing[1]] == 1)))\n",
      "        else :\n",
      "            self.labelledFramesListTable.setRowCount(0)\n",
      "            \n",
      "    def getNewPair(self) :\n",
      "        if len(self.pairsToValidate) > 0 :\n",
      "            self.labelledFramesListTable.setEnabled(False)\n",
      "            self.frame1Idx = self.pairsToValidate[0][0]\n",
      "            self.frame2Idx = self.pairsToValidate[0][1]\n",
      "            \n",
      "            del self.pairsToValidate[0]\n",
      "            \n",
      "            self.setMovie()\n",
      "        else :\n",
      "            if not self.messageShowed :\n",
      "                QtGui.QMessageBox.information(self, \"No more pairs to validate\", \"There are no more jumps to validate left.\")\n",
      "                self.messageShowed = True\n",
      "            self.labelledFramesListTable.setEnabled(True)\n",
      "        \n",
      "    def setMovie(self) :\n",
      "        self.visualizeMovie = False\n",
      "        \n",
      "        self.additionalFrames = np.min((self.frame1Idx, numFrames-self.frame2Idx, self.DESIRED_EXTRA_FRAMES))\n",
      "        \n",
      "        self.movie = np.arange(self.frame1Idx-self.additionalFrames, self.frame1Idx+1, dtype=int)\n",
      "        self.movie = np.concatenate((self.movie, np.arange(self.frame2Idx+1, self.frame2Idx+self.additionalFrames+2, dtype=int)))\n",
      "        \n",
      "#         print self.movie, self.frame1Idx, self.frame2Idx\n",
      "        \n",
      "        self.visualizeMovie = True\n",
      "        \n",
      "    def existingPairSelected(self) :\n",
      "        selectedRow = self.labelledFramesListTable.currentRow()\n",
      "        if selectedRow >= 0 and selectedRow < len(self.validatedPairs):\n",
      "            self.frame1Idx = self.validatedPairs[selectedRow][0]\n",
      "            self.frame2Idx = self.validatedPairs[selectedRow][1]\n",
      "            \n",
      "            self.setMovie()\n",
      "        \n",
      "    def keyPressEvent(self, e) :\n",
      "        if e.key() == QtCore.Qt.Key_Down : ## jump is invalid\n",
      "            self.validateFramePair(0)\n",
      "        elif e.key() == QtCore.Qt.Key_Up : ## jump is valid\n",
      "            self.validateFramePair(1)\n",
      "            \n",
      "    def validateFramePair(self, isValid) :\n",
      "        if self.labelledFramesListTable.currentRow() >= 0 : ## I'm modifying validation of existing pair\n",
      "            selectedPair = self.validatedPairs[self.labelledFramesListTable.currentRow()]\n",
      "#             print selectedPair\n",
      "        else :\n",
      "            selectedPair = np.array([self.frame1Idx, self.frame2Idx])\n",
      "#             print self.frame1Idx, self.frame2Idx, isValid\n",
      "\n",
      "        if self.validatedJumps[selectedPair[0], selectedPair[1]] == -1 :\n",
      "            self.validatedPairs.append(selectedPair)\n",
      "\n",
      "        if self.validatedJumps[selectedPair[0], selectedPair[1]] != -1 and self.validatedJumps[selectedPair[0], selectedPair[1]] != isValid :\n",
      "            if self.validatedJumps[selectedPair[0], selectedPair[1]] == 0 :\n",
      "                validation = \"invalid\"\n",
      "            else :\n",
      "                validation = \"valid\"\n",
      "                \n",
      "            doOverride = QtGui.QMessageBox.question(self, \"Override?\", \n",
      "                                                     \"The current jump has already been labelled as \" + validation + \".\\nOverride?\", \n",
      "                                                     buttons=QtGui.QMessageBox.Yes | QtGui.QMessageBox.No) == QtGui.QMessageBox.Yes\n",
      "            \n",
      "            if doOverride :\n",
      "                self.validatedJumps[selectedPair[0], selectedPair[1]] = isValid\n",
      "        else :\n",
      "            self.validatedJumps[selectedPair[0], selectedPair[1]] = isValid\n",
      "            \n",
      "        self.labelledFramesListTable.clearSelection()\n",
      "        self.labelledFramesListTable.setCurrentCell(-1, -1)\n",
      "        self.setLabelledFramesListTable()\n",
      "        \n",
      "        self.getNewPair()\n",
      "    \n",
      "    def closeEvent(self, event) :\n",
      "        print \"closing\"\n",
      "        sys.stdout.flush()\n",
      "        np.save(dataPath+dataSet+\"validatedJumps.npy\", self.validatedJumps)\n",
      "        \n",
      "    def createGUI(self) :\n",
      "        \n",
      "        ## WIDGETS ##\n",
      "        \n",
      "        self.movieLabel = ImageLabel(\"Movie\")\n",
      "        self.movieLabel.setSizePolicy(QtGui.QSizePolicy.MinimumExpanding, QtGui.QSizePolicy.MinimumExpanding)\n",
      "        self.movieLabel.setAlignment(QtCore.Qt.AlignCenter | QtCore.Qt.AlignHCenter)\n",
      "        \n",
      "        self.movieInfo = QtGui.QLabel(\"Info text\")\n",
      "        self.movieInfo.setAlignment(QtCore.Qt.AlignCenter | QtCore.Qt.AlignHCenter)\n",
      "        \n",
      "        self.labelledFramesListTable = QtGui.QTableWidget(0, 3)\n",
      "        self.labelledFramesListTable.horizontalHeader().setStretchLastSection(True)\n",
      "        self.labelledFramesListTable.setHorizontalHeaderItem(0, QtGui.QTableWidgetItem(\"Index f1\"))\n",
      "        self.labelledFramesListTable.setHorizontalHeaderItem(1, QtGui.QTableWidgetItem(\"Index f2\"))\n",
      "        self.labelledFramesListTable.setHorizontalHeaderItem(2, QtGui.QTableWidgetItem(\"isValid\"))\n",
      "        self.labelledFramesListTable.horizontalHeader().setResizeMode(QtGui.QHeaderView.ResizeToContents)\n",
      "#         self.labelledFramesListTable.setItem(0, 0, QtGui.QTableWidgetItem(\"No Labelled Frames\"))\n",
      "        self.labelledFramesListTable.setSizePolicy(QtGui.QSizePolicy.Minimum, QtGui.QSizePolicy.Minimum)\n",
      "        self.labelledFramesListTable.setEditTriggers(QtGui.QAbstractItemView.NoEditTriggers)\n",
      "        self.labelledFramesListTable.setSelectionBehavior(QtGui.QAbstractItemView.SelectRows)\n",
      "        self.labelledFramesListTable.setSelectionMode(QtGui.QAbstractItemView.SingleSelection)\n",
      "        self.labelledFramesListTable.setFocusPolicy(QtCore.Qt.NoFocus)\n",
      "        self.labelledFramesListTable.setEnabled(False)\n",
      "        \n",
      "        self.renderFpsSpinBox = QtGui.QSpinBox()\n",
      "        self.renderFpsSpinBox.setRange(1, 60)\n",
      "        self.renderFpsSpinBox.setSingleStep(1)\n",
      "        self.renderFpsSpinBox.setValue(30)\n",
      "        \n",
      "        \n",
      "        ## SIGNALS ##\n",
      "        \n",
      "        self.labelledFramesListTable.cellPressed.connect(self.existingPairSelected)\n",
      "        self.renderFpsSpinBox.valueChanged[int].connect(self.setRenderFps)\n",
      "        self.renderFpsSpinBox.editingFinished.connect(self.finishedSettingFps)\n",
      "        \n",
      "        ## LAYOUTS ##\n",
      "        \n",
      "        mainLayout = QtGui.QHBoxLayout()\n",
      "        controlsLayout = QtGui.QVBoxLayout()\n",
      "        controlsLayout.addWidget(self.labelledFramesListTable)\n",
      "        controlsLayout.addWidget(self.renderFpsSpinBox)\n",
      "        movieLayout = QtGui.QVBoxLayout()\n",
      "        movieLayout.addWidget(self.movieLabel)\n",
      "        movieLayout.addWidget(self.movieInfo)\n",
      "        mainLayout.addLayout(controlsLayout)\n",
      "        mainLayout.addLayout(movieLayout)\n",
      "        self.setLayout(mainLayout)"
     ],
     "language": "python",
     "metadata": {},
     "outputs": [],
     "prompt_number": 4
    },
    {
     "cell_type": "code",
     "collapsed": false,
     "input": [
      "window = Window()\n",
      "window.show()\n",
      "\n",
      "app.exec_()"
     ],
     "language": "python",
     "metadata": {},
     "outputs": [
      {
       "output_type": "stream",
       "stream": "stdout",
       "text": [
        "closing\n"
       ]
      },
      {
       "metadata": {},
       "output_type": "pyout",
       "prompt_number": 5,
       "text": [
        "0"
       ]
      }
     ],
     "prompt_number": 5
    },
    {
     "cell_type": "code",
     "collapsed": false,
     "input": [
      "print window.movie\n",
      "print window.frame1Idx\n",
      "print window.frame2Idx\n",
      "print np.min((window.frame1Idx, numFrames-window.frame2Idx, window.additionalFrames))"
     ],
     "language": "python",
     "metadata": {},
     "outputs": [
      {
       "output_type": "stream",
       "stream": "stdout",
       "text": [
        "[912 913 914 915 916 917 918 919 920 921 922 923 924 925 926 927 952 953\n",
        " 954 955 956 957 958 959 960 961 962 963 964 965 966 967]\n",
        "927\n",
        "951\n",
        "15\n"
       ]
      }
     ],
     "prompt_number": 43
    },
    {
     "cell_type": "code",
     "collapsed": false,
     "input": [
      "gwv.showCustomGraph(window.validatedJumps)"
     ],
     "language": "python",
     "metadata": {},
     "outputs": [],
     "prompt_number": 54
    },
    {
     "cell_type": "code",
     "collapsed": false,
     "input": [
      "print window.validatedPairs\n",
      "print window.movie"
     ],
     "language": "python",
     "metadata": {},
     "outputs": [
      {
       "output_type": "stream",
       "stream": "stdout",
       "text": [
        "[array([652,  32]), array([651,  32])]\n",
        "[636 637 638 639 640 641 642 643 644 645 646 647 648 649 650 651  19  20\n",
        "  21  22  23  24  25  26  27  28  29  30  31  32  33  34]\n"
       ]
      }
     ],
     "prompt_number": 161
    },
    {
     "cell_type": "code",
     "collapsed": false,
     "input": [
      "np.save(dataPath+dataSet+\"validatedJumps.npy\", window.validatedJumps)"
     ],
     "language": "python",
     "metadata": {},
     "outputs": [],
     "prompt_number": 41
    },
    {
     "cell_type": "code",
     "collapsed": false,
     "input": [
      "print best10Jumps"
     ],
     "language": "python",
     "metadata": {},
     "outputs": [
      {
       "output_type": "stream",
       "stream": "stdout",
       "text": [
        "[array([[ 478,  104, 7130],\n",
        "       [ 478,  105, 7003],\n",
        "       [ 477,  105, 6546],\n",
        "       [ 478,   93, 6462],\n",
        "       [ 484,   93, 6424],\n",
        "       [ 483,   93, 6408],\n",
        "       [ 477,   93, 6329],\n",
        "       [ 477,  104, 6269],\n",
        "       [ 483,  105, 6117],\n",
        "       [ 479,   93, 6079]]), array([[478, 105, 366],\n",
        "       [478, 104, 361],\n",
        "       [477, 105, 335],\n",
        "       [478,  93, 333],\n",
        "       [484,  93, 329],\n",
        "       [483,  93, 328],\n",
        "       [484,  94, 328],\n",
        "       [477,  93, 324],\n",
        "       [479,  93, 315],\n",
        "       [477, 104, 314]])]\n"
       ]
      }
     ],
     "prompt_number": 38
    }
   ],
   "metadata": {}
  }
 ]
}