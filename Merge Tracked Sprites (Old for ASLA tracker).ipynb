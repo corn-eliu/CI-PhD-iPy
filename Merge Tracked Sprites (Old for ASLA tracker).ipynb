{
 "metadata": {
  "name": ""
 },
 "nbformat": 3,
 "nbformat_minor": 0,
 "worksheets": [
  {
   "cells": [
    {
     "cell_type": "code",
     "collapsed": false,
     "input": [
      "%pylab\n",
      "import opengm\n",
      "import numpy as np\n",
      "import cv2\n",
      "import time\n",
      "# import graph_tool as gt\n",
      "from PIL import Image\n",
      "import scipy.io as sio\n",
      "import GraphWithValues as gwv\n",
      "import sys\n",
      "import glob"
     ],
     "language": "python",
     "metadata": {},
     "outputs": [
      {
       "output_type": "stream",
       "stream": "stdout",
       "text": [
        "Using matplotlib backend: TkAgg\n",
        "Populating the interactive namespace from numpy and matplotlib\n"
       ]
      }
     ],
     "prompt_number": 1
    },
    {
     "cell_type": "code",
     "collapsed": false,
     "input": [
      "S_IDX = 0\n",
      "T_IDX = 1\n",
      "ST_COST = 2\n",
      "S_LABEL = 3\n",
      "T_LABEL = 4\n",
      "S_A_COLOR = np.arange(5, 8, dtype=int)\n",
      "S_B_COLOR = np.arange(8, 11, dtype=int)\n",
      "T_A_COLOR = np.arange(11, 14, dtype=int)\n",
      "T_B_COLOR = np.arange(14, 17, dtype=int)\n",
      "print S_IDX, T_IDX, ST_COST, S_LABEL, T_LABEL, S_A_COLOR, S_B_COLOR, T_A_COLOR, T_B_COLOR\n",
      "\n",
      "DICT_SPRITE_NAME = 'sprite_name'\n",
      "DICT_BBOX_AFFINES = 'bbox_affines'\n",
      "DICT_NUM_FRAMES = 'num_frames'\n",
      "DICT_FRAMES_LOCATIONS = 'frame_locs'\n",
      "\n",
      "## used for enlarging bbox used to decide size of patch around it (percentage)\n",
      "PATCH_BORDER = 0.4"
     ],
     "language": "python",
     "metadata": {},
     "outputs": [
      {
       "output_type": "stream",
       "stream": "stdout",
       "text": [
        "0 1 2 3 4 [5 6 7] [ 8  9 10] [11 12 13] [14 15 16]\n"
       ]
      }
     ],
     "prompt_number": 2
    },
    {
     "cell_type": "code",
     "collapsed": false,
     "input": [
      "def multivariateNormal(data, mean, var, normalized = True) :\n",
      "    if (data.shape[0] != mean.shape[0] or np.any(data.shape[0] != np.array(var.shape)) \n",
      "        or len(var.shape) != 2 or var.shape[0] != var.shape[1]) :\n",
      "        raise Exception(\"Data shapes don't agree data(\" + np.string_(data.shape) + \") mean(\" + np.string_(mean.shape) + \n",
      "                        \") var(\" + np.string_(var.shape) + \")\")\n",
      "        \n",
      "    D = float(data.shape[0])\n",
      "    n = (1/(np.power(2.0*np.pi, D/2.0)*np.sqrt(np.linalg.det(var))))\n",
      "    if normalized :\n",
      "        p = n*np.exp(-0.5*np.sum(np.dot((data-mean).T, np.linalg.inv(var))*(data-mean).T, axis=-1))\n",
      "    else :\n",
      "        p = np.exp(-0.5*np.sum(np.dot((data-mean).T, np.linalg.inv(var))*(data-mean).T, axis=-1))\n",
      "        \n",
      "    return p\n",
      "\n",
      "def minusLogMultivariateNormal(data, mean, var, normalized = True) :\n",
      "    if (data.shape[0] != mean.shape[0] or np.any(data.shape[0] != np.array(var.shape)) \n",
      "        or len(var.shape) != 2 or var.shape[0] != var.shape[1]) :\n",
      "        raise Exception(\"Data shapes don't agree data(\" + np.string_(data.shape) + \") mean(\" + np.string_(mean.shape) + \n",
      "                        \") var(\" + np.string_(var.shape) + \")\")\n",
      "    \n",
      "    D = float(data.shape[0])\n",
      "    n = -0.5*np.log(np.linalg.det(var))-(D/2.0)*np.log(2.0*np.pi)\n",
      "    if normalized :\n",
      "        p = n -0.5*np.sum(np.dot((data-mean).T, np.linalg.inv(var))*(data-mean).T, axis=-1)\n",
      "    else :\n",
      "        p = -0.5*np.sum(np.dot((data-mean).T, np.linalg.inv(var))*(data-mean).T, axis=-1)\n",
      "        \n",
      "    return -p"
     ],
     "language": "python",
     "metadata": {},
     "outputs": [],
     "prompt_number": 3
    },
    {
     "cell_type": "code",
     "collapsed": false,
     "input": [
      "def getGraphcutOnOverlap(patchA, patchB, patchAPixels, patchBPixels, multiplier, unaryPriorPatchA, unaryPriorPatchB) :\n",
      "    \"\"\"Computes pixel labels using graphcut given two same size patches\n",
      "    \n",
      "        \\t  patchA           : patch A\n",
      "        \\t  patchB           : patch B\n",
      "        \\t  patchAPixels     : pixels that are definitely to be taken from patch A\n",
      "        \\t  patchBPixels     : pixels that are definitely to be taken from patch B\n",
      "        \\t  multiplier       : sigma multiplier for rgb space normal\n",
      "        \\t  unaryPriorPatchA : prior cost ditribution for patchA labels\n",
      "        \\t  unaryPriorPatchB : prior cost ditribution for patchB labels\n",
      "           \n",
      "        return: reshapedLabels = labels for each pixel\"\"\"\n",
      "    \n",
      "    if np.all(patchA.shape != patchB.shape) :\n",
      "        raise Exception(\"The two specified patches have different shape so graph cannot be built\")\n",
      "        \n",
      "    if patchA.dtype != np.float64 or patchB.dtype != np.float64 :\n",
      "        raise Exception(\"The two specified patches are not of type float64! Check there is no overflow when computing costs\")\n",
      "    \n",
      "    h, width = patchA.shape[0:2]\n",
      "    maxCost = 10000000.0#np.sys.float_info.max\n",
      "    \n",
      "    ## build graph\n",
      "    numLabels = 2\n",
      "    numNodes = h*width+numLabels\n",
      "    gm = opengm.gm(numpy.ones(numNodes,dtype=opengm.label_type)*numLabels)\n",
      "    \n",
      "    ## Last 2 nodes are patch A and B respectively\n",
      "    idxPatchANode = numNodes - 2\n",
      "    idxPatchBNode = numNodes - 1\n",
      "    \n",
      "        \n",
      "    ## get unary functions\n",
      "    unaries = np.zeros((numNodes,numLabels))\n",
      "    \n",
      "    ## fix label for nodes representing patch A and B to have label 0 and 1 respectively\n",
      "    unaries[idxPatchANode, :] = [0.0, maxCost]\n",
      "    unaries[idxPatchBNode, :] = [maxCost, 0.0]\n",
      "    \n",
      "    ## set unaries based on the priors given for both patches\n",
      "    unaries[0:h*width, 0] = unaryPriorPatchA\n",
      "    unaries[0:h*width, 1] = unaryPriorPatchB\n",
      "    \n",
      "    # add functions\n",
      "    fids = gm.addFunctions(unaries)\n",
      "    # add first order factors\n",
      "    gm.addFactors(fids, arange(0, numNodes, 1))\n",
      "    \n",
      "    \n",
      "    ## get factor indices for the overlap grid of pixels\n",
      "    pairIndices = np.array(opengm.secondOrderGridVis(width,h,True))\n",
      "    ## get pairwise functions for those nodes\n",
      "    pairwise = np.zeros(len(pairIndices))\n",
      "    for pair, i in zip(pairIndices, arange(len(pairIndices))) :\n",
      "        sPix = np.array([int(np.mod(pair[0],h)), int(pair[0]/h)])\n",
      "        tPix = np.array([int(np.mod(pair[1],h)), int(pair[1]/h)])\n",
      "        \n",
      "#         pairwise[i] = norm(patchA[sPix[0], sPix[1], :] - patchB[sPix[0], sPix[1], :])\n",
      "#         pairwise[i] += norm(patchA[tPix[0], tPix[1], :] - patchB[tPix[0], tPix[1], :])\n",
      "\n",
      "        pairwise[i] = minusLogMultivariateNormal(patchA[sPix[0], sPix[1], :].reshape((3, 1)), patchB[sPix[0], sPix[1], :].reshape((3, 1)), np.eye(3)*multiplier, False)\n",
      "        pairwise[i] += minusLogMultivariateNormal(patchA[tPix[0], tPix[1], :].reshape((3, 1)), patchB[tPix[0], tPix[1], :].reshape((3, 1)), np.eye(3)*multiplier, False)\n",
      "        \n",
      "        fid = gm.addFunction(np.array([[0.0, pairwise[i]],[pairwise[i], 0.0]]))\n",
      "        gm.addFactor(fid, pair)\n",
      "            \n",
      "    \n",
      "    # add function used for connecting the patch variables\n",
      "    fid = gm.addFunction(np.array([[0.0, maxCost],[maxCost, 0.0]]))\n",
      "    \n",
      "    # connect patch A to definite patch A pixels\n",
      "    if len(patchAPixels) > 0 :\n",
      "        patchAFactors = np.hstack((patchAPixels.reshape((len(patchAPixels), 1)), np.ones((len(patchAPixels), 1), dtype=uint)*idxPatchANode))\n",
      "        gm.addFactors(fid, patchAFactors)\n",
      "    \n",
      "    # connect patch B to definite patch B pixels\n",
      "    if len(patchBPixels) > 0 :\n",
      "        patchBFactors = np.hstack((patchBPixels.reshape((len(patchBPixels), 1)), np.ones((len(patchBPixels), 1), dtype=uint)*idxPatchBNode))\n",
      "        gm.addFactors(fid, patchBFactors)\n",
      "    \n",
      "    \n",
      "    graphCut = opengm.inference.GraphCut(gm=gm)\n",
      "    graphCut.infer()\n",
      "    \n",
      "    labels = np.array(graphCut.arg(), dtype=int)\n",
      "    \n",
      "    reshapedLabels = np.reshape(np.copy(labels[0:-numLabels]), patchA.shape[0:2], 'F')\n",
      "    print gm\n",
      "    \n",
      "    return reshapedLabels, unaries, pairwise, gm"
     ],
     "language": "python",
     "metadata": {},
     "outputs": [],
     "prompt_number": 4
    },
    {
     "cell_type": "code",
     "collapsed": false,
     "input": [
      "def get3WayLabelling(patchA, patchB, patchC, patchAPixels, patchBPixels, patchCPixels, multiplier, unaryPriorPatchA, unaryPriorPatchB, unaryPriorPatchC) :\n",
      "    \"\"\"Computes pixel labels using graphcut given two same size patches\n",
      "    \n",
      "        \\t  patchA           : patch A\n",
      "        \\t  patchB           : patch B\n",
      "        \\t  patchAPixels     : pixels that are definitely to be taken from patch A\n",
      "        \\t  patchBPixels     : pixels that are definitely to be taken from patch B\n",
      "        \\t  multiplier       : sigma multiplier for rgb space normal\n",
      "        \\t  unaryPriorPatchA : prior cost ditribution for patchA labels\n",
      "        \\t  unaryPriorPatchB : prior cost ditribution for patchB labels\n",
      "           \n",
      "        return: reshapedLabels = labels for each pixel\"\"\"\n",
      "    \n",
      "    if np.all(patchA.shape != patchB.shape) :\n",
      "        raise Exception(\"The two specified patches have different shape so graph cannot be built\")\n",
      "        \n",
      "    if patchA.dtype != np.float64 or patchB.dtype != np.float64 :\n",
      "        raise Exception(\"The two specified patches are not of type float64! Check there is no overflow when computing costs\")\n",
      "    \n",
      "    h, width = patchA.shape[0:2]\n",
      "    maxCost = 10000000.0#np.sys.float_info.max\n",
      "    \n",
      "    ## build graph\n",
      "    numLabels = 3\n",
      "    numNodes = h*width+numLabels\n",
      "    gm = opengm.gm(numpy.ones(numNodes,dtype=opengm.label_type)*numLabels)\n",
      "    \n",
      "    ## Last 3 nodes are patch A, B and C respectively\n",
      "    idxPatchANode = numNodes - 3\n",
      "    idxPatchBNode = numNodes - 2\n",
      "    idxPatchCNode = numNodes - 1\n",
      "    \n",
      "        \n",
      "    ## get unary functions\n",
      "    unaries = np.zeros((numNodes,numLabels))\n",
      "    \n",
      "    print h, width, unaries.shape\n",
      "    \n",
      "    ## fix label for nodes representing patch A and B to have label 0 and 1 respectively\n",
      "    unaries[idxPatchANode, :] = [0.0, maxCost, maxCost]\n",
      "    unaries[idxPatchBNode, :] = [maxCost, 0.0, maxCost]\n",
      "    unaries[idxPatchCNode, :] = [maxCost, maxCost, 0.0]\n",
      "    \n",
      "    ## set unaries based on the priors given for both patches\n",
      "    unaries[0:h*width, 0] = unaryPriorPatchA\n",
      "    unaries[0:h*width, 1] = unaryPriorPatchB\n",
      "    unaries[0:h*width, 2] = unaryPriorPatchC\n",
      "    \n",
      "    # add functions\n",
      "    fids = gm.addFunctions(unaries)\n",
      "    # add first order factors\n",
      "    gm.addFactors(fids, arange(0, numNodes, 1))\n",
      "    \n",
      "    \n",
      "    ## get factor indices for the overlap grid of pixels\n",
      "    pairIndices = np.array(opengm.secondOrderGridVis(width,h,True))\n",
      "    ## get pairwise functions for those nodes\n",
      "    pairwiseAB = np.zeros((len(pairIndices), 1))\n",
      "    pairwiseAC = np.zeros((len(pairIndices), 1))\n",
      "    pairwiseBC = np.zeros((len(pairIndices), 1))\n",
      "    for pair, i in zip(pairIndices, arange(len(pairIndices))) :\n",
      "        sPix = np.array([int(np.mod(pair[0],h)), int(pair[0]/h)])\n",
      "        tPix = np.array([int(np.mod(pair[1],h)), int(pair[1]/h)])\n",
      "        \n",
      "#         pairwise[i] = norm(patchA[sPix[0], sPix[1], :] - patchB[sPix[0], sPix[1], :])\n",
      "#         pairwise[i] += norm(patchA[tPix[0], tPix[1], :] - patchB[tPix[0], tPix[1], :])\n",
      "\n",
      "        pairwiseAB[i] = minusLogMultivariateNormal(patchA[sPix[0], sPix[1], :].reshape((3, 1)), patchB[sPix[0], sPix[1], :].reshape((3, 1)), np.eye(3)*multiplier, False)\n",
      "        pairwiseAB[i] += minusLogMultivariateNormal(patchA[tPix[0], tPix[1], :].reshape((3, 1)), patchB[tPix[0], tPix[1], :].reshape((3, 1)), np.eye(3)*multiplier, False)\n",
      "        \n",
      "        pairwiseAC[i] = minusLogMultivariateNormal(patchA[sPix[0], sPix[1], :].reshape((3, 1)), patchC[sPix[0], sPix[1], :].reshape((3, 1)), np.eye(3)*multiplier, False)\n",
      "        pairwiseAC[i] += minusLogMultivariateNormal(patchA[tPix[0], tPix[1], :].reshape((3, 1)), patchC[tPix[0], tPix[1], :].reshape((3, 1)), np.eye(3)*multiplier, False)\n",
      "        \n",
      "#         pairwiseBC[i] = minusLogMultivariateNormal(patchB[sPix[0], sPix[1], :].reshape((3, 1)), patchC[sPix[0], sPix[1], :].reshape((3, 1)), np.eye(3)*multiplier, False)\n",
      "#         pairwiseBC[i] += minusLogMultivariateNormal(patchB[tPix[0], tPix[1], :].reshape((3, 1)), patchC[tPix[0], tPix[1], :].reshape((3, 1)), np.eye(3)*multiplier, False)\n",
      "        ## sPix is above tPix\n",
      "        if sPix[0] < tPix[0] :\n",
      "            pairwiseBC[i] = gradientCostsY[sPix[0], sPix[1]] + gradientCostsY[tPix[0], tPix[1]]\n",
      "        ## sPix is to the left of tPix\n",
      "        elif sPix[1] < tPix[1] :\n",
      "            pairwiseBC[i] = gradientCostsY[sPix[0], sPix[1]] + gradientCostsY[tPix[0], tPix[1]]\n",
      "        else :\n",
      "            print \"oh oh\", sPix, tPix\n",
      "            \n",
      "#         pairwiseBC[i] = maxCost\n",
      "        \n",
      "        pairwiseCB = np.copy(pairwiseBC[i])\n",
      "#         if sPix[0] < tPix[0] :\n",
      "#             pairwiseCB = pairwiseCB*10.0\n",
      "        \n",
      "        fid = gm.addFunction(np.array([[0.0, pairwiseAB[i], pairwiseAC[i]],[pairwiseAB[i], 0.0, pairwiseBC[i]],[pairwiseAC[i], pairwiseBC[i], 0.0]]))\n",
      "        gm.addFactor(fid, pair)\n",
      "            \n",
      "    \n",
      "    # add function used for connecting the patch variables\n",
      "    fid = gm.addFunction(np.array([[0.0, maxCost, maxCost],[maxCost, 0.0, maxCost],[maxCost, maxCost, 0.0]]))\n",
      "    \n",
      "    # connect patch A to definite patch A pixels\n",
      "    if len(patchAPixels) > 0 :\n",
      "        patchAFactors = np.hstack((patchAPixels.reshape((len(patchAPixels), 1)), np.ones((len(patchAPixels), 1), dtype=uint)*idxPatchANode))\n",
      "        gm.addFactors(fid, patchAFactors)\n",
      "    \n",
      "    # connect patch B to definite patch B pixels\n",
      "    if len(patchBPixels) > 0 :\n",
      "        patchBFactors = np.hstack((patchBPixels.reshape((len(patchBPixels), 1)), np.ones((len(patchBPixels), 1), dtype=uint)*idxPatchBNode))\n",
      "        gm.addFactors(fid, patchBFactors)\n",
      "        \n",
      "    # connect patch B to definite patch B pixels\n",
      "    if len(patchCPixels) > 0 :\n",
      "        patchCFactors = np.hstack((patchCPixels.reshape((len(patchCPixels), 1)), np.ones((len(patchCPixels), 1), dtype=uint)*idxPatchCNode))\n",
      "        gm.addFactors(fid, patchCFactors)\n",
      "    \n",
      "    \n",
      "#     graphCut = opengm.inference.GraphCut(gm=gm)\n",
      "    trws = opengm.inference.TrwsExternal(gm=gm)\n",
      "    trws.infer()\n",
      "    \n",
      "    labels = np.array(trws.arg(), dtype=int)\n",
      "    print labels.shape\n",
      "    \n",
      "    reshapedLabels = np.reshape(np.copy(labels[0:-numLabels]), patchA.shape[0:2], 'F')\n",
      "    print gm\n",
      "    \n",
      "    return reshapedLabels, unaries, np.hstack((pairwiseAB, pairwiseAC, pairwiseBC)), gm"
     ],
     "language": "python",
     "metadata": {},
     "outputs": [],
     "prompt_number": 5
    },
    {
     "cell_type": "code",
     "collapsed": false,
     "input": [
      "## load the tracked sprites\n",
      "trackedSprites = [{\n",
      "                   DICT_SPRITE_NAME:'havana_red_car_plusrot', \n",
      "                   DICT_BBOX_AFFINES:sio.loadmat(\"../ASLA tracker/result/havana_red_car_plusrot/Result/result.mat\")['result'], \n",
      "                   DICT_NUM_FRAMES:0, \n",
      "                   DICT_FRAMES_LOCATIONS:[]\n",
      "                   }, \n",
      "                  {\n",
      "                   DICT_SPRITE_NAME:'havana_bus', \n",
      "                   DICT_BBOX_AFFINES:sio.loadmat(\"../ASLA tracker/result/havana_bus/Result/result.mat\")['result'], \n",
      "                   DICT_NUM_FRAMES:0, \n",
      "                   DICT_FRAMES_LOCATIONS:[]\n",
      "                   }\n",
      "                  ]\n",
      "\n",
      "numOfSprites = len(trackedSprites)\n",
      "## setting number of frames from the number of tracked bboxes\n",
      "for i in arange(numOfSprites) :\n",
      "    trackedSprites[i][DICT_NUM_FRAMES] = len(trackedSprites[i][DICT_BBOX_AFFINES])\n",
      "## setting frame locations for the tracked sprites\n",
      "for i in arange(numOfSprites) :\n",
      "    trackedSprites[i][DICT_FRAMES_LOCATIONS] = np.sort(glob.glob(\"../ASLA tracker/Datasets/\" + trackedSprites[i][DICT_SPRITE_NAME] + \"/*.png\"))\n",
      "\n",
      "## default corners of bbox to be transformed by the affine matrix transformation using function below\n",
      "## [x, y] coords for each corner\n",
      "bboxDefaultCorners = np.array([ [1,-16,-16], [1,16,-16], [1,16,16], [1,-16,16], [1,-16,-16] ]).T\n",
      "def getAffMat(p) :\n",
      "    return np.array([[p[0], p[2], p[3]], [p[1], p[4], p[5]]]);"
     ],
     "language": "python",
     "metadata": {},
     "outputs": [],
     "prompt_number": 6
    },
    {
     "cell_type": "code",
     "collapsed": false,
     "input": [
      "## load background image\n",
      "bgImage = np.array(Image.open(\"../data/havana/median.png\"))\n",
      "\n",
      "## frame index of sprites to merge together\n",
      "currentFramePerSprite = [263, 160]\n",
      "\n",
      "## get the bboxes for each sprite at current frame and find the offset and size of the subpatch of the total image to work with\n",
      "## boundaries of the patch [min, max]\n",
      "xBounds = np.array([bgImage.shape[1], 0.0])\n",
      "yBounds = np.array([bgImage.shape[0], 0.0])\n",
      "figure(); imshow(bgImage)\n",
      "for i in arange(numOfSprites) :\n",
      "    ## plot bbox\n",
      "    spriteBBox = np.dot(getAffMat(trackedSprites[i][DICT_BBOX_AFFINES][currentFramePerSprite[i], :]), bboxDefaultCorners)\n",
      "    plot(spriteBBox[0, :], spriteBBox[1, :])\n",
      "    \n",
      "    ## make bbox bigger\n",
      "    largeBBox = np.dot(np.array([[0.0, 0.0, 1.0+PATCH_BORDER], [0.0, 1.0+PATCH_BORDER, 0.0]]), bboxDefaultCorners)\n",
      "    ## transform according to affine transformation\n",
      "    largeBBox = np.dot(getAffMat(trackedSprites[i][DICT_BBOX_AFFINES][currentFramePerSprite[i], :]), \n",
      "                        np.vstack((np.ones((1, largeBBox.shape[1])), largeBBox)))\n",
      "    \n",
      "    xBounds[0] = np.min((xBounds[0], np.min(largeBBox[0, :])))\n",
      "    xBounds[1] = np.max((xBounds[1], np.max(largeBBox[0, :])))\n",
      "    yBounds[0] = np.min((yBounds[0], np.min(largeBBox[1, :])))\n",
      "    yBounds[1] = np.max((yBounds[1], np.max(largeBBox[1, :])))\n",
      "    \n",
      "offset = np.array([np.round(np.array([xBounds[0], yBounds[0]]))], dtype=int).T # [x, y]\n",
      "patchSize = np.array(np.round(np.array([yBounds[1]-yBounds[0], xBounds[1]-xBounds[0]])), dtype=int) # [rows, cols]\n",
      "print offset, patchSize\n",
      "\n",
      "plot([offset[0], offset[0]+patchSize[1], offset[0]+patchSize[1], offset[0], offset[0]], \n",
      "     [offset[1], offset[1], offset[1]+patchSize[0], offset[1]+patchSize[0], offset[1]])"
     ],
     "language": "python",
     "metadata": {},
     "outputs": [
      {
       "output_type": "stream",
       "stream": "stdout",
       "text": [
        "[[753]\n",
        " [253]] [223 171]\n"
       ]
      },
      {
       "metadata": {},
       "output_type": "pyout",
       "prompt_number": 7,
       "text": [
        "[<matplotlib.lines.Line2D at 0x7f83bfd84710>]"
       ]
      }
     ],
     "prompt_number": 7
    },
    {
     "cell_type": "code",
     "collapsed": false,
     "input": [
      "## get image patches based on offset and patchSize\n",
      "bgPatch = np.copy(bgImage[offset[1]:offset[1]+patchSize[0], offset[0]:offset[0]+patchSize[1], :])\n",
      "figure(); imshow(bgPatch)\n",
      "\n",
      "spritePatches = np.zeros((numOfSprites, patchSize[0], patchSize[1], bgImage.shape[-1]), dtype=uint8)\n",
      "for i in arange(numOfSprites) :\n",
      "    spritePatches[i, :, :, :] = np.array(Image.open(trackedSprites[i][DICT_FRAMES_LOCATIONS][currentFramePerSprite[i]]))[offset[1]:offset[1]+patchSize[0], offset[0]:offset[0]+patchSize[1], :]\n",
      "    figure(); imshow(spritePatches[i, :, :, :])"
     ],
     "language": "python",
     "metadata": {},
     "outputs": [],
     "prompt_number": 9
    },
    {
     "cell_type": "code",
     "collapsed": false,
     "input": [
      "figure(); imshow(np.sum(np.power(spritePatches[0]-bgPatch, 2), axis=-1))"
     ],
     "language": "python",
     "metadata": {},
     "outputs": [
      {
       "metadata": {},
       "output_type": "pyout",
       "prompt_number": 9,
       "text": [
        "<matplotlib.image.AxesImage at 0x7f55688655d0>"
       ]
      }
     ],
     "prompt_number": 9
    },
    {
     "cell_type": "code",
     "collapsed": false,
     "input": [
      "## precompute pixel pairs for all edges in the patch\n",
      "gridEdges1D = np.array(opengm.secondOrderGridVis(patchSize[1],patchSize[0],True))\n",
      "gridEdges2D = np.zeros((len(gridEdges1D), 4))\n",
      "\n",
      "gridEdges2D[:, 0] = np.mod(gridEdges1D[:, 0], patchSize[0])\n",
      "gridEdges2D[:, 1] = np.array(gridEdges1D[:, 0]/patchSize[0], dtype=int)\n",
      "gridEdges2D[:, 2] = np.mod(gridEdges1D[:, 1], patchSize[0])\n",
      "gridEdges2D[:, 3] = np.array(gridEdges1D[:, 1]/patchSize[0], dtype=int)"
     ],
     "language": "python",
     "metadata": {},
     "outputs": [],
     "prompt_number": 10
    },
    {
     "cell_type": "code",
     "collapsed": false,
     "input": [
      "## get uniform prior for bg patch\n",
      "bgPrior = -np.log(np.ones(patchSize)/np.prod(patchSize))\n",
      "\n",
      "## get priors for all sprite patches\n",
      "spritePriors = np.zeros((numOfSprites, patchSize[0], patchSize[1]))\n",
      "xs = np.ndarray.flatten(np.arange(patchSize[1], dtype=float).reshape((patchSize[1], 1)).repeat(patchSize[0], axis=-1))\n",
      "ys = np.ndarray.flatten(np.arange(patchSize[0], dtype=float).reshape((1, patchSize[0])).repeat(patchSize[1], axis=0))\n",
      "data = np.vstack((xs.reshape((1, len(xs))), ys.reshape((1, len(ys)))))\n",
      "\n",
      "for i in arange(numOfSprites) :\n",
      "    ## get covariance and means of prior on patch by using the bbox\n",
      "    spriteBBox = np.dot(getAffMat(trackedSprites[i][DICT_BBOX_AFFINES][currentFramePerSprite[i], :]), bboxDefaultCorners)\n",
      "    segment1 = spriteBBox[:, 0] - spriteBBox[:, 1]\n",
      "    segment2 = spriteBBox[:, 1] - spriteBBox[:, 2]\n",
      "    sigmaX = np.linalg.norm(segment1)/2.0\n",
      "    sigmaY = np.linalg.norm(segment2)/2.0\n",
      "\n",
      "    ## find rotation as described here http://math.stackexchange.com/questions/612006/decomposing-an-affine-transformation\n",
      "    A11 = getAffMat(trackedSprites[spriteIdx][DICT_BBOX_AFFINES][f, :])[0, 1]\n",
      "    A21 = getAffMat(trackedSprites[spriteIdx][DICT_BBOX_AFFINES][f, :])[1, 1]\n",
      "    rotRadians = np.pi-np.arctan(A21/A11)\n",
      "\n",
      "    rotMat = np.array([[np.cos(rotRadians), -np.sin(rotRadians)], [np.sin(rotRadians), np.cos(rotRadians)]])\n",
      "    \n",
      "    means = np.reshape(trackedSprites[i][DICT_BBOX_AFFINES][currentFramePerSprite[i], 0:2], (2, 1)) - offset\n",
      "    covs = np.dot(np.dot(rotMat.T, np.array([[sigmaX**2, 0.0], [0.0, sigmaY**2]])), rotMat)\n",
      "    \n",
      "    print sigmaX, sigmaY, rotRadians, means\n",
      "    spritePriors[i, :, :] = np.reshape(minusLogMultivariateNormal(data, means, covs, True), patchSize, order='F')\n",
      "    \n",
      "    \n",
      "    figure(); imshow(spritePriors[i])\n",
      "#     gwv.showCustomGraph(np.reshape(multivariateNormal(data, means, covs, True), patchSize, order='F'))\n",
      "#     gwv.showCustomGraph(np.reshape(minusLogMultivariateNormal(data, means, covs, True), patchSize, order='F'))"
     ],
     "language": "python",
     "metadata": {},
     "outputs": [
      {
       "output_type": "stream",
       "stream": "stdout",
       "text": [
        "57.1985262458 30.9390847809 3.12248405791 [[  90.33426982]\n",
        " [ 178.0451755 ]]\n",
        "37.4794198804"
       ]
      },
      {
       "output_type": "stream",
       "stream": "stdout",
       "text": [
        " 66.3908356928 2.72496276622 [[  86.03059067]\n",
        " [ 106.40438299]]\n"
       ]
      }
     ],
     "prompt_number": 13
    },
    {
     "cell_type": "code",
     "collapsed": false,
     "input": [
      "figure(); imshow(spritePatches[0])\n",
      "sobelY = np.array([[-1, -1, -1], [0, 0, 0], [1, 2, 1]])\n",
      "sobelX = np.array([[-1, 0, 1], [-2, 0, 2], [-1, 0, 1]])\n",
      "gradientsY = cv2.filter2D(cv2.cvtColor(spritePatches[0], cv2.cv.CV_RGB2GRAY)/255.0, -1, sobelY)\n",
      "gradientsX = cv2.filter2D(cv2.cvtColor(spritePatches[0], cv2.cv.CV_RGB2GRAY)/255.0, -1, sobelX)\n",
      "figure(); imshow(gradientsY, interpolation='nearest', cmap=get_cmap(\"Greys\"))\n",
      "figure(); imshow(gradientsX, interpolation='nearest', cmap=get_cmap(\"Greys\"))"
     ],
     "language": "python",
     "metadata": {},
     "outputs": [
      {
       "metadata": {},
       "output_type": "pyout",
       "prompt_number": 14,
       "text": [
        "<matplotlib.image.AxesImage at 0x7fc408c5ea50>"
       ]
      }
     ],
     "prompt_number": 14
    },
    {
     "cell_type": "code",
     "collapsed": false,
     "input": [
      "gradientCostsY = np.exp(np.abs(gradientsY)/(0.3*np.mean(np.abs(gradientsY))))\n",
      "gradientCostsY /= np.sum(gradientCostsY)\n",
      "gradientCostsY = -log(gradientCostsY)/10.0\n",
      "gradientCostsX = np.exp(np.abs(gradientsX)/(0.3*np.mean(np.abs(gradientsX))))\n",
      "gradientCostsX /= np.sum(gradientCostsX)\n",
      "gradientCostsX = -log(gradientCostsX)/10.0\n",
      "#figure(); imshow\n",
      "gwv.showCustomGraph(gradientCostsY)#, interpolation='nearest', cmap=get_cmap(\"Greys\"))\n",
      "#figure(); imshow\n",
      "gwv.showCustomGraph(gradientCostsY)#, interpolation='nearest', cmap=get_cmap(\"Greys\"))"
     ],
     "language": "python",
     "metadata": {},
     "outputs": [],
     "prompt_number": 13
    },
    {
     "cell_type": "code",
     "collapsed": false,
     "input": [
      "print np.max(gradientCostsX), np.max(gradientCostsY), np.min(gradientCostsX), np.min(gradientCostsY)"
     ],
     "language": "python",
     "metadata": {},
     "outputs": [
      {
       "output_type": "stream",
       "stream": "stdout",
       "text": [
        "5.76389593757 1.44994088419 0.000150177605816 0.140647200408\n"
       ]
      }
     ],
     "prompt_number": 218
    },
    {
     "cell_type": "code",
     "collapsed": false,
     "input": [
      "## get depth prior for bg by fitting a plane to the floor\n",
      "userDefinedPoints = np.array([[291, 713], [336, 945], [337, 642], [398, 879]], dtype=float)\n",
      "defaultPlanePoints = np.array([[0, 0], [0, patchSize[1]], [patchSize[0], 0], [patchSize[0], patchSize[1]]], dtype=float)\n",
      "# defaultPlanePoints = np.array([[0, 0], [0, 1], [1, 0], [1, 1]], dtype=float)\n",
      "figure(); imshow(bgImage)\n",
      "scatter(userDefinedPoints[:, 1], userDefinedPoints[:, 0])\n",
      "\n",
      "# hom = cv2.findHomography(defaultPlanePoints, userDefinedPoints)[0]\n",
      "hom = cv2.findHomography(userDefinedPoints, defaultPlanePoints)[0]\n",
      "print hom"
     ],
     "language": "python",
     "metadata": {},
     "outputs": [
      {
       "output_type": "stream",
       "stream": "stdout",
       "text": [
        "[[ -3.54140540e+01   6.86910529e+00   5.40781763e+03]\n",
        " [ -9.18493616e+00  -5.95080371e+00   6.91573947e+03]\n",
        " [ -2.97808067e-02  -6.02943673e-03   1.00000000e+00]]\n"
       ]
      }
     ],
     "prompt_number": 115
    },
    {
     "cell_type": "code",
     "collapsed": false,
     "input": [
      "figure();\n",
      "transformedGrid = np.dot(hom, np.concatenate((userDefinedPoints.T, np.ones((1, userDefinedPoints.T.shape[-1]))), axis=0))\n",
      "transformedGrid /= transformedGrid[-1, :]\n",
      "scatter(transformedGrid[1, :], transformedGrid[0, :])"
     ],
     "language": "python",
     "metadata": {},
     "outputs": [
      {
       "metadata": {},
       "output_type": "pyout",
       "prompt_number": 101,
       "text": [
        "<matplotlib.collections.PathCollection at 0x7ff4f9f579d0>"
       ]
      }
     ],
     "prompt_number": 101
    },
    {
     "cell_type": "code",
     "collapsed": false,
     "input": [
      "print transformedGrid"
     ],
     "language": "python",
     "metadata": {},
     "outputs": [
      {
       "output_type": "stream",
       "stream": "stdout",
       "text": [
        "[[ -0.00000000e+00   4.83225368e-16   1.00000000e+00   1.00000000e+00]\n",
        " [ -0.00000000e+00   1.00000000e+00  -5.50508307e-16   1.00000000e+00]\n",
        " [  1.00000000e+00   1.00000000e+00   1.00000000e+00   1.00000000e+00]]\n"
       ]
      }
     ],
     "prompt_number": 191
    },
    {
     "cell_type": "code",
     "collapsed": false,
     "input": [
      "print np.concatenate((userDefinedPoints.T, np.ones((1, userDefinedPoints.T.shape[-1]))), axis=0)"
     ],
     "language": "python",
     "metadata": {},
     "outputs": [
      {
       "output_type": "stream",
       "stream": "stdout",
       "text": [
        "[[ 291.  336.  337.  398.]\n",
        " [ 713.  945.  642.  879.]\n",
        " [   1.    1.    1.    1.]]\n"
       ]
      }
     ],
     "prompt_number": 96
    },
    {
     "cell_type": "code",
     "collapsed": false,
     "input": [
      "figure(); imshow(bgImage)\n",
      "xs = np.ndarray.flatten(np.arange(patchSize[1], dtype=float).reshape((patchSize[1], 1)).repeat(patchSize[0], axis=-1))\n",
      "ys = np.ndarray.flatten(np.arange(patchSize[0], dtype=float).reshape((1, patchSize[0])).repeat(patchSize[1], axis=0))\n",
      "\n",
      "pointGrid = np.vstack((ys.reshape((1, len(ys))), xs.reshape((1, len(xs)))))\n",
      "transformedGrid = np.dot(hom, np.concatenate((pointGrid, np.ones((1, pointGrid.shape[-1]))), axis=0))\n",
      "transformedGrid /= transformedGrid[-1, :]\n",
      "scatter(transformedGrid[1, 0:-1:100], transformedGrid[0, 0:-1:100])\n",
      "# scatter(data[1, 0:-1:100], data[0, 0:-1:100], marker='.')"
     ],
     "language": "python",
     "metadata": {},
     "outputs": [
      {
       "metadata": {},
       "output_type": "pyout",
       "prompt_number": 85,
       "text": [
        "<matplotlib.collections.PathCollection at 0x7ff4fa33c5d0>"
       ]
      }
     ],
     "prompt_number": 85
    },
    {
     "cell_type": "code",
     "collapsed": false,
     "input": [
      "## get grid of points with origin in the middle of the image\n",
      "gridXs = np.ndarray.flatten(np.arange(-bgImage.shape[1]/2, bgImage.shape[1]/2, dtype=float).reshape((bgImage.shape[1], 1)).repeat(bgImage.shape[0], axis=-1))\n",
      "gridYs = np.ndarray.flatten(np.arange(-bgImage.shape[0]/2, bgImage.shape[0]/2, dtype=float).reshape((1, bgImage.shape[0])).repeat(bgImage.shape[1], axis=0))\n",
      "\n",
      "pointGrid = np.vstack((gridYs.reshape((1, len(gridYs))), gridXs.reshape((1, len(gridXs))), np.ones((1, len(gridXs)))))"
     ],
     "language": "python",
     "metadata": {},
     "outputs": [],
     "prompt_number": 80
    },
    {
     "cell_type": "code",
     "collapsed": false,
     "input": [
      "gridXs = np.ndarray.flatten(np.arange(bgImage.shape[1], dtype=float).reshape((bgImage.shape[1], 1)).repeat(bgImage.shape[0], axis=-1))\n",
      "gridYs = np.ndarray.flatten(np.arange(bgImage.shape[0], dtype=float).reshape((1, bgImage.shape[0])).repeat(bgImage.shape[1], axis=0))\n",
      "\n",
      "pointGrid = np.vstack((gridYs.reshape((1, len(gridYs))), gridXs.reshape((1, len(gridXs))), np.ones((1, len(gridXs)))))"
     ],
     "language": "python",
     "metadata": {},
     "outputs": [],
     "prompt_number": 103
    },
    {
     "cell_type": "code",
     "collapsed": false,
     "input": [
      "tmp = np.dot(hom, pointGrid)\n",
      "tmp /= tmp[-1, :]\n",
      "tmp[:, np.any(tmp > 1000, axis=0)] = 1000\n",
      "tmp[:, np.any(tmp < -1000, axis=0)] = -1000\n",
      "\n",
      "# print tmp.shape\n",
      "gwv.showCustomGraph(tmp[0, :].reshape(bgImage.shape[0:2], order='F'))"
     ],
     "language": "python",
     "metadata": {},
     "outputs": [],
     "prompt_number": 131
    },
    {
     "cell_type": "code",
     "collapsed": false,
     "input": [
      "print np.any(tmp > 1000, axis=0).shape"
     ],
     "language": "python",
     "metadata": {},
     "outputs": [
      {
       "output_type": "stream",
       "stream": "stdout",
       "text": [
        "(921600,)\n"
       ]
      }
     ],
     "prompt_number": 127
    },
    {
     "cell_type": "code",
     "collapsed": false,
     "input": [
      "print np.max(tmp[1, :])"
     ],
     "language": "python",
     "metadata": {},
     "outputs": [
      {
       "output_type": "stream",
       "stream": "stdout",
       "text": [
        "1144055.96434\n"
       ]
      }
     ],
     "prompt_number": 114
    },
    {
     "cell_type": "code",
     "collapsed": false,
     "input": [
      "## merge two overlapping patches\n",
      "\n",
      "h = patchSize[0]\n",
      "w = patchSize[1]\n",
      "\n",
      "## force one ring of pixels on the edge of the patch to come from patch A (i.e. the bg)\n",
      "patAPixs = np.arange(0, h, dtype=uint)\n",
      "patAPixs = np.unique(np.concatenate((patAPixs, np.arange(0, h*(w-1)+1, h, dtype=uint))))\n",
      "patAPixs = np.unique(np.concatenate((patAPixs, np.arange(0, h*(w-1)+1, h, dtype=uint)+h-1)))\n",
      "patAPixs = np.unique(np.concatenate((patAPixs, np.arange(h*(w-1), h*w, dtype=uint))))\n",
      "\n",
      "## force small square of size squarePadding*2 + 1 around center of patch to come from patch B (i.e. the car)\n",
      "squarePadding = 6\n",
      "rows = np.ndarray.flatten(arange((h/2)-squarePadding, (h/2)+squarePadding+1).reshape((squarePadding*2+1, 1)).repeat(squarePadding*2+1, axis=-1))\n",
      "cols = np.ndarray.flatten(arange((w/2)-squarePadding, (w/2)+squarePadding+1).reshape((1, squarePadding*2+1)).repeat(squarePadding*2+1, axis=0))\n",
      "patBPixs = rows + cols*h\n",
      "patBPixs = np.empty(0)\n",
      "\n",
      "patA = np.copy(bgPatch/255.0)\n",
      "patB = np.copy(spritePatches[0]/255.0)\n",
      "\n",
      "labels, unaryCosts, pairCosts, graphModel = getGraphcutOnOverlap(patA, patB, patAPixs, patBPixs, 0.001, \n",
      "                                                   bgPrior.reshape(np.prod(patchSize), order='F'),\n",
      "                                                   spritePriors[0].reshape(np.prod(patchSize), order='F'))\n",
      "\n",
      "figure(); imshow(labels, interpolation='nearest')\n",
      "\n",
      "outputPatch = np.zeros(patA.shape, dtype=uint8)\n",
      "for i in xrange(labels.shape[0]) :\n",
      "    for j in xrange(labels.shape[1]) :\n",
      "        if labels[i, j] == 0 :\n",
      "            outputPatch[i, j, :] = patA[i, j, :]*255\n",
      "        else :\n",
      "            outputPatch[i, j, :] = patB[i, j, :]*255\n",
      "            \n",
      "figure(); imshow(outputPatch, interpolation='nearest')"
     ],
     "language": "python",
     "metadata": {},
     "outputs": [
      {
       "output_type": "stream",
       "stream": "stdout",
       "text": [
        "-number of variables :38135\n",
        "-number of function(type-0)114008\n",
        "-number of function(type-1)0\n",
        "-number of function(type-2)0\n",
        "-number of function(type-3)0\n",
        "-number of function(type-4)0\n",
        "-number of function(type-5)0\n",
        "-number of function(type-6)0\n",
        "-number of function(type-7)0\n",
        "-number of factors :114791\n",
        "-max. factor order :2\n"
       ]
      },
      {
       "metadata": {},
       "output_type": "pyout",
       "prompt_number": 15,
       "text": [
        "<matplotlib.image.AxesImage at 0x7fc408d5ded0>"
       ]
      }
     ],
     "prompt_number": 15
    },
    {
     "cell_type": "code",
     "collapsed": false,
     "input": [
      "## merge three overlapping patches\n",
      "\n",
      "h = patchSize[0]\n",
      "w = patchSize[1]\n",
      "\n",
      "## force one ring of pixels on the edge of the patch to come from patch A (i.e. the bg)\n",
      "patAPixs = np.arange(0, h, dtype=uint)\n",
      "patAPixs = np.unique(np.concatenate((patAPixs, np.arange(0, h*(w-1)+1, h, dtype=uint))))\n",
      "patAPixs = np.unique(np.concatenate((patAPixs, np.arange(0, h*(w-1)+1, h, dtype=uint)+h-1)))\n",
      "patAPixs = np.unique(np.concatenate((patAPixs, np.arange(h*(w-1), h*w, dtype=uint))))\n",
      "\n",
      "## force small square of size squarePadding*2 + 1 around center of patch to come from patch B (i.e. the car)\n",
      "squarePadding = 6\n",
      "rows = np.ndarray.flatten(arange((h/2)-squarePadding, (h/2)+squarePadding+1).reshape((squarePadding*2+1, 1)).repeat(squarePadding*2+1, axis=-1))\n",
      "cols = np.ndarray.flatten(arange((w/2)-squarePadding, (w/2)+squarePadding+1).reshape((1, squarePadding*2+1)).repeat(squarePadding*2+1, axis=0))\n",
      "patBPixs = rows + cols*h\n",
      "patBPixs = np.empty(0)\n",
      "patCPixs = np.empty(0)\n",
      "\n",
      "patA = np.copy(bgPatch/255.0)\n",
      "patB = np.copy(spritePatches[0]/255.0)\n",
      "patC = np.copy(spritePatches[1]/255.0)\n",
      "\n",
      "labels, unaryCosts, pairCosts, graphModel = get3WayLabelling(patA, patB, patC, patAPixs, patBPixs, patCPixs, 0.005, \n",
      "                                                   bgPrior.reshape(np.prod(patchSize), order='F'),\n",
      "                                                   spritePriors[0].reshape(np.prod(patchSize), order='F'),\n",
      "                                                   spritePriors[1].reshape(np.prod(patchSize), order='F'))\n",
      "# labels, unaryCosts, pairCosts = get3WayLabelling(patA, patB, patC, patAPixs, patBPixs, patCPixs, 0.005, \n",
      "#                                                    bgPrior.reshape(np.prod(patchSize), order='F'),\n",
      "#                                                    (spritePriors[0]*(1.0-weightedDiffAB/np.max(weightedDiffAB))).reshape(np.prod(patchSize), order='F'),\n",
      "#                                                    (spritePriors[1]*(1.0-weightedDiffAC/np.max(weightedDiffAC))).reshape(np.prod(patchSize), order='F'))\n",
      "\n",
      "figure(); imshow(labels, interpolation='nearest')\n",
      "\n",
      "outputPatch = np.zeros(patA.shape, dtype=uint8)\n",
      "for i in xrange(labels.shape[0]) :\n",
      "    for j in xrange(labels.shape[1]) :\n",
      "        if labels[i, j] == 0 :\n",
      "            outputPatch[i, j, :] = patA[i, j, :]*255\n",
      "        elif labels[i, j] == 1 :\n",
      "            outputPatch[i, j, :] = patB[i, j, :]*255\n",
      "        else :\n",
      "            outputPatch[i, j, :] = patC[i, j, :]*255\n",
      "            \n",
      "figure(); imshow(outputPatch, interpolation='nearest')"
     ],
     "language": "python",
     "metadata": {},
     "outputs": [
      {
       "output_type": "stream",
       "stream": "stdout",
       "text": [
        "223 171 (38136, 3)\n",
        "(38136,)"
       ]
      },
      {
       "output_type": "stream",
       "stream": "stdout",
       "text": [
        "\n",
        "-number of variables :38136\n",
        "-number of function(type-0)114009\n",
        "-number of function(type-1)0\n",
        "-number of function(type-2)0\n",
        "-number of function(type-3)0\n",
        "-number of function(type-4)0\n",
        "-number of function(type-5)0\n",
        "-number of function(type-6)0\n",
        "-number of function(type-7)0\n",
        "-number of factors :114792\n",
        "-max. factor order :2\n"
       ]
      },
      {
       "metadata": {},
       "output_type": "pyout",
       "prompt_number": 39,
       "text": [
        "<matplotlib.image.AxesImage at 0x7f556793ca10>"
       ]
      }
     ],
     "prompt_number": 39
    },
    {
     "cell_type": "code",
     "collapsed": false,
     "input": [
      "## merge tracked sprite with bg\n",
      "spriteIdx = 0\n",
      "sequenceLength = trackedSprites[spriteIdx][DICT_NUM_FRAMES]\n",
      "showFigs = True\n",
      "\n",
      "if showFigs :\n",
      "    figure(); imshow(bgImage)\n",
      "\n",
      "for f in np.arange(389, 390):#sequenceLength):\n",
      "    ## get the bbox for the current sprite frame, make it larger and find the rectangular patch to work with\n",
      "    ## boundaries of the patch [min, max]\n",
      "    xBounds = np.array([bgImage.shape[1], 0.0])\n",
      "    yBounds = np.array([bgImage.shape[0], 0.0])\n",
      "    \n",
      "    \n",
      "    if showFigs :\n",
      "        ## plot bbox\n",
      "        spriteBBox = np.dot(getAffMat(trackedSprites[spriteIdx][DICT_BBOX_AFFINES][f, :]), bboxDefaultCorners)\n",
      "        plot(spriteBBox[0, :], spriteBBox[1, :])\n",
      "    \n",
      "    ## make bbox bigger\n",
      "    largeBBox = np.dot(np.array([[0.0, 0.0, 1.0+PATCH_BORDER], [0.0, 1.0+PATCH_BORDER, 0.0]]), bboxDefaultCorners)\n",
      "    ## transform according to affine transformation\n",
      "    largeBBox = np.dot(getAffMat(trackedSprites[spriteIdx][DICT_BBOX_AFFINES][f, :]), \n",
      "                        np.vstack((np.ones((1, largeBBox.shape[1])), largeBBox)))\n",
      "    \n",
      "    ## make sure xBounds are in between 0 and width and yBounds are in between 0 and height\n",
      "    xBounds[0] = np.max((0, np.min(largeBBox[0, :])))\n",
      "    xBounds[1] = np.min((bgImage.shape[1], np.max(largeBBox[0, :])))\n",
      "    yBounds[0] = np.max((0, np.min(largeBBox[1, :])))\n",
      "    yBounds[1] = np.min((bgImage.shape[0], np.max(largeBBox[1, :])))\n",
      "    \n",
      "#     print xBounds, yBounds\n",
      "    \n",
      "    offset = np.array([np.round(np.array([xBounds[0], yBounds[0]]))], dtype=int).T # [x, y]\n",
      "    patchSize = np.array(np.round(np.array([yBounds[1]-yBounds[0], xBounds[1]-xBounds[0]])), dtype=int) # [rows, cols]\n",
      "    print offset, patchSize\n",
      "    \n",
      "    if showFigs :\n",
      "        plot([offset[0], offset[0]+patchSize[1], offset[0]+patchSize[1], offset[0], offset[0]], \n",
      "             [offset[1], offset[1], offset[1]+patchSize[0], offset[1]+patchSize[0], offset[1]])\n",
      "\n",
      "    ## get image patches based on offset and patchSize\n",
      "    bgPatch = np.copy(bgImage[offset[1]:offset[1]+patchSize[0], offset[0]:offset[0]+patchSize[1], :])\n",
      "    \n",
      "    if showFigs :\n",
      "        figure(); imshow(bgPatch)\n",
      "    \n",
      "    \n",
      "    spritePatch = np.copy(np.array(Image.open(trackedSprites[spriteIdx][DICT_FRAMES_LOCATIONS][f]))[offset[1]:offset[1]+patchSize[0], offset[0]:offset[0]+patchSize[1], :])\n",
      "    \n",
      "    if showFigs :\n",
      "        figure(); imshow(spritePatch)\n",
      "        \n",
      "    ## precompute pixel pairs for all edges in the patch\n",
      "    gridEdges1D = np.array(opengm.secondOrderGridVis(patchSize[1],patchSize[0],True))\n",
      "    gridEdges2D = np.zeros((len(gridEdges1D), 4))\n",
      "    \n",
      "    gridEdges2D[:, 0] = np.mod(gridEdges1D[:, 0], patchSize[0])\n",
      "    gridEdges2D[:, 1] = np.array(gridEdges1D[:, 0]/patchSize[0], dtype=int)\n",
      "    gridEdges2D[:, 2] = np.mod(gridEdges1D[:, 1], patchSize[0])\n",
      "    gridEdges2D[:, 3] = np.array(gridEdges1D[:, 1]/patchSize[0], dtype=int)\n",
      "\n",
      "\n",
      "    ## get uniform prior for bg patch\n",
      "    bgPrior = -np.log(np.ones(patchSize)/np.prod(patchSize))\n",
      "    \n",
      "    ## get priors for all sprite patches\n",
      "    spritePrior = np.zeros(patchSize)\n",
      "    xs = np.ndarray.flatten(np.arange(patchSize[1], dtype=float).reshape((patchSize[1], 1)).repeat(patchSize[0], axis=-1))\n",
      "    ys = np.ndarray.flatten(np.arange(patchSize[0], dtype=float).reshape((1, patchSize[0])).repeat(patchSize[1], axis=0))\n",
      "    data = np.vstack((xs.reshape((1, len(xs))), ys.reshape((1, len(ys)))))\n",
      "    \n",
      "    ## get covariance and means of prior on patch by using the bbox\n",
      "    spriteBBox = np.dot(getAffMat(trackedSprites[spriteIdx][DICT_BBOX_AFFINES][f, :]), bboxDefaultCorners)\n",
      "    segment1 = spriteBBox[:, 0] - spriteBBox[:, 1]\n",
      "    segment2 = spriteBBox[:, 1] - spriteBBox[:, 2]\n",
      "    sigmaX = np.linalg.norm(segment1)/2.0\n",
      "    sigmaY = np.linalg.norm(segment2)/2.0\n",
      "\n",
      "    ## find rotation as described here http://math.stackexchange.com/questions/612006/decomposing-an-affine-transformation\n",
      "    A11 = getAffMat(trackedSprites[spriteIdx][DICT_BBOX_AFFINES][f, :])[0, 1]\n",
      "    A21 = getAffMat(trackedSprites[spriteIdx][DICT_BBOX_AFFINES][f, :])[1, 1]\n",
      "#     rotRadians = np.pi-np.arctan(A21/A11)\n",
      "    rotRadians = np.arccos(np.dot((segment1)/np.linalg.norm(segment1), np.array([1.0, 0.0])))\n",
      "    b = np.array([1.0, 0.0])\n",
      "    ## arctan2 is computed based on formula: a[0]*b[1]-b[0]*a[1], a[0]*b[0]+a[1]*b[1]) where b = [1, 0] and a = segment1\n",
      "    rotRadians = np.mod(np.arctan2(-segment1[1], segment1[0]),2*np.pi)\n",
      "    print \"rotation\", rotRadians*180.0/np.pi\n",
      "    \n",
      "    rotMat = np.array([[np.cos(rotRadians), -np.sin(rotRadians)], [np.sin(rotRadians), np.cos(rotRadians)]])\n",
      "    \n",
      "    means = np.reshape(trackedSprites[spriteIdx][DICT_BBOX_AFFINES][f, 0:2], (2, 1)) - offset\n",
      "    covs = np.dot(np.dot(rotMat.T, np.array([[sigmaX**2, 0.0], [0.0, sigmaY**2]])), rotMat)\n",
      "    \n",
      "#     print sigmaX, sigmaY, rotRadians, means\n",
      "    spritePrior = np.reshape(minusLogMultivariateNormal(data, means, covs, True), patchSize, order='F')\n",
      "    \n",
      "    \n",
      "    if showFigs :\n",
      "        figure(); imshow(spritePrior)\n",
      "#         gwv.showCustomGraph(np.reshape(multivariateNormal(data, means, covs, True), patchSize, order='F'))\n",
      "#         gwv.showCustomGraph(np.reshape(minusLogMultivariateNormal(data, means, covs, True), patchSize, order='F'))\n",
      "\n",
      "    ## merge two overlapping patches\n",
      "\n",
      "    h = patchSize[0]\n",
      "    w = patchSize[1]\n",
      "    \n",
      "    ## force one ring of pixels on the edge of the patch to come from patch A (i.e. the bg) (unless that column/row is intersected by the bbox)\n",
      "    if np.min((largeBBox)[0, :]) > 0.0 :\n",
      "#         print \"adding left column\"\n",
      "        patAPixs = np.arange(0, h, dtype=uint)\n",
      "    if np.min((largeBBox)[1, :]) > 0.0 :\n",
      "#         print \"adding top row\"\n",
      "        patAPixs = np.unique(np.concatenate((patAPixs, np.arange(0, h*(w-1)+1, h, dtype=uint))))\n",
      "    if np.max((largeBBox)[1, :]) < bgImage.shape[0] :\n",
      "#         print \"adding bottom row\"\n",
      "        patAPixs = np.unique(np.concatenate((patAPixs, np.arange(0, h*(w-1)+1, h, dtype=uint)+h-1)))\n",
      "    if np.max((largeBBox)[0, :]) < bgImage.shape[1] :\n",
      "#         print \"adding right column\"\n",
      "        patAPixs = np.unique(np.concatenate((patAPixs, np.arange(h*(w-1), h*w, dtype=uint))))\n",
      "    \n",
      "    ## force small square of size squarePadding*2 + 1 around center of patch to come from patch B (i.e. the car)\n",
      "    squarePadding = 6\n",
      "    rows = np.ndarray.flatten(arange((h/2)-squarePadding, (h/2)+squarePadding+1).reshape((squarePadding*2+1, 1)).repeat(squarePadding*2+1, axis=-1))\n",
      "    cols = np.ndarray.flatten(arange((w/2)-squarePadding, (w/2)+squarePadding+1).reshape((1, squarePadding*2+1)).repeat(squarePadding*2+1, axis=0))\n",
      "    patBPixs = rows + cols*h\n",
      "#     patBPixs = np.empty(0)\n",
      "    \n",
      "    patA = np.copy(bgPatch/255.0)\n",
      "    patB = np.copy(spritePatch/255.0)\n",
      "    \n",
      "    labels, unaryCosts, pairCosts, graphModel = getGraphcutOnOverlap(patA, patB, patAPixs, patBPixs, 0.001, \n",
      "                                                       bgPrior.reshape(np.prod(patchSize), order='F'),\n",
      "                                                       spritePrior.reshape(np.prod(patchSize), order='F'))\n",
      "    \n",
      "    if showFigs :\n",
      "        figure(); imshow(labels, interpolation='nearest')\n",
      "    \n",
      "    outputPatch = np.zeros(patA.shape, dtype=uint8)\n",
      "    for i in xrange(labels.shape[0]) :\n",
      "        for j in xrange(labels.shape[1]) :\n",
      "            if labels[i, j] == 0 :\n",
      "                outputPatch[i, j, :] = patA[i, j, :]*255\n",
      "            else :\n",
      "                outputPatch[i, j, :] = patB[i, j, :]*255\n",
      "    \n",
      "    if showFigs :\n",
      "        figure(); imshow(outputPatch, interpolation='nearest')\n",
      "        \n",
      "        \n",
      "    currentFrame = np.copy(bgImage)\n",
      "    currentFrame[offset[1]:offset[1]+patchSize[0], offset[0]:offset[0]+patchSize[1], :] = np.copy(outputPatch)\n",
      "    \n",
      "    if showFigs :\n",
      "        figure(); imshow(currentFrame)\n",
      "        figure(); imshow(np.array(Image.open(trackedSprites[spriteIdx][DICT_FRAMES_LOCATIONS][f])))\n",
      "    \n",
      "    saveLoc = trackedSprites[spriteIdx][DICT_FRAMES_LOCATIONS][f][:-len(trackedSprites[spriteIdx][DICT_FRAMES_LOCATIONS][f].split('/')[-1])]\n",
      "    saveLoc += \"mergeWithBG/\"\n",
      "    saveLoc += trackedSprites[spriteIdx][DICT_FRAMES_LOCATIONS][f].split('/')[-1]\n",
      "    \n",
      "    Image.fromarray((currentFrame).astype(numpy.uint8)).save(saveLoc)"
     ],
     "language": "python",
     "metadata": {},
     "outputs": [
      {
       "output_type": "stream",
       "stream": "stdout",
       "text": [
        "[[386]\n",
        " [488]] [163 200]\n",
        "rotation"
       ]
      },
      {
       "output_type": "stream",
       "stream": "stdout",
       "text": [
        " 205.295673772\n",
        "-number of variables :32602\n",
        "-number of function(type-0)97440\n",
        "-number of function(type-1)0\n",
        "-number of function(type-2)0\n",
        "-number of function(type-3)0\n",
        "-number of function(type-4)0\n",
        "-number of function(type-5)0\n",
        "-number of function(type-6)0\n",
        "-number of function(type-7)0\n",
        "-number of factors :98330\n",
        "-max. factor order :2"
       ]
      },
      {
       "output_type": "stream",
       "stream": "stdout",
       "text": [
        "\n"
       ]
      }
     ],
     "prompt_number": 15
    },
    {
     "cell_type": "code",
     "collapsed": false,
     "input": [
      "figure(); imshow(bgImage)\n",
      "\n",
      "transform = getAffMat(trackedSprites[spriteIdx][DICT_BBOX_AFFINES][f, :])\n",
      "transform[1, 0] = 500\n",
      "transform[0, 0] = 400\n",
      "\n",
      "## get the bbox for the current sprite frame, make it larger and find the rectangular patch to work with\n",
      "## boundaries of the patch [min, max]\n",
      "xBounds = np.array([bgImage.shape[1], 0.0])\n",
      "yBounds = np.array([bgImage.shape[0], 0.0])\n",
      "\n",
      "## plot bbox\n",
      "spriteBBox = np.dot(transform, bboxDefaultCorners)\n",
      "plot(spriteBBox[0, :], spriteBBox[1, :])\n",
      "\n",
      "\n",
      "largeBBox = np.dot(np.array([[0.0, 0.0, 1.0+PATCH_BORDER], [0.0, 1.0+PATCH_BORDER, 0.0]]), bboxDefaultCorners)\n",
      "## transform according to affine transformation\n",
      "largeBBox = np.dot(transform, np.vstack((np.ones((1, largeBBox.shape[1])), largeBBox)))\n",
      "plot(largeBBox[0, :], largeBBox[1, :])\n",
      "\n",
      "## make sure xBounds are in between 0 and width and yBounds are in between 0 and height\n",
      "xBounds[0] = np.max((0, np.min(largeBBox[0, :])))\n",
      "xBounds[1] = np.min((bgImage.shape[1], np.max(largeBBox[0, :])))\n",
      "yBounds[0] = np.max((0, np.min(largeBBox[1, :])))\n",
      "yBounds[1] = np.min((bgImage.shape[0], np.max(largeBBox[1, :])))\n",
      "\n",
      "#     print xBounds, yBounds\n",
      "\n",
      "offset = np.array([np.round(np.array([xBounds[0], yBounds[0]]))], dtype=int).T # [x, y]\n",
      "patchSize = np.array(np.round(np.array([yBounds[1]-yBounds[0], xBounds[1]-xBounds[0]])), dtype=int) # [rows, cols]\n",
      "\n",
      "plot([offset[0], offset[0]+patchSize[1], offset[0]+patchSize[1], offset[0], offset[0]], \n",
      "     [offset[1], offset[1], offset[1]+patchSize[0], offset[1]+patchSize[0], offset[1]])"
     ],
     "language": "python",
     "metadata": {},
     "outputs": [
      {
       "metadata": {},
       "output_type": "pyout",
       "prompt_number": 172,
       "text": [
        "[<matplotlib.lines.Line2D at 0x7fc406403490>]"
       ]
      }
     ],
     "prompt_number": 172
    },
    {
     "cell_type": "code",
     "collapsed": false,
     "input": [
      "if np.min((largeBBox)[0, :]) > 0.0 :\n",
      "    print \"adding left column\"\n",
      "#     patAPixs = np.arange(0, h, dtype=uint)\n",
      "if np.min((largeBBox)[1, :]) > 0.0 :\n",
      "    print \"adding top row\"\n",
      "#     patAPixs = np.unique(np.concatenate((patAPixs, np.arange(0, h*(w-1)+1, h, dtype=uint))))\n",
      "if np.max((largeBBox)[1, :]) < bgImage.shape[0] :\n",
      "    print \"adding bottom row\"\n",
      "#     patAPixs = np.unique(np.concatenate((patAPixs, np.arange(0, h*(w-1)+1, h, dtype=uint)+h-1)))\n",
      "if np.max((largeBBox)[0, :]) < bgImage.shape[1] :\n",
      "    print \"adding right column\"\n",
      "#     patAPixs = np.unique(np.concatenate((patAPixs, np.arange(h*(w-1), h*w, dtype=uint))))"
     ],
     "language": "python",
     "metadata": {},
     "outputs": [
      {
       "output_type": "stream",
       "stream": "stdout",
       "text": [
        "adding left column\n",
        "adding top row\n",
        "adding bottom row\n",
        "adding right column\n"
       ]
      }
     ],
     "prompt_number": 173
    },
    {
     "cell_type": "code",
     "collapsed": false,
     "input": [
      "labs = np.copy(labels).reshape(np.prod(patchSize), order='F')\n",
      "cutEdges = np.zeros(patchSize)\n",
      "cutSpriteEdges = np.zeros(patchSize)\n",
      "for factor in graphModel.factors(order=2) :\n",
      "    varIdxs = factor.variableIndices\n",
      "    if varIdxs[0] < np.prod(patchSize) and varIdxs[1] < np.prod(patchSize) :\n",
      "        sPix = np.array([int(np.mod(varIdxs[0],h)), int(varIdxs[0]/h)])\n",
      "        tPix = np.array([int(np.mod(varIdxs[1],h)), int(varIdxs[1]/h)])\n",
      "        if (labs[varIdxs[0]] == 1 and labs[varIdxs[1]] == 2) or (labs[varIdxs[1]] == 1 and labs[varIdxs[0]] == 2) :\n",
      "            print varIdxs, factor[labs[varIdxs[0]], labs[varIdxs[1]]]\n",
      "            cutSpriteEdges[sPix[0], sPix[1]] = factor[labs[varIdxs[0]], labs[varIdxs[1]]]\n",
      "            cutSpriteEdges[tPix[0], tPix[1]] = factor[labs[varIdxs[0]], labs[varIdxs[1]]]\n",
      "            \n",
      "        if labs[varIdxs[0]] - labs[varIdxs[1]] != 0 :\n",
      "            cutEdges[sPix[0], sPix[1]] = factor[labs[varIdxs[0]], labs[varIdxs[1]]]\n",
      "            cutEdges[tPix[0], tPix[1]] = factor[labs[varIdxs[0]], labs[varIdxs[1]]]\n",
      "            \n",
      "gwv.showCustomGraph(cutEdges)\n",
      "gwv.showCustomGraph(cutSpriteEdges)\n",
      "print np.max(cutEdges), np.unique(np.sort(np.ndarray.flatten(cutEdges)))[1]\n",
      "print np.max(cutSpriteEdges), np.unique(np.sort(np.ndarray.flatten(cutSpriteEdges)))[1]\n",
      "print np.sum(cutEdges)\n",
      "print np.sum(cutSpriteEdges)"
     ],
     "language": "python",
     "metadata": {},
     "outputs": [
      {
       "output_type": "stream",
       "stream": "stdout",
       "text": [
        "[9731, 9732, ] 3.83404029228\n",
        "[10177, 10178, ] 3.83899973805\n",
        "[10400, 10401, ] 3.8489186296\n",
        "[12187, 12410, ]"
       ]
      },
      {
       "output_type": "stream",
       "stream": "stdout",
       "text": [
        " 3.85387807537\n",
        "[12410, 12411, ] 3.82660112362\n",
        "[12633, 12634, ] 3.82908084651\n",
        "[12856, 12857, ] 3.84395918383\n",
        "[13079, 13080, ] 3.86131724403\n",
        "[13302, 13303, ]"
       ]
      },
      {
       "output_type": "stream",
       "stream": "stdout",
       "text": [
        " 3.87123613557\n",
        "[13525, 13526, ] 3.88611447289\n",
        "[13748, 13749, ] 3.88859419577\n",
        "[13971, 13972, ] 3.89355364154\n",
        "[14194, 14195, ] 3.90347253309\n",
        "[14417, 14418, ]"
       ]
      },
      {
       "output_type": "stream",
       "stream": "stdout",
       "text": [
        " 3.91091170175\n",
        "[14640, 14641, ] 3.91339142463\n",
        "[14863, 14864, ] 3.92083059329\n",
        "[15086, 15087, ] 3.92331031618\n",
        "[15309, 15310, ] 3.92083059329\n",
        "[15532, 15533, ]"
       ]
      },
      {
       "output_type": "stream",
       "stream": "stdout",
       "text": [
        " 3.91091170175\n",
        "[15755, 15756, ] 3.88859419577\n",
        "[15978, 15979, ] 3.86131724403\n",
        "[16201, 16202, ] 3.84643890671\n",
        "[16424, 16425, ] 3.84643890671\n",
        "[16647, 16648, ]"
       ]
      },
      {
       "output_type": "stream",
       "stream": "stdout",
       "text": [
        " 3.8315605694\n",
        "[16870, 16871, ] 3.81420250919\n",
        "[17093, 17094, ] 3.79436472611\n",
        "[17316, 17317, ] 3.77204722013\n",
        "[17539, 17540, ] 3.75468915993\n",
        "[17762, 17763, ]"
       ]
      },
      {
       "output_type": "stream",
       "stream": "stdout",
       "text": [
        " 3.74477026839\n",
        "[17985, 17986, ] 3.7249324853\n",
        "[18208, 18209, ] 3.70261497933\n",
        "[18431, 18432, ] 3.68277719624\n",
        "[18654, 18655, ] 3.67037858181\n",
        "[18877, 18878, ]"
       ]
      },
      {
       "output_type": "stream",
       "stream": "stdout",
       "text": [
        " 3.67037858181\n",
        "[19100, 19101, ] 3.65797996738\n",
        "[19323, 19324, ] 3.60590578677\n",
        "[19546, 19547, ] 3.52903437731\n",
        "[19769, 19770, ] 3.50671687134\n",
        "[19992, 19993, ]"
       ]
      },
      {
       "output_type": "stream",
       "stream": "stdout",
       "text": [
        " 3.50423714845\n",
        "[20215, 20216, ] 3.48191964248\n",
        "[20438, 20439, ] 3.45464269073\n",
        "[20661, 20662, ] 3.41744684744\n",
        "[20884, 20885, ] 3.39264961858\n",
        "[21107, 21108, ]"
       ]
      },
      {
       "output_type": "stream",
       "stream": "stdout",
       "text": [
        " 3.3728118355\n",
        "[21330, 21331, ] 3.35545377529\n",
        "[21553, 21554, ] 3.33561599221\n",
        "[21776, 21777, ] 3.32073765489\n",
        "[21999, 22000, ] 3.32321737778\n",
        "[22222, 22223, ]"
       ]
      },
      {
       "output_type": "stream",
       "stream": "stdout",
       "text": [
        " 3.34057543798\n",
        "[22445, 22446, ] 3.34801460664\n",
        "[22668, 22669, ] 3.34305516086\n",
        "[22891, 22892, ] 3.34057543798\n",
        "[23114, 23115, ] 3.38521044993\n",
        "[23337, 23338, ]"
       ]
      },
      {
       "output_type": "stream",
       "stream": "stdout",
       "text": [
        " 3.45712241362\n",
        "[23560, 23561, ] 3.51663576288\n",
        "[23783, 23784, ] 3.55383160617\n",
        "[24006, 24007, ] 3.57366938926\n",
        "[24229, 24230, ] 3.66045969027\n",
        "[24452, 24453, ]"
       ]
      },
      {
       "output_type": "stream",
       "stream": "stdout",
       "text": [
        " 3.82412140074\n",
        "[24675, 24676, ] 3.92331031618\n",
        "[24898, 24899, ] 3.96298588235\n",
        "[25121, 25122, ] 3.91587114752\n",
        "3.96298588235"
       ]
      },
      {
       "output_type": "stream",
       "stream": "stdout",
       "text": [
        " 0.00307574009996\n",
        "3.96298588235 3.32073765489\n",
        "862.23692813\n",
        "453.524654449\n"
       ]
      }
     ],
     "prompt_number": 42
    },
    {
     "cell_type": "code",
     "collapsed": false,
     "input": [
      "labs = np.copy(labels).reshape(np.prod(patchSize), order='F')\n",
      "cutEdges = np.zeros(patchSize)\n",
      "cutSpriteEdges = np.zeros(patchSize)\n",
      "for factor in graphModel.factors(order=2) :\n",
      "    varIdxs = factor.variableIndices\n",
      "    if varIdxs[0] < np.prod(patchSize) and varIdxs[1] < np.prod(patchSize) :\n",
      "        sPix = np.array([int(np.mod(varIdxs[0],h)), int(varIdxs[0]/h)])\n",
      "        tPix = np.array([int(np.mod(varIdxs[1],h)), int(varIdxs[1]/h)])\n",
      "        if (labs[varIdxs[0]] == 1 and labs[varIdxs[1]] == 2) or (labs[varIdxs[1]] == 1 and labs[varIdxs[0]] == 2) :\n",
      "#             print varIdxs, factor.max()\n",
      "            cutSpriteEdges[sPix[0], sPix[1]] = factor[labs[varIdxs[0]], labs[varIdxs[1]]]\n",
      "            cutSpriteEdges[tPix[0], tPix[1]] = factor[labs[varIdxs[0]], labs[varIdxs[1]]]\n",
      "            \n",
      "        if labs[varIdxs[0]] - labs[varIdxs[1]] != 0 :\n",
      "            cutEdges[sPix[0], sPix[1]] = factor[labs[varIdxs[0]], labs[varIdxs[1]]]\n",
      "            cutEdges[tPix[0], tPix[1]] = factor[labs[varIdxs[0]], labs[varIdxs[1]]]\n",
      "            \n",
      "gwv.showCustomGraph(cutEdges)\n",
      "gwv.showCustomGraph(cutSpriteEdges)\n",
      "print np.max(cutEdges), np.unique(np.sort(np.ndarray.flatten(cutEdges)))[1]\n",
      "# print np.max(cutSpriteEdges), np.unique(np.sort(np.ndarray.flatten(cutSpriteEdges)))[1]\n",
      "print np.sum(cutEdges)\n",
      "print np.sum(cutSpriteEdges)"
     ],
     "language": "python",
     "metadata": {},
     "outputs": [
      {
       "output_type": "stream",
       "stream": "stdout",
       "text": [
        " 36.0046136101 0.00307574009996\n",
        "1454.33602461\n",
        "0.0\n"
       ]
      }
     ],
     "prompt_number": 38
    },
    {
     "cell_type": "code",
     "collapsed": false,
     "input": [
      "print factor[0, 2]"
     ],
     "language": "python",
     "metadata": {},
     "outputs": [
      {
       "output_type": "stream",
       "stream": "stdout",
       "text": [
        "10000000.0\n"
       ]
      }
     ],
     "prompt_number": 32
    },
    {
     "cell_type": "code",
     "collapsed": false,
     "input": [
      "tmp = np.all(np.concatenate(((diffAB < diffAC).reshape((223, 171, 1)), (labels == 1).reshape((223, 171, 1))), axis=-1), axis=-1)\n",
      "tmp = (diffAC - diffAB) > 0.08\n",
      "\n",
      "tmpPatch = np.zeros(patA.shape, dtype=uint8)\n",
      "for i in xrange(labels.shape[0]) :\n",
      "    for j in xrange(labels.shape[1]) :\n",
      "        if labels[i, j] == 0 :\n",
      "            tmpPatch[i, j, :] = patA[i, j, :]*255\n",
      "        elif labels[i, j] == 1 and not tmp[i, j] :\n",
      "            tmpPatch[i, j, :] = patB[i, j, :]*255\n",
      "        else :\n",
      "            tmpPatch[i, j, :] = patC[i, j, :]*255\n",
      "            \n",
      "figure(); imshow(tmpPatch, interpolation='nearest')"
     ],
     "language": "python",
     "metadata": {},
     "outputs": [
      {
       "metadata": {},
       "output_type": "pyout",
       "prompt_number": 254,
       "text": [
        "<matplotlib.image.AxesImage at 0x7ffb68faced0>"
       ]
      }
     ],
     "prompt_number": 254
    },
    {
     "cell_type": "code",
     "collapsed": false,
     "input": [
      "figure(); imshow(spritePatches[1])"
     ],
     "language": "python",
     "metadata": {},
     "outputs": [
      {
       "metadata": {},
       "output_type": "pyout",
       "prompt_number": 271,
       "text": [
        "<matplotlib.image.AxesImage at 0x7ffb689cfe50>"
       ]
      }
     ],
     "prompt_number": 271
    },
    {
     "cell_type": "code",
     "collapsed": false,
     "input": [
      "diffAB = np.sum(np.power(patA - patB, 2), axis=-1)\n",
      "\n",
      "diffAC = np.sum(np.power(patA - patC, 2), axis=-1)\n",
      "\n",
      "diffBC = np.sum(np.power(patB - patC, 2), axis=-1)\n",
      "\n",
      "sumDiffABAC = np.copy(diffAB+diffAC)\n",
      "\n",
      "maxVal = np.max((np.max(diffAB), np.max(diffAC), np.max(diffBC), np.max(sumDiffABAC)))\n",
      "\n",
      "figure(); imshow(diffAB, vmin=0, vmax=maxVal)\n",
      "figure(); imshow(diffAC, vmin=0, vmax=maxVal)\n",
      "figure(); imshow(diffBC, vmin=0, vmax=maxVal)\n",
      "figure(); imshow(sumDiffABAC, vmin=0, vmax=maxVal)\n",
      "print maxVal"
     ],
     "language": "python",
     "metadata": {},
     "outputs": [
      {
       "output_type": "stream",
       "stream": "stdout",
       "text": [
        "1.71272587466\n"
       ]
      }
     ],
     "prompt_number": 207
    },
    {
     "cell_type": "code",
     "collapsed": false,
     "input": [
      "figure(); imshow(spritePriors[0], interpolation='nearest')\n",
      "figure(); imshow(spritePriors[0]*(1.0-diffAB/np.max(diffAB)), interpolation='nearest')\n",
      "\n",
      "figure(); imshow(spritePriors[1], interpolation='nearest')\n",
      "figure(); imshow(spritePriors[1]*(1.0-diffAC/np.max(diffAC)), interpolation='nearest')"
     ],
     "language": "python",
     "metadata": {},
     "outputs": [
      {
       "metadata": {},
       "output_type": "pyout",
       "prompt_number": 219,
       "text": [
        "<matplotlib.image.AxesImage at 0x7ffb6b9effd0>"
       ]
      }
     ],
     "prompt_number": 219
    },
    {
     "cell_type": "code",
     "collapsed": false,
     "input": [
      "weightedDiffAB = np.exp(-spritePriors[0])/np.sum(np.exp(-spritePriors[0]))*diffAB\n",
      "weightedDiffAC = np.exp(-spritePriors[1])/np.sum(np.exp(-spritePriors[1]))*diffAC\n",
      "\n",
      "figure(); imshow(spritePriors[0]*(1.0-weightedDiffAB/np.max(weightedDiffAB)), interpolation='nearest')\n",
      "figure(); imshow(spritePriors[1]*(1.0-weightedDiffAC/np.max(weightedDiffAC)), interpolation='nearest')"
     ],
     "language": "python",
     "metadata": {},
     "outputs": [
      {
       "metadata": {},
       "output_type": "pyout",
       "prompt_number": 220,
       "text": [
        "<matplotlib.image.AxesImage at 0x7ffb6b8d8750>"
       ]
      }
     ],
     "prompt_number": 220
    },
    {
     "cell_type": "code",
     "collapsed": false,
     "input": [
      "figure(); imshow(np.exp(-spritePriors[0]))"
     ],
     "language": "python",
     "metadata": {},
     "outputs": [
      {
       "metadata": {},
       "output_type": "pyout",
       "prompt_number": 214,
       "text": [
        "<matplotlib.image.AxesImage at 0x7ffb6cb10fd0>"
       ]
      }
     ],
     "prompt_number": 214
    },
    {
     "cell_type": "code",
     "collapsed": false,
     "input": [
      "## cut a patch from input image based on enlarged bbox\n",
      "spriteIdx = 1\n",
      "path = \"../data/havana/cutPatches/\"\n",
      "for i in arange(trackedSprites[spriteIdx][DICT_NUM_FRAMES]) :\n",
      "    img = np.array(Image.open(trackedSprites[spriteIdx][DICT_FRAMES_LOCATIONS][i]))\n",
      "    \n",
      "    ## make bbox bigger\n",
      "    largeBBox = np.dot(np.array([[0.0, 0.0, 1.2], [0.0, 1.2, 0.0]]), bboxDefaultCorners)\n",
      "    ## transform according to affine transformation\n",
      "    largeBBox = np.dot(getAffMat(trackedSprites[spriteIdx][DICT_BBOX_AFFINES][i, :]), \n",
      "                        np.vstack((np.ones((1, largeBBox.shape[1])), largeBBox)))\n",
      "    \n",
      "    offS = np.array([np.round(np.array([np.min(largeBBox[0, :]), np.min(largeBBox[1, :])]))], dtype=int).T # [x, y]\n",
      "    pSize = np.array(np.round(np.array([np.max(largeBBox[1, :])-np.min(largeBBox[1, :]), \n",
      "                                            np.max(largeBBox[0, :])-np.min(largeBBox[0, :])])), dtype=int) # [rows, cols]\n",
      "    \n",
      "    \n",
      "    Image.fromarray((img[offS[1]:offS[1]+pSize[0], offS[0]:offS[0]+pSize[1]]).astype(numpy.uint8)).save(path+trackedSprites[spriteIdx][DICT_SPRITE_NAME] +\"/\" + np.string_(i) + \".png\")\n",
      "    \n",
      "#     figure(); imshow(img)\n",
      "#     plot([offset[0], offset[0]+patchSize[1], offset[0]+patchSize[1], offset[0], offset[0]], \n",
      "#      [offset[1], offset[1], offset[1]+patchSize[0], offset[1]+patchSize[0], offset[1]])"
     ],
     "language": "python",
     "metadata": {},
     "outputs": [],
     "prompt_number": 25
    },
    {
     "cell_type": "code",
     "collapsed": false,
     "input": [
      "## visualise an image of the pairwise costs for a given graph (the even indices are nodes and odd are edges, hence the doubled patchSize)\n",
      "for i in arange(pairCosts.shape[-1]) :\n",
      "    edgeMapImg = -0.01*np.ones(np.array(patchSize)*2)\n",
      "    \n",
      "    edgeMapImg[np.array((gridEdges2D[:, 2]*2+gridEdges2D[:, 0]*2)/2, dtype=int), \n",
      "               np.array((gridEdges2D[:, 3]*2+gridEdges2D[:, 1]*2)/2, dtype=int)] = np.copy(pairCosts[:, i])#/np.max(pairCosts[:, i]))\n",
      "    \n",
      "    figure(); imshow(np.copy(edgeMapImg), interpolation='nearest', vmin=0.0, vmax=np.max(pairCosts))"
     ],
     "language": "python",
     "metadata": {},
     "outputs": [],
     "prompt_number": 240
    },
    {
     "cell_type": "code",
     "collapsed": false,
     "input": [
      "# gwv.showCustomGraph(gradientsY)\n",
      "figure(); imshow(labels, interpolation='nearest')"
     ],
     "language": "python",
     "metadata": {},
     "outputs": [
      {
       "metadata": {},
       "output_type": "pyout",
       "prompt_number": 245,
       "text": [
        "<matplotlib.image.AxesImage at 0x7ff4f8a45890>"
       ]
      }
     ],
     "prompt_number": 245
    },
    {
     "cell_type": "code",
     "collapsed": false,
     "input": [
      "## save an image\n",
      "Image.fromarray((outputPatch).astype(numpy.uint8)).save(\"havana_car150_merged.png\")"
     ],
     "language": "python",
     "metadata": {},
     "outputs": []
    },
    {
     "cell_type": "code",
     "collapsed": false,
     "input": [
      "## visualize patch definite pixels\n",
      "tmp = np.zeros(patchSize)\n",
      "tmp[np.mod(patAPixs, h), np.array(patAPixs/h, dtype=int)] = 1\n",
      "figure(); imshow(tmp, interpolation='nearest')"
     ],
     "language": "python",
     "metadata": {},
     "outputs": []
    },
    {
     "cell_type": "code",
     "collapsed": false,
     "input": [
      "def dda(points, imgSize):\n",
      "    ## digital differential analyzer\n",
      "    ## points is 2XN array where points[:, 0] = [x, y] coords\n",
      "    result = np.zeros(imgSize, dtype=int)\n",
      "    \n",
      "    for i in arange(points.shape[-1]-1) :\n",
      "        m = (points[1, i+1] - points[1, i])/(points[0, i+1] - points[0, i])\n",
      "        xStart = points[0, i]\n",
      "        yStart = points[1, i]\n",
      "        xEnd = points[0, i+1]\n",
      "        yEnd = points[1, i+1]\n",
      "        x = float(np.copy(xStart))\n",
      "        y = float(np.copy(yStart))\n",
      "        print \"i=\", i, xStart, yStart, xEnd, yEnd, m\n",
      "        result[y, x] = 1\n",
      "        if np.abs(m) <= 1.0 :\n",
      "            while int(np.round(x)) != int(np.round(xEnd)) or int(np.round(y)) != int(np.round(yEnd)) :\n",
      "                if xStart < xEnd :\n",
      "                    x += 1\n",
      "                    y += m\n",
      "                else :\n",
      "                    x -= 1\n",
      "                    y -= m\n",
      "                    \n",
      "#                 print int(np.round(x)), int(np.round(y)), int(np.round(xEnd)), int(np.round(yEnd))\n",
      "                result[int(np.round(y)), int(np.round(x))] = 1\n",
      "        else :\n",
      "            while int(np.round(x)) != int(np.round(xEnd)) or int(np.round(y)) != int(np.round(yEnd)) :\n",
      "                if yStart < yEnd :\n",
      "                    y += 1\n",
      "                    x += 1.0/m\n",
      "                else :\n",
      "                    y -= 1\n",
      "                    x -= 1.0/m\n",
      "                    \n",
      "#                 print int(np.round(x)), int(np.round(y)), int(np.round(xEnd)), int(np.round(yEnd))\n",
      "                result[int(np.round(y)), int(np.round(x))] = 1\n",
      "                \n",
      "    return result\n",
      "\n",
      "tmp = dda(bbox, carImg.shape[0:2])\n",
      "figure(); imshow(tmp, interpolation='nearest')"
     ],
     "language": "python",
     "metadata": {},
     "outputs": []
    },
    {
     "cell_type": "code",
     "collapsed": false,
     "input": [
      "### visualize pairwise costs image\n",
      "def interpolate(val, y0, x0, y1, x1):\n",
      "    return (val-x0)*(y1-y0)/(x1-x0) + y0;\n",
      "\n",
      "def base(val):\n",
      "    if val <= -0.75 :\n",
      "        return 0\n",
      "    elif val <= -0.25 :\n",
      "        return interpolate(val, 0.0, -0.75, 1.0, -0.25)\n",
      "    elif val <= 0.25 :\n",
      "        return 1.0\n",
      "    elif val <= 0.75 :\n",
      "        return interpolate(val, 1.0, 0.25, 0.0, 0.75)\n",
      "    else :\n",
      "        return 0.0\n",
      "\n",
      "\n",
      "def red(gray) :\n",
      "    return base(gray - 0.5 )\n",
      "\n",
      "def green(gray) :\n",
      "    return base(gray)\n",
      "\n",
      "def blue(gray) :\n",
      "    return base(gray + 0.5)"
     ],
     "language": "python",
     "metadata": {},
     "outputs": []
    }
   ],
   "metadata": {}
  }
 ]
}