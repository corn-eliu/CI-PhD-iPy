{
 "metadata": {
  "name": ""
 },
 "nbformat": 3,
 "nbformat_minor": 0,
 "worksheets": [
  {
   "cells": [
    {
     "cell_type": "code",
     "collapsed": false,
     "input": [
      "## Imports and defines\n",
      "%pylab \n",
      "\n",
      "from PIL import Image\n",
      "from PySide import QtCore, QtGui\n",
      "\n",
      "import numpy as np\n",
      "import scipy as sp\n",
      "import scipy.io as sio\n",
      "import cv2\n",
      "import cv\n",
      "import glob\n",
      "import time\n",
      "import sys\n",
      "import os\n",
      "from scipy import ndimage\n",
      "from scipy import stats\n",
      "\n",
      "from tsne import tsne\n",
      "\n",
      "from _emd import emd\n",
      "\n",
      "import GraphWithValues as gwv\n",
      "import VideoTexturesUtils as vtu\n",
      "import ComputeGridFeatures as cgf\n",
      "\n",
      "dataFolder = \"/home/ilisescu/PhD/data/\"\n",
      "POSE = 0\n",
      "VELOCITY = 1\n",
      "FUT_VELOCITY = 2\n",
      "\n",
      "app = QtGui.QApplication(sys.argv)"
     ],
     "language": "python",
     "metadata": {},
     "outputs": [
      {
       "output_type": "stream",
       "stream": "stdout",
       "text": [
        "Using matplotlib backend: TkAgg\n",
        "Populating the interactive namespace from numpy and matplotlib\n"
       ]
      }
     ],
     "prompt_number": 1
    },
    {
     "cell_type": "code",
     "collapsed": false,
     "input": [
      "## read frames from sequence of images\n",
      "# sampleData = \"pendulum/\"\n",
      "sampleData = \"ribbon2/\"\n",
      "# sampleData = \"ribbon1_matted/\"\n",
      "# sampleData = \"little_palm1_cropped/\"\n",
      "# sampleData = \"ballAnimation/\"\n",
      "outputData = dataFolder+sampleData\n",
      "\n",
      "## Find pngs in sample data\n",
      "frames = glob.glob(dataFolder + sampleData + \"frame-*.png\")\n",
      "mattes = glob.glob(dataFolder + sampleData + \"matte-*.png\")\n",
      "frames = np.sort(frames)\n",
      "mattes = np.sort(mattes)#[0:len(frames)-10]\n",
      "numFrames = len(frames)\n",
      "frameSize = cv2.imread(frames[0]).shape\n",
      "print numFrames, len(mattes)"
     ],
     "language": "python",
     "metadata": {},
     "outputs": [
      {
       "output_type": "stream",
       "stream": "stdout",
       "text": [
        "1280 1280\n"
       ]
      }
     ],
     "prompt_number": 2
    },
    {
     "cell_type": "code",
     "collapsed": false,
     "input": [
      "## compute features for image\n",
      "blocksPerWidth = 4#16#32\n",
      "blocksPerHeight = 4#16#48\n",
      "subDivisions = blocksPerWidth*blocksPerHeight\n",
      "\n",
      "## given block sizes and img sizes build indices representing each block\n",
      "imageSize = np.array(cv2.cvtColor(cv2.imread(frames[0]), cv2.COLOR_BGR2RGB)).shape\n",
      "stencils = cgf.stencil2D(blocksPerWidth, blocksPerHeight, imageSize)\n",
      "\n",
      "features = cgf.histFgFeatures(stencils, subDivisions, frames, mattes)\n",
      "figure(); imshow(features.T, interpolation='nearest')"
     ],
     "language": "python",
     "metadata": {},
     "outputs": [
      {
       "output_type": "stream",
       "stream": "stdout",
       "text": [
        "\r",
        "Computed features for frame 0 of 1280 in 0.0936169624329"
       ]
      },
      {
       "output_type": "stream",
       "stream": "stdout",
       "text": [
        "\r",
        "Computed features for frame 1 of 1280 in 0.090136051178"
       ]
      },
      {
       "output_type": "stream",
       "stream": "stdout",
       "text": [
        "\r",
        "Computed features for frame 2 of 1280 in 0.0787999629974"
       ]
      },
      {
       "output_type": "stream",
       "stream": "stdout",
       "text": [
        "\r",
        "Computed features for frame 3 of 1280 in 0.0802459716797"
       ]
      },
      {
       "output_type": "stream",
       "stream": "stdout",
       "text": [
        "\r",
        "Computed features for frame 4 of 1280 in 0.0806910991669"
       ]
      },
      {
       "output_type": "stream",
       "stream": "stdout",
       "text": [
        "\r",
        "Computed features for frame 5 of 1280 in 0.0838758945465"
       ]
      },
      {
       "output_type": "stream",
       "stream": "stdout",
       "text": [
        "\r",
        "Computed features for frame 6 of 1280 in 0.0821218490601"
       ]
      },
      {
       "output_type": "stream",
       "stream": "stdout",
       "text": [
        "\r",
        "Computed features for frame 7 of 1280 in 0.0781869888306"
       ]
      },
      {
       "output_type": "stream",
       "stream": "stdout",
       "text": [
        "\r",
        "Computed features for frame 8 of 1280 in 0.078469991684"
       ]
      },
      {
       "output_type": "stream",
       "stream": "stdout",
       "text": [
        "\r",
        "Computed features for frame 9 of 1280 in 0.0776221752167"
       ]
      },
      {
       "output_type": "stream",
       "stream": "stdout",
       "text": [
        "\r",
        "Computed features for frame 10 of 1280 in 0.0831849575043"
       ]
      },
      {
       "output_type": "stream",
       "stream": "stdout",
       "text": [
        "\r",
        "Computed features for frame 11 of 1280 in 0.0797650814056"
       ]
      },
      {
       "output_type": "stream",
       "stream": "stdout",
       "text": [
        "\r",
        "Computed features for frame 12 of 1280 in 0.0830760002136"
       ]
      },
      {
       "output_type": "stream",
       "stream": "stdout",
       "text": [
        "\r",
        "Computed features for frame 13 of 1280 in 0.0804228782654"
       ]
      },
      {
       "output_type": "stream",
       "stream": "stdout",
       "text": [
        "\r",
        "Computed features for frame 14 of 1280 in 0.0878539085388"
       ]
      },
      {
       "output_type": "stream",
       "stream": "stdout",
       "text": [
        "\r",
        "Computed features for frame 15 of 1280 in 0.0859999656677"
       ]
      },
      {
       "output_type": "stream",
       "stream": "stdout",
       "text": [
        "\r",
        "Computed features for frame 16 of 1280 in 0.0861458778381"
       ]
      },
      {
       "output_type": "stream",
       "stream": "stdout",
       "text": [
        "\r",
        "Computed features for frame 17 of 1280 in 0.0861709117889"
       ]
      },
      {
       "output_type": "stream",
       "stream": "stdout",
       "text": [
        "\r",
        "Computed features for frame 18 of 1280 in 0.0852930545807"
       ]
      },
      {
       "output_type": "stream",
       "stream": "stdout",
       "text": [
        "\r",
        "Computed features for frame 19 of 1280 in 0.11275601387"
       ]
      },
      {
       "output_type": "stream",
       "stream": "stdout",
       "text": [
        "\r",
        "Computed features for frame 20 of 1280 in 0.0910367965698"
       ]
      },
      {
       "output_type": "stream",
       "stream": "stdout",
       "text": [
        "\r",
        "Computed features for frame 21 of 1280 in 0.087611913681"
       ]
      },
      {
       "output_type": "stream",
       "stream": "stdout",
       "text": [
        "\r",
        "Computed features for frame 22 of 1280 in 0.0843749046326"
       ]
      },
      {
       "output_type": "stream",
       "stream": "stdout",
       "text": [
        "\r",
        "Computed features for frame 23 of 1280 in 0.0822401046753"
       ]
      },
      {
       "output_type": "stream",
       "stream": "stdout",
       "text": [
        "\r",
        "Computed features for frame 24 of 1280 in 0.0843789577484"
       ]
      },
      {
       "output_type": "stream",
       "stream": "stdout",
       "text": [
        "\r",
        "Computed features for frame 25 of 1280 in 0.0851638317108"
       ]
      },
      {
       "output_type": "stream",
       "stream": "stdout",
       "text": [
        "\r",
        "Computed features for frame 26 of 1280 in 0.083132982254"
       ]
      },
      {
       "output_type": "stream",
       "stream": "stdout",
       "text": [
        "\r",
        "Computed features for frame 27 of 1280 in 0.0892369747162"
       ]
      },
      {
       "output_type": "stream",
       "stream": "stdout",
       "text": [
        "\r",
        "Computed features for frame 28 of 1280 in 0.0780031681061"
       ]
      },
      {
       "output_type": "stream",
       "stream": "stdout",
       "text": [
        "\r",
        "Computed features for frame 29 of 1280 in 0.0858719348907"
       ]
      },
      {
       "output_type": "stream",
       "stream": "stdout",
       "text": [
        "\r",
        "Computed features for frame 30 of 1280 in 0.0839619636536"
       ]
      },
      {
       "output_type": "stream",
       "stream": "stdout",
       "text": [
        "\r",
        "Computed features for frame 31 of 1280 in 0.0858588218689"
       ]
      },
      {
       "output_type": "stream",
       "stream": "stdout",
       "text": [
        "\r",
        "Computed features for frame 32 of 1280 in 0.0812990665436"
       ]
      },
      {
       "output_type": "stream",
       "stream": "stdout",
       "text": [
        "\r",
        "Computed features for frame 33 of 1280 in 0.0891509056091"
       ]
      },
      {
       "output_type": "stream",
       "stream": "stdout",
       "text": [
        "\r",
        "Computed features for frame 34 of 1280 in 0.0895240306854"
       ]
      },
      {
       "output_type": "stream",
       "stream": "stdout",
       "text": [
        "\r",
        "Computed features for frame 35 of 1280 in 0.0773389339447"
       ]
      },
      {
       "output_type": "stream",
       "stream": "stdout",
       "text": [
        "\r",
        "Computed features for frame 36 of 1280 in 0.0788929462433"
       ]
      },
      {
       "output_type": "stream",
       "stream": "stdout",
       "text": [
        "\r",
        "Computed features for frame 37 of 1280 in 0.0847020149231"
       ]
      },
      {
       "output_type": "stream",
       "stream": "stdout",
       "text": [
        "\r",
        "Computed features for frame 38 of 1280 in 0.0785269737244"
       ]
      },
      {
       "output_type": "stream",
       "stream": "stdout",
       "text": [
        "\r",
        "Computed features for frame 39 of 1280 in 0.0814280509949"
       ]
      },
      {
       "output_type": "stream",
       "stream": "stdout",
       "text": [
        "\r",
        "Computed features for frame 40 of 1280 in 0.0815570354462"
       ]
      },
      {
       "output_type": "stream",
       "stream": "stdout",
       "text": [
        "\r",
        "Computed features for frame 41 of 1280 in 0.0851409435272"
       ]
      },
      {
       "output_type": "stream",
       "stream": "stdout",
       "text": [
        "\r",
        "Computed features for frame 42 of 1280 in 0.0808079242706"
       ]
      },
      {
       "output_type": "stream",
       "stream": "stdout",
       "text": [
        "\r",
        "Computed features for frame 43 of 1280 in 0.0808899402618"
       ]
      },
      {
       "output_type": "stream",
       "stream": "stdout",
       "text": [
        "\r",
        "Computed features for frame 44 of 1280 in 0.0835289955139"
       ]
      },
      {
       "output_type": "stream",
       "stream": "stdout",
       "text": [
        "\r",
        "Computed features for frame 45 of 1280 in 0.0887150764465"
       ]
      },
      {
       "output_type": "stream",
       "stream": "stdout",
       "text": [
        "\r",
        "Computed features for frame 46 of 1280 in 0.0875499248505"
       ]
      },
      {
       "output_type": "stream",
       "stream": "stdout",
       "text": [
        "\r",
        "Computed features for frame 47 of 1280 in 0.0865850448608"
       ]
      },
      {
       "output_type": "stream",
       "stream": "stdout",
       "text": [
        "\r",
        "Computed features for frame 48 of 1280 in 0.0851359367371"
       ]
      },
      {
       "output_type": "stream",
       "stream": "stdout",
       "text": [
        "\r",
        "Computed features for frame 49 of 1280 in 0.087082862854"
       ]
      },
      {
       "output_type": "stream",
       "stream": "stdout",
       "text": [
        "\r",
        "Computed features for frame 50 of 1280 in 0.0846791267395"
       ]
      },
      {
       "output_type": "stream",
       "stream": "stdout",
       "text": [
        "\r",
        "Computed features for frame 51 of 1280 in 0.0814850330353"
       ]
      },
      {
       "output_type": "stream",
       "stream": "stdout",
       "text": [
        "\r",
        "Computed features for frame 52 of 1280 in 0.0798101425171"
       ]
      },
      {
       "output_type": "stream",
       "stream": "stdout",
       "text": [
        "\r",
        "Computed features for frame 53 of 1280 in 0.0785889625549"
       ]
      },
      {
       "output_type": "stream",
       "stream": "stdout",
       "text": [
        "\r",
        "Computed features for frame 54 of 1280 in 0.0784590244293"
       ]
      },
      {
       "output_type": "stream",
       "stream": "stdout",
       "text": [
        "\r",
        "Computed features for frame 55 of 1280 in 0.0789251327515"
       ]
      },
      {
       "output_type": "stream",
       "stream": "stdout",
       "text": [
        "\r",
        "Computed features for frame 56 of 1280 in 0.0799210071564"
       ]
      },
      {
       "output_type": "stream",
       "stream": "stdout",
       "text": [
        "\r",
        "Computed features for frame 57 of 1280 in 0.0807521343231"
       ]
      },
      {
       "output_type": "stream",
       "stream": "stdout",
       "text": [
        "\r",
        "Computed features for frame 58 of 1280 in 0.0839419364929"
       ]
      },
      {
       "output_type": "stream",
       "stream": "stdout",
       "text": [
        "\r",
        "Computed features for frame 59 of 1280 in 0.0810761451721"
       ]
      },
      {
       "output_type": "stream",
       "stream": "stdout",
       "text": [
        "\r",
        "Computed features for frame 60 of 1280 in 0.0807421207428"
       ]
      },
      {
       "output_type": "stream",
       "stream": "stdout",
       "text": [
        "\r",
        "Computed features for frame 61 of 1280 in 0.0775609016418"
       ]
      },
      {
       "output_type": "stream",
       "stream": "stdout",
       "text": [
        "\r",
        "Computed features for frame 62 of 1280 in 0.0784041881561"
       ]
      },
      {
       "output_type": "stream",
       "stream": "stdout",
       "text": [
        "\r",
        "Computed features for frame 63 of 1280 in 0.078861951828"
       ]
      },
      {
       "output_type": "stream",
       "stream": "stdout",
       "text": [
        "\r",
        "Computed features for frame 64 of 1280 in 0.0957679748535"
       ]
      },
      {
       "output_type": "stream",
       "stream": "stdout",
       "text": [
        "\r",
        "Computed features for frame 65 of 1280 in 0.079577922821"
       ]
      },
      {
       "output_type": "stream",
       "stream": "stdout",
       "text": [
        "\r",
        "Computed features for frame 66 of 1280 in 0.0812101364136"
       ]
      },
      {
       "output_type": "stream",
       "stream": "stdout",
       "text": [
        "\r",
        "Computed features for frame 67 of 1280 in 0.0826759338379"
       ]
      },
      {
       "output_type": "stream",
       "stream": "stdout",
       "text": [
        "\r",
        "Computed features for frame 68 of 1280 in 0.0910179615021"
       ]
      },
      {
       "output_type": "stream",
       "stream": "stdout",
       "text": [
        "\r",
        "Computed features for frame 69 of 1280 in 0.0822489261627"
       ]
      },
      {
       "output_type": "stream",
       "stream": "stdout",
       "text": [
        "\r",
        "Computed features for frame 70 of 1280 in 0.0800569057465"
       ]
      },
      {
       "output_type": "stream",
       "stream": "stdout",
       "text": [
        "\r",
        "Computed features for frame 71 of 1280 in 0.0757908821106"
       ]
      },
      {
       "output_type": "stream",
       "stream": "stdout",
       "text": [
        "\r",
        "Computed features for frame 72 of 1280 in 0.0798161029816"
       ]
      },
      {
       "output_type": "stream",
       "stream": "stdout",
       "text": [
        "\r",
        "Computed features for frame 73 of 1280 in 0.0810289382935"
       ]
      },
      {
       "output_type": "stream",
       "stream": "stdout",
       "text": [
        "\r",
        "Computed features for frame 74 of 1280 in 0.080845117569"
       ]
      },
      {
       "output_type": "stream",
       "stream": "stdout",
       "text": [
        "\r",
        "Computed features for frame 75 of 1280 in 0.080539226532"
       ]
      },
      {
       "output_type": "stream",
       "stream": "stdout",
       "text": [
        "\r",
        "Computed features for frame 76 of 1280 in 0.0829920768738"
       ]
      },
      {
       "output_type": "stream",
       "stream": "stdout",
       "text": [
        "\r",
        "Computed features for frame 77 of 1280 in 0.0831859111786"
       ]
      },
      {
       "output_type": "stream",
       "stream": "stdout",
       "text": [
        "\r",
        "Computed features for frame 78 of 1280 in 0.0787470340729"
       ]
      },
      {
       "output_type": "stream",
       "stream": "stdout",
       "text": [
        "\r",
        "Computed features for frame 79 of 1280 in 0.0788960456848"
       ]
      },
      {
       "output_type": "stream",
       "stream": "stdout",
       "text": [
        "\r",
        "Computed features for frame 80 of 1280 in 0.0787861347198"
       ]
      },
      {
       "output_type": "stream",
       "stream": "stdout",
       "text": [
        "\r",
        "Computed features for frame 81 of 1280 in 0.0805649757385"
       ]
      },
      {
       "output_type": "stream",
       "stream": "stdout",
       "text": [
        "\r",
        "Computed features for frame 82 of 1280 in 0.0796508789062"
       ]
      },
      {
       "output_type": "stream",
       "stream": "stdout",
       "text": [
        "\r",
        "Computed features for frame 83 of 1280 in 0.0772261619568"
       ]
      },
      {
       "output_type": "stream",
       "stream": "stdout",
       "text": [
        "\r",
        "Computed features for frame 84 of 1280 in 0.0786948204041"
       ]
      },
      {
       "output_type": "stream",
       "stream": "stdout",
       "text": [
        "\r",
        "Computed features for frame 85 of 1280 in 0.0799520015717"
       ]
      },
      {
       "output_type": "stream",
       "stream": "stdout",
       "text": [
        "\r",
        "Computed features for frame 86 of 1280 in 0.0836510658264"
       ]
      },
      {
       "output_type": "stream",
       "stream": "stdout",
       "text": [
        "\r",
        "Computed features for frame 87 of 1280 in 0.07661485672"
       ]
      },
      {
       "output_type": "stream",
       "stream": "stdout",
       "text": [
        "\r",
        "Computed features for frame 88 of 1280 in 0.080817937851"
       ]
      },
      {
       "output_type": "stream",
       "stream": "stdout",
       "text": [
        "\r",
        "Computed features for frame 89 of 1280 in 0.0809290409088"
       ]
      },
      {
       "output_type": "stream",
       "stream": "stdout",
       "text": [
        "\r",
        "Computed features for frame 90 of 1280 in 0.0883731842041"
       ]
      },
      {
       "output_type": "stream",
       "stream": "stdout",
       "text": [
        "\r",
        "Computed features for frame 91 of 1280 in 0.0938248634338"
       ]
      },
      {
       "output_type": "stream",
       "stream": "stdout",
       "text": [
        "\r",
        "Computed features for frame 92 of 1280 in 0.0811522006989"
       ]
      },
      {
       "output_type": "stream",
       "stream": "stdout",
       "text": [
        "\r",
        "Computed features for frame 93 of 1280 in 0.0802550315857"
       ]
      },
      {
       "output_type": "stream",
       "stream": "stdout",
       "text": [
        "\r",
        "Computed features for frame 94 of 1280 in 0.0822610855103"
       ]
      },
      {
       "output_type": "stream",
       "stream": "stdout",
       "text": [
        "\r",
        "Computed features for frame 95 of 1280 in 0.0800981521606"
       ]
      },
      {
       "output_type": "stream",
       "stream": "stdout",
       "text": [
        "\r",
        "Computed features for frame 96 of 1280 in 0.0843541622162"
       ]
      },
      {
       "output_type": "stream",
       "stream": "stdout",
       "text": [
        "\r",
        "Computed features for frame 97 of 1280 in 0.0817401409149"
       ]
      },
      {
       "output_type": "stream",
       "stream": "stdout",
       "text": [
        "\r",
        "Computed features for frame 98 of 1280 in 0.0792908668518"
       ]
      },
      {
       "output_type": "stream",
       "stream": "stdout",
       "text": [
        "\r",
        "Computed features for frame 99 of 1280 in 0.0823857784271"
       ]
      },
      {
       "output_type": "stream",
       "stream": "stdout",
       "text": [
        "\r",
        "Computed features for frame 100 of 1280 in 0.086364030838"
       ]
      },
      {
       "output_type": "stream",
       "stream": "stdout",
       "text": [
        "\r",
        "Computed features for frame 101 of 1280 in 0.080374956131"
       ]
      },
      {
       "output_type": "stream",
       "stream": "stdout",
       "text": [
        "\r",
        "Computed features for frame 102 of 1280 in 0.0798749923706"
       ]
      },
      {
       "output_type": "stream",
       "stream": "stdout",
       "text": [
        "\r",
        "Computed features for frame 103 of 1280 in 0.0795571804047"
       ]
      },
      {
       "output_type": "stream",
       "stream": "stdout",
       "text": [
        "\r",
        "Computed features for frame 104 of 1280 in 0.0774168968201"
       ]
      },
      {
       "output_type": "stream",
       "stream": "stdout",
       "text": [
        "\r",
        "Computed features for frame 105 of 1280 in 0.0824840068817"
       ]
      },
      {
       "output_type": "stream",
       "stream": "stdout",
       "text": [
        "\r",
        "Computed features for frame 106 of 1280 in 0.0793089866638"
       ]
      },
      {
       "output_type": "stream",
       "stream": "stdout",
       "text": [
        "\r",
        "Computed features for frame 107 of 1280 in 0.0835018157959"
       ]
      },
      {
       "output_type": "stream",
       "stream": "stdout",
       "text": [
        "\r",
        "Computed features for frame 108 of 1280 in 0.0821990966797"
       ]
      },
      {
       "output_type": "stream",
       "stream": "stdout",
       "text": [
        "\r",
        "Computed features for frame 109 of 1280 in 0.0828499794006"
       ]
      },
      {
       "output_type": "stream",
       "stream": "stdout",
       "text": [
        "\r",
        "Computed features for frame 110 of 1280 in 0.0825951099396"
       ]
      },
      {
       "output_type": "stream",
       "stream": "stdout",
       "text": [
        "\r",
        "Computed features for frame 111 of 1280 in 0.0820589065552"
       ]
      },
      {
       "output_type": "stream",
       "stream": "stdout",
       "text": [
        "\r",
        "Computed features for frame 112 of 1280 in 0.0805480480194"
       ]
      },
      {
       "output_type": "stream",
       "stream": "stdout",
       "text": [
        "\r",
        "Computed features for frame 113 of 1280 in 0.0765058994293"
       ]
      },
      {
       "output_type": "stream",
       "stream": "stdout",
       "text": [
        "\r",
        "Computed features for frame 114 of 1280 in 0.082643032074"
       ]
      },
      {
       "output_type": "stream",
       "stream": "stdout",
       "text": [
        "\r",
        "Computed features for frame 115 of 1280 in 0.0792000293732"
       ]
      },
      {
       "output_type": "stream",
       "stream": "stdout",
       "text": [
        "\r",
        "Computed features for frame 116 of 1280 in 0.0839629173279"
       ]
      },
      {
       "output_type": "stream",
       "stream": "stdout",
       "text": [
        "\r",
        "Computed features for frame 117 of 1280 in 0.0787150859833"
       ]
      },
      {
       "output_type": "stream",
       "stream": "stdout",
       "text": [
        "\r",
        "Computed features for frame 118 of 1280 in 0.0781531333923"
       ]
      },
      {
       "output_type": "stream",
       "stream": "stdout",
       "text": [
        "\r",
        "Computed features for frame 119 of 1280 in 0.0754499435425"
       ]
      },
      {
       "output_type": "stream",
       "stream": "stdout",
       "text": [
        "\r",
        "Computed features for frame 120 of 1280 in 0.0778000354767"
       ]
      },
      {
       "output_type": "stream",
       "stream": "stdout",
       "text": [
        "\r",
        "Computed features for frame 121 of 1280 in 0.0753409862518"
       ]
      },
      {
       "output_type": "stream",
       "stream": "stdout",
       "text": [
        "\r",
        "Computed features for frame 122 of 1280 in 0.0797548294067"
       ]
      },
      {
       "output_type": "stream",
       "stream": "stdout",
       "text": [
        "\r",
        "Computed features for frame 123 of 1280 in 0.0804300308228"
       ]
      },
      {
       "output_type": "stream",
       "stream": "stdout",
       "text": [
        "\r",
        "Computed features for frame 124 of 1280 in 0.082466840744"
       ]
      },
      {
       "output_type": "stream",
       "stream": "stdout",
       "text": [
        "\r",
        "Computed features for frame 125 of 1280 in 0.0769259929657"
       ]
      },
      {
       "output_type": "stream",
       "stream": "stdout",
       "text": [
        "\r",
        "Computed features for frame 126 of 1280 in 0.0773448944092"
       ]
      },
      {
       "output_type": "stream",
       "stream": "stdout",
       "text": [
        "\r",
        "Computed features for frame 127 of 1280 in 0.077220916748"
       ]
      },
      {
       "output_type": "stream",
       "stream": "stdout",
       "text": [
        "\r",
        "Computed features for frame 128 of 1280 in 0.0816688537598"
       ]
      },
      {
       "output_type": "stream",
       "stream": "stdout",
       "text": [
        "\r",
        "Computed features for frame 129 of 1280 in 0.0792019367218"
       ]
      },
      {
       "output_type": "stream",
       "stream": "stdout",
       "text": [
        "\r",
        "Computed features for frame 130 of 1280 in 0.0806269645691"
       ]
      },
      {
       "output_type": "stream",
       "stream": "stdout",
       "text": [
        "\r",
        "Computed features for frame 131 of 1280 in 0.0811710357666"
       ]
      },
      {
       "output_type": "stream",
       "stream": "stdout",
       "text": [
        "\r",
        "Computed features for frame 132 of 1280 in 0.0803799629211"
       ]
      },
      {
       "output_type": "stream",
       "stream": "stdout",
       "text": [
        "\r",
        "Computed features for frame 133 of 1280 in 0.0885429382324"
       ]
      },
      {
       "output_type": "stream",
       "stream": "stdout",
       "text": [
        "\r",
        "Computed features for frame 134 of 1280 in 0.0809190273285"
       ]
      },
      {
       "output_type": "stream",
       "stream": "stdout",
       "text": [
        "\r",
        "Computed features for frame 135 of 1280 in 0.0817739963531"
       ]
      },
      {
       "output_type": "stream",
       "stream": "stdout",
       "text": [
        "\r",
        "Computed features for frame 136 of 1280 in 0.0770280361176"
       ]
      },
      {
       "output_type": "stream",
       "stream": "stdout",
       "text": [
        "\r",
        "Computed features for frame 137 of 1280 in 0.0813429355621"
       ]
      },
      {
       "output_type": "stream",
       "stream": "stdout",
       "text": [
        "\r",
        "Computed features for frame 138 of 1280 in 0.0806839466095"
       ]
      },
      {
       "output_type": "stream",
       "stream": "stdout",
       "text": [
        "\r",
        "Computed features for frame 139 of 1280 in 0.0802450180054"
       ]
      },
      {
       "output_type": "stream",
       "stream": "stdout",
       "text": [
        "\r",
        "Computed features for frame 140 of 1280 in 0.0838830471039"
       ]
      },
      {
       "output_type": "stream",
       "stream": "stdout",
       "text": [
        "\r",
        "Computed features for frame 141 of 1280 in 0.0805690288544"
       ]
      },
      {
       "output_type": "stream",
       "stream": "stdout",
       "text": [
        "\r",
        "Computed features for frame 142 of 1280 in 0.0778148174286"
       ]
      },
      {
       "output_type": "stream",
       "stream": "stdout",
       "text": [
        "\r",
        "Computed features for frame 143 of 1280 in 0.0791599750519"
       ]
      },
      {
       "output_type": "stream",
       "stream": "stdout",
       "text": [
        "\r",
        "Computed features for frame 144 of 1280 in 0.0833430290222"
       ]
      },
      {
       "output_type": "stream",
       "stream": "stdout",
       "text": [
        "\r",
        "Computed features for frame 145 of 1280 in 0.0835220813751"
       ]
      },
      {
       "output_type": "stream",
       "stream": "stdout",
       "text": [
        "\r",
        "Computed features for frame 146 of 1280 in 0.0841021537781"
       ]
      },
      {
       "output_type": "stream",
       "stream": "stdout",
       "text": [
        "\r",
        "Computed features for frame 147 of 1280 in 0.085236787796"
       ]
      },
      {
       "output_type": "stream",
       "stream": "stdout",
       "text": [
        "\r",
        "Computed features for frame 148 of 1280 in 0.0777509212494"
       ]
      },
      {
       "output_type": "stream",
       "stream": "stdout",
       "text": [
        "\r",
        "Computed features for frame 149 of 1280 in 0.0766379833221"
       ]
      },
      {
       "output_type": "stream",
       "stream": "stdout",
       "text": [
        "\r",
        "Computed features for frame 150 of 1280 in 0.0833342075348"
       ]
      },
      {
       "output_type": "stream",
       "stream": "stdout",
       "text": [
        "\r",
        "Computed features for frame 151 of 1280 in 0.0798571109772"
       ]
      },
      {
       "output_type": "stream",
       "stream": "stdout",
       "text": [
        "\r",
        "Computed features for frame 152 of 1280 in 0.0784361362457"
       ]
      },
      {
       "output_type": "stream",
       "stream": "stdout",
       "text": [
        "\r",
        "Computed features for frame 153 of 1280 in 0.0799260139465"
       ]
      },
      {
       "output_type": "stream",
       "stream": "stdout",
       "text": [
        "\r",
        "Computed features for frame 154 of 1280 in 0.0777761936188"
       ]
      },
      {
       "output_type": "stream",
       "stream": "stdout",
       "text": [
        "\r",
        "Computed features for frame 155 of 1280 in 0.0788490772247"
       ]
      },
      {
       "output_type": "stream",
       "stream": "stdout",
       "text": [
        "\r",
        "Computed features for frame 156 of 1280 in 0.082573890686"
       ]
      },
      {
       "output_type": "stream",
       "stream": "stdout",
       "text": [
        "\r",
        "Computed features for frame 157 of 1280 in 0.0772240161896"
       ]
      },
      {
       "output_type": "stream",
       "stream": "stdout",
       "text": [
        "\r",
        "Computed features for frame 158 of 1280 in 0.0764098167419"
       ]
      },
      {
       "output_type": "stream",
       "stream": "stdout",
       "text": [
        "\r",
        "Computed features for frame 159 of 1280 in 0.0795538425446"
       ]
      },
      {
       "output_type": "stream",
       "stream": "stdout",
       "text": [
        "\r",
        "Computed features for frame 160 of 1280 in 0.0774331092834"
       ]
      },
      {
       "output_type": "stream",
       "stream": "stdout",
       "text": [
        "\r",
        "Computed features for frame 161 of 1280 in 0.077220916748"
       ]
      },
      {
       "output_type": "stream",
       "stream": "stdout",
       "text": [
        "\r",
        "Computed features for frame 162 of 1280 in 0.0785369873047"
       ]
      },
      {
       "output_type": "stream",
       "stream": "stdout",
       "text": [
        "\r",
        "Computed features for frame 163 of 1280 in 0.0772709846497"
       ]
      },
      {
       "output_type": "stream",
       "stream": "stdout",
       "text": [
        "\r",
        "Computed features for frame 164 of 1280 in 0.0775740146637"
       ]
      },
      {
       "output_type": "stream",
       "stream": "stdout",
       "text": [
        "\r",
        "Computed features for frame 165 of 1280 in 0.0799160003662"
       ]
      },
      {
       "output_type": "stream",
       "stream": "stdout",
       "text": [
        "\r",
        "Computed features for frame 166 of 1280 in 0.0908849239349"
       ]
      },
      {
       "output_type": "stream",
       "stream": "stdout",
       "text": [
        "\r",
        "Computed features for frame 167 of 1280 in 0.0833389759064"
       ]
      },
      {
       "output_type": "stream",
       "stream": "stdout",
       "text": [
        "\r",
        "Computed features for frame 168 of 1280 in 0.0788450241089"
       ]
      },
      {
       "output_type": "stream",
       "stream": "stdout",
       "text": [
        "\r",
        "Computed features for frame 169 of 1280 in 0.0765399932861"
       ]
      },
      {
       "output_type": "stream",
       "stream": "stdout",
       "text": [
        "\r",
        "Computed features for frame 170 of 1280 in 0.0815761089325"
       ]
      },
      {
       "output_type": "stream",
       "stream": "stdout",
       "text": [
        "\r",
        "Computed features for frame 171 of 1280 in 0.0997889041901"
       ]
      },
      {
       "output_type": "stream",
       "stream": "stdout",
       "text": [
        "\r",
        "Computed features for frame 172 of 1280 in 0.0839779376984"
       ]
      },
      {
       "output_type": "stream",
       "stream": "stdout",
       "text": [
        "\r",
        "Computed features for frame 173 of 1280 in 0.103039979935"
       ]
      },
      {
       "output_type": "stream",
       "stream": "stdout",
       "text": [
        "\r",
        "Computed features for frame 174 of 1280 in 0.0910861492157"
       ]
      },
      {
       "output_type": "stream",
       "stream": "stdout",
       "text": [
        "\r",
        "Computed features for frame 175 of 1280 in 0.0797548294067"
       ]
      },
      {
       "output_type": "stream",
       "stream": "stdout",
       "text": [
        "\r",
        "Computed features for frame 176 of 1280 in 0.0796129703522"
       ]
      },
      {
       "output_type": "stream",
       "stream": "stdout",
       "text": [
        "\r",
        "Computed features for frame 177 of 1280 in 0.0815019607544"
       ]
      },
      {
       "output_type": "stream",
       "stream": "stdout",
       "text": [
        "\r",
        "Computed features for frame 178 of 1280 in 0.0794529914856"
       ]
      },
      {
       "output_type": "stream",
       "stream": "stdout",
       "text": [
        "\r",
        "Computed features for frame 179 of 1280 in 0.0784261226654"
       ]
      },
      {
       "output_type": "stream",
       "stream": "stdout",
       "text": [
        "\r",
        "Computed features for frame 180 of 1280 in 0.0846130847931"
       ]
      },
      {
       "output_type": "stream",
       "stream": "stdout",
       "text": [
        "\r",
        "Computed features for frame 181 of 1280 in 0.0827341079712"
       ]
      },
      {
       "output_type": "stream",
       "stream": "stdout",
       "text": [
        "\r",
        "Computed features for frame 182 of 1280 in 0.0862529277802"
       ]
      },
      {
       "output_type": "stream",
       "stream": "stdout",
       "text": [
        "\r",
        "Computed features for frame 183 of 1280 in 0.0805912017822"
       ]
      },
      {
       "output_type": "stream",
       "stream": "stdout",
       "text": [
        "\r",
        "Computed features for frame 184 of 1280 in 0.0752139091492"
       ]
      },
      {
       "output_type": "stream",
       "stream": "stdout",
       "text": [
        "\r",
        "Computed features for frame 185 of 1280 in 0.0767240524292"
       ]
      },
      {
       "output_type": "stream",
       "stream": "stdout",
       "text": [
        "\r",
        "Computed features for frame 186 of 1280 in 0.0783040523529"
       ]
      },
      {
       "output_type": "stream",
       "stream": "stdout",
       "text": [
        "\r",
        "Computed features for frame 187 of 1280 in 0.0773270130157"
       ]
      },
      {
       "output_type": "stream",
       "stream": "stdout",
       "text": [
        "\r",
        "Computed features for frame 188 of 1280 in 0.0755040645599"
       ]
      },
      {
       "output_type": "stream",
       "stream": "stdout",
       "text": [
        "\r",
        "Computed features for frame 189 of 1280 in 0.0773019790649"
       ]
      },
      {
       "output_type": "stream",
       "stream": "stdout",
       "text": [
        "\r",
        "Computed features for frame 190 of 1280 in 0.0780780315399"
       ]
      },
      {
       "output_type": "stream",
       "stream": "stdout",
       "text": [
        "\r",
        "Computed features for frame 191 of 1280 in 0.0770978927612"
       ]
      },
      {
       "output_type": "stream",
       "stream": "stdout",
       "text": [
        "\r",
        "Computed features for frame 192 of 1280 in 0.079185962677"
       ]
      },
      {
       "output_type": "stream",
       "stream": "stdout",
       "text": [
        "\r",
        "Computed features for frame 193 of 1280 in 0.0836668014526"
       ]
      },
      {
       "output_type": "stream",
       "stream": "stdout",
       "text": [
        "\r",
        "Computed features for frame 194 of 1280 in 0.0847551822662"
       ]
      },
      {
       "output_type": "stream",
       "stream": "stdout",
       "text": [
        "\r",
        "Computed features for frame 195 of 1280 in 0.0923931598663"
       ]
      },
      {
       "output_type": "stream",
       "stream": "stdout",
       "text": [
        "\r",
        "Computed features for frame 196 of 1280 in 0.0991649627686"
       ]
      },
      {
       "output_type": "stream",
       "stream": "stdout",
       "text": [
        "\r",
        "Computed features for frame 197 of 1280 in 0.0767560005188"
       ]
      },
      {
       "output_type": "stream",
       "stream": "stdout",
       "text": [
        "\r",
        "Computed features for frame 198 of 1280 in 0.0837390422821"
       ]
      },
      {
       "output_type": "stream",
       "stream": "stdout",
       "text": [
        "\r",
        "Computed features for frame 199 of 1280 in 0.0887749195099"
       ]
      },
      {
       "output_type": "stream",
       "stream": "stdout",
       "text": [
        "\r",
        "Computed features for frame 200 of 1280 in 0.0788779258728"
       ]
      },
      {
       "output_type": "stream",
       "stream": "stdout",
       "text": [
        "\r",
        "Computed features for frame 201 of 1280 in 0.0786378383636"
       ]
      },
      {
       "output_type": "stream",
       "stream": "stdout",
       "text": [
        "\r",
        "Computed features for frame 202 of 1280 in 0.0799520015717"
       ]
      },
      {
       "output_type": "stream",
       "stream": "stdout",
       "text": [
        "\r",
        "Computed features for frame 203 of 1280 in 0.0778670310974"
       ]
      },
      {
       "output_type": "stream",
       "stream": "stdout",
       "text": [
        "\r",
        "Computed features for frame 204 of 1280 in 0.0804328918457"
       ]
      },
      {
       "output_type": "stream",
       "stream": "stdout",
       "text": [
        "\r",
        "Computed features for frame 205 of 1280 in 0.0899891853333"
       ]
      },
      {
       "output_type": "stream",
       "stream": "stdout",
       "text": [
        "\r",
        "Computed features for frame 206 of 1280 in 0.0796008110046"
       ]
      },
      {
       "output_type": "stream",
       "stream": "stdout",
       "text": [
        "\r",
        "Computed features for frame 207 of 1280 in 0.0808219909668"
       ]
      },
      {
       "output_type": "stream",
       "stream": "stdout",
       "text": [
        "\r",
        "Computed features for frame 208 of 1280 in 0.0813519954681"
       ]
      },
      {
       "output_type": "stream",
       "stream": "stdout",
       "text": [
        "\r",
        "Computed features for frame 209 of 1280 in 0.077465057373"
       ]
      },
      {
       "output_type": "stream",
       "stream": "stdout",
       "text": [
        "\r",
        "Computed features for frame 210 of 1280 in 0.0798728466034"
       ]
      },
      {
       "output_type": "stream",
       "stream": "stdout",
       "text": [
        "\r",
        "Computed features for frame 211 of 1280 in 0.0748341083527"
       ]
      },
      {
       "output_type": "stream",
       "stream": "stdout",
       "text": [
        "\r",
        "Computed features for frame 212 of 1280 in 0.0763511657715"
       ]
      },
      {
       "output_type": "stream",
       "stream": "stdout",
       "text": [
        "\r",
        "Computed features for frame 213 of 1280 in 0.0760321617126"
       ]
      },
      {
       "output_type": "stream",
       "stream": "stdout",
       "text": [
        "\r",
        "Computed features for frame 214 of 1280 in 0.0843439102173"
       ]
      },
      {
       "output_type": "stream",
       "stream": "stdout",
       "text": [
        "\r",
        "Computed features for frame 215 of 1280 in 0.076532125473"
       ]
      },
      {
       "output_type": "stream",
       "stream": "stdout",
       "text": [
        "\r",
        "Computed features for frame 216 of 1280 in 0.0786650180817"
       ]
      },
      {
       "output_type": "stream",
       "stream": "stdout",
       "text": [
        "\r",
        "Computed features for frame 217 of 1280 in 0.0846970081329"
       ]
      },
      {
       "output_type": "stream",
       "stream": "stdout",
       "text": [
        "\r",
        "Computed features for frame 218 of 1280 in 0.07830119133"
       ]
      },
      {
       "output_type": "stream",
       "stream": "stdout",
       "text": [
        "\r",
        "Computed features for frame 219 of 1280 in 0.0763959884644"
       ]
      },
      {
       "output_type": "stream",
       "stream": "stdout",
       "text": [
        "\r",
        "Computed features for frame 220 of 1280 in 0.0761568546295"
       ]
      },
      {
       "output_type": "stream",
       "stream": "stdout",
       "text": [
        "\r",
        "Computed features for frame 221 of 1280 in 0.0849969387054"
       ]
      },
      {
       "output_type": "stream",
       "stream": "stdout",
       "text": [
        "\r",
        "Computed features for frame 222 of 1280 in 0.0982320308685"
       ]
      },
      {
       "output_type": "stream",
       "stream": "stdout",
       "text": [
        "\r",
        "Computed features for frame 223 of 1280 in 0.0854148864746"
       ]
      },
      {
       "output_type": "stream",
       "stream": "stdout",
       "text": [
        "\r",
        "Computed features for frame 224 of 1280 in 0.088084936142"
       ]
      },
      {
       "output_type": "stream",
       "stream": "stdout",
       "text": [
        "\r",
        "Computed features for frame 225 of 1280 in 0.0855488777161"
       ]
      },
      {
       "output_type": "stream",
       "stream": "stdout",
       "text": [
        "\r",
        "Computed features for frame 226 of 1280 in 0.0829811096191"
       ]
      },
      {
       "output_type": "stream",
       "stream": "stdout",
       "text": [
        "\r",
        "Computed features for frame 227 of 1280 in 0.0835130214691"
       ]
      },
      {
       "output_type": "stream",
       "stream": "stdout",
       "text": [
        "\r",
        "Computed features for frame 228 of 1280 in 0.0898721218109"
       ]
      },
      {
       "output_type": "stream",
       "stream": "stdout",
       "text": [
        "\r",
        "Computed features for frame 229 of 1280 in 0.0898189544678"
       ]
      },
      {
       "output_type": "stream",
       "stream": "stdout",
       "text": [
        "\r",
        "Computed features for frame 230 of 1280 in 0.0801057815552"
       ]
      },
      {
       "output_type": "stream",
       "stream": "stdout",
       "text": [
        "\r",
        "Computed features for frame 231 of 1280 in 0.0820860862732"
       ]
      },
      {
       "output_type": "stream",
       "stream": "stdout",
       "text": [
        "\r",
        "Computed features for frame 232 of 1280 in 0.0784139633179"
       ]
      },
      {
       "output_type": "stream",
       "stream": "stdout",
       "text": [
        "\r",
        "Computed features for frame 233 of 1280 in 0.0776381492615"
       ]
      },
      {
       "output_type": "stream",
       "stream": "stdout",
       "text": [
        "\r",
        "Computed features for frame 234 of 1280 in 0.0813601016998"
       ]
      },
      {
       "output_type": "stream",
       "stream": "stdout",
       "text": [
        "\r",
        "Computed features for frame 235 of 1280 in 0.0770452022552"
       ]
      },
      {
       "output_type": "stream",
       "stream": "stdout",
       "text": [
        "\r",
        "Computed features for frame 236 of 1280 in 0.0833179950714"
       ]
      },
      {
       "output_type": "stream",
       "stream": "stdout",
       "text": [
        "\r",
        "Computed features for frame 237 of 1280 in 0.077152967453"
       ]
      },
      {
       "output_type": "stream",
       "stream": "stdout",
       "text": [
        "\r",
        "Computed features for frame 238 of 1280 in 0.0762591362"
       ]
      },
      {
       "output_type": "stream",
       "stream": "stdout",
       "text": [
        "\r",
        "Computed features for frame 239 of 1280 in 0.0754680633545"
       ]
      },
      {
       "output_type": "stream",
       "stream": "stdout",
       "text": [
        "\r",
        "Computed features for frame 240 of 1280 in 0.0794341564178"
       ]
      },
      {
       "output_type": "stream",
       "stream": "stdout",
       "text": [
        "\r",
        "Computed features for frame 241 of 1280 in 0.0784521102905"
       ]
      },
      {
       "output_type": "stream",
       "stream": "stdout",
       "text": [
        "\r",
        "Computed features for frame 242 of 1280 in 0.0836291313171"
       ]
      },
      {
       "output_type": "stream",
       "stream": "stdout",
       "text": [
        "\r",
        "Computed features for frame 243 of 1280 in 0.0771369934082"
       ]
      },
      {
       "output_type": "stream",
       "stream": "stdout",
       "text": [
        "\r",
        "Computed features for frame 244 of 1280 in 0.0785570144653"
       ]
      },
      {
       "output_type": "stream",
       "stream": "stdout",
       "text": [
        "\r",
        "Computed features for frame 245 of 1280 in 0.0795950889587"
       ]
      },
      {
       "output_type": "stream",
       "stream": "stdout",
       "text": [
        "\r",
        "Computed features for frame 246 of 1280 in 0.087336063385"
       ]
      },
      {
       "output_type": "stream",
       "stream": "stdout",
       "text": [
        "\r",
        "Computed features for frame 247 of 1280 in 0.086403131485"
       ]
      },
      {
       "output_type": "stream",
       "stream": "stdout",
       "text": [
        "\r",
        "Computed features for frame 248 of 1280 in 0.0774779319763"
       ]
      },
      {
       "output_type": "stream",
       "stream": "stdout",
       "text": [
        "\r",
        "Computed features for frame 249 of 1280 in 0.0759198665619"
       ]
      },
      {
       "output_type": "stream",
       "stream": "stdout",
       "text": [
        "\r",
        "Computed features for frame 250 of 1280 in 0.0754361152649"
       ]
      },
      {
       "output_type": "stream",
       "stream": "stdout",
       "text": [
        "\r",
        "Computed features for frame 251 of 1280 in 0.0805239677429"
       ]
      },
      {
       "output_type": "stream",
       "stream": "stdout",
       "text": [
        "\r",
        "Computed features for frame 252 of 1280 in 0.0764071941376"
       ]
      },
      {
       "output_type": "stream",
       "stream": "stdout",
       "text": [
        "\r",
        "Computed features for frame 253 of 1280 in 0.0823159217834"
       ]
      },
      {
       "output_type": "stream",
       "stream": "stdout",
       "text": [
        "\r",
        "Computed features for frame 254 of 1280 in 0.0795819759369"
       ]
      },
      {
       "output_type": "stream",
       "stream": "stdout",
       "text": [
        "\r",
        "Computed features for frame 255 of 1280 in 0.0823969841003"
       ]
      },
      {
       "output_type": "stream",
       "stream": "stdout",
       "text": [
        "\r",
        "Computed features for frame 256 of 1280 in 0.077654838562"
       ]
      },
      {
       "output_type": "stream",
       "stream": "stdout",
       "text": [
        "\r",
        "Computed features for frame 257 of 1280 in 0.0863449573517"
       ]
      },
      {
       "output_type": "stream",
       "stream": "stdout",
       "text": [
        "\r",
        "Computed features for frame 258 of 1280 in 0.0783131122589"
       ]
      },
      {
       "output_type": "stream",
       "stream": "stdout",
       "text": [
        "\r",
        "Computed features for frame 259 of 1280 in 0.0772290229797"
       ]
      },
      {
       "output_type": "stream",
       "stream": "stdout",
       "text": [
        "\r",
        "Computed features for frame 260 of 1280 in 0.0761780738831"
       ]
      },
      {
       "output_type": "stream",
       "stream": "stdout",
       "text": [
        "\r",
        "Computed features for frame 261 of 1280 in 0.0770359039307"
       ]
      },
      {
       "output_type": "stream",
       "stream": "stdout",
       "text": [
        "\r",
        "Computed features for frame 262 of 1280 in 0.0770199298859"
       ]
      },
      {
       "output_type": "stream",
       "stream": "stdout",
       "text": [
        "\r",
        "Computed features for frame 263 of 1280 in 0.0828490257263"
       ]
      },
      {
       "output_type": "stream",
       "stream": "stdout",
       "text": [
        "\r",
        "Computed features for frame 264 of 1280 in 0.0779118537903"
       ]
      },
      {
       "output_type": "stream",
       "stream": "stdout",
       "text": [
        "\r",
        "Computed features for frame 265 of 1280 in 0.0760219097137"
       ]
      },
      {
       "output_type": "stream",
       "stream": "stdout",
       "text": [
        "\r",
        "Computed features for frame 266 of 1280 in 0.0759370326996"
       ]
      },
      {
       "output_type": "stream",
       "stream": "stdout",
       "text": [
        "\r",
        "Computed features for frame 267 of 1280 in 0.0838189125061"
       ]
      },
      {
       "output_type": "stream",
       "stream": "stdout",
       "text": [
        "\r",
        "Computed features for frame 268 of 1280 in 0.0905938148499"
       ]
      },
      {
       "output_type": "stream",
       "stream": "stdout",
       "text": [
        "\r",
        "Computed features for frame 269 of 1280 in 0.0979151725769"
       ]
      },
      {
       "output_type": "stream",
       "stream": "stdout",
       "text": [
        "\r",
        "Computed features for frame 270 of 1280 in 0.0888288021088"
       ]
      },
      {
       "output_type": "stream",
       "stream": "stdout",
       "text": [
        "\r",
        "Computed features for frame 271 of 1280 in 0.0926260948181"
       ]
      },
      {
       "output_type": "stream",
       "stream": "stdout",
       "text": [
        "\r",
        "Computed features for frame 272 of 1280 in 0.0822420120239"
       ]
      },
      {
       "output_type": "stream",
       "stream": "stdout",
       "text": [
        "\r",
        "Computed features for frame 273 of 1280 in 0.101819992065"
       ]
      },
      {
       "output_type": "stream",
       "stream": "stdout",
       "text": [
        "\r",
        "Computed features for frame 274 of 1280 in 0.0891070365906"
       ]
      },
      {
       "output_type": "stream",
       "stream": "stdout",
       "text": [
        "\r",
        "Computed features for frame 275 of 1280 in 0.0916509628296"
       ]
      },
      {
       "output_type": "stream",
       "stream": "stdout",
       "text": [
        "\r",
        "Computed features for frame 276 of 1280 in 0.0884511470795"
       ]
      },
      {
       "output_type": "stream",
       "stream": "stdout",
       "text": [
        "\r",
        "Computed features for frame 277 of 1280 in 0.0868759155273"
       ]
      },
      {
       "output_type": "stream",
       "stream": "stdout",
       "text": [
        "\r",
        "Computed features for frame 278 of 1280 in 0.081375837326"
       ]
      },
      {
       "output_type": "stream",
       "stream": "stdout",
       "text": [
        "\r",
        "Computed features for frame 279 of 1280 in 0.0780999660492"
       ]
      },
      {
       "output_type": "stream",
       "stream": "stdout",
       "text": [
        "\r",
        "Computed features for frame 280 of 1280 in 0.0794579982758"
       ]
      },
      {
       "output_type": "stream",
       "stream": "stdout",
       "text": [
        "\r",
        "Computed features for frame 281 of 1280 in 0.109004974365"
       ]
      },
      {
       "output_type": "stream",
       "stream": "stdout",
       "text": [
        "\r",
        "Computed features for frame 282 of 1280 in 0.0854940414429"
       ]
      },
      {
       "output_type": "stream",
       "stream": "stdout",
       "text": [
        "\r",
        "Computed features for frame 283 of 1280 in 0.0842559337616"
       ]
      },
      {
       "output_type": "stream",
       "stream": "stdout",
       "text": [
        "\r",
        "Computed features for frame 284 of 1280 in 0.085177898407"
       ]
      },
      {
       "output_type": "stream",
       "stream": "stdout",
       "text": [
        "\r",
        "Computed features for frame 285 of 1280 in 0.0921919345856"
       ]
      },
      {
       "output_type": "stream",
       "stream": "stdout",
       "text": [
        "\r",
        "Computed features for frame 286 of 1280 in 0.0819380283356"
       ]
      },
      {
       "output_type": "stream",
       "stream": "stdout",
       "text": [
        "\r",
        "Computed features for frame 287 of 1280 in 0.110342025757"
       ]
      },
      {
       "output_type": "stream",
       "stream": "stdout",
       "text": [
        "\r",
        "Computed features for frame 288 of 1280 in 0.100749015808"
       ]
      },
      {
       "output_type": "stream",
       "stream": "stdout",
       "text": [
        "\r",
        "Computed features for frame 289 of 1280 in 0.0800349712372"
       ]
      },
      {
       "output_type": "stream",
       "stream": "stdout",
       "text": [
        "\r",
        "Computed features for frame 290 of 1280 in 0.0816698074341"
       ]
      },
      {
       "output_type": "stream",
       "stream": "stdout",
       "text": [
        "\r",
        "Computed features for frame 291 of 1280 in 0.0821840763092"
       ]
      },
      {
       "output_type": "stream",
       "stream": "stdout",
       "text": [
        "\r",
        "Computed features for frame 292 of 1280 in 0.111940145493"
       ]
      },
      {
       "output_type": "stream",
       "stream": "stdout",
       "text": [
        "\r",
        "Computed features for frame 293 of 1280 in 0.0800518989563"
       ]
      },
      {
       "output_type": "stream",
       "stream": "stdout",
       "text": [
        "\r",
        "Computed features for frame 294 of 1280 in 0.0832679271698"
       ]
      },
      {
       "output_type": "stream",
       "stream": "stdout",
       "text": [
        "\r",
        "Computed features for frame 295 of 1280 in 0.082053899765"
       ]
      },
      {
       "output_type": "stream",
       "stream": "stdout",
       "text": [
        "\r",
        "Computed features for frame 296 of 1280 in 0.0815949440002"
       ]
      },
      {
       "output_type": "stream",
       "stream": "stdout",
       "text": [
        "\r",
        "Computed features for frame 297 of 1280 in 0.0938310623169"
       ]
      },
      {
       "output_type": "stream",
       "stream": "stdout",
       "text": [
        "\r",
        "Computed features for frame 298 of 1280 in 0.0828120708466"
       ]
      },
      {
       "output_type": "stream",
       "stream": "stdout",
       "text": [
        "\r",
        "Computed features for frame 299 of 1280 in 0.0829248428345"
       ]
      },
      {
       "output_type": "stream",
       "stream": "stdout",
       "text": [
        "\r",
        "Computed features for frame 300 of 1280 in 0.0894830226898"
       ]
      },
      {
       "output_type": "stream",
       "stream": "stdout",
       "text": [
        "\r",
        "Computed features for frame 301 of 1280 in 0.0808129310608"
       ]
      },
      {
       "output_type": "stream",
       "stream": "stdout",
       "text": [
        "\r",
        "Computed features for frame 302 of 1280 in 0.07856798172"
       ]
      },
      {
       "output_type": "stream",
       "stream": "stdout",
       "text": [
        "\r",
        "Computed features for frame 303 of 1280 in 0.0771090984344"
       ]
      },
      {
       "output_type": "stream",
       "stream": "stdout",
       "text": [
        "\r",
        "Computed features for frame 304 of 1280 in 0.0861570835114"
       ]
      },
      {
       "output_type": "stream",
       "stream": "stdout",
       "text": [
        "\r",
        "Computed features for frame 305 of 1280 in 0.0805959701538"
       ]
      },
      {
       "output_type": "stream",
       "stream": "stdout",
       "text": [
        "\r",
        "Computed features for frame 306 of 1280 in 0.0794939994812"
       ]
      },
      {
       "output_type": "stream",
       "stream": "stdout",
       "text": [
        "\r",
        "Computed features for frame 307 of 1280 in 0.0765039920807"
       ]
      },
      {
       "output_type": "stream",
       "stream": "stdout",
       "text": [
        "\r",
        "Computed features for frame 308 of 1280 in 0.0785188674927"
       ]
      },
      {
       "output_type": "stream",
       "stream": "stdout",
       "text": [
        "\r",
        "Computed features for frame 309 of 1280 in 0.0807359218597"
       ]
      },
      {
       "output_type": "stream",
       "stream": "stdout",
       "text": [
        "\r",
        "Computed features for frame 310 of 1280 in 0.0834329128265"
       ]
      },
      {
       "output_type": "stream",
       "stream": "stdout",
       "text": [
        "\r",
        "Computed features for frame 311 of 1280 in 0.0783250331879"
       ]
      },
      {
       "output_type": "stream",
       "stream": "stdout",
       "text": [
        "\r",
        "Computed features for frame 312 of 1280 in 0.0785040855408"
       ]
      },
      {
       "output_type": "stream",
       "stream": "stdout",
       "text": [
        "\r",
        "Computed features for frame 313 of 1280 in 0.0811469554901"
       ]
      },
      {
       "output_type": "stream",
       "stream": "stdout",
       "text": [
        "\r",
        "Computed features for frame 314 of 1280 in 0.0781109333038"
       ]
      },
      {
       "output_type": "stream",
       "stream": "stdout",
       "text": [
        "\r",
        "Computed features for frame 315 of 1280 in 0.0776488780975"
       ]
      },
      {
       "output_type": "stream",
       "stream": "stdout",
       "text": [
        "\r",
        "Computed features for frame 316 of 1280 in 0.0762670040131"
       ]
      },
      {
       "output_type": "stream",
       "stream": "stdout",
       "text": [
        "\r",
        "Computed features for frame 317 of 1280 in 0.0789289474487"
       ]
      },
      {
       "output_type": "stream",
       "stream": "stdout",
       "text": [
        "\r",
        "Computed features for frame 318 of 1280 in 0.0814909934998"
       ]
      },
      {
       "output_type": "stream",
       "stream": "stdout",
       "text": [
        "\r",
        "Computed features for frame 319 of 1280 in 0.0846869945526"
       ]
      },
      {
       "output_type": "stream",
       "stream": "stdout",
       "text": [
        "\r",
        "Computed features for frame 320 of 1280 in 0.0832269191742"
       ]
      },
      {
       "output_type": "stream",
       "stream": "stdout",
       "text": [
        "\r",
        "Computed features for frame 321 of 1280 in 0.0842609405518"
       ]
      },
      {
       "output_type": "stream",
       "stream": "stdout",
       "text": [
        "\r",
        "Computed features for frame 322 of 1280 in 0.0928490161896"
       ]
      },
      {
       "output_type": "stream",
       "stream": "stdout",
       "text": [
        "\r",
        "Computed features for frame 323 of 1280 in 0.0782561302185"
       ]
      },
      {
       "output_type": "stream",
       "stream": "stdout",
       "text": [
        "\r",
        "Computed features for frame 324 of 1280 in 0.085853099823"
       ]
      },
      {
       "output_type": "stream",
       "stream": "stdout",
       "text": [
        "\r",
        "Computed features for frame 325 of 1280 in 0.0777227878571"
       ]
      },
      {
       "output_type": "stream",
       "stream": "stdout",
       "text": [
        "\r",
        "Computed features for frame 326 of 1280 in 0.119235992432"
       ]
      },
      {
       "output_type": "stream",
       "stream": "stdout",
       "text": [
        "\r",
        "Computed features for frame 327 of 1280 in 0.0796689987183"
       ]
      },
      {
       "output_type": "stream",
       "stream": "stdout",
       "text": [
        "\r",
        "Computed features for frame 328 of 1280 in 0.0851721763611"
       ]
      },
      {
       "output_type": "stream",
       "stream": "stdout",
       "text": [
        "\r",
        "Computed features for frame 329 of 1280 in 0.0780258178711"
       ]
      },
      {
       "output_type": "stream",
       "stream": "stdout",
       "text": [
        "\r",
        "Computed features for frame 330 of 1280 in 0.0961580276489"
       ]
      },
      {
       "output_type": "stream",
       "stream": "stdout",
       "text": [
        "\r",
        "Computed features for frame 331 of 1280 in 0.0783219337463"
       ]
      },
      {
       "output_type": "stream",
       "stream": "stdout",
       "text": [
        "\r",
        "Computed features for frame 332 of 1280 in 0.0766620635986"
       ]
      },
      {
       "output_type": "stream",
       "stream": "stdout",
       "text": [
        "\r",
        "Computed features for frame 333 of 1280 in 0.079892873764"
       ]
      },
      {
       "output_type": "stream",
       "stream": "stdout",
       "text": [
        "\r",
        "Computed features for frame 334 of 1280 in 0.0774350166321"
       ]
      },
      {
       "output_type": "stream",
       "stream": "stdout",
       "text": [
        "\r",
        "Computed features for frame 335 of 1280 in 0.0838239192963"
       ]
      },
      {
       "output_type": "stream",
       "stream": "stdout",
       "text": [
        "\r",
        "Computed features for frame 336 of 1280 in 0.0780439376831"
       ]
      },
      {
       "output_type": "stream",
       "stream": "stdout",
       "text": [
        "\r",
        "Computed features for frame 337 of 1280 in 0.0851120948792"
       ]
      },
      {
       "output_type": "stream",
       "stream": "stdout",
       "text": [
        "\r",
        "Computed features for frame 338 of 1280 in 0.0784709453583"
       ]
      },
      {
       "output_type": "stream",
       "stream": "stdout",
       "text": [
        "\r",
        "Computed features for frame 339 of 1280 in 0.0791611671448"
       ]
      },
      {
       "output_type": "stream",
       "stream": "stdout",
       "text": [
        "\r",
        "Computed features for frame 340 of 1280 in 0.0803909301758"
       ]
      },
      {
       "output_type": "stream",
       "stream": "stdout",
       "text": [
        "\r",
        "Computed features for frame 341 of 1280 in 0.0793972015381"
       ]
      },
      {
       "output_type": "stream",
       "stream": "stdout",
       "text": [
        "\r",
        "Computed features for frame 342 of 1280 in 0.0785281658173"
       ]
      },
      {
       "output_type": "stream",
       "stream": "stdout",
       "text": [
        "\r",
        "Computed features for frame 343 of 1280 in 0.0760049819946"
       ]
      },
      {
       "output_type": "stream",
       "stream": "stdout",
       "text": [
        "\r",
        "Computed features for frame 344 of 1280 in 0.0875999927521"
       ]
      },
      {
       "output_type": "stream",
       "stream": "stdout",
       "text": [
        "\r",
        "Computed features for frame 345 of 1280 in 0.0877990722656"
       ]
      },
      {
       "output_type": "stream",
       "stream": "stdout",
       "text": [
        "\r",
        "Computed features for frame 346 of 1280 in 0.084018945694"
       ]
      },
      {
       "output_type": "stream",
       "stream": "stdout",
       "text": [
        "\r",
        "Computed features for frame 347 of 1280 in 0.0775520801544"
       ]
      },
      {
       "output_type": "stream",
       "stream": "stdout",
       "text": [
        "\r",
        "Computed features for frame 348 of 1280 in 0.0830090045929"
       ]
      },
      {
       "output_type": "stream",
       "stream": "stdout",
       "text": [
        "\r",
        "Computed features for frame 349 of 1280 in 0.0797679424286"
       ]
      },
      {
       "output_type": "stream",
       "stream": "stdout",
       "text": [
        "\r",
        "Computed features for frame 350 of 1280 in 0.0858271121979"
       ]
      },
      {
       "output_type": "stream",
       "stream": "stdout",
       "text": [
        "\r",
        "Computed features for frame 351 of 1280 in 0.0917029380798"
       ]
      },
      {
       "output_type": "stream",
       "stream": "stdout",
       "text": [
        "\r",
        "Computed features for frame 352 of 1280 in 0.0803909301758"
       ]
      },
      {
       "output_type": "stream",
       "stream": "stdout",
       "text": [
        "\r",
        "Computed features for frame 353 of 1280 in 0.082123041153"
       ]
      },
      {
       "output_type": "stream",
       "stream": "stdout",
       "text": [
        "\r",
        "Computed features for frame 354 of 1280 in 0.07963514328"
       ]
      },
      {
       "output_type": "stream",
       "stream": "stdout",
       "text": [
        "\r",
        "Computed features for frame 355 of 1280 in 0.0860049724579"
       ]
      },
      {
       "output_type": "stream",
       "stream": "stdout",
       "text": [
        "\r",
        "Computed features for frame 356 of 1280 in 0.0758759975433"
       ]
      },
      {
       "output_type": "stream",
       "stream": "stdout",
       "text": [
        "\r",
        "Computed features for frame 357 of 1280 in 0.0788679122925"
       ]
      },
      {
       "output_type": "stream",
       "stream": "stdout",
       "text": [
        "\r",
        "Computed features for frame 358 of 1280 in 0.0806441307068"
       ]
      },
      {
       "output_type": "stream",
       "stream": "stdout",
       "text": [
        "\r",
        "Computed features for frame 359 of 1280 in 0.0784628391266"
       ]
      },
      {
       "output_type": "stream",
       "stream": "stdout",
       "text": [
        "\r",
        "Computed features for frame 360 of 1280 in 0.0824010372162"
       ]
      },
      {
       "output_type": "stream",
       "stream": "stdout",
       "text": [
        "\r",
        "Computed features for frame 361 of 1280 in 0.0845320224762"
       ]
      },
      {
       "output_type": "stream",
       "stream": "stdout",
       "text": [
        "\r",
        "Computed features for frame 362 of 1280 in 0.0827770233154"
       ]
      },
      {
       "output_type": "stream",
       "stream": "stdout",
       "text": [
        "\r",
        "Computed features for frame 363 of 1280 in 0.0798959732056"
       ]
      },
      {
       "output_type": "stream",
       "stream": "stdout",
       "text": [
        "\r",
        "Computed features for frame 364 of 1280 in 0.0798268318176"
       ]
      },
      {
       "output_type": "stream",
       "stream": "stdout",
       "text": [
        "\r",
        "Computed features for frame 365 of 1280 in 0.0782098770142"
       ]
      },
      {
       "output_type": "stream",
       "stream": "stdout",
       "text": [
        "\r",
        "Computed features for frame 366 of 1280 in 0.0780799388885"
       ]
      },
      {
       "output_type": "stream",
       "stream": "stdout",
       "text": [
        "\r",
        "Computed features for frame 367 of 1280 in 0.0762250423431"
       ]
      },
      {
       "output_type": "stream",
       "stream": "stdout",
       "text": [
        "\r",
        "Computed features for frame 368 of 1280 in 0.0793871879578"
       ]
      },
      {
       "output_type": "stream",
       "stream": "stdout",
       "text": [
        "\r",
        "Computed features for frame 369 of 1280 in 0.0792059898376"
       ]
      },
      {
       "output_type": "stream",
       "stream": "stdout",
       "text": [
        "\r",
        "Computed features for frame 370 of 1280 in 0.084489107132"
       ]
      },
      {
       "output_type": "stream",
       "stream": "stdout",
       "text": [
        "\r",
        "Computed features for frame 371 of 1280 in 0.07701420784"
       ]
      },
      {
       "output_type": "stream",
       "stream": "stdout",
       "text": [
        "\r",
        "Computed features for frame 372 of 1280 in 0.0839841365814"
       ]
      },
      {
       "output_type": "stream",
       "stream": "stdout",
       "text": [
        "\r",
        "Computed features for frame 373 of 1280 in 0.080060005188"
       ]
      },
      {
       "output_type": "stream",
       "stream": "stdout",
       "text": [
        "\r",
        "Computed features for frame 374 of 1280 in 0.0775551795959"
       ]
      },
      {
       "output_type": "stream",
       "stream": "stdout",
       "text": [
        "\r",
        "Computed features for frame 375 of 1280 in 0.083016872406"
       ]
      },
      {
       "output_type": "stream",
       "stream": "stdout",
       "text": [
        "\r",
        "Computed features for frame 376 of 1280 in 0.082946062088"
       ]
      },
      {
       "output_type": "stream",
       "stream": "stdout",
       "text": [
        "\r",
        "Computed features for frame 377 of 1280 in 0.0817310810089"
       ]
      },
      {
       "output_type": "stream",
       "stream": "stdout",
       "text": [
        "\r",
        "Computed features for frame 378 of 1280 in 0.0797550678253"
       ]
      },
      {
       "output_type": "stream",
       "stream": "stdout",
       "text": [
        "\r",
        "Computed features for frame 379 of 1280 in 0.077358007431"
       ]
      },
      {
       "output_type": "stream",
       "stream": "stdout",
       "text": [
        "\r",
        "Computed features for frame 380 of 1280 in 0.0763170719147"
       ]
      },
      {
       "output_type": "stream",
       "stream": "stdout",
       "text": [
        "\r",
        "Computed features for frame 381 of 1280 in 0.0804619789124"
       ]
      },
      {
       "output_type": "stream",
       "stream": "stdout",
       "text": [
        "\r",
        "Computed features for frame 382 of 1280 in 0.0997200012207"
       ]
      },
      {
       "output_type": "stream",
       "stream": "stdout",
       "text": [
        "\r",
        "Computed features for frame 383 of 1280 in 0.0851919651031"
       ]
      },
      {
       "output_type": "stream",
       "stream": "stdout",
       "text": [
        "\r",
        "Computed features for frame 384 of 1280 in 0.0788230895996"
       ]
      },
      {
       "output_type": "stream",
       "stream": "stdout",
       "text": [
        "\r",
        "Computed features for frame 385 of 1280 in 0.0812599658966"
       ]
      },
      {
       "output_type": "stream",
       "stream": "stdout",
       "text": [
        "\r",
        "Computed features for frame 386 of 1280 in 0.0764949321747"
       ]
      },
      {
       "output_type": "stream",
       "stream": "stdout",
       "text": [
        "\r",
        "Computed features for frame 387 of 1280 in 0.0761890411377"
       ]
      },
      {
       "output_type": "stream",
       "stream": "stdout",
       "text": [
        "\r",
        "Computed features for frame 388 of 1280 in 0.0934219360352"
       ]
      },
      {
       "output_type": "stream",
       "stream": "stdout",
       "text": [
        "\r",
        "Computed features for frame 389 of 1280 in 0.0775170326233"
       ]
      },
      {
       "output_type": "stream",
       "stream": "stdout",
       "text": [
        "\r",
        "Computed features for frame 390 of 1280 in 0.0803978443146"
       ]
      },
      {
       "output_type": "stream",
       "stream": "stdout",
       "text": [
        "\r",
        "Computed features for frame 391 of 1280 in 0.0782489776611"
       ]
      },
      {
       "output_type": "stream",
       "stream": "stdout",
       "text": [
        "\r",
        "Computed features for frame 392 of 1280 in 0.0770139694214"
       ]
      },
      {
       "output_type": "stream",
       "stream": "stdout",
       "text": [
        "\r",
        "Computed features for frame 393 of 1280 in 0.0802521705627"
       ]
      },
      {
       "output_type": "stream",
       "stream": "stdout",
       "text": [
        "\r",
        "Computed features for frame 394 of 1280 in 0.0789310932159"
       ]
      },
      {
       "output_type": "stream",
       "stream": "stdout",
       "text": [
        "\r",
        "Computed features for frame 395 of 1280 in 0.0782690048218"
       ]
      },
      {
       "output_type": "stream",
       "stream": "stdout",
       "text": [
        "\r",
        "Computed features for frame 396 of 1280 in 0.0771718025208"
       ]
      },
      {
       "output_type": "stream",
       "stream": "stdout",
       "text": [
        "\r",
        "Computed features for frame 397 of 1280 in 0.0756409168243"
       ]
      },
      {
       "output_type": "stream",
       "stream": "stdout",
       "text": [
        "\r",
        "Computed features for frame 398 of 1280 in 0.0761358737946"
       ]
      },
      {
       "output_type": "stream",
       "stream": "stdout",
       "text": [
        "\r",
        "Computed features for frame 399 of 1280 in 0.0770609378815"
       ]
      },
      {
       "output_type": "stream",
       "stream": "stdout",
       "text": [
        "\r",
        "Computed features for frame 400 of 1280 in 0.077908039093"
       ]
      },
      {
       "output_type": "stream",
       "stream": "stdout",
       "text": [
        "\r",
        "Computed features for frame 401 of 1280 in 0.0780999660492"
       ]
      },
      {
       "output_type": "stream",
       "stream": "stdout",
       "text": [
        "\r",
        "Computed features for frame 402 of 1280 in 0.0792269706726"
       ]
      },
      {
       "output_type": "stream",
       "stream": "stdout",
       "text": [
        "\r",
        "Computed features for frame 403 of 1280 in 0.0778000354767"
       ]
      },
      {
       "output_type": "stream",
       "stream": "stdout",
       "text": [
        "\r",
        "Computed features for frame 404 of 1280 in 0.0765860080719"
       ]
      },
      {
       "output_type": "stream",
       "stream": "stdout",
       "text": [
        "\r",
        "Computed features for frame 405 of 1280 in 0.0784349441528"
       ]
      },
      {
       "output_type": "stream",
       "stream": "stdout",
       "text": [
        "\r",
        "Computed features for frame 406 of 1280 in 0.0755350589752"
       ]
      },
      {
       "output_type": "stream",
       "stream": "stdout",
       "text": [
        "\r",
        "Computed features for frame 407 of 1280 in 0.0782248973846"
       ]
      },
      {
       "output_type": "stream",
       "stream": "stdout",
       "text": [
        "\r",
        "Computed features for frame 408 of 1280 in 0.0799520015717"
       ]
      },
      {
       "output_type": "stream",
       "stream": "stdout",
       "text": [
        "\r",
        "Computed features for frame 409 of 1280 in 0.0779650211334"
       ]
      },
      {
       "output_type": "stream",
       "stream": "stdout",
       "text": [
        "\r",
        "Computed features for frame 410 of 1280 in 0.075973033905"
       ]
      },
      {
       "output_type": "stream",
       "stream": "stdout",
       "text": [
        "\r",
        "Computed features for frame 411 of 1280 in 0.0809228420258"
       ]
      },
      {
       "output_type": "stream",
       "stream": "stdout",
       "text": [
        "\r",
        "Computed features for frame 412 of 1280 in 0.0800368785858"
       ]
      },
      {
       "output_type": "stream",
       "stream": "stdout",
       "text": [
        "\r",
        "Computed features for frame 413 of 1280 in 0.0779700279236"
       ]
      },
      {
       "output_type": "stream",
       "stream": "stdout",
       "text": [
        "\r",
        "Computed features for frame 414 of 1280 in 0.0764229297638"
       ]
      },
      {
       "output_type": "stream",
       "stream": "stdout",
       "text": [
        "\r",
        "Computed features for frame 415 of 1280 in 0.0773088932037"
       ]
      },
      {
       "output_type": "stream",
       "stream": "stdout",
       "text": [
        "\r",
        "Computed features for frame 416 of 1280 in 0.0766398906708"
       ]
      },
      {
       "output_type": "stream",
       "stream": "stdout",
       "text": [
        "\r",
        "Computed features for frame 417 of 1280 in 0.0781729221344"
       ]
      },
      {
       "output_type": "stream",
       "stream": "stdout",
       "text": [
        "\r",
        "Computed features for frame 418 of 1280 in 0.0883839130402"
       ]
      },
      {
       "output_type": "stream",
       "stream": "stdout",
       "text": [
        "\r",
        "Computed features for frame 419 of 1280 in 0.0995919704437"
       ]
      },
      {
       "output_type": "stream",
       "stream": "stdout",
       "text": [
        "\r",
        "Computed features for frame 420 of 1280 in 0.0900959968567"
       ]
      },
      {
       "output_type": "stream",
       "stream": "stdout",
       "text": [
        "\r",
        "Computed features for frame 421 of 1280 in 0.0804450511932"
       ]
      },
      {
       "output_type": "stream",
       "stream": "stdout",
       "text": [
        "\r",
        "Computed features for frame 422 of 1280 in 0.0871200561523"
       ]
      },
      {
       "output_type": "stream",
       "stream": "stdout",
       "text": [
        "\r",
        "Computed features for frame 423 of 1280 in 0.0767588615417"
       ]
      },
      {
       "output_type": "stream",
       "stream": "stdout",
       "text": [
        "\r",
        "Computed features for frame 424 of 1280 in 0.0824890136719"
       ]
      },
      {
       "output_type": "stream",
       "stream": "stdout",
       "text": [
        "\r",
        "Computed features for frame 425 of 1280 in 0.0783989429474"
       ]
      },
      {
       "output_type": "stream",
       "stream": "stdout",
       "text": [
        "\r",
        "Computed features for frame 426 of 1280 in 0.074835062027"
       ]
      },
      {
       "output_type": "stream",
       "stream": "stdout",
       "text": [
        "\r",
        "Computed features for frame 427 of 1280 in 0.0753719806671"
       ]
      },
      {
       "output_type": "stream",
       "stream": "stdout",
       "text": [
        "\r",
        "Computed features for frame 428 of 1280 in 0.0753929615021"
       ]
      },
      {
       "output_type": "stream",
       "stream": "stdout",
       "text": [
        "\r",
        "Computed features for frame 429 of 1280 in 0.0761110782623"
       ]
      },
      {
       "output_type": "stream",
       "stream": "stdout",
       "text": [
        "\r",
        "Computed features for frame 430 of 1280 in 0.0749599933624"
       ]
      },
      {
       "output_type": "stream",
       "stream": "stdout",
       "text": [
        "\r",
        "Computed features for frame 431 of 1280 in 0.0753519535065"
       ]
      },
      {
       "output_type": "stream",
       "stream": "stdout",
       "text": [
        "\r",
        "Computed features for frame 432 of 1280 in 0.0756709575653"
       ]
      },
      {
       "output_type": "stream",
       "stream": "stdout",
       "text": [
        "\r",
        "Computed features for frame 433 of 1280 in 0.0783190727234"
       ]
      },
      {
       "output_type": "stream",
       "stream": "stdout",
       "text": [
        "\r",
        "Computed features for frame 434 of 1280 in 0.0774490833282"
       ]
      },
      {
       "output_type": "stream",
       "stream": "stdout",
       "text": [
        "\r",
        "Computed features for frame 435 of 1280 in 0.0804958343506"
       ]
      },
      {
       "output_type": "stream",
       "stream": "stdout",
       "text": [
        "\r",
        "Computed features for frame 436 of 1280 in 0.0799739360809"
       ]
      },
      {
       "output_type": "stream",
       "stream": "stdout",
       "text": [
        "\r",
        "Computed features for frame 437 of 1280 in 0.0801639556885"
       ]
      },
      {
       "output_type": "stream",
       "stream": "stdout",
       "text": [
        "\r",
        "Computed features for frame 438 of 1280 in 0.0806138515472"
       ]
      },
      {
       "output_type": "stream",
       "stream": "stdout",
       "text": [
        "\r",
        "Computed features for frame 439 of 1280 in 0.0779240131378"
       ]
      },
      {
       "output_type": "stream",
       "stream": "stdout",
       "text": [
        "\r",
        "Computed features for frame 440 of 1280 in 0.0779988765717"
       ]
      },
      {
       "output_type": "stream",
       "stream": "stdout",
       "text": [
        "\r",
        "Computed features for frame 441 of 1280 in 0.0786728858948"
       ]
      },
      {
       "output_type": "stream",
       "stream": "stdout",
       "text": [
        "\r",
        "Computed features for frame 442 of 1280 in 0.0798599720001"
       ]
      },
      {
       "output_type": "stream",
       "stream": "stdout",
       "text": [
        "\r",
        "Computed features for frame 443 of 1280 in 0.0779299736023"
       ]
      },
      {
       "output_type": "stream",
       "stream": "stdout",
       "text": [
        "\r",
        "Computed features for frame 444 of 1280 in 0.0783488750458"
       ]
      },
      {
       "output_type": "stream",
       "stream": "stdout",
       "text": [
        "\r",
        "Computed features for frame 445 of 1280 in 0.0768949985504"
       ]
      },
      {
       "output_type": "stream",
       "stream": "stdout",
       "text": [
        "\r",
        "Computed features for frame 446 of 1280 in 0.0834970474243"
       ]
      },
      {
       "output_type": "stream",
       "stream": "stdout",
       "text": [
        "\r",
        "Computed features for frame 447 of 1280 in 0.0791029930115"
       ]
      },
      {
       "output_type": "stream",
       "stream": "stdout",
       "text": [
        "\r",
        "Computed features for frame 448 of 1280 in 0.0923678874969"
       ]
      },
      {
       "output_type": "stream",
       "stream": "stdout",
       "text": [
        "\r",
        "Computed features for frame 449 of 1280 in 0.104130983353"
       ]
      },
      {
       "output_type": "stream",
       "stream": "stdout",
       "text": [
        "\r",
        "Computed features for frame 450 of 1280 in 0.122035980225"
       ]
      },
      {
       "output_type": "stream",
       "stream": "stdout",
       "text": [
        "\r",
        "Computed features for frame 451 of 1280 in 0.0899200439453"
       ]
      },
      {
       "output_type": "stream",
       "stream": "stdout",
       "text": [
        "\r",
        "Computed features for frame 452 of 1280 in 0.0786628723145"
       ]
      },
      {
       "output_type": "stream",
       "stream": "stdout",
       "text": [
        "\r",
        "Computed features for frame 453 of 1280 in 0.0811111927032"
       ]
      },
      {
       "output_type": "stream",
       "stream": "stdout",
       "text": [
        "\r",
        "Computed features for frame 454 of 1280 in 0.0760769844055"
       ]
      },
      {
       "output_type": "stream",
       "stream": "stdout",
       "text": [
        "\r",
        "Computed features for frame 455 of 1280 in 0.0832300186157"
       ]
      },
      {
       "output_type": "stream",
       "stream": "stdout",
       "text": [
        "\r",
        "Computed features for frame 456 of 1280 in 0.0806560516357"
       ]
      },
      {
       "output_type": "stream",
       "stream": "stdout",
       "text": [
        "\r",
        "Computed features for frame 457 of 1280 in 0.0792798995972"
       ]
      },
      {
       "output_type": "stream",
       "stream": "stdout",
       "text": [
        "\r",
        "Computed features for frame 458 of 1280 in 0.0796639919281"
       ]
      },
      {
       "output_type": "stream",
       "stream": "stdout",
       "text": [
        "\r",
        "Computed features for frame 459 of 1280 in 0.0836479663849"
       ]
      },
      {
       "output_type": "stream",
       "stream": "stdout",
       "text": [
        "\r",
        "Computed features for frame 460 of 1280 in 0.0838391780853"
       ]
      },
      {
       "output_type": "stream",
       "stream": "stdout",
       "text": [
        "\r",
        "Computed features for frame 461 of 1280 in 0.0799481868744"
       ]
      },
      {
       "output_type": "stream",
       "stream": "stdout",
       "text": [
        "\r",
        "Computed features for frame 462 of 1280 in 0.0817110538483"
       ]
      },
      {
       "output_type": "stream",
       "stream": "stdout",
       "text": [
        "\r",
        "Computed features for frame 463 of 1280 in 0.0837099552155"
       ]
      },
      {
       "output_type": "stream",
       "stream": "stdout",
       "text": [
        "\r",
        "Computed features for frame 464 of 1280 in 0.0966310501099"
       ]
      },
      {
       "output_type": "stream",
       "stream": "stdout",
       "text": [
        "\r",
        "Computed features for frame 465 of 1280 in 0.0795321464539"
       ]
      },
      {
       "output_type": "stream",
       "stream": "stdout",
       "text": [
        "\r",
        "Computed features for frame 466 of 1280 in 0.0788149833679"
       ]
      },
      {
       "output_type": "stream",
       "stream": "stdout",
       "text": [
        "\r",
        "Computed features for frame 467 of 1280 in 0.0871291160583"
       ]
      },
      {
       "output_type": "stream",
       "stream": "stdout",
       "text": [
        "\r",
        "Computed features for frame 468 of 1280 in 0.0810310840607"
       ]
      },
      {
       "output_type": "stream",
       "stream": "stdout",
       "text": [
        "\r",
        "Computed features for frame 469 of 1280 in 0.0795829296112"
       ]
      },
      {
       "output_type": "stream",
       "stream": "stdout",
       "text": [
        "\r",
        "Computed features for frame 470 of 1280 in 0.0873219966888"
       ]
      },
      {
       "output_type": "stream",
       "stream": "stdout",
       "text": [
        "\r",
        "Computed features for frame 471 of 1280 in 0.0801749229431"
       ]
      },
      {
       "output_type": "stream",
       "stream": "stdout",
       "text": [
        "\r",
        "Computed features for frame 472 of 1280 in 0.0776960849762"
       ]
      },
      {
       "output_type": "stream",
       "stream": "stdout",
       "text": [
        "\r",
        "Computed features for frame 473 of 1280 in 0.0789060592651"
       ]
      },
      {
       "output_type": "stream",
       "stream": "stdout",
       "text": [
        "\r",
        "Computed features for frame 474 of 1280 in 0.0786471366882"
       ]
      },
      {
       "output_type": "stream",
       "stream": "stdout",
       "text": [
        "\r",
        "Computed features for frame 475 of 1280 in 0.0773940086365"
       ]
      },
      {
       "output_type": "stream",
       "stream": "stdout",
       "text": [
        "\r",
        "Computed features for frame 476 of 1280 in 0.0786321163177"
       ]
      },
      {
       "output_type": "stream",
       "stream": "stdout",
       "text": [
        "\r",
        "Computed features for frame 477 of 1280 in 0.0823400020599"
       ]
      },
      {
       "output_type": "stream",
       "stream": "stdout",
       "text": [
        "\r",
        "Computed features for frame 478 of 1280 in 0.0923800468445"
       ]
      },
      {
       "output_type": "stream",
       "stream": "stdout",
       "text": [
        "\r",
        "Computed features for frame 479 of 1280 in 0.0887830257416"
       ]
      },
      {
       "output_type": "stream",
       "stream": "stdout",
       "text": [
        "\r",
        "Computed features for frame 480 of 1280 in 0.0881168842316"
       ]
      },
      {
       "output_type": "stream",
       "stream": "stdout",
       "text": [
        "\r",
        "Computed features for frame 481 of 1280 in 0.0977621078491"
       ]
      },
      {
       "output_type": "stream",
       "stream": "stdout",
       "text": [
        "\r",
        "Computed features for frame 482 of 1280 in 0.0840599536896"
       ]
      },
      {
       "output_type": "stream",
       "stream": "stdout",
       "text": [
        "\r",
        "Computed features for frame 483 of 1280 in 0.086658000946"
       ]
      },
      {
       "output_type": "stream",
       "stream": "stdout",
       "text": [
        "\r",
        "Computed features for frame 484 of 1280 in 0.0869479179382"
       ]
      },
      {
       "output_type": "stream",
       "stream": "stdout",
       "text": [
        "\r",
        "Computed features for frame 485 of 1280 in 0.0782008171082"
       ]
      },
      {
       "output_type": "stream",
       "stream": "stdout",
       "text": [
        "\r",
        "Computed features for frame 486 of 1280 in 0.087886095047"
       ]
      },
      {
       "output_type": "stream",
       "stream": "stdout",
       "text": [
        "\r",
        "Computed features for frame 487 of 1280 in 0.0778172016144"
       ]
      },
      {
       "output_type": "stream",
       "stream": "stdout",
       "text": [
        "\r",
        "Computed features for frame 488 of 1280 in 0.0787799358368"
       ]
      },
      {
       "output_type": "stream",
       "stream": "stdout",
       "text": [
        "\r",
        "Computed features for frame 489 of 1280 in 0.0781168937683"
       ]
      },
      {
       "output_type": "stream",
       "stream": "stdout",
       "text": [
        "\r",
        "Computed features for frame 490 of 1280 in 0.0801608562469"
       ]
      },
      {
       "output_type": "stream",
       "stream": "stdout",
       "text": [
        "\r",
        "Computed features for frame 491 of 1280 in 0.0826251506805"
       ]
      },
      {
       "output_type": "stream",
       "stream": "stdout",
       "text": [
        "\r",
        "Computed features for frame 492 of 1280 in 0.0796940326691"
       ]
      },
      {
       "output_type": "stream",
       "stream": "stdout",
       "text": [
        "\r",
        "Computed features for frame 493 of 1280 in 0.0781381130219"
       ]
      },
      {
       "output_type": "stream",
       "stream": "stdout",
       "text": [
        "\r",
        "Computed features for frame 494 of 1280 in 0.0769279003143"
       ]
      },
      {
       "output_type": "stream",
       "stream": "stdout",
       "text": [
        "\r",
        "Computed features for frame 495 of 1280 in 0.0787601470947"
       ]
      },
      {
       "output_type": "stream",
       "stream": "stdout",
       "text": [
        "\r",
        "Computed features for frame 496 of 1280 in 0.0768120288849"
       ]
      },
      {
       "output_type": "stream",
       "stream": "stdout",
       "text": [
        "\r",
        "Computed features for frame 497 of 1280 in 0.0774819850922"
       ]
      },
      {
       "output_type": "stream",
       "stream": "stdout",
       "text": [
        "\r",
        "Computed features for frame 498 of 1280 in 0.075560092926"
       ]
      },
      {
       "output_type": "stream",
       "stream": "stdout",
       "text": [
        "\r",
        "Computed features for frame 499 of 1280 in 0.076507806778"
       ]
      },
      {
       "output_type": "stream",
       "stream": "stdout",
       "text": [
        "\r",
        "Computed features for frame 500 of 1280 in 0.0780000686646"
       ]
      },
      {
       "output_type": "stream",
       "stream": "stdout",
       "text": [
        "\r",
        "Computed features for frame 501 of 1280 in 0.0784289836884"
       ]
      },
      {
       "output_type": "stream",
       "stream": "stdout",
       "text": [
        "\r",
        "Computed features for frame 502 of 1280 in 0.0795328617096"
       ]
      },
      {
       "output_type": "stream",
       "stream": "stdout",
       "text": [
        "\r",
        "Computed features for frame 503 of 1280 in 0.0776710510254"
       ]
      },
      {
       "output_type": "stream",
       "stream": "stdout",
       "text": [
        "\r",
        "Computed features for frame 504 of 1280 in 0.0799400806427"
       ]
      },
      {
       "output_type": "stream",
       "stream": "stdout",
       "text": [
        "\r",
        "Computed features for frame 505 of 1280 in 0.0778021812439"
       ]
      },
      {
       "output_type": "stream",
       "stream": "stdout",
       "text": [
        "\r",
        "Computed features for frame 506 of 1280 in 0.0787320137024"
       ]
      },
      {
       "output_type": "stream",
       "stream": "stdout",
       "text": [
        "\r",
        "Computed features for frame 507 of 1280 in 0.0774600505829"
       ]
      },
      {
       "output_type": "stream",
       "stream": "stdout",
       "text": [
        "\r",
        "Computed features for frame 508 of 1280 in 0.0813751220703"
       ]
      },
      {
       "output_type": "stream",
       "stream": "stdout",
       "text": [
        "\r",
        "Computed features for frame 509 of 1280 in 0.0784800052643"
       ]
      },
      {
       "output_type": "stream",
       "stream": "stdout",
       "text": [
        "\r",
        "Computed features for frame 510 of 1280 in 0.0793380737305"
       ]
      },
      {
       "output_type": "stream",
       "stream": "stdout",
       "text": [
        "\r",
        "Computed features for frame 511 of 1280 in 0.0778300762177"
       ]
      },
      {
       "output_type": "stream",
       "stream": "stdout",
       "text": [
        "\r",
        "Computed features for frame 512 of 1280 in 0.0773341655731"
       ]
      },
      {
       "output_type": "stream",
       "stream": "stdout",
       "text": [
        "\r",
        "Computed features for frame 513 of 1280 in 0.0785179138184"
       ]
      },
      {
       "output_type": "stream",
       "stream": "stdout",
       "text": [
        "\r",
        "Computed features for frame 514 of 1280 in 0.0769288539886"
       ]
      },
      {
       "output_type": "stream",
       "stream": "stdout",
       "text": [
        "\r",
        "Computed features for frame 515 of 1280 in 0.0771338939667"
       ]
      },
      {
       "output_type": "stream",
       "stream": "stdout",
       "text": [
        "\r",
        "Computed features for frame 516 of 1280 in 0.0768570899963"
       ]
      },
      {
       "output_type": "stream",
       "stream": "stdout",
       "text": [
        "\r",
        "Computed features for frame 517 of 1280 in 0.079488992691"
       ]
      },
      {
       "output_type": "stream",
       "stream": "stdout",
       "text": [
        "\r",
        "Computed features for frame 518 of 1280 in 0.0765850543976"
       ]
      },
      {
       "output_type": "stream",
       "stream": "stdout",
       "text": [
        "\r",
        "Computed features for frame 519 of 1280 in 0.0774528980255"
       ]
      },
      {
       "output_type": "stream",
       "stream": "stdout",
       "text": [
        "\r",
        "Computed features for frame 520 of 1280 in 0.0766599178314"
       ]
      },
      {
       "output_type": "stream",
       "stream": "stdout",
       "text": [
        "\r",
        "Computed features for frame 521 of 1280 in 0.0781939029694"
       ]
      },
      {
       "output_type": "stream",
       "stream": "stdout",
       "text": [
        "\r",
        "Computed features for frame 522 of 1280 in 0.0774259567261"
       ]
      },
      {
       "output_type": "stream",
       "stream": "stdout",
       "text": [
        "\r",
        "Computed features for frame 523 of 1280 in 0.0797901153564"
       ]
      },
      {
       "output_type": "stream",
       "stream": "stdout",
       "text": [
        "\r",
        "Computed features for frame 524 of 1280 in 0.0768370628357"
       ]
      },
      {
       "output_type": "stream",
       "stream": "stdout",
       "text": [
        "\r",
        "Computed features for frame 525 of 1280 in 0.0829269886017"
       ]
      },
      {
       "output_type": "stream",
       "stream": "stdout",
       "text": [
        "\r",
        "Computed features for frame 526 of 1280 in 0.0772120952606"
       ]
      },
      {
       "output_type": "stream",
       "stream": "stdout",
       "text": [
        "\r",
        "Computed features for frame 527 of 1280 in 0.0757970809937"
       ]
      },
      {
       "output_type": "stream",
       "stream": "stdout",
       "text": [
        "\r",
        "Computed features for frame 528 of 1280 in 0.078057050705"
       ]
      },
      {
       "output_type": "stream",
       "stream": "stdout",
       "text": [
        "\r",
        "Computed features for frame 529 of 1280 in 0.0765290260315"
       ]
      },
      {
       "output_type": "stream",
       "stream": "stdout",
       "text": [
        "\r",
        "Computed features for frame 530 of 1280 in 0.0753090381622"
       ]
      },
      {
       "output_type": "stream",
       "stream": "stdout",
       "text": [
        "\r",
        "Computed features for frame 531 of 1280 in 0.0778629779816"
       ]
      },
      {
       "output_type": "stream",
       "stream": "stdout",
       "text": [
        "\r",
        "Computed features for frame 532 of 1280 in 0.0812590122223"
       ]
      },
      {
       "output_type": "stream",
       "stream": "stdout",
       "text": [
        "\r",
        "Computed features for frame 533 of 1280 in 0.078950881958"
       ]
      },
      {
       "output_type": "stream",
       "stream": "stdout",
       "text": [
        "\r",
        "Computed features for frame 534 of 1280 in 0.0756731033325"
       ]
      },
      {
       "output_type": "stream",
       "stream": "stdout",
       "text": [
        "\r",
        "Computed features for frame 535 of 1280 in 0.0765480995178"
       ]
      },
      {
       "output_type": "stream",
       "stream": "stdout",
       "text": [
        "\r",
        "Computed features for frame 536 of 1280 in 0.0764079093933"
       ]
      },
      {
       "output_type": "stream",
       "stream": "stdout",
       "text": [
        "\r",
        "Computed features for frame 537 of 1280 in 0.0794620513916"
       ]
      },
      {
       "output_type": "stream",
       "stream": "stdout",
       "text": [
        "\r",
        "Computed features for frame 538 of 1280 in 0.0830008983612"
       ]
      },
      {
       "output_type": "stream",
       "stream": "stdout",
       "text": [
        "\r",
        "Computed features for frame 539 of 1280 in 0.0776240825653"
       ]
      },
      {
       "output_type": "stream",
       "stream": "stdout",
       "text": [
        "\r",
        "Computed features for frame 540 of 1280 in 0.0789408683777"
       ]
      },
      {
       "output_type": "stream",
       "stream": "stdout",
       "text": [
        "\r",
        "Computed features for frame 541 of 1280 in 0.0764470100403"
       ]
      },
      {
       "output_type": "stream",
       "stream": "stdout",
       "text": [
        "\r",
        "Computed features for frame 542 of 1280 in 0.0770659446716"
       ]
      },
      {
       "output_type": "stream",
       "stream": "stdout",
       "text": [
        "\r",
        "Computed features for frame 543 of 1280 in 0.0777270793915"
       ]
      },
      {
       "output_type": "stream",
       "stream": "stdout",
       "text": [
        "\r",
        "Computed features for frame 544 of 1280 in 0.0788340568542"
       ]
      },
      {
       "output_type": "stream",
       "stream": "stdout",
       "text": [
        "\r",
        "Computed features for frame 545 of 1280 in 0.0763790607452"
       ]
      },
      {
       "output_type": "stream",
       "stream": "stdout",
       "text": [
        "\r",
        "Computed features for frame 546 of 1280 in 0.0781710147858"
       ]
      },
      {
       "output_type": "stream",
       "stream": "stdout",
       "text": [
        "\r",
        "Computed features for frame 547 of 1280 in 0.0774321556091"
       ]
      },
      {
       "output_type": "stream",
       "stream": "stdout",
       "text": [
        "\r",
        "Computed features for frame 548 of 1280 in 0.0767619609833"
       ]
      },
      {
       "output_type": "stream",
       "stream": "stdout",
       "text": [
        "\r",
        "Computed features for frame 549 of 1280 in 0.0809831619263"
       ]
      },
      {
       "output_type": "stream",
       "stream": "stdout",
       "text": [
        "\r",
        "Computed features for frame 550 of 1280 in 0.0796501636505"
       ]
      },
      {
       "output_type": "stream",
       "stream": "stdout",
       "text": [
        "\r",
        "Computed features for frame 551 of 1280 in 0.077577829361"
       ]
      },
      {
       "output_type": "stream",
       "stream": "stdout",
       "text": [
        "\r",
        "Computed features for frame 552 of 1280 in 0.0757858753204"
       ]
      },
      {
       "output_type": "stream",
       "stream": "stdout",
       "text": [
        "\r",
        "Computed features for frame 553 of 1280 in 0.0766642093658"
       ]
      },
      {
       "output_type": "stream",
       "stream": "stdout",
       "text": [
        "\r",
        "Computed features for frame 554 of 1280 in 0.0767529010773"
       ]
      },
      {
       "output_type": "stream",
       "stream": "stdout",
       "text": [
        "\r",
        "Computed features for frame 555 of 1280 in 0.0798208713531"
       ]
      },
      {
       "output_type": "stream",
       "stream": "stdout",
       "text": [
        "\r",
        "Computed features for frame 556 of 1280 in 0.0775921344757"
       ]
      },
      {
       "output_type": "stream",
       "stream": "stdout",
       "text": [
        "\r",
        "Computed features for frame 557 of 1280 in 0.0776221752167"
       ]
      },
      {
       "output_type": "stream",
       "stream": "stdout",
       "text": [
        "\r",
        "Computed features for frame 558 of 1280 in 0.0793480873108"
       ]
      },
      {
       "output_type": "stream",
       "stream": "stdout",
       "text": [
        "\r",
        "Computed features for frame 559 of 1280 in 0.075777053833"
       ]
      },
      {
       "output_type": "stream",
       "stream": "stdout",
       "text": [
        "\r",
        "Computed features for frame 560 of 1280 in 0.0779328346252"
       ]
      },
      {
       "output_type": "stream",
       "stream": "stdout",
       "text": [
        "\r",
        "Computed features for frame 561 of 1280 in 0.0762522220612"
       ]
      },
      {
       "output_type": "stream",
       "stream": "stdout",
       "text": [
        "\r",
        "Computed features for frame 562 of 1280 in 0.0761051177979"
       ]
      },
      {
       "output_type": "stream",
       "stream": "stdout",
       "text": [
        "\r",
        "Computed features for frame 563 of 1280 in 0.0787379741669"
       ]
      },
      {
       "output_type": "stream",
       "stream": "stdout",
       "text": [
        "\r",
        "Computed features for frame 564 of 1280 in 0.0765640735626"
       ]
      },
      {
       "output_type": "stream",
       "stream": "stdout",
       "text": [
        "\r",
        "Computed features for frame 565 of 1280 in 0.0771808624268"
       ]
      },
      {
       "output_type": "stream",
       "stream": "stdout",
       "text": [
        "\r",
        "Computed features for frame 566 of 1280 in 0.0762720108032"
       ]
      },
      {
       "output_type": "stream",
       "stream": "stdout",
       "text": [
        "\r",
        "Computed features for frame 567 of 1280 in 0.0773048400879"
       ]
      },
      {
       "output_type": "stream",
       "stream": "stdout",
       "text": [
        "\r",
        "Computed features for frame 568 of 1280 in 0.0770399570465"
       ]
      },
      {
       "output_type": "stream",
       "stream": "stdout",
       "text": [
        "\r",
        "Computed features for frame 569 of 1280 in 0.0783929824829"
       ]
      },
      {
       "output_type": "stream",
       "stream": "stdout",
       "text": [
        "\r",
        "Computed features for frame 570 of 1280 in 0.0805060863495"
       ]
      },
      {
       "output_type": "stream",
       "stream": "stdout",
       "text": [
        "\r",
        "Computed features for frame 571 of 1280 in 0.0776569843292"
       ]
      },
      {
       "output_type": "stream",
       "stream": "stdout",
       "text": [
        "\r",
        "Computed features for frame 572 of 1280 in 0.0782270431519"
       ]
      },
      {
       "output_type": "stream",
       "stream": "stdout",
       "text": [
        "\r",
        "Computed features for frame 573 of 1280 in 0.0766539573669"
       ]
      },
      {
       "output_type": "stream",
       "stream": "stdout",
       "text": [
        "\r",
        "Computed features for frame 574 of 1280 in 0.0765509605408"
       ]
      },
      {
       "output_type": "stream",
       "stream": "stdout",
       "text": [
        "\r",
        "Computed features for frame 575 of 1280 in 0.0767951011658"
       ]
      },
      {
       "output_type": "stream",
       "stream": "stdout",
       "text": [
        "\r",
        "Computed features for frame 576 of 1280 in 0.077495098114"
       ]
      },
      {
       "output_type": "stream",
       "stream": "stdout",
       "text": [
        "\r",
        "Computed features for frame 577 of 1280 in 0.0797879695892"
       ]
      },
      {
       "output_type": "stream",
       "stream": "stdout",
       "text": [
        "\r",
        "Computed features for frame 578 of 1280 in 0.0757141113281"
       ]
      },
      {
       "output_type": "stream",
       "stream": "stdout",
       "text": [
        "\r",
        "Computed features for frame 579 of 1280 in 0.0759859085083"
       ]
      },
      {
       "output_type": "stream",
       "stream": "stdout",
       "text": [
        "\r",
        "Computed features for frame 580 of 1280 in 0.0754170417786"
       ]
      },
      {
       "output_type": "stream",
       "stream": "stdout",
       "text": [
        "\r",
        "Computed features for frame 581 of 1280 in 0.0767359733582"
       ]
      },
      {
       "output_type": "stream",
       "stream": "stdout",
       "text": [
        "\r",
        "Computed features for frame 582 of 1280 in 0.0759150981903"
       ]
      },
      {
       "output_type": "stream",
       "stream": "stdout",
       "text": [
        "\r",
        "Computed features for frame 583 of 1280 in 0.0771808624268"
       ]
      },
      {
       "output_type": "stream",
       "stream": "stdout",
       "text": [
        "\r",
        "Computed features for frame 584 of 1280 in 0.0772960186005"
       ]
      },
      {
       "output_type": "stream",
       "stream": "stdout",
       "text": [
        "\r",
        "Computed features for frame 585 of 1280 in 0.0804591178894"
       ]
      },
      {
       "output_type": "stream",
       "stream": "stdout",
       "text": [
        "\r",
        "Computed features for frame 586 of 1280 in 0.0854761600494"
       ]
      },
      {
       "output_type": "stream",
       "stream": "stdout",
       "text": [
        "\r",
        "Computed features for frame 587 of 1280 in 0.0771579742432"
       ]
      },
      {
       "output_type": "stream",
       "stream": "stdout",
       "text": [
        "\r",
        "Computed features for frame 588 of 1280 in 0.0770039558411"
       ]
      },
      {
       "output_type": "stream",
       "stream": "stdout",
       "text": [
        "\r",
        "Computed features for frame 589 of 1280 in 0.0798668861389"
       ]
      },
      {
       "output_type": "stream",
       "stream": "stdout",
       "text": [
        "\r",
        "Computed features for frame 590 of 1280 in 0.0817639827728"
       ]
      },
      {
       "output_type": "stream",
       "stream": "stdout",
       "text": [
        "\r",
        "Computed features for frame 591 of 1280 in 0.0949060916901"
       ]
      },
      {
       "output_type": "stream",
       "stream": "stdout",
       "text": [
        "\r",
        "Computed features for frame 592 of 1280 in 0.0890109539032"
       ]
      },
      {
       "output_type": "stream",
       "stream": "stdout",
       "text": [
        "\r",
        "Computed features for frame 593 of 1280 in 0.0803160667419"
       ]
      },
      {
       "output_type": "stream",
       "stream": "stdout",
       "text": [
        "\r",
        "Computed features for frame 594 of 1280 in 0.0756769180298"
       ]
      },
      {
       "output_type": "stream",
       "stream": "stdout",
       "text": [
        "\r",
        "Computed features for frame 595 of 1280 in 0.0763988494873"
       ]
      },
      {
       "output_type": "stream",
       "stream": "stdout",
       "text": [
        "\r",
        "Computed features for frame 596 of 1280 in 0.0850291252136"
       ]
      },
      {
       "output_type": "stream",
       "stream": "stdout",
       "text": [
        "\r",
        "Computed features for frame 597 of 1280 in 0.0803401470184"
       ]
      },
      {
       "output_type": "stream",
       "stream": "stdout",
       "text": [
        "\r",
        "Computed features for frame 598 of 1280 in 0.0828971862793"
       ]
      },
      {
       "output_type": "stream",
       "stream": "stdout",
       "text": [
        "\r",
        "Computed features for frame 599 of 1280 in 0.091717004776"
       ]
      },
      {
       "output_type": "stream",
       "stream": "stdout",
       "text": [
        "\r",
        "Computed features for frame 600 of 1280 in 0.0838840007782"
       ]
      },
      {
       "output_type": "stream",
       "stream": "stdout",
       "text": [
        "\r",
        "Computed features for frame 601 of 1280 in 0.0871438980103"
       ]
      },
      {
       "output_type": "stream",
       "stream": "stdout",
       "text": [
        "\r",
        "Computed features for frame 602 of 1280 in 0.077595949173"
       ]
      },
      {
       "output_type": "stream",
       "stream": "stdout",
       "text": [
        "\r",
        "Computed features for frame 603 of 1280 in 0.0797119140625"
       ]
      },
      {
       "output_type": "stream",
       "stream": "stdout",
       "text": [
        "\r",
        "Computed features for frame 604 of 1280 in 0.0820679664612"
       ]
      },
      {
       "output_type": "stream",
       "stream": "stdout",
       "text": [
        "\r",
        "Computed features for frame 605 of 1280 in 0.0835361480713"
       ]
      },
      {
       "output_type": "stream",
       "stream": "stdout",
       "text": [
        "\r",
        "Computed features for frame 606 of 1280 in 0.0805771350861"
       ]
      },
      {
       "output_type": "stream",
       "stream": "stdout",
       "text": [
        "\r",
        "Computed features for frame 607 of 1280 in 0.0757081508636"
       ]
      },
      {
       "output_type": "stream",
       "stream": "stdout",
       "text": [
        "\r",
        "Computed features for frame 608 of 1280 in 0.0860569477081"
       ]
      },
      {
       "output_type": "stream",
       "stream": "stdout",
       "text": [
        "\r",
        "Computed features for frame 609 of 1280 in 0.0805759429932"
       ]
      },
      {
       "output_type": "stream",
       "stream": "stdout",
       "text": [
        "\r",
        "Computed features for frame 610 of 1280 in 0.0768401622772"
       ]
      },
      {
       "output_type": "stream",
       "stream": "stdout",
       "text": [
        "\r",
        "Computed features for frame 611 of 1280 in 0.0772771835327"
       ]
      },
      {
       "output_type": "stream",
       "stream": "stdout",
       "text": [
        "\r",
        "Computed features for frame 612 of 1280 in 0.0773630142212"
       ]
      },
      {
       "output_type": "stream",
       "stream": "stdout",
       "text": [
        "\r",
        "Computed features for frame 613 of 1280 in 0.0792429447174"
       ]
      },
      {
       "output_type": "stream",
       "stream": "stdout",
       "text": [
        "\r",
        "Computed features for frame 614 of 1280 in 0.0790588855743"
       ]
      },
      {
       "output_type": "stream",
       "stream": "stdout",
       "text": [
        "\r",
        "Computed features for frame 615 of 1280 in 0.0780639648438"
       ]
      },
      {
       "output_type": "stream",
       "stream": "stdout",
       "text": [
        "\r",
        "Computed features for frame 616 of 1280 in 0.0767300128937"
       ]
      },
      {
       "output_type": "stream",
       "stream": "stdout",
       "text": [
        "\r",
        "Computed features for frame 617 of 1280 in 0.0768811702728"
       ]
      },
      {
       "output_type": "stream",
       "stream": "stdout",
       "text": [
        "\r",
        "Computed features for frame 618 of 1280 in 0.0774760246277"
       ]
      },
      {
       "output_type": "stream",
       "stream": "stdout",
       "text": [
        "\r",
        "Computed features for frame 619 of 1280 in 0.0791490077972"
       ]
      },
      {
       "output_type": "stream",
       "stream": "stdout",
       "text": [
        "\r",
        "Computed features for frame 620 of 1280 in 0.0783658027649"
       ]
      },
      {
       "output_type": "stream",
       "stream": "stdout",
       "text": [
        "\r",
        "Computed features for frame 621 of 1280 in 0.0785701274872"
       ]
      },
      {
       "output_type": "stream",
       "stream": "stdout",
       "text": [
        "\r",
        "Computed features for frame 622 of 1280 in 0.0783908367157"
       ]
      },
      {
       "output_type": "stream",
       "stream": "stdout",
       "text": [
        "\r",
        "Computed features for frame 623 of 1280 in 0.0773561000824"
       ]
      },
      {
       "output_type": "stream",
       "stream": "stdout",
       "text": [
        "\r",
        "Computed features for frame 624 of 1280 in 0.0766749382019"
       ]
      },
      {
       "output_type": "stream",
       "stream": "stdout",
       "text": [
        "\r",
        "Computed features for frame 625 of 1280 in 0.0759937763214"
       ]
      },
      {
       "output_type": "stream",
       "stream": "stdout",
       "text": [
        "\r",
        "Computed features for frame 626 of 1280 in 0.0776119232178"
       ]
      },
      {
       "output_type": "stream",
       "stream": "stdout",
       "text": [
        "\r",
        "Computed features for frame 627 of 1280 in 0.0783319473267"
       ]
      },
      {
       "output_type": "stream",
       "stream": "stdout",
       "text": [
        "\r",
        "Computed features for frame 628 of 1280 in 0.0771610736847"
       ]
      },
      {
       "output_type": "stream",
       "stream": "stdout",
       "text": [
        "\r",
        "Computed features for frame 629 of 1280 in 0.0791289806366"
       ]
      },
      {
       "output_type": "stream",
       "stream": "stdout",
       "text": [
        "\r",
        "Computed features for frame 630 of 1280 in 0.0817651748657"
       ]
      },
      {
       "output_type": "stream",
       "stream": "stdout",
       "text": [
        "\r",
        "Computed features for frame 631 of 1280 in 0.0949292182922"
       ]
      },
      {
       "output_type": "stream",
       "stream": "stdout",
       "text": [
        "\r",
        "Computed features for frame 632 of 1280 in 0.0777499675751"
       ]
      },
      {
       "output_type": "stream",
       "stream": "stdout",
       "text": [
        "\r",
        "Computed features for frame 633 of 1280 in 0.0792031288147"
       ]
      },
      {
       "output_type": "stream",
       "stream": "stdout",
       "text": [
        "\r",
        "Computed features for frame 634 of 1280 in 0.085834980011"
       ]
      },
      {
       "output_type": "stream",
       "stream": "stdout",
       "text": [
        "\r",
        "Computed features for frame 635 of 1280 in 0.0766878128052"
       ]
      },
      {
       "output_type": "stream",
       "stream": "stdout",
       "text": [
        "\r",
        "Computed features for frame 636 of 1280 in 0.0772268772125"
       ]
      },
      {
       "output_type": "stream",
       "stream": "stdout",
       "text": [
        "\r",
        "Computed features for frame 637 of 1280 in 0.0962779521942"
       ]
      },
      {
       "output_type": "stream",
       "stream": "stdout",
       "text": [
        "\r",
        "Computed features for frame 638 of 1280 in 0.0786881446838"
       ]
      },
      {
       "output_type": "stream",
       "stream": "stdout",
       "text": [
        "\r",
        "Computed features for frame 639 of 1280 in 0.0813908576965"
       ]
      },
      {
       "output_type": "stream",
       "stream": "stdout",
       "text": [
        "\r",
        "Computed features for frame 640 of 1280 in 0.0794920921326"
       ]
      },
      {
       "output_type": "stream",
       "stream": "stdout",
       "text": [
        "\r",
        "Computed features for frame 641 of 1280 in 0.0850009918213"
       ]
      },
      {
       "output_type": "stream",
       "stream": "stdout",
       "text": [
        "\r",
        "Computed features for frame 642 of 1280 in 0.0853099822998"
       ]
      },
      {
       "output_type": "stream",
       "stream": "stdout",
       "text": [
        "\r",
        "Computed features for frame 643 of 1280 in 0.076936006546"
       ]
      },
      {
       "output_type": "stream",
       "stream": "stdout",
       "text": [
        "\r",
        "Computed features for frame 644 of 1280 in 0.0767159461975"
       ]
      },
      {
       "output_type": "stream",
       "stream": "stdout",
       "text": [
        "\r",
        "Computed features for frame 645 of 1280 in 0.0803380012512"
       ]
      },
      {
       "output_type": "stream",
       "stream": "stdout",
       "text": [
        "\r",
        "Computed features for frame 646 of 1280 in 0.0833630561829"
       ]
      },
      {
       "output_type": "stream",
       "stream": "stdout",
       "text": [
        "\r",
        "Computed features for frame 647 of 1280 in 0.078232049942"
       ]
      },
      {
       "output_type": "stream",
       "stream": "stdout",
       "text": [
        "\r",
        "Computed features for frame 648 of 1280 in 0.0837500095367"
       ]
      },
      {
       "output_type": "stream",
       "stream": "stdout",
       "text": [
        "\r",
        "Computed features for frame 649 of 1280 in 0.079892873764"
       ]
      },
      {
       "output_type": "stream",
       "stream": "stdout",
       "text": [
        "\r",
        "Computed features for frame 650 of 1280 in 0.0774128437042"
       ]
      },
      {
       "output_type": "stream",
       "stream": "stdout",
       "text": [
        "\r",
        "Computed features for frame 651 of 1280 in 0.0761818885803"
       ]
      },
      {
       "output_type": "stream",
       "stream": "stdout",
       "text": [
        "\r",
        "Computed features for frame 652 of 1280 in 0.0808191299438"
       ]
      },
      {
       "output_type": "stream",
       "stream": "stdout",
       "text": [
        "\r",
        "Computed features for frame 653 of 1280 in 0.0783638954163"
       ]
      },
      {
       "output_type": "stream",
       "stream": "stdout",
       "text": [
        "\r",
        "Computed features for frame 654 of 1280 in 0.0777459144592"
       ]
      },
      {
       "output_type": "stream",
       "stream": "stdout",
       "text": [
        "\r",
        "Computed features for frame 655 of 1280 in 0.0881998538971"
       ]
      },
      {
       "output_type": "stream",
       "stream": "stdout",
       "text": [
        "\r",
        "Computed features for frame 656 of 1280 in 0.0837361812592"
       ]
      },
      {
       "output_type": "stream",
       "stream": "stdout",
       "text": [
        "\r",
        "Computed features for frame 657 of 1280 in 0.0790541172028"
       ]
      },
      {
       "output_type": "stream",
       "stream": "stdout",
       "text": [
        "\r",
        "Computed features for frame 658 of 1280 in 0.0775189399719"
       ]
      },
      {
       "output_type": "stream",
       "stream": "stdout",
       "text": [
        "\r",
        "Computed features for frame 659 of 1280 in 0.0782079696655"
       ]
      },
      {
       "output_type": "stream",
       "stream": "stdout",
       "text": [
        "\r",
        "Computed features for frame 660 of 1280 in 0.0805130004883"
       ]
      },
      {
       "output_type": "stream",
       "stream": "stdout",
       "text": [
        "\r",
        "Computed features for frame 661 of 1280 in 0.0867879390717"
       ]
      },
      {
       "output_type": "stream",
       "stream": "stdout",
       "text": [
        "\r",
        "Computed features for frame 662 of 1280 in 0.0768430233002"
       ]
      },
      {
       "output_type": "stream",
       "stream": "stdout",
       "text": [
        "\r",
        "Computed features for frame 663 of 1280 in 0.0766499042511"
       ]
      },
      {
       "output_type": "stream",
       "stream": "stdout",
       "text": [
        "\r",
        "Computed features for frame 664 of 1280 in 0.0749249458313"
       ]
      },
      {
       "output_type": "stream",
       "stream": "stdout",
       "text": [
        "\r",
        "Computed features for frame 665 of 1280 in 0.0763199329376"
       ]
      },
      {
       "output_type": "stream",
       "stream": "stdout",
       "text": [
        "\r",
        "Computed features for frame 666 of 1280 in 0.0755879878998"
       ]
      },
      {
       "output_type": "stream",
       "stream": "stdout",
       "text": [
        "\r",
        "Computed features for frame 667 of 1280 in 0.0760600566864"
       ]
      },
      {
       "output_type": "stream",
       "stream": "stdout",
       "text": [
        "\r",
        "Computed features for frame 668 of 1280 in 0.0753729343414"
       ]
      },
      {
       "output_type": "stream",
       "stream": "stdout",
       "text": [
        "\r",
        "Computed features for frame 669 of 1280 in 0.079803943634"
       ]
      },
      {
       "output_type": "stream",
       "stream": "stdout",
       "text": [
        "\r",
        "Computed features for frame 670 of 1280 in 0.0768520832062"
       ]
      },
      {
       "output_type": "stream",
       "stream": "stdout",
       "text": [
        "\r",
        "Computed features for frame 671 of 1280 in 0.0756371021271"
       ]
      },
      {
       "output_type": "stream",
       "stream": "stdout",
       "text": [
        "\r",
        "Computed features for frame 672 of 1280 in 0.0770330429077"
       ]
      },
      {
       "output_type": "stream",
       "stream": "stdout",
       "text": [
        "\r",
        "Computed features for frame 673 of 1280 in 0.076858997345"
       ]
      },
      {
       "output_type": "stream",
       "stream": "stdout",
       "text": [
        "\r",
        "Computed features for frame 674 of 1280 in 0.0775401592255"
       ]
      },
      {
       "output_type": "stream",
       "stream": "stdout",
       "text": [
        "\r",
        "Computed features for frame 675 of 1280 in 0.0785119533539"
       ]
      },
      {
       "output_type": "stream",
       "stream": "stdout",
       "text": [
        "\r",
        "Computed features for frame 676 of 1280 in 0.0767860412598"
       ]
      },
      {
       "output_type": "stream",
       "stream": "stdout",
       "text": [
        "\r",
        "Computed features for frame 677 of 1280 in 0.0761618614197"
       ]
      },
      {
       "output_type": "stream",
       "stream": "stdout",
       "text": [
        "\r",
        "Computed features for frame 678 of 1280 in 0.0758631229401"
       ]
      },
      {
       "output_type": "stream",
       "stream": "stdout",
       "text": [
        "\r",
        "Computed features for frame 679 of 1280 in 0.0789661407471"
       ]
      },
      {
       "output_type": "stream",
       "stream": "stdout",
       "text": [
        "\r",
        "Computed features for frame 680 of 1280 in 0.0766839981079"
       ]
      },
      {
       "output_type": "stream",
       "stream": "stdout",
       "text": [
        "\r",
        "Computed features for frame 681 of 1280 in 0.0760722160339"
       ]
      },
      {
       "output_type": "stream",
       "stream": "stdout",
       "text": [
        "\r",
        "Computed features for frame 682 of 1280 in 0.0760140419006"
       ]
      },
      {
       "output_type": "stream",
       "stream": "stdout",
       "text": [
        "\r",
        "Computed features for frame 683 of 1280 in 0.07692694664"
       ]
      },
      {
       "output_type": "stream",
       "stream": "stdout",
       "text": [
        "\r",
        "Computed features for frame 684 of 1280 in 0.079421043396"
       ]
      },
      {
       "output_type": "stream",
       "stream": "stdout",
       "text": [
        "\r",
        "Computed features for frame 685 of 1280 in 0.0779881477356"
       ]
      },
      {
       "output_type": "stream",
       "stream": "stdout",
       "text": [
        "\r",
        "Computed features for frame 686 of 1280 in 0.0768728256226"
       ]
      },
      {
       "output_type": "stream",
       "stream": "stdout",
       "text": [
        "\r",
        "Computed features for frame 687 of 1280 in 0.077644109726"
       ]
      },
      {
       "output_type": "stream",
       "stream": "stdout",
       "text": [
        "\r",
        "Computed features for frame 688 of 1280 in 0.0756900310516"
       ]
      },
      {
       "output_type": "stream",
       "stream": "stdout",
       "text": [
        "\r",
        "Computed features for frame 689 of 1280 in 0.0766410827637"
       ]
      },
      {
       "output_type": "stream",
       "stream": "stdout",
       "text": [
        "\r",
        "Computed features for frame 690 of 1280 in 0.0836350917816"
       ]
      },
      {
       "output_type": "stream",
       "stream": "stdout",
       "text": [
        "\r",
        "Computed features for frame 691 of 1280 in 0.0772299766541"
       ]
      },
      {
       "output_type": "stream",
       "stream": "stdout",
       "text": [
        "\r",
        "Computed features for frame 692 of 1280 in 0.0758240222931"
       ]
      },
      {
       "output_type": "stream",
       "stream": "stdout",
       "text": [
        "\r",
        "Computed features for frame 693 of 1280 in 0.0760660171509"
       ]
      },
      {
       "output_type": "stream",
       "stream": "stdout",
       "text": [
        "\r",
        "Computed features for frame 694 of 1280 in 0.076189994812"
       ]
      },
      {
       "output_type": "stream",
       "stream": "stdout",
       "text": [
        "\r",
        "Computed features for frame 695 of 1280 in 0.0785648822784"
       ]
      },
      {
       "output_type": "stream",
       "stream": "stdout",
       "text": [
        "\r",
        "Computed features for frame 696 of 1280 in 0.0762689113617"
       ]
      },
      {
       "output_type": "stream",
       "stream": "stdout",
       "text": [
        "\r",
        "Computed features for frame 697 of 1280 in 0.0771799087524"
       ]
      },
      {
       "output_type": "stream",
       "stream": "stdout",
       "text": [
        "\r",
        "Computed features for frame 698 of 1280 in 0.0779180526733"
       ]
      },
      {
       "output_type": "stream",
       "stream": "stdout",
       "text": [
        "\r",
        "Computed features for frame 699 of 1280 in 0.0786950588226"
       ]
      },
      {
       "output_type": "stream",
       "stream": "stdout",
       "text": [
        "\r",
        "Computed features for frame 700 of 1280 in 0.0814318656921"
       ]
      },
      {
       "output_type": "stream",
       "stream": "stdout",
       "text": [
        "\r",
        "Computed features for frame 701 of 1280 in 0.0815589427948"
       ]
      },
      {
       "output_type": "stream",
       "stream": "stdout",
       "text": [
        "\r",
        "Computed features for frame 702 of 1280 in 0.0855550765991"
       ]
      },
      {
       "output_type": "stream",
       "stream": "stdout",
       "text": [
        "\r",
        "Computed features for frame 703 of 1280 in 0.0802888870239"
       ]
      },
      {
       "output_type": "stream",
       "stream": "stdout",
       "text": [
        "\r",
        "Computed features for frame 704 of 1280 in 0.0954949855804"
       ]
      },
      {
       "output_type": "stream",
       "stream": "stdout",
       "text": [
        "\r",
        "Computed features for frame 705 of 1280 in 0.0820739269257"
       ]
      },
      {
       "output_type": "stream",
       "stream": "stdout",
       "text": [
        "\r",
        "Computed features for frame 706 of 1280 in 0.0776338577271"
       ]
      },
      {
       "output_type": "stream",
       "stream": "stdout",
       "text": [
        "\r",
        "Computed features for frame 707 of 1280 in 0.0792751312256"
       ]
      },
      {
       "output_type": "stream",
       "stream": "stdout",
       "text": [
        "\r",
        "Computed features for frame 708 of 1280 in 0.0812029838562"
       ]
      },
      {
       "output_type": "stream",
       "stream": "stdout",
       "text": [
        "\r",
        "Computed features for frame 709 of 1280 in 0.0868849754333"
       ]
      },
      {
       "output_type": "stream",
       "stream": "stdout",
       "text": [
        "\r",
        "Computed features for frame 710 of 1280 in 0.0758500099182"
       ]
      },
      {
       "output_type": "stream",
       "stream": "stdout",
       "text": [
        "\r",
        "Computed features for frame 711 of 1280 in 0.0851738452911"
       ]
      },
      {
       "output_type": "stream",
       "stream": "stdout",
       "text": [
        "\r",
        "Computed features for frame 712 of 1280 in 0.0831758975983"
       ]
      },
      {
       "output_type": "stream",
       "stream": "stdout",
       "text": [
        "\r",
        "Computed features for frame 713 of 1280 in 0.0799789428711"
       ]
      },
      {
       "output_type": "stream",
       "stream": "stdout",
       "text": [
        "\r",
        "Computed features for frame 714 of 1280 in 0.0843470096588"
       ]
      },
      {
       "output_type": "stream",
       "stream": "stdout",
       "text": [
        "\r",
        "Computed features for frame 715 of 1280 in 0.0842840671539"
       ]
      },
      {
       "output_type": "stream",
       "stream": "stdout",
       "text": [
        "\r",
        "Computed features for frame 716 of 1280 in 0.0865910053253"
       ]
      },
      {
       "output_type": "stream",
       "stream": "stdout",
       "text": [
        "\r",
        "Computed features for frame 717 of 1280 in 0.0837290287018"
       ]
      },
      {
       "output_type": "stream",
       "stream": "stdout",
       "text": [
        "\r",
        "Computed features for frame 718 of 1280 in 0.0770559310913"
       ]
      },
      {
       "output_type": "stream",
       "stream": "stdout",
       "text": [
        "\r",
        "Computed features for frame 719 of 1280 in 0.0812470912933"
       ]
      },
      {
       "output_type": "stream",
       "stream": "stdout",
       "text": [
        "\r",
        "Computed features for frame 720 of 1280 in 0.0780539512634"
       ]
      },
      {
       "output_type": "stream",
       "stream": "stdout",
       "text": [
        "\r",
        "Computed features for frame 721 of 1280 in 0.079213142395"
       ]
      },
      {
       "output_type": "stream",
       "stream": "stdout",
       "text": [
        "\r",
        "Computed features for frame 722 of 1280 in 0.0878541469574"
       ]
      },
      {
       "output_type": "stream",
       "stream": "stdout",
       "text": [
        "\r",
        "Computed features for frame 723 of 1280 in 0.0861730575562"
       ]
      },
      {
       "output_type": "stream",
       "stream": "stdout",
       "text": [
        "\r",
        "Computed features for frame 724 of 1280 in 0.0905160903931"
       ]
      },
      {
       "output_type": "stream",
       "stream": "stdout",
       "text": [
        "\r",
        "Computed features for frame 725 of 1280 in 0.084193944931"
       ]
      },
      {
       "output_type": "stream",
       "stream": "stdout",
       "text": [
        "\r",
        "Computed features for frame 726 of 1280 in 0.0836310386658"
       ]
      },
      {
       "output_type": "stream",
       "stream": "stdout",
       "text": [
        "\r",
        "Computed features for frame 727 of 1280 in 0.101029157639"
       ]
      },
      {
       "output_type": "stream",
       "stream": "stdout",
       "text": [
        "\r",
        "Computed features for frame 728 of 1280 in 0.090213060379"
       ]
      },
      {
       "output_type": "stream",
       "stream": "stdout",
       "text": [
        "\r",
        "Computed features for frame 729 of 1280 in 0.0872948169708"
       ]
      },
      {
       "output_type": "stream",
       "stream": "stdout",
       "text": [
        "\r",
        "Computed features for frame 730 of 1280 in 0.0844759941101"
       ]
      },
      {
       "output_type": "stream",
       "stream": "stdout",
       "text": [
        "\r",
        "Computed features for frame 731 of 1280 in 0.0859479904175"
       ]
      },
      {
       "output_type": "stream",
       "stream": "stdout",
       "text": [
        "\r",
        "Computed features for frame 732 of 1280 in 0.0871229171753"
       ]
      },
      {
       "output_type": "stream",
       "stream": "stdout",
       "text": [
        "\r",
        "Computed features for frame 733 of 1280 in 0.0953738689423"
       ]
      },
      {
       "output_type": "stream",
       "stream": "stdout",
       "text": [
        "\r",
        "Computed features for frame 734 of 1280 in 0.0851430892944"
       ]
      },
      {
       "output_type": "stream",
       "stream": "stdout",
       "text": [
        "\r",
        "Computed features for frame 735 of 1280 in 0.0852439403534"
       ]
      },
      {
       "output_type": "stream",
       "stream": "stdout",
       "text": [
        "\r",
        "Computed features for frame 736 of 1280 in 0.0824680328369"
       ]
      },
      {
       "output_type": "stream",
       "stream": "stdout",
       "text": [
        "\r",
        "Computed features for frame 737 of 1280 in 0.0806319713593"
       ]
      },
      {
       "output_type": "stream",
       "stream": "stdout",
       "text": [
        "\r",
        "Computed features for frame 738 of 1280 in 0.076621055603"
       ]
      },
      {
       "output_type": "stream",
       "stream": "stdout",
       "text": [
        "\r",
        "Computed features for frame 739 of 1280 in 0.0779139995575"
       ]
      },
      {
       "output_type": "stream",
       "stream": "stdout",
       "text": [
        "\r",
        "Computed features for frame 740 of 1280 in 0.0787470340729"
       ]
      },
      {
       "output_type": "stream",
       "stream": "stdout",
       "text": [
        "\r",
        "Computed features for frame 741 of 1280 in 0.0799570083618"
       ]
      },
      {
       "output_type": "stream",
       "stream": "stdout",
       "text": [
        "\r",
        "Computed features for frame 742 of 1280 in 0.0787971019745"
       ]
      },
      {
       "output_type": "stream",
       "stream": "stdout",
       "text": [
        "\r",
        "Computed features for frame 743 of 1280 in 0.0830211639404"
       ]
      },
      {
       "output_type": "stream",
       "stream": "stdout",
       "text": [
        "\r",
        "Computed features for frame 744 of 1280 in 0.0782749652863"
       ]
      },
      {
       "output_type": "stream",
       "stream": "stdout",
       "text": [
        "\r",
        "Computed features for frame 745 of 1280 in 0.0847239494324"
       ]
      },
      {
       "output_type": "stream",
       "stream": "stdout",
       "text": [
        "\r",
        "Computed features for frame 746 of 1280 in 0.0808298587799"
       ]
      },
      {
       "output_type": "stream",
       "stream": "stdout",
       "text": [
        "\r",
        "Computed features for frame 747 of 1280 in 0.0799422264099"
       ]
      },
      {
       "output_type": "stream",
       "stream": "stdout",
       "text": [
        "\r",
        "Computed features for frame 748 of 1280 in 0.0799472332001"
       ]
      },
      {
       "output_type": "stream",
       "stream": "stdout",
       "text": [
        "\r",
        "Computed features for frame 749 of 1280 in 0.0805881023407"
       ]
      },
      {
       "output_type": "stream",
       "stream": "stdout",
       "text": [
        "\r",
        "Computed features for frame 750 of 1280 in 0.0841100215912"
       ]
      },
      {
       "output_type": "stream",
       "stream": "stdout",
       "text": [
        "\r",
        "Computed features for frame 751 of 1280 in 0.0792760848999"
       ]
      },
      {
       "output_type": "stream",
       "stream": "stdout",
       "text": [
        "\r",
        "Computed features for frame 752 of 1280 in 0.0864310264587"
       ]
      },
      {
       "output_type": "stream",
       "stream": "stdout",
       "text": [
        "\r",
        "Computed features for frame 753 of 1280 in 0.0772271156311"
       ]
      },
      {
       "output_type": "stream",
       "stream": "stdout",
       "text": [
        "\r",
        "Computed features for frame 754 of 1280 in 0.0777399539948"
       ]
      },
      {
       "output_type": "stream",
       "stream": "stdout",
       "text": [
        "\r",
        "Computed features for frame 755 of 1280 in 0.0819840431213"
       ]
      },
      {
       "output_type": "stream",
       "stream": "stdout",
       "text": [
        "\r",
        "Computed features for frame 756 of 1280 in 0.0816431045532"
       ]
      },
      {
       "output_type": "stream",
       "stream": "stdout",
       "text": [
        "\r",
        "Computed features for frame 757 of 1280 in 0.0827548503876"
       ]
      },
      {
       "output_type": "stream",
       "stream": "stdout",
       "text": [
        "\r",
        "Computed features for frame 758 of 1280 in 0.0779891014099"
       ]
      },
      {
       "output_type": "stream",
       "stream": "stdout",
       "text": [
        "\r",
        "Computed features for frame 759 of 1280 in 0.0787031650543"
       ]
      },
      {
       "output_type": "stream",
       "stream": "stdout",
       "text": [
        "\r",
        "Computed features for frame 760 of 1280 in 0.0791070461273"
       ]
      },
      {
       "output_type": "stream",
       "stream": "stdout",
       "text": [
        "\r",
        "Computed features for frame 761 of 1280 in 0.0861070156097"
       ]
      },
      {
       "output_type": "stream",
       "stream": "stdout",
       "text": [
        "\r",
        "Computed features for frame 762 of 1280 in 0.0770890712738"
       ]
      },
      {
       "output_type": "stream",
       "stream": "stdout",
       "text": [
        "\r",
        "Computed features for frame 763 of 1280 in 0.0783739089966"
       ]
      },
      {
       "output_type": "stream",
       "stream": "stdout",
       "text": [
        "\r",
        "Computed features for frame 764 of 1280 in 0.0808639526367"
       ]
      },
      {
       "output_type": "stream",
       "stream": "stdout",
       "text": [
        "\r",
        "Computed features for frame 765 of 1280 in 0.0829641819"
       ]
      },
      {
       "output_type": "stream",
       "stream": "stdout",
       "text": [
        "\r",
        "Computed features for frame 766 of 1280 in 0.0813090801239"
       ]
      },
      {
       "output_type": "stream",
       "stream": "stdout",
       "text": [
        "\r",
        "Computed features for frame 767 of 1280 in 0.0853860378265"
       ]
      },
      {
       "output_type": "stream",
       "stream": "stdout",
       "text": [
        "\r",
        "Computed features for frame 768 of 1280 in 0.0792391300201"
       ]
      },
      {
       "output_type": "stream",
       "stream": "stdout",
       "text": [
        "\r",
        "Computed features for frame 769 of 1280 in 0.0764338970184"
       ]
      },
      {
       "output_type": "stream",
       "stream": "stdout",
       "text": [
        "\r",
        "Computed features for frame 770 of 1280 in 0.0785710811615"
       ]
      },
      {
       "output_type": "stream",
       "stream": "stdout",
       "text": [
        "\r",
        "Computed features for frame 771 of 1280 in 0.0783879756927"
       ]
      },
      {
       "output_type": "stream",
       "stream": "stdout",
       "text": [
        "\r",
        "Computed features for frame 772 of 1280 in 0.0766270160675"
       ]
      },
      {
       "output_type": "stream",
       "stream": "stdout",
       "text": [
        "\r",
        "Computed features for frame 773 of 1280 in 0.0813939571381"
       ]
      },
      {
       "output_type": "stream",
       "stream": "stdout",
       "text": [
        "\r",
        "Computed features for frame 774 of 1280 in 0.0850579738617"
       ]
      },
      {
       "output_type": "stream",
       "stream": "stdout",
       "text": [
        "\r",
        "Computed features for frame 775 of 1280 in 0.0768880844116"
       ]
      },
      {
       "output_type": "stream",
       "stream": "stdout",
       "text": [
        "\r",
        "Computed features for frame 776 of 1280 in 0.0775201320648"
       ]
      },
      {
       "output_type": "stream",
       "stream": "stdout",
       "text": [
        "\r",
        "Computed features for frame 777 of 1280 in 0.0787830352783"
       ]
      },
      {
       "output_type": "stream",
       "stream": "stdout",
       "text": [
        "\r",
        "Computed features for frame 778 of 1280 in 0.0813329219818"
       ]
      },
      {
       "output_type": "stream",
       "stream": "stdout",
       "text": [
        "\r",
        "Computed features for frame 779 of 1280 in 0.0909659862518"
       ]
      },
      {
       "output_type": "stream",
       "stream": "stdout",
       "text": [
        "\r",
        "Computed features for frame 780 of 1280 in 0.0859501361847"
       ]
      },
      {
       "output_type": "stream",
       "stream": "stdout",
       "text": [
        "\r",
        "Computed features for frame 781 of 1280 in 0.0814950466156"
       ]
      },
      {
       "output_type": "stream",
       "stream": "stdout",
       "text": [
        "\r",
        "Computed features for frame 782 of 1280 in 0.0776720046997"
       ]
      },
      {
       "output_type": "stream",
       "stream": "stdout",
       "text": [
        "\r",
        "Computed features for frame 783 of 1280 in 0.080974817276"
       ]
      },
      {
       "output_type": "stream",
       "stream": "stdout",
       "text": [
        "\r",
        "Computed features for frame 784 of 1280 in 0.0779800415039"
       ]
      },
      {
       "output_type": "stream",
       "stream": "stdout",
       "text": [
        "\r",
        "Computed features for frame 785 of 1280 in 0.0805521011353"
       ]
      },
      {
       "output_type": "stream",
       "stream": "stdout",
       "text": [
        "\r",
        "Computed features for frame 786 of 1280 in 0.0814900398254"
       ]
      },
      {
       "output_type": "stream",
       "stream": "stdout",
       "text": [
        "\r",
        "Computed features for frame 787 of 1280 in 0.0865309238434"
       ]
      },
      {
       "output_type": "stream",
       "stream": "stdout",
       "text": [
        "\r",
        "Computed features for frame 788 of 1280 in 0.0778889656067"
       ]
      },
      {
       "output_type": "stream",
       "stream": "stdout",
       "text": [
        "\r",
        "Computed features for frame 789 of 1280 in 0.0780971050262"
       ]
      },
      {
       "output_type": "stream",
       "stream": "stdout",
       "text": [
        "\r",
        "Computed features for frame 790 of 1280 in 0.0774600505829"
       ]
      },
      {
       "output_type": "stream",
       "stream": "stdout",
       "text": [
        "\r",
        "Computed features for frame 791 of 1280 in 0.0791840553284"
       ]
      },
      {
       "output_type": "stream",
       "stream": "stdout",
       "text": [
        "\r",
        "Computed features for frame 792 of 1280 in 0.0815079212189"
       ]
      },
      {
       "output_type": "stream",
       "stream": "stdout",
       "text": [
        "\r",
        "Computed features for frame 793 of 1280 in 0.0888228416443"
       ]
      },
      {
       "output_type": "stream",
       "stream": "stdout",
       "text": [
        "\r",
        "Computed features for frame 794 of 1280 in 0.0876369476318"
       ]
      },
      {
       "output_type": "stream",
       "stream": "stdout",
       "text": [
        "\r",
        "Computed features for frame 795 of 1280 in 0.083046913147"
       ]
      },
      {
       "output_type": "stream",
       "stream": "stdout",
       "text": [
        "\r",
        "Computed features for frame 796 of 1280 in 0.0823631286621"
       ]
      },
      {
       "output_type": "stream",
       "stream": "stdout",
       "text": [
        "\r",
        "Computed features for frame 797 of 1280 in 0.0891289710999"
       ]
      },
      {
       "output_type": "stream",
       "stream": "stdout",
       "text": [
        "\r",
        "Computed features for frame 798 of 1280 in 0.0795240402222"
       ]
      },
      {
       "output_type": "stream",
       "stream": "stdout",
       "text": [
        "\r",
        "Computed features for frame 799 of 1280 in 0.0798628330231"
       ]
      },
      {
       "output_type": "stream",
       "stream": "stdout",
       "text": [
        "\r",
        "Computed features for frame 800 of 1280 in 0.0832469463348"
       ]
      },
      {
       "output_type": "stream",
       "stream": "stdout",
       "text": [
        "\r",
        "Computed features for frame 801 of 1280 in 0.0829148292542"
       ]
      },
      {
       "output_type": "stream",
       "stream": "stdout",
       "text": [
        "\r",
        "Computed features for frame 802 of 1280 in 0.0851671695709"
       ]
      },
      {
       "output_type": "stream",
       "stream": "stdout",
       "text": [
        "\r",
        "Computed features for frame 803 of 1280 in 0.0893979072571"
       ]
      },
      {
       "output_type": "stream",
       "stream": "stdout",
       "text": [
        "\r",
        "Computed features for frame 804 of 1280 in 0.0784859657288"
       ]
      },
      {
       "output_type": "stream",
       "stream": "stdout",
       "text": [
        "\r",
        "Computed features for frame 805 of 1280 in 0.079644203186"
       ]
      },
      {
       "output_type": "stream",
       "stream": "stdout",
       "text": [
        "\r",
        "Computed features for frame 806 of 1280 in 0.0795300006866"
       ]
      },
      {
       "output_type": "stream",
       "stream": "stdout",
       "text": [
        "\r",
        "Computed features for frame 807 of 1280 in 0.0798399448395"
       ]
      },
      {
       "output_type": "stream",
       "stream": "stdout",
       "text": [
        "\r",
        "Computed features for frame 808 of 1280 in 0.07750415802"
       ]
      },
      {
       "output_type": "stream",
       "stream": "stdout",
       "text": [
        "\r",
        "Computed features for frame 809 of 1280 in 0.0800850391388"
       ]
      },
      {
       "output_type": "stream",
       "stream": "stdout",
       "text": [
        "\r",
        "Computed features for frame 810 of 1280 in 0.07843708992"
       ]
      },
      {
       "output_type": "stream",
       "stream": "stdout",
       "text": [
        "\r",
        "Computed features for frame 811 of 1280 in 0.0776360034943"
       ]
      },
      {
       "output_type": "stream",
       "stream": "stdout",
       "text": [
        "\r",
        "Computed features for frame 812 of 1280 in 0.0780839920044"
       ]
      },
      {
       "output_type": "stream",
       "stream": "stdout",
       "text": [
        "\r",
        "Computed features for frame 813 of 1280 in 0.0770888328552"
       ]
      },
      {
       "output_type": "stream",
       "stream": "stdout",
       "text": [
        "\r",
        "Computed features for frame 814 of 1280 in 0.0797100067139"
       ]
      },
      {
       "output_type": "stream",
       "stream": "stdout",
       "text": [
        "\r",
        "Computed features for frame 815 of 1280 in 0.0908010005951"
       ]
      },
      {
       "output_type": "stream",
       "stream": "stdout",
       "text": [
        "\r",
        "Computed features for frame 816 of 1280 in 0.086030960083"
       ]
      },
      {
       "output_type": "stream",
       "stream": "stdout",
       "text": [
        "\r",
        "Computed features for frame 817 of 1280 in 0.0792579650879"
       ]
      },
      {
       "output_type": "stream",
       "stream": "stdout",
       "text": [
        "\r",
        "Computed features for frame 818 of 1280 in 0.0860068798065"
       ]
      },
      {
       "output_type": "stream",
       "stream": "stdout",
       "text": [
        "\r",
        "Computed features for frame 819 of 1280 in 0.0873761177063"
       ]
      },
      {
       "output_type": "stream",
       "stream": "stdout",
       "text": [
        "\r",
        "Computed features for frame 820 of 1280 in 0.0812630653381"
       ]
      },
      {
       "output_type": "stream",
       "stream": "stdout",
       "text": [
        "\r",
        "Computed features for frame 821 of 1280 in 0.0805418491364"
       ]
      },
      {
       "output_type": "stream",
       "stream": "stdout",
       "text": [
        "\r",
        "Computed features for frame 822 of 1280 in 0.0798749923706"
       ]
      },
      {
       "output_type": "stream",
       "stream": "stdout",
       "text": [
        "\r",
        "Computed features for frame 823 of 1280 in 0.0795350074768"
       ]
      },
      {
       "output_type": "stream",
       "stream": "stdout",
       "text": [
        "\r",
        "Computed features for frame 824 of 1280 in 0.0782780647278"
       ]
      },
      {
       "output_type": "stream",
       "stream": "stdout",
       "text": [
        "\r",
        "Computed features for frame 825 of 1280 in 0.0821499824524"
       ]
      },
      {
       "output_type": "stream",
       "stream": "stdout",
       "text": [
        "\r",
        "Computed features for frame 826 of 1280 in 0.083527803421"
       ]
      },
      {
       "output_type": "stream",
       "stream": "stdout",
       "text": [
        "\r",
        "Computed features for frame 827 of 1280 in 0.0773658752441"
       ]
      },
      {
       "output_type": "stream",
       "stream": "stdout",
       "text": [
        "\r",
        "Computed features for frame 828 of 1280 in 0.0807580947876"
       ]
      },
      {
       "output_type": "stream",
       "stream": "stdout",
       "text": [
        "\r",
        "Computed features for frame 829 of 1280 in 0.0993480682373"
       ]
      },
      {
       "output_type": "stream",
       "stream": "stdout",
       "text": [
        "\r",
        "Computed features for frame 830 of 1280 in 0.0814321041107"
       ]
      },
      {
       "output_type": "stream",
       "stream": "stdout",
       "text": [
        "\r",
        "Computed features for frame 831 of 1280 in 0.0802340507507"
       ]
      },
      {
       "output_type": "stream",
       "stream": "stdout",
       "text": [
        "\r",
        "Computed features for frame 832 of 1280 in 0.0847389698029"
       ]
      },
      {
       "output_type": "stream",
       "stream": "stdout",
       "text": [
        "\r",
        "Computed features for frame 833 of 1280 in 0.0783488750458"
       ]
      },
      {
       "output_type": "stream",
       "stream": "stdout",
       "text": [
        "\r",
        "Computed features for frame 834 of 1280 in 0.0816509723663"
       ]
      },
      {
       "output_type": "stream",
       "stream": "stdout",
       "text": [
        "\r",
        "Computed features for frame 835 of 1280 in 0.0805099010468"
       ]
      },
      {
       "output_type": "stream",
       "stream": "stdout",
       "text": [
        "\r",
        "Computed features for frame 836 of 1280 in 0.0804889202118"
       ]
      },
      {
       "output_type": "stream",
       "stream": "stdout",
       "text": [
        "\r",
        "Computed features for frame 837 of 1280 in 0.0878939628601"
       ]
      },
      {
       "output_type": "stream",
       "stream": "stdout",
       "text": [
        "\r",
        "Computed features for frame 838 of 1280 in 0.0867078304291"
       ]
      },
      {
       "output_type": "stream",
       "stream": "stdout",
       "text": [
        "\r",
        "Computed features for frame 839 of 1280 in 0.0803899765015"
       ]
      },
      {
       "output_type": "stream",
       "stream": "stdout",
       "text": [
        "\r",
        "Computed features for frame 840 of 1280 in 0.0992588996887"
       ]
      },
      {
       "output_type": "stream",
       "stream": "stdout",
       "text": [
        "\r",
        "Computed features for frame 841 of 1280 in 0.0789749622345"
       ]
      },
      {
       "output_type": "stream",
       "stream": "stdout",
       "text": [
        "\r",
        "Computed features for frame 842 of 1280 in 0.078106880188"
       ]
      },
      {
       "output_type": "stream",
       "stream": "stdout",
       "text": [
        "\r",
        "Computed features for frame 843 of 1280 in 0.081680059433"
       ]
      },
      {
       "output_type": "stream",
       "stream": "stdout",
       "text": [
        "\r",
        "Computed features for frame 844 of 1280 in 0.0835909843445"
       ]
      },
      {
       "output_type": "stream",
       "stream": "stdout",
       "text": [
        "\r",
        "Computed features for frame 845 of 1280 in 0.0822081565857"
       ]
      },
      {
       "output_type": "stream",
       "stream": "stdout",
       "text": [
        "\r",
        "Computed features for frame 846 of 1280 in 0.080314874649"
       ]
      },
      {
       "output_type": "stream",
       "stream": "stdout",
       "text": [
        "\r",
        "Computed features for frame 847 of 1280 in 0.0906400680542"
       ]
      },
      {
       "output_type": "stream",
       "stream": "stdout",
       "text": [
        "\r",
        "Computed features for frame 848 of 1280 in 0.0894339084625"
       ]
      },
      {
       "output_type": "stream",
       "stream": "stdout",
       "text": [
        "\r",
        "Computed features for frame 849 of 1280 in 0.0835499763489"
       ]
      },
      {
       "output_type": "stream",
       "stream": "stdout",
       "text": [
        "\r",
        "Computed features for frame 850 of 1280 in 0.0807218551636"
       ]
      },
      {
       "output_type": "stream",
       "stream": "stdout",
       "text": [
        "\r",
        "Computed features for frame 851 of 1280 in 0.0877089500427"
       ]
      },
      {
       "output_type": "stream",
       "stream": "stdout",
       "text": [
        "\r",
        "Computed features for frame 852 of 1280 in 0.080078125"
       ]
      },
      {
       "output_type": "stream",
       "stream": "stdout",
       "text": [
        "\r",
        "Computed features for frame 853 of 1280 in 0.082466840744"
       ]
      },
      {
       "output_type": "stream",
       "stream": "stdout",
       "text": [
        "\r",
        "Computed features for frame 854 of 1280 in 0.0868179798126"
       ]
      },
      {
       "output_type": "stream",
       "stream": "stdout",
       "text": [
        "\r",
        "Computed features for frame 855 of 1280 in 0.0817830562592"
       ]
      },
      {
       "output_type": "stream",
       "stream": "stdout",
       "text": [
        "\r",
        "Computed features for frame 856 of 1280 in 0.0825040340424"
       ]
      },
      {
       "output_type": "stream",
       "stream": "stdout",
       "text": [
        "\r",
        "Computed features for frame 857 of 1280 in 0.075875043869"
       ]
      },
      {
       "output_type": "stream",
       "stream": "stdout",
       "text": [
        "\r",
        "Computed features for frame 858 of 1280 in 0.0782730579376"
       ]
      },
      {
       "output_type": "stream",
       "stream": "stdout",
       "text": [
        "\r",
        "Computed features for frame 859 of 1280 in 0.0769379138947"
       ]
      },
      {
       "output_type": "stream",
       "stream": "stdout",
       "text": [
        "\r",
        "Computed features for frame 860 of 1280 in 0.0782880783081"
       ]
      },
      {
       "output_type": "stream",
       "stream": "stdout",
       "text": [
        "\r",
        "Computed features for frame 861 of 1280 in 0.0773150920868"
       ]
      },
      {
       "output_type": "stream",
       "stream": "stdout",
       "text": [
        "\r",
        "Computed features for frame 862 of 1280 in 0.07683801651"
       ]
      },
      {
       "output_type": "stream",
       "stream": "stdout",
       "text": [
        "\r",
        "Computed features for frame 863 of 1280 in 0.0867040157318"
       ]
      },
      {
       "output_type": "stream",
       "stream": "stdout",
       "text": [
        "\r",
        "Computed features for frame 864 of 1280 in 0.0781900882721"
       ]
      },
      {
       "output_type": "stream",
       "stream": "stdout",
       "text": [
        "\r",
        "Computed features for frame 865 of 1280 in 0.0860199928284"
       ]
      },
      {
       "output_type": "stream",
       "stream": "stdout",
       "text": [
        "\r",
        "Computed features for frame 866 of 1280 in 0.0928480625153"
       ]
      },
      {
       "output_type": "stream",
       "stream": "stdout",
       "text": [
        "\r",
        "Computed features for frame 867 of 1280 in 0.0807609558105"
       ]
      },
      {
       "output_type": "stream",
       "stream": "stdout",
       "text": [
        "\r",
        "Computed features for frame 868 of 1280 in 0.0783269405365"
       ]
      },
      {
       "output_type": "stream",
       "stream": "stdout",
       "text": [
        "\r",
        "Computed features for frame 869 of 1280 in 0.0794880390167"
       ]
      },
      {
       "output_type": "stream",
       "stream": "stdout",
       "text": [
        "\r",
        "Computed features for frame 870 of 1280 in 0.0828440189362"
       ]
      },
      {
       "output_type": "stream",
       "stream": "stdout",
       "text": [
        "\r",
        "Computed features for frame 871 of 1280 in 0.077663898468"
       ]
      },
      {
       "output_type": "stream",
       "stream": "stdout",
       "text": [
        "\r",
        "Computed features for frame 872 of 1280 in 0.0855550765991"
       ]
      },
      {
       "output_type": "stream",
       "stream": "stdout",
       "text": [
        "\r",
        "Computed features for frame 873 of 1280 in 0.0809118747711"
       ]
      },
      {
       "output_type": "stream",
       "stream": "stdout",
       "text": [
        "\r",
        "Computed features for frame 874 of 1280 in 0.104608058929"
       ]
      },
      {
       "output_type": "stream",
       "stream": "stdout",
       "text": [
        "\r",
        "Computed features for frame 875 of 1280 in 0.0865681171417"
       ]
      },
      {
       "output_type": "stream",
       "stream": "stdout",
       "text": [
        "\r",
        "Computed features for frame 876 of 1280 in 0.0780408382416"
       ]
      },
      {
       "output_type": "stream",
       "stream": "stdout",
       "text": [
        "\r",
        "Computed features for frame 877 of 1280 in 0.0799589157104"
       ]
      },
      {
       "output_type": "stream",
       "stream": "stdout",
       "text": [
        "\r",
        "Computed features for frame 878 of 1280 in 0.0855348110199"
       ]
      },
      {
       "output_type": "stream",
       "stream": "stdout",
       "text": [
        "\r",
        "Computed features for frame 879 of 1280 in 0.0967998504639"
       ]
      },
      {
       "output_type": "stream",
       "stream": "stdout",
       "text": [
        "\r",
        "Computed features for frame 880 of 1280 in 0.086639881134"
       ]
      },
      {
       "output_type": "stream",
       "stream": "stdout",
       "text": [
        "\r",
        "Computed features for frame 881 of 1280 in 0.0814099311829"
       ]
      },
      {
       "output_type": "stream",
       "stream": "stdout",
       "text": [
        "\r",
        "Computed features for frame 882 of 1280 in 0.0760087966919"
       ]
      },
      {
       "output_type": "stream",
       "stream": "stdout",
       "text": [
        "\r",
        "Computed features for frame 883 of 1280 in 0.0824708938599"
       ]
      },
      {
       "output_type": "stream",
       "stream": "stdout",
       "text": [
        "\r",
        "Computed features for frame 884 of 1280 in 0.0807290077209"
       ]
      },
      {
       "output_type": "stream",
       "stream": "stdout",
       "text": [
        "\r",
        "Computed features for frame 885 of 1280 in 0.0877239704132"
       ]
      },
      {
       "output_type": "stream",
       "stream": "stdout",
       "text": [
        "\r",
        "Computed features for frame 886 of 1280 in 0.0771560668945"
       ]
      },
      {
       "output_type": "stream",
       "stream": "stdout",
       "text": [
        "\r",
        "Computed features for frame 887 of 1280 in 0.079283952713"
       ]
      },
      {
       "output_type": "stream",
       "stream": "stdout",
       "text": [
        "\r",
        "Computed features for frame 888 of 1280 in 0.0832359790802"
       ]
      },
      {
       "output_type": "stream",
       "stream": "stdout",
       "text": [
        "\r",
        "Computed features for frame 889 of 1280 in 0.0848751068115"
       ]
      },
      {
       "output_type": "stream",
       "stream": "stdout",
       "text": [
        "\r",
        "Computed features for frame 890 of 1280 in 0.0785381793976"
       ]
      },
      {
       "output_type": "stream",
       "stream": "stdout",
       "text": [
        "\r",
        "Computed features for frame 891 of 1280 in 0.084165096283"
       ]
      },
      {
       "output_type": "stream",
       "stream": "stdout",
       "text": [
        "\r",
        "Computed features for frame 892 of 1280 in 0.0917191505432"
       ]
      },
      {
       "output_type": "stream",
       "stream": "stdout",
       "text": [
        "\r",
        "Computed features for frame 893 of 1280 in 0.09792304039"
       ]
      },
      {
       "output_type": "stream",
       "stream": "stdout",
       "text": [
        "\r",
        "Computed features for frame 894 of 1280 in 0.0809228420258"
       ]
      },
      {
       "output_type": "stream",
       "stream": "stdout",
       "text": [
        "\r",
        "Computed features for frame 895 of 1280 in 0.0881161689758"
       ]
      },
      {
       "output_type": "stream",
       "stream": "stdout",
       "text": [
        "\r",
        "Computed features for frame 896 of 1280 in 0.0840210914612"
       ]
      },
      {
       "output_type": "stream",
       "stream": "stdout",
       "text": [
        "\r",
        "Computed features for frame 897 of 1280 in 0.085560798645"
       ]
      },
      {
       "output_type": "stream",
       "stream": "stdout",
       "text": [
        "\r",
        "Computed features for frame 898 of 1280 in 0.0844650268555"
       ]
      },
      {
       "output_type": "stream",
       "stream": "stdout",
       "text": [
        "\r",
        "Computed features for frame 899 of 1280 in 0.097198009491"
       ]
      },
      {
       "output_type": "stream",
       "stream": "stdout",
       "text": [
        "\r",
        "Computed features for frame 900 of 1280 in 0.0903780460358"
       ]
      },
      {
       "output_type": "stream",
       "stream": "stdout",
       "text": [
        "\r",
        "Computed features for frame 901 of 1280 in 0.0818660259247"
       ]
      },
      {
       "output_type": "stream",
       "stream": "stdout",
       "text": [
        "\r",
        "Computed features for frame 902 of 1280 in 0.0921061038971"
       ]
      },
      {
       "output_type": "stream",
       "stream": "stdout",
       "text": [
        "\r",
        "Computed features for frame 903 of 1280 in 0.0865399837494"
       ]
      },
      {
       "output_type": "stream",
       "stream": "stdout",
       "text": [
        "\r",
        "Computed features for frame 904 of 1280 in 0.0797100067139"
       ]
      },
      {
       "output_type": "stream",
       "stream": "stdout",
       "text": [
        "\r",
        "Computed features for frame 905 of 1280 in 0.0802528858185"
       ]
      },
      {
       "output_type": "stream",
       "stream": "stdout",
       "text": [
        "\r",
        "Computed features for frame 906 of 1280 in 0.0813329219818"
       ]
      },
      {
       "output_type": "stream",
       "stream": "stdout",
       "text": [
        "\r",
        "Computed features for frame 907 of 1280 in 0.0900888442993"
       ]
      },
      {
       "output_type": "stream",
       "stream": "stdout",
       "text": [
        "\r",
        "Computed features for frame 908 of 1280 in 0.0825982093811"
       ]
      },
      {
       "output_type": "stream",
       "stream": "stdout",
       "text": [
        "\r",
        "Computed features for frame 909 of 1280 in 0.0798950195312"
       ]
      },
      {
       "output_type": "stream",
       "stream": "stdout",
       "text": [
        "\r",
        "Computed features for frame 910 of 1280 in 0.0776889324188"
       ]
      },
      {
       "output_type": "stream",
       "stream": "stdout",
       "text": [
        "\r",
        "Computed features for frame 911 of 1280 in 0.0828518867493"
       ]
      },
      {
       "output_type": "stream",
       "stream": "stdout",
       "text": [
        "\r",
        "Computed features for frame 912 of 1280 in 0.0804331302643"
       ]
      },
      {
       "output_type": "stream",
       "stream": "stdout",
       "text": [
        "\r",
        "Computed features for frame 913 of 1280 in 0.107851982117"
       ]
      },
      {
       "output_type": "stream",
       "stream": "stdout",
       "text": [
        "\r",
        "Computed features for frame 914 of 1280 in 0.084625005722"
       ]
      },
      {
       "output_type": "stream",
       "stream": "stdout",
       "text": [
        "\r",
        "Computed features for frame 915 of 1280 in 0.0892870426178"
       ]
      },
      {
       "output_type": "stream",
       "stream": "stdout",
       "text": [
        "\r",
        "Computed features for frame 916 of 1280 in 0.0979239940643"
       ]
      },
      {
       "output_type": "stream",
       "stream": "stdout",
       "text": [
        "\r",
        "Computed features for frame 917 of 1280 in 0.0930941104889"
       ]
      },
      {
       "output_type": "stream",
       "stream": "stdout",
       "text": [
        "\r",
        "Computed features for frame 918 of 1280 in 0.0975170135498"
       ]
      },
      {
       "output_type": "stream",
       "stream": "stdout",
       "text": [
        "\r",
        "Computed features for frame 919 of 1280 in 0.0911622047424"
       ]
      },
      {
       "output_type": "stream",
       "stream": "stdout",
       "text": [
        "\r",
        "Computed features for frame 920 of 1280 in 0.0877010822296"
       ]
      },
      {
       "output_type": "stream",
       "stream": "stdout",
       "text": [
        "\r",
        "Computed features for frame 921 of 1280 in 0.0814039707184"
       ]
      },
      {
       "output_type": "stream",
       "stream": "stdout",
       "text": [
        "\r",
        "Computed features for frame 922 of 1280 in 0.0913729667664"
       ]
      },
      {
       "output_type": "stream",
       "stream": "stdout",
       "text": [
        "\r",
        "Computed features for frame 923 of 1280 in 0.0911231040955"
       ]
      },
      {
       "output_type": "stream",
       "stream": "stdout",
       "text": [
        "\r",
        "Computed features for frame 924 of 1280 in 0.0794680118561"
       ]
      },
      {
       "output_type": "stream",
       "stream": "stdout",
       "text": [
        "\r",
        "Computed features for frame 925 of 1280 in 0.0900440216064"
       ]
      },
      {
       "output_type": "stream",
       "stream": "stdout",
       "text": [
        "\r",
        "Computed features for frame 926 of 1280 in 0.086776971817"
       ]
      },
      {
       "output_type": "stream",
       "stream": "stdout",
       "text": [
        "\r",
        "Computed features for frame 927 of 1280 in 0.0829100608826"
       ]
      },
      {
       "output_type": "stream",
       "stream": "stdout",
       "text": [
        "\r",
        "Computed features for frame 928 of 1280 in 0.0814700126648"
       ]
      },
      {
       "output_type": "stream",
       "stream": "stdout",
       "text": [
        "\r",
        "Computed features for frame 929 of 1280 in 0.0931930541992"
       ]
      },
      {
       "output_type": "stream",
       "stream": "stdout",
       "text": [
        "\r",
        "Computed features for frame 930 of 1280 in 0.0852000713348"
       ]
      },
      {
       "output_type": "stream",
       "stream": "stdout",
       "text": [
        "\r",
        "Computed features for frame 931 of 1280 in 0.080157995224"
       ]
      },
      {
       "output_type": "stream",
       "stream": "stdout",
       "text": [
        "\r",
        "Computed features for frame 932 of 1280 in 0.0768702030182"
       ]
      },
      {
       "output_type": "stream",
       "stream": "stdout",
       "text": [
        "\r",
        "Computed features for frame 933 of 1280 in 0.0769739151001"
       ]
      },
      {
       "output_type": "stream",
       "stream": "stdout",
       "text": [
        "\r",
        "Computed features for frame 934 of 1280 in 0.0793251991272"
       ]
      },
      {
       "output_type": "stream",
       "stream": "stdout",
       "text": [
        "\r",
        "Computed features for frame 935 of 1280 in 0.0815451145172"
       ]
      },
      {
       "output_type": "stream",
       "stream": "stdout",
       "text": [
        "\r",
        "Computed features for frame 936 of 1280 in 0.0787379741669"
       ]
      },
      {
       "output_type": "stream",
       "stream": "stdout",
       "text": [
        "\r",
        "Computed features for frame 937 of 1280 in 0.0799739360809"
       ]
      },
      {
       "output_type": "stream",
       "stream": "stdout",
       "text": [
        "\r",
        "Computed features for frame 938 of 1280 in 0.0781481266022"
       ]
      },
      {
       "output_type": "stream",
       "stream": "stdout",
       "text": [
        "\r",
        "Computed features for frame 939 of 1280 in 0.0902509689331"
       ]
      },
      {
       "output_type": "stream",
       "stream": "stdout",
       "text": [
        "\r",
        "Computed features for frame 940 of 1280 in 0.095342874527"
       ]
      },
      {
       "output_type": "stream",
       "stream": "stdout",
       "text": [
        "\r",
        "Computed features for frame 941 of 1280 in 0.0872819423676"
       ]
      },
      {
       "output_type": "stream",
       "stream": "stdout",
       "text": [
        "\r",
        "Computed features for frame 942 of 1280 in 0.085165977478"
       ]
      },
      {
       "output_type": "stream",
       "stream": "stdout",
       "text": [
        "\r",
        "Computed features for frame 943 of 1280 in 0.0829091072083"
       ]
      },
      {
       "output_type": "stream",
       "stream": "stdout",
       "text": [
        "\r",
        "Computed features for frame 944 of 1280 in 0.0797388553619"
       ]
      },
      {
       "output_type": "stream",
       "stream": "stdout",
       "text": [
        "\r",
        "Computed features for frame 945 of 1280 in 0.0786831378937"
       ]
      },
      {
       "output_type": "stream",
       "stream": "stdout",
       "text": [
        "\r",
        "Computed features for frame 946 of 1280 in 0.0791611671448"
       ]
      },
      {
       "output_type": "stream",
       "stream": "stdout",
       "text": [
        "\r",
        "Computed features for frame 947 of 1280 in 0.0803220272064"
       ]
      },
      {
       "output_type": "stream",
       "stream": "stdout",
       "text": [
        "\r",
        "Computed features for frame 948 of 1280 in 0.0807158946991"
       ]
      },
      {
       "output_type": "stream",
       "stream": "stdout",
       "text": [
        "\r",
        "Computed features for frame 949 of 1280 in 0.0905258655548"
       ]
      },
      {
       "output_type": "stream",
       "stream": "stdout",
       "text": [
        "\r",
        "Computed features for frame 950 of 1280 in 0.099200963974"
       ]
      },
      {
       "output_type": "stream",
       "stream": "stdout",
       "text": [
        "\r",
        "Computed features for frame 951 of 1280 in 0.0906000137329"
       ]
      },
      {
       "output_type": "stream",
       "stream": "stdout",
       "text": [
        "\r",
        "Computed features for frame 952 of 1280 in 0.0973839759827"
       ]
      },
      {
       "output_type": "stream",
       "stream": "stdout",
       "text": [
        "\r",
        "Computed features for frame 953 of 1280 in 0.0909399986267"
       ]
      },
      {
       "output_type": "stream",
       "stream": "stdout",
       "text": [
        "\r",
        "Computed features for frame 954 of 1280 in 0.0857710838318"
       ]
      },
      {
       "output_type": "stream",
       "stream": "stdout",
       "text": [
        "\r",
        "Computed features for frame 955 of 1280 in 0.0774819850922"
       ]
      },
      {
       "output_type": "stream",
       "stream": "stdout",
       "text": [
        "\r",
        "Computed features for frame 956 of 1280 in 0.090588092804"
       ]
      },
      {
       "output_type": "stream",
       "stream": "stdout",
       "text": [
        "\r",
        "Computed features for frame 957 of 1280 in 0.080060005188"
       ]
      },
      {
       "output_type": "stream",
       "stream": "stdout",
       "text": [
        "\r",
        "Computed features for frame 958 of 1280 in 0.0864028930664"
       ]
      },
      {
       "output_type": "stream",
       "stream": "stdout",
       "text": [
        "\r",
        "Computed features for frame 959 of 1280 in 0.0812921524048"
       ]
      },
      {
       "output_type": "stream",
       "stream": "stdout",
       "text": [
        "\r",
        "Computed features for frame 960 of 1280 in 0.0803010463715"
       ]
      },
      {
       "output_type": "stream",
       "stream": "stdout",
       "text": [
        "\r",
        "Computed features for frame 961 of 1280 in 0.0816860198975"
       ]
      },
      {
       "output_type": "stream",
       "stream": "stdout",
       "text": [
        "\r",
        "Computed features for frame 962 of 1280 in 0.0794749259949"
       ]
      },
      {
       "output_type": "stream",
       "stream": "stdout",
       "text": [
        "\r",
        "Computed features for frame 963 of 1280 in 0.0775430202484"
       ]
      },
      {
       "output_type": "stream",
       "stream": "stdout",
       "text": [
        "\r",
        "Computed features for frame 964 of 1280 in 0.0827510356903"
       ]
      },
      {
       "output_type": "stream",
       "stream": "stdout",
       "text": [
        "\r",
        "Computed features for frame 965 of 1280 in 0.106695890427"
       ]
      },
      {
       "output_type": "stream",
       "stream": "stdout",
       "text": [
        "\r",
        "Computed features for frame 966 of 1280 in 0.107928991318"
       ]
      },
      {
       "output_type": "stream",
       "stream": "stdout",
       "text": [
        "\r",
        "Computed features for frame 967 of 1280 in 0.0834178924561"
       ]
      },
      {
       "output_type": "stream",
       "stream": "stdout",
       "text": [
        "\r",
        "Computed features for frame 968 of 1280 in 0.0951969623566"
       ]
      },
      {
       "output_type": "stream",
       "stream": "stdout",
       "text": [
        "\r",
        "Computed features for frame 969 of 1280 in 0.0789079666138"
       ]
      },
      {
       "output_type": "stream",
       "stream": "stdout",
       "text": [
        "\r",
        "Computed features for frame 970 of 1280 in 0.0793280601501"
       ]
      },
      {
       "output_type": "stream",
       "stream": "stdout",
       "text": [
        "\r",
        "Computed features for frame 971 of 1280 in 0.094603061676"
       ]
      },
      {
       "output_type": "stream",
       "stream": "stdout",
       "text": [
        "\r",
        "Computed features for frame 972 of 1280 in 0.0965700149536"
       ]
      },
      {
       "output_type": "stream",
       "stream": "stdout",
       "text": [
        "\r",
        "Computed features for frame 973 of 1280 in 0.0842700004578"
       ]
      },
      {
       "output_type": "stream",
       "stream": "stdout",
       "text": [
        "\r",
        "Computed features for frame 974 of 1280 in 0.0900280475616"
       ]
      },
      {
       "output_type": "stream",
       "stream": "stdout",
       "text": [
        "\r",
        "Computed features for frame 975 of 1280 in 0.0903670787811"
       ]
      },
      {
       "output_type": "stream",
       "stream": "stdout",
       "text": [
        "\r",
        "Computed features for frame 976 of 1280 in 0.0882170200348"
       ]
      },
      {
       "output_type": "stream",
       "stream": "stdout",
       "text": [
        "\r",
        "Computed features for frame 977 of 1280 in 0.0947098731995"
       ]
      },
      {
       "output_type": "stream",
       "stream": "stdout",
       "text": [
        "\r",
        "Computed features for frame 978 of 1280 in 0.0908479690552"
       ]
      },
      {
       "output_type": "stream",
       "stream": "stdout",
       "text": [
        "\r",
        "Computed features for frame 979 of 1280 in 0.0931811332703"
       ]
      },
      {
       "output_type": "stream",
       "stream": "stdout",
       "text": [
        "\r",
        "Computed features for frame 980 of 1280 in 0.0814399719238"
       ]
      },
      {
       "output_type": "stream",
       "stream": "stdout",
       "text": [
        "\r",
        "Computed features for frame 981 of 1280 in 0.0830810070038"
       ]
      },
      {
       "output_type": "stream",
       "stream": "stdout",
       "text": [
        "\r",
        "Computed features for frame 982 of 1280 in 0.0847859382629"
       ]
      },
      {
       "output_type": "stream",
       "stream": "stdout",
       "text": [
        "\r",
        "Computed features for frame 983 of 1280 in 0.0802509784698"
       ]
      },
      {
       "output_type": "stream",
       "stream": "stdout",
       "text": [
        "\r",
        "Computed features for frame 984 of 1280 in 0.0799732208252"
       ]
      },
      {
       "output_type": "stream",
       "stream": "stdout",
       "text": [
        "\r",
        "Computed features for frame 985 of 1280 in 0.080531835556"
       ]
      },
      {
       "output_type": "stream",
       "stream": "stdout",
       "text": [
        "\r",
        "Computed features for frame 986 of 1280 in 0.084655046463"
       ]
      },
      {
       "output_type": "stream",
       "stream": "stdout",
       "text": [
        "\r",
        "Computed features for frame 987 of 1280 in 0.0802738666534"
       ]
      },
      {
       "output_type": "stream",
       "stream": "stdout",
       "text": [
        "\r",
        "Computed features for frame 988 of 1280 in 0.0924129486084"
       ]
      },
      {
       "output_type": "stream",
       "stream": "stdout",
       "text": [
        "\r",
        "Computed features for frame 989 of 1280 in 0.0915410518646"
       ]
      },
      {
       "output_type": "stream",
       "stream": "stdout",
       "text": [
        "\r",
        "Computed features for frame 990 of 1280 in 0.0941729545593"
       ]
      },
      {
       "output_type": "stream",
       "stream": "stdout",
       "text": [
        "\r",
        "Computed features for frame 991 of 1280 in 0.080796957016"
       ]
      },
      {
       "output_type": "stream",
       "stream": "stdout",
       "text": [
        "\r",
        "Computed features for frame 992 of 1280 in 0.0845301151276"
       ]
      },
      {
       "output_type": "stream",
       "stream": "stdout",
       "text": [
        "\r",
        "Computed features for frame 993 of 1280 in 0.102329015732"
       ]
      },
      {
       "output_type": "stream",
       "stream": "stdout",
       "text": [
        "\r",
        "Computed features for frame 994 of 1280 in 0.0791687965393"
       ]
      },
      {
       "output_type": "stream",
       "stream": "stdout",
       "text": [
        "\r",
        "Computed features for frame 995 of 1280 in 0.0974628925323"
       ]
      },
      {
       "output_type": "stream",
       "stream": "stdout",
       "text": [
        "\r",
        "Computed features for frame 996 of 1280 in 0.0874979496002"
       ]
      },
      {
       "output_type": "stream",
       "stream": "stdout",
       "text": [
        "\r",
        "Computed features for frame 997 of 1280 in 0.0818409919739"
       ]
      },
      {
       "output_type": "stream",
       "stream": "stdout",
       "text": [
        "\r",
        "Computed features for frame 998 of 1280 in 0.0782470703125"
       ]
      },
      {
       "output_type": "stream",
       "stream": "stdout",
       "text": [
        "\r",
        "Computed features for frame 999 of 1280 in 0.07661485672"
       ]
      },
      {
       "output_type": "stream",
       "stream": "stdout",
       "text": [
        "\r",
        "Computed features for frame 1000 of 1280 in 0.0792989730835"
       ]
      },
      {
       "output_type": "stream",
       "stream": "stdout",
       "text": [
        "\r",
        "Computed features for frame 1001 of 1280 in 0.0786049365997"
       ]
      },
      {
       "output_type": "stream",
       "stream": "stdout",
       "text": [
        "\r",
        "Computed features for frame 1002 of 1280 in 0.0811679363251"
       ]
      },
      {
       "output_type": "stream",
       "stream": "stdout",
       "text": [
        "\r",
        "Computed features for frame 1003 of 1280 in 0.0774478912354"
       ]
      },
      {
       "output_type": "stream",
       "stream": "stdout",
       "text": [
        "\r",
        "Computed features for frame 1004 of 1280 in 0.0779211521149"
       ]
      },
      {
       "output_type": "stream",
       "stream": "stdout",
       "text": [
        "\r",
        "Computed features for frame 1005 of 1280 in 0.0836780071259"
       ]
      },
      {
       "output_type": "stream",
       "stream": "stdout",
       "text": [
        "\r",
        "Computed features for frame 1006 of 1280 in 0.0782060623169"
       ]
      },
      {
       "output_type": "stream",
       "stream": "stdout",
       "text": [
        "\r",
        "Computed features for frame 1007 of 1280 in 0.0813429355621"
       ]
      },
      {
       "output_type": "stream",
       "stream": "stdout",
       "text": [
        "\r",
        "Computed features for frame 1008 of 1280 in 0.0793511867523"
       ]
      },
      {
       "output_type": "stream",
       "stream": "stdout",
       "text": [
        "\r",
        "Computed features for frame 1009 of 1280 in 0.0814390182495"
       ]
      },
      {
       "output_type": "stream",
       "stream": "stdout",
       "text": [
        "\r",
        "Computed features for frame 1010 of 1280 in 0.0804991722107"
       ]
      },
      {
       "output_type": "stream",
       "stream": "stdout",
       "text": [
        "\r",
        "Computed features for frame 1011 of 1280 in 0.0783259868622"
       ]
      },
      {
       "output_type": "stream",
       "stream": "stdout",
       "text": [
        "\r",
        "Computed features for frame 1012 of 1280 in 0.0889449119568"
       ]
      },
      {
       "output_type": "stream",
       "stream": "stdout",
       "text": [
        "\r",
        "Computed features for frame 1013 of 1280 in 0.0803010463715"
       ]
      },
      {
       "output_type": "stream",
       "stream": "stdout",
       "text": [
        "\r",
        "Computed features for frame 1014 of 1280 in 0.0794320106506"
       ]
      },
      {
       "output_type": "stream",
       "stream": "stdout",
       "text": [
        "\r",
        "Computed features for frame 1015 of 1280 in 0.0801599025726"
       ]
      },
      {
       "output_type": "stream",
       "stream": "stdout",
       "text": [
        "\r",
        "Computed features for frame 1016 of 1280 in 0.0829019546509"
       ]
      },
      {
       "output_type": "stream",
       "stream": "stdout",
       "text": [
        "\r",
        "Computed features for frame 1017 of 1280 in 0.0833067893982"
       ]
      },
      {
       "output_type": "stream",
       "stream": "stdout",
       "text": [
        "\r",
        "Computed features for frame 1018 of 1280 in 0.0777819156647"
       ]
      },
      {
       "output_type": "stream",
       "stream": "stdout",
       "text": [
        "\r",
        "Computed features for frame 1019 of 1280 in 0.0797989368439"
       ]
      },
      {
       "output_type": "stream",
       "stream": "stdout",
       "text": [
        "\r",
        "Computed features for frame 1020 of 1280 in 0.0811729431152"
       ]
      },
      {
       "output_type": "stream",
       "stream": "stdout",
       "text": [
        "\r",
        "Computed features for frame 1021 of 1280 in 0.0786139965057"
       ]
      },
      {
       "output_type": "stream",
       "stream": "stdout",
       "text": [
        "\r",
        "Computed features for frame 1022 of 1280 in 0.0790071487427"
       ]
      },
      {
       "output_type": "stream",
       "stream": "stdout",
       "text": [
        "\r",
        "Computed features for frame 1023 of 1280 in 0.0803260803223"
       ]
      },
      {
       "output_type": "stream",
       "stream": "stdout",
       "text": [
        "\r",
        "Computed features for frame 1024 of 1280 in 0.0945010185242"
       ]
      },
      {
       "output_type": "stream",
       "stream": "stdout",
       "text": [
        "\r",
        "Computed features for frame 1025 of 1280 in 0.0894792079926"
       ]
      },
      {
       "output_type": "stream",
       "stream": "stdout",
       "text": [
        "\r",
        "Computed features for frame 1026 of 1280 in 0.0787038803101"
       ]
      },
      {
       "output_type": "stream",
       "stream": "stdout",
       "text": [
        "\r",
        "Computed features for frame 1027 of 1280 in 0.0878968238831"
       ]
      },
      {
       "output_type": "stream",
       "stream": "stdout",
       "text": [
        "\r",
        "Computed features for frame 1028 of 1280 in 0.0886089801788"
       ]
      },
      {
       "output_type": "stream",
       "stream": "stdout",
       "text": [
        "\r",
        "Computed features for frame 1029 of 1280 in 0.0847418308258"
       ]
      },
      {
       "output_type": "stream",
       "stream": "stdout",
       "text": [
        "\r",
        "Computed features for frame 1030 of 1280 in 0.0812318325043"
       ]
      },
      {
       "output_type": "stream",
       "stream": "stdout",
       "text": [
        "\r",
        "Computed features for frame 1031 of 1280 in 0.0777909755707"
       ]
      },
      {
       "output_type": "stream",
       "stream": "stdout",
       "text": [
        "\r",
        "Computed features for frame 1032 of 1280 in 0.0814418792725"
       ]
      },
      {
       "output_type": "stream",
       "stream": "stdout",
       "text": [
        "\r",
        "Computed features for frame 1033 of 1280 in 0.0867481231689"
       ]
      },
      {
       "output_type": "stream",
       "stream": "stdout",
       "text": [
        "\r",
        "Computed features for frame 1034 of 1280 in 0.0790369510651"
       ]
      },
      {
       "output_type": "stream",
       "stream": "stdout",
       "text": [
        "\r",
        "Computed features for frame 1035 of 1280 in 0.0892701148987"
       ]
      },
      {
       "output_type": "stream",
       "stream": "stdout",
       "text": [
        "\r",
        "Computed features for frame 1036 of 1280 in 0.0821208953857"
       ]
      },
      {
       "output_type": "stream",
       "stream": "stdout",
       "text": [
        "\r",
        "Computed features for frame 1037 of 1280 in 0.0773370265961"
       ]
      },
      {
       "output_type": "stream",
       "stream": "stdout",
       "text": [
        "\r",
        "Computed features for frame 1038 of 1280 in 0.0785942077637"
       ]
      },
      {
       "output_type": "stream",
       "stream": "stdout",
       "text": [
        "\r",
        "Computed features for frame 1039 of 1280 in 0.0776259899139"
       ]
      },
      {
       "output_type": "stream",
       "stream": "stdout",
       "text": [
        "\r",
        "Computed features for frame 1040 of 1280 in 0.0823140144348"
       ]
      },
      {
       "output_type": "stream",
       "stream": "stdout",
       "text": [
        "\r",
        "Computed features for frame 1041 of 1280 in 0.0787179470062"
       ]
      },
      {
       "output_type": "stream",
       "stream": "stdout",
       "text": [
        "\r",
        "Computed features for frame 1042 of 1280 in 0.0815010070801"
       ]
      },
      {
       "output_type": "stream",
       "stream": "stdout",
       "text": [
        "\r",
        "Computed features for frame 1043 of 1280 in 0.0785529613495"
       ]
      },
      {
       "output_type": "stream",
       "stream": "stdout",
       "text": [
        "\r",
        "Computed features for frame 1044 of 1280 in 0.078488111496"
       ]
      },
      {
       "output_type": "stream",
       "stream": "stdout",
       "text": [
        "\r",
        "Computed features for frame 1045 of 1280 in 0.0775668621063"
       ]
      },
      {
       "output_type": "stream",
       "stream": "stdout",
       "text": [
        "\r",
        "Computed features for frame 1046 of 1280 in 0.0811760425568"
       ]
      },
      {
       "output_type": "stream",
       "stream": "stdout",
       "text": [
        "\r",
        "Computed features for frame 1047 of 1280 in 0.0784709453583"
       ]
      },
      {
       "output_type": "stream",
       "stream": "stdout",
       "text": [
        "\r",
        "Computed features for frame 1048 of 1280 in 0.0775330066681"
       ]
      },
      {
       "output_type": "stream",
       "stream": "stdout",
       "text": [
        "\r",
        "Computed features for frame 1049 of 1280 in 0.0778570175171"
       ]
      },
      {
       "output_type": "stream",
       "stream": "stdout",
       "text": [
        "\r",
        "Computed features for frame 1050 of 1280 in 0.0846471786499"
       ]
      },
      {
       "output_type": "stream",
       "stream": "stdout",
       "text": [
        "\r",
        "Computed features for frame 1051 of 1280 in 0.0793159008026"
       ]
      },
      {
       "output_type": "stream",
       "stream": "stdout",
       "text": [
        "\r",
        "Computed features for frame 1052 of 1280 in 0.0841469764709"
       ]
      },
      {
       "output_type": "stream",
       "stream": "stdout",
       "text": [
        "\r",
        "Computed features for frame 1053 of 1280 in 0.0957071781158"
       ]
      },
      {
       "output_type": "stream",
       "stream": "stdout",
       "text": [
        "\r",
        "Computed features for frame 1054 of 1280 in 0.0806751251221"
       ]
      },
      {
       "output_type": "stream",
       "stream": "stdout",
       "text": [
        "\r",
        "Computed features for frame 1055 of 1280 in 0.0827841758728"
       ]
      },
      {
       "output_type": "stream",
       "stream": "stdout",
       "text": [
        "\r",
        "Computed features for frame 1056 of 1280 in 0.0830919742584"
       ]
      },
      {
       "output_type": "stream",
       "stream": "stdout",
       "text": [
        "\r",
        "Computed features for frame 1057 of 1280 in 0.093052148819"
       ]
      },
      {
       "output_type": "stream",
       "stream": "stdout",
       "text": [
        "\r",
        "Computed features for frame 1058 of 1280 in 0.0970389842987"
       ]
      },
      {
       "output_type": "stream",
       "stream": "stdout",
       "text": [
        "\r",
        "Computed features for frame 1059 of 1280 in 0.0914509296417"
       ]
      },
      {
       "output_type": "stream",
       "stream": "stdout",
       "text": [
        "\r",
        "Computed features for frame 1060 of 1280 in 0.0824928283691"
       ]
      },
      {
       "output_type": "stream",
       "stream": "stdout",
       "text": [
        "\r",
        "Computed features for frame 1061 of 1280 in 0.0828630924225"
       ]
      },
      {
       "output_type": "stream",
       "stream": "stdout",
       "text": [
        "\r",
        "Computed features for frame 1062 of 1280 in 0.0796399116516"
       ]
      },
      {
       "output_type": "stream",
       "stream": "stdout",
       "text": [
        "\r",
        "Computed features for frame 1063 of 1280 in 0.081207036972"
       ]
      },
      {
       "output_type": "stream",
       "stream": "stdout",
       "text": [
        "\r",
        "Computed features for frame 1064 of 1280 in 0.0825259685516"
       ]
      },
      {
       "output_type": "stream",
       "stream": "stdout",
       "text": [
        "\r",
        "Computed features for frame 1065 of 1280 in 0.0897600650787"
       ]
      },
      {
       "output_type": "stream",
       "stream": "stdout",
       "text": [
        "\r",
        "Computed features for frame 1066 of 1280 in 0.0813219547272"
       ]
      },
      {
       "output_type": "stream",
       "stream": "stdout",
       "text": [
        "\r",
        "Computed features for frame 1067 of 1280 in 0.0781347751617"
       ]
      },
      {
       "output_type": "stream",
       "stream": "stdout",
       "text": [
        "\r",
        "Computed features for frame 1068 of 1280 in 0.0834128856659"
       ]
      },
      {
       "output_type": "stream",
       "stream": "stdout",
       "text": [
        "\r",
        "Computed features for frame 1069 of 1280 in 0.0778369903564"
       ]
      },
      {
       "output_type": "stream",
       "stream": "stdout",
       "text": [
        "\r",
        "Computed features for frame 1070 of 1280 in 0.082615852356"
       ]
      },
      {
       "output_type": "stream",
       "stream": "stdout",
       "text": [
        "\r",
        "Computed features for frame 1071 of 1280 in 0.0798499584198"
       ]
      },
      {
       "output_type": "stream",
       "stream": "stdout",
       "text": [
        "\r",
        "Computed features for frame 1072 of 1280 in 0.0812480449677"
       ]
      },
      {
       "output_type": "stream",
       "stream": "stdout",
       "text": [
        "\r",
        "Computed features for frame 1073 of 1280 in 0.0781538486481"
       ]
      },
      {
       "output_type": "stream",
       "stream": "stdout",
       "text": [
        "\r",
        "Computed features for frame 1074 of 1280 in 0.0786468982697"
       ]
      },
      {
       "output_type": "stream",
       "stream": "stdout",
       "text": [
        "\r",
        "Computed features for frame 1075 of 1280 in 0.0810589790344"
       ]
      },
      {
       "output_type": "stream",
       "stream": "stdout",
       "text": [
        "\r",
        "Computed features for frame 1076 of 1280 in 0.0790100097656"
       ]
      },
      {
       "output_type": "stream",
       "stream": "stdout",
       "text": [
        "\r",
        "Computed features for frame 1077 of 1280 in 0.0805540084839"
       ]
      },
      {
       "output_type": "stream",
       "stream": "stdout",
       "text": [
        "\r",
        "Computed features for frame 1078 of 1280 in 0.0839710235596"
       ]
      },
      {
       "output_type": "stream",
       "stream": "stdout",
       "text": [
        "\r",
        "Computed features for frame 1079 of 1280 in 0.0793850421906"
       ]
      },
      {
       "output_type": "stream",
       "stream": "stdout",
       "text": [
        "\r",
        "Computed features for frame 1080 of 1280 in 0.0909149646759"
       ]
      },
      {
       "output_type": "stream",
       "stream": "stdout",
       "text": [
        "\r",
        "Computed features for frame 1081 of 1280 in 0.0863900184631"
       ]
      },
      {
       "output_type": "stream",
       "stream": "stdout",
       "text": [
        "\r",
        "Computed features for frame 1082 of 1280 in 0.0859279632568"
       ]
      },
      {
       "output_type": "stream",
       "stream": "stdout",
       "text": [
        "\r",
        "Computed features for frame 1083 of 1280 in 0.0915510654449"
       ]
      },
      {
       "output_type": "stream",
       "stream": "stdout",
       "text": [
        "\r",
        "Computed features for frame 1084 of 1280 in 0.086119890213"
       ]
      },
      {
       "output_type": "stream",
       "stream": "stdout",
       "text": [
        "\r",
        "Computed features for frame 1085 of 1280 in 0.0807921886444"
       ]
      },
      {
       "output_type": "stream",
       "stream": "stdout",
       "text": [
        "\r",
        "Computed features for frame 1086 of 1280 in 0.0796930789948"
       ]
      },
      {
       "output_type": "stream",
       "stream": "stdout",
       "text": [
        "\r",
        "Computed features for frame 1087 of 1280 in 0.0873742103577"
       ]
      },
      {
       "output_type": "stream",
       "stream": "stdout",
       "text": [
        "\r",
        "Computed features for frame 1088 of 1280 in 0.0861799716949"
       ]
      },
      {
       "output_type": "stream",
       "stream": "stdout",
       "text": [
        "\r",
        "Computed features for frame 1089 of 1280 in 0.0837898254395"
       ]
      },
      {
       "output_type": "stream",
       "stream": "stdout",
       "text": [
        "\r",
        "Computed features for frame 1090 of 1280 in 0.0877900123596"
       ]
      },
      {
       "output_type": "stream",
       "stream": "stdout",
       "text": [
        "\r",
        "Computed features for frame 1091 of 1280 in 0.081799030304"
       ]
      },
      {
       "output_type": "stream",
       "stream": "stdout",
       "text": [
        "\r",
        "Computed features for frame 1092 of 1280 in 0.0800909996033"
       ]
      },
      {
       "output_type": "stream",
       "stream": "stdout",
       "text": [
        "\r",
        "Computed features for frame 1093 of 1280 in 0.081866979599"
       ]
      },
      {
       "output_type": "stream",
       "stream": "stdout",
       "text": [
        "\r",
        "Computed features for frame 1094 of 1280 in 0.0805420875549"
       ]
      },
      {
       "output_type": "stream",
       "stream": "stdout",
       "text": [
        "\r",
        "Computed features for frame 1095 of 1280 in 0.0804350376129"
       ]
      },
      {
       "output_type": "stream",
       "stream": "stdout",
       "text": [
        "\r",
        "Computed features for frame 1096 of 1280 in 0.0856628417969"
       ]
      },
      {
       "output_type": "stream",
       "stream": "stdout",
       "text": [
        "\r",
        "Computed features for frame 1097 of 1280 in 0.0840361118317"
       ]
      },
      {
       "output_type": "stream",
       "stream": "stdout",
       "text": [
        "\r",
        "Computed features for frame 1098 of 1280 in 0.0803451538086"
       ]
      },
      {
       "output_type": "stream",
       "stream": "stdout",
       "text": [
        "\r",
        "Computed features for frame 1099 of 1280 in 0.0789539813995"
       ]
      },
      {
       "output_type": "stream",
       "stream": "stdout",
       "text": [
        "\r",
        "Computed features for frame 1100 of 1280 in 0.0810699462891"
       ]
      },
      {
       "output_type": "stream",
       "stream": "stdout",
       "text": [
        "\r",
        "Computed features for frame 1101 of 1280 in 0.0793991088867"
       ]
      },
      {
       "output_type": "stream",
       "stream": "stdout",
       "text": [
        "\r",
        "Computed features for frame 1102 of 1280 in 0.0883731842041"
       ]
      },
      {
       "output_type": "stream",
       "stream": "stdout",
       "text": [
        "\r",
        "Computed features for frame 1103 of 1280 in 0.082927942276"
       ]
      },
      {
       "output_type": "stream",
       "stream": "stdout",
       "text": [
        "\r",
        "Computed features for frame 1104 of 1280 in 0.0877380371094"
       ]
      },
      {
       "output_type": "stream",
       "stream": "stdout",
       "text": [
        "\r",
        "Computed features for frame 1105 of 1280 in 0.0810761451721"
       ]
      },
      {
       "output_type": "stream",
       "stream": "stdout",
       "text": [
        "\r",
        "Computed features for frame 1106 of 1280 in 0.0945611000061"
       ]
      },
      {
       "output_type": "stream",
       "stream": "stdout",
       "text": [
        "\r",
        "Computed features for frame 1107 of 1280 in 0.0819969177246"
       ]
      },
      {
       "output_type": "stream",
       "stream": "stdout",
       "text": [
        "\r",
        "Computed features for frame 1108 of 1280 in 0.0832810401917"
       ]
      },
      {
       "output_type": "stream",
       "stream": "stdout",
       "text": [
        "\r",
        "Computed features for frame 1109 of 1280 in 0.0794341564178"
       ]
      },
      {
       "output_type": "stream",
       "stream": "stdout",
       "text": [
        "\r",
        "Computed features for frame 1110 of 1280 in 0.0903339385986"
       ]
      },
      {
       "output_type": "stream",
       "stream": "stdout",
       "text": [
        "\r",
        "Computed features for frame 1111 of 1280 in 0.0897569656372"
       ]
      },
      {
       "output_type": "stream",
       "stream": "stdout",
       "text": [
        "\r",
        "Computed features for frame 1112 of 1280 in 0.0805621147156"
       ]
      },
      {
       "output_type": "stream",
       "stream": "stdout",
       "text": [
        "\r",
        "Computed features for frame 1113 of 1280 in 0.106415987015"
       ]
      },
      {
       "output_type": "stream",
       "stream": "stdout",
       "text": [
        "\r",
        "Computed features for frame 1114 of 1280 in 0.0998919010162"
       ]
      },
      {
       "output_type": "stream",
       "stream": "stdout",
       "text": [
        "\r",
        "Computed features for frame 1115 of 1280 in 0.0846431255341"
       ]
      },
      {
       "output_type": "stream",
       "stream": "stdout",
       "text": [
        "\r",
        "Computed features for frame 1116 of 1280 in 0.0780470371246"
       ]
      },
      {
       "output_type": "stream",
       "stream": "stdout",
       "text": [
        "\r",
        "Computed features for frame 1117 of 1280 in 0.0801520347595"
       ]
      },
      {
       "output_type": "stream",
       "stream": "stdout",
       "text": [
        "\r",
        "Computed features for frame 1118 of 1280 in 0.0820209980011"
       ]
      },
      {
       "output_type": "stream",
       "stream": "stdout",
       "text": [
        "\r",
        "Computed features for frame 1119 of 1280 in 0.0975978374481"
       ]
      },
      {
       "output_type": "stream",
       "stream": "stdout",
       "text": [
        "\r",
        "Computed features for frame 1120 of 1280 in 0.102738857269"
       ]
      },
      {
       "output_type": "stream",
       "stream": "stdout",
       "text": [
        "\r",
        "Computed features for frame 1121 of 1280 in 0.0868620872498"
       ]
      },
      {
       "output_type": "stream",
       "stream": "stdout",
       "text": [
        "\r",
        "Computed features for frame 1122 of 1280 in 0.0868258476257"
       ]
      },
      {
       "output_type": "stream",
       "stream": "stdout",
       "text": [
        "\r",
        "Computed features for frame 1123 of 1280 in 0.0824749469757"
       ]
      },
      {
       "output_type": "stream",
       "stream": "stdout",
       "text": [
        "\r",
        "Computed features for frame 1124 of 1280 in 0.0798208713531"
       ]
      },
      {
       "output_type": "stream",
       "stream": "stdout",
       "text": [
        "\r",
        "Computed features for frame 1125 of 1280 in 0.0815501213074"
       ]
      },
      {
       "output_type": "stream",
       "stream": "stdout",
       "text": [
        "\r",
        "Computed features for frame 1126 of 1280 in 0.0861999988556"
       ]
      },
      {
       "output_type": "stream",
       "stream": "stdout",
       "text": [
        "\r",
        "Computed features for frame 1127 of 1280 in 0.0839521884918"
       ]
      },
      {
       "output_type": "stream",
       "stream": "stdout",
       "text": [
        "\r",
        "Computed features for frame 1128 of 1280 in 0.0798368453979"
       ]
      },
      {
       "output_type": "stream",
       "stream": "stdout",
       "text": [
        "\r",
        "Computed features for frame 1129 of 1280 in 0.0793180465698"
       ]
      },
      {
       "output_type": "stream",
       "stream": "stdout",
       "text": [
        "\r",
        "Computed features for frame 1130 of 1280 in 0.0938880443573"
       ]
      },
      {
       "output_type": "stream",
       "stream": "stdout",
       "text": [
        "\r",
        "Computed features for frame 1131 of 1280 in 0.118210792542"
       ]
      },
      {
       "output_type": "stream",
       "stream": "stdout",
       "text": [
        "\r",
        "Computed features for frame 1132 of 1280 in 0.0912449359894"
       ]
      },
      {
       "output_type": "stream",
       "stream": "stdout",
       "text": [
        "\r",
        "Computed features for frame 1133 of 1280 in 0.0919449329376"
       ]
      },
      {
       "output_type": "stream",
       "stream": "stdout",
       "text": [
        "\r",
        "Computed features for frame 1134 of 1280 in 0.0935261249542"
       ]
      },
      {
       "output_type": "stream",
       "stream": "stdout",
       "text": [
        "\r",
        "Computed features for frame 1135 of 1280 in 0.0869829654694"
       ]
      },
      {
       "output_type": "stream",
       "stream": "stdout",
       "text": [
        "\r",
        "Computed features for frame 1136 of 1280 in 0.0833439826965"
       ]
      },
      {
       "output_type": "stream",
       "stream": "stdout",
       "text": [
        "\r",
        "Computed features for frame 1137 of 1280 in 0.104967832565"
       ]
      },
      {
       "output_type": "stream",
       "stream": "stdout",
       "text": [
        "\r",
        "Computed features for frame 1138 of 1280 in 0.0911631584167"
       ]
      },
      {
       "output_type": "stream",
       "stream": "stdout",
       "text": [
        "\r",
        "Computed features for frame 1139 of 1280 in 0.0900719165802"
       ]
      },
      {
       "output_type": "stream",
       "stream": "stdout",
       "text": [
        "\r",
        "Computed features for frame 1140 of 1280 in 0.0852971076965"
       ]
      },
      {
       "output_type": "stream",
       "stream": "stdout",
       "text": [
        "\r",
        "Computed features for frame 1141 of 1280 in 0.0837359428406"
       ]
      },
      {
       "output_type": "stream",
       "stream": "stdout",
       "text": [
        "\r",
        "Computed features for frame 1142 of 1280 in 0.0835559368134"
       ]
      },
      {
       "output_type": "stream",
       "stream": "stdout",
       "text": [
        "\r",
        "Computed features for frame 1143 of 1280 in 0.0819890499115"
       ]
      },
      {
       "output_type": "stream",
       "stream": "stdout",
       "text": [
        "\r",
        "Computed features for frame 1144 of 1280 in 0.0804510116577"
       ]
      },
      {
       "output_type": "stream",
       "stream": "stdout",
       "text": [
        "\r",
        "Computed features for frame 1145 of 1280 in 0.0809860229492"
       ]
      },
      {
       "output_type": "stream",
       "stream": "stdout",
       "text": [
        "\r",
        "Computed features for frame 1146 of 1280 in 0.0905959606171"
       ]
      },
      {
       "output_type": "stream",
       "stream": "stdout",
       "text": [
        "\r",
        "Computed features for frame 1147 of 1280 in 0.0824530124664"
       ]
      },
      {
       "output_type": "stream",
       "stream": "stdout",
       "text": [
        "\r",
        "Computed features for frame 1148 of 1280 in 0.0839188098907"
       ]
      },
      {
       "output_type": "stream",
       "stream": "stdout",
       "text": [
        "\r",
        "Computed features for frame 1149 of 1280 in 0.0916929244995"
       ]
      },
      {
       "output_type": "stream",
       "stream": "stdout",
       "text": [
        "\r",
        "Computed features for frame 1150 of 1280 in 0.0819849967957"
       ]
      },
      {
       "output_type": "stream",
       "stream": "stdout",
       "text": [
        "\r",
        "Computed features for frame 1151 of 1280 in 0.0859920978546"
       ]
      },
      {
       "output_type": "stream",
       "stream": "stdout",
       "text": [
        "\r",
        "Computed features for frame 1152 of 1280 in 0.0849452018738"
       ]
      },
      {
       "output_type": "stream",
       "stream": "stdout",
       "text": [
        "\r",
        "Computed features for frame 1153 of 1280 in 0.101623058319"
       ]
      },
      {
       "output_type": "stream",
       "stream": "stdout",
       "text": [
        "\r",
        "Computed features for frame 1154 of 1280 in 0.0983939170837"
       ]
      },
      {
       "output_type": "stream",
       "stream": "stdout",
       "text": [
        "\r",
        "Computed features for frame 1155 of 1280 in 0.112509012222"
       ]
      },
      {
       "output_type": "stream",
       "stream": "stdout",
       "text": [
        "\r",
        "Computed features for frame 1156 of 1280 in 0.109944105148"
       ]
      },
      {
       "output_type": "stream",
       "stream": "stdout",
       "text": [
        "\r",
        "Computed features for frame 1157 of 1280 in 0.113121032715"
       ]
      },
      {
       "output_type": "stream",
       "stream": "stdout",
       "text": [
        "\r",
        "Computed features for frame 1158 of 1280 in 0.0845651626587"
       ]
      },
      {
       "output_type": "stream",
       "stream": "stdout",
       "text": [
        "\r",
        "Computed features for frame 1159 of 1280 in 0.0981879234314"
       ]
      },
      {
       "output_type": "stream",
       "stream": "stdout",
       "text": [
        "\r",
        "Computed features for frame 1160 of 1280 in 0.0924091339111"
       ]
      },
      {
       "output_type": "stream",
       "stream": "stdout",
       "text": [
        "\r",
        "Computed features for frame 1161 of 1280 in 0.102255105972"
       ]
      },
      {
       "output_type": "stream",
       "stream": "stdout",
       "text": [
        "\r",
        "Computed features for frame 1162 of 1280 in 0.0895979404449"
       ]
      },
      {
       "output_type": "stream",
       "stream": "stdout",
       "text": [
        "\r",
        "Computed features for frame 1163 of 1280 in 0.0893650054932"
       ]
      },
      {
       "output_type": "stream",
       "stream": "stdout",
       "text": [
        "\r",
        "Computed features for frame 1164 of 1280 in 0.0951588153839"
       ]
      },
      {
       "output_type": "stream",
       "stream": "stdout",
       "text": [
        "\r",
        "Computed features for frame 1165 of 1280 in 0.0938930511475"
       ]
      },
      {
       "output_type": "stream",
       "stream": "stdout",
       "text": [
        "\r",
        "Computed features for frame 1166 of 1280 in 0.0851449966431"
       ]
      },
      {
       "output_type": "stream",
       "stream": "stdout",
       "text": [
        "\r",
        "Computed features for frame 1167 of 1280 in 0.0789542198181"
       ]
      },
      {
       "output_type": "stream",
       "stream": "stdout",
       "text": [
        "\r",
        "Computed features for frame 1168 of 1280 in 0.0815758705139"
       ]
      },
      {
       "output_type": "stream",
       "stream": "stdout",
       "text": [
        "\r",
        "Computed features for frame 1169 of 1280 in 0.0850870609283"
       ]
      },
      {
       "output_type": "stream",
       "stream": "stdout",
       "text": [
        "\r",
        "Computed features for frame 1170 of 1280 in 0.0837881565094"
       ]
      },
      {
       "output_type": "stream",
       "stream": "stdout",
       "text": [
        "\r",
        "Computed features for frame 1171 of 1280 in 0.0839040279388"
       ]
      },
      {
       "output_type": "stream",
       "stream": "stdout",
       "text": [
        "\r",
        "Computed features for frame 1172 of 1280 in 0.0794160366058"
       ]
      },
      {
       "output_type": "stream",
       "stream": "stdout",
       "text": [
        "\r",
        "Computed features for frame 1173 of 1280 in 0.0899031162262"
       ]
      },
      {
       "output_type": "stream",
       "stream": "stdout",
       "text": [
        "\r",
        "Computed features for frame 1174 of 1280 in 0.0810379981995"
       ]
      },
      {
       "output_type": "stream",
       "stream": "stdout",
       "text": [
        "\r",
        "Computed features for frame 1175 of 1280 in 0.0835020542145"
       ]
      },
      {
       "output_type": "stream",
       "stream": "stdout",
       "text": [
        "\r",
        "Computed features for frame 1176 of 1280 in 0.0843670368195"
       ]
      },
      {
       "output_type": "stream",
       "stream": "stdout",
       "text": [
        "\r",
        "Computed features for frame 1177 of 1280 in 0.0792620182037"
       ]
      },
      {
       "output_type": "stream",
       "stream": "stdout",
       "text": [
        "\r",
        "Computed features for frame 1178 of 1280 in 0.085499048233"
       ]
      },
      {
       "output_type": "stream",
       "stream": "stdout",
       "text": [
        "\r",
        "Computed features for frame 1179 of 1280 in 0.098867893219"
       ]
      },
      {
       "output_type": "stream",
       "stream": "stdout",
       "text": [
        "\r",
        "Computed features for frame 1180 of 1280 in 0.0931339263916"
       ]
      },
      {
       "output_type": "stream",
       "stream": "stdout",
       "text": [
        "\r",
        "Computed features for frame 1181 of 1280 in 0.0826060771942"
       ]
      },
      {
       "output_type": "stream",
       "stream": "stdout",
       "text": [
        "\r",
        "Computed features for frame 1182 of 1280 in 0.0915410518646"
       ]
      },
      {
       "output_type": "stream",
       "stream": "stdout",
       "text": [
        "\r",
        "Computed features for frame 1183 of 1280 in 0.0890061855316"
       ]
      },
      {
       "output_type": "stream",
       "stream": "stdout",
       "text": [
        "\r",
        "Computed features for frame 1184 of 1280 in 0.087308883667"
       ]
      },
      {
       "output_type": "stream",
       "stream": "stdout",
       "text": [
        "\r",
        "Computed features for frame 1185 of 1280 in 0.0852990150452"
       ]
      },
      {
       "output_type": "stream",
       "stream": "stdout",
       "text": [
        "\r",
        "Computed features for frame 1186 of 1280 in 0.0808529853821"
       ]
      },
      {
       "output_type": "stream",
       "stream": "stdout",
       "text": [
        "\r",
        "Computed features for frame 1187 of 1280 in 0.0832660198212"
       ]
      },
      {
       "output_type": "stream",
       "stream": "stdout",
       "text": [
        "\r",
        "Computed features for frame 1188 of 1280 in 0.0806560516357"
       ]
      },
      {
       "output_type": "stream",
       "stream": "stdout",
       "text": [
        "\r",
        "Computed features for frame 1189 of 1280 in 0.0834901332855"
       ]
      },
      {
       "output_type": "stream",
       "stream": "stdout",
       "text": [
        "\r",
        "Computed features for frame 1190 of 1280 in 0.0789661407471"
       ]
      },
      {
       "output_type": "stream",
       "stream": "stdout",
       "text": [
        "\r",
        "Computed features for frame 1191 of 1280 in 0.0856108665466"
       ]
      },
      {
       "output_type": "stream",
       "stream": "stdout",
       "text": [
        "\r",
        "Computed features for frame 1192 of 1280 in 0.0840818881989"
       ]
      },
      {
       "output_type": "stream",
       "stream": "stdout",
       "text": [
        "\r",
        "Computed features for frame 1193 of 1280 in 0.0842781066895"
       ]
      },
      {
       "output_type": "stream",
       "stream": "stdout",
       "text": [
        "\r",
        "Computed features for frame 1194 of 1280 in 0.0840330123901"
       ]
      },
      {
       "output_type": "stream",
       "stream": "stdout",
       "text": [
        "\r",
        "Computed features for frame 1195 of 1280 in 0.0846338272095"
       ]
      },
      {
       "output_type": "stream",
       "stream": "stdout",
       "text": [
        "\r",
        "Computed features for frame 1196 of 1280 in 0.0837161540985"
       ]
      },
      {
       "output_type": "stream",
       "stream": "stdout",
       "text": [
        "\r",
        "Computed features for frame 1197 of 1280 in 0.0810301303864"
       ]
      },
      {
       "output_type": "stream",
       "stream": "stdout",
       "text": [
        "\r",
        "Computed features for frame 1198 of 1280 in 0.0785548686981"
       ]
      },
      {
       "output_type": "stream",
       "stream": "stdout",
       "text": [
        "\r",
        "Computed features for frame 1199 of 1280 in 0.0806429386139"
       ]
      },
      {
       "output_type": "stream",
       "stream": "stdout",
       "text": [
        "\r",
        "Computed features for frame 1200 of 1280 in 0.0838708877563"
       ]
      },
      {
       "output_type": "stream",
       "stream": "stdout",
       "text": [
        "\r",
        "Computed features for frame 1201 of 1280 in 0.0803010463715"
       ]
      },
      {
       "output_type": "stream",
       "stream": "stdout",
       "text": [
        "\r",
        "Computed features for frame 1202 of 1280 in 0.0858871936798"
       ]
      },
      {
       "output_type": "stream",
       "stream": "stdout",
       "text": [
        "\r",
        "Computed features for frame 1203 of 1280 in 0.090626001358"
       ]
      },
      {
       "output_type": "stream",
       "stream": "stdout",
       "text": [
        "\r",
        "Computed features for frame 1204 of 1280 in 0.0823509693146"
       ]
      },
      {
       "output_type": "stream",
       "stream": "stdout",
       "text": [
        "\r",
        "Computed features for frame 1205 of 1280 in 0.0835928916931"
       ]
      },
      {
       "output_type": "stream",
       "stream": "stdout",
       "text": [
        "\r",
        "Computed features for frame 1206 of 1280 in 0.121957063675"
       ]
      },
      {
       "output_type": "stream",
       "stream": "stdout",
       "text": [
        "\r",
        "Computed features for frame 1207 of 1280 in 0.12190413475"
       ]
      },
      {
       "output_type": "stream",
       "stream": "stdout",
       "text": [
        "\r",
        "Computed features for frame 1208 of 1280 in 0.0862641334534"
       ]
      },
      {
       "output_type": "stream",
       "stream": "stdout",
       "text": [
        "\r",
        "Computed features for frame 1209 of 1280 in 0.0831170082092"
       ]
      },
      {
       "output_type": "stream",
       "stream": "stdout",
       "text": [
        "\r",
        "Computed features for frame 1210 of 1280 in 0.0821280479431"
       ]
      },
      {
       "output_type": "stream",
       "stream": "stdout",
       "text": [
        "\r",
        "Computed features for frame 1211 of 1280 in 0.0810830593109"
       ]
      },
      {
       "output_type": "stream",
       "stream": "stdout",
       "text": [
        "\r",
        "Computed features for frame 1212 of 1280 in 0.0849418640137"
       ]
      },
      {
       "output_type": "stream",
       "stream": "stdout",
       "text": [
        "\r",
        "Computed features for frame 1213 of 1280 in 0.0832808017731"
       ]
      },
      {
       "output_type": "stream",
       "stream": "stdout",
       "text": [
        "\r",
        "Computed features for frame 1214 of 1280 in 0.0863227844238"
       ]
      },
      {
       "output_type": "stream",
       "stream": "stdout",
       "text": [
        "\r",
        "Computed features for frame 1215 of 1280 in 0.086238861084"
       ]
      },
      {
       "output_type": "stream",
       "stream": "stdout",
       "text": [
        "\r",
        "Computed features for frame 1216 of 1280 in 0.103989839554"
       ]
      },
      {
       "output_type": "stream",
       "stream": "stdout",
       "text": [
        "\r",
        "Computed features for frame 1217 of 1280 in 0.085412979126"
       ]
      },
      {
       "output_type": "stream",
       "stream": "stdout",
       "text": [
        "\r",
        "Computed features for frame 1218 of 1280 in 0.0934460163116"
       ]
      },
      {
       "output_type": "stream",
       "stream": "stdout",
       "text": [
        "\r",
        "Computed features for frame 1219 of 1280 in 0.0943989753723"
       ]
      },
      {
       "output_type": "stream",
       "stream": "stdout",
       "text": [
        "\r",
        "Computed features for frame 1220 of 1280 in 0.0837819576263"
       ]
      },
      {
       "output_type": "stream",
       "stream": "stdout",
       "text": [
        "\r",
        "Computed features for frame 1221 of 1280 in 0.0855929851532"
       ]
      },
      {
       "output_type": "stream",
       "stream": "stdout",
       "text": [
        "\r",
        "Computed features for frame 1222 of 1280 in 0.0830519199371"
       ]
      },
      {
       "output_type": "stream",
       "stream": "stdout",
       "text": [
        "\r",
        "Computed features for frame 1223 of 1280 in 0.0840020179749"
       ]
      },
      {
       "output_type": "stream",
       "stream": "stdout",
       "text": [
        "\r",
        "Computed features for frame 1224 of 1280 in 0.0834732055664"
       ]
      },
      {
       "output_type": "stream",
       "stream": "stdout",
       "text": [
        "\r",
        "Computed features for frame 1225 of 1280 in 0.0843169689178"
       ]
      },
      {
       "output_type": "stream",
       "stream": "stdout",
       "text": [
        "\r",
        "Computed features for frame 1226 of 1280 in 0.0864059925079"
       ]
      },
      {
       "output_type": "stream",
       "stream": "stdout",
       "text": [
        "\r",
        "Computed features for frame 1227 of 1280 in 0.085431098938"
       ]
      },
      {
       "output_type": "stream",
       "stream": "stdout",
       "text": [
        "\r",
        "Computed features for frame 1228 of 1280 in 0.0841798782349"
       ]
      },
      {
       "output_type": "stream",
       "stream": "stdout",
       "text": [
        "\r",
        "Computed features for frame 1229 of 1280 in 0.0828261375427"
       ]
      },
      {
       "output_type": "stream",
       "stream": "stdout",
       "text": [
        "\r",
        "Computed features for frame 1230 of 1280 in 0.0880961418152"
       ]
      },
      {
       "output_type": "stream",
       "stream": "stdout",
       "text": [
        "\r",
        "Computed features for frame 1231 of 1280 in 0.0918490886688"
       ]
      },
      {
       "output_type": "stream",
       "stream": "stdout",
       "text": [
        "\r",
        "Computed features for frame 1232 of 1280 in 0.0876851081848"
       ]
      },
      {
       "output_type": "stream",
       "stream": "stdout",
       "text": [
        "\r",
        "Computed features for frame 1233 of 1280 in 0.0831360816956"
       ]
      },
      {
       "output_type": "stream",
       "stream": "stdout",
       "text": [
        "\r",
        "Computed features for frame 1234 of 1280 in 0.0887880325317"
       ]
      },
      {
       "output_type": "stream",
       "stream": "stdout",
       "text": [
        "\r",
        "Computed features for frame 1235 of 1280 in 0.0971410274506"
       ]
      },
      {
       "output_type": "stream",
       "stream": "stdout",
       "text": [
        "\r",
        "Computed features for frame 1236 of 1280 in 0.11349105835"
       ]
      },
      {
       "output_type": "stream",
       "stream": "stdout",
       "text": [
        "\r",
        "Computed features for frame 1237 of 1280 in 0.112922906876"
       ]
      },
      {
       "output_type": "stream",
       "stream": "stdout",
       "text": [
        "\r",
        "Computed features for frame 1238 of 1280 in 0.121356010437"
       ]
      },
      {
       "output_type": "stream",
       "stream": "stdout",
       "text": [
        "\r",
        "Computed features for frame 1239 of 1280 in 0.120428085327"
       ]
      },
      {
       "output_type": "stream",
       "stream": "stdout",
       "text": [
        "\r",
        "Computed features for frame 1240 of 1280 in 0.114726066589"
       ]
      },
      {
       "output_type": "stream",
       "stream": "stdout",
       "text": [
        "\r",
        "Computed features for frame 1241 of 1280 in 0.0913479328156"
       ]
      },
      {
       "output_type": "stream",
       "stream": "stdout",
       "text": [
        "\r",
        "Computed features for frame 1242 of 1280 in 0.0895500183105"
       ]
      },
      {
       "output_type": "stream",
       "stream": "stdout",
       "text": [
        "\r",
        "Computed features for frame 1243 of 1280 in 0.0866289138794"
       ]
      },
      {
       "output_type": "stream",
       "stream": "stdout",
       "text": [
        "\r",
        "Computed features for frame 1244 of 1280 in 0.0850560665131"
       ]
      },
      {
       "output_type": "stream",
       "stream": "stdout",
       "text": [
        "\r",
        "Computed features for frame 1245 of 1280 in 0.0854029655457"
       ]
      },
      {
       "output_type": "stream",
       "stream": "stdout",
       "text": [
        "\r",
        "Computed features for frame 1246 of 1280 in 0.0894470214844"
       ]
      },
      {
       "output_type": "stream",
       "stream": "stdout",
       "text": [
        "\r",
        "Computed features for frame 1247 of 1280 in 0.0953531265259"
       ]
      },
      {
       "output_type": "stream",
       "stream": "stdout",
       "text": [
        "\r",
        "Computed features for frame 1248 of 1280 in 0.0939130783081"
       ]
      },
      {
       "output_type": "stream",
       "stream": "stdout",
       "text": [
        "\r",
        "Computed features for frame 1249 of 1280 in 0.0789978504181"
       ]
      },
      {
       "output_type": "stream",
       "stream": "stdout",
       "text": [
        "\r",
        "Computed features for frame 1250 of 1280 in 0.0940239429474"
       ]
      },
      {
       "output_type": "stream",
       "stream": "stdout",
       "text": [
        "\r",
        "Computed features for frame 1251 of 1280 in 0.083484172821"
       ]
      },
      {
       "output_type": "stream",
       "stream": "stdout",
       "text": [
        "\r",
        "Computed features for frame 1252 of 1280 in 0.0862879753113"
       ]
      },
      {
       "output_type": "stream",
       "stream": "stdout",
       "text": [
        "\r",
        "Computed features for frame 1253 of 1280 in 0.0806641578674"
       ]
      },
      {
       "output_type": "stream",
       "stream": "stdout",
       "text": [
        "\r",
        "Computed features for frame 1254 of 1280 in 0.0907511711121"
       ]
      },
      {
       "output_type": "stream",
       "stream": "stdout",
       "text": [
        "\r",
        "Computed features for frame 1255 of 1280 in 0.110878944397"
       ]
      },
      {
       "output_type": "stream",
       "stream": "stdout",
       "text": [
        "\r",
        "Computed features for frame 1256 of 1280 in 0.0804009437561"
       ]
      },
      {
       "output_type": "stream",
       "stream": "stdout",
       "text": [
        "\r",
        "Computed features for frame 1257 of 1280 in 0.0870790481567"
       ]
      },
      {
       "output_type": "stream",
       "stream": "stdout",
       "text": [
        "\r",
        "Computed features for frame 1258 of 1280 in 0.0846598148346"
       ]
      },
      {
       "output_type": "stream",
       "stream": "stdout",
       "text": [
        "\r",
        "Computed features for frame 1259 of 1280 in 0.0820739269257"
       ]
      },
      {
       "output_type": "stream",
       "stream": "stdout",
       "text": [
        "\r",
        "Computed features for frame 1260 of 1280 in 0.0916450023651"
       ]
      },
      {
       "output_type": "stream",
       "stream": "stdout",
       "text": [
        "\r",
        "Computed features for frame 1261 of 1280 in 0.0935299396515"
       ]
      },
      {
       "output_type": "stream",
       "stream": "stdout",
       "text": [
        "\r",
        "Computed features for frame 1262 of 1280 in 0.0814909934998"
       ]
      },
      {
       "output_type": "stream",
       "stream": "stdout",
       "text": [
        "\r",
        "Computed features for frame 1263 of 1280 in 0.0916719436646"
       ]
      },
      {
       "output_type": "stream",
       "stream": "stdout",
       "text": [
        "\r",
        "Computed features for frame 1264 of 1280 in 0.090432882309"
       ]
      },
      {
       "output_type": "stream",
       "stream": "stdout",
       "text": [
        "\r",
        "Computed features for frame 1265 of 1280 in 0.0927641391754"
       ]
      },
      {
       "output_type": "stream",
       "stream": "stdout",
       "text": [
        "\r",
        "Computed features for frame 1266 of 1280 in 0.0839200019836"
       ]
      },
      {
       "output_type": "stream",
       "stream": "stdout",
       "text": [
        "\r",
        "Computed features for frame 1267 of 1280 in 0.0829329490662"
       ]
      },
      {
       "output_type": "stream",
       "stream": "stdout",
       "text": [
        "\r",
        "Computed features for frame 1268 of 1280 in 0.0835978984833"
       ]
      },
      {
       "output_type": "stream",
       "stream": "stdout",
       "text": [
        "\r",
        "Computed features for frame 1269 of 1280 in 0.0834209918976"
       ]
      },
      {
       "output_type": "stream",
       "stream": "stdout",
       "text": [
        "\r",
        "Computed features for frame 1270 of 1280 in 0.0814809799194"
       ]
      },
      {
       "output_type": "stream",
       "stream": "stdout",
       "text": [
        "\r",
        "Computed features for frame 1271 of 1280 in 0.0877749919891"
       ]
      },
      {
       "output_type": "stream",
       "stream": "stdout",
       "text": [
        "\r",
        "Computed features for frame 1272 of 1280 in 0.0852439403534"
       ]
      },
      {
       "output_type": "stream",
       "stream": "stdout",
       "text": [
        "\r",
        "Computed features for frame 1273 of 1280 in 0.0861160755157"
       ]
      },
      {
       "output_type": "stream",
       "stream": "stdout",
       "text": [
        "\r",
        "Computed features for frame 1274 of 1280 in 0.0876989364624"
       ]
      },
      {
       "output_type": "stream",
       "stream": "stdout",
       "text": [
        "\r",
        "Computed features for frame 1275 of 1280 in 0.0898830890656"
       ]
      },
      {
       "output_type": "stream",
       "stream": "stdout",
       "text": [
        "\r",
        "Computed features for frame 1276 of 1280 in 0.0873970985413"
       ]
      },
      {
       "output_type": "stream",
       "stream": "stdout",
       "text": [
        "\r",
        "Computed features for frame 1277 of 1280 in 0.0865681171417"
       ]
      },
      {
       "output_type": "stream",
       "stream": "stdout",
       "text": [
        "\r",
        "Computed features for frame 1278 of 1280 in 0.0861928462982"
       ]
      },
      {
       "output_type": "stream",
       "stream": "stdout",
       "text": [
        "\r",
        "Computed features for frame 1279 of 1280 in 0.0898189544678"
       ]
      },
      {
       "output_type": "stream",
       "stream": "stdout",
       "text": [
        "\n",
        "finished in 106.469678879\n"
       ]
      },
      {
       "metadata": {},
       "output_type": "pyout",
       "prompt_number": 3,
       "text": [
        "<matplotlib.image.AxesImage at 0x7f3c1f2d3990>"
       ]
      }
     ],
     "prompt_number": 3
    },
    {
     "cell_type": "code",
     "collapsed": false,
     "input": [
      "## video field data\n",
      "print \"fg histogram features: \", features.shape\n",
      "numStates = features.shape[0]-2\n",
      "descriptorSize = features.shape[1]\n",
      "## fs contains all the fs, i.e. frame states\n",
      "## f = (x, v, y), x is pixel data/fg features, v = x'-x ('=i+1), y = x\"-x'\n",
      "## compute x's\n",
      "fs = np.copy(np.reshape(features[0:numStates, :], (numStates, descriptorSize, 1)))\n",
      "## compute v's\n",
      "fs = np.concatenate((fs, (features[1:-1, :]-features[0:-2, :]).reshape((numStates, descriptorSize, 1))), axis=-1)\n",
      "## compute y's\n",
      "fs = np.concatenate((fs, (features[2:, :]-features[1:-1, :]).reshape((numStates, descriptorSize, 1))), axis=-1)\n",
      "print fs.shape[0], \"frame states(lost\", features.shape[0]-numStates, \"because I need extra frames at\",\n",
      "print \"the end for computing v and y),\", \"features size is\", fs.shape[1]\n",
      "\n",
      "## load distance matrix as dissimilarity matrix d\n",
      "## d(f, f') says how dissimilar states f and f' are from each other\n",
      "distanceMatrix = np.array(np.load(outputData + \"hist2demd_16x16_distMat\" + \".npy\"), dtype=np.float)\n",
      "distanceMatrix /= np.max(distanceMatrix)\n",
      "distMat = vtu.filterDistanceMatrix(distanceMatrix, 4, True)\n",
      "# figure(); imshow(distMat, interpolation='nearest')\n",
      "d = np.copy(distMat)\n",
      "## troncate fs to match indices in d to indices in fs\n",
      "fs = np.copy(fs[4:numStates-2, :, :])\n",
      "print fs.shape[0], \"frame states(lost\", numStates-fs.shape[0], \"because I had to filter 8 frames out for \",\n",
      "print \"dynamicism preservation),\", \"features size is\", fs.shape[1]\n",
      "numStates = fs.shape[0]"
     ],
     "language": "python",
     "metadata": {},
     "outputs": [
      {
       "output_type": "stream",
       "stream": "stdout",
       "text": [
        "fg histogram features:  (1280, 16)\n",
        "1278 frame states(lost 2 because I need extra frames at the end for computing v and y), features size is 16\n",
        "1272"
       ]
      },
      {
       "output_type": "stream",
       "stream": "stdout",
       "text": [
        " frame states(lost 6 because I had to filter 8 frames out for  dynamicism preservation), features size is 16\n"
       ]
      }
     ],
     "prompt_number": 5
    },
    {
     "cell_type": "code",
     "collapsed": false,
     "input": [
      "## transition cost based on appearance are the shifted up distance matrix\n",
      "t = np.copy(d[1:d.shape[1], 0:-1])\n",
      "d = np.copy(d[0:-1, 0:-1])\n",
      "## troncate fs to match indices in d to indices in fs\n",
      "fs = np.copy(fs[0:-1, :, :])\n",
      "print fs.shape[0], \"frame states(lost\", numStates-fs.shape[0], \"because transition cost does not\",\n",
      "print \"have info about last frame),\", \"features size is\", fs.shape[1]\n",
      "numStates = fs.shape[0]"
     ],
     "language": "python",
     "metadata": {},
     "outputs": [
      {
       "output_type": "stream",
       "stream": "stdout",
       "text": [
        "1271 frame states(lost 1 because transition cost does not have info about last frame), features size is 16\n"
       ]
      }
     ],
     "prompt_number": 6
    },
    {
     "cell_type": "code",
     "collapsed": false,
     "input": [
      "## find k-nearest neighbors based on transition costs\n",
      "k = 15\n",
      "neighbours = np.argsort(t+(np.eye(d.shape[0])*np.max(d)+1))[:, 0:k] #np.argsort(d)[:, 0:k] # we don't want ourselves as neighbour\n",
      "# figure(); imshow(neighbours)\n",
      "\n",
      "# w are similarity weights\n",
      "w = 1/(d[np.reshape(range(d.shape[0]), (d.shape[0], 1)).repeat(k, axis=-1), neighbours]**2)#(np.sort(d)[:, 1:k+1]**2)\n",
      "# normalize to make weights sum to 1\n",
      "w /= np.repeat(np.reshape(np.sum(w, axis=-1), (numStates, 1)), k, axis=-1)"
     ],
     "language": "python",
     "metadata": {},
     "outputs": [],
     "prompt_number": 7
    },
    {
     "cell_type": "code",
     "collapsed": false,
     "input": [
      "print np.argsort(t[0, :])[0:15]\n",
      "print np.sort(t[0, :])[0:15]\n",
      "print np.max(t[0, :]), np.max(t)\n",
      "print 1/((np.sort(t[0, :])+1)**2)[0:15], np.min(1/((np.sort(t[0, :])+1)**2))\n",
      "print distMat.shape\n",
      "print neighbours[0, :]\n",
      "print w[0, :]"
     ],
     "language": "python",
     "metadata": {},
     "outputs": [
      {
       "output_type": "stream",
       "stream": "stdout",
       "text": [
        "[  1   2   0 148   3 147 149  85  86 210 146  84 224 223 150]\n",
        "[ 0.          0.42208814  0.43999213  0.66697272  0.67451469  0.67713799\n",
        "  0.73353882  0.75203305  0.77524921  0.78515215  0.79118573  0.8002361\n",
        "  0.80567943  0.81886149  0.83820829]\n",
        "4.27865949633 6.38647691501\n",
        "[ 1.          0.49447799  0.48225836  0.35986782  0.35663345  0.35551867\n",
        "  0.33276133  0.32577324  0.31730823  0.31379753  0.31168705  0.30856103\n",
        "  0.30670348  0.30227397  0.2959447 ] 0.0358882848362\n",
        "(1272, 1272)\n",
        "[  1   2 148   3 147 149  85  86 210 146  84 224 223 150 209]\n",
        "[ 0.18050558  0.07314883  0.07267913  0.04797902  0.08806665  0.05441704\n",
        "  0.05809389  0.05401843  0.05074001  0.06766181  0.06163775  0.03829881\n",
        "  0.05669508  0.04482523  0.05123277]\n"
       ]
      }
     ],
     "prompt_number": 8
    },
    {
     "cell_type": "code",
     "collapsed": false,
     "input": [
      "def integrateFrameState(frameState, action, neighbours, delta, neighboursIndices) :\n",
      "    \"\"\"Computes a new frame state from frameState given action weights and neighbours to interpolate from.\n",
      "    \n",
      "           frameState: Nx3 array containing (x, v, y), with N the descriptor size\n",
      "           action: 1xK array of weights\n",
      "           neighbours: 1xK frame states\n",
      "           delta: tugging parameter in [0, 1]\n",
      "           neighboursIndices: contains the indices in fs of the given neighbours\n",
      "           \n",
      "        return: newFrameState\"\"\"\n",
      "    if len(action) != neighbours.shape[0] :\n",
      "        raise Exception(\"Number of action weights and neighbours does not match\")\n",
      "    \n",
      "    newFrameState = np.zeros(frameState.shape)\n",
      "    \n",
      "    descriptorSize = neighbours.shape[1]\n",
      "    k = len(action)\n",
      "    actionWeights = np.repeat(np.reshape(action, (k, 1)), descriptorSize, axis=-1)\n",
      "    closestFrameState = neighbours[0, :, :]\n",
      "    \n",
      "    ## interpolate new pose based on velocities v (equation 5)\n",
      "    newFrameState[:, POSE] = frameState[:, POSE] + (1-delta)*np.sum(actionWeights*neighbours[:, :, VELOCITY], axis=0) + delta*(closestFrameState[:, POSE]+closestFrameState[:, VELOCITY]-frameState[:, POSE])\n",
      "    ## interpolate new velocity based on future velocities y (equation 6)\n",
      "    newFrameState[:, VELOCITY] = (1-delta)*np.sum(actionWeights*neighbours[:, :, FUT_VELOCITY], axis=0) + delta*closestFrameState[:, FUT_VELOCITY]\n",
      "    ## hack to avoid the interpolation thing\n",
      "    return np.copy(neighbours[np.argmax(action), :, :]), neighboursIndices[np.argmax(action)] #newFrameState\n",
      "\n",
      "def integrateTaskState(taskState, action, neighbours, delta, neighboursIndices, taskParamsValues) :\n",
      "    \"\"\"Computes a new task state with a newly integrated frame state and update task parameters.\n",
      "    \n",
      "           taskState: dict {'frameState':a frame state, 'taskParams': theta task parameters}\n",
      "           action: 1xK array of weights\n",
      "           neighbours: 1xK frame states\n",
      "           delta: tugging parameter in [0, 1]\n",
      "           neighboursIndices: contains the indices in fs of the given neighbours\n",
      "           taskParamsValues: contains values of task parameters for the full set of frame states\n",
      "           \n",
      "        return: newTaskState\"\"\"\n",
      "    newFrameState, newIdx = integrateFrameState(taskState['frameState'], action, neighbours, delta, neighboursIndices)\n",
      "    newTaskState = {'frameState':newFrameState, 'taskParams':taskParamsValues[newIdx, :]}\n",
      "    \n",
      "    return newTaskState, newIdx\n",
      "    "
     ],
     "language": "python",
     "metadata": {},
     "outputs": [],
     "prompt_number": 9
    },
    {
     "cell_type": "code",
     "collapsed": false,
     "input": [
      "def r_t(taskState, neighboursTaskParamsValues, action, taskToPerform) :\n",
      "    \"\"\"Computes the task reward [0.0, 1.0] of performing action at taskState given the taskToPerform\n",
      "            \n",
      "            taskState: dict {'frameState':a frame state, 'taskParams': theta task parameters}\n",
      "            neighboursTaskParamsValues: kxN array containing the N task labels of the k neighbours of taskState\n",
      "            action: action performed at taskState\n",
      "            taskToPerform: task that needs to be performed\n",
      "        \n",
      "        return: reward r\n",
      "        \n",
      "        NOTE: since the action is not actually used for interpolation, only the neighbour corresponding to the heighest action weight are considered\"\"\"\n",
      "    \n",
      "    r = (2.0-np.sum(np.abs(neighboursTaskParamsValues[np.argmax(action)]-taskToPerform)))/2.0\n",
      "    return r\n",
      "\n",
      "def r_a(taskState, stateIdx, neighboursIdxs, action, transitionsCost, p) :\n",
      "    \"\"\"Computes the apperance reward [0.0, 1.0] of performing action at taskState given the appearance-based transition cost\n",
      "            \n",
      "            taskState: dict {'frameState':a frame state, 'taskParams': theta task parameters}\n",
      "            stateIdx: index of taskState in the set of task states\n",
      "            neighboursIdxs: indices of neighbours of taskState in the set of task states\n",
      "            action: action performed at taskState\n",
      "            transitionsCost: NxN matrix continaing transition costs from frame i to frame j\n",
      "            p: controls the tradeoff between taking multiple good transitions versus a single poorer one\n",
      "        \n",
      "        return: reward r\n",
      "        \n",
      "        NOTE: since the action is not actually used for interpolation, only the neighbour corresponding to the heighest action weight are considered\"\"\"\n",
      "    \n",
      "    costs = 1.0/(transitionsCost[stateIdx, neighboursIdxs]**p)\n",
      "    costs /= np.max(costs)\n",
      "    r = costs[np.argmax(action)]\n",
      "    return r\n",
      "    \n",
      "def pi_l(taskState, actions, taskValueFunction, appValueFunction, stateIdx, states, neighboursIndices, taskParamsValues, taskToPerform, transitionsCost, l, p, verbose=False):\n",
      "    \"\"\"Gives the next best action based on a lookahead policy to maximize reward.\n",
      "    \n",
      "            taskState: dict {'frameState':a frame state, 'taskParams': theta task parameters}\n",
      "            actions: possible actions from state KxK matrix where each row is an action\n",
      "            taskValueFunction: 1xN precomputed value function that represents future task reward\n",
      "            appValueFunction: 1xK precomputed value function that represents future appearance reward when transitioning to one of the k neighbours\n",
      "            stateIdx: is the idx of state in states\n",
      "            states: list of all possible frame states\n",
      "            neighboursIndices: list of neighbour states indices for each state\n",
      "            taskParamsValues: contains values of task parameters for the full set of frame states\n",
      "            taskToPerform: task that needs to be performed\n",
      "            transitionsCost: NxN matrix continaing transition costs from frame i to frame j\n",
      "            l: controls the tradeoff between favouring good looking transitions versus task-wise good transitions\n",
      "            p: controls the tradeoff between taking multiple good transitions versus a single poorer one\n",
      "            verbose: print additional information\n",
      "        \n",
      "        return: bestAction\"\"\"\n",
      "    \n",
      "    currentMax = -sys.float_info.max\n",
      "    for idx in range(len(actions)) :\n",
      "        newTaskState, newIdx = integrateTaskState(taskState, actions[idx, :], states[neighboursIndices[stateIdx, :], :, :], 1.0, neighboursIndices[stateIdx, :], taskParamsValues)\n",
      "        taskReward = r_t(taskState, taskParamsValues[neighboursIndices[stateIdx, :], :], actions[idx, :], taskToPerform)\n",
      "        appearanceReward = r_a(taskState, stateIdx, neighboursIndices[stateIdx, :], actions[idx, :], transitionsCost, p)\n",
      "        amount = l*(taskReward + taskValueFunction[newIdx]) + (1.0-l)*(appearanceReward + appValueFunction[np.where(neighboursIndices[stateIdx, :] == newIdx)])\n",
      "        if verbose :\n",
      "            print \"current amount for action in pi_l\", amount, np.sum(actions[idx, :]), taskReward, appearanceReward, taskValueFunction[newIdx], appValueFunction[np.where(neighboursIndices[stateIdx, :] == newIdx)], newIdx\n",
      "#         print actions[idx, :]\n",
      "        if amount > currentMax :\n",
      "            currentMax = amount\n",
      "            bestIdx = idx\n",
      "    bestAction = np.copy(actions[bestIdx, :])\n",
      "    return bestAction, bestIdx\n"
     ],
     "language": "python",
     "metadata": {},
     "outputs": [
      {
       "output_type": "stream",
       "stream": "stdout",
       "text": [
        "\n"
       ]
      }
     ],
     "prompt_number": 192
    },
    {
     "cell_type": "code",
     "collapsed": false,
     "input": [
      "# load labels to use as taskParamsValues\n",
      "labels = np.load(outputData + \"hist2demd_mult0.02_16x16_labels.npy\")[()]['labelProbs']\n",
      "possibleTasksToPerform = np.eye(labels.shape[-1])\n",
      "\n",
      "# compute video field A value at each state, i.e. compute possible actions at each state as defined in section 4.1\n",
      "# A[i, :, :] gives KxK matrix where each row is an action that favors the neighbour corresponding to row idx\n",
      "A = np.zeros((numStates, k , k))\n",
      "for fIdx in range(numStates) :\n",
      "    tmp = np.repeat(np.reshape(w[fIdx, :], (1, k)), k, axis=0)\n",
      "    ## set action corresponding to ith neighbour to 1\n",
      "    tmp[np.where(np.eye(k)==1)] = 1\n",
      "    ## and renormalize\n",
      "    tmp /= np.repeat(np.reshape(np.sum(tmp, axis=-1), (k, 1)), k, axis=-1) #np.repeat(np.reshape(np.sum(tmp, axis=0), (1, k)), k, axis=0)\n",
      "    A[fIdx, :, :] = np.copy(tmp)"
     ],
     "language": "python",
     "metadata": {},
     "outputs": [],
     "prompt_number": 12
    },
    {
     "cell_type": "code",
     "collapsed": false,
     "input": [
      "# t = np.copy(distMat[1:distMat.shape[1], 0:-1])\n",
      "# figure(); imshow(t, interpolation='nearest')"
     ],
     "language": "python",
     "metadata": {},
     "outputs": [
      {
       "metadata": {},
       "output_type": "pyout",
       "prompt_number": 61,
       "text": [
        "<matplotlib.image.AxesImage at 0x7f3c1c820350>"
       ]
      }
     ],
     "prompt_number": 61
    },
    {
     "cell_type": "code",
     "collapsed": false,
     "input": [
      "## this is to test that the new implementation does something plausible\n",
      "trackingState = 234\n",
      "taskState = {'frameState': fs[trackingState, :, :], 'taskParams': labels[trackingState, :]}\n",
      "neighboursTaskParamsValues = labels[neighbours[trackingState, :], :]\n",
      "action = A[trackingState, 5, :]\n",
      "task = 2\n",
      "taskToPerform = possibleTasksToPerform[task, :]\n",
      "# v = np.zeros((fs.shape[0], possibleTasksToPerform.shape[0]))\n",
      "\n",
      "print \"neighbours\", neighbours[trackingState, :]\n",
      "print \"neighbours' labels\", neighboursTaskParamsValues\n",
      "print \"chosen action\", action, np.sum(action)\n",
      "print \"task to perform\", taskToPerform\n",
      "print \"rewards for given neighbours\", (2.0-np.sum(np.abs(neighboursTaskParamsValues-np.reshape(taskToPerform, (1, 4)).repeat(k, axis=0)), axis = -1))/2.0\n",
      "\n",
      "print \"total task reward computed by method\", r_t(taskState, neighboursTaskParamsValues, action, taskToPerform)\n",
      "print \"total apperance reward computed by method\", r_a(taskState, trackingState, neighbours[trackingState, :], action, 1.0+t, 2.0)\n",
      "\n",
      "bestA, bestIdx = pi_l(taskState, A[trackingState, :, :], v_t[:, task], v_a[trackingState, :], trackingState, fs, neighbours, labels, taskToPerform, 1.0+t, l, p, True)\n",
      "print \"best A and idx\", bestA, bestIdx\n",
      "\n",
      "\n"
     ],
     "language": "python",
     "metadata": {},
     "outputs": [
      {
       "output_type": "stream",
       "stream": "stdout",
       "text": [
        "neighbours [235 236 247 237 765 795 872 764  33 233 246 853 794 248 796]\n",
        "neighbours' labels [[ 0.17573434  0.31255039  0.41135618  0.1003591 ]\n",
        " [ 0.17814389  0.31814807  0.40899661  0.09471142]\n",
        " [ 0.18993224  0.35192923  0.37949105  0.07864748]\n",
        " [ 0.18216882  0.32738018  0.40503588  0.08541513]\n",
        " [ 0.18627575  0.34501792  0.39084098  0.07786536]\n",
        " [ 0.00320689  0.00333162  0.97619987  0.01726161]\n",
        " [ 0.05012084  0.01908908  0.33283621  0.59795388]\n",
        " [ 0.16749905  0.30066084  0.4201902   0.11164996]\n",
        " [ 0.16558986  0.79865453  0.03285234  0.00290327]\n",
        " [ 0.14742653  0.24571976  0.44113567  0.16571804]\n",
        " [ 0.16551663  0.2948458   0.42156514  0.11807248]\n",
        " [ 0.16769606  0.29919733  0.41945594  0.11365074]\n",
        " [ 0.00152488  0.00186587  0.98873329  0.00787596]\n",
        " [ 0.23470976  0.45900827  0.26187997  0.04440201]\n",
        " [ 0.00632285  0.00334713  0.95158473  0.0387453 ]]\n",
        "chosen action [ 0.08791383  0.03610319  0.02448562  0.01870864  0.02343475  0.50981691\n",
        "  0.03131946  0.03730514  0.02899314  0.0886217   0.03860223  0.02052092\n",
        "  0.02404073  0.01315938  0.01697435] 1.0\n",
        "task to perform [ 0.  0.  1.  0.]\n",
        "rewards for given neighbours [ 0.41135617  0.40899661  0.37949105  0.40503588  0.39084098  0.97619987\n",
        "  0.33283621  0.42019017  0.03285234  0.44113567  0.42156511  0.41945591\n",
        "  0.98873329  0.26187996  0.95158472]\n",
        "total task reward computed by method 0.97619987093\n",
        "total apperance reward computed by method 0.265453880241\n",
        "current amount for action in pi_l [ 26.46169339] 1.0 0.411356174214 1.0 21.9429978707 [ 29.56903274] 235\n",
        "current amount for action in pi_l [ 18.21378345] 1.0 0.408996612523 0.441505465487 22.5221752583 [ 13.05488956] 236\n",
        "current amount for action in pi_l [ 11.13367349] 1.0 0.379491045814 0.32832456433 11.8512915773 [ 9.70823979] 247\n",
        "current amount for action in pi_l [ 16.1811349] 1.0 0.405035876693 0.289709861015 23.1010837021 [ 8.56644036] 237\n",
        "current amount for action in pi_l [ 10.11034714] 1.0 0.390840978125 0.266858681552 11.6722415245 [ 7.89075309] 765\n",
        "current amount for action in pi_l [ 16.73143992] 1.0 0.97619987093 0.265453880241 24.3720116137 [ 7.84921447] 795\n",
        "current amount for action in pi_l [ 14.71646601] 1.0 0.332836209172 0.257561739711 21.2266825494 [ 7.61585151] 872\n",
        "current amount for action in pi_l [ 9.6904672] 1.0 0.420190172154 0.257013972899 11.1040756762 [ 7.59965458] 764\n",
        "current amount for action in pi_l [ 4.47609902] 1.0 0.0328523385957 0.247300393826 1.35961186435 [ 7.31243344] 33\n",
        "current amount for action in pi_l [ 14.28946667] 1.0 0.441135670797 0.240013103867 20.8008292486 [ 7.09695533] 233\n",
        "current amount for action in pi_l [ 9.97449503] 1.0 0.4215651136 0.238906487546 12.2242847003 [ 7.06423375] 246\n",
        "current amount for action in pi_l [ 9.71827196] 1.0 0.41945590977 0.232365936136 11.9138861014 [ 6.87083597] 853\n",
        "current amount for action in pi_l [ 16.68669565] 1.0 0.988733293006 0.231735473426 25.300728737 [ 6.8521938] 794\n",
        "current amount for action in pi_l [ 9.45757229] 1.0 0.261879964453 0.230874587118 11.5956517966 [ 6.82673822] 248\n",
        "current amount for action in pi_l [ 10.10326523] 1.0 0.951584724945 0.229066450763 12.2526059031 [ 6.77327338] 796\n",
        "best A and idx [ 0.54717824  0.03874897  0.02628002  0.02007969  0.02515214  0.02107266\n",
        "  0.03361467  0.04003901  0.03111787  0.09511623  0.04143115  0.02202477\n",
        "  0.02580253  0.01412375  0.01821829] 0\n"
       ]
      }
     ],
     "prompt_number": 215
    },
    {
     "cell_type": "code",
     "collapsed": false,
     "input": [
      "v_t = np.zeros((fs.shape[0], possibleTasksToPerform.shape[0]))\n",
      "v_a = np.zeros((t.shape[0], k))\n",
      "v_tTmp = np.copy(v_t)\n",
      "v_aTmp = np.copy(v_a)\n",
      "prevAdditionalReward = 0\n",
      "alpha = 0.999\n",
      "p = 2.0\n",
      "l = 0.7\n",
      "\n",
      "## appearance reward of picking a certain frame j from frame i\n",
      "## I don't actually need the full thing as I would only use the reward of neighbours, or do I???\n",
      "immediateAppRewards = 1.0/((1.0+t)**p)\n",
      "# immediateAppRewards = (1.0/(1.0+t))**p\n",
      "# immediateAppRewards /= np.repeat(np.reshape(np.max(immediateAppRewards, axis=-1), (immediateAppRewards.shape[0], 1)), immediateAppRewards.shape[0], axis=-1)\n",
      "\n",
      "maxIterations = 20\n",
      "trackingState = 234\n",
      "print \"tracking progression of state\", trackingState\n",
      "print \"neighbours\", neighbours[trackingState, :]\n",
      "for i in range(maxIterations) :\n",
      "    print \"best actions\",\n",
      "#     print np.max(v_a, axis=0)\n",
      "    ## for each frame state\n",
      "    for fIdx in xrange(numStates-1, -1, -1) :\n",
      "        si = {'frameState': fs[fIdx, :, :], 'taskParams': labels[fIdx, :]}\n",
      "        ## for each possible task\n",
      "        for task in xrange(possibleTasksToPerform.shape[0]) :\n",
      "            neighsProbs = (1.0/(np.abs(neighbours[fIdx, :]-fIdx-1.0)+1.0))/np.sum(1.0/(np.abs(neighbours[fIdx, :]-fIdx-1.0)+1.0))#probs[fIdx, neighbours[fIdx, :]]/np.sum(probs[fIdx, neighbours[fIdx, :]])\n",
      "            bestA, bestIdx = pi_l(si, A[fIdx, :, :], v_t[:, task], v_a[fIdx, :], fIdx, fs, neighbours, labels, possibleTasksToPerform[task, :], 1.0+t, l, p)\n",
      "            \n",
      "            newTaskState, newIdx = integrateTaskState(si, bestA, fs[neighbours[fIdx, :], :, :], 1.0, neighbours[fIdx, :], labels)\n",
      "            \n",
      "            ## update value of v_t\n",
      "            v_tTmp[fIdx, task] = r_t(si, labels[neighbours[fIdx, :], :], bestA, possibleTasksToPerform[task, :]) + alpha*v_t[newIdx, task]\n",
      "            \n",
      "            if fIdx == trackingState :\n",
      "                print bestIdx, \"(\", newIdx, \"),\",\n",
      "        ## update value of v_a\n",
      "        v_aTmp[fIdx, :] = immediateAppRewards[fIdx, neighbours[fIdx, :]] + alpha*v_a[fIdx, :]#np.min(v_aTmp, axis=0)\n",
      "#     additionalReward = np.linalg.norm(vTmp-v)\n",
      "    print\n",
      "    v_a = np.copy(v_aTmp)\n",
      "    v_t = np.copy(v_tTmp)\n",
      "#     print i, np.sum(np.linalg.norm(vTmp-v, axis=-1)), np.sum(np.abs(vTmp-v)), additionalReward, additionalReward-prevAdditionalReward, np.min(vTmp), np.max(vTmp), np.sum(vTmp)\n",
      "#     print vTmp[trackingState, :]\n",
      "#     sys.stdout.flush()\n",
      "#     v = np.copy(vTmp)\n",
      "#     if additionalReward-prevAdditionalReward == 0.0 :\n",
      "#         break\n",
      "#     prevAdditionalReward = additionalReward"
     ],
     "language": "python",
     "metadata": {},
     "outputs": [
      {
       "output_type": "stream",
       "stream": "stdout",
       "text": [
        "tracking progression of state 234\n",
        "neighbours [235 236 247 237 765 795 872 764  33 233 246 853 794 248 796]\n",
        "best actions "
       ]
      },
      {
       "output_type": "stream",
       "stream": "stdout",
       "text": [
        "0 ( 235 ), 8 ( 33 ), 5 ( 795 ), 6 ( 872 ),\n"
       ]
      },
      {
       "output_type": "stream",
       "stream": "stdout",
       "text": [
        "best actions "
       ]
      },
      {
       "output_type": "stream",
       "stream": "stdout",
       "text": [
        "0 ( 235 ), 0 ( 235 ), 0 ( 235 ), 0 ( 235 ),\n"
       ]
      },
      {
       "output_type": "stream",
       "stream": "stdout",
       "text": [
        "best actions "
       ]
      },
      {
       "output_type": "stream",
       "stream": "stdout",
       "text": [
        "1 ( 236 ), 0 ( 235 ), 5 ( 795 ), 0 ( 235 ),\n"
       ]
      },
      {
       "output_type": "stream",
       "stream": "stdout",
       "text": [
        "best actions "
       ]
      },
      {
       "output_type": "stream",
       "stream": "stdout",
       "text": [
        "0 ( 235 ), 0 ( 235 ), 0 ( 235 ), 0 ( 235 ),\n"
       ]
      },
      {
       "output_type": "stream",
       "stream": "stdout",
       "text": [
        "best actions "
       ]
      },
      {
       "output_type": "stream",
       "stream": "stdout",
       "text": [
        "1 ( 236 ), 0 ( 235 ), 5 ( 795 ), 0 ( 235 ),\n"
       ]
      },
      {
       "output_type": "stream",
       "stream": "stdout",
       "text": [
        "best actions "
       ]
      },
      {
       "output_type": "stream",
       "stream": "stdout",
       "text": [
        "0 ( 235 ), 0 ( 235 ), 0 ( 235 ), 0 ( 235 ),\n"
       ]
      },
      {
       "output_type": "stream",
       "stream": "stdout",
       "text": [
        "best actions "
       ]
      },
      {
       "output_type": "stream",
       "stream": "stdout",
       "text": [
        "0 ( 235 ), 0 ( 235 ), 0 ( 235 ), 0 ( 235 ),\n"
       ]
      },
      {
       "output_type": "stream",
       "stream": "stdout",
       "text": [
        "best actions "
       ]
      },
      {
       "output_type": "stream",
       "stream": "stdout",
       "text": [
        "0 ( 235 ), 0 ( 235 ), 0 ( 235 ), 0 ( 235 ),\n"
       ]
      },
      {
       "output_type": "stream",
       "stream": "stdout",
       "text": [
        "best actions "
       ]
      },
      {
       "output_type": "stream",
       "stream": "stdout",
       "text": [
        "0 ( 235 ), 0 ( 235 ), 0 ( 235 ), 0 ( 235 ),\n"
       ]
      },
      {
       "output_type": "stream",
       "stream": "stdout",
       "text": [
        "best actions "
       ]
      },
      {
       "output_type": "stream",
       "stream": "stdout",
       "text": [
        "0 ( 235 ), 0 ( 235 ), 0 ( 235 ), 0 ( 235 ),\n"
       ]
      },
      {
       "output_type": "stream",
       "stream": "stdout",
       "text": [
        "best actions "
       ]
      },
      {
       "output_type": "stream",
       "stream": "stdout",
       "text": [
        "0 ( 235 ), 0 ( 235 ), 0 ( 235 ), 0 ( 235 ),\n"
       ]
      },
      {
       "output_type": "stream",
       "stream": "stdout",
       "text": [
        "best actions "
       ]
      },
      {
       "output_type": "stream",
       "stream": "stdout",
       "text": [
        "0 ( 235 ), 0 ( 235 ), 0 ( 235 ), 0 ( 235 ),\n"
       ]
      },
      {
       "output_type": "stream",
       "stream": "stdout",
       "text": [
        "best actions "
       ]
      },
      {
       "output_type": "stream",
       "stream": "stdout",
       "text": [
        "0 ( 235 ), 0 ( 235 ), 0 ( 235 ), 0 ( 235 ),\n"
       ]
      },
      {
       "output_type": "stream",
       "stream": "stdout",
       "text": [
        "best actions "
       ]
      },
      {
       "output_type": "stream",
       "stream": "stdout",
       "text": [
        "0 ( 235 ), 0 ( 235 ), 0 ( 235 ), 0 ( 235 ),\n"
       ]
      },
      {
       "output_type": "stream",
       "stream": "stdout",
       "text": [
        "best actions "
       ]
      },
      {
       "output_type": "stream",
       "stream": "stdout",
       "text": [
        "0 ( 235 ), 0 ( 235 ), 0 ( 235 ), 0 ( 235 ),\n"
       ]
      },
      {
       "output_type": "stream",
       "stream": "stdout",
       "text": [
        "best actions "
       ]
      },
      {
       "output_type": "stream",
       "stream": "stdout",
       "text": [
        "0 ( 235 ), 0 ( 235 ), 0 ( 235 ), 0 ( 235 ),\n"
       ]
      },
      {
       "output_type": "stream",
       "stream": "stdout",
       "text": [
        "best actions "
       ]
      },
      {
       "output_type": "stream",
       "stream": "stdout",
       "text": [
        "0 ( 235 ), 0 ( 235 ), 0 ( 235 ), 7 ( 764 ),\n"
       ]
      },
      {
       "output_type": "stream",
       "stream": "stdout",
       "text": [
        "best actions "
       ]
      },
      {
       "output_type": "stream",
       "stream": "stdout",
       "text": [
        "0 ( 235 ), 0 ( 235 ), 0 ( 235 ), 7 ( 764 ),\n"
       ]
      },
      {
       "output_type": "stream",
       "stream": "stdout",
       "text": [
        "best actions "
       ]
      },
      {
       "output_type": "stream",
       "stream": "stdout",
       "text": [
        "0 ( 235 ), 0 ( 235 ), 0 ( 235 ), 0 ( 235 ),\n"
       ]
      },
      {
       "output_type": "stream",
       "stream": "stdout",
       "text": [
        "best actions "
       ]
      },
      {
       "output_type": "stream",
       "stream": "stdout",
       "text": [
        "0 ( 235 ), 0 ( 235 ), 0 ( 235 ), 0 ( 235 ),\n"
       ]
      }
     ],
     "prompt_number": 229
    },
    {
     "cell_type": "code",
     "collapsed": false,
     "input": [
      " ## try and sample, see what happens....\n",
      "\n",
      "taskIdx = 2\n",
      "taskToPerform = possibleTasksToPerform[taskIdx, :]\n",
      "# taskToPerform = np.array([1, 0, 0, 0])\n",
      "print \"task to perform:\", taskToPerform\n",
      "startIdx = 234\n",
      "print \"starting from\", startIdx, \"with task params\", labels[startIdx, :]\n",
      "# extraRewards = np.zeros((numStates, numStates))\n",
      "\n",
      "# l = 0.8\n",
      "\n",
      "totalFrames = 100\n",
      "currentIdx = startIdx\n",
      "for i in range(totalFrames) :\n",
      "    s = {'frameState': fs[currentIdx, :, :], 'taskParams': labels[currentIdx, :]}\n",
      "    pi_l(si, A[fIdx, :, :], v_t[:, task], v_a[fIdx, :], fIdx, fs, neighbours, labels, possibleTasksToPerform[task, :], 1.0+t, l, p)\n",
      "    bestA, bestAIdx = pi_l(s, A[currentIdx, :, :], np.sum(np.repeat(taskToPerform.reshape((1, len(taskToPerform))), numStates, axis=0)*v_t, axis=-1), v_a[currentIdx, :], currentIdx, fs, neighbours, labels, taskToPerform, 1.0+t, l, p)\n",
      "#     print bestA\n",
      "#     print neighbours[currentIdx, :], neighbours[currentIdx, np.argmax(probs[currentIdx, neighbours[currentIdx, :]])]\n",
      "#     print probs[currentIdx, neighbours[currentIdx, :]]\n",
      "#     print probs[currentIdx, neighbours[currentIdx, :]]*bestA, np.argmax(probs[currentIdx, neighbours[currentIdx, :]]*bestA), neighbours[currentIdx, np.argmax(probs[currentIdx, neighbours[currentIdx, :]]*bestA)]\n",
      "#     tmp = probs[currentIdx, neighbours[currentIdx, :]]\n",
      "#     tmp /= np.sum(tmp)\n",
      "#     bob = 0.8\n",
      "#     newAction = ((1.0-bob)*tmp) * (bob*bestA)\n",
      "#     newAction /= np.sum(newAction)\n",
      "    newTaskState, newIdx = integrateTaskState(s, bestA, fs[neighbours[currentIdx, :], :, :], 1.0, neighbours[currentIdx, :], labels)\n",
      "#     newTaskState, newIdx = integrateTaskState(s, newAction, fs[neighbours[currentIdx, :], :, :], 1.0, neighbours[currentIdx, :], labels)\n",
      "    print newIdx, newTaskState['taskParams']\n",
      "    currentIdx = np.copy(newIdx)\n",
      "#     print newTaskState"
     ],
     "language": "python",
     "metadata": {},
     "outputs": [
      {
       "output_type": "stream",
       "stream": "stdout",
       "text": [
        "task to perform: [ 0.  0.  1.  0.]\n",
        "starting from 234 with task params [ 0.16100772  0.27794343  0.42633532  0.13471353]\n",
        "235 [ 0.17573434  0.31255039  0.41135618  0.1003591 ]\n",
        "236 [ 0.17814389  0.31814807  0.40899661  0.09471142]\n",
        "237 [ 0.18216882  0.32738018  0.40503588  0.08541513]\n",
        "238 [ 0.18809048  0.34029104  0.40841283  0.06320566]\n",
        "832 [ 0.  0.  1.  0.]\n",
        "833"
       ]
      },
      {
       "output_type": "stream",
       "stream": "stdout",
       "text": [
        " [ 0.  0.  1.  0.]\n",
        "834 [ 0.  0.  1.  0.]\n",
        "835 [ 0.  0.  1.  0.]\n",
        "836 [ 0.  0.  1.  0.]\n",
        "837 [ 0.  0.  1.  0.]\n",
        "838 [ 0.  0.  1.  0.]\n",
        "839"
       ]
      },
      {
       "output_type": "stream",
       "stream": "stdout",
       "text": [
        " [ 0.  0.  1.  0.]\n",
        "840 [ 0.  0.  1.  0.]\n",
        "841 [ 0.  0.  1.  0.]\n",
        "842 [ 0.  0.  1.  0.]\n",
        "843 [  3.80956786e-05   9.64507159e-06   9.99937517e-01   1.47424306e-05]\n",
        "844 [  6.54720732e-05   2.20747255e-05   9.99888318e-01   2.41355744e-05]\n",
        "845"
       ]
      },
      {
       "output_type": "stream",
       "stream": "stdout",
       "text": [
        " [  2.67345796e-04   3.69668850e-04   9.99164497e-01   1.98488432e-04]\n",
        "846 [  4.56061567e-04   9.36534715e-04   9.98200534e-01   4.06870124e-04]\n",
        "847 [  5.89568104e-04   1.47343837e-03   9.97358802e-01   5.78191940e-04]\n",
        "848 [  8.53857668e-04   2.92859456e-03   9.95075237e-01   1.14231071e-03]\n",
        "849 [ 0.00135847  0.00604323  0.99012013  0.00247817]\n",
        "850 [ 0.02965739  0.19284186  0.73922521  0.03827555]\n",
        "851"
       ]
      },
      {
       "output_type": "stream",
       "stream": "stdout",
       "text": [
        " [ 0.10056625  0.32074395  0.46864315  0.11004675]\n",
        "852 [ 0.15392498  0.29234074  0.43091458  0.12281975]\n",
        "853 [ 0.16769606  0.29919733  0.41945594  0.11365074]\n",
        "854 [ 0.16909019  0.26909555  0.41126786  0.15054648]\n",
        "855 [ 0.16439515  0.21507319  0.41184536  0.20868635]\n",
        "856 [ 0.15844875  0.15178549  0.41404319  0.27572261]\n",
        "857"
       ]
      },
      {
       "output_type": "stream",
       "stream": "stdout",
       "text": [
        " [ 0.15785408  0.14483826  0.41458718  0.28272051]\n",
        "858 [ 0.16184341  0.1011958   0.43263487  0.30432594]\n",
        "859 [ 0.16211464  0.09723637  0.43435955  0.30628945]\n",
        "860 [ 0.16040554  0.09650356  0.43568826  0.30740265]\n",
        "861 [ 0.15969475  0.09650917  0.43609259  0.30770349]\n",
        "862 [ 0.15914517  0.0965298   0.43639548  0.30792955]\n",
        "863"
       ]
      },
      {
       "output_type": "stream",
       "stream": "stdout",
       "text": [
        " [ 0.15552636  0.09670665  0.43834361  0.30942339]\n",
        "864 [ 0.1471842   0.09714768  0.44276394  0.31290418]\n",
        "865 [ 0.12369341  0.09835684  0.4551756   0.32277415]\n",
        "866 [ 0.0997799   0.09838245  0.46742297  0.33441469]\n",
        "867 [ 0.09232381  0.09266795  0.45814997  0.35685827]\n",
        "868 [ 0.08160713  0.07617105  0.42814343  0.41407839]\n",
        "869"
       ]
      },
      {
       "output_type": "stream",
       "stream": "stdout",
       "text": [
        " [ 0.06557623  0.0491741   0.38056357  0.5046861 ]\n",
        "870 [ 0.05284867  0.02717395  0.34255328  0.5774241 ]\n",
        "871 [ 0.04966696  0.01960568  0.33117876  0.5995486 ]\n",
        "872 [ 0.05012084  0.01908908  0.33283621  0.59795388]\n",
        "873 [ 0.05019429  0.0189597   0.33429541  0.59655061]\n",
        "874 [ 0.0501363   0.0188046   0.33714134  0.59391776]\n",
        "875"
       ]
      },
      {
       "output_type": "stream",
       "stream": "stdout",
       "text": [
        " [ 0.04993393  0.01858475  0.34020268  0.59127864]\n",
        "876 [ 0.03613402  0.01385199  0.24968439  0.7003296 ]\n",
        "877 [ 0.02717134  0.0161958   0.22124756  0.73538533]\n",
        "878 [ 0.02712853  0.01951562  0.23898647  0.71436941]\n",
        "879 [ 0.02713095  0.02928952  0.28604022  0.65753936]\n",
        "880 [ 0.02722173  0.0410584   0.33730918  0.59441075]\n",
        "881"
       ]
      },
      {
       "output_type": "stream",
       "stream": "stdout",
       "text": [
        " [ 0.03453714  0.10907501  0.43341391  0.42297409]\n",
        "882 [ 0.03607449  0.27585251  0.47054549  0.21752775]\n",
        "883 [ 0.01507158  0.0359476   0.93303516  0.01594576]\n",
        "884 [  3.90971348e-04   6.31671973e-04   9.97860873e-01   1.11650586e-03]\n",
        "885 [ 0.00161433  0.00106977  0.95584167  0.04147424]\n",
        "886 [ 0.01746366  0.0069801   0.28218459  0.69337167]\n",
        "887"
       ]
      },
      {
       "output_type": "stream",
       "stream": "stdout",
       "text": [
        " [ 0.00996417  0.0038938   0.19155416  0.79458788]\n",
        "888 [ 0.0093549   0.00294547  0.1278564   0.85984328]\n",
        "208 [ 0.89441083  0.00419107  0.09695029  0.00444781]\n",
        "209 [ 0.89884577  0.00414715  0.09363258  0.0033745 ]\n",
        "210 [ 0.90596975  0.0038823   0.08907693  0.00107102]\n",
        "211 [  8.84662576e-01   3.65743851e-03   1.11078886e-01   6.01099147e-04]\n",
        "212"
       ]
      },
      {
       "output_type": "stream",
       "stream": "stdout",
       "text": [
        " [  8.43292001e-01   3.47722591e-03   1.52697815e-01   5.32958077e-04]\n",
        "213 [  7.73433622e-01   3.20495044e-03   2.22860915e-01   5.00512781e-04]\n",
        "214 [  6.89545901e-01   2.86282835e-03   3.07135540e-01   4.55730956e-04]\n",
        "215 [  5.67020051e-01   2.39446854e-03   4.30181639e-01   4.03840983e-04]\n",
        "216 [ 0.45987667  0.00213908  0.53431565  0.0036686 ]\n",
        "217 [ 0.24942491  0.00189726  0.7308718   0.01780603]\n",
        "218"
       ]
      },
      {
       "output_type": "stream",
       "stream": "stdout",
       "text": [
        " [  4.39984208e-02   7.93334634e-04   9.43081729e-01   1.21265184e-02]\n",
        "219 [ 0.23819867  0.00254142  0.7559076   0.00335233]\n",
        "220 [ 0.58060874  0.02428786  0.38952168  0.00558177]\n",
        "221 [ 0.64006458  0.11594358  0.23594142  0.0080505 ]\n",
        "222 [ 0.54231214  0.26189343  0.18146445  0.01433003]\n",
        "223 [ 0.3567508   0.36688164  0.2478121   0.02855547]\n",
        "224"
       ]
      },
      {
       "output_type": "stream",
       "stream": "stdout",
       "text": [
        " [ 0.10400383  0.14852355  0.71041073  0.03706189]\n",
        "225 [ 0.11805272  0.10452781  0.71207007  0.0653494 ]\n",
        "226 [ 0.13519502  0.1022995   0.64856178  0.11394369]\n",
        "227 [ 0.11572236  0.11602227  0.54058551  0.22766987]\n",
        "228 [ 0.10852641  0.11972357  0.51359336  0.25815667]\n",
        "229 [ 0.10664131  0.11988725  0.50692675  0.2665447 ]\n",
        "230"
       ]
      },
      {
       "output_type": "stream",
       "stream": "stdout",
       "text": [
        " [ 0.10670715  0.12322819  0.50455927  0.26550539]\n",
        "231 [ 0.10945747  0.13679089  0.49765614  0.2560955 ]\n",
        "232 [ 0.13307623  0.20960597  0.45880856  0.19850924]\n",
        "233 [ 0.14742653  0.24571976  0.44113567  0.16571804]\n",
        "234 [ 0.16100772  0.27794343  0.42633532  0.13471353]\n",
        "235"
       ]
      },
      {
       "output_type": "stream",
       "stream": "stdout",
       "text": [
        " [ 0.17573434  0.31255039  0.41135618  0.1003591 ]\n",
        "236 [ 0.17814389  0.31814807  0.40899661  0.09471142]\n",
        "237 [ 0.18216882  0.32738018  0.40503588  0.08541513]\n",
        "238 [ 0.18809048  0.34029104  0.40841283  0.06320566]\n",
        "832 [ 0.  0.  1.  0.]\n",
        "833 [ 0.  0.  1.  0.]\n",
        "834"
       ]
      },
      {
       "output_type": "stream",
       "stream": "stdout",
       "text": [
        " [ 0.  0.  1.  0.]\n",
        "835 [ 0.  0.  1.  0.]\n",
        "836 [ 0.  0.  1.  0.]\n",
        "837 [ 0.  0.  1.  0.]\n",
        "838 [ 0.  0.  1.  0.]\n",
        "839 [ 0.  0.  1.  0.]\n"
       ]
      }
     ],
     "prompt_number": 232
    },
    {
     "cell_type": "code",
     "collapsed": false,
     "input": [
      "print v_a[234, :]\n",
      "print v_a[300, :]"
     ],
     "language": "python",
     "metadata": {},
     "outputs": [
      {
       "output_type": "stream",
       "stream": "stdout",
       "text": [
        "[ 29.56903274  24.10300213  22.38272517  21.69341565  21.2523741\n",
        "  21.22434945  21.0648056   21.05359682  20.85178893  20.6964499\n",
        "  20.67255252  20.529588    20.51564842  20.49656816  20.45631911]\n",
        "[ 29.56903274  24.74596366  23.35761531  23.20100821  22.93855013\n",
        "  22.86108523  22.77553298  22.71990852  22.43166951  22.40167414\n",
        "  22.3793615   22.3566963   22.32366167  22.32199292  22.28495983]\n"
       ]
      }
     ],
     "prompt_number": 199
    },
    {
     "cell_type": "code",
     "collapsed": false,
     "input": [
      "figure(); imshow(v_a, interpolation='nearest')\n"
     ],
     "language": "python",
     "metadata": {},
     "outputs": [
      {
       "metadata": {},
       "output_type": "pyout",
       "prompt_number": 200,
       "text": [
        "<matplotlib.image.AxesImage at 0x7f3bffa33410>"
       ]
      }
     ],
     "prompt_number": 200
    },
    {
     "cell_type": "code",
     "collapsed": false,
     "input": [
      "immediateAppRewards = 1.0/((1.0+t)**p)\n",
      "# immediateAppRewards /= np.repeat(np.reshape(np.max(immediateAppRewards, axis=-1), (immediateAppRewards.shape[0], 1)), immediateAppRewards.shape[0], axis=-1)\n",
      "\n",
      "\n",
      "# figure(); imshow(immediateAppRewards, interpolation='nearest')\n",
      "print np.max(immediateAppRewards[-1, :]), np.min(immediateAppRewards[-1, :])\n",
      "print np.sort(immediateAppRewards[0, :])[-15:]\n",
      "print np.max(immediateAppRewards, axis=0)\n",
      "print np.max(immediateAppRewards[-1, :])\n",
      "print np.max(immediateAppRewards[:, 0])"
     ],
     "language": "python",
     "metadata": {},
     "outputs": [
      {
       "output_type": "stream",
       "stream": "stdout",
       "text": [
        "0.427532047227 0.0345896661353\n",
        "[ 0.2959447   0.30227397  0.30670348  0.30856103  0.31168705  0.31379753\n",
        "  0.31730823  0.32577324  0.33276133  0.35551867  0.35663345  0.35986782\n",
        "  0.48225836  0.49447799  1.        ]\n",
        "[ 0.48225836  1.          1.         ...,  1.          1.          1.        ]\n",
        "0.427532047227\n",
        "0.48225835768\n"
       ]
      }
     ],
     "prompt_number": 138
    },
    {
     "cell_type": "code",
     "collapsed": false,
     "input": [
      "def estimateFutureCost(alpha, p, distanceMatrixFilt, weights) :\n",
      "\n",
      "        distMatFilt = distanceMatrixFilt[1:distanceMatrixFilt.shape[1], 0:-1]\n",
      "        distMat = distMatFilt ** p\n",
      "        \n",
      "        last = np.copy(distMat)\n",
      "        current = np.zeros(distMat.shape)\n",
      "        \n",
      "        ## while distance between last and current is larger than threshold\n",
      "        iterations = 0 \n",
      "        lastdiff = 0.0\n",
      "        currdiff = 1.0\n",
      "        while np.abs(lastdiff - currdiff) > 0.5 :##np.linalg.norm(last - current) > 0.1 : \n",
      "            for i in range(distMat.shape[0]-1, -1, -1) :\n",
      "                m = np.max(distMat*weights[1:distanceMatrixFilt.shape[1], 0:-1], axis=1)\n",
      "                distMat[i, :] = (distMatFilt[i, :] ** p) + alpha*m\n",
      "                \n",
      "            last = np.copy(current)\n",
      "            current = np.copy(distMat)\n",
      "            lastdiff = currdiff\n",
      "            currdiff = np.linalg.norm(last - current)\n",
      "            \n",
      "            sys.stdout.write('\\r' + \"Iteration \" + np.string_(iterations) + \"; distance \" + np.string_(np.linalg.norm(last - current)) + \"; \" + np.string_(np.abs(lastdiff - currdiff)))\n",
      "            sys.stdout.flush()\n",
      "            \n",
      "            iterations += 1\n",
      "        \n",
      "        print\n",
      "        print 'finished in', iterations, 'iterations'\n",
      "        \n",
      "        return distMat\n",
      "\n",
      "tmpD = 1.0/((1.0+np.copy(d))**2.0)\n",
      "tmpD /= np.repeat(np.reshape(np.sum(tmpD, axis=-1), (tmpD.shape[0], 1)), tmpD.shape[0], axis=-1)\n",
      "figure(); imshow(tmpD, interpolation='nearest')\n",
      "dFut = estimateFutureCost(0.999, 1.0, np.copy(tmpD), np.ones(tmpD.shape))"
     ],
     "language": "python",
     "metadata": {},
     "outputs": [
      {
       "output_type": "stream",
       "stream": "stdout",
       "text": [
        "\r",
        "Iteration 0; distance 2557.28517649; 2556.28517649"
       ]
      },
      {
       "output_type": "stream",
       "stream": "stdout",
       "text": [
        "\r",
        "Iteration 1; distance 5048.49273695; 2491.20756046"
       ]
      },
      {
       "output_type": "stream",
       "stream": "stdout",
       "text": [
        "\r",
        "Iteration 2; distance 2479.28359546; 2569.20914149"
       ]
      },
      {
       "output_type": "stream",
       "stream": "stdout",
       "text": [
        "\r",
        "Iteration 3; distance 960.647138868; 1518.63645659"
       ]
      },
      {
       "output_type": "stream",
       "stream": "stdout",
       "text": [
        "\r",
        "Iteration 4; distance 580.808630372; 379.838508496"
       ]
      },
      {
       "output_type": "stream",
       "stream": "stdout",
       "text": [
        "\r",
        "Iteration 5; distance 456.77091743; 124.037712943"
       ]
      },
      {
       "output_type": "stream",
       "stream": "stdout",
       "text": [
        "\r",
        "Iteration 6; distance 388.85092761; 67.9199898201"
       ]
      },
      {
       "output_type": "stream",
       "stream": "stdout",
       "text": [
        "\r",
        "Iteration 7; distance 337.661037234; 51.1898903757"
       ]
      },
      {
       "output_type": "stream",
       "stream": "stdout",
       "text": [
        "\r",
        "Iteration 8; distance 297.696223674; 39.9648135596"
       ]
      },
      {
       "output_type": "stream",
       "stream": "stdout",
       "text": [
        "\r",
        "Iteration 9; distance 265.802921462; 31.8933022119"
       ]
      },
      {
       "output_type": "stream",
       "stream": "stdout",
       "text": [
        "\r",
        "Iteration 10; distance 238.869447928; 26.933473534"
       ]
      },
      {
       "output_type": "stream",
       "stream": "stdout",
       "text": [
        "\r",
        "Iteration 11; distance 215.997530477; 22.871917451"
       ]
      },
      {
       "output_type": "stream",
       "stream": "stdout",
       "text": [
        "\r",
        "Iteration 12; distance 196.200177378; 19.7973530992"
       ]
      },
      {
       "output_type": "stream",
       "stream": "stdout",
       "text": [
        "\r",
        "Iteration 13; distance 179.169628139; 17.0305492395"
       ]
      },
      {
       "output_type": "stream",
       "stream": "stdout",
       "text": [
        "\r",
        "Iteration 14; distance 165.604569371; 13.5650587679"
       ]
      },
      {
       "output_type": "stream",
       "stream": "stdout",
       "text": [
        "\r",
        "Iteration 15; distance 153.718448858; 11.8861205126"
       ]
      },
      {
       "output_type": "stream",
       "stream": "stdout",
       "text": [
        "\r",
        "Iteration 16; distance 143.076370517; 10.6420783417"
       ]
      },
      {
       "output_type": "stream",
       "stream": "stdout",
       "text": [
        "\r",
        "Iteration 17; distance 133.757843389; 9.31852712735"
       ]
      },
      {
       "output_type": "stream",
       "stream": "stdout",
       "text": [
        "\r",
        "Iteration 18; distance 125.796783333; 7.96106005657"
       ]
      },
      {
       "output_type": "stream",
       "stream": "stdout",
       "text": [
        "\r",
        "Iteration 19; distance 118.908412739; 6.88837059397"
       ]
      },
      {
       "output_type": "stream",
       "stream": "stdout",
       "text": [
        "\r",
        "Iteration 20; distance 112.510176434; 6.39823630499"
       ]
      },
      {
       "output_type": "stream",
       "stream": "stdout",
       "text": [
        "\r",
        "Iteration 21; distance 106.672801625; 5.83737480904"
       ]
      },
      {
       "output_type": "stream",
       "stream": "stdout",
       "text": [
        "\r",
        "Iteration 22; distance 101.179579348; 5.49322227691"
       ]
      },
      {
       "output_type": "stream",
       "stream": "stdout",
       "text": [
        "\r",
        "Iteration 23; distance 96.0382720447; 5.141307303"
       ]
      },
      {
       "output_type": "stream",
       "stream": "stdout",
       "text": [
        "\r",
        "Iteration 24; distance 91.2012987405; 4.83697330419"
       ]
      },
      {
       "output_type": "stream",
       "stream": "stdout",
       "text": [
        "\r",
        "Iteration 25; distance 86.7559777581; 4.44532098234"
       ]
      },
      {
       "output_type": "stream",
       "stream": "stdout",
       "text": [
        "\r",
        "Iteration 26; distance 82.9584687411; 3.79750901704"
       ]
      },
      {
       "output_type": "stream",
       "stream": "stdout",
       "text": [
        "\r",
        "Iteration 27; distance 79.410062457; 3.54840628411"
       ]
      },
      {
       "output_type": "stream",
       "stream": "stdout",
       "text": [
        "\r",
        "Iteration 28; distance 76.033054462; 3.37700799504"
       ]
      },
      {
       "output_type": "stream",
       "stream": "stdout",
       "text": [
        "\r",
        "Iteration 29; distance 72.8579423944; 3.17511206751"
       ]
      },
      {
       "output_type": "stream",
       "stream": "stdout",
       "text": [
        "\r",
        "Iteration 30; distance 69.9995014463; 2.85844094812"
       ]
      },
      {
       "output_type": "stream",
       "stream": "stdout",
       "text": [
        "\r",
        "Iteration 31; distance 67.5750945003; 2.42440694604"
       ]
      },
      {
       "output_type": "stream",
       "stream": "stdout",
       "text": [
        "\r",
        "Iteration 32; distance 65.4388474406; 2.1362470597"
       ]
      },
      {
       "output_type": "stream",
       "stream": "stdout",
       "text": [
        "\r",
        "Iteration 33; distance 63.4165779114; 2.02226952919"
       ]
      },
      {
       "output_type": "stream",
       "stream": "stdout",
       "text": [
        "\r",
        "Iteration 34; distance 61.5749359288; 1.84164198257"
       ]
      },
      {
       "output_type": "stream",
       "stream": "stdout",
       "text": [
        "\r",
        "Iteration 35; distance 59.8239414295; 1.75099449933"
       ]
      },
      {
       "output_type": "stream",
       "stream": "stdout",
       "text": [
        "\r",
        "Iteration 36; distance 58.1167744222; 1.70716700729"
       ]
      },
      {
       "output_type": "stream",
       "stream": "stdout",
       "text": [
        "\r",
        "Iteration 37; distance 56.4654363407; 1.65133808147"
       ]
      },
      {
       "output_type": "stream",
       "stream": "stdout",
       "text": [
        "\r",
        "Iteration 38; distance 54.8966346126; 1.56880172812"
       ]
      },
      {
       "output_type": "stream",
       "stream": "stdout",
       "text": [
        "\r",
        "Iteration 39; distance 53.3796941498; 1.51694046283"
       ]
      },
      {
       "output_type": "stream",
       "stream": "stdout",
       "text": [
        "\r",
        "Iteration 40; distance 51.905202753; 1.47449139675"
       ]
      },
      {
       "output_type": "stream",
       "stream": "stdout",
       "text": [
        "\r",
        "Iteration 41; distance 50.4718063782; 1.43339637479"
       ]
      },
      {
       "output_type": "stream",
       "stream": "stdout",
       "text": [
        "\r",
        "Iteration 42; distance 49.0779911193; 1.39381525894"
       ]
      },
      {
       "output_type": "stream",
       "stream": "stdout",
       "text": [
        "\r",
        "Iteration 43; distance 47.7241901929; 1.35380092643"
       ]
      },
      {
       "output_type": "stream",
       "stream": "stdout",
       "text": [
        "\r",
        "Iteration 44; distance 46.4082804527; 1.31590974016"
       ]
      },
      {
       "output_type": "stream",
       "stream": "stdout",
       "text": [
        "\r",
        "Iteration 45; distance 45.1303065936; 1.27797385913"
       ]
      },
      {
       "output_type": "stream",
       "stream": "stdout",
       "text": [
        "\r",
        "Iteration 46; distance 43.9106439193; 1.21966267428"
       ]
      },
      {
       "output_type": "stream",
       "stream": "stdout",
       "text": [
        "\r",
        "Iteration 47; distance 42.7701614244; 1.14048249491"
       ]
      },
      {
       "output_type": "stream",
       "stream": "stdout",
       "text": [
        "\r",
        "Iteration 48; distance 41.7174048215; 1.05275660286"
       ]
      },
      {
       "output_type": "stream",
       "stream": "stdout",
       "text": [
        "\r",
        "Iteration 49; distance 40.758669691; 0.95873513059"
       ]
      },
      {
       "output_type": "stream",
       "stream": "stdout",
       "text": [
        "\r",
        "Iteration 50; distance 39.9141655882; 0.844504102781"
       ]
      },
      {
       "output_type": "stream",
       "stream": "stdout",
       "text": [
        "\r",
        "Iteration 51; distance 39.0870268611; 0.827138727059"
       ]
      },
      {
       "output_type": "stream",
       "stream": "stdout",
       "text": [
        "\r",
        "Iteration 52; distance 38.2752962491; 0.811730612029"
       ]
      },
      {
       "output_type": "stream",
       "stream": "stdout",
       "text": [
        "\r",
        "Iteration 53; distance 37.4800667055; 0.795229543605"
       ]
      },
      {
       "output_type": "stream",
       "stream": "stdout",
       "text": [
        "\r",
        "Iteration 54; distance 36.7010175777; 0.779049127743"
       ]
      },
      {
       "output_type": "stream",
       "stream": "stdout",
       "text": [
        "\r",
        "Iteration 55; distance 35.9381918146; 0.762825763149"
       ]
      },
      {
       "output_type": "stream",
       "stream": "stdout",
       "text": [
        "\r",
        "Iteration 56; distance 35.1910994217; 0.747092392928"
       ]
      },
      {
       "output_type": "stream",
       "stream": "stdout",
       "text": [
        "\r",
        "Iteration 57; distance 34.4679274364; 0.723171985299"
       ]
      },
      {
       "output_type": "stream",
       "stream": "stdout",
       "text": [
        "\r",
        "Iteration 58; distance 33.7834764055; 0.684451030833"
       ]
      },
      {
       "output_type": "stream",
       "stream": "stdout",
       "text": [
        "\r",
        "Iteration 59; distance 33.114343127; 0.669133278548"
       ]
      },
      {
       "output_type": "stream",
       "stream": "stdout",
       "text": [
        "\r",
        "Iteration 60; distance 32.4587239173; 0.655619209637"
       ]
      },
      {
       "output_type": "stream",
       "stream": "stdout",
       "text": [
        "\r",
        "Iteration 61; distance 31.816090065; 0.642633852292"
       ]
      },
      {
       "output_type": "stream",
       "stream": "stdout",
       "text": [
        "\r",
        "Iteration 62; distance 31.1861066859; 0.62998337915"
       ]
      },
      {
       "output_type": "stream",
       "stream": "stdout",
       "text": [
        "\r",
        "Iteration 63; distance 30.5687495915; 0.617357094404"
       ]
      },
      {
       "output_type": "stream",
       "stream": "stdout",
       "text": [
        "\r",
        "Iteration 64; distance 29.9642821314; 0.604467460091"
       ]
      },
      {
       "output_type": "stream",
       "stream": "stdout",
       "text": [
        "\r",
        "Iteration 65; distance 29.3739873521; 0.590294779328"
       ]
      },
      {
       "output_type": "stream",
       "stream": "stdout",
       "text": [
        "\r",
        "Iteration 66; distance 28.8059505167; 0.56803683536"
       ]
      },
      {
       "output_type": "stream",
       "stream": "stdout",
       "text": [
        "\r",
        "Iteration 67; distance 28.2676343996; 0.538316117105"
       ]
      },
      {
       "output_type": "stream",
       "stream": "stdout",
       "text": [
        "\r",
        "Iteration 68; distance 27.7384416213; 0.529192778341"
       ]
      },
      {
       "output_type": "stream",
       "stream": "stdout",
       "text": [
        "\r",
        "Iteration 69; distance 27.2184830356; 0.519958585621"
       ]
      },
      {
       "output_type": "stream",
       "stream": "stdout",
       "text": [
        "\r",
        "Iteration 70; distance 26.7078494026; 0.510633633031"
       ]
      },
      {
       "output_type": "stream",
       "stream": "stdout",
       "text": [
        "\r",
        "Iteration 71; distance 26.2124491073; 0.495400295311"
       ]
      },
      {
       "output_type": "stream",
       "stream": "stdout",
       "text": [
        "\n",
        "finished in 72 iterations\n"
       ]
      }
     ],
     "prompt_number": 97
    },
    {
     "cell_type": "code",
     "collapsed": false,
     "input": [
      "def estimateFutureCost(alpha, p, distanceMatrixFilt) :\n",
      "\n",
      "        distMatFilt = distanceMatrixFilt #distanceMatrixFilt[1:distanceMatrixFilt.shape[1], 0:-1]\n",
      "        distMat = distMatFilt ** p\n",
      "        \n",
      "        last = np.copy(distMat)\n",
      "        current = np.zeros(distMat.shape)\n",
      "        \n",
      "        ## while distance between last and current is larger than threshold\n",
      "        iterations = 0 \n",
      "        while np.linalg.norm(last - current) > 0.1 : \n",
      "            for i in range(distMat.shape[0]-1, -1, -1) :\n",
      "                m = np.min(distMat, axis=1)\n",
      "                distMat[i, :] = (distMatFilt[i, :] ** p) + alpha*m\n",
      "                \n",
      "            last = np.copy(current)\n",
      "            current = np.copy(distMat)\n",
      "            \n",
      "            sys.stdout.write('\\r' + \"Iteration \" + np.string_(iterations) + \"; distance \" + np.string_(np.linalg.norm(last - current)))\n",
      "            sys.stdout.flush()\n",
      "            \n",
      "            iterations += 1\n",
      "        \n",
      "        print\n",
      "        print 'finished in', iterations, 'iterations'\n",
      "        \n",
      "        return distMat\n",
      "    \n",
      "dFut = estimateFutureCost(0.999, 2.0, np.copy(t))"
     ],
     "language": "python",
     "metadata": {},
     "outputs": [
      {
       "output_type": "stream",
       "stream": "stdout",
       "text": [
        "\r",
        "Iteration 0; distance 9686.15685467"
       ]
      },
      {
       "output_type": "stream",
       "stream": "stdout",
       "text": [
        "\r",
        "Iteration 1; distance 40.8868525008"
       ]
      },
      {
       "output_type": "stream",
       "stream": "stdout",
       "text": [
        "\r",
        "Iteration 2; distance 35.9326356396"
       ]
      },
      {
       "output_type": "stream",
       "stream": "stdout",
       "text": [
        "\r",
        "Iteration 3; distance 33.4877065865"
       ]
      },
      {
       "output_type": "stream",
       "stream": "stdout",
       "text": [
        "\r",
        "Iteration 4; distance 30.3138882796"
       ]
      },
      {
       "output_type": "stream",
       "stream": "stdout",
       "text": [
        "\r",
        "Iteration 5; distance 26.7707667765"
       ]
      },
      {
       "output_type": "stream",
       "stream": "stdout",
       "text": [
        "\r",
        "Iteration 6; distance 23.7677475356"
       ]
      },
      {
       "output_type": "stream",
       "stream": "stdout",
       "text": [
        "\r",
        "Iteration 7; distance 21.4582803619"
       ]
      },
      {
       "output_type": "stream",
       "stream": "stdout",
       "text": [
        "\r",
        "Iteration 8; distance 19.7132384365"
       ]
      },
      {
       "output_type": "stream",
       "stream": "stdout",
       "text": [
        "\r",
        "Iteration 9; distance 18.4087583961"
       ]
      },
      {
       "output_type": "stream",
       "stream": "stdout",
       "text": [
        "\r",
        "Iteration 10; distance 17.4526202621"
       ]
      },
      {
       "output_type": "stream",
       "stream": "stdout",
       "text": [
        "\r",
        "Iteration 11; distance 16.762834534"
       ]
      },
      {
       "output_type": "stream",
       "stream": "stdout",
       "text": [
        "\r",
        "Iteration 12; distance 16.2682146671"
       ]
      },
      {
       "output_type": "stream",
       "stream": "stdout",
       "text": [
        "\r",
        "Iteration 13; distance 12.8138009359"
       ]
      },
      {
       "output_type": "stream",
       "stream": "stdout",
       "text": [
        "\r",
        "Iteration 14; distance 6.42008953748"
       ]
      },
      {
       "output_type": "stream",
       "stream": "stdout",
       "text": [
        "\r",
        "Iteration 15; distance 5.38116774738"
       ]
      },
      {
       "output_type": "stream",
       "stream": "stdout",
       "text": [
        "\r",
        "Iteration 16; distance 4.79815502785"
       ]
      },
      {
       "output_type": "stream",
       "stream": "stdout",
       "text": [
        "\r",
        "Iteration 17; distance 4.31083369017"
       ]
      },
      {
       "output_type": "stream",
       "stream": "stdout",
       "text": [
        "\r",
        "Iteration 18; distance 3.09788771726"
       ]
      },
      {
       "output_type": "stream",
       "stream": "stdout",
       "text": [
        "\r",
        "Iteration 19; distance 2.07257581852"
       ]
      },
      {
       "output_type": "stream",
       "stream": "stdout",
       "text": [
        "\r",
        "Iteration 20; distance 1.7172052725"
       ]
      },
      {
       "output_type": "stream",
       "stream": "stdout",
       "text": [
        "\r",
        "Iteration 21; distance 1.42276770844"
       ]
      },
      {
       "output_type": "stream",
       "stream": "stdout",
       "text": [
        "\r",
        "Iteration 22; distance 1.1788153604"
       ]
      },
      {
       "output_type": "stream",
       "stream": "stdout",
       "text": [
        "\r",
        "Iteration 23; distance 0.976691870133"
       ]
      },
      {
       "output_type": "stream",
       "stream": "stdout",
       "text": [
        "\r",
        "Iteration 24; distance 0.809225126535"
       ]
      },
      {
       "output_type": "stream",
       "stream": "stdout",
       "text": [
        "\r",
        "Iteration 25; distance 0.670472771855"
       ]
      },
      {
       "output_type": "stream",
       "stream": "stdout",
       "text": [
        "\r",
        "Iteration 26; distance 0.555511344196"
       ]
      },
      {
       "output_type": "stream",
       "stream": "stdout",
       "text": [
        "\r",
        "Iteration 27; distance 0.460261574347"
       ]
      },
      {
       "output_type": "stream",
       "stream": "stdout",
       "text": [
        "\r",
        "Iteration 28; distance 0.381343637773"
       ]
      },
      {
       "output_type": "stream",
       "stream": "stdout",
       "text": [
        "\r",
        "Iteration 29; distance 0.315957225577"
       ]
      },
      {
       "output_type": "stream",
       "stream": "stdout",
       "text": [
        "\r",
        "Iteration 30; distance 0.261782178869"
       ]
      },
      {
       "output_type": "stream",
       "stream": "stdout",
       "text": [
        "\r",
        "Iteration 31; distance 0.216896160701"
       ]
      },
      {
       "output_type": "stream",
       "stream": "stdout",
       "text": [
        "\r",
        "Iteration 32; distance 0.179706444228"
       ]
      },
      {
       "output_type": "stream",
       "stream": "stdout",
       "text": [
        "\r",
        "Iteration 33; distance 0.148893396696"
       ]
      },
      {
       "output_type": "stream",
       "stream": "stdout",
       "text": [
        "\r",
        "Iteration 34; distance 0.123363653847"
       ]
      },
      {
       "output_type": "stream",
       "stream": "stdout",
       "text": [
        "\r",
        "Iteration 35; distance 0.102211323189"
       ]
      },
      {
       "output_type": "stream",
       "stream": "stdout",
       "text": [
        "\r",
        "Iteration 36; distance 0.0846858394856"
       ]
      },
      {
       "output_type": "stream",
       "stream": "stdout",
       "text": [
        "\n",
        "finished in 37 iterations\n"
       ]
      }
     ],
     "prompt_number": 101
    },
    {
     "cell_type": "code",
     "collapsed": false,
     "input": [
      "print np.max(dFut)"
     ],
     "language": "python",
     "metadata": {},
     "outputs": [
      {
       "output_type": "stream",
       "stream": "stdout",
       "text": [
        "41.1180905011\n"
       ]
      }
     ],
     "prompt_number": 177
    },
    {
     "cell_type": "code",
     "collapsed": false,
     "input": [
      "figure(); imshow(dFut, interpolation='nearest')"
     ],
     "language": "python",
     "metadata": {},
     "outputs": [
      {
       "metadata": {},
       "output_type": "pyout",
       "prompt_number": 122,
       "text": [
        "<matplotlib.image.AxesImage at 0x7f3bfffe7a50>"
       ]
      }
     ],
     "prompt_number": 122
    },
    {
     "cell_type": "code",
     "collapsed": false,
     "input": [
      "## normalize dFut so it goes from 0 to 1 to get the extraRewards\n",
      "extraRewards = np.copy(dFut)\n",
      "mins = np.repeat(np.reshape(np.min(extraRewards, axis=-1), (extraRewards.shape[0], 1)), extraRewards.shape[0], axis=-1)\n",
      "diffs = np.repeat(np.reshape(np.max(extraRewards, axis=-1) - np.min(extraRewards, axis=-1), (extraRewards.shape[0], 1)), extraRewards.shape[0], axis=-1)\n",
      "extraRewards = -(extraRewards - mins)/diffs\n",
      "## remove data about last frame since I wouldn't have info about it in extraRewards\n",
      "d = np.copy(d[0:-1, 0:-1])\n",
      "## copy filtered d to dFilt\n",
      "dFilt = np.copy(d)\n",
      "## troncate fs to match indices in d to indices in fs\n",
      "fs = np.copy(fs[0:-1, :, :])\n",
      "print fs.shape[0], \"frame states(lost\", numStates-fs.shape[0], \"because future cost estimation does not\",\n",
      "print \"have info about last frame),\", \"features size is\", fs.shape[1]\n",
      "numStates = fs.shape[0]"
     ],
     "language": "python",
     "metadata": {},
     "outputs": [
      {
       "output_type": "stream",
       "stream": "stdout",
       "text": [
        "1271 frame states(lost 1 because future cost estimation does not have info about last frame), features size is 16\n"
       ]
      }
     ],
     "prompt_number": 6
    },
    {
     "cell_type": "code",
     "collapsed": false,
     "input": [
      "d = np.copy(dFut)\n",
      "# d = np.copy(dFilt)"
     ],
     "language": "python",
     "metadata": {},
     "outputs": [],
     "prompt_number": 7
    },
    {
     "cell_type": "code",
     "collapsed": false,
     "input": [
      "## find k-nearest neighbors based on dissimilarity matrix\n",
      "k = 15\n",
      "neighbours = np.argsort(d+(np.eye(d.shape[0])*np.max(d)+1))[:, 0:k] #np.argsort(d)[:, 0:k] # we don't want ourselves as neighbour\n",
      "# figure(); imshow(neighbours)\n",
      "\n",
      "# w are similarity weights\n",
      "w = 1/(d[np.reshape(range(d.shape[0]), (d.shape[0], 1)).repeat(k, axis=-1), neighbours]**2)#(np.sort(d)[:, 1:k+1]**2)\n",
      "# normalize to make weights sum to 1\n",
      "w /= np.repeat(np.reshape(np.sum(w, axis=-1), (numStates, 1)), k, axis=-1)"
     ],
     "language": "python",
     "metadata": {},
     "outputs": [],
     "prompt_number": 8
    },
    {
     "cell_type": "code",
     "collapsed": false,
     "input": [
      "print neighbours[234, :]\n",
      "print w[234, :], np.sum(w[234, :])"
     ],
     "language": "python",
     "metadata": {},
     "outputs": [
      {
       "output_type": "stream",
       "stream": "stdout",
       "text": [
        "[235 236 247 237  33 765 795 764 233 872 246 248  71 794 853]\n",
        "[ 0.69426705  0.11032388  0.0376324   0.02422947  0.01476097  0.01468229\n",
        "  0.01422956  0.01306702  0.01265558  0.01247948  0.01241458  0.01105723\n",
        "  0.00962517  0.00936339  0.00921193] 1.0\n"
       ]
      }
     ],
     "prompt_number": 9
    },
    {
     "cell_type": "code",
     "collapsed": false,
     "input": [
      "print neighbours[234, :]\n",
      "print w[234, :]"
     ],
     "language": "python",
     "metadata": {},
     "outputs": [
      {
       "output_type": "stream",
       "stream": "stdout",
       "text": [
        "[233 235 871 246 764 236 763 872  32  33 852 232 807 806 737]\n",
        "[ 0.14900866  0.14781845  0.07050264  0.06490585  0.06272493  0.06070396\n",
        "  0.06029096  0.05266059  0.05117636  0.04874911  0.04867451  0.04734257\n",
        "  0.04530793  0.0452244   0.04490906]\n"
       ]
      }
     ],
     "prompt_number": 11
    },
    {
     "cell_type": "code",
     "collapsed": false,
     "input": [
      "# figure();imshow(d*(np.eye(d.shape[0])*np.max(d)+1), interpolation='nearest')\n",
      "print np.argsort(d+(np.eye(d.shape[0])*np.max(d)+1))[:, 0:k][106, :]\n",
      "print neighbours[106, :]\n",
      "print w[106, :]\n",
      "print A[106, 0, :]\n",
      "print np.concatenate(([1], w[106, 1:]))/np.sum(np.concatenate(([1], w[106, 1:])))\n",
      "print A[106, 1, :]"
     ],
     "language": "python",
     "metadata": {},
     "outputs": [
      {
       "output_type": "stream",
       "stream": "stdout",
       "text": [
        "[107 108 109 110 105 111 104 123 124 122 114 115 103 112 102]\n",
        "[107 108 109 110 105 111 104 123 124 122 114 115 103 112 102]\n",
        "[ 0.32744551  0.14030015  0.0723538   0.07083088  0.0659481   0.04028742\n",
        "  0.03843435  0.03634907  0.03295409  0.03188396  0.03037224  0.02998636\n",
        "  0.02936323  0.0275421   0.02594874]\n",
        "[ 0.59788784  0.08388375  0.04325946  0.04234892  0.03942957  0.02408736\n",
        "  0.02297943  0.02173267  0.01970285  0.01906303  0.01815919  0.01792848\n",
        "  0.01755592  0.01646709  0.01551444]\n",
        "[ 0.59788784  0.08388375  0.04325946  0.04234892  0.03942957  0.02408736\n",
        "  0.02297943  0.02173267  0.01970285  0.01906303  0.01815919  0.01792848\n",
        "  0.01755592  0.01646709  0.01551444]\n",
        "[ 0.17607439  0.53772118  0.03890617  0.03808726  0.03546169  0.0216634\n",
        "  0.02066696  0.01954567  0.01772011  0.01714468  0.0163318   0.0161243\n",
        "  0.01578923  0.01480997  0.01395319]\n"
       ]
      }
     ],
     "prompt_number": 30
    },
    {
     "cell_type": "code",
     "collapsed": false,
     "input": [
      "## test task state integration function\n",
      "a = np.zeros(k)\n",
      "a[k/2] = 1\n",
      "fIdx = 300\n",
      "f = fs[fIdx, :, :]\n",
      "ns = fs[neighbours[fIdx, :], :, :]\n",
      "labels = np.load(outputData + \"hist2demd_mult0.02_16x16_labels.npy\")[()]['labelProbs']\n",
      "newT, newIdx = integrateTaskState({'frameState': f, 'taskParams': labels[fIdx, :]}, a, ns, 1.0, neighbours[fIdx, :], labels)\n",
      "print newT, newIdx\n",
      "print fs[newIdx, :, :]\n",
      "print labels[newIdx, :]"
     ],
     "language": "python",
     "metadata": {},
     "outputs": [
      {
       "output_type": "stream",
       "stream": "stdout",
       "text": [
        "{'frameState': array([[  0.00000000e+00,   0.00000000e+00,   0.00000000e+00],\n",
        "       [  0.00000000e+00,   0.00000000e+00,   0.00000000e+00],\n",
        "       [  1.70166841e-02,  -1.96381969e-03,   1.11517273e-03],\n",
        "       [  0.00000000e+00,   0.00000000e+00,   0.00000000e+00],\n",
        "       [  0.00000000e+00,   0.00000000e+00,   0.00000000e+00],\n",
        "       [  0.00000000e+00,   0.00000000e+00,   0.00000000e+00],\n",
        "       [  9.65197346e-01,   3.46735657e-02,  -1.62304047e-06],\n",
        "       [  0.00000000e+00,   0.00000000e+00,   0.00000000e+00],\n",
        "       [  0.00000000e+00,   0.00000000e+00,   0.00000000e+00],\n",
        "       [  0.00000000e+00,   0.00000000e+00,   0.00000000e+00],\n",
        "       [  2.60968419e-01,  -2.55349608e-01,  -5.61881115e-03],\n",
        "       [  0.00000000e+00,   0.00000000e+00,   0.00000000e+00],\n",
        "       [  0.00000000e+00,   0.00000000e+00,   0.00000000e+00],\n",
        "       [  0.00000000e+00,   0.00000000e+00,   0.00000000e+00],\n",
        "       [  0.00000000e+00,   0.00000000e+00,   0.00000000e+00],\n",
        "       [  0.00000000e+00,   0.00000000e+00,   0.00000000e+00]]), 'taskParams': array([ 0.05001374,  0.93200863,  0.01647311,  0.00150452])} 59\n",
        "[[  0.00000000e+00   0.00000000e+00   0.00000000e+00]\n",
        " [  0.00000000e+00   0.00000000e+00   0.00000000e+00]\n",
        " [  1.70166841e-02  -1.96381969e-03   1.11517273e-03]\n",
        " [  0.00000000e+00   0.00000000e+00   0.00000000e+00]\n",
        " [  0.00000000e+00   0.00000000e+00   0.00000000e+00]\n",
        " [  0.00000000e+00   0.00000000e+00   0.00000000e+00]\n",
        " [  9.65197346e-01   3.46735657e-02  -1.62304047e-06]\n",
        " [  0.00000000e+00   0.00000000e+00   0.00000000e+00]\n",
        " [  0.00000000e+00   0.00000000e+00   0.00000000e+00]\n",
        " [  0.00000000e+00   0.00000000e+00   0.00000000e+00]\n",
        " [  2.60968419e-01  -2.55349608e-01  -5.61881115e-03]\n",
        " [  0.00000000e+00   0.00000000e+00   0.00000000e+00]\n",
        " [  0.00000000e+00   0.00000000e+00   0.00000000e+00]\n",
        " [  0.00000000e+00   0.00000000e+00   0.00000000e+00]\n",
        " [  0.00000000e+00   0.00000000e+00   0.00000000e+00]\n",
        " [  0.00000000e+00   0.00000000e+00   0.00000000e+00]]\n",
        "[ 0.05001374  0.93200863  0.01647311  0.00150452]\n"
       ]
      }
     ],
     "prompt_number": 19
    },
    {
     "cell_type": "code",
     "collapsed": false,
     "input": [
      "## this is to test that the new implementation does something plausible\n",
      "taskState = {'frameState': fs[trackingState, :, :], 'taskParams': labels[trackingState, :]}\n",
      "neighboursTaskParamsValues = labels[neighbours[trackingState, :], :]\n",
      "action = A[trackingState, 4, :]\n",
      "taskToPerform = possibleTasksToPerform[3, :]\n",
      "# v = np.zeros((fs.shape[0], possibleTasksToPerform.shape[0]))\n",
      "\n",
      "print \"neighbours\", neighbours[trackingState, :]\n",
      "print \"neighbours' labels\", neighboursTaskParamsValues\n",
      "print \"chosen action\", action, np.sum(action)\n",
      "print \"task to perform\", taskToPerform\n",
      "print \"rewards for given neighbours\", 2.0-np.sum(np.abs(neighboursTaskParamsValues-np.reshape(taskToPerform, (1, 4)).repeat(k, axis=0)), axis = -1)\n",
      "\n",
      "print \"total reward computed by method\", reward(taskState, neighboursTaskParamsValues, action, taskToPerform)\n",
      "\n",
      "tmp = 2.0-np.sum(np.abs(neighboursTaskParamsValues-np.reshape(taskToPerform, (1, 4)).repeat(k, axis=0)), axis = -1)\n",
      "print \"total reward based on normalized rewards for neighbours by action weights\", np.sum(action*tmp)\n",
      "print\n",
      "print\n",
      "\n",
      "bestA, bestIdx = pi_l(taskState, A[trackingState, :, :], v[:, t], trackingState, fs, neighbours, labels, taskToPerform, neighsProbs)#extraRewards)\n",
      "print \"best A and idx\", bestA, bestIdx"
     ],
     "language": "python",
     "metadata": {},
     "outputs": [
      {
       "output_type": "stream",
       "stream": "stdout",
       "text": [
        "neighbours [299 301 527 363 528 611 326 575 691 526  58 411 576 327 402]\n",
        "neighbours' labels [[  8.99090544e-03   9.89536182e-01   1.35101498e-03   1.21897592e-04]\n",
        " [  1.49739316e-02   9.81543822e-01   3.19039163e-03   2.91854862e-04]\n",
        " [  3.51219288e-03   9.96169956e-01   2.92699370e-04   2.51520012e-05]\n",
        " [  2.98673367e-03   9.96787083e-01   2.08817253e-04   1.73656731e-05]\n",
        " [  4.35020759e-03   9.95118557e-01   4.88326523e-04   4.29086596e-05]\n",
        " [  2.75779369e-03   9.97045032e-01   1.82184580e-04   1.49902463e-05]\n",
        " [  7.80681986e-02   9.06295893e-01   1.42140697e-02   1.42183997e-03]\n",
        " [  1.10207706e-03   9.98837485e-01   5.60356369e-05   4.40256947e-06]\n",
        " [  3.05408524e-03   9.96742331e-01   1.88319364e-04   1.52642999e-05]\n",
        " [  2.10200039e-03   9.97794953e-01   9.55922157e-05   7.45422796e-06]\n",
        " [  6.79896022e-02   9.14258203e-01   1.60257880e-02   1.72640787e-03]\n",
        " [  2.65038736e-02   9.72909417e-01   5.56950676e-04   2.97588878e-05]\n",
        " [  3.36345588e-03   9.96378725e-01   2.38021313e-04   1.97983263e-05]\n",
        " [  6.69105774e-02   9.15364545e-01   1.61196938e-02   1.60518431e-03]\n",
        " [  1.13481307e-02   9.88391791e-01   2.46248383e-04   1.38300022e-05]]\n",
        "chosen action [ 0.08738077  0.08301807  0.03207839  0.03040169  0.51460617  0.02872303\n",
        "  0.0271147   0.02567258  0.0255931   0.0247333   0.02466283  0.02464877\n",
        "  0.0241506   0.0238714   0.0233446 ] 1.0\n",
        "task to perform [ 0.  0.  0.  1.]\n",
        "rewards for given neighbours [  2.43795065e-04   5.83709458e-04   5.03039529e-05   3.47312684e-05\n",
        "   8.58172327e-05   2.99804440e-05   2.84367904e-03   8.80512160e-06\n",
        "   3.05285315e-05   1.49084413e-05   3.45281474e-03   5.95177359e-05\n",
        "   3.95965377e-05   3.21036763e-03   2.76599844e-05]\n",
        "total reward computed by method 0.000360796986036\n",
        "total reward based on normalized rewards for neighbours by action weights 0.000360796986036\n",
        "\n",
        "\n",
        "current amount for action in pi_l 31.4707485135 1.0 0.000449440528131 31.470299073 299\n",
        "current amount for action in pi_l 33.4710292142 1.0 0.000603537674313 33.4704256765 301\n",
        "current amount for action in pi_l 31.5399862036 1.0 0.000344401961947 31.5396418016 527\n",
        "current amount for action in pi_l 31.4706381518 1.0 0.000336358917676 31.4703017929 363\n",
        "current amount for action in pi_l 31.5400199863 1.0 0.000360796986036 31.5396591894 528\n",
        "current amount for action in pi_l 31.4706282677 1.0 0.000333545618578 31.4702947221 611\n",
        "current amount for action in pi_l 33.5419613791 1.0 0.00170184126269 33.5402595378 326\n",
        "current amount for action in pi_l 29.5400399181 1.0 0.000322306065821 29.539717612 575\n",
        "current amount for action in pi_l 31.470625344 1.0 0.000332865963211 31.470292478 691\n",
        "current amount for action in pi_l 29.5400118008 1.0 0.00032498943289 29.5396868114 526\n",
        "current amount for action in pi_l 35.4700602866 1.0 0.00200171857966 35.4680585681 58\n",
        "current amount for action in pi_l 27.4708272071 1.0 0.000346720704722 27.4704804864 411\n",
        "current amount for action in pi_l 31.4711013979 1.0 0.000336857091774 31.4707645408 576\n",
        "current amount for action in pi_l 33.5425419232 1.0 0.00188451576364 33.5406574074 327\n",
        "current amount for action in pi_l 27.4708000731 1.0 0.000330789136162 27.470469284 402\n",
        "best A and idx [ 0.08698503  0.08264209  0.03193311  0.030264    0.02908003  0.02859295\n",
        "  0.0269919   0.02555631  0.02547719  0.02462128  0.51227557  0.02453714\n",
        "  0.02404122  0.02376329  0.02323888] 10\n"
       ]
      }
     ],
     "prompt_number": 26
    },
    {
     "cell_type": "code",
     "collapsed": false,
     "input": [
      "############# COMPUTE VALUE FUNCTION V ###############\n",
      "\n",
      "# load labels to use as taskParamsValues\n",
      "labels = np.load(outputData + \"hist2demd_mult0.02_16x16_labels.npy\")[()]['labelProbs']\n",
      "possibleTasksToPerform = np.eye(labels.shape[-1])\n",
      "\n",
      "# compute video field A value at each state, i.e. compute possible actions at each state as defined in section 4.1\n",
      "# A[i, :, :] gives KxK matrix where each row is an action that favors the neighbour corresponding to row idx\n",
      "A = np.zeros((numStates, k , k))\n",
      "for fIdx in range(numStates) :\n",
      "    tmp = np.repeat(np.reshape(w[fIdx, :], (1, k)), k, axis=0)\n",
      "    ## set action corresponding to ith neighbour to 1\n",
      "    tmp[np.where(np.eye(k)==1)] = 1\n",
      "    ## and renormalize\n",
      "    tmp /= np.repeat(np.reshape(np.sum(tmp, axis=-1), (k, 1)), k, axis=-1) #np.repeat(np.reshape(np.sum(tmp, axis=0), (1, k)), k, axis=0)\n",
      "    A[fIdx, :, :] = np.copy(tmp)\n",
      "\n",
      "## init v to zeros\n",
      "# v = np.load(\"valuefunction.npy\")\n",
      "v = np.zeros((fs.shape[0], possibleTasksToPerform.shape[0]))\n",
      "vTmp = np.copy(v)\n",
      "prevAdditionalReward = 0\n",
      "\n",
      "maxIterations = 20\n",
      "trackingState = 300\n",
      "print \"tracking progression of state\", trackingState\n",
      "print \"neighbours\", neighbours[trackingState, :]\n",
      "for i in range(maxIterations) :\n",
      "    ## for each possible task\n",
      "    print \"best actions\",\n",
      "    for t in range(possibleTasksToPerform.shape[0]) :\n",
      "        ## for each frame state\n",
      "        for fIdx in range(numStates) :\n",
      "            si = {'frameState': fs[fIdx, :, :], 'taskParams': labels[fIdx, :]}\n",
      "            neighsProbs = (1.0/(np.abs(neighbours[fIdx, :]-fIdx-1.0)+1.0))/np.sum(1.0/(np.abs(neighbours[fIdx, :]-fIdx-1.0)+1.0))#probs[fIdx, neighbours[fIdx, :]]/np.sum(probs[fIdx, neighbours[fIdx, :]])\n",
      "            bestA, bestIdx = pi_l(si, A[fIdx, :, :], v[:, t], fIdx, fs, neighbours, labels, possibleTasksToPerform[t, :], neighsProbs, w[fIdx, :])#extraRewards)\n",
      "            \n",
      "            newTaskState, newIdx = integrateTaskState(si, bestA, fs[neighbours[fIdx, :], :, :], 1.0, neighbours[fIdx, :], labels)\n",
      "#             v[fIdx, t] = reward(newTaskState, possibleTasksToPerform[t, :]) + v[newIdx, t]\n",
      "#             vTmp[fIdx, t] = reward(newTaskState, possibleTasksToPerform[t, :], neighsProbs[np.where(neighbours[fIdx, :] == newIdx)]) + v[newIdx, t]\n",
      "            vTmp[fIdx, t] = reward(si, labels[neighbours[fIdx, :], :], bestA, possibleTasksToPerform[t, :], w[fIdx, bestIdx]) + v[newIdx, t]\n",
      "            if fIdx == trackingState :\n",
      "                print bestIdx, \"(\", newIdx, \"),\",\n",
      "    additionalReward = np.linalg.norm(vTmp-v)\n",
      "    print\n",
      "    print i, np.sum(np.linalg.norm(vTmp-v, axis=-1)), np.sum(np.abs(vTmp-v)), additionalReward, additionalReward-prevAdditionalReward, np.min(vTmp), np.max(vTmp), np.sum(vTmp)\n",
      "    print vTmp[trackingState, :]\n",
      "    sys.stdout.flush()\n",
      "    v = np.copy(vTmp)\n",
      "    if additionalReward-prevAdditionalReward == 0.0 :\n",
      "        break\n",
      "    prevAdditionalReward = additionalReward\n"
     ],
     "language": "python",
     "metadata": {},
     "outputs": [
      {
       "output_type": "stream",
       "stream": "stdout",
       "text": [
        "tracking progression of state 300\n",
        "neighbours [301 302 328 327  58 299 528  59  23 576 326 373 348 364 611]\n",
        "best actions "
       ]
      },
      {
       "output_type": "stream",
       "stream": "stdout",
       "text": [
        "8 ( 23 ), "
       ]
      },
      {
       "output_type": "stream",
       "stream": "stdout",
       "text": [
        "0 ( 301 ), "
       ]
      },
      {
       "output_type": "stream",
       "stream": "stdout",
       "text": [
        "0 ( 301 ), "
       ]
      },
      {
       "output_type": "stream",
       "stream": "stdout",
       "text": [
        "0 ( 301 ),\n"
       ]
      },
      {
       "output_type": "stream",
       "stream": "stdout",
       "text": [
        "0 1153.37770891 1591.28764158 32.6098771248 32.6098771248 0.0181676464576 0.934436659893 1591.28764158\n",
        "[ 0.18225043  0.87727936  0.09459661  0.09227779]\n"
       ]
      },
      {
       "output_type": "stream",
       "stream": "stdout",
       "text": [
        "best actions "
       ]
      },
      {
       "output_type": "stream",
       "stream": "stdout",
       "text": [
        "8 ( 23 ), "
       ]
      },
      {
       "output_type": "stream",
       "stream": "stdout",
       "text": [
        "0 ( 301 ), "
       ]
      },
      {
       "output_type": "stream",
       "stream": "stdout",
       "text": [
        "7 ( 59 ), "
       ]
      },
      {
       "output_type": "stream",
       "stream": "stdout",
       "text": [
        "0 ( 301 ),\n"
       ]
      },
      {
       "output_type": "stream",
       "stream": "stdout",
       "text": [
        "1 1279.87344276 1922.37237858 36.7732331788 4.163356054 0.04773898098 1.8491361686 3513.66002016\n",
        "[ 0.48119031  1.75131896  0.59441552  0.18897719]\n"
       ]
      },
      {
       "output_type": "stream",
       "stream": "stdout",
       "text": [
        "best actions "
       ]
      },
      {
       "output_type": "stream",
       "stream": "stdout",
       "text": [
        "7 ( 59 ), "
       ]
      },
      {
       "output_type": "stream",
       "stream": "stdout",
       "text": [
        "0 ( 301 ), "
       ]
      },
      {
       "output_type": "stream",
       "stream": "stdout",
       "text": [
        "7 ( 59 ), "
       ]
      },
      {
       "output_type": "stream",
       "stream": "stdout",
       "text": [
        "0 ( 301 ),\n"
       ]
      },
      {
       "output_type": "stream",
       "stream": "stdout",
       "text": [
        "2 1422.26676276 2322.20057124 41.2379759205 4.46474274174 0.0765490910036 2.74419663258 5835.8605914\n",
        "[ 0.95761397  2.60601003  1.40006157  0.29046866]\n"
       ]
      },
      {
       "output_type": "stream",
       "stream": "stdout",
       "text": [
        "best actions "
       ]
      },
      {
       "output_type": "stream",
       "stream": "stdout",
       "text": [
        "7 ( 59 ), "
       ]
      },
      {
       "output_type": "stream",
       "stream": "stdout",
       "text": [
        "0 ( 301 ), "
       ]
      },
      {
       "output_type": "stream",
       "stream": "stdout",
       "text": [
        "7 ( 59 ), "
       ]
      },
      {
       "output_type": "stream",
       "stream": "stdout",
       "text": [
        "12 ( 348 ),\n"
       ]
      },
      {
       "output_type": "stream",
       "stream": "stdout",
       "text": [
        "3 1610.3234632 2842.85932943 46.5319730509 5.29399713035 0.110419729735 3.63850163023 8678.71992083\n",
        "[ 1.77819828  3.47210811  2.26683121  0.71835935]\n"
       ]
      },
      {
       "output_type": "stream",
       "stream": "stdout",
       "text": [
        "best actions "
       ]
      },
      {
       "output_type": "stream",
       "stream": "stdout",
       "text": [
        "7 ( 59 ), "
       ]
      },
      {
       "output_type": "stream",
       "stream": "stdout",
       "text": [
        "13 ( 364 ), "
       ]
      },
      {
       "output_type": "stream",
       "stream": "stdout",
       "text": [
        "7 ( 59 ), "
       ]
      },
      {
       "output_type": "stream",
       "stream": "stdout",
       "text": [
        "12 ( 348 ),\n"
       ]
      },
      {
       "output_type": "stream",
       "stream": "stdout",
       "text": [
        "4 1812.9637476 3389.8192312 51.8487922038 5.3168191529 0.156972143291 4.54384811517 12068.539152\n",
        "[ 2.60427417  4.35327559  3.14572527  1.48466289]\n"
       ]
      },
      {
       "output_type": "stream",
       "stream": "stdout",
       "text": [
        "best actions "
       ]
      },
      {
       "output_type": "stream",
       "stream": "stdout",
       "text": [
        "7 ( 59 ), "
       ]
      },
      {
       "output_type": "stream",
       "stream": "stdout",
       "text": [
        "0 ( 301 ), "
       ]
      },
      {
       "output_type": "stream",
       "stream": "stdout",
       "text": [
        "7 ( 59 ), "
       ]
      },
      {
       "output_type": "stream",
       "stream": "stdout",
       "text": [
        "12 ( 348 ),\n"
       ]
      },
      {
       "output_type": "stream",
       "stream": "stdout",
       "text": [
        "5 2002.26341302 3900.74428237 56.6169570855 4.76816488176 0.213054446734 5.44791869424 15969.2834344\n",
        "[ 3.42951873  5.22496482  4.04244996  2.30337873]\n"
       ]
      },
      {
       "output_type": "stream",
       "stream": "stdout",
       "text": [
        "best actions "
       ]
      },
      {
       "output_type": "stream",
       "stream": "stdout",
       "text": [
        "7 ( 59 ), "
       ]
      },
      {
       "output_type": "stream",
       "stream": "stdout",
       "text": [
        "0 ( 301 ), "
       ]
      },
      {
       "output_type": "stream",
       "stream": "stdout",
       "text": [
        "7 ( 59 ), "
       ]
      },
      {
       "output_type": "stream",
       "stream": "stdout",
       "text": [
        "12 ( 348 ),\n"
       ]
      },
      {
       "output_type": "stream",
       "stream": "stdout",
       "text": [
        "6 2140.75390603 4257.82021136 60.1427457571 3.52578867158 0.278067648105 6.34390238577 20227.1036458\n",
        "[ 4.24555257  6.12238945  4.94428247  3.14650859]\n"
       ]
      },
      {
       "output_type": "stream",
       "stream": "stdout",
       "text": [
        "best actions "
       ]
      },
      {
       "output_type": "stream",
       "stream": "stdout",
       "text": [
        "7 ( 59 ), "
       ]
      },
      {
       "output_type": "stream",
       "stream": "stdout",
       "text": [
        "0 ( 301 ), "
       ]
      },
      {
       "output_type": "stream",
       "stream": "stdout",
       "text": [
        "7 ( 59 ), "
       ]
      },
      {
       "output_type": "stream",
       "stream": "stdout",
       "text": [
        "12 ( 348 ),\n"
       ]
      },
      {
       "output_type": "stream",
       "stream": "stdout",
       "text": [
        "7 2196.73026629 4390.72077471 61.6257083107 1.48296255359 0.774409551673 7.23710818905 24617.8244205\n",
        "[ 5.09973898  7.02216892  5.76520457  4.00842968]\n"
       ]
      },
      {
       "output_type": "stream",
       "stream": "stdout",
       "text": [
        "best actions "
       ]
      },
      {
       "output_type": "stream",
       "stream": "stdout",
       "text": [
        "7 ( 59 ), "
       ]
      },
      {
       "output_type": "stream",
       "stream": "stdout",
       "text": [
        "0 ( 301 ), "
       ]
      },
      {
       "output_type": "stream",
       "stream": "stdout",
       "text": [
        "7 ( 59 ), "
       ]
      },
      {
       "output_type": "stream",
       "stream": "stdout",
       "text": [
        "12 ( 348 ),\n"
       ]
      },
      {
       "output_type": "stream",
       "stream": "stdout",
       "text": [
        "8 2209.83607218 4418.20116312 61.9877362838 0.362027973127 1.54071308882 8.11613177053 29036.0255836\n",
        "[ 5.98385714  7.91745715  6.64785752  4.87770941]\n"
       ]
      },
      {
       "output_type": "stream",
       "stream": "stdout",
       "text": [
        "best actions "
       ]
      },
      {
       "output_type": "stream",
       "stream": "stdout",
       "text": [
        "7 ( 59 ), "
       ]
      },
      {
       "output_type": "stream",
       "stream": "stdout",
       "text": [
        "0 ( 301 ), "
       ]
      },
      {
       "output_type": "stream",
       "stream": "stdout",
       "text": [
        "7 ( 59 ), "
       ]
      },
      {
       "output_type": "stream",
       "stream": "stdout",
       "text": [
        "12 ( 348 ),\n"
       ]
      },
      {
       "output_type": "stream",
       "stream": "stdout",
       "text": [
        "9 2215.51791477 4429.95286075 62.146799243 0.159062959181 2.3594289307 8.98972592176 33465.9784443\n",
        "[ 6.84774042  8.80101757  7.49672026  5.75608956]\n"
       ]
      },
      {
       "output_type": "stream",
       "stream": "stdout",
       "text": [
        "best actions "
       ]
      },
      {
       "output_type": "stream",
       "stream": "stdout",
       "text": [
        "7 ( 59 ), "
       ]
      },
      {
       "output_type": "stream",
       "stream": "stdout",
       "text": [
        "0 ( 301 ), "
       ]
      },
      {
       "output_type": "stream",
       "stream": "stdout",
       "text": [
        "7 ( 59 ), "
       ]
      },
      {
       "output_type": "stream",
       "stream": "stdout",
       "text": [
        "12 ( 348 ),\n"
       ]
      },
      {
       "output_type": "stream",
       "stream": "stdout",
       "text": [
        "10 2213.62242614 4426.35796167 62.0932051123 -0.0535941307421 3.20255879504 9.87001339823 37892.336406\n",
        "[ 7.71045209  9.68540037  8.35143258  6.63861182]\n"
       ]
      },
      {
       "output_type": "stream",
       "stream": "stdout",
       "text": [
        "best actions "
       ]
      },
      {
       "output_type": "stream",
       "stream": "stdout",
       "text": [
        "7 ( 59 ), "
       ]
      },
      {
       "output_type": "stream",
       "stream": "stdout",
       "text": [
        "0 ( 301 ), "
       ]
      },
      {
       "output_type": "stream",
       "stream": "stdout",
       "text": [
        "7 ( 59 ), "
       ]
      },
      {
       "output_type": "stream",
       "stream": "stdout",
       "text": [
        "12 ( 348 ),\n"
       ]
      },
      {
       "output_type": "stream",
       "stream": "stdout",
       "text": [
        "11 2212.52381155 4424.34989238 62.0617030093 -0.0315021029643 4.06447987987 10.7532458225 42316.6862984\n",
        "[  8.5790431   10.57048119   9.20029531   7.51565766]\n"
       ]
      },
      {
       "output_type": "stream",
       "stream": "stdout",
       "text": [
        "best actions "
       ]
      },
      {
       "output_type": "stream",
       "stream": "stdout",
       "text": [
        "7 ( 59 ), "
       ]
      },
      {
       "output_type": "stream",
       "stream": "stdout",
       "text": [
        "11 ( 373 ), "
       ]
      },
      {
       "output_type": "stream",
       "stream": "stdout",
       "text": [
        "7 ( 59 ), "
       ]
      },
      {
       "output_type": "stream",
       "stream": "stdout",
       "text": [
        "12 ( 348 ),\n"
       ]
      },
      {
       "output_type": "stream",
       "stream": "stdout",
       "text": [
        "12 2212.67286311 4424.72125906 62.0654681891 0.00376517981734 4.93375961548 11.6381638188 46741.4075574\n",
        "[  9.45723487  11.46812808  10.05500763   8.37175077]\n"
       ]
      },
      {
       "output_type": "stream",
       "stream": "stdout",
       "text": [
        "best actions "
       ]
      },
      {
       "output_type": "stream",
       "stream": "stdout",
       "text": [
        "7 ( 59 ), "
       ]
      },
      {
       "output_type": "stream",
       "stream": "stdout",
       "text": [
        "11 ( 373 ), "
       ]
      },
      {
       "output_type": "stream",
       "stream": "stdout",
       "text": [
        "7 ( 59 ), "
       ]
      },
      {
       "output_type": "stream",
       "stream": "stdout",
       "text": [
        "12 ( 348 ),\n"
       ]
      },
      {
       "output_type": "stream",
       "stream": "stdout",
       "text": [
        "13 2211.32463099 4422.04488973 62.0276414679 -0.0378267212595 5.81213975996 12.5247599126 51163.4524472\n",
        "[ 10.33294086  12.37114127  10.90387037   9.2325606 ]\n"
       ]
      },
      {
       "output_type": "stream",
       "stream": "stdout",
       "text": [
        "best actions "
       ]
      },
      {
       "output_type": "stream",
       "stream": "stdout",
       "text": [
        "7 ( 59 ), "
       ]
      },
      {
       "output_type": "stream",
       "stream": "stdout",
       "text": [
        "11 ( 373 ), "
       ]
      },
      {
       "output_type": "stream",
       "stream": "stdout",
       "text": [
        "7 ( 59 ), "
       ]
      },
      {
       "output_type": "stream",
       "stream": "stdout",
       "text": [
        "12 ( 348 ),\n"
       ]
      },
      {
       "output_type": "stream",
       "stream": "stdout",
       "text": [
        "14 2210.9603231 4421.28494135 62.0173718347 -0.0102696331667 6.69466202018 13.408989647 55584.7373885\n",
        "[ 11.20928036  13.27265148  11.75858269  10.09423032]\n"
       ]
      },
      {
       "output_type": "stream",
       "stream": "stdout",
       "text": [
        "best actions "
       ]
      },
      {
       "output_type": "stream",
       "stream": "stdout",
       "text": [
        "7 ( 59 ), "
       ]
      },
      {
       "output_type": "stream",
       "stream": "stdout",
       "text": [
        "11 ( 373 ), "
       ]
      },
      {
       "output_type": "stream",
       "stream": "stdout",
       "text": [
        "7 ( 59 ), "
       ]
      },
      {
       "output_type": "stream",
       "stream": "stdout",
       "text": [
        "12 ( 348 ),\n"
       ]
      },
      {
       "output_type": "stream",
       "stream": "stdout",
       "text": [
        "15 2211.55832839 4422.48769697 62.034125312 0.0167534772546 7.57170786457 14.2922220713 60007.2250855\n",
        "[ 12.09965895  14.15688121  12.60744542  10.95779189]\n"
       ]
      },
      {
       "output_type": "stream",
       "stream": "stdout",
       "text": [
        "best actions "
       ]
      },
      {
       "output_type": "stream",
       "stream": "stdout",
       "text": [
        "7 ( 59 ), "
       ]
      },
      {
       "output_type": "stream",
       "stream": "stdout",
       "text": [
        "11 ( 373 ), "
       ]
      },
      {
       "output_type": "stream",
       "stream": "stdout",
       "text": [
        "7 ( 59 ), "
       ]
      },
      {
       "output_type": "stream",
       "stream": "stdout",
       "text": [
        "12 ( 348 ),\n"
       ]
      },
      {
       "output_type": "stream",
       "stream": "stdout",
       "text": [
        "16 2211.05332422 4421.49817081 62.0199089826 -0.0142163293123 8.42780097804 15.1774090005 64428.7232563\n",
        "[ 12.98070947  15.04011364  13.46215774  11.8226141 ]\n"
       ]
      },
      {
       "output_type": "stream",
       "stream": "stdout",
       "text": [
        "best actions "
       ]
      },
      {
       "output_type": "stream",
       "stream": "stdout",
       "text": [
        "7 ( 59 ), "
       ]
      },
      {
       "output_type": "stream",
       "stream": "stdout",
       "text": [
        "11 ( 373 ), "
       ]
      },
      {
       "output_type": "stream",
       "stream": "stdout",
       "text": [
        "7 ( 59 ), "
       ]
      },
      {
       "output_type": "stream",
       "stream": "stdout",
       "text": [
        "12 ( 348 ),\n"
       ]
      },
      {
       "output_type": "stream",
       "stream": "stdout",
       "text": [
        "17 2209.91338071 4419.22097747 61.9879855126 -0.0319234700825 9.28861080232 16.056432582 68847.9442338\n",
        "[ 13.85916405  15.91229919  14.31102048  12.6881474 ]\n"
       ]
      },
      {
       "output_type": "stream",
       "stream": "stdout",
       "text": [
        "best actions "
       ]
      },
      {
       "output_type": "stream",
       "stream": "stdout",
       "text": [
        "7 ( 59 ), "
       ]
      },
      {
       "output_type": "stream",
       "stream": "stdout",
       "text": [
        "11 ( 373 ), "
       ]
      },
      {
       "output_type": "stream",
       "stream": "stdout",
       "text": [
        "7 ( 59 ), "
       ]
      },
      {
       "output_type": "stream",
       "stream": "stdout",
       "text": [
        "12 ( 348 ),\n"
       ]
      },
      {
       "output_type": "stream",
       "stream": "stdout",
       "text": [
        "18 2209.8242451 4419.02036007 61.9855491779 -0.00243633466713 10.1502805276 16.9384886106 73266.9645938\n",
        "[ 14.73471674  16.77596789  15.1657328   13.55888352]\n"
       ]
      },
      {
       "output_type": "stream",
       "stream": "stdout",
       "text": [
        "best actions "
       ]
      },
      {
       "output_type": "stream",
       "stream": "stdout",
       "text": [
        "7 ( 59 ), "
       ]
      },
      {
       "output_type": "stream",
       "stream": "stdout",
       "text": [
        "11 ( 373 ), "
       ]
      },
      {
       "output_type": "stream",
       "stream": "stdout",
       "text": [
        "7 ( 59 ), "
       ]
      },
      {
       "output_type": "stream",
       "stream": "stdout",
       "text": [
        "12 ( 348 ),\n"
       ]
      },
      {
       "output_type": "stream",
       "stream": "stdout",
       "text": [
        "19 2210.43369692 4420.23382559 62.002609804 0.0170606260735 11.0138420955 17.822718345 77687.1984194\n",
        "[ 15.60867236  17.6774781   16.01459554  14.40115534]\n"
       ]
      }
     ],
     "prompt_number": 85
    },
    {
     "cell_type": "code",
     "collapsed": false,
     "input": [
      "print labels[300, :]\n",
      "print v[neighbours[300, :], :]\n",
      "print labels[326, :]\n",
      "print labels[575, :]\n",
      "print labels[327, :]\n",
      "print labels[58, :]\n",
      "print v[575, :]\n",
      "print neighbours[58, :]\n",
      "print v[neighbours[58, :], :]\n",
      "print neighbours[228, :]\n",
      "print v[neighbours[228, :], :]\n",
      "print neighbours[111, :]\n",
      "print v[neighbours[111, :], :]\n",
      "print neighbours[501, :]\n",
      "print v[neighbours[501, :], :]\n",
      "print neighbours[502, :]\n",
      "print v[neighbours[502, :], :]\n",
      "print neighbours[503, :]\n",
      "print v[neighbours[503, :], :]"
     ],
     "language": "python",
     "metadata": {},
     "outputs": [
      {
       "output_type": "stream",
       "stream": "stdout",
       "text": [
        "[  1.17776805e-02   9.85844890e-01   2.17874471e-03   1.98684695e-04]\n",
        "[[ 19.71484988  31.35912397  21.15275583  19.46139829]\n",
        " [ 25.4681684   31.42434654  28.8024927   26.09223607]\n",
        " [ 25.27738111  31.98237927  23.36375643  21.32274053]\n",
        " [ 20.92793535  31.99028994  23.36375643  21.32289851]\n",
        " [ 25.27738111  31.99028994  25.21734576  21.7346335 ]\n",
        " [ 19.58766198  31.97442704  23.36300424  21.73456366]\n",
        " [ 25.40283573  30.83572473  29.08969732  26.09223607]\n",
        " [ 20.34128394  31.84300589  20.8314705   21.32269431]\n",
        " [ 20.45609738  31.99028994  23.36375643  21.73456366]\n",
        " [ 19.58225777  31.97471918  22.97090616  19.95763027]\n",
        " [ 25.50045929  29.43001186  29.74296653  26.35074874]\n",
        " [ 19.20969236  30.88812164  20.86289163  16.2344167 ]\n",
        " [ 21.66469166  31.85024844  23.36296736  19.46466886]\n",
        " [ 25.50045929  31.00185535  27.85081608  26.09223607]\n",
        " [ 19.08781361  31.0994431   20.86247499  16.23439504]]\n",
        "[ 0.0780682   0.90629589  0.01421407  0.00142184]\n",
        "[  1.10207706e-03   9.98837485e-01   5.60356369e-05   4.40256947e-06]\n",
        "[ 0.06691058  0.91536455  0.01611969  0.00160518]\n",
        "[ 0.0679896   0.9142582   0.01602579  0.00172641]\n",
        "[ 20.34128394  31.84300589  20.8314705   21.32269431]\n",
        "[327  57 328 326  59 301 300 325 228 348 679 528 770 678 302]\n",
        "[[ 25.50045929  31.00185535  27.85081608  26.09223607]\n",
        " [ 25.4681684   29.26166856  28.8024927   26.09223607]\n",
        " [ 25.4681684   31.15744962  29.74296653  26.09223607]\n",
        " [ 25.40283573  30.83572473  29.08969732  26.09223607]\n",
        " [ 22.71550325  29.5659946   27.14094647  26.09223607]\n",
        " [ 25.4681684   31.42434654  28.8024927   26.09223607]\n",
        " [ 25.4681684   31.38743419  28.8024927   26.09223607]\n",
        " [ 25.42515097  30.64831651  29.08969732  23.87800898]\n",
        " [ 25.66678604  27.83579041  29.8938287   26.36544618]\n",
        " [ 25.68787806  30.9770377   29.26370826  25.25411292]\n",
        " [ 25.4681684   31.87292552  29.26370826  26.09223607]\n",
        " [ 25.27738111  31.99028994  25.21734576  21.7346335 ]\n",
        " [ 25.68787806  31.34955955  29.32452064  25.25908529]\n",
        " [ 25.50045929  31.86143869  29.08969732  21.7346335 ]\n",
        " [ 22.70656522  31.479987    29.26370826  25.25411292]]\n",
        "[229 227 866  58 801 867 327 230 182 802 183 865  57 242 241]\n",
        "[[ 27.43046437  29.59601592  29.87528749  29.30734251]\n",
        " [ 28.70950314  30.64831651  28.92629781  26.35074874]\n",
        " [ 29.20835295  29.59601592  29.5158412   28.18080098]\n",
        " [ 25.50045929  29.43001186  29.74296653  26.35074874]\n",
        " [ 24.96902695  30.38894765  31.0738733   29.81618858]\n",
        " [ 27.43046437  29.59601592  30.06304481  31.27432309]\n",
        " [ 25.50045929  31.00185535  27.85081608  26.09223607]\n",
        " [ 23.28948162  31.34955955  29.26751889  27.97927544]\n",
        " [ 27.47085327  30.83572473  31.61429788  24.86222853]\n",
        " [ 26.92124348  31.15544951  29.27202614  28.18080098]\n",
        " [ 27.99992477  26.91225708  29.90446393  24.86251091]\n",
        " [ 30.7051389   29.26166856  29.59440027  29.30734251]\n",
        " [ 25.4681684   29.26166856  28.8024927   26.09223607]\n",
        " [ 25.54970587  27.84853578  29.33291125  28.47666226]\n",
        " [ 25.6841853   30.38894765  31.0738733   28.40876527]]\n",
        "[112 114 110 115 113 108 168 109 169 165 167 164 166 107 116]\n",
        "[[ 31.97075766  21.18931811  25.07891405  20.20019862]\n",
        " [ 31.93603058  21.21034919  25.07891405  20.20019862]\n",
        " [ 32.          21.21049297  25.05213633  20.20004706]\n",
        " [ 31.91796138  21.21034919  20.54179349  20.14127866]\n",
        " [ 31.95383572  21.20987498  25.07891405  19.00465081]\n",
        " [ 31.9989547   21.18931811  24.3912341   20.14127218]\n",
        " [ 31.0157419   21.20987498  22.81878962  19.00455925]\n",
        " [ 32.          21.21049297  24.3912341   20.14127218]\n",
        " [ 31.01139225  21.20987498  25.05124349  20.20004226]\n",
        " [ 29.32040366  21.61731703  25.05124349  20.20004226]\n",
        " [ 29.32344446  17.17155269  25.07891405  20.20019862]\n",
        " [ 29.315983    21.61731703  27.03089802  19.00458928]\n",
        " [ 31.01666202  21.61731703  27.03089802  21.39832294]\n",
        " [ 31.99759662  21.18947027  23.94568103  17.01370227]\n",
        " [ 31.89980282  21.21034919  20.54179349  20.14127866]]\n",
        "[512 537 538 489 500 511 502 525 573 478 477 524 513 490 572]\n",
        "[[ 19.02245278  31.92848941  22.9725893   19.95755936]\n",
        " [ 19.01251493  31.904655    21.11158897  15.45880743]\n",
        " [ 19.01346634  31.90060478  21.11187941  15.45938993]\n",
        " [ 19.97888384  31.99157803  21.11188081  15.45940033]\n",
        " [ 19.01156105  31.95808467  21.11158897  15.45880474]\n",
        " [ 19.01837403  31.9352964   21.11158897  15.45881742]\n",
        " [ 20.8619299   31.94551875  22.97229397  15.45878297]\n",
        " [ 19.35501705  31.97216129  21.11248907  19.95755936]\n",
        " [ 19.65445626  31.83926061  21.11188081  19.95755936]\n",
        " [ 19.03119489  31.95119931  22.97229397  19.95755936]\n",
        " [ 19.02744797  31.94426269  23.45368996  15.45940033]\n",
        " [ 19.34873844  31.96967522  21.11157281  15.45888747]\n",
        " [ 19.02121769  31.93160586  20.86190253  15.45879504]\n",
        " [ 19.65868678  31.99157803  22.97224556  19.95759341]\n",
        " [ 19.3473591   31.83817996  21.11154805  15.45878775]]\n",
        "[538 513 539 501 512 479 561 503 490 478 547 448 574 491 514]\n",
        "[[ 19.01346634  31.90060478  21.11187941  15.45938993]\n",
        " [ 19.02121769  31.93160586  20.86190253  15.45879504]\n",
        " [ 24.3057167   31.89891901  22.97229397  15.45881823]\n",
        " [ 19.00905125  31.95056147  21.11187941  15.45880474]\n",
        " [ 19.02245278  31.92848941  22.9725893   19.95755936]\n",
        " [ 19.02705448  31.96197286  20.86197694  21.32289851]\n",
        " [ 21.55738421  31.98645648  22.97229397  19.95756143]\n",
        " [ 19.01529377  31.94327509  22.97229397  16.23442292]\n",
        " [ 19.65868678  31.99157803  22.97224556  19.95759341]\n",
        " [ 19.03119489  31.95119931  22.97229397  19.95755936]\n",
        " [ 24.3057167   31.89295326  21.1371807   15.45880971]\n",
        " [ 19.05629121  31.65508434  22.96982589  19.95760622]\n",
        " [ 21.55738421  31.84068086  22.96993223  19.95758877]\n",
        " [ 20.8619299   31.98571632  23.36272827  21.32268944]\n",
        " [ 19.02215036  31.9374766   22.97229397  19.46746247]]\n",
        "[539 514 562 480 540 502 513 504 449 479 548 491 621 492 515]\n",
        "[[ 24.3057167   31.89891901  22.97229397  15.45881823]\n",
        " [ 19.02215036  31.9374766   22.97229397  19.46746247]\n",
        " [ 20.87177752  31.98040739  22.97229397  19.46746247]\n",
        " [ 19.0248952   31.97042261  20.86189263  19.46746247]\n",
        " [ 24.3057167   31.89675542  21.1371807   15.45878928]\n",
        " [ 20.8619299   31.94551875  22.97229397  15.45878297]\n",
        " [ 19.02121769  31.93160586  20.86190253  15.45879504]\n",
        " [ 24.3057167   31.9416299   22.96982016  15.45878735]\n",
        " [ 19.02168581  31.65838225  21.13743932  21.32268524]\n",
        " [ 19.02705448  31.96197286  20.86197694  21.32289851]\n",
        " [ 24.3057167   31.89422297  21.1371807   15.10680735]\n",
        " [ 20.8619299   31.98571632  23.36272827  21.32268944]\n",
        " [ 19.02109383  31.96785866  23.3632532   19.46752157]\n",
        " [ 20.87375822  31.97642954  23.36303711  21.32269431]\n",
        " [ 19.02560288  31.94147576  22.96982016  15.4587905 ]]\n"
       ]
      }
     ],
     "prompt_number": 72
    },
    {
     "cell_type": "code",
     "collapsed": false,
     "input": [
      "print fIdx, newIdx\n",
      "print neighsProbs\n",
      "print neighbours[fIdx, :]\n",
      "print np.where(neighbours[fIdx, :] == newIdx)\n",
      "print (1.0/(np.abs(neighbours[fIdx, :]-fIdx-1.0)+1.0))/np.sum(1.0/(np.abs(neighbours[fIdx, :]-fIdx-1.0)+1.0))\n",
      "print probs[fIdx, neighbours[fIdx, :]]/np.sum(probs[fIdx, neighbours[fIdx, :]])"
     ],
     "language": "python",
     "metadata": {},
     "outputs": [
      {
       "output_type": "stream",
       "stream": "stdout",
       "text": [
        "826 843\n",
        "[  2.34837947e-05   9.98810823e-01   4.41020774e-04   9.72460197e-06\n",
        "   6.79081866e-04   3.81871374e-09   5.97391782e-08   2.79431362e-08\n",
        "   2.64516724e-07   2.39568827e-07   5.14322612e-06   6.02598069e-08\n",
        "   3.00164198e-05   4.28958829e-08   7.17861588e-09]\n",
        "[907 827 825 792 908 906 793 791 828 762 883 882 905 909 790]\n",
        "(array([], dtype=int64),)\n",
        "[ 0.00600668  0.48654104  0.16218035  0.01351503  0.00593343  0.00608176\n",
        "  0.01390117  0.01314976  0.24327052  0.00737183  0.00853581  0.00868823\n",
        "  0.00615875  0.00586194  0.01280371]\n",
        "[  9.44809209e-07   9.97371260e-01   1.21685058e-10   5.71486957e-06\n",
        "   1.38214039e-03   2.09696792e-11   5.70543359e-04   3.98261498e-09\n",
        "   6.66875454e-04   1.28543921e-16   4.87540637e-08   1.04448396e-17\n",
        "   6.54373599e-22   2.46791308e-06   9.40929579e-20]\n"
       ]
      }
     ],
     "prompt_number": 97
    },
    {
     "cell_type": "code",
     "collapsed": false,
     "input": [
      "## plot v\n",
      "paperV = False\n",
      "fullV = True\n",
      "# if paperV :\n",
      "#     v = np.load(\"valuefunction_paper.npy\")\n",
      "# else :\n",
      "#     if fullV :\n",
      "#         v = np.load(\"valuefunction_mine_full.npy\")\n",
      "#     else :\n",
      "#         v = np.load(\"valuefunction_mine.npy\")\n",
      "    \n",
      "figure(); plot(range(numStates), v[:, 0], 'r', range(numStates), v[:, 1], 'g', range(numStates), v[:, 2], 'b', range(numStates), v[:, 3], 'm')\n",
      "\n",
      "# if paperV :\n",
      "#     np.save(\"valuefunction_paper.npy\", v)\n",
      "# else :\n",
      "#     if fullV :\n",
      "#         np.save(\"valuefunction_mine_full.npy\", v)\n",
      "# #         np.save(\"valuefunction_mine_extra.npy\", v)\n",
      "#     else :\n",
      "#         np.save(\"valuefunction_mine.npy\", v)"
     ],
     "language": "python",
     "metadata": {},
     "outputs": [
      {
       "metadata": {},
       "output_type": "pyout",
       "prompt_number": 32,
       "text": [
        "[<matplotlib.lines.Line2D at 0x7f0df8536190>,\n",
        " <matplotlib.lines.Line2D at 0x7f0df8536410>,\n",
        " <matplotlib.lines.Line2D at 0x7f0df8536ad0>,\n",
        " <matplotlib.lines.Line2D at 0x7f0df8543150>]"
       ]
      }
     ],
     "prompt_number": 32
    },
    {
     "cell_type": "code",
     "collapsed": false,
     "input": [
      " ## try and sample, see what happens....\n",
      "\n",
      "taskIdx = 2\n",
      "taskToPerform = possibleTasksToPerform[taskIdx, :]\n",
      "# taskToPerform = np.array([1, 0, 0, 0])\n",
      "print \"task to perform:\", taskToPerform\n",
      "startIdx = 234\n",
      "print \"starting from\", startIdx, \"with task params\", labels[startIdx, :]\n",
      "# extraRewards = np.zeros((numStates, numStates))\n",
      "\n",
      "totalFrames = 100\n",
      "currentIdx = startIdx\n",
      "for i in range(totalFrames) :\n",
      "    s = {'frameState': fs[currentIdx, :, :], 'taskParams': labels[currentIdx, :]}\n",
      "    neighsProbs = (1.0/(np.abs(neighbours[fIdx, :]-fIdx-1.0)+1.0))/np.sum(1.0/(np.abs(neighbours[fIdx, :]-fIdx-1.0)+1.0))#probs[currentIdx, neighbours[currentIdx, :]]/np.sum(probs[currentIdx, neighbours[currentIdx, :]])\n",
      "    bestA, bestAIdx = pi_l(s, A[currentIdx, :, :], np.sum(np.repeat(taskToPerform.reshape((1, len(taskToPerform))), numStates, axis=0)*v, axis=-1), currentIdx, fs, neighbours, labels, taskToPerform, neighsProbs, w[currentIdx, :])\n",
      "#     print bestA\n",
      "#     print neighbours[currentIdx, :], neighbours[currentIdx, np.argmax(probs[currentIdx, neighbours[currentIdx, :]])]\n",
      "#     print probs[currentIdx, neighbours[currentIdx, :]]\n",
      "#     print probs[currentIdx, neighbours[currentIdx, :]]*bestA, np.argmax(probs[currentIdx, neighbours[currentIdx, :]]*bestA), neighbours[currentIdx, np.argmax(probs[currentIdx, neighbours[currentIdx, :]]*bestA)]\n",
      "#     tmp = probs[currentIdx, neighbours[currentIdx, :]]\n",
      "#     tmp /= np.sum(tmp)\n",
      "#     bob = 0.8\n",
      "#     newAction = ((1.0-bob)*tmp) * (bob*bestA)\n",
      "#     newAction /= np.sum(newAction)\n",
      "    newTaskState, newIdx = integrateTaskState(s, bestA, fs[neighbours[currentIdx, :], :, :], 1.0, neighbours[currentIdx, :], labels)\n",
      "#     newTaskState, newIdx = integrateTaskState(s, newAction, fs[neighbours[currentIdx, :], :, :], 1.0, neighbours[currentIdx, :], labels)\n",
      "    print newIdx, newTaskState['taskParams']\n",
      "    currentIdx = np.copy(newIdx)\n",
      "#     print newTaskState"
     ],
     "language": "python",
     "metadata": {},
     "outputs": [
      {
       "output_type": "stream",
       "stream": "stdout",
       "text": [
        "task to perform: [ 0.  0.  1.  0.]\n",
        "starting from 234 with task params [ 0.16100772  0.27794343  0.42633532  0.13471353]\n",
        "794 [ 0.00152488  0.00186587  0.98873329  0.00787596]\n",
        "795 [ 0.00320689  0.00333162  0.97619987  0.01726161]\n",
        "796 [ 0.00632285  0.00334713  0.95158473  0.0387453 ]\n",
        "797 [ 0.0048241   0.00163981  0.96547137  0.02806473]\n",
        "798 [  1.12212854e-03   4.27333714e-04   9.93452830e-01   4.99770765e-03]\n",
        "845 [  2.67345796e-04   3.69668850e-04   9.99164497e-01   1.98488432e-04]\n",
        "846 [  4.56061567e-04   9.36534715e-04   9.98200534e-01   4.06870124e-04]\n",
        "847 [  5.89568104e-04   1.47343837e-03   9.97358802e-01   5.78191940e-04]\n",
        "848 [  8.53857668e-04   2.92859456e-03   9.95075237e-01   1.14231071e-03]\n",
        "847 [  5.89568104e-04   1.47343837e-03   9.97358802e-01   5.78191940e-04]\n",
        "848 [  8.53857668e-04   2.92859456e-03   9.95075237e-01   1.14231071e-03]\n",
        "847 [  5.89568104e-04   1.47343837e-03   9.97358802e-01   5.78191940e-04]\n",
        "848 [  8.53857668e-04   2.92859456e-03   9.95075237e-01   1.14231071e-03]\n",
        "847 [  5.89568104e-04   1.47343837e-03   9.97358802e-01   5.78191940e-04]\n",
        "848 [  8.53857668e-04   2.92859456e-03   9.95075237e-01   1.14231071e-03]\n",
        "847 [  5.89568104e-04   1.47343837e-03   9.97358802e-01   5.78191940e-04]\n",
        "848 [  8.53857668e-04   2.92859456e-03   9.95075237e-01   1.14231071e-03]\n",
        "847 [  5.89568104e-04   1.47343837e-03   9.97358802e-01   5.78191940e-04]\n",
        "848 [  8.53857668e-04   2.92859456e-03   9.95075237e-01   1.14231071e-03]\n",
        "847 [  5.89568104e-04   1.47343837e-03   9.97358802e-01   5.78191940e-04]\n",
        "848 [  8.53857668e-04   2.92859456e-03   9.95075237e-01   1.14231071e-03]\n",
        "847 [  5.89568104e-04   1.47343837e-03   9.97358802e-01   5.78191940e-04]\n",
        "848 [  8.53857668e-04   2.92859456e-03   9.95075237e-01   1.14231071e-03]\n",
        "847 [  5.89568104e-04   1.47343837e-03   9.97358802e-01   5.78191940e-04]\n",
        "848 [  8.53857668e-04   2.92859456e-03   9.95075237e-01   1.14231071e-03]\n",
        "847 [  5.89568104e-04   1.47343837e-03   9.97358802e-01   5.78191940e-04]\n",
        "848 [  8.53857668e-04   2.92859456e-03   9.95075237e-01   1.14231071e-03]\n",
        "847"
       ]
      },
      {
       "output_type": "stream",
       "stream": "stdout",
       "text": [
        " [  5.89568104e-04   1.47343837e-03   9.97358802e-01   5.78191940e-04]\n",
        "848 [  8.53857668e-04   2.92859456e-03   9.95075237e-01   1.14231071e-03]\n",
        "847 [  5.89568104e-04   1.47343837e-03   9.97358802e-01   5.78191940e-04]\n",
        "848 [  8.53857668e-04   2.92859456e-03   9.95075237e-01   1.14231071e-03]\n",
        "847 [  5.89568104e-04   1.47343837e-03   9.97358802e-01   5.78191940e-04]\n",
        "848 [  8.53857668e-04   2.92859456e-03   9.95075237e-01   1.14231071e-03]\n",
        "847 [  5.89568104e-04   1.47343837e-03   9.97358802e-01   5.78191940e-04]\n",
        "848 [  8.53857668e-04   2.92859456e-03   9.95075237e-01   1.14231071e-03]\n",
        "847 [  5.89568104e-04   1.47343837e-03   9.97358802e-01   5.78191940e-04]\n",
        "848 [  8.53857668e-04   2.92859456e-03   9.95075237e-01   1.14231071e-03]\n",
        "847 [  5.89568104e-04   1.47343837e-03   9.97358802e-01   5.78191940e-04]\n",
        "848 [  8.53857668e-04   2.92859456e-03   9.95075237e-01   1.14231071e-03]\n",
        "847 [  5.89568104e-04   1.47343837e-03   9.97358802e-01   5.78191940e-04]\n",
        "848 [  8.53857668e-04   2.92859456e-03   9.95075237e-01   1.14231071e-03]\n",
        "847 [  5.89568104e-04   1.47343837e-03   9.97358802e-01   5.78191940e-04]\n",
        "848 [  8.53857668e-04   2.92859456e-03   9.95075237e-01   1.14231071e-03]\n",
        "847 [  5.89568104e-04   1.47343837e-03   9.97358802e-01   5.78191940e-04]\n",
        "848 [  8.53857668e-04   2.92859456e-03   9.95075237e-01   1.14231071e-03]\n",
        "847 [  5.89568104e-04   1.47343837e-03   9.97358802e-01   5.78191940e-04]\n",
        "848 [  8.53857668e-04   2.92859456e-03   9.95075237e-01   1.14231071e-03]\n",
        "847 [  5.89568104e-04   1.47343837e-03   9.97358802e-01   5.78191940e-04]\n",
        "848 [  8.53857668e-04   2.92859456e-03   9.95075237e-01   1.14231071e-03]\n",
        "847 [  5.89568104e-04   1.47343837e-03   9.97358802e-01   5.78191940e-04]\n",
        "848 [  8.53857668e-04   2.92859456e-03   9.95075237e-01   1.14231071e-03]\n",
        "847"
       ]
      },
      {
       "output_type": "stream",
       "stream": "stdout",
       "text": [
        " [  5.89568104e-04   1.47343837e-03   9.97358802e-01   5.78191940e-04]\n",
        "848 [  8.53857668e-04   2.92859456e-03   9.95075237e-01   1.14231071e-03]\n",
        "847 [  5.89568104e-04   1.47343837e-03   9.97358802e-01   5.78191940e-04]\n",
        "848 [  8.53857668e-04   2.92859456e-03   9.95075237e-01   1.14231071e-03]\n",
        "847 [  5.89568104e-04   1.47343837e-03   9.97358802e-01   5.78191940e-04]\n",
        "848 [  8.53857668e-04   2.92859456e-03   9.95075237e-01   1.14231071e-03]\n",
        "847 [  5.89568104e-04   1.47343837e-03   9.97358802e-01   5.78191940e-04]\n",
        "848 [  8.53857668e-04   2.92859456e-03   9.95075237e-01   1.14231071e-03]\n",
        "847 [  5.89568104e-04   1.47343837e-03   9.97358802e-01   5.78191940e-04]\n",
        "848 [  8.53857668e-04   2.92859456e-03   9.95075237e-01   1.14231071e-03]\n",
        "847 [  5.89568104e-04   1.47343837e-03   9.97358802e-01   5.78191940e-04]\n",
        "848 [  8.53857668e-04   2.92859456e-03   9.95075237e-01   1.14231071e-03]\n",
        "847 [  5.89568104e-04   1.47343837e-03   9.97358802e-01   5.78191940e-04]\n",
        "848 [  8.53857668e-04   2.92859456e-03   9.95075237e-01   1.14231071e-03]\n",
        "847 [  5.89568104e-04   1.47343837e-03   9.97358802e-01   5.78191940e-04]\n",
        "848 [  8.53857668e-04   2.92859456e-03   9.95075237e-01   1.14231071e-03]\n",
        "847 [  5.89568104e-04   1.47343837e-03   9.97358802e-01   5.78191940e-04]\n",
        "848 [  8.53857668e-04   2.92859456e-03   9.95075237e-01   1.14231071e-03]\n",
        "847 [  5.89568104e-04   1.47343837e-03   9.97358802e-01   5.78191940e-04]\n",
        "848 [  8.53857668e-04   2.92859456e-03   9.95075237e-01   1.14231071e-03]\n",
        "847 [  5.89568104e-04   1.47343837e-03   9.97358802e-01   5.78191940e-04]\n",
        "848 [  8.53857668e-04   2.92859456e-03   9.95075237e-01   1.14231071e-03]\n",
        "847 [  5.89568104e-04   1.47343837e-03   9.97358802e-01   5.78191940e-04]\n",
        "848 [  8.53857668e-04   2.92859456e-03   9.95075237e-01   1.14231071e-03]\n",
        "847 [  5.89568104e-04   1.47343837e-03   9.97358802e-01   5.78191940e-04]\n",
        "848 [  8.53857668e-04   2.92859456e-03   9.95075237e-01   1.14231071e-03]\n",
        "847 [  5.89568104e-04   1.47343837e-03   9.97358802e-01   5.78191940e-04]\n",
        "848 [  8.53857668e-04   2.92859456e-03   9.95075237e-01   1.14231071e-03]\n",
        "847 [  5.89568104e-04   1.47343837e-03   9.97358802e-01   5.78191940e-04]\n",
        "848 [  8.53857668e-04   2.92859456e-03   9.95075237e-01   1.14231071e-03]"
       ]
      },
      {
       "output_type": "stream",
       "stream": "stdout",
       "text": [
        "\n",
        "847 [  5.89568104e-04   1.47343837e-03   9.97358802e-01   5.78191940e-04]\n",
        "848 [  8.53857668e-04   2.92859456e-03   9.95075237e-01   1.14231071e-03]\n",
        "847 [  5.89568104e-04   1.47343837e-03   9.97358802e-01   5.78191940e-04]\n",
        "848 [  8.53857668e-04   2.92859456e-03   9.95075237e-01   1.14231071e-03]\n",
        "847 [  5.89568104e-04   1.47343837e-03   9.97358802e-01   5.78191940e-04]\n",
        "848 [  8.53857668e-04   2.92859456e-03   9.95075237e-01   1.14231071e-03]\n",
        "847 [  5.89568104e-04   1.47343837e-03   9.97358802e-01   5.78191940e-04]\n",
        "848 [  8.53857668e-04   2.92859456e-03   9.95075237e-01   1.14231071e-03]\n",
        "847 [  5.89568104e-04   1.47343837e-03   9.97358802e-01   5.78191940e-04]\n",
        "848 [  8.53857668e-04   2.92859456e-03   9.95075237e-01   1.14231071e-03]\n",
        "847 [  5.89568104e-04   1.47343837e-03   9.97358802e-01   5.78191940e-04]\n",
        "848 [  8.53857668e-04   2.92859456e-03   9.95075237e-01   1.14231071e-03]\n",
        "847 [  5.89568104e-04   1.47343837e-03   9.97358802e-01   5.78191940e-04]\n",
        "848 [  8.53857668e-04   2.92859456e-03   9.95075237e-01   1.14231071e-03]\n",
        "847 [  5.89568104e-04   1.47343837e-03   9.97358802e-01   5.78191940e-04]\n",
        "848 [  8.53857668e-04   2.92859456e-03   9.95075237e-01   1.14231071e-03]\n",
        "847 [  5.89568104e-04   1.47343837e-03   9.97358802e-01   5.78191940e-04]\n",
        "848 [  8.53857668e-04   2.92859456e-03   9.95075237e-01   1.14231071e-03]\n",
        "847 [  5.89568104e-04   1.47343837e-03   9.97358802e-01   5.78191940e-04]\n"
       ]
      }
     ],
     "prompt_number": 87
    },
    {
     "cell_type": "code",
     "collapsed": false,
     "input": [
      "print np.argsort(v[:, 1])[-30:]"
     ],
     "language": "python",
     "metadata": {},
     "outputs": [
      {
       "output_type": "stream",
       "stream": "stdout",
       "text": [
        "[333 334  36 811  22  28  48  29  61  25  59  34  35  27  52  53  49  60\n",
        "  26  51  30  54  58  50  55  57  56  33  31  32]\n"
       ]
      }
     ],
     "prompt_number": 64
    },
    {
     "cell_type": "code",
     "collapsed": false,
     "input": [
      "idx1 = 848\n",
      "idx2 = 847\n",
      "print taskToPerform\n",
      "print\n",
      "print v[idx1, :]\n",
      "print labels[idx1, :], (2.0-np.sum(np.abs(labels[idx1, :]-taskToPerform)))/2.0\n",
      "print neighbours[idx1, :]\n",
      "print pi_l(s, A[idx1, :, :], np.sum(np.repeat(taskToPerform.reshape((1, len(taskToPerform))), numStates, axis=0)*v, axis=-1), idx1, fs, neighbours, labels, taskToPerform, neighsProbs, w[idx1, :], True)\n",
      "print\n",
      "print v[idx2, :]\n",
      "print labels[idx2, :], (2.0-np.sum(np.abs(labels[idx2, :]-taskToPerform)))/2.0\n",
      "print neighbours[idx2, :]\n",
      "print pi_l(s, A[idx2, :, :], np.sum(np.repeat(taskToPerform.reshape((1, len(taskToPerform))), numStates, axis=0)*v, axis=-1), idx2, fs, neighbours, labels, taskToPerform, neighsProbs, w[idx2, :], True)\n",
      "print\n",
      "print v[idx1+1, :]\n",
      "print labels[idx1+1, :], (2.0-np.sum(np.abs(labels[idx1+1, :]-taskToPerform)))/2.0"
     ],
     "language": "python",
     "metadata": {},
     "outputs": [
      {
       "output_type": "stream",
       "stream": "stdout",
       "text": [
        "[ 0.  0.  1.  0.]\n",
        "\n",
        "[ 15.59688292  17.26375244  17.08287075  16.27112014]\n",
        "[  8.53857668e-04   2.92859456e-03   9.95075237e-01   1.14231071e-03] 0.995075237148\n",
        "[849 850 847 803 231 787 804 788 880 230 879 786 232 878 901]\n",
        "weights [ 0.54868202  0.05450235  0.04481665  0.04211933  0.04008968  0.0371336\n",
        "  0.03058284  0.02972827  0.0265431   0.02653131  0.0255259   0.02363553\n",
        "  0.02356589  0.02344588  0.02309762]\n",
        "current amount for action in pi_l 17.7534262621 1.0 0.901832509961 16.8515937522 849\n",
        "current amount for action in pi_l 17.4073397157 1.0 0.602280636681 16.805059079 850\n",
        "current amount for action in pi_l 17.9375830665 1.0 0.806850371325 17.1307326951 847\n",
        "current amount for action in pi_l 17.179454648 1.0 0.542784376798 16.6366702712 803\n",
        "current amount for action in pi_l 17.211248642 1.0 0.406142849158 16.8051057928 231\n",
        "current amount for action in pi_l 17.4814058015 1.0 0.349191841727 17.1322139598 787\n",
        "current amount for action in pi_l 16.5979823362 1.0 0.23873071534 16.3592516209 804\n",
        "current amount for action in pi_l 17.6420654608 1.0 0.337760391748 17.3043050691 788\n",
        "current amount for action in pi_l 17.1304931723 1.0 0.275155939929 16.8553372324 880\n",
        "current amount for action in pi_l 17.4855757148 1.0 0.408953675574 17.0766220392 230\n",
        "current amount for action in pi_l 17.3109588565 1.0 0.233937336362 17.0770215202 879\n",
        "current amount for action in pi_l 17.3568327506 1.0 0.322161047329 17.0346717033 786\n",
        "current amount for action in pi_l 17.111576743 1.0 0.371760025387 16.7398167177 232\n",
        "current amount for action in pi_l 17.2737965877 1.0 0.195878343863 17.0779182438 878\n",
        "current amount for action in pi_l 17.2654715445 1.0 0.232954168739 17.0325173758 901\n",
        "(array([ 0.28062945,  0.02787583,  0.51146098,  0.02154239,  0.02050431,\n",
        "        0.01899239,  0.01564193,  0.01520485,  0.01357576,  0.01356973,\n",
        "        0.0130555 ,  0.01208865,  0.01205303,  0.01199165,  0.01181353]), 2)\n",
        "\n",
        "[ 15.70196338  17.38547397  17.1307327   16.48230163]\n",
        "[  5.89568104e-04   1.47343837e-03   9.97358802e-01   5.78191940e-04] 0.997358801617\n",
        "[848 849 802 846 803 230 231 804 845 786  29 879 900  28 787]\n",
        "weights [ 0.50332247  0.10278965  0.05353128  0.04469296  0.04333307  0.03726396\n",
        "  0.03629102  0.02743244  0.02329984  0.02320454  0.02271681  0.02144736\n",
        "  0.0204257   0.02018602  0.02006289]\n",
        "current amount for action in pi_l 17.9795954301 1.0 0.896724684326 17.0828707457 848\n",
        "current amount for action in pi_l 17.664247787 1.0 0.81265403482 16.8515937522 849\n",
        "current amount for action in pi_l 17.8392165833 1.0 0.757552392776 17.0816641905 802\n",
        "current amount for action in pi_l 17.9624134515 1.0 0.807499018931 17.1549144326 846\n",
        "current amount for action in pi_l 17.1796973955 1.0 0.543027124258 16.6366702712 803\n",
        "current amount for action in pi_l 17.4877222445 1.0 0.411100205335 17.0766220392 230\n",
        "current amount for action in pi_l 17.2104889086 1.0 0.405383115797 16.8051057928 231\n",
        "current amount for action in pi_l 16.5973522564 1.0 0.238100635465 16.3592516209 804\n",
        "current amount for action in pi_l 17.9795954301 1.0 0.803991565206 17.1756038649 845\n",
        "current amount for action in pi_l 17.3567465514 1.0 0.322074848078 17.0346717033 786\n",
        "current amount for action in pi_l 16.0166870366 1.0 0.0287947201747 15.9878923164 29\n",
        "current amount for action in pi_l 17.3101431476 1.0 0.233121627416 17.0770215202 879\n",
        "current amount for action in pi_l 17.2705954911 1.0 0.194638401101 17.07595709 900\n",
        "current amount for action in pi_l 16.3458046797 1.0 0.0277087976703 16.318095882 28\n",
        "current amount for action in pi_l 17.4779916597 1.0 0.345777699861 17.1322139598 787\n",
        "(array([ 0.6681466 ,  0.06867855,  0.03576674,  0.02986145,  0.02895284,\n",
        "        0.02489779,  0.02424772,  0.01832889,  0.01556771,  0.01550403,\n",
        "        0.01517816,  0.01432998,  0.01364736,  0.01348722,  0.01340495]), 0)\n",
        "\n",
        "[ 15.77799536  17.43512912  16.85159375  16.1187012 ]\n",
        "[ 0.00135847  0.00604323  0.99012013  0.00247817] 0.990120131378\n"
       ]
      }
     ],
     "prompt_number": 94
    },
    {
     "cell_type": "code",
     "collapsed": false,
     "input": [
      "## distance of neighbours' labels to task to perform\n",
      "print taskToPerform\n",
      "print\n",
      "print 2.0-np.sum(np.abs(labels[neighbours[106, :], :]-np.reshape(taskToPerform, (1, len(taskToPerform))).repeat(len(labels[neighbours[106, :], :]), axis=0)), axis = -1)\n",
      "print neighbours[106, :]\n",
      "print labels[neighbours[106, :], :]\n",
      "print\n",
      "print 2.0-np.sum(np.abs(labels[neighbours[122, :], :]-np.reshape(taskToPerform, (1, len(taskToPerform))).repeat(len(labels[neighbours[122, :], :]), axis=0)), axis = -1)\n",
      "print neighbours[122, :]\n",
      "print labels[neighbours[122, :], :]"
     ],
     "language": "python",
     "metadata": {},
     "outputs": [
      {
       "output_type": "stream",
       "stream": "stdout",
       "text": [
        "[1 0 0 0]\n",
        "\n",
        "[ 1.99836307  1.99864192  1.9989547   2.          1.99778744  2.\n",
        "  1.99740689  2.          2.          2.          2.          2.\n",
        "  1.99687011  2.          1.99617377]\n",
        "[107 108 109 110 105 111 104 123 124 122 114 115 103 112 102]\n",
        "[[  9.99181536e-01   3.29636630e-04   4.85663141e-04   3.16411253e-06]\n",
        " [  9.99320962e-01   2.54359309e-04   4.22010515e-04   2.66833970e-06]\n",
        " [  9.99477350e-01   1.78281247e-04   3.42270310e-04   2.09817074e-06]\n",
        " [  1.00000000e+00   0.00000000e+00   0.00000000e+00   0.00000000e+00]\n",
        " [  9.98893720e-01   4.99225671e-04   6.02995998e-04   4.05860826e-06]\n",
        " [  1.00000000e+00   0.00000000e+00   0.00000000e+00   0.00000000e+00]\n",
        " [  9.98703444e-01   6.71402924e-04   6.20876540e-04   4.27660084e-06]\n",
        " [  1.00000000e+00   0.00000000e+00   0.00000000e+00   0.00000000e+00]\n",
        " [  1.00000000e+00   0.00000000e+00   0.00000000e+00   0.00000000e+00]\n",
        " [  1.00000000e+00   0.00000000e+00   0.00000000e+00   0.00000000e+00]\n",
        " [  1.00000000e+00   0.00000000e+00   0.00000000e+00   0.00000000e+00]\n",
        " [  1.00000000e+00   0.00000000e+00   0.00000000e+00   0.00000000e+00]\n",
        " [  9.98435054e-01   9.25068771e-04   6.35276071e-04   4.60146195e-06]\n",
        " [  1.00000000e+00   0.00000000e+00   0.00000000e+00   0.00000000e+00]\n",
        " [  9.98086886e-01   1.27496225e-03   6.33183902e-04   4.96801354e-06]]\n",
        "\n",
        "[ 2.          2.          2.          2.          2.          1.99574533\n",
        "  1.99793864  1.99836307  1.986566    1.99687011  1.99778744  1.98217314\n",
        "  1.99740689  1.99864192  1.99617377]\n",
        "[123 124 125 126 121 101 106 107 127 103 105  93 104 108 102]\n",
        "[[  1.00000000e+00   0.00000000e+00   0.00000000e+00   0.00000000e+00]\n",
        " [  1.00000000e+00   0.00000000e+00   0.00000000e+00   0.00000000e+00]\n",
        " [  1.00000000e+00   0.00000000e+00   0.00000000e+00   0.00000000e+00]\n",
        " [  1.00000000e+00   0.00000000e+00   0.00000000e+00   0.00000000e+00]\n",
        " [  1.00000000e+00   0.00000000e+00   0.00000000e+00   0.00000000e+00]\n",
        " [  9.97872665e-01   1.50267460e-03   6.19629617e-04   5.03061483e-06]\n",
        " [  9.98969318e-01   4.45207193e-04   5.81557199e-04   3.91797698e-06]\n",
        " [  9.99181536e-01   3.29636630e-04   4.85663141e-04   3.16411253e-06]\n",
        " [  9.93283002e-01   6.38216203e-03   3.30966375e-04   3.86994630e-06]\n",
        " [  9.98435054e-01   9.25068771e-04   6.35276071e-04   4.60146195e-06]\n",
        " [  9.98893720e-01   4.99225671e-04   6.02995998e-04   4.05860826e-06]\n",
        " [  9.91086568e-01   5.12761524e-03   3.76646307e-03   1.93532300e-05]\n",
        " [  9.98703444e-01   6.71402924e-04   6.20876540e-04   4.27660084e-06]\n",
        " [  9.99320962e-01   2.54359309e-04   4.22010515e-04   2.66833970e-06]\n",
        " [  9.98086886e-01   1.27496225e-03   6.33183902e-04   4.96801354e-06]]\n"
       ]
      }
     ],
     "prompt_number": 60
    },
    {
     "cell_type": "code",
     "collapsed": false,
     "input": [
      "print \"neighbours\", neighbours[startIdx, :]\n",
      "print \"v values\", np.sum(np.repeat(taskToPerform.reshape((1, len(taskToPerform))), numStates, axis=0)*v, axis=-1)[neighbours[startIdx, :]]\n",
      "print \"rewards\", -np.sum(np.abs(labels[neighbours[startIdx, :]]-taskToPerform), axis=-1)\n",
      "print \"labels\", labels[neighbours[startIdx, :], 2]\n",
      "print \"extra r\", dFut[startIdx, neighbours[startIdx]], np.min(dFut), np.max(dFut)\n",
      "print \"probs\", probs[startIdx, neighbours[startIdx]]"
     ],
     "language": "python",
     "metadata": {},
     "outputs": [
      {
       "ename": "NameError",
       "evalue": "name 'probs' is not defined",
       "output_type": "pyerr",
       "traceback": [
        "\u001b[0;31m---------------------------------------------------------------------------\u001b[0m\n\u001b[0;31mNameError\u001b[0m                                 Traceback (most recent call last)",
        "\u001b[0;32m<ipython-input-45-8ba656b71482>\u001b[0m in \u001b[0;36m<module>\u001b[0;34m()\u001b[0m\n\u001b[1;32m      4\u001b[0m \u001b[0;32mprint\u001b[0m \u001b[0;34m\"labels\"\u001b[0m\u001b[0;34m,\u001b[0m \u001b[0mlabels\u001b[0m\u001b[0;34m[\u001b[0m\u001b[0mneighbours\u001b[0m\u001b[0;34m[\u001b[0m\u001b[0mstartIdx\u001b[0m\u001b[0;34m,\u001b[0m \u001b[0;34m:\u001b[0m\u001b[0;34m]\u001b[0m\u001b[0;34m,\u001b[0m \u001b[0;36m2\u001b[0m\u001b[0;34m]\u001b[0m\u001b[0;34m\u001b[0m\u001b[0m\n\u001b[1;32m      5\u001b[0m \u001b[0;32mprint\u001b[0m \u001b[0;34m\"extra r\"\u001b[0m\u001b[0;34m,\u001b[0m \u001b[0mdFut\u001b[0m\u001b[0;34m[\u001b[0m\u001b[0mstartIdx\u001b[0m\u001b[0;34m,\u001b[0m \u001b[0mneighbours\u001b[0m\u001b[0;34m[\u001b[0m\u001b[0mstartIdx\u001b[0m\u001b[0;34m]\u001b[0m\u001b[0;34m]\u001b[0m\u001b[0;34m,\u001b[0m \u001b[0mnp\u001b[0m\u001b[0;34m.\u001b[0m\u001b[0mmin\u001b[0m\u001b[0;34m(\u001b[0m\u001b[0mdFut\u001b[0m\u001b[0;34m)\u001b[0m\u001b[0;34m,\u001b[0m \u001b[0mnp\u001b[0m\u001b[0;34m.\u001b[0m\u001b[0mmax\u001b[0m\u001b[0;34m(\u001b[0m\u001b[0mdFut\u001b[0m\u001b[0;34m)\u001b[0m\u001b[0;34m\u001b[0m\u001b[0m\n\u001b[0;32m----> 6\u001b[0;31m \u001b[0;32mprint\u001b[0m \u001b[0;34m\"probs\"\u001b[0m\u001b[0;34m,\u001b[0m \u001b[0mprobs\u001b[0m\u001b[0;34m[\u001b[0m\u001b[0mstartIdx\u001b[0m\u001b[0;34m,\u001b[0m \u001b[0mneighbours\u001b[0m\u001b[0;34m[\u001b[0m\u001b[0mstartIdx\u001b[0m\u001b[0;34m]\u001b[0m\u001b[0;34m]\u001b[0m\u001b[0;34m\u001b[0m\u001b[0m\n\u001b[0m",
        "\u001b[0;31mNameError\u001b[0m: name 'probs' is not defined"
       ]
      },
      {
       "output_type": "stream",
       "stream": "stdout",
       "text": [
        "neighbours [233 235 871 246 764 236 763 872  32  33 852 232 807 806 737]\n",
        "v values [ 35.69419691  36.64365287  36.49876985  34.97362511  34.95451779\n",
        "  36.63827956  34.9455808   36.8403701   33.19561031  34.92317828\n",
        "  34.95467221  34.66626177  33.17507758  33.92466007  33.15418135]\n",
        "rewards [-1.70514694 -1.64853132 -1.90066608 -1.66896679 -1.66500196 -1.64371222\n",
        " -1.69213608 -1.89975833 -1.66822754 -1.66882028 -1.69215009 -1.73384755\n",
        " -1.89081343 -1.88198981 -1.90924674]\n",
        "labels [ 0.44113567  0.41135618  0.33117876  0.42156514  0.4201902   0.40899661\n",
        "  0.4309735   0.33283621  0.03282479  0.03285234  0.43091458  0.45880856\n",
        "  0.08478895  0.12367277  0.05253681]\n",
        "extra r [ 1.25284374  0.16915104  1.83880485  1.26494575  1.232962    0.42432947\n",
        "  1.65023418  1.26165227  1.58297665  1.16006016  1.73717777  2.35841715\n",
        "  1.87543281  2.77317764  2.03868362] 0.133844005661 41.1180905011\n",
        "probs"
       ]
      }
     ],
     "prompt_number": 45
    },
    {
     "cell_type": "code",
     "collapsed": false,
     "input": [
      "def dist2prob(dM, sigmaMult, normalize) :\n",
      "    sigma = sigmaMult*np.mean(dM[np.nonzero(dM)])\n",
      "    print 'sigma', sigma\n",
      "    pM = np.exp((-dM)/sigma)\n",
      "## normalize probabilities row-wise\n",
      "    if normalize :\n",
      "        normTerm = np.sum(pM, axis=1)\n",
      "        normTerm = cv2.repeat(normTerm, 1, dM.shape[1])\n",
      "        pM = pM / normTerm\n",
      "    return pM\n",
      "\n",
      "probs = dist2prob(dFut, 0.01, False)\n",
      "print np.min(probs)\n",
      "figure(); imshow(probs)\n",
      "\n",
      "figure(); imshow(np.cumsum(probs, axis=1))"
     ],
     "language": "python",
     "metadata": {},
     "outputs": [
      {
       "output_type": "stream",
       "stream": "stdout",
       "text": [
        "sigma 0.0667496772841\n",
        "2.96972960665e-268\n"
       ]
      },
      {
       "metadata": {},
       "output_type": "pyout",
       "prompt_number": 180,
       "text": [
        "<matplotlib.image.AxesImage at 0x7f3bff25a7d0>"
       ]
      }
     ],
     "prompt_number": 180
    },
    {
     "cell_type": "code",
     "collapsed": false,
     "input": [
      "class ImageLabel(QtGui.QLabel) :\n",
      "    \n",
      "    def __init__(self, text, parent=None):\n",
      "        super(ImageLabel, self).__init__(text, parent)\n",
      "        \n",
      "    def setPixmap(self, pixmap) :\n",
      "        if pixmap.width() > self.width() :\n",
      "            super(ImageLabel, self).setPixmap(pixmap.scaledToWidth(self.width()))\n",
      "        else :\n",
      "            super(ImageLabel, self).setPixmap(pixmap)\n",
      "        \n",
      "    def resizeEvent(self, event) :\n",
      "        if self.pixmap() != None :\n",
      "            if self.pixmap().width() > self.width() :\n",
      "                self.setPixmap(self.pixmap().scaledToWidth(self.width()))\n",
      "                \n",
      "class Window(QtGui.QWidget):\n",
      "    def __init__(self):\n",
      "        super(Window, self).__init__()\n",
      "        \n",
      "        self.createGUI()\n",
      "        \n",
      "        self.setWindowTitle(\"Video Fields Visualizer\")\n",
      "        self.resize(1280, 720)\n",
      "        \n",
      "        self.textureTimer = QtCore.QTimer(self)\n",
      "        self.textureTimer.setInterval(1000/30)\n",
      "        self.textureTimer.start()\n",
      "        self.textureTimer.timeout.connect(self.renderOneFrame)\n",
      "        \n",
      "        self.taskIdx = 0\n",
      "        self.taskToPerform = possibleTasksToPerform[self.taskIdx, :]\n",
      "#         self.taskToPerform = np.array([0, 0.5, 0.0, 0.5])\n",
      "        self.currentIdx = 570\n",
      "        \n",
      "        ## HACK ##\n",
      "        im = np.ascontiguousarray(Image.open(frames[self.currentIdx+4]))\n",
      "        qim = QtGui.QImage(im.data, im.shape[1], im.shape[0], im.strides[0], QtGui.QImage.Format_RGB888);\n",
      "        self.frameLabel.setPixmap(QtGui.QPixmap.fromImage(qim))\n",
      "        \n",
      "        infoText = \"Frame idx: \"+np.string_(self.currentIdx)+\"\\t\"+np.string_(labels[self.currentIdx, :])\n",
      "        self.infoLabel.setText(infoText)\n",
      "        print self.currentIdx, labels[self.currentIdx, :]\n",
      "        \n",
      "    def changeTaskLabel(self, index) :\n",
      "        self.taskIdx = index\n",
      "        self.taskToPerform = possibleTasksToPerform[self.taskIdx, :]\n",
      "        \n",
      "    def renderOneFrame(self) :\n",
      "        \n",
      "        s = {'frameState': fs[self.currentIdx, :, :], 'taskParams': labels[self.currentIdx, :]}\n",
      "        neighsProbs = np.zeros(k)#probs[self.currentIdx, neighbours[self.currentIdx, :]]/np.sum(probs[self.currentIdx, neighbours[self.currentIdx, :]])\n",
      "#         bestA, bestAIdx = pi_l(s, A[self.currentIdx, :, :], v[:, self.taskIdx], self.currentIdx, fs, neighbours, labels, self.taskToPerform)\n",
      "        bestA, bestAIdx = pi_l(s, A[self.currentIdx, :, :], np.sum(np.repeat(self.taskToPerform.reshape((1, len(self.taskToPerform))), numStates, axis=0)*v, axis=-1), self.currentIdx, fs, neighbours, labels, self.taskToPerform, neighsProbs, w[self.currentIdx, :])\n",
      "        newTaskState, newIdx = integrateTaskState(s, bestA, fs[neighbours[self.currentIdx, :], :, :], 1.0, neighbours[self.currentIdx, :], labels)\n",
      "        self.currentIdx = np.copy(newIdx)\n",
      "        \n",
      "        ## HACK ##\n",
      "        im = np.ascontiguousarray(Image.open(frames[self.currentIdx+4]))\n",
      "        qim = QtGui.QImage(im.data, im.shape[1], im.shape[0], im.strides[0], QtGui.QImage.Format_RGB888);\n",
      "        self.frameLabel.setPixmap(QtGui.QPixmap.fromImage(qim))\n",
      "        \n",
      "        infoText = \"Frame idx: \"+np.string_(newIdx)+\"\\t\"+np.string_(newTaskState['taskParams'])\n",
      "        self.infoLabel.setText(infoText)\n",
      "#         print newIdx, newTaskState['taskParams']\n",
      "        \n",
      "    def createGUI(self) :\n",
      "        \n",
      "        ## WIDGETS ##\n",
      "        \n",
      "        self.frameLabel = ImageLabel(\"Frame\")\n",
      "        self.frameLabel.setSizePolicy(QtGui.QSizePolicy.MinimumExpanding, QtGui.QSizePolicy.MinimumExpanding)\n",
      "        self.frameLabel.setAlignment(QtCore.Qt.AlignCenter | QtCore.Qt.AlignHCenter)\n",
      "        \n",
      "        self.infoLabel = QtGui.QLabel(\"Info text\")\n",
      "        \n",
      "        self.labelComboBox = QtGui.QComboBox()\n",
      "        self.labelComboBox.addItem(\"Away\")\n",
      "        self.labelComboBox.addItem(\"Right\")\n",
      "        self.labelComboBox.addItem(\"Towards\")\n",
      "        self.labelComboBox.addItem(\"Left\")\n",
      "        \n",
      "        ## SIGNALS ##\n",
      "        \n",
      "        self.labelComboBox.currentIndexChanged[int].connect(self.changeTaskLabel)\n",
      "#         self.openSequenceButton.clicked.connect(self.openSequence)\n",
      "        \n",
      "#         self.tabWidget.currentChanged.connect(self.tabChanged)\n",
      "        \n",
      "        ## LAYOUTS ##\n",
      "        \n",
      "        mainLayout = QtGui.QVBoxLayout()\n",
      "        mainLayout.addWidget(self.frameLabel)\n",
      "        mainLayout.addWidget(self.infoLabel)\n",
      "        mainLayout.addWidget(self.labelComboBox)\n",
      "        self.setLayout(mainLayout)"
     ],
     "language": "python",
     "metadata": {},
     "outputs": [],
     "prompt_number": 15
    },
    {
     "cell_type": "code",
     "collapsed": false,
     "input": [
      "window = Window()\n",
      "window.show()\n",
      "app.exec_()"
     ],
     "language": "python",
     "metadata": {},
     "outputs": [
      {
       "output_type": "stream",
       "stream": "stdout",
       "text": [
        "570 [  1.60641987e-03   9.98357008e-01   3.45027541e-05   2.06944855e-06]\n"
       ]
      },
      {
       "metadata": {},
       "output_type": "pyout",
       "prompt_number": 89,
       "text": [
        "0"
       ]
      }
     ],
     "prompt_number": 89
    }
   ],
   "metadata": {}
  }
 ]
}