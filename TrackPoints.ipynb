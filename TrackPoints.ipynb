{
 "metadata": {
  "name": ""
 },
 "nbformat": 3,
 "nbformat_minor": 0,
 "worksheets": [
  {
   "cells": [
    {
     "cell_type": "code",
     "collapsed": false,
     "input": [
      "## Imports and defines\n",
      "%pylab\n",
      "import numpy as np\n",
      "import scipy as sp\n",
      "import re\n",
      "import cv2\n",
      "import sys\n",
      "import glob\n",
      "\n",
      "from mpl_toolkits.mplot3d import Axes3D\n",
      "import matplotlib.animation as animation\n",
      "\n",
      "dataLoc = \"/home/ilisescu/PhD/iPy/data/flower/\"\n",
      "nameLength = len(filter(None, re.split('/',dataLoc)))\n",
      "nvmFile = \"sparse.nvm\"\n",
      "\n",
      "colVals = ['0', '1', '2', '3', '4', '5', '6', '7', '8', '9', 'a', 'b', 'c', 'd', 'e', 'f']"
     ],
     "language": "python",
     "metadata": {},
     "outputs": [
      {
       "output_type": "stream",
       "stream": "stdout",
       "text": [
        "Using matplotlib backend: TkAgg\n",
        "Populating the interactive namespace from numpy and matplotlib\n"
       ]
      }
     ],
     "prompt_number": 116
    },
    {
     "cell_type": "code",
     "collapsed": false,
     "input": [
      "def getRGBFlow(flow) :\n",
      "    print flow.shape\n",
      "    hsvFlow = np.zeros([flow.shape[0], flow.shape[1], 3], dtype=uint8)\n",
      "    hsvFlow[...,1] = 255\n",
      "    \n",
      "    mag, ang = cv2.cartToPolar(flow[...,0], flow[...,1])\n",
      "    hsvFlow[...,0] = ang*180/np.pi/2\n",
      "    hsvFlow[...,2] = cv2.normalize(mag,None,0,255,cv2.NORM_MINMAX)\n",
      "    rgbFlow = cv2.cvtColor(hsvFlow,cv2.COLOR_HSV2RGB)\n",
      "    return rgbFlow"
     ],
     "language": "python",
     "metadata": {},
     "outputs": [],
     "prompt_number": 17
    },
    {
     "cell_type": "code",
     "collapsed": false,
     "input": [
      "## load frames\n",
      "frameNames = np.sort(glob.glob(dataLoc + \"*.png\"))\n",
      "frameSize = cv2.imread(frameNames[0]).shape\n",
      "movie = np.zeros(np.hstack([frameSize, len(frameNames)]), dtype=uint8)\n",
      "print movie.shape\n",
      "for i in xrange(0, len(frameNames)):\n",
      "#     im = np.array(cv2.imread(location+frames[i]))/255.0\n",
      "#     movie[:, :, i] = np.dot(im[:,:,:3], [0.0722, 0.7152, 0.2126])   # matlab RGB2GRAY multiplies [0.299, 0.587, 0.144] but cv2 is BGR\n",
      "#     movie[:, :, :, i] = np.array(cv2.imread(frameNames[i]))/255.0\n",
      "    movie[:, :, :, i] = cv2.imread(frameNames[i])\n",
      "    sys.stdout.write('\\r' + \"Loading frame \" + np.string_(i) + \" of \" + np.string_(len(frameNames)))\n",
      "    sys.stdout.flush()"
     ],
     "language": "python",
     "metadata": {},
     "outputs": [
      {
       "output_type": "stream",
       "stream": "stdout",
       "text": [
        "(720, 1280, 3, 236)\n",
        "\r",
        "Loading frame 0 of 236"
       ]
      },
      {
       "output_type": "stream",
       "stream": "stdout",
       "text": [
        "\r",
        "Loading frame 1 of 236"
       ]
      },
      {
       "output_type": "stream",
       "stream": "stdout",
       "text": [
        "\r",
        "Loading frame 2 of 236"
       ]
      },
      {
       "output_type": "stream",
       "stream": "stdout",
       "text": [
        "\r",
        "Loading frame 3 of 236"
       ]
      },
      {
       "output_type": "stream",
       "stream": "stdout",
       "text": [
        "\r",
        "Loading frame 4 of 236"
       ]
      },
      {
       "output_type": "stream",
       "stream": "stdout",
       "text": [
        "\r",
        "Loading frame 5 of 236"
       ]
      },
      {
       "output_type": "stream",
       "stream": "stdout",
       "text": [
        "\r",
        "Loading frame 6 of 236"
       ]
      },
      {
       "output_type": "stream",
       "stream": "stdout",
       "text": [
        "\r",
        "Loading frame 7 of 236"
       ]
      },
      {
       "output_type": "stream",
       "stream": "stdout",
       "text": [
        "\r",
        "Loading frame 8 of 236"
       ]
      },
      {
       "output_type": "stream",
       "stream": "stdout",
       "text": [
        "\r",
        "Loading frame 9 of 236"
       ]
      },
      {
       "output_type": "stream",
       "stream": "stdout",
       "text": [
        "\r",
        "Loading frame 10 of 236"
       ]
      },
      {
       "output_type": "stream",
       "stream": "stdout",
       "text": [
        "\r",
        "Loading frame 11 of 236"
       ]
      },
      {
       "output_type": "stream",
       "stream": "stdout",
       "text": [
        "\r",
        "Loading frame 12 of 236"
       ]
      },
      {
       "output_type": "stream",
       "stream": "stdout",
       "text": [
        "\r",
        "Loading frame 13 of 236"
       ]
      },
      {
       "output_type": "stream",
       "stream": "stdout",
       "text": [
        "\r",
        "Loading frame 14 of 236"
       ]
      },
      {
       "output_type": "stream",
       "stream": "stdout",
       "text": [
        "\r",
        "Loading frame 15 of 236"
       ]
      },
      {
       "output_type": "stream",
       "stream": "stdout",
       "text": [
        "\r",
        "Loading frame 16 of 236"
       ]
      },
      {
       "output_type": "stream",
       "stream": "stdout",
       "text": [
        "\r",
        "Loading frame 17 of 236"
       ]
      },
      {
       "output_type": "stream",
       "stream": "stdout",
       "text": [
        "\r",
        "Loading frame 18 of 236"
       ]
      },
      {
       "output_type": "stream",
       "stream": "stdout",
       "text": [
        "\r",
        "Loading frame 19 of 236"
       ]
      },
      {
       "output_type": "stream",
       "stream": "stdout",
       "text": [
        "\r",
        "Loading frame 20 of 236"
       ]
      },
      {
       "output_type": "stream",
       "stream": "stdout",
       "text": [
        "\r",
        "Loading frame 21 of 236"
       ]
      },
      {
       "output_type": "stream",
       "stream": "stdout",
       "text": [
        "\r",
        "Loading frame 22 of 236"
       ]
      },
      {
       "output_type": "stream",
       "stream": "stdout",
       "text": [
        "\r",
        "Loading frame 23 of 236"
       ]
      },
      {
       "output_type": "stream",
       "stream": "stdout",
       "text": [
        "\r",
        "Loading frame 24 of 236"
       ]
      },
      {
       "output_type": "stream",
       "stream": "stdout",
       "text": [
        "\r",
        "Loading frame 25 of 236"
       ]
      },
      {
       "output_type": "stream",
       "stream": "stdout",
       "text": [
        "\r",
        "Loading frame 26 of 236"
       ]
      },
      {
       "output_type": "stream",
       "stream": "stdout",
       "text": [
        "\r",
        "Loading frame 27 of 236"
       ]
      },
      {
       "output_type": "stream",
       "stream": "stdout",
       "text": [
        "\r",
        "Loading frame 28 of 236"
       ]
      },
      {
       "output_type": "stream",
       "stream": "stdout",
       "text": [
        "\r",
        "Loading frame 29 of 236"
       ]
      },
      {
       "output_type": "stream",
       "stream": "stdout",
       "text": [
        "\r",
        "Loading frame 30 of 236"
       ]
      },
      {
       "output_type": "stream",
       "stream": "stdout",
       "text": [
        "\r",
        "Loading frame 31 of 236"
       ]
      },
      {
       "output_type": "stream",
       "stream": "stdout",
       "text": [
        "\r",
        "Loading frame 32 of 236"
       ]
      },
      {
       "output_type": "stream",
       "stream": "stdout",
       "text": [
        "\r",
        "Loading frame 33 of 236"
       ]
      },
      {
       "output_type": "stream",
       "stream": "stdout",
       "text": [
        "\r",
        "Loading frame 34 of 236"
       ]
      },
      {
       "output_type": "stream",
       "stream": "stdout",
       "text": [
        "\r",
        "Loading frame 35 of 236"
       ]
      },
      {
       "output_type": "stream",
       "stream": "stdout",
       "text": [
        "\r",
        "Loading frame 36 of 236"
       ]
      },
      {
       "output_type": "stream",
       "stream": "stdout",
       "text": [
        "\r",
        "Loading frame 37 of 236"
       ]
      },
      {
       "output_type": "stream",
       "stream": "stdout",
       "text": [
        "\r",
        "Loading frame 38 of 236"
       ]
      },
      {
       "output_type": "stream",
       "stream": "stdout",
       "text": [
        "\r",
        "Loading frame 39 of 236"
       ]
      },
      {
       "output_type": "stream",
       "stream": "stdout",
       "text": [
        "\r",
        "Loading frame 40 of 236"
       ]
      },
      {
       "output_type": "stream",
       "stream": "stdout",
       "text": [
        "\r",
        "Loading frame 41 of 236"
       ]
      },
      {
       "output_type": "stream",
       "stream": "stdout",
       "text": [
        "\r",
        "Loading frame 42 of 236"
       ]
      },
      {
       "output_type": "stream",
       "stream": "stdout",
       "text": [
        "\r",
        "Loading frame 43 of 236"
       ]
      },
      {
       "output_type": "stream",
       "stream": "stdout",
       "text": [
        "\r",
        "Loading frame 44 of 236"
       ]
      },
      {
       "output_type": "stream",
       "stream": "stdout",
       "text": [
        "\r",
        "Loading frame 45 of 236"
       ]
      },
      {
       "output_type": "stream",
       "stream": "stdout",
       "text": [
        "\r",
        "Loading frame 46 of 236"
       ]
      },
      {
       "output_type": "stream",
       "stream": "stdout",
       "text": [
        "\r",
        "Loading frame 47 of 236"
       ]
      },
      {
       "output_type": "stream",
       "stream": "stdout",
       "text": [
        "\r",
        "Loading frame 48 of 236"
       ]
      },
      {
       "output_type": "stream",
       "stream": "stdout",
       "text": [
        "\r",
        "Loading frame 49 of 236"
       ]
      },
      {
       "output_type": "stream",
       "stream": "stdout",
       "text": [
        "\r",
        "Loading frame 50 of 236"
       ]
      },
      {
       "output_type": "stream",
       "stream": "stdout",
       "text": [
        "\r",
        "Loading frame 51 of 236"
       ]
      },
      {
       "output_type": "stream",
       "stream": "stdout",
       "text": [
        "\r",
        "Loading frame 52 of 236"
       ]
      },
      {
       "output_type": "stream",
       "stream": "stdout",
       "text": [
        "\r",
        "Loading frame 53 of 236"
       ]
      },
      {
       "output_type": "stream",
       "stream": "stdout",
       "text": [
        "\r",
        "Loading frame 54 of 236"
       ]
      },
      {
       "output_type": "stream",
       "stream": "stdout",
       "text": [
        "\r",
        "Loading frame 55 of 236"
       ]
      },
      {
       "output_type": "stream",
       "stream": "stdout",
       "text": [
        "\r",
        "Loading frame 56 of 236"
       ]
      },
      {
       "output_type": "stream",
       "stream": "stdout",
       "text": [
        "\r",
        "Loading frame 57 of 236"
       ]
      },
      {
       "output_type": "stream",
       "stream": "stdout",
       "text": [
        "\r",
        "Loading frame 58 of 236"
       ]
      },
      {
       "output_type": "stream",
       "stream": "stdout",
       "text": [
        "\r",
        "Loading frame 59 of 236"
       ]
      },
      {
       "output_type": "stream",
       "stream": "stdout",
       "text": [
        "\r",
        "Loading frame 60 of 236"
       ]
      },
      {
       "output_type": "stream",
       "stream": "stdout",
       "text": [
        "\r",
        "Loading frame 61 of 236"
       ]
      },
      {
       "output_type": "stream",
       "stream": "stdout",
       "text": [
        "\r",
        "Loading frame 62 of 236"
       ]
      },
      {
       "output_type": "stream",
       "stream": "stdout",
       "text": [
        "\r",
        "Loading frame 63 of 236"
       ]
      },
      {
       "output_type": "stream",
       "stream": "stdout",
       "text": [
        "\r",
        "Loading frame 64 of 236"
       ]
      },
      {
       "output_type": "stream",
       "stream": "stdout",
       "text": [
        "\r",
        "Loading frame 65 of 236"
       ]
      },
      {
       "output_type": "stream",
       "stream": "stdout",
       "text": [
        "\r",
        "Loading frame 66 of 236"
       ]
      },
      {
       "output_type": "stream",
       "stream": "stdout",
       "text": [
        "\r",
        "Loading frame 67 of 236"
       ]
      },
      {
       "output_type": "stream",
       "stream": "stdout",
       "text": [
        "\r",
        "Loading frame 68 of 236"
       ]
      },
      {
       "output_type": "stream",
       "stream": "stdout",
       "text": [
        "\r",
        "Loading frame 69 of 236"
       ]
      },
      {
       "output_type": "stream",
       "stream": "stdout",
       "text": [
        "\r",
        "Loading frame 70 of 236"
       ]
      },
      {
       "output_type": "stream",
       "stream": "stdout",
       "text": [
        "\r",
        "Loading frame 71 of 236"
       ]
      },
      {
       "output_type": "stream",
       "stream": "stdout",
       "text": [
        "\r",
        "Loading frame 72 of 236"
       ]
      },
      {
       "output_type": "stream",
       "stream": "stdout",
       "text": [
        "\r",
        "Loading frame 73 of 236"
       ]
      },
      {
       "output_type": "stream",
       "stream": "stdout",
       "text": [
        "\r",
        "Loading frame 74 of 236"
       ]
      },
      {
       "output_type": "stream",
       "stream": "stdout",
       "text": [
        "\r",
        "Loading frame 75 of 236"
       ]
      },
      {
       "output_type": "stream",
       "stream": "stdout",
       "text": [
        "\r",
        "Loading frame 76 of 236"
       ]
      },
      {
       "output_type": "stream",
       "stream": "stdout",
       "text": [
        "\r",
        "Loading frame 77 of 236"
       ]
      },
      {
       "output_type": "stream",
       "stream": "stdout",
       "text": [
        "\r",
        "Loading frame 78 of 236"
       ]
      },
      {
       "output_type": "stream",
       "stream": "stdout",
       "text": [
        "\r",
        "Loading frame 79 of 236"
       ]
      },
      {
       "output_type": "stream",
       "stream": "stdout",
       "text": [
        "\r",
        "Loading frame 80 of 236"
       ]
      },
      {
       "output_type": "stream",
       "stream": "stdout",
       "text": [
        "\r",
        "Loading frame 81 of 236"
       ]
      },
      {
       "output_type": "stream",
       "stream": "stdout",
       "text": [
        "\r",
        "Loading frame 82 of 236"
       ]
      },
      {
       "output_type": "stream",
       "stream": "stdout",
       "text": [
        "\r",
        "Loading frame 83 of 236"
       ]
      },
      {
       "output_type": "stream",
       "stream": "stdout",
       "text": [
        "\r",
        "Loading frame 84 of 236"
       ]
      },
      {
       "output_type": "stream",
       "stream": "stdout",
       "text": [
        "\r",
        "Loading frame 85 of 236"
       ]
      },
      {
       "output_type": "stream",
       "stream": "stdout",
       "text": [
        "\r",
        "Loading frame 86 of 236"
       ]
      },
      {
       "output_type": "stream",
       "stream": "stdout",
       "text": [
        "\r",
        "Loading frame 87 of 236"
       ]
      },
      {
       "output_type": "stream",
       "stream": "stdout",
       "text": [
        "\r",
        "Loading frame 88 of 236"
       ]
      },
      {
       "output_type": "stream",
       "stream": "stdout",
       "text": [
        "\r",
        "Loading frame 89 of 236"
       ]
      },
      {
       "output_type": "stream",
       "stream": "stdout",
       "text": [
        "\r",
        "Loading frame 90 of 236"
       ]
      },
      {
       "output_type": "stream",
       "stream": "stdout",
       "text": [
        "\r",
        "Loading frame 91 of 236"
       ]
      },
      {
       "output_type": "stream",
       "stream": "stdout",
       "text": [
        "\r",
        "Loading frame 92 of 236"
       ]
      },
      {
       "output_type": "stream",
       "stream": "stdout",
       "text": [
        "\r",
        "Loading frame 93 of 236"
       ]
      },
      {
       "output_type": "stream",
       "stream": "stdout",
       "text": [
        "\r",
        "Loading frame 94 of 236"
       ]
      },
      {
       "output_type": "stream",
       "stream": "stdout",
       "text": [
        "\r",
        "Loading frame 95 of 236"
       ]
      },
      {
       "output_type": "stream",
       "stream": "stdout",
       "text": [
        "\r",
        "Loading frame 96 of 236"
       ]
      },
      {
       "output_type": "stream",
       "stream": "stdout",
       "text": [
        "\r",
        "Loading frame 97 of 236"
       ]
      },
      {
       "output_type": "stream",
       "stream": "stdout",
       "text": [
        "\r",
        "Loading frame 98 of 236"
       ]
      },
      {
       "output_type": "stream",
       "stream": "stdout",
       "text": [
        "\r",
        "Loading frame 99 of 236"
       ]
      },
      {
       "output_type": "stream",
       "stream": "stdout",
       "text": [
        "\r",
        "Loading frame 100 of 236"
       ]
      },
      {
       "output_type": "stream",
       "stream": "stdout",
       "text": [
        "\r",
        "Loading frame 101 of 236"
       ]
      },
      {
       "output_type": "stream",
       "stream": "stdout",
       "text": [
        "\r",
        "Loading frame 102 of 236"
       ]
      },
      {
       "output_type": "stream",
       "stream": "stdout",
       "text": [
        "\r",
        "Loading frame 103 of 236"
       ]
      },
      {
       "output_type": "stream",
       "stream": "stdout",
       "text": [
        "\r",
        "Loading frame 104 of 236"
       ]
      },
      {
       "output_type": "stream",
       "stream": "stdout",
       "text": [
        "\r",
        "Loading frame 105 of 236"
       ]
      },
      {
       "output_type": "stream",
       "stream": "stdout",
       "text": [
        "\r",
        "Loading frame 106 of 236"
       ]
      },
      {
       "output_type": "stream",
       "stream": "stdout",
       "text": [
        "\r",
        "Loading frame 107 of 236"
       ]
      },
      {
       "output_type": "stream",
       "stream": "stdout",
       "text": [
        "\r",
        "Loading frame 108 of 236"
       ]
      },
      {
       "output_type": "stream",
       "stream": "stdout",
       "text": [
        "\r",
        "Loading frame 109 of 236"
       ]
      },
      {
       "output_type": "stream",
       "stream": "stdout",
       "text": [
        "\r",
        "Loading frame 110 of 236"
       ]
      },
      {
       "output_type": "stream",
       "stream": "stdout",
       "text": [
        "\r",
        "Loading frame 111 of 236"
       ]
      },
      {
       "output_type": "stream",
       "stream": "stdout",
       "text": [
        "\r",
        "Loading frame 112 of 236"
       ]
      },
      {
       "output_type": "stream",
       "stream": "stdout",
       "text": [
        "\r",
        "Loading frame 113 of 236"
       ]
      },
      {
       "output_type": "stream",
       "stream": "stdout",
       "text": [
        "\r",
        "Loading frame 114 of 236"
       ]
      },
      {
       "output_type": "stream",
       "stream": "stdout",
       "text": [
        "\r",
        "Loading frame 115 of 236"
       ]
      },
      {
       "output_type": "stream",
       "stream": "stdout",
       "text": [
        "\r",
        "Loading frame 116 of 236"
       ]
      },
      {
       "output_type": "stream",
       "stream": "stdout",
       "text": [
        "\r",
        "Loading frame 117 of 236"
       ]
      },
      {
       "output_type": "stream",
       "stream": "stdout",
       "text": [
        "\r",
        "Loading frame 118 of 236"
       ]
      },
      {
       "output_type": "stream",
       "stream": "stdout",
       "text": [
        "\r",
        "Loading frame 119 of 236"
       ]
      },
      {
       "output_type": "stream",
       "stream": "stdout",
       "text": [
        "\r",
        "Loading frame 120 of 236"
       ]
      },
      {
       "output_type": "stream",
       "stream": "stdout",
       "text": [
        "\r",
        "Loading frame 121 of 236"
       ]
      },
      {
       "output_type": "stream",
       "stream": "stdout",
       "text": [
        "\r",
        "Loading frame 122 of 236"
       ]
      },
      {
       "output_type": "stream",
       "stream": "stdout",
       "text": [
        "\r",
        "Loading frame 123 of 236"
       ]
      },
      {
       "output_type": "stream",
       "stream": "stdout",
       "text": [
        "\r",
        "Loading frame 124 of 236"
       ]
      },
      {
       "output_type": "stream",
       "stream": "stdout",
       "text": [
        "\r",
        "Loading frame 125 of 236"
       ]
      },
      {
       "output_type": "stream",
       "stream": "stdout",
       "text": [
        "\r",
        "Loading frame 126 of 236"
       ]
      },
      {
       "output_type": "stream",
       "stream": "stdout",
       "text": [
        "\r",
        "Loading frame 127 of 236"
       ]
      },
      {
       "output_type": "stream",
       "stream": "stdout",
       "text": [
        "\r",
        "Loading frame 128 of 236"
       ]
      },
      {
       "output_type": "stream",
       "stream": "stdout",
       "text": [
        "\r",
        "Loading frame 129 of 236"
       ]
      },
      {
       "output_type": "stream",
       "stream": "stdout",
       "text": [
        "\r",
        "Loading frame 130 of 236"
       ]
      },
      {
       "output_type": "stream",
       "stream": "stdout",
       "text": [
        "\r",
        "Loading frame 131 of 236"
       ]
      },
      {
       "output_type": "stream",
       "stream": "stdout",
       "text": [
        "\r",
        "Loading frame 132 of 236"
       ]
      },
      {
       "output_type": "stream",
       "stream": "stdout",
       "text": [
        "\r",
        "Loading frame 133 of 236"
       ]
      },
      {
       "output_type": "stream",
       "stream": "stdout",
       "text": [
        "\r",
        "Loading frame 134 of 236"
       ]
      },
      {
       "output_type": "stream",
       "stream": "stdout",
       "text": [
        "\r",
        "Loading frame 135 of 236"
       ]
      },
      {
       "output_type": "stream",
       "stream": "stdout",
       "text": [
        "\r",
        "Loading frame 136 of 236"
       ]
      },
      {
       "output_type": "stream",
       "stream": "stdout",
       "text": [
        "\r",
        "Loading frame 137 of 236"
       ]
      },
      {
       "output_type": "stream",
       "stream": "stdout",
       "text": [
        "\r",
        "Loading frame 138 of 236"
       ]
      },
      {
       "output_type": "stream",
       "stream": "stdout",
       "text": [
        "\r",
        "Loading frame 139 of 236"
       ]
      },
      {
       "output_type": "stream",
       "stream": "stdout",
       "text": [
        "\r",
        "Loading frame 140 of 236"
       ]
      },
      {
       "output_type": "stream",
       "stream": "stdout",
       "text": [
        "\r",
        "Loading frame 141 of 236"
       ]
      },
      {
       "output_type": "stream",
       "stream": "stdout",
       "text": [
        "\r",
        "Loading frame 142 of 236"
       ]
      },
      {
       "output_type": "stream",
       "stream": "stdout",
       "text": [
        "\r",
        "Loading frame 143 of 236"
       ]
      },
      {
       "output_type": "stream",
       "stream": "stdout",
       "text": [
        "\r",
        "Loading frame 144 of 236"
       ]
      },
      {
       "output_type": "stream",
       "stream": "stdout",
       "text": [
        "\r",
        "Loading frame 145 of 236"
       ]
      },
      {
       "output_type": "stream",
       "stream": "stdout",
       "text": [
        "\r",
        "Loading frame 146 of 236"
       ]
      },
      {
       "output_type": "stream",
       "stream": "stdout",
       "text": [
        "\r",
        "Loading frame 147 of 236"
       ]
      },
      {
       "output_type": "stream",
       "stream": "stdout",
       "text": [
        "\r",
        "Loading frame 148 of 236"
       ]
      },
      {
       "output_type": "stream",
       "stream": "stdout",
       "text": [
        "\r",
        "Loading frame 149 of 236"
       ]
      },
      {
       "output_type": "stream",
       "stream": "stdout",
       "text": [
        "\r",
        "Loading frame 150 of 236"
       ]
      },
      {
       "output_type": "stream",
       "stream": "stdout",
       "text": [
        "\r",
        "Loading frame 151 of 236"
       ]
      },
      {
       "output_type": "stream",
       "stream": "stdout",
       "text": [
        "\r",
        "Loading frame 152 of 236"
       ]
      },
      {
       "output_type": "stream",
       "stream": "stdout",
       "text": [
        "\r",
        "Loading frame 153 of 236"
       ]
      },
      {
       "output_type": "stream",
       "stream": "stdout",
       "text": [
        "\r",
        "Loading frame 154 of 236"
       ]
      },
      {
       "output_type": "stream",
       "stream": "stdout",
       "text": [
        "\r",
        "Loading frame 155 of 236"
       ]
      },
      {
       "output_type": "stream",
       "stream": "stdout",
       "text": [
        "\r",
        "Loading frame 156 of 236"
       ]
      },
      {
       "output_type": "stream",
       "stream": "stdout",
       "text": [
        "\r",
        "Loading frame 157 of 236"
       ]
      },
      {
       "output_type": "stream",
       "stream": "stdout",
       "text": [
        "\r",
        "Loading frame 158 of 236"
       ]
      },
      {
       "output_type": "stream",
       "stream": "stdout",
       "text": [
        "\r",
        "Loading frame 159 of 236"
       ]
      },
      {
       "output_type": "stream",
       "stream": "stdout",
       "text": [
        "\r",
        "Loading frame 160 of 236"
       ]
      },
      {
       "output_type": "stream",
       "stream": "stdout",
       "text": [
        "\r",
        "Loading frame 161 of 236"
       ]
      },
      {
       "output_type": "stream",
       "stream": "stdout",
       "text": [
        "\r",
        "Loading frame 162 of 236"
       ]
      },
      {
       "output_type": "stream",
       "stream": "stdout",
       "text": [
        "\r",
        "Loading frame 163 of 236"
       ]
      },
      {
       "output_type": "stream",
       "stream": "stdout",
       "text": [
        "\r",
        "Loading frame 164 of 236"
       ]
      },
      {
       "output_type": "stream",
       "stream": "stdout",
       "text": [
        "\r",
        "Loading frame 165 of 236"
       ]
      },
      {
       "output_type": "stream",
       "stream": "stdout",
       "text": [
        "\r",
        "Loading frame 166 of 236"
       ]
      },
      {
       "output_type": "stream",
       "stream": "stdout",
       "text": [
        "\r",
        "Loading frame 167 of 236"
       ]
      },
      {
       "output_type": "stream",
       "stream": "stdout",
       "text": [
        "\r",
        "Loading frame 168 of 236"
       ]
      },
      {
       "output_type": "stream",
       "stream": "stdout",
       "text": [
        "\r",
        "Loading frame 169 of 236"
       ]
      },
      {
       "output_type": "stream",
       "stream": "stdout",
       "text": [
        "\r",
        "Loading frame 170 of 236"
       ]
      },
      {
       "output_type": "stream",
       "stream": "stdout",
       "text": [
        "\r",
        "Loading frame 171 of 236"
       ]
      },
      {
       "output_type": "stream",
       "stream": "stdout",
       "text": [
        "\r",
        "Loading frame 172 of 236"
       ]
      },
      {
       "output_type": "stream",
       "stream": "stdout",
       "text": [
        "\r",
        "Loading frame 173 of 236"
       ]
      },
      {
       "output_type": "stream",
       "stream": "stdout",
       "text": [
        "\r",
        "Loading frame 174 of 236"
       ]
      },
      {
       "output_type": "stream",
       "stream": "stdout",
       "text": [
        "\r",
        "Loading frame 175 of 236"
       ]
      },
      {
       "output_type": "stream",
       "stream": "stdout",
       "text": [
        "\r",
        "Loading frame 176 of 236"
       ]
      },
      {
       "output_type": "stream",
       "stream": "stdout",
       "text": [
        "\r",
        "Loading frame 177 of 236"
       ]
      },
      {
       "output_type": "stream",
       "stream": "stdout",
       "text": [
        "\r",
        "Loading frame 178 of 236"
       ]
      },
      {
       "output_type": "stream",
       "stream": "stdout",
       "text": [
        "\r",
        "Loading frame 179 of 236"
       ]
      },
      {
       "output_type": "stream",
       "stream": "stdout",
       "text": [
        "\r",
        "Loading frame 180 of 236"
       ]
      },
      {
       "output_type": "stream",
       "stream": "stdout",
       "text": [
        "\r",
        "Loading frame 181 of 236"
       ]
      },
      {
       "output_type": "stream",
       "stream": "stdout",
       "text": [
        "\r",
        "Loading frame 182 of 236"
       ]
      },
      {
       "output_type": "stream",
       "stream": "stdout",
       "text": [
        "\r",
        "Loading frame 183 of 236"
       ]
      },
      {
       "output_type": "stream",
       "stream": "stdout",
       "text": [
        "\r",
        "Loading frame 184 of 236"
       ]
      },
      {
       "output_type": "stream",
       "stream": "stdout",
       "text": [
        "\r",
        "Loading frame 185 of 236"
       ]
      },
      {
       "output_type": "stream",
       "stream": "stdout",
       "text": [
        "\r",
        "Loading frame 186 of 236"
       ]
      },
      {
       "output_type": "stream",
       "stream": "stdout",
       "text": [
        "\r",
        "Loading frame 187 of 236"
       ]
      },
      {
       "output_type": "stream",
       "stream": "stdout",
       "text": [
        "\r",
        "Loading frame 188 of 236"
       ]
      },
      {
       "output_type": "stream",
       "stream": "stdout",
       "text": [
        "\r",
        "Loading frame 189 of 236"
       ]
      },
      {
       "output_type": "stream",
       "stream": "stdout",
       "text": [
        "\r",
        "Loading frame 190 of 236"
       ]
      },
      {
       "output_type": "stream",
       "stream": "stdout",
       "text": [
        "\r",
        "Loading frame 191 of 236"
       ]
      },
      {
       "output_type": "stream",
       "stream": "stdout",
       "text": [
        "\r",
        "Loading frame 192 of 236"
       ]
      },
      {
       "output_type": "stream",
       "stream": "stdout",
       "text": [
        "\r",
        "Loading frame 193 of 236"
       ]
      },
      {
       "output_type": "stream",
       "stream": "stdout",
       "text": [
        "\r",
        "Loading frame 194 of 236"
       ]
      },
      {
       "output_type": "stream",
       "stream": "stdout",
       "text": [
        "\r",
        "Loading frame 195 of 236"
       ]
      },
      {
       "output_type": "stream",
       "stream": "stdout",
       "text": [
        "\r",
        "Loading frame 196 of 236"
       ]
      },
      {
       "output_type": "stream",
       "stream": "stdout",
       "text": [
        "\r",
        "Loading frame 197 of 236"
       ]
      },
      {
       "output_type": "stream",
       "stream": "stdout",
       "text": [
        "\r",
        "Loading frame 198 of 236"
       ]
      },
      {
       "output_type": "stream",
       "stream": "stdout",
       "text": [
        "\r",
        "Loading frame 199 of 236"
       ]
      },
      {
       "output_type": "stream",
       "stream": "stdout",
       "text": [
        "\r",
        "Loading frame 200 of 236"
       ]
      },
      {
       "output_type": "stream",
       "stream": "stdout",
       "text": [
        "\r",
        "Loading frame 201 of 236"
       ]
      },
      {
       "output_type": "stream",
       "stream": "stdout",
       "text": [
        "\r",
        "Loading frame 202 of 236"
       ]
      },
      {
       "output_type": "stream",
       "stream": "stdout",
       "text": [
        "\r",
        "Loading frame 203 of 236"
       ]
      },
      {
       "output_type": "stream",
       "stream": "stdout",
       "text": [
        "\r",
        "Loading frame 204 of 236"
       ]
      },
      {
       "output_type": "stream",
       "stream": "stdout",
       "text": [
        "\r",
        "Loading frame 205 of 236"
       ]
      },
      {
       "output_type": "stream",
       "stream": "stdout",
       "text": [
        "\r",
        "Loading frame 206 of 236"
       ]
      },
      {
       "output_type": "stream",
       "stream": "stdout",
       "text": [
        "\r",
        "Loading frame 207 of 236"
       ]
      },
      {
       "output_type": "stream",
       "stream": "stdout",
       "text": [
        "\r",
        "Loading frame 208 of 236"
       ]
      },
      {
       "output_type": "stream",
       "stream": "stdout",
       "text": [
        "\r",
        "Loading frame 209 of 236"
       ]
      },
      {
       "output_type": "stream",
       "stream": "stdout",
       "text": [
        "\r",
        "Loading frame 210 of 236"
       ]
      },
      {
       "output_type": "stream",
       "stream": "stdout",
       "text": [
        "\r",
        "Loading frame 211 of 236"
       ]
      },
      {
       "output_type": "stream",
       "stream": "stdout",
       "text": [
        "\r",
        "Loading frame 212 of 236"
       ]
      },
      {
       "output_type": "stream",
       "stream": "stdout",
       "text": [
        "\r",
        "Loading frame 213 of 236"
       ]
      },
      {
       "output_type": "stream",
       "stream": "stdout",
       "text": [
        "\r",
        "Loading frame 214 of 236"
       ]
      },
      {
       "output_type": "stream",
       "stream": "stdout",
       "text": [
        "\r",
        "Loading frame 215 of 236"
       ]
      },
      {
       "output_type": "stream",
       "stream": "stdout",
       "text": [
        "\r",
        "Loading frame 216 of 236"
       ]
      },
      {
       "output_type": "stream",
       "stream": "stdout",
       "text": [
        "\r",
        "Loading frame 217 of 236"
       ]
      },
      {
       "output_type": "stream",
       "stream": "stdout",
       "text": [
        "\r",
        "Loading frame 218 of 236"
       ]
      },
      {
       "output_type": "stream",
       "stream": "stdout",
       "text": [
        "\r",
        "Loading frame 219 of 236"
       ]
      },
      {
       "output_type": "stream",
       "stream": "stdout",
       "text": [
        "\r",
        "Loading frame 220 of 236"
       ]
      },
      {
       "output_type": "stream",
       "stream": "stdout",
       "text": [
        "\r",
        "Loading frame 221 of 236"
       ]
      },
      {
       "output_type": "stream",
       "stream": "stdout",
       "text": [
        "\r",
        "Loading frame 222 of 236"
       ]
      },
      {
       "output_type": "stream",
       "stream": "stdout",
       "text": [
        "\r",
        "Loading frame 223 of 236"
       ]
      },
      {
       "output_type": "stream",
       "stream": "stdout",
       "text": [
        "\r",
        "Loading frame 224 of 236"
       ]
      },
      {
       "output_type": "stream",
       "stream": "stdout",
       "text": [
        "\r",
        "Loading frame 225 of 236"
       ]
      },
      {
       "output_type": "stream",
       "stream": "stdout",
       "text": [
        "\r",
        "Loading frame 226 of 236"
       ]
      },
      {
       "output_type": "stream",
       "stream": "stdout",
       "text": [
        "\r",
        "Loading frame 227 of 236"
       ]
      },
      {
       "output_type": "stream",
       "stream": "stdout",
       "text": [
        "\r",
        "Loading frame 228 of 236"
       ]
      },
      {
       "output_type": "stream",
       "stream": "stdout",
       "text": [
        "\r",
        "Loading frame 229 of 236"
       ]
      },
      {
       "output_type": "stream",
       "stream": "stdout",
       "text": [
        "\r",
        "Loading frame 230 of 236"
       ]
      },
      {
       "output_type": "stream",
       "stream": "stdout",
       "text": [
        "\r",
        "Loading frame 231 of 236"
       ]
      },
      {
       "output_type": "stream",
       "stream": "stdout",
       "text": [
        "\r",
        "Loading frame 232 of 236"
       ]
      },
      {
       "output_type": "stream",
       "stream": "stdout",
       "text": [
        "\r",
        "Loading frame 233 of 236"
       ]
      },
      {
       "output_type": "stream",
       "stream": "stdout",
       "text": [
        "\r",
        "Loading frame 234 of 236"
       ]
      },
      {
       "output_type": "stream",
       "stream": "stdout",
       "text": [
        "\r",
        "Loading frame 235 of 236"
       ]
      }
     ],
     "prompt_number": 3
    },
    {
     "cell_type": "code",
     "collapsed": false,
     "input": [
      "## find flow between each pair of consecutive frames and compute SIFT features in the resulting flow\n",
      "sift = cv2.SIFT()\n",
      "for f in xrange(1, 2): #movie.shape[3]):\n",
      "    print \"pair (\", f-1, \", \", f, \")\"\n",
      "    \n",
      "    frame1 = cv2.cvtColor(movie[:, :, :, f-1],cv2.COLOR_BGR2GRAY)\n",
      "    frame2 = cv2.cvtColor(movie[:, :, :, f],cv2.COLOR_BGR2GRAY)\n",
      "    \n",
      "    pyr_scale = float(0.5)\n",
      "    poly_sigma = float(1.2)\n",
      "    flow = cv2.calcOpticalFlowFarneback(frame1, frame2, None, 0.5, 3, 15, 3, 5, 1.2, 0)\n",
      "    \n",
      "    rgbFlow = getRGBFlow(flow)\n",
      "    \n",
      "    kp = sift.detect(rgbFlow,None)\n",
      "    points = cv2.KeyPoint_convert(kp)\n",
      "    \n",
      "    # img=cv2.drawKeypoints(gray,kp)\n",
      "    figure()\n",
      "    implot = plt.imshow(rgbFlow)\n",
      "    \n",
      "    # show key points\n",
      "    plt.scatter(points[:, 0], points[:, 1], color='r', marker='x')\n",
      "    \n",
      "    plt.show()\n",
      "    \n",
      "    # plot flow as vectors\n",
      "    figure()\n",
      "    implot = plt.imshow(cv2.cvtColor(movie[:, :, :, f-1],cv2.COLOR_BGR2RGB), alpha=0.5, cmap=cm.Greys_r)\n",
      "    print \"la\", flow.shape[0], flow.shape[1]\n",
      "    for i in xrange(20, flow.shape[0], 20) :\n",
      "        for j in xrange(20, flow.shape[1], 20) :\n",
      "            point = np.array([j, i])\n",
      "            displPoint = point+flow[i, j, :]\n",
      "            print flow[i, j, :]\n",
      "            plt.arrow(j, i, flow[i, j, 0], flow[i, j, 1], head_width=2.5, head_length=5.0, fc='k', ec='k', shape='left')\n",
      "#             plt.plot([point[0], displPoint[0]], [point[1], displPoint[1]], color='g', marker='.')\n"
     ],
     "language": "python",
     "metadata": {},
     "outputs": [
      {
       "output_type": "stream",
       "stream": "stdout",
       "text": [
        "pair ( 0 ,  1 )\n",
        "(720, 1280, 2)"
       ]
      },
      {
       "output_type": "stream",
       "stream": "stdout",
       "text": [
        "\n",
        "la"
       ]
      },
      {
       "output_type": "stream",
       "stream": "stdout",
       "text": [
        " 720 1280\n",
        "[ 0.  0.]\n",
        "[ 0.  0.]\n",
        "[ 0.  0.]\n",
        "[ 0.  0.]\n",
        "[ 0.  0.]\n",
        "[ 0.  0.]\n",
        "[ 0.  0.]\n",
        "[ 0.  0.]\n",
        "[  6.84154674e-18  -1.06544451e-18]\n",
        "[  6.89064133e-20   4.03618095e-20]\n",
        "[  3.27894110e-31   4.31106499e-32]\n",
        "[  4.02705579e-20   8.48258875e-22]\n",
        "[ -1.67931429e-20   1.10885762e-21]\n",
        "[  4.63805505e-18   4.30330705e-18]\n",
        "[  6.03261365e-16  -1.52162865e-16]\n",
        "[  1.51478525e-04   2.16037333e-05]\n",
        "[-0.00021593  0.00016677]\n",
        "[-0.00032844  0.00032865]\n",
        "[ -1.39269067e-08   1.49185202e-04]\n",
        "[ -1.08391333e-07   1.57584564e-05]\n",
        "[  1.58991224e-05   8.37404805e-05]\n",
        "[-0.05450181  0.63585293]\n",
        "[ 0.21617354  0.08235506]\n",
        "[-0.08100544  0.04512803]\n",
        "[ 0.02677098 -1.57526147]\n",
        "[ 0.02622565 -1.08463275]\n",
        "[-0.06110283 -0.86071265]\n",
        "[ 0.06314396  0.35103151]\n",
        "[ 0.06041304 -0.45411143]\n",
        "[ 0.10438828 -0.39723384]\n",
        "[ 0.22597054  0.28610849]\n",
        "[-0.04927124  0.06268146]\n",
        "[ 0.00793007 -0.07454338]\n",
        "[ 0.0586288  -0.12649558]\n",
        "[-0.03035798  0.0959978 ]\n",
        "[ 0.02920601 -0.62606722]\n",
        "[-0.00054806 -0.00086239]\n",
        "[-0.02060619 -0.04811364]\n",
        "[-0.36983392 -0.12541205]\n",
        "[-0.00564506  0.00013157]\n",
        "[ 0.03453436 -0.2007958 ]\n",
        "[ 0.00050647  0.00025339]\n",
        "[ -1.55645073e-04  -3.53331302e-06]\n",
        "[  7.54381399e-05   3.61062812e-05]\n",
        "[  9.77430914e-10   2.88781665e-09]\n",
        "[ -1.78654053e-12   5.69635398e-12]\n",
        "[ -4.07574511e-30  -2.58773458e-30]\n",
        "[ -4.07574511e-30  -2.58773458e-30]\n",
        "[ -2.07107179e-04   2.69052816e-05]\n",
        "[ -2.47735825e-05  -3.29609611e-05]\n",
        "[ -4.05711775e-30  -2.59273448e-30]\n",
        "[ -4.05711775e-30  -2.59273448e-30]\n",
        "[ -4.05711775e-30  -2.59273448e-30]\n",
        "[ -4.05711775e-30  -2.59273448e-30]\n",
        "[ -4.05711775e-30  -2.59273448e-30]\n",
        "[ -4.05711775e-30  -2.59273448e-30]\n",
        "[ -4.05711775e-30  -2.59273448e-30]\n",
        "[ -4.05711775e-30  -2.59273448e-30]\n",
        "[ -2.67951521e-14  -2.34208151e-14]\n",
        "[  6.39998871e-06   3.74476940e-06]"
       ]
      },
      {
       "output_type": "stream",
       "stream": "stdout",
       "text": [
        "\n",
        "[ -4.05821049e-30  -2.53638015e-30]\n",
        "[ -4.05689732e-30  -2.59266996e-30]\n",
        "[ -4.05689732e-30  -2.59266996e-30]\n",
        "[ 0.  0.]\n",
        "[ 0.  0.]\n",
        "[ 0.  0.]\n",
        "[ 0.  0.]\n",
        "[  7.28628038e-06   9.96718973e-06]\n",
        "[  4.61220588e-05   9.58050532e-06]\n",
        "[  5.79722424e-21   1.14409262e-23]\n",
        "[ -7.86298457e-08  -2.10873964e-06]\n",
        "[  5.91504490e-18  -1.51633507e-13]\n",
        "[  1.48902013e-16  -1.33390312e-16]\n",
        "[  9.22978164e-22   8.43271214e-21]\n",
        "[  3.83166314e-28  -2.34688497e-29]\n",
        "[ -2.38443007e-28  -2.86817251e-29]\n",
        "[  5.45873534e-14  -7.84749185e-16]\n",
        "[ -6.51321445e-14  -1.70433227e-14]\n",
        "[  3.67866782e-14   2.36975729e-14]\n",
        "[ -1.64450398e-06   2.67562328e-09]\n",
        "[ -1.71880510e-22  -8.36644230e-23]\n",
        "[ -5.90628024e-12   2.54586846e-12]\n",
        "[ 0.00022489  0.00013936]\n",
        "[ -4.44314665e-08  -1.40755212e-08]\n",
        "[ 0.03362587  0.00770278]\n",
        "[ 0.09429976  0.25817674]\n",
        "[-0.10444943 -0.00138197]\n",
        "[-0.02368714  0.02518029]\n",
        "[ 0.13826592 -0.05331156]\n",
        "[-0.10292833  0.98125207]\n",
        "[ 0.09631052  0.3949675 ]\n",
        "[-0.13472773 -0.1662394 ]\n",
        "[ 0.10142557 -0.43787545]\n",
        "[ 0.01183755  0.06220956]\n",
        "[-0.06136003  0.51097476]\n",
        "[ 0.12387691  0.00362217]\n",
        "[ 0.1074378   0.70821536]\n",
        "[-0.15121639 -0.04387003]\n",
        "[ 0.0543921  -0.57160157]\n",
        "[-0.22051938 -0.05243652]\n",
        "[ 0.02120077 -0.03056169]\n",
        "[ 0.00021854  0.0015054 ]\n",
        "[ 0.01063482  0.00287669]\n",
        "[-0.05081797 -0.1015863 ]\n",
        "[ 0.01143851  0.00812473]\n",
        "[  4.07211502e-07  -1.70077851e-06]\n",
        "[  2.03736508e-05   1.86200905e-05]\n",
        "[ -1.16882383e-07  -2.64261198e-05]\n",
        "[ -9.07244920e-16  -4.27939389e-16]\n",
        "[  7.16481745e-20  -7.77044226e-20]\n",
        "[  4.62238844e-31   5.01436392e-33]\n",
        "[ -3.59692462e-21  -6.12331379e-23]\n",
        "[  9.48825438e-22   2.42052490e-22]\n",
        "[  4.62238844e-31   5.01436392e-33]\n",
        "[  4.62238844e-31   5.01436392e-33]\n",
        "[  4.62238844e-31   5.01436392e-33]\n",
        "[  4.62238844e-31   5.01436392e-33]\n",
        "[  4.62238844e-31   5.01436392e-33]\n",
        "[  4.62238844e-31   5.01436392e-33]\n",
        "[  4.62238844e-31   5.01436392e-33]\n",
        "[  4.62238844e-31   5.01436392e-33]"
       ]
      },
      {
       "output_type": "stream",
       "stream": "stdout",
       "text": [
        "\n",
        "[ -1.88352351e-06  -2.97744759e-06]\n",
        "[ -2.71585450e-05  -2.81787470e-05]\n",
        "[  4.64156405e-31   5.14823106e-33]\n",
        "[  4.64156405e-31   1.99703817e-33]\n",
        "[  4.64156405e-31   1.99703817e-33]\n",
        "[ 0.  0.]\n",
        "[ 0.  0.]\n",
        "[ 0.  0.]\n",
        "[ -9.50207767e-20  -5.29549706e-19]\n",
        "[  9.12362097e-09  -1.07991944e-08]\n",
        "[ -6.11850851e-07   1.78969076e-05]\n",
        "[  3.10919081e-23  -1.64461879e-24]\n",
        "[ -5.74797305e-05  -1.15574594e-05]\n",
        "[  1.64305839e-05  -2.06909208e-05]\n",
        "[  3.12026842e-15   1.48699969e-16]\n",
        "[ -3.99647427e-19  -2.03952676e-19]\n",
        "[  1.57003872e-13  -1.01603228e-13]\n",
        "[  2.77105556e-07  -1.38519827e-05]\n",
        "[  3.91446656e-06  -3.92104675e-06]\n",
        "[  1.59148694e-04   4.59396887e-07]\n",
        "[  1.03750938e-20  -8.76321623e-22]\n",
        "[  7.21931624e-22   8.62959809e-22]\n",
        "[ -1.71880851e-22  -8.36643725e-23]\n",
        "[ -1.50119830e-11   3.29770217e-12]\n",
        "[  2.49033856e-05   1.52781373e-04]\n",
        "[ -3.01191612e-05   2.08531164e-05]\n",
        "[ 0.00612577  0.00658088]\n",
        "[ 0.00811912 -0.02307008]\n",
        "[-0.03693422  0.01358754]\n",
        "[ 0.11964481  0.06902993]\n",
        "[ 0.40177369  0.32616639]\n",
        "[-0.13055255 -0.89844924]\n",
        "[ 0.07649308  0.55782151]\n",
        "[-0.05080175 -0.07788289]\n",
        "[-0.02829293  0.27981898]\n",
        "[-0.06951748  0.05240391]\n",
        "[-0.06108674  0.36861765]\n",
        "[ 0.00176752 -0.67697912]\n",
        "[ 0.03395257  0.26721099]\n",
        "[-0.09790757 -0.00026782]\n",
        "[-0.0448358   0.08404296]\n",
        "[-0.00238686  0.00176669]\n",
        "[-0.00237675  0.00166646]\n",
        "[ 0.00487445  0.001083  ]\n",
        "[-0.02262435 -0.13240954]\n",
        "[ 0.02965667 -0.09153412]\n",
        "[ -3.29927716e-05   6.54868359e-07]\n",
        "[  1.94048727e-12  -1.05245931e-13]\n",
        "[  8.57090490e-05   2.84036068e-05]\n",
        "[ -9.45718966e-06  -2.61032483e-06]\n",
        "[  2.92527712e-26   2.39059906e-26]\n",
        "[  4.85309554e-18   3.89328520e-18]\n",
        "[  6.24318124e-18  -8.13416009e-33]\n",
        "[ -5.91031304e-12  -1.83001075e-13]\n",
        "[  9.49047076e-22   2.42384442e-22]\n",
        "[ -1.37753086e-05   4.29800693e-08]\n",
        "[  3.28019196e-05   6.95156677e-06]\n",
        "[ -2.10738701e-31  -1.00736845e-31]\n",
        "[ -2.10738701e-31  -1.00736845e-31]\n",
        "[ -5.72485309e-30   1.28471263e-29]\n",
        "[ -1.76073772e-14  -2.96866096e-16]"
       ]
      },
      {
       "output_type": "stream",
       "stream": "stdout",
       "text": [
        "\n",
        "[  4.37922912e-14   1.30868395e-14]\n",
        "[  1.75234705e-11   1.16297943e-10]\n",
        "[  6.23123775e-10  -8.79503204e-05]\n",
        "[  2.45575138e-05  -7.10213862e-05]\n",
        "[  9.72051232e-26   2.02378518e-24]\n",
        "[ -2.08169376e-31  -9.98541191e-32]\n",
        "[ -2.08169376e-31  -9.98541191e-32]\n",
        "[ 0.  0.]\n",
        "[ 0.  0.]\n",
        "[ 0.  0.]\n",
        "[ -1.50094570e-06   2.61766274e-07]\n",
        "[ -4.77728390e-05   9.68483982e-06]\n",
        "[  3.18520557e-12  -1.33199373e-13]\n",
        "[ -5.01371023e-30   9.46774353e-28]\n",
        "[  7.50464005e-06  -1.01200647e-04]\n",
        "[  3.60228260e-05   3.03558554e-05]\n",
        "[  1.90441776e-17   6.08101430e-17]\n",
        "[ -1.91965790e-18   5.10569065e-19]\n",
        "[  2.79385612e-16  -2.57538832e-16]\n",
        "[ -1.81281703e-05   7.53763698e-06]\n",
        "[ -1.37657880e-05  -3.98678603e-05]\n",
        "[  1.29958338e-04   1.24085009e-05]\n",
        "[  1.14512644e-09  -2.59048980e-11]\n",
        "[  3.50805480e-21   1.23404329e-20]\n",
        "[ -1.71880649e-22  -8.36643220e-23]\n",
        "[-0.00355903 -0.00138214]\n",
        "[ -3.93957052e-05  -4.88045262e-05]\n",
        "[ -5.55125234e-06  -9.47390072e-06]\n",
        "[ 0.0021359  -0.26323673]\n",
        "[-0.04186644 -0.02616582]\n",
        "[-0.01032905 -0.10903807]\n",
        "[ 0.1265714  -0.28998134]\n",
        "[ 0.56209952  0.38283876]\n",
        "[-0.0877109   0.56069636]\n",
        "[-0.12362637  0.04935984]\n",
        "[ 0.00344654 -0.64451665]\n",
        "[ 0.06370687 -0.03665679]\n",
        "[-0.08743452  0.15098076]\n",
        "[ 0.02618546 -0.14448079]\n",
        "[-0.0796445  -0.28095856]\n",
        "[-0.09238584  1.30027497]\n",
        "[ 0.16457395 -0.72732902]\n",
        "[-0.01124172  0.0280986 ]\n",
        "[-0.0128543  -0.00084646]\n",
        "[ 0.03648764 -0.09798308]\n",
        "[-0.00831385 -0.13275732]\n",
        "[ 0.00501376 -0.00077957]\n",
        "[  2.63708589e-05   2.61047239e-06]\n",
        "[  9.27174497e-08  -1.39043657e-08]\n",
        "[  1.09867063e-12  -7.15913331e-14]\n",
        "[  3.32508370e-12  -2.05687767e-12]\n",
        "[  1.25728779e-12   7.28097595e-13]\n",
        "[  6.52690626e-18   3.25522847e-18]\n",
        "[ -3.27937095e-28   5.29681194e-27]\n",
        "[  3.73420913e-31  -3.27106723e-32]\n",
        "[ -2.15211985e-12  -1.07326034e-13]\n",
        "[ -4.41701864e-14  -7.44399659e-14]\n",
        "[ -6.29180250e-19  -2.08983079e-17]\n",
        "[  1.23358034e-11  -4.12402670e-13]\n",
        "[ -2.27731083e-31  -4.93185003e-32]\n",
        "[ -4.19855060e-05   4.04340199e-06]"
       ]
      },
      {
       "output_type": "stream",
       "stream": "stdout",
       "text": [
        "\n",
        "[  3.85513340e-05  -2.94967867e-06]\n",
        "[  3.81062819e-05   1.19490323e-04]\n",
        "[  1.80454699e-05  -2.07978646e-05]\n",
        "[ -1.07787317e-04  -1.03449138e-05]\n",
        "[  1.88552320e-12   9.96082938e-11]\n",
        "[ -1.00906601e-11  -3.25689475e-11]\n",
        "[ -1.99805101e-27   5.67116727e-27]\n",
        "[ -2.28328211e-31  -4.77573909e-32]\n",
        "[ -2.28328211e-31  -4.77573909e-32]\n",
        "[ 0.  0.]\n",
        "[ 0.  0.]\n",
        "[ 0.  0.]\n",
        "[  4.16601728e-20  -3.97021459e-20]\n",
        "[  4.72533575e-17  -1.08307886e-18]\n",
        "[  1.43272521e-18   1.95405639e-19]\n",
        "[ -6.55489880e-17   8.85668899e-19]\n",
        "[  8.80598383e-13   3.04164029e-12]\n",
        "[  1.59265054e-21  -4.66739326e-21]\n",
        "[  2.25346076e-31  -3.88244508e-32]\n",
        "[  6.70868574e-35   2.09833436e-36]\n",
        "[  1.74683225e-13   6.73969611e-16]\n",
        "[ -3.63053157e-20   9.95659519e-19]\n",
        "[ -2.26885765e-17  -8.41591978e-16]\n",
        "[  2.95201113e-14   2.00317540e-12]\n",
        "[  1.70062017e-13   1.20975184e-13]\n",
        "[  4.17110194e-13   1.32616163e-16]\n",
        "[ -7.38243966e-14   1.09282819e-12]\n",
        "[-0.0001498  -0.00020094]\n",
        "[-0.00044857  0.00025582]\n",
        "[ 0.00150774  0.00538171]\n",
        "[ 0.0753588   1.09965408]\n",
        "[-0.26757869  0.33932611]\n",
        "[-0.00417996 -0.21948579]\n",
        "[-0.00744994  0.03204752]\n",
        "[ 0.6251294  -0.55896026]\n",
        "[-0.11613333 -0.71488553]\n",
        "[ 0.01135576  0.29376411]\n",
        "[ 0.03356325 -0.38996172]\n",
        "[-0.01165097 -0.19589055]\n",
        "[-0.17509614  0.72172642]\n",
        "[ 0.03106635 -0.00669488]\n",
        "[-0.02945315  1.04740644]\n",
        "[ 0.10467941  1.15289354]\n",
        "[-0.06384511  0.30178863]\n",
        "[-0.02513027  0.06046725]\n",
        "[ 0.04247059 -0.07848275]\n",
        "[ 0.13521037 -0.08756912]\n",
        "[ 0.00117898 -0.00150542]\n",
        "[  5.10452592e-05  -4.60299743e-05]\n",
        "[  2.89807103e-05  -3.24219036e-05]\n",
        "[  5.42514645e-05   5.82428765e-05]\n",
        "[ -7.21910087e-09  -4.13717171e-05]\n",
        "[  8.60530248e-15   3.26015940e-16]\n",
        "[  1.25331017e-12   1.00992261e-12]\n",
        "[  1.18772821e-17  -4.08750834e-19]\n",
        "[ -8.56125357e-28  -4.48391832e-28]\n",
        "[ -2.30757299e-32  -5.73627101e-33]\n",
        "[ -2.13822840e-12  -1.84136804e-13]\n",
        "[ -4.49191567e-14   7.74173816e-14]\n",
        "[  1.51615516e-18  -1.10254093e-17]\n",
        "[ -9.38516820e-10  -7.90121024e-11]\n",
        "[ -2.39090059e-14  -3.36734540e-17]\n",
        "[ -1.35558087e-09  -2.78643575e-09]\n",
        "[  8.30927893e-05  -1.57870418e-05]\n",
        "[  1.69440409e-05   8.13711722e-06]"
       ]
      },
      {
       "output_type": "stream",
       "stream": "stdout",
       "text": [
        "\n",
        "[ -6.05469119e-10   6.04821260e-09]\n",
        "[ -1.25280455e-13   1.08271119e-13]\n",
        "[ -6.80453034e-15  -4.69224215e-09]\n",
        "[  3.90565198e-15  -4.85228912e-16]\n",
        "[ -3.92481665e-19  -9.61739246e-20]\n",
        "[ -3.38278216e-31  -3.36833021e-33]\n",
        "[ -3.38278216e-31  -3.36833021e-33]\n",
        "[ 0.  0.]\n",
        "[ 0.  0.]\n",
        "[  7.89467947e-07  -9.69571829e-07]\n",
        "[ 0.31146914 -0.0768494 ]\n",
        "[ 0.00067816 -0.00011071]\n",
        "[  5.92716651e-06   3.48344344e-07]\n",
        "[ -1.07434843e-15   4.63456025e-15]\n",
        "[ -3.96006504e-14   6.17292187e-13]\n",
        "[  1.59217213e-21  -4.66738922e-21]\n",
        "[ -9.57784313e-26  -3.23222197e-26]\n",
        "[ -1.40853595e-26   4.36990823e-26]\n",
        "[  1.44396331e-22  -4.89480903e-23]\n",
        "[ -9.05736883e-16  -2.66311791e-16]\n",
        "[-0.00031431 -0.00031431]\n",
        "[  1.30296182e-11   2.08398251e-12]\n",
        "[  3.37327236e-12  -1.44905802e-13]\n",
        "[ -9.17289326e-19   3.13810363e-18]\n",
        "[  1.03827435e-14   2.31675378e-12]\n",
        "[  2.08713027e-04   4.51005690e-06]\n",
        "[-0.00103927  0.00206354]\n",
        "[-0.00096522 -0.00225454]\n",
        "[ 0.11726265  0.13784957]\n",
        "[ 0.02747868 -0.00772832]\n",
        "[ 0.30820668 -0.1389014 ]\n",
        "[ 0.06912978  0.00221208]\n",
        "[ 0.15339437 -0.12535244]\n",
        "[-0.09635191 -0.71360618]\n",
        "[ 0.09796914  0.64814734]\n",
        "[-0.07245805 -0.172837  ]\n",
        "[-0.0053153   0.03124924]\n",
        "[ 0.12550336 -0.41632622]\n",
        "[-0.08895543 -0.50959659]\n",
        "[ 0.19153348 -2.03653097]\n",
        "[ 0.22664432 -0.41785085]\n",
        "[-0.07679483  0.32146385]\n",
        "[-0.40280715  0.22729792]\n",
        "[-0.3664065   0.23268892]\n",
        "[-0.00036915 -0.00042342]\n",
        "[  6.10249700e-08  -2.14424101e-04]\n",
        "[ -3.41896921e-05   3.25114015e-05]\n",
        "[  1.56763745e-05  -1.98783291e-05]\n",
        "[  6.04459092e-05   3.02189965e-05]\n",
        "[ 0.00021615  0.00012167]\n",
        "[  1.74341338e-07   3.57737804e-07]\n",
        "[  7.17553566e-13   6.03078243e-14]\n",
        "[ -2.04755946e-19  -9.26524074e-19]\n",
        "[ -1.56404012e-23   6.61580596e-23]\n",
        "[ -5.30151205e-17  -4.29008333e-19]\n",
        "[ -4.79844680e-12  -1.24974995e-13]\n",
        "[ -3.51699941e-12  -3.61027262e-14]\n",
        "[ -1.18723160e-13  -3.87278453e-13]\n",
        "[ -1.72145941e-04   2.31880786e-05]\n",
        "[ -3.64932894e-05  -8.61441549e-06]\n",
        "[  1.35740720e-05  -3.94612834e-06]"
       ]
      },
      {
       "output_type": "stream",
       "stream": "stdout",
       "text": [
        "\n",
        "[ -6.40287135e-06   2.08779261e-06]\n",
        "[  5.73675981e-13  -2.61948052e-15]\n",
        "[ -5.90016864e-21   1.70966701e-21]\n",
        "[ -2.77070417e-22   4.21599138e-24]\n",
        "[ -1.49258625e-07   3.50792834e-05]\n",
        "[  4.86390818e-05  -1.02772105e-06]\n",
        "[ -8.71336958e-09  -8.17438395e-10]\n",
        "[  8.74229932e-30   3.05307311e-30]\n",
        "[  8.74229932e-30   3.05307311e-30]\n",
        "[ 0.  0.]\n",
        "[  2.85931263e-26  -1.62563278e-26]\n",
        "[ 0.40798002 -0.14124946]\n",
        "[ 0.23326635  0.0384611 ]\n",
        "[ 0.03975429 -0.11419758]\n",
        "[ 0.62364298  0.1163798 ]\n",
        "[ 0.41959733  0.04746079]\n",
        "[  8.07744291e-05  -2.23822444e-05]\n",
        "[  1.59154912e-21  -4.66645824e-21]\n",
        "[  8.57533022e-25  -3.69829924e-25]\n",
        "[  3.41139817e-25   1.80567106e-25]\n",
        "[  1.44406315e-22  -4.91393196e-23]\n",
        "[ -6.78943788e-21  -7.80227208e-21]\n",
        "[  9.19901549e-20  -2.64552471e-19]\n",
        "[  6.14683749e-22   5.31246813e-21]\n",
        "[  1.70066733e-13   1.20988641e-13]\n",
        "[  4.21587353e-13   1.11414361e-12]\n",
        "[  6.60962905e-06   1.74903307e-05]\n",
        "[  5.86541602e-04  -7.24305282e-05]\n",
        "[ -3.88168322e-04   3.12712073e-05]\n",
        "[  1.39337542e-04   4.09049717e-05]\n",
        "[ 0.20664199  0.63002908]\n",
        "[ 0.00460473  0.05356127]\n",
        "[ 0.13174565  0.3898316 ]\n",
        "[-0.03831018  0.00131512]\n",
        "[ 0.21637897 -0.34651771]\n",
        "[-0.38913596 -2.38260436]\n",
        "[-0.08467266 -1.00327528]\n",
        "[ 0.04404186 -0.66288137]\n",
        "[ 0.13677897  1.0695945 ]\n",
        "[-0.22050524 -0.55291414]\n",
        "[-0.0521756   0.10828611]\n",
        "[ 0.08646932  0.03563146]\n",
        "[ 0.16337629 -0.30432793]\n",
        "[ 0.00204112  0.26169726]\n",
        "[-0.40305293  0.40087762]\n",
        "[ 0.00110805 -0.01047851]\n",
        "[ 0.00023362  0.00025188]\n",
        "[  8.03591029e-05  -1.19062148e-04]\n",
        "[ 0.00171896  0.00014576]\n",
        "[-0.00035487  0.00183974]\n",
        "[-0.000161   0.0007006]\n",
        "[ -1.53555095e-06  -3.76168988e-04]\n",
        "[ 0.00025898 -0.00024133]\n",
        "[  1.42494910e-16   1.90067923e-17]\n",
        "[  8.78779383e-10  -5.94306071e-09]\n",
        "[ -5.51947717e-15  -6.91482733e-14]\n",
        "[  4.12079305e-16   1.56322154e-15]\n",
        "[ -1.75210803e-16  -4.96897750e-17]"
       ]
      },
      {
       "output_type": "stream",
       "stream": "stdout",
       "text": [
        "\n",
        "[ -2.31488526e-12   8.72849021e-14]\n",
        "[  1.12307304e-18  -1.31612475e-19]\n",
        "[ -2.38574453e-16  -1.36289131e-17]\n",
        "[ -3.45389662e-06   2.56589942e-06]\n",
        "[ -2.60205328e-04   1.13246360e-05]\n",
        "[  2.31255763e-05  -2.59782041e-06]\n",
        "[ -3.74457073e-07   6.95070460e-11]\n",
        "[  1.46503599e-16   2.78495003e-18]\n",
        "[ -2.77513719e-22   3.84280377e-24]\n",
        "[ -1.56836482e-08   7.57248699e-08]\n",
        "[ -3.50328664e-05   5.83943529e-06]\n",
        "[  1.84653906e-18  -1.17023568e-19]\n",
        "[ -1.50963429e-28  -1.65208714e-28]\n",
        "[ -1.50963429e-28  -1.65208714e-28]\n",
        "[ 0.  0.]\n",
        "[ -9.14314299e-15  -1.71616432e-16]\n",
        "[ 0.44582558 -0.73618025]\n",
        "[ 0.39134148  0.00782146]\n",
        "[-0.23132443 -0.41158405]\n",
        "[-0.13990043 -0.26809415]\n",
        "[ 0.49620491  0.04709214]\n",
        "[ 0.07403207 -0.36818025]\n",
        "[  5.75531849e-05  -1.07780594e-04]\n",
        "[  2.81215058e-25  -1.05075333e-26]\n",
        "[  7.57587069e-26  -3.68739318e-26]\n",
        "[ -2.01636341e-20  -1.83613352e-19]\n",
        "[ -9.90647218e-18  -1.19856168e-16]\n",
        "[ -5.11944020e-21  -1.22623895e-20]\n",
        "[  6.14581109e-22   5.31553572e-21]\n",
        "[  1.33892648e-20  -2.06687111e-21]\n",
        "[  9.59005431e-10  -6.91605606e-10]\n",
        "[  1.26536543e-04  -8.56079714e-06]\n",
        "[-0.00168397 -0.00270445]\n",
        "[ -1.62293945e-04  -5.02242547e-05]\n",
        "[ 0.00038517  0.00018558]\n",
        "[ 0.04127838 -0.32441285]\n",
        "[-0.01686658 -0.03120077]\n",
        "[-0.086578    0.22935519]\n",
        "[ 0.14607845 -0.95003843]\n",
        "[ 0.04639608  0.04527733]\n",
        "[ 0.06304727  0.14680429]\n",
        "[ 0.03792626 -0.80106229]\n",
        "[ 0.28841013  1.10068381]\n",
        "[ 0.00612368 -0.28569257]\n",
        "[-0.29954389  0.10390402]\n",
        "[-0.08900356  0.38695711]\n",
        "[ 0.27758634 -1.47098613]\n",
        "[ 0.02321227 -0.12187715]\n",
        "[-0.4613834   0.39929721]\n",
        "[-0.09962057  0.11094413]\n",
        "[-0.00360755  0.00135959]\n",
        "[ 0.00226671 -0.00107345]\n",
        "[-0.00080877 -0.00079676]\n",
        "[ -3.14585923e-05  -8.97581631e-05]\n",
        "[ -3.15736863e-04  -2.73631995e-05]\n",
        "[ 0.00045979 -0.0003981 ]\n",
        "[ 0.00397793 -0.00565621]\n",
        "[ 0.00081976 -0.00012138]\n",
        "[-0.50326526  0.04843348]\n",
        "[-0.25258493  0.01730035]\n",
        "[-0.00202402  0.02273944]\n",
        "[ -2.73399360e-06   2.81464818e-05]\n",
        "[ -2.46774252e-05   3.54552358e-05]"
       ]
      },
      {
       "output_type": "stream",
       "stream": "stdout",
       "text": [
        "\n",
        "[ -6.50065722e-12   1.58688438e-13]\n",
        "[  2.79027390e-05   4.28438725e-05]\n",
        "[ -1.40252814e-06   2.24775135e-06]\n",
        "[  1.98609958e-22   8.71771928e-22]\n",
        "[ -1.62623211e-13   4.38916237e-13]\n",
        "[  4.48962564e-05  -5.83289293e-05]\n",
        "[ -4.06677937e-05  -5.25266660e-06]\n",
        "[ -4.45678516e-08   9.32202671e-09]\n",
        "[  5.34304272e-05   3.51602685e-05]\n",
        "[ -2.39036017e-05   2.57389434e-06]\n",
        "[  1.47489331e-07   1.85842968e-08]\n",
        "[ -1.00620158e-25   7.39125074e-26]\n",
        "[  5.90690899e-28   1.23861911e-28]\n",
        "[  5.90690899e-28   1.23861911e-28]\n",
        "[ 0.  0.]\n",
        "[ -1.37269732e-27  -1.76474062e-24]\n",
        "[ 0.3297753  -0.57793647]\n",
        "[ 0.13458683 -0.53747201]\n",
        "[ 0.19180052  0.10181799]\n",
        "[ 0.70127642  0.32700753]\n",
        "[ 0.08602989 -0.22612479]\n",
        "[ 0.651052    0.54681838]\n",
        "[ 0.39250442 -0.10536555]\n",
        "[  3.14434408e-04   3.21212392e-05]\n",
        "[ -1.06698410e-18  -2.63983526e-19]\n",
        "[ -3.05327603e-06  -2.98228815e-06]\n",
        "[  1.48039533e-06  -5.35871404e-05]\n",
        "[  3.73771387e-17   1.67915050e-17]\n",
        "[ -5.57030000e-15   8.79210776e-16]\n",
        "[ -3.11900461e-09  -1.63595644e-07]\n",
        "[ -1.57709030e-06  -2.71117210e-06]\n",
        "[ 0.00114284 -0.00032896]\n",
        "[ 0.00102467 -0.00123909]\n",
        "[ -4.47472848e-05   4.11040810e-06]\n",
        "[-0.00054243 -0.00245368]\n",
        "[ 0.14069727 -1.33665967]\n",
        "[-0.04461813 -0.07348676]\n",
        "[-0.01240143  0.04973457]\n",
        "[ 0.04844391  0.7911008 ]\n",
        "[ 0.03826734 -0.00487847]\n",
        "[ 0.15643208  0.03897886]\n",
        "[ 0.10318859  0.78235948]\n",
        "[ 0.09353725  0.37405762]\n",
        "[ 0.05648983  0.15327136]\n",
        "[-0.02533946 -0.41118222]\n",
        "[-0.13961309  0.03900733]\n",
        "[-0.13302572  1.17112255]\n",
        "[-0.02357132 -0.00973849]\n",
        "[-0.17244914  0.04120898]\n",
        "[-0.00157107  0.00133084]\n",
        "[-0.00672138  0.00282757]\n",
        "[-0.00049765  0.0006257 ]\n",
        "[ -1.33872847e-04   5.55830593e-05]\n",
        "[ -3.51272101e-05  -3.72375980e-05]\n",
        "[ -1.81606330e-04   8.47539122e-05]\n",
        "[-0.00153656  0.00031683]\n",
        "[ 0.43276331 -0.47226191]\n",
        "[-0.53865325  0.03620733]"
       ]
      },
      {
       "output_type": "stream",
       "stream": "stdout",
       "text": [
        "\n",
        "[ 0.06196105 -0.02298359]\n",
        "[-0.12425149 -0.1057736 ]\n",
        "[-0.02584723  0.7605859 ]\n",
        "[ -7.43066048e-05  -2.67283409e-03]\n",
        "[ 0.00011677 -0.00070723]\n",
        "[ -3.35834414e-07   1.01330113e-06]\n",
        "[  4.48312639e-05  -4.00171994e-05]\n",
        "[  1.39682510e-04   1.42498166e-05]\n",
        "[ -1.52941047e-05   3.32620607e-06]\n",
        "[ -1.59233714e-05   8.12134931e-06]\n",
        "[  7.79572838e-06  -2.46298296e-05]\n",
        "[-0.00010323  0.00147817]\n",
        "[ -6.37907351e-06  -4.36997243e-06]\n",
        "[ -2.98805980e-06  -1.86237617e-06]\n",
        "[  1.86088480e-16   1.41894695e-17]\n",
        "[ -4.23090443e-21   9.15738052e-20]\n",
        "[  8.02659562e-26  -3.13887606e-25]\n",
        "[ -7.09347010e-28   1.74047425e-27]\n",
        "[ -7.09347010e-28   1.74047425e-27]\n",
        "[ 0.  0.]\n",
        "[  1.41279072e-26  -2.51528805e-23]\n",
        "[ 0.26320466 -0.1058726 ]\n",
        "[ 0.00646456 -0.51815355]\n",
        "[ 0.00299792 -0.07469045]\n",
        "[ 0.47260958  0.45902979]\n",
        "[ 0.6534965   0.46718872]\n",
        "[ 0.15906148 -0.26325029]\n",
        "[ 0.41069704  0.15637797]\n",
        "[-0.03593133 -0.53826213]\n",
        "[ -1.66329664e-06  -1.73937115e-05]\n",
        "[  5.40522427e-09   1.34947822e-08]\n",
        "[  1.37682218e-05   8.41036162e-05]\n",
        "[-0.0002083   0.00023977]\n",
        "[-0.00056409 -0.00085271]\n",
        "[  2.10483395e-05  -5.68118048e-05]\n",
        "[ 0.00138063  0.00249645]\n",
        "[ -7.43384473e-04   5.71372329e-05]\n",
        "[  5.60986773e-05   5.28428609e-05]\n",
        "[ 0.00020205  0.00011503]\n",
        "[-0.0001634  -0.00015905]\n",
        "[ 0.02289484 -0.38403428]\n",
        "[-0.06315574  0.00707099]\n",
        "[ 0.06930158 -0.02967933]\n",
        "[-0.15578313  1.03862143]\n",
        "[ 0.03607729 -0.13940747]\n",
        "[ 0.03625983 -0.3128809 ]\n",
        "[ 0.1953014   0.33545664]\n",
        "[ 0.08243492  0.8137688 ]\n",
        "[ 0.05420208  0.32974097]\n",
        "[ 0.25704625  0.40568075]\n",
        "[ 0.08212853 -0.18337294]\n",
        "[-0.02034736 -0.63026989]\n",
        "[ 0.02634356 -0.10304857]\n",
        "[ 0.09224585 -0.29816553]\n",
        "[-0.00320288  0.00285427]\n",
        "[-0.00079372  0.00208233]\n",
        "[ 0.00025053 -0.00181445]\n",
        "[  8.36901236e-05   3.60888487e-04]\n",
        "[-0.00019616 -0.00019166]\n",
        "[-0.00128514 -0.00453169]\n",
        "[-0.35825601  0.19091167]\n",
        "[-0.55722314  0.33089072]\n",
        "[-0.01153983 -0.0995742 ]"
       ]
      },
      {
       "output_type": "stream",
       "stream": "stdout",
       "text": [
        "\n",
        "[-0.03609477 -0.31831825]\n",
        "[-0.01515731  0.21818197]\n",
        "[ 0.04753804  1.11489475]\n",
        "[-0.00057945  0.00012672]\n",
        "[  1.24388919e-06   5.33579368e-05]\n",
        "[  6.96846928e-06  -3.06670932e-04]\n",
        "[ -1.27773539e-20   9.41487978e-24]\n",
        "[  6.57013607e-06   2.04921366e-06]\n",
        "[  1.62760280e-05   2.00869799e-05]\n",
        "[  9.25428467e-05   1.88814556e-05]\n",
        "[ 0.0010952  -0.00099498]\n",
        "[-0.00030535 -0.00058871]\n",
        "[  9.05960018e-09   3.96539193e-08]\n",
        "[  3.50562041e-05  -2.51013134e-05]\n",
        "[ -9.01944563e-09  -1.01407094e-09]\n",
        "[ -4.20705514e-21   9.15770493e-20]\n",
        "[ -1.46937965e-25   1.85456983e-25]\n",
        "[ -1.11998094e-27  -1.75066948e-28]\n",
        "[ -1.11998094e-27  -1.75066948e-28]\n",
        "[ 0.  0.]\n",
        "[  5.03391599e-13  -1.03931848e-12]\n",
        "[ 0.19251692 -0.16275162]\n",
        "[ 0.15268201 -1.1835202 ]\n",
        "[ 0.1678267   0.03631622]\n",
        "[-0.07799863 -0.19206907]\n",
        "[ 1.34355462  1.02470815]\n",
        "[ 0.69961858  0.59572637]\n",
        "[ 0.52519238  0.06729336]\n",
        "[ 0.61436534  0.38581529]\n",
        "[ 0.12404373 -0.2639226 ]\n",
        "[-0.00024128  0.00032103]\n",
        "[ 0.00730812 -0.00066139]\n",
        "[ 0.02765515 -0.17826264]\n",
        "[ 0.88786632 -0.110373  ]\n",
        "[-0.01730603 -0.12721278]\n",
        "[ 0.04090379 -0.02039304]\n",
        "[ 0.00025289  0.00014498]\n",
        "[ 0.00051924 -0.00080726]\n",
        "[  4.92433992e-06   1.47339408e-04]\n",
        "[ 0.00077758  0.00076653]\n",
        "[ 0.09861394 -2.98459601]\n",
        "[-0.00233267  0.00122601]\n",
        "[ 0.01492595 -0.09520631]\n",
        "[-0.00380287  1.32677197]\n",
        "[ 0.01882696  0.01356331]\n",
        "[ 0.073921   0.3223497]\n",
        "[ 0.01453081 -0.33405718]\n",
        "[ 0.20038798  1.37896836]\n",
        "[-0.07057919  1.51977837]\n",
        "[-0.0161515   0.76791954]\n",
        "[ 0.06121137  0.8522597 ]\n",
        "[-0.03808799  0.44041264]\n",
        "[-0.01341034  0.09360797]\n",
        "[ 0.22372442 -0.18782815]\n",
        "[ 0.26900434 -0.19143175]\n",
        "[ 0.01700548 -0.02288641]\n",
        "[-0.00136082  0.00133398]\n",
        "[ 0.001179   -0.00201501]\n",
        "[  1.00373791e-03   5.81465065e-05]\n",
        "[-0.28667885  0.19897883]\n",
        "[-0.37930968  0.21838744]\n",
        "[-0.0120542  -0.00128983]\n",
        "[ 0.03649558 -0.33146524]"
       ]
      },
      {
       "output_type": "stream",
       "stream": "stdout",
       "text": [
        "\n",
        "[ 0.16739112 -0.52145201]\n",
        "[ 0.30255249 -0.40714073]\n",
        "[-0.02538738 -0.79627013]\n",
        "[-0.00120797  0.00049006]\n",
        "[ -9.41733306e-05   3.76840209e-04]\n",
        "[ -1.28580132e-05   8.14911400e-05]\n",
        "[-0.00080555  0.00137406]\n",
        "[  4.36186212e-07   8.45128113e-07]\n",
        "[  3.99530836e-06   1.05404361e-04]\n",
        "[-0.00132413  0.00163788]\n",
        "[ -1.23175359e-05   1.92679479e-07]\n",
        "[  5.67070310e-05  -2.19174417e-05]\n",
        "[ -2.57546048e-06   3.43055513e-06]\n",
        "[  1.80613452e-19   4.17769895e-20]\n",
        "[ -1.54186505e-19   3.10596667e-21]\n",
        "[ -4.17890636e-21   9.16193777e-20]\n",
        "[  1.50714107e-25  -6.01550715e-25]\n",
        "[  8.16021332e-28  -1.10261066e-28]\n",
        "[  8.16021332e-28  -1.10261066e-28]\n",
        "[ 0.  0.]\n",
        "[  0.00000000e+00   2.98627673e-33]\n",
        "[ 0.00018016 -0.00010698]\n",
        "[ 0.232327   -0.41964668]\n",
        "[ 0.28741869 -0.31257781]\n",
        "[ 0.40830413  0.03400382]\n",
        "[ 0.18683271  0.04171993]\n",
        "[ 0.85180885  0.89384425]\n",
        "[-0.02617634 -0.68880868]\n",
        "[-0.03722055 -0.29988864]\n",
        "[ 0.10132658 -0.02078836]\n",
        "[ 0.10602815 -0.152345  ]\n",
        "[ 1.36566854 -0.46647015]\n",
        "[ 0.04685101 -0.51388466]\n",
        "[ 0.18113551 -0.09000069]\n",
        "[ 0.366624  -0.1695101]\n",
        "[ 0.32712936 -0.08515921]\n",
        "[-0.0613176  -0.25551158]\n",
        "[ 0.13957007 -0.06175197]\n",
        "[ 0.00056183  0.00017784]\n",
        "[ -4.78955772e-04  -6.42345403e-05]\n",
        "[ 0.16215855  2.33894467]\n",
        "[ 0.00356103  0.06093691]\n",
        "[-0.0673876   1.25462091]\n",
        "[-0.11879659  2.5570395 ]\n",
        "[ -1.84970522  10.04189014]\n",
        "[ 0.02402213  1.50862157]\n",
        "[ 0.06072929 -0.01608204]\n",
        "[-0.05908915 -0.30123317]\n",
        "[-0.05371834  0.50742674]\n",
        "[ 0.21729942  0.91019332]\n",
        "[-0.02406987  0.33187243]\n",
        "[-0.0251934   0.22463752]\n",
        "[-0.00013961 -0.0074918 ]\n",
        "[ 0.31434271 -0.52053756]\n",
        "[ 0.19095905  0.45068237]\n",
        "[ 0.04397912 -0.22991464]\n",
        "[-0.00159724 -0.00081204]\n",
        "[-0.00256082 -0.00176827]\n",
        "[-0.40474147  0.19232933]\n",
        "[ 0.00740558 -0.05183865]\n",
        "[-0.32299453  0.05638889]\n",
        "[ 0.0144062  0.0639446]\n",
        "[-0.07654766 -0.04393143]"
       ]
      },
      {
       "output_type": "stream",
       "stream": "stdout",
       "text": [
        "\n",
        "[ 0.01806129 -0.0136731 ]\n",
        "[-0.06304594 -0.07488555]\n",
        "[-0.16435587 -0.05635105]\n",
        "[ 0.00113612 -0.00020226]\n",
        "[  1.91426366e-07  -1.49546962e-04]\n",
        "[ 0.00061693  0.00022479]\n",
        "[-0.0001096   0.00069792]\n",
        "[ -4.95218910e-06   5.88529401e-05]\n",
        "[-0.00098018  0.00125777]\n",
        "[ -8.72449018e-05  -1.90631341e-04]\n",
        "[ -4.68908911e-05   1.26216094e-06]\n",
        "[  1.75575190e-06   3.70150929e-06]\n",
        "[ -9.06096265e-09  -3.96511730e-08]\n",
        "[  5.23644405e-22  -5.27471307e-21]\n",
        "[  6.49702762e-22  -7.03232202e-21]\n",
        "[ -4.24364374e-21   9.16224667e-20]\n",
        "[ -1.16102058e-25   2.28924846e-25]\n",
        "[ -1.32827508e-27   8.01977740e-28]\n",
        "[ -1.32827508e-27   8.01977740e-28]\n",
        "[ 0.  0.]\n",
        "[  0.00000000e+00   2.98627673e-33]\n",
        "[ -1.22233032e-04  -7.83133942e-07]\n",
        "[ 0.11315312 -0.7018863 ]\n",
        "[ 0.54237229  0.40317219]\n",
        "[-0.34034044 -0.50834322]\n",
        "[-0.00992964 -0.03175828]\n",
        "[ 1.69929528  1.86396432]\n",
        "[ 0.12480248 -0.21699455]\n",
        "[ 0.25222203 -0.11187557]\n",
        "[-0.00911434 -0.43424344]\n",
        "[-0.07919739 -0.37225607]\n",
        "[ 0.05387934 -0.2327998 ]\n",
        "[ 0.43530127 -0.14081231]\n",
        "[-0.27018926 -0.0513406 ]\n",
        "[ 0.30624953 -0.10461164]\n",
        "[ 0.32036963 -0.36306703]\n",
        "[ 0.25684786 -0.4959164 ]\n",
        "[ 0.16237301 -0.03420014]\n",
        "[-0.38272625 -0.09944767]\n",
        "[-0.00741119 -0.00607415]\n",
        "[ 0.26156399  0.16478311]\n",
        "[ 0.0268697   0.06313374]\n",
        "[ 0.00891013  0.70767641]\n",
        "[ -4.0438509   13.67605591]\n",
        "[ -2.77649999  15.17012978]\n",
        "[-0.89125466  2.96968865]\n",
        "[-0.01407877 -0.39544216]\n",
        "[ 0.38906127  0.55125904]\n",
        "[-0.0286483   0.37798634]\n",
        "[ 0.04875966  0.64030105]\n",
        "[-0.02078908 -0.3605729 ]\n",
        "[-0.002138   -0.01568967]\n",
        "[ 0.15787286  0.01852177]\n",
        "[-0.09879772  0.12489545]\n",
        "[ 0.16621605  0.06539152]\n",
        "[ 0.61717206  0.68851709]\n",
        "[-0.11404024 -0.41453254]\n",
        "[-0.57863671  0.33947146]\n",
        "[-0.22335261  0.21717322]\n",
        "[-0.19305602 -0.13932638]\n",
        "[ 0.04180488 -0.03566325]\n",
        "[-0.43364096  0.54601026]\n",
        "[-0.46343511  0.37012103]"
       ]
      },
      {
       "output_type": "stream",
       "stream": "stdout",
       "text": [
        "\n",
        "[-0.05859216  0.12120084]\n",
        "[-0.09416059 -1.04280007]\n",
        "[-0.02123507 -0.22534302]\n",
        "[ 0.00120672 -0.00058431]\n",
        "[-0.00053452 -0.00095316]\n",
        "[ -6.46889312e-05  -3.93217924e-05]\n",
        "[ 0.00014753  0.00077961]\n",
        "[-0.00057774 -0.00275798]\n",
        "[-0.00024741  0.00063864]\n",
        "[  6.96598654e-05   2.92172354e-06]\n",
        "[ -1.10196175e-04   2.04831285e-05]\n",
        "[  3.78317163e-05   5.90056788e-06]\n",
        "[  4.75294854e-07   2.39403744e-06]\n",
        "[ -6.21662230e-06   7.65268851e-06]\n",
        "[  2.46461723e-17   4.80767695e-17]\n",
        "[ -4.20092439e-21   9.16595993e-20]\n",
        "[ -2.77409988e-25   7.88969768e-25]\n",
        "[  4.66830493e-28   2.58826765e-27]\n",
        "[  4.66830493e-28   2.58826765e-27]\n",
        "[ 0.  0.]\n",
        "[  0.00000000e+00   2.98627673e-33]\n",
        "[  2.69202701e-06  -2.71941917e-05]\n",
        "[ 0.04731044 -0.09084479]\n",
        "[ 0.99379987  1.15755486]\n",
        "[ 0.19826536 -0.37513742]\n",
        "[ 0.01061401  0.00439424]\n",
        "[ 0.61700904  0.63562799]\n",
        "[ 1.69752526  1.81597114]\n",
        "[-0.13140115  0.18932566]\n",
        "[-0.15040264 -0.20709133]\n",
        "[ 0.18178087 -0.14222981]\n",
        "[ 0.02116004 -0.0192073 ]\n",
        "[ 0.16995324 -0.00540377]\n",
        "[ 0.26001522  0.04491517]\n",
        "[ 0.07913188 -0.08929694]\n",
        "[ 0.03036577  0.01847668]\n",
        "[ 0.48053518 -0.0661127 ]\n",
        "[-0.16102663 -0.197458  ]\n",
        "[-0.04410863 -0.08325966]\n",
        "[-0.30664837 -0.03942539]\n",
        "[ 0.36517128  0.34473646]\n",
        "[ 0.13123208 -0.35440183]\n",
        "[ 0.03849629  1.21492255]\n",
        "[ -1.36078751 -16.11543465]\n",
        "[-8.35176373  3.95433784]\n",
        "[-9.32088852  3.81984091]"
       ]
      },
      {
       "output_type": "stream",
       "stream": "stdout",
       "text": [
        "\n",
        "[ 0.16724598  0.15141235]\n",
        "[-0.17202696 -0.7366181 ]\n",
        "[-0.02609347 -0.16472739]\n",
        "[-0.02035083  0.08880243]\n",
        "[-0.05015432 -0.16116133]\n",
        "[-0.00514573  0.00150274]\n",
        "[ 0.14205003  0.11313722]\n",
        "[ 0.05866595 -0.13897134]\n",
        "[ 0.06638723  0.08269324]\n",
        "[ 0.38375595  0.31782416]\n",
        "[-0.10294601 -0.40598103]\n",
        "[-0.07383228 -0.11298004]\n",
        "[-0.11384245  0.04394244]\n",
        "[-0.03076664  0.01004506]\n",
        "[-0.06143051  0.16547072]\n",
        "[-0.38758484 -0.13131621]\n",
        "[ 0.01967187  0.06079928]\n",
        "[-0.11626992  0.56960046]\n",
        "[-0.05427348 -0.89483017]\n",
        "[-0.00013162  0.00521749]\n",
        "[ 0.00031632  0.00017754]\n",
        "[  6.05782043e-06  -8.85896725e-07]\n",
        "[ -6.26436668e-05  -5.30265424e-05]\n",
        "[ 0.0001546  -0.00011273]\n",
        "[  6.54694622e-06   2.12258528e-05]\n",
        "[  2.06523164e-05   8.22160200e-06]\n",
        "[ -9.30871174e-05  -7.27064398e-05]\n",
        "[ 0.00010011 -0.00025674]\n",
        "[  5.84469817e-05   5.09039346e-05]\n",
        "[ -3.68786714e-05   4.95240274e-05]\n",
        "[  1.16213399e-04   5.64570037e-05]\n",
        "[ -1.11468034e-04   9.63192142e-05]\n",
        "[ -4.18756106e-21   9.16712639e-20]\n",
        "[ -1.17083298e-24   3.97859394e-24]\n",
        "[  4.81939355e-27  -2.46160078e-27]\n",
        "[  4.81939355e-27  -2.46160078e-27]\n",
        "[ 0.  0.]\n",
        "[  0.00000000e+00   2.98627673e-33]\n",
        "[  3.17533922e-05   2.59563949e-05]\n",
        "[-0.00021115  0.00040725]\n",
        "[ 0.13023348 -0.32898924]\n",
        "[-0.00688136 -0.68856162]\n",
        "[ 0.06994412 -0.0323414 ]\n",
        "[-0.00576554  0.00611444]\n",
        "[ 1.29159153  1.04076624]\n",
        "[ 0.27274567 -0.06109703]\n",
        "[-0.13416743 -0.16488105]\n",
        "[ 0.17709331 -0.29604167]\n",
        "[ 0.06192058 -0.03608439]\n",
        "[-0.18983056 -0.29611969]\n",
        "[ 0.93888342 -0.04048543]\n",
        "[ 0.98416573 -0.04783402]\n",
        "[ 0.34948501 -0.12989597]\n",
        "[ 0.32895204 -0.44103539]\n",
        "[-0.05256611 -0.27079394]\n",
        "[ 0.00139638 -0.01728767]\n",
        "[-1.14854252  0.0084205 ]\n",
        "[-0.00228152  0.06097303]\n",
        "[-0.1858906  -0.21517056]\n",
        "[ 0.0828108   0.00138264]\n",
        "[-4.90003443 -2.25313187]"
       ]
      },
      {
       "output_type": "stream",
       "stream": "stdout",
       "text": [
        "\n",
        "[-2.2406621  -0.15686682]\n",
        "[-10.03478813   1.68011677]\n",
        "[-4.62892914  8.17692184]\n",
        "[-0.23425773 -0.60387087]\n",
        "[-0.15251042 -0.77334428]\n",
        "[ 0.03638898 -0.09153747]\n",
        "[ 0.04010768 -0.1654727 ]\n",
        "[-0.01068444 -0.42303804]\n",
        "[ 0.00607829 -0.14315525]\n",
        "[-0.00555345  0.31526008]\n",
        "[-0.02589084 -0.07384065]\n",
        "[ 0.19949323  0.19942388]\n",
        "[ 0.55084038  0.05548324]\n",
        "[-0.20021912 -0.37985784]\n",
        "[-0.02974607  0.02123851]\n",
        "[ 0.05706081 -0.10800916]\n",
        "[ 0.92024893 -1.44279814]\n",
        "[ 0.02095581 -0.3036617 ]\n",
        "[ 0.09326961  0.1029651 ]\n",
        "[-0.08892985 -0.24081485]\n",
        "[-0.00949637 -0.56449276]\n",
        "[-0.00041016  0.00077319]\n",
        "[ 0.00012397 -0.00012814]\n",
        "[  1.92540701e-05  -4.21529767e-05]\n",
        "[ -6.37271296e-05  -2.85072510e-05]\n",
        "[ -1.42443241e-04   1.13572150e-05]\n",
        "[ -8.98620056e-06   6.36247523e-06]\n",
        "[  3.53203286e-05  -3.85433450e-05]\n",
        "[  1.03036773e-05  -2.12508780e-06]\n",
        "[  1.74641131e-13  -1.63911446e-13]\n",
        "[  7.25491263e-05  -1.02559188e-05]\n",
        "[  1.16609863e-05   1.02080492e-04]\n",
        "[ 0.00024042 -0.00011212]\n",
        "[-0.0004679  -0.00025026]\n",
        "[ -4.22181150e-21   9.15005609e-20]\n",
        "[  2.30196120e-24  -8.61071655e-24]\n",
        "[ -7.22050858e-27   2.02879248e-26]\n",
        "[ -7.22050858e-27   2.02879248e-26]\n",
        "[ 0.  0.]\n",
        "[  1.12267241e-21  -1.10270739e-21]\n",
        "[ 0.00016904  0.00021469]\n",
        "[  1.82780394e-04  -5.39330213e-05]\n",
        "[-0.01829908 -0.04873426]\n",
        "[ 0.08612928 -0.71582735]\n",
        "[ 0.18479796  0.07605828]\n",
        "[-0.01399402  0.02626056]\n",
        "[-0.00010751 -0.01515319]\n",
        "[ 0.83959734  0.52719581]\n",
        "[ 0.09221014 -0.09211219]\n",
        "[ 0.39357835  0.01225877]\n",
        "[ 0.24815214 -0.17669272]\n",
        "[-0.07857173 -0.23889707]\n",
        "[ 0.11223343 -0.02163744]\n",
        "[-0.93904883  0.25673121]\n",
        "[ 0.01365217 -0.04909382]\n",
        "[ 0.43154553 -0.37239185]\n",
        "[-0.0570682  0.0122081]\n",
        "[-0.02461755 -0.01197551]\n",
        "[-0.03174999 -0.00226515]\n",
        "[-0.00048177 -0.00056232]\n",
        "[ 0.00025979  0.00482604]"
       ]
      },
      {
       "output_type": "stream",
       "stream": "stdout",
       "text": [
        "\n",
        "[-0.02560039  0.00708081]\n",
        "[-7.33150101 -0.81224412]\n",
        "[-0.91638386  0.66602254]\n",
        "[-9.28354073  1.78086793]\n",
        "[-9.2924881   0.85491264]\n",
        "[-0.2021886  -0.19504857]\n",
        "[ 0.02573408 -0.57159418]\n",
        "[ 0.27747023 -0.22551988]\n",
        "[ 0.03544602 -0.11590645]\n",
        "[-0.02289405  0.018818  ]\n",
        "[ 0.10431486 -0.06897676]\n",
        "[  2.73458165e-04  -2.95487225e-01]\n",
        "[ 0.06173463 -0.04041344]\n",
        "[-0.00844917 -0.00540439]\n",
        "[ 0.31560817  0.11622064]\n",
        "[ 0.03128261 -0.30122575]\n",
        "[-0.03671082 -0.08133731]\n",
        "[-0.18608755  0.07207552]\n",
        "[-0.14041723 -0.00571638]\n",
        "[-0.01182102 -0.00183593]\n",
        "[ 0.25004414 -0.57629853]\n",
        "[-0.02238961 -0.7189396 ]\n",
        "[-0.05757307  0.00286217]\n",
        "[-0.00053763 -0.00078811]\n",
        "[ 0.00058162  0.00078896]\n",
        "[-0.00085231 -0.00047902]\n",
        "[  1.45809790e-05  -1.90779501e-05]\n",
        "[  6.81444772e-06   1.12722073e-05]\n",
        "[ -2.58986929e-05  -5.98024644e-06]\n",
        "[  5.50054283e-05   1.26386120e-04]\n",
        "[ -8.47423158e-04  -5.65003829e-05]\n",
        "[  1.04344217e-03   2.59191565e-05]\n",
        "[ -7.02319143e-04  -5.16264754e-06]\n",
        "[ -7.60240218e-05  -1.04584018e-04]\n",
        "[ -2.42006536e-11  -3.18037333e-11]\n",
        "[  1.06767691e-20   2.81971880e-20]\n",
        "[ -4.18702791e-21   9.15220806e-20]\n",
        "[  1.22078493e-24  -5.50363602e-24]\n",
        "[ -1.58034940e-26   2.58736455e-26]\n",
        "[ -1.58034940e-26   2.58736455e-26]\n",
        "[ 0.  0.]\n",
        "[  3.65084452e-05  -1.91445488e-05]\n",
        "[ -5.33980601e-05  -4.29952161e-05]\n",
        "[  8.64523827e-07  -8.82250504e-08]\n",
        "[ 0.00028116 -0.00029973]\n",
        "[ 0.71261132  0.57484227]\n",
        "[ 0.72282207  0.26748919]\n",
        "[ 0.04413192  0.01637401]\n",
        "[ 0.02400786 -0.02976077]\n",
        "[ 0.21212517 -0.29031122]\n",
        "[ 0.71784854  0.24834289]\n",
        "[ 0.12237237 -0.04980265]\n",
        "[ 0.37633187 -0.04203336]\n",
        "[ 0.21376641 -0.29222363]\n",
        "[ 0.02514275 -0.11107577]\n",
        "[-0.0837447  -0.07022625]\n",
        "[ 0.00017441 -0.02452766]\n",
        "[-0.27084377  0.06952854]\n",
        "[-0.10672661  0.07128737]\n",
        "[-0.10033224  0.08138078]\n",
        "[ 0.00370192 -0.00302481]\n",
        "[-0.15948451 -0.10647154]\n",
        "[-0.02145097 -0.00975237]"
       ]
      },
      {
       "output_type": "stream",
       "stream": "stdout",
       "text": [
        "\n",
        "[-0.39915413 -0.07127307]\n",
        "[-8.64438534 -0.50150859]\n",
        "[-3.12228751  0.79236698]\n",
        "[-7.19355059  4.86662197]\n",
        "[-7.7155385   2.16453958]\n",
        "[-12.53715992  -5.31305027]\n",
        "[ 0.08855734 -0.20995839]\n",
        "[ 0.01799348 -0.00948039]\n",
        "[ 0.02812589 -0.14288123]\n",
        "[-0.26833618 -0.14287294]\n",
        "[ 0.07461157  0.12867667]\n",
        "[ 0.09356227  0.06636626]\n",
        "[ 0.30562392 -0.15232176]\n",
        "[ 0.03842085  0.00349356]\n",
        "[ 0.05314723 -0.62816769]\n",
        "[-0.03030294 -0.37323451]\n",
        "[-0.08690725  0.02392258]\n",
        "[-0.23048919 -0.27137065]\n",
        "[ 0.03734493  0.12127122]\n",
        "[ 0.00903474  0.01370199]\n",
        "[-0.04729791 -0.17171301]\n",
        "[-0.01238432 -0.66138321]\n",
        "[-0.00400145  0.00086786]\n",
        "[ 0.00028729 -0.00016179]\n",
        "[  2.84733804e-04  -2.05912675e-05]\n",
        "[ -1.67281774e-04  -2.48236647e-05]\n",
        "[  8.94184850e-05  -2.27486325e-07]\n",
        "[  3.60735576e-05  -8.58775384e-05]\n",
        "[  3.15369078e-04   6.71551170e-05]\n",
        "[-0.00049971 -0.00032025]\n",
        "[ -2.66461512e-07   1.53192632e-11]\n",
        "[ -1.02672220e-05   2.60183788e-06]\n",
        "[  3.33759363e-06  -4.25223743e-06]\n",
        "[  2.63617905e-10  -7.70802866e-12]\n",
        "[ -1.20940042e-13   3.08673703e-12]\n",
        "[  1.06395824e-20   2.81047150e-20]\n",
        "[ -4.19811852e-21   9.16823274e-20]\n",
        "[ -1.45389155e-24   4.46509077e-24]\n",
        "[  1.93418587e-26  -6.18862305e-27]\n",
        "[  1.93418587e-26  -6.18862305e-27]\n",
        "[ 0.  0.]\n",
        "[  5.99144187e-07  -4.02729682e-07]\n",
        "[ -8.97665013e-05  -1.17186410e-05]\n",
        "[  4.94160231e-05   1.61142627e-04]\n",
        "[ -1.31627939e-05   2.93622667e-04]\n",
        "[ 0.00173518  0.0005794 ]\n",
        "[ 1.16092324  0.90196365]\n",
        "[ 0.33191592  0.48852316]\n",
        "[-0.00840793 -0.00395764]\n",
        "[-0.00158039  0.02281056]\n",
        "[ 0.24365626  0.2861813 ]\n",
        "[ 0.3917951   0.09618404]\n",
        "[ 0.27673486 -0.2552197 ]\n",
        "[ 0.21213436 -0.24694155]\n",
        "[-0.08439836 -0.03983739]\n",
        "[ 0.0522534  -0.20465824]\n",
        "[ 0.03137134 -0.03795535]\n",
        "[-0.04177971  0.4142229 ]\n",
        "[-0.60086346 -0.00405778]\n",
        "[-1.3697716   0.02524469]\n",
        "[-1.39142835 -0.07437127]\n",
        "[ 0.36892232 -0.4139443 ]\n",
        "[ 0.03805317 -0.50221515]\n",
        "[ 0.00700378 -0.16221875]\n",
        "[-8.31820107 -0.90519011]"
       ]
      },
      {
       "output_type": "stream",
       "stream": "stdout",
       "text": [
        "\n",
        "[-1.71304512  0.937787  ]\n",
        "[-4.7055583   2.02262235]\n",
        "[-6.77118874  5.21765661]\n",
        "[-5.89633751  2.94309306]\n",
        "[-2.00147367 -1.40310228]\n",
        "[ 0.17934243  0.07317705]\n",
        "[-0.01928189 -0.29082799]\n",
        "[-0.03170875  0.17213626]\n",
        "[-0.05549784 -0.04075876]\n",
        "[ 0.03503963 -0.44556108]\n",
        "[ 0.05600004 -0.51065558]\n",
        "[ 0.06188023 -0.05934229]\n",
        "[-0.06851064 -0.11838483]\n",
        "[ 0.14773829 -0.42342636]\n",
        "[ 0.01392802 -0.00521867]\n",
        "[-0.15176736 -0.20246625]\n",
        "[ 0.12561551 -0.15195091]\n",
        "[ 0.16809693  0.02659166]\n",
        "[-0.07101115 -0.83706826]\n",
        "[ 0.05173291 -0.44377816]\n",
        "[-0.00028256  0.00031914]\n",
        "[  6.07217917e-05  -6.73756702e-04]\n",
        "[ 0.00036442  0.00258228]\n",
        "[  2.75461225e-05  -2.63419846e-04]\n",
        "[ 0.00028055  0.00061822]\n",
        "[ -3.03600746e-06   1.62706863e-06]\n",
        "[ -2.84983602e-04  -1.47637757e-05]\n",
        "[  3.41452712e-12   2.63919398e-12]\n",
        "[  1.56957172e-19  -3.89817071e-20]\n",
        "[ -2.29140533e-19   1.05557955e-18]\n",
        "[  1.08027907e-05  -1.56442238e-05]\n",
        "[  1.05034078e-05  -7.39085372e-05]\n",
        "[  2.68106589e-07   1.57030566e-09]\n",
        "[  1.06428256e-20   2.81493278e-20]\n",
        "[ -4.22816359e-21   9.16141884e-20]\n",
        "[ -2.52185914e-25   8.45429924e-25]\n",
        "[ -1.47758260e-27  -1.63772454e-27]\n",
        "[ -1.47758260e-27  -1.63772454e-27]\n",
        "[ 0.  0.]\n",
        "[ -3.93232899e-22  -6.45833986e-22]\n",
        "[ 0.00029976 -0.00015751]\n",
        "[ -2.42731840e-04  -6.40039943e-05]\n",
        "[  7.19907621e-05  -1.13289680e-04]\n",
        "[  1.03212871e-04  -4.81671013e-05]\n",
        "[ 0.37324417  0.03947617]\n",
        "[ 0.27861932 -0.386094  ]\n",
        "[ 0.02966253 -0.07008302]\n",
        "[-0.05376153 -0.0049456 ]\n",
        "[-0.28425536 -0.37425911]\n",
        "[ 0.42318246 -0.23014234]\n",
        "[ 0.34831414 -0.35357609]\n",
        "[ 0.20870441 -0.27333862]\n",
        "[ 0.25169784 -0.4734998 ]\n",
        "[ 0.13310172 -0.42357033]\n",
        "[ 0.12778306 -0.54894543]\n",
        "[ 0.30990472 -0.57479209]\n",
        "[-0.49236885 -0.32119995]\n",
        "[-0.2745505  -0.48476204]\n",
        "[-0.03277948  0.00524373]\n",
        "[ 0.45775712  0.06837756]\n",
        "[ 0.23501532 -0.31139508]\n",
        "[-0.20791405 -0.21040715]\n",
        "[-6.54042578  0.63764846]"
       ]
      },
      {
       "output_type": "stream",
       "stream": "stdout",
       "text": [
        "\n",
        "[-5.76067114  2.55981064]\n",
        "[-3.88898277  1.64457846]\n",
        "[-7.48811531  2.46520042]\n",
        "[-2.61822772  1.40456629]\n",
        "[-0.45493576  9.96307659]\n",
        "[ 0.25765789 -0.09402256]\n",
        "[-0.14976442  0.15627503]\n",
        "[-0.07397425  0.07983947]\n",
        "[-0.01670837  0.02491503]\n",
        "[-0.01468736 -0.69666523]\n",
        "[ 0.03153659 -0.59371448]\n",
        "[-0.0883794  -0.14037205]\n",
        "[-0.17768075 -0.40134585]\n",
        "[ 0.13558117 -0.28026319]\n",
        "[ 0.03226535 -0.41349548]\n",
        "[ 0.1897063  -0.01282413]\n",
        "[-0.00384584 -0.00275043]\n",
        "[ 0.03210552  0.01732875]\n",
        "[-0.16482915  0.00811601]\n",
        "[-0.22299477 -0.11289026]\n",
        "[ 0.00343596  0.00075794]\n",
        "[ 0.00026163  0.00563001]\n",
        "[-0.0002675  -0.00142328]\n",
        "[-0.0043048  -0.00120513]\n",
        "[ -2.79421420e-06   1.74480174e-05]\n",
        "[ -9.33801857e-05  -1.12588796e-05]\n",
        "[  7.69825395e-20   4.63511496e-20]\n",
        "[ -1.66332760e-19   1.58141152e-19]\n",
        "[  1.56941934e-19  -3.89309841e-20]\n",
        "[  1.84342563e-09  -1.13168797e-09]\n",
        "[ -1.71594024e-06  -1.99085971e-05]\n",
        "[ -2.29450445e-10  -6.66816255e-11]\n",
        "[  2.17951389e-13   1.15103597e-12]\n",
        "[  1.06465989e-20   2.81368135e-20]\n",
        "[ -4.20716540e-21   9.16687371e-20]\n",
        "[ -8.05617100e-25   2.06031891e-24]\n",
        "[  4.97959433e-27   3.37085465e-27]\n",
        "[  4.97959433e-27   3.37085465e-27]\n",
        "[ 0.  0.]\n",
        "[ -3.93232899e-22  -6.45833986e-22]\n",
        "[ -6.18411979e-14  -5.39124985e-14]\n",
        "[  4.10824236e-10  -7.84186605e-10]\n",
        "[  6.70841871e-07  -7.72179192e-07]\n",
        "[ -1.83530079e-04   8.21773283e-05]\n",
        "[  5.35334379e-07  -7.95637243e-05]\n",
        "[ 0.03325642 -0.43915835]\n",
        "[-0.51213551 -1.37627411]\n",
        "[-0.06575479 -0.45474279]\n",
        "[ 0.06543678 -0.21518011]\n",
        "[-0.23324734  0.38442257]\n",
        "[ 0.11050502 -0.44653866]\n",
        "[ 0.2877281 -0.4810718]\n",
        "[ 0.2262845  -0.35520402]\n",
        "[ 0.05869573 -0.21669474]\n",
        "[ 0.07720574 -0.41999167]\n",
        "[ -3.24584986e-03   2.71039244e-05]\n",
        "[ 0.00041591 -0.00411728]\n",
        "[ 0.33575696  0.10796934]\n",
        "[ 0.17804688 -0.15011299]\n",
        "[ 0.26349834 -0.23195967]\n",
        "[ 0.00237382  0.01886361]\n",
        "[ 0.2729415  -0.20170814]\n",
        "[-0.67258531 -0.4673236 ]\n",
        "[-7.0023694   0.46436641]"
       ]
      },
      {
       "output_type": "stream",
       "stream": "stdout",
       "text": [
        "\n",
        "[-3.85274553  1.50960398]\n",
        "[-7.14315271  2.45585108]\n",
        "[-6.5178709   2.81605792]\n",
        "[-1.22913635  4.32409048]\n",
        "[ 0.19992097  6.82001972]\n",
        "[-0.0695281   2.19212031]\n",
        "[-0.01565696  0.02681175]\n",
        "[-0.00045457  0.11833473]\n",
        "[-0.06120412 -0.92689019]\n",
        "[ 0.06485126 -0.00737208]\n",
        "[ 0.44960597  0.06921139]\n",
        "[ 0.44940609 -0.15494505]\n",
        "[-0.14647785 -0.37009758]\n",
        "[-0.31468603 -0.91129792]\n",
        "[-0.13141935 -0.51141661]\n",
        "[-0.12604712 -0.0416629 ]\n",
        "[ 0.0915005  -0.00782204]\n",
        "[ 0.22873321 -0.01592082]\n",
        "[-0.66719258 -0.22477697]\n",
        "[-0.30224514 -0.36012343]\n",
        "[-0.00230611  0.00260335]\n",
        "[  4.42588025e-05  -1.46287523e-04]\n",
        "[-0.0018179   0.00136348]\n",
        "[-0.00181156  0.00245544]\n",
        "[ -2.57112224e-05  -5.10051268e-06]\n",
        "[  6.78633000e-07   3.11367841e-11]\n",
        "[ -1.66363017e-19   1.58140092e-19]\n",
        "[  1.56970304e-19  -3.89356790e-20]\n",
        "[  2.43090949e-06   1.15472030e-05]\n",
        "[ -1.83118246e-07  -4.58899514e-08]\n",
        "[  7.70974213e-13  -1.69446436e-11]\n",
        "[ -1.21154104e-13   1.88131780e-12]\n",
        "[  1.06375306e-20   2.81313463e-20]\n",
        "[ -4.19237147e-21   9.16473532e-20]\n",
        "[ -7.96520350e-25   2.01049248e-24]\n",
        "[  4.46103384e-27  -3.47458523e-27]\n",
        "[  4.46103384e-27  -3.47458523e-27]\n",
        "[ 0.  0.]\n",
        "[ -3.93232899e-22  -6.45833986e-22]\n",
        "[ -6.18411979e-14  -5.39124985e-14]\n",
        "[  4.85824895e-14   4.32441328e-13]\n",
        "[  1.97935133e-14   1.30237914e-14]\n",
        "[  4.56723210e-05   3.70745038e-05]\n",
        "[ -7.50273757e-05   8.23228183e-05]\n",
        "[ 0.00459006 -0.00720673]\n",
        "[ 0.70064372  0.00434775]\n",
        "[ 0.36222965 -0.15664046]\n",
        "[-0.21891877  0.55298388]\n",
        "[-0.03794532  0.03101301]\n",
        "[-0.2256631  -0.16057429]\n",
        "[ 0.2641058  -0.48464796]\n",
        "[ 0.48735142 -0.14722082]\n",
        "[ 0.24628153  0.11706593]\n",
        "[ 0.51102042  0.62091029]\n",
        "[ 0.55896997  0.55800343]\n",
        "[ 0.01687676  0.00817214]\n",
        "[-0.00151903 -0.00040106]\n",
        "[ 0.01161622  0.00536258]\n",
        "[ 0.78243464  0.21610217]\n",
        "[ 0.42865717 -0.05972632]\n",
        "[ 0.52554804  0.00757905]\n",
        "[-0.47688246 -0.38875422]"
       ]
      },
      {
       "output_type": "stream",
       "stream": "stdout",
       "text": [
        "\n",
        "[-7.13425875 -1.53898144]\n",
        "[-5.26083994  2.81792116]\n",
        "[-5.479424    2.12323952]\n",
        "[-6.30927086  1.95216775]\n",
        "[-0.40460852  0.16152407]\n",
        "[  0.68660063  10.32790184]\n",
        "[ 0.1352835   3.23144579]\n",
        "[-0.13218945  0.10662415]\n",
        "[-0.00384256 -0.10705265]\n",
        "[  6.06885762e-04  -1.08816862e+00]\n",
        "[ 0.02972673 -0.27473399]\n",
        "[-0.25147405 -0.18706134]\n",
        "[ 0.36982983 -0.04906417]\n",
        "[-0.33496696 -0.26656967]\n",
        "[ 0.30876145  1.1172508 ]\n",
        "[-0.07227431 -0.12193644]\n",
        "[-0.2918205  -0.16302851]\n",
        "[-0.25413266 -0.19294578]\n",
        "[-0.17491655 -0.32931566]\n",
        "[-0.11699875 -0.16238523]\n",
        "[-0.33100647 -0.30981642]\n",
        "[-0.0486308   0.04023087]\n",
        "[-0.0010726   0.00079462]\n",
        "[ -3.12923185e-05  -2.49204721e-04]\n",
        "[ -5.81693803e-06  -2.99717649e-05]\n",
        "[  3.15028847e-05  -1.49155312e-06]\n",
        "[  7.69239648e-20   4.64293085e-20]\n",
        "[ -1.66382676e-19   1.58140997e-19]\n",
        "[  1.57030391e-19  -3.89319793e-20]\n",
        "[  1.07909668e-16   1.37507191e-15]\n",
        "[  1.58837707e-08   6.24515151e-09]\n",
        "[ -8.36619940e-11  -3.91241173e-09]\n",
        "[  2.16547903e-13   3.56145235e-12]\n",
        "[  1.06266375e-20   2.81359088e-20]\n",
        "[ -4.18039472e-21   9.16231517e-20]\n",
        "[ -1.15361835e-25   3.03766324e-25]\n",
        "[  9.70155046e-28  -3.32720142e-28]\n",
        "[  9.70155046e-28  -3.32720142e-28]\n",
        "[ 0.  0.]\n",
        "[ -3.93232899e-22  -6.45833986e-22]\n",
        "[ -6.18411979e-14  -5.39124985e-14]\n",
        "[  4.85824895e-14   4.32441328e-13]\n",
        "[  1.97935133e-14   1.30237914e-14]\n",
        "[  1.58575960e-04   3.65678934e-05]\n",
        "[ 0.00235497 -0.00150506]\n",
        "[-0.00012689 -0.00013327]\n",
        "[ 0.20524482 -0.42497844]\n",
        "[ 0.31784046 -0.07356758]\n",
        "[ 0.37907454 -0.21433842]\n",
        "[-0.72834629  0.15479781]\n",
        "[-0.43607417  0.10816281]\n",
        "[ 0.36860499 -0.30215874]\n",
        "[ 0.30613065 -0.23780942]\n",
        "[-0.00405946 -0.35311756]\n",
        "[ 0.38098609  0.08369308]\n",
        "[ 0.43977326 -0.01498341]\n",
        "[ 0.13015594  0.34051445]\n",
        "[ 0.00458234 -0.02024959]\n",
        "[ 0.08908091  0.06325307]\n",
        "[ 0.03540538 -0.05766583]\n",
        "[ 0.27073064 -0.10508976]\n",
        "[ 0.20462342 -0.21007358]\n",
        "[-0.08755049  0.08333815]\n",
        "[-7.57044506 -3.04818201]\n",
        "[-5.79020691  1.16292131]"
       ]
      },
      {
       "output_type": "stream",
       "stream": "stdout",
       "text": [
        "\n",
        "[-5.02910233  1.82013297]\n",
        "[-5.8158741   1.83440709]\n",
        "[-6.44486761  0.48378962]\n",
        "[-0.97431004  4.36786652]\n",
        "[-0.35777092  2.61893511]\n",
        "[-0.11042525  0.74278212]\n",
        "[-0.01179236  0.09674366]\n",
        "[ 0.3619332   1.82279205]\n",
        "[-0.00489418 -0.46058044]\n",
        "[-0.40370238 -0.14670877]\n",
        "[ 0.99020773  0.03144615]\n",
        "[-0.13647003  0.18790345]\n",
        "[-0.01852171 -0.40528831]\n",
        "[-0.29078564 -0.66900647]\n",
        "[-0.18168163 -0.32820281]\n",
        "[ 0.00211755 -0.00234369]\n",
        "[ 0.0007159   0.00133797]\n",
        "[-0.00526373  0.00329804]\n",
        "[-0.22025843 -0.20550585]\n",
        "[-0.35361829 -0.2289204 ]\n",
        "[-0.10615873 -0.0308014 ]\n",
        "[-0.0009794 -0.0001783]\n",
        "[ -6.14239398e-05   1.88528473e-04]\n",
        "[ -1.80062420e-06  -8.29660166e-06]\n",
        "[  3.56080285e-08  -6.57023520e-08]\n",
        "[ -1.66394062e-19   1.58103838e-19]\n",
        "[  1.56995869e-19  -3.89320407e-20]\n",
        "[ -1.71178811e-19   1.09934537e-18]\n",
        "[  4.24815626e-05  -2.79307369e-05]\n",
        "[ -8.46482999e-06  -8.23774735e-06]\n",
        "[ -1.83897639e-21   4.53331817e-12]\n",
        "[  1.06119405e-20   2.81075681e-20]\n",
        "[ -4.18718018e-21   9.17065677e-20]\n",
        "[ -1.19395074e-24   4.13340790e-24]\n",
        "[  9.88810336e-27   1.38220495e-26]\n",
        "[  9.88810336e-27   1.38220495e-26]\n",
        "[ 0.  0.]\n",
        "[ -3.93232899e-22  -6.45833986e-22]\n",
        "[ -6.18411979e-14  -5.39124985e-14]\n",
        "[  4.85824895e-14   4.32441328e-13]\n",
        "[  1.97935133e-14   1.30237914e-14]\n",
        "[  1.72919249e-06   8.07221568e-07]\n",
        "[-0.000801   0.0001604]\n",
        "[ -7.50764855e-04   9.75374205e-05]\n",
        "[ 0.13438353 -0.32894665]\n",
        "[ 0.62085366 -0.87582201]\n",
        "[ 0.08793993 -0.38491344]\n",
        "[ 0.15299036 -0.37426794]\n",
        "[-0.03591647  0.03914653]\n",
        "[ 0.01703974  0.00252093]\n",
        "[ 0.36497703 -0.46079502]\n",
        "[-0.64088047 -1.53434813]\n",
        "[-0.39847508 -1.37187076]\n",
        "[-0.05861724 -0.75349975]\n",
        "[ 0.17354697 -0.25724068]\n",
        "[-0.20653453 -0.13705283]\n",
        "[ 0.09503985 -0.05082516]\n",
        "[-0.03264416 -0.02140919]\n",
        "[ 0.04324232 -0.00866016]\n",
        "[ 0.06702742  0.02287698]\n",
        "[-0.08140899 -0.07649158]\n",
        "[-0.57152861 -0.03486351]\n",
        "[-4.84933233  1.37479782]\n",
        "[-4.77194929  2.31351328]"
       ]
      },
      {
       "output_type": "stream",
       "stream": "stdout",
       "text": [
        "\n",
        "[-5.37594128  1.79657125]\n",
        "[-5.17877769  1.65321898]\n",
        "[-0.32729983  3.69571328]\n",
        "[ 0.01961312  0.34830844]\n",
        "[-0.36449495  1.03475177]\n",
        "[-0.13682653  0.24599922]\n",
        "[ 0.20648621  0.32186997]\n",
        "[-0.0243442  -0.50195664]\n",
        "[ 0.34976611 -0.0659134 ]\n",
        "[ 0.381749  -0.0771386]\n",
        "[-0.06105011  0.63711816]\n",
        "[-0.04985228  0.20979312]\n",
        "[-0.12050594 -0.15700868]\n",
        "[ 0.0369597   0.38966197]\n",
        "[ -1.22070045e-03   4.93553889e-05]\n",
        "[ 0.00015788  0.00194359]\n",
        "[ 0.00016691  0.00087327]\n",
        "[ -2.38368195e-03   3.95999486e-05]\n",
        "[-0.3536095  -0.20292878]\n",
        "[-0.53489852 -0.42184374]\n",
        "[-0.00100381  0.00161094]\n",
        "[  2.19283131e-04  -3.81906139e-05]\n",
        "[ -8.62075321e-05  -8.32199221e-05]\n",
        "[ -3.10100035e-08  -4.24643076e-08]\n",
        "[ -1.66234287e-19   1.58161289e-19]\n",
        "[  1.56915219e-19  -3.88951310e-20]\n",
        "[ -1.71192472e-19   1.09921467e-18]\n",
        "[ -4.23632596e-09   1.60997242e-08]\n",
        "[  3.03794167e-07   3.42665262e-05]\n",
        "[  2.13856438e-07   3.97423321e-07]\n",
        "[  1.06815068e-20   2.81812615e-20]\n",
        "[ -4.24268085e-21   9.16843501e-20]\n",
        "[ -4.67228049e-14  -2.66645019e-15]\n",
        "[ -3.61235253e-16  -3.65861773e-16]\n",
        "[  2.71990246e-27  -2.58391682e-26]\n",
        "[ 0.  0.]\n",
        "[ -3.93232899e-22  -6.45833986e-22]\n",
        "[ -6.18411979e-14  -5.39124985e-14]\n",
        "[  4.85824895e-14   4.32441328e-13]\n",
        "[  1.97935133e-14   1.30237914e-14]\n",
        "[  1.23411837e-06  -5.27480154e-07]\n",
        "[ 0.00031084  0.00041853]\n",
        "[-0.00139659  0.00171024]\n",
        "[-0.12361729  0.2669512 ]\n",
        "[ 0.39715877 -0.43678316]\n",
        "[ 0.02303572 -0.04997904]\n",
        "[-0.03764411 -0.55145776]\n",
        "[ 0.49173498  0.30274245]\n",
        "[-0.01036774 -0.04600795]\n",
        "[ 0.00922246 -0.00290755]\n",
        "[-0.08333343 -0.787902  ]\n",
        "[-0.14102463 -0.4930647 ]\n",
        "[-0.39392212 -1.16775298]\n",
        "[ 0.39839971  0.19175974]\n",
        "[ 0.12011915 -0.16639179]\n",
        "[-0.04541926  0.3667351 ]\n",
        "[-0.11398398  0.18071604]\n",
        "[ 0.12002739 -0.04495911]\n",
        "[ 0.46415573  0.1738897 ]\n",
        "[ 0.04038855 -0.25648847]\n",
        "[-0.1758232  -0.10617271]\n",
        "[-4.87953234  0.20968741]\n",
        "[-4.56903934  1.33902705]\n",
        "[-4.19168139  1.36799872]"
       ]
      },
      {
       "output_type": "stream",
       "stream": "stdout",
       "text": [
        "\n",
        "[-4.4782815   1.57329559]\n",
        "[-4.59064388  1.07472229]\n",
        "[ 0.01026676  0.00268634]\n",
        "[-0.19827197  0.0231743 ]\n",
        "[-0.11055546  0.15181294]\n",
        "[ 0.04179421  0.31266266]\n",
        "[ 0.00493757 -0.76758856]\n",
        "[ 0.05090943 -0.3497999 ]\n",
        "[ 0.34639695 -0.28211445]\n",
        "[-0.13691385 -0.18763237]\n",
        "[-0.31469968 -0.14837955]\n",
        "[-0.14366241 -1.1189872 ]\n",
        "[-0.05570335 -0.35921669]\n",
        "[-0.00020723 -0.00070237]\n",
        "[ 0.00063804  0.00028586]\n",
        "[ -2.81497661e-04  -6.38757192e-05]\n",
        "[-0.00041593 -0.00030674]\n",
        "[ -3.25334477e-05  -1.81219966e-05]\n",
        "[  6.56974807e-05   1.41831886e-04]\n",
        "[ -3.56475211e-05   1.54174655e-03]\n",
        "[ -1.11528907e-05   9.15946021e-06]\n",
        "[  7.19506248e-17   2.37534551e-15]\n",
        "[ -8.54363097e-05   1.11654910e-04]\n",
        "[ -7.27723730e-08  -1.86946818e-06]\n",
        "[ -4.63454969e-10  -2.59114119e-10]\n",
        "[ -1.71323128e-19   1.09953448e-18]\n",
        "[  1.40707530e-12   1.15994679e-11]\n",
        "[  5.09286883e-12  -2.36776625e-18]\n",
        "[  3.57739771e-12   5.65475878e-12]\n",
        "[  1.21734240e-20   3.37553279e-20]\n",
        "[ -1.22780137e-11   5.51097232e-12]\n",
        "[ -4.50683910e-05   5.85803100e-05]\n",
        "[ -5.23623930e-05   1.80331301e-06]\n",
        "[  6.47328455e-22  -2.18689247e-21]\n",
        "[ 0.  0.]\n",
        "[ -3.93232899e-22  -6.45833986e-22]\n",
        "[ -6.18411979e-14  -5.39124985e-14]\n",
        "[  4.85824895e-14   4.32441328e-13]\n",
        "[  1.97935133e-14   1.30237914e-14]\n",
        "[ -8.13370638e-14   1.67837556e-15]\n",
        "[ -6.43113018e-14  -2.58084759e-13]\n",
        "[-0.25025129  0.27426672]\n",
        "[ 0.44310236 -0.52846456]\n",
        "[ 0.11530688 -0.11639441]\n",
        "[-0.00057225  0.00039908]\n",
        "[-0.00459826 -0.00136793]\n",
        "[-0.41692081 -0.96428776]\n",
        "[ 0.31247798 -0.13504487]\n",
        "[-0.02549603 -0.00872591]\n",
        "[ 0.20047355 -0.01380636]\n",
        "[ 0.04289235 -0.58138472]\n",
        "[ 0.08610206 -0.43031234]\n",
        "[ 0.30097941  0.05556931]\n",
        "[ 0.1078309  -0.39170754]\n",
        "[-0.01051071  0.19201103]\n",
        "[ 0.13046433  0.67506438]\n",
        "[-0.02129074 -0.04038498]\n",
        "[-0.0185132  -0.14946708]\n",
        "[-0.05131369 -0.33924285]\n",
        "[-0.07116655 -0.08432095]"
       ]
      },
      {
       "output_type": "stream",
       "stream": "stdout",
       "text": [
        "\n",
        "[-0.40803576 -0.16976844]\n",
        "[-2.8045001   2.16104889]\n",
        "[-3.85478663  1.69278085]\n",
        "[-3.62923503  0.9377932 ]\n",
        "[-4.04687738  1.19190872]\n",
        "[-2.80261159  2.35063744]\n",
        "[-0.03603226  0.00698967]\n",
        "[-0.54176402  0.16353334]\n",
        "[ 0.03417061  0.09811931]\n",
        "[-0.01992452 -0.81925052]\n",
        "[ 0.10267901 -0.35419846]\n",
        "[ 0.08549464 -0.02455114]\n",
        "[-0.13364221 -0.02605369]\n",
        "[-0.33068827 -0.83859092]\n",
        "[-0.12712272 -0.8334372 ]\n",
        "[-0.01729131 -1.11639822]\n",
        "[-0.00040131 -0.00011583]\n",
        "[ -6.37075049e-04  -6.22257867e-05]\n",
        "[ -6.96901625e-05   1.00482270e-04]\n",
        "[ -9.61925025e-07   7.21558536e-05]\n",
        "[  4.87987890e-08  -2.13619591e-11]\n",
        "[  5.41464142e-05   1.30049557e-05]\n",
        "[ 0.00432969 -0.00612727]\n",
        "[-0.39431947 -0.02869163]\n",
        "[-0.96751279 -0.16966812]\n",
        "[-0.74117196 -0.18076196]\n",
        "[ 1.86315155 -0.12367757]\n",
        "[ 1.65252435 -0.18186662]\n",
        "[-0.33065674 -0.28502709]\n",
        "[  3.33919161e-05  -6.67685745e-05]\n",
        "[  2.03461871e-14  -1.18604150e-12]\n",
        "[  4.77633449e-13   1.25232745e-12]\n",
        "[  8.53200930e-12  -5.84301194e-17]\n",
        "[ -3.32205487e-12  -1.24657619e-11]\n",
        "[ -5.51031771e-05   4.81384886e-05]\n",
        "[ -8.46830472e-13  -2.07315803e-14]\n",
        "[  9.05788976e-16   4.36749246e-15]\n",
        "[ 0.  0.]\n",
        "[ -3.93232899e-22  -6.45833986e-22]\n",
        "[ -6.18411979e-14  -5.39124985e-14]\n",
        "[  4.85824895e-14   4.32441328e-13]\n",
        "[  1.97935133e-14   1.30237914e-14]\n",
        "[ -8.13370638e-14   1.67837556e-15]\n",
        "[ -3.14530540e-14  -2.34517456e-13]\n",
        "[ 0.41012383 -0.62185758]\n",
        "[ 0.77725363 -0.69871759]\n",
        "[  1.25234081e-08   1.43693557e-09]\n",
        "[  1.27151301e-14   6.99478588e-14]\n",
        "[ 0.00015974  0.00011672]\n",
        "[-0.01923498 -0.0450588 ]\n",
        "[-0.35587671 -0.85700214]\n",
        "[-0.40133557 -0.74710643]\n",
        "[-0.01222848  0.01418153]\n",
        "[ 0.03022311 -0.31854483]\n",
        "[ 0.48944858  0.3397699 ]\n",
        "[ 0.43575388  0.19270734]\n",
        "[ 0.09202789 -1.21590352]\n",
        "[ 0.00290049  0.04531917]\n",
        "[ 0.00403091  0.05697357]\n",
        "[ 0.07159793  0.2051975 ]\n",
        "[-0.09850021 -0.40992928]\n",
        "[-0.07083044 -0.25619099]\n",
        "[-0.38315284 -0.46727321]\n",
        "[-0.01607044  0.01871756]\n",
        "[-1.55333984  0.80908674]"
       ]
      },
      {
       "output_type": "stream",
       "stream": "stdout",
       "text": [
        "\n",
        "[-1.24168909  2.81061769]\n",
        "[-3.20023704  1.29211283]\n",
        "[-4.11575222  1.33983576]\n",
        "[-3.9485302   0.68635809]\n",
        "[-2.64385343  0.64448154]\n",
        "[-0.48567438  0.30228406]\n",
        "[-0.3245309  -0.14240274]\n",
        "[ 0.07898842 -0.34191599]\n",
        "[ 0.06859376 -0.28130677]\n",
        "[ 0.33436722 -0.11264311]\n",
        "[-0.27369267 -0.09939069]\n",
        "[-0.16014826  0.00144871]\n",
        "[-0.08445738 -0.28352907]\n",
        "[ 0.00731945 -1.09939933]\n",
        "[-0.00054927 -0.00055817]\n",
        "[  3.59274163e-05  -4.90468461e-04]\n",
        "[-0.0013035   0.00527549]\n",
        "[-0.00022966 -0.00033979]\n",
        "[-0.002159    0.00115096]\n",
        "[-0.71332824  0.14516576]\n",
        "[-0.77604049 -0.15233485]\n",
        "[-0.75219953 -0.08486337]\n",
        "[-1.11268413  0.02052691]\n",
        "[-0.94301289 -0.05454741]\n",
        "[-2.2454493  -0.30057919]\n",
        "[-0.27785483 -0.15065725]\n",
        "[-0.89516479 -0.26276138]\n",
        "[-0.51639438 -0.27835691]\n",
        "[-0.03358219 -0.09692854]\n",
        "[ 1.47470903 -0.02347357]\n",
        "[ 0.9138242   0.02396847]\n",
        "[-0.02719648 -0.02313703]\n",
        "[ -6.98488520e-06   3.50831419e-06]\n",
        "[ -2.55321771e-11  -2.54245791e-10]\n",
        "[  9.93999461e-09   1.51177992e-09]\n",
        "[ 0.  0.]\n",
        "[ -3.93232899e-22  -6.45833986e-22]\n",
        "[ -6.18411979e-14  -5.39124985e-14]\n",
        "[  4.85824895e-14   4.32441328e-13]\n",
        "[  1.97935133e-14   1.30237914e-14]\n",
        "[ -8.13370638e-14   1.67837556e-15]\n",
        "[ -1.16863891e-14  -1.10960801e-13]\n",
        "[ 0.00074258  0.00010596]\n",
        "[  3.20329535e-04  -2.83973550e-05]\n",
        "[ -7.40498884e-10   9.45976075e-10]\n",
        "[ -6.65743163e-14  -7.29610599e-14]\n",
        "[ -5.54091583e-14   5.02333736e-14]\n",
        "[  4.48064830e-09   4.71854467e-09]\n",
        "[ 0.03525634 -0.03219081]\n",
        "[ 0.12030742 -0.40824664]\n",
        "[-0.94462097 -0.92548102]\n",
        "[-0.0139631  -0.02916555]\n",
        "[ 0.22403799  0.23183604]\n",
        "[ 0.42213356  0.12120083]\n",
        "[-0.01538651 -1.2555356 ]\n",
        "[ 0.00153358  0.00065016]\n",
        "[-0.03774955  0.01998568]\n",
        "[ 0.01956719 -0.07392655]\n",
        "[ 0.09935529 -0.52565962]\n",
        "[ 0.0397863  -0.16069946]\n",
        "[-0.38437083 -0.36904287]\n",
        "[-0.14441574 -0.41879898]\n",
        "[ 0.09296533 -0.39183798]"
       ]
      },
      {
       "output_type": "stream",
       "stream": "stdout",
       "text": [
        "\n",
        "[-2.06213117  1.53909683]\n",
        "[-2.85729122  0.33051598]\n",
        "[-2.85361099  0.96624345]\n",
        "[-3.20248199  0.94595385]\n",
        "[-3.2956934   0.53031021]\n",
        "[-0.15500766 -0.01736183]\n",
        "[-0.18062116  0.11135068]\n",
        "[ 0.03244988 -0.43754476]\n",
        "[-0.00082891 -0.00347978]\n",
        "[ 0.03822777 -0.38408196]\n",
        "[-0.00990989 -0.18036467]\n",
        "[-0.22597837  0.23505753]\n",
        "[-0.13225338  0.26749781]\n",
        "[-0.05412999 -2.6135838 ]\n",
        "[ 0.00050284  0.0014551 ]\n",
        "[ 0.00227989  0.00081266]\n",
        "[  4.19876073e-04  -2.37199674e-05]\n",
        "[-0.02224283 -0.02998168]\n",
        "[-0.94573927  0.13428187]\n",
        "[-1.17627668  0.11295028]\n",
        "[-0.89105648 -0.14697689]\n",
        "[-0.88180792 -0.3526569 ]\n",
        "[-1.17596555 -0.42699227]\n",
        "[ 0.02525142 -0.09425285]\n",
        "[-0.06915994 -0.03862035]\n",
        "[-0.01412132 -0.04825414]\n",
        "[-0.13333587 -0.06316717]\n",
        "[-0.02166263 -0.00124829]\n",
        "[-0.02238324  0.0108816 ]\n",
        "[ 0.02952958 -0.05565472]\n",
        "[ 0.02909968 -0.02858092]\n",
        "[-0.25975353 -0.13021214]\n",
        "[ 0.02255008 -0.01771589]\n",
        "[-0.21855012 -0.07356156]\n",
        "[  3.97743679e-06   1.33263006e-06]\n",
        "[ 0.  0.]\n",
        "[ -3.93232899e-22  -6.45833986e-22]\n",
        "[ -6.18411979e-14  -5.39124985e-14]\n",
        "[  4.85824895e-14   4.32441328e-13]\n",
        "[  1.97935133e-14   1.30237914e-14]\n",
        "[ -8.13370638e-14   1.67837556e-15]\n",
        "[ -3.14530540e-14  -2.34517456e-13]\n",
        "[  1.17913501e-09  -4.70478656e-10]\n",
        "[ -2.38120079e-10   2.56013418e-12]\n",
        "[  3.02268419e-11   2.75804934e-11]\n",
        "[ -1.56605395e-09   5.51598056e-09]\n",
        "[ -1.24785859e-11  -1.84206313e-11]\n",
        "[ -2.21087729e-13  -2.00406369e-13]\n",
        "[ -4.54342758e-10  -2.97749336e-09]\n",
        "[-0.00219023 -0.00190749]\n",
        "[ 0.22766294 -0.2356915 ]\n",
        "[ 0.90026689 -0.21136528]\n",
        "[ 0.30587357 -0.06419346]\n",
        "[ 0.43133709 -0.18018088]\n",
        "[ 0.03299266 -0.67900521]\n",
        "[ 0.02600071 -0.01812293]\n",
        "[ 0.0042676  -0.00645014]\n",
        "[ 0.05142146  0.04388275]\n",
        "[ 0.0795377 -0.1067766]\n",
        "[-0.37876844  0.07522213]\n",
        "[ 0.16973464 -0.25900796]\n",
        "[-0.05664755 -0.2592316 ]\n",
        "[-0.01717529 -0.6751312 ]"
       ]
      },
      {
       "output_type": "stream",
       "stream": "stdout",
       "text": [
        "\n",
        "[-0.07594758 -0.06401882]\n",
        "[-2.6716969   0.02078669]\n",
        "[-2.18700552  0.53293359]\n",
        "[-2.34055924  0.83837849]\n",
        "[-2.75305915  0.58765608]\n",
        "[-2.45011783  0.42661026]\n",
        "[-0.01289724  0.93200219]\n",
        "[-0.04774933 -0.40947166]\n",
        "[-0.00797484 -0.38766098]\n",
        "[ 0.1792247  -0.06314208]\n",
        "[-0.02018705  0.18004832]\n",
        "[-0.34520486  0.227424  ]\n",
        "[-0.14594592 -0.05848544]\n",
        "[-0.00641496 -1.11246896]\n",
        "[ 0.00664317 -0.0025023 ]\n",
        "[ 0.19447349 -0.09978012]\n",
        "[-0.17624986 -0.3362335 ]\n",
        "[ 0.02053948 -0.80218118]\n",
        "[-0.65143949 -0.02458278]\n",
        "[-0.12353981 -0.05201465]\n",
        "[-0.01990532 -0.00122394]\n",
        "[-0.74109483  0.10914607]\n",
        "[-0.11967421 -0.00134252]\n",
        "[-0.40787977 -0.01966847]\n",
        "[-0.12269216 -0.31885046]\n",
        "[-2.05925918 -0.14791623]\n",
        "[-3.35554433 -0.12576914]\n",
        "[-1.56694782 -0.29788557]\n",
        "[-1.79016292 -0.41120908]\n",
        "[ 2.28494239 -0.07871526]\n",
        "[ 2.40139937 -0.07308073]\n",
        "[ 0.86131918 -0.11802607]\n",
        "[-0.1393232  -0.10096201]\n",
        "[-0.10835661 -0.01829678]\n",
        "[-0.17221934  0.01938012]\n",
        "[ 0.  0.]\n",
        "[ -3.93232899e-22  -6.45833986e-22]\n",
        "[ -6.18411979e-14  -5.39124985e-14]\n",
        "[  4.85824895e-14   4.32441328e-13]\n",
        "[  1.97935133e-14   1.30237914e-14]\n",
        "[ -8.13370638e-14   1.67837556e-15]\n",
        "[ -3.14530540e-14  -2.34517456e-13]\n",
        "[ -3.75800248e-13   1.06684667e-13]\n",
        "[ -6.23894789e-14   1.56971536e-13]\n",
        "[ -1.79135725e-06  -5.63353115e-06]\n",
        "[ -2.38041961e-04  -9.68373497e-05]\n",
        "[ -3.30292516e-10  -1.52789137e-09]\n",
        "[  8.93540708e-09   3.45694673e-09]\n",
        "[ -1.38027976e-13  -5.86559406e-14]\n",
        "[ -1.25076680e-04  -3.12000566e-07]\n",
        "[  2.80507102e-05  -3.03605175e-05]\n",
        "[ 0.0002925  -0.00025028]\n",
        "[ 0.27573118 -0.07755692]\n",
        "[ 0.03033191  0.00767683]\n",
        "[ 0.05408786 -0.54273641]\n",
        "[ 0.09104019 -0.47916007]\n",
        "[-0.00043327 -0.02623045]\n",
        "[ 0.00893138 -0.01225182]\n",
        "[ 0.0097922 -0.0071044]\n",
        "[ 0.02643099  0.13053158]\n",
        "[-0.10111804 -0.10120122]\n",
        "[-0.15894468 -0.06556626]\n",
        "[-0.21497284 -0.60790855]\n",
        "[-0.10555147 -0.45815638]\n",
        "[-0.02297217 -0.15973678]"
       ]
      },
      {
       "output_type": "stream",
       "stream": "stdout",
       "text": [
        "\n",
        "[-0.10000468  1.75863087]\n",
        "[-1.21755886  0.5880475 ]\n",
        "[-1.85783386  0.41736925]\n",
        "[-2.12708282  0.53968841]\n",
        "[-1.33040679  0.74279553]\n",
        "[ 0.05146746  0.07945408]\n",
        "[ 0.00818835 -0.27771574]\n",
        "[ 0.31935188 -0.29224554]\n",
        "[-0.35515252 -0.35553095]\n",
        "[-0.41336852 -0.32337788]\n",
        "[-0.05958033 -0.19734678]\n",
        "[-0.02461123 -0.4898468 ]\n",
        "[ 1.05419993 -0.66990799]\n",
        "[ 0.67439371 -0.68043113]\n",
        "[-0.29489061 -0.92889845]\n",
        "[-0.10786683 -0.00595436]\n",
        "[ 0.03450195 -0.0360489 ]\n",
        "[-0.01655763 -0.02801248]\n",
        "[-0.81087267  0.00889507]\n",
        "[-0.88509071 -0.109343  ]\n",
        "[-1.30247438  0.01640778]\n",
        "[-0.38928306 -0.04892761]\n",
        "[-0.2528168  -0.00444865]\n",
        "[-0.00174897 -0.00041968]\n",
        "[ -1.65324949e-04   1.48593983e-06]\n",
        "[ -5.51396406e-05  -7.44852741e-07]\n",
        "[ -7.48809514e-10   1.02755443e-11]\n",
        "[  1.06749303e-06  -5.40121003e-10]\n",
        "[  7.59457544e-05   8.77295606e-05]\n",
        "[ 0.05717481  0.00566209]\n",
        "[ 0.02674852 -0.0500762 ]\n",
        "[ 0.03572484 -0.20317319]\n",
        "[-0.31286541 -0.05577175]\n",
        "[ 0.  0.]\n",
        "[ -3.93232899e-22  -6.45833986e-22]\n",
        "[ -6.18411979e-14  -5.39124985e-14]\n",
        "[  4.85824895e-14   4.32441328e-13]\n",
        "[  1.97935133e-14   1.30237914e-14]\n",
        "[ -8.13370638e-14   1.67837556e-15]\n",
        "[ -3.14530540e-14  -2.34517456e-13]\n",
        "[ -3.75800248e-13   1.06684667e-13]\n",
        "[ -6.23894789e-14   1.56971536e-13]\n",
        "[  3.02293433e-11   2.75423989e-11]\n",
        "[ -2.08369599e-10   7.51328721e-11]\n",
        "[ -1.39696050e-11  -1.12982306e-11]\n",
        "[  5.51817037e-09   2.83048673e-09]\n",
        "[ -1.74886350e-09  -2.49644927e-09]\n",
        "[ -2.49706560e-13   1.54391284e-13]\n",
        "[  5.72164083e-07  -2.52084715e-06]\n",
        "[  5.14044665e-08  -4.14670376e-06]\n",
        "[ 0.08850859 -0.61967337]\n",
        "[-0.03226843 -0.88575977]\n",
        "[ 0.00239915 -2.30064011]\n",
        "[-0.18578413 -0.746234  ]\n",
        "[-0.11330608 -0.25203645]\n",
        "[-0.0141309 -0.0250924]\n",
        "[-0.12656514 -0.24039243]\n",
        "[-0.05036513 -0.25113776]\n",
        "[ 0.16821913 -0.13738441]\n",
        "[-0.00975624 -0.00101356]\n",
        "[ 0.34658873  0.1532598 ]\n",
        "[-0.15920205 -0.14722553]\n",
        "[-0.25575429 -0.3360351 ]"
       ]
      },
      {
       "output_type": "stream",
       "stream": "stdout",
       "text": [
        "\n",
        "[-0.06983412  0.21007033]\n",
        "[-0.75032824  0.5809201 ]\n",
        "[-0.7705062   0.44695133]\n",
        "[-1.76953423  0.07211907]\n",
        "[-1.37028539  0.29229963]\n",
        "[ 0.40600389  1.67767775]\n",
        "[ 0.00657168 -0.4610748 ]\n",
        "[-0.47610289 -0.34032547]\n",
        "[-0.16555244 -0.5198499 ]\n",
        "[-0.15955099 -0.84789413]\n",
        "[-0.09179996 -0.30609745]\n",
        "[-0.15728869 -0.24520676]\n",
        "[ 0.12281895 -0.11428173]\n",
        "[-0.02529724 -0.13320233]\n",
        "[-0.05011556 -0.00506509]\n",
        "[-0.23960508 -0.23889984]\n",
        "[-0.43071002 -0.10391714]\n",
        "[-1.42156947  0.11557334]\n",
        "[-0.03902915  0.00503793]\n",
        "[  1.26106592e-04   5.73920770e-05]\n",
        "[ -1.09877565e-05  -1.29797801e-04]\n",
        "[ -5.35198487e-04  -3.10318200e-07]\n",
        "[ -1.35884431e-04  -1.77682512e-06]\n",
        "[ -4.72203927e-15  -2.30823857e-17]\n",
        "[ -8.06551464e-15  -4.79898163e-16]\n",
        "[  1.07584733e-10  -1.45290113e-10]\n",
        "[ -1.21187532e-10  -1.37130111e-14]\n",
        "[  2.13374145e-11   3.10742716e-11]\n",
        "[ -4.60932847e-09  -8.71930242e-05]\n",
        "[  3.16744517e-05  -5.51116063e-05]\n",
        "[  1.16607453e-05   4.00606550e-05]\n",
        "[  6.19171624e-05   1.08372085e-04]\n",
        "[-0.00043979 -0.00030336]\n",
        "[ 0.  0.]"
       ]
      },
      {
       "output_type": "stream",
       "stream": "stdout",
       "text": [
        "\n",
        "[ -3.93232899e-22  -6.45833986e-22]\n",
        "[ -6.18411979e-14  -5.39124985e-14]\n",
        "[  4.85824895e-14   4.32441328e-13]\n",
        "[  1.97935133e-14   1.30237914e-14]\n",
        "[ -8.13370638e-14   1.67837556e-15]\n",
        "[ -3.14530540e-14  -2.34517456e-13]\n",
        "[ -3.75800248e-13   1.06684667e-13]\n",
        "[ -6.23894789e-14   1.56971536e-13]\n",
        "[ -1.40602373e-13   1.42986371e-13]\n",
        "[ -3.95422762e-14  -7.20602573e-14]\n",
        "[ -5.54088703e-14   5.02333703e-14]\n",
        "[ -2.21102623e-13  -2.00391814e-13]\n",
        "[ -4.48870496e-10  -1.32092615e-09]\n",
        "[  2.08615438e-05   3.08940434e-05]\n",
        "[-0.00015561 -0.00029838]\n",
        "[ -5.70126067e-05   4.14036585e-05]\n",
        "[-0.00523175 -0.04903382]\n",
        "[ 0.11652133 -0.67929232]\n",
        "[ 0.12968029 -1.25580251]\n",
        "[-0.00077874 -0.00295145]\n",
        "[-0.50130737 -0.99901778]\n",
        "[-0.22122924 -0.43963569]\n",
        "[-0.56117332 -0.8325659 ]\n",
        "[ 0.08625497 -0.14340501]\n",
        "[-0.94051945 -0.66278177]\n",
        "[ 0.40061286  0.04535197]\n",
        "[ 0.26472345 -0.17774928]\n",
        "[ 0.05692291 -0.31360692]\n",
        "[-0.09914697 -0.40270019]\n",
        "[ 0.02793858 -0.18489768]\n",
        "[-0.06951303 -0.15686831]\n",
        "[-0.31496552  0.24008651]\n",
        "[-0.69902271 -0.34201422]\n",
        "[-1.06305718 -0.1262089 ]\n",
        "[-0.46048775  0.09657178]\n",
        "[-0.08104005 -0.37294048]\n",
        "[-0.17562224 -0.47084975]\n",
        "[-0.28762057 -0.53589761]\n",
        "[-0.07098009 -0.53490806]\n",
        "[-0.01765916 -0.67825669]\n",
        "[ 0.12705025  0.06764422]\n",
        "[-0.32758781  0.2688936 ]\n",
        "[-0.01831881 -0.40153471]\n",
        "[-0.47228661 -0.01398496]\n",
        "[-0.11507463 -0.01655482]\n",
        "[  1.46362372e-05   2.23938205e-05]\n",
        "[ -6.32364463e-05   1.31718891e-09]\n",
        "[ 0.00028795  0.00034368]\n",
        "[  4.76427687e-07   2.85017063e-06]\n",
        "[  4.78247487e-13  -3.62394508e-14]\n",
        "[ -5.41082682e-14  -4.83113415e-15]\n",
        "[ -1.53582151e-15   3.76243995e-17]\n",
        "[ -4.72203927e-15  -2.30817669e-17]\n",
        "[ -2.63951052e-14  -1.15897648e-13]\n",
        "[ -1.59461677e-04   9.96673316e-06]\n",
        "[  7.55958354e-08   5.41350165e-09]\n",
        "[  6.71675515e-09  -4.21555413e-09]\n",
        "[  3.46324850e-05   1.56155039e-07]\n",
        "[ -1.77090500e-14  -5.95178204e-15]\n",
        "[ -3.19657122e-14   1.22963036e-14]\n",
        "[ -4.64591039e-07   2.50384744e-07]\n",
        "[  2.53726535e-06   2.57175861e-06]\n",
        "[ 0.  0.]\n",
        "[ -3.93232899e-22  -6.45833986e-22]"
       ]
      },
      {
       "output_type": "stream",
       "stream": "stdout",
       "text": [
        "\n",
        "[ -6.18411979e-14  -5.39124985e-14]\n",
        "[  4.85824895e-14   4.32441328e-13]\n",
        "[  1.97935133e-14   1.30237914e-14]\n",
        "[ -8.13370638e-14   1.67837556e-15]\n",
        "[ -3.14530540e-14  -2.34517456e-13]\n",
        "[ -3.75800248e-13   1.06684667e-13]\n",
        "[ -6.23894789e-14   1.56971536e-13]\n",
        "[ -1.40602373e-13   1.42986371e-13]\n",
        "[ -3.95422762e-14  -7.20602573e-14]\n",
        "[ -5.54088703e-14   5.02333703e-14]\n",
        "[ -2.21102623e-13  -2.00391814e-13]\n",
        "[ -1.38027149e-13  -5.86553172e-14]\n",
        "[ -5.92017659e-06   1.32277846e-05]\n",
        "[  1.56681890e-05   3.60409899e-06]\n",
        "[  2.51809161e-06   3.35084078e-05]\n",
        "[ -2.18916830e-05  -3.94801064e-05]\n",
        "[-0.07366508 -0.76226413]\n",
        "[-0.10382207 -0.53561479]\n",
        "[-0.00057615 -0.00304362]\n",
        "[  9.56597796e-05  -5.61407251e-05]\n",
        "[-0.0772303  -0.50445318]\n",
        "[-0.02786667 -0.44419074]\n",
        "[ 0.02287992 -0.33943868]\n",
        "[ 0.07549222 -0.14922611]\n",
        "[ 0.37745321  0.12422934]\n",
        "[ 0.04488739 -0.15511109]\n",
        "[ 0.01014547 -0.23706813]\n",
        "[ 0.32284743 -0.23941293]\n",
        "[ 0.10496804  0.01818974]\n",
        "[-0.02474383 -0.12989382]\n",
        "[-0.01921393 -0.41256651]\n",
        "[-0.4080199  -0.35923025]\n",
        "[-0.34976134  0.0403453 ]\n",
        "[-0.72188789 -0.44940022]\n",
        "[-0.00681308  0.64139974]\n",
        "[-0.00409958 -0.28210354]\n",
        "[-0.02148436 -0.40503743]\n",
        "[-0.08612537  0.10161227]\n",
        "[-0.0311707  -0.74355727]\n",
        "[-0.13208124 -0.63793576]\n",
        "[-1.23547971  0.3111127 ]\n",
        "[-0.22523513 -0.0076581 ]\n",
        "[ -2.96536455e-04   9.64452483e-05]\n",
        "[ -6.70570953e-05  -1.95074084e-04]\n",
        "[  1.43700652e-06  -7.13213410e-07]\n",
        "[ -2.73960868e-05   1.03389692e-04]\n",
        "[  7.87352019e-06   1.00745987e-04]\n",
        "[ -6.43136023e-15  -9.32102901e-16]\n",
        "[  4.79020252e-13  -3.63363141e-14]\n",
        "[ -4.50596825e-04   2.19850244e-06]\n",
        "[  1.52380938e-11  -6.16101670e-10]\n",
        "[ -4.72203885e-15  -2.30753794e-17]\n",
        "[-0.00019697 -0.00011167]\n",
        "[  1.56157021e-05  -5.32038712e-06]\n",
        "[  4.30421896e-05   2.92187160e-05]\n",
        "[  5.99311022e-07  -7.13884702e-08]\n",
        "[ -9.52098745e-15  -1.18722488e-15]\n",
        "[ -1.79457550e-14  -5.97294261e-15]\n",
        "[ -3.20363243e-14   1.23253806e-14]\n",
        "[ -3.33208497e-14  -1.22168265e-14]\n",
        "[ -3.98308129e-14  -3.49157620e-14]\n",
        "[ 0.  0.]\n",
        "[ -3.93232899e-22  -6.45833986e-22]"
       ]
      },
      {
       "output_type": "stream",
       "stream": "stdout",
       "text": [
        "\n",
        "[ -6.18411979e-14  -5.39124985e-14]\n",
        "[  4.85824895e-14   4.32441328e-13]\n",
        "[  1.97935133e-14   1.30237914e-14]\n",
        "[ -8.13370638e-14   1.67837556e-15]\n",
        "[ -3.14530540e-14  -2.34517456e-13]\n",
        "[ -3.75800248e-13   1.06684667e-13]\n",
        "[ -6.23894789e-14   1.56971536e-13]\n",
        "[ -1.40602373e-13   1.42986371e-13]\n",
        "[ -3.95422762e-14  -7.20602573e-14]\n",
        "[ -5.54088703e-14   5.02333703e-14]\n",
        "[ -2.21102623e-13  -2.00391814e-13]\n",
        "[ -1.38027149e-13  -5.86553172e-14]\n",
        "[ -2.48737202e-13   1.53552640e-13]\n",
        "[  7.47745100e-14   1.18766298e-13]\n",
        "[  2.52786791e-10  -1.92744465e-09]\n",
        "[ -1.72302360e-04   9.71058580e-06]\n",
        "[-0.0992093  -0.99260682]\n",
        "[ 0.03536987 -0.55786031]\n",
        "[ 0.16507193 -0.30869141]\n",
        "[  1.24085586e-08  -1.12329195e-08]\n",
        "[ -3.94083589e-04  -1.71739011e-05]\n",
        "[ 0.00220436 -0.01339868]\n",
        "[-0.01789111 -0.48349681]\n",
        "[ 0.4238281  -0.35864303]\n",
        "[ 0.2764819  -0.33178544]\n",
        "[ 0.71749246 -0.37943807]\n",
        "[ 0.47184849 -0.45329544]\n",
        "[ 0.39480746  0.26549014]\n",
        "[ 0.09467673 -0.59090024]\n",
        "[-0.01140977 -0.34182918]\n",
        "[-0.04910477 -0.70898658]\n",
        "[-0.31499279 -0.24406376]\n",
        "[-0.22083724 -0.21928814]\n",
        "[-0.63752234 -0.38394919]\n",
        "[-0.19680637 -0.05524835]\n",
        "[-0.11676382 -0.49473831]\n",
        "[-0.29300967 -0.18456455]\n",
        "[-0.01053648 -0.66692001]\n",
        "[-0.21881932 -0.26113918]\n",
        "[ 0.07101442 -0.8664996 ]\n",
        "[-0.00601417 -0.00364703]\n",
        "[ -3.31792253e-04  -8.79832351e-06]\n",
        "[ -4.30668078e-05   8.96571237e-06]\n",
        "[  1.26922620e-04  -3.49468064e-05]\n",
        "[  2.04013174e-12   7.01492521e-13]\n",
        "[ -3.38424206e-06  -4.61317177e-06]\n",
        "[  4.51478302e-15   4.65866056e-16]\n",
        "[ -6.43136023e-15  -9.32094008e-16]\n",
        "[  4.79020198e-13  -3.63362159e-14]\n",
        "[ -5.41291424e-14  -4.84248990e-15]\n",
        "[ -1.51846262e-15   3.60856318e-17]\n",
        "[ -8.98641301e-05  -4.74009466e-05]\n",
        "[ -5.27858138e-05   2.25559088e-05]\n",
        "[ -3.69192203e-05  -5.47084492e-05]\n",
        "[ -6.56033144e-11  -1.16971516e-10]\n",
        "[ -3.92963717e-11   2.08793705e-10]\n",
        "[ -9.52098575e-15  -1.18722393e-15]\n",
        "[ -1.79457550e-14  -5.97293711e-15]\n",
        "[ -3.20363243e-14   1.23253941e-14]\n",
        "[ -3.33208497e-14  -1.22168409e-14]\n",
        "[ -3.98308163e-14  -3.49157484e-14]\n",
        "[ 0.  0.]"
       ]
      },
      {
       "output_type": "stream",
       "stream": "stdout",
       "text": [
        "\n",
        "[ -3.93232899e-22  -6.45833986e-22]\n",
        "[ -6.18411979e-14  -5.39124985e-14]\n",
        "[  4.85824895e-14   4.32441328e-13]\n",
        "[  1.97935133e-14   1.30237914e-14]\n",
        "[ -8.13370638e-14   1.67837556e-15]\n",
        "[ -3.14530540e-14  -2.34517456e-13]\n",
        "[ -3.75800248e-13   1.06684667e-13]\n",
        "[ -6.23894789e-14   1.56971536e-13]\n",
        "[ -1.40602373e-13   1.42986371e-13]\n",
        "[ -3.95422762e-14  -7.20602573e-14]\n",
        "[ -5.54088703e-14   5.02333703e-14]\n",
        "[ -2.21102623e-13  -2.00391814e-13]\n",
        "[ -1.38027149e-13  -5.86553172e-14]\n",
        "[ -2.48737202e-13   1.53552640e-13]\n",
        "[  7.47745100e-14   1.18766298e-13]\n",
        "[ -2.84411221e-13  -4.57681706e-16]\n",
        "[  1.18029503e-10  -1.24348576e-09]\n",
        "[ 0.0004547  -0.00139325]\n",
        "[ 0.05200248 -0.97283173]\n",
        "[-0.08335046 -0.80305052]\n",
        "[  1.97441182e-06  -3.45458975e-05]\n",
        "[  1.91490972e-06   2.47697772e-05]\n",
        "[ -8.68509142e-06   6.73125442e-06]\n",
        "[ 0.03701343  0.24822548]\n",
        "[-0.00870672 -0.30562395]\n",
        "[ 0.05964288 -0.47788125]\n",
        "[ 0.01855882 -0.00078848]\n",
        "[ 0.47283176 -0.19684216]\n",
        "[ 0.53891331 -0.28537747]\n",
        "[ 0.13213426 -0.47972429]\n",
        "[ 0.02510012 -0.39999202]\n",
        "[-0.2012223  -0.21683221]\n",
        "[-0.18994753 -0.25213578]\n",
        "[-0.08199902  0.1314926 ]\n",
        "[-0.24723722 -0.00688041]\n",
        "[-0.20259324 -0.46883002]\n",
        "[-0.25313935 -0.43283316]\n",
        "[-0.16269277 -0.36133569]\n",
        "[ 0.28426197 -0.62626642]\n",
        "[-0.06004892 -0.72602493]\n",
        "[ 0.04445613 -0.98787105]\n",
        "[  2.20933871e-05  -5.08209996e-06]\n",
        "[ -3.38120321e-06   5.49116121e-05]\n",
        "[ -1.98092766e-05   3.54840828e-04]\n",
        "[ -9.48697198e-05  -4.05735977e-04]\n",
        "[  6.19168713e-06   2.28197018e-06]\n",
        "[  4.20040465e-07   4.79620098e-07]\n",
        "[  4.51478217e-15   4.65866798e-16]\n",
        "[ -6.43136320e-15  -9.32096019e-16]\n",
        "[  7.24977735e-06   9.98662381e-06]\n",
        "[  1.17403124e-05   4.80654307e-06]\n",
        "[ -1.72595954e-15  -1.03948737e-16]\n",
        "[ -2.21032315e-06   9.77220952e-06]\n",
        "[ -1.54491875e-06   6.52681920e-05]\n",
        "[  1.53489669e-11   1.44352525e-11]\n",
        "[ -5.23413718e-15   6.98177918e-16]\n",
        "[  1.98355783e-15  -1.01853658e-15]\n",
        "[ -9.52098321e-15  -1.18722277e-15]\n",
        "[ -1.79457550e-14  -5.97293584e-15]\n",
        "[ -3.20363175e-14   1.23253966e-14]\n",
        "[ -3.33208531e-14  -1.22168392e-14]\n",
        "[ -3.98308062e-14  -3.49157552e-14]\n",
        "[ 0.  0.]\n",
        "[ -3.93232899e-22  -6.45833986e-22]\n",
        "[ -6.18411979e-14  -5.39124985e-14]"
       ]
      },
      {
       "output_type": "stream",
       "stream": "stdout",
       "text": [
        "\n",
        "[  4.85824895e-14   4.32441328e-13]\n",
        "[  1.97935133e-14   1.30237914e-14]\n",
        "[ -8.13370638e-14   1.67837556e-15]\n",
        "[ -3.14530540e-14  -2.34517456e-13]\n",
        "[ -3.75800248e-13   1.06684667e-13]\n",
        "[ -6.23894789e-14   1.56971536e-13]\n",
        "[ -1.40602373e-13   1.42986371e-13]\n",
        "[ -3.95422762e-14  -7.20602573e-14]\n",
        "[ -5.54088703e-14   5.02333703e-14]\n",
        "[ -2.21102623e-13  -2.00391814e-13]\n",
        "[ -1.38027149e-13  -5.86553172e-14]\n",
        "[ -2.48737202e-13   1.53552640e-13]\n",
        "[  7.47745100e-14   1.18766298e-13]\n",
        "[ -2.84411221e-13  -4.57681706e-16]\n",
        "[  6.60501588e-14   1.82565077e-13]\n",
        "[  7.01973795e-06   1.34401344e-05]\n",
        "[-0.2331316  -1.06227875]\n",
        "[-0.09971352 -0.93511486]\n",
        "[ 0.61029863  0.39076471]\n",
        "[ -2.04072512e-05   2.83674526e-05]\n",
        "[ 0.00034776  0.00010137]\n",
        "[-0.0280611  -0.02485787]\n",
        "[ 0.05691456 -0.40497556]\n",
        "[ 0.15278465  0.13927561]\n",
        "[-0.07237893 -0.00096219]\n",
        "[-0.00732708 -0.02065917]\n",
        "[-0.25313112 -1.04534781]\n",
        "[ 0.04929817 -0.39238879]\n",
        "[-0.01693707 -0.48152685]\n",
        "[-0.04320217 -0.45107567]\n",
        "[-0.00378692 -0.44927385]\n",
        "[-0.0281219   0.08091984]\n",
        "[-0.02388618 -0.00135797]\n",
        "[-0.11570759 -1.01988924]\n",
        "[-0.04022724  0.08056907]\n",
        "[-0.00834901 -0.77352411]\n",
        "[-0.07724198 -0.562612  ]\n",
        "[-0.37537232 -0.4926959 ]\n",
        "[-0.00052951 -0.00069683]\n",
        "[  9.41482140e-05   1.60705167e-05]\n",
        "[ -3.02426579e-05  -1.83612633e-06]\n",
        "[-0.00132654 -0.00014655]\n",
        "[ -9.76868323e-05  -9.24360211e-06]\n",
        "[  9.24797462e-07  -2.05256526e-07]\n",
        "[ -2.49463332e-14  -4.86725664e-14]\n",
        "[  4.51477709e-15   4.65863303e-16]\n",
        "[ -6.43135769e-15  -9.32096231e-16]\n",
        "[  4.79079992e-13  -3.63858690e-14]\n",
        "[  4.62655007e-05   2.41164125e-05]\n",
        "[ -1.53850905e-07  -2.23908970e-07]\n",
        "[  3.52197421e-05  -4.38920688e-06]\n",
        "[ -7.97602476e-15  -6.91925703e-16]\n",
        "[  1.57303641e-14  -3.69786717e-15]\n",
        "[ -5.23414947e-15   6.98179136e-16]\n",
        "[  1.98355719e-15  -1.01854050e-15]\n",
        "[ -2.02258220e-14  -6.28703111e-16]\n",
        "[ -1.81841643e-14  -6.07724371e-15]\n",
        "[ -3.20363412e-14   1.23254000e-14]\n",
        "[ -3.33208396e-14  -1.22168358e-14]\n",
        "[ -3.98308231e-14  -3.49157586e-14]\n"
       ]
      }
     ],
     "prompt_number": 163
    },
    {
     "cell_type": "code",
     "collapsed": false,
     "input": [
      "imshow(rgbFlow)"
     ],
     "language": "python",
     "metadata": {},
     "outputs": [
      {
       "metadata": {},
       "output_type": "pyout",
       "prompt_number": 60,
       "text": [
        "<matplotlib.image.AxesImage at 0x7febcff26ad0>"
       ]
      }
     ],
     "prompt_number": 60
    },
    {
     "cell_type": "code",
     "collapsed": false,
     "input": [
      "figure()\n",
      "for r in xrange(0, flow.shape[0]) :\n",
      "    tmp = np.string_(hex(np.mod(r, 255)))[2:-1]\n",
      "    col = \"#\"\n",
      "    if int(r/256) == 0 :\n",
      "        col = \"#\"\n",
      "        if len(tmp) == 1 :\n",
      "            col = col + \"0\"\n",
      "        col = col + tmp + \"0000\"\n",
      "    elif int(r/256) == 1 :\n",
      "        col = \"#00\"\n",
      "        if len(tmp) == 1 :\n",
      "            col = col + \"0\"\n",
      "        col = col + tmp + \"00\"\n",
      "    else :\n",
      "        col = \"#0000\"\n",
      "        if len(tmp) == 1 :\n",
      "            col = col + \"0\"\n",
      "        col = col + tmp + \"\"\n",
      "    #col = \"#000\" + tmp\n",
      "    plt.scatter(flow[r, :, 0], flow[r, :, 1], marker='.', edgecolors='none', color=col)\n",
      "#     print np.string_(hex(np.mod(r, 255)))\n",
      "    sys.stdout.write('\\r' + \"Plotting row \" + np.string_(r))\n",
      "    sys.stdout.flush()"
     ],
     "language": "python",
     "metadata": {},
     "outputs": [
      {
       "output_type": "stream",
       "stream": "stdout",
       "text": [
        "\r",
        "Plotting row 0"
       ]
      },
      {
       "output_type": "stream",
       "stream": "stdout",
       "text": [
        "\r",
        "Plotting row 1"
       ]
      },
      {
       "output_type": "stream",
       "stream": "stdout",
       "text": [
        "\r",
        "Plotting row 2"
       ]
      },
      {
       "output_type": "stream",
       "stream": "stdout",
       "text": [
        "\r",
        "Plotting row 3"
       ]
      },
      {
       "output_type": "stream",
       "stream": "stdout",
       "text": [
        "\r",
        "Plotting row 4"
       ]
      },
      {
       "output_type": "stream",
       "stream": "stdout",
       "text": [
        "\r",
        "Plotting row 5"
       ]
      },
      {
       "output_type": "stream",
       "stream": "stdout",
       "text": [
        "\r",
        "Plotting row 6"
       ]
      },
      {
       "output_type": "stream",
       "stream": "stdout",
       "text": [
        "\r",
        "Plotting row 7"
       ]
      },
      {
       "output_type": "stream",
       "stream": "stdout",
       "text": [
        "\r",
        "Plotting row 8"
       ]
      },
      {
       "output_type": "stream",
       "stream": "stdout",
       "text": [
        "\r",
        "Plotting row 9"
       ]
      },
      {
       "output_type": "stream",
       "stream": "stdout",
       "text": [
        "\r",
        "Plotting row 10"
       ]
      },
      {
       "output_type": "stream",
       "stream": "stdout",
       "text": [
        "\r",
        "Plotting row 11"
       ]
      },
      {
       "output_type": "stream",
       "stream": "stdout",
       "text": [
        "\r",
        "Plotting row 12"
       ]
      },
      {
       "output_type": "stream",
       "stream": "stdout",
       "text": [
        "\r",
        "Plotting row 13"
       ]
      },
      {
       "output_type": "stream",
       "stream": "stdout",
       "text": [
        "\r",
        "Plotting row 14"
       ]
      },
      {
       "output_type": "stream",
       "stream": "stdout",
       "text": [
        "\r",
        "Plotting row 15"
       ]
      },
      {
       "output_type": "stream",
       "stream": "stdout",
       "text": [
        "\r",
        "Plotting row 16"
       ]
      },
      {
       "output_type": "stream",
       "stream": "stdout",
       "text": [
        "\r",
        "Plotting row 17"
       ]
      },
      {
       "output_type": "stream",
       "stream": "stdout",
       "text": [
        "\r",
        "Plotting row 18"
       ]
      },
      {
       "output_type": "stream",
       "stream": "stdout",
       "text": [
        "\r",
        "Plotting row 19"
       ]
      },
      {
       "output_type": "stream",
       "stream": "stdout",
       "text": [
        "\r",
        "Plotting row 20"
       ]
      },
      {
       "output_type": "stream",
       "stream": "stdout",
       "text": [
        "\r",
        "Plotting row 21"
       ]
      },
      {
       "output_type": "stream",
       "stream": "stdout",
       "text": [
        "\r",
        "Plotting row 22"
       ]
      },
      {
       "output_type": "stream",
       "stream": "stdout",
       "text": [
        "\r",
        "Plotting row 23"
       ]
      },
      {
       "output_type": "stream",
       "stream": "stdout",
       "text": [
        "\r",
        "Plotting row 24"
       ]
      },
      {
       "output_type": "stream",
       "stream": "stdout",
       "text": [
        "\r",
        "Plotting row 25"
       ]
      },
      {
       "output_type": "stream",
       "stream": "stdout",
       "text": [
        "\r",
        "Plotting row 26"
       ]
      },
      {
       "output_type": "stream",
       "stream": "stdout",
       "text": [
        "\r",
        "Plotting row 27"
       ]
      },
      {
       "output_type": "stream",
       "stream": "stdout",
       "text": [
        "\r",
        "Plotting row 28"
       ]
      },
      {
       "output_type": "stream",
       "stream": "stdout",
       "text": [
        "\r",
        "Plotting row 29"
       ]
      },
      {
       "output_type": "stream",
       "stream": "stdout",
       "text": [
        "\r",
        "Plotting row 30"
       ]
      },
      {
       "output_type": "stream",
       "stream": "stdout",
       "text": [
        "\r",
        "Plotting row 31"
       ]
      },
      {
       "output_type": "stream",
       "stream": "stdout",
       "text": [
        "\r",
        "Plotting row 32"
       ]
      },
      {
       "output_type": "stream",
       "stream": "stdout",
       "text": [
        "\r",
        "Plotting row 33"
       ]
      },
      {
       "output_type": "stream",
       "stream": "stdout",
       "text": [
        "\r",
        "Plotting row 34"
       ]
      },
      {
       "output_type": "stream",
       "stream": "stdout",
       "text": [
        "\r",
        "Plotting row 35"
       ]
      },
      {
       "output_type": "stream",
       "stream": "stdout",
       "text": [
        "\r",
        "Plotting row 36"
       ]
      },
      {
       "output_type": "stream",
       "stream": "stdout",
       "text": [
        "\r",
        "Plotting row 37"
       ]
      },
      {
       "output_type": "stream",
       "stream": "stdout",
       "text": [
        "\r",
        "Plotting row 38"
       ]
      },
      {
       "output_type": "stream",
       "stream": "stdout",
       "text": [
        "\r",
        "Plotting row 39"
       ]
      },
      {
       "output_type": "stream",
       "stream": "stdout",
       "text": [
        "\r",
        "Plotting row 40"
       ]
      },
      {
       "output_type": "stream",
       "stream": "stdout",
       "text": [
        "\r",
        "Plotting row 41"
       ]
      },
      {
       "output_type": "stream",
       "stream": "stdout",
       "text": [
        "\r",
        "Plotting row 42"
       ]
      },
      {
       "output_type": "stream",
       "stream": "stdout",
       "text": [
        "\r",
        "Plotting row 43"
       ]
      },
      {
       "output_type": "stream",
       "stream": "stdout",
       "text": [
        "\r",
        "Plotting row 44"
       ]
      },
      {
       "output_type": "stream",
       "stream": "stdout",
       "text": [
        "\r",
        "Plotting row 45"
       ]
      },
      {
       "output_type": "stream",
       "stream": "stdout",
       "text": [
        "\r",
        "Plotting row 46"
       ]
      },
      {
       "output_type": "stream",
       "stream": "stdout",
       "text": [
        "\r",
        "Plotting row 47"
       ]
      },
      {
       "output_type": "stream",
       "stream": "stdout",
       "text": [
        "\r",
        "Plotting row 48"
       ]
      },
      {
       "output_type": "stream",
       "stream": "stdout",
       "text": [
        "\r",
        "Plotting row 49"
       ]
      },
      {
       "output_type": "stream",
       "stream": "stdout",
       "text": [
        "\r",
        "Plotting row 50"
       ]
      },
      {
       "output_type": "stream",
       "stream": "stdout",
       "text": [
        "\r",
        "Plotting row 51"
       ]
      },
      {
       "output_type": "stream",
       "stream": "stdout",
       "text": [
        "\r",
        "Plotting row 52"
       ]
      },
      {
       "output_type": "stream",
       "stream": "stdout",
       "text": [
        "\r",
        "Plotting row 53"
       ]
      },
      {
       "output_type": "stream",
       "stream": "stdout",
       "text": [
        "\r",
        "Plotting row 54"
       ]
      },
      {
       "output_type": "stream",
       "stream": "stdout",
       "text": [
        "\r",
        "Plotting row 55"
       ]
      },
      {
       "output_type": "stream",
       "stream": "stdout",
       "text": [
        "\r",
        "Plotting row 56"
       ]
      },
      {
       "output_type": "stream",
       "stream": "stdout",
       "text": [
        "\r",
        "Plotting row 57"
       ]
      },
      {
       "output_type": "stream",
       "stream": "stdout",
       "text": [
        "\r",
        "Plotting row 58"
       ]
      },
      {
       "output_type": "stream",
       "stream": "stdout",
       "text": [
        "\r",
        "Plotting row 59"
       ]
      },
      {
       "output_type": "stream",
       "stream": "stdout",
       "text": [
        "\r",
        "Plotting row 60"
       ]
      },
      {
       "output_type": "stream",
       "stream": "stdout",
       "text": [
        "\r",
        "Plotting row 61"
       ]
      },
      {
       "output_type": "stream",
       "stream": "stdout",
       "text": [
        "\r",
        "Plotting row 62"
       ]
      },
      {
       "output_type": "stream",
       "stream": "stdout",
       "text": [
        "\r",
        "Plotting row 63"
       ]
      },
      {
       "output_type": "stream",
       "stream": "stdout",
       "text": [
        "\r",
        "Plotting row 64"
       ]
      },
      {
       "output_type": "stream",
       "stream": "stdout",
       "text": [
        "\r",
        "Plotting row 65"
       ]
      },
      {
       "output_type": "stream",
       "stream": "stdout",
       "text": [
        "\r",
        "Plotting row 66"
       ]
      },
      {
       "output_type": "stream",
       "stream": "stdout",
       "text": [
        "\r",
        "Plotting row 67"
       ]
      },
      {
       "output_type": "stream",
       "stream": "stdout",
       "text": [
        "\r",
        "Plotting row 68"
       ]
      },
      {
       "output_type": "stream",
       "stream": "stdout",
       "text": [
        "\r",
        "Plotting row 69"
       ]
      },
      {
       "output_type": "stream",
       "stream": "stdout",
       "text": [
        "\r",
        "Plotting row 70"
       ]
      },
      {
       "output_type": "stream",
       "stream": "stdout",
       "text": [
        "\r",
        "Plotting row 71"
       ]
      },
      {
       "output_type": "stream",
       "stream": "stdout",
       "text": [
        "\r",
        "Plotting row 72"
       ]
      },
      {
       "output_type": "stream",
       "stream": "stdout",
       "text": [
        "\r",
        "Plotting row 73"
       ]
      },
      {
       "output_type": "stream",
       "stream": "stdout",
       "text": [
        "\r",
        "Plotting row 74"
       ]
      },
      {
       "output_type": "stream",
       "stream": "stdout",
       "text": [
        "\r",
        "Plotting row 75"
       ]
      },
      {
       "output_type": "stream",
       "stream": "stdout",
       "text": [
        "\r",
        "Plotting row 76"
       ]
      },
      {
       "output_type": "stream",
       "stream": "stdout",
       "text": [
        "\r",
        "Plotting row 77"
       ]
      },
      {
       "output_type": "stream",
       "stream": "stdout",
       "text": [
        "\r",
        "Plotting row 78"
       ]
      },
      {
       "output_type": "stream",
       "stream": "stdout",
       "text": [
        "\r",
        "Plotting row 79"
       ]
      },
      {
       "output_type": "stream",
       "stream": "stdout",
       "text": [
        "\r",
        "Plotting row 80"
       ]
      },
      {
       "output_type": "stream",
       "stream": "stdout",
       "text": [
        "\r",
        "Plotting row 81"
       ]
      },
      {
       "output_type": "stream",
       "stream": "stdout",
       "text": [
        "\r",
        "Plotting row 82"
       ]
      },
      {
       "output_type": "stream",
       "stream": "stdout",
       "text": [
        "\r",
        "Plotting row 83"
       ]
      },
      {
       "output_type": "stream",
       "stream": "stdout",
       "text": [
        "\r",
        "Plotting row 84"
       ]
      },
      {
       "output_type": "stream",
       "stream": "stdout",
       "text": [
        "\r",
        "Plotting row 85"
       ]
      },
      {
       "output_type": "stream",
       "stream": "stdout",
       "text": [
        "\r",
        "Plotting row 86"
       ]
      },
      {
       "output_type": "stream",
       "stream": "stdout",
       "text": [
        "\r",
        "Plotting row 87"
       ]
      },
      {
       "output_type": "stream",
       "stream": "stdout",
       "text": [
        "\r",
        "Plotting row 88"
       ]
      },
      {
       "output_type": "stream",
       "stream": "stdout",
       "text": [
        "\r",
        "Plotting row 89"
       ]
      },
      {
       "output_type": "stream",
       "stream": "stdout",
       "text": [
        "\r",
        "Plotting row 90"
       ]
      },
      {
       "output_type": "stream",
       "stream": "stdout",
       "text": [
        "\r",
        "Plotting row 91"
       ]
      },
      {
       "output_type": "stream",
       "stream": "stdout",
       "text": [
        "\r",
        "Plotting row 92"
       ]
      },
      {
       "output_type": "stream",
       "stream": "stdout",
       "text": [
        "\r",
        "Plotting row 93"
       ]
      },
      {
       "output_type": "stream",
       "stream": "stdout",
       "text": [
        "\r",
        "Plotting row 94"
       ]
      },
      {
       "output_type": "stream",
       "stream": "stdout",
       "text": [
        "\r",
        "Plotting row 95"
       ]
      },
      {
       "output_type": "stream",
       "stream": "stdout",
       "text": [
        "\r",
        "Plotting row 96"
       ]
      },
      {
       "output_type": "stream",
       "stream": "stdout",
       "text": [
        "\r",
        "Plotting row 97"
       ]
      },
      {
       "output_type": "stream",
       "stream": "stdout",
       "text": [
        "\r",
        "Plotting row 98"
       ]
      },
      {
       "output_type": "stream",
       "stream": "stdout",
       "text": [
        "\r",
        "Plotting row 99"
       ]
      },
      {
       "output_type": "stream",
       "stream": "stdout",
       "text": [
        "\r",
        "Plotting row 100"
       ]
      },
      {
       "output_type": "stream",
       "stream": "stdout",
       "text": [
        "\r",
        "Plotting row 101"
       ]
      },
      {
       "output_type": "stream",
       "stream": "stdout",
       "text": [
        "\r",
        "Plotting row 102"
       ]
      },
      {
       "output_type": "stream",
       "stream": "stdout",
       "text": [
        "\r",
        "Plotting row 103"
       ]
      },
      {
       "output_type": "stream",
       "stream": "stdout",
       "text": [
        "\r",
        "Plotting row 104"
       ]
      },
      {
       "output_type": "stream",
       "stream": "stdout",
       "text": [
        "\r",
        "Plotting row 105"
       ]
      },
      {
       "output_type": "stream",
       "stream": "stdout",
       "text": [
        "\r",
        "Plotting row 106"
       ]
      },
      {
       "output_type": "stream",
       "stream": "stdout",
       "text": [
        "\r",
        "Plotting row 107"
       ]
      },
      {
       "output_type": "stream",
       "stream": "stdout",
       "text": [
        "\r",
        "Plotting row 108"
       ]
      },
      {
       "output_type": "stream",
       "stream": "stdout",
       "text": [
        "\r",
        "Plotting row 109"
       ]
      },
      {
       "output_type": "stream",
       "stream": "stdout",
       "text": [
        "\r",
        "Plotting row 110"
       ]
      },
      {
       "output_type": "stream",
       "stream": "stdout",
       "text": [
        "\r",
        "Plotting row 111"
       ]
      },
      {
       "output_type": "stream",
       "stream": "stdout",
       "text": [
        "\r",
        "Plotting row 112"
       ]
      },
      {
       "output_type": "stream",
       "stream": "stdout",
       "text": [
        "\r",
        "Plotting row 113"
       ]
      },
      {
       "output_type": "stream",
       "stream": "stdout",
       "text": [
        "\r",
        "Plotting row 114"
       ]
      },
      {
       "output_type": "stream",
       "stream": "stdout",
       "text": [
        "\r",
        "Plotting row 115"
       ]
      },
      {
       "output_type": "stream",
       "stream": "stdout",
       "text": [
        "\r",
        "Plotting row 116"
       ]
      },
      {
       "output_type": "stream",
       "stream": "stdout",
       "text": [
        "\r",
        "Plotting row 117"
       ]
      },
      {
       "output_type": "stream",
       "stream": "stdout",
       "text": [
        "\r",
        "Plotting row 118"
       ]
      },
      {
       "output_type": "stream",
       "stream": "stdout",
       "text": [
        "\r",
        "Plotting row 119"
       ]
      },
      {
       "output_type": "stream",
       "stream": "stdout",
       "text": [
        "\r",
        "Plotting row 120"
       ]
      },
      {
       "output_type": "stream",
       "stream": "stdout",
       "text": [
        "\r",
        "Plotting row 121"
       ]
      },
      {
       "output_type": "stream",
       "stream": "stdout",
       "text": [
        "\r",
        "Plotting row 122"
       ]
      },
      {
       "output_type": "stream",
       "stream": "stdout",
       "text": [
        "\r",
        "Plotting row 123"
       ]
      },
      {
       "output_type": "stream",
       "stream": "stdout",
       "text": [
        "\r",
        "Plotting row 124"
       ]
      },
      {
       "output_type": "stream",
       "stream": "stdout",
       "text": [
        "\r",
        "Plotting row 125"
       ]
      },
      {
       "output_type": "stream",
       "stream": "stdout",
       "text": [
        "\r",
        "Plotting row 126"
       ]
      },
      {
       "output_type": "stream",
       "stream": "stdout",
       "text": [
        "\r",
        "Plotting row 127"
       ]
      },
      {
       "output_type": "stream",
       "stream": "stdout",
       "text": [
        "\r",
        "Plotting row 128"
       ]
      },
      {
       "output_type": "stream",
       "stream": "stdout",
       "text": [
        "\r",
        "Plotting row 129"
       ]
      },
      {
       "output_type": "stream",
       "stream": "stdout",
       "text": [
        "\r",
        "Plotting row 130"
       ]
      },
      {
       "output_type": "stream",
       "stream": "stdout",
       "text": [
        "\r",
        "Plotting row 131"
       ]
      },
      {
       "output_type": "stream",
       "stream": "stdout",
       "text": [
        "\r",
        "Plotting row 132"
       ]
      },
      {
       "output_type": "stream",
       "stream": "stdout",
       "text": [
        "\r",
        "Plotting row 133"
       ]
      },
      {
       "output_type": "stream",
       "stream": "stdout",
       "text": [
        "\r",
        "Plotting row 134"
       ]
      },
      {
       "output_type": "stream",
       "stream": "stdout",
       "text": [
        "\r",
        "Plotting row 135"
       ]
      },
      {
       "output_type": "stream",
       "stream": "stdout",
       "text": [
        "\r",
        "Plotting row 136"
       ]
      },
      {
       "output_type": "stream",
       "stream": "stdout",
       "text": [
        "\r",
        "Plotting row 137"
       ]
      },
      {
       "output_type": "stream",
       "stream": "stdout",
       "text": [
        "\r",
        "Plotting row 138"
       ]
      },
      {
       "output_type": "stream",
       "stream": "stdout",
       "text": [
        "\r",
        "Plotting row 139"
       ]
      },
      {
       "output_type": "stream",
       "stream": "stdout",
       "text": [
        "\r",
        "Plotting row 140"
       ]
      },
      {
       "output_type": "stream",
       "stream": "stdout",
       "text": [
        "\r",
        "Plotting row 141"
       ]
      },
      {
       "output_type": "stream",
       "stream": "stdout",
       "text": [
        "\r",
        "Plotting row 142"
       ]
      },
      {
       "output_type": "stream",
       "stream": "stdout",
       "text": [
        "\r",
        "Plotting row 143"
       ]
      },
      {
       "output_type": "stream",
       "stream": "stdout",
       "text": [
        "\r",
        "Plotting row 144"
       ]
      },
      {
       "output_type": "stream",
       "stream": "stdout",
       "text": [
        "\r",
        "Plotting row 145"
       ]
      },
      {
       "output_type": "stream",
       "stream": "stdout",
       "text": [
        "\r",
        "Plotting row 146"
       ]
      },
      {
       "output_type": "stream",
       "stream": "stdout",
       "text": [
        "\r",
        "Plotting row 147"
       ]
      },
      {
       "output_type": "stream",
       "stream": "stdout",
       "text": [
        "\r",
        "Plotting row 148"
       ]
      },
      {
       "output_type": "stream",
       "stream": "stdout",
       "text": [
        "\r",
        "Plotting row 149"
       ]
      },
      {
       "output_type": "stream",
       "stream": "stdout",
       "text": [
        "\r",
        "Plotting row 150"
       ]
      },
      {
       "output_type": "stream",
       "stream": "stdout",
       "text": [
        "\r",
        "Plotting row 151"
       ]
      },
      {
       "output_type": "stream",
       "stream": "stdout",
       "text": [
        "\r",
        "Plotting row 152"
       ]
      },
      {
       "output_type": "stream",
       "stream": "stdout",
       "text": [
        "\r",
        "Plotting row 153"
       ]
      },
      {
       "output_type": "stream",
       "stream": "stdout",
       "text": [
        "\r",
        "Plotting row 154"
       ]
      },
      {
       "output_type": "stream",
       "stream": "stdout",
       "text": [
        "\r",
        "Plotting row 155"
       ]
      },
      {
       "output_type": "stream",
       "stream": "stdout",
       "text": [
        "\r",
        "Plotting row 156"
       ]
      },
      {
       "output_type": "stream",
       "stream": "stdout",
       "text": [
        "\r",
        "Plotting row 157"
       ]
      },
      {
       "output_type": "stream",
       "stream": "stdout",
       "text": [
        "\r",
        "Plotting row 158"
       ]
      },
      {
       "output_type": "stream",
       "stream": "stdout",
       "text": [
        "\r",
        "Plotting row 159"
       ]
      },
      {
       "output_type": "stream",
       "stream": "stdout",
       "text": [
        "\r",
        "Plotting row 160"
       ]
      },
      {
       "output_type": "stream",
       "stream": "stdout",
       "text": [
        "\r",
        "Plotting row 161"
       ]
      },
      {
       "output_type": "stream",
       "stream": "stdout",
       "text": [
        "\r",
        "Plotting row 162"
       ]
      },
      {
       "output_type": "stream",
       "stream": "stdout",
       "text": [
        "\r",
        "Plotting row 163"
       ]
      },
      {
       "output_type": "stream",
       "stream": "stdout",
       "text": [
        "\r",
        "Plotting row 164"
       ]
      },
      {
       "output_type": "stream",
       "stream": "stdout",
       "text": [
        "\r",
        "Plotting row 165"
       ]
      },
      {
       "output_type": "stream",
       "stream": "stdout",
       "text": [
        "\r",
        "Plotting row 166"
       ]
      },
      {
       "output_type": "stream",
       "stream": "stdout",
       "text": [
        "\r",
        "Plotting row 167"
       ]
      },
      {
       "output_type": "stream",
       "stream": "stdout",
       "text": [
        "\r",
        "Plotting row 168"
       ]
      },
      {
       "output_type": "stream",
       "stream": "stdout",
       "text": [
        "\r",
        "Plotting row 169"
       ]
      },
      {
       "output_type": "stream",
       "stream": "stdout",
       "text": [
        "\r",
        "Plotting row 170"
       ]
      },
      {
       "output_type": "stream",
       "stream": "stdout",
       "text": [
        "\r",
        "Plotting row 171"
       ]
      },
      {
       "output_type": "stream",
       "stream": "stdout",
       "text": [
        "\r",
        "Plotting row 172"
       ]
      },
      {
       "output_type": "stream",
       "stream": "stdout",
       "text": [
        "\r",
        "Plotting row 173"
       ]
      },
      {
       "output_type": "stream",
       "stream": "stdout",
       "text": [
        "\r",
        "Plotting row 174"
       ]
      },
      {
       "output_type": "stream",
       "stream": "stdout",
       "text": [
        "\r",
        "Plotting row 175"
       ]
      },
      {
       "output_type": "stream",
       "stream": "stdout",
       "text": [
        "\r",
        "Plotting row 176"
       ]
      },
      {
       "output_type": "stream",
       "stream": "stdout",
       "text": [
        "\r",
        "Plotting row 177"
       ]
      },
      {
       "output_type": "stream",
       "stream": "stdout",
       "text": [
        "\r",
        "Plotting row 178"
       ]
      },
      {
       "output_type": "stream",
       "stream": "stdout",
       "text": [
        "\r",
        "Plotting row 179"
       ]
      },
      {
       "output_type": "stream",
       "stream": "stdout",
       "text": [
        "\r",
        "Plotting row 180"
       ]
      },
      {
       "output_type": "stream",
       "stream": "stdout",
       "text": [
        "\r",
        "Plotting row 181"
       ]
      },
      {
       "output_type": "stream",
       "stream": "stdout",
       "text": [
        "\r",
        "Plotting row 182"
       ]
      },
      {
       "output_type": "stream",
       "stream": "stdout",
       "text": [
        "\r",
        "Plotting row 183"
       ]
      },
      {
       "output_type": "stream",
       "stream": "stdout",
       "text": [
        "\r",
        "Plotting row 184"
       ]
      },
      {
       "output_type": "stream",
       "stream": "stdout",
       "text": [
        "\r",
        "Plotting row 185"
       ]
      },
      {
       "output_type": "stream",
       "stream": "stdout",
       "text": [
        "\r",
        "Plotting row 186"
       ]
      },
      {
       "output_type": "stream",
       "stream": "stdout",
       "text": [
        "\r",
        "Plotting row 187"
       ]
      },
      {
       "output_type": "stream",
       "stream": "stdout",
       "text": [
        "\r",
        "Plotting row 188"
       ]
      },
      {
       "output_type": "stream",
       "stream": "stdout",
       "text": [
        "\r",
        "Plotting row 189"
       ]
      },
      {
       "output_type": "stream",
       "stream": "stdout",
       "text": [
        "\r",
        "Plotting row 190"
       ]
      },
      {
       "output_type": "stream",
       "stream": "stdout",
       "text": [
        "\r",
        "Plotting row 191"
       ]
      },
      {
       "output_type": "stream",
       "stream": "stdout",
       "text": [
        "\r",
        "Plotting row 192"
       ]
      },
      {
       "output_type": "stream",
       "stream": "stdout",
       "text": [
        "\r",
        "Plotting row 193"
       ]
      },
      {
       "output_type": "stream",
       "stream": "stdout",
       "text": [
        "\r",
        "Plotting row 194"
       ]
      },
      {
       "output_type": "stream",
       "stream": "stdout",
       "text": [
        "\r",
        "Plotting row 195"
       ]
      },
      {
       "output_type": "stream",
       "stream": "stdout",
       "text": [
        "\r",
        "Plotting row 196"
       ]
      },
      {
       "output_type": "stream",
       "stream": "stdout",
       "text": [
        "\r",
        "Plotting row 197"
       ]
      },
      {
       "output_type": "stream",
       "stream": "stdout",
       "text": [
        "\r",
        "Plotting row 198"
       ]
      },
      {
       "output_type": "stream",
       "stream": "stdout",
       "text": [
        "\r",
        "Plotting row 199"
       ]
      },
      {
       "output_type": "stream",
       "stream": "stdout",
       "text": [
        "\r",
        "Plotting row 200"
       ]
      },
      {
       "output_type": "stream",
       "stream": "stdout",
       "text": [
        "\r",
        "Plotting row 201"
       ]
      },
      {
       "output_type": "stream",
       "stream": "stdout",
       "text": [
        "\r",
        "Plotting row 202"
       ]
      },
      {
       "output_type": "stream",
       "stream": "stdout",
       "text": [
        "\r",
        "Plotting row 203"
       ]
      },
      {
       "output_type": "stream",
       "stream": "stdout",
       "text": [
        "\r",
        "Plotting row 204"
       ]
      },
      {
       "output_type": "stream",
       "stream": "stdout",
       "text": [
        "\r",
        "Plotting row 205"
       ]
      },
      {
       "output_type": "stream",
       "stream": "stdout",
       "text": [
        "\r",
        "Plotting row 206"
       ]
      },
      {
       "output_type": "stream",
       "stream": "stdout",
       "text": [
        "\r",
        "Plotting row 207"
       ]
      },
      {
       "output_type": "stream",
       "stream": "stdout",
       "text": [
        "\r",
        "Plotting row 208"
       ]
      },
      {
       "output_type": "stream",
       "stream": "stdout",
       "text": [
        "\r",
        "Plotting row 209"
       ]
      },
      {
       "output_type": "stream",
       "stream": "stdout",
       "text": [
        "\r",
        "Plotting row 210"
       ]
      },
      {
       "output_type": "stream",
       "stream": "stdout",
       "text": [
        "\r",
        "Plotting row 211"
       ]
      },
      {
       "output_type": "stream",
       "stream": "stdout",
       "text": [
        "\r",
        "Plotting row 212"
       ]
      },
      {
       "output_type": "stream",
       "stream": "stdout",
       "text": [
        "\r",
        "Plotting row 213"
       ]
      },
      {
       "output_type": "stream",
       "stream": "stdout",
       "text": [
        "\r",
        "Plotting row 214"
       ]
      },
      {
       "output_type": "stream",
       "stream": "stdout",
       "text": [
        "\r",
        "Plotting row 215"
       ]
      },
      {
       "output_type": "stream",
       "stream": "stdout",
       "text": [
        "\r",
        "Plotting row 216"
       ]
      },
      {
       "output_type": "stream",
       "stream": "stdout",
       "text": [
        "\r",
        "Plotting row 217"
       ]
      },
      {
       "output_type": "stream",
       "stream": "stdout",
       "text": [
        "\r",
        "Plotting row 218"
       ]
      },
      {
       "output_type": "stream",
       "stream": "stdout",
       "text": [
        "\r",
        "Plotting row 219"
       ]
      },
      {
       "output_type": "stream",
       "stream": "stdout",
       "text": [
        "\r",
        "Plotting row 220"
       ]
      },
      {
       "output_type": "stream",
       "stream": "stdout",
       "text": [
        "\r",
        "Plotting row 221"
       ]
      },
      {
       "output_type": "stream",
       "stream": "stdout",
       "text": [
        "\r",
        "Plotting row 222"
       ]
      },
      {
       "output_type": "stream",
       "stream": "stdout",
       "text": [
        "\r",
        "Plotting row 223"
       ]
      },
      {
       "output_type": "stream",
       "stream": "stdout",
       "text": [
        "\r",
        "Plotting row 224"
       ]
      },
      {
       "output_type": "stream",
       "stream": "stdout",
       "text": [
        "\r",
        "Plotting row 225"
       ]
      },
      {
       "output_type": "stream",
       "stream": "stdout",
       "text": [
        "\r",
        "Plotting row 226"
       ]
      },
      {
       "output_type": "stream",
       "stream": "stdout",
       "text": [
        "\r",
        "Plotting row 227"
       ]
      },
      {
       "output_type": "stream",
       "stream": "stdout",
       "text": [
        "\r",
        "Plotting row 228"
       ]
      },
      {
       "output_type": "stream",
       "stream": "stdout",
       "text": [
        "\r",
        "Plotting row 229"
       ]
      },
      {
       "output_type": "stream",
       "stream": "stdout",
       "text": [
        "\r",
        "Plotting row 230"
       ]
      },
      {
       "output_type": "stream",
       "stream": "stdout",
       "text": [
        "\r",
        "Plotting row 231"
       ]
      },
      {
       "output_type": "stream",
       "stream": "stdout",
       "text": [
        "\r",
        "Plotting row 232"
       ]
      },
      {
       "output_type": "stream",
       "stream": "stdout",
       "text": [
        "\r",
        "Plotting row 233"
       ]
      },
      {
       "output_type": "stream",
       "stream": "stdout",
       "text": [
        "\r",
        "Plotting row 234"
       ]
      },
      {
       "output_type": "stream",
       "stream": "stdout",
       "text": [
        "\r",
        "Plotting row 235"
       ]
      },
      {
       "output_type": "stream",
       "stream": "stdout",
       "text": [
        "\r",
        "Plotting row 236"
       ]
      },
      {
       "output_type": "stream",
       "stream": "stdout",
       "text": [
        "\r",
        "Plotting row 237"
       ]
      },
      {
       "output_type": "stream",
       "stream": "stdout",
       "text": [
        "\r",
        "Plotting row 238"
       ]
      },
      {
       "output_type": "stream",
       "stream": "stdout",
       "text": [
        "\r",
        "Plotting row 239"
       ]
      },
      {
       "output_type": "stream",
       "stream": "stdout",
       "text": [
        "\r",
        "Plotting row 240"
       ]
      },
      {
       "output_type": "stream",
       "stream": "stdout",
       "text": [
        "\r",
        "Plotting row 241"
       ]
      },
      {
       "output_type": "stream",
       "stream": "stdout",
       "text": [
        "\r",
        "Plotting row 242"
       ]
      },
      {
       "output_type": "stream",
       "stream": "stdout",
       "text": [
        "\r",
        "Plotting row 243"
       ]
      },
      {
       "output_type": "stream",
       "stream": "stdout",
       "text": [
        "\r",
        "Plotting row 244"
       ]
      },
      {
       "output_type": "stream",
       "stream": "stdout",
       "text": [
        "\r",
        "Plotting row 245"
       ]
      },
      {
       "output_type": "stream",
       "stream": "stdout",
       "text": [
        "\r",
        "Plotting row 246"
       ]
      },
      {
       "output_type": "stream",
       "stream": "stdout",
       "text": [
        "\r",
        "Plotting row 247"
       ]
      },
      {
       "output_type": "stream",
       "stream": "stdout",
       "text": [
        "\r",
        "Plotting row 248"
       ]
      },
      {
       "output_type": "stream",
       "stream": "stdout",
       "text": [
        "\r",
        "Plotting row 249"
       ]
      },
      {
       "output_type": "stream",
       "stream": "stdout",
       "text": [
        "\r",
        "Plotting row 250"
       ]
      },
      {
       "output_type": "stream",
       "stream": "stdout",
       "text": [
        "\r",
        "Plotting row 251"
       ]
      },
      {
       "output_type": "stream",
       "stream": "stdout",
       "text": [
        "\r",
        "Plotting row 252"
       ]
      },
      {
       "output_type": "stream",
       "stream": "stdout",
       "text": [
        "\r",
        "Plotting row 253"
       ]
      },
      {
       "output_type": "stream",
       "stream": "stdout",
       "text": [
        "\r",
        "Plotting row 254"
       ]
      },
      {
       "output_type": "stream",
       "stream": "stdout",
       "text": [
        "\r",
        "Plotting row 255"
       ]
      },
      {
       "output_type": "stream",
       "stream": "stdout",
       "text": [
        "\r",
        "Plotting row 256"
       ]
      },
      {
       "output_type": "stream",
       "stream": "stdout",
       "text": [
        "\r",
        "Plotting row 257"
       ]
      },
      {
       "output_type": "stream",
       "stream": "stdout",
       "text": [
        "\r",
        "Plotting row 258"
       ]
      },
      {
       "output_type": "stream",
       "stream": "stdout",
       "text": [
        "\r",
        "Plotting row 259"
       ]
      },
      {
       "output_type": "stream",
       "stream": "stdout",
       "text": [
        "\r",
        "Plotting row 260"
       ]
      },
      {
       "output_type": "stream",
       "stream": "stdout",
       "text": [
        "\r",
        "Plotting row 261"
       ]
      },
      {
       "output_type": "stream",
       "stream": "stdout",
       "text": [
        "\r",
        "Plotting row 262"
       ]
      },
      {
       "output_type": "stream",
       "stream": "stdout",
       "text": [
        "\r",
        "Plotting row 263"
       ]
      },
      {
       "output_type": "stream",
       "stream": "stdout",
       "text": [
        "\r",
        "Plotting row 264"
       ]
      },
      {
       "output_type": "stream",
       "stream": "stdout",
       "text": [
        "\r",
        "Plotting row 265"
       ]
      },
      {
       "output_type": "stream",
       "stream": "stdout",
       "text": [
        "\r",
        "Plotting row 266"
       ]
      },
      {
       "output_type": "stream",
       "stream": "stdout",
       "text": [
        "\r",
        "Plotting row 267"
       ]
      },
      {
       "output_type": "stream",
       "stream": "stdout",
       "text": [
        "\r",
        "Plotting row 268"
       ]
      },
      {
       "output_type": "stream",
       "stream": "stdout",
       "text": [
        "\r",
        "Plotting row 269"
       ]
      },
      {
       "output_type": "stream",
       "stream": "stdout",
       "text": [
        "\r",
        "Plotting row 270"
       ]
      },
      {
       "output_type": "stream",
       "stream": "stdout",
       "text": [
        "\r",
        "Plotting row 271"
       ]
      },
      {
       "output_type": "stream",
       "stream": "stdout",
       "text": [
        "\r",
        "Plotting row 272"
       ]
      },
      {
       "output_type": "stream",
       "stream": "stdout",
       "text": [
        "\r",
        "Plotting row 273"
       ]
      },
      {
       "output_type": "stream",
       "stream": "stdout",
       "text": [
        "\r",
        "Plotting row 274"
       ]
      },
      {
       "output_type": "stream",
       "stream": "stdout",
       "text": [
        "\r",
        "Plotting row 275"
       ]
      },
      {
       "output_type": "stream",
       "stream": "stdout",
       "text": [
        "\r",
        "Plotting row 276"
       ]
      },
      {
       "output_type": "stream",
       "stream": "stdout",
       "text": [
        "\r",
        "Plotting row 277"
       ]
      },
      {
       "output_type": "stream",
       "stream": "stdout",
       "text": [
        "\r",
        "Plotting row 278"
       ]
      },
      {
       "output_type": "stream",
       "stream": "stdout",
       "text": [
        "\r",
        "Plotting row 279"
       ]
      },
      {
       "output_type": "stream",
       "stream": "stdout",
       "text": [
        "\r",
        "Plotting row 280"
       ]
      },
      {
       "output_type": "stream",
       "stream": "stdout",
       "text": [
        "\r",
        "Plotting row 281"
       ]
      },
      {
       "output_type": "stream",
       "stream": "stdout",
       "text": [
        "\r",
        "Plotting row 282"
       ]
      },
      {
       "output_type": "stream",
       "stream": "stdout",
       "text": [
        "\r",
        "Plotting row 283"
       ]
      },
      {
       "output_type": "stream",
       "stream": "stdout",
       "text": [
        "\r",
        "Plotting row 284"
       ]
      },
      {
       "output_type": "stream",
       "stream": "stdout",
       "text": [
        "\r",
        "Plotting row 285"
       ]
      },
      {
       "output_type": "stream",
       "stream": "stdout",
       "text": [
        "\r",
        "Plotting row 286"
       ]
      },
      {
       "output_type": "stream",
       "stream": "stdout",
       "text": [
        "\r",
        "Plotting row 287"
       ]
      },
      {
       "output_type": "stream",
       "stream": "stdout",
       "text": [
        "\r",
        "Plotting row 288"
       ]
      },
      {
       "output_type": "stream",
       "stream": "stdout",
       "text": [
        "\r",
        "Plotting row 289"
       ]
      },
      {
       "output_type": "stream",
       "stream": "stdout",
       "text": [
        "\r",
        "Plotting row 290"
       ]
      },
      {
       "output_type": "stream",
       "stream": "stdout",
       "text": [
        "\r",
        "Plotting row 291"
       ]
      },
      {
       "output_type": "stream",
       "stream": "stdout",
       "text": [
        "\r",
        "Plotting row 292"
       ]
      },
      {
       "output_type": "stream",
       "stream": "stdout",
       "text": [
        "\r",
        "Plotting row 293"
       ]
      },
      {
       "output_type": "stream",
       "stream": "stdout",
       "text": [
        "\r",
        "Plotting row 294"
       ]
      },
      {
       "output_type": "stream",
       "stream": "stdout",
       "text": [
        "\r",
        "Plotting row 295"
       ]
      },
      {
       "output_type": "stream",
       "stream": "stdout",
       "text": [
        "\r",
        "Plotting row 296"
       ]
      },
      {
       "output_type": "stream",
       "stream": "stdout",
       "text": [
        "\r",
        "Plotting row 297"
       ]
      },
      {
       "output_type": "stream",
       "stream": "stdout",
       "text": [
        "\r",
        "Plotting row 298"
       ]
      },
      {
       "output_type": "stream",
       "stream": "stdout",
       "text": [
        "\r",
        "Plotting row 299"
       ]
      },
      {
       "output_type": "stream",
       "stream": "stdout",
       "text": [
        "\r",
        "Plotting row 300"
       ]
      },
      {
       "output_type": "stream",
       "stream": "stdout",
       "text": [
        "\r",
        "Plotting row 301"
       ]
      },
      {
       "output_type": "stream",
       "stream": "stdout",
       "text": [
        "\r",
        "Plotting row 302"
       ]
      },
      {
       "output_type": "stream",
       "stream": "stdout",
       "text": [
        "\r",
        "Plotting row 303"
       ]
      },
      {
       "output_type": "stream",
       "stream": "stdout",
       "text": [
        "\r",
        "Plotting row 304"
       ]
      },
      {
       "output_type": "stream",
       "stream": "stdout",
       "text": [
        "\r",
        "Plotting row 305"
       ]
      },
      {
       "output_type": "stream",
       "stream": "stdout",
       "text": [
        "\r",
        "Plotting row 306"
       ]
      },
      {
       "output_type": "stream",
       "stream": "stdout",
       "text": [
        "\r",
        "Plotting row 307"
       ]
      },
      {
       "output_type": "stream",
       "stream": "stdout",
       "text": [
        "\r",
        "Plotting row 308"
       ]
      },
      {
       "output_type": "stream",
       "stream": "stdout",
       "text": [
        "\r",
        "Plotting row 309"
       ]
      },
      {
       "output_type": "stream",
       "stream": "stdout",
       "text": [
        "\r",
        "Plotting row 310"
       ]
      },
      {
       "output_type": "stream",
       "stream": "stdout",
       "text": [
        "\r",
        "Plotting row 311"
       ]
      },
      {
       "output_type": "stream",
       "stream": "stdout",
       "text": [
        "\r",
        "Plotting row 312"
       ]
      },
      {
       "output_type": "stream",
       "stream": "stdout",
       "text": [
        "\r",
        "Plotting row 313"
       ]
      },
      {
       "output_type": "stream",
       "stream": "stdout",
       "text": [
        "\r",
        "Plotting row 314"
       ]
      },
      {
       "output_type": "stream",
       "stream": "stdout",
       "text": [
        "\r",
        "Plotting row 315"
       ]
      },
      {
       "output_type": "stream",
       "stream": "stdout",
       "text": [
        "\r",
        "Plotting row 316"
       ]
      },
      {
       "output_type": "stream",
       "stream": "stdout",
       "text": [
        "\r",
        "Plotting row 317"
       ]
      },
      {
       "output_type": "stream",
       "stream": "stdout",
       "text": [
        "\r",
        "Plotting row 318"
       ]
      },
      {
       "output_type": "stream",
       "stream": "stdout",
       "text": [
        "\r",
        "Plotting row 319"
       ]
      },
      {
       "output_type": "stream",
       "stream": "stdout",
       "text": [
        "\r",
        "Plotting row 320"
       ]
      },
      {
       "output_type": "stream",
       "stream": "stdout",
       "text": [
        "\r",
        "Plotting row 321"
       ]
      },
      {
       "output_type": "stream",
       "stream": "stdout",
       "text": [
        "\r",
        "Plotting row 322"
       ]
      },
      {
       "output_type": "stream",
       "stream": "stdout",
       "text": [
        "\r",
        "Plotting row 323"
       ]
      },
      {
       "output_type": "stream",
       "stream": "stdout",
       "text": [
        "\r",
        "Plotting row 324"
       ]
      },
      {
       "output_type": "stream",
       "stream": "stdout",
       "text": [
        "\r",
        "Plotting row 325"
       ]
      },
      {
       "output_type": "stream",
       "stream": "stdout",
       "text": [
        "\r",
        "Plotting row 326"
       ]
      },
      {
       "output_type": "stream",
       "stream": "stdout",
       "text": [
        "\r",
        "Plotting row 327"
       ]
      },
      {
       "output_type": "stream",
       "stream": "stdout",
       "text": [
        "\r",
        "Plotting row 328"
       ]
      },
      {
       "output_type": "stream",
       "stream": "stdout",
       "text": [
        "\r",
        "Plotting row 329"
       ]
      },
      {
       "output_type": "stream",
       "stream": "stdout",
       "text": [
        "\r",
        "Plotting row 330"
       ]
      },
      {
       "output_type": "stream",
       "stream": "stdout",
       "text": [
        "\r",
        "Plotting row 331"
       ]
      },
      {
       "output_type": "stream",
       "stream": "stdout",
       "text": [
        "\r",
        "Plotting row 332"
       ]
      },
      {
       "output_type": "stream",
       "stream": "stdout",
       "text": [
        "\r",
        "Plotting row 333"
       ]
      },
      {
       "output_type": "stream",
       "stream": "stdout",
       "text": [
        "\r",
        "Plotting row 334"
       ]
      },
      {
       "output_type": "stream",
       "stream": "stdout",
       "text": [
        "\r",
        "Plotting row 335"
       ]
      },
      {
       "output_type": "stream",
       "stream": "stdout",
       "text": [
        "\r",
        "Plotting row 336"
       ]
      },
      {
       "output_type": "stream",
       "stream": "stdout",
       "text": [
        "\r",
        "Plotting row 337"
       ]
      },
      {
       "output_type": "stream",
       "stream": "stdout",
       "text": [
        "\r",
        "Plotting row 338"
       ]
      },
      {
       "output_type": "stream",
       "stream": "stdout",
       "text": [
        "\r",
        "Plotting row 339"
       ]
      },
      {
       "output_type": "stream",
       "stream": "stdout",
       "text": [
        "\r",
        "Plotting row 340"
       ]
      },
      {
       "output_type": "stream",
       "stream": "stdout",
       "text": [
        "\r",
        "Plotting row 341"
       ]
      },
      {
       "output_type": "stream",
       "stream": "stdout",
       "text": [
        "\r",
        "Plotting row 342"
       ]
      },
      {
       "output_type": "stream",
       "stream": "stdout",
       "text": [
        "\r",
        "Plotting row 343"
       ]
      },
      {
       "output_type": "stream",
       "stream": "stdout",
       "text": [
        "\r",
        "Plotting row 344"
       ]
      },
      {
       "output_type": "stream",
       "stream": "stdout",
       "text": [
        "\r",
        "Plotting row 345"
       ]
      },
      {
       "output_type": "stream",
       "stream": "stdout",
       "text": [
        "\r",
        "Plotting row 346"
       ]
      },
      {
       "output_type": "stream",
       "stream": "stdout",
       "text": [
        "\r",
        "Plotting row 347"
       ]
      },
      {
       "output_type": "stream",
       "stream": "stdout",
       "text": [
        "\r",
        "Plotting row 348"
       ]
      },
      {
       "output_type": "stream",
       "stream": "stdout",
       "text": [
        "\r",
        "Plotting row 349"
       ]
      },
      {
       "output_type": "stream",
       "stream": "stdout",
       "text": [
        "\r",
        "Plotting row 350"
       ]
      },
      {
       "output_type": "stream",
       "stream": "stdout",
       "text": [
        "\r",
        "Plotting row 351"
       ]
      },
      {
       "output_type": "stream",
       "stream": "stdout",
       "text": [
        "\r",
        "Plotting row 352"
       ]
      },
      {
       "output_type": "stream",
       "stream": "stdout",
       "text": [
        "\r",
        "Plotting row 353"
       ]
      },
      {
       "output_type": "stream",
       "stream": "stdout",
       "text": [
        "\r",
        "Plotting row 354"
       ]
      },
      {
       "output_type": "stream",
       "stream": "stdout",
       "text": [
        "\r",
        "Plotting row 355"
       ]
      },
      {
       "output_type": "stream",
       "stream": "stdout",
       "text": [
        "\r",
        "Plotting row 356"
       ]
      },
      {
       "output_type": "stream",
       "stream": "stdout",
       "text": [
        "\r",
        "Plotting row 357"
       ]
      },
      {
       "output_type": "stream",
       "stream": "stdout",
       "text": [
        "\r",
        "Plotting row 358"
       ]
      },
      {
       "output_type": "stream",
       "stream": "stdout",
       "text": [
        "\r",
        "Plotting row 359"
       ]
      },
      {
       "output_type": "stream",
       "stream": "stdout",
       "text": [
        "\r",
        "Plotting row 360"
       ]
      },
      {
       "output_type": "stream",
       "stream": "stdout",
       "text": [
        "\r",
        "Plotting row 361"
       ]
      },
      {
       "output_type": "stream",
       "stream": "stdout",
       "text": [
        "\r",
        "Plotting row 362"
       ]
      },
      {
       "output_type": "stream",
       "stream": "stdout",
       "text": [
        "\r",
        "Plotting row 363"
       ]
      },
      {
       "output_type": "stream",
       "stream": "stdout",
       "text": [
        "\r",
        "Plotting row 364"
       ]
      },
      {
       "output_type": "stream",
       "stream": "stdout",
       "text": [
        "\r",
        "Plotting row 365"
       ]
      },
      {
       "output_type": "stream",
       "stream": "stdout",
       "text": [
        "\r",
        "Plotting row 366"
       ]
      },
      {
       "output_type": "stream",
       "stream": "stdout",
       "text": [
        "\r",
        "Plotting row 367"
       ]
      },
      {
       "output_type": "stream",
       "stream": "stdout",
       "text": [
        "\r",
        "Plotting row 368"
       ]
      },
      {
       "output_type": "stream",
       "stream": "stdout",
       "text": [
        "\r",
        "Plotting row 369"
       ]
      },
      {
       "output_type": "stream",
       "stream": "stdout",
       "text": [
        "\r",
        "Plotting row 370"
       ]
      },
      {
       "output_type": "stream",
       "stream": "stdout",
       "text": [
        "\r",
        "Plotting row 371"
       ]
      },
      {
       "output_type": "stream",
       "stream": "stdout",
       "text": [
        "\r",
        "Plotting row 372"
       ]
      },
      {
       "output_type": "stream",
       "stream": "stdout",
       "text": [
        "\r",
        "Plotting row 373"
       ]
      },
      {
       "output_type": "stream",
       "stream": "stdout",
       "text": [
        "\r",
        "Plotting row 374"
       ]
      },
      {
       "output_type": "stream",
       "stream": "stdout",
       "text": [
        "\r",
        "Plotting row 375"
       ]
      },
      {
       "output_type": "stream",
       "stream": "stdout",
       "text": [
        "\r",
        "Plotting row 376"
       ]
      },
      {
       "output_type": "stream",
       "stream": "stdout",
       "text": [
        "\r",
        "Plotting row 377"
       ]
      },
      {
       "output_type": "stream",
       "stream": "stdout",
       "text": [
        "\r",
        "Plotting row 378"
       ]
      },
      {
       "output_type": "stream",
       "stream": "stdout",
       "text": [
        "\r",
        "Plotting row 379"
       ]
      },
      {
       "output_type": "stream",
       "stream": "stdout",
       "text": [
        "\r",
        "Plotting row 380"
       ]
      },
      {
       "output_type": "stream",
       "stream": "stdout",
       "text": [
        "\r",
        "Plotting row 381"
       ]
      },
      {
       "output_type": "stream",
       "stream": "stdout",
       "text": [
        "\r",
        "Plotting row 382"
       ]
      },
      {
       "output_type": "stream",
       "stream": "stdout",
       "text": [
        "\r",
        "Plotting row 383"
       ]
      },
      {
       "output_type": "stream",
       "stream": "stdout",
       "text": [
        "\r",
        "Plotting row 384"
       ]
      },
      {
       "output_type": "stream",
       "stream": "stdout",
       "text": [
        "\r",
        "Plotting row 385"
       ]
      },
      {
       "output_type": "stream",
       "stream": "stdout",
       "text": [
        "\r",
        "Plotting row 386"
       ]
      },
      {
       "output_type": "stream",
       "stream": "stdout",
       "text": [
        "\r",
        "Plotting row 387"
       ]
      },
      {
       "output_type": "stream",
       "stream": "stdout",
       "text": [
        "\r",
        "Plotting row 388"
       ]
      },
      {
       "output_type": "stream",
       "stream": "stdout",
       "text": [
        "\r",
        "Plotting row 389"
       ]
      },
      {
       "output_type": "stream",
       "stream": "stdout",
       "text": [
        "\r",
        "Plotting row 390"
       ]
      },
      {
       "output_type": "stream",
       "stream": "stdout",
       "text": [
        "\r",
        "Plotting row 391"
       ]
      },
      {
       "output_type": "stream",
       "stream": "stdout",
       "text": [
        "\r",
        "Plotting row 392"
       ]
      },
      {
       "output_type": "stream",
       "stream": "stdout",
       "text": [
        "\r",
        "Plotting row 393"
       ]
      },
      {
       "output_type": "stream",
       "stream": "stdout",
       "text": [
        "\r",
        "Plotting row 394"
       ]
      },
      {
       "output_type": "stream",
       "stream": "stdout",
       "text": [
        "\r",
        "Plotting row 395"
       ]
      },
      {
       "output_type": "stream",
       "stream": "stdout",
       "text": [
        "\r",
        "Plotting row 396"
       ]
      },
      {
       "output_type": "stream",
       "stream": "stdout",
       "text": [
        "\r",
        "Plotting row 397"
       ]
      },
      {
       "output_type": "stream",
       "stream": "stdout",
       "text": [
        "\r",
        "Plotting row 398"
       ]
      },
      {
       "output_type": "stream",
       "stream": "stdout",
       "text": [
        "\r",
        "Plotting row 399"
       ]
      },
      {
       "output_type": "stream",
       "stream": "stdout",
       "text": [
        "\r",
        "Plotting row 400"
       ]
      },
      {
       "output_type": "stream",
       "stream": "stdout",
       "text": [
        "\r",
        "Plotting row 401"
       ]
      },
      {
       "output_type": "stream",
       "stream": "stdout",
       "text": [
        "\r",
        "Plotting row 402"
       ]
      },
      {
       "output_type": "stream",
       "stream": "stdout",
       "text": [
        "\r",
        "Plotting row 403"
       ]
      },
      {
       "output_type": "stream",
       "stream": "stdout",
       "text": [
        "\r",
        "Plotting row 404"
       ]
      },
      {
       "output_type": "stream",
       "stream": "stdout",
       "text": [
        "\r",
        "Plotting row 405"
       ]
      },
      {
       "output_type": "stream",
       "stream": "stdout",
       "text": [
        "\r",
        "Plotting row 406"
       ]
      },
      {
       "output_type": "stream",
       "stream": "stdout",
       "text": [
        "\r",
        "Plotting row 407"
       ]
      },
      {
       "output_type": "stream",
       "stream": "stdout",
       "text": [
        "\r",
        "Plotting row 408"
       ]
      },
      {
       "output_type": "stream",
       "stream": "stdout",
       "text": [
        "\r",
        "Plotting row 409"
       ]
      },
      {
       "output_type": "stream",
       "stream": "stdout",
       "text": [
        "\r",
        "Plotting row 410"
       ]
      },
      {
       "output_type": "stream",
       "stream": "stdout",
       "text": [
        "\r",
        "Plotting row 411"
       ]
      },
      {
       "output_type": "stream",
       "stream": "stdout",
       "text": [
        "\r",
        "Plotting row 412"
       ]
      },
      {
       "output_type": "stream",
       "stream": "stdout",
       "text": [
        "\r",
        "Plotting row 413"
       ]
      },
      {
       "output_type": "stream",
       "stream": "stdout",
       "text": [
        "\r",
        "Plotting row 414"
       ]
      },
      {
       "output_type": "stream",
       "stream": "stdout",
       "text": [
        "\r",
        "Plotting row 415"
       ]
      },
      {
       "output_type": "stream",
       "stream": "stdout",
       "text": [
        "\r",
        "Plotting row 416"
       ]
      },
      {
       "output_type": "stream",
       "stream": "stdout",
       "text": [
        "\r",
        "Plotting row 417"
       ]
      },
      {
       "output_type": "stream",
       "stream": "stdout",
       "text": [
        "\r",
        "Plotting row 418"
       ]
      },
      {
       "output_type": "stream",
       "stream": "stdout",
       "text": [
        "\r",
        "Plotting row 419"
       ]
      },
      {
       "output_type": "stream",
       "stream": "stdout",
       "text": [
        "\r",
        "Plotting row 420"
       ]
      },
      {
       "output_type": "stream",
       "stream": "stdout",
       "text": [
        "\r",
        "Plotting row 421"
       ]
      },
      {
       "output_type": "stream",
       "stream": "stdout",
       "text": [
        "\r",
        "Plotting row 422"
       ]
      },
      {
       "output_type": "stream",
       "stream": "stdout",
       "text": [
        "\r",
        "Plotting row 423"
       ]
      },
      {
       "output_type": "stream",
       "stream": "stdout",
       "text": [
        "\r",
        "Plotting row 424"
       ]
      },
      {
       "output_type": "stream",
       "stream": "stdout",
       "text": [
        "\r",
        "Plotting row 425"
       ]
      },
      {
       "output_type": "stream",
       "stream": "stdout",
       "text": [
        "\r",
        "Plotting row 426"
       ]
      },
      {
       "output_type": "stream",
       "stream": "stdout",
       "text": [
        "\r",
        "Plotting row 427"
       ]
      },
      {
       "output_type": "stream",
       "stream": "stdout",
       "text": [
        "\r",
        "Plotting row 428"
       ]
      },
      {
       "output_type": "stream",
       "stream": "stdout",
       "text": [
        "\r",
        "Plotting row 429"
       ]
      },
      {
       "output_type": "stream",
       "stream": "stdout",
       "text": [
        "\r",
        "Plotting row 430"
       ]
      },
      {
       "output_type": "stream",
       "stream": "stdout",
       "text": [
        "\r",
        "Plotting row 431"
       ]
      },
      {
       "output_type": "stream",
       "stream": "stdout",
       "text": [
        "\r",
        "Plotting row 432"
       ]
      },
      {
       "output_type": "stream",
       "stream": "stdout",
       "text": [
        "\r",
        "Plotting row 433"
       ]
      },
      {
       "output_type": "stream",
       "stream": "stdout",
       "text": [
        "\r",
        "Plotting row 434"
       ]
      },
      {
       "output_type": "stream",
       "stream": "stdout",
       "text": [
        "\r",
        "Plotting row 435"
       ]
      },
      {
       "output_type": "stream",
       "stream": "stdout",
       "text": [
        "\r",
        "Plotting row 436"
       ]
      },
      {
       "output_type": "stream",
       "stream": "stdout",
       "text": [
        "\r",
        "Plotting row 437"
       ]
      },
      {
       "output_type": "stream",
       "stream": "stdout",
       "text": [
        "\r",
        "Plotting row 438"
       ]
      },
      {
       "output_type": "stream",
       "stream": "stdout",
       "text": [
        "\r",
        "Plotting row 439"
       ]
      },
      {
       "output_type": "stream",
       "stream": "stdout",
       "text": [
        "\r",
        "Plotting row 440"
       ]
      },
      {
       "output_type": "stream",
       "stream": "stdout",
       "text": [
        "\r",
        "Plotting row 441"
       ]
      },
      {
       "output_type": "stream",
       "stream": "stdout",
       "text": [
        "\r",
        "Plotting row 442"
       ]
      },
      {
       "output_type": "stream",
       "stream": "stdout",
       "text": [
        "\r",
        "Plotting row 443"
       ]
      },
      {
       "output_type": "stream",
       "stream": "stdout",
       "text": [
        "\r",
        "Plotting row 444"
       ]
      },
      {
       "output_type": "stream",
       "stream": "stdout",
       "text": [
        "\r",
        "Plotting row 445"
       ]
      },
      {
       "output_type": "stream",
       "stream": "stdout",
       "text": [
        "\r",
        "Plotting row 446"
       ]
      },
      {
       "output_type": "stream",
       "stream": "stdout",
       "text": [
        "\r",
        "Plotting row 447"
       ]
      },
      {
       "output_type": "stream",
       "stream": "stdout",
       "text": [
        "\r",
        "Plotting row 448"
       ]
      },
      {
       "output_type": "stream",
       "stream": "stdout",
       "text": [
        "\r",
        "Plotting row 449"
       ]
      },
      {
       "output_type": "stream",
       "stream": "stdout",
       "text": [
        "\r",
        "Plotting row 450"
       ]
      },
      {
       "output_type": "stream",
       "stream": "stdout",
       "text": [
        "\r",
        "Plotting row 451"
       ]
      },
      {
       "output_type": "stream",
       "stream": "stdout",
       "text": [
        "\r",
        "Plotting row 452"
       ]
      },
      {
       "output_type": "stream",
       "stream": "stdout",
       "text": [
        "\r",
        "Plotting row 453"
       ]
      },
      {
       "output_type": "stream",
       "stream": "stdout",
       "text": [
        "\r",
        "Plotting row 454"
       ]
      },
      {
       "output_type": "stream",
       "stream": "stdout",
       "text": [
        "\r",
        "Plotting row 455"
       ]
      },
      {
       "output_type": "stream",
       "stream": "stdout",
       "text": [
        "\r",
        "Plotting row 456"
       ]
      },
      {
       "output_type": "stream",
       "stream": "stdout",
       "text": [
        "\r",
        "Plotting row 457"
       ]
      },
      {
       "output_type": "stream",
       "stream": "stdout",
       "text": [
        "\r",
        "Plotting row 458"
       ]
      },
      {
       "output_type": "stream",
       "stream": "stdout",
       "text": [
        "\r",
        "Plotting row 459"
       ]
      },
      {
       "output_type": "stream",
       "stream": "stdout",
       "text": [
        "\r",
        "Plotting row 460"
       ]
      },
      {
       "output_type": "stream",
       "stream": "stdout",
       "text": [
        "\r",
        "Plotting row 461"
       ]
      },
      {
       "output_type": "stream",
       "stream": "stdout",
       "text": [
        "\r",
        "Plotting row 462"
       ]
      },
      {
       "output_type": "stream",
       "stream": "stdout",
       "text": [
        "\r",
        "Plotting row 463"
       ]
      },
      {
       "output_type": "stream",
       "stream": "stdout",
       "text": [
        "\r",
        "Plotting row 464"
       ]
      },
      {
       "output_type": "stream",
       "stream": "stdout",
       "text": [
        "\r",
        "Plotting row 465"
       ]
      },
      {
       "output_type": "stream",
       "stream": "stdout",
       "text": [
        "\r",
        "Plotting row 466"
       ]
      },
      {
       "output_type": "stream",
       "stream": "stdout",
       "text": [
        "\r",
        "Plotting row 467"
       ]
      },
      {
       "output_type": "stream",
       "stream": "stdout",
       "text": [
        "\r",
        "Plotting row 468"
       ]
      },
      {
       "output_type": "stream",
       "stream": "stdout",
       "text": [
        "\r",
        "Plotting row 469"
       ]
      },
      {
       "output_type": "stream",
       "stream": "stdout",
       "text": [
        "\r",
        "Plotting row 470"
       ]
      },
      {
       "output_type": "stream",
       "stream": "stdout",
       "text": [
        "\r",
        "Plotting row 471"
       ]
      },
      {
       "output_type": "stream",
       "stream": "stdout",
       "text": [
        "\r",
        "Plotting row 472"
       ]
      },
      {
       "output_type": "stream",
       "stream": "stdout",
       "text": [
        "\r",
        "Plotting row 473"
       ]
      },
      {
       "output_type": "stream",
       "stream": "stdout",
       "text": [
        "\r",
        "Plotting row 474"
       ]
      },
      {
       "output_type": "stream",
       "stream": "stdout",
       "text": [
        "\r",
        "Plotting row 475"
       ]
      },
      {
       "output_type": "stream",
       "stream": "stdout",
       "text": [
        "\r",
        "Plotting row 476"
       ]
      },
      {
       "output_type": "stream",
       "stream": "stdout",
       "text": [
        "\r",
        "Plotting row 477"
       ]
      },
      {
       "output_type": "stream",
       "stream": "stdout",
       "text": [
        "\r",
        "Plotting row 478"
       ]
      },
      {
       "output_type": "stream",
       "stream": "stdout",
       "text": [
        "\r",
        "Plotting row 479"
       ]
      },
      {
       "output_type": "stream",
       "stream": "stdout",
       "text": [
        "\r",
        "Plotting row 480"
       ]
      },
      {
       "output_type": "stream",
       "stream": "stdout",
       "text": [
        "\r",
        "Plotting row 481"
       ]
      },
      {
       "output_type": "stream",
       "stream": "stdout",
       "text": [
        "\r",
        "Plotting row 482"
       ]
      },
      {
       "output_type": "stream",
       "stream": "stdout",
       "text": [
        "\r",
        "Plotting row 483"
       ]
      },
      {
       "output_type": "stream",
       "stream": "stdout",
       "text": [
        "\r",
        "Plotting row 484"
       ]
      },
      {
       "output_type": "stream",
       "stream": "stdout",
       "text": [
        "\r",
        "Plotting row 485"
       ]
      },
      {
       "output_type": "stream",
       "stream": "stdout",
       "text": [
        "\r",
        "Plotting row 486"
       ]
      },
      {
       "output_type": "stream",
       "stream": "stdout",
       "text": [
        "\r",
        "Plotting row 487"
       ]
      },
      {
       "output_type": "stream",
       "stream": "stdout",
       "text": [
        "\r",
        "Plotting row 488"
       ]
      },
      {
       "output_type": "stream",
       "stream": "stdout",
       "text": [
        "\r",
        "Plotting row 489"
       ]
      },
      {
       "output_type": "stream",
       "stream": "stdout",
       "text": [
        "\r",
        "Plotting row 490"
       ]
      },
      {
       "output_type": "stream",
       "stream": "stdout",
       "text": [
        "\r",
        "Plotting row 491"
       ]
      },
      {
       "output_type": "stream",
       "stream": "stdout",
       "text": [
        "\r",
        "Plotting row 492"
       ]
      },
      {
       "output_type": "stream",
       "stream": "stdout",
       "text": [
        "\r",
        "Plotting row 493"
       ]
      },
      {
       "output_type": "stream",
       "stream": "stdout",
       "text": [
        "\r",
        "Plotting row 494"
       ]
      },
      {
       "output_type": "stream",
       "stream": "stdout",
       "text": [
        "\r",
        "Plotting row 495"
       ]
      },
      {
       "output_type": "stream",
       "stream": "stdout",
       "text": [
        "\r",
        "Plotting row 496"
       ]
      },
      {
       "output_type": "stream",
       "stream": "stdout",
       "text": [
        "\r",
        "Plotting row 497"
       ]
      },
      {
       "output_type": "stream",
       "stream": "stdout",
       "text": [
        "\r",
        "Plotting row 498"
       ]
      },
      {
       "output_type": "stream",
       "stream": "stdout",
       "text": [
        "\r",
        "Plotting row 499"
       ]
      },
      {
       "output_type": "stream",
       "stream": "stdout",
       "text": [
        "\r",
        "Plotting row 500"
       ]
      },
      {
       "output_type": "stream",
       "stream": "stdout",
       "text": [
        "\r",
        "Plotting row 501"
       ]
      },
      {
       "output_type": "stream",
       "stream": "stdout",
       "text": [
        "\r",
        "Plotting row 502"
       ]
      },
      {
       "output_type": "stream",
       "stream": "stdout",
       "text": [
        "\r",
        "Plotting row 503"
       ]
      },
      {
       "output_type": "stream",
       "stream": "stdout",
       "text": [
        "\r",
        "Plotting row 504"
       ]
      },
      {
       "output_type": "stream",
       "stream": "stdout",
       "text": [
        "\r",
        "Plotting row 505"
       ]
      },
      {
       "output_type": "stream",
       "stream": "stdout",
       "text": [
        "\r",
        "Plotting row 506"
       ]
      },
      {
       "output_type": "stream",
       "stream": "stdout",
       "text": [
        "\r",
        "Plotting row 507"
       ]
      },
      {
       "output_type": "stream",
       "stream": "stdout",
       "text": [
        "\r",
        "Plotting row 508"
       ]
      },
      {
       "output_type": "stream",
       "stream": "stdout",
       "text": [
        "\r",
        "Plotting row 509"
       ]
      },
      {
       "output_type": "stream",
       "stream": "stdout",
       "text": [
        "\r",
        "Plotting row 510"
       ]
      },
      {
       "output_type": "stream",
       "stream": "stdout",
       "text": [
        "\r",
        "Plotting row 511"
       ]
      },
      {
       "output_type": "stream",
       "stream": "stdout",
       "text": [
        "\r",
        "Plotting row 512"
       ]
      },
      {
       "output_type": "stream",
       "stream": "stdout",
       "text": [
        "\r",
        "Plotting row 513"
       ]
      },
      {
       "output_type": "stream",
       "stream": "stdout",
       "text": [
        "\r",
        "Plotting row 514"
       ]
      },
      {
       "output_type": "stream",
       "stream": "stdout",
       "text": [
        "\r",
        "Plotting row 515"
       ]
      },
      {
       "output_type": "stream",
       "stream": "stdout",
       "text": [
        "\r",
        "Plotting row 516"
       ]
      },
      {
       "output_type": "stream",
       "stream": "stdout",
       "text": [
        "\r",
        "Plotting row 517"
       ]
      },
      {
       "output_type": "stream",
       "stream": "stdout",
       "text": [
        "\r",
        "Plotting row 518"
       ]
      },
      {
       "output_type": "stream",
       "stream": "stdout",
       "text": [
        "\r",
        "Plotting row 519"
       ]
      },
      {
       "output_type": "stream",
       "stream": "stdout",
       "text": [
        "\r",
        "Plotting row 520"
       ]
      },
      {
       "output_type": "stream",
       "stream": "stdout",
       "text": [
        "\r",
        "Plotting row 521"
       ]
      },
      {
       "output_type": "stream",
       "stream": "stdout",
       "text": [
        "\r",
        "Plotting row 522"
       ]
      },
      {
       "output_type": "stream",
       "stream": "stdout",
       "text": [
        "\r",
        "Plotting row 523"
       ]
      },
      {
       "output_type": "stream",
       "stream": "stdout",
       "text": [
        "\r",
        "Plotting row 524"
       ]
      },
      {
       "output_type": "stream",
       "stream": "stdout",
       "text": [
        "\r",
        "Plotting row 525"
       ]
      },
      {
       "output_type": "stream",
       "stream": "stdout",
       "text": [
        "\r",
        "Plotting row 526"
       ]
      },
      {
       "output_type": "stream",
       "stream": "stdout",
       "text": [
        "\r",
        "Plotting row 527"
       ]
      },
      {
       "output_type": "stream",
       "stream": "stdout",
       "text": [
        "\r",
        "Plotting row 528"
       ]
      },
      {
       "output_type": "stream",
       "stream": "stdout",
       "text": [
        "\r",
        "Plotting row 529"
       ]
      },
      {
       "output_type": "stream",
       "stream": "stdout",
       "text": [
        "\r",
        "Plotting row 530"
       ]
      },
      {
       "output_type": "stream",
       "stream": "stdout",
       "text": [
        "\r",
        "Plotting row 531"
       ]
      },
      {
       "output_type": "stream",
       "stream": "stdout",
       "text": [
        "\r",
        "Plotting row 532"
       ]
      },
      {
       "output_type": "stream",
       "stream": "stdout",
       "text": [
        "\r",
        "Plotting row 533"
       ]
      },
      {
       "output_type": "stream",
       "stream": "stdout",
       "text": [
        "\r",
        "Plotting row 534"
       ]
      },
      {
       "output_type": "stream",
       "stream": "stdout",
       "text": [
        "\r",
        "Plotting row 535"
       ]
      },
      {
       "output_type": "stream",
       "stream": "stdout",
       "text": [
        "\r",
        "Plotting row 536"
       ]
      },
      {
       "output_type": "stream",
       "stream": "stdout",
       "text": [
        "\r",
        "Plotting row 537"
       ]
      },
      {
       "output_type": "stream",
       "stream": "stdout",
       "text": [
        "\r",
        "Plotting row 538"
       ]
      },
      {
       "output_type": "stream",
       "stream": "stdout",
       "text": [
        "\r",
        "Plotting row 539"
       ]
      },
      {
       "output_type": "stream",
       "stream": "stdout",
       "text": [
        "\r",
        "Plotting row 540"
       ]
      },
      {
       "output_type": "stream",
       "stream": "stdout",
       "text": [
        "\r",
        "Plotting row 541"
       ]
      },
      {
       "output_type": "stream",
       "stream": "stdout",
       "text": [
        "\r",
        "Plotting row 542"
       ]
      },
      {
       "output_type": "stream",
       "stream": "stdout",
       "text": [
        "\r",
        "Plotting row 543"
       ]
      },
      {
       "output_type": "stream",
       "stream": "stdout",
       "text": [
        "\r",
        "Plotting row 544"
       ]
      },
      {
       "output_type": "stream",
       "stream": "stdout",
       "text": [
        "\r",
        "Plotting row 545"
       ]
      },
      {
       "output_type": "stream",
       "stream": "stdout",
       "text": [
        "\r",
        "Plotting row 546"
       ]
      },
      {
       "output_type": "stream",
       "stream": "stdout",
       "text": [
        "\r",
        "Plotting row 547"
       ]
      },
      {
       "output_type": "stream",
       "stream": "stdout",
       "text": [
        "\r",
        "Plotting row 548"
       ]
      },
      {
       "output_type": "stream",
       "stream": "stdout",
       "text": [
        "\r",
        "Plotting row 549"
       ]
      },
      {
       "output_type": "stream",
       "stream": "stdout",
       "text": [
        "\r",
        "Plotting row 550"
       ]
      },
      {
       "output_type": "stream",
       "stream": "stdout",
       "text": [
        "\r",
        "Plotting row 551"
       ]
      },
      {
       "output_type": "stream",
       "stream": "stdout",
       "text": [
        "\r",
        "Plotting row 552"
       ]
      },
      {
       "output_type": "stream",
       "stream": "stdout",
       "text": [
        "\r",
        "Plotting row 553"
       ]
      },
      {
       "output_type": "stream",
       "stream": "stdout",
       "text": [
        "\r",
        "Plotting row 554"
       ]
      },
      {
       "output_type": "stream",
       "stream": "stdout",
       "text": [
        "\r",
        "Plotting row 555"
       ]
      },
      {
       "output_type": "stream",
       "stream": "stdout",
       "text": [
        "\r",
        "Plotting row 556"
       ]
      },
      {
       "output_type": "stream",
       "stream": "stdout",
       "text": [
        "\r",
        "Plotting row 557"
       ]
      },
      {
       "output_type": "stream",
       "stream": "stdout",
       "text": [
        "\r",
        "Plotting row 558"
       ]
      },
      {
       "output_type": "stream",
       "stream": "stdout",
       "text": [
        "\r",
        "Plotting row 559"
       ]
      },
      {
       "output_type": "stream",
       "stream": "stdout",
       "text": [
        "\r",
        "Plotting row 560"
       ]
      },
      {
       "output_type": "stream",
       "stream": "stdout",
       "text": [
        "\r",
        "Plotting row 561"
       ]
      },
      {
       "output_type": "stream",
       "stream": "stdout",
       "text": [
        "\r",
        "Plotting row 562"
       ]
      },
      {
       "output_type": "stream",
       "stream": "stdout",
       "text": [
        "\r",
        "Plotting row 563"
       ]
      },
      {
       "output_type": "stream",
       "stream": "stdout",
       "text": [
        "\r",
        "Plotting row 564"
       ]
      },
      {
       "output_type": "stream",
       "stream": "stdout",
       "text": [
        "\r",
        "Plotting row 565"
       ]
      },
      {
       "output_type": "stream",
       "stream": "stdout",
       "text": [
        "\r",
        "Plotting row 566"
       ]
      },
      {
       "output_type": "stream",
       "stream": "stdout",
       "text": [
        "\r",
        "Plotting row 567"
       ]
      },
      {
       "output_type": "stream",
       "stream": "stdout",
       "text": [
        "\r",
        "Plotting row 568"
       ]
      },
      {
       "output_type": "stream",
       "stream": "stdout",
       "text": [
        "\r",
        "Plotting row 569"
       ]
      },
      {
       "output_type": "stream",
       "stream": "stdout",
       "text": [
        "\r",
        "Plotting row 570"
       ]
      },
      {
       "output_type": "stream",
       "stream": "stdout",
       "text": [
        "\r",
        "Plotting row 571"
       ]
      },
      {
       "output_type": "stream",
       "stream": "stdout",
       "text": [
        "\r",
        "Plotting row 572"
       ]
      },
      {
       "output_type": "stream",
       "stream": "stdout",
       "text": [
        "\r",
        "Plotting row 573"
       ]
      },
      {
       "output_type": "stream",
       "stream": "stdout",
       "text": [
        "\r",
        "Plotting row 574"
       ]
      },
      {
       "output_type": "stream",
       "stream": "stdout",
       "text": [
        "\r",
        "Plotting row 575"
       ]
      },
      {
       "output_type": "stream",
       "stream": "stdout",
       "text": [
        "\r",
        "Plotting row 576"
       ]
      },
      {
       "output_type": "stream",
       "stream": "stdout",
       "text": [
        "\r",
        "Plotting row 577"
       ]
      },
      {
       "output_type": "stream",
       "stream": "stdout",
       "text": [
        "\r",
        "Plotting row 578"
       ]
      },
      {
       "output_type": "stream",
       "stream": "stdout",
       "text": [
        "\r",
        "Plotting row 579"
       ]
      },
      {
       "output_type": "stream",
       "stream": "stdout",
       "text": [
        "\r",
        "Plotting row 580"
       ]
      },
      {
       "output_type": "stream",
       "stream": "stdout",
       "text": [
        "\r",
        "Plotting row 581"
       ]
      },
      {
       "output_type": "stream",
       "stream": "stdout",
       "text": [
        "\r",
        "Plotting row 582"
       ]
      },
      {
       "output_type": "stream",
       "stream": "stdout",
       "text": [
        "\r",
        "Plotting row 583"
       ]
      },
      {
       "output_type": "stream",
       "stream": "stdout",
       "text": [
        "\r",
        "Plotting row 584"
       ]
      },
      {
       "output_type": "stream",
       "stream": "stdout",
       "text": [
        "\r",
        "Plotting row 585"
       ]
      },
      {
       "output_type": "stream",
       "stream": "stdout",
       "text": [
        "\r",
        "Plotting row 586"
       ]
      },
      {
       "output_type": "stream",
       "stream": "stdout",
       "text": [
        "\r",
        "Plotting row 587"
       ]
      },
      {
       "output_type": "stream",
       "stream": "stdout",
       "text": [
        "\r",
        "Plotting row 588"
       ]
      },
      {
       "output_type": "stream",
       "stream": "stdout",
       "text": [
        "\r",
        "Plotting row 589"
       ]
      },
      {
       "output_type": "stream",
       "stream": "stdout",
       "text": [
        "\r",
        "Plotting row 590"
       ]
      },
      {
       "output_type": "stream",
       "stream": "stdout",
       "text": [
        "\r",
        "Plotting row 591"
       ]
      },
      {
       "output_type": "stream",
       "stream": "stdout",
       "text": [
        "\r",
        "Plotting row 592"
       ]
      },
      {
       "output_type": "stream",
       "stream": "stdout",
       "text": [
        "\r",
        "Plotting row 593"
       ]
      },
      {
       "output_type": "stream",
       "stream": "stdout",
       "text": [
        "\r",
        "Plotting row 594"
       ]
      },
      {
       "output_type": "stream",
       "stream": "stdout",
       "text": [
        "\r",
        "Plotting row 595"
       ]
      },
      {
       "output_type": "stream",
       "stream": "stdout",
       "text": [
        "\r",
        "Plotting row 596"
       ]
      },
      {
       "output_type": "stream",
       "stream": "stdout",
       "text": [
        "\r",
        "Plotting row 597"
       ]
      },
      {
       "output_type": "stream",
       "stream": "stdout",
       "text": [
        "\r",
        "Plotting row 598"
       ]
      },
      {
       "output_type": "stream",
       "stream": "stdout",
       "text": [
        "\r",
        "Plotting row 599"
       ]
      },
      {
       "output_type": "stream",
       "stream": "stdout",
       "text": [
        "\r",
        "Plotting row 600"
       ]
      },
      {
       "output_type": "stream",
       "stream": "stdout",
       "text": [
        "\r",
        "Plotting row 601"
       ]
      },
      {
       "output_type": "stream",
       "stream": "stdout",
       "text": [
        "\r",
        "Plotting row 602"
       ]
      },
      {
       "output_type": "stream",
       "stream": "stdout",
       "text": [
        "\r",
        "Plotting row 603"
       ]
      },
      {
       "output_type": "stream",
       "stream": "stdout",
       "text": [
        "\r",
        "Plotting row 604"
       ]
      },
      {
       "output_type": "stream",
       "stream": "stdout",
       "text": [
        "\r",
        "Plotting row 605"
       ]
      },
      {
       "output_type": "stream",
       "stream": "stdout",
       "text": [
        "\r",
        "Plotting row 606"
       ]
      },
      {
       "output_type": "stream",
       "stream": "stdout",
       "text": [
        "\r",
        "Plotting row 607"
       ]
      },
      {
       "output_type": "stream",
       "stream": "stdout",
       "text": [
        "\r",
        "Plotting row 608"
       ]
      },
      {
       "output_type": "stream",
       "stream": "stdout",
       "text": [
        "\r",
        "Plotting row 609"
       ]
      },
      {
       "output_type": "stream",
       "stream": "stdout",
       "text": [
        "\r",
        "Plotting row 610"
       ]
      },
      {
       "output_type": "stream",
       "stream": "stdout",
       "text": [
        "\r",
        "Plotting row 611"
       ]
      },
      {
       "output_type": "stream",
       "stream": "stdout",
       "text": [
        "\r",
        "Plotting row 612"
       ]
      },
      {
       "output_type": "stream",
       "stream": "stdout",
       "text": [
        "\r",
        "Plotting row 613"
       ]
      },
      {
       "output_type": "stream",
       "stream": "stdout",
       "text": [
        "\r",
        "Plotting row 614"
       ]
      },
      {
       "output_type": "stream",
       "stream": "stdout",
       "text": [
        "\r",
        "Plotting row 615"
       ]
      },
      {
       "output_type": "stream",
       "stream": "stdout",
       "text": [
        "\r",
        "Plotting row 616"
       ]
      },
      {
       "output_type": "stream",
       "stream": "stdout",
       "text": [
        "\r",
        "Plotting row 617"
       ]
      },
      {
       "output_type": "stream",
       "stream": "stdout",
       "text": [
        "\r",
        "Plotting row 618"
       ]
      },
      {
       "output_type": "stream",
       "stream": "stdout",
       "text": [
        "\r",
        "Plotting row 619"
       ]
      },
      {
       "output_type": "stream",
       "stream": "stdout",
       "text": [
        "\r",
        "Plotting row 620"
       ]
      },
      {
       "output_type": "stream",
       "stream": "stdout",
       "text": [
        "\r",
        "Plotting row 621"
       ]
      },
      {
       "output_type": "stream",
       "stream": "stdout",
       "text": [
        "\r",
        "Plotting row 622"
       ]
      },
      {
       "output_type": "stream",
       "stream": "stdout",
       "text": [
        "\r",
        "Plotting row 623"
       ]
      },
      {
       "output_type": "stream",
       "stream": "stdout",
       "text": [
        "\r",
        "Plotting row 624"
       ]
      },
      {
       "output_type": "stream",
       "stream": "stdout",
       "text": [
        "\r",
        "Plotting row 625"
       ]
      },
      {
       "output_type": "stream",
       "stream": "stdout",
       "text": [
        "\r",
        "Plotting row 626"
       ]
      },
      {
       "output_type": "stream",
       "stream": "stdout",
       "text": [
        "\r",
        "Plotting row 627"
       ]
      },
      {
       "output_type": "stream",
       "stream": "stdout",
       "text": [
        "\r",
        "Plotting row 628"
       ]
      },
      {
       "output_type": "stream",
       "stream": "stdout",
       "text": [
        "\r",
        "Plotting row 629"
       ]
      },
      {
       "output_type": "stream",
       "stream": "stdout",
       "text": [
        "\r",
        "Plotting row 630"
       ]
      },
      {
       "output_type": "stream",
       "stream": "stdout",
       "text": [
        "\r",
        "Plotting row 631"
       ]
      },
      {
       "output_type": "stream",
       "stream": "stdout",
       "text": [
        "\r",
        "Plotting row 632"
       ]
      },
      {
       "output_type": "stream",
       "stream": "stdout",
       "text": [
        "\r",
        "Plotting row 633"
       ]
      },
      {
       "output_type": "stream",
       "stream": "stdout",
       "text": [
        "\r",
        "Plotting row 634"
       ]
      },
      {
       "output_type": "stream",
       "stream": "stdout",
       "text": [
        "\r",
        "Plotting row 635"
       ]
      },
      {
       "output_type": "stream",
       "stream": "stdout",
       "text": [
        "\r",
        "Plotting row 636"
       ]
      },
      {
       "output_type": "stream",
       "stream": "stdout",
       "text": [
        "\r",
        "Plotting row 637"
       ]
      },
      {
       "output_type": "stream",
       "stream": "stdout",
       "text": [
        "\r",
        "Plotting row 638"
       ]
      },
      {
       "output_type": "stream",
       "stream": "stdout",
       "text": [
        "\r",
        "Plotting row 639"
       ]
      },
      {
       "output_type": "stream",
       "stream": "stdout",
       "text": [
        "\r",
        "Plotting row 640"
       ]
      },
      {
       "output_type": "stream",
       "stream": "stdout",
       "text": [
        "\r",
        "Plotting row 641"
       ]
      },
      {
       "output_type": "stream",
       "stream": "stdout",
       "text": [
        "\r",
        "Plotting row 642"
       ]
      },
      {
       "output_type": "stream",
       "stream": "stdout",
       "text": [
        "\r",
        "Plotting row 643"
       ]
      },
      {
       "output_type": "stream",
       "stream": "stdout",
       "text": [
        "\r",
        "Plotting row 644"
       ]
      },
      {
       "output_type": "stream",
       "stream": "stdout",
       "text": [
        "\r",
        "Plotting row 645"
       ]
      },
      {
       "output_type": "stream",
       "stream": "stdout",
       "text": [
        "\r",
        "Plotting row 646"
       ]
      },
      {
       "output_type": "stream",
       "stream": "stdout",
       "text": [
        "\r",
        "Plotting row 647"
       ]
      },
      {
       "output_type": "stream",
       "stream": "stdout",
       "text": [
        "\r",
        "Plotting row 648"
       ]
      },
      {
       "output_type": "stream",
       "stream": "stdout",
       "text": [
        "\r",
        "Plotting row 649"
       ]
      },
      {
       "output_type": "stream",
       "stream": "stdout",
       "text": [
        "\r",
        "Plotting row 650"
       ]
      },
      {
       "output_type": "stream",
       "stream": "stdout",
       "text": [
        "\r",
        "Plotting row 651"
       ]
      },
      {
       "output_type": "stream",
       "stream": "stdout",
       "text": [
        "\r",
        "Plotting row 652"
       ]
      },
      {
       "output_type": "stream",
       "stream": "stdout",
       "text": [
        "\r",
        "Plotting row 653"
       ]
      },
      {
       "output_type": "stream",
       "stream": "stdout",
       "text": [
        "\r",
        "Plotting row 654"
       ]
      },
      {
       "output_type": "stream",
       "stream": "stdout",
       "text": [
        "\r",
        "Plotting row 655"
       ]
      },
      {
       "output_type": "stream",
       "stream": "stdout",
       "text": [
        "\r",
        "Plotting row 656"
       ]
      },
      {
       "output_type": "stream",
       "stream": "stdout",
       "text": [
        "\r",
        "Plotting row 657"
       ]
      },
      {
       "output_type": "stream",
       "stream": "stdout",
       "text": [
        "\r",
        "Plotting row 658"
       ]
      },
      {
       "output_type": "stream",
       "stream": "stdout",
       "text": [
        "\r",
        "Plotting row 659"
       ]
      },
      {
       "output_type": "stream",
       "stream": "stdout",
       "text": [
        "\r",
        "Plotting row 660"
       ]
      },
      {
       "output_type": "stream",
       "stream": "stdout",
       "text": [
        "\r",
        "Plotting row 661"
       ]
      },
      {
       "output_type": "stream",
       "stream": "stdout",
       "text": [
        "\r",
        "Plotting row 662"
       ]
      },
      {
       "output_type": "stream",
       "stream": "stdout",
       "text": [
        "\r",
        "Plotting row 663"
       ]
      },
      {
       "output_type": "stream",
       "stream": "stdout",
       "text": [
        "\r",
        "Plotting row 664"
       ]
      },
      {
       "output_type": "stream",
       "stream": "stdout",
       "text": [
        "\r",
        "Plotting row 665"
       ]
      },
      {
       "output_type": "stream",
       "stream": "stdout",
       "text": [
        "\r",
        "Plotting row 666"
       ]
      },
      {
       "output_type": "stream",
       "stream": "stdout",
       "text": [
        "\r",
        "Plotting row 667"
       ]
      },
      {
       "output_type": "stream",
       "stream": "stdout",
       "text": [
        "\r",
        "Plotting row 668"
       ]
      },
      {
       "output_type": "stream",
       "stream": "stdout",
       "text": [
        "\r",
        "Plotting row 669"
       ]
      },
      {
       "output_type": "stream",
       "stream": "stdout",
       "text": [
        "\r",
        "Plotting row 670"
       ]
      },
      {
       "output_type": "stream",
       "stream": "stdout",
       "text": [
        "\r",
        "Plotting row 671"
       ]
      },
      {
       "output_type": "stream",
       "stream": "stdout",
       "text": [
        "\r",
        "Plotting row 672"
       ]
      },
      {
       "output_type": "stream",
       "stream": "stdout",
       "text": [
        "\r",
        "Plotting row 673"
       ]
      },
      {
       "output_type": "stream",
       "stream": "stdout",
       "text": [
        "\r",
        "Plotting row 674"
       ]
      },
      {
       "output_type": "stream",
       "stream": "stdout",
       "text": [
        "\r",
        "Plotting row 675"
       ]
      },
      {
       "output_type": "stream",
       "stream": "stdout",
       "text": [
        "\r",
        "Plotting row 676"
       ]
      },
      {
       "output_type": "stream",
       "stream": "stdout",
       "text": [
        "\r",
        "Plotting row 677"
       ]
      },
      {
       "output_type": "stream",
       "stream": "stdout",
       "text": [
        "\r",
        "Plotting row 678"
       ]
      },
      {
       "output_type": "stream",
       "stream": "stdout",
       "text": [
        "\r",
        "Plotting row 679"
       ]
      },
      {
       "output_type": "stream",
       "stream": "stdout",
       "text": [
        "\r",
        "Plotting row 680"
       ]
      },
      {
       "output_type": "stream",
       "stream": "stdout",
       "text": [
        "\r",
        "Plotting row 681"
       ]
      },
      {
       "output_type": "stream",
       "stream": "stdout",
       "text": [
        "\r",
        "Plotting row 682"
       ]
      },
      {
       "output_type": "stream",
       "stream": "stdout",
       "text": [
        "\r",
        "Plotting row 683"
       ]
      },
      {
       "output_type": "stream",
       "stream": "stdout",
       "text": [
        "\r",
        "Plotting row 684"
       ]
      },
      {
       "output_type": "stream",
       "stream": "stdout",
       "text": [
        "\r",
        "Plotting row 685"
       ]
      },
      {
       "output_type": "stream",
       "stream": "stdout",
       "text": [
        "\r",
        "Plotting row 686"
       ]
      },
      {
       "output_type": "stream",
       "stream": "stdout",
       "text": [
        "\r",
        "Plotting row 687"
       ]
      },
      {
       "output_type": "stream",
       "stream": "stdout",
       "text": [
        "\r",
        "Plotting row 688"
       ]
      },
      {
       "output_type": "stream",
       "stream": "stdout",
       "text": [
        "\r",
        "Plotting row 689"
       ]
      },
      {
       "output_type": "stream",
       "stream": "stdout",
       "text": [
        "\r",
        "Plotting row 690"
       ]
      },
      {
       "output_type": "stream",
       "stream": "stdout",
       "text": [
        "\r",
        "Plotting row 691"
       ]
      },
      {
       "output_type": "stream",
       "stream": "stdout",
       "text": [
        "\r",
        "Plotting row 692"
       ]
      },
      {
       "output_type": "stream",
       "stream": "stdout",
       "text": [
        "\r",
        "Plotting row 693"
       ]
      },
      {
       "output_type": "stream",
       "stream": "stdout",
       "text": [
        "\r",
        "Plotting row 694"
       ]
      },
      {
       "output_type": "stream",
       "stream": "stdout",
       "text": [
        "\r",
        "Plotting row 695"
       ]
      },
      {
       "output_type": "stream",
       "stream": "stdout",
       "text": [
        "\r",
        "Plotting row 696"
       ]
      },
      {
       "output_type": "stream",
       "stream": "stdout",
       "text": [
        "\r",
        "Plotting row 697"
       ]
      },
      {
       "output_type": "stream",
       "stream": "stdout",
       "text": [
        "\r",
        "Plotting row 698"
       ]
      },
      {
       "output_type": "stream",
       "stream": "stdout",
       "text": [
        "\r",
        "Plotting row 699"
       ]
      },
      {
       "output_type": "stream",
       "stream": "stdout",
       "text": [
        "\r",
        "Plotting row 700"
       ]
      },
      {
       "output_type": "stream",
       "stream": "stdout",
       "text": [
        "\r",
        "Plotting row 701"
       ]
      },
      {
       "output_type": "stream",
       "stream": "stdout",
       "text": [
        "\r",
        "Plotting row 702"
       ]
      },
      {
       "output_type": "stream",
       "stream": "stdout",
       "text": [
        "\r",
        "Plotting row 703"
       ]
      },
      {
       "output_type": "stream",
       "stream": "stdout",
       "text": [
        "\r",
        "Plotting row 704"
       ]
      },
      {
       "output_type": "stream",
       "stream": "stdout",
       "text": [
        "\r",
        "Plotting row 705"
       ]
      },
      {
       "output_type": "stream",
       "stream": "stdout",
       "text": [
        "\r",
        "Plotting row 706"
       ]
      },
      {
       "output_type": "stream",
       "stream": "stdout",
       "text": [
        "\r",
        "Plotting row 707"
       ]
      },
      {
       "output_type": "stream",
       "stream": "stdout",
       "text": [
        "\r",
        "Plotting row 708"
       ]
      },
      {
       "output_type": "stream",
       "stream": "stdout",
       "text": [
        "\r",
        "Plotting row 709"
       ]
      },
      {
       "output_type": "stream",
       "stream": "stdout",
       "text": [
        "\r",
        "Plotting row 710"
       ]
      },
      {
       "output_type": "stream",
       "stream": "stdout",
       "text": [
        "\r",
        "Plotting row 711"
       ]
      },
      {
       "output_type": "stream",
       "stream": "stdout",
       "text": [
        "\r",
        "Plotting row 712"
       ]
      },
      {
       "output_type": "stream",
       "stream": "stdout",
       "text": [
        "\r",
        "Plotting row 713"
       ]
      },
      {
       "output_type": "stream",
       "stream": "stdout",
       "text": [
        "\r",
        "Plotting row 714"
       ]
      },
      {
       "output_type": "stream",
       "stream": "stdout",
       "text": [
        "\r",
        "Plotting row 715"
       ]
      },
      {
       "output_type": "stream",
       "stream": "stdout",
       "text": [
        "\r",
        "Plotting row 716"
       ]
      },
      {
       "output_type": "stream",
       "stream": "stdout",
       "text": [
        "\r",
        "Plotting row 717"
       ]
      },
      {
       "output_type": "stream",
       "stream": "stdout",
       "text": [
        "\r",
        "Plotting row 718"
       ]
      },
      {
       "output_type": "stream",
       "stream": "stdout",
       "text": [
        "\r",
        "Plotting row 719"
       ]
      }
     ],
     "prompt_number": 164
    },
    {
     "cell_type": "code",
     "collapsed": false,
     "input": [
      "## find kmeans\n",
      "flowPoints = np.reshape(flow, [flow.shape[0]*flow.shape[1], flow.shape[2]])\n",
      "\n",
      "criteria = (cv2.TERM_CRITERIA_EPS + cv2.TERM_CRITERIA_MAX_ITER, 10, 1.0)\n",
      "\n",
      "# Set flags (Just to avoid line break in the code)\n",
      "flags = cv2.KMEANS_RANDOM_CENTERS\n",
      "\n",
      "# Apply KMeans\n",
      "compactness,labels,centers = cv2.kmeans(flowPoints,3,None,criteria,10,flags)"
     ],
     "language": "python",
     "metadata": {},
     "outputs": [],
     "prompt_number": 165
    },
    {
     "cell_type": "code",
     "collapsed": false,
     "input": [
      "## reshape the given labels to image size as now each pixel in original image will have been assigned a label based on its flow\n",
      "labelsImg = np.reshape(labels, [flow.shape[0], flow.shape[1]])\n",
      "figure()\n",
      "imshow(labelsImg)"
     ],
     "language": "python",
     "metadata": {},
     "outputs": [
      {
       "metadata": {},
       "output_type": "pyout",
       "prompt_number": 166,
       "text": [
        "<matplotlib.image.AxesImage at 0x7f1562312810>"
       ]
      }
     ],
     "prompt_number": 166
    },
    {
     "cell_type": "code",
     "collapsed": false,
     "input": [
      "## plot frame with clusters overlaid on top\n",
      "figure()\n",
      "imshow(cv2.cvtColor(movie[:, :, :, f-1],cv2.COLOR_BGR2RGB))\n",
      "imshow(labelsImg, alpha=0.5)"
     ],
     "language": "python",
     "metadata": {},
     "outputs": [
      {
       "metadata": {},
       "output_type": "pyout",
       "prompt_number": 168,
       "text": [
        "<matplotlib.image.AxesImage at 0x7f156d235bd0>"
       ]
      }
     ],
     "prompt_number": 168
    },
    {
     "cell_type": "code",
     "collapsed": false,
     "input": [
      "## compute canny edge for first 2 frames\n",
      "frame1 = cv2.cvtColor(movie[:, :, :, 0],cv2.COLOR_BGR2GRAY)\n",
      "frame2 = cv2.cvtColor(movie[:, :, :, 1],cv2.COLOR_BGR2GRAY)\n",
      "\n",
      "edges1 = cv2.Canny(frame1, 100, 200)\n",
      "edges2 = cv2.Canny(frame2, 100, 200)\n",
      "\n",
      "dilEdges1 = sp.ndimage.morphology.binary_dilation(edges1, iterations=5)\n",
      "dilEdges2 = sp.ndimage.morphology.binary_dilation(edges2, iterations=5)\n",
      "\n",
      "pyr_scale = float(0.5)\n",
      "poly_sigma = float(1.2)\n",
      "flow = cv2.calcOpticalFlowFarneback(frame1*dilEdges1, frame2*dilEdges2, None, 0.5, 3, 15, 3, 5, 1.2, 0)\n",
      "\n",
      "figure()\n",
      "imshow(cv2.cvtColor(movie[:, :, :, 0]*np.repeat(np.reshape(dilEdges1, [dilEdges1.shape[0], dilEdges1.shape[1], 1]), 3, axis=2),cv2.COLOR_BGR2RGB))\n",
      "figure()\n",
      "imshow(cv2.cvtColor(movie[:, :, :, 1]*np.repeat(np.reshape(dilEdges2, [dilEdges2.shape[0], dilEdges2.shape[1], 1]), 3, axis=2),cv2.COLOR_BGR2RGB))\n",
      "figure()\n",
      "imshow(getRGBFlow(flow))"
     ],
     "language": "python",
     "metadata": {},
     "outputs": [
      {
       "output_type": "stream",
       "stream": "stdout",
       "text": [
        "(720, 1280, 2)\n"
       ]
      },
      {
       "metadata": {},
       "output_type": "pyout",
       "prompt_number": 159,
       "text": [
        "<matplotlib.image.AxesImage at 0x7f1589cc5f50>"
       ]
      }
     ],
     "prompt_number": 159
    },
    {
     "cell_type": "code",
     "collapsed": false,
     "input": [
      "kp = sift.detect(cv2.cvtColor(movie[:, :, :, 0],cv2.COLOR_BGR2RGB), np.array(dilEdges1, dtype=uint8))\n",
      "points = cv2.KeyPoint_convert(kp)\n",
      "\n",
      "# img=cv2.drawKeypoints(gray,kp)\n",
      "figure()\n",
      "implot = plt.imshow(cv2.cvtColor(movie[:, :, :, 0],cv2.COLOR_BGR2RGB))\n",
      "\n",
      "# show key points\n",
      "plt.scatter(points[:, 0], points[:, 1], color='r', marker='x')\n",
      "\n",
      "plt.show()"
     ],
     "language": "python",
     "metadata": {},
     "outputs": [],
     "prompt_number": 160
    },
    {
     "cell_type": "code",
     "collapsed": false,
     "input": [
      "print np.max(np.array(dilEdges1, dtype=uint))"
     ],
     "language": "python",
     "metadata": {},
     "outputs": [
      {
       "output_type": "stream",
       "stream": "stdout",
       "text": [
        "1\n"
       ]
      }
     ],
     "prompt_number": 153
    },
    {
     "cell_type": "code",
     "collapsed": false,
     "input": [
      "tmp = flow[300:305, 300:305, :]\n",
      "print tmp\n",
      "print tmp[0, :]\n",
      "print np.reshape(tmp, [tmp.shape[0]*tmp.shape[1], tmp.shape[2]])[:, 0]"
     ],
     "language": "python",
     "metadata": {},
     "outputs": [
      {
       "output_type": "stream",
       "stream": "stdout",
       "text": [
        "[[[ 0.93888342 -0.04048543]\n",
        "  [ 0.94147068 -0.03483209]\n",
        "  [ 0.95149487 -0.0301386 ]\n",
        "  [ 0.94379127 -0.02918863]\n",
        "  [ 0.93743467 -0.02979704]]\n",
        "\n",
        " [[ 0.90395695 -0.03833983]\n",
        "  [ 0.92493379 -0.03223745]\n",
        "  [ 0.94251144 -0.02797066]\n",
        "  [ 0.92780805 -0.02845061]\n",
        "  [ 0.91960365 -0.0295503 ]]\n",
        "\n",
        " [[ 0.90045863 -0.01324339]\n",
        "  [ 0.92795604 -0.00635156]\n",
        "  [ 0.9404555  -0.00357314]\n",
        "  [ 0.92054349 -0.00647124]\n",
        "  [ 0.9186753  -0.00910209]]\n",
        "\n",
        " [[ 0.86533815  0.01498254]\n",
        "  [ 0.88197839  0.02550313]\n",
        "  [ 0.86812538  0.03018469]\n",
        "  [ 0.83907092  0.02956229]\n",
        "  [ 0.85544181  0.02987546]]\n",
        "\n",
        " [[ 0.79008549  0.00591575]\n",
        "  [ 0.79227823  0.013135  ]\n",
        "  [ 0.7487886   0.01453906]\n",
        "  [ 0.70287496  0.01345369]\n",
        "  [ 0.73102695  0.0170378 ]]]\n",
        "[[ 0.93888342 -0.04048543]\n",
        " [ 0.94147068 -0.03483209]\n",
        " [ 0.95149487 -0.0301386 ]\n",
        " [ 0.94379127 -0.02918863]\n",
        " [ 0.93743467 -0.02979704]]\n",
        "[ 0.93888342  0.94147068  0.95149487  0.94379127  0.93743467  0.90395695\n",
        "  0.92493379  0.94251144  0.92780805  0.91960365  0.90045863  0.92795604\n",
        "  0.9404555   0.92054349  0.9186753   0.86533815  0.88197839  0.86812538\n",
        "  0.83907092  0.85544181  0.79008549  0.79227823  0.7487886   0.70287496\n",
        "  0.73102695]\n"
       ]
      }
     ],
     "prompt_number": 91
    },
    {
     "cell_type": "code",
     "collapsed": false,
     "input": [
      "print np.max(flow[400, :, 0])\n",
      "print np.max(flow[400, :, 1])"
     ],
     "language": "python",
     "metadata": {},
     "outputs": [
      {
       "output_type": "stream",
       "stream": "stdout",
       "text": [
        "0.776764\n",
        "7.52437\n"
       ]
      }
     ],
     "prompt_number": 52
    },
    {
     "cell_type": "code",
     "collapsed": false,
     "input": [
      "## find SIFT and plot onto image\n",
      "# gray= np.dot(movie[:,:,:3, 0], [0.0722, 0.7152, 0.2126])\n",
      "img = cv2.cvtColor(movie[:, :, :, 0], cv2.COLOR_BGR2RGB)\n",
      "print img.shape\n",
      "\n",
      "sift = cv2.SIFT()\n",
      "kp = sift.detect(img,None)\n",
      "\n",
      "points = cv2.KeyPoint_convert(kp)\n",
      "# print points.shape\n",
      "\n",
      "# img=cv2.drawKeypoints(gray,kp)\n",
      "figure()\n",
      "implot = plt.imshow(img)\n",
      "\n",
      "# put a blue dot at (10, 20)\n",
      "plt.scatter(points[:, 0], points[:, 1], color='r', marker='x')\n",
      "\n",
      "# put a red dot, size 40, at 2 locations:\n",
      "# plt.scatter(x=[30, 40], y=[50, 60], c='r', s=40)\n",
      "\n",
      "plt.show()"
     ],
     "language": "python",
     "metadata": {},
     "outputs": [
      {
       "output_type": "stream",
       "stream": "stdout",
       "text": [
        "(720, 1280, 3)\n"
       ]
      }
     ],
     "prompt_number": 40
    },
    {
     "cell_type": "code",
     "collapsed": false,
     "input": [
      "print np.max(movie[:, :, :, 0])\n",
      "print np.max(tmp)"
     ],
     "language": "python",
     "metadata": {},
     "outputs": [
      {
       "output_type": "stream",
       "stream": "stdout",
       "text": [
        "255\n",
        "255\n"
       ]
      }
     ],
     "prompt_number": 36
    },
    {
     "cell_type": "code",
     "collapsed": false,
     "input": [
      "## play frames automagically\n",
      "frames = arange(0, len(frameNames))\n",
      "\n",
      "def _blit_draw(self, artists, bg_cache):\n",
      "    # Handles blitted drawing, which renders only the artists given instead\n",
      "    # of the entire figure.\n",
      "    updated_ax = []\n",
      "    for a in artists:\n",
      "        # If we haven't cached the background for this axes object, do\n",
      "        # so now. This might not always be reliable, but it's an attempt\n",
      "        # to automate the process.\n",
      "        if a.axes not in bg_cache:\n",
      "            # bg_cache[a.axes] = a.figure.canvas.copy_from_bbox(a.axes.bbox)\n",
      "            # change here\n",
      "            bg_cache[a.axes] = a.figure.canvas.copy_from_bbox(a.axes.figure.bbox)\n",
      "        a.axes.draw_artist(a)\n",
      "        updated_ax.append(a.axes)\n",
      "\n",
      "    # After rendering all the needed artists, blit each axes individually.\n",
      "    for ax in set(updated_ax):\n",
      "        # and here\n",
      "        # ax.figure.canvas.blit(ax.bbox)\n",
      "        ax.figure.canvas.blit(ax.figure.bbox)\n",
      "\n",
      "# MONKEY PATCH!!\n",
      "matplotlib.animation.Animation._blit_draw = _blit_draw\n",
      "\n",
      "fig=plt.figure()\n",
      "img = plt.imshow(movie[:, :, :, frames[0]])\n",
      "img.set_cmap(cm.Greys_r)\n",
      "img.axes.set_axis_off()\n",
      "ax = plt.axes()\n",
      "ttl = ax.text(.5, 1.05, '', transform = ax.transAxes, va='center')\n",
      "\n",
      "def init():\n",
      "    ttl.set_text('')\n",
      "    img.set_data(cv2.cvtColor(movie[:, :, :, frames[0]], cv2.COLOR_BGR2RGB))\n",
      "    return img, ttl\n",
      "\n",
      "def func(f):\n",
      "    ttl.set_text('Frame ' + str(f))\n",
      "    img.set_data(cv2.cvtColor(movie[:, :, :, frames[f]], cv2.COLOR_BGR2RGB))\n",
      "    return img, ttl\n",
      "\n",
      "ani = animation.FuncAnimation(fig,func,init_func=init,frames=len(frames),interval=30,blit=True)\n",
      "\n",
      "plt.show()"
     ],
     "language": "python",
     "metadata": {},
     "outputs": [],
     "prompt_number": 43
    }
   ],
   "metadata": {}
  }
 ]
}